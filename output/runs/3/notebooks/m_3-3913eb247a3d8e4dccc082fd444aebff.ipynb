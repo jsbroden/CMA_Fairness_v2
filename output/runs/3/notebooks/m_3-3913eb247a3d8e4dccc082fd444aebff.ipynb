{
 "cells": [
  {
   "cell_type": "markdown",
   "id": "ef23dbb3",
   "metadata": {
    "papermill": {
     "duration": 0.012398,
     "end_time": "2025-08-19T18:41:49.001900",
     "exception": false,
     "start_time": "2025-08-19T18:41:48.989502",
     "status": "completed"
    },
    "tags": []
   },
   "source": [
    "# Setup"
   ]
  },
  {
   "cell_type": "code",
   "execution_count": 1,
   "id": "0bc8e7dc",
   "metadata": {
    "execution": {
     "iopub.execute_input": "2025-08-19T18:41:49.022278Z",
     "iopub.status.busy": "2025-08-19T18:41:49.021043Z",
     "iopub.status.idle": "2025-08-19T18:41:49.041911Z",
     "shell.execute_reply": "2025-08-19T18:41:49.040580Z"
    },
    "papermill": {
     "duration": 0.034825,
     "end_time": "2025-08-19T18:41:49.045398",
     "exception": false,
     "start_time": "2025-08-19T18:41:49.010573",
     "status": "completed"
    },
    "tags": []
   },
   "outputs": [
    {
     "name": "stdout",
     "output_type": "stream",
     "text": [
      "/dss/dsshome1/0C/ra93lal2/cma/CMA_Fairness_v2\n"
     ]
    },
    {
     "name": "stderr",
     "output_type": "stream",
     "text": [
      "/dss/dsshome1/0C/ra93lal2/.local/share/virtualenvs/CMA_Fairness_v2-3j10GkSs/lib/python3.10/site-packages/IPython/core/magics/osm.py:393: UserWarning: This is now an optional IPython functionality, using bookmarks requires you to install the `pickleshare` library.\n",
      "  bkms = self.shell.db.get('bookmarks', {})\n",
      "/dss/dsshome1/0C/ra93lal2/.local/share/virtualenvs/CMA_Fairness_v2-3j10GkSs/lib/python3.10/site-packages/IPython/core/magics/osm.py:417: UserWarning: This is now an optional IPython functionality, setting dhist requires you to install the `pickleshare` library.\n",
      "  self.shell.db['dhist'] = compress_dhist(dhist)[-100:]\n"
     ]
    }
   ],
   "source": [
    "%cd ~/cma/CMA_Fairness_v2"
   ]
  },
  {
   "cell_type": "markdown",
   "id": "9d235661",
   "metadata": {
    "papermill": {
     "duration": 0.009006,
     "end_time": "2025-08-19T18:41:49.066999",
     "exception": false,
     "start_time": "2025-08-19T18:41:49.057993",
     "status": "completed"
    },
    "tags": []
   },
   "source": [
    "The following cell holds the definition of our parameters, these values can be overriden by rendering the with e.g. the following command:\n",
    "\n",
    "papermill -p alpha 0.2 -p ratio 0.3 universe_analysis.ipynb output/test_run.ipynb"
   ]
  },
  {
   "cell_type": "code",
   "execution_count": 2,
   "id": "4a789d8e",
   "metadata": {
    "execution": {
     "iopub.execute_input": "2025-08-19T18:41:49.087021Z",
     "iopub.status.busy": "2025-08-19T18:41:49.086012Z",
     "iopub.status.idle": "2025-08-19T18:41:49.094157Z",
     "shell.execute_reply": "2025-08-19T18:41:49.092763Z"
    },
    "papermill": {
     "duration": 0.02024,
     "end_time": "2025-08-19T18:41:49.095862",
     "exception": false,
     "start_time": "2025-08-19T18:41:49.075622",
     "status": "completed"
    },
    "tags": []
   },
   "outputs": [
    {
     "name": "stdout",
     "output_type": "stream",
     "text": [
      "Current working directory: /dss/dsshome1/0C/ra93lal2/cma/CMA_Fairness_v2\n"
     ]
    }
   ],
   "source": [
    "import os\n",
    "print(\"Current working directory:\", os.getcwd())"
   ]
  },
  {
   "cell_type": "code",
   "execution_count": 3,
   "id": "4132aaed",
   "metadata": {
    "execution": {
     "iopub.execute_input": "2025-08-19T18:41:49.117444Z",
     "iopub.status.busy": "2025-08-19T18:41:49.116292Z",
     "iopub.status.idle": "2025-08-19T18:41:49.127209Z",
     "shell.execute_reply": "2025-08-19T18:41:49.125839Z"
    },
    "papermill": {
     "duration": 0.023786,
     "end_time": "2025-08-19T18:41:49.128869",
     "exception": false,
     "start_time": "2025-08-19T18:41:49.105083",
     "status": "completed"
    },
    "tags": [
     "parameters"
    ]
   },
   "outputs": [],
   "source": [
    "run_no = 0\n",
    "universe_id = \"test\"\n",
    "universe = {\n",
    "    \"training_size\": \"5k\", # \"25k\", \"5k\", \"1k\"\n",
    "    \"training_year\": \"2012_14\", # \"2014\", \"2012_14\", \"2010_14\"\n",
    "    \"scale\": \"scale\", # \"scale\", \"do-not-scale\",\n",
    "    \"model\": \"elasticnet\", # \"logreg\", \"penalized_logreg\", \"rf\", \"gbm\", \"elasticnet\"\n",
    "    \"cutoff\": [\"quantile_0.15\", \"quantile_0.30\"],\n",
    "    \"exclude_features\": \"age\", # \"none\", \"nationality\", \"sex\", \"nationality-sex\", \"age\"\n",
    "    \"exclude_subgroups\": \"drop-non-german\", # \"keep-all\", \"drop-non-german\"\n",
    "    \"eval_fairness_grouping\": [\"majority-minority\", \"nationality-all\"]\n",
    "}\n",
    "\n",
    "output_dir=\"./output\"\n",
    "seed=0"
   ]
  },
  {
   "cell_type": "code",
   "execution_count": 4,
   "id": "25b9844e",
   "metadata": {
    "execution": {
     "iopub.execute_input": "2025-08-19T18:41:49.152064Z",
     "iopub.status.busy": "2025-08-19T18:41:49.150911Z",
     "iopub.status.idle": "2025-08-19T18:41:49.160065Z",
     "shell.execute_reply": "2025-08-19T18:41:49.158409Z"
    },
    "papermill": {
     "duration": 0.021457,
     "end_time": "2025-08-19T18:41:49.161703",
     "exception": false,
     "start_time": "2025-08-19T18:41:49.140246",
     "status": "completed"
    },
    "tags": [
     "injected-parameters"
    ]
   },
   "outputs": [],
   "source": [
    "# Parameters\n",
    "universe_id = \"3913eb247a3d8e4dccc082fd444aebff\"\n",
    "run_no = \"3\"\n",
    "universe = \"{\\\"cutoff\\\": [\\\"quantile_0.1\\\", \\\"quantile_0.25\\\"], \\\"eval_fairness_grouping\\\": [\\\"majority-minority\\\", \\\"nationality-all\\\"], \\\"exclude_features\\\": \\\"nationality\\\", \\\"exclude_subgroups\\\": \\\"keep-all\\\", \\\"model\\\": \\\"rf\\\", \\\"scale\\\": \\\"scale\\\", \\\"training_size\\\": \\\"5k\\\", \\\"training_year\\\": \\\"2010_14\\\"}\"\n",
    "output_dir = \"output\"\n",
    "seed = \"2023\"\n"
   ]
  },
  {
   "cell_type": "code",
   "execution_count": 5,
   "id": "a5d7941f",
   "metadata": {
    "execution": {
     "iopub.execute_input": "2025-08-19T18:41:49.184902Z",
     "iopub.status.busy": "2025-08-19T18:41:49.183739Z",
     "iopub.status.idle": "2025-08-19T18:41:49.192282Z",
     "shell.execute_reply": "2025-08-19T18:41:49.190736Z"
    },
    "papermill": {
     "duration": 0.021178,
     "end_time": "2025-08-19T18:41:49.194179",
     "exception": false,
     "start_time": "2025-08-19T18:41:49.173001",
     "status": "completed"
    },
    "tags": []
   },
   "outputs": [],
   "source": [
    "import json\n",
    "if isinstance(universe, str):\n",
    "    universe = json.loads(universe)"
   ]
  },
  {
   "cell_type": "code",
   "execution_count": 6,
   "id": "7076ccb1",
   "metadata": {
    "execution": {
     "iopub.execute_input": "2025-08-19T18:41:49.218844Z",
     "iopub.status.busy": "2025-08-19T18:41:49.217751Z",
     "iopub.status.idle": "2025-08-19T18:41:49.267932Z",
     "shell.execute_reply": "2025-08-19T18:41:49.267244Z"
    },
    "papermill": {
     "duration": 0.064348,
     "end_time": "2025-08-19T18:41:49.270446",
     "exception": false,
     "start_time": "2025-08-19T18:41:49.206098",
     "status": "completed"
    },
    "tags": []
   },
   "outputs": [],
   "source": [
    "# Auto-reload the custom package\n",
    "%load_ext autoreload\n",
    "%autoreload 1\n",
    "%aimport fairness_multiverse"
   ]
  },
  {
   "cell_type": "code",
   "execution_count": 7,
   "id": "94c8eb93",
   "metadata": {
    "execution": {
     "iopub.execute_input": "2025-08-19T18:41:49.307299Z",
     "iopub.status.busy": "2025-08-19T18:41:49.306261Z",
     "iopub.status.idle": "2025-08-19T18:41:50.870309Z",
     "shell.execute_reply": "2025-08-19T18:41:50.868774Z"
    },
    "papermill": {
     "duration": 1.579379,
     "end_time": "2025-08-19T18:41:50.872232",
     "exception": false,
     "start_time": "2025-08-19T18:41:49.292853",
     "status": "completed"
    },
    "tags": []
   },
   "outputs": [],
   "source": [
    "from fairness_multiverse.universe import UniverseAnalysis\n",
    "\n",
    "universe_analysis = UniverseAnalysis(\n",
    "    run_no = run_no,\n",
    "    universe_id = universe_id,\n",
    "    universe = universe,\n",
    "    output_dir=output_dir,\n",
    ")"
   ]
  },
  {
   "cell_type": "code",
   "execution_count": 8,
   "id": "2a6381cf",
   "metadata": {
    "execution": {
     "iopub.execute_input": "2025-08-19T18:41:50.893865Z",
     "iopub.status.busy": "2025-08-19T18:41:50.893508Z",
     "iopub.status.idle": "2025-08-19T18:41:50.900533Z",
     "shell.execute_reply": "2025-08-19T18:41:50.899679Z"
    },
    "papermill": {
     "duration": 0.021551,
     "end_time": "2025-08-19T18:41:50.903850",
     "exception": false,
     "start_time": "2025-08-19T18:41:50.882299",
     "status": "completed"
    },
    "tags": []
   },
   "outputs": [
    {
     "name": "stdout",
     "output_type": "stream",
     "text": [
      "Using Seed: 2023\n"
     ]
    }
   ],
   "source": [
    "import numpy as np\n",
    "parsed_seed = int(seed)\n",
    "np.random.seed(parsed_seed)\n",
    "print(f\"Using Seed: {parsed_seed}\")"
   ]
  },
  {
   "cell_type": "markdown",
   "id": "b6e958b4",
   "metadata": {
    "papermill": {
     "duration": 0.012657,
     "end_time": "2025-08-19T18:41:50.939056",
     "exception": false,
     "start_time": "2025-08-19T18:41:50.926399",
     "status": "completed"
    },
    "tags": []
   },
   "source": [
    "# Loading Data"
   ]
  },
  {
   "cell_type": "code",
   "execution_count": 9,
   "id": "98701482",
   "metadata": {
    "execution": {
     "iopub.execute_input": "2025-08-19T18:41:50.958902Z",
     "iopub.status.busy": "2025-08-19T18:41:50.958600Z",
     "iopub.status.idle": "2025-08-19T18:42:01.104307Z",
     "shell.execute_reply": "2025-08-19T18:42:01.101985Z"
    },
    "papermill": {
     "duration": 10.157721,
     "end_time": "2025-08-19T18:42:01.106030",
     "exception": false,
     "start_time": "2025-08-19T18:41:50.948309",
     "status": "completed"
    },
    "tags": []
   },
   "outputs": [
    {
     "name": "stdout",
     "output_type": "stream",
     "text": [
      "Loading SIAB data from cache: data/siab_cached.csv.gz\n"
     ]
    },
    {
     "name": "stdout",
     "output_type": "stream",
     "text": [
      "(643690, 164)\n"
     ]
    }
   ],
   "source": [
    "from pathlib import Path\n",
    "import pandas as pd\n",
    "\n",
    "# File paths\n",
    "raw_file = Path(\"data/raw/siab.csv\")\n",
    "cache_file = Path(\"data/siab_cached.csv.gz\")\n",
    "\n",
    "# Ensure cache directory exists\n",
    "cache_file.parent.mkdir(parents=True, exist_ok=True)\n",
    "\n",
    "# Load with simple caching\n",
    "if cache_file.exists():\n",
    "    print(f\"Loading SIAB data from cache: {cache_file}\")\n",
    "    siab = pd.read_csv(cache_file, compression='gzip')\n",
    "else:\n",
    "    print(f\"Cache not found. Reading raw SIAB data: {raw_file}\")\n",
    "    siab = pd.read_csv(raw_file)\n",
    "    siab.to_csv(cache_file, index=False, compression='gzip')\n",
    "    print(f\"Cached SIAB data to: {cache_file}\")\n",
    "\n",
    "print(siab.shape)"
   ]
  },
  {
   "cell_type": "code",
   "execution_count": 10,
   "id": "058d2abb",
   "metadata": {
    "execution": {
     "iopub.execute_input": "2025-08-19T18:42:01.132397Z",
     "iopub.status.busy": "2025-08-19T18:42:01.131192Z",
     "iopub.status.idle": "2025-08-19T18:42:01.288006Z",
     "shell.execute_reply": "2025-08-19T18:42:01.287102Z"
    },
    "papermill": {
     "duration": 0.170641,
     "end_time": "2025-08-19T18:42:01.289701",
     "exception": false,
     "start_time": "2025-08-19T18:42:01.119060",
     "status": "completed"
    },
    "tags": []
   },
   "outputs": [
    {
     "data": {
      "text/html": [
       "<div>\n",
       "<style scoped>\n",
       "    .dataframe tbody tr th:only-of-type {\n",
       "        vertical-align: middle;\n",
       "    }\n",
       "\n",
       "    .dataframe tbody tr th {\n",
       "        vertical-align: top;\n",
       "    }\n",
       "\n",
       "    .dataframe thead th {\n",
       "        text-align: right;\n",
       "    }\n",
       "</style>\n",
       "<table border=\"1\" class=\"dataframe\">\n",
       "  <thead>\n",
       "    <tr style=\"text-align: right;\">\n",
       "      <th></th>\n",
       "      <th>persnr</th>\n",
       "      <th>year</th>\n",
       "      <th>nrEntry</th>\n",
       "      <th>ltue</th>\n",
       "      <th>employed_before</th>\n",
       "      <th>receipt_leh_before</th>\n",
       "      <th>receipt_lhg_before</th>\n",
       "      <th>se_before</th>\n",
       "      <th>ASU_notue_seeking_before</th>\n",
       "      <th>ASU_other_before</th>\n",
       "      <th>...</th>\n",
       "      <th>minijob_tot_dur_byage</th>\n",
       "      <th>ft_tot_dur_byage</th>\n",
       "      <th>befrist_tot_dur_byage</th>\n",
       "      <th>leih_tot_dur_byage</th>\n",
       "      <th>LHG_tot_dur_byage</th>\n",
       "      <th>LEH_tot_dur_byage</th>\n",
       "      <th>almp_tot_dur_byage</th>\n",
       "      <th>almp_aw_tot_dur_byage</th>\n",
       "      <th>se_tot_dur_byage</th>\n",
       "      <th>seeking1_tot_dur_byage</th>\n",
       "    </tr>\n",
       "  </thead>\n",
       "  <tbody>\n",
       "    <tr>\n",
       "      <th>0</th>\n",
       "      <td>7</td>\n",
       "      <td>2015</td>\n",
       "      <td>1</td>\n",
       "      <td>0</td>\n",
       "      <td>1</td>\n",
       "      <td>0</td>\n",
       "      <td>0</td>\n",
       "      <td>0</td>\n",
       "      <td>1</td>\n",
       "      <td>0</td>\n",
       "      <td>...</td>\n",
       "      <td>0.000000</td>\n",
       "      <td>0.000000</td>\n",
       "      <td>15.043478</td>\n",
       "      <td>0.000000</td>\n",
       "      <td>0.000000</td>\n",
       "      <td>0.000000</td>\n",
       "      <td>0.000000</td>\n",
       "      <td>0.000000</td>\n",
       "      <td>0.000000</td>\n",
       "      <td>0.000000</td>\n",
       "    </tr>\n",
       "    <tr>\n",
       "      <th>1</th>\n",
       "      <td>18</td>\n",
       "      <td>2010</td>\n",
       "      <td>1</td>\n",
       "      <td>1</td>\n",
       "      <td>0</td>\n",
       "      <td>0</td>\n",
       "      <td>0</td>\n",
       "      <td>0</td>\n",
       "      <td>0</td>\n",
       "      <td>0</td>\n",
       "      <td>...</td>\n",
       "      <td>0.000000</td>\n",
       "      <td>0.000000</td>\n",
       "      <td>0.000000</td>\n",
       "      <td>0.000000</td>\n",
       "      <td>0.000000</td>\n",
       "      <td>0.000000</td>\n",
       "      <td>0.000000</td>\n",
       "      <td>0.000000</td>\n",
       "      <td>0.000000</td>\n",
       "      <td>0.000000</td>\n",
       "    </tr>\n",
       "    <tr>\n",
       "      <th>2</th>\n",
       "      <td>18</td>\n",
       "      <td>2011</td>\n",
       "      <td>2</td>\n",
       "      <td>0</td>\n",
       "      <td>1</td>\n",
       "      <td>0</td>\n",
       "      <td>1</td>\n",
       "      <td>0</td>\n",
       "      <td>1</td>\n",
       "      <td>0</td>\n",
       "      <td>...</td>\n",
       "      <td>2.714286</td>\n",
       "      <td>2.714286</td>\n",
       "      <td>0.000000</td>\n",
       "      <td>0.000000</td>\n",
       "      <td>10.775510</td>\n",
       "      <td>0.000000</td>\n",
       "      <td>8.367347</td>\n",
       "      <td>0.000000</td>\n",
       "      <td>0.000000</td>\n",
       "      <td>9.836735</td>\n",
       "    </tr>\n",
       "    <tr>\n",
       "      <th>3</th>\n",
       "      <td>18</td>\n",
       "      <td>2012</td>\n",
       "      <td>3</td>\n",
       "      <td>0</td>\n",
       "      <td>1</td>\n",
       "      <td>0</td>\n",
       "      <td>1</td>\n",
       "      <td>0</td>\n",
       "      <td>1</td>\n",
       "      <td>0</td>\n",
       "      <td>...</td>\n",
       "      <td>4.200000</td>\n",
       "      <td>4.200000</td>\n",
       "      <td>0.000000</td>\n",
       "      <td>0.000000</td>\n",
       "      <td>12.100000</td>\n",
       "      <td>0.000000</td>\n",
       "      <td>9.400000</td>\n",
       "      <td>0.000000</td>\n",
       "      <td>0.000000</td>\n",
       "      <td>9.960000</td>\n",
       "    </tr>\n",
       "    <tr>\n",
       "      <th>4</th>\n",
       "      <td>18</td>\n",
       "      <td>2012</td>\n",
       "      <td>4</td>\n",
       "      <td>0</td>\n",
       "      <td>1</td>\n",
       "      <td>0</td>\n",
       "      <td>1</td>\n",
       "      <td>0</td>\n",
       "      <td>1</td>\n",
       "      <td>0</td>\n",
       "      <td>...</td>\n",
       "      <td>5.460000</td>\n",
       "      <td>5.460000</td>\n",
       "      <td>0.000000</td>\n",
       "      <td>0.000000</td>\n",
       "      <td>13.360000</td>\n",
       "      <td>0.000000</td>\n",
       "      <td>10.320000</td>\n",
       "      <td>0.000000</td>\n",
       "      <td>0.000000</td>\n",
       "      <td>10.280000</td>\n",
       "    </tr>\n",
       "    <tr>\n",
       "      <th>...</th>\n",
       "      <td>...</td>\n",
       "      <td>...</td>\n",
       "      <td>...</td>\n",
       "      <td>...</td>\n",
       "      <td>...</td>\n",
       "      <td>...</td>\n",
       "      <td>...</td>\n",
       "      <td>...</td>\n",
       "      <td>...</td>\n",
       "      <td>...</td>\n",
       "      <td>...</td>\n",
       "      <td>...</td>\n",
       "      <td>...</td>\n",
       "      <td>...</td>\n",
       "      <td>...</td>\n",
       "      <td>...</td>\n",
       "      <td>...</td>\n",
       "      <td>...</td>\n",
       "      <td>...</td>\n",
       "      <td>...</td>\n",
       "      <td>...</td>\n",
       "    </tr>\n",
       "    <tr>\n",
       "      <th>643685</th>\n",
       "      <td>1827860</td>\n",
       "      <td>2013</td>\n",
       "      <td>1</td>\n",
       "      <td>0</td>\n",
       "      <td>0</td>\n",
       "      <td>0</td>\n",
       "      <td>1</td>\n",
       "      <td>0</td>\n",
       "      <td>0</td>\n",
       "      <td>1</td>\n",
       "      <td>...</td>\n",
       "      <td>0.000000</td>\n",
       "      <td>0.000000</td>\n",
       "      <td>0.000000</td>\n",
       "      <td>0.000000</td>\n",
       "      <td>0.612903</td>\n",
       "      <td>0.000000</td>\n",
       "      <td>0.000000</td>\n",
       "      <td>0.000000</td>\n",
       "      <td>0.000000</td>\n",
       "      <td>0.000000</td>\n",
       "    </tr>\n",
       "    <tr>\n",
       "      <th>643686</th>\n",
       "      <td>1827860</td>\n",
       "      <td>2015</td>\n",
       "      <td>2</td>\n",
       "      <td>1</td>\n",
       "      <td>0</td>\n",
       "      <td>0</td>\n",
       "      <td>1</td>\n",
       "      <td>0</td>\n",
       "      <td>1</td>\n",
       "      <td>0</td>\n",
       "      <td>...</td>\n",
       "      <td>0.000000</td>\n",
       "      <td>0.000000</td>\n",
       "      <td>0.212121</td>\n",
       "      <td>0.212121</td>\n",
       "      <td>17.363636</td>\n",
       "      <td>0.000000</td>\n",
       "      <td>8.909091</td>\n",
       "      <td>0.000000</td>\n",
       "      <td>0.000000</td>\n",
       "      <td>7.121212</td>\n",
       "    </tr>\n",
       "    <tr>\n",
       "      <th>643687</th>\n",
       "      <td>1827860</td>\n",
       "      <td>2016</td>\n",
       "      <td>3</td>\n",
       "      <td>1</td>\n",
       "      <td>0</td>\n",
       "      <td>0</td>\n",
       "      <td>1</td>\n",
       "      <td>1</td>\n",
       "      <td>0</td>\n",
       "      <td>1</td>\n",
       "      <td>...</td>\n",
       "      <td>0.000000</td>\n",
       "      <td>0.000000</td>\n",
       "      <td>0.294118</td>\n",
       "      <td>0.205882</td>\n",
       "      <td>34.705882</td>\n",
       "      <td>0.000000</td>\n",
       "      <td>10.352941</td>\n",
       "      <td>1.705882</td>\n",
       "      <td>1.705882</td>\n",
       "      <td>23.911765</td>\n",
       "    </tr>\n",
       "    <tr>\n",
       "      <th>643688</th>\n",
       "      <td>1827869</td>\n",
       "      <td>2013</td>\n",
       "      <td>1</td>\n",
       "      <td>1</td>\n",
       "      <td>1</td>\n",
       "      <td>0</td>\n",
       "      <td>0</td>\n",
       "      <td>0</td>\n",
       "      <td>1</td>\n",
       "      <td>0</td>\n",
       "      <td>...</td>\n",
       "      <td>0.000000</td>\n",
       "      <td>0.000000</td>\n",
       "      <td>0.000000</td>\n",
       "      <td>0.000000</td>\n",
       "      <td>0.000000</td>\n",
       "      <td>0.525424</td>\n",
       "      <td>0.000000</td>\n",
       "      <td>0.000000</td>\n",
       "      <td>0.000000</td>\n",
       "      <td>0.000000</td>\n",
       "    </tr>\n",
       "    <tr>\n",
       "      <th>643689</th>\n",
       "      <td>1827869</td>\n",
       "      <td>2014</td>\n",
       "      <td>2</td>\n",
       "      <td>0</td>\n",
       "      <td>0</td>\n",
       "      <td>1</td>\n",
       "      <td>0</td>\n",
       "      <td>0</td>\n",
       "      <td>1</td>\n",
       "      <td>0</td>\n",
       "      <td>...</td>\n",
       "      <td>0.000000</td>\n",
       "      <td>0.666667</td>\n",
       "      <td>0.666667</td>\n",
       "      <td>0.000000</td>\n",
       "      <td>0.000000</td>\n",
       "      <td>8.950000</td>\n",
       "      <td>1.033333</td>\n",
       "      <td>0.083333</td>\n",
       "      <td>0.083333</td>\n",
       "      <td>8.133333</td>\n",
       "    </tr>\n",
       "  </tbody>\n",
       "</table>\n",
       "<p>643690 rows × 164 columns</p>\n",
       "</div>"
      ],
      "text/plain": [
       "         persnr  year  nrEntry  ltue  employed_before  receipt_leh_before  \\\n",
       "0             7  2015        1     0                1                   0   \n",
       "1            18  2010        1     1                0                   0   \n",
       "2            18  2011        2     0                1                   0   \n",
       "3            18  2012        3     0                1                   0   \n",
       "4            18  2012        4     0                1                   0   \n",
       "...         ...   ...      ...   ...              ...                 ...   \n",
       "643685  1827860  2013        1     0                0                   0   \n",
       "643686  1827860  2015        2     1                0                   0   \n",
       "643687  1827860  2016        3     1                0                   0   \n",
       "643688  1827869  2013        1     1                1                   0   \n",
       "643689  1827869  2014        2     0                0                   1   \n",
       "\n",
       "        receipt_lhg_before  se_before  ASU_notue_seeking_before  \\\n",
       "0                        0          0                         1   \n",
       "1                        0          0                         0   \n",
       "2                        1          0                         1   \n",
       "3                        1          0                         1   \n",
       "4                        1          0                         1   \n",
       "...                    ...        ...                       ...   \n",
       "643685                   1          0                         0   \n",
       "643686                   1          0                         1   \n",
       "643687                   1          1                         0   \n",
       "643688                   0          0                         1   \n",
       "643689                   0          0                         1   \n",
       "\n",
       "        ASU_other_before  ...  minijob_tot_dur_byage  ft_tot_dur_byage  \\\n",
       "0                      0  ...               0.000000          0.000000   \n",
       "1                      0  ...               0.000000          0.000000   \n",
       "2                      0  ...               2.714286          2.714286   \n",
       "3                      0  ...               4.200000          4.200000   \n",
       "4                      0  ...               5.460000          5.460000   \n",
       "...                  ...  ...                    ...               ...   \n",
       "643685                 1  ...               0.000000          0.000000   \n",
       "643686                 0  ...               0.000000          0.000000   \n",
       "643687                 1  ...               0.000000          0.000000   \n",
       "643688                 0  ...               0.000000          0.000000   \n",
       "643689                 0  ...               0.000000          0.666667   \n",
       "\n",
       "        befrist_tot_dur_byage  leih_tot_dur_byage  LHG_tot_dur_byage  \\\n",
       "0                   15.043478            0.000000           0.000000   \n",
       "1                    0.000000            0.000000           0.000000   \n",
       "2                    0.000000            0.000000          10.775510   \n",
       "3                    0.000000            0.000000          12.100000   \n",
       "4                    0.000000            0.000000          13.360000   \n",
       "...                       ...                 ...                ...   \n",
       "643685               0.000000            0.000000           0.612903   \n",
       "643686               0.212121            0.212121          17.363636   \n",
       "643687               0.294118            0.205882          34.705882   \n",
       "643688               0.000000            0.000000           0.000000   \n",
       "643689               0.666667            0.000000           0.000000   \n",
       "\n",
       "        LEH_tot_dur_byage  almp_tot_dur_byage  almp_aw_tot_dur_byage  \\\n",
       "0                0.000000            0.000000               0.000000   \n",
       "1                0.000000            0.000000               0.000000   \n",
       "2                0.000000            8.367347               0.000000   \n",
       "3                0.000000            9.400000               0.000000   \n",
       "4                0.000000           10.320000               0.000000   \n",
       "...                   ...                 ...                    ...   \n",
       "643685           0.000000            0.000000               0.000000   \n",
       "643686           0.000000            8.909091               0.000000   \n",
       "643687           0.000000           10.352941               1.705882   \n",
       "643688           0.525424            0.000000               0.000000   \n",
       "643689           8.950000            1.033333               0.083333   \n",
       "\n",
       "        se_tot_dur_byage  seeking1_tot_dur_byage  \n",
       "0               0.000000                0.000000  \n",
       "1               0.000000                0.000000  \n",
       "2               0.000000                9.836735  \n",
       "3               0.000000                9.960000  \n",
       "4               0.000000               10.280000  \n",
       "...                  ...                     ...  \n",
       "643685          0.000000                0.000000  \n",
       "643686          0.000000                7.121212  \n",
       "643687          1.705882               23.911765  \n",
       "643688          0.000000                0.000000  \n",
       "643689          0.083333                8.133333  \n",
       "\n",
       "[643690 rows x 164 columns]"
      ]
     },
     "execution_count": 10,
     "metadata": {},
     "output_type": "execute_result"
    }
   ],
   "source": [
    "siab"
   ]
  },
  {
   "cell_type": "markdown",
   "id": "1f87e805",
   "metadata": {
    "papermill": {
     "duration": 0.009441,
     "end_time": "2025-08-19T18:42:01.310968",
     "exception": false,
     "start_time": "2025-08-19T18:42:01.301527",
     "status": "completed"
    },
    "tags": []
   },
   "source": [
    "# Splitting Data and Setting Training Data Size"
   ]
  },
  {
   "cell_type": "code",
   "execution_count": 11,
   "id": "910ae358",
   "metadata": {
    "execution": {
     "iopub.execute_input": "2025-08-19T18:42:01.332623Z",
     "iopub.status.busy": "2025-08-19T18:42:01.331179Z",
     "iopub.status.idle": "2025-08-19T18:42:02.441411Z",
     "shell.execute_reply": "2025-08-19T18:42:02.440352Z"
    },
    "papermill": {
     "duration": 1.122991,
     "end_time": "2025-08-19T18:42:02.443290",
     "exception": false,
     "start_time": "2025-08-19T18:42:01.320299",
     "status": "completed"
    },
    "tags": []
   },
   "outputs": [],
   "source": [
    "from fairness_multiverse.universe import sample_by_year_size\n",
    "\n",
    "siab_train = sample_by_year_size(siab,\n",
    "                               training_year=universe[\"training_year\"],\n",
    "                               training_size=universe[\"training_size\"])"
   ]
  },
  {
   "cell_type": "code",
   "execution_count": 12,
   "id": "919c8ff5",
   "metadata": {
    "execution": {
     "iopub.execute_input": "2025-08-19T18:42:02.470708Z",
     "iopub.status.busy": "2025-08-19T18:42:02.464036Z",
     "iopub.status.idle": "2025-08-19T18:42:02.477248Z",
     "shell.execute_reply": "2025-08-19T18:42:02.476274Z"
    },
    "papermill": {
     "duration": 0.025602,
     "end_time": "2025-08-19T18:42:02.478920",
     "exception": false,
     "start_time": "2025-08-19T18:42:02.453318",
     "status": "completed"
    },
    "tags": []
   },
   "outputs": [
    {
     "data": {
      "text/plain": [
       "(5000, 164)"
      ]
     },
     "execution_count": 12,
     "metadata": {},
     "output_type": "execute_result"
    }
   ],
   "source": [
    "siab_train.shape"
   ]
  },
  {
   "cell_type": "code",
   "execution_count": 13,
   "id": "feb13bf4",
   "metadata": {
    "execution": {
     "iopub.execute_input": "2025-08-19T18:42:02.506538Z",
     "iopub.status.busy": "2025-08-19T18:42:02.506217Z",
     "iopub.status.idle": "2025-08-19T18:42:02.516740Z",
     "shell.execute_reply": "2025-08-19T18:42:02.515902Z"
    },
    "papermill": {
     "duration": 0.024179,
     "end_time": "2025-08-19T18:42:02.517956",
     "exception": false,
     "start_time": "2025-08-19T18:42:02.493777",
     "status": "completed"
    },
    "tags": []
   },
   "outputs": [
    {
     "data": {
      "text/plain": [
       "year\n",
       "2010    1000\n",
       "2011    1000\n",
       "2012    1000\n",
       "2013    1000\n",
       "2014    1000\n",
       "dtype: int64"
      ]
     },
     "metadata": {},
     "output_type": "display_data"
    }
   ],
   "source": [
    "display(siab_train.groupby(\"year\").size())"
   ]
  },
  {
   "cell_type": "code",
   "execution_count": 14,
   "id": "0997782f",
   "metadata": {
    "execution": {
     "iopub.execute_input": "2025-08-19T18:42:02.540745Z",
     "iopub.status.busy": "2025-08-19T18:42:02.540283Z",
     "iopub.status.idle": "2025-08-19T18:42:02.839642Z",
     "shell.execute_reply": "2025-08-19T18:42:02.838701Z"
    },
    "papermill": {
     "duration": 0.312394,
     "end_time": "2025-08-19T18:42:02.841522",
     "exception": false,
     "start_time": "2025-08-19T18:42:02.529128",
     "status": "completed"
    },
    "tags": []
   },
   "outputs": [],
   "source": [
    "#siab_train = siab_s[siab_s.year < 2015]\n",
    "siab_calib = siab[siab.year == 2015]\n",
    "siab_test = siab[siab.year == 2016]"
   ]
  },
  {
   "cell_type": "code",
   "execution_count": 15,
   "id": "2c1e4012",
   "metadata": {
    "execution": {
     "iopub.execute_input": "2025-08-19T18:42:02.864940Z",
     "iopub.status.busy": "2025-08-19T18:42:02.864508Z",
     "iopub.status.idle": "2025-08-19T18:42:02.869821Z",
     "shell.execute_reply": "2025-08-19T18:42:02.868802Z"
    },
    "papermill": {
     "duration": 0.01939,
     "end_time": "2025-08-19T18:42:02.872669",
     "exception": false,
     "start_time": "2025-08-19T18:42:02.853279",
     "status": "completed"
    },
    "tags": []
   },
   "outputs": [],
   "source": [
    "#siab_calib.shape"
   ]
  },
  {
   "cell_type": "code",
   "execution_count": 16,
   "id": "f66b54ca",
   "metadata": {
    "execution": {
     "iopub.execute_input": "2025-08-19T18:42:02.910671Z",
     "iopub.status.busy": "2025-08-19T18:42:02.909990Z",
     "iopub.status.idle": "2025-08-19T18:42:02.916688Z",
     "shell.execute_reply": "2025-08-19T18:42:02.915299Z"
    },
    "papermill": {
     "duration": 0.022166,
     "end_time": "2025-08-19T18:42:02.918435",
     "exception": false,
     "start_time": "2025-08-19T18:42:02.896269",
     "status": "completed"
    },
    "tags": []
   },
   "outputs": [],
   "source": [
    "#siab_test.shape"
   ]
  },
  {
   "cell_type": "code",
   "execution_count": 17,
   "id": "27e4384d",
   "metadata": {
    "execution": {
     "iopub.execute_input": "2025-08-19T18:42:02.942462Z",
     "iopub.status.busy": "2025-08-19T18:42:02.941803Z",
     "iopub.status.idle": "2025-08-19T18:42:02.959563Z",
     "shell.execute_reply": "2025-08-19T18:42:02.958307Z"
    },
    "papermill": {
     "duration": 0.034194,
     "end_time": "2025-08-19T18:42:02.963523",
     "exception": false,
     "start_time": "2025-08-19T18:42:02.929329",
     "status": "completed"
    },
    "tags": []
   },
   "outputs": [],
   "source": [
    "X_train = siab_train.iloc[:,4:164]\n",
    "y_train = siab_train.iloc[:, [3]]"
   ]
  },
  {
   "cell_type": "code",
   "execution_count": 18,
   "id": "08ee8389",
   "metadata": {
    "execution": {
     "iopub.execute_input": "2025-08-19T18:42:02.992571Z",
     "iopub.status.busy": "2025-08-19T18:42:02.991920Z",
     "iopub.status.idle": "2025-08-19T18:42:03.056064Z",
     "shell.execute_reply": "2025-08-19T18:42:03.055168Z"
    },
    "papermill": {
     "duration": 0.078058,
     "end_time": "2025-08-19T18:42:03.057634",
     "exception": false,
     "start_time": "2025-08-19T18:42:02.979576",
     "status": "completed"
    },
    "tags": []
   },
   "outputs": [],
   "source": [
    "X_calib = siab_calib.iloc[:,4:164]\n",
    "y_calib = siab_calib.iloc[:, [3]]"
   ]
  },
  {
   "cell_type": "code",
   "execution_count": 19,
   "id": "b7ff42e0",
   "metadata": {
    "execution": {
     "iopub.execute_input": "2025-08-19T18:42:03.080940Z",
     "iopub.status.busy": "2025-08-19T18:42:03.080468Z",
     "iopub.status.idle": "2025-08-19T18:42:03.141270Z",
     "shell.execute_reply": "2025-08-19T18:42:03.140301Z"
    },
    "papermill": {
     "duration": 0.075353,
     "end_time": "2025-08-19T18:42:03.143811",
     "exception": false,
     "start_time": "2025-08-19T18:42:03.068458",
     "status": "completed"
    },
    "tags": []
   },
   "outputs": [],
   "source": [
    "X_test = siab_test.iloc[:,4:164]\n",
    "y_true = siab_test.iloc[:, [3]]"
   ]
  },
  {
   "cell_type": "code",
   "execution_count": 20,
   "id": "0275101e",
   "metadata": {
    "execution": {
     "iopub.execute_input": "2025-08-19T18:42:03.184846Z",
     "iopub.status.busy": "2025-08-19T18:42:03.184171Z",
     "iopub.status.idle": "2025-08-19T18:42:03.311053Z",
     "shell.execute_reply": "2025-08-19T18:42:03.310125Z"
    },
    "papermill": {
     "duration": 0.144667,
     "end_time": "2025-08-19T18:42:03.314028",
     "exception": false,
     "start_time": "2025-08-19T18:42:03.169361",
     "status": "completed"
    },
    "tags": []
   },
   "outputs": [],
   "source": [
    "# Auxiliary data needed downstream in the pipeline\n",
    "\n",
    "org_train = X_train.copy()\n",
    "org_test = X_test.copy()\n",
    "org_calib = X_calib.copy()"
   ]
  },
  {
   "cell_type": "markdown",
   "id": "b461e618",
   "metadata": {
    "papermill": {
     "duration": 0.012525,
     "end_time": "2025-08-19T18:42:03.351996",
     "exception": false,
     "start_time": "2025-08-19T18:42:03.339471",
     "status": "completed"
    },
    "tags": []
   },
   "source": [
    "# Preprocessing Data"
   ]
  },
  {
   "cell_type": "code",
   "execution_count": 21,
   "id": "78e74c4b",
   "metadata": {
    "execution": {
     "iopub.execute_input": "2025-08-19T18:42:03.374985Z",
     "iopub.status.busy": "2025-08-19T18:42:03.374255Z",
     "iopub.status.idle": "2025-08-19T18:42:03.384544Z",
     "shell.execute_reply": "2025-08-19T18:42:03.382230Z"
    },
    "papermill": {
     "duration": 0.024164,
     "end_time": "2025-08-19T18:42:03.386257",
     "exception": false,
     "start_time": "2025-08-19T18:42:03.362093",
     "status": "completed"
    },
    "tags": []
   },
   "outputs": [],
   "source": [
    "# EXCLUDE PROTECTED FEATURES\n",
    "# --------------------------\n",
    "\n",
    "excluded_features = universe[\"exclude_features\"].split(\"-\")\n",
    "excluded_features_dictionary = {\n",
    "    \"nationality\": [\"maxdeutsch1\", \"maxdeutsch.Missing.\"],\n",
    "    \"sex\": [\"frau1\"],\n",
    "    \"age\": [\"age\"],\n",
    "}"
   ]
  },
  {
   "cell_type": "code",
   "execution_count": 22,
   "id": "f8e63555",
   "metadata": {
    "execution": {
     "iopub.execute_input": "2025-08-19T18:42:03.414623Z",
     "iopub.status.busy": "2025-08-19T18:42:03.413939Z",
     "iopub.status.idle": "2025-08-19T18:42:03.421758Z",
     "shell.execute_reply": "2025-08-19T18:42:03.420541Z"
    },
    "papermill": {
     "duration": 0.022316,
     "end_time": "2025-08-19T18:42:03.423536",
     "exception": false,
     "start_time": "2025-08-19T18:42:03.401220",
     "status": "completed"
    },
    "tags": []
   },
   "outputs": [],
   "source": [
    "excluded_features_columns = [\n",
    "    excluded_features_dictionary[f] for f in excluded_features if len(f) > 0 and f != \"none\"\n",
    "]"
   ]
  },
  {
   "cell_type": "code",
   "execution_count": 23,
   "id": "da781f7c",
   "metadata": {
    "execution": {
     "iopub.execute_input": "2025-08-19T18:42:03.449907Z",
     "iopub.status.busy": "2025-08-19T18:42:03.449236Z",
     "iopub.status.idle": "2025-08-19T18:42:03.456468Z",
     "shell.execute_reply": "2025-08-19T18:42:03.455125Z"
    },
    "papermill": {
     "duration": 0.021378,
     "end_time": "2025-08-19T18:42:03.458228",
     "exception": false,
     "start_time": "2025-08-19T18:42:03.436850",
     "status": "completed"
    },
    "tags": []
   },
   "outputs": [],
   "source": [
    "from fairness_multiverse.universe import flatten_once\n",
    "\n",
    "excluded_features_columns = flatten_once(excluded_features_columns)"
   ]
  },
  {
   "cell_type": "code",
   "execution_count": 24,
   "id": "37fef0f0",
   "metadata": {
    "execution": {
     "iopub.execute_input": "2025-08-19T18:42:03.483731Z",
     "iopub.status.busy": "2025-08-19T18:42:03.483044Z",
     "iopub.status.idle": "2025-08-19T18:42:03.503287Z",
     "shell.execute_reply": "2025-08-19T18:42:03.502154Z"
    },
    "papermill": {
     "duration": 0.034074,
     "end_time": "2025-08-19T18:42:03.505104",
     "exception": false,
     "start_time": "2025-08-19T18:42:03.471030",
     "status": "completed"
    },
    "tags": []
   },
   "outputs": [
    {
     "name": "stdout",
     "output_type": "stream",
     "text": [
      "Dropping features: ['maxdeutsch1', 'maxdeutsch.Missing.']\n"
     ]
    }
   ],
   "source": [
    "if len(excluded_features_columns) > 0:\n",
    "    print(f\"Dropping features: {excluded_features_columns}\")\n",
    "    X_train.drop(excluded_features_columns, axis=1, inplace=True)"
   ]
  },
  {
   "cell_type": "code",
   "execution_count": 25,
   "id": "d029e3e9",
   "metadata": {
    "execution": {
     "iopub.execute_input": "2025-08-19T18:42:03.537612Z",
     "iopub.status.busy": "2025-08-19T18:42:03.536931Z",
     "iopub.status.idle": "2025-08-19T18:42:03.599096Z",
     "shell.execute_reply": "2025-08-19T18:42:03.598121Z"
    },
    "papermill": {
     "duration": 0.078477,
     "end_time": "2025-08-19T18:42:03.601633",
     "exception": false,
     "start_time": "2025-08-19T18:42:03.523156",
     "status": "completed"
    },
    "tags": []
   },
   "outputs": [
    {
     "name": "stdout",
     "output_type": "stream",
     "text": [
      "Dropping features: ['maxdeutsch1', 'maxdeutsch.Missing.']\n"
     ]
    }
   ],
   "source": [
    "if len(excluded_features_columns) > 0:\n",
    "    print(f\"Dropping features: {excluded_features_columns}\")\n",
    "    X_test.drop(excluded_features_columns, axis=1, inplace=True)"
   ]
  },
  {
   "cell_type": "code",
   "execution_count": 26,
   "id": "01d571f0",
   "metadata": {
    "execution": {
     "iopub.execute_input": "2025-08-19T18:42:03.643764Z",
     "iopub.status.busy": "2025-08-19T18:42:03.643075Z",
     "iopub.status.idle": "2025-08-19T18:42:03.697277Z",
     "shell.execute_reply": "2025-08-19T18:42:03.696353Z"
    },
    "papermill": {
     "duration": 0.074745,
     "end_time": "2025-08-19T18:42:03.701241",
     "exception": false,
     "start_time": "2025-08-19T18:42:03.626496",
     "status": "completed"
    },
    "tags": []
   },
   "outputs": [
    {
     "name": "stdout",
     "output_type": "stream",
     "text": [
      "Dropping features: ['maxdeutsch1', 'maxdeutsch.Missing.']\n"
     ]
    }
   ],
   "source": [
    "if len(excluded_features_columns) > 0:\n",
    "    print(f\"Dropping features: {excluded_features_columns}\")\n",
    "    X_calib.drop(excluded_features_columns, axis=1, inplace=True)"
   ]
  },
  {
   "cell_type": "code",
   "execution_count": 27,
   "id": "3037356e",
   "metadata": {
    "execution": {
     "iopub.execute_input": "2025-08-19T18:42:03.738679Z",
     "iopub.status.busy": "2025-08-19T18:42:03.738044Z",
     "iopub.status.idle": "2025-08-19T18:42:03.745064Z",
     "shell.execute_reply": "2025-08-19T18:42:03.743723Z"
    },
    "papermill": {
     "duration": 0.022391,
     "end_time": "2025-08-19T18:42:03.746625",
     "exception": false,
     "start_time": "2025-08-19T18:42:03.724234",
     "status": "completed"
    },
    "tags": []
   },
   "outputs": [],
   "source": [
    "# EXCLUDE CERTAIN SUBGROUPS\n",
    "# -------------------------\n",
    "\n",
    "mode = universe.get(\"exclude_subgroups\", \"keep-all\") # Defaults to \"keep-all\" if the key is missing."
   ]
  },
  {
   "cell_type": "code",
   "execution_count": 28,
   "id": "9d1e63fd",
   "metadata": {
    "execution": {
     "iopub.execute_input": "2025-08-19T18:42:03.772780Z",
     "iopub.status.busy": "2025-08-19T18:42:03.772029Z",
     "iopub.status.idle": "2025-08-19T18:42:03.782215Z",
     "shell.execute_reply": "2025-08-19T18:42:03.780771Z"
    },
    "papermill": {
     "duration": 0.024817,
     "end_time": "2025-08-19T18:42:03.783979",
     "exception": false,
     "start_time": "2025-08-19T18:42:03.759162",
     "status": "completed"
    },
    "tags": []
   },
   "outputs": [],
   "source": [
    "if mode == \"keep-all\":\n",
    "    keep_mask = pd.Series(True, index=org_train.index)\n",
    "\n",
    "elif mode == \"drop-non-german\":\n",
    "    keep_mask = (org_train[\"maxdeutsch1\"] == 1) & (org_train[\"maxdeutsch.Missing.\"] == 0)\n",
    "\n",
    "else:\n",
    "    raise ValueError(f\"Unsupported mode for exclude_subgroups: {mode}\")"
   ]
  },
  {
   "cell_type": "code",
   "execution_count": 29,
   "id": "d3b65474",
   "metadata": {
    "execution": {
     "iopub.execute_input": "2025-08-19T18:42:03.809682Z",
     "iopub.status.busy": "2025-08-19T18:42:03.809015Z",
     "iopub.status.idle": "2025-08-19T18:42:03.818410Z",
     "shell.execute_reply": "2025-08-19T18:42:03.817079Z"
    },
    "papermill": {
     "duration": 0.022968,
     "end_time": "2025-08-19T18:42:03.819920",
     "exception": false,
     "start_time": "2025-08-19T18:42:03.796952",
     "status": "completed"
    },
    "tags": []
   },
   "outputs": [],
   "source": [
    "n_drop = (~keep_mask).sum() # Calculates how many rows are set to be dropped\n",
    "if n_drop > 0:\n",
    "    pct = n_drop / len(keep_mask) * 100\n",
    "    print(f\"Dropping {n_drop} rows ({pct:.2f}%) where mode='{mode}'\")"
   ]
  },
  {
   "cell_type": "code",
   "execution_count": 30,
   "id": "f44389b3",
   "metadata": {
    "execution": {
     "iopub.execute_input": "2025-08-19T18:42:03.846801Z",
     "iopub.status.busy": "2025-08-19T18:42:03.846137Z",
     "iopub.status.idle": "2025-08-19T18:42:03.857121Z",
     "shell.execute_reply": "2025-08-19T18:42:03.855884Z"
    },
    "papermill": {
     "duration": 0.024886,
     "end_time": "2025-08-19T18:42:03.858801",
     "exception": false,
     "start_time": "2025-08-19T18:42:03.833915",
     "status": "completed"
    },
    "tags": []
   },
   "outputs": [],
   "source": [
    "X_train = X_train[keep_mask]"
   ]
  },
  {
   "cell_type": "code",
   "execution_count": 31,
   "id": "ceca8c2a",
   "metadata": {
    "execution": {
     "iopub.execute_input": "2025-08-19T18:42:03.889230Z",
     "iopub.status.busy": "2025-08-19T18:42:03.888568Z",
     "iopub.status.idle": "2025-08-19T18:42:03.897153Z",
     "shell.execute_reply": "2025-08-19T18:42:03.895781Z"
    },
    "papermill": {
     "duration": 0.023313,
     "end_time": "2025-08-19T18:42:03.898851",
     "exception": false,
     "start_time": "2025-08-19T18:42:03.875538",
     "status": "completed"
    },
    "tags": []
   },
   "outputs": [],
   "source": [
    "y_train = y_train[keep_mask]"
   ]
  },
  {
   "cell_type": "markdown",
   "id": "04d31e2f",
   "metadata": {
    "papermill": {
     "duration": 0.010893,
     "end_time": "2025-08-19T18:42:03.924324",
     "exception": false,
     "start_time": "2025-08-19T18:42:03.913431",
     "status": "completed"
    },
    "tags": []
   },
   "source": [
    "# Model Training"
   ]
  },
  {
   "cell_type": "code",
   "execution_count": 32,
   "id": "db991733",
   "metadata": {
    "execution": {
     "iopub.execute_input": "2025-08-19T18:42:03.947838Z",
     "iopub.status.busy": "2025-08-19T18:42:03.947134Z",
     "iopub.status.idle": "2025-08-19T18:42:04.053663Z",
     "shell.execute_reply": "2025-08-19T18:42:04.052749Z"
    },
    "papermill": {
     "duration": 0.121507,
     "end_time": "2025-08-19T18:42:04.056298",
     "exception": false,
     "start_time": "2025-08-19T18:42:03.934791",
     "status": "completed"
    },
    "tags": []
   },
   "outputs": [],
   "source": [
    "from sklearn.linear_model import LogisticRegression\n",
    "from sklearn.ensemble import GradientBoostingClassifier, RandomForestClassifier\n",
    "\n",
    "if (universe[\"model\"] == \"logreg\"):\n",
    "    model = LogisticRegression() #penalty=\"none\", solver=\"newton-cg\", max_iter=1)\n",
    "elif (universe[\"model\"] == \"penalized_logreg\"):\n",
    "    model = LogisticRegression(penalty=\"l2\", C=0.1) #, solver=\"newton-cg\", max_iter=1)\n",
    "elif (universe[\"model\"] == \"rf\"):\n",
    "    model = RandomForestClassifier() # n_estimators=100, n_jobs=-1\n",
    "elif (universe[\"model\"] == \"gbm\"):\n",
    "    model = GradientBoostingClassifier()\n",
    "elif (universe[\"model\"] == \"elasticnet\"):\n",
    "    model = LogisticRegression(penalty = 'elasticnet', solver = 'saga', l1_ratio = 0.5) # max_iter=5000\n",
    "else:\n",
    "    raise \"Unsupported universe.model\""
   ]
  },
  {
   "cell_type": "code",
   "execution_count": 33,
   "id": "a4b5cd25",
   "metadata": {
    "execution": {
     "iopub.execute_input": "2025-08-19T18:42:04.095904Z",
     "iopub.status.busy": "2025-08-19T18:42:04.095288Z",
     "iopub.status.idle": "2025-08-19T18:42:04.104504Z",
     "shell.execute_reply": "2025-08-19T18:42:04.102856Z"
    },
    "papermill": {
     "duration": 0.024658,
     "end_time": "2025-08-19T18:42:04.106131",
     "exception": false,
     "start_time": "2025-08-19T18:42:04.081473",
     "status": "completed"
    },
    "tags": []
   },
   "outputs": [],
   "source": [
    "from sklearn.pipeline import Pipeline\n",
    "from sklearn.preprocessing import StandardScaler\n",
    "\n",
    "model = Pipeline([\n",
    "    #(\"continuous_processor\", continuous_processor),\n",
    "    #(\"categorical_preprocessor\", categorical_preprocessor),\n",
    "    (\"scale\", StandardScaler() if universe[\"scale\"] == \"scale\" else None), \n",
    "    (\"model\", model),\n",
    "])"
   ]
  },
  {
   "cell_type": "code",
   "execution_count": 34,
   "id": "283a904d",
   "metadata": {
    "execution": {
     "iopub.execute_input": "2025-08-19T18:42:04.132704Z",
     "iopub.status.busy": "2025-08-19T18:42:04.131967Z",
     "iopub.status.idle": "2025-08-19T18:42:05.489132Z",
     "shell.execute_reply": "2025-08-19T18:42:05.486981Z"
    },
    "papermill": {
     "duration": 1.37238,
     "end_time": "2025-08-19T18:42:05.492043",
     "exception": false,
     "start_time": "2025-08-19T18:42:04.119663",
     "status": "completed"
    },
    "tags": []
   },
   "outputs": [
    {
     "data": {
      "text/html": [
       "<style>#sk-container-id-1 {color: black;background-color: white;}#sk-container-id-1 pre{padding: 0;}#sk-container-id-1 div.sk-toggleable {background-color: white;}#sk-container-id-1 label.sk-toggleable__label {cursor: pointer;display: block;width: 100%;margin-bottom: 0;padding: 0.3em;box-sizing: border-box;text-align: center;}#sk-container-id-1 label.sk-toggleable__label-arrow:before {content: \"▸\";float: left;margin-right: 0.25em;color: #696969;}#sk-container-id-1 label.sk-toggleable__label-arrow:hover:before {color: black;}#sk-container-id-1 div.sk-estimator:hover label.sk-toggleable__label-arrow:before {color: black;}#sk-container-id-1 div.sk-toggleable__content {max-height: 0;max-width: 0;overflow: hidden;text-align: left;background-color: #f0f8ff;}#sk-container-id-1 div.sk-toggleable__content pre {margin: 0.2em;color: black;border-radius: 0.25em;background-color: #f0f8ff;}#sk-container-id-1 input.sk-toggleable__control:checked~div.sk-toggleable__content {max-height: 200px;max-width: 100%;overflow: auto;}#sk-container-id-1 input.sk-toggleable__control:checked~label.sk-toggleable__label-arrow:before {content: \"▾\";}#sk-container-id-1 div.sk-estimator input.sk-toggleable__control:checked~label.sk-toggleable__label {background-color: #d4ebff;}#sk-container-id-1 div.sk-label input.sk-toggleable__control:checked~label.sk-toggleable__label {background-color: #d4ebff;}#sk-container-id-1 input.sk-hidden--visually {border: 0;clip: rect(1px 1px 1px 1px);clip: rect(1px, 1px, 1px, 1px);height: 1px;margin: -1px;overflow: hidden;padding: 0;position: absolute;width: 1px;}#sk-container-id-1 div.sk-estimator {font-family: monospace;background-color: #f0f8ff;border: 1px dotted black;border-radius: 0.25em;box-sizing: border-box;margin-bottom: 0.5em;}#sk-container-id-1 div.sk-estimator:hover {background-color: #d4ebff;}#sk-container-id-1 div.sk-parallel-item::after {content: \"\";width: 100%;border-bottom: 1px solid gray;flex-grow: 1;}#sk-container-id-1 div.sk-label:hover label.sk-toggleable__label {background-color: #d4ebff;}#sk-container-id-1 div.sk-serial::before {content: \"\";position: absolute;border-left: 1px solid gray;box-sizing: border-box;top: 0;bottom: 0;left: 50%;z-index: 0;}#sk-container-id-1 div.sk-serial {display: flex;flex-direction: column;align-items: center;background-color: white;padding-right: 0.2em;padding-left: 0.2em;position: relative;}#sk-container-id-1 div.sk-item {position: relative;z-index: 1;}#sk-container-id-1 div.sk-parallel {display: flex;align-items: stretch;justify-content: center;background-color: white;position: relative;}#sk-container-id-1 div.sk-item::before, #sk-container-id-1 div.sk-parallel-item::before {content: \"\";position: absolute;border-left: 1px solid gray;box-sizing: border-box;top: 0;bottom: 0;left: 50%;z-index: -1;}#sk-container-id-1 div.sk-parallel-item {display: flex;flex-direction: column;z-index: 1;position: relative;background-color: white;}#sk-container-id-1 div.sk-parallel-item:first-child::after {align-self: flex-end;width: 50%;}#sk-container-id-1 div.sk-parallel-item:last-child::after {align-self: flex-start;width: 50%;}#sk-container-id-1 div.sk-parallel-item:only-child::after {width: 0;}#sk-container-id-1 div.sk-dashed-wrapped {border: 1px dashed gray;margin: 0 0.4em 0.5em 0.4em;box-sizing: border-box;padding-bottom: 0.4em;background-color: white;}#sk-container-id-1 div.sk-label label {font-family: monospace;font-weight: bold;display: inline-block;line-height: 1.2em;}#sk-container-id-1 div.sk-label-container {text-align: center;}#sk-container-id-1 div.sk-container {/* jupyter's `normalize.less` sets `[hidden] { display: none; }` but bootstrap.min.css set `[hidden] { display: none !important; }` so we also need the `!important` here to be able to override the default hidden behavior on the sphinx rendered scikit-learn.org. See: https://github.com/scikit-learn/scikit-learn/issues/21755 */display: inline-block !important;position: relative;}#sk-container-id-1 div.sk-text-repr-fallback {display: none;}</style><div id=\"sk-container-id-1\" class=\"sk-top-container\"><div class=\"sk-text-repr-fallback\"><pre>Pipeline(steps=[(&#x27;scale&#x27;, StandardScaler()),\n",
       "                (&#x27;model&#x27;, RandomForestClassifier())])</pre><b>In a Jupyter environment, please rerun this cell to show the HTML representation or trust the notebook. <br />On GitHub, the HTML representation is unable to render, please try loading this page with nbviewer.org.</b></div><div class=\"sk-container\" hidden><div class=\"sk-item sk-dashed-wrapped\"><div class=\"sk-label-container\"><div class=\"sk-label sk-toggleable\"><input class=\"sk-toggleable__control sk-hidden--visually\" id=\"sk-estimator-id-1\" type=\"checkbox\" ><label for=\"sk-estimator-id-1\" class=\"sk-toggleable__label sk-toggleable__label-arrow\">Pipeline</label><div class=\"sk-toggleable__content\"><pre>Pipeline(steps=[(&#x27;scale&#x27;, StandardScaler()),\n",
       "                (&#x27;model&#x27;, RandomForestClassifier())])</pre></div></div></div><div class=\"sk-serial\"><div class=\"sk-item\"><div class=\"sk-estimator sk-toggleable\"><input class=\"sk-toggleable__control sk-hidden--visually\" id=\"sk-estimator-id-2\" type=\"checkbox\" ><label for=\"sk-estimator-id-2\" class=\"sk-toggleable__label sk-toggleable__label-arrow\">StandardScaler</label><div class=\"sk-toggleable__content\"><pre>StandardScaler()</pre></div></div></div><div class=\"sk-item\"><div class=\"sk-estimator sk-toggleable\"><input class=\"sk-toggleable__control sk-hidden--visually\" id=\"sk-estimator-id-3\" type=\"checkbox\" ><label for=\"sk-estimator-id-3\" class=\"sk-toggleable__label sk-toggleable__label-arrow\">RandomForestClassifier</label><div class=\"sk-toggleable__content\"><pre>RandomForestClassifier()</pre></div></div></div></div></div></div></div>"
      ],
      "text/plain": [
       "Pipeline(steps=[('scale', StandardScaler()),\n",
       "                ('model', RandomForestClassifier())])"
      ]
     },
     "execution_count": 34,
     "metadata": {},
     "output_type": "execute_result"
    }
   ],
   "source": [
    "model.fit(X_train, y_train.values.ravel())"
   ]
  },
  {
   "cell_type": "code",
   "execution_count": 35,
   "id": "6e15e313",
   "metadata": {
    "execution": {
     "iopub.execute_input": "2025-08-19T18:42:05.524125Z",
     "iopub.status.busy": "2025-08-19T18:42:05.523353Z",
     "iopub.status.idle": "2025-08-19T18:42:07.493178Z",
     "shell.execute_reply": "2025-08-19T18:42:07.490715Z"
    },
    "papermill": {
     "duration": 1.985437,
     "end_time": "2025-08-19T18:42:07.494908",
     "exception": false,
     "start_time": "2025-08-19T18:42:05.509471",
     "status": "completed"
    },
    "tags": []
   },
   "outputs": [
    {
     "data": {
      "text/plain": [
       "0.8667818526362724"
      ]
     },
     "execution_count": 35,
     "metadata": {},
     "output_type": "execute_result"
    }
   ],
   "source": [
    "from fairness_multiverse.universe import predict_w_threshold\n",
    "\n",
    "probs_test = model.predict_proba(X_test)\n",
    "\n",
    "'''\n",
    "Below code returns a boolean array (or binary 0/1 array depending on how it’s used) where each element \n",
    "is True if the probability of class 1 is greater than or equal to the threshold, and False otherwise.\n",
    "'''\n",
    "y_pred_default = predict_w_threshold(probs_test, 0.5)\n",
    "\n",
    "from sklearn.metrics import accuracy_score\n",
    "\n",
    "# Naive prediction\n",
    "accuracy_score(y_true = y_true, y_pred = y_pred_default)"
   ]
  },
  {
   "cell_type": "code",
   "execution_count": 36,
   "id": "6f14067c",
   "metadata": {
    "execution": {
     "iopub.execute_input": "2025-08-19T18:42:07.532922Z",
     "iopub.status.busy": "2025-08-19T18:42:07.531611Z",
     "iopub.status.idle": "2025-08-19T18:42:09.446242Z",
     "shell.execute_reply": "2025-08-19T18:42:09.444935Z"
    },
    "papermill": {
     "duration": 1.941258,
     "end_time": "2025-08-19T18:42:09.447597",
     "exception": false,
     "start_time": "2025-08-19T18:42:07.506339",
     "status": "completed"
    },
    "tags": []
   },
   "outputs": [
    {
     "data": {
      "text/plain": [
       "array([0, 0, 0, ..., 0, 0, 0])"
      ]
     },
     "execution_count": 36,
     "metadata": {},
     "output_type": "execute_result"
    }
   ],
   "source": [
    "model.predict(X_test)"
   ]
  },
  {
   "cell_type": "markdown",
   "id": "3759920c",
   "metadata": {
    "papermill": {
     "duration": 0.010926,
     "end_time": "2025-08-19T18:42:09.470032",
     "exception": false,
     "start_time": "2025-08-19T18:42:09.459106",
     "status": "completed"
    },
    "tags": []
   },
   "source": [
    "# Conformal Prediction"
   ]
  },
  {
   "cell_type": "code",
   "execution_count": 37,
   "id": "14b27f59",
   "metadata": {
    "execution": {
     "iopub.execute_input": "2025-08-19T18:42:09.495808Z",
     "iopub.status.busy": "2025-08-19T18:42:09.494197Z",
     "iopub.status.idle": "2025-08-19T18:42:09.505874Z",
     "shell.execute_reply": "2025-08-19T18:42:09.503905Z"
    },
    "papermill": {
     "duration": 0.026758,
     "end_time": "2025-08-19T18:42:09.507675",
     "exception": false,
     "start_time": "2025-08-19T18:42:09.480917",
     "status": "completed"
    },
    "tags": []
   },
   "outputs": [],
   "source": [
    "# Miscoverage level for conformal prediction (10% allowed error rate => 90% target coverage)\n",
    "alpha = 0.1"
   ]
  },
  {
   "cell_type": "code",
   "execution_count": 38,
   "id": "59102472",
   "metadata": {
    "execution": {
     "iopub.execute_input": "2025-08-19T18:42:09.535587Z",
     "iopub.status.busy": "2025-08-19T18:42:09.534190Z",
     "iopub.status.idle": "2025-08-19T18:42:11.549617Z",
     "shell.execute_reply": "2025-08-19T18:42:11.548322Z"
    },
    "papermill": {
     "duration": 2.029913,
     "end_time": "2025-08-19T18:42:11.551360",
     "exception": false,
     "start_time": "2025-08-19T18:42:09.521447",
     "status": "completed"
    },
    "tags": []
   },
   "outputs": [],
   "source": [
    "probs_calib = model.predict_proba(X_calib)"
   ]
  },
  {
   "cell_type": "code",
   "execution_count": 39,
   "id": "a792d4dd",
   "metadata": {
    "execution": {
     "iopub.execute_input": "2025-08-19T18:42:11.578153Z",
     "iopub.status.busy": "2025-08-19T18:42:11.577728Z",
     "iopub.status.idle": "2025-08-19T18:42:11.583466Z",
     "shell.execute_reply": "2025-08-19T18:42:11.582879Z"
    },
    "papermill": {
     "duration": 0.019884,
     "end_time": "2025-08-19T18:42:11.585251",
     "exception": false,
     "start_time": "2025-08-19T18:42:11.565367",
     "status": "completed"
    },
    "tags": []
   },
   "outputs": [],
   "source": [
    "y_calib = y_calib.values.ravel().astype(int)"
   ]
  },
  {
   "cell_type": "code",
   "execution_count": 40,
   "id": "650fd033",
   "metadata": {
    "execution": {
     "iopub.execute_input": "2025-08-19T18:42:11.635489Z",
     "iopub.status.busy": "2025-08-19T18:42:11.634425Z",
     "iopub.status.idle": "2025-08-19T18:42:11.650762Z",
     "shell.execute_reply": "2025-08-19T18:42:11.649275Z"
    },
    "papermill": {
     "duration": 0.032628,
     "end_time": "2025-08-19T18:42:11.653420",
     "exception": false,
     "start_time": "2025-08-19T18:42:11.620792",
     "status": "completed"
    },
    "tags": []
   },
   "outputs": [],
   "source": [
    "from fairness_multiverse.conformal import compute_nc_scores\n",
    "\n",
    "# Compute nonconformity scores on calibration set (1 - probability of true class)\n",
    "nc_scores = compute_nc_scores(probs_calib, y_calib)"
   ]
  },
  {
   "cell_type": "code",
   "execution_count": 41,
   "id": "28ada44c",
   "metadata": {
    "execution": {
     "iopub.execute_input": "2025-08-19T18:42:11.690560Z",
     "iopub.status.busy": "2025-08-19T18:42:11.689674Z",
     "iopub.status.idle": "2025-08-19T18:42:11.705571Z",
     "shell.execute_reply": "2025-08-19T18:42:11.704467Z"
    },
    "papermill": {
     "duration": 0.031527,
     "end_time": "2025-08-19T18:42:11.707384",
     "exception": false,
     "start_time": "2025-08-19T18:42:11.675857",
     "status": "completed"
    },
    "tags": []
   },
   "outputs": [],
   "source": [
    "from fairness_multiverse.conformal import find_threshold\n",
    "\n",
    "# Find conformal threshold q_hat for the given alpha (split conformal method)\n",
    "q_hat = find_threshold(nc_scores, alpha)"
   ]
  },
  {
   "cell_type": "code",
   "execution_count": 42,
   "id": "df56469e",
   "metadata": {
    "execution": {
     "iopub.execute_input": "2025-08-19T18:42:11.738271Z",
     "iopub.status.busy": "2025-08-19T18:42:11.737691Z",
     "iopub.status.idle": "2025-08-19T18:42:11.744230Z",
     "shell.execute_reply": "2025-08-19T18:42:11.743525Z"
    },
    "papermill": {
     "duration": 0.021388,
     "end_time": "2025-08-19T18:42:11.745687",
     "exception": false,
     "start_time": "2025-08-19T18:42:11.724299",
     "status": "completed"
    },
    "tags": []
   },
   "outputs": [
    {
     "data": {
      "text/plain": [
       "0.6699999999999999"
      ]
     },
     "execution_count": 42,
     "metadata": {},
     "output_type": "execute_result"
    }
   ],
   "source": [
    "q_hat"
   ]
  },
  {
   "cell_type": "code",
   "execution_count": 43,
   "id": "aa1f5faa",
   "metadata": {
    "execution": {
     "iopub.execute_input": "2025-08-19T18:42:11.771683Z",
     "iopub.status.busy": "2025-08-19T18:42:11.770829Z",
     "iopub.status.idle": "2025-08-19T18:42:14.348006Z",
     "shell.execute_reply": "2025-08-19T18:42:14.346739Z"
    },
    "papermill": {
     "duration": 2.591505,
     "end_time": "2025-08-19T18:42:14.349613",
     "exception": false,
     "start_time": "2025-08-19T18:42:11.758108",
     "status": "completed"
    },
    "tags": []
   },
   "outputs": [],
   "source": [
    "from fairness_multiverse.conformal import predict_conformal_sets\n",
    "\n",
    "# Generate prediction sets for each test example\n",
    "pred_sets = predict_conformal_sets(model, X_test, q_hat)"
   ]
  },
  {
   "cell_type": "code",
   "execution_count": 44,
   "id": "97f67a6b",
   "metadata": {
    "execution": {
     "iopub.execute_input": "2025-08-19T18:42:14.378723Z",
     "iopub.status.busy": "2025-08-19T18:42:14.377345Z",
     "iopub.status.idle": "2025-08-19T18:42:14.388096Z",
     "shell.execute_reply": "2025-08-19T18:42:14.386901Z"
    },
    "papermill": {
     "duration": 0.026224,
     "end_time": "2025-08-19T18:42:14.389823",
     "exception": false,
     "start_time": "2025-08-19T18:42:14.363599",
     "status": "completed"
    },
    "tags": []
   },
   "outputs": [],
   "source": [
    "y_true = y_true.squeeze()"
   ]
  },
  {
   "cell_type": "code",
   "execution_count": 45,
   "id": "e700e9a7",
   "metadata": {
    "execution": {
     "iopub.execute_input": "2025-08-19T18:42:14.419817Z",
     "iopub.status.busy": "2025-08-19T18:42:14.418631Z",
     "iopub.status.idle": "2025-08-19T18:42:14.979190Z",
     "shell.execute_reply": "2025-08-19T18:42:14.977947Z"
    },
    "papermill": {
     "duration": 0.575577,
     "end_time": "2025-08-19T18:42:14.980748",
     "exception": false,
     "start_time": "2025-08-19T18:42:14.405171",
     "status": "completed"
    },
    "tags": []
   },
   "outputs": [],
   "source": [
    "from fairness_multiverse.conformal import evaluate_sets\n",
    "\n",
    "# Evaluate coverage and average set size on test data\n",
    "metrics = evaluate_sets(pred_sets, y_true)"
   ]
  },
  {
   "cell_type": "markdown",
   "id": "efbacec0",
   "metadata": {
    "papermill": {
     "duration": 0.011378,
     "end_time": "2025-08-19T18:42:15.003805",
     "exception": false,
     "start_time": "2025-08-19T18:42:14.992427",
     "status": "completed"
    },
    "tags": []
   },
   "source": [
    "# CP Metrics"
   ]
  },
  {
   "cell_type": "code",
   "execution_count": 46,
   "id": "9de55fb1",
   "metadata": {
    "execution": {
     "iopub.execute_input": "2025-08-19T18:42:15.028375Z",
     "iopub.status.busy": "2025-08-19T18:42:15.027939Z",
     "iopub.status.idle": "2025-08-19T18:42:15.035747Z",
     "shell.execute_reply": "2025-08-19T18:42:15.034974Z"
    },
    "papermill": {
     "duration": 0.021525,
     "end_time": "2025-08-19T18:42:15.036925",
     "exception": false,
     "start_time": "2025-08-19T18:42:15.015400",
     "status": "completed"
    },
    "tags": []
   },
   "outputs": [
    {
     "data": {
      "text/plain": [
       "{'coverage': 0.9164307212127968, 'avg_size': 1.151978597703712}"
      ]
     },
     "execution_count": 46,
     "metadata": {},
     "output_type": "execute_result"
    }
   ],
   "source": [
    "metrics"
   ]
  },
  {
   "cell_type": "code",
   "execution_count": 47,
   "id": "64c340a1",
   "metadata": {
    "execution": {
     "iopub.execute_input": "2025-08-19T18:42:15.063160Z",
     "iopub.status.busy": "2025-08-19T18:42:15.062258Z",
     "iopub.status.idle": "2025-08-19T18:42:15.071360Z",
     "shell.execute_reply": "2025-08-19T18:42:15.070166Z"
    },
    "papermill": {
     "duration": 0.024301,
     "end_time": "2025-08-19T18:42:15.072809",
     "exception": false,
     "start_time": "2025-08-19T18:42:15.048508",
     "status": "completed"
    },
    "tags": []
   },
   "outputs": [],
   "source": [
    "example_universe = universe.copy()\n",
    "universe_training_year = example_universe.get(\"training_year\")\n",
    "universe_training_size = example_universe.get(\"training_size\")\n",
    "universe_scale = example_universe.get(\"scale\")\n",
    "universe_model = example_universe.get(\"model\")\n",
    "universe_exclude_features = example_universe.get(\"exclude_features\")\n",
    "universe_exclude_subgroups = example_universe.get(\"exclude_subgroups\")"
   ]
  },
  {
   "cell_type": "code",
   "execution_count": 48,
   "id": "dbb53cb4",
   "metadata": {
    "execution": {
     "iopub.execute_input": "2025-08-19T18:42:15.105075Z",
     "iopub.status.busy": "2025-08-19T18:42:15.104575Z",
     "iopub.status.idle": "2025-08-19T18:42:15.120368Z",
     "shell.execute_reply": "2025-08-19T18:42:15.119409Z"
    },
    "papermill": {
     "duration": 0.034709,
     "end_time": "2025-08-19T18:42:15.122257",
     "exception": false,
     "start_time": "2025-08-19T18:42:15.087548",
     "status": "completed"
    },
    "tags": []
   },
   "outputs": [],
   "source": [
    "cp_metrics_dict = {\n",
    "    \"universe_id\": [universe_id],\n",
    "    \"universe_training_year\": [universe_training_year],\n",
    "    \"universe_training_size\": [universe_training_size],\n",
    "    \"universe_scale\": [universe_scale],\n",
    "    \"universe_model\": [universe_model],\n",
    "    \"universe_exclude_features\": [universe_exclude_features],\n",
    "    \"universe_exclude_subgroups\": [universe_exclude_subgroups],\n",
    "    \"q_hat\": [q_hat],\n",
    "    \"coverage\": [metrics[\"coverage\"]],\n",
    "    \"avg_size\": [metrics[\"avg_size\"]],\n",
    "}"
   ]
  },
  {
   "cell_type": "code",
   "execution_count": 49,
   "id": "0d70d4b2",
   "metadata": {
    "execution": {
     "iopub.execute_input": "2025-08-19T18:42:15.169330Z",
     "iopub.status.busy": "2025-08-19T18:42:15.168361Z",
     "iopub.status.idle": "2025-08-19T18:42:15.240978Z",
     "shell.execute_reply": "2025-08-19T18:42:15.240180Z"
    },
    "papermill": {
     "duration": 0.093082,
     "end_time": "2025-08-19T18:42:15.243764",
     "exception": false,
     "start_time": "2025-08-19T18:42:15.150682",
     "status": "completed"
    },
    "tags": []
   },
   "outputs": [],
   "source": [
    "cp_metrics_df = pd.DataFrame(cp_metrics_dict)"
   ]
  },
  {
   "cell_type": "code",
   "execution_count": 50,
   "id": "b494403c",
   "metadata": {
    "execution": {
     "iopub.execute_input": "2025-08-19T18:42:15.286907Z",
     "iopub.status.busy": "2025-08-19T18:42:15.285898Z",
     "iopub.status.idle": "2025-08-19T18:42:15.309637Z",
     "shell.execute_reply": "2025-08-19T18:42:15.308697Z"
    },
    "papermill": {
     "duration": 0.041336,
     "end_time": "2025-08-19T18:42:15.311410",
     "exception": false,
     "start_time": "2025-08-19T18:42:15.270074",
     "status": "completed"
    },
    "tags": []
   },
   "outputs": [
    {
     "data": {
      "text/html": [
       "<div>\n",
       "<style scoped>\n",
       "    .dataframe tbody tr th:only-of-type {\n",
       "        vertical-align: middle;\n",
       "    }\n",
       "\n",
       "    .dataframe tbody tr th {\n",
       "        vertical-align: top;\n",
       "    }\n",
       "\n",
       "    .dataframe thead th {\n",
       "        text-align: right;\n",
       "    }\n",
       "</style>\n",
       "<table border=\"1\" class=\"dataframe\">\n",
       "  <thead>\n",
       "    <tr style=\"text-align: right;\">\n",
       "      <th></th>\n",
       "      <th>universe_id</th>\n",
       "      <th>universe_training_year</th>\n",
       "      <th>universe_training_size</th>\n",
       "      <th>universe_scale</th>\n",
       "      <th>universe_model</th>\n",
       "      <th>universe_exclude_features</th>\n",
       "      <th>universe_exclude_subgroups</th>\n",
       "      <th>q_hat</th>\n",
       "      <th>coverage</th>\n",
       "      <th>avg_size</th>\n",
       "    </tr>\n",
       "  </thead>\n",
       "  <tbody>\n",
       "    <tr>\n",
       "      <th>0</th>\n",
       "      <td>3913eb247a3d8e4dccc082fd444aebff</td>\n",
       "      <td>2010_14</td>\n",
       "      <td>5k</td>\n",
       "      <td>scale</td>\n",
       "      <td>rf</td>\n",
       "      <td>nationality</td>\n",
       "      <td>keep-all</td>\n",
       "      <td>0.67</td>\n",
       "      <td>0.916431</td>\n",
       "      <td>1.151979</td>\n",
       "    </tr>\n",
       "  </tbody>\n",
       "</table>\n",
       "</div>"
      ],
      "text/plain": [
       "                        universe_id universe_training_year  \\\n",
       "0  3913eb247a3d8e4dccc082fd444aebff                2010_14   \n",
       "\n",
       "  universe_training_size universe_scale universe_model  \\\n",
       "0                     5k          scale             rf   \n",
       "\n",
       "  universe_exclude_features universe_exclude_subgroups  q_hat  coverage  \\\n",
       "0               nationality                   keep-all   0.67  0.916431   \n",
       "\n",
       "   avg_size  \n",
       "0  1.151979  "
      ]
     },
     "execution_count": 50,
     "metadata": {},
     "output_type": "execute_result"
    }
   ],
   "source": [
    "cp_metrics_df"
   ]
  },
  {
   "cell_type": "markdown",
   "id": "ed608b0b",
   "metadata": {
    "papermill": {
     "duration": 0.012449,
     "end_time": "2025-08-19T18:42:15.345875",
     "exception": false,
     "start_time": "2025-08-19T18:42:15.333426",
     "status": "completed"
    },
    "tags": []
   },
   "source": [
    "Conditional coverage & looking at subgroups"
   ]
  },
  {
   "cell_type": "code",
   "execution_count": 51,
   "id": "8968c366",
   "metadata": {
    "execution": {
     "iopub.execute_input": "2025-08-19T18:42:15.372523Z",
     "iopub.status.busy": "2025-08-19T18:42:15.371319Z",
     "iopub.status.idle": "2025-08-19T18:42:15.670510Z",
     "shell.execute_reply": "2025-08-19T18:42:15.669636Z"
    },
    "papermill": {
     "duration": 0.315582,
     "end_time": "2025-08-19T18:42:15.673212",
     "exception": false,
     "start_time": "2025-08-19T18:42:15.357630",
     "status": "completed"
    },
    "tags": []
   },
   "outputs": [],
   "source": [
    "from fairness_multiverse.conformal import build_cp_groups\n",
    "\n",
    "cp_groups_df = build_cp_groups(pred_sets, y_true, X_test.index, org_test)"
   ]
  },
  {
   "cell_type": "code",
   "execution_count": 52,
   "id": "292ddabf",
   "metadata": {
    "execution": {
     "iopub.execute_input": "2025-08-19T18:42:15.716897Z",
     "iopub.status.busy": "2025-08-19T18:42:15.716057Z",
     "iopub.status.idle": "2025-08-19T18:42:16.594619Z",
     "shell.execute_reply": "2025-08-19T18:42:16.593457Z"
    },
    "papermill": {
     "duration": 0.896644,
     "end_time": "2025-08-19T18:42:16.597724",
     "exception": false,
     "start_time": "2025-08-19T18:42:15.701080",
     "status": "completed"
    },
    "tags": []
   },
   "outputs": [],
   "source": [
    "# Define covered = 1 if true_label is in the predicted set\n",
    "cp_groups_df['covered'] = cp_groups_df.apply(\n",
    "    lambda r: int(r['true_label'] in r['pred_set']),\n",
    "    axis=1\n",
    ")"
   ]
  },
  {
   "cell_type": "code",
   "execution_count": 53,
   "id": "3a261692",
   "metadata": {
    "execution": {
     "iopub.execute_input": "2025-08-19T18:42:16.641733Z",
     "iopub.status.busy": "2025-08-19T18:42:16.640520Z",
     "iopub.status.idle": "2025-08-19T18:42:16.668380Z",
     "shell.execute_reply": "2025-08-19T18:42:16.667381Z"
    },
    "papermill": {
     "duration": 0.046037,
     "end_time": "2025-08-19T18:42:16.670577",
     "exception": false,
     "start_time": "2025-08-19T18:42:16.624540",
     "status": "completed"
    },
    "tags": []
   },
   "outputs": [],
   "source": [
    "subgroups = ['frau1','nongerman','nongerman_male','nongerman_female']\n",
    "\n",
    "# Conditional coverage for subgroup==1\n",
    "cond_coverage = {\n",
    "    g: cp_groups_df.loc[cp_groups_df[g]==1, 'covered'].mean()\n",
    "    for g in subgroups\n",
    "}"
   ]
  },
  {
   "cell_type": "code",
   "execution_count": 54,
   "id": "894fd600",
   "metadata": {
    "execution": {
     "iopub.execute_input": "2025-08-19T18:42:16.710305Z",
     "iopub.status.busy": "2025-08-19T18:42:16.709520Z",
     "iopub.status.idle": "2025-08-19T18:42:16.721309Z",
     "shell.execute_reply": "2025-08-19T18:42:16.720056Z"
    },
    "papermill": {
     "duration": 0.032373,
     "end_time": "2025-08-19T18:42:16.725956",
     "exception": false,
     "start_time": "2025-08-19T18:42:16.693583",
     "status": "completed"
    },
    "tags": []
   },
   "outputs": [
    {
     "data": {
      "text/plain": [
       "{'frau1': 0.9141393718830031,\n",
       " 'nongerman': 0.9116937068433166,\n",
       " 'nongerman_male': 0.9260560208952535,\n",
       " 'nongerman_female': 0.8879284649776453}"
      ]
     },
     "execution_count": 54,
     "metadata": {},
     "output_type": "execute_result"
    }
   ],
   "source": [
    "cond_coverage"
   ]
  },
  {
   "cell_type": "code",
   "execution_count": 55,
   "id": "942895c7",
   "metadata": {
    "execution": {
     "iopub.execute_input": "2025-08-19T18:42:16.754627Z",
     "iopub.status.busy": "2025-08-19T18:42:16.753826Z",
     "iopub.status.idle": "2025-08-19T18:42:16.766431Z",
     "shell.execute_reply": "2025-08-19T18:42:16.765600Z"
    },
    "papermill": {
     "duration": 0.027903,
     "end_time": "2025-08-19T18:42:16.768395",
     "exception": false,
     "start_time": "2025-08-19T18:42:16.740492",
     "status": "completed"
    },
    "tags": []
   },
   "outputs": [],
   "source": [
    "for subgroup, cov in cond_coverage.items():\n",
    "    cp_metrics_df[f\"cov_{subgroup}\"] = cov"
   ]
  },
  {
   "cell_type": "code",
   "execution_count": 56,
   "id": "3970120f",
   "metadata": {
    "execution": {
     "iopub.execute_input": "2025-08-19T18:42:16.804684Z",
     "iopub.status.busy": "2025-08-19T18:42:16.804337Z",
     "iopub.status.idle": "2025-08-19T18:42:16.819832Z",
     "shell.execute_reply": "2025-08-19T18:42:16.819164Z"
    },
    "papermill": {
     "duration": 0.033635,
     "end_time": "2025-08-19T18:42:16.824123",
     "exception": false,
     "start_time": "2025-08-19T18:42:16.790488",
     "status": "completed"
    },
    "tags": []
   },
   "outputs": [
    {
     "data": {
      "text/html": [
       "<div>\n",
       "<style scoped>\n",
       "    .dataframe tbody tr th:only-of-type {\n",
       "        vertical-align: middle;\n",
       "    }\n",
       "\n",
       "    .dataframe tbody tr th {\n",
       "        vertical-align: top;\n",
       "    }\n",
       "\n",
       "    .dataframe thead th {\n",
       "        text-align: right;\n",
       "    }\n",
       "</style>\n",
       "<table border=\"1\" class=\"dataframe\">\n",
       "  <thead>\n",
       "    <tr style=\"text-align: right;\">\n",
       "      <th></th>\n",
       "      <th>universe_id</th>\n",
       "      <th>universe_training_year</th>\n",
       "      <th>universe_training_size</th>\n",
       "      <th>universe_scale</th>\n",
       "      <th>universe_model</th>\n",
       "      <th>universe_exclude_features</th>\n",
       "      <th>universe_exclude_subgroups</th>\n",
       "      <th>q_hat</th>\n",
       "      <th>coverage</th>\n",
       "      <th>avg_size</th>\n",
       "      <th>cov_frau1</th>\n",
       "      <th>cov_nongerman</th>\n",
       "      <th>cov_nongerman_male</th>\n",
       "      <th>cov_nongerman_female</th>\n",
       "    </tr>\n",
       "  </thead>\n",
       "  <tbody>\n",
       "    <tr>\n",
       "      <th>0</th>\n",
       "      <td>3913eb247a3d8e4dccc082fd444aebff</td>\n",
       "      <td>2010_14</td>\n",
       "      <td>5k</td>\n",
       "      <td>scale</td>\n",
       "      <td>rf</td>\n",
       "      <td>nationality</td>\n",
       "      <td>keep-all</td>\n",
       "      <td>0.67</td>\n",
       "      <td>0.916431</td>\n",
       "      <td>1.151979</td>\n",
       "      <td>0.914139</td>\n",
       "      <td>0.911694</td>\n",
       "      <td>0.926056</td>\n",
       "      <td>0.887928</td>\n",
       "    </tr>\n",
       "  </tbody>\n",
       "</table>\n",
       "</div>"
      ],
      "text/plain": [
       "                        universe_id universe_training_year  \\\n",
       "0  3913eb247a3d8e4dccc082fd444aebff                2010_14   \n",
       "\n",
       "  universe_training_size universe_scale universe_model  \\\n",
       "0                     5k          scale             rf   \n",
       "\n",
       "  universe_exclude_features universe_exclude_subgroups  q_hat  coverage  \\\n",
       "0               nationality                   keep-all   0.67  0.916431   \n",
       "\n",
       "   avg_size  cov_frau1  cov_nongerman  cov_nongerman_male  \\\n",
       "0  1.151979   0.914139       0.911694            0.926056   \n",
       "\n",
       "   cov_nongerman_female  \n",
       "0              0.887928  "
      ]
     },
     "execution_count": 56,
     "metadata": {},
     "output_type": "execute_result"
    }
   ],
   "source": [
    "cp_metrics_df"
   ]
  },
  {
   "cell_type": "markdown",
   "id": "3fc519cc",
   "metadata": {
    "papermill": {
     "duration": 0.024642,
     "end_time": "2025-08-19T18:42:16.873728",
     "exception": false,
     "start_time": "2025-08-19T18:42:16.849086",
     "status": "completed"
    },
    "tags": []
   },
   "source": [
    "# (Fairness) Metrics"
   ]
  },
  {
   "cell_type": "code",
   "execution_count": 57,
   "id": "a2e5e155",
   "metadata": {
    "execution": {
     "iopub.execute_input": "2025-08-19T18:42:16.907649Z",
     "iopub.status.busy": "2025-08-19T18:42:16.907240Z",
     "iopub.status.idle": "2025-08-19T18:42:16.937449Z",
     "shell.execute_reply": "2025-08-19T18:42:16.936119Z"
    },
    "papermill": {
     "duration": 0.055239,
     "end_time": "2025-08-19T18:42:16.943748",
     "exception": false,
     "start_time": "2025-08-19T18:42:16.888509",
     "status": "completed"
    },
    "tags": []
   },
   "outputs": [],
   "source": [
    "colname_to_bin = \"maxdeutsch1\"\n",
    "majority_value = org_train[colname_to_bin].mode()[0]\n",
    "\n",
    "org_test[\"majmin\"] = np.where(org_test[colname_to_bin] == majority_value, \"majority\", \"minority\")"
   ]
  },
  {
   "cell_type": "code",
   "execution_count": 58,
   "id": "17e3e4d5",
   "metadata": {
    "execution": {
     "iopub.execute_input": "2025-08-19T18:42:16.984144Z",
     "iopub.status.busy": "2025-08-19T18:42:16.983397Z",
     "iopub.status.idle": "2025-08-19T18:42:18.768449Z",
     "shell.execute_reply": "2025-08-19T18:42:18.767177Z"
    },
    "papermill": {
     "duration": 1.801629,
     "end_time": "2025-08-19T18:42:18.770068",
     "exception": false,
     "start_time": "2025-08-19T18:42:16.968439",
     "status": "completed"
    },
    "tags": []
   },
   "outputs": [],
   "source": [
    "example_universe = universe.copy()\n",
    "example_universe[\"cutoff\"] = example_universe[\"cutoff\"][0]\n",
    "example_universe[\"eval_fairness_grouping\"] = example_universe[\"eval_fairness_grouping\"][0]\n",
    "fairness_dict, metric_frame = universe_analysis.compute_metrics(\n",
    "    example_universe,\n",
    "    y_pred_prob=probs_test,\n",
    "    y_test=y_true,\n",
    "    org_test=org_test,\n",
    ")"
   ]
  },
  {
   "cell_type": "markdown",
   "id": "1fb7a0e9",
   "metadata": {
    "papermill": {
     "duration": 0.019892,
     "end_time": "2025-08-19T18:42:18.807529",
     "exception": false,
     "start_time": "2025-08-19T18:42:18.787637",
     "status": "completed"
    },
    "tags": []
   },
   "source": [
    "# Overall"
   ]
  },
  {
   "cell_type": "markdown",
   "id": "be1784b1",
   "metadata": {
    "papermill": {
     "duration": 0.012228,
     "end_time": "2025-08-19T18:42:18.832092",
     "exception": false,
     "start_time": "2025-08-19T18:42:18.819864",
     "status": "completed"
    },
    "tags": []
   },
   "source": [
    "Main fairness target: Equalized Odds. Seems to be a better fit than equal opportunity, since we're not only interested in Y = 1. Seems to be a better fit than demographic parity, since we also care about accuracy, not just equal distribution of preds.\n",
    "\n",
    "Pick column for computation of fairness metrics\n",
    "\n",
    "Performance\n",
    "Overall performance measures, most interesting in relation to the measures split by group below"
   ]
  },
  {
   "cell_type": "code",
   "execution_count": 59,
   "id": "b7672bee",
   "metadata": {
    "execution": {
     "iopub.execute_input": "2025-08-19T18:42:18.858335Z",
     "iopub.status.busy": "2025-08-19T18:42:18.858002Z",
     "iopub.status.idle": "2025-08-19T18:42:18.866957Z",
     "shell.execute_reply": "2025-08-19T18:42:18.866115Z"
    },
    "papermill": {
     "duration": 0.024698,
     "end_time": "2025-08-19T18:42:18.869204",
     "exception": false,
     "start_time": "2025-08-19T18:42:18.844506",
     "status": "completed"
    },
    "tags": []
   },
   "outputs": [
    {
     "data": {
      "text/plain": [
       "accuracy                   0.201115\n",
       "balanced accuracy          0.531438\n",
       "f1                         0.238595\n",
       "precision                  0.135915\n",
       "false positive rate        0.912879\n",
       "false negative rate        0.024244\n",
       "selection rate             0.920945\n",
       "count                  89710.000000\n",
       "dtype: float64"
      ]
     },
     "execution_count": 59,
     "metadata": {},
     "output_type": "execute_result"
    }
   ],
   "source": [
    "metric_frame.overall"
   ]
  },
  {
   "cell_type": "markdown",
   "id": "d93333c9",
   "metadata": {
    "papermill": {
     "duration": 0.012457,
     "end_time": "2025-08-19T18:42:18.896918",
     "exception": false,
     "start_time": "2025-08-19T18:42:18.884461",
     "status": "completed"
    },
    "tags": []
   },
   "source": [
    "By Group"
   ]
  },
  {
   "cell_type": "code",
   "execution_count": 60,
   "id": "52256966",
   "metadata": {
    "execution": {
     "iopub.execute_input": "2025-08-19T18:42:18.922761Z",
     "iopub.status.busy": "2025-08-19T18:42:18.922458Z",
     "iopub.status.idle": "2025-08-19T18:42:18.936906Z",
     "shell.execute_reply": "2025-08-19T18:42:18.935646Z"
    },
    "papermill": {
     "duration": 0.028811,
     "end_time": "2025-08-19T18:42:18.938061",
     "exception": false,
     "start_time": "2025-08-19T18:42:18.909250",
     "status": "completed"
    },
    "tags": []
   },
   "outputs": [
    {
     "data": {
      "text/html": [
       "<div>\n",
       "<style scoped>\n",
       "    .dataframe tbody tr th:only-of-type {\n",
       "        vertical-align: middle;\n",
       "    }\n",
       "\n",
       "    .dataframe tbody tr th {\n",
       "        vertical-align: top;\n",
       "    }\n",
       "\n",
       "    .dataframe thead th {\n",
       "        text-align: right;\n",
       "    }\n",
       "</style>\n",
       "<table border=\"1\" class=\"dataframe\">\n",
       "  <thead>\n",
       "    <tr style=\"text-align: right;\">\n",
       "      <th></th>\n",
       "      <th>accuracy</th>\n",
       "      <th>balanced accuracy</th>\n",
       "      <th>f1</th>\n",
       "      <th>precision</th>\n",
       "      <th>false positive rate</th>\n",
       "      <th>false negative rate</th>\n",
       "      <th>selection rate</th>\n",
       "      <th>count</th>\n",
       "    </tr>\n",
       "    <tr>\n",
       "      <th>majmin</th>\n",
       "      <th></th>\n",
       "      <th></th>\n",
       "      <th></th>\n",
       "      <th></th>\n",
       "      <th></th>\n",
       "      <th></th>\n",
       "      <th></th>\n",
       "      <th></th>\n",
       "    </tr>\n",
       "  </thead>\n",
       "  <tbody>\n",
       "    <tr>\n",
       "      <th>majority</th>\n",
       "      <td>0.193682</td>\n",
       "      <td>0.531283</td>\n",
       "      <td>0.245015</td>\n",
       "      <td>0.139805</td>\n",
       "      <td>0.927586</td>\n",
       "      <td>0.009847</td>\n",
       "      <td>0.935854</td>\n",
       "      <td>69170.0</td>\n",
       "    </tr>\n",
       "    <tr>\n",
       "      <th>minority</th>\n",
       "      <td>0.226144</td>\n",
       "      <td>0.527945</td>\n",
       "      <td>0.215178</td>\n",
       "      <td>0.121834</td>\n",
       "      <td>0.864297</td>\n",
       "      <td>0.079814</td>\n",
       "      <td>0.870740</td>\n",
       "      <td>20540.0</td>\n",
       "    </tr>\n",
       "  </tbody>\n",
       "</table>\n",
       "</div>"
      ],
      "text/plain": [
       "          accuracy  balanced accuracy        f1  precision  \\\n",
       "majmin                                                       \n",
       "majority  0.193682           0.531283  0.245015   0.139805   \n",
       "minority  0.226144           0.527945  0.215178   0.121834   \n",
       "\n",
       "          false positive rate  false negative rate  selection rate    count  \n",
       "majmin                                                                       \n",
       "majority             0.927586             0.009847        0.935854  69170.0  \n",
       "minority             0.864297             0.079814        0.870740  20540.0  "
      ]
     },
     "execution_count": 60,
     "metadata": {},
     "output_type": "execute_result"
    }
   ],
   "source": [
    "metric_frame.by_group"
   ]
  },
  {
   "cell_type": "code",
   "execution_count": 61,
   "id": "6e6c20ae",
   "metadata": {
    "execution": {
     "iopub.execute_input": "2025-08-19T18:42:18.964585Z",
     "iopub.status.busy": "2025-08-19T18:42:18.964245Z",
     "iopub.status.idle": "2025-08-19T18:42:20.790489Z",
     "shell.execute_reply": "2025-08-19T18:42:20.789478Z"
    },
    "papermill": {
     "duration": 1.840945,
     "end_time": "2025-08-19T18:42:20.791797",
     "exception": false,
     "start_time": "2025-08-19T18:42:18.950852",
     "status": "completed"
    },
    "tags": []
   },
   "outputs": [
    {
     "data": {
      "text/plain": [
       "array([[<Axes: title={'center': 'accuracy'}, xlabel='majmin'>,\n",
       "        <Axes: title={'center': 'balanced accuracy'}, xlabel='majmin'>,\n",
       "        <Axes: title={'center': 'f1'}, xlabel='majmin'>],\n",
       "       [<Axes: title={'center': 'precision'}, xlabel='majmin'>,\n",
       "        <Axes: title={'center': 'false positive rate'}, xlabel='majmin'>,\n",
       "        <Axes: title={'center': 'false negative rate'}, xlabel='majmin'>],\n",
       "       [<Axes: title={'center': 'selection rate'}, xlabel='majmin'>,\n",
       "        <Axes: title={'center': 'count'}, xlabel='majmin'>,\n",
       "        <Axes: xlabel='majmin'>]], dtype=object)"
      ]
     },
     "execution_count": 61,
     "metadata": {},
     "output_type": "execute_result"
    },
    {
     "data": {
      "image/png": "[encoded data removed]",
      "text/plain": [
       "<Figure size 1200x800 with 9 Axes>"
      ]
     },
     "metadata": {},
     "output_type": "display_data"
    }
   ],
   "source": [
    "# In a graphic\n",
    "metric_frame.by_group.plot.bar(\n",
    "    subplots=True,\n",
    "    layout=[3, 3],\n",
    "    legend=False,\n",
    "    figsize=[12, 8],\n",
    "    title=\"Show all metrics\",\n",
    ")"
   ]
  },
  {
   "cell_type": "markdown",
   "id": "b2e433ae",
   "metadata": {
    "papermill": {
     "duration": 0.013914,
     "end_time": "2025-08-19T18:42:20.819981",
     "exception": false,
     "start_time": "2025-08-19T18:42:20.806067",
     "status": "completed"
    },
    "tags": []
   },
   "source": [
    "# Final Output"
   ]
  },
  {
   "cell_type": "code",
   "execution_count": 62,
   "id": "3871301e",
   "metadata": {
    "execution": {
     "iopub.execute_input": "2025-08-19T18:42:20.849522Z",
     "iopub.status.busy": "2025-08-19T18:42:20.848689Z",
     "iopub.status.idle": "2025-08-19T18:42:20.857667Z",
     "shell.execute_reply": "2025-08-19T18:42:20.856952Z"
    },
    "papermill": {
     "duration": 0.025295,
     "end_time": "2025-08-19T18:42:20.858939",
     "exception": false,
     "start_time": "2025-08-19T18:42:20.833644",
     "status": "completed"
    },
    "tags": []
   },
   "outputs": [
    {
     "data": {
      "text/plain": [
       "4"
      ]
     },
     "execution_count": 62,
     "metadata": {},
     "output_type": "execute_result"
    }
   ],
   "source": [
    "sub_universes = universe_analysis.generate_sub_universes()\n",
    "len(sub_universes)"
   ]
  },
  {
   "cell_type": "code",
   "execution_count": 63,
   "id": "d9cfdaca",
   "metadata": {
    "execution": {
     "iopub.execute_input": "2025-08-19T18:42:20.888505Z",
     "iopub.status.busy": "2025-08-19T18:42:20.887774Z",
     "iopub.status.idle": "2025-08-19T18:42:20.895625Z",
     "shell.execute_reply": "2025-08-19T18:42:20.894522Z"
    },
    "papermill": {
     "duration": 0.024413,
     "end_time": "2025-08-19T18:42:20.897179",
     "exception": false,
     "start_time": "2025-08-19T18:42:20.872766",
     "status": "completed"
    },
    "tags": []
   },
   "outputs": [],
   "source": [
    "def filter_sub_universe_data(sub_universe, org_test):\n",
    "    # Keep all rows — no filtering\n",
    "    keep_rows_mask = np.ones(org_test.shape[0], dtype=bool)\n",
    "\n",
    "    print(f\"[INFO] Keeping all rows: {keep_rows_mask.sum()} rows retained.\")\n",
    "    return keep_rows_mask"
   ]
  },
  {
   "cell_type": "code",
   "execution_count": 64,
   "id": "2bc31ac1",
   "metadata": {
    "execution": {
     "iopub.execute_input": "2025-08-19T18:42:20.927546Z",
     "iopub.status.busy": "2025-08-19T18:42:20.926675Z",
     "iopub.status.idle": "2025-08-19T18:42:27.851300Z",
     "shell.execute_reply": "2025-08-19T18:42:27.850188Z"
    },
    "papermill": {
     "duration": 6.941621,
     "end_time": "2025-08-19T18:42:27.853097",
     "exception": false,
     "start_time": "2025-08-19T18:42:20.911476",
     "status": "completed"
    },
    "tags": []
   },
   "outputs": [
    {
     "name": "stdout",
     "output_type": "stream",
     "text": [
      "Stopping execution_time clock.\n",
      "[INFO] Keeping all rows: 89710 rows retained.\n"
     ]
    },
    {
     "name": "stdout",
     "output_type": "stream",
     "text": [
      "[INFO] Keeping all rows: 89710 rows retained.\n"
     ]
    },
    {
     "name": "stdout",
     "output_type": "stream",
     "text": [
      "[INFO] Keeping all rows: 89710 rows retained.\n"
     ]
    },
    {
     "name": "stdout",
     "output_type": "stream",
     "text": [
      "[INFO] Keeping all rows: 89710 rows retained.\n"
     ]
    },
    {
     "data": {
      "text/html": [
       "<div>\n",
       "<style scoped>\n",
       "    .dataframe tbody tr th:only-of-type {\n",
       "        vertical-align: middle;\n",
       "    }\n",
       "\n",
       "    .dataframe tbody tr th {\n",
       "        vertical-align: top;\n",
       "    }\n",
       "\n",
       "    .dataframe thead th {\n",
       "        text-align: right;\n",
       "    }\n",
       "</style>\n",
       "<table border=\"1\" class=\"dataframe\">\n",
       "  <thead>\n",
       "    <tr style=\"text-align: right;\">\n",
       "      <th></th>\n",
       "      <th>run_no</th>\n",
       "      <th>universe_id</th>\n",
       "      <th>universe_settings</th>\n",
       "      <th>execution_time</th>\n",
       "      <th>test_size_n</th>\n",
       "      <th>test_size_frac</th>\n",
       "      <th>fair_main_equalized_odds_difference</th>\n",
       "      <th>fair_main_equalized_odds_ratio</th>\n",
       "      <th>fair_main_demographic_parity_difference</th>\n",
       "      <th>fair_main_demographic_parity_ratio</th>\n",
       "      <th>...</th>\n",
       "      <th>perf_grp_precision_0</th>\n",
       "      <th>perf_grp_precision_1</th>\n",
       "      <th>perf_grp_false positive rate_0</th>\n",
       "      <th>perf_grp_false positive rate_1</th>\n",
       "      <th>perf_grp_false negative rate_0</th>\n",
       "      <th>perf_grp_false negative rate_1</th>\n",
       "      <th>perf_grp_selection rate_0</th>\n",
       "      <th>perf_grp_selection rate_1</th>\n",
       "      <th>perf_grp_count_0</th>\n",
       "      <th>perf_grp_count_1</th>\n",
       "    </tr>\n",
       "  </thead>\n",
       "  <tbody>\n",
       "    <tr>\n",
       "      <th>0</th>\n",
       "      <td>3</td>\n",
       "      <td>3913eb247a3d8e4dccc082fd444aebff</td>\n",
       "      <td>{\"cutoff\": \"quantile_0.1\", \"eval_fairness_grou...</td>\n",
       "      <td>30.121227</td>\n",
       "      <td>89710</td>\n",
       "      <td>1.0</td>\n",
       "      <td>0.069967</td>\n",
       "      <td>0.929337</td>\n",
       "      <td>0.065114</td>\n",
       "      <td>0.930423</td>\n",
       "      <td>...</td>\n",
       "      <td>NaN</td>\n",
       "      <td>NaN</td>\n",
       "      <td>NaN</td>\n",
       "      <td>NaN</td>\n",
       "      <td>NaN</td>\n",
       "      <td>NaN</td>\n",
       "      <td>NaN</td>\n",
       "      <td>NaN</td>\n",
       "      <td>NaN</td>\n",
       "      <td>NaN</td>\n",
       "    </tr>\n",
       "    <tr>\n",
       "      <th>0</th>\n",
       "      <td>3</td>\n",
       "      <td>3913eb247a3d8e4dccc082fd444aebff</td>\n",
       "      <td>{\"cutoff\": \"quantile_0.1\", \"eval_fairness_grou...</td>\n",
       "      <td>30.121227</td>\n",
       "      <td>89710</td>\n",
       "      <td>1.0</td>\n",
       "      <td>0.069967</td>\n",
       "      <td>0.929337</td>\n",
       "      <td>0.065114</td>\n",
       "      <td>0.930423</td>\n",
       "      <td>...</td>\n",
       "      <td>0.121834</td>\n",
       "      <td>0.139805</td>\n",
       "      <td>0.864297</td>\n",
       "      <td>0.927586</td>\n",
       "      <td>0.079814</td>\n",
       "      <td>0.009847</td>\n",
       "      <td>0.87074</td>\n",
       "      <td>0.935854</td>\n",
       "      <td>20540.0</td>\n",
       "      <td>69170.0</td>\n",
       "    </tr>\n",
       "    <tr>\n",
       "      <th>0</th>\n",
       "      <td>3</td>\n",
       "      <td>3913eb247a3d8e4dccc082fd444aebff</td>\n",
       "      <td>{\"cutoff\": \"quantile_0.25\", \"eval_fairness_gro...</td>\n",
       "      <td>30.121227</td>\n",
       "      <td>89710</td>\n",
       "      <td>1.0</td>\n",
       "      <td>0.120587</td>\n",
       "      <td>0.874182</td>\n",
       "      <td>0.070015</td>\n",
       "      <td>0.911746</td>\n",
       "      <td>...</td>\n",
       "      <td>NaN</td>\n",
       "      <td>NaN</td>\n",
       "      <td>NaN</td>\n",
       "      <td>NaN</td>\n",
       "      <td>NaN</td>\n",
       "      <td>NaN</td>\n",
       "      <td>NaN</td>\n",
       "      <td>NaN</td>\n",
       "      <td>NaN</td>\n",
       "      <td>NaN</td>\n",
       "    </tr>\n",
       "    <tr>\n",
       "      <th>0</th>\n",
       "      <td>3</td>\n",
       "      <td>3913eb247a3d8e4dccc082fd444aebff</td>\n",
       "      <td>{\"cutoff\": \"quantile_0.25\", \"eval_fairness_gro...</td>\n",
       "      <td>30.121227</td>\n",
       "      <td>89710</td>\n",
       "      <td>1.0</td>\n",
       "      <td>0.120587</td>\n",
       "      <td>0.874182</td>\n",
       "      <td>0.070015</td>\n",
       "      <td>0.911746</td>\n",
       "      <td>...</td>\n",
       "      <td>0.133540</td>\n",
       "      <td>0.159636</td>\n",
       "      <td>0.708398</td>\n",
       "      <td>0.768199</td>\n",
       "      <td>0.162162</td>\n",
       "      <td>0.041575</td>\n",
       "      <td>0.72332</td>\n",
       "      <td>0.793335</td>\n",
       "      <td>20540.0</td>\n",
       "      <td>69170.0</td>\n",
       "    </tr>\n",
       "  </tbody>\n",
       "</table>\n",
       "<p>4 rows × 50 columns</p>\n",
       "</div>"
      ],
      "text/plain": [
       "  run_no                       universe_id  \\\n",
       "0      3  3913eb247a3d8e4dccc082fd444aebff   \n",
       "0      3  3913eb247a3d8e4dccc082fd444aebff   \n",
       "0      3  3913eb247a3d8e4dccc082fd444aebff   \n",
       "0      3  3913eb247a3d8e4dccc082fd444aebff   \n",
       "\n",
       "                                   universe_settings  execution_time  \\\n",
       "0  {\"cutoff\": \"quantile_0.1\", \"eval_fairness_grou...       30.121227   \n",
       "0  {\"cutoff\": \"quantile_0.1\", \"eval_fairness_grou...       30.121227   \n",
       "0  {\"cutoff\": \"quantile_0.25\", \"eval_fairness_gro...       30.121227   \n",
       "0  {\"cutoff\": \"quantile_0.25\", \"eval_fairness_gro...       30.121227   \n",
       "\n",
       "   test_size_n  test_size_frac  fair_main_equalized_odds_difference  \\\n",
       "0        89710             1.0                             0.069967   \n",
       "0        89710             1.0                             0.069967   \n",
       "0        89710             1.0                             0.120587   \n",
       "0        89710             1.0                             0.120587   \n",
       "\n",
       "   fair_main_equalized_odds_ratio  fair_main_demographic_parity_difference  \\\n",
       "0                        0.929337                                 0.065114   \n",
       "0                        0.929337                                 0.065114   \n",
       "0                        0.874182                                 0.070015   \n",
       "0                        0.874182                                 0.070015   \n",
       "\n",
       "   fair_main_demographic_parity_ratio  ...  perf_grp_precision_0  \\\n",
       "0                            0.930423  ...                   NaN   \n",
       "0                            0.930423  ...              0.121834   \n",
       "0                            0.911746  ...                   NaN   \n",
       "0                            0.911746  ...              0.133540   \n",
       "\n",
       "   perf_grp_precision_1  perf_grp_false positive rate_0  \\\n",
       "0                   NaN                             NaN   \n",
       "0              0.139805                        0.864297   \n",
       "0                   NaN                             NaN   \n",
       "0              0.159636                        0.708398   \n",
       "\n",
       "   perf_grp_false positive rate_1  perf_grp_false negative rate_0  \\\n",
       "0                             NaN                             NaN   \n",
       "0                        0.927586                        0.079814   \n",
       "0                             NaN                             NaN   \n",
       "0                        0.768199                        0.162162   \n",
       "\n",
       "   perf_grp_false negative rate_1  perf_grp_selection rate_0  \\\n",
       "0                             NaN                        NaN   \n",
       "0                        0.009847                    0.87074   \n",
       "0                             NaN                        NaN   \n",
       "0                        0.041575                    0.72332   \n",
       "\n",
       "   perf_grp_selection rate_1  perf_grp_count_0  perf_grp_count_1  \n",
       "0                        NaN               NaN               NaN  \n",
       "0                   0.935854           20540.0           69170.0  \n",
       "0                        NaN               NaN               NaN  \n",
       "0                   0.793335           20540.0           69170.0  \n",
       "\n",
       "[4 rows x 50 columns]"
      ]
     },
     "execution_count": 64,
     "metadata": {},
     "output_type": "execute_result"
    }
   ],
   "source": [
    "final_output = universe_analysis.generate_final_output(\n",
    "    y_pred_prob=probs_test,\n",
    "    y_test=y_true,\n",
    "    org_test=org_test,\n",
    "    filter_data=filter_sub_universe_data,\n",
    "    cp_metrics_df=cp_metrics_df,\n",
    "    save=True,\n",
    ")\n",
    "final_output"
   ]
  },
  {
   "cell_type": "code",
   "execution_count": null,
   "id": "8b80a1ff",
   "metadata": {
    "papermill": {
     "duration": 0.014764,
     "end_time": "2025-08-19T18:42:27.887495",
     "exception": false,
     "start_time": "2025-08-19T18:42:27.872731",
     "status": "completed"
    },
    "tags": []
   },
   "outputs": [],
   "source": []
  },
  {
   "cell_type": "code",
   "execution_count": null,
   "id": "275c9fad",
   "metadata": {
    "papermill": {
     "duration": 0.014941,
     "end_time": "2025-08-19T18:42:27.916958",
     "exception": false,
     "start_time": "2025-08-19T18:42:27.902017",
     "status": "completed"
    },
    "tags": []
   },
   "outputs": [],
   "source": []
  }
 ],
 "metadata": {
  "celltoolbar": "Tags",
  "kernelspec": {
   "display_name": "Python (CMA Fairness)",
   "language": "python",
   "name": "cma_fair_env"
  },
  "language_info": {
   "codemirror_mode": {
    "name": "ipython",
    "version": 3
   },
   "file_extension": ".py",
   "mimetype": "text/x-python",
   "name": "python",
   "nbconvert_exporter": "python",
   "pygments_lexer": "ipython3",
   "version": "3.10.12"
  },
  "papermill": {
   "default_parameters": {},
   "duration": 40.73599,
   "end_time": "2025-08-19T18:42:28.754452",
   "environment_variables": {},
   "exception": null,
   "input_path": "universe_analysis.ipynb",
   "output_path": "output/runs/3/notebooks/m_3-3913eb247a3d8e4dccc082fd444aebff.ipynb",
   "parameters": {
    "output_dir": "output",
    "run_no": "3",
    "seed": "2023",
    "universe": "{\"cutoff\": [\"quantile_0.1\", \"quantile_0.25\"], \"eval_fairness_grouping\": [\"majority-minority\", \"nationality-all\"], \"exclude_features\": \"nationality\", \"exclude_subgroups\": \"keep-all\", \"model\": \"rf\", \"scale\": \"scale\", \"training_size\": \"5k\", \"training_year\": \"2010_14\"}",
    "universe_id": "3913eb247a3d8e4dccc082fd444aebff"
   },
   "start_time": "2025-08-19T18:41:48.018462",
   "version": "2.6.0"
  }
 },
 "nbformat": 4,
 "nbformat_minor": 5
}