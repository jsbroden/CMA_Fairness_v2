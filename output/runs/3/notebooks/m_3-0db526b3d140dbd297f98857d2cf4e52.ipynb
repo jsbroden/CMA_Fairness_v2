{
 "cells": [
  {
   "cell_type": "markdown",
   "id": "ef23dbb3",
   "metadata": {
    "papermill": {
     "duration": 0.019823,
     "end_time": "2025-08-19T18:13:42.227892",
     "exception": false,
     "start_time": "2025-08-19T18:13:42.208069",
     "status": "completed"
    },
    "tags": []
   },
   "source": [
    "# Setup"
   ]
  },
  {
   "cell_type": "code",
   "execution_count": 1,
   "id": "0bc8e7dc",
   "metadata": {
    "execution": {
     "iopub.execute_input": "2025-08-19T18:13:42.249235Z",
     "iopub.status.busy": "2025-08-19T18:13:42.248678Z",
     "iopub.status.idle": "2025-08-19T18:13:42.259437Z",
     "shell.execute_reply": "2025-08-19T18:13:42.258853Z"
    },
    "papermill": {
     "duration": 0.021688,
     "end_time": "2025-08-19T18:13:42.260568",
     "exception": false,
     "start_time": "2025-08-19T18:13:42.238880",
     "status": "completed"
    },
    "tags": []
   },
   "outputs": [
    {
     "name": "stdout",
     "output_type": "stream",
     "text": [
      "/dss/dsshome1/0C/ra93lal2/cma/CMA_Fairness_v2\n"
     ]
    },
    {
     "name": "stderr",
     "output_type": "stream",
     "text": [
      "/dss/dsshome1/0C/ra93lal2/.local/share/virtualenvs/CMA_Fairness_v2-3j10GkSs/lib/python3.10/site-packages/IPython/core/magics/osm.py:393: UserWarning: This is now an optional IPython functionality, using bookmarks requires you to install the `pickleshare` library.\n",
      "  bkms = self.shell.db.get('bookmarks', {})\n",
      "/dss/dsshome1/0C/ra93lal2/.local/share/virtualenvs/CMA_Fairness_v2-3j10GkSs/lib/python3.10/site-packages/IPython/core/magics/osm.py:417: UserWarning: This is now an optional IPython functionality, setting dhist requires you to install the `pickleshare` library.\n",
      "  self.shell.db['dhist'] = compress_dhist(dhist)[-100:]\n"
     ]
    }
   ],
   "source": [
    "%cd ~/cma/CMA_Fairness_v2"
   ]
  },
  {
   "cell_type": "markdown",
   "id": "9d235661",
   "metadata": {
    "papermill": {
     "duration": 0.010008,
     "end_time": "2025-08-19T18:13:42.285504",
     "exception": false,
     "start_time": "2025-08-19T18:13:42.275496",
     "status": "completed"
    },
    "tags": []
   },
   "source": [
    "The following cell holds the definition of our parameters, these values can be overriden by rendering the with e.g. the following command:\n",
    "\n",
    "papermill -p alpha 0.2 -p ratio 0.3 universe_analysis.ipynb output/test_run.ipynb"
   ]
  },
  {
   "cell_type": "code",
   "execution_count": 2,
   "id": "4a789d8e",
   "metadata": {
    "execution": {
     "iopub.execute_input": "2025-08-19T18:13:42.306661Z",
     "iopub.status.busy": "2025-08-19T18:13:42.305578Z",
     "iopub.status.idle": "2025-08-19T18:13:42.315589Z",
     "shell.execute_reply": "2025-08-19T18:13:42.313922Z"
    },
    "papermill": {
     "duration": 0.022894,
     "end_time": "2025-08-19T18:13:42.317345",
     "exception": false,
     "start_time": "2025-08-19T18:13:42.294451",
     "status": "completed"
    },
    "tags": []
   },
   "outputs": [
    {
     "name": "stdout",
     "output_type": "stream",
     "text": [
      "Current working directory: /dss/dsshome1/0C/ra93lal2/cma/CMA_Fairness_v2\n"
     ]
    }
   ],
   "source": [
    "import os\n",
    "print(\"Current working directory:\", os.getcwd())"
   ]
  },
  {
   "cell_type": "code",
   "execution_count": 3,
   "id": "4132aaed",
   "metadata": {
    "execution": {
     "iopub.execute_input": "2025-08-19T18:13:42.338887Z",
     "iopub.status.busy": "2025-08-19T18:13:42.337604Z",
     "iopub.status.idle": "2025-08-19T18:13:42.347998Z",
     "shell.execute_reply": "2025-08-19T18:13:42.346283Z"
    },
    "papermill": {
     "duration": 0.023092,
     "end_time": "2025-08-19T18:13:42.349990",
     "exception": false,
     "start_time": "2025-08-19T18:13:42.326898",
     "status": "completed"
    },
    "tags": [
     "parameters"
    ]
   },
   "outputs": [],
   "source": [
    "run_no = 0\n",
    "universe_id = \"test\"\n",
    "universe = {\n",
    "    \"training_size\": \"5k\", # \"25k\", \"5k\", \"1k\"\n",
    "    \"training_year\": \"2012_14\", # \"2014\", \"2012_14\", \"2010_14\"\n",
    "    \"scale\": \"scale\", # \"scale\", \"do-not-scale\",\n",
    "    \"model\": \"elasticnet\", # \"logreg\", \"penalized_logreg\", \"rf\", \"gbm\", \"elasticnet\"\n",
    "    \"cutoff\": [\"quantile_0.15\", \"quantile_0.30\"],\n",
    "    \"exclude_features\": \"age\", # \"none\", \"nationality\", \"sex\", \"nationality-sex\", \"age\"\n",
    "    \"exclude_subgroups\": \"drop-non-german\", # \"keep-all\", \"drop-non-german\"\n",
    "    \"eval_fairness_grouping\": [\"majority-minority\", \"nationality-all\"]\n",
    "}\n",
    "\n",
    "output_dir=\"./output\"\n",
    "seed=0"
   ]
  },
  {
   "cell_type": "code",
   "execution_count": 4,
   "id": "6e81fdd8",
   "metadata": {
    "execution": {
     "iopub.execute_input": "2025-08-19T18:13:42.375495Z",
     "iopub.status.busy": "2025-08-19T18:13:42.373400Z",
     "iopub.status.idle": "2025-08-19T18:13:42.382827Z",
     "shell.execute_reply": "2025-08-19T18:13:42.381076Z"
    },
    "papermill": {
     "duration": 0.022376,
     "end_time": "2025-08-19T18:13:42.384616",
     "exception": false,
     "start_time": "2025-08-19T18:13:42.362240",
     "status": "completed"
    },
    "tags": [
     "injected-parameters"
    ]
   },
   "outputs": [],
   "source": [
    "# Parameters\n",
    "universe_id = \"0db526b3d140dbd297f98857d2cf4e52\"\n",
    "run_no = \"3\"\n",
    "universe = \"{\\\"cutoff\\\": [\\\"quantile_0.1\\\", \\\"quantile_0.25\\\"], \\\"eval_fairness_grouping\\\": [\\\"majority-minority\\\", \\\"nationality-all\\\"], \\\"exclude_features\\\": \\\"nationality\\\", \\\"exclude_subgroups\\\": \\\"keep-all\\\", \\\"model\\\": \\\"penalized_logreg\\\", \\\"scale\\\": \\\"scale\\\", \\\"training_size\\\": \\\"25k\\\", \\\"training_year\\\": \\\"2010_14\\\"}\"\n",
    "output_dir = \"output\"\n",
    "seed = \"2023\"\n"
   ]
  },
  {
   "cell_type": "code",
   "execution_count": 5,
   "id": "a5d7941f",
   "metadata": {
    "execution": {
     "iopub.execute_input": "2025-08-19T18:13:42.422055Z",
     "iopub.status.busy": "2025-08-19T18:13:42.421387Z",
     "iopub.status.idle": "2025-08-19T18:13:42.426825Z",
     "shell.execute_reply": "2025-08-19T18:13:42.425905Z"
    },
    "papermill": {
     "duration": 0.031771,
     "end_time": "2025-08-19T18:13:42.428826",
     "exception": false,
     "start_time": "2025-08-19T18:13:42.397055",
     "status": "completed"
    },
    "tags": []
   },
   "outputs": [],
   "source": [
    "import json\n",
    "if isinstance(universe, str):\n",
    "    universe = json.loads(universe)"
   ]
  },
  {
   "cell_type": "code",
   "execution_count": 6,
   "id": "7076ccb1",
   "metadata": {
    "execution": {
     "iopub.execute_input": "2025-08-19T18:13:42.454645Z",
     "iopub.status.busy": "2025-08-19T18:13:42.454313Z",
     "iopub.status.idle": "2025-08-19T18:13:42.511329Z",
     "shell.execute_reply": "2025-08-19T18:13:42.510455Z"
    },
    "papermill": {
     "duration": 0.07038,
     "end_time": "2025-08-19T18:13:42.514178",
     "exception": false,
     "start_time": "2025-08-19T18:13:42.443798",
     "status": "completed"
    },
    "tags": []
   },
   "outputs": [],
   "source": [
    "# Auto-reload the custom package\n",
    "%load_ext autoreload\n",
    "%autoreload 1\n",
    "%aimport fairness_multiverse"
   ]
  },
  {
   "cell_type": "code",
   "execution_count": 7,
   "id": "94c8eb93",
   "metadata": {
    "execution": {
     "iopub.execute_input": "2025-08-19T18:13:42.547165Z",
     "iopub.status.busy": "2025-08-19T18:13:42.546364Z",
     "iopub.status.idle": "2025-08-19T18:13:44.104619Z",
     "shell.execute_reply": "2025-08-19T18:13:44.103605Z"
    },
    "papermill": {
     "duration": 1.573781,
     "end_time": "2025-08-19T18:13:44.106468",
     "exception": false,
     "start_time": "2025-08-19T18:13:42.532687",
     "status": "completed"
    },
    "tags": []
   },
   "outputs": [],
   "source": [
    "from fairness_multiverse.universe import UniverseAnalysis\n",
    "\n",
    "universe_analysis = UniverseAnalysis(\n",
    "    run_no = run_no,\n",
    "    universe_id = universe_id,\n",
    "    universe = universe,\n",
    "    output_dir=output_dir,\n",
    ")"
   ]
  },
  {
   "cell_type": "code",
   "execution_count": 8,
   "id": "2a6381cf",
   "metadata": {
    "execution": {
     "iopub.execute_input": "2025-08-19T18:13:44.126468Z",
     "iopub.status.busy": "2025-08-19T18:13:44.125997Z",
     "iopub.status.idle": "2025-08-19T18:13:44.131994Z",
     "shell.execute_reply": "2025-08-19T18:13:44.131164Z"
    },
    "papermill": {
     "duration": 0.017649,
     "end_time": "2025-08-19T18:13:44.133542",
     "exception": false,
     "start_time": "2025-08-19T18:13:44.115893",
     "status": "completed"
    },
    "tags": []
   },
   "outputs": [
    {
     "name": "stdout",
     "output_type": "stream",
     "text": [
      "Using Seed: 2023\n"
     ]
    }
   ],
   "source": [
    "import numpy as np\n",
    "parsed_seed = int(seed)\n",
    "np.random.seed(parsed_seed)\n",
    "print(f\"Using Seed: {parsed_seed}\")"
   ]
  },
  {
   "cell_type": "markdown",
   "id": "b6e958b4",
   "metadata": {
    "papermill": {
     "duration": 0.009128,
     "end_time": "2025-08-19T18:13:44.152312",
     "exception": false,
     "start_time": "2025-08-19T18:13:44.143184",
     "status": "completed"
    },
    "tags": []
   },
   "source": [
    "# Loading Data"
   ]
  },
  {
   "cell_type": "code",
   "execution_count": 9,
   "id": "98701482",
   "metadata": {
    "execution": {
     "iopub.execute_input": "2025-08-19T18:13:44.171915Z",
     "iopub.status.busy": "2025-08-19T18:13:44.171612Z",
     "iopub.status.idle": "2025-08-19T18:13:54.364827Z",
     "shell.execute_reply": "2025-08-19T18:13:54.363614Z"
    },
    "papermill": {
     "duration": 10.206192,
     "end_time": "2025-08-19T18:13:54.367599",
     "exception": false,
     "start_time": "2025-08-19T18:13:44.161407",
     "status": "completed"
    },
    "tags": []
   },
   "outputs": [
    {
     "name": "stdout",
     "output_type": "stream",
     "text": [
      "Loading SIAB data from cache: data/siab_cached.csv.gz\n"
     ]
    },
    {
     "name": "stdout",
     "output_type": "stream",
     "text": [
      "(643690, 164)\n"
     ]
    }
   ],
   "source": [
    "from pathlib import Path\n",
    "import pandas as pd\n",
    "\n",
    "# File paths\n",
    "raw_file = Path(\"data/raw/siab.csv\")\n",
    "cache_file = Path(\"data/siab_cached.csv.gz\")\n",
    "\n",
    "# Ensure cache directory exists\n",
    "cache_file.parent.mkdir(parents=True, exist_ok=True)\n",
    "\n",
    "# Load with simple caching\n",
    "if cache_file.exists():\n",
    "    print(f\"Loading SIAB data from cache: {cache_file}\")\n",
    "    siab = pd.read_csv(cache_file, compression='gzip')\n",
    "else:\n",
    "    print(f\"Cache not found. Reading raw SIAB data: {raw_file}\")\n",
    "    siab = pd.read_csv(raw_file)\n",
    "    siab.to_csv(cache_file, index=False, compression='gzip')\n",
    "    print(f\"Cached SIAB data to: {cache_file}\")\n",
    "\n",
    "print(siab.shape)"
   ]
  },
  {
   "cell_type": "code",
   "execution_count": 10,
   "id": "058d2abb",
   "metadata": {
    "execution": {
     "iopub.execute_input": "2025-08-19T18:13:54.437700Z",
     "iopub.status.busy": "2025-08-19T18:13:54.437250Z",
     "iopub.status.idle": "2025-08-19T18:13:54.627176Z",
     "shell.execute_reply": "2025-08-19T18:13:54.619448Z"
    },
    "papermill": {
     "duration": 0.217006,
     "end_time": "2025-08-19T18:13:54.630118",
     "exception": false,
     "start_time": "2025-08-19T18:13:54.413112",
     "status": "completed"
    },
    "tags": []
   },
   "outputs": [
    {
     "data": {
      "text/html": [
       "<div>\n",
       "<style scoped>\n",
       "    .dataframe tbody tr th:only-of-type {\n",
       "        vertical-align: middle;\n",
       "    }\n",
       "\n",
       "    .dataframe tbody tr th {\n",
       "        vertical-align: top;\n",
       "    }\n",
       "\n",
       "    .dataframe thead th {\n",
       "        text-align: right;\n",
       "    }\n",
       "</style>\n",
       "<table border=\"1\" class=\"dataframe\">\n",
       "  <thead>\n",
       "    <tr style=\"text-align: right;\">\n",
       "      <th></th>\n",
       "      <th>persnr</th>\n",
       "      <th>year</th>\n",
       "      <th>nrEntry</th>\n",
       "      <th>ltue</th>\n",
       "      <th>employed_before</th>\n",
       "      <th>receipt_leh_before</th>\n",
       "      <th>receipt_lhg_before</th>\n",
       "      <th>se_before</th>\n",
       "      <th>ASU_notue_seeking_before</th>\n",
       "      <th>ASU_other_before</th>\n",
       "      <th>...</th>\n",
       "      <th>minijob_tot_dur_byage</th>\n",
       "      <th>ft_tot_dur_byage</th>\n",
       "      <th>befrist_tot_dur_byage</th>\n",
       "      <th>leih_tot_dur_byage</th>\n",
       "      <th>LHG_tot_dur_byage</th>\n",
       "      <th>LEH_tot_dur_byage</th>\n",
       "      <th>almp_tot_dur_byage</th>\n",
       "      <th>almp_aw_tot_dur_byage</th>\n",
       "      <th>se_tot_dur_byage</th>\n",
       "      <th>seeking1_tot_dur_byage</th>\n",
       "    </tr>\n",
       "  </thead>\n",
       "  <tbody>\n",
       "    <tr>\n",
       "      <th>0</th>\n",
       "      <td>7</td>\n",
       "      <td>2015</td>\n",
       "      <td>1</td>\n",
       "      <td>0</td>\n",
       "      <td>1</td>\n",
       "      <td>0</td>\n",
       "      <td>0</td>\n",
       "      <td>0</td>\n",
       "      <td>1</td>\n",
       "      <td>0</td>\n",
       "      <td>...</td>\n",
       "      <td>0.000000</td>\n",
       "      <td>0.000000</td>\n",
       "      <td>15.043478</td>\n",
       "      <td>0.000000</td>\n",
       "      <td>0.000000</td>\n",
       "      <td>0.000000</td>\n",
       "      <td>0.000000</td>\n",
       "      <td>0.000000</td>\n",
       "      <td>0.000000</td>\n",
       "      <td>0.000000</td>\n",
       "    </tr>\n",
       "    <tr>\n",
       "      <th>1</th>\n",
       "      <td>18</td>\n",
       "      <td>2010</td>\n",
       "      <td>1</td>\n",
       "      <td>1</td>\n",
       "      <td>0</td>\n",
       "      <td>0</td>\n",
       "      <td>0</td>\n",
       "      <td>0</td>\n",
       "      <td>0</td>\n",
       "      <td>0</td>\n",
       "      <td>...</td>\n",
       "      <td>0.000000</td>\n",
       "      <td>0.000000</td>\n",
       "      <td>0.000000</td>\n",
       "      <td>0.000000</td>\n",
       "      <td>0.000000</td>\n",
       "      <td>0.000000</td>\n",
       "      <td>0.000000</td>\n",
       "      <td>0.000000</td>\n",
       "      <td>0.000000</td>\n",
       "      <td>0.000000</td>\n",
       "    </tr>\n",
       "    <tr>\n",
       "      <th>2</th>\n",
       "      <td>18</td>\n",
       "      <td>2011</td>\n",
       "      <td>2</td>\n",
       "      <td>0</td>\n",
       "      <td>1</td>\n",
       "      <td>0</td>\n",
       "      <td>1</td>\n",
       "      <td>0</td>\n",
       "      <td>1</td>\n",
       "      <td>0</td>\n",
       "      <td>...</td>\n",
       "      <td>2.714286</td>\n",
       "      <td>2.714286</td>\n",
       "      <td>0.000000</td>\n",
       "      <td>0.000000</td>\n",
       "      <td>10.775510</td>\n",
       "      <td>0.000000</td>\n",
       "      <td>8.367347</td>\n",
       "      <td>0.000000</td>\n",
       "      <td>0.000000</td>\n",
       "      <td>9.836735</td>\n",
       "    </tr>\n",
       "    <tr>\n",
       "      <th>3</th>\n",
       "      <td>18</td>\n",
       "      <td>2012</td>\n",
       "      <td>3</td>\n",
       "      <td>0</td>\n",
       "      <td>1</td>\n",
       "      <td>0</td>\n",
       "      <td>1</td>\n",
       "      <td>0</td>\n",
       "      <td>1</td>\n",
       "      <td>0</td>\n",
       "      <td>...</td>\n",
       "      <td>4.200000</td>\n",
       "      <td>4.200000</td>\n",
       "      <td>0.000000</td>\n",
       "      <td>0.000000</td>\n",
       "      <td>12.100000</td>\n",
       "      <td>0.000000</td>\n",
       "      <td>9.400000</td>\n",
       "      <td>0.000000</td>\n",
       "      <td>0.000000</td>\n",
       "      <td>9.960000</td>\n",
       "    </tr>\n",
       "    <tr>\n",
       "      <th>4</th>\n",
       "      <td>18</td>\n",
       "      <td>2012</td>\n",
       "      <td>4</td>\n",
       "      <td>0</td>\n",
       "      <td>1</td>\n",
       "      <td>0</td>\n",
       "      <td>1</td>\n",
       "      <td>0</td>\n",
       "      <td>1</td>\n",
       "      <td>0</td>\n",
       "      <td>...</td>\n",
       "      <td>5.460000</td>\n",
       "      <td>5.460000</td>\n",
       "      <td>0.000000</td>\n",
       "      <td>0.000000</td>\n",
       "      <td>13.360000</td>\n",
       "      <td>0.000000</td>\n",
       "      <td>10.320000</td>\n",
       "      <td>0.000000</td>\n",
       "      <td>0.000000</td>\n",
       "      <td>10.280000</td>\n",
       "    </tr>\n",
       "    <tr>\n",
       "      <th>...</th>\n",
       "      <td>...</td>\n",
       "      <td>...</td>\n",
       "      <td>...</td>\n",
       "      <td>...</td>\n",
       "      <td>...</td>\n",
       "      <td>...</td>\n",
       "      <td>...</td>\n",
       "      <td>...</td>\n",
       "      <td>...</td>\n",
       "      <td>...</td>\n",
       "      <td>...</td>\n",
       "      <td>...</td>\n",
       "      <td>...</td>\n",
       "      <td>...</td>\n",
       "      <td>...</td>\n",
       "      <td>...</td>\n",
       "      <td>...</td>\n",
       "      <td>...</td>\n",
       "      <td>...</td>\n",
       "      <td>...</td>\n",
       "      <td>...</td>\n",
       "    </tr>\n",
       "    <tr>\n",
       "      <th>643685</th>\n",
       "      <td>1827860</td>\n",
       "      <td>2013</td>\n",
       "      <td>1</td>\n",
       "      <td>0</td>\n",
       "      <td>0</td>\n",
       "      <td>0</td>\n",
       "      <td>1</td>\n",
       "      <td>0</td>\n",
       "      <td>0</td>\n",
       "      <td>1</td>\n",
       "      <td>...</td>\n",
       "      <td>0.000000</td>\n",
       "      <td>0.000000</td>\n",
       "      <td>0.000000</td>\n",
       "      <td>0.000000</td>\n",
       "      <td>0.612903</td>\n",
       "      <td>0.000000</td>\n",
       "      <td>0.000000</td>\n",
       "      <td>0.000000</td>\n",
       "      <td>0.000000</td>\n",
       "      <td>0.000000</td>\n",
       "    </tr>\n",
       "    <tr>\n",
       "      <th>643686</th>\n",
       "      <td>1827860</td>\n",
       "      <td>2015</td>\n",
       "      <td>2</td>\n",
       "      <td>1</td>\n",
       "      <td>0</td>\n",
       "      <td>0</td>\n",
       "      <td>1</td>\n",
       "      <td>0</td>\n",
       "      <td>1</td>\n",
       "      <td>0</td>\n",
       "      <td>...</td>\n",
       "      <td>0.000000</td>\n",
       "      <td>0.000000</td>\n",
       "      <td>0.212121</td>\n",
       "      <td>0.212121</td>\n",
       "      <td>17.363636</td>\n",
       "      <td>0.000000</td>\n",
       "      <td>8.909091</td>\n",
       "      <td>0.000000</td>\n",
       "      <td>0.000000</td>\n",
       "      <td>7.121212</td>\n",
       "    </tr>\n",
       "    <tr>\n",
       "      <th>643687</th>\n",
       "      <td>1827860</td>\n",
       "      <td>2016</td>\n",
       "      <td>3</td>\n",
       "      <td>1</td>\n",
       "      <td>0</td>\n",
       "      <td>0</td>\n",
       "      <td>1</td>\n",
       "      <td>1</td>\n",
       "      <td>0</td>\n",
       "      <td>1</td>\n",
       "      <td>...</td>\n",
       "      <td>0.000000</td>\n",
       "      <td>0.000000</td>\n",
       "      <td>0.294118</td>\n",
       "      <td>0.205882</td>\n",
       "      <td>34.705882</td>\n",
       "      <td>0.000000</td>\n",
       "      <td>10.352941</td>\n",
       "      <td>1.705882</td>\n",
       "      <td>1.705882</td>\n",
       "      <td>23.911765</td>\n",
       "    </tr>\n",
       "    <tr>\n",
       "      <th>643688</th>\n",
       "      <td>1827869</td>\n",
       "      <td>2013</td>\n",
       "      <td>1</td>\n",
       "      <td>1</td>\n",
       "      <td>1</td>\n",
       "      <td>0</td>\n",
       "      <td>0</td>\n",
       "      <td>0</td>\n",
       "      <td>1</td>\n",
       "      <td>0</td>\n",
       "      <td>...</td>\n",
       "      <td>0.000000</td>\n",
       "      <td>0.000000</td>\n",
       "      <td>0.000000</td>\n",
       "      <td>0.000000</td>\n",
       "      <td>0.000000</td>\n",
       "      <td>0.525424</td>\n",
       "      <td>0.000000</td>\n",
       "      <td>0.000000</td>\n",
       "      <td>0.000000</td>\n",
       "      <td>0.000000</td>\n",
       "    </tr>\n",
       "    <tr>\n",
       "      <th>643689</th>\n",
       "      <td>1827869</td>\n",
       "      <td>2014</td>\n",
       "      <td>2</td>\n",
       "      <td>0</td>\n",
       "      <td>0</td>\n",
       "      <td>1</td>\n",
       "      <td>0</td>\n",
       "      <td>0</td>\n",
       "      <td>1</td>\n",
       "      <td>0</td>\n",
       "      <td>...</td>\n",
       "      <td>0.000000</td>\n",
       "      <td>0.666667</td>\n",
       "      <td>0.666667</td>\n",
       "      <td>0.000000</td>\n",
       "      <td>0.000000</td>\n",
       "      <td>8.950000</td>\n",
       "      <td>1.033333</td>\n",
       "      <td>0.083333</td>\n",
       "      <td>0.083333</td>\n",
       "      <td>8.133333</td>\n",
       "    </tr>\n",
       "  </tbody>\n",
       "</table>\n",
       "<p>643690 rows × 164 columns</p>\n",
       "</div>"
      ],
      "text/plain": [
       "         persnr  year  nrEntry  ltue  employed_before  receipt_leh_before  \\\n",
       "0             7  2015        1     0                1                   0   \n",
       "1            18  2010        1     1                0                   0   \n",
       "2            18  2011        2     0                1                   0   \n",
       "3            18  2012        3     0                1                   0   \n",
       "4            18  2012        4     0                1                   0   \n",
       "...         ...   ...      ...   ...              ...                 ...   \n",
       "643685  1827860  2013        1     0                0                   0   \n",
       "643686  1827860  2015        2     1                0                   0   \n",
       "643687  1827860  2016        3     1                0                   0   \n",
       "643688  1827869  2013        1     1                1                   0   \n",
       "643689  1827869  2014        2     0                0                   1   \n",
       "\n",
       "        receipt_lhg_before  se_before  ASU_notue_seeking_before  \\\n",
       "0                        0          0                         1   \n",
       "1                        0          0                         0   \n",
       "2                        1          0                         1   \n",
       "3                        1          0                         1   \n",
       "4                        1          0                         1   \n",
       "...                    ...        ...                       ...   \n",
       "643685                   1          0                         0   \n",
       "643686                   1          0                         1   \n",
       "643687                   1          1                         0   \n",
       "643688                   0          0                         1   \n",
       "643689                   0          0                         1   \n",
       "\n",
       "        ASU_other_before  ...  minijob_tot_dur_byage  ft_tot_dur_byage  \\\n",
       "0                      0  ...               0.000000          0.000000   \n",
       "1                      0  ...               0.000000          0.000000   \n",
       "2                      0  ...               2.714286          2.714286   \n",
       "3                      0  ...               4.200000          4.200000   \n",
       "4                      0  ...               5.460000          5.460000   \n",
       "...                  ...  ...                    ...               ...   \n",
       "643685                 1  ...               0.000000          0.000000   \n",
       "643686                 0  ...               0.000000          0.000000   \n",
       "643687                 1  ...               0.000000          0.000000   \n",
       "643688                 0  ...               0.000000          0.000000   \n",
       "643689                 0  ...               0.000000          0.666667   \n",
       "\n",
       "        befrist_tot_dur_byage  leih_tot_dur_byage  LHG_tot_dur_byage  \\\n",
       "0                   15.043478            0.000000           0.000000   \n",
       "1                    0.000000            0.000000           0.000000   \n",
       "2                    0.000000            0.000000          10.775510   \n",
       "3                    0.000000            0.000000          12.100000   \n",
       "4                    0.000000            0.000000          13.360000   \n",
       "...                       ...                 ...                ...   \n",
       "643685               0.000000            0.000000           0.612903   \n",
       "643686               0.212121            0.212121          17.363636   \n",
       "643687               0.294118            0.205882          34.705882   \n",
       "643688               0.000000            0.000000           0.000000   \n",
       "643689               0.666667            0.000000           0.000000   \n",
       "\n",
       "        LEH_tot_dur_byage  almp_tot_dur_byage  almp_aw_tot_dur_byage  \\\n",
       "0                0.000000            0.000000               0.000000   \n",
       "1                0.000000            0.000000               0.000000   \n",
       "2                0.000000            8.367347               0.000000   \n",
       "3                0.000000            9.400000               0.000000   \n",
       "4                0.000000           10.320000               0.000000   \n",
       "...                   ...                 ...                    ...   \n",
       "643685           0.000000            0.000000               0.000000   \n",
       "643686           0.000000            8.909091               0.000000   \n",
       "643687           0.000000           10.352941               1.705882   \n",
       "643688           0.525424            0.000000               0.000000   \n",
       "643689           8.950000            1.033333               0.083333   \n",
       "\n",
       "        se_tot_dur_byage  seeking1_tot_dur_byage  \n",
       "0               0.000000                0.000000  \n",
       "1               0.000000                0.000000  \n",
       "2               0.000000                9.836735  \n",
       "3               0.000000                9.960000  \n",
       "4               0.000000               10.280000  \n",
       "...                  ...                     ...  \n",
       "643685          0.000000                0.000000  \n",
       "643686          0.000000                7.121212  \n",
       "643687          1.705882               23.911765  \n",
       "643688          0.000000                0.000000  \n",
       "643689          0.083333                8.133333  \n",
       "\n",
       "[643690 rows x 164 columns]"
      ]
     },
     "execution_count": 10,
     "metadata": {},
     "output_type": "execute_result"
    }
   ],
   "source": [
    "siab"
   ]
  },
  {
   "cell_type": "markdown",
   "id": "1f87e805",
   "metadata": {
    "papermill": {
     "duration": 0.011209,
     "end_time": "2025-08-19T18:13:54.659546",
     "exception": false,
     "start_time": "2025-08-19T18:13:54.648337",
     "status": "completed"
    },
    "tags": []
   },
   "source": [
    "# Splitting Data and Setting Training Data Size"
   ]
  },
  {
   "cell_type": "code",
   "execution_count": 11,
   "id": "910ae358",
   "metadata": {
    "execution": {
     "iopub.execute_input": "2025-08-19T18:13:54.681092Z",
     "iopub.status.busy": "2025-08-19T18:13:54.680733Z",
     "iopub.status.idle": "2025-08-19T18:13:55.931715Z",
     "shell.execute_reply": "2025-08-19T18:13:55.930741Z"
    },
    "papermill": {
     "duration": 1.26388,
     "end_time": "2025-08-19T18:13:55.933439",
     "exception": false,
     "start_time": "2025-08-19T18:13:54.669559",
     "status": "completed"
    },
    "tags": []
   },
   "outputs": [],
   "source": [
    "from fairness_multiverse.universe import sample_by_year_size\n",
    "\n",
    "siab_train = sample_by_year_size(siab,\n",
    "                               training_year=universe[\"training_year\"],\n",
    "                               training_size=universe[\"training_size\"])"
   ]
  },
  {
   "cell_type": "code",
   "execution_count": 12,
   "id": "919c8ff5",
   "metadata": {
    "execution": {
     "iopub.execute_input": "2025-08-19T18:13:55.956580Z",
     "iopub.status.busy": "2025-08-19T18:13:55.955814Z",
     "iopub.status.idle": "2025-08-19T18:13:55.962254Z",
     "shell.execute_reply": "2025-08-19T18:13:55.961341Z"
    },
    "papermill": {
     "duration": 0.019395,
     "end_time": "2025-08-19T18:13:55.963722",
     "exception": false,
     "start_time": "2025-08-19T18:13:55.944327",
     "status": "completed"
    },
    "tags": []
   },
   "outputs": [
    {
     "data": {
      "text/plain": [
       "(25000, 164)"
      ]
     },
     "execution_count": 12,
     "metadata": {},
     "output_type": "execute_result"
    }
   ],
   "source": [
    "siab_train.shape"
   ]
  },
  {
   "cell_type": "code",
   "execution_count": 13,
   "id": "feb13bf4",
   "metadata": {
    "execution": {
     "iopub.execute_input": "2025-08-19T18:13:56.023020Z",
     "iopub.status.busy": "2025-08-19T18:13:56.022000Z",
     "iopub.status.idle": "2025-08-19T18:13:56.036750Z",
     "shell.execute_reply": "2025-08-19T18:13:56.035469Z"
    },
    "papermill": {
     "duration": 0.03542,
     "end_time": "2025-08-19T18:13:56.040633",
     "exception": false,
     "start_time": "2025-08-19T18:13:56.005213",
     "status": "completed"
    },
    "tags": []
   },
   "outputs": [
    {
     "data": {
      "text/plain": [
       "year\n",
       "2010    5000\n",
       "2011    5000\n",
       "2012    5000\n",
       "2013    5000\n",
       "2014    5000\n",
       "dtype: int64"
      ]
     },
     "metadata": {},
     "output_type": "display_data"
    }
   ],
   "source": [
    "display(siab_train.groupby(\"year\").size())"
   ]
  },
  {
   "cell_type": "code",
   "execution_count": 14,
   "id": "0997782f",
   "metadata": {
    "execution": {
     "iopub.execute_input": "2025-08-19T18:13:56.069853Z",
     "iopub.status.busy": "2025-08-19T18:13:56.069112Z",
     "iopub.status.idle": "2025-08-19T18:13:56.359659Z",
     "shell.execute_reply": "2025-08-19T18:13:56.358380Z"
    },
    "papermill": {
     "duration": 0.30586,
     "end_time": "2025-08-19T18:13:56.362853",
     "exception": false,
     "start_time": "2025-08-19T18:13:56.056993",
     "status": "completed"
    },
    "tags": []
   },
   "outputs": [],
   "source": [
    "#siab_train = siab_s[siab_s.year < 2015]\n",
    "siab_calib = siab[siab.year == 2015]\n",
    "siab_test = siab[siab.year == 2016]"
   ]
  },
  {
   "cell_type": "code",
   "execution_count": 15,
   "id": "2c1e4012",
   "metadata": {
    "execution": {
     "iopub.execute_input": "2025-08-19T18:13:56.401259Z",
     "iopub.status.busy": "2025-08-19T18:13:56.400171Z",
     "iopub.status.idle": "2025-08-19T18:13:56.408695Z",
     "shell.execute_reply": "2025-08-19T18:13:56.407015Z"
    },
    "papermill": {
     "duration": 0.024166,
     "end_time": "2025-08-19T18:13:56.410205",
     "exception": false,
     "start_time": "2025-08-19T18:13:56.386039",
     "status": "completed"
    },
    "tags": []
   },
   "outputs": [],
   "source": [
    "#siab_calib.shape"
   ]
  },
  {
   "cell_type": "code",
   "execution_count": 16,
   "id": "f66b54ca",
   "metadata": {
    "execution": {
     "iopub.execute_input": "2025-08-19T18:13:56.434796Z",
     "iopub.status.busy": "2025-08-19T18:13:56.433764Z",
     "iopub.status.idle": "2025-08-19T18:13:56.442404Z",
     "shell.execute_reply": "2025-08-19T18:13:56.440550Z"
    },
    "papermill": {
     "duration": 0.022697,
     "end_time": "2025-08-19T18:13:56.444221",
     "exception": false,
     "start_time": "2025-08-19T18:13:56.421524",
     "status": "completed"
    },
    "tags": []
   },
   "outputs": [],
   "source": [
    "#siab_test.shape"
   ]
  },
  {
   "cell_type": "code",
   "execution_count": 17,
   "id": "27e4384d",
   "metadata": {
    "execution": {
     "iopub.execute_input": "2025-08-19T18:13:56.469886Z",
     "iopub.status.busy": "2025-08-19T18:13:56.468787Z",
     "iopub.status.idle": "2025-08-19T18:13:56.502307Z",
     "shell.execute_reply": "2025-08-19T18:13:56.500012Z"
    },
    "papermill": {
     "duration": 0.047955,
     "end_time": "2025-08-19T18:13:56.504933",
     "exception": false,
     "start_time": "2025-08-19T18:13:56.456978",
     "status": "completed"
    },
    "tags": []
   },
   "outputs": [],
   "source": [
    "X_train = siab_train.iloc[:,4:164]\n",
    "y_train = siab_train.iloc[:, [3]]"
   ]
  },
  {
   "cell_type": "code",
   "execution_count": 18,
   "id": "08ee8389",
   "metadata": {
    "execution": {
     "iopub.execute_input": "2025-08-19T18:13:56.557200Z",
     "iopub.status.busy": "2025-08-19T18:13:56.555922Z",
     "iopub.status.idle": "2025-08-19T18:13:56.612908Z",
     "shell.execute_reply": "2025-08-19T18:13:56.611973Z"
    },
    "papermill": {
     "duration": 0.091514,
     "end_time": "2025-08-19T18:13:56.614149",
     "exception": false,
     "start_time": "2025-08-19T18:13:56.522635",
     "status": "completed"
    },
    "tags": []
   },
   "outputs": [],
   "source": [
    "X_calib = siab_calib.iloc[:,4:164]\n",
    "y_calib = siab_calib.iloc[:, [3]]"
   ]
  },
  {
   "cell_type": "code",
   "execution_count": 19,
   "id": "b7ff42e0",
   "metadata": {
    "execution": {
     "iopub.execute_input": "2025-08-19T18:13:56.650046Z",
     "iopub.status.busy": "2025-08-19T18:13:56.648248Z",
     "iopub.status.idle": "2025-08-19T18:13:56.705416Z",
     "shell.execute_reply": "2025-08-19T18:13:56.704621Z"
    },
    "papermill": {
     "duration": 0.072119,
     "end_time": "2025-08-19T18:13:56.706719",
     "exception": false,
     "start_time": "2025-08-19T18:13:56.634600",
     "status": "completed"
    },
    "tags": []
   },
   "outputs": [],
   "source": [
    "X_test = siab_test.iloc[:,4:164]\n",
    "y_true = siab_test.iloc[:, [3]]"
   ]
  },
  {
   "cell_type": "code",
   "execution_count": 20,
   "id": "0275101e",
   "metadata": {
    "execution": {
     "iopub.execute_input": "2025-08-19T18:13:56.733705Z",
     "iopub.status.busy": "2025-08-19T18:13:56.733354Z",
     "iopub.status.idle": "2025-08-19T18:13:56.844632Z",
     "shell.execute_reply": "2025-08-19T18:13:56.843706Z"
    },
    "papermill": {
     "duration": 0.128548,
     "end_time": "2025-08-19T18:13:56.846100",
     "exception": false,
     "start_time": "2025-08-19T18:13:56.717552",
     "status": "completed"
    },
    "tags": []
   },
   "outputs": [],
   "source": [
    "# Auxiliary data needed downstream in the pipeline\n",
    "\n",
    "org_train = X_train.copy()\n",
    "org_test = X_test.copy()\n",
    "org_calib = X_calib.copy()"
   ]
  },
  {
   "cell_type": "markdown",
   "id": "b461e618",
   "metadata": {
    "papermill": {
     "duration": 0.010354,
     "end_time": "2025-08-19T18:13:56.867400",
     "exception": false,
     "start_time": "2025-08-19T18:13:56.857046",
     "status": "completed"
    },
    "tags": []
   },
   "source": [
    "# Preprocessing Data"
   ]
  },
  {
   "cell_type": "code",
   "execution_count": 21,
   "id": "78e74c4b",
   "metadata": {
    "execution": {
     "iopub.execute_input": "2025-08-19T18:13:56.889627Z",
     "iopub.status.busy": "2025-08-19T18:13:56.889131Z",
     "iopub.status.idle": "2025-08-19T18:13:56.894144Z",
     "shell.execute_reply": "2025-08-19T18:13:56.893359Z"
    },
    "papermill": {
     "duration": 0.017791,
     "end_time": "2025-08-19T18:13:56.895576",
     "exception": false,
     "start_time": "2025-08-19T18:13:56.877785",
     "status": "completed"
    },
    "tags": []
   },
   "outputs": [],
   "source": [
    "# EXCLUDE PROTECTED FEATURES\n",
    "# --------------------------\n",
    "\n",
    "excluded_features = universe[\"exclude_features\"].split(\"-\")\n",
    "excluded_features_dictionary = {\n",
    "    \"nationality\": [\"maxdeutsch1\", \"maxdeutsch.Missing.\"],\n",
    "    \"sex\": [\"frau1\"],\n",
    "    \"age\": [\"age\"],\n",
    "}"
   ]
  },
  {
   "cell_type": "code",
   "execution_count": 22,
   "id": "f8e63555",
   "metadata": {
    "execution": {
     "iopub.execute_input": "2025-08-19T18:13:56.917460Z",
     "iopub.status.busy": "2025-08-19T18:13:56.917006Z",
     "iopub.status.idle": "2025-08-19T18:13:56.921836Z",
     "shell.execute_reply": "2025-08-19T18:13:56.920948Z"
    },
    "papermill": {
     "duration": 0.018041,
     "end_time": "2025-08-19T18:13:56.923807",
     "exception": false,
     "start_time": "2025-08-19T18:13:56.905766",
     "status": "completed"
    },
    "tags": []
   },
   "outputs": [],
   "source": [
    "excluded_features_columns = [\n",
    "    excluded_features_dictionary[f] for f in excluded_features if len(f) > 0 and f != \"none\"\n",
    "]"
   ]
  },
  {
   "cell_type": "code",
   "execution_count": 23,
   "id": "da781f7c",
   "metadata": {
    "execution": {
     "iopub.execute_input": "2025-08-19T18:13:56.959365Z",
     "iopub.status.busy": "2025-08-19T18:13:56.958483Z",
     "iopub.status.idle": "2025-08-19T18:13:56.965758Z",
     "shell.execute_reply": "2025-08-19T18:13:56.964367Z"
    },
    "papermill": {
     "duration": 0.033002,
     "end_time": "2025-08-19T18:13:56.967304",
     "exception": false,
     "start_time": "2025-08-19T18:13:56.934302",
     "status": "completed"
    },
    "tags": []
   },
   "outputs": [],
   "source": [
    "from fairness_multiverse.universe import flatten_once\n",
    "\n",
    "excluded_features_columns = flatten_once(excluded_features_columns)"
   ]
  },
  {
   "cell_type": "code",
   "execution_count": 24,
   "id": "37fef0f0",
   "metadata": {
    "execution": {
     "iopub.execute_input": "2025-08-19T18:13:57.007204Z",
     "iopub.status.busy": "2025-08-19T18:13:57.006656Z",
     "iopub.status.idle": "2025-08-19T18:13:57.029778Z",
     "shell.execute_reply": "2025-08-19T18:13:57.028906Z"
    },
    "papermill": {
     "duration": 0.050111,
     "end_time": "2025-08-19T18:13:57.031594",
     "exception": false,
     "start_time": "2025-08-19T18:13:56.981483",
     "status": "completed"
    },
    "tags": []
   },
   "outputs": [
    {
     "name": "stdout",
     "output_type": "stream",
     "text": [
      "Dropping features: ['maxdeutsch1', 'maxdeutsch.Missing.']\n"
     ]
    }
   ],
   "source": [
    "if len(excluded_features_columns) > 0:\n",
    "    print(f\"Dropping features: {excluded_features_columns}\")\n",
    "    X_train.drop(excluded_features_columns, axis=1, inplace=True)"
   ]
  },
  {
   "cell_type": "code",
   "execution_count": 25,
   "id": "d029e3e9",
   "metadata": {
    "execution": {
     "iopub.execute_input": "2025-08-19T18:13:57.062015Z",
     "iopub.status.busy": "2025-08-19T18:13:57.060877Z",
     "iopub.status.idle": "2025-08-19T18:13:57.114820Z",
     "shell.execute_reply": "2025-08-19T18:13:57.113932Z"
    },
    "papermill": {
     "duration": 0.069931,
     "end_time": "2025-08-19T18:13:57.118723",
     "exception": false,
     "start_time": "2025-08-19T18:13:57.048792",
     "status": "completed"
    },
    "tags": []
   },
   "outputs": [
    {
     "name": "stdout",
     "output_type": "stream",
     "text": [
      "Dropping features: ['maxdeutsch1', 'maxdeutsch.Missing.']\n"
     ]
    }
   ],
   "source": [
    "if len(excluded_features_columns) > 0:\n",
    "    print(f\"Dropping features: {excluded_features_columns}\")\n",
    "    X_test.drop(excluded_features_columns, axis=1, inplace=True)"
   ]
  },
  {
   "cell_type": "code",
   "execution_count": 26,
   "id": "01d571f0",
   "metadata": {
    "execution": {
     "iopub.execute_input": "2025-08-19T18:13:57.143363Z",
     "iopub.status.busy": "2025-08-19T18:13:57.142176Z",
     "iopub.status.idle": "2025-08-19T18:13:57.195716Z",
     "shell.execute_reply": "2025-08-19T18:13:57.194757Z"
    },
    "papermill": {
     "duration": 0.08057,
     "end_time": "2025-08-19T18:13:57.210900",
     "exception": false,
     "start_time": "2025-08-19T18:13:57.130330",
     "status": "completed"
    },
    "tags": []
   },
   "outputs": [
    {
     "name": "stdout",
     "output_type": "stream",
     "text": [
      "Dropping features: ['maxdeutsch1', 'maxdeutsch.Missing.']\n"
     ]
    }
   ],
   "source": [
    "if len(excluded_features_columns) > 0:\n",
    "    print(f\"Dropping features: {excluded_features_columns}\")\n",
    "    X_calib.drop(excluded_features_columns, axis=1, inplace=True)"
   ]
  },
  {
   "cell_type": "code",
   "execution_count": 27,
   "id": "3037356e",
   "metadata": {
    "execution": {
     "iopub.execute_input": "2025-08-19T18:13:57.241527Z",
     "iopub.status.busy": "2025-08-19T18:13:57.241062Z",
     "iopub.status.idle": "2025-08-19T18:13:57.246247Z",
     "shell.execute_reply": "2025-08-19T18:13:57.245450Z"
    },
    "papermill": {
     "duration": 0.022992,
     "end_time": "2025-08-19T18:13:57.250955",
     "exception": false,
     "start_time": "2025-08-19T18:13:57.227963",
     "status": "completed"
    },
    "tags": []
   },
   "outputs": [],
   "source": [
    "# EXCLUDE CERTAIN SUBGROUPS\n",
    "# -------------------------\n",
    "\n",
    "mode = universe.get(\"exclude_subgroups\", \"keep-all\") # Defaults to \"keep-all\" if the key is missing."
   ]
  },
  {
   "cell_type": "code",
   "execution_count": 28,
   "id": "9d1e63fd",
   "metadata": {
    "execution": {
     "iopub.execute_input": "2025-08-19T18:13:57.275416Z",
     "iopub.status.busy": "2025-08-19T18:13:57.274497Z",
     "iopub.status.idle": "2025-08-19T18:13:57.280800Z",
     "shell.execute_reply": "2025-08-19T18:13:57.279974Z"
    },
    "papermill": {
     "duration": 0.019287,
     "end_time": "2025-08-19T18:13:57.282016",
     "exception": false,
     "start_time": "2025-08-19T18:13:57.262729",
     "status": "completed"
    },
    "tags": []
   },
   "outputs": [],
   "source": [
    "if mode == \"keep-all\":\n",
    "    keep_mask = pd.Series(True, index=org_train.index)\n",
    "\n",
    "elif mode == \"drop-non-german\":\n",
    "    keep_mask = (org_train[\"maxdeutsch1\"] == 1) & (org_train[\"maxdeutsch.Missing.\"] == 0)\n",
    "\n",
    "else:\n",
    "    raise ValueError(f\"Unsupported mode for exclude_subgroups: {mode}\")"
   ]
  },
  {
   "cell_type": "code",
   "execution_count": 29,
   "id": "d3b65474",
   "metadata": {
    "execution": {
     "iopub.execute_input": "2025-08-19T18:13:57.320152Z",
     "iopub.status.busy": "2025-08-19T18:13:57.319625Z",
     "iopub.status.idle": "2025-08-19T18:13:57.326705Z",
     "shell.execute_reply": "2025-08-19T18:13:57.325835Z"
    },
    "papermill": {
     "duration": 0.02847,
     "end_time": "2025-08-19T18:13:57.328339",
     "exception": false,
     "start_time": "2025-08-19T18:13:57.299869",
     "status": "completed"
    },
    "tags": []
   },
   "outputs": [],
   "source": [
    "n_drop = (~keep_mask).sum() # Calculates how many rows are set to be dropped\n",
    "if n_drop > 0:\n",
    "    pct = n_drop / len(keep_mask) * 100\n",
    "    print(f\"Dropping {n_drop} rows ({pct:.2f}%) where mode='{mode}'\")"
   ]
  },
  {
   "cell_type": "code",
   "execution_count": 30,
   "id": "f44389b3",
   "metadata": {
    "execution": {
     "iopub.execute_input": "2025-08-19T18:13:57.351428Z",
     "iopub.status.busy": "2025-08-19T18:13:57.351005Z",
     "iopub.status.idle": "2025-08-19T18:13:57.446719Z",
     "shell.execute_reply": "2025-08-19T18:13:57.439102Z"
    },
    "papermill": {
     "duration": 0.109215,
     "end_time": "2025-08-19T18:13:57.448516",
     "exception": false,
     "start_time": "2025-08-19T18:13:57.339301",
     "status": "completed"
    },
    "tags": []
   },
   "outputs": [],
   "source": [
    "X_train = X_train[keep_mask]"
   ]
  },
  {
   "cell_type": "code",
   "execution_count": 31,
   "id": "ceca8c2a",
   "metadata": {
    "execution": {
     "iopub.execute_input": "2025-08-19T18:13:57.481619Z",
     "iopub.status.busy": "2025-08-19T18:13:57.480568Z",
     "iopub.status.idle": "2025-08-19T18:13:57.488202Z",
     "shell.execute_reply": "2025-08-19T18:13:57.487313Z"
    },
    "papermill": {
     "duration": 0.021609,
     "end_time": "2025-08-19T18:13:57.490130",
     "exception": false,
     "start_time": "2025-08-19T18:13:57.468521",
     "status": "completed"
    },
    "tags": []
   },
   "outputs": [],
   "source": [
    "y_train = y_train[keep_mask]"
   ]
  },
  {
   "cell_type": "markdown",
   "id": "04d31e2f",
   "metadata": {
    "papermill": {
     "duration": 0.010827,
     "end_time": "2025-08-19T18:13:57.521962",
     "exception": false,
     "start_time": "2025-08-19T18:13:57.511135",
     "status": "completed"
    },
    "tags": []
   },
   "source": [
    "# Model Training"
   ]
  },
  {
   "cell_type": "code",
   "execution_count": 32,
   "id": "db991733",
   "metadata": {
    "execution": {
     "iopub.execute_input": "2025-08-19T18:13:57.545971Z",
     "iopub.status.busy": "2025-08-19T18:13:57.544609Z",
     "iopub.status.idle": "2025-08-19T18:13:57.652426Z",
     "shell.execute_reply": "2025-08-19T18:13:57.651564Z"
    },
    "papermill": {
     "duration": 0.121728,
     "end_time": "2025-08-19T18:13:57.654276",
     "exception": false,
     "start_time": "2025-08-19T18:13:57.532548",
     "status": "completed"
    },
    "tags": []
   },
   "outputs": [],
   "source": [
    "from sklearn.linear_model import LogisticRegression\n",
    "from sklearn.ensemble import GradientBoostingClassifier, RandomForestClassifier\n",
    "\n",
    "if (universe[\"model\"] == \"logreg\"):\n",
    "    model = LogisticRegression() #penalty=\"none\", solver=\"newton-cg\", max_iter=1)\n",
    "elif (universe[\"model\"] == \"penalized_logreg\"):\n",
    "    model = LogisticRegression(penalty=\"l2\", C=0.1) #, solver=\"newton-cg\", max_iter=1)\n",
    "elif (universe[\"model\"] == \"rf\"):\n",
    "    model = RandomForestClassifier() # n_estimators=100, n_jobs=-1\n",
    "elif (universe[\"model\"] == \"gbm\"):\n",
    "    model = GradientBoostingClassifier()\n",
    "elif (universe[\"model\"] == \"elasticnet\"):\n",
    "    model = LogisticRegression(penalty = 'elasticnet', solver = 'saga', l1_ratio = 0.5) # max_iter=5000\n",
    "else:\n",
    "    raise \"Unsupported universe.model\""
   ]
  },
  {
   "cell_type": "code",
   "execution_count": 33,
   "id": "a4b5cd25",
   "metadata": {
    "execution": {
     "iopub.execute_input": "2025-08-19T18:13:57.679118Z",
     "iopub.status.busy": "2025-08-19T18:13:57.678185Z",
     "iopub.status.idle": "2025-08-19T18:13:57.685081Z",
     "shell.execute_reply": "2025-08-19T18:13:57.684217Z"
    },
    "papermill": {
     "duration": 0.02021,
     "end_time": "2025-08-19T18:13:57.686500",
     "exception": false,
     "start_time": "2025-08-19T18:13:57.666290",
     "status": "completed"
    },
    "tags": []
   },
   "outputs": [],
   "source": [
    "from sklearn.pipeline import Pipeline\n",
    "from sklearn.preprocessing import StandardScaler\n",
    "\n",
    "model = Pipeline([\n",
    "    #(\"continuous_processor\", continuous_processor),\n",
    "    #(\"categorical_preprocessor\", categorical_preprocessor),\n",
    "    (\"scale\", StandardScaler() if universe[\"scale\"] == \"scale\" else None), \n",
    "    (\"model\", model),\n",
    "])"
   ]
  },
  {
   "cell_type": "code",
   "execution_count": 34,
   "id": "283a904d",
   "metadata": {
    "execution": {
     "iopub.execute_input": "2025-08-19T18:13:57.721850Z",
     "iopub.status.busy": "2025-08-19T18:13:57.712681Z",
     "iopub.status.idle": "2025-08-19T18:13:58.983821Z",
     "shell.execute_reply": "2025-08-19T18:13:58.982592Z"
    },
    "papermill": {
     "duration": 1.284907,
     "end_time": "2025-08-19T18:13:58.985392",
     "exception": false,
     "start_time": "2025-08-19T18:13:57.700485",
     "status": "completed"
    },
    "tags": []
   },
   "outputs": [
    {
     "name": "stderr",
     "output_type": "stream",
     "text": [
      "/dss/dsshome1/0C/ra93lal2/.local/share/virtualenvs/CMA_Fairness_v2-3j10GkSs/lib/python3.10/site-packages/sklearn/linear_model/_logistic.py:444: ConvergenceWarning: lbfgs failed to converge (status=1):\n",
      "STOP: TOTAL NO. of ITERATIONS REACHED LIMIT.\n",
      "\n",
      "Increase the number of iterations (max_iter) or scale the data as shown in:\n",
      "    https://scikit-learn.org/stable/modules/preprocessing.html\n",
      "Please also refer to the documentation for alternative solver options:\n",
      "    https://scikit-learn.org/stable/modules/linear_model.html#logistic-regression\n",
      "  n_iter_i = _check_optimize_result(\n"
     ]
    },
    {
     "data": {
      "text/html": [
       "<style>#sk-container-id-1 {color: black;background-color: white;}#sk-container-id-1 pre{padding: 0;}#sk-container-id-1 div.sk-toggleable {background-color: white;}#sk-container-id-1 label.sk-toggleable__label {cursor: pointer;display: block;width: 100%;margin-bottom: 0;padding: 0.3em;box-sizing: border-box;text-align: center;}#sk-container-id-1 label.sk-toggleable__label-arrow:before {content: \"▸\";float: left;margin-right: 0.25em;color: #696969;}#sk-container-id-1 label.sk-toggleable__label-arrow:hover:before {color: black;}#sk-container-id-1 div.sk-estimator:hover label.sk-toggleable__label-arrow:before {color: black;}#sk-container-id-1 div.sk-toggleable__content {max-height: 0;max-width: 0;overflow: hidden;text-align: left;background-color: #f0f8ff;}#sk-container-id-1 div.sk-toggleable__content pre {margin: 0.2em;color: black;border-radius: 0.25em;background-color: #f0f8ff;}#sk-container-id-1 input.sk-toggleable__control:checked~div.sk-toggleable__content {max-height: 200px;max-width: 100%;overflow: auto;}#sk-container-id-1 input.sk-toggleable__control:checked~label.sk-toggleable__label-arrow:before {content: \"▾\";}#sk-container-id-1 div.sk-estimator input.sk-toggleable__control:checked~label.sk-toggleable__label {background-color: #d4ebff;}#sk-container-id-1 div.sk-label input.sk-toggleable__control:checked~label.sk-toggleable__label {background-color: #d4ebff;}#sk-container-id-1 input.sk-hidden--visually {border: 0;clip: rect(1px 1px 1px 1px);clip: rect(1px, 1px, 1px, 1px);height: 1px;margin: -1px;overflow: hidden;padding: 0;position: absolute;width: 1px;}#sk-container-id-1 div.sk-estimator {font-family: monospace;background-color: #f0f8ff;border: 1px dotted black;border-radius: 0.25em;box-sizing: border-box;margin-bottom: 0.5em;}#sk-container-id-1 div.sk-estimator:hover {background-color: #d4ebff;}#sk-container-id-1 div.sk-parallel-item::after {content: \"\";width: 100%;border-bottom: 1px solid gray;flex-grow: 1;}#sk-container-id-1 div.sk-label:hover label.sk-toggleable__label {background-color: #d4ebff;}#sk-container-id-1 div.sk-serial::before {content: \"\";position: absolute;border-left: 1px solid gray;box-sizing: border-box;top: 0;bottom: 0;left: 50%;z-index: 0;}#sk-container-id-1 div.sk-serial {display: flex;flex-direction: column;align-items: center;background-color: white;padding-right: 0.2em;padding-left: 0.2em;position: relative;}#sk-container-id-1 div.sk-item {position: relative;z-index: 1;}#sk-container-id-1 div.sk-parallel {display: flex;align-items: stretch;justify-content: center;background-color: white;position: relative;}#sk-container-id-1 div.sk-item::before, #sk-container-id-1 div.sk-parallel-item::before {content: \"\";position: absolute;border-left: 1px solid gray;box-sizing: border-box;top: 0;bottom: 0;left: 50%;z-index: -1;}#sk-container-id-1 div.sk-parallel-item {display: flex;flex-direction: column;z-index: 1;position: relative;background-color: white;}#sk-container-id-1 div.sk-parallel-item:first-child::after {align-self: flex-end;width: 50%;}#sk-container-id-1 div.sk-parallel-item:last-child::after {align-self: flex-start;width: 50%;}#sk-container-id-1 div.sk-parallel-item:only-child::after {width: 0;}#sk-container-id-1 div.sk-dashed-wrapped {border: 1px dashed gray;margin: 0 0.4em 0.5em 0.4em;box-sizing: border-box;padding-bottom: 0.4em;background-color: white;}#sk-container-id-1 div.sk-label label {font-family: monospace;font-weight: bold;display: inline-block;line-height: 1.2em;}#sk-container-id-1 div.sk-label-container {text-align: center;}#sk-container-id-1 div.sk-container {/* jupyter's `normalize.less` sets `[hidden] { display: none; }` but bootstrap.min.css set `[hidden] { display: none !important; }` so we also need the `!important` here to be able to override the default hidden behavior on the sphinx rendered scikit-learn.org. See: https://github.com/scikit-learn/scikit-learn/issues/21755 */display: inline-block !important;position: relative;}#sk-container-id-1 div.sk-text-repr-fallback {display: none;}</style><div id=\"sk-container-id-1\" class=\"sk-top-container\"><div class=\"sk-text-repr-fallback\"><pre>Pipeline(steps=[(&#x27;scale&#x27;, StandardScaler()),\n",
       "                (&#x27;model&#x27;, LogisticRegression(C=0.1))])</pre><b>In a Jupyter environment, please rerun this cell to show the HTML representation or trust the notebook. <br />On GitHub, the HTML representation is unable to render, please try loading this page with nbviewer.org.</b></div><div class=\"sk-container\" hidden><div class=\"sk-item sk-dashed-wrapped\"><div class=\"sk-label-container\"><div class=\"sk-label sk-toggleable\"><input class=\"sk-toggleable__control sk-hidden--visually\" id=\"sk-estimator-id-1\" type=\"checkbox\" ><label for=\"sk-estimator-id-1\" class=\"sk-toggleable__label sk-toggleable__label-arrow\">Pipeline</label><div class=\"sk-toggleable__content\"><pre>Pipeline(steps=[(&#x27;scale&#x27;, StandardScaler()),\n",
       "                (&#x27;model&#x27;, LogisticRegression(C=0.1))])</pre></div></div></div><div class=\"sk-serial\"><div class=\"sk-item\"><div class=\"sk-estimator sk-toggleable\"><input class=\"sk-toggleable__control sk-hidden--visually\" id=\"sk-estimator-id-2\" type=\"checkbox\" ><label for=\"sk-estimator-id-2\" class=\"sk-toggleable__label sk-toggleable__label-arrow\">StandardScaler</label><div class=\"sk-toggleable__content\"><pre>StandardScaler()</pre></div></div></div><div class=\"sk-item\"><div class=\"sk-estimator sk-toggleable\"><input class=\"sk-toggleable__control sk-hidden--visually\" id=\"sk-estimator-id-3\" type=\"checkbox\" ><label for=\"sk-estimator-id-3\" class=\"sk-toggleable__label sk-toggleable__label-arrow\">LogisticRegression</label><div class=\"sk-toggleable__content\"><pre>LogisticRegression(C=0.1)</pre></div></div></div></div></div></div></div>"
      ],
      "text/plain": [
       "Pipeline(steps=[('scale', StandardScaler()),\n",
       "                ('model', LogisticRegression(C=0.1))])"
      ]
     },
     "execution_count": 34,
     "metadata": {},
     "output_type": "execute_result"
    }
   ],
   "source": [
    "model.fit(X_train, y_train.values.ravel())"
   ]
  },
  {
   "cell_type": "code",
   "execution_count": 35,
   "id": "6e15e313",
   "metadata": {
    "execution": {
     "iopub.execute_input": "2025-08-19T18:13:59.029067Z",
     "iopub.status.busy": "2025-08-19T18:13:59.017365Z",
     "iopub.status.idle": "2025-08-19T18:13:59.256589Z",
     "shell.execute_reply": "2025-08-19T18:13:59.255787Z"
    },
    "papermill": {
     "duration": 0.263317,
     "end_time": "2025-08-19T18:13:59.265792",
     "exception": false,
     "start_time": "2025-08-19T18:13:59.002475",
     "status": "completed"
    },
    "tags": []
   },
   "outputs": [
    {
     "data": {
      "text/plain": [
       "0.8602273993980604"
      ]
     },
     "execution_count": 35,
     "metadata": {},
     "output_type": "execute_result"
    }
   ],
   "source": [
    "from fairness_multiverse.universe import predict_w_threshold\n",
    "\n",
    "probs_test = model.predict_proba(X_test)\n",
    "\n",
    "'''\n",
    "Below code returns a boolean array (or binary 0/1 array depending on how it’s used) where each element \n",
    "is True if the probability of class 1 is greater than or equal to the threshold, and False otherwise.\n",
    "'''\n",
    "y_pred_default = predict_w_threshold(probs_test, 0.5)\n",
    "\n",
    "from sklearn.metrics import accuracy_score\n",
    "\n",
    "# Naive prediction\n",
    "accuracy_score(y_true = y_true, y_pred = y_pred_default)"
   ]
  },
  {
   "cell_type": "code",
   "execution_count": 36,
   "id": "6f14067c",
   "metadata": {
    "execution": {
     "iopub.execute_input": "2025-08-19T18:13:59.306026Z",
     "iopub.status.busy": "2025-08-19T18:13:59.303177Z",
     "iopub.status.idle": "2025-08-19T18:13:59.503598Z",
     "shell.execute_reply": "2025-08-19T18:13:59.501524Z"
    },
    "papermill": {
     "duration": 0.225836,
     "end_time": "2025-08-19T18:13:59.506057",
     "exception": false,
     "start_time": "2025-08-19T18:13:59.280221",
     "status": "completed"
    },
    "tags": []
   },
   "outputs": [
    {
     "data": {
      "text/plain": [
       "array([0, 0, 0, ..., 0, 0, 0])"
      ]
     },
     "execution_count": 36,
     "metadata": {},
     "output_type": "execute_result"
    }
   ],
   "source": [
    "model.predict(X_test)"
   ]
  },
  {
   "cell_type": "markdown",
   "id": "3759920c",
   "metadata": {
    "papermill": {
     "duration": 0.012466,
     "end_time": "2025-08-19T18:13:59.543841",
     "exception": false,
     "start_time": "2025-08-19T18:13:59.531375",
     "status": "completed"
    },
    "tags": []
   },
   "source": [
    "# Conformal Prediction"
   ]
  },
  {
   "cell_type": "code",
   "execution_count": 37,
   "id": "14b27f59",
   "metadata": {
    "execution": {
     "iopub.execute_input": "2025-08-19T18:13:59.568762Z",
     "iopub.status.busy": "2025-08-19T18:13:59.568098Z",
     "iopub.status.idle": "2025-08-19T18:13:59.574118Z",
     "shell.execute_reply": "2025-08-19T18:13:59.573075Z"
    },
    "papermill": {
     "duration": 0.020574,
     "end_time": "2025-08-19T18:13:59.575373",
     "exception": false,
     "start_time": "2025-08-19T18:13:59.554799",
     "status": "completed"
    },
    "tags": []
   },
   "outputs": [],
   "source": [
    "# Miscoverage level for conformal prediction (10% allowed error rate => 90% target coverage)\n",
    "alpha = 0.1"
   ]
  },
  {
   "cell_type": "code",
   "execution_count": 38,
   "id": "59102472",
   "metadata": {
    "execution": {
     "iopub.execute_input": "2025-08-19T18:13:59.603472Z",
     "iopub.status.busy": "2025-08-19T18:13:59.602957Z",
     "iopub.status.idle": "2025-08-19T18:13:59.812379Z",
     "shell.execute_reply": "2025-08-19T18:13:59.811527Z"
    },
    "papermill": {
     "duration": 0.22436,
     "end_time": "2025-08-19T18:13:59.814549",
     "exception": false,
     "start_time": "2025-08-19T18:13:59.590189",
     "status": "completed"
    },
    "tags": []
   },
   "outputs": [],
   "source": [
    "probs_calib = model.predict_proba(X_calib)"
   ]
  },
  {
   "cell_type": "code",
   "execution_count": 39,
   "id": "a792d4dd",
   "metadata": {
    "execution": {
     "iopub.execute_input": "2025-08-19T18:13:59.875353Z",
     "iopub.status.busy": "2025-08-19T18:13:59.874769Z",
     "iopub.status.idle": "2025-08-19T18:13:59.880985Z",
     "shell.execute_reply": "2025-08-19T18:13:59.879943Z"
    },
    "papermill": {
     "duration": 0.037062,
     "end_time": "2025-08-19T18:13:59.882471",
     "exception": false,
     "start_time": "2025-08-19T18:13:59.845409",
     "status": "completed"
    },
    "tags": []
   },
   "outputs": [],
   "source": [
    "y_calib = y_calib.values.ravel().astype(int)"
   ]
  },
  {
   "cell_type": "code",
   "execution_count": 40,
   "id": "650fd033",
   "metadata": {
    "execution": {
     "iopub.execute_input": "2025-08-19T18:13:59.907966Z",
     "iopub.status.busy": "2025-08-19T18:13:59.907152Z",
     "iopub.status.idle": "2025-08-19T18:13:59.915476Z",
     "shell.execute_reply": "2025-08-19T18:13:59.914419Z"
    },
    "papermill": {
     "duration": 0.022714,
     "end_time": "2025-08-19T18:13:59.916950",
     "exception": false,
     "start_time": "2025-08-19T18:13:59.894236",
     "status": "completed"
    },
    "tags": []
   },
   "outputs": [],
   "source": [
    "from fairness_multiverse.conformal import compute_nc_scores\n",
    "\n",
    "# Compute nonconformity scores on calibration set (1 - probability of true class)\n",
    "nc_scores = compute_nc_scores(probs_calib, y_calib)"
   ]
  },
  {
   "cell_type": "code",
   "execution_count": 41,
   "id": "28ada44c",
   "metadata": {
    "execution": {
     "iopub.execute_input": "2025-08-19T18:13:59.953037Z",
     "iopub.status.busy": "2025-08-19T18:13:59.952381Z",
     "iopub.status.idle": "2025-08-19T18:13:59.959536Z",
     "shell.execute_reply": "2025-08-19T18:13:59.958143Z"
    },
    "papermill": {
     "duration": 0.029729,
     "end_time": "2025-08-19T18:13:59.962649",
     "exception": false,
     "start_time": "2025-08-19T18:13:59.932920",
     "status": "completed"
    },
    "tags": []
   },
   "outputs": [],
   "source": [
    "from fairness_multiverse.conformal import find_threshold\n",
    "\n",
    "# Find conformal threshold q_hat for the given alpha (split conformal method)\n",
    "q_hat = find_threshold(nc_scores, alpha)"
   ]
  },
  {
   "cell_type": "code",
   "execution_count": 42,
   "id": "df56469e",
   "metadata": {
    "execution": {
     "iopub.execute_input": "2025-08-19T18:13:59.998601Z",
     "iopub.status.busy": "2025-08-19T18:13:59.997558Z",
     "iopub.status.idle": "2025-08-19T18:14:00.005293Z",
     "shell.execute_reply": "2025-08-19T18:14:00.004234Z"
    },
    "papermill": {
     "duration": 0.024633,
     "end_time": "2025-08-19T18:14:00.006907",
     "exception": false,
     "start_time": "2025-08-19T18:13:59.982274",
     "status": "completed"
    },
    "tags": []
   },
   "outputs": [
    {
     "data": {
      "text/plain": [
       "0.6598916809210329"
      ]
     },
     "execution_count": 42,
     "metadata": {},
     "output_type": "execute_result"
    }
   ],
   "source": [
    "q_hat"
   ]
  },
  {
   "cell_type": "code",
   "execution_count": 43,
   "id": "aa1f5faa",
   "metadata": {
    "execution": {
     "iopub.execute_input": "2025-08-19T18:14:00.033696Z",
     "iopub.status.busy": "2025-08-19T18:14:00.032315Z",
     "iopub.status.idle": "2025-08-19T18:14:00.678824Z",
     "shell.execute_reply": "2025-08-19T18:14:00.677656Z"
    },
    "papermill": {
     "duration": 0.660803,
     "end_time": "2025-08-19T18:14:00.680407",
     "exception": false,
     "start_time": "2025-08-19T18:14:00.019604",
     "status": "completed"
    },
    "tags": []
   },
   "outputs": [],
   "source": [
    "from fairness_multiverse.conformal import predict_conformal_sets\n",
    "\n",
    "# Generate prediction sets for each test example\n",
    "pred_sets = predict_conformal_sets(model, X_test, q_hat)"
   ]
  },
  {
   "cell_type": "code",
   "execution_count": 44,
   "id": "97f67a6b",
   "metadata": {
    "execution": {
     "iopub.execute_input": "2025-08-19T18:14:00.717926Z",
     "iopub.status.busy": "2025-08-19T18:14:00.717390Z",
     "iopub.status.idle": "2025-08-19T18:14:00.724889Z",
     "shell.execute_reply": "2025-08-19T18:14:00.723054Z"
    },
    "papermill": {
     "duration": 0.029682,
     "end_time": "2025-08-19T18:14:00.726217",
     "exception": false,
     "start_time": "2025-08-19T18:14:00.696535",
     "status": "completed"
    },
    "tags": []
   },
   "outputs": [],
   "source": [
    "y_true = y_true.squeeze()"
   ]
  },
  {
   "cell_type": "code",
   "execution_count": 45,
   "id": "e700e9a7",
   "metadata": {
    "execution": {
     "iopub.execute_input": "2025-08-19T18:14:00.752195Z",
     "iopub.status.busy": "2025-08-19T18:14:00.751060Z",
     "iopub.status.idle": "2025-08-19T18:14:01.261016Z",
     "shell.execute_reply": "2025-08-19T18:14:01.259090Z"
    },
    "papermill": {
     "duration": 0.523751,
     "end_time": "2025-08-19T18:14:01.262538",
     "exception": false,
     "start_time": "2025-08-19T18:14:00.738787",
     "status": "completed"
    },
    "tags": []
   },
   "outputs": [],
   "source": [
    "from fairness_multiverse.conformal import evaluate_sets\n",
    "\n",
    "# Evaluate coverage and average set size on test data\n",
    "metrics = evaluate_sets(pred_sets, y_true)"
   ]
  },
  {
   "cell_type": "markdown",
   "id": "efbacec0",
   "metadata": {
    "papermill": {
     "duration": 0.011271,
     "end_time": "2025-08-19T18:14:01.285780",
     "exception": false,
     "start_time": "2025-08-19T18:14:01.274509",
     "status": "completed"
    },
    "tags": []
   },
   "source": [
    "# CP Metrics"
   ]
  },
  {
   "cell_type": "code",
   "execution_count": 46,
   "id": "9de55fb1",
   "metadata": {
    "execution": {
     "iopub.execute_input": "2025-08-19T18:14:01.312317Z",
     "iopub.status.busy": "2025-08-19T18:14:01.310708Z",
     "iopub.status.idle": "2025-08-19T18:14:01.324525Z",
     "shell.execute_reply": "2025-08-19T18:14:01.323163Z"
    },
    "papermill": {
     "duration": 0.029019,
     "end_time": "2025-08-19T18:14:01.326051",
     "exception": false,
     "start_time": "2025-08-19T18:14:01.297032",
     "status": "completed"
    },
    "tags": []
   },
   "outputs": [
    {
     "data": {
      "text/plain": [
       "{'coverage': 0.9104782075576858, 'avg_size': 1.1251699921970795}"
      ]
     },
     "execution_count": 46,
     "metadata": {},
     "output_type": "execute_result"
    }
   ],
   "source": [
    "metrics"
   ]
  },
  {
   "cell_type": "code",
   "execution_count": 47,
   "id": "64c340a1",
   "metadata": {
    "execution": {
     "iopub.execute_input": "2025-08-19T18:14:01.367080Z",
     "iopub.status.busy": "2025-08-19T18:14:01.366643Z",
     "iopub.status.idle": "2025-08-19T18:14:01.373112Z",
     "shell.execute_reply": "2025-08-19T18:14:01.372147Z"
    },
    "papermill": {
     "duration": 0.019697,
     "end_time": "2025-08-19T18:14:01.374167",
     "exception": false,
     "start_time": "2025-08-19T18:14:01.354470",
     "status": "completed"
    },
    "tags": []
   },
   "outputs": [],
   "source": [
    "example_universe = universe.copy()\n",
    "universe_training_year = example_universe.get(\"training_year\")\n",
    "universe_training_size = example_universe.get(\"training_size\")\n",
    "universe_scale = example_universe.get(\"scale\")\n",
    "universe_model = example_universe.get(\"model\")\n",
    "universe_exclude_features = example_universe.get(\"exclude_features\")\n",
    "universe_exclude_subgroups = example_universe.get(\"exclude_subgroups\")"
   ]
  },
  {
   "cell_type": "code",
   "execution_count": 48,
   "id": "dbb53cb4",
   "metadata": {
    "execution": {
     "iopub.execute_input": "2025-08-19T18:14:01.400908Z",
     "iopub.status.busy": "2025-08-19T18:14:01.400095Z",
     "iopub.status.idle": "2025-08-19T18:14:01.407588Z",
     "shell.execute_reply": "2025-08-19T18:14:01.406318Z"
    },
    "papermill": {
     "duration": 0.021246,
     "end_time": "2025-08-19T18:14:01.409057",
     "exception": false,
     "start_time": "2025-08-19T18:14:01.387811",
     "status": "completed"
    },
    "tags": []
   },
   "outputs": [],
   "source": [
    "cp_metrics_dict = {\n",
    "    \"universe_id\": [universe_id],\n",
    "    \"universe_training_year\": [universe_training_year],\n",
    "    \"universe_training_size\": [universe_training_size],\n",
    "    \"universe_scale\": [universe_scale],\n",
    "    \"universe_model\": [universe_model],\n",
    "    \"universe_exclude_features\": [universe_exclude_features],\n",
    "    \"universe_exclude_subgroups\": [universe_exclude_subgroups],\n",
    "    \"q_hat\": [q_hat],\n",
    "    \"coverage\": [metrics[\"coverage\"]],\n",
    "    \"avg_size\": [metrics[\"avg_size\"]],\n",
    "}"
   ]
  },
  {
   "cell_type": "code",
   "execution_count": 49,
   "id": "0d70d4b2",
   "metadata": {
    "execution": {
     "iopub.execute_input": "2025-08-19T18:14:01.436837Z",
     "iopub.status.busy": "2025-08-19T18:14:01.435580Z",
     "iopub.status.idle": "2025-08-19T18:14:01.448734Z",
     "shell.execute_reply": "2025-08-19T18:14:01.447565Z"
    },
    "papermill": {
     "duration": 0.027617,
     "end_time": "2025-08-19T18:14:01.450189",
     "exception": false,
     "start_time": "2025-08-19T18:14:01.422572",
     "status": "completed"
    },
    "tags": []
   },
   "outputs": [],
   "source": [
    "cp_metrics_df = pd.DataFrame(cp_metrics_dict)"
   ]
  },
  {
   "cell_type": "code",
   "execution_count": 50,
   "id": "b494403c",
   "metadata": {
    "execution": {
     "iopub.execute_input": "2025-08-19T18:14:01.484301Z",
     "iopub.status.busy": "2025-08-19T18:14:01.478890Z",
     "iopub.status.idle": "2025-08-19T18:14:01.497839Z",
     "shell.execute_reply": "2025-08-19T18:14:01.496970Z"
    },
    "papermill": {
     "duration": 0.034265,
     "end_time": "2025-08-19T18:14:01.499534",
     "exception": false,
     "start_time": "2025-08-19T18:14:01.465269",
     "status": "completed"
    },
    "tags": []
   },
   "outputs": [
    {
     "data": {
      "text/html": [
       "<div>\n",
       "<style scoped>\n",
       "    .dataframe tbody tr th:only-of-type {\n",
       "        vertical-align: middle;\n",
       "    }\n",
       "\n",
       "    .dataframe tbody tr th {\n",
       "        vertical-align: top;\n",
       "    }\n",
       "\n",
       "    .dataframe thead th {\n",
       "        text-align: right;\n",
       "    }\n",
       "</style>\n",
       "<table border=\"1\" class=\"dataframe\">\n",
       "  <thead>\n",
       "    <tr style=\"text-align: right;\">\n",
       "      <th></th>\n",
       "      <th>universe_id</th>\n",
       "      <th>universe_training_year</th>\n",
       "      <th>universe_training_size</th>\n",
       "      <th>universe_scale</th>\n",
       "      <th>universe_model</th>\n",
       "      <th>universe_exclude_features</th>\n",
       "      <th>universe_exclude_subgroups</th>\n",
       "      <th>q_hat</th>\n",
       "      <th>coverage</th>\n",
       "      <th>avg_size</th>\n",
       "    </tr>\n",
       "  </thead>\n",
       "  <tbody>\n",
       "    <tr>\n",
       "      <th>0</th>\n",
       "      <td>0db526b3d140dbd297f98857d2cf4e52</td>\n",
       "      <td>2010_14</td>\n",
       "      <td>25k</td>\n",
       "      <td>scale</td>\n",
       "      <td>penalized_logreg</td>\n",
       "      <td>nationality</td>\n",
       "      <td>keep-all</td>\n",
       "      <td>0.659892</td>\n",
       "      <td>0.910478</td>\n",
       "      <td>1.12517</td>\n",
       "    </tr>\n",
       "  </tbody>\n",
       "</table>\n",
       "</div>"
      ],
      "text/plain": [
       "                        universe_id universe_training_year  \\\n",
       "0  0db526b3d140dbd297f98857d2cf4e52                2010_14   \n",
       "\n",
       "  universe_training_size universe_scale    universe_model  \\\n",
       "0                    25k          scale  penalized_logreg   \n",
       "\n",
       "  universe_exclude_features universe_exclude_subgroups     q_hat  coverage  \\\n",
       "0               nationality                   keep-all  0.659892  0.910478   \n",
       "\n",
       "   avg_size  \n",
       "0   1.12517  "
      ]
     },
     "execution_count": 50,
     "metadata": {},
     "output_type": "execute_result"
    }
   ],
   "source": [
    "cp_metrics_df"
   ]
  },
  {
   "cell_type": "markdown",
   "id": "ed608b0b",
   "metadata": {
    "papermill": {
     "duration": 0.011555,
     "end_time": "2025-08-19T18:14:01.529173",
     "exception": false,
     "start_time": "2025-08-19T18:14:01.517618",
     "status": "completed"
    },
    "tags": []
   },
   "source": [
    "Conditional coverage & looking at subgroups"
   ]
  },
  {
   "cell_type": "code",
   "execution_count": 51,
   "id": "8968c366",
   "metadata": {
    "execution": {
     "iopub.execute_input": "2025-08-19T18:14:01.569025Z",
     "iopub.status.busy": "2025-08-19T18:14:01.562963Z",
     "iopub.status.idle": "2025-08-19T18:14:01.876670Z",
     "shell.execute_reply": "2025-08-19T18:14:01.875789Z"
    },
    "papermill": {
     "duration": 0.337539,
     "end_time": "2025-08-19T18:14:01.878138",
     "exception": false,
     "start_time": "2025-08-19T18:14:01.540599",
     "status": "completed"
    },
    "tags": []
   },
   "outputs": [],
   "source": [
    "from fairness_multiverse.conformal import build_cp_groups\n",
    "\n",
    "cp_groups_df = build_cp_groups(pred_sets, y_true, X_test.index, org_test)"
   ]
  },
  {
   "cell_type": "code",
   "execution_count": 52,
   "id": "292ddabf",
   "metadata": {
    "execution": {
     "iopub.execute_input": "2025-08-19T18:14:01.919499Z",
     "iopub.status.busy": "2025-08-19T18:14:01.918760Z",
     "iopub.status.idle": "2025-08-19T18:14:02.787884Z",
     "shell.execute_reply": "2025-08-19T18:14:02.785800Z"
    },
    "papermill": {
     "duration": 0.88548,
     "end_time": "2025-08-19T18:14:02.790683",
     "exception": false,
     "start_time": "2025-08-19T18:14:01.905203",
     "status": "completed"
    },
    "tags": []
   },
   "outputs": [],
   "source": [
    "# Define covered = 1 if true_label is in the predicted set\n",
    "cp_groups_df['covered'] = cp_groups_df.apply(\n",
    "    lambda r: int(r['true_label'] in r['pred_set']),\n",
    "    axis=1\n",
    ")"
   ]
  },
  {
   "cell_type": "code",
   "execution_count": 53,
   "id": "3a261692",
   "metadata": {
    "execution": {
     "iopub.execute_input": "2025-08-19T18:14:02.834210Z",
     "iopub.status.busy": "2025-08-19T18:14:02.832696Z",
     "iopub.status.idle": "2025-08-19T18:14:02.856353Z",
     "shell.execute_reply": "2025-08-19T18:14:02.855525Z"
    },
    "papermill": {
     "duration": 0.052204,
     "end_time": "2025-08-19T18:14:02.869375",
     "exception": false,
     "start_time": "2025-08-19T18:14:02.817171",
     "status": "completed"
    },
    "tags": []
   },
   "outputs": [],
   "source": [
    "subgroups = ['frau1','nongerman','nongerman_male','nongerman_female']\n",
    "\n",
    "# Conditional coverage for subgroup==1\n",
    "cond_coverage = {\n",
    "    g: cp_groups_df.loc[cp_groups_df[g]==1, 'covered'].mean()\n",
    "    for g in subgroups\n",
    "}"
   ]
  },
  {
   "cell_type": "code",
   "execution_count": 54,
   "id": "894fd600",
   "metadata": {
    "execution": {
     "iopub.execute_input": "2025-08-19T18:14:02.894976Z",
     "iopub.status.busy": "2025-08-19T18:14:02.894577Z",
     "iopub.status.idle": "2025-08-19T18:14:02.900995Z",
     "shell.execute_reply": "2025-08-19T18:14:02.900183Z"
    },
    "papermill": {
     "duration": 0.020084,
     "end_time": "2025-08-19T18:14:02.902051",
     "exception": false,
     "start_time": "2025-08-19T18:14:02.881967",
     "status": "completed"
    },
    "tags": []
   },
   "outputs": [
    {
     "data": {
      "text/plain": [
       "{'frau1': 0.909179134654266,\n",
       " 'nongerman': 0.9123673721439398,\n",
       " 'nongerman_male': 0.9283076645951545,\n",
       " 'nongerman_female': 0.8859910581222057}"
      ]
     },
     "execution_count": 54,
     "metadata": {},
     "output_type": "execute_result"
    }
   ],
   "source": [
    "cond_coverage"
   ]
  },
  {
   "cell_type": "code",
   "execution_count": 55,
   "id": "942895c7",
   "metadata": {
    "execution": {
     "iopub.execute_input": "2025-08-19T18:14:02.928147Z",
     "iopub.status.busy": "2025-08-19T18:14:02.927664Z",
     "iopub.status.idle": "2025-08-19T18:14:02.934349Z",
     "shell.execute_reply": "2025-08-19T18:14:02.933548Z"
    },
    "papermill": {
     "duration": 0.020739,
     "end_time": "2025-08-19T18:14:02.935670",
     "exception": false,
     "start_time": "2025-08-19T18:14:02.914931",
     "status": "completed"
    },
    "tags": []
   },
   "outputs": [],
   "source": [
    "for subgroup, cov in cond_coverage.items():\n",
    "    cp_metrics_df[f\"cov_{subgroup}\"] = cov"
   ]
  },
  {
   "cell_type": "code",
   "execution_count": 56,
   "id": "3970120f",
   "metadata": {
    "execution": {
     "iopub.execute_input": "2025-08-19T18:14:02.960924Z",
     "iopub.status.busy": "2025-08-19T18:14:02.960680Z",
     "iopub.status.idle": "2025-08-19T18:14:02.974492Z",
     "shell.execute_reply": "2025-08-19T18:14:02.973693Z"
    },
    "papermill": {
     "duration": 0.029728,
     "end_time": "2025-08-19T18:14:02.977598",
     "exception": false,
     "start_time": "2025-08-19T18:14:02.947870",
     "status": "completed"
    },
    "tags": []
   },
   "outputs": [
    {
     "data": {
      "text/html": [
       "<div>\n",
       "<style scoped>\n",
       "    .dataframe tbody tr th:only-of-type {\n",
       "        vertical-align: middle;\n",
       "    }\n",
       "\n",
       "    .dataframe tbody tr th {\n",
       "        vertical-align: top;\n",
       "    }\n",
       "\n",
       "    .dataframe thead th {\n",
       "        text-align: right;\n",
       "    }\n",
       "</style>\n",
       "<table border=\"1\" class=\"dataframe\">\n",
       "  <thead>\n",
       "    <tr style=\"text-align: right;\">\n",
       "      <th></th>\n",
       "      <th>universe_id</th>\n",
       "      <th>universe_training_year</th>\n",
       "      <th>universe_training_size</th>\n",
       "      <th>universe_scale</th>\n",
       "      <th>universe_model</th>\n",
       "      <th>universe_exclude_features</th>\n",
       "      <th>universe_exclude_subgroups</th>\n",
       "      <th>q_hat</th>\n",
       "      <th>coverage</th>\n",
       "      <th>avg_size</th>\n",
       "      <th>cov_frau1</th>\n",
       "      <th>cov_nongerman</th>\n",
       "      <th>cov_nongerman_male</th>\n",
       "      <th>cov_nongerman_female</th>\n",
       "    </tr>\n",
       "  </thead>\n",
       "  <tbody>\n",
       "    <tr>\n",
       "      <th>0</th>\n",
       "      <td>0db526b3d140dbd297f98857d2cf4e52</td>\n",
       "      <td>2010_14</td>\n",
       "      <td>25k</td>\n",
       "      <td>scale</td>\n",
       "      <td>penalized_logreg</td>\n",
       "      <td>nationality</td>\n",
       "      <td>keep-all</td>\n",
       "      <td>0.659892</td>\n",
       "      <td>0.910478</td>\n",
       "      <td>1.12517</td>\n",
       "      <td>0.909179</td>\n",
       "      <td>0.912367</td>\n",
       "      <td>0.928308</td>\n",
       "      <td>0.885991</td>\n",
       "    </tr>\n",
       "  </tbody>\n",
       "</table>\n",
       "</div>"
      ],
      "text/plain": [
       "                        universe_id universe_training_year  \\\n",
       "0  0db526b3d140dbd297f98857d2cf4e52                2010_14   \n",
       "\n",
       "  universe_training_size universe_scale    universe_model  \\\n",
       "0                    25k          scale  penalized_logreg   \n",
       "\n",
       "  universe_exclude_features universe_exclude_subgroups     q_hat  coverage  \\\n",
       "0               nationality                   keep-all  0.659892  0.910478   \n",
       "\n",
       "   avg_size  cov_frau1  cov_nongerman  cov_nongerman_male  \\\n",
       "0   1.12517   0.909179       0.912367            0.928308   \n",
       "\n",
       "   cov_nongerman_female  \n",
       "0              0.885991  "
      ]
     },
     "execution_count": 56,
     "metadata": {},
     "output_type": "execute_result"
    }
   ],
   "source": [
    "cp_metrics_df"
   ]
  },
  {
   "cell_type": "markdown",
   "id": "3fc519cc",
   "metadata": {
    "papermill": {
     "duration": 0.012555,
     "end_time": "2025-08-19T18:14:03.004537",
     "exception": false,
     "start_time": "2025-08-19T18:14:02.991982",
     "status": "completed"
    },
    "tags": []
   },
   "source": [
    "# (Fairness) Metrics"
   ]
  },
  {
   "cell_type": "code",
   "execution_count": 57,
   "id": "a2e5e155",
   "metadata": {
    "execution": {
     "iopub.execute_input": "2025-08-19T18:14:03.030384Z",
     "iopub.status.busy": "2025-08-19T18:14:03.029911Z",
     "iopub.status.idle": "2025-08-19T18:14:03.045828Z",
     "shell.execute_reply": "2025-08-19T18:14:03.044999Z"
    },
    "papermill": {
     "duration": 0.030653,
     "end_time": "2025-08-19T18:14:03.047621",
     "exception": false,
     "start_time": "2025-08-19T18:14:03.016968",
     "status": "completed"
    },
    "tags": []
   },
   "outputs": [],
   "source": [
    "colname_to_bin = \"maxdeutsch1\"\n",
    "majority_value = org_train[colname_to_bin].mode()[0]\n",
    "\n",
    "org_test[\"majmin\"] = np.where(org_test[colname_to_bin] == majority_value, \"majority\", \"minority\")"
   ]
  },
  {
   "cell_type": "code",
   "execution_count": 58,
   "id": "17e3e4d5",
   "metadata": {
    "execution": {
     "iopub.execute_input": "2025-08-19T18:14:03.075410Z",
     "iopub.status.busy": "2025-08-19T18:14:03.074689Z",
     "iopub.status.idle": "2025-08-19T18:14:04.815706Z",
     "shell.execute_reply": "2025-08-19T18:14:04.814475Z"
    },
    "papermill": {
     "duration": 1.755815,
     "end_time": "2025-08-19T18:14:04.817446",
     "exception": false,
     "start_time": "2025-08-19T18:14:03.061631",
     "status": "completed"
    },
    "tags": []
   },
   "outputs": [],
   "source": [
    "example_universe = universe.copy()\n",
    "example_universe[\"cutoff\"] = example_universe[\"cutoff\"][0]\n",
    "example_universe[\"eval_fairness_grouping\"] = example_universe[\"eval_fairness_grouping\"][0]\n",
    "fairness_dict, metric_frame = universe_analysis.compute_metrics(\n",
    "    example_universe,\n",
    "    y_pred_prob=probs_test,\n",
    "    y_test=y_true,\n",
    "    org_test=org_test,\n",
    ")"
   ]
  },
  {
   "cell_type": "markdown",
   "id": "1fb7a0e9",
   "metadata": {
    "papermill": {
     "duration": 0.012028,
     "end_time": "2025-08-19T18:14:04.845019",
     "exception": false,
     "start_time": "2025-08-19T18:14:04.832991",
     "status": "completed"
    },
    "tags": []
   },
   "source": [
    "# Overall"
   ]
  },
  {
   "cell_type": "markdown",
   "id": "be1784b1",
   "metadata": {
    "papermill": {
     "duration": 0.011856,
     "end_time": "2025-08-19T18:14:04.868887",
     "exception": false,
     "start_time": "2025-08-19T18:14:04.857031",
     "status": "completed"
    },
    "tags": []
   },
   "source": [
    "Main fairness target: Equalized Odds. Seems to be a better fit than equal opportunity, since we're not only interested in Y = 1. Seems to be a better fit than demographic parity, since we also care about accuracy, not just equal distribution of preds.\n",
    "\n",
    "Pick column for computation of fairness metrics\n",
    "\n",
    "Performance\n",
    "Overall performance measures, most interesting in relation to the measures split by group below"
   ]
  },
  {
   "cell_type": "code",
   "execution_count": 59,
   "id": "b7672bee",
   "metadata": {
    "execution": {
     "iopub.execute_input": "2025-08-19T18:14:04.896372Z",
     "iopub.status.busy": "2025-08-19T18:14:04.895227Z",
     "iopub.status.idle": "2025-08-19T18:14:04.910532Z",
     "shell.execute_reply": "2025-08-19T18:14:04.909274Z"
    },
    "papermill": {
     "duration": 0.031409,
     "end_time": "2025-08-19T18:14:04.912226",
     "exception": false,
     "start_time": "2025-08-19T18:14:04.880817",
     "status": "completed"
    },
    "tags": []
   },
   "outputs": [
    {
     "data": {
      "text/plain": [
       "accuracy                   0.225538\n",
       "balanced accuracy          0.551227\n",
       "f1                         0.246837\n",
       "precision                  0.141010\n",
       "false positive rate        0.886857\n",
       "false negative rate        0.010688\n",
       "selection rate             0.900000\n",
       "count                  89710.000000\n",
       "dtype: float64"
      ]
     },
     "execution_count": 59,
     "metadata": {},
     "output_type": "execute_result"
    }
   ],
   "source": [
    "metric_frame.overall"
   ]
  },
  {
   "cell_type": "markdown",
   "id": "d93333c9",
   "metadata": {
    "papermill": {
     "duration": 0.012387,
     "end_time": "2025-08-19T18:14:04.942804",
     "exception": false,
     "start_time": "2025-08-19T18:14:04.930417",
     "status": "completed"
    },
    "tags": []
   },
   "source": [
    "By Group"
   ]
  },
  {
   "cell_type": "code",
   "execution_count": 60,
   "id": "52256966",
   "metadata": {
    "execution": {
     "iopub.execute_input": "2025-08-19T18:14:04.969758Z",
     "iopub.status.busy": "2025-08-19T18:14:04.968411Z",
     "iopub.status.idle": "2025-08-19T18:14:04.991852Z",
     "shell.execute_reply": "2025-08-19T18:14:04.990740Z"
    },
    "papermill": {
     "duration": 0.038809,
     "end_time": "2025-08-19T18:14:04.993677",
     "exception": false,
     "start_time": "2025-08-19T18:14:04.954868",
     "status": "completed"
    },
    "tags": []
   },
   "outputs": [
    {
     "data": {
      "text/html": [
       "<div>\n",
       "<style scoped>\n",
       "    .dataframe tbody tr th:only-of-type {\n",
       "        vertical-align: middle;\n",
       "    }\n",
       "\n",
       "    .dataframe tbody tr th {\n",
       "        vertical-align: top;\n",
       "    }\n",
       "\n",
       "    .dataframe thead th {\n",
       "        text-align: right;\n",
       "    }\n",
       "</style>\n",
       "<table border=\"1\" class=\"dataframe\">\n",
       "  <thead>\n",
       "    <tr style=\"text-align: right;\">\n",
       "      <th></th>\n",
       "      <th>accuracy</th>\n",
       "      <th>balanced accuracy</th>\n",
       "      <th>f1</th>\n",
       "      <th>precision</th>\n",
       "      <th>false positive rate</th>\n",
       "      <th>false negative rate</th>\n",
       "      <th>selection rate</th>\n",
       "      <th>count</th>\n",
       "    </tr>\n",
       "    <tr>\n",
       "      <th>majmin</th>\n",
       "      <th></th>\n",
       "      <th></th>\n",
       "      <th></th>\n",
       "      <th></th>\n",
       "      <th></th>\n",
       "      <th></th>\n",
       "      <th></th>\n",
       "      <th></th>\n",
       "    </tr>\n",
       "  </thead>\n",
       "  <tbody>\n",
       "    <tr>\n",
       "      <th>majority</th>\n",
       "      <td>0.246740</td>\n",
       "      <td>0.561249</td>\n",
       "      <td>0.257549</td>\n",
       "      <td>0.148058</td>\n",
       "      <td>0.866234</td>\n",
       "      <td>0.011269</td>\n",
       "      <td>0.882420</td>\n",
       "      <td>69170.0</td>\n",
       "    </tr>\n",
       "    <tr>\n",
       "      <th>minority</th>\n",
       "      <td>0.154138</td>\n",
       "      <td>0.518284</td>\n",
       "      <td>0.212778</td>\n",
       "      <td>0.119176</td>\n",
       "      <td>0.954986</td>\n",
       "      <td>0.008446</td>\n",
       "      <td>0.959202</td>\n",
       "      <td>20540.0</td>\n",
       "    </tr>\n",
       "  </tbody>\n",
       "</table>\n",
       "</div>"
      ],
      "text/plain": [
       "          accuracy  balanced accuracy        f1  precision  \\\n",
       "majmin                                                       \n",
       "majority  0.246740           0.561249  0.257549   0.148058   \n",
       "minority  0.154138           0.518284  0.212778   0.119176   \n",
       "\n",
       "          false positive rate  false negative rate  selection rate    count  \n",
       "majmin                                                                       \n",
       "majority             0.866234             0.011269        0.882420  69170.0  \n",
       "minority             0.954986             0.008446        0.959202  20540.0  "
      ]
     },
     "execution_count": 60,
     "metadata": {},
     "output_type": "execute_result"
    }
   ],
   "source": [
    "metric_frame.by_group"
   ]
  },
  {
   "cell_type": "code",
   "execution_count": 61,
   "id": "6e6c20ae",
   "metadata": {
    "execution": {
     "iopub.execute_input": "2025-08-19T18:14:05.028544Z",
     "iopub.status.busy": "2025-08-19T18:14:05.027556Z",
     "iopub.status.idle": "2025-08-19T18:14:06.827892Z",
     "shell.execute_reply": "2025-08-19T18:14:06.826785Z"
    },
    "papermill": {
     "duration": 1.817356,
     "end_time": "2025-08-19T18:14:06.831268",
     "exception": false,
     "start_time": "2025-08-19T18:14:05.013912",
     "status": "completed"
    },
    "tags": []
   },
   "outputs": [
    {
     "data": {
      "text/plain": [
       "array([[<Axes: title={'center': 'accuracy'}, xlabel='majmin'>,\n",
       "        <Axes: title={'center': 'balanced accuracy'}, xlabel='majmin'>,\n",
       "        <Axes: title={'center': 'f1'}, xlabel='majmin'>],\n",
       "       [<Axes: title={'center': 'precision'}, xlabel='majmin'>,\n",
       "        <Axes: title={'center': 'false positive rate'}, xlabel='majmin'>,\n",
       "        <Axes: title={'center': 'false negative rate'}, xlabel='majmin'>],\n",
       "       [<Axes: title={'center': 'selection rate'}, xlabel='majmin'>,\n",
       "        <Axes: title={'center': 'count'}, xlabel='majmin'>,\n",
       "        <Axes: xlabel='majmin'>]], dtype=object)"
      ]
     },
     "execution_count": 61,
     "metadata": {},
     "output_type": "execute_result"
    },
    {
     "data": {
      "image/png": "[encoded data removed]",
      "text/plain": [
       "<Figure size 1200x800 with 9 Axes>"
      ]
     },
     "metadata": {},
     "output_type": "display_data"
    }
   ],
   "source": [
    "# In a graphic\n",
    "metric_frame.by_group.plot.bar(\n",
    "    subplots=True,\n",
    "    layout=[3, 3],\n",
    "    legend=False,\n",
    "    figsize=[12, 8],\n",
    "    title=\"Show all metrics\",\n",
    ")"
   ]
  },
  {
   "cell_type": "markdown",
   "id": "b2e433ae",
   "metadata": {
    "papermill": {
     "duration": 0.017378,
     "end_time": "2025-08-19T18:14:06.875295",
     "exception": false,
     "start_time": "2025-08-19T18:14:06.857917",
     "status": "completed"
    },
    "tags": []
   },
   "source": [
    "# Final Output"
   ]
  },
  {
   "cell_type": "code",
   "execution_count": 62,
   "id": "3871301e",
   "metadata": {
    "execution": {
     "iopub.execute_input": "2025-08-19T18:14:06.906884Z",
     "iopub.status.busy": "2025-08-19T18:14:06.905639Z",
     "iopub.status.idle": "2025-08-19T18:14:06.914754Z",
     "shell.execute_reply": "2025-08-19T18:14:06.914182Z"
    },
    "papermill": {
     "duration": 0.025831,
     "end_time": "2025-08-19T18:14:06.915900",
     "exception": false,
     "start_time": "2025-08-19T18:14:06.890069",
     "status": "completed"
    },
    "tags": []
   },
   "outputs": [
    {
     "data": {
      "text/plain": [
       "4"
      ]
     },
     "execution_count": 62,
     "metadata": {},
     "output_type": "execute_result"
    }
   ],
   "source": [
    "sub_universes = universe_analysis.generate_sub_universes()\n",
    "len(sub_universes)"
   ]
  },
  {
   "cell_type": "code",
   "execution_count": 63,
   "id": "d9cfdaca",
   "metadata": {
    "execution": {
     "iopub.execute_input": "2025-08-19T18:14:06.946032Z",
     "iopub.status.busy": "2025-08-19T18:14:06.945184Z",
     "iopub.status.idle": "2025-08-19T18:14:06.959332Z",
     "shell.execute_reply": "2025-08-19T18:14:06.957667Z"
    },
    "papermill": {
     "duration": 0.031305,
     "end_time": "2025-08-19T18:14:06.961103",
     "exception": false,
     "start_time": "2025-08-19T18:14:06.929798",
     "status": "completed"
    },
    "tags": []
   },
   "outputs": [],
   "source": [
    "def filter_sub_universe_data(sub_universe, org_test):\n",
    "    # Keep all rows — no filtering\n",
    "    keep_rows_mask = np.ones(org_test.shape[0], dtype=bool)\n",
    "\n",
    "    print(f\"[INFO] Keeping all rows: {keep_rows_mask.sum()} rows retained.\")\n",
    "    return keep_rows_mask"
   ]
  },
  {
   "cell_type": "code",
   "execution_count": 64,
   "id": "2bc31ac1",
   "metadata": {
    "execution": {
     "iopub.execute_input": "2025-08-19T18:14:06.998417Z",
     "iopub.status.busy": "2025-08-19T18:14:06.997478Z",
     "iopub.status.idle": "2025-08-19T18:14:13.743059Z",
     "shell.execute_reply": "2025-08-19T18:14:13.742071Z"
    },
    "papermill": {
     "duration": 6.763221,
     "end_time": "2025-08-19T18:14:13.745606",
     "exception": false,
     "start_time": "2025-08-19T18:14:06.982385",
     "status": "completed"
    },
    "tags": []
   },
   "outputs": [
    {
     "name": "stdout",
     "output_type": "stream",
     "text": [
      "Stopping execution_time clock.\n",
      "[INFO] Keeping all rows: 89710 rows retained.\n"
     ]
    },
    {
     "name": "stdout",
     "output_type": "stream",
     "text": [
      "[INFO] Keeping all rows: 89710 rows retained.\n"
     ]
    },
    {
     "name": "stdout",
     "output_type": "stream",
     "text": [
      "[INFO] Keeping all rows: 89710 rows retained.\n"
     ]
    },
    {
     "name": "stdout",
     "output_type": "stream",
     "text": [
      "[INFO] Keeping all rows: 89710 rows retained.\n"
     ]
    },
    {
     "data": {
      "text/html": [
       "<div>\n",
       "<style scoped>\n",
       "    .dataframe tbody tr th:only-of-type {\n",
       "        vertical-align: middle;\n",
       "    }\n",
       "\n",
       "    .dataframe tbody tr th {\n",
       "        vertical-align: top;\n",
       "    }\n",
       "\n",
       "    .dataframe thead th {\n",
       "        text-align: right;\n",
       "    }\n",
       "</style>\n",
       "<table border=\"1\" class=\"dataframe\">\n",
       "  <thead>\n",
       "    <tr style=\"text-align: right;\">\n",
       "      <th></th>\n",
       "      <th>run_no</th>\n",
       "      <th>universe_id</th>\n",
       "      <th>universe_settings</th>\n",
       "      <th>execution_time</th>\n",
       "      <th>test_size_n</th>\n",
       "      <th>test_size_frac</th>\n",
       "      <th>fair_main_equalized_odds_difference</th>\n",
       "      <th>fair_main_equalized_odds_ratio</th>\n",
       "      <th>fair_main_demographic_parity_difference</th>\n",
       "      <th>fair_main_demographic_parity_ratio</th>\n",
       "      <th>...</th>\n",
       "      <th>perf_grp_precision_0</th>\n",
       "      <th>perf_grp_precision_1</th>\n",
       "      <th>perf_grp_false positive rate_0</th>\n",
       "      <th>perf_grp_false positive rate_1</th>\n",
       "      <th>perf_grp_false negative rate_0</th>\n",
       "      <th>perf_grp_false negative rate_1</th>\n",
       "      <th>perf_grp_selection rate_0</th>\n",
       "      <th>perf_grp_selection rate_1</th>\n",
       "      <th>perf_grp_count_0</th>\n",
       "      <th>perf_grp_count_1</th>\n",
       "    </tr>\n",
       "  </thead>\n",
       "  <tbody>\n",
       "    <tr>\n",
       "      <th>0</th>\n",
       "      <td>3</td>\n",
       "      <td>0db526b3d140dbd297f98857d2cf4e52</td>\n",
       "      <td>{\"cutoff\": \"quantile_0.1\", \"eval_fairness_grou...</td>\n",
       "      <td>22.94572</td>\n",
       "      <td>89710</td>\n",
       "      <td>1.0</td>\n",
       "      <td>0.088752</td>\n",
       "      <td>0.907064</td>\n",
       "      <td>0.076781</td>\n",
       "      <td>0.919953</td>\n",
       "      <td>...</td>\n",
       "      <td>NaN</td>\n",
       "      <td>NaN</td>\n",
       "      <td>NaN</td>\n",
       "      <td>NaN</td>\n",
       "      <td>NaN</td>\n",
       "      <td>NaN</td>\n",
       "      <td>NaN</td>\n",
       "      <td>NaN</td>\n",
       "      <td>NaN</td>\n",
       "      <td>NaN</td>\n",
       "    </tr>\n",
       "    <tr>\n",
       "      <th>0</th>\n",
       "      <td>3</td>\n",
       "      <td>0db526b3d140dbd297f98857d2cf4e52</td>\n",
       "      <td>{\"cutoff\": \"quantile_0.1\", \"eval_fairness_grou...</td>\n",
       "      <td>22.94572</td>\n",
       "      <td>89710</td>\n",
       "      <td>1.0</td>\n",
       "      <td>0.088752</td>\n",
       "      <td>0.907064</td>\n",
       "      <td>0.076781</td>\n",
       "      <td>0.919953</td>\n",
       "      <td>...</td>\n",
       "      <td>0.119176</td>\n",
       "      <td>0.148058</td>\n",
       "      <td>0.954986</td>\n",
       "      <td>0.866234</td>\n",
       "      <td>0.008446</td>\n",
       "      <td>0.011269</td>\n",
       "      <td>0.959202</td>\n",
       "      <td>0.882420</td>\n",
       "      <td>20540.0</td>\n",
       "      <td>69170.0</td>\n",
       "    </tr>\n",
       "    <tr>\n",
       "      <th>0</th>\n",
       "      <td>3</td>\n",
       "      <td>0db526b3d140dbd297f98857d2cf4e52</td>\n",
       "      <td>{\"cutoff\": \"quantile_0.25\", \"eval_fairness_gro...</td>\n",
       "      <td>22.94572</td>\n",
       "      <td>89710</td>\n",
       "      <td>1.0</td>\n",
       "      <td>0.157723</td>\n",
       "      <td>0.812572</td>\n",
       "      <td>0.136648</td>\n",
       "      <td>0.840244</td>\n",
       "      <td>...</td>\n",
       "      <td>NaN</td>\n",
       "      <td>NaN</td>\n",
       "      <td>NaN</td>\n",
       "      <td>NaN</td>\n",
       "      <td>NaN</td>\n",
       "      <td>NaN</td>\n",
       "      <td>NaN</td>\n",
       "      <td>NaN</td>\n",
       "      <td>NaN</td>\n",
       "      <td>NaN</td>\n",
       "    </tr>\n",
       "    <tr>\n",
       "      <th>0</th>\n",
       "      <td>3</td>\n",
       "      <td>0db526b3d140dbd297f98857d2cf4e52</td>\n",
       "      <td>{\"cutoff\": \"quantile_0.25\", \"eval_fairness_gro...</td>\n",
       "      <td>22.94572</td>\n",
       "      <td>89710</td>\n",
       "      <td>1.0</td>\n",
       "      <td>0.157723</td>\n",
       "      <td>0.812572</td>\n",
       "      <td>0.136648</td>\n",
       "      <td>0.840244</td>\n",
       "      <td>...</td>\n",
       "      <td>0.129603</td>\n",
       "      <td>0.174300</td>\n",
       "      <td>0.841514</td>\n",
       "      <td>0.683791</td>\n",
       "      <td>0.038429</td>\n",
       "      <td>0.051969</td>\n",
       "      <td>0.855355</td>\n",
       "      <td>0.718708</td>\n",
       "      <td>20540.0</td>\n",
       "      <td>69170.0</td>\n",
       "    </tr>\n",
       "  </tbody>\n",
       "</table>\n",
       "<p>4 rows × 50 columns</p>\n",
       "</div>"
      ],
      "text/plain": [
       "  run_no                       universe_id  \\\n",
       "0      3  0db526b3d140dbd297f98857d2cf4e52   \n",
       "0      3  0db526b3d140dbd297f98857d2cf4e52   \n",
       "0      3  0db526b3d140dbd297f98857d2cf4e52   \n",
       "0      3  0db526b3d140dbd297f98857d2cf4e52   \n",
       "\n",
       "                                   universe_settings  execution_time  \\\n",
       "0  {\"cutoff\": \"quantile_0.1\", \"eval_fairness_grou...        22.94572   \n",
       "0  {\"cutoff\": \"quantile_0.1\", \"eval_fairness_grou...        22.94572   \n",
       "0  {\"cutoff\": \"quantile_0.25\", \"eval_fairness_gro...        22.94572   \n",
       "0  {\"cutoff\": \"quantile_0.25\", \"eval_fairness_gro...        22.94572   \n",
       "\n",
       "   test_size_n  test_size_frac  fair_main_equalized_odds_difference  \\\n",
       "0        89710             1.0                             0.088752   \n",
       "0        89710             1.0                             0.088752   \n",
       "0        89710             1.0                             0.157723   \n",
       "0        89710             1.0                             0.157723   \n",
       "\n",
       "   fair_main_equalized_odds_ratio  fair_main_demographic_parity_difference  \\\n",
       "0                        0.907064                                 0.076781   \n",
       "0                        0.907064                                 0.076781   \n",
       "0                        0.812572                                 0.136648   \n",
       "0                        0.812572                                 0.136648   \n",
       "\n",
       "   fair_main_demographic_parity_ratio  ...  perf_grp_precision_0  \\\n",
       "0                            0.919953  ...                   NaN   \n",
       "0                            0.919953  ...              0.119176   \n",
       "0                            0.840244  ...                   NaN   \n",
       "0                            0.840244  ...              0.129603   \n",
       "\n",
       "   perf_grp_precision_1  perf_grp_false positive rate_0  \\\n",
       "0                   NaN                             NaN   \n",
       "0              0.148058                        0.954986   \n",
       "0                   NaN                             NaN   \n",
       "0              0.174300                        0.841514   \n",
       "\n",
       "   perf_grp_false positive rate_1  perf_grp_false negative rate_0  \\\n",
       "0                             NaN                             NaN   \n",
       "0                        0.866234                        0.008446   \n",
       "0                             NaN                             NaN   \n",
       "0                        0.683791                        0.038429   \n",
       "\n",
       "   perf_grp_false negative rate_1  perf_grp_selection rate_0  \\\n",
       "0                             NaN                        NaN   \n",
       "0                        0.011269                   0.959202   \n",
       "0                             NaN                        NaN   \n",
       "0                        0.051969                   0.855355   \n",
       "\n",
       "   perf_grp_selection rate_1  perf_grp_count_0  perf_grp_count_1  \n",
       "0                        NaN               NaN               NaN  \n",
       "0                   0.882420           20540.0           69170.0  \n",
       "0                        NaN               NaN               NaN  \n",
       "0                   0.718708           20540.0           69170.0  \n",
       "\n",
       "[4 rows x 50 columns]"
      ]
     },
     "execution_count": 64,
     "metadata": {},
     "output_type": "execute_result"
    }
   ],
   "source": [
    "final_output = universe_analysis.generate_final_output(\n",
    "    y_pred_prob=probs_test,\n",
    "    y_test=y_true,\n",
    "    org_test=org_test,\n",
    "    filter_data=filter_sub_universe_data,\n",
    "    cp_metrics_df=cp_metrics_df,\n",
    "    save=True,\n",
    ")\n",
    "final_output"
   ]
  },
  {
   "cell_type": "code",
   "execution_count": null,
   "id": "8b80a1ff",
   "metadata": {
    "papermill": {
     "duration": 0.014822,
     "end_time": "2025-08-19T18:14:13.792458",
     "exception": false,
     "start_time": "2025-08-19T18:14:13.777636",
     "status": "completed"
    },
    "tags": []
   },
   "outputs": [],
   "source": []
  },
  {
   "cell_type": "code",
   "execution_count": null,
   "id": "275c9fad",
   "metadata": {
    "papermill": {
     "duration": 0.014151,
     "end_time": "2025-08-19T18:14:13.820761",
     "exception": false,
     "start_time": "2025-08-19T18:14:13.806610",
     "status": "completed"
    },
    "tags": []
   },
   "outputs": [],
   "source": []
  }
 ],
 "metadata": {
  "celltoolbar": "Tags",
  "kernelspec": {
   "display_name": "Python (CMA Fairness)",
   "language": "python",
   "name": "cma_fair_env"
  },
  "language_info": {
   "codemirror_mode": {
    "name": "ipython",
    "version": 3
   },
   "file_extension": ".py",
   "mimetype": "text/x-python",
   "name": "python",
   "nbconvert_exporter": "python",
   "pygments_lexer": "ipython3",
   "version": "3.10.12"
  },
  "papermill": {
   "default_parameters": {},
   "duration": 33.458042,
   "end_time": "2025-08-19T18:14:14.658628",
   "environment_variables": {},
   "exception": null,
   "input_path": "universe_analysis.ipynb",
   "output_path": "output/runs/3/notebooks/m_3-0db526b3d140dbd297f98857d2cf4e52.ipynb",
   "parameters": {
    "output_dir": "output",
    "run_no": "3",
    "seed": "2023",
    "universe": "{\"cutoff\": [\"quantile_0.1\", \"quantile_0.25\"], \"eval_fairness_grouping\": [\"majority-minority\", \"nationality-all\"], \"exclude_features\": \"nationality\", \"exclude_subgroups\": \"keep-all\", \"model\": \"penalized_logreg\", \"scale\": \"scale\", \"training_size\": \"25k\", \"training_year\": \"2010_14\"}",
    "universe_id": "0db526b3d140dbd297f98857d2cf4e52"
   },
   "start_time": "2025-08-19T18:13:41.200586",
   "version": "2.6.0"
  }
 },
 "nbformat": 4,
 "nbformat_minor": 5
}