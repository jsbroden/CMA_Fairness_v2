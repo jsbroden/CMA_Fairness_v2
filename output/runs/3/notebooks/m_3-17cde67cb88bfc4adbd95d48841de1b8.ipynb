{
 "cells": [
  {
   "cell_type": "markdown",
   "id": "ef23dbb3",
   "metadata": {
    "papermill": {
     "duration": 0.009448,
     "end_time": "2025-08-19T17:53:45.625409",
     "exception": false,
     "start_time": "2025-08-19T17:53:45.615961",
     "status": "completed"
    },
    "tags": []
   },
   "source": [
    "# Setup"
   ]
  },
  {
   "cell_type": "code",
   "execution_count": 1,
   "id": "0bc8e7dc",
   "metadata": {
    "execution": {
     "iopub.execute_input": "2025-08-19T17:53:45.644979Z",
     "iopub.status.busy": "2025-08-19T17:53:45.644499Z",
     "iopub.status.idle": "2025-08-19T17:53:45.654223Z",
     "shell.execute_reply": "2025-08-19T17:53:45.653656Z"
    },
    "papermill": {
     "duration": 0.023566,
     "end_time": "2025-08-19T17:53:45.658072",
     "exception": false,
     "start_time": "2025-08-19T17:53:45.634506",
     "status": "completed"
    },
    "tags": []
   },
   "outputs": [
    {
     "name": "stdout",
     "output_type": "stream",
     "text": [
      "/dss/dsshome1/0C/ra93lal2/cma/CMA_Fairness_v2\n"
     ]
    },
    {
     "name": "stderr",
     "output_type": "stream",
     "text": [
      "/dss/dsshome1/0C/ra93lal2/.local/share/virtualenvs/CMA_Fairness_v2-3j10GkSs/lib/python3.10/site-packages/IPython/core/magics/osm.py:393: UserWarning: This is now an optional IPython functionality, using bookmarks requires you to install the `pickleshare` library.\n",
      "  bkms = self.shell.db.get('bookmarks', {})\n",
      "/dss/dsshome1/0C/ra93lal2/.local/share/virtualenvs/CMA_Fairness_v2-3j10GkSs/lib/python3.10/site-packages/IPython/core/magics/osm.py:417: UserWarning: This is now an optional IPython functionality, setting dhist requires you to install the `pickleshare` library.\n",
      "  self.shell.db['dhist'] = compress_dhist(dhist)[-100:]\n"
     ]
    }
   ],
   "source": [
    "%cd ~/cma/CMA_Fairness_v2"
   ]
  },
  {
   "cell_type": "markdown",
   "id": "9d235661",
   "metadata": {
    "papermill": {
     "duration": 0.008718,
     "end_time": "2025-08-19T17:53:45.676578",
     "exception": false,
     "start_time": "2025-08-19T17:53:45.667860",
     "status": "completed"
    },
    "tags": []
   },
   "source": [
    "The following cell holds the definition of our parameters, these values can be overriden by rendering the with e.g. the following command:\n",
    "\n",
    "papermill -p alpha 0.2 -p ratio 0.3 universe_analysis.ipynb output/test_run.ipynb"
   ]
  },
  {
   "cell_type": "code",
   "execution_count": 2,
   "id": "4a789d8e",
   "metadata": {
    "execution": {
     "iopub.execute_input": "2025-08-19T17:53:45.697180Z",
     "iopub.status.busy": "2025-08-19T17:53:45.695845Z",
     "iopub.status.idle": "2025-08-19T17:53:45.704786Z",
     "shell.execute_reply": "2025-08-19T17:53:45.703338Z"
    },
    "papermill": {
     "duration": 0.020966,
     "end_time": "2025-08-19T17:53:45.706281",
     "exception": false,
     "start_time": "2025-08-19T17:53:45.685315",
     "status": "completed"
    },
    "tags": []
   },
   "outputs": [
    {
     "name": "stdout",
     "output_type": "stream",
     "text": [
      "Current working directory: /dss/dsshome1/0C/ra93lal2/cma/CMA_Fairness_v2\n"
     ]
    }
   ],
   "source": [
    "import os\n",
    "print(\"Current working directory:\", os.getcwd())"
   ]
  },
  {
   "cell_type": "code",
   "execution_count": 3,
   "id": "4132aaed",
   "metadata": {
    "execution": {
     "iopub.execute_input": "2025-08-19T17:53:45.727856Z",
     "iopub.status.busy": "2025-08-19T17:53:45.727328Z",
     "iopub.status.idle": "2025-08-19T17:53:45.733583Z",
     "shell.execute_reply": "2025-08-19T17:53:45.732637Z"
    },
    "papermill": {
     "duration": 0.017541,
     "end_time": "2025-08-19T17:53:45.734827",
     "exception": false,
     "start_time": "2025-08-19T17:53:45.717286",
     "status": "completed"
    },
    "tags": [
     "parameters"
    ]
   },
   "outputs": [],
   "source": [
    "run_no = 0\n",
    "universe_id = \"test\"\n",
    "universe = {\n",
    "    \"training_size\": \"5k\", # \"25k\", \"5k\", \"1k\"\n",
    "    \"training_year\": \"2012_14\", # \"2014\", \"2012_14\", \"2010_14\"\n",
    "    \"scale\": \"scale\", # \"scale\", \"do-not-scale\",\n",
    "    \"model\": \"elasticnet\", # \"logreg\", \"penalized_logreg\", \"rf\", \"gbm\", \"elasticnet\"\n",
    "    \"cutoff\": [\"quantile_0.15\", \"quantile_0.30\"],\n",
    "    \"exclude_features\": \"age\", # \"none\", \"nationality\", \"sex\", \"nationality-sex\", \"age\"\n",
    "    \"exclude_subgroups\": \"drop-non-german\", # \"keep-all\", \"drop-non-german\"\n",
    "    \"eval_fairness_grouping\": [\"majority-minority\", \"nationality-all\"]\n",
    "}\n",
    "\n",
    "output_dir=\"./output\"\n",
    "seed=0"
   ]
  },
  {
   "cell_type": "code",
   "execution_count": 4,
   "id": "02912f36",
   "metadata": {
    "execution": {
     "iopub.execute_input": "2025-08-19T17:53:45.755819Z",
     "iopub.status.busy": "2025-08-19T17:53:45.755076Z",
     "iopub.status.idle": "2025-08-19T17:53:45.761306Z",
     "shell.execute_reply": "2025-08-19T17:53:45.760161Z"
    },
    "papermill": {
     "duration": 0.017343,
     "end_time": "2025-08-19T17:53:45.762644",
     "exception": false,
     "start_time": "2025-08-19T17:53:45.745301",
     "status": "completed"
    },
    "tags": [
     "injected-parameters"
    ]
   },
   "outputs": [],
   "source": [
    "# Parameters\n",
    "universe_id = \"17cde67cb88bfc4adbd95d48841de1b8\"\n",
    "run_no = \"3\"\n",
    "universe = \"{\\\"cutoff\\\": [\\\"quantile_0.1\\\", \\\"quantile_0.25\\\"], \\\"eval_fairness_grouping\\\": [\\\"majority-minority\\\", \\\"nationality-all\\\"], \\\"exclude_features\\\": \\\"none\\\", \\\"exclude_subgroups\\\": \\\"drop-non-german\\\", \\\"model\\\": \\\"penalized_logreg\\\", \\\"scale\\\": \\\"scale\\\", \\\"training_size\\\": \\\"25k\\\", \\\"training_year\\\": \\\"2014\\\"}\"\n",
    "output_dir = \"output\"\n",
    "seed = \"2023\"\n"
   ]
  },
  {
   "cell_type": "code",
   "execution_count": 5,
   "id": "a5d7941f",
   "metadata": {
    "execution": {
     "iopub.execute_input": "2025-08-19T17:53:45.784085Z",
     "iopub.status.busy": "2025-08-19T17:53:45.783162Z",
     "iopub.status.idle": "2025-08-19T17:53:45.794151Z",
     "shell.execute_reply": "2025-08-19T17:53:45.792970Z"
    },
    "papermill": {
     "duration": 0.02252,
     "end_time": "2025-08-19T17:53:45.795438",
     "exception": false,
     "start_time": "2025-08-19T17:53:45.772918",
     "status": "completed"
    },
    "tags": []
   },
   "outputs": [],
   "source": [
    "import json\n",
    "if isinstance(universe, str):\n",
    "    universe = json.loads(universe)"
   ]
  },
  {
   "cell_type": "code",
   "execution_count": 6,
   "id": "7076ccb1",
   "metadata": {
    "execution": {
     "iopub.execute_input": "2025-08-19T17:53:45.817394Z",
     "iopub.status.busy": "2025-08-19T17:53:45.817142Z",
     "iopub.status.idle": "2025-08-19T17:53:45.864877Z",
     "shell.execute_reply": "2025-08-19T17:53:45.864155Z"
    },
    "papermill": {
     "duration": 0.058889,
     "end_time": "2025-08-19T17:53:45.866172",
     "exception": false,
     "start_time": "2025-08-19T17:53:45.807283",
     "status": "completed"
    },
    "tags": []
   },
   "outputs": [],
   "source": [
    "# Auto-reload the custom package\n",
    "%load_ext autoreload\n",
    "%autoreload 1\n",
    "%aimport fairness_multiverse"
   ]
  },
  {
   "cell_type": "code",
   "execution_count": 7,
   "id": "94c8eb93",
   "metadata": {
    "execution": {
     "iopub.execute_input": "2025-08-19T17:53:45.885919Z",
     "iopub.status.busy": "2025-08-19T17:53:45.885647Z",
     "iopub.status.idle": "2025-08-19T17:53:47.462093Z",
     "shell.execute_reply": "2025-08-19T17:53:47.460939Z"
    },
    "papermill": {
     "duration": 1.588131,
     "end_time": "2025-08-19T17:53:47.463786",
     "exception": false,
     "start_time": "2025-08-19T17:53:45.875655",
     "status": "completed"
    },
    "tags": []
   },
   "outputs": [],
   "source": [
    "from fairness_multiverse.universe import UniverseAnalysis\n",
    "\n",
    "universe_analysis = UniverseAnalysis(\n",
    "    run_no = run_no,\n",
    "    universe_id = universe_id,\n",
    "    universe = universe,\n",
    "    output_dir=output_dir,\n",
    ")"
   ]
  },
  {
   "cell_type": "code",
   "execution_count": 8,
   "id": "2a6381cf",
   "metadata": {
    "execution": {
     "iopub.execute_input": "2025-08-19T17:53:47.488073Z",
     "iopub.status.busy": "2025-08-19T17:53:47.487357Z",
     "iopub.status.idle": "2025-08-19T17:53:47.498114Z",
     "shell.execute_reply": "2025-08-19T17:53:47.497074Z"
    },
    "papermill": {
     "duration": 0.023603,
     "end_time": "2025-08-19T17:53:47.499689",
     "exception": false,
     "start_time": "2025-08-19T17:53:47.476086",
     "status": "completed"
    },
    "tags": []
   },
   "outputs": [
    {
     "name": "stdout",
     "output_type": "stream",
     "text": [
      "Using Seed: 2023\n"
     ]
    }
   ],
   "source": [
    "import numpy as np\n",
    "parsed_seed = int(seed)\n",
    "np.random.seed(parsed_seed)\n",
    "print(f\"Using Seed: {parsed_seed}\")"
   ]
  },
  {
   "cell_type": "markdown",
   "id": "b6e958b4",
   "metadata": {
    "papermill": {
     "duration": 0.009108,
     "end_time": "2025-08-19T17:53:47.521537",
     "exception": false,
     "start_time": "2025-08-19T17:53:47.512429",
     "status": "completed"
    },
    "tags": []
   },
   "source": [
    "# Loading Data"
   ]
  },
  {
   "cell_type": "code",
   "execution_count": 9,
   "id": "98701482",
   "metadata": {
    "execution": {
     "iopub.execute_input": "2025-08-19T17:53:47.541232Z",
     "iopub.status.busy": "2025-08-19T17:53:47.540715Z",
     "iopub.status.idle": "2025-08-19T17:53:57.409214Z",
     "shell.execute_reply": "2025-08-19T17:53:57.407669Z"
    },
    "papermill": {
     "duration": 9.88023,
     "end_time": "2025-08-19T17:53:57.410793",
     "exception": false,
     "start_time": "2025-08-19T17:53:47.530563",
     "status": "completed"
    },
    "tags": []
   },
   "outputs": [
    {
     "name": "stdout",
     "output_type": "stream",
     "text": [
      "Loading SIAB data from cache: data/siab_cached.csv.gz\n"
     ]
    },
    {
     "name": "stdout",
     "output_type": "stream",
     "text": [
      "(643690, 164)\n"
     ]
    }
   ],
   "source": [
    "from pathlib import Path\n",
    "import pandas as pd\n",
    "\n",
    "# File paths\n",
    "raw_file = Path(\"data/raw/siab.csv\")\n",
    "cache_file = Path(\"data/siab_cached.csv.gz\")\n",
    "\n",
    "# Ensure cache directory exists\n",
    "cache_file.parent.mkdir(parents=True, exist_ok=True)\n",
    "\n",
    "# Load with simple caching\n",
    "if cache_file.exists():\n",
    "    print(f\"Loading SIAB data from cache: {cache_file}\")\n",
    "    siab = pd.read_csv(cache_file, compression='gzip')\n",
    "else:\n",
    "    print(f\"Cache not found. Reading raw SIAB data: {raw_file}\")\n",
    "    siab = pd.read_csv(raw_file)\n",
    "    siab.to_csv(cache_file, index=False, compression='gzip')\n",
    "    print(f\"Cached SIAB data to: {cache_file}\")\n",
    "\n",
    "print(siab.shape)"
   ]
  },
  {
   "cell_type": "code",
   "execution_count": 10,
   "id": "058d2abb",
   "metadata": {
    "execution": {
     "iopub.execute_input": "2025-08-19T17:53:57.436819Z",
     "iopub.status.busy": "2025-08-19T17:53:57.435583Z",
     "iopub.status.idle": "2025-08-19T17:53:57.630174Z",
     "shell.execute_reply": "2025-08-19T17:53:57.629451Z"
    },
    "papermill": {
     "duration": 0.208639,
     "end_time": "2025-08-19T17:53:57.631607",
     "exception": false,
     "start_time": "2025-08-19T17:53:57.422968",
     "status": "completed"
    },
    "tags": []
   },
   "outputs": [
    {
     "data": {
      "text/html": [
       "<div>\n",
       "<style scoped>\n",
       "    .dataframe tbody tr th:only-of-type {\n",
       "        vertical-align: middle;\n",
       "    }\n",
       "\n",
       "    .dataframe tbody tr th {\n",
       "        vertical-align: top;\n",
       "    }\n",
       "\n",
       "    .dataframe thead th {\n",
       "        text-align: right;\n",
       "    }\n",
       "</style>\n",
       "<table border=\"1\" class=\"dataframe\">\n",
       "  <thead>\n",
       "    <tr style=\"text-align: right;\">\n",
       "      <th></th>\n",
       "      <th>persnr</th>\n",
       "      <th>year</th>\n",
       "      <th>nrEntry</th>\n",
       "      <th>ltue</th>\n",
       "      <th>employed_before</th>\n",
       "      <th>receipt_leh_before</th>\n",
       "      <th>receipt_lhg_before</th>\n",
       "      <th>se_before</th>\n",
       "      <th>ASU_notue_seeking_before</th>\n",
       "      <th>ASU_other_before</th>\n",
       "      <th>...</th>\n",
       "      <th>minijob_tot_dur_byage</th>\n",
       "      <th>ft_tot_dur_byage</th>\n",
       "      <th>befrist_tot_dur_byage</th>\n",
       "      <th>leih_tot_dur_byage</th>\n",
       "      <th>LHG_tot_dur_byage</th>\n",
       "      <th>LEH_tot_dur_byage</th>\n",
       "      <th>almp_tot_dur_byage</th>\n",
       "      <th>almp_aw_tot_dur_byage</th>\n",
       "      <th>se_tot_dur_byage</th>\n",
       "      <th>seeking1_tot_dur_byage</th>\n",
       "    </tr>\n",
       "  </thead>\n",
       "  <tbody>\n",
       "    <tr>\n",
       "      <th>0</th>\n",
       "      <td>7</td>\n",
       "      <td>2015</td>\n",
       "      <td>1</td>\n",
       "      <td>0</td>\n",
       "      <td>1</td>\n",
       "      <td>0</td>\n",
       "      <td>0</td>\n",
       "      <td>0</td>\n",
       "      <td>1</td>\n",
       "      <td>0</td>\n",
       "      <td>...</td>\n",
       "      <td>0.000000</td>\n",
       "      <td>0.000000</td>\n",
       "      <td>15.043478</td>\n",
       "      <td>0.000000</td>\n",
       "      <td>0.000000</td>\n",
       "      <td>0.000000</td>\n",
       "      <td>0.000000</td>\n",
       "      <td>0.000000</td>\n",
       "      <td>0.000000</td>\n",
       "      <td>0.000000</td>\n",
       "    </tr>\n",
       "    <tr>\n",
       "      <th>1</th>\n",
       "      <td>18</td>\n",
       "      <td>2010</td>\n",
       "      <td>1</td>\n",
       "      <td>1</td>\n",
       "      <td>0</td>\n",
       "      <td>0</td>\n",
       "      <td>0</td>\n",
       "      <td>0</td>\n",
       "      <td>0</td>\n",
       "      <td>0</td>\n",
       "      <td>...</td>\n",
       "      <td>0.000000</td>\n",
       "      <td>0.000000</td>\n",
       "      <td>0.000000</td>\n",
       "      <td>0.000000</td>\n",
       "      <td>0.000000</td>\n",
       "      <td>0.000000</td>\n",
       "      <td>0.000000</td>\n",
       "      <td>0.000000</td>\n",
       "      <td>0.000000</td>\n",
       "      <td>0.000000</td>\n",
       "    </tr>\n",
       "    <tr>\n",
       "      <th>2</th>\n",
       "      <td>18</td>\n",
       "      <td>2011</td>\n",
       "      <td>2</td>\n",
       "      <td>0</td>\n",
       "      <td>1</td>\n",
       "      <td>0</td>\n",
       "      <td>1</td>\n",
       "      <td>0</td>\n",
       "      <td>1</td>\n",
       "      <td>0</td>\n",
       "      <td>...</td>\n",
       "      <td>2.714286</td>\n",
       "      <td>2.714286</td>\n",
       "      <td>0.000000</td>\n",
       "      <td>0.000000</td>\n",
       "      <td>10.775510</td>\n",
       "      <td>0.000000</td>\n",
       "      <td>8.367347</td>\n",
       "      <td>0.000000</td>\n",
       "      <td>0.000000</td>\n",
       "      <td>9.836735</td>\n",
       "    </tr>\n",
       "    <tr>\n",
       "      <th>3</th>\n",
       "      <td>18</td>\n",
       "      <td>2012</td>\n",
       "      <td>3</td>\n",
       "      <td>0</td>\n",
       "      <td>1</td>\n",
       "      <td>0</td>\n",
       "      <td>1</td>\n",
       "      <td>0</td>\n",
       "      <td>1</td>\n",
       "      <td>0</td>\n",
       "      <td>...</td>\n",
       "      <td>4.200000</td>\n",
       "      <td>4.200000</td>\n",
       "      <td>0.000000</td>\n",
       "      <td>0.000000</td>\n",
       "      <td>12.100000</td>\n",
       "      <td>0.000000</td>\n",
       "      <td>9.400000</td>\n",
       "      <td>0.000000</td>\n",
       "      <td>0.000000</td>\n",
       "      <td>9.960000</td>\n",
       "    </tr>\n",
       "    <tr>\n",
       "      <th>4</th>\n",
       "      <td>18</td>\n",
       "      <td>2012</td>\n",
       "      <td>4</td>\n",
       "      <td>0</td>\n",
       "      <td>1</td>\n",
       "      <td>0</td>\n",
       "      <td>1</td>\n",
       "      <td>0</td>\n",
       "      <td>1</td>\n",
       "      <td>0</td>\n",
       "      <td>...</td>\n",
       "      <td>5.460000</td>\n",
       "      <td>5.460000</td>\n",
       "      <td>0.000000</td>\n",
       "      <td>0.000000</td>\n",
       "      <td>13.360000</td>\n",
       "      <td>0.000000</td>\n",
       "      <td>10.320000</td>\n",
       "      <td>0.000000</td>\n",
       "      <td>0.000000</td>\n",
       "      <td>10.280000</td>\n",
       "    </tr>\n",
       "    <tr>\n",
       "      <th>...</th>\n",
       "      <td>...</td>\n",
       "      <td>...</td>\n",
       "      <td>...</td>\n",
       "      <td>...</td>\n",
       "      <td>...</td>\n",
       "      <td>...</td>\n",
       "      <td>...</td>\n",
       "      <td>...</td>\n",
       "      <td>...</td>\n",
       "      <td>...</td>\n",
       "      <td>...</td>\n",
       "      <td>...</td>\n",
       "      <td>...</td>\n",
       "      <td>...</td>\n",
       "      <td>...</td>\n",
       "      <td>...</td>\n",
       "      <td>...</td>\n",
       "      <td>...</td>\n",
       "      <td>...</td>\n",
       "      <td>...</td>\n",
       "      <td>...</td>\n",
       "    </tr>\n",
       "    <tr>\n",
       "      <th>643685</th>\n",
       "      <td>1827860</td>\n",
       "      <td>2013</td>\n",
       "      <td>1</td>\n",
       "      <td>0</td>\n",
       "      <td>0</td>\n",
       "      <td>0</td>\n",
       "      <td>1</td>\n",
       "      <td>0</td>\n",
       "      <td>0</td>\n",
       "      <td>1</td>\n",
       "      <td>...</td>\n",
       "      <td>0.000000</td>\n",
       "      <td>0.000000</td>\n",
       "      <td>0.000000</td>\n",
       "      <td>0.000000</td>\n",
       "      <td>0.612903</td>\n",
       "      <td>0.000000</td>\n",
       "      <td>0.000000</td>\n",
       "      <td>0.000000</td>\n",
       "      <td>0.000000</td>\n",
       "      <td>0.000000</td>\n",
       "    </tr>\n",
       "    <tr>\n",
       "      <th>643686</th>\n",
       "      <td>1827860</td>\n",
       "      <td>2015</td>\n",
       "      <td>2</td>\n",
       "      <td>1</td>\n",
       "      <td>0</td>\n",
       "      <td>0</td>\n",
       "      <td>1</td>\n",
       "      <td>0</td>\n",
       "      <td>1</td>\n",
       "      <td>0</td>\n",
       "      <td>...</td>\n",
       "      <td>0.000000</td>\n",
       "      <td>0.000000</td>\n",
       "      <td>0.212121</td>\n",
       "      <td>0.212121</td>\n",
       "      <td>17.363636</td>\n",
       "      <td>0.000000</td>\n",
       "      <td>8.909091</td>\n",
       "      <td>0.000000</td>\n",
       "      <td>0.000000</td>\n",
       "      <td>7.121212</td>\n",
       "    </tr>\n",
       "    <tr>\n",
       "      <th>643687</th>\n",
       "      <td>1827860</td>\n",
       "      <td>2016</td>\n",
       "      <td>3</td>\n",
       "      <td>1</td>\n",
       "      <td>0</td>\n",
       "      <td>0</td>\n",
       "      <td>1</td>\n",
       "      <td>1</td>\n",
       "      <td>0</td>\n",
       "      <td>1</td>\n",
       "      <td>...</td>\n",
       "      <td>0.000000</td>\n",
       "      <td>0.000000</td>\n",
       "      <td>0.294118</td>\n",
       "      <td>0.205882</td>\n",
       "      <td>34.705882</td>\n",
       "      <td>0.000000</td>\n",
       "      <td>10.352941</td>\n",
       "      <td>1.705882</td>\n",
       "      <td>1.705882</td>\n",
       "      <td>23.911765</td>\n",
       "    </tr>\n",
       "    <tr>\n",
       "      <th>643688</th>\n",
       "      <td>1827869</td>\n",
       "      <td>2013</td>\n",
       "      <td>1</td>\n",
       "      <td>1</td>\n",
       "      <td>1</td>\n",
       "      <td>0</td>\n",
       "      <td>0</td>\n",
       "      <td>0</td>\n",
       "      <td>1</td>\n",
       "      <td>0</td>\n",
       "      <td>...</td>\n",
       "      <td>0.000000</td>\n",
       "      <td>0.000000</td>\n",
       "      <td>0.000000</td>\n",
       "      <td>0.000000</td>\n",
       "      <td>0.000000</td>\n",
       "      <td>0.525424</td>\n",
       "      <td>0.000000</td>\n",
       "      <td>0.000000</td>\n",
       "      <td>0.000000</td>\n",
       "      <td>0.000000</td>\n",
       "    </tr>\n",
       "    <tr>\n",
       "      <th>643689</th>\n",
       "      <td>1827869</td>\n",
       "      <td>2014</td>\n",
       "      <td>2</td>\n",
       "      <td>0</td>\n",
       "      <td>0</td>\n",
       "      <td>1</td>\n",
       "      <td>0</td>\n",
       "      <td>0</td>\n",
       "      <td>1</td>\n",
       "      <td>0</td>\n",
       "      <td>...</td>\n",
       "      <td>0.000000</td>\n",
       "      <td>0.666667</td>\n",
       "      <td>0.666667</td>\n",
       "      <td>0.000000</td>\n",
       "      <td>0.000000</td>\n",
       "      <td>8.950000</td>\n",
       "      <td>1.033333</td>\n",
       "      <td>0.083333</td>\n",
       "      <td>0.083333</td>\n",
       "      <td>8.133333</td>\n",
       "    </tr>\n",
       "  </tbody>\n",
       "</table>\n",
       "<p>643690 rows × 164 columns</p>\n",
       "</div>"
      ],
      "text/plain": [
       "         persnr  year  nrEntry  ltue  employed_before  receipt_leh_before  \\\n",
       "0             7  2015        1     0                1                   0   \n",
       "1            18  2010        1     1                0                   0   \n",
       "2            18  2011        2     0                1                   0   \n",
       "3            18  2012        3     0                1                   0   \n",
       "4            18  2012        4     0                1                   0   \n",
       "...         ...   ...      ...   ...              ...                 ...   \n",
       "643685  1827860  2013        1     0                0                   0   \n",
       "643686  1827860  2015        2     1                0                   0   \n",
       "643687  1827860  2016        3     1                0                   0   \n",
       "643688  1827869  2013        1     1                1                   0   \n",
       "643689  1827869  2014        2     0                0                   1   \n",
       "\n",
       "        receipt_lhg_before  se_before  ASU_notue_seeking_before  \\\n",
       "0                        0          0                         1   \n",
       "1                        0          0                         0   \n",
       "2                        1          0                         1   \n",
       "3                        1          0                         1   \n",
       "4                        1          0                         1   \n",
       "...                    ...        ...                       ...   \n",
       "643685                   1          0                         0   \n",
       "643686                   1          0                         1   \n",
       "643687                   1          1                         0   \n",
       "643688                   0          0                         1   \n",
       "643689                   0          0                         1   \n",
       "\n",
       "        ASU_other_before  ...  minijob_tot_dur_byage  ft_tot_dur_byage  \\\n",
       "0                      0  ...               0.000000          0.000000   \n",
       "1                      0  ...               0.000000          0.000000   \n",
       "2                      0  ...               2.714286          2.714286   \n",
       "3                      0  ...               4.200000          4.200000   \n",
       "4                      0  ...               5.460000          5.460000   \n",
       "...                  ...  ...                    ...               ...   \n",
       "643685                 1  ...               0.000000          0.000000   \n",
       "643686                 0  ...               0.000000          0.000000   \n",
       "643687                 1  ...               0.000000          0.000000   \n",
       "643688                 0  ...               0.000000          0.000000   \n",
       "643689                 0  ...               0.000000          0.666667   \n",
       "\n",
       "        befrist_tot_dur_byage  leih_tot_dur_byage  LHG_tot_dur_byage  \\\n",
       "0                   15.043478            0.000000           0.000000   \n",
       "1                    0.000000            0.000000           0.000000   \n",
       "2                    0.000000            0.000000          10.775510   \n",
       "3                    0.000000            0.000000          12.100000   \n",
       "4                    0.000000            0.000000          13.360000   \n",
       "...                       ...                 ...                ...   \n",
       "643685               0.000000            0.000000           0.612903   \n",
       "643686               0.212121            0.212121          17.363636   \n",
       "643687               0.294118            0.205882          34.705882   \n",
       "643688               0.000000            0.000000           0.000000   \n",
       "643689               0.666667            0.000000           0.000000   \n",
       "\n",
       "        LEH_tot_dur_byage  almp_tot_dur_byage  almp_aw_tot_dur_byage  \\\n",
       "0                0.000000            0.000000               0.000000   \n",
       "1                0.000000            0.000000               0.000000   \n",
       "2                0.000000            8.367347               0.000000   \n",
       "3                0.000000            9.400000               0.000000   \n",
       "4                0.000000           10.320000               0.000000   \n",
       "...                   ...                 ...                    ...   \n",
       "643685           0.000000            0.000000               0.000000   \n",
       "643686           0.000000            8.909091               0.000000   \n",
       "643687           0.000000           10.352941               1.705882   \n",
       "643688           0.525424            0.000000               0.000000   \n",
       "643689           8.950000            1.033333               0.083333   \n",
       "\n",
       "        se_tot_dur_byage  seeking1_tot_dur_byage  \n",
       "0               0.000000                0.000000  \n",
       "1               0.000000                0.000000  \n",
       "2               0.000000                9.836735  \n",
       "3               0.000000                9.960000  \n",
       "4               0.000000               10.280000  \n",
       "...                  ...                     ...  \n",
       "643685          0.000000                0.000000  \n",
       "643686          0.000000                7.121212  \n",
       "643687          1.705882               23.911765  \n",
       "643688          0.000000                0.000000  \n",
       "643689          0.083333                8.133333  \n",
       "\n",
       "[643690 rows x 164 columns]"
      ]
     },
     "execution_count": 10,
     "metadata": {},
     "output_type": "execute_result"
    }
   ],
   "source": [
    "siab"
   ]
  },
  {
   "cell_type": "markdown",
   "id": "1f87e805",
   "metadata": {
    "papermill": {
     "duration": 0.009989,
     "end_time": "2025-08-19T17:53:57.663030",
     "exception": false,
     "start_time": "2025-08-19T17:53:57.653041",
     "status": "completed"
    },
    "tags": []
   },
   "source": [
    "# Splitting Data and Setting Training Data Size"
   ]
  },
  {
   "cell_type": "code",
   "execution_count": 11,
   "id": "910ae358",
   "metadata": {
    "execution": {
     "iopub.execute_input": "2025-08-19T17:53:57.684381Z",
     "iopub.status.busy": "2025-08-19T17:53:57.683957Z",
     "iopub.status.idle": "2025-08-19T17:53:58.114566Z",
     "shell.execute_reply": "2025-08-19T17:53:58.113395Z"
    },
    "papermill": {
     "duration": 0.443353,
     "end_time": "2025-08-19T17:53:58.116224",
     "exception": false,
     "start_time": "2025-08-19T17:53:57.672871",
     "status": "completed"
    },
    "tags": []
   },
   "outputs": [],
   "source": [
    "from fairness_multiverse.universe import sample_by_year_size\n",
    "\n",
    "siab_train = sample_by_year_size(siab,\n",
    "                               training_year=universe[\"training_year\"],\n",
    "                               training_size=universe[\"training_size\"])"
   ]
  },
  {
   "cell_type": "code",
   "execution_count": 12,
   "id": "919c8ff5",
   "metadata": {
    "execution": {
     "iopub.execute_input": "2025-08-19T17:53:58.138697Z",
     "iopub.status.busy": "2025-08-19T17:53:58.137872Z",
     "iopub.status.idle": "2025-08-19T17:53:58.146113Z",
     "shell.execute_reply": "2025-08-19T17:53:58.145264Z"
    },
    "papermill": {
     "duration": 0.02111,
     "end_time": "2025-08-19T17:53:58.147545",
     "exception": false,
     "start_time": "2025-08-19T17:53:58.126435",
     "status": "completed"
    },
    "tags": []
   },
   "outputs": [
    {
     "data": {
      "text/plain": [
       "(25000, 164)"
      ]
     },
     "execution_count": 12,
     "metadata": {},
     "output_type": "execute_result"
    }
   ],
   "source": [
    "siab_train.shape"
   ]
  },
  {
   "cell_type": "code",
   "execution_count": 13,
   "id": "feb13bf4",
   "metadata": {
    "execution": {
     "iopub.execute_input": "2025-08-19T17:53:58.170382Z",
     "iopub.status.busy": "2025-08-19T17:53:58.170015Z",
     "iopub.status.idle": "2025-08-19T17:53:58.178698Z",
     "shell.execute_reply": "2025-08-19T17:53:58.178020Z"
    },
    "papermill": {
     "duration": 0.020549,
     "end_time": "2025-08-19T17:53:58.179947",
     "exception": false,
     "start_time": "2025-08-19T17:53:58.159398",
     "status": "completed"
    },
    "tags": []
   },
   "outputs": [
    {
     "data": {
      "text/plain": [
       "year\n",
       "2014    25000\n",
       "dtype: int64"
      ]
     },
     "metadata": {},
     "output_type": "display_data"
    }
   ],
   "source": [
    "display(siab_train.groupby(\"year\").size())"
   ]
  },
  {
   "cell_type": "code",
   "execution_count": 14,
   "id": "0997782f",
   "metadata": {
    "execution": {
     "iopub.execute_input": "2025-08-19T17:53:58.202506Z",
     "iopub.status.busy": "2025-08-19T17:53:58.202090Z",
     "iopub.status.idle": "2025-08-19T17:53:58.458121Z",
     "shell.execute_reply": "2025-08-19T17:53:58.456755Z"
    },
    "papermill": {
     "duration": 0.2713,
     "end_time": "2025-08-19T17:53:58.462139",
     "exception": false,
     "start_time": "2025-08-19T17:53:58.190839",
     "status": "completed"
    },
    "tags": []
   },
   "outputs": [],
   "source": [
    "#siab_train = siab_s[siab_s.year < 2015]\n",
    "siab_calib = siab[siab.year == 2015]\n",
    "siab_test = siab[siab.year == 2016]"
   ]
  },
  {
   "cell_type": "code",
   "execution_count": 15,
   "id": "2c1e4012",
   "metadata": {
    "execution": {
     "iopub.execute_input": "2025-08-19T17:53:58.507363Z",
     "iopub.status.busy": "2025-08-19T17:53:58.506355Z",
     "iopub.status.idle": "2025-08-19T17:53:58.514214Z",
     "shell.execute_reply": "2025-08-19T17:53:58.512898Z"
    },
    "papermill": {
     "duration": 0.021334,
     "end_time": "2025-08-19T17:53:58.515642",
     "exception": false,
     "start_time": "2025-08-19T17:53:58.494308",
     "status": "completed"
    },
    "tags": []
   },
   "outputs": [],
   "source": [
    "#siab_calib.shape"
   ]
  },
  {
   "cell_type": "code",
   "execution_count": 16,
   "id": "f66b54ca",
   "metadata": {
    "execution": {
     "iopub.execute_input": "2025-08-19T17:53:58.539890Z",
     "iopub.status.busy": "2025-08-19T17:53:58.538657Z",
     "iopub.status.idle": "2025-08-19T17:53:58.549538Z",
     "shell.execute_reply": "2025-08-19T17:53:58.547696Z"
    },
    "papermill": {
     "duration": 0.024125,
     "end_time": "2025-08-19T17:53:58.551041",
     "exception": false,
     "start_time": "2025-08-19T17:53:58.526916",
     "status": "completed"
    },
    "tags": []
   },
   "outputs": [],
   "source": [
    "#siab_test.shape"
   ]
  },
  {
   "cell_type": "code",
   "execution_count": 17,
   "id": "27e4384d",
   "metadata": {
    "execution": {
     "iopub.execute_input": "2025-08-19T17:53:58.577846Z",
     "iopub.status.busy": "2025-08-19T17:53:58.577561Z",
     "iopub.status.idle": "2025-08-19T17:53:58.737640Z",
     "shell.execute_reply": "2025-08-19T17:53:58.736422Z"
    },
    "papermill": {
     "duration": 0.175408,
     "end_time": "2025-08-19T17:53:58.739420",
     "exception": false,
     "start_time": "2025-08-19T17:53:58.564012",
     "status": "completed"
    },
    "tags": []
   },
   "outputs": [],
   "source": [
    "X_train = siab_train.iloc[:,4:164]\n",
    "y_train = siab_train.iloc[:, [3]]"
   ]
  },
  {
   "cell_type": "code",
   "execution_count": 18,
   "id": "08ee8389",
   "metadata": {
    "execution": {
     "iopub.execute_input": "2025-08-19T17:53:58.764216Z",
     "iopub.status.busy": "2025-08-19T17:53:58.763281Z",
     "iopub.status.idle": "2025-08-19T17:53:58.931669Z",
     "shell.execute_reply": "2025-08-19T17:53:58.930699Z"
    },
    "papermill": {
     "duration": 0.182132,
     "end_time": "2025-08-19T17:53:58.933424",
     "exception": false,
     "start_time": "2025-08-19T17:53:58.751292",
     "status": "completed"
    },
    "tags": []
   },
   "outputs": [],
   "source": [
    "X_calib = siab_calib.iloc[:,4:164]\n",
    "y_calib = siab_calib.iloc[:, [3]]"
   ]
  },
  {
   "cell_type": "code",
   "execution_count": 19,
   "id": "b7ff42e0",
   "metadata": {
    "execution": {
     "iopub.execute_input": "2025-08-19T17:53:58.962918Z",
     "iopub.status.busy": "2025-08-19T17:53:58.962012Z",
     "iopub.status.idle": "2025-08-19T17:53:59.044347Z",
     "shell.execute_reply": "2025-08-19T17:53:59.042943Z"
    },
    "papermill": {
     "duration": 0.102061,
     "end_time": "2025-08-19T17:53:59.046902",
     "exception": false,
     "start_time": "2025-08-19T17:53:58.944841",
     "status": "completed"
    },
    "tags": []
   },
   "outputs": [],
   "source": [
    "X_test = siab_test.iloc[:,4:164]\n",
    "y_true = siab_test.iloc[:, [3]]"
   ]
  },
  {
   "cell_type": "code",
   "execution_count": 20,
   "id": "0275101e",
   "metadata": {
    "execution": {
     "iopub.execute_input": "2025-08-19T17:53:59.093024Z",
     "iopub.status.busy": "2025-08-19T17:53:59.091682Z",
     "iopub.status.idle": "2025-08-19T17:53:59.393918Z",
     "shell.execute_reply": "2025-08-19T17:53:59.392863Z"
    },
    "papermill": {
     "duration": 0.325946,
     "end_time": "2025-08-19T17:53:59.395484",
     "exception": false,
     "start_time": "2025-08-19T17:53:59.069538",
     "status": "completed"
    },
    "tags": []
   },
   "outputs": [],
   "source": [
    "# Auxiliary data needed downstream in the pipeline\n",
    "\n",
    "org_train = X_train.copy()\n",
    "org_test = X_test.copy()\n",
    "org_calib = X_calib.copy()"
   ]
  },
  {
   "cell_type": "markdown",
   "id": "b461e618",
   "metadata": {
    "papermill": {
     "duration": 0.01078,
     "end_time": "2025-08-19T17:53:59.417661",
     "exception": false,
     "start_time": "2025-08-19T17:53:59.406881",
     "status": "completed"
    },
    "tags": []
   },
   "source": [
    "# Preprocessing Data"
   ]
  },
  {
   "cell_type": "code",
   "execution_count": 21,
   "id": "78e74c4b",
   "metadata": {
    "execution": {
     "iopub.execute_input": "2025-08-19T17:53:59.444742Z",
     "iopub.status.busy": "2025-08-19T17:53:59.442862Z",
     "iopub.status.idle": "2025-08-19T17:53:59.456714Z",
     "shell.execute_reply": "2025-08-19T17:53:59.455216Z"
    },
    "papermill": {
     "duration": 0.032207,
     "end_time": "2025-08-19T17:53:59.461405",
     "exception": false,
     "start_time": "2025-08-19T17:53:59.429198",
     "status": "completed"
    },
    "tags": []
   },
   "outputs": [],
   "source": [
    "# EXCLUDE PROTECTED FEATURES\n",
    "# --------------------------\n",
    "\n",
    "excluded_features = universe[\"exclude_features\"].split(\"-\")\n",
    "excluded_features_dictionary = {\n",
    "    \"nationality\": [\"maxdeutsch1\", \"maxdeutsch.Missing.\"],\n",
    "    \"sex\": [\"frau1\"],\n",
    "    \"age\": [\"age\"],\n",
    "}"
   ]
  },
  {
   "cell_type": "code",
   "execution_count": 22,
   "id": "f8e63555",
   "metadata": {
    "execution": {
     "iopub.execute_input": "2025-08-19T17:53:59.504679Z",
     "iopub.status.busy": "2025-08-19T17:53:59.503227Z",
     "iopub.status.idle": "2025-08-19T17:53:59.525963Z",
     "shell.execute_reply": "2025-08-19T17:53:59.524551Z"
    },
    "papermill": {
     "duration": 0.04397,
     "end_time": "2025-08-19T17:53:59.528417",
     "exception": false,
     "start_time": "2025-08-19T17:53:59.484447",
     "status": "completed"
    },
    "tags": []
   },
   "outputs": [],
   "source": [
    "excluded_features_columns = [\n",
    "    excluded_features_dictionary[f] for f in excluded_features if len(f) > 0 and f != \"none\"\n",
    "]"
   ]
  },
  {
   "cell_type": "code",
   "execution_count": 23,
   "id": "da781f7c",
   "metadata": {
    "execution": {
     "iopub.execute_input": "2025-08-19T17:53:59.566292Z",
     "iopub.status.busy": "2025-08-19T17:53:59.565031Z",
     "iopub.status.idle": "2025-08-19T17:53:59.573567Z",
     "shell.execute_reply": "2025-08-19T17:53:59.572079Z"
    },
    "papermill": {
     "duration": 0.025716,
     "end_time": "2025-08-19T17:53:59.575888",
     "exception": false,
     "start_time": "2025-08-19T17:53:59.550172",
     "status": "completed"
    },
    "tags": []
   },
   "outputs": [],
   "source": [
    "from fairness_multiverse.universe import flatten_once\n",
    "\n",
    "excluded_features_columns = flatten_once(excluded_features_columns)"
   ]
  },
  {
   "cell_type": "code",
   "execution_count": 24,
   "id": "37fef0f0",
   "metadata": {
    "execution": {
     "iopub.execute_input": "2025-08-19T17:53:59.616551Z",
     "iopub.status.busy": "2025-08-19T17:53:59.616041Z",
     "iopub.status.idle": "2025-08-19T17:53:59.622353Z",
     "shell.execute_reply": "2025-08-19T17:53:59.621144Z"
    },
    "papermill": {
     "duration": 0.034325,
     "end_time": "2025-08-19T17:53:59.623821",
     "exception": false,
     "start_time": "2025-08-19T17:53:59.589496",
     "status": "completed"
    },
    "tags": []
   },
   "outputs": [],
   "source": [
    "if len(excluded_features_columns) > 0:\n",
    "    print(f\"Dropping features: {excluded_features_columns}\")\n",
    "    X_train.drop(excluded_features_columns, axis=1, inplace=True)"
   ]
  },
  {
   "cell_type": "code",
   "execution_count": 25,
   "id": "d029e3e9",
   "metadata": {
    "execution": {
     "iopub.execute_input": "2025-08-19T17:53:59.647177Z",
     "iopub.status.busy": "2025-08-19T17:53:59.646762Z",
     "iopub.status.idle": "2025-08-19T17:53:59.651648Z",
     "shell.execute_reply": "2025-08-19T17:53:59.650775Z"
    },
    "papermill": {
     "duration": 0.018015,
     "end_time": "2025-08-19T17:53:59.653155",
     "exception": false,
     "start_time": "2025-08-19T17:53:59.635140",
     "status": "completed"
    },
    "tags": []
   },
   "outputs": [],
   "source": [
    "if len(excluded_features_columns) > 0:\n",
    "    print(f\"Dropping features: {excluded_features_columns}\")\n",
    "    X_test.drop(excluded_features_columns, axis=1, inplace=True)"
   ]
  },
  {
   "cell_type": "code",
   "execution_count": 26,
   "id": "01d571f0",
   "metadata": {
    "execution": {
     "iopub.execute_input": "2025-08-19T17:53:59.704886Z",
     "iopub.status.busy": "2025-08-19T17:53:59.704556Z",
     "iopub.status.idle": "2025-08-19T17:53:59.709633Z",
     "shell.execute_reply": "2025-08-19T17:53:59.708818Z"
    },
    "papermill": {
     "duration": 0.026261,
     "end_time": "2025-08-19T17:53:59.711211",
     "exception": false,
     "start_time": "2025-08-19T17:53:59.684950",
     "status": "completed"
    },
    "tags": []
   },
   "outputs": [],
   "source": [
    "if len(excluded_features_columns) > 0:\n",
    "    print(f\"Dropping features: {excluded_features_columns}\")\n",
    "    X_calib.drop(excluded_features_columns, axis=1, inplace=True)"
   ]
  },
  {
   "cell_type": "code",
   "execution_count": 27,
   "id": "3037356e",
   "metadata": {
    "execution": {
     "iopub.execute_input": "2025-08-19T17:53:59.734780Z",
     "iopub.status.busy": "2025-08-19T17:53:59.734443Z",
     "iopub.status.idle": "2025-08-19T17:53:59.739085Z",
     "shell.execute_reply": "2025-08-19T17:53:59.738379Z"
    },
    "papermill": {
     "duration": 0.0182,
     "end_time": "2025-08-19T17:53:59.740436",
     "exception": false,
     "start_time": "2025-08-19T17:53:59.722236",
     "status": "completed"
    },
    "tags": []
   },
   "outputs": [],
   "source": [
    "# EXCLUDE CERTAIN SUBGROUPS\n",
    "# -------------------------\n",
    "\n",
    "mode = universe.get(\"exclude_subgroups\", \"keep-all\") # Defaults to \"keep-all\" if the key is missing."
   ]
  },
  {
   "cell_type": "code",
   "execution_count": 28,
   "id": "9d1e63fd",
   "metadata": {
    "execution": {
     "iopub.execute_input": "2025-08-19T17:53:59.763679Z",
     "iopub.status.busy": "2025-08-19T17:53:59.763365Z",
     "iopub.status.idle": "2025-08-19T17:53:59.770077Z",
     "shell.execute_reply": "2025-08-19T17:53:59.769276Z"
    },
    "papermill": {
     "duration": 0.021474,
     "end_time": "2025-08-19T17:53:59.772720",
     "exception": false,
     "start_time": "2025-08-19T17:53:59.751246",
     "status": "completed"
    },
    "tags": []
   },
   "outputs": [],
   "source": [
    "if mode == \"keep-all\":\n",
    "    keep_mask = pd.Series(True, index=org_train.index)\n",
    "\n",
    "elif mode == \"drop-non-german\":\n",
    "    keep_mask = (org_train[\"maxdeutsch1\"] == 1) & (org_train[\"maxdeutsch.Missing.\"] == 0)\n",
    "\n",
    "else:\n",
    "    raise ValueError(f\"Unsupported mode for exclude_subgroups: {mode}\")"
   ]
  },
  {
   "cell_type": "code",
   "execution_count": 29,
   "id": "d3b65474",
   "metadata": {
    "execution": {
     "iopub.execute_input": "2025-08-19T17:53:59.799686Z",
     "iopub.status.busy": "2025-08-19T17:53:59.799183Z",
     "iopub.status.idle": "2025-08-19T17:53:59.806985Z",
     "shell.execute_reply": "2025-08-19T17:53:59.806039Z"
    },
    "papermill": {
     "duration": 0.022404,
     "end_time": "2025-08-19T17:53:59.808615",
     "exception": false,
     "start_time": "2025-08-19T17:53:59.786211",
     "status": "completed"
    },
    "tags": []
   },
   "outputs": [
    {
     "name": "stdout",
     "output_type": "stream",
     "text": [
      "Dropping 3688 rows (14.75%) where mode='drop-non-german'\n"
     ]
    }
   ],
   "source": [
    "n_drop = (~keep_mask).sum() # Calculates how many rows are set to be dropped\n",
    "if n_drop > 0:\n",
    "    pct = n_drop / len(keep_mask) * 100\n",
    "    print(f\"Dropping {n_drop} rows ({pct:.2f}%) where mode='{mode}'\")"
   ]
  },
  {
   "cell_type": "code",
   "execution_count": 30,
   "id": "f44389b3",
   "metadata": {
    "execution": {
     "iopub.execute_input": "2025-08-19T17:53:59.837101Z",
     "iopub.status.busy": "2025-08-19T17:53:59.836303Z",
     "iopub.status.idle": "2025-08-19T17:53:59.871198Z",
     "shell.execute_reply": "2025-08-19T17:53:59.870331Z"
    },
    "papermill": {
     "duration": 0.052702,
     "end_time": "2025-08-19T17:53:59.874763",
     "exception": false,
     "start_time": "2025-08-19T17:53:59.822061",
     "status": "completed"
    },
    "tags": []
   },
   "outputs": [],
   "source": [
    "X_train = X_train[keep_mask]"
   ]
  },
  {
   "cell_type": "code",
   "execution_count": 31,
   "id": "ceca8c2a",
   "metadata": {
    "execution": {
     "iopub.execute_input": "2025-08-19T17:53:59.909049Z",
     "iopub.status.busy": "2025-08-19T17:53:59.908580Z",
     "iopub.status.idle": "2025-08-19T17:53:59.915378Z",
     "shell.execute_reply": "2025-08-19T17:53:59.914475Z"
    },
    "papermill": {
     "duration": 0.020656,
     "end_time": "2025-08-19T17:53:59.916924",
     "exception": false,
     "start_time": "2025-08-19T17:53:59.896268",
     "status": "completed"
    },
    "tags": []
   },
   "outputs": [],
   "source": [
    "y_train = y_train[keep_mask]"
   ]
  },
  {
   "cell_type": "markdown",
   "id": "04d31e2f",
   "metadata": {
    "papermill": {
     "duration": 0.010891,
     "end_time": "2025-08-19T17:53:59.941117",
     "exception": false,
     "start_time": "2025-08-19T17:53:59.930226",
     "status": "completed"
    },
    "tags": []
   },
   "source": [
    "# Model Training"
   ]
  },
  {
   "cell_type": "code",
   "execution_count": 32,
   "id": "db991733",
   "metadata": {
    "execution": {
     "iopub.execute_input": "2025-08-19T17:53:59.969273Z",
     "iopub.status.busy": "2025-08-19T17:53:59.968810Z",
     "iopub.status.idle": "2025-08-19T17:54:00.078197Z",
     "shell.execute_reply": "2025-08-19T17:54:00.077339Z"
    },
    "papermill": {
     "duration": 0.128022,
     "end_time": "2025-08-19T17:54:00.079929",
     "exception": false,
     "start_time": "2025-08-19T17:53:59.951907",
     "status": "completed"
    },
    "tags": []
   },
   "outputs": [],
   "source": [
    "from sklearn.linear_model import LogisticRegression\n",
    "from sklearn.ensemble import GradientBoostingClassifier, RandomForestClassifier\n",
    "\n",
    "if (universe[\"model\"] == \"logreg\"):\n",
    "    model = LogisticRegression() #penalty=\"none\", solver=\"newton-cg\", max_iter=1)\n",
    "elif (universe[\"model\"] == \"penalized_logreg\"):\n",
    "    model = LogisticRegression(penalty=\"l2\", C=0.1) #, solver=\"newton-cg\", max_iter=1)\n",
    "elif (universe[\"model\"] == \"rf\"):\n",
    "    model = RandomForestClassifier() # n_estimators=100, n_jobs=-1\n",
    "elif (universe[\"model\"] == \"gbm\"):\n",
    "    model = GradientBoostingClassifier()\n",
    "elif (universe[\"model\"] == \"elasticnet\"):\n",
    "    model = LogisticRegression(penalty = 'elasticnet', solver = 'saga', l1_ratio = 0.5) # max_iter=5000\n",
    "else:\n",
    "    raise \"Unsupported universe.model\""
   ]
  },
  {
   "cell_type": "code",
   "execution_count": 33,
   "id": "a4b5cd25",
   "metadata": {
    "execution": {
     "iopub.execute_input": "2025-08-19T17:54:00.107216Z",
     "iopub.status.busy": "2025-08-19T17:54:00.106468Z",
     "iopub.status.idle": "2025-08-19T17:54:00.117487Z",
     "shell.execute_reply": "2025-08-19T17:54:00.116050Z"
    },
    "papermill": {
     "duration": 0.027488,
     "end_time": "2025-08-19T17:54:00.119212",
     "exception": false,
     "start_time": "2025-08-19T17:54:00.091724",
     "status": "completed"
    },
    "tags": []
   },
   "outputs": [],
   "source": [
    "from sklearn.pipeline import Pipeline\n",
    "from sklearn.preprocessing import StandardScaler\n",
    "\n",
    "model = Pipeline([\n",
    "    #(\"continuous_processor\", continuous_processor),\n",
    "    #(\"categorical_preprocessor\", categorical_preprocessor),\n",
    "    (\"scale\", StandardScaler() if universe[\"scale\"] == \"scale\" else None), \n",
    "    (\"model\", model),\n",
    "])"
   ]
  },
  {
   "cell_type": "code",
   "execution_count": 34,
   "id": "283a904d",
   "metadata": {
    "execution": {
     "iopub.execute_input": "2025-08-19T17:54:00.147101Z",
     "iopub.status.busy": "2025-08-19T17:54:00.145878Z",
     "iopub.status.idle": "2025-08-19T17:54:01.063185Z",
     "shell.execute_reply": "2025-08-19T17:54:01.061674Z"
    },
    "papermill": {
     "duration": 0.931841,
     "end_time": "2025-08-19T17:54:01.064876",
     "exception": false,
     "start_time": "2025-08-19T17:54:00.133035",
     "status": "completed"
    },
    "tags": []
   },
   "outputs": [
    {
     "name": "stderr",
     "output_type": "stream",
     "text": [
      "/dss/dsshome1/0C/ra93lal2/.local/share/virtualenvs/CMA_Fairness_v2-3j10GkSs/lib/python3.10/site-packages/sklearn/linear_model/_logistic.py:444: ConvergenceWarning: lbfgs failed to converge (status=1):\n",
      "STOP: TOTAL NO. of ITERATIONS REACHED LIMIT.\n",
      "\n",
      "Increase the number of iterations (max_iter) or scale the data as shown in:\n",
      "    https://scikit-learn.org/stable/modules/preprocessing.html\n",
      "Please also refer to the documentation for alternative solver options:\n",
      "    https://scikit-learn.org/stable/modules/linear_model.html#logistic-regression\n",
      "  n_iter_i = _check_optimize_result(\n"
     ]
    },
    {
     "data": {
      "text/html": [
       "<style>#sk-container-id-1 {color: black;background-color: white;}#sk-container-id-1 pre{padding: 0;}#sk-container-id-1 div.sk-toggleable {background-color: white;}#sk-container-id-1 label.sk-toggleable__label {cursor: pointer;display: block;width: 100%;margin-bottom: 0;padding: 0.3em;box-sizing: border-box;text-align: center;}#sk-container-id-1 label.sk-toggleable__label-arrow:before {content: \"▸\";float: left;margin-right: 0.25em;color: #696969;}#sk-container-id-1 label.sk-toggleable__label-arrow:hover:before {color: black;}#sk-container-id-1 div.sk-estimator:hover label.sk-toggleable__label-arrow:before {color: black;}#sk-container-id-1 div.sk-toggleable__content {max-height: 0;max-width: 0;overflow: hidden;text-align: left;background-color: #f0f8ff;}#sk-container-id-1 div.sk-toggleable__content pre {margin: 0.2em;color: black;border-radius: 0.25em;background-color: #f0f8ff;}#sk-container-id-1 input.sk-toggleable__control:checked~div.sk-toggleable__content {max-height: 200px;max-width: 100%;overflow: auto;}#sk-container-id-1 input.sk-toggleable__control:checked~label.sk-toggleable__label-arrow:before {content: \"▾\";}#sk-container-id-1 div.sk-estimator input.sk-toggleable__control:checked~label.sk-toggleable__label {background-color: #d4ebff;}#sk-container-id-1 div.sk-label input.sk-toggleable__control:checked~label.sk-toggleable__label {background-color: #d4ebff;}#sk-container-id-1 input.sk-hidden--visually {border: 0;clip: rect(1px 1px 1px 1px);clip: rect(1px, 1px, 1px, 1px);height: 1px;margin: -1px;overflow: hidden;padding: 0;position: absolute;width: 1px;}#sk-container-id-1 div.sk-estimator {font-family: monospace;background-color: #f0f8ff;border: 1px dotted black;border-radius: 0.25em;box-sizing: border-box;margin-bottom: 0.5em;}#sk-container-id-1 div.sk-estimator:hover {background-color: #d4ebff;}#sk-container-id-1 div.sk-parallel-item::after {content: \"\";width: 100%;border-bottom: 1px solid gray;flex-grow: 1;}#sk-container-id-1 div.sk-label:hover label.sk-toggleable__label {background-color: #d4ebff;}#sk-container-id-1 div.sk-serial::before {content: \"\";position: absolute;border-left: 1px solid gray;box-sizing: border-box;top: 0;bottom: 0;left: 50%;z-index: 0;}#sk-container-id-1 div.sk-serial {display: flex;flex-direction: column;align-items: center;background-color: white;padding-right: 0.2em;padding-left: 0.2em;position: relative;}#sk-container-id-1 div.sk-item {position: relative;z-index: 1;}#sk-container-id-1 div.sk-parallel {display: flex;align-items: stretch;justify-content: center;background-color: white;position: relative;}#sk-container-id-1 div.sk-item::before, #sk-container-id-1 div.sk-parallel-item::before {content: \"\";position: absolute;border-left: 1px solid gray;box-sizing: border-box;top: 0;bottom: 0;left: 50%;z-index: -1;}#sk-container-id-1 div.sk-parallel-item {display: flex;flex-direction: column;z-index: 1;position: relative;background-color: white;}#sk-container-id-1 div.sk-parallel-item:first-child::after {align-self: flex-end;width: 50%;}#sk-container-id-1 div.sk-parallel-item:last-child::after {align-self: flex-start;width: 50%;}#sk-container-id-1 div.sk-parallel-item:only-child::after {width: 0;}#sk-container-id-1 div.sk-dashed-wrapped {border: 1px dashed gray;margin: 0 0.4em 0.5em 0.4em;box-sizing: border-box;padding-bottom: 0.4em;background-color: white;}#sk-container-id-1 div.sk-label label {font-family: monospace;font-weight: bold;display: inline-block;line-height: 1.2em;}#sk-container-id-1 div.sk-label-container {text-align: center;}#sk-container-id-1 div.sk-container {/* jupyter's `normalize.less` sets `[hidden] { display: none; }` but bootstrap.min.css set `[hidden] { display: none !important; }` so we also need the `!important` here to be able to override the default hidden behavior on the sphinx rendered scikit-learn.org. See: https://github.com/scikit-learn/scikit-learn/issues/21755 */display: inline-block !important;position: relative;}#sk-container-id-1 div.sk-text-repr-fallback {display: none;}</style><div id=\"sk-container-id-1\" class=\"sk-top-container\"><div class=\"sk-text-repr-fallback\"><pre>Pipeline(steps=[(&#x27;scale&#x27;, StandardScaler()),\n",
       "                (&#x27;model&#x27;, LogisticRegression(C=0.1))])</pre><b>In a Jupyter environment, please rerun this cell to show the HTML representation or trust the notebook. <br />On GitHub, the HTML representation is unable to render, please try loading this page with nbviewer.org.</b></div><div class=\"sk-container\" hidden><div class=\"sk-item sk-dashed-wrapped\"><div class=\"sk-label-container\"><div class=\"sk-label sk-toggleable\"><input class=\"sk-toggleable__control sk-hidden--visually\" id=\"sk-estimator-id-1\" type=\"checkbox\" ><label for=\"sk-estimator-id-1\" class=\"sk-toggleable__label sk-toggleable__label-arrow\">Pipeline</label><div class=\"sk-toggleable__content\"><pre>Pipeline(steps=[(&#x27;scale&#x27;, StandardScaler()),\n",
       "                (&#x27;model&#x27;, LogisticRegression(C=0.1))])</pre></div></div></div><div class=\"sk-serial\"><div class=\"sk-item\"><div class=\"sk-estimator sk-toggleable\"><input class=\"sk-toggleable__control sk-hidden--visually\" id=\"sk-estimator-id-2\" type=\"checkbox\" ><label for=\"sk-estimator-id-2\" class=\"sk-toggleable__label sk-toggleable__label-arrow\">StandardScaler</label><div class=\"sk-toggleable__content\"><pre>StandardScaler()</pre></div></div></div><div class=\"sk-item\"><div class=\"sk-estimator sk-toggleable\"><input class=\"sk-toggleable__control sk-hidden--visually\" id=\"sk-estimator-id-3\" type=\"checkbox\" ><label for=\"sk-estimator-id-3\" class=\"sk-toggleable__label sk-toggleable__label-arrow\">LogisticRegression</label><div class=\"sk-toggleable__content\"><pre>LogisticRegression(C=0.1)</pre></div></div></div></div></div></div></div>"
      ],
      "text/plain": [
       "Pipeline(steps=[('scale', StandardScaler()),\n",
       "                ('model', LogisticRegression(C=0.1))])"
      ]
     },
     "execution_count": 34,
     "metadata": {},
     "output_type": "execute_result"
    }
   ],
   "source": [
    "model.fit(X_train, y_train.values.ravel())"
   ]
  },
  {
   "cell_type": "code",
   "execution_count": 35,
   "id": "6e15e313",
   "metadata": {
    "execution": {
     "iopub.execute_input": "2025-08-19T17:54:01.091275Z",
     "iopub.status.busy": "2025-08-19T17:54:01.089858Z",
     "iopub.status.idle": "2025-08-19T17:54:01.332612Z",
     "shell.execute_reply": "2025-08-19T17:54:01.331680Z"
    },
    "papermill": {
     "duration": 0.258256,
     "end_time": "2025-08-19T17:54:01.334556",
     "exception": false,
     "start_time": "2025-08-19T17:54:01.076300",
     "status": "completed"
    },
    "tags": []
   },
   "outputs": [
    {
     "data": {
      "text/plain": [
       "0.8656448556459704"
      ]
     },
     "execution_count": 35,
     "metadata": {},
     "output_type": "execute_result"
    }
   ],
   "source": [
    "from fairness_multiverse.universe import predict_w_threshold\n",
    "\n",
    "probs_test = model.predict_proba(X_test)\n",
    "\n",
    "'''\n",
    "Below code returns a boolean array (or binary 0/1 array depending on how it’s used) where each element \n",
    "is True if the probability of class 1 is greater than or equal to the threshold, and False otherwise.\n",
    "'''\n",
    "y_pred_default = predict_w_threshold(probs_test, 0.5)\n",
    "\n",
    "from sklearn.metrics import accuracy_score\n",
    "\n",
    "# Naive prediction\n",
    "accuracy_score(y_true = y_true, y_pred = y_pred_default)"
   ]
  },
  {
   "cell_type": "code",
   "execution_count": 36,
   "id": "6f14067c",
   "metadata": {
    "execution": {
     "iopub.execute_input": "2025-08-19T17:54:01.378622Z",
     "iopub.status.busy": "2025-08-19T17:54:01.377323Z",
     "iopub.status.idle": "2025-08-19T17:54:01.592385Z",
     "shell.execute_reply": "2025-08-19T17:54:01.591505Z"
    },
    "papermill": {
     "duration": 0.236845,
     "end_time": "2025-08-19T17:54:01.594947",
     "exception": false,
     "start_time": "2025-08-19T17:54:01.358102",
     "status": "completed"
    },
    "tags": []
   },
   "outputs": [
    {
     "data": {
      "text/plain": [
       "array([0, 0, 0, ..., 0, 0, 0])"
      ]
     },
     "execution_count": 36,
     "metadata": {},
     "output_type": "execute_result"
    }
   ],
   "source": [
    "model.predict(X_test)"
   ]
  },
  {
   "cell_type": "markdown",
   "id": "3759920c",
   "metadata": {
    "papermill": {
     "duration": 0.011905,
     "end_time": "2025-08-19T17:54:01.619729",
     "exception": false,
     "start_time": "2025-08-19T17:54:01.607824",
     "status": "completed"
    },
    "tags": []
   },
   "source": [
    "# Conformal Prediction"
   ]
  },
  {
   "cell_type": "code",
   "execution_count": 37,
   "id": "14b27f59",
   "metadata": {
    "execution": {
     "iopub.execute_input": "2025-08-19T17:54:01.644507Z",
     "iopub.status.busy": "2025-08-19T17:54:01.643997Z",
     "iopub.status.idle": "2025-08-19T17:54:01.649089Z",
     "shell.execute_reply": "2025-08-19T17:54:01.648306Z"
    },
    "papermill": {
     "duration": 0.019174,
     "end_time": "2025-08-19T17:54:01.650413",
     "exception": false,
     "start_time": "2025-08-19T17:54:01.631239",
     "status": "completed"
    },
    "tags": []
   },
   "outputs": [],
   "source": [
    "# Miscoverage level for conformal prediction (10% allowed error rate => 90% target coverage)\n",
    "alpha = 0.1"
   ]
  },
  {
   "cell_type": "code",
   "execution_count": 38,
   "id": "59102472",
   "metadata": {
    "execution": {
     "iopub.execute_input": "2025-08-19T17:54:01.674612Z",
     "iopub.status.busy": "2025-08-19T17:54:01.674193Z",
     "iopub.status.idle": "2025-08-19T17:54:01.961001Z",
     "shell.execute_reply": "2025-08-19T17:54:01.960302Z"
    },
    "papermill": {
     "duration": 0.300599,
     "end_time": "2025-08-19T17:54:01.962440",
     "exception": false,
     "start_time": "2025-08-19T17:54:01.661841",
     "status": "completed"
    },
    "tags": []
   },
   "outputs": [],
   "source": [
    "probs_calib = model.predict_proba(X_calib)"
   ]
  },
  {
   "cell_type": "code",
   "execution_count": 39,
   "id": "a792d4dd",
   "metadata": {
    "execution": {
     "iopub.execute_input": "2025-08-19T17:54:01.986283Z",
     "iopub.status.busy": "2025-08-19T17:54:01.985997Z",
     "iopub.status.idle": "2025-08-19T17:54:01.992142Z",
     "shell.execute_reply": "2025-08-19T17:54:01.991106Z"
    },
    "papermill": {
     "duration": 0.019754,
     "end_time": "2025-08-19T17:54:01.993719",
     "exception": false,
     "start_time": "2025-08-19T17:54:01.973965",
     "status": "completed"
    },
    "tags": []
   },
   "outputs": [],
   "source": [
    "y_calib = y_calib.values.ravel().astype(int)"
   ]
  },
  {
   "cell_type": "code",
   "execution_count": 40,
   "id": "650fd033",
   "metadata": {
    "execution": {
     "iopub.execute_input": "2025-08-19T17:54:02.031722Z",
     "iopub.status.busy": "2025-08-19T17:54:02.030685Z",
     "iopub.status.idle": "2025-08-19T17:54:02.046428Z",
     "shell.execute_reply": "2025-08-19T17:54:02.045167Z"
    },
    "papermill": {
     "duration": 0.032617,
     "end_time": "2025-08-19T17:54:02.048308",
     "exception": false,
     "start_time": "2025-08-19T17:54:02.015691",
     "status": "completed"
    },
    "tags": []
   },
   "outputs": [],
   "source": [
    "from fairness_multiverse.conformal import compute_nc_scores\n",
    "\n",
    "# Compute nonconformity scores on calibration set (1 - probability of true class)\n",
    "nc_scores = compute_nc_scores(probs_calib, y_calib)"
   ]
  },
  {
   "cell_type": "code",
   "execution_count": 41,
   "id": "28ada44c",
   "metadata": {
    "execution": {
     "iopub.execute_input": "2025-08-19T17:54:02.082050Z",
     "iopub.status.busy": "2025-08-19T17:54:02.080990Z",
     "iopub.status.idle": "2025-08-19T17:54:02.092637Z",
     "shell.execute_reply": "2025-08-19T17:54:02.091275Z"
    },
    "papermill": {
     "duration": 0.028498,
     "end_time": "2025-08-19T17:54:02.094476",
     "exception": false,
     "start_time": "2025-08-19T17:54:02.065978",
     "status": "completed"
    },
    "tags": []
   },
   "outputs": [],
   "source": [
    "from fairness_multiverse.conformal import find_threshold\n",
    "\n",
    "# Find conformal threshold q_hat for the given alpha (split conformal method)\n",
    "q_hat = find_threshold(nc_scores, alpha)"
   ]
  },
  {
   "cell_type": "code",
   "execution_count": 42,
   "id": "df56469e",
   "metadata": {
    "execution": {
     "iopub.execute_input": "2025-08-19T17:54:02.123742Z",
     "iopub.status.busy": "2025-08-19T17:54:02.122675Z",
     "iopub.status.idle": "2025-08-19T17:54:02.133830Z",
     "shell.execute_reply": "2025-08-19T17:54:02.132698Z"
    },
    "papermill": {
     "duration": 0.026949,
     "end_time": "2025-08-19T17:54:02.136042",
     "exception": false,
     "start_time": "2025-08-19T17:54:02.109093",
     "status": "completed"
    },
    "tags": []
   },
   "outputs": [
    {
     "data": {
      "text/plain": [
       "0.6760209938435328"
      ]
     },
     "execution_count": 42,
     "metadata": {},
     "output_type": "execute_result"
    }
   ],
   "source": [
    "q_hat"
   ]
  },
  {
   "cell_type": "code",
   "execution_count": 43,
   "id": "aa1f5faa",
   "metadata": {
    "execution": {
     "iopub.execute_input": "2025-08-19T17:54:02.164006Z",
     "iopub.status.busy": "2025-08-19T17:54:02.163685Z",
     "iopub.status.idle": "2025-08-19T17:54:02.802371Z",
     "shell.execute_reply": "2025-08-19T17:54:02.801551Z"
    },
    "papermill": {
     "duration": 0.653063,
     "end_time": "2025-08-19T17:54:02.804015",
     "exception": false,
     "start_time": "2025-08-19T17:54:02.150952",
     "status": "completed"
    },
    "tags": []
   },
   "outputs": [],
   "source": [
    "from fairness_multiverse.conformal import predict_conformal_sets\n",
    "\n",
    "# Generate prediction sets for each test example\n",
    "pred_sets = predict_conformal_sets(model, X_test, q_hat)"
   ]
  },
  {
   "cell_type": "code",
   "execution_count": 44,
   "id": "97f67a6b",
   "metadata": {
    "execution": {
     "iopub.execute_input": "2025-08-19T17:54:02.828700Z",
     "iopub.status.busy": "2025-08-19T17:54:02.828214Z",
     "iopub.status.idle": "2025-08-19T17:54:02.832991Z",
     "shell.execute_reply": "2025-08-19T17:54:02.832304Z"
    },
    "papermill": {
     "duration": 0.018364,
     "end_time": "2025-08-19T17:54:02.834353",
     "exception": false,
     "start_time": "2025-08-19T17:54:02.815989",
     "status": "completed"
    },
    "tags": []
   },
   "outputs": [],
   "source": [
    "y_true = y_true.squeeze()"
   ]
  },
  {
   "cell_type": "code",
   "execution_count": 45,
   "id": "e700e9a7",
   "metadata": {
    "execution": {
     "iopub.execute_input": "2025-08-19T17:54:02.862142Z",
     "iopub.status.busy": "2025-08-19T17:54:02.861718Z",
     "iopub.status.idle": "2025-08-19T17:54:03.441390Z",
     "shell.execute_reply": "2025-08-19T17:54:03.435147Z"
    },
    "papermill": {
     "duration": 0.593617,
     "end_time": "2025-08-19T17:54:03.443128",
     "exception": false,
     "start_time": "2025-08-19T17:54:02.849511",
     "status": "completed"
    },
    "tags": []
   },
   "outputs": [],
   "source": [
    "from fairness_multiverse.conformal import evaluate_sets\n",
    "\n",
    "# Evaluate coverage and average set size on test data\n",
    "metrics = evaluate_sets(pred_sets, y_true)"
   ]
  },
  {
   "cell_type": "markdown",
   "id": "efbacec0",
   "metadata": {
    "papermill": {
     "duration": 0.014131,
     "end_time": "2025-08-19T17:54:03.471443",
     "exception": false,
     "start_time": "2025-08-19T17:54:03.457312",
     "status": "completed"
    },
    "tags": []
   },
   "source": [
    "# CP Metrics"
   ]
  },
  {
   "cell_type": "code",
   "execution_count": 46,
   "id": "9de55fb1",
   "metadata": {
    "execution": {
     "iopub.execute_input": "2025-08-19T17:54:03.497061Z",
     "iopub.status.busy": "2025-08-19T17:54:03.496677Z",
     "iopub.status.idle": "2025-08-19T17:54:03.502982Z",
     "shell.execute_reply": "2025-08-19T17:54:03.502410Z"
    },
    "papermill": {
     "duration": 0.020782,
     "end_time": "2025-08-19T17:54:03.504212",
     "exception": false,
     "start_time": "2025-08-19T17:54:03.483430",
     "status": "completed"
    },
    "tags": []
   },
   "outputs": [
    {
     "data": {
      "text/plain": [
       "{'coverage': 0.91271876045034, 'avg_size': 1.1255489911938468}"
      ]
     },
     "execution_count": 46,
     "metadata": {},
     "output_type": "execute_result"
    }
   ],
   "source": [
    "metrics"
   ]
  },
  {
   "cell_type": "code",
   "execution_count": 47,
   "id": "64c340a1",
   "metadata": {
    "execution": {
     "iopub.execute_input": "2025-08-19T17:54:03.529574Z",
     "iopub.status.busy": "2025-08-19T17:54:03.528929Z",
     "iopub.status.idle": "2025-08-19T17:54:03.535757Z",
     "shell.execute_reply": "2025-08-19T17:54:03.534819Z"
    },
    "papermill": {
     "duration": 0.020377,
     "end_time": "2025-08-19T17:54:03.536985",
     "exception": false,
     "start_time": "2025-08-19T17:54:03.516608",
     "status": "completed"
    },
    "tags": []
   },
   "outputs": [],
   "source": [
    "example_universe = universe.copy()\n",
    "universe_training_year = example_universe.get(\"training_year\")\n",
    "universe_training_size = example_universe.get(\"training_size\")\n",
    "universe_scale = example_universe.get(\"scale\")\n",
    "universe_model = example_universe.get(\"model\")\n",
    "universe_exclude_features = example_universe.get(\"exclude_features\")\n",
    "universe_exclude_subgroups = example_universe.get(\"exclude_subgroups\")"
   ]
  },
  {
   "cell_type": "code",
   "execution_count": 48,
   "id": "dbb53cb4",
   "metadata": {
    "execution": {
     "iopub.execute_input": "2025-08-19T17:54:03.565217Z",
     "iopub.status.busy": "2025-08-19T17:54:03.563914Z",
     "iopub.status.idle": "2025-08-19T17:54:03.574245Z",
     "shell.execute_reply": "2025-08-19T17:54:03.572700Z"
    },
    "papermill": {
     "duration": 0.024483,
     "end_time": "2025-08-19T17:54:03.575685",
     "exception": false,
     "start_time": "2025-08-19T17:54:03.551202",
     "status": "completed"
    },
    "tags": []
   },
   "outputs": [],
   "source": [
    "cp_metrics_dict = {\n",
    "    \"universe_id\": [universe_id],\n",
    "    \"universe_training_year\": [universe_training_year],\n",
    "    \"universe_training_size\": [universe_training_size],\n",
    "    \"universe_scale\": [universe_scale],\n",
    "    \"universe_model\": [universe_model],\n",
    "    \"universe_exclude_features\": [universe_exclude_features],\n",
    "    \"universe_exclude_subgroups\": [universe_exclude_subgroups],\n",
    "    \"q_hat\": [q_hat],\n",
    "    \"coverage\": [metrics[\"coverage\"]],\n",
    "    \"avg_size\": [metrics[\"avg_size\"]],\n",
    "}"
   ]
  },
  {
   "cell_type": "code",
   "execution_count": 49,
   "id": "0d70d4b2",
   "metadata": {
    "execution": {
     "iopub.execute_input": "2025-08-19T17:54:03.604419Z",
     "iopub.status.busy": "2025-08-19T17:54:03.603124Z",
     "iopub.status.idle": "2025-08-19T17:54:03.615432Z",
     "shell.execute_reply": "2025-08-19T17:54:03.613874Z"
    },
    "papermill": {
     "duration": 0.026435,
     "end_time": "2025-08-19T17:54:03.616879",
     "exception": false,
     "start_time": "2025-08-19T17:54:03.590444",
     "status": "completed"
    },
    "tags": []
   },
   "outputs": [],
   "source": [
    "cp_metrics_df = pd.DataFrame(cp_metrics_dict)"
   ]
  },
  {
   "cell_type": "code",
   "execution_count": 50,
   "id": "b494403c",
   "metadata": {
    "execution": {
     "iopub.execute_input": "2025-08-19T17:54:03.646334Z",
     "iopub.status.busy": "2025-08-19T17:54:03.645317Z",
     "iopub.status.idle": "2025-08-19T17:54:03.669841Z",
     "shell.execute_reply": "2025-08-19T17:54:03.669127Z"
    },
    "papermill": {
     "duration": 0.039614,
     "end_time": "2025-08-19T17:54:03.671744",
     "exception": false,
     "start_time": "2025-08-19T17:54:03.632130",
     "status": "completed"
    },
    "tags": []
   },
   "outputs": [
    {
     "data": {
      "text/html": [
       "<div>\n",
       "<style scoped>\n",
       "    .dataframe tbody tr th:only-of-type {\n",
       "        vertical-align: middle;\n",
       "    }\n",
       "\n",
       "    .dataframe tbody tr th {\n",
       "        vertical-align: top;\n",
       "    }\n",
       "\n",
       "    .dataframe thead th {\n",
       "        text-align: right;\n",
       "    }\n",
       "</style>\n",
       "<table border=\"1\" class=\"dataframe\">\n",
       "  <thead>\n",
       "    <tr style=\"text-align: right;\">\n",
       "      <th></th>\n",
       "      <th>universe_id</th>\n",
       "      <th>universe_training_year</th>\n",
       "      <th>universe_training_size</th>\n",
       "      <th>universe_scale</th>\n",
       "      <th>universe_model</th>\n",
       "      <th>universe_exclude_features</th>\n",
       "      <th>universe_exclude_subgroups</th>\n",
       "      <th>q_hat</th>\n",
       "      <th>coverage</th>\n",
       "      <th>avg_size</th>\n",
       "    </tr>\n",
       "  </thead>\n",
       "  <tbody>\n",
       "    <tr>\n",
       "      <th>0</th>\n",
       "      <td>17cde67cb88bfc4adbd95d48841de1b8</td>\n",
       "      <td>2014</td>\n",
       "      <td>25k</td>\n",
       "      <td>scale</td>\n",
       "      <td>penalized_logreg</td>\n",
       "      <td>none</td>\n",
       "      <td>drop-non-german</td>\n",
       "      <td>0.676021</td>\n",
       "      <td>0.912719</td>\n",
       "      <td>1.125549</td>\n",
       "    </tr>\n",
       "  </tbody>\n",
       "</table>\n",
       "</div>"
      ],
      "text/plain": [
       "                        universe_id universe_training_year  \\\n",
       "0  17cde67cb88bfc4adbd95d48841de1b8                   2014   \n",
       "\n",
       "  universe_training_size universe_scale    universe_model  \\\n",
       "0                    25k          scale  penalized_logreg   \n",
       "\n",
       "  universe_exclude_features universe_exclude_subgroups     q_hat  coverage  \\\n",
       "0                      none            drop-non-german  0.676021  0.912719   \n",
       "\n",
       "   avg_size  \n",
       "0  1.125549  "
      ]
     },
     "execution_count": 50,
     "metadata": {},
     "output_type": "execute_result"
    }
   ],
   "source": [
    "cp_metrics_df"
   ]
  },
  {
   "cell_type": "markdown",
   "id": "ed608b0b",
   "metadata": {
    "papermill": {
     "duration": 0.012948,
     "end_time": "2025-08-19T17:54:03.697015",
     "exception": false,
     "start_time": "2025-08-19T17:54:03.684067",
     "status": "completed"
    },
    "tags": []
   },
   "source": [
    "Conditional coverage & looking at subgroups"
   ]
  },
  {
   "cell_type": "code",
   "execution_count": 51,
   "id": "8968c366",
   "metadata": {
    "execution": {
     "iopub.execute_input": "2025-08-19T17:54:03.722535Z",
     "iopub.status.busy": "2025-08-19T17:54:03.722102Z",
     "iopub.status.idle": "2025-08-19T17:54:03.991979Z",
     "shell.execute_reply": "2025-08-19T17:54:03.991173Z"
    },
    "papermill": {
     "duration": 0.284812,
     "end_time": "2025-08-19T17:54:03.993698",
     "exception": false,
     "start_time": "2025-08-19T17:54:03.708886",
     "status": "completed"
    },
    "tags": []
   },
   "outputs": [],
   "source": [
    "from fairness_multiverse.conformal import build_cp_groups\n",
    "\n",
    "cp_groups_df = build_cp_groups(pred_sets, y_true, X_test.index, org_test)"
   ]
  },
  {
   "cell_type": "code",
   "execution_count": 52,
   "id": "292ddabf",
   "metadata": {
    "execution": {
     "iopub.execute_input": "2025-08-19T17:54:04.046723Z",
     "iopub.status.busy": "2025-08-19T17:54:04.045412Z",
     "iopub.status.idle": "2025-08-19T17:54:04.961675Z",
     "shell.execute_reply": "2025-08-19T17:54:04.960401Z"
    },
    "papermill": {
     "duration": 0.94962,
     "end_time": "2025-08-19T17:54:04.963288",
     "exception": false,
     "start_time": "2025-08-19T17:54:04.013668",
     "status": "completed"
    },
    "tags": []
   },
   "outputs": [],
   "source": [
    "# Define covered = 1 if true_label is in the predicted set\n",
    "cp_groups_df['covered'] = cp_groups_df.apply(\n",
    "    lambda r: int(r['true_label'] in r['pred_set']),\n",
    "    axis=1\n",
    ")"
   ]
  },
  {
   "cell_type": "code",
   "execution_count": 53,
   "id": "3a261692",
   "metadata": {
    "execution": {
     "iopub.execute_input": "2025-08-19T17:54:05.022601Z",
     "iopub.status.busy": "2025-08-19T17:54:05.021148Z",
     "iopub.status.idle": "2025-08-19T17:54:05.047063Z",
     "shell.execute_reply": "2025-08-19T17:54:05.045890Z"
    },
    "papermill": {
     "duration": 0.067576,
     "end_time": "2025-08-19T17:54:05.048875",
     "exception": false,
     "start_time": "2025-08-19T17:54:04.981299",
     "status": "completed"
    },
    "tags": []
   },
   "outputs": [],
   "source": [
    "subgroups = ['frau1','nongerman','nongerman_male','nongerman_female']\n",
    "\n",
    "# Conditional coverage for subgroup==1\n",
    "cond_coverage = {\n",
    "    g: cp_groups_df.loc[cp_groups_df[g]==1, 'covered'].mean()\n",
    "    for g in subgroups\n",
    "}"
   ]
  },
  {
   "cell_type": "code",
   "execution_count": 54,
   "id": "894fd600",
   "metadata": {
    "execution": {
     "iopub.execute_input": "2025-08-19T17:54:05.076544Z",
     "iopub.status.busy": "2025-08-19T17:54:05.076097Z",
     "iopub.status.idle": "2025-08-19T17:54:05.082470Z",
     "shell.execute_reply": "2025-08-19T17:54:05.081564Z"
    },
    "papermill": {
     "duration": 0.021056,
     "end_time": "2025-08-19T17:54:05.083822",
     "exception": false,
     "start_time": "2025-08-19T17:54:05.062766",
     "status": "completed"
    },
    "tags": []
   },
   "outputs": [
    {
     "data": {
      "text/plain": [
       "{'frau1': 0.9119018735678663,\n",
       " 'nongerman': 0.9120866782686802,\n",
       " 'nongerman_male': 0.9276772043591822,\n",
       " 'nongerman_female': 0.8862891207153503}"
      ]
     },
     "execution_count": 54,
     "metadata": {},
     "output_type": "execute_result"
    }
   ],
   "source": [
    "cond_coverage"
   ]
  },
  {
   "cell_type": "code",
   "execution_count": 55,
   "id": "942895c7",
   "metadata": {
    "execution": {
     "iopub.execute_input": "2025-08-19T17:54:05.109598Z",
     "iopub.status.busy": "2025-08-19T17:54:05.109202Z",
     "iopub.status.idle": "2025-08-19T17:54:05.115012Z",
     "shell.execute_reply": "2025-08-19T17:54:05.114297Z"
    },
    "papermill": {
     "duration": 0.020159,
     "end_time": "2025-08-19T17:54:05.116328",
     "exception": false,
     "start_time": "2025-08-19T17:54:05.096169",
     "status": "completed"
    },
    "tags": []
   },
   "outputs": [],
   "source": [
    "for subgroup, cov in cond_coverage.items():\n",
    "    cp_metrics_df[f\"cov_{subgroup}\"] = cov"
   ]
  },
  {
   "cell_type": "code",
   "execution_count": 56,
   "id": "3970120f",
   "metadata": {
    "execution": {
     "iopub.execute_input": "2025-08-19T17:54:05.141580Z",
     "iopub.status.busy": "2025-08-19T17:54:05.141212Z",
     "iopub.status.idle": "2025-08-19T17:54:05.156986Z",
     "shell.execute_reply": "2025-08-19T17:54:05.156173Z"
    },
    "papermill": {
     "duration": 0.030153,
     "end_time": "2025-08-19T17:54:05.158514",
     "exception": false,
     "start_time": "2025-08-19T17:54:05.128361",
     "status": "completed"
    },
    "tags": []
   },
   "outputs": [
    {
     "data": {
      "text/html": [
       "<div>\n",
       "<style scoped>\n",
       "    .dataframe tbody tr th:only-of-type {\n",
       "        vertical-align: middle;\n",
       "    }\n",
       "\n",
       "    .dataframe tbody tr th {\n",
       "        vertical-align: top;\n",
       "    }\n",
       "\n",
       "    .dataframe thead th {\n",
       "        text-align: right;\n",
       "    }\n",
       "</style>\n",
       "<table border=\"1\" class=\"dataframe\">\n",
       "  <thead>\n",
       "    <tr style=\"text-align: right;\">\n",
       "      <th></th>\n",
       "      <th>universe_id</th>\n",
       "      <th>universe_training_year</th>\n",
       "      <th>universe_training_size</th>\n",
       "      <th>universe_scale</th>\n",
       "      <th>universe_model</th>\n",
       "      <th>universe_exclude_features</th>\n",
       "      <th>universe_exclude_subgroups</th>\n",
       "      <th>q_hat</th>\n",
       "      <th>coverage</th>\n",
       "      <th>avg_size</th>\n",
       "      <th>cov_frau1</th>\n",
       "      <th>cov_nongerman</th>\n",
       "      <th>cov_nongerman_male</th>\n",
       "      <th>cov_nongerman_female</th>\n",
       "    </tr>\n",
       "  </thead>\n",
       "  <tbody>\n",
       "    <tr>\n",
       "      <th>0</th>\n",
       "      <td>17cde67cb88bfc4adbd95d48841de1b8</td>\n",
       "      <td>2014</td>\n",
       "      <td>25k</td>\n",
       "      <td>scale</td>\n",
       "      <td>penalized_logreg</td>\n",
       "      <td>none</td>\n",
       "      <td>drop-non-german</td>\n",
       "      <td>0.676021</td>\n",
       "      <td>0.912719</td>\n",
       "      <td>1.125549</td>\n",
       "      <td>0.911902</td>\n",
       "      <td>0.912087</td>\n",
       "      <td>0.927677</td>\n",
       "      <td>0.886289</td>\n",
       "    </tr>\n",
       "  </tbody>\n",
       "</table>\n",
       "</div>"
      ],
      "text/plain": [
       "                        universe_id universe_training_year  \\\n",
       "0  17cde67cb88bfc4adbd95d48841de1b8                   2014   \n",
       "\n",
       "  universe_training_size universe_scale    universe_model  \\\n",
       "0                    25k          scale  penalized_logreg   \n",
       "\n",
       "  universe_exclude_features universe_exclude_subgroups     q_hat  coverage  \\\n",
       "0                      none            drop-non-german  0.676021  0.912719   \n",
       "\n",
       "   avg_size  cov_frau1  cov_nongerman  cov_nongerman_male  \\\n",
       "0  1.125549   0.911902       0.912087            0.927677   \n",
       "\n",
       "   cov_nongerman_female  \n",
       "0              0.886289  "
      ]
     },
     "execution_count": 56,
     "metadata": {},
     "output_type": "execute_result"
    }
   ],
   "source": [
    "cp_metrics_df"
   ]
  },
  {
   "cell_type": "markdown",
   "id": "3fc519cc",
   "metadata": {
    "papermill": {
     "duration": 0.012139,
     "end_time": "2025-08-19T17:54:05.184654",
     "exception": false,
     "start_time": "2025-08-19T17:54:05.172515",
     "status": "completed"
    },
    "tags": []
   },
   "source": [
    "# (Fairness) Metrics"
   ]
  },
  {
   "cell_type": "code",
   "execution_count": 57,
   "id": "a2e5e155",
   "metadata": {
    "execution": {
     "iopub.execute_input": "2025-08-19T17:54:05.209925Z",
     "iopub.status.busy": "2025-08-19T17:54:05.209520Z",
     "iopub.status.idle": "2025-08-19T17:54:05.225209Z",
     "shell.execute_reply": "2025-08-19T17:54:05.224573Z"
    },
    "papermill": {
     "duration": 0.029768,
     "end_time": "2025-08-19T17:54:05.226353",
     "exception": false,
     "start_time": "2025-08-19T17:54:05.196585",
     "status": "completed"
    },
    "tags": []
   },
   "outputs": [],
   "source": [
    "colname_to_bin = \"maxdeutsch1\"\n",
    "majority_value = org_train[colname_to_bin].mode()[0]\n",
    "\n",
    "org_test[\"majmin\"] = np.where(org_test[colname_to_bin] == majority_value, \"majority\", \"minority\")"
   ]
  },
  {
   "cell_type": "code",
   "execution_count": 58,
   "id": "17e3e4d5",
   "metadata": {
    "execution": {
     "iopub.execute_input": "2025-08-19T17:54:05.252238Z",
     "iopub.status.busy": "2025-08-19T17:54:05.251570Z",
     "iopub.status.idle": "2025-08-19T17:54:06.994935Z",
     "shell.execute_reply": "2025-08-19T17:54:06.993627Z"
    },
    "papermill": {
     "duration": 1.759176,
     "end_time": "2025-08-19T17:54:06.997769",
     "exception": false,
     "start_time": "2025-08-19T17:54:05.238593",
     "status": "completed"
    },
    "tags": []
   },
   "outputs": [],
   "source": [
    "example_universe = universe.copy()\n",
    "example_universe[\"cutoff\"] = example_universe[\"cutoff\"][0]\n",
    "example_universe[\"eval_fairness_grouping\"] = example_universe[\"eval_fairness_grouping\"][0]\n",
    "fairness_dict, metric_frame = universe_analysis.compute_metrics(\n",
    "    example_universe,\n",
    "    y_pred_prob=probs_test,\n",
    "    y_test=y_true,\n",
    "    org_test=org_test,\n",
    ")"
   ]
  },
  {
   "cell_type": "markdown",
   "id": "1fb7a0e9",
   "metadata": {
    "papermill": {
     "duration": 0.014237,
     "end_time": "2025-08-19T17:54:07.039673",
     "exception": false,
     "start_time": "2025-08-19T17:54:07.025436",
     "status": "completed"
    },
    "tags": []
   },
   "source": [
    "# Overall"
   ]
  },
  {
   "cell_type": "markdown",
   "id": "be1784b1",
   "metadata": {
    "papermill": {
     "duration": 0.011926,
     "end_time": "2025-08-19T17:54:07.063569",
     "exception": false,
     "start_time": "2025-08-19T17:54:07.051643",
     "status": "completed"
    },
    "tags": []
   },
   "source": [
    "Main fairness target: Equalized Odds. Seems to be a better fit than equal opportunity, since we're not only interested in Y = 1. Seems to be a better fit than demographic parity, since we also care about accuracy, not just equal distribution of preds.\n",
    "\n",
    "Pick column for computation of fairness metrics\n",
    "\n",
    "Performance\n",
    "Overall performance measures, most interesting in relation to the measures split by group below"
   ]
  },
  {
   "cell_type": "code",
   "execution_count": 59,
   "id": "b7672bee",
   "metadata": {
    "execution": {
     "iopub.execute_input": "2025-08-19T17:54:07.092274Z",
     "iopub.status.busy": "2025-08-19T17:54:07.090703Z",
     "iopub.status.idle": "2025-08-19T17:54:07.107894Z",
     "shell.execute_reply": "2025-08-19T17:54:07.106649Z"
    },
    "papermill": {
     "duration": 0.033263,
     "end_time": "2025-08-19T17:54:07.109296",
     "exception": false,
     "start_time": "2025-08-19T17:54:07.076033",
     "status": "completed"
    },
    "tags": []
   },
   "outputs": [
    {
     "data": {
      "text/plain": [
       "accuracy                   0.225493\n",
       "balanced accuracy          0.551128\n",
       "f1                         0.246794\n",
       "precision                  0.140985\n",
       "false positive rate        0.886883\n",
       "false negative rate        0.010862\n",
       "selection rate             0.900000\n",
       "count                  89710.000000\n",
       "dtype: float64"
      ]
     },
     "execution_count": 59,
     "metadata": {},
     "output_type": "execute_result"
    }
   ],
   "source": [
    "metric_frame.overall"
   ]
  },
  {
   "cell_type": "markdown",
   "id": "d93333c9",
   "metadata": {
    "papermill": {
     "duration": 0.013168,
     "end_time": "2025-08-19T17:54:07.141099",
     "exception": false,
     "start_time": "2025-08-19T17:54:07.127931",
     "status": "completed"
    },
    "tags": []
   },
   "source": [
    "By Group"
   ]
  },
  {
   "cell_type": "code",
   "execution_count": 60,
   "id": "52256966",
   "metadata": {
    "execution": {
     "iopub.execute_input": "2025-08-19T17:54:07.168377Z",
     "iopub.status.busy": "2025-08-19T17:54:07.166940Z",
     "iopub.status.idle": "2025-08-19T17:54:07.201220Z",
     "shell.execute_reply": "2025-08-19T17:54:07.200088Z"
    },
    "papermill": {
     "duration": 0.050099,
     "end_time": "2025-08-19T17:54:07.203284",
     "exception": false,
     "start_time": "2025-08-19T17:54:07.153185",
     "status": "completed"
    },
    "tags": []
   },
   "outputs": [
    {
     "data": {
      "text/html": [
       "<div>\n",
       "<style scoped>\n",
       "    .dataframe tbody tr th:only-of-type {\n",
       "        vertical-align: middle;\n",
       "    }\n",
       "\n",
       "    .dataframe tbody tr th {\n",
       "        vertical-align: top;\n",
       "    }\n",
       "\n",
       "    .dataframe thead th {\n",
       "        text-align: right;\n",
       "    }\n",
       "</style>\n",
       "<table border=\"1\" class=\"dataframe\">\n",
       "  <thead>\n",
       "    <tr style=\"text-align: right;\">\n",
       "      <th></th>\n",
       "      <th>accuracy</th>\n",
       "      <th>balanced accuracy</th>\n",
       "      <th>f1</th>\n",
       "      <th>precision</th>\n",
       "      <th>false positive rate</th>\n",
       "      <th>false negative rate</th>\n",
       "      <th>selection rate</th>\n",
       "      <th>count</th>\n",
       "    </tr>\n",
       "    <tr>\n",
       "      <th>majmin</th>\n",
       "      <th></th>\n",
       "      <th></th>\n",
       "      <th></th>\n",
       "      <th></th>\n",
       "      <th></th>\n",
       "      <th></th>\n",
       "      <th></th>\n",
       "      <th></th>\n",
       "    </tr>\n",
       "  </thead>\n",
       "  <tbody>\n",
       "    <tr>\n",
       "      <th>majority</th>\n",
       "      <td>0.246234</td>\n",
       "      <td>0.560633</td>\n",
       "      <td>0.257272</td>\n",
       "      <td>0.147892</td>\n",
       "      <td>0.866700</td>\n",
       "      <td>0.012035</td>\n",
       "      <td>0.882724</td>\n",
       "      <td>69170.0</td>\n",
       "    </tr>\n",
       "    <tr>\n",
       "      <th>minority</th>\n",
       "      <td>0.155648</td>\n",
       "      <td>0.520055</td>\n",
       "      <td>0.213434</td>\n",
       "      <td>0.119557</td>\n",
       "      <td>0.953555</td>\n",
       "      <td>0.006334</td>\n",
       "      <td>0.958179</td>\n",
       "      <td>20540.0</td>\n",
       "    </tr>\n",
       "  </tbody>\n",
       "</table>\n",
       "</div>"
      ],
      "text/plain": [
       "          accuracy  balanced accuracy        f1  precision  \\\n",
       "majmin                                                       \n",
       "majority  0.246234           0.560633  0.257272   0.147892   \n",
       "minority  0.155648           0.520055  0.213434   0.119557   \n",
       "\n",
       "          false positive rate  false negative rate  selection rate    count  \n",
       "majmin                                                                       \n",
       "majority             0.866700             0.012035        0.882724  69170.0  \n",
       "minority             0.953555             0.006334        0.958179  20540.0  "
      ]
     },
     "execution_count": 60,
     "metadata": {},
     "output_type": "execute_result"
    }
   ],
   "source": [
    "metric_frame.by_group"
   ]
  },
  {
   "cell_type": "code",
   "execution_count": 61,
   "id": "6e6c20ae",
   "metadata": {
    "execution": {
     "iopub.execute_input": "2025-08-19T17:54:07.250074Z",
     "iopub.status.busy": "2025-08-19T17:54:07.248924Z",
     "iopub.status.idle": "2025-08-19T17:54:09.099136Z",
     "shell.execute_reply": "2025-08-19T17:54:09.098261Z"
    },
    "papermill": {
     "duration": 1.874259,
     "end_time": "2025-08-19T17:54:09.103932",
     "exception": false,
     "start_time": "2025-08-19T17:54:07.229673",
     "status": "completed"
    },
    "tags": []
   },
   "outputs": [
    {
     "data": {
      "text/plain": [
       "array([[<Axes: title={'center': 'accuracy'}, xlabel='majmin'>,\n",
       "        <Axes: title={'center': 'balanced accuracy'}, xlabel='majmin'>,\n",
       "        <Axes: title={'center': 'f1'}, xlabel='majmin'>],\n",
       "       [<Axes: title={'center': 'precision'}, xlabel='majmin'>,\n",
       "        <Axes: title={'center': 'false positive rate'}, xlabel='majmin'>,\n",
       "        <Axes: title={'center': 'false negative rate'}, xlabel='majmin'>],\n",
       "       [<Axes: title={'center': 'selection rate'}, xlabel='majmin'>,\n",
       "        <Axes: title={'center': 'count'}, xlabel='majmin'>,\n",
       "        <Axes: xlabel='majmin'>]], dtype=object)"
      ]
     },
     "execution_count": 61,
     "metadata": {},
     "output_type": "execute_result"
    },
    {
     "data": {
      "image/png": "[encoded data removed]",
      "text/plain": [
       "<Figure size 1200x800 with 9 Axes>"
      ]
     },
     "metadata": {},
     "output_type": "display_data"
    }
   ],
   "source": [
    "# In a graphic\n",
    "metric_frame.by_group.plot.bar(\n",
    "    subplots=True,\n",
    "    layout=[3, 3],\n",
    "    legend=False,\n",
    "    figsize=[12, 8],\n",
    "    title=\"Show all metrics\",\n",
    ")"
   ]
  },
  {
   "cell_type": "markdown",
   "id": "b2e433ae",
   "metadata": {
    "papermill": {
     "duration": 0.013803,
     "end_time": "2025-08-19T17:54:09.145884",
     "exception": false,
     "start_time": "2025-08-19T17:54:09.132081",
     "status": "completed"
    },
    "tags": []
   },
   "source": [
    "# Final Output"
   ]
  },
  {
   "cell_type": "code",
   "execution_count": 62,
   "id": "3871301e",
   "metadata": {
    "execution": {
     "iopub.execute_input": "2025-08-19T17:54:09.177292Z",
     "iopub.status.busy": "2025-08-19T17:54:09.175101Z",
     "iopub.status.idle": "2025-08-19T17:54:09.195065Z",
     "shell.execute_reply": "2025-08-19T17:54:09.194145Z"
    },
    "papermill": {
     "duration": 0.037296,
     "end_time": "2025-08-19T17:54:09.196654",
     "exception": false,
     "start_time": "2025-08-19T17:54:09.159358",
     "status": "completed"
    },
    "tags": []
   },
   "outputs": [
    {
     "data": {
      "text/plain": [
       "4"
      ]
     },
     "execution_count": 62,
     "metadata": {},
     "output_type": "execute_result"
    }
   ],
   "source": [
    "sub_universes = universe_analysis.generate_sub_universes()\n",
    "len(sub_universes)"
   ]
  },
  {
   "cell_type": "code",
   "execution_count": 63,
   "id": "d9cfdaca",
   "metadata": {
    "execution": {
     "iopub.execute_input": "2025-08-19T17:54:09.233583Z",
     "iopub.status.busy": "2025-08-19T17:54:09.232625Z",
     "iopub.status.idle": "2025-08-19T17:54:09.244057Z",
     "shell.execute_reply": "2025-08-19T17:54:09.241939Z"
    },
    "papermill": {
     "duration": 0.028349,
     "end_time": "2025-08-19T17:54:09.245608",
     "exception": false,
     "start_time": "2025-08-19T17:54:09.217259",
     "status": "completed"
    },
    "tags": []
   },
   "outputs": [],
   "source": [
    "def filter_sub_universe_data(sub_universe, org_test):\n",
    "    # Keep all rows — no filtering\n",
    "    keep_rows_mask = np.ones(org_test.shape[0], dtype=bool)\n",
    "\n",
    "    print(f\"[INFO] Keeping all rows: {keep_rows_mask.sum()} rows retained.\")\n",
    "    return keep_rows_mask"
   ]
  },
  {
   "cell_type": "code",
   "execution_count": 64,
   "id": "2bc31ac1",
   "metadata": {
    "execution": {
     "iopub.execute_input": "2025-08-19T17:54:09.278560Z",
     "iopub.status.busy": "2025-08-19T17:54:09.277166Z",
     "iopub.status.idle": "2025-08-19T17:54:15.871131Z",
     "shell.execute_reply": "2025-08-19T17:54:15.870190Z"
    },
    "papermill": {
     "duration": 6.611806,
     "end_time": "2025-08-19T17:54:15.873851",
     "exception": false,
     "start_time": "2025-08-19T17:54:09.262045",
     "status": "completed"
    },
    "tags": []
   },
   "outputs": [
    {
     "name": "stdout",
     "output_type": "stream",
     "text": [
      "Stopping execution_time clock.\n",
      "[INFO] Keeping all rows: 89710 rows retained.\n"
     ]
    },
    {
     "name": "stdout",
     "output_type": "stream",
     "text": [
      "[INFO] Keeping all rows: 89710 rows retained.\n"
     ]
    },
    {
     "name": "stdout",
     "output_type": "stream",
     "text": [
      "[INFO] Keeping all rows: 89710 rows retained.\n"
     ]
    },
    {
     "name": "stdout",
     "output_type": "stream",
     "text": [
      "[INFO] Keeping all rows: 89710 rows retained.\n"
     ]
    },
    {
     "data": {
      "text/html": [
       "<div>\n",
       "<style scoped>\n",
       "    .dataframe tbody tr th:only-of-type {\n",
       "        vertical-align: middle;\n",
       "    }\n",
       "\n",
       "    .dataframe tbody tr th {\n",
       "        vertical-align: top;\n",
       "    }\n",
       "\n",
       "    .dataframe thead th {\n",
       "        text-align: right;\n",
       "    }\n",
       "</style>\n",
       "<table border=\"1\" class=\"dataframe\">\n",
       "  <thead>\n",
       "    <tr style=\"text-align: right;\">\n",
       "      <th></th>\n",
       "      <th>run_no</th>\n",
       "      <th>universe_id</th>\n",
       "      <th>universe_settings</th>\n",
       "      <th>execution_time</th>\n",
       "      <th>test_size_n</th>\n",
       "      <th>test_size_frac</th>\n",
       "      <th>fair_main_equalized_odds_difference</th>\n",
       "      <th>fair_main_equalized_odds_ratio</th>\n",
       "      <th>fair_main_demographic_parity_difference</th>\n",
       "      <th>fair_main_demographic_parity_ratio</th>\n",
       "      <th>...</th>\n",
       "      <th>perf_grp_precision_0</th>\n",
       "      <th>perf_grp_precision_1</th>\n",
       "      <th>perf_grp_false positive rate_0</th>\n",
       "      <th>perf_grp_false positive rate_1</th>\n",
       "      <th>perf_grp_false negative rate_0</th>\n",
       "      <th>perf_grp_false negative rate_1</th>\n",
       "      <th>perf_grp_selection rate_0</th>\n",
       "      <th>perf_grp_selection rate_1</th>\n",
       "      <th>perf_grp_count_0</th>\n",
       "      <th>perf_grp_count_1</th>\n",
       "    </tr>\n",
       "  </thead>\n",
       "  <tbody>\n",
       "    <tr>\n",
       "      <th>0</th>\n",
       "      <td>3</td>\n",
       "      <td>17cde67cb88bfc4adbd95d48841de1b8</td>\n",
       "      <td>{\"cutoff\": \"quantile_0.1\", \"eval_fairness_grou...</td>\n",
       "      <td>21.8724</td>\n",
       "      <td>89710</td>\n",
       "      <td>1.0</td>\n",
       "      <td>0.086855</td>\n",
       "      <td>0.908915</td>\n",
       "      <td>0.075455</td>\n",
       "      <td>0.921251</td>\n",
       "      <td>...</td>\n",
       "      <td>NaN</td>\n",
       "      <td>NaN</td>\n",
       "      <td>NaN</td>\n",
       "      <td>NaN</td>\n",
       "      <td>NaN</td>\n",
       "      <td>NaN</td>\n",
       "      <td>NaN</td>\n",
       "      <td>NaN</td>\n",
       "      <td>NaN</td>\n",
       "      <td>NaN</td>\n",
       "    </tr>\n",
       "    <tr>\n",
       "      <th>0</th>\n",
       "      <td>3</td>\n",
       "      <td>17cde67cb88bfc4adbd95d48841de1b8</td>\n",
       "      <td>{\"cutoff\": \"quantile_0.1\", \"eval_fairness_grou...</td>\n",
       "      <td>21.8724</td>\n",
       "      <td>89710</td>\n",
       "      <td>1.0</td>\n",
       "      <td>0.086855</td>\n",
       "      <td>0.908915</td>\n",
       "      <td>0.075455</td>\n",
       "      <td>0.921251</td>\n",
       "      <td>...</td>\n",
       "      <td>0.119557</td>\n",
       "      <td>0.147892</td>\n",
       "      <td>0.953555</td>\n",
       "      <td>0.866700</td>\n",
       "      <td>0.006334</td>\n",
       "      <td>0.012035</td>\n",
       "      <td>0.958179</td>\n",
       "      <td>0.882724</td>\n",
       "      <td>20540.0</td>\n",
       "      <td>69170.0</td>\n",
       "    </tr>\n",
       "    <tr>\n",
       "      <th>0</th>\n",
       "      <td>3</td>\n",
       "      <td>17cde67cb88bfc4adbd95d48841de1b8</td>\n",
       "      <td>{\"cutoff\": \"quantile_0.25\", \"eval_fairness_gro...</td>\n",
       "      <td>21.8724</td>\n",
       "      <td>89710</td>\n",
       "      <td>1.0</td>\n",
       "      <td>0.156366</td>\n",
       "      <td>0.813966</td>\n",
       "      <td>0.135132</td>\n",
       "      <td>0.841800</td>\n",
       "      <td>...</td>\n",
       "      <td>NaN</td>\n",
       "      <td>NaN</td>\n",
       "      <td>NaN</td>\n",
       "      <td>NaN</td>\n",
       "      <td>NaN</td>\n",
       "      <td>NaN</td>\n",
       "      <td>NaN</td>\n",
       "      <td>NaN</td>\n",
       "      <td>NaN</td>\n",
       "      <td>NaN</td>\n",
       "    </tr>\n",
       "    <tr>\n",
       "      <th>0</th>\n",
       "      <td>3</td>\n",
       "      <td>17cde67cb88bfc4adbd95d48841de1b8</td>\n",
       "      <td>{\"cutoff\": \"quantile_0.25\", \"eval_fairness_gro...</td>\n",
       "      <td>21.8724</td>\n",
       "      <td>89710</td>\n",
       "      <td>1.0</td>\n",
       "      <td>0.156366</td>\n",
       "      <td>0.813966</td>\n",
       "      <td>0.135132</td>\n",
       "      <td>0.841800</td>\n",
       "      <td>...</td>\n",
       "      <td>0.129439</td>\n",
       "      <td>0.174257</td>\n",
       "      <td>0.840524</td>\n",
       "      <td>0.684158</td>\n",
       "      <td>0.040963</td>\n",
       "      <td>0.051751</td>\n",
       "      <td>0.854187</td>\n",
       "      <td>0.719055</td>\n",
       "      <td>20540.0</td>\n",
       "      <td>69170.0</td>\n",
       "    </tr>\n",
       "  </tbody>\n",
       "</table>\n",
       "<p>4 rows × 50 columns</p>\n",
       "</div>"
      ],
      "text/plain": [
       "  run_no                       universe_id  \\\n",
       "0      3  17cde67cb88bfc4adbd95d48841de1b8   \n",
       "0      3  17cde67cb88bfc4adbd95d48841de1b8   \n",
       "0      3  17cde67cb88bfc4adbd95d48841de1b8   \n",
       "0      3  17cde67cb88bfc4adbd95d48841de1b8   \n",
       "\n",
       "                                   universe_settings  execution_time  \\\n",
       "0  {\"cutoff\": \"quantile_0.1\", \"eval_fairness_grou...         21.8724   \n",
       "0  {\"cutoff\": \"quantile_0.1\", \"eval_fairness_grou...         21.8724   \n",
       "0  {\"cutoff\": \"quantile_0.25\", \"eval_fairness_gro...         21.8724   \n",
       "0  {\"cutoff\": \"quantile_0.25\", \"eval_fairness_gro...         21.8724   \n",
       "\n",
       "   test_size_n  test_size_frac  fair_main_equalized_odds_difference  \\\n",
       "0        89710             1.0                             0.086855   \n",
       "0        89710             1.0                             0.086855   \n",
       "0        89710             1.0                             0.156366   \n",
       "0        89710             1.0                             0.156366   \n",
       "\n",
       "   fair_main_equalized_odds_ratio  fair_main_demographic_parity_difference  \\\n",
       "0                        0.908915                                 0.075455   \n",
       "0                        0.908915                                 0.075455   \n",
       "0                        0.813966                                 0.135132   \n",
       "0                        0.813966                                 0.135132   \n",
       "\n",
       "   fair_main_demographic_parity_ratio  ...  perf_grp_precision_0  \\\n",
       "0                            0.921251  ...                   NaN   \n",
       "0                            0.921251  ...              0.119557   \n",
       "0                            0.841800  ...                   NaN   \n",
       "0                            0.841800  ...              0.129439   \n",
       "\n",
       "   perf_grp_precision_1  perf_grp_false positive rate_0  \\\n",
       "0                   NaN                             NaN   \n",
       "0              0.147892                        0.953555   \n",
       "0                   NaN                             NaN   \n",
       "0              0.174257                        0.840524   \n",
       "\n",
       "   perf_grp_false positive rate_1  perf_grp_false negative rate_0  \\\n",
       "0                             NaN                             NaN   \n",
       "0                        0.866700                        0.006334   \n",
       "0                             NaN                             NaN   \n",
       "0                        0.684158                        0.040963   \n",
       "\n",
       "   perf_grp_false negative rate_1  perf_grp_selection rate_0  \\\n",
       "0                             NaN                        NaN   \n",
       "0                        0.012035                   0.958179   \n",
       "0                             NaN                        NaN   \n",
       "0                        0.051751                   0.854187   \n",
       "\n",
       "   perf_grp_selection rate_1  perf_grp_count_0  perf_grp_count_1  \n",
       "0                        NaN               NaN               NaN  \n",
       "0                   0.882724           20540.0           69170.0  \n",
       "0                        NaN               NaN               NaN  \n",
       "0                   0.719055           20540.0           69170.0  \n",
       "\n",
       "[4 rows x 50 columns]"
      ]
     },
     "execution_count": 64,
     "metadata": {},
     "output_type": "execute_result"
    }
   ],
   "source": [
    "final_output = universe_analysis.generate_final_output(\n",
    "    y_pred_prob=probs_test,\n",
    "    y_test=y_true,\n",
    "    org_test=org_test,\n",
    "    filter_data=filter_sub_universe_data,\n",
    "    cp_metrics_df=cp_metrics_df,\n",
    "    save=True,\n",
    ")\n",
    "final_output"
   ]
  },
  {
   "cell_type": "code",
   "execution_count": null,
   "id": "8b80a1ff",
   "metadata": {
    "papermill": {
     "duration": 0.015773,
     "end_time": "2025-08-19T17:54:15.921135",
     "exception": false,
     "start_time": "2025-08-19T17:54:15.905362",
     "status": "completed"
    },
    "tags": []
   },
   "outputs": [],
   "source": []
  },
  {
   "cell_type": "code",
   "execution_count": null,
   "id": "275c9fad",
   "metadata": {
    "papermill": {
     "duration": 0.014668,
     "end_time": "2025-08-19T17:54:15.950328",
     "exception": false,
     "start_time": "2025-08-19T17:54:15.935660",
     "status": "completed"
    },
    "tags": []
   },
   "outputs": [],
   "source": []
  }
 ],
 "metadata": {
  "celltoolbar": "Tags",
  "kernelspec": {
   "display_name": "Python (CMA Fairness)",
   "language": "python",
   "name": "cma_fair_env"
  },
  "language_info": {
   "codemirror_mode": {
    "name": "ipython",
    "version": 3
   },
   "file_extension": ".py",
   "mimetype": "text/x-python",
   "name": "python",
   "nbconvert_exporter": "python",
   "pygments_lexer": "ipython3",
   "version": "3.10.12"
  },
  "papermill": {
   "default_parameters": {},
   "duration": 32.142348,
   "end_time": "2025-08-19T17:54:16.689219",
   "environment_variables": {},
   "exception": null,
   "input_path": "universe_analysis.ipynb",
   "output_path": "output/runs/3/notebooks/m_3-17cde67cb88bfc4adbd95d48841de1b8.ipynb",
   "parameters": {
    "output_dir": "output",
    "run_no": "3",
    "seed": "2023",
    "universe": "{\"cutoff\": [\"quantile_0.1\", \"quantile_0.25\"], \"eval_fairness_grouping\": [\"majority-minority\", \"nationality-all\"], \"exclude_features\": \"none\", \"exclude_subgroups\": \"drop-non-german\", \"model\": \"penalized_logreg\", \"scale\": \"scale\", \"training_size\": \"25k\", \"training_year\": \"2014\"}",
    "universe_id": "17cde67cb88bfc4adbd95d48841de1b8"
   },
   "start_time": "2025-08-19T17:53:44.546871",
   "version": "2.6.0"
  }
 },
 "nbformat": 4,
 "nbformat_minor": 5
}