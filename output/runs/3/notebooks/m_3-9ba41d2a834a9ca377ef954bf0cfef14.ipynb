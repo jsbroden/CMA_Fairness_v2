{
 "cells": [
  {
   "cell_type": "markdown",
   "id": "ef23dbb3",
   "metadata": {
    "papermill": {
     "duration": 0.029269,
     "end_time": "2025-08-19T18:02:42.368588",
     "exception": false,
     "start_time": "2025-08-19T18:02:42.339319",
     "status": "completed"
    },
    "tags": []
   },
   "source": [
    "# Setup"
   ]
  },
  {
   "cell_type": "code",
   "execution_count": 1,
   "id": "0bc8e7dc",
   "metadata": {
    "execution": {
     "iopub.execute_input": "2025-08-19T18:02:42.392810Z",
     "iopub.status.busy": "2025-08-19T18:02:42.392001Z",
     "iopub.status.idle": "2025-08-19T18:02:42.402701Z",
     "shell.execute_reply": "2025-08-19T18:02:42.401720Z"
    },
    "papermill": {
     "duration": 0.025499,
     "end_time": "2025-08-19T18:02:42.406872",
     "exception": false,
     "start_time": "2025-08-19T18:02:42.381373",
     "status": "completed"
    },
    "tags": []
   },
   "outputs": [
    {
     "name": "stdout",
     "output_type": "stream",
     "text": [
      "/dss/dsshome1/0C/ra93lal2/cma/CMA_Fairness_v2\n"
     ]
    },
    {
     "name": "stderr",
     "output_type": "stream",
     "text": [
      "/dss/dsshome1/0C/ra93lal2/.local/share/virtualenvs/CMA_Fairness_v2-3j10GkSs/lib/python3.10/site-packages/IPython/core/magics/osm.py:393: UserWarning: This is now an optional IPython functionality, using bookmarks requires you to install the `pickleshare` library.\n",
      "  bkms = self.shell.db.get('bookmarks', {})\n",
      "/dss/dsshome1/0C/ra93lal2/.local/share/virtualenvs/CMA_Fairness_v2-3j10GkSs/lib/python3.10/site-packages/IPython/core/magics/osm.py:417: UserWarning: This is now an optional IPython functionality, setting dhist requires you to install the `pickleshare` library.\n",
      "  self.shell.db['dhist'] = compress_dhist(dhist)[-100:]\n"
     ]
    }
   ],
   "source": [
    "%cd ~/cma/CMA_Fairness_v2"
   ]
  },
  {
   "cell_type": "markdown",
   "id": "9d235661",
   "metadata": {
    "papermill": {
     "duration": 0.010918,
     "end_time": "2025-08-19T18:02:42.434209",
     "exception": false,
     "start_time": "2025-08-19T18:02:42.423291",
     "status": "completed"
    },
    "tags": []
   },
   "source": [
    "The following cell holds the definition of our parameters, these values can be overriden by rendering the with e.g. the following command:\n",
    "\n",
    "papermill -p alpha 0.2 -p ratio 0.3 universe_analysis.ipynb output/test_run.ipynb"
   ]
  },
  {
   "cell_type": "code",
   "execution_count": 2,
   "id": "4a789d8e",
   "metadata": {
    "execution": {
     "iopub.execute_input": "2025-08-19T18:02:42.478286Z",
     "iopub.status.busy": "2025-08-19T18:02:42.477562Z",
     "iopub.status.idle": "2025-08-19T18:02:42.482442Z",
     "shell.execute_reply": "2025-08-19T18:02:42.481692Z"
    },
    "papermill": {
     "duration": 0.032358,
     "end_time": "2025-08-19T18:02:42.483848",
     "exception": false,
     "start_time": "2025-08-19T18:02:42.451490",
     "status": "completed"
    },
    "tags": []
   },
   "outputs": [
    {
     "name": "stdout",
     "output_type": "stream",
     "text": [
      "Current working directory: /dss/dsshome1/0C/ra93lal2/cma/CMA_Fairness_v2\n"
     ]
    }
   ],
   "source": [
    "import os\n",
    "print(\"Current working directory:\", os.getcwd())"
   ]
  },
  {
   "cell_type": "code",
   "execution_count": 3,
   "id": "4132aaed",
   "metadata": {
    "execution": {
     "iopub.execute_input": "2025-08-19T18:02:42.506948Z",
     "iopub.status.busy": "2025-08-19T18:02:42.506101Z",
     "iopub.status.idle": "2025-08-19T18:02:42.515326Z",
     "shell.execute_reply": "2025-08-19T18:02:42.514262Z"
    },
    "papermill": {
     "duration": 0.022081,
     "end_time": "2025-08-19T18:02:42.516796",
     "exception": false,
     "start_time": "2025-08-19T18:02:42.494715",
     "status": "completed"
    },
    "tags": [
     "parameters"
    ]
   },
   "outputs": [],
   "source": [
    "run_no = 0\n",
    "universe_id = \"test\"\n",
    "universe = {\n",
    "    \"training_size\": \"5k\", # \"25k\", \"5k\", \"1k\"\n",
    "    \"training_year\": \"2012_14\", # \"2014\", \"2012_14\", \"2010_14\"\n",
    "    \"scale\": \"scale\", # \"scale\", \"do-not-scale\",\n",
    "    \"model\": \"elasticnet\", # \"logreg\", \"penalized_logreg\", \"rf\", \"gbm\", \"elasticnet\"\n",
    "    \"cutoff\": [\"quantile_0.15\", \"quantile_0.30\"],\n",
    "    \"exclude_features\": \"age\", # \"none\", \"nationality\", \"sex\", \"nationality-sex\", \"age\"\n",
    "    \"exclude_subgroups\": \"drop-non-german\", # \"keep-all\", \"drop-non-german\"\n",
    "    \"eval_fairness_grouping\": [\"majority-minority\", \"nationality-all\"]\n",
    "}\n",
    "\n",
    "output_dir=\"./output\"\n",
    "seed=0"
   ]
  },
  {
   "cell_type": "code",
   "execution_count": 4,
   "id": "f9e7a672",
   "metadata": {
    "execution": {
     "iopub.execute_input": "2025-08-19T18:02:42.543543Z",
     "iopub.status.busy": "2025-08-19T18:02:42.542284Z",
     "iopub.status.idle": "2025-08-19T18:02:42.551455Z",
     "shell.execute_reply": "2025-08-19T18:02:42.549983Z"
    },
    "papermill": {
     "duration": 0.023705,
     "end_time": "2025-08-19T18:02:42.552900",
     "exception": false,
     "start_time": "2025-08-19T18:02:42.529195",
     "status": "completed"
    },
    "tags": [
     "injected-parameters"
    ]
   },
   "outputs": [],
   "source": [
    "# Parameters\n",
    "universe_id = \"9ba41d2a834a9ca377ef954bf0cfef14\"\n",
    "run_no = \"3\"\n",
    "universe = \"{\\\"cutoff\\\": [\\\"quantile_0.1\\\", \\\"quantile_0.25\\\"], \\\"eval_fairness_grouping\\\": [\\\"majority-minority\\\", \\\"nationality-all\\\"], \\\"exclude_features\\\": \\\"none\\\", \\\"exclude_subgroups\\\": \\\"keep-all\\\", \\\"model\\\": \\\"logreg\\\", \\\"scale\\\": \\\"scale\\\", \\\"training_size\\\": \\\"25k\\\", \\\"training_year\\\": \\\"2012_14\\\"}\"\n",
    "output_dir = \"output\"\n",
    "seed = \"2023\"\n"
   ]
  },
  {
   "cell_type": "code",
   "execution_count": 5,
   "id": "a5d7941f",
   "metadata": {
    "execution": {
     "iopub.execute_input": "2025-08-19T18:02:42.574823Z",
     "iopub.status.busy": "2025-08-19T18:02:42.574383Z",
     "iopub.status.idle": "2025-08-19T18:02:42.579329Z",
     "shell.execute_reply": "2025-08-19T18:02:42.578382Z"
    },
    "papermill": {
     "duration": 0.017639,
     "end_time": "2025-08-19T18:02:42.581032",
     "exception": false,
     "start_time": "2025-08-19T18:02:42.563393",
     "status": "completed"
    },
    "tags": []
   },
   "outputs": [],
   "source": [
    "import json\n",
    "if isinstance(universe, str):\n",
    "    universe = json.loads(universe)"
   ]
  },
  {
   "cell_type": "code",
   "execution_count": 6,
   "id": "7076ccb1",
   "metadata": {
    "execution": {
     "iopub.execute_input": "2025-08-19T18:02:42.600930Z",
     "iopub.status.busy": "2025-08-19T18:02:42.600587Z",
     "iopub.status.idle": "2025-08-19T18:02:42.636912Z",
     "shell.execute_reply": "2025-08-19T18:02:42.636021Z"
    },
    "papermill": {
     "duration": 0.048546,
     "end_time": "2025-08-19T18:02:42.639112",
     "exception": false,
     "start_time": "2025-08-19T18:02:42.590566",
     "status": "completed"
    },
    "tags": []
   },
   "outputs": [],
   "source": [
    "# Auto-reload the custom package\n",
    "%load_ext autoreload\n",
    "%autoreload 1\n",
    "%aimport fairness_multiverse"
   ]
  },
  {
   "cell_type": "code",
   "execution_count": 7,
   "id": "94c8eb93",
   "metadata": {
    "execution": {
     "iopub.execute_input": "2025-08-19T18:02:42.671346Z",
     "iopub.status.busy": "2025-08-19T18:02:42.670913Z",
     "iopub.status.idle": "2025-08-19T18:02:44.333296Z",
     "shell.execute_reply": "2025-08-19T18:02:44.330710Z"
    },
    "papermill": {
     "duration": 1.678616,
     "end_time": "2025-08-19T18:02:44.335292",
     "exception": false,
     "start_time": "2025-08-19T18:02:42.656676",
     "status": "completed"
    },
    "tags": []
   },
   "outputs": [],
   "source": [
    "from fairness_multiverse.universe import UniverseAnalysis\n",
    "\n",
    "universe_analysis = UniverseAnalysis(\n",
    "    run_no = run_no,\n",
    "    universe_id = universe_id,\n",
    "    universe = universe,\n",
    "    output_dir=output_dir,\n",
    ")"
   ]
  },
  {
   "cell_type": "code",
   "execution_count": 8,
   "id": "2a6381cf",
   "metadata": {
    "execution": {
     "iopub.execute_input": "2025-08-19T18:02:44.377631Z",
     "iopub.status.busy": "2025-08-19T18:02:44.377011Z",
     "iopub.status.idle": "2025-08-19T18:02:44.385131Z",
     "shell.execute_reply": "2025-08-19T18:02:44.384279Z"
    },
    "papermill": {
     "duration": 0.033044,
     "end_time": "2025-08-19T18:02:44.386818",
     "exception": false,
     "start_time": "2025-08-19T18:02:44.353774",
     "status": "completed"
    },
    "tags": []
   },
   "outputs": [
    {
     "name": "stdout",
     "output_type": "stream",
     "text": [
      "Using Seed: 2023\n"
     ]
    }
   ],
   "source": [
    "import numpy as np\n",
    "parsed_seed = int(seed)\n",
    "np.random.seed(parsed_seed)\n",
    "print(f\"Using Seed: {parsed_seed}\")"
   ]
  },
  {
   "cell_type": "markdown",
   "id": "b6e958b4",
   "metadata": {
    "papermill": {
     "duration": 0.010223,
     "end_time": "2025-08-19T18:02:44.412596",
     "exception": false,
     "start_time": "2025-08-19T18:02:44.402373",
     "status": "completed"
    },
    "tags": []
   },
   "source": [
    "# Loading Data"
   ]
  },
  {
   "cell_type": "code",
   "execution_count": 9,
   "id": "98701482",
   "metadata": {
    "execution": {
     "iopub.execute_input": "2025-08-19T18:02:44.432221Z",
     "iopub.status.busy": "2025-08-19T18:02:44.431802Z",
     "iopub.status.idle": "2025-08-19T18:02:54.667499Z",
     "shell.execute_reply": "2025-08-19T18:02:54.665007Z"
    },
    "papermill": {
     "duration": 10.247622,
     "end_time": "2025-08-19T18:02:54.669278",
     "exception": false,
     "start_time": "2025-08-19T18:02:44.421656",
     "status": "completed"
    },
    "tags": []
   },
   "outputs": [
    {
     "name": "stdout",
     "output_type": "stream",
     "text": [
      "Loading SIAB data from cache: data/siab_cached.csv.gz\n"
     ]
    },
    {
     "name": "stdout",
     "output_type": "stream",
     "text": [
      "(643690, 164)\n"
     ]
    }
   ],
   "source": [
    "from pathlib import Path\n",
    "import pandas as pd\n",
    "\n",
    "# File paths\n",
    "raw_file = Path(\"data/raw/siab.csv\")\n",
    "cache_file = Path(\"data/siab_cached.csv.gz\")\n",
    "\n",
    "# Ensure cache directory exists\n",
    "cache_file.parent.mkdir(parents=True, exist_ok=True)\n",
    "\n",
    "# Load with simple caching\n",
    "if cache_file.exists():\n",
    "    print(f\"Loading SIAB data from cache: {cache_file}\")\n",
    "    siab = pd.read_csv(cache_file, compression='gzip')\n",
    "else:\n",
    "    print(f\"Cache not found. Reading raw SIAB data: {raw_file}\")\n",
    "    siab = pd.read_csv(raw_file)\n",
    "    siab.to_csv(cache_file, index=False, compression='gzip')\n",
    "    print(f\"Cached SIAB data to: {cache_file}\")\n",
    "\n",
    "print(siab.shape)"
   ]
  },
  {
   "cell_type": "code",
   "execution_count": 10,
   "id": "058d2abb",
   "metadata": {
    "execution": {
     "iopub.execute_input": "2025-08-19T18:02:54.715178Z",
     "iopub.status.busy": "2025-08-19T18:02:54.714650Z",
     "iopub.status.idle": "2025-08-19T18:02:54.845811Z",
     "shell.execute_reply": "2025-08-19T18:02:54.844523Z"
    },
    "papermill": {
     "duration": 0.159366,
     "end_time": "2025-08-19T18:02:54.847620",
     "exception": false,
     "start_time": "2025-08-19T18:02:54.688254",
     "status": "completed"
    },
    "tags": []
   },
   "outputs": [
    {
     "data": {
      "text/html": [
       "<div>\n",
       "<style scoped>\n",
       "    .dataframe tbody tr th:only-of-type {\n",
       "        vertical-align: middle;\n",
       "    }\n",
       "\n",
       "    .dataframe tbody tr th {\n",
       "        vertical-align: top;\n",
       "    }\n",
       "\n",
       "    .dataframe thead th {\n",
       "        text-align: right;\n",
       "    }\n",
       "</style>\n",
       "<table border=\"1\" class=\"dataframe\">\n",
       "  <thead>\n",
       "    <tr style=\"text-align: right;\">\n",
       "      <th></th>\n",
       "      <th>persnr</th>\n",
       "      <th>year</th>\n",
       "      <th>nrEntry</th>\n",
       "      <th>ltue</th>\n",
       "      <th>employed_before</th>\n",
       "      <th>receipt_leh_before</th>\n",
       "      <th>receipt_lhg_before</th>\n",
       "      <th>se_before</th>\n",
       "      <th>ASU_notue_seeking_before</th>\n",
       "      <th>ASU_other_before</th>\n",
       "      <th>...</th>\n",
       "      <th>minijob_tot_dur_byage</th>\n",
       "      <th>ft_tot_dur_byage</th>\n",
       "      <th>befrist_tot_dur_byage</th>\n",
       "      <th>leih_tot_dur_byage</th>\n",
       "      <th>LHG_tot_dur_byage</th>\n",
       "      <th>LEH_tot_dur_byage</th>\n",
       "      <th>almp_tot_dur_byage</th>\n",
       "      <th>almp_aw_tot_dur_byage</th>\n",
       "      <th>se_tot_dur_byage</th>\n",
       "      <th>seeking1_tot_dur_byage</th>\n",
       "    </tr>\n",
       "  </thead>\n",
       "  <tbody>\n",
       "    <tr>\n",
       "      <th>0</th>\n",
       "      <td>7</td>\n",
       "      <td>2015</td>\n",
       "      <td>1</td>\n",
       "      <td>0</td>\n",
       "      <td>1</td>\n",
       "      <td>0</td>\n",
       "      <td>0</td>\n",
       "      <td>0</td>\n",
       "      <td>1</td>\n",
       "      <td>0</td>\n",
       "      <td>...</td>\n",
       "      <td>0.000000</td>\n",
       "      <td>0.000000</td>\n",
       "      <td>15.043478</td>\n",
       "      <td>0.000000</td>\n",
       "      <td>0.000000</td>\n",
       "      <td>0.000000</td>\n",
       "      <td>0.000000</td>\n",
       "      <td>0.000000</td>\n",
       "      <td>0.000000</td>\n",
       "      <td>0.000000</td>\n",
       "    </tr>\n",
       "    <tr>\n",
       "      <th>1</th>\n",
       "      <td>18</td>\n",
       "      <td>2010</td>\n",
       "      <td>1</td>\n",
       "      <td>1</td>\n",
       "      <td>0</td>\n",
       "      <td>0</td>\n",
       "      <td>0</td>\n",
       "      <td>0</td>\n",
       "      <td>0</td>\n",
       "      <td>0</td>\n",
       "      <td>...</td>\n",
       "      <td>0.000000</td>\n",
       "      <td>0.000000</td>\n",
       "      <td>0.000000</td>\n",
       "      <td>0.000000</td>\n",
       "      <td>0.000000</td>\n",
       "      <td>0.000000</td>\n",
       "      <td>0.000000</td>\n",
       "      <td>0.000000</td>\n",
       "      <td>0.000000</td>\n",
       "      <td>0.000000</td>\n",
       "    </tr>\n",
       "    <tr>\n",
       "      <th>2</th>\n",
       "      <td>18</td>\n",
       "      <td>2011</td>\n",
       "      <td>2</td>\n",
       "      <td>0</td>\n",
       "      <td>1</td>\n",
       "      <td>0</td>\n",
       "      <td>1</td>\n",
       "      <td>0</td>\n",
       "      <td>1</td>\n",
       "      <td>0</td>\n",
       "      <td>...</td>\n",
       "      <td>2.714286</td>\n",
       "      <td>2.714286</td>\n",
       "      <td>0.000000</td>\n",
       "      <td>0.000000</td>\n",
       "      <td>10.775510</td>\n",
       "      <td>0.000000</td>\n",
       "      <td>8.367347</td>\n",
       "      <td>0.000000</td>\n",
       "      <td>0.000000</td>\n",
       "      <td>9.836735</td>\n",
       "    </tr>\n",
       "    <tr>\n",
       "      <th>3</th>\n",
       "      <td>18</td>\n",
       "      <td>2012</td>\n",
       "      <td>3</td>\n",
       "      <td>0</td>\n",
       "      <td>1</td>\n",
       "      <td>0</td>\n",
       "      <td>1</td>\n",
       "      <td>0</td>\n",
       "      <td>1</td>\n",
       "      <td>0</td>\n",
       "      <td>...</td>\n",
       "      <td>4.200000</td>\n",
       "      <td>4.200000</td>\n",
       "      <td>0.000000</td>\n",
       "      <td>0.000000</td>\n",
       "      <td>12.100000</td>\n",
       "      <td>0.000000</td>\n",
       "      <td>9.400000</td>\n",
       "      <td>0.000000</td>\n",
       "      <td>0.000000</td>\n",
       "      <td>9.960000</td>\n",
       "    </tr>\n",
       "    <tr>\n",
       "      <th>4</th>\n",
       "      <td>18</td>\n",
       "      <td>2012</td>\n",
       "      <td>4</td>\n",
       "      <td>0</td>\n",
       "      <td>1</td>\n",
       "      <td>0</td>\n",
       "      <td>1</td>\n",
       "      <td>0</td>\n",
       "      <td>1</td>\n",
       "      <td>0</td>\n",
       "      <td>...</td>\n",
       "      <td>5.460000</td>\n",
       "      <td>5.460000</td>\n",
       "      <td>0.000000</td>\n",
       "      <td>0.000000</td>\n",
       "      <td>13.360000</td>\n",
       "      <td>0.000000</td>\n",
       "      <td>10.320000</td>\n",
       "      <td>0.000000</td>\n",
       "      <td>0.000000</td>\n",
       "      <td>10.280000</td>\n",
       "    </tr>\n",
       "    <tr>\n",
       "      <th>...</th>\n",
       "      <td>...</td>\n",
       "      <td>...</td>\n",
       "      <td>...</td>\n",
       "      <td>...</td>\n",
       "      <td>...</td>\n",
       "      <td>...</td>\n",
       "      <td>...</td>\n",
       "      <td>...</td>\n",
       "      <td>...</td>\n",
       "      <td>...</td>\n",
       "      <td>...</td>\n",
       "      <td>...</td>\n",
       "      <td>...</td>\n",
       "      <td>...</td>\n",
       "      <td>...</td>\n",
       "      <td>...</td>\n",
       "      <td>...</td>\n",
       "      <td>...</td>\n",
       "      <td>...</td>\n",
       "      <td>...</td>\n",
       "      <td>...</td>\n",
       "    </tr>\n",
       "    <tr>\n",
       "      <th>643685</th>\n",
       "      <td>1827860</td>\n",
       "      <td>2013</td>\n",
       "      <td>1</td>\n",
       "      <td>0</td>\n",
       "      <td>0</td>\n",
       "      <td>0</td>\n",
       "      <td>1</td>\n",
       "      <td>0</td>\n",
       "      <td>0</td>\n",
       "      <td>1</td>\n",
       "      <td>...</td>\n",
       "      <td>0.000000</td>\n",
       "      <td>0.000000</td>\n",
       "      <td>0.000000</td>\n",
       "      <td>0.000000</td>\n",
       "      <td>0.612903</td>\n",
       "      <td>0.000000</td>\n",
       "      <td>0.000000</td>\n",
       "      <td>0.000000</td>\n",
       "      <td>0.000000</td>\n",
       "      <td>0.000000</td>\n",
       "    </tr>\n",
       "    <tr>\n",
       "      <th>643686</th>\n",
       "      <td>1827860</td>\n",
       "      <td>2015</td>\n",
       "      <td>2</td>\n",
       "      <td>1</td>\n",
       "      <td>0</td>\n",
       "      <td>0</td>\n",
       "      <td>1</td>\n",
       "      <td>0</td>\n",
       "      <td>1</td>\n",
       "      <td>0</td>\n",
       "      <td>...</td>\n",
       "      <td>0.000000</td>\n",
       "      <td>0.000000</td>\n",
       "      <td>0.212121</td>\n",
       "      <td>0.212121</td>\n",
       "      <td>17.363636</td>\n",
       "      <td>0.000000</td>\n",
       "      <td>8.909091</td>\n",
       "      <td>0.000000</td>\n",
       "      <td>0.000000</td>\n",
       "      <td>7.121212</td>\n",
       "    </tr>\n",
       "    <tr>\n",
       "      <th>643687</th>\n",
       "      <td>1827860</td>\n",
       "      <td>2016</td>\n",
       "      <td>3</td>\n",
       "      <td>1</td>\n",
       "      <td>0</td>\n",
       "      <td>0</td>\n",
       "      <td>1</td>\n",
       "      <td>1</td>\n",
       "      <td>0</td>\n",
       "      <td>1</td>\n",
       "      <td>...</td>\n",
       "      <td>0.000000</td>\n",
       "      <td>0.000000</td>\n",
       "      <td>0.294118</td>\n",
       "      <td>0.205882</td>\n",
       "      <td>34.705882</td>\n",
       "      <td>0.000000</td>\n",
       "      <td>10.352941</td>\n",
       "      <td>1.705882</td>\n",
       "      <td>1.705882</td>\n",
       "      <td>23.911765</td>\n",
       "    </tr>\n",
       "    <tr>\n",
       "      <th>643688</th>\n",
       "      <td>1827869</td>\n",
       "      <td>2013</td>\n",
       "      <td>1</td>\n",
       "      <td>1</td>\n",
       "      <td>1</td>\n",
       "      <td>0</td>\n",
       "      <td>0</td>\n",
       "      <td>0</td>\n",
       "      <td>1</td>\n",
       "      <td>0</td>\n",
       "      <td>...</td>\n",
       "      <td>0.000000</td>\n",
       "      <td>0.000000</td>\n",
       "      <td>0.000000</td>\n",
       "      <td>0.000000</td>\n",
       "      <td>0.000000</td>\n",
       "      <td>0.525424</td>\n",
       "      <td>0.000000</td>\n",
       "      <td>0.000000</td>\n",
       "      <td>0.000000</td>\n",
       "      <td>0.000000</td>\n",
       "    </tr>\n",
       "    <tr>\n",
       "      <th>643689</th>\n",
       "      <td>1827869</td>\n",
       "      <td>2014</td>\n",
       "      <td>2</td>\n",
       "      <td>0</td>\n",
       "      <td>0</td>\n",
       "      <td>1</td>\n",
       "      <td>0</td>\n",
       "      <td>0</td>\n",
       "      <td>1</td>\n",
       "      <td>0</td>\n",
       "      <td>...</td>\n",
       "      <td>0.000000</td>\n",
       "      <td>0.666667</td>\n",
       "      <td>0.666667</td>\n",
       "      <td>0.000000</td>\n",
       "      <td>0.000000</td>\n",
       "      <td>8.950000</td>\n",
       "      <td>1.033333</td>\n",
       "      <td>0.083333</td>\n",
       "      <td>0.083333</td>\n",
       "      <td>8.133333</td>\n",
       "    </tr>\n",
       "  </tbody>\n",
       "</table>\n",
       "<p>643690 rows × 164 columns</p>\n",
       "</div>"
      ],
      "text/plain": [
       "         persnr  year  nrEntry  ltue  employed_before  receipt_leh_before  \\\n",
       "0             7  2015        1     0                1                   0   \n",
       "1            18  2010        1     1                0                   0   \n",
       "2            18  2011        2     0                1                   0   \n",
       "3            18  2012        3     0                1                   0   \n",
       "4            18  2012        4     0                1                   0   \n",
       "...         ...   ...      ...   ...              ...                 ...   \n",
       "643685  1827860  2013        1     0                0                   0   \n",
       "643686  1827860  2015        2     1                0                   0   \n",
       "643687  1827860  2016        3     1                0                   0   \n",
       "643688  1827869  2013        1     1                1                   0   \n",
       "643689  1827869  2014        2     0                0                   1   \n",
       "\n",
       "        receipt_lhg_before  se_before  ASU_notue_seeking_before  \\\n",
       "0                        0          0                         1   \n",
       "1                        0          0                         0   \n",
       "2                        1          0                         1   \n",
       "3                        1          0                         1   \n",
       "4                        1          0                         1   \n",
       "...                    ...        ...                       ...   \n",
       "643685                   1          0                         0   \n",
       "643686                   1          0                         1   \n",
       "643687                   1          1                         0   \n",
       "643688                   0          0                         1   \n",
       "643689                   0          0                         1   \n",
       "\n",
       "        ASU_other_before  ...  minijob_tot_dur_byage  ft_tot_dur_byage  \\\n",
       "0                      0  ...               0.000000          0.000000   \n",
       "1                      0  ...               0.000000          0.000000   \n",
       "2                      0  ...               2.714286          2.714286   \n",
       "3                      0  ...               4.200000          4.200000   \n",
       "4                      0  ...               5.460000          5.460000   \n",
       "...                  ...  ...                    ...               ...   \n",
       "643685                 1  ...               0.000000          0.000000   \n",
       "643686                 0  ...               0.000000          0.000000   \n",
       "643687                 1  ...               0.000000          0.000000   \n",
       "643688                 0  ...               0.000000          0.000000   \n",
       "643689                 0  ...               0.000000          0.666667   \n",
       "\n",
       "        befrist_tot_dur_byage  leih_tot_dur_byage  LHG_tot_dur_byage  \\\n",
       "0                   15.043478            0.000000           0.000000   \n",
       "1                    0.000000            0.000000           0.000000   \n",
       "2                    0.000000            0.000000          10.775510   \n",
       "3                    0.000000            0.000000          12.100000   \n",
       "4                    0.000000            0.000000          13.360000   \n",
       "...                       ...                 ...                ...   \n",
       "643685               0.000000            0.000000           0.612903   \n",
       "643686               0.212121            0.212121          17.363636   \n",
       "643687               0.294118            0.205882          34.705882   \n",
       "643688               0.000000            0.000000           0.000000   \n",
       "643689               0.666667            0.000000           0.000000   \n",
       "\n",
       "        LEH_tot_dur_byage  almp_tot_dur_byage  almp_aw_tot_dur_byage  \\\n",
       "0                0.000000            0.000000               0.000000   \n",
       "1                0.000000            0.000000               0.000000   \n",
       "2                0.000000            8.367347               0.000000   \n",
       "3                0.000000            9.400000               0.000000   \n",
       "4                0.000000           10.320000               0.000000   \n",
       "...                   ...                 ...                    ...   \n",
       "643685           0.000000            0.000000               0.000000   \n",
       "643686           0.000000            8.909091               0.000000   \n",
       "643687           0.000000           10.352941               1.705882   \n",
       "643688           0.525424            0.000000               0.000000   \n",
       "643689           8.950000            1.033333               0.083333   \n",
       "\n",
       "        se_tot_dur_byage  seeking1_tot_dur_byage  \n",
       "0               0.000000                0.000000  \n",
       "1               0.000000                0.000000  \n",
       "2               0.000000                9.836735  \n",
       "3               0.000000                9.960000  \n",
       "4               0.000000               10.280000  \n",
       "...                  ...                     ...  \n",
       "643685          0.000000                0.000000  \n",
       "643686          0.000000                7.121212  \n",
       "643687          1.705882               23.911765  \n",
       "643688          0.000000                0.000000  \n",
       "643689          0.083333                8.133333  \n",
       "\n",
       "[643690 rows x 164 columns]"
      ]
     },
     "execution_count": 10,
     "metadata": {},
     "output_type": "execute_result"
    }
   ],
   "source": [
    "siab"
   ]
  },
  {
   "cell_type": "markdown",
   "id": "1f87e805",
   "metadata": {
    "papermill": {
     "duration": 0.035422,
     "end_time": "2025-08-19T18:02:54.895434",
     "exception": false,
     "start_time": "2025-08-19T18:02:54.860012",
     "status": "completed"
    },
    "tags": []
   },
   "source": [
    "# Splitting Data and Setting Training Data Size"
   ]
  },
  {
   "cell_type": "code",
   "execution_count": 11,
   "id": "910ae358",
   "metadata": {
    "execution": {
     "iopub.execute_input": "2025-08-19T18:02:54.948863Z",
     "iopub.status.busy": "2025-08-19T18:02:54.948415Z",
     "iopub.status.idle": "2025-08-19T18:02:55.729667Z",
     "shell.execute_reply": "2025-08-19T18:02:55.728667Z"
    },
    "papermill": {
     "duration": 0.811669,
     "end_time": "2025-08-19T18:02:55.732870",
     "exception": false,
     "start_time": "2025-08-19T18:02:54.921201",
     "status": "completed"
    },
    "tags": []
   },
   "outputs": [],
   "source": [
    "from fairness_multiverse.universe import sample_by_year_size\n",
    "\n",
    "siab_train = sample_by_year_size(siab,\n",
    "                               training_year=universe[\"training_year\"],\n",
    "                               training_size=universe[\"training_size\"])"
   ]
  },
  {
   "cell_type": "code",
   "execution_count": 12,
   "id": "919c8ff5",
   "metadata": {
    "execution": {
     "iopub.execute_input": "2025-08-19T18:02:55.771929Z",
     "iopub.status.busy": "2025-08-19T18:02:55.770620Z",
     "iopub.status.idle": "2025-08-19T18:02:55.780833Z",
     "shell.execute_reply": "2025-08-19T18:02:55.779302Z"
    },
    "papermill": {
     "duration": 0.025662,
     "end_time": "2025-08-19T18:02:55.782459",
     "exception": false,
     "start_time": "2025-08-19T18:02:55.756797",
     "status": "completed"
    },
    "tags": []
   },
   "outputs": [
    {
     "data": {
      "text/plain": [
       "(25000, 164)"
      ]
     },
     "execution_count": 12,
     "metadata": {},
     "output_type": "execute_result"
    }
   ],
   "source": [
    "siab_train.shape"
   ]
  },
  {
   "cell_type": "code",
   "execution_count": 13,
   "id": "feb13bf4",
   "metadata": {
    "execution": {
     "iopub.execute_input": "2025-08-19T18:02:55.808885Z",
     "iopub.status.busy": "2025-08-19T18:02:55.807578Z",
     "iopub.status.idle": "2025-08-19T18:02:55.822633Z",
     "shell.execute_reply": "2025-08-19T18:02:55.821424Z"
    },
    "papermill": {
     "duration": 0.02838,
     "end_time": "2025-08-19T18:02:55.824163",
     "exception": false,
     "start_time": "2025-08-19T18:02:55.795783",
     "status": "completed"
    },
    "tags": []
   },
   "outputs": [
    {
     "data": {
      "text/plain": [
       "year\n",
       "2012    8334\n",
       "2013    8333\n",
       "2014    8333\n",
       "dtype: int64"
      ]
     },
     "metadata": {},
     "output_type": "display_data"
    }
   ],
   "source": [
    "display(siab_train.groupby(\"year\").size())"
   ]
  },
  {
   "cell_type": "code",
   "execution_count": 14,
   "id": "0997782f",
   "metadata": {
    "execution": {
     "iopub.execute_input": "2025-08-19T18:02:55.854884Z",
     "iopub.status.busy": "2025-08-19T18:02:55.853518Z",
     "iopub.status.idle": "2025-08-19T18:02:56.129304Z",
     "shell.execute_reply": "2025-08-19T18:02:56.128329Z"
    },
    "papermill": {
     "duration": 0.290792,
     "end_time": "2025-08-19T18:02:56.131337",
     "exception": false,
     "start_time": "2025-08-19T18:02:55.840545",
     "status": "completed"
    },
    "tags": []
   },
   "outputs": [],
   "source": [
    "#siab_train = siab_s[siab_s.year < 2015]\n",
    "siab_calib = siab[siab.year == 2015]\n",
    "siab_test = siab[siab.year == 2016]"
   ]
  },
  {
   "cell_type": "code",
   "execution_count": 15,
   "id": "2c1e4012",
   "metadata": {
    "execution": {
     "iopub.execute_input": "2025-08-19T18:02:56.173503Z",
     "iopub.status.busy": "2025-08-19T18:02:56.172789Z",
     "iopub.status.idle": "2025-08-19T18:02:56.181615Z",
     "shell.execute_reply": "2025-08-19T18:02:56.179782Z"
    },
    "papermill": {
     "duration": 0.036204,
     "end_time": "2025-08-19T18:02:56.184399",
     "exception": false,
     "start_time": "2025-08-19T18:02:56.148195",
     "status": "completed"
    },
    "tags": []
   },
   "outputs": [],
   "source": [
    "#siab_calib.shape"
   ]
  },
  {
   "cell_type": "code",
   "execution_count": 16,
   "id": "f66b54ca",
   "metadata": {
    "execution": {
     "iopub.execute_input": "2025-08-19T18:02:56.218851Z",
     "iopub.status.busy": "2025-08-19T18:02:56.217536Z",
     "iopub.status.idle": "2025-08-19T18:02:56.225092Z",
     "shell.execute_reply": "2025-08-19T18:02:56.223692Z"
    },
    "papermill": {
     "duration": 0.022725,
     "end_time": "2025-08-19T18:02:56.226920",
     "exception": false,
     "start_time": "2025-08-19T18:02:56.204195",
     "status": "completed"
    },
    "tags": []
   },
   "outputs": [],
   "source": [
    "#siab_test.shape"
   ]
  },
  {
   "cell_type": "code",
   "execution_count": 17,
   "id": "27e4384d",
   "metadata": {
    "execution": {
     "iopub.execute_input": "2025-08-19T18:02:56.254415Z",
     "iopub.status.busy": "2025-08-19T18:02:56.253046Z",
     "iopub.status.idle": "2025-08-19T18:02:56.378796Z",
     "shell.execute_reply": "2025-08-19T18:02:56.377715Z"
    },
    "papermill": {
     "duration": 0.140637,
     "end_time": "2025-08-19T18:02:56.380676",
     "exception": false,
     "start_time": "2025-08-19T18:02:56.240039",
     "status": "completed"
    },
    "tags": []
   },
   "outputs": [],
   "source": [
    "X_train = siab_train.iloc[:,4:164]\n",
    "y_train = siab_train.iloc[:, [3]]"
   ]
  },
  {
   "cell_type": "code",
   "execution_count": 18,
   "id": "08ee8389",
   "metadata": {
    "execution": {
     "iopub.execute_input": "2025-08-19T18:02:56.419049Z",
     "iopub.status.busy": "2025-08-19T18:02:56.417963Z",
     "iopub.status.idle": "2025-08-19T18:02:56.469172Z",
     "shell.execute_reply": "2025-08-19T18:02:56.467768Z"
    },
    "papermill": {
     "duration": 0.070678,
     "end_time": "2025-08-19T18:02:56.470932",
     "exception": false,
     "start_time": "2025-08-19T18:02:56.400254",
     "status": "completed"
    },
    "tags": []
   },
   "outputs": [],
   "source": [
    "X_calib = siab_calib.iloc[:,4:164]\n",
    "y_calib = siab_calib.iloc[:, [3]]"
   ]
  },
  {
   "cell_type": "code",
   "execution_count": 19,
   "id": "b7ff42e0",
   "metadata": {
    "execution": {
     "iopub.execute_input": "2025-08-19T18:02:56.496291Z",
     "iopub.status.busy": "2025-08-19T18:02:56.495145Z",
     "iopub.status.idle": "2025-08-19T18:02:56.551156Z",
     "shell.execute_reply": "2025-08-19T18:02:56.550238Z"
    },
    "papermill": {
     "duration": 0.070406,
     "end_time": "2025-08-19T18:02:56.552881",
     "exception": false,
     "start_time": "2025-08-19T18:02:56.482475",
     "status": "completed"
    },
    "tags": []
   },
   "outputs": [],
   "source": [
    "X_test = siab_test.iloc[:,4:164]\n",
    "y_true = siab_test.iloc[:, [3]]"
   ]
  },
  {
   "cell_type": "code",
   "execution_count": 20,
   "id": "0275101e",
   "metadata": {
    "execution": {
     "iopub.execute_input": "2025-08-19T18:02:56.588874Z",
     "iopub.status.busy": "2025-08-19T18:02:56.588455Z",
     "iopub.status.idle": "2025-08-19T18:02:56.699740Z",
     "shell.execute_reply": "2025-08-19T18:02:56.698151Z"
    },
    "papermill": {
     "duration": 0.129074,
     "end_time": "2025-08-19T18:02:56.702977",
     "exception": false,
     "start_time": "2025-08-19T18:02:56.573903",
     "status": "completed"
    },
    "tags": []
   },
   "outputs": [],
   "source": [
    "# Auxiliary data needed downstream in the pipeline\n",
    "\n",
    "org_train = X_train.copy()\n",
    "org_test = X_test.copy()\n",
    "org_calib = X_calib.copy()"
   ]
  },
  {
   "cell_type": "markdown",
   "id": "b461e618",
   "metadata": {
    "papermill": {
     "duration": 0.015407,
     "end_time": "2025-08-19T18:02:56.744017",
     "exception": false,
     "start_time": "2025-08-19T18:02:56.728610",
     "status": "completed"
    },
    "tags": []
   },
   "source": [
    "# Preprocessing Data"
   ]
  },
  {
   "cell_type": "code",
   "execution_count": 21,
   "id": "78e74c4b",
   "metadata": {
    "execution": {
     "iopub.execute_input": "2025-08-19T18:02:56.769072Z",
     "iopub.status.busy": "2025-08-19T18:02:56.767975Z",
     "iopub.status.idle": "2025-08-19T18:02:56.776218Z",
     "shell.execute_reply": "2025-08-19T18:02:56.774972Z"
    },
    "papermill": {
     "duration": 0.023591,
     "end_time": "2025-08-19T18:02:56.777877",
     "exception": false,
     "start_time": "2025-08-19T18:02:56.754286",
     "status": "completed"
    },
    "tags": []
   },
   "outputs": [],
   "source": [
    "# EXCLUDE PROTECTED FEATURES\n",
    "# --------------------------\n",
    "\n",
    "excluded_features = universe[\"exclude_features\"].split(\"-\")\n",
    "excluded_features_dictionary = {\n",
    "    \"nationality\": [\"maxdeutsch1\", \"maxdeutsch.Missing.\"],\n",
    "    \"sex\": [\"frau1\"],\n",
    "    \"age\": [\"age\"],\n",
    "}"
   ]
  },
  {
   "cell_type": "code",
   "execution_count": 22,
   "id": "f8e63555",
   "metadata": {
    "execution": {
     "iopub.execute_input": "2025-08-19T18:02:56.806652Z",
     "iopub.status.busy": "2025-08-19T18:02:56.805605Z",
     "iopub.status.idle": "2025-08-19T18:02:56.813452Z",
     "shell.execute_reply": "2025-08-19T18:02:56.812206Z"
    },
    "papermill": {
     "duration": 0.021199,
     "end_time": "2025-08-19T18:02:56.814905",
     "exception": false,
     "start_time": "2025-08-19T18:02:56.793706",
     "status": "completed"
    },
    "tags": []
   },
   "outputs": [],
   "source": [
    "excluded_features_columns = [\n",
    "    excluded_features_dictionary[f] for f in excluded_features if len(f) > 0 and f != \"none\"\n",
    "]"
   ]
  },
  {
   "cell_type": "code",
   "execution_count": 23,
   "id": "da781f7c",
   "metadata": {
    "execution": {
     "iopub.execute_input": "2025-08-19T18:02:56.839303Z",
     "iopub.status.busy": "2025-08-19T18:02:56.838235Z",
     "iopub.status.idle": "2025-08-19T18:02:56.845341Z",
     "shell.execute_reply": "2025-08-19T18:02:56.843990Z"
    },
    "papermill": {
     "duration": 0.020652,
     "end_time": "2025-08-19T18:02:56.846855",
     "exception": false,
     "start_time": "2025-08-19T18:02:56.826203",
     "status": "completed"
    },
    "tags": []
   },
   "outputs": [],
   "source": [
    "from fairness_multiverse.universe import flatten_once\n",
    "\n",
    "excluded_features_columns = flatten_once(excluded_features_columns)"
   ]
  },
  {
   "cell_type": "code",
   "execution_count": 24,
   "id": "37fef0f0",
   "metadata": {
    "execution": {
     "iopub.execute_input": "2025-08-19T18:02:56.873107Z",
     "iopub.status.busy": "2025-08-19T18:02:56.872122Z",
     "iopub.status.idle": "2025-08-19T18:02:56.880710Z",
     "shell.execute_reply": "2025-08-19T18:02:56.879298Z"
    },
    "papermill": {
     "duration": 0.02205,
     "end_time": "2025-08-19T18:02:56.882234",
     "exception": false,
     "start_time": "2025-08-19T18:02:56.860184",
     "status": "completed"
    },
    "tags": []
   },
   "outputs": [],
   "source": [
    "if len(excluded_features_columns) > 0:\n",
    "    print(f\"Dropping features: {excluded_features_columns}\")\n",
    "    X_train.drop(excluded_features_columns, axis=1, inplace=True)"
   ]
  },
  {
   "cell_type": "code",
   "execution_count": 25,
   "id": "d029e3e9",
   "metadata": {
    "execution": {
     "iopub.execute_input": "2025-08-19T18:02:56.912316Z",
     "iopub.status.busy": "2025-08-19T18:02:56.909356Z",
     "iopub.status.idle": "2025-08-19T18:02:56.917781Z",
     "shell.execute_reply": "2025-08-19T18:02:56.917200Z"
    },
    "papermill": {
     "duration": 0.023009,
     "end_time": "2025-08-19T18:02:56.918953",
     "exception": false,
     "start_time": "2025-08-19T18:02:56.895944",
     "status": "completed"
    },
    "tags": []
   },
   "outputs": [],
   "source": [
    "if len(excluded_features_columns) > 0:\n",
    "    print(f\"Dropping features: {excluded_features_columns}\")\n",
    "    X_test.drop(excluded_features_columns, axis=1, inplace=True)"
   ]
  },
  {
   "cell_type": "code",
   "execution_count": 26,
   "id": "01d571f0",
   "metadata": {
    "execution": {
     "iopub.execute_input": "2025-08-19T18:02:56.945978Z",
     "iopub.status.busy": "2025-08-19T18:02:56.945684Z",
     "iopub.status.idle": "2025-08-19T18:02:56.950435Z",
     "shell.execute_reply": "2025-08-19T18:02:56.949658Z"
    },
    "papermill": {
     "duration": 0.017457,
     "end_time": "2025-08-19T18:02:56.951796",
     "exception": false,
     "start_time": "2025-08-19T18:02:56.934339",
     "status": "completed"
    },
    "tags": []
   },
   "outputs": [],
   "source": [
    "if len(excluded_features_columns) > 0:\n",
    "    print(f\"Dropping features: {excluded_features_columns}\")\n",
    "    X_calib.drop(excluded_features_columns, axis=1, inplace=True)"
   ]
  },
  {
   "cell_type": "code",
   "execution_count": 27,
   "id": "3037356e",
   "metadata": {
    "execution": {
     "iopub.execute_input": "2025-08-19T18:02:56.977054Z",
     "iopub.status.busy": "2025-08-19T18:02:56.976652Z",
     "iopub.status.idle": "2025-08-19T18:02:56.981070Z",
     "shell.execute_reply": "2025-08-19T18:02:56.980369Z"
    },
    "papermill": {
     "duration": 0.017231,
     "end_time": "2025-08-19T18:02:56.982435",
     "exception": false,
     "start_time": "2025-08-19T18:02:56.965204",
     "status": "completed"
    },
    "tags": []
   },
   "outputs": [],
   "source": [
    "# EXCLUDE CERTAIN SUBGROUPS\n",
    "# -------------------------\n",
    "\n",
    "mode = universe.get(\"exclude_subgroups\", \"keep-all\") # Defaults to \"keep-all\" if the key is missing."
   ]
  },
  {
   "cell_type": "code",
   "execution_count": 28,
   "id": "9d1e63fd",
   "metadata": {
    "execution": {
     "iopub.execute_input": "2025-08-19T18:02:57.006511Z",
     "iopub.status.busy": "2025-08-19T18:02:57.005797Z",
     "iopub.status.idle": "2025-08-19T18:02:57.014408Z",
     "shell.execute_reply": "2025-08-19T18:02:57.013083Z"
    },
    "papermill": {
     "duration": 0.021876,
     "end_time": "2025-08-19T18:02:57.015728",
     "exception": false,
     "start_time": "2025-08-19T18:02:56.993852",
     "status": "completed"
    },
    "tags": []
   },
   "outputs": [],
   "source": [
    "if mode == \"keep-all\":\n",
    "    keep_mask = pd.Series(True, index=org_train.index)\n",
    "\n",
    "elif mode == \"drop-non-german\":\n",
    "    keep_mask = (org_train[\"maxdeutsch1\"] == 1) & (org_train[\"maxdeutsch.Missing.\"] == 0)\n",
    "\n",
    "else:\n",
    "    raise ValueError(f\"Unsupported mode for exclude_subgroups: {mode}\")"
   ]
  },
  {
   "cell_type": "code",
   "execution_count": 29,
   "id": "d3b65474",
   "metadata": {
    "execution": {
     "iopub.execute_input": "2025-08-19T18:02:57.040849Z",
     "iopub.status.busy": "2025-08-19T18:02:57.039627Z",
     "iopub.status.idle": "2025-08-19T18:02:57.050779Z",
     "shell.execute_reply": "2025-08-19T18:02:57.049387Z"
    },
    "papermill": {
     "duration": 0.025684,
     "end_time": "2025-08-19T18:02:57.052744",
     "exception": false,
     "start_time": "2025-08-19T18:02:57.027060",
     "status": "completed"
    },
    "tags": []
   },
   "outputs": [],
   "source": [
    "n_drop = (~keep_mask).sum() # Calculates how many rows are set to be dropped\n",
    "if n_drop > 0:\n",
    "    pct = n_drop / len(keep_mask) * 100\n",
    "    print(f\"Dropping {n_drop} rows ({pct:.2f}%) where mode='{mode}'\")"
   ]
  },
  {
   "cell_type": "code",
   "execution_count": 30,
   "id": "f44389b3",
   "metadata": {
    "execution": {
     "iopub.execute_input": "2025-08-19T18:02:57.080924Z",
     "iopub.status.busy": "2025-08-19T18:02:57.079295Z",
     "iopub.status.idle": "2025-08-19T18:02:57.112788Z",
     "shell.execute_reply": "2025-08-19T18:02:57.111766Z"
    },
    "papermill": {
     "duration": 0.048043,
     "end_time": "2025-08-19T18:02:57.115117",
     "exception": false,
     "start_time": "2025-08-19T18:02:57.067074",
     "status": "completed"
    },
    "tags": []
   },
   "outputs": [],
   "source": [
    "X_train = X_train[keep_mask]"
   ]
  },
  {
   "cell_type": "code",
   "execution_count": 31,
   "id": "ceca8c2a",
   "metadata": {
    "execution": {
     "iopub.execute_input": "2025-08-19T18:02:57.155700Z",
     "iopub.status.busy": "2025-08-19T18:02:57.154518Z",
     "iopub.status.idle": "2025-08-19T18:02:57.165025Z",
     "shell.execute_reply": "2025-08-19T18:02:57.163380Z"
    },
    "papermill": {
     "duration": 0.025696,
     "end_time": "2025-08-19T18:02:57.166739",
     "exception": false,
     "start_time": "2025-08-19T18:02:57.141043",
     "status": "completed"
    },
    "tags": []
   },
   "outputs": [],
   "source": [
    "y_train = y_train[keep_mask]"
   ]
  },
  {
   "cell_type": "markdown",
   "id": "04d31e2f",
   "metadata": {
    "papermill": {
     "duration": 0.011561,
     "end_time": "2025-08-19T18:02:57.193345",
     "exception": false,
     "start_time": "2025-08-19T18:02:57.181784",
     "status": "completed"
    },
    "tags": []
   },
   "source": [
    "# Model Training"
   ]
  },
  {
   "cell_type": "code",
   "execution_count": 32,
   "id": "db991733",
   "metadata": {
    "execution": {
     "iopub.execute_input": "2025-08-19T18:02:57.217211Z",
     "iopub.status.busy": "2025-08-19T18:02:57.216681Z",
     "iopub.status.idle": "2025-08-19T18:02:57.320161Z",
     "shell.execute_reply": "2025-08-19T18:02:57.319508Z"
    },
    "papermill": {
     "duration": 0.116858,
     "end_time": "2025-08-19T18:02:57.321581",
     "exception": false,
     "start_time": "2025-08-19T18:02:57.204723",
     "status": "completed"
    },
    "tags": []
   },
   "outputs": [],
   "source": [
    "from sklearn.linear_model import LogisticRegression\n",
    "from sklearn.ensemble import GradientBoostingClassifier, RandomForestClassifier\n",
    "\n",
    "if (universe[\"model\"] == \"logreg\"):\n",
    "    model = LogisticRegression() #penalty=\"none\", solver=\"newton-cg\", max_iter=1)\n",
    "elif (universe[\"model\"] == \"penalized_logreg\"):\n",
    "    model = LogisticRegression(penalty=\"l2\", C=0.1) #, solver=\"newton-cg\", max_iter=1)\n",
    "elif (universe[\"model\"] == \"rf\"):\n",
    "    model = RandomForestClassifier() # n_estimators=100, n_jobs=-1\n",
    "elif (universe[\"model\"] == \"gbm\"):\n",
    "    model = GradientBoostingClassifier()\n",
    "elif (universe[\"model\"] == \"elasticnet\"):\n",
    "    model = LogisticRegression(penalty = 'elasticnet', solver = 'saga', l1_ratio = 0.5) # max_iter=5000\n",
    "else:\n",
    "    raise \"Unsupported universe.model\""
   ]
  },
  {
   "cell_type": "code",
   "execution_count": 33,
   "id": "a4b5cd25",
   "metadata": {
    "execution": {
     "iopub.execute_input": "2025-08-19T18:02:57.349846Z",
     "iopub.status.busy": "2025-08-19T18:02:57.348659Z",
     "iopub.status.idle": "2025-08-19T18:02:57.355546Z",
     "shell.execute_reply": "2025-08-19T18:02:57.354813Z"
    },
    "papermill": {
     "duration": 0.020001,
     "end_time": "2025-08-19T18:02:57.356797",
     "exception": false,
     "start_time": "2025-08-19T18:02:57.336796",
     "status": "completed"
    },
    "tags": []
   },
   "outputs": [],
   "source": [
    "from sklearn.pipeline import Pipeline\n",
    "from sklearn.preprocessing import StandardScaler\n",
    "\n",
    "model = Pipeline([\n",
    "    #(\"continuous_processor\", continuous_processor),\n",
    "    #(\"categorical_preprocessor\", categorical_preprocessor),\n",
    "    (\"scale\", StandardScaler() if universe[\"scale\"] == \"scale\" else None), \n",
    "    (\"model\", model),\n",
    "])"
   ]
  },
  {
   "cell_type": "code",
   "execution_count": 34,
   "id": "283a904d",
   "metadata": {
    "execution": {
     "iopub.execute_input": "2025-08-19T18:02:57.381585Z",
     "iopub.status.busy": "2025-08-19T18:02:57.380690Z",
     "iopub.status.idle": "2025-08-19T18:02:58.350324Z",
     "shell.execute_reply": "2025-08-19T18:02:58.349711Z"
    },
    "papermill": {
     "duration": 0.990725,
     "end_time": "2025-08-19T18:02:58.359455",
     "exception": false,
     "start_time": "2025-08-19T18:02:57.368730",
     "status": "completed"
    },
    "tags": []
   },
   "outputs": [
    {
     "name": "stderr",
     "output_type": "stream",
     "text": [
      "/dss/dsshome1/0C/ra93lal2/.local/share/virtualenvs/CMA_Fairness_v2-3j10GkSs/lib/python3.10/site-packages/sklearn/linear_model/_logistic.py:444: ConvergenceWarning: lbfgs failed to converge (status=1):\n",
      "STOP: TOTAL NO. of ITERATIONS REACHED LIMIT.\n",
      "\n",
      "Increase the number of iterations (max_iter) or scale the data as shown in:\n",
      "    https://scikit-learn.org/stable/modules/preprocessing.html\n",
      "Please also refer to the documentation for alternative solver options:\n",
      "    https://scikit-learn.org/stable/modules/linear_model.html#logistic-regression\n",
      "  n_iter_i = _check_optimize_result(\n"
     ]
    },
    {
     "data": {
      "text/html": [
       "<style>#sk-container-id-1 {color: black;background-color: white;}#sk-container-id-1 pre{padding: 0;}#sk-container-id-1 div.sk-toggleable {background-color: white;}#sk-container-id-1 label.sk-toggleable__label {cursor: pointer;display: block;width: 100%;margin-bottom: 0;padding: 0.3em;box-sizing: border-box;text-align: center;}#sk-container-id-1 label.sk-toggleable__label-arrow:before {content: \"▸\";float: left;margin-right: 0.25em;color: #696969;}#sk-container-id-1 label.sk-toggleable__label-arrow:hover:before {color: black;}#sk-container-id-1 div.sk-estimator:hover label.sk-toggleable__label-arrow:before {color: black;}#sk-container-id-1 div.sk-toggleable__content {max-height: 0;max-width: 0;overflow: hidden;text-align: left;background-color: #f0f8ff;}#sk-container-id-1 div.sk-toggleable__content pre {margin: 0.2em;color: black;border-radius: 0.25em;background-color: #f0f8ff;}#sk-container-id-1 input.sk-toggleable__control:checked~div.sk-toggleable__content {max-height: 200px;max-width: 100%;overflow: auto;}#sk-container-id-1 input.sk-toggleable__control:checked~label.sk-toggleable__label-arrow:before {content: \"▾\";}#sk-container-id-1 div.sk-estimator input.sk-toggleable__control:checked~label.sk-toggleable__label {background-color: #d4ebff;}#sk-container-id-1 div.sk-label input.sk-toggleable__control:checked~label.sk-toggleable__label {background-color: #d4ebff;}#sk-container-id-1 input.sk-hidden--visually {border: 0;clip: rect(1px 1px 1px 1px);clip: rect(1px, 1px, 1px, 1px);height: 1px;margin: -1px;overflow: hidden;padding: 0;position: absolute;width: 1px;}#sk-container-id-1 div.sk-estimator {font-family: monospace;background-color: #f0f8ff;border: 1px dotted black;border-radius: 0.25em;box-sizing: border-box;margin-bottom: 0.5em;}#sk-container-id-1 div.sk-estimator:hover {background-color: #d4ebff;}#sk-container-id-1 div.sk-parallel-item::after {content: \"\";width: 100%;border-bottom: 1px solid gray;flex-grow: 1;}#sk-container-id-1 div.sk-label:hover label.sk-toggleable__label {background-color: #d4ebff;}#sk-container-id-1 div.sk-serial::before {content: \"\";position: absolute;border-left: 1px solid gray;box-sizing: border-box;top: 0;bottom: 0;left: 50%;z-index: 0;}#sk-container-id-1 div.sk-serial {display: flex;flex-direction: column;align-items: center;background-color: white;padding-right: 0.2em;padding-left: 0.2em;position: relative;}#sk-container-id-1 div.sk-item {position: relative;z-index: 1;}#sk-container-id-1 div.sk-parallel {display: flex;align-items: stretch;justify-content: center;background-color: white;position: relative;}#sk-container-id-1 div.sk-item::before, #sk-container-id-1 div.sk-parallel-item::before {content: \"\";position: absolute;border-left: 1px solid gray;box-sizing: border-box;top: 0;bottom: 0;left: 50%;z-index: -1;}#sk-container-id-1 div.sk-parallel-item {display: flex;flex-direction: column;z-index: 1;position: relative;background-color: white;}#sk-container-id-1 div.sk-parallel-item:first-child::after {align-self: flex-end;width: 50%;}#sk-container-id-1 div.sk-parallel-item:last-child::after {align-self: flex-start;width: 50%;}#sk-container-id-1 div.sk-parallel-item:only-child::after {width: 0;}#sk-container-id-1 div.sk-dashed-wrapped {border: 1px dashed gray;margin: 0 0.4em 0.5em 0.4em;box-sizing: border-box;padding-bottom: 0.4em;background-color: white;}#sk-container-id-1 div.sk-label label {font-family: monospace;font-weight: bold;display: inline-block;line-height: 1.2em;}#sk-container-id-1 div.sk-label-container {text-align: center;}#sk-container-id-1 div.sk-container {/* jupyter's `normalize.less` sets `[hidden] { display: none; }` but bootstrap.min.css set `[hidden] { display: none !important; }` so we also need the `!important` here to be able to override the default hidden behavior on the sphinx rendered scikit-learn.org. See: https://github.com/scikit-learn/scikit-learn/issues/21755 */display: inline-block !important;position: relative;}#sk-container-id-1 div.sk-text-repr-fallback {display: none;}</style><div id=\"sk-container-id-1\" class=\"sk-top-container\"><div class=\"sk-text-repr-fallback\"><pre>Pipeline(steps=[(&#x27;scale&#x27;, StandardScaler()), (&#x27;model&#x27;, LogisticRegression())])</pre><b>In a Jupyter environment, please rerun this cell to show the HTML representation or trust the notebook. <br />On GitHub, the HTML representation is unable to render, please try loading this page with nbviewer.org.</b></div><div class=\"sk-container\" hidden><div class=\"sk-item sk-dashed-wrapped\"><div class=\"sk-label-container\"><div class=\"sk-label sk-toggleable\"><input class=\"sk-toggleable__control sk-hidden--visually\" id=\"sk-estimator-id-1\" type=\"checkbox\" ><label for=\"sk-estimator-id-1\" class=\"sk-toggleable__label sk-toggleable__label-arrow\">Pipeline</label><div class=\"sk-toggleable__content\"><pre>Pipeline(steps=[(&#x27;scale&#x27;, StandardScaler()), (&#x27;model&#x27;, LogisticRegression())])</pre></div></div></div><div class=\"sk-serial\"><div class=\"sk-item\"><div class=\"sk-estimator sk-toggleable\"><input class=\"sk-toggleable__control sk-hidden--visually\" id=\"sk-estimator-id-2\" type=\"checkbox\" ><label for=\"sk-estimator-id-2\" class=\"sk-toggleable__label sk-toggleable__label-arrow\">StandardScaler</label><div class=\"sk-toggleable__content\"><pre>StandardScaler()</pre></div></div></div><div class=\"sk-item\"><div class=\"sk-estimator sk-toggleable\"><input class=\"sk-toggleable__control sk-hidden--visually\" id=\"sk-estimator-id-3\" type=\"checkbox\" ><label for=\"sk-estimator-id-3\" class=\"sk-toggleable__label sk-toggleable__label-arrow\">LogisticRegression</label><div class=\"sk-toggleable__content\"><pre>LogisticRegression()</pre></div></div></div></div></div></div></div>"
      ],
      "text/plain": [
       "Pipeline(steps=[('scale', StandardScaler()), ('model', LogisticRegression())])"
      ]
     },
     "execution_count": 34,
     "metadata": {},
     "output_type": "execute_result"
    }
   ],
   "source": [
    "model.fit(X_train, y_train.values.ravel())"
   ]
  },
  {
   "cell_type": "code",
   "execution_count": 35,
   "id": "6e15e313",
   "metadata": {
    "execution": {
     "iopub.execute_input": "2025-08-19T18:02:58.419596Z",
     "iopub.status.busy": "2025-08-19T18:02:58.418998Z",
     "iopub.status.idle": "2025-08-19T18:02:58.612707Z",
     "shell.execute_reply": "2025-08-19T18:02:58.612058Z"
    },
    "papermill": {
     "duration": 0.22315,
     "end_time": "2025-08-19T18:02:58.615251",
     "exception": false,
     "start_time": "2025-08-19T18:02:58.392101",
     "status": "completed"
    },
    "tags": []
   },
   "outputs": [
    {
     "data": {
      "text/plain": [
       "0.8620443651766804"
      ]
     },
     "execution_count": 35,
     "metadata": {},
     "output_type": "execute_result"
    }
   ],
   "source": [
    "from fairness_multiverse.universe import predict_w_threshold\n",
    "\n",
    "probs_test = model.predict_proba(X_test)\n",
    "\n",
    "'''\n",
    "Below code returns a boolean array (or binary 0/1 array depending on how it’s used) where each element \n",
    "is True if the probability of class 1 is greater than or equal to the threshold, and False otherwise.\n",
    "'''\n",
    "y_pred_default = predict_w_threshold(probs_test, 0.5)\n",
    "\n",
    "from sklearn.metrics import accuracy_score\n",
    "\n",
    "# Naive prediction\n",
    "accuracy_score(y_true = y_true, y_pred = y_pred_default)"
   ]
  },
  {
   "cell_type": "code",
   "execution_count": 36,
   "id": "6f14067c",
   "metadata": {
    "execution": {
     "iopub.execute_input": "2025-08-19T18:02:58.655943Z",
     "iopub.status.busy": "2025-08-19T18:02:58.654796Z",
     "iopub.status.idle": "2025-08-19T18:02:58.838961Z",
     "shell.execute_reply": "2025-08-19T18:02:58.838255Z"
    },
    "papermill": {
     "duration": 0.200741,
     "end_time": "2025-08-19T18:02:58.841349",
     "exception": false,
     "start_time": "2025-08-19T18:02:58.640608",
     "status": "completed"
    },
    "tags": []
   },
   "outputs": [
    {
     "data": {
      "text/plain": [
       "array([0, 0, 0, ..., 0, 0, 0])"
      ]
     },
     "execution_count": 36,
     "metadata": {},
     "output_type": "execute_result"
    }
   ],
   "source": [
    "model.predict(X_test)"
   ]
  },
  {
   "cell_type": "markdown",
   "id": "3759920c",
   "metadata": {
    "papermill": {
     "duration": 0.012402,
     "end_time": "2025-08-19T18:02:58.877315",
     "exception": false,
     "start_time": "2025-08-19T18:02:58.864913",
     "status": "completed"
    },
    "tags": []
   },
   "source": [
    "# Conformal Prediction"
   ]
  },
  {
   "cell_type": "code",
   "execution_count": 37,
   "id": "14b27f59",
   "metadata": {
    "execution": {
     "iopub.execute_input": "2025-08-19T18:02:58.901987Z",
     "iopub.status.busy": "2025-08-19T18:02:58.900974Z",
     "iopub.status.idle": "2025-08-19T18:02:58.909155Z",
     "shell.execute_reply": "2025-08-19T18:02:58.907500Z"
    },
    "papermill": {
     "duration": 0.02225,
     "end_time": "2025-08-19T18:02:58.910593",
     "exception": false,
     "start_time": "2025-08-19T18:02:58.888343",
     "status": "completed"
    },
    "tags": []
   },
   "outputs": [],
   "source": [
    "# Miscoverage level for conformal prediction (10% allowed error rate => 90% target coverage)\n",
    "alpha = 0.1"
   ]
  },
  {
   "cell_type": "code",
   "execution_count": 38,
   "id": "59102472",
   "metadata": {
    "execution": {
     "iopub.execute_input": "2025-08-19T18:02:58.937830Z",
     "iopub.status.busy": "2025-08-19T18:02:58.936841Z",
     "iopub.status.idle": "2025-08-19T18:02:59.119639Z",
     "shell.execute_reply": "2025-08-19T18:02:59.118958Z"
    },
    "papermill": {
     "duration": 0.19667,
     "end_time": "2025-08-19T18:02:59.121041",
     "exception": false,
     "start_time": "2025-08-19T18:02:58.924371",
     "status": "completed"
    },
    "tags": []
   },
   "outputs": [],
   "source": [
    "probs_calib = model.predict_proba(X_calib)"
   ]
  },
  {
   "cell_type": "code",
   "execution_count": 39,
   "id": "a792d4dd",
   "metadata": {
    "execution": {
     "iopub.execute_input": "2025-08-19T18:02:59.165150Z",
     "iopub.status.busy": "2025-08-19T18:02:59.148564Z",
     "iopub.status.idle": "2025-08-19T18:02:59.170310Z",
     "shell.execute_reply": "2025-08-19T18:02:59.169374Z"
    },
    "papermill": {
     "duration": 0.03877,
     "end_time": "2025-08-19T18:02:59.171951",
     "exception": false,
     "start_time": "2025-08-19T18:02:59.133181",
     "status": "completed"
    },
    "tags": []
   },
   "outputs": [],
   "source": [
    "y_calib = y_calib.values.ravel().astype(int)"
   ]
  },
  {
   "cell_type": "code",
   "execution_count": 40,
   "id": "650fd033",
   "metadata": {
    "execution": {
     "iopub.execute_input": "2025-08-19T18:02:59.200030Z",
     "iopub.status.busy": "2025-08-19T18:02:59.199214Z",
     "iopub.status.idle": "2025-08-19T18:02:59.209029Z",
     "shell.execute_reply": "2025-08-19T18:02:59.207814Z"
    },
    "papermill": {
     "duration": 0.023708,
     "end_time": "2025-08-19T18:02:59.210463",
     "exception": false,
     "start_time": "2025-08-19T18:02:59.186755",
     "status": "completed"
    },
    "tags": []
   },
   "outputs": [],
   "source": [
    "from fairness_multiverse.conformal import compute_nc_scores\n",
    "\n",
    "# Compute nonconformity scores on calibration set (1 - probability of true class)\n",
    "nc_scores = compute_nc_scores(probs_calib, y_calib)"
   ]
  },
  {
   "cell_type": "code",
   "execution_count": 41,
   "id": "28ada44c",
   "metadata": {
    "execution": {
     "iopub.execute_input": "2025-08-19T18:02:59.239777Z",
     "iopub.status.busy": "2025-08-19T18:02:59.237009Z",
     "iopub.status.idle": "2025-08-19T18:02:59.248833Z",
     "shell.execute_reply": "2025-08-19T18:02:59.247578Z"
    },
    "papermill": {
     "duration": 0.026474,
     "end_time": "2025-08-19T18:02:59.250356",
     "exception": false,
     "start_time": "2025-08-19T18:02:59.223882",
     "status": "completed"
    },
    "tags": []
   },
   "outputs": [],
   "source": [
    "from fairness_multiverse.conformal import find_threshold\n",
    "\n",
    "# Find conformal threshold q_hat for the given alpha (split conformal method)\n",
    "q_hat = find_threshold(nc_scores, alpha)"
   ]
  },
  {
   "cell_type": "code",
   "execution_count": 42,
   "id": "df56469e",
   "metadata": {
    "execution": {
     "iopub.execute_input": "2025-08-19T18:02:59.280294Z",
     "iopub.status.busy": "2025-08-19T18:02:59.279337Z",
     "iopub.status.idle": "2025-08-19T18:02:59.288767Z",
     "shell.execute_reply": "2025-08-19T18:02:59.287478Z"
    },
    "papermill": {
     "duration": 0.024189,
     "end_time": "2025-08-19T18:02:59.290207",
     "exception": false,
     "start_time": "2025-08-19T18:02:59.266018",
     "status": "completed"
    },
    "tags": []
   },
   "outputs": [
    {
     "data": {
      "text/plain": [
       "0.663838481510313"
      ]
     },
     "execution_count": 42,
     "metadata": {},
     "output_type": "execute_result"
    }
   ],
   "source": [
    "q_hat"
   ]
  },
  {
   "cell_type": "code",
   "execution_count": 43,
   "id": "aa1f5faa",
   "metadata": {
    "execution": {
     "iopub.execute_input": "2025-08-19T18:02:59.315667Z",
     "iopub.status.busy": "2025-08-19T18:02:59.314763Z",
     "iopub.status.idle": "2025-08-19T18:02:59.939198Z",
     "shell.execute_reply": "2025-08-19T18:02:59.938106Z"
    },
    "papermill": {
     "duration": 0.640377,
     "end_time": "2025-08-19T18:02:59.942436",
     "exception": false,
     "start_time": "2025-08-19T18:02:59.302059",
     "status": "completed"
    },
    "tags": []
   },
   "outputs": [],
   "source": [
    "from fairness_multiverse.conformal import predict_conformal_sets\n",
    "\n",
    "# Generate prediction sets for each test example\n",
    "pred_sets = predict_conformal_sets(model, X_test, q_hat)"
   ]
  },
  {
   "cell_type": "code",
   "execution_count": 44,
   "id": "97f67a6b",
   "metadata": {
    "execution": {
     "iopub.execute_input": "2025-08-19T18:02:59.981195Z",
     "iopub.status.busy": "2025-08-19T18:02:59.980229Z",
     "iopub.status.idle": "2025-08-19T18:02:59.987802Z",
     "shell.execute_reply": "2025-08-19T18:02:59.986545Z"
    },
    "papermill": {
     "duration": 0.023173,
     "end_time": "2025-08-19T18:02:59.989188",
     "exception": false,
     "start_time": "2025-08-19T18:02:59.966015",
     "status": "completed"
    },
    "tags": []
   },
   "outputs": [],
   "source": [
    "y_true = y_true.squeeze()"
   ]
  },
  {
   "cell_type": "code",
   "execution_count": 45,
   "id": "e700e9a7",
   "metadata": {
    "execution": {
     "iopub.execute_input": "2025-08-19T18:03:00.016786Z",
     "iopub.status.busy": "2025-08-19T18:03:00.015663Z",
     "iopub.status.idle": "2025-08-19T18:03:00.524434Z",
     "shell.execute_reply": "2025-08-19T18:03:00.523333Z"
    },
    "papermill": {
     "duration": 0.525195,
     "end_time": "2025-08-19T18:03:00.527698",
     "exception": false,
     "start_time": "2025-08-19T18:03:00.002503",
     "status": "completed"
    },
    "tags": []
   },
   "outputs": [],
   "source": [
    "from fairness_multiverse.conformal import evaluate_sets\n",
    "\n",
    "# Evaluate coverage and average set size on test data\n",
    "metrics = evaluate_sets(pred_sets, y_true)"
   ]
  },
  {
   "cell_type": "markdown",
   "id": "efbacec0",
   "metadata": {
    "papermill": {
     "duration": 0.012603,
     "end_time": "2025-08-19T18:03:00.564678",
     "exception": false,
     "start_time": "2025-08-19T18:03:00.552075",
     "status": "completed"
    },
    "tags": []
   },
   "source": [
    "# CP Metrics"
   ]
  },
  {
   "cell_type": "code",
   "execution_count": 46,
   "id": "9de55fb1",
   "metadata": {
    "execution": {
     "iopub.execute_input": "2025-08-19T18:03:00.590051Z",
     "iopub.status.busy": "2025-08-19T18:03:00.589079Z",
     "iopub.status.idle": "2025-08-19T18:03:00.598438Z",
     "shell.execute_reply": "2025-08-19T18:03:00.597294Z"
    },
    "papermill": {
     "duration": 0.023859,
     "end_time": "2025-08-19T18:03:00.599920",
     "exception": false,
     "start_time": "2025-08-19T18:03:00.576061",
     "status": "completed"
    },
    "tags": []
   },
   "outputs": [
    {
     "data": {
      "text/plain": [
       "{'coverage': 0.9116709396945714, 'avg_size': 1.125047374874596}"
      ]
     },
     "execution_count": 46,
     "metadata": {},
     "output_type": "execute_result"
    }
   ],
   "source": [
    "metrics"
   ]
  },
  {
   "cell_type": "code",
   "execution_count": 47,
   "id": "64c340a1",
   "metadata": {
    "execution": {
     "iopub.execute_input": "2025-08-19T18:03:00.626851Z",
     "iopub.status.busy": "2025-08-19T18:03:00.625802Z",
     "iopub.status.idle": "2025-08-19T18:03:00.634959Z",
     "shell.execute_reply": "2025-08-19T18:03:00.633784Z"
    },
    "papermill": {
     "duration": 0.024081,
     "end_time": "2025-08-19T18:03:00.636615",
     "exception": false,
     "start_time": "2025-08-19T18:03:00.612534",
     "status": "completed"
    },
    "tags": []
   },
   "outputs": [],
   "source": [
    "example_universe = universe.copy()\n",
    "universe_training_year = example_universe.get(\"training_year\")\n",
    "universe_training_size = example_universe.get(\"training_size\")\n",
    "universe_scale = example_universe.get(\"scale\")\n",
    "universe_model = example_universe.get(\"model\")\n",
    "universe_exclude_features = example_universe.get(\"exclude_features\")\n",
    "universe_exclude_subgroups = example_universe.get(\"exclude_subgroups\")"
   ]
  },
  {
   "cell_type": "code",
   "execution_count": 48,
   "id": "dbb53cb4",
   "metadata": {
    "execution": {
     "iopub.execute_input": "2025-08-19T18:03:00.665087Z",
     "iopub.status.busy": "2025-08-19T18:03:00.664111Z",
     "iopub.status.idle": "2025-08-19T18:03:00.673792Z",
     "shell.execute_reply": "2025-08-19T18:03:00.672548Z"
    },
    "papermill": {
     "duration": 0.024355,
     "end_time": "2025-08-19T18:03:00.675294",
     "exception": false,
     "start_time": "2025-08-19T18:03:00.650939",
     "status": "completed"
    },
    "tags": []
   },
   "outputs": [],
   "source": [
    "cp_metrics_dict = {\n",
    "    \"universe_id\": [universe_id],\n",
    "    \"universe_training_year\": [universe_training_year],\n",
    "    \"universe_training_size\": [universe_training_size],\n",
    "    \"universe_scale\": [universe_scale],\n",
    "    \"universe_model\": [universe_model],\n",
    "    \"universe_exclude_features\": [universe_exclude_features],\n",
    "    \"universe_exclude_subgroups\": [universe_exclude_subgroups],\n",
    "    \"q_hat\": [q_hat],\n",
    "    \"coverage\": [metrics[\"coverage\"]],\n",
    "    \"avg_size\": [metrics[\"avg_size\"]],\n",
    "}"
   ]
  },
  {
   "cell_type": "code",
   "execution_count": 49,
   "id": "0d70d4b2",
   "metadata": {
    "execution": {
     "iopub.execute_input": "2025-08-19T18:03:00.703653Z",
     "iopub.status.busy": "2025-08-19T18:03:00.702685Z",
     "iopub.status.idle": "2025-08-19T18:03:00.711431Z",
     "shell.execute_reply": "2025-08-19T18:03:00.710254Z"
    },
    "papermill": {
     "duration": 0.023572,
     "end_time": "2025-08-19T18:03:00.713021",
     "exception": false,
     "start_time": "2025-08-19T18:03:00.689449",
     "status": "completed"
    },
    "tags": []
   },
   "outputs": [],
   "source": [
    "cp_metrics_df = pd.DataFrame(cp_metrics_dict)"
   ]
  },
  {
   "cell_type": "code",
   "execution_count": 50,
   "id": "b494403c",
   "metadata": {
    "execution": {
     "iopub.execute_input": "2025-08-19T18:03:00.739319Z",
     "iopub.status.busy": "2025-08-19T18:03:00.738347Z",
     "iopub.status.idle": "2025-08-19T18:03:00.759708Z",
     "shell.execute_reply": "2025-08-19T18:03:00.758640Z"
    },
    "papermill": {
     "duration": 0.036725,
     "end_time": "2025-08-19T18:03:00.761864",
     "exception": false,
     "start_time": "2025-08-19T18:03:00.725139",
     "status": "completed"
    },
    "tags": []
   },
   "outputs": [
    {
     "data": {
      "text/html": [
       "<div>\n",
       "<style scoped>\n",
       "    .dataframe tbody tr th:only-of-type {\n",
       "        vertical-align: middle;\n",
       "    }\n",
       "\n",
       "    .dataframe tbody tr th {\n",
       "        vertical-align: top;\n",
       "    }\n",
       "\n",
       "    .dataframe thead th {\n",
       "        text-align: right;\n",
       "    }\n",
       "</style>\n",
       "<table border=\"1\" class=\"dataframe\">\n",
       "  <thead>\n",
       "    <tr style=\"text-align: right;\">\n",
       "      <th></th>\n",
       "      <th>universe_id</th>\n",
       "      <th>universe_training_year</th>\n",
       "      <th>universe_training_size</th>\n",
       "      <th>universe_scale</th>\n",
       "      <th>universe_model</th>\n",
       "      <th>universe_exclude_features</th>\n",
       "      <th>universe_exclude_subgroups</th>\n",
       "      <th>q_hat</th>\n",
       "      <th>coverage</th>\n",
       "      <th>avg_size</th>\n",
       "    </tr>\n",
       "  </thead>\n",
       "  <tbody>\n",
       "    <tr>\n",
       "      <th>0</th>\n",
       "      <td>9ba41d2a834a9ca377ef954bf0cfef14</td>\n",
       "      <td>2012_14</td>\n",
       "      <td>25k</td>\n",
       "      <td>scale</td>\n",
       "      <td>logreg</td>\n",
       "      <td>none</td>\n",
       "      <td>keep-all</td>\n",
       "      <td>0.663838</td>\n",
       "      <td>0.911671</td>\n",
       "      <td>1.125047</td>\n",
       "    </tr>\n",
       "  </tbody>\n",
       "</table>\n",
       "</div>"
      ],
      "text/plain": [
       "                        universe_id universe_training_year  \\\n",
       "0  9ba41d2a834a9ca377ef954bf0cfef14                2012_14   \n",
       "\n",
       "  universe_training_size universe_scale universe_model  \\\n",
       "0                    25k          scale         logreg   \n",
       "\n",
       "  universe_exclude_features universe_exclude_subgroups     q_hat  coverage  \\\n",
       "0                      none                   keep-all  0.663838  0.911671   \n",
       "\n",
       "   avg_size  \n",
       "0  1.125047  "
      ]
     },
     "execution_count": 50,
     "metadata": {},
     "output_type": "execute_result"
    }
   ],
   "source": [
    "cp_metrics_df"
   ]
  },
  {
   "cell_type": "markdown",
   "id": "ed608b0b",
   "metadata": {
    "papermill": {
     "duration": 0.011892,
     "end_time": "2025-08-19T18:03:00.791092",
     "exception": false,
     "start_time": "2025-08-19T18:03:00.779200",
     "status": "completed"
    },
    "tags": []
   },
   "source": [
    "Conditional coverage & looking at subgroups"
   ]
  },
  {
   "cell_type": "code",
   "execution_count": 51,
   "id": "8968c366",
   "metadata": {
    "execution": {
     "iopub.execute_input": "2025-08-19T18:03:00.817802Z",
     "iopub.status.busy": "2025-08-19T18:03:00.816673Z",
     "iopub.status.idle": "2025-08-19T18:03:01.051543Z",
     "shell.execute_reply": "2025-08-19T18:03:01.050386Z"
    },
    "papermill": {
     "duration": 0.252051,
     "end_time": "2025-08-19T18:03:01.055028",
     "exception": false,
     "start_time": "2025-08-19T18:03:00.802977",
     "status": "completed"
    },
    "tags": []
   },
   "outputs": [],
   "source": [
    "from fairness_multiverse.conformal import build_cp_groups\n",
    "\n",
    "cp_groups_df = build_cp_groups(pred_sets, y_true, X_test.index, org_test)"
   ]
  },
  {
   "cell_type": "code",
   "execution_count": 52,
   "id": "292ddabf",
   "metadata": {
    "execution": {
     "iopub.execute_input": "2025-08-19T18:03:01.094888Z",
     "iopub.status.busy": "2025-08-19T18:03:01.093897Z",
     "iopub.status.idle": "2025-08-19T18:03:01.936097Z",
     "shell.execute_reply": "2025-08-19T18:03:01.935255Z"
    },
    "papermill": {
     "duration": 0.858516,
     "end_time": "2025-08-19T18:03:01.937815",
     "exception": false,
     "start_time": "2025-08-19T18:03:01.079299",
     "status": "completed"
    },
    "tags": []
   },
   "outputs": [],
   "source": [
    "# Define covered = 1 if true_label is in the predicted set\n",
    "cp_groups_df['covered'] = cp_groups_df.apply(\n",
    "    lambda r: int(r['true_label'] in r['pred_set']),\n",
    "    axis=1\n",
    ")"
   ]
  },
  {
   "cell_type": "code",
   "execution_count": 53,
   "id": "3a261692",
   "metadata": {
    "execution": {
     "iopub.execute_input": "2025-08-19T18:03:01.964124Z",
     "iopub.status.busy": "2025-08-19T18:03:01.963419Z",
     "iopub.status.idle": "2025-08-19T18:03:01.976973Z",
     "shell.execute_reply": "2025-08-19T18:03:01.975996Z"
    },
    "papermill": {
     "duration": 0.028224,
     "end_time": "2025-08-19T18:03:01.978426",
     "exception": false,
     "start_time": "2025-08-19T18:03:01.950202",
     "status": "completed"
    },
    "tags": []
   },
   "outputs": [],
   "source": [
    "subgroups = ['frau1','nongerman','nongerman_male','nongerman_female']\n",
    "\n",
    "# Conditional coverage for subgroup==1\n",
    "cond_coverage = {\n",
    "    g: cp_groups_df.loc[cp_groups_df[g]==1, 'covered'].mean()\n",
    "    for g in subgroups\n",
    "}"
   ]
  },
  {
   "cell_type": "code",
   "execution_count": 54,
   "id": "894fd600",
   "metadata": {
    "execution": {
     "iopub.execute_input": "2025-08-19T18:03:02.008898Z",
     "iopub.status.busy": "2025-08-19T18:03:02.007849Z",
     "iopub.status.idle": "2025-08-19T18:03:02.017296Z",
     "shell.execute_reply": "2025-08-19T18:03:02.016000Z"
    },
    "papermill": {
     "duration": 0.02465,
     "end_time": "2025-08-19T18:03:02.018849",
     "exception": false,
     "start_time": "2025-08-19T18:03:01.994199",
     "status": "completed"
    },
    "tags": []
   },
   "outputs": [
    {
     "data": {
      "text/plain": [
       "{'frau1': 0.9098261221188839,\n",
       " 'nongerman': 0.9107393476674339,\n",
       " 'nongerman_male': 0.92704674412321,\n",
       " 'nongerman_female': 0.8837555886736215}"
      ]
     },
     "execution_count": 54,
     "metadata": {},
     "output_type": "execute_result"
    }
   ],
   "source": [
    "cond_coverage"
   ]
  },
  {
   "cell_type": "code",
   "execution_count": 55,
   "id": "942895c7",
   "metadata": {
    "execution": {
     "iopub.execute_input": "2025-08-19T18:03:02.046494Z",
     "iopub.status.busy": "2025-08-19T18:03:02.045427Z",
     "iopub.status.idle": "2025-08-19T18:03:02.055951Z",
     "shell.execute_reply": "2025-08-19T18:03:02.054736Z"
    },
    "papermill": {
     "duration": 0.025934,
     "end_time": "2025-08-19T18:03:02.057660",
     "exception": false,
     "start_time": "2025-08-19T18:03:02.031726",
     "status": "completed"
    },
    "tags": []
   },
   "outputs": [],
   "source": [
    "for subgroup, cov in cond_coverage.items():\n",
    "    cp_metrics_df[f\"cov_{subgroup}\"] = cov"
   ]
  },
  {
   "cell_type": "code",
   "execution_count": 56,
   "id": "3970120f",
   "metadata": {
    "execution": {
     "iopub.execute_input": "2025-08-19T18:03:02.086621Z",
     "iopub.status.busy": "2025-08-19T18:03:02.085758Z",
     "iopub.status.idle": "2025-08-19T18:03:02.112011Z",
     "shell.execute_reply": "2025-08-19T18:03:02.110768Z"
    },
    "papermill": {
     "duration": 0.041765,
     "end_time": "2025-08-19T18:03:02.114021",
     "exception": false,
     "start_time": "2025-08-19T18:03:02.072256",
     "status": "completed"
    },
    "tags": []
   },
   "outputs": [
    {
     "data": {
      "text/html": [
       "<div>\n",
       "<style scoped>\n",
       "    .dataframe tbody tr th:only-of-type {\n",
       "        vertical-align: middle;\n",
       "    }\n",
       "\n",
       "    .dataframe tbody tr th {\n",
       "        vertical-align: top;\n",
       "    }\n",
       "\n",
       "    .dataframe thead th {\n",
       "        text-align: right;\n",
       "    }\n",
       "</style>\n",
       "<table border=\"1\" class=\"dataframe\">\n",
       "  <thead>\n",
       "    <tr style=\"text-align: right;\">\n",
       "      <th></th>\n",
       "      <th>universe_id</th>\n",
       "      <th>universe_training_year</th>\n",
       "      <th>universe_training_size</th>\n",
       "      <th>universe_scale</th>\n",
       "      <th>universe_model</th>\n",
       "      <th>universe_exclude_features</th>\n",
       "      <th>universe_exclude_subgroups</th>\n",
       "      <th>q_hat</th>\n",
       "      <th>coverage</th>\n",
       "      <th>avg_size</th>\n",
       "      <th>cov_frau1</th>\n",
       "      <th>cov_nongerman</th>\n",
       "      <th>cov_nongerman_male</th>\n",
       "      <th>cov_nongerman_female</th>\n",
       "    </tr>\n",
       "  </thead>\n",
       "  <tbody>\n",
       "    <tr>\n",
       "      <th>0</th>\n",
       "      <td>9ba41d2a834a9ca377ef954bf0cfef14</td>\n",
       "      <td>2012_14</td>\n",
       "      <td>25k</td>\n",
       "      <td>scale</td>\n",
       "      <td>logreg</td>\n",
       "      <td>none</td>\n",
       "      <td>keep-all</td>\n",
       "      <td>0.663838</td>\n",
       "      <td>0.911671</td>\n",
       "      <td>1.125047</td>\n",
       "      <td>0.909826</td>\n",
       "      <td>0.910739</td>\n",
       "      <td>0.927047</td>\n",
       "      <td>0.883756</td>\n",
       "    </tr>\n",
       "  </tbody>\n",
       "</table>\n",
       "</div>"
      ],
      "text/plain": [
       "                        universe_id universe_training_year  \\\n",
       "0  9ba41d2a834a9ca377ef954bf0cfef14                2012_14   \n",
       "\n",
       "  universe_training_size universe_scale universe_model  \\\n",
       "0                    25k          scale         logreg   \n",
       "\n",
       "  universe_exclude_features universe_exclude_subgroups     q_hat  coverage  \\\n",
       "0                      none                   keep-all  0.663838  0.911671   \n",
       "\n",
       "   avg_size  cov_frau1  cov_nongerman  cov_nongerman_male  \\\n",
       "0  1.125047   0.909826       0.910739            0.927047   \n",
       "\n",
       "   cov_nongerman_female  \n",
       "0              0.883756  "
      ]
     },
     "execution_count": 56,
     "metadata": {},
     "output_type": "execute_result"
    }
   ],
   "source": [
    "cp_metrics_df"
   ]
  },
  {
   "cell_type": "markdown",
   "id": "3fc519cc",
   "metadata": {
    "papermill": {
     "duration": 0.012429,
     "end_time": "2025-08-19T18:03:02.146049",
     "exception": false,
     "start_time": "2025-08-19T18:03:02.133620",
     "status": "completed"
    },
    "tags": []
   },
   "source": [
    "# (Fairness) Metrics"
   ]
  },
  {
   "cell_type": "code",
   "execution_count": 57,
   "id": "a2e5e155",
   "metadata": {
    "execution": {
     "iopub.execute_input": "2025-08-19T18:03:02.172517Z",
     "iopub.status.busy": "2025-08-19T18:03:02.172044Z",
     "iopub.status.idle": "2025-08-19T18:03:02.187603Z",
     "shell.execute_reply": "2025-08-19T18:03:02.186764Z"
    },
    "papermill": {
     "duration": 0.034861,
     "end_time": "2025-08-19T18:03:02.193097",
     "exception": false,
     "start_time": "2025-08-19T18:03:02.158236",
     "status": "completed"
    },
    "tags": []
   },
   "outputs": [],
   "source": [
    "colname_to_bin = \"maxdeutsch1\"\n",
    "majority_value = org_train[colname_to_bin].mode()[0]\n",
    "\n",
    "org_test[\"majmin\"] = np.where(org_test[colname_to_bin] == majority_value, \"majority\", \"minority\")"
   ]
  },
  {
   "cell_type": "code",
   "execution_count": 58,
   "id": "17e3e4d5",
   "metadata": {
    "execution": {
     "iopub.execute_input": "2025-08-19T18:03:02.225099Z",
     "iopub.status.busy": "2025-08-19T18:03:02.224613Z",
     "iopub.status.idle": "2025-08-19T18:03:03.911894Z",
     "shell.execute_reply": "2025-08-19T18:03:03.910994Z"
    },
    "papermill": {
     "duration": 1.703296,
     "end_time": "2025-08-19T18:03:03.913894",
     "exception": false,
     "start_time": "2025-08-19T18:03:02.210598",
     "status": "completed"
    },
    "tags": []
   },
   "outputs": [],
   "source": [
    "example_universe = universe.copy()\n",
    "example_universe[\"cutoff\"] = example_universe[\"cutoff\"][0]\n",
    "example_universe[\"eval_fairness_grouping\"] = example_universe[\"eval_fairness_grouping\"][0]\n",
    "fairness_dict, metric_frame = universe_analysis.compute_metrics(\n",
    "    example_universe,\n",
    "    y_pred_prob=probs_test,\n",
    "    y_test=y_true,\n",
    "    org_test=org_test,\n",
    ")"
   ]
  },
  {
   "cell_type": "markdown",
   "id": "1fb7a0e9",
   "metadata": {
    "papermill": {
     "duration": 0.016855,
     "end_time": "2025-08-19T18:03:03.961666",
     "exception": false,
     "start_time": "2025-08-19T18:03:03.944811",
     "status": "completed"
    },
    "tags": []
   },
   "source": [
    "# Overall"
   ]
  },
  {
   "cell_type": "markdown",
   "id": "be1784b1",
   "metadata": {
    "papermill": {
     "duration": 0.012587,
     "end_time": "2025-08-19T18:03:03.987097",
     "exception": false,
     "start_time": "2025-08-19T18:03:03.974510",
     "status": "completed"
    },
    "tags": []
   },
   "source": [
    "Main fairness target: Equalized Odds. Seems to be a better fit than equal opportunity, since we're not only interested in Y = 1. Seems to be a better fit than demographic parity, since we also care about accuracy, not just equal distribution of preds.\n",
    "\n",
    "Pick column for computation of fairness metrics\n",
    "\n",
    "Performance\n",
    "Overall performance measures, most interesting in relation to the measures split by group below"
   ]
  },
  {
   "cell_type": "code",
   "execution_count": 59,
   "id": "b7672bee",
   "metadata": {
    "execution": {
     "iopub.execute_input": "2025-08-19T18:03:04.013687Z",
     "iopub.status.busy": "2025-08-19T18:03:04.013259Z",
     "iopub.status.idle": "2025-08-19T18:03:04.021397Z",
     "shell.execute_reply": "2025-08-19T18:03:04.020005Z"
    },
    "papermill": {
     "duration": 0.026224,
     "end_time": "2025-08-19T18:03:04.025571",
     "exception": false,
     "start_time": "2025-08-19T18:03:03.999347",
     "status": "completed"
    },
    "tags": []
   },
   "outputs": [
    {
     "data": {
      "text/plain": [
       "accuracy                   0.225315\n",
       "balanced accuracy          0.550729\n",
       "f1                         0.246620\n",
       "precision                  0.140886\n",
       "false positive rate        0.886985\n",
       "false negative rate        0.011557\n",
       "selection rate             0.900000\n",
       "count                  89710.000000\n",
       "dtype: float64"
      ]
     },
     "execution_count": 59,
     "metadata": {},
     "output_type": "execute_result"
    }
   ],
   "source": [
    "metric_frame.overall"
   ]
  },
  {
   "cell_type": "markdown",
   "id": "d93333c9",
   "metadata": {
    "papermill": {
     "duration": 0.012529,
     "end_time": "2025-08-19T18:03:04.052632",
     "exception": false,
     "start_time": "2025-08-19T18:03:04.040103",
     "status": "completed"
    },
    "tags": []
   },
   "source": [
    "By Group"
   ]
  },
  {
   "cell_type": "code",
   "execution_count": 60,
   "id": "52256966",
   "metadata": {
    "execution": {
     "iopub.execute_input": "2025-08-19T18:03:04.079046Z",
     "iopub.status.busy": "2025-08-19T18:03:04.078648Z",
     "iopub.status.idle": "2025-08-19T18:03:04.091423Z",
     "shell.execute_reply": "2025-08-19T18:03:04.090588Z"
    },
    "papermill": {
     "duration": 0.028094,
     "end_time": "2025-08-19T18:03:04.093084",
     "exception": false,
     "start_time": "2025-08-19T18:03:04.064990",
     "status": "completed"
    },
    "tags": []
   },
   "outputs": [
    {
     "data": {
      "text/html": [
       "<div>\n",
       "<style scoped>\n",
       "    .dataframe tbody tr th:only-of-type {\n",
       "        vertical-align: middle;\n",
       "    }\n",
       "\n",
       "    .dataframe tbody tr th {\n",
       "        vertical-align: top;\n",
       "    }\n",
       "\n",
       "    .dataframe thead th {\n",
       "        text-align: right;\n",
       "    }\n",
       "</style>\n",
       "<table border=\"1\" class=\"dataframe\">\n",
       "  <thead>\n",
       "    <tr style=\"text-align: right;\">\n",
       "      <th></th>\n",
       "      <th>accuracy</th>\n",
       "      <th>balanced accuracy</th>\n",
       "      <th>f1</th>\n",
       "      <th>precision</th>\n",
       "      <th>false positive rate</th>\n",
       "      <th>false negative rate</th>\n",
       "      <th>selection rate</th>\n",
       "      <th>count</th>\n",
       "    </tr>\n",
       "    <tr>\n",
       "      <th>majmin</th>\n",
       "      <th></th>\n",
       "      <th></th>\n",
       "      <th></th>\n",
       "      <th></th>\n",
       "      <th></th>\n",
       "      <th></th>\n",
       "      <th></th>\n",
       "      <th></th>\n",
       "    </tr>\n",
       "  </thead>\n",
       "  <tbody>\n",
       "    <tr>\n",
       "      <th>majority</th>\n",
       "      <td>0.247015</td>\n",
       "      <td>0.560758</td>\n",
       "      <td>0.257322</td>\n",
       "      <td>0.147942</td>\n",
       "      <td>0.865684</td>\n",
       "      <td>0.012801</td>\n",
       "      <td>0.881741</td>\n",
       "      <td>69170.0</td>\n",
       "    </tr>\n",
       "    <tr>\n",
       "      <th>minority</th>\n",
       "      <td>0.152240</td>\n",
       "      <td>0.517946</td>\n",
       "      <td>0.212687</td>\n",
       "      <td>0.119095</td>\n",
       "      <td>0.957352</td>\n",
       "      <td>0.006757</td>\n",
       "      <td>0.961490</td>\n",
       "      <td>20540.0</td>\n",
       "    </tr>\n",
       "  </tbody>\n",
       "</table>\n",
       "</div>"
      ],
      "text/plain": [
       "          accuracy  balanced accuracy        f1  precision  \\\n",
       "majmin                                                       \n",
       "majority  0.247015           0.560758  0.257322   0.147942   \n",
       "minority  0.152240           0.517946  0.212687   0.119095   \n",
       "\n",
       "          false positive rate  false negative rate  selection rate    count  \n",
       "majmin                                                                       \n",
       "majority             0.865684             0.012801        0.881741  69170.0  \n",
       "minority             0.957352             0.006757        0.961490  20540.0  "
      ]
     },
     "execution_count": 60,
     "metadata": {},
     "output_type": "execute_result"
    }
   ],
   "source": [
    "metric_frame.by_group"
   ]
  },
  {
   "cell_type": "code",
   "execution_count": 61,
   "id": "6e6c20ae",
   "metadata": {
    "execution": {
     "iopub.execute_input": "2025-08-19T18:03:04.121086Z",
     "iopub.status.busy": "2025-08-19T18:03:04.120694Z",
     "iopub.status.idle": "2025-08-19T18:03:06.016286Z",
     "shell.execute_reply": "2025-08-19T18:03:06.013708Z"
    },
    "papermill": {
     "duration": 1.910953,
     "end_time": "2025-08-19T18:03:06.017996",
     "exception": false,
     "start_time": "2025-08-19T18:03:04.107043",
     "status": "completed"
    },
    "tags": []
   },
   "outputs": [
    {
     "data": {
      "text/plain": [
       "array([[<Axes: title={'center': 'accuracy'}, xlabel='majmin'>,\n",
       "        <Axes: title={'center': 'balanced accuracy'}, xlabel='majmin'>,\n",
       "        <Axes: title={'center': 'f1'}, xlabel='majmin'>],\n",
       "       [<Axes: title={'center': 'precision'}, xlabel='majmin'>,\n",
       "        <Axes: title={'center': 'false positive rate'}, xlabel='majmin'>,\n",
       "        <Axes: title={'center': 'false negative rate'}, xlabel='majmin'>],\n",
       "       [<Axes: title={'center': 'selection rate'}, xlabel='majmin'>,\n",
       "        <Axes: title={'center': 'count'}, xlabel='majmin'>,\n",
       "        <Axes: xlabel='majmin'>]], dtype=object)"
      ]
     },
     "execution_count": 61,
     "metadata": {},
     "output_type": "execute_result"
    },
    {
     "data": {
      "image/png": "[encoded data removed]",
      "text/plain": [
       "<Figure size 1200x800 with 9 Axes>"
      ]
     },
     "metadata": {},
     "output_type": "display_data"
    }
   ],
   "source": [
    "# In a graphic\n",
    "metric_frame.by_group.plot.bar(\n",
    "    subplots=True,\n",
    "    layout=[3, 3],\n",
    "    legend=False,\n",
    "    figsize=[12, 8],\n",
    "    title=\"Show all metrics\",\n",
    ")"
   ]
  },
  {
   "cell_type": "markdown",
   "id": "b2e433ae",
   "metadata": {
    "papermill": {
     "duration": 0.014608,
     "end_time": "2025-08-19T18:03:06.057958",
     "exception": false,
     "start_time": "2025-08-19T18:03:06.043350",
     "status": "completed"
    },
    "tags": []
   },
   "source": [
    "# Final Output"
   ]
  },
  {
   "cell_type": "code",
   "execution_count": 62,
   "id": "3871301e",
   "metadata": {
    "execution": {
     "iopub.execute_input": "2025-08-19T18:03:06.090928Z",
     "iopub.status.busy": "2025-08-19T18:03:06.089183Z",
     "iopub.status.idle": "2025-08-19T18:03:06.104083Z",
     "shell.execute_reply": "2025-08-19T18:03:06.102718Z"
    },
    "papermill": {
     "duration": 0.033717,
     "end_time": "2025-08-19T18:03:06.105766",
     "exception": false,
     "start_time": "2025-08-19T18:03:06.072049",
     "status": "completed"
    },
    "tags": []
   },
   "outputs": [
    {
     "data": {
      "text/plain": [
       "4"
      ]
     },
     "execution_count": 62,
     "metadata": {},
     "output_type": "execute_result"
    }
   ],
   "source": [
    "sub_universes = universe_analysis.generate_sub_universes()\n",
    "len(sub_universes)"
   ]
  },
  {
   "cell_type": "code",
   "execution_count": 63,
   "id": "d9cfdaca",
   "metadata": {
    "execution": {
     "iopub.execute_input": "2025-08-19T18:03:06.144956Z",
     "iopub.status.busy": "2025-08-19T18:03:06.143184Z",
     "iopub.status.idle": "2025-08-19T18:03:06.163394Z",
     "shell.execute_reply": "2025-08-19T18:03:06.161659Z"
    },
    "papermill": {
     "duration": 0.038432,
     "end_time": "2025-08-19T18:03:06.165360",
     "exception": false,
     "start_time": "2025-08-19T18:03:06.126928",
     "status": "completed"
    },
    "tags": []
   },
   "outputs": [],
   "source": [
    "def filter_sub_universe_data(sub_universe, org_test):\n",
    "    # Keep all rows — no filtering\n",
    "    keep_rows_mask = np.ones(org_test.shape[0], dtype=bool)\n",
    "\n",
    "    print(f\"[INFO] Keeping all rows: {keep_rows_mask.sum()} rows retained.\")\n",
    "    return keep_rows_mask"
   ]
  },
  {
   "cell_type": "code",
   "execution_count": 64,
   "id": "2bc31ac1",
   "metadata": {
    "execution": {
     "iopub.execute_input": "2025-08-19T18:03:06.203574Z",
     "iopub.status.busy": "2025-08-19T18:03:06.202263Z",
     "iopub.status.idle": "2025-08-19T18:03:12.853718Z",
     "shell.execute_reply": "2025-08-19T18:03:12.852379Z"
    },
    "papermill": {
     "duration": 6.668972,
     "end_time": "2025-08-19T18:03:12.855423",
     "exception": false,
     "start_time": "2025-08-19T18:03:06.186451",
     "status": "completed"
    },
    "tags": []
   },
   "outputs": [
    {
     "name": "stdout",
     "output_type": "stream",
     "text": [
      "Stopping execution_time clock.\n",
      "[INFO] Keeping all rows: 89710 rows retained.\n"
     ]
    },
    {
     "name": "stdout",
     "output_type": "stream",
     "text": [
      "[INFO] Keeping all rows: 89710 rows retained.\n"
     ]
    },
    {
     "name": "stdout",
     "output_type": "stream",
     "text": [
      "[INFO] Keeping all rows: 89710 rows retained.\n"
     ]
    },
    {
     "name": "stdout",
     "output_type": "stream",
     "text": [
      "[INFO] Keeping all rows: 89710 rows retained.\n"
     ]
    },
    {
     "data": {
      "text/html": [
       "<div>\n",
       "<style scoped>\n",
       "    .dataframe tbody tr th:only-of-type {\n",
       "        vertical-align: middle;\n",
       "    }\n",
       "\n",
       "    .dataframe tbody tr th {\n",
       "        vertical-align: top;\n",
       "    }\n",
       "\n",
       "    .dataframe thead th {\n",
       "        text-align: right;\n",
       "    }\n",
       "</style>\n",
       "<table border=\"1\" class=\"dataframe\">\n",
       "  <thead>\n",
       "    <tr style=\"text-align: right;\">\n",
       "      <th></th>\n",
       "      <th>run_no</th>\n",
       "      <th>universe_id</th>\n",
       "      <th>universe_settings</th>\n",
       "      <th>execution_time</th>\n",
       "      <th>test_size_n</th>\n",
       "      <th>test_size_frac</th>\n",
       "      <th>fair_main_equalized_odds_difference</th>\n",
       "      <th>fair_main_equalized_odds_ratio</th>\n",
       "      <th>fair_main_demographic_parity_difference</th>\n",
       "      <th>fair_main_demographic_parity_ratio</th>\n",
       "      <th>...</th>\n",
       "      <th>perf_grp_precision_0</th>\n",
       "      <th>perf_grp_precision_1</th>\n",
       "      <th>perf_grp_false positive rate_0</th>\n",
       "      <th>perf_grp_false positive rate_1</th>\n",
       "      <th>perf_grp_false negative rate_0</th>\n",
       "      <th>perf_grp_false negative rate_1</th>\n",
       "      <th>perf_grp_selection rate_0</th>\n",
       "      <th>perf_grp_selection rate_1</th>\n",
       "      <th>perf_grp_count_0</th>\n",
       "      <th>perf_grp_count_1</th>\n",
       "    </tr>\n",
       "  </thead>\n",
       "  <tbody>\n",
       "    <tr>\n",
       "      <th>0</th>\n",
       "      <td>3</td>\n",
       "      <td>9ba41d2a834a9ca377ef954bf0cfef14</td>\n",
       "      <td>{\"cutoff\": \"quantile_0.1\", \"eval_fairness_grou...</td>\n",
       "      <td>21.957986</td>\n",
       "      <td>89710</td>\n",
       "      <td>1.0</td>\n",
       "      <td>0.091668</td>\n",
       "      <td>0.904248</td>\n",
       "      <td>0.079749</td>\n",
       "      <td>0.917057</td>\n",
       "      <td>...</td>\n",
       "      <td>NaN</td>\n",
       "      <td>NaN</td>\n",
       "      <td>NaN</td>\n",
       "      <td>NaN</td>\n",
       "      <td>NaN</td>\n",
       "      <td>NaN</td>\n",
       "      <td>NaN</td>\n",
       "      <td>NaN</td>\n",
       "      <td>NaN</td>\n",
       "      <td>NaN</td>\n",
       "    </tr>\n",
       "    <tr>\n",
       "      <th>0</th>\n",
       "      <td>3</td>\n",
       "      <td>9ba41d2a834a9ca377ef954bf0cfef14</td>\n",
       "      <td>{\"cutoff\": \"quantile_0.1\", \"eval_fairness_grou...</td>\n",
       "      <td>21.957986</td>\n",
       "      <td>89710</td>\n",
       "      <td>1.0</td>\n",
       "      <td>0.091668</td>\n",
       "      <td>0.904248</td>\n",
       "      <td>0.079749</td>\n",
       "      <td>0.917057</td>\n",
       "      <td>...</td>\n",
       "      <td>0.119095</td>\n",
       "      <td>0.147942</td>\n",
       "      <td>0.957352</td>\n",
       "      <td>0.865684</td>\n",
       "      <td>0.006757</td>\n",
       "      <td>0.012801</td>\n",
       "      <td>0.96149</td>\n",
       "      <td>0.881741</td>\n",
       "      <td>20540.0</td>\n",
       "      <td>69170.0</td>\n",
       "    </tr>\n",
       "    <tr>\n",
       "      <th>0</th>\n",
       "      <td>3</td>\n",
       "      <td>9ba41d2a834a9ca377ef954bf0cfef14</td>\n",
       "      <td>{\"cutoff\": \"quantile_0.25\", \"eval_fairness_gro...</td>\n",
       "      <td>21.957986</td>\n",
       "      <td>89710</td>\n",
       "      <td>1.0</td>\n",
       "      <td>0.161307</td>\n",
       "      <td>0.808938</td>\n",
       "      <td>0.139805</td>\n",
       "      <td>0.837017</td>\n",
       "      <td>...</td>\n",
       "      <td>NaN</td>\n",
       "      <td>NaN</td>\n",
       "      <td>NaN</td>\n",
       "      <td>NaN</td>\n",
       "      <td>NaN</td>\n",
       "      <td>NaN</td>\n",
       "      <td>NaN</td>\n",
       "      <td>NaN</td>\n",
       "      <td>NaN</td>\n",
       "      <td>NaN</td>\n",
       "    </tr>\n",
       "    <tr>\n",
       "      <th>0</th>\n",
       "      <td>3</td>\n",
       "      <td>9ba41d2a834a9ca377ef954bf0cfef14</td>\n",
       "      <td>{\"cutoff\": \"quantile_0.25\", \"eval_fairness_gro...</td>\n",
       "      <td>21.957986</td>\n",
       "      <td>89710</td>\n",
       "      <td>1.0</td>\n",
       "      <td>0.161307</td>\n",
       "      <td>0.808938</td>\n",
       "      <td>0.139805</td>\n",
       "      <td>0.837017</td>\n",
       "      <td>...</td>\n",
       "      <td>0.129235</td>\n",
       "      <td>0.174476</td>\n",
       "      <td>0.844266</td>\n",
       "      <td>0.682959</td>\n",
       "      <td>0.038429</td>\n",
       "      <td>0.051969</td>\n",
       "      <td>0.85779</td>\n",
       "      <td>0.717985</td>\n",
       "      <td>20540.0</td>\n",
       "      <td>69170.0</td>\n",
       "    </tr>\n",
       "  </tbody>\n",
       "</table>\n",
       "<p>4 rows × 50 columns</p>\n",
       "</div>"
      ],
      "text/plain": [
       "  run_no                       universe_id  \\\n",
       "0      3  9ba41d2a834a9ca377ef954bf0cfef14   \n",
       "0      3  9ba41d2a834a9ca377ef954bf0cfef14   \n",
       "0      3  9ba41d2a834a9ca377ef954bf0cfef14   \n",
       "0      3  9ba41d2a834a9ca377ef954bf0cfef14   \n",
       "\n",
       "                                   universe_settings  execution_time  \\\n",
       "0  {\"cutoff\": \"quantile_0.1\", \"eval_fairness_grou...       21.957986   \n",
       "0  {\"cutoff\": \"quantile_0.1\", \"eval_fairness_grou...       21.957986   \n",
       "0  {\"cutoff\": \"quantile_0.25\", \"eval_fairness_gro...       21.957986   \n",
       "0  {\"cutoff\": \"quantile_0.25\", \"eval_fairness_gro...       21.957986   \n",
       "\n",
       "   test_size_n  test_size_frac  fair_main_equalized_odds_difference  \\\n",
       "0        89710             1.0                             0.091668   \n",
       "0        89710             1.0                             0.091668   \n",
       "0        89710             1.0                             0.161307   \n",
       "0        89710             1.0                             0.161307   \n",
       "\n",
       "   fair_main_equalized_odds_ratio  fair_main_demographic_parity_difference  \\\n",
       "0                        0.904248                                 0.079749   \n",
       "0                        0.904248                                 0.079749   \n",
       "0                        0.808938                                 0.139805   \n",
       "0                        0.808938                                 0.139805   \n",
       "\n",
       "   fair_main_demographic_parity_ratio  ...  perf_grp_precision_0  \\\n",
       "0                            0.917057  ...                   NaN   \n",
       "0                            0.917057  ...              0.119095   \n",
       "0                            0.837017  ...                   NaN   \n",
       "0                            0.837017  ...              0.129235   \n",
       "\n",
       "   perf_grp_precision_1  perf_grp_false positive rate_0  \\\n",
       "0                   NaN                             NaN   \n",
       "0              0.147942                        0.957352   \n",
       "0                   NaN                             NaN   \n",
       "0              0.174476                        0.844266   \n",
       "\n",
       "   perf_grp_false positive rate_1  perf_grp_false negative rate_0  \\\n",
       "0                             NaN                             NaN   \n",
       "0                        0.865684                        0.006757   \n",
       "0                             NaN                             NaN   \n",
       "0                        0.682959                        0.038429   \n",
       "\n",
       "   perf_grp_false negative rate_1  perf_grp_selection rate_0  \\\n",
       "0                             NaN                        NaN   \n",
       "0                        0.012801                    0.96149   \n",
       "0                             NaN                        NaN   \n",
       "0                        0.051969                    0.85779   \n",
       "\n",
       "   perf_grp_selection rate_1  perf_grp_count_0  perf_grp_count_1  \n",
       "0                        NaN               NaN               NaN  \n",
       "0                   0.881741           20540.0           69170.0  \n",
       "0                        NaN               NaN               NaN  \n",
       "0                   0.717985           20540.0           69170.0  \n",
       "\n",
       "[4 rows x 50 columns]"
      ]
     },
     "execution_count": 64,
     "metadata": {},
     "output_type": "execute_result"
    }
   ],
   "source": [
    "final_output = universe_analysis.generate_final_output(\n",
    "    y_pred_prob=probs_test,\n",
    "    y_test=y_true,\n",
    "    org_test=org_test,\n",
    "    filter_data=filter_sub_universe_data,\n",
    "    cp_metrics_df=cp_metrics_df,\n",
    "    save=True,\n",
    ")\n",
    "final_output"
   ]
  },
  {
   "cell_type": "code",
   "execution_count": null,
   "id": "8b80a1ff",
   "metadata": {
    "papermill": {
     "duration": 0.01432,
     "end_time": "2025-08-19T18:03:12.889747",
     "exception": false,
     "start_time": "2025-08-19T18:03:12.875427",
     "status": "completed"
    },
    "tags": []
   },
   "outputs": [],
   "source": []
  },
  {
   "cell_type": "code",
   "execution_count": null,
   "id": "275c9fad",
   "metadata": {
    "papermill": {
     "duration": 0.014085,
     "end_time": "2025-08-19T18:03:12.918900",
     "exception": false,
     "start_time": "2025-08-19T18:03:12.904815",
     "status": "completed"
    },
    "tags": []
   },
   "outputs": [],
   "source": []
  }
 ],
 "metadata": {
  "celltoolbar": "Tags",
  "kernelspec": {
   "display_name": "Python (CMA Fairness)",
   "language": "python",
   "name": "cma_fair_env"
  },
  "language_info": {
   "codemirror_mode": {
    "name": "ipython",
    "version": 3
   },
   "file_extension": ".py",
   "mimetype": "text/x-python",
   "name": "python",
   "nbconvert_exporter": "python",
   "pygments_lexer": "ipython3",
   "version": "3.10.12"
  },
  "papermill": {
   "default_parameters": {},
   "duration": 32.442124,
   "end_time": "2025-08-19T18:03:13.757381",
   "environment_variables": {},
   "exception": null,
   "input_path": "universe_analysis.ipynb",
   "output_path": "output/runs/3/notebooks/m_3-9ba41d2a834a9ca377ef954bf0cfef14.ipynb",
   "parameters": {
    "output_dir": "output",
    "run_no": "3",
    "seed": "2023",
    "universe": "{\"cutoff\": [\"quantile_0.1\", \"quantile_0.25\"], \"eval_fairness_grouping\": [\"majority-minority\", \"nationality-all\"], \"exclude_features\": \"none\", \"exclude_subgroups\": \"keep-all\", \"model\": \"logreg\", \"scale\": \"scale\", \"training_size\": \"25k\", \"training_year\": \"2012_14\"}",
    "universe_id": "9ba41d2a834a9ca377ef954bf0cfef14"
   },
   "start_time": "2025-08-19T18:02:41.315257",
   "version": "2.6.0"
  }
 },
 "nbformat": 4,
 "nbformat_minor": 5
}