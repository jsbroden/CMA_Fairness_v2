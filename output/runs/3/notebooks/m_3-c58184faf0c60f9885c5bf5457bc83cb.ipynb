{
 "cells": [
  {
   "cell_type": "markdown",
   "id": "ef23dbb3",
   "metadata": {
    "papermill": {
     "duration": 0.009275,
     "end_time": "2025-08-19T17:58:35.487234",
     "exception": false,
     "start_time": "2025-08-19T17:58:35.477959",
     "status": "completed"
    },
    "tags": []
   },
   "source": [
    "# Setup"
   ]
  },
  {
   "cell_type": "code",
   "execution_count": 1,
   "id": "0bc8e7dc",
   "metadata": {
    "execution": {
     "iopub.execute_input": "2025-08-19T17:58:35.524741Z",
     "iopub.status.busy": "2025-08-19T17:58:35.524299Z",
     "iopub.status.idle": "2025-08-19T17:58:35.536720Z",
     "shell.execute_reply": "2025-08-19T17:58:35.535624Z"
    },
    "papermill": {
     "duration": 0.029722,
     "end_time": "2025-08-19T17:58:35.539297",
     "exception": false,
     "start_time": "2025-08-19T17:58:35.509575",
     "status": "completed"
    },
    "tags": []
   },
   "outputs": [
    {
     "name": "stdout",
     "output_type": "stream",
     "text": [
      "/dss/dsshome1/0C/ra93lal2/cma/CMA_Fairness_v2\n"
     ]
    },
    {
     "name": "stderr",
     "output_type": "stream",
     "text": [
      "/dss/dsshome1/0C/ra93lal2/.local/share/virtualenvs/CMA_Fairness_v2-3j10GkSs/lib/python3.10/site-packages/IPython/core/magics/osm.py:393: UserWarning: This is now an optional IPython functionality, using bookmarks requires you to install the `pickleshare` library.\n",
      "  bkms = self.shell.db.get('bookmarks', {})\n",
      "/dss/dsshome1/0C/ra93lal2/.local/share/virtualenvs/CMA_Fairness_v2-3j10GkSs/lib/python3.10/site-packages/IPython/core/magics/osm.py:417: UserWarning: This is now an optional IPython functionality, setting dhist requires you to install the `pickleshare` library.\n",
      "  self.shell.db['dhist'] = compress_dhist(dhist)[-100:]\n"
     ]
    }
   ],
   "source": [
    "%cd ~/cma/CMA_Fairness_v2"
   ]
  },
  {
   "cell_type": "markdown",
   "id": "9d235661",
   "metadata": {
    "papermill": {
     "duration": 0.011066,
     "end_time": "2025-08-19T17:58:35.570820",
     "exception": false,
     "start_time": "2025-08-19T17:58:35.559754",
     "status": "completed"
    },
    "tags": []
   },
   "source": [
    "The following cell holds the definition of our parameters, these values can be overriden by rendering the with e.g. the following command:\n",
    "\n",
    "papermill -p alpha 0.2 -p ratio 0.3 universe_analysis.ipynb output/test_run.ipynb"
   ]
  },
  {
   "cell_type": "code",
   "execution_count": 2,
   "id": "4a789d8e",
   "metadata": {
    "execution": {
     "iopub.execute_input": "2025-08-19T17:58:35.590578Z",
     "iopub.status.busy": "2025-08-19T17:58:35.589872Z",
     "iopub.status.idle": "2025-08-19T17:58:35.600943Z",
     "shell.execute_reply": "2025-08-19T17:58:35.598959Z"
    },
    "papermill": {
     "duration": 0.023375,
     "end_time": "2025-08-19T17:58:35.602926",
     "exception": false,
     "start_time": "2025-08-19T17:58:35.579551",
     "status": "completed"
    },
    "tags": []
   },
   "outputs": [
    {
     "name": "stdout",
     "output_type": "stream",
     "text": [
      "Current working directory: /dss/dsshome1/0C/ra93lal2/cma/CMA_Fairness_v2\n"
     ]
    }
   ],
   "source": [
    "import os\n",
    "print(\"Current working directory:\", os.getcwd())"
   ]
  },
  {
   "cell_type": "code",
   "execution_count": 3,
   "id": "4132aaed",
   "metadata": {
    "execution": {
     "iopub.execute_input": "2025-08-19T17:58:35.628044Z",
     "iopub.status.busy": "2025-08-19T17:58:35.627636Z",
     "iopub.status.idle": "2025-08-19T17:58:35.633721Z",
     "shell.execute_reply": "2025-08-19T17:58:35.632679Z"
    },
    "papermill": {
     "duration": 0.019219,
     "end_time": "2025-08-19T17:58:35.634935",
     "exception": false,
     "start_time": "2025-08-19T17:58:35.615716",
     "status": "completed"
    },
    "tags": [
     "parameters"
    ]
   },
   "outputs": [],
   "source": [
    "run_no = 0\n",
    "universe_id = \"test\"\n",
    "universe = {\n",
    "    \"training_size\": \"5k\", # \"25k\", \"5k\", \"1k\"\n",
    "    \"training_year\": \"2012_14\", # \"2014\", \"2012_14\", \"2010_14\"\n",
    "    \"scale\": \"scale\", # \"scale\", \"do-not-scale\",\n",
    "    \"model\": \"elasticnet\", # \"logreg\", \"penalized_logreg\", \"rf\", \"gbm\", \"elasticnet\"\n",
    "    \"cutoff\": [\"quantile_0.15\", \"quantile_0.30\"],\n",
    "    \"exclude_features\": \"age\", # \"none\", \"nationality\", \"sex\", \"nationality-sex\", \"age\"\n",
    "    \"exclude_subgroups\": \"drop-non-german\", # \"keep-all\", \"drop-non-german\"\n",
    "    \"eval_fairness_grouping\": [\"majority-minority\", \"nationality-all\"]\n",
    "}\n",
    "\n",
    "output_dir=\"./output\"\n",
    "seed=0"
   ]
  },
  {
   "cell_type": "code",
   "execution_count": 4,
   "id": "3ae88f82",
   "metadata": {
    "execution": {
     "iopub.execute_input": "2025-08-19T17:58:35.674653Z",
     "iopub.status.busy": "2025-08-19T17:58:35.674303Z",
     "iopub.status.idle": "2025-08-19T17:58:35.679184Z",
     "shell.execute_reply": "2025-08-19T17:58:35.678185Z"
    },
    "papermill": {
     "duration": 0.035425,
     "end_time": "2025-08-19T17:58:35.681078",
     "exception": false,
     "start_time": "2025-08-19T17:58:35.645653",
     "status": "completed"
    },
    "tags": [
     "injected-parameters"
    ]
   },
   "outputs": [],
   "source": [
    "# Parameters\n",
    "universe_id = \"c58184faf0c60f9885c5bf5457bc83cb\"\n",
    "run_no = \"3\"\n",
    "universe = \"{\\\"cutoff\\\": [\\\"quantile_0.1\\\", \\\"quantile_0.25\\\"], \\\"eval_fairness_grouping\\\": [\\\"majority-minority\\\", \\\"nationality-all\\\"], \\\"exclude_features\\\": \\\"age\\\", \\\"exclude_subgroups\\\": \\\"keep-all\\\", \\\"model\\\": \\\"logreg\\\", \\\"scale\\\": \\\"do-not-scale\\\", \\\"training_size\\\": \\\"25k\\\", \\\"training_year\\\": \\\"2014\\\"}\"\n",
    "output_dir = \"output\"\n",
    "seed = \"2023\"\n"
   ]
  },
  {
   "cell_type": "code",
   "execution_count": 5,
   "id": "a5d7941f",
   "metadata": {
    "execution": {
     "iopub.execute_input": "2025-08-19T17:58:35.702823Z",
     "iopub.status.busy": "2025-08-19T17:58:35.702178Z",
     "iopub.status.idle": "2025-08-19T17:58:35.706669Z",
     "shell.execute_reply": "2025-08-19T17:58:35.705902Z"
    },
    "papermill": {
     "duration": 0.015658,
     "end_time": "2025-08-19T17:58:35.707874",
     "exception": false,
     "start_time": "2025-08-19T17:58:35.692216",
     "status": "completed"
    },
    "tags": []
   },
   "outputs": [],
   "source": [
    "import json\n",
    "if isinstance(universe, str):\n",
    "    universe = json.loads(universe)"
   ]
  },
  {
   "cell_type": "code",
   "execution_count": 6,
   "id": "7076ccb1",
   "metadata": {
    "execution": {
     "iopub.execute_input": "2025-08-19T17:58:35.727735Z",
     "iopub.status.busy": "2025-08-19T17:58:35.727014Z",
     "iopub.status.idle": "2025-08-19T17:58:35.774905Z",
     "shell.execute_reply": "2025-08-19T17:58:35.773834Z"
    },
    "papermill": {
     "duration": 0.06035,
     "end_time": "2025-08-19T17:58:35.777561",
     "exception": false,
     "start_time": "2025-08-19T17:58:35.717211",
     "status": "completed"
    },
    "tags": []
   },
   "outputs": [],
   "source": [
    "# Auto-reload the custom package\n",
    "%load_ext autoreload\n",
    "%autoreload 1\n",
    "%aimport fairness_multiverse"
   ]
  },
  {
   "cell_type": "code",
   "execution_count": 7,
   "id": "94c8eb93",
   "metadata": {
    "execution": {
     "iopub.execute_input": "2025-08-19T17:58:35.805416Z",
     "iopub.status.busy": "2025-08-19T17:58:35.804514Z",
     "iopub.status.idle": "2025-08-19T17:58:37.615117Z",
     "shell.execute_reply": "2025-08-19T17:58:37.613795Z"
    },
    "papermill": {
     "duration": 1.823968,
     "end_time": "2025-08-19T17:58:37.616910",
     "exception": false,
     "start_time": "2025-08-19T17:58:35.792942",
     "status": "completed"
    },
    "tags": []
   },
   "outputs": [],
   "source": [
    "from fairness_multiverse.universe import UniverseAnalysis\n",
    "\n",
    "universe_analysis = UniverseAnalysis(\n",
    "    run_no = run_no,\n",
    "    universe_id = universe_id,\n",
    "    universe = universe,\n",
    "    output_dir=output_dir,\n",
    ")"
   ]
  },
  {
   "cell_type": "code",
   "execution_count": 8,
   "id": "2a6381cf",
   "metadata": {
    "execution": {
     "iopub.execute_input": "2025-08-19T17:58:37.637095Z",
     "iopub.status.busy": "2025-08-19T17:58:37.636776Z",
     "iopub.status.idle": "2025-08-19T17:58:37.643240Z",
     "shell.execute_reply": "2025-08-19T17:58:37.642303Z"
    },
    "papermill": {
     "duration": 0.018775,
     "end_time": "2025-08-19T17:58:37.644883",
     "exception": false,
     "start_time": "2025-08-19T17:58:37.626108",
     "status": "completed"
    },
    "tags": []
   },
   "outputs": [
    {
     "name": "stdout",
     "output_type": "stream",
     "text": [
      "Using Seed: 2023\n"
     ]
    }
   ],
   "source": [
    "import numpy as np\n",
    "parsed_seed = int(seed)\n",
    "np.random.seed(parsed_seed)\n",
    "print(f\"Using Seed: {parsed_seed}\")"
   ]
  },
  {
   "cell_type": "markdown",
   "id": "b6e958b4",
   "metadata": {
    "papermill": {
     "duration": 0.008838,
     "end_time": "2025-08-19T17:58:37.662709",
     "exception": false,
     "start_time": "2025-08-19T17:58:37.653871",
     "status": "completed"
    },
    "tags": []
   },
   "source": [
    "# Loading Data"
   ]
  },
  {
   "cell_type": "code",
   "execution_count": 9,
   "id": "98701482",
   "metadata": {
    "execution": {
     "iopub.execute_input": "2025-08-19T17:58:37.682217Z",
     "iopub.status.busy": "2025-08-19T17:58:37.681897Z",
     "iopub.status.idle": "2025-08-19T17:58:47.790723Z",
     "shell.execute_reply": "2025-08-19T17:58:47.789216Z"
    },
    "papermill": {
     "duration": 10.120395,
     "end_time": "2025-08-19T17:58:47.792165",
     "exception": false,
     "start_time": "2025-08-19T17:58:37.671770",
     "status": "completed"
    },
    "tags": []
   },
   "outputs": [
    {
     "name": "stdout",
     "output_type": "stream",
     "text": [
      "Loading SIAB data from cache: data/siab_cached.csv.gz\n"
     ]
    },
    {
     "name": "stdout",
     "output_type": "stream",
     "text": [
      "(643690, 164)\n"
     ]
    }
   ],
   "source": [
    "from pathlib import Path\n",
    "import pandas as pd\n",
    "\n",
    "# File paths\n",
    "raw_file = Path(\"data/raw/siab.csv\")\n",
    "cache_file = Path(\"data/siab_cached.csv.gz\")\n",
    "\n",
    "# Ensure cache directory exists\n",
    "cache_file.parent.mkdir(parents=True, exist_ok=True)\n",
    "\n",
    "# Load with simple caching\n",
    "if cache_file.exists():\n",
    "    print(f\"Loading SIAB data from cache: {cache_file}\")\n",
    "    siab = pd.read_csv(cache_file, compression='gzip')\n",
    "else:\n",
    "    print(f\"Cache not found. Reading raw SIAB data: {raw_file}\")\n",
    "    siab = pd.read_csv(raw_file)\n",
    "    siab.to_csv(cache_file, index=False, compression='gzip')\n",
    "    print(f\"Cached SIAB data to: {cache_file}\")\n",
    "\n",
    "print(siab.shape)"
   ]
  },
  {
   "cell_type": "code",
   "execution_count": 10,
   "id": "058d2abb",
   "metadata": {
    "execution": {
     "iopub.execute_input": "2025-08-19T17:58:47.836194Z",
     "iopub.status.busy": "2025-08-19T17:58:47.829977Z",
     "iopub.status.idle": "2025-08-19T17:58:48.055635Z",
     "shell.execute_reply": "2025-08-19T17:58:48.054735Z"
    },
    "papermill": {
     "duration": 0.254594,
     "end_time": "2025-08-19T17:58:48.059177",
     "exception": false,
     "start_time": "2025-08-19T17:58:47.804583",
     "status": "completed"
    },
    "tags": []
   },
   "outputs": [
    {
     "data": {
      "text/html": [
       "<div>\n",
       "<style scoped>\n",
       "    .dataframe tbody tr th:only-of-type {\n",
       "        vertical-align: middle;\n",
       "    }\n",
       "\n",
       "    .dataframe tbody tr th {\n",
       "        vertical-align: top;\n",
       "    }\n",
       "\n",
       "    .dataframe thead th {\n",
       "        text-align: right;\n",
       "    }\n",
       "</style>\n",
       "<table border=\"1\" class=\"dataframe\">\n",
       "  <thead>\n",
       "    <tr style=\"text-align: right;\">\n",
       "      <th></th>\n",
       "      <th>persnr</th>\n",
       "      <th>year</th>\n",
       "      <th>nrEntry</th>\n",
       "      <th>ltue</th>\n",
       "      <th>employed_before</th>\n",
       "      <th>receipt_leh_before</th>\n",
       "      <th>receipt_lhg_before</th>\n",
       "      <th>se_before</th>\n",
       "      <th>ASU_notue_seeking_before</th>\n",
       "      <th>ASU_other_before</th>\n",
       "      <th>...</th>\n",
       "      <th>minijob_tot_dur_byage</th>\n",
       "      <th>ft_tot_dur_byage</th>\n",
       "      <th>befrist_tot_dur_byage</th>\n",
       "      <th>leih_tot_dur_byage</th>\n",
       "      <th>LHG_tot_dur_byage</th>\n",
       "      <th>LEH_tot_dur_byage</th>\n",
       "      <th>almp_tot_dur_byage</th>\n",
       "      <th>almp_aw_tot_dur_byage</th>\n",
       "      <th>se_tot_dur_byage</th>\n",
       "      <th>seeking1_tot_dur_byage</th>\n",
       "    </tr>\n",
       "  </thead>\n",
       "  <tbody>\n",
       "    <tr>\n",
       "      <th>0</th>\n",
       "      <td>7</td>\n",
       "      <td>2015</td>\n",
       "      <td>1</td>\n",
       "      <td>0</td>\n",
       "      <td>1</td>\n",
       "      <td>0</td>\n",
       "      <td>0</td>\n",
       "      <td>0</td>\n",
       "      <td>1</td>\n",
       "      <td>0</td>\n",
       "      <td>...</td>\n",
       "      <td>0.000000</td>\n",
       "      <td>0.000000</td>\n",
       "      <td>15.043478</td>\n",
       "      <td>0.000000</td>\n",
       "      <td>0.000000</td>\n",
       "      <td>0.000000</td>\n",
       "      <td>0.000000</td>\n",
       "      <td>0.000000</td>\n",
       "      <td>0.000000</td>\n",
       "      <td>0.000000</td>\n",
       "    </tr>\n",
       "    <tr>\n",
       "      <th>1</th>\n",
       "      <td>18</td>\n",
       "      <td>2010</td>\n",
       "      <td>1</td>\n",
       "      <td>1</td>\n",
       "      <td>0</td>\n",
       "      <td>0</td>\n",
       "      <td>0</td>\n",
       "      <td>0</td>\n",
       "      <td>0</td>\n",
       "      <td>0</td>\n",
       "      <td>...</td>\n",
       "      <td>0.000000</td>\n",
       "      <td>0.000000</td>\n",
       "      <td>0.000000</td>\n",
       "      <td>0.000000</td>\n",
       "      <td>0.000000</td>\n",
       "      <td>0.000000</td>\n",
       "      <td>0.000000</td>\n",
       "      <td>0.000000</td>\n",
       "      <td>0.000000</td>\n",
       "      <td>0.000000</td>\n",
       "    </tr>\n",
       "    <tr>\n",
       "      <th>2</th>\n",
       "      <td>18</td>\n",
       "      <td>2011</td>\n",
       "      <td>2</td>\n",
       "      <td>0</td>\n",
       "      <td>1</td>\n",
       "      <td>0</td>\n",
       "      <td>1</td>\n",
       "      <td>0</td>\n",
       "      <td>1</td>\n",
       "      <td>0</td>\n",
       "      <td>...</td>\n",
       "      <td>2.714286</td>\n",
       "      <td>2.714286</td>\n",
       "      <td>0.000000</td>\n",
       "      <td>0.000000</td>\n",
       "      <td>10.775510</td>\n",
       "      <td>0.000000</td>\n",
       "      <td>8.367347</td>\n",
       "      <td>0.000000</td>\n",
       "      <td>0.000000</td>\n",
       "      <td>9.836735</td>\n",
       "    </tr>\n",
       "    <tr>\n",
       "      <th>3</th>\n",
       "      <td>18</td>\n",
       "      <td>2012</td>\n",
       "      <td>3</td>\n",
       "      <td>0</td>\n",
       "      <td>1</td>\n",
       "      <td>0</td>\n",
       "      <td>1</td>\n",
       "      <td>0</td>\n",
       "      <td>1</td>\n",
       "      <td>0</td>\n",
       "      <td>...</td>\n",
       "      <td>4.200000</td>\n",
       "      <td>4.200000</td>\n",
       "      <td>0.000000</td>\n",
       "      <td>0.000000</td>\n",
       "      <td>12.100000</td>\n",
       "      <td>0.000000</td>\n",
       "      <td>9.400000</td>\n",
       "      <td>0.000000</td>\n",
       "      <td>0.000000</td>\n",
       "      <td>9.960000</td>\n",
       "    </tr>\n",
       "    <tr>\n",
       "      <th>4</th>\n",
       "      <td>18</td>\n",
       "      <td>2012</td>\n",
       "      <td>4</td>\n",
       "      <td>0</td>\n",
       "      <td>1</td>\n",
       "      <td>0</td>\n",
       "      <td>1</td>\n",
       "      <td>0</td>\n",
       "      <td>1</td>\n",
       "      <td>0</td>\n",
       "      <td>...</td>\n",
       "      <td>5.460000</td>\n",
       "      <td>5.460000</td>\n",
       "      <td>0.000000</td>\n",
       "      <td>0.000000</td>\n",
       "      <td>13.360000</td>\n",
       "      <td>0.000000</td>\n",
       "      <td>10.320000</td>\n",
       "      <td>0.000000</td>\n",
       "      <td>0.000000</td>\n",
       "      <td>10.280000</td>\n",
       "    </tr>\n",
       "    <tr>\n",
       "      <th>...</th>\n",
       "      <td>...</td>\n",
       "      <td>...</td>\n",
       "      <td>...</td>\n",
       "      <td>...</td>\n",
       "      <td>...</td>\n",
       "      <td>...</td>\n",
       "      <td>...</td>\n",
       "      <td>...</td>\n",
       "      <td>...</td>\n",
       "      <td>...</td>\n",
       "      <td>...</td>\n",
       "      <td>...</td>\n",
       "      <td>...</td>\n",
       "      <td>...</td>\n",
       "      <td>...</td>\n",
       "      <td>...</td>\n",
       "      <td>...</td>\n",
       "      <td>...</td>\n",
       "      <td>...</td>\n",
       "      <td>...</td>\n",
       "      <td>...</td>\n",
       "    </tr>\n",
       "    <tr>\n",
       "      <th>643685</th>\n",
       "      <td>1827860</td>\n",
       "      <td>2013</td>\n",
       "      <td>1</td>\n",
       "      <td>0</td>\n",
       "      <td>0</td>\n",
       "      <td>0</td>\n",
       "      <td>1</td>\n",
       "      <td>0</td>\n",
       "      <td>0</td>\n",
       "      <td>1</td>\n",
       "      <td>...</td>\n",
       "      <td>0.000000</td>\n",
       "      <td>0.000000</td>\n",
       "      <td>0.000000</td>\n",
       "      <td>0.000000</td>\n",
       "      <td>0.612903</td>\n",
       "      <td>0.000000</td>\n",
       "      <td>0.000000</td>\n",
       "      <td>0.000000</td>\n",
       "      <td>0.000000</td>\n",
       "      <td>0.000000</td>\n",
       "    </tr>\n",
       "    <tr>\n",
       "      <th>643686</th>\n",
       "      <td>1827860</td>\n",
       "      <td>2015</td>\n",
       "      <td>2</td>\n",
       "      <td>1</td>\n",
       "      <td>0</td>\n",
       "      <td>0</td>\n",
       "      <td>1</td>\n",
       "      <td>0</td>\n",
       "      <td>1</td>\n",
       "      <td>0</td>\n",
       "      <td>...</td>\n",
       "      <td>0.000000</td>\n",
       "      <td>0.000000</td>\n",
       "      <td>0.212121</td>\n",
       "      <td>0.212121</td>\n",
       "      <td>17.363636</td>\n",
       "      <td>0.000000</td>\n",
       "      <td>8.909091</td>\n",
       "      <td>0.000000</td>\n",
       "      <td>0.000000</td>\n",
       "      <td>7.121212</td>\n",
       "    </tr>\n",
       "    <tr>\n",
       "      <th>643687</th>\n",
       "      <td>1827860</td>\n",
       "      <td>2016</td>\n",
       "      <td>3</td>\n",
       "      <td>1</td>\n",
       "      <td>0</td>\n",
       "      <td>0</td>\n",
       "      <td>1</td>\n",
       "      <td>1</td>\n",
       "      <td>0</td>\n",
       "      <td>1</td>\n",
       "      <td>...</td>\n",
       "      <td>0.000000</td>\n",
       "      <td>0.000000</td>\n",
       "      <td>0.294118</td>\n",
       "      <td>0.205882</td>\n",
       "      <td>34.705882</td>\n",
       "      <td>0.000000</td>\n",
       "      <td>10.352941</td>\n",
       "      <td>1.705882</td>\n",
       "      <td>1.705882</td>\n",
       "      <td>23.911765</td>\n",
       "    </tr>\n",
       "    <tr>\n",
       "      <th>643688</th>\n",
       "      <td>1827869</td>\n",
       "      <td>2013</td>\n",
       "      <td>1</td>\n",
       "      <td>1</td>\n",
       "      <td>1</td>\n",
       "      <td>0</td>\n",
       "      <td>0</td>\n",
       "      <td>0</td>\n",
       "      <td>1</td>\n",
       "      <td>0</td>\n",
       "      <td>...</td>\n",
       "      <td>0.000000</td>\n",
       "      <td>0.000000</td>\n",
       "      <td>0.000000</td>\n",
       "      <td>0.000000</td>\n",
       "      <td>0.000000</td>\n",
       "      <td>0.525424</td>\n",
       "      <td>0.000000</td>\n",
       "      <td>0.000000</td>\n",
       "      <td>0.000000</td>\n",
       "      <td>0.000000</td>\n",
       "    </tr>\n",
       "    <tr>\n",
       "      <th>643689</th>\n",
       "      <td>1827869</td>\n",
       "      <td>2014</td>\n",
       "      <td>2</td>\n",
       "      <td>0</td>\n",
       "      <td>0</td>\n",
       "      <td>1</td>\n",
       "      <td>0</td>\n",
       "      <td>0</td>\n",
       "      <td>1</td>\n",
       "      <td>0</td>\n",
       "      <td>...</td>\n",
       "      <td>0.000000</td>\n",
       "      <td>0.666667</td>\n",
       "      <td>0.666667</td>\n",
       "      <td>0.000000</td>\n",
       "      <td>0.000000</td>\n",
       "      <td>8.950000</td>\n",
       "      <td>1.033333</td>\n",
       "      <td>0.083333</td>\n",
       "      <td>0.083333</td>\n",
       "      <td>8.133333</td>\n",
       "    </tr>\n",
       "  </tbody>\n",
       "</table>\n",
       "<p>643690 rows × 164 columns</p>\n",
       "</div>"
      ],
      "text/plain": [
       "         persnr  year  nrEntry  ltue  employed_before  receipt_leh_before  \\\n",
       "0             7  2015        1     0                1                   0   \n",
       "1            18  2010        1     1                0                   0   \n",
       "2            18  2011        2     0                1                   0   \n",
       "3            18  2012        3     0                1                   0   \n",
       "4            18  2012        4     0                1                   0   \n",
       "...         ...   ...      ...   ...              ...                 ...   \n",
       "643685  1827860  2013        1     0                0                   0   \n",
       "643686  1827860  2015        2     1                0                   0   \n",
       "643687  1827860  2016        3     1                0                   0   \n",
       "643688  1827869  2013        1     1                1                   0   \n",
       "643689  1827869  2014        2     0                0                   1   \n",
       "\n",
       "        receipt_lhg_before  se_before  ASU_notue_seeking_before  \\\n",
       "0                        0          0                         1   \n",
       "1                        0          0                         0   \n",
       "2                        1          0                         1   \n",
       "3                        1          0                         1   \n",
       "4                        1          0                         1   \n",
       "...                    ...        ...                       ...   \n",
       "643685                   1          0                         0   \n",
       "643686                   1          0                         1   \n",
       "643687                   1          1                         0   \n",
       "643688                   0          0                         1   \n",
       "643689                   0          0                         1   \n",
       "\n",
       "        ASU_other_before  ...  minijob_tot_dur_byage  ft_tot_dur_byage  \\\n",
       "0                      0  ...               0.000000          0.000000   \n",
       "1                      0  ...               0.000000          0.000000   \n",
       "2                      0  ...               2.714286          2.714286   \n",
       "3                      0  ...               4.200000          4.200000   \n",
       "4                      0  ...               5.460000          5.460000   \n",
       "...                  ...  ...                    ...               ...   \n",
       "643685                 1  ...               0.000000          0.000000   \n",
       "643686                 0  ...               0.000000          0.000000   \n",
       "643687                 1  ...               0.000000          0.000000   \n",
       "643688                 0  ...               0.000000          0.000000   \n",
       "643689                 0  ...               0.000000          0.666667   \n",
       "\n",
       "        befrist_tot_dur_byage  leih_tot_dur_byage  LHG_tot_dur_byage  \\\n",
       "0                   15.043478            0.000000           0.000000   \n",
       "1                    0.000000            0.000000           0.000000   \n",
       "2                    0.000000            0.000000          10.775510   \n",
       "3                    0.000000            0.000000          12.100000   \n",
       "4                    0.000000            0.000000          13.360000   \n",
       "...                       ...                 ...                ...   \n",
       "643685               0.000000            0.000000           0.612903   \n",
       "643686               0.212121            0.212121          17.363636   \n",
       "643687               0.294118            0.205882          34.705882   \n",
       "643688               0.000000            0.000000           0.000000   \n",
       "643689               0.666667            0.000000           0.000000   \n",
       "\n",
       "        LEH_tot_dur_byage  almp_tot_dur_byage  almp_aw_tot_dur_byage  \\\n",
       "0                0.000000            0.000000               0.000000   \n",
       "1                0.000000            0.000000               0.000000   \n",
       "2                0.000000            8.367347               0.000000   \n",
       "3                0.000000            9.400000               0.000000   \n",
       "4                0.000000           10.320000               0.000000   \n",
       "...                   ...                 ...                    ...   \n",
       "643685           0.000000            0.000000               0.000000   \n",
       "643686           0.000000            8.909091               0.000000   \n",
       "643687           0.000000           10.352941               1.705882   \n",
       "643688           0.525424            0.000000               0.000000   \n",
       "643689           8.950000            1.033333               0.083333   \n",
       "\n",
       "        se_tot_dur_byage  seeking1_tot_dur_byage  \n",
       "0               0.000000                0.000000  \n",
       "1               0.000000                0.000000  \n",
       "2               0.000000                9.836735  \n",
       "3               0.000000                9.960000  \n",
       "4               0.000000               10.280000  \n",
       "...                  ...                     ...  \n",
       "643685          0.000000                0.000000  \n",
       "643686          0.000000                7.121212  \n",
       "643687          1.705882               23.911765  \n",
       "643688          0.000000                0.000000  \n",
       "643689          0.083333                8.133333  \n",
       "\n",
       "[643690 rows x 164 columns]"
      ]
     },
     "execution_count": 10,
     "metadata": {},
     "output_type": "execute_result"
    }
   ],
   "source": [
    "siab"
   ]
  },
  {
   "cell_type": "markdown",
   "id": "1f87e805",
   "metadata": {
    "papermill": {
     "duration": 0.011847,
     "end_time": "2025-08-19T17:58:48.093184",
     "exception": false,
     "start_time": "2025-08-19T17:58:48.081337",
     "status": "completed"
    },
    "tags": []
   },
   "source": [
    "# Splitting Data and Setting Training Data Size"
   ]
  },
  {
   "cell_type": "code",
   "execution_count": 11,
   "id": "910ae358",
   "metadata": {
    "execution": {
     "iopub.execute_input": "2025-08-19T17:58:48.116133Z",
     "iopub.status.busy": "2025-08-19T17:58:48.114935Z",
     "iopub.status.idle": "2025-08-19T17:58:48.452100Z",
     "shell.execute_reply": "2025-08-19T17:58:48.451163Z"
    },
    "papermill": {
     "duration": 0.351181,
     "end_time": "2025-08-19T17:58:48.454363",
     "exception": false,
     "start_time": "2025-08-19T17:58:48.103182",
     "status": "completed"
    },
    "tags": []
   },
   "outputs": [],
   "source": [
    "from fairness_multiverse.universe import sample_by_year_size\n",
    "\n",
    "siab_train = sample_by_year_size(siab,\n",
    "                               training_year=universe[\"training_year\"],\n",
    "                               training_size=universe[\"training_size\"])"
   ]
  },
  {
   "cell_type": "code",
   "execution_count": 12,
   "id": "919c8ff5",
   "metadata": {
    "execution": {
     "iopub.execute_input": "2025-08-19T17:58:48.510709Z",
     "iopub.status.busy": "2025-08-19T17:58:48.509691Z",
     "iopub.status.idle": "2025-08-19T17:58:48.520948Z",
     "shell.execute_reply": "2025-08-19T17:58:48.519430Z"
    },
    "papermill": {
     "duration": 0.029626,
     "end_time": "2025-08-19T17:58:48.526165",
     "exception": false,
     "start_time": "2025-08-19T17:58:48.496539",
     "status": "completed"
    },
    "tags": []
   },
   "outputs": [
    {
     "data": {
      "text/plain": [
       "(25000, 164)"
      ]
     },
     "execution_count": 12,
     "metadata": {},
     "output_type": "execute_result"
    }
   ],
   "source": [
    "siab_train.shape"
   ]
  },
  {
   "cell_type": "code",
   "execution_count": 13,
   "id": "feb13bf4",
   "metadata": {
    "execution": {
     "iopub.execute_input": "2025-08-19T17:58:48.555668Z",
     "iopub.status.busy": "2025-08-19T17:58:48.553548Z",
     "iopub.status.idle": "2025-08-19T17:58:48.577163Z",
     "shell.execute_reply": "2025-08-19T17:58:48.576126Z"
    },
    "papermill": {
     "duration": 0.037917,
     "end_time": "2025-08-19T17:58:48.579456",
     "exception": false,
     "start_time": "2025-08-19T17:58:48.541539",
     "status": "completed"
    },
    "tags": []
   },
   "outputs": [
    {
     "data": {
      "text/plain": [
       "year\n",
       "2014    25000\n",
       "dtype: int64"
      ]
     },
     "metadata": {},
     "output_type": "display_data"
    }
   ],
   "source": [
    "display(siab_train.groupby(\"year\").size())"
   ]
  },
  {
   "cell_type": "code",
   "execution_count": 14,
   "id": "0997782f",
   "metadata": {
    "execution": {
     "iopub.execute_input": "2025-08-19T17:58:48.610985Z",
     "iopub.status.busy": "2025-08-19T17:58:48.609940Z",
     "iopub.status.idle": "2025-08-19T17:58:48.870208Z",
     "shell.execute_reply": "2025-08-19T17:58:48.868633Z"
    },
    "papermill": {
     "duration": 0.278013,
     "end_time": "2025-08-19T17:58:48.871899",
     "exception": false,
     "start_time": "2025-08-19T17:58:48.593886",
     "status": "completed"
    },
    "tags": []
   },
   "outputs": [],
   "source": [
    "#siab_train = siab_s[siab_s.year < 2015]\n",
    "siab_calib = siab[siab.year == 2015]\n",
    "siab_test = siab[siab.year == 2016]"
   ]
  },
  {
   "cell_type": "code",
   "execution_count": 15,
   "id": "2c1e4012",
   "metadata": {
    "execution": {
     "iopub.execute_input": "2025-08-19T17:58:48.896250Z",
     "iopub.status.busy": "2025-08-19T17:58:48.895336Z",
     "iopub.status.idle": "2025-08-19T17:58:48.902629Z",
     "shell.execute_reply": "2025-08-19T17:58:48.901017Z"
    },
    "papermill": {
     "duration": 0.021856,
     "end_time": "2025-08-19T17:58:48.904827",
     "exception": false,
     "start_time": "2025-08-19T17:58:48.882971",
     "status": "completed"
    },
    "tags": []
   },
   "outputs": [],
   "source": [
    "#siab_calib.shape"
   ]
  },
  {
   "cell_type": "code",
   "execution_count": 16,
   "id": "f66b54ca",
   "metadata": {
    "execution": {
     "iopub.execute_input": "2025-08-19T17:58:48.936006Z",
     "iopub.status.busy": "2025-08-19T17:58:48.934770Z",
     "iopub.status.idle": "2025-08-19T17:58:48.942805Z",
     "shell.execute_reply": "2025-08-19T17:58:48.941463Z"
    },
    "papermill": {
     "duration": 0.025642,
     "end_time": "2025-08-19T17:58:48.944686",
     "exception": false,
     "start_time": "2025-08-19T17:58:48.919044",
     "status": "completed"
    },
    "tags": []
   },
   "outputs": [],
   "source": [
    "#siab_test.shape"
   ]
  },
  {
   "cell_type": "code",
   "execution_count": 17,
   "id": "27e4384d",
   "metadata": {
    "execution": {
     "iopub.execute_input": "2025-08-19T17:58:48.989904Z",
     "iopub.status.busy": "2025-08-19T17:58:48.988898Z",
     "iopub.status.idle": "2025-08-19T17:58:49.008399Z",
     "shell.execute_reply": "2025-08-19T17:58:49.007141Z"
    },
    "papermill": {
     "duration": 0.036185,
     "end_time": "2025-08-19T17:58:49.012172",
     "exception": false,
     "start_time": "2025-08-19T17:58:48.975987",
     "status": "completed"
    },
    "tags": []
   },
   "outputs": [],
   "source": [
    "X_train = siab_train.iloc[:,4:164]\n",
    "y_train = siab_train.iloc[:, [3]]"
   ]
  },
  {
   "cell_type": "code",
   "execution_count": 18,
   "id": "08ee8389",
   "metadata": {
    "execution": {
     "iopub.execute_input": "2025-08-19T17:58:49.080831Z",
     "iopub.status.busy": "2025-08-19T17:58:49.079839Z",
     "iopub.status.idle": "2025-08-19T17:58:49.141699Z",
     "shell.execute_reply": "2025-08-19T17:58:49.140607Z"
    },
    "papermill": {
     "duration": 0.095629,
     "end_time": "2025-08-19T17:58:49.143214",
     "exception": false,
     "start_time": "2025-08-19T17:58:49.047585",
     "status": "completed"
    },
    "tags": []
   },
   "outputs": [],
   "source": [
    "X_calib = siab_calib.iloc[:,4:164]\n",
    "y_calib = siab_calib.iloc[:, [3]]"
   ]
  },
  {
   "cell_type": "code",
   "execution_count": 19,
   "id": "b7ff42e0",
   "metadata": {
    "execution": {
     "iopub.execute_input": "2025-08-19T17:58:49.169866Z",
     "iopub.status.busy": "2025-08-19T17:58:49.168316Z",
     "iopub.status.idle": "2025-08-19T17:58:49.222062Z",
     "shell.execute_reply": "2025-08-19T17:58:49.219442Z"
    },
    "papermill": {
     "duration": 0.069791,
     "end_time": "2025-08-19T17:58:49.224956",
     "exception": false,
     "start_time": "2025-08-19T17:58:49.155165",
     "status": "completed"
    },
    "tags": []
   },
   "outputs": [],
   "source": [
    "X_test = siab_test.iloc[:,4:164]\n",
    "y_true = siab_test.iloc[:, [3]]"
   ]
  },
  {
   "cell_type": "code",
   "execution_count": 20,
   "id": "0275101e",
   "metadata": {
    "execution": {
     "iopub.execute_input": "2025-08-19T17:58:49.253930Z",
     "iopub.status.busy": "2025-08-19T17:58:49.253128Z",
     "iopub.status.idle": "2025-08-19T17:58:49.382131Z",
     "shell.execute_reply": "2025-08-19T17:58:49.380788Z"
    },
    "papermill": {
     "duration": 0.144131,
     "end_time": "2025-08-19T17:58:49.385557",
     "exception": false,
     "start_time": "2025-08-19T17:58:49.241426",
     "status": "completed"
    },
    "tags": []
   },
   "outputs": [],
   "source": [
    "# Auxiliary data needed downstream in the pipeline\n",
    "\n",
    "org_train = X_train.copy()\n",
    "org_test = X_test.copy()\n",
    "org_calib = X_calib.copy()"
   ]
  },
  {
   "cell_type": "markdown",
   "id": "b461e618",
   "metadata": {
    "papermill": {
     "duration": 0.012049,
     "end_time": "2025-08-19T17:58:49.421270",
     "exception": false,
     "start_time": "2025-08-19T17:58:49.409221",
     "status": "completed"
    },
    "tags": []
   },
   "source": [
    "# Preprocessing Data"
   ]
  },
  {
   "cell_type": "code",
   "execution_count": 21,
   "id": "78e74c4b",
   "metadata": {
    "execution": {
     "iopub.execute_input": "2025-08-19T17:58:49.463872Z",
     "iopub.status.busy": "2025-08-19T17:58:49.462523Z",
     "iopub.status.idle": "2025-08-19T17:58:49.472307Z",
     "shell.execute_reply": "2025-08-19T17:58:49.470632Z"
    },
    "papermill": {
     "duration": 0.038428,
     "end_time": "2025-08-19T17:58:49.473918",
     "exception": false,
     "start_time": "2025-08-19T17:58:49.435490",
     "status": "completed"
    },
    "tags": []
   },
   "outputs": [],
   "source": [
    "# EXCLUDE PROTECTED FEATURES\n",
    "# --------------------------\n",
    "\n",
    "excluded_features = universe[\"exclude_features\"].split(\"-\")\n",
    "excluded_features_dictionary = {\n",
    "    \"nationality\": [\"maxdeutsch1\", \"maxdeutsch.Missing.\"],\n",
    "    \"sex\": [\"frau1\"],\n",
    "    \"age\": [\"age\"],\n",
    "}"
   ]
  },
  {
   "cell_type": "code",
   "execution_count": 22,
   "id": "f8e63555",
   "metadata": {
    "execution": {
     "iopub.execute_input": "2025-08-19T17:58:49.500543Z",
     "iopub.status.busy": "2025-08-19T17:58:49.499325Z",
     "iopub.status.idle": "2025-08-19T17:58:49.509291Z",
     "shell.execute_reply": "2025-08-19T17:58:49.507937Z"
    },
    "papermill": {
     "duration": 0.023584,
     "end_time": "2025-08-19T17:58:49.511166",
     "exception": false,
     "start_time": "2025-08-19T17:58:49.487582",
     "status": "completed"
    },
    "tags": []
   },
   "outputs": [],
   "source": [
    "excluded_features_columns = [\n",
    "    excluded_features_dictionary[f] for f in excluded_features if len(f) > 0 and f != \"none\"\n",
    "]"
   ]
  },
  {
   "cell_type": "code",
   "execution_count": 23,
   "id": "da781f7c",
   "metadata": {
    "execution": {
     "iopub.execute_input": "2025-08-19T17:58:49.536260Z",
     "iopub.status.busy": "2025-08-19T17:58:49.534959Z",
     "iopub.status.idle": "2025-08-19T17:58:49.545627Z",
     "shell.execute_reply": "2025-08-19T17:58:49.543806Z"
    },
    "papermill": {
     "duration": 0.02414,
     "end_time": "2025-08-19T17:58:49.547283",
     "exception": false,
     "start_time": "2025-08-19T17:58:49.523143",
     "status": "completed"
    },
    "tags": []
   },
   "outputs": [],
   "source": [
    "from fairness_multiverse.universe import flatten_once\n",
    "\n",
    "excluded_features_columns = flatten_once(excluded_features_columns)"
   ]
  },
  {
   "cell_type": "code",
   "execution_count": 24,
   "id": "37fef0f0",
   "metadata": {
    "execution": {
     "iopub.execute_input": "2025-08-19T17:58:49.600737Z",
     "iopub.status.busy": "2025-08-19T17:58:49.600245Z",
     "iopub.status.idle": "2025-08-19T17:58:49.631918Z",
     "shell.execute_reply": "2025-08-19T17:58:49.630914Z"
    },
    "papermill": {
     "duration": 0.079251,
     "end_time": "2025-08-19T17:58:49.639613",
     "exception": false,
     "start_time": "2025-08-19T17:58:49.560362",
     "status": "completed"
    },
    "tags": []
   },
   "outputs": [
    {
     "name": "stdout",
     "output_type": "stream",
     "text": [
      "Dropping features: ['age']\n"
     ]
    }
   ],
   "source": [
    "if len(excluded_features_columns) > 0:\n",
    "    print(f\"Dropping features: {excluded_features_columns}\")\n",
    "    X_train.drop(excluded_features_columns, axis=1, inplace=True)"
   ]
  },
  {
   "cell_type": "code",
   "execution_count": 25,
   "id": "d029e3e9",
   "metadata": {
    "execution": {
     "iopub.execute_input": "2025-08-19T17:58:49.664268Z",
     "iopub.status.busy": "2025-08-19T17:58:49.663868Z",
     "iopub.status.idle": "2025-08-19T17:58:49.722516Z",
     "shell.execute_reply": "2025-08-19T17:58:49.721528Z"
    },
    "papermill": {
     "duration": 0.071491,
     "end_time": "2025-08-19T17:58:49.724026",
     "exception": false,
     "start_time": "2025-08-19T17:58:49.652535",
     "status": "completed"
    },
    "tags": []
   },
   "outputs": [
    {
     "name": "stdout",
     "output_type": "stream",
     "text": [
      "Dropping features: ['age']\n"
     ]
    }
   ],
   "source": [
    "if len(excluded_features_columns) > 0:\n",
    "    print(f\"Dropping features: {excluded_features_columns}\")\n",
    "    X_test.drop(excluded_features_columns, axis=1, inplace=True)"
   ]
  },
  {
   "cell_type": "code",
   "execution_count": 26,
   "id": "01d571f0",
   "metadata": {
    "execution": {
     "iopub.execute_input": "2025-08-19T17:58:49.749181Z",
     "iopub.status.busy": "2025-08-19T17:58:49.748407Z",
     "iopub.status.idle": "2025-08-19T17:58:49.805245Z",
     "shell.execute_reply": "2025-08-19T17:58:49.804282Z"
    },
    "papermill": {
     "duration": 0.071592,
     "end_time": "2025-08-19T17:58:49.808337",
     "exception": false,
     "start_time": "2025-08-19T17:58:49.736745",
     "status": "completed"
    },
    "tags": []
   },
   "outputs": [
    {
     "name": "stdout",
     "output_type": "stream",
     "text": [
      "Dropping features: ['age']\n"
     ]
    }
   ],
   "source": [
    "if len(excluded_features_columns) > 0:\n",
    "    print(f\"Dropping features: {excluded_features_columns}\")\n",
    "    X_calib.drop(excluded_features_columns, axis=1, inplace=True)"
   ]
  },
  {
   "cell_type": "code",
   "execution_count": 27,
   "id": "3037356e",
   "metadata": {
    "execution": {
     "iopub.execute_input": "2025-08-19T17:58:49.854448Z",
     "iopub.status.busy": "2025-08-19T17:58:49.853320Z",
     "iopub.status.idle": "2025-08-19T17:58:49.863166Z",
     "shell.execute_reply": "2025-08-19T17:58:49.861537Z"
    },
    "papermill": {
     "duration": 0.024459,
     "end_time": "2025-08-19T17:58:49.865097",
     "exception": false,
     "start_time": "2025-08-19T17:58:49.840638",
     "status": "completed"
    },
    "tags": []
   },
   "outputs": [],
   "source": [
    "# EXCLUDE CERTAIN SUBGROUPS\n",
    "# -------------------------\n",
    "\n",
    "mode = universe.get(\"exclude_subgroups\", \"keep-all\") # Defaults to \"keep-all\" if the key is missing."
   ]
  },
  {
   "cell_type": "code",
   "execution_count": 28,
   "id": "9d1e63fd",
   "metadata": {
    "execution": {
     "iopub.execute_input": "2025-08-19T17:58:49.893971Z",
     "iopub.status.busy": "2025-08-19T17:58:49.892459Z",
     "iopub.status.idle": "2025-08-19T17:58:49.903778Z",
     "shell.execute_reply": "2025-08-19T17:58:49.902603Z"
    },
    "papermill": {
     "duration": 0.025492,
     "end_time": "2025-08-19T17:58:49.905399",
     "exception": false,
     "start_time": "2025-08-19T17:58:49.879907",
     "status": "completed"
    },
    "tags": []
   },
   "outputs": [],
   "source": [
    "if mode == \"keep-all\":\n",
    "    keep_mask = pd.Series(True, index=org_train.index)\n",
    "\n",
    "elif mode == \"drop-non-german\":\n",
    "    keep_mask = (org_train[\"maxdeutsch1\"] == 1) & (org_train[\"maxdeutsch.Missing.\"] == 0)\n",
    "\n",
    "else:\n",
    "    raise ValueError(f\"Unsupported mode for exclude_subgroups: {mode}\")"
   ]
  },
  {
   "cell_type": "code",
   "execution_count": 29,
   "id": "d3b65474",
   "metadata": {
    "execution": {
     "iopub.execute_input": "2025-08-19T17:58:49.935768Z",
     "iopub.status.busy": "2025-08-19T17:58:49.933621Z",
     "iopub.status.idle": "2025-08-19T17:58:49.956824Z",
     "shell.execute_reply": "2025-08-19T17:58:49.955069Z"
    },
    "papermill": {
     "duration": 0.039861,
     "end_time": "2025-08-19T17:58:49.960558",
     "exception": false,
     "start_time": "2025-08-19T17:58:49.920697",
     "status": "completed"
    },
    "tags": []
   },
   "outputs": [],
   "source": [
    "n_drop = (~keep_mask).sum() # Calculates how many rows are set to be dropped\n",
    "if n_drop > 0:\n",
    "    pct = n_drop / len(keep_mask) * 100\n",
    "    print(f\"Dropping {n_drop} rows ({pct:.2f}%) where mode='{mode}'\")"
   ]
  },
  {
   "cell_type": "code",
   "execution_count": 30,
   "id": "f44389b3",
   "metadata": {
    "execution": {
     "iopub.execute_input": "2025-08-19T17:58:49.994024Z",
     "iopub.status.busy": "2025-08-19T17:58:49.993605Z",
     "iopub.status.idle": "2025-08-19T17:58:50.008002Z",
     "shell.execute_reply": "2025-08-19T17:58:50.007125Z"
    },
    "papermill": {
     "duration": 0.028279,
     "end_time": "2025-08-19T17:58:50.009463",
     "exception": false,
     "start_time": "2025-08-19T17:58:49.981184",
     "status": "completed"
    },
    "tags": []
   },
   "outputs": [],
   "source": [
    "X_train = X_train[keep_mask]"
   ]
  },
  {
   "cell_type": "code",
   "execution_count": 31,
   "id": "ceca8c2a",
   "metadata": {
    "execution": {
     "iopub.execute_input": "2025-08-19T17:58:50.033262Z",
     "iopub.status.busy": "2025-08-19T17:58:50.032839Z",
     "iopub.status.idle": "2025-08-19T17:58:50.069801Z",
     "shell.execute_reply": "2025-08-19T17:58:50.068399Z"
    },
    "papermill": {
     "duration": 0.053216,
     "end_time": "2025-08-19T17:58:50.074051",
     "exception": false,
     "start_time": "2025-08-19T17:58:50.020835",
     "status": "completed"
    },
    "tags": []
   },
   "outputs": [],
   "source": [
    "y_train = y_train[keep_mask]"
   ]
  },
  {
   "cell_type": "markdown",
   "id": "04d31e2f",
   "metadata": {
    "papermill": {
     "duration": 0.010979,
     "end_time": "2025-08-19T17:58:50.103833",
     "exception": false,
     "start_time": "2025-08-19T17:58:50.092854",
     "status": "completed"
    },
    "tags": []
   },
   "source": [
    "# Model Training"
   ]
  },
  {
   "cell_type": "code",
   "execution_count": 32,
   "id": "db991733",
   "metadata": {
    "execution": {
     "iopub.execute_input": "2025-08-19T17:58:50.127163Z",
     "iopub.status.busy": "2025-08-19T17:58:50.126740Z",
     "iopub.status.idle": "2025-08-19T17:58:50.222474Z",
     "shell.execute_reply": "2025-08-19T17:58:50.221594Z"
    },
    "papermill": {
     "duration": 0.109401,
     "end_time": "2025-08-19T17:58:50.224086",
     "exception": false,
     "start_time": "2025-08-19T17:58:50.114685",
     "status": "completed"
    },
    "tags": []
   },
   "outputs": [],
   "source": [
    "from sklearn.linear_model import LogisticRegression\n",
    "from sklearn.ensemble import GradientBoostingClassifier, RandomForestClassifier\n",
    "\n",
    "if (universe[\"model\"] == \"logreg\"):\n",
    "    model = LogisticRegression() #penalty=\"none\", solver=\"newton-cg\", max_iter=1)\n",
    "elif (universe[\"model\"] == \"penalized_logreg\"):\n",
    "    model = LogisticRegression(penalty=\"l2\", C=0.1) #, solver=\"newton-cg\", max_iter=1)\n",
    "elif (universe[\"model\"] == \"rf\"):\n",
    "    model = RandomForestClassifier() # n_estimators=100, n_jobs=-1\n",
    "elif (universe[\"model\"] == \"gbm\"):\n",
    "    model = GradientBoostingClassifier()\n",
    "elif (universe[\"model\"] == \"elasticnet\"):\n",
    "    model = LogisticRegression(penalty = 'elasticnet', solver = 'saga', l1_ratio = 0.5) # max_iter=5000\n",
    "else:\n",
    "    raise \"Unsupported universe.model\""
   ]
  },
  {
   "cell_type": "code",
   "execution_count": 33,
   "id": "a4b5cd25",
   "metadata": {
    "execution": {
     "iopub.execute_input": "2025-08-19T17:58:50.247737Z",
     "iopub.status.busy": "2025-08-19T17:58:50.246745Z",
     "iopub.status.idle": "2025-08-19T17:58:50.253766Z",
     "shell.execute_reply": "2025-08-19T17:58:50.252736Z"
    },
    "papermill": {
     "duration": 0.020063,
     "end_time": "2025-08-19T17:58:50.255057",
     "exception": false,
     "start_time": "2025-08-19T17:58:50.234994",
     "status": "completed"
    },
    "tags": []
   },
   "outputs": [],
   "source": [
    "from sklearn.pipeline import Pipeline\n",
    "from sklearn.preprocessing import StandardScaler\n",
    "\n",
    "model = Pipeline([\n",
    "    #(\"continuous_processor\", continuous_processor),\n",
    "    #(\"categorical_preprocessor\", categorical_preprocessor),\n",
    "    (\"scale\", StandardScaler() if universe[\"scale\"] == \"scale\" else None), \n",
    "    (\"model\", model),\n",
    "])"
   ]
  },
  {
   "cell_type": "code",
   "execution_count": 34,
   "id": "283a904d",
   "metadata": {
    "execution": {
     "iopub.execute_input": "2025-08-19T17:58:50.281626Z",
     "iopub.status.busy": "2025-08-19T17:58:50.280343Z",
     "iopub.status.idle": "2025-08-19T17:58:51.237126Z",
     "shell.execute_reply": "2025-08-19T17:58:51.235397Z"
    },
    "papermill": {
     "duration": 0.970111,
     "end_time": "2025-08-19T17:58:51.238444",
     "exception": false,
     "start_time": "2025-08-19T17:58:50.268333",
     "status": "completed"
    },
    "tags": []
   },
   "outputs": [
    {
     "name": "stderr",
     "output_type": "stream",
     "text": [
      "/dss/dsshome1/0C/ra93lal2/.local/share/virtualenvs/CMA_Fairness_v2-3j10GkSs/lib/python3.10/site-packages/sklearn/linear_model/_logistic.py:444: ConvergenceWarning: lbfgs failed to converge (status=1):\n",
      "STOP: TOTAL NO. of ITERATIONS REACHED LIMIT.\n",
      "\n",
      "Increase the number of iterations (max_iter) or scale the data as shown in:\n",
      "    https://scikit-learn.org/stable/modules/preprocessing.html\n",
      "Please also refer to the documentation for alternative solver options:\n",
      "    https://scikit-learn.org/stable/modules/linear_model.html#logistic-regression\n",
      "  n_iter_i = _check_optimize_result(\n"
     ]
    },
    {
     "data": {
      "text/html": [
       "<style>#sk-container-id-1 {color: black;background-color: white;}#sk-container-id-1 pre{padding: 0;}#sk-container-id-1 div.sk-toggleable {background-color: white;}#sk-container-id-1 label.sk-toggleable__label {cursor: pointer;display: block;width: 100%;margin-bottom: 0;padding: 0.3em;box-sizing: border-box;text-align: center;}#sk-container-id-1 label.sk-toggleable__label-arrow:before {content: \"▸\";float: left;margin-right: 0.25em;color: #696969;}#sk-container-id-1 label.sk-toggleable__label-arrow:hover:before {color: black;}#sk-container-id-1 div.sk-estimator:hover label.sk-toggleable__label-arrow:before {color: black;}#sk-container-id-1 div.sk-toggleable__content {max-height: 0;max-width: 0;overflow: hidden;text-align: left;background-color: #f0f8ff;}#sk-container-id-1 div.sk-toggleable__content pre {margin: 0.2em;color: black;border-radius: 0.25em;background-color: #f0f8ff;}#sk-container-id-1 input.sk-toggleable__control:checked~div.sk-toggleable__content {max-height: 200px;max-width: 100%;overflow: auto;}#sk-container-id-1 input.sk-toggleable__control:checked~label.sk-toggleable__label-arrow:before {content: \"▾\";}#sk-container-id-1 div.sk-estimator input.sk-toggleable__control:checked~label.sk-toggleable__label {background-color: #d4ebff;}#sk-container-id-1 div.sk-label input.sk-toggleable__control:checked~label.sk-toggleable__label {background-color: #d4ebff;}#sk-container-id-1 input.sk-hidden--visually {border: 0;clip: rect(1px 1px 1px 1px);clip: rect(1px, 1px, 1px, 1px);height: 1px;margin: -1px;overflow: hidden;padding: 0;position: absolute;width: 1px;}#sk-container-id-1 div.sk-estimator {font-family: monospace;background-color: #f0f8ff;border: 1px dotted black;border-radius: 0.25em;box-sizing: border-box;margin-bottom: 0.5em;}#sk-container-id-1 div.sk-estimator:hover {background-color: #d4ebff;}#sk-container-id-1 div.sk-parallel-item::after {content: \"\";width: 100%;border-bottom: 1px solid gray;flex-grow: 1;}#sk-container-id-1 div.sk-label:hover label.sk-toggleable__label {background-color: #d4ebff;}#sk-container-id-1 div.sk-serial::before {content: \"\";position: absolute;border-left: 1px solid gray;box-sizing: border-box;top: 0;bottom: 0;left: 50%;z-index: 0;}#sk-container-id-1 div.sk-serial {display: flex;flex-direction: column;align-items: center;background-color: white;padding-right: 0.2em;padding-left: 0.2em;position: relative;}#sk-container-id-1 div.sk-item {position: relative;z-index: 1;}#sk-container-id-1 div.sk-parallel {display: flex;align-items: stretch;justify-content: center;background-color: white;position: relative;}#sk-container-id-1 div.sk-item::before, #sk-container-id-1 div.sk-parallel-item::before {content: \"\";position: absolute;border-left: 1px solid gray;box-sizing: border-box;top: 0;bottom: 0;left: 50%;z-index: -1;}#sk-container-id-1 div.sk-parallel-item {display: flex;flex-direction: column;z-index: 1;position: relative;background-color: white;}#sk-container-id-1 div.sk-parallel-item:first-child::after {align-self: flex-end;width: 50%;}#sk-container-id-1 div.sk-parallel-item:last-child::after {align-self: flex-start;width: 50%;}#sk-container-id-1 div.sk-parallel-item:only-child::after {width: 0;}#sk-container-id-1 div.sk-dashed-wrapped {border: 1px dashed gray;margin: 0 0.4em 0.5em 0.4em;box-sizing: border-box;padding-bottom: 0.4em;background-color: white;}#sk-container-id-1 div.sk-label label {font-family: monospace;font-weight: bold;display: inline-block;line-height: 1.2em;}#sk-container-id-1 div.sk-label-container {text-align: center;}#sk-container-id-1 div.sk-container {/* jupyter's `normalize.less` sets `[hidden] { display: none; }` but bootstrap.min.css set `[hidden] { display: none !important; }` so we also need the `!important` here to be able to override the default hidden behavior on the sphinx rendered scikit-learn.org. See: https://github.com/scikit-learn/scikit-learn/issues/21755 */display: inline-block !important;position: relative;}#sk-container-id-1 div.sk-text-repr-fallback {display: none;}</style><div id=\"sk-container-id-1\" class=\"sk-top-container\"><div class=\"sk-text-repr-fallback\"><pre>Pipeline(steps=[(&#x27;scale&#x27;, None), (&#x27;model&#x27;, LogisticRegression())])</pre><b>In a Jupyter environment, please rerun this cell to show the HTML representation or trust the notebook. <br />On GitHub, the HTML representation is unable to render, please try loading this page with nbviewer.org.</b></div><div class=\"sk-container\" hidden><div class=\"sk-item sk-dashed-wrapped\"><div class=\"sk-label-container\"><div class=\"sk-label sk-toggleable\"><input class=\"sk-toggleable__control sk-hidden--visually\" id=\"sk-estimator-id-1\" type=\"checkbox\" ><label for=\"sk-estimator-id-1\" class=\"sk-toggleable__label sk-toggleable__label-arrow\">Pipeline</label><div class=\"sk-toggleable__content\"><pre>Pipeline(steps=[(&#x27;scale&#x27;, None), (&#x27;model&#x27;, LogisticRegression())])</pre></div></div></div><div class=\"sk-serial\"><div class=\"sk-item\"><div class=\"sk-estimator sk-toggleable\"><input class=\"sk-toggleable__control sk-hidden--visually\" id=\"sk-estimator-id-2\" type=\"checkbox\" ><label for=\"sk-estimator-id-2\" class=\"sk-toggleable__label sk-toggleable__label-arrow\">None</label><div class=\"sk-toggleable__content\"><pre>None</pre></div></div></div><div class=\"sk-item\"><div class=\"sk-estimator sk-toggleable\"><input class=\"sk-toggleable__control sk-hidden--visually\" id=\"sk-estimator-id-3\" type=\"checkbox\" ><label for=\"sk-estimator-id-3\" class=\"sk-toggleable__label sk-toggleable__label-arrow\">LogisticRegression</label><div class=\"sk-toggleable__content\"><pre>LogisticRegression()</pre></div></div></div></div></div></div></div>"
      ],
      "text/plain": [
       "Pipeline(steps=[('scale', None), ('model', LogisticRegression())])"
      ]
     },
     "execution_count": 34,
     "metadata": {},
     "output_type": "execute_result"
    }
   ],
   "source": [
    "model.fit(X_train, y_train.values.ravel())"
   ]
  },
  {
   "cell_type": "code",
   "execution_count": 35,
   "id": "6e15e313",
   "metadata": {
    "execution": {
     "iopub.execute_input": "2025-08-19T17:58:51.262254Z",
     "iopub.status.busy": "2025-08-19T17:58:51.261757Z",
     "iopub.status.idle": "2025-08-19T17:58:51.369913Z",
     "shell.execute_reply": "2025-08-19T17:58:51.369250Z"
    },
    "papermill": {
     "duration": 0.121564,
     "end_time": "2025-08-19T17:58:51.371243",
     "exception": false,
     "start_time": "2025-08-19T17:58:51.249679",
     "status": "completed"
    },
    "tags": []
   },
   "outputs": [
    {
     "data": {
      "text/plain": [
       "0.8640396834243674"
      ]
     },
     "execution_count": 35,
     "metadata": {},
     "output_type": "execute_result"
    }
   ],
   "source": [
    "from fairness_multiverse.universe import predict_w_threshold\n",
    "\n",
    "probs_test = model.predict_proba(X_test)\n",
    "\n",
    "'''\n",
    "Below code returns a boolean array (or binary 0/1 array depending on how it’s used) where each element \n",
    "is True if the probability of class 1 is greater than or equal to the threshold, and False otherwise.\n",
    "'''\n",
    "y_pred_default = predict_w_threshold(probs_test, 0.5)\n",
    "\n",
    "from sklearn.metrics import accuracy_score\n",
    "\n",
    "# Naive prediction\n",
    "accuracy_score(y_true = y_true, y_pred = y_pred_default)"
   ]
  },
  {
   "cell_type": "code",
   "execution_count": 36,
   "id": "6f14067c",
   "metadata": {
    "execution": {
     "iopub.execute_input": "2025-08-19T17:58:51.397553Z",
     "iopub.status.busy": "2025-08-19T17:58:51.396336Z",
     "iopub.status.idle": "2025-08-19T17:58:51.513949Z",
     "shell.execute_reply": "2025-08-19T17:58:51.513239Z"
    },
    "papermill": {
     "duration": 0.133067,
     "end_time": "2025-08-19T17:58:51.515522",
     "exception": false,
     "start_time": "2025-08-19T17:58:51.382455",
     "status": "completed"
    },
    "tags": []
   },
   "outputs": [
    {
     "data": {
      "text/plain": [
       "array([0, 0, 0, ..., 0, 0, 0])"
      ]
     },
     "execution_count": 36,
     "metadata": {},
     "output_type": "execute_result"
    }
   ],
   "source": [
    "model.predict(X_test)"
   ]
  },
  {
   "cell_type": "markdown",
   "id": "3759920c",
   "metadata": {
    "papermill": {
     "duration": 0.010891,
     "end_time": "2025-08-19T17:58:51.539440",
     "exception": false,
     "start_time": "2025-08-19T17:58:51.528549",
     "status": "completed"
    },
    "tags": []
   },
   "source": [
    "# Conformal Prediction"
   ]
  },
  {
   "cell_type": "code",
   "execution_count": 37,
   "id": "14b27f59",
   "metadata": {
    "execution": {
     "iopub.execute_input": "2025-08-19T17:58:51.564391Z",
     "iopub.status.busy": "2025-08-19T17:58:51.563346Z",
     "iopub.status.idle": "2025-08-19T17:58:51.577764Z",
     "shell.execute_reply": "2025-08-19T17:58:51.575966Z"
    },
    "papermill": {
     "duration": 0.028987,
     "end_time": "2025-08-19T17:58:51.579651",
     "exception": false,
     "start_time": "2025-08-19T17:58:51.550664",
     "status": "completed"
    },
    "tags": []
   },
   "outputs": [],
   "source": [
    "# Miscoverage level for conformal prediction (10% allowed error rate => 90% target coverage)\n",
    "alpha = 0.1"
   ]
  },
  {
   "cell_type": "code",
   "execution_count": 38,
   "id": "59102472",
   "metadata": {
    "execution": {
     "iopub.execute_input": "2025-08-19T17:58:51.614145Z",
     "iopub.status.busy": "2025-08-19T17:58:51.609337Z",
     "iopub.status.idle": "2025-08-19T17:58:51.729108Z",
     "shell.execute_reply": "2025-08-19T17:58:51.728033Z"
    },
    "papermill": {
     "duration": 0.13473,
     "end_time": "2025-08-19T17:58:51.730852",
     "exception": false,
     "start_time": "2025-08-19T17:58:51.596122",
     "status": "completed"
    },
    "tags": []
   },
   "outputs": [],
   "source": [
    "probs_calib = model.predict_proba(X_calib)"
   ]
  },
  {
   "cell_type": "code",
   "execution_count": 39,
   "id": "a792d4dd",
   "metadata": {
    "execution": {
     "iopub.execute_input": "2025-08-19T17:58:51.756511Z",
     "iopub.status.busy": "2025-08-19T17:58:51.754429Z",
     "iopub.status.idle": "2025-08-19T17:58:51.763515Z",
     "shell.execute_reply": "2025-08-19T17:58:51.762371Z"
    },
    "papermill": {
     "duration": 0.022546,
     "end_time": "2025-08-19T17:58:51.764798",
     "exception": false,
     "start_time": "2025-08-19T17:58:51.742252",
     "status": "completed"
    },
    "tags": []
   },
   "outputs": [],
   "source": [
    "y_calib = y_calib.values.ravel().astype(int)"
   ]
  },
  {
   "cell_type": "code",
   "execution_count": 40,
   "id": "650fd033",
   "metadata": {
    "execution": {
     "iopub.execute_input": "2025-08-19T17:58:51.790796Z",
     "iopub.status.busy": "2025-08-19T17:58:51.789775Z",
     "iopub.status.idle": "2025-08-19T17:58:51.832371Z",
     "shell.execute_reply": "2025-08-19T17:58:51.831499Z"
    },
    "papermill": {
     "duration": 0.056496,
     "end_time": "2025-08-19T17:58:51.834139",
     "exception": false,
     "start_time": "2025-08-19T17:58:51.777643",
     "status": "completed"
    },
    "tags": []
   },
   "outputs": [],
   "source": [
    "from fairness_multiverse.conformal import compute_nc_scores\n",
    "\n",
    "# Compute nonconformity scores on calibration set (1 - probability of true class)\n",
    "nc_scores = compute_nc_scores(probs_calib, y_calib)"
   ]
  },
  {
   "cell_type": "code",
   "execution_count": 41,
   "id": "28ada44c",
   "metadata": {
    "execution": {
     "iopub.execute_input": "2025-08-19T17:58:51.860226Z",
     "iopub.status.busy": "2025-08-19T17:58:51.859722Z",
     "iopub.status.idle": "2025-08-19T17:58:51.976849Z",
     "shell.execute_reply": "2025-08-19T17:58:51.975861Z"
    },
    "papermill": {
     "duration": 0.130932,
     "end_time": "2025-08-19T17:58:51.978401",
     "exception": false,
     "start_time": "2025-08-19T17:58:51.847469",
     "status": "completed"
    },
    "tags": []
   },
   "outputs": [],
   "source": [
    "from fairness_multiverse.conformal import find_threshold\n",
    "\n",
    "# Find conformal threshold q_hat for the given alpha (split conformal method)\n",
    "q_hat = find_threshold(nc_scores, alpha)"
   ]
  },
  {
   "cell_type": "code",
   "execution_count": 42,
   "id": "df56469e",
   "metadata": {
    "execution": {
     "iopub.execute_input": "2025-08-19T17:58:52.003442Z",
     "iopub.status.busy": "2025-08-19T17:58:52.002393Z",
     "iopub.status.idle": "2025-08-19T17:58:52.011499Z",
     "shell.execute_reply": "2025-08-19T17:58:52.010408Z"
    },
    "papermill": {
     "duration": 0.022981,
     "end_time": "2025-08-19T17:58:52.012888",
     "exception": false,
     "start_time": "2025-08-19T17:58:51.989907",
     "status": "completed"
    },
    "tags": []
   },
   "outputs": [
    {
     "data": {
      "text/plain": [
       "0.6528825133985094"
      ]
     },
     "execution_count": 42,
     "metadata": {},
     "output_type": "execute_result"
    }
   ],
   "source": [
    "q_hat"
   ]
  },
  {
   "cell_type": "code",
   "execution_count": 43,
   "id": "aa1f5faa",
   "metadata": {
    "execution": {
     "iopub.execute_input": "2025-08-19T17:58:52.042892Z",
     "iopub.status.busy": "2025-08-19T17:58:52.039537Z",
     "iopub.status.idle": "2025-08-19T17:58:52.834726Z",
     "shell.execute_reply": "2025-08-19T17:58:52.833509Z"
    },
    "papermill": {
     "duration": 0.811164,
     "end_time": "2025-08-19T17:58:52.838007",
     "exception": false,
     "start_time": "2025-08-19T17:58:52.026843",
     "status": "completed"
    },
    "tags": []
   },
   "outputs": [],
   "source": [
    "from fairness_multiverse.conformal import predict_conformal_sets\n",
    "\n",
    "# Generate prediction sets for each test example\n",
    "pred_sets = predict_conformal_sets(model, X_test, q_hat)"
   ]
  },
  {
   "cell_type": "code",
   "execution_count": 44,
   "id": "97f67a6b",
   "metadata": {
    "execution": {
     "iopub.execute_input": "2025-08-19T17:58:52.883797Z",
     "iopub.status.busy": "2025-08-19T17:58:52.882993Z",
     "iopub.status.idle": "2025-08-19T17:58:52.893718Z",
     "shell.execute_reply": "2025-08-19T17:58:52.891819Z"
    },
    "papermill": {
     "duration": 0.027955,
     "end_time": "2025-08-19T17:58:52.895550",
     "exception": false,
     "start_time": "2025-08-19T17:58:52.867595",
     "status": "completed"
    },
    "tags": []
   },
   "outputs": [],
   "source": [
    "y_true = y_true.squeeze()"
   ]
  },
  {
   "cell_type": "code",
   "execution_count": 45,
   "id": "e700e9a7",
   "metadata": {
    "execution": {
     "iopub.execute_input": "2025-08-19T17:58:52.925962Z",
     "iopub.status.busy": "2025-08-19T17:58:52.924078Z",
     "iopub.status.idle": "2025-08-19T17:58:53.441469Z",
     "shell.execute_reply": "2025-08-19T17:58:53.440245Z"
    },
    "papermill": {
     "duration": 0.533343,
     "end_time": "2025-08-19T17:58:53.443309",
     "exception": false,
     "start_time": "2025-08-19T17:58:52.909966",
     "status": "completed"
    },
    "tags": []
   },
   "outputs": [],
   "source": [
    "from fairness_multiverse.conformal import evaluate_sets\n",
    "\n",
    "# Evaluate coverage and average set size on test data\n",
    "metrics = evaluate_sets(pred_sets, y_true)"
   ]
  },
  {
   "cell_type": "markdown",
   "id": "efbacec0",
   "metadata": {
    "papermill": {
     "duration": 0.011495,
     "end_time": "2025-08-19T17:58:53.466454",
     "exception": false,
     "start_time": "2025-08-19T17:58:53.454959",
     "status": "completed"
    },
    "tags": []
   },
   "source": [
    "# CP Metrics"
   ]
  },
  {
   "cell_type": "code",
   "execution_count": 46,
   "id": "9de55fb1",
   "metadata": {
    "execution": {
     "iopub.execute_input": "2025-08-19T17:58:53.491134Z",
     "iopub.status.busy": "2025-08-19T17:58:53.490702Z",
     "iopub.status.idle": "2025-08-19T17:58:53.499786Z",
     "shell.execute_reply": "2025-08-19T17:58:53.498637Z"
    },
    "papermill": {
     "duration": 0.023616,
     "end_time": "2025-08-19T17:58:53.501489",
     "exception": false,
     "start_time": "2025-08-19T17:58:53.477873",
     "status": "completed"
    },
    "tags": []
   },
   "outputs": [
    {
     "data": {
      "text/plain": [
       "{'coverage': 0.9133095530041244, 'avg_size': 1.2538847397168655}"
      ]
     },
     "execution_count": 46,
     "metadata": {},
     "output_type": "execute_result"
    }
   ],
   "source": [
    "metrics"
   ]
  },
  {
   "cell_type": "code",
   "execution_count": 47,
   "id": "64c340a1",
   "metadata": {
    "execution": {
     "iopub.execute_input": "2025-08-19T17:58:53.530755Z",
     "iopub.status.busy": "2025-08-19T17:58:53.530277Z",
     "iopub.status.idle": "2025-08-19T17:58:53.536387Z",
     "shell.execute_reply": "2025-08-19T17:58:53.535483Z"
    },
    "papermill": {
     "duration": 0.021341,
     "end_time": "2025-08-19T17:58:53.537660",
     "exception": false,
     "start_time": "2025-08-19T17:58:53.516319",
     "status": "completed"
    },
    "tags": []
   },
   "outputs": [],
   "source": [
    "example_universe = universe.copy()\n",
    "universe_training_year = example_universe.get(\"training_year\")\n",
    "universe_training_size = example_universe.get(\"training_size\")\n",
    "universe_scale = example_universe.get(\"scale\")\n",
    "universe_model = example_universe.get(\"model\")\n",
    "universe_exclude_features = example_universe.get(\"exclude_features\")\n",
    "universe_exclude_subgroups = example_universe.get(\"exclude_subgroups\")"
   ]
  },
  {
   "cell_type": "code",
   "execution_count": 48,
   "id": "dbb53cb4",
   "metadata": {
    "execution": {
     "iopub.execute_input": "2025-08-19T17:58:53.566134Z",
     "iopub.status.busy": "2025-08-19T17:58:53.565469Z",
     "iopub.status.idle": "2025-08-19T17:58:53.574409Z",
     "shell.execute_reply": "2025-08-19T17:58:53.572956Z"
    },
    "papermill": {
     "duration": 0.033798,
     "end_time": "2025-08-19T17:58:53.586037",
     "exception": false,
     "start_time": "2025-08-19T17:58:53.552239",
     "status": "completed"
    },
    "tags": []
   },
   "outputs": [],
   "source": [
    "cp_metrics_dict = {\n",
    "    \"universe_id\": [universe_id],\n",
    "    \"universe_training_year\": [universe_training_year],\n",
    "    \"universe_training_size\": [universe_training_size],\n",
    "    \"universe_scale\": [universe_scale],\n",
    "    \"universe_model\": [universe_model],\n",
    "    \"universe_exclude_features\": [universe_exclude_features],\n",
    "    \"universe_exclude_subgroups\": [universe_exclude_subgroups],\n",
    "    \"q_hat\": [q_hat],\n",
    "    \"coverage\": [metrics[\"coverage\"]],\n",
    "    \"avg_size\": [metrics[\"avg_size\"]],\n",
    "}"
   ]
  },
  {
   "cell_type": "code",
   "execution_count": 49,
   "id": "0d70d4b2",
   "metadata": {
    "execution": {
     "iopub.execute_input": "2025-08-19T17:58:53.621857Z",
     "iopub.status.busy": "2025-08-19T17:58:53.620563Z",
     "iopub.status.idle": "2025-08-19T17:58:53.646303Z",
     "shell.execute_reply": "2025-08-19T17:58:53.645284Z"
    },
    "papermill": {
     "duration": 0.050622,
     "end_time": "2025-08-19T17:58:53.648615",
     "exception": false,
     "start_time": "2025-08-19T17:58:53.597993",
     "status": "completed"
    },
    "tags": []
   },
   "outputs": [],
   "source": [
    "cp_metrics_df = pd.DataFrame(cp_metrics_dict)"
   ]
  },
  {
   "cell_type": "code",
   "execution_count": 50,
   "id": "b494403c",
   "metadata": {
    "execution": {
     "iopub.execute_input": "2025-08-19T17:58:53.678672Z",
     "iopub.status.busy": "2025-08-19T17:58:53.678252Z",
     "iopub.status.idle": "2025-08-19T17:58:53.694359Z",
     "shell.execute_reply": "2025-08-19T17:58:53.693154Z"
    },
    "papermill": {
     "duration": 0.030989,
     "end_time": "2025-08-19T17:58:53.696578",
     "exception": false,
     "start_time": "2025-08-19T17:58:53.665589",
     "status": "completed"
    },
    "tags": []
   },
   "outputs": [
    {
     "data": {
      "text/html": [
       "<div>\n",
       "<style scoped>\n",
       "    .dataframe tbody tr th:only-of-type {\n",
       "        vertical-align: middle;\n",
       "    }\n",
       "\n",
       "    .dataframe tbody tr th {\n",
       "        vertical-align: top;\n",
       "    }\n",
       "\n",
       "    .dataframe thead th {\n",
       "        text-align: right;\n",
       "    }\n",
       "</style>\n",
       "<table border=\"1\" class=\"dataframe\">\n",
       "  <thead>\n",
       "    <tr style=\"text-align: right;\">\n",
       "      <th></th>\n",
       "      <th>universe_id</th>\n",
       "      <th>universe_training_year</th>\n",
       "      <th>universe_training_size</th>\n",
       "      <th>universe_scale</th>\n",
       "      <th>universe_model</th>\n",
       "      <th>universe_exclude_features</th>\n",
       "      <th>universe_exclude_subgroups</th>\n",
       "      <th>q_hat</th>\n",
       "      <th>coverage</th>\n",
       "      <th>avg_size</th>\n",
       "    </tr>\n",
       "  </thead>\n",
       "  <tbody>\n",
       "    <tr>\n",
       "      <th>0</th>\n",
       "      <td>c58184faf0c60f9885c5bf5457bc83cb</td>\n",
       "      <td>2014</td>\n",
       "      <td>25k</td>\n",
       "      <td>do-not-scale</td>\n",
       "      <td>logreg</td>\n",
       "      <td>age</td>\n",
       "      <td>keep-all</td>\n",
       "      <td>0.652883</td>\n",
       "      <td>0.91331</td>\n",
       "      <td>1.253885</td>\n",
       "    </tr>\n",
       "  </tbody>\n",
       "</table>\n",
       "</div>"
      ],
      "text/plain": [
       "                        universe_id universe_training_year  \\\n",
       "0  c58184faf0c60f9885c5bf5457bc83cb                   2014   \n",
       "\n",
       "  universe_training_size universe_scale universe_model  \\\n",
       "0                    25k   do-not-scale         logreg   \n",
       "\n",
       "  universe_exclude_features universe_exclude_subgroups     q_hat  coverage  \\\n",
       "0                       age                   keep-all  0.652883   0.91331   \n",
       "\n",
       "   avg_size  \n",
       "0  1.253885  "
      ]
     },
     "execution_count": 50,
     "metadata": {},
     "output_type": "execute_result"
    }
   ],
   "source": [
    "cp_metrics_df"
   ]
  },
  {
   "cell_type": "markdown",
   "id": "ed608b0b",
   "metadata": {
    "papermill": {
     "duration": 0.011792,
     "end_time": "2025-08-19T17:58:53.721760",
     "exception": false,
     "start_time": "2025-08-19T17:58:53.709968",
     "status": "completed"
    },
    "tags": []
   },
   "source": [
    "Conditional coverage & looking at subgroups"
   ]
  },
  {
   "cell_type": "code",
   "execution_count": 51,
   "id": "8968c366",
   "metadata": {
    "execution": {
     "iopub.execute_input": "2025-08-19T17:58:53.768850Z",
     "iopub.status.busy": "2025-08-19T17:58:53.768311Z",
     "iopub.status.idle": "2025-08-19T17:58:54.106448Z",
     "shell.execute_reply": "2025-08-19T17:58:54.105120Z"
    },
    "papermill": {
     "duration": 0.366584,
     "end_time": "2025-08-19T17:58:54.108109",
     "exception": false,
     "start_time": "2025-08-19T17:58:53.741525",
     "status": "completed"
    },
    "tags": []
   },
   "outputs": [],
   "source": [
    "from fairness_multiverse.conformal import build_cp_groups\n",
    "\n",
    "cp_groups_df = build_cp_groups(pred_sets, y_true, X_test.index, org_test)"
   ]
  },
  {
   "cell_type": "code",
   "execution_count": 52,
   "id": "292ddabf",
   "metadata": {
    "execution": {
     "iopub.execute_input": "2025-08-19T17:58:54.140143Z",
     "iopub.status.busy": "2025-08-19T17:58:54.139282Z",
     "iopub.status.idle": "2025-08-19T17:58:55.068698Z",
     "shell.execute_reply": "2025-08-19T17:58:55.066571Z"
    },
    "papermill": {
     "duration": 0.946631,
     "end_time": "2025-08-19T17:58:55.071577",
     "exception": false,
     "start_time": "2025-08-19T17:58:54.124946",
     "status": "completed"
    },
    "tags": []
   },
   "outputs": [],
   "source": [
    "# Define covered = 1 if true_label is in the predicted set\n",
    "cp_groups_df['covered'] = cp_groups_df.apply(\n",
    "    lambda r: int(r['true_label'] in r['pred_set']),\n",
    "    axis=1\n",
    ")"
   ]
  },
  {
   "cell_type": "code",
   "execution_count": 53,
   "id": "3a261692",
   "metadata": {
    "execution": {
     "iopub.execute_input": "2025-08-19T17:58:55.115455Z",
     "iopub.status.busy": "2025-08-19T17:58:55.114337Z",
     "iopub.status.idle": "2025-08-19T17:58:55.140223Z",
     "shell.execute_reply": "2025-08-19T17:58:55.139315Z"
    },
    "papermill": {
     "duration": 0.043634,
     "end_time": "2025-08-19T17:58:55.142334",
     "exception": false,
     "start_time": "2025-08-19T17:58:55.098700",
     "status": "completed"
    },
    "tags": []
   },
   "outputs": [],
   "source": [
    "subgroups = ['frau1','nongerman','nongerman_male','nongerman_female']\n",
    "\n",
    "# Conditional coverage for subgroup==1\n",
    "cond_coverage = {\n",
    "    g: cp_groups_df.loc[cp_groups_df[g]==1, 'covered'].mean()\n",
    "    for g in subgroups\n",
    "}"
   ]
  },
  {
   "cell_type": "code",
   "execution_count": 54,
   "id": "894fd600",
   "metadata": {
    "execution": {
     "iopub.execute_input": "2025-08-19T17:58:55.181227Z",
     "iopub.status.busy": "2025-08-19T17:58:55.179585Z",
     "iopub.status.idle": "2025-08-19T17:58:55.190916Z",
     "shell.execute_reply": "2025-08-19T17:58:55.189858Z"
    },
    "papermill": {
     "duration": 0.029154,
     "end_time": "2025-08-19T17:58:55.194120",
     "exception": false,
     "start_time": "2025-08-19T17:58:55.164966",
     "status": "completed"
    },
    "tags": []
   },
   "outputs": [
    {
     "data": {
      "text/plain": [
       "{'frau1': 0.9136002156624882,\n",
       " 'nongerman': 0.9640150451917139,\n",
       " 'nongerman_male': 0.9692875799333514,\n",
       " 'nongerman_female': 0.9552906110283159}"
      ]
     },
     "execution_count": 54,
     "metadata": {},
     "output_type": "execute_result"
    }
   ],
   "source": [
    "cond_coverage"
   ]
  },
  {
   "cell_type": "code",
   "execution_count": 55,
   "id": "942895c7",
   "metadata": {
    "execution": {
     "iopub.execute_input": "2025-08-19T17:58:55.233625Z",
     "iopub.status.busy": "2025-08-19T17:58:55.233161Z",
     "iopub.status.idle": "2025-08-19T17:58:55.240073Z",
     "shell.execute_reply": "2025-08-19T17:58:55.239227Z"
    },
    "papermill": {
     "duration": 0.022905,
     "end_time": "2025-08-19T17:58:55.241727",
     "exception": false,
     "start_time": "2025-08-19T17:58:55.218822",
     "status": "completed"
    },
    "tags": []
   },
   "outputs": [],
   "source": [
    "for subgroup, cov in cond_coverage.items():\n",
    "    cp_metrics_df[f\"cov_{subgroup}\"] = cov"
   ]
  },
  {
   "cell_type": "code",
   "execution_count": 56,
   "id": "3970120f",
   "metadata": {
    "execution": {
     "iopub.execute_input": "2025-08-19T17:58:55.269743Z",
     "iopub.status.busy": "2025-08-19T17:58:55.269340Z",
     "iopub.status.idle": "2025-08-19T17:58:55.293030Z",
     "shell.execute_reply": "2025-08-19T17:58:55.285802Z"
    },
    "papermill": {
     "duration": 0.041168,
     "end_time": "2025-08-19T17:58:55.295112",
     "exception": false,
     "start_time": "2025-08-19T17:58:55.253944",
     "status": "completed"
    },
    "tags": []
   },
   "outputs": [
    {
     "data": {
      "text/html": [
       "<div>\n",
       "<style scoped>\n",
       "    .dataframe tbody tr th:only-of-type {\n",
       "        vertical-align: middle;\n",
       "    }\n",
       "\n",
       "    .dataframe tbody tr th {\n",
       "        vertical-align: top;\n",
       "    }\n",
       "\n",
       "    .dataframe thead th {\n",
       "        text-align: right;\n",
       "    }\n",
       "</style>\n",
       "<table border=\"1\" class=\"dataframe\">\n",
       "  <thead>\n",
       "    <tr style=\"text-align: right;\">\n",
       "      <th></th>\n",
       "      <th>universe_id</th>\n",
       "      <th>universe_training_year</th>\n",
       "      <th>universe_training_size</th>\n",
       "      <th>universe_scale</th>\n",
       "      <th>universe_model</th>\n",
       "      <th>universe_exclude_features</th>\n",
       "      <th>universe_exclude_subgroups</th>\n",
       "      <th>q_hat</th>\n",
       "      <th>coverage</th>\n",
       "      <th>avg_size</th>\n",
       "      <th>cov_frau1</th>\n",
       "      <th>cov_nongerman</th>\n",
       "      <th>cov_nongerman_male</th>\n",
       "      <th>cov_nongerman_female</th>\n",
       "    </tr>\n",
       "  </thead>\n",
       "  <tbody>\n",
       "    <tr>\n",
       "      <th>0</th>\n",
       "      <td>c58184faf0c60f9885c5bf5457bc83cb</td>\n",
       "      <td>2014</td>\n",
       "      <td>25k</td>\n",
       "      <td>do-not-scale</td>\n",
       "      <td>logreg</td>\n",
       "      <td>age</td>\n",
       "      <td>keep-all</td>\n",
       "      <td>0.652883</td>\n",
       "      <td>0.91331</td>\n",
       "      <td>1.253885</td>\n",
       "      <td>0.9136</td>\n",
       "      <td>0.964015</td>\n",
       "      <td>0.969288</td>\n",
       "      <td>0.955291</td>\n",
       "    </tr>\n",
       "  </tbody>\n",
       "</table>\n",
       "</div>"
      ],
      "text/plain": [
       "                        universe_id universe_training_year  \\\n",
       "0  c58184faf0c60f9885c5bf5457bc83cb                   2014   \n",
       "\n",
       "  universe_training_size universe_scale universe_model  \\\n",
       "0                    25k   do-not-scale         logreg   \n",
       "\n",
       "  universe_exclude_features universe_exclude_subgroups     q_hat  coverage  \\\n",
       "0                       age                   keep-all  0.652883   0.91331   \n",
       "\n",
       "   avg_size  cov_frau1  cov_nongerman  cov_nongerman_male  \\\n",
       "0  1.253885     0.9136       0.964015            0.969288   \n",
       "\n",
       "   cov_nongerman_female  \n",
       "0              0.955291  "
      ]
     },
     "execution_count": 56,
     "metadata": {},
     "output_type": "execute_result"
    }
   ],
   "source": [
    "cp_metrics_df"
   ]
  },
  {
   "cell_type": "markdown",
   "id": "3fc519cc",
   "metadata": {
    "papermill": {
     "duration": 0.012294,
     "end_time": "2025-08-19T17:58:55.321759",
     "exception": false,
     "start_time": "2025-08-19T17:58:55.309465",
     "status": "completed"
    },
    "tags": []
   },
   "source": [
    "# (Fairness) Metrics"
   ]
  },
  {
   "cell_type": "code",
   "execution_count": 57,
   "id": "a2e5e155",
   "metadata": {
    "execution": {
     "iopub.execute_input": "2025-08-19T17:58:55.347225Z",
     "iopub.status.busy": "2025-08-19T17:58:55.346707Z",
     "iopub.status.idle": "2025-08-19T17:58:55.365579Z",
     "shell.execute_reply": "2025-08-19T17:58:55.364449Z"
    },
    "papermill": {
     "duration": 0.043405,
     "end_time": "2025-08-19T17:58:55.377007",
     "exception": false,
     "start_time": "2025-08-19T17:58:55.333602",
     "status": "completed"
    },
    "tags": []
   },
   "outputs": [],
   "source": [
    "colname_to_bin = \"maxdeutsch1\"\n",
    "majority_value = org_train[colname_to_bin].mode()[0]\n",
    "\n",
    "org_test[\"majmin\"] = np.where(org_test[colname_to_bin] == majority_value, \"majority\", \"minority\")"
   ]
  },
  {
   "cell_type": "code",
   "execution_count": 58,
   "id": "17e3e4d5",
   "metadata": {
    "execution": {
     "iopub.execute_input": "2025-08-19T17:58:55.406782Z",
     "iopub.status.busy": "2025-08-19T17:58:55.406445Z",
     "iopub.status.idle": "2025-08-19T17:58:57.209292Z",
     "shell.execute_reply": "2025-08-19T17:58:57.207896Z"
    },
    "papermill": {
     "duration": 1.820241,
     "end_time": "2025-08-19T17:58:57.212599",
     "exception": false,
     "start_time": "2025-08-19T17:58:55.392358",
     "status": "completed"
    },
    "tags": []
   },
   "outputs": [],
   "source": [
    "example_universe = universe.copy()\n",
    "example_universe[\"cutoff\"] = example_universe[\"cutoff\"][0]\n",
    "example_universe[\"eval_fairness_grouping\"] = example_universe[\"eval_fairness_grouping\"][0]\n",
    "fairness_dict, metric_frame = universe_analysis.compute_metrics(\n",
    "    example_universe,\n",
    "    y_pred_prob=probs_test,\n",
    "    y_test=y_true,\n",
    "    org_test=org_test,\n",
    ")"
   ]
  },
  {
   "cell_type": "markdown",
   "id": "1fb7a0e9",
   "metadata": {
    "papermill": {
     "duration": 0.014804,
     "end_time": "2025-08-19T17:58:57.258652",
     "exception": false,
     "start_time": "2025-08-19T17:58:57.243848",
     "status": "completed"
    },
    "tags": []
   },
   "source": [
    "# Overall"
   ]
  },
  {
   "cell_type": "markdown",
   "id": "be1784b1",
   "metadata": {
    "papermill": {
     "duration": 0.012445,
     "end_time": "2025-08-19T17:58:57.283108",
     "exception": false,
     "start_time": "2025-08-19T17:58:57.270663",
     "status": "completed"
    },
    "tags": []
   },
   "source": [
    "Main fairness target: Equalized Odds. Seems to be a better fit than equal opportunity, since we're not only interested in Y = 1. Seems to be a better fit than demographic parity, since we also care about accuracy, not just equal distribution of preds.\n",
    "\n",
    "Pick column for computation of fairness metrics\n",
    "\n",
    "Performance\n",
    "Overall performance measures, most interesting in relation to the measures split by group below"
   ]
  },
  {
   "cell_type": "code",
   "execution_count": 59,
   "id": "b7672bee",
   "metadata": {
    "execution": {
     "iopub.execute_input": "2025-08-19T17:58:57.309279Z",
     "iopub.status.busy": "2025-08-19T17:58:57.308813Z",
     "iopub.status.idle": "2025-08-19T17:58:57.318162Z",
     "shell.execute_reply": "2025-08-19T17:58:57.317290Z"
    },
    "papermill": {
     "duration": 0.025035,
     "end_time": "2025-08-19T17:58:57.320609",
     "exception": false,
     "start_time": "2025-08-19T17:58:57.295574",
     "status": "completed"
    },
    "tags": []
   },
   "outputs": [
    {
     "data": {
      "text/plain": [
       "accuracy                   0.216219\n",
       "balanced accuracy          0.530393\n",
       "f1                         0.237775\n",
       "precision                  0.135833\n",
       "false positive rate        0.892202\n",
       "false negative rate        0.047011\n",
       "selection rate             0.900000\n",
       "count                  89710.000000\n",
       "dtype: float64"
      ]
     },
     "execution_count": 59,
     "metadata": {},
     "output_type": "execute_result"
    }
   ],
   "source": [
    "metric_frame.overall"
   ]
  },
  {
   "cell_type": "markdown",
   "id": "d93333c9",
   "metadata": {
    "papermill": {
     "duration": 0.012568,
     "end_time": "2025-08-19T17:58:57.348644",
     "exception": false,
     "start_time": "2025-08-19T17:58:57.336076",
     "status": "completed"
    },
    "tags": []
   },
   "source": [
    "By Group"
   ]
  },
  {
   "cell_type": "code",
   "execution_count": 60,
   "id": "52256966",
   "metadata": {
    "execution": {
     "iopub.execute_input": "2025-08-19T17:58:57.379613Z",
     "iopub.status.busy": "2025-08-19T17:58:57.379066Z",
     "iopub.status.idle": "2025-08-19T17:58:57.394138Z",
     "shell.execute_reply": "2025-08-19T17:58:57.393341Z"
    },
    "papermill": {
     "duration": 0.033705,
     "end_time": "2025-08-19T17:58:57.395698",
     "exception": false,
     "start_time": "2025-08-19T17:58:57.361993",
     "status": "completed"
    },
    "tags": []
   },
   "outputs": [
    {
     "data": {
      "text/html": [
       "<div>\n",
       "<style scoped>\n",
       "    .dataframe tbody tr th:only-of-type {\n",
       "        vertical-align: middle;\n",
       "    }\n",
       "\n",
       "    .dataframe tbody tr th {\n",
       "        vertical-align: top;\n",
       "    }\n",
       "\n",
       "    .dataframe thead th {\n",
       "        text-align: right;\n",
       "    }\n",
       "</style>\n",
       "<table border=\"1\" class=\"dataframe\">\n",
       "  <thead>\n",
       "    <tr style=\"text-align: right;\">\n",
       "      <th></th>\n",
       "      <th>accuracy</th>\n",
       "      <th>balanced accuracy</th>\n",
       "      <th>f1</th>\n",
       "      <th>precision</th>\n",
       "      <th>false positive rate</th>\n",
       "      <th>false negative rate</th>\n",
       "      <th>selection rate</th>\n",
       "      <th>count</th>\n",
       "    </tr>\n",
       "    <tr>\n",
       "      <th>majmin</th>\n",
       "      <th></th>\n",
       "      <th></th>\n",
       "      <th></th>\n",
       "      <th></th>\n",
       "      <th></th>\n",
       "      <th></th>\n",
       "      <th></th>\n",
       "      <th></th>\n",
       "    </tr>\n",
       "  </thead>\n",
       "  <tbody>\n",
       "    <tr>\n",
       "      <th>majority</th>\n",
       "      <td>0.238615</td>\n",
       "      <td>0.537739</td>\n",
       "      <td>0.246857</td>\n",
       "      <td>0.141988</td>\n",
       "      <td>0.868832</td>\n",
       "      <td>0.055689</td>\n",
       "      <td>0.878806</td>\n",
       "      <td>69170.0</td>\n",
       "    </tr>\n",
       "    <tr>\n",
       "      <th>minority</th>\n",
       "      <td>0.140798</td>\n",
       "      <td>0.508542</td>\n",
       "      <td>0.209319</td>\n",
       "      <td>0.117081</td>\n",
       "      <td>0.969403</td>\n",
       "      <td>0.013514</td>\n",
       "      <td>0.971373</td>\n",
       "      <td>20540.0</td>\n",
       "    </tr>\n",
       "  </tbody>\n",
       "</table>\n",
       "</div>"
      ],
      "text/plain": [
       "          accuracy  balanced accuracy        f1  precision  \\\n",
       "majmin                                                       \n",
       "majority  0.238615           0.537739  0.246857   0.141988   \n",
       "minority  0.140798           0.508542  0.209319   0.117081   \n",
       "\n",
       "          false positive rate  false negative rate  selection rate    count  \n",
       "majmin                                                                       \n",
       "majority             0.868832             0.055689        0.878806  69170.0  \n",
       "minority             0.969403             0.013514        0.971373  20540.0  "
      ]
     },
     "execution_count": 60,
     "metadata": {},
     "output_type": "execute_result"
    }
   ],
   "source": [
    "metric_frame.by_group"
   ]
  },
  {
   "cell_type": "code",
   "execution_count": 61,
   "id": "6e6c20ae",
   "metadata": {
    "execution": {
     "iopub.execute_input": "2025-08-19T17:58:57.425397Z",
     "iopub.status.busy": "2025-08-19T17:58:57.425009Z",
     "iopub.status.idle": "2025-08-19T17:58:59.318150Z",
     "shell.execute_reply": "2025-08-19T17:58:59.316771Z"
    },
    "papermill": {
     "duration": 1.908177,
     "end_time": "2025-08-19T17:58:59.319596",
     "exception": false,
     "start_time": "2025-08-19T17:58:57.411419",
     "status": "completed"
    },
    "tags": []
   },
   "outputs": [
    {
     "data": {
      "text/plain": [
       "array([[<Axes: title={'center': 'accuracy'}, xlabel='majmin'>,\n",
       "        <Axes: title={'center': 'balanced accuracy'}, xlabel='majmin'>,\n",
       "        <Axes: title={'center': 'f1'}, xlabel='majmin'>],\n",
       "       [<Axes: title={'center': 'precision'}, xlabel='majmin'>,\n",
       "        <Axes: title={'center': 'false positive rate'}, xlabel='majmin'>,\n",
       "        <Axes: title={'center': 'false negative rate'}, xlabel='majmin'>],\n",
       "       [<Axes: title={'center': 'selection rate'}, xlabel='majmin'>,\n",
       "        <Axes: title={'center': 'count'}, xlabel='majmin'>,\n",
       "        <Axes: xlabel='majmin'>]], dtype=object)"
      ]
     },
     "execution_count": 61,
     "metadata": {},
     "output_type": "execute_result"
    },
    {
     "data": {
      "image/png": "[encoded data removed]",
      "text/plain": [
       "<Figure size 1200x800 with 9 Axes>"
      ]
     },
     "metadata": {},
     "output_type": "display_data"
    }
   ],
   "source": [
    "# In a graphic\n",
    "metric_frame.by_group.plot.bar(\n",
    "    subplots=True,\n",
    "    layout=[3, 3],\n",
    "    legend=False,\n",
    "    figsize=[12, 8],\n",
    "    title=\"Show all metrics\",\n",
    ")"
   ]
  },
  {
   "cell_type": "markdown",
   "id": "b2e433ae",
   "metadata": {
    "papermill": {
     "duration": 0.013861,
     "end_time": "2025-08-19T17:58:59.349999",
     "exception": false,
     "start_time": "2025-08-19T17:58:59.336138",
     "status": "completed"
    },
    "tags": []
   },
   "source": [
    "# Final Output"
   ]
  },
  {
   "cell_type": "code",
   "execution_count": 62,
   "id": "3871301e",
   "metadata": {
    "execution": {
     "iopub.execute_input": "2025-08-19T17:58:59.379858Z",
     "iopub.status.busy": "2025-08-19T17:58:59.378838Z",
     "iopub.status.idle": "2025-08-19T17:58:59.392811Z",
     "shell.execute_reply": "2025-08-19T17:58:59.391628Z"
    },
    "papermill": {
     "duration": 0.042424,
     "end_time": "2025-08-19T17:58:59.405995",
     "exception": false,
     "start_time": "2025-08-19T17:58:59.363571",
     "status": "completed"
    },
    "tags": []
   },
   "outputs": [
    {
     "data": {
      "text/plain": [
       "4"
      ]
     },
     "execution_count": 62,
     "metadata": {},
     "output_type": "execute_result"
    }
   ],
   "source": [
    "sub_universes = universe_analysis.generate_sub_universes()\n",
    "len(sub_universes)"
   ]
  },
  {
   "cell_type": "code",
   "execution_count": 63,
   "id": "d9cfdaca",
   "metadata": {
    "execution": {
     "iopub.execute_input": "2025-08-19T17:58:59.436242Z",
     "iopub.status.busy": "2025-08-19T17:58:59.434613Z",
     "iopub.status.idle": "2025-08-19T17:58:59.442659Z",
     "shell.execute_reply": "2025-08-19T17:58:59.441965Z"
    },
    "papermill": {
     "duration": 0.024172,
     "end_time": "2025-08-19T17:58:59.443842",
     "exception": false,
     "start_time": "2025-08-19T17:58:59.419670",
     "status": "completed"
    },
    "tags": []
   },
   "outputs": [],
   "source": [
    "def filter_sub_universe_data(sub_universe, org_test):\n",
    "    # Keep all rows — no filtering\n",
    "    keep_rows_mask = np.ones(org_test.shape[0], dtype=bool)\n",
    "\n",
    "    print(f\"[INFO] Keeping all rows: {keep_rows_mask.sum()} rows retained.\")\n",
    "    return keep_rows_mask"
   ]
  },
  {
   "cell_type": "code",
   "execution_count": 64,
   "id": "2bc31ac1",
   "metadata": {
    "execution": {
     "iopub.execute_input": "2025-08-19T17:58:59.472308Z",
     "iopub.status.busy": "2025-08-19T17:58:59.472019Z",
     "iopub.status.idle": "2025-08-19T17:59:06.334332Z",
     "shell.execute_reply": "2025-08-19T17:59:06.333402Z"
    },
    "papermill": {
     "duration": 6.878288,
     "end_time": "2025-08-19T17:59:06.335609",
     "exception": false,
     "start_time": "2025-08-19T17:58:59.457321",
     "status": "completed"
    },
    "tags": []
   },
   "outputs": [
    {
     "name": "stdout",
     "output_type": "stream",
     "text": [
      "Stopping execution_time clock.\n",
      "[INFO] Keeping all rows: 89710 rows retained.\n"
     ]
    },
    {
     "name": "stdout",
     "output_type": "stream",
     "text": [
      "[INFO] Keeping all rows: 89710 rows retained.\n"
     ]
    },
    {
     "name": "stdout",
     "output_type": "stream",
     "text": [
      "[INFO] Keeping all rows: 89710 rows retained.\n"
     ]
    },
    {
     "name": "stdout",
     "output_type": "stream",
     "text": [
      "[INFO] Keeping all rows: 89710 rows retained.\n"
     ]
    },
    {
     "data": {
      "text/html": [
       "<div>\n",
       "<style scoped>\n",
       "    .dataframe tbody tr th:only-of-type {\n",
       "        vertical-align: middle;\n",
       "    }\n",
       "\n",
       "    .dataframe tbody tr th {\n",
       "        vertical-align: top;\n",
       "    }\n",
       "\n",
       "    .dataframe thead th {\n",
       "        text-align: right;\n",
       "    }\n",
       "</style>\n",
       "<table border=\"1\" class=\"dataframe\">\n",
       "  <thead>\n",
       "    <tr style=\"text-align: right;\">\n",
       "      <th></th>\n",
       "      <th>run_no</th>\n",
       "      <th>universe_id</th>\n",
       "      <th>universe_settings</th>\n",
       "      <th>execution_time</th>\n",
       "      <th>test_size_n</th>\n",
       "      <th>test_size_frac</th>\n",
       "      <th>fair_main_equalized_odds_difference</th>\n",
       "      <th>fair_main_equalized_odds_ratio</th>\n",
       "      <th>fair_main_demographic_parity_difference</th>\n",
       "      <th>fair_main_demographic_parity_ratio</th>\n",
       "      <th>...</th>\n",
       "      <th>perf_grp_precision_0</th>\n",
       "      <th>perf_grp_precision_1</th>\n",
       "      <th>perf_grp_false positive rate_0</th>\n",
       "      <th>perf_grp_false positive rate_1</th>\n",
       "      <th>perf_grp_false negative rate_0</th>\n",
       "      <th>perf_grp_false negative rate_1</th>\n",
       "      <th>perf_grp_selection rate_0</th>\n",
       "      <th>perf_grp_selection rate_1</th>\n",
       "      <th>perf_grp_count_0</th>\n",
       "      <th>perf_grp_count_1</th>\n",
       "    </tr>\n",
       "  </thead>\n",
       "  <tbody>\n",
       "    <tr>\n",
       "      <th>0</th>\n",
       "      <td>3</td>\n",
       "      <td>c58184faf0c60f9885c5bf5457bc83cb</td>\n",
       "      <td>{\"cutoff\": \"quantile_0.1\", \"eval_fairness_grou...</td>\n",
       "      <td>21.913271</td>\n",
       "      <td>89710</td>\n",
       "      <td>1.0</td>\n",
       "      <td>0.100571</td>\n",
       "      <td>0.896255</td>\n",
       "      <td>0.092567</td>\n",
       "      <td>0.904705</td>\n",
       "      <td>...</td>\n",
       "      <td>NaN</td>\n",
       "      <td>NaN</td>\n",
       "      <td>NaN</td>\n",
       "      <td>NaN</td>\n",
       "      <td>NaN</td>\n",
       "      <td>NaN</td>\n",
       "      <td>NaN</td>\n",
       "      <td>NaN</td>\n",
       "      <td>NaN</td>\n",
       "      <td>NaN</td>\n",
       "    </tr>\n",
       "    <tr>\n",
       "      <th>0</th>\n",
       "      <td>3</td>\n",
       "      <td>c58184faf0c60f9885c5bf5457bc83cb</td>\n",
       "      <td>{\"cutoff\": \"quantile_0.1\", \"eval_fairness_grou...</td>\n",
       "      <td>21.913271</td>\n",
       "      <td>89710</td>\n",
       "      <td>1.0</td>\n",
       "      <td>0.100571</td>\n",
       "      <td>0.896255</td>\n",
       "      <td>0.092567</td>\n",
       "      <td>0.904705</td>\n",
       "      <td>...</td>\n",
       "      <td>0.117081</td>\n",
       "      <td>0.141988</td>\n",
       "      <td>0.969403</td>\n",
       "      <td>0.868832</td>\n",
       "      <td>0.013514</td>\n",
       "      <td>0.055689</td>\n",
       "      <td>0.971373</td>\n",
       "      <td>0.878806</td>\n",
       "      <td>20540.0</td>\n",
       "      <td>69170.0</td>\n",
       "    </tr>\n",
       "    <tr>\n",
       "      <th>0</th>\n",
       "      <td>3</td>\n",
       "      <td>c58184faf0c60f9885c5bf5457bc83cb</td>\n",
       "      <td>{\"cutoff\": \"quantile_0.25\", \"eval_fairness_gro...</td>\n",
       "      <td>21.913271</td>\n",
       "      <td>89710</td>\n",
       "      <td>1.0</td>\n",
       "      <td>0.235952</td>\n",
       "      <td>0.741766</td>\n",
       "      <td>0.218354</td>\n",
       "      <td>0.762233</td>\n",
       "      <td>...</td>\n",
       "      <td>NaN</td>\n",
       "      <td>NaN</td>\n",
       "      <td>NaN</td>\n",
       "      <td>NaN</td>\n",
       "      <td>NaN</td>\n",
       "      <td>NaN</td>\n",
       "      <td>NaN</td>\n",
       "      <td>NaN</td>\n",
       "      <td>NaN</td>\n",
       "      <td>NaN</td>\n",
       "    </tr>\n",
       "    <tr>\n",
       "      <th>0</th>\n",
       "      <td>3</td>\n",
       "      <td>c58184faf0c60f9885c5bf5457bc83cb</td>\n",
       "      <td>{\"cutoff\": \"quantile_0.25\", \"eval_fairness_gro...</td>\n",
       "      <td>21.913271</td>\n",
       "      <td>89710</td>\n",
       "      <td>1.0</td>\n",
       "      <td>0.235952</td>\n",
       "      <td>0.741766</td>\n",
       "      <td>0.218354</td>\n",
       "      <td>0.762233</td>\n",
       "      <td>...</td>\n",
       "      <td>0.119758</td>\n",
       "      <td>0.159710</td>\n",
       "      <td>0.913713</td>\n",
       "      <td>0.677761</td>\n",
       "      <td>0.046030</td>\n",
       "      <td>0.153939</td>\n",
       "      <td>0.918354</td>\n",
       "      <td>0.700000</td>\n",
       "      <td>20540.0</td>\n",
       "      <td>69170.0</td>\n",
       "    </tr>\n",
       "  </tbody>\n",
       "</table>\n",
       "<p>4 rows × 50 columns</p>\n",
       "</div>"
      ],
      "text/plain": [
       "  run_no                       universe_id  \\\n",
       "0      3  c58184faf0c60f9885c5bf5457bc83cb   \n",
       "0      3  c58184faf0c60f9885c5bf5457bc83cb   \n",
       "0      3  c58184faf0c60f9885c5bf5457bc83cb   \n",
       "0      3  c58184faf0c60f9885c5bf5457bc83cb   \n",
       "\n",
       "                                   universe_settings  execution_time  \\\n",
       "0  {\"cutoff\": \"quantile_0.1\", \"eval_fairness_grou...       21.913271   \n",
       "0  {\"cutoff\": \"quantile_0.1\", \"eval_fairness_grou...       21.913271   \n",
       "0  {\"cutoff\": \"quantile_0.25\", \"eval_fairness_gro...       21.913271   \n",
       "0  {\"cutoff\": \"quantile_0.25\", \"eval_fairness_gro...       21.913271   \n",
       "\n",
       "   test_size_n  test_size_frac  fair_main_equalized_odds_difference  \\\n",
       "0        89710             1.0                             0.100571   \n",
       "0        89710             1.0                             0.100571   \n",
       "0        89710             1.0                             0.235952   \n",
       "0        89710             1.0                             0.235952   \n",
       "\n",
       "   fair_main_equalized_odds_ratio  fair_main_demographic_parity_difference  \\\n",
       "0                        0.896255                                 0.092567   \n",
       "0                        0.896255                                 0.092567   \n",
       "0                        0.741766                                 0.218354   \n",
       "0                        0.741766                                 0.218354   \n",
       "\n",
       "   fair_main_demographic_parity_ratio  ...  perf_grp_precision_0  \\\n",
       "0                            0.904705  ...                   NaN   \n",
       "0                            0.904705  ...              0.117081   \n",
       "0                            0.762233  ...                   NaN   \n",
       "0                            0.762233  ...              0.119758   \n",
       "\n",
       "   perf_grp_precision_1  perf_grp_false positive rate_0  \\\n",
       "0                   NaN                             NaN   \n",
       "0              0.141988                        0.969403   \n",
       "0                   NaN                             NaN   \n",
       "0              0.159710                        0.913713   \n",
       "\n",
       "   perf_grp_false positive rate_1  perf_grp_false negative rate_0  \\\n",
       "0                             NaN                             NaN   \n",
       "0                        0.868832                        0.013514   \n",
       "0                             NaN                             NaN   \n",
       "0                        0.677761                        0.046030   \n",
       "\n",
       "   perf_grp_false negative rate_1  perf_grp_selection rate_0  \\\n",
       "0                             NaN                        NaN   \n",
       "0                        0.055689                   0.971373   \n",
       "0                             NaN                        NaN   \n",
       "0                        0.153939                   0.918354   \n",
       "\n",
       "   perf_grp_selection rate_1  perf_grp_count_0  perf_grp_count_1  \n",
       "0                        NaN               NaN               NaN  \n",
       "0                   0.878806           20540.0           69170.0  \n",
       "0                        NaN               NaN               NaN  \n",
       "0                   0.700000           20540.0           69170.0  \n",
       "\n",
       "[4 rows x 50 columns]"
      ]
     },
     "execution_count": 64,
     "metadata": {},
     "output_type": "execute_result"
    }
   ],
   "source": [
    "final_output = universe_analysis.generate_final_output(\n",
    "    y_pred_prob=probs_test,\n",
    "    y_test=y_true,\n",
    "    org_test=org_test,\n",
    "    filter_data=filter_sub_universe_data,\n",
    "    cp_metrics_df=cp_metrics_df,\n",
    "    save=True,\n",
    ")\n",
    "final_output"
   ]
  },
  {
   "cell_type": "code",
   "execution_count": null,
   "id": "8b80a1ff",
   "metadata": {
    "papermill": {
     "duration": 0.014427,
     "end_time": "2025-08-19T17:59:06.369327",
     "exception": false,
     "start_time": "2025-08-19T17:59:06.354900",
     "status": "completed"
    },
    "tags": []
   },
   "outputs": [],
   "source": []
  },
  {
   "cell_type": "code",
   "execution_count": null,
   "id": "275c9fad",
   "metadata": {
    "papermill": {
     "duration": 0.013872,
     "end_time": "2025-08-19T17:59:06.397715",
     "exception": false,
     "start_time": "2025-08-19T17:59:06.383843",
     "status": "completed"
    },
    "tags": []
   },
   "outputs": [],
   "source": []
  }
 ],
 "metadata": {
  "celltoolbar": "Tags",
  "kernelspec": {
   "display_name": "Python (CMA Fairness)",
   "language": "python",
   "name": "cma_fair_env"
  },
  "language_info": {
   "codemirror_mode": {
    "name": "ipython",
    "version": 3
   },
   "file_extension": ".py",
   "mimetype": "text/x-python",
   "name": "python",
   "nbconvert_exporter": "python",
   "pygments_lexer": "ipython3",
   "version": "3.10.12"
  },
  "papermill": {
   "default_parameters": {},
   "duration": 32.755128,
   "end_time": "2025-08-19T17:59:07.246828",
   "environment_variables": {},
   "exception": null,
   "input_path": "universe_analysis.ipynb",
   "output_path": "output/runs/3/notebooks/m_3-c58184faf0c60f9885c5bf5457bc83cb.ipynb",
   "parameters": {
    "output_dir": "output",
    "run_no": "3",
    "seed": "2023",
    "universe": "{\"cutoff\": [\"quantile_0.1\", \"quantile_0.25\"], \"eval_fairness_grouping\": [\"majority-minority\", \"nationality-all\"], \"exclude_features\": \"age\", \"exclude_subgroups\": \"keep-all\", \"model\": \"logreg\", \"scale\": \"do-not-scale\", \"training_size\": \"25k\", \"training_year\": \"2014\"}",
    "universe_id": "c58184faf0c60f9885c5bf5457bc83cb"
   },
   "start_time": "2025-08-19T17:58:34.491700",
   "version": "2.6.0"
  }
 },
 "nbformat": 4,
 "nbformat_minor": 5
}