{
 "cells": [
  {
   "cell_type": "markdown",
   "id": "ef23dbb3",
   "metadata": {
    "papermill": {
     "duration": 0.01719,
     "end_time": "2025-08-19T19:01:48.817886",
     "exception": false,
     "start_time": "2025-08-19T19:01:48.800696",
     "status": "completed"
    },
    "tags": []
   },
   "source": [
    "# Setup"
   ]
  },
  {
   "cell_type": "code",
   "execution_count": 1,
   "id": "0bc8e7dc",
   "metadata": {
    "execution": {
     "iopub.execute_input": "2025-08-19T19:01:48.839763Z",
     "iopub.status.busy": "2025-08-19T19:01:48.839444Z",
     "iopub.status.idle": "2025-08-19T19:01:48.852626Z",
     "shell.execute_reply": "2025-08-19T19:01:48.851636Z"
    },
    "papermill": {
     "duration": 0.024774,
     "end_time": "2025-08-19T19:01:48.853925",
     "exception": false,
     "start_time": "2025-08-19T19:01:48.829151",
     "status": "completed"
    },
    "tags": []
   },
   "outputs": [
    {
     "name": "stdout",
     "output_type": "stream",
     "text": [
      "/dss/dsshome1/0C/ra93lal2/cma/CMA_Fairness_v2\n"
     ]
    },
    {
     "name": "stderr",
     "output_type": "stream",
     "text": [
      "/dss/dsshome1/0C/ra93lal2/.local/share/virtualenvs/CMA_Fairness_v2-3j10GkSs/lib/python3.10/site-packages/IPython/core/magics/osm.py:393: UserWarning: This is now an optional IPython functionality, using bookmarks requires you to install the `pickleshare` library.\n",
      "  bkms = self.shell.db.get('bookmarks', {})\n",
      "/dss/dsshome1/0C/ra93lal2/.local/share/virtualenvs/CMA_Fairness_v2-3j10GkSs/lib/python3.10/site-packages/IPython/core/magics/osm.py:417: UserWarning: This is now an optional IPython functionality, setting dhist requires you to install the `pickleshare` library.\n",
      "  self.shell.db['dhist'] = compress_dhist(dhist)[-100:]\n"
     ]
    }
   ],
   "source": [
    "%cd ~/cma/CMA_Fairness_v2"
   ]
  },
  {
   "cell_type": "markdown",
   "id": "9d235661",
   "metadata": {
    "papermill": {
     "duration": 0.009139,
     "end_time": "2025-08-19T19:01:48.873818",
     "exception": false,
     "start_time": "2025-08-19T19:01:48.864679",
     "status": "completed"
    },
    "tags": []
   },
   "source": [
    "The following cell holds the definition of our parameters, these values can be overriden by rendering the with e.g. the following command:\n",
    "\n",
    "papermill -p alpha 0.2 -p ratio 0.3 universe_analysis.ipynb output/test_run.ipynb"
   ]
  },
  {
   "cell_type": "code",
   "execution_count": 2,
   "id": "4a789d8e",
   "metadata": {
    "execution": {
     "iopub.execute_input": "2025-08-19T19:01:48.894616Z",
     "iopub.status.busy": "2025-08-19T19:01:48.893589Z",
     "iopub.status.idle": "2025-08-19T19:01:48.901073Z",
     "shell.execute_reply": "2025-08-19T19:01:48.899667Z"
    },
    "papermill": {
     "duration": 0.020003,
     "end_time": "2025-08-19T19:01:48.902884",
     "exception": false,
     "start_time": "2025-08-19T19:01:48.882881",
     "status": "completed"
    },
    "tags": []
   },
   "outputs": [
    {
     "name": "stdout",
     "output_type": "stream",
     "text": [
      "Current working directory: /dss/dsshome1/0C/ra93lal2/cma/CMA_Fairness_v2\n"
     ]
    }
   ],
   "source": [
    "import os\n",
    "print(\"Current working directory:\", os.getcwd())"
   ]
  },
  {
   "cell_type": "code",
   "execution_count": 3,
   "id": "4132aaed",
   "metadata": {
    "execution": {
     "iopub.execute_input": "2025-08-19T19:01:48.937541Z",
     "iopub.status.busy": "2025-08-19T19:01:48.936879Z",
     "iopub.status.idle": "2025-08-19T19:01:48.943959Z",
     "shell.execute_reply": "2025-08-19T19:01:48.942692Z"
    },
    "papermill": {
     "duration": 0.032521,
     "end_time": "2025-08-19T19:01:48.946089",
     "exception": false,
     "start_time": "2025-08-19T19:01:48.913568",
     "status": "completed"
    },
    "tags": [
     "parameters"
    ]
   },
   "outputs": [],
   "source": [
    "run_no = 0\n",
    "universe_id = \"test\"\n",
    "universe = {\n",
    "    \"training_size\": \"5k\", # \"25k\", \"5k\", \"1k\"\n",
    "    \"training_year\": \"2012_14\", # \"2014\", \"2012_14\", \"2010_14\"\n",
    "    \"scale\": \"scale\", # \"scale\", \"do-not-scale\",\n",
    "    \"model\": \"elasticnet\", # \"logreg\", \"penalized_logreg\", \"rf\", \"gbm\", \"elasticnet\"\n",
    "    \"cutoff\": [\"quantile_0.15\", \"quantile_0.30\"],\n",
    "    \"exclude_features\": \"age\", # \"none\", \"nationality\", \"sex\", \"nationality-sex\", \"age\"\n",
    "    \"exclude_subgroups\": \"drop-non-german\", # \"keep-all\", \"drop-non-german\"\n",
    "    \"eval_fairness_grouping\": [\"majority-minority\", \"nationality-all\"]\n",
    "}\n",
    "\n",
    "output_dir=\"./output\"\n",
    "seed=0"
   ]
  },
  {
   "cell_type": "code",
   "execution_count": 4,
   "id": "02bc7ae2",
   "metadata": {
    "execution": {
     "iopub.execute_input": "2025-08-19T19:01:48.975079Z",
     "iopub.status.busy": "2025-08-19T19:01:48.972394Z",
     "iopub.status.idle": "2025-08-19T19:01:48.981224Z",
     "shell.execute_reply": "2025-08-19T19:01:48.979646Z"
    },
    "papermill": {
     "duration": 0.02032,
     "end_time": "2025-08-19T19:01:48.982663",
     "exception": false,
     "start_time": "2025-08-19T19:01:48.962343",
     "status": "completed"
    },
    "tags": [
     "injected-parameters"
    ]
   },
   "outputs": [],
   "source": [
    "# Parameters\n",
    "universe_id = \"797d555d8e1fd2288714ad460da59024\"\n",
    "run_no = \"3\"\n",
    "universe = \"{\\\"cutoff\\\": [\\\"quantile_0.1\\\", \\\"quantile_0.25\\\"], \\\"eval_fairness_grouping\\\": [\\\"majority-minority\\\", \\\"nationality-all\\\"], \\\"exclude_features\\\": \\\"nationality-sex\\\", \\\"exclude_subgroups\\\": \\\"drop-non-german\\\", \\\"model\\\": \\\"penalized_logreg\\\", \\\"scale\\\": \\\"do-not-scale\\\", \\\"training_size\\\": \\\"1k\\\", \\\"training_year\\\": \\\"2012_14\\\"}\"\n",
    "output_dir = \"output\"\n",
    "seed = \"2023\"\n"
   ]
  },
  {
   "cell_type": "code",
   "execution_count": 5,
   "id": "a5d7941f",
   "metadata": {
    "execution": {
     "iopub.execute_input": "2025-08-19T19:01:49.007245Z",
     "iopub.status.busy": "2025-08-19T19:01:49.006351Z",
     "iopub.status.idle": "2025-08-19T19:01:49.014455Z",
     "shell.execute_reply": "2025-08-19T19:01:49.012787Z"
    },
    "papermill": {
     "duration": 0.02116,
     "end_time": "2025-08-19T19:01:49.016141",
     "exception": false,
     "start_time": "2025-08-19T19:01:48.994981",
     "status": "completed"
    },
    "tags": []
   },
   "outputs": [],
   "source": [
    "import json\n",
    "if isinstance(universe, str):\n",
    "    universe = json.loads(universe)"
   ]
  },
  {
   "cell_type": "code",
   "execution_count": 6,
   "id": "7076ccb1",
   "metadata": {
    "execution": {
     "iopub.execute_input": "2025-08-19T19:01:49.037941Z",
     "iopub.status.busy": "2025-08-19T19:01:49.036683Z",
     "iopub.status.idle": "2025-08-19T19:01:49.107719Z",
     "shell.execute_reply": "2025-08-19T19:01:49.107032Z"
    },
    "papermill": {
     "duration": 0.083144,
     "end_time": "2025-08-19T19:01:49.109091",
     "exception": false,
     "start_time": "2025-08-19T19:01:49.025947",
     "status": "completed"
    },
    "tags": []
   },
   "outputs": [],
   "source": [
    "# Auto-reload the custom package\n",
    "%load_ext autoreload\n",
    "%autoreload 1\n",
    "%aimport fairness_multiverse"
   ]
  },
  {
   "cell_type": "code",
   "execution_count": 7,
   "id": "94c8eb93",
   "metadata": {
    "execution": {
     "iopub.execute_input": "2025-08-19T19:01:49.129932Z",
     "iopub.status.busy": "2025-08-19T19:01:49.129310Z",
     "iopub.status.idle": "2025-08-19T19:01:50.650699Z",
     "shell.execute_reply": "2025-08-19T19:01:50.649713Z"
    },
    "papermill": {
     "duration": 1.533519,
     "end_time": "2025-08-19T19:01:50.652329",
     "exception": false,
     "start_time": "2025-08-19T19:01:49.118810",
     "status": "completed"
    },
    "tags": []
   },
   "outputs": [],
   "source": [
    "from fairness_multiverse.universe import UniverseAnalysis\n",
    "\n",
    "universe_analysis = UniverseAnalysis(\n",
    "    run_no = run_no,\n",
    "    universe_id = universe_id,\n",
    "    universe = universe,\n",
    "    output_dir=output_dir,\n",
    ")"
   ]
  },
  {
   "cell_type": "code",
   "execution_count": 8,
   "id": "2a6381cf",
   "metadata": {
    "execution": {
     "iopub.execute_input": "2025-08-19T19:01:50.673670Z",
     "iopub.status.busy": "2025-08-19T19:01:50.673381Z",
     "iopub.status.idle": "2025-08-19T19:01:50.678950Z",
     "shell.execute_reply": "2025-08-19T19:01:50.678251Z"
    },
    "papermill": {
     "duration": 0.018129,
     "end_time": "2025-08-19T19:01:50.680149",
     "exception": false,
     "start_time": "2025-08-19T19:01:50.662020",
     "status": "completed"
    },
    "tags": []
   },
   "outputs": [
    {
     "name": "stdout",
     "output_type": "stream",
     "text": [
      "Using Seed: 2023\n"
     ]
    }
   ],
   "source": [
    "import numpy as np\n",
    "parsed_seed = int(seed)\n",
    "np.random.seed(parsed_seed)\n",
    "print(f\"Using Seed: {parsed_seed}\")"
   ]
  },
  {
   "cell_type": "markdown",
   "id": "b6e958b4",
   "metadata": {
    "papermill": {
     "duration": 0.00894,
     "end_time": "2025-08-19T19:01:50.698183",
     "exception": false,
     "start_time": "2025-08-19T19:01:50.689243",
     "status": "completed"
    },
    "tags": []
   },
   "source": [
    "# Loading Data"
   ]
  },
  {
   "cell_type": "code",
   "execution_count": 9,
   "id": "98701482",
   "metadata": {
    "execution": {
     "iopub.execute_input": "2025-08-19T19:01:50.717305Z",
     "iopub.status.busy": "2025-08-19T19:01:50.717049Z",
     "iopub.status.idle": "2025-08-19T19:02:00.935015Z",
     "shell.execute_reply": "2025-08-19T19:02:00.934073Z"
    },
    "papermill": {
     "duration": 10.230654,
     "end_time": "2025-08-19T19:02:00.937763",
     "exception": false,
     "start_time": "2025-08-19T19:01:50.707109",
     "status": "completed"
    },
    "tags": []
   },
   "outputs": [
    {
     "name": "stdout",
     "output_type": "stream",
     "text": [
      "Loading SIAB data from cache: data/siab_cached.csv.gz\n"
     ]
    },
    {
     "name": "stdout",
     "output_type": "stream",
     "text": [
      "(643690, 164)\n"
     ]
    }
   ],
   "source": [
    "from pathlib import Path\n",
    "import pandas as pd\n",
    "\n",
    "# File paths\n",
    "raw_file = Path(\"data/raw/siab.csv\")\n",
    "cache_file = Path(\"data/siab_cached.csv.gz\")\n",
    "\n",
    "# Ensure cache directory exists\n",
    "cache_file.parent.mkdir(parents=True, exist_ok=True)\n",
    "\n",
    "# Load with simple caching\n",
    "if cache_file.exists():\n",
    "    print(f\"Loading SIAB data from cache: {cache_file}\")\n",
    "    siab = pd.read_csv(cache_file, compression='gzip')\n",
    "else:\n",
    "    print(f\"Cache not found. Reading raw SIAB data: {raw_file}\")\n",
    "    siab = pd.read_csv(raw_file)\n",
    "    siab.to_csv(cache_file, index=False, compression='gzip')\n",
    "    print(f\"Cached SIAB data to: {cache_file}\")\n",
    "\n",
    "print(siab.shape)"
   ]
  },
  {
   "cell_type": "code",
   "execution_count": 10,
   "id": "058d2abb",
   "metadata": {
    "execution": {
     "iopub.execute_input": "2025-08-19T19:02:00.984091Z",
     "iopub.status.busy": "2025-08-19T19:02:00.981654Z",
     "iopub.status.idle": "2025-08-19T19:02:01.137971Z",
     "shell.execute_reply": "2025-08-19T19:02:01.137239Z"
    },
    "papermill": {
     "duration": 0.179109,
     "end_time": "2025-08-19T19:02:01.141737",
     "exception": false,
     "start_time": "2025-08-19T19:02:00.962628",
     "status": "completed"
    },
    "tags": []
   },
   "outputs": [
    {
     "data": {
      "text/html": [
       "<div>\n",
       "<style scoped>\n",
       "    .dataframe tbody tr th:only-of-type {\n",
       "        vertical-align: middle;\n",
       "    }\n",
       "\n",
       "    .dataframe tbody tr th {\n",
       "        vertical-align: top;\n",
       "    }\n",
       "\n",
       "    .dataframe thead th {\n",
       "        text-align: right;\n",
       "    }\n",
       "</style>\n",
       "<table border=\"1\" class=\"dataframe\">\n",
       "  <thead>\n",
       "    <tr style=\"text-align: right;\">\n",
       "      <th></th>\n",
       "      <th>persnr</th>\n",
       "      <th>year</th>\n",
       "      <th>nrEntry</th>\n",
       "      <th>ltue</th>\n",
       "      <th>employed_before</th>\n",
       "      <th>receipt_leh_before</th>\n",
       "      <th>receipt_lhg_before</th>\n",
       "      <th>se_before</th>\n",
       "      <th>ASU_notue_seeking_before</th>\n",
       "      <th>ASU_other_before</th>\n",
       "      <th>...</th>\n",
       "      <th>minijob_tot_dur_byage</th>\n",
       "      <th>ft_tot_dur_byage</th>\n",
       "      <th>befrist_tot_dur_byage</th>\n",
       "      <th>leih_tot_dur_byage</th>\n",
       "      <th>LHG_tot_dur_byage</th>\n",
       "      <th>LEH_tot_dur_byage</th>\n",
       "      <th>almp_tot_dur_byage</th>\n",
       "      <th>almp_aw_tot_dur_byage</th>\n",
       "      <th>se_tot_dur_byage</th>\n",
       "      <th>seeking1_tot_dur_byage</th>\n",
       "    </tr>\n",
       "  </thead>\n",
       "  <tbody>\n",
       "    <tr>\n",
       "      <th>0</th>\n",
       "      <td>7</td>\n",
       "      <td>2015</td>\n",
       "      <td>1</td>\n",
       "      <td>0</td>\n",
       "      <td>1</td>\n",
       "      <td>0</td>\n",
       "      <td>0</td>\n",
       "      <td>0</td>\n",
       "      <td>1</td>\n",
       "      <td>0</td>\n",
       "      <td>...</td>\n",
       "      <td>0.000000</td>\n",
       "      <td>0.000000</td>\n",
       "      <td>15.043478</td>\n",
       "      <td>0.000000</td>\n",
       "      <td>0.000000</td>\n",
       "      <td>0.000000</td>\n",
       "      <td>0.000000</td>\n",
       "      <td>0.000000</td>\n",
       "      <td>0.000000</td>\n",
       "      <td>0.000000</td>\n",
       "    </tr>\n",
       "    <tr>\n",
       "      <th>1</th>\n",
       "      <td>18</td>\n",
       "      <td>2010</td>\n",
       "      <td>1</td>\n",
       "      <td>1</td>\n",
       "      <td>0</td>\n",
       "      <td>0</td>\n",
       "      <td>0</td>\n",
       "      <td>0</td>\n",
       "      <td>0</td>\n",
       "      <td>0</td>\n",
       "      <td>...</td>\n",
       "      <td>0.000000</td>\n",
       "      <td>0.000000</td>\n",
       "      <td>0.000000</td>\n",
       "      <td>0.000000</td>\n",
       "      <td>0.000000</td>\n",
       "      <td>0.000000</td>\n",
       "      <td>0.000000</td>\n",
       "      <td>0.000000</td>\n",
       "      <td>0.000000</td>\n",
       "      <td>0.000000</td>\n",
       "    </tr>\n",
       "    <tr>\n",
       "      <th>2</th>\n",
       "      <td>18</td>\n",
       "      <td>2011</td>\n",
       "      <td>2</td>\n",
       "      <td>0</td>\n",
       "      <td>1</td>\n",
       "      <td>0</td>\n",
       "      <td>1</td>\n",
       "      <td>0</td>\n",
       "      <td>1</td>\n",
       "      <td>0</td>\n",
       "      <td>...</td>\n",
       "      <td>2.714286</td>\n",
       "      <td>2.714286</td>\n",
       "      <td>0.000000</td>\n",
       "      <td>0.000000</td>\n",
       "      <td>10.775510</td>\n",
       "      <td>0.000000</td>\n",
       "      <td>8.367347</td>\n",
       "      <td>0.000000</td>\n",
       "      <td>0.000000</td>\n",
       "      <td>9.836735</td>\n",
       "    </tr>\n",
       "    <tr>\n",
       "      <th>3</th>\n",
       "      <td>18</td>\n",
       "      <td>2012</td>\n",
       "      <td>3</td>\n",
       "      <td>0</td>\n",
       "      <td>1</td>\n",
       "      <td>0</td>\n",
       "      <td>1</td>\n",
       "      <td>0</td>\n",
       "      <td>1</td>\n",
       "      <td>0</td>\n",
       "      <td>...</td>\n",
       "      <td>4.200000</td>\n",
       "      <td>4.200000</td>\n",
       "      <td>0.000000</td>\n",
       "      <td>0.000000</td>\n",
       "      <td>12.100000</td>\n",
       "      <td>0.000000</td>\n",
       "      <td>9.400000</td>\n",
       "      <td>0.000000</td>\n",
       "      <td>0.000000</td>\n",
       "      <td>9.960000</td>\n",
       "    </tr>\n",
       "    <tr>\n",
       "      <th>4</th>\n",
       "      <td>18</td>\n",
       "      <td>2012</td>\n",
       "      <td>4</td>\n",
       "      <td>0</td>\n",
       "      <td>1</td>\n",
       "      <td>0</td>\n",
       "      <td>1</td>\n",
       "      <td>0</td>\n",
       "      <td>1</td>\n",
       "      <td>0</td>\n",
       "      <td>...</td>\n",
       "      <td>5.460000</td>\n",
       "      <td>5.460000</td>\n",
       "      <td>0.000000</td>\n",
       "      <td>0.000000</td>\n",
       "      <td>13.360000</td>\n",
       "      <td>0.000000</td>\n",
       "      <td>10.320000</td>\n",
       "      <td>0.000000</td>\n",
       "      <td>0.000000</td>\n",
       "      <td>10.280000</td>\n",
       "    </tr>\n",
       "    <tr>\n",
       "      <th>...</th>\n",
       "      <td>...</td>\n",
       "      <td>...</td>\n",
       "      <td>...</td>\n",
       "      <td>...</td>\n",
       "      <td>...</td>\n",
       "      <td>...</td>\n",
       "      <td>...</td>\n",
       "      <td>...</td>\n",
       "      <td>...</td>\n",
       "      <td>...</td>\n",
       "      <td>...</td>\n",
       "      <td>...</td>\n",
       "      <td>...</td>\n",
       "      <td>...</td>\n",
       "      <td>...</td>\n",
       "      <td>...</td>\n",
       "      <td>...</td>\n",
       "      <td>...</td>\n",
       "      <td>...</td>\n",
       "      <td>...</td>\n",
       "      <td>...</td>\n",
       "    </tr>\n",
       "    <tr>\n",
       "      <th>643685</th>\n",
       "      <td>1827860</td>\n",
       "      <td>2013</td>\n",
       "      <td>1</td>\n",
       "      <td>0</td>\n",
       "      <td>0</td>\n",
       "      <td>0</td>\n",
       "      <td>1</td>\n",
       "      <td>0</td>\n",
       "      <td>0</td>\n",
       "      <td>1</td>\n",
       "      <td>...</td>\n",
       "      <td>0.000000</td>\n",
       "      <td>0.000000</td>\n",
       "      <td>0.000000</td>\n",
       "      <td>0.000000</td>\n",
       "      <td>0.612903</td>\n",
       "      <td>0.000000</td>\n",
       "      <td>0.000000</td>\n",
       "      <td>0.000000</td>\n",
       "      <td>0.000000</td>\n",
       "      <td>0.000000</td>\n",
       "    </tr>\n",
       "    <tr>\n",
       "      <th>643686</th>\n",
       "      <td>1827860</td>\n",
       "      <td>2015</td>\n",
       "      <td>2</td>\n",
       "      <td>1</td>\n",
       "      <td>0</td>\n",
       "      <td>0</td>\n",
       "      <td>1</td>\n",
       "      <td>0</td>\n",
       "      <td>1</td>\n",
       "      <td>0</td>\n",
       "      <td>...</td>\n",
       "      <td>0.000000</td>\n",
       "      <td>0.000000</td>\n",
       "      <td>0.212121</td>\n",
       "      <td>0.212121</td>\n",
       "      <td>17.363636</td>\n",
       "      <td>0.000000</td>\n",
       "      <td>8.909091</td>\n",
       "      <td>0.000000</td>\n",
       "      <td>0.000000</td>\n",
       "      <td>7.121212</td>\n",
       "    </tr>\n",
       "    <tr>\n",
       "      <th>643687</th>\n",
       "      <td>1827860</td>\n",
       "      <td>2016</td>\n",
       "      <td>3</td>\n",
       "      <td>1</td>\n",
       "      <td>0</td>\n",
       "      <td>0</td>\n",
       "      <td>1</td>\n",
       "      <td>1</td>\n",
       "      <td>0</td>\n",
       "      <td>1</td>\n",
       "      <td>...</td>\n",
       "      <td>0.000000</td>\n",
       "      <td>0.000000</td>\n",
       "      <td>0.294118</td>\n",
       "      <td>0.205882</td>\n",
       "      <td>34.705882</td>\n",
       "      <td>0.000000</td>\n",
       "      <td>10.352941</td>\n",
       "      <td>1.705882</td>\n",
       "      <td>1.705882</td>\n",
       "      <td>23.911765</td>\n",
       "    </tr>\n",
       "    <tr>\n",
       "      <th>643688</th>\n",
       "      <td>1827869</td>\n",
       "      <td>2013</td>\n",
       "      <td>1</td>\n",
       "      <td>1</td>\n",
       "      <td>1</td>\n",
       "      <td>0</td>\n",
       "      <td>0</td>\n",
       "      <td>0</td>\n",
       "      <td>1</td>\n",
       "      <td>0</td>\n",
       "      <td>...</td>\n",
       "      <td>0.000000</td>\n",
       "      <td>0.000000</td>\n",
       "      <td>0.000000</td>\n",
       "      <td>0.000000</td>\n",
       "      <td>0.000000</td>\n",
       "      <td>0.525424</td>\n",
       "      <td>0.000000</td>\n",
       "      <td>0.000000</td>\n",
       "      <td>0.000000</td>\n",
       "      <td>0.000000</td>\n",
       "    </tr>\n",
       "    <tr>\n",
       "      <th>643689</th>\n",
       "      <td>1827869</td>\n",
       "      <td>2014</td>\n",
       "      <td>2</td>\n",
       "      <td>0</td>\n",
       "      <td>0</td>\n",
       "      <td>1</td>\n",
       "      <td>0</td>\n",
       "      <td>0</td>\n",
       "      <td>1</td>\n",
       "      <td>0</td>\n",
       "      <td>...</td>\n",
       "      <td>0.000000</td>\n",
       "      <td>0.666667</td>\n",
       "      <td>0.666667</td>\n",
       "      <td>0.000000</td>\n",
       "      <td>0.000000</td>\n",
       "      <td>8.950000</td>\n",
       "      <td>1.033333</td>\n",
       "      <td>0.083333</td>\n",
       "      <td>0.083333</td>\n",
       "      <td>8.133333</td>\n",
       "    </tr>\n",
       "  </tbody>\n",
       "</table>\n",
       "<p>643690 rows × 164 columns</p>\n",
       "</div>"
      ],
      "text/plain": [
       "         persnr  year  nrEntry  ltue  employed_before  receipt_leh_before  \\\n",
       "0             7  2015        1     0                1                   0   \n",
       "1            18  2010        1     1                0                   0   \n",
       "2            18  2011        2     0                1                   0   \n",
       "3            18  2012        3     0                1                   0   \n",
       "4            18  2012        4     0                1                   0   \n",
       "...         ...   ...      ...   ...              ...                 ...   \n",
       "643685  1827860  2013        1     0                0                   0   \n",
       "643686  1827860  2015        2     1                0                   0   \n",
       "643687  1827860  2016        3     1                0                   0   \n",
       "643688  1827869  2013        1     1                1                   0   \n",
       "643689  1827869  2014        2     0                0                   1   \n",
       "\n",
       "        receipt_lhg_before  se_before  ASU_notue_seeking_before  \\\n",
       "0                        0          0                         1   \n",
       "1                        0          0                         0   \n",
       "2                        1          0                         1   \n",
       "3                        1          0                         1   \n",
       "4                        1          0                         1   \n",
       "...                    ...        ...                       ...   \n",
       "643685                   1          0                         0   \n",
       "643686                   1          0                         1   \n",
       "643687                   1          1                         0   \n",
       "643688                   0          0                         1   \n",
       "643689                   0          0                         1   \n",
       "\n",
       "        ASU_other_before  ...  minijob_tot_dur_byage  ft_tot_dur_byage  \\\n",
       "0                      0  ...               0.000000          0.000000   \n",
       "1                      0  ...               0.000000          0.000000   \n",
       "2                      0  ...               2.714286          2.714286   \n",
       "3                      0  ...               4.200000          4.200000   \n",
       "4                      0  ...               5.460000          5.460000   \n",
       "...                  ...  ...                    ...               ...   \n",
       "643685                 1  ...               0.000000          0.000000   \n",
       "643686                 0  ...               0.000000          0.000000   \n",
       "643687                 1  ...               0.000000          0.000000   \n",
       "643688                 0  ...               0.000000          0.000000   \n",
       "643689                 0  ...               0.000000          0.666667   \n",
       "\n",
       "        befrist_tot_dur_byage  leih_tot_dur_byage  LHG_tot_dur_byage  \\\n",
       "0                   15.043478            0.000000           0.000000   \n",
       "1                    0.000000            0.000000           0.000000   \n",
       "2                    0.000000            0.000000          10.775510   \n",
       "3                    0.000000            0.000000          12.100000   \n",
       "4                    0.000000            0.000000          13.360000   \n",
       "...                       ...                 ...                ...   \n",
       "643685               0.000000            0.000000           0.612903   \n",
       "643686               0.212121            0.212121          17.363636   \n",
       "643687               0.294118            0.205882          34.705882   \n",
       "643688               0.000000            0.000000           0.000000   \n",
       "643689               0.666667            0.000000           0.000000   \n",
       "\n",
       "        LEH_tot_dur_byage  almp_tot_dur_byage  almp_aw_tot_dur_byage  \\\n",
       "0                0.000000            0.000000               0.000000   \n",
       "1                0.000000            0.000000               0.000000   \n",
       "2                0.000000            8.367347               0.000000   \n",
       "3                0.000000            9.400000               0.000000   \n",
       "4                0.000000           10.320000               0.000000   \n",
       "...                   ...                 ...                    ...   \n",
       "643685           0.000000            0.000000               0.000000   \n",
       "643686           0.000000            8.909091               0.000000   \n",
       "643687           0.000000           10.352941               1.705882   \n",
       "643688           0.525424            0.000000               0.000000   \n",
       "643689           8.950000            1.033333               0.083333   \n",
       "\n",
       "        se_tot_dur_byage  seeking1_tot_dur_byage  \n",
       "0               0.000000                0.000000  \n",
       "1               0.000000                0.000000  \n",
       "2               0.000000                9.836735  \n",
       "3               0.000000                9.960000  \n",
       "4               0.000000               10.280000  \n",
       "...                  ...                     ...  \n",
       "643685          0.000000                0.000000  \n",
       "643686          0.000000                7.121212  \n",
       "643687          1.705882               23.911765  \n",
       "643688          0.000000                0.000000  \n",
       "643689          0.083333                8.133333  \n",
       "\n",
       "[643690 rows x 164 columns]"
      ]
     },
     "execution_count": 10,
     "metadata": {},
     "output_type": "execute_result"
    }
   ],
   "source": [
    "siab"
   ]
  },
  {
   "cell_type": "markdown",
   "id": "1f87e805",
   "metadata": {
    "papermill": {
     "duration": 0.011879,
     "end_time": "2025-08-19T19:02:01.176767",
     "exception": false,
     "start_time": "2025-08-19T19:02:01.164888",
     "status": "completed"
    },
    "tags": []
   },
   "source": [
    "# Splitting Data and Setting Training Data Size"
   ]
  },
  {
   "cell_type": "code",
   "execution_count": 11,
   "id": "910ae358",
   "metadata": {
    "execution": {
     "iopub.execute_input": "2025-08-19T19:02:01.198899Z",
     "iopub.status.busy": "2025-08-19T19:02:01.198171Z",
     "iopub.status.idle": "2025-08-19T19:02:01.869830Z",
     "shell.execute_reply": "2025-08-19T19:02:01.868922Z"
    },
    "papermill": {
     "duration": 0.684924,
     "end_time": "2025-08-19T19:02:01.871342",
     "exception": false,
     "start_time": "2025-08-19T19:02:01.186418",
     "status": "completed"
    },
    "tags": []
   },
   "outputs": [],
   "source": [
    "from fairness_multiverse.universe import sample_by_year_size\n",
    "\n",
    "siab_train = sample_by_year_size(siab,\n",
    "                               training_year=universe[\"training_year\"],\n",
    "                               training_size=universe[\"training_size\"])"
   ]
  },
  {
   "cell_type": "code",
   "execution_count": 12,
   "id": "919c8ff5",
   "metadata": {
    "execution": {
     "iopub.execute_input": "2025-08-19T19:02:01.895411Z",
     "iopub.status.busy": "2025-08-19T19:02:01.894939Z",
     "iopub.status.idle": "2025-08-19T19:02:01.902828Z",
     "shell.execute_reply": "2025-08-19T19:02:01.901974Z"
    },
    "papermill": {
     "duration": 0.021182,
     "end_time": "2025-08-19T19:02:01.904137",
     "exception": false,
     "start_time": "2025-08-19T19:02:01.882955",
     "status": "completed"
    },
    "tags": []
   },
   "outputs": [
    {
     "data": {
      "text/plain": [
       "(1000, 164)"
      ]
     },
     "execution_count": 12,
     "metadata": {},
     "output_type": "execute_result"
    }
   ],
   "source": [
    "siab_train.shape"
   ]
  },
  {
   "cell_type": "code",
   "execution_count": 13,
   "id": "feb13bf4",
   "metadata": {
    "execution": {
     "iopub.execute_input": "2025-08-19T19:02:01.942890Z",
     "iopub.status.busy": "2025-08-19T19:02:01.942507Z",
     "iopub.status.idle": "2025-08-19T19:02:01.954436Z",
     "shell.execute_reply": "2025-08-19T19:02:01.953783Z"
    },
    "papermill": {
     "duration": 0.038849,
     "end_time": "2025-08-19T19:02:01.956040",
     "exception": false,
     "start_time": "2025-08-19T19:02:01.917191",
     "status": "completed"
    },
    "tags": []
   },
   "outputs": [
    {
     "data": {
      "text/plain": [
       "year\n",
       "2012    334\n",
       "2013    333\n",
       "2014    333\n",
       "dtype: int64"
      ]
     },
     "metadata": {},
     "output_type": "display_data"
    }
   ],
   "source": [
    "display(siab_train.groupby(\"year\").size())"
   ]
  },
  {
   "cell_type": "code",
   "execution_count": 14,
   "id": "0997782f",
   "metadata": {
    "execution": {
     "iopub.execute_input": "2025-08-19T19:02:01.978015Z",
     "iopub.status.busy": "2025-08-19T19:02:01.977583Z",
     "iopub.status.idle": "2025-08-19T19:02:02.286737Z",
     "shell.execute_reply": "2025-08-19T19:02:02.285888Z"
    },
    "papermill": {
     "duration": 0.321787,
     "end_time": "2025-08-19T19:02:02.288248",
     "exception": false,
     "start_time": "2025-08-19T19:02:01.966461",
     "status": "completed"
    },
    "tags": []
   },
   "outputs": [],
   "source": [
    "#siab_train = siab_s[siab_s.year < 2015]\n",
    "siab_calib = siab[siab.year == 2015]\n",
    "siab_test = siab[siab.year == 2016]"
   ]
  },
  {
   "cell_type": "code",
   "execution_count": 15,
   "id": "2c1e4012",
   "metadata": {
    "execution": {
     "iopub.execute_input": "2025-08-19T19:02:02.310877Z",
     "iopub.status.busy": "2025-08-19T19:02:02.310422Z",
     "iopub.status.idle": "2025-08-19T19:02:02.316285Z",
     "shell.execute_reply": "2025-08-19T19:02:02.315242Z"
    },
    "papermill": {
     "duration": 0.019736,
     "end_time": "2025-08-19T19:02:02.318697",
     "exception": false,
     "start_time": "2025-08-19T19:02:02.298961",
     "status": "completed"
    },
    "tags": []
   },
   "outputs": [],
   "source": [
    "#siab_calib.shape"
   ]
  },
  {
   "cell_type": "code",
   "execution_count": 16,
   "id": "f66b54ca",
   "metadata": {
    "execution": {
     "iopub.execute_input": "2025-08-19T19:02:02.343906Z",
     "iopub.status.busy": "2025-08-19T19:02:02.343207Z",
     "iopub.status.idle": "2025-08-19T19:02:02.357364Z",
     "shell.execute_reply": "2025-08-19T19:02:02.356354Z"
    },
    "papermill": {
     "duration": 0.027683,
     "end_time": "2025-08-19T19:02:02.358882",
     "exception": false,
     "start_time": "2025-08-19T19:02:02.331199",
     "status": "completed"
    },
    "tags": []
   },
   "outputs": [],
   "source": [
    "#siab_test.shape"
   ]
  },
  {
   "cell_type": "code",
   "execution_count": 17,
   "id": "27e4384d",
   "metadata": {
    "execution": {
     "iopub.execute_input": "2025-08-19T19:02:02.385325Z",
     "iopub.status.busy": "2025-08-19T19:02:02.384736Z",
     "iopub.status.idle": "2025-08-19T19:02:02.398467Z",
     "shell.execute_reply": "2025-08-19T19:02:02.397322Z"
    },
    "papermill": {
     "duration": 0.027907,
     "end_time": "2025-08-19T19:02:02.400120",
     "exception": false,
     "start_time": "2025-08-19T19:02:02.372213",
     "status": "completed"
    },
    "tags": []
   },
   "outputs": [],
   "source": [
    "X_train = siab_train.iloc[:,4:164]\n",
    "y_train = siab_train.iloc[:, [3]]"
   ]
  },
  {
   "cell_type": "code",
   "execution_count": 18,
   "id": "08ee8389",
   "metadata": {
    "execution": {
     "iopub.execute_input": "2025-08-19T19:02:02.430698Z",
     "iopub.status.busy": "2025-08-19T19:02:02.430017Z",
     "iopub.status.idle": "2025-08-19T19:02:02.501010Z",
     "shell.execute_reply": "2025-08-19T19:02:02.500130Z"
    },
    "papermill": {
     "duration": 0.093374,
     "end_time": "2025-08-19T19:02:02.508837",
     "exception": false,
     "start_time": "2025-08-19T19:02:02.415463",
     "status": "completed"
    },
    "tags": []
   },
   "outputs": [],
   "source": [
    "X_calib = siab_calib.iloc[:,4:164]\n",
    "y_calib = siab_calib.iloc[:, [3]]"
   ]
  },
  {
   "cell_type": "code",
   "execution_count": 19,
   "id": "b7ff42e0",
   "metadata": {
    "execution": {
     "iopub.execute_input": "2025-08-19T19:02:02.563923Z",
     "iopub.status.busy": "2025-08-19T19:02:02.563550Z",
     "iopub.status.idle": "2025-08-19T19:02:02.620981Z",
     "shell.execute_reply": "2025-08-19T19:02:02.620068Z"
    },
    "papermill": {
     "duration": 0.081433,
     "end_time": "2025-08-19T19:02:02.623473",
     "exception": false,
     "start_time": "2025-08-19T19:02:02.542040",
     "status": "completed"
    },
    "tags": []
   },
   "outputs": [],
   "source": [
    "X_test = siab_test.iloc[:,4:164]\n",
    "y_true = siab_test.iloc[:, [3]]"
   ]
  },
  {
   "cell_type": "code",
   "execution_count": 20,
   "id": "0275101e",
   "metadata": {
    "execution": {
     "iopub.execute_input": "2025-08-19T19:02:02.666590Z",
     "iopub.status.busy": "2025-08-19T19:02:02.663800Z",
     "iopub.status.idle": "2025-08-19T19:02:02.790379Z",
     "shell.execute_reply": "2025-08-19T19:02:02.789426Z"
    },
    "papermill": {
     "duration": 0.148412,
     "end_time": "2025-08-19T19:02:02.797496",
     "exception": false,
     "start_time": "2025-08-19T19:02:02.649084",
     "status": "completed"
    },
    "tags": []
   },
   "outputs": [],
   "source": [
    "# Auxiliary data needed downstream in the pipeline\n",
    "\n",
    "org_train = X_train.copy()\n",
    "org_test = X_test.copy()\n",
    "org_calib = X_calib.copy()"
   ]
  },
  {
   "cell_type": "markdown",
   "id": "b461e618",
   "metadata": {
    "papermill": {
     "duration": 0.012952,
     "end_time": "2025-08-19T19:02:02.832167",
     "exception": false,
     "start_time": "2025-08-19T19:02:02.819215",
     "status": "completed"
    },
    "tags": []
   },
   "source": [
    "# Preprocessing Data"
   ]
  },
  {
   "cell_type": "code",
   "execution_count": 21,
   "id": "78e74c4b",
   "metadata": {
    "execution": {
     "iopub.execute_input": "2025-08-19T19:02:02.856092Z",
     "iopub.status.busy": "2025-08-19T19:02:02.854111Z",
     "iopub.status.idle": "2025-08-19T19:02:02.875066Z",
     "shell.execute_reply": "2025-08-19T19:02:02.863529Z"
    },
    "papermill": {
     "duration": 0.034743,
     "end_time": "2025-08-19T19:02:02.876971",
     "exception": false,
     "start_time": "2025-08-19T19:02:02.842228",
     "status": "completed"
    },
    "tags": []
   },
   "outputs": [],
   "source": [
    "# EXCLUDE PROTECTED FEATURES\n",
    "# --------------------------\n",
    "\n",
    "excluded_features = universe[\"exclude_features\"].split(\"-\")\n",
    "excluded_features_dictionary = {\n",
    "    \"nationality\": [\"maxdeutsch1\", \"maxdeutsch.Missing.\"],\n",
    "    \"sex\": [\"frau1\"],\n",
    "    \"age\": [\"age\"],\n",
    "}"
   ]
  },
  {
   "cell_type": "code",
   "execution_count": 22,
   "id": "f8e63555",
   "metadata": {
    "execution": {
     "iopub.execute_input": "2025-08-19T19:02:02.909979Z",
     "iopub.status.busy": "2025-08-19T19:02:02.909564Z",
     "iopub.status.idle": "2025-08-19T19:02:02.914206Z",
     "shell.execute_reply": "2025-08-19T19:02:02.913423Z"
    },
    "papermill": {
     "duration": 0.018869,
     "end_time": "2025-08-19T19:02:02.915328",
     "exception": false,
     "start_time": "2025-08-19T19:02:02.896459",
     "status": "completed"
    },
    "tags": []
   },
   "outputs": [],
   "source": [
    "excluded_features_columns = [\n",
    "    excluded_features_dictionary[f] for f in excluded_features if len(f) > 0 and f != \"none\"\n",
    "]"
   ]
  },
  {
   "cell_type": "code",
   "execution_count": 23,
   "id": "da781f7c",
   "metadata": {
    "execution": {
     "iopub.execute_input": "2025-08-19T19:02:02.938145Z",
     "iopub.status.busy": "2025-08-19T19:02:02.937387Z",
     "iopub.status.idle": "2025-08-19T19:02:02.943436Z",
     "shell.execute_reply": "2025-08-19T19:02:02.942036Z"
    },
    "papermill": {
     "duration": 0.018832,
     "end_time": "2025-08-19T19:02:02.944809",
     "exception": false,
     "start_time": "2025-08-19T19:02:02.925977",
     "status": "completed"
    },
    "tags": []
   },
   "outputs": [],
   "source": [
    "from fairness_multiverse.universe import flatten_once\n",
    "\n",
    "excluded_features_columns = flatten_once(excluded_features_columns)"
   ]
  },
  {
   "cell_type": "code",
   "execution_count": 24,
   "id": "37fef0f0",
   "metadata": {
    "execution": {
     "iopub.execute_input": "2025-08-19T19:02:02.969430Z",
     "iopub.status.busy": "2025-08-19T19:02:02.968104Z",
     "iopub.status.idle": "2025-08-19T19:02:02.983857Z",
     "shell.execute_reply": "2025-08-19T19:02:02.982678Z"
    },
    "papermill": {
     "duration": 0.030101,
     "end_time": "2025-08-19T19:02:02.985629",
     "exception": false,
     "start_time": "2025-08-19T19:02:02.955528",
     "status": "completed"
    },
    "tags": []
   },
   "outputs": [
    {
     "name": "stdout",
     "output_type": "stream",
     "text": [
      "Dropping features: ['maxdeutsch1', 'maxdeutsch.Missing.', 'frau1']\n"
     ]
    }
   ],
   "source": [
    "if len(excluded_features_columns) > 0:\n",
    "    print(f\"Dropping features: {excluded_features_columns}\")\n",
    "    X_train.drop(excluded_features_columns, axis=1, inplace=True)"
   ]
  },
  {
   "cell_type": "code",
   "execution_count": 25,
   "id": "d029e3e9",
   "metadata": {
    "execution": {
     "iopub.execute_input": "2025-08-19T19:02:03.013956Z",
     "iopub.status.busy": "2025-08-19T19:02:03.012605Z",
     "iopub.status.idle": "2025-08-19T19:02:03.077118Z",
     "shell.execute_reply": "2025-08-19T19:02:03.076211Z"
    },
    "papermill": {
     "duration": 0.079877,
     "end_time": "2025-08-19T19:02:03.079799",
     "exception": false,
     "start_time": "2025-08-19T19:02:02.999922",
     "status": "completed"
    },
    "tags": []
   },
   "outputs": [
    {
     "name": "stdout",
     "output_type": "stream",
     "text": [
      "Dropping features: ['maxdeutsch1', 'maxdeutsch.Missing.', 'frau1']\n"
     ]
    }
   ],
   "source": [
    "if len(excluded_features_columns) > 0:\n",
    "    print(f\"Dropping features: {excluded_features_columns}\")\n",
    "    X_test.drop(excluded_features_columns, axis=1, inplace=True)"
   ]
  },
  {
   "cell_type": "code",
   "execution_count": 26,
   "id": "01d571f0",
   "metadata": {
    "execution": {
     "iopub.execute_input": "2025-08-19T19:02:03.119917Z",
     "iopub.status.busy": "2025-08-19T19:02:03.118641Z",
     "iopub.status.idle": "2025-08-19T19:02:03.178207Z",
     "shell.execute_reply": "2025-08-19T19:02:03.177438Z"
    },
    "papermill": {
     "duration": 0.076462,
     "end_time": "2025-08-19T19:02:03.180812",
     "exception": false,
     "start_time": "2025-08-19T19:02:03.104350",
     "status": "completed"
    },
    "tags": []
   },
   "outputs": [
    {
     "name": "stdout",
     "output_type": "stream",
     "text": [
      "Dropping features: ['maxdeutsch1', 'maxdeutsch.Missing.', 'frau1']\n"
     ]
    }
   ],
   "source": [
    "if len(excluded_features_columns) > 0:\n",
    "    print(f\"Dropping features: {excluded_features_columns}\")\n",
    "    X_calib.drop(excluded_features_columns, axis=1, inplace=True)"
   ]
  },
  {
   "cell_type": "code",
   "execution_count": 27,
   "id": "3037356e",
   "metadata": {
    "execution": {
     "iopub.execute_input": "2025-08-19T19:02:03.242315Z",
     "iopub.status.busy": "2025-08-19T19:02:03.240665Z",
     "iopub.status.idle": "2025-08-19T19:02:03.255448Z",
     "shell.execute_reply": "2025-08-19T19:02:03.253730Z"
    },
    "papermill": {
     "duration": 0.031608,
     "end_time": "2025-08-19T19:02:03.258619",
     "exception": false,
     "start_time": "2025-08-19T19:02:03.227011",
     "status": "completed"
    },
    "tags": []
   },
   "outputs": [],
   "source": [
    "# EXCLUDE CERTAIN SUBGROUPS\n",
    "# -------------------------\n",
    "\n",
    "mode = universe.get(\"exclude_subgroups\", \"keep-all\") # Defaults to \"keep-all\" if the key is missing."
   ]
  },
  {
   "cell_type": "code",
   "execution_count": 28,
   "id": "9d1e63fd",
   "metadata": {
    "execution": {
     "iopub.execute_input": "2025-08-19T19:02:03.295129Z",
     "iopub.status.busy": "2025-08-19T19:02:03.294775Z",
     "iopub.status.idle": "2025-08-19T19:02:03.302226Z",
     "shell.execute_reply": "2025-08-19T19:02:03.301559Z"
    },
    "papermill": {
     "duration": 0.021716,
     "end_time": "2025-08-19T19:02:03.303380",
     "exception": false,
     "start_time": "2025-08-19T19:02:03.281664",
     "status": "completed"
    },
    "tags": []
   },
   "outputs": [],
   "source": [
    "if mode == \"keep-all\":\n",
    "    keep_mask = pd.Series(True, index=org_train.index)\n",
    "\n",
    "elif mode == \"drop-non-german\":\n",
    "    keep_mask = (org_train[\"maxdeutsch1\"] == 1) & (org_train[\"maxdeutsch.Missing.\"] == 0)\n",
    "\n",
    "else:\n",
    "    raise ValueError(f\"Unsupported mode for exclude_subgroups: {mode}\")"
   ]
  },
  {
   "cell_type": "code",
   "execution_count": 29,
   "id": "d3b65474",
   "metadata": {
    "execution": {
     "iopub.execute_input": "2025-08-19T19:02:03.327873Z",
     "iopub.status.busy": "2025-08-19T19:02:03.327473Z",
     "iopub.status.idle": "2025-08-19T19:02:03.332948Z",
     "shell.execute_reply": "2025-08-19T19:02:03.332278Z"
    },
    "papermill": {
     "duration": 0.018199,
     "end_time": "2025-08-19T19:02:03.334097",
     "exception": false,
     "start_time": "2025-08-19T19:02:03.315898",
     "status": "completed"
    },
    "tags": []
   },
   "outputs": [
    {
     "name": "stdout",
     "output_type": "stream",
     "text": [
      "Dropping 147 rows (14.70%) where mode='drop-non-german'\n"
     ]
    }
   ],
   "source": [
    "n_drop = (~keep_mask).sum() # Calculates how many rows are set to be dropped\n",
    "if n_drop > 0:\n",
    "    pct = n_drop / len(keep_mask) * 100\n",
    "    print(f\"Dropping {n_drop} rows ({pct:.2f}%) where mode='{mode}'\")"
   ]
  },
  {
   "cell_type": "code",
   "execution_count": 30,
   "id": "f44389b3",
   "metadata": {
    "execution": {
     "iopub.execute_input": "2025-08-19T19:02:03.358798Z",
     "iopub.status.busy": "2025-08-19T19:02:03.357750Z",
     "iopub.status.idle": "2025-08-19T19:02:03.364801Z",
     "shell.execute_reply": "2025-08-19T19:02:03.363810Z"
    },
    "papermill": {
     "duration": 0.020733,
     "end_time": "2025-08-19T19:02:03.366110",
     "exception": false,
     "start_time": "2025-08-19T19:02:03.345377",
     "status": "completed"
    },
    "tags": []
   },
   "outputs": [],
   "source": [
    "X_train = X_train[keep_mask]"
   ]
  },
  {
   "cell_type": "code",
   "execution_count": 31,
   "id": "ceca8c2a",
   "metadata": {
    "execution": {
     "iopub.execute_input": "2025-08-19T19:02:03.393598Z",
     "iopub.status.busy": "2025-08-19T19:02:03.392673Z",
     "iopub.status.idle": "2025-08-19T19:02:03.401756Z",
     "shell.execute_reply": "2025-08-19T19:02:03.400111Z"
    },
    "papermill": {
     "duration": 0.023022,
     "end_time": "2025-08-19T19:02:03.403328",
     "exception": false,
     "start_time": "2025-08-19T19:02:03.380306",
     "status": "completed"
    },
    "tags": []
   },
   "outputs": [],
   "source": [
    "y_train = y_train[keep_mask]"
   ]
  },
  {
   "cell_type": "markdown",
   "id": "04d31e2f",
   "metadata": {
    "papermill": {
     "duration": 0.039708,
     "end_time": "2025-08-19T19:02:03.460767",
     "exception": false,
     "start_time": "2025-08-19T19:02:03.421059",
     "status": "completed"
    },
    "tags": []
   },
   "source": [
    "# Model Training"
   ]
  },
  {
   "cell_type": "code",
   "execution_count": 32,
   "id": "db991733",
   "metadata": {
    "execution": {
     "iopub.execute_input": "2025-08-19T19:02:03.490110Z",
     "iopub.status.busy": "2025-08-19T19:02:03.489691Z",
     "iopub.status.idle": "2025-08-19T19:02:03.588495Z",
     "shell.execute_reply": "2025-08-19T19:02:03.587793Z"
    },
    "papermill": {
     "duration": 0.114743,
     "end_time": "2025-08-19T19:02:03.590088",
     "exception": false,
     "start_time": "2025-08-19T19:02:03.475345",
     "status": "completed"
    },
    "tags": []
   },
   "outputs": [],
   "source": [
    "from sklearn.linear_model import LogisticRegression\n",
    "from sklearn.ensemble import GradientBoostingClassifier, RandomForestClassifier\n",
    "\n",
    "if (universe[\"model\"] == \"logreg\"):\n",
    "    model = LogisticRegression() #penalty=\"none\", solver=\"newton-cg\", max_iter=1)\n",
    "elif (universe[\"model\"] == \"penalized_logreg\"):\n",
    "    model = LogisticRegression(penalty=\"l2\", C=0.1) #, solver=\"newton-cg\", max_iter=1)\n",
    "elif (universe[\"model\"] == \"rf\"):\n",
    "    model = RandomForestClassifier() # n_estimators=100, n_jobs=-1\n",
    "elif (universe[\"model\"] == \"gbm\"):\n",
    "    model = GradientBoostingClassifier()\n",
    "elif (universe[\"model\"] == \"elasticnet\"):\n",
    "    model = LogisticRegression(penalty = 'elasticnet', solver = 'saga', l1_ratio = 0.5) # max_iter=5000\n",
    "else:\n",
    "    raise \"Unsupported universe.model\""
   ]
  },
  {
   "cell_type": "code",
   "execution_count": 33,
   "id": "a4b5cd25",
   "metadata": {
    "execution": {
     "iopub.execute_input": "2025-08-19T19:02:03.614341Z",
     "iopub.status.busy": "2025-08-19T19:02:03.613288Z",
     "iopub.status.idle": "2025-08-19T19:02:03.618329Z",
     "shell.execute_reply": "2025-08-19T19:02:03.617676Z"
    },
    "papermill": {
     "duration": 0.018681,
     "end_time": "2025-08-19T19:02:03.619857",
     "exception": false,
     "start_time": "2025-08-19T19:02:03.601176",
     "status": "completed"
    },
    "tags": []
   },
   "outputs": [],
   "source": [
    "from sklearn.pipeline import Pipeline\n",
    "from sklearn.preprocessing import StandardScaler\n",
    "\n",
    "model = Pipeline([\n",
    "    #(\"continuous_processor\", continuous_processor),\n",
    "    #(\"categorical_preprocessor\", categorical_preprocessor),\n",
    "    (\"scale\", StandardScaler() if universe[\"scale\"] == \"scale\" else None), \n",
    "    (\"model\", model),\n",
    "])"
   ]
  },
  {
   "cell_type": "code",
   "execution_count": 34,
   "id": "283a904d",
   "metadata": {
    "execution": {
     "iopub.execute_input": "2025-08-19T19:02:03.642750Z",
     "iopub.status.busy": "2025-08-19T19:02:03.642346Z",
     "iopub.status.idle": "2025-08-19T19:02:03.699251Z",
     "shell.execute_reply": "2025-08-19T19:02:03.698521Z"
    },
    "papermill": {
     "duration": 0.072364,
     "end_time": "2025-08-19T19:02:03.703005",
     "exception": false,
     "start_time": "2025-08-19T19:02:03.630641",
     "status": "completed"
    },
    "tags": []
   },
   "outputs": [
    {
     "name": "stderr",
     "output_type": "stream",
     "text": [
      "/dss/dsshome1/0C/ra93lal2/.local/share/virtualenvs/CMA_Fairness_v2-3j10GkSs/lib/python3.10/site-packages/sklearn/linear_model/_logistic.py:444: ConvergenceWarning: lbfgs failed to converge (status=1):\n",
      "STOP: TOTAL NO. of ITERATIONS REACHED LIMIT.\n",
      "\n",
      "Increase the number of iterations (max_iter) or scale the data as shown in:\n",
      "    https://scikit-learn.org/stable/modules/preprocessing.html\n",
      "Please also refer to the documentation for alternative solver options:\n",
      "    https://scikit-learn.org/stable/modules/linear_model.html#logistic-regression\n",
      "  n_iter_i = _check_optimize_result(\n"
     ]
    },
    {
     "data": {
      "text/html": [
       "<style>#sk-container-id-1 {color: black;background-color: white;}#sk-container-id-1 pre{padding: 0;}#sk-container-id-1 div.sk-toggleable {background-color: white;}#sk-container-id-1 label.sk-toggleable__label {cursor: pointer;display: block;width: 100%;margin-bottom: 0;padding: 0.3em;box-sizing: border-box;text-align: center;}#sk-container-id-1 label.sk-toggleable__label-arrow:before {content: \"▸\";float: left;margin-right: 0.25em;color: #696969;}#sk-container-id-1 label.sk-toggleable__label-arrow:hover:before {color: black;}#sk-container-id-1 div.sk-estimator:hover label.sk-toggleable__label-arrow:before {color: black;}#sk-container-id-1 div.sk-toggleable__content {max-height: 0;max-width: 0;overflow: hidden;text-align: left;background-color: #f0f8ff;}#sk-container-id-1 div.sk-toggleable__content pre {margin: 0.2em;color: black;border-radius: 0.25em;background-color: #f0f8ff;}#sk-container-id-1 input.sk-toggleable__control:checked~div.sk-toggleable__content {max-height: 200px;max-width: 100%;overflow: auto;}#sk-container-id-1 input.sk-toggleable__control:checked~label.sk-toggleable__label-arrow:before {content: \"▾\";}#sk-container-id-1 div.sk-estimator input.sk-toggleable__control:checked~label.sk-toggleable__label {background-color: #d4ebff;}#sk-container-id-1 div.sk-label input.sk-toggleable__control:checked~label.sk-toggleable__label {background-color: #d4ebff;}#sk-container-id-1 input.sk-hidden--visually {border: 0;clip: rect(1px 1px 1px 1px);clip: rect(1px, 1px, 1px, 1px);height: 1px;margin: -1px;overflow: hidden;padding: 0;position: absolute;width: 1px;}#sk-container-id-1 div.sk-estimator {font-family: monospace;background-color: #f0f8ff;border: 1px dotted black;border-radius: 0.25em;box-sizing: border-box;margin-bottom: 0.5em;}#sk-container-id-1 div.sk-estimator:hover {background-color: #d4ebff;}#sk-container-id-1 div.sk-parallel-item::after {content: \"\";width: 100%;border-bottom: 1px solid gray;flex-grow: 1;}#sk-container-id-1 div.sk-label:hover label.sk-toggleable__label {background-color: #d4ebff;}#sk-container-id-1 div.sk-serial::before {content: \"\";position: absolute;border-left: 1px solid gray;box-sizing: border-box;top: 0;bottom: 0;left: 50%;z-index: 0;}#sk-container-id-1 div.sk-serial {display: flex;flex-direction: column;align-items: center;background-color: white;padding-right: 0.2em;padding-left: 0.2em;position: relative;}#sk-container-id-1 div.sk-item {position: relative;z-index: 1;}#sk-container-id-1 div.sk-parallel {display: flex;align-items: stretch;justify-content: center;background-color: white;position: relative;}#sk-container-id-1 div.sk-item::before, #sk-container-id-1 div.sk-parallel-item::before {content: \"\";position: absolute;border-left: 1px solid gray;box-sizing: border-box;top: 0;bottom: 0;left: 50%;z-index: -1;}#sk-container-id-1 div.sk-parallel-item {display: flex;flex-direction: column;z-index: 1;position: relative;background-color: white;}#sk-container-id-1 div.sk-parallel-item:first-child::after {align-self: flex-end;width: 50%;}#sk-container-id-1 div.sk-parallel-item:last-child::after {align-self: flex-start;width: 50%;}#sk-container-id-1 div.sk-parallel-item:only-child::after {width: 0;}#sk-container-id-1 div.sk-dashed-wrapped {border: 1px dashed gray;margin: 0 0.4em 0.5em 0.4em;box-sizing: border-box;padding-bottom: 0.4em;background-color: white;}#sk-container-id-1 div.sk-label label {font-family: monospace;font-weight: bold;display: inline-block;line-height: 1.2em;}#sk-container-id-1 div.sk-label-container {text-align: center;}#sk-container-id-1 div.sk-container {/* jupyter's `normalize.less` sets `[hidden] { display: none; }` but bootstrap.min.css set `[hidden] { display: none !important; }` so we also need the `!important` here to be able to override the default hidden behavior on the sphinx rendered scikit-learn.org. See: https://github.com/scikit-learn/scikit-learn/issues/21755 */display: inline-block !important;position: relative;}#sk-container-id-1 div.sk-text-repr-fallback {display: none;}</style><div id=\"sk-container-id-1\" class=\"sk-top-container\"><div class=\"sk-text-repr-fallback\"><pre>Pipeline(steps=[(&#x27;scale&#x27;, None), (&#x27;model&#x27;, LogisticRegression(C=0.1))])</pre><b>In a Jupyter environment, please rerun this cell to show the HTML representation or trust the notebook. <br />On GitHub, the HTML representation is unable to render, please try loading this page with nbviewer.org.</b></div><div class=\"sk-container\" hidden><div class=\"sk-item sk-dashed-wrapped\"><div class=\"sk-label-container\"><div class=\"sk-label sk-toggleable\"><input class=\"sk-toggleable__control sk-hidden--visually\" id=\"sk-estimator-id-1\" type=\"checkbox\" ><label for=\"sk-estimator-id-1\" class=\"sk-toggleable__label sk-toggleable__label-arrow\">Pipeline</label><div class=\"sk-toggleable__content\"><pre>Pipeline(steps=[(&#x27;scale&#x27;, None), (&#x27;model&#x27;, LogisticRegression(C=0.1))])</pre></div></div></div><div class=\"sk-serial\"><div class=\"sk-item\"><div class=\"sk-estimator sk-toggleable\"><input class=\"sk-toggleable__control sk-hidden--visually\" id=\"sk-estimator-id-2\" type=\"checkbox\" ><label for=\"sk-estimator-id-2\" class=\"sk-toggleable__label sk-toggleable__label-arrow\">None</label><div class=\"sk-toggleable__content\"><pre>None</pre></div></div></div><div class=\"sk-item\"><div class=\"sk-estimator sk-toggleable\"><input class=\"sk-toggleable__control sk-hidden--visually\" id=\"sk-estimator-id-3\" type=\"checkbox\" ><label for=\"sk-estimator-id-3\" class=\"sk-toggleable__label sk-toggleable__label-arrow\">LogisticRegression</label><div class=\"sk-toggleable__content\"><pre>LogisticRegression(C=0.1)</pre></div></div></div></div></div></div></div>"
      ],
      "text/plain": [
       "Pipeline(steps=[('scale', None), ('model', LogisticRegression(C=0.1))])"
      ]
     },
     "execution_count": 34,
     "metadata": {},
     "output_type": "execute_result"
    }
   ],
   "source": [
    "model.fit(X_train, y_train.values.ravel())"
   ]
  },
  {
   "cell_type": "code",
   "execution_count": 35,
   "id": "6e15e313",
   "metadata": {
    "execution": {
     "iopub.execute_input": "2025-08-19T19:02:03.740260Z",
     "iopub.status.busy": "2025-08-19T19:02:03.739284Z",
     "iopub.status.idle": "2025-08-19T19:02:03.844627Z",
     "shell.execute_reply": "2025-08-19T19:02:03.843979Z"
    },
    "papermill": {
     "duration": 0.126551,
     "end_time": "2025-08-19T19:02:03.851655",
     "exception": false,
     "start_time": "2025-08-19T19:02:03.725104",
     "status": "completed"
    },
    "tags": []
   },
   "outputs": [
    {
     "data": {
      "text/plain": [
       "0.860383457808494"
      ]
     },
     "execution_count": 35,
     "metadata": {},
     "output_type": "execute_result"
    }
   ],
   "source": [
    "from fairness_multiverse.universe import predict_w_threshold\n",
    "\n",
    "probs_test = model.predict_proba(X_test)\n",
    "\n",
    "'''\n",
    "Below code returns a boolean array (or binary 0/1 array depending on how it’s used) where each element \n",
    "is True if the probability of class 1 is greater than or equal to the threshold, and False otherwise.\n",
    "'''\n",
    "y_pred_default = predict_w_threshold(probs_test, 0.5)\n",
    "\n",
    "from sklearn.metrics import accuracy_score\n",
    "\n",
    "# Naive prediction\n",
    "accuracy_score(y_true = y_true, y_pred = y_pred_default)"
   ]
  },
  {
   "cell_type": "code",
   "execution_count": 36,
   "id": "6f14067c",
   "metadata": {
    "execution": {
     "iopub.execute_input": "2025-08-19T19:02:03.889415Z",
     "iopub.status.busy": "2025-08-19T19:02:03.888235Z",
     "iopub.status.idle": "2025-08-19T19:02:04.000394Z",
     "shell.execute_reply": "2025-08-19T19:02:03.999618Z"
    },
    "papermill": {
     "duration": 0.127803,
     "end_time": "2025-08-19T19:02:04.002803",
     "exception": false,
     "start_time": "2025-08-19T19:02:03.875000",
     "status": "completed"
    },
    "tags": []
   },
   "outputs": [
    {
     "data": {
      "text/plain": [
       "array([0, 0, 0, ..., 0, 0, 0])"
      ]
     },
     "execution_count": 36,
     "metadata": {},
     "output_type": "execute_result"
    }
   ],
   "source": [
    "model.predict(X_test)"
   ]
  },
  {
   "cell_type": "markdown",
   "id": "3759920c",
   "metadata": {
    "papermill": {
     "duration": 0.026109,
     "end_time": "2025-08-19T19:02:04.053269",
     "exception": false,
     "start_time": "2025-08-19T19:02:04.027160",
     "status": "completed"
    },
    "tags": []
   },
   "source": [
    "# Conformal Prediction"
   ]
  },
  {
   "cell_type": "code",
   "execution_count": 37,
   "id": "14b27f59",
   "metadata": {
    "execution": {
     "iopub.execute_input": "2025-08-19T19:02:04.104717Z",
     "iopub.status.busy": "2025-08-19T19:02:04.103863Z",
     "iopub.status.idle": "2025-08-19T19:02:04.112941Z",
     "shell.execute_reply": "2025-08-19T19:02:04.111513Z"
    },
    "papermill": {
     "duration": 0.032602,
     "end_time": "2025-08-19T19:02:04.114861",
     "exception": false,
     "start_time": "2025-08-19T19:02:04.082259",
     "status": "completed"
    },
    "tags": []
   },
   "outputs": [],
   "source": [
    "# Miscoverage level for conformal prediction (10% allowed error rate => 90% target coverage)\n",
    "alpha = 0.1"
   ]
  },
  {
   "cell_type": "code",
   "execution_count": 38,
   "id": "59102472",
   "metadata": {
    "execution": {
     "iopub.execute_input": "2025-08-19T19:02:04.151175Z",
     "iopub.status.busy": "2025-08-19T19:02:04.150341Z",
     "iopub.status.idle": "2025-08-19T19:02:04.256228Z",
     "shell.execute_reply": "2025-08-19T19:02:04.255189Z"
    },
    "papermill": {
     "duration": 0.121165,
     "end_time": "2025-08-19T19:02:04.258030",
     "exception": false,
     "start_time": "2025-08-19T19:02:04.136865",
     "status": "completed"
    },
    "tags": []
   },
   "outputs": [],
   "source": [
    "probs_calib = model.predict_proba(X_calib)"
   ]
  },
  {
   "cell_type": "code",
   "execution_count": 39,
   "id": "a792d4dd",
   "metadata": {
    "execution": {
     "iopub.execute_input": "2025-08-19T19:02:04.297026Z",
     "iopub.status.busy": "2025-08-19T19:02:04.296444Z",
     "iopub.status.idle": "2025-08-19T19:02:04.306586Z",
     "shell.execute_reply": "2025-08-19T19:02:04.304280Z"
    },
    "papermill": {
     "duration": 0.028094,
     "end_time": "2025-08-19T19:02:04.308503",
     "exception": false,
     "start_time": "2025-08-19T19:02:04.280409",
     "status": "completed"
    },
    "tags": []
   },
   "outputs": [],
   "source": [
    "y_calib = y_calib.values.ravel().astype(int)"
   ]
  },
  {
   "cell_type": "code",
   "execution_count": 40,
   "id": "650fd033",
   "metadata": {
    "execution": {
     "iopub.execute_input": "2025-08-19T19:02:04.339102Z",
     "iopub.status.busy": "2025-08-19T19:02:04.337813Z",
     "iopub.status.idle": "2025-08-19T19:02:04.351809Z",
     "shell.execute_reply": "2025-08-19T19:02:04.350071Z"
    },
    "papermill": {
     "duration": 0.030063,
     "end_time": "2025-08-19T19:02:04.353624",
     "exception": false,
     "start_time": "2025-08-19T19:02:04.323561",
     "status": "completed"
    },
    "tags": []
   },
   "outputs": [],
   "source": [
    "from fairness_multiverse.conformal import compute_nc_scores\n",
    "\n",
    "# Compute nonconformity scores on calibration set (1 - probability of true class)\n",
    "nc_scores = compute_nc_scores(probs_calib, y_calib)"
   ]
  },
  {
   "cell_type": "code",
   "execution_count": 41,
   "id": "28ada44c",
   "metadata": {
    "execution": {
     "iopub.execute_input": "2025-08-19T19:02:04.380428Z",
     "iopub.status.busy": "2025-08-19T19:02:04.379359Z",
     "iopub.status.idle": "2025-08-19T19:02:04.389786Z",
     "shell.execute_reply": "2025-08-19T19:02:04.388438Z"
    },
    "papermill": {
     "duration": 0.030558,
     "end_time": "2025-08-19T19:02:04.396313",
     "exception": false,
     "start_time": "2025-08-19T19:02:04.365755",
     "status": "completed"
    },
    "tags": []
   },
   "outputs": [],
   "source": [
    "from fairness_multiverse.conformal import find_threshold\n",
    "\n",
    "# Find conformal threshold q_hat for the given alpha (split conformal method)\n",
    "q_hat = find_threshold(nc_scores, alpha)"
   ]
  },
  {
   "cell_type": "code",
   "execution_count": 42,
   "id": "df56469e",
   "metadata": {
    "execution": {
     "iopub.execute_input": "2025-08-19T19:02:04.439787Z",
     "iopub.status.busy": "2025-08-19T19:02:04.438479Z",
     "iopub.status.idle": "2025-08-19T19:02:04.449293Z",
     "shell.execute_reply": "2025-08-19T19:02:04.447916Z"
    },
    "papermill": {
     "duration": 0.031435,
     "end_time": "2025-08-19T19:02:04.450884",
     "exception": false,
     "start_time": "2025-08-19T19:02:04.419449",
     "status": "completed"
    },
    "tags": []
   },
   "outputs": [
    {
     "data": {
      "text/plain": [
       "0.6817002370629567"
      ]
     },
     "execution_count": 42,
     "metadata": {},
     "output_type": "execute_result"
    }
   ],
   "source": [
    "q_hat"
   ]
  },
  {
   "cell_type": "code",
   "execution_count": 43,
   "id": "aa1f5faa",
   "metadata": {
    "execution": {
     "iopub.execute_input": "2025-08-19T19:02:04.483219Z",
     "iopub.status.busy": "2025-08-19T19:02:04.481935Z",
     "iopub.status.idle": "2025-08-19T19:02:05.022693Z",
     "shell.execute_reply": "2025-08-19T19:02:05.021409Z"
    },
    "papermill": {
     "duration": 0.557119,
     "end_time": "2025-08-19T19:02:05.024672",
     "exception": false,
     "start_time": "2025-08-19T19:02:04.467553",
     "status": "completed"
    },
    "tags": []
   },
   "outputs": [],
   "source": [
    "from fairness_multiverse.conformal import predict_conformal_sets\n",
    "\n",
    "# Generate prediction sets for each test example\n",
    "pred_sets = predict_conformal_sets(model, X_test, q_hat)"
   ]
  },
  {
   "cell_type": "code",
   "execution_count": 44,
   "id": "97f67a6b",
   "metadata": {
    "execution": {
     "iopub.execute_input": "2025-08-19T19:02:05.051657Z",
     "iopub.status.busy": "2025-08-19T19:02:05.050554Z",
     "iopub.status.idle": "2025-08-19T19:02:05.057854Z",
     "shell.execute_reply": "2025-08-19T19:02:05.056738Z"
    },
    "papermill": {
     "duration": 0.023968,
     "end_time": "2025-08-19T19:02:05.061202",
     "exception": false,
     "start_time": "2025-08-19T19:02:05.037234",
     "status": "completed"
    },
    "tags": []
   },
   "outputs": [],
   "source": [
    "y_true = y_true.squeeze()"
   ]
  },
  {
   "cell_type": "code",
   "execution_count": 45,
   "id": "e700e9a7",
   "metadata": {
    "execution": {
     "iopub.execute_input": "2025-08-19T19:02:05.090706Z",
     "iopub.status.busy": "2025-08-19T19:02:05.089654Z",
     "iopub.status.idle": "2025-08-19T19:02:05.610586Z",
     "shell.execute_reply": "2025-08-19T19:02:05.609344Z"
    },
    "papermill": {
     "duration": 0.537807,
     "end_time": "2025-08-19T19:02:05.613725",
     "exception": false,
     "start_time": "2025-08-19T19:02:05.075918",
     "status": "completed"
    },
    "tags": []
   },
   "outputs": [],
   "source": [
    "from fairness_multiverse.conformal import evaluate_sets\n",
    "\n",
    "# Evaluate coverage and average set size on test data\n",
    "metrics = evaluate_sets(pred_sets, y_true)"
   ]
  },
  {
   "cell_type": "markdown",
   "id": "efbacec0",
   "metadata": {
    "papermill": {
     "duration": 0.012619,
     "end_time": "2025-08-19T19:02:05.650220",
     "exception": false,
     "start_time": "2025-08-19T19:02:05.637601",
     "status": "completed"
    },
    "tags": []
   },
   "source": [
    "# CP Metrics"
   ]
  },
  {
   "cell_type": "code",
   "execution_count": 46,
   "id": "9de55fb1",
   "metadata": {
    "execution": {
     "iopub.execute_input": "2025-08-19T19:02:05.676180Z",
     "iopub.status.busy": "2025-08-19T19:02:05.675610Z",
     "iopub.status.idle": "2025-08-19T19:02:05.683696Z",
     "shell.execute_reply": "2025-08-19T19:02:05.682759Z"
    },
    "papermill": {
     "duration": 0.022876,
     "end_time": "2025-08-19T19:02:05.684993",
     "exception": false,
     "start_time": "2025-08-19T19:02:05.662117",
     "status": "completed"
    },
    "tags": []
   },
   "outputs": [
    {
     "data": {
      "text/plain": [
       "{'coverage': 0.9129082599487237, 'avg_size': 1.2304871251811391}"
      ]
     },
     "execution_count": 46,
     "metadata": {},
     "output_type": "execute_result"
    }
   ],
   "source": [
    "metrics"
   ]
  },
  {
   "cell_type": "code",
   "execution_count": 47,
   "id": "64c340a1",
   "metadata": {
    "execution": {
     "iopub.execute_input": "2025-08-19T19:02:05.710273Z",
     "iopub.status.busy": "2025-08-19T19:02:05.709868Z",
     "iopub.status.idle": "2025-08-19T19:02:05.715454Z",
     "shell.execute_reply": "2025-08-19T19:02:05.714682Z"
    },
    "papermill": {
     "duration": 0.019447,
     "end_time": "2025-08-19T19:02:05.716676",
     "exception": false,
     "start_time": "2025-08-19T19:02:05.697229",
     "status": "completed"
    },
    "tags": []
   },
   "outputs": [],
   "source": [
    "example_universe = universe.copy()\n",
    "universe_training_year = example_universe.get(\"training_year\")\n",
    "universe_training_size = example_universe.get(\"training_size\")\n",
    "universe_scale = example_universe.get(\"scale\")\n",
    "universe_model = example_universe.get(\"model\")\n",
    "universe_exclude_features = example_universe.get(\"exclude_features\")\n",
    "universe_exclude_subgroups = example_universe.get(\"exclude_subgroups\")"
   ]
  },
  {
   "cell_type": "code",
   "execution_count": 48,
   "id": "dbb53cb4",
   "metadata": {
    "execution": {
     "iopub.execute_input": "2025-08-19T19:02:05.741562Z",
     "iopub.status.busy": "2025-08-19T19:02:05.741158Z",
     "iopub.status.idle": "2025-08-19T19:02:05.746529Z",
     "shell.execute_reply": "2025-08-19T19:02:05.745809Z"
    },
    "papermill": {
     "duration": 0.019314,
     "end_time": "2025-08-19T19:02:05.747744",
     "exception": false,
     "start_time": "2025-08-19T19:02:05.728430",
     "status": "completed"
    },
    "tags": []
   },
   "outputs": [],
   "source": [
    "cp_metrics_dict = {\n",
    "    \"universe_id\": [universe_id],\n",
    "    \"universe_training_year\": [universe_training_year],\n",
    "    \"universe_training_size\": [universe_training_size],\n",
    "    \"universe_scale\": [universe_scale],\n",
    "    \"universe_model\": [universe_model],\n",
    "    \"universe_exclude_features\": [universe_exclude_features],\n",
    "    \"universe_exclude_subgroups\": [universe_exclude_subgroups],\n",
    "    \"q_hat\": [q_hat],\n",
    "    \"coverage\": [metrics[\"coverage\"]],\n",
    "    \"avg_size\": [metrics[\"avg_size\"]],\n",
    "}"
   ]
  },
  {
   "cell_type": "code",
   "execution_count": 49,
   "id": "0d70d4b2",
   "metadata": {
    "execution": {
     "iopub.execute_input": "2025-08-19T19:02:05.772555Z",
     "iopub.status.busy": "2025-08-19T19:02:05.772105Z",
     "iopub.status.idle": "2025-08-19T19:02:05.778739Z",
     "shell.execute_reply": "2025-08-19T19:02:05.777953Z"
    },
    "papermill": {
     "duration": 0.020583,
     "end_time": "2025-08-19T19:02:05.779991",
     "exception": false,
     "start_time": "2025-08-19T19:02:05.759408",
     "status": "completed"
    },
    "tags": []
   },
   "outputs": [],
   "source": [
    "cp_metrics_df = pd.DataFrame(cp_metrics_dict)"
   ]
  },
  {
   "cell_type": "code",
   "execution_count": 50,
   "id": "b494403c",
   "metadata": {
    "execution": {
     "iopub.execute_input": "2025-08-19T19:02:05.806618Z",
     "iopub.status.busy": "2025-08-19T19:02:05.806191Z",
     "iopub.status.idle": "2025-08-19T19:02:05.822566Z",
     "shell.execute_reply": "2025-08-19T19:02:05.821786Z"
    },
    "papermill": {
     "duration": 0.031531,
     "end_time": "2025-08-19T19:02:05.824269",
     "exception": false,
     "start_time": "2025-08-19T19:02:05.792738",
     "status": "completed"
    },
    "tags": []
   },
   "outputs": [
    {
     "data": {
      "text/html": [
       "<div>\n",
       "<style scoped>\n",
       "    .dataframe tbody tr th:only-of-type {\n",
       "        vertical-align: middle;\n",
       "    }\n",
       "\n",
       "    .dataframe tbody tr th {\n",
       "        vertical-align: top;\n",
       "    }\n",
       "\n",
       "    .dataframe thead th {\n",
       "        text-align: right;\n",
       "    }\n",
       "</style>\n",
       "<table border=\"1\" class=\"dataframe\">\n",
       "  <thead>\n",
       "    <tr style=\"text-align: right;\">\n",
       "      <th></th>\n",
       "      <th>universe_id</th>\n",
       "      <th>universe_training_year</th>\n",
       "      <th>universe_training_size</th>\n",
       "      <th>universe_scale</th>\n",
       "      <th>universe_model</th>\n",
       "      <th>universe_exclude_features</th>\n",
       "      <th>universe_exclude_subgroups</th>\n",
       "      <th>q_hat</th>\n",
       "      <th>coverage</th>\n",
       "      <th>avg_size</th>\n",
       "    </tr>\n",
       "  </thead>\n",
       "  <tbody>\n",
       "    <tr>\n",
       "      <th>0</th>\n",
       "      <td>797d555d8e1fd2288714ad460da59024</td>\n",
       "      <td>2012_14</td>\n",
       "      <td>1k</td>\n",
       "      <td>do-not-scale</td>\n",
       "      <td>penalized_logreg</td>\n",
       "      <td>nationality-sex</td>\n",
       "      <td>drop-non-german</td>\n",
       "      <td>0.6817</td>\n",
       "      <td>0.912908</td>\n",
       "      <td>1.230487</td>\n",
       "    </tr>\n",
       "  </tbody>\n",
       "</table>\n",
       "</div>"
      ],
      "text/plain": [
       "                        universe_id universe_training_year  \\\n",
       "0  797d555d8e1fd2288714ad460da59024                2012_14   \n",
       "\n",
       "  universe_training_size universe_scale    universe_model  \\\n",
       "0                     1k   do-not-scale  penalized_logreg   \n",
       "\n",
       "  universe_exclude_features universe_exclude_subgroups   q_hat  coverage  \\\n",
       "0           nationality-sex            drop-non-german  0.6817  0.912908   \n",
       "\n",
       "   avg_size  \n",
       "0  1.230487  "
      ]
     },
     "execution_count": 50,
     "metadata": {},
     "output_type": "execute_result"
    }
   ],
   "source": [
    "cp_metrics_df"
   ]
  },
  {
   "cell_type": "markdown",
   "id": "ed608b0b",
   "metadata": {
    "papermill": {
     "duration": 0.012496,
     "end_time": "2025-08-19T19:02:05.855617",
     "exception": false,
     "start_time": "2025-08-19T19:02:05.843121",
     "status": "completed"
    },
    "tags": []
   },
   "source": [
    "Conditional coverage & looking at subgroups"
   ]
  },
  {
   "cell_type": "code",
   "execution_count": 51,
   "id": "8968c366",
   "metadata": {
    "execution": {
     "iopub.execute_input": "2025-08-19T19:02:05.882369Z",
     "iopub.status.busy": "2025-08-19T19:02:05.881160Z",
     "iopub.status.idle": "2025-08-19T19:02:06.164862Z",
     "shell.execute_reply": "2025-08-19T19:02:06.163933Z"
    },
    "papermill": {
     "duration": 0.298846,
     "end_time": "2025-08-19T19:02:06.166360",
     "exception": false,
     "start_time": "2025-08-19T19:02:05.867514",
     "status": "completed"
    },
    "tags": []
   },
   "outputs": [],
   "source": [
    "from fairness_multiverse.conformal import build_cp_groups\n",
    "\n",
    "cp_groups_df = build_cp_groups(pred_sets, y_true, X_test.index, org_test)"
   ]
  },
  {
   "cell_type": "code",
   "execution_count": 52,
   "id": "292ddabf",
   "metadata": {
    "execution": {
     "iopub.execute_input": "2025-08-19T19:02:06.194097Z",
     "iopub.status.busy": "2025-08-19T19:02:06.192072Z",
     "iopub.status.idle": "2025-08-19T19:02:07.082154Z",
     "shell.execute_reply": "2025-08-19T19:02:07.080606Z"
    },
    "papermill": {
     "duration": 0.905326,
     "end_time": "2025-08-19T19:02:07.083991",
     "exception": false,
     "start_time": "2025-08-19T19:02:06.178665",
     "status": "completed"
    },
    "tags": []
   },
   "outputs": [],
   "source": [
    "# Define covered = 1 if true_label is in the predicted set\n",
    "cp_groups_df['covered'] = cp_groups_df.apply(\n",
    "    lambda r: int(r['true_label'] in r['pred_set']),\n",
    "    axis=1\n",
    ")"
   ]
  },
  {
   "cell_type": "code",
   "execution_count": 53,
   "id": "3a261692",
   "metadata": {
    "execution": {
     "iopub.execute_input": "2025-08-19T19:02:07.113913Z",
     "iopub.status.busy": "2025-08-19T19:02:07.113425Z",
     "iopub.status.idle": "2025-08-19T19:02:07.127206Z",
     "shell.execute_reply": "2025-08-19T19:02:07.126056Z"
    },
    "papermill": {
     "duration": 0.028685,
     "end_time": "2025-08-19T19:02:07.128397",
     "exception": false,
     "start_time": "2025-08-19T19:02:07.099712",
     "status": "completed"
    },
    "tags": []
   },
   "outputs": [],
   "source": [
    "subgroups = ['frau1','nongerman','nongerman_male','nongerman_female']\n",
    "\n",
    "# Conditional coverage for subgroup==1\n",
    "cond_coverage = {\n",
    "    g: cp_groups_df.loc[cp_groups_df[g]==1, 'covered'].mean()\n",
    "    for g in subgroups\n",
    "}"
   ]
  },
  {
   "cell_type": "code",
   "execution_count": 54,
   "id": "894fd600",
   "metadata": {
    "execution": {
     "iopub.execute_input": "2025-08-19T19:02:07.157426Z",
     "iopub.status.busy": "2025-08-19T19:02:07.157020Z",
     "iopub.status.idle": "2025-08-19T19:02:07.163692Z",
     "shell.execute_reply": "2025-08-19T19:02:07.162821Z"
    },
    "papermill": {
     "duration": 0.02112,
     "end_time": "2025-08-19T19:02:07.164903",
     "exception": false,
     "start_time": "2025-08-19T19:02:07.143783",
     "status": "completed"
    },
    "tags": []
   },
   "outputs": [
    {
     "data": {
      "text/plain": [
       "{'frau1': 0.9110122658040167,\n",
       " 'nongerman': 0.941278841295683,\n",
       " 'nongerman_male': 0.9522651535621003,\n",
       " 'nongerman_female': 0.9230998509687034}"
      ]
     },
     "execution_count": 54,
     "metadata": {},
     "output_type": "execute_result"
    }
   ],
   "source": [
    "cond_coverage"
   ]
  },
  {
   "cell_type": "code",
   "execution_count": 55,
   "id": "942895c7",
   "metadata": {
    "execution": {
     "iopub.execute_input": "2025-08-19T19:02:07.191496Z",
     "iopub.status.busy": "2025-08-19T19:02:07.191075Z",
     "iopub.status.idle": "2025-08-19T19:02:07.198405Z",
     "shell.execute_reply": "2025-08-19T19:02:07.197374Z"
    },
    "papermill": {
     "duration": 0.022342,
     "end_time": "2025-08-19T19:02:07.199763",
     "exception": false,
     "start_time": "2025-08-19T19:02:07.177421",
     "status": "completed"
    },
    "tags": []
   },
   "outputs": [],
   "source": [
    "for subgroup, cov in cond_coverage.items():\n",
    "    cp_metrics_df[f\"cov_{subgroup}\"] = cov"
   ]
  },
  {
   "cell_type": "code",
   "execution_count": 56,
   "id": "3970120f",
   "metadata": {
    "execution": {
     "iopub.execute_input": "2025-08-19T19:02:07.228751Z",
     "iopub.status.busy": "2025-08-19T19:02:07.228296Z",
     "iopub.status.idle": "2025-08-19T19:02:07.244925Z",
     "shell.execute_reply": "2025-08-19T19:02:07.243962Z"
    },
    "papermill": {
     "duration": 0.031873,
     "end_time": "2025-08-19T19:02:07.246712",
     "exception": false,
     "start_time": "2025-08-19T19:02:07.214839",
     "status": "completed"
    },
    "tags": []
   },
   "outputs": [
    {
     "data": {
      "text/html": [
       "<div>\n",
       "<style scoped>\n",
       "    .dataframe tbody tr th:only-of-type {\n",
       "        vertical-align: middle;\n",
       "    }\n",
       "\n",
       "    .dataframe tbody tr th {\n",
       "        vertical-align: top;\n",
       "    }\n",
       "\n",
       "    .dataframe thead th {\n",
       "        text-align: right;\n",
       "    }\n",
       "</style>\n",
       "<table border=\"1\" class=\"dataframe\">\n",
       "  <thead>\n",
       "    <tr style=\"text-align: right;\">\n",
       "      <th></th>\n",
       "      <th>universe_id</th>\n",
       "      <th>universe_training_year</th>\n",
       "      <th>universe_training_size</th>\n",
       "      <th>universe_scale</th>\n",
       "      <th>universe_model</th>\n",
       "      <th>universe_exclude_features</th>\n",
       "      <th>universe_exclude_subgroups</th>\n",
       "      <th>q_hat</th>\n",
       "      <th>coverage</th>\n",
       "      <th>avg_size</th>\n",
       "      <th>cov_frau1</th>\n",
       "      <th>cov_nongerman</th>\n",
       "      <th>cov_nongerman_male</th>\n",
       "      <th>cov_nongerman_female</th>\n",
       "    </tr>\n",
       "  </thead>\n",
       "  <tbody>\n",
       "    <tr>\n",
       "      <th>0</th>\n",
       "      <td>797d555d8e1fd2288714ad460da59024</td>\n",
       "      <td>2012_14</td>\n",
       "      <td>1k</td>\n",
       "      <td>do-not-scale</td>\n",
       "      <td>penalized_logreg</td>\n",
       "      <td>nationality-sex</td>\n",
       "      <td>drop-non-german</td>\n",
       "      <td>0.6817</td>\n",
       "      <td>0.912908</td>\n",
       "      <td>1.230487</td>\n",
       "      <td>0.911012</td>\n",
       "      <td>0.941279</td>\n",
       "      <td>0.952265</td>\n",
       "      <td>0.9231</td>\n",
       "    </tr>\n",
       "  </tbody>\n",
       "</table>\n",
       "</div>"
      ],
      "text/plain": [
       "                        universe_id universe_training_year  \\\n",
       "0  797d555d8e1fd2288714ad460da59024                2012_14   \n",
       "\n",
       "  universe_training_size universe_scale    universe_model  \\\n",
       "0                     1k   do-not-scale  penalized_logreg   \n",
       "\n",
       "  universe_exclude_features universe_exclude_subgroups   q_hat  coverage  \\\n",
       "0           nationality-sex            drop-non-german  0.6817  0.912908   \n",
       "\n",
       "   avg_size  cov_frau1  cov_nongerman  cov_nongerman_male  \\\n",
       "0  1.230487   0.911012       0.941279            0.952265   \n",
       "\n",
       "   cov_nongerman_female  \n",
       "0                0.9231  "
      ]
     },
     "execution_count": 56,
     "metadata": {},
     "output_type": "execute_result"
    }
   ],
   "source": [
    "cp_metrics_df"
   ]
  },
  {
   "cell_type": "markdown",
   "id": "3fc519cc",
   "metadata": {
    "papermill": {
     "duration": 0.012522,
     "end_time": "2025-08-19T19:02:07.273094",
     "exception": false,
     "start_time": "2025-08-19T19:02:07.260572",
     "status": "completed"
    },
    "tags": []
   },
   "source": [
    "# (Fairness) Metrics"
   ]
  },
  {
   "cell_type": "code",
   "execution_count": 57,
   "id": "a2e5e155",
   "metadata": {
    "execution": {
     "iopub.execute_input": "2025-08-19T19:02:07.299228Z",
     "iopub.status.busy": "2025-08-19T19:02:07.298904Z",
     "iopub.status.idle": "2025-08-19T19:02:07.314682Z",
     "shell.execute_reply": "2025-08-19T19:02:07.313494Z"
    },
    "papermill": {
     "duration": 0.032581,
     "end_time": "2025-08-19T19:02:07.318146",
     "exception": false,
     "start_time": "2025-08-19T19:02:07.285565",
     "status": "completed"
    },
    "tags": []
   },
   "outputs": [],
   "source": [
    "colname_to_bin = \"maxdeutsch1\"\n",
    "majority_value = org_train[colname_to_bin].mode()[0]\n",
    "\n",
    "org_test[\"majmin\"] = np.where(org_test[colname_to_bin] == majority_value, \"majority\", \"minority\")"
   ]
  },
  {
   "cell_type": "code",
   "execution_count": 58,
   "id": "17e3e4d5",
   "metadata": {
    "execution": {
     "iopub.execute_input": "2025-08-19T19:02:07.345187Z",
     "iopub.status.busy": "2025-08-19T19:02:07.344876Z",
     "iopub.status.idle": "2025-08-19T19:02:09.088040Z",
     "shell.execute_reply": "2025-08-19T19:02:09.086572Z"
    },
    "papermill": {
     "duration": 1.758565,
     "end_time": "2025-08-19T19:02:09.089910",
     "exception": false,
     "start_time": "2025-08-19T19:02:07.331345",
     "status": "completed"
    },
    "tags": []
   },
   "outputs": [],
   "source": [
    "example_universe = universe.copy()\n",
    "example_universe[\"cutoff\"] = example_universe[\"cutoff\"][0]\n",
    "example_universe[\"eval_fairness_grouping\"] = example_universe[\"eval_fairness_grouping\"][0]\n",
    "fairness_dict, metric_frame = universe_analysis.compute_metrics(\n",
    "    example_universe,\n",
    "    y_pred_prob=probs_test,\n",
    "    y_test=y_true,\n",
    "    org_test=org_test,\n",
    ")"
   ]
  },
  {
   "cell_type": "markdown",
   "id": "1fb7a0e9",
   "metadata": {
    "papermill": {
     "duration": 0.012523,
     "end_time": "2025-08-19T19:02:09.119454",
     "exception": false,
     "start_time": "2025-08-19T19:02:09.106931",
     "status": "completed"
    },
    "tags": []
   },
   "source": [
    "# Overall"
   ]
  },
  {
   "cell_type": "markdown",
   "id": "be1784b1",
   "metadata": {
    "papermill": {
     "duration": 0.014711,
     "end_time": "2025-08-19T19:02:09.146556",
     "exception": false,
     "start_time": "2025-08-19T19:02:09.131845",
     "status": "completed"
    },
    "tags": []
   },
   "source": [
    "Main fairness target: Equalized Odds. Seems to be a better fit than equal opportunity, since we're not only interested in Y = 1. Seems to be a better fit than demographic parity, since we also care about accuracy, not just equal distribution of preds.\n",
    "\n",
    "Pick column for computation of fairness metrics\n",
    "\n",
    "Performance\n",
    "Overall performance measures, most interesting in relation to the measures split by group below"
   ]
  },
  {
   "cell_type": "code",
   "execution_count": 59,
   "id": "b7672bee",
   "metadata": {
    "execution": {
     "iopub.execute_input": "2025-08-19T19:02:09.172995Z",
     "iopub.status.busy": "2025-08-19T19:02:09.172635Z",
     "iopub.status.idle": "2025-08-19T19:02:09.181932Z",
     "shell.execute_reply": "2025-08-19T19:02:09.181051Z"
    },
    "papermill": {
     "duration": 0.024549,
     "end_time": "2025-08-19T19:02:09.183355",
     "exception": false,
     "start_time": "2025-08-19T19:02:09.158806",
     "status": "completed"
    },
    "tags": []
   },
   "outputs": [
    {
     "data": {
      "text/plain": [
       "accuracy                   0.213232\n",
       "balanced accuracy          0.523715\n",
       "f1                         0.234869\n",
       "precision                  0.134173\n",
       "false positive rate        0.893916\n",
       "false negative rate        0.058655\n",
       "selection rate             0.900000\n",
       "count                  89710.000000\n",
       "dtype: float64"
      ]
     },
     "execution_count": 59,
     "metadata": {},
     "output_type": "execute_result"
    }
   ],
   "source": [
    "metric_frame.overall"
   ]
  },
  {
   "cell_type": "markdown",
   "id": "d93333c9",
   "metadata": {
    "papermill": {
     "duration": 0.012499,
     "end_time": "2025-08-19T19:02:09.211045",
     "exception": false,
     "start_time": "2025-08-19T19:02:09.198546",
     "status": "completed"
    },
    "tags": []
   },
   "source": [
    "By Group"
   ]
  },
  {
   "cell_type": "code",
   "execution_count": 60,
   "id": "52256966",
   "metadata": {
    "execution": {
     "iopub.execute_input": "2025-08-19T19:02:09.239999Z",
     "iopub.status.busy": "2025-08-19T19:02:09.239424Z",
     "iopub.status.idle": "2025-08-19T19:02:09.260352Z",
     "shell.execute_reply": "2025-08-19T19:02:09.259300Z"
    },
    "papermill": {
     "duration": 0.036754,
     "end_time": "2025-08-19T19:02:09.261892",
     "exception": false,
     "start_time": "2025-08-19T19:02:09.225138",
     "status": "completed"
    },
    "tags": []
   },
   "outputs": [
    {
     "data": {
      "text/html": [
       "<div>\n",
       "<style scoped>\n",
       "    .dataframe tbody tr th:only-of-type {\n",
       "        vertical-align: middle;\n",
       "    }\n",
       "\n",
       "    .dataframe tbody tr th {\n",
       "        vertical-align: top;\n",
       "    }\n",
       "\n",
       "    .dataframe thead th {\n",
       "        text-align: right;\n",
       "    }\n",
       "</style>\n",
       "<table border=\"1\" class=\"dataframe\">\n",
       "  <thead>\n",
       "    <tr style=\"text-align: right;\">\n",
       "      <th></th>\n",
       "      <th>accuracy</th>\n",
       "      <th>balanced accuracy</th>\n",
       "      <th>f1</th>\n",
       "      <th>precision</th>\n",
       "      <th>false positive rate</th>\n",
       "      <th>false negative rate</th>\n",
       "      <th>selection rate</th>\n",
       "      <th>count</th>\n",
       "    </tr>\n",
       "    <tr>\n",
       "      <th>majmin</th>\n",
       "      <th></th>\n",
       "      <th></th>\n",
       "      <th></th>\n",
       "      <th></th>\n",
       "      <th></th>\n",
       "      <th></th>\n",
       "      <th></th>\n",
       "      <th></th>\n",
       "    </tr>\n",
       "  </thead>\n",
       "  <tbody>\n",
       "    <tr>\n",
       "      <th>majority</th>\n",
       "      <td>0.232774</td>\n",
       "      <td>0.528902</td>\n",
       "      <td>0.242899</td>\n",
       "      <td>0.139660</td>\n",
       "      <td>0.873597</td>\n",
       "      <td>0.06860</td>\n",
       "      <td>0.881235</td>\n",
       "      <td>69170.0</td>\n",
       "    </tr>\n",
       "    <tr>\n",
       "      <th>minority</th>\n",
       "      <td>0.147420</td>\n",
       "      <td>0.509345</td>\n",
       "      <td>0.209462</td>\n",
       "      <td>0.117266</td>\n",
       "      <td>0.961039</td>\n",
       "      <td>0.02027</td>\n",
       "      <td>0.963194</td>\n",
       "      <td>20540.0</td>\n",
       "    </tr>\n",
       "  </tbody>\n",
       "</table>\n",
       "</div>"
      ],
      "text/plain": [
       "          accuracy  balanced accuracy        f1  precision  \\\n",
       "majmin                                                       \n",
       "majority  0.232774           0.528902  0.242899   0.139660   \n",
       "minority  0.147420           0.509345  0.209462   0.117266   \n",
       "\n",
       "          false positive rate  false negative rate  selection rate    count  \n",
       "majmin                                                                       \n",
       "majority             0.873597              0.06860        0.881235  69170.0  \n",
       "minority             0.961039              0.02027        0.963194  20540.0  "
      ]
     },
     "execution_count": 60,
     "metadata": {},
     "output_type": "execute_result"
    }
   ],
   "source": [
    "metric_frame.by_group"
   ]
  },
  {
   "cell_type": "code",
   "execution_count": 61,
   "id": "6e6c20ae",
   "metadata": {
    "execution": {
     "iopub.execute_input": "2025-08-19T19:02:09.296372Z",
     "iopub.status.busy": "2025-08-19T19:02:09.295246Z",
     "iopub.status.idle": "2025-08-19T19:02:11.233548Z",
     "shell.execute_reply": "2025-08-19T19:02:11.232368Z"
    },
    "papermill": {
     "duration": 1.954564,
     "end_time": "2025-08-19T19:02:11.235072",
     "exception": false,
     "start_time": "2025-08-19T19:02:09.280508",
     "status": "completed"
    },
    "tags": []
   },
   "outputs": [
    {
     "data": {
      "text/plain": [
       "array([[<Axes: title={'center': 'accuracy'}, xlabel='majmin'>,\n",
       "        <Axes: title={'center': 'balanced accuracy'}, xlabel='majmin'>,\n",
       "        <Axes: title={'center': 'f1'}, xlabel='majmin'>],\n",
       "       [<Axes: title={'center': 'precision'}, xlabel='majmin'>,\n",
       "        <Axes: title={'center': 'false positive rate'}, xlabel='majmin'>,\n",
       "        <Axes: title={'center': 'false negative rate'}, xlabel='majmin'>],\n",
       "       [<Axes: title={'center': 'selection rate'}, xlabel='majmin'>,\n",
       "        <Axes: title={'center': 'count'}, xlabel='majmin'>,\n",
       "        <Axes: xlabel='majmin'>]], dtype=object)"
      ]
     },
     "execution_count": 61,
     "metadata": {},
     "output_type": "execute_result"
    },
    {
     "data": {
      "image/png": "[encoded data removed]",
      "text/plain": [
       "<Figure size 1200x800 with 9 Axes>"
      ]
     },
     "metadata": {},
     "output_type": "display_data"
    }
   ],
   "source": [
    "# In a graphic\n",
    "metric_frame.by_group.plot.bar(\n",
    "    subplots=True,\n",
    "    layout=[3, 3],\n",
    "    legend=False,\n",
    "    figsize=[12, 8],\n",
    "    title=\"Show all metrics\",\n",
    ")"
   ]
  },
  {
   "cell_type": "markdown",
   "id": "b2e433ae",
   "metadata": {
    "papermill": {
     "duration": 0.013615,
     "end_time": "2025-08-19T19:02:11.263060",
     "exception": false,
     "start_time": "2025-08-19T19:02:11.249445",
     "status": "completed"
    },
    "tags": []
   },
   "source": [
    "# Final Output"
   ]
  },
  {
   "cell_type": "code",
   "execution_count": 62,
   "id": "3871301e",
   "metadata": {
    "execution": {
     "iopub.execute_input": "2025-08-19T19:02:11.297817Z",
     "iopub.status.busy": "2025-08-19T19:02:11.295535Z",
     "iopub.status.idle": "2025-08-19T19:02:11.316433Z",
     "shell.execute_reply": "2025-08-19T19:02:11.315379Z"
    },
    "papermill": {
     "duration": 0.040163,
     "end_time": "2025-08-19T19:02:11.318337",
     "exception": false,
     "start_time": "2025-08-19T19:02:11.278174",
     "status": "completed"
    },
    "tags": []
   },
   "outputs": [
    {
     "data": {
      "text/plain": [
       "4"
      ]
     },
     "execution_count": 62,
     "metadata": {},
     "output_type": "execute_result"
    }
   ],
   "source": [
    "sub_universes = universe_analysis.generate_sub_universes()\n",
    "len(sub_universes)"
   ]
  },
  {
   "cell_type": "code",
   "execution_count": 63,
   "id": "d9cfdaca",
   "metadata": {
    "execution": {
     "iopub.execute_input": "2025-08-19T19:02:11.362100Z",
     "iopub.status.busy": "2025-08-19T19:02:11.360314Z",
     "iopub.status.idle": "2025-08-19T19:02:11.371523Z",
     "shell.execute_reply": "2025-08-19T19:02:11.369816Z"
    },
    "papermill": {
     "duration": 0.028834,
     "end_time": "2025-08-19T19:02:11.373243",
     "exception": false,
     "start_time": "2025-08-19T19:02:11.344409",
     "status": "completed"
    },
    "tags": []
   },
   "outputs": [],
   "source": [
    "def filter_sub_universe_data(sub_universe, org_test):\n",
    "    # Keep all rows — no filtering\n",
    "    keep_rows_mask = np.ones(org_test.shape[0], dtype=bool)\n",
    "\n",
    "    print(f\"[INFO] Keeping all rows: {keep_rows_mask.sum()} rows retained.\")\n",
    "    return keep_rows_mask"
   ]
  },
  {
   "cell_type": "code",
   "execution_count": 64,
   "id": "2bc31ac1",
   "metadata": {
    "execution": {
     "iopub.execute_input": "2025-08-19T19:02:11.421296Z",
     "iopub.status.busy": "2025-08-19T19:02:11.406029Z",
     "iopub.status.idle": "2025-08-19T19:02:18.279421Z",
     "shell.execute_reply": "2025-08-19T19:02:18.278085Z"
    },
    "papermill": {
     "duration": 6.892014,
     "end_time": "2025-08-19T19:02:18.281615",
     "exception": false,
     "start_time": "2025-08-19T19:02:11.389601",
     "status": "completed"
    },
    "tags": []
   },
   "outputs": [
    {
     "name": "stdout",
     "output_type": "stream",
     "text": [
      "Stopping execution_time clock.\n",
      "[INFO] Keeping all rows: 89710 rows retained.\n"
     ]
    },
    {
     "name": "stdout",
     "output_type": "stream",
     "text": [
      "[INFO] Keeping all rows: 89710 rows retained.\n"
     ]
    },
    {
     "name": "stdout",
     "output_type": "stream",
     "text": [
      "[INFO] Keeping all rows: 89710 rows retained.\n"
     ]
    },
    {
     "name": "stdout",
     "output_type": "stream",
     "text": [
      "[INFO] Keeping all rows: 89710 rows retained.\n"
     ]
    },
    {
     "data": {
      "text/html": [
       "<div>\n",
       "<style scoped>\n",
       "    .dataframe tbody tr th:only-of-type {\n",
       "        vertical-align: middle;\n",
       "    }\n",
       "\n",
       "    .dataframe tbody tr th {\n",
       "        vertical-align: top;\n",
       "    }\n",
       "\n",
       "    .dataframe thead th {\n",
       "        text-align: right;\n",
       "    }\n",
       "</style>\n",
       "<table border=\"1\" class=\"dataframe\">\n",
       "  <thead>\n",
       "    <tr style=\"text-align: right;\">\n",
       "      <th></th>\n",
       "      <th>run_no</th>\n",
       "      <th>universe_id</th>\n",
       "      <th>universe_settings</th>\n",
       "      <th>execution_time</th>\n",
       "      <th>test_size_n</th>\n",
       "      <th>test_size_frac</th>\n",
       "      <th>fair_main_equalized_odds_difference</th>\n",
       "      <th>fair_main_equalized_odds_ratio</th>\n",
       "      <th>fair_main_demographic_parity_difference</th>\n",
       "      <th>fair_main_demographic_parity_ratio</th>\n",
       "      <th>...</th>\n",
       "      <th>perf_grp_precision_0</th>\n",
       "      <th>perf_grp_precision_1</th>\n",
       "      <th>perf_grp_false positive rate_0</th>\n",
       "      <th>perf_grp_false positive rate_1</th>\n",
       "      <th>perf_grp_false negative rate_0</th>\n",
       "      <th>perf_grp_false negative rate_1</th>\n",
       "      <th>perf_grp_selection rate_0</th>\n",
       "      <th>perf_grp_selection rate_1</th>\n",
       "      <th>perf_grp_count_0</th>\n",
       "      <th>perf_grp_count_1</th>\n",
       "    </tr>\n",
       "  </thead>\n",
       "  <tbody>\n",
       "    <tr>\n",
       "      <th>0</th>\n",
       "      <td>3</td>\n",
       "      <td>797d555d8e1fd2288714ad460da59024</td>\n",
       "      <td>{\"cutoff\": \"quantile_0.1\", \"eval_fairness_grou...</td>\n",
       "      <td>20.825754</td>\n",
       "      <td>89710</td>\n",
       "      <td>1.0</td>\n",
       "      <td>0.087442</td>\n",
       "      <td>0.909013</td>\n",
       "      <td>0.081959</td>\n",
       "      <td>0.914909</td>\n",
       "      <td>...</td>\n",
       "      <td>NaN</td>\n",
       "      <td>NaN</td>\n",
       "      <td>NaN</td>\n",
       "      <td>NaN</td>\n",
       "      <td>NaN</td>\n",
       "      <td>NaN</td>\n",
       "      <td>NaN</td>\n",
       "      <td>NaN</td>\n",
       "      <td>NaN</td>\n",
       "      <td>NaN</td>\n",
       "    </tr>\n",
       "    <tr>\n",
       "      <th>0</th>\n",
       "      <td>3</td>\n",
       "      <td>797d555d8e1fd2288714ad460da59024</td>\n",
       "      <td>{\"cutoff\": \"quantile_0.1\", \"eval_fairness_grou...</td>\n",
       "      <td>20.825754</td>\n",
       "      <td>89710</td>\n",
       "      <td>1.0</td>\n",
       "      <td>0.087442</td>\n",
       "      <td>0.909013</td>\n",
       "      <td>0.081959</td>\n",
       "      <td>0.914909</td>\n",
       "      <td>...</td>\n",
       "      <td>0.117266</td>\n",
       "      <td>0.139660</td>\n",
       "      <td>0.961039</td>\n",
       "      <td>0.873597</td>\n",
       "      <td>0.020270</td>\n",
       "      <td>0.068600</td>\n",
       "      <td>0.963194</td>\n",
       "      <td>0.881235</td>\n",
       "      <td>20540.0</td>\n",
       "      <td>69170.0</td>\n",
       "    </tr>\n",
       "    <tr>\n",
       "      <th>0</th>\n",
       "      <td>3</td>\n",
       "      <td>797d555d8e1fd2288714ad460da59024</td>\n",
       "      <td>{\"cutoff\": \"quantile_0.25\", \"eval_fairness_gro...</td>\n",
       "      <td>20.825754</td>\n",
       "      <td>89710</td>\n",
       "      <td>1.0</td>\n",
       "      <td>0.209688</td>\n",
       "      <td>0.765785</td>\n",
       "      <td>0.195181</td>\n",
       "      <td>0.783249</td>\n",
       "      <td>...</td>\n",
       "      <td>NaN</td>\n",
       "      <td>NaN</td>\n",
       "      <td>NaN</td>\n",
       "      <td>NaN</td>\n",
       "      <td>NaN</td>\n",
       "      <td>NaN</td>\n",
       "      <td>NaN</td>\n",
       "      <td>NaN</td>\n",
       "      <td>NaN</td>\n",
       "      <td>NaN</td>\n",
       "    </tr>\n",
       "    <tr>\n",
       "      <th>0</th>\n",
       "      <td>3</td>\n",
       "      <td>797d555d8e1fd2288714ad460da59024</td>\n",
       "      <td>{\"cutoff\": \"quantile_0.25\", \"eval_fairness_gro...</td>\n",
       "      <td>20.825754</td>\n",
       "      <td>89710</td>\n",
       "      <td>1.0</td>\n",
       "      <td>0.209688</td>\n",
       "      <td>0.765785</td>\n",
       "      <td>0.195181</td>\n",
       "      <td>0.783249</td>\n",
       "      <td>...</td>\n",
       "      <td>0.120404</td>\n",
       "      <td>0.156397</td>\n",
       "      <td>0.895278</td>\n",
       "      <td>0.685591</td>\n",
       "      <td>0.059544</td>\n",
       "      <td>0.165208</td>\n",
       "      <td>0.900487</td>\n",
       "      <td>0.705306</td>\n",
       "      <td>20540.0</td>\n",
       "      <td>69170.0</td>\n",
       "    </tr>\n",
       "  </tbody>\n",
       "</table>\n",
       "<p>4 rows × 50 columns</p>\n",
       "</div>"
      ],
      "text/plain": [
       "  run_no                       universe_id  \\\n",
       "0      3  797d555d8e1fd2288714ad460da59024   \n",
       "0      3  797d555d8e1fd2288714ad460da59024   \n",
       "0      3  797d555d8e1fd2288714ad460da59024   \n",
       "0      3  797d555d8e1fd2288714ad460da59024   \n",
       "\n",
       "                                   universe_settings  execution_time  \\\n",
       "0  {\"cutoff\": \"quantile_0.1\", \"eval_fairness_grou...       20.825754   \n",
       "0  {\"cutoff\": \"quantile_0.1\", \"eval_fairness_grou...       20.825754   \n",
       "0  {\"cutoff\": \"quantile_0.25\", \"eval_fairness_gro...       20.825754   \n",
       "0  {\"cutoff\": \"quantile_0.25\", \"eval_fairness_gro...       20.825754   \n",
       "\n",
       "   test_size_n  test_size_frac  fair_main_equalized_odds_difference  \\\n",
       "0        89710             1.0                             0.087442   \n",
       "0        89710             1.0                             0.087442   \n",
       "0        89710             1.0                             0.209688   \n",
       "0        89710             1.0                             0.209688   \n",
       "\n",
       "   fair_main_equalized_odds_ratio  fair_main_demographic_parity_difference  \\\n",
       "0                        0.909013                                 0.081959   \n",
       "0                        0.909013                                 0.081959   \n",
       "0                        0.765785                                 0.195181   \n",
       "0                        0.765785                                 0.195181   \n",
       "\n",
       "   fair_main_demographic_parity_ratio  ...  perf_grp_precision_0  \\\n",
       "0                            0.914909  ...                   NaN   \n",
       "0                            0.914909  ...              0.117266   \n",
       "0                            0.783249  ...                   NaN   \n",
       "0                            0.783249  ...              0.120404   \n",
       "\n",
       "   perf_grp_precision_1  perf_grp_false positive rate_0  \\\n",
       "0                   NaN                             NaN   \n",
       "0              0.139660                        0.961039   \n",
       "0                   NaN                             NaN   \n",
       "0              0.156397                        0.895278   \n",
       "\n",
       "   perf_grp_false positive rate_1  perf_grp_false negative rate_0  \\\n",
       "0                             NaN                             NaN   \n",
       "0                        0.873597                        0.020270   \n",
       "0                             NaN                             NaN   \n",
       "0                        0.685591                        0.059544   \n",
       "\n",
       "   perf_grp_false negative rate_1  perf_grp_selection rate_0  \\\n",
       "0                             NaN                        NaN   \n",
       "0                        0.068600                   0.963194   \n",
       "0                             NaN                        NaN   \n",
       "0                        0.165208                   0.900487   \n",
       "\n",
       "   perf_grp_selection rate_1  perf_grp_count_0  perf_grp_count_1  \n",
       "0                        NaN               NaN               NaN  \n",
       "0                   0.881235           20540.0           69170.0  \n",
       "0                        NaN               NaN               NaN  \n",
       "0                   0.705306           20540.0           69170.0  \n",
       "\n",
       "[4 rows x 50 columns]"
      ]
     },
     "execution_count": 64,
     "metadata": {},
     "output_type": "execute_result"
    }
   ],
   "source": [
    "final_output = universe_analysis.generate_final_output(\n",
    "    y_pred_prob=probs_test,\n",
    "    y_test=y_true,\n",
    "    org_test=org_test,\n",
    "    filter_data=filter_sub_universe_data,\n",
    "    cp_metrics_df=cp_metrics_df,\n",
    "    save=True,\n",
    ")\n",
    "final_output"
   ]
  },
  {
   "cell_type": "code",
   "execution_count": null,
   "id": "8b80a1ff",
   "metadata": {
    "papermill": {
     "duration": 0.015546,
     "end_time": "2025-08-19T19:02:18.318082",
     "exception": false,
     "start_time": "2025-08-19T19:02:18.302536",
     "status": "completed"
    },
    "tags": []
   },
   "outputs": [],
   "source": []
  },
  {
   "cell_type": "code",
   "execution_count": null,
   "id": "275c9fad",
   "metadata": {
    "papermill": {
     "duration": 0.014441,
     "end_time": "2025-08-19T19:02:18.347771",
     "exception": false,
     "start_time": "2025-08-19T19:02:18.333330",
     "status": "completed"
    },
    "tags": []
   },
   "outputs": [],
   "source": []
  }
 ],
 "metadata": {
  "celltoolbar": "Tags",
  "kernelspec": {
   "display_name": "Python (CMA Fairness)",
   "language": "python",
   "name": "cma_fair_env"
  },
  "language_info": {
   "codemirror_mode": {
    "name": "ipython",
    "version": 3
   },
   "file_extension": ".py",
   "mimetype": "text/x-python",
   "name": "python",
   "nbconvert_exporter": "python",
   "pygments_lexer": "ipython3",
   "version": "3.10.12"
  },
  "papermill": {
   "default_parameters": {},
   "duration": 31.533433,
   "end_time": "2025-08-19T19:02:19.286168",
   "environment_variables": {},
   "exception": null,
   "input_path": "universe_analysis.ipynb",
   "output_path": "output/runs/3/notebooks/m_3-797d555d8e1fd2288714ad460da59024.ipynb",
   "parameters": {
    "output_dir": "output",
    "run_no": "3",
    "seed": "2023",
    "universe": "{\"cutoff\": [\"quantile_0.1\", \"quantile_0.25\"], \"eval_fairness_grouping\": [\"majority-minority\", \"nationality-all\"], \"exclude_features\": \"nationality-sex\", \"exclude_subgroups\": \"drop-non-german\", \"model\": \"penalized_logreg\", \"scale\": \"do-not-scale\", \"training_size\": \"1k\", \"training_year\": \"2012_14\"}",
    "universe_id": "797d555d8e1fd2288714ad460da59024"
   },
   "start_time": "2025-08-19T19:01:47.752735",
   "version": "2.6.0"
  }
 },
 "nbformat": 4,
 "nbformat_minor": 5
}