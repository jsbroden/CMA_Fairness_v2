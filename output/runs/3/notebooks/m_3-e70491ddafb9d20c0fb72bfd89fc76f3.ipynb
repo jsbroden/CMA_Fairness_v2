{
 "cells": [
  {
   "cell_type": "markdown",
   "id": "ef23dbb3",
   "metadata": {
    "papermill": {
     "duration": 0.02731,
     "end_time": "2025-08-19T18:42:27.574712",
     "exception": false,
     "start_time": "2025-08-19T18:42:27.547402",
     "status": "completed"
    },
    "tags": []
   },
   "source": [
    "# Setup"
   ]
  },
  {
   "cell_type": "code",
   "execution_count": 1,
   "id": "0bc8e7dc",
   "metadata": {
    "execution": {
     "iopub.execute_input": "2025-08-19T18:42:27.594823Z",
     "iopub.status.busy": "2025-08-19T18:42:27.593838Z",
     "iopub.status.idle": "2025-08-19T18:42:27.605363Z",
     "shell.execute_reply": "2025-08-19T18:42:27.604692Z"
    },
    "papermill": {
     "duration": 0.023276,
     "end_time": "2025-08-19T18:42:27.606635",
     "exception": false,
     "start_time": "2025-08-19T18:42:27.583359",
     "status": "completed"
    },
    "tags": []
   },
   "outputs": [
    {
     "name": "stdout",
     "output_type": "stream",
     "text": [
      "/dss/dsshome1/0C/ra93lal2/cma/CMA_Fairness_v2\n"
     ]
    },
    {
     "name": "stderr",
     "output_type": "stream",
     "text": [
      "/dss/dsshome1/0C/ra93lal2/.local/share/virtualenvs/CMA_Fairness_v2-3j10GkSs/lib/python3.10/site-packages/IPython/core/magics/osm.py:393: UserWarning: This is now an optional IPython functionality, using bookmarks requires you to install the `pickleshare` library.\n",
      "  bkms = self.shell.db.get('bookmarks', {})\n",
      "/dss/dsshome1/0C/ra93lal2/.local/share/virtualenvs/CMA_Fairness_v2-3j10GkSs/lib/python3.10/site-packages/IPython/core/magics/osm.py:417: UserWarning: This is now an optional IPython functionality, setting dhist requires you to install the `pickleshare` library.\n",
      "  self.shell.db['dhist'] = compress_dhist(dhist)[-100:]\n"
     ]
    }
   ],
   "source": [
    "%cd ~/cma/CMA_Fairness_v2"
   ]
  },
  {
   "cell_type": "markdown",
   "id": "9d235661",
   "metadata": {
    "papermill": {
     "duration": 0.012949,
     "end_time": "2025-08-19T18:42:27.630575",
     "exception": false,
     "start_time": "2025-08-19T18:42:27.617626",
     "status": "completed"
    },
    "tags": []
   },
   "source": [
    "The following cell holds the definition of our parameters, these values can be overriden by rendering the with e.g. the following command:\n",
    "\n",
    "papermill -p alpha 0.2 -p ratio 0.3 universe_analysis.ipynb output/test_run.ipynb"
   ]
  },
  {
   "cell_type": "code",
   "execution_count": 2,
   "id": "4a789d8e",
   "metadata": {
    "execution": {
     "iopub.execute_input": "2025-08-19T18:42:27.651619Z",
     "iopub.status.busy": "2025-08-19T18:42:27.651144Z",
     "iopub.status.idle": "2025-08-19T18:42:27.655791Z",
     "shell.execute_reply": "2025-08-19T18:42:27.655098Z"
    },
    "papermill": {
     "duration": 0.015377,
     "end_time": "2025-08-19T18:42:27.656939",
     "exception": false,
     "start_time": "2025-08-19T18:42:27.641562",
     "status": "completed"
    },
    "tags": []
   },
   "outputs": [
    {
     "name": "stdout",
     "output_type": "stream",
     "text": [
      "Current working directory: /dss/dsshome1/0C/ra93lal2/cma/CMA_Fairness_v2\n"
     ]
    }
   ],
   "source": [
    "import os\n",
    "print(\"Current working directory:\", os.getcwd())"
   ]
  },
  {
   "cell_type": "code",
   "execution_count": 3,
   "id": "4132aaed",
   "metadata": {
    "execution": {
     "iopub.execute_input": "2025-08-19T18:42:27.675679Z",
     "iopub.status.busy": "2025-08-19T18:42:27.675297Z",
     "iopub.status.idle": "2025-08-19T18:42:27.679859Z",
     "shell.execute_reply": "2025-08-19T18:42:27.679196Z"
    },
    "papermill": {
     "duration": 0.015094,
     "end_time": "2025-08-19T18:42:27.680963",
     "exception": false,
     "start_time": "2025-08-19T18:42:27.665869",
     "status": "completed"
    },
    "tags": [
     "parameters"
    ]
   },
   "outputs": [],
   "source": [
    "run_no = 0\n",
    "universe_id = \"test\"\n",
    "universe = {\n",
    "    \"training_size\": \"5k\", # \"25k\", \"5k\", \"1k\"\n",
    "    \"training_year\": \"2012_14\", # \"2014\", \"2012_14\", \"2010_14\"\n",
    "    \"scale\": \"scale\", # \"scale\", \"do-not-scale\",\n",
    "    \"model\": \"elasticnet\", # \"logreg\", \"penalized_logreg\", \"rf\", \"gbm\", \"elasticnet\"\n",
    "    \"cutoff\": [\"quantile_0.15\", \"quantile_0.30\"],\n",
    "    \"exclude_features\": \"age\", # \"none\", \"nationality\", \"sex\", \"nationality-sex\", \"age\"\n",
    "    \"exclude_subgroups\": \"drop-non-german\", # \"keep-all\", \"drop-non-german\"\n",
    "    \"eval_fairness_grouping\": [\"majority-minority\", \"nationality-all\"]\n",
    "}\n",
    "\n",
    "output_dir=\"./output\"\n",
    "seed=0"
   ]
  },
  {
   "cell_type": "code",
   "execution_count": 4,
   "id": "126b7c11",
   "metadata": {
    "execution": {
     "iopub.execute_input": "2025-08-19T18:42:27.700414Z",
     "iopub.status.busy": "2025-08-19T18:42:27.699766Z",
     "iopub.status.idle": "2025-08-19T18:42:27.704314Z",
     "shell.execute_reply": "2025-08-19T18:42:27.703472Z"
    },
    "papermill": {
     "duration": 0.015361,
     "end_time": "2025-08-19T18:42:27.705617",
     "exception": false,
     "start_time": "2025-08-19T18:42:27.690256",
     "status": "completed"
    },
    "tags": [
     "injected-parameters"
    ]
   },
   "outputs": [],
   "source": [
    "# Parameters\n",
    "universe_id = \"e70491ddafb9d20c0fb72bfd89fc76f3\"\n",
    "run_no = \"3\"\n",
    "universe = \"{\\\"cutoff\\\": [\\\"quantile_0.1\\\", \\\"quantile_0.25\\\"], \\\"eval_fairness_grouping\\\": [\\\"majority-minority\\\", \\\"nationality-all\\\"], \\\"exclude_features\\\": \\\"age\\\", \\\"exclude_subgroups\\\": \\\"keep-all\\\", \\\"model\\\": \\\"rf\\\", \\\"scale\\\": \\\"scale\\\", \\\"training_size\\\": \\\"5k\\\", \\\"training_year\\\": \\\"2010_14\\\"}\"\n",
    "output_dir = \"output\"\n",
    "seed = \"2023\"\n"
   ]
  },
  {
   "cell_type": "code",
   "execution_count": 5,
   "id": "a5d7941f",
   "metadata": {
    "execution": {
     "iopub.execute_input": "2025-08-19T18:42:27.728665Z",
     "iopub.status.busy": "2025-08-19T18:42:27.727784Z",
     "iopub.status.idle": "2025-08-19T18:42:27.820102Z",
     "shell.execute_reply": "2025-08-19T18:42:27.819172Z"
    },
    "papermill": {
     "duration": 0.107191,
     "end_time": "2025-08-19T18:42:27.823276",
     "exception": false,
     "start_time": "2025-08-19T18:42:27.716085",
     "status": "completed"
    },
    "tags": []
   },
   "outputs": [],
   "source": [
    "import json\n",
    "if isinstance(universe, str):\n",
    "    universe = json.loads(universe)"
   ]
  },
  {
   "cell_type": "code",
   "execution_count": 6,
   "id": "7076ccb1",
   "metadata": {
    "execution": {
     "iopub.execute_input": "2025-08-19T18:42:27.863563Z",
     "iopub.status.busy": "2025-08-19T18:42:27.863068Z",
     "iopub.status.idle": "2025-08-19T18:42:27.899856Z",
     "shell.execute_reply": "2025-08-19T18:42:27.898980Z"
    },
    "papermill": {
     "duration": 0.052348,
     "end_time": "2025-08-19T18:42:27.902672",
     "exception": false,
     "start_time": "2025-08-19T18:42:27.850324",
     "status": "completed"
    },
    "tags": []
   },
   "outputs": [],
   "source": [
    "# Auto-reload the custom package\n",
    "%load_ext autoreload\n",
    "%autoreload 1\n",
    "%aimport fairness_multiverse"
   ]
  },
  {
   "cell_type": "code",
   "execution_count": 7,
   "id": "94c8eb93",
   "metadata": {
    "execution": {
     "iopub.execute_input": "2025-08-19T18:42:27.939783Z",
     "iopub.status.busy": "2025-08-19T18:42:27.938592Z",
     "iopub.status.idle": "2025-08-19T18:42:29.680744Z",
     "shell.execute_reply": "2025-08-19T18:42:29.679611Z"
    },
    "papermill": {
     "duration": 1.759316,
     "end_time": "2025-08-19T18:42:29.683760",
     "exception": false,
     "start_time": "2025-08-19T18:42:27.924444",
     "status": "completed"
    },
    "tags": []
   },
   "outputs": [],
   "source": [
    "from fairness_multiverse.universe import UniverseAnalysis\n",
    "\n",
    "universe_analysis = UniverseAnalysis(\n",
    "    run_no = run_no,\n",
    "    universe_id = universe_id,\n",
    "    universe = universe,\n",
    "    output_dir=output_dir,\n",
    ")"
   ]
  },
  {
   "cell_type": "code",
   "execution_count": 8,
   "id": "2a6381cf",
   "metadata": {
    "execution": {
     "iopub.execute_input": "2025-08-19T18:42:29.725019Z",
     "iopub.status.busy": "2025-08-19T18:42:29.723665Z",
     "iopub.status.idle": "2025-08-19T18:42:29.733401Z",
     "shell.execute_reply": "2025-08-19T18:42:29.732225Z"
    },
    "papermill": {
     "duration": 0.029097,
     "end_time": "2025-08-19T18:42:29.735355",
     "exception": false,
     "start_time": "2025-08-19T18:42:29.706258",
     "status": "completed"
    },
    "tags": []
   },
   "outputs": [
    {
     "name": "stdout",
     "output_type": "stream",
     "text": [
      "Using Seed: 2023\n"
     ]
    }
   ],
   "source": [
    "import numpy as np\n",
    "parsed_seed = int(seed)\n",
    "np.random.seed(parsed_seed)\n",
    "print(f\"Using Seed: {parsed_seed}\")"
   ]
  },
  {
   "cell_type": "markdown",
   "id": "b6e958b4",
   "metadata": {
    "papermill": {
     "duration": 0.00936,
     "end_time": "2025-08-19T18:42:29.754093",
     "exception": false,
     "start_time": "2025-08-19T18:42:29.744733",
     "status": "completed"
    },
    "tags": []
   },
   "source": [
    "# Loading Data"
   ]
  },
  {
   "cell_type": "code",
   "execution_count": 9,
   "id": "98701482",
   "metadata": {
    "execution": {
     "iopub.execute_input": "2025-08-19T18:42:29.775142Z",
     "iopub.status.busy": "2025-08-19T18:42:29.773791Z",
     "iopub.status.idle": "2025-08-19T18:42:40.270241Z",
     "shell.execute_reply": "2025-08-19T18:42:40.268883Z"
    },
    "papermill": {
     "duration": 10.508749,
     "end_time": "2025-08-19T18:42:40.271952",
     "exception": false,
     "start_time": "2025-08-19T18:42:29.763203",
     "status": "completed"
    },
    "tags": []
   },
   "outputs": [
    {
     "name": "stdout",
     "output_type": "stream",
     "text": [
      "Loading SIAB data from cache: data/siab_cached.csv.gz\n"
     ]
    },
    {
     "name": "stdout",
     "output_type": "stream",
     "text": [
      "(643690, 164)\n"
     ]
    }
   ],
   "source": [
    "from pathlib import Path\n",
    "import pandas as pd\n",
    "\n",
    "# File paths\n",
    "raw_file = Path(\"data/raw/siab.csv\")\n",
    "cache_file = Path(\"data/siab_cached.csv.gz\")\n",
    "\n",
    "# Ensure cache directory exists\n",
    "cache_file.parent.mkdir(parents=True, exist_ok=True)\n",
    "\n",
    "# Load with simple caching\n",
    "if cache_file.exists():\n",
    "    print(f\"Loading SIAB data from cache: {cache_file}\")\n",
    "    siab = pd.read_csv(cache_file, compression='gzip')\n",
    "else:\n",
    "    print(f\"Cache not found. Reading raw SIAB data: {raw_file}\")\n",
    "    siab = pd.read_csv(raw_file)\n",
    "    siab.to_csv(cache_file, index=False, compression='gzip')\n",
    "    print(f\"Cached SIAB data to: {cache_file}\")\n",
    "\n",
    "print(siab.shape)"
   ]
  },
  {
   "cell_type": "code",
   "execution_count": 10,
   "id": "058d2abb",
   "metadata": {
    "execution": {
     "iopub.execute_input": "2025-08-19T18:42:40.298650Z",
     "iopub.status.busy": "2025-08-19T18:42:40.297909Z",
     "iopub.status.idle": "2025-08-19T18:42:40.512282Z",
     "shell.execute_reply": "2025-08-19T18:42:40.510487Z"
    },
    "papermill": {
     "duration": 0.227142,
     "end_time": "2025-08-19T18:42:40.513878",
     "exception": false,
     "start_time": "2025-08-19T18:42:40.286736",
     "status": "completed"
    },
    "tags": []
   },
   "outputs": [
    {
     "data": {
      "text/html": [
       "<div>\n",
       "<style scoped>\n",
       "    .dataframe tbody tr th:only-of-type {\n",
       "        vertical-align: middle;\n",
       "    }\n",
       "\n",
       "    .dataframe tbody tr th {\n",
       "        vertical-align: top;\n",
       "    }\n",
       "\n",
       "    .dataframe thead th {\n",
       "        text-align: right;\n",
       "    }\n",
       "</style>\n",
       "<table border=\"1\" class=\"dataframe\">\n",
       "  <thead>\n",
       "    <tr style=\"text-align: right;\">\n",
       "      <th></th>\n",
       "      <th>persnr</th>\n",
       "      <th>year</th>\n",
       "      <th>nrEntry</th>\n",
       "      <th>ltue</th>\n",
       "      <th>employed_before</th>\n",
       "      <th>receipt_leh_before</th>\n",
       "      <th>receipt_lhg_before</th>\n",
       "      <th>se_before</th>\n",
       "      <th>ASU_notue_seeking_before</th>\n",
       "      <th>ASU_other_before</th>\n",
       "      <th>...</th>\n",
       "      <th>minijob_tot_dur_byage</th>\n",
       "      <th>ft_tot_dur_byage</th>\n",
       "      <th>befrist_tot_dur_byage</th>\n",
       "      <th>leih_tot_dur_byage</th>\n",
       "      <th>LHG_tot_dur_byage</th>\n",
       "      <th>LEH_tot_dur_byage</th>\n",
       "      <th>almp_tot_dur_byage</th>\n",
       "      <th>almp_aw_tot_dur_byage</th>\n",
       "      <th>se_tot_dur_byage</th>\n",
       "      <th>seeking1_tot_dur_byage</th>\n",
       "    </tr>\n",
       "  </thead>\n",
       "  <tbody>\n",
       "    <tr>\n",
       "      <th>0</th>\n",
       "      <td>7</td>\n",
       "      <td>2015</td>\n",
       "      <td>1</td>\n",
       "      <td>0</td>\n",
       "      <td>1</td>\n",
       "      <td>0</td>\n",
       "      <td>0</td>\n",
       "      <td>0</td>\n",
       "      <td>1</td>\n",
       "      <td>0</td>\n",
       "      <td>...</td>\n",
       "      <td>0.000000</td>\n",
       "      <td>0.000000</td>\n",
       "      <td>15.043478</td>\n",
       "      <td>0.000000</td>\n",
       "      <td>0.000000</td>\n",
       "      <td>0.000000</td>\n",
       "      <td>0.000000</td>\n",
       "      <td>0.000000</td>\n",
       "      <td>0.000000</td>\n",
       "      <td>0.000000</td>\n",
       "    </tr>\n",
       "    <tr>\n",
       "      <th>1</th>\n",
       "      <td>18</td>\n",
       "      <td>2010</td>\n",
       "      <td>1</td>\n",
       "      <td>1</td>\n",
       "      <td>0</td>\n",
       "      <td>0</td>\n",
       "      <td>0</td>\n",
       "      <td>0</td>\n",
       "      <td>0</td>\n",
       "      <td>0</td>\n",
       "      <td>...</td>\n",
       "      <td>0.000000</td>\n",
       "      <td>0.000000</td>\n",
       "      <td>0.000000</td>\n",
       "      <td>0.000000</td>\n",
       "      <td>0.000000</td>\n",
       "      <td>0.000000</td>\n",
       "      <td>0.000000</td>\n",
       "      <td>0.000000</td>\n",
       "      <td>0.000000</td>\n",
       "      <td>0.000000</td>\n",
       "    </tr>\n",
       "    <tr>\n",
       "      <th>2</th>\n",
       "      <td>18</td>\n",
       "      <td>2011</td>\n",
       "      <td>2</td>\n",
       "      <td>0</td>\n",
       "      <td>1</td>\n",
       "      <td>0</td>\n",
       "      <td>1</td>\n",
       "      <td>0</td>\n",
       "      <td>1</td>\n",
       "      <td>0</td>\n",
       "      <td>...</td>\n",
       "      <td>2.714286</td>\n",
       "      <td>2.714286</td>\n",
       "      <td>0.000000</td>\n",
       "      <td>0.000000</td>\n",
       "      <td>10.775510</td>\n",
       "      <td>0.000000</td>\n",
       "      <td>8.367347</td>\n",
       "      <td>0.000000</td>\n",
       "      <td>0.000000</td>\n",
       "      <td>9.836735</td>\n",
       "    </tr>\n",
       "    <tr>\n",
       "      <th>3</th>\n",
       "      <td>18</td>\n",
       "      <td>2012</td>\n",
       "      <td>3</td>\n",
       "      <td>0</td>\n",
       "      <td>1</td>\n",
       "      <td>0</td>\n",
       "      <td>1</td>\n",
       "      <td>0</td>\n",
       "      <td>1</td>\n",
       "      <td>0</td>\n",
       "      <td>...</td>\n",
       "      <td>4.200000</td>\n",
       "      <td>4.200000</td>\n",
       "      <td>0.000000</td>\n",
       "      <td>0.000000</td>\n",
       "      <td>12.100000</td>\n",
       "      <td>0.000000</td>\n",
       "      <td>9.400000</td>\n",
       "      <td>0.000000</td>\n",
       "      <td>0.000000</td>\n",
       "      <td>9.960000</td>\n",
       "    </tr>\n",
       "    <tr>\n",
       "      <th>4</th>\n",
       "      <td>18</td>\n",
       "      <td>2012</td>\n",
       "      <td>4</td>\n",
       "      <td>0</td>\n",
       "      <td>1</td>\n",
       "      <td>0</td>\n",
       "      <td>1</td>\n",
       "      <td>0</td>\n",
       "      <td>1</td>\n",
       "      <td>0</td>\n",
       "      <td>...</td>\n",
       "      <td>5.460000</td>\n",
       "      <td>5.460000</td>\n",
       "      <td>0.000000</td>\n",
       "      <td>0.000000</td>\n",
       "      <td>13.360000</td>\n",
       "      <td>0.000000</td>\n",
       "      <td>10.320000</td>\n",
       "      <td>0.000000</td>\n",
       "      <td>0.000000</td>\n",
       "      <td>10.280000</td>\n",
       "    </tr>\n",
       "    <tr>\n",
       "      <th>...</th>\n",
       "      <td>...</td>\n",
       "      <td>...</td>\n",
       "      <td>...</td>\n",
       "      <td>...</td>\n",
       "      <td>...</td>\n",
       "      <td>...</td>\n",
       "      <td>...</td>\n",
       "      <td>...</td>\n",
       "      <td>...</td>\n",
       "      <td>...</td>\n",
       "      <td>...</td>\n",
       "      <td>...</td>\n",
       "      <td>...</td>\n",
       "      <td>...</td>\n",
       "      <td>...</td>\n",
       "      <td>...</td>\n",
       "      <td>...</td>\n",
       "      <td>...</td>\n",
       "      <td>...</td>\n",
       "      <td>...</td>\n",
       "      <td>...</td>\n",
       "    </tr>\n",
       "    <tr>\n",
       "      <th>643685</th>\n",
       "      <td>1827860</td>\n",
       "      <td>2013</td>\n",
       "      <td>1</td>\n",
       "      <td>0</td>\n",
       "      <td>0</td>\n",
       "      <td>0</td>\n",
       "      <td>1</td>\n",
       "      <td>0</td>\n",
       "      <td>0</td>\n",
       "      <td>1</td>\n",
       "      <td>...</td>\n",
       "      <td>0.000000</td>\n",
       "      <td>0.000000</td>\n",
       "      <td>0.000000</td>\n",
       "      <td>0.000000</td>\n",
       "      <td>0.612903</td>\n",
       "      <td>0.000000</td>\n",
       "      <td>0.000000</td>\n",
       "      <td>0.000000</td>\n",
       "      <td>0.000000</td>\n",
       "      <td>0.000000</td>\n",
       "    </tr>\n",
       "    <tr>\n",
       "      <th>643686</th>\n",
       "      <td>1827860</td>\n",
       "      <td>2015</td>\n",
       "      <td>2</td>\n",
       "      <td>1</td>\n",
       "      <td>0</td>\n",
       "      <td>0</td>\n",
       "      <td>1</td>\n",
       "      <td>0</td>\n",
       "      <td>1</td>\n",
       "      <td>0</td>\n",
       "      <td>...</td>\n",
       "      <td>0.000000</td>\n",
       "      <td>0.000000</td>\n",
       "      <td>0.212121</td>\n",
       "      <td>0.212121</td>\n",
       "      <td>17.363636</td>\n",
       "      <td>0.000000</td>\n",
       "      <td>8.909091</td>\n",
       "      <td>0.000000</td>\n",
       "      <td>0.000000</td>\n",
       "      <td>7.121212</td>\n",
       "    </tr>\n",
       "    <tr>\n",
       "      <th>643687</th>\n",
       "      <td>1827860</td>\n",
       "      <td>2016</td>\n",
       "      <td>3</td>\n",
       "      <td>1</td>\n",
       "      <td>0</td>\n",
       "      <td>0</td>\n",
       "      <td>1</td>\n",
       "      <td>1</td>\n",
       "      <td>0</td>\n",
       "      <td>1</td>\n",
       "      <td>...</td>\n",
       "      <td>0.000000</td>\n",
       "      <td>0.000000</td>\n",
       "      <td>0.294118</td>\n",
       "      <td>0.205882</td>\n",
       "      <td>34.705882</td>\n",
       "      <td>0.000000</td>\n",
       "      <td>10.352941</td>\n",
       "      <td>1.705882</td>\n",
       "      <td>1.705882</td>\n",
       "      <td>23.911765</td>\n",
       "    </tr>\n",
       "    <tr>\n",
       "      <th>643688</th>\n",
       "      <td>1827869</td>\n",
       "      <td>2013</td>\n",
       "      <td>1</td>\n",
       "      <td>1</td>\n",
       "      <td>1</td>\n",
       "      <td>0</td>\n",
       "      <td>0</td>\n",
       "      <td>0</td>\n",
       "      <td>1</td>\n",
       "      <td>0</td>\n",
       "      <td>...</td>\n",
       "      <td>0.000000</td>\n",
       "      <td>0.000000</td>\n",
       "      <td>0.000000</td>\n",
       "      <td>0.000000</td>\n",
       "      <td>0.000000</td>\n",
       "      <td>0.525424</td>\n",
       "      <td>0.000000</td>\n",
       "      <td>0.000000</td>\n",
       "      <td>0.000000</td>\n",
       "      <td>0.000000</td>\n",
       "    </tr>\n",
       "    <tr>\n",
       "      <th>643689</th>\n",
       "      <td>1827869</td>\n",
       "      <td>2014</td>\n",
       "      <td>2</td>\n",
       "      <td>0</td>\n",
       "      <td>0</td>\n",
       "      <td>1</td>\n",
       "      <td>0</td>\n",
       "      <td>0</td>\n",
       "      <td>1</td>\n",
       "      <td>0</td>\n",
       "      <td>...</td>\n",
       "      <td>0.000000</td>\n",
       "      <td>0.666667</td>\n",
       "      <td>0.666667</td>\n",
       "      <td>0.000000</td>\n",
       "      <td>0.000000</td>\n",
       "      <td>8.950000</td>\n",
       "      <td>1.033333</td>\n",
       "      <td>0.083333</td>\n",
       "      <td>0.083333</td>\n",
       "      <td>8.133333</td>\n",
       "    </tr>\n",
       "  </tbody>\n",
       "</table>\n",
       "<p>643690 rows × 164 columns</p>\n",
       "</div>"
      ],
      "text/plain": [
       "         persnr  year  nrEntry  ltue  employed_before  receipt_leh_before  \\\n",
       "0             7  2015        1     0                1                   0   \n",
       "1            18  2010        1     1                0                   0   \n",
       "2            18  2011        2     0                1                   0   \n",
       "3            18  2012        3     0                1                   0   \n",
       "4            18  2012        4     0                1                   0   \n",
       "...         ...   ...      ...   ...              ...                 ...   \n",
       "643685  1827860  2013        1     0                0                   0   \n",
       "643686  1827860  2015        2     1                0                   0   \n",
       "643687  1827860  2016        3     1                0                   0   \n",
       "643688  1827869  2013        1     1                1                   0   \n",
       "643689  1827869  2014        2     0                0                   1   \n",
       "\n",
       "        receipt_lhg_before  se_before  ASU_notue_seeking_before  \\\n",
       "0                        0          0                         1   \n",
       "1                        0          0                         0   \n",
       "2                        1          0                         1   \n",
       "3                        1          0                         1   \n",
       "4                        1          0                         1   \n",
       "...                    ...        ...                       ...   \n",
       "643685                   1          0                         0   \n",
       "643686                   1          0                         1   \n",
       "643687                   1          1                         0   \n",
       "643688                   0          0                         1   \n",
       "643689                   0          0                         1   \n",
       "\n",
       "        ASU_other_before  ...  minijob_tot_dur_byage  ft_tot_dur_byage  \\\n",
       "0                      0  ...               0.000000          0.000000   \n",
       "1                      0  ...               0.000000          0.000000   \n",
       "2                      0  ...               2.714286          2.714286   \n",
       "3                      0  ...               4.200000          4.200000   \n",
       "4                      0  ...               5.460000          5.460000   \n",
       "...                  ...  ...                    ...               ...   \n",
       "643685                 1  ...               0.000000          0.000000   \n",
       "643686                 0  ...               0.000000          0.000000   \n",
       "643687                 1  ...               0.000000          0.000000   \n",
       "643688                 0  ...               0.000000          0.000000   \n",
       "643689                 0  ...               0.000000          0.666667   \n",
       "\n",
       "        befrist_tot_dur_byage  leih_tot_dur_byage  LHG_tot_dur_byage  \\\n",
       "0                   15.043478            0.000000           0.000000   \n",
       "1                    0.000000            0.000000           0.000000   \n",
       "2                    0.000000            0.000000          10.775510   \n",
       "3                    0.000000            0.000000          12.100000   \n",
       "4                    0.000000            0.000000          13.360000   \n",
       "...                       ...                 ...                ...   \n",
       "643685               0.000000            0.000000           0.612903   \n",
       "643686               0.212121            0.212121          17.363636   \n",
       "643687               0.294118            0.205882          34.705882   \n",
       "643688               0.000000            0.000000           0.000000   \n",
       "643689               0.666667            0.000000           0.000000   \n",
       "\n",
       "        LEH_tot_dur_byage  almp_tot_dur_byage  almp_aw_tot_dur_byage  \\\n",
       "0                0.000000            0.000000               0.000000   \n",
       "1                0.000000            0.000000               0.000000   \n",
       "2                0.000000            8.367347               0.000000   \n",
       "3                0.000000            9.400000               0.000000   \n",
       "4                0.000000           10.320000               0.000000   \n",
       "...                   ...                 ...                    ...   \n",
       "643685           0.000000            0.000000               0.000000   \n",
       "643686           0.000000            8.909091               0.000000   \n",
       "643687           0.000000           10.352941               1.705882   \n",
       "643688           0.525424            0.000000               0.000000   \n",
       "643689           8.950000            1.033333               0.083333   \n",
       "\n",
       "        se_tot_dur_byage  seeking1_tot_dur_byage  \n",
       "0               0.000000                0.000000  \n",
       "1               0.000000                0.000000  \n",
       "2               0.000000                9.836735  \n",
       "3               0.000000                9.960000  \n",
       "4               0.000000               10.280000  \n",
       "...                  ...                     ...  \n",
       "643685          0.000000                0.000000  \n",
       "643686          0.000000                7.121212  \n",
       "643687          1.705882               23.911765  \n",
       "643688          0.000000                0.000000  \n",
       "643689          0.083333                8.133333  \n",
       "\n",
       "[643690 rows x 164 columns]"
      ]
     },
     "execution_count": 10,
     "metadata": {},
     "output_type": "execute_result"
    }
   ],
   "source": [
    "siab"
   ]
  },
  {
   "cell_type": "markdown",
   "id": "1f87e805",
   "metadata": {
    "papermill": {
     "duration": 0.009468,
     "end_time": "2025-08-19T18:42:40.534510",
     "exception": false,
     "start_time": "2025-08-19T18:42:40.525042",
     "status": "completed"
    },
    "tags": []
   },
   "source": [
    "# Splitting Data and Setting Training Data Size"
   ]
  },
  {
   "cell_type": "code",
   "execution_count": 11,
   "id": "910ae358",
   "metadata": {
    "execution": {
     "iopub.execute_input": "2025-08-19T18:42:40.559742Z",
     "iopub.status.busy": "2025-08-19T18:42:40.556166Z",
     "iopub.status.idle": "2025-08-19T18:42:41.688525Z",
     "shell.execute_reply": "2025-08-19T18:42:41.686886Z"
    },
    "papermill": {
     "duration": 1.146366,
     "end_time": "2025-08-19T18:42:41.690324",
     "exception": false,
     "start_time": "2025-08-19T18:42:40.543958",
     "status": "completed"
    },
    "tags": []
   },
   "outputs": [],
   "source": [
    "from fairness_multiverse.universe import sample_by_year_size\n",
    "\n",
    "siab_train = sample_by_year_size(siab,\n",
    "                               training_year=universe[\"training_year\"],\n",
    "                               training_size=universe[\"training_size\"])"
   ]
  },
  {
   "cell_type": "code",
   "execution_count": 12,
   "id": "919c8ff5",
   "metadata": {
    "execution": {
     "iopub.execute_input": "2025-08-19T18:42:41.716861Z",
     "iopub.status.busy": "2025-08-19T18:42:41.716235Z",
     "iopub.status.idle": "2025-08-19T18:42:41.725801Z",
     "shell.execute_reply": "2025-08-19T18:42:41.724939Z"
    },
    "papermill": {
     "duration": 0.029631,
     "end_time": "2025-08-19T18:42:41.730050",
     "exception": false,
     "start_time": "2025-08-19T18:42:41.700419",
     "status": "completed"
    },
    "tags": []
   },
   "outputs": [
    {
     "data": {
      "text/plain": [
       "(5000, 164)"
      ]
     },
     "execution_count": 12,
     "metadata": {},
     "output_type": "execute_result"
    }
   ],
   "source": [
    "siab_train.shape"
   ]
  },
  {
   "cell_type": "code",
   "execution_count": 13,
   "id": "feb13bf4",
   "metadata": {
    "execution": {
     "iopub.execute_input": "2025-08-19T18:42:41.752448Z",
     "iopub.status.busy": "2025-08-19T18:42:41.752145Z",
     "iopub.status.idle": "2025-08-19T18:42:41.761843Z",
     "shell.execute_reply": "2025-08-19T18:42:41.760972Z"
    },
    "papermill": {
     "duration": 0.022198,
     "end_time": "2025-08-19T18:42:41.763388",
     "exception": false,
     "start_time": "2025-08-19T18:42:41.741190",
     "status": "completed"
    },
    "tags": []
   },
   "outputs": [
    {
     "data": {
      "text/plain": [
       "year\n",
       "2010    1000\n",
       "2011    1000\n",
       "2012    1000\n",
       "2013    1000\n",
       "2014    1000\n",
       "dtype: int64"
      ]
     },
     "metadata": {},
     "output_type": "display_data"
    }
   ],
   "source": [
    "display(siab_train.groupby(\"year\").size())"
   ]
  },
  {
   "cell_type": "code",
   "execution_count": 14,
   "id": "0997782f",
   "metadata": {
    "execution": {
     "iopub.execute_input": "2025-08-19T18:42:41.785693Z",
     "iopub.status.busy": "2025-08-19T18:42:41.785365Z",
     "iopub.status.idle": "2025-08-19T18:42:42.078662Z",
     "shell.execute_reply": "2025-08-19T18:42:42.077484Z"
    },
    "papermill": {
     "duration": 0.306413,
     "end_time": "2025-08-19T18:42:42.080317",
     "exception": false,
     "start_time": "2025-08-19T18:42:41.773904",
     "status": "completed"
    },
    "tags": []
   },
   "outputs": [],
   "source": [
    "#siab_train = siab_s[siab_s.year < 2015]\n",
    "siab_calib = siab[siab.year == 2015]\n",
    "siab_test = siab[siab.year == 2016]"
   ]
  },
  {
   "cell_type": "code",
   "execution_count": 15,
   "id": "2c1e4012",
   "metadata": {
    "execution": {
     "iopub.execute_input": "2025-08-19T18:42:42.102362Z",
     "iopub.status.busy": "2025-08-19T18:42:42.101838Z",
     "iopub.status.idle": "2025-08-19T18:42:42.108205Z",
     "shell.execute_reply": "2025-08-19T18:42:42.107387Z"
    },
    "papermill": {
     "duration": 0.019068,
     "end_time": "2025-08-19T18:42:42.109803",
     "exception": false,
     "start_time": "2025-08-19T18:42:42.090735",
     "status": "completed"
    },
    "tags": []
   },
   "outputs": [],
   "source": [
    "#siab_calib.shape"
   ]
  },
  {
   "cell_type": "code",
   "execution_count": 16,
   "id": "f66b54ca",
   "metadata": {
    "execution": {
     "iopub.execute_input": "2025-08-19T18:42:42.132918Z",
     "iopub.status.busy": "2025-08-19T18:42:42.131881Z",
     "iopub.status.idle": "2025-08-19T18:42:42.138323Z",
     "shell.execute_reply": "2025-08-19T18:42:42.137290Z"
    },
    "papermill": {
     "duration": 0.01902,
     "end_time": "2025-08-19T18:42:42.140014",
     "exception": false,
     "start_time": "2025-08-19T18:42:42.120994",
     "status": "completed"
    },
    "tags": []
   },
   "outputs": [],
   "source": [
    "#siab_test.shape"
   ]
  },
  {
   "cell_type": "code",
   "execution_count": 17,
   "id": "27e4384d",
   "metadata": {
    "execution": {
     "iopub.execute_input": "2025-08-19T18:42:42.163789Z",
     "iopub.status.busy": "2025-08-19T18:42:42.162580Z",
     "iopub.status.idle": "2025-08-19T18:42:42.190866Z",
     "shell.execute_reply": "2025-08-19T18:42:42.189502Z"
    },
    "papermill": {
     "duration": 0.043919,
     "end_time": "2025-08-19T18:42:42.195054",
     "exception": false,
     "start_time": "2025-08-19T18:42:42.151135",
     "status": "completed"
    },
    "tags": []
   },
   "outputs": [],
   "source": [
    "X_train = siab_train.iloc[:,4:164]\n",
    "y_train = siab_train.iloc[:, [3]]"
   ]
  },
  {
   "cell_type": "code",
   "execution_count": 18,
   "id": "08ee8389",
   "metadata": {
    "execution": {
     "iopub.execute_input": "2025-08-19T18:42:42.227641Z",
     "iopub.status.busy": "2025-08-19T18:42:42.226568Z",
     "iopub.status.idle": "2025-08-19T18:42:42.294034Z",
     "shell.execute_reply": "2025-08-19T18:42:42.291993Z"
    },
    "papermill": {
     "duration": 0.085252,
     "end_time": "2025-08-19T18:42:42.299118",
     "exception": false,
     "start_time": "2025-08-19T18:42:42.213866",
     "status": "completed"
    },
    "tags": []
   },
   "outputs": [],
   "source": [
    "X_calib = siab_calib.iloc[:,4:164]\n",
    "y_calib = siab_calib.iloc[:, [3]]"
   ]
  },
  {
   "cell_type": "code",
   "execution_count": 19,
   "id": "b7ff42e0",
   "metadata": {
    "execution": {
     "iopub.execute_input": "2025-08-19T18:42:42.330608Z",
     "iopub.status.busy": "2025-08-19T18:42:42.329994Z",
     "iopub.status.idle": "2025-08-19T18:42:42.389146Z",
     "shell.execute_reply": "2025-08-19T18:42:42.386711Z"
    },
    "papermill": {
     "duration": 0.075338,
     "end_time": "2025-08-19T18:42:42.393139",
     "exception": false,
     "start_time": "2025-08-19T18:42:42.317801",
     "status": "completed"
    },
    "tags": []
   },
   "outputs": [],
   "source": [
    "X_test = siab_test.iloc[:,4:164]\n",
    "y_true = siab_test.iloc[:, [3]]"
   ]
  },
  {
   "cell_type": "code",
   "execution_count": 20,
   "id": "0275101e",
   "metadata": {
    "execution": {
     "iopub.execute_input": "2025-08-19T18:42:42.422201Z",
     "iopub.status.busy": "2025-08-19T18:42:42.421635Z",
     "iopub.status.idle": "2025-08-19T18:42:42.546733Z",
     "shell.execute_reply": "2025-08-19T18:42:42.545810Z"
    },
    "papermill": {
     "duration": 0.144566,
     "end_time": "2025-08-19T18:42:42.549541",
     "exception": false,
     "start_time": "2025-08-19T18:42:42.404975",
     "status": "completed"
    },
    "tags": []
   },
   "outputs": [],
   "source": [
    "# Auxiliary data needed downstream in the pipeline\n",
    "\n",
    "org_train = X_train.copy()\n",
    "org_test = X_test.copy()\n",
    "org_calib = X_calib.copy()"
   ]
  },
  {
   "cell_type": "markdown",
   "id": "b461e618",
   "metadata": {
    "papermill": {
     "duration": 0.034051,
     "end_time": "2025-08-19T18:42:42.609864",
     "exception": false,
     "start_time": "2025-08-19T18:42:42.575813",
     "status": "completed"
    },
    "tags": []
   },
   "source": [
    "# Preprocessing Data"
   ]
  },
  {
   "cell_type": "code",
   "execution_count": 21,
   "id": "78e74c4b",
   "metadata": {
    "execution": {
     "iopub.execute_input": "2025-08-19T18:42:42.648513Z",
     "iopub.status.busy": "2025-08-19T18:42:42.648006Z",
     "iopub.status.idle": "2025-08-19T18:42:42.653184Z",
     "shell.execute_reply": "2025-08-19T18:42:42.652361Z"
    },
    "papermill": {
     "duration": 0.0258,
     "end_time": "2025-08-19T18:42:42.661556",
     "exception": false,
     "start_time": "2025-08-19T18:42:42.635756",
     "status": "completed"
    },
    "tags": []
   },
   "outputs": [],
   "source": [
    "# EXCLUDE PROTECTED FEATURES\n",
    "# --------------------------\n",
    "\n",
    "excluded_features = universe[\"exclude_features\"].split(\"-\")\n",
    "excluded_features_dictionary = {\n",
    "    \"nationality\": [\"maxdeutsch1\", \"maxdeutsch.Missing.\"],\n",
    "    \"sex\": [\"frau1\"],\n",
    "    \"age\": [\"age\"],\n",
    "}"
   ]
  },
  {
   "cell_type": "code",
   "execution_count": 22,
   "id": "f8e63555",
   "metadata": {
    "execution": {
     "iopub.execute_input": "2025-08-19T18:42:42.688109Z",
     "iopub.status.busy": "2025-08-19T18:42:42.687609Z",
     "iopub.status.idle": "2025-08-19T18:42:42.692893Z",
     "shell.execute_reply": "2025-08-19T18:42:42.692034Z"
    },
    "papermill": {
     "duration": 0.018855,
     "end_time": "2025-08-19T18:42:42.695030",
     "exception": false,
     "start_time": "2025-08-19T18:42:42.676175",
     "status": "completed"
    },
    "tags": []
   },
   "outputs": [],
   "source": [
    "excluded_features_columns = [\n",
    "    excluded_features_dictionary[f] for f in excluded_features if len(f) > 0 and f != \"none\"\n",
    "]"
   ]
  },
  {
   "cell_type": "code",
   "execution_count": 23,
   "id": "da781f7c",
   "metadata": {
    "execution": {
     "iopub.execute_input": "2025-08-19T18:42:42.734368Z",
     "iopub.status.busy": "2025-08-19T18:42:42.733844Z",
     "iopub.status.idle": "2025-08-19T18:42:42.760302Z",
     "shell.execute_reply": "2025-08-19T18:42:42.759302Z"
    },
    "papermill": {
     "duration": 0.043336,
     "end_time": "2025-08-19T18:42:42.763870",
     "exception": false,
     "start_time": "2025-08-19T18:42:42.720534",
     "status": "completed"
    },
    "tags": []
   },
   "outputs": [],
   "source": [
    "from fairness_multiverse.universe import flatten_once\n",
    "\n",
    "excluded_features_columns = flatten_once(excluded_features_columns)"
   ]
  },
  {
   "cell_type": "code",
   "execution_count": 24,
   "id": "37fef0f0",
   "metadata": {
    "execution": {
     "iopub.execute_input": "2025-08-19T18:42:42.795943Z",
     "iopub.status.busy": "2025-08-19T18:42:42.795473Z",
     "iopub.status.idle": "2025-08-19T18:42:42.815147Z",
     "shell.execute_reply": "2025-08-19T18:42:42.814224Z"
    },
    "papermill": {
     "duration": 0.034918,
     "end_time": "2025-08-19T18:42:42.816960",
     "exception": false,
     "start_time": "2025-08-19T18:42:42.782042",
     "status": "completed"
    },
    "tags": []
   },
   "outputs": [
    {
     "name": "stdout",
     "output_type": "stream",
     "text": [
      "Dropping features: ['age']\n"
     ]
    }
   ],
   "source": [
    "if len(excluded_features_columns) > 0:\n",
    "    print(f\"Dropping features: {excluded_features_columns}\")\n",
    "    X_train.drop(excluded_features_columns, axis=1, inplace=True)"
   ]
  },
  {
   "cell_type": "code",
   "execution_count": 25,
   "id": "d029e3e9",
   "metadata": {
    "execution": {
     "iopub.execute_input": "2025-08-19T18:42:42.853918Z",
     "iopub.status.busy": "2025-08-19T18:42:42.853371Z",
     "iopub.status.idle": "2025-08-19T18:42:42.955353Z",
     "shell.execute_reply": "2025-08-19T18:42:42.954678Z"
    },
    "papermill": {
     "duration": 0.123087,
     "end_time": "2025-08-19T18:42:42.956742",
     "exception": false,
     "start_time": "2025-08-19T18:42:42.833655",
     "status": "completed"
    },
    "tags": []
   },
   "outputs": [
    {
     "name": "stdout",
     "output_type": "stream",
     "text": [
      "Dropping features: ['age']\n"
     ]
    }
   ],
   "source": [
    "if len(excluded_features_columns) > 0:\n",
    "    print(f\"Dropping features: {excluded_features_columns}\")\n",
    "    X_test.drop(excluded_features_columns, axis=1, inplace=True)"
   ]
  },
  {
   "cell_type": "code",
   "execution_count": 26,
   "id": "01d571f0",
   "metadata": {
    "execution": {
     "iopub.execute_input": "2025-08-19T18:42:42.985680Z",
     "iopub.status.busy": "2025-08-19T18:42:42.985338Z",
     "iopub.status.idle": "2025-08-19T18:42:43.057803Z",
     "shell.execute_reply": "2025-08-19T18:42:43.057070Z"
    },
    "papermill": {
     "duration": 0.092518,
     "end_time": "2025-08-19T18:42:43.060194",
     "exception": false,
     "start_time": "2025-08-19T18:42:42.967676",
     "status": "completed"
    },
    "tags": []
   },
   "outputs": [
    {
     "name": "stdout",
     "output_type": "stream",
     "text": [
      "Dropping features: ['age']\n"
     ]
    }
   ],
   "source": [
    "if len(excluded_features_columns) > 0:\n",
    "    print(f\"Dropping features: {excluded_features_columns}\")\n",
    "    X_calib.drop(excluded_features_columns, axis=1, inplace=True)"
   ]
  },
  {
   "cell_type": "code",
   "execution_count": 27,
   "id": "3037356e",
   "metadata": {
    "execution": {
     "iopub.execute_input": "2025-08-19T18:42:43.092059Z",
     "iopub.status.busy": "2025-08-19T18:42:43.091074Z",
     "iopub.status.idle": "2025-08-19T18:42:43.098592Z",
     "shell.execute_reply": "2025-08-19T18:42:43.097231Z"
    },
    "papermill": {
     "duration": 0.021528,
     "end_time": "2025-08-19T18:42:43.099929",
     "exception": false,
     "start_time": "2025-08-19T18:42:43.078401",
     "status": "completed"
    },
    "tags": []
   },
   "outputs": [],
   "source": [
    "# EXCLUDE CERTAIN SUBGROUPS\n",
    "# -------------------------\n",
    "\n",
    "mode = universe.get(\"exclude_subgroups\", \"keep-all\") # Defaults to \"keep-all\" if the key is missing."
   ]
  },
  {
   "cell_type": "code",
   "execution_count": 28,
   "id": "9d1e63fd",
   "metadata": {
    "execution": {
     "iopub.execute_input": "2025-08-19T18:42:43.126886Z",
     "iopub.status.busy": "2025-08-19T18:42:43.125796Z",
     "iopub.status.idle": "2025-08-19T18:42:43.137778Z",
     "shell.execute_reply": "2025-08-19T18:42:43.136169Z"
    },
    "papermill": {
     "duration": 0.026159,
     "end_time": "2025-08-19T18:42:43.139248",
     "exception": false,
     "start_time": "2025-08-19T18:42:43.113089",
     "status": "completed"
    },
    "tags": []
   },
   "outputs": [],
   "source": [
    "if mode == \"keep-all\":\n",
    "    keep_mask = pd.Series(True, index=org_train.index)\n",
    "\n",
    "elif mode == \"drop-non-german\":\n",
    "    keep_mask = (org_train[\"maxdeutsch1\"] == 1) & (org_train[\"maxdeutsch.Missing.\"] == 0)\n",
    "\n",
    "else:\n",
    "    raise ValueError(f\"Unsupported mode for exclude_subgroups: {mode}\")"
   ]
  },
  {
   "cell_type": "code",
   "execution_count": 29,
   "id": "d3b65474",
   "metadata": {
    "execution": {
     "iopub.execute_input": "2025-08-19T18:42:43.163599Z",
     "iopub.status.busy": "2025-08-19T18:42:43.162474Z",
     "iopub.status.idle": "2025-08-19T18:42:43.173105Z",
     "shell.execute_reply": "2025-08-19T18:42:43.171804Z"
    },
    "papermill": {
     "duration": 0.024467,
     "end_time": "2025-08-19T18:42:43.174645",
     "exception": false,
     "start_time": "2025-08-19T18:42:43.150178",
     "status": "completed"
    },
    "tags": []
   },
   "outputs": [],
   "source": [
    "n_drop = (~keep_mask).sum() # Calculates how many rows are set to be dropped\n",
    "if n_drop > 0:\n",
    "    pct = n_drop / len(keep_mask) * 100\n",
    "    print(f\"Dropping {n_drop} rows ({pct:.2f}%) where mode='{mode}'\")"
   ]
  },
  {
   "cell_type": "code",
   "execution_count": 30,
   "id": "f44389b3",
   "metadata": {
    "execution": {
     "iopub.execute_input": "2025-08-19T18:42:43.203842Z",
     "iopub.status.busy": "2025-08-19T18:42:43.202668Z",
     "iopub.status.idle": "2025-08-19T18:42:43.214733Z",
     "shell.execute_reply": "2025-08-19T18:42:43.213482Z"
    },
    "papermill": {
     "duration": 0.027368,
     "end_time": "2025-08-19T18:42:43.216296",
     "exception": false,
     "start_time": "2025-08-19T18:42:43.188928",
     "status": "completed"
    },
    "tags": []
   },
   "outputs": [],
   "source": [
    "X_train = X_train[keep_mask]"
   ]
  },
  {
   "cell_type": "code",
   "execution_count": 31,
   "id": "ceca8c2a",
   "metadata": {
    "execution": {
     "iopub.execute_input": "2025-08-19T18:42:43.245841Z",
     "iopub.status.busy": "2025-08-19T18:42:43.244735Z",
     "iopub.status.idle": "2025-08-19T18:42:43.254553Z",
     "shell.execute_reply": "2025-08-19T18:42:43.253195Z"
    },
    "papermill": {
     "duration": 0.024315,
     "end_time": "2025-08-19T18:42:43.256058",
     "exception": false,
     "start_time": "2025-08-19T18:42:43.231743",
     "status": "completed"
    },
    "tags": []
   },
   "outputs": [],
   "source": [
    "y_train = y_train[keep_mask]"
   ]
  },
  {
   "cell_type": "markdown",
   "id": "04d31e2f",
   "metadata": {
    "papermill": {
     "duration": 0.010686,
     "end_time": "2025-08-19T18:42:43.294805",
     "exception": false,
     "start_time": "2025-08-19T18:42:43.284119",
     "status": "completed"
    },
    "tags": []
   },
   "source": [
    "# Model Training"
   ]
  },
  {
   "cell_type": "code",
   "execution_count": 32,
   "id": "db991733",
   "metadata": {
    "execution": {
     "iopub.execute_input": "2025-08-19T18:42:43.317545Z",
     "iopub.status.busy": "2025-08-19T18:42:43.317126Z",
     "iopub.status.idle": "2025-08-19T18:42:43.422552Z",
     "shell.execute_reply": "2025-08-19T18:42:43.421832Z"
    },
    "papermill": {
     "duration": 0.120003,
     "end_time": "2025-08-19T18:42:43.425347",
     "exception": false,
     "start_time": "2025-08-19T18:42:43.305344",
     "status": "completed"
    },
    "tags": []
   },
   "outputs": [],
   "source": [
    "from sklearn.linear_model import LogisticRegression\n",
    "from sklearn.ensemble import GradientBoostingClassifier, RandomForestClassifier\n",
    "\n",
    "if (universe[\"model\"] == \"logreg\"):\n",
    "    model = LogisticRegression() #penalty=\"none\", solver=\"newton-cg\", max_iter=1)\n",
    "elif (universe[\"model\"] == \"penalized_logreg\"):\n",
    "    model = LogisticRegression(penalty=\"l2\", C=0.1) #, solver=\"newton-cg\", max_iter=1)\n",
    "elif (universe[\"model\"] == \"rf\"):\n",
    "    model = RandomForestClassifier() # n_estimators=100, n_jobs=-1\n",
    "elif (universe[\"model\"] == \"gbm\"):\n",
    "    model = GradientBoostingClassifier()\n",
    "elif (universe[\"model\"] == \"elasticnet\"):\n",
    "    model = LogisticRegression(penalty = 'elasticnet', solver = 'saga', l1_ratio = 0.5) # max_iter=5000\n",
    "else:\n",
    "    raise \"Unsupported universe.model\""
   ]
  },
  {
   "cell_type": "code",
   "execution_count": 33,
   "id": "a4b5cd25",
   "metadata": {
    "execution": {
     "iopub.execute_input": "2025-08-19T18:42:43.464147Z",
     "iopub.status.busy": "2025-08-19T18:42:43.463034Z",
     "iopub.status.idle": "2025-08-19T18:42:43.473746Z",
     "shell.execute_reply": "2025-08-19T18:42:43.472073Z"
    },
    "papermill": {
     "duration": 0.026373,
     "end_time": "2025-08-19T18:42:43.475646",
     "exception": false,
     "start_time": "2025-08-19T18:42:43.449273",
     "status": "completed"
    },
    "tags": []
   },
   "outputs": [],
   "source": [
    "from sklearn.pipeline import Pipeline\n",
    "from sklearn.preprocessing import StandardScaler\n",
    "\n",
    "model = Pipeline([\n",
    "    #(\"continuous_processor\", continuous_processor),\n",
    "    #(\"categorical_preprocessor\", categorical_preprocessor),\n",
    "    (\"scale\", StandardScaler() if universe[\"scale\"] == \"scale\" else None), \n",
    "    (\"model\", model),\n",
    "])"
   ]
  },
  {
   "cell_type": "code",
   "execution_count": 34,
   "id": "283a904d",
   "metadata": {
    "execution": {
     "iopub.execute_input": "2025-08-19T18:42:43.502525Z",
     "iopub.status.busy": "2025-08-19T18:42:43.501384Z",
     "iopub.status.idle": "2025-08-19T18:42:44.900977Z",
     "shell.execute_reply": "2025-08-19T18:42:44.899799Z"
    },
    "papermill": {
     "duration": 1.413669,
     "end_time": "2025-08-19T18:42:44.902870",
     "exception": false,
     "start_time": "2025-08-19T18:42:43.489201",
     "status": "completed"
    },
    "tags": []
   },
   "outputs": [
    {
     "data": {
      "text/html": [
       "<style>#sk-container-id-1 {color: black;background-color: white;}#sk-container-id-1 pre{padding: 0;}#sk-container-id-1 div.sk-toggleable {background-color: white;}#sk-container-id-1 label.sk-toggleable__label {cursor: pointer;display: block;width: 100%;margin-bottom: 0;padding: 0.3em;box-sizing: border-box;text-align: center;}#sk-container-id-1 label.sk-toggleable__label-arrow:before {content: \"▸\";float: left;margin-right: 0.25em;color: #696969;}#sk-container-id-1 label.sk-toggleable__label-arrow:hover:before {color: black;}#sk-container-id-1 div.sk-estimator:hover label.sk-toggleable__label-arrow:before {color: black;}#sk-container-id-1 div.sk-toggleable__content {max-height: 0;max-width: 0;overflow: hidden;text-align: left;background-color: #f0f8ff;}#sk-container-id-1 div.sk-toggleable__content pre {margin: 0.2em;color: black;border-radius: 0.25em;background-color: #f0f8ff;}#sk-container-id-1 input.sk-toggleable__control:checked~div.sk-toggleable__content {max-height: 200px;max-width: 100%;overflow: auto;}#sk-container-id-1 input.sk-toggleable__control:checked~label.sk-toggleable__label-arrow:before {content: \"▾\";}#sk-container-id-1 div.sk-estimator input.sk-toggleable__control:checked~label.sk-toggleable__label {background-color: #d4ebff;}#sk-container-id-1 div.sk-label input.sk-toggleable__control:checked~label.sk-toggleable__label {background-color: #d4ebff;}#sk-container-id-1 input.sk-hidden--visually {border: 0;clip: rect(1px 1px 1px 1px);clip: rect(1px, 1px, 1px, 1px);height: 1px;margin: -1px;overflow: hidden;padding: 0;position: absolute;width: 1px;}#sk-container-id-1 div.sk-estimator {font-family: monospace;background-color: #f0f8ff;border: 1px dotted black;border-radius: 0.25em;box-sizing: border-box;margin-bottom: 0.5em;}#sk-container-id-1 div.sk-estimator:hover {background-color: #d4ebff;}#sk-container-id-1 div.sk-parallel-item::after {content: \"\";width: 100%;border-bottom: 1px solid gray;flex-grow: 1;}#sk-container-id-1 div.sk-label:hover label.sk-toggleable__label {background-color: #d4ebff;}#sk-container-id-1 div.sk-serial::before {content: \"\";position: absolute;border-left: 1px solid gray;box-sizing: border-box;top: 0;bottom: 0;left: 50%;z-index: 0;}#sk-container-id-1 div.sk-serial {display: flex;flex-direction: column;align-items: center;background-color: white;padding-right: 0.2em;padding-left: 0.2em;position: relative;}#sk-container-id-1 div.sk-item {position: relative;z-index: 1;}#sk-container-id-1 div.sk-parallel {display: flex;align-items: stretch;justify-content: center;background-color: white;position: relative;}#sk-container-id-1 div.sk-item::before, #sk-container-id-1 div.sk-parallel-item::before {content: \"\";position: absolute;border-left: 1px solid gray;box-sizing: border-box;top: 0;bottom: 0;left: 50%;z-index: -1;}#sk-container-id-1 div.sk-parallel-item {display: flex;flex-direction: column;z-index: 1;position: relative;background-color: white;}#sk-container-id-1 div.sk-parallel-item:first-child::after {align-self: flex-end;width: 50%;}#sk-container-id-1 div.sk-parallel-item:last-child::after {align-self: flex-start;width: 50%;}#sk-container-id-1 div.sk-parallel-item:only-child::after {width: 0;}#sk-container-id-1 div.sk-dashed-wrapped {border: 1px dashed gray;margin: 0 0.4em 0.5em 0.4em;box-sizing: border-box;padding-bottom: 0.4em;background-color: white;}#sk-container-id-1 div.sk-label label {font-family: monospace;font-weight: bold;display: inline-block;line-height: 1.2em;}#sk-container-id-1 div.sk-label-container {text-align: center;}#sk-container-id-1 div.sk-container {/* jupyter's `normalize.less` sets `[hidden] { display: none; }` but bootstrap.min.css set `[hidden] { display: none !important; }` so we also need the `!important` here to be able to override the default hidden behavior on the sphinx rendered scikit-learn.org. See: https://github.com/scikit-learn/scikit-learn/issues/21755 */display: inline-block !important;position: relative;}#sk-container-id-1 div.sk-text-repr-fallback {display: none;}</style><div id=\"sk-container-id-1\" class=\"sk-top-container\"><div class=\"sk-text-repr-fallback\"><pre>Pipeline(steps=[(&#x27;scale&#x27;, StandardScaler()),\n",
       "                (&#x27;model&#x27;, RandomForestClassifier())])</pre><b>In a Jupyter environment, please rerun this cell to show the HTML representation or trust the notebook. <br />On GitHub, the HTML representation is unable to render, please try loading this page with nbviewer.org.</b></div><div class=\"sk-container\" hidden><div class=\"sk-item sk-dashed-wrapped\"><div class=\"sk-label-container\"><div class=\"sk-label sk-toggleable\"><input class=\"sk-toggleable__control sk-hidden--visually\" id=\"sk-estimator-id-1\" type=\"checkbox\" ><label for=\"sk-estimator-id-1\" class=\"sk-toggleable__label sk-toggleable__label-arrow\">Pipeline</label><div class=\"sk-toggleable__content\"><pre>Pipeline(steps=[(&#x27;scale&#x27;, StandardScaler()),\n",
       "                (&#x27;model&#x27;, RandomForestClassifier())])</pre></div></div></div><div class=\"sk-serial\"><div class=\"sk-item\"><div class=\"sk-estimator sk-toggleable\"><input class=\"sk-toggleable__control sk-hidden--visually\" id=\"sk-estimator-id-2\" type=\"checkbox\" ><label for=\"sk-estimator-id-2\" class=\"sk-toggleable__label sk-toggleable__label-arrow\">StandardScaler</label><div class=\"sk-toggleable__content\"><pre>StandardScaler()</pre></div></div></div><div class=\"sk-item\"><div class=\"sk-estimator sk-toggleable\"><input class=\"sk-toggleable__control sk-hidden--visually\" id=\"sk-estimator-id-3\" type=\"checkbox\" ><label for=\"sk-estimator-id-3\" class=\"sk-toggleable__label sk-toggleable__label-arrow\">RandomForestClassifier</label><div class=\"sk-toggleable__content\"><pre>RandomForestClassifier()</pre></div></div></div></div></div></div></div>"
      ],
      "text/plain": [
       "Pipeline(steps=[('scale', StandardScaler()),\n",
       "                ('model', RandomForestClassifier())])"
      ]
     },
     "execution_count": 34,
     "metadata": {},
     "output_type": "execute_result"
    }
   ],
   "source": [
    "model.fit(X_train, y_train.values.ravel())"
   ]
  },
  {
   "cell_type": "code",
   "execution_count": 35,
   "id": "6e15e313",
   "metadata": {
    "execution": {
     "iopub.execute_input": "2025-08-19T18:42:44.935207Z",
     "iopub.status.busy": "2025-08-19T18:42:44.933911Z",
     "iopub.status.idle": "2025-08-19T18:42:46.957698Z",
     "shell.execute_reply": "2025-08-19T18:42:46.956524Z"
    },
    "papermill": {
     "duration": 2.038665,
     "end_time": "2025-08-19T18:42:46.959175",
     "exception": false,
     "start_time": "2025-08-19T18:42:44.920510",
     "status": "completed"
    },
    "tags": []
   },
   "outputs": [
    {
     "data": {
      "text/plain": [
       "0.8667038234310557"
      ]
     },
     "execution_count": 35,
     "metadata": {},
     "output_type": "execute_result"
    }
   ],
   "source": [
    "from fairness_multiverse.universe import predict_w_threshold\n",
    "\n",
    "probs_test = model.predict_proba(X_test)\n",
    "\n",
    "'''\n",
    "Below code returns a boolean array (or binary 0/1 array depending on how it’s used) where each element \n",
    "is True if the probability of class 1 is greater than or equal to the threshold, and False otherwise.\n",
    "'''\n",
    "y_pred_default = predict_w_threshold(probs_test, 0.5)\n",
    "\n",
    "from sklearn.metrics import accuracy_score\n",
    "\n",
    "# Naive prediction\n",
    "accuracy_score(y_true = y_true, y_pred = y_pred_default)"
   ]
  },
  {
   "cell_type": "code",
   "execution_count": 36,
   "id": "6f14067c",
   "metadata": {
    "execution": {
     "iopub.execute_input": "2025-08-19T18:42:46.984943Z",
     "iopub.status.busy": "2025-08-19T18:42:46.983701Z",
     "iopub.status.idle": "2025-08-19T18:42:48.962577Z",
     "shell.execute_reply": "2025-08-19T18:42:48.961406Z"
    },
    "papermill": {
     "duration": 1.994706,
     "end_time": "2025-08-19T18:42:48.965583",
     "exception": false,
     "start_time": "2025-08-19T18:42:46.970877",
     "status": "completed"
    },
    "tags": []
   },
   "outputs": [
    {
     "data": {
      "text/plain": [
       "array([0, 0, 0, ..., 0, 0, 0])"
      ]
     },
     "execution_count": 36,
     "metadata": {},
     "output_type": "execute_result"
    }
   ],
   "source": [
    "model.predict(X_test)"
   ]
  },
  {
   "cell_type": "markdown",
   "id": "3759920c",
   "metadata": {
    "papermill": {
     "duration": 0.012614,
     "end_time": "2025-08-19T18:42:49.001951",
     "exception": false,
     "start_time": "2025-08-19T18:42:48.989337",
     "status": "completed"
    },
    "tags": []
   },
   "source": [
    "# Conformal Prediction"
   ]
  },
  {
   "cell_type": "code",
   "execution_count": 37,
   "id": "14b27f59",
   "metadata": {
    "execution": {
     "iopub.execute_input": "2025-08-19T18:42:49.028663Z",
     "iopub.status.busy": "2025-08-19T18:42:49.027232Z",
     "iopub.status.idle": "2025-08-19T18:42:49.036750Z",
     "shell.execute_reply": "2025-08-19T18:42:49.035228Z"
    },
    "papermill": {
     "duration": 0.025494,
     "end_time": "2025-08-19T18:42:49.038694",
     "exception": false,
     "start_time": "2025-08-19T18:42:49.013200",
     "status": "completed"
    },
    "tags": []
   },
   "outputs": [],
   "source": [
    "# Miscoverage level for conformal prediction (10% allowed error rate => 90% target coverage)\n",
    "alpha = 0.1"
   ]
  },
  {
   "cell_type": "code",
   "execution_count": 38,
   "id": "59102472",
   "metadata": {
    "execution": {
     "iopub.execute_input": "2025-08-19T18:42:49.069010Z",
     "iopub.status.busy": "2025-08-19T18:42:49.067519Z",
     "iopub.status.idle": "2025-08-19T18:42:51.061384Z",
     "shell.execute_reply": "2025-08-19T18:42:51.060012Z"
    },
    "papermill": {
     "duration": 2.009182,
     "end_time": "2025-08-19T18:42:51.063163",
     "exception": false,
     "start_time": "2025-08-19T18:42:49.053981",
     "status": "completed"
    },
    "tags": []
   },
   "outputs": [],
   "source": [
    "probs_calib = model.predict_proba(X_calib)"
   ]
  },
  {
   "cell_type": "code",
   "execution_count": 39,
   "id": "a792d4dd",
   "metadata": {
    "execution": {
     "iopub.execute_input": "2025-08-19T18:42:51.108973Z",
     "iopub.status.busy": "2025-08-19T18:42:51.107627Z",
     "iopub.status.idle": "2025-08-19T18:42:51.120394Z",
     "shell.execute_reply": "2025-08-19T18:42:51.118547Z"
    },
    "papermill": {
     "duration": 0.030447,
     "end_time": "2025-08-19T18:42:51.122894",
     "exception": false,
     "start_time": "2025-08-19T18:42:51.092447",
     "status": "completed"
    },
    "tags": []
   },
   "outputs": [],
   "source": [
    "y_calib = y_calib.values.ravel().astype(int)"
   ]
  },
  {
   "cell_type": "code",
   "execution_count": 40,
   "id": "650fd033",
   "metadata": {
    "execution": {
     "iopub.execute_input": "2025-08-19T18:42:51.149124Z",
     "iopub.status.busy": "2025-08-19T18:42:51.148558Z",
     "iopub.status.idle": "2025-08-19T18:42:51.158325Z",
     "shell.execute_reply": "2025-08-19T18:42:51.157535Z"
    },
    "papermill": {
     "duration": 0.024061,
     "end_time": "2025-08-19T18:42:51.159575",
     "exception": false,
     "start_time": "2025-08-19T18:42:51.135514",
     "status": "completed"
    },
    "tags": []
   },
   "outputs": [],
   "source": [
    "from fairness_multiverse.conformal import compute_nc_scores\n",
    "\n",
    "# Compute nonconformity scores on calibration set (1 - probability of true class)\n",
    "nc_scores = compute_nc_scores(probs_calib, y_calib)"
   ]
  },
  {
   "cell_type": "code",
   "execution_count": 41,
   "id": "28ada44c",
   "metadata": {
    "execution": {
     "iopub.execute_input": "2025-08-19T18:42:51.186755Z",
     "iopub.status.busy": "2025-08-19T18:42:51.185816Z",
     "iopub.status.idle": "2025-08-19T18:42:51.193880Z",
     "shell.execute_reply": "2025-08-19T18:42:51.192941Z"
    },
    "papermill": {
     "duration": 0.039158,
     "end_time": "2025-08-19T18:42:51.211921",
     "exception": false,
     "start_time": "2025-08-19T18:42:51.172763",
     "status": "completed"
    },
    "tags": []
   },
   "outputs": [],
   "source": [
    "from fairness_multiverse.conformal import find_threshold\n",
    "\n",
    "# Find conformal threshold q_hat for the given alpha (split conformal method)\n",
    "q_hat = find_threshold(nc_scores, alpha)"
   ]
  },
  {
   "cell_type": "code",
   "execution_count": 42,
   "id": "df56469e",
   "metadata": {
    "execution": {
     "iopub.execute_input": "2025-08-19T18:42:51.253676Z",
     "iopub.status.busy": "2025-08-19T18:42:51.253211Z",
     "iopub.status.idle": "2025-08-19T18:42:51.260704Z",
     "shell.execute_reply": "2025-08-19T18:42:51.259819Z"
    },
    "papermill": {
     "duration": 0.024606,
     "end_time": "2025-08-19T18:42:51.263863",
     "exception": false,
     "start_time": "2025-08-19T18:42:51.239257",
     "status": "completed"
    },
    "tags": []
   },
   "outputs": [
    {
     "data": {
      "text/plain": [
       "0.6799999999999999"
      ]
     },
     "execution_count": 42,
     "metadata": {},
     "output_type": "execute_result"
    }
   ],
   "source": [
    "q_hat"
   ]
  },
  {
   "cell_type": "code",
   "execution_count": 43,
   "id": "aa1f5faa",
   "metadata": {
    "execution": {
     "iopub.execute_input": "2025-08-19T18:42:51.290247Z",
     "iopub.status.busy": "2025-08-19T18:42:51.289833Z",
     "iopub.status.idle": "2025-08-19T18:42:53.797446Z",
     "shell.execute_reply": "2025-08-19T18:42:53.796517Z"
    },
    "papermill": {
     "duration": 2.522206,
     "end_time": "2025-08-19T18:42:53.799477",
     "exception": false,
     "start_time": "2025-08-19T18:42:51.277271",
     "status": "completed"
    },
    "tags": []
   },
   "outputs": [],
   "source": [
    "from fairness_multiverse.conformal import predict_conformal_sets\n",
    "\n",
    "# Generate prediction sets for each test example\n",
    "pred_sets = predict_conformal_sets(model, X_test, q_hat)"
   ]
  },
  {
   "cell_type": "code",
   "execution_count": 44,
   "id": "97f67a6b",
   "metadata": {
    "execution": {
     "iopub.execute_input": "2025-08-19T18:42:53.867514Z",
     "iopub.status.busy": "2025-08-19T18:42:53.867095Z",
     "iopub.status.idle": "2025-08-19T18:42:53.871912Z",
     "shell.execute_reply": "2025-08-19T18:42:53.871128Z"
    },
    "papermill": {
     "duration": 0.034865,
     "end_time": "2025-08-19T18:42:53.874310",
     "exception": false,
     "start_time": "2025-08-19T18:42:53.839445",
     "status": "completed"
    },
    "tags": []
   },
   "outputs": [],
   "source": [
    "y_true = y_true.squeeze()"
   ]
  },
  {
   "cell_type": "code",
   "execution_count": 45,
   "id": "e700e9a7",
   "metadata": {
    "execution": {
     "iopub.execute_input": "2025-08-19T18:42:53.899930Z",
     "iopub.status.busy": "2025-08-19T18:42:53.899543Z",
     "iopub.status.idle": "2025-08-19T18:42:54.391634Z",
     "shell.execute_reply": "2025-08-19T18:42:54.390486Z"
    },
    "papermill": {
     "duration": 0.506221,
     "end_time": "2025-08-19T18:42:54.393222",
     "exception": false,
     "start_time": "2025-08-19T18:42:53.887001",
     "status": "completed"
    },
    "tags": []
   },
   "outputs": [],
   "source": [
    "from fairness_multiverse.conformal import evaluate_sets\n",
    "\n",
    "# Evaluate coverage and average set size on test data\n",
    "metrics = evaluate_sets(pred_sets, y_true)"
   ]
  },
  {
   "cell_type": "markdown",
   "id": "efbacec0",
   "metadata": {
    "papermill": {
     "duration": 0.011604,
     "end_time": "2025-08-19T18:42:54.417599",
     "exception": false,
     "start_time": "2025-08-19T18:42:54.405995",
     "status": "completed"
    },
    "tags": []
   },
   "source": [
    "# CP Metrics"
   ]
  },
  {
   "cell_type": "code",
   "execution_count": 46,
   "id": "9de55fb1",
   "metadata": {
    "execution": {
     "iopub.execute_input": "2025-08-19T18:42:54.442655Z",
     "iopub.status.busy": "2025-08-19T18:42:54.442184Z",
     "iopub.status.idle": "2025-08-19T18:42:54.448695Z",
     "shell.execute_reply": "2025-08-19T18:42:54.447981Z"
    },
    "papermill": {
     "duration": 0.021876,
     "end_time": "2025-08-19T18:42:54.451247",
     "exception": false,
     "start_time": "2025-08-19T18:42:54.429371",
     "status": "completed"
    },
    "tags": []
   },
   "outputs": [
    {
     "data": {
      "text/plain": [
       "{'coverage': 0.9154720766915617, 'avg_size': 1.1539181808048156}"
      ]
     },
     "execution_count": 46,
     "metadata": {},
     "output_type": "execute_result"
    }
   ],
   "source": [
    "metrics"
   ]
  },
  {
   "cell_type": "code",
   "execution_count": 47,
   "id": "64c340a1",
   "metadata": {
    "execution": {
     "iopub.execute_input": "2025-08-19T18:42:54.476629Z",
     "iopub.status.busy": "2025-08-19T18:42:54.476212Z",
     "iopub.status.idle": "2025-08-19T18:42:54.481118Z",
     "shell.execute_reply": "2025-08-19T18:42:54.480400Z"
    },
    "papermill": {
     "duration": 0.018803,
     "end_time": "2025-08-19T18:42:54.482420",
     "exception": false,
     "start_time": "2025-08-19T18:42:54.463617",
     "status": "completed"
    },
    "tags": []
   },
   "outputs": [],
   "source": [
    "example_universe = universe.copy()\n",
    "universe_training_year = example_universe.get(\"training_year\")\n",
    "universe_training_size = example_universe.get(\"training_size\")\n",
    "universe_scale = example_universe.get(\"scale\")\n",
    "universe_model = example_universe.get(\"model\")\n",
    "universe_exclude_features = example_universe.get(\"exclude_features\")\n",
    "universe_exclude_subgroups = example_universe.get(\"exclude_subgroups\")"
   ]
  },
  {
   "cell_type": "code",
   "execution_count": 48,
   "id": "dbb53cb4",
   "metadata": {
    "execution": {
     "iopub.execute_input": "2025-08-19T18:42:54.507313Z",
     "iopub.status.busy": "2025-08-19T18:42:54.506944Z",
     "iopub.status.idle": "2025-08-19T18:42:54.533044Z",
     "shell.execute_reply": "2025-08-19T18:42:54.532018Z"
    },
    "papermill": {
     "duration": 0.040876,
     "end_time": "2025-08-19T18:42:54.535275",
     "exception": false,
     "start_time": "2025-08-19T18:42:54.494399",
     "status": "completed"
    },
    "tags": []
   },
   "outputs": [],
   "source": [
    "cp_metrics_dict = {\n",
    "    \"universe_id\": [universe_id],\n",
    "    \"universe_training_year\": [universe_training_year],\n",
    "    \"universe_training_size\": [universe_training_size],\n",
    "    \"universe_scale\": [universe_scale],\n",
    "    \"universe_model\": [universe_model],\n",
    "    \"universe_exclude_features\": [universe_exclude_features],\n",
    "    \"universe_exclude_subgroups\": [universe_exclude_subgroups],\n",
    "    \"q_hat\": [q_hat],\n",
    "    \"coverage\": [metrics[\"coverage\"]],\n",
    "    \"avg_size\": [metrics[\"avg_size\"]],\n",
    "}"
   ]
  },
  {
   "cell_type": "code",
   "execution_count": 49,
   "id": "0d70d4b2",
   "metadata": {
    "execution": {
     "iopub.execute_input": "2025-08-19T18:42:54.565833Z",
     "iopub.status.busy": "2025-08-19T18:42:54.565446Z",
     "iopub.status.idle": "2025-08-19T18:42:54.571099Z",
     "shell.execute_reply": "2025-08-19T18:42:54.570401Z"
    },
    "papermill": {
     "duration": 0.019629,
     "end_time": "2025-08-19T18:42:54.572376",
     "exception": false,
     "start_time": "2025-08-19T18:42:54.552747",
     "status": "completed"
    },
    "tags": []
   },
   "outputs": [],
   "source": [
    "cp_metrics_df = pd.DataFrame(cp_metrics_dict)"
   ]
  },
  {
   "cell_type": "code",
   "execution_count": 50,
   "id": "b494403c",
   "metadata": {
    "execution": {
     "iopub.execute_input": "2025-08-19T18:42:54.597292Z",
     "iopub.status.busy": "2025-08-19T18:42:54.596914Z",
     "iopub.status.idle": "2025-08-19T18:42:54.611460Z",
     "shell.execute_reply": "2025-08-19T18:42:54.610706Z"
    },
    "papermill": {
     "duration": 0.028734,
     "end_time": "2025-08-19T18:42:54.612938",
     "exception": false,
     "start_time": "2025-08-19T18:42:54.584204",
     "status": "completed"
    },
    "tags": []
   },
   "outputs": [
    {
     "data": {
      "text/html": [
       "<div>\n",
       "<style scoped>\n",
       "    .dataframe tbody tr th:only-of-type {\n",
       "        vertical-align: middle;\n",
       "    }\n",
       "\n",
       "    .dataframe tbody tr th {\n",
       "        vertical-align: top;\n",
       "    }\n",
       "\n",
       "    .dataframe thead th {\n",
       "        text-align: right;\n",
       "    }\n",
       "</style>\n",
       "<table border=\"1\" class=\"dataframe\">\n",
       "  <thead>\n",
       "    <tr style=\"text-align: right;\">\n",
       "      <th></th>\n",
       "      <th>universe_id</th>\n",
       "      <th>universe_training_year</th>\n",
       "      <th>universe_training_size</th>\n",
       "      <th>universe_scale</th>\n",
       "      <th>universe_model</th>\n",
       "      <th>universe_exclude_features</th>\n",
       "      <th>universe_exclude_subgroups</th>\n",
       "      <th>q_hat</th>\n",
       "      <th>coverage</th>\n",
       "      <th>avg_size</th>\n",
       "    </tr>\n",
       "  </thead>\n",
       "  <tbody>\n",
       "    <tr>\n",
       "      <th>0</th>\n",
       "      <td>e70491ddafb9d20c0fb72bfd89fc76f3</td>\n",
       "      <td>2010_14</td>\n",
       "      <td>5k</td>\n",
       "      <td>scale</td>\n",
       "      <td>rf</td>\n",
       "      <td>age</td>\n",
       "      <td>keep-all</td>\n",
       "      <td>0.68</td>\n",
       "      <td>0.915472</td>\n",
       "      <td>1.153918</td>\n",
       "    </tr>\n",
       "  </tbody>\n",
       "</table>\n",
       "</div>"
      ],
      "text/plain": [
       "                        universe_id universe_training_year  \\\n",
       "0  e70491ddafb9d20c0fb72bfd89fc76f3                2010_14   \n",
       "\n",
       "  universe_training_size universe_scale universe_model  \\\n",
       "0                     5k          scale             rf   \n",
       "\n",
       "  universe_exclude_features universe_exclude_subgroups  q_hat  coverage  \\\n",
       "0                       age                   keep-all   0.68  0.915472   \n",
       "\n",
       "   avg_size  \n",
       "0  1.153918  "
      ]
     },
     "execution_count": 50,
     "metadata": {},
     "output_type": "execute_result"
    }
   ],
   "source": [
    "cp_metrics_df"
   ]
  },
  {
   "cell_type": "markdown",
   "id": "ed608b0b",
   "metadata": {
    "papermill": {
     "duration": 0.011841,
     "end_time": "2025-08-19T18:42:54.638771",
     "exception": false,
     "start_time": "2025-08-19T18:42:54.626930",
     "status": "completed"
    },
    "tags": []
   },
   "source": [
    "Conditional coverage & looking at subgroups"
   ]
  },
  {
   "cell_type": "code",
   "execution_count": 51,
   "id": "8968c366",
   "metadata": {
    "execution": {
     "iopub.execute_input": "2025-08-19T18:42:54.664391Z",
     "iopub.status.busy": "2025-08-19T18:42:54.663990Z",
     "iopub.status.idle": "2025-08-19T18:42:54.938215Z",
     "shell.execute_reply": "2025-08-19T18:42:54.937469Z"
    },
    "papermill": {
     "duration": 0.288582,
     "end_time": "2025-08-19T18:42:54.939766",
     "exception": false,
     "start_time": "2025-08-19T18:42:54.651184",
     "status": "completed"
    },
    "tags": []
   },
   "outputs": [],
   "source": [
    "from fairness_multiverse.conformal import build_cp_groups\n",
    "\n",
    "cp_groups_df = build_cp_groups(pred_sets, y_true, X_test.index, org_test)"
   ]
  },
  {
   "cell_type": "code",
   "execution_count": 52,
   "id": "292ddabf",
   "metadata": {
    "execution": {
     "iopub.execute_input": "2025-08-19T18:42:54.975803Z",
     "iopub.status.busy": "2025-08-19T18:42:54.974770Z",
     "iopub.status.idle": "2025-08-19T18:42:55.858493Z",
     "shell.execute_reply": "2025-08-19T18:42:55.857340Z"
    },
    "papermill": {
     "duration": 0.903688,
     "end_time": "2025-08-19T18:42:55.860125",
     "exception": false,
     "start_time": "2025-08-19T18:42:54.956437",
     "status": "completed"
    },
    "tags": []
   },
   "outputs": [],
   "source": [
    "# Define covered = 1 if true_label is in the predicted set\n",
    "cp_groups_df['covered'] = cp_groups_df.apply(\n",
    "    lambda r: int(r['true_label'] in r['pred_set']),\n",
    "    axis=1\n",
    ")"
   ]
  },
  {
   "cell_type": "code",
   "execution_count": 53,
   "id": "3a261692",
   "metadata": {
    "execution": {
     "iopub.execute_input": "2025-08-19T18:42:55.896712Z",
     "iopub.status.busy": "2025-08-19T18:42:55.896158Z",
     "iopub.status.idle": "2025-08-19T18:42:55.909198Z",
     "shell.execute_reply": "2025-08-19T18:42:55.908574Z"
    },
    "papermill": {
     "duration": 0.034165,
     "end_time": "2025-08-19T18:42:55.910377",
     "exception": false,
     "start_time": "2025-08-19T18:42:55.876212",
     "status": "completed"
    },
    "tags": []
   },
   "outputs": [],
   "source": [
    "subgroups = ['frau1','nongerman','nongerman_male','nongerman_female']\n",
    "\n",
    "# Conditional coverage for subgroup==1\n",
    "cond_coverage = {\n",
    "    g: cp_groups_df.loc[cp_groups_df[g]==1, 'covered'].mean()\n",
    "    for g in subgroups\n",
    "}"
   ]
  },
  {
   "cell_type": "code",
   "execution_count": 54,
   "id": "894fd600",
   "metadata": {
    "execution": {
     "iopub.execute_input": "2025-08-19T18:42:55.937860Z",
     "iopub.status.busy": "2025-08-19T18:42:55.937063Z",
     "iopub.status.idle": "2025-08-19T18:42:55.947086Z",
     "shell.execute_reply": "2025-08-19T18:42:55.945841Z"
    },
    "papermill": {
     "duration": 0.024671,
     "end_time": "2025-08-19T18:42:55.948490",
     "exception": false,
     "start_time": "2025-08-19T18:42:55.923819",
     "status": "completed"
    },
    "tags": []
   },
   "outputs": [
    {
     "data": {
      "text/plain": [
       "{'frau1': 0.9119557891899178,\n",
       " 'nongerman': 0.9110200415426936,\n",
       " 'nongerman_male': 0.9253354949112852,\n",
       " 'nongerman_female': 0.8873323397913562}"
      ]
     },
     "execution_count": 54,
     "metadata": {},
     "output_type": "execute_result"
    }
   ],
   "source": [
    "cond_coverage"
   ]
  },
  {
   "cell_type": "code",
   "execution_count": 55,
   "id": "942895c7",
   "metadata": {
    "execution": {
     "iopub.execute_input": "2025-08-19T18:42:55.977937Z",
     "iopub.status.busy": "2025-08-19T18:42:55.976616Z",
     "iopub.status.idle": "2025-08-19T18:42:55.988450Z",
     "shell.execute_reply": "2025-08-19T18:42:55.987047Z"
    },
    "papermill": {
     "duration": 0.027162,
     "end_time": "2025-08-19T18:42:55.989950",
     "exception": false,
     "start_time": "2025-08-19T18:42:55.962788",
     "status": "completed"
    },
    "tags": []
   },
   "outputs": [],
   "source": [
    "for subgroup, cov in cond_coverage.items():\n",
    "    cp_metrics_df[f\"cov_{subgroup}\"] = cov"
   ]
  },
  {
   "cell_type": "code",
   "execution_count": 56,
   "id": "3970120f",
   "metadata": {
    "execution": {
     "iopub.execute_input": "2025-08-19T18:42:56.019878Z",
     "iopub.status.busy": "2025-08-19T18:42:56.018750Z",
     "iopub.status.idle": "2025-08-19T18:42:56.042632Z",
     "shell.execute_reply": "2025-08-19T18:42:56.041881Z"
    },
    "papermill": {
     "duration": 0.039071,
     "end_time": "2025-08-19T18:42:56.044290",
     "exception": false,
     "start_time": "2025-08-19T18:42:56.005219",
     "status": "completed"
    },
    "tags": []
   },
   "outputs": [
    {
     "data": {
      "text/html": [
       "<div>\n",
       "<style scoped>\n",
       "    .dataframe tbody tr th:only-of-type {\n",
       "        vertical-align: middle;\n",
       "    }\n",
       "\n",
       "    .dataframe tbody tr th {\n",
       "        vertical-align: top;\n",
       "    }\n",
       "\n",
       "    .dataframe thead th {\n",
       "        text-align: right;\n",
       "    }\n",
       "</style>\n",
       "<table border=\"1\" class=\"dataframe\">\n",
       "  <thead>\n",
       "    <tr style=\"text-align: right;\">\n",
       "      <th></th>\n",
       "      <th>universe_id</th>\n",
       "      <th>universe_training_year</th>\n",
       "      <th>universe_training_size</th>\n",
       "      <th>universe_scale</th>\n",
       "      <th>universe_model</th>\n",
       "      <th>universe_exclude_features</th>\n",
       "      <th>universe_exclude_subgroups</th>\n",
       "      <th>q_hat</th>\n",
       "      <th>coverage</th>\n",
       "      <th>avg_size</th>\n",
       "      <th>cov_frau1</th>\n",
       "      <th>cov_nongerman</th>\n",
       "      <th>cov_nongerman_male</th>\n",
       "      <th>cov_nongerman_female</th>\n",
       "    </tr>\n",
       "  </thead>\n",
       "  <tbody>\n",
       "    <tr>\n",
       "      <th>0</th>\n",
       "      <td>e70491ddafb9d20c0fb72bfd89fc76f3</td>\n",
       "      <td>2010_14</td>\n",
       "      <td>5k</td>\n",
       "      <td>scale</td>\n",
       "      <td>rf</td>\n",
       "      <td>age</td>\n",
       "      <td>keep-all</td>\n",
       "      <td>0.68</td>\n",
       "      <td>0.915472</td>\n",
       "      <td>1.153918</td>\n",
       "      <td>0.911956</td>\n",
       "      <td>0.91102</td>\n",
       "      <td>0.925335</td>\n",
       "      <td>0.887332</td>\n",
       "    </tr>\n",
       "  </tbody>\n",
       "</table>\n",
       "</div>"
      ],
      "text/plain": [
       "                        universe_id universe_training_year  \\\n",
       "0  e70491ddafb9d20c0fb72bfd89fc76f3                2010_14   \n",
       "\n",
       "  universe_training_size universe_scale universe_model  \\\n",
       "0                     5k          scale             rf   \n",
       "\n",
       "  universe_exclude_features universe_exclude_subgroups  q_hat  coverage  \\\n",
       "0                       age                   keep-all   0.68  0.915472   \n",
       "\n",
       "   avg_size  cov_frau1  cov_nongerman  cov_nongerman_male  \\\n",
       "0  1.153918   0.911956        0.91102            0.925335   \n",
       "\n",
       "   cov_nongerman_female  \n",
       "0              0.887332  "
      ]
     },
     "execution_count": 56,
     "metadata": {},
     "output_type": "execute_result"
    }
   ],
   "source": [
    "cp_metrics_df"
   ]
  },
  {
   "cell_type": "markdown",
   "id": "3fc519cc",
   "metadata": {
    "papermill": {
     "duration": 0.012793,
     "end_time": "2025-08-19T18:42:56.078302",
     "exception": false,
     "start_time": "2025-08-19T18:42:56.065509",
     "status": "completed"
    },
    "tags": []
   },
   "source": [
    "# (Fairness) Metrics"
   ]
  },
  {
   "cell_type": "code",
   "execution_count": 57,
   "id": "a2e5e155",
   "metadata": {
    "execution": {
     "iopub.execute_input": "2025-08-19T18:42:56.105056Z",
     "iopub.status.busy": "2025-08-19T18:42:56.104062Z",
     "iopub.status.idle": "2025-08-19T18:42:56.134095Z",
     "shell.execute_reply": "2025-08-19T18:42:56.133345Z"
    },
    "papermill": {
     "duration": 0.045739,
     "end_time": "2025-08-19T18:42:56.136115",
     "exception": false,
     "start_time": "2025-08-19T18:42:56.090376",
     "status": "completed"
    },
    "tags": []
   },
   "outputs": [],
   "source": [
    "colname_to_bin = \"maxdeutsch1\"\n",
    "majority_value = org_train[colname_to_bin].mode()[0]\n",
    "\n",
    "org_test[\"majmin\"] = np.where(org_test[colname_to_bin] == majority_value, \"majority\", \"minority\")"
   ]
  },
  {
   "cell_type": "code",
   "execution_count": 58,
   "id": "17e3e4d5",
   "metadata": {
    "execution": {
     "iopub.execute_input": "2025-08-19T18:42:56.179645Z",
     "iopub.status.busy": "2025-08-19T18:42:56.178684Z",
     "iopub.status.idle": "2025-08-19T18:42:57.943432Z",
     "shell.execute_reply": "2025-08-19T18:42:57.942137Z"
    },
    "papermill": {
     "duration": 1.782072,
     "end_time": "2025-08-19T18:42:57.945415",
     "exception": false,
     "start_time": "2025-08-19T18:42:56.163343",
     "status": "completed"
    },
    "tags": []
   },
   "outputs": [],
   "source": [
    "example_universe = universe.copy()\n",
    "example_universe[\"cutoff\"] = example_universe[\"cutoff\"][0]\n",
    "example_universe[\"eval_fairness_grouping\"] = example_universe[\"eval_fairness_grouping\"][0]\n",
    "fairness_dict, metric_frame = universe_analysis.compute_metrics(\n",
    "    example_universe,\n",
    "    y_pred_prob=probs_test,\n",
    "    y_test=y_true,\n",
    "    org_test=org_test,\n",
    ")"
   ]
  },
  {
   "cell_type": "markdown",
   "id": "1fb7a0e9",
   "metadata": {
    "papermill": {
     "duration": 0.016343,
     "end_time": "2025-08-19T18:42:57.994588",
     "exception": false,
     "start_time": "2025-08-19T18:42:57.978245",
     "status": "completed"
    },
    "tags": []
   },
   "source": [
    "# Overall"
   ]
  },
  {
   "cell_type": "markdown",
   "id": "be1784b1",
   "metadata": {
    "papermill": {
     "duration": 0.013131,
     "end_time": "2025-08-19T18:42:58.020356",
     "exception": false,
     "start_time": "2025-08-19T18:42:58.007225",
     "status": "completed"
    },
    "tags": []
   },
   "source": [
    "Main fairness target: Equalized Odds. Seems to be a better fit than equal opportunity, since we're not only interested in Y = 1. Seems to be a better fit than demographic parity, since we also care about accuracy, not just equal distribution of preds.\n",
    "\n",
    "Pick column for computation of fairness metrics\n",
    "\n",
    "Performance\n",
    "Overall performance measures, most interesting in relation to the measures split by group below"
   ]
  },
  {
   "cell_type": "code",
   "execution_count": 59,
   "id": "b7672bee",
   "metadata": {
    "execution": {
     "iopub.execute_input": "2025-08-19T18:42:58.047481Z",
     "iopub.status.busy": "2025-08-19T18:42:58.047136Z",
     "iopub.status.idle": "2025-08-19T18:42:58.058949Z",
     "shell.execute_reply": "2025-08-19T18:42:58.057509Z"
    },
    "papermill": {
     "duration": 0.027222,
     "end_time": "2025-08-19T18:42:58.060541",
     "exception": false,
     "start_time": "2025-08-19T18:42:58.033319",
     "status": "completed"
    },
    "tags": []
   },
   "outputs": [
    {
     "data": {
      "text/plain": [
       "accuracy                   0.210958\n",
       "balanced accuracy          0.531526\n",
       "f1                         0.238404\n",
       "precision                  0.136047\n",
       "false positive rate        0.899670\n",
       "false negative rate        0.037278\n",
       "selection rate             0.907758\n",
       "count                  89710.000000\n",
       "dtype: float64"
      ]
     },
     "execution_count": 59,
     "metadata": {},
     "output_type": "execute_result"
    }
   ],
   "source": [
    "metric_frame.overall"
   ]
  },
  {
   "cell_type": "markdown",
   "id": "d93333c9",
   "metadata": {
    "papermill": {
     "duration": 0.013288,
     "end_time": "2025-08-19T18:42:58.089727",
     "exception": false,
     "start_time": "2025-08-19T18:42:58.076439",
     "status": "completed"
    },
    "tags": []
   },
   "source": [
    "By Group"
   ]
  },
  {
   "cell_type": "code",
   "execution_count": 60,
   "id": "52256966",
   "metadata": {
    "execution": {
     "iopub.execute_input": "2025-08-19T18:42:58.120573Z",
     "iopub.status.busy": "2025-08-19T18:42:58.120069Z",
     "iopub.status.idle": "2025-08-19T18:42:58.154922Z",
     "shell.execute_reply": "2025-08-19T18:42:58.153417Z"
    },
    "papermill": {
     "duration": 0.053833,
     "end_time": "2025-08-19T18:42:58.159108",
     "exception": false,
     "start_time": "2025-08-19T18:42:58.105275",
     "status": "completed"
    },
    "tags": []
   },
   "outputs": [
    {
     "data": {
      "text/html": [
       "<div>\n",
       "<style scoped>\n",
       "    .dataframe tbody tr th:only-of-type {\n",
       "        vertical-align: middle;\n",
       "    }\n",
       "\n",
       "    .dataframe tbody tr th {\n",
       "        vertical-align: top;\n",
       "    }\n",
       "\n",
       "    .dataframe thead th {\n",
       "        text-align: right;\n",
       "    }\n",
       "</style>\n",
       "<table border=\"1\" class=\"dataframe\">\n",
       "  <thead>\n",
       "    <tr style=\"text-align: right;\">\n",
       "      <th></th>\n",
       "      <th>accuracy</th>\n",
       "      <th>balanced accuracy</th>\n",
       "      <th>f1</th>\n",
       "      <th>precision</th>\n",
       "      <th>false positive rate</th>\n",
       "      <th>false negative rate</th>\n",
       "      <th>selection rate</th>\n",
       "      <th>count</th>\n",
       "    </tr>\n",
       "    <tr>\n",
       "      <th>majmin</th>\n",
       "      <th></th>\n",
       "      <th></th>\n",
       "      <th></th>\n",
       "      <th></th>\n",
       "      <th></th>\n",
       "      <th></th>\n",
       "      <th></th>\n",
       "      <th></th>\n",
       "    </tr>\n",
       "  </thead>\n",
       "  <tbody>\n",
       "    <tr>\n",
       "      <th>majority</th>\n",
       "      <td>0.184704</td>\n",
       "      <td>0.526297</td>\n",
       "      <td>0.243054</td>\n",
       "      <td>0.138521</td>\n",
       "      <td>0.937998</td>\n",
       "      <td>0.009409</td>\n",
       "      <td>0.944947</td>\n",
       "      <td>69170.0</td>\n",
       "    </tr>\n",
       "    <tr>\n",
       "      <th>minority</th>\n",
       "      <td>0.299367</td>\n",
       "      <td>0.541047</td>\n",
       "      <td>0.219619</td>\n",
       "      <td>0.125988</td>\n",
       "      <td>0.773057</td>\n",
       "      <td>0.144848</td>\n",
       "      <td>0.782522</td>\n",
       "      <td>20540.0</td>\n",
       "    </tr>\n",
       "  </tbody>\n",
       "</table>\n",
       "</div>"
      ],
      "text/plain": [
       "          accuracy  balanced accuracy        f1  precision  \\\n",
       "majmin                                                       \n",
       "majority  0.184704           0.526297  0.243054   0.138521   \n",
       "minority  0.299367           0.541047  0.219619   0.125988   \n",
       "\n",
       "          false positive rate  false negative rate  selection rate    count  \n",
       "majmin                                                                       \n",
       "majority             0.937998             0.009409        0.944947  69170.0  \n",
       "minority             0.773057             0.144848        0.782522  20540.0  "
      ]
     },
     "execution_count": 60,
     "metadata": {},
     "output_type": "execute_result"
    }
   ],
   "source": [
    "metric_frame.by_group"
   ]
  },
  {
   "cell_type": "code",
   "execution_count": 61,
   "id": "6e6c20ae",
   "metadata": {
    "execution": {
     "iopub.execute_input": "2025-08-19T18:42:58.194968Z",
     "iopub.status.busy": "2025-08-19T18:42:58.194202Z",
     "iopub.status.idle": "2025-08-19T18:43:00.075291Z",
     "shell.execute_reply": "2025-08-19T18:43:00.073614Z"
    },
    "papermill": {
     "duration": 1.907398,
     "end_time": "2025-08-19T18:43:00.085870",
     "exception": false,
     "start_time": "2025-08-19T18:42:58.178472",
     "status": "completed"
    },
    "tags": []
   },
   "outputs": [
    {
     "data": {
      "text/plain": [
       "array([[<Axes: title={'center': 'accuracy'}, xlabel='majmin'>,\n",
       "        <Axes: title={'center': 'balanced accuracy'}, xlabel='majmin'>,\n",
       "        <Axes: title={'center': 'f1'}, xlabel='majmin'>],\n",
       "       [<Axes: title={'center': 'precision'}, xlabel='majmin'>,\n",
       "        <Axes: title={'center': 'false positive rate'}, xlabel='majmin'>,\n",
       "        <Axes: title={'center': 'false negative rate'}, xlabel='majmin'>],\n",
       "       [<Axes: title={'center': 'selection rate'}, xlabel='majmin'>,\n",
       "        <Axes: title={'center': 'count'}, xlabel='majmin'>,\n",
       "        <Axes: xlabel='majmin'>]], dtype=object)"
      ]
     },
     "execution_count": 61,
     "metadata": {},
     "output_type": "execute_result"
    },
    {
     "data": {
      "image/png": "[encoded data removed]",
      "text/plain": [
       "<Figure size 1200x800 with 9 Axes>"
      ]
     },
     "metadata": {},
     "output_type": "display_data"
    }
   ],
   "source": [
    "# In a graphic\n",
    "metric_frame.by_group.plot.bar(\n",
    "    subplots=True,\n",
    "    layout=[3, 3],\n",
    "    legend=False,\n",
    "    figsize=[12, 8],\n",
    "    title=\"Show all metrics\",\n",
    ")"
   ]
  },
  {
   "cell_type": "markdown",
   "id": "b2e433ae",
   "metadata": {
    "papermill": {
     "duration": 0.014156,
     "end_time": "2025-08-19T18:43:00.118538",
     "exception": false,
     "start_time": "2025-08-19T18:43:00.104382",
     "status": "completed"
    },
    "tags": []
   },
   "source": [
    "# Final Output"
   ]
  },
  {
   "cell_type": "code",
   "execution_count": 62,
   "id": "3871301e",
   "metadata": {
    "execution": {
     "iopub.execute_input": "2025-08-19T18:43:00.149527Z",
     "iopub.status.busy": "2025-08-19T18:43:00.148642Z",
     "iopub.status.idle": "2025-08-19T18:43:00.158989Z",
     "shell.execute_reply": "2025-08-19T18:43:00.157823Z"
    },
    "papermill": {
     "duration": 0.029999,
     "end_time": "2025-08-19T18:43:00.162793",
     "exception": false,
     "start_time": "2025-08-19T18:43:00.132794",
     "status": "completed"
    },
    "tags": []
   },
   "outputs": [
    {
     "data": {
      "text/plain": [
       "4"
      ]
     },
     "execution_count": 62,
     "metadata": {},
     "output_type": "execute_result"
    }
   ],
   "source": [
    "sub_universes = universe_analysis.generate_sub_universes()\n",
    "len(sub_universes)"
   ]
  },
  {
   "cell_type": "code",
   "execution_count": 63,
   "id": "d9cfdaca",
   "metadata": {
    "execution": {
     "iopub.execute_input": "2025-08-19T18:43:00.224421Z",
     "iopub.status.busy": "2025-08-19T18:43:00.223651Z",
     "iopub.status.idle": "2025-08-19T18:43:00.233813Z",
     "shell.execute_reply": "2025-08-19T18:43:00.232409Z"
    },
    "papermill": {
     "duration": 0.031514,
     "end_time": "2025-08-19T18:43:00.236788",
     "exception": false,
     "start_time": "2025-08-19T18:43:00.205274",
     "status": "completed"
    },
    "tags": []
   },
   "outputs": [],
   "source": [
    "def filter_sub_universe_data(sub_universe, org_test):\n",
    "    # Keep all rows — no filtering\n",
    "    keep_rows_mask = np.ones(org_test.shape[0], dtype=bool)\n",
    "\n",
    "    print(f\"[INFO] Keeping all rows: {keep_rows_mask.sum()} rows retained.\")\n",
    "    return keep_rows_mask"
   ]
  },
  {
   "cell_type": "code",
   "execution_count": 64,
   "id": "2bc31ac1",
   "metadata": {
    "execution": {
     "iopub.execute_input": "2025-08-19T18:43:00.273146Z",
     "iopub.status.busy": "2025-08-19T18:43:00.272810Z",
     "iopub.status.idle": "2025-08-19T18:43:07.067533Z",
     "shell.execute_reply": "2025-08-19T18:43:07.066499Z"
    },
    "papermill": {
     "duration": 6.811026,
     "end_time": "2025-08-19T18:43:07.069005",
     "exception": false,
     "start_time": "2025-08-19T18:43:00.257979",
     "status": "completed"
    },
    "tags": []
   },
   "outputs": [
    {
     "name": "stdout",
     "output_type": "stream",
     "text": [
      "Stopping execution_time clock.\n",
      "[INFO] Keeping all rows: 89710 rows retained.\n"
     ]
    },
    {
     "name": "stdout",
     "output_type": "stream",
     "text": [
      "[INFO] Keeping all rows: 89710 rows retained.\n"
     ]
    },
    {
     "name": "stdout",
     "output_type": "stream",
     "text": [
      "[INFO] Keeping all rows: 89710 rows retained.\n"
     ]
    },
    {
     "name": "stdout",
     "output_type": "stream",
     "text": [
      "[INFO] Keeping all rows: 89710 rows retained.\n"
     ]
    },
    {
     "data": {
      "text/html": [
       "<div>\n",
       "<style scoped>\n",
       "    .dataframe tbody tr th:only-of-type {\n",
       "        vertical-align: middle;\n",
       "    }\n",
       "\n",
       "    .dataframe tbody tr th {\n",
       "        vertical-align: top;\n",
       "    }\n",
       "\n",
       "    .dataframe thead th {\n",
       "        text-align: right;\n",
       "    }\n",
       "</style>\n",
       "<table border=\"1\" class=\"dataframe\">\n",
       "  <thead>\n",
       "    <tr style=\"text-align: right;\">\n",
       "      <th></th>\n",
       "      <th>run_no</th>\n",
       "      <th>universe_id</th>\n",
       "      <th>universe_settings</th>\n",
       "      <th>execution_time</th>\n",
       "      <th>test_size_n</th>\n",
       "      <th>test_size_frac</th>\n",
       "      <th>fair_main_equalized_odds_difference</th>\n",
       "      <th>fair_main_equalized_odds_ratio</th>\n",
       "      <th>fair_main_demographic_parity_difference</th>\n",
       "      <th>fair_main_demographic_parity_ratio</th>\n",
       "      <th>...</th>\n",
       "      <th>perf_grp_precision_0</th>\n",
       "      <th>perf_grp_precision_1</th>\n",
       "      <th>perf_grp_false positive rate_0</th>\n",
       "      <th>perf_grp_false positive rate_1</th>\n",
       "      <th>perf_grp_false negative rate_0</th>\n",
       "      <th>perf_grp_false negative rate_1</th>\n",
       "      <th>perf_grp_selection rate_0</th>\n",
       "      <th>perf_grp_selection rate_1</th>\n",
       "      <th>perf_grp_count_0</th>\n",
       "      <th>perf_grp_count_1</th>\n",
       "    </tr>\n",
       "  </thead>\n",
       "  <tbody>\n",
       "    <tr>\n",
       "      <th>0</th>\n",
       "      <td>3</td>\n",
       "      <td>e70491ddafb9d20c0fb72bfd89fc76f3</td>\n",
       "      <td>{\"cutoff\": \"quantile_0.1\", \"eval_fairness_grou...</td>\n",
       "      <td>30.64453</td>\n",
       "      <td>89710</td>\n",
       "      <td>1.0</td>\n",
       "      <td>0.16494</td>\n",
       "      <td>0.824157</td>\n",
       "      <td>0.162425</td>\n",
       "      <td>0.828112</td>\n",
       "      <td>...</td>\n",
       "      <td>NaN</td>\n",
       "      <td>NaN</td>\n",
       "      <td>NaN</td>\n",
       "      <td>NaN</td>\n",
       "      <td>NaN</td>\n",
       "      <td>NaN</td>\n",
       "      <td>NaN</td>\n",
       "      <td>NaN</td>\n",
       "      <td>NaN</td>\n",
       "      <td>NaN</td>\n",
       "    </tr>\n",
       "    <tr>\n",
       "      <th>0</th>\n",
       "      <td>3</td>\n",
       "      <td>e70491ddafb9d20c0fb72bfd89fc76f3</td>\n",
       "      <td>{\"cutoff\": \"quantile_0.1\", \"eval_fairness_grou...</td>\n",
       "      <td>30.64453</td>\n",
       "      <td>89710</td>\n",
       "      <td>1.0</td>\n",
       "      <td>0.16494</td>\n",
       "      <td>0.824157</td>\n",
       "      <td>0.162425</td>\n",
       "      <td>0.828112</td>\n",
       "      <td>...</td>\n",
       "      <td>0.125988</td>\n",
       "      <td>0.138521</td>\n",
       "      <td>0.773057</td>\n",
       "      <td>0.937998</td>\n",
       "      <td>0.144848</td>\n",
       "      <td>0.009409</td>\n",
       "      <td>0.782522</td>\n",
       "      <td>0.944947</td>\n",
       "      <td>20540.0</td>\n",
       "      <td>69170.0</td>\n",
       "    </tr>\n",
       "    <tr>\n",
       "      <th>0</th>\n",
       "      <td>3</td>\n",
       "      <td>e70491ddafb9d20c0fb72bfd89fc76f3</td>\n",
       "      <td>{\"cutoff\": \"quantile_0.25\", \"eval_fairness_gro...</td>\n",
       "      <td>30.64453</td>\n",
       "      <td>89710</td>\n",
       "      <td>1.0</td>\n",
       "      <td>0.17314</td>\n",
       "      <td>0.800601</td>\n",
       "      <td>0.160470</td>\n",
       "      <td>0.800167</td>\n",
       "      <td>...</td>\n",
       "      <td>NaN</td>\n",
       "      <td>NaN</td>\n",
       "      <td>NaN</td>\n",
       "      <td>NaN</td>\n",
       "      <td>NaN</td>\n",
       "      <td>NaN</td>\n",
       "      <td>NaN</td>\n",
       "      <td>NaN</td>\n",
       "      <td>NaN</td>\n",
       "      <td>NaN</td>\n",
       "    </tr>\n",
       "    <tr>\n",
       "      <th>0</th>\n",
       "      <td>3</td>\n",
       "      <td>e70491ddafb9d20c0fb72bfd89fc76f3</td>\n",
       "      <td>{\"cutoff\": \"quantile_0.25\", \"eval_fairness_gro...</td>\n",
       "      <td>30.64453</td>\n",
       "      <td>89710</td>\n",
       "      <td>1.0</td>\n",
       "      <td>0.17314</td>\n",
       "      <td>0.800601</td>\n",
       "      <td>0.160470</td>\n",
       "      <td>0.800167</td>\n",
       "      <td>...</td>\n",
       "      <td>0.140779</td>\n",
       "      <td>0.157602</td>\n",
       "      <td>0.624037</td>\n",
       "      <td>0.779460</td>\n",
       "      <td>0.215372</td>\n",
       "      <td>0.042232</td>\n",
       "      <td>0.642551</td>\n",
       "      <td>0.803022</td>\n",
       "      <td>20540.0</td>\n",
       "      <td>69170.0</td>\n",
       "    </tr>\n",
       "  </tbody>\n",
       "</table>\n",
       "<p>4 rows × 50 columns</p>\n",
       "</div>"
      ],
      "text/plain": [
       "  run_no                       universe_id  \\\n",
       "0      3  e70491ddafb9d20c0fb72bfd89fc76f3   \n",
       "0      3  e70491ddafb9d20c0fb72bfd89fc76f3   \n",
       "0      3  e70491ddafb9d20c0fb72bfd89fc76f3   \n",
       "0      3  e70491ddafb9d20c0fb72bfd89fc76f3   \n",
       "\n",
       "                                   universe_settings  execution_time  \\\n",
       "0  {\"cutoff\": \"quantile_0.1\", \"eval_fairness_grou...        30.64453   \n",
       "0  {\"cutoff\": \"quantile_0.1\", \"eval_fairness_grou...        30.64453   \n",
       "0  {\"cutoff\": \"quantile_0.25\", \"eval_fairness_gro...        30.64453   \n",
       "0  {\"cutoff\": \"quantile_0.25\", \"eval_fairness_gro...        30.64453   \n",
       "\n",
       "   test_size_n  test_size_frac  fair_main_equalized_odds_difference  \\\n",
       "0        89710             1.0                              0.16494   \n",
       "0        89710             1.0                              0.16494   \n",
       "0        89710             1.0                              0.17314   \n",
       "0        89710             1.0                              0.17314   \n",
       "\n",
       "   fair_main_equalized_odds_ratio  fair_main_demographic_parity_difference  \\\n",
       "0                        0.824157                                 0.162425   \n",
       "0                        0.824157                                 0.162425   \n",
       "0                        0.800601                                 0.160470   \n",
       "0                        0.800601                                 0.160470   \n",
       "\n",
       "   fair_main_demographic_parity_ratio  ...  perf_grp_precision_0  \\\n",
       "0                            0.828112  ...                   NaN   \n",
       "0                            0.828112  ...              0.125988   \n",
       "0                            0.800167  ...                   NaN   \n",
       "0                            0.800167  ...              0.140779   \n",
       "\n",
       "   perf_grp_precision_1  perf_grp_false positive rate_0  \\\n",
       "0                   NaN                             NaN   \n",
       "0              0.138521                        0.773057   \n",
       "0                   NaN                             NaN   \n",
       "0              0.157602                        0.624037   \n",
       "\n",
       "   perf_grp_false positive rate_1  perf_grp_false negative rate_0  \\\n",
       "0                             NaN                             NaN   \n",
       "0                        0.937998                        0.144848   \n",
       "0                             NaN                             NaN   \n",
       "0                        0.779460                        0.215372   \n",
       "\n",
       "   perf_grp_false negative rate_1  perf_grp_selection rate_0  \\\n",
       "0                             NaN                        NaN   \n",
       "0                        0.009409                   0.782522   \n",
       "0                             NaN                        NaN   \n",
       "0                        0.042232                   0.642551   \n",
       "\n",
       "   perf_grp_selection rate_1  perf_grp_count_0  perf_grp_count_1  \n",
       "0                        NaN               NaN               NaN  \n",
       "0                   0.944947           20540.0           69170.0  \n",
       "0                        NaN               NaN               NaN  \n",
       "0                   0.803022           20540.0           69170.0  \n",
       "\n",
       "[4 rows x 50 columns]"
      ]
     },
     "execution_count": 64,
     "metadata": {},
     "output_type": "execute_result"
    }
   ],
   "source": [
    "final_output = universe_analysis.generate_final_output(\n",
    "    y_pred_prob=probs_test,\n",
    "    y_test=y_true,\n",
    "    org_test=org_test,\n",
    "    filter_data=filter_sub_universe_data,\n",
    "    cp_metrics_df=cp_metrics_df,\n",
    "    save=True,\n",
    ")\n",
    "final_output"
   ]
  },
  {
   "cell_type": "code",
   "execution_count": null,
   "id": "8b80a1ff",
   "metadata": {
    "papermill": {
     "duration": 0.014658,
     "end_time": "2025-08-19T18:43:07.103706",
     "exception": false,
     "start_time": "2025-08-19T18:43:07.089048",
     "status": "completed"
    },
    "tags": []
   },
   "outputs": [],
   "source": []
  },
  {
   "cell_type": "code",
   "execution_count": null,
   "id": "275c9fad",
   "metadata": {
    "papermill": {
     "duration": 0.014294,
     "end_time": "2025-08-19T18:43:07.134903",
     "exception": false,
     "start_time": "2025-08-19T18:43:07.120609",
     "status": "completed"
    },
    "tags": []
   },
   "outputs": [],
   "source": []
  }
 ],
 "metadata": {
  "celltoolbar": "Tags",
  "kernelspec": {
   "display_name": "Python (CMA Fairness)",
   "language": "python",
   "name": "cma_fair_env"
  },
  "language_info": {
   "codemirror_mode": {
    "name": "ipython",
    "version": 3
   },
   "file_extension": ".py",
   "mimetype": "text/x-python",
   "name": "python",
   "nbconvert_exporter": "python",
   "pygments_lexer": "ipython3",
   "version": "3.10.12"
  },
  "papermill": {
   "default_parameters": {},
   "duration": 41.391411,
   "end_time": "2025-08-19T18:43:07.969806",
   "environment_variables": {},
   "exception": null,
   "input_path": "universe_analysis.ipynb",
   "output_path": "output/runs/3/notebooks/m_3-e70491ddafb9d20c0fb72bfd89fc76f3.ipynb",
   "parameters": {
    "output_dir": "output",
    "run_no": "3",
    "seed": "2023",
    "universe": "{\"cutoff\": [\"quantile_0.1\", \"quantile_0.25\"], \"eval_fairness_grouping\": [\"majority-minority\", \"nationality-all\"], \"exclude_features\": \"age\", \"exclude_subgroups\": \"keep-all\", \"model\": \"rf\", \"scale\": \"scale\", \"training_size\": \"5k\", \"training_year\": \"2010_14\"}",
    "universe_id": "e70491ddafb9d20c0fb72bfd89fc76f3"
   },
   "start_time": "2025-08-19T18:42:26.578395",
   "version": "2.6.0"
  }
 },
 "nbformat": 4,
 "nbformat_minor": 5
}