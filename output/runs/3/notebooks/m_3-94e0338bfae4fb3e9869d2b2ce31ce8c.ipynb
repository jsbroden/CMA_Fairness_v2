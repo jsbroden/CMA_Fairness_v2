{
 "cells": [
  {
   "cell_type": "markdown",
   "id": "ef23dbb3",
   "metadata": {
    "papermill": {
     "duration": 0.023268,
     "end_time": "2025-08-19T18:54:53.612416",
     "exception": false,
     "start_time": "2025-08-19T18:54:53.589148",
     "status": "completed"
    },
    "tags": []
   },
   "source": [
    "# Setup"
   ]
  },
  {
   "cell_type": "code",
   "execution_count": 1,
   "id": "0bc8e7dc",
   "metadata": {
    "execution": {
     "iopub.execute_input": "2025-08-19T18:54:53.636560Z",
     "iopub.status.busy": "2025-08-19T18:54:53.636072Z",
     "iopub.status.idle": "2025-08-19T18:54:53.646445Z",
     "shell.execute_reply": "2025-08-19T18:54:53.645792Z"
    },
    "papermill": {
     "duration": 0.022224,
     "end_time": "2025-08-19T18:54:53.647816",
     "exception": false,
     "start_time": "2025-08-19T18:54:53.625592",
     "status": "completed"
    },
    "tags": []
   },
   "outputs": [
    {
     "name": "stdout",
     "output_type": "stream",
     "text": [
      "/dss/dsshome1/0C/ra93lal2/cma/CMA_Fairness_v2\n"
     ]
    },
    {
     "name": "stderr",
     "output_type": "stream",
     "text": [
      "/dss/dsshome1/0C/ra93lal2/.local/share/virtualenvs/CMA_Fairness_v2-3j10GkSs/lib/python3.10/site-packages/IPython/core/magics/osm.py:393: UserWarning: This is now an optional IPython functionality, using bookmarks requires you to install the `pickleshare` library.\n",
      "  bkms = self.shell.db.get('bookmarks', {})\n",
      "/dss/dsshome1/0C/ra93lal2/.local/share/virtualenvs/CMA_Fairness_v2-3j10GkSs/lib/python3.10/site-packages/IPython/core/magics/osm.py:417: UserWarning: This is now an optional IPython functionality, setting dhist requires you to install the `pickleshare` library.\n",
      "  self.shell.db['dhist'] = compress_dhist(dhist)[-100:]\n"
     ]
    }
   ],
   "source": [
    "%cd ~/cma/CMA_Fairness_v2"
   ]
  },
  {
   "cell_type": "markdown",
   "id": "9d235661",
   "metadata": {
    "papermill": {
     "duration": 0.009603,
     "end_time": "2025-08-19T18:54:53.668526",
     "exception": false,
     "start_time": "2025-08-19T18:54:53.658923",
     "status": "completed"
    },
    "tags": []
   },
   "source": [
    "The following cell holds the definition of our parameters, these values can be overriden by rendering the with e.g. the following command:\n",
    "\n",
    "papermill -p alpha 0.2 -p ratio 0.3 universe_analysis.ipynb output/test_run.ipynb"
   ]
  },
  {
   "cell_type": "code",
   "execution_count": 2,
   "id": "4a789d8e",
   "metadata": {
    "execution": {
     "iopub.execute_input": "2025-08-19T18:54:53.687947Z",
     "iopub.status.busy": "2025-08-19T18:54:53.687527Z",
     "iopub.status.idle": "2025-08-19T18:54:53.692052Z",
     "shell.execute_reply": "2025-08-19T18:54:53.691303Z"
    },
    "papermill": {
     "duration": 0.015712,
     "end_time": "2025-08-19T18:54:53.693224",
     "exception": false,
     "start_time": "2025-08-19T18:54:53.677512",
     "status": "completed"
    },
    "tags": []
   },
   "outputs": [
    {
     "name": "stdout",
     "output_type": "stream",
     "text": [
      "Current working directory: /dss/dsshome1/0C/ra93lal2/cma/CMA_Fairness_v2\n"
     ]
    }
   ],
   "source": [
    "import os\n",
    "print(\"Current working directory:\", os.getcwd())"
   ]
  },
  {
   "cell_type": "code",
   "execution_count": 3,
   "id": "4132aaed",
   "metadata": {
    "execution": {
     "iopub.execute_input": "2025-08-19T18:54:53.713372Z",
     "iopub.status.busy": "2025-08-19T18:54:53.712496Z",
     "iopub.status.idle": "2025-08-19T18:54:53.718284Z",
     "shell.execute_reply": "2025-08-19T18:54:53.717322Z"
    },
    "papermill": {
     "duration": 0.01707,
     "end_time": "2025-08-19T18:54:53.719478",
     "exception": false,
     "start_time": "2025-08-19T18:54:53.702408",
     "status": "completed"
    },
    "tags": [
     "parameters"
    ]
   },
   "outputs": [],
   "source": [
    "run_no = 0\n",
    "universe_id = \"test\"\n",
    "universe = {\n",
    "    \"training_size\": \"5k\", # \"25k\", \"5k\", \"1k\"\n",
    "    \"training_year\": \"2012_14\", # \"2014\", \"2012_14\", \"2010_14\"\n",
    "    \"scale\": \"scale\", # \"scale\", \"do-not-scale\",\n",
    "    \"model\": \"elasticnet\", # \"logreg\", \"penalized_logreg\", \"rf\", \"gbm\", \"elasticnet\"\n",
    "    \"cutoff\": [\"quantile_0.15\", \"quantile_0.30\"],\n",
    "    \"exclude_features\": \"age\", # \"none\", \"nationality\", \"sex\", \"nationality-sex\", \"age\"\n",
    "    \"exclude_subgroups\": \"drop-non-german\", # \"keep-all\", \"drop-non-german\"\n",
    "    \"eval_fairness_grouping\": [\"majority-minority\", \"nationality-all\"]\n",
    "}\n",
    "\n",
    "output_dir=\"./output\"\n",
    "seed=0"
   ]
  },
  {
   "cell_type": "code",
   "execution_count": 4,
   "id": "d79820ca",
   "metadata": {
    "execution": {
     "iopub.execute_input": "2025-08-19T18:54:53.740580Z",
     "iopub.status.busy": "2025-08-19T18:54:53.739327Z",
     "iopub.status.idle": "2025-08-19T18:54:53.748022Z",
     "shell.execute_reply": "2025-08-19T18:54:53.746422Z"
    },
    "papermill": {
     "duration": 0.021222,
     "end_time": "2025-08-19T18:54:53.749924",
     "exception": false,
     "start_time": "2025-08-19T18:54:53.728702",
     "status": "completed"
    },
    "tags": [
     "injected-parameters"
    ]
   },
   "outputs": [],
   "source": [
    "# Parameters\n",
    "universe_id = \"94e0338bfae4fb3e9869d2b2ce31ce8c\"\n",
    "run_no = \"3\"\n",
    "universe = \"{\\\"cutoff\\\": [\\\"quantile_0.1\\\", \\\"quantile_0.25\\\"], \\\"eval_fairness_grouping\\\": [\\\"majority-minority\\\", \\\"nationality-all\\\"], \\\"exclude_features\\\": \\\"none\\\", \\\"exclude_subgroups\\\": \\\"keep-all\\\", \\\"model\\\": \\\"gbm\\\", \\\"scale\\\": \\\"do-not-scale\\\", \\\"training_size\\\": \\\"1k\\\", \\\"training_year\\\": \\\"2014\\\"}\"\n",
    "output_dir = \"output\"\n",
    "seed = \"2023\"\n"
   ]
  },
  {
   "cell_type": "code",
   "execution_count": 5,
   "id": "a5d7941f",
   "metadata": {
    "execution": {
     "iopub.execute_input": "2025-08-19T18:54:53.775434Z",
     "iopub.status.busy": "2025-08-19T18:54:53.774258Z",
     "iopub.status.idle": "2025-08-19T18:54:53.782575Z",
     "shell.execute_reply": "2025-08-19T18:54:53.780960Z"
    },
    "papermill": {
     "duration": 0.021853,
     "end_time": "2025-08-19T18:54:53.784231",
     "exception": false,
     "start_time": "2025-08-19T18:54:53.762378",
     "status": "completed"
    },
    "tags": []
   },
   "outputs": [],
   "source": [
    "import json\n",
    "if isinstance(universe, str):\n",
    "    universe = json.loads(universe)"
   ]
  },
  {
   "cell_type": "code",
   "execution_count": 6,
   "id": "7076ccb1",
   "metadata": {
    "execution": {
     "iopub.execute_input": "2025-08-19T18:54:53.824073Z",
     "iopub.status.busy": "2025-08-19T18:54:53.822817Z",
     "iopub.status.idle": "2025-08-19T18:54:53.860730Z",
     "shell.execute_reply": "2025-08-19T18:54:53.859961Z"
    },
    "papermill": {
     "duration": 0.066002,
     "end_time": "2025-08-19T18:54:53.862187",
     "exception": false,
     "start_time": "2025-08-19T18:54:53.796185",
     "status": "completed"
    },
    "tags": []
   },
   "outputs": [],
   "source": [
    "# Auto-reload the custom package\n",
    "%load_ext autoreload\n",
    "%autoreload 1\n",
    "%aimport fairness_multiverse"
   ]
  },
  {
   "cell_type": "code",
   "execution_count": 7,
   "id": "94c8eb93",
   "metadata": {
    "execution": {
     "iopub.execute_input": "2025-08-19T18:54:53.889966Z",
     "iopub.status.busy": "2025-08-19T18:54:53.889626Z",
     "iopub.status.idle": "2025-08-19T18:54:55.482496Z",
     "shell.execute_reply": "2025-08-19T18:54:55.481515Z"
    },
    "papermill": {
     "duration": 1.606882,
     "end_time": "2025-08-19T18:54:55.484218",
     "exception": false,
     "start_time": "2025-08-19T18:54:53.877336",
     "status": "completed"
    },
    "tags": []
   },
   "outputs": [],
   "source": [
    "from fairness_multiverse.universe import UniverseAnalysis\n",
    "\n",
    "universe_analysis = UniverseAnalysis(\n",
    "    run_no = run_no,\n",
    "    universe_id = universe_id,\n",
    "    universe = universe,\n",
    "    output_dir=output_dir,\n",
    ")"
   ]
  },
  {
   "cell_type": "code",
   "execution_count": 8,
   "id": "2a6381cf",
   "metadata": {
    "execution": {
     "iopub.execute_input": "2025-08-19T18:54:55.517002Z",
     "iopub.status.busy": "2025-08-19T18:54:55.504159Z",
     "iopub.status.idle": "2025-08-19T18:54:55.525273Z",
     "shell.execute_reply": "2025-08-19T18:54:55.524351Z"
    },
    "papermill": {
     "duration": 0.033195,
     "end_time": "2025-08-19T18:54:55.527098",
     "exception": false,
     "start_time": "2025-08-19T18:54:55.493903",
     "status": "completed"
    },
    "tags": []
   },
   "outputs": [
    {
     "name": "stdout",
     "output_type": "stream",
     "text": [
      "Using Seed: 2023\n"
     ]
    }
   ],
   "source": [
    "import numpy as np\n",
    "parsed_seed = int(seed)\n",
    "np.random.seed(parsed_seed)\n",
    "print(f\"Using Seed: {parsed_seed}\")"
   ]
  },
  {
   "cell_type": "markdown",
   "id": "b6e958b4",
   "metadata": {
    "papermill": {
     "duration": 0.010404,
     "end_time": "2025-08-19T18:54:55.553728",
     "exception": false,
     "start_time": "2025-08-19T18:54:55.543324",
     "status": "completed"
    },
    "tags": []
   },
   "source": [
    "# Loading Data"
   ]
  },
  {
   "cell_type": "code",
   "execution_count": 9,
   "id": "98701482",
   "metadata": {
    "execution": {
     "iopub.execute_input": "2025-08-19T18:54:55.582892Z",
     "iopub.status.busy": "2025-08-19T18:54:55.582486Z",
     "iopub.status.idle": "2025-08-19T18:55:06.073245Z",
     "shell.execute_reply": "2025-08-19T18:55:06.072023Z"
    },
    "papermill": {
     "duration": 10.511121,
     "end_time": "2025-08-19T18:55:06.074974",
     "exception": false,
     "start_time": "2025-08-19T18:54:55.563853",
     "status": "completed"
    },
    "tags": []
   },
   "outputs": [
    {
     "name": "stdout",
     "output_type": "stream",
     "text": [
      "Loading SIAB data from cache: data/siab_cached.csv.gz\n"
     ]
    },
    {
     "name": "stdout",
     "output_type": "stream",
     "text": [
      "(643690, 164)\n"
     ]
    }
   ],
   "source": [
    "from pathlib import Path\n",
    "import pandas as pd\n",
    "\n",
    "# File paths\n",
    "raw_file = Path(\"data/raw/siab.csv\")\n",
    "cache_file = Path(\"data/siab_cached.csv.gz\")\n",
    "\n",
    "# Ensure cache directory exists\n",
    "cache_file.parent.mkdir(parents=True, exist_ok=True)\n",
    "\n",
    "# Load with simple caching\n",
    "if cache_file.exists():\n",
    "    print(f\"Loading SIAB data from cache: {cache_file}\")\n",
    "    siab = pd.read_csv(cache_file, compression='gzip')\n",
    "else:\n",
    "    print(f\"Cache not found. Reading raw SIAB data: {raw_file}\")\n",
    "    siab = pd.read_csv(raw_file)\n",
    "    siab.to_csv(cache_file, index=False, compression='gzip')\n",
    "    print(f\"Cached SIAB data to: {cache_file}\")\n",
    "\n",
    "print(siab.shape)"
   ]
  },
  {
   "cell_type": "code",
   "execution_count": 10,
   "id": "058d2abb",
   "metadata": {
    "execution": {
     "iopub.execute_input": "2025-08-19T18:55:06.103907Z",
     "iopub.status.busy": "2025-08-19T18:55:06.103286Z",
     "iopub.status.idle": "2025-08-19T18:55:06.313110Z",
     "shell.execute_reply": "2025-08-19T18:55:06.312163Z"
    },
    "papermill": {
     "duration": 0.226607,
     "end_time": "2025-08-19T18:55:06.316451",
     "exception": false,
     "start_time": "2025-08-19T18:55:06.089844",
     "status": "completed"
    },
    "tags": []
   },
   "outputs": [
    {
     "data": {
      "text/html": [
       "<div>\n",
       "<style scoped>\n",
       "    .dataframe tbody tr th:only-of-type {\n",
       "        vertical-align: middle;\n",
       "    }\n",
       "\n",
       "    .dataframe tbody tr th {\n",
       "        vertical-align: top;\n",
       "    }\n",
       "\n",
       "    .dataframe thead th {\n",
       "        text-align: right;\n",
       "    }\n",
       "</style>\n",
       "<table border=\"1\" class=\"dataframe\">\n",
       "  <thead>\n",
       "    <tr style=\"text-align: right;\">\n",
       "      <th></th>\n",
       "      <th>persnr</th>\n",
       "      <th>year</th>\n",
       "      <th>nrEntry</th>\n",
       "      <th>ltue</th>\n",
       "      <th>employed_before</th>\n",
       "      <th>receipt_leh_before</th>\n",
       "      <th>receipt_lhg_before</th>\n",
       "      <th>se_before</th>\n",
       "      <th>ASU_notue_seeking_before</th>\n",
       "      <th>ASU_other_before</th>\n",
       "      <th>...</th>\n",
       "      <th>minijob_tot_dur_byage</th>\n",
       "      <th>ft_tot_dur_byage</th>\n",
       "      <th>befrist_tot_dur_byage</th>\n",
       "      <th>leih_tot_dur_byage</th>\n",
       "      <th>LHG_tot_dur_byage</th>\n",
       "      <th>LEH_tot_dur_byage</th>\n",
       "      <th>almp_tot_dur_byage</th>\n",
       "      <th>almp_aw_tot_dur_byage</th>\n",
       "      <th>se_tot_dur_byage</th>\n",
       "      <th>seeking1_tot_dur_byage</th>\n",
       "    </tr>\n",
       "  </thead>\n",
       "  <tbody>\n",
       "    <tr>\n",
       "      <th>0</th>\n",
       "      <td>7</td>\n",
       "      <td>2015</td>\n",
       "      <td>1</td>\n",
       "      <td>0</td>\n",
       "      <td>1</td>\n",
       "      <td>0</td>\n",
       "      <td>0</td>\n",
       "      <td>0</td>\n",
       "      <td>1</td>\n",
       "      <td>0</td>\n",
       "      <td>...</td>\n",
       "      <td>0.000000</td>\n",
       "      <td>0.000000</td>\n",
       "      <td>15.043478</td>\n",
       "      <td>0.000000</td>\n",
       "      <td>0.000000</td>\n",
       "      <td>0.000000</td>\n",
       "      <td>0.000000</td>\n",
       "      <td>0.000000</td>\n",
       "      <td>0.000000</td>\n",
       "      <td>0.000000</td>\n",
       "    </tr>\n",
       "    <tr>\n",
       "      <th>1</th>\n",
       "      <td>18</td>\n",
       "      <td>2010</td>\n",
       "      <td>1</td>\n",
       "      <td>1</td>\n",
       "      <td>0</td>\n",
       "      <td>0</td>\n",
       "      <td>0</td>\n",
       "      <td>0</td>\n",
       "      <td>0</td>\n",
       "      <td>0</td>\n",
       "      <td>...</td>\n",
       "      <td>0.000000</td>\n",
       "      <td>0.000000</td>\n",
       "      <td>0.000000</td>\n",
       "      <td>0.000000</td>\n",
       "      <td>0.000000</td>\n",
       "      <td>0.000000</td>\n",
       "      <td>0.000000</td>\n",
       "      <td>0.000000</td>\n",
       "      <td>0.000000</td>\n",
       "      <td>0.000000</td>\n",
       "    </tr>\n",
       "    <tr>\n",
       "      <th>2</th>\n",
       "      <td>18</td>\n",
       "      <td>2011</td>\n",
       "      <td>2</td>\n",
       "      <td>0</td>\n",
       "      <td>1</td>\n",
       "      <td>0</td>\n",
       "      <td>1</td>\n",
       "      <td>0</td>\n",
       "      <td>1</td>\n",
       "      <td>0</td>\n",
       "      <td>...</td>\n",
       "      <td>2.714286</td>\n",
       "      <td>2.714286</td>\n",
       "      <td>0.000000</td>\n",
       "      <td>0.000000</td>\n",
       "      <td>10.775510</td>\n",
       "      <td>0.000000</td>\n",
       "      <td>8.367347</td>\n",
       "      <td>0.000000</td>\n",
       "      <td>0.000000</td>\n",
       "      <td>9.836735</td>\n",
       "    </tr>\n",
       "    <tr>\n",
       "      <th>3</th>\n",
       "      <td>18</td>\n",
       "      <td>2012</td>\n",
       "      <td>3</td>\n",
       "      <td>0</td>\n",
       "      <td>1</td>\n",
       "      <td>0</td>\n",
       "      <td>1</td>\n",
       "      <td>0</td>\n",
       "      <td>1</td>\n",
       "      <td>0</td>\n",
       "      <td>...</td>\n",
       "      <td>4.200000</td>\n",
       "      <td>4.200000</td>\n",
       "      <td>0.000000</td>\n",
       "      <td>0.000000</td>\n",
       "      <td>12.100000</td>\n",
       "      <td>0.000000</td>\n",
       "      <td>9.400000</td>\n",
       "      <td>0.000000</td>\n",
       "      <td>0.000000</td>\n",
       "      <td>9.960000</td>\n",
       "    </tr>\n",
       "    <tr>\n",
       "      <th>4</th>\n",
       "      <td>18</td>\n",
       "      <td>2012</td>\n",
       "      <td>4</td>\n",
       "      <td>0</td>\n",
       "      <td>1</td>\n",
       "      <td>0</td>\n",
       "      <td>1</td>\n",
       "      <td>0</td>\n",
       "      <td>1</td>\n",
       "      <td>0</td>\n",
       "      <td>...</td>\n",
       "      <td>5.460000</td>\n",
       "      <td>5.460000</td>\n",
       "      <td>0.000000</td>\n",
       "      <td>0.000000</td>\n",
       "      <td>13.360000</td>\n",
       "      <td>0.000000</td>\n",
       "      <td>10.320000</td>\n",
       "      <td>0.000000</td>\n",
       "      <td>0.000000</td>\n",
       "      <td>10.280000</td>\n",
       "    </tr>\n",
       "    <tr>\n",
       "      <th>...</th>\n",
       "      <td>...</td>\n",
       "      <td>...</td>\n",
       "      <td>...</td>\n",
       "      <td>...</td>\n",
       "      <td>...</td>\n",
       "      <td>...</td>\n",
       "      <td>...</td>\n",
       "      <td>...</td>\n",
       "      <td>...</td>\n",
       "      <td>...</td>\n",
       "      <td>...</td>\n",
       "      <td>...</td>\n",
       "      <td>...</td>\n",
       "      <td>...</td>\n",
       "      <td>...</td>\n",
       "      <td>...</td>\n",
       "      <td>...</td>\n",
       "      <td>...</td>\n",
       "      <td>...</td>\n",
       "      <td>...</td>\n",
       "      <td>...</td>\n",
       "    </tr>\n",
       "    <tr>\n",
       "      <th>643685</th>\n",
       "      <td>1827860</td>\n",
       "      <td>2013</td>\n",
       "      <td>1</td>\n",
       "      <td>0</td>\n",
       "      <td>0</td>\n",
       "      <td>0</td>\n",
       "      <td>1</td>\n",
       "      <td>0</td>\n",
       "      <td>0</td>\n",
       "      <td>1</td>\n",
       "      <td>...</td>\n",
       "      <td>0.000000</td>\n",
       "      <td>0.000000</td>\n",
       "      <td>0.000000</td>\n",
       "      <td>0.000000</td>\n",
       "      <td>0.612903</td>\n",
       "      <td>0.000000</td>\n",
       "      <td>0.000000</td>\n",
       "      <td>0.000000</td>\n",
       "      <td>0.000000</td>\n",
       "      <td>0.000000</td>\n",
       "    </tr>\n",
       "    <tr>\n",
       "      <th>643686</th>\n",
       "      <td>1827860</td>\n",
       "      <td>2015</td>\n",
       "      <td>2</td>\n",
       "      <td>1</td>\n",
       "      <td>0</td>\n",
       "      <td>0</td>\n",
       "      <td>1</td>\n",
       "      <td>0</td>\n",
       "      <td>1</td>\n",
       "      <td>0</td>\n",
       "      <td>...</td>\n",
       "      <td>0.000000</td>\n",
       "      <td>0.000000</td>\n",
       "      <td>0.212121</td>\n",
       "      <td>0.212121</td>\n",
       "      <td>17.363636</td>\n",
       "      <td>0.000000</td>\n",
       "      <td>8.909091</td>\n",
       "      <td>0.000000</td>\n",
       "      <td>0.000000</td>\n",
       "      <td>7.121212</td>\n",
       "    </tr>\n",
       "    <tr>\n",
       "      <th>643687</th>\n",
       "      <td>1827860</td>\n",
       "      <td>2016</td>\n",
       "      <td>3</td>\n",
       "      <td>1</td>\n",
       "      <td>0</td>\n",
       "      <td>0</td>\n",
       "      <td>1</td>\n",
       "      <td>1</td>\n",
       "      <td>0</td>\n",
       "      <td>1</td>\n",
       "      <td>...</td>\n",
       "      <td>0.000000</td>\n",
       "      <td>0.000000</td>\n",
       "      <td>0.294118</td>\n",
       "      <td>0.205882</td>\n",
       "      <td>34.705882</td>\n",
       "      <td>0.000000</td>\n",
       "      <td>10.352941</td>\n",
       "      <td>1.705882</td>\n",
       "      <td>1.705882</td>\n",
       "      <td>23.911765</td>\n",
       "    </tr>\n",
       "    <tr>\n",
       "      <th>643688</th>\n",
       "      <td>1827869</td>\n",
       "      <td>2013</td>\n",
       "      <td>1</td>\n",
       "      <td>1</td>\n",
       "      <td>1</td>\n",
       "      <td>0</td>\n",
       "      <td>0</td>\n",
       "      <td>0</td>\n",
       "      <td>1</td>\n",
       "      <td>0</td>\n",
       "      <td>...</td>\n",
       "      <td>0.000000</td>\n",
       "      <td>0.000000</td>\n",
       "      <td>0.000000</td>\n",
       "      <td>0.000000</td>\n",
       "      <td>0.000000</td>\n",
       "      <td>0.525424</td>\n",
       "      <td>0.000000</td>\n",
       "      <td>0.000000</td>\n",
       "      <td>0.000000</td>\n",
       "      <td>0.000000</td>\n",
       "    </tr>\n",
       "    <tr>\n",
       "      <th>643689</th>\n",
       "      <td>1827869</td>\n",
       "      <td>2014</td>\n",
       "      <td>2</td>\n",
       "      <td>0</td>\n",
       "      <td>0</td>\n",
       "      <td>1</td>\n",
       "      <td>0</td>\n",
       "      <td>0</td>\n",
       "      <td>1</td>\n",
       "      <td>0</td>\n",
       "      <td>...</td>\n",
       "      <td>0.000000</td>\n",
       "      <td>0.666667</td>\n",
       "      <td>0.666667</td>\n",
       "      <td>0.000000</td>\n",
       "      <td>0.000000</td>\n",
       "      <td>8.950000</td>\n",
       "      <td>1.033333</td>\n",
       "      <td>0.083333</td>\n",
       "      <td>0.083333</td>\n",
       "      <td>8.133333</td>\n",
       "    </tr>\n",
       "  </tbody>\n",
       "</table>\n",
       "<p>643690 rows × 164 columns</p>\n",
       "</div>"
      ],
      "text/plain": [
       "         persnr  year  nrEntry  ltue  employed_before  receipt_leh_before  \\\n",
       "0             7  2015        1     0                1                   0   \n",
       "1            18  2010        1     1                0                   0   \n",
       "2            18  2011        2     0                1                   0   \n",
       "3            18  2012        3     0                1                   0   \n",
       "4            18  2012        4     0                1                   0   \n",
       "...         ...   ...      ...   ...              ...                 ...   \n",
       "643685  1827860  2013        1     0                0                   0   \n",
       "643686  1827860  2015        2     1                0                   0   \n",
       "643687  1827860  2016        3     1                0                   0   \n",
       "643688  1827869  2013        1     1                1                   0   \n",
       "643689  1827869  2014        2     0                0                   1   \n",
       "\n",
       "        receipt_lhg_before  se_before  ASU_notue_seeking_before  \\\n",
       "0                        0          0                         1   \n",
       "1                        0          0                         0   \n",
       "2                        1          0                         1   \n",
       "3                        1          0                         1   \n",
       "4                        1          0                         1   \n",
       "...                    ...        ...                       ...   \n",
       "643685                   1          0                         0   \n",
       "643686                   1          0                         1   \n",
       "643687                   1          1                         0   \n",
       "643688                   0          0                         1   \n",
       "643689                   0          0                         1   \n",
       "\n",
       "        ASU_other_before  ...  minijob_tot_dur_byage  ft_tot_dur_byage  \\\n",
       "0                      0  ...               0.000000          0.000000   \n",
       "1                      0  ...               0.000000          0.000000   \n",
       "2                      0  ...               2.714286          2.714286   \n",
       "3                      0  ...               4.200000          4.200000   \n",
       "4                      0  ...               5.460000          5.460000   \n",
       "...                  ...  ...                    ...               ...   \n",
       "643685                 1  ...               0.000000          0.000000   \n",
       "643686                 0  ...               0.000000          0.000000   \n",
       "643687                 1  ...               0.000000          0.000000   \n",
       "643688                 0  ...               0.000000          0.000000   \n",
       "643689                 0  ...               0.000000          0.666667   \n",
       "\n",
       "        befrist_tot_dur_byage  leih_tot_dur_byage  LHG_tot_dur_byage  \\\n",
       "0                   15.043478            0.000000           0.000000   \n",
       "1                    0.000000            0.000000           0.000000   \n",
       "2                    0.000000            0.000000          10.775510   \n",
       "3                    0.000000            0.000000          12.100000   \n",
       "4                    0.000000            0.000000          13.360000   \n",
       "...                       ...                 ...                ...   \n",
       "643685               0.000000            0.000000           0.612903   \n",
       "643686               0.212121            0.212121          17.363636   \n",
       "643687               0.294118            0.205882          34.705882   \n",
       "643688               0.000000            0.000000           0.000000   \n",
       "643689               0.666667            0.000000           0.000000   \n",
       "\n",
       "        LEH_tot_dur_byage  almp_tot_dur_byage  almp_aw_tot_dur_byage  \\\n",
       "0                0.000000            0.000000               0.000000   \n",
       "1                0.000000            0.000000               0.000000   \n",
       "2                0.000000            8.367347               0.000000   \n",
       "3                0.000000            9.400000               0.000000   \n",
       "4                0.000000           10.320000               0.000000   \n",
       "...                   ...                 ...                    ...   \n",
       "643685           0.000000            0.000000               0.000000   \n",
       "643686           0.000000            8.909091               0.000000   \n",
       "643687           0.000000           10.352941               1.705882   \n",
       "643688           0.525424            0.000000               0.000000   \n",
       "643689           8.950000            1.033333               0.083333   \n",
       "\n",
       "        se_tot_dur_byage  seeking1_tot_dur_byage  \n",
       "0               0.000000                0.000000  \n",
       "1               0.000000                0.000000  \n",
       "2               0.000000                9.836735  \n",
       "3               0.000000                9.960000  \n",
       "4               0.000000               10.280000  \n",
       "...                  ...                     ...  \n",
       "643685          0.000000                0.000000  \n",
       "643686          0.000000                7.121212  \n",
       "643687          1.705882               23.911765  \n",
       "643688          0.000000                0.000000  \n",
       "643689          0.083333                8.133333  \n",
       "\n",
       "[643690 rows x 164 columns]"
      ]
     },
     "execution_count": 10,
     "metadata": {},
     "output_type": "execute_result"
    }
   ],
   "source": [
    "siab"
   ]
  },
  {
   "cell_type": "markdown",
   "id": "1f87e805",
   "metadata": {
    "papermill": {
     "duration": 0.011724,
     "end_time": "2025-08-19T18:55:06.350468",
     "exception": false,
     "start_time": "2025-08-19T18:55:06.338744",
     "status": "completed"
    },
    "tags": []
   },
   "source": [
    "# Splitting Data and Setting Training Data Size"
   ]
  },
  {
   "cell_type": "code",
   "execution_count": 11,
   "id": "910ae358",
   "metadata": {
    "execution": {
     "iopub.execute_input": "2025-08-19T18:55:06.372665Z",
     "iopub.status.busy": "2025-08-19T18:55:06.371961Z",
     "iopub.status.idle": "2025-08-19T18:55:06.633241Z",
     "shell.execute_reply": "2025-08-19T18:55:06.631259Z"
    },
    "papermill": {
     "duration": 0.275107,
     "end_time": "2025-08-19T18:55:06.635394",
     "exception": false,
     "start_time": "2025-08-19T18:55:06.360287",
     "status": "completed"
    },
    "tags": []
   },
   "outputs": [],
   "source": [
    "from fairness_multiverse.universe import sample_by_year_size\n",
    "\n",
    "siab_train = sample_by_year_size(siab,\n",
    "                               training_year=universe[\"training_year\"],\n",
    "                               training_size=universe[\"training_size\"])"
   ]
  },
  {
   "cell_type": "code",
   "execution_count": 12,
   "id": "919c8ff5",
   "metadata": {
    "execution": {
     "iopub.execute_input": "2025-08-19T18:55:06.662915Z",
     "iopub.status.busy": "2025-08-19T18:55:06.660535Z",
     "iopub.status.idle": "2025-08-19T18:55:06.676143Z",
     "shell.execute_reply": "2025-08-19T18:55:06.675062Z"
    },
    "papermill": {
     "duration": 0.036425,
     "end_time": "2025-08-19T18:55:06.682536",
     "exception": false,
     "start_time": "2025-08-19T18:55:06.646111",
     "status": "completed"
    },
    "tags": []
   },
   "outputs": [
    {
     "data": {
      "text/plain": [
       "(1000, 164)"
      ]
     },
     "execution_count": 12,
     "metadata": {},
     "output_type": "execute_result"
    }
   ],
   "source": [
    "siab_train.shape"
   ]
  },
  {
   "cell_type": "code",
   "execution_count": 13,
   "id": "feb13bf4",
   "metadata": {
    "execution": {
     "iopub.execute_input": "2025-08-19T18:55:06.707676Z",
     "iopub.status.busy": "2025-08-19T18:55:06.706865Z",
     "iopub.status.idle": "2025-08-19T18:55:06.727479Z",
     "shell.execute_reply": "2025-08-19T18:55:06.726363Z"
    },
    "papermill": {
     "duration": 0.034989,
     "end_time": "2025-08-19T18:55:06.729004",
     "exception": false,
     "start_time": "2025-08-19T18:55:06.694015",
     "status": "completed"
    },
    "tags": []
   },
   "outputs": [
    {
     "data": {
      "text/plain": [
       "year\n",
       "2014    1000\n",
       "dtype: int64"
      ]
     },
     "metadata": {},
     "output_type": "display_data"
    }
   ],
   "source": [
    "display(siab_train.groupby(\"year\").size())"
   ]
  },
  {
   "cell_type": "code",
   "execution_count": 14,
   "id": "0997782f",
   "metadata": {
    "execution": {
     "iopub.execute_input": "2025-08-19T18:55:06.762339Z",
     "iopub.status.busy": "2025-08-19T18:55:06.761269Z",
     "iopub.status.idle": "2025-08-19T18:55:07.038285Z",
     "shell.execute_reply": "2025-08-19T18:55:07.036369Z"
    },
    "papermill": {
     "duration": 0.295881,
     "end_time": "2025-08-19T18:55:07.041615",
     "exception": false,
     "start_time": "2025-08-19T18:55:06.745734",
     "status": "completed"
    },
    "tags": []
   },
   "outputs": [],
   "source": [
    "#siab_train = siab_s[siab_s.year < 2015]\n",
    "siab_calib = siab[siab.year == 2015]\n",
    "siab_test = siab[siab.year == 2016]"
   ]
  },
  {
   "cell_type": "code",
   "execution_count": 15,
   "id": "2c1e4012",
   "metadata": {
    "execution": {
     "iopub.execute_input": "2025-08-19T18:55:07.104346Z",
     "iopub.status.busy": "2025-08-19T18:55:07.103544Z",
     "iopub.status.idle": "2025-08-19T18:55:07.110131Z",
     "shell.execute_reply": "2025-08-19T18:55:07.109211Z"
    },
    "papermill": {
     "duration": 0.030632,
     "end_time": "2025-08-19T18:55:07.111542",
     "exception": false,
     "start_time": "2025-08-19T18:55:07.080910",
     "status": "completed"
    },
    "tags": []
   },
   "outputs": [],
   "source": [
    "#siab_calib.shape"
   ]
  },
  {
   "cell_type": "code",
   "execution_count": 16,
   "id": "f66b54ca",
   "metadata": {
    "execution": {
     "iopub.execute_input": "2025-08-19T18:55:07.134451Z",
     "iopub.status.busy": "2025-08-19T18:55:07.133973Z",
     "iopub.status.idle": "2025-08-19T18:55:07.138980Z",
     "shell.execute_reply": "2025-08-19T18:55:07.138076Z"
    },
    "papermill": {
     "duration": 0.017846,
     "end_time": "2025-08-19T18:55:07.140234",
     "exception": false,
     "start_time": "2025-08-19T18:55:07.122388",
     "status": "completed"
    },
    "tags": []
   },
   "outputs": [],
   "source": [
    "#siab_test.shape"
   ]
  },
  {
   "cell_type": "code",
   "execution_count": 17,
   "id": "27e4384d",
   "metadata": {
    "execution": {
     "iopub.execute_input": "2025-08-19T18:55:07.165226Z",
     "iopub.status.busy": "2025-08-19T18:55:07.164323Z",
     "iopub.status.idle": "2025-08-19T18:55:07.171381Z",
     "shell.execute_reply": "2025-08-19T18:55:07.170484Z"
    },
    "papermill": {
     "duration": 0.020755,
     "end_time": "2025-08-19T18:55:07.172914",
     "exception": false,
     "start_time": "2025-08-19T18:55:07.152159",
     "status": "completed"
    },
    "tags": []
   },
   "outputs": [],
   "source": [
    "X_train = siab_train.iloc[:,4:164]\n",
    "y_train = siab_train.iloc[:, [3]]"
   ]
  },
  {
   "cell_type": "code",
   "execution_count": 18,
   "id": "08ee8389",
   "metadata": {
    "execution": {
     "iopub.execute_input": "2025-08-19T18:55:07.196858Z",
     "iopub.status.busy": "2025-08-19T18:55:07.196068Z",
     "iopub.status.idle": "2025-08-19T18:55:07.260767Z",
     "shell.execute_reply": "2025-08-19T18:55:07.259994Z"
    },
    "papermill": {
     "duration": 0.077853,
     "end_time": "2025-08-19T18:55:07.262211",
     "exception": false,
     "start_time": "2025-08-19T18:55:07.184358",
     "status": "completed"
    },
    "tags": []
   },
   "outputs": [],
   "source": [
    "X_calib = siab_calib.iloc[:,4:164]\n",
    "y_calib = siab_calib.iloc[:, [3]]"
   ]
  },
  {
   "cell_type": "code",
   "execution_count": 19,
   "id": "b7ff42e0",
   "metadata": {
    "execution": {
     "iopub.execute_input": "2025-08-19T18:55:07.285676Z",
     "iopub.status.busy": "2025-08-19T18:55:07.285297Z",
     "iopub.status.idle": "2025-08-19T18:55:07.347207Z",
     "shell.execute_reply": "2025-08-19T18:55:07.346401Z"
    },
    "papermill": {
     "duration": 0.075071,
     "end_time": "2025-08-19T18:55:07.348884",
     "exception": false,
     "start_time": "2025-08-19T18:55:07.273813",
     "status": "completed"
    },
    "tags": []
   },
   "outputs": [],
   "source": [
    "X_test = siab_test.iloc[:,4:164]\n",
    "y_true = siab_test.iloc[:, [3]]"
   ]
  },
  {
   "cell_type": "code",
   "execution_count": 20,
   "id": "0275101e",
   "metadata": {
    "execution": {
     "iopub.execute_input": "2025-08-19T18:55:07.373410Z",
     "iopub.status.busy": "2025-08-19T18:55:07.372552Z",
     "iopub.status.idle": "2025-08-19T18:55:07.488782Z",
     "shell.execute_reply": "2025-08-19T18:55:07.487971Z"
    },
    "papermill": {
     "duration": 0.129218,
     "end_time": "2025-08-19T18:55:07.490277",
     "exception": false,
     "start_time": "2025-08-19T18:55:07.361059",
     "status": "completed"
    },
    "tags": []
   },
   "outputs": [],
   "source": [
    "# Auxiliary data needed downstream in the pipeline\n",
    "\n",
    "org_train = X_train.copy()\n",
    "org_test = X_test.copy()\n",
    "org_calib = X_calib.copy()"
   ]
  },
  {
   "cell_type": "markdown",
   "id": "b461e618",
   "metadata": {
    "papermill": {
     "duration": 0.020108,
     "end_time": "2025-08-19T18:55:07.533156",
     "exception": false,
     "start_time": "2025-08-19T18:55:07.513048",
     "status": "completed"
    },
    "tags": []
   },
   "source": [
    "# Preprocessing Data"
   ]
  },
  {
   "cell_type": "code",
   "execution_count": 21,
   "id": "78e74c4b",
   "metadata": {
    "execution": {
     "iopub.execute_input": "2025-08-19T18:55:07.575914Z",
     "iopub.status.busy": "2025-08-19T18:55:07.569193Z",
     "iopub.status.idle": "2025-08-19T18:55:07.583664Z",
     "shell.execute_reply": "2025-08-19T18:55:07.582572Z"
    },
    "papermill": {
     "duration": 0.028247,
     "end_time": "2025-08-19T18:55:07.585258",
     "exception": false,
     "start_time": "2025-08-19T18:55:07.557011",
     "status": "completed"
    },
    "tags": []
   },
   "outputs": [],
   "source": [
    "# EXCLUDE PROTECTED FEATURES\n",
    "# --------------------------\n",
    "\n",
    "excluded_features = universe[\"exclude_features\"].split(\"-\")\n",
    "excluded_features_dictionary = {\n",
    "    \"nationality\": [\"maxdeutsch1\", \"maxdeutsch.Missing.\"],\n",
    "    \"sex\": [\"frau1\"],\n",
    "    \"age\": [\"age\"],\n",
    "}"
   ]
  },
  {
   "cell_type": "code",
   "execution_count": 22,
   "id": "f8e63555",
   "metadata": {
    "execution": {
     "iopub.execute_input": "2025-08-19T18:55:07.629220Z",
     "iopub.status.busy": "2025-08-19T18:55:07.627641Z",
     "iopub.status.idle": "2025-08-19T18:55:07.639087Z",
     "shell.execute_reply": "2025-08-19T18:55:07.636912Z"
    },
    "papermill": {
     "duration": 0.037302,
     "end_time": "2025-08-19T18:55:07.642376",
     "exception": false,
     "start_time": "2025-08-19T18:55:07.605074",
     "status": "completed"
    },
    "tags": []
   },
   "outputs": [],
   "source": [
    "excluded_features_columns = [\n",
    "    excluded_features_dictionary[f] for f in excluded_features if len(f) > 0 and f != \"none\"\n",
    "]"
   ]
  },
  {
   "cell_type": "code",
   "execution_count": 23,
   "id": "da781f7c",
   "metadata": {
    "execution": {
     "iopub.execute_input": "2025-08-19T18:55:07.678174Z",
     "iopub.status.busy": "2025-08-19T18:55:07.676762Z",
     "iopub.status.idle": "2025-08-19T18:55:07.686642Z",
     "shell.execute_reply": "2025-08-19T18:55:07.684665Z"
    },
    "papermill": {
     "duration": 0.025217,
     "end_time": "2025-08-19T18:55:07.688228",
     "exception": false,
     "start_time": "2025-08-19T18:55:07.663011",
     "status": "completed"
    },
    "tags": []
   },
   "outputs": [],
   "source": [
    "from fairness_multiverse.universe import flatten_once\n",
    "\n",
    "excluded_features_columns = flatten_once(excluded_features_columns)"
   ]
  },
  {
   "cell_type": "code",
   "execution_count": 24,
   "id": "37fef0f0",
   "metadata": {
    "execution": {
     "iopub.execute_input": "2025-08-19T18:55:07.714406Z",
     "iopub.status.busy": "2025-08-19T18:55:07.713590Z",
     "iopub.status.idle": "2025-08-19T18:55:07.722444Z",
     "shell.execute_reply": "2025-08-19T18:55:07.720782Z"
    },
    "papermill": {
     "duration": 0.022075,
     "end_time": "2025-08-19T18:55:07.724085",
     "exception": false,
     "start_time": "2025-08-19T18:55:07.702010",
     "status": "completed"
    },
    "tags": []
   },
   "outputs": [],
   "source": [
    "if len(excluded_features_columns) > 0:\n",
    "    print(f\"Dropping features: {excluded_features_columns}\")\n",
    "    X_train.drop(excluded_features_columns, axis=1, inplace=True)"
   ]
  },
  {
   "cell_type": "code",
   "execution_count": 25,
   "id": "d029e3e9",
   "metadata": {
    "execution": {
     "iopub.execute_input": "2025-08-19T18:55:07.753685Z",
     "iopub.status.busy": "2025-08-19T18:55:07.752233Z",
     "iopub.status.idle": "2025-08-19T18:55:07.762168Z",
     "shell.execute_reply": "2025-08-19T18:55:07.760736Z"
    },
    "papermill": {
     "duration": 0.025815,
     "end_time": "2025-08-19T18:55:07.764709",
     "exception": false,
     "start_time": "2025-08-19T18:55:07.738894",
     "status": "completed"
    },
    "tags": []
   },
   "outputs": [],
   "source": [
    "if len(excluded_features_columns) > 0:\n",
    "    print(f\"Dropping features: {excluded_features_columns}\")\n",
    "    X_test.drop(excluded_features_columns, axis=1, inplace=True)"
   ]
  },
  {
   "cell_type": "code",
   "execution_count": 26,
   "id": "01d571f0",
   "metadata": {
    "execution": {
     "iopub.execute_input": "2025-08-19T18:55:07.791580Z",
     "iopub.status.busy": "2025-08-19T18:55:07.790866Z",
     "iopub.status.idle": "2025-08-19T18:55:07.886481Z",
     "shell.execute_reply": "2025-08-19T18:55:07.882568Z"
    },
    "papermill": {
     "duration": 0.110382,
     "end_time": "2025-08-19T18:55:07.889245",
     "exception": false,
     "start_time": "2025-08-19T18:55:07.778863",
     "status": "completed"
    },
    "tags": []
   },
   "outputs": [],
   "source": [
    "if len(excluded_features_columns) > 0:\n",
    "    print(f\"Dropping features: {excluded_features_columns}\")\n",
    "    X_calib.drop(excluded_features_columns, axis=1, inplace=True)"
   ]
  },
  {
   "cell_type": "code",
   "execution_count": 27,
   "id": "3037356e",
   "metadata": {
    "execution": {
     "iopub.execute_input": "2025-08-19T18:55:07.935349Z",
     "iopub.status.busy": "2025-08-19T18:55:07.934323Z",
     "iopub.status.idle": "2025-08-19T18:55:07.946762Z",
     "shell.execute_reply": "2025-08-19T18:55:07.944923Z"
    },
    "papermill": {
     "duration": 0.038856,
     "end_time": "2025-08-19T18:55:07.950979",
     "exception": false,
     "start_time": "2025-08-19T18:55:07.912123",
     "status": "completed"
    },
    "tags": []
   },
   "outputs": [],
   "source": [
    "# EXCLUDE CERTAIN SUBGROUPS\n",
    "# -------------------------\n",
    "\n",
    "mode = universe.get(\"exclude_subgroups\", \"keep-all\") # Defaults to \"keep-all\" if the key is missing."
   ]
  },
  {
   "cell_type": "code",
   "execution_count": 28,
   "id": "9d1e63fd",
   "metadata": {
    "execution": {
     "iopub.execute_input": "2025-08-19T18:55:08.005107Z",
     "iopub.status.busy": "2025-08-19T18:55:08.004645Z",
     "iopub.status.idle": "2025-08-19T18:55:08.012935Z",
     "shell.execute_reply": "2025-08-19T18:55:08.012079Z"
    },
    "papermill": {
     "duration": 0.042542,
     "end_time": "2025-08-19T18:55:08.014195",
     "exception": false,
     "start_time": "2025-08-19T18:55:07.971653",
     "status": "completed"
    },
    "tags": []
   },
   "outputs": [],
   "source": [
    "if mode == \"keep-all\":\n",
    "    keep_mask = pd.Series(True, index=org_train.index)\n",
    "\n",
    "elif mode == \"drop-non-german\":\n",
    "    keep_mask = (org_train[\"maxdeutsch1\"] == 1) & (org_train[\"maxdeutsch.Missing.\"] == 0)\n",
    "\n",
    "else:\n",
    "    raise ValueError(f\"Unsupported mode for exclude_subgroups: {mode}\")"
   ]
  },
  {
   "cell_type": "code",
   "execution_count": 29,
   "id": "d3b65474",
   "metadata": {
    "execution": {
     "iopub.execute_input": "2025-08-19T18:55:08.058010Z",
     "iopub.status.busy": "2025-08-19T18:55:08.057274Z",
     "iopub.status.idle": "2025-08-19T18:55:08.067862Z",
     "shell.execute_reply": "2025-08-19T18:55:08.067252Z"
    },
    "papermill": {
     "duration": 0.042429,
     "end_time": "2025-08-19T18:55:08.070525",
     "exception": false,
     "start_time": "2025-08-19T18:55:08.028096",
     "status": "completed"
    },
    "tags": []
   },
   "outputs": [],
   "source": [
    "n_drop = (~keep_mask).sum() # Calculates how many rows are set to be dropped\n",
    "if n_drop > 0:\n",
    "    pct = n_drop / len(keep_mask) * 100\n",
    "    print(f\"Dropping {n_drop} rows ({pct:.2f}%) where mode='{mode}'\")"
   ]
  },
  {
   "cell_type": "code",
   "execution_count": 30,
   "id": "f44389b3",
   "metadata": {
    "execution": {
     "iopub.execute_input": "2025-08-19T18:55:08.144199Z",
     "iopub.status.busy": "2025-08-19T18:55:08.143392Z",
     "iopub.status.idle": "2025-08-19T18:55:08.148758Z",
     "shell.execute_reply": "2025-08-19T18:55:08.148133Z"
    },
    "papermill": {
     "duration": 0.048723,
     "end_time": "2025-08-19T18:55:08.149803",
     "exception": false,
     "start_time": "2025-08-19T18:55:08.101080",
     "status": "completed"
    },
    "tags": []
   },
   "outputs": [],
   "source": [
    "X_train = X_train[keep_mask]"
   ]
  },
  {
   "cell_type": "code",
   "execution_count": 31,
   "id": "ceca8c2a",
   "metadata": {
    "execution": {
     "iopub.execute_input": "2025-08-19T18:55:08.175093Z",
     "iopub.status.busy": "2025-08-19T18:55:08.174239Z",
     "iopub.status.idle": "2025-08-19T18:55:08.185400Z",
     "shell.execute_reply": "2025-08-19T18:55:08.182200Z"
    },
    "papermill": {
     "duration": 0.025826,
     "end_time": "2025-08-19T18:55:08.186814",
     "exception": false,
     "start_time": "2025-08-19T18:55:08.160988",
     "status": "completed"
    },
    "tags": []
   },
   "outputs": [],
   "source": [
    "y_train = y_train[keep_mask]"
   ]
  },
  {
   "cell_type": "markdown",
   "id": "04d31e2f",
   "metadata": {
    "papermill": {
     "duration": 0.011203,
     "end_time": "2025-08-19T18:55:08.211822",
     "exception": false,
     "start_time": "2025-08-19T18:55:08.200619",
     "status": "completed"
    },
    "tags": []
   },
   "source": [
    "# Model Training"
   ]
  },
  {
   "cell_type": "code",
   "execution_count": 32,
   "id": "db991733",
   "metadata": {
    "execution": {
     "iopub.execute_input": "2025-08-19T18:55:08.236404Z",
     "iopub.status.busy": "2025-08-19T18:55:08.235491Z",
     "iopub.status.idle": "2025-08-19T18:55:08.345968Z",
     "shell.execute_reply": "2025-08-19T18:55:08.345153Z"
    },
    "papermill": {
     "duration": 0.124646,
     "end_time": "2025-08-19T18:55:08.347463",
     "exception": false,
     "start_time": "2025-08-19T18:55:08.222817",
     "status": "completed"
    },
    "tags": []
   },
   "outputs": [],
   "source": [
    "from sklearn.linear_model import LogisticRegression\n",
    "from sklearn.ensemble import GradientBoostingClassifier, RandomForestClassifier\n",
    "\n",
    "if (universe[\"model\"] == \"logreg\"):\n",
    "    model = LogisticRegression() #penalty=\"none\", solver=\"newton-cg\", max_iter=1)\n",
    "elif (universe[\"model\"] == \"penalized_logreg\"):\n",
    "    model = LogisticRegression(penalty=\"l2\", C=0.1) #, solver=\"newton-cg\", max_iter=1)\n",
    "elif (universe[\"model\"] == \"rf\"):\n",
    "    model = RandomForestClassifier() # n_estimators=100, n_jobs=-1\n",
    "elif (universe[\"model\"] == \"gbm\"):\n",
    "    model = GradientBoostingClassifier()\n",
    "elif (universe[\"model\"] == \"elasticnet\"):\n",
    "    model = LogisticRegression(penalty = 'elasticnet', solver = 'saga', l1_ratio = 0.5) # max_iter=5000\n",
    "else:\n",
    "    raise \"Unsupported universe.model\""
   ]
  },
  {
   "cell_type": "code",
   "execution_count": 33,
   "id": "a4b5cd25",
   "metadata": {
    "execution": {
     "iopub.execute_input": "2025-08-19T18:55:08.399391Z",
     "iopub.status.busy": "2025-08-19T18:55:08.398627Z",
     "iopub.status.idle": "2025-08-19T18:55:08.407334Z",
     "shell.execute_reply": "2025-08-19T18:55:08.406295Z"
    },
    "papermill": {
     "duration": 0.047815,
     "end_time": "2025-08-19T18:55:08.408826",
     "exception": false,
     "start_time": "2025-08-19T18:55:08.361011",
     "status": "completed"
    },
    "tags": []
   },
   "outputs": [],
   "source": [
    "from sklearn.pipeline import Pipeline\n",
    "from sklearn.preprocessing import StandardScaler\n",
    "\n",
    "model = Pipeline([\n",
    "    #(\"continuous_processor\", continuous_processor),\n",
    "    #(\"categorical_preprocessor\", categorical_preprocessor),\n",
    "    (\"scale\", StandardScaler() if universe[\"scale\"] == \"scale\" else None), \n",
    "    (\"model\", model),\n",
    "])"
   ]
  },
  {
   "cell_type": "code",
   "execution_count": 34,
   "id": "283a904d",
   "metadata": {
    "execution": {
     "iopub.execute_input": "2025-08-19T18:55:08.434923Z",
     "iopub.status.busy": "2025-08-19T18:55:08.434411Z",
     "iopub.status.idle": "2025-08-19T18:55:09.356250Z",
     "shell.execute_reply": "2025-08-19T18:55:09.355555Z"
    },
    "papermill": {
     "duration": 0.935029,
     "end_time": "2025-08-19T18:55:09.357465",
     "exception": false,
     "start_time": "2025-08-19T18:55:08.422436",
     "status": "completed"
    },
    "tags": []
   },
   "outputs": [
    {
     "data": {
      "text/html": [
       "<style>#sk-container-id-1 {color: black;background-color: white;}#sk-container-id-1 pre{padding: 0;}#sk-container-id-1 div.sk-toggleable {background-color: white;}#sk-container-id-1 label.sk-toggleable__label {cursor: pointer;display: block;width: 100%;margin-bottom: 0;padding: 0.3em;box-sizing: border-box;text-align: center;}#sk-container-id-1 label.sk-toggleable__label-arrow:before {content: \"▸\";float: left;margin-right: 0.25em;color: #696969;}#sk-container-id-1 label.sk-toggleable__label-arrow:hover:before {color: black;}#sk-container-id-1 div.sk-estimator:hover label.sk-toggleable__label-arrow:before {color: black;}#sk-container-id-1 div.sk-toggleable__content {max-height: 0;max-width: 0;overflow: hidden;text-align: left;background-color: #f0f8ff;}#sk-container-id-1 div.sk-toggleable__content pre {margin: 0.2em;color: black;border-radius: 0.25em;background-color: #f0f8ff;}#sk-container-id-1 input.sk-toggleable__control:checked~div.sk-toggleable__content {max-height: 200px;max-width: 100%;overflow: auto;}#sk-container-id-1 input.sk-toggleable__control:checked~label.sk-toggleable__label-arrow:before {content: \"▾\";}#sk-container-id-1 div.sk-estimator input.sk-toggleable__control:checked~label.sk-toggleable__label {background-color: #d4ebff;}#sk-container-id-1 div.sk-label input.sk-toggleable__control:checked~label.sk-toggleable__label {background-color: #d4ebff;}#sk-container-id-1 input.sk-hidden--visually {border: 0;clip: rect(1px 1px 1px 1px);clip: rect(1px, 1px, 1px, 1px);height: 1px;margin: -1px;overflow: hidden;padding: 0;position: absolute;width: 1px;}#sk-container-id-1 div.sk-estimator {font-family: monospace;background-color: #f0f8ff;border: 1px dotted black;border-radius: 0.25em;box-sizing: border-box;margin-bottom: 0.5em;}#sk-container-id-1 div.sk-estimator:hover {background-color: #d4ebff;}#sk-container-id-1 div.sk-parallel-item::after {content: \"\";width: 100%;border-bottom: 1px solid gray;flex-grow: 1;}#sk-container-id-1 div.sk-label:hover label.sk-toggleable__label {background-color: #d4ebff;}#sk-container-id-1 div.sk-serial::before {content: \"\";position: absolute;border-left: 1px solid gray;box-sizing: border-box;top: 0;bottom: 0;left: 50%;z-index: 0;}#sk-container-id-1 div.sk-serial {display: flex;flex-direction: column;align-items: center;background-color: white;padding-right: 0.2em;padding-left: 0.2em;position: relative;}#sk-container-id-1 div.sk-item {position: relative;z-index: 1;}#sk-container-id-1 div.sk-parallel {display: flex;align-items: stretch;justify-content: center;background-color: white;position: relative;}#sk-container-id-1 div.sk-item::before, #sk-container-id-1 div.sk-parallel-item::before {content: \"\";position: absolute;border-left: 1px solid gray;box-sizing: border-box;top: 0;bottom: 0;left: 50%;z-index: -1;}#sk-container-id-1 div.sk-parallel-item {display: flex;flex-direction: column;z-index: 1;position: relative;background-color: white;}#sk-container-id-1 div.sk-parallel-item:first-child::after {align-self: flex-end;width: 50%;}#sk-container-id-1 div.sk-parallel-item:last-child::after {align-self: flex-start;width: 50%;}#sk-container-id-1 div.sk-parallel-item:only-child::after {width: 0;}#sk-container-id-1 div.sk-dashed-wrapped {border: 1px dashed gray;margin: 0 0.4em 0.5em 0.4em;box-sizing: border-box;padding-bottom: 0.4em;background-color: white;}#sk-container-id-1 div.sk-label label {font-family: monospace;font-weight: bold;display: inline-block;line-height: 1.2em;}#sk-container-id-1 div.sk-label-container {text-align: center;}#sk-container-id-1 div.sk-container {/* jupyter's `normalize.less` sets `[hidden] { display: none; }` but bootstrap.min.css set `[hidden] { display: none !important; }` so we also need the `!important` here to be able to override the default hidden behavior on the sphinx rendered scikit-learn.org. See: https://github.com/scikit-learn/scikit-learn/issues/21755 */display: inline-block !important;position: relative;}#sk-container-id-1 div.sk-text-repr-fallback {display: none;}</style><div id=\"sk-container-id-1\" class=\"sk-top-container\"><div class=\"sk-text-repr-fallback\"><pre>Pipeline(steps=[(&#x27;scale&#x27;, None), (&#x27;model&#x27;, GradientBoostingClassifier())])</pre><b>In a Jupyter environment, please rerun this cell to show the HTML representation or trust the notebook. <br />On GitHub, the HTML representation is unable to render, please try loading this page with nbviewer.org.</b></div><div class=\"sk-container\" hidden><div class=\"sk-item sk-dashed-wrapped\"><div class=\"sk-label-container\"><div class=\"sk-label sk-toggleable\"><input class=\"sk-toggleable__control sk-hidden--visually\" id=\"sk-estimator-id-1\" type=\"checkbox\" ><label for=\"sk-estimator-id-1\" class=\"sk-toggleable__label sk-toggleable__label-arrow\">Pipeline</label><div class=\"sk-toggleable__content\"><pre>Pipeline(steps=[(&#x27;scale&#x27;, None), (&#x27;model&#x27;, GradientBoostingClassifier())])</pre></div></div></div><div class=\"sk-serial\"><div class=\"sk-item\"><div class=\"sk-estimator sk-toggleable\"><input class=\"sk-toggleable__control sk-hidden--visually\" id=\"sk-estimator-id-2\" type=\"checkbox\" ><label for=\"sk-estimator-id-2\" class=\"sk-toggleable__label sk-toggleable__label-arrow\">None</label><div class=\"sk-toggleable__content\"><pre>None</pre></div></div></div><div class=\"sk-item\"><div class=\"sk-estimator sk-toggleable\"><input class=\"sk-toggleable__control sk-hidden--visually\" id=\"sk-estimator-id-3\" type=\"checkbox\" ><label for=\"sk-estimator-id-3\" class=\"sk-toggleable__label sk-toggleable__label-arrow\">GradientBoostingClassifier</label><div class=\"sk-toggleable__content\"><pre>GradientBoostingClassifier()</pre></div></div></div></div></div></div></div>"
      ],
      "text/plain": [
       "Pipeline(steps=[('scale', None), ('model', GradientBoostingClassifier())])"
      ]
     },
     "execution_count": 34,
     "metadata": {},
     "output_type": "execute_result"
    }
   ],
   "source": [
    "model.fit(X_train, y_train.values.ravel())"
   ]
  },
  {
   "cell_type": "code",
   "execution_count": 35,
   "id": "6e15e313",
   "metadata": {
    "execution": {
     "iopub.execute_input": "2025-08-19T18:55:09.412552Z",
     "iopub.status.busy": "2025-08-19T18:55:09.411091Z",
     "iopub.status.idle": "2025-08-19T18:55:10.052994Z",
     "shell.execute_reply": "2025-08-19T18:55:10.052101Z"
    },
    "papermill": {
     "duration": 0.669033,
     "end_time": "2025-08-19T18:55:10.054222",
     "exception": false,
     "start_time": "2025-08-19T18:55:09.385189",
     "status": "completed"
    },
    "tags": []
   },
   "outputs": [
    {
     "data": {
      "text/plain": [
       "0.8503622784527923"
      ]
     },
     "execution_count": 35,
     "metadata": {},
     "output_type": "execute_result"
    }
   ],
   "source": [
    "from fairness_multiverse.universe import predict_w_threshold\n",
    "\n",
    "probs_test = model.predict_proba(X_test)\n",
    "\n",
    "'''\n",
    "Below code returns a boolean array (or binary 0/1 array depending on how it’s used) where each element \n",
    "is True if the probability of class 1 is greater than or equal to the threshold, and False otherwise.\n",
    "'''\n",
    "y_pred_default = predict_w_threshold(probs_test, 0.5)\n",
    "\n",
    "from sklearn.metrics import accuracy_score\n",
    "\n",
    "# Naive prediction\n",
    "accuracy_score(y_true = y_true, y_pred = y_pred_default)"
   ]
  },
  {
   "cell_type": "code",
   "execution_count": 36,
   "id": "6f14067c",
   "metadata": {
    "execution": {
     "iopub.execute_input": "2025-08-19T18:55:10.084200Z",
     "iopub.status.busy": "2025-08-19T18:55:10.077843Z",
     "iopub.status.idle": "2025-08-19T18:55:10.590992Z",
     "shell.execute_reply": "2025-08-19T18:55:10.589890Z"
    },
    "papermill": {
     "duration": 0.527646,
     "end_time": "2025-08-19T18:55:10.593447",
     "exception": false,
     "start_time": "2025-08-19T18:55:10.065801",
     "status": "completed"
    },
    "tags": []
   },
   "outputs": [
    {
     "data": {
      "text/plain": [
       "array([0, 0, 0, ..., 0, 0, 0])"
      ]
     },
     "execution_count": 36,
     "metadata": {},
     "output_type": "execute_result"
    }
   ],
   "source": [
    "model.predict(X_test)"
   ]
  },
  {
   "cell_type": "markdown",
   "id": "3759920c",
   "metadata": {
    "papermill": {
     "duration": 0.01296,
     "end_time": "2025-08-19T18:55:10.633008",
     "exception": false,
     "start_time": "2025-08-19T18:55:10.620048",
     "status": "completed"
    },
    "tags": []
   },
   "source": [
    "# Conformal Prediction"
   ]
  },
  {
   "cell_type": "code",
   "execution_count": 37,
   "id": "14b27f59",
   "metadata": {
    "execution": {
     "iopub.execute_input": "2025-08-19T18:55:10.658620Z",
     "iopub.status.busy": "2025-08-19T18:55:10.657967Z",
     "iopub.status.idle": "2025-08-19T18:55:10.665554Z",
     "shell.execute_reply": "2025-08-19T18:55:10.664523Z"
    },
    "papermill": {
     "duration": 0.022733,
     "end_time": "2025-08-19T18:55:10.667123",
     "exception": false,
     "start_time": "2025-08-19T18:55:10.644390",
     "status": "completed"
    },
    "tags": []
   },
   "outputs": [],
   "source": [
    "# Miscoverage level for conformal prediction (10% allowed error rate => 90% target coverage)\n",
    "alpha = 0.1"
   ]
  },
  {
   "cell_type": "code",
   "execution_count": 38,
   "id": "59102472",
   "metadata": {
    "execution": {
     "iopub.execute_input": "2025-08-19T18:55:10.696404Z",
     "iopub.status.busy": "2025-08-19T18:55:10.695755Z",
     "iopub.status.idle": "2025-08-19T18:55:11.204832Z",
     "shell.execute_reply": "2025-08-19T18:55:11.203613Z"
    },
    "papermill": {
     "duration": 0.525669,
     "end_time": "2025-08-19T18:55:11.207688",
     "exception": false,
     "start_time": "2025-08-19T18:55:10.682019",
     "status": "completed"
    },
    "tags": []
   },
   "outputs": [],
   "source": [
    "probs_calib = model.predict_proba(X_calib)"
   ]
  },
  {
   "cell_type": "code",
   "execution_count": 39,
   "id": "a792d4dd",
   "metadata": {
    "execution": {
     "iopub.execute_input": "2025-08-19T18:55:11.248868Z",
     "iopub.status.busy": "2025-08-19T18:55:11.247365Z",
     "iopub.status.idle": "2025-08-19T18:55:11.258837Z",
     "shell.execute_reply": "2025-08-19T18:55:11.257258Z"
    },
    "papermill": {
     "duration": 0.027358,
     "end_time": "2025-08-19T18:55:11.260558",
     "exception": false,
     "start_time": "2025-08-19T18:55:11.233200",
     "status": "completed"
    },
    "tags": []
   },
   "outputs": [],
   "source": [
    "y_calib = y_calib.values.ravel().astype(int)"
   ]
  },
  {
   "cell_type": "code",
   "execution_count": 40,
   "id": "650fd033",
   "metadata": {
    "execution": {
     "iopub.execute_input": "2025-08-19T18:55:11.290137Z",
     "iopub.status.busy": "2025-08-19T18:55:11.289026Z",
     "iopub.status.idle": "2025-08-19T18:55:11.302463Z",
     "shell.execute_reply": "2025-08-19T18:55:11.301156Z"
    },
    "papermill": {
     "duration": 0.028655,
     "end_time": "2025-08-19T18:55:11.304260",
     "exception": false,
     "start_time": "2025-08-19T18:55:11.275605",
     "status": "completed"
    },
    "tags": []
   },
   "outputs": [],
   "source": [
    "from fairness_multiverse.conformal import compute_nc_scores\n",
    "\n",
    "# Compute nonconformity scores on calibration set (1 - probability of true class)\n",
    "nc_scores = compute_nc_scores(probs_calib, y_calib)"
   ]
  },
  {
   "cell_type": "code",
   "execution_count": 41,
   "id": "28ada44c",
   "metadata": {
    "execution": {
     "iopub.execute_input": "2025-08-19T18:55:11.332974Z",
     "iopub.status.busy": "2025-08-19T18:55:11.331886Z",
     "iopub.status.idle": "2025-08-19T18:55:11.342433Z",
     "shell.execute_reply": "2025-08-19T18:55:11.341167Z"
    },
    "papermill": {
     "duration": 0.025682,
     "end_time": "2025-08-19T18:55:11.344114",
     "exception": false,
     "start_time": "2025-08-19T18:55:11.318432",
     "status": "completed"
    },
    "tags": []
   },
   "outputs": [],
   "source": [
    "from fairness_multiverse.conformal import find_threshold\n",
    "\n",
    "# Find conformal threshold q_hat for the given alpha (split conformal method)\n",
    "q_hat = find_threshold(nc_scores, alpha)"
   ]
  },
  {
   "cell_type": "code",
   "execution_count": 42,
   "id": "df56469e",
   "metadata": {
    "execution": {
     "iopub.execute_input": "2025-08-19T18:55:11.376915Z",
     "iopub.status.busy": "2025-08-19T18:55:11.375668Z",
     "iopub.status.idle": "2025-08-19T18:55:11.386294Z",
     "shell.execute_reply": "2025-08-19T18:55:11.384900Z"
    },
    "papermill": {
     "duration": 0.026872,
     "end_time": "2025-08-19T18:55:11.388138",
     "exception": false,
     "start_time": "2025-08-19T18:55:11.361266",
     "status": "completed"
    },
    "tags": []
   },
   "outputs": [
    {
     "data": {
      "text/plain": [
       "0.7418920731414473"
      ]
     },
     "execution_count": 42,
     "metadata": {},
     "output_type": "execute_result"
    }
   ],
   "source": [
    "q_hat"
   ]
  },
  {
   "cell_type": "code",
   "execution_count": 43,
   "id": "aa1f5faa",
   "metadata": {
    "execution": {
     "iopub.execute_input": "2025-08-19T18:55:11.418492Z",
     "iopub.status.busy": "2025-08-19T18:55:11.417308Z",
     "iopub.status.idle": "2025-08-19T18:55:12.373867Z",
     "shell.execute_reply": "2025-08-19T18:55:12.372462Z"
    },
    "papermill": {
     "duration": 0.972045,
     "end_time": "2025-08-19T18:55:12.375632",
     "exception": false,
     "start_time": "2025-08-19T18:55:11.403587",
     "status": "completed"
    },
    "tags": []
   },
   "outputs": [],
   "source": [
    "from fairness_multiverse.conformal import predict_conformal_sets\n",
    "\n",
    "# Generate prediction sets for each test example\n",
    "pred_sets = predict_conformal_sets(model, X_test, q_hat)"
   ]
  },
  {
   "cell_type": "code",
   "execution_count": 44,
   "id": "97f67a6b",
   "metadata": {
    "execution": {
     "iopub.execute_input": "2025-08-19T18:55:12.406735Z",
     "iopub.status.busy": "2025-08-19T18:55:12.405893Z",
     "iopub.status.idle": "2025-08-19T18:55:12.411017Z",
     "shell.execute_reply": "2025-08-19T18:55:12.410416Z"
    },
    "papermill": {
     "duration": 0.02333,
     "end_time": "2025-08-19T18:55:12.412312",
     "exception": false,
     "start_time": "2025-08-19T18:55:12.388982",
     "status": "completed"
    },
    "tags": []
   },
   "outputs": [],
   "source": [
    "y_true = y_true.squeeze()"
   ]
  },
  {
   "cell_type": "code",
   "execution_count": 45,
   "id": "e700e9a7",
   "metadata": {
    "execution": {
     "iopub.execute_input": "2025-08-19T18:55:12.459276Z",
     "iopub.status.busy": "2025-08-19T18:55:12.455578Z",
     "iopub.status.idle": "2025-08-19T18:55:12.984350Z",
     "shell.execute_reply": "2025-08-19T18:55:12.983129Z"
    },
    "papermill": {
     "duration": 0.551946,
     "end_time": "2025-08-19T18:55:12.987377",
     "exception": false,
     "start_time": "2025-08-19T18:55:12.435431",
     "status": "completed"
    },
    "tags": []
   },
   "outputs": [],
   "source": [
    "from fairness_multiverse.conformal import evaluate_sets\n",
    "\n",
    "# Evaluate coverage and average set size on test data\n",
    "metrics = evaluate_sets(pred_sets, y_true)"
   ]
  },
  {
   "cell_type": "markdown",
   "id": "efbacec0",
   "metadata": {
    "papermill": {
     "duration": 0.013539,
     "end_time": "2025-08-19T18:55:13.028214",
     "exception": false,
     "start_time": "2025-08-19T18:55:13.014675",
     "status": "completed"
    },
    "tags": []
   },
   "source": [
    "# CP Metrics"
   ]
  },
  {
   "cell_type": "code",
   "execution_count": 46,
   "id": "9de55fb1",
   "metadata": {
    "execution": {
     "iopub.execute_input": "2025-08-19T18:55:13.054823Z",
     "iopub.status.busy": "2025-08-19T18:55:13.053980Z",
     "iopub.status.idle": "2025-08-19T18:55:13.066276Z",
     "shell.execute_reply": "2025-08-19T18:55:13.065096Z"
    },
    "papermill": {
     "duration": 0.028249,
     "end_time": "2025-08-19T18:55:13.067885",
     "exception": false,
     "start_time": "2025-08-19T18:55:13.039636",
     "status": "completed"
    },
    "tags": []
   },
   "outputs": [
    {
     "data": {
      "text/plain": [
       "{'coverage': 0.9102218258834021, 'avg_size': 1.1565154386356036}"
      ]
     },
     "execution_count": 46,
     "metadata": {},
     "output_type": "execute_result"
    }
   ],
   "source": [
    "metrics"
   ]
  },
  {
   "cell_type": "code",
   "execution_count": 47,
   "id": "64c340a1",
   "metadata": {
    "execution": {
     "iopub.execute_input": "2025-08-19T18:55:13.098302Z",
     "iopub.status.busy": "2025-08-19T18:55:13.097622Z",
     "iopub.status.idle": "2025-08-19T18:55:13.107224Z",
     "shell.execute_reply": "2025-08-19T18:55:13.105991Z"
    },
    "papermill": {
     "duration": 0.024769,
     "end_time": "2025-08-19T18:55:13.108825",
     "exception": false,
     "start_time": "2025-08-19T18:55:13.084056",
     "status": "completed"
    },
    "tags": []
   },
   "outputs": [],
   "source": [
    "example_universe = universe.copy()\n",
    "universe_training_year = example_universe.get(\"training_year\")\n",
    "universe_training_size = example_universe.get(\"training_size\")\n",
    "universe_scale = example_universe.get(\"scale\")\n",
    "universe_model = example_universe.get(\"model\")\n",
    "universe_exclude_features = example_universe.get(\"exclude_features\")\n",
    "universe_exclude_subgroups = example_universe.get(\"exclude_subgroups\")"
   ]
  },
  {
   "cell_type": "code",
   "execution_count": 48,
   "id": "dbb53cb4",
   "metadata": {
    "execution": {
     "iopub.execute_input": "2025-08-19T18:55:13.140076Z",
     "iopub.status.busy": "2025-08-19T18:55:13.139395Z",
     "iopub.status.idle": "2025-08-19T18:55:13.148620Z",
     "shell.execute_reply": "2025-08-19T18:55:13.147387Z"
    },
    "papermill": {
     "duration": 0.024708,
     "end_time": "2025-08-19T18:55:13.150053",
     "exception": false,
     "start_time": "2025-08-19T18:55:13.125345",
     "status": "completed"
    },
    "tags": []
   },
   "outputs": [],
   "source": [
    "cp_metrics_dict = {\n",
    "    \"universe_id\": [universe_id],\n",
    "    \"universe_training_year\": [universe_training_year],\n",
    "    \"universe_training_size\": [universe_training_size],\n",
    "    \"universe_scale\": [universe_scale],\n",
    "    \"universe_model\": [universe_model],\n",
    "    \"universe_exclude_features\": [universe_exclude_features],\n",
    "    \"universe_exclude_subgroups\": [universe_exclude_subgroups],\n",
    "    \"q_hat\": [q_hat],\n",
    "    \"coverage\": [metrics[\"coverage\"]],\n",
    "    \"avg_size\": [metrics[\"avg_size\"]],\n",
    "}"
   ]
  },
  {
   "cell_type": "code",
   "execution_count": 49,
   "id": "0d70d4b2",
   "metadata": {
    "execution": {
     "iopub.execute_input": "2025-08-19T18:55:13.179575Z",
     "iopub.status.busy": "2025-08-19T18:55:13.178896Z",
     "iopub.status.idle": "2025-08-19T18:55:13.189770Z",
     "shell.execute_reply": "2025-08-19T18:55:13.188540Z"
    },
    "papermill": {
     "duration": 0.025655,
     "end_time": "2025-08-19T18:55:13.191131",
     "exception": false,
     "start_time": "2025-08-19T18:55:13.165476",
     "status": "completed"
    },
    "tags": []
   },
   "outputs": [],
   "source": [
    "cp_metrics_df = pd.DataFrame(cp_metrics_dict)"
   ]
  },
  {
   "cell_type": "code",
   "execution_count": 50,
   "id": "b494403c",
   "metadata": {
    "execution": {
     "iopub.execute_input": "2025-08-19T18:55:13.222493Z",
     "iopub.status.busy": "2025-08-19T18:55:13.221816Z",
     "iopub.status.idle": "2025-08-19T18:55:13.244333Z",
     "shell.execute_reply": "2025-08-19T18:55:13.243442Z"
    },
    "papermill": {
     "duration": 0.038459,
     "end_time": "2025-08-19T18:55:13.246175",
     "exception": false,
     "start_time": "2025-08-19T18:55:13.207716",
     "status": "completed"
    },
    "tags": []
   },
   "outputs": [
    {
     "data": {
      "text/html": [
       "<div>\n",
       "<style scoped>\n",
       "    .dataframe tbody tr th:only-of-type {\n",
       "        vertical-align: middle;\n",
       "    }\n",
       "\n",
       "    .dataframe tbody tr th {\n",
       "        vertical-align: top;\n",
       "    }\n",
       "\n",
       "    .dataframe thead th {\n",
       "        text-align: right;\n",
       "    }\n",
       "</style>\n",
       "<table border=\"1\" class=\"dataframe\">\n",
       "  <thead>\n",
       "    <tr style=\"text-align: right;\">\n",
       "      <th></th>\n",
       "      <th>universe_id</th>\n",
       "      <th>universe_training_year</th>\n",
       "      <th>universe_training_size</th>\n",
       "      <th>universe_scale</th>\n",
       "      <th>universe_model</th>\n",
       "      <th>universe_exclude_features</th>\n",
       "      <th>universe_exclude_subgroups</th>\n",
       "      <th>q_hat</th>\n",
       "      <th>coverage</th>\n",
       "      <th>avg_size</th>\n",
       "    </tr>\n",
       "  </thead>\n",
       "  <tbody>\n",
       "    <tr>\n",
       "      <th>0</th>\n",
       "      <td>94e0338bfae4fb3e9869d2b2ce31ce8c</td>\n",
       "      <td>2014</td>\n",
       "      <td>1k</td>\n",
       "      <td>do-not-scale</td>\n",
       "      <td>gbm</td>\n",
       "      <td>none</td>\n",
       "      <td>keep-all</td>\n",
       "      <td>0.741892</td>\n",
       "      <td>0.910222</td>\n",
       "      <td>1.156515</td>\n",
       "    </tr>\n",
       "  </tbody>\n",
       "</table>\n",
       "</div>"
      ],
      "text/plain": [
       "                        universe_id universe_training_year  \\\n",
       "0  94e0338bfae4fb3e9869d2b2ce31ce8c                   2014   \n",
       "\n",
       "  universe_training_size universe_scale universe_model  \\\n",
       "0                     1k   do-not-scale            gbm   \n",
       "\n",
       "  universe_exclude_features universe_exclude_subgroups     q_hat  coverage  \\\n",
       "0                      none                   keep-all  0.741892  0.910222   \n",
       "\n",
       "   avg_size  \n",
       "0  1.156515  "
      ]
     },
     "execution_count": 50,
     "metadata": {},
     "output_type": "execute_result"
    }
   ],
   "source": [
    "cp_metrics_df"
   ]
  },
  {
   "cell_type": "markdown",
   "id": "ed608b0b",
   "metadata": {
    "papermill": {
     "duration": 0.012267,
     "end_time": "2025-08-19T18:55:13.277240",
     "exception": false,
     "start_time": "2025-08-19T18:55:13.264973",
     "status": "completed"
    },
    "tags": []
   },
   "source": [
    "Conditional coverage & looking at subgroups"
   ]
  },
  {
   "cell_type": "code",
   "execution_count": 51,
   "id": "8968c366",
   "metadata": {
    "execution": {
     "iopub.execute_input": "2025-08-19T18:55:13.303575Z",
     "iopub.status.busy": "2025-08-19T18:55:13.302878Z",
     "iopub.status.idle": "2025-08-19T18:55:13.586685Z",
     "shell.execute_reply": "2025-08-19T18:55:13.585821Z"
    },
    "papermill": {
     "duration": 0.300448,
     "end_time": "2025-08-19T18:55:13.589574",
     "exception": false,
     "start_time": "2025-08-19T18:55:13.289126",
     "status": "completed"
    },
    "tags": []
   },
   "outputs": [],
   "source": [
    "from fairness_multiverse.conformal import build_cp_groups\n",
    "\n",
    "cp_groups_df = build_cp_groups(pred_sets, y_true, X_test.index, org_test)"
   ]
  },
  {
   "cell_type": "code",
   "execution_count": 52,
   "id": "292ddabf",
   "metadata": {
    "execution": {
     "iopub.execute_input": "2025-08-19T18:55:13.631374Z",
     "iopub.status.busy": "2025-08-19T18:55:13.630633Z",
     "iopub.status.idle": "2025-08-19T18:55:14.506507Z",
     "shell.execute_reply": "2025-08-19T18:55:14.505291Z"
    },
    "papermill": {
     "duration": 0.894244,
     "end_time": "2025-08-19T18:55:14.509526",
     "exception": false,
     "start_time": "2025-08-19T18:55:13.615282",
     "status": "completed"
    },
    "tags": []
   },
   "outputs": [],
   "source": [
    "# Define covered = 1 if true_label is in the predicted set\n",
    "cp_groups_df['covered'] = cp_groups_df.apply(\n",
    "    lambda r: int(r['true_label'] in r['pred_set']),\n",
    "    axis=1\n",
    ")"
   ]
  },
  {
   "cell_type": "code",
   "execution_count": 53,
   "id": "3a261692",
   "metadata": {
    "execution": {
     "iopub.execute_input": "2025-08-19T18:55:14.562563Z",
     "iopub.status.busy": "2025-08-19T18:55:14.561727Z",
     "iopub.status.idle": "2025-08-19T18:55:14.588964Z",
     "shell.execute_reply": "2025-08-19T18:55:14.587817Z"
    },
    "papermill": {
     "duration": 0.056686,
     "end_time": "2025-08-19T18:55:14.592057",
     "exception": false,
     "start_time": "2025-08-19T18:55:14.535371",
     "status": "completed"
    },
    "tags": []
   },
   "outputs": [],
   "source": [
    "subgroups = ['frau1','nongerman','nongerman_male','nongerman_female']\n",
    "\n",
    "# Conditional coverage for subgroup==1\n",
    "cond_coverage = {\n",
    "    g: cp_groups_df.loc[cp_groups_df[g]==1, 'covered'].mean()\n",
    "    for g in subgroups\n",
    "}"
   ]
  },
  {
   "cell_type": "code",
   "execution_count": 54,
   "id": "894fd600",
   "metadata": {
    "execution": {
     "iopub.execute_input": "2025-08-19T18:55:14.624312Z",
     "iopub.status.busy": "2025-08-19T18:55:14.623675Z",
     "iopub.status.idle": "2025-08-19T18:55:14.634175Z",
     "shell.execute_reply": "2025-08-19T18:55:14.633008Z"
    },
    "papermill": {
     "duration": 0.025991,
     "end_time": "2025-08-19T18:55:14.635621",
     "exception": false,
     "start_time": "2025-08-19T18:55:14.609630",
     "status": "completed"
    },
    "tags": []
   },
   "outputs": [
    {
     "data": {
      "text/plain": [
       "{'frau1': 0.9071303410163095,\n",
       " 'nongerman': 0.9072026048391624,\n",
       " 'nongerman_male': 0.9251553634152931,\n",
       " 'nongerman_female': 0.8774962742175857}"
      ]
     },
     "execution_count": 54,
     "metadata": {},
     "output_type": "execute_result"
    }
   ],
   "source": [
    "cond_coverage"
   ]
  },
  {
   "cell_type": "code",
   "execution_count": 55,
   "id": "942895c7",
   "metadata": {
    "execution": {
     "iopub.execute_input": "2025-08-19T18:55:14.668389Z",
     "iopub.status.busy": "2025-08-19T18:55:14.667563Z",
     "iopub.status.idle": "2025-08-19T18:55:14.678623Z",
     "shell.execute_reply": "2025-08-19T18:55:14.677496Z"
    },
    "papermill": {
     "duration": 0.027105,
     "end_time": "2025-08-19T18:55:14.680039",
     "exception": false,
     "start_time": "2025-08-19T18:55:14.652934",
     "status": "completed"
    },
    "tags": []
   },
   "outputs": [],
   "source": [
    "for subgroup, cov in cond_coverage.items():\n",
    "    cp_metrics_df[f\"cov_{subgroup}\"] = cov"
   ]
  },
  {
   "cell_type": "code",
   "execution_count": 56,
   "id": "3970120f",
   "metadata": {
    "execution": {
     "iopub.execute_input": "2025-08-19T18:55:14.709606Z",
     "iopub.status.busy": "2025-08-19T18:55:14.708913Z",
     "iopub.status.idle": "2025-08-19T18:55:14.734042Z",
     "shell.execute_reply": "2025-08-19T18:55:14.733122Z"
    },
    "papermill": {
     "duration": 0.041057,
     "end_time": "2025-08-19T18:55:14.736058",
     "exception": false,
     "start_time": "2025-08-19T18:55:14.695001",
     "status": "completed"
    },
    "tags": []
   },
   "outputs": [
    {
     "data": {
      "text/html": [
       "<div>\n",
       "<style scoped>\n",
       "    .dataframe tbody tr th:only-of-type {\n",
       "        vertical-align: middle;\n",
       "    }\n",
       "\n",
       "    .dataframe tbody tr th {\n",
       "        vertical-align: top;\n",
       "    }\n",
       "\n",
       "    .dataframe thead th {\n",
       "        text-align: right;\n",
       "    }\n",
       "</style>\n",
       "<table border=\"1\" class=\"dataframe\">\n",
       "  <thead>\n",
       "    <tr style=\"text-align: right;\">\n",
       "      <th></th>\n",
       "      <th>universe_id</th>\n",
       "      <th>universe_training_year</th>\n",
       "      <th>universe_training_size</th>\n",
       "      <th>universe_scale</th>\n",
       "      <th>universe_model</th>\n",
       "      <th>universe_exclude_features</th>\n",
       "      <th>universe_exclude_subgroups</th>\n",
       "      <th>q_hat</th>\n",
       "      <th>coverage</th>\n",
       "      <th>avg_size</th>\n",
       "      <th>cov_frau1</th>\n",
       "      <th>cov_nongerman</th>\n",
       "      <th>cov_nongerman_male</th>\n",
       "      <th>cov_nongerman_female</th>\n",
       "    </tr>\n",
       "  </thead>\n",
       "  <tbody>\n",
       "    <tr>\n",
       "      <th>0</th>\n",
       "      <td>94e0338bfae4fb3e9869d2b2ce31ce8c</td>\n",
       "      <td>2014</td>\n",
       "      <td>1k</td>\n",
       "      <td>do-not-scale</td>\n",
       "      <td>gbm</td>\n",
       "      <td>none</td>\n",
       "      <td>keep-all</td>\n",
       "      <td>0.741892</td>\n",
       "      <td>0.910222</td>\n",
       "      <td>1.156515</td>\n",
       "      <td>0.90713</td>\n",
       "      <td>0.907203</td>\n",
       "      <td>0.925155</td>\n",
       "      <td>0.877496</td>\n",
       "    </tr>\n",
       "  </tbody>\n",
       "</table>\n",
       "</div>"
      ],
      "text/plain": [
       "                        universe_id universe_training_year  \\\n",
       "0  94e0338bfae4fb3e9869d2b2ce31ce8c                   2014   \n",
       "\n",
       "  universe_training_size universe_scale universe_model  \\\n",
       "0                     1k   do-not-scale            gbm   \n",
       "\n",
       "  universe_exclude_features universe_exclude_subgroups     q_hat  coverage  \\\n",
       "0                      none                   keep-all  0.741892  0.910222   \n",
       "\n",
       "   avg_size  cov_frau1  cov_nongerman  cov_nongerman_male  \\\n",
       "0  1.156515    0.90713       0.907203            0.925155   \n",
       "\n",
       "   cov_nongerman_female  \n",
       "0              0.877496  "
      ]
     },
     "execution_count": 56,
     "metadata": {},
     "output_type": "execute_result"
    }
   ],
   "source": [
    "cp_metrics_df"
   ]
  },
  {
   "cell_type": "markdown",
   "id": "3fc519cc",
   "metadata": {
    "papermill": {
     "duration": 0.01315,
     "end_time": "2025-08-19T18:55:14.768950",
     "exception": false,
     "start_time": "2025-08-19T18:55:14.755800",
     "status": "completed"
    },
    "tags": []
   },
   "source": [
    "# (Fairness) Metrics"
   ]
  },
  {
   "cell_type": "code",
   "execution_count": 57,
   "id": "a2e5e155",
   "metadata": {
    "execution": {
     "iopub.execute_input": "2025-08-19T18:55:14.795134Z",
     "iopub.status.busy": "2025-08-19T18:55:14.794505Z",
     "iopub.status.idle": "2025-08-19T18:55:14.818732Z",
     "shell.execute_reply": "2025-08-19T18:55:14.817906Z"
    },
    "papermill": {
     "duration": 0.039243,
     "end_time": "2025-08-19T18:55:14.820096",
     "exception": false,
     "start_time": "2025-08-19T18:55:14.780853",
     "status": "completed"
    },
    "tags": []
   },
   "outputs": [],
   "source": [
    "colname_to_bin = \"maxdeutsch1\"\n",
    "majority_value = org_train[colname_to_bin].mode()[0]\n",
    "\n",
    "org_test[\"majmin\"] = np.where(org_test[colname_to_bin] == majority_value, \"majority\", \"minority\")"
   ]
  },
  {
   "cell_type": "code",
   "execution_count": 58,
   "id": "17e3e4d5",
   "metadata": {
    "execution": {
     "iopub.execute_input": "2025-08-19T18:55:14.846627Z",
     "iopub.status.busy": "2025-08-19T18:55:14.846183Z",
     "iopub.status.idle": "2025-08-19T18:55:16.593086Z",
     "shell.execute_reply": "2025-08-19T18:55:16.591588Z"
    },
    "papermill": {
     "duration": 1.763694,
     "end_time": "2025-08-19T18:55:16.596282",
     "exception": false,
     "start_time": "2025-08-19T18:55:14.832588",
     "status": "completed"
    },
    "tags": []
   },
   "outputs": [],
   "source": [
    "example_universe = universe.copy()\n",
    "example_universe[\"cutoff\"] = example_universe[\"cutoff\"][0]\n",
    "example_universe[\"eval_fairness_grouping\"] = example_universe[\"eval_fairness_grouping\"][0]\n",
    "fairness_dict, metric_frame = universe_analysis.compute_metrics(\n",
    "    example_universe,\n",
    "    y_pred_prob=probs_test,\n",
    "    y_test=y_true,\n",
    "    org_test=org_test,\n",
    ")"
   ]
  },
  {
   "cell_type": "markdown",
   "id": "1fb7a0e9",
   "metadata": {
    "papermill": {
     "duration": 0.013892,
     "end_time": "2025-08-19T18:55:16.637755",
     "exception": false,
     "start_time": "2025-08-19T18:55:16.623863",
     "status": "completed"
    },
    "tags": []
   },
   "source": [
    "# Overall"
   ]
  },
  {
   "cell_type": "markdown",
   "id": "be1784b1",
   "metadata": {
    "papermill": {
     "duration": 0.014785,
     "end_time": "2025-08-19T18:55:16.664912",
     "exception": false,
     "start_time": "2025-08-19T18:55:16.650127",
     "status": "completed"
    },
    "tags": []
   },
   "source": [
    "Main fairness target: Equalized Odds. Seems to be a better fit than equal opportunity, since we're not only interested in Y = 1. Seems to be a better fit than demographic parity, since we also care about accuracy, not just equal distribution of preds.\n",
    "\n",
    "Pick column for computation of fairness metrics\n",
    "\n",
    "Performance\n",
    "Overall performance measures, most interesting in relation to the measures split by group below"
   ]
  },
  {
   "cell_type": "code",
   "execution_count": 59,
   "id": "b7672bee",
   "metadata": {
    "execution": {
     "iopub.execute_input": "2025-08-19T18:55:16.726977Z",
     "iopub.status.busy": "2025-08-19T18:55:16.726511Z",
     "iopub.status.idle": "2025-08-19T18:55:16.736723Z",
     "shell.execute_reply": "2025-08-19T18:55:16.735870Z"
    },
    "papermill": {
     "duration": 0.044083,
     "end_time": "2025-08-19T18:55:16.737976",
     "exception": false,
     "start_time": "2025-08-19T18:55:16.693893",
     "status": "completed"
    },
    "tags": []
   },
   "outputs": [
    {
     "data": {
      "text/plain": [
       "accuracy                   0.221792\n",
       "balanced accuracy          0.542854\n",
       "f1                         0.243195\n",
       "precision                  0.138929\n",
       "false positive rate        0.889005\n",
       "false negative rate        0.025287\n",
       "selection rate             0.900000\n",
       "count                  89710.000000\n",
       "dtype: float64"
      ]
     },
     "execution_count": 59,
     "metadata": {},
     "output_type": "execute_result"
    }
   ],
   "source": [
    "metric_frame.overall"
   ]
  },
  {
   "cell_type": "markdown",
   "id": "d93333c9",
   "metadata": {
    "papermill": {
     "duration": 0.013671,
     "end_time": "2025-08-19T18:55:16.767377",
     "exception": false,
     "start_time": "2025-08-19T18:55:16.753706",
     "status": "completed"
    },
    "tags": []
   },
   "source": [
    "By Group"
   ]
  },
  {
   "cell_type": "code",
   "execution_count": 60,
   "id": "52256966",
   "metadata": {
    "execution": {
     "iopub.execute_input": "2025-08-19T18:55:16.795171Z",
     "iopub.status.busy": "2025-08-19T18:55:16.794749Z",
     "iopub.status.idle": "2025-08-19T18:55:16.809194Z",
     "shell.execute_reply": "2025-08-19T18:55:16.808248Z"
    },
    "papermill": {
     "duration": 0.030287,
     "end_time": "2025-08-19T18:55:16.810715",
     "exception": false,
     "start_time": "2025-08-19T18:55:16.780428",
     "status": "completed"
    },
    "tags": []
   },
   "outputs": [
    {
     "data": {
      "text/html": [
       "<div>\n",
       "<style scoped>\n",
       "    .dataframe tbody tr th:only-of-type {\n",
       "        vertical-align: middle;\n",
       "    }\n",
       "\n",
       "    .dataframe tbody tr th {\n",
       "        vertical-align: top;\n",
       "    }\n",
       "\n",
       "    .dataframe thead th {\n",
       "        text-align: right;\n",
       "    }\n",
       "</style>\n",
       "<table border=\"1\" class=\"dataframe\">\n",
       "  <thead>\n",
       "    <tr style=\"text-align: right;\">\n",
       "      <th></th>\n",
       "      <th>accuracy</th>\n",
       "      <th>balanced accuracy</th>\n",
       "      <th>f1</th>\n",
       "      <th>precision</th>\n",
       "      <th>false positive rate</th>\n",
       "      <th>false negative rate</th>\n",
       "      <th>selection rate</th>\n",
       "      <th>count</th>\n",
       "    </tr>\n",
       "    <tr>\n",
       "      <th>majmin</th>\n",
       "      <th></th>\n",
       "      <th></th>\n",
       "      <th></th>\n",
       "      <th></th>\n",
       "      <th></th>\n",
       "      <th></th>\n",
       "      <th></th>\n",
       "      <th></th>\n",
       "    </tr>\n",
       "  </thead>\n",
       "  <tbody>\n",
       "    <tr>\n",
       "      <th>majority</th>\n",
       "      <td>0.243400</td>\n",
       "      <td>0.551487</td>\n",
       "      <td>0.253118</td>\n",
       "      <td>0.145544</td>\n",
       "      <td>0.867266</td>\n",
       "      <td>0.029759</td>\n",
       "      <td>0.880873</td>\n",
       "      <td>69170.0</td>\n",
       "    </tr>\n",
       "    <tr>\n",
       "      <th>minority</th>\n",
       "      <td>0.149026</td>\n",
       "      <td>0.515579</td>\n",
       "      <td>0.211841</td>\n",
       "      <td>0.118582</td>\n",
       "      <td>0.960819</td>\n",
       "      <td>0.008024</td>\n",
       "      <td>0.964411</td>\n",
       "      <td>20540.0</td>\n",
       "    </tr>\n",
       "  </tbody>\n",
       "</table>\n",
       "</div>"
      ],
      "text/plain": [
       "          accuracy  balanced accuracy        f1  precision  \\\n",
       "majmin                                                       \n",
       "majority  0.243400           0.551487  0.253118   0.145544   \n",
       "minority  0.149026           0.515579  0.211841   0.118582   \n",
       "\n",
       "          false positive rate  false negative rate  selection rate    count  \n",
       "majmin                                                                       \n",
       "majority             0.867266             0.029759        0.880873  69170.0  \n",
       "minority             0.960819             0.008024        0.964411  20540.0  "
      ]
     },
     "execution_count": 60,
     "metadata": {},
     "output_type": "execute_result"
    }
   ],
   "source": [
    "metric_frame.by_group"
   ]
  },
  {
   "cell_type": "code",
   "execution_count": 61,
   "id": "6e6c20ae",
   "metadata": {
    "execution": {
     "iopub.execute_input": "2025-08-19T18:55:16.845049Z",
     "iopub.status.busy": "2025-08-19T18:55:16.844619Z",
     "iopub.status.idle": "2025-08-19T18:55:18.674622Z",
     "shell.execute_reply": "2025-08-19T18:55:18.673683Z"
    },
    "papermill": {
     "duration": 1.845579,
     "end_time": "2025-08-19T18:55:18.675865",
     "exception": false,
     "start_time": "2025-08-19T18:55:16.830286",
     "status": "completed"
    },
    "tags": []
   },
   "outputs": [
    {
     "data": {
      "text/plain": [
       "array([[<Axes: title={'center': 'accuracy'}, xlabel='majmin'>,\n",
       "        <Axes: title={'center': 'balanced accuracy'}, xlabel='majmin'>,\n",
       "        <Axes: title={'center': 'f1'}, xlabel='majmin'>],\n",
       "       [<Axes: title={'center': 'precision'}, xlabel='majmin'>,\n",
       "        <Axes: title={'center': 'false positive rate'}, xlabel='majmin'>,\n",
       "        <Axes: title={'center': 'false negative rate'}, xlabel='majmin'>],\n",
       "       [<Axes: title={'center': 'selection rate'}, xlabel='majmin'>,\n",
       "        <Axes: title={'center': 'count'}, xlabel='majmin'>,\n",
       "        <Axes: xlabel='majmin'>]], dtype=object)"
      ]
     },
     "execution_count": 61,
     "metadata": {},
     "output_type": "execute_result"
    },
    {
     "data": {
      "image/png": "[encoded data removed]",
      "text/plain": [
       "<Figure size 1200x800 with 9 Axes>"
      ]
     },
     "metadata": {},
     "output_type": "display_data"
    }
   ],
   "source": [
    "# In a graphic\n",
    "metric_frame.by_group.plot.bar(\n",
    "    subplots=True,\n",
    "    layout=[3, 3],\n",
    "    legend=False,\n",
    "    figsize=[12, 8],\n",
    "    title=\"Show all metrics\",\n",
    ")"
   ]
  },
  {
   "cell_type": "markdown",
   "id": "b2e433ae",
   "metadata": {
    "papermill": {
     "duration": 0.028786,
     "end_time": "2025-08-19T18:55:18.729531",
     "exception": false,
     "start_time": "2025-08-19T18:55:18.700745",
     "status": "completed"
    },
    "tags": []
   },
   "source": [
    "# Final Output"
   ]
  },
  {
   "cell_type": "code",
   "execution_count": 62,
   "id": "3871301e",
   "metadata": {
    "execution": {
     "iopub.execute_input": "2025-08-19T18:55:18.763805Z",
     "iopub.status.busy": "2025-08-19T18:55:18.761084Z",
     "iopub.status.idle": "2025-08-19T18:55:18.779667Z",
     "shell.execute_reply": "2025-08-19T18:55:18.778553Z"
    },
    "papermill": {
     "duration": 0.037315,
     "end_time": "2025-08-19T18:55:18.781168",
     "exception": false,
     "start_time": "2025-08-19T18:55:18.743853",
     "status": "completed"
    },
    "tags": []
   },
   "outputs": [
    {
     "data": {
      "text/plain": [
       "4"
      ]
     },
     "execution_count": 62,
     "metadata": {},
     "output_type": "execute_result"
    }
   ],
   "source": [
    "sub_universes = universe_analysis.generate_sub_universes()\n",
    "len(sub_universes)"
   ]
  },
  {
   "cell_type": "code",
   "execution_count": 63,
   "id": "d9cfdaca",
   "metadata": {
    "execution": {
     "iopub.execute_input": "2025-08-19T18:55:18.819136Z",
     "iopub.status.busy": "2025-08-19T18:55:18.818155Z",
     "iopub.status.idle": "2025-08-19T18:55:18.826878Z",
     "shell.execute_reply": "2025-08-19T18:55:18.825778Z"
    },
    "papermill": {
     "duration": 0.026229,
     "end_time": "2025-08-19T18:55:18.828220",
     "exception": false,
     "start_time": "2025-08-19T18:55:18.801991",
     "status": "completed"
    },
    "tags": []
   },
   "outputs": [],
   "source": [
    "def filter_sub_universe_data(sub_universe, org_test):\n",
    "    # Keep all rows — no filtering\n",
    "    keep_rows_mask = np.ones(org_test.shape[0], dtype=bool)\n",
    "\n",
    "    print(f\"[INFO] Keeping all rows: {keep_rows_mask.sum()} rows retained.\")\n",
    "    return keep_rows_mask"
   ]
  },
  {
   "cell_type": "code",
   "execution_count": 64,
   "id": "2bc31ac1",
   "metadata": {
    "execution": {
     "iopub.execute_input": "2025-08-19T18:55:18.858475Z",
     "iopub.status.busy": "2025-08-19T18:55:18.857506Z",
     "iopub.status.idle": "2025-08-19T18:55:25.714286Z",
     "shell.execute_reply": "2025-08-19T18:55:25.713279Z"
    },
    "papermill": {
     "duration": 6.873521,
     "end_time": "2025-08-19T18:55:25.715600",
     "exception": false,
     "start_time": "2025-08-19T18:55:18.842079",
     "status": "completed"
    },
    "tags": []
   },
   "outputs": [
    {
     "name": "stdout",
     "output_type": "stream",
     "text": [
      "Stopping execution_time clock.\n",
      "[INFO] Keeping all rows: 89710 rows retained.\n"
     ]
    },
    {
     "name": "stdout",
     "output_type": "stream",
     "text": [
      "[INFO] Keeping all rows: 89710 rows retained.\n"
     ]
    },
    {
     "name": "stdout",
     "output_type": "stream",
     "text": [
      "[INFO] Keeping all rows: 89710 rows retained.\n"
     ]
    },
    {
     "name": "stdout",
     "output_type": "stream",
     "text": [
      "[INFO] Keeping all rows: 89710 rows retained.\n"
     ]
    },
    {
     "data": {
      "text/html": [
       "<div>\n",
       "<style scoped>\n",
       "    .dataframe tbody tr th:only-of-type {\n",
       "        vertical-align: middle;\n",
       "    }\n",
       "\n",
       "    .dataframe tbody tr th {\n",
       "        vertical-align: top;\n",
       "    }\n",
       "\n",
       "    .dataframe thead th {\n",
       "        text-align: right;\n",
       "    }\n",
       "</style>\n",
       "<table border=\"1\" class=\"dataframe\">\n",
       "  <thead>\n",
       "    <tr style=\"text-align: right;\">\n",
       "      <th></th>\n",
       "      <th>run_no</th>\n",
       "      <th>universe_id</th>\n",
       "      <th>universe_settings</th>\n",
       "      <th>execution_time</th>\n",
       "      <th>test_size_n</th>\n",
       "      <th>test_size_frac</th>\n",
       "      <th>fair_main_equalized_odds_difference</th>\n",
       "      <th>fair_main_equalized_odds_ratio</th>\n",
       "      <th>fair_main_demographic_parity_difference</th>\n",
       "      <th>fair_main_demographic_parity_ratio</th>\n",
       "      <th>...</th>\n",
       "      <th>perf_grp_precision_0</th>\n",
       "      <th>perf_grp_precision_1</th>\n",
       "      <th>perf_grp_false positive rate_0</th>\n",
       "      <th>perf_grp_false positive rate_1</th>\n",
       "      <th>perf_grp_false negative rate_0</th>\n",
       "      <th>perf_grp_false negative rate_1</th>\n",
       "      <th>perf_grp_selection rate_0</th>\n",
       "      <th>perf_grp_selection rate_1</th>\n",
       "      <th>perf_grp_count_0</th>\n",
       "      <th>perf_grp_count_1</th>\n",
       "    </tr>\n",
       "  </thead>\n",
       "  <tbody>\n",
       "    <tr>\n",
       "      <th>0</th>\n",
       "      <td>3</td>\n",
       "      <td>94e0338bfae4fb3e9869d2b2ce31ce8c</td>\n",
       "      <td>{\"cutoff\": \"quantile_0.1\", \"eval_fairness_grou...</td>\n",
       "      <td>23.450439</td>\n",
       "      <td>89710</td>\n",
       "      <td>1.0</td>\n",
       "      <td>0.093552</td>\n",
       "      <td>0.902633</td>\n",
       "      <td>0.083538</td>\n",
       "      <td>0.913380</td>\n",
       "      <td>...</td>\n",
       "      <td>NaN</td>\n",
       "      <td>NaN</td>\n",
       "      <td>NaN</td>\n",
       "      <td>NaN</td>\n",
       "      <td>NaN</td>\n",
       "      <td>NaN</td>\n",
       "      <td>NaN</td>\n",
       "      <td>NaN</td>\n",
       "      <td>NaN</td>\n",
       "      <td>NaN</td>\n",
       "    </tr>\n",
       "    <tr>\n",
       "      <th>0</th>\n",
       "      <td>3</td>\n",
       "      <td>94e0338bfae4fb3e9869d2b2ce31ce8c</td>\n",
       "      <td>{\"cutoff\": \"quantile_0.1\", \"eval_fairness_grou...</td>\n",
       "      <td>23.450439</td>\n",
       "      <td>89710</td>\n",
       "      <td>1.0</td>\n",
       "      <td>0.093552</td>\n",
       "      <td>0.902633</td>\n",
       "      <td>0.083538</td>\n",
       "      <td>0.913380</td>\n",
       "      <td>...</td>\n",
       "      <td>0.118582</td>\n",
       "      <td>0.145544</td>\n",
       "      <td>0.960819</td>\n",
       "      <td>0.867266</td>\n",
       "      <td>0.008024</td>\n",
       "      <td>0.029759</td>\n",
       "      <td>0.964411</td>\n",
       "      <td>0.880873</td>\n",
       "      <td>20540.0</td>\n",
       "      <td>69170.0</td>\n",
       "    </tr>\n",
       "    <tr>\n",
       "      <th>0</th>\n",
       "      <td>3</td>\n",
       "      <td>94e0338bfae4fb3e9869d2b2ce31ce8c</td>\n",
       "      <td>{\"cutoff\": \"quantile_0.25\", \"eval_fairness_gro...</td>\n",
       "      <td>23.450439</td>\n",
       "      <td>89710</td>\n",
       "      <td>1.0</td>\n",
       "      <td>0.114479</td>\n",
       "      <td>0.859230</td>\n",
       "      <td>0.099141</td>\n",
       "      <td>0.880038</td>\n",
       "      <td>...</td>\n",
       "      <td>NaN</td>\n",
       "      <td>NaN</td>\n",
       "      <td>NaN</td>\n",
       "      <td>NaN</td>\n",
       "      <td>NaN</td>\n",
       "      <td>NaN</td>\n",
       "      <td>NaN</td>\n",
       "      <td>NaN</td>\n",
       "      <td>NaN</td>\n",
       "      <td>NaN</td>\n",
       "    </tr>\n",
       "    <tr>\n",
       "      <th>0</th>\n",
       "      <td>3</td>\n",
       "      <td>94e0338bfae4fb3e9869d2b2ce31ce8c</td>\n",
       "      <td>{\"cutoff\": \"quantile_0.25\", \"eval_fairness_gro...</td>\n",
       "      <td>23.450439</td>\n",
       "      <td>89710</td>\n",
       "      <td>1.0</td>\n",
       "      <td>0.114479</td>\n",
       "      <td>0.859230</td>\n",
       "      <td>0.099141</td>\n",
       "      <td>0.880038</td>\n",
       "      <td>...</td>\n",
       "      <td>0.129426</td>\n",
       "      <td>0.166200</td>\n",
       "      <td>0.813229</td>\n",
       "      <td>0.698751</td>\n",
       "      <td>0.072213</td>\n",
       "      <td>0.085230</td>\n",
       "      <td>0.826436</td>\n",
       "      <td>0.727295</td>\n",
       "      <td>20540.0</td>\n",
       "      <td>69170.0</td>\n",
       "    </tr>\n",
       "  </tbody>\n",
       "</table>\n",
       "<p>4 rows × 50 columns</p>\n",
       "</div>"
      ],
      "text/plain": [
       "  run_no                       universe_id  \\\n",
       "0      3  94e0338bfae4fb3e9869d2b2ce31ce8c   \n",
       "0      3  94e0338bfae4fb3e9869d2b2ce31ce8c   \n",
       "0      3  94e0338bfae4fb3e9869d2b2ce31ce8c   \n",
       "0      3  94e0338bfae4fb3e9869d2b2ce31ce8c   \n",
       "\n",
       "                                   universe_settings  execution_time  \\\n",
       "0  {\"cutoff\": \"quantile_0.1\", \"eval_fairness_grou...       23.450439   \n",
       "0  {\"cutoff\": \"quantile_0.1\", \"eval_fairness_grou...       23.450439   \n",
       "0  {\"cutoff\": \"quantile_0.25\", \"eval_fairness_gro...       23.450439   \n",
       "0  {\"cutoff\": \"quantile_0.25\", \"eval_fairness_gro...       23.450439   \n",
       "\n",
       "   test_size_n  test_size_frac  fair_main_equalized_odds_difference  \\\n",
       "0        89710             1.0                             0.093552   \n",
       "0        89710             1.0                             0.093552   \n",
       "0        89710             1.0                             0.114479   \n",
       "0        89710             1.0                             0.114479   \n",
       "\n",
       "   fair_main_equalized_odds_ratio  fair_main_demographic_parity_difference  \\\n",
       "0                        0.902633                                 0.083538   \n",
       "0                        0.902633                                 0.083538   \n",
       "0                        0.859230                                 0.099141   \n",
       "0                        0.859230                                 0.099141   \n",
       "\n",
       "   fair_main_demographic_parity_ratio  ...  perf_grp_precision_0  \\\n",
       "0                            0.913380  ...                   NaN   \n",
       "0                            0.913380  ...              0.118582   \n",
       "0                            0.880038  ...                   NaN   \n",
       "0                            0.880038  ...              0.129426   \n",
       "\n",
       "   perf_grp_precision_1  perf_grp_false positive rate_0  \\\n",
       "0                   NaN                             NaN   \n",
       "0              0.145544                        0.960819   \n",
       "0                   NaN                             NaN   \n",
       "0              0.166200                        0.813229   \n",
       "\n",
       "   perf_grp_false positive rate_1  perf_grp_false negative rate_0  \\\n",
       "0                             NaN                             NaN   \n",
       "0                        0.867266                        0.008024   \n",
       "0                             NaN                             NaN   \n",
       "0                        0.698751                        0.072213   \n",
       "\n",
       "   perf_grp_false negative rate_1  perf_grp_selection rate_0  \\\n",
       "0                             NaN                        NaN   \n",
       "0                        0.029759                   0.964411   \n",
       "0                             NaN                        NaN   \n",
       "0                        0.085230                   0.826436   \n",
       "\n",
       "   perf_grp_selection rate_1  perf_grp_count_0  perf_grp_count_1  \n",
       "0                        NaN               NaN               NaN  \n",
       "0                   0.880873           20540.0           69170.0  \n",
       "0                        NaN               NaN               NaN  \n",
       "0                   0.727295           20540.0           69170.0  \n",
       "\n",
       "[4 rows x 50 columns]"
      ]
     },
     "execution_count": 64,
     "metadata": {},
     "output_type": "execute_result"
    }
   ],
   "source": [
    "final_output = universe_analysis.generate_final_output(\n",
    "    y_pred_prob=probs_test,\n",
    "    y_test=y_true,\n",
    "    org_test=org_test,\n",
    "    filter_data=filter_sub_universe_data,\n",
    "    cp_metrics_df=cp_metrics_df,\n",
    "    save=True,\n",
    ")\n",
    "final_output"
   ]
  },
  {
   "cell_type": "code",
   "execution_count": null,
   "id": "8b80a1ff",
   "metadata": {
    "papermill": {
     "duration": 0.018184,
     "end_time": "2025-08-19T18:55:25.750965",
     "exception": false,
     "start_time": "2025-08-19T18:55:25.732781",
     "status": "completed"
    },
    "tags": []
   },
   "outputs": [],
   "source": []
  },
  {
   "cell_type": "code",
   "execution_count": null,
   "id": "275c9fad",
   "metadata": {
    "papermill": {
     "duration": 0.01415,
     "end_time": "2025-08-19T18:55:25.780029",
     "exception": false,
     "start_time": "2025-08-19T18:55:25.765879",
     "status": "completed"
    },
    "tags": []
   },
   "outputs": [],
   "source": []
  }
 ],
 "metadata": {
  "celltoolbar": "Tags",
  "kernelspec": {
   "display_name": "Python (CMA Fairness)",
   "language": "python",
   "name": "cma_fair_env"
  },
  "language_info": {
   "codemirror_mode": {
    "name": "ipython",
    "version": 3
   },
   "file_extension": ".py",
   "mimetype": "text/x-python",
   "name": "python",
   "nbconvert_exporter": "python",
   "pygments_lexer": "ipython3",
   "version": "3.10.12"
  },
  "papermill": {
   "default_parameters": {},
   "duration": 33.990756,
   "end_time": "2025-08-19T18:55:26.618671",
   "environment_variables": {},
   "exception": null,
   "input_path": "universe_analysis.ipynb",
   "output_path": "output/runs/3/notebooks/m_3-94e0338bfae4fb3e9869d2b2ce31ce8c.ipynb",
   "parameters": {
    "output_dir": "output",
    "run_no": "3",
    "seed": "2023",
    "universe": "{\"cutoff\": [\"quantile_0.1\", \"quantile_0.25\"], \"eval_fairness_grouping\": [\"majority-minority\", \"nationality-all\"], \"exclude_features\": \"none\", \"exclude_subgroups\": \"keep-all\", \"model\": \"gbm\", \"scale\": \"do-not-scale\", \"training_size\": \"1k\", \"training_year\": \"2014\"}",
    "universe_id": "94e0338bfae4fb3e9869d2b2ce31ce8c"
   },
   "start_time": "2025-08-19T18:54:52.627915",
   "version": "2.6.0"
  }
 },
 "nbformat": 4,
 "nbformat_minor": 5
}