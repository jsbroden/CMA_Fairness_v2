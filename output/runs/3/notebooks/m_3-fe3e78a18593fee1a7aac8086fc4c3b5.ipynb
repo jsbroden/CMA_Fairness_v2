{
 "cells": [
  {
   "cell_type": "markdown",
   "id": "ef23dbb3",
   "metadata": {
    "papermill": {
     "duration": 0.010303,
     "end_time": "2025-08-19T19:01:33.615151",
     "exception": false,
     "start_time": "2025-08-19T19:01:33.604848",
     "status": "completed"
    },
    "tags": []
   },
   "source": [
    "# Setup"
   ]
  },
  {
   "cell_type": "code",
   "execution_count": 1,
   "id": "0bc8e7dc",
   "metadata": {
    "execution": {
     "iopub.execute_input": "2025-08-19T19:01:33.638559Z",
     "iopub.status.busy": "2025-08-19T19:01:33.636765Z",
     "iopub.status.idle": "2025-08-19T19:01:33.657423Z",
     "shell.execute_reply": "2025-08-19T19:01:33.656383Z"
    },
    "papermill": {
     "duration": 0.033574,
     "end_time": "2025-08-19T19:01:33.659493",
     "exception": false,
     "start_time": "2025-08-19T19:01:33.625919",
     "status": "completed"
    },
    "tags": []
   },
   "outputs": [
    {
     "name": "stdout",
     "output_type": "stream",
     "text": [
      "/dss/dsshome1/0C/ra93lal2/cma/CMA_Fairness_v2\n"
     ]
    },
    {
     "name": "stderr",
     "output_type": "stream",
     "text": [
      "/dss/dsshome1/0C/ra93lal2/.local/share/virtualenvs/CMA_Fairness_v2-3j10GkSs/lib/python3.10/site-packages/IPython/core/magics/osm.py:393: UserWarning: This is now an optional IPython functionality, using bookmarks requires you to install the `pickleshare` library.\n",
      "  bkms = self.shell.db.get('bookmarks', {})\n",
      "/dss/dsshome1/0C/ra93lal2/.local/share/virtualenvs/CMA_Fairness_v2-3j10GkSs/lib/python3.10/site-packages/IPython/core/magics/osm.py:417: UserWarning: This is now an optional IPython functionality, setting dhist requires you to install the `pickleshare` library.\n",
      "  self.shell.db['dhist'] = compress_dhist(dhist)[-100:]\n"
     ]
    }
   ],
   "source": [
    "%cd ~/cma/CMA_Fairness_v2"
   ]
  },
  {
   "cell_type": "markdown",
   "id": "9d235661",
   "metadata": {
    "papermill": {
     "duration": 0.009586,
     "end_time": "2025-08-19T19:01:33.682395",
     "exception": false,
     "start_time": "2025-08-19T19:01:33.672809",
     "status": "completed"
    },
    "tags": []
   },
   "source": [
    "The following cell holds the definition of our parameters, these values can be overriden by rendering the with e.g. the following command:\n",
    "\n",
    "papermill -p alpha 0.2 -p ratio 0.3 universe_analysis.ipynb output/test_run.ipynb"
   ]
  },
  {
   "cell_type": "code",
   "execution_count": 2,
   "id": "4a789d8e",
   "metadata": {
    "execution": {
     "iopub.execute_input": "2025-08-19T19:01:33.701844Z",
     "iopub.status.busy": "2025-08-19T19:01:33.701355Z",
     "iopub.status.idle": "2025-08-19T19:01:33.708541Z",
     "shell.execute_reply": "2025-08-19T19:01:33.707656Z"
    },
    "papermill": {
     "duration": 0.018685,
     "end_time": "2025-08-19T19:01:33.710218",
     "exception": false,
     "start_time": "2025-08-19T19:01:33.691533",
     "status": "completed"
    },
    "tags": []
   },
   "outputs": [
    {
     "name": "stdout",
     "output_type": "stream",
     "text": [
      "Current working directory: /dss/dsshome1/0C/ra93lal2/cma/CMA_Fairness_v2\n"
     ]
    }
   ],
   "source": [
    "import os\n",
    "print(\"Current working directory:\", os.getcwd())"
   ]
  },
  {
   "cell_type": "code",
   "execution_count": 3,
   "id": "4132aaed",
   "metadata": {
    "execution": {
     "iopub.execute_input": "2025-08-19T19:01:33.732565Z",
     "iopub.status.busy": "2025-08-19T19:01:33.732086Z",
     "iopub.status.idle": "2025-08-19T19:01:33.738016Z",
     "shell.execute_reply": "2025-08-19T19:01:33.737194Z"
    },
    "papermill": {
     "duration": 0.023738,
     "end_time": "2025-08-19T19:01:33.745223",
     "exception": false,
     "start_time": "2025-08-19T19:01:33.721485",
     "status": "completed"
    },
    "tags": [
     "parameters"
    ]
   },
   "outputs": [],
   "source": [
    "run_no = 0\n",
    "universe_id = \"test\"\n",
    "universe = {\n",
    "    \"training_size\": \"5k\", # \"25k\", \"5k\", \"1k\"\n",
    "    \"training_year\": \"2012_14\", # \"2014\", \"2012_14\", \"2010_14\"\n",
    "    \"scale\": \"scale\", # \"scale\", \"do-not-scale\",\n",
    "    \"model\": \"elasticnet\", # \"logreg\", \"penalized_logreg\", \"rf\", \"gbm\", \"elasticnet\"\n",
    "    \"cutoff\": [\"quantile_0.15\", \"quantile_0.30\"],\n",
    "    \"exclude_features\": \"age\", # \"none\", \"nationality\", \"sex\", \"nationality-sex\", \"age\"\n",
    "    \"exclude_subgroups\": \"drop-non-german\", # \"keep-all\", \"drop-non-german\"\n",
    "    \"eval_fairness_grouping\": [\"majority-minority\", \"nationality-all\"]\n",
    "}\n",
    "\n",
    "output_dir=\"./output\"\n",
    "seed=0"
   ]
  },
  {
   "cell_type": "code",
   "execution_count": 4,
   "id": "18d35f3c",
   "metadata": {
    "execution": {
     "iopub.execute_input": "2025-08-19T19:01:33.784882Z",
     "iopub.status.busy": "2025-08-19T19:01:33.784529Z",
     "iopub.status.idle": "2025-08-19T19:01:33.805886Z",
     "shell.execute_reply": "2025-08-19T19:01:33.804552Z"
    },
    "papermill": {
     "duration": 0.038911,
     "end_time": "2025-08-19T19:01:33.809310",
     "exception": false,
     "start_time": "2025-08-19T19:01:33.770399",
     "status": "completed"
    },
    "tags": [
     "injected-parameters"
    ]
   },
   "outputs": [],
   "source": [
    "# Parameters\n",
    "universe_id = \"fe3e78a18593fee1a7aac8086fc4c3b5\"\n",
    "run_no = \"3\"\n",
    "universe = \"{\\\"cutoff\\\": [\\\"quantile_0.1\\\", \\\"quantile_0.25\\\"], \\\"eval_fairness_grouping\\\": [\\\"majority-minority\\\", \\\"nationality-all\\\"], \\\"exclude_features\\\": \\\"sex\\\", \\\"exclude_subgroups\\\": \\\"drop-non-german\\\", \\\"model\\\": \\\"penalized_logreg\\\", \\\"scale\\\": \\\"do-not-scale\\\", \\\"training_size\\\": \\\"1k\\\", \\\"training_year\\\": \\\"2012_14\\\"}\"\n",
    "output_dir = \"output\"\n",
    "seed = \"2023\"\n"
   ]
  },
  {
   "cell_type": "code",
   "execution_count": 5,
   "id": "a5d7941f",
   "metadata": {
    "execution": {
     "iopub.execute_input": "2025-08-19T19:01:34.050257Z",
     "iopub.status.busy": "2025-08-19T19:01:34.049791Z",
     "iopub.status.idle": "2025-08-19T19:01:34.055918Z",
     "shell.execute_reply": "2025-08-19T19:01:34.054718Z"
    },
    "papermill": {
     "duration": 0.021594,
     "end_time": "2025-08-19T19:01:34.058576",
     "exception": false,
     "start_time": "2025-08-19T19:01:34.036982",
     "status": "completed"
    },
    "tags": []
   },
   "outputs": [],
   "source": [
    "import json\n",
    "if isinstance(universe, str):\n",
    "    universe = json.loads(universe)"
   ]
  },
  {
   "cell_type": "code",
   "execution_count": 6,
   "id": "7076ccb1",
   "metadata": {
    "execution": {
     "iopub.execute_input": "2025-08-19T19:01:34.082974Z",
     "iopub.status.busy": "2025-08-19T19:01:34.082653Z",
     "iopub.status.idle": "2025-08-19T19:01:34.147609Z",
     "shell.execute_reply": "2025-08-19T19:01:34.146682Z"
    },
    "papermill": {
     "duration": 0.077536,
     "end_time": "2025-08-19T19:01:34.149593",
     "exception": false,
     "start_time": "2025-08-19T19:01:34.072057",
     "status": "completed"
    },
    "tags": []
   },
   "outputs": [],
   "source": [
    "# Auto-reload the custom package\n",
    "%load_ext autoreload\n",
    "%autoreload 1\n",
    "%aimport fairness_multiverse"
   ]
  },
  {
   "cell_type": "code",
   "execution_count": 7,
   "id": "94c8eb93",
   "metadata": {
    "execution": {
     "iopub.execute_input": "2025-08-19T19:01:34.173716Z",
     "iopub.status.busy": "2025-08-19T19:01:34.172441Z",
     "iopub.status.idle": "2025-08-19T19:01:35.798503Z",
     "shell.execute_reply": "2025-08-19T19:01:35.797472Z"
    },
    "papermill": {
     "duration": 1.63996,
     "end_time": "2025-08-19T19:01:35.800459",
     "exception": false,
     "start_time": "2025-08-19T19:01:34.160499",
     "status": "completed"
    },
    "tags": []
   },
   "outputs": [],
   "source": [
    "from fairness_multiverse.universe import UniverseAnalysis\n",
    "\n",
    "universe_analysis = UniverseAnalysis(\n",
    "    run_no = run_no,\n",
    "    universe_id = universe_id,\n",
    "    universe = universe,\n",
    "    output_dir=output_dir,\n",
    ")"
   ]
  },
  {
   "cell_type": "code",
   "execution_count": 8,
   "id": "2a6381cf",
   "metadata": {
    "execution": {
     "iopub.execute_input": "2025-08-19T19:01:35.821484Z",
     "iopub.status.busy": "2025-08-19T19:01:35.820993Z",
     "iopub.status.idle": "2025-08-19T19:01:35.829031Z",
     "shell.execute_reply": "2025-08-19T19:01:35.828190Z"
    },
    "papermill": {
     "duration": 0.021428,
     "end_time": "2025-08-19T19:01:35.831897",
     "exception": false,
     "start_time": "2025-08-19T19:01:35.810469",
     "status": "completed"
    },
    "tags": []
   },
   "outputs": [
    {
     "name": "stdout",
     "output_type": "stream",
     "text": [
      "Using Seed: 2023\n"
     ]
    }
   ],
   "source": [
    "import numpy as np\n",
    "parsed_seed = int(seed)\n",
    "np.random.seed(parsed_seed)\n",
    "print(f\"Using Seed: {parsed_seed}\")"
   ]
  },
  {
   "cell_type": "markdown",
   "id": "b6e958b4",
   "metadata": {
    "papermill": {
     "duration": 0.009433,
     "end_time": "2025-08-19T19:01:35.851460",
     "exception": false,
     "start_time": "2025-08-19T19:01:35.842027",
     "status": "completed"
    },
    "tags": []
   },
   "source": [
    "# Loading Data"
   ]
  },
  {
   "cell_type": "code",
   "execution_count": 9,
   "id": "98701482",
   "metadata": {
    "execution": {
     "iopub.execute_input": "2025-08-19T19:01:35.871456Z",
     "iopub.status.busy": "2025-08-19T19:01:35.870981Z",
     "iopub.status.idle": "2025-08-19T19:01:46.145142Z",
     "shell.execute_reply": "2025-08-19T19:01:46.143327Z"
    },
    "papermill": {
     "duration": 10.286337,
     "end_time": "2025-08-19T19:01:46.147162",
     "exception": false,
     "start_time": "2025-08-19T19:01:35.860825",
     "status": "completed"
    },
    "tags": []
   },
   "outputs": [
    {
     "name": "stdout",
     "output_type": "stream",
     "text": [
      "Loading SIAB data from cache: data/siab_cached.csv.gz\n"
     ]
    },
    {
     "name": "stdout",
     "output_type": "stream",
     "text": [
      "(643690, 164)\n"
     ]
    }
   ],
   "source": [
    "from pathlib import Path\n",
    "import pandas as pd\n",
    "\n",
    "# File paths\n",
    "raw_file = Path(\"data/raw/siab.csv\")\n",
    "cache_file = Path(\"data/siab_cached.csv.gz\")\n",
    "\n",
    "# Ensure cache directory exists\n",
    "cache_file.parent.mkdir(parents=True, exist_ok=True)\n",
    "\n",
    "# Load with simple caching\n",
    "if cache_file.exists():\n",
    "    print(f\"Loading SIAB data from cache: {cache_file}\")\n",
    "    siab = pd.read_csv(cache_file, compression='gzip')\n",
    "else:\n",
    "    print(f\"Cache not found. Reading raw SIAB data: {raw_file}\")\n",
    "    siab = pd.read_csv(raw_file)\n",
    "    siab.to_csv(cache_file, index=False, compression='gzip')\n",
    "    print(f\"Cached SIAB data to: {cache_file}\")\n",
    "\n",
    "print(siab.shape)"
   ]
  },
  {
   "cell_type": "code",
   "execution_count": 10,
   "id": "058d2abb",
   "metadata": {
    "execution": {
     "iopub.execute_input": "2025-08-19T19:01:46.182616Z",
     "iopub.status.busy": "2025-08-19T19:01:46.182275Z",
     "iopub.status.idle": "2025-08-19T19:01:46.386183Z",
     "shell.execute_reply": "2025-08-19T19:01:46.384999Z"
    },
    "papermill": {
     "duration": 0.22066,
     "end_time": "2025-08-19T19:01:46.388641",
     "exception": false,
     "start_time": "2025-08-19T19:01:46.167981",
     "status": "completed"
    },
    "tags": []
   },
   "outputs": [
    {
     "data": {
      "text/html": [
       "<div>\n",
       "<style scoped>\n",
       "    .dataframe tbody tr th:only-of-type {\n",
       "        vertical-align: middle;\n",
       "    }\n",
       "\n",
       "    .dataframe tbody tr th {\n",
       "        vertical-align: top;\n",
       "    }\n",
       "\n",
       "    .dataframe thead th {\n",
       "        text-align: right;\n",
       "    }\n",
       "</style>\n",
       "<table border=\"1\" class=\"dataframe\">\n",
       "  <thead>\n",
       "    <tr style=\"text-align: right;\">\n",
       "      <th></th>\n",
       "      <th>persnr</th>\n",
       "      <th>year</th>\n",
       "      <th>nrEntry</th>\n",
       "      <th>ltue</th>\n",
       "      <th>employed_before</th>\n",
       "      <th>receipt_leh_before</th>\n",
       "      <th>receipt_lhg_before</th>\n",
       "      <th>se_before</th>\n",
       "      <th>ASU_notue_seeking_before</th>\n",
       "      <th>ASU_other_before</th>\n",
       "      <th>...</th>\n",
       "      <th>minijob_tot_dur_byage</th>\n",
       "      <th>ft_tot_dur_byage</th>\n",
       "      <th>befrist_tot_dur_byage</th>\n",
       "      <th>leih_tot_dur_byage</th>\n",
       "      <th>LHG_tot_dur_byage</th>\n",
       "      <th>LEH_tot_dur_byage</th>\n",
       "      <th>almp_tot_dur_byage</th>\n",
       "      <th>almp_aw_tot_dur_byage</th>\n",
       "      <th>se_tot_dur_byage</th>\n",
       "      <th>seeking1_tot_dur_byage</th>\n",
       "    </tr>\n",
       "  </thead>\n",
       "  <tbody>\n",
       "    <tr>\n",
       "      <th>0</th>\n",
       "      <td>7</td>\n",
       "      <td>2015</td>\n",
       "      <td>1</td>\n",
       "      <td>0</td>\n",
       "      <td>1</td>\n",
       "      <td>0</td>\n",
       "      <td>0</td>\n",
       "      <td>0</td>\n",
       "      <td>1</td>\n",
       "      <td>0</td>\n",
       "      <td>...</td>\n",
       "      <td>0.000000</td>\n",
       "      <td>0.000000</td>\n",
       "      <td>15.043478</td>\n",
       "      <td>0.000000</td>\n",
       "      <td>0.000000</td>\n",
       "      <td>0.000000</td>\n",
       "      <td>0.000000</td>\n",
       "      <td>0.000000</td>\n",
       "      <td>0.000000</td>\n",
       "      <td>0.000000</td>\n",
       "    </tr>\n",
       "    <tr>\n",
       "      <th>1</th>\n",
       "      <td>18</td>\n",
       "      <td>2010</td>\n",
       "      <td>1</td>\n",
       "      <td>1</td>\n",
       "      <td>0</td>\n",
       "      <td>0</td>\n",
       "      <td>0</td>\n",
       "      <td>0</td>\n",
       "      <td>0</td>\n",
       "      <td>0</td>\n",
       "      <td>...</td>\n",
       "      <td>0.000000</td>\n",
       "      <td>0.000000</td>\n",
       "      <td>0.000000</td>\n",
       "      <td>0.000000</td>\n",
       "      <td>0.000000</td>\n",
       "      <td>0.000000</td>\n",
       "      <td>0.000000</td>\n",
       "      <td>0.000000</td>\n",
       "      <td>0.000000</td>\n",
       "      <td>0.000000</td>\n",
       "    </tr>\n",
       "    <tr>\n",
       "      <th>2</th>\n",
       "      <td>18</td>\n",
       "      <td>2011</td>\n",
       "      <td>2</td>\n",
       "      <td>0</td>\n",
       "      <td>1</td>\n",
       "      <td>0</td>\n",
       "      <td>1</td>\n",
       "      <td>0</td>\n",
       "      <td>1</td>\n",
       "      <td>0</td>\n",
       "      <td>...</td>\n",
       "      <td>2.714286</td>\n",
       "      <td>2.714286</td>\n",
       "      <td>0.000000</td>\n",
       "      <td>0.000000</td>\n",
       "      <td>10.775510</td>\n",
       "      <td>0.000000</td>\n",
       "      <td>8.367347</td>\n",
       "      <td>0.000000</td>\n",
       "      <td>0.000000</td>\n",
       "      <td>9.836735</td>\n",
       "    </tr>\n",
       "    <tr>\n",
       "      <th>3</th>\n",
       "      <td>18</td>\n",
       "      <td>2012</td>\n",
       "      <td>3</td>\n",
       "      <td>0</td>\n",
       "      <td>1</td>\n",
       "      <td>0</td>\n",
       "      <td>1</td>\n",
       "      <td>0</td>\n",
       "      <td>1</td>\n",
       "      <td>0</td>\n",
       "      <td>...</td>\n",
       "      <td>4.200000</td>\n",
       "      <td>4.200000</td>\n",
       "      <td>0.000000</td>\n",
       "      <td>0.000000</td>\n",
       "      <td>12.100000</td>\n",
       "      <td>0.000000</td>\n",
       "      <td>9.400000</td>\n",
       "      <td>0.000000</td>\n",
       "      <td>0.000000</td>\n",
       "      <td>9.960000</td>\n",
       "    </tr>\n",
       "    <tr>\n",
       "      <th>4</th>\n",
       "      <td>18</td>\n",
       "      <td>2012</td>\n",
       "      <td>4</td>\n",
       "      <td>0</td>\n",
       "      <td>1</td>\n",
       "      <td>0</td>\n",
       "      <td>1</td>\n",
       "      <td>0</td>\n",
       "      <td>1</td>\n",
       "      <td>0</td>\n",
       "      <td>...</td>\n",
       "      <td>5.460000</td>\n",
       "      <td>5.460000</td>\n",
       "      <td>0.000000</td>\n",
       "      <td>0.000000</td>\n",
       "      <td>13.360000</td>\n",
       "      <td>0.000000</td>\n",
       "      <td>10.320000</td>\n",
       "      <td>0.000000</td>\n",
       "      <td>0.000000</td>\n",
       "      <td>10.280000</td>\n",
       "    </tr>\n",
       "    <tr>\n",
       "      <th>...</th>\n",
       "      <td>...</td>\n",
       "      <td>...</td>\n",
       "      <td>...</td>\n",
       "      <td>...</td>\n",
       "      <td>...</td>\n",
       "      <td>...</td>\n",
       "      <td>...</td>\n",
       "      <td>...</td>\n",
       "      <td>...</td>\n",
       "      <td>...</td>\n",
       "      <td>...</td>\n",
       "      <td>...</td>\n",
       "      <td>...</td>\n",
       "      <td>...</td>\n",
       "      <td>...</td>\n",
       "      <td>...</td>\n",
       "      <td>...</td>\n",
       "      <td>...</td>\n",
       "      <td>...</td>\n",
       "      <td>...</td>\n",
       "      <td>...</td>\n",
       "    </tr>\n",
       "    <tr>\n",
       "      <th>643685</th>\n",
       "      <td>1827860</td>\n",
       "      <td>2013</td>\n",
       "      <td>1</td>\n",
       "      <td>0</td>\n",
       "      <td>0</td>\n",
       "      <td>0</td>\n",
       "      <td>1</td>\n",
       "      <td>0</td>\n",
       "      <td>0</td>\n",
       "      <td>1</td>\n",
       "      <td>...</td>\n",
       "      <td>0.000000</td>\n",
       "      <td>0.000000</td>\n",
       "      <td>0.000000</td>\n",
       "      <td>0.000000</td>\n",
       "      <td>0.612903</td>\n",
       "      <td>0.000000</td>\n",
       "      <td>0.000000</td>\n",
       "      <td>0.000000</td>\n",
       "      <td>0.000000</td>\n",
       "      <td>0.000000</td>\n",
       "    </tr>\n",
       "    <tr>\n",
       "      <th>643686</th>\n",
       "      <td>1827860</td>\n",
       "      <td>2015</td>\n",
       "      <td>2</td>\n",
       "      <td>1</td>\n",
       "      <td>0</td>\n",
       "      <td>0</td>\n",
       "      <td>1</td>\n",
       "      <td>0</td>\n",
       "      <td>1</td>\n",
       "      <td>0</td>\n",
       "      <td>...</td>\n",
       "      <td>0.000000</td>\n",
       "      <td>0.000000</td>\n",
       "      <td>0.212121</td>\n",
       "      <td>0.212121</td>\n",
       "      <td>17.363636</td>\n",
       "      <td>0.000000</td>\n",
       "      <td>8.909091</td>\n",
       "      <td>0.000000</td>\n",
       "      <td>0.000000</td>\n",
       "      <td>7.121212</td>\n",
       "    </tr>\n",
       "    <tr>\n",
       "      <th>643687</th>\n",
       "      <td>1827860</td>\n",
       "      <td>2016</td>\n",
       "      <td>3</td>\n",
       "      <td>1</td>\n",
       "      <td>0</td>\n",
       "      <td>0</td>\n",
       "      <td>1</td>\n",
       "      <td>1</td>\n",
       "      <td>0</td>\n",
       "      <td>1</td>\n",
       "      <td>...</td>\n",
       "      <td>0.000000</td>\n",
       "      <td>0.000000</td>\n",
       "      <td>0.294118</td>\n",
       "      <td>0.205882</td>\n",
       "      <td>34.705882</td>\n",
       "      <td>0.000000</td>\n",
       "      <td>10.352941</td>\n",
       "      <td>1.705882</td>\n",
       "      <td>1.705882</td>\n",
       "      <td>23.911765</td>\n",
       "    </tr>\n",
       "    <tr>\n",
       "      <th>643688</th>\n",
       "      <td>1827869</td>\n",
       "      <td>2013</td>\n",
       "      <td>1</td>\n",
       "      <td>1</td>\n",
       "      <td>1</td>\n",
       "      <td>0</td>\n",
       "      <td>0</td>\n",
       "      <td>0</td>\n",
       "      <td>1</td>\n",
       "      <td>0</td>\n",
       "      <td>...</td>\n",
       "      <td>0.000000</td>\n",
       "      <td>0.000000</td>\n",
       "      <td>0.000000</td>\n",
       "      <td>0.000000</td>\n",
       "      <td>0.000000</td>\n",
       "      <td>0.525424</td>\n",
       "      <td>0.000000</td>\n",
       "      <td>0.000000</td>\n",
       "      <td>0.000000</td>\n",
       "      <td>0.000000</td>\n",
       "    </tr>\n",
       "    <tr>\n",
       "      <th>643689</th>\n",
       "      <td>1827869</td>\n",
       "      <td>2014</td>\n",
       "      <td>2</td>\n",
       "      <td>0</td>\n",
       "      <td>0</td>\n",
       "      <td>1</td>\n",
       "      <td>0</td>\n",
       "      <td>0</td>\n",
       "      <td>1</td>\n",
       "      <td>0</td>\n",
       "      <td>...</td>\n",
       "      <td>0.000000</td>\n",
       "      <td>0.666667</td>\n",
       "      <td>0.666667</td>\n",
       "      <td>0.000000</td>\n",
       "      <td>0.000000</td>\n",
       "      <td>8.950000</td>\n",
       "      <td>1.033333</td>\n",
       "      <td>0.083333</td>\n",
       "      <td>0.083333</td>\n",
       "      <td>8.133333</td>\n",
       "    </tr>\n",
       "  </tbody>\n",
       "</table>\n",
       "<p>643690 rows × 164 columns</p>\n",
       "</div>"
      ],
      "text/plain": [
       "         persnr  year  nrEntry  ltue  employed_before  receipt_leh_before  \\\n",
       "0             7  2015        1     0                1                   0   \n",
       "1            18  2010        1     1                0                   0   \n",
       "2            18  2011        2     0                1                   0   \n",
       "3            18  2012        3     0                1                   0   \n",
       "4            18  2012        4     0                1                   0   \n",
       "...         ...   ...      ...   ...              ...                 ...   \n",
       "643685  1827860  2013        1     0                0                   0   \n",
       "643686  1827860  2015        2     1                0                   0   \n",
       "643687  1827860  2016        3     1                0                   0   \n",
       "643688  1827869  2013        1     1                1                   0   \n",
       "643689  1827869  2014        2     0                0                   1   \n",
       "\n",
       "        receipt_lhg_before  se_before  ASU_notue_seeking_before  \\\n",
       "0                        0          0                         1   \n",
       "1                        0          0                         0   \n",
       "2                        1          0                         1   \n",
       "3                        1          0                         1   \n",
       "4                        1          0                         1   \n",
       "...                    ...        ...                       ...   \n",
       "643685                   1          0                         0   \n",
       "643686                   1          0                         1   \n",
       "643687                   1          1                         0   \n",
       "643688                   0          0                         1   \n",
       "643689                   0          0                         1   \n",
       "\n",
       "        ASU_other_before  ...  minijob_tot_dur_byage  ft_tot_dur_byage  \\\n",
       "0                      0  ...               0.000000          0.000000   \n",
       "1                      0  ...               0.000000          0.000000   \n",
       "2                      0  ...               2.714286          2.714286   \n",
       "3                      0  ...               4.200000          4.200000   \n",
       "4                      0  ...               5.460000          5.460000   \n",
       "...                  ...  ...                    ...               ...   \n",
       "643685                 1  ...               0.000000          0.000000   \n",
       "643686                 0  ...               0.000000          0.000000   \n",
       "643687                 1  ...               0.000000          0.000000   \n",
       "643688                 0  ...               0.000000          0.000000   \n",
       "643689                 0  ...               0.000000          0.666667   \n",
       "\n",
       "        befrist_tot_dur_byage  leih_tot_dur_byage  LHG_tot_dur_byage  \\\n",
       "0                   15.043478            0.000000           0.000000   \n",
       "1                    0.000000            0.000000           0.000000   \n",
       "2                    0.000000            0.000000          10.775510   \n",
       "3                    0.000000            0.000000          12.100000   \n",
       "4                    0.000000            0.000000          13.360000   \n",
       "...                       ...                 ...                ...   \n",
       "643685               0.000000            0.000000           0.612903   \n",
       "643686               0.212121            0.212121          17.363636   \n",
       "643687               0.294118            0.205882          34.705882   \n",
       "643688               0.000000            0.000000           0.000000   \n",
       "643689               0.666667            0.000000           0.000000   \n",
       "\n",
       "        LEH_tot_dur_byage  almp_tot_dur_byage  almp_aw_tot_dur_byage  \\\n",
       "0                0.000000            0.000000               0.000000   \n",
       "1                0.000000            0.000000               0.000000   \n",
       "2                0.000000            8.367347               0.000000   \n",
       "3                0.000000            9.400000               0.000000   \n",
       "4                0.000000           10.320000               0.000000   \n",
       "...                   ...                 ...                    ...   \n",
       "643685           0.000000            0.000000               0.000000   \n",
       "643686           0.000000            8.909091               0.000000   \n",
       "643687           0.000000           10.352941               1.705882   \n",
       "643688           0.525424            0.000000               0.000000   \n",
       "643689           8.950000            1.033333               0.083333   \n",
       "\n",
       "        se_tot_dur_byage  seeking1_tot_dur_byage  \n",
       "0               0.000000                0.000000  \n",
       "1               0.000000                0.000000  \n",
       "2               0.000000                9.836735  \n",
       "3               0.000000                9.960000  \n",
       "4               0.000000               10.280000  \n",
       "...                  ...                     ...  \n",
       "643685          0.000000                0.000000  \n",
       "643686          0.000000                7.121212  \n",
       "643687          1.705882               23.911765  \n",
       "643688          0.000000                0.000000  \n",
       "643689          0.083333                8.133333  \n",
       "\n",
       "[643690 rows x 164 columns]"
      ]
     },
     "execution_count": 10,
     "metadata": {},
     "output_type": "execute_result"
    }
   ],
   "source": [
    "siab"
   ]
  },
  {
   "cell_type": "markdown",
   "id": "1f87e805",
   "metadata": {
    "papermill": {
     "duration": 0.010012,
     "end_time": "2025-08-19T19:01:46.411361",
     "exception": false,
     "start_time": "2025-08-19T19:01:46.401349",
     "status": "completed"
    },
    "tags": []
   },
   "source": [
    "# Splitting Data and Setting Training Data Size"
   ]
  },
  {
   "cell_type": "code",
   "execution_count": 11,
   "id": "910ae358",
   "metadata": {
    "execution": {
     "iopub.execute_input": "2025-08-19T19:01:46.434587Z",
     "iopub.status.busy": "2025-08-19T19:01:46.432413Z",
     "iopub.status.idle": "2025-08-19T19:01:47.082995Z",
     "shell.execute_reply": "2025-08-19T19:01:47.082015Z"
    },
    "papermill": {
     "duration": 0.663696,
     "end_time": "2025-08-19T19:01:47.084933",
     "exception": false,
     "start_time": "2025-08-19T19:01:46.421237",
     "status": "completed"
    },
    "tags": []
   },
   "outputs": [],
   "source": [
    "from fairness_multiverse.universe import sample_by_year_size\n",
    "\n",
    "siab_train = sample_by_year_size(siab,\n",
    "                               training_year=universe[\"training_year\"],\n",
    "                               training_size=universe[\"training_size\"])"
   ]
  },
  {
   "cell_type": "code",
   "execution_count": 12,
   "id": "919c8ff5",
   "metadata": {
    "execution": {
     "iopub.execute_input": "2025-08-19T19:01:47.107501Z",
     "iopub.status.busy": "2025-08-19T19:01:47.106365Z",
     "iopub.status.idle": "2025-08-19T19:01:47.115537Z",
     "shell.execute_reply": "2025-08-19T19:01:47.114233Z"
    },
    "papermill": {
     "duration": 0.021872,
     "end_time": "2025-08-19T19:01:47.117012",
     "exception": false,
     "start_time": "2025-08-19T19:01:47.095140",
     "status": "completed"
    },
    "tags": []
   },
   "outputs": [
    {
     "data": {
      "text/plain": [
       "(1000, 164)"
      ]
     },
     "execution_count": 12,
     "metadata": {},
     "output_type": "execute_result"
    }
   ],
   "source": [
    "siab_train.shape"
   ]
  },
  {
   "cell_type": "code",
   "execution_count": 13,
   "id": "feb13bf4",
   "metadata": {
    "execution": {
     "iopub.execute_input": "2025-08-19T19:01:47.155764Z",
     "iopub.status.busy": "2025-08-19T19:01:47.154258Z",
     "iopub.status.idle": "2025-08-19T19:01:47.169565Z",
     "shell.execute_reply": "2025-08-19T19:01:47.168006Z"
    },
    "papermill": {
     "duration": 0.041443,
     "end_time": "2025-08-19T19:01:47.178468",
     "exception": false,
     "start_time": "2025-08-19T19:01:47.137025",
     "status": "completed"
    },
    "tags": []
   },
   "outputs": [
    {
     "data": {
      "text/plain": [
       "year\n",
       "2012    334\n",
       "2013    333\n",
       "2014    333\n",
       "dtype: int64"
      ]
     },
     "metadata": {},
     "output_type": "display_data"
    }
   ],
   "source": [
    "display(siab_train.groupby(\"year\").size())"
   ]
  },
  {
   "cell_type": "code",
   "execution_count": 14,
   "id": "0997782f",
   "metadata": {
    "execution": {
     "iopub.execute_input": "2025-08-19T19:01:47.212002Z",
     "iopub.status.busy": "2025-08-19T19:01:47.210647Z",
     "iopub.status.idle": "2025-08-19T19:01:47.505969Z",
     "shell.execute_reply": "2025-08-19T19:01:47.505060Z"
    },
    "papermill": {
     "duration": 0.314104,
     "end_time": "2025-08-19T19:01:47.508050",
     "exception": false,
     "start_time": "2025-08-19T19:01:47.193946",
     "status": "completed"
    },
    "tags": []
   },
   "outputs": [],
   "source": [
    "#siab_train = siab_s[siab_s.year < 2015]\n",
    "siab_calib = siab[siab.year == 2015]\n",
    "siab_test = siab[siab.year == 2016]"
   ]
  },
  {
   "cell_type": "code",
   "execution_count": 15,
   "id": "2c1e4012",
   "metadata": {
    "execution": {
     "iopub.execute_input": "2025-08-19T19:01:47.540809Z",
     "iopub.status.busy": "2025-08-19T19:01:47.539477Z",
     "iopub.status.idle": "2025-08-19T19:01:47.548325Z",
     "shell.execute_reply": "2025-08-19T19:01:47.547339Z"
    },
    "papermill": {
     "duration": 0.027475,
     "end_time": "2025-08-19T19:01:47.553726",
     "exception": false,
     "start_time": "2025-08-19T19:01:47.526251",
     "status": "completed"
    },
    "tags": []
   },
   "outputs": [],
   "source": [
    "#siab_calib.shape"
   ]
  },
  {
   "cell_type": "code",
   "execution_count": 16,
   "id": "f66b54ca",
   "metadata": {
    "execution": {
     "iopub.execute_input": "2025-08-19T19:01:47.580782Z",
     "iopub.status.busy": "2025-08-19T19:01:47.580366Z",
     "iopub.status.idle": "2025-08-19T19:01:47.695830Z",
     "shell.execute_reply": "2025-08-19T19:01:47.693678Z"
    },
    "papermill": {
     "duration": 0.130545,
     "end_time": "2025-08-19T19:01:47.699535",
     "exception": false,
     "start_time": "2025-08-19T19:01:47.568990",
     "status": "completed"
    },
    "tags": []
   },
   "outputs": [],
   "source": [
    "#siab_test.shape"
   ]
  },
  {
   "cell_type": "code",
   "execution_count": 17,
   "id": "27e4384d",
   "metadata": {
    "execution": {
     "iopub.execute_input": "2025-08-19T19:01:47.734862Z",
     "iopub.status.busy": "2025-08-19T19:01:47.734374Z",
     "iopub.status.idle": "2025-08-19T19:01:47.740370Z",
     "shell.execute_reply": "2025-08-19T19:01:47.739600Z"
    },
    "papermill": {
     "duration": 0.019288,
     "end_time": "2025-08-19T19:01:47.741648",
     "exception": false,
     "start_time": "2025-08-19T19:01:47.722360",
     "status": "completed"
    },
    "tags": []
   },
   "outputs": [],
   "source": [
    "X_train = siab_train.iloc[:,4:164]\n",
    "y_train = siab_train.iloc[:, [3]]"
   ]
  },
  {
   "cell_type": "code",
   "execution_count": 18,
   "id": "08ee8389",
   "metadata": {
    "execution": {
     "iopub.execute_input": "2025-08-19T19:01:47.766017Z",
     "iopub.status.busy": "2025-08-19T19:01:47.765601Z",
     "iopub.status.idle": "2025-08-19T19:01:47.819704Z",
     "shell.execute_reply": "2025-08-19T19:01:47.818931Z"
    },
    "papermill": {
     "duration": 0.06655,
     "end_time": "2025-08-19T19:01:47.821132",
     "exception": false,
     "start_time": "2025-08-19T19:01:47.754582",
     "status": "completed"
    },
    "tags": []
   },
   "outputs": [],
   "source": [
    "X_calib = siab_calib.iloc[:,4:164]\n",
    "y_calib = siab_calib.iloc[:, [3]]"
   ]
  },
  {
   "cell_type": "code",
   "execution_count": 19,
   "id": "b7ff42e0",
   "metadata": {
    "execution": {
     "iopub.execute_input": "2025-08-19T19:01:47.859827Z",
     "iopub.status.busy": "2025-08-19T19:01:47.859358Z",
     "iopub.status.idle": "2025-08-19T19:01:47.914593Z",
     "shell.execute_reply": "2025-08-19T19:01:47.913746Z"
    },
    "papermill": {
     "duration": 0.088027,
     "end_time": "2025-08-19T19:01:47.920119",
     "exception": false,
     "start_time": "2025-08-19T19:01:47.832092",
     "status": "completed"
    },
    "tags": []
   },
   "outputs": [],
   "source": [
    "X_test = siab_test.iloc[:,4:164]\n",
    "y_true = siab_test.iloc[:, [3]]"
   ]
  },
  {
   "cell_type": "code",
   "execution_count": 20,
   "id": "0275101e",
   "metadata": {
    "execution": {
     "iopub.execute_input": "2025-08-19T19:01:47.957517Z",
     "iopub.status.busy": "2025-08-19T19:01:47.956771Z",
     "iopub.status.idle": "2025-08-19T19:01:48.059486Z",
     "shell.execute_reply": "2025-08-19T19:01:48.058721Z"
    },
    "papermill": {
     "duration": 0.120341,
     "end_time": "2025-08-19T19:01:48.062324",
     "exception": false,
     "start_time": "2025-08-19T19:01:47.941983",
     "status": "completed"
    },
    "tags": []
   },
   "outputs": [],
   "source": [
    "# Auxiliary data needed downstream in the pipeline\n",
    "\n",
    "org_train = X_train.copy()\n",
    "org_test = X_test.copy()\n",
    "org_calib = X_calib.copy()"
   ]
  },
  {
   "cell_type": "markdown",
   "id": "b461e618",
   "metadata": {
    "papermill": {
     "duration": 0.013072,
     "end_time": "2025-08-19T19:01:48.102413",
     "exception": false,
     "start_time": "2025-08-19T19:01:48.089341",
     "status": "completed"
    },
    "tags": []
   },
   "source": [
    "# Preprocessing Data"
   ]
  },
  {
   "cell_type": "code",
   "execution_count": 21,
   "id": "78e74c4b",
   "metadata": {
    "execution": {
     "iopub.execute_input": "2025-08-19T19:01:48.126023Z",
     "iopub.status.busy": "2025-08-19T19:01:48.125306Z",
     "iopub.status.idle": "2025-08-19T19:01:48.134746Z",
     "shell.execute_reply": "2025-08-19T19:01:48.133204Z"
    },
    "papermill": {
     "duration": 0.023467,
     "end_time": "2025-08-19T19:01:48.136419",
     "exception": false,
     "start_time": "2025-08-19T19:01:48.112952",
     "status": "completed"
    },
    "tags": []
   },
   "outputs": [],
   "source": [
    "# EXCLUDE PROTECTED FEATURES\n",
    "# --------------------------\n",
    "\n",
    "excluded_features = universe[\"exclude_features\"].split(\"-\")\n",
    "excluded_features_dictionary = {\n",
    "    \"nationality\": [\"maxdeutsch1\", \"maxdeutsch.Missing.\"],\n",
    "    \"sex\": [\"frau1\"],\n",
    "    \"age\": [\"age\"],\n",
    "}"
   ]
  },
  {
   "cell_type": "code",
   "execution_count": 22,
   "id": "f8e63555",
   "metadata": {
    "execution": {
     "iopub.execute_input": "2025-08-19T19:01:48.175661Z",
     "iopub.status.busy": "2025-08-19T19:01:48.175100Z",
     "iopub.status.idle": "2025-08-19T19:01:48.180796Z",
     "shell.execute_reply": "2025-08-19T19:01:48.179820Z"
    },
    "papermill": {
     "duration": 0.033535,
     "end_time": "2025-08-19T19:01:48.183027",
     "exception": false,
     "start_time": "2025-08-19T19:01:48.149492",
     "status": "completed"
    },
    "tags": []
   },
   "outputs": [],
   "source": [
    "excluded_features_columns = [\n",
    "    excluded_features_dictionary[f] for f in excluded_features if len(f) > 0 and f != \"none\"\n",
    "]"
   ]
  },
  {
   "cell_type": "code",
   "execution_count": 23,
   "id": "da781f7c",
   "metadata": {
    "execution": {
     "iopub.execute_input": "2025-08-19T19:01:48.218057Z",
     "iopub.status.busy": "2025-08-19T19:01:48.217599Z",
     "iopub.status.idle": "2025-08-19T19:01:48.222311Z",
     "shell.execute_reply": "2025-08-19T19:01:48.221513Z"
    },
    "papermill": {
     "duration": 0.019834,
     "end_time": "2025-08-19T19:01:48.224001",
     "exception": false,
     "start_time": "2025-08-19T19:01:48.204167",
     "status": "completed"
    },
    "tags": []
   },
   "outputs": [],
   "source": [
    "from fairness_multiverse.universe import flatten_once\n",
    "\n",
    "excluded_features_columns = flatten_once(excluded_features_columns)"
   ]
  },
  {
   "cell_type": "code",
   "execution_count": 24,
   "id": "37fef0f0",
   "metadata": {
    "execution": {
     "iopub.execute_input": "2025-08-19T19:01:48.250571Z",
     "iopub.status.busy": "2025-08-19T19:01:48.250230Z",
     "iopub.status.idle": "2025-08-19T19:01:48.257995Z",
     "shell.execute_reply": "2025-08-19T19:01:48.257087Z"
    },
    "papermill": {
     "duration": 0.021612,
     "end_time": "2025-08-19T19:01:48.259248",
     "exception": false,
     "start_time": "2025-08-19T19:01:48.237636",
     "status": "completed"
    },
    "tags": []
   },
   "outputs": [
    {
     "name": "stdout",
     "output_type": "stream",
     "text": [
      "Dropping features: ['frau1']\n"
     ]
    }
   ],
   "source": [
    "if len(excluded_features_columns) > 0:\n",
    "    print(f\"Dropping features: {excluded_features_columns}\")\n",
    "    X_train.drop(excluded_features_columns, axis=1, inplace=True)"
   ]
  },
  {
   "cell_type": "code",
   "execution_count": 25,
   "id": "d029e3e9",
   "metadata": {
    "execution": {
     "iopub.execute_input": "2025-08-19T19:01:48.283647Z",
     "iopub.status.busy": "2025-08-19T19:01:48.283326Z",
     "iopub.status.idle": "2025-08-19T19:01:48.333176Z",
     "shell.execute_reply": "2025-08-19T19:01:48.332286Z"
    },
    "papermill": {
     "duration": 0.06267,
     "end_time": "2025-08-19T19:01:48.334428",
     "exception": false,
     "start_time": "2025-08-19T19:01:48.271758",
     "status": "completed"
    },
    "tags": []
   },
   "outputs": [
    {
     "name": "stdout",
     "output_type": "stream",
     "text": [
      "Dropping features: ['frau1']\n"
     ]
    }
   ],
   "source": [
    "if len(excluded_features_columns) > 0:\n",
    "    print(f\"Dropping features: {excluded_features_columns}\")\n",
    "    X_test.drop(excluded_features_columns, axis=1, inplace=True)"
   ]
  },
  {
   "cell_type": "code",
   "execution_count": 26,
   "id": "01d571f0",
   "metadata": {
    "execution": {
     "iopub.execute_input": "2025-08-19T19:01:48.356797Z",
     "iopub.status.busy": "2025-08-19T19:01:48.356341Z",
     "iopub.status.idle": "2025-08-19T19:01:48.407349Z",
     "shell.execute_reply": "2025-08-19T19:01:48.406445Z"
    },
    "papermill": {
     "duration": 0.064709,
     "end_time": "2025-08-19T19:01:48.409797",
     "exception": false,
     "start_time": "2025-08-19T19:01:48.345088",
     "status": "completed"
    },
    "tags": []
   },
   "outputs": [
    {
     "name": "stdout",
     "output_type": "stream",
     "text": [
      "Dropping features: ['frau1']\n"
     ]
    }
   ],
   "source": [
    "if len(excluded_features_columns) > 0:\n",
    "    print(f\"Dropping features: {excluded_features_columns}\")\n",
    "    X_calib.drop(excluded_features_columns, axis=1, inplace=True)"
   ]
  },
  {
   "cell_type": "code",
   "execution_count": 27,
   "id": "3037356e",
   "metadata": {
    "execution": {
     "iopub.execute_input": "2025-08-19T19:01:48.447212Z",
     "iopub.status.busy": "2025-08-19T19:01:48.445844Z",
     "iopub.status.idle": "2025-08-19T19:01:48.453619Z",
     "shell.execute_reply": "2025-08-19T19:01:48.452221Z"
    },
    "papermill": {
     "duration": 0.023468,
     "end_time": "2025-08-19T19:01:48.455189",
     "exception": false,
     "start_time": "2025-08-19T19:01:48.431721",
     "status": "completed"
    },
    "tags": []
   },
   "outputs": [],
   "source": [
    "# EXCLUDE CERTAIN SUBGROUPS\n",
    "# -------------------------\n",
    "\n",
    "mode = universe.get(\"exclude_subgroups\", \"keep-all\") # Defaults to \"keep-all\" if the key is missing."
   ]
  },
  {
   "cell_type": "code",
   "execution_count": 28,
   "id": "9d1e63fd",
   "metadata": {
    "execution": {
     "iopub.execute_input": "2025-08-19T19:01:48.483700Z",
     "iopub.status.busy": "2025-08-19T19:01:48.482432Z",
     "iopub.status.idle": "2025-08-19T19:01:48.493536Z",
     "shell.execute_reply": "2025-08-19T19:01:48.492229Z"
    },
    "papermill": {
     "duration": 0.027073,
     "end_time": "2025-08-19T19:01:48.495177",
     "exception": false,
     "start_time": "2025-08-19T19:01:48.468104",
     "status": "completed"
    },
    "tags": []
   },
   "outputs": [],
   "source": [
    "if mode == \"keep-all\":\n",
    "    keep_mask = pd.Series(True, index=org_train.index)\n",
    "\n",
    "elif mode == \"drop-non-german\":\n",
    "    keep_mask = (org_train[\"maxdeutsch1\"] == 1) & (org_train[\"maxdeutsch.Missing.\"] == 0)\n",
    "\n",
    "else:\n",
    "    raise ValueError(f\"Unsupported mode for exclude_subgroups: {mode}\")"
   ]
  },
  {
   "cell_type": "code",
   "execution_count": 29,
   "id": "d3b65474",
   "metadata": {
    "execution": {
     "iopub.execute_input": "2025-08-19T19:01:48.525160Z",
     "iopub.status.busy": "2025-08-19T19:01:48.523983Z",
     "iopub.status.idle": "2025-08-19T19:01:48.536075Z",
     "shell.execute_reply": "2025-08-19T19:01:48.534026Z"
    },
    "papermill": {
     "duration": 0.027249,
     "end_time": "2025-08-19T19:01:48.538159",
     "exception": false,
     "start_time": "2025-08-19T19:01:48.510910",
     "status": "completed"
    },
    "tags": []
   },
   "outputs": [
    {
     "name": "stdout",
     "output_type": "stream",
     "text": [
      "Dropping 147 rows (14.70%) where mode='drop-non-german'"
     ]
    },
    {
     "name": "stdout",
     "output_type": "stream",
     "text": [
      "\n"
     ]
    }
   ],
   "source": [
    "n_drop = (~keep_mask).sum() # Calculates how many rows are set to be dropped\n",
    "if n_drop > 0:\n",
    "    pct = n_drop / len(keep_mask) * 100\n",
    "    print(f\"Dropping {n_drop} rows ({pct:.2f}%) where mode='{mode}'\")"
   ]
  },
  {
   "cell_type": "code",
   "execution_count": 30,
   "id": "f44389b3",
   "metadata": {
    "execution": {
     "iopub.execute_input": "2025-08-19T19:01:48.564839Z",
     "iopub.status.busy": "2025-08-19T19:01:48.564020Z",
     "iopub.status.idle": "2025-08-19T19:01:48.574576Z",
     "shell.execute_reply": "2025-08-19T19:01:48.573209Z"
    },
    "papermill": {
     "duration": 0.024502,
     "end_time": "2025-08-19T19:01:48.576250",
     "exception": false,
     "start_time": "2025-08-19T19:01:48.551748",
     "status": "completed"
    },
    "tags": []
   },
   "outputs": [],
   "source": [
    "X_train = X_train[keep_mask]"
   ]
  },
  {
   "cell_type": "code",
   "execution_count": 31,
   "id": "ceca8c2a",
   "metadata": {
    "execution": {
     "iopub.execute_input": "2025-08-19T19:01:48.607747Z",
     "iopub.status.busy": "2025-08-19T19:01:48.607296Z",
     "iopub.status.idle": "2025-08-19T19:01:48.613469Z",
     "shell.execute_reply": "2025-08-19T19:01:48.612269Z"
    },
    "papermill": {
     "duration": 0.024599,
     "end_time": "2025-08-19T19:01:48.614826",
     "exception": false,
     "start_time": "2025-08-19T19:01:48.590227",
     "status": "completed"
    },
    "tags": []
   },
   "outputs": [],
   "source": [
    "y_train = y_train[keep_mask]"
   ]
  },
  {
   "cell_type": "markdown",
   "id": "04d31e2f",
   "metadata": {
    "papermill": {
     "duration": 0.011453,
     "end_time": "2025-08-19T19:01:48.640263",
     "exception": false,
     "start_time": "2025-08-19T19:01:48.628810",
     "status": "completed"
    },
    "tags": []
   },
   "source": [
    "# Model Training"
   ]
  },
  {
   "cell_type": "code",
   "execution_count": 32,
   "id": "db991733",
   "metadata": {
    "execution": {
     "iopub.execute_input": "2025-08-19T19:01:48.664448Z",
     "iopub.status.busy": "2025-08-19T19:01:48.663303Z",
     "iopub.status.idle": "2025-08-19T19:01:48.765747Z",
     "shell.execute_reply": "2025-08-19T19:01:48.764874Z"
    },
    "papermill": {
     "duration": 0.117974,
     "end_time": "2025-08-19T19:01:48.768646",
     "exception": false,
     "start_time": "2025-08-19T19:01:48.650672",
     "status": "completed"
    },
    "tags": []
   },
   "outputs": [],
   "source": [
    "from sklearn.linear_model import LogisticRegression\n",
    "from sklearn.ensemble import GradientBoostingClassifier, RandomForestClassifier\n",
    "\n",
    "if (universe[\"model\"] == \"logreg\"):\n",
    "    model = LogisticRegression() #penalty=\"none\", solver=\"newton-cg\", max_iter=1)\n",
    "elif (universe[\"model\"] == \"penalized_logreg\"):\n",
    "    model = LogisticRegression(penalty=\"l2\", C=0.1) #, solver=\"newton-cg\", max_iter=1)\n",
    "elif (universe[\"model\"] == \"rf\"):\n",
    "    model = RandomForestClassifier() # n_estimators=100, n_jobs=-1\n",
    "elif (universe[\"model\"] == \"gbm\"):\n",
    "    model = GradientBoostingClassifier()\n",
    "elif (universe[\"model\"] == \"elasticnet\"):\n",
    "    model = LogisticRegression(penalty = 'elasticnet', solver = 'saga', l1_ratio = 0.5) # max_iter=5000\n",
    "else:\n",
    "    raise \"Unsupported universe.model\""
   ]
  },
  {
   "cell_type": "code",
   "execution_count": 33,
   "id": "a4b5cd25",
   "metadata": {
    "execution": {
     "iopub.execute_input": "2025-08-19T19:01:48.808602Z",
     "iopub.status.busy": "2025-08-19T19:01:48.807360Z",
     "iopub.status.idle": "2025-08-19T19:01:48.817374Z",
     "shell.execute_reply": "2025-08-19T19:01:48.815927Z"
    },
    "papermill": {
     "duration": 0.025292,
     "end_time": "2025-08-19T19:01:48.818885",
     "exception": false,
     "start_time": "2025-08-19T19:01:48.793593",
     "status": "completed"
    },
    "tags": []
   },
   "outputs": [],
   "source": [
    "from sklearn.pipeline import Pipeline\n",
    "from sklearn.preprocessing import StandardScaler\n",
    "\n",
    "model = Pipeline([\n",
    "    #(\"continuous_processor\", continuous_processor),\n",
    "    #(\"categorical_preprocessor\", categorical_preprocessor),\n",
    "    (\"scale\", StandardScaler() if universe[\"scale\"] == \"scale\" else None), \n",
    "    (\"model\", model),\n",
    "])"
   ]
  },
  {
   "cell_type": "code",
   "execution_count": 34,
   "id": "283a904d",
   "metadata": {
    "execution": {
     "iopub.execute_input": "2025-08-19T19:01:48.856060Z",
     "iopub.status.busy": "2025-08-19T19:01:48.854471Z",
     "iopub.status.idle": "2025-08-19T19:01:48.917977Z",
     "shell.execute_reply": "2025-08-19T19:01:48.917180Z"
    },
    "papermill": {
     "duration": 0.086491,
     "end_time": "2025-08-19T19:01:48.919426",
     "exception": false,
     "start_time": "2025-08-19T19:01:48.832935",
     "status": "completed"
    },
    "tags": []
   },
   "outputs": [
    {
     "name": "stderr",
     "output_type": "stream",
     "text": [
      "/dss/dsshome1/0C/ra93lal2/.local/share/virtualenvs/CMA_Fairness_v2-3j10GkSs/lib/python3.10/site-packages/sklearn/linear_model/_logistic.py:444: ConvergenceWarning: lbfgs failed to converge (status=1):\n",
      "STOP: TOTAL NO. of ITERATIONS REACHED LIMIT.\n",
      "\n",
      "Increase the number of iterations (max_iter) or scale the data as shown in:\n",
      "    https://scikit-learn.org/stable/modules/preprocessing.html\n",
      "Please also refer to the documentation for alternative solver options:\n",
      "    https://scikit-learn.org/stable/modules/linear_model.html#logistic-regression\n",
      "  n_iter_i = _check_optimize_result(\n"
     ]
    },
    {
     "data": {
      "text/html": [
       "<style>#sk-container-id-1 {color: black;background-color: white;}#sk-container-id-1 pre{padding: 0;}#sk-container-id-1 div.sk-toggleable {background-color: white;}#sk-container-id-1 label.sk-toggleable__label {cursor: pointer;display: block;width: 100%;margin-bottom: 0;padding: 0.3em;box-sizing: border-box;text-align: center;}#sk-container-id-1 label.sk-toggleable__label-arrow:before {content: \"▸\";float: left;margin-right: 0.25em;color: #696969;}#sk-container-id-1 label.sk-toggleable__label-arrow:hover:before {color: black;}#sk-container-id-1 div.sk-estimator:hover label.sk-toggleable__label-arrow:before {color: black;}#sk-container-id-1 div.sk-toggleable__content {max-height: 0;max-width: 0;overflow: hidden;text-align: left;background-color: #f0f8ff;}#sk-container-id-1 div.sk-toggleable__content pre {margin: 0.2em;color: black;border-radius: 0.25em;background-color: #f0f8ff;}#sk-container-id-1 input.sk-toggleable__control:checked~div.sk-toggleable__content {max-height: 200px;max-width: 100%;overflow: auto;}#sk-container-id-1 input.sk-toggleable__control:checked~label.sk-toggleable__label-arrow:before {content: \"▾\";}#sk-container-id-1 div.sk-estimator input.sk-toggleable__control:checked~label.sk-toggleable__label {background-color: #d4ebff;}#sk-container-id-1 div.sk-label input.sk-toggleable__control:checked~label.sk-toggleable__label {background-color: #d4ebff;}#sk-container-id-1 input.sk-hidden--visually {border: 0;clip: rect(1px 1px 1px 1px);clip: rect(1px, 1px, 1px, 1px);height: 1px;margin: -1px;overflow: hidden;padding: 0;position: absolute;width: 1px;}#sk-container-id-1 div.sk-estimator {font-family: monospace;background-color: #f0f8ff;border: 1px dotted black;border-radius: 0.25em;box-sizing: border-box;margin-bottom: 0.5em;}#sk-container-id-1 div.sk-estimator:hover {background-color: #d4ebff;}#sk-container-id-1 div.sk-parallel-item::after {content: \"\";width: 100%;border-bottom: 1px solid gray;flex-grow: 1;}#sk-container-id-1 div.sk-label:hover label.sk-toggleable__label {background-color: #d4ebff;}#sk-container-id-1 div.sk-serial::before {content: \"\";position: absolute;border-left: 1px solid gray;box-sizing: border-box;top: 0;bottom: 0;left: 50%;z-index: 0;}#sk-container-id-1 div.sk-serial {display: flex;flex-direction: column;align-items: center;background-color: white;padding-right: 0.2em;padding-left: 0.2em;position: relative;}#sk-container-id-1 div.sk-item {position: relative;z-index: 1;}#sk-container-id-1 div.sk-parallel {display: flex;align-items: stretch;justify-content: center;background-color: white;position: relative;}#sk-container-id-1 div.sk-item::before, #sk-container-id-1 div.sk-parallel-item::before {content: \"\";position: absolute;border-left: 1px solid gray;box-sizing: border-box;top: 0;bottom: 0;left: 50%;z-index: -1;}#sk-container-id-1 div.sk-parallel-item {display: flex;flex-direction: column;z-index: 1;position: relative;background-color: white;}#sk-container-id-1 div.sk-parallel-item:first-child::after {align-self: flex-end;width: 50%;}#sk-container-id-1 div.sk-parallel-item:last-child::after {align-self: flex-start;width: 50%;}#sk-container-id-1 div.sk-parallel-item:only-child::after {width: 0;}#sk-container-id-1 div.sk-dashed-wrapped {border: 1px dashed gray;margin: 0 0.4em 0.5em 0.4em;box-sizing: border-box;padding-bottom: 0.4em;background-color: white;}#sk-container-id-1 div.sk-label label {font-family: monospace;font-weight: bold;display: inline-block;line-height: 1.2em;}#sk-container-id-1 div.sk-label-container {text-align: center;}#sk-container-id-1 div.sk-container {/* jupyter's `normalize.less` sets `[hidden] { display: none; }` but bootstrap.min.css set `[hidden] { display: none !important; }` so we also need the `!important` here to be able to override the default hidden behavior on the sphinx rendered scikit-learn.org. See: https://github.com/scikit-learn/scikit-learn/issues/21755 */display: inline-block !important;position: relative;}#sk-container-id-1 div.sk-text-repr-fallback {display: none;}</style><div id=\"sk-container-id-1\" class=\"sk-top-container\"><div class=\"sk-text-repr-fallback\"><pre>Pipeline(steps=[(&#x27;scale&#x27;, None), (&#x27;model&#x27;, LogisticRegression(C=0.1))])</pre><b>In a Jupyter environment, please rerun this cell to show the HTML representation or trust the notebook. <br />On GitHub, the HTML representation is unable to render, please try loading this page with nbviewer.org.</b></div><div class=\"sk-container\" hidden><div class=\"sk-item sk-dashed-wrapped\"><div class=\"sk-label-container\"><div class=\"sk-label sk-toggleable\"><input class=\"sk-toggleable__control sk-hidden--visually\" id=\"sk-estimator-id-1\" type=\"checkbox\" ><label for=\"sk-estimator-id-1\" class=\"sk-toggleable__label sk-toggleable__label-arrow\">Pipeline</label><div class=\"sk-toggleable__content\"><pre>Pipeline(steps=[(&#x27;scale&#x27;, None), (&#x27;model&#x27;, LogisticRegression(C=0.1))])</pre></div></div></div><div class=\"sk-serial\"><div class=\"sk-item\"><div class=\"sk-estimator sk-toggleable\"><input class=\"sk-toggleable__control sk-hidden--visually\" id=\"sk-estimator-id-2\" type=\"checkbox\" ><label for=\"sk-estimator-id-2\" class=\"sk-toggleable__label sk-toggleable__label-arrow\">None</label><div class=\"sk-toggleable__content\"><pre>None</pre></div></div></div><div class=\"sk-item\"><div class=\"sk-estimator sk-toggleable\"><input class=\"sk-toggleable__control sk-hidden--visually\" id=\"sk-estimator-id-3\" type=\"checkbox\" ><label for=\"sk-estimator-id-3\" class=\"sk-toggleable__label sk-toggleable__label-arrow\">LogisticRegression</label><div class=\"sk-toggleable__content\"><pre>LogisticRegression(C=0.1)</pre></div></div></div></div></div></div></div>"
      ],
      "text/plain": [
       "Pipeline(steps=[('scale', None), ('model', LogisticRegression(C=0.1))])"
      ]
     },
     "execution_count": 34,
     "metadata": {},
     "output_type": "execute_result"
    }
   ],
   "source": [
    "model.fit(X_train, y_train.values.ravel())"
   ]
  },
  {
   "cell_type": "code",
   "execution_count": 35,
   "id": "6e15e313",
   "metadata": {
    "execution": {
     "iopub.execute_input": "2025-08-19T19:01:48.953429Z",
     "iopub.status.busy": "2025-08-19T19:01:48.952680Z",
     "iopub.status.idle": "2025-08-19T19:01:49.058400Z",
     "shell.execute_reply": "2025-08-19T19:01:49.057634Z"
    },
    "papermill": {
     "duration": 0.128762,
     "end_time": "2025-08-19T19:01:49.059921",
     "exception": false,
     "start_time": "2025-08-19T19:01:48.931159",
     "status": "completed"
    },
    "tags": []
   },
   "outputs": [
    {
     "data": {
      "text/plain": [
       "0.8585887860885074"
      ]
     },
     "execution_count": 35,
     "metadata": {},
     "output_type": "execute_result"
    }
   ],
   "source": [
    "from fairness_multiverse.universe import predict_w_threshold\n",
    "\n",
    "probs_test = model.predict_proba(X_test)\n",
    "\n",
    "'''\n",
    "Below code returns a boolean array (or binary 0/1 array depending on how it’s used) where each element \n",
    "is True if the probability of class 1 is greater than or equal to the threshold, and False otherwise.\n",
    "'''\n",
    "y_pred_default = predict_w_threshold(probs_test, 0.5)\n",
    "\n",
    "from sklearn.metrics import accuracy_score\n",
    "\n",
    "# Naive prediction\n",
    "accuracy_score(y_true = y_true, y_pred = y_pred_default)"
   ]
  },
  {
   "cell_type": "code",
   "execution_count": 36,
   "id": "6f14067c",
   "metadata": {
    "execution": {
     "iopub.execute_input": "2025-08-19T19:01:49.088571Z",
     "iopub.status.busy": "2025-08-19T19:01:49.087914Z",
     "iopub.status.idle": "2025-08-19T19:01:49.173547Z",
     "shell.execute_reply": "2025-08-19T19:01:49.172708Z"
    },
    "papermill": {
     "duration": 0.10021,
     "end_time": "2025-08-19T19:01:49.174870",
     "exception": false,
     "start_time": "2025-08-19T19:01:49.074660",
     "status": "completed"
    },
    "tags": []
   },
   "outputs": [
    {
     "data": {
      "text/plain": [
       "array([0, 0, 0, ..., 0, 0, 0])"
      ]
     },
     "execution_count": 36,
     "metadata": {},
     "output_type": "execute_result"
    }
   ],
   "source": [
    "model.predict(X_test)"
   ]
  },
  {
   "cell_type": "markdown",
   "id": "3759920c",
   "metadata": {
    "papermill": {
     "duration": 0.011123,
     "end_time": "2025-08-19T19:01:49.197767",
     "exception": false,
     "start_time": "2025-08-19T19:01:49.186644",
     "status": "completed"
    },
    "tags": []
   },
   "source": [
    "# Conformal Prediction"
   ]
  },
  {
   "cell_type": "code",
   "execution_count": 37,
   "id": "14b27f59",
   "metadata": {
    "execution": {
     "iopub.execute_input": "2025-08-19T19:01:49.222672Z",
     "iopub.status.busy": "2025-08-19T19:01:49.221323Z",
     "iopub.status.idle": "2025-08-19T19:01:49.228681Z",
     "shell.execute_reply": "2025-08-19T19:01:49.227398Z"
    },
    "papermill": {
     "duration": 0.02128,
     "end_time": "2025-08-19T19:01:49.230091",
     "exception": false,
     "start_time": "2025-08-19T19:01:49.208811",
     "status": "completed"
    },
    "tags": []
   },
   "outputs": [],
   "source": [
    "# Miscoverage level for conformal prediction (10% allowed error rate => 90% target coverage)\n",
    "alpha = 0.1"
   ]
  },
  {
   "cell_type": "code",
   "execution_count": 38,
   "id": "59102472",
   "metadata": {
    "execution": {
     "iopub.execute_input": "2025-08-19T19:01:49.256648Z",
     "iopub.status.busy": "2025-08-19T19:01:49.255370Z",
     "iopub.status.idle": "2025-08-19T19:01:49.343331Z",
     "shell.execute_reply": "2025-08-19T19:01:49.342354Z"
    },
    "papermill": {
     "duration": 0.103415,
     "end_time": "2025-08-19T19:01:49.346273",
     "exception": false,
     "start_time": "2025-08-19T19:01:49.242858",
     "status": "completed"
    },
    "tags": []
   },
   "outputs": [],
   "source": [
    "probs_calib = model.predict_proba(X_calib)"
   ]
  },
  {
   "cell_type": "code",
   "execution_count": 39,
   "id": "a792d4dd",
   "metadata": {
    "execution": {
     "iopub.execute_input": "2025-08-19T19:01:49.394903Z",
     "iopub.status.busy": "2025-08-19T19:01:49.393962Z",
     "iopub.status.idle": "2025-08-19T19:01:49.401967Z",
     "shell.execute_reply": "2025-08-19T19:01:49.401151Z"
    },
    "papermill": {
     "duration": 0.033035,
     "end_time": "2025-08-19T19:01:49.403995",
     "exception": false,
     "start_time": "2025-08-19T19:01:49.370960",
     "status": "completed"
    },
    "tags": []
   },
   "outputs": [],
   "source": [
    "y_calib = y_calib.values.ravel().astype(int)"
   ]
  },
  {
   "cell_type": "code",
   "execution_count": 40,
   "id": "650fd033",
   "metadata": {
    "execution": {
     "iopub.execute_input": "2025-08-19T19:01:49.431879Z",
     "iopub.status.busy": "2025-08-19T19:01:49.431430Z",
     "iopub.status.idle": "2025-08-19T19:01:49.438307Z",
     "shell.execute_reply": "2025-08-19T19:01:49.437327Z"
    },
    "papermill": {
     "duration": 0.022913,
     "end_time": "2025-08-19T19:01:49.439835",
     "exception": false,
     "start_time": "2025-08-19T19:01:49.416922",
     "status": "completed"
    },
    "tags": []
   },
   "outputs": [],
   "source": [
    "from fairness_multiverse.conformal import compute_nc_scores\n",
    "\n",
    "# Compute nonconformity scores on calibration set (1 - probability of true class)\n",
    "nc_scores = compute_nc_scores(probs_calib, y_calib)"
   ]
  },
  {
   "cell_type": "code",
   "execution_count": 41,
   "id": "28ada44c",
   "metadata": {
    "execution": {
     "iopub.execute_input": "2025-08-19T19:01:49.470497Z",
     "iopub.status.busy": "2025-08-19T19:01:49.470050Z",
     "iopub.status.idle": "2025-08-19T19:01:49.475839Z",
     "shell.execute_reply": "2025-08-19T19:01:49.474934Z"
    },
    "papermill": {
     "duration": 0.024789,
     "end_time": "2025-08-19T19:01:49.478565",
     "exception": false,
     "start_time": "2025-08-19T19:01:49.453776",
     "status": "completed"
    },
    "tags": []
   },
   "outputs": [],
   "source": [
    "from fairness_multiverse.conformal import find_threshold\n",
    "\n",
    "# Find conformal threshold q_hat for the given alpha (split conformal method)\n",
    "q_hat = find_threshold(nc_scores, alpha)"
   ]
  },
  {
   "cell_type": "code",
   "execution_count": 42,
   "id": "df56469e",
   "metadata": {
    "execution": {
     "iopub.execute_input": "2025-08-19T19:01:49.507601Z",
     "iopub.status.busy": "2025-08-19T19:01:49.507168Z",
     "iopub.status.idle": "2025-08-19T19:01:49.513242Z",
     "shell.execute_reply": "2025-08-19T19:01:49.512353Z"
    },
    "papermill": {
     "duration": 0.022372,
     "end_time": "2025-08-19T19:01:49.515951",
     "exception": false,
     "start_time": "2025-08-19T19:01:49.493579",
     "status": "completed"
    },
    "tags": []
   },
   "outputs": [
    {
     "data": {
      "text/plain": [
       "0.6906270276002724"
      ]
     },
     "execution_count": 42,
     "metadata": {},
     "output_type": "execute_result"
    }
   ],
   "source": [
    "q_hat"
   ]
  },
  {
   "cell_type": "code",
   "execution_count": 43,
   "id": "aa1f5faa",
   "metadata": {
    "execution": {
     "iopub.execute_input": "2025-08-19T19:01:49.540948Z",
     "iopub.status.busy": "2025-08-19T19:01:49.540524Z",
     "iopub.status.idle": "2025-08-19T19:01:50.035862Z",
     "shell.execute_reply": "2025-08-19T19:01:50.034915Z"
    },
    "papermill": {
     "duration": 0.509565,
     "end_time": "2025-08-19T19:01:50.037783",
     "exception": false,
     "start_time": "2025-08-19T19:01:49.528218",
     "status": "completed"
    },
    "tags": []
   },
   "outputs": [],
   "source": [
    "from fairness_multiverse.conformal import predict_conformal_sets\n",
    "\n",
    "# Generate prediction sets for each test example\n",
    "pred_sets = predict_conformal_sets(model, X_test, q_hat)"
   ]
  },
  {
   "cell_type": "code",
   "execution_count": 44,
   "id": "97f67a6b",
   "metadata": {
    "execution": {
     "iopub.execute_input": "2025-08-19T19:01:50.067177Z",
     "iopub.status.busy": "2025-08-19T19:01:50.066052Z",
     "iopub.status.idle": "2025-08-19T19:01:50.073714Z",
     "shell.execute_reply": "2025-08-19T19:01:50.072708Z"
    },
    "papermill": {
     "duration": 0.025676,
     "end_time": "2025-08-19T19:01:50.075352",
     "exception": false,
     "start_time": "2025-08-19T19:01:50.049676",
     "status": "completed"
    },
    "tags": []
   },
   "outputs": [],
   "source": [
    "y_true = y_true.squeeze()"
   ]
  },
  {
   "cell_type": "code",
   "execution_count": 45,
   "id": "e700e9a7",
   "metadata": {
    "execution": {
     "iopub.execute_input": "2025-08-19T19:01:50.106626Z",
     "iopub.status.busy": "2025-08-19T19:01:50.106141Z",
     "iopub.status.idle": "2025-08-19T19:01:50.660619Z",
     "shell.execute_reply": "2025-08-19T19:01:50.659720Z"
    },
    "papermill": {
     "duration": 0.570949,
     "end_time": "2025-08-19T19:01:50.662173",
     "exception": false,
     "start_time": "2025-08-19T19:01:50.091224",
     "status": "completed"
    },
    "tags": []
   },
   "outputs": [],
   "source": [
    "from fairness_multiverse.conformal import evaluate_sets\n",
    "\n",
    "# Evaluate coverage and average set size on test data\n",
    "metrics = evaluate_sets(pred_sets, y_true)"
   ]
  },
  {
   "cell_type": "markdown",
   "id": "efbacec0",
   "metadata": {
    "papermill": {
     "duration": 0.015303,
     "end_time": "2025-08-19T19:01:50.689775",
     "exception": false,
     "start_time": "2025-08-19T19:01:50.674472",
     "status": "completed"
    },
    "tags": []
   },
   "source": [
    "# CP Metrics"
   ]
  },
  {
   "cell_type": "code",
   "execution_count": 46,
   "id": "9de55fb1",
   "metadata": {
    "execution": {
     "iopub.execute_input": "2025-08-19T19:01:50.715637Z",
     "iopub.status.busy": "2025-08-19T19:01:50.714295Z",
     "iopub.status.idle": "2025-08-19T19:01:50.725127Z",
     "shell.execute_reply": "2025-08-19T19:01:50.723559Z"
    },
    "papermill": {
     "duration": 0.025278,
     "end_time": "2025-08-19T19:01:50.726675",
     "exception": false,
     "start_time": "2025-08-19T19:01:50.701397",
     "status": "completed"
    },
    "tags": []
   },
   "outputs": [
    {
     "data": {
      "text/plain": [
       "{'coverage': 0.9114257050496043, 'avg_size': 1.2143462267305762}"
      ]
     },
     "execution_count": 46,
     "metadata": {},
     "output_type": "execute_result"
    }
   ],
   "source": [
    "metrics"
   ]
  },
  {
   "cell_type": "code",
   "execution_count": 47,
   "id": "64c340a1",
   "metadata": {
    "execution": {
     "iopub.execute_input": "2025-08-19T19:01:50.755634Z",
     "iopub.status.busy": "2025-08-19T19:01:50.754316Z",
     "iopub.status.idle": "2025-08-19T19:01:50.764012Z",
     "shell.execute_reply": "2025-08-19T19:01:50.762730Z"
    },
    "papermill": {
     "duration": 0.025533,
     "end_time": "2025-08-19T19:01:50.765652",
     "exception": false,
     "start_time": "2025-08-19T19:01:50.740119",
     "status": "completed"
    },
    "tags": []
   },
   "outputs": [],
   "source": [
    "example_universe = universe.copy()\n",
    "universe_training_year = example_universe.get(\"training_year\")\n",
    "universe_training_size = example_universe.get(\"training_size\")\n",
    "universe_scale = example_universe.get(\"scale\")\n",
    "universe_model = example_universe.get(\"model\")\n",
    "universe_exclude_features = example_universe.get(\"exclude_features\")\n",
    "universe_exclude_subgroups = example_universe.get(\"exclude_subgroups\")"
   ]
  },
  {
   "cell_type": "code",
   "execution_count": 48,
   "id": "dbb53cb4",
   "metadata": {
    "execution": {
     "iopub.execute_input": "2025-08-19T19:01:50.795810Z",
     "iopub.status.busy": "2025-08-19T19:01:50.794438Z",
     "iopub.status.idle": "2025-08-19T19:01:50.804460Z",
     "shell.execute_reply": "2025-08-19T19:01:50.803106Z"
    },
    "papermill": {
     "duration": 0.024916,
     "end_time": "2025-08-19T19:01:50.806241",
     "exception": false,
     "start_time": "2025-08-19T19:01:50.781325",
     "status": "completed"
    },
    "tags": []
   },
   "outputs": [],
   "source": [
    "cp_metrics_dict = {\n",
    "    \"universe_id\": [universe_id],\n",
    "    \"universe_training_year\": [universe_training_year],\n",
    "    \"universe_training_size\": [universe_training_size],\n",
    "    \"universe_scale\": [universe_scale],\n",
    "    \"universe_model\": [universe_model],\n",
    "    \"universe_exclude_features\": [universe_exclude_features],\n",
    "    \"universe_exclude_subgroups\": [universe_exclude_subgroups],\n",
    "    \"q_hat\": [q_hat],\n",
    "    \"coverage\": [metrics[\"coverage\"]],\n",
    "    \"avg_size\": [metrics[\"avg_size\"]],\n",
    "}"
   ]
  },
  {
   "cell_type": "code",
   "execution_count": 49,
   "id": "0d70d4b2",
   "metadata": {
    "execution": {
     "iopub.execute_input": "2025-08-19T19:01:50.837620Z",
     "iopub.status.busy": "2025-08-19T19:01:50.836230Z",
     "iopub.status.idle": "2025-08-19T19:01:50.845656Z",
     "shell.execute_reply": "2025-08-19T19:01:50.844312Z"
    },
    "papermill": {
     "duration": 0.024172,
     "end_time": "2025-08-19T19:01:50.847178",
     "exception": false,
     "start_time": "2025-08-19T19:01:50.823006",
     "status": "completed"
    },
    "tags": []
   },
   "outputs": [],
   "source": [
    "cp_metrics_df = pd.DataFrame(cp_metrics_dict)"
   ]
  },
  {
   "cell_type": "code",
   "execution_count": 50,
   "id": "b494403c",
   "metadata": {
    "execution": {
     "iopub.execute_input": "2025-08-19T19:01:50.875935Z",
     "iopub.status.busy": "2025-08-19T19:01:50.874747Z",
     "iopub.status.idle": "2025-08-19T19:01:50.899471Z",
     "shell.execute_reply": "2025-08-19T19:01:50.898381Z"
    },
    "papermill": {
     "duration": 0.039702,
     "end_time": "2025-08-19T19:01:50.901533",
     "exception": false,
     "start_time": "2025-08-19T19:01:50.861831",
     "status": "completed"
    },
    "tags": []
   },
   "outputs": [
    {
     "data": {
      "text/html": [
       "<div>\n",
       "<style scoped>\n",
       "    .dataframe tbody tr th:only-of-type {\n",
       "        vertical-align: middle;\n",
       "    }\n",
       "\n",
       "    .dataframe tbody tr th {\n",
       "        vertical-align: top;\n",
       "    }\n",
       "\n",
       "    .dataframe thead th {\n",
       "        text-align: right;\n",
       "    }\n",
       "</style>\n",
       "<table border=\"1\" class=\"dataframe\">\n",
       "  <thead>\n",
       "    <tr style=\"text-align: right;\">\n",
       "      <th></th>\n",
       "      <th>universe_id</th>\n",
       "      <th>universe_training_year</th>\n",
       "      <th>universe_training_size</th>\n",
       "      <th>universe_scale</th>\n",
       "      <th>universe_model</th>\n",
       "      <th>universe_exclude_features</th>\n",
       "      <th>universe_exclude_subgroups</th>\n",
       "      <th>q_hat</th>\n",
       "      <th>coverage</th>\n",
       "      <th>avg_size</th>\n",
       "    </tr>\n",
       "  </thead>\n",
       "  <tbody>\n",
       "    <tr>\n",
       "      <th>0</th>\n",
       "      <td>fe3e78a18593fee1a7aac8086fc4c3b5</td>\n",
       "      <td>2012_14</td>\n",
       "      <td>1k</td>\n",
       "      <td>do-not-scale</td>\n",
       "      <td>penalized_logreg</td>\n",
       "      <td>sex</td>\n",
       "      <td>drop-non-german</td>\n",
       "      <td>0.690627</td>\n",
       "      <td>0.911426</td>\n",
       "      <td>1.214346</td>\n",
       "    </tr>\n",
       "  </tbody>\n",
       "</table>\n",
       "</div>"
      ],
      "text/plain": [
       "                        universe_id universe_training_year  \\\n",
       "0  fe3e78a18593fee1a7aac8086fc4c3b5                2012_14   \n",
       "\n",
       "  universe_training_size universe_scale    universe_model  \\\n",
       "0                     1k   do-not-scale  penalized_logreg   \n",
       "\n",
       "  universe_exclude_features universe_exclude_subgroups     q_hat  coverage  \\\n",
       "0                       sex            drop-non-german  0.690627  0.911426   \n",
       "\n",
       "   avg_size  \n",
       "0  1.214346  "
      ]
     },
     "execution_count": 50,
     "metadata": {},
     "output_type": "execute_result"
    }
   ],
   "source": [
    "cp_metrics_df"
   ]
  },
  {
   "cell_type": "markdown",
   "id": "ed608b0b",
   "metadata": {
    "papermill": {
     "duration": 0.012328,
     "end_time": "2025-08-19T19:01:50.937652",
     "exception": false,
     "start_time": "2025-08-19T19:01:50.925324",
     "status": "completed"
    },
    "tags": []
   },
   "source": [
    "Conditional coverage & looking at subgroups"
   ]
  },
  {
   "cell_type": "code",
   "execution_count": 51,
   "id": "8968c366",
   "metadata": {
    "execution": {
     "iopub.execute_input": "2025-08-19T19:01:50.965208Z",
     "iopub.status.busy": "2025-08-19T19:01:50.963859Z",
     "iopub.status.idle": "2025-08-19T19:01:51.194589Z",
     "shell.execute_reply": "2025-08-19T19:01:51.193682Z"
    },
    "papermill": {
     "duration": 0.246956,
     "end_time": "2025-08-19T19:01:51.197578",
     "exception": false,
     "start_time": "2025-08-19T19:01:50.950622",
     "status": "completed"
    },
    "tags": []
   },
   "outputs": [],
   "source": [
    "from fairness_multiverse.conformal import build_cp_groups\n",
    "\n",
    "cp_groups_df = build_cp_groups(pred_sets, y_true, X_test.index, org_test)"
   ]
  },
  {
   "cell_type": "code",
   "execution_count": 52,
   "id": "292ddabf",
   "metadata": {
    "execution": {
     "iopub.execute_input": "2025-08-19T19:01:51.240124Z",
     "iopub.status.busy": "2025-08-19T19:01:51.238721Z",
     "iopub.status.idle": "2025-08-19T19:01:52.151238Z",
     "shell.execute_reply": "2025-08-19T19:01:52.149813Z"
    },
    "papermill": {
     "duration": 0.930643,
     "end_time": "2025-08-19T19:01:52.153607",
     "exception": false,
     "start_time": "2025-08-19T19:01:51.222964",
     "status": "completed"
    },
    "tags": []
   },
   "outputs": [],
   "source": [
    "# Define covered = 1 if true_label is in the predicted set\n",
    "cp_groups_df['covered'] = cp_groups_df.apply(\n",
    "    lambda r: int(r['true_label'] in r['pred_set']),\n",
    "    axis=1\n",
    ")"
   ]
  },
  {
   "cell_type": "code",
   "execution_count": 53,
   "id": "3a261692",
   "metadata": {
    "execution": {
     "iopub.execute_input": "2025-08-19T19:01:52.194922Z",
     "iopub.status.busy": "2025-08-19T19:01:52.193550Z",
     "iopub.status.idle": "2025-08-19T19:01:52.218335Z",
     "shell.execute_reply": "2025-08-19T19:01:52.217145Z"
    },
    "papermill": {
     "duration": 0.041968,
     "end_time": "2025-08-19T19:01:52.219696",
     "exception": false,
     "start_time": "2025-08-19T19:01:52.177728",
     "status": "completed"
    },
    "tags": []
   },
   "outputs": [],
   "source": [
    "subgroups = ['frau1','nongerman','nongerman_male','nongerman_female']\n",
    "\n",
    "# Conditional coverage for subgroup==1\n",
    "cond_coverage = {\n",
    "    g: cp_groups_df.loc[cp_groups_df[g]==1, 'covered'].mean()\n",
    "    for g in subgroups\n",
    "}"
   ]
  },
  {
   "cell_type": "code",
   "execution_count": 54,
   "id": "894fd600",
   "metadata": {
    "execution": {
     "iopub.execute_input": "2025-08-19T19:01:52.246461Z",
     "iopub.status.busy": "2025-08-19T19:01:52.245382Z",
     "iopub.status.idle": "2025-08-19T19:01:52.265177Z",
     "shell.execute_reply": "2025-08-19T19:01:52.263522Z"
    },
    "papermill": {
     "duration": 0.034711,
     "end_time": "2025-08-19T19:01:52.266801",
     "exception": false,
     "start_time": "2025-08-19T19:01:52.232090",
     "status": "completed"
    },
    "tags": []
   },
   "outputs": [
    {
     "data": {
      "text/plain": [
       "{'frau1': 0.9100957002291414,\n",
       " 'nongerman': 0.9346544658395554,\n",
       " 'nongerman_male': 0.946410879942358,\n",
       " 'nongerman_female': 0.9152011922503726}"
      ]
     },
     "execution_count": 54,
     "metadata": {},
     "output_type": "execute_result"
    }
   ],
   "source": [
    "cond_coverage"
   ]
  },
  {
   "cell_type": "code",
   "execution_count": 55,
   "id": "942895c7",
   "metadata": {
    "execution": {
     "iopub.execute_input": "2025-08-19T19:01:52.295069Z",
     "iopub.status.busy": "2025-08-19T19:01:52.293588Z",
     "iopub.status.idle": "2025-08-19T19:01:52.307347Z",
     "shell.execute_reply": "2025-08-19T19:01:52.305867Z"
    },
    "papermill": {
     "duration": 0.029737,
     "end_time": "2025-08-19T19:01:52.309075",
     "exception": false,
     "start_time": "2025-08-19T19:01:52.279338",
     "status": "completed"
    },
    "tags": []
   },
   "outputs": [],
   "source": [
    "for subgroup, cov in cond_coverage.items():\n",
    "    cp_metrics_df[f\"cov_{subgroup}\"] = cov"
   ]
  },
  {
   "cell_type": "code",
   "execution_count": 56,
   "id": "3970120f",
   "metadata": {
    "execution": {
     "iopub.execute_input": "2025-08-19T19:01:52.340197Z",
     "iopub.status.busy": "2025-08-19T19:01:52.338834Z",
     "iopub.status.idle": "2025-08-19T19:01:52.364338Z",
     "shell.execute_reply": "2025-08-19T19:01:52.363402Z"
    },
    "papermill": {
     "duration": 0.041638,
     "end_time": "2025-08-19T19:01:52.366131",
     "exception": false,
     "start_time": "2025-08-19T19:01:52.324493",
     "status": "completed"
    },
    "tags": []
   },
   "outputs": [
    {
     "data": {
      "text/html": [
       "<div>\n",
       "<style scoped>\n",
       "    .dataframe tbody tr th:only-of-type {\n",
       "        vertical-align: middle;\n",
       "    }\n",
       "\n",
       "    .dataframe tbody tr th {\n",
       "        vertical-align: top;\n",
       "    }\n",
       "\n",
       "    .dataframe thead th {\n",
       "        text-align: right;\n",
       "    }\n",
       "</style>\n",
       "<table border=\"1\" class=\"dataframe\">\n",
       "  <thead>\n",
       "    <tr style=\"text-align: right;\">\n",
       "      <th></th>\n",
       "      <th>universe_id</th>\n",
       "      <th>universe_training_year</th>\n",
       "      <th>universe_training_size</th>\n",
       "      <th>universe_scale</th>\n",
       "      <th>universe_model</th>\n",
       "      <th>universe_exclude_features</th>\n",
       "      <th>universe_exclude_subgroups</th>\n",
       "      <th>q_hat</th>\n",
       "      <th>coverage</th>\n",
       "      <th>avg_size</th>\n",
       "      <th>cov_frau1</th>\n",
       "      <th>cov_nongerman</th>\n",
       "      <th>cov_nongerman_male</th>\n",
       "      <th>cov_nongerman_female</th>\n",
       "    </tr>\n",
       "  </thead>\n",
       "  <tbody>\n",
       "    <tr>\n",
       "      <th>0</th>\n",
       "      <td>fe3e78a18593fee1a7aac8086fc4c3b5</td>\n",
       "      <td>2012_14</td>\n",
       "      <td>1k</td>\n",
       "      <td>do-not-scale</td>\n",
       "      <td>penalized_logreg</td>\n",
       "      <td>sex</td>\n",
       "      <td>drop-non-german</td>\n",
       "      <td>0.690627</td>\n",
       "      <td>0.911426</td>\n",
       "      <td>1.214346</td>\n",
       "      <td>0.910096</td>\n",
       "      <td>0.934654</td>\n",
       "      <td>0.946411</td>\n",
       "      <td>0.915201</td>\n",
       "    </tr>\n",
       "  </tbody>\n",
       "</table>\n",
       "</div>"
      ],
      "text/plain": [
       "                        universe_id universe_training_year  \\\n",
       "0  fe3e78a18593fee1a7aac8086fc4c3b5                2012_14   \n",
       "\n",
       "  universe_training_size universe_scale    universe_model  \\\n",
       "0                     1k   do-not-scale  penalized_logreg   \n",
       "\n",
       "  universe_exclude_features universe_exclude_subgroups     q_hat  coverage  \\\n",
       "0                       sex            drop-non-german  0.690627  0.911426   \n",
       "\n",
       "   avg_size  cov_frau1  cov_nongerman  cov_nongerman_male  \\\n",
       "0  1.214346   0.910096       0.934654            0.946411   \n",
       "\n",
       "   cov_nongerman_female  \n",
       "0              0.915201  "
      ]
     },
     "execution_count": 56,
     "metadata": {},
     "output_type": "execute_result"
    }
   ],
   "source": [
    "cp_metrics_df"
   ]
  },
  {
   "cell_type": "markdown",
   "id": "3fc519cc",
   "metadata": {
    "papermill": {
     "duration": 0.013402,
     "end_time": "2025-08-19T19:01:52.404323",
     "exception": false,
     "start_time": "2025-08-19T19:01:52.390921",
     "status": "completed"
    },
    "tags": []
   },
   "source": [
    "# (Fairness) Metrics"
   ]
  },
  {
   "cell_type": "code",
   "execution_count": 57,
   "id": "a2e5e155",
   "metadata": {
    "execution": {
     "iopub.execute_input": "2025-08-19T19:01:52.431063Z",
     "iopub.status.busy": "2025-08-19T19:01:52.430564Z",
     "iopub.status.idle": "2025-08-19T19:01:52.446956Z",
     "shell.execute_reply": "2025-08-19T19:01:52.445757Z"
    },
    "papermill": {
     "duration": 0.03149,
     "end_time": "2025-08-19T19:01:52.448590",
     "exception": false,
     "start_time": "2025-08-19T19:01:52.417100",
     "status": "completed"
    },
    "tags": []
   },
   "outputs": [],
   "source": [
    "colname_to_bin = \"maxdeutsch1\"\n",
    "majority_value = org_train[colname_to_bin].mode()[0]\n",
    "\n",
    "org_test[\"majmin\"] = np.where(org_test[colname_to_bin] == majority_value, \"majority\", \"minority\")"
   ]
  },
  {
   "cell_type": "code",
   "execution_count": 58,
   "id": "17e3e4d5",
   "metadata": {
    "execution": {
     "iopub.execute_input": "2025-08-19T19:01:52.483047Z",
     "iopub.status.busy": "2025-08-19T19:01:52.481746Z",
     "iopub.status.idle": "2025-08-19T19:01:54.218217Z",
     "shell.execute_reply": "2025-08-19T19:01:54.216692Z"
    },
    "papermill": {
     "duration": 1.754286,
     "end_time": "2025-08-19T19:01:54.221929",
     "exception": false,
     "start_time": "2025-08-19T19:01:52.467643",
     "status": "completed"
    },
    "tags": []
   },
   "outputs": [],
   "source": [
    "example_universe = universe.copy()\n",
    "example_universe[\"cutoff\"] = example_universe[\"cutoff\"][0]\n",
    "example_universe[\"eval_fairness_grouping\"] = example_universe[\"eval_fairness_grouping\"][0]\n",
    "fairness_dict, metric_frame = universe_analysis.compute_metrics(\n",
    "    example_universe,\n",
    "    y_pred_prob=probs_test,\n",
    "    y_test=y_true,\n",
    "    org_test=org_test,\n",
    ")"
   ]
  },
  {
   "cell_type": "markdown",
   "id": "1fb7a0e9",
   "metadata": {
    "papermill": {
     "duration": 0.013105,
     "end_time": "2025-08-19T19:01:54.260685",
     "exception": false,
     "start_time": "2025-08-19T19:01:54.247580",
     "status": "completed"
    },
    "tags": []
   },
   "source": [
    "# Overall"
   ]
  },
  {
   "cell_type": "markdown",
   "id": "be1784b1",
   "metadata": {
    "papermill": {
     "duration": 0.01253,
     "end_time": "2025-08-19T19:01:54.285832",
     "exception": false,
     "start_time": "2025-08-19T19:01:54.273302",
     "status": "completed"
    },
    "tags": []
   },
   "source": [
    "Main fairness target: Equalized Odds. Seems to be a better fit than equal opportunity, since we're not only interested in Y = 1. Seems to be a better fit than demographic parity, since we also care about accuracy, not just equal distribution of preds.\n",
    "\n",
    "Pick column for computation of fairness metrics\n",
    "\n",
    "Performance\n",
    "Overall performance measures, most interesting in relation to the measures split by group below"
   ]
  },
  {
   "cell_type": "code",
   "execution_count": 59,
   "id": "b7672bee",
   "metadata": {
    "execution": {
     "iopub.execute_input": "2025-08-19T19:01:54.314190Z",
     "iopub.status.busy": "2025-08-19T19:01:54.312792Z",
     "iopub.status.idle": "2025-08-19T19:01:54.327668Z",
     "shell.execute_reply": "2025-08-19T19:01:54.326461Z"
    },
    "papermill": {
     "duration": 0.031624,
     "end_time": "2025-08-19T19:01:54.329682",
     "exception": false,
     "start_time": "2025-08-19T19:01:54.298058",
     "status": "completed"
    },
    "tags": []
   },
   "outputs": [
    {
     "data": {
      "text/plain": [
       "accuracy                   0.212763\n",
       "balanced accuracy          0.522668\n",
       "f1                         0.234414\n",
       "precision                  0.133913\n",
       "false positive rate        0.894184\n",
       "false negative rate        0.060480\n",
       "selection rate             0.900000\n",
       "count                  89710.000000\n",
       "dtype: float64"
      ]
     },
     "execution_count": 59,
     "metadata": {},
     "output_type": "execute_result"
    }
   ],
   "source": [
    "metric_frame.overall"
   ]
  },
  {
   "cell_type": "markdown",
   "id": "d93333c9",
   "metadata": {
    "papermill": {
     "duration": 0.012897,
     "end_time": "2025-08-19T19:01:54.359844",
     "exception": false,
     "start_time": "2025-08-19T19:01:54.346947",
     "status": "completed"
    },
    "tags": []
   },
   "source": [
    "By Group"
   ]
  },
  {
   "cell_type": "code",
   "execution_count": 60,
   "id": "52256966",
   "metadata": {
    "execution": {
     "iopub.execute_input": "2025-08-19T19:01:54.388930Z",
     "iopub.status.busy": "2025-08-19T19:01:54.387734Z",
     "iopub.status.idle": "2025-08-19T19:01:54.410629Z",
     "shell.execute_reply": "2025-08-19T19:01:54.409669Z"
    },
    "papermill": {
     "duration": 0.039452,
     "end_time": "2025-08-19T19:01:54.412819",
     "exception": false,
     "start_time": "2025-08-19T19:01:54.373367",
     "status": "completed"
    },
    "tags": []
   },
   "outputs": [
    {
     "data": {
      "text/html": [
       "<div>\n",
       "<style scoped>\n",
       "    .dataframe tbody tr th:only-of-type {\n",
       "        vertical-align: middle;\n",
       "    }\n",
       "\n",
       "    .dataframe tbody tr th {\n",
       "        vertical-align: top;\n",
       "    }\n",
       "\n",
       "    .dataframe thead th {\n",
       "        text-align: right;\n",
       "    }\n",
       "</style>\n",
       "<table border=\"1\" class=\"dataframe\">\n",
       "  <thead>\n",
       "    <tr style=\"text-align: right;\">\n",
       "      <th></th>\n",
       "      <th>accuracy</th>\n",
       "      <th>balanced accuracy</th>\n",
       "      <th>f1</th>\n",
       "      <th>precision</th>\n",
       "      <th>false positive rate</th>\n",
       "      <th>false negative rate</th>\n",
       "      <th>selection rate</th>\n",
       "      <th>count</th>\n",
       "    </tr>\n",
       "    <tr>\n",
       "      <th>majmin</th>\n",
       "      <th></th>\n",
       "      <th></th>\n",
       "      <th></th>\n",
       "      <th></th>\n",
       "      <th></th>\n",
       "      <th></th>\n",
       "      <th></th>\n",
       "      <th></th>\n",
       "    </tr>\n",
       "  </thead>\n",
       "  <tbody>\n",
       "    <tr>\n",
       "      <th>majority</th>\n",
       "      <td>0.231647</td>\n",
       "      <td>0.527186</td>\n",
       "      <td>0.242132</td>\n",
       "      <td>0.139210</td>\n",
       "      <td>0.874513</td>\n",
       "      <td>0.071116</td>\n",
       "      <td>0.881697</td>\n",
       "      <td>69170.0</td>\n",
       "    </tr>\n",
       "    <tr>\n",
       "      <th>minority</th>\n",
       "      <td>0.149172</td>\n",
       "      <td>0.510703</td>\n",
       "      <td>0.209946</td>\n",
       "      <td>0.117558</td>\n",
       "      <td>0.959168</td>\n",
       "      <td>0.019426</td>\n",
       "      <td>0.961636</td>\n",
       "      <td>20540.0</td>\n",
       "    </tr>\n",
       "  </tbody>\n",
       "</table>\n",
       "</div>"
      ],
      "text/plain": [
       "          accuracy  balanced accuracy        f1  precision  \\\n",
       "majmin                                                       \n",
       "majority  0.231647           0.527186  0.242132   0.139210   \n",
       "minority  0.149172           0.510703  0.209946   0.117558   \n",
       "\n",
       "          false positive rate  false negative rate  selection rate    count  \n",
       "majmin                                                                       \n",
       "majority             0.874513             0.071116        0.881697  69170.0  \n",
       "minority             0.959168             0.019426        0.961636  20540.0  "
      ]
     },
     "execution_count": 60,
     "metadata": {},
     "output_type": "execute_result"
    }
   ],
   "source": [
    "metric_frame.by_group"
   ]
  },
  {
   "cell_type": "code",
   "execution_count": 61,
   "id": "6e6c20ae",
   "metadata": {
    "execution": {
     "iopub.execute_input": "2025-08-19T19:01:54.447829Z",
     "iopub.status.busy": "2025-08-19T19:01:54.446679Z",
     "iopub.status.idle": "2025-08-19T19:01:56.267394Z",
     "shell.execute_reply": "2025-08-19T19:01:56.265899Z"
    },
    "papermill": {
     "duration": 1.83642,
     "end_time": "2025-08-19T19:01:56.268756",
     "exception": false,
     "start_time": "2025-08-19T19:01:54.432336",
     "status": "completed"
    },
    "tags": []
   },
   "outputs": [
    {
     "data": {
      "text/plain": [
       "array([[<Axes: title={'center': 'accuracy'}, xlabel='majmin'>,\n",
       "        <Axes: title={'center': 'balanced accuracy'}, xlabel='majmin'>,\n",
       "        <Axes: title={'center': 'f1'}, xlabel='majmin'>],\n",
       "       [<Axes: title={'center': 'precision'}, xlabel='majmin'>,\n",
       "        <Axes: title={'center': 'false positive rate'}, xlabel='majmin'>,\n",
       "        <Axes: title={'center': 'false negative rate'}, xlabel='majmin'>],\n",
       "       [<Axes: title={'center': 'selection rate'}, xlabel='majmin'>,\n",
       "        <Axes: title={'center': 'count'}, xlabel='majmin'>,\n",
       "        <Axes: xlabel='majmin'>]], dtype=object)"
      ]
     },
     "execution_count": 61,
     "metadata": {},
     "output_type": "execute_result"
    },
    {
     "data": {
      "image/png": "[encoded data removed]",
      "text/plain": [
       "<Figure size 1200x800 with 9 Axes>"
      ]
     },
     "metadata": {},
     "output_type": "display_data"
    }
   ],
   "source": [
    "# In a graphic\n",
    "metric_frame.by_group.plot.bar(\n",
    "    subplots=True,\n",
    "    layout=[3, 3],\n",
    "    legend=False,\n",
    "    figsize=[12, 8],\n",
    "    title=\"Show all metrics\",\n",
    ")"
   ]
  },
  {
   "cell_type": "markdown",
   "id": "b2e433ae",
   "metadata": {
    "papermill": {
     "duration": 0.014338,
     "end_time": "2025-08-19T19:01:56.298170",
     "exception": false,
     "start_time": "2025-08-19T19:01:56.283832",
     "status": "completed"
    },
    "tags": []
   },
   "source": [
    "# Final Output"
   ]
  },
  {
   "cell_type": "code",
   "execution_count": 62,
   "id": "3871301e",
   "metadata": {
    "execution": {
     "iopub.execute_input": "2025-08-19T19:01:56.331311Z",
     "iopub.status.busy": "2025-08-19T19:01:56.328550Z",
     "iopub.status.idle": "2025-08-19T19:01:56.347931Z",
     "shell.execute_reply": "2025-08-19T19:01:56.346874Z"
    },
    "papermill": {
     "duration": 0.037726,
     "end_time": "2025-08-19T19:01:56.349621",
     "exception": false,
     "start_time": "2025-08-19T19:01:56.311895",
     "status": "completed"
    },
    "tags": []
   },
   "outputs": [
    {
     "data": {
      "text/plain": [
       "4"
      ]
     },
     "execution_count": 62,
     "metadata": {},
     "output_type": "execute_result"
    }
   ],
   "source": [
    "sub_universes = universe_analysis.generate_sub_universes()\n",
    "len(sub_universes)"
   ]
  },
  {
   "cell_type": "code",
   "execution_count": 63,
   "id": "d9cfdaca",
   "metadata": {
    "execution": {
     "iopub.execute_input": "2025-08-19T19:01:56.381650Z",
     "iopub.status.busy": "2025-08-19T19:01:56.380097Z",
     "iopub.status.idle": "2025-08-19T19:01:56.389544Z",
     "shell.execute_reply": "2025-08-19T19:01:56.388278Z"
    },
    "papermill": {
     "duration": 0.026368,
     "end_time": "2025-08-19T19:01:56.391036",
     "exception": false,
     "start_time": "2025-08-19T19:01:56.364668",
     "status": "completed"
    },
    "tags": []
   },
   "outputs": [],
   "source": [
    "def filter_sub_universe_data(sub_universe, org_test):\n",
    "    # Keep all rows — no filtering\n",
    "    keep_rows_mask = np.ones(org_test.shape[0], dtype=bool)\n",
    "\n",
    "    print(f\"[INFO] Keeping all rows: {keep_rows_mask.sum()} rows retained.\")\n",
    "    return keep_rows_mask"
   ]
  },
  {
   "cell_type": "code",
   "execution_count": 64,
   "id": "2bc31ac1",
   "metadata": {
    "execution": {
     "iopub.execute_input": "2025-08-19T19:01:56.425208Z",
     "iopub.status.busy": "2025-08-19T19:01:56.424122Z",
     "iopub.status.idle": "2025-08-19T19:02:03.320774Z",
     "shell.execute_reply": "2025-08-19T19:02:03.319741Z"
    },
    "papermill": {
     "duration": 6.914526,
     "end_time": "2025-08-19T19:02:03.322453",
     "exception": false,
     "start_time": "2025-08-19T19:01:56.407927",
     "status": "completed"
    },
    "tags": []
   },
   "outputs": [
    {
     "name": "stdout",
     "output_type": "stream",
     "text": [
      "Stopping execution_time clock.\n",
      "[INFO] Keeping all rows: 89710 rows retained.\n"
     ]
    },
    {
     "name": "stdout",
     "output_type": "stream",
     "text": [
      "[INFO] Keeping all rows: 89710 rows retained.\n"
     ]
    },
    {
     "name": "stdout",
     "output_type": "stream",
     "text": [
      "[INFO] Keeping all rows: 89710 rows retained.\n"
     ]
    },
    {
     "name": "stdout",
     "output_type": "stream",
     "text": [
      "[INFO] Keeping all rows: 89710 rows retained.\n"
     ]
    },
    {
     "data": {
      "text/html": [
       "<div>\n",
       "<style scoped>\n",
       "    .dataframe tbody tr th:only-of-type {\n",
       "        vertical-align: middle;\n",
       "    }\n",
       "\n",
       "    .dataframe tbody tr th {\n",
       "        vertical-align: top;\n",
       "    }\n",
       "\n",
       "    .dataframe thead th {\n",
       "        text-align: right;\n",
       "    }\n",
       "</style>\n",
       "<table border=\"1\" class=\"dataframe\">\n",
       "  <thead>\n",
       "    <tr style=\"text-align: right;\">\n",
       "      <th></th>\n",
       "      <th>run_no</th>\n",
       "      <th>universe_id</th>\n",
       "      <th>universe_settings</th>\n",
       "      <th>execution_time</th>\n",
       "      <th>test_size_n</th>\n",
       "      <th>test_size_frac</th>\n",
       "      <th>fair_main_equalized_odds_difference</th>\n",
       "      <th>fair_main_equalized_odds_ratio</th>\n",
       "      <th>fair_main_demographic_parity_difference</th>\n",
       "      <th>fair_main_demographic_parity_ratio</th>\n",
       "      <th>...</th>\n",
       "      <th>perf_grp_precision_0</th>\n",
       "      <th>perf_grp_precision_1</th>\n",
       "      <th>perf_grp_false positive rate_0</th>\n",
       "      <th>perf_grp_false positive rate_1</th>\n",
       "      <th>perf_grp_false negative rate_0</th>\n",
       "      <th>perf_grp_false negative rate_1</th>\n",
       "      <th>perf_grp_selection rate_0</th>\n",
       "      <th>perf_grp_selection rate_1</th>\n",
       "      <th>perf_grp_count_0</th>\n",
       "      <th>perf_grp_count_1</th>\n",
       "    </tr>\n",
       "  </thead>\n",
       "  <tbody>\n",
       "    <tr>\n",
       "      <th>0</th>\n",
       "      <td>3</td>\n",
       "      <td>fe3e78a18593fee1a7aac8086fc4c3b5</td>\n",
       "      <td>{\"cutoff\": \"quantile_0.1\", \"eval_fairness_grou...</td>\n",
       "      <td>20.679856</td>\n",
       "      <td>89710</td>\n",
       "      <td>1.0</td>\n",
       "      <td>0.084655</td>\n",
       "      <td>0.911741</td>\n",
       "      <td>0.079939</td>\n",
       "      <td>0.916872</td>\n",
       "      <td>...</td>\n",
       "      <td>NaN</td>\n",
       "      <td>NaN</td>\n",
       "      <td>NaN</td>\n",
       "      <td>NaN</td>\n",
       "      <td>NaN</td>\n",
       "      <td>NaN</td>\n",
       "      <td>NaN</td>\n",
       "      <td>NaN</td>\n",
       "      <td>NaN</td>\n",
       "      <td>NaN</td>\n",
       "    </tr>\n",
       "    <tr>\n",
       "      <th>0</th>\n",
       "      <td>3</td>\n",
       "      <td>fe3e78a18593fee1a7aac8086fc4c3b5</td>\n",
       "      <td>{\"cutoff\": \"quantile_0.1\", \"eval_fairness_grou...</td>\n",
       "      <td>20.679856</td>\n",
       "      <td>89710</td>\n",
       "      <td>1.0</td>\n",
       "      <td>0.084655</td>\n",
       "      <td>0.911741</td>\n",
       "      <td>0.079939</td>\n",
       "      <td>0.916872</td>\n",
       "      <td>...</td>\n",
       "      <td>0.117558</td>\n",
       "      <td>0.139210</td>\n",
       "      <td>0.959168</td>\n",
       "      <td>0.874513</td>\n",
       "      <td>0.019426</td>\n",
       "      <td>0.071116</td>\n",
       "      <td>0.961636</td>\n",
       "      <td>0.881697</td>\n",
       "      <td>20540.0</td>\n",
       "      <td>69170.0</td>\n",
       "    </tr>\n",
       "    <tr>\n",
       "      <th>0</th>\n",
       "      <td>3</td>\n",
       "      <td>fe3e78a18593fee1a7aac8086fc4c3b5</td>\n",
       "      <td>{\"cutoff\": \"quantile_0.25\", \"eval_fairness_gro...</td>\n",
       "      <td>20.679856</td>\n",
       "      <td>89710</td>\n",
       "      <td>1.0</td>\n",
       "      <td>0.207922</td>\n",
       "      <td>0.767285</td>\n",
       "      <td>0.192845</td>\n",
       "      <td>0.785415</td>\n",
       "      <td>...</td>\n",
       "      <td>NaN</td>\n",
       "      <td>NaN</td>\n",
       "      <td>NaN</td>\n",
       "      <td>NaN</td>\n",
       "      <td>NaN</td>\n",
       "      <td>NaN</td>\n",
       "      <td>NaN</td>\n",
       "      <td>NaN</td>\n",
       "      <td>NaN</td>\n",
       "      <td>NaN</td>\n",
       "    </tr>\n",
       "    <tr>\n",
       "      <th>0</th>\n",
       "      <td>3</td>\n",
       "      <td>fe3e78a18593fee1a7aac8086fc4c3b5</td>\n",
       "      <td>{\"cutoff\": \"quantile_0.25\", \"eval_fairness_gro...</td>\n",
       "      <td>20.679856</td>\n",
       "      <td>89710</td>\n",
       "      <td>1.0</td>\n",
       "      <td>0.207922</td>\n",
       "      <td>0.767285</td>\n",
       "      <td>0.192845</td>\n",
       "      <td>0.785415</td>\n",
       "      <td>...</td>\n",
       "      <td>0.120429</td>\n",
       "      <td>0.157098</td>\n",
       "      <td>0.893462</td>\n",
       "      <td>0.685541</td>\n",
       "      <td>0.061233</td>\n",
       "      <td>0.160832</td>\n",
       "      <td>0.898685</td>\n",
       "      <td>0.705841</td>\n",
       "      <td>20540.0</td>\n",
       "      <td>69170.0</td>\n",
       "    </tr>\n",
       "  </tbody>\n",
       "</table>\n",
       "<p>4 rows × 50 columns</p>\n",
       "</div>"
      ],
      "text/plain": [
       "  run_no                       universe_id  \\\n",
       "0      3  fe3e78a18593fee1a7aac8086fc4c3b5   \n",
       "0      3  fe3e78a18593fee1a7aac8086fc4c3b5   \n",
       "0      3  fe3e78a18593fee1a7aac8086fc4c3b5   \n",
       "0      3  fe3e78a18593fee1a7aac8086fc4c3b5   \n",
       "\n",
       "                                   universe_settings  execution_time  \\\n",
       "0  {\"cutoff\": \"quantile_0.1\", \"eval_fairness_grou...       20.679856   \n",
       "0  {\"cutoff\": \"quantile_0.1\", \"eval_fairness_grou...       20.679856   \n",
       "0  {\"cutoff\": \"quantile_0.25\", \"eval_fairness_gro...       20.679856   \n",
       "0  {\"cutoff\": \"quantile_0.25\", \"eval_fairness_gro...       20.679856   \n",
       "\n",
       "   test_size_n  test_size_frac  fair_main_equalized_odds_difference  \\\n",
       "0        89710             1.0                             0.084655   \n",
       "0        89710             1.0                             0.084655   \n",
       "0        89710             1.0                             0.207922   \n",
       "0        89710             1.0                             0.207922   \n",
       "\n",
       "   fair_main_equalized_odds_ratio  fair_main_demographic_parity_difference  \\\n",
       "0                        0.911741                                 0.079939   \n",
       "0                        0.911741                                 0.079939   \n",
       "0                        0.767285                                 0.192845   \n",
       "0                        0.767285                                 0.192845   \n",
       "\n",
       "   fair_main_demographic_parity_ratio  ...  perf_grp_precision_0  \\\n",
       "0                            0.916872  ...                   NaN   \n",
       "0                            0.916872  ...              0.117558   \n",
       "0                            0.785415  ...                   NaN   \n",
       "0                            0.785415  ...              0.120429   \n",
       "\n",
       "   perf_grp_precision_1  perf_grp_false positive rate_0  \\\n",
       "0                   NaN                             NaN   \n",
       "0              0.139210                        0.959168   \n",
       "0                   NaN                             NaN   \n",
       "0              0.157098                        0.893462   \n",
       "\n",
       "   perf_grp_false positive rate_1  perf_grp_false negative rate_0  \\\n",
       "0                             NaN                             NaN   \n",
       "0                        0.874513                        0.019426   \n",
       "0                             NaN                             NaN   \n",
       "0                        0.685541                        0.061233   \n",
       "\n",
       "   perf_grp_false negative rate_1  perf_grp_selection rate_0  \\\n",
       "0                             NaN                        NaN   \n",
       "0                        0.071116                   0.961636   \n",
       "0                             NaN                        NaN   \n",
       "0                        0.160832                   0.898685   \n",
       "\n",
       "   perf_grp_selection rate_1  perf_grp_count_0  perf_grp_count_1  \n",
       "0                        NaN               NaN               NaN  \n",
       "0                   0.881697           20540.0           69170.0  \n",
       "0                        NaN               NaN               NaN  \n",
       "0                   0.705841           20540.0           69170.0  \n",
       "\n",
       "[4 rows x 50 columns]"
      ]
     },
     "execution_count": 64,
     "metadata": {},
     "output_type": "execute_result"
    }
   ],
   "source": [
    "final_output = universe_analysis.generate_final_output(\n",
    "    y_pred_prob=probs_test,\n",
    "    y_test=y_true,\n",
    "    org_test=org_test,\n",
    "    filter_data=filter_sub_universe_data,\n",
    "    cp_metrics_df=cp_metrics_df,\n",
    "    save=True,\n",
    ")\n",
    "final_output"
   ]
  },
  {
   "cell_type": "code",
   "execution_count": null,
   "id": "8b80a1ff",
   "metadata": {
    "papermill": {
     "duration": 0.014237,
     "end_time": "2025-08-19T19:02:03.356361",
     "exception": false,
     "start_time": "2025-08-19T19:02:03.342124",
     "status": "completed"
    },
    "tags": []
   },
   "outputs": [],
   "source": []
  },
  {
   "cell_type": "code",
   "execution_count": null,
   "id": "275c9fad",
   "metadata": {
    "papermill": {
     "duration": 0.014235,
     "end_time": "2025-08-19T19:02:03.384856",
     "exception": false,
     "start_time": "2025-08-19T19:02:03.370621",
     "status": "completed"
    },
    "tags": []
   },
   "outputs": [],
   "source": []
  }
 ],
 "metadata": {
  "celltoolbar": "Tags",
  "kernelspec": {
   "display_name": "Python (CMA Fairness)",
   "language": "python",
   "name": "cma_fair_env"
  },
  "language_info": {
   "codemirror_mode": {
    "name": "ipython",
    "version": 3
   },
   "file_extension": ".py",
   "mimetype": "text/x-python",
   "name": "python",
   "nbconvert_exporter": "python",
   "pygments_lexer": "ipython3",
   "version": "3.10.12"
  },
  "papermill": {
   "default_parameters": {},
   "duration": 31.66646,
   "end_time": "2025-08-19T19:02:04.223511",
   "environment_variables": {},
   "exception": null,
   "input_path": "universe_analysis.ipynb",
   "output_path": "output/runs/3/notebooks/m_3-fe3e78a18593fee1a7aac8086fc4c3b5.ipynb",
   "parameters": {
    "output_dir": "output",
    "run_no": "3",
    "seed": "2023",
    "universe": "{\"cutoff\": [\"quantile_0.1\", \"quantile_0.25\"], \"eval_fairness_grouping\": [\"majority-minority\", \"nationality-all\"], \"exclude_features\": \"sex\", \"exclude_subgroups\": \"drop-non-german\", \"model\": \"penalized_logreg\", \"scale\": \"do-not-scale\", \"training_size\": \"1k\", \"training_year\": \"2012_14\"}",
    "universe_id": "fe3e78a18593fee1a7aac8086fc4c3b5"
   },
   "start_time": "2025-08-19T19:01:32.557051",
   "version": "2.6.0"
  }
 },
 "nbformat": 4,
 "nbformat_minor": 5
}