{
 "cells": [
  {
   "cell_type": "markdown",
   "id": "ef23dbb3",
   "metadata": {
    "papermill": {
     "duration": 0.023629,
     "end_time": "2025-08-19T19:00:29.280014",
     "exception": false,
     "start_time": "2025-08-19T19:00:29.256385",
     "status": "completed"
    },
    "tags": []
   },
   "source": [
    "# Setup"
   ]
  },
  {
   "cell_type": "code",
   "execution_count": 1,
   "id": "0bc8e7dc",
   "metadata": {
    "execution": {
     "iopub.execute_input": "2025-08-19T19:00:29.304157Z",
     "iopub.status.busy": "2025-08-19T19:00:29.303709Z",
     "iopub.status.idle": "2025-08-19T19:00:29.316577Z",
     "shell.execute_reply": "2025-08-19T19:00:29.315033Z"
    },
    "papermill": {
     "duration": 0.02521,
     "end_time": "2025-08-19T19:00:29.318207",
     "exception": false,
     "start_time": "2025-08-19T19:00:29.292997",
     "status": "completed"
    },
    "tags": []
   },
   "outputs": [
    {
     "name": "stdout",
     "output_type": "stream",
     "text": [
      "/dss/dsshome1/0C/ra93lal2/cma/CMA_Fairness_v2\n"
     ]
    },
    {
     "name": "stderr",
     "output_type": "stream",
     "text": [
      "/dss/dsshome1/0C/ra93lal2/.local/share/virtualenvs/CMA_Fairness_v2-3j10GkSs/lib/python3.10/site-packages/IPython/core/magics/osm.py:393: UserWarning: This is now an optional IPython functionality, using bookmarks requires you to install the `pickleshare` library.\n",
      "  bkms = self.shell.db.get('bookmarks', {})\n",
      "/dss/dsshome1/0C/ra93lal2/.local/share/virtualenvs/CMA_Fairness_v2-3j10GkSs/lib/python3.10/site-packages/IPython/core/magics/osm.py:417: UserWarning: This is now an optional IPython functionality, setting dhist requires you to install the `pickleshare` library.\n",
      "  self.shell.db['dhist'] = compress_dhist(dhist)[-100:]\n"
     ]
    }
   ],
   "source": [
    "%cd ~/cma/CMA_Fairness_v2"
   ]
  },
  {
   "cell_type": "markdown",
   "id": "9d235661",
   "metadata": {
    "papermill": {
     "duration": 0.009625,
     "end_time": "2025-08-19T19:00:29.340184",
     "exception": false,
     "start_time": "2025-08-19T19:00:29.330559",
     "status": "completed"
    },
    "tags": []
   },
   "source": [
    "The following cell holds the definition of our parameters, these values can be overriden by rendering the with e.g. the following command:\n",
    "\n",
    "papermill -p alpha 0.2 -p ratio 0.3 universe_analysis.ipynb output/test_run.ipynb"
   ]
  },
  {
   "cell_type": "code",
   "execution_count": 2,
   "id": "4a789d8e",
   "metadata": {
    "execution": {
     "iopub.execute_input": "2025-08-19T19:00:29.359783Z",
     "iopub.status.busy": "2025-08-19T19:00:29.359358Z",
     "iopub.status.idle": "2025-08-19T19:00:29.365679Z",
     "shell.execute_reply": "2025-08-19T19:00:29.364447Z"
    },
    "papermill": {
     "duration": 0.018131,
     "end_time": "2025-08-19T19:00:29.367279",
     "exception": false,
     "start_time": "2025-08-19T19:00:29.349148",
     "status": "completed"
    },
    "tags": []
   },
   "outputs": [
    {
     "name": "stdout",
     "output_type": "stream",
     "text": [
      "Current working directory: /dss/dsshome1/0C/ra93lal2/cma/CMA_Fairness_v2\n"
     ]
    }
   ],
   "source": [
    "import os\n",
    "print(\"Current working directory:\", os.getcwd())"
   ]
  },
  {
   "cell_type": "code",
   "execution_count": 3,
   "id": "4132aaed",
   "metadata": {
    "execution": {
     "iopub.execute_input": "2025-08-19T19:00:29.387352Z",
     "iopub.status.busy": "2025-08-19T19:00:29.386920Z",
     "iopub.status.idle": "2025-08-19T19:00:29.392521Z",
     "shell.execute_reply": "2025-08-19T19:00:29.391563Z"
    },
    "papermill": {
     "duration": 0.017321,
     "end_time": "2025-08-19T19:00:29.393896",
     "exception": false,
     "start_time": "2025-08-19T19:00:29.376575",
     "status": "completed"
    },
    "tags": [
     "parameters"
    ]
   },
   "outputs": [],
   "source": [
    "run_no = 0\n",
    "universe_id = \"test\"\n",
    "universe = {\n",
    "    \"training_size\": \"5k\", # \"25k\", \"5k\", \"1k\"\n",
    "    \"training_year\": \"2012_14\", # \"2014\", \"2012_14\", \"2010_14\"\n",
    "    \"scale\": \"scale\", # \"scale\", \"do-not-scale\",\n",
    "    \"model\": \"elasticnet\", # \"logreg\", \"penalized_logreg\", \"rf\", \"gbm\", \"elasticnet\"\n",
    "    \"cutoff\": [\"quantile_0.15\", \"quantile_0.30\"],\n",
    "    \"exclude_features\": \"age\", # \"none\", \"nationality\", \"sex\", \"nationality-sex\", \"age\"\n",
    "    \"exclude_subgroups\": \"drop-non-german\", # \"keep-all\", \"drop-non-german\"\n",
    "    \"eval_fairness_grouping\": [\"majority-minority\", \"nationality-all\"]\n",
    "}\n",
    "\n",
    "output_dir=\"./output\"\n",
    "seed=0"
   ]
  },
  {
   "cell_type": "code",
   "execution_count": 4,
   "id": "566d6495",
   "metadata": {
    "execution": {
     "iopub.execute_input": "2025-08-19T19:00:29.441721Z",
     "iopub.status.busy": "2025-08-19T19:00:29.440567Z",
     "iopub.status.idle": "2025-08-19T19:00:29.450737Z",
     "shell.execute_reply": "2025-08-19T19:00:29.449102Z"
    },
    "papermill": {
     "duration": 0.031146,
     "end_time": "2025-08-19T19:00:29.457921",
     "exception": false,
     "start_time": "2025-08-19T19:00:29.426775",
     "status": "completed"
    },
    "tags": [
     "injected-parameters"
    ]
   },
   "outputs": [],
   "source": [
    "# Parameters\n",
    "universe_id = \"38d8290d25c55e71c1f18e515b409ce6\"\n",
    "run_no = \"3\"\n",
    "universe = \"{\\\"cutoff\\\": [\\\"quantile_0.1\\\", \\\"quantile_0.25\\\"], \\\"eval_fairness_grouping\\\": [\\\"majority-minority\\\", \\\"nationality-all\\\"], \\\"exclude_features\\\": \\\"none\\\", \\\"exclude_subgroups\\\": \\\"drop-non-german\\\", \\\"model\\\": \\\"logreg\\\", \\\"scale\\\": \\\"do-not-scale\\\", \\\"training_size\\\": \\\"1k\\\", \\\"training_year\\\": \\\"2012_14\\\"}\"\n",
    "output_dir = \"output\"\n",
    "seed = \"2023\"\n"
   ]
  },
  {
   "cell_type": "code",
   "execution_count": 5,
   "id": "a5d7941f",
   "metadata": {
    "execution": {
     "iopub.execute_input": "2025-08-19T19:00:29.502451Z",
     "iopub.status.busy": "2025-08-19T19:00:29.502016Z",
     "iopub.status.idle": "2025-08-19T19:00:29.507339Z",
     "shell.execute_reply": "2025-08-19T19:00:29.506319Z"
    },
    "papermill": {
     "duration": 0.027351,
     "end_time": "2025-08-19T19:00:29.508983",
     "exception": false,
     "start_time": "2025-08-19T19:00:29.481632",
     "status": "completed"
    },
    "tags": []
   },
   "outputs": [],
   "source": [
    "import json\n",
    "if isinstance(universe, str):\n",
    "    universe = json.loads(universe)"
   ]
  },
  {
   "cell_type": "code",
   "execution_count": 6,
   "id": "7076ccb1",
   "metadata": {
    "execution": {
     "iopub.execute_input": "2025-08-19T19:00:29.536756Z",
     "iopub.status.busy": "2025-08-19T19:00:29.536410Z",
     "iopub.status.idle": "2025-08-19T19:00:29.572465Z",
     "shell.execute_reply": "2025-08-19T19:00:29.571570Z"
    },
    "papermill": {
     "duration": 0.049721,
     "end_time": "2025-08-19T19:00:29.574554",
     "exception": false,
     "start_time": "2025-08-19T19:00:29.524833",
     "status": "completed"
    },
    "tags": []
   },
   "outputs": [],
   "source": [
    "# Auto-reload the custom package\n",
    "%load_ext autoreload\n",
    "%autoreload 1\n",
    "%aimport fairness_multiverse"
   ]
  },
  {
   "cell_type": "code",
   "execution_count": 7,
   "id": "94c8eb93",
   "metadata": {
    "execution": {
     "iopub.execute_input": "2025-08-19T19:00:29.598223Z",
     "iopub.status.busy": "2025-08-19T19:00:29.597418Z",
     "iopub.status.idle": "2025-08-19T19:00:31.246512Z",
     "shell.execute_reply": "2025-08-19T19:00:31.245614Z"
    },
    "papermill": {
     "duration": 1.663944,
     "end_time": "2025-08-19T19:00:31.251063",
     "exception": false,
     "start_time": "2025-08-19T19:00:29.587119",
     "status": "completed"
    },
    "tags": []
   },
   "outputs": [],
   "source": [
    "from fairness_multiverse.universe import UniverseAnalysis\n",
    "\n",
    "universe_analysis = UniverseAnalysis(\n",
    "    run_no = run_no,\n",
    "    universe_id = universe_id,\n",
    "    universe = universe,\n",
    "    output_dir=output_dir,\n",
    ")"
   ]
  },
  {
   "cell_type": "code",
   "execution_count": 8,
   "id": "2a6381cf",
   "metadata": {
    "execution": {
     "iopub.execute_input": "2025-08-19T19:00:31.291520Z",
     "iopub.status.busy": "2025-08-19T19:00:31.290757Z",
     "iopub.status.idle": "2025-08-19T19:00:31.301451Z",
     "shell.execute_reply": "2025-08-19T19:00:31.300009Z"
    },
    "papermill": {
     "duration": 0.02789,
     "end_time": "2025-08-19T19:00:31.303094",
     "exception": false,
     "start_time": "2025-08-19T19:00:31.275204",
     "status": "completed"
    },
    "tags": []
   },
   "outputs": [
    {
     "name": "stdout",
     "output_type": "stream",
     "text": [
      "Using Seed: 2023\n"
     ]
    }
   ],
   "source": [
    "import numpy as np\n",
    "parsed_seed = int(seed)\n",
    "np.random.seed(parsed_seed)\n",
    "print(f\"Using Seed: {parsed_seed}\")"
   ]
  },
  {
   "cell_type": "markdown",
   "id": "b6e958b4",
   "metadata": {
    "papermill": {
     "duration": 0.020347,
     "end_time": "2025-08-19T19:00:31.336810",
     "exception": false,
     "start_time": "2025-08-19T19:00:31.316463",
     "status": "completed"
    },
    "tags": []
   },
   "source": [
    "# Loading Data"
   ]
  },
  {
   "cell_type": "code",
   "execution_count": 9,
   "id": "98701482",
   "metadata": {
    "execution": {
     "iopub.execute_input": "2025-08-19T19:00:31.379684Z",
     "iopub.status.busy": "2025-08-19T19:00:31.379371Z",
     "iopub.status.idle": "2025-08-19T19:00:41.411844Z",
     "shell.execute_reply": "2025-08-19T19:00:41.410920Z"
    },
    "papermill": {
     "duration": 10.04745,
     "end_time": "2025-08-19T19:00:41.413237",
     "exception": false,
     "start_time": "2025-08-19T19:00:31.365787",
     "status": "completed"
    },
    "tags": []
   },
   "outputs": [
    {
     "name": "stdout",
     "output_type": "stream",
     "text": [
      "Loading SIAB data from cache: data/siab_cached.csv.gz\n"
     ]
    },
    {
     "name": "stdout",
     "output_type": "stream",
     "text": [
      "(643690, 164)\n"
     ]
    }
   ],
   "source": [
    "from pathlib import Path\n",
    "import pandas as pd\n",
    "\n",
    "# File paths\n",
    "raw_file = Path(\"data/raw/siab.csv\")\n",
    "cache_file = Path(\"data/siab_cached.csv.gz\")\n",
    "\n",
    "# Ensure cache directory exists\n",
    "cache_file.parent.mkdir(parents=True, exist_ok=True)\n",
    "\n",
    "# Load with simple caching\n",
    "if cache_file.exists():\n",
    "    print(f\"Loading SIAB data from cache: {cache_file}\")\n",
    "    siab = pd.read_csv(cache_file, compression='gzip')\n",
    "else:\n",
    "    print(f\"Cache not found. Reading raw SIAB data: {raw_file}\")\n",
    "    siab = pd.read_csv(raw_file)\n",
    "    siab.to_csv(cache_file, index=False, compression='gzip')\n",
    "    print(f\"Cached SIAB data to: {cache_file}\")\n",
    "\n",
    "print(siab.shape)"
   ]
  },
  {
   "cell_type": "code",
   "execution_count": 10,
   "id": "058d2abb",
   "metadata": {
    "execution": {
     "iopub.execute_input": "2025-08-19T19:00:41.436111Z",
     "iopub.status.busy": "2025-08-19T19:00:41.435686Z",
     "iopub.status.idle": "2025-08-19T19:00:41.570074Z",
     "shell.execute_reply": "2025-08-19T19:00:41.568870Z"
    },
    "papermill": {
     "duration": 0.146791,
     "end_time": "2025-08-19T19:00:41.572139",
     "exception": false,
     "start_time": "2025-08-19T19:00:41.425348",
     "status": "completed"
    },
    "tags": []
   },
   "outputs": [
    {
     "data": {
      "text/html": [
       "<div>\n",
       "<style scoped>\n",
       "    .dataframe tbody tr th:only-of-type {\n",
       "        vertical-align: middle;\n",
       "    }\n",
       "\n",
       "    .dataframe tbody tr th {\n",
       "        vertical-align: top;\n",
       "    }\n",
       "\n",
       "    .dataframe thead th {\n",
       "        text-align: right;\n",
       "    }\n",
       "</style>\n",
       "<table border=\"1\" class=\"dataframe\">\n",
       "  <thead>\n",
       "    <tr style=\"text-align: right;\">\n",
       "      <th></th>\n",
       "      <th>persnr</th>\n",
       "      <th>year</th>\n",
       "      <th>nrEntry</th>\n",
       "      <th>ltue</th>\n",
       "      <th>employed_before</th>\n",
       "      <th>receipt_leh_before</th>\n",
       "      <th>receipt_lhg_before</th>\n",
       "      <th>se_before</th>\n",
       "      <th>ASU_notue_seeking_before</th>\n",
       "      <th>ASU_other_before</th>\n",
       "      <th>...</th>\n",
       "      <th>minijob_tot_dur_byage</th>\n",
       "      <th>ft_tot_dur_byage</th>\n",
       "      <th>befrist_tot_dur_byage</th>\n",
       "      <th>leih_tot_dur_byage</th>\n",
       "      <th>LHG_tot_dur_byage</th>\n",
       "      <th>LEH_tot_dur_byage</th>\n",
       "      <th>almp_tot_dur_byage</th>\n",
       "      <th>almp_aw_tot_dur_byage</th>\n",
       "      <th>se_tot_dur_byage</th>\n",
       "      <th>seeking1_tot_dur_byage</th>\n",
       "    </tr>\n",
       "  </thead>\n",
       "  <tbody>\n",
       "    <tr>\n",
       "      <th>0</th>\n",
       "      <td>7</td>\n",
       "      <td>2015</td>\n",
       "      <td>1</td>\n",
       "      <td>0</td>\n",
       "      <td>1</td>\n",
       "      <td>0</td>\n",
       "      <td>0</td>\n",
       "      <td>0</td>\n",
       "      <td>1</td>\n",
       "      <td>0</td>\n",
       "      <td>...</td>\n",
       "      <td>0.000000</td>\n",
       "      <td>0.000000</td>\n",
       "      <td>15.043478</td>\n",
       "      <td>0.000000</td>\n",
       "      <td>0.000000</td>\n",
       "      <td>0.000000</td>\n",
       "      <td>0.000000</td>\n",
       "      <td>0.000000</td>\n",
       "      <td>0.000000</td>\n",
       "      <td>0.000000</td>\n",
       "    </tr>\n",
       "    <tr>\n",
       "      <th>1</th>\n",
       "      <td>18</td>\n",
       "      <td>2010</td>\n",
       "      <td>1</td>\n",
       "      <td>1</td>\n",
       "      <td>0</td>\n",
       "      <td>0</td>\n",
       "      <td>0</td>\n",
       "      <td>0</td>\n",
       "      <td>0</td>\n",
       "      <td>0</td>\n",
       "      <td>...</td>\n",
       "      <td>0.000000</td>\n",
       "      <td>0.000000</td>\n",
       "      <td>0.000000</td>\n",
       "      <td>0.000000</td>\n",
       "      <td>0.000000</td>\n",
       "      <td>0.000000</td>\n",
       "      <td>0.000000</td>\n",
       "      <td>0.000000</td>\n",
       "      <td>0.000000</td>\n",
       "      <td>0.000000</td>\n",
       "    </tr>\n",
       "    <tr>\n",
       "      <th>2</th>\n",
       "      <td>18</td>\n",
       "      <td>2011</td>\n",
       "      <td>2</td>\n",
       "      <td>0</td>\n",
       "      <td>1</td>\n",
       "      <td>0</td>\n",
       "      <td>1</td>\n",
       "      <td>0</td>\n",
       "      <td>1</td>\n",
       "      <td>0</td>\n",
       "      <td>...</td>\n",
       "      <td>2.714286</td>\n",
       "      <td>2.714286</td>\n",
       "      <td>0.000000</td>\n",
       "      <td>0.000000</td>\n",
       "      <td>10.775510</td>\n",
       "      <td>0.000000</td>\n",
       "      <td>8.367347</td>\n",
       "      <td>0.000000</td>\n",
       "      <td>0.000000</td>\n",
       "      <td>9.836735</td>\n",
       "    </tr>\n",
       "    <tr>\n",
       "      <th>3</th>\n",
       "      <td>18</td>\n",
       "      <td>2012</td>\n",
       "      <td>3</td>\n",
       "      <td>0</td>\n",
       "      <td>1</td>\n",
       "      <td>0</td>\n",
       "      <td>1</td>\n",
       "      <td>0</td>\n",
       "      <td>1</td>\n",
       "      <td>0</td>\n",
       "      <td>...</td>\n",
       "      <td>4.200000</td>\n",
       "      <td>4.200000</td>\n",
       "      <td>0.000000</td>\n",
       "      <td>0.000000</td>\n",
       "      <td>12.100000</td>\n",
       "      <td>0.000000</td>\n",
       "      <td>9.400000</td>\n",
       "      <td>0.000000</td>\n",
       "      <td>0.000000</td>\n",
       "      <td>9.960000</td>\n",
       "    </tr>\n",
       "    <tr>\n",
       "      <th>4</th>\n",
       "      <td>18</td>\n",
       "      <td>2012</td>\n",
       "      <td>4</td>\n",
       "      <td>0</td>\n",
       "      <td>1</td>\n",
       "      <td>0</td>\n",
       "      <td>1</td>\n",
       "      <td>0</td>\n",
       "      <td>1</td>\n",
       "      <td>0</td>\n",
       "      <td>...</td>\n",
       "      <td>5.460000</td>\n",
       "      <td>5.460000</td>\n",
       "      <td>0.000000</td>\n",
       "      <td>0.000000</td>\n",
       "      <td>13.360000</td>\n",
       "      <td>0.000000</td>\n",
       "      <td>10.320000</td>\n",
       "      <td>0.000000</td>\n",
       "      <td>0.000000</td>\n",
       "      <td>10.280000</td>\n",
       "    </tr>\n",
       "    <tr>\n",
       "      <th>...</th>\n",
       "      <td>...</td>\n",
       "      <td>...</td>\n",
       "      <td>...</td>\n",
       "      <td>...</td>\n",
       "      <td>...</td>\n",
       "      <td>...</td>\n",
       "      <td>...</td>\n",
       "      <td>...</td>\n",
       "      <td>...</td>\n",
       "      <td>...</td>\n",
       "      <td>...</td>\n",
       "      <td>...</td>\n",
       "      <td>...</td>\n",
       "      <td>...</td>\n",
       "      <td>...</td>\n",
       "      <td>...</td>\n",
       "      <td>...</td>\n",
       "      <td>...</td>\n",
       "      <td>...</td>\n",
       "      <td>...</td>\n",
       "      <td>...</td>\n",
       "    </tr>\n",
       "    <tr>\n",
       "      <th>643685</th>\n",
       "      <td>1827860</td>\n",
       "      <td>2013</td>\n",
       "      <td>1</td>\n",
       "      <td>0</td>\n",
       "      <td>0</td>\n",
       "      <td>0</td>\n",
       "      <td>1</td>\n",
       "      <td>0</td>\n",
       "      <td>0</td>\n",
       "      <td>1</td>\n",
       "      <td>...</td>\n",
       "      <td>0.000000</td>\n",
       "      <td>0.000000</td>\n",
       "      <td>0.000000</td>\n",
       "      <td>0.000000</td>\n",
       "      <td>0.612903</td>\n",
       "      <td>0.000000</td>\n",
       "      <td>0.000000</td>\n",
       "      <td>0.000000</td>\n",
       "      <td>0.000000</td>\n",
       "      <td>0.000000</td>\n",
       "    </tr>\n",
       "    <tr>\n",
       "      <th>643686</th>\n",
       "      <td>1827860</td>\n",
       "      <td>2015</td>\n",
       "      <td>2</td>\n",
       "      <td>1</td>\n",
       "      <td>0</td>\n",
       "      <td>0</td>\n",
       "      <td>1</td>\n",
       "      <td>0</td>\n",
       "      <td>1</td>\n",
       "      <td>0</td>\n",
       "      <td>...</td>\n",
       "      <td>0.000000</td>\n",
       "      <td>0.000000</td>\n",
       "      <td>0.212121</td>\n",
       "      <td>0.212121</td>\n",
       "      <td>17.363636</td>\n",
       "      <td>0.000000</td>\n",
       "      <td>8.909091</td>\n",
       "      <td>0.000000</td>\n",
       "      <td>0.000000</td>\n",
       "      <td>7.121212</td>\n",
       "    </tr>\n",
       "    <tr>\n",
       "      <th>643687</th>\n",
       "      <td>1827860</td>\n",
       "      <td>2016</td>\n",
       "      <td>3</td>\n",
       "      <td>1</td>\n",
       "      <td>0</td>\n",
       "      <td>0</td>\n",
       "      <td>1</td>\n",
       "      <td>1</td>\n",
       "      <td>0</td>\n",
       "      <td>1</td>\n",
       "      <td>...</td>\n",
       "      <td>0.000000</td>\n",
       "      <td>0.000000</td>\n",
       "      <td>0.294118</td>\n",
       "      <td>0.205882</td>\n",
       "      <td>34.705882</td>\n",
       "      <td>0.000000</td>\n",
       "      <td>10.352941</td>\n",
       "      <td>1.705882</td>\n",
       "      <td>1.705882</td>\n",
       "      <td>23.911765</td>\n",
       "    </tr>\n",
       "    <tr>\n",
       "      <th>643688</th>\n",
       "      <td>1827869</td>\n",
       "      <td>2013</td>\n",
       "      <td>1</td>\n",
       "      <td>1</td>\n",
       "      <td>1</td>\n",
       "      <td>0</td>\n",
       "      <td>0</td>\n",
       "      <td>0</td>\n",
       "      <td>1</td>\n",
       "      <td>0</td>\n",
       "      <td>...</td>\n",
       "      <td>0.000000</td>\n",
       "      <td>0.000000</td>\n",
       "      <td>0.000000</td>\n",
       "      <td>0.000000</td>\n",
       "      <td>0.000000</td>\n",
       "      <td>0.525424</td>\n",
       "      <td>0.000000</td>\n",
       "      <td>0.000000</td>\n",
       "      <td>0.000000</td>\n",
       "      <td>0.000000</td>\n",
       "    </tr>\n",
       "    <tr>\n",
       "      <th>643689</th>\n",
       "      <td>1827869</td>\n",
       "      <td>2014</td>\n",
       "      <td>2</td>\n",
       "      <td>0</td>\n",
       "      <td>0</td>\n",
       "      <td>1</td>\n",
       "      <td>0</td>\n",
       "      <td>0</td>\n",
       "      <td>1</td>\n",
       "      <td>0</td>\n",
       "      <td>...</td>\n",
       "      <td>0.000000</td>\n",
       "      <td>0.666667</td>\n",
       "      <td>0.666667</td>\n",
       "      <td>0.000000</td>\n",
       "      <td>0.000000</td>\n",
       "      <td>8.950000</td>\n",
       "      <td>1.033333</td>\n",
       "      <td>0.083333</td>\n",
       "      <td>0.083333</td>\n",
       "      <td>8.133333</td>\n",
       "    </tr>\n",
       "  </tbody>\n",
       "</table>\n",
       "<p>643690 rows × 164 columns</p>\n",
       "</div>"
      ],
      "text/plain": [
       "         persnr  year  nrEntry  ltue  employed_before  receipt_leh_before  \\\n",
       "0             7  2015        1     0                1                   0   \n",
       "1            18  2010        1     1                0                   0   \n",
       "2            18  2011        2     0                1                   0   \n",
       "3            18  2012        3     0                1                   0   \n",
       "4            18  2012        4     0                1                   0   \n",
       "...         ...   ...      ...   ...              ...                 ...   \n",
       "643685  1827860  2013        1     0                0                   0   \n",
       "643686  1827860  2015        2     1                0                   0   \n",
       "643687  1827860  2016        3     1                0                   0   \n",
       "643688  1827869  2013        1     1                1                   0   \n",
       "643689  1827869  2014        2     0                0                   1   \n",
       "\n",
       "        receipt_lhg_before  se_before  ASU_notue_seeking_before  \\\n",
       "0                        0          0                         1   \n",
       "1                        0          0                         0   \n",
       "2                        1          0                         1   \n",
       "3                        1          0                         1   \n",
       "4                        1          0                         1   \n",
       "...                    ...        ...                       ...   \n",
       "643685                   1          0                         0   \n",
       "643686                   1          0                         1   \n",
       "643687                   1          1                         0   \n",
       "643688                   0          0                         1   \n",
       "643689                   0          0                         1   \n",
       "\n",
       "        ASU_other_before  ...  minijob_tot_dur_byage  ft_tot_dur_byage  \\\n",
       "0                      0  ...               0.000000          0.000000   \n",
       "1                      0  ...               0.000000          0.000000   \n",
       "2                      0  ...               2.714286          2.714286   \n",
       "3                      0  ...               4.200000          4.200000   \n",
       "4                      0  ...               5.460000          5.460000   \n",
       "...                  ...  ...                    ...               ...   \n",
       "643685                 1  ...               0.000000          0.000000   \n",
       "643686                 0  ...               0.000000          0.000000   \n",
       "643687                 1  ...               0.000000          0.000000   \n",
       "643688                 0  ...               0.000000          0.000000   \n",
       "643689                 0  ...               0.000000          0.666667   \n",
       "\n",
       "        befrist_tot_dur_byage  leih_tot_dur_byage  LHG_tot_dur_byage  \\\n",
       "0                   15.043478            0.000000           0.000000   \n",
       "1                    0.000000            0.000000           0.000000   \n",
       "2                    0.000000            0.000000          10.775510   \n",
       "3                    0.000000            0.000000          12.100000   \n",
       "4                    0.000000            0.000000          13.360000   \n",
       "...                       ...                 ...                ...   \n",
       "643685               0.000000            0.000000           0.612903   \n",
       "643686               0.212121            0.212121          17.363636   \n",
       "643687               0.294118            0.205882          34.705882   \n",
       "643688               0.000000            0.000000           0.000000   \n",
       "643689               0.666667            0.000000           0.000000   \n",
       "\n",
       "        LEH_tot_dur_byage  almp_tot_dur_byage  almp_aw_tot_dur_byage  \\\n",
       "0                0.000000            0.000000               0.000000   \n",
       "1                0.000000            0.000000               0.000000   \n",
       "2                0.000000            8.367347               0.000000   \n",
       "3                0.000000            9.400000               0.000000   \n",
       "4                0.000000           10.320000               0.000000   \n",
       "...                   ...                 ...                    ...   \n",
       "643685           0.000000            0.000000               0.000000   \n",
       "643686           0.000000            8.909091               0.000000   \n",
       "643687           0.000000           10.352941               1.705882   \n",
       "643688           0.525424            0.000000               0.000000   \n",
       "643689           8.950000            1.033333               0.083333   \n",
       "\n",
       "        se_tot_dur_byage  seeking1_tot_dur_byage  \n",
       "0               0.000000                0.000000  \n",
       "1               0.000000                0.000000  \n",
       "2               0.000000                9.836735  \n",
       "3               0.000000                9.960000  \n",
       "4               0.000000               10.280000  \n",
       "...                  ...                     ...  \n",
       "643685          0.000000                0.000000  \n",
       "643686          0.000000                7.121212  \n",
       "643687          1.705882               23.911765  \n",
       "643688          0.000000                0.000000  \n",
       "643689          0.083333                8.133333  \n",
       "\n",
       "[643690 rows x 164 columns]"
      ]
     },
     "execution_count": 10,
     "metadata": {},
     "output_type": "execute_result"
    }
   ],
   "source": [
    "siab"
   ]
  },
  {
   "cell_type": "markdown",
   "id": "1f87e805",
   "metadata": {
    "papermill": {
     "duration": 0.015048,
     "end_time": "2025-08-19T19:00:41.602322",
     "exception": false,
     "start_time": "2025-08-19T19:00:41.587274",
     "status": "completed"
    },
    "tags": []
   },
   "source": [
    "# Splitting Data and Setting Training Data Size"
   ]
  },
  {
   "cell_type": "code",
   "execution_count": 11,
   "id": "910ae358",
   "metadata": {
    "execution": {
     "iopub.execute_input": "2025-08-19T19:00:41.623868Z",
     "iopub.status.busy": "2025-08-19T19:00:41.623426Z",
     "iopub.status.idle": "2025-08-19T19:00:42.230500Z",
     "shell.execute_reply": "2025-08-19T19:00:42.229669Z"
    },
    "papermill": {
     "duration": 0.619589,
     "end_time": "2025-08-19T19:00:42.232463",
     "exception": false,
     "start_time": "2025-08-19T19:00:41.612874",
     "status": "completed"
    },
    "tags": []
   },
   "outputs": [],
   "source": [
    "from fairness_multiverse.universe import sample_by_year_size\n",
    "\n",
    "siab_train = sample_by_year_size(siab,\n",
    "                               training_year=universe[\"training_year\"],\n",
    "                               training_size=universe[\"training_size\"])"
   ]
  },
  {
   "cell_type": "code",
   "execution_count": 12,
   "id": "919c8ff5",
   "metadata": {
    "execution": {
     "iopub.execute_input": "2025-08-19T19:00:42.253493Z",
     "iopub.status.busy": "2025-08-19T19:00:42.253115Z",
     "iopub.status.idle": "2025-08-19T19:00:42.258863Z",
     "shell.execute_reply": "2025-08-19T19:00:42.258100Z"
    },
    "papermill": {
     "duration": 0.017788,
     "end_time": "2025-08-19T19:00:42.260306",
     "exception": false,
     "start_time": "2025-08-19T19:00:42.242518",
     "status": "completed"
    },
    "tags": []
   },
   "outputs": [
    {
     "data": {
      "text/plain": [
       "(1000, 164)"
      ]
     },
     "execution_count": 12,
     "metadata": {},
     "output_type": "execute_result"
    }
   ],
   "source": [
    "siab_train.shape"
   ]
  },
  {
   "cell_type": "code",
   "execution_count": 13,
   "id": "feb13bf4",
   "metadata": {
    "execution": {
     "iopub.execute_input": "2025-08-19T19:00:42.280873Z",
     "iopub.status.busy": "2025-08-19T19:00:42.280430Z",
     "iopub.status.idle": "2025-08-19T19:00:42.288095Z",
     "shell.execute_reply": "2025-08-19T19:00:42.287346Z"
    },
    "papermill": {
     "duration": 0.019536,
     "end_time": "2025-08-19T19:00:42.289484",
     "exception": false,
     "start_time": "2025-08-19T19:00:42.269948",
     "status": "completed"
    },
    "tags": []
   },
   "outputs": [
    {
     "data": {
      "text/plain": [
       "year\n",
       "2012    334\n",
       "2013    333\n",
       "2014    333\n",
       "dtype: int64"
      ]
     },
     "metadata": {},
     "output_type": "display_data"
    }
   ],
   "source": [
    "display(siab_train.groupby(\"year\").size())"
   ]
  },
  {
   "cell_type": "code",
   "execution_count": 14,
   "id": "0997782f",
   "metadata": {
    "execution": {
     "iopub.execute_input": "2025-08-19T19:00:42.310732Z",
     "iopub.status.busy": "2025-08-19T19:00:42.310356Z",
     "iopub.status.idle": "2025-08-19T19:00:42.587098Z",
     "shell.execute_reply": "2025-08-19T19:00:42.586124Z"
    },
    "papermill": {
     "duration": 0.289223,
     "end_time": "2025-08-19T19:00:42.588963",
     "exception": false,
     "start_time": "2025-08-19T19:00:42.299740",
     "status": "completed"
    },
    "tags": []
   },
   "outputs": [],
   "source": [
    "#siab_train = siab_s[siab_s.year < 2015]\n",
    "siab_calib = siab[siab.year == 2015]\n",
    "siab_test = siab[siab.year == 2016]"
   ]
  },
  {
   "cell_type": "code",
   "execution_count": 15,
   "id": "2c1e4012",
   "metadata": {
    "execution": {
     "iopub.execute_input": "2025-08-19T19:00:42.615665Z",
     "iopub.status.busy": "2025-08-19T19:00:42.615253Z",
     "iopub.status.idle": "2025-08-19T19:00:42.619651Z",
     "shell.execute_reply": "2025-08-19T19:00:42.618827Z"
    },
    "papermill": {
     "duration": 0.019543,
     "end_time": "2025-08-19T19:00:42.621039",
     "exception": false,
     "start_time": "2025-08-19T19:00:42.601496",
     "status": "completed"
    },
    "tags": []
   },
   "outputs": [],
   "source": [
    "#siab_calib.shape"
   ]
  },
  {
   "cell_type": "code",
   "execution_count": 16,
   "id": "f66b54ca",
   "metadata": {
    "execution": {
     "iopub.execute_input": "2025-08-19T19:00:42.642163Z",
     "iopub.status.busy": "2025-08-19T19:00:42.641782Z",
     "iopub.status.idle": "2025-08-19T19:00:42.650517Z",
     "shell.execute_reply": "2025-08-19T19:00:42.649733Z"
    },
    "papermill": {
     "duration": 0.020901,
     "end_time": "2025-08-19T19:00:42.651958",
     "exception": false,
     "start_time": "2025-08-19T19:00:42.631057",
     "status": "completed"
    },
    "tags": []
   },
   "outputs": [],
   "source": [
    "#siab_test.shape"
   ]
  },
  {
   "cell_type": "code",
   "execution_count": 17,
   "id": "27e4384d",
   "metadata": {
    "execution": {
     "iopub.execute_input": "2025-08-19T19:00:42.673289Z",
     "iopub.status.busy": "2025-08-19T19:00:42.672918Z",
     "iopub.status.idle": "2025-08-19T19:00:42.679163Z",
     "shell.execute_reply": "2025-08-19T19:00:42.678280Z"
    },
    "papermill": {
     "duration": 0.018638,
     "end_time": "2025-08-19T19:00:42.680815",
     "exception": false,
     "start_time": "2025-08-19T19:00:42.662177",
     "status": "completed"
    },
    "tags": []
   },
   "outputs": [],
   "source": [
    "X_train = siab_train.iloc[:,4:164]\n",
    "y_train = siab_train.iloc[:, [3]]"
   ]
  },
  {
   "cell_type": "code",
   "execution_count": 18,
   "id": "08ee8389",
   "metadata": {
    "execution": {
     "iopub.execute_input": "2025-08-19T19:00:42.703208Z",
     "iopub.status.busy": "2025-08-19T19:00:42.702823Z",
     "iopub.status.idle": "2025-08-19T19:00:42.761624Z",
     "shell.execute_reply": "2025-08-19T19:00:42.760749Z"
    },
    "papermill": {
     "duration": 0.070729,
     "end_time": "2025-08-19T19:00:42.762895",
     "exception": false,
     "start_time": "2025-08-19T19:00:42.692166",
     "status": "completed"
    },
    "tags": []
   },
   "outputs": [],
   "source": [
    "X_calib = siab_calib.iloc[:,4:164]\n",
    "y_calib = siab_calib.iloc[:, [3]]"
   ]
  },
  {
   "cell_type": "code",
   "execution_count": 19,
   "id": "b7ff42e0",
   "metadata": {
    "execution": {
     "iopub.execute_input": "2025-08-19T19:00:42.789769Z",
     "iopub.status.busy": "2025-08-19T19:00:42.786375Z",
     "iopub.status.idle": "2025-08-19T19:00:42.858279Z",
     "shell.execute_reply": "2025-08-19T19:00:42.857574Z"
    },
    "papermill": {
     "duration": 0.084684,
     "end_time": "2025-08-19T19:00:42.859851",
     "exception": false,
     "start_time": "2025-08-19T19:00:42.775167",
     "status": "completed"
    },
    "tags": []
   },
   "outputs": [],
   "source": [
    "X_test = siab_test.iloc[:,4:164]\n",
    "y_true = siab_test.iloc[:, [3]]"
   ]
  },
  {
   "cell_type": "code",
   "execution_count": 20,
   "id": "0275101e",
   "metadata": {
    "execution": {
     "iopub.execute_input": "2025-08-19T19:00:42.886943Z",
     "iopub.status.busy": "2025-08-19T19:00:42.886185Z",
     "iopub.status.idle": "2025-08-19T19:00:43.010155Z",
     "shell.execute_reply": "2025-08-19T19:00:43.009487Z"
    },
    "papermill": {
     "duration": 0.136926,
     "end_time": "2025-08-19T19:00:43.011491",
     "exception": false,
     "start_time": "2025-08-19T19:00:42.874565",
     "status": "completed"
    },
    "tags": []
   },
   "outputs": [],
   "source": [
    "# Auxiliary data needed downstream in the pipeline\n",
    "\n",
    "org_train = X_train.copy()\n",
    "org_test = X_test.copy()\n",
    "org_calib = X_calib.copy()"
   ]
  },
  {
   "cell_type": "markdown",
   "id": "b461e618",
   "metadata": {
    "papermill": {
     "duration": 0.010772,
     "end_time": "2025-08-19T19:00:43.033427",
     "exception": false,
     "start_time": "2025-08-19T19:00:43.022655",
     "status": "completed"
    },
    "tags": []
   },
   "source": [
    "# Preprocessing Data"
   ]
  },
  {
   "cell_type": "code",
   "execution_count": 21,
   "id": "78e74c4b",
   "metadata": {
    "execution": {
     "iopub.execute_input": "2025-08-19T19:00:43.061339Z",
     "iopub.status.busy": "2025-08-19T19:00:43.060419Z",
     "iopub.status.idle": "2025-08-19T19:00:43.067395Z",
     "shell.execute_reply": "2025-08-19T19:00:43.066512Z"
    },
    "papermill": {
     "duration": 0.02475,
     "end_time": "2025-08-19T19:00:43.068832",
     "exception": false,
     "start_time": "2025-08-19T19:00:43.044082",
     "status": "completed"
    },
    "tags": []
   },
   "outputs": [],
   "source": [
    "# EXCLUDE PROTECTED FEATURES\n",
    "# --------------------------\n",
    "\n",
    "excluded_features = universe[\"exclude_features\"].split(\"-\")\n",
    "excluded_features_dictionary = {\n",
    "    \"nationality\": [\"maxdeutsch1\", \"maxdeutsch.Missing.\"],\n",
    "    \"sex\": [\"frau1\"],\n",
    "    \"age\": [\"age\"],\n",
    "}"
   ]
  },
  {
   "cell_type": "code",
   "execution_count": 22,
   "id": "f8e63555",
   "metadata": {
    "execution": {
     "iopub.execute_input": "2025-08-19T19:00:43.098599Z",
     "iopub.status.busy": "2025-08-19T19:00:43.097585Z",
     "iopub.status.idle": "2025-08-19T19:00:43.107246Z",
     "shell.execute_reply": "2025-08-19T19:00:43.105691Z"
    },
    "papermill": {
     "duration": 0.024139,
     "end_time": "2025-08-19T19:00:43.108821",
     "exception": false,
     "start_time": "2025-08-19T19:00:43.084682",
     "status": "completed"
    },
    "tags": []
   },
   "outputs": [],
   "source": [
    "excluded_features_columns = [\n",
    "    excluded_features_dictionary[f] for f in excluded_features if len(f) > 0 and f != \"none\"\n",
    "]"
   ]
  },
  {
   "cell_type": "code",
   "execution_count": 23,
   "id": "da781f7c",
   "metadata": {
    "execution": {
     "iopub.execute_input": "2025-08-19T19:00:43.131433Z",
     "iopub.status.busy": "2025-08-19T19:00:43.130914Z",
     "iopub.status.idle": "2025-08-19T19:00:43.136864Z",
     "shell.execute_reply": "2025-08-19T19:00:43.136118Z"
    },
    "papermill": {
     "duration": 0.018382,
     "end_time": "2025-08-19T19:00:43.137965",
     "exception": false,
     "start_time": "2025-08-19T19:00:43.119583",
     "status": "completed"
    },
    "tags": []
   },
   "outputs": [],
   "source": [
    "from fairness_multiverse.universe import flatten_once\n",
    "\n",
    "excluded_features_columns = flatten_once(excluded_features_columns)"
   ]
  },
  {
   "cell_type": "code",
   "execution_count": 24,
   "id": "37fef0f0",
   "metadata": {
    "execution": {
     "iopub.execute_input": "2025-08-19T19:00:43.160765Z",
     "iopub.status.busy": "2025-08-19T19:00:43.159782Z",
     "iopub.status.idle": "2025-08-19T19:00:43.168499Z",
     "shell.execute_reply": "2025-08-19T19:00:43.166928Z"
    },
    "papermill": {
     "duration": 0.021682,
     "end_time": "2025-08-19T19:00:43.170020",
     "exception": false,
     "start_time": "2025-08-19T19:00:43.148338",
     "status": "completed"
    },
    "tags": []
   },
   "outputs": [],
   "source": [
    "if len(excluded_features_columns) > 0:\n",
    "    print(f\"Dropping features: {excluded_features_columns}\")\n",
    "    X_train.drop(excluded_features_columns, axis=1, inplace=True)"
   ]
  },
  {
   "cell_type": "code",
   "execution_count": 25,
   "id": "d029e3e9",
   "metadata": {
    "execution": {
     "iopub.execute_input": "2025-08-19T19:00:43.197391Z",
     "iopub.status.busy": "2025-08-19T19:00:43.195514Z",
     "iopub.status.idle": "2025-08-19T19:00:43.206495Z",
     "shell.execute_reply": "2025-08-19T19:00:43.205220Z"
    },
    "papermill": {
     "duration": 0.024935,
     "end_time": "2025-08-19T19:00:43.208013",
     "exception": false,
     "start_time": "2025-08-19T19:00:43.183078",
     "status": "completed"
    },
    "tags": []
   },
   "outputs": [],
   "source": [
    "if len(excluded_features_columns) > 0:\n",
    "    print(f\"Dropping features: {excluded_features_columns}\")\n",
    "    X_test.drop(excluded_features_columns, axis=1, inplace=True)"
   ]
  },
  {
   "cell_type": "code",
   "execution_count": 26,
   "id": "01d571f0",
   "metadata": {
    "execution": {
     "iopub.execute_input": "2025-08-19T19:00:43.236080Z",
     "iopub.status.busy": "2025-08-19T19:00:43.234756Z",
     "iopub.status.idle": "2025-08-19T19:00:43.244754Z",
     "shell.execute_reply": "2025-08-19T19:00:43.242979Z"
    },
    "papermill": {
     "duration": 0.024734,
     "end_time": "2025-08-19T19:00:43.246248",
     "exception": false,
     "start_time": "2025-08-19T19:00:43.221514",
     "status": "completed"
    },
    "tags": []
   },
   "outputs": [],
   "source": [
    "if len(excluded_features_columns) > 0:\n",
    "    print(f\"Dropping features: {excluded_features_columns}\")\n",
    "    X_calib.drop(excluded_features_columns, axis=1, inplace=True)"
   ]
  },
  {
   "cell_type": "code",
   "execution_count": 27,
   "id": "3037356e",
   "metadata": {
    "execution": {
     "iopub.execute_input": "2025-08-19T19:00:43.279142Z",
     "iopub.status.busy": "2025-08-19T19:00:43.277357Z",
     "iopub.status.idle": "2025-08-19T19:00:43.689297Z",
     "shell.execute_reply": "2025-08-19T19:00:43.688503Z"
    },
    "papermill": {
     "duration": 0.428699,
     "end_time": "2025-08-19T19:00:43.692268",
     "exception": false,
     "start_time": "2025-08-19T19:00:43.263569",
     "status": "completed"
    },
    "tags": []
   },
   "outputs": [],
   "source": [
    "# EXCLUDE CERTAIN SUBGROUPS\n",
    "# -------------------------\n",
    "\n",
    "mode = universe.get(\"exclude_subgroups\", \"keep-all\") # Defaults to \"keep-all\" if the key is missing."
   ]
  },
  {
   "cell_type": "code",
   "execution_count": 28,
   "id": "9d1e63fd",
   "metadata": {
    "execution": {
     "iopub.execute_input": "2025-08-19T19:00:43.730707Z",
     "iopub.status.busy": "2025-08-19T19:00:43.730303Z",
     "iopub.status.idle": "2025-08-19T19:00:43.736169Z",
     "shell.execute_reply": "2025-08-19T19:00:43.735562Z"
    },
    "papermill": {
     "duration": 0.020003,
     "end_time": "2025-08-19T19:00:43.737307",
     "exception": false,
     "start_time": "2025-08-19T19:00:43.717304",
     "status": "completed"
    },
    "tags": []
   },
   "outputs": [],
   "source": [
    "if mode == \"keep-all\":\n",
    "    keep_mask = pd.Series(True, index=org_train.index)\n",
    "\n",
    "elif mode == \"drop-non-german\":\n",
    "    keep_mask = (org_train[\"maxdeutsch1\"] == 1) & (org_train[\"maxdeutsch.Missing.\"] == 0)\n",
    "\n",
    "else:\n",
    "    raise ValueError(f\"Unsupported mode for exclude_subgroups: {mode}\")"
   ]
  },
  {
   "cell_type": "code",
   "execution_count": 29,
   "id": "d3b65474",
   "metadata": {
    "execution": {
     "iopub.execute_input": "2025-08-19T19:00:43.778806Z",
     "iopub.status.busy": "2025-08-19T19:00:43.778385Z",
     "iopub.status.idle": "2025-08-19T19:00:43.785009Z",
     "shell.execute_reply": "2025-08-19T19:00:43.784117Z"
    },
    "papermill": {
     "duration": 0.039539,
     "end_time": "2025-08-19T19:00:43.788217",
     "exception": false,
     "start_time": "2025-08-19T19:00:43.748678",
     "status": "completed"
    },
    "tags": []
   },
   "outputs": [
    {
     "name": "stdout",
     "output_type": "stream",
     "text": [
      "Dropping 147 rows (14.70%) where mode='drop-non-german'\n"
     ]
    }
   ],
   "source": [
    "n_drop = (~keep_mask).sum() # Calculates how many rows are set to be dropped\n",
    "if n_drop > 0:\n",
    "    pct = n_drop / len(keep_mask) * 100\n",
    "    print(f\"Dropping {n_drop} rows ({pct:.2f}%) where mode='{mode}'\")"
   ]
  },
  {
   "cell_type": "code",
   "execution_count": 30,
   "id": "f44389b3",
   "metadata": {
    "execution": {
     "iopub.execute_input": "2025-08-19T19:00:43.810985Z",
     "iopub.status.busy": "2025-08-19T19:00:43.810574Z",
     "iopub.status.idle": "2025-08-19T19:00:43.819599Z",
     "shell.execute_reply": "2025-08-19T19:00:43.818613Z"
    },
    "papermill": {
     "duration": 0.02173,
     "end_time": "2025-08-19T19:00:43.820934",
     "exception": false,
     "start_time": "2025-08-19T19:00:43.799204",
     "status": "completed"
    },
    "tags": []
   },
   "outputs": [],
   "source": [
    "X_train = X_train[keep_mask]"
   ]
  },
  {
   "cell_type": "code",
   "execution_count": 31,
   "id": "ceca8c2a",
   "metadata": {
    "execution": {
     "iopub.execute_input": "2025-08-19T19:00:43.847614Z",
     "iopub.status.busy": "2025-08-19T19:00:43.847120Z",
     "iopub.status.idle": "2025-08-19T19:00:43.852612Z",
     "shell.execute_reply": "2025-08-19T19:00:43.851966Z"
    },
    "papermill": {
     "duration": 0.019345,
     "end_time": "2025-08-19T19:00:43.853858",
     "exception": false,
     "start_time": "2025-08-19T19:00:43.834513",
     "status": "completed"
    },
    "tags": []
   },
   "outputs": [],
   "source": [
    "y_train = y_train[keep_mask]"
   ]
  },
  {
   "cell_type": "markdown",
   "id": "04d31e2f",
   "metadata": {
    "papermill": {
     "duration": 0.011039,
     "end_time": "2025-08-19T19:00:43.877199",
     "exception": false,
     "start_time": "2025-08-19T19:00:43.866160",
     "status": "completed"
    },
    "tags": []
   },
   "source": [
    "# Model Training"
   ]
  },
  {
   "cell_type": "code",
   "execution_count": 32,
   "id": "db991733",
   "metadata": {
    "execution": {
     "iopub.execute_input": "2025-08-19T19:00:43.903213Z",
     "iopub.status.busy": "2025-08-19T19:00:43.902693Z",
     "iopub.status.idle": "2025-08-19T19:00:44.005620Z",
     "shell.execute_reply": "2025-08-19T19:00:44.004855Z"
    },
    "papermill": {
     "duration": 0.117766,
     "end_time": "2025-08-19T19:00:44.007538",
     "exception": false,
     "start_time": "2025-08-19T19:00:43.889772",
     "status": "completed"
    },
    "tags": []
   },
   "outputs": [],
   "source": [
    "from sklearn.linear_model import LogisticRegression\n",
    "from sklearn.ensemble import GradientBoostingClassifier, RandomForestClassifier\n",
    "\n",
    "if (universe[\"model\"] == \"logreg\"):\n",
    "    model = LogisticRegression() #penalty=\"none\", solver=\"newton-cg\", max_iter=1)\n",
    "elif (universe[\"model\"] == \"penalized_logreg\"):\n",
    "    model = LogisticRegression(penalty=\"l2\", C=0.1) #, solver=\"newton-cg\", max_iter=1)\n",
    "elif (universe[\"model\"] == \"rf\"):\n",
    "    model = RandomForestClassifier() # n_estimators=100, n_jobs=-1\n",
    "elif (universe[\"model\"] == \"gbm\"):\n",
    "    model = GradientBoostingClassifier()\n",
    "elif (universe[\"model\"] == \"elasticnet\"):\n",
    "    model = LogisticRegression(penalty = 'elasticnet', solver = 'saga', l1_ratio = 0.5) # max_iter=5000\n",
    "else:\n",
    "    raise \"Unsupported universe.model\""
   ]
  },
  {
   "cell_type": "code",
   "execution_count": 33,
   "id": "a4b5cd25",
   "metadata": {
    "execution": {
     "iopub.execute_input": "2025-08-19T19:00:44.034576Z",
     "iopub.status.busy": "2025-08-19T19:00:44.034205Z",
     "iopub.status.idle": "2025-08-19T19:00:44.038892Z",
     "shell.execute_reply": "2025-08-19T19:00:44.038262Z"
    },
    "papermill": {
     "duration": 0.018349,
     "end_time": "2025-08-19T19:00:44.040379",
     "exception": false,
     "start_time": "2025-08-19T19:00:44.022030",
     "status": "completed"
    },
    "tags": []
   },
   "outputs": [],
   "source": [
    "from sklearn.pipeline import Pipeline\n",
    "from sklearn.preprocessing import StandardScaler\n",
    "\n",
    "model = Pipeline([\n",
    "    #(\"continuous_processor\", continuous_processor),\n",
    "    #(\"categorical_preprocessor\", categorical_preprocessor),\n",
    "    (\"scale\", StandardScaler() if universe[\"scale\"] == \"scale\" else None), \n",
    "    (\"model\", model),\n",
    "])"
   ]
  },
  {
   "cell_type": "code",
   "execution_count": 34,
   "id": "283a904d",
   "metadata": {
    "execution": {
     "iopub.execute_input": "2025-08-19T19:00:44.062747Z",
     "iopub.status.busy": "2025-08-19T19:00:44.062364Z",
     "iopub.status.idle": "2025-08-19T19:00:44.120905Z",
     "shell.execute_reply": "2025-08-19T19:00:44.120281Z"
    },
    "papermill": {
     "duration": 0.071218,
     "end_time": "2025-08-19T19:00:44.122165",
     "exception": false,
     "start_time": "2025-08-19T19:00:44.050947",
     "status": "completed"
    },
    "tags": []
   },
   "outputs": [
    {
     "name": "stderr",
     "output_type": "stream",
     "text": [
      "/dss/dsshome1/0C/ra93lal2/.local/share/virtualenvs/CMA_Fairness_v2-3j10GkSs/lib/python3.10/site-packages/sklearn/linear_model/_logistic.py:444: ConvergenceWarning: lbfgs failed to converge (status=1):\n",
      "STOP: TOTAL NO. of ITERATIONS REACHED LIMIT.\n",
      "\n",
      "Increase the number of iterations (max_iter) or scale the data as shown in:\n",
      "    https://scikit-learn.org/stable/modules/preprocessing.html\n",
      "Please also refer to the documentation for alternative solver options:\n",
      "    https://scikit-learn.org/stable/modules/linear_model.html#logistic-regression\n",
      "  n_iter_i = _check_optimize_result(\n"
     ]
    },
    {
     "data": {
      "text/html": [
       "<style>#sk-container-id-1 {color: black;background-color: white;}#sk-container-id-1 pre{padding: 0;}#sk-container-id-1 div.sk-toggleable {background-color: white;}#sk-container-id-1 label.sk-toggleable__label {cursor: pointer;display: block;width: 100%;margin-bottom: 0;padding: 0.3em;box-sizing: border-box;text-align: center;}#sk-container-id-1 label.sk-toggleable__label-arrow:before {content: \"▸\";float: left;margin-right: 0.25em;color: #696969;}#sk-container-id-1 label.sk-toggleable__label-arrow:hover:before {color: black;}#sk-container-id-1 div.sk-estimator:hover label.sk-toggleable__label-arrow:before {color: black;}#sk-container-id-1 div.sk-toggleable__content {max-height: 0;max-width: 0;overflow: hidden;text-align: left;background-color: #f0f8ff;}#sk-container-id-1 div.sk-toggleable__content pre {margin: 0.2em;color: black;border-radius: 0.25em;background-color: #f0f8ff;}#sk-container-id-1 input.sk-toggleable__control:checked~div.sk-toggleable__content {max-height: 200px;max-width: 100%;overflow: auto;}#sk-container-id-1 input.sk-toggleable__control:checked~label.sk-toggleable__label-arrow:before {content: \"▾\";}#sk-container-id-1 div.sk-estimator input.sk-toggleable__control:checked~label.sk-toggleable__label {background-color: #d4ebff;}#sk-container-id-1 div.sk-label input.sk-toggleable__control:checked~label.sk-toggleable__label {background-color: #d4ebff;}#sk-container-id-1 input.sk-hidden--visually {border: 0;clip: rect(1px 1px 1px 1px);clip: rect(1px, 1px, 1px, 1px);height: 1px;margin: -1px;overflow: hidden;padding: 0;position: absolute;width: 1px;}#sk-container-id-1 div.sk-estimator {font-family: monospace;background-color: #f0f8ff;border: 1px dotted black;border-radius: 0.25em;box-sizing: border-box;margin-bottom: 0.5em;}#sk-container-id-1 div.sk-estimator:hover {background-color: #d4ebff;}#sk-container-id-1 div.sk-parallel-item::after {content: \"\";width: 100%;border-bottom: 1px solid gray;flex-grow: 1;}#sk-container-id-1 div.sk-label:hover label.sk-toggleable__label {background-color: #d4ebff;}#sk-container-id-1 div.sk-serial::before {content: \"\";position: absolute;border-left: 1px solid gray;box-sizing: border-box;top: 0;bottom: 0;left: 50%;z-index: 0;}#sk-container-id-1 div.sk-serial {display: flex;flex-direction: column;align-items: center;background-color: white;padding-right: 0.2em;padding-left: 0.2em;position: relative;}#sk-container-id-1 div.sk-item {position: relative;z-index: 1;}#sk-container-id-1 div.sk-parallel {display: flex;align-items: stretch;justify-content: center;background-color: white;position: relative;}#sk-container-id-1 div.sk-item::before, #sk-container-id-1 div.sk-parallel-item::before {content: \"\";position: absolute;border-left: 1px solid gray;box-sizing: border-box;top: 0;bottom: 0;left: 50%;z-index: -1;}#sk-container-id-1 div.sk-parallel-item {display: flex;flex-direction: column;z-index: 1;position: relative;background-color: white;}#sk-container-id-1 div.sk-parallel-item:first-child::after {align-self: flex-end;width: 50%;}#sk-container-id-1 div.sk-parallel-item:last-child::after {align-self: flex-start;width: 50%;}#sk-container-id-1 div.sk-parallel-item:only-child::after {width: 0;}#sk-container-id-1 div.sk-dashed-wrapped {border: 1px dashed gray;margin: 0 0.4em 0.5em 0.4em;box-sizing: border-box;padding-bottom: 0.4em;background-color: white;}#sk-container-id-1 div.sk-label label {font-family: monospace;font-weight: bold;display: inline-block;line-height: 1.2em;}#sk-container-id-1 div.sk-label-container {text-align: center;}#sk-container-id-1 div.sk-container {/* jupyter's `normalize.less` sets `[hidden] { display: none; }` but bootstrap.min.css set `[hidden] { display: none !important; }` so we also need the `!important` here to be able to override the default hidden behavior on the sphinx rendered scikit-learn.org. See: https://github.com/scikit-learn/scikit-learn/issues/21755 */display: inline-block !important;position: relative;}#sk-container-id-1 div.sk-text-repr-fallback {display: none;}</style><div id=\"sk-container-id-1\" class=\"sk-top-container\"><div class=\"sk-text-repr-fallback\"><pre>Pipeline(steps=[(&#x27;scale&#x27;, None), (&#x27;model&#x27;, LogisticRegression())])</pre><b>In a Jupyter environment, please rerun this cell to show the HTML representation or trust the notebook. <br />On GitHub, the HTML representation is unable to render, please try loading this page with nbviewer.org.</b></div><div class=\"sk-container\" hidden><div class=\"sk-item sk-dashed-wrapped\"><div class=\"sk-label-container\"><div class=\"sk-label sk-toggleable\"><input class=\"sk-toggleable__control sk-hidden--visually\" id=\"sk-estimator-id-1\" type=\"checkbox\" ><label for=\"sk-estimator-id-1\" class=\"sk-toggleable__label sk-toggleable__label-arrow\">Pipeline</label><div class=\"sk-toggleable__content\"><pre>Pipeline(steps=[(&#x27;scale&#x27;, None), (&#x27;model&#x27;, LogisticRegression())])</pre></div></div></div><div class=\"sk-serial\"><div class=\"sk-item\"><div class=\"sk-estimator sk-toggleable\"><input class=\"sk-toggleable__control sk-hidden--visually\" id=\"sk-estimator-id-2\" type=\"checkbox\" ><label for=\"sk-estimator-id-2\" class=\"sk-toggleable__label sk-toggleable__label-arrow\">None</label><div class=\"sk-toggleable__content\"><pre>None</pre></div></div></div><div class=\"sk-item\"><div class=\"sk-estimator sk-toggleable\"><input class=\"sk-toggleable__control sk-hidden--visually\" id=\"sk-estimator-id-3\" type=\"checkbox\" ><label for=\"sk-estimator-id-3\" class=\"sk-toggleable__label sk-toggleable__label-arrow\">LogisticRegression</label><div class=\"sk-toggleable__content\"><pre>LogisticRegression()</pre></div></div></div></div></div></div></div>"
      ],
      "text/plain": [
       "Pipeline(steps=[('scale', None), ('model', LogisticRegression())])"
      ]
     },
     "execution_count": 34,
     "metadata": {},
     "output_type": "execute_result"
    }
   ],
   "source": [
    "model.fit(X_train, y_train.values.ravel())"
   ]
  },
  {
   "cell_type": "code",
   "execution_count": 35,
   "id": "6e15e313",
   "metadata": {
    "execution": {
     "iopub.execute_input": "2025-08-19T19:00:44.152754Z",
     "iopub.status.busy": "2025-08-19T19:00:44.146080Z",
     "iopub.status.idle": "2025-08-19T19:00:44.250977Z",
     "shell.execute_reply": "2025-08-19T19:00:44.250021Z"
    },
    "papermill": {
     "duration": 0.118755,
     "end_time": "2025-08-19T19:00:44.252527",
     "exception": false,
     "start_time": "2025-08-19T19:00:44.133772",
     "status": "completed"
    },
    "tags": []
   },
   "outputs": [
    {
     "data": {
      "text/plain": [
       "0.8597926652547097"
      ]
     },
     "execution_count": 35,
     "metadata": {},
     "output_type": "execute_result"
    }
   ],
   "source": [
    "from fairness_multiverse.universe import predict_w_threshold\n",
    "\n",
    "probs_test = model.predict_proba(X_test)\n",
    "\n",
    "'''\n",
    "Below code returns a boolean array (or binary 0/1 array depending on how it’s used) where each element \n",
    "is True if the probability of class 1 is greater than or equal to the threshold, and False otherwise.\n",
    "'''\n",
    "y_pred_default = predict_w_threshold(probs_test, 0.5)\n",
    "\n",
    "from sklearn.metrics import accuracy_score\n",
    "\n",
    "# Naive prediction\n",
    "accuracy_score(y_true = y_true, y_pred = y_pred_default)"
   ]
  },
  {
   "cell_type": "code",
   "execution_count": 36,
   "id": "6f14067c",
   "metadata": {
    "execution": {
     "iopub.execute_input": "2025-08-19T19:00:44.277574Z",
     "iopub.status.busy": "2025-08-19T19:00:44.277129Z",
     "iopub.status.idle": "2025-08-19T19:00:44.374223Z",
     "shell.execute_reply": "2025-08-19T19:00:44.373153Z"
    },
    "papermill": {
     "duration": 0.111003,
     "end_time": "2025-08-19T19:00:44.375414",
     "exception": false,
     "start_time": "2025-08-19T19:00:44.264411",
     "status": "completed"
    },
    "tags": []
   },
   "outputs": [
    {
     "data": {
      "text/plain": [
       "array([0, 0, 0, ..., 0, 0, 0])"
      ]
     },
     "execution_count": 36,
     "metadata": {},
     "output_type": "execute_result"
    }
   ],
   "source": [
    "model.predict(X_test)"
   ]
  },
  {
   "cell_type": "markdown",
   "id": "3759920c",
   "metadata": {
    "papermill": {
     "duration": 0.010833,
     "end_time": "2025-08-19T19:00:44.398084",
     "exception": false,
     "start_time": "2025-08-19T19:00:44.387251",
     "status": "completed"
    },
    "tags": []
   },
   "source": [
    "# Conformal Prediction"
   ]
  },
  {
   "cell_type": "code",
   "execution_count": 37,
   "id": "14b27f59",
   "metadata": {
    "execution": {
     "iopub.execute_input": "2025-08-19T19:00:44.423632Z",
     "iopub.status.busy": "2025-08-19T19:00:44.422625Z",
     "iopub.status.idle": "2025-08-19T19:00:44.429533Z",
     "shell.execute_reply": "2025-08-19T19:00:44.428258Z"
    },
    "papermill": {
     "duration": 0.021877,
     "end_time": "2025-08-19T19:00:44.431250",
     "exception": false,
     "start_time": "2025-08-19T19:00:44.409373",
     "status": "completed"
    },
    "tags": []
   },
   "outputs": [],
   "source": [
    "# Miscoverage level for conformal prediction (10% allowed error rate => 90% target coverage)\n",
    "alpha = 0.1"
   ]
  },
  {
   "cell_type": "code",
   "execution_count": 38,
   "id": "59102472",
   "metadata": {
    "execution": {
     "iopub.execute_input": "2025-08-19T19:00:44.458733Z",
     "iopub.status.busy": "2025-08-19T19:00:44.457544Z",
     "iopub.status.idle": "2025-08-19T19:00:44.549935Z",
     "shell.execute_reply": "2025-08-19T19:00:44.548771Z"
    },
    "papermill": {
     "duration": 0.108981,
     "end_time": "2025-08-19T19:00:44.553386",
     "exception": false,
     "start_time": "2025-08-19T19:00:44.444405",
     "status": "completed"
    },
    "tags": []
   },
   "outputs": [],
   "source": [
    "probs_calib = model.predict_proba(X_calib)"
   ]
  },
  {
   "cell_type": "code",
   "execution_count": 39,
   "id": "a792d4dd",
   "metadata": {
    "execution": {
     "iopub.execute_input": "2025-08-19T19:00:44.596976Z",
     "iopub.status.busy": "2025-08-19T19:00:44.592882Z",
     "iopub.status.idle": "2025-08-19T19:00:44.611469Z",
     "shell.execute_reply": "2025-08-19T19:00:44.610119Z"
    },
    "papermill": {
     "duration": 0.03575,
     "end_time": "2025-08-19T19:00:44.613957",
     "exception": false,
     "start_time": "2025-08-19T19:00:44.578207",
     "status": "completed"
    },
    "tags": []
   },
   "outputs": [],
   "source": [
    "y_calib = y_calib.values.ravel().astype(int)"
   ]
  },
  {
   "cell_type": "code",
   "execution_count": 40,
   "id": "650fd033",
   "metadata": {
    "execution": {
     "iopub.execute_input": "2025-08-19T19:00:44.645042Z",
     "iopub.status.busy": "2025-08-19T19:00:44.644734Z",
     "iopub.status.idle": "2025-08-19T19:00:44.650713Z",
     "shell.execute_reply": "2025-08-19T19:00:44.650031Z"
    },
    "papermill": {
     "duration": 0.020219,
     "end_time": "2025-08-19T19:00:44.652138",
     "exception": false,
     "start_time": "2025-08-19T19:00:44.631919",
     "status": "completed"
    },
    "tags": []
   },
   "outputs": [],
   "source": [
    "from fairness_multiverse.conformal import compute_nc_scores\n",
    "\n",
    "# Compute nonconformity scores on calibration set (1 - probability of true class)\n",
    "nc_scores = compute_nc_scores(probs_calib, y_calib)"
   ]
  },
  {
   "cell_type": "code",
   "execution_count": 41,
   "id": "28ada44c",
   "metadata": {
    "execution": {
     "iopub.execute_input": "2025-08-19T19:00:44.675560Z",
     "iopub.status.busy": "2025-08-19T19:00:44.675182Z",
     "iopub.status.idle": "2025-08-19T19:00:44.680080Z",
     "shell.execute_reply": "2025-08-19T19:00:44.679362Z"
    },
    "papermill": {
     "duration": 0.018009,
     "end_time": "2025-08-19T19:00:44.681308",
     "exception": false,
     "start_time": "2025-08-19T19:00:44.663299",
     "status": "completed"
    },
    "tags": []
   },
   "outputs": [],
   "source": [
    "from fairness_multiverse.conformal import find_threshold\n",
    "\n",
    "# Find conformal threshold q_hat for the given alpha (split conformal method)\n",
    "q_hat = find_threshold(nc_scores, alpha)"
   ]
  },
  {
   "cell_type": "code",
   "execution_count": 42,
   "id": "df56469e",
   "metadata": {
    "execution": {
     "iopub.execute_input": "2025-08-19T19:00:44.704965Z",
     "iopub.status.busy": "2025-08-19T19:00:44.704595Z",
     "iopub.status.idle": "2025-08-19T19:00:44.709849Z",
     "shell.execute_reply": "2025-08-19T19:00:44.709191Z"
    },
    "papermill": {
     "duration": 0.018387,
     "end_time": "2025-08-19T19:00:44.710912",
     "exception": false,
     "start_time": "2025-08-19T19:00:44.692525",
     "status": "completed"
    },
    "tags": []
   },
   "outputs": [
    {
     "data": {
      "text/plain": [
       "0.6988941530692016"
      ]
     },
     "execution_count": 42,
     "metadata": {},
     "output_type": "execute_result"
    }
   ],
   "source": [
    "q_hat"
   ]
  },
  {
   "cell_type": "code",
   "execution_count": 43,
   "id": "aa1f5faa",
   "metadata": {
    "execution": {
     "iopub.execute_input": "2025-08-19T19:00:44.734540Z",
     "iopub.status.busy": "2025-08-19T19:00:44.734148Z",
     "iopub.status.idle": "2025-08-19T19:00:45.255838Z",
     "shell.execute_reply": "2025-08-19T19:00:45.254590Z"
    },
    "papermill": {
     "duration": 0.535362,
     "end_time": "2025-08-19T19:00:45.257465",
     "exception": false,
     "start_time": "2025-08-19T19:00:44.722103",
     "status": "completed"
    },
    "tags": []
   },
   "outputs": [],
   "source": [
    "from fairness_multiverse.conformal import predict_conformal_sets\n",
    "\n",
    "# Generate prediction sets for each test example\n",
    "pred_sets = predict_conformal_sets(model, X_test, q_hat)"
   ]
  },
  {
   "cell_type": "code",
   "execution_count": 44,
   "id": "97f67a6b",
   "metadata": {
    "execution": {
     "iopub.execute_input": "2025-08-19T19:00:45.310564Z",
     "iopub.status.busy": "2025-08-19T19:00:45.310014Z",
     "iopub.status.idle": "2025-08-19T19:00:45.318037Z",
     "shell.execute_reply": "2025-08-19T19:00:45.316902Z"
    },
    "papermill": {
     "duration": 0.046232,
     "end_time": "2025-08-19T19:00:45.319791",
     "exception": false,
     "start_time": "2025-08-19T19:00:45.273559",
     "status": "completed"
    },
    "tags": []
   },
   "outputs": [],
   "source": [
    "y_true = y_true.squeeze()"
   ]
  },
  {
   "cell_type": "code",
   "execution_count": 45,
   "id": "e700e9a7",
   "metadata": {
    "execution": {
     "iopub.execute_input": "2025-08-19T19:00:45.347706Z",
     "iopub.status.busy": "2025-08-19T19:00:45.346539Z",
     "iopub.status.idle": "2025-08-19T19:00:45.885577Z",
     "shell.execute_reply": "2025-08-19T19:00:45.884227Z"
    },
    "papermill": {
     "duration": 0.554288,
     "end_time": "2025-08-19T19:00:45.887993",
     "exception": false,
     "start_time": "2025-08-19T19:00:45.333705",
     "status": "completed"
    },
    "tags": []
   },
   "outputs": [],
   "source": [
    "from fairness_multiverse.conformal import evaluate_sets\n",
    "\n",
    "# Evaluate coverage and average set size on test data\n",
    "metrics = evaluate_sets(pred_sets, y_true)"
   ]
  },
  {
   "cell_type": "markdown",
   "id": "efbacec0",
   "metadata": {
    "papermill": {
     "duration": 0.011395,
     "end_time": "2025-08-19T19:00:45.911716",
     "exception": false,
     "start_time": "2025-08-19T19:00:45.900321",
     "status": "completed"
    },
    "tags": []
   },
   "source": [
    "# CP Metrics"
   ]
  },
  {
   "cell_type": "code",
   "execution_count": 46,
   "id": "9de55fb1",
   "metadata": {
    "execution": {
     "iopub.execute_input": "2025-08-19T19:00:45.937074Z",
     "iopub.status.busy": "2025-08-19T19:00:45.936579Z",
     "iopub.status.idle": "2025-08-19T19:00:45.943647Z",
     "shell.execute_reply": "2025-08-19T19:00:45.943053Z"
    },
    "papermill": {
     "duration": 0.033934,
     "end_time": "2025-08-19T19:00:45.957277",
     "exception": false,
     "start_time": "2025-08-19T19:00:45.923343",
     "status": "completed"
    },
    "tags": []
   },
   "outputs": [
    {
     "data": {
      "text/plain": [
       "{'coverage': 0.9116709396945714, 'avg_size': 1.2181473637275666}"
      ]
     },
     "execution_count": 46,
     "metadata": {},
     "output_type": "execute_result"
    }
   ],
   "source": [
    "metrics"
   ]
  },
  {
   "cell_type": "code",
   "execution_count": 47,
   "id": "64c340a1",
   "metadata": {
    "execution": {
     "iopub.execute_input": "2025-08-19T19:00:45.988199Z",
     "iopub.status.busy": "2025-08-19T19:00:45.987174Z",
     "iopub.status.idle": "2025-08-19T19:00:45.993976Z",
     "shell.execute_reply": "2025-08-19T19:00:45.993254Z"
    },
    "papermill": {
     "duration": 0.024151,
     "end_time": "2025-08-19T19:00:45.997051",
     "exception": false,
     "start_time": "2025-08-19T19:00:45.972900",
     "status": "completed"
    },
    "tags": []
   },
   "outputs": [],
   "source": [
    "example_universe = universe.copy()\n",
    "universe_training_year = example_universe.get(\"training_year\")\n",
    "universe_training_size = example_universe.get(\"training_size\")\n",
    "universe_scale = example_universe.get(\"scale\")\n",
    "universe_model = example_universe.get(\"model\")\n",
    "universe_exclude_features = example_universe.get(\"exclude_features\")\n",
    "universe_exclude_subgroups = example_universe.get(\"exclude_subgroups\")"
   ]
  },
  {
   "cell_type": "code",
   "execution_count": 48,
   "id": "dbb53cb4",
   "metadata": {
    "execution": {
     "iopub.execute_input": "2025-08-19T19:00:46.032991Z",
     "iopub.status.busy": "2025-08-19T19:00:46.032563Z",
     "iopub.status.idle": "2025-08-19T19:00:46.037612Z",
     "shell.execute_reply": "2025-08-19T19:00:46.037015Z"
    },
    "papermill": {
     "duration": 0.020726,
     "end_time": "2025-08-19T19:00:46.040159",
     "exception": false,
     "start_time": "2025-08-19T19:00:46.019433",
     "status": "completed"
    },
    "tags": []
   },
   "outputs": [],
   "source": [
    "cp_metrics_dict = {\n",
    "    \"universe_id\": [universe_id],\n",
    "    \"universe_training_year\": [universe_training_year],\n",
    "    \"universe_training_size\": [universe_training_size],\n",
    "    \"universe_scale\": [universe_scale],\n",
    "    \"universe_model\": [universe_model],\n",
    "    \"universe_exclude_features\": [universe_exclude_features],\n",
    "    \"universe_exclude_subgroups\": [universe_exclude_subgroups],\n",
    "    \"q_hat\": [q_hat],\n",
    "    \"coverage\": [metrics[\"coverage\"]],\n",
    "    \"avg_size\": [metrics[\"avg_size\"]],\n",
    "}"
   ]
  },
  {
   "cell_type": "code",
   "execution_count": 49,
   "id": "0d70d4b2",
   "metadata": {
    "execution": {
     "iopub.execute_input": "2025-08-19T19:00:46.080586Z",
     "iopub.status.busy": "2025-08-19T19:00:46.079299Z",
     "iopub.status.idle": "2025-08-19T19:00:46.092881Z",
     "shell.execute_reply": "2025-08-19T19:00:46.091208Z"
    },
    "papermill": {
     "duration": 0.0301,
     "end_time": "2025-08-19T19:00:46.094655",
     "exception": false,
     "start_time": "2025-08-19T19:00:46.064555",
     "status": "completed"
    },
    "tags": []
   },
   "outputs": [],
   "source": [
    "cp_metrics_df = pd.DataFrame(cp_metrics_dict)"
   ]
  },
  {
   "cell_type": "code",
   "execution_count": 50,
   "id": "b494403c",
   "metadata": {
    "execution": {
     "iopub.execute_input": "2025-08-19T19:00:46.124146Z",
     "iopub.status.busy": "2025-08-19T19:00:46.123097Z",
     "iopub.status.idle": "2025-08-19T19:00:46.147929Z",
     "shell.execute_reply": "2025-08-19T19:00:46.147157Z"
    },
    "papermill": {
     "duration": 0.039928,
     "end_time": "2025-08-19T19:00:46.149581",
     "exception": false,
     "start_time": "2025-08-19T19:00:46.109653",
     "status": "completed"
    },
    "tags": []
   },
   "outputs": [
    {
     "data": {
      "text/html": [
       "<div>\n",
       "<style scoped>\n",
       "    .dataframe tbody tr th:only-of-type {\n",
       "        vertical-align: middle;\n",
       "    }\n",
       "\n",
       "    .dataframe tbody tr th {\n",
       "        vertical-align: top;\n",
       "    }\n",
       "\n",
       "    .dataframe thead th {\n",
       "        text-align: right;\n",
       "    }\n",
       "</style>\n",
       "<table border=\"1\" class=\"dataframe\">\n",
       "  <thead>\n",
       "    <tr style=\"text-align: right;\">\n",
       "      <th></th>\n",
       "      <th>universe_id</th>\n",
       "      <th>universe_training_year</th>\n",
       "      <th>universe_training_size</th>\n",
       "      <th>universe_scale</th>\n",
       "      <th>universe_model</th>\n",
       "      <th>universe_exclude_features</th>\n",
       "      <th>universe_exclude_subgroups</th>\n",
       "      <th>q_hat</th>\n",
       "      <th>coverage</th>\n",
       "      <th>avg_size</th>\n",
       "    </tr>\n",
       "  </thead>\n",
       "  <tbody>\n",
       "    <tr>\n",
       "      <th>0</th>\n",
       "      <td>38d8290d25c55e71c1f18e515b409ce6</td>\n",
       "      <td>2012_14</td>\n",
       "      <td>1k</td>\n",
       "      <td>do-not-scale</td>\n",
       "      <td>logreg</td>\n",
       "      <td>none</td>\n",
       "      <td>drop-non-german</td>\n",
       "      <td>0.698894</td>\n",
       "      <td>0.911671</td>\n",
       "      <td>1.218147</td>\n",
       "    </tr>\n",
       "  </tbody>\n",
       "</table>\n",
       "</div>"
      ],
      "text/plain": [
       "                        universe_id universe_training_year  \\\n",
       "0  38d8290d25c55e71c1f18e515b409ce6                2012_14   \n",
       "\n",
       "  universe_training_size universe_scale universe_model  \\\n",
       "0                     1k   do-not-scale         logreg   \n",
       "\n",
       "  universe_exclude_features universe_exclude_subgroups     q_hat  coverage  \\\n",
       "0                      none            drop-non-german  0.698894  0.911671   \n",
       "\n",
       "   avg_size  \n",
       "0  1.218147  "
      ]
     },
     "execution_count": 50,
     "metadata": {},
     "output_type": "execute_result"
    }
   ],
   "source": [
    "cp_metrics_df"
   ]
  },
  {
   "cell_type": "markdown",
   "id": "ed608b0b",
   "metadata": {
    "papermill": {
     "duration": 0.01303,
     "end_time": "2025-08-19T19:00:46.182535",
     "exception": false,
     "start_time": "2025-08-19T19:00:46.169505",
     "status": "completed"
    },
    "tags": []
   },
   "source": [
    "Conditional coverage & looking at subgroups"
   ]
  },
  {
   "cell_type": "code",
   "execution_count": 51,
   "id": "8968c366",
   "metadata": {
    "execution": {
     "iopub.execute_input": "2025-08-19T19:00:46.209246Z",
     "iopub.status.busy": "2025-08-19T19:00:46.208142Z",
     "iopub.status.idle": "2025-08-19T19:00:46.525213Z",
     "shell.execute_reply": "2025-08-19T19:00:46.524385Z"
    },
    "papermill": {
     "duration": 0.332784,
     "end_time": "2025-08-19T19:00:46.527295",
     "exception": false,
     "start_time": "2025-08-19T19:00:46.194511",
     "status": "completed"
    },
    "tags": []
   },
   "outputs": [],
   "source": [
    "from fairness_multiverse.conformal import build_cp_groups\n",
    "\n",
    "cp_groups_df = build_cp_groups(pred_sets, y_true, X_test.index, org_test)"
   ]
  },
  {
   "cell_type": "code",
   "execution_count": 52,
   "id": "292ddabf",
   "metadata": {
    "execution": {
     "iopub.execute_input": "2025-08-19T19:00:46.576950Z",
     "iopub.status.busy": "2025-08-19T19:00:46.576519Z",
     "iopub.status.idle": "2025-08-19T19:00:47.437340Z",
     "shell.execute_reply": "2025-08-19T19:00:47.436148Z"
    },
    "papermill": {
     "duration": 0.890127,
     "end_time": "2025-08-19T19:00:47.438769",
     "exception": false,
     "start_time": "2025-08-19T19:00:46.548642",
     "status": "completed"
    },
    "tags": []
   },
   "outputs": [],
   "source": [
    "# Define covered = 1 if true_label is in the predicted set\n",
    "cp_groups_df['covered'] = cp_groups_df.apply(\n",
    "    lambda r: int(r['true_label'] in r['pred_set']),\n",
    "    axis=1\n",
    ")"
   ]
  },
  {
   "cell_type": "code",
   "execution_count": 53,
   "id": "3a261692",
   "metadata": {
    "execution": {
     "iopub.execute_input": "2025-08-19T19:00:47.465876Z",
     "iopub.status.busy": "2025-08-19T19:00:47.464715Z",
     "iopub.status.idle": "2025-08-19T19:00:47.486888Z",
     "shell.execute_reply": "2025-08-19T19:00:47.485934Z"
    },
    "papermill": {
     "duration": 0.036963,
     "end_time": "2025-08-19T19:00:47.488422",
     "exception": false,
     "start_time": "2025-08-19T19:00:47.451459",
     "status": "completed"
    },
    "tags": []
   },
   "outputs": [],
   "source": [
    "subgroups = ['frau1','nongerman','nongerman_male','nongerman_female']\n",
    "\n",
    "# Conditional coverage for subgroup==1\n",
    "cond_coverage = {\n",
    "    g: cp_groups_df.loc[cp_groups_df[g]==1, 'covered'].mean()\n",
    "    for g in subgroups\n",
    "}"
   ]
  },
  {
   "cell_type": "code",
   "execution_count": 54,
   "id": "894fd600",
   "metadata": {
    "execution": {
     "iopub.execute_input": "2025-08-19T19:00:47.523099Z",
     "iopub.status.busy": "2025-08-19T19:00:47.522045Z",
     "iopub.status.idle": "2025-08-19T19:00:47.537053Z",
     "shell.execute_reply": "2025-08-19T19:00:47.534985Z"
    },
    "papermill": {
     "duration": 0.032923,
     "end_time": "2025-08-19T19:00:47.541447",
     "exception": false,
     "start_time": "2025-08-19T19:00:47.508524",
     "status": "completed"
    },
    "tags": []
   },
   "outputs": [
    {
     "data": {
      "text/plain": [
       "{'frau1': 0.9093139237093948,\n",
       " 'nongerman': 0.9347667433896593,\n",
       " 'nongerman_male': 0.9474916689183104,\n",
       " 'nongerman_female': 0.9137108792846498}"
      ]
     },
     "execution_count": 54,
     "metadata": {},
     "output_type": "execute_result"
    }
   ],
   "source": [
    "cond_coverage"
   ]
  },
  {
   "cell_type": "code",
   "execution_count": 55,
   "id": "942895c7",
   "metadata": {
    "execution": {
     "iopub.execute_input": "2025-08-19T19:00:47.572769Z",
     "iopub.status.busy": "2025-08-19T19:00:47.571935Z",
     "iopub.status.idle": "2025-08-19T19:00:47.579691Z",
     "shell.execute_reply": "2025-08-19T19:00:47.578826Z"
    },
    "papermill": {
     "duration": 0.022353,
     "end_time": "2025-08-19T19:00:47.581155",
     "exception": false,
     "start_time": "2025-08-19T19:00:47.558802",
     "status": "completed"
    },
    "tags": []
   },
   "outputs": [],
   "source": [
    "for subgroup, cov in cond_coverage.items():\n",
    "    cp_metrics_df[f\"cov_{subgroup}\"] = cov"
   ]
  },
  {
   "cell_type": "code",
   "execution_count": 56,
   "id": "3970120f",
   "metadata": {
    "execution": {
     "iopub.execute_input": "2025-08-19T19:00:47.610225Z",
     "iopub.status.busy": "2025-08-19T19:00:47.609232Z",
     "iopub.status.idle": "2025-08-19T19:00:47.637152Z",
     "shell.execute_reply": "2025-08-19T19:00:47.636150Z"
    },
    "papermill": {
     "duration": 0.043609,
     "end_time": "2025-08-19T19:00:47.639416",
     "exception": false,
     "start_time": "2025-08-19T19:00:47.595807",
     "status": "completed"
    },
    "tags": []
   },
   "outputs": [
    {
     "data": {
      "text/html": [
       "<div>\n",
       "<style scoped>\n",
       "    .dataframe tbody tr th:only-of-type {\n",
       "        vertical-align: middle;\n",
       "    }\n",
       "\n",
       "    .dataframe tbody tr th {\n",
       "        vertical-align: top;\n",
       "    }\n",
       "\n",
       "    .dataframe thead th {\n",
       "        text-align: right;\n",
       "    }\n",
       "</style>\n",
       "<table border=\"1\" class=\"dataframe\">\n",
       "  <thead>\n",
       "    <tr style=\"text-align: right;\">\n",
       "      <th></th>\n",
       "      <th>universe_id</th>\n",
       "      <th>universe_training_year</th>\n",
       "      <th>universe_training_size</th>\n",
       "      <th>universe_scale</th>\n",
       "      <th>universe_model</th>\n",
       "      <th>universe_exclude_features</th>\n",
       "      <th>universe_exclude_subgroups</th>\n",
       "      <th>q_hat</th>\n",
       "      <th>coverage</th>\n",
       "      <th>avg_size</th>\n",
       "      <th>cov_frau1</th>\n",
       "      <th>cov_nongerman</th>\n",
       "      <th>cov_nongerman_male</th>\n",
       "      <th>cov_nongerman_female</th>\n",
       "    </tr>\n",
       "  </thead>\n",
       "  <tbody>\n",
       "    <tr>\n",
       "      <th>0</th>\n",
       "      <td>38d8290d25c55e71c1f18e515b409ce6</td>\n",
       "      <td>2012_14</td>\n",
       "      <td>1k</td>\n",
       "      <td>do-not-scale</td>\n",
       "      <td>logreg</td>\n",
       "      <td>none</td>\n",
       "      <td>drop-non-german</td>\n",
       "      <td>0.698894</td>\n",
       "      <td>0.911671</td>\n",
       "      <td>1.218147</td>\n",
       "      <td>0.909314</td>\n",
       "      <td>0.934767</td>\n",
       "      <td>0.947492</td>\n",
       "      <td>0.913711</td>\n",
       "    </tr>\n",
       "  </tbody>\n",
       "</table>\n",
       "</div>"
      ],
      "text/plain": [
       "                        universe_id universe_training_year  \\\n",
       "0  38d8290d25c55e71c1f18e515b409ce6                2012_14   \n",
       "\n",
       "  universe_training_size universe_scale universe_model  \\\n",
       "0                     1k   do-not-scale         logreg   \n",
       "\n",
       "  universe_exclude_features universe_exclude_subgroups     q_hat  coverage  \\\n",
       "0                      none            drop-non-german  0.698894  0.911671   \n",
       "\n",
       "   avg_size  cov_frau1  cov_nongerman  cov_nongerman_male  \\\n",
       "0  1.218147   0.909314       0.934767            0.947492   \n",
       "\n",
       "   cov_nongerman_female  \n",
       "0              0.913711  "
      ]
     },
     "execution_count": 56,
     "metadata": {},
     "output_type": "execute_result"
    }
   ],
   "source": [
    "cp_metrics_df"
   ]
  },
  {
   "cell_type": "markdown",
   "id": "3fc519cc",
   "metadata": {
    "papermill": {
     "duration": 0.011946,
     "end_time": "2025-08-19T19:00:47.674231",
     "exception": false,
     "start_time": "2025-08-19T19:00:47.662285",
     "status": "completed"
    },
    "tags": []
   },
   "source": [
    "# (Fairness) Metrics"
   ]
  },
  {
   "cell_type": "code",
   "execution_count": 57,
   "id": "a2e5e155",
   "metadata": {
    "execution": {
     "iopub.execute_input": "2025-08-19T19:00:47.702015Z",
     "iopub.status.busy": "2025-08-19T19:00:47.701605Z",
     "iopub.status.idle": "2025-08-19T19:00:47.715753Z",
     "shell.execute_reply": "2025-08-19T19:00:47.714928Z"
    },
    "papermill": {
     "duration": 0.031832,
     "end_time": "2025-08-19T19:00:47.718188",
     "exception": false,
     "start_time": "2025-08-19T19:00:47.686356",
     "status": "completed"
    },
    "tags": []
   },
   "outputs": [],
   "source": [
    "colname_to_bin = \"maxdeutsch1\"\n",
    "majority_value = org_train[colname_to_bin].mode()[0]\n",
    "\n",
    "org_test[\"majmin\"] = np.where(org_test[colname_to_bin] == majority_value, \"majority\", \"minority\")"
   ]
  },
  {
   "cell_type": "code",
   "execution_count": 58,
   "id": "17e3e4d5",
   "metadata": {
    "execution": {
     "iopub.execute_input": "2025-08-19T19:00:47.747848Z",
     "iopub.status.busy": "2025-08-19T19:00:47.747045Z",
     "iopub.status.idle": "2025-08-19T19:00:49.462779Z",
     "shell.execute_reply": "2025-08-19T19:00:49.461543Z"
    },
    "papermill": {
     "duration": 1.730385,
     "end_time": "2025-08-19T19:00:49.464313",
     "exception": false,
     "start_time": "2025-08-19T19:00:47.733928",
     "status": "completed"
    },
    "tags": []
   },
   "outputs": [],
   "source": [
    "example_universe = universe.copy()\n",
    "example_universe[\"cutoff\"] = example_universe[\"cutoff\"][0]\n",
    "example_universe[\"eval_fairness_grouping\"] = example_universe[\"eval_fairness_grouping\"][0]\n",
    "fairness_dict, metric_frame = universe_analysis.compute_metrics(\n",
    "    example_universe,\n",
    "    y_pred_prob=probs_test,\n",
    "    y_test=y_true,\n",
    "    org_test=org_test,\n",
    ")"
   ]
  },
  {
   "cell_type": "markdown",
   "id": "1fb7a0e9",
   "metadata": {
    "papermill": {
     "duration": 0.018062,
     "end_time": "2025-08-19T19:00:49.496416",
     "exception": false,
     "start_time": "2025-08-19T19:00:49.478354",
     "status": "completed"
    },
    "tags": []
   },
   "source": [
    "# Overall"
   ]
  },
  {
   "cell_type": "markdown",
   "id": "be1784b1",
   "metadata": {
    "papermill": {
     "duration": 0.01264,
     "end_time": "2025-08-19T19:00:49.521346",
     "exception": false,
     "start_time": "2025-08-19T19:00:49.508706",
     "status": "completed"
    },
    "tags": []
   },
   "source": [
    "Main fairness target: Equalized Odds. Seems to be a better fit than equal opportunity, since we're not only interested in Y = 1. Seems to be a better fit than demographic parity, since we also care about accuracy, not just equal distribution of preds.\n",
    "\n",
    "Pick column for computation of fairness metrics\n",
    "\n",
    "Performance\n",
    "Overall performance measures, most interesting in relation to the measures split by group below"
   ]
  },
  {
   "cell_type": "code",
   "execution_count": 59,
   "id": "b7672bee",
   "metadata": {
    "execution": {
     "iopub.execute_input": "2025-08-19T19:00:49.554254Z",
     "iopub.status.busy": "2025-08-19T19:00:49.553681Z",
     "iopub.status.idle": "2025-08-19T19:00:49.562006Z",
     "shell.execute_reply": "2025-08-19T19:00:49.561304Z"
    },
    "papermill": {
     "duration": 0.028919,
     "end_time": "2025-08-19T19:00:49.564689",
     "exception": false,
     "start_time": "2025-08-19T19:00:49.535770",
     "status": "completed"
    },
    "tags": []
   },
   "outputs": [
    {
     "data": {
      "text/plain": [
       "accuracy                   0.212540\n",
       "balanced accuracy          0.522170\n",
       "f1                         0.234197\n",
       "precision                  0.133789\n",
       "false positive rate        0.894312\n",
       "false negative rate        0.061349\n",
       "selection rate             0.900000\n",
       "count                  89710.000000\n",
       "dtype: float64"
      ]
     },
     "execution_count": 59,
     "metadata": {},
     "output_type": "execute_result"
    }
   ],
   "source": [
    "metric_frame.overall"
   ]
  },
  {
   "cell_type": "markdown",
   "id": "d93333c9",
   "metadata": {
    "papermill": {
     "duration": 0.012232,
     "end_time": "2025-08-19T19:00:49.591900",
     "exception": false,
     "start_time": "2025-08-19T19:00:49.579668",
     "status": "completed"
    },
    "tags": []
   },
   "source": [
    "By Group"
   ]
  },
  {
   "cell_type": "code",
   "execution_count": 60,
   "id": "52256966",
   "metadata": {
    "execution": {
     "iopub.execute_input": "2025-08-19T19:00:49.617796Z",
     "iopub.status.busy": "2025-08-19T19:00:49.617390Z",
     "iopub.status.idle": "2025-08-19T19:00:49.629527Z",
     "shell.execute_reply": "2025-08-19T19:00:49.628771Z"
    },
    "papermill": {
     "duration": 0.026631,
     "end_time": "2025-08-19T19:00:49.630708",
     "exception": false,
     "start_time": "2025-08-19T19:00:49.604077",
     "status": "completed"
    },
    "tags": []
   },
   "outputs": [
    {
     "data": {
      "text/html": [
       "<div>\n",
       "<style scoped>\n",
       "    .dataframe tbody tr th:only-of-type {\n",
       "        vertical-align: middle;\n",
       "    }\n",
       "\n",
       "    .dataframe tbody tr th {\n",
       "        vertical-align: top;\n",
       "    }\n",
       "\n",
       "    .dataframe thead th {\n",
       "        text-align: right;\n",
       "    }\n",
       "</style>\n",
       "<table border=\"1\" class=\"dataframe\">\n",
       "  <thead>\n",
       "    <tr style=\"text-align: right;\">\n",
       "      <th></th>\n",
       "      <th>accuracy</th>\n",
       "      <th>balanced accuracy</th>\n",
       "      <th>f1</th>\n",
       "      <th>precision</th>\n",
       "      <th>false positive rate</th>\n",
       "      <th>false negative rate</th>\n",
       "      <th>selection rate</th>\n",
       "      <th>count</th>\n",
       "    </tr>\n",
       "    <tr>\n",
       "      <th>majmin</th>\n",
       "      <th></th>\n",
       "      <th></th>\n",
       "      <th></th>\n",
       "      <th></th>\n",
       "      <th></th>\n",
       "      <th></th>\n",
       "      <th></th>\n",
       "      <th></th>\n",
       "    </tr>\n",
       "  </thead>\n",
       "  <tbody>\n",
       "    <tr>\n",
       "      <th>majority</th>\n",
       "      <td>0.232514</td>\n",
       "      <td>0.527222</td>\n",
       "      <td>0.242123</td>\n",
       "      <td>0.139229</td>\n",
       "      <td>0.873347</td>\n",
       "      <td>0.072210</td>\n",
       "      <td>0.880541</td>\n",
       "      <td>69170.0</td>\n",
       "    </tr>\n",
       "    <tr>\n",
       "      <th>minority</th>\n",
       "      <td>0.145278</td>\n",
       "      <td>0.508502</td>\n",
       "      <td>0.209189</td>\n",
       "      <td>0.117084</td>\n",
       "      <td>0.963570</td>\n",
       "      <td>0.019426</td>\n",
       "      <td>0.965531</td>\n",
       "      <td>20540.0</td>\n",
       "    </tr>\n",
       "  </tbody>\n",
       "</table>\n",
       "</div>"
      ],
      "text/plain": [
       "          accuracy  balanced accuracy        f1  precision  \\\n",
       "majmin                                                       \n",
       "majority  0.232514           0.527222  0.242123   0.139229   \n",
       "minority  0.145278           0.508502  0.209189   0.117084   \n",
       "\n",
       "          false positive rate  false negative rate  selection rate    count  \n",
       "majmin                                                                       \n",
       "majority             0.873347             0.072210        0.880541  69170.0  \n",
       "minority             0.963570             0.019426        0.965531  20540.0  "
      ]
     },
     "execution_count": 60,
     "metadata": {},
     "output_type": "execute_result"
    }
   ],
   "source": [
    "metric_frame.by_group"
   ]
  },
  {
   "cell_type": "code",
   "execution_count": 61,
   "id": "6e6c20ae",
   "metadata": {
    "execution": {
     "iopub.execute_input": "2025-08-19T19:00:49.657529Z",
     "iopub.status.busy": "2025-08-19T19:00:49.656819Z",
     "iopub.status.idle": "2025-08-19T19:00:51.466148Z",
     "shell.execute_reply": "2025-08-19T19:00:51.465226Z"
    },
    "papermill": {
     "duration": 1.824251,
     "end_time": "2025-08-19T19:00:51.467640",
     "exception": false,
     "start_time": "2025-08-19T19:00:49.643389",
     "status": "completed"
    },
    "tags": []
   },
   "outputs": [
    {
     "data": {
      "text/plain": [
       "array([[<Axes: title={'center': 'accuracy'}, xlabel='majmin'>,\n",
       "        <Axes: title={'center': 'balanced accuracy'}, xlabel='majmin'>,\n",
       "        <Axes: title={'center': 'f1'}, xlabel='majmin'>],\n",
       "       [<Axes: title={'center': 'precision'}, xlabel='majmin'>,\n",
       "        <Axes: title={'center': 'false positive rate'}, xlabel='majmin'>,\n",
       "        <Axes: title={'center': 'false negative rate'}, xlabel='majmin'>],\n",
       "       [<Axes: title={'center': 'selection rate'}, xlabel='majmin'>,\n",
       "        <Axes: title={'center': 'count'}, xlabel='majmin'>,\n",
       "        <Axes: xlabel='majmin'>]], dtype=object)"
      ]
     },
     "execution_count": 61,
     "metadata": {},
     "output_type": "execute_result"
    },
    {
     "data": {
      "image/png": "[encoded data removed]",
      "text/plain": [
       "<Figure size 1200x800 with 9 Axes>"
      ]
     },
     "metadata": {},
     "output_type": "display_data"
    }
   ],
   "source": [
    "# In a graphic\n",
    "metric_frame.by_group.plot.bar(\n",
    "    subplots=True,\n",
    "    layout=[3, 3],\n",
    "    legend=False,\n",
    "    figsize=[12, 8],\n",
    "    title=\"Show all metrics\",\n",
    ")"
   ]
  },
  {
   "cell_type": "markdown",
   "id": "b2e433ae",
   "metadata": {
    "papermill": {
     "duration": 0.014243,
     "end_time": "2025-08-19T19:00:51.496186",
     "exception": false,
     "start_time": "2025-08-19T19:00:51.481943",
     "status": "completed"
    },
    "tags": []
   },
   "source": [
    "# Final Output"
   ]
  },
  {
   "cell_type": "code",
   "execution_count": 62,
   "id": "3871301e",
   "metadata": {
    "execution": {
     "iopub.execute_input": "2025-08-19T19:00:51.526323Z",
     "iopub.status.busy": "2025-08-19T19:00:51.525562Z",
     "iopub.status.idle": "2025-08-19T19:00:51.533132Z",
     "shell.execute_reply": "2025-08-19T19:00:51.532448Z"
    },
    "papermill": {
     "duration": 0.024058,
     "end_time": "2025-08-19T19:00:51.534226",
     "exception": false,
     "start_time": "2025-08-19T19:00:51.510168",
     "status": "completed"
    },
    "tags": []
   },
   "outputs": [
    {
     "data": {
      "text/plain": [
       "4"
      ]
     },
     "execution_count": 62,
     "metadata": {},
     "output_type": "execute_result"
    }
   ],
   "source": [
    "sub_universes = universe_analysis.generate_sub_universes()\n",
    "len(sub_universes)"
   ]
  },
  {
   "cell_type": "code",
   "execution_count": 63,
   "id": "d9cfdaca",
   "metadata": {
    "execution": {
     "iopub.execute_input": "2025-08-19T19:00:51.565347Z",
     "iopub.status.busy": "2025-08-19T19:00:51.564956Z",
     "iopub.status.idle": "2025-08-19T19:00:51.604433Z",
     "shell.execute_reply": "2025-08-19T19:00:51.603729Z"
    },
    "papermill": {
     "duration": 0.059273,
     "end_time": "2025-08-19T19:00:51.608721",
     "exception": false,
     "start_time": "2025-08-19T19:00:51.549448",
     "status": "completed"
    },
    "tags": []
   },
   "outputs": [],
   "source": [
    "def filter_sub_universe_data(sub_universe, org_test):\n",
    "    # Keep all rows — no filtering\n",
    "    keep_rows_mask = np.ones(org_test.shape[0], dtype=bool)\n",
    "\n",
    "    print(f\"[INFO] Keeping all rows: {keep_rows_mask.sum()} rows retained.\")\n",
    "    return keep_rows_mask"
   ]
  },
  {
   "cell_type": "code",
   "execution_count": 64,
   "id": "2bc31ac1",
   "metadata": {
    "execution": {
     "iopub.execute_input": "2025-08-19T19:00:51.656784Z",
     "iopub.status.busy": "2025-08-19T19:00:51.655229Z",
     "iopub.status.idle": "2025-08-19T19:00:58.299330Z",
     "shell.execute_reply": "2025-08-19T19:00:58.296921Z"
    },
    "papermill": {
     "duration": 6.663087,
     "end_time": "2025-08-19T19:00:58.301406",
     "exception": false,
     "start_time": "2025-08-19T19:00:51.638319",
     "status": "completed"
    },
    "tags": []
   },
   "outputs": [
    {
     "name": "stdout",
     "output_type": "stream",
     "text": [
      "Stopping execution_time clock.\n",
      "[INFO] Keeping all rows: 89710 rows retained.\n"
     ]
    },
    {
     "name": "stdout",
     "output_type": "stream",
     "text": [
      "[INFO] Keeping all rows: 89710 rows retained.\n"
     ]
    },
    {
     "name": "stdout",
     "output_type": "stream",
     "text": [
      "[INFO] Keeping all rows: 89710 rows retained.\n"
     ]
    },
    {
     "name": "stdout",
     "output_type": "stream",
     "text": [
      "[INFO] Keeping all rows: 89710 rows retained.\n"
     ]
    },
    {
     "data": {
      "text/html": [
       "<div>\n",
       "<style scoped>\n",
       "    .dataframe tbody tr th:only-of-type {\n",
       "        vertical-align: middle;\n",
       "    }\n",
       "\n",
       "    .dataframe tbody tr th {\n",
       "        vertical-align: top;\n",
       "    }\n",
       "\n",
       "    .dataframe thead th {\n",
       "        text-align: right;\n",
       "    }\n",
       "</style>\n",
       "<table border=\"1\" class=\"dataframe\">\n",
       "  <thead>\n",
       "    <tr style=\"text-align: right;\">\n",
       "      <th></th>\n",
       "      <th>run_no</th>\n",
       "      <th>universe_id</th>\n",
       "      <th>universe_settings</th>\n",
       "      <th>execution_time</th>\n",
       "      <th>test_size_n</th>\n",
       "      <th>test_size_frac</th>\n",
       "      <th>fair_main_equalized_odds_difference</th>\n",
       "      <th>fair_main_equalized_odds_ratio</th>\n",
       "      <th>fair_main_demographic_parity_difference</th>\n",
       "      <th>fair_main_demographic_parity_ratio</th>\n",
       "      <th>...</th>\n",
       "      <th>perf_grp_precision_0</th>\n",
       "      <th>perf_grp_precision_1</th>\n",
       "      <th>perf_grp_false positive rate_0</th>\n",
       "      <th>perf_grp_false positive rate_1</th>\n",
       "      <th>perf_grp_false negative rate_0</th>\n",
       "      <th>perf_grp_false negative rate_1</th>\n",
       "      <th>perf_grp_selection rate_0</th>\n",
       "      <th>perf_grp_selection rate_1</th>\n",
       "      <th>perf_grp_count_0</th>\n",
       "      <th>perf_grp_count_1</th>\n",
       "    </tr>\n",
       "  </thead>\n",
       "  <tbody>\n",
       "    <tr>\n",
       "      <th>0</th>\n",
       "      <td>3</td>\n",
       "      <td>38d8290d25c55e71c1f18e515b409ce6</td>\n",
       "      <td>{\"cutoff\": \"quantile_0.1\", \"eval_fairness_grou...</td>\n",
       "      <td>20.463441</td>\n",
       "      <td>89710</td>\n",
       "      <td>1.0</td>\n",
       "      <td>0.090224</td>\n",
       "      <td>0.906365</td>\n",
       "      <td>0.084990</td>\n",
       "      <td>0.911976</td>\n",
       "      <td>...</td>\n",
       "      <td>NaN</td>\n",
       "      <td>NaN</td>\n",
       "      <td>NaN</td>\n",
       "      <td>NaN</td>\n",
       "      <td>NaN</td>\n",
       "      <td>NaN</td>\n",
       "      <td>NaN</td>\n",
       "      <td>NaN</td>\n",
       "      <td>NaN</td>\n",
       "      <td>NaN</td>\n",
       "    </tr>\n",
       "    <tr>\n",
       "      <th>0</th>\n",
       "      <td>3</td>\n",
       "      <td>38d8290d25c55e71c1f18e515b409ce6</td>\n",
       "      <td>{\"cutoff\": \"quantile_0.1\", \"eval_fairness_grou...</td>\n",
       "      <td>20.463441</td>\n",
       "      <td>89710</td>\n",
       "      <td>1.0</td>\n",
       "      <td>0.090224</td>\n",
       "      <td>0.906365</td>\n",
       "      <td>0.084990</td>\n",
       "      <td>0.911976</td>\n",
       "      <td>...</td>\n",
       "      <td>0.117084</td>\n",
       "      <td>0.139229</td>\n",
       "      <td>0.963570</td>\n",
       "      <td>0.873347</td>\n",
       "      <td>0.019426</td>\n",
       "      <td>0.072210</td>\n",
       "      <td>0.965531</td>\n",
       "      <td>0.880541</td>\n",
       "      <td>20540.0</td>\n",
       "      <td>69170.0</td>\n",
       "    </tr>\n",
       "    <tr>\n",
       "      <th>0</th>\n",
       "      <td>3</td>\n",
       "      <td>38d8290d25c55e71c1f18e515b409ce6</td>\n",
       "      <td>{\"cutoff\": \"quantile_0.25\", \"eval_fairness_gro...</td>\n",
       "      <td>20.463441</td>\n",
       "      <td>89710</td>\n",
       "      <td>1.0</td>\n",
       "      <td>0.212159</td>\n",
       "      <td>0.763519</td>\n",
       "      <td>0.197959</td>\n",
       "      <td>0.780686</td>\n",
       "      <td>...</td>\n",
       "      <td>NaN</td>\n",
       "      <td>NaN</td>\n",
       "      <td>NaN</td>\n",
       "      <td>NaN</td>\n",
       "      <td>NaN</td>\n",
       "      <td>NaN</td>\n",
       "      <td>NaN</td>\n",
       "      <td>NaN</td>\n",
       "      <td>NaN</td>\n",
       "      <td>NaN</td>\n",
       "    </tr>\n",
       "    <tr>\n",
       "      <th>0</th>\n",
       "      <td>3</td>\n",
       "      <td>38d8290d25c55e71c1f18e515b409ce6</td>\n",
       "      <td>{\"cutoff\": \"quantile_0.25\", \"eval_fairness_gro...</td>\n",
       "      <td>20.463441</td>\n",
       "      <td>89710</td>\n",
       "      <td>1.0</td>\n",
       "      <td>0.212159</td>\n",
       "      <td>0.763519</td>\n",
       "      <td>0.197959</td>\n",
       "      <td>0.780686</td>\n",
       "      <td>...</td>\n",
       "      <td>0.120658</td>\n",
       "      <td>0.156374</td>\n",
       "      <td>0.897149</td>\n",
       "      <td>0.684991</td>\n",
       "      <td>0.055321</td>\n",
       "      <td>0.166083</td>\n",
       "      <td>0.902629</td>\n",
       "      <td>0.704670</td>\n",
       "      <td>20540.0</td>\n",
       "      <td>69170.0</td>\n",
       "    </tr>\n",
       "  </tbody>\n",
       "</table>\n",
       "<p>4 rows × 50 columns</p>\n",
       "</div>"
      ],
      "text/plain": [
       "  run_no                       universe_id  \\\n",
       "0      3  38d8290d25c55e71c1f18e515b409ce6   \n",
       "0      3  38d8290d25c55e71c1f18e515b409ce6   \n",
       "0      3  38d8290d25c55e71c1f18e515b409ce6   \n",
       "0      3  38d8290d25c55e71c1f18e515b409ce6   \n",
       "\n",
       "                                   universe_settings  execution_time  \\\n",
       "0  {\"cutoff\": \"quantile_0.1\", \"eval_fairness_grou...       20.463441   \n",
       "0  {\"cutoff\": \"quantile_0.1\", \"eval_fairness_grou...       20.463441   \n",
       "0  {\"cutoff\": \"quantile_0.25\", \"eval_fairness_gro...       20.463441   \n",
       "0  {\"cutoff\": \"quantile_0.25\", \"eval_fairness_gro...       20.463441   \n",
       "\n",
       "   test_size_n  test_size_frac  fair_main_equalized_odds_difference  \\\n",
       "0        89710             1.0                             0.090224   \n",
       "0        89710             1.0                             0.090224   \n",
       "0        89710             1.0                             0.212159   \n",
       "0        89710             1.0                             0.212159   \n",
       "\n",
       "   fair_main_equalized_odds_ratio  fair_main_demographic_parity_difference  \\\n",
       "0                        0.906365                                 0.084990   \n",
       "0                        0.906365                                 0.084990   \n",
       "0                        0.763519                                 0.197959   \n",
       "0                        0.763519                                 0.197959   \n",
       "\n",
       "   fair_main_demographic_parity_ratio  ...  perf_grp_precision_0  \\\n",
       "0                            0.911976  ...                   NaN   \n",
       "0                            0.911976  ...              0.117084   \n",
       "0                            0.780686  ...                   NaN   \n",
       "0                            0.780686  ...              0.120658   \n",
       "\n",
       "   perf_grp_precision_1  perf_grp_false positive rate_0  \\\n",
       "0                   NaN                             NaN   \n",
       "0              0.139229                        0.963570   \n",
       "0                   NaN                             NaN   \n",
       "0              0.156374                        0.897149   \n",
       "\n",
       "   perf_grp_false positive rate_1  perf_grp_false negative rate_0  \\\n",
       "0                             NaN                             NaN   \n",
       "0                        0.873347                        0.019426   \n",
       "0                             NaN                             NaN   \n",
       "0                        0.684991                        0.055321   \n",
       "\n",
       "   perf_grp_false negative rate_1  perf_grp_selection rate_0  \\\n",
       "0                             NaN                        NaN   \n",
       "0                        0.072210                   0.965531   \n",
       "0                             NaN                        NaN   \n",
       "0                        0.166083                   0.902629   \n",
       "\n",
       "   perf_grp_selection rate_1  perf_grp_count_0  perf_grp_count_1  \n",
       "0                        NaN               NaN               NaN  \n",
       "0                   0.880541           20540.0           69170.0  \n",
       "0                        NaN               NaN               NaN  \n",
       "0                   0.704670           20540.0           69170.0  \n",
       "\n",
       "[4 rows x 50 columns]"
      ]
     },
     "execution_count": 64,
     "metadata": {},
     "output_type": "execute_result"
    }
   ],
   "source": [
    "final_output = universe_analysis.generate_final_output(\n",
    "    y_pred_prob=probs_test,\n",
    "    y_test=y_true,\n",
    "    org_test=org_test,\n",
    "    filter_data=filter_sub_universe_data,\n",
    "    cp_metrics_df=cp_metrics_df,\n",
    "    save=True,\n",
    ")\n",
    "final_output"
   ]
  },
  {
   "cell_type": "code",
   "execution_count": null,
   "id": "8b80a1ff",
   "metadata": {
    "papermill": {
     "duration": 0.014958,
     "end_time": "2025-08-19T19:00:58.335820",
     "exception": false,
     "start_time": "2025-08-19T19:00:58.320862",
     "status": "completed"
    },
    "tags": []
   },
   "outputs": [],
   "source": []
  },
  {
   "cell_type": "code",
   "execution_count": null,
   "id": "275c9fad",
   "metadata": {
    "papermill": {
     "duration": 0.014787,
     "end_time": "2025-08-19T19:00:58.366726",
     "exception": false,
     "start_time": "2025-08-19T19:00:58.351939",
     "status": "completed"
    },
    "tags": []
   },
   "outputs": [],
   "source": []
  }
 ],
 "metadata": {
  "celltoolbar": "Tags",
  "kernelspec": {
   "display_name": "Python (CMA Fairness)",
   "language": "python",
   "name": "cma_fair_env"
  },
  "language_info": {
   "codemirror_mode": {
    "name": "ipython",
    "version": 3
   },
   "file_extension": ".py",
   "mimetype": "text/x-python",
   "name": "python",
   "nbconvert_exporter": "python",
   "pygments_lexer": "ipython3",
   "version": "3.10.12"
  },
  "papermill": {
   "default_parameters": {},
   "duration": 31.179305,
   "end_time": "2025-08-19T19:00:59.413888",
   "environment_variables": {},
   "exception": null,
   "input_path": "universe_analysis.ipynb",
   "output_path": "output/runs/3/notebooks/m_3-38d8290d25c55e71c1f18e515b409ce6.ipynb",
   "parameters": {
    "output_dir": "output",
    "run_no": "3",
    "seed": "2023",
    "universe": "{\"cutoff\": [\"quantile_0.1\", \"quantile_0.25\"], \"eval_fairness_grouping\": [\"majority-minority\", \"nationality-all\"], \"exclude_features\": \"none\", \"exclude_subgroups\": \"drop-non-german\", \"model\": \"logreg\", \"scale\": \"do-not-scale\", \"training_size\": \"1k\", \"training_year\": \"2012_14\"}",
    "universe_id": "38d8290d25c55e71c1f18e515b409ce6"
   },
   "start_time": "2025-08-19T19:00:28.234583",
   "version": "2.6.0"
  }
 },
 "nbformat": 4,
 "nbformat_minor": 5
}