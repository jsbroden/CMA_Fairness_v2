{
 "cells": [
  {
   "cell_type": "markdown",
   "id": "ef23dbb3",
   "metadata": {
    "papermill": {
     "duration": 0.023398,
     "end_time": "2025-08-19T18:55:50.644971",
     "exception": false,
     "start_time": "2025-08-19T18:55:50.621573",
     "status": "completed"
    },
    "tags": []
   },
   "source": [
    "# Setup"
   ]
  },
  {
   "cell_type": "code",
   "execution_count": 1,
   "id": "0bc8e7dc",
   "metadata": {
    "execution": {
     "iopub.execute_input": "2025-08-19T18:55:50.668370Z",
     "iopub.status.busy": "2025-08-19T18:55:50.668047Z",
     "iopub.status.idle": "2025-08-19T18:55:50.678544Z",
     "shell.execute_reply": "2025-08-19T18:55:50.677921Z"
    },
    "papermill": {
     "duration": 0.023884,
     "end_time": "2025-08-19T18:55:50.681539",
     "exception": false,
     "start_time": "2025-08-19T18:55:50.657655",
     "status": "completed"
    },
    "tags": []
   },
   "outputs": [
    {
     "name": "stdout",
     "output_type": "stream",
     "text": [
      "/dss/dsshome1/0C/ra93lal2/cma/CMA_Fairness_v2\n"
     ]
    },
    {
     "name": "stderr",
     "output_type": "stream",
     "text": [
      "/dss/dsshome1/0C/ra93lal2/.local/share/virtualenvs/CMA_Fairness_v2-3j10GkSs/lib/python3.10/site-packages/IPython/core/magics/osm.py:393: UserWarning: This is now an optional IPython functionality, using bookmarks requires you to install the `pickleshare` library.\n",
      "  bkms = self.shell.db.get('bookmarks', {})\n",
      "/dss/dsshome1/0C/ra93lal2/.local/share/virtualenvs/CMA_Fairness_v2-3j10GkSs/lib/python3.10/site-packages/IPython/core/magics/osm.py:417: UserWarning: This is now an optional IPython functionality, setting dhist requires you to install the `pickleshare` library.\n",
      "  self.shell.db['dhist'] = compress_dhist(dhist)[-100:]\n"
     ]
    }
   ],
   "source": [
    "%cd ~/cma/CMA_Fairness_v2"
   ]
  },
  {
   "cell_type": "markdown",
   "id": "9d235661",
   "metadata": {
    "papermill": {
     "duration": 0.008677,
     "end_time": "2025-08-19T18:55:50.699321",
     "exception": false,
     "start_time": "2025-08-19T18:55:50.690644",
     "status": "completed"
    },
    "tags": []
   },
   "source": [
    "The following cell holds the definition of our parameters, these values can be overriden by rendering the with e.g. the following command:\n",
    "\n",
    "papermill -p alpha 0.2 -p ratio 0.3 universe_analysis.ipynb output/test_run.ipynb"
   ]
  },
  {
   "cell_type": "code",
   "execution_count": 2,
   "id": "4a789d8e",
   "metadata": {
    "execution": {
     "iopub.execute_input": "2025-08-19T18:55:50.718346Z",
     "iopub.status.busy": "2025-08-19T18:55:50.718049Z",
     "iopub.status.idle": "2025-08-19T18:55:50.724426Z",
     "shell.execute_reply": "2025-08-19T18:55:50.722891Z"
    },
    "papermill": {
     "duration": 0.018291,
     "end_time": "2025-08-19T18:55:50.726232",
     "exception": false,
     "start_time": "2025-08-19T18:55:50.707941",
     "status": "completed"
    },
    "tags": []
   },
   "outputs": [
    {
     "name": "stdout",
     "output_type": "stream",
     "text": [
      "Current working directory: /dss/dsshome1/0C/ra93lal2/cma/CMA_Fairness_v2\n"
     ]
    }
   ],
   "source": [
    "import os\n",
    "print(\"Current working directory:\", os.getcwd())"
   ]
  },
  {
   "cell_type": "code",
   "execution_count": 3,
   "id": "4132aaed",
   "metadata": {
    "execution": {
     "iopub.execute_input": "2025-08-19T18:55:50.745164Z",
     "iopub.status.busy": "2025-08-19T18:55:50.744905Z",
     "iopub.status.idle": "2025-08-19T18:55:50.752091Z",
     "shell.execute_reply": "2025-08-19T18:55:50.750694Z"
    },
    "papermill": {
     "duration": 0.022212,
     "end_time": "2025-08-19T18:55:50.757375",
     "exception": false,
     "start_time": "2025-08-19T18:55:50.735163",
     "status": "completed"
    },
    "tags": [
     "parameters"
    ]
   },
   "outputs": [],
   "source": [
    "run_no = 0\n",
    "universe_id = \"test\"\n",
    "universe = {\n",
    "    \"training_size\": \"5k\", # \"25k\", \"5k\", \"1k\"\n",
    "    \"training_year\": \"2012_14\", # \"2014\", \"2012_14\", \"2010_14\"\n",
    "    \"scale\": \"scale\", # \"scale\", \"do-not-scale\",\n",
    "    \"model\": \"elasticnet\", # \"logreg\", \"penalized_logreg\", \"rf\", \"gbm\", \"elasticnet\"\n",
    "    \"cutoff\": [\"quantile_0.15\", \"quantile_0.30\"],\n",
    "    \"exclude_features\": \"age\", # \"none\", \"nationality\", \"sex\", \"nationality-sex\", \"age\"\n",
    "    \"exclude_subgroups\": \"drop-non-german\", # \"keep-all\", \"drop-non-german\"\n",
    "    \"eval_fairness_grouping\": [\"majority-minority\", \"nationality-all\"]\n",
    "}\n",
    "\n",
    "output_dir=\"./output\"\n",
    "seed=0"
   ]
  },
  {
   "cell_type": "code",
   "execution_count": 4,
   "id": "9a8ac6bf",
   "metadata": {
    "execution": {
     "iopub.execute_input": "2025-08-19T18:55:50.789695Z",
     "iopub.status.busy": "2025-08-19T18:55:50.788575Z",
     "iopub.status.idle": "2025-08-19T18:55:50.797630Z",
     "shell.execute_reply": "2025-08-19T18:55:50.796060Z"
    },
    "papermill": {
     "duration": 0.023087,
     "end_time": "2025-08-19T18:55:50.799462",
     "exception": false,
     "start_time": "2025-08-19T18:55:50.776375",
     "status": "completed"
    },
    "tags": [
     "injected-parameters"
    ]
   },
   "outputs": [],
   "source": [
    "# Parameters\n",
    "universe_id = \"523b4d52292fbf0322ce0d3ad7b649bd\"\n",
    "run_no = \"3\"\n",
    "universe = \"{\\\"cutoff\\\": [\\\"quantile_0.1\\\", \\\"quantile_0.25\\\"], \\\"eval_fairness_grouping\\\": [\\\"majority-minority\\\", \\\"nationality-all\\\"], \\\"exclude_features\\\": \\\"none\\\", \\\"exclude_subgroups\\\": \\\"drop-non-german\\\", \\\"model\\\": \\\"elasticnet\\\", \\\"scale\\\": \\\"do-not-scale\\\", \\\"training_size\\\": \\\"1k\\\", \\\"training_year\\\": \\\"2014\\\"}\"\n",
    "output_dir = \"output\"\n",
    "seed = \"2023\"\n"
   ]
  },
  {
   "cell_type": "code",
   "execution_count": 5,
   "id": "a5d7941f",
   "metadata": {
    "execution": {
     "iopub.execute_input": "2025-08-19T18:55:50.823583Z",
     "iopub.status.busy": "2025-08-19T18:55:50.822186Z",
     "iopub.status.idle": "2025-08-19T18:55:50.830549Z",
     "shell.execute_reply": "2025-08-19T18:55:50.829244Z"
    },
    "papermill": {
     "duration": 0.021495,
     "end_time": "2025-08-19T18:55:50.832206",
     "exception": false,
     "start_time": "2025-08-19T18:55:50.810711",
     "status": "completed"
    },
    "tags": []
   },
   "outputs": [],
   "source": [
    "import json\n",
    "if isinstance(universe, str):\n",
    "    universe = json.loads(universe)"
   ]
  },
  {
   "cell_type": "code",
   "execution_count": 6,
   "id": "7076ccb1",
   "metadata": {
    "execution": {
     "iopub.execute_input": "2025-08-19T18:55:50.857009Z",
     "iopub.status.busy": "2025-08-19T18:55:50.855854Z",
     "iopub.status.idle": "2025-08-19T18:55:50.906522Z",
     "shell.execute_reply": "2025-08-19T18:55:50.905922Z"
    },
    "papermill": {
     "duration": 0.064831,
     "end_time": "2025-08-19T18:55:50.909461",
     "exception": false,
     "start_time": "2025-08-19T18:55:50.844630",
     "status": "completed"
    },
    "tags": []
   },
   "outputs": [],
   "source": [
    "# Auto-reload the custom package\n",
    "%load_ext autoreload\n",
    "%autoreload 1\n",
    "%aimport fairness_multiverse"
   ]
  },
  {
   "cell_type": "code",
   "execution_count": 7,
   "id": "94c8eb93",
   "metadata": {
    "execution": {
     "iopub.execute_input": "2025-08-19T18:55:50.946911Z",
     "iopub.status.busy": "2025-08-19T18:55:50.945334Z",
     "iopub.status.idle": "2025-08-19T18:55:52.556273Z",
     "shell.execute_reply": "2025-08-19T18:55:52.555419Z"
    },
    "papermill": {
     "duration": 1.626329,
     "end_time": "2025-08-19T18:55:52.558066",
     "exception": false,
     "start_time": "2025-08-19T18:55:50.931737",
     "status": "completed"
    },
    "tags": []
   },
   "outputs": [],
   "source": [
    "from fairness_multiverse.universe import UniverseAnalysis\n",
    "\n",
    "universe_analysis = UniverseAnalysis(\n",
    "    run_no = run_no,\n",
    "    universe_id = universe_id,\n",
    "    universe = universe,\n",
    "    output_dir=output_dir,\n",
    ")"
   ]
  },
  {
   "cell_type": "code",
   "execution_count": 8,
   "id": "2a6381cf",
   "metadata": {
    "execution": {
     "iopub.execute_input": "2025-08-19T18:55:52.579209Z",
     "iopub.status.busy": "2025-08-19T18:55:52.578623Z",
     "iopub.status.idle": "2025-08-19T18:55:52.588560Z",
     "shell.execute_reply": "2025-08-19T18:55:52.584711Z"
    },
    "papermill": {
     "duration": 0.022451,
     "end_time": "2025-08-19T18:55:52.590505",
     "exception": false,
     "start_time": "2025-08-19T18:55:52.568054",
     "status": "completed"
    },
    "tags": []
   },
   "outputs": [
    {
     "name": "stdout",
     "output_type": "stream",
     "text": [
      "Using Seed: 2023\n"
     ]
    }
   ],
   "source": [
    "import numpy as np\n",
    "parsed_seed = int(seed)\n",
    "np.random.seed(parsed_seed)\n",
    "print(f\"Using Seed: {parsed_seed}\")"
   ]
  },
  {
   "cell_type": "markdown",
   "id": "b6e958b4",
   "metadata": {
    "papermill": {
     "duration": 0.009909,
     "end_time": "2025-08-19T18:55:52.610660",
     "exception": false,
     "start_time": "2025-08-19T18:55:52.600751",
     "status": "completed"
    },
    "tags": []
   },
   "source": [
    "# Loading Data"
   ]
  },
  {
   "cell_type": "code",
   "execution_count": 9,
   "id": "98701482",
   "metadata": {
    "execution": {
     "iopub.execute_input": "2025-08-19T18:55:52.631188Z",
     "iopub.status.busy": "2025-08-19T18:55:52.630816Z",
     "iopub.status.idle": "2025-08-19T18:56:03.103901Z",
     "shell.execute_reply": "2025-08-19T18:56:03.100265Z"
    },
    "papermill": {
     "duration": 10.48611,
     "end_time": "2025-08-19T18:56:03.106330",
     "exception": false,
     "start_time": "2025-08-19T18:55:52.620220",
     "status": "completed"
    },
    "tags": []
   },
   "outputs": [
    {
     "name": "stdout",
     "output_type": "stream",
     "text": [
      "Loading SIAB data from cache: data/siab_cached.csv.gz\n"
     ]
    },
    {
     "name": "stdout",
     "output_type": "stream",
     "text": [
      "(643690, 164)\n"
     ]
    }
   ],
   "source": [
    "from pathlib import Path\n",
    "import pandas as pd\n",
    "\n",
    "# File paths\n",
    "raw_file = Path(\"data/raw/siab.csv\")\n",
    "cache_file = Path(\"data/siab_cached.csv.gz\")\n",
    "\n",
    "# Ensure cache directory exists\n",
    "cache_file.parent.mkdir(parents=True, exist_ok=True)\n",
    "\n",
    "# Load with simple caching\n",
    "if cache_file.exists():\n",
    "    print(f\"Loading SIAB data from cache: {cache_file}\")\n",
    "    siab = pd.read_csv(cache_file, compression='gzip')\n",
    "else:\n",
    "    print(f\"Cache not found. Reading raw SIAB data: {raw_file}\")\n",
    "    siab = pd.read_csv(raw_file)\n",
    "    siab.to_csv(cache_file, index=False, compression='gzip')\n",
    "    print(f\"Cached SIAB data to: {cache_file}\")\n",
    "\n",
    "print(siab.shape)"
   ]
  },
  {
   "cell_type": "code",
   "execution_count": 10,
   "id": "058d2abb",
   "metadata": {
    "execution": {
     "iopub.execute_input": "2025-08-19T18:56:03.133890Z",
     "iopub.status.busy": "2025-08-19T18:56:03.132438Z",
     "iopub.status.idle": "2025-08-19T18:56:03.327534Z",
     "shell.execute_reply": "2025-08-19T18:56:03.326789Z"
    },
    "papermill": {
     "duration": 0.208219,
     "end_time": "2025-08-19T18:56:03.328948",
     "exception": false,
     "start_time": "2025-08-19T18:56:03.120729",
     "status": "completed"
    },
    "tags": []
   },
   "outputs": [
    {
     "data": {
      "text/html": [
       "<div>\n",
       "<style scoped>\n",
       "    .dataframe tbody tr th:only-of-type {\n",
       "        vertical-align: middle;\n",
       "    }\n",
       "\n",
       "    .dataframe tbody tr th {\n",
       "        vertical-align: top;\n",
       "    }\n",
       "\n",
       "    .dataframe thead th {\n",
       "        text-align: right;\n",
       "    }\n",
       "</style>\n",
       "<table border=\"1\" class=\"dataframe\">\n",
       "  <thead>\n",
       "    <tr style=\"text-align: right;\">\n",
       "      <th></th>\n",
       "      <th>persnr</th>\n",
       "      <th>year</th>\n",
       "      <th>nrEntry</th>\n",
       "      <th>ltue</th>\n",
       "      <th>employed_before</th>\n",
       "      <th>receipt_leh_before</th>\n",
       "      <th>receipt_lhg_before</th>\n",
       "      <th>se_before</th>\n",
       "      <th>ASU_notue_seeking_before</th>\n",
       "      <th>ASU_other_before</th>\n",
       "      <th>...</th>\n",
       "      <th>minijob_tot_dur_byage</th>\n",
       "      <th>ft_tot_dur_byage</th>\n",
       "      <th>befrist_tot_dur_byage</th>\n",
       "      <th>leih_tot_dur_byage</th>\n",
       "      <th>LHG_tot_dur_byage</th>\n",
       "      <th>LEH_tot_dur_byage</th>\n",
       "      <th>almp_tot_dur_byage</th>\n",
       "      <th>almp_aw_tot_dur_byage</th>\n",
       "      <th>se_tot_dur_byage</th>\n",
       "      <th>seeking1_tot_dur_byage</th>\n",
       "    </tr>\n",
       "  </thead>\n",
       "  <tbody>\n",
       "    <tr>\n",
       "      <th>0</th>\n",
       "      <td>7</td>\n",
       "      <td>2015</td>\n",
       "      <td>1</td>\n",
       "      <td>0</td>\n",
       "      <td>1</td>\n",
       "      <td>0</td>\n",
       "      <td>0</td>\n",
       "      <td>0</td>\n",
       "      <td>1</td>\n",
       "      <td>0</td>\n",
       "      <td>...</td>\n",
       "      <td>0.000000</td>\n",
       "      <td>0.000000</td>\n",
       "      <td>15.043478</td>\n",
       "      <td>0.000000</td>\n",
       "      <td>0.000000</td>\n",
       "      <td>0.000000</td>\n",
       "      <td>0.000000</td>\n",
       "      <td>0.000000</td>\n",
       "      <td>0.000000</td>\n",
       "      <td>0.000000</td>\n",
       "    </tr>\n",
       "    <tr>\n",
       "      <th>1</th>\n",
       "      <td>18</td>\n",
       "      <td>2010</td>\n",
       "      <td>1</td>\n",
       "      <td>1</td>\n",
       "      <td>0</td>\n",
       "      <td>0</td>\n",
       "      <td>0</td>\n",
       "      <td>0</td>\n",
       "      <td>0</td>\n",
       "      <td>0</td>\n",
       "      <td>...</td>\n",
       "      <td>0.000000</td>\n",
       "      <td>0.000000</td>\n",
       "      <td>0.000000</td>\n",
       "      <td>0.000000</td>\n",
       "      <td>0.000000</td>\n",
       "      <td>0.000000</td>\n",
       "      <td>0.000000</td>\n",
       "      <td>0.000000</td>\n",
       "      <td>0.000000</td>\n",
       "      <td>0.000000</td>\n",
       "    </tr>\n",
       "    <tr>\n",
       "      <th>2</th>\n",
       "      <td>18</td>\n",
       "      <td>2011</td>\n",
       "      <td>2</td>\n",
       "      <td>0</td>\n",
       "      <td>1</td>\n",
       "      <td>0</td>\n",
       "      <td>1</td>\n",
       "      <td>0</td>\n",
       "      <td>1</td>\n",
       "      <td>0</td>\n",
       "      <td>...</td>\n",
       "      <td>2.714286</td>\n",
       "      <td>2.714286</td>\n",
       "      <td>0.000000</td>\n",
       "      <td>0.000000</td>\n",
       "      <td>10.775510</td>\n",
       "      <td>0.000000</td>\n",
       "      <td>8.367347</td>\n",
       "      <td>0.000000</td>\n",
       "      <td>0.000000</td>\n",
       "      <td>9.836735</td>\n",
       "    </tr>\n",
       "    <tr>\n",
       "      <th>3</th>\n",
       "      <td>18</td>\n",
       "      <td>2012</td>\n",
       "      <td>3</td>\n",
       "      <td>0</td>\n",
       "      <td>1</td>\n",
       "      <td>0</td>\n",
       "      <td>1</td>\n",
       "      <td>0</td>\n",
       "      <td>1</td>\n",
       "      <td>0</td>\n",
       "      <td>...</td>\n",
       "      <td>4.200000</td>\n",
       "      <td>4.200000</td>\n",
       "      <td>0.000000</td>\n",
       "      <td>0.000000</td>\n",
       "      <td>12.100000</td>\n",
       "      <td>0.000000</td>\n",
       "      <td>9.400000</td>\n",
       "      <td>0.000000</td>\n",
       "      <td>0.000000</td>\n",
       "      <td>9.960000</td>\n",
       "    </tr>\n",
       "    <tr>\n",
       "      <th>4</th>\n",
       "      <td>18</td>\n",
       "      <td>2012</td>\n",
       "      <td>4</td>\n",
       "      <td>0</td>\n",
       "      <td>1</td>\n",
       "      <td>0</td>\n",
       "      <td>1</td>\n",
       "      <td>0</td>\n",
       "      <td>1</td>\n",
       "      <td>0</td>\n",
       "      <td>...</td>\n",
       "      <td>5.460000</td>\n",
       "      <td>5.460000</td>\n",
       "      <td>0.000000</td>\n",
       "      <td>0.000000</td>\n",
       "      <td>13.360000</td>\n",
       "      <td>0.000000</td>\n",
       "      <td>10.320000</td>\n",
       "      <td>0.000000</td>\n",
       "      <td>0.000000</td>\n",
       "      <td>10.280000</td>\n",
       "    </tr>\n",
       "    <tr>\n",
       "      <th>...</th>\n",
       "      <td>...</td>\n",
       "      <td>...</td>\n",
       "      <td>...</td>\n",
       "      <td>...</td>\n",
       "      <td>...</td>\n",
       "      <td>...</td>\n",
       "      <td>...</td>\n",
       "      <td>...</td>\n",
       "      <td>...</td>\n",
       "      <td>...</td>\n",
       "      <td>...</td>\n",
       "      <td>...</td>\n",
       "      <td>...</td>\n",
       "      <td>...</td>\n",
       "      <td>...</td>\n",
       "      <td>...</td>\n",
       "      <td>...</td>\n",
       "      <td>...</td>\n",
       "      <td>...</td>\n",
       "      <td>...</td>\n",
       "      <td>...</td>\n",
       "    </tr>\n",
       "    <tr>\n",
       "      <th>643685</th>\n",
       "      <td>1827860</td>\n",
       "      <td>2013</td>\n",
       "      <td>1</td>\n",
       "      <td>0</td>\n",
       "      <td>0</td>\n",
       "      <td>0</td>\n",
       "      <td>1</td>\n",
       "      <td>0</td>\n",
       "      <td>0</td>\n",
       "      <td>1</td>\n",
       "      <td>...</td>\n",
       "      <td>0.000000</td>\n",
       "      <td>0.000000</td>\n",
       "      <td>0.000000</td>\n",
       "      <td>0.000000</td>\n",
       "      <td>0.612903</td>\n",
       "      <td>0.000000</td>\n",
       "      <td>0.000000</td>\n",
       "      <td>0.000000</td>\n",
       "      <td>0.000000</td>\n",
       "      <td>0.000000</td>\n",
       "    </tr>\n",
       "    <tr>\n",
       "      <th>643686</th>\n",
       "      <td>1827860</td>\n",
       "      <td>2015</td>\n",
       "      <td>2</td>\n",
       "      <td>1</td>\n",
       "      <td>0</td>\n",
       "      <td>0</td>\n",
       "      <td>1</td>\n",
       "      <td>0</td>\n",
       "      <td>1</td>\n",
       "      <td>0</td>\n",
       "      <td>...</td>\n",
       "      <td>0.000000</td>\n",
       "      <td>0.000000</td>\n",
       "      <td>0.212121</td>\n",
       "      <td>0.212121</td>\n",
       "      <td>17.363636</td>\n",
       "      <td>0.000000</td>\n",
       "      <td>8.909091</td>\n",
       "      <td>0.000000</td>\n",
       "      <td>0.000000</td>\n",
       "      <td>7.121212</td>\n",
       "    </tr>\n",
       "    <tr>\n",
       "      <th>643687</th>\n",
       "      <td>1827860</td>\n",
       "      <td>2016</td>\n",
       "      <td>3</td>\n",
       "      <td>1</td>\n",
       "      <td>0</td>\n",
       "      <td>0</td>\n",
       "      <td>1</td>\n",
       "      <td>1</td>\n",
       "      <td>0</td>\n",
       "      <td>1</td>\n",
       "      <td>...</td>\n",
       "      <td>0.000000</td>\n",
       "      <td>0.000000</td>\n",
       "      <td>0.294118</td>\n",
       "      <td>0.205882</td>\n",
       "      <td>34.705882</td>\n",
       "      <td>0.000000</td>\n",
       "      <td>10.352941</td>\n",
       "      <td>1.705882</td>\n",
       "      <td>1.705882</td>\n",
       "      <td>23.911765</td>\n",
       "    </tr>\n",
       "    <tr>\n",
       "      <th>643688</th>\n",
       "      <td>1827869</td>\n",
       "      <td>2013</td>\n",
       "      <td>1</td>\n",
       "      <td>1</td>\n",
       "      <td>1</td>\n",
       "      <td>0</td>\n",
       "      <td>0</td>\n",
       "      <td>0</td>\n",
       "      <td>1</td>\n",
       "      <td>0</td>\n",
       "      <td>...</td>\n",
       "      <td>0.000000</td>\n",
       "      <td>0.000000</td>\n",
       "      <td>0.000000</td>\n",
       "      <td>0.000000</td>\n",
       "      <td>0.000000</td>\n",
       "      <td>0.525424</td>\n",
       "      <td>0.000000</td>\n",
       "      <td>0.000000</td>\n",
       "      <td>0.000000</td>\n",
       "      <td>0.000000</td>\n",
       "    </tr>\n",
       "    <tr>\n",
       "      <th>643689</th>\n",
       "      <td>1827869</td>\n",
       "      <td>2014</td>\n",
       "      <td>2</td>\n",
       "      <td>0</td>\n",
       "      <td>0</td>\n",
       "      <td>1</td>\n",
       "      <td>0</td>\n",
       "      <td>0</td>\n",
       "      <td>1</td>\n",
       "      <td>0</td>\n",
       "      <td>...</td>\n",
       "      <td>0.000000</td>\n",
       "      <td>0.666667</td>\n",
       "      <td>0.666667</td>\n",
       "      <td>0.000000</td>\n",
       "      <td>0.000000</td>\n",
       "      <td>8.950000</td>\n",
       "      <td>1.033333</td>\n",
       "      <td>0.083333</td>\n",
       "      <td>0.083333</td>\n",
       "      <td>8.133333</td>\n",
       "    </tr>\n",
       "  </tbody>\n",
       "</table>\n",
       "<p>643690 rows × 164 columns</p>\n",
       "</div>"
      ],
      "text/plain": [
       "         persnr  year  nrEntry  ltue  employed_before  receipt_leh_before  \\\n",
       "0             7  2015        1     0                1                   0   \n",
       "1            18  2010        1     1                0                   0   \n",
       "2            18  2011        2     0                1                   0   \n",
       "3            18  2012        3     0                1                   0   \n",
       "4            18  2012        4     0                1                   0   \n",
       "...         ...   ...      ...   ...              ...                 ...   \n",
       "643685  1827860  2013        1     0                0                   0   \n",
       "643686  1827860  2015        2     1                0                   0   \n",
       "643687  1827860  2016        3     1                0                   0   \n",
       "643688  1827869  2013        1     1                1                   0   \n",
       "643689  1827869  2014        2     0                0                   1   \n",
       "\n",
       "        receipt_lhg_before  se_before  ASU_notue_seeking_before  \\\n",
       "0                        0          0                         1   \n",
       "1                        0          0                         0   \n",
       "2                        1          0                         1   \n",
       "3                        1          0                         1   \n",
       "4                        1          0                         1   \n",
       "...                    ...        ...                       ...   \n",
       "643685                   1          0                         0   \n",
       "643686                   1          0                         1   \n",
       "643687                   1          1                         0   \n",
       "643688                   0          0                         1   \n",
       "643689                   0          0                         1   \n",
       "\n",
       "        ASU_other_before  ...  minijob_tot_dur_byage  ft_tot_dur_byage  \\\n",
       "0                      0  ...               0.000000          0.000000   \n",
       "1                      0  ...               0.000000          0.000000   \n",
       "2                      0  ...               2.714286          2.714286   \n",
       "3                      0  ...               4.200000          4.200000   \n",
       "4                      0  ...               5.460000          5.460000   \n",
       "...                  ...  ...                    ...               ...   \n",
       "643685                 1  ...               0.000000          0.000000   \n",
       "643686                 0  ...               0.000000          0.000000   \n",
       "643687                 1  ...               0.000000          0.000000   \n",
       "643688                 0  ...               0.000000          0.000000   \n",
       "643689                 0  ...               0.000000          0.666667   \n",
       "\n",
       "        befrist_tot_dur_byage  leih_tot_dur_byage  LHG_tot_dur_byage  \\\n",
       "0                   15.043478            0.000000           0.000000   \n",
       "1                    0.000000            0.000000           0.000000   \n",
       "2                    0.000000            0.000000          10.775510   \n",
       "3                    0.000000            0.000000          12.100000   \n",
       "4                    0.000000            0.000000          13.360000   \n",
       "...                       ...                 ...                ...   \n",
       "643685               0.000000            0.000000           0.612903   \n",
       "643686               0.212121            0.212121          17.363636   \n",
       "643687               0.294118            0.205882          34.705882   \n",
       "643688               0.000000            0.000000           0.000000   \n",
       "643689               0.666667            0.000000           0.000000   \n",
       "\n",
       "        LEH_tot_dur_byage  almp_tot_dur_byage  almp_aw_tot_dur_byage  \\\n",
       "0                0.000000            0.000000               0.000000   \n",
       "1                0.000000            0.000000               0.000000   \n",
       "2                0.000000            8.367347               0.000000   \n",
       "3                0.000000            9.400000               0.000000   \n",
       "4                0.000000           10.320000               0.000000   \n",
       "...                   ...                 ...                    ...   \n",
       "643685           0.000000            0.000000               0.000000   \n",
       "643686           0.000000            8.909091               0.000000   \n",
       "643687           0.000000           10.352941               1.705882   \n",
       "643688           0.525424            0.000000               0.000000   \n",
       "643689           8.950000            1.033333               0.083333   \n",
       "\n",
       "        se_tot_dur_byage  seeking1_tot_dur_byage  \n",
       "0               0.000000                0.000000  \n",
       "1               0.000000                0.000000  \n",
       "2               0.000000                9.836735  \n",
       "3               0.000000                9.960000  \n",
       "4               0.000000               10.280000  \n",
       "...                  ...                     ...  \n",
       "643685          0.000000                0.000000  \n",
       "643686          0.000000                7.121212  \n",
       "643687          1.705882               23.911765  \n",
       "643688          0.000000                0.000000  \n",
       "643689          0.083333                8.133333  \n",
       "\n",
       "[643690 rows x 164 columns]"
      ]
     },
     "execution_count": 10,
     "metadata": {},
     "output_type": "execute_result"
    }
   ],
   "source": [
    "siab"
   ]
  },
  {
   "cell_type": "markdown",
   "id": "1f87e805",
   "metadata": {
    "papermill": {
     "duration": 0.011023,
     "end_time": "2025-08-19T18:56:03.351733",
     "exception": false,
     "start_time": "2025-08-19T18:56:03.340710",
     "status": "completed"
    },
    "tags": []
   },
   "source": [
    "# Splitting Data and Setting Training Data Size"
   ]
  },
  {
   "cell_type": "code",
   "execution_count": 11,
   "id": "910ae358",
   "metadata": {
    "execution": {
     "iopub.execute_input": "2025-08-19T18:56:03.380103Z",
     "iopub.status.busy": "2025-08-19T18:56:03.373548Z",
     "iopub.status.idle": "2025-08-19T18:56:03.582791Z",
     "shell.execute_reply": "2025-08-19T18:56:03.582126Z"
    },
    "papermill": {
     "duration": 0.222189,
     "end_time": "2025-08-19T18:56:03.584311",
     "exception": false,
     "start_time": "2025-08-19T18:56:03.362122",
     "status": "completed"
    },
    "tags": []
   },
   "outputs": [],
   "source": [
    "from fairness_multiverse.universe import sample_by_year_size\n",
    "\n",
    "siab_train = sample_by_year_size(siab,\n",
    "                               training_year=universe[\"training_year\"],\n",
    "                               training_size=universe[\"training_size\"])"
   ]
  },
  {
   "cell_type": "code",
   "execution_count": 12,
   "id": "919c8ff5",
   "metadata": {
    "execution": {
     "iopub.execute_input": "2025-08-19T18:56:03.607008Z",
     "iopub.status.busy": "2025-08-19T18:56:03.606076Z",
     "iopub.status.idle": "2025-08-19T18:56:03.614031Z",
     "shell.execute_reply": "2025-08-19T18:56:03.613074Z"
    },
    "papermill": {
     "duration": 0.020629,
     "end_time": "2025-08-19T18:56:03.615491",
     "exception": false,
     "start_time": "2025-08-19T18:56:03.594862",
     "status": "completed"
    },
    "tags": []
   },
   "outputs": [
    {
     "data": {
      "text/plain": [
       "(1000, 164)"
      ]
     },
     "execution_count": 12,
     "metadata": {},
     "output_type": "execute_result"
    }
   ],
   "source": [
    "siab_train.shape"
   ]
  },
  {
   "cell_type": "code",
   "execution_count": 13,
   "id": "feb13bf4",
   "metadata": {
    "execution": {
     "iopub.execute_input": "2025-08-19T18:56:03.641819Z",
     "iopub.status.busy": "2025-08-19T18:56:03.640366Z",
     "iopub.status.idle": "2025-08-19T18:56:03.656185Z",
     "shell.execute_reply": "2025-08-19T18:56:03.655095Z"
    },
    "papermill": {
     "duration": 0.029098,
     "end_time": "2025-08-19T18:56:03.657700",
     "exception": false,
     "start_time": "2025-08-19T18:56:03.628602",
     "status": "completed"
    },
    "tags": []
   },
   "outputs": [
    {
     "data": {
      "text/plain": [
       "year\n",
       "2014    1000\n",
       "dtype: int64"
      ]
     },
     "metadata": {},
     "output_type": "display_data"
    }
   ],
   "source": [
    "display(siab_train.groupby(\"year\").size())"
   ]
  },
  {
   "cell_type": "code",
   "execution_count": 14,
   "id": "0997782f",
   "metadata": {
    "execution": {
     "iopub.execute_input": "2025-08-19T18:56:03.697439Z",
     "iopub.status.busy": "2025-08-19T18:56:03.696184Z",
     "iopub.status.idle": "2025-08-19T18:56:03.929574Z",
     "shell.execute_reply": "2025-08-19T18:56:03.928880Z"
    },
    "papermill": {
     "duration": 0.255184,
     "end_time": "2025-08-19T18:56:03.933082",
     "exception": false,
     "start_time": "2025-08-19T18:56:03.677898",
     "status": "completed"
    },
    "tags": []
   },
   "outputs": [],
   "source": [
    "#siab_train = siab_s[siab_s.year < 2015]\n",
    "siab_calib = siab[siab.year == 2015]\n",
    "siab_test = siab[siab.year == 2016]"
   ]
  },
  {
   "cell_type": "code",
   "execution_count": 15,
   "id": "2c1e4012",
   "metadata": {
    "execution": {
     "iopub.execute_input": "2025-08-19T18:56:03.972887Z",
     "iopub.status.busy": "2025-08-19T18:56:03.971641Z",
     "iopub.status.idle": "2025-08-19T18:56:03.980087Z",
     "shell.execute_reply": "2025-08-19T18:56:03.978427Z"
    },
    "papermill": {
     "duration": 0.024315,
     "end_time": "2025-08-19T18:56:03.982069",
     "exception": false,
     "start_time": "2025-08-19T18:56:03.957754",
     "status": "completed"
    },
    "tags": []
   },
   "outputs": [],
   "source": [
    "#siab_calib.shape"
   ]
  },
  {
   "cell_type": "code",
   "execution_count": 16,
   "id": "f66b54ca",
   "metadata": {
    "execution": {
     "iopub.execute_input": "2025-08-19T18:56:04.007619Z",
     "iopub.status.busy": "2025-08-19T18:56:04.006465Z",
     "iopub.status.idle": "2025-08-19T18:56:04.014678Z",
     "shell.execute_reply": "2025-08-19T18:56:04.013051Z"
    },
    "papermill": {
     "duration": 0.022023,
     "end_time": "2025-08-19T18:56:04.016430",
     "exception": false,
     "start_time": "2025-08-19T18:56:03.994407",
     "status": "completed"
    },
    "tags": []
   },
   "outputs": [],
   "source": [
    "#siab_test.shape"
   ]
  },
  {
   "cell_type": "code",
   "execution_count": 17,
   "id": "27e4384d",
   "metadata": {
    "execution": {
     "iopub.execute_input": "2025-08-19T18:56:04.044779Z",
     "iopub.status.busy": "2025-08-19T18:56:04.042287Z",
     "iopub.status.idle": "2025-08-19T18:56:04.054516Z",
     "shell.execute_reply": "2025-08-19T18:56:04.052951Z"
    },
    "papermill": {
     "duration": 0.026549,
     "end_time": "2025-08-19T18:56:04.056727",
     "exception": false,
     "start_time": "2025-08-19T18:56:04.030178",
     "status": "completed"
    },
    "tags": []
   },
   "outputs": [],
   "source": [
    "X_train = siab_train.iloc[:,4:164]\n",
    "y_train = siab_train.iloc[:, [3]]"
   ]
  },
  {
   "cell_type": "code",
   "execution_count": 18,
   "id": "08ee8389",
   "metadata": {
    "execution": {
     "iopub.execute_input": "2025-08-19T18:56:04.088928Z",
     "iopub.status.busy": "2025-08-19T18:56:04.087529Z",
     "iopub.status.idle": "2025-08-19T18:56:04.142239Z",
     "shell.execute_reply": "2025-08-19T18:56:04.141566Z"
    },
    "papermill": {
     "duration": 0.071098,
     "end_time": "2025-08-19T18:56:04.145555",
     "exception": false,
     "start_time": "2025-08-19T18:56:04.074457",
     "status": "completed"
    },
    "tags": []
   },
   "outputs": [],
   "source": [
    "X_calib = siab_calib.iloc[:,4:164]\n",
    "y_calib = siab_calib.iloc[:, [3]]"
   ]
  },
  {
   "cell_type": "code",
   "execution_count": 19,
   "id": "b7ff42e0",
   "metadata": {
    "execution": {
     "iopub.execute_input": "2025-08-19T18:56:04.184320Z",
     "iopub.status.busy": "2025-08-19T18:56:04.183122Z",
     "iopub.status.idle": "2025-08-19T18:56:04.240143Z",
     "shell.execute_reply": "2025-08-19T18:56:04.239403Z"
    },
    "papermill": {
     "duration": 0.074459,
     "end_time": "2025-08-19T18:56:04.243559",
     "exception": false,
     "start_time": "2025-08-19T18:56:04.169100",
     "status": "completed"
    },
    "tags": []
   },
   "outputs": [],
   "source": [
    "X_test = siab_test.iloc[:,4:164]\n",
    "y_true = siab_test.iloc[:, [3]]"
   ]
  },
  {
   "cell_type": "code",
   "execution_count": 20,
   "id": "0275101e",
   "metadata": {
    "execution": {
     "iopub.execute_input": "2025-08-19T18:56:04.292188Z",
     "iopub.status.busy": "2025-08-19T18:56:04.291009Z",
     "iopub.status.idle": "2025-08-19T18:56:04.400266Z",
     "shell.execute_reply": "2025-08-19T18:56:04.399418Z"
    },
    "papermill": {
     "duration": 0.134415,
     "end_time": "2025-08-19T18:56:04.401987",
     "exception": false,
     "start_time": "2025-08-19T18:56:04.267572",
     "status": "completed"
    },
    "tags": []
   },
   "outputs": [],
   "source": [
    "# Auxiliary data needed downstream in the pipeline\n",
    "\n",
    "org_train = X_train.copy()\n",
    "org_test = X_test.copy()\n",
    "org_calib = X_calib.copy()"
   ]
  },
  {
   "cell_type": "markdown",
   "id": "b461e618",
   "metadata": {
    "papermill": {
     "duration": 0.013455,
     "end_time": "2025-08-19T18:56:04.431295",
     "exception": false,
     "start_time": "2025-08-19T18:56:04.417840",
     "status": "completed"
    },
    "tags": []
   },
   "source": [
    "# Preprocessing Data"
   ]
  },
  {
   "cell_type": "code",
   "execution_count": 21,
   "id": "78e74c4b",
   "metadata": {
    "execution": {
     "iopub.execute_input": "2025-08-19T18:56:04.470515Z",
     "iopub.status.busy": "2025-08-19T18:56:04.469332Z",
     "iopub.status.idle": "2025-08-19T18:56:04.479329Z",
     "shell.execute_reply": "2025-08-19T18:56:04.477696Z"
    },
    "papermill": {
     "duration": 0.025968,
     "end_time": "2025-08-19T18:56:04.480937",
     "exception": false,
     "start_time": "2025-08-19T18:56:04.454969",
     "status": "completed"
    },
    "tags": []
   },
   "outputs": [],
   "source": [
    "# EXCLUDE PROTECTED FEATURES\n",
    "# --------------------------\n",
    "\n",
    "excluded_features = universe[\"exclude_features\"].split(\"-\")\n",
    "excluded_features_dictionary = {\n",
    "    \"nationality\": [\"maxdeutsch1\", \"maxdeutsch.Missing.\"],\n",
    "    \"sex\": [\"frau1\"],\n",
    "    \"age\": [\"age\"],\n",
    "}"
   ]
  },
  {
   "cell_type": "code",
   "execution_count": 22,
   "id": "f8e63555",
   "metadata": {
    "execution": {
     "iopub.execute_input": "2025-08-19T18:56:04.507866Z",
     "iopub.status.busy": "2025-08-19T18:56:04.506695Z",
     "iopub.status.idle": "2025-08-19T18:56:04.516411Z",
     "shell.execute_reply": "2025-08-19T18:56:04.514817Z"
    },
    "papermill": {
     "duration": 0.031411,
     "end_time": "2025-08-19T18:56:04.525916",
     "exception": false,
     "start_time": "2025-08-19T18:56:04.494505",
     "status": "completed"
    },
    "tags": []
   },
   "outputs": [],
   "source": [
    "excluded_features_columns = [\n",
    "    excluded_features_dictionary[f] for f in excluded_features if len(f) > 0 and f != \"none\"\n",
    "]"
   ]
  },
  {
   "cell_type": "code",
   "execution_count": 23,
   "id": "da781f7c",
   "metadata": {
    "execution": {
     "iopub.execute_input": "2025-08-19T18:56:04.556858Z",
     "iopub.status.busy": "2025-08-19T18:56:04.555656Z",
     "iopub.status.idle": "2025-08-19T18:56:04.563110Z",
     "shell.execute_reply": "2025-08-19T18:56:04.561408Z"
    },
    "papermill": {
     "duration": 0.023486,
     "end_time": "2025-08-19T18:56:04.565983",
     "exception": false,
     "start_time": "2025-08-19T18:56:04.542497",
     "status": "completed"
    },
    "tags": []
   },
   "outputs": [],
   "source": [
    "from fairness_multiverse.universe import flatten_once\n",
    "\n",
    "excluded_features_columns = flatten_once(excluded_features_columns)"
   ]
  },
  {
   "cell_type": "code",
   "execution_count": 24,
   "id": "37fef0f0",
   "metadata": {
    "execution": {
     "iopub.execute_input": "2025-08-19T18:56:04.594600Z",
     "iopub.status.busy": "2025-08-19T18:56:04.593324Z",
     "iopub.status.idle": "2025-08-19T18:56:04.602765Z",
     "shell.execute_reply": "2025-08-19T18:56:04.601063Z"
    },
    "papermill": {
     "duration": 0.023357,
     "end_time": "2025-08-19T18:56:04.604616",
     "exception": false,
     "start_time": "2025-08-19T18:56:04.581259",
     "status": "completed"
    },
    "tags": []
   },
   "outputs": [],
   "source": [
    "if len(excluded_features_columns) > 0:\n",
    "    print(f\"Dropping features: {excluded_features_columns}\")\n",
    "    X_train.drop(excluded_features_columns, axis=1, inplace=True)"
   ]
  },
  {
   "cell_type": "code",
   "execution_count": 25,
   "id": "d029e3e9",
   "metadata": {
    "execution": {
     "iopub.execute_input": "2025-08-19T18:56:04.631812Z",
     "iopub.status.busy": "2025-08-19T18:56:04.630375Z",
     "iopub.status.idle": "2025-08-19T18:56:04.638935Z",
     "shell.execute_reply": "2025-08-19T18:56:04.637615Z"
    },
    "papermill": {
     "duration": 0.022552,
     "end_time": "2025-08-19T18:56:04.640448",
     "exception": false,
     "start_time": "2025-08-19T18:56:04.617896",
     "status": "completed"
    },
    "tags": []
   },
   "outputs": [],
   "source": [
    "if len(excluded_features_columns) > 0:\n",
    "    print(f\"Dropping features: {excluded_features_columns}\")\n",
    "    X_test.drop(excluded_features_columns, axis=1, inplace=True)"
   ]
  },
  {
   "cell_type": "code",
   "execution_count": 26,
   "id": "01d571f0",
   "metadata": {
    "execution": {
     "iopub.execute_input": "2025-08-19T18:56:04.668307Z",
     "iopub.status.busy": "2025-08-19T18:56:04.667146Z",
     "iopub.status.idle": "2025-08-19T18:56:04.675933Z",
     "shell.execute_reply": "2025-08-19T18:56:04.674468Z"
    },
    "papermill": {
     "duration": 0.02299,
     "end_time": "2025-08-19T18:56:04.677804",
     "exception": false,
     "start_time": "2025-08-19T18:56:04.654814",
     "status": "completed"
    },
    "tags": []
   },
   "outputs": [],
   "source": [
    "if len(excluded_features_columns) > 0:\n",
    "    print(f\"Dropping features: {excluded_features_columns}\")\n",
    "    X_calib.drop(excluded_features_columns, axis=1, inplace=True)"
   ]
  },
  {
   "cell_type": "code",
   "execution_count": 27,
   "id": "3037356e",
   "metadata": {
    "execution": {
     "iopub.execute_input": "2025-08-19T18:56:04.702140Z",
     "iopub.status.busy": "2025-08-19T18:56:04.701526Z",
     "iopub.status.idle": "2025-08-19T18:56:04.707488Z",
     "shell.execute_reply": "2025-08-19T18:56:04.706491Z"
    },
    "papermill": {
     "duration": 0.019692,
     "end_time": "2025-08-19T18:56:04.708893",
     "exception": false,
     "start_time": "2025-08-19T18:56:04.689201",
     "status": "completed"
    },
    "tags": []
   },
   "outputs": [],
   "source": [
    "# EXCLUDE CERTAIN SUBGROUPS\n",
    "# -------------------------\n",
    "\n",
    "mode = universe.get(\"exclude_subgroups\", \"keep-all\") # Defaults to \"keep-all\" if the key is missing."
   ]
  },
  {
   "cell_type": "code",
   "execution_count": 28,
   "id": "9d1e63fd",
   "metadata": {
    "execution": {
     "iopub.execute_input": "2025-08-19T18:56:04.733388Z",
     "iopub.status.busy": "2025-08-19T18:56:04.732923Z",
     "iopub.status.idle": "2025-08-19T18:56:04.739908Z",
     "shell.execute_reply": "2025-08-19T18:56:04.738940Z"
    },
    "papermill": {
     "duration": 0.021099,
     "end_time": "2025-08-19T18:56:04.741259",
     "exception": false,
     "start_time": "2025-08-19T18:56:04.720160",
     "status": "completed"
    },
    "tags": []
   },
   "outputs": [],
   "source": [
    "if mode == \"keep-all\":\n",
    "    keep_mask = pd.Series(True, index=org_train.index)\n",
    "\n",
    "elif mode == \"drop-non-german\":\n",
    "    keep_mask = (org_train[\"maxdeutsch1\"] == 1) & (org_train[\"maxdeutsch.Missing.\"] == 0)\n",
    "\n",
    "else:\n",
    "    raise ValueError(f\"Unsupported mode for exclude_subgroups: {mode}\")"
   ]
  },
  {
   "cell_type": "code",
   "execution_count": 29,
   "id": "d3b65474",
   "metadata": {
    "execution": {
     "iopub.execute_input": "2025-08-19T18:56:04.766931Z",
     "iopub.status.busy": "2025-08-19T18:56:04.766439Z",
     "iopub.status.idle": "2025-08-19T18:56:04.772715Z",
     "shell.execute_reply": "2025-08-19T18:56:04.771911Z"
    },
    "papermill": {
     "duration": 0.021711,
     "end_time": "2025-08-19T18:56:04.775924",
     "exception": false,
     "start_time": "2025-08-19T18:56:04.754213",
     "status": "completed"
    },
    "tags": []
   },
   "outputs": [
    {
     "name": "stdout",
     "output_type": "stream",
     "text": [
      "Dropping 147 rows (14.70%) where mode='drop-non-german'\n"
     ]
    }
   ],
   "source": [
    "n_drop = (~keep_mask).sum() # Calculates how many rows are set to be dropped\n",
    "if n_drop > 0:\n",
    "    pct = n_drop / len(keep_mask) * 100\n",
    "    print(f\"Dropping {n_drop} rows ({pct:.2f}%) where mode='{mode}'\")"
   ]
  },
  {
   "cell_type": "code",
   "execution_count": 30,
   "id": "f44389b3",
   "metadata": {
    "execution": {
     "iopub.execute_input": "2025-08-19T18:56:04.801102Z",
     "iopub.status.busy": "2025-08-19T18:56:04.800612Z",
     "iopub.status.idle": "2025-08-19T18:56:04.806537Z",
     "shell.execute_reply": "2025-08-19T18:56:04.805821Z"
    },
    "papermill": {
     "duration": 0.019396,
     "end_time": "2025-08-19T18:56:04.807818",
     "exception": false,
     "start_time": "2025-08-19T18:56:04.788422",
     "status": "completed"
    },
    "tags": []
   },
   "outputs": [],
   "source": [
    "X_train = X_train[keep_mask]"
   ]
  },
  {
   "cell_type": "code",
   "execution_count": 31,
   "id": "ceca8c2a",
   "metadata": {
    "execution": {
     "iopub.execute_input": "2025-08-19T18:56:04.831820Z",
     "iopub.status.busy": "2025-08-19T18:56:04.831361Z",
     "iopub.status.idle": "2025-08-19T18:56:04.836210Z",
     "shell.execute_reply": "2025-08-19T18:56:04.835498Z"
    },
    "papermill": {
     "duration": 0.018365,
     "end_time": "2025-08-19T18:56:04.837473",
     "exception": false,
     "start_time": "2025-08-19T18:56:04.819108",
     "status": "completed"
    },
    "tags": []
   },
   "outputs": [],
   "source": [
    "y_train = y_train[keep_mask]"
   ]
  },
  {
   "cell_type": "markdown",
   "id": "04d31e2f",
   "metadata": {
    "papermill": {
     "duration": 0.011217,
     "end_time": "2025-08-19T18:56:04.860086",
     "exception": false,
     "start_time": "2025-08-19T18:56:04.848869",
     "status": "completed"
    },
    "tags": []
   },
   "source": [
    "# Model Training"
   ]
  },
  {
   "cell_type": "code",
   "execution_count": 32,
   "id": "db991733",
   "metadata": {
    "execution": {
     "iopub.execute_input": "2025-08-19T18:56:04.883885Z",
     "iopub.status.busy": "2025-08-19T18:56:04.883394Z",
     "iopub.status.idle": "2025-08-19T18:56:04.982781Z",
     "shell.execute_reply": "2025-08-19T18:56:04.982009Z"
    },
    "papermill": {
     "duration": 0.113512,
     "end_time": "2025-08-19T18:56:04.984699",
     "exception": false,
     "start_time": "2025-08-19T18:56:04.871187",
     "status": "completed"
    },
    "tags": []
   },
   "outputs": [],
   "source": [
    "from sklearn.linear_model import LogisticRegression\n",
    "from sklearn.ensemble import GradientBoostingClassifier, RandomForestClassifier\n",
    "\n",
    "if (universe[\"model\"] == \"logreg\"):\n",
    "    model = LogisticRegression() #penalty=\"none\", solver=\"newton-cg\", max_iter=1)\n",
    "elif (universe[\"model\"] == \"penalized_logreg\"):\n",
    "    model = LogisticRegression(penalty=\"l2\", C=0.1) #, solver=\"newton-cg\", max_iter=1)\n",
    "elif (universe[\"model\"] == \"rf\"):\n",
    "    model = RandomForestClassifier() # n_estimators=100, n_jobs=-1\n",
    "elif (universe[\"model\"] == \"gbm\"):\n",
    "    model = GradientBoostingClassifier()\n",
    "elif (universe[\"model\"] == \"elasticnet\"):\n",
    "    model = LogisticRegression(penalty = 'elasticnet', solver = 'saga', l1_ratio = 0.5) # max_iter=5000\n",
    "else:\n",
    "    raise \"Unsupported universe.model\""
   ]
  },
  {
   "cell_type": "code",
   "execution_count": 33,
   "id": "a4b5cd25",
   "metadata": {
    "execution": {
     "iopub.execute_input": "2025-08-19T18:56:05.013359Z",
     "iopub.status.busy": "2025-08-19T18:56:05.011919Z",
     "iopub.status.idle": "2025-08-19T18:56:05.022337Z",
     "shell.execute_reply": "2025-08-19T18:56:05.020976Z"
    },
    "papermill": {
     "duration": 0.026408,
     "end_time": "2025-08-19T18:56:05.024314",
     "exception": false,
     "start_time": "2025-08-19T18:56:04.997906",
     "status": "completed"
    },
    "tags": []
   },
   "outputs": [],
   "source": [
    "from sklearn.pipeline import Pipeline\n",
    "from sklearn.preprocessing import StandardScaler\n",
    "\n",
    "model = Pipeline([\n",
    "    #(\"continuous_processor\", continuous_processor),\n",
    "    #(\"categorical_preprocessor\", categorical_preprocessor),\n",
    "    (\"scale\", StandardScaler() if universe[\"scale\"] == \"scale\" else None), \n",
    "    (\"model\", model),\n",
    "])"
   ]
  },
  {
   "cell_type": "code",
   "execution_count": 34,
   "id": "283a904d",
   "metadata": {
    "execution": {
     "iopub.execute_input": "2025-08-19T18:56:05.052523Z",
     "iopub.status.busy": "2025-08-19T18:56:05.051390Z",
     "iopub.status.idle": "2025-08-19T18:56:05.300800Z",
     "shell.execute_reply": "2025-08-19T18:56:05.299382Z"
    },
    "papermill": {
     "duration": 0.269972,
     "end_time": "2025-08-19T18:56:05.308214",
     "exception": false,
     "start_time": "2025-08-19T18:56:05.038242",
     "status": "completed"
    },
    "tags": []
   },
   "outputs": [
    {
     "name": "stderr",
     "output_type": "stream",
     "text": [
      "/dss/dsshome1/0C/ra93lal2/.local/share/virtualenvs/CMA_Fairness_v2-3j10GkSs/lib/python3.10/site-packages/sklearn/linear_model/_sag.py:350: ConvergenceWarning: The max_iter was reached which means the coef_ did not converge\n",
      "  warnings.warn(\n"
     ]
    },
    {
     "data": {
      "text/html": [
       "<style>#sk-container-id-1 {color: black;background-color: white;}#sk-container-id-1 pre{padding: 0;}#sk-container-id-1 div.sk-toggleable {background-color: white;}#sk-container-id-1 label.sk-toggleable__label {cursor: pointer;display: block;width: 100%;margin-bottom: 0;padding: 0.3em;box-sizing: border-box;text-align: center;}#sk-container-id-1 label.sk-toggleable__label-arrow:before {content: \"▸\";float: left;margin-right: 0.25em;color: #696969;}#sk-container-id-1 label.sk-toggleable__label-arrow:hover:before {color: black;}#sk-container-id-1 div.sk-estimator:hover label.sk-toggleable__label-arrow:before {color: black;}#sk-container-id-1 div.sk-toggleable__content {max-height: 0;max-width: 0;overflow: hidden;text-align: left;background-color: #f0f8ff;}#sk-container-id-1 div.sk-toggleable__content pre {margin: 0.2em;color: black;border-radius: 0.25em;background-color: #f0f8ff;}#sk-container-id-1 input.sk-toggleable__control:checked~div.sk-toggleable__content {max-height: 200px;max-width: 100%;overflow: auto;}#sk-container-id-1 input.sk-toggleable__control:checked~label.sk-toggleable__label-arrow:before {content: \"▾\";}#sk-container-id-1 div.sk-estimator input.sk-toggleable__control:checked~label.sk-toggleable__label {background-color: #d4ebff;}#sk-container-id-1 div.sk-label input.sk-toggleable__control:checked~label.sk-toggleable__label {background-color: #d4ebff;}#sk-container-id-1 input.sk-hidden--visually {border: 0;clip: rect(1px 1px 1px 1px);clip: rect(1px, 1px, 1px, 1px);height: 1px;margin: -1px;overflow: hidden;padding: 0;position: absolute;width: 1px;}#sk-container-id-1 div.sk-estimator {font-family: monospace;background-color: #f0f8ff;border: 1px dotted black;border-radius: 0.25em;box-sizing: border-box;margin-bottom: 0.5em;}#sk-container-id-1 div.sk-estimator:hover {background-color: #d4ebff;}#sk-container-id-1 div.sk-parallel-item::after {content: \"\";width: 100%;border-bottom: 1px solid gray;flex-grow: 1;}#sk-container-id-1 div.sk-label:hover label.sk-toggleable__label {background-color: #d4ebff;}#sk-container-id-1 div.sk-serial::before {content: \"\";position: absolute;border-left: 1px solid gray;box-sizing: border-box;top: 0;bottom: 0;left: 50%;z-index: 0;}#sk-container-id-1 div.sk-serial {display: flex;flex-direction: column;align-items: center;background-color: white;padding-right: 0.2em;padding-left: 0.2em;position: relative;}#sk-container-id-1 div.sk-item {position: relative;z-index: 1;}#sk-container-id-1 div.sk-parallel {display: flex;align-items: stretch;justify-content: center;background-color: white;position: relative;}#sk-container-id-1 div.sk-item::before, #sk-container-id-1 div.sk-parallel-item::before {content: \"\";position: absolute;border-left: 1px solid gray;box-sizing: border-box;top: 0;bottom: 0;left: 50%;z-index: -1;}#sk-container-id-1 div.sk-parallel-item {display: flex;flex-direction: column;z-index: 1;position: relative;background-color: white;}#sk-container-id-1 div.sk-parallel-item:first-child::after {align-self: flex-end;width: 50%;}#sk-container-id-1 div.sk-parallel-item:last-child::after {align-self: flex-start;width: 50%;}#sk-container-id-1 div.sk-parallel-item:only-child::after {width: 0;}#sk-container-id-1 div.sk-dashed-wrapped {border: 1px dashed gray;margin: 0 0.4em 0.5em 0.4em;box-sizing: border-box;padding-bottom: 0.4em;background-color: white;}#sk-container-id-1 div.sk-label label {font-family: monospace;font-weight: bold;display: inline-block;line-height: 1.2em;}#sk-container-id-1 div.sk-label-container {text-align: center;}#sk-container-id-1 div.sk-container {/* jupyter's `normalize.less` sets `[hidden] { display: none; }` but bootstrap.min.css set `[hidden] { display: none !important; }` so we also need the `!important` here to be able to override the default hidden behavior on the sphinx rendered scikit-learn.org. See: https://github.com/scikit-learn/scikit-learn/issues/21755 */display: inline-block !important;position: relative;}#sk-container-id-1 div.sk-text-repr-fallback {display: none;}</style><div id=\"sk-container-id-1\" class=\"sk-top-container\"><div class=\"sk-text-repr-fallback\"><pre>Pipeline(steps=[(&#x27;scale&#x27;, None),\n",
       "                (&#x27;model&#x27;,\n",
       "                 LogisticRegression(l1_ratio=0.5, penalty=&#x27;elasticnet&#x27;,\n",
       "                                    solver=&#x27;saga&#x27;))])</pre><b>In a Jupyter environment, please rerun this cell to show the HTML representation or trust the notebook. <br />On GitHub, the HTML representation is unable to render, please try loading this page with nbviewer.org.</b></div><div class=\"sk-container\" hidden><div class=\"sk-item sk-dashed-wrapped\"><div class=\"sk-label-container\"><div class=\"sk-label sk-toggleable\"><input class=\"sk-toggleable__control sk-hidden--visually\" id=\"sk-estimator-id-1\" type=\"checkbox\" ><label for=\"sk-estimator-id-1\" class=\"sk-toggleable__label sk-toggleable__label-arrow\">Pipeline</label><div class=\"sk-toggleable__content\"><pre>Pipeline(steps=[(&#x27;scale&#x27;, None),\n",
       "                (&#x27;model&#x27;,\n",
       "                 LogisticRegression(l1_ratio=0.5, penalty=&#x27;elasticnet&#x27;,\n",
       "                                    solver=&#x27;saga&#x27;))])</pre></div></div></div><div class=\"sk-serial\"><div class=\"sk-item\"><div class=\"sk-estimator sk-toggleable\"><input class=\"sk-toggleable__control sk-hidden--visually\" id=\"sk-estimator-id-2\" type=\"checkbox\" ><label for=\"sk-estimator-id-2\" class=\"sk-toggleable__label sk-toggleable__label-arrow\">None</label><div class=\"sk-toggleable__content\"><pre>None</pre></div></div></div><div class=\"sk-item\"><div class=\"sk-estimator sk-toggleable\"><input class=\"sk-toggleable__control sk-hidden--visually\" id=\"sk-estimator-id-3\" type=\"checkbox\" ><label for=\"sk-estimator-id-3\" class=\"sk-toggleable__label sk-toggleable__label-arrow\">LogisticRegression</label><div class=\"sk-toggleable__content\"><pre>LogisticRegression(l1_ratio=0.5, penalty=&#x27;elasticnet&#x27;, solver=&#x27;saga&#x27;)</pre></div></div></div></div></div></div></div>"
      ],
      "text/plain": [
       "Pipeline(steps=[('scale', None),\n",
       "                ('model',\n",
       "                 LogisticRegression(l1_ratio=0.5, penalty='elasticnet',\n",
       "                                    solver='saga'))])"
      ]
     },
     "execution_count": 34,
     "metadata": {},
     "output_type": "execute_result"
    }
   ],
   "source": [
    "model.fit(X_train, y_train.values.ravel())"
   ]
  },
  {
   "cell_type": "code",
   "execution_count": 35,
   "id": "6e15e313",
   "metadata": {
    "execution": {
     "iopub.execute_input": "2025-08-19T18:56:05.343966Z",
     "iopub.status.busy": "2025-08-19T18:56:05.342810Z",
     "iopub.status.idle": "2025-08-19T18:56:05.468852Z",
     "shell.execute_reply": "2025-08-19T18:56:05.467923Z"
    },
    "papermill": {
     "duration": 0.14168,
     "end_time": "2025-08-19T18:56:05.470220",
     "exception": false,
     "start_time": "2025-08-19T18:56:05.328540",
     "status": "completed"
    },
    "tags": []
   },
   "outputs": [
    {
     "data": {
      "text/plain": [
       "0.8484672834689555"
      ]
     },
     "execution_count": 35,
     "metadata": {},
     "output_type": "execute_result"
    }
   ],
   "source": [
    "from fairness_multiverse.universe import predict_w_threshold\n",
    "\n",
    "probs_test = model.predict_proba(X_test)\n",
    "\n",
    "'''\n",
    "Below code returns a boolean array (or binary 0/1 array depending on how it’s used) where each element \n",
    "is True if the probability of class 1 is greater than or equal to the threshold, and False otherwise.\n",
    "'''\n",
    "y_pred_default = predict_w_threshold(probs_test, 0.5)\n",
    "\n",
    "from sklearn.metrics import accuracy_score\n",
    "\n",
    "# Naive prediction\n",
    "accuracy_score(y_true = y_true, y_pred = y_pred_default)"
   ]
  },
  {
   "cell_type": "code",
   "execution_count": 36,
   "id": "6f14067c",
   "metadata": {
    "execution": {
     "iopub.execute_input": "2025-08-19T18:56:05.501991Z",
     "iopub.status.busy": "2025-08-19T18:56:05.500970Z",
     "iopub.status.idle": "2025-08-19T18:56:05.608763Z",
     "shell.execute_reply": "2025-08-19T18:56:05.607238Z"
    },
    "papermill": {
     "duration": 0.125656,
     "end_time": "2025-08-19T18:56:05.612651",
     "exception": false,
     "start_time": "2025-08-19T18:56:05.486995",
     "status": "completed"
    },
    "tags": []
   },
   "outputs": [
    {
     "data": {
      "text/plain": [
       "array([0, 0, 0, ..., 0, 0, 0])"
      ]
     },
     "execution_count": 36,
     "metadata": {},
     "output_type": "execute_result"
    }
   ],
   "source": [
    "model.predict(X_test)"
   ]
  },
  {
   "cell_type": "markdown",
   "id": "3759920c",
   "metadata": {
    "papermill": {
     "duration": 0.012268,
     "end_time": "2025-08-19T18:56:05.646736",
     "exception": false,
     "start_time": "2025-08-19T18:56:05.634468",
     "status": "completed"
    },
    "tags": []
   },
   "source": [
    "# Conformal Prediction"
   ]
  },
  {
   "cell_type": "code",
   "execution_count": 37,
   "id": "14b27f59",
   "metadata": {
    "execution": {
     "iopub.execute_input": "2025-08-19T18:56:05.673579Z",
     "iopub.status.busy": "2025-08-19T18:56:05.672141Z",
     "iopub.status.idle": "2025-08-19T18:56:05.680527Z",
     "shell.execute_reply": "2025-08-19T18:56:05.679129Z"
    },
    "papermill": {
     "duration": 0.024065,
     "end_time": "2025-08-19T18:56:05.682433",
     "exception": false,
     "start_time": "2025-08-19T18:56:05.658368",
     "status": "completed"
    },
    "tags": []
   },
   "outputs": [],
   "source": [
    "# Miscoverage level for conformal prediction (10% allowed error rate => 90% target coverage)\n",
    "alpha = 0.1"
   ]
  },
  {
   "cell_type": "code",
   "execution_count": 38,
   "id": "59102472",
   "metadata": {
    "execution": {
     "iopub.execute_input": "2025-08-19T18:56:05.710775Z",
     "iopub.status.busy": "2025-08-19T18:56:05.709625Z",
     "iopub.status.idle": "2025-08-19T18:56:05.817104Z",
     "shell.execute_reply": "2025-08-19T18:56:05.815885Z"
    },
    "papermill": {
     "duration": 0.123898,
     "end_time": "2025-08-19T18:56:05.819466",
     "exception": false,
     "start_time": "2025-08-19T18:56:05.695568",
     "status": "completed"
    },
    "tags": []
   },
   "outputs": [],
   "source": [
    "probs_calib = model.predict_proba(X_calib)"
   ]
  },
  {
   "cell_type": "code",
   "execution_count": 39,
   "id": "a792d4dd",
   "metadata": {
    "execution": {
     "iopub.execute_input": "2025-08-19T18:56:05.864901Z",
     "iopub.status.busy": "2025-08-19T18:56:05.864028Z",
     "iopub.status.idle": "2025-08-19T18:56:05.873718Z",
     "shell.execute_reply": "2025-08-19T18:56:05.872128Z"
    },
    "papermill": {
     "duration": 0.031625,
     "end_time": "2025-08-19T18:56:05.875596",
     "exception": false,
     "start_time": "2025-08-19T18:56:05.843971",
     "status": "completed"
    },
    "tags": []
   },
   "outputs": [],
   "source": [
    "y_calib = y_calib.values.ravel().astype(int)"
   ]
  },
  {
   "cell_type": "code",
   "execution_count": 40,
   "id": "650fd033",
   "metadata": {
    "execution": {
     "iopub.execute_input": "2025-08-19T18:56:05.906390Z",
     "iopub.status.busy": "2025-08-19T18:56:05.904673Z",
     "iopub.status.idle": "2025-08-19T18:56:05.926573Z",
     "shell.execute_reply": "2025-08-19T18:56:05.925461Z"
    },
    "papermill": {
     "duration": 0.038204,
     "end_time": "2025-08-19T18:56:05.928837",
     "exception": false,
     "start_time": "2025-08-19T18:56:05.890633",
     "status": "completed"
    },
    "tags": []
   },
   "outputs": [],
   "source": [
    "from fairness_multiverse.conformal import compute_nc_scores\n",
    "\n",
    "# Compute nonconformity scores on calibration set (1 - probability of true class)\n",
    "nc_scores = compute_nc_scores(probs_calib, y_calib)"
   ]
  },
  {
   "cell_type": "code",
   "execution_count": 41,
   "id": "28ada44c",
   "metadata": {
    "execution": {
     "iopub.execute_input": "2025-08-19T18:56:05.961553Z",
     "iopub.status.busy": "2025-08-19T18:56:05.961048Z",
     "iopub.status.idle": "2025-08-19T18:56:05.967958Z",
     "shell.execute_reply": "2025-08-19T18:56:05.966818Z"
    },
    "papermill": {
     "duration": 0.021772,
     "end_time": "2025-08-19T18:56:05.969535",
     "exception": false,
     "start_time": "2025-08-19T18:56:05.947763",
     "status": "completed"
    },
    "tags": []
   },
   "outputs": [],
   "source": [
    "from fairness_multiverse.conformal import find_threshold\n",
    "\n",
    "# Find conformal threshold q_hat for the given alpha (split conformal method)\n",
    "q_hat = find_threshold(nc_scores, alpha)"
   ]
  },
  {
   "cell_type": "code",
   "execution_count": 42,
   "id": "df56469e",
   "metadata": {
    "execution": {
     "iopub.execute_input": "2025-08-19T18:56:05.997282Z",
     "iopub.status.busy": "2025-08-19T18:56:05.996803Z",
     "iopub.status.idle": "2025-08-19T18:56:06.003828Z",
     "shell.execute_reply": "2025-08-19T18:56:06.002923Z"
    },
    "papermill": {
     "duration": 0.02185,
     "end_time": "2025-08-19T18:56:06.005458",
     "exception": false,
     "start_time": "2025-08-19T18:56:05.983608",
     "status": "completed"
    },
    "tags": []
   },
   "outputs": [
    {
     "data": {
      "text/plain": [
       "0.622696790379228"
      ]
     },
     "execution_count": 42,
     "metadata": {},
     "output_type": "execute_result"
    }
   ],
   "source": [
    "q_hat"
   ]
  },
  {
   "cell_type": "code",
   "execution_count": 43,
   "id": "aa1f5faa",
   "metadata": {
    "execution": {
     "iopub.execute_input": "2025-08-19T18:56:06.033829Z",
     "iopub.status.busy": "2025-08-19T18:56:06.033388Z",
     "iopub.status.idle": "2025-08-19T18:56:06.602389Z",
     "shell.execute_reply": "2025-08-19T18:56:06.601533Z"
    },
    "papermill": {
     "duration": 0.58412,
     "end_time": "2025-08-19T18:56:06.604196",
     "exception": false,
     "start_time": "2025-08-19T18:56:06.020076",
     "status": "completed"
    },
    "tags": []
   },
   "outputs": [],
   "source": [
    "from fairness_multiverse.conformal import predict_conformal_sets\n",
    "\n",
    "# Generate prediction sets for each test example\n",
    "pred_sets = predict_conformal_sets(model, X_test, q_hat)"
   ]
  },
  {
   "cell_type": "code",
   "execution_count": 44,
   "id": "97f67a6b",
   "metadata": {
    "execution": {
     "iopub.execute_input": "2025-08-19T18:56:06.654221Z",
     "iopub.status.busy": "2025-08-19T18:56:06.651319Z",
     "iopub.status.idle": "2025-08-19T18:56:06.661528Z",
     "shell.execute_reply": "2025-08-19T18:56:06.660077Z"
    },
    "papermill": {
     "duration": 0.042142,
     "end_time": "2025-08-19T18:56:06.663181",
     "exception": false,
     "start_time": "2025-08-19T18:56:06.621039",
     "status": "completed"
    },
    "tags": []
   },
   "outputs": [],
   "source": [
    "y_true = y_true.squeeze()"
   ]
  },
  {
   "cell_type": "code",
   "execution_count": 45,
   "id": "e700e9a7",
   "metadata": {
    "execution": {
     "iopub.execute_input": "2025-08-19T18:56:06.702775Z",
     "iopub.status.busy": "2025-08-19T18:56:06.701343Z",
     "iopub.status.idle": "2025-08-19T18:56:07.216945Z",
     "shell.execute_reply": "2025-08-19T18:56:07.215767Z"
    },
    "papermill": {
     "duration": 0.533239,
     "end_time": "2025-08-19T18:56:07.218759",
     "exception": false,
     "start_time": "2025-08-19T18:56:06.685520",
     "status": "completed"
    },
    "tags": []
   },
   "outputs": [],
   "source": [
    "from fairness_multiverse.conformal import evaluate_sets\n",
    "\n",
    "# Evaluate coverage and average set size on test data\n",
    "metrics = evaluate_sets(pred_sets, y_true)"
   ]
  },
  {
   "cell_type": "markdown",
   "id": "efbacec0",
   "metadata": {
    "papermill": {
     "duration": 0.011867,
     "end_time": "2025-08-19T18:56:07.257060",
     "exception": false,
     "start_time": "2025-08-19T18:56:07.245193",
     "status": "completed"
    },
    "tags": []
   },
   "source": [
    "# CP Metrics"
   ]
  },
  {
   "cell_type": "code",
   "execution_count": 46,
   "id": "9de55fb1",
   "metadata": {
    "execution": {
     "iopub.execute_input": "2025-08-19T18:56:07.282411Z",
     "iopub.status.busy": "2025-08-19T18:56:07.281757Z",
     "iopub.status.idle": "2025-08-19T18:56:07.289998Z",
     "shell.execute_reply": "2025-08-19T18:56:07.289153Z"
    },
    "papermill": {
     "duration": 0.022826,
     "end_time": "2025-08-19T18:56:07.291489",
     "exception": false,
     "start_time": "2025-08-19T18:56:07.268663",
     "status": "completed"
    },
    "tags": []
   },
   "outputs": [
    {
     "data": {
      "text/plain": [
       "{'coverage': 0.9127410545089734, 'avg_size': 1.2859213019730242}"
      ]
     },
     "execution_count": 46,
     "metadata": {},
     "output_type": "execute_result"
    }
   ],
   "source": [
    "metrics"
   ]
  },
  {
   "cell_type": "code",
   "execution_count": 47,
   "id": "64c340a1",
   "metadata": {
    "execution": {
     "iopub.execute_input": "2025-08-19T18:56:07.318984Z",
     "iopub.status.busy": "2025-08-19T18:56:07.318488Z",
     "iopub.status.idle": "2025-08-19T18:56:07.323875Z",
     "shell.execute_reply": "2025-08-19T18:56:07.323185Z"
    },
    "papermill": {
     "duration": 0.019106,
     "end_time": "2025-08-19T18:56:07.325003",
     "exception": false,
     "start_time": "2025-08-19T18:56:07.305897",
     "status": "completed"
    },
    "tags": []
   },
   "outputs": [],
   "source": [
    "example_universe = universe.copy()\n",
    "universe_training_year = example_universe.get(\"training_year\")\n",
    "universe_training_size = example_universe.get(\"training_size\")\n",
    "universe_scale = example_universe.get(\"scale\")\n",
    "universe_model = example_universe.get(\"model\")\n",
    "universe_exclude_features = example_universe.get(\"exclude_features\")\n",
    "universe_exclude_subgroups = example_universe.get(\"exclude_subgroups\")"
   ]
  },
  {
   "cell_type": "code",
   "execution_count": 48,
   "id": "dbb53cb4",
   "metadata": {
    "execution": {
     "iopub.execute_input": "2025-08-19T18:56:07.353150Z",
     "iopub.status.busy": "2025-08-19T18:56:07.352293Z",
     "iopub.status.idle": "2025-08-19T18:56:07.357464Z",
     "shell.execute_reply": "2025-08-19T18:56:07.356786Z"
    },
    "papermill": {
     "duration": 0.019085,
     "end_time": "2025-08-19T18:56:07.358612",
     "exception": false,
     "start_time": "2025-08-19T18:56:07.339527",
     "status": "completed"
    },
    "tags": []
   },
   "outputs": [],
   "source": [
    "cp_metrics_dict = {\n",
    "    \"universe_id\": [universe_id],\n",
    "    \"universe_training_year\": [universe_training_year],\n",
    "    \"universe_training_size\": [universe_training_size],\n",
    "    \"universe_scale\": [universe_scale],\n",
    "    \"universe_model\": [universe_model],\n",
    "    \"universe_exclude_features\": [universe_exclude_features],\n",
    "    \"universe_exclude_subgroups\": [universe_exclude_subgroups],\n",
    "    \"q_hat\": [q_hat],\n",
    "    \"coverage\": [metrics[\"coverage\"]],\n",
    "    \"avg_size\": [metrics[\"avg_size\"]],\n",
    "}"
   ]
  },
  {
   "cell_type": "code",
   "execution_count": 49,
   "id": "0d70d4b2",
   "metadata": {
    "execution": {
     "iopub.execute_input": "2025-08-19T18:56:07.386257Z",
     "iopub.status.busy": "2025-08-19T18:56:07.385157Z",
     "iopub.status.idle": "2025-08-19T18:56:07.393905Z",
     "shell.execute_reply": "2025-08-19T18:56:07.392850Z"
    },
    "papermill": {
     "duration": 0.035914,
     "end_time": "2025-08-19T18:56:07.406997",
     "exception": false,
     "start_time": "2025-08-19T18:56:07.371083",
     "status": "completed"
    },
    "tags": []
   },
   "outputs": [],
   "source": [
    "cp_metrics_df = pd.DataFrame(cp_metrics_dict)"
   ]
  },
  {
   "cell_type": "code",
   "execution_count": 50,
   "id": "b494403c",
   "metadata": {
    "execution": {
     "iopub.execute_input": "2025-08-19T18:56:07.460562Z",
     "iopub.status.busy": "2025-08-19T18:56:07.459377Z",
     "iopub.status.idle": "2025-08-19T18:56:07.489163Z",
     "shell.execute_reply": "2025-08-19T18:56:07.488392Z"
    },
    "papermill": {
     "duration": 0.055146,
     "end_time": "2025-08-19T18:56:07.490837",
     "exception": false,
     "start_time": "2025-08-19T18:56:07.435691",
     "status": "completed"
    },
    "tags": []
   },
   "outputs": [
    {
     "data": {
      "text/html": [
       "<div>\n",
       "<style scoped>\n",
       "    .dataframe tbody tr th:only-of-type {\n",
       "        vertical-align: middle;\n",
       "    }\n",
       "\n",
       "    .dataframe tbody tr th {\n",
       "        vertical-align: top;\n",
       "    }\n",
       "\n",
       "    .dataframe thead th {\n",
       "        text-align: right;\n",
       "    }\n",
       "</style>\n",
       "<table border=\"1\" class=\"dataframe\">\n",
       "  <thead>\n",
       "    <tr style=\"text-align: right;\">\n",
       "      <th></th>\n",
       "      <th>universe_id</th>\n",
       "      <th>universe_training_year</th>\n",
       "      <th>universe_training_size</th>\n",
       "      <th>universe_scale</th>\n",
       "      <th>universe_model</th>\n",
       "      <th>universe_exclude_features</th>\n",
       "      <th>universe_exclude_subgroups</th>\n",
       "      <th>q_hat</th>\n",
       "      <th>coverage</th>\n",
       "      <th>avg_size</th>\n",
       "    </tr>\n",
       "  </thead>\n",
       "  <tbody>\n",
       "    <tr>\n",
       "      <th>0</th>\n",
       "      <td>523b4d52292fbf0322ce0d3ad7b649bd</td>\n",
       "      <td>2014</td>\n",
       "      <td>1k</td>\n",
       "      <td>do-not-scale</td>\n",
       "      <td>elasticnet</td>\n",
       "      <td>none</td>\n",
       "      <td>drop-non-german</td>\n",
       "      <td>0.622697</td>\n",
       "      <td>0.912741</td>\n",
       "      <td>1.285921</td>\n",
       "    </tr>\n",
       "  </tbody>\n",
       "</table>\n",
       "</div>"
      ],
      "text/plain": [
       "                        universe_id universe_training_year  \\\n",
       "0  523b4d52292fbf0322ce0d3ad7b649bd                   2014   \n",
       "\n",
       "  universe_training_size universe_scale universe_model  \\\n",
       "0                     1k   do-not-scale     elasticnet   \n",
       "\n",
       "  universe_exclude_features universe_exclude_subgroups     q_hat  coverage  \\\n",
       "0                      none            drop-non-german  0.622697  0.912741   \n",
       "\n",
       "   avg_size  \n",
       "0  1.285921  "
      ]
     },
     "execution_count": 50,
     "metadata": {},
     "output_type": "execute_result"
    }
   ],
   "source": [
    "cp_metrics_df"
   ]
  },
  {
   "cell_type": "markdown",
   "id": "ed608b0b",
   "metadata": {
    "papermill": {
     "duration": 0.016731,
     "end_time": "2025-08-19T18:56:07.527329",
     "exception": false,
     "start_time": "2025-08-19T18:56:07.510598",
     "status": "completed"
    },
    "tags": []
   },
   "source": [
    "Conditional coverage & looking at subgroups"
   ]
  },
  {
   "cell_type": "code",
   "execution_count": 51,
   "id": "8968c366",
   "metadata": {
    "execution": {
     "iopub.execute_input": "2025-08-19T18:56:07.554001Z",
     "iopub.status.busy": "2025-08-19T18:56:07.553050Z",
     "iopub.status.idle": "2025-08-19T18:56:07.863569Z",
     "shell.execute_reply": "2025-08-19T18:56:07.862706Z"
    },
    "papermill": {
     "duration": 0.325061,
     "end_time": "2025-08-19T18:56:07.865156",
     "exception": false,
     "start_time": "2025-08-19T18:56:07.540095",
     "status": "completed"
    },
    "tags": []
   },
   "outputs": [],
   "source": [
    "from fairness_multiverse.conformal import build_cp_groups\n",
    "\n",
    "cp_groups_df = build_cp_groups(pred_sets, y_true, X_test.index, org_test)"
   ]
  },
  {
   "cell_type": "code",
   "execution_count": 52,
   "id": "292ddabf",
   "metadata": {
    "execution": {
     "iopub.execute_input": "2025-08-19T18:56:07.892759Z",
     "iopub.status.busy": "2025-08-19T18:56:07.892181Z",
     "iopub.status.idle": "2025-08-19T18:56:08.751893Z",
     "shell.execute_reply": "2025-08-19T18:56:08.750150Z"
    },
    "papermill": {
     "duration": 0.876039,
     "end_time": "2025-08-19T18:56:08.754172",
     "exception": false,
     "start_time": "2025-08-19T18:56:07.878133",
     "status": "completed"
    },
    "tags": []
   },
   "outputs": [],
   "source": [
    "# Define covered = 1 if true_label is in the predicted set\n",
    "cp_groups_df['covered'] = cp_groups_df.apply(\n",
    "    lambda r: int(r['true_label'] in r['pred_set']),\n",
    "    axis=1\n",
    ")"
   ]
  },
  {
   "cell_type": "code",
   "execution_count": 53,
   "id": "3a261692",
   "metadata": {
    "execution": {
     "iopub.execute_input": "2025-08-19T18:56:08.783776Z",
     "iopub.status.busy": "2025-08-19T18:56:08.782112Z",
     "iopub.status.idle": "2025-08-19T18:56:08.804203Z",
     "shell.execute_reply": "2025-08-19T18:56:08.803174Z"
    },
    "papermill": {
     "duration": 0.038735,
     "end_time": "2025-08-19T18:56:08.806098",
     "exception": false,
     "start_time": "2025-08-19T18:56:08.767363",
     "status": "completed"
    },
    "tags": []
   },
   "outputs": [],
   "source": [
    "subgroups = ['frau1','nongerman','nongerman_male','nongerman_female']\n",
    "\n",
    "# Conditional coverage for subgroup==1\n",
    "cond_coverage = {\n",
    "    g: cp_groups_df.loc[cp_groups_df[g]==1, 'covered'].mean()\n",
    "    for g in subgroups\n",
    "}"
   ]
  },
  {
   "cell_type": "code",
   "execution_count": 54,
   "id": "894fd600",
   "metadata": {
    "execution": {
     "iopub.execute_input": "2025-08-19T18:56:08.850271Z",
     "iopub.status.busy": "2025-08-19T18:56:08.846901Z",
     "iopub.status.idle": "2025-08-19T18:56:08.862640Z",
     "shell.execute_reply": "2025-08-19T18:56:08.861395Z"
    },
    "papermill": {
     "duration": 0.033669,
     "end_time": "2025-08-19T18:56:08.864220",
     "exception": false,
     "start_time": "2025-08-19T18:56:08.830551",
     "status": "completed"
    },
    "tags": []
   },
   "outputs": [
    {
     "data": {
      "text/plain": [
       "{'frau1': 0.9119557891899178,\n",
       " 'nongerman': 0.9659799023185314,\n",
       " 'nongerman_male': 0.9728902098531929,\n",
       " 'nongerman_female': 0.9545454545454546}"
      ]
     },
     "execution_count": 54,
     "metadata": {},
     "output_type": "execute_result"
    }
   ],
   "source": [
    "cond_coverage"
   ]
  },
  {
   "cell_type": "code",
   "execution_count": 55,
   "id": "942895c7",
   "metadata": {
    "execution": {
     "iopub.execute_input": "2025-08-19T18:56:08.905288Z",
     "iopub.status.busy": "2025-08-19T18:56:08.897998Z",
     "iopub.status.idle": "2025-08-19T18:56:08.918263Z",
     "shell.execute_reply": "2025-08-19T18:56:08.917018Z"
    },
    "papermill": {
     "duration": 0.043236,
     "end_time": "2025-08-19T18:56:08.920399",
     "exception": false,
     "start_time": "2025-08-19T18:56:08.877163",
     "status": "completed"
    },
    "tags": []
   },
   "outputs": [],
   "source": [
    "for subgroup, cov in cond_coverage.items():\n",
    "    cp_metrics_df[f\"cov_{subgroup}\"] = cov"
   ]
  },
  {
   "cell_type": "code",
   "execution_count": 56,
   "id": "3970120f",
   "metadata": {
    "execution": {
     "iopub.execute_input": "2025-08-19T18:56:08.967266Z",
     "iopub.status.busy": "2025-08-19T18:56:08.965857Z",
     "iopub.status.idle": "2025-08-19T18:56:08.988026Z",
     "shell.execute_reply": "2025-08-19T18:56:08.987139Z"
    },
    "papermill": {
     "duration": 0.054656,
     "end_time": "2025-08-19T18:56:08.999366",
     "exception": false,
     "start_time": "2025-08-19T18:56:08.944710",
     "status": "completed"
    },
    "tags": []
   },
   "outputs": [
    {
     "data": {
      "text/html": [
       "<div>\n",
       "<style scoped>\n",
       "    .dataframe tbody tr th:only-of-type {\n",
       "        vertical-align: middle;\n",
       "    }\n",
       "\n",
       "    .dataframe tbody tr th {\n",
       "        vertical-align: top;\n",
       "    }\n",
       "\n",
       "    .dataframe thead th {\n",
       "        text-align: right;\n",
       "    }\n",
       "</style>\n",
       "<table border=\"1\" class=\"dataframe\">\n",
       "  <thead>\n",
       "    <tr style=\"text-align: right;\">\n",
       "      <th></th>\n",
       "      <th>universe_id</th>\n",
       "      <th>universe_training_year</th>\n",
       "      <th>universe_training_size</th>\n",
       "      <th>universe_scale</th>\n",
       "      <th>universe_model</th>\n",
       "      <th>universe_exclude_features</th>\n",
       "      <th>universe_exclude_subgroups</th>\n",
       "      <th>q_hat</th>\n",
       "      <th>coverage</th>\n",
       "      <th>avg_size</th>\n",
       "      <th>cov_frau1</th>\n",
       "      <th>cov_nongerman</th>\n",
       "      <th>cov_nongerman_male</th>\n",
       "      <th>cov_nongerman_female</th>\n",
       "    </tr>\n",
       "  </thead>\n",
       "  <tbody>\n",
       "    <tr>\n",
       "      <th>0</th>\n",
       "      <td>523b4d52292fbf0322ce0d3ad7b649bd</td>\n",
       "      <td>2014</td>\n",
       "      <td>1k</td>\n",
       "      <td>do-not-scale</td>\n",
       "      <td>elasticnet</td>\n",
       "      <td>none</td>\n",
       "      <td>drop-non-german</td>\n",
       "      <td>0.622697</td>\n",
       "      <td>0.912741</td>\n",
       "      <td>1.285921</td>\n",
       "      <td>0.911956</td>\n",
       "      <td>0.96598</td>\n",
       "      <td>0.97289</td>\n",
       "      <td>0.954545</td>\n",
       "    </tr>\n",
       "  </tbody>\n",
       "</table>\n",
       "</div>"
      ],
      "text/plain": [
       "                        universe_id universe_training_year  \\\n",
       "0  523b4d52292fbf0322ce0d3ad7b649bd                   2014   \n",
       "\n",
       "  universe_training_size universe_scale universe_model  \\\n",
       "0                     1k   do-not-scale     elasticnet   \n",
       "\n",
       "  universe_exclude_features universe_exclude_subgroups     q_hat  coverage  \\\n",
       "0                      none            drop-non-german  0.622697  0.912741   \n",
       "\n",
       "   avg_size  cov_frau1  cov_nongerman  cov_nongerman_male  \\\n",
       "0  1.285921   0.911956        0.96598             0.97289   \n",
       "\n",
       "   cov_nongerman_female  \n",
       "0              0.954545  "
      ]
     },
     "execution_count": 56,
     "metadata": {},
     "output_type": "execute_result"
    }
   ],
   "source": [
    "cp_metrics_df"
   ]
  },
  {
   "cell_type": "markdown",
   "id": "3fc519cc",
   "metadata": {
    "papermill": {
     "duration": 0.017559,
     "end_time": "2025-08-19T18:56:09.034460",
     "exception": false,
     "start_time": "2025-08-19T18:56:09.016901",
     "status": "completed"
    },
    "tags": []
   },
   "source": [
    "# (Fairness) Metrics"
   ]
  },
  {
   "cell_type": "code",
   "execution_count": 57,
   "id": "a2e5e155",
   "metadata": {
    "execution": {
     "iopub.execute_input": "2025-08-19T18:56:09.063279Z",
     "iopub.status.busy": "2025-08-19T18:56:09.061602Z",
     "iopub.status.idle": "2025-08-19T18:56:09.094370Z",
     "shell.execute_reply": "2025-08-19T18:56:09.092273Z"
    },
    "papermill": {
     "duration": 0.051474,
     "end_time": "2025-08-19T18:56:09.098336",
     "exception": false,
     "start_time": "2025-08-19T18:56:09.046862",
     "status": "completed"
    },
    "tags": []
   },
   "outputs": [],
   "source": [
    "colname_to_bin = \"maxdeutsch1\"\n",
    "majority_value = org_train[colname_to_bin].mode()[0]\n",
    "\n",
    "org_test[\"majmin\"] = np.where(org_test[colname_to_bin] == majority_value, \"majority\", \"minority\")"
   ]
  },
  {
   "cell_type": "code",
   "execution_count": 58,
   "id": "17e3e4d5",
   "metadata": {
    "execution": {
     "iopub.execute_input": "2025-08-19T18:56:09.141445Z",
     "iopub.status.busy": "2025-08-19T18:56:09.139963Z",
     "iopub.status.idle": "2025-08-19T18:56:11.005263Z",
     "shell.execute_reply": "2025-08-19T18:56:11.004011Z"
    },
    "papermill": {
     "duration": 1.881682,
     "end_time": "2025-08-19T18:56:11.006955",
     "exception": false,
     "start_time": "2025-08-19T18:56:09.125273",
     "status": "completed"
    },
    "tags": []
   },
   "outputs": [],
   "source": [
    "example_universe = universe.copy()\n",
    "example_universe[\"cutoff\"] = example_universe[\"cutoff\"][0]\n",
    "example_universe[\"eval_fairness_grouping\"] = example_universe[\"eval_fairness_grouping\"][0]\n",
    "fairness_dict, metric_frame = universe_analysis.compute_metrics(\n",
    "    example_universe,\n",
    "    y_pred_prob=probs_test,\n",
    "    y_test=y_true,\n",
    "    org_test=org_test,\n",
    ")"
   ]
  },
  {
   "cell_type": "markdown",
   "id": "1fb7a0e9",
   "metadata": {
    "papermill": {
     "duration": 0.027237,
     "end_time": "2025-08-19T18:56:11.052287",
     "exception": false,
     "start_time": "2025-08-19T18:56:11.025050",
     "status": "completed"
    },
    "tags": []
   },
   "source": [
    "# Overall"
   ]
  },
  {
   "cell_type": "markdown",
   "id": "be1784b1",
   "metadata": {
    "papermill": {
     "duration": 0.012517,
     "end_time": "2025-08-19T18:56:11.078546",
     "exception": false,
     "start_time": "2025-08-19T18:56:11.066029",
     "status": "completed"
    },
    "tags": []
   },
   "source": [
    "Main fairness target: Equalized Odds. Seems to be a better fit than equal opportunity, since we're not only interested in Y = 1. Seems to be a better fit than demographic parity, since we also care about accuracy, not just equal distribution of preds.\n",
    "\n",
    "Pick column for computation of fairness metrics\n",
    "\n",
    "Performance\n",
    "Overall performance measures, most interesting in relation to the measures split by group below"
   ]
  },
  {
   "cell_type": "code",
   "execution_count": 59,
   "id": "b7672bee",
   "metadata": {
    "execution": {
     "iopub.execute_input": "2025-08-19T18:56:11.107581Z",
     "iopub.status.busy": "2025-08-19T18:56:11.106036Z",
     "iopub.status.idle": "2025-08-19T18:56:11.122294Z",
     "shell.execute_reply": "2025-08-19T18:56:11.121185Z"
    },
    "papermill": {
     "duration": 0.032934,
     "end_time": "2025-08-19T18:56:11.124107",
     "exception": false,
     "start_time": "2025-08-19T18:56:11.091173",
     "status": "completed"
    },
    "tags": []
   },
   "outputs": [
    {
     "data": {
      "text/plain": [
       "accuracy                   0.212607\n",
       "balanced accuracy          0.522319\n",
       "f1                         0.234262\n",
       "precision                  0.133826\n",
       "false positive rate        0.894274\n",
       "false negative rate        0.061088\n",
       "selection rate             0.900000\n",
       "count                  89710.000000\n",
       "dtype: float64"
      ]
     },
     "execution_count": 59,
     "metadata": {},
     "output_type": "execute_result"
    }
   ],
   "source": [
    "metric_frame.overall"
   ]
  },
  {
   "cell_type": "markdown",
   "id": "d93333c9",
   "metadata": {
    "papermill": {
     "duration": 0.012692,
     "end_time": "2025-08-19T18:56:11.155162",
     "exception": false,
     "start_time": "2025-08-19T18:56:11.142470",
     "status": "completed"
    },
    "tags": []
   },
   "source": [
    "By Group"
   ]
  },
  {
   "cell_type": "code",
   "execution_count": 60,
   "id": "52256966",
   "metadata": {
    "execution": {
     "iopub.execute_input": "2025-08-19T18:56:11.182627Z",
     "iopub.status.busy": "2025-08-19T18:56:11.181541Z",
     "iopub.status.idle": "2025-08-19T18:56:11.203357Z",
     "shell.execute_reply": "2025-08-19T18:56:11.202491Z"
    },
    "papermill": {
     "duration": 0.037422,
     "end_time": "2025-08-19T18:56:11.204977",
     "exception": false,
     "start_time": "2025-08-19T18:56:11.167555",
     "status": "completed"
    },
    "tags": []
   },
   "outputs": [
    {
     "data": {
      "text/html": [
       "<div>\n",
       "<style scoped>\n",
       "    .dataframe tbody tr th:only-of-type {\n",
       "        vertical-align: middle;\n",
       "    }\n",
       "\n",
       "    .dataframe tbody tr th {\n",
       "        vertical-align: top;\n",
       "    }\n",
       "\n",
       "    .dataframe thead th {\n",
       "        text-align: right;\n",
       "    }\n",
       "</style>\n",
       "<table border=\"1\" class=\"dataframe\">\n",
       "  <thead>\n",
       "    <tr style=\"text-align: right;\">\n",
       "      <th></th>\n",
       "      <th>accuracy</th>\n",
       "      <th>balanced accuracy</th>\n",
       "      <th>f1</th>\n",
       "      <th>precision</th>\n",
       "      <th>false positive rate</th>\n",
       "      <th>false negative rate</th>\n",
       "      <th>selection rate</th>\n",
       "      <th>count</th>\n",
       "    </tr>\n",
       "    <tr>\n",
       "      <th>majmin</th>\n",
       "      <th></th>\n",
       "      <th></th>\n",
       "      <th></th>\n",
       "      <th></th>\n",
       "      <th></th>\n",
       "      <th></th>\n",
       "      <th></th>\n",
       "      <th></th>\n",
       "    </tr>\n",
       "  </thead>\n",
       "  <tbody>\n",
       "    <tr>\n",
       "      <th>majority</th>\n",
       "      <td>0.232702</td>\n",
       "      <td>0.528211</td>\n",
       "      <td>0.242579</td>\n",
       "      <td>0.139483</td>\n",
       "      <td>0.873447</td>\n",
       "      <td>0.070131</td>\n",
       "      <td>0.880902</td>\n",
       "      <td>69170.0</td>\n",
       "    </tr>\n",
       "    <tr>\n",
       "      <th>minority</th>\n",
       "      <td>0.144937</td>\n",
       "      <td>0.505371</td>\n",
       "      <td>0.207982</td>\n",
       "      <td>0.116423</td>\n",
       "      <td>0.963075</td>\n",
       "      <td>0.026182</td>\n",
       "      <td>0.964314</td>\n",
       "      <td>20540.0</td>\n",
       "    </tr>\n",
       "  </tbody>\n",
       "</table>\n",
       "</div>"
      ],
      "text/plain": [
       "          accuracy  balanced accuracy        f1  precision  \\\n",
       "majmin                                                       \n",
       "majority  0.232702           0.528211  0.242579   0.139483   \n",
       "minority  0.144937           0.505371  0.207982   0.116423   \n",
       "\n",
       "          false positive rate  false negative rate  selection rate    count  \n",
       "majmin                                                                       \n",
       "majority             0.873447             0.070131        0.880902  69170.0  \n",
       "minority             0.963075             0.026182        0.964314  20540.0  "
      ]
     },
     "execution_count": 60,
     "metadata": {},
     "output_type": "execute_result"
    }
   ],
   "source": [
    "metric_frame.by_group"
   ]
  },
  {
   "cell_type": "code",
   "execution_count": 61,
   "id": "6e6c20ae",
   "metadata": {
    "execution": {
     "iopub.execute_input": "2025-08-19T18:56:11.240009Z",
     "iopub.status.busy": "2025-08-19T18:56:11.238982Z",
     "iopub.status.idle": "2025-08-19T18:56:13.261135Z",
     "shell.execute_reply": "2025-08-19T18:56:13.259927Z"
    },
    "papermill": {
     "duration": 2.03806,
     "end_time": "2025-08-19T18:56:13.263208",
     "exception": false,
     "start_time": "2025-08-19T18:56:11.225148",
     "status": "completed"
    },
    "tags": []
   },
   "outputs": [
    {
     "data": {
      "text/plain": [
       "array([[<Axes: title={'center': 'accuracy'}, xlabel='majmin'>,\n",
       "        <Axes: title={'center': 'balanced accuracy'}, xlabel='majmin'>,\n",
       "        <Axes: title={'center': 'f1'}, xlabel='majmin'>],\n",
       "       [<Axes: title={'center': 'precision'}, xlabel='majmin'>,\n",
       "        <Axes: title={'center': 'false positive rate'}, xlabel='majmin'>,\n",
       "        <Axes: title={'center': 'false negative rate'}, xlabel='majmin'>],\n",
       "       [<Axes: title={'center': 'selection rate'}, xlabel='majmin'>,\n",
       "        <Axes: title={'center': 'count'}, xlabel='majmin'>,\n",
       "        <Axes: xlabel='majmin'>]], dtype=object)"
      ]
     },
     "execution_count": 61,
     "metadata": {},
     "output_type": "execute_result"
    },
    {
     "data": {
      "image/png": "[encoded data removed]",
      "text/plain": [
       "<Figure size 1200x800 with 9 Axes>"
      ]
     },
     "metadata": {},
     "output_type": "display_data"
    }
   ],
   "source": [
    "# In a graphic\n",
    "metric_frame.by_group.plot.bar(\n",
    "    subplots=True,\n",
    "    layout=[3, 3],\n",
    "    legend=False,\n",
    "    figsize=[12, 8],\n",
    "    title=\"Show all metrics\",\n",
    ")"
   ]
  },
  {
   "cell_type": "markdown",
   "id": "b2e433ae",
   "metadata": {
    "papermill": {
     "duration": 0.013728,
     "end_time": "2025-08-19T18:56:13.292425",
     "exception": false,
     "start_time": "2025-08-19T18:56:13.278697",
     "status": "completed"
    },
    "tags": []
   },
   "source": [
    "# Final Output"
   ]
  },
  {
   "cell_type": "code",
   "execution_count": 62,
   "id": "3871301e",
   "metadata": {
    "execution": {
     "iopub.execute_input": "2025-08-19T18:56:13.332932Z",
     "iopub.status.busy": "2025-08-19T18:56:13.330963Z",
     "iopub.status.idle": "2025-08-19T18:56:13.346939Z",
     "shell.execute_reply": "2025-08-19T18:56:13.346170Z"
    },
    "papermill": {
     "duration": 0.041779,
     "end_time": "2025-08-19T18:56:13.348290",
     "exception": false,
     "start_time": "2025-08-19T18:56:13.306511",
     "status": "completed"
    },
    "tags": []
   },
   "outputs": [
    {
     "data": {
      "text/plain": [
       "4"
      ]
     },
     "execution_count": 62,
     "metadata": {},
     "output_type": "execute_result"
    }
   ],
   "source": [
    "sub_universes = universe_analysis.generate_sub_universes()\n",
    "len(sub_universes)"
   ]
  },
  {
   "cell_type": "code",
   "execution_count": 63,
   "id": "d9cfdaca",
   "metadata": {
    "execution": {
     "iopub.execute_input": "2025-08-19T18:56:13.387558Z",
     "iopub.status.busy": "2025-08-19T18:56:13.386501Z",
     "iopub.status.idle": "2025-08-19T18:56:13.395417Z",
     "shell.execute_reply": "2025-08-19T18:56:13.394231Z"
    },
    "papermill": {
     "duration": 0.030924,
     "end_time": "2025-08-19T18:56:13.397012",
     "exception": false,
     "start_time": "2025-08-19T18:56:13.366088",
     "status": "completed"
    },
    "tags": []
   },
   "outputs": [],
   "source": [
    "def filter_sub_universe_data(sub_universe, org_test):\n",
    "    # Keep all rows — no filtering\n",
    "    keep_rows_mask = np.ones(org_test.shape[0], dtype=bool)\n",
    "\n",
    "    print(f\"[INFO] Keeping all rows: {keep_rows_mask.sum()} rows retained.\")\n",
    "    return keep_rows_mask"
   ]
  },
  {
   "cell_type": "code",
   "execution_count": 64,
   "id": "2bc31ac1",
   "metadata": {
    "execution": {
     "iopub.execute_input": "2025-08-19T18:56:13.445968Z",
     "iopub.status.busy": "2025-08-19T18:56:13.438932Z",
     "iopub.status.idle": "2025-08-19T18:56:20.183261Z",
     "shell.execute_reply": "2025-08-19T18:56:20.182283Z"
    },
    "papermill": {
     "duration": 6.765595,
     "end_time": "2025-08-19T18:56:20.184684",
     "exception": false,
     "start_time": "2025-08-19T18:56:13.419089",
     "status": "completed"
    },
    "tags": []
   },
   "outputs": [
    {
     "name": "stdout",
     "output_type": "stream",
     "text": [
      "Stopping execution_time clock.\n",
      "[INFO] Keeping all rows: 89710 rows retained.\n"
     ]
    },
    {
     "name": "stdout",
     "output_type": "stream",
     "text": [
      "[INFO] Keeping all rows: 89710 rows retained.\n"
     ]
    },
    {
     "name": "stdout",
     "output_type": "stream",
     "text": [
      "[INFO] Keeping all rows: 89710 rows retained.\n"
     ]
    },
    {
     "name": "stdout",
     "output_type": "stream",
     "text": [
      "[INFO] Keeping all rows: 89710 rows retained.\n"
     ]
    },
    {
     "data": {
      "text/html": [
       "<div>\n",
       "<style scoped>\n",
       "    .dataframe tbody tr th:only-of-type {\n",
       "        vertical-align: middle;\n",
       "    }\n",
       "\n",
       "    .dataframe tbody tr th {\n",
       "        vertical-align: top;\n",
       "    }\n",
       "\n",
       "    .dataframe thead th {\n",
       "        text-align: right;\n",
       "    }\n",
       "</style>\n",
       "<table border=\"1\" class=\"dataframe\">\n",
       "  <thead>\n",
       "    <tr style=\"text-align: right;\">\n",
       "      <th></th>\n",
       "      <th>run_no</th>\n",
       "      <th>universe_id</th>\n",
       "      <th>universe_settings</th>\n",
       "      <th>execution_time</th>\n",
       "      <th>test_size_n</th>\n",
       "      <th>test_size_frac</th>\n",
       "      <th>fair_main_equalized_odds_difference</th>\n",
       "      <th>fair_main_equalized_odds_ratio</th>\n",
       "      <th>fair_main_demographic_parity_difference</th>\n",
       "      <th>fair_main_demographic_parity_ratio</th>\n",
       "      <th>...</th>\n",
       "      <th>perf_grp_precision_0</th>\n",
       "      <th>perf_grp_precision_1</th>\n",
       "      <th>perf_grp_false positive rate_0</th>\n",
       "      <th>perf_grp_false positive rate_1</th>\n",
       "      <th>perf_grp_false negative rate_0</th>\n",
       "      <th>perf_grp_false negative rate_1</th>\n",
       "      <th>perf_grp_selection rate_0</th>\n",
       "      <th>perf_grp_selection rate_1</th>\n",
       "      <th>perf_grp_count_0</th>\n",
       "      <th>perf_grp_count_1</th>\n",
       "    </tr>\n",
       "  </thead>\n",
       "  <tbody>\n",
       "    <tr>\n",
       "      <th>0</th>\n",
       "      <td>3</td>\n",
       "      <td>523b4d52292fbf0322ce0d3ad7b649bd</td>\n",
       "      <td>{\"cutoff\": \"quantile_0.1\", \"eval_fairness_grou...</td>\n",
       "      <td>20.938895</td>\n",
       "      <td>89710</td>\n",
       "      <td>1.0</td>\n",
       "      <td>0.089628</td>\n",
       "      <td>0.906935</td>\n",
       "      <td>0.083411</td>\n",
       "      <td>0.913502</td>\n",
       "      <td>...</td>\n",
       "      <td>NaN</td>\n",
       "      <td>NaN</td>\n",
       "      <td>NaN</td>\n",
       "      <td>NaN</td>\n",
       "      <td>NaN</td>\n",
       "      <td>NaN</td>\n",
       "      <td>NaN</td>\n",
       "      <td>NaN</td>\n",
       "      <td>NaN</td>\n",
       "      <td>NaN</td>\n",
       "    </tr>\n",
       "    <tr>\n",
       "      <th>0</th>\n",
       "      <td>3</td>\n",
       "      <td>523b4d52292fbf0322ce0d3ad7b649bd</td>\n",
       "      <td>{\"cutoff\": \"quantile_0.1\", \"eval_fairness_grou...</td>\n",
       "      <td>20.938895</td>\n",
       "      <td>89710</td>\n",
       "      <td>1.0</td>\n",
       "      <td>0.089628</td>\n",
       "      <td>0.906935</td>\n",
       "      <td>0.083411</td>\n",
       "      <td>0.913502</td>\n",
       "      <td>...</td>\n",
       "      <td>0.116423</td>\n",
       "      <td>0.139483</td>\n",
       "      <td>0.963075</td>\n",
       "      <td>0.873447</td>\n",
       "      <td>0.026182</td>\n",
       "      <td>0.070131</td>\n",
       "      <td>0.964314</td>\n",
       "      <td>0.880902</td>\n",
       "      <td>20540.0</td>\n",
       "      <td>69170.0</td>\n",
       "    </tr>\n",
       "    <tr>\n",
       "      <th>0</th>\n",
       "      <td>3</td>\n",
       "      <td>523b4d52292fbf0322ce0d3ad7b649bd</td>\n",
       "      <td>{\"cutoff\": \"quantile_0.25\", \"eval_fairness_gro...</td>\n",
       "      <td>20.938895</td>\n",
       "      <td>89710</td>\n",
       "      <td>1.0</td>\n",
       "      <td>0.218668</td>\n",
       "      <td>0.758691</td>\n",
       "      <td>0.205600</td>\n",
       "      <td>0.773698</td>\n",
       "      <td>...</td>\n",
       "      <td>NaN</td>\n",
       "      <td>NaN</td>\n",
       "      <td>NaN</td>\n",
       "      <td>NaN</td>\n",
       "      <td>NaN</td>\n",
       "      <td>NaN</td>\n",
       "      <td>NaN</td>\n",
       "      <td>NaN</td>\n",
       "      <td>NaN</td>\n",
       "      <td>NaN</td>\n",
       "    </tr>\n",
       "    <tr>\n",
       "      <th>0</th>\n",
       "      <td>3</td>\n",
       "      <td>523b4d52292fbf0322ce0d3ad7b649bd</td>\n",
       "      <td>{\"cutoff\": \"quantile_0.25\", \"eval_fairness_gro...</td>\n",
       "      <td>20.938895</td>\n",
       "      <td>89710</td>\n",
       "      <td>1.0</td>\n",
       "      <td>0.218668</td>\n",
       "      <td>0.758691</td>\n",
       "      <td>0.205600</td>\n",
       "      <td>0.773698</td>\n",
       "      <td>...</td>\n",
       "      <td>0.117571</td>\n",
       "      <td>0.151169</td>\n",
       "      <td>0.906174</td>\n",
       "      <td>0.687506</td>\n",
       "      <td>0.073480</td>\n",
       "      <td>0.195842</td>\n",
       "      <td>0.908520</td>\n",
       "      <td>0.702920</td>\n",
       "      <td>20540.0</td>\n",
       "      <td>69170.0</td>\n",
       "    </tr>\n",
       "  </tbody>\n",
       "</table>\n",
       "<p>4 rows × 50 columns</p>\n",
       "</div>"
      ],
      "text/plain": [
       "  run_no                       universe_id  \\\n",
       "0      3  523b4d52292fbf0322ce0d3ad7b649bd   \n",
       "0      3  523b4d52292fbf0322ce0d3ad7b649bd   \n",
       "0      3  523b4d52292fbf0322ce0d3ad7b649bd   \n",
       "0      3  523b4d52292fbf0322ce0d3ad7b649bd   \n",
       "\n",
       "                                   universe_settings  execution_time  \\\n",
       "0  {\"cutoff\": \"quantile_0.1\", \"eval_fairness_grou...       20.938895   \n",
       "0  {\"cutoff\": \"quantile_0.1\", \"eval_fairness_grou...       20.938895   \n",
       "0  {\"cutoff\": \"quantile_0.25\", \"eval_fairness_gro...       20.938895   \n",
       "0  {\"cutoff\": \"quantile_0.25\", \"eval_fairness_gro...       20.938895   \n",
       "\n",
       "   test_size_n  test_size_frac  fair_main_equalized_odds_difference  \\\n",
       "0        89710             1.0                             0.089628   \n",
       "0        89710             1.0                             0.089628   \n",
       "0        89710             1.0                             0.218668   \n",
       "0        89710             1.0                             0.218668   \n",
       "\n",
       "   fair_main_equalized_odds_ratio  fair_main_demographic_parity_difference  \\\n",
       "0                        0.906935                                 0.083411   \n",
       "0                        0.906935                                 0.083411   \n",
       "0                        0.758691                                 0.205600   \n",
       "0                        0.758691                                 0.205600   \n",
       "\n",
       "   fair_main_demographic_parity_ratio  ...  perf_grp_precision_0  \\\n",
       "0                            0.913502  ...                   NaN   \n",
       "0                            0.913502  ...              0.116423   \n",
       "0                            0.773698  ...                   NaN   \n",
       "0                            0.773698  ...              0.117571   \n",
       "\n",
       "   perf_grp_precision_1  perf_grp_false positive rate_0  \\\n",
       "0                   NaN                             NaN   \n",
       "0              0.139483                        0.963075   \n",
       "0                   NaN                             NaN   \n",
       "0              0.151169                        0.906174   \n",
       "\n",
       "   perf_grp_false positive rate_1  perf_grp_false negative rate_0  \\\n",
       "0                             NaN                             NaN   \n",
       "0                        0.873447                        0.026182   \n",
       "0                             NaN                             NaN   \n",
       "0                        0.687506                        0.073480   \n",
       "\n",
       "   perf_grp_false negative rate_1  perf_grp_selection rate_0  \\\n",
       "0                             NaN                        NaN   \n",
       "0                        0.070131                   0.964314   \n",
       "0                             NaN                        NaN   \n",
       "0                        0.195842                   0.908520   \n",
       "\n",
       "   perf_grp_selection rate_1  perf_grp_count_0  perf_grp_count_1  \n",
       "0                        NaN               NaN               NaN  \n",
       "0                   0.880902           20540.0           69170.0  \n",
       "0                        NaN               NaN               NaN  \n",
       "0                   0.702920           20540.0           69170.0  \n",
       "\n",
       "[4 rows x 50 columns]"
      ]
     },
     "execution_count": 64,
     "metadata": {},
     "output_type": "execute_result"
    }
   ],
   "source": [
    "final_output = universe_analysis.generate_final_output(\n",
    "    y_pred_prob=probs_test,\n",
    "    y_test=y_true,\n",
    "    org_test=org_test,\n",
    "    filter_data=filter_sub_universe_data,\n",
    "    cp_metrics_df=cp_metrics_df,\n",
    "    save=True,\n",
    ")\n",
    "final_output"
   ]
  },
  {
   "cell_type": "code",
   "execution_count": null,
   "id": "8b80a1ff",
   "metadata": {
    "papermill": {
     "duration": 0.01574,
     "end_time": "2025-08-19T18:56:20.220984",
     "exception": false,
     "start_time": "2025-08-19T18:56:20.205244",
     "status": "completed"
    },
    "tags": []
   },
   "outputs": [],
   "source": []
  },
  {
   "cell_type": "code",
   "execution_count": null,
   "id": "275c9fad",
   "metadata": {
    "papermill": {
     "duration": 0.014374,
     "end_time": "2025-08-19T18:56:20.249496",
     "exception": false,
     "start_time": "2025-08-19T18:56:20.235122",
     "status": "completed"
    },
    "tags": []
   },
   "outputs": [],
   "source": []
  }
 ],
 "metadata": {
  "celltoolbar": "Tags",
  "kernelspec": {
   "display_name": "Python (CMA Fairness)",
   "language": "python",
   "name": "cma_fair_env"
  },
  "language_info": {
   "codemirror_mode": {
    "name": "ipython",
    "version": 3
   },
   "file_extension": ".py",
   "mimetype": "text/x-python",
   "name": "python",
   "nbconvert_exporter": "python",
   "pygments_lexer": "ipython3",
   "version": "3.10.12"
  },
  "papermill": {
   "default_parameters": {},
   "duration": 31.405994,
   "end_time": "2025-08-19T18:56:21.086735",
   "environment_variables": {},
   "exception": null,
   "input_path": "universe_analysis.ipynb",
   "output_path": "output/runs/3/notebooks/m_3-523b4d52292fbf0322ce0d3ad7b649bd.ipynb",
   "parameters": {
    "output_dir": "output",
    "run_no": "3",
    "seed": "2023",
    "universe": "{\"cutoff\": [\"quantile_0.1\", \"quantile_0.25\"], \"eval_fairness_grouping\": [\"majority-minority\", \"nationality-all\"], \"exclude_features\": \"none\", \"exclude_subgroups\": \"drop-non-german\", \"model\": \"elasticnet\", \"scale\": \"do-not-scale\", \"training_size\": \"1k\", \"training_year\": \"2014\"}",
    "universe_id": "523b4d52292fbf0322ce0d3ad7b649bd"
   },
   "start_time": "2025-08-19T18:55:49.680741",
   "version": "2.6.0"
  }
 },
 "nbformat": 4,
 "nbformat_minor": 5
}