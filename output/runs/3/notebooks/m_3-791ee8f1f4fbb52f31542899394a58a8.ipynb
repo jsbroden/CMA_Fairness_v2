{
 "cells": [
  {
   "cell_type": "markdown",
   "id": "ef23dbb3",
   "metadata": {
    "papermill": {
     "duration": 0.03151,
     "end_time": "2025-08-19T18:17:27.780323",
     "exception": false,
     "start_time": "2025-08-19T18:17:27.748813",
     "status": "completed"
    },
    "tags": []
   },
   "source": [
    "# Setup"
   ]
  },
  {
   "cell_type": "code",
   "execution_count": 1,
   "id": "0bc8e7dc",
   "metadata": {
    "execution": {
     "iopub.execute_input": "2025-08-19T18:17:27.810189Z",
     "iopub.status.busy": "2025-08-19T18:17:27.808984Z",
     "iopub.status.idle": "2025-08-19T18:17:27.821841Z",
     "shell.execute_reply": "2025-08-19T18:17:27.820007Z"
    },
    "papermill": {
     "duration": 0.034235,
     "end_time": "2025-08-19T18:17:27.823345",
     "exception": false,
     "start_time": "2025-08-19T18:17:27.789110",
     "status": "completed"
    },
    "tags": []
   },
   "outputs": [
    {
     "name": "stdout",
     "output_type": "stream",
     "text": [
      "/dss/dsshome1/0C/ra93lal2/cma/CMA_Fairness_v2\n"
     ]
    },
    {
     "name": "stderr",
     "output_type": "stream",
     "text": [
      "/dss/dsshome1/0C/ra93lal2/.local/share/virtualenvs/CMA_Fairness_v2-3j10GkSs/lib/python3.10/site-packages/IPython/core/magics/osm.py:393: UserWarning: This is now an optional IPython functionality, using bookmarks requires you to install the `pickleshare` library.\n",
      "  bkms = self.shell.db.get('bookmarks', {})\n",
      "/dss/dsshome1/0C/ra93lal2/.local/share/virtualenvs/CMA_Fairness_v2-3j10GkSs/lib/python3.10/site-packages/IPython/core/magics/osm.py:417: UserWarning: This is now an optional IPython functionality, setting dhist requires you to install the `pickleshare` library.\n",
      "  self.shell.db['dhist'] = compress_dhist(dhist)[-100:]\n"
     ]
    }
   ],
   "source": [
    "%cd ~/cma/CMA_Fairness_v2"
   ]
  },
  {
   "cell_type": "markdown",
   "id": "9d235661",
   "metadata": {
    "papermill": {
     "duration": 0.009135,
     "end_time": "2025-08-19T18:17:27.841944",
     "exception": false,
     "start_time": "2025-08-19T18:17:27.832809",
     "status": "completed"
    },
    "tags": []
   },
   "source": [
    "The following cell holds the definition of our parameters, these values can be overriden by rendering the with e.g. the following command:\n",
    "\n",
    "papermill -p alpha 0.2 -p ratio 0.3 universe_analysis.ipynb output/test_run.ipynb"
   ]
  },
  {
   "cell_type": "code",
   "execution_count": 2,
   "id": "4a789d8e",
   "metadata": {
    "execution": {
     "iopub.execute_input": "2025-08-19T18:17:27.861655Z",
     "iopub.status.busy": "2025-08-19T18:17:27.861139Z",
     "iopub.status.idle": "2025-08-19T18:17:27.865679Z",
     "shell.execute_reply": "2025-08-19T18:17:27.864989Z"
    },
    "papermill": {
     "duration": 0.016355,
     "end_time": "2025-08-19T18:17:27.867335",
     "exception": false,
     "start_time": "2025-08-19T18:17:27.850980",
     "status": "completed"
    },
    "tags": []
   },
   "outputs": [
    {
     "name": "stdout",
     "output_type": "stream",
     "text": [
      "Current working directory: /dss/dsshome1/0C/ra93lal2/cma/CMA_Fairness_v2\n"
     ]
    }
   ],
   "source": [
    "import os\n",
    "print(\"Current working directory:\", os.getcwd())"
   ]
  },
  {
   "cell_type": "code",
   "execution_count": 3,
   "id": "4132aaed",
   "metadata": {
    "execution": {
     "iopub.execute_input": "2025-08-19T18:17:27.886398Z",
     "iopub.status.busy": "2025-08-19T18:17:27.886055Z",
     "iopub.status.idle": "2025-08-19T18:17:27.891359Z",
     "shell.execute_reply": "2025-08-19T18:17:27.890529Z"
    },
    "papermill": {
     "duration": 0.016576,
     "end_time": "2025-08-19T18:17:27.892685",
     "exception": false,
     "start_time": "2025-08-19T18:17:27.876109",
     "status": "completed"
    },
    "tags": [
     "parameters"
    ]
   },
   "outputs": [],
   "source": [
    "run_no = 0\n",
    "universe_id = \"test\"\n",
    "universe = {\n",
    "    \"training_size\": \"5k\", # \"25k\", \"5k\", \"1k\"\n",
    "    \"training_year\": \"2012_14\", # \"2014\", \"2012_14\", \"2010_14\"\n",
    "    \"scale\": \"scale\", # \"scale\", \"do-not-scale\",\n",
    "    \"model\": \"elasticnet\", # \"logreg\", \"penalized_logreg\", \"rf\", \"gbm\", \"elasticnet\"\n",
    "    \"cutoff\": [\"quantile_0.15\", \"quantile_0.30\"],\n",
    "    \"exclude_features\": \"age\", # \"none\", \"nationality\", \"sex\", \"nationality-sex\", \"age\"\n",
    "    \"exclude_subgroups\": \"drop-non-german\", # \"keep-all\", \"drop-non-german\"\n",
    "    \"eval_fairness_grouping\": [\"majority-minority\", \"nationality-all\"]\n",
    "}\n",
    "\n",
    "output_dir=\"./output\"\n",
    "seed=0"
   ]
  },
  {
   "cell_type": "code",
   "execution_count": 4,
   "id": "7c399a5b",
   "metadata": {
    "execution": {
     "iopub.execute_input": "2025-08-19T18:17:27.913452Z",
     "iopub.status.busy": "2025-08-19T18:17:27.912711Z",
     "iopub.status.idle": "2025-08-19T18:17:27.920036Z",
     "shell.execute_reply": "2025-08-19T18:17:27.919061Z"
    },
    "papermill": {
     "duration": 0.018891,
     "end_time": "2025-08-19T18:17:27.921380",
     "exception": false,
     "start_time": "2025-08-19T18:17:27.902489",
     "status": "completed"
    },
    "tags": [
     "injected-parameters"
    ]
   },
   "outputs": [],
   "source": [
    "# Parameters\n",
    "universe_id = \"791ee8f1f4fbb52f31542899394a58a8\"\n",
    "run_no = \"3\"\n",
    "universe = \"{\\\"cutoff\\\": [\\\"quantile_0.1\\\", \\\"quantile_0.25\\\"], \\\"eval_fairness_grouping\\\": [\\\"majority-minority\\\", \\\"nationality-all\\\"], \\\"exclude_features\\\": \\\"age\\\", \\\"exclude_subgroups\\\": \\\"keep-all\\\", \\\"model\\\": \\\"elasticnet\\\", \\\"scale\\\": \\\"scale\\\", \\\"training_size\\\": \\\"25k\\\", \\\"training_year\\\": \\\"2010_14\\\"}\"\n",
    "output_dir = \"output\"\n",
    "seed = \"2023\"\n"
   ]
  },
  {
   "cell_type": "code",
   "execution_count": 5,
   "id": "a5d7941f",
   "metadata": {
    "execution": {
     "iopub.execute_input": "2025-08-19T18:17:27.942330Z",
     "iopub.status.busy": "2025-08-19T18:17:27.941953Z",
     "iopub.status.idle": "2025-08-19T18:17:27.952606Z",
     "shell.execute_reply": "2025-08-19T18:17:27.951841Z"
    },
    "papermill": {
     "duration": 0.023193,
     "end_time": "2025-08-19T18:17:27.954115",
     "exception": false,
     "start_time": "2025-08-19T18:17:27.930922",
     "status": "completed"
    },
    "tags": []
   },
   "outputs": [],
   "source": [
    "import json\n",
    "if isinstance(universe, str):\n",
    "    universe = json.loads(universe)"
   ]
  },
  {
   "cell_type": "code",
   "execution_count": 6,
   "id": "7076ccb1",
   "metadata": {
    "execution": {
     "iopub.execute_input": "2025-08-19T18:17:27.976286Z",
     "iopub.status.busy": "2025-08-19T18:17:27.975417Z",
     "iopub.status.idle": "2025-08-19T18:17:28.046918Z",
     "shell.execute_reply": "2025-08-19T18:17:28.045776Z"
    },
    "papermill": {
     "duration": 0.088186,
     "end_time": "2025-08-19T18:17:28.053200",
     "exception": false,
     "start_time": "2025-08-19T18:17:27.965014",
     "status": "completed"
    },
    "tags": []
   },
   "outputs": [],
   "source": [
    "# Auto-reload the custom package\n",
    "%load_ext autoreload\n",
    "%autoreload 1\n",
    "%aimport fairness_multiverse"
   ]
  },
  {
   "cell_type": "code",
   "execution_count": 7,
   "id": "94c8eb93",
   "metadata": {
    "execution": {
     "iopub.execute_input": "2025-08-19T18:17:28.075987Z",
     "iopub.status.busy": "2025-08-19T18:17:28.075584Z",
     "iopub.status.idle": "2025-08-19T18:17:29.818257Z",
     "shell.execute_reply": "2025-08-19T18:17:29.817452Z"
    },
    "papermill": {
     "duration": 1.754798,
     "end_time": "2025-08-19T18:17:29.819986",
     "exception": false,
     "start_time": "2025-08-19T18:17:28.065188",
     "status": "completed"
    },
    "tags": []
   },
   "outputs": [],
   "source": [
    "from fairness_multiverse.universe import UniverseAnalysis\n",
    "\n",
    "universe_analysis = UniverseAnalysis(\n",
    "    run_no = run_no,\n",
    "    universe_id = universe_id,\n",
    "    universe = universe,\n",
    "    output_dir=output_dir,\n",
    ")"
   ]
  },
  {
   "cell_type": "code",
   "execution_count": 8,
   "id": "2a6381cf",
   "metadata": {
    "execution": {
     "iopub.execute_input": "2025-08-19T18:17:29.841851Z",
     "iopub.status.busy": "2025-08-19T18:17:29.841290Z",
     "iopub.status.idle": "2025-08-19T18:17:29.848116Z",
     "shell.execute_reply": "2025-08-19T18:17:29.847051Z"
    },
    "papermill": {
     "duration": 0.020196,
     "end_time": "2025-08-19T18:17:29.849421",
     "exception": false,
     "start_time": "2025-08-19T18:17:29.829225",
     "status": "completed"
    },
    "tags": []
   },
   "outputs": [
    {
     "name": "stdout",
     "output_type": "stream",
     "text": [
      "Using Seed: 2023\n"
     ]
    }
   ],
   "source": [
    "import numpy as np\n",
    "parsed_seed = int(seed)\n",
    "np.random.seed(parsed_seed)\n",
    "print(f\"Using Seed: {parsed_seed}\")"
   ]
  },
  {
   "cell_type": "markdown",
   "id": "b6e958b4",
   "metadata": {
    "papermill": {
     "duration": 0.010499,
     "end_time": "2025-08-19T18:17:29.869432",
     "exception": false,
     "start_time": "2025-08-19T18:17:29.858933",
     "status": "completed"
    },
    "tags": []
   },
   "source": [
    "# Loading Data"
   ]
  },
  {
   "cell_type": "code",
   "execution_count": 9,
   "id": "98701482",
   "metadata": {
    "execution": {
     "iopub.execute_input": "2025-08-19T18:17:29.890103Z",
     "iopub.status.busy": "2025-08-19T18:17:29.888995Z",
     "iopub.status.idle": "2025-08-19T18:17:40.643070Z",
     "shell.execute_reply": "2025-08-19T18:17:40.641675Z"
    },
    "papermill": {
     "duration": 10.766902,
     "end_time": "2025-08-19T18:17:40.645696",
     "exception": false,
     "start_time": "2025-08-19T18:17:29.878794",
     "status": "completed"
    },
    "tags": []
   },
   "outputs": [
    {
     "name": "stdout",
     "output_type": "stream",
     "text": [
      "Loading SIAB data from cache: data/siab_cached.csv.gz\n"
     ]
    },
    {
     "name": "stdout",
     "output_type": "stream",
     "text": [
      "(643690, 164)\n"
     ]
    }
   ],
   "source": [
    "from pathlib import Path\n",
    "import pandas as pd\n",
    "\n",
    "# File paths\n",
    "raw_file = Path(\"data/raw/siab.csv\")\n",
    "cache_file = Path(\"data/siab_cached.csv.gz\")\n",
    "\n",
    "# Ensure cache directory exists\n",
    "cache_file.parent.mkdir(parents=True, exist_ok=True)\n",
    "\n",
    "# Load with simple caching\n",
    "if cache_file.exists():\n",
    "    print(f\"Loading SIAB data from cache: {cache_file}\")\n",
    "    siab = pd.read_csv(cache_file, compression='gzip')\n",
    "else:\n",
    "    print(f\"Cache not found. Reading raw SIAB data: {raw_file}\")\n",
    "    siab = pd.read_csv(raw_file)\n",
    "    siab.to_csv(cache_file, index=False, compression='gzip')\n",
    "    print(f\"Cached SIAB data to: {cache_file}\")\n",
    "\n",
    "print(siab.shape)"
   ]
  },
  {
   "cell_type": "code",
   "execution_count": 10,
   "id": "058d2abb",
   "metadata": {
    "execution": {
     "iopub.execute_input": "2025-08-19T18:17:40.685717Z",
     "iopub.status.busy": "2025-08-19T18:17:40.684060Z",
     "iopub.status.idle": "2025-08-19T18:17:40.877737Z",
     "shell.execute_reply": "2025-08-19T18:17:40.876968Z"
    },
    "papermill": {
     "duration": 0.211777,
     "end_time": "2025-08-19T18:17:40.881766",
     "exception": false,
     "start_time": "2025-08-19T18:17:40.669989",
     "status": "completed"
    },
    "tags": []
   },
   "outputs": [
    {
     "data": {
      "text/html": [
       "<div>\n",
       "<style scoped>\n",
       "    .dataframe tbody tr th:only-of-type {\n",
       "        vertical-align: middle;\n",
       "    }\n",
       "\n",
       "    .dataframe tbody tr th {\n",
       "        vertical-align: top;\n",
       "    }\n",
       "\n",
       "    .dataframe thead th {\n",
       "        text-align: right;\n",
       "    }\n",
       "</style>\n",
       "<table border=\"1\" class=\"dataframe\">\n",
       "  <thead>\n",
       "    <tr style=\"text-align: right;\">\n",
       "      <th></th>\n",
       "      <th>persnr</th>\n",
       "      <th>year</th>\n",
       "      <th>nrEntry</th>\n",
       "      <th>ltue</th>\n",
       "      <th>employed_before</th>\n",
       "      <th>receipt_leh_before</th>\n",
       "      <th>receipt_lhg_before</th>\n",
       "      <th>se_before</th>\n",
       "      <th>ASU_notue_seeking_before</th>\n",
       "      <th>ASU_other_before</th>\n",
       "      <th>...</th>\n",
       "      <th>minijob_tot_dur_byage</th>\n",
       "      <th>ft_tot_dur_byage</th>\n",
       "      <th>befrist_tot_dur_byage</th>\n",
       "      <th>leih_tot_dur_byage</th>\n",
       "      <th>LHG_tot_dur_byage</th>\n",
       "      <th>LEH_tot_dur_byage</th>\n",
       "      <th>almp_tot_dur_byage</th>\n",
       "      <th>almp_aw_tot_dur_byage</th>\n",
       "      <th>se_tot_dur_byage</th>\n",
       "      <th>seeking1_tot_dur_byage</th>\n",
       "    </tr>\n",
       "  </thead>\n",
       "  <tbody>\n",
       "    <tr>\n",
       "      <th>0</th>\n",
       "      <td>7</td>\n",
       "      <td>2015</td>\n",
       "      <td>1</td>\n",
       "      <td>0</td>\n",
       "      <td>1</td>\n",
       "      <td>0</td>\n",
       "      <td>0</td>\n",
       "      <td>0</td>\n",
       "      <td>1</td>\n",
       "      <td>0</td>\n",
       "      <td>...</td>\n",
       "      <td>0.000000</td>\n",
       "      <td>0.000000</td>\n",
       "      <td>15.043478</td>\n",
       "      <td>0.000000</td>\n",
       "      <td>0.000000</td>\n",
       "      <td>0.000000</td>\n",
       "      <td>0.000000</td>\n",
       "      <td>0.000000</td>\n",
       "      <td>0.000000</td>\n",
       "      <td>0.000000</td>\n",
       "    </tr>\n",
       "    <tr>\n",
       "      <th>1</th>\n",
       "      <td>18</td>\n",
       "      <td>2010</td>\n",
       "      <td>1</td>\n",
       "      <td>1</td>\n",
       "      <td>0</td>\n",
       "      <td>0</td>\n",
       "      <td>0</td>\n",
       "      <td>0</td>\n",
       "      <td>0</td>\n",
       "      <td>0</td>\n",
       "      <td>...</td>\n",
       "      <td>0.000000</td>\n",
       "      <td>0.000000</td>\n",
       "      <td>0.000000</td>\n",
       "      <td>0.000000</td>\n",
       "      <td>0.000000</td>\n",
       "      <td>0.000000</td>\n",
       "      <td>0.000000</td>\n",
       "      <td>0.000000</td>\n",
       "      <td>0.000000</td>\n",
       "      <td>0.000000</td>\n",
       "    </tr>\n",
       "    <tr>\n",
       "      <th>2</th>\n",
       "      <td>18</td>\n",
       "      <td>2011</td>\n",
       "      <td>2</td>\n",
       "      <td>0</td>\n",
       "      <td>1</td>\n",
       "      <td>0</td>\n",
       "      <td>1</td>\n",
       "      <td>0</td>\n",
       "      <td>1</td>\n",
       "      <td>0</td>\n",
       "      <td>...</td>\n",
       "      <td>2.714286</td>\n",
       "      <td>2.714286</td>\n",
       "      <td>0.000000</td>\n",
       "      <td>0.000000</td>\n",
       "      <td>10.775510</td>\n",
       "      <td>0.000000</td>\n",
       "      <td>8.367347</td>\n",
       "      <td>0.000000</td>\n",
       "      <td>0.000000</td>\n",
       "      <td>9.836735</td>\n",
       "    </tr>\n",
       "    <tr>\n",
       "      <th>3</th>\n",
       "      <td>18</td>\n",
       "      <td>2012</td>\n",
       "      <td>3</td>\n",
       "      <td>0</td>\n",
       "      <td>1</td>\n",
       "      <td>0</td>\n",
       "      <td>1</td>\n",
       "      <td>0</td>\n",
       "      <td>1</td>\n",
       "      <td>0</td>\n",
       "      <td>...</td>\n",
       "      <td>4.200000</td>\n",
       "      <td>4.200000</td>\n",
       "      <td>0.000000</td>\n",
       "      <td>0.000000</td>\n",
       "      <td>12.100000</td>\n",
       "      <td>0.000000</td>\n",
       "      <td>9.400000</td>\n",
       "      <td>0.000000</td>\n",
       "      <td>0.000000</td>\n",
       "      <td>9.960000</td>\n",
       "    </tr>\n",
       "    <tr>\n",
       "      <th>4</th>\n",
       "      <td>18</td>\n",
       "      <td>2012</td>\n",
       "      <td>4</td>\n",
       "      <td>0</td>\n",
       "      <td>1</td>\n",
       "      <td>0</td>\n",
       "      <td>1</td>\n",
       "      <td>0</td>\n",
       "      <td>1</td>\n",
       "      <td>0</td>\n",
       "      <td>...</td>\n",
       "      <td>5.460000</td>\n",
       "      <td>5.460000</td>\n",
       "      <td>0.000000</td>\n",
       "      <td>0.000000</td>\n",
       "      <td>13.360000</td>\n",
       "      <td>0.000000</td>\n",
       "      <td>10.320000</td>\n",
       "      <td>0.000000</td>\n",
       "      <td>0.000000</td>\n",
       "      <td>10.280000</td>\n",
       "    </tr>\n",
       "    <tr>\n",
       "      <th>...</th>\n",
       "      <td>...</td>\n",
       "      <td>...</td>\n",
       "      <td>...</td>\n",
       "      <td>...</td>\n",
       "      <td>...</td>\n",
       "      <td>...</td>\n",
       "      <td>...</td>\n",
       "      <td>...</td>\n",
       "      <td>...</td>\n",
       "      <td>...</td>\n",
       "      <td>...</td>\n",
       "      <td>...</td>\n",
       "      <td>...</td>\n",
       "      <td>...</td>\n",
       "      <td>...</td>\n",
       "      <td>...</td>\n",
       "      <td>...</td>\n",
       "      <td>...</td>\n",
       "      <td>...</td>\n",
       "      <td>...</td>\n",
       "      <td>...</td>\n",
       "    </tr>\n",
       "    <tr>\n",
       "      <th>643685</th>\n",
       "      <td>1827860</td>\n",
       "      <td>2013</td>\n",
       "      <td>1</td>\n",
       "      <td>0</td>\n",
       "      <td>0</td>\n",
       "      <td>0</td>\n",
       "      <td>1</td>\n",
       "      <td>0</td>\n",
       "      <td>0</td>\n",
       "      <td>1</td>\n",
       "      <td>...</td>\n",
       "      <td>0.000000</td>\n",
       "      <td>0.000000</td>\n",
       "      <td>0.000000</td>\n",
       "      <td>0.000000</td>\n",
       "      <td>0.612903</td>\n",
       "      <td>0.000000</td>\n",
       "      <td>0.000000</td>\n",
       "      <td>0.000000</td>\n",
       "      <td>0.000000</td>\n",
       "      <td>0.000000</td>\n",
       "    </tr>\n",
       "    <tr>\n",
       "      <th>643686</th>\n",
       "      <td>1827860</td>\n",
       "      <td>2015</td>\n",
       "      <td>2</td>\n",
       "      <td>1</td>\n",
       "      <td>0</td>\n",
       "      <td>0</td>\n",
       "      <td>1</td>\n",
       "      <td>0</td>\n",
       "      <td>1</td>\n",
       "      <td>0</td>\n",
       "      <td>...</td>\n",
       "      <td>0.000000</td>\n",
       "      <td>0.000000</td>\n",
       "      <td>0.212121</td>\n",
       "      <td>0.212121</td>\n",
       "      <td>17.363636</td>\n",
       "      <td>0.000000</td>\n",
       "      <td>8.909091</td>\n",
       "      <td>0.000000</td>\n",
       "      <td>0.000000</td>\n",
       "      <td>7.121212</td>\n",
       "    </tr>\n",
       "    <tr>\n",
       "      <th>643687</th>\n",
       "      <td>1827860</td>\n",
       "      <td>2016</td>\n",
       "      <td>3</td>\n",
       "      <td>1</td>\n",
       "      <td>0</td>\n",
       "      <td>0</td>\n",
       "      <td>1</td>\n",
       "      <td>1</td>\n",
       "      <td>0</td>\n",
       "      <td>1</td>\n",
       "      <td>...</td>\n",
       "      <td>0.000000</td>\n",
       "      <td>0.000000</td>\n",
       "      <td>0.294118</td>\n",
       "      <td>0.205882</td>\n",
       "      <td>34.705882</td>\n",
       "      <td>0.000000</td>\n",
       "      <td>10.352941</td>\n",
       "      <td>1.705882</td>\n",
       "      <td>1.705882</td>\n",
       "      <td>23.911765</td>\n",
       "    </tr>\n",
       "    <tr>\n",
       "      <th>643688</th>\n",
       "      <td>1827869</td>\n",
       "      <td>2013</td>\n",
       "      <td>1</td>\n",
       "      <td>1</td>\n",
       "      <td>1</td>\n",
       "      <td>0</td>\n",
       "      <td>0</td>\n",
       "      <td>0</td>\n",
       "      <td>1</td>\n",
       "      <td>0</td>\n",
       "      <td>...</td>\n",
       "      <td>0.000000</td>\n",
       "      <td>0.000000</td>\n",
       "      <td>0.000000</td>\n",
       "      <td>0.000000</td>\n",
       "      <td>0.000000</td>\n",
       "      <td>0.525424</td>\n",
       "      <td>0.000000</td>\n",
       "      <td>0.000000</td>\n",
       "      <td>0.000000</td>\n",
       "      <td>0.000000</td>\n",
       "    </tr>\n",
       "    <tr>\n",
       "      <th>643689</th>\n",
       "      <td>1827869</td>\n",
       "      <td>2014</td>\n",
       "      <td>2</td>\n",
       "      <td>0</td>\n",
       "      <td>0</td>\n",
       "      <td>1</td>\n",
       "      <td>0</td>\n",
       "      <td>0</td>\n",
       "      <td>1</td>\n",
       "      <td>0</td>\n",
       "      <td>...</td>\n",
       "      <td>0.000000</td>\n",
       "      <td>0.666667</td>\n",
       "      <td>0.666667</td>\n",
       "      <td>0.000000</td>\n",
       "      <td>0.000000</td>\n",
       "      <td>8.950000</td>\n",
       "      <td>1.033333</td>\n",
       "      <td>0.083333</td>\n",
       "      <td>0.083333</td>\n",
       "      <td>8.133333</td>\n",
       "    </tr>\n",
       "  </tbody>\n",
       "</table>\n",
       "<p>643690 rows × 164 columns</p>\n",
       "</div>"
      ],
      "text/plain": [
       "         persnr  year  nrEntry  ltue  employed_before  receipt_leh_before  \\\n",
       "0             7  2015        1     0                1                   0   \n",
       "1            18  2010        1     1                0                   0   \n",
       "2            18  2011        2     0                1                   0   \n",
       "3            18  2012        3     0                1                   0   \n",
       "4            18  2012        4     0                1                   0   \n",
       "...         ...   ...      ...   ...              ...                 ...   \n",
       "643685  1827860  2013        1     0                0                   0   \n",
       "643686  1827860  2015        2     1                0                   0   \n",
       "643687  1827860  2016        3     1                0                   0   \n",
       "643688  1827869  2013        1     1                1                   0   \n",
       "643689  1827869  2014        2     0                0                   1   \n",
       "\n",
       "        receipt_lhg_before  se_before  ASU_notue_seeking_before  \\\n",
       "0                        0          0                         1   \n",
       "1                        0          0                         0   \n",
       "2                        1          0                         1   \n",
       "3                        1          0                         1   \n",
       "4                        1          0                         1   \n",
       "...                    ...        ...                       ...   \n",
       "643685                   1          0                         0   \n",
       "643686                   1          0                         1   \n",
       "643687                   1          1                         0   \n",
       "643688                   0          0                         1   \n",
       "643689                   0          0                         1   \n",
       "\n",
       "        ASU_other_before  ...  minijob_tot_dur_byage  ft_tot_dur_byage  \\\n",
       "0                      0  ...               0.000000          0.000000   \n",
       "1                      0  ...               0.000000          0.000000   \n",
       "2                      0  ...               2.714286          2.714286   \n",
       "3                      0  ...               4.200000          4.200000   \n",
       "4                      0  ...               5.460000          5.460000   \n",
       "...                  ...  ...                    ...               ...   \n",
       "643685                 1  ...               0.000000          0.000000   \n",
       "643686                 0  ...               0.000000          0.000000   \n",
       "643687                 1  ...               0.000000          0.000000   \n",
       "643688                 0  ...               0.000000          0.000000   \n",
       "643689                 0  ...               0.000000          0.666667   \n",
       "\n",
       "        befrist_tot_dur_byage  leih_tot_dur_byage  LHG_tot_dur_byage  \\\n",
       "0                   15.043478            0.000000           0.000000   \n",
       "1                    0.000000            0.000000           0.000000   \n",
       "2                    0.000000            0.000000          10.775510   \n",
       "3                    0.000000            0.000000          12.100000   \n",
       "4                    0.000000            0.000000          13.360000   \n",
       "...                       ...                 ...                ...   \n",
       "643685               0.000000            0.000000           0.612903   \n",
       "643686               0.212121            0.212121          17.363636   \n",
       "643687               0.294118            0.205882          34.705882   \n",
       "643688               0.000000            0.000000           0.000000   \n",
       "643689               0.666667            0.000000           0.000000   \n",
       "\n",
       "        LEH_tot_dur_byage  almp_tot_dur_byage  almp_aw_tot_dur_byage  \\\n",
       "0                0.000000            0.000000               0.000000   \n",
       "1                0.000000            0.000000               0.000000   \n",
       "2                0.000000            8.367347               0.000000   \n",
       "3                0.000000            9.400000               0.000000   \n",
       "4                0.000000           10.320000               0.000000   \n",
       "...                   ...                 ...                    ...   \n",
       "643685           0.000000            0.000000               0.000000   \n",
       "643686           0.000000            8.909091               0.000000   \n",
       "643687           0.000000           10.352941               1.705882   \n",
       "643688           0.525424            0.000000               0.000000   \n",
       "643689           8.950000            1.033333               0.083333   \n",
       "\n",
       "        se_tot_dur_byage  seeking1_tot_dur_byage  \n",
       "0               0.000000                0.000000  \n",
       "1               0.000000                0.000000  \n",
       "2               0.000000                9.836735  \n",
       "3               0.000000                9.960000  \n",
       "4               0.000000               10.280000  \n",
       "...                  ...                     ...  \n",
       "643685          0.000000                0.000000  \n",
       "643686          0.000000                7.121212  \n",
       "643687          1.705882               23.911765  \n",
       "643688          0.000000                0.000000  \n",
       "643689          0.083333                8.133333  \n",
       "\n",
       "[643690 rows x 164 columns]"
      ]
     },
     "execution_count": 10,
     "metadata": {},
     "output_type": "execute_result"
    }
   ],
   "source": [
    "siab"
   ]
  },
  {
   "cell_type": "markdown",
   "id": "1f87e805",
   "metadata": {
    "papermill": {
     "duration": 0.01148,
     "end_time": "2025-08-19T18:17:40.914719",
     "exception": false,
     "start_time": "2025-08-19T18:17:40.903239",
     "status": "completed"
    },
    "tags": []
   },
   "source": [
    "# Splitting Data and Setting Training Data Size"
   ]
  },
  {
   "cell_type": "code",
   "execution_count": 11,
   "id": "910ae358",
   "metadata": {
    "execution": {
     "iopub.execute_input": "2025-08-19T18:17:40.943969Z",
     "iopub.status.busy": "2025-08-19T18:17:40.936178Z",
     "iopub.status.idle": "2025-08-19T18:17:42.165350Z",
     "shell.execute_reply": "2025-08-19T18:17:42.164582Z"
    },
    "papermill": {
     "duration": 1.242375,
     "end_time": "2025-08-19T18:17:42.166979",
     "exception": false,
     "start_time": "2025-08-19T18:17:40.924604",
     "status": "completed"
    },
    "tags": []
   },
   "outputs": [],
   "source": [
    "from fairness_multiverse.universe import sample_by_year_size\n",
    "\n",
    "siab_train = sample_by_year_size(siab,\n",
    "                               training_year=universe[\"training_year\"],\n",
    "                               training_size=universe[\"training_size\"])"
   ]
  },
  {
   "cell_type": "code",
   "execution_count": 12,
   "id": "919c8ff5",
   "metadata": {
    "execution": {
     "iopub.execute_input": "2025-08-19T18:17:42.189643Z",
     "iopub.status.busy": "2025-08-19T18:17:42.188460Z",
     "iopub.status.idle": "2025-08-19T18:17:42.196071Z",
     "shell.execute_reply": "2025-08-19T18:17:42.194973Z"
    },
    "papermill": {
     "duration": 0.020133,
     "end_time": "2025-08-19T18:17:42.197508",
     "exception": false,
     "start_time": "2025-08-19T18:17:42.177375",
     "status": "completed"
    },
    "tags": []
   },
   "outputs": [
    {
     "data": {
      "text/plain": [
       "(25000, 164)"
      ]
     },
     "execution_count": 12,
     "metadata": {},
     "output_type": "execute_result"
    }
   ],
   "source": [
    "siab_train.shape"
   ]
  },
  {
   "cell_type": "code",
   "execution_count": 13,
   "id": "feb13bf4",
   "metadata": {
    "execution": {
     "iopub.execute_input": "2025-08-19T18:17:42.221342Z",
     "iopub.status.busy": "2025-08-19T18:17:42.219905Z",
     "iopub.status.idle": "2025-08-19T18:17:42.235533Z",
     "shell.execute_reply": "2025-08-19T18:17:42.234401Z"
    },
    "papermill": {
     "duration": 0.029001,
     "end_time": "2025-08-19T18:17:42.237274",
     "exception": false,
     "start_time": "2025-08-19T18:17:42.208273",
     "status": "completed"
    },
    "tags": []
   },
   "outputs": [
    {
     "data": {
      "text/plain": [
       "year\n",
       "2010    5000\n",
       "2011    5000\n",
       "2012    5000\n",
       "2013    5000\n",
       "2014    5000\n",
       "dtype: int64"
      ]
     },
     "metadata": {},
     "output_type": "display_data"
    }
   ],
   "source": [
    "display(siab_train.groupby(\"year\").size())"
   ]
  },
  {
   "cell_type": "code",
   "execution_count": 14,
   "id": "0997782f",
   "metadata": {
    "execution": {
     "iopub.execute_input": "2025-08-19T18:17:42.264742Z",
     "iopub.status.busy": "2025-08-19T18:17:42.263166Z",
     "iopub.status.idle": "2025-08-19T18:17:42.506740Z",
     "shell.execute_reply": "2025-08-19T18:17:42.505680Z"
    },
    "papermill": {
     "duration": 0.258024,
     "end_time": "2025-08-19T18:17:42.508440",
     "exception": false,
     "start_time": "2025-08-19T18:17:42.250416",
     "status": "completed"
    },
    "tags": []
   },
   "outputs": [],
   "source": [
    "#siab_train = siab_s[siab_s.year < 2015]\n",
    "siab_calib = siab[siab.year == 2015]\n",
    "siab_test = siab[siab.year == 2016]"
   ]
  },
  {
   "cell_type": "code",
   "execution_count": 15,
   "id": "2c1e4012",
   "metadata": {
    "execution": {
     "iopub.execute_input": "2025-08-19T18:17:42.539860Z",
     "iopub.status.busy": "2025-08-19T18:17:42.538550Z",
     "iopub.status.idle": "2025-08-19T18:17:42.546594Z",
     "shell.execute_reply": "2025-08-19T18:17:42.544732Z"
    },
    "papermill": {
     "duration": 0.02231,
     "end_time": "2025-08-19T18:17:42.548908",
     "exception": false,
     "start_time": "2025-08-19T18:17:42.526598",
     "status": "completed"
    },
    "tags": []
   },
   "outputs": [],
   "source": [
    "#siab_calib.shape"
   ]
  },
  {
   "cell_type": "code",
   "execution_count": 16,
   "id": "f66b54ca",
   "metadata": {
    "execution": {
     "iopub.execute_input": "2025-08-19T18:17:42.577093Z",
     "iopub.status.busy": "2025-08-19T18:17:42.575741Z",
     "iopub.status.idle": "2025-08-19T18:17:42.582600Z",
     "shell.execute_reply": "2025-08-19T18:17:42.581349Z"
    },
    "papermill": {
     "duration": 0.020805,
     "end_time": "2025-08-19T18:17:42.584133",
     "exception": false,
     "start_time": "2025-08-19T18:17:42.563328",
     "status": "completed"
    },
    "tags": []
   },
   "outputs": [],
   "source": [
    "#siab_test.shape"
   ]
  },
  {
   "cell_type": "code",
   "execution_count": 17,
   "id": "27e4384d",
   "metadata": {
    "execution": {
     "iopub.execute_input": "2025-08-19T18:17:42.609500Z",
     "iopub.status.busy": "2025-08-19T18:17:42.608056Z",
     "iopub.status.idle": "2025-08-19T18:17:42.648553Z",
     "shell.execute_reply": "2025-08-19T18:17:42.647796Z"
    },
    "papermill": {
     "duration": 0.054269,
     "end_time": "2025-08-19T18:17:42.650366",
     "exception": false,
     "start_time": "2025-08-19T18:17:42.596097",
     "status": "completed"
    },
    "tags": []
   },
   "outputs": [],
   "source": [
    "X_train = siab_train.iloc[:,4:164]\n",
    "y_train = siab_train.iloc[:, [3]]"
   ]
  },
  {
   "cell_type": "code",
   "execution_count": 18,
   "id": "08ee8389",
   "metadata": {
    "execution": {
     "iopub.execute_input": "2025-08-19T18:17:42.678052Z",
     "iopub.status.busy": "2025-08-19T18:17:42.676849Z",
     "iopub.status.idle": "2025-08-19T18:17:42.735682Z",
     "shell.execute_reply": "2025-08-19T18:17:42.734845Z"
    },
    "papermill": {
     "duration": 0.07369,
     "end_time": "2025-08-19T18:17:42.738703",
     "exception": false,
     "start_time": "2025-08-19T18:17:42.665013",
     "status": "completed"
    },
    "tags": []
   },
   "outputs": [],
   "source": [
    "X_calib = siab_calib.iloc[:,4:164]\n",
    "y_calib = siab_calib.iloc[:, [3]]"
   ]
  },
  {
   "cell_type": "code",
   "execution_count": 19,
   "id": "b7ff42e0",
   "metadata": {
    "execution": {
     "iopub.execute_input": "2025-08-19T18:17:42.778315Z",
     "iopub.status.busy": "2025-08-19T18:17:42.777118Z",
     "iopub.status.idle": "2025-08-19T18:17:42.840790Z",
     "shell.execute_reply": "2025-08-19T18:17:42.839987Z"
    },
    "papermill": {
     "duration": 0.081679,
     "end_time": "2025-08-19T18:17:42.844334",
     "exception": false,
     "start_time": "2025-08-19T18:17:42.762655",
     "status": "completed"
    },
    "tags": []
   },
   "outputs": [],
   "source": [
    "X_test = siab_test.iloc[:,4:164]\n",
    "y_true = siab_test.iloc[:, [3]]"
   ]
  },
  {
   "cell_type": "code",
   "execution_count": 20,
   "id": "0275101e",
   "metadata": {
    "execution": {
     "iopub.execute_input": "2025-08-19T18:17:42.882792Z",
     "iopub.status.busy": "2025-08-19T18:17:42.882082Z",
     "iopub.status.idle": "2025-08-19T18:17:43.023233Z",
     "shell.execute_reply": "2025-08-19T18:17:43.022473Z"
    },
    "papermill": {
     "duration": 0.15851,
     "end_time": "2025-08-19T18:17:43.026624",
     "exception": false,
     "start_time": "2025-08-19T18:17:42.868114",
     "status": "completed"
    },
    "tags": []
   },
   "outputs": [],
   "source": [
    "# Auxiliary data needed downstream in the pipeline\n",
    "\n",
    "org_train = X_train.copy()\n",
    "org_test = X_test.copy()\n",
    "org_calib = X_calib.copy()"
   ]
  },
  {
   "cell_type": "markdown",
   "id": "b461e618",
   "metadata": {
    "papermill": {
     "duration": 0.012907,
     "end_time": "2025-08-19T18:17:43.064642",
     "exception": false,
     "start_time": "2025-08-19T18:17:43.051735",
     "status": "completed"
    },
    "tags": []
   },
   "source": [
    "# Preprocessing Data"
   ]
  },
  {
   "cell_type": "code",
   "execution_count": 21,
   "id": "78e74c4b",
   "metadata": {
    "execution": {
     "iopub.execute_input": "2025-08-19T18:17:43.088939Z",
     "iopub.status.busy": "2025-08-19T18:17:43.087450Z",
     "iopub.status.idle": "2025-08-19T18:17:43.096801Z",
     "shell.execute_reply": "2025-08-19T18:17:43.095536Z"
    },
    "papermill": {
     "duration": 0.023533,
     "end_time": "2025-08-19T18:17:43.098528",
     "exception": false,
     "start_time": "2025-08-19T18:17:43.074995",
     "status": "completed"
    },
    "tags": []
   },
   "outputs": [],
   "source": [
    "# EXCLUDE PROTECTED FEATURES\n",
    "# --------------------------\n",
    "\n",
    "excluded_features = universe[\"exclude_features\"].split(\"-\")\n",
    "excluded_features_dictionary = {\n",
    "    \"nationality\": [\"maxdeutsch1\", \"maxdeutsch.Missing.\"],\n",
    "    \"sex\": [\"frau1\"],\n",
    "    \"age\": [\"age\"],\n",
    "}"
   ]
  },
  {
   "cell_type": "code",
   "execution_count": 22,
   "id": "f8e63555",
   "metadata": {
    "execution": {
     "iopub.execute_input": "2025-08-19T18:17:43.123939Z",
     "iopub.status.busy": "2025-08-19T18:17:43.122644Z",
     "iopub.status.idle": "2025-08-19T18:17:43.131153Z",
     "shell.execute_reply": "2025-08-19T18:17:43.129902Z"
    },
    "papermill": {
     "duration": 0.022358,
     "end_time": "2025-08-19T18:17:43.132790",
     "exception": false,
     "start_time": "2025-08-19T18:17:43.110432",
     "status": "completed"
    },
    "tags": []
   },
   "outputs": [],
   "source": [
    "excluded_features_columns = [\n",
    "    excluded_features_dictionary[f] for f in excluded_features if len(f) > 0 and f != \"none\"\n",
    "]"
   ]
  },
  {
   "cell_type": "code",
   "execution_count": 23,
   "id": "da781f7c",
   "metadata": {
    "execution": {
     "iopub.execute_input": "2025-08-19T18:17:43.160363Z",
     "iopub.status.busy": "2025-08-19T18:17:43.158899Z",
     "iopub.status.idle": "2025-08-19T18:17:43.166669Z",
     "shell.execute_reply": "2025-08-19T18:17:43.165515Z"
    },
    "papermill": {
     "duration": 0.021725,
     "end_time": "2025-08-19T18:17:43.168329",
     "exception": false,
     "start_time": "2025-08-19T18:17:43.146604",
     "status": "completed"
    },
    "tags": []
   },
   "outputs": [],
   "source": [
    "from fairness_multiverse.universe import flatten_once\n",
    "\n",
    "excluded_features_columns = flatten_once(excluded_features_columns)"
   ]
  },
  {
   "cell_type": "code",
   "execution_count": 24,
   "id": "37fef0f0",
   "metadata": {
    "execution": {
     "iopub.execute_input": "2025-08-19T18:17:43.193403Z",
     "iopub.status.busy": "2025-08-19T18:17:43.191938Z",
     "iopub.status.idle": "2025-08-19T18:17:43.212406Z",
     "shell.execute_reply": "2025-08-19T18:17:43.211382Z"
    },
    "papermill": {
     "duration": 0.034325,
     "end_time": "2025-08-19T18:17:43.214170",
     "exception": false,
     "start_time": "2025-08-19T18:17:43.179845",
     "status": "completed"
    },
    "tags": []
   },
   "outputs": [
    {
     "name": "stdout",
     "output_type": "stream",
     "text": [
      "Dropping features: ['age']\n"
     ]
    }
   ],
   "source": [
    "if len(excluded_features_columns) > 0:\n",
    "    print(f\"Dropping features: {excluded_features_columns}\")\n",
    "    X_train.drop(excluded_features_columns, axis=1, inplace=True)"
   ]
  },
  {
   "cell_type": "code",
   "execution_count": 25,
   "id": "d029e3e9",
   "metadata": {
    "execution": {
     "iopub.execute_input": "2025-08-19T18:17:43.245787Z",
     "iopub.status.busy": "2025-08-19T18:17:43.244246Z",
     "iopub.status.idle": "2025-08-19T18:17:43.307460Z",
     "shell.execute_reply": "2025-08-19T18:17:43.306681Z"
    },
    "papermill": {
     "duration": 0.079757,
     "end_time": "2025-08-19T18:17:43.311168",
     "exception": false,
     "start_time": "2025-08-19T18:17:43.231411",
     "status": "completed"
    },
    "tags": []
   },
   "outputs": [
    {
     "name": "stdout",
     "output_type": "stream",
     "text": [
      "Dropping features: ['age']\n"
     ]
    }
   ],
   "source": [
    "if len(excluded_features_columns) > 0:\n",
    "    print(f\"Dropping features: {excluded_features_columns}\")\n",
    "    X_test.drop(excluded_features_columns, axis=1, inplace=True)"
   ]
  },
  {
   "cell_type": "code",
   "execution_count": 26,
   "id": "01d571f0",
   "metadata": {
    "execution": {
     "iopub.execute_input": "2025-08-19T18:17:43.349504Z",
     "iopub.status.busy": "2025-08-19T18:17:43.347953Z",
     "iopub.status.idle": "2025-08-19T18:17:43.404989Z",
     "shell.execute_reply": "2025-08-19T18:17:43.404251Z"
    },
    "papermill": {
     "duration": 0.074331,
     "end_time": "2025-08-19T18:17:43.408401",
     "exception": false,
     "start_time": "2025-08-19T18:17:43.334070",
     "status": "completed"
    },
    "tags": []
   },
   "outputs": [
    {
     "name": "stdout",
     "output_type": "stream",
     "text": [
      "Dropping features: ['age']\n"
     ]
    }
   ],
   "source": [
    "if len(excluded_features_columns) > 0:\n",
    "    print(f\"Dropping features: {excluded_features_columns}\")\n",
    "    X_calib.drop(excluded_features_columns, axis=1, inplace=True)"
   ]
  },
  {
   "cell_type": "code",
   "execution_count": 27,
   "id": "3037356e",
   "metadata": {
    "execution": {
     "iopub.execute_input": "2025-08-19T18:17:43.460391Z",
     "iopub.status.busy": "2025-08-19T18:17:43.459690Z",
     "iopub.status.idle": "2025-08-19T18:17:43.499774Z",
     "shell.execute_reply": "2025-08-19T18:17:43.499014Z"
    },
    "papermill": {
     "duration": 0.077908,
     "end_time": "2025-08-19T18:17:43.504267",
     "exception": false,
     "start_time": "2025-08-19T18:17:43.426359",
     "status": "completed"
    },
    "tags": []
   },
   "outputs": [],
   "source": [
    "# EXCLUDE CERTAIN SUBGROUPS\n",
    "# -------------------------\n",
    "\n",
    "mode = universe.get(\"exclude_subgroups\", \"keep-all\") # Defaults to \"keep-all\" if the key is missing."
   ]
  },
  {
   "cell_type": "code",
   "execution_count": 28,
   "id": "9d1e63fd",
   "metadata": {
    "execution": {
     "iopub.execute_input": "2025-08-19T18:17:43.537773Z",
     "iopub.status.busy": "2025-08-19T18:17:43.536525Z",
     "iopub.status.idle": "2025-08-19T18:17:43.546473Z",
     "shell.execute_reply": "2025-08-19T18:17:43.545297Z"
    },
    "papermill": {
     "duration": 0.025141,
     "end_time": "2025-08-19T18:17:43.548128",
     "exception": false,
     "start_time": "2025-08-19T18:17:43.522987",
     "status": "completed"
    },
    "tags": []
   },
   "outputs": [],
   "source": [
    "if mode == \"keep-all\":\n",
    "    keep_mask = pd.Series(True, index=org_train.index)\n",
    "\n",
    "elif mode == \"drop-non-german\":\n",
    "    keep_mask = (org_train[\"maxdeutsch1\"] == 1) & (org_train[\"maxdeutsch.Missing.\"] == 0)\n",
    "\n",
    "else:\n",
    "    raise ValueError(f\"Unsupported mode for exclude_subgroups: {mode}\")"
   ]
  },
  {
   "cell_type": "code",
   "execution_count": 29,
   "id": "d3b65474",
   "metadata": {
    "execution": {
     "iopub.execute_input": "2025-08-19T18:17:43.576896Z",
     "iopub.status.busy": "2025-08-19T18:17:43.575459Z",
     "iopub.status.idle": "2025-08-19T18:17:43.585508Z",
     "shell.execute_reply": "2025-08-19T18:17:43.584155Z"
    },
    "papermill": {
     "duration": 0.025025,
     "end_time": "2025-08-19T18:17:43.587095",
     "exception": false,
     "start_time": "2025-08-19T18:17:43.562070",
     "status": "completed"
    },
    "tags": []
   },
   "outputs": [],
   "source": [
    "n_drop = (~keep_mask).sum() # Calculates how many rows are set to be dropped\n",
    "if n_drop > 0:\n",
    "    pct = n_drop / len(keep_mask) * 100\n",
    "    print(f\"Dropping {n_drop} rows ({pct:.2f}%) where mode='{mode}'\")"
   ]
  },
  {
   "cell_type": "code",
   "execution_count": 30,
   "id": "f44389b3",
   "metadata": {
    "execution": {
     "iopub.execute_input": "2025-08-19T18:17:43.615520Z",
     "iopub.status.busy": "2025-08-19T18:17:43.614278Z",
     "iopub.status.idle": "2025-08-19T18:17:43.634656Z",
     "shell.execute_reply": "2025-08-19T18:17:43.633623Z"
    },
    "papermill": {
     "duration": 0.035163,
     "end_time": "2025-08-19T18:17:43.636516",
     "exception": false,
     "start_time": "2025-08-19T18:17:43.601353",
     "status": "completed"
    },
    "tags": []
   },
   "outputs": [],
   "source": [
    "X_train = X_train[keep_mask]"
   ]
  },
  {
   "cell_type": "code",
   "execution_count": 31,
   "id": "ceca8c2a",
   "metadata": {
    "execution": {
     "iopub.execute_input": "2025-08-19T18:17:43.670017Z",
     "iopub.status.busy": "2025-08-19T18:17:43.668765Z",
     "iopub.status.idle": "2025-08-19T18:17:43.678349Z",
     "shell.execute_reply": "2025-08-19T18:17:43.677246Z"
    },
    "papermill": {
     "duration": 0.025836,
     "end_time": "2025-08-19T18:17:43.680214",
     "exception": false,
     "start_time": "2025-08-19T18:17:43.654378",
     "status": "completed"
    },
    "tags": []
   },
   "outputs": [],
   "source": [
    "y_train = y_train[keep_mask]"
   ]
  },
  {
   "cell_type": "markdown",
   "id": "04d31e2f",
   "metadata": {
    "papermill": {
     "duration": 0.011272,
     "end_time": "2025-08-19T18:17:43.705223",
     "exception": false,
     "start_time": "2025-08-19T18:17:43.693951",
     "status": "completed"
    },
    "tags": []
   },
   "source": [
    "# Model Training"
   ]
  },
  {
   "cell_type": "code",
   "execution_count": 32,
   "id": "db991733",
   "metadata": {
    "execution": {
     "iopub.execute_input": "2025-08-19T18:17:43.731439Z",
     "iopub.status.busy": "2025-08-19T18:17:43.729953Z",
     "iopub.status.idle": "2025-08-19T18:17:43.854259Z",
     "shell.execute_reply": "2025-08-19T18:17:43.852724Z"
    },
    "papermill": {
     "duration": 0.140958,
     "end_time": "2025-08-19T18:17:43.857607",
     "exception": false,
     "start_time": "2025-08-19T18:17:43.716649",
     "status": "completed"
    },
    "tags": []
   },
   "outputs": [],
   "source": [
    "from sklearn.linear_model import LogisticRegression\n",
    "from sklearn.ensemble import GradientBoostingClassifier, RandomForestClassifier\n",
    "\n",
    "if (universe[\"model\"] == \"logreg\"):\n",
    "    model = LogisticRegression() #penalty=\"none\", solver=\"newton-cg\", max_iter=1)\n",
    "elif (universe[\"model\"] == \"penalized_logreg\"):\n",
    "    model = LogisticRegression(penalty=\"l2\", C=0.1) #, solver=\"newton-cg\", max_iter=1)\n",
    "elif (universe[\"model\"] == \"rf\"):\n",
    "    model = RandomForestClassifier() # n_estimators=100, n_jobs=-1\n",
    "elif (universe[\"model\"] == \"gbm\"):\n",
    "    model = GradientBoostingClassifier()\n",
    "elif (universe[\"model\"] == \"elasticnet\"):\n",
    "    model = LogisticRegression(penalty = 'elasticnet', solver = 'saga', l1_ratio = 0.5) # max_iter=5000\n",
    "else:\n",
    "    raise \"Unsupported universe.model\""
   ]
  },
  {
   "cell_type": "code",
   "execution_count": 33,
   "id": "a4b5cd25",
   "metadata": {
    "execution": {
     "iopub.execute_input": "2025-08-19T18:17:43.914362Z",
     "iopub.status.busy": "2025-08-19T18:17:43.912852Z",
     "iopub.status.idle": "2025-08-19T18:17:43.924351Z",
     "shell.execute_reply": "2025-08-19T18:17:43.922464Z"
    },
    "papermill": {
     "duration": 0.043458,
     "end_time": "2025-08-19T18:17:43.927294",
     "exception": false,
     "start_time": "2025-08-19T18:17:43.883836",
     "status": "completed"
    },
    "tags": []
   },
   "outputs": [],
   "source": [
    "from sklearn.pipeline import Pipeline\n",
    "from sklearn.preprocessing import StandardScaler\n",
    "\n",
    "model = Pipeline([\n",
    "    #(\"continuous_processor\", continuous_processor),\n",
    "    #(\"categorical_preprocessor\", categorical_preprocessor),\n",
    "    (\"scale\", StandardScaler() if universe[\"scale\"] == \"scale\" else None), \n",
    "    (\"model\", model),\n",
    "])"
   ]
  },
  {
   "cell_type": "code",
   "execution_count": 34,
   "id": "283a904d",
   "metadata": {
    "execution": {
     "iopub.execute_input": "2025-08-19T18:17:43.970341Z",
     "iopub.status.busy": "2025-08-19T18:17:43.969024Z",
     "iopub.status.idle": "2025-08-19T18:17:50.827092Z",
     "shell.execute_reply": "2025-08-19T18:17:50.824825Z"
    },
    "papermill": {
     "duration": 6.87482,
     "end_time": "2025-08-19T18:17:50.829253",
     "exception": false,
     "start_time": "2025-08-19T18:17:43.954433",
     "status": "completed"
    },
    "tags": []
   },
   "outputs": [
    {
     "name": "stderr",
     "output_type": "stream",
     "text": [
      "/dss/dsshome1/0C/ra93lal2/.local/share/virtualenvs/CMA_Fairness_v2-3j10GkSs/lib/python3.10/site-packages/sklearn/linear_model/_sag.py:350: ConvergenceWarning: The max_iter was reached which means the coef_ did not converge\n",
      "  warnings.warn(\n"
     ]
    },
    {
     "data": {
      "text/html": [
       "<style>#sk-container-id-1 {color: black;background-color: white;}#sk-container-id-1 pre{padding: 0;}#sk-container-id-1 div.sk-toggleable {background-color: white;}#sk-container-id-1 label.sk-toggleable__label {cursor: pointer;display: block;width: 100%;margin-bottom: 0;padding: 0.3em;box-sizing: border-box;text-align: center;}#sk-container-id-1 label.sk-toggleable__label-arrow:before {content: \"▸\";float: left;margin-right: 0.25em;color: #696969;}#sk-container-id-1 label.sk-toggleable__label-arrow:hover:before {color: black;}#sk-container-id-1 div.sk-estimator:hover label.sk-toggleable__label-arrow:before {color: black;}#sk-container-id-1 div.sk-toggleable__content {max-height: 0;max-width: 0;overflow: hidden;text-align: left;background-color: #f0f8ff;}#sk-container-id-1 div.sk-toggleable__content pre {margin: 0.2em;color: black;border-radius: 0.25em;background-color: #f0f8ff;}#sk-container-id-1 input.sk-toggleable__control:checked~div.sk-toggleable__content {max-height: 200px;max-width: 100%;overflow: auto;}#sk-container-id-1 input.sk-toggleable__control:checked~label.sk-toggleable__label-arrow:before {content: \"▾\";}#sk-container-id-1 div.sk-estimator input.sk-toggleable__control:checked~label.sk-toggleable__label {background-color: #d4ebff;}#sk-container-id-1 div.sk-label input.sk-toggleable__control:checked~label.sk-toggleable__label {background-color: #d4ebff;}#sk-container-id-1 input.sk-hidden--visually {border: 0;clip: rect(1px 1px 1px 1px);clip: rect(1px, 1px, 1px, 1px);height: 1px;margin: -1px;overflow: hidden;padding: 0;position: absolute;width: 1px;}#sk-container-id-1 div.sk-estimator {font-family: monospace;background-color: #f0f8ff;border: 1px dotted black;border-radius: 0.25em;box-sizing: border-box;margin-bottom: 0.5em;}#sk-container-id-1 div.sk-estimator:hover {background-color: #d4ebff;}#sk-container-id-1 div.sk-parallel-item::after {content: \"\";width: 100%;border-bottom: 1px solid gray;flex-grow: 1;}#sk-container-id-1 div.sk-label:hover label.sk-toggleable__label {background-color: #d4ebff;}#sk-container-id-1 div.sk-serial::before {content: \"\";position: absolute;border-left: 1px solid gray;box-sizing: border-box;top: 0;bottom: 0;left: 50%;z-index: 0;}#sk-container-id-1 div.sk-serial {display: flex;flex-direction: column;align-items: center;background-color: white;padding-right: 0.2em;padding-left: 0.2em;position: relative;}#sk-container-id-1 div.sk-item {position: relative;z-index: 1;}#sk-container-id-1 div.sk-parallel {display: flex;align-items: stretch;justify-content: center;background-color: white;position: relative;}#sk-container-id-1 div.sk-item::before, #sk-container-id-1 div.sk-parallel-item::before {content: \"\";position: absolute;border-left: 1px solid gray;box-sizing: border-box;top: 0;bottom: 0;left: 50%;z-index: -1;}#sk-container-id-1 div.sk-parallel-item {display: flex;flex-direction: column;z-index: 1;position: relative;background-color: white;}#sk-container-id-1 div.sk-parallel-item:first-child::after {align-self: flex-end;width: 50%;}#sk-container-id-1 div.sk-parallel-item:last-child::after {align-self: flex-start;width: 50%;}#sk-container-id-1 div.sk-parallel-item:only-child::after {width: 0;}#sk-container-id-1 div.sk-dashed-wrapped {border: 1px dashed gray;margin: 0 0.4em 0.5em 0.4em;box-sizing: border-box;padding-bottom: 0.4em;background-color: white;}#sk-container-id-1 div.sk-label label {font-family: monospace;font-weight: bold;display: inline-block;line-height: 1.2em;}#sk-container-id-1 div.sk-label-container {text-align: center;}#sk-container-id-1 div.sk-container {/* jupyter's `normalize.less` sets `[hidden] { display: none; }` but bootstrap.min.css set `[hidden] { display: none !important; }` so we also need the `!important` here to be able to override the default hidden behavior on the sphinx rendered scikit-learn.org. See: https://github.com/scikit-learn/scikit-learn/issues/21755 */display: inline-block !important;position: relative;}#sk-container-id-1 div.sk-text-repr-fallback {display: none;}</style><div id=\"sk-container-id-1\" class=\"sk-top-container\"><div class=\"sk-text-repr-fallback\"><pre>Pipeline(steps=[(&#x27;scale&#x27;, StandardScaler()),\n",
       "                (&#x27;model&#x27;,\n",
       "                 LogisticRegression(l1_ratio=0.5, penalty=&#x27;elasticnet&#x27;,\n",
       "                                    solver=&#x27;saga&#x27;))])</pre><b>In a Jupyter environment, please rerun this cell to show the HTML representation or trust the notebook. <br />On GitHub, the HTML representation is unable to render, please try loading this page with nbviewer.org.</b></div><div class=\"sk-container\" hidden><div class=\"sk-item sk-dashed-wrapped\"><div class=\"sk-label-container\"><div class=\"sk-label sk-toggleable\"><input class=\"sk-toggleable__control sk-hidden--visually\" id=\"sk-estimator-id-1\" type=\"checkbox\" ><label for=\"sk-estimator-id-1\" class=\"sk-toggleable__label sk-toggleable__label-arrow\">Pipeline</label><div class=\"sk-toggleable__content\"><pre>Pipeline(steps=[(&#x27;scale&#x27;, StandardScaler()),\n",
       "                (&#x27;model&#x27;,\n",
       "                 LogisticRegression(l1_ratio=0.5, penalty=&#x27;elasticnet&#x27;,\n",
       "                                    solver=&#x27;saga&#x27;))])</pre></div></div></div><div class=\"sk-serial\"><div class=\"sk-item\"><div class=\"sk-estimator sk-toggleable\"><input class=\"sk-toggleable__control sk-hidden--visually\" id=\"sk-estimator-id-2\" type=\"checkbox\" ><label for=\"sk-estimator-id-2\" class=\"sk-toggleable__label sk-toggleable__label-arrow\">StandardScaler</label><div class=\"sk-toggleable__content\"><pre>StandardScaler()</pre></div></div></div><div class=\"sk-item\"><div class=\"sk-estimator sk-toggleable\"><input class=\"sk-toggleable__control sk-hidden--visually\" id=\"sk-estimator-id-3\" type=\"checkbox\" ><label for=\"sk-estimator-id-3\" class=\"sk-toggleable__label sk-toggleable__label-arrow\">LogisticRegression</label><div class=\"sk-toggleable__content\"><pre>LogisticRegression(l1_ratio=0.5, penalty=&#x27;elasticnet&#x27;, solver=&#x27;saga&#x27;)</pre></div></div></div></div></div></div></div>"
      ],
      "text/plain": [
       "Pipeline(steps=[('scale', StandardScaler()),\n",
       "                ('model',\n",
       "                 LogisticRegression(l1_ratio=0.5, penalty='elasticnet',\n",
       "                                    solver='saga'))])"
      ]
     },
     "execution_count": 34,
     "metadata": {},
     "output_type": "execute_result"
    }
   ],
   "source": [
    "model.fit(X_train, y_train.values.ravel())"
   ]
  },
  {
   "cell_type": "code",
   "execution_count": 35,
   "id": "6e15e313",
   "metadata": {
    "execution": {
     "iopub.execute_input": "2025-08-19T18:17:50.870210Z",
     "iopub.status.busy": "2025-08-19T18:17:50.868606Z",
     "iopub.status.idle": "2025-08-19T18:17:51.090239Z",
     "shell.execute_reply": "2025-08-19T18:17:51.089507Z"
    },
    "papermill": {
     "duration": 0.247771,
     "end_time": "2025-08-19T18:17:51.093635",
     "exception": false,
     "start_time": "2025-08-19T18:17:50.845864",
     "status": "completed"
    },
    "tags": []
   },
   "outputs": [
    {
     "data": {
      "text/plain": [
       "0.8576524356259057"
      ]
     },
     "execution_count": 35,
     "metadata": {},
     "output_type": "execute_result"
    }
   ],
   "source": [
    "from fairness_multiverse.universe import predict_w_threshold\n",
    "\n",
    "probs_test = model.predict_proba(X_test)\n",
    "\n",
    "'''\n",
    "Below code returns a boolean array (or binary 0/1 array depending on how it’s used) where each element \n",
    "is True if the probability of class 1 is greater than or equal to the threshold, and False otherwise.\n",
    "'''\n",
    "y_pred_default = predict_w_threshold(probs_test, 0.5)\n",
    "\n",
    "from sklearn.metrics import accuracy_score\n",
    "\n",
    "# Naive prediction\n",
    "accuracy_score(y_true = y_true, y_pred = y_pred_default)"
   ]
  },
  {
   "cell_type": "code",
   "execution_count": 36,
   "id": "6f14067c",
   "metadata": {
    "execution": {
     "iopub.execute_input": "2025-08-19T18:17:51.118405Z",
     "iopub.status.busy": "2025-08-19T18:17:51.117916Z",
     "iopub.status.idle": "2025-08-19T18:17:51.316745Z",
     "shell.execute_reply": "2025-08-19T18:17:51.315358Z"
    },
    "papermill": {
     "duration": 0.212813,
     "end_time": "2025-08-19T18:17:51.318213",
     "exception": false,
     "start_time": "2025-08-19T18:17:51.105400",
     "status": "completed"
    },
    "tags": []
   },
   "outputs": [
    {
     "data": {
      "text/plain": [
       "array([0, 0, 0, ..., 0, 0, 0])"
      ]
     },
     "execution_count": 36,
     "metadata": {},
     "output_type": "execute_result"
    }
   ],
   "source": [
    "model.predict(X_test)"
   ]
  },
  {
   "cell_type": "markdown",
   "id": "3759920c",
   "metadata": {
    "papermill": {
     "duration": 0.011301,
     "end_time": "2025-08-19T18:17:51.341274",
     "exception": false,
     "start_time": "2025-08-19T18:17:51.329973",
     "status": "completed"
    },
    "tags": []
   },
   "source": [
    "# Conformal Prediction"
   ]
  },
  {
   "cell_type": "code",
   "execution_count": 37,
   "id": "14b27f59",
   "metadata": {
    "execution": {
     "iopub.execute_input": "2025-08-19T18:17:51.367848Z",
     "iopub.status.busy": "2025-08-19T18:17:51.366315Z",
     "iopub.status.idle": "2025-08-19T18:17:51.374958Z",
     "shell.execute_reply": "2025-08-19T18:17:51.373733Z"
    },
    "papermill": {
     "duration": 0.024087,
     "end_time": "2025-08-19T18:17:51.376693",
     "exception": false,
     "start_time": "2025-08-19T18:17:51.352606",
     "status": "completed"
    },
    "tags": []
   },
   "outputs": [],
   "source": [
    "# Miscoverage level for conformal prediction (10% allowed error rate => 90% target coverage)\n",
    "alpha = 0.1"
   ]
  },
  {
   "cell_type": "code",
   "execution_count": 38,
   "id": "59102472",
   "metadata": {
    "execution": {
     "iopub.execute_input": "2025-08-19T18:17:51.407654Z",
     "iopub.status.busy": "2025-08-19T18:17:51.406336Z",
     "iopub.status.idle": "2025-08-19T18:17:51.603875Z",
     "shell.execute_reply": "2025-08-19T18:17:51.602777Z"
    },
    "papermill": {
     "duration": 0.212634,
     "end_time": "2025-08-19T18:17:51.605606",
     "exception": false,
     "start_time": "2025-08-19T18:17:51.392972",
     "status": "completed"
    },
    "tags": []
   },
   "outputs": [],
   "source": [
    "probs_calib = model.predict_proba(X_calib)"
   ]
  },
  {
   "cell_type": "code",
   "execution_count": 39,
   "id": "a792d4dd",
   "metadata": {
    "execution": {
     "iopub.execute_input": "2025-08-19T18:17:51.630606Z",
     "iopub.status.busy": "2025-08-19T18:17:51.630100Z",
     "iopub.status.idle": "2025-08-19T18:17:51.635607Z",
     "shell.execute_reply": "2025-08-19T18:17:51.634885Z"
    },
    "papermill": {
     "duration": 0.019455,
     "end_time": "2025-08-19T18:17:51.636865",
     "exception": false,
     "start_time": "2025-08-19T18:17:51.617410",
     "status": "completed"
    },
    "tags": []
   },
   "outputs": [],
   "source": [
    "y_calib = y_calib.values.ravel().astype(int)"
   ]
  },
  {
   "cell_type": "code",
   "execution_count": 40,
   "id": "650fd033",
   "metadata": {
    "execution": {
     "iopub.execute_input": "2025-08-19T18:17:51.662814Z",
     "iopub.status.busy": "2025-08-19T18:17:51.661773Z",
     "iopub.status.idle": "2025-08-19T18:17:51.671232Z",
     "shell.execute_reply": "2025-08-19T18:17:51.670320Z"
    },
    "papermill": {
     "duration": 0.023444,
     "end_time": "2025-08-19T18:17:51.672443",
     "exception": false,
     "start_time": "2025-08-19T18:17:51.648999",
     "status": "completed"
    },
    "tags": []
   },
   "outputs": [],
   "source": [
    "from fairness_multiverse.conformal import compute_nc_scores\n",
    "\n",
    "# Compute nonconformity scores on calibration set (1 - probability of true class)\n",
    "nc_scores = compute_nc_scores(probs_calib, y_calib)"
   ]
  },
  {
   "cell_type": "code",
   "execution_count": 41,
   "id": "28ada44c",
   "metadata": {
    "execution": {
     "iopub.execute_input": "2025-08-19T18:17:51.701682Z",
     "iopub.status.busy": "2025-08-19T18:17:51.700459Z",
     "iopub.status.idle": "2025-08-19T18:17:51.712399Z",
     "shell.execute_reply": "2025-08-19T18:17:51.711162Z"
    },
    "papermill": {
     "duration": 0.027103,
     "end_time": "2025-08-19T18:17:51.713966",
     "exception": false,
     "start_time": "2025-08-19T18:17:51.686863",
     "status": "completed"
    },
    "tags": []
   },
   "outputs": [],
   "source": [
    "from fairness_multiverse.conformal import find_threshold\n",
    "\n",
    "# Find conformal threshold q_hat for the given alpha (split conformal method)\n",
    "q_hat = find_threshold(nc_scores, alpha)"
   ]
  },
  {
   "cell_type": "code",
   "execution_count": 42,
   "id": "df56469e",
   "metadata": {
    "execution": {
     "iopub.execute_input": "2025-08-19T18:17:51.748630Z",
     "iopub.status.busy": "2025-08-19T18:17:51.747295Z",
     "iopub.status.idle": "2025-08-19T18:17:51.759416Z",
     "shell.execute_reply": "2025-08-19T18:17:51.757934Z"
    },
    "papermill": {
     "duration": 0.031893,
     "end_time": "2025-08-19T18:17:51.762147",
     "exception": false,
     "start_time": "2025-08-19T18:17:51.730254",
     "status": "completed"
    },
    "tags": []
   },
   "outputs": [
    {
     "data": {
      "text/plain": [
       "0.6659375528424338"
      ]
     },
     "execution_count": 42,
     "metadata": {},
     "output_type": "execute_result"
    }
   ],
   "source": [
    "q_hat"
   ]
  },
  {
   "cell_type": "code",
   "execution_count": 43,
   "id": "aa1f5faa",
   "metadata": {
    "execution": {
     "iopub.execute_input": "2025-08-19T18:17:51.790142Z",
     "iopub.status.busy": "2025-08-19T18:17:51.788930Z",
     "iopub.status.idle": "2025-08-19T18:17:52.480168Z",
     "shell.execute_reply": "2025-08-19T18:17:52.479167Z"
    },
    "papermill": {
     "duration": 0.705794,
     "end_time": "2025-08-19T18:17:52.481855",
     "exception": false,
     "start_time": "2025-08-19T18:17:51.776061",
     "status": "completed"
    },
    "tags": []
   },
   "outputs": [],
   "source": [
    "from fairness_multiverse.conformal import predict_conformal_sets\n",
    "\n",
    "# Generate prediction sets for each test example\n",
    "pred_sets = predict_conformal_sets(model, X_test, q_hat)"
   ]
  },
  {
   "cell_type": "code",
   "execution_count": 44,
   "id": "97f67a6b",
   "metadata": {
    "execution": {
     "iopub.execute_input": "2025-08-19T18:17:52.532976Z",
     "iopub.status.busy": "2025-08-19T18:17:52.532345Z",
     "iopub.status.idle": "2025-08-19T18:17:52.539291Z",
     "shell.execute_reply": "2025-08-19T18:17:52.538531Z"
    },
    "papermill": {
     "duration": 0.041638,
     "end_time": "2025-08-19T18:17:52.546519",
     "exception": false,
     "start_time": "2025-08-19T18:17:52.504881",
     "status": "completed"
    },
    "tags": []
   },
   "outputs": [],
   "source": [
    "y_true = y_true.squeeze()"
   ]
  },
  {
   "cell_type": "code",
   "execution_count": 45,
   "id": "e700e9a7",
   "metadata": {
    "execution": {
     "iopub.execute_input": "2025-08-19T18:17:52.572335Z",
     "iopub.status.busy": "2025-08-19T18:17:52.571853Z",
     "iopub.status.idle": "2025-08-19T18:17:53.103494Z",
     "shell.execute_reply": "2025-08-19T18:17:53.102137Z"
    },
    "papermill": {
     "duration": 0.546361,
     "end_time": "2025-08-19T18:17:53.105059",
     "exception": false,
     "start_time": "2025-08-19T18:17:52.558698",
     "status": "completed"
    },
    "tags": []
   },
   "outputs": [],
   "source": [
    "from fairness_multiverse.conformal import evaluate_sets\n",
    "\n",
    "# Evaluate coverage and average set size on test data\n",
    "metrics = evaluate_sets(pred_sets, y_true)"
   ]
  },
  {
   "cell_type": "markdown",
   "id": "efbacec0",
   "metadata": {
    "papermill": {
     "duration": 0.011527,
     "end_time": "2025-08-19T18:17:53.128867",
     "exception": false,
     "start_time": "2025-08-19T18:17:53.117340",
     "status": "completed"
    },
    "tags": []
   },
   "source": [
    "# CP Metrics"
   ]
  },
  {
   "cell_type": "code",
   "execution_count": 46,
   "id": "9de55fb1",
   "metadata": {
    "execution": {
     "iopub.execute_input": "2025-08-19T18:17:53.154075Z",
     "iopub.status.busy": "2025-08-19T18:17:53.153354Z",
     "iopub.status.idle": "2025-08-19T18:17:53.160945Z",
     "shell.execute_reply": "2025-08-19T18:17:53.160297Z"
    },
    "papermill": {
     "duration": 0.021723,
     "end_time": "2025-08-19T18:17:53.162079",
     "exception": false,
     "start_time": "2025-08-19T18:17:53.140356",
     "status": "completed"
    },
    "tags": []
   },
   "outputs": [
    {
     "data": {
      "text/plain": [
       "{'coverage': 0.9097313565934678, 'avg_size': 1.1269089287704828}"
      ]
     },
     "execution_count": 46,
     "metadata": {},
     "output_type": "execute_result"
    }
   ],
   "source": [
    "metrics"
   ]
  },
  {
   "cell_type": "code",
   "execution_count": 47,
   "id": "64c340a1",
   "metadata": {
    "execution": {
     "iopub.execute_input": "2025-08-19T18:17:53.190464Z",
     "iopub.status.busy": "2025-08-19T18:17:53.189269Z",
     "iopub.status.idle": "2025-08-19T18:17:53.197336Z",
     "shell.execute_reply": "2025-08-19T18:17:53.196034Z"
    },
    "papermill": {
     "duration": 0.022224,
     "end_time": "2025-08-19T18:17:53.198524",
     "exception": false,
     "start_time": "2025-08-19T18:17:53.176300",
     "status": "completed"
    },
    "tags": []
   },
   "outputs": [],
   "source": [
    "example_universe = universe.copy()\n",
    "universe_training_year = example_universe.get(\"training_year\")\n",
    "universe_training_size = example_universe.get(\"training_size\")\n",
    "universe_scale = example_universe.get(\"scale\")\n",
    "universe_model = example_universe.get(\"model\")\n",
    "universe_exclude_features = example_universe.get(\"exclude_features\")\n",
    "universe_exclude_subgroups = example_universe.get(\"exclude_subgroups\")"
   ]
  },
  {
   "cell_type": "code",
   "execution_count": 48,
   "id": "dbb53cb4",
   "metadata": {
    "execution": {
     "iopub.execute_input": "2025-08-19T18:17:53.227691Z",
     "iopub.status.busy": "2025-08-19T18:17:53.226489Z",
     "iopub.status.idle": "2025-08-19T18:17:53.237380Z",
     "shell.execute_reply": "2025-08-19T18:17:53.235972Z"
    },
    "papermill": {
     "duration": 0.02571,
     "end_time": "2025-08-19T18:17:53.238726",
     "exception": false,
     "start_time": "2025-08-19T18:17:53.213016",
     "status": "completed"
    },
    "tags": []
   },
   "outputs": [],
   "source": [
    "cp_metrics_dict = {\n",
    "    \"universe_id\": [universe_id],\n",
    "    \"universe_training_year\": [universe_training_year],\n",
    "    \"universe_training_size\": [universe_training_size],\n",
    "    \"universe_scale\": [universe_scale],\n",
    "    \"universe_model\": [universe_model],\n",
    "    \"universe_exclude_features\": [universe_exclude_features],\n",
    "    \"universe_exclude_subgroups\": [universe_exclude_subgroups],\n",
    "    \"q_hat\": [q_hat],\n",
    "    \"coverage\": [metrics[\"coverage\"]],\n",
    "    \"avg_size\": [metrics[\"avg_size\"]],\n",
    "}"
   ]
  },
  {
   "cell_type": "code",
   "execution_count": 49,
   "id": "0d70d4b2",
   "metadata": {
    "execution": {
     "iopub.execute_input": "2025-08-19T18:17:53.270906Z",
     "iopub.status.busy": "2025-08-19T18:17:53.269741Z",
     "iopub.status.idle": "2025-08-19T18:17:53.283109Z",
     "shell.execute_reply": "2025-08-19T18:17:53.281378Z"
    },
    "papermill": {
     "duration": 0.029497,
     "end_time": "2025-08-19T18:17:53.284751",
     "exception": false,
     "start_time": "2025-08-19T18:17:53.255254",
     "status": "completed"
    },
    "tags": []
   },
   "outputs": [],
   "source": [
    "cp_metrics_df = pd.DataFrame(cp_metrics_dict)"
   ]
  },
  {
   "cell_type": "code",
   "execution_count": 50,
   "id": "b494403c",
   "metadata": {
    "execution": {
     "iopub.execute_input": "2025-08-19T18:17:53.316432Z",
     "iopub.status.busy": "2025-08-19T18:17:53.313719Z",
     "iopub.status.idle": "2025-08-19T18:17:53.341801Z",
     "shell.execute_reply": "2025-08-19T18:17:53.340583Z"
    },
    "papermill": {
     "duration": 0.043328,
     "end_time": "2025-08-19T18:17:53.343194",
     "exception": false,
     "start_time": "2025-08-19T18:17:53.299866",
     "status": "completed"
    },
    "tags": []
   },
   "outputs": [
    {
     "data": {
      "text/html": [
       "<div>\n",
       "<style scoped>\n",
       "    .dataframe tbody tr th:only-of-type {\n",
       "        vertical-align: middle;\n",
       "    }\n",
       "\n",
       "    .dataframe tbody tr th {\n",
       "        vertical-align: top;\n",
       "    }\n",
       "\n",
       "    .dataframe thead th {\n",
       "        text-align: right;\n",
       "    }\n",
       "</style>\n",
       "<table border=\"1\" class=\"dataframe\">\n",
       "  <thead>\n",
       "    <tr style=\"text-align: right;\">\n",
       "      <th></th>\n",
       "      <th>universe_id</th>\n",
       "      <th>universe_training_year</th>\n",
       "      <th>universe_training_size</th>\n",
       "      <th>universe_scale</th>\n",
       "      <th>universe_model</th>\n",
       "      <th>universe_exclude_features</th>\n",
       "      <th>universe_exclude_subgroups</th>\n",
       "      <th>q_hat</th>\n",
       "      <th>coverage</th>\n",
       "      <th>avg_size</th>\n",
       "    </tr>\n",
       "  </thead>\n",
       "  <tbody>\n",
       "    <tr>\n",
       "      <th>0</th>\n",
       "      <td>791ee8f1f4fbb52f31542899394a58a8</td>\n",
       "      <td>2010_14</td>\n",
       "      <td>25k</td>\n",
       "      <td>scale</td>\n",
       "      <td>elasticnet</td>\n",
       "      <td>age</td>\n",
       "      <td>keep-all</td>\n",
       "      <td>0.665938</td>\n",
       "      <td>0.909731</td>\n",
       "      <td>1.126909</td>\n",
       "    </tr>\n",
       "  </tbody>\n",
       "</table>\n",
       "</div>"
      ],
      "text/plain": [
       "                        universe_id universe_training_year  \\\n",
       "0  791ee8f1f4fbb52f31542899394a58a8                2010_14   \n",
       "\n",
       "  universe_training_size universe_scale universe_model  \\\n",
       "0                    25k          scale     elasticnet   \n",
       "\n",
       "  universe_exclude_features universe_exclude_subgroups     q_hat  coverage  \\\n",
       "0                       age                   keep-all  0.665938  0.909731   \n",
       "\n",
       "   avg_size  \n",
       "0  1.126909  "
      ]
     },
     "execution_count": 50,
     "metadata": {},
     "output_type": "execute_result"
    }
   ],
   "source": [
    "cp_metrics_df"
   ]
  },
  {
   "cell_type": "markdown",
   "id": "ed608b0b",
   "metadata": {
    "papermill": {
     "duration": 0.012052,
     "end_time": "2025-08-19T18:17:53.367718",
     "exception": false,
     "start_time": "2025-08-19T18:17:53.355666",
     "status": "completed"
    },
    "tags": []
   },
   "source": [
    "Conditional coverage & looking at subgroups"
   ]
  },
  {
   "cell_type": "code",
   "execution_count": 51,
   "id": "8968c366",
   "metadata": {
    "execution": {
     "iopub.execute_input": "2025-08-19T18:17:53.396397Z",
     "iopub.status.busy": "2025-08-19T18:17:53.395661Z",
     "iopub.status.idle": "2025-08-19T18:17:53.698926Z",
     "shell.execute_reply": "2025-08-19T18:17:53.697880Z"
    },
    "papermill": {
     "duration": 0.319389,
     "end_time": "2025-08-19T18:17:53.700501",
     "exception": false,
     "start_time": "2025-08-19T18:17:53.381112",
     "status": "completed"
    },
    "tags": []
   },
   "outputs": [],
   "source": [
    "from fairness_multiverse.conformal import build_cp_groups\n",
    "\n",
    "cp_groups_df = build_cp_groups(pred_sets, y_true, X_test.index, org_test)"
   ]
  },
  {
   "cell_type": "code",
   "execution_count": 52,
   "id": "292ddabf",
   "metadata": {
    "execution": {
     "iopub.execute_input": "2025-08-19T18:17:53.734663Z",
     "iopub.status.busy": "2025-08-19T18:17:53.733586Z",
     "iopub.status.idle": "2025-08-19T18:17:54.669661Z",
     "shell.execute_reply": "2025-08-19T18:17:54.668612Z"
    },
    "papermill": {
     "duration": 0.952046,
     "end_time": "2025-08-19T18:17:54.671852",
     "exception": false,
     "start_time": "2025-08-19T18:17:53.719806",
     "status": "completed"
    },
    "tags": []
   },
   "outputs": [],
   "source": [
    "# Define covered = 1 if true_label is in the predicted set\n",
    "cp_groups_df['covered'] = cp_groups_df.apply(\n",
    "    lambda r: int(r['true_label'] in r['pred_set']),\n",
    "    axis=1\n",
    ")"
   ]
  },
  {
   "cell_type": "code",
   "execution_count": 53,
   "id": "3a261692",
   "metadata": {
    "execution": {
     "iopub.execute_input": "2025-08-19T18:17:54.721147Z",
     "iopub.status.busy": "2025-08-19T18:17:54.720608Z",
     "iopub.status.idle": "2025-08-19T18:17:54.735118Z",
     "shell.execute_reply": "2025-08-19T18:17:54.732415Z"
    },
    "papermill": {
     "duration": 0.036612,
     "end_time": "2025-08-19T18:17:54.738146",
     "exception": false,
     "start_time": "2025-08-19T18:17:54.701534",
     "status": "completed"
    },
    "tags": []
   },
   "outputs": [],
   "source": [
    "subgroups = ['frau1','nongerman','nongerman_male','nongerman_female']\n",
    "\n",
    "# Conditional coverage for subgroup==1\n",
    "cond_coverage = {\n",
    "    g: cp_groups_df.loc[cp_groups_df[g]==1, 'covered'].mean()\n",
    "    for g in subgroups\n",
    "}"
   ]
  },
  {
   "cell_type": "code",
   "execution_count": 54,
   "id": "894fd600",
   "metadata": {
    "execution": {
     "iopub.execute_input": "2025-08-19T18:17:54.774340Z",
     "iopub.status.busy": "2025-08-19T18:17:54.772693Z",
     "iopub.status.idle": "2025-08-19T18:17:54.786814Z",
     "shell.execute_reply": "2025-08-19T18:17:54.785718Z"
    },
    "papermill": {
     "duration": 0.030504,
     "end_time": "2025-08-19T18:17:54.788289",
     "exception": false,
     "start_time": "2025-08-19T18:17:54.757785",
     "status": "completed"
    },
    "tags": []
   },
   "outputs": [
    {
     "data": {
      "text/plain": [
       "{'frau1': 0.9077503706699016,\n",
       " 'nongerman': 0.9080446864649413,\n",
       " 'nongerman_male': 0.924795100423309,\n",
       " 'nongerman_female': 0.8803278688524591}"
      ]
     },
     "execution_count": 54,
     "metadata": {},
     "output_type": "execute_result"
    }
   ],
   "source": [
    "cond_coverage"
   ]
  },
  {
   "cell_type": "code",
   "execution_count": 55,
   "id": "942895c7",
   "metadata": {
    "execution": {
     "iopub.execute_input": "2025-08-19T18:17:54.819971Z",
     "iopub.status.busy": "2025-08-19T18:17:54.819247Z",
     "iopub.status.idle": "2025-08-19T18:17:54.830418Z",
     "shell.execute_reply": "2025-08-19T18:17:54.829234Z"
    },
    "papermill": {
     "duration": 0.02703,
     "end_time": "2025-08-19T18:17:54.831794",
     "exception": false,
     "start_time": "2025-08-19T18:17:54.804764",
     "status": "completed"
    },
    "tags": []
   },
   "outputs": [],
   "source": [
    "for subgroup, cov in cond_coverage.items():\n",
    "    cp_metrics_df[f\"cov_{subgroup}\"] = cov"
   ]
  },
  {
   "cell_type": "code",
   "execution_count": 56,
   "id": "3970120f",
   "metadata": {
    "execution": {
     "iopub.execute_input": "2025-08-19T18:17:54.862104Z",
     "iopub.status.busy": "2025-08-19T18:17:54.861426Z",
     "iopub.status.idle": "2025-08-19T18:17:54.892936Z",
     "shell.execute_reply": "2025-08-19T18:17:54.891690Z"
    },
    "papermill": {
     "duration": 0.049286,
     "end_time": "2025-08-19T18:17:54.896278",
     "exception": false,
     "start_time": "2025-08-19T18:17:54.846992",
     "status": "completed"
    },
    "tags": []
   },
   "outputs": [
    {
     "data": {
      "text/html": [
       "<div>\n",
       "<style scoped>\n",
       "    .dataframe tbody tr th:only-of-type {\n",
       "        vertical-align: middle;\n",
       "    }\n",
       "\n",
       "    .dataframe tbody tr th {\n",
       "        vertical-align: top;\n",
       "    }\n",
       "\n",
       "    .dataframe thead th {\n",
       "        text-align: right;\n",
       "    }\n",
       "</style>\n",
       "<table border=\"1\" class=\"dataframe\">\n",
       "  <thead>\n",
       "    <tr style=\"text-align: right;\">\n",
       "      <th></th>\n",
       "      <th>universe_id</th>\n",
       "      <th>universe_training_year</th>\n",
       "      <th>universe_training_size</th>\n",
       "      <th>universe_scale</th>\n",
       "      <th>universe_model</th>\n",
       "      <th>universe_exclude_features</th>\n",
       "      <th>universe_exclude_subgroups</th>\n",
       "      <th>q_hat</th>\n",
       "      <th>coverage</th>\n",
       "      <th>avg_size</th>\n",
       "      <th>cov_frau1</th>\n",
       "      <th>cov_nongerman</th>\n",
       "      <th>cov_nongerman_male</th>\n",
       "      <th>cov_nongerman_female</th>\n",
       "    </tr>\n",
       "  </thead>\n",
       "  <tbody>\n",
       "    <tr>\n",
       "      <th>0</th>\n",
       "      <td>791ee8f1f4fbb52f31542899394a58a8</td>\n",
       "      <td>2010_14</td>\n",
       "      <td>25k</td>\n",
       "      <td>scale</td>\n",
       "      <td>elasticnet</td>\n",
       "      <td>age</td>\n",
       "      <td>keep-all</td>\n",
       "      <td>0.665938</td>\n",
       "      <td>0.909731</td>\n",
       "      <td>1.126909</td>\n",
       "      <td>0.90775</td>\n",
       "      <td>0.908045</td>\n",
       "      <td>0.924795</td>\n",
       "      <td>0.880328</td>\n",
       "    </tr>\n",
       "  </tbody>\n",
       "</table>\n",
       "</div>"
      ],
      "text/plain": [
       "                        universe_id universe_training_year  \\\n",
       "0  791ee8f1f4fbb52f31542899394a58a8                2010_14   \n",
       "\n",
       "  universe_training_size universe_scale universe_model  \\\n",
       "0                    25k          scale     elasticnet   \n",
       "\n",
       "  universe_exclude_features universe_exclude_subgroups     q_hat  coverage  \\\n",
       "0                       age                   keep-all  0.665938  0.909731   \n",
       "\n",
       "   avg_size  cov_frau1  cov_nongerman  cov_nongerman_male  \\\n",
       "0  1.126909    0.90775       0.908045            0.924795   \n",
       "\n",
       "   cov_nongerman_female  \n",
       "0              0.880328  "
      ]
     },
     "execution_count": 56,
     "metadata": {},
     "output_type": "execute_result"
    }
   ],
   "source": [
    "cp_metrics_df"
   ]
  },
  {
   "cell_type": "markdown",
   "id": "3fc519cc",
   "metadata": {
    "papermill": {
     "duration": 0.013231,
     "end_time": "2025-08-19T18:17:54.931337",
     "exception": false,
     "start_time": "2025-08-19T18:17:54.918106",
     "status": "completed"
    },
    "tags": []
   },
   "source": [
    "# (Fairness) Metrics"
   ]
  },
  {
   "cell_type": "code",
   "execution_count": 57,
   "id": "a2e5e155",
   "metadata": {
    "execution": {
     "iopub.execute_input": "2025-08-19T18:17:54.958140Z",
     "iopub.status.busy": "2025-08-19T18:17:54.957642Z",
     "iopub.status.idle": "2025-08-19T18:17:54.986550Z",
     "shell.execute_reply": "2025-08-19T18:17:54.985495Z"
    },
    "papermill": {
     "duration": 0.045019,
     "end_time": "2025-08-19T18:17:54.988741",
     "exception": false,
     "start_time": "2025-08-19T18:17:54.943722",
     "status": "completed"
    },
    "tags": []
   },
   "outputs": [],
   "source": [
    "colname_to_bin = \"maxdeutsch1\"\n",
    "majority_value = org_train[colname_to_bin].mode()[0]\n",
    "\n",
    "org_test[\"majmin\"] = np.where(org_test[colname_to_bin] == majority_value, \"majority\", \"minority\")"
   ]
  },
  {
   "cell_type": "code",
   "execution_count": 58,
   "id": "17e3e4d5",
   "metadata": {
    "execution": {
     "iopub.execute_input": "2025-08-19T18:17:55.023102Z",
     "iopub.status.busy": "2025-08-19T18:17:55.022681Z",
     "iopub.status.idle": "2025-08-19T18:17:56.761136Z",
     "shell.execute_reply": "2025-08-19T18:17:56.759823Z"
    },
    "papermill": {
     "duration": 1.754518,
     "end_time": "2025-08-19T18:17:56.763017",
     "exception": false,
     "start_time": "2025-08-19T18:17:55.008499",
     "status": "completed"
    },
    "tags": []
   },
   "outputs": [],
   "source": [
    "example_universe = universe.copy()\n",
    "example_universe[\"cutoff\"] = example_universe[\"cutoff\"][0]\n",
    "example_universe[\"eval_fairness_grouping\"] = example_universe[\"eval_fairness_grouping\"][0]\n",
    "fairness_dict, metric_frame = universe_analysis.compute_metrics(\n",
    "    example_universe,\n",
    "    y_pred_prob=probs_test,\n",
    "    y_test=y_true,\n",
    "    org_test=org_test,\n",
    ")"
   ]
  },
  {
   "cell_type": "markdown",
   "id": "1fb7a0e9",
   "metadata": {
    "papermill": {
     "duration": 0.012924,
     "end_time": "2025-08-19T18:17:56.791556",
     "exception": false,
     "start_time": "2025-08-19T18:17:56.778632",
     "status": "completed"
    },
    "tags": []
   },
   "source": [
    "# Overall"
   ]
  },
  {
   "cell_type": "markdown",
   "id": "be1784b1",
   "metadata": {
    "papermill": {
     "duration": 0.01223,
     "end_time": "2025-08-19T18:17:56.816196",
     "exception": false,
     "start_time": "2025-08-19T18:17:56.803966",
     "status": "completed"
    },
    "tags": []
   },
   "source": [
    "Main fairness target: Equalized Odds. Seems to be a better fit than equal opportunity, since we're not only interested in Y = 1. Seems to be a better fit than demographic parity, since we also care about accuracy, not just equal distribution of preds.\n",
    "\n",
    "Pick column for computation of fairness metrics\n",
    "\n",
    "Performance\n",
    "Overall performance measures, most interesting in relation to the measures split by group below"
   ]
  },
  {
   "cell_type": "code",
   "execution_count": 59,
   "id": "b7672bee",
   "metadata": {
    "execution": {
     "iopub.execute_input": "2025-08-19T18:17:56.844053Z",
     "iopub.status.busy": "2025-08-19T18:17:56.843243Z",
     "iopub.status.idle": "2025-08-19T18:17:56.870874Z",
     "shell.execute_reply": "2025-08-19T18:17:56.869875Z"
    },
    "papermill": {
     "duration": 0.044501,
     "end_time": "2025-08-19T18:17:56.873090",
     "exception": false,
     "start_time": "2025-08-19T18:17:56.828589",
     "status": "completed"
    },
    "tags": []
   },
   "outputs": [
    {
     "data": {
      "text/plain": [
       "accuracy                   0.225181\n",
       "balanced accuracy          0.550430\n",
       "f1                         0.246490\n",
       "precision                  0.140812\n",
       "false positive rate        0.887062\n",
       "false negative rate        0.012079\n",
       "selection rate             0.900000\n",
       "count                  89710.000000\n",
       "dtype: float64"
      ]
     },
     "execution_count": 59,
     "metadata": {},
     "output_type": "execute_result"
    }
   ],
   "source": [
    "metric_frame.overall"
   ]
  },
  {
   "cell_type": "markdown",
   "id": "d93333c9",
   "metadata": {
    "papermill": {
     "duration": 0.013335,
     "end_time": "2025-08-19T18:17:56.906082",
     "exception": false,
     "start_time": "2025-08-19T18:17:56.892747",
     "status": "completed"
    },
    "tags": []
   },
   "source": [
    "By Group"
   ]
  },
  {
   "cell_type": "code",
   "execution_count": 60,
   "id": "52256966",
   "metadata": {
    "execution": {
     "iopub.execute_input": "2025-08-19T18:17:56.933871Z",
     "iopub.status.busy": "2025-08-19T18:17:56.933556Z",
     "iopub.status.idle": "2025-08-19T18:17:56.948408Z",
     "shell.execute_reply": "2025-08-19T18:17:56.947568Z"
    },
    "papermill": {
     "duration": 0.030976,
     "end_time": "2025-08-19T18:17:56.950289",
     "exception": false,
     "start_time": "2025-08-19T18:17:56.919313",
     "status": "completed"
    },
    "tags": []
   },
   "outputs": [
    {
     "data": {
      "text/html": [
       "<div>\n",
       "<style scoped>\n",
       "    .dataframe tbody tr th:only-of-type {\n",
       "        vertical-align: middle;\n",
       "    }\n",
       "\n",
       "    .dataframe tbody tr th {\n",
       "        vertical-align: top;\n",
       "    }\n",
       "\n",
       "    .dataframe thead th {\n",
       "        text-align: right;\n",
       "    }\n",
       "</style>\n",
       "<table border=\"1\" class=\"dataframe\">\n",
       "  <thead>\n",
       "    <tr style=\"text-align: right;\">\n",
       "      <th></th>\n",
       "      <th>accuracy</th>\n",
       "      <th>balanced accuracy</th>\n",
       "      <th>f1</th>\n",
       "      <th>precision</th>\n",
       "      <th>false positive rate</th>\n",
       "      <th>false negative rate</th>\n",
       "      <th>selection rate</th>\n",
       "      <th>count</th>\n",
       "    </tr>\n",
       "    <tr>\n",
       "      <th>majmin</th>\n",
       "      <th></th>\n",
       "      <th></th>\n",
       "      <th></th>\n",
       "      <th></th>\n",
       "      <th></th>\n",
       "      <th></th>\n",
       "      <th></th>\n",
       "      <th></th>\n",
       "    </tr>\n",
       "  </thead>\n",
       "  <tbody>\n",
       "    <tr>\n",
       "      <th>majority</th>\n",
       "      <td>0.248301</td>\n",
       "      <td>0.561360</td>\n",
       "      <td>0.257585</td>\n",
       "      <td>0.148124</td>\n",
       "      <td>0.864151</td>\n",
       "      <td>0.013129</td>\n",
       "      <td>0.880367</td>\n",
       "      <td>69170.0</td>\n",
       "    </tr>\n",
       "    <tr>\n",
       "      <th>minority</th>\n",
       "      <td>0.147322</td>\n",
       "      <td>0.514616</td>\n",
       "      <td>0.211507</td>\n",
       "      <td>0.118373</td>\n",
       "      <td>0.962745</td>\n",
       "      <td>0.008024</td>\n",
       "      <td>0.966115</td>\n",
       "      <td>20540.0</td>\n",
       "    </tr>\n",
       "  </tbody>\n",
       "</table>\n",
       "</div>"
      ],
      "text/plain": [
       "          accuracy  balanced accuracy        f1  precision  \\\n",
       "majmin                                                       \n",
       "majority  0.248301           0.561360  0.257585   0.148124   \n",
       "minority  0.147322           0.514616  0.211507   0.118373   \n",
       "\n",
       "          false positive rate  false negative rate  selection rate    count  \n",
       "majmin                                                                       \n",
       "majority             0.864151             0.013129        0.880367  69170.0  \n",
       "minority             0.962745             0.008024        0.966115  20540.0  "
      ]
     },
     "execution_count": 60,
     "metadata": {},
     "output_type": "execute_result"
    }
   ],
   "source": [
    "metric_frame.by_group"
   ]
  },
  {
   "cell_type": "code",
   "execution_count": 61,
   "id": "6e6c20ae",
   "metadata": {
    "execution": {
     "iopub.execute_input": "2025-08-19T18:17:56.980349Z",
     "iopub.status.busy": "2025-08-19T18:17:56.979597Z",
     "iopub.status.idle": "2025-08-19T18:17:58.793536Z",
     "shell.execute_reply": "2025-08-19T18:17:58.792062Z"
    },
    "papermill": {
     "duration": 1.830442,
     "end_time": "2025-08-19T18:17:58.796083",
     "exception": false,
     "start_time": "2025-08-19T18:17:56.965641",
     "status": "completed"
    },
    "tags": []
   },
   "outputs": [
    {
     "data": {
      "text/plain": [
       "array([[<Axes: title={'center': 'accuracy'}, xlabel='majmin'>,\n",
       "        <Axes: title={'center': 'balanced accuracy'}, xlabel='majmin'>,\n",
       "        <Axes: title={'center': 'f1'}, xlabel='majmin'>],\n",
       "       [<Axes: title={'center': 'precision'}, xlabel='majmin'>,\n",
       "        <Axes: title={'center': 'false positive rate'}, xlabel='majmin'>,\n",
       "        <Axes: title={'center': 'false negative rate'}, xlabel='majmin'>],\n",
       "       [<Axes: title={'center': 'selection rate'}, xlabel='majmin'>,\n",
       "        <Axes: title={'center': 'count'}, xlabel='majmin'>,\n",
       "        <Axes: xlabel='majmin'>]], dtype=object)"
      ]
     },
     "execution_count": 61,
     "metadata": {},
     "output_type": "execute_result"
    },
    {
     "data": {
      "image/png": "[encoded data removed]",
      "text/plain": [
       "<Figure size 1200x800 with 9 Axes>"
      ]
     },
     "metadata": {},
     "output_type": "display_data"
    }
   ],
   "source": [
    "# In a graphic\n",
    "metric_frame.by_group.plot.bar(\n",
    "    subplots=True,\n",
    "    layout=[3, 3],\n",
    "    legend=False,\n",
    "    figsize=[12, 8],\n",
    "    title=\"Show all metrics\",\n",
    ")"
   ]
  },
  {
   "cell_type": "markdown",
   "id": "b2e433ae",
   "metadata": {
    "papermill": {
     "duration": 0.018724,
     "end_time": "2025-08-19T18:17:58.849215",
     "exception": false,
     "start_time": "2025-08-19T18:17:58.830491",
     "status": "completed"
    },
    "tags": []
   },
   "source": [
    "# Final Output"
   ]
  },
  {
   "cell_type": "code",
   "execution_count": 62,
   "id": "3871301e",
   "metadata": {
    "execution": {
     "iopub.execute_input": "2025-08-19T18:17:58.879766Z",
     "iopub.status.busy": "2025-08-19T18:17:58.879225Z",
     "iopub.status.idle": "2025-08-19T18:17:58.888142Z",
     "shell.execute_reply": "2025-08-19T18:17:58.887000Z"
    },
    "papermill": {
     "duration": 0.030297,
     "end_time": "2025-08-19T18:17:58.893379",
     "exception": false,
     "start_time": "2025-08-19T18:17:58.863082",
     "status": "completed"
    },
    "tags": []
   },
   "outputs": [
    {
     "data": {
      "text/plain": [
       "4"
      ]
     },
     "execution_count": 62,
     "metadata": {},
     "output_type": "execute_result"
    }
   ],
   "source": [
    "sub_universes = universe_analysis.generate_sub_universes()\n",
    "len(sub_universes)"
   ]
  },
  {
   "cell_type": "code",
   "execution_count": 63,
   "id": "d9cfdaca",
   "metadata": {
    "execution": {
     "iopub.execute_input": "2025-08-19T18:17:58.932586Z",
     "iopub.status.busy": "2025-08-19T18:17:58.931613Z",
     "iopub.status.idle": "2025-08-19T18:17:58.951883Z",
     "shell.execute_reply": "2025-08-19T18:17:58.950119Z"
    },
    "papermill": {
     "duration": 0.043264,
     "end_time": "2025-08-19T18:17:58.959311",
     "exception": false,
     "start_time": "2025-08-19T18:17:58.916047",
     "status": "completed"
    },
    "tags": []
   },
   "outputs": [],
   "source": [
    "def filter_sub_universe_data(sub_universe, org_test):\n",
    "    # Keep all rows — no filtering\n",
    "    keep_rows_mask = np.ones(org_test.shape[0], dtype=bool)\n",
    "\n",
    "    print(f\"[INFO] Keeping all rows: {keep_rows_mask.sum()} rows retained.\")\n",
    "    return keep_rows_mask"
   ]
  },
  {
   "cell_type": "code",
   "execution_count": 64,
   "id": "2bc31ac1",
   "metadata": {
    "execution": {
     "iopub.execute_input": "2025-08-19T18:17:59.005173Z",
     "iopub.status.busy": "2025-08-19T18:17:59.004753Z",
     "iopub.status.idle": "2025-08-19T18:18:05.634501Z",
     "shell.execute_reply": "2025-08-19T18:18:05.632942Z"
    },
    "papermill": {
     "duration": 6.6493,
     "end_time": "2025-08-19T18:18:05.638102",
     "exception": false,
     "start_time": "2025-08-19T18:17:58.988802",
     "status": "completed"
    },
    "tags": []
   },
   "outputs": [
    {
     "name": "stdout",
     "output_type": "stream",
     "text": [
      "Stopping execution_time clock.\n",
      "[INFO] Keeping all rows: 89710 rows retained.\n"
     ]
    },
    {
     "name": "stdout",
     "output_type": "stream",
     "text": [
      "[INFO] Keeping all rows: 89710 rows retained.\n"
     ]
    },
    {
     "name": "stdout",
     "output_type": "stream",
     "text": [
      "[INFO] Keeping all rows: 89710 rows retained.\n"
     ]
    },
    {
     "name": "stdout",
     "output_type": "stream",
     "text": [
      "[INFO] Keeping all rows: 89710 rows retained.\n"
     ]
    },
    {
     "data": {
      "text/html": [
       "<div>\n",
       "<style scoped>\n",
       "    .dataframe tbody tr th:only-of-type {\n",
       "        vertical-align: middle;\n",
       "    }\n",
       "\n",
       "    .dataframe tbody tr th {\n",
       "        vertical-align: top;\n",
       "    }\n",
       "\n",
       "    .dataframe thead th {\n",
       "        text-align: right;\n",
       "    }\n",
       "</style>\n",
       "<table border=\"1\" class=\"dataframe\">\n",
       "  <thead>\n",
       "    <tr style=\"text-align: right;\">\n",
       "      <th></th>\n",
       "      <th>run_no</th>\n",
       "      <th>universe_id</th>\n",
       "      <th>universe_settings</th>\n",
       "      <th>execution_time</th>\n",
       "      <th>test_size_n</th>\n",
       "      <th>test_size_frac</th>\n",
       "      <th>fair_main_equalized_odds_difference</th>\n",
       "      <th>fair_main_equalized_odds_ratio</th>\n",
       "      <th>fair_main_demographic_parity_difference</th>\n",
       "      <th>fair_main_demographic_parity_ratio</th>\n",
       "      <th>...</th>\n",
       "      <th>perf_grp_precision_0</th>\n",
       "      <th>perf_grp_precision_1</th>\n",
       "      <th>perf_grp_false positive rate_0</th>\n",
       "      <th>perf_grp_false positive rate_1</th>\n",
       "      <th>perf_grp_false negative rate_0</th>\n",
       "      <th>perf_grp_false negative rate_1</th>\n",
       "      <th>perf_grp_selection rate_0</th>\n",
       "      <th>perf_grp_selection rate_1</th>\n",
       "      <th>perf_grp_count_0</th>\n",
       "      <th>perf_grp_count_1</th>\n",
       "    </tr>\n",
       "  </thead>\n",
       "  <tbody>\n",
       "    <tr>\n",
       "      <th>0</th>\n",
       "      <td>3</td>\n",
       "      <td>791ee8f1f4fbb52f31542899394a58a8</td>\n",
       "      <td>{\"cutoff\": \"quantile_0.1\", \"eval_fairness_grou...</td>\n",
       "      <td>29.235687</td>\n",
       "      <td>89710</td>\n",
       "      <td>1.0</td>\n",
       "      <td>0.098594</td>\n",
       "      <td>0.897591</td>\n",
       "      <td>0.085748</td>\n",
       "      <td>0.911245</td>\n",
       "      <td>...</td>\n",
       "      <td>NaN</td>\n",
       "      <td>NaN</td>\n",
       "      <td>NaN</td>\n",
       "      <td>NaN</td>\n",
       "      <td>NaN</td>\n",
       "      <td>NaN</td>\n",
       "      <td>NaN</td>\n",
       "      <td>NaN</td>\n",
       "      <td>NaN</td>\n",
       "      <td>NaN</td>\n",
       "    </tr>\n",
       "    <tr>\n",
       "      <th>0</th>\n",
       "      <td>3</td>\n",
       "      <td>791ee8f1f4fbb52f31542899394a58a8</td>\n",
       "      <td>{\"cutoff\": \"quantile_0.1\", \"eval_fairness_grou...</td>\n",
       "      <td>29.235687</td>\n",
       "      <td>89710</td>\n",
       "      <td>1.0</td>\n",
       "      <td>0.098594</td>\n",
       "      <td>0.897591</td>\n",
       "      <td>0.085748</td>\n",
       "      <td>0.911245</td>\n",
       "      <td>...</td>\n",
       "      <td>0.118373</td>\n",
       "      <td>0.148124</td>\n",
       "      <td>0.962745</td>\n",
       "      <td>0.864151</td>\n",
       "      <td>0.008024</td>\n",
       "      <td>0.013129</td>\n",
       "      <td>0.966115</td>\n",
       "      <td>0.880367</td>\n",
       "      <td>20540.0</td>\n",
       "      <td>69170.0</td>\n",
       "    </tr>\n",
       "    <tr>\n",
       "      <th>0</th>\n",
       "      <td>3</td>\n",
       "      <td>791ee8f1f4fbb52f31542899394a58a8</td>\n",
       "      <td>{\"cutoff\": \"quantile_0.25\", \"eval_fairness_gro...</td>\n",
       "      <td>29.235687</td>\n",
       "      <td>89710</td>\n",
       "      <td>1.0</td>\n",
       "      <td>0.187521</td>\n",
       "      <td>0.783134</td>\n",
       "      <td>0.164304</td>\n",
       "      <td>0.812583</td>\n",
       "      <td>...</td>\n",
       "      <td>NaN</td>\n",
       "      <td>NaN</td>\n",
       "      <td>NaN</td>\n",
       "      <td>NaN</td>\n",
       "      <td>NaN</td>\n",
       "      <td>NaN</td>\n",
       "      <td>NaN</td>\n",
       "      <td>NaN</td>\n",
       "      <td>NaN</td>\n",
       "      <td>NaN</td>\n",
       "    </tr>\n",
       "    <tr>\n",
       "      <th>0</th>\n",
       "      <td>3</td>\n",
       "      <td>791ee8f1f4fbb52f31542899394a58a8</td>\n",
       "      <td>{\"cutoff\": \"quantile_0.25\", \"eval_fairness_gro...</td>\n",
       "      <td>29.235687</td>\n",
       "      <td>89710</td>\n",
       "      <td>1.0</td>\n",
       "      <td>0.187521</td>\n",
       "      <td>0.783134</td>\n",
       "      <td>0.164304</td>\n",
       "      <td>0.812583</td>\n",
       "      <td>...</td>\n",
       "      <td>0.127395</td>\n",
       "      <td>0.175038</td>\n",
       "      <td>0.864682</td>\n",
       "      <td>0.677161</td>\n",
       "      <td>0.031250</td>\n",
       "      <td>0.056346</td>\n",
       "      <td>0.876680</td>\n",
       "      <td>0.712375</td>\n",
       "      <td>20540.0</td>\n",
       "      <td>69170.0</td>\n",
       "    </tr>\n",
       "  </tbody>\n",
       "</table>\n",
       "<p>4 rows × 50 columns</p>\n",
       "</div>"
      ],
      "text/plain": [
       "  run_no                       universe_id  \\\n",
       "0      3  791ee8f1f4fbb52f31542899394a58a8   \n",
       "0      3  791ee8f1f4fbb52f31542899394a58a8   \n",
       "0      3  791ee8f1f4fbb52f31542899394a58a8   \n",
       "0      3  791ee8f1f4fbb52f31542899394a58a8   \n",
       "\n",
       "                                   universe_settings  execution_time  \\\n",
       "0  {\"cutoff\": \"quantile_0.1\", \"eval_fairness_grou...       29.235687   \n",
       "0  {\"cutoff\": \"quantile_0.1\", \"eval_fairness_grou...       29.235687   \n",
       "0  {\"cutoff\": \"quantile_0.25\", \"eval_fairness_gro...       29.235687   \n",
       "0  {\"cutoff\": \"quantile_0.25\", \"eval_fairness_gro...       29.235687   \n",
       "\n",
       "   test_size_n  test_size_frac  fair_main_equalized_odds_difference  \\\n",
       "0        89710             1.0                             0.098594   \n",
       "0        89710             1.0                             0.098594   \n",
       "0        89710             1.0                             0.187521   \n",
       "0        89710             1.0                             0.187521   \n",
       "\n",
       "   fair_main_equalized_odds_ratio  fair_main_demographic_parity_difference  \\\n",
       "0                        0.897591                                 0.085748   \n",
       "0                        0.897591                                 0.085748   \n",
       "0                        0.783134                                 0.164304   \n",
       "0                        0.783134                                 0.164304   \n",
       "\n",
       "   fair_main_demographic_parity_ratio  ...  perf_grp_precision_0  \\\n",
       "0                            0.911245  ...                   NaN   \n",
       "0                            0.911245  ...              0.118373   \n",
       "0                            0.812583  ...                   NaN   \n",
       "0                            0.812583  ...              0.127395   \n",
       "\n",
       "   perf_grp_precision_1  perf_grp_false positive rate_0  \\\n",
       "0                   NaN                             NaN   \n",
       "0              0.148124                        0.962745   \n",
       "0                   NaN                             NaN   \n",
       "0              0.175038                        0.864682   \n",
       "\n",
       "   perf_grp_false positive rate_1  perf_grp_false negative rate_0  \\\n",
       "0                             NaN                             NaN   \n",
       "0                        0.864151                        0.008024   \n",
       "0                             NaN                             NaN   \n",
       "0                        0.677161                        0.031250   \n",
       "\n",
       "   perf_grp_false negative rate_1  perf_grp_selection rate_0  \\\n",
       "0                             NaN                        NaN   \n",
       "0                        0.013129                   0.966115   \n",
       "0                             NaN                        NaN   \n",
       "0                        0.056346                   0.876680   \n",
       "\n",
       "   perf_grp_selection rate_1  perf_grp_count_0  perf_grp_count_1  \n",
       "0                        NaN               NaN               NaN  \n",
       "0                   0.880367           20540.0           69170.0  \n",
       "0                        NaN               NaN               NaN  \n",
       "0                   0.712375           20540.0           69170.0  \n",
       "\n",
       "[4 rows x 50 columns]"
      ]
     },
     "execution_count": 64,
     "metadata": {},
     "output_type": "execute_result"
    }
   ],
   "source": [
    "final_output = universe_analysis.generate_final_output(\n",
    "    y_pred_prob=probs_test,\n",
    "    y_test=y_true,\n",
    "    org_test=org_test,\n",
    "    filter_data=filter_sub_universe_data,\n",
    "    cp_metrics_df=cp_metrics_df,\n",
    "    save=True,\n",
    ")\n",
    "final_output"
   ]
  },
  {
   "cell_type": "code",
   "execution_count": null,
   "id": "8b80a1ff",
   "metadata": {
    "papermill": {
     "duration": 0.016193,
     "end_time": "2025-08-19T18:18:05.686086",
     "exception": false,
     "start_time": "2025-08-19T18:18:05.669893",
     "status": "completed"
    },
    "tags": []
   },
   "outputs": [],
   "source": []
  },
  {
   "cell_type": "code",
   "execution_count": null,
   "id": "275c9fad",
   "metadata": {
    "papermill": {
     "duration": 0.015805,
     "end_time": "2025-08-19T18:18:05.718201",
     "exception": false,
     "start_time": "2025-08-19T18:18:05.702396",
     "status": "completed"
    },
    "tags": []
   },
   "outputs": [],
   "source": []
  }
 ],
 "metadata": {
  "celltoolbar": "Tags",
  "kernelspec": {
   "display_name": "Python (CMA Fairness)",
   "language": "python",
   "name": "cma_fair_env"
  },
  "language_info": {
   "codemirror_mode": {
    "name": "ipython",
    "version": 3
   },
   "file_extension": ".py",
   "mimetype": "text/x-python",
   "name": "python",
   "nbconvert_exporter": "python",
   "pygments_lexer": "ipython3",
   "version": "3.10.12"
  },
  "papermill": {
   "default_parameters": {},
   "duration": 39.960494,
   "end_time": "2025-08-19T18:18:06.581574",
   "environment_variables": {},
   "exception": null,
   "input_path": "universe_analysis.ipynb",
   "output_path": "output/runs/3/notebooks/m_3-791ee8f1f4fbb52f31542899394a58a8.ipynb",
   "parameters": {
    "output_dir": "output",
    "run_no": "3",
    "seed": "2023",
    "universe": "{\"cutoff\": [\"quantile_0.1\", \"quantile_0.25\"], \"eval_fairness_grouping\": [\"majority-minority\", \"nationality-all\"], \"exclude_features\": \"age\", \"exclude_subgroups\": \"keep-all\", \"model\": \"elasticnet\", \"scale\": \"scale\", \"training_size\": \"25k\", \"training_year\": \"2010_14\"}",
    "universe_id": "791ee8f1f4fbb52f31542899394a58a8"
   },
   "start_time": "2025-08-19T18:17:26.621080",
   "version": "2.6.0"
  }
 },
 "nbformat": 4,
 "nbformat_minor": 5
}