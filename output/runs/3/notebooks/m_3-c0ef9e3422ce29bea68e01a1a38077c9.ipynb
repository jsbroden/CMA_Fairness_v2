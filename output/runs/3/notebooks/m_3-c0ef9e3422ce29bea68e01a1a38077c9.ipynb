{
 "cells": [
  {
   "cell_type": "markdown",
   "id": "ef23dbb3",
   "metadata": {
    "papermill": {
     "duration": 0.014643,
     "end_time": "2025-08-19T18:57:20.843935",
     "exception": false,
     "start_time": "2025-08-19T18:57:20.829292",
     "status": "completed"
    },
    "tags": []
   },
   "source": [
    "# Setup"
   ]
  },
  {
   "cell_type": "code",
   "execution_count": 1,
   "id": "0bc8e7dc",
   "metadata": {
    "execution": {
     "iopub.execute_input": "2025-08-19T18:57:20.863493Z",
     "iopub.status.busy": "2025-08-19T18:57:20.863094Z",
     "iopub.status.idle": "2025-08-19T18:57:20.876112Z",
     "shell.execute_reply": "2025-08-19T18:57:20.874756Z"
    },
    "papermill": {
     "duration": 0.024323,
     "end_time": "2025-08-19T18:57:20.877496",
     "exception": false,
     "start_time": "2025-08-19T18:57:20.853173",
     "status": "completed"
    },
    "tags": []
   },
   "outputs": [
    {
     "name": "stdout",
     "output_type": "stream",
     "text": [
      "/dss/dsshome1/0C/ra93lal2/cma/CMA_Fairness_v2\n"
     ]
    },
    {
     "name": "stderr",
     "output_type": "stream",
     "text": [
      "/dss/dsshome1/0C/ra93lal2/.local/share/virtualenvs/CMA_Fairness_v2-3j10GkSs/lib/python3.10/site-packages/IPython/core/magics/osm.py:393: UserWarning: This is now an optional IPython functionality, using bookmarks requires you to install the `pickleshare` library.\n",
      "  bkms = self.shell.db.get('bookmarks', {})\n",
      "/dss/dsshome1/0C/ra93lal2/.local/share/virtualenvs/CMA_Fairness_v2-3j10GkSs/lib/python3.10/site-packages/IPython/core/magics/osm.py:417: UserWarning: This is now an optional IPython functionality, setting dhist requires you to install the `pickleshare` library.\n",
      "  self.shell.db['dhist'] = compress_dhist(dhist)[-100:]\n"
     ]
    }
   ],
   "source": [
    "%cd ~/cma/CMA_Fairness_v2"
   ]
  },
  {
   "cell_type": "markdown",
   "id": "9d235661",
   "metadata": {
    "papermill": {
     "duration": 0.010088,
     "end_time": "2025-08-19T18:57:20.898081",
     "exception": false,
     "start_time": "2025-08-19T18:57:20.887993",
     "status": "completed"
    },
    "tags": []
   },
   "source": [
    "The following cell holds the definition of our parameters, these values can be overriden by rendering the with e.g. the following command:\n",
    "\n",
    "papermill -p alpha 0.2 -p ratio 0.3 universe_analysis.ipynb output/test_run.ipynb"
   ]
  },
  {
   "cell_type": "code",
   "execution_count": 2,
   "id": "4a789d8e",
   "metadata": {
    "execution": {
     "iopub.execute_input": "2025-08-19T18:57:20.917731Z",
     "iopub.status.busy": "2025-08-19T18:57:20.917251Z",
     "iopub.status.idle": "2025-08-19T18:57:20.922311Z",
     "shell.execute_reply": "2025-08-19T18:57:20.921364Z"
    },
    "papermill": {
     "duration": 0.016395,
     "end_time": "2025-08-19T18:57:20.923652",
     "exception": false,
     "start_time": "2025-08-19T18:57:20.907257",
     "status": "completed"
    },
    "tags": []
   },
   "outputs": [
    {
     "name": "stdout",
     "output_type": "stream",
     "text": [
      "Current working directory: /dss/dsshome1/0C/ra93lal2/cma/CMA_Fairness_v2\n"
     ]
    }
   ],
   "source": [
    "import os\n",
    "print(\"Current working directory:\", os.getcwd())"
   ]
  },
  {
   "cell_type": "code",
   "execution_count": 3,
   "id": "4132aaed",
   "metadata": {
    "execution": {
     "iopub.execute_input": "2025-08-19T18:57:20.945746Z",
     "iopub.status.busy": "2025-08-19T18:57:20.945232Z",
     "iopub.status.idle": "2025-08-19T18:57:20.950080Z",
     "shell.execute_reply": "2025-08-19T18:57:20.949268Z"
    },
    "papermill": {
     "duration": 0.017218,
     "end_time": "2025-08-19T18:57:20.951253",
     "exception": false,
     "start_time": "2025-08-19T18:57:20.934035",
     "status": "completed"
    },
    "tags": [
     "parameters"
    ]
   },
   "outputs": [],
   "source": [
    "run_no = 0\n",
    "universe_id = \"test\"\n",
    "universe = {\n",
    "    \"training_size\": \"5k\", # \"25k\", \"5k\", \"1k\"\n",
    "    \"training_year\": \"2012_14\", # \"2014\", \"2012_14\", \"2010_14\"\n",
    "    \"scale\": \"scale\", # \"scale\", \"do-not-scale\",\n",
    "    \"model\": \"elasticnet\", # \"logreg\", \"penalized_logreg\", \"rf\", \"gbm\", \"elasticnet\"\n",
    "    \"cutoff\": [\"quantile_0.15\", \"quantile_0.30\"],\n",
    "    \"exclude_features\": \"age\", # \"none\", \"nationality\", \"sex\", \"nationality-sex\", \"age\"\n",
    "    \"exclude_subgroups\": \"drop-non-german\", # \"keep-all\", \"drop-non-german\"\n",
    "    \"eval_fairness_grouping\": [\"majority-minority\", \"nationality-all\"]\n",
    "}\n",
    "\n",
    "output_dir=\"./output\"\n",
    "seed=0"
   ]
  },
  {
   "cell_type": "code",
   "execution_count": 4,
   "id": "65e4c75d",
   "metadata": {
    "execution": {
     "iopub.execute_input": "2025-08-19T18:57:20.971645Z",
     "iopub.status.busy": "2025-08-19T18:57:20.971204Z",
     "iopub.status.idle": "2025-08-19T18:57:20.976275Z",
     "shell.execute_reply": "2025-08-19T18:57:20.975302Z"
    },
    "papermill": {
     "duration": 0.017288,
     "end_time": "2025-08-19T18:57:20.978199",
     "exception": false,
     "start_time": "2025-08-19T18:57:20.960911",
     "status": "completed"
    },
    "tags": [
     "injected-parameters"
    ]
   },
   "outputs": [],
   "source": [
    "# Parameters\n",
    "universe_id = \"c0ef9e3422ce29bea68e01a1a38077c9\"\n",
    "run_no = \"3\"\n",
    "universe = \"{\\\"cutoff\\\": [\\\"quantile_0.1\\\", \\\"quantile_0.25\\\"], \\\"eval_fairness_grouping\\\": [\\\"majority-minority\\\", \\\"nationality-all\\\"], \\\"exclude_features\\\": \\\"none\\\", \\\"exclude_subgroups\\\": \\\"drop-non-german\\\", \\\"model\\\": \\\"penalized_logreg\\\", \\\"scale\\\": \\\"scale\\\", \\\"training_size\\\": \\\"1k\\\", \\\"training_year\\\": \\\"2012_14\\\"}\"\n",
    "output_dir = \"output\"\n",
    "seed = \"2023\"\n"
   ]
  },
  {
   "cell_type": "code",
   "execution_count": 5,
   "id": "a5d7941f",
   "metadata": {
    "execution": {
     "iopub.execute_input": "2025-08-19T18:57:20.998128Z",
     "iopub.status.busy": "2025-08-19T18:57:20.997709Z",
     "iopub.status.idle": "2025-08-19T18:57:21.001884Z",
     "shell.execute_reply": "2025-08-19T18:57:21.001086Z"
    },
    "papermill": {
     "duration": 0.015453,
     "end_time": "2025-08-19T18:57:21.003105",
     "exception": false,
     "start_time": "2025-08-19T18:57:20.987652",
     "status": "completed"
    },
    "tags": []
   },
   "outputs": [],
   "source": [
    "import json\n",
    "if isinstance(universe, str):\n",
    "    universe = json.loads(universe)"
   ]
  },
  {
   "cell_type": "code",
   "execution_count": 6,
   "id": "7076ccb1",
   "metadata": {
    "execution": {
     "iopub.execute_input": "2025-08-19T18:57:21.024783Z",
     "iopub.status.busy": "2025-08-19T18:57:21.024368Z",
     "iopub.status.idle": "2025-08-19T18:57:21.068410Z",
     "shell.execute_reply": "2025-08-19T18:57:21.067136Z"
    },
    "papermill": {
     "duration": 0.057183,
     "end_time": "2025-08-19T18:57:21.069912",
     "exception": false,
     "start_time": "2025-08-19T18:57:21.012729",
     "status": "completed"
    },
    "tags": []
   },
   "outputs": [],
   "source": [
    "# Auto-reload the custom package\n",
    "%load_ext autoreload\n",
    "%autoreload 1\n",
    "%aimport fairness_multiverse"
   ]
  },
  {
   "cell_type": "code",
   "execution_count": 7,
   "id": "94c8eb93",
   "metadata": {
    "execution": {
     "iopub.execute_input": "2025-08-19T18:57:21.090162Z",
     "iopub.status.busy": "2025-08-19T18:57:21.089826Z",
     "iopub.status.idle": "2025-08-19T18:57:23.094098Z",
     "shell.execute_reply": "2025-08-19T18:57:23.093202Z"
    },
    "papermill": {
     "duration": 2.017191,
     "end_time": "2025-08-19T18:57:23.096916",
     "exception": false,
     "start_time": "2025-08-19T18:57:21.079725",
     "status": "completed"
    },
    "tags": []
   },
   "outputs": [],
   "source": [
    "from fairness_multiverse.universe import UniverseAnalysis\n",
    "\n",
    "universe_analysis = UniverseAnalysis(\n",
    "    run_no = run_no,\n",
    "    universe_id = universe_id,\n",
    "    universe = universe,\n",
    "    output_dir=output_dir,\n",
    ")"
   ]
  },
  {
   "cell_type": "code",
   "execution_count": 8,
   "id": "2a6381cf",
   "metadata": {
    "execution": {
     "iopub.execute_input": "2025-08-19T18:57:23.133816Z",
     "iopub.status.busy": "2025-08-19T18:57:23.132878Z",
     "iopub.status.idle": "2025-08-19T18:57:23.151689Z",
     "shell.execute_reply": "2025-08-19T18:57:23.149934Z"
    },
    "papermill": {
     "duration": 0.033877,
     "end_time": "2025-08-19T18:57:23.153416",
     "exception": false,
     "start_time": "2025-08-19T18:57:23.119539",
     "status": "completed"
    },
    "tags": []
   },
   "outputs": [
    {
     "name": "stdout",
     "output_type": "stream",
     "text": [
      "Using Seed: 2023\n"
     ]
    }
   ],
   "source": [
    "import numpy as np\n",
    "parsed_seed = int(seed)\n",
    "np.random.seed(parsed_seed)\n",
    "print(f\"Using Seed: {parsed_seed}\")"
   ]
  },
  {
   "cell_type": "markdown",
   "id": "b6e958b4",
   "metadata": {
    "papermill": {
     "duration": 0.010351,
     "end_time": "2025-08-19T18:57:23.180006",
     "exception": false,
     "start_time": "2025-08-19T18:57:23.169655",
     "status": "completed"
    },
    "tags": []
   },
   "source": [
    "# Loading Data"
   ]
  },
  {
   "cell_type": "code",
   "execution_count": 9,
   "id": "98701482",
   "metadata": {
    "execution": {
     "iopub.execute_input": "2025-08-19T18:57:23.201005Z",
     "iopub.status.busy": "2025-08-19T18:57:23.199955Z",
     "iopub.status.idle": "2025-08-19T18:57:33.977491Z",
     "shell.execute_reply": "2025-08-19T18:57:33.976541Z"
    },
    "papermill": {
     "duration": 10.790527,
     "end_time": "2025-08-19T18:57:33.979551",
     "exception": false,
     "start_time": "2025-08-19T18:57:23.189024",
     "status": "completed"
    },
    "tags": []
   },
   "outputs": [
    {
     "name": "stdout",
     "output_type": "stream",
     "text": [
      "Loading SIAB data from cache: data/siab_cached.csv.gz\n"
     ]
    },
    {
     "name": "stdout",
     "output_type": "stream",
     "text": [
      "(643690, 164)\n"
     ]
    }
   ],
   "source": [
    "from pathlib import Path\n",
    "import pandas as pd\n",
    "\n",
    "# File paths\n",
    "raw_file = Path(\"data/raw/siab.csv\")\n",
    "cache_file = Path(\"data/siab_cached.csv.gz\")\n",
    "\n",
    "# Ensure cache directory exists\n",
    "cache_file.parent.mkdir(parents=True, exist_ok=True)\n",
    "\n",
    "# Load with simple caching\n",
    "if cache_file.exists():\n",
    "    print(f\"Loading SIAB data from cache: {cache_file}\")\n",
    "    siab = pd.read_csv(cache_file, compression='gzip')\n",
    "else:\n",
    "    print(f\"Cache not found. Reading raw SIAB data: {raw_file}\")\n",
    "    siab = pd.read_csv(raw_file)\n",
    "    siab.to_csv(cache_file, index=False, compression='gzip')\n",
    "    print(f\"Cached SIAB data to: {cache_file}\")\n",
    "\n",
    "print(siab.shape)"
   ]
  },
  {
   "cell_type": "code",
   "execution_count": 10,
   "id": "058d2abb",
   "metadata": {
    "execution": {
     "iopub.execute_input": "2025-08-19T18:57:34.013972Z",
     "iopub.status.busy": "2025-08-19T18:57:34.012082Z",
     "iopub.status.idle": "2025-08-19T18:57:34.260804Z",
     "shell.execute_reply": "2025-08-19T18:57:34.260046Z"
    },
    "papermill": {
     "duration": 0.265984,
     "end_time": "2025-08-19T18:57:34.263648",
     "exception": false,
     "start_time": "2025-08-19T18:57:33.997664",
     "status": "completed"
    },
    "tags": []
   },
   "outputs": [
    {
     "data": {
      "text/html": [
       "<div>\n",
       "<style scoped>\n",
       "    .dataframe tbody tr th:only-of-type {\n",
       "        vertical-align: middle;\n",
       "    }\n",
       "\n",
       "    .dataframe tbody tr th {\n",
       "        vertical-align: top;\n",
       "    }\n",
       "\n",
       "    .dataframe thead th {\n",
       "        text-align: right;\n",
       "    }\n",
       "</style>\n",
       "<table border=\"1\" class=\"dataframe\">\n",
       "  <thead>\n",
       "    <tr style=\"text-align: right;\">\n",
       "      <th></th>\n",
       "      <th>persnr</th>\n",
       "      <th>year</th>\n",
       "      <th>nrEntry</th>\n",
       "      <th>ltue</th>\n",
       "      <th>employed_before</th>\n",
       "      <th>receipt_leh_before</th>\n",
       "      <th>receipt_lhg_before</th>\n",
       "      <th>se_before</th>\n",
       "      <th>ASU_notue_seeking_before</th>\n",
       "      <th>ASU_other_before</th>\n",
       "      <th>...</th>\n",
       "      <th>minijob_tot_dur_byage</th>\n",
       "      <th>ft_tot_dur_byage</th>\n",
       "      <th>befrist_tot_dur_byage</th>\n",
       "      <th>leih_tot_dur_byage</th>\n",
       "      <th>LHG_tot_dur_byage</th>\n",
       "      <th>LEH_tot_dur_byage</th>\n",
       "      <th>almp_tot_dur_byage</th>\n",
       "      <th>almp_aw_tot_dur_byage</th>\n",
       "      <th>se_tot_dur_byage</th>\n",
       "      <th>seeking1_tot_dur_byage</th>\n",
       "    </tr>\n",
       "  </thead>\n",
       "  <tbody>\n",
       "    <tr>\n",
       "      <th>0</th>\n",
       "      <td>7</td>\n",
       "      <td>2015</td>\n",
       "      <td>1</td>\n",
       "      <td>0</td>\n",
       "      <td>1</td>\n",
       "      <td>0</td>\n",
       "      <td>0</td>\n",
       "      <td>0</td>\n",
       "      <td>1</td>\n",
       "      <td>0</td>\n",
       "      <td>...</td>\n",
       "      <td>0.000000</td>\n",
       "      <td>0.000000</td>\n",
       "      <td>15.043478</td>\n",
       "      <td>0.000000</td>\n",
       "      <td>0.000000</td>\n",
       "      <td>0.000000</td>\n",
       "      <td>0.000000</td>\n",
       "      <td>0.000000</td>\n",
       "      <td>0.000000</td>\n",
       "      <td>0.000000</td>\n",
       "    </tr>\n",
       "    <tr>\n",
       "      <th>1</th>\n",
       "      <td>18</td>\n",
       "      <td>2010</td>\n",
       "      <td>1</td>\n",
       "      <td>1</td>\n",
       "      <td>0</td>\n",
       "      <td>0</td>\n",
       "      <td>0</td>\n",
       "      <td>0</td>\n",
       "      <td>0</td>\n",
       "      <td>0</td>\n",
       "      <td>...</td>\n",
       "      <td>0.000000</td>\n",
       "      <td>0.000000</td>\n",
       "      <td>0.000000</td>\n",
       "      <td>0.000000</td>\n",
       "      <td>0.000000</td>\n",
       "      <td>0.000000</td>\n",
       "      <td>0.000000</td>\n",
       "      <td>0.000000</td>\n",
       "      <td>0.000000</td>\n",
       "      <td>0.000000</td>\n",
       "    </tr>\n",
       "    <tr>\n",
       "      <th>2</th>\n",
       "      <td>18</td>\n",
       "      <td>2011</td>\n",
       "      <td>2</td>\n",
       "      <td>0</td>\n",
       "      <td>1</td>\n",
       "      <td>0</td>\n",
       "      <td>1</td>\n",
       "      <td>0</td>\n",
       "      <td>1</td>\n",
       "      <td>0</td>\n",
       "      <td>...</td>\n",
       "      <td>2.714286</td>\n",
       "      <td>2.714286</td>\n",
       "      <td>0.000000</td>\n",
       "      <td>0.000000</td>\n",
       "      <td>10.775510</td>\n",
       "      <td>0.000000</td>\n",
       "      <td>8.367347</td>\n",
       "      <td>0.000000</td>\n",
       "      <td>0.000000</td>\n",
       "      <td>9.836735</td>\n",
       "    </tr>\n",
       "    <tr>\n",
       "      <th>3</th>\n",
       "      <td>18</td>\n",
       "      <td>2012</td>\n",
       "      <td>3</td>\n",
       "      <td>0</td>\n",
       "      <td>1</td>\n",
       "      <td>0</td>\n",
       "      <td>1</td>\n",
       "      <td>0</td>\n",
       "      <td>1</td>\n",
       "      <td>0</td>\n",
       "      <td>...</td>\n",
       "      <td>4.200000</td>\n",
       "      <td>4.200000</td>\n",
       "      <td>0.000000</td>\n",
       "      <td>0.000000</td>\n",
       "      <td>12.100000</td>\n",
       "      <td>0.000000</td>\n",
       "      <td>9.400000</td>\n",
       "      <td>0.000000</td>\n",
       "      <td>0.000000</td>\n",
       "      <td>9.960000</td>\n",
       "    </tr>\n",
       "    <tr>\n",
       "      <th>4</th>\n",
       "      <td>18</td>\n",
       "      <td>2012</td>\n",
       "      <td>4</td>\n",
       "      <td>0</td>\n",
       "      <td>1</td>\n",
       "      <td>0</td>\n",
       "      <td>1</td>\n",
       "      <td>0</td>\n",
       "      <td>1</td>\n",
       "      <td>0</td>\n",
       "      <td>...</td>\n",
       "      <td>5.460000</td>\n",
       "      <td>5.460000</td>\n",
       "      <td>0.000000</td>\n",
       "      <td>0.000000</td>\n",
       "      <td>13.360000</td>\n",
       "      <td>0.000000</td>\n",
       "      <td>10.320000</td>\n",
       "      <td>0.000000</td>\n",
       "      <td>0.000000</td>\n",
       "      <td>10.280000</td>\n",
       "    </tr>\n",
       "    <tr>\n",
       "      <th>...</th>\n",
       "      <td>...</td>\n",
       "      <td>...</td>\n",
       "      <td>...</td>\n",
       "      <td>...</td>\n",
       "      <td>...</td>\n",
       "      <td>...</td>\n",
       "      <td>...</td>\n",
       "      <td>...</td>\n",
       "      <td>...</td>\n",
       "      <td>...</td>\n",
       "      <td>...</td>\n",
       "      <td>...</td>\n",
       "      <td>...</td>\n",
       "      <td>...</td>\n",
       "      <td>...</td>\n",
       "      <td>...</td>\n",
       "      <td>...</td>\n",
       "      <td>...</td>\n",
       "      <td>...</td>\n",
       "      <td>...</td>\n",
       "      <td>...</td>\n",
       "    </tr>\n",
       "    <tr>\n",
       "      <th>643685</th>\n",
       "      <td>1827860</td>\n",
       "      <td>2013</td>\n",
       "      <td>1</td>\n",
       "      <td>0</td>\n",
       "      <td>0</td>\n",
       "      <td>0</td>\n",
       "      <td>1</td>\n",
       "      <td>0</td>\n",
       "      <td>0</td>\n",
       "      <td>1</td>\n",
       "      <td>...</td>\n",
       "      <td>0.000000</td>\n",
       "      <td>0.000000</td>\n",
       "      <td>0.000000</td>\n",
       "      <td>0.000000</td>\n",
       "      <td>0.612903</td>\n",
       "      <td>0.000000</td>\n",
       "      <td>0.000000</td>\n",
       "      <td>0.000000</td>\n",
       "      <td>0.000000</td>\n",
       "      <td>0.000000</td>\n",
       "    </tr>\n",
       "    <tr>\n",
       "      <th>643686</th>\n",
       "      <td>1827860</td>\n",
       "      <td>2015</td>\n",
       "      <td>2</td>\n",
       "      <td>1</td>\n",
       "      <td>0</td>\n",
       "      <td>0</td>\n",
       "      <td>1</td>\n",
       "      <td>0</td>\n",
       "      <td>1</td>\n",
       "      <td>0</td>\n",
       "      <td>...</td>\n",
       "      <td>0.000000</td>\n",
       "      <td>0.000000</td>\n",
       "      <td>0.212121</td>\n",
       "      <td>0.212121</td>\n",
       "      <td>17.363636</td>\n",
       "      <td>0.000000</td>\n",
       "      <td>8.909091</td>\n",
       "      <td>0.000000</td>\n",
       "      <td>0.000000</td>\n",
       "      <td>7.121212</td>\n",
       "    </tr>\n",
       "    <tr>\n",
       "      <th>643687</th>\n",
       "      <td>1827860</td>\n",
       "      <td>2016</td>\n",
       "      <td>3</td>\n",
       "      <td>1</td>\n",
       "      <td>0</td>\n",
       "      <td>0</td>\n",
       "      <td>1</td>\n",
       "      <td>1</td>\n",
       "      <td>0</td>\n",
       "      <td>1</td>\n",
       "      <td>...</td>\n",
       "      <td>0.000000</td>\n",
       "      <td>0.000000</td>\n",
       "      <td>0.294118</td>\n",
       "      <td>0.205882</td>\n",
       "      <td>34.705882</td>\n",
       "      <td>0.000000</td>\n",
       "      <td>10.352941</td>\n",
       "      <td>1.705882</td>\n",
       "      <td>1.705882</td>\n",
       "      <td>23.911765</td>\n",
       "    </tr>\n",
       "    <tr>\n",
       "      <th>643688</th>\n",
       "      <td>1827869</td>\n",
       "      <td>2013</td>\n",
       "      <td>1</td>\n",
       "      <td>1</td>\n",
       "      <td>1</td>\n",
       "      <td>0</td>\n",
       "      <td>0</td>\n",
       "      <td>0</td>\n",
       "      <td>1</td>\n",
       "      <td>0</td>\n",
       "      <td>...</td>\n",
       "      <td>0.000000</td>\n",
       "      <td>0.000000</td>\n",
       "      <td>0.000000</td>\n",
       "      <td>0.000000</td>\n",
       "      <td>0.000000</td>\n",
       "      <td>0.525424</td>\n",
       "      <td>0.000000</td>\n",
       "      <td>0.000000</td>\n",
       "      <td>0.000000</td>\n",
       "      <td>0.000000</td>\n",
       "    </tr>\n",
       "    <tr>\n",
       "      <th>643689</th>\n",
       "      <td>1827869</td>\n",
       "      <td>2014</td>\n",
       "      <td>2</td>\n",
       "      <td>0</td>\n",
       "      <td>0</td>\n",
       "      <td>1</td>\n",
       "      <td>0</td>\n",
       "      <td>0</td>\n",
       "      <td>1</td>\n",
       "      <td>0</td>\n",
       "      <td>...</td>\n",
       "      <td>0.000000</td>\n",
       "      <td>0.666667</td>\n",
       "      <td>0.666667</td>\n",
       "      <td>0.000000</td>\n",
       "      <td>0.000000</td>\n",
       "      <td>8.950000</td>\n",
       "      <td>1.033333</td>\n",
       "      <td>0.083333</td>\n",
       "      <td>0.083333</td>\n",
       "      <td>8.133333</td>\n",
       "    </tr>\n",
       "  </tbody>\n",
       "</table>\n",
       "<p>643690 rows × 164 columns</p>\n",
       "</div>"
      ],
      "text/plain": [
       "         persnr  year  nrEntry  ltue  employed_before  receipt_leh_before  \\\n",
       "0             7  2015        1     0                1                   0   \n",
       "1            18  2010        1     1                0                   0   \n",
       "2            18  2011        2     0                1                   0   \n",
       "3            18  2012        3     0                1                   0   \n",
       "4            18  2012        4     0                1                   0   \n",
       "...         ...   ...      ...   ...              ...                 ...   \n",
       "643685  1827860  2013        1     0                0                   0   \n",
       "643686  1827860  2015        2     1                0                   0   \n",
       "643687  1827860  2016        3     1                0                   0   \n",
       "643688  1827869  2013        1     1                1                   0   \n",
       "643689  1827869  2014        2     0                0                   1   \n",
       "\n",
       "        receipt_lhg_before  se_before  ASU_notue_seeking_before  \\\n",
       "0                        0          0                         1   \n",
       "1                        0          0                         0   \n",
       "2                        1          0                         1   \n",
       "3                        1          0                         1   \n",
       "4                        1          0                         1   \n",
       "...                    ...        ...                       ...   \n",
       "643685                   1          0                         0   \n",
       "643686                   1          0                         1   \n",
       "643687                   1          1                         0   \n",
       "643688                   0          0                         1   \n",
       "643689                   0          0                         1   \n",
       "\n",
       "        ASU_other_before  ...  minijob_tot_dur_byage  ft_tot_dur_byage  \\\n",
       "0                      0  ...               0.000000          0.000000   \n",
       "1                      0  ...               0.000000          0.000000   \n",
       "2                      0  ...               2.714286          2.714286   \n",
       "3                      0  ...               4.200000          4.200000   \n",
       "4                      0  ...               5.460000          5.460000   \n",
       "...                  ...  ...                    ...               ...   \n",
       "643685                 1  ...               0.000000          0.000000   \n",
       "643686                 0  ...               0.000000          0.000000   \n",
       "643687                 1  ...               0.000000          0.000000   \n",
       "643688                 0  ...               0.000000          0.000000   \n",
       "643689                 0  ...               0.000000          0.666667   \n",
       "\n",
       "        befrist_tot_dur_byage  leih_tot_dur_byage  LHG_tot_dur_byage  \\\n",
       "0                   15.043478            0.000000           0.000000   \n",
       "1                    0.000000            0.000000           0.000000   \n",
       "2                    0.000000            0.000000          10.775510   \n",
       "3                    0.000000            0.000000          12.100000   \n",
       "4                    0.000000            0.000000          13.360000   \n",
       "...                       ...                 ...                ...   \n",
       "643685               0.000000            0.000000           0.612903   \n",
       "643686               0.212121            0.212121          17.363636   \n",
       "643687               0.294118            0.205882          34.705882   \n",
       "643688               0.000000            0.000000           0.000000   \n",
       "643689               0.666667            0.000000           0.000000   \n",
       "\n",
       "        LEH_tot_dur_byage  almp_tot_dur_byage  almp_aw_tot_dur_byage  \\\n",
       "0                0.000000            0.000000               0.000000   \n",
       "1                0.000000            0.000000               0.000000   \n",
       "2                0.000000            8.367347               0.000000   \n",
       "3                0.000000            9.400000               0.000000   \n",
       "4                0.000000           10.320000               0.000000   \n",
       "...                   ...                 ...                    ...   \n",
       "643685           0.000000            0.000000               0.000000   \n",
       "643686           0.000000            8.909091               0.000000   \n",
       "643687           0.000000           10.352941               1.705882   \n",
       "643688           0.525424            0.000000               0.000000   \n",
       "643689           8.950000            1.033333               0.083333   \n",
       "\n",
       "        se_tot_dur_byage  seeking1_tot_dur_byage  \n",
       "0               0.000000                0.000000  \n",
       "1               0.000000                0.000000  \n",
       "2               0.000000                9.836735  \n",
       "3               0.000000                9.960000  \n",
       "4               0.000000               10.280000  \n",
       "...                  ...                     ...  \n",
       "643685          0.000000                0.000000  \n",
       "643686          0.000000                7.121212  \n",
       "643687          1.705882               23.911765  \n",
       "643688          0.000000                0.000000  \n",
       "643689          0.083333                8.133333  \n",
       "\n",
       "[643690 rows x 164 columns]"
      ]
     },
     "execution_count": 10,
     "metadata": {},
     "output_type": "execute_result"
    }
   ],
   "source": [
    "siab"
   ]
  },
  {
   "cell_type": "markdown",
   "id": "1f87e805",
   "metadata": {
    "papermill": {
     "duration": 0.022807,
     "end_time": "2025-08-19T18:57:34.308094",
     "exception": false,
     "start_time": "2025-08-19T18:57:34.285287",
     "status": "completed"
    },
    "tags": []
   },
   "source": [
    "# Splitting Data and Setting Training Data Size"
   ]
  },
  {
   "cell_type": "code",
   "execution_count": 11,
   "id": "910ae358",
   "metadata": {
    "execution": {
     "iopub.execute_input": "2025-08-19T18:57:34.338310Z",
     "iopub.status.busy": "2025-08-19T18:57:34.337883Z",
     "iopub.status.idle": "2025-08-19T18:57:34.989150Z",
     "shell.execute_reply": "2025-08-19T18:57:34.988498Z"
    },
    "papermill": {
     "duration": 0.66406,
     "end_time": "2025-08-19T18:57:34.990520",
     "exception": false,
     "start_time": "2025-08-19T18:57:34.326460",
     "status": "completed"
    },
    "tags": []
   },
   "outputs": [],
   "source": [
    "from fairness_multiverse.universe import sample_by_year_size\n",
    "\n",
    "siab_train = sample_by_year_size(siab,\n",
    "                               training_year=universe[\"training_year\"],\n",
    "                               training_size=universe[\"training_size\"])"
   ]
  },
  {
   "cell_type": "code",
   "execution_count": 12,
   "id": "919c8ff5",
   "metadata": {
    "execution": {
     "iopub.execute_input": "2025-08-19T18:57:35.022341Z",
     "iopub.status.busy": "2025-08-19T18:57:35.021413Z",
     "iopub.status.idle": "2025-08-19T18:57:35.032280Z",
     "shell.execute_reply": "2025-08-19T18:57:35.030539Z"
    },
    "papermill": {
     "duration": 0.032928,
     "end_time": "2025-08-19T18:57:35.033762",
     "exception": false,
     "start_time": "2025-08-19T18:57:35.000834",
     "status": "completed"
    },
    "tags": []
   },
   "outputs": [
    {
     "data": {
      "text/plain": [
       "(1000, 164)"
      ]
     },
     "execution_count": 12,
     "metadata": {},
     "output_type": "execute_result"
    }
   ],
   "source": [
    "siab_train.shape"
   ]
  },
  {
   "cell_type": "code",
   "execution_count": 13,
   "id": "feb13bf4",
   "metadata": {
    "execution": {
     "iopub.execute_input": "2025-08-19T18:57:35.056832Z",
     "iopub.status.busy": "2025-08-19T18:57:35.055838Z",
     "iopub.status.idle": "2025-08-19T18:57:35.070265Z",
     "shell.execute_reply": "2025-08-19T18:57:35.069199Z"
    },
    "papermill": {
     "duration": 0.027114,
     "end_time": "2025-08-19T18:57:35.071513",
     "exception": false,
     "start_time": "2025-08-19T18:57:35.044399",
     "status": "completed"
    },
    "tags": []
   },
   "outputs": [
    {
     "data": {
      "text/plain": [
       "year\n",
       "2012    334\n",
       "2013    333\n",
       "2014    333\n",
       "dtype: int64"
      ]
     },
     "metadata": {},
     "output_type": "display_data"
    }
   ],
   "source": [
    "display(siab_train.groupby(\"year\").size())"
   ]
  },
  {
   "cell_type": "code",
   "execution_count": 14,
   "id": "0997782f",
   "metadata": {
    "execution": {
     "iopub.execute_input": "2025-08-19T18:57:35.097530Z",
     "iopub.status.busy": "2025-08-19T18:57:35.094097Z",
     "iopub.status.idle": "2025-08-19T18:57:35.397550Z",
     "shell.execute_reply": "2025-08-19T18:57:35.396156Z"
    },
    "papermill": {
     "duration": 0.316604,
     "end_time": "2025-08-19T18:57:35.399265",
     "exception": false,
     "start_time": "2025-08-19T18:57:35.082661",
     "status": "completed"
    },
    "tags": []
   },
   "outputs": [],
   "source": [
    "#siab_train = siab_s[siab_s.year < 2015]\n",
    "siab_calib = siab[siab.year == 2015]\n",
    "siab_test = siab[siab.year == 2016]"
   ]
  },
  {
   "cell_type": "code",
   "execution_count": 15,
   "id": "2c1e4012",
   "metadata": {
    "execution": {
     "iopub.execute_input": "2025-08-19T18:57:35.427471Z",
     "iopub.status.busy": "2025-08-19T18:57:35.426168Z",
     "iopub.status.idle": "2025-08-19T18:57:35.433992Z",
     "shell.execute_reply": "2025-08-19T18:57:35.432567Z"
    },
    "papermill": {
     "duration": 0.024782,
     "end_time": "2025-08-19T18:57:35.435702",
     "exception": false,
     "start_time": "2025-08-19T18:57:35.410920",
     "status": "completed"
    },
    "tags": []
   },
   "outputs": [],
   "source": [
    "#siab_calib.shape"
   ]
  },
  {
   "cell_type": "code",
   "execution_count": 16,
   "id": "f66b54ca",
   "metadata": {
    "execution": {
     "iopub.execute_input": "2025-08-19T18:57:35.463526Z",
     "iopub.status.busy": "2025-08-19T18:57:35.462371Z",
     "iopub.status.idle": "2025-08-19T18:57:35.470954Z",
     "shell.execute_reply": "2025-08-19T18:57:35.469180Z"
    },
    "papermill": {
     "duration": 0.02196,
     "end_time": "2025-08-19T18:57:35.472318",
     "exception": false,
     "start_time": "2025-08-19T18:57:35.450358",
     "status": "completed"
    },
    "tags": []
   },
   "outputs": [],
   "source": [
    "#siab_test.shape"
   ]
  },
  {
   "cell_type": "code",
   "execution_count": 17,
   "id": "27e4384d",
   "metadata": {
    "execution": {
     "iopub.execute_input": "2025-08-19T18:57:35.498580Z",
     "iopub.status.busy": "2025-08-19T18:57:35.497436Z",
     "iopub.status.idle": "2025-08-19T18:57:35.509843Z",
     "shell.execute_reply": "2025-08-19T18:57:35.508025Z"
    },
    "papermill": {
     "duration": 0.026146,
     "end_time": "2025-08-19T18:57:35.511454",
     "exception": false,
     "start_time": "2025-08-19T18:57:35.485308",
     "status": "completed"
    },
    "tags": []
   },
   "outputs": [],
   "source": [
    "X_train = siab_train.iloc[:,4:164]\n",
    "y_train = siab_train.iloc[:, [3]]"
   ]
  },
  {
   "cell_type": "code",
   "execution_count": 18,
   "id": "08ee8389",
   "metadata": {
    "execution": {
     "iopub.execute_input": "2025-08-19T18:57:35.542019Z",
     "iopub.status.busy": "2025-08-19T18:57:35.540825Z",
     "iopub.status.idle": "2025-08-19T18:57:35.610905Z",
     "shell.execute_reply": "2025-08-19T18:57:35.610075Z"
    },
    "papermill": {
     "duration": 0.085728,
     "end_time": "2025-08-19T18:57:35.613353",
     "exception": false,
     "start_time": "2025-08-19T18:57:35.527625",
     "status": "completed"
    },
    "tags": []
   },
   "outputs": [],
   "source": [
    "X_calib = siab_calib.iloc[:,4:164]\n",
    "y_calib = siab_calib.iloc[:, [3]]"
   ]
  },
  {
   "cell_type": "code",
   "execution_count": 19,
   "id": "b7ff42e0",
   "metadata": {
    "execution": {
     "iopub.execute_input": "2025-08-19T18:57:35.652117Z",
     "iopub.status.busy": "2025-08-19T18:57:35.651215Z",
     "iopub.status.idle": "2025-08-19T18:57:35.709467Z",
     "shell.execute_reply": "2025-08-19T18:57:35.708683Z"
    },
    "papermill": {
     "duration": 0.074625,
     "end_time": "2025-08-19T18:57:35.711886",
     "exception": false,
     "start_time": "2025-08-19T18:57:35.637261",
     "status": "completed"
    },
    "tags": []
   },
   "outputs": [],
   "source": [
    "X_test = siab_test.iloc[:,4:164]\n",
    "y_true = siab_test.iloc[:, [3]]"
   ]
  },
  {
   "cell_type": "code",
   "execution_count": 20,
   "id": "0275101e",
   "metadata": {
    "execution": {
     "iopub.execute_input": "2025-08-19T18:57:35.752069Z",
     "iopub.status.busy": "2025-08-19T18:57:35.751114Z",
     "iopub.status.idle": "2025-08-19T18:57:35.879380Z",
     "shell.execute_reply": "2025-08-19T18:57:35.878688Z"
    },
    "papermill": {
     "duration": 0.144415,
     "end_time": "2025-08-19T18:57:35.881278",
     "exception": false,
     "start_time": "2025-08-19T18:57:35.736863",
     "status": "completed"
    },
    "tags": []
   },
   "outputs": [],
   "source": [
    "# Auxiliary data needed downstream in the pipeline\n",
    "\n",
    "org_train = X_train.copy()\n",
    "org_test = X_test.copy()\n",
    "org_calib = X_calib.copy()"
   ]
  },
  {
   "cell_type": "markdown",
   "id": "b461e618",
   "metadata": {
    "papermill": {
     "duration": 0.010419,
     "end_time": "2025-08-19T18:57:35.907658",
     "exception": false,
     "start_time": "2025-08-19T18:57:35.897239",
     "status": "completed"
    },
    "tags": []
   },
   "source": [
    "# Preprocessing Data"
   ]
  },
  {
   "cell_type": "code",
   "execution_count": 21,
   "id": "78e74c4b",
   "metadata": {
    "execution": {
     "iopub.execute_input": "2025-08-19T18:57:35.931617Z",
     "iopub.status.busy": "2025-08-19T18:57:35.930268Z",
     "iopub.status.idle": "2025-08-19T18:57:35.940415Z",
     "shell.execute_reply": "2025-08-19T18:57:35.938834Z"
    },
    "papermill": {
     "duration": 0.023734,
     "end_time": "2025-08-19T18:57:35.942023",
     "exception": false,
     "start_time": "2025-08-19T18:57:35.918289",
     "status": "completed"
    },
    "tags": []
   },
   "outputs": [],
   "source": [
    "# EXCLUDE PROTECTED FEATURES\n",
    "# --------------------------\n",
    "\n",
    "excluded_features = universe[\"exclude_features\"].split(\"-\")\n",
    "excluded_features_dictionary = {\n",
    "    \"nationality\": [\"maxdeutsch1\", \"maxdeutsch.Missing.\"],\n",
    "    \"sex\": [\"frau1\"],\n",
    "    \"age\": [\"age\"],\n",
    "}"
   ]
  },
  {
   "cell_type": "code",
   "execution_count": 22,
   "id": "f8e63555",
   "metadata": {
    "execution": {
     "iopub.execute_input": "2025-08-19T18:57:35.970690Z",
     "iopub.status.busy": "2025-08-19T18:57:35.969471Z",
     "iopub.status.idle": "2025-08-19T18:57:35.976806Z",
     "shell.execute_reply": "2025-08-19T18:57:35.975718Z"
    },
    "papermill": {
     "duration": 0.021031,
     "end_time": "2025-08-19T18:57:35.978035",
     "exception": false,
     "start_time": "2025-08-19T18:57:35.957004",
     "status": "completed"
    },
    "tags": []
   },
   "outputs": [],
   "source": [
    "excluded_features_columns = [\n",
    "    excluded_features_dictionary[f] for f in excluded_features if len(f) > 0 and f != \"none\"\n",
    "]"
   ]
  },
  {
   "cell_type": "code",
   "execution_count": 23,
   "id": "da781f7c",
   "metadata": {
    "execution": {
     "iopub.execute_input": "2025-08-19T18:57:36.003400Z",
     "iopub.status.busy": "2025-08-19T18:57:36.002976Z",
     "iopub.status.idle": "2025-08-19T18:57:36.007247Z",
     "shell.execute_reply": "2025-08-19T18:57:36.006606Z"
    },
    "papermill": {
     "duration": 0.017047,
     "end_time": "2025-08-19T18:57:36.008222",
     "exception": false,
     "start_time": "2025-08-19T18:57:35.991175",
     "status": "completed"
    },
    "tags": []
   },
   "outputs": [],
   "source": [
    "from fairness_multiverse.universe import flatten_once\n",
    "\n",
    "excluded_features_columns = flatten_once(excluded_features_columns)"
   ]
  },
  {
   "cell_type": "code",
   "execution_count": 24,
   "id": "37fef0f0",
   "metadata": {
    "execution": {
     "iopub.execute_input": "2025-08-19T18:57:36.031520Z",
     "iopub.status.busy": "2025-08-19T18:57:36.031077Z",
     "iopub.status.idle": "2025-08-19T18:57:36.041245Z",
     "shell.execute_reply": "2025-08-19T18:57:36.039855Z"
    },
    "papermill": {
     "duration": 0.022996,
     "end_time": "2025-08-19T18:57:36.042610",
     "exception": false,
     "start_time": "2025-08-19T18:57:36.019614",
     "status": "completed"
    },
    "tags": []
   },
   "outputs": [],
   "source": [
    "if len(excluded_features_columns) > 0:\n",
    "    print(f\"Dropping features: {excluded_features_columns}\")\n",
    "    X_train.drop(excluded_features_columns, axis=1, inplace=True)"
   ]
  },
  {
   "cell_type": "code",
   "execution_count": 25,
   "id": "d029e3e9",
   "metadata": {
    "execution": {
     "iopub.execute_input": "2025-08-19T18:57:36.065576Z",
     "iopub.status.busy": "2025-08-19T18:57:36.065141Z",
     "iopub.status.idle": "2025-08-19T18:57:36.072370Z",
     "shell.execute_reply": "2025-08-19T18:57:36.070329Z"
    },
    "papermill": {
     "duration": 0.020899,
     "end_time": "2025-08-19T18:57:36.074143",
     "exception": false,
     "start_time": "2025-08-19T18:57:36.053244",
     "status": "completed"
    },
    "tags": []
   },
   "outputs": [],
   "source": [
    "if len(excluded_features_columns) > 0:\n",
    "    print(f\"Dropping features: {excluded_features_columns}\")\n",
    "    X_test.drop(excluded_features_columns, axis=1, inplace=True)"
   ]
  },
  {
   "cell_type": "code",
   "execution_count": 26,
   "id": "01d571f0",
   "metadata": {
    "execution": {
     "iopub.execute_input": "2025-08-19T18:57:36.099288Z",
     "iopub.status.busy": "2025-08-19T18:57:36.098200Z",
     "iopub.status.idle": "2025-08-19T18:57:36.108663Z",
     "shell.execute_reply": "2025-08-19T18:57:36.107210Z"
    },
    "papermill": {
     "duration": 0.024795,
     "end_time": "2025-08-19T18:57:36.110350",
     "exception": false,
     "start_time": "2025-08-19T18:57:36.085555",
     "status": "completed"
    },
    "tags": []
   },
   "outputs": [],
   "source": [
    "if len(excluded_features_columns) > 0:\n",
    "    print(f\"Dropping features: {excluded_features_columns}\")\n",
    "    X_calib.drop(excluded_features_columns, axis=1, inplace=True)"
   ]
  },
  {
   "cell_type": "code",
   "execution_count": 27,
   "id": "3037356e",
   "metadata": {
    "execution": {
     "iopub.execute_input": "2025-08-19T18:57:36.136699Z",
     "iopub.status.busy": "2025-08-19T18:57:36.135579Z",
     "iopub.status.idle": "2025-08-19T18:57:36.145508Z",
     "shell.execute_reply": "2025-08-19T18:57:36.143810Z"
    },
    "papermill": {
     "duration": 0.023578,
     "end_time": "2025-08-19T18:57:36.147008",
     "exception": false,
     "start_time": "2025-08-19T18:57:36.123430",
     "status": "completed"
    },
    "tags": []
   },
   "outputs": [],
   "source": [
    "# EXCLUDE CERTAIN SUBGROUPS\n",
    "# -------------------------\n",
    "\n",
    "mode = universe.get(\"exclude_subgroups\", \"keep-all\") # Defaults to \"keep-all\" if the key is missing."
   ]
  },
  {
   "cell_type": "code",
   "execution_count": 28,
   "id": "9d1e63fd",
   "metadata": {
    "execution": {
     "iopub.execute_input": "2025-08-19T18:57:36.174009Z",
     "iopub.status.busy": "2025-08-19T18:57:36.172960Z",
     "iopub.status.idle": "2025-08-19T18:57:36.187310Z",
     "shell.execute_reply": "2025-08-19T18:57:36.185522Z"
    },
    "papermill": {
     "duration": 0.028145,
     "end_time": "2025-08-19T18:57:36.188764",
     "exception": false,
     "start_time": "2025-08-19T18:57:36.160619",
     "status": "completed"
    },
    "tags": []
   },
   "outputs": [],
   "source": [
    "if mode == \"keep-all\":\n",
    "    keep_mask = pd.Series(True, index=org_train.index)\n",
    "\n",
    "elif mode == \"drop-non-german\":\n",
    "    keep_mask = (org_train[\"maxdeutsch1\"] == 1) & (org_train[\"maxdeutsch.Missing.\"] == 0)\n",
    "\n",
    "else:\n",
    "    raise ValueError(f\"Unsupported mode for exclude_subgroups: {mode}\")"
   ]
  },
  {
   "cell_type": "code",
   "execution_count": 29,
   "id": "d3b65474",
   "metadata": {
    "execution": {
     "iopub.execute_input": "2025-08-19T18:57:36.219576Z",
     "iopub.status.busy": "2025-08-19T18:57:36.218556Z",
     "iopub.status.idle": "2025-08-19T18:57:36.231444Z",
     "shell.execute_reply": "2025-08-19T18:57:36.230081Z"
    },
    "papermill": {
     "duration": 0.027552,
     "end_time": "2025-08-19T18:57:36.232876",
     "exception": false,
     "start_time": "2025-08-19T18:57:36.205324",
     "status": "completed"
    },
    "tags": []
   },
   "outputs": [
    {
     "name": "stdout",
     "output_type": "stream",
     "text": [
      "Dropping 147 rows (14.70%) where mode='drop-non-german'\n"
     ]
    }
   ],
   "source": [
    "n_drop = (~keep_mask).sum() # Calculates how many rows are set to be dropped\n",
    "if n_drop > 0:\n",
    "    pct = n_drop / len(keep_mask) * 100\n",
    "    print(f\"Dropping {n_drop} rows ({pct:.2f}%) where mode='{mode}'\")"
   ]
  },
  {
   "cell_type": "code",
   "execution_count": 30,
   "id": "f44389b3",
   "metadata": {
    "execution": {
     "iopub.execute_input": "2025-08-19T18:57:36.260184Z",
     "iopub.status.busy": "2025-08-19T18:57:36.259207Z",
     "iopub.status.idle": "2025-08-19T18:57:36.270945Z",
     "shell.execute_reply": "2025-08-19T18:57:36.269673Z"
    },
    "papermill": {
     "duration": 0.026018,
     "end_time": "2025-08-19T18:57:36.272383",
     "exception": false,
     "start_time": "2025-08-19T18:57:36.246365",
     "status": "completed"
    },
    "tags": []
   },
   "outputs": [],
   "source": [
    "X_train = X_train[keep_mask]"
   ]
  },
  {
   "cell_type": "code",
   "execution_count": 31,
   "id": "ceca8c2a",
   "metadata": {
    "execution": {
     "iopub.execute_input": "2025-08-19T18:57:36.303620Z",
     "iopub.status.busy": "2025-08-19T18:57:36.302627Z",
     "iopub.status.idle": "2025-08-19T18:57:36.312669Z",
     "shell.execute_reply": "2025-08-19T18:57:36.311475Z"
    },
    "papermill": {
     "duration": 0.028776,
     "end_time": "2025-08-19T18:57:36.314629",
     "exception": false,
     "start_time": "2025-08-19T18:57:36.285853",
     "status": "completed"
    },
    "tags": []
   },
   "outputs": [],
   "source": [
    "y_train = y_train[keep_mask]"
   ]
  },
  {
   "cell_type": "markdown",
   "id": "04d31e2f",
   "metadata": {
    "papermill": {
     "duration": 0.010917,
     "end_time": "2025-08-19T18:57:36.339798",
     "exception": false,
     "start_time": "2025-08-19T18:57:36.328881",
     "status": "completed"
    },
    "tags": []
   },
   "source": [
    "# Model Training"
   ]
  },
  {
   "cell_type": "code",
   "execution_count": 32,
   "id": "db991733",
   "metadata": {
    "execution": {
     "iopub.execute_input": "2025-08-19T18:57:36.368048Z",
     "iopub.status.busy": "2025-08-19T18:57:36.367009Z",
     "iopub.status.idle": "2025-08-19T18:57:36.475270Z",
     "shell.execute_reply": "2025-08-19T18:57:36.474590Z"
    },
    "papermill": {
     "duration": 0.126857,
     "end_time": "2025-08-19T18:57:36.477258",
     "exception": false,
     "start_time": "2025-08-19T18:57:36.350401",
     "status": "completed"
    },
    "tags": []
   },
   "outputs": [],
   "source": [
    "from sklearn.linear_model import LogisticRegression\n",
    "from sklearn.ensemble import GradientBoostingClassifier, RandomForestClassifier\n",
    "\n",
    "if (universe[\"model\"] == \"logreg\"):\n",
    "    model = LogisticRegression() #penalty=\"none\", solver=\"newton-cg\", max_iter=1)\n",
    "elif (universe[\"model\"] == \"penalized_logreg\"):\n",
    "    model = LogisticRegression(penalty=\"l2\", C=0.1) #, solver=\"newton-cg\", max_iter=1)\n",
    "elif (universe[\"model\"] == \"rf\"):\n",
    "    model = RandomForestClassifier() # n_estimators=100, n_jobs=-1\n",
    "elif (universe[\"model\"] == \"gbm\"):\n",
    "    model = GradientBoostingClassifier()\n",
    "elif (universe[\"model\"] == \"elasticnet\"):\n",
    "    model = LogisticRegression(penalty = 'elasticnet', solver = 'saga', l1_ratio = 0.5) # max_iter=5000\n",
    "else:\n",
    "    raise \"Unsupported universe.model\""
   ]
  },
  {
   "cell_type": "code",
   "execution_count": 33,
   "id": "a4b5cd25",
   "metadata": {
    "execution": {
     "iopub.execute_input": "2025-08-19T18:57:36.514298Z",
     "iopub.status.busy": "2025-08-19T18:57:36.513297Z",
     "iopub.status.idle": "2025-08-19T18:57:36.523879Z",
     "shell.execute_reply": "2025-08-19T18:57:36.522285Z"
    },
    "papermill": {
     "duration": 0.030663,
     "end_time": "2025-08-19T18:57:36.530324",
     "exception": false,
     "start_time": "2025-08-19T18:57:36.499661",
     "status": "completed"
    },
    "tags": []
   },
   "outputs": [],
   "source": [
    "from sklearn.pipeline import Pipeline\n",
    "from sklearn.preprocessing import StandardScaler\n",
    "\n",
    "model = Pipeline([\n",
    "    #(\"continuous_processor\", continuous_processor),\n",
    "    #(\"categorical_preprocessor\", categorical_preprocessor),\n",
    "    (\"scale\", StandardScaler() if universe[\"scale\"] == \"scale\" else None), \n",
    "    (\"model\", model),\n",
    "])"
   ]
  },
  {
   "cell_type": "code",
   "execution_count": 34,
   "id": "283a904d",
   "metadata": {
    "execution": {
     "iopub.execute_input": "2025-08-19T18:57:36.554166Z",
     "iopub.status.busy": "2025-08-19T18:57:36.553737Z",
     "iopub.status.idle": "2025-08-19T18:57:36.592972Z",
     "shell.execute_reply": "2025-08-19T18:57:36.592263Z"
    },
    "papermill": {
     "duration": 0.063076,
     "end_time": "2025-08-19T18:57:36.605137",
     "exception": false,
     "start_time": "2025-08-19T18:57:36.542061",
     "status": "completed"
    },
    "tags": []
   },
   "outputs": [
    {
     "data": {
      "text/html": [
       "<style>#sk-container-id-1 {color: black;background-color: white;}#sk-container-id-1 pre{padding: 0;}#sk-container-id-1 div.sk-toggleable {background-color: white;}#sk-container-id-1 label.sk-toggleable__label {cursor: pointer;display: block;width: 100%;margin-bottom: 0;padding: 0.3em;box-sizing: border-box;text-align: center;}#sk-container-id-1 label.sk-toggleable__label-arrow:before {content: \"▸\";float: left;margin-right: 0.25em;color: #696969;}#sk-container-id-1 label.sk-toggleable__label-arrow:hover:before {color: black;}#sk-container-id-1 div.sk-estimator:hover label.sk-toggleable__label-arrow:before {color: black;}#sk-container-id-1 div.sk-toggleable__content {max-height: 0;max-width: 0;overflow: hidden;text-align: left;background-color: #f0f8ff;}#sk-container-id-1 div.sk-toggleable__content pre {margin: 0.2em;color: black;border-radius: 0.25em;background-color: #f0f8ff;}#sk-container-id-1 input.sk-toggleable__control:checked~div.sk-toggleable__content {max-height: 200px;max-width: 100%;overflow: auto;}#sk-container-id-1 input.sk-toggleable__control:checked~label.sk-toggleable__label-arrow:before {content: \"▾\";}#sk-container-id-1 div.sk-estimator input.sk-toggleable__control:checked~label.sk-toggleable__label {background-color: #d4ebff;}#sk-container-id-1 div.sk-label input.sk-toggleable__control:checked~label.sk-toggleable__label {background-color: #d4ebff;}#sk-container-id-1 input.sk-hidden--visually {border: 0;clip: rect(1px 1px 1px 1px);clip: rect(1px, 1px, 1px, 1px);height: 1px;margin: -1px;overflow: hidden;padding: 0;position: absolute;width: 1px;}#sk-container-id-1 div.sk-estimator {font-family: monospace;background-color: #f0f8ff;border: 1px dotted black;border-radius: 0.25em;box-sizing: border-box;margin-bottom: 0.5em;}#sk-container-id-1 div.sk-estimator:hover {background-color: #d4ebff;}#sk-container-id-1 div.sk-parallel-item::after {content: \"\";width: 100%;border-bottom: 1px solid gray;flex-grow: 1;}#sk-container-id-1 div.sk-label:hover label.sk-toggleable__label {background-color: #d4ebff;}#sk-container-id-1 div.sk-serial::before {content: \"\";position: absolute;border-left: 1px solid gray;box-sizing: border-box;top: 0;bottom: 0;left: 50%;z-index: 0;}#sk-container-id-1 div.sk-serial {display: flex;flex-direction: column;align-items: center;background-color: white;padding-right: 0.2em;padding-left: 0.2em;position: relative;}#sk-container-id-1 div.sk-item {position: relative;z-index: 1;}#sk-container-id-1 div.sk-parallel {display: flex;align-items: stretch;justify-content: center;background-color: white;position: relative;}#sk-container-id-1 div.sk-item::before, #sk-container-id-1 div.sk-parallel-item::before {content: \"\";position: absolute;border-left: 1px solid gray;box-sizing: border-box;top: 0;bottom: 0;left: 50%;z-index: -1;}#sk-container-id-1 div.sk-parallel-item {display: flex;flex-direction: column;z-index: 1;position: relative;background-color: white;}#sk-container-id-1 div.sk-parallel-item:first-child::after {align-self: flex-end;width: 50%;}#sk-container-id-1 div.sk-parallel-item:last-child::after {align-self: flex-start;width: 50%;}#sk-container-id-1 div.sk-parallel-item:only-child::after {width: 0;}#sk-container-id-1 div.sk-dashed-wrapped {border: 1px dashed gray;margin: 0 0.4em 0.5em 0.4em;box-sizing: border-box;padding-bottom: 0.4em;background-color: white;}#sk-container-id-1 div.sk-label label {font-family: monospace;font-weight: bold;display: inline-block;line-height: 1.2em;}#sk-container-id-1 div.sk-label-container {text-align: center;}#sk-container-id-1 div.sk-container {/* jupyter's `normalize.less` sets `[hidden] { display: none; }` but bootstrap.min.css set `[hidden] { display: none !important; }` so we also need the `!important` here to be able to override the default hidden behavior on the sphinx rendered scikit-learn.org. See: https://github.com/scikit-learn/scikit-learn/issues/21755 */display: inline-block !important;position: relative;}#sk-container-id-1 div.sk-text-repr-fallback {display: none;}</style><div id=\"sk-container-id-1\" class=\"sk-top-container\"><div class=\"sk-text-repr-fallback\"><pre>Pipeline(steps=[(&#x27;scale&#x27;, StandardScaler()),\n",
       "                (&#x27;model&#x27;, LogisticRegression(C=0.1))])</pre><b>In a Jupyter environment, please rerun this cell to show the HTML representation or trust the notebook. <br />On GitHub, the HTML representation is unable to render, please try loading this page with nbviewer.org.</b></div><div class=\"sk-container\" hidden><div class=\"sk-item sk-dashed-wrapped\"><div class=\"sk-label-container\"><div class=\"sk-label sk-toggleable\"><input class=\"sk-toggleable__control sk-hidden--visually\" id=\"sk-estimator-id-1\" type=\"checkbox\" ><label for=\"sk-estimator-id-1\" class=\"sk-toggleable__label sk-toggleable__label-arrow\">Pipeline</label><div class=\"sk-toggleable__content\"><pre>Pipeline(steps=[(&#x27;scale&#x27;, StandardScaler()),\n",
       "                (&#x27;model&#x27;, LogisticRegression(C=0.1))])</pre></div></div></div><div class=\"sk-serial\"><div class=\"sk-item\"><div class=\"sk-estimator sk-toggleable\"><input class=\"sk-toggleable__control sk-hidden--visually\" id=\"sk-estimator-id-2\" type=\"checkbox\" ><label for=\"sk-estimator-id-2\" class=\"sk-toggleable__label sk-toggleable__label-arrow\">StandardScaler</label><div class=\"sk-toggleable__content\"><pre>StandardScaler()</pre></div></div></div><div class=\"sk-item\"><div class=\"sk-estimator sk-toggleable\"><input class=\"sk-toggleable__control sk-hidden--visually\" id=\"sk-estimator-id-3\" type=\"checkbox\" ><label for=\"sk-estimator-id-3\" class=\"sk-toggleable__label sk-toggleable__label-arrow\">LogisticRegression</label><div class=\"sk-toggleable__content\"><pre>LogisticRegression(C=0.1)</pre></div></div></div></div></div></div></div>"
      ],
      "text/plain": [
       "Pipeline(steps=[('scale', StandardScaler()),\n",
       "                ('model', LogisticRegression(C=0.1))])"
      ]
     },
     "execution_count": 34,
     "metadata": {},
     "output_type": "execute_result"
    }
   ],
   "source": [
    "model.fit(X_train, y_train.values.ravel())"
   ]
  },
  {
   "cell_type": "code",
   "execution_count": 35,
   "id": "6e15e313",
   "metadata": {
    "execution": {
     "iopub.execute_input": "2025-08-19T18:57:36.653263Z",
     "iopub.status.busy": "2025-08-19T18:57:36.645333Z",
     "iopub.status.idle": "2025-08-19T18:57:36.852247Z",
     "shell.execute_reply": "2025-08-19T18:57:36.851519Z"
    },
    "papermill": {
     "duration": 0.231962,
     "end_time": "2025-08-19T18:57:36.855399",
     "exception": false,
     "start_time": "2025-08-19T18:57:36.623437",
     "status": "completed"
    },
    "tags": []
   },
   "outputs": [
    {
     "data": {
      "text/plain": [
       "0.8424367406086278"
      ]
     },
     "execution_count": 35,
     "metadata": {},
     "output_type": "execute_result"
    }
   ],
   "source": [
    "from fairness_multiverse.universe import predict_w_threshold\n",
    "\n",
    "probs_test = model.predict_proba(X_test)\n",
    "\n",
    "'''\n",
    "Below code returns a boolean array (or binary 0/1 array depending on how it’s used) where each element \n",
    "is True if the probability of class 1 is greater than or equal to the threshold, and False otherwise.\n",
    "'''\n",
    "y_pred_default = predict_w_threshold(probs_test, 0.5)\n",
    "\n",
    "from sklearn.metrics import accuracy_score\n",
    "\n",
    "# Naive prediction\n",
    "accuracy_score(y_true = y_true, y_pred = y_pred_default)"
   ]
  },
  {
   "cell_type": "code",
   "execution_count": 36,
   "id": "6f14067c",
   "metadata": {
    "execution": {
     "iopub.execute_input": "2025-08-19T18:57:36.896286Z",
     "iopub.status.busy": "2025-08-19T18:57:36.895126Z",
     "iopub.status.idle": "2025-08-19T18:57:37.079918Z",
     "shell.execute_reply": "2025-08-19T18:57:37.078781Z"
    },
    "papermill": {
     "duration": 0.200959,
     "end_time": "2025-08-19T18:57:37.081795",
     "exception": false,
     "start_time": "2025-08-19T18:57:36.880836",
     "status": "completed"
    },
    "tags": []
   },
   "outputs": [
    {
     "data": {
      "text/plain": [
       "array([0, 0, 0, ..., 0, 0, 0])"
      ]
     },
     "execution_count": 36,
     "metadata": {},
     "output_type": "execute_result"
    }
   ],
   "source": [
    "model.predict(X_test)"
   ]
  },
  {
   "cell_type": "markdown",
   "id": "3759920c",
   "metadata": {
    "papermill": {
     "duration": 0.011197,
     "end_time": "2025-08-19T18:57:37.110809",
     "exception": false,
     "start_time": "2025-08-19T18:57:37.099612",
     "status": "completed"
    },
    "tags": []
   },
   "source": [
    "# Conformal Prediction"
   ]
  },
  {
   "cell_type": "code",
   "execution_count": 37,
   "id": "14b27f59",
   "metadata": {
    "execution": {
     "iopub.execute_input": "2025-08-19T18:57:37.135716Z",
     "iopub.status.busy": "2025-08-19T18:57:37.134556Z",
     "iopub.status.idle": "2025-08-19T18:57:37.142449Z",
     "shell.execute_reply": "2025-08-19T18:57:37.140832Z"
    },
    "papermill": {
     "duration": 0.022182,
     "end_time": "2025-08-19T18:57:37.144145",
     "exception": false,
     "start_time": "2025-08-19T18:57:37.121963",
     "status": "completed"
    },
    "tags": []
   },
   "outputs": [],
   "source": [
    "# Miscoverage level for conformal prediction (10% allowed error rate => 90% target coverage)\n",
    "alpha = 0.1"
   ]
  },
  {
   "cell_type": "code",
   "execution_count": 38,
   "id": "59102472",
   "metadata": {
    "execution": {
     "iopub.execute_input": "2025-08-19T18:57:37.171522Z",
     "iopub.status.busy": "2025-08-19T18:57:37.170425Z",
     "iopub.status.idle": "2025-08-19T18:57:37.408638Z",
     "shell.execute_reply": "2025-08-19T18:57:37.407783Z"
    },
    "papermill": {
     "duration": 0.254306,
     "end_time": "2025-08-19T18:57:37.411282",
     "exception": false,
     "start_time": "2025-08-19T18:57:37.156976",
     "status": "completed"
    },
    "tags": []
   },
   "outputs": [],
   "source": [
    "probs_calib = model.predict_proba(X_calib)"
   ]
  },
  {
   "cell_type": "code",
   "execution_count": 39,
   "id": "a792d4dd",
   "metadata": {
    "execution": {
     "iopub.execute_input": "2025-08-19T18:57:37.452589Z",
     "iopub.status.busy": "2025-08-19T18:57:37.451462Z",
     "iopub.status.idle": "2025-08-19T18:57:37.459103Z",
     "shell.execute_reply": "2025-08-19T18:57:37.457899Z"
    },
    "papermill": {
     "duration": 0.023887,
     "end_time": "2025-08-19T18:57:37.460550",
     "exception": false,
     "start_time": "2025-08-19T18:57:37.436663",
     "status": "completed"
    },
    "tags": []
   },
   "outputs": [],
   "source": [
    "y_calib = y_calib.values.ravel().astype(int)"
   ]
  },
  {
   "cell_type": "code",
   "execution_count": 40,
   "id": "650fd033",
   "metadata": {
    "execution": {
     "iopub.execute_input": "2025-08-19T18:57:37.498135Z",
     "iopub.status.busy": "2025-08-19T18:57:37.497505Z",
     "iopub.status.idle": "2025-08-19T18:57:37.505482Z",
     "shell.execute_reply": "2025-08-19T18:57:37.504604Z"
    },
    "papermill": {
     "duration": 0.032417,
     "end_time": "2025-08-19T18:57:37.507165",
     "exception": false,
     "start_time": "2025-08-19T18:57:37.474748",
     "status": "completed"
    },
    "tags": []
   },
   "outputs": [],
   "source": [
    "from fairness_multiverse.conformal import compute_nc_scores\n",
    "\n",
    "# Compute nonconformity scores on calibration set (1 - probability of true class)\n",
    "nc_scores = compute_nc_scores(probs_calib, y_calib)"
   ]
  },
  {
   "cell_type": "code",
   "execution_count": 41,
   "id": "28ada44c",
   "metadata": {
    "execution": {
     "iopub.execute_input": "2025-08-19T18:57:37.540598Z",
     "iopub.status.busy": "2025-08-19T18:57:37.540176Z",
     "iopub.status.idle": "2025-08-19T18:57:37.552416Z",
     "shell.execute_reply": "2025-08-19T18:57:37.551409Z"
    },
    "papermill": {
     "duration": 0.027743,
     "end_time": "2025-08-19T18:57:37.553841",
     "exception": false,
     "start_time": "2025-08-19T18:57:37.526098",
     "status": "completed"
    },
    "tags": []
   },
   "outputs": [],
   "source": [
    "from fairness_multiverse.conformal import find_threshold\n",
    "\n",
    "# Find conformal threshold q_hat for the given alpha (split conformal method)\n",
    "q_hat = find_threshold(nc_scores, alpha)"
   ]
  },
  {
   "cell_type": "code",
   "execution_count": 42,
   "id": "df56469e",
   "metadata": {
    "execution": {
     "iopub.execute_input": "2025-08-19T18:57:37.582714Z",
     "iopub.status.busy": "2025-08-19T18:57:37.581375Z",
     "iopub.status.idle": "2025-08-19T18:57:37.591501Z",
     "shell.execute_reply": "2025-08-19T18:57:37.590211Z"
    },
    "papermill": {
     "duration": 0.024691,
     "end_time": "2025-08-19T18:57:37.592942",
     "exception": false,
     "start_time": "2025-08-19T18:57:37.568251",
     "status": "completed"
    },
    "tags": []
   },
   "outputs": [
    {
     "data": {
      "text/plain": [
       "0.7587140362157928"
      ]
     },
     "execution_count": 42,
     "metadata": {},
     "output_type": "execute_result"
    }
   ],
   "source": [
    "q_hat"
   ]
  },
  {
   "cell_type": "code",
   "execution_count": 43,
   "id": "aa1f5faa",
   "metadata": {
    "execution": {
     "iopub.execute_input": "2025-08-19T18:57:37.622480Z",
     "iopub.status.busy": "2025-08-19T18:57:37.621306Z",
     "iopub.status.idle": "2025-08-19T18:57:38.258811Z",
     "shell.execute_reply": "2025-08-19T18:57:38.257331Z"
    },
    "papermill": {
     "duration": 0.65321,
     "end_time": "2025-08-19T18:57:38.260585",
     "exception": false,
     "start_time": "2025-08-19T18:57:37.607375",
     "status": "completed"
    },
    "tags": []
   },
   "outputs": [],
   "source": [
    "from fairness_multiverse.conformal import predict_conformal_sets\n",
    "\n",
    "# Generate prediction sets for each test example\n",
    "pred_sets = predict_conformal_sets(model, X_test, q_hat)"
   ]
  },
  {
   "cell_type": "code",
   "execution_count": 44,
   "id": "97f67a6b",
   "metadata": {
    "execution": {
     "iopub.execute_input": "2025-08-19T18:57:38.306811Z",
     "iopub.status.busy": "2025-08-19T18:57:38.305689Z",
     "iopub.status.idle": "2025-08-19T18:57:38.315551Z",
     "shell.execute_reply": "2025-08-19T18:57:38.314434Z"
    },
    "papermill": {
     "duration": 0.044845,
     "end_time": "2025-08-19T18:57:38.318449",
     "exception": false,
     "start_time": "2025-08-19T18:57:38.273604",
     "status": "completed"
    },
    "tags": []
   },
   "outputs": [],
   "source": [
    "y_true = y_true.squeeze()"
   ]
  },
  {
   "cell_type": "code",
   "execution_count": 45,
   "id": "e700e9a7",
   "metadata": {
    "execution": {
     "iopub.execute_input": "2025-08-19T18:57:38.352851Z",
     "iopub.status.busy": "2025-08-19T18:57:38.351721Z",
     "iopub.status.idle": "2025-08-19T18:57:38.870099Z",
     "shell.execute_reply": "2025-08-19T18:57:38.868532Z"
    },
    "papermill": {
     "duration": 0.534763,
     "end_time": "2025-08-19T18:57:38.873201",
     "exception": false,
     "start_time": "2025-08-19T18:57:38.338438",
     "status": "completed"
    },
    "tags": []
   },
   "outputs": [],
   "source": [
    "from fairness_multiverse.conformal import evaluate_sets\n",
    "\n",
    "# Evaluate coverage and average set size on test data\n",
    "metrics = evaluate_sets(pred_sets, y_true)"
   ]
  },
  {
   "cell_type": "markdown",
   "id": "efbacec0",
   "metadata": {
    "papermill": {
     "duration": 0.01369,
     "end_time": "2025-08-19T18:57:38.914473",
     "exception": false,
     "start_time": "2025-08-19T18:57:38.900783",
     "status": "completed"
    },
    "tags": []
   },
   "source": [
    "# CP Metrics"
   ]
  },
  {
   "cell_type": "code",
   "execution_count": 46,
   "id": "9de55fb1",
   "metadata": {
    "execution": {
     "iopub.execute_input": "2025-08-19T18:57:38.941950Z",
     "iopub.status.busy": "2025-08-19T18:57:38.940295Z",
     "iopub.status.idle": "2025-08-19T18:57:38.956433Z",
     "shell.execute_reply": "2025-08-19T18:57:38.954631Z"
    },
    "papermill": {
     "duration": 0.033209,
     "end_time": "2025-08-19T18:57:38.959328",
     "exception": false,
     "start_time": "2025-08-19T18:57:38.926119",
     "status": "completed"
    },
    "tags": []
   },
   "outputs": [
    {
     "data": {
      "text/plain": [
       "{'coverage': 0.9118604391929551, 'avg_size': 1.20548433842381}"
      ]
     },
     "execution_count": 46,
     "metadata": {},
     "output_type": "execute_result"
    }
   ],
   "source": [
    "metrics"
   ]
  },
  {
   "cell_type": "code",
   "execution_count": 47,
   "id": "64c340a1",
   "metadata": {
    "execution": {
     "iopub.execute_input": "2025-08-19T18:57:39.001025Z",
     "iopub.status.busy": "2025-08-19T18:57:38.999523Z",
     "iopub.status.idle": "2025-08-19T18:57:39.009948Z",
     "shell.execute_reply": "2025-08-19T18:57:39.008640Z"
    },
    "papermill": {
     "duration": 0.027327,
     "end_time": "2025-08-19T18:57:39.011591",
     "exception": false,
     "start_time": "2025-08-19T18:57:38.984264",
     "status": "completed"
    },
    "tags": []
   },
   "outputs": [],
   "source": [
    "example_universe = universe.copy()\n",
    "universe_training_year = example_universe.get(\"training_year\")\n",
    "universe_training_size = example_universe.get(\"training_size\")\n",
    "universe_scale = example_universe.get(\"scale\")\n",
    "universe_model = example_universe.get(\"model\")\n",
    "universe_exclude_features = example_universe.get(\"exclude_features\")\n",
    "universe_exclude_subgroups = example_universe.get(\"exclude_subgroups\")"
   ]
  },
  {
   "cell_type": "code",
   "execution_count": 48,
   "id": "dbb53cb4",
   "metadata": {
    "execution": {
     "iopub.execute_input": "2025-08-19T18:57:39.049140Z",
     "iopub.status.busy": "2025-08-19T18:57:39.045529Z",
     "iopub.status.idle": "2025-08-19T18:57:39.058781Z",
     "shell.execute_reply": "2025-08-19T18:57:39.057749Z"
    },
    "papermill": {
     "duration": 0.039974,
     "end_time": "2025-08-19T18:57:39.066516",
     "exception": false,
     "start_time": "2025-08-19T18:57:39.026542",
     "status": "completed"
    },
    "tags": []
   },
   "outputs": [],
   "source": [
    "cp_metrics_dict = {\n",
    "    \"universe_id\": [universe_id],\n",
    "    \"universe_training_year\": [universe_training_year],\n",
    "    \"universe_training_size\": [universe_training_size],\n",
    "    \"universe_scale\": [universe_scale],\n",
    "    \"universe_model\": [universe_model],\n",
    "    \"universe_exclude_features\": [universe_exclude_features],\n",
    "    \"universe_exclude_subgroups\": [universe_exclude_subgroups],\n",
    "    \"q_hat\": [q_hat],\n",
    "    \"coverage\": [metrics[\"coverage\"]],\n",
    "    \"avg_size\": [metrics[\"avg_size\"]],\n",
    "}"
   ]
  },
  {
   "cell_type": "code",
   "execution_count": 49,
   "id": "0d70d4b2",
   "metadata": {
    "execution": {
     "iopub.execute_input": "2025-08-19T18:57:39.098098Z",
     "iopub.status.busy": "2025-08-19T18:57:39.095646Z",
     "iopub.status.idle": "2025-08-19T18:57:39.110130Z",
     "shell.execute_reply": "2025-08-19T18:57:39.108947Z"
    },
    "papermill": {
     "duration": 0.032247,
     "end_time": "2025-08-19T18:57:39.111902",
     "exception": false,
     "start_time": "2025-08-19T18:57:39.079655",
     "status": "completed"
    },
    "tags": []
   },
   "outputs": [],
   "source": [
    "cp_metrics_df = pd.DataFrame(cp_metrics_dict)"
   ]
  },
  {
   "cell_type": "code",
   "execution_count": 50,
   "id": "b494403c",
   "metadata": {
    "execution": {
     "iopub.execute_input": "2025-08-19T18:57:39.146939Z",
     "iopub.status.busy": "2025-08-19T18:57:39.146521Z",
     "iopub.status.idle": "2025-08-19T18:57:39.192128Z",
     "shell.execute_reply": "2025-08-19T18:57:39.190616Z"
    },
    "papermill": {
     "duration": 0.064773,
     "end_time": "2025-08-19T18:57:39.194998",
     "exception": false,
     "start_time": "2025-08-19T18:57:39.130225",
     "status": "completed"
    },
    "tags": []
   },
   "outputs": [
    {
     "data": {
      "text/html": [
       "<div>\n",
       "<style scoped>\n",
       "    .dataframe tbody tr th:only-of-type {\n",
       "        vertical-align: middle;\n",
       "    }\n",
       "\n",
       "    .dataframe tbody tr th {\n",
       "        vertical-align: top;\n",
       "    }\n",
       "\n",
       "    .dataframe thead th {\n",
       "        text-align: right;\n",
       "    }\n",
       "</style>\n",
       "<table border=\"1\" class=\"dataframe\">\n",
       "  <thead>\n",
       "    <tr style=\"text-align: right;\">\n",
       "      <th></th>\n",
       "      <th>universe_id</th>\n",
       "      <th>universe_training_year</th>\n",
       "      <th>universe_training_size</th>\n",
       "      <th>universe_scale</th>\n",
       "      <th>universe_model</th>\n",
       "      <th>universe_exclude_features</th>\n",
       "      <th>universe_exclude_subgroups</th>\n",
       "      <th>q_hat</th>\n",
       "      <th>coverage</th>\n",
       "      <th>avg_size</th>\n",
       "    </tr>\n",
       "  </thead>\n",
       "  <tbody>\n",
       "    <tr>\n",
       "      <th>0</th>\n",
       "      <td>c0ef9e3422ce29bea68e01a1a38077c9</td>\n",
       "      <td>2012_14</td>\n",
       "      <td>1k</td>\n",
       "      <td>scale</td>\n",
       "      <td>penalized_logreg</td>\n",
       "      <td>none</td>\n",
       "      <td>drop-non-german</td>\n",
       "      <td>0.758714</td>\n",
       "      <td>0.91186</td>\n",
       "      <td>1.205484</td>\n",
       "    </tr>\n",
       "  </tbody>\n",
       "</table>\n",
       "</div>"
      ],
      "text/plain": [
       "                        universe_id universe_training_year  \\\n",
       "0  c0ef9e3422ce29bea68e01a1a38077c9                2012_14   \n",
       "\n",
       "  universe_training_size universe_scale    universe_model  \\\n",
       "0                     1k          scale  penalized_logreg   \n",
       "\n",
       "  universe_exclude_features universe_exclude_subgroups     q_hat  coverage  \\\n",
       "0                      none            drop-non-german  0.758714   0.91186   \n",
       "\n",
       "   avg_size  \n",
       "0  1.205484  "
      ]
     },
     "execution_count": 50,
     "metadata": {},
     "output_type": "execute_result"
    }
   ],
   "source": [
    "cp_metrics_df"
   ]
  },
  {
   "cell_type": "markdown",
   "id": "ed608b0b",
   "metadata": {
    "papermill": {
     "duration": 0.012729,
     "end_time": "2025-08-19T18:57:39.232437",
     "exception": false,
     "start_time": "2025-08-19T18:57:39.219708",
     "status": "completed"
    },
    "tags": []
   },
   "source": [
    "Conditional coverage & looking at subgroups"
   ]
  },
  {
   "cell_type": "code",
   "execution_count": 51,
   "id": "8968c366",
   "metadata": {
    "execution": {
     "iopub.execute_input": "2025-08-19T18:57:39.261586Z",
     "iopub.status.busy": "2025-08-19T18:57:39.260777Z",
     "iopub.status.idle": "2025-08-19T18:57:39.557308Z",
     "shell.execute_reply": "2025-08-19T18:57:39.555777Z"
    },
    "papermill": {
     "duration": 0.313042,
     "end_time": "2025-08-19T18:57:39.559234",
     "exception": false,
     "start_time": "2025-08-19T18:57:39.246192",
     "status": "completed"
    },
    "tags": []
   },
   "outputs": [],
   "source": [
    "from fairness_multiverse.conformal import build_cp_groups\n",
    "\n",
    "cp_groups_df = build_cp_groups(pred_sets, y_true, X_test.index, org_test)"
   ]
  },
  {
   "cell_type": "code",
   "execution_count": 52,
   "id": "292ddabf",
   "metadata": {
    "execution": {
     "iopub.execute_input": "2025-08-19T18:57:39.601107Z",
     "iopub.status.busy": "2025-08-19T18:57:39.586213Z",
     "iopub.status.idle": "2025-08-19T18:57:40.462277Z",
     "shell.execute_reply": "2025-08-19T18:57:40.460773Z"
    },
    "papermill": {
     "duration": 0.892428,
     "end_time": "2025-08-19T18:57:40.464228",
     "exception": false,
     "start_time": "2025-08-19T18:57:39.571800",
     "status": "completed"
    },
    "tags": []
   },
   "outputs": [],
   "source": [
    "# Define covered = 1 if true_label is in the predicted set\n",
    "cp_groups_df['covered'] = cp_groups_df.apply(\n",
    "    lambda r: int(r['true_label'] in r['pred_set']),\n",
    "    axis=1\n",
    ")"
   ]
  },
  {
   "cell_type": "code",
   "execution_count": 53,
   "id": "3a261692",
   "metadata": {
    "execution": {
     "iopub.execute_input": "2025-08-19T18:57:40.493178Z",
     "iopub.status.busy": "2025-08-19T18:57:40.492375Z",
     "iopub.status.idle": "2025-08-19T18:57:40.520003Z",
     "shell.execute_reply": "2025-08-19T18:57:40.519333Z"
    },
    "papermill": {
     "duration": 0.043098,
     "end_time": "2025-08-19T18:57:40.521557",
     "exception": false,
     "start_time": "2025-08-19T18:57:40.478459",
     "status": "completed"
    },
    "tags": []
   },
   "outputs": [],
   "source": [
    "subgroups = ['frau1','nongerman','nongerman_male','nongerman_female']\n",
    "\n",
    "# Conditional coverage for subgroup==1\n",
    "cond_coverage = {\n",
    "    g: cp_groups_df.loc[cp_groups_df[g]==1, 'covered'].mean()\n",
    "    for g in subgroups\n",
    "}"
   ]
  },
  {
   "cell_type": "code",
   "execution_count": 54,
   "id": "894fd600",
   "metadata": {
    "execution": {
     "iopub.execute_input": "2025-08-19T18:57:40.549425Z",
     "iopub.status.busy": "2025-08-19T18:57:40.548696Z",
     "iopub.status.idle": "2025-08-19T18:57:40.557355Z",
     "shell.execute_reply": "2025-08-19T18:57:40.556376Z"
    },
    "papermill": {
     "duration": 0.02341,
     "end_time": "2025-08-19T18:57:40.558633",
     "exception": false,
     "start_time": "2025-08-19T18:57:40.535223",
     "status": "completed"
    },
    "tags": []
   },
   "outputs": [
    {
     "data": {
      "text/plain": [
       "{'frau1': 0.9021431459765467,\n",
       " 'nongerman': 0.9164093639476787,\n",
       " 'nongerman_male': 0.9363235161668018,\n",
       " 'nongerman_female': 0.8834575260804769}"
      ]
     },
     "execution_count": 54,
     "metadata": {},
     "output_type": "execute_result"
    }
   ],
   "source": [
    "cond_coverage"
   ]
  },
  {
   "cell_type": "code",
   "execution_count": 55,
   "id": "942895c7",
   "metadata": {
    "execution": {
     "iopub.execute_input": "2025-08-19T18:57:40.587408Z",
     "iopub.status.busy": "2025-08-19T18:57:40.586593Z",
     "iopub.status.idle": "2025-08-19T18:57:40.597067Z",
     "shell.execute_reply": "2025-08-19T18:57:40.596049Z"
    },
    "papermill": {
     "duration": 0.026424,
     "end_time": "2025-08-19T18:57:40.598421",
     "exception": false,
     "start_time": "2025-08-19T18:57:40.571997",
     "status": "completed"
    },
    "tags": []
   },
   "outputs": [],
   "source": [
    "for subgroup, cov in cond_coverage.items():\n",
    "    cp_metrics_df[f\"cov_{subgroup}\"] = cov"
   ]
  },
  {
   "cell_type": "code",
   "execution_count": 56,
   "id": "3970120f",
   "metadata": {
    "execution": {
     "iopub.execute_input": "2025-08-19T18:57:40.635101Z",
     "iopub.status.busy": "2025-08-19T18:57:40.634461Z",
     "iopub.status.idle": "2025-08-19T18:57:40.653194Z",
     "shell.execute_reply": "2025-08-19T18:57:40.652397Z"
    },
    "papermill": {
     "duration": 0.042644,
     "end_time": "2025-08-19T18:57:40.654265",
     "exception": false,
     "start_time": "2025-08-19T18:57:40.611621",
     "status": "completed"
    },
    "tags": []
   },
   "outputs": [
    {
     "data": {
      "text/html": [
       "<div>\n",
       "<style scoped>\n",
       "    .dataframe tbody tr th:only-of-type {\n",
       "        vertical-align: middle;\n",
       "    }\n",
       "\n",
       "    .dataframe tbody tr th {\n",
       "        vertical-align: top;\n",
       "    }\n",
       "\n",
       "    .dataframe thead th {\n",
       "        text-align: right;\n",
       "    }\n",
       "</style>\n",
       "<table border=\"1\" class=\"dataframe\">\n",
       "  <thead>\n",
       "    <tr style=\"text-align: right;\">\n",
       "      <th></th>\n",
       "      <th>universe_id</th>\n",
       "      <th>universe_training_year</th>\n",
       "      <th>universe_training_size</th>\n",
       "      <th>universe_scale</th>\n",
       "      <th>universe_model</th>\n",
       "      <th>universe_exclude_features</th>\n",
       "      <th>universe_exclude_subgroups</th>\n",
       "      <th>q_hat</th>\n",
       "      <th>coverage</th>\n",
       "      <th>avg_size</th>\n",
       "      <th>cov_frau1</th>\n",
       "      <th>cov_nongerman</th>\n",
       "      <th>cov_nongerman_male</th>\n",
       "      <th>cov_nongerman_female</th>\n",
       "    </tr>\n",
       "  </thead>\n",
       "  <tbody>\n",
       "    <tr>\n",
       "      <th>0</th>\n",
       "      <td>c0ef9e3422ce29bea68e01a1a38077c9</td>\n",
       "      <td>2012_14</td>\n",
       "      <td>1k</td>\n",
       "      <td>scale</td>\n",
       "      <td>penalized_logreg</td>\n",
       "      <td>none</td>\n",
       "      <td>drop-non-german</td>\n",
       "      <td>0.758714</td>\n",
       "      <td>0.91186</td>\n",
       "      <td>1.205484</td>\n",
       "      <td>0.902143</td>\n",
       "      <td>0.916409</td>\n",
       "      <td>0.936324</td>\n",
       "      <td>0.883458</td>\n",
       "    </tr>\n",
       "  </tbody>\n",
       "</table>\n",
       "</div>"
      ],
      "text/plain": [
       "                        universe_id universe_training_year  \\\n",
       "0  c0ef9e3422ce29bea68e01a1a38077c9                2012_14   \n",
       "\n",
       "  universe_training_size universe_scale    universe_model  \\\n",
       "0                     1k          scale  penalized_logreg   \n",
       "\n",
       "  universe_exclude_features universe_exclude_subgroups     q_hat  coverage  \\\n",
       "0                      none            drop-non-german  0.758714   0.91186   \n",
       "\n",
       "   avg_size  cov_frau1  cov_nongerman  cov_nongerman_male  \\\n",
       "0  1.205484   0.902143       0.916409            0.936324   \n",
       "\n",
       "   cov_nongerman_female  \n",
       "0              0.883458  "
      ]
     },
     "execution_count": 56,
     "metadata": {},
     "output_type": "execute_result"
    }
   ],
   "source": [
    "cp_metrics_df"
   ]
  },
  {
   "cell_type": "markdown",
   "id": "3fc519cc",
   "metadata": {
    "papermill": {
     "duration": 0.013211,
     "end_time": "2025-08-19T18:57:40.680354",
     "exception": false,
     "start_time": "2025-08-19T18:57:40.667143",
     "status": "completed"
    },
    "tags": []
   },
   "source": [
    "# (Fairness) Metrics"
   ]
  },
  {
   "cell_type": "code",
   "execution_count": 57,
   "id": "a2e5e155",
   "metadata": {
    "execution": {
     "iopub.execute_input": "2025-08-19T18:57:40.710251Z",
     "iopub.status.busy": "2025-08-19T18:57:40.708956Z",
     "iopub.status.idle": "2025-08-19T18:57:40.742151Z",
     "shell.execute_reply": "2025-08-19T18:57:40.741332Z"
    },
    "papermill": {
     "duration": 0.067704,
     "end_time": "2025-08-19T18:57:40.761710",
     "exception": false,
     "start_time": "2025-08-19T18:57:40.694006",
     "status": "completed"
    },
    "tags": []
   },
   "outputs": [],
   "source": [
    "colname_to_bin = \"maxdeutsch1\"\n",
    "majority_value = org_train[colname_to_bin].mode()[0]\n",
    "\n",
    "org_test[\"majmin\"] = np.where(org_test[colname_to_bin] == majority_value, \"majority\", \"minority\")"
   ]
  },
  {
   "cell_type": "code",
   "execution_count": 58,
   "id": "17e3e4d5",
   "metadata": {
    "execution": {
     "iopub.execute_input": "2025-08-19T18:57:40.807629Z",
     "iopub.status.busy": "2025-08-19T18:57:40.806550Z",
     "iopub.status.idle": "2025-08-19T18:57:42.597165Z",
     "shell.execute_reply": "2025-08-19T18:57:42.594272Z"
    },
    "papermill": {
     "duration": 1.818281,
     "end_time": "2025-08-19T18:57:42.599238",
     "exception": false,
     "start_time": "2025-08-19T18:57:40.780957",
     "status": "completed"
    },
    "tags": []
   },
   "outputs": [],
   "source": [
    "example_universe = universe.copy()\n",
    "example_universe[\"cutoff\"] = example_universe[\"cutoff\"][0]\n",
    "example_universe[\"eval_fairness_grouping\"] = example_universe[\"eval_fairness_grouping\"][0]\n",
    "fairness_dict, metric_frame = universe_analysis.compute_metrics(\n",
    "    example_universe,\n",
    "    y_pred_prob=probs_test,\n",
    "    y_test=y_true,\n",
    "    org_test=org_test,\n",
    ")"
   ]
  },
  {
   "cell_type": "markdown",
   "id": "1fb7a0e9",
   "metadata": {
    "papermill": {
     "duration": 0.015591,
     "end_time": "2025-08-19T18:57:42.627924",
     "exception": false,
     "start_time": "2025-08-19T18:57:42.612333",
     "status": "completed"
    },
    "tags": []
   },
   "source": [
    "# Overall"
   ]
  },
  {
   "cell_type": "markdown",
   "id": "be1784b1",
   "metadata": {
    "papermill": {
     "duration": 0.012725,
     "end_time": "2025-08-19T18:57:42.654016",
     "exception": false,
     "start_time": "2025-08-19T18:57:42.641291",
     "status": "completed"
    },
    "tags": []
   },
   "source": [
    "Main fairness target: Equalized Odds. Seems to be a better fit than equal opportunity, since we're not only interested in Y = 1. Seems to be a better fit than demographic parity, since we also care about accuracy, not just equal distribution of preds.\n",
    "\n",
    "Pick column for computation of fairness metrics\n",
    "\n",
    "Performance\n",
    "Overall performance measures, most interesting in relation to the measures split by group below"
   ]
  },
  {
   "cell_type": "code",
   "execution_count": 59,
   "id": "b7672bee",
   "metadata": {
    "execution": {
     "iopub.execute_input": "2025-08-19T18:57:42.682785Z",
     "iopub.status.busy": "2025-08-19T18:57:42.681503Z",
     "iopub.status.idle": "2025-08-19T18:57:42.698121Z",
     "shell.execute_reply": "2025-08-19T18:57:42.696916Z"
    },
    "papermill": {
     "duration": 0.033899,
     "end_time": "2025-08-19T18:57:42.700014",
     "exception": false,
     "start_time": "2025-08-19T18:57:42.666115",
     "status": "completed"
    },
    "tags": []
   },
   "outputs": [
    {
     "data": {
      "text/plain": [
       "accuracy                   0.219139\n",
       "balanced accuracy          0.536923\n",
       "f1                         0.240615\n",
       "precision                  0.137455\n",
       "false positive rate        0.890527\n",
       "false negative rate        0.035627\n",
       "selection rate             0.900000\n",
       "count                  89710.000000\n",
       "dtype: float64"
      ]
     },
     "execution_count": 59,
     "metadata": {},
     "output_type": "execute_result"
    }
   ],
   "source": [
    "metric_frame.overall"
   ]
  },
  {
   "cell_type": "markdown",
   "id": "d93333c9",
   "metadata": {
    "papermill": {
     "duration": 0.012434,
     "end_time": "2025-08-19T18:57:42.731626",
     "exception": false,
     "start_time": "2025-08-19T18:57:42.719192",
     "status": "completed"
    },
    "tags": []
   },
   "source": [
    "By Group"
   ]
  },
  {
   "cell_type": "code",
   "execution_count": 60,
   "id": "52256966",
   "metadata": {
    "execution": {
     "iopub.execute_input": "2025-08-19T18:57:42.759668Z",
     "iopub.status.busy": "2025-08-19T18:57:42.758324Z",
     "iopub.status.idle": "2025-08-19T18:57:42.780594Z",
     "shell.execute_reply": "2025-08-19T18:57:42.779611Z"
    },
    "papermill": {
     "duration": 0.038243,
     "end_time": "2025-08-19T18:57:42.782322",
     "exception": false,
     "start_time": "2025-08-19T18:57:42.744079",
     "status": "completed"
    },
    "tags": []
   },
   "outputs": [
    {
     "data": {
      "text/html": [
       "<div>\n",
       "<style scoped>\n",
       "    .dataframe tbody tr th:only-of-type {\n",
       "        vertical-align: middle;\n",
       "    }\n",
       "\n",
       "    .dataframe tbody tr th {\n",
       "        vertical-align: top;\n",
       "    }\n",
       "\n",
       "    .dataframe thead th {\n",
       "        text-align: right;\n",
       "    }\n",
       "</style>\n",
       "<table border=\"1\" class=\"dataframe\">\n",
       "  <thead>\n",
       "    <tr style=\"text-align: right;\">\n",
       "      <th></th>\n",
       "      <th>accuracy</th>\n",
       "      <th>balanced accuracy</th>\n",
       "      <th>f1</th>\n",
       "      <th>precision</th>\n",
       "      <th>false positive rate</th>\n",
       "      <th>false negative rate</th>\n",
       "      <th>selection rate</th>\n",
       "      <th>count</th>\n",
       "    </tr>\n",
       "    <tr>\n",
       "      <th>majmin</th>\n",
       "      <th></th>\n",
       "      <th></th>\n",
       "      <th></th>\n",
       "      <th></th>\n",
       "      <th></th>\n",
       "      <th></th>\n",
       "      <th></th>\n",
       "      <th></th>\n",
       "    </tr>\n",
       "  </thead>\n",
       "  <tbody>\n",
       "    <tr>\n",
       "      <th>majority</th>\n",
       "      <td>0.235984</td>\n",
       "      <td>0.542855</td>\n",
       "      <td>0.249279</td>\n",
       "      <td>0.143237</td>\n",
       "      <td>0.874246</td>\n",
       "      <td>0.040044</td>\n",
       "      <td>0.885572</td>\n",
       "      <td>69170.0</td>\n",
       "    </tr>\n",
       "    <tr>\n",
       "      <th>minority</th>\n",
       "      <td>0.162415</td>\n",
       "      <td>0.518554</td>\n",
       "      <td>0.212704</td>\n",
       "      <td>0.119277</td>\n",
       "      <td>0.944310</td>\n",
       "      <td>0.018581</td>\n",
       "      <td>0.948588</td>\n",
       "      <td>20540.0</td>\n",
       "    </tr>\n",
       "  </tbody>\n",
       "</table>\n",
       "</div>"
      ],
      "text/plain": [
       "          accuracy  balanced accuracy        f1  precision  \\\n",
       "majmin                                                       \n",
       "majority  0.235984           0.542855  0.249279   0.143237   \n",
       "minority  0.162415           0.518554  0.212704   0.119277   \n",
       "\n",
       "          false positive rate  false negative rate  selection rate    count  \n",
       "majmin                                                                       \n",
       "majority             0.874246             0.040044        0.885572  69170.0  \n",
       "minority             0.944310             0.018581        0.948588  20540.0  "
      ]
     },
     "execution_count": 60,
     "metadata": {},
     "output_type": "execute_result"
    }
   ],
   "source": [
    "metric_frame.by_group"
   ]
  },
  {
   "cell_type": "code",
   "execution_count": 61,
   "id": "6e6c20ae",
   "metadata": {
    "execution": {
     "iopub.execute_input": "2025-08-19T18:57:42.818058Z",
     "iopub.status.busy": "2025-08-19T18:57:42.816600Z",
     "iopub.status.idle": "2025-08-19T18:57:44.718029Z",
     "shell.execute_reply": "2025-08-19T18:57:44.716507Z"
    },
    "papermill": {
     "duration": 1.920182,
     "end_time": "2025-08-19T18:57:44.720800",
     "exception": false,
     "start_time": "2025-08-19T18:57:42.800618",
     "status": "completed"
    },
    "tags": []
   },
   "outputs": [
    {
     "data": {
      "text/plain": [
       "array([[<Axes: title={'center': 'accuracy'}, xlabel='majmin'>,\n",
       "        <Axes: title={'center': 'balanced accuracy'}, xlabel='majmin'>,\n",
       "        <Axes: title={'center': 'f1'}, xlabel='majmin'>],\n",
       "       [<Axes: title={'center': 'precision'}, xlabel='majmin'>,\n",
       "        <Axes: title={'center': 'false positive rate'}, xlabel='majmin'>,\n",
       "        <Axes: title={'center': 'false negative rate'}, xlabel='majmin'>],\n",
       "       [<Axes: title={'center': 'selection rate'}, xlabel='majmin'>,\n",
       "        <Axes: title={'center': 'count'}, xlabel='majmin'>,\n",
       "        <Axes: xlabel='majmin'>]], dtype=object)"
      ]
     },
     "execution_count": 61,
     "metadata": {},
     "output_type": "execute_result"
    },
    {
     "data": {
      "image/png": "[encoded data removed]",
      "text/plain": [
       "<Figure size 1200x800 with 9 Axes>"
      ]
     },
     "metadata": {},
     "output_type": "display_data"
    }
   ],
   "source": [
    "# In a graphic\n",
    "metric_frame.by_group.plot.bar(\n",
    "    subplots=True,\n",
    "    layout=[3, 3],\n",
    "    legend=False,\n",
    "    figsize=[12, 8],\n",
    "    title=\"Show all metrics\",\n",
    ")"
   ]
  },
  {
   "cell_type": "markdown",
   "id": "b2e433ae",
   "metadata": {
    "papermill": {
     "duration": 0.013571,
     "end_time": "2025-08-19T18:57:44.756368",
     "exception": false,
     "start_time": "2025-08-19T18:57:44.742797",
     "status": "completed"
    },
    "tags": []
   },
   "source": [
    "# Final Output"
   ]
  },
  {
   "cell_type": "code",
   "execution_count": 62,
   "id": "3871301e",
   "metadata": {
    "execution": {
     "iopub.execute_input": "2025-08-19T18:57:44.797756Z",
     "iopub.status.busy": "2025-08-19T18:57:44.796694Z",
     "iopub.status.idle": "2025-08-19T18:57:44.807264Z",
     "shell.execute_reply": "2025-08-19T18:57:44.806461Z"
    },
    "papermill": {
     "duration": 0.047119,
     "end_time": "2025-08-19T18:57:44.819141",
     "exception": false,
     "start_time": "2025-08-19T18:57:44.772022",
     "status": "completed"
    },
    "tags": []
   },
   "outputs": [
    {
     "data": {
      "text/plain": [
       "4"
      ]
     },
     "execution_count": 62,
     "metadata": {},
     "output_type": "execute_result"
    }
   ],
   "source": [
    "sub_universes = universe_analysis.generate_sub_universes()\n",
    "len(sub_universes)"
   ]
  },
  {
   "cell_type": "code",
   "execution_count": 63,
   "id": "d9cfdaca",
   "metadata": {
    "execution": {
     "iopub.execute_input": "2025-08-19T18:57:44.868523Z",
     "iopub.status.busy": "2025-08-19T18:57:44.867833Z",
     "iopub.status.idle": "2025-08-19T18:57:44.875239Z",
     "shell.execute_reply": "2025-08-19T18:57:44.874207Z"
    },
    "papermill": {
     "duration": 0.045621,
     "end_time": "2025-08-19T18:57:44.881874",
     "exception": false,
     "start_time": "2025-08-19T18:57:44.836253",
     "status": "completed"
    },
    "tags": []
   },
   "outputs": [],
   "source": [
    "def filter_sub_universe_data(sub_universe, org_test):\n",
    "    # Keep all rows — no filtering\n",
    "    keep_rows_mask = np.ones(org_test.shape[0], dtype=bool)\n",
    "\n",
    "    print(f\"[INFO] Keeping all rows: {keep_rows_mask.sum()} rows retained.\")\n",
    "    return keep_rows_mask"
   ]
  },
  {
   "cell_type": "code",
   "execution_count": 64,
   "id": "2bc31ac1",
   "metadata": {
    "execution": {
     "iopub.execute_input": "2025-08-19T18:57:44.925359Z",
     "iopub.status.busy": "2025-08-19T18:57:44.924292Z",
     "iopub.status.idle": "2025-08-19T18:57:51.631716Z",
     "shell.execute_reply": "2025-08-19T18:57:51.630363Z"
    },
    "papermill": {
     "duration": 6.732904,
     "end_time": "2025-08-19T18:57:51.634199",
     "exception": false,
     "start_time": "2025-08-19T18:57:44.901295",
     "status": "completed"
    },
    "tags": []
   },
   "outputs": [
    {
     "name": "stdout",
     "output_type": "stream",
     "text": [
      "Stopping execution_time clock.\n",
      "[INFO] Keeping all rows: 89710 rows retained.\n"
     ]
    },
    {
     "name": "stdout",
     "output_type": "stream",
     "text": [
      "[INFO] Keeping all rows: 89710 rows retained.\n"
     ]
    },
    {
     "name": "stdout",
     "output_type": "stream",
     "text": [
      "[INFO] Keeping all rows: 89710 rows retained.\n"
     ]
    },
    {
     "name": "stdout",
     "output_type": "stream",
     "text": [
      "[INFO] Keeping all rows: 89710 rows retained.\n"
     ]
    },
    {
     "data": {
      "text/html": [
       "<div>\n",
       "<style scoped>\n",
       "    .dataframe tbody tr th:only-of-type {\n",
       "        vertical-align: middle;\n",
       "    }\n",
       "\n",
       "    .dataframe tbody tr th {\n",
       "        vertical-align: top;\n",
       "    }\n",
       "\n",
       "    .dataframe thead th {\n",
       "        text-align: right;\n",
       "    }\n",
       "</style>\n",
       "<table border=\"1\" class=\"dataframe\">\n",
       "  <thead>\n",
       "    <tr style=\"text-align: right;\">\n",
       "      <th></th>\n",
       "      <th>run_no</th>\n",
       "      <th>universe_id</th>\n",
       "      <th>universe_settings</th>\n",
       "      <th>execution_time</th>\n",
       "      <th>test_size_n</th>\n",
       "      <th>test_size_frac</th>\n",
       "      <th>fair_main_equalized_odds_difference</th>\n",
       "      <th>fair_main_equalized_odds_ratio</th>\n",
       "      <th>fair_main_demographic_parity_difference</th>\n",
       "      <th>fair_main_demographic_parity_ratio</th>\n",
       "      <th>...</th>\n",
       "      <th>perf_grp_precision_0</th>\n",
       "      <th>perf_grp_precision_1</th>\n",
       "      <th>perf_grp_false positive rate_0</th>\n",
       "      <th>perf_grp_false positive rate_1</th>\n",
       "      <th>perf_grp_false negative rate_0</th>\n",
       "      <th>perf_grp_false negative rate_1</th>\n",
       "      <th>perf_grp_selection rate_0</th>\n",
       "      <th>perf_grp_selection rate_1</th>\n",
       "      <th>perf_grp_count_0</th>\n",
       "      <th>perf_grp_count_1</th>\n",
       "    </tr>\n",
       "  </thead>\n",
       "  <tbody>\n",
       "    <tr>\n",
       "      <th>0</th>\n",
       "      <td>3</td>\n",
       "      <td>c0ef9e3422ce29bea68e01a1a38077c9</td>\n",
       "      <td>{\"cutoff\": \"quantile_0.1\", \"eval_fairness_grou...</td>\n",
       "      <td>21.88322</td>\n",
       "      <td>89710</td>\n",
       "      <td>1.0</td>\n",
       "      <td>0.070064</td>\n",
       "      <td>0.925804</td>\n",
       "      <td>0.063016</td>\n",
       "      <td>0.933568</td>\n",
       "      <td>...</td>\n",
       "      <td>NaN</td>\n",
       "      <td>NaN</td>\n",
       "      <td>NaN</td>\n",
       "      <td>NaN</td>\n",
       "      <td>NaN</td>\n",
       "      <td>NaN</td>\n",
       "      <td>NaN</td>\n",
       "      <td>NaN</td>\n",
       "      <td>NaN</td>\n",
       "      <td>NaN</td>\n",
       "    </tr>\n",
       "    <tr>\n",
       "      <th>0</th>\n",
       "      <td>3</td>\n",
       "      <td>c0ef9e3422ce29bea68e01a1a38077c9</td>\n",
       "      <td>{\"cutoff\": \"quantile_0.1\", \"eval_fairness_grou...</td>\n",
       "      <td>21.88322</td>\n",
       "      <td>89710</td>\n",
       "      <td>1.0</td>\n",
       "      <td>0.070064</td>\n",
       "      <td>0.925804</td>\n",
       "      <td>0.063016</td>\n",
       "      <td>0.933568</td>\n",
       "      <td>...</td>\n",
       "      <td>0.119277</td>\n",
       "      <td>0.143237</td>\n",
       "      <td>0.944310</td>\n",
       "      <td>0.874246</td>\n",
       "      <td>0.018581</td>\n",
       "      <td>0.040044</td>\n",
       "      <td>0.948588</td>\n",
       "      <td>0.885572</td>\n",
       "      <td>20540.0</td>\n",
       "      <td>69170.0</td>\n",
       "    </tr>\n",
       "    <tr>\n",
       "      <th>0</th>\n",
       "      <td>3</td>\n",
       "      <td>c0ef9e3422ce29bea68e01a1a38077c9</td>\n",
       "      <td>{\"cutoff\": \"quantile_0.25\", \"eval_fairness_gro...</td>\n",
       "      <td>21.88322</td>\n",
       "      <td>89710</td>\n",
       "      <td>1.0</td>\n",
       "      <td>0.154083</td>\n",
       "      <td>0.818171</td>\n",
       "      <td>0.139110</td>\n",
       "      <td>0.837726</td>\n",
       "      <td>...</td>\n",
       "      <td>NaN</td>\n",
       "      <td>NaN</td>\n",
       "      <td>NaN</td>\n",
       "      <td>NaN</td>\n",
       "      <td>NaN</td>\n",
       "      <td>NaN</td>\n",
       "      <td>NaN</td>\n",
       "      <td>NaN</td>\n",
       "      <td>NaN</td>\n",
       "      <td>NaN</td>\n",
       "    </tr>\n",
       "    <tr>\n",
       "      <th>0</th>\n",
       "      <td>3</td>\n",
       "      <td>c0ef9e3422ce29bea68e01a1a38077c9</td>\n",
       "      <td>{\"cutoff\": \"quantile_0.25\", \"eval_fairness_gro...</td>\n",
       "      <td>21.88322</td>\n",
       "      <td>89710</td>\n",
       "      <td>1.0</td>\n",
       "      <td>0.154083</td>\n",
       "      <td>0.818171</td>\n",
       "      <td>0.139110</td>\n",
       "      <td>0.837726</td>\n",
       "      <td>...</td>\n",
       "      <td>0.125454</td>\n",
       "      <td>0.162137</td>\n",
       "      <td>0.847403</td>\n",
       "      <td>0.693320</td>\n",
       "      <td>0.067145</td>\n",
       "      <td>0.118818</td>\n",
       "      <td>0.857254</td>\n",
       "      <td>0.718144</td>\n",
       "      <td>20540.0</td>\n",
       "      <td>69170.0</td>\n",
       "    </tr>\n",
       "  </tbody>\n",
       "</table>\n",
       "<p>4 rows × 50 columns</p>\n",
       "</div>"
      ],
      "text/plain": [
       "  run_no                       universe_id  \\\n",
       "0      3  c0ef9e3422ce29bea68e01a1a38077c9   \n",
       "0      3  c0ef9e3422ce29bea68e01a1a38077c9   \n",
       "0      3  c0ef9e3422ce29bea68e01a1a38077c9   \n",
       "0      3  c0ef9e3422ce29bea68e01a1a38077c9   \n",
       "\n",
       "                                   universe_settings  execution_time  \\\n",
       "0  {\"cutoff\": \"quantile_0.1\", \"eval_fairness_grou...        21.88322   \n",
       "0  {\"cutoff\": \"quantile_0.1\", \"eval_fairness_grou...        21.88322   \n",
       "0  {\"cutoff\": \"quantile_0.25\", \"eval_fairness_gro...        21.88322   \n",
       "0  {\"cutoff\": \"quantile_0.25\", \"eval_fairness_gro...        21.88322   \n",
       "\n",
       "   test_size_n  test_size_frac  fair_main_equalized_odds_difference  \\\n",
       "0        89710             1.0                             0.070064   \n",
       "0        89710             1.0                             0.070064   \n",
       "0        89710             1.0                             0.154083   \n",
       "0        89710             1.0                             0.154083   \n",
       "\n",
       "   fair_main_equalized_odds_ratio  fair_main_demographic_parity_difference  \\\n",
       "0                        0.925804                                 0.063016   \n",
       "0                        0.925804                                 0.063016   \n",
       "0                        0.818171                                 0.139110   \n",
       "0                        0.818171                                 0.139110   \n",
       "\n",
       "   fair_main_demographic_parity_ratio  ...  perf_grp_precision_0  \\\n",
       "0                            0.933568  ...                   NaN   \n",
       "0                            0.933568  ...              0.119277   \n",
       "0                            0.837726  ...                   NaN   \n",
       "0                            0.837726  ...              0.125454   \n",
       "\n",
       "   perf_grp_precision_1  perf_grp_false positive rate_0  \\\n",
       "0                   NaN                             NaN   \n",
       "0              0.143237                        0.944310   \n",
       "0                   NaN                             NaN   \n",
       "0              0.162137                        0.847403   \n",
       "\n",
       "   perf_grp_false positive rate_1  perf_grp_false negative rate_0  \\\n",
       "0                             NaN                             NaN   \n",
       "0                        0.874246                        0.018581   \n",
       "0                             NaN                             NaN   \n",
       "0                        0.693320                        0.067145   \n",
       "\n",
       "   perf_grp_false negative rate_1  perf_grp_selection rate_0  \\\n",
       "0                             NaN                        NaN   \n",
       "0                        0.040044                   0.948588   \n",
       "0                             NaN                        NaN   \n",
       "0                        0.118818                   0.857254   \n",
       "\n",
       "   perf_grp_selection rate_1  perf_grp_count_0  perf_grp_count_1  \n",
       "0                        NaN               NaN               NaN  \n",
       "0                   0.885572           20540.0           69170.0  \n",
       "0                        NaN               NaN               NaN  \n",
       "0                   0.718144           20540.0           69170.0  \n",
       "\n",
       "[4 rows x 50 columns]"
      ]
     },
     "execution_count": 64,
     "metadata": {},
     "output_type": "execute_result"
    }
   ],
   "source": [
    "final_output = universe_analysis.generate_final_output(\n",
    "    y_pred_prob=probs_test,\n",
    "    y_test=y_true,\n",
    "    org_test=org_test,\n",
    "    filter_data=filter_sub_universe_data,\n",
    "    cp_metrics_df=cp_metrics_df,\n",
    "    save=True,\n",
    ")\n",
    "final_output"
   ]
  },
  {
   "cell_type": "code",
   "execution_count": null,
   "id": "8b80a1ff",
   "metadata": {
    "papermill": {
     "duration": 0.015183,
     "end_time": "2025-08-19T18:57:51.683643",
     "exception": false,
     "start_time": "2025-08-19T18:57:51.668460",
     "status": "completed"
    },
    "tags": []
   },
   "outputs": [],
   "source": []
  },
  {
   "cell_type": "code",
   "execution_count": null,
   "id": "275c9fad",
   "metadata": {
    "papermill": {
     "duration": 0.021384,
     "end_time": "2025-08-19T18:57:51.720056",
     "exception": false,
     "start_time": "2025-08-19T18:57:51.698672",
     "status": "completed"
    },
    "tags": []
   },
   "outputs": [],
   "source": []
  }
 ],
 "metadata": {
  "celltoolbar": "Tags",
  "kernelspec": {
   "display_name": "Python (CMA Fairness)",
   "language": "python",
   "name": "cma_fair_env"
  },
  "language_info": {
   "codemirror_mode": {
    "name": "ipython",
    "version": 3
   },
   "file_extension": ".py",
   "mimetype": "text/x-python",
   "name": "python",
   "nbconvert_exporter": "python",
   "pygments_lexer": "ipython3",
   "version": "3.10.12"
  },
  "papermill": {
   "default_parameters": {},
   "duration": 32.981459,
   "end_time": "2025-08-19T18:57:52.567832",
   "environment_variables": {},
   "exception": null,
   "input_path": "universe_analysis.ipynb",
   "output_path": "output/runs/3/notebooks/m_3-c0ef9e3422ce29bea68e01a1a38077c9.ipynb",
   "parameters": {
    "output_dir": "output",
    "run_no": "3",
    "seed": "2023",
    "universe": "{\"cutoff\": [\"quantile_0.1\", \"quantile_0.25\"], \"eval_fairness_grouping\": [\"majority-minority\", \"nationality-all\"], \"exclude_features\": \"none\", \"exclude_subgroups\": \"drop-non-german\", \"model\": \"penalized_logreg\", \"scale\": \"scale\", \"training_size\": \"1k\", \"training_year\": \"2012_14\"}",
    "universe_id": "c0ef9e3422ce29bea68e01a1a38077c9"
   },
   "start_time": "2025-08-19T18:57:19.586373",
   "version": "2.6.0"
  }
 },
 "nbformat": 4,
 "nbformat_minor": 5
}