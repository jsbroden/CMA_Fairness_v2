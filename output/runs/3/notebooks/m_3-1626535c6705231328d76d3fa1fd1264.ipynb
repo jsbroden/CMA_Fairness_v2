{
 "cells": [
  {
   "cell_type": "markdown",
   "id": "ef23dbb3",
   "metadata": {
    "papermill": {
     "duration": 0.009308,
     "end_time": "2025-08-19T19:12:31.951590",
     "exception": false,
     "start_time": "2025-08-19T19:12:31.942282",
     "status": "completed"
    },
    "tags": []
   },
   "source": [
    "# Setup"
   ]
  },
  {
   "cell_type": "code",
   "execution_count": 1,
   "id": "0bc8e7dc",
   "metadata": {
    "execution": {
     "iopub.execute_input": "2025-08-19T19:12:31.970914Z",
     "iopub.status.busy": "2025-08-19T19:12:31.970495Z",
     "iopub.status.idle": "2025-08-19T19:12:31.983390Z",
     "shell.execute_reply": "2025-08-19T19:12:31.982498Z"
    },
    "papermill": {
     "duration": 0.024076,
     "end_time": "2025-08-19T19:12:31.984668",
     "exception": false,
     "start_time": "2025-08-19T19:12:31.960592",
     "status": "completed"
    },
    "tags": []
   },
   "outputs": [
    {
     "name": "stdout",
     "output_type": "stream",
     "text": [
      "/dss/dsshome1/0C/ra93lal2/cma/CMA_Fairness_v2\n"
     ]
    },
    {
     "name": "stderr",
     "output_type": "stream",
     "text": [
      "/dss/dsshome1/0C/ra93lal2/.local/share/virtualenvs/CMA_Fairness_v2-3j10GkSs/lib/python3.10/site-packages/IPython/core/magics/osm.py:393: UserWarning: This is now an optional IPython functionality, using bookmarks requires you to install the `pickleshare` library.\n",
      "  bkms = self.shell.db.get('bookmarks', {})\n",
      "/dss/dsshome1/0C/ra93lal2/.local/share/virtualenvs/CMA_Fairness_v2-3j10GkSs/lib/python3.10/site-packages/IPython/core/magics/osm.py:417: UserWarning: This is now an optional IPython functionality, setting dhist requires you to install the `pickleshare` library.\n",
      "  self.shell.db['dhist'] = compress_dhist(dhist)[-100:]\n"
     ]
    }
   ],
   "source": [
    "%cd ~/cma/CMA_Fairness_v2"
   ]
  },
  {
   "cell_type": "markdown",
   "id": "9d235661",
   "metadata": {
    "papermill": {
     "duration": 0.009801,
     "end_time": "2025-08-19T19:12:32.007879",
     "exception": false,
     "start_time": "2025-08-19T19:12:31.998078",
     "status": "completed"
    },
    "tags": []
   },
   "source": [
    "The following cell holds the definition of our parameters, these values can be overriden by rendering the with e.g. the following command:\n",
    "\n",
    "papermill -p alpha 0.2 -p ratio 0.3 universe_analysis.ipynb output/test_run.ipynb"
   ]
  },
  {
   "cell_type": "code",
   "execution_count": 2,
   "id": "4a789d8e",
   "metadata": {
    "execution": {
     "iopub.execute_input": "2025-08-19T19:12:32.027281Z",
     "iopub.status.busy": "2025-08-19T19:12:32.026886Z",
     "iopub.status.idle": "2025-08-19T19:12:32.032161Z",
     "shell.execute_reply": "2025-08-19T19:12:32.031090Z"
    },
    "papermill": {
     "duration": 0.016371,
     "end_time": "2025-08-19T19:12:32.033470",
     "exception": false,
     "start_time": "2025-08-19T19:12:32.017099",
     "status": "completed"
    },
    "tags": []
   },
   "outputs": [
    {
     "name": "stdout",
     "output_type": "stream",
     "text": [
      "Current working directory: /dss/dsshome1/0C/ra93lal2/cma/CMA_Fairness_v2\n"
     ]
    }
   ],
   "source": [
    "import os\n",
    "print(\"Current working directory:\", os.getcwd())"
   ]
  },
  {
   "cell_type": "code",
   "execution_count": 3,
   "id": "4132aaed",
   "metadata": {
    "execution": {
     "iopub.execute_input": "2025-08-19T19:12:32.054058Z",
     "iopub.status.busy": "2025-08-19T19:12:32.053670Z",
     "iopub.status.idle": "2025-08-19T19:12:32.057997Z",
     "shell.execute_reply": "2025-08-19T19:12:32.057332Z"
    },
    "papermill": {
     "duration": 0.015716,
     "end_time": "2025-08-19T19:12:32.059119",
     "exception": false,
     "start_time": "2025-08-19T19:12:32.043403",
     "status": "completed"
    },
    "tags": [
     "parameters"
    ]
   },
   "outputs": [],
   "source": [
    "run_no = 0\n",
    "universe_id = \"test\"\n",
    "universe = {\n",
    "    \"training_size\": \"5k\", # \"25k\", \"5k\", \"1k\"\n",
    "    \"training_year\": \"2012_14\", # \"2014\", \"2012_14\", \"2010_14\"\n",
    "    \"scale\": \"scale\", # \"scale\", \"do-not-scale\",\n",
    "    \"model\": \"elasticnet\", # \"logreg\", \"penalized_logreg\", \"rf\", \"gbm\", \"elasticnet\"\n",
    "    \"cutoff\": [\"quantile_0.15\", \"quantile_0.30\"],\n",
    "    \"exclude_features\": \"age\", # \"none\", \"nationality\", \"sex\", \"nationality-sex\", \"age\"\n",
    "    \"exclude_subgroups\": \"drop-non-german\", # \"keep-all\", \"drop-non-german\"\n",
    "    \"eval_fairness_grouping\": [\"majority-minority\", \"nationality-all\"]\n",
    "}\n",
    "\n",
    "output_dir=\"./output\"\n",
    "seed=0"
   ]
  },
  {
   "cell_type": "code",
   "execution_count": 4,
   "id": "cde913e3",
   "metadata": {
    "execution": {
     "iopub.execute_input": "2025-08-19T19:12:32.079384Z",
     "iopub.status.busy": "2025-08-19T19:12:32.078984Z",
     "iopub.status.idle": "2025-08-19T19:12:32.090259Z",
     "shell.execute_reply": "2025-08-19T19:12:32.089580Z"
    },
    "papermill": {
     "duration": 0.023347,
     "end_time": "2025-08-19T19:12:32.091698",
     "exception": false,
     "start_time": "2025-08-19T19:12:32.068351",
     "status": "completed"
    },
    "tags": [
     "injected-parameters"
    ]
   },
   "outputs": [],
   "source": [
    "# Parameters\n",
    "universe_id = \"1626535c6705231328d76d3fa1fd1264\"\n",
    "run_no = \"3\"\n",
    "universe = \"{\\\"cutoff\\\": [\\\"quantile_0.1\\\", \\\"quantile_0.25\\\"], \\\"eval_fairness_grouping\\\": [\\\"majority-minority\\\", \\\"nationality-all\\\"], \\\"exclude_features\\\": \\\"age\\\", \\\"exclude_subgroups\\\": \\\"drop-non-german\\\", \\\"model\\\": \\\"elasticnet\\\", \\\"scale\\\": \\\"do-not-scale\\\", \\\"training_size\\\": \\\"1k\\\", \\\"training_year\\\": \\\"2010_14\\\"}\"\n",
    "output_dir = \"output\"\n",
    "seed = \"2023\"\n"
   ]
  },
  {
   "cell_type": "code",
   "execution_count": 5,
   "id": "a5d7941f",
   "metadata": {
    "execution": {
     "iopub.execute_input": "2025-08-19T19:12:32.118314Z",
     "iopub.status.busy": "2025-08-19T19:12:32.117912Z",
     "iopub.status.idle": "2025-08-19T19:12:32.121792Z",
     "shell.execute_reply": "2025-08-19T19:12:32.121142Z"
    },
    "papermill": {
     "duration": 0.016802,
     "end_time": "2025-08-19T19:12:32.122904",
     "exception": false,
     "start_time": "2025-08-19T19:12:32.106102",
     "status": "completed"
    },
    "tags": []
   },
   "outputs": [],
   "source": [
    "import json\n",
    "if isinstance(universe, str):\n",
    "    universe = json.loads(universe)"
   ]
  },
  {
   "cell_type": "code",
   "execution_count": 6,
   "id": "7076ccb1",
   "metadata": {
    "execution": {
     "iopub.execute_input": "2025-08-19T19:12:32.142724Z",
     "iopub.status.busy": "2025-08-19T19:12:32.142359Z",
     "iopub.status.idle": "2025-08-19T19:12:32.175960Z",
     "shell.execute_reply": "2025-08-19T19:12:32.175266Z"
    },
    "papermill": {
     "duration": 0.045425,
     "end_time": "2025-08-19T19:12:32.177700",
     "exception": false,
     "start_time": "2025-08-19T19:12:32.132275",
     "status": "completed"
    },
    "tags": []
   },
   "outputs": [],
   "source": [
    "# Auto-reload the custom package\n",
    "%load_ext autoreload\n",
    "%autoreload 1\n",
    "%aimport fairness_multiverse"
   ]
  },
  {
   "cell_type": "code",
   "execution_count": 7,
   "id": "94c8eb93",
   "metadata": {
    "execution": {
     "iopub.execute_input": "2025-08-19T19:12:32.210911Z",
     "iopub.status.busy": "2025-08-19T19:12:32.209999Z",
     "iopub.status.idle": "2025-08-19T19:12:33.720771Z",
     "shell.execute_reply": "2025-08-19T19:12:33.719703Z"
    },
    "papermill": {
     "duration": 1.526412,
     "end_time": "2025-08-19T19:12:33.723500",
     "exception": false,
     "start_time": "2025-08-19T19:12:32.197088",
     "status": "completed"
    },
    "tags": []
   },
   "outputs": [],
   "source": [
    "from fairness_multiverse.universe import UniverseAnalysis\n",
    "\n",
    "universe_analysis = UniverseAnalysis(\n",
    "    run_no = run_no,\n",
    "    universe_id = universe_id,\n",
    "    universe = universe,\n",
    "    output_dir=output_dir,\n",
    ")"
   ]
  },
  {
   "cell_type": "code",
   "execution_count": 8,
   "id": "2a6381cf",
   "metadata": {
    "execution": {
     "iopub.execute_input": "2025-08-19T19:12:33.759905Z",
     "iopub.status.busy": "2025-08-19T19:12:33.758936Z",
     "iopub.status.idle": "2025-08-19T19:12:33.769187Z",
     "shell.execute_reply": "2025-08-19T19:12:33.767824Z"
    },
    "papermill": {
     "duration": 0.025112,
     "end_time": "2025-08-19T19:12:33.770727",
     "exception": false,
     "start_time": "2025-08-19T19:12:33.745615",
     "status": "completed"
    },
    "tags": []
   },
   "outputs": [
    {
     "name": "stdout",
     "output_type": "stream",
     "text": [
      "Using Seed: 2023\n"
     ]
    }
   ],
   "source": [
    "import numpy as np\n",
    "parsed_seed = int(seed)\n",
    "np.random.seed(parsed_seed)\n",
    "print(f\"Using Seed: {parsed_seed}\")"
   ]
  },
  {
   "cell_type": "markdown",
   "id": "b6e958b4",
   "metadata": {
    "papermill": {
     "duration": 0.009519,
     "end_time": "2025-08-19T19:12:33.792950",
     "exception": false,
     "start_time": "2025-08-19T19:12:33.783431",
     "status": "completed"
    },
    "tags": []
   },
   "source": [
    "# Loading Data"
   ]
  },
  {
   "cell_type": "code",
   "execution_count": 9,
   "id": "98701482",
   "metadata": {
    "execution": {
     "iopub.execute_input": "2025-08-19T19:12:33.813545Z",
     "iopub.status.busy": "2025-08-19T19:12:33.812465Z",
     "iopub.status.idle": "2025-08-19T19:12:44.116532Z",
     "shell.execute_reply": "2025-08-19T19:12:44.113508Z"
    },
    "papermill": {
     "duration": 10.317212,
     "end_time": "2025-08-19T19:12:44.119244",
     "exception": false,
     "start_time": "2025-08-19T19:12:33.802032",
     "status": "completed"
    },
    "tags": []
   },
   "outputs": [
    {
     "name": "stdout",
     "output_type": "stream",
     "text": [
      "Loading SIAB data from cache: data/siab_cached.csv.gz\n"
     ]
    },
    {
     "name": "stdout",
     "output_type": "stream",
     "text": [
      "(643690, 164)\n"
     ]
    }
   ],
   "source": [
    "from pathlib import Path\n",
    "import pandas as pd\n",
    "\n",
    "# File paths\n",
    "raw_file = Path(\"data/raw/siab.csv\")\n",
    "cache_file = Path(\"data/siab_cached.csv.gz\")\n",
    "\n",
    "# Ensure cache directory exists\n",
    "cache_file.parent.mkdir(parents=True, exist_ok=True)\n",
    "\n",
    "# Load with simple caching\n",
    "if cache_file.exists():\n",
    "    print(f\"Loading SIAB data from cache: {cache_file}\")\n",
    "    siab = pd.read_csv(cache_file, compression='gzip')\n",
    "else:\n",
    "    print(f\"Cache not found. Reading raw SIAB data: {raw_file}\")\n",
    "    siab = pd.read_csv(raw_file)\n",
    "    siab.to_csv(cache_file, index=False, compression='gzip')\n",
    "    print(f\"Cached SIAB data to: {cache_file}\")\n",
    "\n",
    "print(siab.shape)"
   ]
  },
  {
   "cell_type": "code",
   "execution_count": 10,
   "id": "058d2abb",
   "metadata": {
    "execution": {
     "iopub.execute_input": "2025-08-19T19:12:44.154252Z",
     "iopub.status.busy": "2025-08-19T19:12:44.152946Z",
     "iopub.status.idle": "2025-08-19T19:12:44.285394Z",
     "shell.execute_reply": "2025-08-19T19:12:44.284639Z"
    },
    "papermill": {
     "duration": 0.148177,
     "end_time": "2025-08-19T19:12:44.286670",
     "exception": false,
     "start_time": "2025-08-19T19:12:44.138493",
     "status": "completed"
    },
    "tags": []
   },
   "outputs": [
    {
     "data": {
      "text/html": [
       "<div>\n",
       "<style scoped>\n",
       "    .dataframe tbody tr th:only-of-type {\n",
       "        vertical-align: middle;\n",
       "    }\n",
       "\n",
       "    .dataframe tbody tr th {\n",
       "        vertical-align: top;\n",
       "    }\n",
       "\n",
       "    .dataframe thead th {\n",
       "        text-align: right;\n",
       "    }\n",
       "</style>\n",
       "<table border=\"1\" class=\"dataframe\">\n",
       "  <thead>\n",
       "    <tr style=\"text-align: right;\">\n",
       "      <th></th>\n",
       "      <th>persnr</th>\n",
       "      <th>year</th>\n",
       "      <th>nrEntry</th>\n",
       "      <th>ltue</th>\n",
       "      <th>employed_before</th>\n",
       "      <th>receipt_leh_before</th>\n",
       "      <th>receipt_lhg_before</th>\n",
       "      <th>se_before</th>\n",
       "      <th>ASU_notue_seeking_before</th>\n",
       "      <th>ASU_other_before</th>\n",
       "      <th>...</th>\n",
       "      <th>minijob_tot_dur_byage</th>\n",
       "      <th>ft_tot_dur_byage</th>\n",
       "      <th>befrist_tot_dur_byage</th>\n",
       "      <th>leih_tot_dur_byage</th>\n",
       "      <th>LHG_tot_dur_byage</th>\n",
       "      <th>LEH_tot_dur_byage</th>\n",
       "      <th>almp_tot_dur_byage</th>\n",
       "      <th>almp_aw_tot_dur_byage</th>\n",
       "      <th>se_tot_dur_byage</th>\n",
       "      <th>seeking1_tot_dur_byage</th>\n",
       "    </tr>\n",
       "  </thead>\n",
       "  <tbody>\n",
       "    <tr>\n",
       "      <th>0</th>\n",
       "      <td>7</td>\n",
       "      <td>2015</td>\n",
       "      <td>1</td>\n",
       "      <td>0</td>\n",
       "      <td>1</td>\n",
       "      <td>0</td>\n",
       "      <td>0</td>\n",
       "      <td>0</td>\n",
       "      <td>1</td>\n",
       "      <td>0</td>\n",
       "      <td>...</td>\n",
       "      <td>0.000000</td>\n",
       "      <td>0.000000</td>\n",
       "      <td>15.043478</td>\n",
       "      <td>0.000000</td>\n",
       "      <td>0.000000</td>\n",
       "      <td>0.000000</td>\n",
       "      <td>0.000000</td>\n",
       "      <td>0.000000</td>\n",
       "      <td>0.000000</td>\n",
       "      <td>0.000000</td>\n",
       "    </tr>\n",
       "    <tr>\n",
       "      <th>1</th>\n",
       "      <td>18</td>\n",
       "      <td>2010</td>\n",
       "      <td>1</td>\n",
       "      <td>1</td>\n",
       "      <td>0</td>\n",
       "      <td>0</td>\n",
       "      <td>0</td>\n",
       "      <td>0</td>\n",
       "      <td>0</td>\n",
       "      <td>0</td>\n",
       "      <td>...</td>\n",
       "      <td>0.000000</td>\n",
       "      <td>0.000000</td>\n",
       "      <td>0.000000</td>\n",
       "      <td>0.000000</td>\n",
       "      <td>0.000000</td>\n",
       "      <td>0.000000</td>\n",
       "      <td>0.000000</td>\n",
       "      <td>0.000000</td>\n",
       "      <td>0.000000</td>\n",
       "      <td>0.000000</td>\n",
       "    </tr>\n",
       "    <tr>\n",
       "      <th>2</th>\n",
       "      <td>18</td>\n",
       "      <td>2011</td>\n",
       "      <td>2</td>\n",
       "      <td>0</td>\n",
       "      <td>1</td>\n",
       "      <td>0</td>\n",
       "      <td>1</td>\n",
       "      <td>0</td>\n",
       "      <td>1</td>\n",
       "      <td>0</td>\n",
       "      <td>...</td>\n",
       "      <td>2.714286</td>\n",
       "      <td>2.714286</td>\n",
       "      <td>0.000000</td>\n",
       "      <td>0.000000</td>\n",
       "      <td>10.775510</td>\n",
       "      <td>0.000000</td>\n",
       "      <td>8.367347</td>\n",
       "      <td>0.000000</td>\n",
       "      <td>0.000000</td>\n",
       "      <td>9.836735</td>\n",
       "    </tr>\n",
       "    <tr>\n",
       "      <th>3</th>\n",
       "      <td>18</td>\n",
       "      <td>2012</td>\n",
       "      <td>3</td>\n",
       "      <td>0</td>\n",
       "      <td>1</td>\n",
       "      <td>0</td>\n",
       "      <td>1</td>\n",
       "      <td>0</td>\n",
       "      <td>1</td>\n",
       "      <td>0</td>\n",
       "      <td>...</td>\n",
       "      <td>4.200000</td>\n",
       "      <td>4.200000</td>\n",
       "      <td>0.000000</td>\n",
       "      <td>0.000000</td>\n",
       "      <td>12.100000</td>\n",
       "      <td>0.000000</td>\n",
       "      <td>9.400000</td>\n",
       "      <td>0.000000</td>\n",
       "      <td>0.000000</td>\n",
       "      <td>9.960000</td>\n",
       "    </tr>\n",
       "    <tr>\n",
       "      <th>4</th>\n",
       "      <td>18</td>\n",
       "      <td>2012</td>\n",
       "      <td>4</td>\n",
       "      <td>0</td>\n",
       "      <td>1</td>\n",
       "      <td>0</td>\n",
       "      <td>1</td>\n",
       "      <td>0</td>\n",
       "      <td>1</td>\n",
       "      <td>0</td>\n",
       "      <td>...</td>\n",
       "      <td>5.460000</td>\n",
       "      <td>5.460000</td>\n",
       "      <td>0.000000</td>\n",
       "      <td>0.000000</td>\n",
       "      <td>13.360000</td>\n",
       "      <td>0.000000</td>\n",
       "      <td>10.320000</td>\n",
       "      <td>0.000000</td>\n",
       "      <td>0.000000</td>\n",
       "      <td>10.280000</td>\n",
       "    </tr>\n",
       "    <tr>\n",
       "      <th>...</th>\n",
       "      <td>...</td>\n",
       "      <td>...</td>\n",
       "      <td>...</td>\n",
       "      <td>...</td>\n",
       "      <td>...</td>\n",
       "      <td>...</td>\n",
       "      <td>...</td>\n",
       "      <td>...</td>\n",
       "      <td>...</td>\n",
       "      <td>...</td>\n",
       "      <td>...</td>\n",
       "      <td>...</td>\n",
       "      <td>...</td>\n",
       "      <td>...</td>\n",
       "      <td>...</td>\n",
       "      <td>...</td>\n",
       "      <td>...</td>\n",
       "      <td>...</td>\n",
       "      <td>...</td>\n",
       "      <td>...</td>\n",
       "      <td>...</td>\n",
       "    </tr>\n",
       "    <tr>\n",
       "      <th>643685</th>\n",
       "      <td>1827860</td>\n",
       "      <td>2013</td>\n",
       "      <td>1</td>\n",
       "      <td>0</td>\n",
       "      <td>0</td>\n",
       "      <td>0</td>\n",
       "      <td>1</td>\n",
       "      <td>0</td>\n",
       "      <td>0</td>\n",
       "      <td>1</td>\n",
       "      <td>...</td>\n",
       "      <td>0.000000</td>\n",
       "      <td>0.000000</td>\n",
       "      <td>0.000000</td>\n",
       "      <td>0.000000</td>\n",
       "      <td>0.612903</td>\n",
       "      <td>0.000000</td>\n",
       "      <td>0.000000</td>\n",
       "      <td>0.000000</td>\n",
       "      <td>0.000000</td>\n",
       "      <td>0.000000</td>\n",
       "    </tr>\n",
       "    <tr>\n",
       "      <th>643686</th>\n",
       "      <td>1827860</td>\n",
       "      <td>2015</td>\n",
       "      <td>2</td>\n",
       "      <td>1</td>\n",
       "      <td>0</td>\n",
       "      <td>0</td>\n",
       "      <td>1</td>\n",
       "      <td>0</td>\n",
       "      <td>1</td>\n",
       "      <td>0</td>\n",
       "      <td>...</td>\n",
       "      <td>0.000000</td>\n",
       "      <td>0.000000</td>\n",
       "      <td>0.212121</td>\n",
       "      <td>0.212121</td>\n",
       "      <td>17.363636</td>\n",
       "      <td>0.000000</td>\n",
       "      <td>8.909091</td>\n",
       "      <td>0.000000</td>\n",
       "      <td>0.000000</td>\n",
       "      <td>7.121212</td>\n",
       "    </tr>\n",
       "    <tr>\n",
       "      <th>643687</th>\n",
       "      <td>1827860</td>\n",
       "      <td>2016</td>\n",
       "      <td>3</td>\n",
       "      <td>1</td>\n",
       "      <td>0</td>\n",
       "      <td>0</td>\n",
       "      <td>1</td>\n",
       "      <td>1</td>\n",
       "      <td>0</td>\n",
       "      <td>1</td>\n",
       "      <td>...</td>\n",
       "      <td>0.000000</td>\n",
       "      <td>0.000000</td>\n",
       "      <td>0.294118</td>\n",
       "      <td>0.205882</td>\n",
       "      <td>34.705882</td>\n",
       "      <td>0.000000</td>\n",
       "      <td>10.352941</td>\n",
       "      <td>1.705882</td>\n",
       "      <td>1.705882</td>\n",
       "      <td>23.911765</td>\n",
       "    </tr>\n",
       "    <tr>\n",
       "      <th>643688</th>\n",
       "      <td>1827869</td>\n",
       "      <td>2013</td>\n",
       "      <td>1</td>\n",
       "      <td>1</td>\n",
       "      <td>1</td>\n",
       "      <td>0</td>\n",
       "      <td>0</td>\n",
       "      <td>0</td>\n",
       "      <td>1</td>\n",
       "      <td>0</td>\n",
       "      <td>...</td>\n",
       "      <td>0.000000</td>\n",
       "      <td>0.000000</td>\n",
       "      <td>0.000000</td>\n",
       "      <td>0.000000</td>\n",
       "      <td>0.000000</td>\n",
       "      <td>0.525424</td>\n",
       "      <td>0.000000</td>\n",
       "      <td>0.000000</td>\n",
       "      <td>0.000000</td>\n",
       "      <td>0.000000</td>\n",
       "    </tr>\n",
       "    <tr>\n",
       "      <th>643689</th>\n",
       "      <td>1827869</td>\n",
       "      <td>2014</td>\n",
       "      <td>2</td>\n",
       "      <td>0</td>\n",
       "      <td>0</td>\n",
       "      <td>1</td>\n",
       "      <td>0</td>\n",
       "      <td>0</td>\n",
       "      <td>1</td>\n",
       "      <td>0</td>\n",
       "      <td>...</td>\n",
       "      <td>0.000000</td>\n",
       "      <td>0.666667</td>\n",
       "      <td>0.666667</td>\n",
       "      <td>0.000000</td>\n",
       "      <td>0.000000</td>\n",
       "      <td>8.950000</td>\n",
       "      <td>1.033333</td>\n",
       "      <td>0.083333</td>\n",
       "      <td>0.083333</td>\n",
       "      <td>8.133333</td>\n",
       "    </tr>\n",
       "  </tbody>\n",
       "</table>\n",
       "<p>643690 rows × 164 columns</p>\n",
       "</div>"
      ],
      "text/plain": [
       "         persnr  year  nrEntry  ltue  employed_before  receipt_leh_before  \\\n",
       "0             7  2015        1     0                1                   0   \n",
       "1            18  2010        1     1                0                   0   \n",
       "2            18  2011        2     0                1                   0   \n",
       "3            18  2012        3     0                1                   0   \n",
       "4            18  2012        4     0                1                   0   \n",
       "...         ...   ...      ...   ...              ...                 ...   \n",
       "643685  1827860  2013        1     0                0                   0   \n",
       "643686  1827860  2015        2     1                0                   0   \n",
       "643687  1827860  2016        3     1                0                   0   \n",
       "643688  1827869  2013        1     1                1                   0   \n",
       "643689  1827869  2014        2     0                0                   1   \n",
       "\n",
       "        receipt_lhg_before  se_before  ASU_notue_seeking_before  \\\n",
       "0                        0          0                         1   \n",
       "1                        0          0                         0   \n",
       "2                        1          0                         1   \n",
       "3                        1          0                         1   \n",
       "4                        1          0                         1   \n",
       "...                    ...        ...                       ...   \n",
       "643685                   1          0                         0   \n",
       "643686                   1          0                         1   \n",
       "643687                   1          1                         0   \n",
       "643688                   0          0                         1   \n",
       "643689                   0          0                         1   \n",
       "\n",
       "        ASU_other_before  ...  minijob_tot_dur_byage  ft_tot_dur_byage  \\\n",
       "0                      0  ...               0.000000          0.000000   \n",
       "1                      0  ...               0.000000          0.000000   \n",
       "2                      0  ...               2.714286          2.714286   \n",
       "3                      0  ...               4.200000          4.200000   \n",
       "4                      0  ...               5.460000          5.460000   \n",
       "...                  ...  ...                    ...               ...   \n",
       "643685                 1  ...               0.000000          0.000000   \n",
       "643686                 0  ...               0.000000          0.000000   \n",
       "643687                 1  ...               0.000000          0.000000   \n",
       "643688                 0  ...               0.000000          0.000000   \n",
       "643689                 0  ...               0.000000          0.666667   \n",
       "\n",
       "        befrist_tot_dur_byage  leih_tot_dur_byage  LHG_tot_dur_byage  \\\n",
       "0                   15.043478            0.000000           0.000000   \n",
       "1                    0.000000            0.000000           0.000000   \n",
       "2                    0.000000            0.000000          10.775510   \n",
       "3                    0.000000            0.000000          12.100000   \n",
       "4                    0.000000            0.000000          13.360000   \n",
       "...                       ...                 ...                ...   \n",
       "643685               0.000000            0.000000           0.612903   \n",
       "643686               0.212121            0.212121          17.363636   \n",
       "643687               0.294118            0.205882          34.705882   \n",
       "643688               0.000000            0.000000           0.000000   \n",
       "643689               0.666667            0.000000           0.000000   \n",
       "\n",
       "        LEH_tot_dur_byage  almp_tot_dur_byage  almp_aw_tot_dur_byage  \\\n",
       "0                0.000000            0.000000               0.000000   \n",
       "1                0.000000            0.000000               0.000000   \n",
       "2                0.000000            8.367347               0.000000   \n",
       "3                0.000000            9.400000               0.000000   \n",
       "4                0.000000           10.320000               0.000000   \n",
       "...                   ...                 ...                    ...   \n",
       "643685           0.000000            0.000000               0.000000   \n",
       "643686           0.000000            8.909091               0.000000   \n",
       "643687           0.000000           10.352941               1.705882   \n",
       "643688           0.525424            0.000000               0.000000   \n",
       "643689           8.950000            1.033333               0.083333   \n",
       "\n",
       "        se_tot_dur_byage  seeking1_tot_dur_byage  \n",
       "0               0.000000                0.000000  \n",
       "1               0.000000                0.000000  \n",
       "2               0.000000                9.836735  \n",
       "3               0.000000                9.960000  \n",
       "4               0.000000               10.280000  \n",
       "...                  ...                     ...  \n",
       "643685          0.000000                0.000000  \n",
       "643686          0.000000                7.121212  \n",
       "643687          1.705882               23.911765  \n",
       "643688          0.000000                0.000000  \n",
       "643689          0.083333                8.133333  \n",
       "\n",
       "[643690 rows x 164 columns]"
      ]
     },
     "execution_count": 10,
     "metadata": {},
     "output_type": "execute_result"
    }
   ],
   "source": [
    "siab"
   ]
  },
  {
   "cell_type": "markdown",
   "id": "1f87e805",
   "metadata": {
    "papermill": {
     "duration": 0.00977,
     "end_time": "2025-08-19T19:12:44.307996",
     "exception": false,
     "start_time": "2025-08-19T19:12:44.298226",
     "status": "completed"
    },
    "tags": []
   },
   "source": [
    "# Splitting Data and Setting Training Data Size"
   ]
  },
  {
   "cell_type": "code",
   "execution_count": 11,
   "id": "910ae358",
   "metadata": {
    "execution": {
     "iopub.execute_input": "2025-08-19T19:12:44.329917Z",
     "iopub.status.busy": "2025-08-19T19:12:44.328912Z",
     "iopub.status.idle": "2025-08-19T19:12:45.403239Z",
     "shell.execute_reply": "2025-08-19T19:12:45.402438Z"
    },
    "papermill": {
     "duration": 1.08847,
     "end_time": "2025-08-19T19:12:45.406150",
     "exception": false,
     "start_time": "2025-08-19T19:12:44.317680",
     "status": "completed"
    },
    "tags": []
   },
   "outputs": [],
   "source": [
    "from fairness_multiverse.universe import sample_by_year_size\n",
    "\n",
    "siab_train = sample_by_year_size(siab,\n",
    "                               training_year=universe[\"training_year\"],\n",
    "                               training_size=universe[\"training_size\"])"
   ]
  },
  {
   "cell_type": "code",
   "execution_count": 12,
   "id": "919c8ff5",
   "metadata": {
    "execution": {
     "iopub.execute_input": "2025-08-19T19:12:45.444432Z",
     "iopub.status.busy": "2025-08-19T19:12:45.442656Z",
     "iopub.status.idle": "2025-08-19T19:12:45.454727Z",
     "shell.execute_reply": "2025-08-19T19:12:45.453593Z"
    },
    "papermill": {
     "duration": 0.028724,
     "end_time": "2025-08-19T19:12:45.456364",
     "exception": false,
     "start_time": "2025-08-19T19:12:45.427640",
     "status": "completed"
    },
    "tags": []
   },
   "outputs": [
    {
     "data": {
      "text/plain": [
       "(1000, 164)"
      ]
     },
     "execution_count": 12,
     "metadata": {},
     "output_type": "execute_result"
    }
   ],
   "source": [
    "siab_train.shape"
   ]
  },
  {
   "cell_type": "code",
   "execution_count": 13,
   "id": "feb13bf4",
   "metadata": {
    "execution": {
     "iopub.execute_input": "2025-08-19T19:12:45.484425Z",
     "iopub.status.busy": "2025-08-19T19:12:45.482819Z",
     "iopub.status.idle": "2025-08-19T19:12:45.497782Z",
     "shell.execute_reply": "2025-08-19T19:12:45.496628Z"
    },
    "papermill": {
     "duration": 0.029871,
     "end_time": "2025-08-19T19:12:45.499408",
     "exception": false,
     "start_time": "2025-08-19T19:12:45.469537",
     "status": "completed"
    },
    "tags": []
   },
   "outputs": [
    {
     "data": {
      "text/plain": [
       "year\n",
       "2010    200\n",
       "2011    200\n",
       "2012    200\n",
       "2013    200\n",
       "2014    200\n",
       "dtype: int64"
      ]
     },
     "metadata": {},
     "output_type": "display_data"
    }
   ],
   "source": [
    "display(siab_train.groupby(\"year\").size())"
   ]
  },
  {
   "cell_type": "code",
   "execution_count": 14,
   "id": "0997782f",
   "metadata": {
    "execution": {
     "iopub.execute_input": "2025-08-19T19:12:45.526839Z",
     "iopub.status.busy": "2025-08-19T19:12:45.525237Z",
     "iopub.status.idle": "2025-08-19T19:12:45.833344Z",
     "shell.execute_reply": "2025-08-19T19:12:45.832670Z"
    },
    "papermill": {
     "duration": 0.322341,
     "end_time": "2025-08-19T19:12:45.836078",
     "exception": false,
     "start_time": "2025-08-19T19:12:45.513737",
     "status": "completed"
    },
    "tags": []
   },
   "outputs": [],
   "source": [
    "#siab_train = siab_s[siab_s.year < 2015]\n",
    "siab_calib = siab[siab.year == 2015]\n",
    "siab_test = siab[siab.year == 2016]"
   ]
  },
  {
   "cell_type": "code",
   "execution_count": 15,
   "id": "2c1e4012",
   "metadata": {
    "execution": {
     "iopub.execute_input": "2025-08-19T19:12:45.875480Z",
     "iopub.status.busy": "2025-08-19T19:12:45.873938Z",
     "iopub.status.idle": "2025-08-19T19:12:45.881596Z",
     "shell.execute_reply": "2025-08-19T19:12:45.880012Z"
    },
    "papermill": {
     "duration": 0.023494,
     "end_time": "2025-08-19T19:12:45.883021",
     "exception": false,
     "start_time": "2025-08-19T19:12:45.859527",
     "status": "completed"
    },
    "tags": []
   },
   "outputs": [],
   "source": [
    "#siab_calib.shape"
   ]
  },
  {
   "cell_type": "code",
   "execution_count": 16,
   "id": "f66b54ca",
   "metadata": {
    "execution": {
     "iopub.execute_input": "2025-08-19T19:12:45.907740Z",
     "iopub.status.busy": "2025-08-19T19:12:45.905945Z",
     "iopub.status.idle": "2025-08-19T19:12:45.914478Z",
     "shell.execute_reply": "2025-08-19T19:12:45.912873Z"
    },
    "papermill": {
     "duration": 0.023395,
     "end_time": "2025-08-19T19:12:45.917242",
     "exception": false,
     "start_time": "2025-08-19T19:12:45.893847",
     "status": "completed"
    },
    "tags": []
   },
   "outputs": [],
   "source": [
    "#siab_test.shape"
   ]
  },
  {
   "cell_type": "code",
   "execution_count": 17,
   "id": "27e4384d",
   "metadata": {
    "execution": {
     "iopub.execute_input": "2025-08-19T19:12:45.957113Z",
     "iopub.status.busy": "2025-08-19T19:12:45.955423Z",
     "iopub.status.idle": "2025-08-19T19:12:45.967185Z",
     "shell.execute_reply": "2025-08-19T19:12:45.965561Z"
    },
    "papermill": {
     "duration": 0.033403,
     "end_time": "2025-08-19T19:12:45.974955",
     "exception": false,
     "start_time": "2025-08-19T19:12:45.941552",
     "status": "completed"
    },
    "tags": []
   },
   "outputs": [],
   "source": [
    "X_train = siab_train.iloc[:,4:164]\n",
    "y_train = siab_train.iloc[:, [3]]"
   ]
  },
  {
   "cell_type": "code",
   "execution_count": 18,
   "id": "08ee8389",
   "metadata": {
    "execution": {
     "iopub.execute_input": "2025-08-19T19:12:46.007774Z",
     "iopub.status.busy": "2025-08-19T19:12:46.006082Z",
     "iopub.status.idle": "2025-08-19T19:12:46.067806Z",
     "shell.execute_reply": "2025-08-19T19:12:46.066944Z"
    },
    "papermill": {
     "duration": 0.078426,
     "end_time": "2025-08-19T19:12:46.070973",
     "exception": false,
     "start_time": "2025-08-19T19:12:45.992547",
     "status": "completed"
    },
    "tags": []
   },
   "outputs": [],
   "source": [
    "X_calib = siab_calib.iloc[:,4:164]\n",
    "y_calib = siab_calib.iloc[:, [3]]"
   ]
  },
  {
   "cell_type": "code",
   "execution_count": 19,
   "id": "b7ff42e0",
   "metadata": {
    "execution": {
     "iopub.execute_input": "2025-08-19T19:12:46.110044Z",
     "iopub.status.busy": "2025-08-19T19:12:46.108872Z",
     "iopub.status.idle": "2025-08-19T19:12:46.172554Z",
     "shell.execute_reply": "2025-08-19T19:12:46.171688Z"
    },
    "papermill": {
     "duration": 0.080345,
     "end_time": "2025-08-19T19:12:46.175121",
     "exception": false,
     "start_time": "2025-08-19T19:12:46.094776",
     "status": "completed"
    },
    "tags": []
   },
   "outputs": [],
   "source": [
    "X_test = siab_test.iloc[:,4:164]\n",
    "y_true = siab_test.iloc[:, [3]]"
   ]
  },
  {
   "cell_type": "code",
   "execution_count": 20,
   "id": "0275101e",
   "metadata": {
    "execution": {
     "iopub.execute_input": "2025-08-19T19:12:46.213775Z",
     "iopub.status.busy": "2025-08-19T19:12:46.212082Z",
     "iopub.status.idle": "2025-08-19T19:12:46.328569Z",
     "shell.execute_reply": "2025-08-19T19:12:46.327872Z"
    },
    "papermill": {
     "duration": 0.133191,
     "end_time": "2025-08-19T19:12:46.331242",
     "exception": false,
     "start_time": "2025-08-19T19:12:46.198051",
     "status": "completed"
    },
    "tags": []
   },
   "outputs": [],
   "source": [
    "# Auxiliary data needed downstream in the pipeline\n",
    "\n",
    "org_train = X_train.copy()\n",
    "org_test = X_test.copy()\n",
    "org_calib = X_calib.copy()"
   ]
  },
  {
   "cell_type": "markdown",
   "id": "b461e618",
   "metadata": {
    "papermill": {
     "duration": 0.012876,
     "end_time": "2025-08-19T19:12:46.369010",
     "exception": false,
     "start_time": "2025-08-19T19:12:46.356134",
     "status": "completed"
    },
    "tags": []
   },
   "source": [
    "# Preprocessing Data"
   ]
  },
  {
   "cell_type": "code",
   "execution_count": 21,
   "id": "78e74c4b",
   "metadata": {
    "execution": {
     "iopub.execute_input": "2025-08-19T19:12:46.392585Z",
     "iopub.status.busy": "2025-08-19T19:12:46.390819Z",
     "iopub.status.idle": "2025-08-19T19:12:46.401152Z",
     "shell.execute_reply": "2025-08-19T19:12:46.399524Z"
    },
    "papermill": {
     "duration": 0.023608,
     "end_time": "2025-08-19T19:12:46.402763",
     "exception": false,
     "start_time": "2025-08-19T19:12:46.379155",
     "status": "completed"
    },
    "tags": []
   },
   "outputs": [],
   "source": [
    "# EXCLUDE PROTECTED FEATURES\n",
    "# --------------------------\n",
    "\n",
    "excluded_features = universe[\"exclude_features\"].split(\"-\")\n",
    "excluded_features_dictionary = {\n",
    "    \"nationality\": [\"maxdeutsch1\", \"maxdeutsch.Missing.\"],\n",
    "    \"sex\": [\"frau1\"],\n",
    "    \"age\": [\"age\"],\n",
    "}"
   ]
  },
  {
   "cell_type": "code",
   "execution_count": 22,
   "id": "f8e63555",
   "metadata": {
    "execution": {
     "iopub.execute_input": "2025-08-19T19:12:46.428964Z",
     "iopub.status.busy": "2025-08-19T19:12:46.427750Z",
     "iopub.status.idle": "2025-08-19T19:12:46.437263Z",
     "shell.execute_reply": "2025-08-19T19:12:46.435549Z"
    },
    "papermill": {
     "duration": 0.023492,
     "end_time": "2025-08-19T19:12:46.438932",
     "exception": false,
     "start_time": "2025-08-19T19:12:46.415440",
     "status": "completed"
    },
    "tags": []
   },
   "outputs": [],
   "source": [
    "excluded_features_columns = [\n",
    "    excluded_features_dictionary[f] for f in excluded_features if len(f) > 0 and f != \"none\"\n",
    "]"
   ]
  },
  {
   "cell_type": "code",
   "execution_count": 23,
   "id": "da781f7c",
   "metadata": {
    "execution": {
     "iopub.execute_input": "2025-08-19T19:12:46.467302Z",
     "iopub.status.busy": "2025-08-19T19:12:46.465720Z",
     "iopub.status.idle": "2025-08-19T19:12:46.474634Z",
     "shell.execute_reply": "2025-08-19T19:12:46.472990Z"
    },
    "papermill": {
     "duration": 0.022973,
     "end_time": "2025-08-19T19:12:46.476211",
     "exception": false,
     "start_time": "2025-08-19T19:12:46.453238",
     "status": "completed"
    },
    "tags": []
   },
   "outputs": [],
   "source": [
    "from fairness_multiverse.universe import flatten_once\n",
    "\n",
    "excluded_features_columns = flatten_once(excluded_features_columns)"
   ]
  },
  {
   "cell_type": "code",
   "execution_count": 24,
   "id": "37fef0f0",
   "metadata": {
    "execution": {
     "iopub.execute_input": "2025-08-19T19:12:46.501827Z",
     "iopub.status.busy": "2025-08-19T19:12:46.500660Z",
     "iopub.status.idle": "2025-08-19T19:12:46.516232Z",
     "shell.execute_reply": "2025-08-19T19:12:46.514374Z"
    },
    "papermill": {
     "duration": 0.029631,
     "end_time": "2025-08-19T19:12:46.518321",
     "exception": false,
     "start_time": "2025-08-19T19:12:46.488690",
     "status": "completed"
    },
    "tags": []
   },
   "outputs": [
    {
     "name": "stdout",
     "output_type": "stream",
     "text": [
      "Dropping features: ['age']\n"
     ]
    }
   ],
   "source": [
    "if len(excluded_features_columns) > 0:\n",
    "    print(f\"Dropping features: {excluded_features_columns}\")\n",
    "    X_train.drop(excluded_features_columns, axis=1, inplace=True)"
   ]
  },
  {
   "cell_type": "code",
   "execution_count": 25,
   "id": "d029e3e9",
   "metadata": {
    "execution": {
     "iopub.execute_input": "2025-08-19T19:12:46.546641Z",
     "iopub.status.busy": "2025-08-19T19:12:46.545244Z",
     "iopub.status.idle": "2025-08-19T19:12:46.616176Z",
     "shell.execute_reply": "2025-08-19T19:12:46.615020Z"
    },
    "papermill": {
     "duration": 0.085929,
     "end_time": "2025-08-19T19:12:46.618648",
     "exception": false,
     "start_time": "2025-08-19T19:12:46.532719",
     "status": "completed"
    },
    "tags": []
   },
   "outputs": [
    {
     "name": "stdout",
     "output_type": "stream",
     "text": [
      "Dropping features: ['age']\n"
     ]
    }
   ],
   "source": [
    "if len(excluded_features_columns) > 0:\n",
    "    print(f\"Dropping features: {excluded_features_columns}\")\n",
    "    X_test.drop(excluded_features_columns, axis=1, inplace=True)"
   ]
  },
  {
   "cell_type": "code",
   "execution_count": 26,
   "id": "01d571f0",
   "metadata": {
    "execution": {
     "iopub.execute_input": "2025-08-19T19:12:46.657287Z",
     "iopub.status.busy": "2025-08-19T19:12:46.655783Z",
     "iopub.status.idle": "2025-08-19T19:12:46.717085Z",
     "shell.execute_reply": "2025-08-19T19:12:46.715896Z"
    },
    "papermill": {
     "duration": 0.07769,
     "end_time": "2025-08-19T19:12:46.719479",
     "exception": false,
     "start_time": "2025-08-19T19:12:46.641789",
     "status": "completed"
    },
    "tags": []
   },
   "outputs": [
    {
     "name": "stdout",
     "output_type": "stream",
     "text": [
      "Dropping features: ['age']\n"
     ]
    }
   ],
   "source": [
    "if len(excluded_features_columns) > 0:\n",
    "    print(f\"Dropping features: {excluded_features_columns}\")\n",
    "    X_calib.drop(excluded_features_columns, axis=1, inplace=True)"
   ]
  },
  {
   "cell_type": "code",
   "execution_count": 27,
   "id": "3037356e",
   "metadata": {
    "execution": {
     "iopub.execute_input": "2025-08-19T19:12:46.757202Z",
     "iopub.status.busy": "2025-08-19T19:12:46.755910Z",
     "iopub.status.idle": "2025-08-19T19:12:46.764518Z",
     "shell.execute_reply": "2025-08-19T19:12:46.762831Z"
    },
    "papermill": {
     "duration": 0.023933,
     "end_time": "2025-08-19T19:12:46.766159",
     "exception": false,
     "start_time": "2025-08-19T19:12:46.742226",
     "status": "completed"
    },
    "tags": []
   },
   "outputs": [],
   "source": [
    "# EXCLUDE CERTAIN SUBGROUPS\n",
    "# -------------------------\n",
    "\n",
    "mode = universe.get(\"exclude_subgroups\", \"keep-all\") # Defaults to \"keep-all\" if the key is missing."
   ]
  },
  {
   "cell_type": "code",
   "execution_count": 28,
   "id": "9d1e63fd",
   "metadata": {
    "execution": {
     "iopub.execute_input": "2025-08-19T19:12:46.792855Z",
     "iopub.status.busy": "2025-08-19T19:12:46.791746Z",
     "iopub.status.idle": "2025-08-19T19:12:46.805779Z",
     "shell.execute_reply": "2025-08-19T19:12:46.803845Z"
    },
    "papermill": {
     "duration": 0.02802,
     "end_time": "2025-08-19T19:12:46.807571",
     "exception": false,
     "start_time": "2025-08-19T19:12:46.779551",
     "status": "completed"
    },
    "tags": []
   },
   "outputs": [],
   "source": [
    "if mode == \"keep-all\":\n",
    "    keep_mask = pd.Series(True, index=org_train.index)\n",
    "\n",
    "elif mode == \"drop-non-german\":\n",
    "    keep_mask = (org_train[\"maxdeutsch1\"] == 1) & (org_train[\"maxdeutsch.Missing.\"] == 0)\n",
    "\n",
    "else:\n",
    "    raise ValueError(f\"Unsupported mode for exclude_subgroups: {mode}\")"
   ]
  },
  {
   "cell_type": "code",
   "execution_count": 29,
   "id": "d3b65474",
   "metadata": {
    "execution": {
     "iopub.execute_input": "2025-08-19T19:12:46.847523Z",
     "iopub.status.busy": "2025-08-19T19:12:46.839629Z",
     "iopub.status.idle": "2025-08-19T19:12:46.861347Z",
     "shell.execute_reply": "2025-08-19T19:12:46.859852Z"
    },
    "papermill": {
     "duration": 0.039289,
     "end_time": "2025-08-19T19:12:46.863302",
     "exception": false,
     "start_time": "2025-08-19T19:12:46.824013",
     "status": "completed"
    },
    "tags": []
   },
   "outputs": [
    {
     "name": "stdout",
     "output_type": "stream",
     "text": [
      "Dropping 131 rows (13.10%) where mode='drop-non-german'\n"
     ]
    }
   ],
   "source": [
    "n_drop = (~keep_mask).sum() # Calculates how many rows are set to be dropped\n",
    "if n_drop > 0:\n",
    "    pct = n_drop / len(keep_mask) * 100\n",
    "    print(f\"Dropping {n_drop} rows ({pct:.2f}%) where mode='{mode}'\")"
   ]
  },
  {
   "cell_type": "code",
   "execution_count": 30,
   "id": "f44389b3",
   "metadata": {
    "execution": {
     "iopub.execute_input": "2025-08-19T19:12:46.895642Z",
     "iopub.status.busy": "2025-08-19T19:12:46.894170Z",
     "iopub.status.idle": "2025-08-19T19:12:46.908269Z",
     "shell.execute_reply": "2025-08-19T19:12:46.903691Z"
    },
    "papermill": {
     "duration": 0.029346,
     "end_time": "2025-08-19T19:12:46.910546",
     "exception": false,
     "start_time": "2025-08-19T19:12:46.881200",
     "status": "completed"
    },
    "tags": []
   },
   "outputs": [],
   "source": [
    "X_train = X_train[keep_mask]"
   ]
  },
  {
   "cell_type": "code",
   "execution_count": 31,
   "id": "ceca8c2a",
   "metadata": {
    "execution": {
     "iopub.execute_input": "2025-08-19T19:12:46.941492Z",
     "iopub.status.busy": "2025-08-19T19:12:46.940097Z",
     "iopub.status.idle": "2025-08-19T19:12:46.952509Z",
     "shell.execute_reply": "2025-08-19T19:12:46.950708Z"
    },
    "papermill": {
     "duration": 0.027392,
     "end_time": "2025-08-19T19:12:46.954505",
     "exception": false,
     "start_time": "2025-08-19T19:12:46.927113",
     "status": "completed"
    },
    "tags": []
   },
   "outputs": [],
   "source": [
    "y_train = y_train[keep_mask]"
   ]
  },
  {
   "cell_type": "markdown",
   "id": "04d31e2f",
   "metadata": {
    "papermill": {
     "duration": 0.011255,
     "end_time": "2025-08-19T19:12:46.980642",
     "exception": false,
     "start_time": "2025-08-19T19:12:46.969387",
     "status": "completed"
    },
    "tags": []
   },
   "source": [
    "# Model Training"
   ]
  },
  {
   "cell_type": "code",
   "execution_count": 32,
   "id": "db991733",
   "metadata": {
    "execution": {
     "iopub.execute_input": "2025-08-19T19:12:47.004470Z",
     "iopub.status.busy": "2025-08-19T19:12:47.003117Z",
     "iopub.status.idle": "2025-08-19T19:12:47.114616Z",
     "shell.execute_reply": "2025-08-19T19:12:47.113522Z"
    },
    "papermill": {
     "duration": 0.12617,
     "end_time": "2025-08-19T19:12:47.117253",
     "exception": false,
     "start_time": "2025-08-19T19:12:46.991083",
     "status": "completed"
    },
    "tags": []
   },
   "outputs": [],
   "source": [
    "from sklearn.linear_model import LogisticRegression\n",
    "from sklearn.ensemble import GradientBoostingClassifier, RandomForestClassifier\n",
    "\n",
    "if (universe[\"model\"] == \"logreg\"):\n",
    "    model = LogisticRegression() #penalty=\"none\", solver=\"newton-cg\", max_iter=1)\n",
    "elif (universe[\"model\"] == \"penalized_logreg\"):\n",
    "    model = LogisticRegression(penalty=\"l2\", C=0.1) #, solver=\"newton-cg\", max_iter=1)\n",
    "elif (universe[\"model\"] == \"rf\"):\n",
    "    model = RandomForestClassifier() # n_estimators=100, n_jobs=-1\n",
    "elif (universe[\"model\"] == \"gbm\"):\n",
    "    model = GradientBoostingClassifier()\n",
    "elif (universe[\"model\"] == \"elasticnet\"):\n",
    "    model = LogisticRegression(penalty = 'elasticnet', solver = 'saga', l1_ratio = 0.5) # max_iter=5000\n",
    "else:\n",
    "    raise \"Unsupported universe.model\""
   ]
  },
  {
   "cell_type": "code",
   "execution_count": 33,
   "id": "a4b5cd25",
   "metadata": {
    "execution": {
     "iopub.execute_input": "2025-08-19T19:12:47.159683Z",
     "iopub.status.busy": "2025-08-19T19:12:47.158145Z",
     "iopub.status.idle": "2025-08-19T19:12:47.176201Z",
     "shell.execute_reply": "2025-08-19T19:12:47.174513Z"
    },
    "papermill": {
     "duration": 0.034704,
     "end_time": "2025-08-19T19:12:47.178243",
     "exception": false,
     "start_time": "2025-08-19T19:12:47.143539",
     "status": "completed"
    },
    "tags": []
   },
   "outputs": [],
   "source": [
    "from sklearn.pipeline import Pipeline\n",
    "from sklearn.preprocessing import StandardScaler\n",
    "\n",
    "model = Pipeline([\n",
    "    #(\"continuous_processor\", continuous_processor),\n",
    "    #(\"categorical_preprocessor\", categorical_preprocessor),\n",
    "    (\"scale\", StandardScaler() if universe[\"scale\"] == \"scale\" else None), \n",
    "    (\"model\", model),\n",
    "])"
   ]
  },
  {
   "cell_type": "code",
   "execution_count": 34,
   "id": "283a904d",
   "metadata": {
    "execution": {
     "iopub.execute_input": "2025-08-19T19:12:47.210235Z",
     "iopub.status.busy": "2025-08-19T19:12:47.209108Z",
     "iopub.status.idle": "2025-08-19T19:12:47.459987Z",
     "shell.execute_reply": "2025-08-19T19:12:47.458932Z"
    },
    "papermill": {
     "duration": 0.26835,
     "end_time": "2025-08-19T19:12:47.464005",
     "exception": false,
     "start_time": "2025-08-19T19:12:47.195655",
     "status": "completed"
    },
    "tags": []
   },
   "outputs": [
    {
     "name": "stderr",
     "output_type": "stream",
     "text": [
      "/dss/dsshome1/0C/ra93lal2/.local/share/virtualenvs/CMA_Fairness_v2-3j10GkSs/lib/python3.10/site-packages/sklearn/linear_model/_sag.py:350: ConvergenceWarning: The max_iter was reached which means the coef_ did not converge\n",
      "  warnings.warn(\n"
     ]
    },
    {
     "data": {
      "text/html": [
       "<style>#sk-container-id-1 {color: black;background-color: white;}#sk-container-id-1 pre{padding: 0;}#sk-container-id-1 div.sk-toggleable {background-color: white;}#sk-container-id-1 label.sk-toggleable__label {cursor: pointer;display: block;width: 100%;margin-bottom: 0;padding: 0.3em;box-sizing: border-box;text-align: center;}#sk-container-id-1 label.sk-toggleable__label-arrow:before {content: \"▸\";float: left;margin-right: 0.25em;color: #696969;}#sk-container-id-1 label.sk-toggleable__label-arrow:hover:before {color: black;}#sk-container-id-1 div.sk-estimator:hover label.sk-toggleable__label-arrow:before {color: black;}#sk-container-id-1 div.sk-toggleable__content {max-height: 0;max-width: 0;overflow: hidden;text-align: left;background-color: #f0f8ff;}#sk-container-id-1 div.sk-toggleable__content pre {margin: 0.2em;color: black;border-radius: 0.25em;background-color: #f0f8ff;}#sk-container-id-1 input.sk-toggleable__control:checked~div.sk-toggleable__content {max-height: 200px;max-width: 100%;overflow: auto;}#sk-container-id-1 input.sk-toggleable__control:checked~label.sk-toggleable__label-arrow:before {content: \"▾\";}#sk-container-id-1 div.sk-estimator input.sk-toggleable__control:checked~label.sk-toggleable__label {background-color: #d4ebff;}#sk-container-id-1 div.sk-label input.sk-toggleable__control:checked~label.sk-toggleable__label {background-color: #d4ebff;}#sk-container-id-1 input.sk-hidden--visually {border: 0;clip: rect(1px 1px 1px 1px);clip: rect(1px, 1px, 1px, 1px);height: 1px;margin: -1px;overflow: hidden;padding: 0;position: absolute;width: 1px;}#sk-container-id-1 div.sk-estimator {font-family: monospace;background-color: #f0f8ff;border: 1px dotted black;border-radius: 0.25em;box-sizing: border-box;margin-bottom: 0.5em;}#sk-container-id-1 div.sk-estimator:hover {background-color: #d4ebff;}#sk-container-id-1 div.sk-parallel-item::after {content: \"\";width: 100%;border-bottom: 1px solid gray;flex-grow: 1;}#sk-container-id-1 div.sk-label:hover label.sk-toggleable__label {background-color: #d4ebff;}#sk-container-id-1 div.sk-serial::before {content: \"\";position: absolute;border-left: 1px solid gray;box-sizing: border-box;top: 0;bottom: 0;left: 50%;z-index: 0;}#sk-container-id-1 div.sk-serial {display: flex;flex-direction: column;align-items: center;background-color: white;padding-right: 0.2em;padding-left: 0.2em;position: relative;}#sk-container-id-1 div.sk-item {position: relative;z-index: 1;}#sk-container-id-1 div.sk-parallel {display: flex;align-items: stretch;justify-content: center;background-color: white;position: relative;}#sk-container-id-1 div.sk-item::before, #sk-container-id-1 div.sk-parallel-item::before {content: \"\";position: absolute;border-left: 1px solid gray;box-sizing: border-box;top: 0;bottom: 0;left: 50%;z-index: -1;}#sk-container-id-1 div.sk-parallel-item {display: flex;flex-direction: column;z-index: 1;position: relative;background-color: white;}#sk-container-id-1 div.sk-parallel-item:first-child::after {align-self: flex-end;width: 50%;}#sk-container-id-1 div.sk-parallel-item:last-child::after {align-self: flex-start;width: 50%;}#sk-container-id-1 div.sk-parallel-item:only-child::after {width: 0;}#sk-container-id-1 div.sk-dashed-wrapped {border: 1px dashed gray;margin: 0 0.4em 0.5em 0.4em;box-sizing: border-box;padding-bottom: 0.4em;background-color: white;}#sk-container-id-1 div.sk-label label {font-family: monospace;font-weight: bold;display: inline-block;line-height: 1.2em;}#sk-container-id-1 div.sk-label-container {text-align: center;}#sk-container-id-1 div.sk-container {/* jupyter's `normalize.less` sets `[hidden] { display: none; }` but bootstrap.min.css set `[hidden] { display: none !important; }` so we also need the `!important` here to be able to override the default hidden behavior on the sphinx rendered scikit-learn.org. See: https://github.com/scikit-learn/scikit-learn/issues/21755 */display: inline-block !important;position: relative;}#sk-container-id-1 div.sk-text-repr-fallback {display: none;}</style><div id=\"sk-container-id-1\" class=\"sk-top-container\"><div class=\"sk-text-repr-fallback\"><pre>Pipeline(steps=[(&#x27;scale&#x27;, None),\n",
       "                (&#x27;model&#x27;,\n",
       "                 LogisticRegression(l1_ratio=0.5, penalty=&#x27;elasticnet&#x27;,\n",
       "                                    solver=&#x27;saga&#x27;))])</pre><b>In a Jupyter environment, please rerun this cell to show the HTML representation or trust the notebook. <br />On GitHub, the HTML representation is unable to render, please try loading this page with nbviewer.org.</b></div><div class=\"sk-container\" hidden><div class=\"sk-item sk-dashed-wrapped\"><div class=\"sk-label-container\"><div class=\"sk-label sk-toggleable\"><input class=\"sk-toggleable__control sk-hidden--visually\" id=\"sk-estimator-id-1\" type=\"checkbox\" ><label for=\"sk-estimator-id-1\" class=\"sk-toggleable__label sk-toggleable__label-arrow\">Pipeline</label><div class=\"sk-toggleable__content\"><pre>Pipeline(steps=[(&#x27;scale&#x27;, None),\n",
       "                (&#x27;model&#x27;,\n",
       "                 LogisticRegression(l1_ratio=0.5, penalty=&#x27;elasticnet&#x27;,\n",
       "                                    solver=&#x27;saga&#x27;))])</pre></div></div></div><div class=\"sk-serial\"><div class=\"sk-item\"><div class=\"sk-estimator sk-toggleable\"><input class=\"sk-toggleable__control sk-hidden--visually\" id=\"sk-estimator-id-2\" type=\"checkbox\" ><label for=\"sk-estimator-id-2\" class=\"sk-toggleable__label sk-toggleable__label-arrow\">None</label><div class=\"sk-toggleable__content\"><pre>None</pre></div></div></div><div class=\"sk-item\"><div class=\"sk-estimator sk-toggleable\"><input class=\"sk-toggleable__control sk-hidden--visually\" id=\"sk-estimator-id-3\" type=\"checkbox\" ><label for=\"sk-estimator-id-3\" class=\"sk-toggleable__label sk-toggleable__label-arrow\">LogisticRegression</label><div class=\"sk-toggleable__content\"><pre>LogisticRegression(l1_ratio=0.5, penalty=&#x27;elasticnet&#x27;, solver=&#x27;saga&#x27;)</pre></div></div></div></div></div></div></div>"
      ],
      "text/plain": [
       "Pipeline(steps=[('scale', None),\n",
       "                ('model',\n",
       "                 LogisticRegression(l1_ratio=0.5, penalty='elasticnet',\n",
       "                                    solver='saga'))])"
      ]
     },
     "execution_count": 34,
     "metadata": {},
     "output_type": "execute_result"
    }
   ],
   "source": [
    "model.fit(X_train, y_train.values.ravel())"
   ]
  },
  {
   "cell_type": "code",
   "execution_count": 35,
   "id": "6e15e313",
   "metadata": {
    "execution": {
     "iopub.execute_input": "2025-08-19T19:12:47.504440Z",
     "iopub.status.busy": "2025-08-19T19:12:47.503261Z",
     "iopub.status.idle": "2025-08-19T19:12:47.618953Z",
     "shell.execute_reply": "2025-08-19T19:12:47.617921Z"
    },
    "papermill": {
     "duration": 0.133578,
     "end_time": "2025-08-19T19:12:47.621489",
     "exception": false,
     "start_time": "2025-08-19T19:12:47.487911",
     "status": "completed"
    },
    "tags": []
   },
   "outputs": [
    {
     "data": {
      "text/plain": [
       "0.8680303199197414"
      ]
     },
     "execution_count": 35,
     "metadata": {},
     "output_type": "execute_result"
    }
   ],
   "source": [
    "from fairness_multiverse.universe import predict_w_threshold\n",
    "\n",
    "probs_test = model.predict_proba(X_test)\n",
    "\n",
    "'''\n",
    "Below code returns a boolean array (or binary 0/1 array depending on how it’s used) where each element \n",
    "is True if the probability of class 1 is greater than or equal to the threshold, and False otherwise.\n",
    "'''\n",
    "y_pred_default = predict_w_threshold(probs_test, 0.5)\n",
    "\n",
    "from sklearn.metrics import accuracy_score\n",
    "\n",
    "# Naive prediction\n",
    "accuracy_score(y_true = y_true, y_pred = y_pred_default)"
   ]
  },
  {
   "cell_type": "code",
   "execution_count": 36,
   "id": "6f14067c",
   "metadata": {
    "execution": {
     "iopub.execute_input": "2025-08-19T19:12:47.660583Z",
     "iopub.status.busy": "2025-08-19T19:12:47.659082Z",
     "iopub.status.idle": "2025-08-19T19:12:47.756415Z",
     "shell.execute_reply": "2025-08-19T19:12:47.754935Z"
    },
    "papermill": {
     "duration": 0.113822,
     "end_time": "2025-08-19T19:12:47.758975",
     "exception": false,
     "start_time": "2025-08-19T19:12:47.645153",
     "status": "completed"
    },
    "tags": []
   },
   "outputs": [
    {
     "data": {
      "text/plain": [
       "array([0, 0, 0, ..., 0, 0, 0])"
      ]
     },
     "execution_count": 36,
     "metadata": {},
     "output_type": "execute_result"
    }
   ],
   "source": [
    "model.predict(X_test)"
   ]
  },
  {
   "cell_type": "markdown",
   "id": "3759920c",
   "metadata": {
    "papermill": {
     "duration": 0.012922,
     "end_time": "2025-08-19T19:12:47.797183",
     "exception": false,
     "start_time": "2025-08-19T19:12:47.784261",
     "status": "completed"
    },
    "tags": []
   },
   "source": [
    "# Conformal Prediction"
   ]
  },
  {
   "cell_type": "code",
   "execution_count": 37,
   "id": "14b27f59",
   "metadata": {
    "execution": {
     "iopub.execute_input": "2025-08-19T19:12:47.822553Z",
     "iopub.status.busy": "2025-08-19T19:12:47.821049Z",
     "iopub.status.idle": "2025-08-19T19:12:47.833720Z",
     "shell.execute_reply": "2025-08-19T19:12:47.828517Z"
    },
    "papermill": {
     "duration": 0.027105,
     "end_time": "2025-08-19T19:12:47.835455",
     "exception": false,
     "start_time": "2025-08-19T19:12:47.808350",
     "status": "completed"
    },
    "tags": []
   },
   "outputs": [],
   "source": [
    "# Miscoverage level for conformal prediction (10% allowed error rate => 90% target coverage)\n",
    "alpha = 0.1"
   ]
  },
  {
   "cell_type": "code",
   "execution_count": 38,
   "id": "59102472",
   "metadata": {
    "execution": {
     "iopub.execute_input": "2025-08-19T19:12:47.868197Z",
     "iopub.status.busy": "2025-08-19T19:12:47.866796Z",
     "iopub.status.idle": "2025-08-19T19:12:47.963087Z",
     "shell.execute_reply": "2025-08-19T19:12:47.961962Z"
    },
    "papermill": {
     "duration": 0.113237,
     "end_time": "2025-08-19T19:12:47.965808",
     "exception": false,
     "start_time": "2025-08-19T19:12:47.852571",
     "status": "completed"
    },
    "tags": []
   },
   "outputs": [],
   "source": [
    "probs_calib = model.predict_proba(X_calib)"
   ]
  },
  {
   "cell_type": "code",
   "execution_count": 39,
   "id": "a792d4dd",
   "metadata": {
    "execution": {
     "iopub.execute_input": "2025-08-19T19:12:48.008681Z",
     "iopub.status.busy": "2025-08-19T19:12:48.007224Z",
     "iopub.status.idle": "2025-08-19T19:12:48.018836Z",
     "shell.execute_reply": "2025-08-19T19:12:48.017088Z"
    },
    "papermill": {
     "duration": 0.028079,
     "end_time": "2025-08-19T19:12:48.020381",
     "exception": false,
     "start_time": "2025-08-19T19:12:47.992302",
     "status": "completed"
    },
    "tags": []
   },
   "outputs": [],
   "source": [
    "y_calib = y_calib.values.ravel().astype(int)"
   ]
  },
  {
   "cell_type": "code",
   "execution_count": 40,
   "id": "650fd033",
   "metadata": {
    "execution": {
     "iopub.execute_input": "2025-08-19T19:12:48.050599Z",
     "iopub.status.busy": "2025-08-19T19:12:48.049215Z",
     "iopub.status.idle": "2025-08-19T19:12:48.063367Z",
     "shell.execute_reply": "2025-08-19T19:12:48.061793Z"
    },
    "papermill": {
     "duration": 0.029013,
     "end_time": "2025-08-19T19:12:48.065160",
     "exception": false,
     "start_time": "2025-08-19T19:12:48.036147",
     "status": "completed"
    },
    "tags": []
   },
   "outputs": [],
   "source": [
    "from fairness_multiverse.conformal import compute_nc_scores\n",
    "\n",
    "# Compute nonconformity scores on calibration set (1 - probability of true class)\n",
    "nc_scores = compute_nc_scores(probs_calib, y_calib)"
   ]
  },
  {
   "cell_type": "code",
   "execution_count": 41,
   "id": "28ada44c",
   "metadata": {
    "execution": {
     "iopub.execute_input": "2025-08-19T19:12:48.093796Z",
     "iopub.status.busy": "2025-08-19T19:12:48.092536Z",
     "iopub.status.idle": "2025-08-19T19:12:48.103947Z",
     "shell.execute_reply": "2025-08-19T19:12:48.102544Z"
    },
    "papermill": {
     "duration": 0.026323,
     "end_time": "2025-08-19T19:12:48.105650",
     "exception": false,
     "start_time": "2025-08-19T19:12:48.079327",
     "status": "completed"
    },
    "tags": []
   },
   "outputs": [],
   "source": [
    "from fairness_multiverse.conformal import find_threshold\n",
    "\n",
    "# Find conformal threshold q_hat for the given alpha (split conformal method)\n",
    "q_hat = find_threshold(nc_scores, alpha)"
   ]
  },
  {
   "cell_type": "code",
   "execution_count": 42,
   "id": "df56469e",
   "metadata": {
    "execution": {
     "iopub.execute_input": "2025-08-19T19:12:48.134870Z",
     "iopub.status.busy": "2025-08-19T19:12:48.133550Z",
     "iopub.status.idle": "2025-08-19T19:12:48.145707Z",
     "shell.execute_reply": "2025-08-19T19:12:48.144196Z"
    },
    "papermill": {
     "duration": 0.027171,
     "end_time": "2025-08-19T19:12:48.147415",
     "exception": false,
     "start_time": "2025-08-19T19:12:48.120244",
     "status": "completed"
    },
    "tags": []
   },
   "outputs": [
    {
     "data": {
      "text/plain": [
       "0.6959645829935099"
      ]
     },
     "execution_count": 42,
     "metadata": {},
     "output_type": "execute_result"
    }
   ],
   "source": [
    "q_hat"
   ]
  },
  {
   "cell_type": "code",
   "execution_count": 43,
   "id": "aa1f5faa",
   "metadata": {
    "execution": {
     "iopub.execute_input": "2025-08-19T19:12:48.177453Z",
     "iopub.status.busy": "2025-08-19T19:12:48.176116Z",
     "iopub.status.idle": "2025-08-19T19:12:48.685836Z",
     "shell.execute_reply": "2025-08-19T19:12:48.684283Z"
    },
    "papermill": {
     "duration": 0.52638,
     "end_time": "2025-08-19T19:12:48.689399",
     "exception": false,
     "start_time": "2025-08-19T19:12:48.163019",
     "status": "completed"
    },
    "tags": []
   },
   "outputs": [],
   "source": [
    "from fairness_multiverse.conformal import predict_conformal_sets\n",
    "\n",
    "# Generate prediction sets for each test example\n",
    "pred_sets = predict_conformal_sets(model, X_test, q_hat)"
   ]
  },
  {
   "cell_type": "code",
   "execution_count": 44,
   "id": "97f67a6b",
   "metadata": {
    "execution": {
     "iopub.execute_input": "2025-08-19T19:12:48.739545Z",
     "iopub.status.busy": "2025-08-19T19:12:48.738100Z",
     "iopub.status.idle": "2025-08-19T19:12:48.750741Z",
     "shell.execute_reply": "2025-08-19T19:12:48.749303Z"
    },
    "papermill": {
     "duration": 0.032009,
     "end_time": "2025-08-19T19:12:48.752270",
     "exception": false,
     "start_time": "2025-08-19T19:12:48.720261",
     "status": "completed"
    },
    "tags": []
   },
   "outputs": [],
   "source": [
    "y_true = y_true.squeeze()"
   ]
  },
  {
   "cell_type": "code",
   "execution_count": 45,
   "id": "e700e9a7",
   "metadata": {
    "execution": {
     "iopub.execute_input": "2025-08-19T19:12:48.783425Z",
     "iopub.status.busy": "2025-08-19T19:12:48.781568Z",
     "iopub.status.idle": "2025-08-19T19:12:49.284191Z",
     "shell.execute_reply": "2025-08-19T19:12:49.280136Z"
    },
    "papermill": {
     "duration": 0.520224,
     "end_time": "2025-08-19T19:12:49.287161",
     "exception": false,
     "start_time": "2025-08-19T19:12:48.766937",
     "status": "completed"
    },
    "tags": []
   },
   "outputs": [],
   "source": [
    "from fairness_multiverse.conformal import evaluate_sets\n",
    "\n",
    "# Evaluate coverage and average set size on test data\n",
    "metrics = evaluate_sets(pred_sets, y_true)"
   ]
  },
  {
   "cell_type": "markdown",
   "id": "efbacec0",
   "metadata": {
    "papermill": {
     "duration": 0.012325,
     "end_time": "2025-08-19T19:12:49.329079",
     "exception": false,
     "start_time": "2025-08-19T19:12:49.316754",
     "status": "completed"
    },
    "tags": []
   },
   "source": [
    "# CP Metrics"
   ]
  },
  {
   "cell_type": "code",
   "execution_count": 46,
   "id": "9de55fb1",
   "metadata": {
    "execution": {
     "iopub.execute_input": "2025-08-19T19:12:49.356313Z",
     "iopub.status.busy": "2025-08-19T19:12:49.354736Z",
     "iopub.status.idle": "2025-08-19T19:12:49.371297Z",
     "shell.execute_reply": "2025-08-19T19:12:49.368997Z"
    },
    "papermill": {
     "duration": 0.032437,
     "end_time": "2025-08-19T19:12:49.373158",
     "exception": false,
     "start_time": "2025-08-19T19:12:49.340721",
     "status": "completed"
    },
    "tags": []
   },
   "outputs": [
    {
     "data": {
      "text/plain": [
       "{'coverage': 0.9132984059748077, 'avg_size': 1.3302307435068554}"
      ]
     },
     "execution_count": 46,
     "metadata": {},
     "output_type": "execute_result"
    }
   ],
   "source": [
    "metrics"
   ]
  },
  {
   "cell_type": "code",
   "execution_count": 47,
   "id": "64c340a1",
   "metadata": {
    "execution": {
     "iopub.execute_input": "2025-08-19T19:12:49.405622Z",
     "iopub.status.busy": "2025-08-19T19:12:49.404115Z",
     "iopub.status.idle": "2025-08-19T19:12:49.415677Z",
     "shell.execute_reply": "2025-08-19T19:12:49.413979Z"
    },
    "papermill": {
     "duration": 0.027114,
     "end_time": "2025-08-19T19:12:49.417250",
     "exception": false,
     "start_time": "2025-08-19T19:12:49.390136",
     "status": "completed"
    },
    "tags": []
   },
   "outputs": [],
   "source": [
    "example_universe = universe.copy()\n",
    "universe_training_year = example_universe.get(\"training_year\")\n",
    "universe_training_size = example_universe.get(\"training_size\")\n",
    "universe_scale = example_universe.get(\"scale\")\n",
    "universe_model = example_universe.get(\"model\")\n",
    "universe_exclude_features = example_universe.get(\"exclude_features\")\n",
    "universe_exclude_subgroups = example_universe.get(\"exclude_subgroups\")"
   ]
  },
  {
   "cell_type": "code",
   "execution_count": 48,
   "id": "dbb53cb4",
   "metadata": {
    "execution": {
     "iopub.execute_input": "2025-08-19T19:12:49.446463Z",
     "iopub.status.busy": "2025-08-19T19:12:49.444846Z",
     "iopub.status.idle": "2025-08-19T19:12:49.455978Z",
     "shell.execute_reply": "2025-08-19T19:12:49.454276Z"
    },
    "papermill": {
     "duration": 0.025858,
     "end_time": "2025-08-19T19:12:49.457522",
     "exception": false,
     "start_time": "2025-08-19T19:12:49.431664",
     "status": "completed"
    },
    "tags": []
   },
   "outputs": [],
   "source": [
    "cp_metrics_dict = {\n",
    "    \"universe_id\": [universe_id],\n",
    "    \"universe_training_year\": [universe_training_year],\n",
    "    \"universe_training_size\": [universe_training_size],\n",
    "    \"universe_scale\": [universe_scale],\n",
    "    \"universe_model\": [universe_model],\n",
    "    \"universe_exclude_features\": [universe_exclude_features],\n",
    "    \"universe_exclude_subgroups\": [universe_exclude_subgroups],\n",
    "    \"q_hat\": [q_hat],\n",
    "    \"coverage\": [metrics[\"coverage\"]],\n",
    "    \"avg_size\": [metrics[\"avg_size\"]],\n",
    "}"
   ]
  },
  {
   "cell_type": "code",
   "execution_count": 49,
   "id": "0d70d4b2",
   "metadata": {
    "execution": {
     "iopub.execute_input": "2025-08-19T19:12:49.486592Z",
     "iopub.status.busy": "2025-08-19T19:12:49.485260Z",
     "iopub.status.idle": "2025-08-19T19:12:49.497936Z",
     "shell.execute_reply": "2025-08-19T19:12:49.496270Z"
    },
    "papermill": {
     "duration": 0.027551,
     "end_time": "2025-08-19T19:12:49.499574",
     "exception": false,
     "start_time": "2025-08-19T19:12:49.472023",
     "status": "completed"
    },
    "tags": []
   },
   "outputs": [],
   "source": [
    "cp_metrics_df = pd.DataFrame(cp_metrics_dict)"
   ]
  },
  {
   "cell_type": "code",
   "execution_count": 50,
   "id": "b494403c",
   "metadata": {
    "execution": {
     "iopub.execute_input": "2025-08-19T19:12:49.529714Z",
     "iopub.status.busy": "2025-08-19T19:12:49.528341Z",
     "iopub.status.idle": "2025-08-19T19:12:49.553322Z",
     "shell.execute_reply": "2025-08-19T19:12:49.552256Z"
    },
    "papermill": {
     "duration": 0.041027,
     "end_time": "2025-08-19T19:12:49.555047",
     "exception": false,
     "start_time": "2025-08-19T19:12:49.514020",
     "status": "completed"
    },
    "tags": []
   },
   "outputs": [
    {
     "data": {
      "text/html": [
       "<div>\n",
       "<style scoped>\n",
       "    .dataframe tbody tr th:only-of-type {\n",
       "        vertical-align: middle;\n",
       "    }\n",
       "\n",
       "    .dataframe tbody tr th {\n",
       "        vertical-align: top;\n",
       "    }\n",
       "\n",
       "    .dataframe thead th {\n",
       "        text-align: right;\n",
       "    }\n",
       "</style>\n",
       "<table border=\"1\" class=\"dataframe\">\n",
       "  <thead>\n",
       "    <tr style=\"text-align: right;\">\n",
       "      <th></th>\n",
       "      <th>universe_id</th>\n",
       "      <th>universe_training_year</th>\n",
       "      <th>universe_training_size</th>\n",
       "      <th>universe_scale</th>\n",
       "      <th>universe_model</th>\n",
       "      <th>universe_exclude_features</th>\n",
       "      <th>universe_exclude_subgroups</th>\n",
       "      <th>q_hat</th>\n",
       "      <th>coverage</th>\n",
       "      <th>avg_size</th>\n",
       "    </tr>\n",
       "  </thead>\n",
       "  <tbody>\n",
       "    <tr>\n",
       "      <th>0</th>\n",
       "      <td>1626535c6705231328d76d3fa1fd1264</td>\n",
       "      <td>2010_14</td>\n",
       "      <td>1k</td>\n",
       "      <td>do-not-scale</td>\n",
       "      <td>elasticnet</td>\n",
       "      <td>age</td>\n",
       "      <td>drop-non-german</td>\n",
       "      <td>0.695965</td>\n",
       "      <td>0.913298</td>\n",
       "      <td>1.330231</td>\n",
       "    </tr>\n",
       "  </tbody>\n",
       "</table>\n",
       "</div>"
      ],
      "text/plain": [
       "                        universe_id universe_training_year  \\\n",
       "0  1626535c6705231328d76d3fa1fd1264                2010_14   \n",
       "\n",
       "  universe_training_size universe_scale universe_model  \\\n",
       "0                     1k   do-not-scale     elasticnet   \n",
       "\n",
       "  universe_exclude_features universe_exclude_subgroups     q_hat  coverage  \\\n",
       "0                       age            drop-non-german  0.695965  0.913298   \n",
       "\n",
       "   avg_size  \n",
       "0  1.330231  "
      ]
     },
     "execution_count": 50,
     "metadata": {},
     "output_type": "execute_result"
    }
   ],
   "source": [
    "cp_metrics_df"
   ]
  },
  {
   "cell_type": "markdown",
   "id": "ed608b0b",
   "metadata": {
    "papermill": {
     "duration": 0.012668,
     "end_time": "2025-08-19T19:12:49.588454",
     "exception": false,
     "start_time": "2025-08-19T19:12:49.575786",
     "status": "completed"
    },
    "tags": []
   },
   "source": [
    "Conditional coverage & looking at subgroups"
   ]
  },
  {
   "cell_type": "code",
   "execution_count": 51,
   "id": "8968c366",
   "metadata": {
    "execution": {
     "iopub.execute_input": "2025-08-19T19:12:49.615250Z",
     "iopub.status.busy": "2025-08-19T19:12:49.613809Z",
     "iopub.status.idle": "2025-08-19T19:12:49.905652Z",
     "shell.execute_reply": "2025-08-19T19:12:49.904543Z"
    },
    "papermill": {
     "duration": 0.307995,
     "end_time": "2025-08-19T19:12:49.908343",
     "exception": false,
     "start_time": "2025-08-19T19:12:49.600348",
     "status": "completed"
    },
    "tags": []
   },
   "outputs": [],
   "source": [
    "from fairness_multiverse.conformal import build_cp_groups\n",
    "\n",
    "cp_groups_df = build_cp_groups(pred_sets, y_true, X_test.index, org_test)"
   ]
  },
  {
   "cell_type": "code",
   "execution_count": 52,
   "id": "292ddabf",
   "metadata": {
    "execution": {
     "iopub.execute_input": "2025-08-19T19:12:49.952904Z",
     "iopub.status.busy": "2025-08-19T19:12:49.951361Z",
     "iopub.status.idle": "2025-08-19T19:12:50.820499Z",
     "shell.execute_reply": "2025-08-19T19:12:50.818438Z"
    },
    "papermill": {
     "duration": 0.886955,
     "end_time": "2025-08-19T19:12:50.822879",
     "exception": false,
     "start_time": "2025-08-19T19:12:49.935924",
     "status": "completed"
    },
    "tags": []
   },
   "outputs": [],
   "source": [
    "# Define covered = 1 if true_label is in the predicted set\n",
    "cp_groups_df['covered'] = cp_groups_df.apply(\n",
    "    lambda r: int(r['true_label'] in r['pred_set']),\n",
    "    axis=1\n",
    ")"
   ]
  },
  {
   "cell_type": "code",
   "execution_count": 53,
   "id": "3a261692",
   "metadata": {
    "execution": {
     "iopub.execute_input": "2025-08-19T19:12:50.858969Z",
     "iopub.status.busy": "2025-08-19T19:12:50.857435Z",
     "iopub.status.idle": "2025-08-19T19:12:50.882306Z",
     "shell.execute_reply": "2025-08-19T19:12:50.880950Z"
    },
    "papermill": {
     "duration": 0.040816,
     "end_time": "2025-08-19T19:12:50.884170",
     "exception": false,
     "start_time": "2025-08-19T19:12:50.843354",
     "status": "completed"
    },
    "tags": []
   },
   "outputs": [],
   "source": [
    "subgroups = ['frau1','nongerman','nongerman_male','nongerman_female']\n",
    "\n",
    "# Conditional coverage for subgroup==1\n",
    "cond_coverage = {\n",
    "    g: cp_groups_df.loc[cp_groups_df[g]==1, 'covered'].mean()\n",
    "    for g in subgroups\n",
    "}"
   ]
  },
  {
   "cell_type": "code",
   "execution_count": 54,
   "id": "894fd600",
   "metadata": {
    "execution": {
     "iopub.execute_input": "2025-08-19T19:12:50.934656Z",
     "iopub.status.busy": "2025-08-19T19:12:50.932889Z",
     "iopub.status.idle": "2025-08-19T19:12:50.945696Z",
     "shell.execute_reply": "2025-08-19T19:12:50.944299Z"
    },
    "papermill": {
     "duration": 0.030228,
     "end_time": "2025-08-19T19:12:50.947185",
     "exception": false,
     "start_time": "2025-08-19T19:12:50.916957",
     "status": "completed"
    },
    "tags": []
   },
   "outputs": [
    {
     "data": {
      "text/plain": [
       "{'frau1': 0.9129801860088961,\n",
       " 'nongerman': 0.9729411104249706,\n",
       " 'nongerman_male': 0.9799153381968837,\n",
       " 'nongerman_female': 0.9614008941877794}"
      ]
     },
     "execution_count": 54,
     "metadata": {},
     "output_type": "execute_result"
    }
   ],
   "source": [
    "cond_coverage"
   ]
  },
  {
   "cell_type": "code",
   "execution_count": 55,
   "id": "942895c7",
   "metadata": {
    "execution": {
     "iopub.execute_input": "2025-08-19T19:12:50.979599Z",
     "iopub.status.busy": "2025-08-19T19:12:50.978111Z",
     "iopub.status.idle": "2025-08-19T19:12:50.991430Z",
     "shell.execute_reply": "2025-08-19T19:12:50.989656Z"
    },
    "papermill": {
     "duration": 0.028835,
     "end_time": "2025-08-19T19:12:50.993379",
     "exception": false,
     "start_time": "2025-08-19T19:12:50.964544",
     "status": "completed"
    },
    "tags": []
   },
   "outputs": [],
   "source": [
    "for subgroup, cov in cond_coverage.items():\n",
    "    cp_metrics_df[f\"cov_{subgroup}\"] = cov"
   ]
  },
  {
   "cell_type": "code",
   "execution_count": 56,
   "id": "3970120f",
   "metadata": {
    "execution": {
     "iopub.execute_input": "2025-08-19T19:12:51.025055Z",
     "iopub.status.busy": "2025-08-19T19:12:51.023454Z",
     "iopub.status.idle": "2025-08-19T19:12:51.050615Z",
     "shell.execute_reply": "2025-08-19T19:12:51.049399Z"
    },
    "papermill": {
     "duration": 0.042895,
     "end_time": "2025-08-19T19:12:51.052370",
     "exception": false,
     "start_time": "2025-08-19T19:12:51.009475",
     "status": "completed"
    },
    "tags": []
   },
   "outputs": [
    {
     "data": {
      "text/html": [
       "<div>\n",
       "<style scoped>\n",
       "    .dataframe tbody tr th:only-of-type {\n",
       "        vertical-align: middle;\n",
       "    }\n",
       "\n",
       "    .dataframe tbody tr th {\n",
       "        vertical-align: top;\n",
       "    }\n",
       "\n",
       "    .dataframe thead th {\n",
       "        text-align: right;\n",
       "    }\n",
       "</style>\n",
       "<table border=\"1\" class=\"dataframe\">\n",
       "  <thead>\n",
       "    <tr style=\"text-align: right;\">\n",
       "      <th></th>\n",
       "      <th>universe_id</th>\n",
       "      <th>universe_training_year</th>\n",
       "      <th>universe_training_size</th>\n",
       "      <th>universe_scale</th>\n",
       "      <th>universe_model</th>\n",
       "      <th>universe_exclude_features</th>\n",
       "      <th>universe_exclude_subgroups</th>\n",
       "      <th>q_hat</th>\n",
       "      <th>coverage</th>\n",
       "      <th>avg_size</th>\n",
       "      <th>cov_frau1</th>\n",
       "      <th>cov_nongerman</th>\n",
       "      <th>cov_nongerman_male</th>\n",
       "      <th>cov_nongerman_female</th>\n",
       "    </tr>\n",
       "  </thead>\n",
       "  <tbody>\n",
       "    <tr>\n",
       "      <th>0</th>\n",
       "      <td>1626535c6705231328d76d3fa1fd1264</td>\n",
       "      <td>2010_14</td>\n",
       "      <td>1k</td>\n",
       "      <td>do-not-scale</td>\n",
       "      <td>elasticnet</td>\n",
       "      <td>age</td>\n",
       "      <td>drop-non-german</td>\n",
       "      <td>0.695965</td>\n",
       "      <td>0.913298</td>\n",
       "      <td>1.330231</td>\n",
       "      <td>0.91298</td>\n",
       "      <td>0.972941</td>\n",
       "      <td>0.979915</td>\n",
       "      <td>0.961401</td>\n",
       "    </tr>\n",
       "  </tbody>\n",
       "</table>\n",
       "</div>"
      ],
      "text/plain": [
       "                        universe_id universe_training_year  \\\n",
       "0  1626535c6705231328d76d3fa1fd1264                2010_14   \n",
       "\n",
       "  universe_training_size universe_scale universe_model  \\\n",
       "0                     1k   do-not-scale     elasticnet   \n",
       "\n",
       "  universe_exclude_features universe_exclude_subgroups     q_hat  coverage  \\\n",
       "0                       age            drop-non-german  0.695965  0.913298   \n",
       "\n",
       "   avg_size  cov_frau1  cov_nongerman  cov_nongerman_male  \\\n",
       "0  1.330231    0.91298       0.972941            0.979915   \n",
       "\n",
       "   cov_nongerman_female  \n",
       "0              0.961401  "
      ]
     },
     "execution_count": 56,
     "metadata": {},
     "output_type": "execute_result"
    }
   ],
   "source": [
    "cp_metrics_df"
   ]
  },
  {
   "cell_type": "markdown",
   "id": "3fc519cc",
   "metadata": {
    "papermill": {
     "duration": 0.013476,
     "end_time": "2025-08-19T19:12:51.089889",
     "exception": false,
     "start_time": "2025-08-19T19:12:51.076413",
     "status": "completed"
    },
    "tags": []
   },
   "source": [
    "# (Fairness) Metrics"
   ]
  },
  {
   "cell_type": "code",
   "execution_count": 57,
   "id": "a2e5e155",
   "metadata": {
    "execution": {
     "iopub.execute_input": "2025-08-19T19:12:51.117699Z",
     "iopub.status.busy": "2025-08-19T19:12:51.115757Z",
     "iopub.status.idle": "2025-08-19T19:12:51.149046Z",
     "shell.execute_reply": "2025-08-19T19:12:51.147605Z"
    },
    "papermill": {
     "duration": 0.049206,
     "end_time": "2025-08-19T19:12:51.151228",
     "exception": false,
     "start_time": "2025-08-19T19:12:51.102022",
     "status": "completed"
    },
    "tags": []
   },
   "outputs": [],
   "source": [
    "colname_to_bin = \"maxdeutsch1\"\n",
    "majority_value = org_train[colname_to_bin].mode()[0]\n",
    "\n",
    "org_test[\"majmin\"] = np.where(org_test[colname_to_bin] == majority_value, \"majority\", \"minority\")"
   ]
  },
  {
   "cell_type": "code",
   "execution_count": 58,
   "id": "17e3e4d5",
   "metadata": {
    "execution": {
     "iopub.execute_input": "2025-08-19T19:12:51.196540Z",
     "iopub.status.busy": "2025-08-19T19:12:51.194923Z",
     "iopub.status.idle": "2025-08-19T19:12:52.873864Z",
     "shell.execute_reply": "2025-08-19T19:12:52.872005Z"
    },
    "papermill": {
     "duration": 1.698015,
     "end_time": "2025-08-19T19:12:52.876721",
     "exception": false,
     "start_time": "2025-08-19T19:12:51.178706",
     "status": "completed"
    },
    "tags": []
   },
   "outputs": [],
   "source": [
    "example_universe = universe.copy()\n",
    "example_universe[\"cutoff\"] = example_universe[\"cutoff\"][0]\n",
    "example_universe[\"eval_fairness_grouping\"] = example_universe[\"eval_fairness_grouping\"][0]\n",
    "fairness_dict, metric_frame = universe_analysis.compute_metrics(\n",
    "    example_universe,\n",
    "    y_pred_prob=probs_test,\n",
    "    y_test=y_true,\n",
    "    org_test=org_test,\n",
    ")"
   ]
  },
  {
   "cell_type": "markdown",
   "id": "1fb7a0e9",
   "metadata": {
    "papermill": {
     "duration": 0.014022,
     "end_time": "2025-08-19T19:12:52.919850",
     "exception": false,
     "start_time": "2025-08-19T19:12:52.905828",
     "status": "completed"
    },
    "tags": []
   },
   "source": [
    "# Overall"
   ]
  },
  {
   "cell_type": "markdown",
   "id": "be1784b1",
   "metadata": {
    "papermill": {
     "duration": 0.012115,
     "end_time": "2025-08-19T19:12:52.944154",
     "exception": false,
     "start_time": "2025-08-19T19:12:52.932039",
     "status": "completed"
    },
    "tags": []
   },
   "source": [
    "Main fairness target: Equalized Odds. Seems to be a better fit than equal opportunity, since we're not only interested in Y = 1. Seems to be a better fit than demographic parity, since we also care about accuracy, not just equal distribution of preds.\n",
    "\n",
    "Pick column for computation of fairness metrics\n",
    "\n",
    "Performance\n",
    "Overall performance measures, most interesting in relation to the measures split by group below"
   ]
  },
  {
   "cell_type": "code",
   "execution_count": 59,
   "id": "b7672bee",
   "metadata": {
    "execution": {
     "iopub.execute_input": "2025-08-19T19:12:52.972138Z",
     "iopub.status.busy": "2025-08-19T19:12:52.970793Z",
     "iopub.status.idle": "2025-08-19T19:12:52.988540Z",
     "shell.execute_reply": "2025-08-19T19:12:52.987037Z"
    },
    "papermill": {
     "duration": 0.033609,
     "end_time": "2025-08-19T19:12:52.989970",
     "exception": false,
     "start_time": "2025-08-19T19:12:52.956361",
     "status": "completed"
    },
    "tags": []
   },
   "outputs": [
    {
     "data": {
      "text/plain": [
       "accuracy                   0.205273\n",
       "balanced accuracy          0.505921\n",
       "f1                         0.227129\n",
       "precision                  0.129751\n",
       "false positive rate        0.898481\n",
       "false negative rate        0.089677\n",
       "selection rate             0.900000\n",
       "count                  89710.000000\n",
       "dtype: float64"
      ]
     },
     "execution_count": 59,
     "metadata": {},
     "output_type": "execute_result"
    }
   ],
   "source": [
    "metric_frame.overall"
   ]
  },
  {
   "cell_type": "markdown",
   "id": "d93333c9",
   "metadata": {
    "papermill": {
     "duration": 0.01324,
     "end_time": "2025-08-19T19:12:53.022104",
     "exception": false,
     "start_time": "2025-08-19T19:12:53.008864",
     "status": "completed"
    },
    "tags": []
   },
   "source": [
    "By Group"
   ]
  },
  {
   "cell_type": "code",
   "execution_count": 60,
   "id": "52256966",
   "metadata": {
    "execution": {
     "iopub.execute_input": "2025-08-19T19:12:53.051786Z",
     "iopub.status.busy": "2025-08-19T19:12:53.050248Z",
     "iopub.status.idle": "2025-08-19T19:12:53.074924Z",
     "shell.execute_reply": "2025-08-19T19:12:53.073498Z"
    },
    "papermill": {
     "duration": 0.041952,
     "end_time": "2025-08-19T19:12:53.077057",
     "exception": false,
     "start_time": "2025-08-19T19:12:53.035105",
     "status": "completed"
    },
    "tags": []
   },
   "outputs": [
    {
     "data": {
      "text/html": [
       "<div>\n",
       "<style scoped>\n",
       "    .dataframe tbody tr th:only-of-type {\n",
       "        vertical-align: middle;\n",
       "    }\n",
       "\n",
       "    .dataframe tbody tr th {\n",
       "        vertical-align: top;\n",
       "    }\n",
       "\n",
       "    .dataframe thead th {\n",
       "        text-align: right;\n",
       "    }\n",
       "</style>\n",
       "<table border=\"1\" class=\"dataframe\">\n",
       "  <thead>\n",
       "    <tr style=\"text-align: right;\">\n",
       "      <th></th>\n",
       "      <th>accuracy</th>\n",
       "      <th>balanced accuracy</th>\n",
       "      <th>f1</th>\n",
       "      <th>precision</th>\n",
       "      <th>false positive rate</th>\n",
       "      <th>false negative rate</th>\n",
       "      <th>selection rate</th>\n",
       "      <th>count</th>\n",
       "    </tr>\n",
       "    <tr>\n",
       "      <th>majmin</th>\n",
       "      <th></th>\n",
       "      <th></th>\n",
       "      <th></th>\n",
       "      <th></th>\n",
       "      <th></th>\n",
       "      <th></th>\n",
       "      <th></th>\n",
       "      <th></th>\n",
       "    </tr>\n",
       "  </thead>\n",
       "  <tbody>\n",
       "    <tr>\n",
       "      <th>majority</th>\n",
       "      <td>0.225112</td>\n",
       "      <td>0.508581</td>\n",
       "      <td>0.233632</td>\n",
       "      <td>0.134377</td>\n",
       "      <td>0.876712</td>\n",
       "      <td>0.106127</td>\n",
       "      <td>0.878979</td>\n",
       "      <td>69170.0</td>\n",
       "    </tr>\n",
       "    <tr>\n",
       "      <th>minority</th>\n",
       "      <td>0.138462</td>\n",
       "      <td>0.501712</td>\n",
       "      <td>0.206742</td>\n",
       "      <td>0.115647</td>\n",
       "      <td>0.970394</td>\n",
       "      <td>0.026182</td>\n",
       "      <td>0.970789</td>\n",
       "      <td>20540.0</td>\n",
       "    </tr>\n",
       "  </tbody>\n",
       "</table>\n",
       "</div>"
      ],
      "text/plain": [
       "          accuracy  balanced accuracy        f1  precision  \\\n",
       "majmin                                                       \n",
       "majority  0.225112           0.508581  0.233632   0.134377   \n",
       "minority  0.138462           0.501712  0.206742   0.115647   \n",
       "\n",
       "          false positive rate  false negative rate  selection rate    count  \n",
       "majmin                                                                       \n",
       "majority             0.876712             0.106127        0.878979  69170.0  \n",
       "minority             0.970394             0.026182        0.970789  20540.0  "
      ]
     },
     "execution_count": 60,
     "metadata": {},
     "output_type": "execute_result"
    }
   ],
   "source": [
    "metric_frame.by_group"
   ]
  },
  {
   "cell_type": "code",
   "execution_count": 61,
   "id": "6e6c20ae",
   "metadata": {
    "execution": {
     "iopub.execute_input": "2025-08-19T19:12:53.113218Z",
     "iopub.status.busy": "2025-08-19T19:12:53.111516Z",
     "iopub.status.idle": "2025-08-19T19:12:54.930066Z",
     "shell.execute_reply": "2025-08-19T19:12:54.928833Z"
    },
    "papermill": {
     "duration": 1.836486,
     "end_time": "2025-08-19T19:12:54.933765",
     "exception": false,
     "start_time": "2025-08-19T19:12:53.097279",
     "status": "completed"
    },
    "tags": []
   },
   "outputs": [
    {
     "data": {
      "text/plain": [
       "array([[<Axes: title={'center': 'accuracy'}, xlabel='majmin'>,\n",
       "        <Axes: title={'center': 'balanced accuracy'}, xlabel='majmin'>,\n",
       "        <Axes: title={'center': 'f1'}, xlabel='majmin'>],\n",
       "       [<Axes: title={'center': 'precision'}, xlabel='majmin'>,\n",
       "        <Axes: title={'center': 'false positive rate'}, xlabel='majmin'>,\n",
       "        <Axes: title={'center': 'false negative rate'}, xlabel='majmin'>],\n",
       "       [<Axes: title={'center': 'selection rate'}, xlabel='majmin'>,\n",
       "        <Axes: title={'center': 'count'}, xlabel='majmin'>,\n",
       "        <Axes: xlabel='majmin'>]], dtype=object)"
      ]
     },
     "execution_count": 61,
     "metadata": {},
     "output_type": "execute_result"
    },
    {
     "data": {
      "image/png": "[encoded data removed]",
      "text/plain": [
       "<Figure size 1200x800 with 9 Axes>"
      ]
     },
     "metadata": {},
     "output_type": "display_data"
    }
   ],
   "source": [
    "# In a graphic\n",
    "metric_frame.by_group.plot.bar(\n",
    "    subplots=True,\n",
    "    layout=[3, 3],\n",
    "    legend=False,\n",
    "    figsize=[12, 8],\n",
    "    title=\"Show all metrics\",\n",
    ")"
   ]
  },
  {
   "cell_type": "markdown",
   "id": "b2e433ae",
   "metadata": {
    "papermill": {
     "duration": 0.013886,
     "end_time": "2025-08-19T19:12:54.975767",
     "exception": false,
     "start_time": "2025-08-19T19:12:54.961881",
     "status": "completed"
    },
    "tags": []
   },
   "source": [
    "# Final Output"
   ]
  },
  {
   "cell_type": "code",
   "execution_count": 62,
   "id": "3871301e",
   "metadata": {
    "execution": {
     "iopub.execute_input": "2025-08-19T19:12:55.026649Z",
     "iopub.status.busy": "2025-08-19T19:12:55.024078Z",
     "iopub.status.idle": "2025-08-19T19:12:55.043878Z",
     "shell.execute_reply": "2025-08-19T19:12:55.042672Z"
    },
    "papermill": {
     "duration": 0.054161,
     "end_time": "2025-08-19T19:12:55.045691",
     "exception": false,
     "start_time": "2025-08-19T19:12:54.991530",
     "status": "completed"
    },
    "tags": []
   },
   "outputs": [
    {
     "data": {
      "text/plain": [
       "4"
      ]
     },
     "execution_count": 62,
     "metadata": {},
     "output_type": "execute_result"
    }
   ],
   "source": [
    "sub_universes = universe_analysis.generate_sub_universes()\n",
    "len(sub_universes)"
   ]
  },
  {
   "cell_type": "code",
   "execution_count": 63,
   "id": "d9cfdaca",
   "metadata": {
    "execution": {
     "iopub.execute_input": "2025-08-19T19:12:55.086383Z",
     "iopub.status.busy": "2025-08-19T19:12:55.084030Z",
     "iopub.status.idle": "2025-08-19T19:12:55.094542Z",
     "shell.execute_reply": "2025-08-19T19:12:55.093398Z"
    },
    "papermill": {
     "duration": 0.027533,
     "end_time": "2025-08-19T19:12:55.096121",
     "exception": false,
     "start_time": "2025-08-19T19:12:55.068588",
     "status": "completed"
    },
    "tags": []
   },
   "outputs": [],
   "source": [
    "def filter_sub_universe_data(sub_universe, org_test):\n",
    "    # Keep all rows — no filtering\n",
    "    keep_rows_mask = np.ones(org_test.shape[0], dtype=bool)\n",
    "\n",
    "    print(f\"[INFO] Keeping all rows: {keep_rows_mask.sum()} rows retained.\")\n",
    "    return keep_rows_mask"
   ]
  },
  {
   "cell_type": "code",
   "execution_count": 64,
   "id": "2bc31ac1",
   "metadata": {
    "execution": {
     "iopub.execute_input": "2025-08-19T19:12:55.130053Z",
     "iopub.status.busy": "2025-08-19T19:12:55.128023Z",
     "iopub.status.idle": "2025-08-19T19:13:01.639960Z",
     "shell.execute_reply": "2025-08-19T19:13:01.638572Z"
    },
    "papermill": {
     "duration": 6.532069,
     "end_time": "2025-08-19T19:13:01.644819",
     "exception": false,
     "start_time": "2025-08-19T19:12:55.112750",
     "status": "completed"
    },
    "tags": []
   },
   "outputs": [
    {
     "name": "stdout",
     "output_type": "stream",
     "text": [
      "Stopping execution_time clock.\n",
      "[INFO] Keeping all rows: 89710 rows retained.\n"
     ]
    },
    {
     "name": "stdout",
     "output_type": "stream",
     "text": [
      "[INFO] Keeping all rows: 89710 rows retained.\n"
     ]
    },
    {
     "name": "stdout",
     "output_type": "stream",
     "text": [
      "[INFO] Keeping all rows: 89710 rows retained.\n"
     ]
    },
    {
     "name": "stdout",
     "output_type": "stream",
     "text": [
      "[INFO] Keeping all rows: 89710 rows retained.\n"
     ]
    },
    {
     "data": {
      "text/html": [
       "<div>\n",
       "<style scoped>\n",
       "    .dataframe tbody tr th:only-of-type {\n",
       "        vertical-align: middle;\n",
       "    }\n",
       "\n",
       "    .dataframe tbody tr th {\n",
       "        vertical-align: top;\n",
       "    }\n",
       "\n",
       "    .dataframe thead th {\n",
       "        text-align: right;\n",
       "    }\n",
       "</style>\n",
       "<table border=\"1\" class=\"dataframe\">\n",
       "  <thead>\n",
       "    <tr style=\"text-align: right;\">\n",
       "      <th></th>\n",
       "      <th>run_no</th>\n",
       "      <th>universe_id</th>\n",
       "      <th>universe_settings</th>\n",
       "      <th>execution_time</th>\n",
       "      <th>test_size_n</th>\n",
       "      <th>test_size_frac</th>\n",
       "      <th>fair_main_equalized_odds_difference</th>\n",
       "      <th>fair_main_equalized_odds_ratio</th>\n",
       "      <th>fair_main_demographic_parity_difference</th>\n",
       "      <th>fair_main_demographic_parity_ratio</th>\n",
       "      <th>...</th>\n",
       "      <th>perf_grp_precision_0</th>\n",
       "      <th>perf_grp_precision_1</th>\n",
       "      <th>perf_grp_false positive rate_0</th>\n",
       "      <th>perf_grp_false positive rate_1</th>\n",
       "      <th>perf_grp_false negative rate_0</th>\n",
       "      <th>perf_grp_false negative rate_1</th>\n",
       "      <th>perf_grp_selection rate_0</th>\n",
       "      <th>perf_grp_selection rate_1</th>\n",
       "      <th>perf_grp_count_0</th>\n",
       "      <th>perf_grp_count_1</th>\n",
       "    </tr>\n",
       "  </thead>\n",
       "  <tbody>\n",
       "    <tr>\n",
       "      <th>0</th>\n",
       "      <td>3</td>\n",
       "      <td>1626535c6705231328d76d3fa1fd1264</td>\n",
       "      <td>{\"cutoff\": \"quantile_0.1\", \"eval_fairness_grou...</td>\n",
       "      <td>21.465036</td>\n",
       "      <td>89710</td>\n",
       "      <td>1.0</td>\n",
       "      <td>0.093682</td>\n",
       "      <td>0.903459</td>\n",
       "      <td>0.091809</td>\n",
       "      <td>0.905428</td>\n",
       "      <td>...</td>\n",
       "      <td>NaN</td>\n",
       "      <td>NaN</td>\n",
       "      <td>NaN</td>\n",
       "      <td>NaN</td>\n",
       "      <td>NaN</td>\n",
       "      <td>NaN</td>\n",
       "      <td>NaN</td>\n",
       "      <td>NaN</td>\n",
       "      <td>NaN</td>\n",
       "      <td>NaN</td>\n",
       "    </tr>\n",
       "    <tr>\n",
       "      <th>0</th>\n",
       "      <td>3</td>\n",
       "      <td>1626535c6705231328d76d3fa1fd1264</td>\n",
       "      <td>{\"cutoff\": \"quantile_0.1\", \"eval_fairness_grou...</td>\n",
       "      <td>21.465036</td>\n",
       "      <td>89710</td>\n",
       "      <td>1.0</td>\n",
       "      <td>0.093682</td>\n",
       "      <td>0.903459</td>\n",
       "      <td>0.091809</td>\n",
       "      <td>0.905428</td>\n",
       "      <td>...</td>\n",
       "      <td>0.115647</td>\n",
       "      <td>0.134377</td>\n",
       "      <td>0.970394</td>\n",
       "      <td>0.876712</td>\n",
       "      <td>0.026182</td>\n",
       "      <td>0.106127</td>\n",
       "      <td>0.970789</td>\n",
       "      <td>0.878979</td>\n",
       "      <td>20540.0</td>\n",
       "      <td>69170.0</td>\n",
       "    </tr>\n",
       "    <tr>\n",
       "      <th>0</th>\n",
       "      <td>3</td>\n",
       "      <td>1626535c6705231328d76d3fa1fd1264</td>\n",
       "      <td>{\"cutoff\": \"quantile_0.25\", \"eval_fairness_gro...</td>\n",
       "      <td>21.465036</td>\n",
       "      <td>89710</td>\n",
       "      <td>1.0</td>\n",
       "      <td>0.231360</td>\n",
       "      <td>0.748999</td>\n",
       "      <td>0.222332</td>\n",
       "      <td>0.758707</td>\n",
       "      <td>...</td>\n",
       "      <td>NaN</td>\n",
       "      <td>NaN</td>\n",
       "      <td>NaN</td>\n",
       "      <td>NaN</td>\n",
       "      <td>NaN</td>\n",
       "      <td>NaN</td>\n",
       "      <td>NaN</td>\n",
       "      <td>NaN</td>\n",
       "      <td>NaN</td>\n",
       "      <td>NaN</td>\n",
       "    </tr>\n",
       "    <tr>\n",
       "      <th>0</th>\n",
       "      <td>3</td>\n",
       "      <td>1626535c6705231328d76d3fa1fd1264</td>\n",
       "      <td>{\"cutoff\": \"quantile_0.25\", \"eval_fairness_gro...</td>\n",
       "      <td>21.465036</td>\n",
       "      <td>89710</td>\n",
       "      <td>1.0</td>\n",
       "      <td>0.231360</td>\n",
       "      <td>0.748999</td>\n",
       "      <td>0.222332</td>\n",
       "      <td>0.758707</td>\n",
       "      <td>...</td>\n",
       "      <td>0.114974</td>\n",
       "      <td>0.142940</td>\n",
       "      <td>0.921748</td>\n",
       "      <td>0.690388</td>\n",
       "      <td>0.081081</td>\n",
       "      <td>0.243764</td>\n",
       "      <td>0.921422</td>\n",
       "      <td>0.699089</td>\n",
       "      <td>20540.0</td>\n",
       "      <td>69170.0</td>\n",
       "    </tr>\n",
       "  </tbody>\n",
       "</table>\n",
       "<p>4 rows × 50 columns</p>\n",
       "</div>"
      ],
      "text/plain": [
       "  run_no                       universe_id  \\\n",
       "0      3  1626535c6705231328d76d3fa1fd1264   \n",
       "0      3  1626535c6705231328d76d3fa1fd1264   \n",
       "0      3  1626535c6705231328d76d3fa1fd1264   \n",
       "0      3  1626535c6705231328d76d3fa1fd1264   \n",
       "\n",
       "                                   universe_settings  execution_time  \\\n",
       "0  {\"cutoff\": \"quantile_0.1\", \"eval_fairness_grou...       21.465036   \n",
       "0  {\"cutoff\": \"quantile_0.1\", \"eval_fairness_grou...       21.465036   \n",
       "0  {\"cutoff\": \"quantile_0.25\", \"eval_fairness_gro...       21.465036   \n",
       "0  {\"cutoff\": \"quantile_0.25\", \"eval_fairness_gro...       21.465036   \n",
       "\n",
       "   test_size_n  test_size_frac  fair_main_equalized_odds_difference  \\\n",
       "0        89710             1.0                             0.093682   \n",
       "0        89710             1.0                             0.093682   \n",
       "0        89710             1.0                             0.231360   \n",
       "0        89710             1.0                             0.231360   \n",
       "\n",
       "   fair_main_equalized_odds_ratio  fair_main_demographic_parity_difference  \\\n",
       "0                        0.903459                                 0.091809   \n",
       "0                        0.903459                                 0.091809   \n",
       "0                        0.748999                                 0.222332   \n",
       "0                        0.748999                                 0.222332   \n",
       "\n",
       "   fair_main_demographic_parity_ratio  ...  perf_grp_precision_0  \\\n",
       "0                            0.905428  ...                   NaN   \n",
       "0                            0.905428  ...              0.115647   \n",
       "0                            0.758707  ...                   NaN   \n",
       "0                            0.758707  ...              0.114974   \n",
       "\n",
       "   perf_grp_precision_1  perf_grp_false positive rate_0  \\\n",
       "0                   NaN                             NaN   \n",
       "0              0.134377                        0.970394   \n",
       "0                   NaN                             NaN   \n",
       "0              0.142940                        0.921748   \n",
       "\n",
       "   perf_grp_false positive rate_1  perf_grp_false negative rate_0  \\\n",
       "0                             NaN                             NaN   \n",
       "0                        0.876712                        0.026182   \n",
       "0                             NaN                             NaN   \n",
       "0                        0.690388                        0.081081   \n",
       "\n",
       "   perf_grp_false negative rate_1  perf_grp_selection rate_0  \\\n",
       "0                             NaN                        NaN   \n",
       "0                        0.106127                   0.970789   \n",
       "0                             NaN                        NaN   \n",
       "0                        0.243764                   0.921422   \n",
       "\n",
       "   perf_grp_selection rate_1  perf_grp_count_0  perf_grp_count_1  \n",
       "0                        NaN               NaN               NaN  \n",
       "0                   0.878979           20540.0           69170.0  \n",
       "0                        NaN               NaN               NaN  \n",
       "0                   0.699089           20540.0           69170.0  \n",
       "\n",
       "[4 rows x 50 columns]"
      ]
     },
     "execution_count": 64,
     "metadata": {},
     "output_type": "execute_result"
    }
   ],
   "source": [
    "final_output = universe_analysis.generate_final_output(\n",
    "    y_pred_prob=probs_test,\n",
    "    y_test=y_true,\n",
    "    org_test=org_test,\n",
    "    filter_data=filter_sub_universe_data,\n",
    "    cp_metrics_df=cp_metrics_df,\n",
    "    save=True,\n",
    ")\n",
    "final_output"
   ]
  },
  {
   "cell_type": "code",
   "execution_count": null,
   "id": "8b80a1ff",
   "metadata": {
    "papermill": {
     "duration": 0.014365,
     "end_time": "2025-08-19T19:13:01.688442",
     "exception": false,
     "start_time": "2025-08-19T19:13:01.674077",
     "status": "completed"
    },
    "tags": []
   },
   "outputs": [],
   "source": []
  },
  {
   "cell_type": "code",
   "execution_count": null,
   "id": "275c9fad",
   "metadata": {
    "papermill": {
     "duration": 0.014023,
     "end_time": "2025-08-19T19:13:01.716682",
     "exception": false,
     "start_time": "2025-08-19T19:13:01.702659",
     "status": "completed"
    },
    "tags": []
   },
   "outputs": [],
   "source": []
  }
 ],
 "metadata": {
  "celltoolbar": "Tags",
  "kernelspec": {
   "display_name": "Python (CMA Fairness)",
   "language": "python",
   "name": "cma_fair_env"
  },
  "language_info": {
   "codemirror_mode": {
    "name": "ipython",
    "version": 3
   },
   "file_extension": ".py",
   "mimetype": "text/x-python",
   "name": "python",
   "nbconvert_exporter": "python",
   "pygments_lexer": "ipython3",
   "version": "3.10.12"
  },
  "papermill": {
   "default_parameters": {},
   "duration": 31.579599,
   "end_time": "2025-08-19T19:13:02.557741",
   "environment_variables": {},
   "exception": null,
   "input_path": "universe_analysis.ipynb",
   "output_path": "output/runs/3/notebooks/m_3-1626535c6705231328d76d3fa1fd1264.ipynb",
   "parameters": {
    "output_dir": "output",
    "run_no": "3",
    "seed": "2023",
    "universe": "{\"cutoff\": [\"quantile_0.1\", \"quantile_0.25\"], \"eval_fairness_grouping\": [\"majority-minority\", \"nationality-all\"], \"exclude_features\": \"age\", \"exclude_subgroups\": \"drop-non-german\", \"model\": \"elasticnet\", \"scale\": \"do-not-scale\", \"training_size\": \"1k\", \"training_year\": \"2010_14\"}",
    "universe_id": "1626535c6705231328d76d3fa1fd1264"
   },
   "start_time": "2025-08-19T19:12:30.978142",
   "version": "2.6.0"
  }
 },
 "nbformat": 4,
 "nbformat_minor": 5
}