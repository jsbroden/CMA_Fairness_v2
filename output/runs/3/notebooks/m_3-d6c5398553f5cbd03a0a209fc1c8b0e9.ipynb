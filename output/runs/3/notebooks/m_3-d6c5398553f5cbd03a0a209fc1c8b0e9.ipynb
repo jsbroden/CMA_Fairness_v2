{
 "cells": [
  {
   "cell_type": "markdown",
   "id": "ef23dbb3",
   "metadata": {
    "papermill": {
     "duration": 0.014671,
     "end_time": "2025-08-19T18:29:01.278859",
     "exception": false,
     "start_time": "2025-08-19T18:29:01.264188",
     "status": "completed"
    },
    "tags": []
   },
   "source": [
    "# Setup"
   ]
  },
  {
   "cell_type": "code",
   "execution_count": 1,
   "id": "0bc8e7dc",
   "metadata": {
    "execution": {
     "iopub.execute_input": "2025-08-19T18:29:01.299994Z",
     "iopub.status.busy": "2025-08-19T18:29:01.299536Z",
     "iopub.status.idle": "2025-08-19T18:29:01.312635Z",
     "shell.execute_reply": "2025-08-19T18:29:01.311414Z"
    },
    "papermill": {
     "duration": 0.024698,
     "end_time": "2025-08-19T18:29:01.314132",
     "exception": false,
     "start_time": "2025-08-19T18:29:01.289434",
     "status": "completed"
    },
    "tags": []
   },
   "outputs": [
    {
     "name": "stdout",
     "output_type": "stream",
     "text": [
      "/dss/dsshome1/0C/ra93lal2/cma/CMA_Fairness_v2\n"
     ]
    },
    {
     "name": "stderr",
     "output_type": "stream",
     "text": [
      "/dss/dsshome1/0C/ra93lal2/.local/share/virtualenvs/CMA_Fairness_v2-3j10GkSs/lib/python3.10/site-packages/IPython/core/magics/osm.py:393: UserWarning: This is now an optional IPython functionality, using bookmarks requires you to install the `pickleshare` library.\n",
      "  bkms = self.shell.db.get('bookmarks', {})\n",
      "/dss/dsshome1/0C/ra93lal2/.local/share/virtualenvs/CMA_Fairness_v2-3j10GkSs/lib/python3.10/site-packages/IPython/core/magics/osm.py:417: UserWarning: This is now an optional IPython functionality, setting dhist requires you to install the `pickleshare` library.\n",
      "  self.shell.db['dhist'] = compress_dhist(dhist)[-100:]\n"
     ]
    }
   ],
   "source": [
    "%cd ~/cma/CMA_Fairness_v2"
   ]
  },
  {
   "cell_type": "markdown",
   "id": "9d235661",
   "metadata": {
    "papermill": {
     "duration": 0.015073,
     "end_time": "2025-08-19T18:29:01.344264",
     "exception": false,
     "start_time": "2025-08-19T18:29:01.329191",
     "status": "completed"
    },
    "tags": []
   },
   "source": [
    "The following cell holds the definition of our parameters, these values can be overriden by rendering the with e.g. the following command:\n",
    "\n",
    "papermill -p alpha 0.2 -p ratio 0.3 universe_analysis.ipynb output/test_run.ipynb"
   ]
  },
  {
   "cell_type": "code",
   "execution_count": 2,
   "id": "4a789d8e",
   "metadata": {
    "execution": {
     "iopub.execute_input": "2025-08-19T18:29:01.366135Z",
     "iopub.status.busy": "2025-08-19T18:29:01.365707Z",
     "iopub.status.idle": "2025-08-19T18:29:01.371766Z",
     "shell.execute_reply": "2025-08-19T18:29:01.370857Z"
    },
    "papermill": {
     "duration": 0.018168,
     "end_time": "2025-08-19T18:29:01.373392",
     "exception": false,
     "start_time": "2025-08-19T18:29:01.355224",
     "status": "completed"
    },
    "tags": []
   },
   "outputs": [
    {
     "name": "stdout",
     "output_type": "stream",
     "text": [
      "Current working directory: /dss/dsshome1/0C/ra93lal2/cma/CMA_Fairness_v2\n"
     ]
    }
   ],
   "source": [
    "import os\n",
    "print(\"Current working directory:\", os.getcwd())"
   ]
  },
  {
   "cell_type": "code",
   "execution_count": 3,
   "id": "4132aaed",
   "metadata": {
    "execution": {
     "iopub.execute_input": "2025-08-19T18:29:01.393270Z",
     "iopub.status.busy": "2025-08-19T18:29:01.392923Z",
     "iopub.status.idle": "2025-08-19T18:29:01.398176Z",
     "shell.execute_reply": "2025-08-19T18:29:01.397332Z"
    },
    "papermill": {
     "duration": 0.016916,
     "end_time": "2025-08-19T18:29:01.399593",
     "exception": false,
     "start_time": "2025-08-19T18:29:01.382677",
     "status": "completed"
    },
    "tags": [
     "parameters"
    ]
   },
   "outputs": [],
   "source": [
    "run_no = 0\n",
    "universe_id = \"test\"\n",
    "universe = {\n",
    "    \"training_size\": \"5k\", # \"25k\", \"5k\", \"1k\"\n",
    "    \"training_year\": \"2012_14\", # \"2014\", \"2012_14\", \"2010_14\"\n",
    "    \"scale\": \"scale\", # \"scale\", \"do-not-scale\",\n",
    "    \"model\": \"elasticnet\", # \"logreg\", \"penalized_logreg\", \"rf\", \"gbm\", \"elasticnet\"\n",
    "    \"cutoff\": [\"quantile_0.15\", \"quantile_0.30\"],\n",
    "    \"exclude_features\": \"age\", # \"none\", \"nationality\", \"sex\", \"nationality-sex\", \"age\"\n",
    "    \"exclude_subgroups\": \"drop-non-german\", # \"keep-all\", \"drop-non-german\"\n",
    "    \"eval_fairness_grouping\": [\"majority-minority\", \"nationality-all\"]\n",
    "}\n",
    "\n",
    "output_dir=\"./output\"\n",
    "seed=0"
   ]
  },
  {
   "cell_type": "code",
   "execution_count": 4,
   "id": "ecf42d44",
   "metadata": {
    "execution": {
     "iopub.execute_input": "2025-08-19T18:29:01.418873Z",
     "iopub.status.busy": "2025-08-19T18:29:01.418505Z",
     "iopub.status.idle": "2025-08-19T18:29:01.423055Z",
     "shell.execute_reply": "2025-08-19T18:29:01.422187Z"
    },
    "papermill": {
     "duration": 0.015777,
     "end_time": "2025-08-19T18:29:01.424445",
     "exception": false,
     "start_time": "2025-08-19T18:29:01.408668",
     "status": "completed"
    },
    "tags": [
     "injected-parameters"
    ]
   },
   "outputs": [],
   "source": [
    "# Parameters\n",
    "universe_id = \"d6c5398553f5cbd03a0a209fc1c8b0e9\"\n",
    "run_no = \"3\"\n",
    "universe = \"{\\\"cutoff\\\": [\\\"quantile_0.1\\\", \\\"quantile_0.25\\\"], \\\"eval_fairness_grouping\\\": [\\\"majority-minority\\\", \\\"nationality-all\\\"], \\\"exclude_features\\\": \\\"age\\\", \\\"exclude_subgroups\\\": \\\"keep-all\\\", \\\"model\\\": \\\"rf\\\", \\\"scale\\\": \\\"do-not-scale\\\", \\\"training_size\\\": \\\"5k\\\", \\\"training_year\\\": \\\"2014\\\"}\"\n",
    "output_dir = \"output\"\n",
    "seed = \"2023\"\n"
   ]
  },
  {
   "cell_type": "code",
   "execution_count": 5,
   "id": "a5d7941f",
   "metadata": {
    "execution": {
     "iopub.execute_input": "2025-08-19T18:29:01.444522Z",
     "iopub.status.busy": "2025-08-19T18:29:01.443935Z",
     "iopub.status.idle": "2025-08-19T18:29:01.448351Z",
     "shell.execute_reply": "2025-08-19T18:29:01.447588Z"
    },
    "papermill": {
     "duration": 0.016326,
     "end_time": "2025-08-19T18:29:01.449817",
     "exception": false,
     "start_time": "2025-08-19T18:29:01.433491",
     "status": "completed"
    },
    "tags": []
   },
   "outputs": [],
   "source": [
    "import json\n",
    "if isinstance(universe, str):\n",
    "    universe = json.loads(universe)"
   ]
  },
  {
   "cell_type": "code",
   "execution_count": 6,
   "id": "7076ccb1",
   "metadata": {
    "execution": {
     "iopub.execute_input": "2025-08-19T18:29:01.472465Z",
     "iopub.status.busy": "2025-08-19T18:29:01.471641Z",
     "iopub.status.idle": "2025-08-19T18:29:01.510068Z",
     "shell.execute_reply": "2025-08-19T18:29:01.507556Z"
    },
    "papermill": {
     "duration": 0.052503,
     "end_time": "2025-08-19T18:29:01.511666",
     "exception": false,
     "start_time": "2025-08-19T18:29:01.459163",
     "status": "completed"
    },
    "tags": []
   },
   "outputs": [],
   "source": [
    "# Auto-reload the custom package\n",
    "%load_ext autoreload\n",
    "%autoreload 1\n",
    "%aimport fairness_multiverse"
   ]
  },
  {
   "cell_type": "code",
   "execution_count": 7,
   "id": "94c8eb93",
   "metadata": {
    "execution": {
     "iopub.execute_input": "2025-08-19T18:29:01.532391Z",
     "iopub.status.busy": "2025-08-19T18:29:01.531982Z",
     "iopub.status.idle": "2025-08-19T18:29:03.290654Z",
     "shell.execute_reply": "2025-08-19T18:29:03.289007Z"
    },
    "papermill": {
     "duration": 1.771537,
     "end_time": "2025-08-19T18:29:03.293046",
     "exception": false,
     "start_time": "2025-08-19T18:29:01.521509",
     "status": "completed"
    },
    "tags": []
   },
   "outputs": [],
   "source": [
    "from fairness_multiverse.universe import UniverseAnalysis\n",
    "\n",
    "universe_analysis = UniverseAnalysis(\n",
    "    run_no = run_no,\n",
    "    universe_id = universe_id,\n",
    "    universe = universe,\n",
    "    output_dir=output_dir,\n",
    ")"
   ]
  },
  {
   "cell_type": "code",
   "execution_count": 8,
   "id": "2a6381cf",
   "metadata": {
    "execution": {
     "iopub.execute_input": "2025-08-19T18:29:03.321365Z",
     "iopub.status.busy": "2025-08-19T18:29:03.320722Z",
     "iopub.status.idle": "2025-08-19T18:29:03.330524Z",
     "shell.execute_reply": "2025-08-19T18:29:03.329284Z"
    },
    "papermill": {
     "duration": 0.036842,
     "end_time": "2025-08-19T18:29:03.341296",
     "exception": false,
     "start_time": "2025-08-19T18:29:03.304454",
     "status": "completed"
    },
    "tags": []
   },
   "outputs": [
    {
     "name": "stdout",
     "output_type": "stream",
     "text": [
      "Using Seed: 2023\n"
     ]
    }
   ],
   "source": [
    "import numpy as np\n",
    "parsed_seed = int(seed)\n",
    "np.random.seed(parsed_seed)\n",
    "print(f\"Using Seed: {parsed_seed}\")"
   ]
  },
  {
   "cell_type": "markdown",
   "id": "b6e958b4",
   "metadata": {
    "papermill": {
     "duration": 0.023679,
     "end_time": "2025-08-19T18:29:03.377403",
     "exception": false,
     "start_time": "2025-08-19T18:29:03.353724",
     "status": "completed"
    },
    "tags": []
   },
   "source": [
    "# Loading Data"
   ]
  },
  {
   "cell_type": "code",
   "execution_count": 9,
   "id": "98701482",
   "metadata": {
    "execution": {
     "iopub.execute_input": "2025-08-19T18:29:03.400215Z",
     "iopub.status.busy": "2025-08-19T18:29:03.399907Z",
     "iopub.status.idle": "2025-08-19T18:29:14.337600Z",
     "shell.execute_reply": "2025-08-19T18:29:14.335786Z"
    },
    "papermill": {
     "duration": 10.950249,
     "end_time": "2025-08-19T18:29:14.339455",
     "exception": false,
     "start_time": "2025-08-19T18:29:03.389206",
     "status": "completed"
    },
    "tags": []
   },
   "outputs": [
    {
     "name": "stdout",
     "output_type": "stream",
     "text": [
      "Loading SIAB data from cache: data/siab_cached.csv.gz\n"
     ]
    },
    {
     "name": "stdout",
     "output_type": "stream",
     "text": [
      "(643690, 164)\n"
     ]
    }
   ],
   "source": [
    "from pathlib import Path\n",
    "import pandas as pd\n",
    "\n",
    "# File paths\n",
    "raw_file = Path(\"data/raw/siab.csv\")\n",
    "cache_file = Path(\"data/siab_cached.csv.gz\")\n",
    "\n",
    "# Ensure cache directory exists\n",
    "cache_file.parent.mkdir(parents=True, exist_ok=True)\n",
    "\n",
    "# Load with simple caching\n",
    "if cache_file.exists():\n",
    "    print(f\"Loading SIAB data from cache: {cache_file}\")\n",
    "    siab = pd.read_csv(cache_file, compression='gzip')\n",
    "else:\n",
    "    print(f\"Cache not found. Reading raw SIAB data: {raw_file}\")\n",
    "    siab = pd.read_csv(raw_file)\n",
    "    siab.to_csv(cache_file, index=False, compression='gzip')\n",
    "    print(f\"Cached SIAB data to: {cache_file}\")\n",
    "\n",
    "print(siab.shape)"
   ]
  },
  {
   "cell_type": "code",
   "execution_count": 10,
   "id": "058d2abb",
   "metadata": {
    "execution": {
     "iopub.execute_input": "2025-08-19T18:29:14.367601Z",
     "iopub.status.busy": "2025-08-19T18:29:14.365974Z",
     "iopub.status.idle": "2025-08-19T18:29:14.702857Z",
     "shell.execute_reply": "2025-08-19T18:29:14.702101Z"
    },
    "papermill": {
     "duration": 0.353045,
     "end_time": "2025-08-19T18:29:14.705271",
     "exception": false,
     "start_time": "2025-08-19T18:29:14.352226",
     "status": "completed"
    },
    "tags": []
   },
   "outputs": [
    {
     "data": {
      "text/html": [
       "<div>\n",
       "<style scoped>\n",
       "    .dataframe tbody tr th:only-of-type {\n",
       "        vertical-align: middle;\n",
       "    }\n",
       "\n",
       "    .dataframe tbody tr th {\n",
       "        vertical-align: top;\n",
       "    }\n",
       "\n",
       "    .dataframe thead th {\n",
       "        text-align: right;\n",
       "    }\n",
       "</style>\n",
       "<table border=\"1\" class=\"dataframe\">\n",
       "  <thead>\n",
       "    <tr style=\"text-align: right;\">\n",
       "      <th></th>\n",
       "      <th>persnr</th>\n",
       "      <th>year</th>\n",
       "      <th>nrEntry</th>\n",
       "      <th>ltue</th>\n",
       "      <th>employed_before</th>\n",
       "      <th>receipt_leh_before</th>\n",
       "      <th>receipt_lhg_before</th>\n",
       "      <th>se_before</th>\n",
       "      <th>ASU_notue_seeking_before</th>\n",
       "      <th>ASU_other_before</th>\n",
       "      <th>...</th>\n",
       "      <th>minijob_tot_dur_byage</th>\n",
       "      <th>ft_tot_dur_byage</th>\n",
       "      <th>befrist_tot_dur_byage</th>\n",
       "      <th>leih_tot_dur_byage</th>\n",
       "      <th>LHG_tot_dur_byage</th>\n",
       "      <th>LEH_tot_dur_byage</th>\n",
       "      <th>almp_tot_dur_byage</th>\n",
       "      <th>almp_aw_tot_dur_byage</th>\n",
       "      <th>se_tot_dur_byage</th>\n",
       "      <th>seeking1_tot_dur_byage</th>\n",
       "    </tr>\n",
       "  </thead>\n",
       "  <tbody>\n",
       "    <tr>\n",
       "      <th>0</th>\n",
       "      <td>7</td>\n",
       "      <td>2015</td>\n",
       "      <td>1</td>\n",
       "      <td>0</td>\n",
       "      <td>1</td>\n",
       "      <td>0</td>\n",
       "      <td>0</td>\n",
       "      <td>0</td>\n",
       "      <td>1</td>\n",
       "      <td>0</td>\n",
       "      <td>...</td>\n",
       "      <td>0.000000</td>\n",
       "      <td>0.000000</td>\n",
       "      <td>15.043478</td>\n",
       "      <td>0.000000</td>\n",
       "      <td>0.000000</td>\n",
       "      <td>0.000000</td>\n",
       "      <td>0.000000</td>\n",
       "      <td>0.000000</td>\n",
       "      <td>0.000000</td>\n",
       "      <td>0.000000</td>\n",
       "    </tr>\n",
       "    <tr>\n",
       "      <th>1</th>\n",
       "      <td>18</td>\n",
       "      <td>2010</td>\n",
       "      <td>1</td>\n",
       "      <td>1</td>\n",
       "      <td>0</td>\n",
       "      <td>0</td>\n",
       "      <td>0</td>\n",
       "      <td>0</td>\n",
       "      <td>0</td>\n",
       "      <td>0</td>\n",
       "      <td>...</td>\n",
       "      <td>0.000000</td>\n",
       "      <td>0.000000</td>\n",
       "      <td>0.000000</td>\n",
       "      <td>0.000000</td>\n",
       "      <td>0.000000</td>\n",
       "      <td>0.000000</td>\n",
       "      <td>0.000000</td>\n",
       "      <td>0.000000</td>\n",
       "      <td>0.000000</td>\n",
       "      <td>0.000000</td>\n",
       "    </tr>\n",
       "    <tr>\n",
       "      <th>2</th>\n",
       "      <td>18</td>\n",
       "      <td>2011</td>\n",
       "      <td>2</td>\n",
       "      <td>0</td>\n",
       "      <td>1</td>\n",
       "      <td>0</td>\n",
       "      <td>1</td>\n",
       "      <td>0</td>\n",
       "      <td>1</td>\n",
       "      <td>0</td>\n",
       "      <td>...</td>\n",
       "      <td>2.714286</td>\n",
       "      <td>2.714286</td>\n",
       "      <td>0.000000</td>\n",
       "      <td>0.000000</td>\n",
       "      <td>10.775510</td>\n",
       "      <td>0.000000</td>\n",
       "      <td>8.367347</td>\n",
       "      <td>0.000000</td>\n",
       "      <td>0.000000</td>\n",
       "      <td>9.836735</td>\n",
       "    </tr>\n",
       "    <tr>\n",
       "      <th>3</th>\n",
       "      <td>18</td>\n",
       "      <td>2012</td>\n",
       "      <td>3</td>\n",
       "      <td>0</td>\n",
       "      <td>1</td>\n",
       "      <td>0</td>\n",
       "      <td>1</td>\n",
       "      <td>0</td>\n",
       "      <td>1</td>\n",
       "      <td>0</td>\n",
       "      <td>...</td>\n",
       "      <td>4.200000</td>\n",
       "      <td>4.200000</td>\n",
       "      <td>0.000000</td>\n",
       "      <td>0.000000</td>\n",
       "      <td>12.100000</td>\n",
       "      <td>0.000000</td>\n",
       "      <td>9.400000</td>\n",
       "      <td>0.000000</td>\n",
       "      <td>0.000000</td>\n",
       "      <td>9.960000</td>\n",
       "    </tr>\n",
       "    <tr>\n",
       "      <th>4</th>\n",
       "      <td>18</td>\n",
       "      <td>2012</td>\n",
       "      <td>4</td>\n",
       "      <td>0</td>\n",
       "      <td>1</td>\n",
       "      <td>0</td>\n",
       "      <td>1</td>\n",
       "      <td>0</td>\n",
       "      <td>1</td>\n",
       "      <td>0</td>\n",
       "      <td>...</td>\n",
       "      <td>5.460000</td>\n",
       "      <td>5.460000</td>\n",
       "      <td>0.000000</td>\n",
       "      <td>0.000000</td>\n",
       "      <td>13.360000</td>\n",
       "      <td>0.000000</td>\n",
       "      <td>10.320000</td>\n",
       "      <td>0.000000</td>\n",
       "      <td>0.000000</td>\n",
       "      <td>10.280000</td>\n",
       "    </tr>\n",
       "    <tr>\n",
       "      <th>...</th>\n",
       "      <td>...</td>\n",
       "      <td>...</td>\n",
       "      <td>...</td>\n",
       "      <td>...</td>\n",
       "      <td>...</td>\n",
       "      <td>...</td>\n",
       "      <td>...</td>\n",
       "      <td>...</td>\n",
       "      <td>...</td>\n",
       "      <td>...</td>\n",
       "      <td>...</td>\n",
       "      <td>...</td>\n",
       "      <td>...</td>\n",
       "      <td>...</td>\n",
       "      <td>...</td>\n",
       "      <td>...</td>\n",
       "      <td>...</td>\n",
       "      <td>...</td>\n",
       "      <td>...</td>\n",
       "      <td>...</td>\n",
       "      <td>...</td>\n",
       "    </tr>\n",
       "    <tr>\n",
       "      <th>643685</th>\n",
       "      <td>1827860</td>\n",
       "      <td>2013</td>\n",
       "      <td>1</td>\n",
       "      <td>0</td>\n",
       "      <td>0</td>\n",
       "      <td>0</td>\n",
       "      <td>1</td>\n",
       "      <td>0</td>\n",
       "      <td>0</td>\n",
       "      <td>1</td>\n",
       "      <td>...</td>\n",
       "      <td>0.000000</td>\n",
       "      <td>0.000000</td>\n",
       "      <td>0.000000</td>\n",
       "      <td>0.000000</td>\n",
       "      <td>0.612903</td>\n",
       "      <td>0.000000</td>\n",
       "      <td>0.000000</td>\n",
       "      <td>0.000000</td>\n",
       "      <td>0.000000</td>\n",
       "      <td>0.000000</td>\n",
       "    </tr>\n",
       "    <tr>\n",
       "      <th>643686</th>\n",
       "      <td>1827860</td>\n",
       "      <td>2015</td>\n",
       "      <td>2</td>\n",
       "      <td>1</td>\n",
       "      <td>0</td>\n",
       "      <td>0</td>\n",
       "      <td>1</td>\n",
       "      <td>0</td>\n",
       "      <td>1</td>\n",
       "      <td>0</td>\n",
       "      <td>...</td>\n",
       "      <td>0.000000</td>\n",
       "      <td>0.000000</td>\n",
       "      <td>0.212121</td>\n",
       "      <td>0.212121</td>\n",
       "      <td>17.363636</td>\n",
       "      <td>0.000000</td>\n",
       "      <td>8.909091</td>\n",
       "      <td>0.000000</td>\n",
       "      <td>0.000000</td>\n",
       "      <td>7.121212</td>\n",
       "    </tr>\n",
       "    <tr>\n",
       "      <th>643687</th>\n",
       "      <td>1827860</td>\n",
       "      <td>2016</td>\n",
       "      <td>3</td>\n",
       "      <td>1</td>\n",
       "      <td>0</td>\n",
       "      <td>0</td>\n",
       "      <td>1</td>\n",
       "      <td>1</td>\n",
       "      <td>0</td>\n",
       "      <td>1</td>\n",
       "      <td>...</td>\n",
       "      <td>0.000000</td>\n",
       "      <td>0.000000</td>\n",
       "      <td>0.294118</td>\n",
       "      <td>0.205882</td>\n",
       "      <td>34.705882</td>\n",
       "      <td>0.000000</td>\n",
       "      <td>10.352941</td>\n",
       "      <td>1.705882</td>\n",
       "      <td>1.705882</td>\n",
       "      <td>23.911765</td>\n",
       "    </tr>\n",
       "    <tr>\n",
       "      <th>643688</th>\n",
       "      <td>1827869</td>\n",
       "      <td>2013</td>\n",
       "      <td>1</td>\n",
       "      <td>1</td>\n",
       "      <td>1</td>\n",
       "      <td>0</td>\n",
       "      <td>0</td>\n",
       "      <td>0</td>\n",
       "      <td>1</td>\n",
       "      <td>0</td>\n",
       "      <td>...</td>\n",
       "      <td>0.000000</td>\n",
       "      <td>0.000000</td>\n",
       "      <td>0.000000</td>\n",
       "      <td>0.000000</td>\n",
       "      <td>0.000000</td>\n",
       "      <td>0.525424</td>\n",
       "      <td>0.000000</td>\n",
       "      <td>0.000000</td>\n",
       "      <td>0.000000</td>\n",
       "      <td>0.000000</td>\n",
       "    </tr>\n",
       "    <tr>\n",
       "      <th>643689</th>\n",
       "      <td>1827869</td>\n",
       "      <td>2014</td>\n",
       "      <td>2</td>\n",
       "      <td>0</td>\n",
       "      <td>0</td>\n",
       "      <td>1</td>\n",
       "      <td>0</td>\n",
       "      <td>0</td>\n",
       "      <td>1</td>\n",
       "      <td>0</td>\n",
       "      <td>...</td>\n",
       "      <td>0.000000</td>\n",
       "      <td>0.666667</td>\n",
       "      <td>0.666667</td>\n",
       "      <td>0.000000</td>\n",
       "      <td>0.000000</td>\n",
       "      <td>8.950000</td>\n",
       "      <td>1.033333</td>\n",
       "      <td>0.083333</td>\n",
       "      <td>0.083333</td>\n",
       "      <td>8.133333</td>\n",
       "    </tr>\n",
       "  </tbody>\n",
       "</table>\n",
       "<p>643690 rows × 164 columns</p>\n",
       "</div>"
      ],
      "text/plain": [
       "         persnr  year  nrEntry  ltue  employed_before  receipt_leh_before  \\\n",
       "0             7  2015        1     0                1                   0   \n",
       "1            18  2010        1     1                0                   0   \n",
       "2            18  2011        2     0                1                   0   \n",
       "3            18  2012        3     0                1                   0   \n",
       "4            18  2012        4     0                1                   0   \n",
       "...         ...   ...      ...   ...              ...                 ...   \n",
       "643685  1827860  2013        1     0                0                   0   \n",
       "643686  1827860  2015        2     1                0                   0   \n",
       "643687  1827860  2016        3     1                0                   0   \n",
       "643688  1827869  2013        1     1                1                   0   \n",
       "643689  1827869  2014        2     0                0                   1   \n",
       "\n",
       "        receipt_lhg_before  se_before  ASU_notue_seeking_before  \\\n",
       "0                        0          0                         1   \n",
       "1                        0          0                         0   \n",
       "2                        1          0                         1   \n",
       "3                        1          0                         1   \n",
       "4                        1          0                         1   \n",
       "...                    ...        ...                       ...   \n",
       "643685                   1          0                         0   \n",
       "643686                   1          0                         1   \n",
       "643687                   1          1                         0   \n",
       "643688                   0          0                         1   \n",
       "643689                   0          0                         1   \n",
       "\n",
       "        ASU_other_before  ...  minijob_tot_dur_byage  ft_tot_dur_byage  \\\n",
       "0                      0  ...               0.000000          0.000000   \n",
       "1                      0  ...               0.000000          0.000000   \n",
       "2                      0  ...               2.714286          2.714286   \n",
       "3                      0  ...               4.200000          4.200000   \n",
       "4                      0  ...               5.460000          5.460000   \n",
       "...                  ...  ...                    ...               ...   \n",
       "643685                 1  ...               0.000000          0.000000   \n",
       "643686                 0  ...               0.000000          0.000000   \n",
       "643687                 1  ...               0.000000          0.000000   \n",
       "643688                 0  ...               0.000000          0.000000   \n",
       "643689                 0  ...               0.000000          0.666667   \n",
       "\n",
       "        befrist_tot_dur_byage  leih_tot_dur_byage  LHG_tot_dur_byage  \\\n",
       "0                   15.043478            0.000000           0.000000   \n",
       "1                    0.000000            0.000000           0.000000   \n",
       "2                    0.000000            0.000000          10.775510   \n",
       "3                    0.000000            0.000000          12.100000   \n",
       "4                    0.000000            0.000000          13.360000   \n",
       "...                       ...                 ...                ...   \n",
       "643685               0.000000            0.000000           0.612903   \n",
       "643686               0.212121            0.212121          17.363636   \n",
       "643687               0.294118            0.205882          34.705882   \n",
       "643688               0.000000            0.000000           0.000000   \n",
       "643689               0.666667            0.000000           0.000000   \n",
       "\n",
       "        LEH_tot_dur_byage  almp_tot_dur_byage  almp_aw_tot_dur_byage  \\\n",
       "0                0.000000            0.000000               0.000000   \n",
       "1                0.000000            0.000000               0.000000   \n",
       "2                0.000000            8.367347               0.000000   \n",
       "3                0.000000            9.400000               0.000000   \n",
       "4                0.000000           10.320000               0.000000   \n",
       "...                   ...                 ...                    ...   \n",
       "643685           0.000000            0.000000               0.000000   \n",
       "643686           0.000000            8.909091               0.000000   \n",
       "643687           0.000000           10.352941               1.705882   \n",
       "643688           0.525424            0.000000               0.000000   \n",
       "643689           8.950000            1.033333               0.083333   \n",
       "\n",
       "        se_tot_dur_byage  seeking1_tot_dur_byage  \n",
       "0               0.000000                0.000000  \n",
       "1               0.000000                0.000000  \n",
       "2               0.000000                9.836735  \n",
       "3               0.000000                9.960000  \n",
       "4               0.000000               10.280000  \n",
       "...                  ...                     ...  \n",
       "643685          0.000000                0.000000  \n",
       "643686          0.000000                7.121212  \n",
       "643687          1.705882               23.911765  \n",
       "643688          0.000000                0.000000  \n",
       "643689          0.083333                8.133333  \n",
       "\n",
       "[643690 rows x 164 columns]"
      ]
     },
     "execution_count": 10,
     "metadata": {},
     "output_type": "execute_result"
    }
   ],
   "source": [
    "siab"
   ]
  },
  {
   "cell_type": "markdown",
   "id": "1f87e805",
   "metadata": {
    "papermill": {
     "duration": 0.013077,
     "end_time": "2025-08-19T18:29:14.744093",
     "exception": false,
     "start_time": "2025-08-19T18:29:14.731016",
     "status": "completed"
    },
    "tags": []
   },
   "source": [
    "# Splitting Data and Setting Training Data Size"
   ]
  },
  {
   "cell_type": "code",
   "execution_count": 11,
   "id": "910ae358",
   "metadata": {
    "execution": {
     "iopub.execute_input": "2025-08-19T18:29:14.767427Z",
     "iopub.status.busy": "2025-08-19T18:29:14.766169Z",
     "iopub.status.idle": "2025-08-19T18:29:15.229210Z",
     "shell.execute_reply": "2025-08-19T18:29:15.226511Z"
    },
    "papermill": {
     "duration": 0.477632,
     "end_time": "2025-08-19T18:29:15.232015",
     "exception": false,
     "start_time": "2025-08-19T18:29:14.754383",
     "status": "completed"
    },
    "tags": []
   },
   "outputs": [],
   "source": [
    "from fairness_multiverse.universe import sample_by_year_size\n",
    "\n",
    "siab_train = sample_by_year_size(siab,\n",
    "                               training_year=universe[\"training_year\"],\n",
    "                               training_size=universe[\"training_size\"])"
   ]
  },
  {
   "cell_type": "code",
   "execution_count": 12,
   "id": "919c8ff5",
   "metadata": {
    "execution": {
     "iopub.execute_input": "2025-08-19T18:29:15.257646Z",
     "iopub.status.busy": "2025-08-19T18:29:15.256336Z",
     "iopub.status.idle": "2025-08-19T18:29:15.267250Z",
     "shell.execute_reply": "2025-08-19T18:29:15.266078Z"
    },
    "papermill": {
     "duration": 0.025936,
     "end_time": "2025-08-19T18:29:15.268666",
     "exception": false,
     "start_time": "2025-08-19T18:29:15.242730",
     "status": "completed"
    },
    "tags": []
   },
   "outputs": [
    {
     "data": {
      "text/plain": [
       "(5000, 164)"
      ]
     },
     "execution_count": 12,
     "metadata": {},
     "output_type": "execute_result"
    }
   ],
   "source": [
    "siab_train.shape"
   ]
  },
  {
   "cell_type": "code",
   "execution_count": 13,
   "id": "feb13bf4",
   "metadata": {
    "execution": {
     "iopub.execute_input": "2025-08-19T18:29:15.295218Z",
     "iopub.status.busy": "2025-08-19T18:29:15.293766Z",
     "iopub.status.idle": "2025-08-19T18:29:15.309948Z",
     "shell.execute_reply": "2025-08-19T18:29:15.308973Z"
    },
    "papermill": {
     "duration": 0.0305,
     "end_time": "2025-08-19T18:29:15.311460",
     "exception": false,
     "start_time": "2025-08-19T18:29:15.280960",
     "status": "completed"
    },
    "tags": []
   },
   "outputs": [
    {
     "data": {
      "text/plain": [
       "year\n",
       "2014    5000\n",
       "dtype: int64"
      ]
     },
     "metadata": {},
     "output_type": "display_data"
    }
   ],
   "source": [
    "display(siab_train.groupby(\"year\").size())"
   ]
  },
  {
   "cell_type": "code",
   "execution_count": 14,
   "id": "0997782f",
   "metadata": {
    "execution": {
     "iopub.execute_input": "2025-08-19T18:29:15.343280Z",
     "iopub.status.busy": "2025-08-19T18:29:15.342022Z",
     "iopub.status.idle": "2025-08-19T18:29:15.671659Z",
     "shell.execute_reply": "2025-08-19T18:29:15.670837Z"
    },
    "papermill": {
     "duration": 0.346608,
     "end_time": "2025-08-19T18:29:15.673945",
     "exception": false,
     "start_time": "2025-08-19T18:29:15.327337",
     "status": "completed"
    },
    "tags": []
   },
   "outputs": [],
   "source": [
    "#siab_train = siab_s[siab_s.year < 2015]\n",
    "siab_calib = siab[siab.year == 2015]\n",
    "siab_test = siab[siab.year == 2016]"
   ]
  },
  {
   "cell_type": "code",
   "execution_count": 15,
   "id": "2c1e4012",
   "metadata": {
    "execution": {
     "iopub.execute_input": "2025-08-19T18:29:15.725372Z",
     "iopub.status.busy": "2025-08-19T18:29:15.715901Z",
     "iopub.status.idle": "2025-08-19T18:29:15.730533Z",
     "shell.execute_reply": "2025-08-19T18:29:15.729457Z"
    },
    "papermill": {
     "duration": 0.034717,
     "end_time": "2025-08-19T18:29:15.732526",
     "exception": false,
     "start_time": "2025-08-19T18:29:15.697809",
     "status": "completed"
    },
    "tags": []
   },
   "outputs": [],
   "source": [
    "#siab_calib.shape"
   ]
  },
  {
   "cell_type": "code",
   "execution_count": 16,
   "id": "f66b54ca",
   "metadata": {
    "execution": {
     "iopub.execute_input": "2025-08-19T18:29:15.766527Z",
     "iopub.status.busy": "2025-08-19T18:29:15.765229Z",
     "iopub.status.idle": "2025-08-19T18:29:15.773247Z",
     "shell.execute_reply": "2025-08-19T18:29:15.771848Z"
    },
    "papermill": {
     "duration": 0.023958,
     "end_time": "2025-08-19T18:29:15.774770",
     "exception": false,
     "start_time": "2025-08-19T18:29:15.750812",
     "status": "completed"
    },
    "tags": []
   },
   "outputs": [],
   "source": [
    "#siab_test.shape"
   ]
  },
  {
   "cell_type": "code",
   "execution_count": 17,
   "id": "27e4384d",
   "metadata": {
    "execution": {
     "iopub.execute_input": "2025-08-19T18:29:15.802355Z",
     "iopub.status.busy": "2025-08-19T18:29:15.801018Z",
     "iopub.status.idle": "2025-08-19T18:29:15.826612Z",
     "shell.execute_reply": "2025-08-19T18:29:15.824667Z"
    },
    "papermill": {
     "duration": 0.040751,
     "end_time": "2025-08-19T18:29:15.829138",
     "exception": false,
     "start_time": "2025-08-19T18:29:15.788387",
     "status": "completed"
    },
    "tags": []
   },
   "outputs": [],
   "source": [
    "X_train = siab_train.iloc[:,4:164]\n",
    "y_train = siab_train.iloc[:, [3]]"
   ]
  },
  {
   "cell_type": "code",
   "execution_count": 18,
   "id": "08ee8389",
   "metadata": {
    "execution": {
     "iopub.execute_input": "2025-08-19T18:29:15.865709Z",
     "iopub.status.busy": "2025-08-19T18:29:15.864088Z",
     "iopub.status.idle": "2025-08-19T18:29:15.940244Z",
     "shell.execute_reply": "2025-08-19T18:29:15.939281Z"
    },
    "papermill": {
     "duration": 0.093379,
     "end_time": "2025-08-19T18:29:15.943603",
     "exception": false,
     "start_time": "2025-08-19T18:29:15.850224",
     "status": "completed"
    },
    "tags": []
   },
   "outputs": [],
   "source": [
    "X_calib = siab_calib.iloc[:,4:164]\n",
    "y_calib = siab_calib.iloc[:, [3]]"
   ]
  },
  {
   "cell_type": "code",
   "execution_count": 19,
   "id": "b7ff42e0",
   "metadata": {
    "execution": {
     "iopub.execute_input": "2025-08-19T18:29:15.986553Z",
     "iopub.status.busy": "2025-08-19T18:29:15.984688Z",
     "iopub.status.idle": "2025-08-19T18:29:16.066160Z",
     "shell.execute_reply": "2025-08-19T18:29:16.064875Z"
    },
    "papermill": {
     "duration": 0.101099,
     "end_time": "2025-08-19T18:29:16.068582",
     "exception": false,
     "start_time": "2025-08-19T18:29:15.967483",
     "status": "completed"
    },
    "tags": []
   },
   "outputs": [],
   "source": [
    "X_test = siab_test.iloc[:,4:164]\n",
    "y_true = siab_test.iloc[:, [3]]"
   ]
  },
  {
   "cell_type": "code",
   "execution_count": 20,
   "id": "0275101e",
   "metadata": {
    "execution": {
     "iopub.execute_input": "2025-08-19T18:29:16.106199Z",
     "iopub.status.busy": "2025-08-19T18:29:16.105128Z",
     "iopub.status.idle": "2025-08-19T18:29:16.230448Z",
     "shell.execute_reply": "2025-08-19T18:29:16.229605Z"
    },
    "papermill": {
     "duration": 0.143852,
     "end_time": "2025-08-19T18:29:16.232197",
     "exception": false,
     "start_time": "2025-08-19T18:29:16.088345",
     "status": "completed"
    },
    "tags": []
   },
   "outputs": [],
   "source": [
    "# Auxiliary data needed downstream in the pipeline\n",
    "\n",
    "org_train = X_train.copy()\n",
    "org_test = X_test.copy()\n",
    "org_calib = X_calib.copy()"
   ]
  },
  {
   "cell_type": "markdown",
   "id": "b461e618",
   "metadata": {
    "papermill": {
     "duration": 0.013847,
     "end_time": "2025-08-19T18:29:16.270431",
     "exception": false,
     "start_time": "2025-08-19T18:29:16.256584",
     "status": "completed"
    },
    "tags": []
   },
   "source": [
    "# Preprocessing Data"
   ]
  },
  {
   "cell_type": "code",
   "execution_count": 21,
   "id": "78e74c4b",
   "metadata": {
    "execution": {
     "iopub.execute_input": "2025-08-19T18:29:16.312136Z",
     "iopub.status.busy": "2025-08-19T18:29:16.311663Z",
     "iopub.status.idle": "2025-08-19T18:29:16.317403Z",
     "shell.execute_reply": "2025-08-19T18:29:16.316380Z"
    },
    "papermill": {
     "duration": 0.021129,
     "end_time": "2025-08-19T18:29:16.320981",
     "exception": false,
     "start_time": "2025-08-19T18:29:16.299852",
     "status": "completed"
    },
    "tags": []
   },
   "outputs": [],
   "source": [
    "# EXCLUDE PROTECTED FEATURES\n",
    "# --------------------------\n",
    "\n",
    "excluded_features = universe[\"exclude_features\"].split(\"-\")\n",
    "excluded_features_dictionary = {\n",
    "    \"nationality\": [\"maxdeutsch1\", \"maxdeutsch.Missing.\"],\n",
    "    \"sex\": [\"frau1\"],\n",
    "    \"age\": [\"age\"],\n",
    "}"
   ]
  },
  {
   "cell_type": "code",
   "execution_count": 22,
   "id": "f8e63555",
   "metadata": {
    "execution": {
     "iopub.execute_input": "2025-08-19T18:29:16.360333Z",
     "iopub.status.busy": "2025-08-19T18:29:16.358949Z",
     "iopub.status.idle": "2025-08-19T18:29:16.365853Z",
     "shell.execute_reply": "2025-08-19T18:29:16.364703Z"
    },
    "papermill": {
     "duration": 0.032462,
     "end_time": "2025-08-19T18:29:16.371722",
     "exception": false,
     "start_time": "2025-08-19T18:29:16.339260",
     "status": "completed"
    },
    "tags": []
   },
   "outputs": [],
   "source": [
    "excluded_features_columns = [\n",
    "    excluded_features_dictionary[f] for f in excluded_features if len(f) > 0 and f != \"none\"\n",
    "]"
   ]
  },
  {
   "cell_type": "code",
   "execution_count": 23,
   "id": "da781f7c",
   "metadata": {
    "execution": {
     "iopub.execute_input": "2025-08-19T18:29:16.405571Z",
     "iopub.status.busy": "2025-08-19T18:29:16.404112Z",
     "iopub.status.idle": "2025-08-19T18:29:16.413415Z",
     "shell.execute_reply": "2025-08-19T18:29:16.411728Z"
    },
    "papermill": {
     "duration": 0.024139,
     "end_time": "2025-08-19T18:29:16.415038",
     "exception": false,
     "start_time": "2025-08-19T18:29:16.390899",
     "status": "completed"
    },
    "tags": []
   },
   "outputs": [],
   "source": [
    "from fairness_multiverse.universe import flatten_once\n",
    "\n",
    "excluded_features_columns = flatten_once(excluded_features_columns)"
   ]
  },
  {
   "cell_type": "code",
   "execution_count": 24,
   "id": "37fef0f0",
   "metadata": {
    "execution": {
     "iopub.execute_input": "2025-08-19T18:29:16.449179Z",
     "iopub.status.busy": "2025-08-19T18:29:16.447348Z",
     "iopub.status.idle": "2025-08-19T18:29:16.473263Z",
     "shell.execute_reply": "2025-08-19T18:29:16.472379Z"
    },
    "papermill": {
     "duration": 0.040299,
     "end_time": "2025-08-19T18:29:16.474577",
     "exception": false,
     "start_time": "2025-08-19T18:29:16.434278",
     "status": "completed"
    },
    "tags": []
   },
   "outputs": [
    {
     "name": "stdout",
     "output_type": "stream",
     "text": [
      "Dropping features: ['age']\n"
     ]
    }
   ],
   "source": [
    "if len(excluded_features_columns) > 0:\n",
    "    print(f\"Dropping features: {excluded_features_columns}\")\n",
    "    X_train.drop(excluded_features_columns, axis=1, inplace=True)"
   ]
  },
  {
   "cell_type": "code",
   "execution_count": 25,
   "id": "d029e3e9",
   "metadata": {
    "execution": {
     "iopub.execute_input": "2025-08-19T18:29:16.508874Z",
     "iopub.status.busy": "2025-08-19T18:29:16.507290Z",
     "iopub.status.idle": "2025-08-19T18:29:16.595615Z",
     "shell.execute_reply": "2025-08-19T18:29:16.594803Z"
    },
    "papermill": {
     "duration": 0.108335,
     "end_time": "2025-08-19T18:29:16.597047",
     "exception": false,
     "start_time": "2025-08-19T18:29:16.488712",
     "status": "completed"
    },
    "tags": []
   },
   "outputs": [
    {
     "name": "stdout",
     "output_type": "stream",
     "text": [
      "Dropping features: ['age']\n"
     ]
    }
   ],
   "source": [
    "if len(excluded_features_columns) > 0:\n",
    "    print(f\"Dropping features: {excluded_features_columns}\")\n",
    "    X_test.drop(excluded_features_columns, axis=1, inplace=True)"
   ]
  },
  {
   "cell_type": "code",
   "execution_count": 26,
   "id": "01d571f0",
   "metadata": {
    "execution": {
     "iopub.execute_input": "2025-08-19T18:29:16.622350Z",
     "iopub.status.busy": "2025-08-19T18:29:16.621209Z",
     "iopub.status.idle": "2025-08-19T18:29:16.676146Z",
     "shell.execute_reply": "2025-08-19T18:29:16.675413Z"
    },
    "papermill": {
     "duration": 0.070287,
     "end_time": "2025-08-19T18:29:16.679758",
     "exception": false,
     "start_time": "2025-08-19T18:29:16.609471",
     "status": "completed"
    },
    "tags": []
   },
   "outputs": [
    {
     "name": "stdout",
     "output_type": "stream",
     "text": [
      "Dropping features: ['age']\n"
     ]
    }
   ],
   "source": [
    "if len(excluded_features_columns) > 0:\n",
    "    print(f\"Dropping features: {excluded_features_columns}\")\n",
    "    X_calib.drop(excluded_features_columns, axis=1, inplace=True)"
   ]
  },
  {
   "cell_type": "code",
   "execution_count": 27,
   "id": "3037356e",
   "metadata": {
    "execution": {
     "iopub.execute_input": "2025-08-19T18:29:16.718334Z",
     "iopub.status.busy": "2025-08-19T18:29:16.716175Z",
     "iopub.status.idle": "2025-08-19T18:29:16.731330Z",
     "shell.execute_reply": "2025-08-19T18:29:16.730033Z"
    },
    "papermill": {
     "duration": 0.030604,
     "end_time": "2025-08-19T18:29:16.732940",
     "exception": false,
     "start_time": "2025-08-19T18:29:16.702336",
     "status": "completed"
    },
    "tags": []
   },
   "outputs": [],
   "source": [
    "# EXCLUDE CERTAIN SUBGROUPS\n",
    "# -------------------------\n",
    "\n",
    "mode = universe.get(\"exclude_subgroups\", \"keep-all\") # Defaults to \"keep-all\" if the key is missing."
   ]
  },
  {
   "cell_type": "code",
   "execution_count": 28,
   "id": "9d1e63fd",
   "metadata": {
    "execution": {
     "iopub.execute_input": "2025-08-19T18:29:16.763649Z",
     "iopub.status.busy": "2025-08-19T18:29:16.761861Z",
     "iopub.status.idle": "2025-08-19T18:29:16.777952Z",
     "shell.execute_reply": "2025-08-19T18:29:16.777229Z"
    },
    "papermill": {
     "duration": 0.030687,
     "end_time": "2025-08-19T18:29:16.779640",
     "exception": false,
     "start_time": "2025-08-19T18:29:16.748953",
     "status": "completed"
    },
    "tags": []
   },
   "outputs": [],
   "source": [
    "if mode == \"keep-all\":\n",
    "    keep_mask = pd.Series(True, index=org_train.index)\n",
    "\n",
    "elif mode == \"drop-non-german\":\n",
    "    keep_mask = (org_train[\"maxdeutsch1\"] == 1) & (org_train[\"maxdeutsch.Missing.\"] == 0)\n",
    "\n",
    "else:\n",
    "    raise ValueError(f\"Unsupported mode for exclude_subgroups: {mode}\")"
   ]
  },
  {
   "cell_type": "code",
   "execution_count": 29,
   "id": "d3b65474",
   "metadata": {
    "execution": {
     "iopub.execute_input": "2025-08-19T18:29:16.810578Z",
     "iopub.status.busy": "2025-08-19T18:29:16.809300Z",
     "iopub.status.idle": "2025-08-19T18:29:16.818742Z",
     "shell.execute_reply": "2025-08-19T18:29:16.817592Z"
    },
    "papermill": {
     "duration": 0.023743,
     "end_time": "2025-08-19T18:29:16.820288",
     "exception": false,
     "start_time": "2025-08-19T18:29:16.796545",
     "status": "completed"
    },
    "tags": []
   },
   "outputs": [],
   "source": [
    "n_drop = (~keep_mask).sum() # Calculates how many rows are set to be dropped\n",
    "if n_drop > 0:\n",
    "    pct = n_drop / len(keep_mask) * 100\n",
    "    print(f\"Dropping {n_drop} rows ({pct:.2f}%) where mode='{mode}'\")"
   ]
  },
  {
   "cell_type": "code",
   "execution_count": 30,
   "id": "f44389b3",
   "metadata": {
    "execution": {
     "iopub.execute_input": "2025-08-19T18:29:16.847713Z",
     "iopub.status.busy": "2025-08-19T18:29:16.846244Z",
     "iopub.status.idle": "2025-08-19T18:29:16.857700Z",
     "shell.execute_reply": "2025-08-19T18:29:16.856428Z"
    },
    "papermill": {
     "duration": 0.0251,
     "end_time": "2025-08-19T18:29:16.859232",
     "exception": false,
     "start_time": "2025-08-19T18:29:16.834132",
     "status": "completed"
    },
    "tags": []
   },
   "outputs": [],
   "source": [
    "X_train = X_train[keep_mask]"
   ]
  },
  {
   "cell_type": "code",
   "execution_count": 31,
   "id": "ceca8c2a",
   "metadata": {
    "execution": {
     "iopub.execute_input": "2025-08-19T18:29:16.886919Z",
     "iopub.status.busy": "2025-08-19T18:29:16.885541Z",
     "iopub.status.idle": "2025-08-19T18:29:16.894035Z",
     "shell.execute_reply": "2025-08-19T18:29:16.892837Z"
    },
    "papermill": {
     "duration": 0.022368,
     "end_time": "2025-08-19T18:29:16.895497",
     "exception": false,
     "start_time": "2025-08-19T18:29:16.873129",
     "status": "completed"
    },
    "tags": []
   },
   "outputs": [],
   "source": [
    "y_train = y_train[keep_mask]"
   ]
  },
  {
   "cell_type": "markdown",
   "id": "04d31e2f",
   "metadata": {
    "papermill": {
     "duration": 0.01117,
     "end_time": "2025-08-19T18:29:16.918949",
     "exception": false,
     "start_time": "2025-08-19T18:29:16.907779",
     "status": "completed"
    },
    "tags": []
   },
   "source": [
    "# Model Training"
   ]
  },
  {
   "cell_type": "code",
   "execution_count": 32,
   "id": "db991733",
   "metadata": {
    "execution": {
     "iopub.execute_input": "2025-08-19T18:29:16.943400Z",
     "iopub.status.busy": "2025-08-19T18:29:16.941851Z",
     "iopub.status.idle": "2025-08-19T18:29:17.105522Z",
     "shell.execute_reply": "2025-08-19T18:29:17.104793Z"
    },
    "papermill": {
     "duration": 0.178728,
     "end_time": "2025-08-19T18:29:17.108365",
     "exception": false,
     "start_time": "2025-08-19T18:29:16.929637",
     "status": "completed"
    },
    "tags": []
   },
   "outputs": [],
   "source": [
    "from sklearn.linear_model import LogisticRegression\n",
    "from sklearn.ensemble import GradientBoostingClassifier, RandomForestClassifier\n",
    "\n",
    "if (universe[\"model\"] == \"logreg\"):\n",
    "    model = LogisticRegression() #penalty=\"none\", solver=\"newton-cg\", max_iter=1)\n",
    "elif (universe[\"model\"] == \"penalized_logreg\"):\n",
    "    model = LogisticRegression(penalty=\"l2\", C=0.1) #, solver=\"newton-cg\", max_iter=1)\n",
    "elif (universe[\"model\"] == \"rf\"):\n",
    "    model = RandomForestClassifier() # n_estimators=100, n_jobs=-1\n",
    "elif (universe[\"model\"] == \"gbm\"):\n",
    "    model = GradientBoostingClassifier()\n",
    "elif (universe[\"model\"] == \"elasticnet\"):\n",
    "    model = LogisticRegression(penalty = 'elasticnet', solver = 'saga', l1_ratio = 0.5) # max_iter=5000\n",
    "else:\n",
    "    raise \"Unsupported universe.model\""
   ]
  },
  {
   "cell_type": "code",
   "execution_count": 33,
   "id": "a4b5cd25",
   "metadata": {
    "execution": {
     "iopub.execute_input": "2025-08-19T18:29:17.149734Z",
     "iopub.status.busy": "2025-08-19T18:29:17.149206Z",
     "iopub.status.idle": "2025-08-19T18:29:17.154989Z",
     "shell.execute_reply": "2025-08-19T18:29:17.154206Z"
    },
    "papermill": {
     "duration": 0.021582,
     "end_time": "2025-08-19T18:29:17.156398",
     "exception": false,
     "start_time": "2025-08-19T18:29:17.134816",
     "status": "completed"
    },
    "tags": []
   },
   "outputs": [],
   "source": [
    "from sklearn.pipeline import Pipeline\n",
    "from sklearn.preprocessing import StandardScaler\n",
    "\n",
    "model = Pipeline([\n",
    "    #(\"continuous_processor\", continuous_processor),\n",
    "    #(\"categorical_preprocessor\", categorical_preprocessor),\n",
    "    (\"scale\", StandardScaler() if universe[\"scale\"] == \"scale\" else None), \n",
    "    (\"model\", model),\n",
    "])"
   ]
  },
  {
   "cell_type": "code",
   "execution_count": 34,
   "id": "283a904d",
   "metadata": {
    "execution": {
     "iopub.execute_input": "2025-08-19T18:29:17.180363Z",
     "iopub.status.busy": "2025-08-19T18:29:17.179865Z",
     "iopub.status.idle": "2025-08-19T18:29:18.500050Z",
     "shell.execute_reply": "2025-08-19T18:29:18.499146Z"
    },
    "papermill": {
     "duration": 1.333458,
     "end_time": "2025-08-19T18:29:18.501351",
     "exception": false,
     "start_time": "2025-08-19T18:29:17.167893",
     "status": "completed"
    },
    "tags": []
   },
   "outputs": [
    {
     "data": {
      "text/html": [
       "<style>#sk-container-id-1 {color: black;background-color: white;}#sk-container-id-1 pre{padding: 0;}#sk-container-id-1 div.sk-toggleable {background-color: white;}#sk-container-id-1 label.sk-toggleable__label {cursor: pointer;display: block;width: 100%;margin-bottom: 0;padding: 0.3em;box-sizing: border-box;text-align: center;}#sk-container-id-1 label.sk-toggleable__label-arrow:before {content: \"▸\";float: left;margin-right: 0.25em;color: #696969;}#sk-container-id-1 label.sk-toggleable__label-arrow:hover:before {color: black;}#sk-container-id-1 div.sk-estimator:hover label.sk-toggleable__label-arrow:before {color: black;}#sk-container-id-1 div.sk-toggleable__content {max-height: 0;max-width: 0;overflow: hidden;text-align: left;background-color: #f0f8ff;}#sk-container-id-1 div.sk-toggleable__content pre {margin: 0.2em;color: black;border-radius: 0.25em;background-color: #f0f8ff;}#sk-container-id-1 input.sk-toggleable__control:checked~div.sk-toggleable__content {max-height: 200px;max-width: 100%;overflow: auto;}#sk-container-id-1 input.sk-toggleable__control:checked~label.sk-toggleable__label-arrow:before {content: \"▾\";}#sk-container-id-1 div.sk-estimator input.sk-toggleable__control:checked~label.sk-toggleable__label {background-color: #d4ebff;}#sk-container-id-1 div.sk-label input.sk-toggleable__control:checked~label.sk-toggleable__label {background-color: #d4ebff;}#sk-container-id-1 input.sk-hidden--visually {border: 0;clip: rect(1px 1px 1px 1px);clip: rect(1px, 1px, 1px, 1px);height: 1px;margin: -1px;overflow: hidden;padding: 0;position: absolute;width: 1px;}#sk-container-id-1 div.sk-estimator {font-family: monospace;background-color: #f0f8ff;border: 1px dotted black;border-radius: 0.25em;box-sizing: border-box;margin-bottom: 0.5em;}#sk-container-id-1 div.sk-estimator:hover {background-color: #d4ebff;}#sk-container-id-1 div.sk-parallel-item::after {content: \"\";width: 100%;border-bottom: 1px solid gray;flex-grow: 1;}#sk-container-id-1 div.sk-label:hover label.sk-toggleable__label {background-color: #d4ebff;}#sk-container-id-1 div.sk-serial::before {content: \"\";position: absolute;border-left: 1px solid gray;box-sizing: border-box;top: 0;bottom: 0;left: 50%;z-index: 0;}#sk-container-id-1 div.sk-serial {display: flex;flex-direction: column;align-items: center;background-color: white;padding-right: 0.2em;padding-left: 0.2em;position: relative;}#sk-container-id-1 div.sk-item {position: relative;z-index: 1;}#sk-container-id-1 div.sk-parallel {display: flex;align-items: stretch;justify-content: center;background-color: white;position: relative;}#sk-container-id-1 div.sk-item::before, #sk-container-id-1 div.sk-parallel-item::before {content: \"\";position: absolute;border-left: 1px solid gray;box-sizing: border-box;top: 0;bottom: 0;left: 50%;z-index: -1;}#sk-container-id-1 div.sk-parallel-item {display: flex;flex-direction: column;z-index: 1;position: relative;background-color: white;}#sk-container-id-1 div.sk-parallel-item:first-child::after {align-self: flex-end;width: 50%;}#sk-container-id-1 div.sk-parallel-item:last-child::after {align-self: flex-start;width: 50%;}#sk-container-id-1 div.sk-parallel-item:only-child::after {width: 0;}#sk-container-id-1 div.sk-dashed-wrapped {border: 1px dashed gray;margin: 0 0.4em 0.5em 0.4em;box-sizing: border-box;padding-bottom: 0.4em;background-color: white;}#sk-container-id-1 div.sk-label label {font-family: monospace;font-weight: bold;display: inline-block;line-height: 1.2em;}#sk-container-id-1 div.sk-label-container {text-align: center;}#sk-container-id-1 div.sk-container {/* jupyter's `normalize.less` sets `[hidden] { display: none; }` but bootstrap.min.css set `[hidden] { display: none !important; }` so we also need the `!important` here to be able to override the default hidden behavior on the sphinx rendered scikit-learn.org. See: https://github.com/scikit-learn/scikit-learn/issues/21755 */display: inline-block !important;position: relative;}#sk-container-id-1 div.sk-text-repr-fallback {display: none;}</style><div id=\"sk-container-id-1\" class=\"sk-top-container\"><div class=\"sk-text-repr-fallback\"><pre>Pipeline(steps=[(&#x27;scale&#x27;, None), (&#x27;model&#x27;, RandomForestClassifier())])</pre><b>In a Jupyter environment, please rerun this cell to show the HTML representation or trust the notebook. <br />On GitHub, the HTML representation is unable to render, please try loading this page with nbviewer.org.</b></div><div class=\"sk-container\" hidden><div class=\"sk-item sk-dashed-wrapped\"><div class=\"sk-label-container\"><div class=\"sk-label sk-toggleable\"><input class=\"sk-toggleable__control sk-hidden--visually\" id=\"sk-estimator-id-1\" type=\"checkbox\" ><label for=\"sk-estimator-id-1\" class=\"sk-toggleable__label sk-toggleable__label-arrow\">Pipeline</label><div class=\"sk-toggleable__content\"><pre>Pipeline(steps=[(&#x27;scale&#x27;, None), (&#x27;model&#x27;, RandomForestClassifier())])</pre></div></div></div><div class=\"sk-serial\"><div class=\"sk-item\"><div class=\"sk-estimator sk-toggleable\"><input class=\"sk-toggleable__control sk-hidden--visually\" id=\"sk-estimator-id-2\" type=\"checkbox\" ><label for=\"sk-estimator-id-2\" class=\"sk-toggleable__label sk-toggleable__label-arrow\">None</label><div class=\"sk-toggleable__content\"><pre>None</pre></div></div></div><div class=\"sk-item\"><div class=\"sk-estimator sk-toggleable\"><input class=\"sk-toggleable__control sk-hidden--visually\" id=\"sk-estimator-id-3\" type=\"checkbox\" ><label for=\"sk-estimator-id-3\" class=\"sk-toggleable__label sk-toggleable__label-arrow\">RandomForestClassifier</label><div class=\"sk-toggleable__content\"><pre>RandomForestClassifier()</pre></div></div></div></div></div></div></div>"
      ],
      "text/plain": [
       "Pipeline(steps=[('scale', None), ('model', RandomForestClassifier())])"
      ]
     },
     "execution_count": 34,
     "metadata": {},
     "output_type": "execute_result"
    }
   ],
   "source": [
    "model.fit(X_train, y_train.values.ravel())"
   ]
  },
  {
   "cell_type": "code",
   "execution_count": 35,
   "id": "6e15e313",
   "metadata": {
    "execution": {
     "iopub.execute_input": "2025-08-19T18:29:18.560410Z",
     "iopub.status.busy": "2025-08-19T18:29:18.558897Z",
     "iopub.status.idle": "2025-08-19T18:29:20.467037Z",
     "shell.execute_reply": "2025-08-19T18:29:20.466101Z"
    },
    "papermill": {
     "duration": 1.950691,
     "end_time": "2025-08-19T18:29:20.468275",
     "exception": false,
     "start_time": "2025-08-19T18:29:18.517584",
     "status": "completed"
    },
    "tags": []
   },
   "outputs": [
    {
     "data": {
      "text/plain": [
       "0.8669490580760227"
      ]
     },
     "execution_count": 35,
     "metadata": {},
     "output_type": "execute_result"
    }
   ],
   "source": [
    "from fairness_multiverse.universe import predict_w_threshold\n",
    "\n",
    "probs_test = model.predict_proba(X_test)\n",
    "\n",
    "'''\n",
    "Below code returns a boolean array (or binary 0/1 array depending on how it’s used) where each element \n",
    "is True if the probability of class 1 is greater than or equal to the threshold, and False otherwise.\n",
    "'''\n",
    "y_pred_default = predict_w_threshold(probs_test, 0.5)\n",
    "\n",
    "from sklearn.metrics import accuracy_score\n",
    "\n",
    "# Naive prediction\n",
    "accuracy_score(y_true = y_true, y_pred = y_pred_default)"
   ]
  },
  {
   "cell_type": "code",
   "execution_count": 36,
   "id": "6f14067c",
   "metadata": {
    "execution": {
     "iopub.execute_input": "2025-08-19T18:29:20.493712Z",
     "iopub.status.busy": "2025-08-19T18:29:20.492330Z",
     "iopub.status.idle": "2025-08-19T18:29:22.315496Z",
     "shell.execute_reply": "2025-08-19T18:29:22.314408Z"
    },
    "papermill": {
     "duration": 1.836947,
     "end_time": "2025-08-19T18:29:22.316849",
     "exception": false,
     "start_time": "2025-08-19T18:29:20.479902",
     "status": "completed"
    },
    "tags": []
   },
   "outputs": [
    {
     "data": {
      "text/plain": [
       "array([0, 0, 0, ..., 0, 0, 0])"
      ]
     },
     "execution_count": 36,
     "metadata": {},
     "output_type": "execute_result"
    }
   ],
   "source": [
    "model.predict(X_test)"
   ]
  },
  {
   "cell_type": "markdown",
   "id": "3759920c",
   "metadata": {
    "papermill": {
     "duration": 0.02445,
     "end_time": "2025-08-19T18:29:22.357165",
     "exception": false,
     "start_time": "2025-08-19T18:29:22.332715",
     "status": "completed"
    },
    "tags": []
   },
   "source": [
    "# Conformal Prediction"
   ]
  },
  {
   "cell_type": "code",
   "execution_count": 37,
   "id": "14b27f59",
   "metadata": {
    "execution": {
     "iopub.execute_input": "2025-08-19T18:29:22.404375Z",
     "iopub.status.busy": "2025-08-19T18:29:22.402769Z",
     "iopub.status.idle": "2025-08-19T18:29:22.411789Z",
     "shell.execute_reply": "2025-08-19T18:29:22.410556Z"
    },
    "papermill": {
     "duration": 0.028421,
     "end_time": "2025-08-19T18:29:22.413196",
     "exception": false,
     "start_time": "2025-08-19T18:29:22.384775",
     "status": "completed"
    },
    "tags": []
   },
   "outputs": [],
   "source": [
    "# Miscoverage level for conformal prediction (10% allowed error rate => 90% target coverage)\n",
    "alpha = 0.1"
   ]
  },
  {
   "cell_type": "code",
   "execution_count": 38,
   "id": "59102472",
   "metadata": {
    "execution": {
     "iopub.execute_input": "2025-08-19T18:29:22.441937Z",
     "iopub.status.busy": "2025-08-19T18:29:22.441228Z",
     "iopub.status.idle": "2025-08-19T18:29:24.277489Z",
     "shell.execute_reply": "2025-08-19T18:29:24.276059Z"
    },
    "papermill": {
     "duration": 1.855941,
     "end_time": "2025-08-19T18:29:24.280372",
     "exception": false,
     "start_time": "2025-08-19T18:29:22.424431",
     "status": "completed"
    },
    "tags": []
   },
   "outputs": [],
   "source": [
    "probs_calib = model.predict_proba(X_calib)"
   ]
  },
  {
   "cell_type": "code",
   "execution_count": 39,
   "id": "a792d4dd",
   "metadata": {
    "execution": {
     "iopub.execute_input": "2025-08-19T18:29:24.322575Z",
     "iopub.status.busy": "2025-08-19T18:29:24.321023Z",
     "iopub.status.idle": "2025-08-19T18:29:24.333626Z",
     "shell.execute_reply": "2025-08-19T18:29:24.332297Z"
    },
    "papermill": {
     "duration": 0.029898,
     "end_time": "2025-08-19T18:29:24.335423",
     "exception": false,
     "start_time": "2025-08-19T18:29:24.305525",
     "status": "completed"
    },
    "tags": []
   },
   "outputs": [],
   "source": [
    "y_calib = y_calib.values.ravel().astype(int)"
   ]
  },
  {
   "cell_type": "code",
   "execution_count": 40,
   "id": "650fd033",
   "metadata": {
    "execution": {
     "iopub.execute_input": "2025-08-19T18:29:24.367314Z",
     "iopub.status.busy": "2025-08-19T18:29:24.365562Z",
     "iopub.status.idle": "2025-08-19T18:29:24.380061Z",
     "shell.execute_reply": "2025-08-19T18:29:24.378918Z"
    },
    "papermill": {
     "duration": 0.029272,
     "end_time": "2025-08-19T18:29:24.381632",
     "exception": false,
     "start_time": "2025-08-19T18:29:24.352360",
     "status": "completed"
    },
    "tags": []
   },
   "outputs": [],
   "source": [
    "from fairness_multiverse.conformal import compute_nc_scores\n",
    "\n",
    "# Compute nonconformity scores on calibration set (1 - probability of true class)\n",
    "nc_scores = compute_nc_scores(probs_calib, y_calib)"
   ]
  },
  {
   "cell_type": "code",
   "execution_count": 41,
   "id": "28ada44c",
   "metadata": {
    "execution": {
     "iopub.execute_input": "2025-08-19T18:29:24.417614Z",
     "iopub.status.busy": "2025-08-19T18:29:24.409817Z",
     "iopub.status.idle": "2025-08-19T18:29:24.426870Z",
     "shell.execute_reply": "2025-08-19T18:29:24.425737Z"
    },
    "papermill": {
     "duration": 0.032101,
     "end_time": "2025-08-19T18:29:24.428694",
     "exception": false,
     "start_time": "2025-08-19T18:29:24.396593",
     "status": "completed"
    },
    "tags": []
   },
   "outputs": [],
   "source": [
    "from fairness_multiverse.conformal import find_threshold\n",
    "\n",
    "# Find conformal threshold q_hat for the given alpha (split conformal method)\n",
    "q_hat = find_threshold(nc_scores, alpha)"
   ]
  },
  {
   "cell_type": "code",
   "execution_count": 42,
   "id": "df56469e",
   "metadata": {
    "execution": {
     "iopub.execute_input": "2025-08-19T18:29:24.468913Z",
     "iopub.status.busy": "2025-08-19T18:29:24.467670Z",
     "iopub.status.idle": "2025-08-19T18:29:24.478748Z",
     "shell.execute_reply": "2025-08-19T18:29:24.477424Z"
    },
    "papermill": {
     "duration": 0.035181,
     "end_time": "2025-08-19T18:29:24.482202",
     "exception": false,
     "start_time": "2025-08-19T18:29:24.447021",
     "status": "completed"
    },
    "tags": []
   },
   "outputs": [
    {
     "data": {
      "text/plain": [
       "0.6699999999999999"
      ]
     },
     "execution_count": 42,
     "metadata": {},
     "output_type": "execute_result"
    }
   ],
   "source": [
    "q_hat"
   ]
  },
  {
   "cell_type": "code",
   "execution_count": 43,
   "id": "aa1f5faa",
   "metadata": {
    "execution": {
     "iopub.execute_input": "2025-08-19T18:29:24.527471Z",
     "iopub.status.busy": "2025-08-19T18:29:24.526984Z",
     "iopub.status.idle": "2025-08-19T18:29:26.777707Z",
     "shell.execute_reply": "2025-08-19T18:29:26.776912Z"
    },
    "papermill": {
     "duration": 2.267668,
     "end_time": "2025-08-19T18:29:26.780032",
     "exception": false,
     "start_time": "2025-08-19T18:29:24.512364",
     "status": "completed"
    },
    "tags": []
   },
   "outputs": [],
   "source": [
    "from fairness_multiverse.conformal import predict_conformal_sets\n",
    "\n",
    "# Generate prediction sets for each test example\n",
    "pred_sets = predict_conformal_sets(model, X_test, q_hat)"
   ]
  },
  {
   "cell_type": "code",
   "execution_count": 44,
   "id": "97f67a6b",
   "metadata": {
    "execution": {
     "iopub.execute_input": "2025-08-19T18:29:26.807670Z",
     "iopub.status.busy": "2025-08-19T18:29:26.807199Z",
     "iopub.status.idle": "2025-08-19T18:29:26.812295Z",
     "shell.execute_reply": "2025-08-19T18:29:26.811554Z"
    },
    "papermill": {
     "duration": 0.018645,
     "end_time": "2025-08-19T18:29:26.813580",
     "exception": false,
     "start_time": "2025-08-19T18:29:26.794935",
     "status": "completed"
    },
    "tags": []
   },
   "outputs": [],
   "source": [
    "y_true = y_true.squeeze()"
   ]
  },
  {
   "cell_type": "code",
   "execution_count": 45,
   "id": "e700e9a7",
   "metadata": {
    "execution": {
     "iopub.execute_input": "2025-08-19T18:29:26.837273Z",
     "iopub.status.busy": "2025-08-19T18:29:26.836902Z",
     "iopub.status.idle": "2025-08-19T18:29:27.342975Z",
     "shell.execute_reply": "2025-08-19T18:29:27.341879Z"
    },
    "papermill": {
     "duration": 0.519676,
     "end_time": "2025-08-19T18:29:27.344642",
     "exception": false,
     "start_time": "2025-08-19T18:29:26.824966",
     "status": "completed"
    },
    "tags": []
   },
   "outputs": [],
   "source": [
    "from fairness_multiverse.conformal import evaluate_sets\n",
    "\n",
    "# Evaluate coverage and average set size on test data\n",
    "metrics = evaluate_sets(pred_sets, y_true)"
   ]
  },
  {
   "cell_type": "markdown",
   "id": "efbacec0",
   "metadata": {
    "papermill": {
     "duration": 0.026384,
     "end_time": "2025-08-19T18:29:27.388606",
     "exception": false,
     "start_time": "2025-08-19T18:29:27.362222",
     "status": "completed"
    },
    "tags": []
   },
   "source": [
    "# CP Metrics"
   ]
  },
  {
   "cell_type": "code",
   "execution_count": 46,
   "id": "9de55fb1",
   "metadata": {
    "execution": {
     "iopub.execute_input": "2025-08-19T18:29:27.427878Z",
     "iopub.status.busy": "2025-08-19T18:29:27.427188Z",
     "iopub.status.idle": "2025-08-19T18:29:27.438812Z",
     "shell.execute_reply": "2025-08-19T18:29:27.438000Z"
    },
    "papermill": {
     "duration": 0.039206,
     "end_time": "2025-08-19T18:29:27.441124",
     "exception": false,
     "start_time": "2025-08-19T18:29:27.401918",
     "status": "completed"
    },
    "tags": []
   },
   "outputs": [
    {
     "data": {
      "text/plain": [
       "{'coverage': 0.9147029316687103, 'avg_size': 1.1453795563482332}"
      ]
     },
     "execution_count": 46,
     "metadata": {},
     "output_type": "execute_result"
    }
   ],
   "source": [
    "metrics"
   ]
  },
  {
   "cell_type": "code",
   "execution_count": 47,
   "id": "64c340a1",
   "metadata": {
    "execution": {
     "iopub.execute_input": "2025-08-19T18:29:27.475701Z",
     "iopub.status.busy": "2025-08-19T18:29:27.475318Z",
     "iopub.status.idle": "2025-08-19T18:29:27.482061Z",
     "shell.execute_reply": "2025-08-19T18:29:27.481437Z"
    },
    "papermill": {
     "duration": 0.028961,
     "end_time": "2025-08-19T18:29:27.484383",
     "exception": false,
     "start_time": "2025-08-19T18:29:27.455422",
     "status": "completed"
    },
    "tags": []
   },
   "outputs": [],
   "source": [
    "example_universe = universe.copy()\n",
    "universe_training_year = example_universe.get(\"training_year\")\n",
    "universe_training_size = example_universe.get(\"training_size\")\n",
    "universe_scale = example_universe.get(\"scale\")\n",
    "universe_model = example_universe.get(\"model\")\n",
    "universe_exclude_features = example_universe.get(\"exclude_features\")\n",
    "universe_exclude_subgroups = example_universe.get(\"exclude_subgroups\")"
   ]
  },
  {
   "cell_type": "code",
   "execution_count": 48,
   "id": "dbb53cb4",
   "metadata": {
    "execution": {
     "iopub.execute_input": "2025-08-19T18:29:27.524372Z",
     "iopub.status.busy": "2025-08-19T18:29:27.523961Z",
     "iopub.status.idle": "2025-08-19T18:29:27.531580Z",
     "shell.execute_reply": "2025-08-19T18:29:27.530924Z"
    },
    "papermill": {
     "duration": 0.022578,
     "end_time": "2025-08-19T18:29:27.532675",
     "exception": false,
     "start_time": "2025-08-19T18:29:27.510097",
     "status": "completed"
    },
    "tags": []
   },
   "outputs": [],
   "source": [
    "cp_metrics_dict = {\n",
    "    \"universe_id\": [universe_id],\n",
    "    \"universe_training_year\": [universe_training_year],\n",
    "    \"universe_training_size\": [universe_training_size],\n",
    "    \"universe_scale\": [universe_scale],\n",
    "    \"universe_model\": [universe_model],\n",
    "    \"universe_exclude_features\": [universe_exclude_features],\n",
    "    \"universe_exclude_subgroups\": [universe_exclude_subgroups],\n",
    "    \"q_hat\": [q_hat],\n",
    "    \"coverage\": [metrics[\"coverage\"]],\n",
    "    \"avg_size\": [metrics[\"avg_size\"]],\n",
    "}"
   ]
  },
  {
   "cell_type": "code",
   "execution_count": 49,
   "id": "0d70d4b2",
   "metadata": {
    "execution": {
     "iopub.execute_input": "2025-08-19T18:29:27.564507Z",
     "iopub.status.busy": "2025-08-19T18:29:27.563746Z",
     "iopub.status.idle": "2025-08-19T18:29:27.570728Z",
     "shell.execute_reply": "2025-08-19T18:29:27.569944Z"
    },
    "papermill": {
     "duration": 0.022171,
     "end_time": "2025-08-19T18:29:27.571958",
     "exception": false,
     "start_time": "2025-08-19T18:29:27.549787",
     "status": "completed"
    },
    "tags": []
   },
   "outputs": [],
   "source": [
    "cp_metrics_df = pd.DataFrame(cp_metrics_dict)"
   ]
  },
  {
   "cell_type": "code",
   "execution_count": 50,
   "id": "b494403c",
   "metadata": {
    "execution": {
     "iopub.execute_input": "2025-08-19T18:29:27.599826Z",
     "iopub.status.busy": "2025-08-19T18:29:27.598440Z",
     "iopub.status.idle": "2025-08-19T18:29:27.614910Z",
     "shell.execute_reply": "2025-08-19T18:29:27.613791Z"
    },
    "papermill": {
     "duration": 0.032399,
     "end_time": "2025-08-19T18:29:27.617663",
     "exception": false,
     "start_time": "2025-08-19T18:29:27.585264",
     "status": "completed"
    },
    "tags": []
   },
   "outputs": [
    {
     "data": {
      "text/html": [
       "<div>\n",
       "<style scoped>\n",
       "    .dataframe tbody tr th:only-of-type {\n",
       "        vertical-align: middle;\n",
       "    }\n",
       "\n",
       "    .dataframe tbody tr th {\n",
       "        vertical-align: top;\n",
       "    }\n",
       "\n",
       "    .dataframe thead th {\n",
       "        text-align: right;\n",
       "    }\n",
       "</style>\n",
       "<table border=\"1\" class=\"dataframe\">\n",
       "  <thead>\n",
       "    <tr style=\"text-align: right;\">\n",
       "      <th></th>\n",
       "      <th>universe_id</th>\n",
       "      <th>universe_training_year</th>\n",
       "      <th>universe_training_size</th>\n",
       "      <th>universe_scale</th>\n",
       "      <th>universe_model</th>\n",
       "      <th>universe_exclude_features</th>\n",
       "      <th>universe_exclude_subgroups</th>\n",
       "      <th>q_hat</th>\n",
       "      <th>coverage</th>\n",
       "      <th>avg_size</th>\n",
       "    </tr>\n",
       "  </thead>\n",
       "  <tbody>\n",
       "    <tr>\n",
       "      <th>0</th>\n",
       "      <td>d6c5398553f5cbd03a0a209fc1c8b0e9</td>\n",
       "      <td>2014</td>\n",
       "      <td>5k</td>\n",
       "      <td>do-not-scale</td>\n",
       "      <td>rf</td>\n",
       "      <td>age</td>\n",
       "      <td>keep-all</td>\n",
       "      <td>0.67</td>\n",
       "      <td>0.914703</td>\n",
       "      <td>1.14538</td>\n",
       "    </tr>\n",
       "  </tbody>\n",
       "</table>\n",
       "</div>"
      ],
      "text/plain": [
       "                        universe_id universe_training_year  \\\n",
       "0  d6c5398553f5cbd03a0a209fc1c8b0e9                   2014   \n",
       "\n",
       "  universe_training_size universe_scale universe_model  \\\n",
       "0                     5k   do-not-scale             rf   \n",
       "\n",
       "  universe_exclude_features universe_exclude_subgroups  q_hat  coverage  \\\n",
       "0                       age                   keep-all   0.67  0.914703   \n",
       "\n",
       "   avg_size  \n",
       "0   1.14538  "
      ]
     },
     "execution_count": 50,
     "metadata": {},
     "output_type": "execute_result"
    }
   ],
   "source": [
    "cp_metrics_df"
   ]
  },
  {
   "cell_type": "markdown",
   "id": "ed608b0b",
   "metadata": {
    "papermill": {
     "duration": 0.01289,
     "end_time": "2025-08-19T18:29:27.655002",
     "exception": false,
     "start_time": "2025-08-19T18:29:27.642112",
     "status": "completed"
    },
    "tags": []
   },
   "source": [
    "Conditional coverage & looking at subgroups"
   ]
  },
  {
   "cell_type": "code",
   "execution_count": 51,
   "id": "8968c366",
   "metadata": {
    "execution": {
     "iopub.execute_input": "2025-08-19T18:29:27.680192Z",
     "iopub.status.busy": "2025-08-19T18:29:27.679725Z",
     "iopub.status.idle": "2025-08-19T18:29:27.942444Z",
     "shell.execute_reply": "2025-08-19T18:29:27.941595Z"
    },
    "papermill": {
     "duration": 0.276964,
     "end_time": "2025-08-19T18:29:27.943880",
     "exception": false,
     "start_time": "2025-08-19T18:29:27.666916",
     "status": "completed"
    },
    "tags": []
   },
   "outputs": [],
   "source": [
    "from fairness_multiverse.conformal import build_cp_groups\n",
    "\n",
    "cp_groups_df = build_cp_groups(pred_sets, y_true, X_test.index, org_test)"
   ]
  },
  {
   "cell_type": "code",
   "execution_count": 52,
   "id": "292ddabf",
   "metadata": {
    "execution": {
     "iopub.execute_input": "2025-08-19T18:29:27.972053Z",
     "iopub.status.busy": "2025-08-19T18:29:27.970993Z",
     "iopub.status.idle": "2025-08-19T18:29:28.885457Z",
     "shell.execute_reply": "2025-08-19T18:29:28.884190Z"
    },
    "papermill": {
     "duration": 0.929865,
     "end_time": "2025-08-19T18:29:28.887265",
     "exception": false,
     "start_time": "2025-08-19T18:29:27.957400",
     "status": "completed"
    },
    "tags": []
   },
   "outputs": [],
   "source": [
    "# Define covered = 1 if true_label is in the predicted set\n",
    "cp_groups_df['covered'] = cp_groups_df.apply(\n",
    "    lambda r: int(r['true_label'] in r['pred_set']),\n",
    "    axis=1\n",
    ")"
   ]
  },
  {
   "cell_type": "code",
   "execution_count": 53,
   "id": "3a261692",
   "metadata": {
    "execution": {
     "iopub.execute_input": "2025-08-19T18:29:28.914827Z",
     "iopub.status.busy": "2025-08-19T18:29:28.913845Z",
     "iopub.status.idle": "2025-08-19T18:29:28.936761Z",
     "shell.execute_reply": "2025-08-19T18:29:28.935992Z"
    },
    "papermill": {
     "duration": 0.037945,
     "end_time": "2025-08-19T18:29:28.938461",
     "exception": false,
     "start_time": "2025-08-19T18:29:28.900516",
     "status": "completed"
    },
    "tags": []
   },
   "outputs": [],
   "source": [
    "subgroups = ['frau1','nongerman','nongerman_male','nongerman_female']\n",
    "\n",
    "# Conditional coverage for subgroup==1\n",
    "cond_coverage = {\n",
    "    g: cp_groups_df.loc[cp_groups_df[g]==1, 'covered'].mean()\n",
    "    for g in subgroups\n",
    "}"
   ]
  },
  {
   "cell_type": "code",
   "execution_count": 54,
   "id": "894fd600",
   "metadata": {
    "execution": {
     "iopub.execute_input": "2025-08-19T18:29:28.993682Z",
     "iopub.status.busy": "2025-08-19T18:29:28.991774Z",
     "iopub.status.idle": "2025-08-19T18:29:29.003034Z",
     "shell.execute_reply": "2025-08-19T18:29:29.002356Z"
    },
    "papermill": {
     "duration": 0.041326,
     "end_time": "2025-08-19T18:29:29.004436",
     "exception": false,
     "start_time": "2025-08-19T18:29:28.963110",
     "status": "completed"
    },
    "tags": []
   },
   "outputs": [
    {
     "data": {
      "text/plain": [
       "{'frau1': 0.912252325111201,\n",
       " 'nongerman': 0.9095604333913434,\n",
       " 'nongerman_male': 0.9258758893992615,\n",
       " 'nongerman_female': 0.8825633383010432}"
      ]
     },
     "execution_count": 54,
     "metadata": {},
     "output_type": "execute_result"
    }
   ],
   "source": [
    "cond_coverage"
   ]
  },
  {
   "cell_type": "code",
   "execution_count": 55,
   "id": "942895c7",
   "metadata": {
    "execution": {
     "iopub.execute_input": "2025-08-19T18:29:29.054165Z",
     "iopub.status.busy": "2025-08-19T18:29:29.053812Z",
     "iopub.status.idle": "2025-08-19T18:29:29.063393Z",
     "shell.execute_reply": "2025-08-19T18:29:29.062462Z"
    },
    "papermill": {
     "duration": 0.043944,
     "end_time": "2025-08-19T18:29:29.066348",
     "exception": false,
     "start_time": "2025-08-19T18:29:29.022404",
     "status": "completed"
    },
    "tags": []
   },
   "outputs": [],
   "source": [
    "for subgroup, cov in cond_coverage.items():\n",
    "    cp_metrics_df[f\"cov_{subgroup}\"] = cov"
   ]
  },
  {
   "cell_type": "code",
   "execution_count": 56,
   "id": "3970120f",
   "metadata": {
    "execution": {
     "iopub.execute_input": "2025-08-19T18:29:29.105322Z",
     "iopub.status.busy": "2025-08-19T18:29:29.105037Z",
     "iopub.status.idle": "2025-08-19T18:29:29.120459Z",
     "shell.execute_reply": "2025-08-19T18:29:29.119615Z"
    },
    "papermill": {
     "duration": 0.030899,
     "end_time": "2025-08-19T18:29:29.121892",
     "exception": false,
     "start_time": "2025-08-19T18:29:29.090993",
     "status": "completed"
    },
    "tags": []
   },
   "outputs": [
    {
     "data": {
      "text/html": [
       "<div>\n",
       "<style scoped>\n",
       "    .dataframe tbody tr th:only-of-type {\n",
       "        vertical-align: middle;\n",
       "    }\n",
       "\n",
       "    .dataframe tbody tr th {\n",
       "        vertical-align: top;\n",
       "    }\n",
       "\n",
       "    .dataframe thead th {\n",
       "        text-align: right;\n",
       "    }\n",
       "</style>\n",
       "<table border=\"1\" class=\"dataframe\">\n",
       "  <thead>\n",
       "    <tr style=\"text-align: right;\">\n",
       "      <th></th>\n",
       "      <th>universe_id</th>\n",
       "      <th>universe_training_year</th>\n",
       "      <th>universe_training_size</th>\n",
       "      <th>universe_scale</th>\n",
       "      <th>universe_model</th>\n",
       "      <th>universe_exclude_features</th>\n",
       "      <th>universe_exclude_subgroups</th>\n",
       "      <th>q_hat</th>\n",
       "      <th>coverage</th>\n",
       "      <th>avg_size</th>\n",
       "      <th>cov_frau1</th>\n",
       "      <th>cov_nongerman</th>\n",
       "      <th>cov_nongerman_male</th>\n",
       "      <th>cov_nongerman_female</th>\n",
       "    </tr>\n",
       "  </thead>\n",
       "  <tbody>\n",
       "    <tr>\n",
       "      <th>0</th>\n",
       "      <td>d6c5398553f5cbd03a0a209fc1c8b0e9</td>\n",
       "      <td>2014</td>\n",
       "      <td>5k</td>\n",
       "      <td>do-not-scale</td>\n",
       "      <td>rf</td>\n",
       "      <td>age</td>\n",
       "      <td>keep-all</td>\n",
       "      <td>0.67</td>\n",
       "      <td>0.914703</td>\n",
       "      <td>1.14538</td>\n",
       "      <td>0.912252</td>\n",
       "      <td>0.90956</td>\n",
       "      <td>0.925876</td>\n",
       "      <td>0.882563</td>\n",
       "    </tr>\n",
       "  </tbody>\n",
       "</table>\n",
       "</div>"
      ],
      "text/plain": [
       "                        universe_id universe_training_year  \\\n",
       "0  d6c5398553f5cbd03a0a209fc1c8b0e9                   2014   \n",
       "\n",
       "  universe_training_size universe_scale universe_model  \\\n",
       "0                     5k   do-not-scale             rf   \n",
       "\n",
       "  universe_exclude_features universe_exclude_subgroups  q_hat  coverage  \\\n",
       "0                       age                   keep-all   0.67  0.914703   \n",
       "\n",
       "   avg_size  cov_frau1  cov_nongerman  cov_nongerman_male  \\\n",
       "0   1.14538   0.912252        0.90956            0.925876   \n",
       "\n",
       "   cov_nongerman_female  \n",
       "0              0.882563  "
      ]
     },
     "execution_count": 56,
     "metadata": {},
     "output_type": "execute_result"
    }
   ],
   "source": [
    "cp_metrics_df"
   ]
  },
  {
   "cell_type": "markdown",
   "id": "3fc519cc",
   "metadata": {
    "papermill": {
     "duration": 0.012539,
     "end_time": "2025-08-19T18:29:29.149915",
     "exception": false,
     "start_time": "2025-08-19T18:29:29.137376",
     "status": "completed"
    },
    "tags": []
   },
   "source": [
    "# (Fairness) Metrics"
   ]
  },
  {
   "cell_type": "code",
   "execution_count": 57,
   "id": "a2e5e155",
   "metadata": {
    "execution": {
     "iopub.execute_input": "2025-08-19T18:29:29.178601Z",
     "iopub.status.busy": "2025-08-19T18:29:29.177428Z",
     "iopub.status.idle": "2025-08-19T18:29:29.207137Z",
     "shell.execute_reply": "2025-08-19T18:29:29.206282Z"
    },
    "papermill": {
     "duration": 0.04614,
     "end_time": "2025-08-19T18:29:29.209655",
     "exception": false,
     "start_time": "2025-08-19T18:29:29.163515",
     "status": "completed"
    },
    "tags": []
   },
   "outputs": [],
   "source": [
    "colname_to_bin = \"maxdeutsch1\"\n",
    "majority_value = org_train[colname_to_bin].mode()[0]\n",
    "\n",
    "org_test[\"majmin\"] = np.where(org_test[colname_to_bin] == majority_value, \"majority\", \"minority\")"
   ]
  },
  {
   "cell_type": "code",
   "execution_count": 58,
   "id": "17e3e4d5",
   "metadata": {
    "execution": {
     "iopub.execute_input": "2025-08-19T18:29:29.254148Z",
     "iopub.status.busy": "2025-08-19T18:29:29.253000Z",
     "iopub.status.idle": "2025-08-19T18:29:31.048253Z",
     "shell.execute_reply": "2025-08-19T18:29:31.046868Z"
    },
    "papermill": {
     "duration": 1.812304,
     "end_time": "2025-08-19T18:29:31.049943",
     "exception": false,
     "start_time": "2025-08-19T18:29:29.237639",
     "status": "completed"
    },
    "tags": []
   },
   "outputs": [],
   "source": [
    "example_universe = universe.copy()\n",
    "example_universe[\"cutoff\"] = example_universe[\"cutoff\"][0]\n",
    "example_universe[\"eval_fairness_grouping\"] = example_universe[\"eval_fairness_grouping\"][0]\n",
    "fairness_dict, metric_frame = universe_analysis.compute_metrics(\n",
    "    example_universe,\n",
    "    y_pred_prob=probs_test,\n",
    "    y_test=y_true,\n",
    "    org_test=org_test,\n",
    ")"
   ]
  },
  {
   "cell_type": "markdown",
   "id": "1fb7a0e9",
   "metadata": {
    "papermill": {
     "duration": 0.012181,
     "end_time": "2025-08-19T18:29:31.074943",
     "exception": false,
     "start_time": "2025-08-19T18:29:31.062762",
     "status": "completed"
    },
    "tags": []
   },
   "source": [
    "# Overall"
   ]
  },
  {
   "cell_type": "markdown",
   "id": "be1784b1",
   "metadata": {
    "papermill": {
     "duration": 0.012116,
     "end_time": "2025-08-19T18:29:31.099525",
     "exception": false,
     "start_time": "2025-08-19T18:29:31.087409",
     "status": "completed"
    },
    "tags": []
   },
   "source": [
    "Main fairness target: Equalized Odds. Seems to be a better fit than equal opportunity, since we're not only interested in Y = 1. Seems to be a better fit than demographic parity, since we also care about accuracy, not just equal distribution of preds.\n",
    "\n",
    "Pick column for computation of fairness metrics\n",
    "\n",
    "Performance\n",
    "Overall performance measures, most interesting in relation to the measures split by group below"
   ]
  },
  {
   "cell_type": "code",
   "execution_count": 59,
   "id": "b7672bee",
   "metadata": {
    "execution": {
     "iopub.execute_input": "2025-08-19T18:29:31.125299Z",
     "iopub.status.busy": "2025-08-19T18:29:31.124943Z",
     "iopub.status.idle": "2025-08-19T18:29:31.134419Z",
     "shell.execute_reply": "2025-08-19T18:29:31.133632Z"
    },
    "papermill": {
     "duration": 0.02408,
     "end_time": "2025-08-19T18:29:31.135634",
     "exception": false,
     "start_time": "2025-08-19T18:29:31.111554",
     "status": "completed"
    },
    "tags": []
   },
   "outputs": [
    {
     "data": {
      "text/plain": [
       "accuracy                   0.201304\n",
       "balanced accuracy          0.534660\n",
       "f1                         0.239995\n",
       "precision                  0.136682\n",
       "false positive rate        0.913736\n",
       "false negative rate        0.016945\n",
       "selection rate             0.922628\n",
       "count                  89710.000000\n",
       "dtype: float64"
      ]
     },
     "execution_count": 59,
     "metadata": {},
     "output_type": "execute_result"
    }
   ],
   "source": [
    "metric_frame.overall"
   ]
  },
  {
   "cell_type": "markdown",
   "id": "d93333c9",
   "metadata": {
    "papermill": {
     "duration": 0.027114,
     "end_time": "2025-08-19T18:29:31.179952",
     "exception": false,
     "start_time": "2025-08-19T18:29:31.152838",
     "status": "completed"
    },
    "tags": []
   },
   "source": [
    "By Group"
   ]
  },
  {
   "cell_type": "code",
   "execution_count": 60,
   "id": "52256966",
   "metadata": {
    "execution": {
     "iopub.execute_input": "2025-08-19T18:29:31.207996Z",
     "iopub.status.busy": "2025-08-19T18:29:31.207175Z",
     "iopub.status.idle": "2025-08-19T18:29:31.221343Z",
     "shell.execute_reply": "2025-08-19T18:29:31.220510Z"
    },
    "papermill": {
     "duration": 0.038915,
     "end_time": "2025-08-19T18:29:31.232755",
     "exception": false,
     "start_time": "2025-08-19T18:29:31.193840",
     "status": "completed"
    },
    "tags": []
   },
   "outputs": [
    {
     "data": {
      "text/html": [
       "<div>\n",
       "<style scoped>\n",
       "    .dataframe tbody tr th:only-of-type {\n",
       "        vertical-align: middle;\n",
       "    }\n",
       "\n",
       "    .dataframe tbody tr th {\n",
       "        vertical-align: top;\n",
       "    }\n",
       "\n",
       "    .dataframe thead th {\n",
       "        text-align: right;\n",
       "    }\n",
       "</style>\n",
       "<table border=\"1\" class=\"dataframe\">\n",
       "  <thead>\n",
       "    <tr style=\"text-align: right;\">\n",
       "      <th></th>\n",
       "      <th>accuracy</th>\n",
       "      <th>balanced accuracy</th>\n",
       "      <th>f1</th>\n",
       "      <th>precision</th>\n",
       "      <th>false positive rate</th>\n",
       "      <th>false negative rate</th>\n",
       "      <th>selection rate</th>\n",
       "      <th>count</th>\n",
       "    </tr>\n",
       "    <tr>\n",
       "      <th>majmin</th>\n",
       "      <th></th>\n",
       "      <th></th>\n",
       "      <th></th>\n",
       "      <th></th>\n",
       "      <th></th>\n",
       "      <th></th>\n",
       "      <th></th>\n",
       "      <th></th>\n",
       "    </tr>\n",
       "  </thead>\n",
       "  <tbody>\n",
       "    <tr>\n",
       "      <th>majority</th>\n",
       "      <td>0.195012</td>\n",
       "      <td>0.532606</td>\n",
       "      <td>0.245566</td>\n",
       "      <td>0.140138</td>\n",
       "      <td>0.926254</td>\n",
       "      <td>0.008534</td>\n",
       "      <td>0.934871</td>\n",
       "      <td>69170.0</td>\n",
       "    </tr>\n",
       "    <tr>\n",
       "      <th>minority</th>\n",
       "      <td>0.222493</td>\n",
       "      <td>0.539103</td>\n",
       "      <td>0.219910</td>\n",
       "      <td>0.124337</td>\n",
       "      <td>0.872386</td>\n",
       "      <td>0.049409</td>\n",
       "      <td>0.881402</td>\n",
       "      <td>20540.0</td>\n",
       "    </tr>\n",
       "  </tbody>\n",
       "</table>\n",
       "</div>"
      ],
      "text/plain": [
       "          accuracy  balanced accuracy        f1  precision  \\\n",
       "majmin                                                       \n",
       "majority  0.195012           0.532606  0.245566   0.140138   \n",
       "minority  0.222493           0.539103  0.219910   0.124337   \n",
       "\n",
       "          false positive rate  false negative rate  selection rate    count  \n",
       "majmin                                                                       \n",
       "majority             0.926254             0.008534        0.934871  69170.0  \n",
       "minority             0.872386             0.049409        0.881402  20540.0  "
      ]
     },
     "execution_count": 60,
     "metadata": {},
     "output_type": "execute_result"
    }
   ],
   "source": [
    "metric_frame.by_group"
   ]
  },
  {
   "cell_type": "code",
   "execution_count": 61,
   "id": "6e6c20ae",
   "metadata": {
    "execution": {
     "iopub.execute_input": "2025-08-19T18:29:31.276592Z",
     "iopub.status.busy": "2025-08-19T18:29:31.275217Z",
     "iopub.status.idle": "2025-08-19T18:29:33.219923Z",
     "shell.execute_reply": "2025-08-19T18:29:33.218992Z"
    },
    "papermill": {
     "duration": 1.963413,
     "end_time": "2025-08-19T18:29:33.223110",
     "exception": false,
     "start_time": "2025-08-19T18:29:31.259697",
     "status": "completed"
    },
    "tags": []
   },
   "outputs": [
    {
     "data": {
      "text/plain": [
       "array([[<Axes: title={'center': 'accuracy'}, xlabel='majmin'>,\n",
       "        <Axes: title={'center': 'balanced accuracy'}, xlabel='majmin'>,\n",
       "        <Axes: title={'center': 'f1'}, xlabel='majmin'>],\n",
       "       [<Axes: title={'center': 'precision'}, xlabel='majmin'>,\n",
       "        <Axes: title={'center': 'false positive rate'}, xlabel='majmin'>,\n",
       "        <Axes: title={'center': 'false negative rate'}, xlabel='majmin'>],\n",
       "       [<Axes: title={'center': 'selection rate'}, xlabel='majmin'>,\n",
       "        <Axes: title={'center': 'count'}, xlabel='majmin'>,\n",
       "        <Axes: xlabel='majmin'>]], dtype=object)"
      ]
     },
     "execution_count": 61,
     "metadata": {},
     "output_type": "execute_result"
    },
    {
     "data": {
      "image/png": "[encoded data removed]",
      "text/plain": [
       "<Figure size 1200x800 with 9 Axes>"
      ]
     },
     "metadata": {},
     "output_type": "display_data"
    }
   ],
   "source": [
    "# In a graphic\n",
    "metric_frame.by_group.plot.bar(\n",
    "    subplots=True,\n",
    "    layout=[3, 3],\n",
    "    legend=False,\n",
    "    figsize=[12, 8],\n",
    "    title=\"Show all metrics\",\n",
    ")"
   ]
  },
  {
   "cell_type": "markdown",
   "id": "b2e433ae",
   "metadata": {
    "papermill": {
     "duration": 0.028689,
     "end_time": "2025-08-19T18:29:33.279589",
     "exception": false,
     "start_time": "2025-08-19T18:29:33.250900",
     "status": "completed"
    },
    "tags": []
   },
   "source": [
    "# Final Output"
   ]
  },
  {
   "cell_type": "code",
   "execution_count": 62,
   "id": "3871301e",
   "metadata": {
    "execution": {
     "iopub.execute_input": "2025-08-19T18:29:33.314201Z",
     "iopub.status.busy": "2025-08-19T18:29:33.311625Z",
     "iopub.status.idle": "2025-08-19T18:29:33.330998Z",
     "shell.execute_reply": "2025-08-19T18:29:33.330150Z"
    },
    "papermill": {
     "duration": 0.038647,
     "end_time": "2025-08-19T18:29:33.332865",
     "exception": false,
     "start_time": "2025-08-19T18:29:33.294218",
     "status": "completed"
    },
    "tags": []
   },
   "outputs": [
    {
     "data": {
      "text/plain": [
       "4"
      ]
     },
     "execution_count": 62,
     "metadata": {},
     "output_type": "execute_result"
    }
   ],
   "source": [
    "sub_universes = universe_analysis.generate_sub_universes()\n",
    "len(sub_universes)"
   ]
  },
  {
   "cell_type": "code",
   "execution_count": 63,
   "id": "d9cfdaca",
   "metadata": {
    "execution": {
     "iopub.execute_input": "2025-08-19T18:29:33.372003Z",
     "iopub.status.busy": "2025-08-19T18:29:33.370908Z",
     "iopub.status.idle": "2025-08-19T18:29:33.379977Z",
     "shell.execute_reply": "2025-08-19T18:29:33.378570Z"
    },
    "papermill": {
     "duration": 0.026529,
     "end_time": "2025-08-19T18:29:33.381481",
     "exception": false,
     "start_time": "2025-08-19T18:29:33.354952",
     "status": "completed"
    },
    "tags": []
   },
   "outputs": [],
   "source": [
    "def filter_sub_universe_data(sub_universe, org_test):\n",
    "    # Keep all rows — no filtering\n",
    "    keep_rows_mask = np.ones(org_test.shape[0], dtype=bool)\n",
    "\n",
    "    print(f\"[INFO] Keeping all rows: {keep_rows_mask.sum()} rows retained.\")\n",
    "    return keep_rows_mask"
   ]
  },
  {
   "cell_type": "code",
   "execution_count": 64,
   "id": "2bc31ac1",
   "metadata": {
    "execution": {
     "iopub.execute_input": "2025-08-19T18:29:33.414879Z",
     "iopub.status.busy": "2025-08-19T18:29:33.413701Z",
     "iopub.status.idle": "2025-08-19T18:29:40.100296Z",
     "shell.execute_reply": "2025-08-19T18:29:40.099191Z"
    },
    "papermill": {
     "duration": 6.703422,
     "end_time": "2025-08-19T18:29:40.101717",
     "exception": false,
     "start_time": "2025-08-19T18:29:33.398295",
     "status": "completed"
    },
    "tags": []
   },
   "outputs": [
    {
     "name": "stdout",
     "output_type": "stream",
     "text": [
      "Stopping execution_time clock.\n",
      "[INFO] Keeping all rows: 89710 rows retained.\n"
     ]
    },
    {
     "name": "stdout",
     "output_type": "stream",
     "text": [
      "[INFO] Keeping all rows: 89710 rows retained.\n"
     ]
    },
    {
     "name": "stdout",
     "output_type": "stream",
     "text": [
      "[INFO] Keeping all rows: 89710 rows retained.\n"
     ]
    },
    {
     "name": "stdout",
     "output_type": "stream",
     "text": [
      "[INFO] Keeping all rows: 89710 rows retained.\n"
     ]
    },
    {
     "data": {
      "text/html": [
       "<div>\n",
       "<style scoped>\n",
       "    .dataframe tbody tr th:only-of-type {\n",
       "        vertical-align: middle;\n",
       "    }\n",
       "\n",
       "    .dataframe tbody tr th {\n",
       "        vertical-align: top;\n",
       "    }\n",
       "\n",
       "    .dataframe thead th {\n",
       "        text-align: right;\n",
       "    }\n",
       "</style>\n",
       "<table border=\"1\" class=\"dataframe\">\n",
       "  <thead>\n",
       "    <tr style=\"text-align: right;\">\n",
       "      <th></th>\n",
       "      <th>run_no</th>\n",
       "      <th>universe_id</th>\n",
       "      <th>universe_settings</th>\n",
       "      <th>execution_time</th>\n",
       "      <th>test_size_n</th>\n",
       "      <th>test_size_frac</th>\n",
       "      <th>fair_main_equalized_odds_difference</th>\n",
       "      <th>fair_main_equalized_odds_ratio</th>\n",
       "      <th>fair_main_demographic_parity_difference</th>\n",
       "      <th>fair_main_demographic_parity_ratio</th>\n",
       "      <th>...</th>\n",
       "      <th>perf_grp_precision_0</th>\n",
       "      <th>perf_grp_precision_1</th>\n",
       "      <th>perf_grp_false positive rate_0</th>\n",
       "      <th>perf_grp_false positive rate_1</th>\n",
       "      <th>perf_grp_false negative rate_0</th>\n",
       "      <th>perf_grp_false negative rate_1</th>\n",
       "      <th>perf_grp_selection rate_0</th>\n",
       "      <th>perf_grp_selection rate_1</th>\n",
       "      <th>perf_grp_count_0</th>\n",
       "      <th>perf_grp_count_1</th>\n",
       "    </tr>\n",
       "  </thead>\n",
       "  <tbody>\n",
       "    <tr>\n",
       "      <th>0</th>\n",
       "      <td>3</td>\n",
       "      <td>d6c5398553f5cbd03a0a209fc1c8b0e9</td>\n",
       "      <td>{\"cutoff\": \"quantile_0.1\", \"eval_fairness_grou...</td>\n",
       "      <td>30.193328</td>\n",
       "      <td>89710</td>\n",
       "      <td>1.0</td>\n",
       "      <td>0.053867</td>\n",
       "      <td>0.941844</td>\n",
       "      <td>0.053468</td>\n",
       "      <td>0.942807</td>\n",
       "      <td>...</td>\n",
       "      <td>NaN</td>\n",
       "      <td>NaN</td>\n",
       "      <td>NaN</td>\n",
       "      <td>NaN</td>\n",
       "      <td>NaN</td>\n",
       "      <td>NaN</td>\n",
       "      <td>NaN</td>\n",
       "      <td>NaN</td>\n",
       "      <td>NaN</td>\n",
       "      <td>NaN</td>\n",
       "    </tr>\n",
       "    <tr>\n",
       "      <th>0</th>\n",
       "      <td>3</td>\n",
       "      <td>d6c5398553f5cbd03a0a209fc1c8b0e9</td>\n",
       "      <td>{\"cutoff\": \"quantile_0.1\", \"eval_fairness_grou...</td>\n",
       "      <td>30.193328</td>\n",
       "      <td>89710</td>\n",
       "      <td>1.0</td>\n",
       "      <td>0.053867</td>\n",
       "      <td>0.941844</td>\n",
       "      <td>0.053468</td>\n",
       "      <td>0.942807</td>\n",
       "      <td>...</td>\n",
       "      <td>0.124337</td>\n",
       "      <td>0.140138</td>\n",
       "      <td>0.872386</td>\n",
       "      <td>0.926254</td>\n",
       "      <td>0.049409</td>\n",
       "      <td>0.008534</td>\n",
       "      <td>0.881402</td>\n",
       "      <td>0.934871</td>\n",
       "      <td>20540.0</td>\n",
       "      <td>69170.0</td>\n",
       "    </tr>\n",
       "    <tr>\n",
       "      <th>0</th>\n",
       "      <td>3</td>\n",
       "      <td>d6c5398553f5cbd03a0a209fc1c8b0e9</td>\n",
       "      <td>{\"cutoff\": \"quantile_0.25\", \"eval_fairness_gro...</td>\n",
       "      <td>30.193328</td>\n",
       "      <td>89710</td>\n",
       "      <td>1.0</td>\n",
       "      <td>0.094677</td>\n",
       "      <td>0.900144</td>\n",
       "      <td>0.069334</td>\n",
       "      <td>0.910787</td>\n",
       "      <td>...</td>\n",
       "      <td>NaN</td>\n",
       "      <td>NaN</td>\n",
       "      <td>NaN</td>\n",
       "      <td>NaN</td>\n",
       "      <td>NaN</td>\n",
       "      <td>NaN</td>\n",
       "      <td>NaN</td>\n",
       "      <td>NaN</td>\n",
       "      <td>NaN</td>\n",
       "      <td>NaN</td>\n",
       "    </tr>\n",
       "    <tr>\n",
       "      <th>0</th>\n",
       "      <td>3</td>\n",
       "      <td>d6c5398553f5cbd03a0a209fc1c8b0e9</td>\n",
       "      <td>{\"cutoff\": \"quantile_0.25\", \"eval_fairness_gro...</td>\n",
       "      <td>30.193328</td>\n",
       "      <td>89710</td>\n",
       "      <td>1.0</td>\n",
       "      <td>0.094677</td>\n",
       "      <td>0.900144</td>\n",
       "      <td>0.069334</td>\n",
       "      <td>0.910787</td>\n",
       "      <td>...</td>\n",
       "      <td>0.139005</td>\n",
       "      <td>0.161207</td>\n",
       "      <td>0.688862</td>\n",
       "      <td>0.751141</td>\n",
       "      <td>0.146537</td>\n",
       "      <td>0.051860</td>\n",
       "      <td>0.707838</td>\n",
       "      <td>0.777172</td>\n",
       "      <td>20540.0</td>\n",
       "      <td>69170.0</td>\n",
       "    </tr>\n",
       "  </tbody>\n",
       "</table>\n",
       "<p>4 rows × 50 columns</p>\n",
       "</div>"
      ],
      "text/plain": [
       "  run_no                       universe_id  \\\n",
       "0      3  d6c5398553f5cbd03a0a209fc1c8b0e9   \n",
       "0      3  d6c5398553f5cbd03a0a209fc1c8b0e9   \n",
       "0      3  d6c5398553f5cbd03a0a209fc1c8b0e9   \n",
       "0      3  d6c5398553f5cbd03a0a209fc1c8b0e9   \n",
       "\n",
       "                                   universe_settings  execution_time  \\\n",
       "0  {\"cutoff\": \"quantile_0.1\", \"eval_fairness_grou...       30.193328   \n",
       "0  {\"cutoff\": \"quantile_0.1\", \"eval_fairness_grou...       30.193328   \n",
       "0  {\"cutoff\": \"quantile_0.25\", \"eval_fairness_gro...       30.193328   \n",
       "0  {\"cutoff\": \"quantile_0.25\", \"eval_fairness_gro...       30.193328   \n",
       "\n",
       "   test_size_n  test_size_frac  fair_main_equalized_odds_difference  \\\n",
       "0        89710             1.0                             0.053867   \n",
       "0        89710             1.0                             0.053867   \n",
       "0        89710             1.0                             0.094677   \n",
       "0        89710             1.0                             0.094677   \n",
       "\n",
       "   fair_main_equalized_odds_ratio  fair_main_demographic_parity_difference  \\\n",
       "0                        0.941844                                 0.053468   \n",
       "0                        0.941844                                 0.053468   \n",
       "0                        0.900144                                 0.069334   \n",
       "0                        0.900144                                 0.069334   \n",
       "\n",
       "   fair_main_demographic_parity_ratio  ...  perf_grp_precision_0  \\\n",
       "0                            0.942807  ...                   NaN   \n",
       "0                            0.942807  ...              0.124337   \n",
       "0                            0.910787  ...                   NaN   \n",
       "0                            0.910787  ...              0.139005   \n",
       "\n",
       "   perf_grp_precision_1  perf_grp_false positive rate_0  \\\n",
       "0                   NaN                             NaN   \n",
       "0              0.140138                        0.872386   \n",
       "0                   NaN                             NaN   \n",
       "0              0.161207                        0.688862   \n",
       "\n",
       "   perf_grp_false positive rate_1  perf_grp_false negative rate_0  \\\n",
       "0                             NaN                             NaN   \n",
       "0                        0.926254                        0.049409   \n",
       "0                             NaN                             NaN   \n",
       "0                        0.751141                        0.146537   \n",
       "\n",
       "   perf_grp_false negative rate_1  perf_grp_selection rate_0  \\\n",
       "0                             NaN                        NaN   \n",
       "0                        0.008534                   0.881402   \n",
       "0                             NaN                        NaN   \n",
       "0                        0.051860                   0.707838   \n",
       "\n",
       "   perf_grp_selection rate_1  perf_grp_count_0  perf_grp_count_1  \n",
       "0                        NaN               NaN               NaN  \n",
       "0                   0.934871           20540.0           69170.0  \n",
       "0                        NaN               NaN               NaN  \n",
       "0                   0.777172           20540.0           69170.0  \n",
       "\n",
       "[4 rows x 50 columns]"
      ]
     },
     "execution_count": 64,
     "metadata": {},
     "output_type": "execute_result"
    }
   ],
   "source": [
    "final_output = universe_analysis.generate_final_output(\n",
    "    y_pred_prob=probs_test,\n",
    "    y_test=y_true,\n",
    "    org_test=org_test,\n",
    "    filter_data=filter_sub_universe_data,\n",
    "    cp_metrics_df=cp_metrics_df,\n",
    "    save=True,\n",
    ")\n",
    "final_output"
   ]
  },
  {
   "cell_type": "code",
   "execution_count": null,
   "id": "8b80a1ff",
   "metadata": {
    "papermill": {
     "duration": 0.014925,
     "end_time": "2025-08-19T18:29:40.135150",
     "exception": false,
     "start_time": "2025-08-19T18:29:40.120225",
     "status": "completed"
    },
    "tags": []
   },
   "outputs": [],
   "source": []
  },
  {
   "cell_type": "code",
   "execution_count": null,
   "id": "275c9fad",
   "metadata": {
    "papermill": {
     "duration": 0.014682,
     "end_time": "2025-08-19T18:29:40.164309",
     "exception": false,
     "start_time": "2025-08-19T18:29:40.149627",
     "status": "completed"
    },
    "tags": []
   },
   "outputs": [],
   "source": []
  }
 ],
 "metadata": {
  "celltoolbar": "Tags",
  "kernelspec": {
   "display_name": "Python (CMA Fairness)",
   "language": "python",
   "name": "cma_fair_env"
  },
  "language_info": {
   "codemirror_mode": {
    "name": "ipython",
    "version": 3
   },
   "file_extension": ".py",
   "mimetype": "text/x-python",
   "name": "python",
   "nbconvert_exporter": "python",
   "pygments_lexer": "ipython3",
   "version": "3.10.12"
  },
  "papermill": {
   "default_parameters": {},
   "duration": 40.74664,
   "end_time": "2025-08-19T18:29:41.021907",
   "environment_variables": {},
   "exception": null,
   "input_path": "universe_analysis.ipynb",
   "output_path": "output/runs/3/notebooks/m_3-d6c5398553f5cbd03a0a209fc1c8b0e9.ipynb",
   "parameters": {
    "output_dir": "output",
    "run_no": "3",
    "seed": "2023",
    "universe": "{\"cutoff\": [\"quantile_0.1\", \"quantile_0.25\"], \"eval_fairness_grouping\": [\"majority-minority\", \"nationality-all\"], \"exclude_features\": \"age\", \"exclude_subgroups\": \"keep-all\", \"model\": \"rf\", \"scale\": \"do-not-scale\", \"training_size\": \"5k\", \"training_year\": \"2014\"}",
    "universe_id": "d6c5398553f5cbd03a0a209fc1c8b0e9"
   },
   "start_time": "2025-08-19T18:29:00.275267",
   "version": "2.6.0"
  }
 },
 "nbformat": 4,
 "nbformat_minor": 5
}