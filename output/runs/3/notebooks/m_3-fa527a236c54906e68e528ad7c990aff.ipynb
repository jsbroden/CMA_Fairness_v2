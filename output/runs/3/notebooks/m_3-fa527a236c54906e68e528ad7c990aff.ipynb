{
 "cells": [
  {
   "cell_type": "markdown",
   "id": "ef23dbb3",
   "metadata": {
    "papermill": {
     "duration": 0.02283,
     "end_time": "2025-08-19T18:58:36.927247",
     "exception": false,
     "start_time": "2025-08-19T18:58:36.904417",
     "status": "completed"
    },
    "tags": []
   },
   "source": [
    "# Setup"
   ]
  },
  {
   "cell_type": "code",
   "execution_count": 1,
   "id": "0bc8e7dc",
   "metadata": {
    "execution": {
     "iopub.execute_input": "2025-08-19T18:58:36.952693Z",
     "iopub.status.busy": "2025-08-19T18:58:36.951191Z",
     "iopub.status.idle": "2025-08-19T18:58:36.977962Z",
     "shell.execute_reply": "2025-08-19T18:58:36.976865Z"
    },
    "papermill": {
     "duration": 0.04025,
     "end_time": "2025-08-19T18:58:36.980288",
     "exception": false,
     "start_time": "2025-08-19T18:58:36.940038",
     "status": "completed"
    },
    "tags": []
   },
   "outputs": [
    {
     "name": "stdout",
     "output_type": "stream",
     "text": [
      "/dss/dsshome1/0C/ra93lal2/cma/CMA_Fairness_v2\n"
     ]
    },
    {
     "name": "stderr",
     "output_type": "stream",
     "text": [
      "/dss/dsshome1/0C/ra93lal2/.local/share/virtualenvs/CMA_Fairness_v2-3j10GkSs/lib/python3.10/site-packages/IPython/core/magics/osm.py:393: UserWarning: This is now an optional IPython functionality, using bookmarks requires you to install the `pickleshare` library.\n",
      "  bkms = self.shell.db.get('bookmarks', {})\n",
      "/dss/dsshome1/0C/ra93lal2/.local/share/virtualenvs/CMA_Fairness_v2-3j10GkSs/lib/python3.10/site-packages/IPython/core/magics/osm.py:417: UserWarning: This is now an optional IPython functionality, setting dhist requires you to install the `pickleshare` library.\n",
      "  self.shell.db['dhist'] = compress_dhist(dhist)[-100:]\n"
     ]
    }
   ],
   "source": [
    "%cd ~/cma/CMA_Fairness_v2"
   ]
  },
  {
   "cell_type": "markdown",
   "id": "9d235661",
   "metadata": {
    "papermill": {
     "duration": 0.008882,
     "end_time": "2025-08-19T18:58:36.999239",
     "exception": false,
     "start_time": "2025-08-19T18:58:36.990357",
     "status": "completed"
    },
    "tags": []
   },
   "source": [
    "The following cell holds the definition of our parameters, these values can be overriden by rendering the with e.g. the following command:\n",
    "\n",
    "papermill -p alpha 0.2 -p ratio 0.3 universe_analysis.ipynb output/test_run.ipynb"
   ]
  },
  {
   "cell_type": "code",
   "execution_count": 2,
   "id": "4a789d8e",
   "metadata": {
    "execution": {
     "iopub.execute_input": "2025-08-19T18:58:37.018298Z",
     "iopub.status.busy": "2025-08-19T18:58:37.017926Z",
     "iopub.status.idle": "2025-08-19T18:58:37.024867Z",
     "shell.execute_reply": "2025-08-19T18:58:37.024067Z"
    },
    "papermill": {
     "duration": 0.018542,
     "end_time": "2025-08-19T18:58:37.026535",
     "exception": false,
     "start_time": "2025-08-19T18:58:37.007993",
     "status": "completed"
    },
    "tags": []
   },
   "outputs": [
    {
     "name": "stdout",
     "output_type": "stream",
     "text": [
      "Current working directory: /dss/dsshome1/0C/ra93lal2/cma/CMA_Fairness_v2\n"
     ]
    }
   ],
   "source": [
    "import os\n",
    "print(\"Current working directory:\", os.getcwd())"
   ]
  },
  {
   "cell_type": "code",
   "execution_count": 3,
   "id": "4132aaed",
   "metadata": {
    "execution": {
     "iopub.execute_input": "2025-08-19T18:58:37.046568Z",
     "iopub.status.busy": "2025-08-19T18:58:37.046288Z",
     "iopub.status.idle": "2025-08-19T18:58:37.050666Z",
     "shell.execute_reply": "2025-08-19T18:58:37.050015Z"
    },
    "papermill": {
     "duration": 0.015238,
     "end_time": "2025-08-19T18:58:37.051863",
     "exception": false,
     "start_time": "2025-08-19T18:58:37.036625",
     "status": "completed"
    },
    "tags": [
     "parameters"
    ]
   },
   "outputs": [],
   "source": [
    "run_no = 0\n",
    "universe_id = \"test\"\n",
    "universe = {\n",
    "    \"training_size\": \"5k\", # \"25k\", \"5k\", \"1k\"\n",
    "    \"training_year\": \"2012_14\", # \"2014\", \"2012_14\", \"2010_14\"\n",
    "    \"scale\": \"scale\", # \"scale\", \"do-not-scale\",\n",
    "    \"model\": \"elasticnet\", # \"logreg\", \"penalized_logreg\", \"rf\", \"gbm\", \"elasticnet\"\n",
    "    \"cutoff\": [\"quantile_0.15\", \"quantile_0.30\"],\n",
    "    \"exclude_features\": \"age\", # \"none\", \"nationality\", \"sex\", \"nationality-sex\", \"age\"\n",
    "    \"exclude_subgroups\": \"drop-non-german\", # \"keep-all\", \"drop-non-german\"\n",
    "    \"eval_fairness_grouping\": [\"majority-minority\", \"nationality-all\"]\n",
    "}\n",
    "\n",
    "output_dir=\"./output\"\n",
    "seed=0"
   ]
  },
  {
   "cell_type": "code",
   "execution_count": 4,
   "id": "77ed9487",
   "metadata": {
    "execution": {
     "iopub.execute_input": "2025-08-19T18:58:37.071011Z",
     "iopub.status.busy": "2025-08-19T18:58:37.070605Z",
     "iopub.status.idle": "2025-08-19T18:58:37.096452Z",
     "shell.execute_reply": "2025-08-19T18:58:37.095717Z"
    },
    "papermill": {
     "duration": 0.037693,
     "end_time": "2025-08-19T18:58:37.098529",
     "exception": false,
     "start_time": "2025-08-19T18:58:37.060836",
     "status": "completed"
    },
    "tags": [
     "injected-parameters"
    ]
   },
   "outputs": [],
   "source": [
    "# Parameters\n",
    "universe_id = \"fa527a236c54906e68e528ad7c990aff\"\n",
    "run_no = \"3\"\n",
    "universe = \"{\\\"cutoff\\\": [\\\"quantile_0.1\\\", \\\"quantile_0.25\\\"], \\\"eval_fairness_grouping\\\": [\\\"majority-minority\\\", \\\"nationality-all\\\"], \\\"exclude_features\\\": \\\"nationality-sex\\\", \\\"exclude_subgroups\\\": \\\"drop-non-german\\\", \\\"model\\\": \\\"rf\\\", \\\"scale\\\": \\\"scale\\\", \\\"training_size\\\": \\\"1k\\\", \\\"training_year\\\": \\\"2012_14\\\"}\"\n",
    "output_dir = \"output\"\n",
    "seed = \"2023\"\n"
   ]
  },
  {
   "cell_type": "code",
   "execution_count": 5,
   "id": "a5d7941f",
   "metadata": {
    "execution": {
     "iopub.execute_input": "2025-08-19T18:58:37.130639Z",
     "iopub.status.busy": "2025-08-19T18:58:37.130242Z",
     "iopub.status.idle": "2025-08-19T18:58:37.134192Z",
     "shell.execute_reply": "2025-08-19T18:58:37.133515Z"
    },
    "papermill": {
     "duration": 0.025262,
     "end_time": "2025-08-19T18:58:37.141647",
     "exception": false,
     "start_time": "2025-08-19T18:58:37.116385",
     "status": "completed"
    },
    "tags": []
   },
   "outputs": [],
   "source": [
    "import json\n",
    "if isinstance(universe, str):\n",
    "    universe = json.loads(universe)"
   ]
  },
  {
   "cell_type": "code",
   "execution_count": 6,
   "id": "7076ccb1",
   "metadata": {
    "execution": {
     "iopub.execute_input": "2025-08-19T18:58:37.173658Z",
     "iopub.status.busy": "2025-08-19T18:58:37.173268Z",
     "iopub.status.idle": "2025-08-19T18:58:37.242697Z",
     "shell.execute_reply": "2025-08-19T18:58:37.240980Z"
    },
    "papermill": {
     "duration": 0.090993,
     "end_time": "2025-08-19T18:58:37.244236",
     "exception": false,
     "start_time": "2025-08-19T18:58:37.153243",
     "status": "completed"
    },
    "tags": []
   },
   "outputs": [],
   "source": [
    "# Auto-reload the custom package\n",
    "%load_ext autoreload\n",
    "%autoreload 1\n",
    "%aimport fairness_multiverse"
   ]
  },
  {
   "cell_type": "code",
   "execution_count": 7,
   "id": "94c8eb93",
   "metadata": {
    "execution": {
     "iopub.execute_input": "2025-08-19T18:58:37.266361Z",
     "iopub.status.busy": "2025-08-19T18:58:37.265114Z",
     "iopub.status.idle": "2025-08-19T18:58:38.788916Z",
     "shell.execute_reply": "2025-08-19T18:58:38.774931Z"
    },
    "papermill": {
     "duration": 1.536814,
     "end_time": "2025-08-19T18:58:38.790692",
     "exception": false,
     "start_time": "2025-08-19T18:58:37.253878",
     "status": "completed"
    },
    "tags": []
   },
   "outputs": [],
   "source": [
    "from fairness_multiverse.universe import UniverseAnalysis\n",
    "\n",
    "universe_analysis = UniverseAnalysis(\n",
    "    run_no = run_no,\n",
    "    universe_id = universe_id,\n",
    "    universe = universe,\n",
    "    output_dir=output_dir,\n",
    ")"
   ]
  },
  {
   "cell_type": "code",
   "execution_count": 8,
   "id": "2a6381cf",
   "metadata": {
    "execution": {
     "iopub.execute_input": "2025-08-19T18:58:38.815115Z",
     "iopub.status.busy": "2025-08-19T18:58:38.814734Z",
     "iopub.status.idle": "2025-08-19T18:58:38.821564Z",
     "shell.execute_reply": "2025-08-19T18:58:38.820133Z"
    },
    "papermill": {
     "duration": 0.022788,
     "end_time": "2025-08-19T18:58:38.822924",
     "exception": false,
     "start_time": "2025-08-19T18:58:38.800136",
     "status": "completed"
    },
    "tags": []
   },
   "outputs": [
    {
     "name": "stdout",
     "output_type": "stream",
     "text": [
      "Using Seed: 2023\n"
     ]
    }
   ],
   "source": [
    "import numpy as np\n",
    "parsed_seed = int(seed)\n",
    "np.random.seed(parsed_seed)\n",
    "print(f\"Using Seed: {parsed_seed}\")"
   ]
  },
  {
   "cell_type": "markdown",
   "id": "b6e958b4",
   "metadata": {
    "papermill": {
     "duration": 0.009555,
     "end_time": "2025-08-19T18:58:38.841962",
     "exception": false,
     "start_time": "2025-08-19T18:58:38.832407",
     "status": "completed"
    },
    "tags": []
   },
   "source": [
    "# Loading Data"
   ]
  },
  {
   "cell_type": "code",
   "execution_count": 9,
   "id": "98701482",
   "metadata": {
    "execution": {
     "iopub.execute_input": "2025-08-19T18:58:38.861353Z",
     "iopub.status.busy": "2025-08-19T18:58:38.860976Z",
     "iopub.status.idle": "2025-08-19T18:58:48.656972Z",
     "shell.execute_reply": "2025-08-19T18:58:48.655981Z"
    },
    "papermill": {
     "duration": 9.807263,
     "end_time": "2025-08-19T18:58:48.658226",
     "exception": false,
     "start_time": "2025-08-19T18:58:38.850963",
     "status": "completed"
    },
    "tags": []
   },
   "outputs": [
    {
     "name": "stdout",
     "output_type": "stream",
     "text": [
      "Loading SIAB data from cache: data/siab_cached.csv.gz\n"
     ]
    },
    {
     "name": "stdout",
     "output_type": "stream",
     "text": [
      "(643690, 164)\n"
     ]
    }
   ],
   "source": [
    "from pathlib import Path\n",
    "import pandas as pd\n",
    "\n",
    "# File paths\n",
    "raw_file = Path(\"data/raw/siab.csv\")\n",
    "cache_file = Path(\"data/siab_cached.csv.gz\")\n",
    "\n",
    "# Ensure cache directory exists\n",
    "cache_file.parent.mkdir(parents=True, exist_ok=True)\n",
    "\n",
    "# Load with simple caching\n",
    "if cache_file.exists():\n",
    "    print(f\"Loading SIAB data from cache: {cache_file}\")\n",
    "    siab = pd.read_csv(cache_file, compression='gzip')\n",
    "else:\n",
    "    print(f\"Cache not found. Reading raw SIAB data: {raw_file}\")\n",
    "    siab = pd.read_csv(raw_file)\n",
    "    siab.to_csv(cache_file, index=False, compression='gzip')\n",
    "    print(f\"Cached SIAB data to: {cache_file}\")\n",
    "\n",
    "print(siab.shape)"
   ]
  },
  {
   "cell_type": "code",
   "execution_count": 10,
   "id": "058d2abb",
   "metadata": {
    "execution": {
     "iopub.execute_input": "2025-08-19T18:58:48.681607Z",
     "iopub.status.busy": "2025-08-19T18:58:48.681179Z",
     "iopub.status.idle": "2025-08-19T18:58:48.875134Z",
     "shell.execute_reply": "2025-08-19T18:58:48.873711Z"
    },
    "papermill": {
     "duration": 0.206097,
     "end_time": "2025-08-19T18:58:48.876599",
     "exception": false,
     "start_time": "2025-08-19T18:58:48.670502",
     "status": "completed"
    },
    "tags": []
   },
   "outputs": [
    {
     "data": {
      "text/html": [
       "<div>\n",
       "<style scoped>\n",
       "    .dataframe tbody tr th:only-of-type {\n",
       "        vertical-align: middle;\n",
       "    }\n",
       "\n",
       "    .dataframe tbody tr th {\n",
       "        vertical-align: top;\n",
       "    }\n",
       "\n",
       "    .dataframe thead th {\n",
       "        text-align: right;\n",
       "    }\n",
       "</style>\n",
       "<table border=\"1\" class=\"dataframe\">\n",
       "  <thead>\n",
       "    <tr style=\"text-align: right;\">\n",
       "      <th></th>\n",
       "      <th>persnr</th>\n",
       "      <th>year</th>\n",
       "      <th>nrEntry</th>\n",
       "      <th>ltue</th>\n",
       "      <th>employed_before</th>\n",
       "      <th>receipt_leh_before</th>\n",
       "      <th>receipt_lhg_before</th>\n",
       "      <th>se_before</th>\n",
       "      <th>ASU_notue_seeking_before</th>\n",
       "      <th>ASU_other_before</th>\n",
       "      <th>...</th>\n",
       "      <th>minijob_tot_dur_byage</th>\n",
       "      <th>ft_tot_dur_byage</th>\n",
       "      <th>befrist_tot_dur_byage</th>\n",
       "      <th>leih_tot_dur_byage</th>\n",
       "      <th>LHG_tot_dur_byage</th>\n",
       "      <th>LEH_tot_dur_byage</th>\n",
       "      <th>almp_tot_dur_byage</th>\n",
       "      <th>almp_aw_tot_dur_byage</th>\n",
       "      <th>se_tot_dur_byage</th>\n",
       "      <th>seeking1_tot_dur_byage</th>\n",
       "    </tr>\n",
       "  </thead>\n",
       "  <tbody>\n",
       "    <tr>\n",
       "      <th>0</th>\n",
       "      <td>7</td>\n",
       "      <td>2015</td>\n",
       "      <td>1</td>\n",
       "      <td>0</td>\n",
       "      <td>1</td>\n",
       "      <td>0</td>\n",
       "      <td>0</td>\n",
       "      <td>0</td>\n",
       "      <td>1</td>\n",
       "      <td>0</td>\n",
       "      <td>...</td>\n",
       "      <td>0.000000</td>\n",
       "      <td>0.000000</td>\n",
       "      <td>15.043478</td>\n",
       "      <td>0.000000</td>\n",
       "      <td>0.000000</td>\n",
       "      <td>0.000000</td>\n",
       "      <td>0.000000</td>\n",
       "      <td>0.000000</td>\n",
       "      <td>0.000000</td>\n",
       "      <td>0.000000</td>\n",
       "    </tr>\n",
       "    <tr>\n",
       "      <th>1</th>\n",
       "      <td>18</td>\n",
       "      <td>2010</td>\n",
       "      <td>1</td>\n",
       "      <td>1</td>\n",
       "      <td>0</td>\n",
       "      <td>0</td>\n",
       "      <td>0</td>\n",
       "      <td>0</td>\n",
       "      <td>0</td>\n",
       "      <td>0</td>\n",
       "      <td>...</td>\n",
       "      <td>0.000000</td>\n",
       "      <td>0.000000</td>\n",
       "      <td>0.000000</td>\n",
       "      <td>0.000000</td>\n",
       "      <td>0.000000</td>\n",
       "      <td>0.000000</td>\n",
       "      <td>0.000000</td>\n",
       "      <td>0.000000</td>\n",
       "      <td>0.000000</td>\n",
       "      <td>0.000000</td>\n",
       "    </tr>\n",
       "    <tr>\n",
       "      <th>2</th>\n",
       "      <td>18</td>\n",
       "      <td>2011</td>\n",
       "      <td>2</td>\n",
       "      <td>0</td>\n",
       "      <td>1</td>\n",
       "      <td>0</td>\n",
       "      <td>1</td>\n",
       "      <td>0</td>\n",
       "      <td>1</td>\n",
       "      <td>0</td>\n",
       "      <td>...</td>\n",
       "      <td>2.714286</td>\n",
       "      <td>2.714286</td>\n",
       "      <td>0.000000</td>\n",
       "      <td>0.000000</td>\n",
       "      <td>10.775510</td>\n",
       "      <td>0.000000</td>\n",
       "      <td>8.367347</td>\n",
       "      <td>0.000000</td>\n",
       "      <td>0.000000</td>\n",
       "      <td>9.836735</td>\n",
       "    </tr>\n",
       "    <tr>\n",
       "      <th>3</th>\n",
       "      <td>18</td>\n",
       "      <td>2012</td>\n",
       "      <td>3</td>\n",
       "      <td>0</td>\n",
       "      <td>1</td>\n",
       "      <td>0</td>\n",
       "      <td>1</td>\n",
       "      <td>0</td>\n",
       "      <td>1</td>\n",
       "      <td>0</td>\n",
       "      <td>...</td>\n",
       "      <td>4.200000</td>\n",
       "      <td>4.200000</td>\n",
       "      <td>0.000000</td>\n",
       "      <td>0.000000</td>\n",
       "      <td>12.100000</td>\n",
       "      <td>0.000000</td>\n",
       "      <td>9.400000</td>\n",
       "      <td>0.000000</td>\n",
       "      <td>0.000000</td>\n",
       "      <td>9.960000</td>\n",
       "    </tr>\n",
       "    <tr>\n",
       "      <th>4</th>\n",
       "      <td>18</td>\n",
       "      <td>2012</td>\n",
       "      <td>4</td>\n",
       "      <td>0</td>\n",
       "      <td>1</td>\n",
       "      <td>0</td>\n",
       "      <td>1</td>\n",
       "      <td>0</td>\n",
       "      <td>1</td>\n",
       "      <td>0</td>\n",
       "      <td>...</td>\n",
       "      <td>5.460000</td>\n",
       "      <td>5.460000</td>\n",
       "      <td>0.000000</td>\n",
       "      <td>0.000000</td>\n",
       "      <td>13.360000</td>\n",
       "      <td>0.000000</td>\n",
       "      <td>10.320000</td>\n",
       "      <td>0.000000</td>\n",
       "      <td>0.000000</td>\n",
       "      <td>10.280000</td>\n",
       "    </tr>\n",
       "    <tr>\n",
       "      <th>...</th>\n",
       "      <td>...</td>\n",
       "      <td>...</td>\n",
       "      <td>...</td>\n",
       "      <td>...</td>\n",
       "      <td>...</td>\n",
       "      <td>...</td>\n",
       "      <td>...</td>\n",
       "      <td>...</td>\n",
       "      <td>...</td>\n",
       "      <td>...</td>\n",
       "      <td>...</td>\n",
       "      <td>...</td>\n",
       "      <td>...</td>\n",
       "      <td>...</td>\n",
       "      <td>...</td>\n",
       "      <td>...</td>\n",
       "      <td>...</td>\n",
       "      <td>...</td>\n",
       "      <td>...</td>\n",
       "      <td>...</td>\n",
       "      <td>...</td>\n",
       "    </tr>\n",
       "    <tr>\n",
       "      <th>643685</th>\n",
       "      <td>1827860</td>\n",
       "      <td>2013</td>\n",
       "      <td>1</td>\n",
       "      <td>0</td>\n",
       "      <td>0</td>\n",
       "      <td>0</td>\n",
       "      <td>1</td>\n",
       "      <td>0</td>\n",
       "      <td>0</td>\n",
       "      <td>1</td>\n",
       "      <td>...</td>\n",
       "      <td>0.000000</td>\n",
       "      <td>0.000000</td>\n",
       "      <td>0.000000</td>\n",
       "      <td>0.000000</td>\n",
       "      <td>0.612903</td>\n",
       "      <td>0.000000</td>\n",
       "      <td>0.000000</td>\n",
       "      <td>0.000000</td>\n",
       "      <td>0.000000</td>\n",
       "      <td>0.000000</td>\n",
       "    </tr>\n",
       "    <tr>\n",
       "      <th>643686</th>\n",
       "      <td>1827860</td>\n",
       "      <td>2015</td>\n",
       "      <td>2</td>\n",
       "      <td>1</td>\n",
       "      <td>0</td>\n",
       "      <td>0</td>\n",
       "      <td>1</td>\n",
       "      <td>0</td>\n",
       "      <td>1</td>\n",
       "      <td>0</td>\n",
       "      <td>...</td>\n",
       "      <td>0.000000</td>\n",
       "      <td>0.000000</td>\n",
       "      <td>0.212121</td>\n",
       "      <td>0.212121</td>\n",
       "      <td>17.363636</td>\n",
       "      <td>0.000000</td>\n",
       "      <td>8.909091</td>\n",
       "      <td>0.000000</td>\n",
       "      <td>0.000000</td>\n",
       "      <td>7.121212</td>\n",
       "    </tr>\n",
       "    <tr>\n",
       "      <th>643687</th>\n",
       "      <td>1827860</td>\n",
       "      <td>2016</td>\n",
       "      <td>3</td>\n",
       "      <td>1</td>\n",
       "      <td>0</td>\n",
       "      <td>0</td>\n",
       "      <td>1</td>\n",
       "      <td>1</td>\n",
       "      <td>0</td>\n",
       "      <td>1</td>\n",
       "      <td>...</td>\n",
       "      <td>0.000000</td>\n",
       "      <td>0.000000</td>\n",
       "      <td>0.294118</td>\n",
       "      <td>0.205882</td>\n",
       "      <td>34.705882</td>\n",
       "      <td>0.000000</td>\n",
       "      <td>10.352941</td>\n",
       "      <td>1.705882</td>\n",
       "      <td>1.705882</td>\n",
       "      <td>23.911765</td>\n",
       "    </tr>\n",
       "    <tr>\n",
       "      <th>643688</th>\n",
       "      <td>1827869</td>\n",
       "      <td>2013</td>\n",
       "      <td>1</td>\n",
       "      <td>1</td>\n",
       "      <td>1</td>\n",
       "      <td>0</td>\n",
       "      <td>0</td>\n",
       "      <td>0</td>\n",
       "      <td>1</td>\n",
       "      <td>0</td>\n",
       "      <td>...</td>\n",
       "      <td>0.000000</td>\n",
       "      <td>0.000000</td>\n",
       "      <td>0.000000</td>\n",
       "      <td>0.000000</td>\n",
       "      <td>0.000000</td>\n",
       "      <td>0.525424</td>\n",
       "      <td>0.000000</td>\n",
       "      <td>0.000000</td>\n",
       "      <td>0.000000</td>\n",
       "      <td>0.000000</td>\n",
       "    </tr>\n",
       "    <tr>\n",
       "      <th>643689</th>\n",
       "      <td>1827869</td>\n",
       "      <td>2014</td>\n",
       "      <td>2</td>\n",
       "      <td>0</td>\n",
       "      <td>0</td>\n",
       "      <td>1</td>\n",
       "      <td>0</td>\n",
       "      <td>0</td>\n",
       "      <td>1</td>\n",
       "      <td>0</td>\n",
       "      <td>...</td>\n",
       "      <td>0.000000</td>\n",
       "      <td>0.666667</td>\n",
       "      <td>0.666667</td>\n",
       "      <td>0.000000</td>\n",
       "      <td>0.000000</td>\n",
       "      <td>8.950000</td>\n",
       "      <td>1.033333</td>\n",
       "      <td>0.083333</td>\n",
       "      <td>0.083333</td>\n",
       "      <td>8.133333</td>\n",
       "    </tr>\n",
       "  </tbody>\n",
       "</table>\n",
       "<p>643690 rows × 164 columns</p>\n",
       "</div>"
      ],
      "text/plain": [
       "         persnr  year  nrEntry  ltue  employed_before  receipt_leh_before  \\\n",
       "0             7  2015        1     0                1                   0   \n",
       "1            18  2010        1     1                0                   0   \n",
       "2            18  2011        2     0                1                   0   \n",
       "3            18  2012        3     0                1                   0   \n",
       "4            18  2012        4     0                1                   0   \n",
       "...         ...   ...      ...   ...              ...                 ...   \n",
       "643685  1827860  2013        1     0                0                   0   \n",
       "643686  1827860  2015        2     1                0                   0   \n",
       "643687  1827860  2016        3     1                0                   0   \n",
       "643688  1827869  2013        1     1                1                   0   \n",
       "643689  1827869  2014        2     0                0                   1   \n",
       "\n",
       "        receipt_lhg_before  se_before  ASU_notue_seeking_before  \\\n",
       "0                        0          0                         1   \n",
       "1                        0          0                         0   \n",
       "2                        1          0                         1   \n",
       "3                        1          0                         1   \n",
       "4                        1          0                         1   \n",
       "...                    ...        ...                       ...   \n",
       "643685                   1          0                         0   \n",
       "643686                   1          0                         1   \n",
       "643687                   1          1                         0   \n",
       "643688                   0          0                         1   \n",
       "643689                   0          0                         1   \n",
       "\n",
       "        ASU_other_before  ...  minijob_tot_dur_byage  ft_tot_dur_byage  \\\n",
       "0                      0  ...               0.000000          0.000000   \n",
       "1                      0  ...               0.000000          0.000000   \n",
       "2                      0  ...               2.714286          2.714286   \n",
       "3                      0  ...               4.200000          4.200000   \n",
       "4                      0  ...               5.460000          5.460000   \n",
       "...                  ...  ...                    ...               ...   \n",
       "643685                 1  ...               0.000000          0.000000   \n",
       "643686                 0  ...               0.000000          0.000000   \n",
       "643687                 1  ...               0.000000          0.000000   \n",
       "643688                 0  ...               0.000000          0.000000   \n",
       "643689                 0  ...               0.000000          0.666667   \n",
       "\n",
       "        befrist_tot_dur_byage  leih_tot_dur_byage  LHG_tot_dur_byage  \\\n",
       "0                   15.043478            0.000000           0.000000   \n",
       "1                    0.000000            0.000000           0.000000   \n",
       "2                    0.000000            0.000000          10.775510   \n",
       "3                    0.000000            0.000000          12.100000   \n",
       "4                    0.000000            0.000000          13.360000   \n",
       "...                       ...                 ...                ...   \n",
       "643685               0.000000            0.000000           0.612903   \n",
       "643686               0.212121            0.212121          17.363636   \n",
       "643687               0.294118            0.205882          34.705882   \n",
       "643688               0.000000            0.000000           0.000000   \n",
       "643689               0.666667            0.000000           0.000000   \n",
       "\n",
       "        LEH_tot_dur_byage  almp_tot_dur_byage  almp_aw_tot_dur_byage  \\\n",
       "0                0.000000            0.000000               0.000000   \n",
       "1                0.000000            0.000000               0.000000   \n",
       "2                0.000000            8.367347               0.000000   \n",
       "3                0.000000            9.400000               0.000000   \n",
       "4                0.000000           10.320000               0.000000   \n",
       "...                   ...                 ...                    ...   \n",
       "643685           0.000000            0.000000               0.000000   \n",
       "643686           0.000000            8.909091               0.000000   \n",
       "643687           0.000000           10.352941               1.705882   \n",
       "643688           0.525424            0.000000               0.000000   \n",
       "643689           8.950000            1.033333               0.083333   \n",
       "\n",
       "        se_tot_dur_byage  seeking1_tot_dur_byage  \n",
       "0               0.000000                0.000000  \n",
       "1               0.000000                0.000000  \n",
       "2               0.000000                9.836735  \n",
       "3               0.000000                9.960000  \n",
       "4               0.000000               10.280000  \n",
       "...                  ...                     ...  \n",
       "643685          0.000000                0.000000  \n",
       "643686          0.000000                7.121212  \n",
       "643687          1.705882               23.911765  \n",
       "643688          0.000000                0.000000  \n",
       "643689          0.083333                8.133333  \n",
       "\n",
       "[643690 rows x 164 columns]"
      ]
     },
     "execution_count": 10,
     "metadata": {},
     "output_type": "execute_result"
    }
   ],
   "source": [
    "siab"
   ]
  },
  {
   "cell_type": "markdown",
   "id": "1f87e805",
   "metadata": {
    "papermill": {
     "duration": 0.00984,
     "end_time": "2025-08-19T18:58:48.896866",
     "exception": false,
     "start_time": "2025-08-19T18:58:48.887026",
     "status": "completed"
    },
    "tags": []
   },
   "source": [
    "# Splitting Data and Setting Training Data Size"
   ]
  },
  {
   "cell_type": "code",
   "execution_count": 11,
   "id": "910ae358",
   "metadata": {
    "execution": {
     "iopub.execute_input": "2025-08-19T18:58:48.917866Z",
     "iopub.status.busy": "2025-08-19T18:58:48.917383Z",
     "iopub.status.idle": "2025-08-19T18:58:49.537413Z",
     "shell.execute_reply": "2025-08-19T18:58:49.536214Z"
    },
    "papermill": {
     "duration": 0.63272,
     "end_time": "2025-08-19T18:58:49.539352",
     "exception": false,
     "start_time": "2025-08-19T18:58:48.906632",
     "status": "completed"
    },
    "tags": []
   },
   "outputs": [],
   "source": [
    "from fairness_multiverse.universe import sample_by_year_size\n",
    "\n",
    "siab_train = sample_by_year_size(siab,\n",
    "                               training_year=universe[\"training_year\"],\n",
    "                               training_size=universe[\"training_size\"])"
   ]
  },
  {
   "cell_type": "code",
   "execution_count": 12,
   "id": "919c8ff5",
   "metadata": {
    "execution": {
     "iopub.execute_input": "2025-08-19T18:58:49.574425Z",
     "iopub.status.busy": "2025-08-19T18:58:49.573236Z",
     "iopub.status.idle": "2025-08-19T18:58:49.596282Z",
     "shell.execute_reply": "2025-08-19T18:58:49.595408Z"
    },
    "papermill": {
     "duration": 0.037078,
     "end_time": "2025-08-19T18:58:49.598238",
     "exception": false,
     "start_time": "2025-08-19T18:58:49.561160",
     "status": "completed"
    },
    "tags": []
   },
   "outputs": [
    {
     "data": {
      "text/plain": [
       "(1000, 164)"
      ]
     },
     "execution_count": 12,
     "metadata": {},
     "output_type": "execute_result"
    }
   ],
   "source": [
    "siab_train.shape"
   ]
  },
  {
   "cell_type": "code",
   "execution_count": 13,
   "id": "feb13bf4",
   "metadata": {
    "execution": {
     "iopub.execute_input": "2025-08-19T18:58:49.626818Z",
     "iopub.status.busy": "2025-08-19T18:58:49.626348Z",
     "iopub.status.idle": "2025-08-19T18:58:49.635574Z",
     "shell.execute_reply": "2025-08-19T18:58:49.634484Z"
    },
    "papermill": {
     "duration": 0.027182,
     "end_time": "2025-08-19T18:58:49.641750",
     "exception": false,
     "start_time": "2025-08-19T18:58:49.614568",
     "status": "completed"
    },
    "tags": []
   },
   "outputs": [
    {
     "data": {
      "text/plain": [
       "year\n",
       "2012    334\n",
       "2013    333\n",
       "2014    333\n",
       "dtype: int64"
      ]
     },
     "metadata": {},
     "output_type": "display_data"
    }
   ],
   "source": [
    "display(siab_train.groupby(\"year\").size())"
   ]
  },
  {
   "cell_type": "code",
   "execution_count": 14,
   "id": "0997782f",
   "metadata": {
    "execution": {
     "iopub.execute_input": "2025-08-19T18:58:49.675178Z",
     "iopub.status.busy": "2025-08-19T18:58:49.673475Z",
     "iopub.status.idle": "2025-08-19T18:58:49.930315Z",
     "shell.execute_reply": "2025-08-19T18:58:49.929576Z"
    },
    "papermill": {
     "duration": 0.271458,
     "end_time": "2025-08-19T18:58:49.931740",
     "exception": false,
     "start_time": "2025-08-19T18:58:49.660282",
     "status": "completed"
    },
    "tags": []
   },
   "outputs": [],
   "source": [
    "#siab_train = siab_s[siab_s.year < 2015]\n",
    "siab_calib = siab[siab.year == 2015]\n",
    "siab_test = siab[siab.year == 2016]"
   ]
  },
  {
   "cell_type": "code",
   "execution_count": 15,
   "id": "2c1e4012",
   "metadata": {
    "execution": {
     "iopub.execute_input": "2025-08-19T18:58:49.956809Z",
     "iopub.status.busy": "2025-08-19T18:58:49.955876Z",
     "iopub.status.idle": "2025-08-19T18:58:49.962149Z",
     "shell.execute_reply": "2025-08-19T18:58:49.960899Z"
    },
    "papermill": {
     "duration": 0.021296,
     "end_time": "2025-08-19T18:58:49.963604",
     "exception": false,
     "start_time": "2025-08-19T18:58:49.942308",
     "status": "completed"
    },
    "tags": []
   },
   "outputs": [],
   "source": [
    "#siab_calib.shape"
   ]
  },
  {
   "cell_type": "code",
   "execution_count": 16,
   "id": "f66b54ca",
   "metadata": {
    "execution": {
     "iopub.execute_input": "2025-08-19T18:58:49.987172Z",
     "iopub.status.busy": "2025-08-19T18:58:49.986026Z",
     "iopub.status.idle": "2025-08-19T18:58:49.994222Z",
     "shell.execute_reply": "2025-08-19T18:58:49.992625Z"
    },
    "papermill": {
     "duration": 0.021846,
     "end_time": "2025-08-19T18:58:49.995930",
     "exception": false,
     "start_time": "2025-08-19T18:58:49.974084",
     "status": "completed"
    },
    "tags": []
   },
   "outputs": [],
   "source": [
    "#siab_test.shape"
   ]
  },
  {
   "cell_type": "code",
   "execution_count": 17,
   "id": "27e4384d",
   "metadata": {
    "execution": {
     "iopub.execute_input": "2025-08-19T18:58:50.021516Z",
     "iopub.status.busy": "2025-08-19T18:58:50.020356Z",
     "iopub.status.idle": "2025-08-19T18:58:50.031710Z",
     "shell.execute_reply": "2025-08-19T18:58:50.030355Z"
    },
    "papermill": {
     "duration": 0.026407,
     "end_time": "2025-08-19T18:58:50.033430",
     "exception": false,
     "start_time": "2025-08-19T18:58:50.007023",
     "status": "completed"
    },
    "tags": []
   },
   "outputs": [],
   "source": [
    "X_train = siab_train.iloc[:,4:164]\n",
    "y_train = siab_train.iloc[:, [3]]"
   ]
  },
  {
   "cell_type": "code",
   "execution_count": 18,
   "id": "08ee8389",
   "metadata": {
    "execution": {
     "iopub.execute_input": "2025-08-19T18:58:50.063643Z",
     "iopub.status.busy": "2025-08-19T18:58:50.062457Z",
     "iopub.status.idle": "2025-08-19T18:58:50.117643Z",
     "shell.execute_reply": "2025-08-19T18:58:50.116982Z"
    },
    "papermill": {
     "duration": 0.071006,
     "end_time": "2025-08-19T18:58:50.120644",
     "exception": false,
     "start_time": "2025-08-19T18:58:50.049638",
     "status": "completed"
    },
    "tags": []
   },
   "outputs": [],
   "source": [
    "X_calib = siab_calib.iloc[:,4:164]\n",
    "y_calib = siab_calib.iloc[:, [3]]"
   ]
  },
  {
   "cell_type": "code",
   "execution_count": 19,
   "id": "b7ff42e0",
   "metadata": {
    "execution": {
     "iopub.execute_input": "2025-08-19T18:58:50.162448Z",
     "iopub.status.busy": "2025-08-19T18:58:50.161271Z",
     "iopub.status.idle": "2025-08-19T18:58:50.221375Z",
     "shell.execute_reply": "2025-08-19T18:58:50.220617Z"
    },
    "papermill": {
     "duration": 0.07727,
     "end_time": "2025-08-19T18:58:50.224065",
     "exception": false,
     "start_time": "2025-08-19T18:58:50.146795",
     "status": "completed"
    },
    "tags": []
   },
   "outputs": [],
   "source": [
    "X_test = siab_test.iloc[:,4:164]\n",
    "y_true = siab_test.iloc[:, [3]]"
   ]
  },
  {
   "cell_type": "code",
   "execution_count": 20,
   "id": "0275101e",
   "metadata": {
    "execution": {
     "iopub.execute_input": "2025-08-19T18:58:50.263865Z",
     "iopub.status.busy": "2025-08-19T18:58:50.262670Z",
     "iopub.status.idle": "2025-08-19T18:58:50.371751Z",
     "shell.execute_reply": "2025-08-19T18:58:50.371107Z"
    },
    "papermill": {
     "duration": 0.125447,
     "end_time": "2025-08-19T18:58:50.374230",
     "exception": false,
     "start_time": "2025-08-19T18:58:50.248783",
     "status": "completed"
    },
    "tags": []
   },
   "outputs": [],
   "source": [
    "# Auxiliary data needed downstream in the pipeline\n",
    "\n",
    "org_train = X_train.copy()\n",
    "org_test = X_test.copy()\n",
    "org_calib = X_calib.copy()"
   ]
  },
  {
   "cell_type": "markdown",
   "id": "b461e618",
   "metadata": {
    "papermill": {
     "duration": 0.014519,
     "end_time": "2025-08-19T18:58:50.412860",
     "exception": false,
     "start_time": "2025-08-19T18:58:50.398341",
     "status": "completed"
    },
    "tags": []
   },
   "source": [
    "# Preprocessing Data"
   ]
  },
  {
   "cell_type": "code",
   "execution_count": 21,
   "id": "78e74c4b",
   "metadata": {
    "execution": {
     "iopub.execute_input": "2025-08-19T18:58:50.455101Z",
     "iopub.status.busy": "2025-08-19T18:58:50.454553Z",
     "iopub.status.idle": "2025-08-19T18:58:50.460163Z",
     "shell.execute_reply": "2025-08-19T18:58:50.459341Z"
    },
    "papermill": {
     "duration": 0.039128,
     "end_time": "2025-08-19T18:58:50.461988",
     "exception": false,
     "start_time": "2025-08-19T18:58:50.422860",
     "status": "completed"
    },
    "tags": []
   },
   "outputs": [],
   "source": [
    "# EXCLUDE PROTECTED FEATURES\n",
    "# --------------------------\n",
    "\n",
    "excluded_features = universe[\"exclude_features\"].split(\"-\")\n",
    "excluded_features_dictionary = {\n",
    "    \"nationality\": [\"maxdeutsch1\", \"maxdeutsch.Missing.\"],\n",
    "    \"sex\": [\"frau1\"],\n",
    "    \"age\": [\"age\"],\n",
    "}"
   ]
  },
  {
   "cell_type": "code",
   "execution_count": 22,
   "id": "f8e63555",
   "metadata": {
    "execution": {
     "iopub.execute_input": "2025-08-19T18:58:50.485829Z",
     "iopub.status.busy": "2025-08-19T18:58:50.485394Z",
     "iopub.status.idle": "2025-08-19T18:58:50.490670Z",
     "shell.execute_reply": "2025-08-19T18:58:50.489771Z"
    },
    "papermill": {
     "duration": 0.018978,
     "end_time": "2025-08-19T18:58:50.492110",
     "exception": false,
     "start_time": "2025-08-19T18:58:50.473132",
     "status": "completed"
    },
    "tags": []
   },
   "outputs": [],
   "source": [
    "excluded_features_columns = [\n",
    "    excluded_features_dictionary[f] for f in excluded_features if len(f) > 0 and f != \"none\"\n",
    "]"
   ]
  },
  {
   "cell_type": "code",
   "execution_count": 23,
   "id": "da781f7c",
   "metadata": {
    "execution": {
     "iopub.execute_input": "2025-08-19T18:58:50.513731Z",
     "iopub.status.busy": "2025-08-19T18:58:50.513344Z",
     "iopub.status.idle": "2025-08-19T18:58:50.517594Z",
     "shell.execute_reply": "2025-08-19T18:58:50.516923Z"
    },
    "papermill": {
     "duration": 0.016566,
     "end_time": "2025-08-19T18:58:50.518930",
     "exception": false,
     "start_time": "2025-08-19T18:58:50.502364",
     "status": "completed"
    },
    "tags": []
   },
   "outputs": [],
   "source": [
    "from fairness_multiverse.universe import flatten_once\n",
    "\n",
    "excluded_features_columns = flatten_once(excluded_features_columns)"
   ]
  },
  {
   "cell_type": "code",
   "execution_count": 24,
   "id": "37fef0f0",
   "metadata": {
    "execution": {
     "iopub.execute_input": "2025-08-19T18:58:50.541170Z",
     "iopub.status.busy": "2025-08-19T18:58:50.540767Z",
     "iopub.status.idle": "2025-08-19T18:58:50.547181Z",
     "shell.execute_reply": "2025-08-19T18:58:50.546382Z"
    },
    "papermill": {
     "duration": 0.020429,
     "end_time": "2025-08-19T18:58:50.549753",
     "exception": false,
     "start_time": "2025-08-19T18:58:50.529324",
     "status": "completed"
    },
    "tags": []
   },
   "outputs": [
    {
     "name": "stdout",
     "output_type": "stream",
     "text": [
      "Dropping features: ['maxdeutsch1', 'maxdeutsch.Missing.', 'frau1']\n"
     ]
    }
   ],
   "source": [
    "if len(excluded_features_columns) > 0:\n",
    "    print(f\"Dropping features: {excluded_features_columns}\")\n",
    "    X_train.drop(excluded_features_columns, axis=1, inplace=True)"
   ]
  },
  {
   "cell_type": "code",
   "execution_count": 25,
   "id": "d029e3e9",
   "metadata": {
    "execution": {
     "iopub.execute_input": "2025-08-19T18:58:50.574543Z",
     "iopub.status.busy": "2025-08-19T18:58:50.574050Z",
     "iopub.status.idle": "2025-08-19T18:58:50.623919Z",
     "shell.execute_reply": "2025-08-19T18:58:50.623198Z"
    },
    "papermill": {
     "duration": 0.062996,
     "end_time": "2025-08-19T18:58:50.625345",
     "exception": false,
     "start_time": "2025-08-19T18:58:50.562349",
     "status": "completed"
    },
    "tags": []
   },
   "outputs": [
    {
     "name": "stdout",
     "output_type": "stream",
     "text": [
      "Dropping features: ['maxdeutsch1', 'maxdeutsch.Missing.', 'frau1']\n"
     ]
    }
   ],
   "source": [
    "if len(excluded_features_columns) > 0:\n",
    "    print(f\"Dropping features: {excluded_features_columns}\")\n",
    "    X_test.drop(excluded_features_columns, axis=1, inplace=True)"
   ]
  },
  {
   "cell_type": "code",
   "execution_count": 26,
   "id": "01d571f0",
   "metadata": {
    "execution": {
     "iopub.execute_input": "2025-08-19T18:58:50.648308Z",
     "iopub.status.busy": "2025-08-19T18:58:50.647921Z",
     "iopub.status.idle": "2025-08-19T18:58:50.697305Z",
     "shell.execute_reply": "2025-08-19T18:58:50.696608Z"
    },
    "papermill": {
     "duration": 0.062296,
     "end_time": "2025-08-19T18:58:50.698720",
     "exception": false,
     "start_time": "2025-08-19T18:58:50.636424",
     "status": "completed"
    },
    "tags": []
   },
   "outputs": [
    {
     "name": "stdout",
     "output_type": "stream",
     "text": [
      "Dropping features: ['maxdeutsch1', 'maxdeutsch.Missing.', 'frau1']\n"
     ]
    }
   ],
   "source": [
    "if len(excluded_features_columns) > 0:\n",
    "    print(f\"Dropping features: {excluded_features_columns}\")\n",
    "    X_calib.drop(excluded_features_columns, axis=1, inplace=True)"
   ]
  },
  {
   "cell_type": "code",
   "execution_count": 27,
   "id": "3037356e",
   "metadata": {
    "execution": {
     "iopub.execute_input": "2025-08-19T18:58:50.721687Z",
     "iopub.status.busy": "2025-08-19T18:58:50.721392Z",
     "iopub.status.idle": "2025-08-19T18:58:50.725278Z",
     "shell.execute_reply": "2025-08-19T18:58:50.724575Z"
    },
    "papermill": {
     "duration": 0.01675,
     "end_time": "2025-08-19T18:58:50.726661",
     "exception": false,
     "start_time": "2025-08-19T18:58:50.709911",
     "status": "completed"
    },
    "tags": []
   },
   "outputs": [],
   "source": [
    "# EXCLUDE CERTAIN SUBGROUPS\n",
    "# -------------------------\n",
    "\n",
    "mode = universe.get(\"exclude_subgroups\", \"keep-all\") # Defaults to \"keep-all\" if the key is missing."
   ]
  },
  {
   "cell_type": "code",
   "execution_count": 28,
   "id": "9d1e63fd",
   "metadata": {
    "execution": {
     "iopub.execute_input": "2025-08-19T18:58:50.748799Z",
     "iopub.status.busy": "2025-08-19T18:58:50.748436Z",
     "iopub.status.idle": "2025-08-19T18:58:50.753720Z",
     "shell.execute_reply": "2025-08-19T18:58:50.753053Z"
    },
    "papermill": {
     "duration": 0.017824,
     "end_time": "2025-08-19T18:58:50.755096",
     "exception": false,
     "start_time": "2025-08-19T18:58:50.737272",
     "status": "completed"
    },
    "tags": []
   },
   "outputs": [],
   "source": [
    "if mode == \"keep-all\":\n",
    "    keep_mask = pd.Series(True, index=org_train.index)\n",
    "\n",
    "elif mode == \"drop-non-german\":\n",
    "    keep_mask = (org_train[\"maxdeutsch1\"] == 1) & (org_train[\"maxdeutsch.Missing.\"] == 0)\n",
    "\n",
    "else:\n",
    "    raise ValueError(f\"Unsupported mode for exclude_subgroups: {mode}\")"
   ]
  },
  {
   "cell_type": "code",
   "execution_count": 29,
   "id": "d3b65474",
   "metadata": {
    "execution": {
     "iopub.execute_input": "2025-08-19T18:58:50.777693Z",
     "iopub.status.busy": "2025-08-19T18:58:50.777320Z",
     "iopub.status.idle": "2025-08-19T18:58:50.782790Z",
     "shell.execute_reply": "2025-08-19T18:58:50.782119Z"
    },
    "papermill": {
     "duration": 0.018388,
     "end_time": "2025-08-19T18:58:50.784171",
     "exception": false,
     "start_time": "2025-08-19T18:58:50.765783",
     "status": "completed"
    },
    "tags": []
   },
   "outputs": [
    {
     "name": "stdout",
     "output_type": "stream",
     "text": [
      "Dropping 147 rows (14.70%) where mode='drop-non-german'\n"
     ]
    }
   ],
   "source": [
    "n_drop = (~keep_mask).sum() # Calculates how many rows are set to be dropped\n",
    "if n_drop > 0:\n",
    "    pct = n_drop / len(keep_mask) * 100\n",
    "    print(f\"Dropping {n_drop} rows ({pct:.2f}%) where mode='{mode}'\")"
   ]
  },
  {
   "cell_type": "code",
   "execution_count": 30,
   "id": "f44389b3",
   "metadata": {
    "execution": {
     "iopub.execute_input": "2025-08-19T18:58:50.806690Z",
     "iopub.status.busy": "2025-08-19T18:58:50.806327Z",
     "iopub.status.idle": "2025-08-19T18:58:50.811349Z",
     "shell.execute_reply": "2025-08-19T18:58:50.810679Z"
    },
    "papermill": {
     "duration": 0.017839,
     "end_time": "2025-08-19T18:58:50.812692",
     "exception": false,
     "start_time": "2025-08-19T18:58:50.794853",
     "status": "completed"
    },
    "tags": []
   },
   "outputs": [],
   "source": [
    "X_train = X_train[keep_mask]"
   ]
  },
  {
   "cell_type": "code",
   "execution_count": 31,
   "id": "ceca8c2a",
   "metadata": {
    "execution": {
     "iopub.execute_input": "2025-08-19T18:58:50.835670Z",
     "iopub.status.busy": "2025-08-19T18:58:50.835305Z",
     "iopub.status.idle": "2025-08-19T18:58:50.839985Z",
     "shell.execute_reply": "2025-08-19T18:58:50.839333Z"
    },
    "papermill": {
     "duration": 0.021173,
     "end_time": "2025-08-19T18:58:50.844690",
     "exception": false,
     "start_time": "2025-08-19T18:58:50.823517",
     "status": "completed"
    },
    "tags": []
   },
   "outputs": [],
   "source": [
    "y_train = y_train[keep_mask]"
   ]
  },
  {
   "cell_type": "markdown",
   "id": "04d31e2f",
   "metadata": {
    "papermill": {
     "duration": 0.027137,
     "end_time": "2025-08-19T18:58:50.888733",
     "exception": false,
     "start_time": "2025-08-19T18:58:50.861596",
     "status": "completed"
    },
    "tags": []
   },
   "source": [
    "# Model Training"
   ]
  },
  {
   "cell_type": "code",
   "execution_count": 32,
   "id": "db991733",
   "metadata": {
    "execution": {
     "iopub.execute_input": "2025-08-19T18:58:50.913692Z",
     "iopub.status.busy": "2025-08-19T18:58:50.913262Z",
     "iopub.status.idle": "2025-08-19T18:58:51.015577Z",
     "shell.execute_reply": "2025-08-19T18:58:51.014858Z"
    },
    "papermill": {
     "duration": 0.115777,
     "end_time": "2025-08-19T18:58:51.017018",
     "exception": false,
     "start_time": "2025-08-19T18:58:50.901241",
     "status": "completed"
    },
    "tags": []
   },
   "outputs": [],
   "source": [
    "from sklearn.linear_model import LogisticRegression\n",
    "from sklearn.ensemble import GradientBoostingClassifier, RandomForestClassifier\n",
    "\n",
    "if (universe[\"model\"] == \"logreg\"):\n",
    "    model = LogisticRegression() #penalty=\"none\", solver=\"newton-cg\", max_iter=1)\n",
    "elif (universe[\"model\"] == \"penalized_logreg\"):\n",
    "    model = LogisticRegression(penalty=\"l2\", C=0.1) #, solver=\"newton-cg\", max_iter=1)\n",
    "elif (universe[\"model\"] == \"rf\"):\n",
    "    model = RandomForestClassifier() # n_estimators=100, n_jobs=-1\n",
    "elif (universe[\"model\"] == \"gbm\"):\n",
    "    model = GradientBoostingClassifier()\n",
    "elif (universe[\"model\"] == \"elasticnet\"):\n",
    "    model = LogisticRegression(penalty = 'elasticnet', solver = 'saga', l1_ratio = 0.5) # max_iter=5000\n",
    "else:\n",
    "    raise \"Unsupported universe.model\""
   ]
  },
  {
   "cell_type": "code",
   "execution_count": 33,
   "id": "a4b5cd25",
   "metadata": {
    "execution": {
     "iopub.execute_input": "2025-08-19T18:58:51.040229Z",
     "iopub.status.busy": "2025-08-19T18:58:51.039927Z",
     "iopub.status.idle": "2025-08-19T18:58:51.044707Z",
     "shell.execute_reply": "2025-08-19T18:58:51.044024Z"
    },
    "papermill": {
     "duration": 0.018449,
     "end_time": "2025-08-19T18:58:51.046812",
     "exception": false,
     "start_time": "2025-08-19T18:58:51.028363",
     "status": "completed"
    },
    "tags": []
   },
   "outputs": [],
   "source": [
    "from sklearn.pipeline import Pipeline\n",
    "from sklearn.preprocessing import StandardScaler\n",
    "\n",
    "model = Pipeline([\n",
    "    #(\"continuous_processor\", continuous_processor),\n",
    "    #(\"categorical_preprocessor\", categorical_preprocessor),\n",
    "    (\"scale\", StandardScaler() if universe[\"scale\"] == \"scale\" else None), \n",
    "    (\"model\", model),\n",
    "])"
   ]
  },
  {
   "cell_type": "code",
   "execution_count": 34,
   "id": "283a904d",
   "metadata": {
    "execution": {
     "iopub.execute_input": "2025-08-19T18:58:51.090775Z",
     "iopub.status.busy": "2025-08-19T18:58:51.089633Z",
     "iopub.status.idle": "2025-08-19T18:58:51.386693Z",
     "shell.execute_reply": "2025-08-19T18:58:51.386004Z"
    },
    "papermill": {
     "duration": 0.313053,
     "end_time": "2025-08-19T18:58:51.390007",
     "exception": false,
     "start_time": "2025-08-19T18:58:51.076954",
     "status": "completed"
    },
    "tags": []
   },
   "outputs": [
    {
     "data": {
      "text/html": [
       "<style>#sk-container-id-1 {color: black;background-color: white;}#sk-container-id-1 pre{padding: 0;}#sk-container-id-1 div.sk-toggleable {background-color: white;}#sk-container-id-1 label.sk-toggleable__label {cursor: pointer;display: block;width: 100%;margin-bottom: 0;padding: 0.3em;box-sizing: border-box;text-align: center;}#sk-container-id-1 label.sk-toggleable__label-arrow:before {content: \"▸\";float: left;margin-right: 0.25em;color: #696969;}#sk-container-id-1 label.sk-toggleable__label-arrow:hover:before {color: black;}#sk-container-id-1 div.sk-estimator:hover label.sk-toggleable__label-arrow:before {color: black;}#sk-container-id-1 div.sk-toggleable__content {max-height: 0;max-width: 0;overflow: hidden;text-align: left;background-color: #f0f8ff;}#sk-container-id-1 div.sk-toggleable__content pre {margin: 0.2em;color: black;border-radius: 0.25em;background-color: #f0f8ff;}#sk-container-id-1 input.sk-toggleable__control:checked~div.sk-toggleable__content {max-height: 200px;max-width: 100%;overflow: auto;}#sk-container-id-1 input.sk-toggleable__control:checked~label.sk-toggleable__label-arrow:before {content: \"▾\";}#sk-container-id-1 div.sk-estimator input.sk-toggleable__control:checked~label.sk-toggleable__label {background-color: #d4ebff;}#sk-container-id-1 div.sk-label input.sk-toggleable__control:checked~label.sk-toggleable__label {background-color: #d4ebff;}#sk-container-id-1 input.sk-hidden--visually {border: 0;clip: rect(1px 1px 1px 1px);clip: rect(1px, 1px, 1px, 1px);height: 1px;margin: -1px;overflow: hidden;padding: 0;position: absolute;width: 1px;}#sk-container-id-1 div.sk-estimator {font-family: monospace;background-color: #f0f8ff;border: 1px dotted black;border-radius: 0.25em;box-sizing: border-box;margin-bottom: 0.5em;}#sk-container-id-1 div.sk-estimator:hover {background-color: #d4ebff;}#sk-container-id-1 div.sk-parallel-item::after {content: \"\";width: 100%;border-bottom: 1px solid gray;flex-grow: 1;}#sk-container-id-1 div.sk-label:hover label.sk-toggleable__label {background-color: #d4ebff;}#sk-container-id-1 div.sk-serial::before {content: \"\";position: absolute;border-left: 1px solid gray;box-sizing: border-box;top: 0;bottom: 0;left: 50%;z-index: 0;}#sk-container-id-1 div.sk-serial {display: flex;flex-direction: column;align-items: center;background-color: white;padding-right: 0.2em;padding-left: 0.2em;position: relative;}#sk-container-id-1 div.sk-item {position: relative;z-index: 1;}#sk-container-id-1 div.sk-parallel {display: flex;align-items: stretch;justify-content: center;background-color: white;position: relative;}#sk-container-id-1 div.sk-item::before, #sk-container-id-1 div.sk-parallel-item::before {content: \"\";position: absolute;border-left: 1px solid gray;box-sizing: border-box;top: 0;bottom: 0;left: 50%;z-index: -1;}#sk-container-id-1 div.sk-parallel-item {display: flex;flex-direction: column;z-index: 1;position: relative;background-color: white;}#sk-container-id-1 div.sk-parallel-item:first-child::after {align-self: flex-end;width: 50%;}#sk-container-id-1 div.sk-parallel-item:last-child::after {align-self: flex-start;width: 50%;}#sk-container-id-1 div.sk-parallel-item:only-child::after {width: 0;}#sk-container-id-1 div.sk-dashed-wrapped {border: 1px dashed gray;margin: 0 0.4em 0.5em 0.4em;box-sizing: border-box;padding-bottom: 0.4em;background-color: white;}#sk-container-id-1 div.sk-label label {font-family: monospace;font-weight: bold;display: inline-block;line-height: 1.2em;}#sk-container-id-1 div.sk-label-container {text-align: center;}#sk-container-id-1 div.sk-container {/* jupyter's `normalize.less` sets `[hidden] { display: none; }` but bootstrap.min.css set `[hidden] { display: none !important; }` so we also need the `!important` here to be able to override the default hidden behavior on the sphinx rendered scikit-learn.org. See: https://github.com/scikit-learn/scikit-learn/issues/21755 */display: inline-block !important;position: relative;}#sk-container-id-1 div.sk-text-repr-fallback {display: none;}</style><div id=\"sk-container-id-1\" class=\"sk-top-container\"><div class=\"sk-text-repr-fallback\"><pre>Pipeline(steps=[(&#x27;scale&#x27;, StandardScaler()),\n",
       "                (&#x27;model&#x27;, RandomForestClassifier())])</pre><b>In a Jupyter environment, please rerun this cell to show the HTML representation or trust the notebook. <br />On GitHub, the HTML representation is unable to render, please try loading this page with nbviewer.org.</b></div><div class=\"sk-container\" hidden><div class=\"sk-item sk-dashed-wrapped\"><div class=\"sk-label-container\"><div class=\"sk-label sk-toggleable\"><input class=\"sk-toggleable__control sk-hidden--visually\" id=\"sk-estimator-id-1\" type=\"checkbox\" ><label for=\"sk-estimator-id-1\" class=\"sk-toggleable__label sk-toggleable__label-arrow\">Pipeline</label><div class=\"sk-toggleable__content\"><pre>Pipeline(steps=[(&#x27;scale&#x27;, StandardScaler()),\n",
       "                (&#x27;model&#x27;, RandomForestClassifier())])</pre></div></div></div><div class=\"sk-serial\"><div class=\"sk-item\"><div class=\"sk-estimator sk-toggleable\"><input class=\"sk-toggleable__control sk-hidden--visually\" id=\"sk-estimator-id-2\" type=\"checkbox\" ><label for=\"sk-estimator-id-2\" class=\"sk-toggleable__label sk-toggleable__label-arrow\">StandardScaler</label><div class=\"sk-toggleable__content\"><pre>StandardScaler()</pre></div></div></div><div class=\"sk-item\"><div class=\"sk-estimator sk-toggleable\"><input class=\"sk-toggleable__control sk-hidden--visually\" id=\"sk-estimator-id-3\" type=\"checkbox\" ><label for=\"sk-estimator-id-3\" class=\"sk-toggleable__label sk-toggleable__label-arrow\">RandomForestClassifier</label><div class=\"sk-toggleable__content\"><pre>RandomForestClassifier()</pre></div></div></div></div></div></div></div>"
      ],
      "text/plain": [
       "Pipeline(steps=[('scale', StandardScaler()),\n",
       "                ('model', RandomForestClassifier())])"
      ]
     },
     "execution_count": 34,
     "metadata": {},
     "output_type": "execute_result"
    }
   ],
   "source": [
    "model.fit(X_train, y_train.values.ravel())"
   ]
  },
  {
   "cell_type": "code",
   "execution_count": 35,
   "id": "6e15e313",
   "metadata": {
    "execution": {
     "iopub.execute_input": "2025-08-19T18:58:51.444605Z",
     "iopub.status.busy": "2025-08-19T18:58:51.443382Z",
     "iopub.status.idle": "2025-08-19T18:58:52.705766Z",
     "shell.execute_reply": "2025-08-19T18:58:52.705100Z"
    },
    "papermill": {
     "duration": 1.276968,
     "end_time": "2025-08-19T18:58:52.707045",
     "exception": false,
     "start_time": "2025-08-19T18:58:51.430077",
     "status": "completed"
    },
    "tags": []
   },
   "outputs": [
    {
     "data": {
      "text/plain": [
       "0.8596811949615427"
      ]
     },
     "execution_count": 35,
     "metadata": {},
     "output_type": "execute_result"
    }
   ],
   "source": [
    "from fairness_multiverse.universe import predict_w_threshold\n",
    "\n",
    "probs_test = model.predict_proba(X_test)\n",
    "\n",
    "'''\n",
    "Below code returns a boolean array (or binary 0/1 array depending on how it’s used) where each element \n",
    "is True if the probability of class 1 is greater than or equal to the threshold, and False otherwise.\n",
    "'''\n",
    "y_pred_default = predict_w_threshold(probs_test, 0.5)\n",
    "\n",
    "from sklearn.metrics import accuracy_score\n",
    "\n",
    "# Naive prediction\n",
    "accuracy_score(y_true = y_true, y_pred = y_pred_default)"
   ]
  },
  {
   "cell_type": "code",
   "execution_count": 36,
   "id": "6f14067c",
   "metadata": {
    "execution": {
     "iopub.execute_input": "2025-08-19T18:58:52.765020Z",
     "iopub.status.busy": "2025-08-19T18:58:52.759387Z",
     "iopub.status.idle": "2025-08-19T18:58:54.068187Z",
     "shell.execute_reply": "2025-08-19T18:58:54.067136Z"
    },
    "papermill": {
     "duration": 1.337458,
     "end_time": "2025-08-19T18:58:54.070702",
     "exception": false,
     "start_time": "2025-08-19T18:58:52.733244",
     "status": "completed"
    },
    "tags": []
   },
   "outputs": [
    {
     "data": {
      "text/plain": [
       "array([0, 0, 0, ..., 0, 0, 0])"
      ]
     },
     "execution_count": 36,
     "metadata": {},
     "output_type": "execute_result"
    }
   ],
   "source": [
    "model.predict(X_test)"
   ]
  },
  {
   "cell_type": "markdown",
   "id": "3759920c",
   "metadata": {
    "papermill": {
     "duration": 0.015071,
     "end_time": "2025-08-19T18:58:54.116573",
     "exception": false,
     "start_time": "2025-08-19T18:58:54.101502",
     "status": "completed"
    },
    "tags": []
   },
   "source": [
    "# Conformal Prediction"
   ]
  },
  {
   "cell_type": "code",
   "execution_count": 37,
   "id": "14b27f59",
   "metadata": {
    "execution": {
     "iopub.execute_input": "2025-08-19T18:58:54.140438Z",
     "iopub.status.busy": "2025-08-19T18:58:54.139952Z",
     "iopub.status.idle": "2025-08-19T18:58:54.144936Z",
     "shell.execute_reply": "2025-08-19T18:58:54.144220Z"
    },
    "papermill": {
     "duration": 0.018595,
     "end_time": "2025-08-19T18:58:54.146280",
     "exception": false,
     "start_time": "2025-08-19T18:58:54.127685",
     "status": "completed"
    },
    "tags": []
   },
   "outputs": [],
   "source": [
    "# Miscoverage level for conformal prediction (10% allowed error rate => 90% target coverage)\n",
    "alpha = 0.1"
   ]
  },
  {
   "cell_type": "code",
   "execution_count": 38,
   "id": "59102472",
   "metadata": {
    "execution": {
     "iopub.execute_input": "2025-08-19T18:58:54.169420Z",
     "iopub.status.busy": "2025-08-19T18:58:54.169062Z",
     "iopub.status.idle": "2025-08-19T18:58:55.394181Z",
     "shell.execute_reply": "2025-08-19T18:58:55.392917Z"
    },
    "papermill": {
     "duration": 1.239691,
     "end_time": "2025-08-19T18:58:55.397079",
     "exception": false,
     "start_time": "2025-08-19T18:58:54.157388",
     "status": "completed"
    },
    "tags": []
   },
   "outputs": [],
   "source": [
    "probs_calib = model.predict_proba(X_calib)"
   ]
  },
  {
   "cell_type": "code",
   "execution_count": 39,
   "id": "a792d4dd",
   "metadata": {
    "execution": {
     "iopub.execute_input": "2025-08-19T18:58:55.440310Z",
     "iopub.status.busy": "2025-08-19T18:58:55.438438Z",
     "iopub.status.idle": "2025-08-19T18:58:55.450236Z",
     "shell.execute_reply": "2025-08-19T18:58:55.449225Z"
    },
    "papermill": {
     "duration": 0.030345,
     "end_time": "2025-08-19T18:58:55.452839",
     "exception": false,
     "start_time": "2025-08-19T18:58:55.422494",
     "status": "completed"
    },
    "tags": []
   },
   "outputs": [],
   "source": [
    "y_calib = y_calib.values.ravel().astype(int)"
   ]
  },
  {
   "cell_type": "code",
   "execution_count": 40,
   "id": "650fd033",
   "metadata": {
    "execution": {
     "iopub.execute_input": "2025-08-19T18:58:55.521595Z",
     "iopub.status.busy": "2025-08-19T18:58:55.521127Z",
     "iopub.status.idle": "2025-08-19T18:58:55.529076Z",
     "shell.execute_reply": "2025-08-19T18:58:55.528320Z"
    },
    "papermill": {
     "duration": 0.037475,
     "end_time": "2025-08-19T18:58:55.530408",
     "exception": false,
     "start_time": "2025-08-19T18:58:55.492933",
     "status": "completed"
    },
    "tags": []
   },
   "outputs": [],
   "source": [
    "from fairness_multiverse.conformal import compute_nc_scores\n",
    "\n",
    "# Compute nonconformity scores on calibration set (1 - probability of true class)\n",
    "nc_scores = compute_nc_scores(probs_calib, y_calib)"
   ]
  },
  {
   "cell_type": "code",
   "execution_count": 41,
   "id": "28ada44c",
   "metadata": {
    "execution": {
     "iopub.execute_input": "2025-08-19T18:58:55.554173Z",
     "iopub.status.busy": "2025-08-19T18:58:55.553883Z",
     "iopub.status.idle": "2025-08-19T18:58:55.559594Z",
     "shell.execute_reply": "2025-08-19T18:58:55.558821Z"
    },
    "papermill": {
     "duration": 0.019181,
     "end_time": "2025-08-19T18:58:55.561077",
     "exception": false,
     "start_time": "2025-08-19T18:58:55.541896",
     "status": "completed"
    },
    "tags": []
   },
   "outputs": [],
   "source": [
    "from fairness_multiverse.conformal import find_threshold\n",
    "\n",
    "# Find conformal threshold q_hat for the given alpha (split conformal method)\n",
    "q_hat = find_threshold(nc_scores, alpha)"
   ]
  },
  {
   "cell_type": "code",
   "execution_count": 42,
   "id": "df56469e",
   "metadata": {
    "execution": {
     "iopub.execute_input": "2025-08-19T18:58:55.586345Z",
     "iopub.status.busy": "2025-08-19T18:58:55.585968Z",
     "iopub.status.idle": "2025-08-19T18:58:55.591757Z",
     "shell.execute_reply": "2025-08-19T18:58:55.591085Z"
    },
    "papermill": {
     "duration": 0.019384,
     "end_time": "2025-08-19T18:58:55.593367",
     "exception": false,
     "start_time": "2025-08-19T18:58:55.573983",
     "status": "completed"
    },
    "tags": []
   },
   "outputs": [
    {
     "data": {
      "text/plain": [
       "0.6699999999999999"
      ]
     },
     "execution_count": 42,
     "metadata": {},
     "output_type": "execute_result"
    }
   ],
   "source": [
    "q_hat"
   ]
  },
  {
   "cell_type": "code",
   "execution_count": 43,
   "id": "aa1f5faa",
   "metadata": {
    "execution": {
     "iopub.execute_input": "2025-08-19T18:58:55.617829Z",
     "iopub.status.busy": "2025-08-19T18:58:55.617444Z",
     "iopub.status.idle": "2025-08-19T18:58:57.326204Z",
     "shell.execute_reply": "2025-08-19T18:58:57.325285Z"
    },
    "papermill": {
     "duration": 1.723161,
     "end_time": "2025-08-19T18:58:57.327942",
     "exception": false,
     "start_time": "2025-08-19T18:58:55.604781",
     "status": "completed"
    },
    "tags": []
   },
   "outputs": [],
   "source": [
    "from fairness_multiverse.conformal import predict_conformal_sets\n",
    "\n",
    "# Generate prediction sets for each test example\n",
    "pred_sets = predict_conformal_sets(model, X_test, q_hat)"
   ]
  },
  {
   "cell_type": "code",
   "execution_count": 44,
   "id": "97f67a6b",
   "metadata": {
    "execution": {
     "iopub.execute_input": "2025-08-19T18:58:57.358656Z",
     "iopub.status.busy": "2025-08-19T18:58:57.358352Z",
     "iopub.status.idle": "2025-08-19T18:58:57.363599Z",
     "shell.execute_reply": "2025-08-19T18:58:57.362923Z"
    },
    "papermill": {
     "duration": 0.02734,
     "end_time": "2025-08-19T18:58:57.368108",
     "exception": false,
     "start_time": "2025-08-19T18:58:57.340768",
     "status": "completed"
    },
    "tags": []
   },
   "outputs": [],
   "source": [
    "y_true = y_true.squeeze()"
   ]
  },
  {
   "cell_type": "code",
   "execution_count": 45,
   "id": "e700e9a7",
   "metadata": {
    "execution": {
     "iopub.execute_input": "2025-08-19T18:58:57.408192Z",
     "iopub.status.busy": "2025-08-19T18:58:57.406859Z",
     "iopub.status.idle": "2025-08-19T18:58:57.909467Z",
     "shell.execute_reply": "2025-08-19T18:58:57.908315Z"
    },
    "papermill": {
     "duration": 0.519534,
     "end_time": "2025-08-19T18:58:57.912305",
     "exception": false,
     "start_time": "2025-08-19T18:58:57.392771",
     "status": "completed"
    },
    "tags": []
   },
   "outputs": [],
   "source": [
    "from fairness_multiverse.conformal import evaluate_sets\n",
    "\n",
    "# Evaluate coverage and average set size on test data\n",
    "metrics = evaluate_sets(pred_sets, y_true)"
   ]
  },
  {
   "cell_type": "markdown",
   "id": "efbacec0",
   "metadata": {
    "papermill": {
     "duration": 0.013043,
     "end_time": "2025-08-19T18:58:57.950750",
     "exception": false,
     "start_time": "2025-08-19T18:58:57.937707",
     "status": "completed"
    },
    "tags": []
   },
   "source": [
    "# CP Metrics"
   ]
  },
  {
   "cell_type": "code",
   "execution_count": 46,
   "id": "9de55fb1",
   "metadata": {
    "execution": {
     "iopub.execute_input": "2025-08-19T18:58:57.977673Z",
     "iopub.status.busy": "2025-08-19T18:58:57.976194Z",
     "iopub.status.idle": "2025-08-19T18:58:57.988845Z",
     "shell.execute_reply": "2025-08-19T18:58:57.987809Z"
    },
    "papermill": {
     "duration": 0.027931,
     "end_time": "2025-08-19T18:58:57.990289",
     "exception": false,
     "start_time": "2025-08-19T18:58:57.962358",
     "status": "completed"
    },
    "tags": []
   },
   "outputs": [
    {
     "data": {
      "text/plain": [
       "{'coverage': 0.9164084271541634, 'avg_size': 1.1812061085720655}"
      ]
     },
     "execution_count": 46,
     "metadata": {},
     "output_type": "execute_result"
    }
   ],
   "source": [
    "metrics"
   ]
  },
  {
   "cell_type": "code",
   "execution_count": 47,
   "id": "64c340a1",
   "metadata": {
    "execution": {
     "iopub.execute_input": "2025-08-19T18:58:58.020671Z",
     "iopub.status.busy": "2025-08-19T18:58:58.019309Z",
     "iopub.status.idle": "2025-08-19T18:58:58.029274Z",
     "shell.execute_reply": "2025-08-19T18:58:58.028054Z"
    },
    "papermill": {
     "duration": 0.024707,
     "end_time": "2025-08-19T18:58:58.030822",
     "exception": false,
     "start_time": "2025-08-19T18:58:58.006115",
     "status": "completed"
    },
    "tags": []
   },
   "outputs": [],
   "source": [
    "example_universe = universe.copy()\n",
    "universe_training_year = example_universe.get(\"training_year\")\n",
    "universe_training_size = example_universe.get(\"training_size\")\n",
    "universe_scale = example_universe.get(\"scale\")\n",
    "universe_model = example_universe.get(\"model\")\n",
    "universe_exclude_features = example_universe.get(\"exclude_features\")\n",
    "universe_exclude_subgroups = example_universe.get(\"exclude_subgroups\")"
   ]
  },
  {
   "cell_type": "code",
   "execution_count": 48,
   "id": "dbb53cb4",
   "metadata": {
    "execution": {
     "iopub.execute_input": "2025-08-19T18:58:58.064397Z",
     "iopub.status.busy": "2025-08-19T18:58:58.063265Z",
     "iopub.status.idle": "2025-08-19T18:58:58.072828Z",
     "shell.execute_reply": "2025-08-19T18:58:58.071646Z"
    },
    "papermill": {
     "duration": 0.028122,
     "end_time": "2025-08-19T18:58:58.074391",
     "exception": false,
     "start_time": "2025-08-19T18:58:58.046269",
     "status": "completed"
    },
    "tags": []
   },
   "outputs": [],
   "source": [
    "cp_metrics_dict = {\n",
    "    \"universe_id\": [universe_id],\n",
    "    \"universe_training_year\": [universe_training_year],\n",
    "    \"universe_training_size\": [universe_training_size],\n",
    "    \"universe_scale\": [universe_scale],\n",
    "    \"universe_model\": [universe_model],\n",
    "    \"universe_exclude_features\": [universe_exclude_features],\n",
    "    \"universe_exclude_subgroups\": [universe_exclude_subgroups],\n",
    "    \"q_hat\": [q_hat],\n",
    "    \"coverage\": [metrics[\"coverage\"]],\n",
    "    \"avg_size\": [metrics[\"avg_size\"]],\n",
    "}"
   ]
  },
  {
   "cell_type": "code",
   "execution_count": 49,
   "id": "0d70d4b2",
   "metadata": {
    "execution": {
     "iopub.execute_input": "2025-08-19T18:58:58.104401Z",
     "iopub.status.busy": "2025-08-19T18:58:58.103437Z",
     "iopub.status.idle": "2025-08-19T18:58:58.114405Z",
     "shell.execute_reply": "2025-08-19T18:58:58.113222Z"
    },
    "papermill": {
     "duration": 0.025803,
     "end_time": "2025-08-19T18:58:58.116017",
     "exception": false,
     "start_time": "2025-08-19T18:58:58.090214",
     "status": "completed"
    },
    "tags": []
   },
   "outputs": [],
   "source": [
    "cp_metrics_df = pd.DataFrame(cp_metrics_dict)"
   ]
  },
  {
   "cell_type": "code",
   "execution_count": 50,
   "id": "b494403c",
   "metadata": {
    "execution": {
     "iopub.execute_input": "2025-08-19T18:58:58.145900Z",
     "iopub.status.busy": "2025-08-19T18:58:58.144939Z",
     "iopub.status.idle": "2025-08-19T18:58:58.168569Z",
     "shell.execute_reply": "2025-08-19T18:58:58.167733Z"
    },
    "papermill": {
     "duration": 0.038664,
     "end_time": "2025-08-19T18:58:58.170335",
     "exception": false,
     "start_time": "2025-08-19T18:58:58.131671",
     "status": "completed"
    },
    "tags": []
   },
   "outputs": [
    {
     "data": {
      "text/html": [
       "<div>\n",
       "<style scoped>\n",
       "    .dataframe tbody tr th:only-of-type {\n",
       "        vertical-align: middle;\n",
       "    }\n",
       "\n",
       "    .dataframe tbody tr th {\n",
       "        vertical-align: top;\n",
       "    }\n",
       "\n",
       "    .dataframe thead th {\n",
       "        text-align: right;\n",
       "    }\n",
       "</style>\n",
       "<table border=\"1\" class=\"dataframe\">\n",
       "  <thead>\n",
       "    <tr style=\"text-align: right;\">\n",
       "      <th></th>\n",
       "      <th>universe_id</th>\n",
       "      <th>universe_training_year</th>\n",
       "      <th>universe_training_size</th>\n",
       "      <th>universe_scale</th>\n",
       "      <th>universe_model</th>\n",
       "      <th>universe_exclude_features</th>\n",
       "      <th>universe_exclude_subgroups</th>\n",
       "      <th>q_hat</th>\n",
       "      <th>coverage</th>\n",
       "      <th>avg_size</th>\n",
       "    </tr>\n",
       "  </thead>\n",
       "  <tbody>\n",
       "    <tr>\n",
       "      <th>0</th>\n",
       "      <td>fa527a236c54906e68e528ad7c990aff</td>\n",
       "      <td>2012_14</td>\n",
       "      <td>1k</td>\n",
       "      <td>scale</td>\n",
       "      <td>rf</td>\n",
       "      <td>nationality-sex</td>\n",
       "      <td>drop-non-german</td>\n",
       "      <td>0.67</td>\n",
       "      <td>0.916408</td>\n",
       "      <td>1.181206</td>\n",
       "    </tr>\n",
       "  </tbody>\n",
       "</table>\n",
       "</div>"
      ],
      "text/plain": [
       "                        universe_id universe_training_year  \\\n",
       "0  fa527a236c54906e68e528ad7c990aff                2012_14   \n",
       "\n",
       "  universe_training_size universe_scale universe_model  \\\n",
       "0                     1k          scale             rf   \n",
       "\n",
       "  universe_exclude_features universe_exclude_subgroups  q_hat  coverage  \\\n",
       "0           nationality-sex            drop-non-german   0.67  0.916408   \n",
       "\n",
       "   avg_size  \n",
       "0  1.181206  "
      ]
     },
     "execution_count": 50,
     "metadata": {},
     "output_type": "execute_result"
    }
   ],
   "source": [
    "cp_metrics_df"
   ]
  },
  {
   "cell_type": "markdown",
   "id": "ed608b0b",
   "metadata": {
    "papermill": {
     "duration": 0.011877,
     "end_time": "2025-08-19T18:58:58.200382",
     "exception": false,
     "start_time": "2025-08-19T18:58:58.188505",
     "status": "completed"
    },
    "tags": []
   },
   "source": [
    "Conditional coverage & looking at subgroups"
   ]
  },
  {
   "cell_type": "code",
   "execution_count": 51,
   "id": "8968c366",
   "metadata": {
    "execution": {
     "iopub.execute_input": "2025-08-19T18:58:58.239244Z",
     "iopub.status.busy": "2025-08-19T18:58:58.238214Z",
     "iopub.status.idle": "2025-08-19T18:58:58.515597Z",
     "shell.execute_reply": "2025-08-19T18:58:58.514889Z"
    },
    "papermill": {
     "duration": 0.30611,
     "end_time": "2025-08-19T18:58:58.518292",
     "exception": false,
     "start_time": "2025-08-19T18:58:58.212182",
     "status": "completed"
    },
    "tags": []
   },
   "outputs": [],
   "source": [
    "from fairness_multiverse.conformal import build_cp_groups\n",
    "\n",
    "cp_groups_df = build_cp_groups(pred_sets, y_true, X_test.index, org_test)"
   ]
  },
  {
   "cell_type": "code",
   "execution_count": 52,
   "id": "292ddabf",
   "metadata": {
    "execution": {
     "iopub.execute_input": "2025-08-19T18:58:58.561476Z",
     "iopub.status.busy": "2025-08-19T18:58:58.560181Z",
     "iopub.status.idle": "2025-08-19T18:58:59.410060Z",
     "shell.execute_reply": "2025-08-19T18:58:59.409287Z"
    },
    "papermill": {
     "duration": 0.866447,
     "end_time": "2025-08-19T18:58:59.411445",
     "exception": false,
     "start_time": "2025-08-19T18:58:58.544998",
     "status": "completed"
    },
    "tags": []
   },
   "outputs": [],
   "source": [
    "# Define covered = 1 if true_label is in the predicted set\n",
    "cp_groups_df['covered'] = cp_groups_df.apply(\n",
    "    lambda r: int(r['true_label'] in r['pred_set']),\n",
    "    axis=1\n",
    ")"
   ]
  },
  {
   "cell_type": "code",
   "execution_count": 53,
   "id": "3a261692",
   "metadata": {
    "execution": {
     "iopub.execute_input": "2025-08-19T18:58:59.482271Z",
     "iopub.status.busy": "2025-08-19T18:58:59.481859Z",
     "iopub.status.idle": "2025-08-19T18:58:59.493570Z",
     "shell.execute_reply": "2025-08-19T18:58:59.492699Z"
    },
    "papermill": {
     "duration": 0.04905,
     "end_time": "2025-08-19T18:58:59.496032",
     "exception": false,
     "start_time": "2025-08-19T18:58:59.446982",
     "status": "completed"
    },
    "tags": []
   },
   "outputs": [],
   "source": [
    "subgroups = ['frau1','nongerman','nongerman_male','nongerman_female']\n",
    "\n",
    "# Conditional coverage for subgroup==1\n",
    "cond_coverage = {\n",
    "    g: cp_groups_df.loc[cp_groups_df[g]==1, 'covered'].mean()\n",
    "    for g in subgroups\n",
    "}"
   ]
  },
  {
   "cell_type": "code",
   "execution_count": 54,
   "id": "894fd600",
   "metadata": {
    "execution": {
     "iopub.execute_input": "2025-08-19T18:58:59.536431Z",
     "iopub.status.busy": "2025-08-19T18:58:59.532286Z",
     "iopub.status.idle": "2025-08-19T18:58:59.565983Z",
     "shell.execute_reply": "2025-08-19T18:58:59.564165Z"
    },
    "papermill": {
     "duration": 0.050321,
     "end_time": "2025-08-19T18:58:59.568699",
     "exception": false,
     "start_time": "2025-08-19T18:58:59.518378",
     "status": "completed"
    },
    "tags": []
   },
   "outputs": [
    {
     "data": {
      "text/plain": [
       "{'frau1': 0.9150828952689042,\n",
       " 'nongerman': 0.9102902374670184,\n",
       " 'nongerman_male': 0.9233540484553724,\n",
       " 'nongerman_female': 0.8886736214605067}"
      ]
     },
     "execution_count": 54,
     "metadata": {},
     "output_type": "execute_result"
    }
   ],
   "source": [
    "cond_coverage"
   ]
  },
  {
   "cell_type": "code",
   "execution_count": 55,
   "id": "942895c7",
   "metadata": {
    "execution": {
     "iopub.execute_input": "2025-08-19T18:58:59.606303Z",
     "iopub.status.busy": "2025-08-19T18:58:59.605364Z",
     "iopub.status.idle": "2025-08-19T18:58:59.616499Z",
     "shell.execute_reply": "2025-08-19T18:58:59.615180Z"
    },
    "papermill": {
     "duration": 0.026925,
     "end_time": "2025-08-19T18:58:59.618280",
     "exception": false,
     "start_time": "2025-08-19T18:58:59.591355",
     "status": "completed"
    },
    "tags": []
   },
   "outputs": [],
   "source": [
    "for subgroup, cov in cond_coverage.items():\n",
    "    cp_metrics_df[f\"cov_{subgroup}\"] = cov"
   ]
  },
  {
   "cell_type": "code",
   "execution_count": 56,
   "id": "3970120f",
   "metadata": {
    "execution": {
     "iopub.execute_input": "2025-08-19T18:58:59.650008Z",
     "iopub.status.busy": "2025-08-19T18:58:59.649019Z",
     "iopub.status.idle": "2025-08-19T18:58:59.676752Z",
     "shell.execute_reply": "2025-08-19T18:58:59.675344Z"
    },
    "papermill": {
     "duration": 0.045851,
     "end_time": "2025-08-19T18:58:59.681006",
     "exception": false,
     "start_time": "2025-08-19T18:58:59.635155",
     "status": "completed"
    },
    "tags": []
   },
   "outputs": [
    {
     "data": {
      "text/html": [
       "<div>\n",
       "<style scoped>\n",
       "    .dataframe tbody tr th:only-of-type {\n",
       "        vertical-align: middle;\n",
       "    }\n",
       "\n",
       "    .dataframe tbody tr th {\n",
       "        vertical-align: top;\n",
       "    }\n",
       "\n",
       "    .dataframe thead th {\n",
       "        text-align: right;\n",
       "    }\n",
       "</style>\n",
       "<table border=\"1\" class=\"dataframe\">\n",
       "  <thead>\n",
       "    <tr style=\"text-align: right;\">\n",
       "      <th></th>\n",
       "      <th>universe_id</th>\n",
       "      <th>universe_training_year</th>\n",
       "      <th>universe_training_size</th>\n",
       "      <th>universe_scale</th>\n",
       "      <th>universe_model</th>\n",
       "      <th>universe_exclude_features</th>\n",
       "      <th>universe_exclude_subgroups</th>\n",
       "      <th>q_hat</th>\n",
       "      <th>coverage</th>\n",
       "      <th>avg_size</th>\n",
       "      <th>cov_frau1</th>\n",
       "      <th>cov_nongerman</th>\n",
       "      <th>cov_nongerman_male</th>\n",
       "      <th>cov_nongerman_female</th>\n",
       "    </tr>\n",
       "  </thead>\n",
       "  <tbody>\n",
       "    <tr>\n",
       "      <th>0</th>\n",
       "      <td>fa527a236c54906e68e528ad7c990aff</td>\n",
       "      <td>2012_14</td>\n",
       "      <td>1k</td>\n",
       "      <td>scale</td>\n",
       "      <td>rf</td>\n",
       "      <td>nationality-sex</td>\n",
       "      <td>drop-non-german</td>\n",
       "      <td>0.67</td>\n",
       "      <td>0.916408</td>\n",
       "      <td>1.181206</td>\n",
       "      <td>0.915083</td>\n",
       "      <td>0.91029</td>\n",
       "      <td>0.923354</td>\n",
       "      <td>0.888674</td>\n",
       "    </tr>\n",
       "  </tbody>\n",
       "</table>\n",
       "</div>"
      ],
      "text/plain": [
       "                        universe_id universe_training_year  \\\n",
       "0  fa527a236c54906e68e528ad7c990aff                2012_14   \n",
       "\n",
       "  universe_training_size universe_scale universe_model  \\\n",
       "0                     1k          scale             rf   \n",
       "\n",
       "  universe_exclude_features universe_exclude_subgroups  q_hat  coverage  \\\n",
       "0           nationality-sex            drop-non-german   0.67  0.916408   \n",
       "\n",
       "   avg_size  cov_frau1  cov_nongerman  cov_nongerman_male  \\\n",
       "0  1.181206   0.915083        0.91029            0.923354   \n",
       "\n",
       "   cov_nongerman_female  \n",
       "0              0.888674  "
      ]
     },
     "execution_count": 56,
     "metadata": {},
     "output_type": "execute_result"
    }
   ],
   "source": [
    "cp_metrics_df"
   ]
  },
  {
   "cell_type": "markdown",
   "id": "3fc519cc",
   "metadata": {
    "papermill": {
     "duration": 0.012652,
     "end_time": "2025-08-19T18:58:59.715560",
     "exception": false,
     "start_time": "2025-08-19T18:58:59.702908",
     "status": "completed"
    },
    "tags": []
   },
   "source": [
    "# (Fairness) Metrics"
   ]
  },
  {
   "cell_type": "code",
   "execution_count": 57,
   "id": "a2e5e155",
   "metadata": {
    "execution": {
     "iopub.execute_input": "2025-08-19T18:58:59.743189Z",
     "iopub.status.busy": "2025-08-19T18:58:59.742151Z",
     "iopub.status.idle": "2025-08-19T18:58:59.768468Z",
     "shell.execute_reply": "2025-08-19T18:58:59.767452Z"
    },
    "papermill": {
     "duration": 0.042469,
     "end_time": "2025-08-19T18:58:59.770387",
     "exception": false,
     "start_time": "2025-08-19T18:58:59.727918",
     "status": "completed"
    },
    "tags": []
   },
   "outputs": [],
   "source": [
    "colname_to_bin = \"maxdeutsch1\"\n",
    "majority_value = org_train[colname_to_bin].mode()[0]\n",
    "\n",
    "org_test[\"majmin\"] = np.where(org_test[colname_to_bin] == majority_value, \"majority\", \"minority\")"
   ]
  },
  {
   "cell_type": "code",
   "execution_count": 58,
   "id": "17e3e4d5",
   "metadata": {
    "execution": {
     "iopub.execute_input": "2025-08-19T18:58:59.812240Z",
     "iopub.status.busy": "2025-08-19T18:58:59.810913Z",
     "iopub.status.idle": "2025-08-19T18:59:01.710632Z",
     "shell.execute_reply": "2025-08-19T18:59:01.709291Z"
    },
    "papermill": {
     "duration": 1.917027,
     "end_time": "2025-08-19T18:59:01.712399",
     "exception": false,
     "start_time": "2025-08-19T18:58:59.795372",
     "status": "completed"
    },
    "tags": []
   },
   "outputs": [],
   "source": [
    "example_universe = universe.copy()\n",
    "example_universe[\"cutoff\"] = example_universe[\"cutoff\"][0]\n",
    "example_universe[\"eval_fairness_grouping\"] = example_universe[\"eval_fairness_grouping\"][0]\n",
    "fairness_dict, metric_frame = universe_analysis.compute_metrics(\n",
    "    example_universe,\n",
    "    y_pred_prob=probs_test,\n",
    "    y_test=y_true,\n",
    "    org_test=org_test,\n",
    ")"
   ]
  },
  {
   "cell_type": "markdown",
   "id": "1fb7a0e9",
   "metadata": {
    "papermill": {
     "duration": 0.012143,
     "end_time": "2025-08-19T18:59:01.743942",
     "exception": false,
     "start_time": "2025-08-19T18:59:01.731799",
     "status": "completed"
    },
    "tags": []
   },
   "source": [
    "# Overall"
   ]
  },
  {
   "cell_type": "markdown",
   "id": "be1784b1",
   "metadata": {
    "papermill": {
     "duration": 0.027715,
     "end_time": "2025-08-19T18:59:01.802368",
     "exception": false,
     "start_time": "2025-08-19T18:59:01.774653",
     "status": "completed"
    },
    "tags": []
   },
   "source": [
    "Main fairness target: Equalized Odds. Seems to be a better fit than equal opportunity, since we're not only interested in Y = 1. Seems to be a better fit than demographic parity, since we also care about accuracy, not just equal distribution of preds.\n",
    "\n",
    "Pick column for computation of fairness metrics\n",
    "\n",
    "Performance\n",
    "Overall performance measures, most interesting in relation to the measures split by group below"
   ]
  },
  {
   "cell_type": "code",
   "execution_count": 59,
   "id": "b7672bee",
   "metadata": {
    "execution": {
     "iopub.execute_input": "2025-08-19T18:59:01.828431Z",
     "iopub.status.busy": "2025-08-19T18:59:01.828103Z",
     "iopub.status.idle": "2025-08-19T18:59:01.845614Z",
     "shell.execute_reply": "2025-08-19T18:59:01.844374Z"
    },
    "papermill": {
     "duration": 0.032383,
     "end_time": "2025-08-19T18:59:01.847235",
     "exception": false,
     "start_time": "2025-08-19T18:59:01.814852",
     "status": "completed"
    },
    "tags": []
   },
   "outputs": [
    {
     "data": {
      "text/plain": [
       "accuracy                   0.220065\n",
       "balanced accuracy          0.544605\n",
       "f1                         0.243998\n",
       "precision                  0.139323\n",
       "false positive rate        0.891934\n",
       "false negative rate        0.018856\n",
       "selection rate             0.903378\n",
       "count                  89710.000000\n",
       "dtype: float64"
      ]
     },
     "execution_count": 59,
     "metadata": {},
     "output_type": "execute_result"
    }
   ],
   "source": [
    "metric_frame.overall"
   ]
  },
  {
   "cell_type": "markdown",
   "id": "d93333c9",
   "metadata": {
    "papermill": {
     "duration": 0.019315,
     "end_time": "2025-08-19T18:59:01.880872",
     "exception": false,
     "start_time": "2025-08-19T18:59:01.861557",
     "status": "completed"
    },
    "tags": []
   },
   "source": [
    "By Group"
   ]
  },
  {
   "cell_type": "code",
   "execution_count": 60,
   "id": "52256966",
   "metadata": {
    "execution": {
     "iopub.execute_input": "2025-08-19T18:59:01.918651Z",
     "iopub.status.busy": "2025-08-19T18:59:01.918211Z",
     "iopub.status.idle": "2025-08-19T18:59:01.934484Z",
     "shell.execute_reply": "2025-08-19T18:59:01.933643Z"
    },
    "papermill": {
     "duration": 0.031393,
     "end_time": "2025-08-19T18:59:01.936111",
     "exception": false,
     "start_time": "2025-08-19T18:59:01.904718",
     "status": "completed"
    },
    "tags": []
   },
   "outputs": [
    {
     "data": {
      "text/html": [
       "<div>\n",
       "<style scoped>\n",
       "    .dataframe tbody tr th:only-of-type {\n",
       "        vertical-align: middle;\n",
       "    }\n",
       "\n",
       "    .dataframe tbody tr th {\n",
       "        vertical-align: top;\n",
       "    }\n",
       "\n",
       "    .dataframe thead th {\n",
       "        text-align: right;\n",
       "    }\n",
       "</style>\n",
       "<table border=\"1\" class=\"dataframe\">\n",
       "  <thead>\n",
       "    <tr style=\"text-align: right;\">\n",
       "      <th></th>\n",
       "      <th>accuracy</th>\n",
       "      <th>balanced accuracy</th>\n",
       "      <th>f1</th>\n",
       "      <th>precision</th>\n",
       "      <th>false positive rate</th>\n",
       "      <th>false negative rate</th>\n",
       "      <th>selection rate</th>\n",
       "      <th>count</th>\n",
       "    </tr>\n",
       "    <tr>\n",
       "      <th>majmin</th>\n",
       "      <th></th>\n",
       "      <th></th>\n",
       "      <th></th>\n",
       "      <th></th>\n",
       "      <th></th>\n",
       "      <th></th>\n",
       "      <th></th>\n",
       "      <th></th>\n",
       "    </tr>\n",
       "  </thead>\n",
       "  <tbody>\n",
       "    <tr>\n",
       "      <th>majority</th>\n",
       "      <td>0.232543</td>\n",
       "      <td>0.549962</td>\n",
       "      <td>0.252587</td>\n",
       "      <td>0.144946</td>\n",
       "      <td>0.881476</td>\n",
       "      <td>0.018600</td>\n",
       "      <td>0.894680</td>\n",
       "      <td>69170.0</td>\n",
       "    </tr>\n",
       "    <tr>\n",
       "      <th>minority</th>\n",
       "      <td>0.178043</td>\n",
       "      <td>0.526836</td>\n",
       "      <td>0.215656</td>\n",
       "      <td>0.121157</td>\n",
       "      <td>0.926480</td>\n",
       "      <td>0.019848</td>\n",
       "      <td>0.932668</td>\n",
       "      <td>20540.0</td>\n",
       "    </tr>\n",
       "  </tbody>\n",
       "</table>\n",
       "</div>"
      ],
      "text/plain": [
       "          accuracy  balanced accuracy        f1  precision  \\\n",
       "majmin                                                       \n",
       "majority  0.232543           0.549962  0.252587   0.144946   \n",
       "minority  0.178043           0.526836  0.215656   0.121157   \n",
       "\n",
       "          false positive rate  false negative rate  selection rate    count  \n",
       "majmin                                                                       \n",
       "majority             0.881476             0.018600        0.894680  69170.0  \n",
       "minority             0.926480             0.019848        0.932668  20540.0  "
      ]
     },
     "execution_count": 60,
     "metadata": {},
     "output_type": "execute_result"
    }
   ],
   "source": [
    "metric_frame.by_group"
   ]
  },
  {
   "cell_type": "code",
   "execution_count": 61,
   "id": "6e6c20ae",
   "metadata": {
    "execution": {
     "iopub.execute_input": "2025-08-19T18:59:01.978990Z",
     "iopub.status.busy": "2025-08-19T18:59:01.978593Z",
     "iopub.status.idle": "2025-08-19T18:59:03.797201Z",
     "shell.execute_reply": "2025-08-19T18:59:03.796108Z"
    },
    "papermill": {
     "duration": 1.837971,
     "end_time": "2025-08-19T18:59:03.798568",
     "exception": false,
     "start_time": "2025-08-19T18:59:01.960597",
     "status": "completed"
    },
    "tags": []
   },
   "outputs": [
    {
     "data": {
      "text/plain": [
       "array([[<Axes: title={'center': 'accuracy'}, xlabel='majmin'>,\n",
       "        <Axes: title={'center': 'balanced accuracy'}, xlabel='majmin'>,\n",
       "        <Axes: title={'center': 'f1'}, xlabel='majmin'>],\n",
       "       [<Axes: title={'center': 'precision'}, xlabel='majmin'>,\n",
       "        <Axes: title={'center': 'false positive rate'}, xlabel='majmin'>,\n",
       "        <Axes: title={'center': 'false negative rate'}, xlabel='majmin'>],\n",
       "       [<Axes: title={'center': 'selection rate'}, xlabel='majmin'>,\n",
       "        <Axes: title={'center': 'count'}, xlabel='majmin'>,\n",
       "        <Axes: xlabel='majmin'>]], dtype=object)"
      ]
     },
     "execution_count": 61,
     "metadata": {},
     "output_type": "execute_result"
    },
    {
     "data": {
      "image/png": "[encoded data removed]",
      "text/plain": [
       "<Figure size 1200x800 with 9 Axes>"
      ]
     },
     "metadata": {},
     "output_type": "display_data"
    }
   ],
   "source": [
    "# In a graphic\n",
    "metric_frame.by_group.plot.bar(\n",
    "    subplots=True,\n",
    "    layout=[3, 3],\n",
    "    legend=False,\n",
    "    figsize=[12, 8],\n",
    "    title=\"Show all metrics\",\n",
    ")"
   ]
  },
  {
   "cell_type": "markdown",
   "id": "b2e433ae",
   "metadata": {
    "papermill": {
     "duration": 0.014464,
     "end_time": "2025-08-19T18:59:03.828707",
     "exception": false,
     "start_time": "2025-08-19T18:59:03.814243",
     "status": "completed"
    },
    "tags": []
   },
   "source": [
    "# Final Output"
   ]
  },
  {
   "cell_type": "code",
   "execution_count": 62,
   "id": "3871301e",
   "metadata": {
    "execution": {
     "iopub.execute_input": "2025-08-19T18:59:03.861791Z",
     "iopub.status.busy": "2025-08-19T18:59:03.859046Z",
     "iopub.status.idle": "2025-08-19T18:59:03.878689Z",
     "shell.execute_reply": "2025-08-19T18:59:03.877575Z"
    },
    "papermill": {
     "duration": 0.038579,
     "end_time": "2025-08-19T18:59:03.881580",
     "exception": false,
     "start_time": "2025-08-19T18:59:03.843001",
     "status": "completed"
    },
    "tags": []
   },
   "outputs": [
    {
     "data": {
      "text/plain": [
       "4"
      ]
     },
     "execution_count": 62,
     "metadata": {},
     "output_type": "execute_result"
    }
   ],
   "source": [
    "sub_universes = universe_analysis.generate_sub_universes()\n",
    "len(sub_universes)"
   ]
  },
  {
   "cell_type": "code",
   "execution_count": 63,
   "id": "d9cfdaca",
   "metadata": {
    "execution": {
     "iopub.execute_input": "2025-08-19T18:59:03.922682Z",
     "iopub.status.busy": "2025-08-19T18:59:03.921596Z",
     "iopub.status.idle": "2025-08-19T18:59:03.936214Z",
     "shell.execute_reply": "2025-08-19T18:59:03.934530Z"
    },
    "papermill": {
     "duration": 0.032844,
     "end_time": "2025-08-19T18:59:03.938332",
     "exception": false,
     "start_time": "2025-08-19T18:59:03.905488",
     "status": "completed"
    },
    "tags": []
   },
   "outputs": [],
   "source": [
    "def filter_sub_universe_data(sub_universe, org_test):\n",
    "    # Keep all rows — no filtering\n",
    "    keep_rows_mask = np.ones(org_test.shape[0], dtype=bool)\n",
    "\n",
    "    print(f\"[INFO] Keeping all rows: {keep_rows_mask.sum()} rows retained.\")\n",
    "    return keep_rows_mask"
   ]
  },
  {
   "cell_type": "code",
   "execution_count": 64,
   "id": "2bc31ac1",
   "metadata": {
    "execution": {
     "iopub.execute_input": "2025-08-19T18:59:03.972753Z",
     "iopub.status.busy": "2025-08-19T18:59:03.971667Z",
     "iopub.status.idle": "2025-08-19T18:59:10.559031Z",
     "shell.execute_reply": "2025-08-19T18:59:10.557994Z"
    },
    "papermill": {
     "duration": 6.604681,
     "end_time": "2025-08-19T18:59:10.560354",
     "exception": false,
     "start_time": "2025-08-19T18:59:03.955673",
     "status": "completed"
    },
    "tags": []
   },
   "outputs": [
    {
     "name": "stdout",
     "output_type": "stream",
     "text": [
      "Stopping execution_time clock.\n",
      "[INFO] Keeping all rows: 89710 rows retained.\n"
     ]
    },
    {
     "name": "stdout",
     "output_type": "stream",
     "text": [
      "[INFO] Keeping all rows: 89710 rows retained.\n"
     ]
    },
    {
     "name": "stdout",
     "output_type": "stream",
     "text": [
      "[INFO] Keeping all rows: 89710 rows retained.\n"
     ]
    },
    {
     "name": "stdout",
     "output_type": "stream",
     "text": [
      "[INFO] Keeping all rows: 89710 rows retained.\n"
     ]
    },
    {
     "data": {
      "text/html": [
       "<div>\n",
       "<style scoped>\n",
       "    .dataframe tbody tr th:only-of-type {\n",
       "        vertical-align: middle;\n",
       "    }\n",
       "\n",
       "    .dataframe tbody tr th {\n",
       "        vertical-align: top;\n",
       "    }\n",
       "\n",
       "    .dataframe thead th {\n",
       "        text-align: right;\n",
       "    }\n",
       "</style>\n",
       "<table border=\"1\" class=\"dataframe\">\n",
       "  <thead>\n",
       "    <tr style=\"text-align: right;\">\n",
       "      <th></th>\n",
       "      <th>run_no</th>\n",
       "      <th>universe_id</th>\n",
       "      <th>universe_settings</th>\n",
       "      <th>execution_time</th>\n",
       "      <th>test_size_n</th>\n",
       "      <th>test_size_frac</th>\n",
       "      <th>fair_main_equalized_odds_difference</th>\n",
       "      <th>fair_main_equalized_odds_ratio</th>\n",
       "      <th>fair_main_demographic_parity_difference</th>\n",
       "      <th>fair_main_demographic_parity_ratio</th>\n",
       "      <th>...</th>\n",
       "      <th>perf_grp_precision_0</th>\n",
       "      <th>perf_grp_precision_1</th>\n",
       "      <th>perf_grp_false positive rate_0</th>\n",
       "      <th>perf_grp_false positive rate_1</th>\n",
       "      <th>perf_grp_false negative rate_0</th>\n",
       "      <th>perf_grp_false negative rate_1</th>\n",
       "      <th>perf_grp_selection rate_0</th>\n",
       "      <th>perf_grp_selection rate_1</th>\n",
       "      <th>perf_grp_count_0</th>\n",
       "      <th>perf_grp_count_1</th>\n",
       "    </tr>\n",
       "  </thead>\n",
       "  <tbody>\n",
       "    <tr>\n",
       "      <th>0</th>\n",
       "      <td>3</td>\n",
       "      <td>fa527a236c54906e68e528ad7c990aff</td>\n",
       "      <td>{\"cutoff\": \"quantile_0.1\", \"eval_fairness_grou...</td>\n",
       "      <td>25.25143</td>\n",
       "      <td>89710</td>\n",
       "      <td>1.0</td>\n",
       "      <td>0.045004</td>\n",
       "      <td>0.951424</td>\n",
       "      <td>0.037988</td>\n",
       "      <td>0.959269</td>\n",
       "      <td>...</td>\n",
       "      <td>NaN</td>\n",
       "      <td>NaN</td>\n",
       "      <td>NaN</td>\n",
       "      <td>NaN</td>\n",
       "      <td>NaN</td>\n",
       "      <td>NaN</td>\n",
       "      <td>NaN</td>\n",
       "      <td>NaN</td>\n",
       "      <td>NaN</td>\n",
       "      <td>NaN</td>\n",
       "    </tr>\n",
       "    <tr>\n",
       "      <th>0</th>\n",
       "      <td>3</td>\n",
       "      <td>fa527a236c54906e68e528ad7c990aff</td>\n",
       "      <td>{\"cutoff\": \"quantile_0.1\", \"eval_fairness_grou...</td>\n",
       "      <td>25.25143</td>\n",
       "      <td>89710</td>\n",
       "      <td>1.0</td>\n",
       "      <td>0.045004</td>\n",
       "      <td>0.951424</td>\n",
       "      <td>0.037988</td>\n",
       "      <td>0.959269</td>\n",
       "      <td>...</td>\n",
       "      <td>0.121157</td>\n",
       "      <td>0.144946</td>\n",
       "      <td>0.92648</td>\n",
       "      <td>0.881476</td>\n",
       "      <td>0.019848</td>\n",
       "      <td>0.018600</td>\n",
       "      <td>0.932668</td>\n",
       "      <td>0.89468</td>\n",
       "      <td>20540.0</td>\n",
       "      <td>69170.0</td>\n",
       "    </tr>\n",
       "    <tr>\n",
       "      <th>0</th>\n",
       "      <td>3</td>\n",
       "      <td>fa527a236c54906e68e528ad7c990aff</td>\n",
       "      <td>{\"cutoff\": \"quantile_0.25\", \"eval_fairness_gro...</td>\n",
       "      <td>25.25143</td>\n",
       "      <td>89710</td>\n",
       "      <td>1.0</td>\n",
       "      <td>0.090831</td>\n",
       "      <td>0.887263</td>\n",
       "      <td>0.075022</td>\n",
       "      <td>0.908381</td>\n",
       "      <td>...</td>\n",
       "      <td>NaN</td>\n",
       "      <td>NaN</td>\n",
       "      <td>NaN</td>\n",
       "      <td>NaN</td>\n",
       "      <td>NaN</td>\n",
       "      <td>NaN</td>\n",
       "      <td>NaN</td>\n",
       "      <td>NaN</td>\n",
       "      <td>NaN</td>\n",
       "      <td>NaN</td>\n",
       "    </tr>\n",
       "    <tr>\n",
       "      <th>0</th>\n",
       "      <td>3</td>\n",
       "      <td>fa527a236c54906e68e528ad7c990aff</td>\n",
       "      <td>{\"cutoff\": \"quantile_0.25\", \"eval_fairness_gro...</td>\n",
       "      <td>25.25143</td>\n",
       "      <td>89710</td>\n",
       "      <td>1.0</td>\n",
       "      <td>0.090831</td>\n",
       "      <td>0.887263</td>\n",
       "      <td>0.075022</td>\n",
       "      <td>0.908381</td>\n",
       "      <td>...</td>\n",
       "      <td>0.129496</td>\n",
       "      <td>0.165928</td>\n",
       "      <td>0.80569</td>\n",
       "      <td>0.714859</td>\n",
       "      <td>0.080236</td>\n",
       "      <td>0.065974</td>\n",
       "      <td>0.818841</td>\n",
       "      <td>0.74382</td>\n",
       "      <td>20540.0</td>\n",
       "      <td>69170.0</td>\n",
       "    </tr>\n",
       "  </tbody>\n",
       "</table>\n",
       "<p>4 rows × 50 columns</p>\n",
       "</div>"
      ],
      "text/plain": [
       "  run_no                       universe_id  \\\n",
       "0      3  fa527a236c54906e68e528ad7c990aff   \n",
       "0      3  fa527a236c54906e68e528ad7c990aff   \n",
       "0      3  fa527a236c54906e68e528ad7c990aff   \n",
       "0      3  fa527a236c54906e68e528ad7c990aff   \n",
       "\n",
       "                                   universe_settings  execution_time  \\\n",
       "0  {\"cutoff\": \"quantile_0.1\", \"eval_fairness_grou...        25.25143   \n",
       "0  {\"cutoff\": \"quantile_0.1\", \"eval_fairness_grou...        25.25143   \n",
       "0  {\"cutoff\": \"quantile_0.25\", \"eval_fairness_gro...        25.25143   \n",
       "0  {\"cutoff\": \"quantile_0.25\", \"eval_fairness_gro...        25.25143   \n",
       "\n",
       "   test_size_n  test_size_frac  fair_main_equalized_odds_difference  \\\n",
       "0        89710             1.0                             0.045004   \n",
       "0        89710             1.0                             0.045004   \n",
       "0        89710             1.0                             0.090831   \n",
       "0        89710             1.0                             0.090831   \n",
       "\n",
       "   fair_main_equalized_odds_ratio  fair_main_demographic_parity_difference  \\\n",
       "0                        0.951424                                 0.037988   \n",
       "0                        0.951424                                 0.037988   \n",
       "0                        0.887263                                 0.075022   \n",
       "0                        0.887263                                 0.075022   \n",
       "\n",
       "   fair_main_demographic_parity_ratio  ...  perf_grp_precision_0  \\\n",
       "0                            0.959269  ...                   NaN   \n",
       "0                            0.959269  ...              0.121157   \n",
       "0                            0.908381  ...                   NaN   \n",
       "0                            0.908381  ...              0.129496   \n",
       "\n",
       "   perf_grp_precision_1  perf_grp_false positive rate_0  \\\n",
       "0                   NaN                             NaN   \n",
       "0              0.144946                         0.92648   \n",
       "0                   NaN                             NaN   \n",
       "0              0.165928                         0.80569   \n",
       "\n",
       "   perf_grp_false positive rate_1  perf_grp_false negative rate_0  \\\n",
       "0                             NaN                             NaN   \n",
       "0                        0.881476                        0.019848   \n",
       "0                             NaN                             NaN   \n",
       "0                        0.714859                        0.080236   \n",
       "\n",
       "   perf_grp_false negative rate_1  perf_grp_selection rate_0  \\\n",
       "0                             NaN                        NaN   \n",
       "0                        0.018600                   0.932668   \n",
       "0                             NaN                        NaN   \n",
       "0                        0.065974                   0.818841   \n",
       "\n",
       "   perf_grp_selection rate_1  perf_grp_count_0  perf_grp_count_1  \n",
       "0                        NaN               NaN               NaN  \n",
       "0                    0.89468           20540.0           69170.0  \n",
       "0                        NaN               NaN               NaN  \n",
       "0                    0.74382           20540.0           69170.0  \n",
       "\n",
       "[4 rows x 50 columns]"
      ]
     },
     "execution_count": 64,
     "metadata": {},
     "output_type": "execute_result"
    }
   ],
   "source": [
    "final_output = universe_analysis.generate_final_output(\n",
    "    y_pred_prob=probs_test,\n",
    "    y_test=y_true,\n",
    "    org_test=org_test,\n",
    "    filter_data=filter_sub_universe_data,\n",
    "    cp_metrics_df=cp_metrics_df,\n",
    "    save=True,\n",
    ")\n",
    "final_output"
   ]
  },
  {
   "cell_type": "code",
   "execution_count": null,
   "id": "8b80a1ff",
   "metadata": {
    "papermill": {
     "duration": 0.014242,
     "end_time": "2025-08-19T18:59:10.592018",
     "exception": false,
     "start_time": "2025-08-19T18:59:10.577776",
     "status": "completed"
    },
    "tags": []
   },
   "outputs": [],
   "source": []
  },
  {
   "cell_type": "code",
   "execution_count": null,
   "id": "275c9fad",
   "metadata": {
    "papermill": {
     "duration": 0.014067,
     "end_time": "2025-08-19T18:59:10.620315",
     "exception": false,
     "start_time": "2025-08-19T18:59:10.606248",
     "status": "completed"
    },
    "tags": []
   },
   "outputs": [],
   "source": []
  }
 ],
 "metadata": {
  "celltoolbar": "Tags",
  "kernelspec": {
   "display_name": "Python (CMA Fairness)",
   "language": "python",
   "name": "cma_fair_env"
  },
  "language_info": {
   "codemirror_mode": {
    "name": "ipython",
    "version": 3
   },
   "file_extension": ".py",
   "mimetype": "text/x-python",
   "name": "python",
   "nbconvert_exporter": "python",
   "pygments_lexer": "ipython3",
   "version": "3.10.12"
  },
  "papermill": {
   "default_parameters": {},
   "duration": 35.519671,
   "end_time": "2025-08-19T18:59:11.464272",
   "environment_variables": {},
   "exception": null,
   "input_path": "universe_analysis.ipynb",
   "output_path": "output/runs/3/notebooks/m_3-fa527a236c54906e68e528ad7c990aff.ipynb",
   "parameters": {
    "output_dir": "output",
    "run_no": "3",
    "seed": "2023",
    "universe": "{\"cutoff\": [\"quantile_0.1\", \"quantile_0.25\"], \"eval_fairness_grouping\": [\"majority-minority\", \"nationality-all\"], \"exclude_features\": \"nationality-sex\", \"exclude_subgroups\": \"drop-non-german\", \"model\": \"rf\", \"scale\": \"scale\", \"training_size\": \"1k\", \"training_year\": \"2012_14\"}",
    "universe_id": "fa527a236c54906e68e528ad7c990aff"
   },
   "start_time": "2025-08-19T18:58:35.944601",
   "version": "2.6.0"
  }
 },
 "nbformat": 4,
 "nbformat_minor": 5
}