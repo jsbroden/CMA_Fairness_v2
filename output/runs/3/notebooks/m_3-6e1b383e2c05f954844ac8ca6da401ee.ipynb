{
 "cells": [
  {
   "cell_type": "markdown",
   "id": "ef23dbb3",
   "metadata": {
    "papermill": {
     "duration": 0.009081,
     "end_time": "2025-08-19T18:49:51.828138",
     "exception": false,
     "start_time": "2025-08-19T18:49:51.819057",
     "status": "completed"
    },
    "tags": []
   },
   "source": [
    "# Setup"
   ]
  },
  {
   "cell_type": "code",
   "execution_count": 1,
   "id": "0bc8e7dc",
   "metadata": {
    "execution": {
     "iopub.execute_input": "2025-08-19T18:49:51.846806Z",
     "iopub.status.busy": "2025-08-19T18:49:51.846349Z",
     "iopub.status.idle": "2025-08-19T18:49:51.855864Z",
     "shell.execute_reply": "2025-08-19T18:49:51.855165Z"
    },
    "papermill": {
     "duration": 0.029174,
     "end_time": "2025-08-19T18:49:51.865931",
     "exception": false,
     "start_time": "2025-08-19T18:49:51.836757",
     "status": "completed"
    },
    "tags": []
   },
   "outputs": [
    {
     "name": "stdout",
     "output_type": "stream",
     "text": [
      "/dss/dsshome1/0C/ra93lal2/cma/CMA_Fairness_v2\n"
     ]
    },
    {
     "name": "stderr",
     "output_type": "stream",
     "text": [
      "/dss/dsshome1/0C/ra93lal2/.local/share/virtualenvs/CMA_Fairness_v2-3j10GkSs/lib/python3.10/site-packages/IPython/core/magics/osm.py:393: UserWarning: This is now an optional IPython functionality, using bookmarks requires you to install the `pickleshare` library.\n",
      "  bkms = self.shell.db.get('bookmarks', {})\n",
      "/dss/dsshome1/0C/ra93lal2/.local/share/virtualenvs/CMA_Fairness_v2-3j10GkSs/lib/python3.10/site-packages/IPython/core/magics/osm.py:417: UserWarning: This is now an optional IPython functionality, setting dhist requires you to install the `pickleshare` library.\n",
      "  self.shell.db['dhist'] = compress_dhist(dhist)[-100:]\n"
     ]
    }
   ],
   "source": [
    "%cd ~/cma/CMA_Fairness_v2"
   ]
  },
  {
   "cell_type": "markdown",
   "id": "9d235661",
   "metadata": {
    "papermill": {
     "duration": 0.015113,
     "end_time": "2025-08-19T18:49:51.895860",
     "exception": false,
     "start_time": "2025-08-19T18:49:51.880747",
     "status": "completed"
    },
    "tags": []
   },
   "source": [
    "The following cell holds the definition of our parameters, these values can be overriden by rendering the with e.g. the following command:\n",
    "\n",
    "papermill -p alpha 0.2 -p ratio 0.3 universe_analysis.ipynb output/test_run.ipynb"
   ]
  },
  {
   "cell_type": "code",
   "execution_count": 2,
   "id": "4a789d8e",
   "metadata": {
    "execution": {
     "iopub.execute_input": "2025-08-19T18:49:51.916355Z",
     "iopub.status.busy": "2025-08-19T18:49:51.915957Z",
     "iopub.status.idle": "2025-08-19T18:49:51.920297Z",
     "shell.execute_reply": "2025-08-19T18:49:51.919588Z"
    },
    "papermill": {
     "duration": 0.015601,
     "end_time": "2025-08-19T18:49:51.921801",
     "exception": false,
     "start_time": "2025-08-19T18:49:51.906200",
     "status": "completed"
    },
    "tags": []
   },
   "outputs": [
    {
     "name": "stdout",
     "output_type": "stream",
     "text": [
      "Current working directory: /dss/dsshome1/0C/ra93lal2/cma/CMA_Fairness_v2\n"
     ]
    }
   ],
   "source": [
    "import os\n",
    "print(\"Current working directory:\", os.getcwd())"
   ]
  },
  {
   "cell_type": "code",
   "execution_count": 3,
   "id": "4132aaed",
   "metadata": {
    "execution": {
     "iopub.execute_input": "2025-08-19T18:49:51.941439Z",
     "iopub.status.busy": "2025-08-19T18:49:51.941040Z",
     "iopub.status.idle": "2025-08-19T18:49:51.945996Z",
     "shell.execute_reply": "2025-08-19T18:49:51.945252Z"
    },
    "papermill": {
     "duration": 0.016159,
     "end_time": "2025-08-19T18:49:51.947316",
     "exception": false,
     "start_time": "2025-08-19T18:49:51.931157",
     "status": "completed"
    },
    "tags": [
     "parameters"
    ]
   },
   "outputs": [],
   "source": [
    "run_no = 0\n",
    "universe_id = \"test\"\n",
    "universe = {\n",
    "    \"training_size\": \"5k\", # \"25k\", \"5k\", \"1k\"\n",
    "    \"training_year\": \"2012_14\", # \"2014\", \"2012_14\", \"2010_14\"\n",
    "    \"scale\": \"scale\", # \"scale\", \"do-not-scale\",\n",
    "    \"model\": \"elasticnet\", # \"logreg\", \"penalized_logreg\", \"rf\", \"gbm\", \"elasticnet\"\n",
    "    \"cutoff\": [\"quantile_0.15\", \"quantile_0.30\"],\n",
    "    \"exclude_features\": \"age\", # \"none\", \"nationality\", \"sex\", \"nationality-sex\", \"age\"\n",
    "    \"exclude_subgroups\": \"drop-non-german\", # \"keep-all\", \"drop-non-german\"\n",
    "    \"eval_fairness_grouping\": [\"majority-minority\", \"nationality-all\"]\n",
    "}\n",
    "\n",
    "output_dir=\"./output\"\n",
    "seed=0"
   ]
  },
  {
   "cell_type": "code",
   "execution_count": 4,
   "id": "59ae497a",
   "metadata": {
    "execution": {
     "iopub.execute_input": "2025-08-19T18:49:51.966376Z",
     "iopub.status.busy": "2025-08-19T18:49:51.966016Z",
     "iopub.status.idle": "2025-08-19T18:49:52.015835Z",
     "shell.execute_reply": "2025-08-19T18:49:52.014306Z"
    },
    "papermill": {
     "duration": 0.063164,
     "end_time": "2025-08-19T18:49:52.019302",
     "exception": false,
     "start_time": "2025-08-19T18:49:51.956138",
     "status": "completed"
    },
    "tags": [
     "injected-parameters"
    ]
   },
   "outputs": [],
   "source": [
    "# Parameters\n",
    "universe_id = \"6e1b383e2c05f954844ac8ca6da401ee\"\n",
    "run_no = \"3\"\n",
    "universe = \"{\\\"cutoff\\\": [\\\"quantile_0.1\\\", \\\"quantile_0.25\\\"], \\\"eval_fairness_grouping\\\": [\\\"majority-minority\\\", \\\"nationality-all\\\"], \\\"exclude_features\\\": \\\"age\\\", \\\"exclude_subgroups\\\": \\\"keep-all\\\", \\\"model\\\": \\\"penalized_logreg\\\", \\\"scale\\\": \\\"scale\\\", \\\"training_size\\\": \\\"1k\\\", \\\"training_year\\\": \\\"2014\\\"}\"\n",
    "output_dir = \"output\"\n",
    "seed = \"2023\"\n"
   ]
  },
  {
   "cell_type": "code",
   "execution_count": 5,
   "id": "a5d7941f",
   "metadata": {
    "execution": {
     "iopub.execute_input": "2025-08-19T18:49:52.051230Z",
     "iopub.status.busy": "2025-08-19T18:49:52.050774Z",
     "iopub.status.idle": "2025-08-19T18:49:52.055140Z",
     "shell.execute_reply": "2025-08-19T18:49:52.054398Z"
    },
    "papermill": {
     "duration": 0.017881,
     "end_time": "2025-08-19T18:49:52.056433",
     "exception": false,
     "start_time": "2025-08-19T18:49:52.038552",
     "status": "completed"
    },
    "tags": []
   },
   "outputs": [],
   "source": [
    "import json\n",
    "if isinstance(universe, str):\n",
    "    universe = json.loads(universe)"
   ]
  },
  {
   "cell_type": "code",
   "execution_count": 6,
   "id": "7076ccb1",
   "metadata": {
    "execution": {
     "iopub.execute_input": "2025-08-19T18:49:52.075550Z",
     "iopub.status.busy": "2025-08-19T18:49:52.075278Z",
     "iopub.status.idle": "2025-08-19T18:49:52.111433Z",
     "shell.execute_reply": "2025-08-19T18:49:52.110409Z"
    },
    "papermill": {
     "duration": 0.047748,
     "end_time": "2025-08-19T18:49:52.113308",
     "exception": false,
     "start_time": "2025-08-19T18:49:52.065560",
     "status": "completed"
    },
    "tags": []
   },
   "outputs": [],
   "source": [
    "# Auto-reload the custom package\n",
    "%load_ext autoreload\n",
    "%autoreload 1\n",
    "%aimport fairness_multiverse"
   ]
  },
  {
   "cell_type": "code",
   "execution_count": 7,
   "id": "94c8eb93",
   "metadata": {
    "execution": {
     "iopub.execute_input": "2025-08-19T18:49:52.132767Z",
     "iopub.status.busy": "2025-08-19T18:49:52.132492Z",
     "iopub.status.idle": "2025-08-19T18:49:53.626791Z",
     "shell.execute_reply": "2025-08-19T18:49:53.625712Z"
    },
    "papermill": {
     "duration": 1.506212,
     "end_time": "2025-08-19T18:49:53.628897",
     "exception": false,
     "start_time": "2025-08-19T18:49:52.122685",
     "status": "completed"
    },
    "tags": []
   },
   "outputs": [],
   "source": [
    "from fairness_multiverse.universe import UniverseAnalysis\n",
    "\n",
    "universe_analysis = UniverseAnalysis(\n",
    "    run_no = run_no,\n",
    "    universe_id = universe_id,\n",
    "    universe = universe,\n",
    "    output_dir=output_dir,\n",
    ")"
   ]
  },
  {
   "cell_type": "code",
   "execution_count": 8,
   "id": "2a6381cf",
   "metadata": {
    "execution": {
     "iopub.execute_input": "2025-08-19T18:49:53.651814Z",
     "iopub.status.busy": "2025-08-19T18:49:53.650975Z",
     "iopub.status.idle": "2025-08-19T18:49:53.658918Z",
     "shell.execute_reply": "2025-08-19T18:49:53.657835Z"
    },
    "papermill": {
     "duration": 0.02021,
     "end_time": "2025-08-19T18:49:53.660427",
     "exception": false,
     "start_time": "2025-08-19T18:49:53.640217",
     "status": "completed"
    },
    "tags": []
   },
   "outputs": [
    {
     "name": "stdout",
     "output_type": "stream",
     "text": [
      "Using Seed: 2023\n"
     ]
    }
   ],
   "source": [
    "import numpy as np\n",
    "parsed_seed = int(seed)\n",
    "np.random.seed(parsed_seed)\n",
    "print(f\"Using Seed: {parsed_seed}\")"
   ]
  },
  {
   "cell_type": "markdown",
   "id": "b6e958b4",
   "metadata": {
    "papermill": {
     "duration": 0.009051,
     "end_time": "2025-08-19T18:49:53.679922",
     "exception": false,
     "start_time": "2025-08-19T18:49:53.670871",
     "status": "completed"
    },
    "tags": []
   },
   "source": [
    "# Loading Data"
   ]
  },
  {
   "cell_type": "code",
   "execution_count": 9,
   "id": "98701482",
   "metadata": {
    "execution": {
     "iopub.execute_input": "2025-08-19T18:49:53.699540Z",
     "iopub.status.busy": "2025-08-19T18:49:53.699165Z",
     "iopub.status.idle": "2025-08-19T18:50:04.237500Z",
     "shell.execute_reply": "2025-08-19T18:50:04.236009Z"
    },
    "papermill": {
     "duration": 10.549605,
     "end_time": "2025-08-19T18:50:04.238640",
     "exception": false,
     "start_time": "2025-08-19T18:49:53.689035",
     "status": "completed"
    },
    "tags": []
   },
   "outputs": [
    {
     "name": "stdout",
     "output_type": "stream",
     "text": [
      "Loading SIAB data from cache: data/siab_cached.csv.gz\n"
     ]
    },
    {
     "name": "stdout",
     "output_type": "stream",
     "text": [
      "(643690, 164)\n"
     ]
    }
   ],
   "source": [
    "from pathlib import Path\n",
    "import pandas as pd\n",
    "\n",
    "# File paths\n",
    "raw_file = Path(\"data/raw/siab.csv\")\n",
    "cache_file = Path(\"data/siab_cached.csv.gz\")\n",
    "\n",
    "# Ensure cache directory exists\n",
    "cache_file.parent.mkdir(parents=True, exist_ok=True)\n",
    "\n",
    "# Load with simple caching\n",
    "if cache_file.exists():\n",
    "    print(f\"Loading SIAB data from cache: {cache_file}\")\n",
    "    siab = pd.read_csv(cache_file, compression='gzip')\n",
    "else:\n",
    "    print(f\"Cache not found. Reading raw SIAB data: {raw_file}\")\n",
    "    siab = pd.read_csv(raw_file)\n",
    "    siab.to_csv(cache_file, index=False, compression='gzip')\n",
    "    print(f\"Cached SIAB data to: {cache_file}\")\n",
    "\n",
    "print(siab.shape)"
   ]
  },
  {
   "cell_type": "code",
   "execution_count": 10,
   "id": "058d2abb",
   "metadata": {
    "execution": {
     "iopub.execute_input": "2025-08-19T18:50:04.263463Z",
     "iopub.status.busy": "2025-08-19T18:50:04.262850Z",
     "iopub.status.idle": "2025-08-19T18:50:04.472531Z",
     "shell.execute_reply": "2025-08-19T18:50:04.470967Z"
    },
    "papermill": {
     "duration": 0.224484,
     "end_time": "2025-08-19T18:50:04.475371",
     "exception": false,
     "start_time": "2025-08-19T18:50:04.250887",
     "status": "completed"
    },
    "tags": []
   },
   "outputs": [
    {
     "data": {
      "text/html": [
       "<div>\n",
       "<style scoped>\n",
       "    .dataframe tbody tr th:only-of-type {\n",
       "        vertical-align: middle;\n",
       "    }\n",
       "\n",
       "    .dataframe tbody tr th {\n",
       "        vertical-align: top;\n",
       "    }\n",
       "\n",
       "    .dataframe thead th {\n",
       "        text-align: right;\n",
       "    }\n",
       "</style>\n",
       "<table border=\"1\" class=\"dataframe\">\n",
       "  <thead>\n",
       "    <tr style=\"text-align: right;\">\n",
       "      <th></th>\n",
       "      <th>persnr</th>\n",
       "      <th>year</th>\n",
       "      <th>nrEntry</th>\n",
       "      <th>ltue</th>\n",
       "      <th>employed_before</th>\n",
       "      <th>receipt_leh_before</th>\n",
       "      <th>receipt_lhg_before</th>\n",
       "      <th>se_before</th>\n",
       "      <th>ASU_notue_seeking_before</th>\n",
       "      <th>ASU_other_before</th>\n",
       "      <th>...</th>\n",
       "      <th>minijob_tot_dur_byage</th>\n",
       "      <th>ft_tot_dur_byage</th>\n",
       "      <th>befrist_tot_dur_byage</th>\n",
       "      <th>leih_tot_dur_byage</th>\n",
       "      <th>LHG_tot_dur_byage</th>\n",
       "      <th>LEH_tot_dur_byage</th>\n",
       "      <th>almp_tot_dur_byage</th>\n",
       "      <th>almp_aw_tot_dur_byage</th>\n",
       "      <th>se_tot_dur_byage</th>\n",
       "      <th>seeking1_tot_dur_byage</th>\n",
       "    </tr>\n",
       "  </thead>\n",
       "  <tbody>\n",
       "    <tr>\n",
       "      <th>0</th>\n",
       "      <td>7</td>\n",
       "      <td>2015</td>\n",
       "      <td>1</td>\n",
       "      <td>0</td>\n",
       "      <td>1</td>\n",
       "      <td>0</td>\n",
       "      <td>0</td>\n",
       "      <td>0</td>\n",
       "      <td>1</td>\n",
       "      <td>0</td>\n",
       "      <td>...</td>\n",
       "      <td>0.000000</td>\n",
       "      <td>0.000000</td>\n",
       "      <td>15.043478</td>\n",
       "      <td>0.000000</td>\n",
       "      <td>0.000000</td>\n",
       "      <td>0.000000</td>\n",
       "      <td>0.000000</td>\n",
       "      <td>0.000000</td>\n",
       "      <td>0.000000</td>\n",
       "      <td>0.000000</td>\n",
       "    </tr>\n",
       "    <tr>\n",
       "      <th>1</th>\n",
       "      <td>18</td>\n",
       "      <td>2010</td>\n",
       "      <td>1</td>\n",
       "      <td>1</td>\n",
       "      <td>0</td>\n",
       "      <td>0</td>\n",
       "      <td>0</td>\n",
       "      <td>0</td>\n",
       "      <td>0</td>\n",
       "      <td>0</td>\n",
       "      <td>...</td>\n",
       "      <td>0.000000</td>\n",
       "      <td>0.000000</td>\n",
       "      <td>0.000000</td>\n",
       "      <td>0.000000</td>\n",
       "      <td>0.000000</td>\n",
       "      <td>0.000000</td>\n",
       "      <td>0.000000</td>\n",
       "      <td>0.000000</td>\n",
       "      <td>0.000000</td>\n",
       "      <td>0.000000</td>\n",
       "    </tr>\n",
       "    <tr>\n",
       "      <th>2</th>\n",
       "      <td>18</td>\n",
       "      <td>2011</td>\n",
       "      <td>2</td>\n",
       "      <td>0</td>\n",
       "      <td>1</td>\n",
       "      <td>0</td>\n",
       "      <td>1</td>\n",
       "      <td>0</td>\n",
       "      <td>1</td>\n",
       "      <td>0</td>\n",
       "      <td>...</td>\n",
       "      <td>2.714286</td>\n",
       "      <td>2.714286</td>\n",
       "      <td>0.000000</td>\n",
       "      <td>0.000000</td>\n",
       "      <td>10.775510</td>\n",
       "      <td>0.000000</td>\n",
       "      <td>8.367347</td>\n",
       "      <td>0.000000</td>\n",
       "      <td>0.000000</td>\n",
       "      <td>9.836735</td>\n",
       "    </tr>\n",
       "    <tr>\n",
       "      <th>3</th>\n",
       "      <td>18</td>\n",
       "      <td>2012</td>\n",
       "      <td>3</td>\n",
       "      <td>0</td>\n",
       "      <td>1</td>\n",
       "      <td>0</td>\n",
       "      <td>1</td>\n",
       "      <td>0</td>\n",
       "      <td>1</td>\n",
       "      <td>0</td>\n",
       "      <td>...</td>\n",
       "      <td>4.200000</td>\n",
       "      <td>4.200000</td>\n",
       "      <td>0.000000</td>\n",
       "      <td>0.000000</td>\n",
       "      <td>12.100000</td>\n",
       "      <td>0.000000</td>\n",
       "      <td>9.400000</td>\n",
       "      <td>0.000000</td>\n",
       "      <td>0.000000</td>\n",
       "      <td>9.960000</td>\n",
       "    </tr>\n",
       "    <tr>\n",
       "      <th>4</th>\n",
       "      <td>18</td>\n",
       "      <td>2012</td>\n",
       "      <td>4</td>\n",
       "      <td>0</td>\n",
       "      <td>1</td>\n",
       "      <td>0</td>\n",
       "      <td>1</td>\n",
       "      <td>0</td>\n",
       "      <td>1</td>\n",
       "      <td>0</td>\n",
       "      <td>...</td>\n",
       "      <td>5.460000</td>\n",
       "      <td>5.460000</td>\n",
       "      <td>0.000000</td>\n",
       "      <td>0.000000</td>\n",
       "      <td>13.360000</td>\n",
       "      <td>0.000000</td>\n",
       "      <td>10.320000</td>\n",
       "      <td>0.000000</td>\n",
       "      <td>0.000000</td>\n",
       "      <td>10.280000</td>\n",
       "    </tr>\n",
       "    <tr>\n",
       "      <th>...</th>\n",
       "      <td>...</td>\n",
       "      <td>...</td>\n",
       "      <td>...</td>\n",
       "      <td>...</td>\n",
       "      <td>...</td>\n",
       "      <td>...</td>\n",
       "      <td>...</td>\n",
       "      <td>...</td>\n",
       "      <td>...</td>\n",
       "      <td>...</td>\n",
       "      <td>...</td>\n",
       "      <td>...</td>\n",
       "      <td>...</td>\n",
       "      <td>...</td>\n",
       "      <td>...</td>\n",
       "      <td>...</td>\n",
       "      <td>...</td>\n",
       "      <td>...</td>\n",
       "      <td>...</td>\n",
       "      <td>...</td>\n",
       "      <td>...</td>\n",
       "    </tr>\n",
       "    <tr>\n",
       "      <th>643685</th>\n",
       "      <td>1827860</td>\n",
       "      <td>2013</td>\n",
       "      <td>1</td>\n",
       "      <td>0</td>\n",
       "      <td>0</td>\n",
       "      <td>0</td>\n",
       "      <td>1</td>\n",
       "      <td>0</td>\n",
       "      <td>0</td>\n",
       "      <td>1</td>\n",
       "      <td>...</td>\n",
       "      <td>0.000000</td>\n",
       "      <td>0.000000</td>\n",
       "      <td>0.000000</td>\n",
       "      <td>0.000000</td>\n",
       "      <td>0.612903</td>\n",
       "      <td>0.000000</td>\n",
       "      <td>0.000000</td>\n",
       "      <td>0.000000</td>\n",
       "      <td>0.000000</td>\n",
       "      <td>0.000000</td>\n",
       "    </tr>\n",
       "    <tr>\n",
       "      <th>643686</th>\n",
       "      <td>1827860</td>\n",
       "      <td>2015</td>\n",
       "      <td>2</td>\n",
       "      <td>1</td>\n",
       "      <td>0</td>\n",
       "      <td>0</td>\n",
       "      <td>1</td>\n",
       "      <td>0</td>\n",
       "      <td>1</td>\n",
       "      <td>0</td>\n",
       "      <td>...</td>\n",
       "      <td>0.000000</td>\n",
       "      <td>0.000000</td>\n",
       "      <td>0.212121</td>\n",
       "      <td>0.212121</td>\n",
       "      <td>17.363636</td>\n",
       "      <td>0.000000</td>\n",
       "      <td>8.909091</td>\n",
       "      <td>0.000000</td>\n",
       "      <td>0.000000</td>\n",
       "      <td>7.121212</td>\n",
       "    </tr>\n",
       "    <tr>\n",
       "      <th>643687</th>\n",
       "      <td>1827860</td>\n",
       "      <td>2016</td>\n",
       "      <td>3</td>\n",
       "      <td>1</td>\n",
       "      <td>0</td>\n",
       "      <td>0</td>\n",
       "      <td>1</td>\n",
       "      <td>1</td>\n",
       "      <td>0</td>\n",
       "      <td>1</td>\n",
       "      <td>...</td>\n",
       "      <td>0.000000</td>\n",
       "      <td>0.000000</td>\n",
       "      <td>0.294118</td>\n",
       "      <td>0.205882</td>\n",
       "      <td>34.705882</td>\n",
       "      <td>0.000000</td>\n",
       "      <td>10.352941</td>\n",
       "      <td>1.705882</td>\n",
       "      <td>1.705882</td>\n",
       "      <td>23.911765</td>\n",
       "    </tr>\n",
       "    <tr>\n",
       "      <th>643688</th>\n",
       "      <td>1827869</td>\n",
       "      <td>2013</td>\n",
       "      <td>1</td>\n",
       "      <td>1</td>\n",
       "      <td>1</td>\n",
       "      <td>0</td>\n",
       "      <td>0</td>\n",
       "      <td>0</td>\n",
       "      <td>1</td>\n",
       "      <td>0</td>\n",
       "      <td>...</td>\n",
       "      <td>0.000000</td>\n",
       "      <td>0.000000</td>\n",
       "      <td>0.000000</td>\n",
       "      <td>0.000000</td>\n",
       "      <td>0.000000</td>\n",
       "      <td>0.525424</td>\n",
       "      <td>0.000000</td>\n",
       "      <td>0.000000</td>\n",
       "      <td>0.000000</td>\n",
       "      <td>0.000000</td>\n",
       "    </tr>\n",
       "    <tr>\n",
       "      <th>643689</th>\n",
       "      <td>1827869</td>\n",
       "      <td>2014</td>\n",
       "      <td>2</td>\n",
       "      <td>0</td>\n",
       "      <td>0</td>\n",
       "      <td>1</td>\n",
       "      <td>0</td>\n",
       "      <td>0</td>\n",
       "      <td>1</td>\n",
       "      <td>0</td>\n",
       "      <td>...</td>\n",
       "      <td>0.000000</td>\n",
       "      <td>0.666667</td>\n",
       "      <td>0.666667</td>\n",
       "      <td>0.000000</td>\n",
       "      <td>0.000000</td>\n",
       "      <td>8.950000</td>\n",
       "      <td>1.033333</td>\n",
       "      <td>0.083333</td>\n",
       "      <td>0.083333</td>\n",
       "      <td>8.133333</td>\n",
       "    </tr>\n",
       "  </tbody>\n",
       "</table>\n",
       "<p>643690 rows × 164 columns</p>\n",
       "</div>"
      ],
      "text/plain": [
       "         persnr  year  nrEntry  ltue  employed_before  receipt_leh_before  \\\n",
       "0             7  2015        1     0                1                   0   \n",
       "1            18  2010        1     1                0                   0   \n",
       "2            18  2011        2     0                1                   0   \n",
       "3            18  2012        3     0                1                   0   \n",
       "4            18  2012        4     0                1                   0   \n",
       "...         ...   ...      ...   ...              ...                 ...   \n",
       "643685  1827860  2013        1     0                0                   0   \n",
       "643686  1827860  2015        2     1                0                   0   \n",
       "643687  1827860  2016        3     1                0                   0   \n",
       "643688  1827869  2013        1     1                1                   0   \n",
       "643689  1827869  2014        2     0                0                   1   \n",
       "\n",
       "        receipt_lhg_before  se_before  ASU_notue_seeking_before  \\\n",
       "0                        0          0                         1   \n",
       "1                        0          0                         0   \n",
       "2                        1          0                         1   \n",
       "3                        1          0                         1   \n",
       "4                        1          0                         1   \n",
       "...                    ...        ...                       ...   \n",
       "643685                   1          0                         0   \n",
       "643686                   1          0                         1   \n",
       "643687                   1          1                         0   \n",
       "643688                   0          0                         1   \n",
       "643689                   0          0                         1   \n",
       "\n",
       "        ASU_other_before  ...  minijob_tot_dur_byage  ft_tot_dur_byage  \\\n",
       "0                      0  ...               0.000000          0.000000   \n",
       "1                      0  ...               0.000000          0.000000   \n",
       "2                      0  ...               2.714286          2.714286   \n",
       "3                      0  ...               4.200000          4.200000   \n",
       "4                      0  ...               5.460000          5.460000   \n",
       "...                  ...  ...                    ...               ...   \n",
       "643685                 1  ...               0.000000          0.000000   \n",
       "643686                 0  ...               0.000000          0.000000   \n",
       "643687                 1  ...               0.000000          0.000000   \n",
       "643688                 0  ...               0.000000          0.000000   \n",
       "643689                 0  ...               0.000000          0.666667   \n",
       "\n",
       "        befrist_tot_dur_byage  leih_tot_dur_byage  LHG_tot_dur_byage  \\\n",
       "0                   15.043478            0.000000           0.000000   \n",
       "1                    0.000000            0.000000           0.000000   \n",
       "2                    0.000000            0.000000          10.775510   \n",
       "3                    0.000000            0.000000          12.100000   \n",
       "4                    0.000000            0.000000          13.360000   \n",
       "...                       ...                 ...                ...   \n",
       "643685               0.000000            0.000000           0.612903   \n",
       "643686               0.212121            0.212121          17.363636   \n",
       "643687               0.294118            0.205882          34.705882   \n",
       "643688               0.000000            0.000000           0.000000   \n",
       "643689               0.666667            0.000000           0.000000   \n",
       "\n",
       "        LEH_tot_dur_byage  almp_tot_dur_byage  almp_aw_tot_dur_byage  \\\n",
       "0                0.000000            0.000000               0.000000   \n",
       "1                0.000000            0.000000               0.000000   \n",
       "2                0.000000            8.367347               0.000000   \n",
       "3                0.000000            9.400000               0.000000   \n",
       "4                0.000000           10.320000               0.000000   \n",
       "...                   ...                 ...                    ...   \n",
       "643685           0.000000            0.000000               0.000000   \n",
       "643686           0.000000            8.909091               0.000000   \n",
       "643687           0.000000           10.352941               1.705882   \n",
       "643688           0.525424            0.000000               0.000000   \n",
       "643689           8.950000            1.033333               0.083333   \n",
       "\n",
       "        se_tot_dur_byage  seeking1_tot_dur_byage  \n",
       "0               0.000000                0.000000  \n",
       "1               0.000000                0.000000  \n",
       "2               0.000000                9.836735  \n",
       "3               0.000000                9.960000  \n",
       "4               0.000000               10.280000  \n",
       "...                  ...                     ...  \n",
       "643685          0.000000                0.000000  \n",
       "643686          0.000000                7.121212  \n",
       "643687          1.705882               23.911765  \n",
       "643688          0.000000                0.000000  \n",
       "643689          0.083333                8.133333  \n",
       "\n",
       "[643690 rows x 164 columns]"
      ]
     },
     "execution_count": 10,
     "metadata": {},
     "output_type": "execute_result"
    }
   ],
   "source": [
    "siab"
   ]
  },
  {
   "cell_type": "markdown",
   "id": "1f87e805",
   "metadata": {
    "papermill": {
     "duration": 0.011752,
     "end_time": "2025-08-19T18:50:04.511050",
     "exception": false,
     "start_time": "2025-08-19T18:50:04.499298",
     "status": "completed"
    },
    "tags": []
   },
   "source": [
    "# Splitting Data and Setting Training Data Size"
   ]
  },
  {
   "cell_type": "code",
   "execution_count": 11,
   "id": "910ae358",
   "metadata": {
    "execution": {
     "iopub.execute_input": "2025-08-19T18:50:04.534306Z",
     "iopub.status.busy": "2025-08-19T18:50:04.533076Z",
     "iopub.status.idle": "2025-08-19T18:50:04.798307Z",
     "shell.execute_reply": "2025-08-19T18:50:04.797192Z"
    },
    "papermill": {
     "duration": 0.2791,
     "end_time": "2025-08-19T18:50:04.800218",
     "exception": false,
     "start_time": "2025-08-19T18:50:04.521118",
     "status": "completed"
    },
    "tags": []
   },
   "outputs": [],
   "source": [
    "from fairness_multiverse.universe import sample_by_year_size\n",
    "\n",
    "siab_train = sample_by_year_size(siab,\n",
    "                               training_year=universe[\"training_year\"],\n",
    "                               training_size=universe[\"training_size\"])"
   ]
  },
  {
   "cell_type": "code",
   "execution_count": 12,
   "id": "919c8ff5",
   "metadata": {
    "execution": {
     "iopub.execute_input": "2025-08-19T18:50:04.822578Z",
     "iopub.status.busy": "2025-08-19T18:50:04.821953Z",
     "iopub.status.idle": "2025-08-19T18:50:04.836004Z",
     "shell.execute_reply": "2025-08-19T18:50:04.834933Z"
    },
    "papermill": {
     "duration": 0.026716,
     "end_time": "2025-08-19T18:50:04.837407",
     "exception": false,
     "start_time": "2025-08-19T18:50:04.810691",
     "status": "completed"
    },
    "tags": []
   },
   "outputs": [
    {
     "data": {
      "text/plain": [
       "(1000, 164)"
      ]
     },
     "execution_count": 12,
     "metadata": {},
     "output_type": "execute_result"
    }
   ],
   "source": [
    "siab_train.shape"
   ]
  },
  {
   "cell_type": "code",
   "execution_count": 13,
   "id": "feb13bf4",
   "metadata": {
    "execution": {
     "iopub.execute_input": "2025-08-19T18:50:04.863892Z",
     "iopub.status.busy": "2025-08-19T18:50:04.862942Z",
     "iopub.status.idle": "2025-08-19T18:50:04.990214Z",
     "shell.execute_reply": "2025-08-19T18:50:04.988242Z"
    },
    "papermill": {
     "duration": 0.140254,
     "end_time": "2025-08-19T18:50:04.992126",
     "exception": false,
     "start_time": "2025-08-19T18:50:04.851872",
     "status": "completed"
    },
    "tags": []
   },
   "outputs": [
    {
     "data": {
      "text/plain": [
       "year\n",
       "2014    1000\n",
       "dtype: int64"
      ]
     },
     "metadata": {},
     "output_type": "display_data"
    }
   ],
   "source": [
    "display(siab_train.groupby(\"year\").size())"
   ]
  },
  {
   "cell_type": "code",
   "execution_count": 14,
   "id": "0997782f",
   "metadata": {
    "execution": {
     "iopub.execute_input": "2025-08-19T18:50:05.015627Z",
     "iopub.status.busy": "2025-08-19T18:50:05.014313Z",
     "iopub.status.idle": "2025-08-19T18:50:05.404603Z",
     "shell.execute_reply": "2025-08-19T18:50:05.403829Z"
    },
    "papermill": {
     "duration": 0.4052,
     "end_time": "2025-08-19T18:50:05.407578",
     "exception": false,
     "start_time": "2025-08-19T18:50:05.002378",
     "status": "completed"
    },
    "tags": []
   },
   "outputs": [],
   "source": [
    "#siab_train = siab_s[siab_s.year < 2015]\n",
    "siab_calib = siab[siab.year == 2015]\n",
    "siab_test = siab[siab.year == 2016]"
   ]
  },
  {
   "cell_type": "code",
   "execution_count": 15,
   "id": "2c1e4012",
   "metadata": {
    "execution": {
     "iopub.execute_input": "2025-08-19T18:50:05.447053Z",
     "iopub.status.busy": "2025-08-19T18:50:05.446017Z",
     "iopub.status.idle": "2025-08-19T18:50:05.453983Z",
     "shell.execute_reply": "2025-08-19T18:50:05.452396Z"
    },
    "papermill": {
     "duration": 0.023906,
     "end_time": "2025-08-19T18:50:05.455627",
     "exception": false,
     "start_time": "2025-08-19T18:50:05.431721",
     "status": "completed"
    },
    "tags": []
   },
   "outputs": [],
   "source": [
    "#siab_calib.shape"
   ]
  },
  {
   "cell_type": "code",
   "execution_count": 16,
   "id": "f66b54ca",
   "metadata": {
    "execution": {
     "iopub.execute_input": "2025-08-19T18:50:05.481331Z",
     "iopub.status.busy": "2025-08-19T18:50:05.479996Z",
     "iopub.status.idle": "2025-08-19T18:50:05.921373Z",
     "shell.execute_reply": "2025-08-19T18:50:05.920638Z"
    },
    "papermill": {
     "duration": 0.456345,
     "end_time": "2025-08-19T18:50:05.924408",
     "exception": false,
     "start_time": "2025-08-19T18:50:05.468063",
     "status": "completed"
    },
    "tags": []
   },
   "outputs": [],
   "source": [
    "#siab_test.shape"
   ]
  },
  {
   "cell_type": "code",
   "execution_count": 17,
   "id": "27e4384d",
   "metadata": {
    "execution": {
     "iopub.execute_input": "2025-08-19T18:50:05.962575Z",
     "iopub.status.busy": "2025-08-19T18:50:05.962132Z",
     "iopub.status.idle": "2025-08-19T18:50:05.970063Z",
     "shell.execute_reply": "2025-08-19T18:50:05.969356Z"
    },
    "papermill": {
     "duration": 0.022007,
     "end_time": "2025-08-19T18:50:05.971232",
     "exception": false,
     "start_time": "2025-08-19T18:50:05.949225",
     "status": "completed"
    },
    "tags": []
   },
   "outputs": [],
   "source": [
    "X_train = siab_train.iloc[:,4:164]\n",
    "y_train = siab_train.iloc[:, [3]]"
   ]
  },
  {
   "cell_type": "code",
   "execution_count": 18,
   "id": "08ee8389",
   "metadata": {
    "execution": {
     "iopub.execute_input": "2025-08-19T18:50:05.994948Z",
     "iopub.status.busy": "2025-08-19T18:50:05.994195Z",
     "iopub.status.idle": "2025-08-19T18:50:06.066806Z",
     "shell.execute_reply": "2025-08-19T18:50:06.065984Z"
    },
    "papermill": {
     "duration": 0.087884,
     "end_time": "2025-08-19T18:50:06.070652",
     "exception": false,
     "start_time": "2025-08-19T18:50:05.982768",
     "status": "completed"
    },
    "tags": []
   },
   "outputs": [],
   "source": [
    "X_calib = siab_calib.iloc[:,4:164]\n",
    "y_calib = siab_calib.iloc[:, [3]]"
   ]
  },
  {
   "cell_type": "code",
   "execution_count": 19,
   "id": "b7ff42e0",
   "metadata": {
    "execution": {
     "iopub.execute_input": "2025-08-19T18:50:06.111236Z",
     "iopub.status.busy": "2025-08-19T18:50:06.109996Z",
     "iopub.status.idle": "2025-08-19T18:50:06.194613Z",
     "shell.execute_reply": "2025-08-19T18:50:06.193882Z"
    },
    "papermill": {
     "duration": 0.100644,
     "end_time": "2025-08-19T18:50:06.196508",
     "exception": false,
     "start_time": "2025-08-19T18:50:06.095864",
     "status": "completed"
    },
    "tags": []
   },
   "outputs": [],
   "source": [
    "X_test = siab_test.iloc[:,4:164]\n",
    "y_true = siab_test.iloc[:, [3]]"
   ]
  },
  {
   "cell_type": "code",
   "execution_count": 20,
   "id": "0275101e",
   "metadata": {
    "execution": {
     "iopub.execute_input": "2025-08-19T18:50:06.225532Z",
     "iopub.status.busy": "2025-08-19T18:50:06.224570Z",
     "iopub.status.idle": "2025-08-19T18:50:06.381604Z",
     "shell.execute_reply": "2025-08-19T18:50:06.380878Z"
    },
    "papermill": {
     "duration": 0.174062,
     "end_time": "2025-08-19T18:50:06.384777",
     "exception": false,
     "start_time": "2025-08-19T18:50:06.210715",
     "status": "completed"
    },
    "tags": []
   },
   "outputs": [],
   "source": [
    "# Auxiliary data needed downstream in the pipeline\n",
    "\n",
    "org_train = X_train.copy()\n",
    "org_test = X_test.copy()\n",
    "org_calib = X_calib.copy()"
   ]
  },
  {
   "cell_type": "markdown",
   "id": "b461e618",
   "metadata": {
    "papermill": {
     "duration": 0.012056,
     "end_time": "2025-08-19T18:50:06.420781",
     "exception": false,
     "start_time": "2025-08-19T18:50:06.408725",
     "status": "completed"
    },
    "tags": []
   },
   "source": [
    "# Preprocessing Data"
   ]
  },
  {
   "cell_type": "code",
   "execution_count": 21,
   "id": "78e74c4b",
   "metadata": {
    "execution": {
     "iopub.execute_input": "2025-08-19T18:50:06.445069Z",
     "iopub.status.busy": "2025-08-19T18:50:06.443740Z",
     "iopub.status.idle": "2025-08-19T18:50:06.454356Z",
     "shell.execute_reply": "2025-08-19T18:50:06.452764Z"
    },
    "papermill": {
     "duration": 0.024697,
     "end_time": "2025-08-19T18:50:06.456027",
     "exception": false,
     "start_time": "2025-08-19T18:50:06.431330",
     "status": "completed"
    },
    "tags": []
   },
   "outputs": [],
   "source": [
    "# EXCLUDE PROTECTED FEATURES\n",
    "# --------------------------\n",
    "\n",
    "excluded_features = universe[\"exclude_features\"].split(\"-\")\n",
    "excluded_features_dictionary = {\n",
    "    \"nationality\": [\"maxdeutsch1\", \"maxdeutsch.Missing.\"],\n",
    "    \"sex\": [\"frau1\"],\n",
    "    \"age\": [\"age\"],\n",
    "}"
   ]
  },
  {
   "cell_type": "code",
   "execution_count": 22,
   "id": "f8e63555",
   "metadata": {
    "execution": {
     "iopub.execute_input": "2025-08-19T18:50:06.483578Z",
     "iopub.status.busy": "2025-08-19T18:50:06.482151Z",
     "iopub.status.idle": "2025-08-19T18:50:06.492218Z",
     "shell.execute_reply": "2025-08-19T18:50:06.490610Z"
    },
    "papermill": {
     "duration": 0.023927,
     "end_time": "2025-08-19T18:50:06.493754",
     "exception": false,
     "start_time": "2025-08-19T18:50:06.469827",
     "status": "completed"
    },
    "tags": []
   },
   "outputs": [],
   "source": [
    "excluded_features_columns = [\n",
    "    excluded_features_dictionary[f] for f in excluded_features if len(f) > 0 and f != \"none\"\n",
    "]"
   ]
  },
  {
   "cell_type": "code",
   "execution_count": 23,
   "id": "da781f7c",
   "metadata": {
    "execution": {
     "iopub.execute_input": "2025-08-19T18:50:06.520568Z",
     "iopub.status.busy": "2025-08-19T18:50:06.519570Z",
     "iopub.status.idle": "2025-08-19T18:50:06.573187Z",
     "shell.execute_reply": "2025-08-19T18:50:06.567787Z"
    },
    "papermill": {
     "duration": 0.078866,
     "end_time": "2025-08-19T18:50:06.586395",
     "exception": false,
     "start_time": "2025-08-19T18:50:06.507529",
     "status": "completed"
    },
    "tags": []
   },
   "outputs": [],
   "source": [
    "from fairness_multiverse.universe import flatten_once\n",
    "\n",
    "excluded_features_columns = flatten_once(excluded_features_columns)"
   ]
  },
  {
   "cell_type": "code",
   "execution_count": 24,
   "id": "37fef0f0",
   "metadata": {
    "execution": {
     "iopub.execute_input": "2025-08-19T18:50:06.624829Z",
     "iopub.status.busy": "2025-08-19T18:50:06.624392Z",
     "iopub.status.idle": "2025-08-19T18:50:06.631344Z",
     "shell.execute_reply": "2025-08-19T18:50:06.630627Z"
    },
    "papermill": {
     "duration": 0.023625,
     "end_time": "2025-08-19T18:50:06.633685",
     "exception": false,
     "start_time": "2025-08-19T18:50:06.610060",
     "status": "completed"
    },
    "tags": []
   },
   "outputs": [
    {
     "name": "stdout",
     "output_type": "stream",
     "text": [
      "Dropping features: ['age']\n"
     ]
    }
   ],
   "source": [
    "if len(excluded_features_columns) > 0:\n",
    "    print(f\"Dropping features: {excluded_features_columns}\")\n",
    "    X_train.drop(excluded_features_columns, axis=1, inplace=True)"
   ]
  },
  {
   "cell_type": "code",
   "execution_count": 25,
   "id": "d029e3e9",
   "metadata": {
    "execution": {
     "iopub.execute_input": "2025-08-19T18:50:06.657350Z",
     "iopub.status.busy": "2025-08-19T18:50:06.657057Z",
     "iopub.status.idle": "2025-08-19T18:50:06.731467Z",
     "shell.execute_reply": "2025-08-19T18:50:06.729576Z"
    },
    "papermill": {
     "duration": 0.087804,
     "end_time": "2025-08-19T18:50:06.733640",
     "exception": false,
     "start_time": "2025-08-19T18:50:06.645836",
     "status": "completed"
    },
    "tags": []
   },
   "outputs": [
    {
     "name": "stdout",
     "output_type": "stream",
     "text": [
      "Dropping features: ['age']\n"
     ]
    }
   ],
   "source": [
    "if len(excluded_features_columns) > 0:\n",
    "    print(f\"Dropping features: {excluded_features_columns}\")\n",
    "    X_test.drop(excluded_features_columns, axis=1, inplace=True)"
   ]
  },
  {
   "cell_type": "code",
   "execution_count": 26,
   "id": "01d571f0",
   "metadata": {
    "execution": {
     "iopub.execute_input": "2025-08-19T18:50:06.757911Z",
     "iopub.status.busy": "2025-08-19T18:50:06.757222Z",
     "iopub.status.idle": "2025-08-19T18:50:07.074217Z",
     "shell.execute_reply": "2025-08-19T18:50:07.073266Z"
    },
    "papermill": {
     "duration": 0.331728,
     "end_time": "2025-08-19T18:50:07.076731",
     "exception": false,
     "start_time": "2025-08-19T18:50:06.745003",
     "status": "completed"
    },
    "tags": []
   },
   "outputs": [
    {
     "name": "stdout",
     "output_type": "stream",
     "text": [
      "Dropping features: ['age']\n"
     ]
    }
   ],
   "source": [
    "if len(excluded_features_columns) > 0:\n",
    "    print(f\"Dropping features: {excluded_features_columns}\")\n",
    "    X_calib.drop(excluded_features_columns, axis=1, inplace=True)"
   ]
  },
  {
   "cell_type": "code",
   "execution_count": 27,
   "id": "3037356e",
   "metadata": {
    "execution": {
     "iopub.execute_input": "2025-08-19T18:50:07.127034Z",
     "iopub.status.busy": "2025-08-19T18:50:07.126304Z",
     "iopub.status.idle": "2025-08-19T18:50:07.181517Z",
     "shell.execute_reply": "2025-08-19T18:50:07.176007Z"
    },
    "papermill": {
     "duration": 0.083164,
     "end_time": "2025-08-19T18:50:07.183762",
     "exception": false,
     "start_time": "2025-08-19T18:50:07.100598",
     "status": "completed"
    },
    "tags": []
   },
   "outputs": [],
   "source": [
    "# EXCLUDE CERTAIN SUBGROUPS\n",
    "# -------------------------\n",
    "\n",
    "mode = universe.get(\"exclude_subgroups\", \"keep-all\") # Defaults to \"keep-all\" if the key is missing."
   ]
  },
  {
   "cell_type": "code",
   "execution_count": 28,
   "id": "9d1e63fd",
   "metadata": {
    "execution": {
     "iopub.execute_input": "2025-08-19T18:50:07.206966Z",
     "iopub.status.busy": "2025-08-19T18:50:07.206556Z",
     "iopub.status.idle": "2025-08-19T18:50:07.214142Z",
     "shell.execute_reply": "2025-08-19T18:50:07.213336Z"
    },
    "papermill": {
     "duration": 0.021971,
     "end_time": "2025-08-19T18:50:07.216755",
     "exception": false,
     "start_time": "2025-08-19T18:50:07.194784",
     "status": "completed"
    },
    "tags": []
   },
   "outputs": [],
   "source": [
    "if mode == \"keep-all\":\n",
    "    keep_mask = pd.Series(True, index=org_train.index)\n",
    "\n",
    "elif mode == \"drop-non-german\":\n",
    "    keep_mask = (org_train[\"maxdeutsch1\"] == 1) & (org_train[\"maxdeutsch.Missing.\"] == 0)\n",
    "\n",
    "else:\n",
    "    raise ValueError(f\"Unsupported mode for exclude_subgroups: {mode}\")"
   ]
  },
  {
   "cell_type": "code",
   "execution_count": 29,
   "id": "d3b65474",
   "metadata": {
    "execution": {
     "iopub.execute_input": "2025-08-19T18:50:07.253311Z",
     "iopub.status.busy": "2025-08-19T18:50:07.252851Z",
     "iopub.status.idle": "2025-08-19T18:50:07.273341Z",
     "shell.execute_reply": "2025-08-19T18:50:07.271604Z"
    },
    "papermill": {
     "duration": 0.036552,
     "end_time": "2025-08-19T18:50:07.275812",
     "exception": false,
     "start_time": "2025-08-19T18:50:07.239260",
     "status": "completed"
    },
    "tags": []
   },
   "outputs": [],
   "source": [
    "n_drop = (~keep_mask).sum() # Calculates how many rows are set to be dropped\n",
    "if n_drop > 0:\n",
    "    pct = n_drop / len(keep_mask) * 100\n",
    "    print(f\"Dropping {n_drop} rows ({pct:.2f}%) where mode='{mode}'\")"
   ]
  },
  {
   "cell_type": "code",
   "execution_count": 30,
   "id": "f44389b3",
   "metadata": {
    "execution": {
     "iopub.execute_input": "2025-08-19T18:50:07.299784Z",
     "iopub.status.busy": "2025-08-19T18:50:07.299371Z",
     "iopub.status.idle": "2025-08-19T18:50:07.335214Z",
     "shell.execute_reply": "2025-08-19T18:50:07.334553Z"
    },
    "papermill": {
     "duration": 0.049912,
     "end_time": "2025-08-19T18:50:07.337599",
     "exception": false,
     "start_time": "2025-08-19T18:50:07.287687",
     "status": "completed"
    },
    "tags": []
   },
   "outputs": [],
   "source": [
    "X_train = X_train[keep_mask]"
   ]
  },
  {
   "cell_type": "code",
   "execution_count": 31,
   "id": "ceca8c2a",
   "metadata": {
    "execution": {
     "iopub.execute_input": "2025-08-19T18:50:07.374241Z",
     "iopub.status.busy": "2025-08-19T18:50:07.373796Z",
     "iopub.status.idle": "2025-08-19T18:50:07.410200Z",
     "shell.execute_reply": "2025-08-19T18:50:07.409549Z"
    },
    "papermill": {
     "duration": 0.051772,
     "end_time": "2025-08-19T18:50:07.412363",
     "exception": false,
     "start_time": "2025-08-19T18:50:07.360591",
     "status": "completed"
    },
    "tags": []
   },
   "outputs": [],
   "source": [
    "y_train = y_train[keep_mask]"
   ]
  },
  {
   "cell_type": "markdown",
   "id": "04d31e2f",
   "metadata": {
    "papermill": {
     "duration": 0.012039,
     "end_time": "2025-08-19T18:50:07.451588",
     "exception": false,
     "start_time": "2025-08-19T18:50:07.439549",
     "status": "completed"
    },
    "tags": []
   },
   "source": [
    "# Model Training"
   ]
  },
  {
   "cell_type": "code",
   "execution_count": 32,
   "id": "db991733",
   "metadata": {
    "execution": {
     "iopub.execute_input": "2025-08-19T18:50:07.474692Z",
     "iopub.status.busy": "2025-08-19T18:50:07.474250Z",
     "iopub.status.idle": "2025-08-19T18:50:07.576850Z",
     "shell.execute_reply": "2025-08-19T18:50:07.575729Z"
    },
    "papermill": {
     "duration": 0.115941,
     "end_time": "2025-08-19T18:50:07.578394",
     "exception": false,
     "start_time": "2025-08-19T18:50:07.462453",
     "status": "completed"
    },
    "tags": []
   },
   "outputs": [],
   "source": [
    "from sklearn.linear_model import LogisticRegression\n",
    "from sklearn.ensemble import GradientBoostingClassifier, RandomForestClassifier\n",
    "\n",
    "if (universe[\"model\"] == \"logreg\"):\n",
    "    model = LogisticRegression() #penalty=\"none\", solver=\"newton-cg\", max_iter=1)\n",
    "elif (universe[\"model\"] == \"penalized_logreg\"):\n",
    "    model = LogisticRegression(penalty=\"l2\", C=0.1) #, solver=\"newton-cg\", max_iter=1)\n",
    "elif (universe[\"model\"] == \"rf\"):\n",
    "    model = RandomForestClassifier() # n_estimators=100, n_jobs=-1\n",
    "elif (universe[\"model\"] == \"gbm\"):\n",
    "    model = GradientBoostingClassifier()\n",
    "elif (universe[\"model\"] == \"elasticnet\"):\n",
    "    model = LogisticRegression(penalty = 'elasticnet', solver = 'saga', l1_ratio = 0.5) # max_iter=5000\n",
    "else:\n",
    "    raise \"Unsupported universe.model\""
   ]
  },
  {
   "cell_type": "code",
   "execution_count": 33,
   "id": "a4b5cd25",
   "metadata": {
    "execution": {
     "iopub.execute_input": "2025-08-19T18:50:07.612607Z",
     "iopub.status.busy": "2025-08-19T18:50:07.611487Z",
     "iopub.status.idle": "2025-08-19T18:50:07.656102Z",
     "shell.execute_reply": "2025-08-19T18:50:07.654503Z"
    },
    "papermill": {
     "duration": 0.062142,
     "end_time": "2025-08-19T18:50:07.659866",
     "exception": false,
     "start_time": "2025-08-19T18:50:07.597724",
     "status": "completed"
    },
    "tags": []
   },
   "outputs": [],
   "source": [
    "from sklearn.pipeline import Pipeline\n",
    "from sklearn.preprocessing import StandardScaler\n",
    "\n",
    "model = Pipeline([\n",
    "    #(\"continuous_processor\", continuous_processor),\n",
    "    #(\"categorical_preprocessor\", categorical_preprocessor),\n",
    "    (\"scale\", StandardScaler() if universe[\"scale\"] == \"scale\" else None), \n",
    "    (\"model\", model),\n",
    "])"
   ]
  },
  {
   "cell_type": "code",
   "execution_count": 34,
   "id": "283a904d",
   "metadata": {
    "execution": {
     "iopub.execute_input": "2025-08-19T18:50:07.698633Z",
     "iopub.status.busy": "2025-08-19T18:50:07.698177Z",
     "iopub.status.idle": "2025-08-19T18:50:07.768499Z",
     "shell.execute_reply": "2025-08-19T18:50:07.767157Z"
    },
    "papermill": {
     "duration": 0.085146,
     "end_time": "2025-08-19T18:50:07.770127",
     "exception": false,
     "start_time": "2025-08-19T18:50:07.684981",
     "status": "completed"
    },
    "tags": []
   },
   "outputs": [
    {
     "data": {
      "text/html": [
       "<style>#sk-container-id-1 {color: black;background-color: white;}#sk-container-id-1 pre{padding: 0;}#sk-container-id-1 div.sk-toggleable {background-color: white;}#sk-container-id-1 label.sk-toggleable__label {cursor: pointer;display: block;width: 100%;margin-bottom: 0;padding: 0.3em;box-sizing: border-box;text-align: center;}#sk-container-id-1 label.sk-toggleable__label-arrow:before {content: \"▸\";float: left;margin-right: 0.25em;color: #696969;}#sk-container-id-1 label.sk-toggleable__label-arrow:hover:before {color: black;}#sk-container-id-1 div.sk-estimator:hover label.sk-toggleable__label-arrow:before {color: black;}#sk-container-id-1 div.sk-toggleable__content {max-height: 0;max-width: 0;overflow: hidden;text-align: left;background-color: #f0f8ff;}#sk-container-id-1 div.sk-toggleable__content pre {margin: 0.2em;color: black;border-radius: 0.25em;background-color: #f0f8ff;}#sk-container-id-1 input.sk-toggleable__control:checked~div.sk-toggleable__content {max-height: 200px;max-width: 100%;overflow: auto;}#sk-container-id-1 input.sk-toggleable__control:checked~label.sk-toggleable__label-arrow:before {content: \"▾\";}#sk-container-id-1 div.sk-estimator input.sk-toggleable__control:checked~label.sk-toggleable__label {background-color: #d4ebff;}#sk-container-id-1 div.sk-label input.sk-toggleable__control:checked~label.sk-toggleable__label {background-color: #d4ebff;}#sk-container-id-1 input.sk-hidden--visually {border: 0;clip: rect(1px 1px 1px 1px);clip: rect(1px, 1px, 1px, 1px);height: 1px;margin: -1px;overflow: hidden;padding: 0;position: absolute;width: 1px;}#sk-container-id-1 div.sk-estimator {font-family: monospace;background-color: #f0f8ff;border: 1px dotted black;border-radius: 0.25em;box-sizing: border-box;margin-bottom: 0.5em;}#sk-container-id-1 div.sk-estimator:hover {background-color: #d4ebff;}#sk-container-id-1 div.sk-parallel-item::after {content: \"\";width: 100%;border-bottom: 1px solid gray;flex-grow: 1;}#sk-container-id-1 div.sk-label:hover label.sk-toggleable__label {background-color: #d4ebff;}#sk-container-id-1 div.sk-serial::before {content: \"\";position: absolute;border-left: 1px solid gray;box-sizing: border-box;top: 0;bottom: 0;left: 50%;z-index: 0;}#sk-container-id-1 div.sk-serial {display: flex;flex-direction: column;align-items: center;background-color: white;padding-right: 0.2em;padding-left: 0.2em;position: relative;}#sk-container-id-1 div.sk-item {position: relative;z-index: 1;}#sk-container-id-1 div.sk-parallel {display: flex;align-items: stretch;justify-content: center;background-color: white;position: relative;}#sk-container-id-1 div.sk-item::before, #sk-container-id-1 div.sk-parallel-item::before {content: \"\";position: absolute;border-left: 1px solid gray;box-sizing: border-box;top: 0;bottom: 0;left: 50%;z-index: -1;}#sk-container-id-1 div.sk-parallel-item {display: flex;flex-direction: column;z-index: 1;position: relative;background-color: white;}#sk-container-id-1 div.sk-parallel-item:first-child::after {align-self: flex-end;width: 50%;}#sk-container-id-1 div.sk-parallel-item:last-child::after {align-self: flex-start;width: 50%;}#sk-container-id-1 div.sk-parallel-item:only-child::after {width: 0;}#sk-container-id-1 div.sk-dashed-wrapped {border: 1px dashed gray;margin: 0 0.4em 0.5em 0.4em;box-sizing: border-box;padding-bottom: 0.4em;background-color: white;}#sk-container-id-1 div.sk-label label {font-family: monospace;font-weight: bold;display: inline-block;line-height: 1.2em;}#sk-container-id-1 div.sk-label-container {text-align: center;}#sk-container-id-1 div.sk-container {/* jupyter's `normalize.less` sets `[hidden] { display: none; }` but bootstrap.min.css set `[hidden] { display: none !important; }` so we also need the `!important` here to be able to override the default hidden behavior on the sphinx rendered scikit-learn.org. See: https://github.com/scikit-learn/scikit-learn/issues/21755 */display: inline-block !important;position: relative;}#sk-container-id-1 div.sk-text-repr-fallback {display: none;}</style><div id=\"sk-container-id-1\" class=\"sk-top-container\"><div class=\"sk-text-repr-fallback\"><pre>Pipeline(steps=[(&#x27;scale&#x27;, StandardScaler()),\n",
       "                (&#x27;model&#x27;, LogisticRegression(C=0.1))])</pre><b>In a Jupyter environment, please rerun this cell to show the HTML representation or trust the notebook. <br />On GitHub, the HTML representation is unable to render, please try loading this page with nbviewer.org.</b></div><div class=\"sk-container\" hidden><div class=\"sk-item sk-dashed-wrapped\"><div class=\"sk-label-container\"><div class=\"sk-label sk-toggleable\"><input class=\"sk-toggleable__control sk-hidden--visually\" id=\"sk-estimator-id-1\" type=\"checkbox\" ><label for=\"sk-estimator-id-1\" class=\"sk-toggleable__label sk-toggleable__label-arrow\">Pipeline</label><div class=\"sk-toggleable__content\"><pre>Pipeline(steps=[(&#x27;scale&#x27;, StandardScaler()),\n",
       "                (&#x27;model&#x27;, LogisticRegression(C=0.1))])</pre></div></div></div><div class=\"sk-serial\"><div class=\"sk-item\"><div class=\"sk-estimator sk-toggleable\"><input class=\"sk-toggleable__control sk-hidden--visually\" id=\"sk-estimator-id-2\" type=\"checkbox\" ><label for=\"sk-estimator-id-2\" class=\"sk-toggleable__label sk-toggleable__label-arrow\">StandardScaler</label><div class=\"sk-toggleable__content\"><pre>StandardScaler()</pre></div></div></div><div class=\"sk-item\"><div class=\"sk-estimator sk-toggleable\"><input class=\"sk-toggleable__control sk-hidden--visually\" id=\"sk-estimator-id-3\" type=\"checkbox\" ><label for=\"sk-estimator-id-3\" class=\"sk-toggleable__label sk-toggleable__label-arrow\">LogisticRegression</label><div class=\"sk-toggleable__content\"><pre>LogisticRegression(C=0.1)</pre></div></div></div></div></div></div></div>"
      ],
      "text/plain": [
       "Pipeline(steps=[('scale', StandardScaler()),\n",
       "                ('model', LogisticRegression(C=0.1))])"
      ]
     },
     "execution_count": 34,
     "metadata": {},
     "output_type": "execute_result"
    }
   ],
   "source": [
    "model.fit(X_train, y_train.values.ravel())"
   ]
  },
  {
   "cell_type": "code",
   "execution_count": 35,
   "id": "6e15e313",
   "metadata": {
    "execution": {
     "iopub.execute_input": "2025-08-19T18:50:07.797351Z",
     "iopub.status.busy": "2025-08-19T18:50:07.795958Z",
     "iopub.status.idle": "2025-08-19T18:50:08.034091Z",
     "shell.execute_reply": "2025-08-19T18:50:08.033090Z"
    },
    "papermill": {
     "duration": 0.259473,
     "end_time": "2025-08-19T18:50:08.041319",
     "exception": false,
     "start_time": "2025-08-19T18:50:07.781846",
     "status": "completed"
    },
    "tags": []
   },
   "outputs": [
    {
     "data": {
      "text/plain": [
       "0.830208449448222"
      ]
     },
     "execution_count": 35,
     "metadata": {},
     "output_type": "execute_result"
    }
   ],
   "source": [
    "from fairness_multiverse.universe import predict_w_threshold\n",
    "\n",
    "probs_test = model.predict_proba(X_test)\n",
    "\n",
    "'''\n",
    "Below code returns a boolean array (or binary 0/1 array depending on how it’s used) where each element \n",
    "is True if the probability of class 1 is greater than or equal to the threshold, and False otherwise.\n",
    "'''\n",
    "y_pred_default = predict_w_threshold(probs_test, 0.5)\n",
    "\n",
    "from sklearn.metrics import accuracy_score\n",
    "\n",
    "# Naive prediction\n",
    "accuracy_score(y_true = y_true, y_pred = y_pred_default)"
   ]
  },
  {
   "cell_type": "code",
   "execution_count": 36,
   "id": "6f14067c",
   "metadata": {
    "execution": {
     "iopub.execute_input": "2025-08-19T18:50:08.076403Z",
     "iopub.status.busy": "2025-08-19T18:50:08.074769Z",
     "iopub.status.idle": "2025-08-19T18:50:08.279363Z",
     "shell.execute_reply": "2025-08-19T18:50:08.278089Z"
    },
    "papermill": {
     "duration": 0.221827,
     "end_time": "2025-08-19T18:50:08.283471",
     "exception": false,
     "start_time": "2025-08-19T18:50:08.061644",
     "status": "completed"
    },
    "tags": []
   },
   "outputs": [
    {
     "data": {
      "text/plain": [
       "array([0, 0, 0, ..., 0, 0, 0])"
      ]
     },
     "execution_count": 36,
     "metadata": {},
     "output_type": "execute_result"
    }
   ],
   "source": [
    "model.predict(X_test)"
   ]
  },
  {
   "cell_type": "markdown",
   "id": "3759920c",
   "metadata": {
    "papermill": {
     "duration": 0.013995,
     "end_time": "2025-08-19T18:50:08.322233",
     "exception": false,
     "start_time": "2025-08-19T18:50:08.308238",
     "status": "completed"
    },
    "tags": []
   },
   "source": [
    "# Conformal Prediction"
   ]
  },
  {
   "cell_type": "code",
   "execution_count": 37,
   "id": "14b27f59",
   "metadata": {
    "execution": {
     "iopub.execute_input": "2025-08-19T18:50:08.348310Z",
     "iopub.status.busy": "2025-08-19T18:50:08.346917Z",
     "iopub.status.idle": "2025-08-19T18:50:08.354488Z",
     "shell.execute_reply": "2025-08-19T18:50:08.353184Z"
    },
    "papermill": {
     "duration": 0.022923,
     "end_time": "2025-08-19T18:50:08.355951",
     "exception": false,
     "start_time": "2025-08-19T18:50:08.333028",
     "status": "completed"
    },
    "tags": []
   },
   "outputs": [],
   "source": [
    "# Miscoverage level for conformal prediction (10% allowed error rate => 90% target coverage)\n",
    "alpha = 0.1"
   ]
  },
  {
   "cell_type": "code",
   "execution_count": 38,
   "id": "59102472",
   "metadata": {
    "execution": {
     "iopub.execute_input": "2025-08-19T18:50:08.383189Z",
     "iopub.status.busy": "2025-08-19T18:50:08.382843Z",
     "iopub.status.idle": "2025-08-19T18:50:08.600434Z",
     "shell.execute_reply": "2025-08-19T18:50:08.599269Z"
    },
    "papermill": {
     "duration": 0.233417,
     "end_time": "2025-08-19T18:50:08.603680",
     "exception": false,
     "start_time": "2025-08-19T18:50:08.370263",
     "status": "completed"
    },
    "tags": []
   },
   "outputs": [],
   "source": [
    "probs_calib = model.predict_proba(X_calib)"
   ]
  },
  {
   "cell_type": "code",
   "execution_count": 39,
   "id": "a792d4dd",
   "metadata": {
    "execution": {
     "iopub.execute_input": "2025-08-19T18:50:08.652911Z",
     "iopub.status.busy": "2025-08-19T18:50:08.650127Z",
     "iopub.status.idle": "2025-08-19T18:50:08.662216Z",
     "shell.execute_reply": "2025-08-19T18:50:08.661152Z"
    },
    "papermill": {
     "duration": 0.030553,
     "end_time": "2025-08-19T18:50:08.664136",
     "exception": false,
     "start_time": "2025-08-19T18:50:08.633583",
     "status": "completed"
    },
    "tags": []
   },
   "outputs": [],
   "source": [
    "y_calib = y_calib.values.ravel().astype(int)"
   ]
  },
  {
   "cell_type": "code",
   "execution_count": 40,
   "id": "650fd033",
   "metadata": {
    "execution": {
     "iopub.execute_input": "2025-08-19T18:50:08.696850Z",
     "iopub.status.busy": "2025-08-19T18:50:08.695206Z",
     "iopub.status.idle": "2025-08-19T18:50:08.708290Z",
     "shell.execute_reply": "2025-08-19T18:50:08.707308Z"
    },
    "papermill": {
     "duration": 0.028748,
     "end_time": "2025-08-19T18:50:08.709921",
     "exception": false,
     "start_time": "2025-08-19T18:50:08.681173",
     "status": "completed"
    },
    "tags": []
   },
   "outputs": [],
   "source": [
    "from fairness_multiverse.conformal import compute_nc_scores\n",
    "\n",
    "# Compute nonconformity scores on calibration set (1 - probability of true class)\n",
    "nc_scores = compute_nc_scores(probs_calib, y_calib)"
   ]
  },
  {
   "cell_type": "code",
   "execution_count": 41,
   "id": "28ada44c",
   "metadata": {
    "execution": {
     "iopub.execute_input": "2025-08-19T18:50:08.739041Z",
     "iopub.status.busy": "2025-08-19T18:50:08.737207Z",
     "iopub.status.idle": "2025-08-19T18:50:08.794418Z",
     "shell.execute_reply": "2025-08-19T18:50:08.793224Z"
    },
    "papermill": {
     "duration": 0.072576,
     "end_time": "2025-08-19T18:50:08.796438",
     "exception": false,
     "start_time": "2025-08-19T18:50:08.723862",
     "status": "completed"
    },
    "tags": []
   },
   "outputs": [],
   "source": [
    "from fairness_multiverse.conformal import find_threshold\n",
    "\n",
    "# Find conformal threshold q_hat for the given alpha (split conformal method)\n",
    "q_hat = find_threshold(nc_scores, alpha)"
   ]
  },
  {
   "cell_type": "code",
   "execution_count": 42,
   "id": "df56469e",
   "metadata": {
    "execution": {
     "iopub.execute_input": "2025-08-19T18:50:08.838501Z",
     "iopub.status.busy": "2025-08-19T18:50:08.837959Z",
     "iopub.status.idle": "2025-08-19T18:50:08.844551Z",
     "shell.execute_reply": "2025-08-19T18:50:08.843844Z"
    },
    "papermill": {
     "duration": 0.032059,
     "end_time": "2025-08-19T18:50:08.845704",
     "exception": false,
     "start_time": "2025-08-19T18:50:08.813645",
     "status": "completed"
    },
    "tags": []
   },
   "outputs": [
    {
     "data": {
      "text/plain": [
       "0.753206930937649"
      ]
     },
     "execution_count": 42,
     "metadata": {},
     "output_type": "execute_result"
    }
   ],
   "source": [
    "q_hat"
   ]
  },
  {
   "cell_type": "code",
   "execution_count": 43,
   "id": "aa1f5faa",
   "metadata": {
    "execution": {
     "iopub.execute_input": "2025-08-19T18:50:08.870949Z",
     "iopub.status.busy": "2025-08-19T18:50:08.870438Z",
     "iopub.status.idle": "2025-08-19T18:50:09.544524Z",
     "shell.execute_reply": "2025-08-19T18:50:09.543322Z"
    },
    "papermill": {
     "duration": 0.688833,
     "end_time": "2025-08-19T18:50:09.546268",
     "exception": false,
     "start_time": "2025-08-19T18:50:08.857435",
     "status": "completed"
    },
    "tags": []
   },
   "outputs": [],
   "source": [
    "from fairness_multiverse.conformal import predict_conformal_sets\n",
    "\n",
    "# Generate prediction sets for each test example\n",
    "pred_sets = predict_conformal_sets(model, X_test, q_hat)"
   ]
  },
  {
   "cell_type": "code",
   "execution_count": 44,
   "id": "97f67a6b",
   "metadata": {
    "execution": {
     "iopub.execute_input": "2025-08-19T18:50:09.580973Z",
     "iopub.status.busy": "2025-08-19T18:50:09.579309Z",
     "iopub.status.idle": "2025-08-19T18:50:09.589939Z",
     "shell.execute_reply": "2025-08-19T18:50:09.588761Z"
    },
    "papermill": {
     "duration": 0.031688,
     "end_time": "2025-08-19T18:50:09.591400",
     "exception": false,
     "start_time": "2025-08-19T18:50:09.559712",
     "status": "completed"
    },
    "tags": []
   },
   "outputs": [],
   "source": [
    "y_true = y_true.squeeze()"
   ]
  },
  {
   "cell_type": "code",
   "execution_count": 45,
   "id": "e700e9a7",
   "metadata": {
    "execution": {
     "iopub.execute_input": "2025-08-19T18:50:09.624255Z",
     "iopub.status.busy": "2025-08-19T18:50:09.617645Z",
     "iopub.status.idle": "2025-08-19T18:50:10.193322Z",
     "shell.execute_reply": "2025-08-19T18:50:10.192017Z"
    },
    "papermill": {
     "duration": 0.590984,
     "end_time": "2025-08-19T18:50:10.194934",
     "exception": false,
     "start_time": "2025-08-19T18:50:09.603950",
     "status": "completed"
    },
    "tags": []
   },
   "outputs": [],
   "source": [
    "from fairness_multiverse.conformal import evaluate_sets\n",
    "\n",
    "# Evaluate coverage and average set size on test data\n",
    "metrics = evaluate_sets(pred_sets, y_true)"
   ]
  },
  {
   "cell_type": "markdown",
   "id": "efbacec0",
   "metadata": {
    "papermill": {
     "duration": 0.011276,
     "end_time": "2025-08-19T18:50:10.222967",
     "exception": false,
     "start_time": "2025-08-19T18:50:10.211691",
     "status": "completed"
    },
    "tags": []
   },
   "source": [
    "# CP Metrics"
   ]
  },
  {
   "cell_type": "code",
   "execution_count": 46,
   "id": "9de55fb1",
   "metadata": {
    "execution": {
     "iopub.execute_input": "2025-08-19T18:50:10.249485Z",
     "iopub.status.busy": "2025-08-19T18:50:10.247822Z",
     "iopub.status.idle": "2025-08-19T18:50:10.262049Z",
     "shell.execute_reply": "2025-08-19T18:50:10.261402Z"
    },
    "papermill": {
     "duration": 0.029567,
     "end_time": "2025-08-19T18:50:10.263691",
     "exception": false,
     "start_time": "2025-08-19T18:50:10.234124",
     "status": "completed"
    },
    "tags": []
   },
   "outputs": [
    {
     "data": {
      "text/plain": [
       "{'coverage': 0.9076357150819306, 'avg_size': 1.2045479879612084}"
      ]
     },
     "execution_count": 46,
     "metadata": {},
     "output_type": "execute_result"
    }
   ],
   "source": [
    "metrics"
   ]
  },
  {
   "cell_type": "code",
   "execution_count": 47,
   "id": "64c340a1",
   "metadata": {
    "execution": {
     "iopub.execute_input": "2025-08-19T18:50:10.306705Z",
     "iopub.status.busy": "2025-08-19T18:50:10.305789Z",
     "iopub.status.idle": "2025-08-19T18:50:10.316935Z",
     "shell.execute_reply": "2025-08-19T18:50:10.312968Z"
    },
    "papermill": {
     "duration": 0.027836,
     "end_time": "2025-08-19T18:50:10.321019",
     "exception": false,
     "start_time": "2025-08-19T18:50:10.293183",
     "status": "completed"
    },
    "tags": []
   },
   "outputs": [],
   "source": [
    "example_universe = universe.copy()\n",
    "universe_training_year = example_universe.get(\"training_year\")\n",
    "universe_training_size = example_universe.get(\"training_size\")\n",
    "universe_scale = example_universe.get(\"scale\")\n",
    "universe_model = example_universe.get(\"model\")\n",
    "universe_exclude_features = example_universe.get(\"exclude_features\")\n",
    "universe_exclude_subgroups = example_universe.get(\"exclude_subgroups\")"
   ]
  },
  {
   "cell_type": "code",
   "execution_count": 48,
   "id": "dbb53cb4",
   "metadata": {
    "execution": {
     "iopub.execute_input": "2025-08-19T18:50:10.348976Z",
     "iopub.status.busy": "2025-08-19T18:50:10.347615Z",
     "iopub.status.idle": "2025-08-19T18:50:10.363066Z",
     "shell.execute_reply": "2025-08-19T18:50:10.356855Z"
    },
    "papermill": {
     "duration": 0.031692,
     "end_time": "2025-08-19T18:50:10.365952",
     "exception": false,
     "start_time": "2025-08-19T18:50:10.334260",
     "status": "completed"
    },
    "tags": []
   },
   "outputs": [],
   "source": [
    "cp_metrics_dict = {\n",
    "    \"universe_id\": [universe_id],\n",
    "    \"universe_training_year\": [universe_training_year],\n",
    "    \"universe_training_size\": [universe_training_size],\n",
    "    \"universe_scale\": [universe_scale],\n",
    "    \"universe_model\": [universe_model],\n",
    "    \"universe_exclude_features\": [universe_exclude_features],\n",
    "    \"universe_exclude_subgroups\": [universe_exclude_subgroups],\n",
    "    \"q_hat\": [q_hat],\n",
    "    \"coverage\": [metrics[\"coverage\"]],\n",
    "    \"avg_size\": [metrics[\"avg_size\"]],\n",
    "}"
   ]
  },
  {
   "cell_type": "code",
   "execution_count": 49,
   "id": "0d70d4b2",
   "metadata": {
    "execution": {
     "iopub.execute_input": "2025-08-19T18:50:10.402174Z",
     "iopub.status.busy": "2025-08-19T18:50:10.400010Z",
     "iopub.status.idle": "2025-08-19T18:50:10.411698Z",
     "shell.execute_reply": "2025-08-19T18:50:10.410718Z"
    },
    "papermill": {
     "duration": 0.028762,
     "end_time": "2025-08-19T18:50:10.413033",
     "exception": false,
     "start_time": "2025-08-19T18:50:10.384271",
     "status": "completed"
    },
    "tags": []
   },
   "outputs": [],
   "source": [
    "cp_metrics_df = pd.DataFrame(cp_metrics_dict)"
   ]
  },
  {
   "cell_type": "code",
   "execution_count": 50,
   "id": "b494403c",
   "metadata": {
    "execution": {
     "iopub.execute_input": "2025-08-19T18:50:10.445988Z",
     "iopub.status.busy": "2025-08-19T18:50:10.439554Z",
     "iopub.status.idle": "2025-08-19T18:50:10.464769Z",
     "shell.execute_reply": "2025-08-19T18:50:10.463901Z"
    },
    "papermill": {
     "duration": 0.040869,
     "end_time": "2025-08-19T18:50:10.466325",
     "exception": false,
     "start_time": "2025-08-19T18:50:10.425456",
     "status": "completed"
    },
    "tags": []
   },
   "outputs": [
    {
     "data": {
      "text/html": [
       "<div>\n",
       "<style scoped>\n",
       "    .dataframe tbody tr th:only-of-type {\n",
       "        vertical-align: middle;\n",
       "    }\n",
       "\n",
       "    .dataframe tbody tr th {\n",
       "        vertical-align: top;\n",
       "    }\n",
       "\n",
       "    .dataframe thead th {\n",
       "        text-align: right;\n",
       "    }\n",
       "</style>\n",
       "<table border=\"1\" class=\"dataframe\">\n",
       "  <thead>\n",
       "    <tr style=\"text-align: right;\">\n",
       "      <th></th>\n",
       "      <th>universe_id</th>\n",
       "      <th>universe_training_year</th>\n",
       "      <th>universe_training_size</th>\n",
       "      <th>universe_scale</th>\n",
       "      <th>universe_model</th>\n",
       "      <th>universe_exclude_features</th>\n",
       "      <th>universe_exclude_subgroups</th>\n",
       "      <th>q_hat</th>\n",
       "      <th>coverage</th>\n",
       "      <th>avg_size</th>\n",
       "    </tr>\n",
       "  </thead>\n",
       "  <tbody>\n",
       "    <tr>\n",
       "      <th>0</th>\n",
       "      <td>6e1b383e2c05f954844ac8ca6da401ee</td>\n",
       "      <td>2014</td>\n",
       "      <td>1k</td>\n",
       "      <td>scale</td>\n",
       "      <td>penalized_logreg</td>\n",
       "      <td>age</td>\n",
       "      <td>keep-all</td>\n",
       "      <td>0.753207</td>\n",
       "      <td>0.907636</td>\n",
       "      <td>1.204548</td>\n",
       "    </tr>\n",
       "  </tbody>\n",
       "</table>\n",
       "</div>"
      ],
      "text/plain": [
       "                        universe_id universe_training_year  \\\n",
       "0  6e1b383e2c05f954844ac8ca6da401ee                   2014   \n",
       "\n",
       "  universe_training_size universe_scale    universe_model  \\\n",
       "0                     1k          scale  penalized_logreg   \n",
       "\n",
       "  universe_exclude_features universe_exclude_subgroups     q_hat  coverage  \\\n",
       "0                       age                   keep-all  0.753207  0.907636   \n",
       "\n",
       "   avg_size  \n",
       "0  1.204548  "
      ]
     },
     "execution_count": 50,
     "metadata": {},
     "output_type": "execute_result"
    }
   ],
   "source": [
    "cp_metrics_df"
   ]
  },
  {
   "cell_type": "markdown",
   "id": "ed608b0b",
   "metadata": {
    "papermill": {
     "duration": 0.011858,
     "end_time": "2025-08-19T18:50:10.493274",
     "exception": false,
     "start_time": "2025-08-19T18:50:10.481416",
     "status": "completed"
    },
    "tags": []
   },
   "source": [
    "Conditional coverage & looking at subgroups"
   ]
  },
  {
   "cell_type": "code",
   "execution_count": 51,
   "id": "8968c366",
   "metadata": {
    "execution": {
     "iopub.execute_input": "2025-08-19T18:50:10.521002Z",
     "iopub.status.busy": "2025-08-19T18:50:10.518341Z",
     "iopub.status.idle": "2025-08-19T18:50:10.839818Z",
     "shell.execute_reply": "2025-08-19T18:50:10.838673Z"
    },
    "papermill": {
     "duration": 0.336427,
     "end_time": "2025-08-19T18:50:10.841344",
     "exception": false,
     "start_time": "2025-08-19T18:50:10.504917",
     "status": "completed"
    },
    "tags": []
   },
   "outputs": [],
   "source": [
    "from fairness_multiverse.conformal import build_cp_groups\n",
    "\n",
    "cp_groups_df = build_cp_groups(pred_sets, y_true, X_test.index, org_test)"
   ]
  },
  {
   "cell_type": "code",
   "execution_count": 52,
   "id": "292ddabf",
   "metadata": {
    "execution": {
     "iopub.execute_input": "2025-08-19T18:50:10.883133Z",
     "iopub.status.busy": "2025-08-19T18:50:10.869925Z",
     "iopub.status.idle": "2025-08-19T18:50:11.746880Z",
     "shell.execute_reply": "2025-08-19T18:50:11.745372Z"
    },
    "papermill": {
     "duration": 0.893725,
     "end_time": "2025-08-19T18:50:11.748512",
     "exception": false,
     "start_time": "2025-08-19T18:50:10.854787",
     "status": "completed"
    },
    "tags": []
   },
   "outputs": [],
   "source": [
    "# Define covered = 1 if true_label is in the predicted set\n",
    "cp_groups_df['covered'] = cp_groups_df.apply(\n",
    "    lambda r: int(r['true_label'] in r['pred_set']),\n",
    "    axis=1\n",
    ")"
   ]
  },
  {
   "cell_type": "code",
   "execution_count": 53,
   "id": "3a261692",
   "metadata": {
    "execution": {
     "iopub.execute_input": "2025-08-19T18:50:11.788742Z",
     "iopub.status.busy": "2025-08-19T18:50:11.787604Z",
     "iopub.status.idle": "2025-08-19T18:50:11.812553Z",
     "shell.execute_reply": "2025-08-19T18:50:11.811232Z"
    },
    "papermill": {
     "duration": 0.04072,
     "end_time": "2025-08-19T18:50:11.814070",
     "exception": false,
     "start_time": "2025-08-19T18:50:11.773350",
     "status": "completed"
    },
    "tags": []
   },
   "outputs": [],
   "source": [
    "subgroups = ['frau1','nongerman','nongerman_male','nongerman_female']\n",
    "\n",
    "# Conditional coverage for subgroup==1\n",
    "cond_coverage = {\n",
    "    g: cp_groups_df.loc[cp_groups_df[g]==1, 'covered'].mean()\n",
    "    for g in subgroups\n",
    "}"
   ]
  },
  {
   "cell_type": "code",
   "execution_count": 54,
   "id": "894fd600",
   "metadata": {
    "execution": {
     "iopub.execute_input": "2025-08-19T18:50:11.840391Z",
     "iopub.status.busy": "2025-08-19T18:50:11.839774Z",
     "iopub.status.idle": "2025-08-19T18:50:11.854105Z",
     "shell.execute_reply": "2025-08-19T18:50:11.852542Z"
    },
    "papermill": {
     "duration": 0.029491,
     "end_time": "2025-08-19T18:50:11.855937",
     "exception": false,
     "start_time": "2025-08-19T18:50:11.826446",
     "status": "completed"
    },
    "tags": []
   },
   "outputs": [
    {
     "data": {
      "text/plain": [
       "{'frau1': 0.9032214584175765,\n",
       " 'nongerman': 0.9055184415876045,\n",
       " 'nongerman_male': 0.9241646401873368,\n",
       " 'nongerman_female': 0.8746646795827123}"
      ]
     },
     "execution_count": 54,
     "metadata": {},
     "output_type": "execute_result"
    }
   ],
   "source": [
    "cond_coverage"
   ]
  },
  {
   "cell_type": "code",
   "execution_count": 55,
   "id": "942895c7",
   "metadata": {
    "execution": {
     "iopub.execute_input": "2025-08-19T18:50:11.888537Z",
     "iopub.status.busy": "2025-08-19T18:50:11.887310Z",
     "iopub.status.idle": "2025-08-19T18:50:11.900046Z",
     "shell.execute_reply": "2025-08-19T18:50:11.898379Z"
    },
    "papermill": {
     "duration": 0.02925,
     "end_time": "2025-08-19T18:50:11.901661",
     "exception": false,
     "start_time": "2025-08-19T18:50:11.872411",
     "status": "completed"
    },
    "tags": []
   },
   "outputs": [],
   "source": [
    "for subgroup, cov in cond_coverage.items():\n",
    "    cp_metrics_df[f\"cov_{subgroup}\"] = cov"
   ]
  },
  {
   "cell_type": "code",
   "execution_count": 56,
   "id": "3970120f",
   "metadata": {
    "execution": {
     "iopub.execute_input": "2025-08-19T18:50:11.935920Z",
     "iopub.status.busy": "2025-08-19T18:50:11.934747Z",
     "iopub.status.idle": "2025-08-19T18:50:11.960958Z",
     "shell.execute_reply": "2025-08-19T18:50:11.959927Z"
    },
    "papermill": {
     "duration": 0.042407,
     "end_time": "2025-08-19T18:50:11.962548",
     "exception": false,
     "start_time": "2025-08-19T18:50:11.920141",
     "status": "completed"
    },
    "tags": []
   },
   "outputs": [
    {
     "data": {
      "text/html": [
       "<div>\n",
       "<style scoped>\n",
       "    .dataframe tbody tr th:only-of-type {\n",
       "        vertical-align: middle;\n",
       "    }\n",
       "\n",
       "    .dataframe tbody tr th {\n",
       "        vertical-align: top;\n",
       "    }\n",
       "\n",
       "    .dataframe thead th {\n",
       "        text-align: right;\n",
       "    }\n",
       "</style>\n",
       "<table border=\"1\" class=\"dataframe\">\n",
       "  <thead>\n",
       "    <tr style=\"text-align: right;\">\n",
       "      <th></th>\n",
       "      <th>universe_id</th>\n",
       "      <th>universe_training_year</th>\n",
       "      <th>universe_training_size</th>\n",
       "      <th>universe_scale</th>\n",
       "      <th>universe_model</th>\n",
       "      <th>universe_exclude_features</th>\n",
       "      <th>universe_exclude_subgroups</th>\n",
       "      <th>q_hat</th>\n",
       "      <th>coverage</th>\n",
       "      <th>avg_size</th>\n",
       "      <th>cov_frau1</th>\n",
       "      <th>cov_nongerman</th>\n",
       "      <th>cov_nongerman_male</th>\n",
       "      <th>cov_nongerman_female</th>\n",
       "    </tr>\n",
       "  </thead>\n",
       "  <tbody>\n",
       "    <tr>\n",
       "      <th>0</th>\n",
       "      <td>6e1b383e2c05f954844ac8ca6da401ee</td>\n",
       "      <td>2014</td>\n",
       "      <td>1k</td>\n",
       "      <td>scale</td>\n",
       "      <td>penalized_logreg</td>\n",
       "      <td>age</td>\n",
       "      <td>keep-all</td>\n",
       "      <td>0.753207</td>\n",
       "      <td>0.907636</td>\n",
       "      <td>1.204548</td>\n",
       "      <td>0.903221</td>\n",
       "      <td>0.905518</td>\n",
       "      <td>0.924165</td>\n",
       "      <td>0.874665</td>\n",
       "    </tr>\n",
       "  </tbody>\n",
       "</table>\n",
       "</div>"
      ],
      "text/plain": [
       "                        universe_id universe_training_year  \\\n",
       "0  6e1b383e2c05f954844ac8ca6da401ee                   2014   \n",
       "\n",
       "  universe_training_size universe_scale    universe_model  \\\n",
       "0                     1k          scale  penalized_logreg   \n",
       "\n",
       "  universe_exclude_features universe_exclude_subgroups     q_hat  coverage  \\\n",
       "0                       age                   keep-all  0.753207  0.907636   \n",
       "\n",
       "   avg_size  cov_frau1  cov_nongerman  cov_nongerman_male  \\\n",
       "0  1.204548   0.903221       0.905518            0.924165   \n",
       "\n",
       "   cov_nongerman_female  \n",
       "0              0.874665  "
      ]
     },
     "execution_count": 56,
     "metadata": {},
     "output_type": "execute_result"
    }
   ],
   "source": [
    "cp_metrics_df"
   ]
  },
  {
   "cell_type": "markdown",
   "id": "3fc519cc",
   "metadata": {
    "papermill": {
     "duration": 0.01343,
     "end_time": "2025-08-19T18:50:12.000243",
     "exception": false,
     "start_time": "2025-08-19T18:50:11.986813",
     "status": "completed"
    },
    "tags": []
   },
   "source": [
    "# (Fairness) Metrics"
   ]
  },
  {
   "cell_type": "code",
   "execution_count": 57,
   "id": "a2e5e155",
   "metadata": {
    "execution": {
     "iopub.execute_input": "2025-08-19T18:50:12.027376Z",
     "iopub.status.busy": "2025-08-19T18:50:12.026187Z",
     "iopub.status.idle": "2025-08-19T18:50:12.063523Z",
     "shell.execute_reply": "2025-08-19T18:50:12.062250Z"
    },
    "papermill": {
     "duration": 0.053253,
     "end_time": "2025-08-19T18:50:12.065693",
     "exception": false,
     "start_time": "2025-08-19T18:50:12.012440",
     "status": "completed"
    },
    "tags": []
   },
   "outputs": [],
   "source": [
    "colname_to_bin = \"maxdeutsch1\"\n",
    "majority_value = org_train[colname_to_bin].mode()[0]\n",
    "\n",
    "org_test[\"majmin\"] = np.where(org_test[colname_to_bin] == majority_value, \"majority\", \"minority\")"
   ]
  },
  {
   "cell_type": "code",
   "execution_count": 58,
   "id": "17e3e4d5",
   "metadata": {
    "execution": {
     "iopub.execute_input": "2025-08-19T18:50:12.108696Z",
     "iopub.status.busy": "2025-08-19T18:50:12.107349Z",
     "iopub.status.idle": "2025-08-19T18:50:13.810923Z",
     "shell.execute_reply": "2025-08-19T18:50:13.809772Z"
    },
    "papermill": {
     "duration": 1.721827,
     "end_time": "2025-08-19T18:50:13.813685",
     "exception": false,
     "start_time": "2025-08-19T18:50:12.091858",
     "status": "completed"
    },
    "tags": []
   },
   "outputs": [],
   "source": [
    "example_universe = universe.copy()\n",
    "example_universe[\"cutoff\"] = example_universe[\"cutoff\"][0]\n",
    "example_universe[\"eval_fairness_grouping\"] = example_universe[\"eval_fairness_grouping\"][0]\n",
    "fairness_dict, metric_frame = universe_analysis.compute_metrics(\n",
    "    example_universe,\n",
    "    y_pred_prob=probs_test,\n",
    "    y_test=y_true,\n",
    "    org_test=org_test,\n",
    ")"
   ]
  },
  {
   "cell_type": "markdown",
   "id": "1fb7a0e9",
   "metadata": {
    "papermill": {
     "duration": 0.027885,
     "end_time": "2025-08-19T18:50:13.881158",
     "exception": false,
     "start_time": "2025-08-19T18:50:13.853273",
     "status": "completed"
    },
    "tags": []
   },
   "source": [
    "# Overall"
   ]
  },
  {
   "cell_type": "markdown",
   "id": "be1784b1",
   "metadata": {
    "papermill": {
     "duration": 0.029962,
     "end_time": "2025-08-19T18:50:13.935689",
     "exception": false,
     "start_time": "2025-08-19T18:50:13.905727",
     "status": "completed"
    },
    "tags": []
   },
   "source": [
    "Main fairness target: Equalized Odds. Seems to be a better fit than equal opportunity, since we're not only interested in Y = 1. Seems to be a better fit than demographic parity, since we also care about accuracy, not just equal distribution of preds.\n",
    "\n",
    "Pick column for computation of fairness metrics\n",
    "\n",
    "Performance\n",
    "Overall performance measures, most interesting in relation to the measures split by group below"
   ]
  },
  {
   "cell_type": "code",
   "execution_count": 59,
   "id": "b7672bee",
   "metadata": {
    "execution": {
     "iopub.execute_input": "2025-08-19T18:50:13.964715Z",
     "iopub.status.busy": "2025-08-19T18:50:13.963296Z",
     "iopub.status.idle": "2025-08-19T18:50:13.980794Z",
     "shell.execute_reply": "2025-08-19T18:50:13.979550Z"
    },
    "papermill": {
     "duration": 0.033627,
     "end_time": "2025-08-19T18:50:13.982267",
     "exception": false,
     "start_time": "2025-08-19T18:50:13.948640",
     "status": "completed"
    },
    "tags": []
   },
   "outputs": [
    {
     "data": {
      "text/plain": [
       "accuracy                   0.219541\n",
       "balanced accuracy          0.537820\n",
       "f1                         0.241005\n",
       "precision                  0.137678\n",
       "false positive rate        0.890297\n",
       "false negative rate        0.034063\n",
       "selection rate             0.900000\n",
       "count                  89710.000000\n",
       "dtype: float64"
      ]
     },
     "execution_count": 59,
     "metadata": {},
     "output_type": "execute_result"
    }
   ],
   "source": [
    "metric_frame.overall"
   ]
  },
  {
   "cell_type": "markdown",
   "id": "d93333c9",
   "metadata": {
    "papermill": {
     "duration": 0.01328,
     "end_time": "2025-08-19T18:50:14.014853",
     "exception": false,
     "start_time": "2025-08-19T18:50:14.001573",
     "status": "completed"
    },
    "tags": []
   },
   "source": [
    "By Group"
   ]
  },
  {
   "cell_type": "code",
   "execution_count": 60,
   "id": "52256966",
   "metadata": {
    "execution": {
     "iopub.execute_input": "2025-08-19T18:50:14.042594Z",
     "iopub.status.busy": "2025-08-19T18:50:14.041412Z",
     "iopub.status.idle": "2025-08-19T18:50:14.065721Z",
     "shell.execute_reply": "2025-08-19T18:50:14.064958Z"
    },
    "papermill": {
     "duration": 0.040225,
     "end_time": "2025-08-19T18:50:14.067378",
     "exception": false,
     "start_time": "2025-08-19T18:50:14.027153",
     "status": "completed"
    },
    "tags": []
   },
   "outputs": [
    {
     "data": {
      "text/html": [
       "<div>\n",
       "<style scoped>\n",
       "    .dataframe tbody tr th:only-of-type {\n",
       "        vertical-align: middle;\n",
       "    }\n",
       "\n",
       "    .dataframe tbody tr th {\n",
       "        vertical-align: top;\n",
       "    }\n",
       "\n",
       "    .dataframe thead th {\n",
       "        text-align: right;\n",
       "    }\n",
       "</style>\n",
       "<table border=\"1\" class=\"dataframe\">\n",
       "  <thead>\n",
       "    <tr style=\"text-align: right;\">\n",
       "      <th></th>\n",
       "      <th>accuracy</th>\n",
       "      <th>balanced accuracy</th>\n",
       "      <th>f1</th>\n",
       "      <th>precision</th>\n",
       "      <th>false positive rate</th>\n",
       "      <th>false negative rate</th>\n",
       "      <th>selection rate</th>\n",
       "      <th>count</th>\n",
       "    </tr>\n",
       "    <tr>\n",
       "      <th>majmin</th>\n",
       "      <th></th>\n",
       "      <th></th>\n",
       "      <th></th>\n",
       "      <th></th>\n",
       "      <th></th>\n",
       "      <th></th>\n",
       "      <th></th>\n",
       "      <th></th>\n",
       "    </tr>\n",
       "  </thead>\n",
       "  <tbody>\n",
       "    <tr>\n",
       "      <th>majority</th>\n",
       "      <td>0.238456</td>\n",
       "      <td>0.545578</td>\n",
       "      <td>0.250484</td>\n",
       "      <td>0.143965</td>\n",
       "      <td>0.871864</td>\n",
       "      <td>0.036980</td>\n",
       "      <td>0.883909</td>\n",
       "      <td>69170.0</td>\n",
       "    </tr>\n",
       "    <tr>\n",
       "      <th>minority</th>\n",
       "      <td>0.155842</td>\n",
       "      <td>0.513004</td>\n",
       "      <td>0.210680</td>\n",
       "      <td>0.118067</td>\n",
       "      <td>0.951189</td>\n",
       "      <td>0.022804</td>\n",
       "      <td>0.954187</td>\n",
       "      <td>20540.0</td>\n",
       "    </tr>\n",
       "  </tbody>\n",
       "</table>\n",
       "</div>"
      ],
      "text/plain": [
       "          accuracy  balanced accuracy        f1  precision  \\\n",
       "majmin                                                       \n",
       "majority  0.238456           0.545578  0.250484   0.143965   \n",
       "minority  0.155842           0.513004  0.210680   0.118067   \n",
       "\n",
       "          false positive rate  false negative rate  selection rate    count  \n",
       "majmin                                                                       \n",
       "majority             0.871864             0.036980        0.883909  69170.0  \n",
       "minority             0.951189             0.022804        0.954187  20540.0  "
      ]
     },
     "execution_count": 60,
     "metadata": {},
     "output_type": "execute_result"
    }
   ],
   "source": [
    "metric_frame.by_group"
   ]
  },
  {
   "cell_type": "code",
   "execution_count": 61,
   "id": "6e6c20ae",
   "metadata": {
    "execution": {
     "iopub.execute_input": "2025-08-19T18:50:14.103536Z",
     "iopub.status.busy": "2025-08-19T18:50:14.102098Z",
     "iopub.status.idle": "2025-08-19T18:50:15.896004Z",
     "shell.execute_reply": "2025-08-19T18:50:15.894807Z"
    },
    "papermill": {
     "duration": 1.8104,
     "end_time": "2025-08-19T18:50:15.897482",
     "exception": false,
     "start_time": "2025-08-19T18:50:14.087082",
     "status": "completed"
    },
    "tags": []
   },
   "outputs": [
    {
     "data": {
      "text/plain": [
       "array([[<Axes: title={'center': 'accuracy'}, xlabel='majmin'>,\n",
       "        <Axes: title={'center': 'balanced accuracy'}, xlabel='majmin'>,\n",
       "        <Axes: title={'center': 'f1'}, xlabel='majmin'>],\n",
       "       [<Axes: title={'center': 'precision'}, xlabel='majmin'>,\n",
       "        <Axes: title={'center': 'false positive rate'}, xlabel='majmin'>,\n",
       "        <Axes: title={'center': 'false negative rate'}, xlabel='majmin'>],\n",
       "       [<Axes: title={'center': 'selection rate'}, xlabel='majmin'>,\n",
       "        <Axes: title={'center': 'count'}, xlabel='majmin'>,\n",
       "        <Axes: xlabel='majmin'>]], dtype=object)"
      ]
     },
     "execution_count": 61,
     "metadata": {},
     "output_type": "execute_result"
    },
    {
     "data": {
      "image/png": "[encoded data removed]",
      "text/plain": [
       "<Figure size 1200x800 with 9 Axes>"
      ]
     },
     "metadata": {},
     "output_type": "display_data"
    }
   ],
   "source": [
    "# In a graphic\n",
    "metric_frame.by_group.plot.bar(\n",
    "    subplots=True,\n",
    "    layout=[3, 3],\n",
    "    legend=False,\n",
    "    figsize=[12, 8],\n",
    "    title=\"Show all metrics\",\n",
    ")"
   ]
  },
  {
   "cell_type": "markdown",
   "id": "b2e433ae",
   "metadata": {
    "papermill": {
     "duration": 0.029204,
     "end_time": "2025-08-19T18:50:15.941357",
     "exception": false,
     "start_time": "2025-08-19T18:50:15.912153",
     "status": "completed"
    },
    "tags": []
   },
   "source": [
    "# Final Output"
   ]
  },
  {
   "cell_type": "code",
   "execution_count": 62,
   "id": "3871301e",
   "metadata": {
    "execution": {
     "iopub.execute_input": "2025-08-19T18:50:15.987705Z",
     "iopub.status.busy": "2025-08-19T18:50:15.986740Z",
     "iopub.status.idle": "2025-08-19T18:50:15.997777Z",
     "shell.execute_reply": "2025-08-19T18:50:15.996737Z"
    },
    "papermill": {
     "duration": 0.028395,
     "end_time": "2025-08-19T18:50:15.999160",
     "exception": false,
     "start_time": "2025-08-19T18:50:15.970765",
     "status": "completed"
    },
    "tags": []
   },
   "outputs": [
    {
     "data": {
      "text/plain": [
       "4"
      ]
     },
     "execution_count": 62,
     "metadata": {},
     "output_type": "execute_result"
    }
   ],
   "source": [
    "sub_universes = universe_analysis.generate_sub_universes()\n",
    "len(sub_universes)"
   ]
  },
  {
   "cell_type": "code",
   "execution_count": 63,
   "id": "d9cfdaca",
   "metadata": {
    "execution": {
     "iopub.execute_input": "2025-08-19T18:50:16.030799Z",
     "iopub.status.busy": "2025-08-19T18:50:16.029788Z",
     "iopub.status.idle": "2025-08-19T18:50:16.045975Z",
     "shell.execute_reply": "2025-08-19T18:50:16.044586Z"
    },
    "papermill": {
     "duration": 0.03267,
     "end_time": "2025-08-19T18:50:16.047388",
     "exception": false,
     "start_time": "2025-08-19T18:50:16.014718",
     "status": "completed"
    },
    "tags": []
   },
   "outputs": [],
   "source": [
    "def filter_sub_universe_data(sub_universe, org_test):\n",
    "    # Keep all rows — no filtering\n",
    "    keep_rows_mask = np.ones(org_test.shape[0], dtype=bool)\n",
    "\n",
    "    print(f\"[INFO] Keeping all rows: {keep_rows_mask.sum()} rows retained.\")\n",
    "    return keep_rows_mask"
   ]
  },
  {
   "cell_type": "code",
   "execution_count": 64,
   "id": "2bc31ac1",
   "metadata": {
    "execution": {
     "iopub.execute_input": "2025-08-19T18:50:16.078832Z",
     "iopub.status.busy": "2025-08-19T18:50:16.077459Z",
     "iopub.status.idle": "2025-08-19T18:50:22.728968Z",
     "shell.execute_reply": "2025-08-19T18:50:22.727929Z"
    },
    "papermill": {
     "duration": 6.669882,
     "end_time": "2025-08-19T18:50:22.731800",
     "exception": false,
     "start_time": "2025-08-19T18:50:16.061918",
     "status": "completed"
    },
    "tags": []
   },
   "outputs": [
    {
     "name": "stdout",
     "output_type": "stream",
     "text": [
      "Stopping execution_time clock.\n",
      "[INFO] Keeping all rows: 89710 rows retained.\n"
     ]
    },
    {
     "name": "stdout",
     "output_type": "stream",
     "text": [
      "[INFO] Keeping all rows: 89710 rows retained.\n"
     ]
    },
    {
     "name": "stdout",
     "output_type": "stream",
     "text": [
      "[INFO] Keeping all rows: 89710 rows retained.\n"
     ]
    },
    {
     "name": "stdout",
     "output_type": "stream",
     "text": [
      "[INFO] Keeping all rows: 89710 rows retained.\n"
     ]
    },
    {
     "data": {
      "text/html": [
       "<div>\n",
       "<style scoped>\n",
       "    .dataframe tbody tr th:only-of-type {\n",
       "        vertical-align: middle;\n",
       "    }\n",
       "\n",
       "    .dataframe tbody tr th {\n",
       "        vertical-align: top;\n",
       "    }\n",
       "\n",
       "    .dataframe thead th {\n",
       "        text-align: right;\n",
       "    }\n",
       "</style>\n",
       "<table border=\"1\" class=\"dataframe\">\n",
       "  <thead>\n",
       "    <tr style=\"text-align: right;\">\n",
       "      <th></th>\n",
       "      <th>run_no</th>\n",
       "      <th>universe_id</th>\n",
       "      <th>universe_settings</th>\n",
       "      <th>execution_time</th>\n",
       "      <th>test_size_n</th>\n",
       "      <th>test_size_frac</th>\n",
       "      <th>fair_main_equalized_odds_difference</th>\n",
       "      <th>fair_main_equalized_odds_ratio</th>\n",
       "      <th>fair_main_demographic_parity_difference</th>\n",
       "      <th>fair_main_demographic_parity_ratio</th>\n",
       "      <th>...</th>\n",
       "      <th>perf_grp_precision_0</th>\n",
       "      <th>perf_grp_precision_1</th>\n",
       "      <th>perf_grp_false positive rate_0</th>\n",
       "      <th>perf_grp_false positive rate_1</th>\n",
       "      <th>perf_grp_false negative rate_0</th>\n",
       "      <th>perf_grp_false negative rate_1</th>\n",
       "      <th>perf_grp_selection rate_0</th>\n",
       "      <th>perf_grp_selection rate_1</th>\n",
       "      <th>perf_grp_count_0</th>\n",
       "      <th>perf_grp_count_1</th>\n",
       "    </tr>\n",
       "  </thead>\n",
       "  <tbody>\n",
       "    <tr>\n",
       "      <th>0</th>\n",
       "      <td>3</td>\n",
       "      <td>6e1b383e2c05f954844ac8ca6da401ee</td>\n",
       "      <td>{\"cutoff\": \"quantile_0.1\", \"eval_fairness_grou...</td>\n",
       "      <td>22.51237</td>\n",
       "      <td>89710</td>\n",
       "      <td>1.0</td>\n",
       "      <td>0.079325</td>\n",
       "      <td>0.916605</td>\n",
       "      <td>0.070278</td>\n",
       "      <td>0.926348</td>\n",
       "      <td>...</td>\n",
       "      <td>NaN</td>\n",
       "      <td>NaN</td>\n",
       "      <td>NaN</td>\n",
       "      <td>NaN</td>\n",
       "      <td>NaN</td>\n",
       "      <td>NaN</td>\n",
       "      <td>NaN</td>\n",
       "      <td>NaN</td>\n",
       "      <td>NaN</td>\n",
       "      <td>NaN</td>\n",
       "    </tr>\n",
       "    <tr>\n",
       "      <th>0</th>\n",
       "      <td>3</td>\n",
       "      <td>6e1b383e2c05f954844ac8ca6da401ee</td>\n",
       "      <td>{\"cutoff\": \"quantile_0.1\", \"eval_fairness_grou...</td>\n",
       "      <td>22.51237</td>\n",
       "      <td>89710</td>\n",
       "      <td>1.0</td>\n",
       "      <td>0.079325</td>\n",
       "      <td>0.916605</td>\n",
       "      <td>0.070278</td>\n",
       "      <td>0.926348</td>\n",
       "      <td>...</td>\n",
       "      <td>0.118067</td>\n",
       "      <td>0.143965</td>\n",
       "      <td>0.951189</td>\n",
       "      <td>0.871864</td>\n",
       "      <td>0.022804</td>\n",
       "      <td>0.036980</td>\n",
       "      <td>0.954187</td>\n",
       "      <td>0.883909</td>\n",
       "      <td>20540.0</td>\n",
       "      <td>69170.0</td>\n",
       "    </tr>\n",
       "    <tr>\n",
       "      <th>0</th>\n",
       "      <td>3</td>\n",
       "      <td>6e1b383e2c05f954844ac8ca6da401ee</td>\n",
       "      <td>{\"cutoff\": \"quantile_0.25\", \"eval_fairness_gro...</td>\n",
       "      <td>22.51237</td>\n",
       "      <td>89710</td>\n",
       "      <td>1.0</td>\n",
       "      <td>0.100081</td>\n",
       "      <td>0.875790</td>\n",
       "      <td>0.087649</td>\n",
       "      <td>0.892794</td>\n",
       "      <td>...</td>\n",
       "      <td>NaN</td>\n",
       "      <td>NaN</td>\n",
       "      <td>NaN</td>\n",
       "      <td>NaN</td>\n",
       "      <td>NaN</td>\n",
       "      <td>NaN</td>\n",
       "      <td>NaN</td>\n",
       "      <td>NaN</td>\n",
       "      <td>NaN</td>\n",
       "      <td>NaN</td>\n",
       "    </tr>\n",
       "    <tr>\n",
       "      <th>0</th>\n",
       "      <td>3</td>\n",
       "      <td>6e1b383e2c05f954844ac8ca6da401ee</td>\n",
       "      <td>{\"cutoff\": \"quantile_0.25\", \"eval_fairness_gro...</td>\n",
       "      <td>22.51237</td>\n",
       "      <td>89710</td>\n",
       "      <td>1.0</td>\n",
       "      <td>0.100081</td>\n",
       "      <td>0.875790</td>\n",
       "      <td>0.087649</td>\n",
       "      <td>0.892794</td>\n",
       "      <td>...</td>\n",
       "      <td>0.128089</td>\n",
       "      <td>0.160986</td>\n",
       "      <td>0.805745</td>\n",
       "      <td>0.705664</td>\n",
       "      <td>0.091639</td>\n",
       "      <td>0.110722</td>\n",
       "      <td>0.817575</td>\n",
       "      <td>0.729926</td>\n",
       "      <td>20540.0</td>\n",
       "      <td>69170.0</td>\n",
       "    </tr>\n",
       "  </tbody>\n",
       "</table>\n",
       "<p>4 rows × 50 columns</p>\n",
       "</div>"
      ],
      "text/plain": [
       "  run_no                       universe_id  \\\n",
       "0      3  6e1b383e2c05f954844ac8ca6da401ee   \n",
       "0      3  6e1b383e2c05f954844ac8ca6da401ee   \n",
       "0      3  6e1b383e2c05f954844ac8ca6da401ee   \n",
       "0      3  6e1b383e2c05f954844ac8ca6da401ee   \n",
       "\n",
       "                                   universe_settings  execution_time  \\\n",
       "0  {\"cutoff\": \"quantile_0.1\", \"eval_fairness_grou...        22.51237   \n",
       "0  {\"cutoff\": \"quantile_0.1\", \"eval_fairness_grou...        22.51237   \n",
       "0  {\"cutoff\": \"quantile_0.25\", \"eval_fairness_gro...        22.51237   \n",
       "0  {\"cutoff\": \"quantile_0.25\", \"eval_fairness_gro...        22.51237   \n",
       "\n",
       "   test_size_n  test_size_frac  fair_main_equalized_odds_difference  \\\n",
       "0        89710             1.0                             0.079325   \n",
       "0        89710             1.0                             0.079325   \n",
       "0        89710             1.0                             0.100081   \n",
       "0        89710             1.0                             0.100081   \n",
       "\n",
       "   fair_main_equalized_odds_ratio  fair_main_demographic_parity_difference  \\\n",
       "0                        0.916605                                 0.070278   \n",
       "0                        0.916605                                 0.070278   \n",
       "0                        0.875790                                 0.087649   \n",
       "0                        0.875790                                 0.087649   \n",
       "\n",
       "   fair_main_demographic_parity_ratio  ...  perf_grp_precision_0  \\\n",
       "0                            0.926348  ...                   NaN   \n",
       "0                            0.926348  ...              0.118067   \n",
       "0                            0.892794  ...                   NaN   \n",
       "0                            0.892794  ...              0.128089   \n",
       "\n",
       "   perf_grp_precision_1  perf_grp_false positive rate_0  \\\n",
       "0                   NaN                             NaN   \n",
       "0              0.143965                        0.951189   \n",
       "0                   NaN                             NaN   \n",
       "0              0.160986                        0.805745   \n",
       "\n",
       "   perf_grp_false positive rate_1  perf_grp_false negative rate_0  \\\n",
       "0                             NaN                             NaN   \n",
       "0                        0.871864                        0.022804   \n",
       "0                             NaN                             NaN   \n",
       "0                        0.705664                        0.091639   \n",
       "\n",
       "   perf_grp_false negative rate_1  perf_grp_selection rate_0  \\\n",
       "0                             NaN                        NaN   \n",
       "0                        0.036980                   0.954187   \n",
       "0                             NaN                        NaN   \n",
       "0                        0.110722                   0.817575   \n",
       "\n",
       "   perf_grp_selection rate_1  perf_grp_count_0  perf_grp_count_1  \n",
       "0                        NaN               NaN               NaN  \n",
       "0                   0.883909           20540.0           69170.0  \n",
       "0                        NaN               NaN               NaN  \n",
       "0                   0.729926           20540.0           69170.0  \n",
       "\n",
       "[4 rows x 50 columns]"
      ]
     },
     "execution_count": 64,
     "metadata": {},
     "output_type": "execute_result"
    }
   ],
   "source": [
    "final_output = universe_analysis.generate_final_output(\n",
    "    y_pred_prob=probs_test,\n",
    "    y_test=y_true,\n",
    "    org_test=org_test,\n",
    "    filter_data=filter_sub_universe_data,\n",
    "    cp_metrics_df=cp_metrics_df,\n",
    "    save=True,\n",
    ")\n",
    "final_output"
   ]
  },
  {
   "cell_type": "code",
   "execution_count": null,
   "id": "8b80a1ff",
   "metadata": {
    "papermill": {
     "duration": 0.025194,
     "end_time": "2025-08-19T18:50:22.817032",
     "exception": false,
     "start_time": "2025-08-19T18:50:22.791838",
     "status": "completed"
    },
    "tags": []
   },
   "outputs": [],
   "source": []
  },
  {
   "cell_type": "code",
   "execution_count": null,
   "id": "275c9fad",
   "metadata": {
    "papermill": {
     "duration": 0.014473,
     "end_time": "2025-08-19T18:50:22.846420",
     "exception": false,
     "start_time": "2025-08-19T18:50:22.831947",
     "status": "completed"
    },
    "tags": []
   },
   "outputs": [],
   "source": []
  }
 ],
 "metadata": {
  "celltoolbar": "Tags",
  "kernelspec": {
   "display_name": "Python (CMA Fairness)",
   "language": "python",
   "name": "cma_fair_env"
  },
  "language_info": {
   "codemirror_mode": {
    "name": "ipython",
    "version": 3
   },
   "file_extension": ".py",
   "mimetype": "text/x-python",
   "name": "python",
   "nbconvert_exporter": "python",
   "pygments_lexer": "ipython3",
   "version": "3.10.12"
  },
  "papermill": {
   "default_parameters": {},
   "duration": 32.992879,
   "end_time": "2025-08-19T18:50:23.691938",
   "environment_variables": {},
   "exception": null,
   "input_path": "universe_analysis.ipynb",
   "output_path": "output/runs/3/notebooks/m_3-6e1b383e2c05f954844ac8ca6da401ee.ipynb",
   "parameters": {
    "output_dir": "output",
    "run_no": "3",
    "seed": "2023",
    "universe": "{\"cutoff\": [\"quantile_0.1\", \"quantile_0.25\"], \"eval_fairness_grouping\": [\"majority-minority\", \"nationality-all\"], \"exclude_features\": \"age\", \"exclude_subgroups\": \"keep-all\", \"model\": \"penalized_logreg\", \"scale\": \"scale\", \"training_size\": \"1k\", \"training_year\": \"2014\"}",
    "universe_id": "6e1b383e2c05f954844ac8ca6da401ee"
   },
   "start_time": "2025-08-19T18:49:50.699059",
   "version": "2.6.0"
  }
 },
 "nbformat": 4,
 "nbformat_minor": 5
}