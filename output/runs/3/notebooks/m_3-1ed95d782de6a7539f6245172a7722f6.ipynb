{
 "cells": [
  {
   "cell_type": "markdown",
   "id": "ef23dbb3",
   "metadata": {
    "papermill": {
     "duration": 0.022233,
     "end_time": "2025-08-19T18:56:00.866928",
     "exception": false,
     "start_time": "2025-08-19T18:56:00.844695",
     "status": "completed"
    },
    "tags": []
   },
   "source": [
    "# Setup"
   ]
  },
  {
   "cell_type": "code",
   "execution_count": 1,
   "id": "0bc8e7dc",
   "metadata": {
    "execution": {
     "iopub.execute_input": "2025-08-19T18:56:00.888748Z",
     "iopub.status.busy": "2025-08-19T18:56:00.888302Z",
     "iopub.status.idle": "2025-08-19T18:56:00.897592Z",
     "shell.execute_reply": "2025-08-19T18:56:00.896822Z"
    },
    "papermill": {
     "duration": 0.025699,
     "end_time": "2025-08-19T18:56:00.904362",
     "exception": false,
     "start_time": "2025-08-19T18:56:00.878663",
     "status": "completed"
    },
    "tags": []
   },
   "outputs": [
    {
     "name": "stdout",
     "output_type": "stream",
     "text": [
      "/dss/dsshome1/0C/ra93lal2/cma/CMA_Fairness_v2\n"
     ]
    },
    {
     "name": "stderr",
     "output_type": "stream",
     "text": [
      "/dss/dsshome1/0C/ra93lal2/.local/share/virtualenvs/CMA_Fairness_v2-3j10GkSs/lib/python3.10/site-packages/IPython/core/magics/osm.py:393: UserWarning: This is now an optional IPython functionality, using bookmarks requires you to install the `pickleshare` library.\n",
      "  bkms = self.shell.db.get('bookmarks', {})\n",
      "/dss/dsshome1/0C/ra93lal2/.local/share/virtualenvs/CMA_Fairness_v2-3j10GkSs/lib/python3.10/site-packages/IPython/core/magics/osm.py:417: UserWarning: This is now an optional IPython functionality, setting dhist requires you to install the `pickleshare` library.\n",
      "  self.shell.db['dhist'] = compress_dhist(dhist)[-100:]\n"
     ]
    }
   ],
   "source": [
    "%cd ~/cma/CMA_Fairness_v2"
   ]
  },
  {
   "cell_type": "markdown",
   "id": "9d235661",
   "metadata": {
    "papermill": {
     "duration": 0.010518,
     "end_time": "2025-08-19T18:56:00.932869",
     "exception": false,
     "start_time": "2025-08-19T18:56:00.922351",
     "status": "completed"
    },
    "tags": []
   },
   "source": [
    "The following cell holds the definition of our parameters, these values can be overriden by rendering the with e.g. the following command:\n",
    "\n",
    "papermill -p alpha 0.2 -p ratio 0.3 universe_analysis.ipynb output/test_run.ipynb"
   ]
  },
  {
   "cell_type": "code",
   "execution_count": 2,
   "id": "4a789d8e",
   "metadata": {
    "execution": {
     "iopub.execute_input": "2025-08-19T18:56:00.953414Z",
     "iopub.status.busy": "2025-08-19T18:56:00.952132Z",
     "iopub.status.idle": "2025-08-19T18:56:00.959384Z",
     "shell.execute_reply": "2025-08-19T18:56:00.958136Z"
    },
    "papermill": {
     "duration": 0.019108,
     "end_time": "2025-08-19T18:56:00.960771",
     "exception": false,
     "start_time": "2025-08-19T18:56:00.941663",
     "status": "completed"
    },
    "tags": []
   },
   "outputs": [
    {
     "name": "stdout",
     "output_type": "stream",
     "text": [
      "Current working directory: /dss/dsshome1/0C/ra93lal2/cma/CMA_Fairness_v2\n"
     ]
    }
   ],
   "source": [
    "import os\n",
    "print(\"Current working directory:\", os.getcwd())"
   ]
  },
  {
   "cell_type": "code",
   "execution_count": 3,
   "id": "4132aaed",
   "metadata": {
    "execution": {
     "iopub.execute_input": "2025-08-19T18:56:00.981845Z",
     "iopub.status.busy": "2025-08-19T18:56:00.980957Z",
     "iopub.status.idle": "2025-08-19T18:56:00.989777Z",
     "shell.execute_reply": "2025-08-19T18:56:00.988441Z"
    },
    "papermill": {
     "duration": 0.020716,
     "end_time": "2025-08-19T18:56:00.991423",
     "exception": false,
     "start_time": "2025-08-19T18:56:00.970707",
     "status": "completed"
    },
    "tags": [
     "parameters"
    ]
   },
   "outputs": [],
   "source": [
    "run_no = 0\n",
    "universe_id = \"test\"\n",
    "universe = {\n",
    "    \"training_size\": \"5k\", # \"25k\", \"5k\", \"1k\"\n",
    "    \"training_year\": \"2012_14\", # \"2014\", \"2012_14\", \"2010_14\"\n",
    "    \"scale\": \"scale\", # \"scale\", \"do-not-scale\",\n",
    "    \"model\": \"elasticnet\", # \"logreg\", \"penalized_logreg\", \"rf\", \"gbm\", \"elasticnet\"\n",
    "    \"cutoff\": [\"quantile_0.15\", \"quantile_0.30\"],\n",
    "    \"exclude_features\": \"age\", # \"none\", \"nationality\", \"sex\", \"nationality-sex\", \"age\"\n",
    "    \"exclude_subgroups\": \"drop-non-german\", # \"keep-all\", \"drop-non-german\"\n",
    "    \"eval_fairness_grouping\": [\"majority-minority\", \"nationality-all\"]\n",
    "}\n",
    "\n",
    "output_dir=\"./output\"\n",
    "seed=0"
   ]
  },
  {
   "cell_type": "code",
   "execution_count": 4,
   "id": "2882247c",
   "metadata": {
    "execution": {
     "iopub.execute_input": "2025-08-19T18:56:01.015072Z",
     "iopub.status.busy": "2025-08-19T18:56:01.013888Z",
     "iopub.status.idle": "2025-08-19T18:56:01.021675Z",
     "shell.execute_reply": "2025-08-19T18:56:01.020319Z"
    },
    "papermill": {
     "duration": 0.020145,
     "end_time": "2025-08-19T18:56:01.023135",
     "exception": false,
     "start_time": "2025-08-19T18:56:01.002990",
     "status": "completed"
    },
    "tags": [
     "injected-parameters"
    ]
   },
   "outputs": [],
   "source": [
    "# Parameters\n",
    "universe_id = \"1ed95d782de6a7539f6245172a7722f6\"\n",
    "run_no = \"3\"\n",
    "universe = \"{\\\"cutoff\\\": [\\\"quantile_0.1\\\", \\\"quantile_0.25\\\"], \\\"eval_fairness_grouping\\\": [\\\"majority-minority\\\", \\\"nationality-all\\\"], \\\"exclude_features\\\": \\\"sex\\\", \\\"exclude_subgroups\\\": \\\"keep-all\\\", \\\"model\\\": \\\"elasticnet\\\", \\\"scale\\\": \\\"do-not-scale\\\", \\\"training_size\\\": \\\"1k\\\", \\\"training_year\\\": \\\"2014\\\"}\"\n",
    "output_dir = \"output\"\n",
    "seed = \"2023\"\n"
   ]
  },
  {
   "cell_type": "code",
   "execution_count": 5,
   "id": "a5d7941f",
   "metadata": {
    "execution": {
     "iopub.execute_input": "2025-08-19T18:56:01.044424Z",
     "iopub.status.busy": "2025-08-19T18:56:01.043470Z",
     "iopub.status.idle": "2025-08-19T18:56:01.050148Z",
     "shell.execute_reply": "2025-08-19T18:56:01.048938Z"
    },
    "papermill": {
     "duration": 0.01833,
     "end_time": "2025-08-19T18:56:01.051555",
     "exception": false,
     "start_time": "2025-08-19T18:56:01.033225",
     "status": "completed"
    },
    "tags": []
   },
   "outputs": [],
   "source": [
    "import json\n",
    "if isinstance(universe, str):\n",
    "    universe = json.loads(universe)"
   ]
  },
  {
   "cell_type": "code",
   "execution_count": 6,
   "id": "7076ccb1",
   "metadata": {
    "execution": {
     "iopub.execute_input": "2025-08-19T18:56:01.072757Z",
     "iopub.status.busy": "2025-08-19T18:56:01.071813Z",
     "iopub.status.idle": "2025-08-19T18:56:01.120739Z",
     "shell.execute_reply": "2025-08-19T18:56:01.119760Z"
    },
    "papermill": {
     "duration": 0.062462,
     "end_time": "2025-08-19T18:56:01.123797",
     "exception": false,
     "start_time": "2025-08-19T18:56:01.061335",
     "status": "completed"
    },
    "tags": []
   },
   "outputs": [],
   "source": [
    "# Auto-reload the custom package\n",
    "%load_ext autoreload\n",
    "%autoreload 1\n",
    "%aimport fairness_multiverse"
   ]
  },
  {
   "cell_type": "code",
   "execution_count": 7,
   "id": "94c8eb93",
   "metadata": {
    "execution": {
     "iopub.execute_input": "2025-08-19T18:56:01.171828Z",
     "iopub.status.busy": "2025-08-19T18:56:01.170467Z",
     "iopub.status.idle": "2025-08-19T18:56:02.621719Z",
     "shell.execute_reply": "2025-08-19T18:56:02.620339Z"
    },
    "papermill": {
     "duration": 1.465751,
     "end_time": "2025-08-19T18:56:02.625401",
     "exception": false,
     "start_time": "2025-08-19T18:56:01.159650",
     "status": "completed"
    },
    "tags": []
   },
   "outputs": [],
   "source": [
    "from fairness_multiverse.universe import UniverseAnalysis\n",
    "\n",
    "universe_analysis = UniverseAnalysis(\n",
    "    run_no = run_no,\n",
    "    universe_id = universe_id,\n",
    "    universe = universe,\n",
    "    output_dir=output_dir,\n",
    ")"
   ]
  },
  {
   "cell_type": "code",
   "execution_count": 8,
   "id": "2a6381cf",
   "metadata": {
    "execution": {
     "iopub.execute_input": "2025-08-19T18:56:02.661417Z",
     "iopub.status.busy": "2025-08-19T18:56:02.660424Z",
     "iopub.status.idle": "2025-08-19T18:56:02.669799Z",
     "shell.execute_reply": "2025-08-19T18:56:02.668520Z"
    },
    "papermill": {
     "duration": 0.024185,
     "end_time": "2025-08-19T18:56:02.671285",
     "exception": false,
     "start_time": "2025-08-19T18:56:02.647100",
     "status": "completed"
    },
    "tags": []
   },
   "outputs": [
    {
     "name": "stdout",
     "output_type": "stream",
     "text": [
      "Using Seed: 2023\n"
     ]
    }
   ],
   "source": [
    "import numpy as np\n",
    "parsed_seed = int(seed)\n",
    "np.random.seed(parsed_seed)\n",
    "print(f\"Using Seed: {parsed_seed}\")"
   ]
  },
  {
   "cell_type": "markdown",
   "id": "b6e958b4",
   "metadata": {
    "papermill": {
     "duration": 0.009036,
     "end_time": "2025-08-19T18:56:02.690183",
     "exception": false,
     "start_time": "2025-08-19T18:56:02.681147",
     "status": "completed"
    },
    "tags": []
   },
   "source": [
    "# Loading Data"
   ]
  },
  {
   "cell_type": "code",
   "execution_count": 9,
   "id": "98701482",
   "metadata": {
    "execution": {
     "iopub.execute_input": "2025-08-19T18:56:02.713265Z",
     "iopub.status.busy": "2025-08-19T18:56:02.712118Z",
     "iopub.status.idle": "2025-08-19T18:56:12.912637Z",
     "shell.execute_reply": "2025-08-19T18:56:12.911580Z"
    },
    "papermill": {
     "duration": 10.214769,
     "end_time": "2025-08-19T18:56:12.913925",
     "exception": false,
     "start_time": "2025-08-19T18:56:02.699156",
     "status": "completed"
    },
    "tags": []
   },
   "outputs": [
    {
     "name": "stdout",
     "output_type": "stream",
     "text": [
      "Loading SIAB data from cache: data/siab_cached.csv.gz\n"
     ]
    },
    {
     "name": "stdout",
     "output_type": "stream",
     "text": [
      "(643690, 164)\n"
     ]
    }
   ],
   "source": [
    "from pathlib import Path\n",
    "import pandas as pd\n",
    "\n",
    "# File paths\n",
    "raw_file = Path(\"data/raw/siab.csv\")\n",
    "cache_file = Path(\"data/siab_cached.csv.gz\")\n",
    "\n",
    "# Ensure cache directory exists\n",
    "cache_file.parent.mkdir(parents=True, exist_ok=True)\n",
    "\n",
    "# Load with simple caching\n",
    "if cache_file.exists():\n",
    "    print(f\"Loading SIAB data from cache: {cache_file}\")\n",
    "    siab = pd.read_csv(cache_file, compression='gzip')\n",
    "else:\n",
    "    print(f\"Cache not found. Reading raw SIAB data: {raw_file}\")\n",
    "    siab = pd.read_csv(raw_file)\n",
    "    siab.to_csv(cache_file, index=False, compression='gzip')\n",
    "    print(f\"Cached SIAB data to: {cache_file}\")\n",
    "\n",
    "print(siab.shape)"
   ]
  },
  {
   "cell_type": "code",
   "execution_count": 10,
   "id": "058d2abb",
   "metadata": {
    "execution": {
     "iopub.execute_input": "2025-08-19T18:56:12.938050Z",
     "iopub.status.busy": "2025-08-19T18:56:12.937257Z",
     "iopub.status.idle": "2025-08-19T18:56:13.141825Z",
     "shell.execute_reply": "2025-08-19T18:56:13.140771Z"
    },
    "papermill": {
     "duration": 0.218811,
     "end_time": "2025-08-19T18:56:13.145315",
     "exception": false,
     "start_time": "2025-08-19T18:56:12.926504",
     "status": "completed"
    },
    "tags": []
   },
   "outputs": [
    {
     "data": {
      "text/html": [
       "<div>\n",
       "<style scoped>\n",
       "    .dataframe tbody tr th:only-of-type {\n",
       "        vertical-align: middle;\n",
       "    }\n",
       "\n",
       "    .dataframe tbody tr th {\n",
       "        vertical-align: top;\n",
       "    }\n",
       "\n",
       "    .dataframe thead th {\n",
       "        text-align: right;\n",
       "    }\n",
       "</style>\n",
       "<table border=\"1\" class=\"dataframe\">\n",
       "  <thead>\n",
       "    <tr style=\"text-align: right;\">\n",
       "      <th></th>\n",
       "      <th>persnr</th>\n",
       "      <th>year</th>\n",
       "      <th>nrEntry</th>\n",
       "      <th>ltue</th>\n",
       "      <th>employed_before</th>\n",
       "      <th>receipt_leh_before</th>\n",
       "      <th>receipt_lhg_before</th>\n",
       "      <th>se_before</th>\n",
       "      <th>ASU_notue_seeking_before</th>\n",
       "      <th>ASU_other_before</th>\n",
       "      <th>...</th>\n",
       "      <th>minijob_tot_dur_byage</th>\n",
       "      <th>ft_tot_dur_byage</th>\n",
       "      <th>befrist_tot_dur_byage</th>\n",
       "      <th>leih_tot_dur_byage</th>\n",
       "      <th>LHG_tot_dur_byage</th>\n",
       "      <th>LEH_tot_dur_byage</th>\n",
       "      <th>almp_tot_dur_byage</th>\n",
       "      <th>almp_aw_tot_dur_byage</th>\n",
       "      <th>se_tot_dur_byage</th>\n",
       "      <th>seeking1_tot_dur_byage</th>\n",
       "    </tr>\n",
       "  </thead>\n",
       "  <tbody>\n",
       "    <tr>\n",
       "      <th>0</th>\n",
       "      <td>7</td>\n",
       "      <td>2015</td>\n",
       "      <td>1</td>\n",
       "      <td>0</td>\n",
       "      <td>1</td>\n",
       "      <td>0</td>\n",
       "      <td>0</td>\n",
       "      <td>0</td>\n",
       "      <td>1</td>\n",
       "      <td>0</td>\n",
       "      <td>...</td>\n",
       "      <td>0.000000</td>\n",
       "      <td>0.000000</td>\n",
       "      <td>15.043478</td>\n",
       "      <td>0.000000</td>\n",
       "      <td>0.000000</td>\n",
       "      <td>0.000000</td>\n",
       "      <td>0.000000</td>\n",
       "      <td>0.000000</td>\n",
       "      <td>0.000000</td>\n",
       "      <td>0.000000</td>\n",
       "    </tr>\n",
       "    <tr>\n",
       "      <th>1</th>\n",
       "      <td>18</td>\n",
       "      <td>2010</td>\n",
       "      <td>1</td>\n",
       "      <td>1</td>\n",
       "      <td>0</td>\n",
       "      <td>0</td>\n",
       "      <td>0</td>\n",
       "      <td>0</td>\n",
       "      <td>0</td>\n",
       "      <td>0</td>\n",
       "      <td>...</td>\n",
       "      <td>0.000000</td>\n",
       "      <td>0.000000</td>\n",
       "      <td>0.000000</td>\n",
       "      <td>0.000000</td>\n",
       "      <td>0.000000</td>\n",
       "      <td>0.000000</td>\n",
       "      <td>0.000000</td>\n",
       "      <td>0.000000</td>\n",
       "      <td>0.000000</td>\n",
       "      <td>0.000000</td>\n",
       "    </tr>\n",
       "    <tr>\n",
       "      <th>2</th>\n",
       "      <td>18</td>\n",
       "      <td>2011</td>\n",
       "      <td>2</td>\n",
       "      <td>0</td>\n",
       "      <td>1</td>\n",
       "      <td>0</td>\n",
       "      <td>1</td>\n",
       "      <td>0</td>\n",
       "      <td>1</td>\n",
       "      <td>0</td>\n",
       "      <td>...</td>\n",
       "      <td>2.714286</td>\n",
       "      <td>2.714286</td>\n",
       "      <td>0.000000</td>\n",
       "      <td>0.000000</td>\n",
       "      <td>10.775510</td>\n",
       "      <td>0.000000</td>\n",
       "      <td>8.367347</td>\n",
       "      <td>0.000000</td>\n",
       "      <td>0.000000</td>\n",
       "      <td>9.836735</td>\n",
       "    </tr>\n",
       "    <tr>\n",
       "      <th>3</th>\n",
       "      <td>18</td>\n",
       "      <td>2012</td>\n",
       "      <td>3</td>\n",
       "      <td>0</td>\n",
       "      <td>1</td>\n",
       "      <td>0</td>\n",
       "      <td>1</td>\n",
       "      <td>0</td>\n",
       "      <td>1</td>\n",
       "      <td>0</td>\n",
       "      <td>...</td>\n",
       "      <td>4.200000</td>\n",
       "      <td>4.200000</td>\n",
       "      <td>0.000000</td>\n",
       "      <td>0.000000</td>\n",
       "      <td>12.100000</td>\n",
       "      <td>0.000000</td>\n",
       "      <td>9.400000</td>\n",
       "      <td>0.000000</td>\n",
       "      <td>0.000000</td>\n",
       "      <td>9.960000</td>\n",
       "    </tr>\n",
       "    <tr>\n",
       "      <th>4</th>\n",
       "      <td>18</td>\n",
       "      <td>2012</td>\n",
       "      <td>4</td>\n",
       "      <td>0</td>\n",
       "      <td>1</td>\n",
       "      <td>0</td>\n",
       "      <td>1</td>\n",
       "      <td>0</td>\n",
       "      <td>1</td>\n",
       "      <td>0</td>\n",
       "      <td>...</td>\n",
       "      <td>5.460000</td>\n",
       "      <td>5.460000</td>\n",
       "      <td>0.000000</td>\n",
       "      <td>0.000000</td>\n",
       "      <td>13.360000</td>\n",
       "      <td>0.000000</td>\n",
       "      <td>10.320000</td>\n",
       "      <td>0.000000</td>\n",
       "      <td>0.000000</td>\n",
       "      <td>10.280000</td>\n",
       "    </tr>\n",
       "    <tr>\n",
       "      <th>...</th>\n",
       "      <td>...</td>\n",
       "      <td>...</td>\n",
       "      <td>...</td>\n",
       "      <td>...</td>\n",
       "      <td>...</td>\n",
       "      <td>...</td>\n",
       "      <td>...</td>\n",
       "      <td>...</td>\n",
       "      <td>...</td>\n",
       "      <td>...</td>\n",
       "      <td>...</td>\n",
       "      <td>...</td>\n",
       "      <td>...</td>\n",
       "      <td>...</td>\n",
       "      <td>...</td>\n",
       "      <td>...</td>\n",
       "      <td>...</td>\n",
       "      <td>...</td>\n",
       "      <td>...</td>\n",
       "      <td>...</td>\n",
       "      <td>...</td>\n",
       "    </tr>\n",
       "    <tr>\n",
       "      <th>643685</th>\n",
       "      <td>1827860</td>\n",
       "      <td>2013</td>\n",
       "      <td>1</td>\n",
       "      <td>0</td>\n",
       "      <td>0</td>\n",
       "      <td>0</td>\n",
       "      <td>1</td>\n",
       "      <td>0</td>\n",
       "      <td>0</td>\n",
       "      <td>1</td>\n",
       "      <td>...</td>\n",
       "      <td>0.000000</td>\n",
       "      <td>0.000000</td>\n",
       "      <td>0.000000</td>\n",
       "      <td>0.000000</td>\n",
       "      <td>0.612903</td>\n",
       "      <td>0.000000</td>\n",
       "      <td>0.000000</td>\n",
       "      <td>0.000000</td>\n",
       "      <td>0.000000</td>\n",
       "      <td>0.000000</td>\n",
       "    </tr>\n",
       "    <tr>\n",
       "      <th>643686</th>\n",
       "      <td>1827860</td>\n",
       "      <td>2015</td>\n",
       "      <td>2</td>\n",
       "      <td>1</td>\n",
       "      <td>0</td>\n",
       "      <td>0</td>\n",
       "      <td>1</td>\n",
       "      <td>0</td>\n",
       "      <td>1</td>\n",
       "      <td>0</td>\n",
       "      <td>...</td>\n",
       "      <td>0.000000</td>\n",
       "      <td>0.000000</td>\n",
       "      <td>0.212121</td>\n",
       "      <td>0.212121</td>\n",
       "      <td>17.363636</td>\n",
       "      <td>0.000000</td>\n",
       "      <td>8.909091</td>\n",
       "      <td>0.000000</td>\n",
       "      <td>0.000000</td>\n",
       "      <td>7.121212</td>\n",
       "    </tr>\n",
       "    <tr>\n",
       "      <th>643687</th>\n",
       "      <td>1827860</td>\n",
       "      <td>2016</td>\n",
       "      <td>3</td>\n",
       "      <td>1</td>\n",
       "      <td>0</td>\n",
       "      <td>0</td>\n",
       "      <td>1</td>\n",
       "      <td>1</td>\n",
       "      <td>0</td>\n",
       "      <td>1</td>\n",
       "      <td>...</td>\n",
       "      <td>0.000000</td>\n",
       "      <td>0.000000</td>\n",
       "      <td>0.294118</td>\n",
       "      <td>0.205882</td>\n",
       "      <td>34.705882</td>\n",
       "      <td>0.000000</td>\n",
       "      <td>10.352941</td>\n",
       "      <td>1.705882</td>\n",
       "      <td>1.705882</td>\n",
       "      <td>23.911765</td>\n",
       "    </tr>\n",
       "    <tr>\n",
       "      <th>643688</th>\n",
       "      <td>1827869</td>\n",
       "      <td>2013</td>\n",
       "      <td>1</td>\n",
       "      <td>1</td>\n",
       "      <td>1</td>\n",
       "      <td>0</td>\n",
       "      <td>0</td>\n",
       "      <td>0</td>\n",
       "      <td>1</td>\n",
       "      <td>0</td>\n",
       "      <td>...</td>\n",
       "      <td>0.000000</td>\n",
       "      <td>0.000000</td>\n",
       "      <td>0.000000</td>\n",
       "      <td>0.000000</td>\n",
       "      <td>0.000000</td>\n",
       "      <td>0.525424</td>\n",
       "      <td>0.000000</td>\n",
       "      <td>0.000000</td>\n",
       "      <td>0.000000</td>\n",
       "      <td>0.000000</td>\n",
       "    </tr>\n",
       "    <tr>\n",
       "      <th>643689</th>\n",
       "      <td>1827869</td>\n",
       "      <td>2014</td>\n",
       "      <td>2</td>\n",
       "      <td>0</td>\n",
       "      <td>0</td>\n",
       "      <td>1</td>\n",
       "      <td>0</td>\n",
       "      <td>0</td>\n",
       "      <td>1</td>\n",
       "      <td>0</td>\n",
       "      <td>...</td>\n",
       "      <td>0.000000</td>\n",
       "      <td>0.666667</td>\n",
       "      <td>0.666667</td>\n",
       "      <td>0.000000</td>\n",
       "      <td>0.000000</td>\n",
       "      <td>8.950000</td>\n",
       "      <td>1.033333</td>\n",
       "      <td>0.083333</td>\n",
       "      <td>0.083333</td>\n",
       "      <td>8.133333</td>\n",
       "    </tr>\n",
       "  </tbody>\n",
       "</table>\n",
       "<p>643690 rows × 164 columns</p>\n",
       "</div>"
      ],
      "text/plain": [
       "         persnr  year  nrEntry  ltue  employed_before  receipt_leh_before  \\\n",
       "0             7  2015        1     0                1                   0   \n",
       "1            18  2010        1     1                0                   0   \n",
       "2            18  2011        2     0                1                   0   \n",
       "3            18  2012        3     0                1                   0   \n",
       "4            18  2012        4     0                1                   0   \n",
       "...         ...   ...      ...   ...              ...                 ...   \n",
       "643685  1827860  2013        1     0                0                   0   \n",
       "643686  1827860  2015        2     1                0                   0   \n",
       "643687  1827860  2016        3     1                0                   0   \n",
       "643688  1827869  2013        1     1                1                   0   \n",
       "643689  1827869  2014        2     0                0                   1   \n",
       "\n",
       "        receipt_lhg_before  se_before  ASU_notue_seeking_before  \\\n",
       "0                        0          0                         1   \n",
       "1                        0          0                         0   \n",
       "2                        1          0                         1   \n",
       "3                        1          0                         1   \n",
       "4                        1          0                         1   \n",
       "...                    ...        ...                       ...   \n",
       "643685                   1          0                         0   \n",
       "643686                   1          0                         1   \n",
       "643687                   1          1                         0   \n",
       "643688                   0          0                         1   \n",
       "643689                   0          0                         1   \n",
       "\n",
       "        ASU_other_before  ...  minijob_tot_dur_byage  ft_tot_dur_byage  \\\n",
       "0                      0  ...               0.000000          0.000000   \n",
       "1                      0  ...               0.000000          0.000000   \n",
       "2                      0  ...               2.714286          2.714286   \n",
       "3                      0  ...               4.200000          4.200000   \n",
       "4                      0  ...               5.460000          5.460000   \n",
       "...                  ...  ...                    ...               ...   \n",
       "643685                 1  ...               0.000000          0.000000   \n",
       "643686                 0  ...               0.000000          0.000000   \n",
       "643687                 1  ...               0.000000          0.000000   \n",
       "643688                 0  ...               0.000000          0.000000   \n",
       "643689                 0  ...               0.000000          0.666667   \n",
       "\n",
       "        befrist_tot_dur_byage  leih_tot_dur_byage  LHG_tot_dur_byage  \\\n",
       "0                   15.043478            0.000000           0.000000   \n",
       "1                    0.000000            0.000000           0.000000   \n",
       "2                    0.000000            0.000000          10.775510   \n",
       "3                    0.000000            0.000000          12.100000   \n",
       "4                    0.000000            0.000000          13.360000   \n",
       "...                       ...                 ...                ...   \n",
       "643685               0.000000            0.000000           0.612903   \n",
       "643686               0.212121            0.212121          17.363636   \n",
       "643687               0.294118            0.205882          34.705882   \n",
       "643688               0.000000            0.000000           0.000000   \n",
       "643689               0.666667            0.000000           0.000000   \n",
       "\n",
       "        LEH_tot_dur_byage  almp_tot_dur_byage  almp_aw_tot_dur_byage  \\\n",
       "0                0.000000            0.000000               0.000000   \n",
       "1                0.000000            0.000000               0.000000   \n",
       "2                0.000000            8.367347               0.000000   \n",
       "3                0.000000            9.400000               0.000000   \n",
       "4                0.000000           10.320000               0.000000   \n",
       "...                   ...                 ...                    ...   \n",
       "643685           0.000000            0.000000               0.000000   \n",
       "643686           0.000000            8.909091               0.000000   \n",
       "643687           0.000000           10.352941               1.705882   \n",
       "643688           0.525424            0.000000               0.000000   \n",
       "643689           8.950000            1.033333               0.083333   \n",
       "\n",
       "        se_tot_dur_byage  seeking1_tot_dur_byage  \n",
       "0               0.000000                0.000000  \n",
       "1               0.000000                0.000000  \n",
       "2               0.000000                9.836735  \n",
       "3               0.000000                9.960000  \n",
       "4               0.000000               10.280000  \n",
       "...                  ...                     ...  \n",
       "643685          0.000000                0.000000  \n",
       "643686          0.000000                7.121212  \n",
       "643687          1.705882               23.911765  \n",
       "643688          0.000000                0.000000  \n",
       "643689          0.083333                8.133333  \n",
       "\n",
       "[643690 rows x 164 columns]"
      ]
     },
     "execution_count": 10,
     "metadata": {},
     "output_type": "execute_result"
    }
   ],
   "source": [
    "siab"
   ]
  },
  {
   "cell_type": "markdown",
   "id": "1f87e805",
   "metadata": {
    "papermill": {
     "duration": 0.010666,
     "end_time": "2025-08-19T18:56:13.175303",
     "exception": false,
     "start_time": "2025-08-19T18:56:13.164637",
     "status": "completed"
    },
    "tags": []
   },
   "source": [
    "# Splitting Data and Setting Training Data Size"
   ]
  },
  {
   "cell_type": "code",
   "execution_count": 11,
   "id": "910ae358",
   "metadata": {
    "execution": {
     "iopub.execute_input": "2025-08-19T18:56:13.197167Z",
     "iopub.status.busy": "2025-08-19T18:56:13.196179Z",
     "iopub.status.idle": "2025-08-19T18:56:13.438226Z",
     "shell.execute_reply": "2025-08-19T18:56:13.437432Z"
    },
    "papermill": {
     "duration": 0.254765,
     "end_time": "2025-08-19T18:56:13.439731",
     "exception": false,
     "start_time": "2025-08-19T18:56:13.184966",
     "status": "completed"
    },
    "tags": []
   },
   "outputs": [],
   "source": [
    "from fairness_multiverse.universe import sample_by_year_size\n",
    "\n",
    "siab_train = sample_by_year_size(siab,\n",
    "                               training_year=universe[\"training_year\"],\n",
    "                               training_size=universe[\"training_size\"])"
   ]
  },
  {
   "cell_type": "code",
   "execution_count": 12,
   "id": "919c8ff5",
   "metadata": {
    "execution": {
     "iopub.execute_input": "2025-08-19T18:56:13.461774Z",
     "iopub.status.busy": "2025-08-19T18:56:13.460575Z",
     "iopub.status.idle": "2025-08-19T18:56:13.468281Z",
     "shell.execute_reply": "2025-08-19T18:56:13.467190Z"
    },
    "papermill": {
     "duration": 0.020087,
     "end_time": "2025-08-19T18:56:13.469854",
     "exception": false,
     "start_time": "2025-08-19T18:56:13.449767",
     "status": "completed"
    },
    "tags": []
   },
   "outputs": [
    {
     "data": {
      "text/plain": [
       "(1000, 164)"
      ]
     },
     "execution_count": 12,
     "metadata": {},
     "output_type": "execute_result"
    }
   ],
   "source": [
    "siab_train.shape"
   ]
  },
  {
   "cell_type": "code",
   "execution_count": 13,
   "id": "feb13bf4",
   "metadata": {
    "execution": {
     "iopub.execute_input": "2025-08-19T18:56:13.495665Z",
     "iopub.status.busy": "2025-08-19T18:56:13.494494Z",
     "iopub.status.idle": "2025-08-19T18:56:13.509626Z",
     "shell.execute_reply": "2025-08-19T18:56:13.508357Z"
    },
    "papermill": {
     "duration": 0.028016,
     "end_time": "2025-08-19T18:56:13.511247",
     "exception": false,
     "start_time": "2025-08-19T18:56:13.483231",
     "status": "completed"
    },
    "tags": []
   },
   "outputs": [
    {
     "data": {
      "text/plain": [
       "year\n",
       "2014    1000\n",
       "dtype: int64"
      ]
     },
     "metadata": {},
     "output_type": "display_data"
    }
   ],
   "source": [
    "display(siab_train.groupby(\"year\").size())"
   ]
  },
  {
   "cell_type": "code",
   "execution_count": 14,
   "id": "0997782f",
   "metadata": {
    "execution": {
     "iopub.execute_input": "2025-08-19T18:56:13.537261Z",
     "iopub.status.busy": "2025-08-19T18:56:13.535891Z",
     "iopub.status.idle": "2025-08-19T18:56:13.791838Z",
     "shell.execute_reply": "2025-08-19T18:56:13.790931Z"
    },
    "papermill": {
     "duration": 0.271265,
     "end_time": "2025-08-19T18:56:13.794926",
     "exception": false,
     "start_time": "2025-08-19T18:56:13.523661",
     "status": "completed"
    },
    "tags": []
   },
   "outputs": [],
   "source": [
    "#siab_train = siab_s[siab_s.year < 2015]\n",
    "siab_calib = siab[siab.year == 2015]\n",
    "siab_test = siab[siab.year == 2016]"
   ]
  },
  {
   "cell_type": "code",
   "execution_count": 15,
   "id": "2c1e4012",
   "metadata": {
    "execution": {
     "iopub.execute_input": "2025-08-19T18:56:13.831688Z",
     "iopub.status.busy": "2025-08-19T18:56:13.831087Z",
     "iopub.status.idle": "2025-08-19T18:56:13.837521Z",
     "shell.execute_reply": "2025-08-19T18:56:13.836114Z"
    },
    "papermill": {
     "duration": 0.021575,
     "end_time": "2025-08-19T18:56:13.839031",
     "exception": false,
     "start_time": "2025-08-19T18:56:13.817456",
     "status": "completed"
    },
    "tags": []
   },
   "outputs": [],
   "source": [
    "#siab_calib.shape"
   ]
  },
  {
   "cell_type": "code",
   "execution_count": 16,
   "id": "f66b54ca",
   "metadata": {
    "execution": {
     "iopub.execute_input": "2025-08-19T18:56:13.863644Z",
     "iopub.status.busy": "2025-08-19T18:56:13.862966Z",
     "iopub.status.idle": "2025-08-19T18:56:13.869504Z",
     "shell.execute_reply": "2025-08-19T18:56:13.868230Z"
    },
    "papermill": {
     "duration": 0.020127,
     "end_time": "2025-08-19T18:56:13.871030",
     "exception": false,
     "start_time": "2025-08-19T18:56:13.850903",
     "status": "completed"
    },
    "tags": []
   },
   "outputs": [],
   "source": [
    "#siab_test.shape"
   ]
  },
  {
   "cell_type": "code",
   "execution_count": 17,
   "id": "27e4384d",
   "metadata": {
    "execution": {
     "iopub.execute_input": "2025-08-19T18:56:13.896149Z",
     "iopub.status.busy": "2025-08-19T18:56:13.895471Z",
     "iopub.status.idle": "2025-08-19T18:56:13.904772Z",
     "shell.execute_reply": "2025-08-19T18:56:13.903765Z"
    },
    "papermill": {
     "duration": 0.022655,
     "end_time": "2025-08-19T18:56:13.906386",
     "exception": false,
     "start_time": "2025-08-19T18:56:13.883731",
     "status": "completed"
    },
    "tags": []
   },
   "outputs": [],
   "source": [
    "X_train = siab_train.iloc[:,4:164]\n",
    "y_train = siab_train.iloc[:, [3]]"
   ]
  },
  {
   "cell_type": "code",
   "execution_count": 18,
   "id": "08ee8389",
   "metadata": {
    "execution": {
     "iopub.execute_input": "2025-08-19T18:56:13.932703Z",
     "iopub.status.busy": "2025-08-19T18:56:13.931979Z",
     "iopub.status.idle": "2025-08-19T18:56:13.993650Z",
     "shell.execute_reply": "2025-08-19T18:56:13.992763Z"
    },
    "papermill": {
     "duration": 0.077287,
     "end_time": "2025-08-19T18:56:13.996652",
     "exception": false,
     "start_time": "2025-08-19T18:56:13.919365",
     "status": "completed"
    },
    "tags": []
   },
   "outputs": [],
   "source": [
    "X_calib = siab_calib.iloc[:,4:164]\n",
    "y_calib = siab_calib.iloc[:, [3]]"
   ]
  },
  {
   "cell_type": "code",
   "execution_count": 19,
   "id": "b7ff42e0",
   "metadata": {
    "execution": {
     "iopub.execute_input": "2025-08-19T18:56:14.034381Z",
     "iopub.status.busy": "2025-08-19T18:56:14.033779Z",
     "iopub.status.idle": "2025-08-19T18:56:14.089432Z",
     "shell.execute_reply": "2025-08-19T18:56:14.088558Z"
    },
    "papermill": {
     "duration": 0.072177,
     "end_time": "2025-08-19T18:56:14.092291",
     "exception": false,
     "start_time": "2025-08-19T18:56:14.020114",
     "status": "completed"
    },
    "tags": []
   },
   "outputs": [],
   "source": [
    "X_test = siab_test.iloc[:,4:164]\n",
    "y_true = siab_test.iloc[:, [3]]"
   ]
  },
  {
   "cell_type": "code",
   "execution_count": 20,
   "id": "0275101e",
   "metadata": {
    "execution": {
     "iopub.execute_input": "2025-08-19T18:56:14.131761Z",
     "iopub.status.busy": "2025-08-19T18:56:14.131070Z",
     "iopub.status.idle": "2025-08-19T18:56:14.242591Z",
     "shell.execute_reply": "2025-08-19T18:56:14.241740Z"
    },
    "papermill": {
     "duration": 0.127357,
     "end_time": "2025-08-19T18:56:14.244175",
     "exception": false,
     "start_time": "2025-08-19T18:56:14.116818",
     "status": "completed"
    },
    "tags": []
   },
   "outputs": [],
   "source": [
    "# Auxiliary data needed downstream in the pipeline\n",
    "\n",
    "org_train = X_train.copy()\n",
    "org_test = X_test.copy()\n",
    "org_calib = X_calib.copy()"
   ]
  },
  {
   "cell_type": "markdown",
   "id": "b461e618",
   "metadata": {
    "papermill": {
     "duration": 0.01021,
     "end_time": "2025-08-19T18:56:14.264882",
     "exception": false,
     "start_time": "2025-08-19T18:56:14.254672",
     "status": "completed"
    },
    "tags": []
   },
   "source": [
    "# Preprocessing Data"
   ]
  },
  {
   "cell_type": "code",
   "execution_count": 21,
   "id": "78e74c4b",
   "metadata": {
    "execution": {
     "iopub.execute_input": "2025-08-19T18:56:14.290481Z",
     "iopub.status.busy": "2025-08-19T18:56:14.289783Z",
     "iopub.status.idle": "2025-08-19T18:56:14.298484Z",
     "shell.execute_reply": "2025-08-19T18:56:14.297216Z"
    },
    "papermill": {
     "duration": 0.025633,
     "end_time": "2025-08-19T18:56:14.300653",
     "exception": false,
     "start_time": "2025-08-19T18:56:14.275020",
     "status": "completed"
    },
    "tags": []
   },
   "outputs": [],
   "source": [
    "# EXCLUDE PROTECTED FEATURES\n",
    "# --------------------------\n",
    "\n",
    "excluded_features = universe[\"exclude_features\"].split(\"-\")\n",
    "excluded_features_dictionary = {\n",
    "    \"nationality\": [\"maxdeutsch1\", \"maxdeutsch.Missing.\"],\n",
    "    \"sex\": [\"frau1\"],\n",
    "    \"age\": [\"age\"],\n",
    "}"
   ]
  },
  {
   "cell_type": "code",
   "execution_count": 22,
   "id": "f8e63555",
   "metadata": {
    "execution": {
     "iopub.execute_input": "2025-08-19T18:56:14.343998Z",
     "iopub.status.busy": "2025-08-19T18:56:14.343680Z",
     "iopub.status.idle": "2025-08-19T18:56:14.348344Z",
     "shell.execute_reply": "2025-08-19T18:56:14.347561Z"
    },
    "papermill": {
     "duration": 0.021743,
     "end_time": "2025-08-19T18:56:14.349731",
     "exception": false,
     "start_time": "2025-08-19T18:56:14.327988",
     "status": "completed"
    },
    "tags": []
   },
   "outputs": [],
   "source": [
    "excluded_features_columns = [\n",
    "    excluded_features_dictionary[f] for f in excluded_features if len(f) > 0 and f != \"none\"\n",
    "]"
   ]
  },
  {
   "cell_type": "code",
   "execution_count": 23,
   "id": "da781f7c",
   "metadata": {
    "execution": {
     "iopub.execute_input": "2025-08-19T18:56:14.371862Z",
     "iopub.status.busy": "2025-08-19T18:56:14.371551Z",
     "iopub.status.idle": "2025-08-19T18:56:14.375794Z",
     "shell.execute_reply": "2025-08-19T18:56:14.375041Z"
    },
    "papermill": {
     "duration": 0.017183,
     "end_time": "2025-08-19T18:56:14.377303",
     "exception": false,
     "start_time": "2025-08-19T18:56:14.360120",
     "status": "completed"
    },
    "tags": []
   },
   "outputs": [],
   "source": [
    "from fairness_multiverse.universe import flatten_once\n",
    "\n",
    "excluded_features_columns = flatten_once(excluded_features_columns)"
   ]
  },
  {
   "cell_type": "code",
   "execution_count": 24,
   "id": "37fef0f0",
   "metadata": {
    "execution": {
     "iopub.execute_input": "2025-08-19T18:56:14.399747Z",
     "iopub.status.busy": "2025-08-19T18:56:14.399340Z",
     "iopub.status.idle": "2025-08-19T18:56:14.405808Z",
     "shell.execute_reply": "2025-08-19T18:56:14.404999Z"
    },
    "papermill": {
     "duration": 0.039952,
     "end_time": "2025-08-19T18:56:14.427793",
     "exception": false,
     "start_time": "2025-08-19T18:56:14.387841",
     "status": "completed"
    },
    "tags": []
   },
   "outputs": [
    {
     "name": "stdout",
     "output_type": "stream",
     "text": [
      "Dropping features: ['frau1']\n"
     ]
    }
   ],
   "source": [
    "if len(excluded_features_columns) > 0:\n",
    "    print(f\"Dropping features: {excluded_features_columns}\")\n",
    "    X_train.drop(excluded_features_columns, axis=1, inplace=True)"
   ]
  },
  {
   "cell_type": "code",
   "execution_count": 25,
   "id": "d029e3e9",
   "metadata": {
    "execution": {
     "iopub.execute_input": "2025-08-19T18:56:14.459048Z",
     "iopub.status.busy": "2025-08-19T18:56:14.458011Z",
     "iopub.status.idle": "2025-08-19T18:56:14.522332Z",
     "shell.execute_reply": "2025-08-19T18:56:14.521555Z"
    },
    "papermill": {
     "duration": 0.078558,
     "end_time": "2025-08-19T18:56:14.524025",
     "exception": false,
     "start_time": "2025-08-19T18:56:14.445467",
     "status": "completed"
    },
    "tags": []
   },
   "outputs": [
    {
     "name": "stdout",
     "output_type": "stream",
     "text": [
      "Dropping features: ['frau1']\n"
     ]
    }
   ],
   "source": [
    "if len(excluded_features_columns) > 0:\n",
    "    print(f\"Dropping features: {excluded_features_columns}\")\n",
    "    X_test.drop(excluded_features_columns, axis=1, inplace=True)"
   ]
  },
  {
   "cell_type": "code",
   "execution_count": 26,
   "id": "01d571f0",
   "metadata": {
    "execution": {
     "iopub.execute_input": "2025-08-19T18:56:14.549359Z",
     "iopub.status.busy": "2025-08-19T18:56:14.548963Z",
     "iopub.status.idle": "2025-08-19T18:56:14.596657Z",
     "shell.execute_reply": "2025-08-19T18:56:14.596035Z"
    },
    "papermill": {
     "duration": 0.068786,
     "end_time": "2025-08-19T18:56:14.605740",
     "exception": false,
     "start_time": "2025-08-19T18:56:14.536954",
     "status": "completed"
    },
    "tags": []
   },
   "outputs": [
    {
     "name": "stdout",
     "output_type": "stream",
     "text": [
      "Dropping features: ['frau1']\n"
     ]
    }
   ],
   "source": [
    "if len(excluded_features_columns) > 0:\n",
    "    print(f\"Dropping features: {excluded_features_columns}\")\n",
    "    X_calib.drop(excluded_features_columns, axis=1, inplace=True)"
   ]
  },
  {
   "cell_type": "code",
   "execution_count": 27,
   "id": "3037356e",
   "metadata": {
    "execution": {
     "iopub.execute_input": "2025-08-19T18:56:14.655415Z",
     "iopub.status.busy": "2025-08-19T18:56:14.654182Z",
     "iopub.status.idle": "2025-08-19T18:56:14.661936Z",
     "shell.execute_reply": "2025-08-19T18:56:14.660383Z"
    },
    "papermill": {
     "duration": 0.022757,
     "end_time": "2025-08-19T18:56:14.663517",
     "exception": false,
     "start_time": "2025-08-19T18:56:14.640760",
     "status": "completed"
    },
    "tags": []
   },
   "outputs": [],
   "source": [
    "# EXCLUDE CERTAIN SUBGROUPS\n",
    "# -------------------------\n",
    "\n",
    "mode = universe.get(\"exclude_subgroups\", \"keep-all\") # Defaults to \"keep-all\" if the key is missing."
   ]
  },
  {
   "cell_type": "code",
   "execution_count": 28,
   "id": "9d1e63fd",
   "metadata": {
    "execution": {
     "iopub.execute_input": "2025-08-19T18:56:14.690180Z",
     "iopub.status.busy": "2025-08-19T18:56:14.689792Z",
     "iopub.status.idle": "2025-08-19T18:56:14.695220Z",
     "shell.execute_reply": "2025-08-19T18:56:14.694446Z"
    },
    "papermill": {
     "duration": 0.019695,
     "end_time": "2025-08-19T18:56:14.696545",
     "exception": false,
     "start_time": "2025-08-19T18:56:14.676850",
     "status": "completed"
    },
    "tags": []
   },
   "outputs": [],
   "source": [
    "if mode == \"keep-all\":\n",
    "    keep_mask = pd.Series(True, index=org_train.index)\n",
    "\n",
    "elif mode == \"drop-non-german\":\n",
    "    keep_mask = (org_train[\"maxdeutsch1\"] == 1) & (org_train[\"maxdeutsch.Missing.\"] == 0)\n",
    "\n",
    "else:\n",
    "    raise ValueError(f\"Unsupported mode for exclude_subgroups: {mode}\")"
   ]
  },
  {
   "cell_type": "code",
   "execution_count": 29,
   "id": "d3b65474",
   "metadata": {
    "execution": {
     "iopub.execute_input": "2025-08-19T18:56:14.721709Z",
     "iopub.status.busy": "2025-08-19T18:56:14.720672Z",
     "iopub.status.idle": "2025-08-19T18:56:14.730571Z",
     "shell.execute_reply": "2025-08-19T18:56:14.729226Z"
    },
    "papermill": {
     "duration": 0.023835,
     "end_time": "2025-08-19T18:56:14.732124",
     "exception": false,
     "start_time": "2025-08-19T18:56:14.708289",
     "status": "completed"
    },
    "tags": []
   },
   "outputs": [],
   "source": [
    "n_drop = (~keep_mask).sum() # Calculates how many rows are set to be dropped\n",
    "if n_drop > 0:\n",
    "    pct = n_drop / len(keep_mask) * 100\n",
    "    print(f\"Dropping {n_drop} rows ({pct:.2f}%) where mode='{mode}'\")"
   ]
  },
  {
   "cell_type": "code",
   "execution_count": 30,
   "id": "f44389b3",
   "metadata": {
    "execution": {
     "iopub.execute_input": "2025-08-19T18:56:14.760102Z",
     "iopub.status.busy": "2025-08-19T18:56:14.759081Z",
     "iopub.status.idle": "2025-08-19T18:56:14.770918Z",
     "shell.execute_reply": "2025-08-19T18:56:14.769048Z"
    },
    "papermill": {
     "duration": 0.026543,
     "end_time": "2025-08-19T18:56:14.772893",
     "exception": false,
     "start_time": "2025-08-19T18:56:14.746350",
     "status": "completed"
    },
    "tags": []
   },
   "outputs": [],
   "source": [
    "X_train = X_train[keep_mask]"
   ]
  },
  {
   "cell_type": "code",
   "execution_count": 31,
   "id": "ceca8c2a",
   "metadata": {
    "execution": {
     "iopub.execute_input": "2025-08-19T18:56:14.802484Z",
     "iopub.status.busy": "2025-08-19T18:56:14.801320Z",
     "iopub.status.idle": "2025-08-19T18:56:14.812201Z",
     "shell.execute_reply": "2025-08-19T18:56:14.810567Z"
    },
    "papermill": {
     "duration": 0.026742,
     "end_time": "2025-08-19T18:56:14.814067",
     "exception": false,
     "start_time": "2025-08-19T18:56:14.787325",
     "status": "completed"
    },
    "tags": []
   },
   "outputs": [],
   "source": [
    "y_train = y_train[keep_mask]"
   ]
  },
  {
   "cell_type": "markdown",
   "id": "04d31e2f",
   "metadata": {
    "papermill": {
     "duration": 0.011233,
     "end_time": "2025-08-19T18:56:14.839659",
     "exception": false,
     "start_time": "2025-08-19T18:56:14.828426",
     "status": "completed"
    },
    "tags": []
   },
   "source": [
    "# Model Training"
   ]
  },
  {
   "cell_type": "code",
   "execution_count": 32,
   "id": "db991733",
   "metadata": {
    "execution": {
     "iopub.execute_input": "2025-08-19T18:56:14.865228Z",
     "iopub.status.busy": "2025-08-19T18:56:14.864186Z",
     "iopub.status.idle": "2025-08-19T18:56:14.968693Z",
     "shell.execute_reply": "2025-08-19T18:56:14.967987Z"
    },
    "papermill": {
     "duration": 0.12105,
     "end_time": "2025-08-19T18:56:14.972275",
     "exception": false,
     "start_time": "2025-08-19T18:56:14.851225",
     "status": "completed"
    },
    "tags": []
   },
   "outputs": [],
   "source": [
    "from sklearn.linear_model import LogisticRegression\n",
    "from sklearn.ensemble import GradientBoostingClassifier, RandomForestClassifier\n",
    "\n",
    "if (universe[\"model\"] == \"logreg\"):\n",
    "    model = LogisticRegression() #penalty=\"none\", solver=\"newton-cg\", max_iter=1)\n",
    "elif (universe[\"model\"] == \"penalized_logreg\"):\n",
    "    model = LogisticRegression(penalty=\"l2\", C=0.1) #, solver=\"newton-cg\", max_iter=1)\n",
    "elif (universe[\"model\"] == \"rf\"):\n",
    "    model = RandomForestClassifier() # n_estimators=100, n_jobs=-1\n",
    "elif (universe[\"model\"] == \"gbm\"):\n",
    "    model = GradientBoostingClassifier()\n",
    "elif (universe[\"model\"] == \"elasticnet\"):\n",
    "    model = LogisticRegression(penalty = 'elasticnet', solver = 'saga', l1_ratio = 0.5) # max_iter=5000\n",
    "else:\n",
    "    raise \"Unsupported universe.model\""
   ]
  },
  {
   "cell_type": "code",
   "execution_count": 33,
   "id": "a4b5cd25",
   "metadata": {
    "execution": {
     "iopub.execute_input": "2025-08-19T18:56:15.018296Z",
     "iopub.status.busy": "2025-08-19T18:56:15.016998Z",
     "iopub.status.idle": "2025-08-19T18:56:15.028137Z",
     "shell.execute_reply": "2025-08-19T18:56:15.026901Z"
    },
    "papermill": {
     "duration": 0.028456,
     "end_time": "2025-08-19T18:56:15.030100",
     "exception": false,
     "start_time": "2025-08-19T18:56:15.001644",
     "status": "completed"
    },
    "tags": []
   },
   "outputs": [],
   "source": [
    "from sklearn.pipeline import Pipeline\n",
    "from sklearn.preprocessing import StandardScaler\n",
    "\n",
    "model = Pipeline([\n",
    "    #(\"continuous_processor\", continuous_processor),\n",
    "    #(\"categorical_preprocessor\", categorical_preprocessor),\n",
    "    (\"scale\", StandardScaler() if universe[\"scale\"] == \"scale\" else None), \n",
    "    (\"model\", model),\n",
    "])"
   ]
  },
  {
   "cell_type": "code",
   "execution_count": 34,
   "id": "283a904d",
   "metadata": {
    "execution": {
     "iopub.execute_input": "2025-08-19T18:56:15.059567Z",
     "iopub.status.busy": "2025-08-19T18:56:15.058949Z",
     "iopub.status.idle": "2025-08-19T18:56:15.321844Z",
     "shell.execute_reply": "2025-08-19T18:56:15.321237Z"
    },
    "papermill": {
     "duration": 0.27924,
     "end_time": "2025-08-19T18:56:15.324530",
     "exception": false,
     "start_time": "2025-08-19T18:56:15.045290",
     "status": "completed"
    },
    "tags": []
   },
   "outputs": [
    {
     "name": "stderr",
     "output_type": "stream",
     "text": [
      "/dss/dsshome1/0C/ra93lal2/.local/share/virtualenvs/CMA_Fairness_v2-3j10GkSs/lib/python3.10/site-packages/sklearn/linear_model/_sag.py:350: ConvergenceWarning: The max_iter was reached which means the coef_ did not converge\n",
      "  warnings.warn(\n"
     ]
    },
    {
     "data": {
      "text/html": [
       "<style>#sk-container-id-1 {color: black;background-color: white;}#sk-container-id-1 pre{padding: 0;}#sk-container-id-1 div.sk-toggleable {background-color: white;}#sk-container-id-1 label.sk-toggleable__label {cursor: pointer;display: block;width: 100%;margin-bottom: 0;padding: 0.3em;box-sizing: border-box;text-align: center;}#sk-container-id-1 label.sk-toggleable__label-arrow:before {content: \"▸\";float: left;margin-right: 0.25em;color: #696969;}#sk-container-id-1 label.sk-toggleable__label-arrow:hover:before {color: black;}#sk-container-id-1 div.sk-estimator:hover label.sk-toggleable__label-arrow:before {color: black;}#sk-container-id-1 div.sk-toggleable__content {max-height: 0;max-width: 0;overflow: hidden;text-align: left;background-color: #f0f8ff;}#sk-container-id-1 div.sk-toggleable__content pre {margin: 0.2em;color: black;border-radius: 0.25em;background-color: #f0f8ff;}#sk-container-id-1 input.sk-toggleable__control:checked~div.sk-toggleable__content {max-height: 200px;max-width: 100%;overflow: auto;}#sk-container-id-1 input.sk-toggleable__control:checked~label.sk-toggleable__label-arrow:before {content: \"▾\";}#sk-container-id-1 div.sk-estimator input.sk-toggleable__control:checked~label.sk-toggleable__label {background-color: #d4ebff;}#sk-container-id-1 div.sk-label input.sk-toggleable__control:checked~label.sk-toggleable__label {background-color: #d4ebff;}#sk-container-id-1 input.sk-hidden--visually {border: 0;clip: rect(1px 1px 1px 1px);clip: rect(1px, 1px, 1px, 1px);height: 1px;margin: -1px;overflow: hidden;padding: 0;position: absolute;width: 1px;}#sk-container-id-1 div.sk-estimator {font-family: monospace;background-color: #f0f8ff;border: 1px dotted black;border-radius: 0.25em;box-sizing: border-box;margin-bottom: 0.5em;}#sk-container-id-1 div.sk-estimator:hover {background-color: #d4ebff;}#sk-container-id-1 div.sk-parallel-item::after {content: \"\";width: 100%;border-bottom: 1px solid gray;flex-grow: 1;}#sk-container-id-1 div.sk-label:hover label.sk-toggleable__label {background-color: #d4ebff;}#sk-container-id-1 div.sk-serial::before {content: \"\";position: absolute;border-left: 1px solid gray;box-sizing: border-box;top: 0;bottom: 0;left: 50%;z-index: 0;}#sk-container-id-1 div.sk-serial {display: flex;flex-direction: column;align-items: center;background-color: white;padding-right: 0.2em;padding-left: 0.2em;position: relative;}#sk-container-id-1 div.sk-item {position: relative;z-index: 1;}#sk-container-id-1 div.sk-parallel {display: flex;align-items: stretch;justify-content: center;background-color: white;position: relative;}#sk-container-id-1 div.sk-item::before, #sk-container-id-1 div.sk-parallel-item::before {content: \"\";position: absolute;border-left: 1px solid gray;box-sizing: border-box;top: 0;bottom: 0;left: 50%;z-index: -1;}#sk-container-id-1 div.sk-parallel-item {display: flex;flex-direction: column;z-index: 1;position: relative;background-color: white;}#sk-container-id-1 div.sk-parallel-item:first-child::after {align-self: flex-end;width: 50%;}#sk-container-id-1 div.sk-parallel-item:last-child::after {align-self: flex-start;width: 50%;}#sk-container-id-1 div.sk-parallel-item:only-child::after {width: 0;}#sk-container-id-1 div.sk-dashed-wrapped {border: 1px dashed gray;margin: 0 0.4em 0.5em 0.4em;box-sizing: border-box;padding-bottom: 0.4em;background-color: white;}#sk-container-id-1 div.sk-label label {font-family: monospace;font-weight: bold;display: inline-block;line-height: 1.2em;}#sk-container-id-1 div.sk-label-container {text-align: center;}#sk-container-id-1 div.sk-container {/* jupyter's `normalize.less` sets `[hidden] { display: none; }` but bootstrap.min.css set `[hidden] { display: none !important; }` so we also need the `!important` here to be able to override the default hidden behavior on the sphinx rendered scikit-learn.org. See: https://github.com/scikit-learn/scikit-learn/issues/21755 */display: inline-block !important;position: relative;}#sk-container-id-1 div.sk-text-repr-fallback {display: none;}</style><div id=\"sk-container-id-1\" class=\"sk-top-container\"><div class=\"sk-text-repr-fallback\"><pre>Pipeline(steps=[(&#x27;scale&#x27;, None),\n",
       "                (&#x27;model&#x27;,\n",
       "                 LogisticRegression(l1_ratio=0.5, penalty=&#x27;elasticnet&#x27;,\n",
       "                                    solver=&#x27;saga&#x27;))])</pre><b>In a Jupyter environment, please rerun this cell to show the HTML representation or trust the notebook. <br />On GitHub, the HTML representation is unable to render, please try loading this page with nbviewer.org.</b></div><div class=\"sk-container\" hidden><div class=\"sk-item sk-dashed-wrapped\"><div class=\"sk-label-container\"><div class=\"sk-label sk-toggleable\"><input class=\"sk-toggleable__control sk-hidden--visually\" id=\"sk-estimator-id-1\" type=\"checkbox\" ><label for=\"sk-estimator-id-1\" class=\"sk-toggleable__label sk-toggleable__label-arrow\">Pipeline</label><div class=\"sk-toggleable__content\"><pre>Pipeline(steps=[(&#x27;scale&#x27;, None),\n",
       "                (&#x27;model&#x27;,\n",
       "                 LogisticRegression(l1_ratio=0.5, penalty=&#x27;elasticnet&#x27;,\n",
       "                                    solver=&#x27;saga&#x27;))])</pre></div></div></div><div class=\"sk-serial\"><div class=\"sk-item\"><div class=\"sk-estimator sk-toggleable\"><input class=\"sk-toggleable__control sk-hidden--visually\" id=\"sk-estimator-id-2\" type=\"checkbox\" ><label for=\"sk-estimator-id-2\" class=\"sk-toggleable__label sk-toggleable__label-arrow\">None</label><div class=\"sk-toggleable__content\"><pre>None</pre></div></div></div><div class=\"sk-item\"><div class=\"sk-estimator sk-toggleable\"><input class=\"sk-toggleable__control sk-hidden--visually\" id=\"sk-estimator-id-3\" type=\"checkbox\" ><label for=\"sk-estimator-id-3\" class=\"sk-toggleable__label sk-toggleable__label-arrow\">LogisticRegression</label><div class=\"sk-toggleable__content\"><pre>LogisticRegression(l1_ratio=0.5, penalty=&#x27;elasticnet&#x27;, solver=&#x27;saga&#x27;)</pre></div></div></div></div></div></div></div>"
      ],
      "text/plain": [
       "Pipeline(steps=[('scale', None),\n",
       "                ('model',\n",
       "                 LogisticRegression(l1_ratio=0.5, penalty='elasticnet',\n",
       "                                    solver='saga'))])"
      ]
     },
     "execution_count": 34,
     "metadata": {},
     "output_type": "execute_result"
    }
   ],
   "source": [
    "model.fit(X_train, y_train.values.ravel())"
   ]
  },
  {
   "cell_type": "code",
   "execution_count": 35,
   "id": "6e15e313",
   "metadata": {
    "execution": {
     "iopub.execute_input": "2025-08-19T18:56:15.355981Z",
     "iopub.status.busy": "2025-08-19T18:56:15.355018Z",
     "iopub.status.idle": "2025-08-19T18:56:15.459257Z",
     "shell.execute_reply": "2025-08-19T18:56:15.458630Z"
    },
    "papermill": {
     "duration": 0.121256,
     "end_time": "2025-08-19T18:56:15.461536",
     "exception": false,
     "start_time": "2025-08-19T18:56:15.340280",
     "status": "completed"
    },
    "tags": []
   },
   "outputs": [
    {
     "data": {
      "text/plain": [
       "0.8582209341210567"
      ]
     },
     "execution_count": 35,
     "metadata": {},
     "output_type": "execute_result"
    }
   ],
   "source": [
    "from fairness_multiverse.universe import predict_w_threshold\n",
    "\n",
    "probs_test = model.predict_proba(X_test)\n",
    "\n",
    "'''\n",
    "Below code returns a boolean array (or binary 0/1 array depending on how it’s used) where each element \n",
    "is True if the probability of class 1 is greater than or equal to the threshold, and False otherwise.\n",
    "'''\n",
    "y_pred_default = predict_w_threshold(probs_test, 0.5)\n",
    "\n",
    "from sklearn.metrics import accuracy_score\n",
    "\n",
    "# Naive prediction\n",
    "accuracy_score(y_true = y_true, y_pred = y_pred_default)"
   ]
  },
  {
   "cell_type": "code",
   "execution_count": 36,
   "id": "6f14067c",
   "metadata": {
    "execution": {
     "iopub.execute_input": "2025-08-19T18:56:15.499200Z",
     "iopub.status.busy": "2025-08-19T18:56:15.498127Z",
     "iopub.status.idle": "2025-08-19T18:56:15.590543Z",
     "shell.execute_reply": "2025-08-19T18:56:15.589855Z"
    },
    "papermill": {
     "duration": 0.107452,
     "end_time": "2025-08-19T18:56:15.591642",
     "exception": false,
     "start_time": "2025-08-19T18:56:15.484190",
     "status": "completed"
    },
    "tags": []
   },
   "outputs": [
    {
     "data": {
      "text/plain": [
       "array([0, 0, 0, ..., 0, 0, 0])"
      ]
     },
     "execution_count": 36,
     "metadata": {},
     "output_type": "execute_result"
    }
   ],
   "source": [
    "model.predict(X_test)"
   ]
  },
  {
   "cell_type": "markdown",
   "id": "3759920c",
   "metadata": {
    "papermill": {
     "duration": 0.010983,
     "end_time": "2025-08-19T18:56:15.617019",
     "exception": false,
     "start_time": "2025-08-19T18:56:15.606036",
     "status": "completed"
    },
    "tags": []
   },
   "source": [
    "# Conformal Prediction"
   ]
  },
  {
   "cell_type": "code",
   "execution_count": 37,
   "id": "14b27f59",
   "metadata": {
    "execution": {
     "iopub.execute_input": "2025-08-19T18:56:15.641897Z",
     "iopub.status.busy": "2025-08-19T18:56:15.640710Z",
     "iopub.status.idle": "2025-08-19T18:56:15.668580Z",
     "shell.execute_reply": "2025-08-19T18:56:15.647364Z"
    },
    "papermill": {
     "duration": 0.042357,
     "end_time": "2025-08-19T18:56:15.670390",
     "exception": false,
     "start_time": "2025-08-19T18:56:15.628033",
     "status": "completed"
    },
    "tags": []
   },
   "outputs": [],
   "source": [
    "# Miscoverage level for conformal prediction (10% allowed error rate => 90% target coverage)\n",
    "alpha = 0.1"
   ]
  },
  {
   "cell_type": "code",
   "execution_count": 38,
   "id": "59102472",
   "metadata": {
    "execution": {
     "iopub.execute_input": "2025-08-19T18:56:15.706413Z",
     "iopub.status.busy": "2025-08-19T18:56:15.705938Z",
     "iopub.status.idle": "2025-08-19T18:56:15.786826Z",
     "shell.execute_reply": "2025-08-19T18:56:15.786145Z"
    },
    "papermill": {
     "duration": 0.096953,
     "end_time": "2025-08-19T18:56:15.789459",
     "exception": false,
     "start_time": "2025-08-19T18:56:15.692506",
     "status": "completed"
    },
    "tags": []
   },
   "outputs": [],
   "source": [
    "probs_calib = model.predict_proba(X_calib)"
   ]
  },
  {
   "cell_type": "code",
   "execution_count": 39,
   "id": "a792d4dd",
   "metadata": {
    "execution": {
     "iopub.execute_input": "2025-08-19T18:56:15.831646Z",
     "iopub.status.busy": "2025-08-19T18:56:15.830143Z",
     "iopub.status.idle": "2025-08-19T18:56:15.839499Z",
     "shell.execute_reply": "2025-08-19T18:56:15.837854Z"
    },
    "papermill": {
     "duration": 0.025393,
     "end_time": "2025-08-19T18:56:15.840845",
     "exception": false,
     "start_time": "2025-08-19T18:56:15.815452",
     "status": "completed"
    },
    "tags": []
   },
   "outputs": [],
   "source": [
    "y_calib = y_calib.values.ravel().astype(int)"
   ]
  },
  {
   "cell_type": "code",
   "execution_count": 40,
   "id": "650fd033",
   "metadata": {
    "execution": {
     "iopub.execute_input": "2025-08-19T18:56:15.869266Z",
     "iopub.status.busy": "2025-08-19T18:56:15.867823Z",
     "iopub.status.idle": "2025-08-19T18:56:15.879650Z",
     "shell.execute_reply": "2025-08-19T18:56:15.878357Z"
    },
    "papermill": {
     "duration": 0.026126,
     "end_time": "2025-08-19T18:56:15.880937",
     "exception": false,
     "start_time": "2025-08-19T18:56:15.854811",
     "status": "completed"
    },
    "tags": []
   },
   "outputs": [],
   "source": [
    "from fairness_multiverse.conformal import compute_nc_scores\n",
    "\n",
    "# Compute nonconformity scores on calibration set (1 - probability of true class)\n",
    "nc_scores = compute_nc_scores(probs_calib, y_calib)"
   ]
  },
  {
   "cell_type": "code",
   "execution_count": 41,
   "id": "28ada44c",
   "metadata": {
    "execution": {
     "iopub.execute_input": "2025-08-19T18:56:15.909173Z",
     "iopub.status.busy": "2025-08-19T18:56:15.908018Z",
     "iopub.status.idle": "2025-08-19T18:56:15.918926Z",
     "shell.execute_reply": "2025-08-19T18:56:15.917730Z"
    },
    "papermill": {
     "duration": 0.024888,
     "end_time": "2025-08-19T18:56:15.920196",
     "exception": false,
     "start_time": "2025-08-19T18:56:15.895308",
     "status": "completed"
    },
    "tags": []
   },
   "outputs": [],
   "source": [
    "from fairness_multiverse.conformal import find_threshold\n",
    "\n",
    "# Find conformal threshold q_hat for the given alpha (split conformal method)\n",
    "q_hat = find_threshold(nc_scores, alpha)"
   ]
  },
  {
   "cell_type": "code",
   "execution_count": 42,
   "id": "df56469e",
   "metadata": {
    "execution": {
     "iopub.execute_input": "2025-08-19T18:56:15.950418Z",
     "iopub.status.busy": "2025-08-19T18:56:15.949258Z",
     "iopub.status.idle": "2025-08-19T18:56:15.960196Z",
     "shell.execute_reply": "2025-08-19T18:56:15.958983Z"
    },
    "papermill": {
     "duration": 0.02614,
     "end_time": "2025-08-19T18:56:15.961530",
     "exception": false,
     "start_time": "2025-08-19T18:56:15.935390",
     "status": "completed"
    },
    "tags": []
   },
   "outputs": [
    {
     "data": {
      "text/plain": [
       "0.634644381737903"
      ]
     },
     "execution_count": 42,
     "metadata": {},
     "output_type": "execute_result"
    }
   ],
   "source": [
    "q_hat"
   ]
  },
  {
   "cell_type": "code",
   "execution_count": 43,
   "id": "aa1f5faa",
   "metadata": {
    "execution": {
     "iopub.execute_input": "2025-08-19T18:56:15.992068Z",
     "iopub.status.busy": "2025-08-19T18:56:15.990626Z",
     "iopub.status.idle": "2025-08-19T18:56:16.506956Z",
     "shell.execute_reply": "2025-08-19T18:56:16.506226Z"
    },
    "papermill": {
     "duration": 0.531418,
     "end_time": "2025-08-19T18:56:16.508283",
     "exception": false,
     "start_time": "2025-08-19T18:56:15.976865",
     "status": "completed"
    },
    "tags": []
   },
   "outputs": [],
   "source": [
    "from fairness_multiverse.conformal import predict_conformal_sets\n",
    "\n",
    "# Generate prediction sets for each test example\n",
    "pred_sets = predict_conformal_sets(model, X_test, q_hat)"
   ]
  },
  {
   "cell_type": "code",
   "execution_count": 44,
   "id": "97f67a6b",
   "metadata": {
    "execution": {
     "iopub.execute_input": "2025-08-19T18:56:16.549618Z",
     "iopub.status.busy": "2025-08-19T18:56:16.548293Z",
     "iopub.status.idle": "2025-08-19T18:56:16.557340Z",
     "shell.execute_reply": "2025-08-19T18:56:16.555843Z"
    },
    "papermill": {
     "duration": 0.030298,
     "end_time": "2025-08-19T18:56:16.559012",
     "exception": false,
     "start_time": "2025-08-19T18:56:16.528714",
     "status": "completed"
    },
    "tags": []
   },
   "outputs": [],
   "source": [
    "y_true = y_true.squeeze()"
   ]
  },
  {
   "cell_type": "code",
   "execution_count": 45,
   "id": "e700e9a7",
   "metadata": {
    "execution": {
     "iopub.execute_input": "2025-08-19T18:56:16.599281Z",
     "iopub.status.busy": "2025-08-19T18:56:16.593701Z",
     "iopub.status.idle": "2025-08-19T18:56:17.138163Z",
     "shell.execute_reply": "2025-08-19T18:56:17.137346Z"
    },
    "papermill": {
     "duration": 0.564855,
     "end_time": "2025-08-19T18:56:17.140067",
     "exception": false,
     "start_time": "2025-08-19T18:56:16.575212",
     "status": "completed"
    },
    "tags": []
   },
   "outputs": [],
   "source": [
    "from fairness_multiverse.conformal import evaluate_sets\n",
    "\n",
    "# Evaluate coverage and average set size on test data\n",
    "metrics = evaluate_sets(pred_sets, y_true)"
   ]
  },
  {
   "cell_type": "markdown",
   "id": "efbacec0",
   "metadata": {
    "papermill": {
     "duration": 0.011514,
     "end_time": "2025-08-19T18:56:17.165963",
     "exception": false,
     "start_time": "2025-08-19T18:56:17.154449",
     "status": "completed"
    },
    "tags": []
   },
   "source": [
    "# CP Metrics"
   ]
  },
  {
   "cell_type": "code",
   "execution_count": 46,
   "id": "9de55fb1",
   "metadata": {
    "execution": {
     "iopub.execute_input": "2025-08-19T18:56:17.190838Z",
     "iopub.status.busy": "2025-08-19T18:56:17.190270Z",
     "iopub.status.idle": "2025-08-19T18:56:17.196759Z",
     "shell.execute_reply": "2025-08-19T18:56:17.196090Z"
    },
    "papermill": {
     "duration": 0.02019,
     "end_time": "2025-08-19T18:56:17.197818",
     "exception": false,
     "start_time": "2025-08-19T18:56:17.177628",
     "status": "completed"
    },
    "tags": []
   },
   "outputs": [
    {
     "data": {
      "text/plain": [
       "{'coverage': 0.9119607624568052, 'avg_size': 1.280336640285364}"
      ]
     },
     "execution_count": 46,
     "metadata": {},
     "output_type": "execute_result"
    }
   ],
   "source": [
    "metrics"
   ]
  },
  {
   "cell_type": "code",
   "execution_count": 47,
   "id": "64c340a1",
   "metadata": {
    "execution": {
     "iopub.execute_input": "2025-08-19T18:56:17.223482Z",
     "iopub.status.busy": "2025-08-19T18:56:17.222458Z",
     "iopub.status.idle": "2025-08-19T18:56:17.291043Z",
     "shell.execute_reply": "2025-08-19T18:56:17.290319Z"
    },
    "papermill": {
     "duration": 0.08442,
     "end_time": "2025-08-19T18:56:17.294088",
     "exception": false,
     "start_time": "2025-08-19T18:56:17.209668",
     "status": "completed"
    },
    "tags": []
   },
   "outputs": [],
   "source": [
    "example_universe = universe.copy()\n",
    "universe_training_year = example_universe.get(\"training_year\")\n",
    "universe_training_size = example_universe.get(\"training_size\")\n",
    "universe_scale = example_universe.get(\"scale\")\n",
    "universe_model = example_universe.get(\"model\")\n",
    "universe_exclude_features = example_universe.get(\"exclude_features\")\n",
    "universe_exclude_subgroups = example_universe.get(\"exclude_subgroups\")"
   ]
  },
  {
   "cell_type": "code",
   "execution_count": 48,
   "id": "dbb53cb4",
   "metadata": {
    "execution": {
     "iopub.execute_input": "2025-08-19T18:56:17.359602Z",
     "iopub.status.busy": "2025-08-19T18:56:17.359203Z",
     "iopub.status.idle": "2025-08-19T18:56:17.364172Z",
     "shell.execute_reply": "2025-08-19T18:56:17.363475Z"
    },
    "papermill": {
     "duration": 0.025081,
     "end_time": "2025-08-19T18:56:17.366320",
     "exception": false,
     "start_time": "2025-08-19T18:56:17.341239",
     "status": "completed"
    },
    "tags": []
   },
   "outputs": [],
   "source": [
    "cp_metrics_dict = {\n",
    "    \"universe_id\": [universe_id],\n",
    "    \"universe_training_year\": [universe_training_year],\n",
    "    \"universe_training_size\": [universe_training_size],\n",
    "    \"universe_scale\": [universe_scale],\n",
    "    \"universe_model\": [universe_model],\n",
    "    \"universe_exclude_features\": [universe_exclude_features],\n",
    "    \"universe_exclude_subgroups\": [universe_exclude_subgroups],\n",
    "    \"q_hat\": [q_hat],\n",
    "    \"coverage\": [metrics[\"coverage\"]],\n",
    "    \"avg_size\": [metrics[\"avg_size\"]],\n",
    "}"
   ]
  },
  {
   "cell_type": "code",
   "execution_count": 49,
   "id": "0d70d4b2",
   "metadata": {
    "execution": {
     "iopub.execute_input": "2025-08-19T18:56:17.391480Z",
     "iopub.status.busy": "2025-08-19T18:56:17.391089Z",
     "iopub.status.idle": "2025-08-19T18:56:17.397916Z",
     "shell.execute_reply": "2025-08-19T18:56:17.397279Z"
    },
    "papermill": {
     "duration": 0.020673,
     "end_time": "2025-08-19T18:56:17.399194",
     "exception": false,
     "start_time": "2025-08-19T18:56:17.378521",
     "status": "completed"
    },
    "tags": []
   },
   "outputs": [],
   "source": [
    "cp_metrics_df = pd.DataFrame(cp_metrics_dict)"
   ]
  },
  {
   "cell_type": "code",
   "execution_count": 50,
   "id": "b494403c",
   "metadata": {
    "execution": {
     "iopub.execute_input": "2025-08-19T18:56:17.423739Z",
     "iopub.status.busy": "2025-08-19T18:56:17.423452Z",
     "iopub.status.idle": "2025-08-19T18:56:17.436028Z",
     "shell.execute_reply": "2025-08-19T18:56:17.435244Z"
    },
    "papermill": {
     "duration": 0.02816,
     "end_time": "2025-08-19T18:56:17.439173",
     "exception": false,
     "start_time": "2025-08-19T18:56:17.411013",
     "status": "completed"
    },
    "tags": []
   },
   "outputs": [
    {
     "data": {
      "text/html": [
       "<div>\n",
       "<style scoped>\n",
       "    .dataframe tbody tr th:only-of-type {\n",
       "        vertical-align: middle;\n",
       "    }\n",
       "\n",
       "    .dataframe tbody tr th {\n",
       "        vertical-align: top;\n",
       "    }\n",
       "\n",
       "    .dataframe thead th {\n",
       "        text-align: right;\n",
       "    }\n",
       "</style>\n",
       "<table border=\"1\" class=\"dataframe\">\n",
       "  <thead>\n",
       "    <tr style=\"text-align: right;\">\n",
       "      <th></th>\n",
       "      <th>universe_id</th>\n",
       "      <th>universe_training_year</th>\n",
       "      <th>universe_training_size</th>\n",
       "      <th>universe_scale</th>\n",
       "      <th>universe_model</th>\n",
       "      <th>universe_exclude_features</th>\n",
       "      <th>universe_exclude_subgroups</th>\n",
       "      <th>q_hat</th>\n",
       "      <th>coverage</th>\n",
       "      <th>avg_size</th>\n",
       "    </tr>\n",
       "  </thead>\n",
       "  <tbody>\n",
       "    <tr>\n",
       "      <th>0</th>\n",
       "      <td>1ed95d782de6a7539f6245172a7722f6</td>\n",
       "      <td>2014</td>\n",
       "      <td>1k</td>\n",
       "      <td>do-not-scale</td>\n",
       "      <td>elasticnet</td>\n",
       "      <td>sex</td>\n",
       "      <td>keep-all</td>\n",
       "      <td>0.634644</td>\n",
       "      <td>0.911961</td>\n",
       "      <td>1.280337</td>\n",
       "    </tr>\n",
       "  </tbody>\n",
       "</table>\n",
       "</div>"
      ],
      "text/plain": [
       "                        universe_id universe_training_year  \\\n",
       "0  1ed95d782de6a7539f6245172a7722f6                   2014   \n",
       "\n",
       "  universe_training_size universe_scale universe_model  \\\n",
       "0                     1k   do-not-scale     elasticnet   \n",
       "\n",
       "  universe_exclude_features universe_exclude_subgroups     q_hat  coverage  \\\n",
       "0                       sex                   keep-all  0.634644  0.911961   \n",
       "\n",
       "   avg_size  \n",
       "0  1.280337  "
      ]
     },
     "execution_count": 50,
     "metadata": {},
     "output_type": "execute_result"
    }
   ],
   "source": [
    "cp_metrics_df"
   ]
  },
  {
   "cell_type": "markdown",
   "id": "ed608b0b",
   "metadata": {
    "papermill": {
     "duration": 0.012372,
     "end_time": "2025-08-19T18:56:17.466132",
     "exception": false,
     "start_time": "2025-08-19T18:56:17.453760",
     "status": "completed"
    },
    "tags": []
   },
   "source": [
    "Conditional coverage & looking at subgroups"
   ]
  },
  {
   "cell_type": "code",
   "execution_count": 51,
   "id": "8968c366",
   "metadata": {
    "execution": {
     "iopub.execute_input": "2025-08-19T18:56:17.491091Z",
     "iopub.status.busy": "2025-08-19T18:56:17.490639Z",
     "iopub.status.idle": "2025-08-19T18:56:17.730469Z",
     "shell.execute_reply": "2025-08-19T18:56:17.729364Z"
    },
    "papermill": {
     "duration": 0.256106,
     "end_time": "2025-08-19T18:56:17.733957",
     "exception": false,
     "start_time": "2025-08-19T18:56:17.477851",
     "status": "completed"
    },
    "tags": []
   },
   "outputs": [],
   "source": [
    "from fairness_multiverse.conformal import build_cp_groups\n",
    "\n",
    "cp_groups_df = build_cp_groups(pred_sets, y_true, X_test.index, org_test)"
   ]
  },
  {
   "cell_type": "code",
   "execution_count": 52,
   "id": "292ddabf",
   "metadata": {
    "execution": {
     "iopub.execute_input": "2025-08-19T18:56:17.774503Z",
     "iopub.status.busy": "2025-08-19T18:56:17.773473Z",
     "iopub.status.idle": "2025-08-19T18:56:18.623981Z",
     "shell.execute_reply": "2025-08-19T18:56:18.623224Z"
    },
    "papermill": {
     "duration": 0.866413,
     "end_time": "2025-08-19T18:56:18.625523",
     "exception": false,
     "start_time": "2025-08-19T18:56:17.759110",
     "status": "completed"
    },
    "tags": []
   },
   "outputs": [],
   "source": [
    "# Define covered = 1 if true_label is in the predicted set\n",
    "cp_groups_df['covered'] = cp_groups_df.apply(\n",
    "    lambda r: int(r['true_label'] in r['pred_set']),\n",
    "    axis=1\n",
    ")"
   ]
  },
  {
   "cell_type": "code",
   "execution_count": 53,
   "id": "3a261692",
   "metadata": {
    "execution": {
     "iopub.execute_input": "2025-08-19T18:56:18.689098Z",
     "iopub.status.busy": "2025-08-19T18:56:18.687812Z",
     "iopub.status.idle": "2025-08-19T18:56:18.706831Z",
     "shell.execute_reply": "2025-08-19T18:56:18.705574Z"
    },
    "papermill": {
     "duration": 0.058854,
     "end_time": "2025-08-19T18:56:18.708468",
     "exception": false,
     "start_time": "2025-08-19T18:56:18.649614",
     "status": "completed"
    },
    "tags": []
   },
   "outputs": [],
   "source": [
    "subgroups = ['frau1','nongerman','nongerman_male','nongerman_female']\n",
    "\n",
    "# Conditional coverage for subgroup==1\n",
    "cond_coverage = {\n",
    "    g: cp_groups_df.loc[cp_groups_df[g]==1, 'covered'].mean()\n",
    "    for g in subgroups\n",
    "}"
   ]
  },
  {
   "cell_type": "code",
   "execution_count": 54,
   "id": "894fd600",
   "metadata": {
    "execution": {
     "iopub.execute_input": "2025-08-19T18:56:18.747586Z",
     "iopub.status.busy": "2025-08-19T18:56:18.746479Z",
     "iopub.status.idle": "2025-08-19T18:56:18.756262Z",
     "shell.execute_reply": "2025-08-19T18:56:18.755059Z"
    },
    "papermill": {
     "duration": 0.025352,
     "end_time": "2025-08-19T18:56:18.757655",
     "exception": false,
     "start_time": "2025-08-19T18:56:18.732303",
     "status": "completed"
    },
    "tags": []
   },
   "outputs": [
    {
     "data": {
      "text/plain": [
       "{'frau1': 0.9096913330637553,\n",
       " 'nongerman': 0.964744849267389,\n",
       " 'nongerman_male': 0.9727100783572008,\n",
       " 'nongerman_female': 0.9515648286140089}"
      ]
     },
     "execution_count": 54,
     "metadata": {},
     "output_type": "execute_result"
    }
   ],
   "source": [
    "cond_coverage"
   ]
  },
  {
   "cell_type": "code",
   "execution_count": 55,
   "id": "942895c7",
   "metadata": {
    "execution": {
     "iopub.execute_input": "2025-08-19T18:56:18.792262Z",
     "iopub.status.busy": "2025-08-19T18:56:18.790927Z",
     "iopub.status.idle": "2025-08-19T18:56:18.802255Z",
     "shell.execute_reply": "2025-08-19T18:56:18.801083Z"
    },
    "papermill": {
     "duration": 0.027397,
     "end_time": "2025-08-19T18:56:18.803935",
     "exception": false,
     "start_time": "2025-08-19T18:56:18.776538",
     "status": "completed"
    },
    "tags": []
   },
   "outputs": [],
   "source": [
    "for subgroup, cov in cond_coverage.items():\n",
    "    cp_metrics_df[f\"cov_{subgroup}\"] = cov"
   ]
  },
  {
   "cell_type": "code",
   "execution_count": 56,
   "id": "3970120f",
   "metadata": {
    "execution": {
     "iopub.execute_input": "2025-08-19T18:56:18.837791Z",
     "iopub.status.busy": "2025-08-19T18:56:18.836617Z",
     "iopub.status.idle": "2025-08-19T18:56:18.862278Z",
     "shell.execute_reply": "2025-08-19T18:56:18.861486Z"
    },
    "papermill": {
     "duration": 0.045448,
     "end_time": "2025-08-19T18:56:18.863885",
     "exception": false,
     "start_time": "2025-08-19T18:56:18.818437",
     "status": "completed"
    },
    "tags": []
   },
   "outputs": [
    {
     "data": {
      "text/html": [
       "<div>\n",
       "<style scoped>\n",
       "    .dataframe tbody tr th:only-of-type {\n",
       "        vertical-align: middle;\n",
       "    }\n",
       "\n",
       "    .dataframe tbody tr th {\n",
       "        vertical-align: top;\n",
       "    }\n",
       "\n",
       "    .dataframe thead th {\n",
       "        text-align: right;\n",
       "    }\n",
       "</style>\n",
       "<table border=\"1\" class=\"dataframe\">\n",
       "  <thead>\n",
       "    <tr style=\"text-align: right;\">\n",
       "      <th></th>\n",
       "      <th>universe_id</th>\n",
       "      <th>universe_training_year</th>\n",
       "      <th>universe_training_size</th>\n",
       "      <th>universe_scale</th>\n",
       "      <th>universe_model</th>\n",
       "      <th>universe_exclude_features</th>\n",
       "      <th>universe_exclude_subgroups</th>\n",
       "      <th>q_hat</th>\n",
       "      <th>coverage</th>\n",
       "      <th>avg_size</th>\n",
       "      <th>cov_frau1</th>\n",
       "      <th>cov_nongerman</th>\n",
       "      <th>cov_nongerman_male</th>\n",
       "      <th>cov_nongerman_female</th>\n",
       "    </tr>\n",
       "  </thead>\n",
       "  <tbody>\n",
       "    <tr>\n",
       "      <th>0</th>\n",
       "      <td>1ed95d782de6a7539f6245172a7722f6</td>\n",
       "      <td>2014</td>\n",
       "      <td>1k</td>\n",
       "      <td>do-not-scale</td>\n",
       "      <td>elasticnet</td>\n",
       "      <td>sex</td>\n",
       "      <td>keep-all</td>\n",
       "      <td>0.634644</td>\n",
       "      <td>0.911961</td>\n",
       "      <td>1.280337</td>\n",
       "      <td>0.909691</td>\n",
       "      <td>0.964745</td>\n",
       "      <td>0.97271</td>\n",
       "      <td>0.951565</td>\n",
       "    </tr>\n",
       "  </tbody>\n",
       "</table>\n",
       "</div>"
      ],
      "text/plain": [
       "                        universe_id universe_training_year  \\\n",
       "0  1ed95d782de6a7539f6245172a7722f6                   2014   \n",
       "\n",
       "  universe_training_size universe_scale universe_model  \\\n",
       "0                     1k   do-not-scale     elasticnet   \n",
       "\n",
       "  universe_exclude_features universe_exclude_subgroups     q_hat  coverage  \\\n",
       "0                       sex                   keep-all  0.634644  0.911961   \n",
       "\n",
       "   avg_size  cov_frau1  cov_nongerman  cov_nongerman_male  \\\n",
       "0  1.280337   0.909691       0.964745             0.97271   \n",
       "\n",
       "   cov_nongerman_female  \n",
       "0              0.951565  "
      ]
     },
     "execution_count": 56,
     "metadata": {},
     "output_type": "execute_result"
    }
   ],
   "source": [
    "cp_metrics_df"
   ]
  },
  {
   "cell_type": "markdown",
   "id": "3fc519cc",
   "metadata": {
    "papermill": {
     "duration": 0.017741,
     "end_time": "2025-08-19T18:56:18.902959",
     "exception": false,
     "start_time": "2025-08-19T18:56:18.885218",
     "status": "completed"
    },
    "tags": []
   },
   "source": [
    "# (Fairness) Metrics"
   ]
  },
  {
   "cell_type": "code",
   "execution_count": 57,
   "id": "a2e5e155",
   "metadata": {
    "execution": {
     "iopub.execute_input": "2025-08-19T18:56:18.931910Z",
     "iopub.status.busy": "2025-08-19T18:56:18.930823Z",
     "iopub.status.idle": "2025-08-19T18:56:18.958890Z",
     "shell.execute_reply": "2025-08-19T18:56:18.957966Z"
    },
    "papermill": {
     "duration": 0.044697,
     "end_time": "2025-08-19T18:56:18.960745",
     "exception": false,
     "start_time": "2025-08-19T18:56:18.916048",
     "status": "completed"
    },
    "tags": []
   },
   "outputs": [],
   "source": [
    "colname_to_bin = \"maxdeutsch1\"\n",
    "majority_value = org_train[colname_to_bin].mode()[0]\n",
    "\n",
    "org_test[\"majmin\"] = np.where(org_test[colname_to_bin] == majority_value, \"majority\", \"minority\")"
   ]
  },
  {
   "cell_type": "code",
   "execution_count": 58,
   "id": "17e3e4d5",
   "metadata": {
    "execution": {
     "iopub.execute_input": "2025-08-19T18:56:19.001783Z",
     "iopub.status.busy": "2025-08-19T18:56:19.000833Z",
     "iopub.status.idle": "2025-08-19T18:56:20.730077Z",
     "shell.execute_reply": "2025-08-19T18:56:20.729402Z"
    },
    "papermill": {
     "duration": 1.74628,
     "end_time": "2025-08-19T18:56:20.731546",
     "exception": false,
     "start_time": "2025-08-19T18:56:18.985266",
     "status": "completed"
    },
    "tags": []
   },
   "outputs": [],
   "source": [
    "example_universe = universe.copy()\n",
    "example_universe[\"cutoff\"] = example_universe[\"cutoff\"][0]\n",
    "example_universe[\"eval_fairness_grouping\"] = example_universe[\"eval_fairness_grouping\"][0]\n",
    "fairness_dict, metric_frame = universe_analysis.compute_metrics(\n",
    "    example_universe,\n",
    "    y_pred_prob=probs_test,\n",
    "    y_test=y_true,\n",
    "    org_test=org_test,\n",
    ")"
   ]
  },
  {
   "cell_type": "markdown",
   "id": "1fb7a0e9",
   "metadata": {
    "papermill": {
     "duration": 0.01235,
     "end_time": "2025-08-19T18:56:20.756695",
     "exception": false,
     "start_time": "2025-08-19T18:56:20.744345",
     "status": "completed"
    },
    "tags": []
   },
   "source": [
    "# Overall"
   ]
  },
  {
   "cell_type": "markdown",
   "id": "be1784b1",
   "metadata": {
    "papermill": {
     "duration": 0.012018,
     "end_time": "2025-08-19T18:56:20.780850",
     "exception": false,
     "start_time": "2025-08-19T18:56:20.768832",
     "status": "completed"
    },
    "tags": []
   },
   "source": [
    "Main fairness target: Equalized Odds. Seems to be a better fit than equal opportunity, since we're not only interested in Y = 1. Seems to be a better fit than demographic parity, since we also care about accuracy, not just equal distribution of preds.\n",
    "\n",
    "Pick column for computation of fairness metrics\n",
    "\n",
    "Performance\n",
    "Overall performance measures, most interesting in relation to the measures split by group below"
   ]
  },
  {
   "cell_type": "code",
   "execution_count": 59,
   "id": "b7672bee",
   "metadata": {
    "execution": {
     "iopub.execute_input": "2025-08-19T18:56:20.807858Z",
     "iopub.status.busy": "2025-08-19T18:56:20.806754Z",
     "iopub.status.idle": "2025-08-19T18:56:20.822036Z",
     "shell.execute_reply": "2025-08-19T18:56:20.820413Z"
    },
    "papermill": {
     "duration": 0.030553,
     "end_time": "2025-08-19T18:56:20.823492",
     "exception": false,
     "start_time": "2025-08-19T18:56:20.792939",
     "status": "completed"
    },
    "tags": []
   },
   "outputs": [
    {
     "data": {
      "text/plain": [
       "accuracy                   0.212786\n",
       "balanced accuracy          0.522718\n",
       "f1                         0.234436\n",
       "precision                  0.133925\n",
       "false positive rate        0.894172\n",
       "false negative rate        0.060393\n",
       "selection rate             0.900000\n",
       "count                  89710.000000\n",
       "dtype: float64"
      ]
     },
     "execution_count": 59,
     "metadata": {},
     "output_type": "execute_result"
    }
   ],
   "source": [
    "metric_frame.overall"
   ]
  },
  {
   "cell_type": "markdown",
   "id": "d93333c9",
   "metadata": {
    "papermill": {
     "duration": 0.012587,
     "end_time": "2025-08-19T18:56:20.851810",
     "exception": false,
     "start_time": "2025-08-19T18:56:20.839223",
     "status": "completed"
    },
    "tags": []
   },
   "source": [
    "By Group"
   ]
  },
  {
   "cell_type": "code",
   "execution_count": 60,
   "id": "52256966",
   "metadata": {
    "execution": {
     "iopub.execute_input": "2025-08-19T18:56:20.879090Z",
     "iopub.status.busy": "2025-08-19T18:56:20.878052Z",
     "iopub.status.idle": "2025-08-19T18:56:20.902942Z",
     "shell.execute_reply": "2025-08-19T18:56:20.901815Z"
    },
    "papermill": {
     "duration": 0.040414,
     "end_time": "2025-08-19T18:56:20.904511",
     "exception": false,
     "start_time": "2025-08-19T18:56:20.864097",
     "status": "completed"
    },
    "tags": []
   },
   "outputs": [
    {
     "data": {
      "text/html": [
       "<div>\n",
       "<style scoped>\n",
       "    .dataframe tbody tr th:only-of-type {\n",
       "        vertical-align: middle;\n",
       "    }\n",
       "\n",
       "    .dataframe tbody tr th {\n",
       "        vertical-align: top;\n",
       "    }\n",
       "\n",
       "    .dataframe thead th {\n",
       "        text-align: right;\n",
       "    }\n",
       "</style>\n",
       "<table border=\"1\" class=\"dataframe\">\n",
       "  <thead>\n",
       "    <tr style=\"text-align: right;\">\n",
       "      <th></th>\n",
       "      <th>accuracy</th>\n",
       "      <th>balanced accuracy</th>\n",
       "      <th>f1</th>\n",
       "      <th>precision</th>\n",
       "      <th>false positive rate</th>\n",
       "      <th>false negative rate</th>\n",
       "      <th>selection rate</th>\n",
       "      <th>count</th>\n",
       "    </tr>\n",
       "    <tr>\n",
       "      <th>majmin</th>\n",
       "      <th></th>\n",
       "      <th></th>\n",
       "      <th></th>\n",
       "      <th></th>\n",
       "      <th></th>\n",
       "      <th></th>\n",
       "      <th></th>\n",
       "      <th></th>\n",
       "    </tr>\n",
       "  </thead>\n",
       "  <tbody>\n",
       "    <tr>\n",
       "      <th>majority</th>\n",
       "      <td>0.233483</td>\n",
       "      <td>0.528846</td>\n",
       "      <td>0.242853</td>\n",
       "      <td>0.139654</td>\n",
       "      <td>0.872614</td>\n",
       "      <td>0.069694</td>\n",
       "      <td>0.880237</td>\n",
       "      <td>69170.0</td>\n",
       "    </tr>\n",
       "    <tr>\n",
       "      <th>minority</th>\n",
       "      <td>0.143087</td>\n",
       "      <td>0.505060</td>\n",
       "      <td>0.207911</td>\n",
       "      <td>0.116355</td>\n",
       "      <td>0.965386</td>\n",
       "      <td>0.024493</td>\n",
       "      <td>0.966553</td>\n",
       "      <td>20540.0</td>\n",
       "    </tr>\n",
       "  </tbody>\n",
       "</table>\n",
       "</div>"
      ],
      "text/plain": [
       "          accuracy  balanced accuracy        f1  precision  \\\n",
       "majmin                                                       \n",
       "majority  0.233483           0.528846  0.242853   0.139654   \n",
       "minority  0.143087           0.505060  0.207911   0.116355   \n",
       "\n",
       "          false positive rate  false negative rate  selection rate    count  \n",
       "majmin                                                                       \n",
       "majority             0.872614             0.069694        0.880237  69170.0  \n",
       "minority             0.965386             0.024493        0.966553  20540.0  "
      ]
     },
     "execution_count": 60,
     "metadata": {},
     "output_type": "execute_result"
    }
   ],
   "source": [
    "metric_frame.by_group"
   ]
  },
  {
   "cell_type": "code",
   "execution_count": 61,
   "id": "6e6c20ae",
   "metadata": {
    "execution": {
     "iopub.execute_input": "2025-08-19T18:56:20.939987Z",
     "iopub.status.busy": "2025-08-19T18:56:20.939042Z",
     "iopub.status.idle": "2025-08-19T18:56:22.659424Z",
     "shell.execute_reply": "2025-08-19T18:56:22.656500Z"
    },
    "papermill": {
     "duration": 1.736633,
     "end_time": "2025-08-19T18:56:22.661273",
     "exception": false,
     "start_time": "2025-08-19T18:56:20.924640",
     "status": "completed"
    },
    "tags": []
   },
   "outputs": [
    {
     "data": {
      "text/plain": [
       "array([[<Axes: title={'center': 'accuracy'}, xlabel='majmin'>,\n",
       "        <Axes: title={'center': 'balanced accuracy'}, xlabel='majmin'>,\n",
       "        <Axes: title={'center': 'f1'}, xlabel='majmin'>],\n",
       "       [<Axes: title={'center': 'precision'}, xlabel='majmin'>,\n",
       "        <Axes: title={'center': 'false positive rate'}, xlabel='majmin'>,\n",
       "        <Axes: title={'center': 'false negative rate'}, xlabel='majmin'>],\n",
       "       [<Axes: title={'center': 'selection rate'}, xlabel='majmin'>,\n",
       "        <Axes: title={'center': 'count'}, xlabel='majmin'>,\n",
       "        <Axes: xlabel='majmin'>]], dtype=object)"
      ]
     },
     "execution_count": 61,
     "metadata": {},
     "output_type": "execute_result"
    },
    {
     "data": {
      "image/png": "[encoded data removed]",
      "text/plain": [
       "<Figure size 1200x800 with 9 Axes>"
      ]
     },
     "metadata": {},
     "output_type": "display_data"
    }
   ],
   "source": [
    "# In a graphic\n",
    "metric_frame.by_group.plot.bar(\n",
    "    subplots=True,\n",
    "    layout=[3, 3],\n",
    "    legend=False,\n",
    "    figsize=[12, 8],\n",
    "    title=\"Show all metrics\",\n",
    ")"
   ]
  },
  {
   "cell_type": "markdown",
   "id": "b2e433ae",
   "metadata": {
    "papermill": {
     "duration": 0.013489,
     "end_time": "2025-08-19T18:56:22.690200",
     "exception": false,
     "start_time": "2025-08-19T18:56:22.676711",
     "status": "completed"
    },
    "tags": []
   },
   "source": [
    "# Final Output"
   ]
  },
  {
   "cell_type": "code",
   "execution_count": 62,
   "id": "3871301e",
   "metadata": {
    "execution": {
     "iopub.execute_input": "2025-08-19T18:56:22.721313Z",
     "iopub.status.busy": "2025-08-19T18:56:22.719161Z",
     "iopub.status.idle": "2025-08-19T18:56:22.733378Z",
     "shell.execute_reply": "2025-08-19T18:56:22.732327Z"
    },
    "papermill": {
     "duration": 0.031299,
     "end_time": "2025-08-19T18:56:22.734858",
     "exception": false,
     "start_time": "2025-08-19T18:56:22.703559",
     "status": "completed"
    },
    "tags": []
   },
   "outputs": [
    {
     "data": {
      "text/plain": [
       "4"
      ]
     },
     "execution_count": 62,
     "metadata": {},
     "output_type": "execute_result"
    }
   ],
   "source": [
    "sub_universes = universe_analysis.generate_sub_universes()\n",
    "len(sub_universes)"
   ]
  },
  {
   "cell_type": "code",
   "execution_count": 63,
   "id": "d9cfdaca",
   "metadata": {
    "execution": {
     "iopub.execute_input": "2025-08-19T18:56:22.768961Z",
     "iopub.status.busy": "2025-08-19T18:56:22.767655Z",
     "iopub.status.idle": "2025-08-19T18:56:22.781771Z",
     "shell.execute_reply": "2025-08-19T18:56:22.780096Z"
    },
    "papermill": {
     "duration": 0.03102,
     "end_time": "2025-08-19T18:56:22.783587",
     "exception": false,
     "start_time": "2025-08-19T18:56:22.752567",
     "status": "completed"
    },
    "tags": []
   },
   "outputs": [],
   "source": [
    "def filter_sub_universe_data(sub_universe, org_test):\n",
    "    # Keep all rows — no filtering\n",
    "    keep_rows_mask = np.ones(org_test.shape[0], dtype=bool)\n",
    "\n",
    "    print(f\"[INFO] Keeping all rows: {keep_rows_mask.sum()} rows retained.\")\n",
    "    return keep_rows_mask"
   ]
  },
  {
   "cell_type": "code",
   "execution_count": 64,
   "id": "2bc31ac1",
   "metadata": {
    "execution": {
     "iopub.execute_input": "2025-08-19T18:56:22.817196Z",
     "iopub.status.busy": "2025-08-19T18:56:22.816071Z",
     "iopub.status.idle": "2025-08-19T18:56:29.664084Z",
     "shell.execute_reply": "2025-08-19T18:56:29.663056Z"
    },
    "papermill": {
     "duration": 6.864597,
     "end_time": "2025-08-19T18:56:29.665368",
     "exception": false,
     "start_time": "2025-08-19T18:56:22.800771",
     "status": "completed"
    },
    "tags": []
   },
   "outputs": [
    {
     "name": "stdout",
     "output_type": "stream",
     "text": [
      "Stopping execution_time clock.\n",
      "[INFO] Keeping all rows: 89710 rows retained.\n"
     ]
    },
    {
     "name": "stdout",
     "output_type": "stream",
     "text": [
      "[INFO] Keeping all rows: 89710 rows retained.\n"
     ]
    },
    {
     "name": "stdout",
     "output_type": "stream",
     "text": [
      "[INFO] Keeping all rows: 89710 rows retained.\n"
     ]
    },
    {
     "name": "stdout",
     "output_type": "stream",
     "text": [
      "[INFO] Keeping all rows: 89710 rows retained.\n"
     ]
    },
    {
     "data": {
      "text/html": [
       "<div>\n",
       "<style scoped>\n",
       "    .dataframe tbody tr th:only-of-type {\n",
       "        vertical-align: middle;\n",
       "    }\n",
       "\n",
       "    .dataframe tbody tr th {\n",
       "        vertical-align: top;\n",
       "    }\n",
       "\n",
       "    .dataframe thead th {\n",
       "        text-align: right;\n",
       "    }\n",
       "</style>\n",
       "<table border=\"1\" class=\"dataframe\">\n",
       "  <thead>\n",
       "    <tr style=\"text-align: right;\">\n",
       "      <th></th>\n",
       "      <th>run_no</th>\n",
       "      <th>universe_id</th>\n",
       "      <th>universe_settings</th>\n",
       "      <th>execution_time</th>\n",
       "      <th>test_size_n</th>\n",
       "      <th>test_size_frac</th>\n",
       "      <th>fair_main_equalized_odds_difference</th>\n",
       "      <th>fair_main_equalized_odds_ratio</th>\n",
       "      <th>fair_main_demographic_parity_difference</th>\n",
       "      <th>fair_main_demographic_parity_ratio</th>\n",
       "      <th>...</th>\n",
       "      <th>perf_grp_precision_0</th>\n",
       "      <th>perf_grp_precision_1</th>\n",
       "      <th>perf_grp_false positive rate_0</th>\n",
       "      <th>perf_grp_false positive rate_1</th>\n",
       "      <th>perf_grp_false negative rate_0</th>\n",
       "      <th>perf_grp_false negative rate_1</th>\n",
       "      <th>perf_grp_selection rate_0</th>\n",
       "      <th>perf_grp_selection rate_1</th>\n",
       "      <th>perf_grp_count_0</th>\n",
       "      <th>perf_grp_count_1</th>\n",
       "    </tr>\n",
       "  </thead>\n",
       "  <tbody>\n",
       "    <tr>\n",
       "      <th>0</th>\n",
       "      <td>3</td>\n",
       "      <td>1ed95d782de6a7539f6245172a7722f6</td>\n",
       "      <td>{\"cutoff\": \"quantile_0.1\", \"eval_fairness_grou...</td>\n",
       "      <td>20.254343</td>\n",
       "      <td>89710</td>\n",
       "      <td>1.0</td>\n",
       "      <td>0.092773</td>\n",
       "      <td>0.903901</td>\n",
       "      <td>0.086316</td>\n",
       "      <td>0.910697</td>\n",
       "      <td>...</td>\n",
       "      <td>NaN</td>\n",
       "      <td>NaN</td>\n",
       "      <td>NaN</td>\n",
       "      <td>NaN</td>\n",
       "      <td>NaN</td>\n",
       "      <td>NaN</td>\n",
       "      <td>NaN</td>\n",
       "      <td>NaN</td>\n",
       "      <td>NaN</td>\n",
       "      <td>NaN</td>\n",
       "    </tr>\n",
       "    <tr>\n",
       "      <th>0</th>\n",
       "      <td>3</td>\n",
       "      <td>1ed95d782de6a7539f6245172a7722f6</td>\n",
       "      <td>{\"cutoff\": \"quantile_0.1\", \"eval_fairness_grou...</td>\n",
       "      <td>20.254343</td>\n",
       "      <td>89710</td>\n",
       "      <td>1.0</td>\n",
       "      <td>0.092773</td>\n",
       "      <td>0.903901</td>\n",
       "      <td>0.086316</td>\n",
       "      <td>0.910697</td>\n",
       "      <td>...</td>\n",
       "      <td>0.116355</td>\n",
       "      <td>0.139654</td>\n",
       "      <td>0.965386</td>\n",
       "      <td>0.872614</td>\n",
       "      <td>0.024493</td>\n",
       "      <td>0.069694</td>\n",
       "      <td>0.966553</td>\n",
       "      <td>0.880237</td>\n",
       "      <td>20540.0</td>\n",
       "      <td>69170.0</td>\n",
       "    </tr>\n",
       "    <tr>\n",
       "      <th>0</th>\n",
       "      <td>3</td>\n",
       "      <td>1ed95d782de6a7539f6245172a7722f6</td>\n",
       "      <td>{\"cutoff\": \"quantile_0.25\", \"eval_fairness_gro...</td>\n",
       "      <td>20.254343</td>\n",
       "      <td>89710</td>\n",
       "      <td>1.0</td>\n",
       "      <td>0.221832</td>\n",
       "      <td>0.755881</td>\n",
       "      <td>0.208567</td>\n",
       "      <td>0.771009</td>\n",
       "      <td>...</td>\n",
       "      <td>NaN</td>\n",
       "      <td>NaN</td>\n",
       "      <td>NaN</td>\n",
       "      <td>NaN</td>\n",
       "      <td>NaN</td>\n",
       "      <td>NaN</td>\n",
       "      <td>NaN</td>\n",
       "      <td>NaN</td>\n",
       "      <td>NaN</td>\n",
       "      <td>NaN</td>\n",
       "    </tr>\n",
       "    <tr>\n",
       "      <th>0</th>\n",
       "      <td>3</td>\n",
       "      <td>1ed95d782de6a7539f6245172a7722f6</td>\n",
       "      <td>{\"cutoff\": \"quantile_0.25\", \"eval_fairness_gro...</td>\n",
       "      <td>20.254343</td>\n",
       "      <td>89710</td>\n",
       "      <td>1.0</td>\n",
       "      <td>0.221832</td>\n",
       "      <td>0.755881</td>\n",
       "      <td>0.208567</td>\n",
       "      <td>0.771009</td>\n",
       "      <td>...</td>\n",
       "      <td>0.117329</td>\n",
       "      <td>0.151130</td>\n",
       "      <td>0.908706</td>\n",
       "      <td>0.686873</td>\n",
       "      <td>0.073057</td>\n",
       "      <td>0.196827</td>\n",
       "      <td>0.910808</td>\n",
       "      <td>0.702241</td>\n",
       "      <td>20540.0</td>\n",
       "      <td>69170.0</td>\n",
       "    </tr>\n",
       "  </tbody>\n",
       "</table>\n",
       "<p>4 rows × 50 columns</p>\n",
       "</div>"
      ],
      "text/plain": [
       "  run_no                       universe_id  \\\n",
       "0      3  1ed95d782de6a7539f6245172a7722f6   \n",
       "0      3  1ed95d782de6a7539f6245172a7722f6   \n",
       "0      3  1ed95d782de6a7539f6245172a7722f6   \n",
       "0      3  1ed95d782de6a7539f6245172a7722f6   \n",
       "\n",
       "                                   universe_settings  execution_time  \\\n",
       "0  {\"cutoff\": \"quantile_0.1\", \"eval_fairness_grou...       20.254343   \n",
       "0  {\"cutoff\": \"quantile_0.1\", \"eval_fairness_grou...       20.254343   \n",
       "0  {\"cutoff\": \"quantile_0.25\", \"eval_fairness_gro...       20.254343   \n",
       "0  {\"cutoff\": \"quantile_0.25\", \"eval_fairness_gro...       20.254343   \n",
       "\n",
       "   test_size_n  test_size_frac  fair_main_equalized_odds_difference  \\\n",
       "0        89710             1.0                             0.092773   \n",
       "0        89710             1.0                             0.092773   \n",
       "0        89710             1.0                             0.221832   \n",
       "0        89710             1.0                             0.221832   \n",
       "\n",
       "   fair_main_equalized_odds_ratio  fair_main_demographic_parity_difference  \\\n",
       "0                        0.903901                                 0.086316   \n",
       "0                        0.903901                                 0.086316   \n",
       "0                        0.755881                                 0.208567   \n",
       "0                        0.755881                                 0.208567   \n",
       "\n",
       "   fair_main_demographic_parity_ratio  ...  perf_grp_precision_0  \\\n",
       "0                            0.910697  ...                   NaN   \n",
       "0                            0.910697  ...              0.116355   \n",
       "0                            0.771009  ...                   NaN   \n",
       "0                            0.771009  ...              0.117329   \n",
       "\n",
       "   perf_grp_precision_1  perf_grp_false positive rate_0  \\\n",
       "0                   NaN                             NaN   \n",
       "0              0.139654                        0.965386   \n",
       "0                   NaN                             NaN   \n",
       "0              0.151130                        0.908706   \n",
       "\n",
       "   perf_grp_false positive rate_1  perf_grp_false negative rate_0  \\\n",
       "0                             NaN                             NaN   \n",
       "0                        0.872614                        0.024493   \n",
       "0                             NaN                             NaN   \n",
       "0                        0.686873                        0.073057   \n",
       "\n",
       "   perf_grp_false negative rate_1  perf_grp_selection rate_0  \\\n",
       "0                             NaN                        NaN   \n",
       "0                        0.069694                   0.966553   \n",
       "0                             NaN                        NaN   \n",
       "0                        0.196827                   0.910808   \n",
       "\n",
       "   perf_grp_selection rate_1  perf_grp_count_0  perf_grp_count_1  \n",
       "0                        NaN               NaN               NaN  \n",
       "0                   0.880237           20540.0           69170.0  \n",
       "0                        NaN               NaN               NaN  \n",
       "0                   0.702241           20540.0           69170.0  \n",
       "\n",
       "[4 rows x 50 columns]"
      ]
     },
     "execution_count": 64,
     "metadata": {},
     "output_type": "execute_result"
    }
   ],
   "source": [
    "final_output = universe_analysis.generate_final_output(\n",
    "    y_pred_prob=probs_test,\n",
    "    y_test=y_true,\n",
    "    org_test=org_test,\n",
    "    filter_data=filter_sub_universe_data,\n",
    "    cp_metrics_df=cp_metrics_df,\n",
    "    save=True,\n",
    ")\n",
    "final_output"
   ]
  },
  {
   "cell_type": "code",
   "execution_count": null,
   "id": "8b80a1ff",
   "metadata": {
    "papermill": {
     "duration": 0.021973,
     "end_time": "2025-08-19T18:56:29.711480",
     "exception": false,
     "start_time": "2025-08-19T18:56:29.689507",
     "status": "completed"
    },
    "tags": []
   },
   "outputs": [],
   "source": []
  },
  {
   "cell_type": "code",
   "execution_count": null,
   "id": "275c9fad",
   "metadata": {
    "papermill": {
     "duration": 0.014447,
     "end_time": "2025-08-19T18:56:29.740623",
     "exception": false,
     "start_time": "2025-08-19T18:56:29.726176",
     "status": "completed"
    },
    "tags": []
   },
   "outputs": [],
   "source": []
  }
 ],
 "metadata": {
  "celltoolbar": "Tags",
  "kernelspec": {
   "display_name": "Python (CMA Fairness)",
   "language": "python",
   "name": "cma_fair_env"
  },
  "language_info": {
   "codemirror_mode": {
    "name": "ipython",
    "version": 3
   },
   "file_extension": ".py",
   "mimetype": "text/x-python",
   "name": "python",
   "nbconvert_exporter": "python",
   "pygments_lexer": "ipython3",
   "version": "3.10.12"
  },
  "papermill": {
   "default_parameters": {},
   "duration": 30.621057,
   "end_time": "2025-08-19T18:56:30.576815",
   "environment_variables": {},
   "exception": null,
   "input_path": "universe_analysis.ipynb",
   "output_path": "output/runs/3/notebooks/m_3-1ed95d782de6a7539f6245172a7722f6.ipynb",
   "parameters": {
    "output_dir": "output",
    "run_no": "3",
    "seed": "2023",
    "universe": "{\"cutoff\": [\"quantile_0.1\", \"quantile_0.25\"], \"eval_fairness_grouping\": [\"majority-minority\", \"nationality-all\"], \"exclude_features\": \"sex\", \"exclude_subgroups\": \"keep-all\", \"model\": \"elasticnet\", \"scale\": \"do-not-scale\", \"training_size\": \"1k\", \"training_year\": \"2014\"}",
    "universe_id": "1ed95d782de6a7539f6245172a7722f6"
   },
   "start_time": "2025-08-19T18:55:59.955758",
   "version": "2.6.0"
  }
 },
 "nbformat": 4,
 "nbformat_minor": 5
}