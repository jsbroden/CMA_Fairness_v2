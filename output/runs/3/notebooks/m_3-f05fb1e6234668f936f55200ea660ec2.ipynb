{
 "cells": [
  {
   "cell_type": "markdown",
   "id": "ef23dbb3",
   "metadata": {
    "papermill": {
     "duration": 0.023044,
     "end_time": "2025-08-19T18:18:17.690454",
     "exception": false,
     "start_time": "2025-08-19T18:18:17.667410",
     "status": "completed"
    },
    "tags": []
   },
   "source": [
    "# Setup"
   ]
  },
  {
   "cell_type": "code",
   "execution_count": 1,
   "id": "0bc8e7dc",
   "metadata": {
    "execution": {
     "iopub.execute_input": "2025-08-19T18:18:17.713574Z",
     "iopub.status.busy": "2025-08-19T18:18:17.713172Z",
     "iopub.status.idle": "2025-08-19T18:18:17.725289Z",
     "shell.execute_reply": "2025-08-19T18:18:17.724263Z"
    },
    "papermill": {
     "duration": 0.023636,
     "end_time": "2025-08-19T18:18:17.726913",
     "exception": false,
     "start_time": "2025-08-19T18:18:17.703277",
     "status": "completed"
    },
    "tags": []
   },
   "outputs": [
    {
     "name": "stdout",
     "output_type": "stream",
     "text": [
      "/dss/dsshome1/0C/ra93lal2/cma/CMA_Fairness_v2\n"
     ]
    },
    {
     "name": "stderr",
     "output_type": "stream",
     "text": [
      "/dss/dsshome1/0C/ra93lal2/.local/share/virtualenvs/CMA_Fairness_v2-3j10GkSs/lib/python3.10/site-packages/IPython/core/magics/osm.py:393: UserWarning: This is now an optional IPython functionality, using bookmarks requires you to install the `pickleshare` library.\n",
      "  bkms = self.shell.db.get('bookmarks', {})\n",
      "/dss/dsshome1/0C/ra93lal2/.local/share/virtualenvs/CMA_Fairness_v2-3j10GkSs/lib/python3.10/site-packages/IPython/core/magics/osm.py:417: UserWarning: This is now an optional IPython functionality, setting dhist requires you to install the `pickleshare` library.\n",
      "  self.shell.db['dhist'] = compress_dhist(dhist)[-100:]\n"
     ]
    }
   ],
   "source": [
    "%cd ~/cma/CMA_Fairness_v2"
   ]
  },
  {
   "cell_type": "markdown",
   "id": "9d235661",
   "metadata": {
    "papermill": {
     "duration": 0.009485,
     "end_time": "2025-08-19T18:18:17.748109",
     "exception": false,
     "start_time": "2025-08-19T18:18:17.738624",
     "status": "completed"
    },
    "tags": []
   },
   "source": [
    "The following cell holds the definition of our parameters, these values can be overriden by rendering the with e.g. the following command:\n",
    "\n",
    "papermill -p alpha 0.2 -p ratio 0.3 universe_analysis.ipynb output/test_run.ipynb"
   ]
  },
  {
   "cell_type": "code",
   "execution_count": 2,
   "id": "4a789d8e",
   "metadata": {
    "execution": {
     "iopub.execute_input": "2025-08-19T18:18:17.767009Z",
     "iopub.status.busy": "2025-08-19T18:18:17.766642Z",
     "iopub.status.idle": "2025-08-19T18:18:17.772716Z",
     "shell.execute_reply": "2025-08-19T18:18:17.771718Z"
    },
    "papermill": {
     "duration": 0.017483,
     "end_time": "2025-08-19T18:18:17.774249",
     "exception": false,
     "start_time": "2025-08-19T18:18:17.756766",
     "status": "completed"
    },
    "tags": []
   },
   "outputs": [
    {
     "name": "stdout",
     "output_type": "stream",
     "text": [
      "Current working directory: /dss/dsshome1/0C/ra93lal2/cma/CMA_Fairness_v2\n"
     ]
    }
   ],
   "source": [
    "import os\n",
    "print(\"Current working directory:\", os.getcwd())"
   ]
  },
  {
   "cell_type": "code",
   "execution_count": 3,
   "id": "4132aaed",
   "metadata": {
    "execution": {
     "iopub.execute_input": "2025-08-19T18:18:17.795295Z",
     "iopub.status.busy": "2025-08-19T18:18:17.794962Z",
     "iopub.status.idle": "2025-08-19T18:18:17.803051Z",
     "shell.execute_reply": "2025-08-19T18:18:17.802169Z"
    },
    "papermill": {
     "duration": 0.021211,
     "end_time": "2025-08-19T18:18:17.805270",
     "exception": false,
     "start_time": "2025-08-19T18:18:17.784059",
     "status": "completed"
    },
    "tags": [
     "parameters"
    ]
   },
   "outputs": [],
   "source": [
    "run_no = 0\n",
    "universe_id = \"test\"\n",
    "universe = {\n",
    "    \"training_size\": \"5k\", # \"25k\", \"5k\", \"1k\"\n",
    "    \"training_year\": \"2012_14\", # \"2014\", \"2012_14\", \"2010_14\"\n",
    "    \"scale\": \"scale\", # \"scale\", \"do-not-scale\",\n",
    "    \"model\": \"elasticnet\", # \"logreg\", \"penalized_logreg\", \"rf\", \"gbm\", \"elasticnet\"\n",
    "    \"cutoff\": [\"quantile_0.15\", \"quantile_0.30\"],\n",
    "    \"exclude_features\": \"age\", # \"none\", \"nationality\", \"sex\", \"nationality-sex\", \"age\"\n",
    "    \"exclude_subgroups\": \"drop-non-german\", # \"keep-all\", \"drop-non-german\"\n",
    "    \"eval_fairness_grouping\": [\"majority-minority\", \"nationality-all\"]\n",
    "}\n",
    "\n",
    "output_dir=\"./output\"\n",
    "seed=0"
   ]
  },
  {
   "cell_type": "code",
   "execution_count": 4,
   "id": "008effb9",
   "metadata": {
    "execution": {
     "iopub.execute_input": "2025-08-19T18:18:17.826623Z",
     "iopub.status.busy": "2025-08-19T18:18:17.826285Z",
     "iopub.status.idle": "2025-08-19T18:18:17.832937Z",
     "shell.execute_reply": "2025-08-19T18:18:17.832132Z"
    },
    "papermill": {
     "duration": 0.019704,
     "end_time": "2025-08-19T18:18:17.835682",
     "exception": false,
     "start_time": "2025-08-19T18:18:17.815978",
     "status": "completed"
    },
    "tags": [
     "injected-parameters"
    ]
   },
   "outputs": [],
   "source": [
    "# Parameters\n",
    "universe_id = \"f05fb1e6234668f936f55200ea660ec2\"\n",
    "run_no = \"3\"\n",
    "universe = \"{\\\"cutoff\\\": [\\\"quantile_0.1\\\", \\\"quantile_0.25\\\"], \\\"eval_fairness_grouping\\\": [\\\"majority-minority\\\", \\\"nationality-all\\\"], \\\"exclude_features\\\": \\\"age\\\", \\\"exclude_subgroups\\\": \\\"keep-all\\\", \\\"model\\\": \\\"logreg\\\", \\\"scale\\\": \\\"do-not-scale\\\", \\\"training_size\\\": \\\"25k\\\", \\\"training_year\\\": \\\"2010_14\\\"}\"\n",
    "output_dir = \"output\"\n",
    "seed = \"2023\"\n"
   ]
  },
  {
   "cell_type": "code",
   "execution_count": 5,
   "id": "a5d7941f",
   "metadata": {
    "execution": {
     "iopub.execute_input": "2025-08-19T18:18:17.869538Z",
     "iopub.status.busy": "2025-08-19T18:18:17.869046Z",
     "iopub.status.idle": "2025-08-19T18:18:17.875975Z",
     "shell.execute_reply": "2025-08-19T18:18:17.874746Z"
    },
    "papermill": {
     "duration": 0.021272,
     "end_time": "2025-08-19T18:18:17.877455",
     "exception": false,
     "start_time": "2025-08-19T18:18:17.856183",
     "status": "completed"
    },
    "tags": []
   },
   "outputs": [],
   "source": [
    "import json\n",
    "if isinstance(universe, str):\n",
    "    universe = json.loads(universe)"
   ]
  },
  {
   "cell_type": "code",
   "execution_count": 6,
   "id": "7076ccb1",
   "metadata": {
    "execution": {
     "iopub.execute_input": "2025-08-19T18:18:17.897266Z",
     "iopub.status.busy": "2025-08-19T18:18:17.896828Z",
     "iopub.status.idle": "2025-08-19T18:18:17.954628Z",
     "shell.execute_reply": "2025-08-19T18:18:17.953946Z"
    },
    "papermill": {
     "duration": 0.070742,
     "end_time": "2025-08-19T18:18:17.957532",
     "exception": false,
     "start_time": "2025-08-19T18:18:17.886790",
     "status": "completed"
    },
    "tags": []
   },
   "outputs": [],
   "source": [
    "# Auto-reload the custom package\n",
    "%load_ext autoreload\n",
    "%autoreload 1\n",
    "%aimport fairness_multiverse"
   ]
  },
  {
   "cell_type": "code",
   "execution_count": 7,
   "id": "94c8eb93",
   "metadata": {
    "execution": {
     "iopub.execute_input": "2025-08-19T18:18:17.995094Z",
     "iopub.status.busy": "2025-08-19T18:18:17.993935Z",
     "iopub.status.idle": "2025-08-19T18:18:19.567179Z",
     "shell.execute_reply": "2025-08-19T18:18:19.565841Z"
    },
    "papermill": {
     "duration": 1.589935,
     "end_time": "2025-08-19T18:18:19.569808",
     "exception": false,
     "start_time": "2025-08-19T18:18:17.979873",
     "status": "completed"
    },
    "tags": []
   },
   "outputs": [],
   "source": [
    "from fairness_multiverse.universe import UniverseAnalysis\n",
    "\n",
    "universe_analysis = UniverseAnalysis(\n",
    "    run_no = run_no,\n",
    "    universe_id = universe_id,\n",
    "    universe = universe,\n",
    "    output_dir=output_dir,\n",
    ")"
   ]
  },
  {
   "cell_type": "code",
   "execution_count": 8,
   "id": "2a6381cf",
   "metadata": {
    "execution": {
     "iopub.execute_input": "2025-08-19T18:18:19.593116Z",
     "iopub.status.busy": "2025-08-19T18:18:19.592751Z",
     "iopub.status.idle": "2025-08-19T18:18:19.603046Z",
     "shell.execute_reply": "2025-08-19T18:18:19.601143Z"
    },
    "papermill": {
     "duration": 0.027384,
     "end_time": "2025-08-19T18:18:19.609389",
     "exception": false,
     "start_time": "2025-08-19T18:18:19.582005",
     "status": "completed"
    },
    "tags": []
   },
   "outputs": [
    {
     "name": "stdout",
     "output_type": "stream",
     "text": [
      "Using Seed: 2023\n"
     ]
    }
   ],
   "source": [
    "import numpy as np\n",
    "parsed_seed = int(seed)\n",
    "np.random.seed(parsed_seed)\n",
    "print(f\"Using Seed: {parsed_seed}\")"
   ]
  },
  {
   "cell_type": "markdown",
   "id": "b6e958b4",
   "metadata": {
    "papermill": {
     "duration": 0.009316,
     "end_time": "2025-08-19T18:18:19.630886",
     "exception": false,
     "start_time": "2025-08-19T18:18:19.621570",
     "status": "completed"
    },
    "tags": []
   },
   "source": [
    "# Loading Data"
   ]
  },
  {
   "cell_type": "code",
   "execution_count": 9,
   "id": "98701482",
   "metadata": {
    "execution": {
     "iopub.execute_input": "2025-08-19T18:18:19.650995Z",
     "iopub.status.busy": "2025-08-19T18:18:19.650622Z",
     "iopub.status.idle": "2025-08-19T18:18:30.469550Z",
     "shell.execute_reply": "2025-08-19T18:18:30.468545Z"
    },
    "papermill": {
     "duration": 10.830826,
     "end_time": "2025-08-19T18:18:30.471008",
     "exception": false,
     "start_time": "2025-08-19T18:18:19.640182",
     "status": "completed"
    },
    "tags": []
   },
   "outputs": [
    {
     "name": "stdout",
     "output_type": "stream",
     "text": [
      "Loading SIAB data from cache: data/siab_cached.csv.gz\n"
     ]
    },
    {
     "name": "stdout",
     "output_type": "stream",
     "text": [
      "(643690, 164)\n"
     ]
    }
   ],
   "source": [
    "from pathlib import Path\n",
    "import pandas as pd\n",
    "\n",
    "# File paths\n",
    "raw_file = Path(\"data/raw/siab.csv\")\n",
    "cache_file = Path(\"data/siab_cached.csv.gz\")\n",
    "\n",
    "# Ensure cache directory exists\n",
    "cache_file.parent.mkdir(parents=True, exist_ok=True)\n",
    "\n",
    "# Load with simple caching\n",
    "if cache_file.exists():\n",
    "    print(f\"Loading SIAB data from cache: {cache_file}\")\n",
    "    siab = pd.read_csv(cache_file, compression='gzip')\n",
    "else:\n",
    "    print(f\"Cache not found. Reading raw SIAB data: {raw_file}\")\n",
    "    siab = pd.read_csv(raw_file)\n",
    "    siab.to_csv(cache_file, index=False, compression='gzip')\n",
    "    print(f\"Cached SIAB data to: {cache_file}\")\n",
    "\n",
    "print(siab.shape)"
   ]
  },
  {
   "cell_type": "code",
   "execution_count": 10,
   "id": "058d2abb",
   "metadata": {
    "execution": {
     "iopub.execute_input": "2025-08-19T18:18:30.511849Z",
     "iopub.status.busy": "2025-08-19T18:18:30.510379Z",
     "iopub.status.idle": "2025-08-19T18:18:30.683319Z",
     "shell.execute_reply": "2025-08-19T18:18:30.682597Z"
    },
    "papermill": {
     "duration": 0.202262,
     "end_time": "2025-08-19T18:18:30.686225",
     "exception": false,
     "start_time": "2025-08-19T18:18:30.483963",
     "status": "completed"
    },
    "tags": []
   },
   "outputs": [
    {
     "data": {
      "text/html": [
       "<div>\n",
       "<style scoped>\n",
       "    .dataframe tbody tr th:only-of-type {\n",
       "        vertical-align: middle;\n",
       "    }\n",
       "\n",
       "    .dataframe tbody tr th {\n",
       "        vertical-align: top;\n",
       "    }\n",
       "\n",
       "    .dataframe thead th {\n",
       "        text-align: right;\n",
       "    }\n",
       "</style>\n",
       "<table border=\"1\" class=\"dataframe\">\n",
       "  <thead>\n",
       "    <tr style=\"text-align: right;\">\n",
       "      <th></th>\n",
       "      <th>persnr</th>\n",
       "      <th>year</th>\n",
       "      <th>nrEntry</th>\n",
       "      <th>ltue</th>\n",
       "      <th>employed_before</th>\n",
       "      <th>receipt_leh_before</th>\n",
       "      <th>receipt_lhg_before</th>\n",
       "      <th>se_before</th>\n",
       "      <th>ASU_notue_seeking_before</th>\n",
       "      <th>ASU_other_before</th>\n",
       "      <th>...</th>\n",
       "      <th>minijob_tot_dur_byage</th>\n",
       "      <th>ft_tot_dur_byage</th>\n",
       "      <th>befrist_tot_dur_byage</th>\n",
       "      <th>leih_tot_dur_byage</th>\n",
       "      <th>LHG_tot_dur_byage</th>\n",
       "      <th>LEH_tot_dur_byage</th>\n",
       "      <th>almp_tot_dur_byage</th>\n",
       "      <th>almp_aw_tot_dur_byage</th>\n",
       "      <th>se_tot_dur_byage</th>\n",
       "      <th>seeking1_tot_dur_byage</th>\n",
       "    </tr>\n",
       "  </thead>\n",
       "  <tbody>\n",
       "    <tr>\n",
       "      <th>0</th>\n",
       "      <td>7</td>\n",
       "      <td>2015</td>\n",
       "      <td>1</td>\n",
       "      <td>0</td>\n",
       "      <td>1</td>\n",
       "      <td>0</td>\n",
       "      <td>0</td>\n",
       "      <td>0</td>\n",
       "      <td>1</td>\n",
       "      <td>0</td>\n",
       "      <td>...</td>\n",
       "      <td>0.000000</td>\n",
       "      <td>0.000000</td>\n",
       "      <td>15.043478</td>\n",
       "      <td>0.000000</td>\n",
       "      <td>0.000000</td>\n",
       "      <td>0.000000</td>\n",
       "      <td>0.000000</td>\n",
       "      <td>0.000000</td>\n",
       "      <td>0.000000</td>\n",
       "      <td>0.000000</td>\n",
       "    </tr>\n",
       "    <tr>\n",
       "      <th>1</th>\n",
       "      <td>18</td>\n",
       "      <td>2010</td>\n",
       "      <td>1</td>\n",
       "      <td>1</td>\n",
       "      <td>0</td>\n",
       "      <td>0</td>\n",
       "      <td>0</td>\n",
       "      <td>0</td>\n",
       "      <td>0</td>\n",
       "      <td>0</td>\n",
       "      <td>...</td>\n",
       "      <td>0.000000</td>\n",
       "      <td>0.000000</td>\n",
       "      <td>0.000000</td>\n",
       "      <td>0.000000</td>\n",
       "      <td>0.000000</td>\n",
       "      <td>0.000000</td>\n",
       "      <td>0.000000</td>\n",
       "      <td>0.000000</td>\n",
       "      <td>0.000000</td>\n",
       "      <td>0.000000</td>\n",
       "    </tr>\n",
       "    <tr>\n",
       "      <th>2</th>\n",
       "      <td>18</td>\n",
       "      <td>2011</td>\n",
       "      <td>2</td>\n",
       "      <td>0</td>\n",
       "      <td>1</td>\n",
       "      <td>0</td>\n",
       "      <td>1</td>\n",
       "      <td>0</td>\n",
       "      <td>1</td>\n",
       "      <td>0</td>\n",
       "      <td>...</td>\n",
       "      <td>2.714286</td>\n",
       "      <td>2.714286</td>\n",
       "      <td>0.000000</td>\n",
       "      <td>0.000000</td>\n",
       "      <td>10.775510</td>\n",
       "      <td>0.000000</td>\n",
       "      <td>8.367347</td>\n",
       "      <td>0.000000</td>\n",
       "      <td>0.000000</td>\n",
       "      <td>9.836735</td>\n",
       "    </tr>\n",
       "    <tr>\n",
       "      <th>3</th>\n",
       "      <td>18</td>\n",
       "      <td>2012</td>\n",
       "      <td>3</td>\n",
       "      <td>0</td>\n",
       "      <td>1</td>\n",
       "      <td>0</td>\n",
       "      <td>1</td>\n",
       "      <td>0</td>\n",
       "      <td>1</td>\n",
       "      <td>0</td>\n",
       "      <td>...</td>\n",
       "      <td>4.200000</td>\n",
       "      <td>4.200000</td>\n",
       "      <td>0.000000</td>\n",
       "      <td>0.000000</td>\n",
       "      <td>12.100000</td>\n",
       "      <td>0.000000</td>\n",
       "      <td>9.400000</td>\n",
       "      <td>0.000000</td>\n",
       "      <td>0.000000</td>\n",
       "      <td>9.960000</td>\n",
       "    </tr>\n",
       "    <tr>\n",
       "      <th>4</th>\n",
       "      <td>18</td>\n",
       "      <td>2012</td>\n",
       "      <td>4</td>\n",
       "      <td>0</td>\n",
       "      <td>1</td>\n",
       "      <td>0</td>\n",
       "      <td>1</td>\n",
       "      <td>0</td>\n",
       "      <td>1</td>\n",
       "      <td>0</td>\n",
       "      <td>...</td>\n",
       "      <td>5.460000</td>\n",
       "      <td>5.460000</td>\n",
       "      <td>0.000000</td>\n",
       "      <td>0.000000</td>\n",
       "      <td>13.360000</td>\n",
       "      <td>0.000000</td>\n",
       "      <td>10.320000</td>\n",
       "      <td>0.000000</td>\n",
       "      <td>0.000000</td>\n",
       "      <td>10.280000</td>\n",
       "    </tr>\n",
       "    <tr>\n",
       "      <th>...</th>\n",
       "      <td>...</td>\n",
       "      <td>...</td>\n",
       "      <td>...</td>\n",
       "      <td>...</td>\n",
       "      <td>...</td>\n",
       "      <td>...</td>\n",
       "      <td>...</td>\n",
       "      <td>...</td>\n",
       "      <td>...</td>\n",
       "      <td>...</td>\n",
       "      <td>...</td>\n",
       "      <td>...</td>\n",
       "      <td>...</td>\n",
       "      <td>...</td>\n",
       "      <td>...</td>\n",
       "      <td>...</td>\n",
       "      <td>...</td>\n",
       "      <td>...</td>\n",
       "      <td>...</td>\n",
       "      <td>...</td>\n",
       "      <td>...</td>\n",
       "    </tr>\n",
       "    <tr>\n",
       "      <th>643685</th>\n",
       "      <td>1827860</td>\n",
       "      <td>2013</td>\n",
       "      <td>1</td>\n",
       "      <td>0</td>\n",
       "      <td>0</td>\n",
       "      <td>0</td>\n",
       "      <td>1</td>\n",
       "      <td>0</td>\n",
       "      <td>0</td>\n",
       "      <td>1</td>\n",
       "      <td>...</td>\n",
       "      <td>0.000000</td>\n",
       "      <td>0.000000</td>\n",
       "      <td>0.000000</td>\n",
       "      <td>0.000000</td>\n",
       "      <td>0.612903</td>\n",
       "      <td>0.000000</td>\n",
       "      <td>0.000000</td>\n",
       "      <td>0.000000</td>\n",
       "      <td>0.000000</td>\n",
       "      <td>0.000000</td>\n",
       "    </tr>\n",
       "    <tr>\n",
       "      <th>643686</th>\n",
       "      <td>1827860</td>\n",
       "      <td>2015</td>\n",
       "      <td>2</td>\n",
       "      <td>1</td>\n",
       "      <td>0</td>\n",
       "      <td>0</td>\n",
       "      <td>1</td>\n",
       "      <td>0</td>\n",
       "      <td>1</td>\n",
       "      <td>0</td>\n",
       "      <td>...</td>\n",
       "      <td>0.000000</td>\n",
       "      <td>0.000000</td>\n",
       "      <td>0.212121</td>\n",
       "      <td>0.212121</td>\n",
       "      <td>17.363636</td>\n",
       "      <td>0.000000</td>\n",
       "      <td>8.909091</td>\n",
       "      <td>0.000000</td>\n",
       "      <td>0.000000</td>\n",
       "      <td>7.121212</td>\n",
       "    </tr>\n",
       "    <tr>\n",
       "      <th>643687</th>\n",
       "      <td>1827860</td>\n",
       "      <td>2016</td>\n",
       "      <td>3</td>\n",
       "      <td>1</td>\n",
       "      <td>0</td>\n",
       "      <td>0</td>\n",
       "      <td>1</td>\n",
       "      <td>1</td>\n",
       "      <td>0</td>\n",
       "      <td>1</td>\n",
       "      <td>...</td>\n",
       "      <td>0.000000</td>\n",
       "      <td>0.000000</td>\n",
       "      <td>0.294118</td>\n",
       "      <td>0.205882</td>\n",
       "      <td>34.705882</td>\n",
       "      <td>0.000000</td>\n",
       "      <td>10.352941</td>\n",
       "      <td>1.705882</td>\n",
       "      <td>1.705882</td>\n",
       "      <td>23.911765</td>\n",
       "    </tr>\n",
       "    <tr>\n",
       "      <th>643688</th>\n",
       "      <td>1827869</td>\n",
       "      <td>2013</td>\n",
       "      <td>1</td>\n",
       "      <td>1</td>\n",
       "      <td>1</td>\n",
       "      <td>0</td>\n",
       "      <td>0</td>\n",
       "      <td>0</td>\n",
       "      <td>1</td>\n",
       "      <td>0</td>\n",
       "      <td>...</td>\n",
       "      <td>0.000000</td>\n",
       "      <td>0.000000</td>\n",
       "      <td>0.000000</td>\n",
       "      <td>0.000000</td>\n",
       "      <td>0.000000</td>\n",
       "      <td>0.525424</td>\n",
       "      <td>0.000000</td>\n",
       "      <td>0.000000</td>\n",
       "      <td>0.000000</td>\n",
       "      <td>0.000000</td>\n",
       "    </tr>\n",
       "    <tr>\n",
       "      <th>643689</th>\n",
       "      <td>1827869</td>\n",
       "      <td>2014</td>\n",
       "      <td>2</td>\n",
       "      <td>0</td>\n",
       "      <td>0</td>\n",
       "      <td>1</td>\n",
       "      <td>0</td>\n",
       "      <td>0</td>\n",
       "      <td>1</td>\n",
       "      <td>0</td>\n",
       "      <td>...</td>\n",
       "      <td>0.000000</td>\n",
       "      <td>0.666667</td>\n",
       "      <td>0.666667</td>\n",
       "      <td>0.000000</td>\n",
       "      <td>0.000000</td>\n",
       "      <td>8.950000</td>\n",
       "      <td>1.033333</td>\n",
       "      <td>0.083333</td>\n",
       "      <td>0.083333</td>\n",
       "      <td>8.133333</td>\n",
       "    </tr>\n",
       "  </tbody>\n",
       "</table>\n",
       "<p>643690 rows × 164 columns</p>\n",
       "</div>"
      ],
      "text/plain": [
       "         persnr  year  nrEntry  ltue  employed_before  receipt_leh_before  \\\n",
       "0             7  2015        1     0                1                   0   \n",
       "1            18  2010        1     1                0                   0   \n",
       "2            18  2011        2     0                1                   0   \n",
       "3            18  2012        3     0                1                   0   \n",
       "4            18  2012        4     0                1                   0   \n",
       "...         ...   ...      ...   ...              ...                 ...   \n",
       "643685  1827860  2013        1     0                0                   0   \n",
       "643686  1827860  2015        2     1                0                   0   \n",
       "643687  1827860  2016        3     1                0                   0   \n",
       "643688  1827869  2013        1     1                1                   0   \n",
       "643689  1827869  2014        2     0                0                   1   \n",
       "\n",
       "        receipt_lhg_before  se_before  ASU_notue_seeking_before  \\\n",
       "0                        0          0                         1   \n",
       "1                        0          0                         0   \n",
       "2                        1          0                         1   \n",
       "3                        1          0                         1   \n",
       "4                        1          0                         1   \n",
       "...                    ...        ...                       ...   \n",
       "643685                   1          0                         0   \n",
       "643686                   1          0                         1   \n",
       "643687                   1          1                         0   \n",
       "643688                   0          0                         1   \n",
       "643689                   0          0                         1   \n",
       "\n",
       "        ASU_other_before  ...  minijob_tot_dur_byage  ft_tot_dur_byage  \\\n",
       "0                      0  ...               0.000000          0.000000   \n",
       "1                      0  ...               0.000000          0.000000   \n",
       "2                      0  ...               2.714286          2.714286   \n",
       "3                      0  ...               4.200000          4.200000   \n",
       "4                      0  ...               5.460000          5.460000   \n",
       "...                  ...  ...                    ...               ...   \n",
       "643685                 1  ...               0.000000          0.000000   \n",
       "643686                 0  ...               0.000000          0.000000   \n",
       "643687                 1  ...               0.000000          0.000000   \n",
       "643688                 0  ...               0.000000          0.000000   \n",
       "643689                 0  ...               0.000000          0.666667   \n",
       "\n",
       "        befrist_tot_dur_byage  leih_tot_dur_byage  LHG_tot_dur_byage  \\\n",
       "0                   15.043478            0.000000           0.000000   \n",
       "1                    0.000000            0.000000           0.000000   \n",
       "2                    0.000000            0.000000          10.775510   \n",
       "3                    0.000000            0.000000          12.100000   \n",
       "4                    0.000000            0.000000          13.360000   \n",
       "...                       ...                 ...                ...   \n",
       "643685               0.000000            0.000000           0.612903   \n",
       "643686               0.212121            0.212121          17.363636   \n",
       "643687               0.294118            0.205882          34.705882   \n",
       "643688               0.000000            0.000000           0.000000   \n",
       "643689               0.666667            0.000000           0.000000   \n",
       "\n",
       "        LEH_tot_dur_byage  almp_tot_dur_byage  almp_aw_tot_dur_byage  \\\n",
       "0                0.000000            0.000000               0.000000   \n",
       "1                0.000000            0.000000               0.000000   \n",
       "2                0.000000            8.367347               0.000000   \n",
       "3                0.000000            9.400000               0.000000   \n",
       "4                0.000000           10.320000               0.000000   \n",
       "...                   ...                 ...                    ...   \n",
       "643685           0.000000            0.000000               0.000000   \n",
       "643686           0.000000            8.909091               0.000000   \n",
       "643687           0.000000           10.352941               1.705882   \n",
       "643688           0.525424            0.000000               0.000000   \n",
       "643689           8.950000            1.033333               0.083333   \n",
       "\n",
       "        se_tot_dur_byage  seeking1_tot_dur_byage  \n",
       "0               0.000000                0.000000  \n",
       "1               0.000000                0.000000  \n",
       "2               0.000000                9.836735  \n",
       "3               0.000000                9.960000  \n",
       "4               0.000000               10.280000  \n",
       "...                  ...                     ...  \n",
       "643685          0.000000                0.000000  \n",
       "643686          0.000000                7.121212  \n",
       "643687          1.705882               23.911765  \n",
       "643688          0.000000                0.000000  \n",
       "643689          0.083333                8.133333  \n",
       "\n",
       "[643690 rows x 164 columns]"
      ]
     },
     "execution_count": 10,
     "metadata": {},
     "output_type": "execute_result"
    }
   ],
   "source": [
    "siab"
   ]
  },
  {
   "cell_type": "markdown",
   "id": "1f87e805",
   "metadata": {
    "papermill": {
     "duration": 0.01148,
     "end_time": "2025-08-19T18:18:30.718534",
     "exception": false,
     "start_time": "2025-08-19T18:18:30.707054",
     "status": "completed"
    },
    "tags": []
   },
   "source": [
    "# Splitting Data and Setting Training Data Size"
   ]
  },
  {
   "cell_type": "code",
   "execution_count": 11,
   "id": "910ae358",
   "metadata": {
    "execution": {
     "iopub.execute_input": "2025-08-19T18:18:30.740961Z",
     "iopub.status.busy": "2025-08-19T18:18:30.739767Z",
     "iopub.status.idle": "2025-08-19T18:18:32.028310Z",
     "shell.execute_reply": "2025-08-19T18:18:32.027135Z"
    },
    "papermill": {
     "duration": 1.302958,
     "end_time": "2025-08-19T18:18:32.031284",
     "exception": false,
     "start_time": "2025-08-19T18:18:30.728326",
     "status": "completed"
    },
    "tags": []
   },
   "outputs": [],
   "source": [
    "from fairness_multiverse.universe import sample_by_year_size\n",
    "\n",
    "siab_train = sample_by_year_size(siab,\n",
    "                               training_year=universe[\"training_year\"],\n",
    "                               training_size=universe[\"training_size\"])"
   ]
  },
  {
   "cell_type": "code",
   "execution_count": 12,
   "id": "919c8ff5",
   "metadata": {
    "execution": {
     "iopub.execute_input": "2025-08-19T18:18:32.082073Z",
     "iopub.status.busy": "2025-08-19T18:18:32.080694Z",
     "iopub.status.idle": "2025-08-19T18:18:32.098176Z",
     "shell.execute_reply": "2025-08-19T18:18:32.096708Z"
    },
    "papermill": {
     "duration": 0.038262,
     "end_time": "2025-08-19T18:18:32.100679",
     "exception": false,
     "start_time": "2025-08-19T18:18:32.062417",
     "status": "completed"
    },
    "tags": []
   },
   "outputs": [
    {
     "data": {
      "text/plain": [
       "(25000, 164)"
      ]
     },
     "execution_count": 12,
     "metadata": {},
     "output_type": "execute_result"
    }
   ],
   "source": [
    "siab_train.shape"
   ]
  },
  {
   "cell_type": "code",
   "execution_count": 13,
   "id": "feb13bf4",
   "metadata": {
    "execution": {
     "iopub.execute_input": "2025-08-19T18:18:32.127028Z",
     "iopub.status.busy": "2025-08-19T18:18:32.125859Z",
     "iopub.status.idle": "2025-08-19T18:18:32.146173Z",
     "shell.execute_reply": "2025-08-19T18:18:32.144915Z"
    },
    "papermill": {
     "duration": 0.033723,
     "end_time": "2025-08-19T18:18:32.148037",
     "exception": false,
     "start_time": "2025-08-19T18:18:32.114314",
     "status": "completed"
    },
    "tags": []
   },
   "outputs": [
    {
     "data": {
      "text/plain": [
       "year\n",
       "2010    5000\n",
       "2011    5000\n",
       "2012    5000\n",
       "2013    5000\n",
       "2014    5000\n",
       "dtype: int64"
      ]
     },
     "metadata": {},
     "output_type": "display_data"
    }
   ],
   "source": [
    "display(siab_train.groupby(\"year\").size())"
   ]
  },
  {
   "cell_type": "code",
   "execution_count": 14,
   "id": "0997782f",
   "metadata": {
    "execution": {
     "iopub.execute_input": "2025-08-19T18:18:32.177264Z",
     "iopub.status.busy": "2025-08-19T18:18:32.176103Z",
     "iopub.status.idle": "2025-08-19T18:18:32.589036Z",
     "shell.execute_reply": "2025-08-19T18:18:32.587789Z"
    },
    "papermill": {
     "duration": 0.426998,
     "end_time": "2025-08-19T18:18:32.590838",
     "exception": false,
     "start_time": "2025-08-19T18:18:32.163840",
     "status": "completed"
    },
    "tags": []
   },
   "outputs": [],
   "source": [
    "#siab_train = siab_s[siab_s.year < 2015]\n",
    "siab_calib = siab[siab.year == 2015]\n",
    "siab_test = siab[siab.year == 2016]"
   ]
  },
  {
   "cell_type": "code",
   "execution_count": 15,
   "id": "2c1e4012",
   "metadata": {
    "execution": {
     "iopub.execute_input": "2025-08-19T18:18:32.613127Z",
     "iopub.status.busy": "2025-08-19T18:18:32.612297Z",
     "iopub.status.idle": "2025-08-19T18:18:32.621115Z",
     "shell.execute_reply": "2025-08-19T18:18:32.619165Z"
    },
    "papermill": {
     "duration": 0.021938,
     "end_time": "2025-08-19T18:18:32.623103",
     "exception": false,
     "start_time": "2025-08-19T18:18:32.601165",
     "status": "completed"
    },
    "tags": []
   },
   "outputs": [],
   "source": [
    "#siab_calib.shape"
   ]
  },
  {
   "cell_type": "code",
   "execution_count": 16,
   "id": "f66b54ca",
   "metadata": {
    "execution": {
     "iopub.execute_input": "2025-08-19T18:18:32.650507Z",
     "iopub.status.busy": "2025-08-19T18:18:32.649380Z",
     "iopub.status.idle": "2025-08-19T18:18:32.657469Z",
     "shell.execute_reply": "2025-08-19T18:18:32.655836Z"
    },
    "papermill": {
     "duration": 0.024853,
     "end_time": "2025-08-19T18:18:32.660589",
     "exception": false,
     "start_time": "2025-08-19T18:18:32.635736",
     "status": "completed"
    },
    "tags": []
   },
   "outputs": [],
   "source": [
    "#siab_test.shape"
   ]
  },
  {
   "cell_type": "code",
   "execution_count": 17,
   "id": "27e4384d",
   "metadata": {
    "execution": {
     "iopub.execute_input": "2025-08-19T18:18:32.695060Z",
     "iopub.status.busy": "2025-08-19T18:18:32.694601Z",
     "iopub.status.idle": "2025-08-19T18:18:32.710628Z",
     "shell.execute_reply": "2025-08-19T18:18:32.709847Z"
    },
    "papermill": {
     "duration": 0.032344,
     "end_time": "2025-08-19T18:18:32.714483",
     "exception": false,
     "start_time": "2025-08-19T18:18:32.682139",
     "status": "completed"
    },
    "tags": []
   },
   "outputs": [],
   "source": [
    "X_train = siab_train.iloc[:,4:164]\n",
    "y_train = siab_train.iloc[:, [3]]"
   ]
  },
  {
   "cell_type": "code",
   "execution_count": 18,
   "id": "08ee8389",
   "metadata": {
    "execution": {
     "iopub.execute_input": "2025-08-19T18:18:32.772343Z",
     "iopub.status.busy": "2025-08-19T18:18:32.770409Z",
     "iopub.status.idle": "2025-08-19T18:18:32.835041Z",
     "shell.execute_reply": "2025-08-19T18:18:32.833335Z"
    },
    "papermill": {
     "duration": 0.097348,
     "end_time": "2025-08-19T18:18:32.838266",
     "exception": false,
     "start_time": "2025-08-19T18:18:32.740918",
     "status": "completed"
    },
    "tags": []
   },
   "outputs": [],
   "source": [
    "X_calib = siab_calib.iloc[:,4:164]\n",
    "y_calib = siab_calib.iloc[:, [3]]"
   ]
  },
  {
   "cell_type": "code",
   "execution_count": 19,
   "id": "b7ff42e0",
   "metadata": {
    "execution": {
     "iopub.execute_input": "2025-08-19T18:18:32.883459Z",
     "iopub.status.busy": "2025-08-19T18:18:32.882807Z",
     "iopub.status.idle": "2025-08-19T18:18:32.942570Z",
     "shell.execute_reply": "2025-08-19T18:18:32.941821Z"
    },
    "papermill": {
     "duration": 0.074796,
     "end_time": "2025-08-19T18:18:32.944074",
     "exception": false,
     "start_time": "2025-08-19T18:18:32.869278",
     "status": "completed"
    },
    "tags": []
   },
   "outputs": [],
   "source": [
    "X_test = siab_test.iloc[:,4:164]\n",
    "y_true = siab_test.iloc[:, [3]]"
   ]
  },
  {
   "cell_type": "code",
   "execution_count": 20,
   "id": "0275101e",
   "metadata": {
    "execution": {
     "iopub.execute_input": "2025-08-19T18:18:32.978637Z",
     "iopub.status.busy": "2025-08-19T18:18:32.977563Z",
     "iopub.status.idle": "2025-08-19T18:18:33.125932Z",
     "shell.execute_reply": "2025-08-19T18:18:33.124817Z"
    },
    "papermill": {
     "duration": 0.171607,
     "end_time": "2025-08-19T18:18:33.128959",
     "exception": false,
     "start_time": "2025-08-19T18:18:32.957352",
     "status": "completed"
    },
    "tags": []
   },
   "outputs": [],
   "source": [
    "# Auxiliary data needed downstream in the pipeline\n",
    "\n",
    "org_train = X_train.copy()\n",
    "org_test = X_test.copy()\n",
    "org_calib = X_calib.copy()"
   ]
  },
  {
   "cell_type": "markdown",
   "id": "b461e618",
   "metadata": {
    "papermill": {
     "duration": 0.010852,
     "end_time": "2025-08-19T18:18:33.151309",
     "exception": false,
     "start_time": "2025-08-19T18:18:33.140457",
     "status": "completed"
    },
    "tags": []
   },
   "source": [
    "# Preprocessing Data"
   ]
  },
  {
   "cell_type": "code",
   "execution_count": 21,
   "id": "78e74c4b",
   "metadata": {
    "execution": {
     "iopub.execute_input": "2025-08-19T18:18:33.174204Z",
     "iopub.status.busy": "2025-08-19T18:18:33.173825Z",
     "iopub.status.idle": "2025-08-19T18:18:33.181701Z",
     "shell.execute_reply": "2025-08-19T18:18:33.180860Z"
    },
    "papermill": {
     "duration": 0.022116,
     "end_time": "2025-08-19T18:18:33.184054",
     "exception": false,
     "start_time": "2025-08-19T18:18:33.161938",
     "status": "completed"
    },
    "tags": []
   },
   "outputs": [],
   "source": [
    "# EXCLUDE PROTECTED FEATURES\n",
    "# --------------------------\n",
    "\n",
    "excluded_features = universe[\"exclude_features\"].split(\"-\")\n",
    "excluded_features_dictionary = {\n",
    "    \"nationality\": [\"maxdeutsch1\", \"maxdeutsch.Missing.\"],\n",
    "    \"sex\": [\"frau1\"],\n",
    "    \"age\": [\"age\"],\n",
    "}"
   ]
  },
  {
   "cell_type": "code",
   "execution_count": 22,
   "id": "f8e63555",
   "metadata": {
    "execution": {
     "iopub.execute_input": "2025-08-19T18:18:33.232340Z",
     "iopub.status.busy": "2025-08-19T18:18:33.231023Z",
     "iopub.status.idle": "2025-08-19T18:18:33.240921Z",
     "shell.execute_reply": "2025-08-19T18:18:33.239224Z"
    },
    "papermill": {
     "duration": 0.03725,
     "end_time": "2025-08-19T18:18:33.242430",
     "exception": false,
     "start_time": "2025-08-19T18:18:33.205180",
     "status": "completed"
    },
    "tags": []
   },
   "outputs": [],
   "source": [
    "excluded_features_columns = [\n",
    "    excluded_features_dictionary[f] for f in excluded_features if len(f) > 0 and f != \"none\"\n",
    "]"
   ]
  },
  {
   "cell_type": "code",
   "execution_count": 23,
   "id": "da781f7c",
   "metadata": {
    "execution": {
     "iopub.execute_input": "2025-08-19T18:18:33.274721Z",
     "iopub.status.busy": "2025-08-19T18:18:33.273484Z",
     "iopub.status.idle": "2025-08-19T18:18:33.282524Z",
     "shell.execute_reply": "2025-08-19T18:18:33.280928Z"
    },
    "papermill": {
     "duration": 0.024717,
     "end_time": "2025-08-19T18:18:33.283807",
     "exception": false,
     "start_time": "2025-08-19T18:18:33.259090",
     "status": "completed"
    },
    "tags": []
   },
   "outputs": [],
   "source": [
    "from fairness_multiverse.universe import flatten_once\n",
    "\n",
    "excluded_features_columns = flatten_once(excluded_features_columns)"
   ]
  },
  {
   "cell_type": "code",
   "execution_count": 24,
   "id": "37fef0f0",
   "metadata": {
    "execution": {
     "iopub.execute_input": "2025-08-19T18:18:33.309890Z",
     "iopub.status.busy": "2025-08-19T18:18:33.308371Z",
     "iopub.status.idle": "2025-08-19T18:18:33.369375Z",
     "shell.execute_reply": "2025-08-19T18:18:33.368495Z"
    },
    "papermill": {
     "duration": 0.076896,
     "end_time": "2025-08-19T18:18:33.371770",
     "exception": false,
     "start_time": "2025-08-19T18:18:33.294874",
     "status": "completed"
    },
    "tags": []
   },
   "outputs": [
    {
     "name": "stdout",
     "output_type": "stream",
     "text": [
      "Dropping features: ['age']\n"
     ]
    }
   ],
   "source": [
    "if len(excluded_features_columns) > 0:\n",
    "    print(f\"Dropping features: {excluded_features_columns}\")\n",
    "    X_train.drop(excluded_features_columns, axis=1, inplace=True)"
   ]
  },
  {
   "cell_type": "code",
   "execution_count": 25,
   "id": "d029e3e9",
   "metadata": {
    "execution": {
     "iopub.execute_input": "2025-08-19T18:18:33.408999Z",
     "iopub.status.busy": "2025-08-19T18:18:33.407755Z",
     "iopub.status.idle": "2025-08-19T18:18:33.478096Z",
     "shell.execute_reply": "2025-08-19T18:18:33.477366Z"
    },
    "papermill": {
     "duration": 0.086778,
     "end_time": "2025-08-19T18:18:33.480773",
     "exception": false,
     "start_time": "2025-08-19T18:18:33.393995",
     "status": "completed"
    },
    "tags": []
   },
   "outputs": [
    {
     "name": "stdout",
     "output_type": "stream",
     "text": [
      "Dropping features: ['age']\n"
     ]
    }
   ],
   "source": [
    "if len(excluded_features_columns) > 0:\n",
    "    print(f\"Dropping features: {excluded_features_columns}\")\n",
    "    X_test.drop(excluded_features_columns, axis=1, inplace=True)"
   ]
  },
  {
   "cell_type": "code",
   "execution_count": 26,
   "id": "01d571f0",
   "metadata": {
    "execution": {
     "iopub.execute_input": "2025-08-19T18:18:33.518913Z",
     "iopub.status.busy": "2025-08-19T18:18:33.517460Z",
     "iopub.status.idle": "2025-08-19T18:18:33.577948Z",
     "shell.execute_reply": "2025-08-19T18:18:33.577008Z"
    },
    "papermill": {
     "duration": 0.076867,
     "end_time": "2025-08-19T18:18:33.580332",
     "exception": false,
     "start_time": "2025-08-19T18:18:33.503465",
     "status": "completed"
    },
    "tags": []
   },
   "outputs": [
    {
     "name": "stdout",
     "output_type": "stream",
     "text": [
      "Dropping features: ['age']\n"
     ]
    }
   ],
   "source": [
    "if len(excluded_features_columns) > 0:\n",
    "    print(f\"Dropping features: {excluded_features_columns}\")\n",
    "    X_calib.drop(excluded_features_columns, axis=1, inplace=True)"
   ]
  },
  {
   "cell_type": "code",
   "execution_count": 27,
   "id": "3037356e",
   "metadata": {
    "execution": {
     "iopub.execute_input": "2025-08-19T18:18:33.618917Z",
     "iopub.status.busy": "2025-08-19T18:18:33.617670Z",
     "iopub.status.idle": "2025-08-19T18:18:33.626860Z",
     "shell.execute_reply": "2025-08-19T18:18:33.625169Z"
    },
    "papermill": {
     "duration": 0.024562,
     "end_time": "2025-08-19T18:18:33.628280",
     "exception": false,
     "start_time": "2025-08-19T18:18:33.603718",
     "status": "completed"
    },
    "tags": []
   },
   "outputs": [],
   "source": [
    "# EXCLUDE CERTAIN SUBGROUPS\n",
    "# -------------------------\n",
    "\n",
    "mode = universe.get(\"exclude_subgroups\", \"keep-all\") # Defaults to \"keep-all\" if the key is missing."
   ]
  },
  {
   "cell_type": "code",
   "execution_count": 28,
   "id": "9d1e63fd",
   "metadata": {
    "execution": {
     "iopub.execute_input": "2025-08-19T18:18:33.655419Z",
     "iopub.status.busy": "2025-08-19T18:18:33.654000Z",
     "iopub.status.idle": "2025-08-19T18:18:33.666714Z",
     "shell.execute_reply": "2025-08-19T18:18:33.665359Z"
    },
    "papermill": {
     "duration": 0.026472,
     "end_time": "2025-08-19T18:18:33.668202",
     "exception": false,
     "start_time": "2025-08-19T18:18:33.641730",
     "status": "completed"
    },
    "tags": []
   },
   "outputs": [],
   "source": [
    "if mode == \"keep-all\":\n",
    "    keep_mask = pd.Series(True, index=org_train.index)\n",
    "\n",
    "elif mode == \"drop-non-german\":\n",
    "    keep_mask = (org_train[\"maxdeutsch1\"] == 1) & (org_train[\"maxdeutsch.Missing.\"] == 0)\n",
    "\n",
    "else:\n",
    "    raise ValueError(f\"Unsupported mode for exclude_subgroups: {mode}\")"
   ]
  },
  {
   "cell_type": "code",
   "execution_count": 29,
   "id": "d3b65474",
   "metadata": {
    "execution": {
     "iopub.execute_input": "2025-08-19T18:18:33.699738Z",
     "iopub.status.busy": "2025-08-19T18:18:33.698321Z",
     "iopub.status.idle": "2025-08-19T18:18:33.709887Z",
     "shell.execute_reply": "2025-08-19T18:18:33.708650Z"
    },
    "papermill": {
     "duration": 0.026457,
     "end_time": "2025-08-19T18:18:33.711165",
     "exception": false,
     "start_time": "2025-08-19T18:18:33.684708",
     "status": "completed"
    },
    "tags": []
   },
   "outputs": [],
   "source": [
    "n_drop = (~keep_mask).sum() # Calculates how many rows are set to be dropped\n",
    "if n_drop > 0:\n",
    "    pct = n_drop / len(keep_mask) * 100\n",
    "    print(f\"Dropping {n_drop} rows ({pct:.2f}%) where mode='{mode}'\")"
   ]
  },
  {
   "cell_type": "code",
   "execution_count": 30,
   "id": "f44389b3",
   "metadata": {
    "execution": {
     "iopub.execute_input": "2025-08-19T18:18:33.738274Z",
     "iopub.status.busy": "2025-08-19T18:18:33.736879Z",
     "iopub.status.idle": "2025-08-19T18:18:33.777082Z",
     "shell.execute_reply": "2025-08-19T18:18:33.776287Z"
    },
    "papermill": {
     "duration": 0.054827,
     "end_time": "2025-08-19T18:18:33.779476",
     "exception": false,
     "start_time": "2025-08-19T18:18:33.724649",
     "status": "completed"
    },
    "tags": []
   },
   "outputs": [],
   "source": [
    "X_train = X_train[keep_mask]"
   ]
  },
  {
   "cell_type": "code",
   "execution_count": 31,
   "id": "ceca8c2a",
   "metadata": {
    "execution": {
     "iopub.execute_input": "2025-08-19T18:18:33.821871Z",
     "iopub.status.busy": "2025-08-19T18:18:33.820617Z",
     "iopub.status.idle": "2025-08-19T18:18:33.832561Z",
     "shell.execute_reply": "2025-08-19T18:18:33.831200Z"
    },
    "papermill": {
     "duration": 0.027998,
     "end_time": "2025-08-19T18:18:33.833987",
     "exception": false,
     "start_time": "2025-08-19T18:18:33.805989",
     "status": "completed"
    },
    "tags": []
   },
   "outputs": [],
   "source": [
    "y_train = y_train[keep_mask]"
   ]
  },
  {
   "cell_type": "markdown",
   "id": "04d31e2f",
   "metadata": {
    "papermill": {
     "duration": 0.010942,
     "end_time": "2025-08-19T18:18:33.858081",
     "exception": false,
     "start_time": "2025-08-19T18:18:33.847139",
     "status": "completed"
    },
    "tags": []
   },
   "source": [
    "# Model Training"
   ]
  },
  {
   "cell_type": "code",
   "execution_count": 32,
   "id": "db991733",
   "metadata": {
    "execution": {
     "iopub.execute_input": "2025-08-19T18:18:33.882160Z",
     "iopub.status.busy": "2025-08-19T18:18:33.880911Z",
     "iopub.status.idle": "2025-08-19T18:18:33.984824Z",
     "shell.execute_reply": "2025-08-19T18:18:33.984061Z"
    },
    "papermill": {
     "duration": 0.118876,
     "end_time": "2025-08-19T18:18:33.987593",
     "exception": false,
     "start_time": "2025-08-19T18:18:33.868717",
     "status": "completed"
    },
    "tags": []
   },
   "outputs": [],
   "source": [
    "from sklearn.linear_model import LogisticRegression\n",
    "from sklearn.ensemble import GradientBoostingClassifier, RandomForestClassifier\n",
    "\n",
    "if (universe[\"model\"] == \"logreg\"):\n",
    "    model = LogisticRegression() #penalty=\"none\", solver=\"newton-cg\", max_iter=1)\n",
    "elif (universe[\"model\"] == \"penalized_logreg\"):\n",
    "    model = LogisticRegression(penalty=\"l2\", C=0.1) #, solver=\"newton-cg\", max_iter=1)\n",
    "elif (universe[\"model\"] == \"rf\"):\n",
    "    model = RandomForestClassifier() # n_estimators=100, n_jobs=-1\n",
    "elif (universe[\"model\"] == \"gbm\"):\n",
    "    model = GradientBoostingClassifier()\n",
    "elif (universe[\"model\"] == \"elasticnet\"):\n",
    "    model = LogisticRegression(penalty = 'elasticnet', solver = 'saga', l1_ratio = 0.5) # max_iter=5000\n",
    "else:\n",
    "    raise \"Unsupported universe.model\""
   ]
  },
  {
   "cell_type": "code",
   "execution_count": 33,
   "id": "a4b5cd25",
   "metadata": {
    "execution": {
     "iopub.execute_input": "2025-08-19T18:18:34.026615Z",
     "iopub.status.busy": "2025-08-19T18:18:34.025391Z",
     "iopub.status.idle": "2025-08-19T18:18:34.035468Z",
     "shell.execute_reply": "2025-08-19T18:18:34.034230Z"
    },
    "papermill": {
     "duration": 0.026173,
     "end_time": "2025-08-19T18:18:34.037529",
     "exception": false,
     "start_time": "2025-08-19T18:18:34.011356",
     "status": "completed"
    },
    "tags": []
   },
   "outputs": [],
   "source": [
    "from sklearn.pipeline import Pipeline\n",
    "from sklearn.preprocessing import StandardScaler\n",
    "\n",
    "model = Pipeline([\n",
    "    #(\"continuous_processor\", continuous_processor),\n",
    "    #(\"categorical_preprocessor\", categorical_preprocessor),\n",
    "    (\"scale\", StandardScaler() if universe[\"scale\"] == \"scale\" else None), \n",
    "    (\"model\", model),\n",
    "])"
   ]
  },
  {
   "cell_type": "code",
   "execution_count": 34,
   "id": "283a904d",
   "metadata": {
    "execution": {
     "iopub.execute_input": "2025-08-19T18:18:34.064922Z",
     "iopub.status.busy": "2025-08-19T18:18:34.063489Z",
     "iopub.status.idle": "2025-08-19T18:18:35.234269Z",
     "shell.execute_reply": "2025-08-19T18:18:35.233240Z"
    },
    "papermill": {
     "duration": 1.184753,
     "end_time": "2025-08-19T18:18:35.235603",
     "exception": false,
     "start_time": "2025-08-19T18:18:34.050850",
     "status": "completed"
    },
    "tags": []
   },
   "outputs": [
    {
     "name": "stderr",
     "output_type": "stream",
     "text": [
      "/dss/dsshome1/0C/ra93lal2/.local/share/virtualenvs/CMA_Fairness_v2-3j10GkSs/lib/python3.10/site-packages/sklearn/linear_model/_logistic.py:444: ConvergenceWarning: lbfgs failed to converge (status=1):\n",
      "STOP: TOTAL NO. of ITERATIONS REACHED LIMIT.\n",
      "\n",
      "Increase the number of iterations (max_iter) or scale the data as shown in:\n",
      "    https://scikit-learn.org/stable/modules/preprocessing.html\n",
      "Please also refer to the documentation for alternative solver options:\n",
      "    https://scikit-learn.org/stable/modules/linear_model.html#logistic-regression\n",
      "  n_iter_i = _check_optimize_result(\n"
     ]
    },
    {
     "data": {
      "text/html": [
       "<style>#sk-container-id-1 {color: black;background-color: white;}#sk-container-id-1 pre{padding: 0;}#sk-container-id-1 div.sk-toggleable {background-color: white;}#sk-container-id-1 label.sk-toggleable__label {cursor: pointer;display: block;width: 100%;margin-bottom: 0;padding: 0.3em;box-sizing: border-box;text-align: center;}#sk-container-id-1 label.sk-toggleable__label-arrow:before {content: \"▸\";float: left;margin-right: 0.25em;color: #696969;}#sk-container-id-1 label.sk-toggleable__label-arrow:hover:before {color: black;}#sk-container-id-1 div.sk-estimator:hover label.sk-toggleable__label-arrow:before {color: black;}#sk-container-id-1 div.sk-toggleable__content {max-height: 0;max-width: 0;overflow: hidden;text-align: left;background-color: #f0f8ff;}#sk-container-id-1 div.sk-toggleable__content pre {margin: 0.2em;color: black;border-radius: 0.25em;background-color: #f0f8ff;}#sk-container-id-1 input.sk-toggleable__control:checked~div.sk-toggleable__content {max-height: 200px;max-width: 100%;overflow: auto;}#sk-container-id-1 input.sk-toggleable__control:checked~label.sk-toggleable__label-arrow:before {content: \"▾\";}#sk-container-id-1 div.sk-estimator input.sk-toggleable__control:checked~label.sk-toggleable__label {background-color: #d4ebff;}#sk-container-id-1 div.sk-label input.sk-toggleable__control:checked~label.sk-toggleable__label {background-color: #d4ebff;}#sk-container-id-1 input.sk-hidden--visually {border: 0;clip: rect(1px 1px 1px 1px);clip: rect(1px, 1px, 1px, 1px);height: 1px;margin: -1px;overflow: hidden;padding: 0;position: absolute;width: 1px;}#sk-container-id-1 div.sk-estimator {font-family: monospace;background-color: #f0f8ff;border: 1px dotted black;border-radius: 0.25em;box-sizing: border-box;margin-bottom: 0.5em;}#sk-container-id-1 div.sk-estimator:hover {background-color: #d4ebff;}#sk-container-id-1 div.sk-parallel-item::after {content: \"\";width: 100%;border-bottom: 1px solid gray;flex-grow: 1;}#sk-container-id-1 div.sk-label:hover label.sk-toggleable__label {background-color: #d4ebff;}#sk-container-id-1 div.sk-serial::before {content: \"\";position: absolute;border-left: 1px solid gray;box-sizing: border-box;top: 0;bottom: 0;left: 50%;z-index: 0;}#sk-container-id-1 div.sk-serial {display: flex;flex-direction: column;align-items: center;background-color: white;padding-right: 0.2em;padding-left: 0.2em;position: relative;}#sk-container-id-1 div.sk-item {position: relative;z-index: 1;}#sk-container-id-1 div.sk-parallel {display: flex;align-items: stretch;justify-content: center;background-color: white;position: relative;}#sk-container-id-1 div.sk-item::before, #sk-container-id-1 div.sk-parallel-item::before {content: \"\";position: absolute;border-left: 1px solid gray;box-sizing: border-box;top: 0;bottom: 0;left: 50%;z-index: -1;}#sk-container-id-1 div.sk-parallel-item {display: flex;flex-direction: column;z-index: 1;position: relative;background-color: white;}#sk-container-id-1 div.sk-parallel-item:first-child::after {align-self: flex-end;width: 50%;}#sk-container-id-1 div.sk-parallel-item:last-child::after {align-self: flex-start;width: 50%;}#sk-container-id-1 div.sk-parallel-item:only-child::after {width: 0;}#sk-container-id-1 div.sk-dashed-wrapped {border: 1px dashed gray;margin: 0 0.4em 0.5em 0.4em;box-sizing: border-box;padding-bottom: 0.4em;background-color: white;}#sk-container-id-1 div.sk-label label {font-family: monospace;font-weight: bold;display: inline-block;line-height: 1.2em;}#sk-container-id-1 div.sk-label-container {text-align: center;}#sk-container-id-1 div.sk-container {/* jupyter's `normalize.less` sets `[hidden] { display: none; }` but bootstrap.min.css set `[hidden] { display: none !important; }` so we also need the `!important` here to be able to override the default hidden behavior on the sphinx rendered scikit-learn.org. See: https://github.com/scikit-learn/scikit-learn/issues/21755 */display: inline-block !important;position: relative;}#sk-container-id-1 div.sk-text-repr-fallback {display: none;}</style><div id=\"sk-container-id-1\" class=\"sk-top-container\"><div class=\"sk-text-repr-fallback\"><pre>Pipeline(steps=[(&#x27;scale&#x27;, None), (&#x27;model&#x27;, LogisticRegression())])</pre><b>In a Jupyter environment, please rerun this cell to show the HTML representation or trust the notebook. <br />On GitHub, the HTML representation is unable to render, please try loading this page with nbviewer.org.</b></div><div class=\"sk-container\" hidden><div class=\"sk-item sk-dashed-wrapped\"><div class=\"sk-label-container\"><div class=\"sk-label sk-toggleable\"><input class=\"sk-toggleable__control sk-hidden--visually\" id=\"sk-estimator-id-1\" type=\"checkbox\" ><label for=\"sk-estimator-id-1\" class=\"sk-toggleable__label sk-toggleable__label-arrow\">Pipeline</label><div class=\"sk-toggleable__content\"><pre>Pipeline(steps=[(&#x27;scale&#x27;, None), (&#x27;model&#x27;, LogisticRegression())])</pre></div></div></div><div class=\"sk-serial\"><div class=\"sk-item\"><div class=\"sk-estimator sk-toggleable\"><input class=\"sk-toggleable__control sk-hidden--visually\" id=\"sk-estimator-id-2\" type=\"checkbox\" ><label for=\"sk-estimator-id-2\" class=\"sk-toggleable__label sk-toggleable__label-arrow\">None</label><div class=\"sk-toggleable__content\"><pre>None</pre></div></div></div><div class=\"sk-item\"><div class=\"sk-estimator sk-toggleable\"><input class=\"sk-toggleable__control sk-hidden--visually\" id=\"sk-estimator-id-3\" type=\"checkbox\" ><label for=\"sk-estimator-id-3\" class=\"sk-toggleable__label sk-toggleable__label-arrow\">LogisticRegression</label><div class=\"sk-toggleable__content\"><pre>LogisticRegression()</pre></div></div></div></div></div></div></div>"
      ],
      "text/plain": [
       "Pipeline(steps=[('scale', None), ('model', LogisticRegression())])"
      ]
     },
     "execution_count": 34,
     "metadata": {},
     "output_type": "execute_result"
    }
   ],
   "source": [
    "model.fit(X_train, y_train.values.ravel())"
   ]
  },
  {
   "cell_type": "code",
   "execution_count": 35,
   "id": "6e15e313",
   "metadata": {
    "execution": {
     "iopub.execute_input": "2025-08-19T18:18:35.263481Z",
     "iopub.status.busy": "2025-08-19T18:18:35.262383Z",
     "iopub.status.idle": "2025-08-19T18:18:35.377436Z",
     "shell.execute_reply": "2025-08-19T18:18:35.376743Z"
    },
    "papermill": {
     "duration": 0.129327,
     "end_time": "2025-08-19T18:18:35.378978",
     "exception": false,
     "start_time": "2025-08-19T18:18:35.249651",
     "status": "completed"
    },
    "tags": []
   },
   "outputs": [
    {
     "data": {
      "text/plain": [
       "0.8623341879389143"
      ]
     },
     "execution_count": 35,
     "metadata": {},
     "output_type": "execute_result"
    }
   ],
   "source": [
    "from fairness_multiverse.universe import predict_w_threshold\n",
    "\n",
    "probs_test = model.predict_proba(X_test)\n",
    "\n",
    "'''\n",
    "Below code returns a boolean array (or binary 0/1 array depending on how it’s used) where each element \n",
    "is True if the probability of class 1 is greater than or equal to the threshold, and False otherwise.\n",
    "'''\n",
    "y_pred_default = predict_w_threshold(probs_test, 0.5)\n",
    "\n",
    "from sklearn.metrics import accuracy_score\n",
    "\n",
    "# Naive prediction\n",
    "accuracy_score(y_true = y_true, y_pred = y_pred_default)"
   ]
  },
  {
   "cell_type": "code",
   "execution_count": 36,
   "id": "6f14067c",
   "metadata": {
    "execution": {
     "iopub.execute_input": "2025-08-19T18:18:35.414700Z",
     "iopub.status.busy": "2025-08-19T18:18:35.413266Z",
     "iopub.status.idle": "2025-08-19T18:18:35.512653Z",
     "shell.execute_reply": "2025-08-19T18:18:35.511658Z"
    },
    "papermill": {
     "duration": 0.1218,
     "end_time": "2025-08-19T18:18:35.521102",
     "exception": false,
     "start_time": "2025-08-19T18:18:35.399302",
     "status": "completed"
    },
    "tags": []
   },
   "outputs": [
    {
     "data": {
      "text/plain": [
       "array([0, 0, 0, ..., 0, 0, 0])"
      ]
     },
     "execution_count": 36,
     "metadata": {},
     "output_type": "execute_result"
    }
   ],
   "source": [
    "model.predict(X_test)"
   ]
  },
  {
   "cell_type": "markdown",
   "id": "3759920c",
   "metadata": {
    "papermill": {
     "duration": 0.012878,
     "end_time": "2025-08-19T18:18:35.557799",
     "exception": false,
     "start_time": "2025-08-19T18:18:35.544921",
     "status": "completed"
    },
    "tags": []
   },
   "source": [
    "# Conformal Prediction"
   ]
  },
  {
   "cell_type": "code",
   "execution_count": 37,
   "id": "14b27f59",
   "metadata": {
    "execution": {
     "iopub.execute_input": "2025-08-19T18:18:35.583467Z",
     "iopub.status.busy": "2025-08-19T18:18:35.582614Z",
     "iopub.status.idle": "2025-08-19T18:18:35.587550Z",
     "shell.execute_reply": "2025-08-19T18:18:35.586833Z"
    },
    "papermill": {
     "duration": 0.019665,
     "end_time": "2025-08-19T18:18:35.588764",
     "exception": false,
     "start_time": "2025-08-19T18:18:35.569099",
     "status": "completed"
    },
    "tags": []
   },
   "outputs": [],
   "source": [
    "# Miscoverage level for conformal prediction (10% allowed error rate => 90% target coverage)\n",
    "alpha = 0.1"
   ]
  },
  {
   "cell_type": "code",
   "execution_count": 38,
   "id": "59102472",
   "metadata": {
    "execution": {
     "iopub.execute_input": "2025-08-19T18:18:35.614798Z",
     "iopub.status.busy": "2025-08-19T18:18:35.613564Z",
     "iopub.status.idle": "2025-08-19T18:18:35.724549Z",
     "shell.execute_reply": "2025-08-19T18:18:35.723766Z"
    },
    "papermill": {
     "duration": 0.126735,
     "end_time": "2025-08-19T18:18:35.727235",
     "exception": false,
     "start_time": "2025-08-19T18:18:35.600500",
     "status": "completed"
    },
    "tags": []
   },
   "outputs": [],
   "source": [
    "probs_calib = model.predict_proba(X_calib)"
   ]
  },
  {
   "cell_type": "code",
   "execution_count": 39,
   "id": "a792d4dd",
   "metadata": {
    "execution": {
     "iopub.execute_input": "2025-08-19T18:18:35.768980Z",
     "iopub.status.busy": "2025-08-19T18:18:35.767838Z",
     "iopub.status.idle": "2025-08-19T18:18:35.780049Z",
     "shell.execute_reply": "2025-08-19T18:18:35.778503Z"
    },
    "papermill": {
     "duration": 0.028705,
     "end_time": "2025-08-19T18:18:35.781644",
     "exception": false,
     "start_time": "2025-08-19T18:18:35.752939",
     "status": "completed"
    },
    "tags": []
   },
   "outputs": [],
   "source": [
    "y_calib = y_calib.values.ravel().astype(int)"
   ]
  },
  {
   "cell_type": "code",
   "execution_count": 40,
   "id": "650fd033",
   "metadata": {
    "execution": {
     "iopub.execute_input": "2025-08-19T18:18:35.813998Z",
     "iopub.status.busy": "2025-08-19T18:18:35.812736Z",
     "iopub.status.idle": "2025-08-19T18:18:35.827460Z",
     "shell.execute_reply": "2025-08-19T18:18:35.825664Z"
    },
    "papermill": {
     "duration": 0.031401,
     "end_time": "2025-08-19T18:18:35.829358",
     "exception": false,
     "start_time": "2025-08-19T18:18:35.797957",
     "status": "completed"
    },
    "tags": []
   },
   "outputs": [],
   "source": [
    "from fairness_multiverse.conformal import compute_nc_scores\n",
    "\n",
    "# Compute nonconformity scores on calibration set (1 - probability of true class)\n",
    "nc_scores = compute_nc_scores(probs_calib, y_calib)"
   ]
  },
  {
   "cell_type": "code",
   "execution_count": 41,
   "id": "28ada44c",
   "metadata": {
    "execution": {
     "iopub.execute_input": "2025-08-19T18:18:35.865566Z",
     "iopub.status.busy": "2025-08-19T18:18:35.863693Z",
     "iopub.status.idle": "2025-08-19T18:18:35.877544Z",
     "shell.execute_reply": "2025-08-19T18:18:35.875706Z"
    },
    "papermill": {
     "duration": 0.030836,
     "end_time": "2025-08-19T18:18:35.879380",
     "exception": false,
     "start_time": "2025-08-19T18:18:35.848544",
     "status": "completed"
    },
    "tags": []
   },
   "outputs": [],
   "source": [
    "from fairness_multiverse.conformal import find_threshold\n",
    "\n",
    "# Find conformal threshold q_hat for the given alpha (split conformal method)\n",
    "q_hat = find_threshold(nc_scores, alpha)"
   ]
  },
  {
   "cell_type": "code",
   "execution_count": 42,
   "id": "df56469e",
   "metadata": {
    "execution": {
     "iopub.execute_input": "2025-08-19T18:18:35.909862Z",
     "iopub.status.busy": "2025-08-19T18:18:35.908666Z",
     "iopub.status.idle": "2025-08-19T18:18:35.926914Z",
     "shell.execute_reply": "2025-08-19T18:18:35.925526Z"
    },
    "papermill": {
     "duration": 0.033321,
     "end_time": "2025-08-19T18:18:35.928773",
     "exception": false,
     "start_time": "2025-08-19T18:18:35.895452",
     "status": "completed"
    },
    "tags": []
   },
   "outputs": [
    {
     "data": {
      "text/plain": [
       "0.6616778122387633"
      ]
     },
     "execution_count": 42,
     "metadata": {},
     "output_type": "execute_result"
    }
   ],
   "source": [
    "q_hat"
   ]
  },
  {
   "cell_type": "code",
   "execution_count": 43,
   "id": "aa1f5faa",
   "metadata": {
    "execution": {
     "iopub.execute_input": "2025-08-19T18:18:35.961590Z",
     "iopub.status.busy": "2025-08-19T18:18:35.960300Z",
     "iopub.status.idle": "2025-08-19T18:18:36.526918Z",
     "shell.execute_reply": "2025-08-19T18:18:36.525935Z"
    },
    "papermill": {
     "duration": 0.581684,
     "end_time": "2025-08-19T18:18:36.528634",
     "exception": false,
     "start_time": "2025-08-19T18:18:35.946950",
     "status": "completed"
    },
    "tags": []
   },
   "outputs": [],
   "source": [
    "from fairness_multiverse.conformal import predict_conformal_sets\n",
    "\n",
    "# Generate prediction sets for each test example\n",
    "pred_sets = predict_conformal_sets(model, X_test, q_hat)"
   ]
  },
  {
   "cell_type": "code",
   "execution_count": 44,
   "id": "97f67a6b",
   "metadata": {
    "execution": {
     "iopub.execute_input": "2025-08-19T18:18:36.555969Z",
     "iopub.status.busy": "2025-08-19T18:18:36.555569Z",
     "iopub.status.idle": "2025-08-19T18:18:36.565422Z",
     "shell.execute_reply": "2025-08-19T18:18:36.564339Z"
    },
    "papermill": {
     "duration": 0.024802,
     "end_time": "2025-08-19T18:18:36.567203",
     "exception": false,
     "start_time": "2025-08-19T18:18:36.542401",
     "status": "completed"
    },
    "tags": []
   },
   "outputs": [],
   "source": [
    "y_true = y_true.squeeze()"
   ]
  },
  {
   "cell_type": "code",
   "execution_count": 45,
   "id": "e700e9a7",
   "metadata": {
    "execution": {
     "iopub.execute_input": "2025-08-19T18:18:36.593455Z",
     "iopub.status.busy": "2025-08-19T18:18:36.592762Z",
     "iopub.status.idle": "2025-08-19T18:18:37.141660Z",
     "shell.execute_reply": "2025-08-19T18:18:37.139801Z"
    },
    "papermill": {
     "duration": 0.565626,
     "end_time": "2025-08-19T18:18:37.145769",
     "exception": false,
     "start_time": "2025-08-19T18:18:36.580143",
     "status": "completed"
    },
    "tags": []
   },
   "outputs": [],
   "source": [
    "from fairness_multiverse.conformal import evaluate_sets\n",
    "\n",
    "# Evaluate coverage and average set size on test data\n",
    "metrics = evaluate_sets(pred_sets, y_true)"
   ]
  },
  {
   "cell_type": "markdown",
   "id": "efbacec0",
   "metadata": {
    "papermill": {
     "duration": 0.012745,
     "end_time": "2025-08-19T18:18:37.182949",
     "exception": false,
     "start_time": "2025-08-19T18:18:37.170204",
     "status": "completed"
    },
    "tags": []
   },
   "source": [
    "# CP Metrics"
   ]
  },
  {
   "cell_type": "code",
   "execution_count": 46,
   "id": "9de55fb1",
   "metadata": {
    "execution": {
     "iopub.execute_input": "2025-08-19T18:18:37.210228Z",
     "iopub.status.busy": "2025-08-19T18:18:37.209225Z",
     "iopub.status.idle": "2025-08-19T18:18:37.219912Z",
     "shell.execute_reply": "2025-08-19T18:18:37.218610Z"
    },
    "papermill": {
     "duration": 0.026746,
     "end_time": "2025-08-19T18:18:37.221475",
     "exception": false,
     "start_time": "2025-08-19T18:18:37.194729",
     "status": "completed"
    },
    "tags": []
   },
   "outputs": [
    {
     "data": {
      "text/plain": [
       "{'coverage': 0.9129194069780403, 'avg_size': 1.2514658343551444}"
      ]
     },
     "execution_count": 46,
     "metadata": {},
     "output_type": "execute_result"
    }
   ],
   "source": [
    "metrics"
   ]
  },
  {
   "cell_type": "code",
   "execution_count": 47,
   "id": "64c340a1",
   "metadata": {
    "execution": {
     "iopub.execute_input": "2025-08-19T18:18:37.248169Z",
     "iopub.status.busy": "2025-08-19T18:18:37.247332Z",
     "iopub.status.idle": "2025-08-19T18:18:37.252994Z",
     "shell.execute_reply": "2025-08-19T18:18:37.252290Z"
    },
    "papermill": {
     "duration": 0.020316,
     "end_time": "2025-08-19T18:18:37.254166",
     "exception": false,
     "start_time": "2025-08-19T18:18:37.233850",
     "status": "completed"
    },
    "tags": []
   },
   "outputs": [],
   "source": [
    "example_universe = universe.copy()\n",
    "universe_training_year = example_universe.get(\"training_year\")\n",
    "universe_training_size = example_universe.get(\"training_size\")\n",
    "universe_scale = example_universe.get(\"scale\")\n",
    "universe_model = example_universe.get(\"model\")\n",
    "universe_exclude_features = example_universe.get(\"exclude_features\")\n",
    "universe_exclude_subgroups = example_universe.get(\"exclude_subgroups\")"
   ]
  },
  {
   "cell_type": "code",
   "execution_count": 48,
   "id": "dbb53cb4",
   "metadata": {
    "execution": {
     "iopub.execute_input": "2025-08-19T18:18:37.280484Z",
     "iopub.status.busy": "2025-08-19T18:18:37.279661Z",
     "iopub.status.idle": "2025-08-19T18:18:37.284693Z",
     "shell.execute_reply": "2025-08-19T18:18:37.284065Z"
    },
    "papermill": {
     "duration": 0.019401,
     "end_time": "2025-08-19T18:18:37.285800",
     "exception": false,
     "start_time": "2025-08-19T18:18:37.266399",
     "status": "completed"
    },
    "tags": []
   },
   "outputs": [],
   "source": [
    "cp_metrics_dict = {\n",
    "    \"universe_id\": [universe_id],\n",
    "    \"universe_training_year\": [universe_training_year],\n",
    "    \"universe_training_size\": [universe_training_size],\n",
    "    \"universe_scale\": [universe_scale],\n",
    "    \"universe_model\": [universe_model],\n",
    "    \"universe_exclude_features\": [universe_exclude_features],\n",
    "    \"universe_exclude_subgroups\": [universe_exclude_subgroups],\n",
    "    \"q_hat\": [q_hat],\n",
    "    \"coverage\": [metrics[\"coverage\"]],\n",
    "    \"avg_size\": [metrics[\"avg_size\"]],\n",
    "}"
   ]
  },
  {
   "cell_type": "code",
   "execution_count": 49,
   "id": "0d70d4b2",
   "metadata": {
    "execution": {
     "iopub.execute_input": "2025-08-19T18:18:37.323003Z",
     "iopub.status.busy": "2025-08-19T18:18:37.322653Z",
     "iopub.status.idle": "2025-08-19T18:18:37.329054Z",
     "shell.execute_reply": "2025-08-19T18:18:37.328335Z"
    },
    "papermill": {
     "duration": 0.023656,
     "end_time": "2025-08-19T18:18:37.330220",
     "exception": false,
     "start_time": "2025-08-19T18:18:37.306564",
     "status": "completed"
    },
    "tags": []
   },
   "outputs": [],
   "source": [
    "cp_metrics_df = pd.DataFrame(cp_metrics_dict)"
   ]
  },
  {
   "cell_type": "code",
   "execution_count": 50,
   "id": "b494403c",
   "metadata": {
    "execution": {
     "iopub.execute_input": "2025-08-19T18:18:37.358401Z",
     "iopub.status.busy": "2025-08-19T18:18:37.357625Z",
     "iopub.status.idle": "2025-08-19T18:18:37.390973Z",
     "shell.execute_reply": "2025-08-19T18:18:37.390079Z"
    },
    "papermill": {
     "duration": 0.047657,
     "end_time": "2025-08-19T18:18:37.392215",
     "exception": false,
     "start_time": "2025-08-19T18:18:37.344558",
     "status": "completed"
    },
    "tags": []
   },
   "outputs": [
    {
     "data": {
      "text/html": [
       "<div>\n",
       "<style scoped>\n",
       "    .dataframe tbody tr th:only-of-type {\n",
       "        vertical-align: middle;\n",
       "    }\n",
       "\n",
       "    .dataframe tbody tr th {\n",
       "        vertical-align: top;\n",
       "    }\n",
       "\n",
       "    .dataframe thead th {\n",
       "        text-align: right;\n",
       "    }\n",
       "</style>\n",
       "<table border=\"1\" class=\"dataframe\">\n",
       "  <thead>\n",
       "    <tr style=\"text-align: right;\">\n",
       "      <th></th>\n",
       "      <th>universe_id</th>\n",
       "      <th>universe_training_year</th>\n",
       "      <th>universe_training_size</th>\n",
       "      <th>universe_scale</th>\n",
       "      <th>universe_model</th>\n",
       "      <th>universe_exclude_features</th>\n",
       "      <th>universe_exclude_subgroups</th>\n",
       "      <th>q_hat</th>\n",
       "      <th>coverage</th>\n",
       "      <th>avg_size</th>\n",
       "    </tr>\n",
       "  </thead>\n",
       "  <tbody>\n",
       "    <tr>\n",
       "      <th>0</th>\n",
       "      <td>f05fb1e6234668f936f55200ea660ec2</td>\n",
       "      <td>2010_14</td>\n",
       "      <td>25k</td>\n",
       "      <td>do-not-scale</td>\n",
       "      <td>logreg</td>\n",
       "      <td>age</td>\n",
       "      <td>keep-all</td>\n",
       "      <td>0.661678</td>\n",
       "      <td>0.912919</td>\n",
       "      <td>1.251466</td>\n",
       "    </tr>\n",
       "  </tbody>\n",
       "</table>\n",
       "</div>"
      ],
      "text/plain": [
       "                        universe_id universe_training_year  \\\n",
       "0  f05fb1e6234668f936f55200ea660ec2                2010_14   \n",
       "\n",
       "  universe_training_size universe_scale universe_model  \\\n",
       "0                    25k   do-not-scale         logreg   \n",
       "\n",
       "  universe_exclude_features universe_exclude_subgroups     q_hat  coverage  \\\n",
       "0                       age                   keep-all  0.661678  0.912919   \n",
       "\n",
       "   avg_size  \n",
       "0  1.251466  "
      ]
     },
     "execution_count": 50,
     "metadata": {},
     "output_type": "execute_result"
    }
   ],
   "source": [
    "cp_metrics_df"
   ]
  },
  {
   "cell_type": "markdown",
   "id": "ed608b0b",
   "metadata": {
    "papermill": {
     "duration": 0.011973,
     "end_time": "2025-08-19T18:18:37.419067",
     "exception": false,
     "start_time": "2025-08-19T18:18:37.407094",
     "status": "completed"
    },
    "tags": []
   },
   "source": [
    "Conditional coverage & looking at subgroups"
   ]
  },
  {
   "cell_type": "code",
   "execution_count": 51,
   "id": "8968c366",
   "metadata": {
    "execution": {
     "iopub.execute_input": "2025-08-19T18:18:37.446208Z",
     "iopub.status.busy": "2025-08-19T18:18:37.444548Z",
     "iopub.status.idle": "2025-08-19T18:18:37.732460Z",
     "shell.execute_reply": "2025-08-19T18:18:37.731673Z"
    },
    "papermill": {
     "duration": 0.304561,
     "end_time": "2025-08-19T18:18:37.735531",
     "exception": false,
     "start_time": "2025-08-19T18:18:37.430970",
     "status": "completed"
    },
    "tags": []
   },
   "outputs": [],
   "source": [
    "from fairness_multiverse.conformal import build_cp_groups\n",
    "\n",
    "cp_groups_df = build_cp_groups(pred_sets, y_true, X_test.index, org_test)"
   ]
  },
  {
   "cell_type": "code",
   "execution_count": 52,
   "id": "292ddabf",
   "metadata": {
    "execution": {
     "iopub.execute_input": "2025-08-19T18:18:37.778671Z",
     "iopub.status.busy": "2025-08-19T18:18:37.776917Z",
     "iopub.status.idle": "2025-08-19T18:18:38.664825Z",
     "shell.execute_reply": "2025-08-19T18:18:38.663466Z"
    },
    "papermill": {
     "duration": 0.905075,
     "end_time": "2025-08-19T18:18:38.666645",
     "exception": false,
     "start_time": "2025-08-19T18:18:37.761570",
     "status": "completed"
    },
    "tags": []
   },
   "outputs": [],
   "source": [
    "# Define covered = 1 if true_label is in the predicted set\n",
    "cp_groups_df['covered'] = cp_groups_df.apply(\n",
    "    lambda r: int(r['true_label'] in r['pred_set']),\n",
    "    axis=1\n",
    ")"
   ]
  },
  {
   "cell_type": "code",
   "execution_count": 53,
   "id": "3a261692",
   "metadata": {
    "execution": {
     "iopub.execute_input": "2025-08-19T18:18:38.695693Z",
     "iopub.status.busy": "2025-08-19T18:18:38.695149Z",
     "iopub.status.idle": "2025-08-19T18:18:38.710010Z",
     "shell.execute_reply": "2025-08-19T18:18:38.708520Z"
    },
    "papermill": {
     "duration": 0.030043,
     "end_time": "2025-08-19T18:18:38.711518",
     "exception": false,
     "start_time": "2025-08-19T18:18:38.681475",
     "status": "completed"
    },
    "tags": []
   },
   "outputs": [],
   "source": [
    "subgroups = ['frau1','nongerman','nongerman_male','nongerman_female']\n",
    "\n",
    "# Conditional coverage for subgroup==1\n",
    "cond_coverage = {\n",
    "    g: cp_groups_df.loc[cp_groups_df[g]==1, 'covered'].mean()\n",
    "    for g in subgroups\n",
    "}"
   ]
  },
  {
   "cell_type": "code",
   "execution_count": 54,
   "id": "894fd600",
   "metadata": {
    "execution": {
     "iopub.execute_input": "2025-08-19T18:18:38.747995Z",
     "iopub.status.busy": "2025-08-19T18:18:38.746854Z",
     "iopub.status.idle": "2025-08-19T18:18:38.757729Z",
     "shell.execute_reply": "2025-08-19T18:18:38.756409Z"
    },
    "papermill": {
     "duration": 0.026319,
     "end_time": "2025-08-19T18:18:38.759387",
     "exception": false,
     "start_time": "2025-08-19T18:18:38.733068",
     "status": "completed"
    },
    "tags": []
   },
   "outputs": [
    {
     "data": {
      "text/plain": [
       "{'frau1': 0.913088017252999,\n",
       " 'nongerman': 0.9627238533655196,\n",
       " 'nongerman_male': 0.968386922453391,\n",
       " 'nongerman_female': 0.9533532041728763}"
      ]
     },
     "execution_count": 54,
     "metadata": {},
     "output_type": "execute_result"
    }
   ],
   "source": [
    "cond_coverage"
   ]
  },
  {
   "cell_type": "code",
   "execution_count": 55,
   "id": "942895c7",
   "metadata": {
    "execution": {
     "iopub.execute_input": "2025-08-19T18:18:38.794232Z",
     "iopub.status.busy": "2025-08-19T18:18:38.791698Z",
     "iopub.status.idle": "2025-08-19T18:18:38.807516Z",
     "shell.execute_reply": "2025-08-19T18:18:38.804965Z"
    },
    "papermill": {
     "duration": 0.032454,
     "end_time": "2025-08-19T18:18:38.809109",
     "exception": false,
     "start_time": "2025-08-19T18:18:38.776655",
     "status": "completed"
    },
    "tags": []
   },
   "outputs": [],
   "source": [
    "for subgroup, cov in cond_coverage.items():\n",
    "    cp_metrics_df[f\"cov_{subgroup}\"] = cov"
   ]
  },
  {
   "cell_type": "code",
   "execution_count": 56,
   "id": "3970120f",
   "metadata": {
    "execution": {
     "iopub.execute_input": "2025-08-19T18:18:38.841802Z",
     "iopub.status.busy": "2025-08-19T18:18:38.841391Z",
     "iopub.status.idle": "2025-08-19T18:18:38.856887Z",
     "shell.execute_reply": "2025-08-19T18:18:38.856020Z"
    },
    "papermill": {
     "duration": 0.030653,
     "end_time": "2025-08-19T18:18:38.858324",
     "exception": false,
     "start_time": "2025-08-19T18:18:38.827671",
     "status": "completed"
    },
    "tags": []
   },
   "outputs": [
    {
     "data": {
      "text/html": [
       "<div>\n",
       "<style scoped>\n",
       "    .dataframe tbody tr th:only-of-type {\n",
       "        vertical-align: middle;\n",
       "    }\n",
       "\n",
       "    .dataframe tbody tr th {\n",
       "        vertical-align: top;\n",
       "    }\n",
       "\n",
       "    .dataframe thead th {\n",
       "        text-align: right;\n",
       "    }\n",
       "</style>\n",
       "<table border=\"1\" class=\"dataframe\">\n",
       "  <thead>\n",
       "    <tr style=\"text-align: right;\">\n",
       "      <th></th>\n",
       "      <th>universe_id</th>\n",
       "      <th>universe_training_year</th>\n",
       "      <th>universe_training_size</th>\n",
       "      <th>universe_scale</th>\n",
       "      <th>universe_model</th>\n",
       "      <th>universe_exclude_features</th>\n",
       "      <th>universe_exclude_subgroups</th>\n",
       "      <th>q_hat</th>\n",
       "      <th>coverage</th>\n",
       "      <th>avg_size</th>\n",
       "      <th>cov_frau1</th>\n",
       "      <th>cov_nongerman</th>\n",
       "      <th>cov_nongerman_male</th>\n",
       "      <th>cov_nongerman_female</th>\n",
       "    </tr>\n",
       "  </thead>\n",
       "  <tbody>\n",
       "    <tr>\n",
       "      <th>0</th>\n",
       "      <td>f05fb1e6234668f936f55200ea660ec2</td>\n",
       "      <td>2010_14</td>\n",
       "      <td>25k</td>\n",
       "      <td>do-not-scale</td>\n",
       "      <td>logreg</td>\n",
       "      <td>age</td>\n",
       "      <td>keep-all</td>\n",
       "      <td>0.661678</td>\n",
       "      <td>0.912919</td>\n",
       "      <td>1.251466</td>\n",
       "      <td>0.913088</td>\n",
       "      <td>0.962724</td>\n",
       "      <td>0.968387</td>\n",
       "      <td>0.953353</td>\n",
       "    </tr>\n",
       "  </tbody>\n",
       "</table>\n",
       "</div>"
      ],
      "text/plain": [
       "                        universe_id universe_training_year  \\\n",
       "0  f05fb1e6234668f936f55200ea660ec2                2010_14   \n",
       "\n",
       "  universe_training_size universe_scale universe_model  \\\n",
       "0                    25k   do-not-scale         logreg   \n",
       "\n",
       "  universe_exclude_features universe_exclude_subgroups     q_hat  coverage  \\\n",
       "0                       age                   keep-all  0.661678  0.912919   \n",
       "\n",
       "   avg_size  cov_frau1  cov_nongerman  cov_nongerman_male  \\\n",
       "0  1.251466   0.913088       0.962724            0.968387   \n",
       "\n",
       "   cov_nongerman_female  \n",
       "0              0.953353  "
      ]
     },
     "execution_count": 56,
     "metadata": {},
     "output_type": "execute_result"
    }
   ],
   "source": [
    "cp_metrics_df"
   ]
  },
  {
   "cell_type": "markdown",
   "id": "3fc519cc",
   "metadata": {
    "papermill": {
     "duration": 0.014463,
     "end_time": "2025-08-19T18:18:38.898617",
     "exception": false,
     "start_time": "2025-08-19T18:18:38.884154",
     "status": "completed"
    },
    "tags": []
   },
   "source": [
    "# (Fairness) Metrics"
   ]
  },
  {
   "cell_type": "code",
   "execution_count": 57,
   "id": "a2e5e155",
   "metadata": {
    "execution": {
     "iopub.execute_input": "2025-08-19T18:18:38.928447Z",
     "iopub.status.busy": "2025-08-19T18:18:38.927368Z",
     "iopub.status.idle": "2025-08-19T18:18:38.944018Z",
     "shell.execute_reply": "2025-08-19T18:18:38.943214Z"
    },
    "papermill": {
     "duration": 0.031304,
     "end_time": "2025-08-19T18:18:38.945341",
     "exception": false,
     "start_time": "2025-08-19T18:18:38.914037",
     "status": "completed"
    },
    "tags": []
   },
   "outputs": [],
   "source": [
    "colname_to_bin = \"maxdeutsch1\"\n",
    "majority_value = org_train[colname_to_bin].mode()[0]\n",
    "\n",
    "org_test[\"majmin\"] = np.where(org_test[colname_to_bin] == majority_value, \"majority\", \"minority\")"
   ]
  },
  {
   "cell_type": "code",
   "execution_count": 58,
   "id": "17e3e4d5",
   "metadata": {
    "execution": {
     "iopub.execute_input": "2025-08-19T18:18:38.978807Z",
     "iopub.status.busy": "2025-08-19T18:18:38.977688Z",
     "iopub.status.idle": "2025-08-19T18:18:40.778792Z",
     "shell.execute_reply": "2025-08-19T18:18:40.777446Z"
    },
    "papermill": {
     "duration": 1.817605,
     "end_time": "2025-08-19T18:18:40.780321",
     "exception": false,
     "start_time": "2025-08-19T18:18:38.962716",
     "status": "completed"
    },
    "tags": []
   },
   "outputs": [],
   "source": [
    "example_universe = universe.copy()\n",
    "example_universe[\"cutoff\"] = example_universe[\"cutoff\"][0]\n",
    "example_universe[\"eval_fairness_grouping\"] = example_universe[\"eval_fairness_grouping\"][0]\n",
    "fairness_dict, metric_frame = universe_analysis.compute_metrics(\n",
    "    example_universe,\n",
    "    y_pred_prob=probs_test,\n",
    "    y_test=y_true,\n",
    "    org_test=org_test,\n",
    ")"
   ]
  },
  {
   "cell_type": "markdown",
   "id": "1fb7a0e9",
   "metadata": {
    "papermill": {
     "duration": 0.028471,
     "end_time": "2025-08-19T18:18:40.842031",
     "exception": false,
     "start_time": "2025-08-19T18:18:40.813560",
     "status": "completed"
    },
    "tags": []
   },
   "source": [
    "# Overall"
   ]
  },
  {
   "cell_type": "markdown",
   "id": "be1784b1",
   "metadata": {
    "papermill": {
     "duration": 0.013403,
     "end_time": "2025-08-19T18:18:40.868948",
     "exception": false,
     "start_time": "2025-08-19T18:18:40.855545",
     "status": "completed"
    },
    "tags": []
   },
   "source": [
    "Main fairness target: Equalized Odds. Seems to be a better fit than equal opportunity, since we're not only interested in Y = 1. Seems to be a better fit than demographic parity, since we also care about accuracy, not just equal distribution of preds.\n",
    "\n",
    "Pick column for computation of fairness metrics\n",
    "\n",
    "Performance\n",
    "Overall performance measures, most interesting in relation to the measures split by group below"
   ]
  },
  {
   "cell_type": "code",
   "execution_count": 59,
   "id": "b7672bee",
   "metadata": {
    "execution": {
     "iopub.execute_input": "2025-08-19T18:18:40.896952Z",
     "iopub.status.busy": "2025-08-19T18:18:40.896348Z",
     "iopub.status.idle": "2025-08-19T18:18:40.905550Z",
     "shell.execute_reply": "2025-08-19T18:18:40.904875Z"
    },
    "papermill": {
     "duration": 0.024818,
     "end_time": "2025-08-19T18:18:40.906828",
     "exception": false,
     "start_time": "2025-08-19T18:18:40.882010",
     "status": "completed"
    },
    "tags": []
   },
   "outputs": [
    {
     "data": {
      "text/plain": [
       "accuracy                   0.216420\n",
       "balanced accuracy          0.530842\n",
       "f1                         0.237970\n",
       "precision                  0.135944\n",
       "false positive rate        0.892087\n",
       "false negative rate        0.046229\n",
       "selection rate             0.900000\n",
       "count                  89710.000000\n",
       "dtype: float64"
      ]
     },
     "execution_count": 59,
     "metadata": {},
     "output_type": "execute_result"
    }
   ],
   "source": [
    "metric_frame.overall"
   ]
  },
  {
   "cell_type": "markdown",
   "id": "d93333c9",
   "metadata": {
    "papermill": {
     "duration": 0.013194,
     "end_time": "2025-08-19T18:18:40.935546",
     "exception": false,
     "start_time": "2025-08-19T18:18:40.922352",
     "status": "completed"
    },
    "tags": []
   },
   "source": [
    "By Group"
   ]
  },
  {
   "cell_type": "code",
   "execution_count": 60,
   "id": "52256966",
   "metadata": {
    "execution": {
     "iopub.execute_input": "2025-08-19T18:18:40.964424Z",
     "iopub.status.busy": "2025-08-19T18:18:40.963409Z",
     "iopub.status.idle": "2025-08-19T18:18:40.978400Z",
     "shell.execute_reply": "2025-08-19T18:18:40.977623Z"
    },
    "papermill": {
     "duration": 0.030824,
     "end_time": "2025-08-19T18:18:40.979762",
     "exception": false,
     "start_time": "2025-08-19T18:18:40.948938",
     "status": "completed"
    },
    "tags": []
   },
   "outputs": [
    {
     "data": {
      "text/html": [
       "<div>\n",
       "<style scoped>\n",
       "    .dataframe tbody tr th:only-of-type {\n",
       "        vertical-align: middle;\n",
       "    }\n",
       "\n",
       "    .dataframe tbody tr th {\n",
       "        vertical-align: top;\n",
       "    }\n",
       "\n",
       "    .dataframe thead th {\n",
       "        text-align: right;\n",
       "    }\n",
       "</style>\n",
       "<table border=\"1\" class=\"dataframe\">\n",
       "  <thead>\n",
       "    <tr style=\"text-align: right;\">\n",
       "      <th></th>\n",
       "      <th>accuracy</th>\n",
       "      <th>balanced accuracy</th>\n",
       "      <th>f1</th>\n",
       "      <th>precision</th>\n",
       "      <th>false positive rate</th>\n",
       "      <th>false negative rate</th>\n",
       "      <th>selection rate</th>\n",
       "      <th>count</th>\n",
       "    </tr>\n",
       "    <tr>\n",
       "      <th>majmin</th>\n",
       "      <th></th>\n",
       "      <th></th>\n",
       "      <th></th>\n",
       "      <th></th>\n",
       "      <th></th>\n",
       "      <th></th>\n",
       "      <th></th>\n",
       "      <th></th>\n",
       "    </tr>\n",
       "  </thead>\n",
       "  <tbody>\n",
       "    <tr>\n",
       "      <th>majority</th>\n",
       "      <td>0.238788</td>\n",
       "      <td>0.538257</td>\n",
       "      <td>0.247094</td>\n",
       "      <td>0.142122</td>\n",
       "      <td>0.868782</td>\n",
       "      <td>0.054705</td>\n",
       "      <td>0.878893</td>\n",
       "      <td>69170.0</td>\n",
       "    </tr>\n",
       "    <tr>\n",
       "      <th>minority</th>\n",
       "      <td>0.141091</td>\n",
       "      <td>0.508707</td>\n",
       "      <td>0.209375</td>\n",
       "      <td>0.117116</td>\n",
       "      <td>0.969073</td>\n",
       "      <td>0.013514</td>\n",
       "      <td>0.971081</td>\n",
       "      <td>20540.0</td>\n",
       "    </tr>\n",
       "  </tbody>\n",
       "</table>\n",
       "</div>"
      ],
      "text/plain": [
       "          accuracy  balanced accuracy        f1  precision  \\\n",
       "majmin                                                       \n",
       "majority  0.238788           0.538257  0.247094   0.142122   \n",
       "minority  0.141091           0.508707  0.209375   0.117116   \n",
       "\n",
       "          false positive rate  false negative rate  selection rate    count  \n",
       "majmin                                                                       \n",
       "majority             0.868782             0.054705        0.878893  69170.0  \n",
       "minority             0.969073             0.013514        0.971081  20540.0  "
      ]
     },
     "execution_count": 60,
     "metadata": {},
     "output_type": "execute_result"
    }
   ],
   "source": [
    "metric_frame.by_group"
   ]
  },
  {
   "cell_type": "code",
   "execution_count": 61,
   "id": "6e6c20ae",
   "metadata": {
    "execution": {
     "iopub.execute_input": "2025-08-19T18:18:41.012103Z",
     "iopub.status.busy": "2025-08-19T18:18:41.010781Z",
     "iopub.status.idle": "2025-08-19T18:18:42.927336Z",
     "shell.execute_reply": "2025-08-19T18:18:42.926445Z"
    },
    "papermill": {
     "duration": 1.932488,
     "end_time": "2025-08-19T18:18:42.928498",
     "exception": false,
     "start_time": "2025-08-19T18:18:40.996010",
     "status": "completed"
    },
    "tags": []
   },
   "outputs": [
    {
     "data": {
      "text/plain": [
       "array([[<Axes: title={'center': 'accuracy'}, xlabel='majmin'>,\n",
       "        <Axes: title={'center': 'balanced accuracy'}, xlabel='majmin'>,\n",
       "        <Axes: title={'center': 'f1'}, xlabel='majmin'>],\n",
       "       [<Axes: title={'center': 'precision'}, xlabel='majmin'>,\n",
       "        <Axes: title={'center': 'false positive rate'}, xlabel='majmin'>,\n",
       "        <Axes: title={'center': 'false negative rate'}, xlabel='majmin'>],\n",
       "       [<Axes: title={'center': 'selection rate'}, xlabel='majmin'>,\n",
       "        <Axes: title={'center': 'count'}, xlabel='majmin'>,\n",
       "        <Axes: xlabel='majmin'>]], dtype=object)"
      ]
     },
     "execution_count": 61,
     "metadata": {},
     "output_type": "execute_result"
    },
    {
     "data": {
      "image/png": "[encoded data removed]",
      "text/plain": [
       "<Figure size 1200x800 with 9 Axes>"
      ]
     },
     "metadata": {},
     "output_type": "display_data"
    }
   ],
   "source": [
    "# In a graphic\n",
    "metric_frame.by_group.plot.bar(\n",
    "    subplots=True,\n",
    "    layout=[3, 3],\n",
    "    legend=False,\n",
    "    figsize=[12, 8],\n",
    "    title=\"Show all metrics\",\n",
    ")"
   ]
  },
  {
   "cell_type": "markdown",
   "id": "b2e433ae",
   "metadata": {
    "papermill": {
     "duration": 0.025695,
     "end_time": "2025-08-19T18:18:42.977685",
     "exception": false,
     "start_time": "2025-08-19T18:18:42.951990",
     "status": "completed"
    },
    "tags": []
   },
   "source": [
    "# Final Output"
   ]
  },
  {
   "cell_type": "code",
   "execution_count": 62,
   "id": "3871301e",
   "metadata": {
    "execution": {
     "iopub.execute_input": "2025-08-19T18:18:43.010209Z",
     "iopub.status.busy": "2025-08-19T18:18:43.007985Z",
     "iopub.status.idle": "2025-08-19T18:18:43.027664Z",
     "shell.execute_reply": "2025-08-19T18:18:43.026750Z"
    },
    "papermill": {
     "duration": 0.037922,
     "end_time": "2025-08-19T18:18:43.029264",
     "exception": false,
     "start_time": "2025-08-19T18:18:42.991342",
     "status": "completed"
    },
    "tags": []
   },
   "outputs": [
    {
     "data": {
      "text/plain": [
       "4"
      ]
     },
     "execution_count": 62,
     "metadata": {},
     "output_type": "execute_result"
    }
   ],
   "source": [
    "sub_universes = universe_analysis.generate_sub_universes()\n",
    "len(sub_universes)"
   ]
  },
  {
   "cell_type": "code",
   "execution_count": 63,
   "id": "d9cfdaca",
   "metadata": {
    "execution": {
     "iopub.execute_input": "2025-08-19T18:18:43.067918Z",
     "iopub.status.busy": "2025-08-19T18:18:43.066237Z",
     "iopub.status.idle": "2025-08-19T18:18:43.077483Z",
     "shell.execute_reply": "2025-08-19T18:18:43.076078Z"
    },
    "papermill": {
     "duration": 0.029144,
     "end_time": "2025-08-19T18:18:43.079137",
     "exception": false,
     "start_time": "2025-08-19T18:18:43.049993",
     "status": "completed"
    },
    "tags": []
   },
   "outputs": [],
   "source": [
    "def filter_sub_universe_data(sub_universe, org_test):\n",
    "    # Keep all rows — no filtering\n",
    "    keep_rows_mask = np.ones(org_test.shape[0], dtype=bool)\n",
    "\n",
    "    print(f\"[INFO] Keeping all rows: {keep_rows_mask.sum()} rows retained.\")\n",
    "    return keep_rows_mask"
   ]
  },
  {
   "cell_type": "code",
   "execution_count": 64,
   "id": "2bc31ac1",
   "metadata": {
    "execution": {
     "iopub.execute_input": "2025-08-19T18:18:43.112070Z",
     "iopub.status.busy": "2025-08-19T18:18:43.111046Z",
     "iopub.status.idle": "2025-08-19T18:18:49.848695Z",
     "shell.execute_reply": "2025-08-19T18:18:49.847662Z"
    },
    "papermill": {
     "duration": 6.7544,
     "end_time": "2025-08-19T18:18:49.849992",
     "exception": false,
     "start_time": "2025-08-19T18:18:43.095592",
     "status": "completed"
    },
    "tags": []
   },
   "outputs": [
    {
     "name": "stdout",
     "output_type": "stream",
     "text": [
      "Stopping execution_time clock.\n",
      "[INFO] Keeping all rows: 89710 rows retained.\n"
     ]
    },
    {
     "name": "stdout",
     "output_type": "stream",
     "text": [
      "[INFO] Keeping all rows: 89710 rows retained.\n"
     ]
    },
    {
     "name": "stdout",
     "output_type": "stream",
     "text": [
      "[INFO] Keeping all rows: 89710 rows retained.\n"
     ]
    },
    {
     "name": "stdout",
     "output_type": "stream",
     "text": [
      "[INFO] Keeping all rows: 89710 rows retained.\n"
     ]
    },
    {
     "data": {
      "text/html": [
       "<div>\n",
       "<style scoped>\n",
       "    .dataframe tbody tr th:only-of-type {\n",
       "        vertical-align: middle;\n",
       "    }\n",
       "\n",
       "    .dataframe tbody tr th {\n",
       "        vertical-align: top;\n",
       "    }\n",
       "\n",
       "    .dataframe thead th {\n",
       "        text-align: right;\n",
       "    }\n",
       "</style>\n",
       "<table border=\"1\" class=\"dataframe\">\n",
       "  <thead>\n",
       "    <tr style=\"text-align: right;\">\n",
       "      <th></th>\n",
       "      <th>run_no</th>\n",
       "      <th>universe_id</th>\n",
       "      <th>universe_settings</th>\n",
       "      <th>execution_time</th>\n",
       "      <th>test_size_n</th>\n",
       "      <th>test_size_frac</th>\n",
       "      <th>fair_main_equalized_odds_difference</th>\n",
       "      <th>fair_main_equalized_odds_ratio</th>\n",
       "      <th>fair_main_demographic_parity_difference</th>\n",
       "      <th>fair_main_demographic_parity_ratio</th>\n",
       "      <th>...</th>\n",
       "      <th>perf_grp_precision_0</th>\n",
       "      <th>perf_grp_precision_1</th>\n",
       "      <th>perf_grp_false positive rate_0</th>\n",
       "      <th>perf_grp_false positive rate_1</th>\n",
       "      <th>perf_grp_false negative rate_0</th>\n",
       "      <th>perf_grp_false negative rate_1</th>\n",
       "      <th>perf_grp_selection rate_0</th>\n",
       "      <th>perf_grp_selection rate_1</th>\n",
       "      <th>perf_grp_count_0</th>\n",
       "      <th>perf_grp_count_1</th>\n",
       "    </tr>\n",
       "  </thead>\n",
       "  <tbody>\n",
       "    <tr>\n",
       "      <th>0</th>\n",
       "      <td>3</td>\n",
       "      <td>f05fb1e6234668f936f55200ea660ec2</td>\n",
       "      <td>{\"cutoff\": \"quantile_0.1\", \"eval_fairness_grou...</td>\n",
       "      <td>23.600769</td>\n",
       "      <td>89710</td>\n",
       "      <td>1.0</td>\n",
       "      <td>0.100291</td>\n",
       "      <td>0.896508</td>\n",
       "      <td>0.092188</td>\n",
       "      <td>0.905066</td>\n",
       "      <td>...</td>\n",
       "      <td>NaN</td>\n",
       "      <td>NaN</td>\n",
       "      <td>NaN</td>\n",
       "      <td>NaN</td>\n",
       "      <td>NaN</td>\n",
       "      <td>NaN</td>\n",
       "      <td>NaN</td>\n",
       "      <td>NaN</td>\n",
       "      <td>NaN</td>\n",
       "      <td>NaN</td>\n",
       "    </tr>\n",
       "    <tr>\n",
       "      <th>0</th>\n",
       "      <td>3</td>\n",
       "      <td>f05fb1e6234668f936f55200ea660ec2</td>\n",
       "      <td>{\"cutoff\": \"quantile_0.1\", \"eval_fairness_grou...</td>\n",
       "      <td>23.600769</td>\n",
       "      <td>89710</td>\n",
       "      <td>1.0</td>\n",
       "      <td>0.100291</td>\n",
       "      <td>0.896508</td>\n",
       "      <td>0.092188</td>\n",
       "      <td>0.905066</td>\n",
       "      <td>...</td>\n",
       "      <td>0.117116</td>\n",
       "      <td>0.142122</td>\n",
       "      <td>0.969073</td>\n",
       "      <td>0.868782</td>\n",
       "      <td>0.013514</td>\n",
       "      <td>0.054705</td>\n",
       "      <td>0.971081</td>\n",
       "      <td>0.878893</td>\n",
       "      <td>20540.0</td>\n",
       "      <td>69170.0</td>\n",
       "    </tr>\n",
       "    <tr>\n",
       "      <th>0</th>\n",
       "      <td>3</td>\n",
       "      <td>f05fb1e6234668f936f55200ea660ec2</td>\n",
       "      <td>{\"cutoff\": \"quantile_0.25\", \"eval_fairness_gro...</td>\n",
       "      <td>23.600769</td>\n",
       "      <td>89710</td>\n",
       "      <td>1.0</td>\n",
       "      <td>0.235497</td>\n",
       "      <td>0.742093</td>\n",
       "      <td>0.217344</td>\n",
       "      <td>0.763132</td>\n",
       "      <td>...</td>\n",
       "      <td>NaN</td>\n",
       "      <td>NaN</td>\n",
       "      <td>NaN</td>\n",
       "      <td>NaN</td>\n",
       "      <td>NaN</td>\n",
       "      <td>NaN</td>\n",
       "      <td>NaN</td>\n",
       "      <td>NaN</td>\n",
       "      <td>NaN</td>\n",
       "      <td>NaN</td>\n",
       "    </tr>\n",
       "    <tr>\n",
       "      <th>0</th>\n",
       "      <td>3</td>\n",
       "      <td>f05fb1e6234668f936f55200ea660ec2</td>\n",
       "      <td>{\"cutoff\": \"quantile_0.25\", \"eval_fairness_gro...</td>\n",
       "      <td>23.600769</td>\n",
       "      <td>89710</td>\n",
       "      <td>1.0</td>\n",
       "      <td>0.235497</td>\n",
       "      <td>0.742093</td>\n",
       "      <td>0.217344</td>\n",
       "      <td>0.763132</td>\n",
       "      <td>...</td>\n",
       "      <td>0.119595</td>\n",
       "      <td>0.160173</td>\n",
       "      <td>0.913108</td>\n",
       "      <td>0.677611</td>\n",
       "      <td>0.048142</td>\n",
       "      <td>0.151204</td>\n",
       "      <td>0.917575</td>\n",
       "      <td>0.700231</td>\n",
       "      <td>20540.0</td>\n",
       "      <td>69170.0</td>\n",
       "    </tr>\n",
       "  </tbody>\n",
       "</table>\n",
       "<p>4 rows × 50 columns</p>\n",
       "</div>"
      ],
      "text/plain": [
       "  run_no                       universe_id  \\\n",
       "0      3  f05fb1e6234668f936f55200ea660ec2   \n",
       "0      3  f05fb1e6234668f936f55200ea660ec2   \n",
       "0      3  f05fb1e6234668f936f55200ea660ec2   \n",
       "0      3  f05fb1e6234668f936f55200ea660ec2   \n",
       "\n",
       "                                   universe_settings  execution_time  \\\n",
       "0  {\"cutoff\": \"quantile_0.1\", \"eval_fairness_grou...       23.600769   \n",
       "0  {\"cutoff\": \"quantile_0.1\", \"eval_fairness_grou...       23.600769   \n",
       "0  {\"cutoff\": \"quantile_0.25\", \"eval_fairness_gro...       23.600769   \n",
       "0  {\"cutoff\": \"quantile_0.25\", \"eval_fairness_gro...       23.600769   \n",
       "\n",
       "   test_size_n  test_size_frac  fair_main_equalized_odds_difference  \\\n",
       "0        89710             1.0                             0.100291   \n",
       "0        89710             1.0                             0.100291   \n",
       "0        89710             1.0                             0.235497   \n",
       "0        89710             1.0                             0.235497   \n",
       "\n",
       "   fair_main_equalized_odds_ratio  fair_main_demographic_parity_difference  \\\n",
       "0                        0.896508                                 0.092188   \n",
       "0                        0.896508                                 0.092188   \n",
       "0                        0.742093                                 0.217344   \n",
       "0                        0.742093                                 0.217344   \n",
       "\n",
       "   fair_main_demographic_parity_ratio  ...  perf_grp_precision_0  \\\n",
       "0                            0.905066  ...                   NaN   \n",
       "0                            0.905066  ...              0.117116   \n",
       "0                            0.763132  ...                   NaN   \n",
       "0                            0.763132  ...              0.119595   \n",
       "\n",
       "   perf_grp_precision_1  perf_grp_false positive rate_0  \\\n",
       "0                   NaN                             NaN   \n",
       "0              0.142122                        0.969073   \n",
       "0                   NaN                             NaN   \n",
       "0              0.160173                        0.913108   \n",
       "\n",
       "   perf_grp_false positive rate_1  perf_grp_false negative rate_0  \\\n",
       "0                             NaN                             NaN   \n",
       "0                        0.868782                        0.013514   \n",
       "0                             NaN                             NaN   \n",
       "0                        0.677611                        0.048142   \n",
       "\n",
       "   perf_grp_false negative rate_1  perf_grp_selection rate_0  \\\n",
       "0                             NaN                        NaN   \n",
       "0                        0.054705                   0.971081   \n",
       "0                             NaN                        NaN   \n",
       "0                        0.151204                   0.917575   \n",
       "\n",
       "   perf_grp_selection rate_1  perf_grp_count_0  perf_grp_count_1  \n",
       "0                        NaN               NaN               NaN  \n",
       "0                   0.878893           20540.0           69170.0  \n",
       "0                        NaN               NaN               NaN  \n",
       "0                   0.700231           20540.0           69170.0  \n",
       "\n",
       "[4 rows x 50 columns]"
      ]
     },
     "execution_count": 64,
     "metadata": {},
     "output_type": "execute_result"
    }
   ],
   "source": [
    "final_output = universe_analysis.generate_final_output(\n",
    "    y_pred_prob=probs_test,\n",
    "    y_test=y_true,\n",
    "    org_test=org_test,\n",
    "    filter_data=filter_sub_universe_data,\n",
    "    cp_metrics_df=cp_metrics_df,\n",
    "    save=True,\n",
    ")\n",
    "final_output"
   ]
  },
  {
   "cell_type": "code",
   "execution_count": null,
   "id": "8b80a1ff",
   "metadata": {
    "papermill": {
     "duration": 0.014455,
     "end_time": "2025-08-19T18:18:49.882169",
     "exception": false,
     "start_time": "2025-08-19T18:18:49.867714",
     "status": "completed"
    },
    "tags": []
   },
   "outputs": [],
   "source": []
  },
  {
   "cell_type": "code",
   "execution_count": null,
   "id": "275c9fad",
   "metadata": {
    "papermill": {
     "duration": 0.014249,
     "end_time": "2025-08-19T18:18:49.910907",
     "exception": false,
     "start_time": "2025-08-19T18:18:49.896658",
     "status": "completed"
    },
    "tags": []
   },
   "outputs": [],
   "source": []
  }
 ],
 "metadata": {
  "celltoolbar": "Tags",
  "kernelspec": {
   "display_name": "Python (CMA Fairness)",
   "language": "python",
   "name": "cma_fair_env"
  },
  "language_info": {
   "codemirror_mode": {
    "name": "ipython",
    "version": 3
   },
   "file_extension": ".py",
   "mimetype": "text/x-python",
   "name": "python",
   "nbconvert_exporter": "python",
   "pygments_lexer": "ipython3",
   "version": "3.10.12"
  },
  "papermill": {
   "default_parameters": {},
   "duration": 34.002478,
   "end_time": "2025-08-19T18:18:50.745971",
   "environment_variables": {},
   "exception": null,
   "input_path": "universe_analysis.ipynb",
   "output_path": "output/runs/3/notebooks/m_3-f05fb1e6234668f936f55200ea660ec2.ipynb",
   "parameters": {
    "output_dir": "output",
    "run_no": "3",
    "seed": "2023",
    "universe": "{\"cutoff\": [\"quantile_0.1\", \"quantile_0.25\"], \"eval_fairness_grouping\": [\"majority-minority\", \"nationality-all\"], \"exclude_features\": \"age\", \"exclude_subgroups\": \"keep-all\", \"model\": \"logreg\", \"scale\": \"do-not-scale\", \"training_size\": \"25k\", \"training_year\": \"2010_14\"}",
    "universe_id": "f05fb1e6234668f936f55200ea660ec2"
   },
   "start_time": "2025-08-19T18:18:16.743493",
   "version": "2.6.0"
  }
 },
 "nbformat": 4,
 "nbformat_minor": 5
}