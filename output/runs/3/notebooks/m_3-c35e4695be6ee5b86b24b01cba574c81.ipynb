{
 "cells": [
  {
   "cell_type": "markdown",
   "id": "ef23dbb3",
   "metadata": {
    "papermill": {
     "duration": 0.010333,
     "end_time": "2025-08-19T19:12:00.044910",
     "exception": false,
     "start_time": "2025-08-19T19:12:00.034577",
     "status": "completed"
    },
    "tags": []
   },
   "source": [
    "# Setup"
   ]
  },
  {
   "cell_type": "code",
   "execution_count": 1,
   "id": "0bc8e7dc",
   "metadata": {
    "execution": {
     "iopub.execute_input": "2025-08-19T19:12:00.067140Z",
     "iopub.status.busy": "2025-08-19T19:12:00.066368Z",
     "iopub.status.idle": "2025-08-19T19:12:00.085567Z",
     "shell.execute_reply": "2025-08-19T19:12:00.084261Z"
    },
    "papermill": {
     "duration": 0.033595,
     "end_time": "2025-08-19T19:12:00.088196",
     "exception": false,
     "start_time": "2025-08-19T19:12:00.054601",
     "status": "completed"
    },
    "tags": []
   },
   "outputs": [
    {
     "name": "stdout",
     "output_type": "stream",
     "text": [
      "/dss/dsshome1/0C/ra93lal2/cma/CMA_Fairness_v2\n"
     ]
    },
    {
     "name": "stderr",
     "output_type": "stream",
     "text": [
      "/dss/dsshome1/0C/ra93lal2/.local/share/virtualenvs/CMA_Fairness_v2-3j10GkSs/lib/python3.10/site-packages/IPython/core/magics/osm.py:393: UserWarning: This is now an optional IPython functionality, using bookmarks requires you to install the `pickleshare` library.\n",
      "  bkms = self.shell.db.get('bookmarks', {})\n",
      "/dss/dsshome1/0C/ra93lal2/.local/share/virtualenvs/CMA_Fairness_v2-3j10GkSs/lib/python3.10/site-packages/IPython/core/magics/osm.py:417: UserWarning: This is now an optional IPython functionality, setting dhist requires you to install the `pickleshare` library.\n",
      "  self.shell.db['dhist'] = compress_dhist(dhist)[-100:]\n"
     ]
    }
   ],
   "source": [
    "%cd ~/cma/CMA_Fairness_v2"
   ]
  },
  {
   "cell_type": "markdown",
   "id": "9d235661",
   "metadata": {
    "papermill": {
     "duration": 0.009642,
     "end_time": "2025-08-19T19:12:00.108802",
     "exception": false,
     "start_time": "2025-08-19T19:12:00.099160",
     "status": "completed"
    },
    "tags": []
   },
   "source": [
    "The following cell holds the definition of our parameters, these values can be overriden by rendering the with e.g. the following command:\n",
    "\n",
    "papermill -p alpha 0.2 -p ratio 0.3 universe_analysis.ipynb output/test_run.ipynb"
   ]
  },
  {
   "cell_type": "code",
   "execution_count": 2,
   "id": "4a789d8e",
   "metadata": {
    "execution": {
     "iopub.execute_input": "2025-08-19T19:12:00.131171Z",
     "iopub.status.busy": "2025-08-19T19:12:00.130474Z",
     "iopub.status.idle": "2025-08-19T19:12:00.137889Z",
     "shell.execute_reply": "2025-08-19T19:12:00.136601Z"
    },
    "papermill": {
     "duration": 0.02068,
     "end_time": "2025-08-19T19:12:00.139660",
     "exception": false,
     "start_time": "2025-08-19T19:12:00.118980",
     "status": "completed"
    },
    "tags": []
   },
   "outputs": [
    {
     "name": "stdout",
     "output_type": "stream",
     "text": [
      "Current working directory: /dss/dsshome1/0C/ra93lal2/cma/CMA_Fairness_v2\n"
     ]
    }
   ],
   "source": [
    "import os\n",
    "print(\"Current working directory:\", os.getcwd())"
   ]
  },
  {
   "cell_type": "code",
   "execution_count": 3,
   "id": "4132aaed",
   "metadata": {
    "execution": {
     "iopub.execute_input": "2025-08-19T19:12:00.165312Z",
     "iopub.status.busy": "2025-08-19T19:12:00.164950Z",
     "iopub.status.idle": "2025-08-19T19:12:00.172061Z",
     "shell.execute_reply": "2025-08-19T19:12:00.171349Z"
    },
    "papermill": {
     "duration": 0.024114,
     "end_time": "2025-08-19T19:12:00.173887",
     "exception": false,
     "start_time": "2025-08-19T19:12:00.149773",
     "status": "completed"
    },
    "tags": [
     "parameters"
    ]
   },
   "outputs": [],
   "source": [
    "run_no = 0\n",
    "universe_id = \"test\"\n",
    "universe = {\n",
    "    \"training_size\": \"5k\", # \"25k\", \"5k\", \"1k\"\n",
    "    \"training_year\": \"2012_14\", # \"2014\", \"2012_14\", \"2010_14\"\n",
    "    \"scale\": \"scale\", # \"scale\", \"do-not-scale\",\n",
    "    \"model\": \"elasticnet\", # \"logreg\", \"penalized_logreg\", \"rf\", \"gbm\", \"elasticnet\"\n",
    "    \"cutoff\": [\"quantile_0.15\", \"quantile_0.30\"],\n",
    "    \"exclude_features\": \"age\", # \"none\", \"nationality\", \"sex\", \"nationality-sex\", \"age\"\n",
    "    \"exclude_subgroups\": \"drop-non-german\", # \"keep-all\", \"drop-non-german\"\n",
    "    \"eval_fairness_grouping\": [\"majority-minority\", \"nationality-all\"]\n",
    "}\n",
    "\n",
    "output_dir=\"./output\"\n",
    "seed=0"
   ]
  },
  {
   "cell_type": "code",
   "execution_count": 4,
   "id": "22b41347",
   "metadata": {
    "execution": {
     "iopub.execute_input": "2025-08-19T19:12:00.199314Z",
     "iopub.status.busy": "2025-08-19T19:12:00.198573Z",
     "iopub.status.idle": "2025-08-19T19:12:00.208032Z",
     "shell.execute_reply": "2025-08-19T19:12:00.206505Z"
    },
    "papermill": {
     "duration": 0.025739,
     "end_time": "2025-08-19T19:12:00.210243",
     "exception": false,
     "start_time": "2025-08-19T19:12:00.184504",
     "status": "completed"
    },
    "tags": [
     "injected-parameters"
    ]
   },
   "outputs": [],
   "source": [
    "# Parameters\n",
    "universe_id = \"c35e4695be6ee5b86b24b01cba574c81\"\n",
    "run_no = \"3\"\n",
    "universe = \"{\\\"cutoff\\\": [\\\"quantile_0.1\\\", \\\"quantile_0.25\\\"], \\\"eval_fairness_grouping\\\": [\\\"majority-minority\\\", \\\"nationality-all\\\"], \\\"exclude_features\\\": \\\"nationality\\\", \\\"exclude_subgroups\\\": \\\"keep-all\\\", \\\"model\\\": \\\"elasticnet\\\", \\\"scale\\\": \\\"do-not-scale\\\", \\\"training_size\\\": \\\"1k\\\", \\\"training_year\\\": \\\"2010_14\\\"}\"\n",
    "output_dir = \"output\"\n",
    "seed = \"2023\"\n"
   ]
  },
  {
   "cell_type": "code",
   "execution_count": 5,
   "id": "a5d7941f",
   "metadata": {
    "execution": {
     "iopub.execute_input": "2025-08-19T19:12:00.237913Z",
     "iopub.status.busy": "2025-08-19T19:12:00.236676Z",
     "iopub.status.idle": "2025-08-19T19:12:00.244290Z",
     "shell.execute_reply": "2025-08-19T19:12:00.242877Z"
    },
    "papermill": {
     "duration": 0.02393,
     "end_time": "2025-08-19T19:12:00.247383",
     "exception": false,
     "start_time": "2025-08-19T19:12:00.223453",
     "status": "completed"
    },
    "tags": []
   },
   "outputs": [],
   "source": [
    "import json\n",
    "if isinstance(universe, str):\n",
    "    universe = json.loads(universe)"
   ]
  },
  {
   "cell_type": "code",
   "execution_count": 6,
   "id": "7076ccb1",
   "metadata": {
    "execution": {
     "iopub.execute_input": "2025-08-19T19:12:00.284951Z",
     "iopub.status.busy": "2025-08-19T19:12:00.284666Z",
     "iopub.status.idle": "2025-08-19T19:12:00.358123Z",
     "shell.execute_reply": "2025-08-19T19:12:00.357450Z"
    },
    "papermill": {
     "duration": 0.090607,
     "end_time": "2025-08-19T19:12:00.361035",
     "exception": false,
     "start_time": "2025-08-19T19:12:00.270428",
     "status": "completed"
    },
    "tags": []
   },
   "outputs": [],
   "source": [
    "# Auto-reload the custom package\n",
    "%load_ext autoreload\n",
    "%autoreload 1\n",
    "%aimport fairness_multiverse"
   ]
  },
  {
   "cell_type": "code",
   "execution_count": 7,
   "id": "94c8eb93",
   "metadata": {
    "execution": {
     "iopub.execute_input": "2025-08-19T19:12:00.397625Z",
     "iopub.status.busy": "2025-08-19T19:12:00.397214Z",
     "iopub.status.idle": "2025-08-19T19:12:02.119708Z",
     "shell.execute_reply": "2025-08-19T19:12:02.118888Z"
    },
    "papermill": {
     "duration": 1.738373,
     "end_time": "2025-08-19T19:12:02.121730",
     "exception": false,
     "start_time": "2025-08-19T19:12:00.383357",
     "status": "completed"
    },
    "tags": []
   },
   "outputs": [],
   "source": [
    "from fairness_multiverse.universe import UniverseAnalysis\n",
    "\n",
    "universe_analysis = UniverseAnalysis(\n",
    "    run_no = run_no,\n",
    "    universe_id = universe_id,\n",
    "    universe = universe,\n",
    "    output_dir=output_dir,\n",
    ")"
   ]
  },
  {
   "cell_type": "code",
   "execution_count": 8,
   "id": "2a6381cf",
   "metadata": {
    "execution": {
     "iopub.execute_input": "2025-08-19T19:12:02.143021Z",
     "iopub.status.busy": "2025-08-19T19:12:02.142540Z",
     "iopub.status.idle": "2025-08-19T19:12:02.147593Z",
     "shell.execute_reply": "2025-08-19T19:12:02.147015Z"
    },
    "papermill": {
     "duration": 0.029122,
     "end_time": "2025-08-19T19:12:02.160876",
     "exception": false,
     "start_time": "2025-08-19T19:12:02.131754",
     "status": "completed"
    },
    "tags": []
   },
   "outputs": [
    {
     "name": "stdout",
     "output_type": "stream",
     "text": [
      "Using Seed: 2023\n"
     ]
    }
   ],
   "source": [
    "import numpy as np\n",
    "parsed_seed = int(seed)\n",
    "np.random.seed(parsed_seed)\n",
    "print(f\"Using Seed: {parsed_seed}\")"
   ]
  },
  {
   "cell_type": "markdown",
   "id": "b6e958b4",
   "metadata": {
    "papermill": {
     "duration": 0.009266,
     "end_time": "2025-08-19T19:12:02.187360",
     "exception": false,
     "start_time": "2025-08-19T19:12:02.178094",
     "status": "completed"
    },
    "tags": []
   },
   "source": [
    "# Loading Data"
   ]
  },
  {
   "cell_type": "code",
   "execution_count": 9,
   "id": "98701482",
   "metadata": {
    "execution": {
     "iopub.execute_input": "2025-08-19T19:12:02.222989Z",
     "iopub.status.busy": "2025-08-19T19:12:02.222589Z",
     "iopub.status.idle": "2025-08-19T19:12:12.171870Z",
     "shell.execute_reply": "2025-08-19T19:12:12.170901Z"
    },
    "papermill": {
     "duration": 9.976175,
     "end_time": "2025-08-19T19:12:12.173255",
     "exception": false,
     "start_time": "2025-08-19T19:12:02.197080",
     "status": "completed"
    },
    "tags": []
   },
   "outputs": [
    {
     "name": "stdout",
     "output_type": "stream",
     "text": [
      "Loading SIAB data from cache: data/siab_cached.csv.gz\n"
     ]
    },
    {
     "name": "stdout",
     "output_type": "stream",
     "text": [
      "(643690, 164)\n"
     ]
    }
   ],
   "source": [
    "from pathlib import Path\n",
    "import pandas as pd\n",
    "\n",
    "# File paths\n",
    "raw_file = Path(\"data/raw/siab.csv\")\n",
    "cache_file = Path(\"data/siab_cached.csv.gz\")\n",
    "\n",
    "# Ensure cache directory exists\n",
    "cache_file.parent.mkdir(parents=True, exist_ok=True)\n",
    "\n",
    "# Load with simple caching\n",
    "if cache_file.exists():\n",
    "    print(f\"Loading SIAB data from cache: {cache_file}\")\n",
    "    siab = pd.read_csv(cache_file, compression='gzip')\n",
    "else:\n",
    "    print(f\"Cache not found. Reading raw SIAB data: {raw_file}\")\n",
    "    siab = pd.read_csv(raw_file)\n",
    "    siab.to_csv(cache_file, index=False, compression='gzip')\n",
    "    print(f\"Cached SIAB data to: {cache_file}\")\n",
    "\n",
    "print(siab.shape)"
   ]
  },
  {
   "cell_type": "code",
   "execution_count": 10,
   "id": "058d2abb",
   "metadata": {
    "execution": {
     "iopub.execute_input": "2025-08-19T19:12:12.216265Z",
     "iopub.status.busy": "2025-08-19T19:12:12.215662Z",
     "iopub.status.idle": "2025-08-19T19:12:12.369871Z",
     "shell.execute_reply": "2025-08-19T19:12:12.369137Z"
    },
    "papermill": {
     "duration": 0.180605,
     "end_time": "2025-08-19T19:12:12.374085",
     "exception": false,
     "start_time": "2025-08-19T19:12:12.193480",
     "status": "completed"
    },
    "tags": []
   },
   "outputs": [
    {
     "data": {
      "text/html": [
       "<div>\n",
       "<style scoped>\n",
       "    .dataframe tbody tr th:only-of-type {\n",
       "        vertical-align: middle;\n",
       "    }\n",
       "\n",
       "    .dataframe tbody tr th {\n",
       "        vertical-align: top;\n",
       "    }\n",
       "\n",
       "    .dataframe thead th {\n",
       "        text-align: right;\n",
       "    }\n",
       "</style>\n",
       "<table border=\"1\" class=\"dataframe\">\n",
       "  <thead>\n",
       "    <tr style=\"text-align: right;\">\n",
       "      <th></th>\n",
       "      <th>persnr</th>\n",
       "      <th>year</th>\n",
       "      <th>nrEntry</th>\n",
       "      <th>ltue</th>\n",
       "      <th>employed_before</th>\n",
       "      <th>receipt_leh_before</th>\n",
       "      <th>receipt_lhg_before</th>\n",
       "      <th>se_before</th>\n",
       "      <th>ASU_notue_seeking_before</th>\n",
       "      <th>ASU_other_before</th>\n",
       "      <th>...</th>\n",
       "      <th>minijob_tot_dur_byage</th>\n",
       "      <th>ft_tot_dur_byage</th>\n",
       "      <th>befrist_tot_dur_byage</th>\n",
       "      <th>leih_tot_dur_byage</th>\n",
       "      <th>LHG_tot_dur_byage</th>\n",
       "      <th>LEH_tot_dur_byage</th>\n",
       "      <th>almp_tot_dur_byage</th>\n",
       "      <th>almp_aw_tot_dur_byage</th>\n",
       "      <th>se_tot_dur_byage</th>\n",
       "      <th>seeking1_tot_dur_byage</th>\n",
       "    </tr>\n",
       "  </thead>\n",
       "  <tbody>\n",
       "    <tr>\n",
       "      <th>0</th>\n",
       "      <td>7</td>\n",
       "      <td>2015</td>\n",
       "      <td>1</td>\n",
       "      <td>0</td>\n",
       "      <td>1</td>\n",
       "      <td>0</td>\n",
       "      <td>0</td>\n",
       "      <td>0</td>\n",
       "      <td>1</td>\n",
       "      <td>0</td>\n",
       "      <td>...</td>\n",
       "      <td>0.000000</td>\n",
       "      <td>0.000000</td>\n",
       "      <td>15.043478</td>\n",
       "      <td>0.000000</td>\n",
       "      <td>0.000000</td>\n",
       "      <td>0.000000</td>\n",
       "      <td>0.000000</td>\n",
       "      <td>0.000000</td>\n",
       "      <td>0.000000</td>\n",
       "      <td>0.000000</td>\n",
       "    </tr>\n",
       "    <tr>\n",
       "      <th>1</th>\n",
       "      <td>18</td>\n",
       "      <td>2010</td>\n",
       "      <td>1</td>\n",
       "      <td>1</td>\n",
       "      <td>0</td>\n",
       "      <td>0</td>\n",
       "      <td>0</td>\n",
       "      <td>0</td>\n",
       "      <td>0</td>\n",
       "      <td>0</td>\n",
       "      <td>...</td>\n",
       "      <td>0.000000</td>\n",
       "      <td>0.000000</td>\n",
       "      <td>0.000000</td>\n",
       "      <td>0.000000</td>\n",
       "      <td>0.000000</td>\n",
       "      <td>0.000000</td>\n",
       "      <td>0.000000</td>\n",
       "      <td>0.000000</td>\n",
       "      <td>0.000000</td>\n",
       "      <td>0.000000</td>\n",
       "    </tr>\n",
       "    <tr>\n",
       "      <th>2</th>\n",
       "      <td>18</td>\n",
       "      <td>2011</td>\n",
       "      <td>2</td>\n",
       "      <td>0</td>\n",
       "      <td>1</td>\n",
       "      <td>0</td>\n",
       "      <td>1</td>\n",
       "      <td>0</td>\n",
       "      <td>1</td>\n",
       "      <td>0</td>\n",
       "      <td>...</td>\n",
       "      <td>2.714286</td>\n",
       "      <td>2.714286</td>\n",
       "      <td>0.000000</td>\n",
       "      <td>0.000000</td>\n",
       "      <td>10.775510</td>\n",
       "      <td>0.000000</td>\n",
       "      <td>8.367347</td>\n",
       "      <td>0.000000</td>\n",
       "      <td>0.000000</td>\n",
       "      <td>9.836735</td>\n",
       "    </tr>\n",
       "    <tr>\n",
       "      <th>3</th>\n",
       "      <td>18</td>\n",
       "      <td>2012</td>\n",
       "      <td>3</td>\n",
       "      <td>0</td>\n",
       "      <td>1</td>\n",
       "      <td>0</td>\n",
       "      <td>1</td>\n",
       "      <td>0</td>\n",
       "      <td>1</td>\n",
       "      <td>0</td>\n",
       "      <td>...</td>\n",
       "      <td>4.200000</td>\n",
       "      <td>4.200000</td>\n",
       "      <td>0.000000</td>\n",
       "      <td>0.000000</td>\n",
       "      <td>12.100000</td>\n",
       "      <td>0.000000</td>\n",
       "      <td>9.400000</td>\n",
       "      <td>0.000000</td>\n",
       "      <td>0.000000</td>\n",
       "      <td>9.960000</td>\n",
       "    </tr>\n",
       "    <tr>\n",
       "      <th>4</th>\n",
       "      <td>18</td>\n",
       "      <td>2012</td>\n",
       "      <td>4</td>\n",
       "      <td>0</td>\n",
       "      <td>1</td>\n",
       "      <td>0</td>\n",
       "      <td>1</td>\n",
       "      <td>0</td>\n",
       "      <td>1</td>\n",
       "      <td>0</td>\n",
       "      <td>...</td>\n",
       "      <td>5.460000</td>\n",
       "      <td>5.460000</td>\n",
       "      <td>0.000000</td>\n",
       "      <td>0.000000</td>\n",
       "      <td>13.360000</td>\n",
       "      <td>0.000000</td>\n",
       "      <td>10.320000</td>\n",
       "      <td>0.000000</td>\n",
       "      <td>0.000000</td>\n",
       "      <td>10.280000</td>\n",
       "    </tr>\n",
       "    <tr>\n",
       "      <th>...</th>\n",
       "      <td>...</td>\n",
       "      <td>...</td>\n",
       "      <td>...</td>\n",
       "      <td>...</td>\n",
       "      <td>...</td>\n",
       "      <td>...</td>\n",
       "      <td>...</td>\n",
       "      <td>...</td>\n",
       "      <td>...</td>\n",
       "      <td>...</td>\n",
       "      <td>...</td>\n",
       "      <td>...</td>\n",
       "      <td>...</td>\n",
       "      <td>...</td>\n",
       "      <td>...</td>\n",
       "      <td>...</td>\n",
       "      <td>...</td>\n",
       "      <td>...</td>\n",
       "      <td>...</td>\n",
       "      <td>...</td>\n",
       "      <td>...</td>\n",
       "    </tr>\n",
       "    <tr>\n",
       "      <th>643685</th>\n",
       "      <td>1827860</td>\n",
       "      <td>2013</td>\n",
       "      <td>1</td>\n",
       "      <td>0</td>\n",
       "      <td>0</td>\n",
       "      <td>0</td>\n",
       "      <td>1</td>\n",
       "      <td>0</td>\n",
       "      <td>0</td>\n",
       "      <td>1</td>\n",
       "      <td>...</td>\n",
       "      <td>0.000000</td>\n",
       "      <td>0.000000</td>\n",
       "      <td>0.000000</td>\n",
       "      <td>0.000000</td>\n",
       "      <td>0.612903</td>\n",
       "      <td>0.000000</td>\n",
       "      <td>0.000000</td>\n",
       "      <td>0.000000</td>\n",
       "      <td>0.000000</td>\n",
       "      <td>0.000000</td>\n",
       "    </tr>\n",
       "    <tr>\n",
       "      <th>643686</th>\n",
       "      <td>1827860</td>\n",
       "      <td>2015</td>\n",
       "      <td>2</td>\n",
       "      <td>1</td>\n",
       "      <td>0</td>\n",
       "      <td>0</td>\n",
       "      <td>1</td>\n",
       "      <td>0</td>\n",
       "      <td>1</td>\n",
       "      <td>0</td>\n",
       "      <td>...</td>\n",
       "      <td>0.000000</td>\n",
       "      <td>0.000000</td>\n",
       "      <td>0.212121</td>\n",
       "      <td>0.212121</td>\n",
       "      <td>17.363636</td>\n",
       "      <td>0.000000</td>\n",
       "      <td>8.909091</td>\n",
       "      <td>0.000000</td>\n",
       "      <td>0.000000</td>\n",
       "      <td>7.121212</td>\n",
       "    </tr>\n",
       "    <tr>\n",
       "      <th>643687</th>\n",
       "      <td>1827860</td>\n",
       "      <td>2016</td>\n",
       "      <td>3</td>\n",
       "      <td>1</td>\n",
       "      <td>0</td>\n",
       "      <td>0</td>\n",
       "      <td>1</td>\n",
       "      <td>1</td>\n",
       "      <td>0</td>\n",
       "      <td>1</td>\n",
       "      <td>...</td>\n",
       "      <td>0.000000</td>\n",
       "      <td>0.000000</td>\n",
       "      <td>0.294118</td>\n",
       "      <td>0.205882</td>\n",
       "      <td>34.705882</td>\n",
       "      <td>0.000000</td>\n",
       "      <td>10.352941</td>\n",
       "      <td>1.705882</td>\n",
       "      <td>1.705882</td>\n",
       "      <td>23.911765</td>\n",
       "    </tr>\n",
       "    <tr>\n",
       "      <th>643688</th>\n",
       "      <td>1827869</td>\n",
       "      <td>2013</td>\n",
       "      <td>1</td>\n",
       "      <td>1</td>\n",
       "      <td>1</td>\n",
       "      <td>0</td>\n",
       "      <td>0</td>\n",
       "      <td>0</td>\n",
       "      <td>1</td>\n",
       "      <td>0</td>\n",
       "      <td>...</td>\n",
       "      <td>0.000000</td>\n",
       "      <td>0.000000</td>\n",
       "      <td>0.000000</td>\n",
       "      <td>0.000000</td>\n",
       "      <td>0.000000</td>\n",
       "      <td>0.525424</td>\n",
       "      <td>0.000000</td>\n",
       "      <td>0.000000</td>\n",
       "      <td>0.000000</td>\n",
       "      <td>0.000000</td>\n",
       "    </tr>\n",
       "    <tr>\n",
       "      <th>643689</th>\n",
       "      <td>1827869</td>\n",
       "      <td>2014</td>\n",
       "      <td>2</td>\n",
       "      <td>0</td>\n",
       "      <td>0</td>\n",
       "      <td>1</td>\n",
       "      <td>0</td>\n",
       "      <td>0</td>\n",
       "      <td>1</td>\n",
       "      <td>0</td>\n",
       "      <td>...</td>\n",
       "      <td>0.000000</td>\n",
       "      <td>0.666667</td>\n",
       "      <td>0.666667</td>\n",
       "      <td>0.000000</td>\n",
       "      <td>0.000000</td>\n",
       "      <td>8.950000</td>\n",
       "      <td>1.033333</td>\n",
       "      <td>0.083333</td>\n",
       "      <td>0.083333</td>\n",
       "      <td>8.133333</td>\n",
       "    </tr>\n",
       "  </tbody>\n",
       "</table>\n",
       "<p>643690 rows × 164 columns</p>\n",
       "</div>"
      ],
      "text/plain": [
       "         persnr  year  nrEntry  ltue  employed_before  receipt_leh_before  \\\n",
       "0             7  2015        1     0                1                   0   \n",
       "1            18  2010        1     1                0                   0   \n",
       "2            18  2011        2     0                1                   0   \n",
       "3            18  2012        3     0                1                   0   \n",
       "4            18  2012        4     0                1                   0   \n",
       "...         ...   ...      ...   ...              ...                 ...   \n",
       "643685  1827860  2013        1     0                0                   0   \n",
       "643686  1827860  2015        2     1                0                   0   \n",
       "643687  1827860  2016        3     1                0                   0   \n",
       "643688  1827869  2013        1     1                1                   0   \n",
       "643689  1827869  2014        2     0                0                   1   \n",
       "\n",
       "        receipt_lhg_before  se_before  ASU_notue_seeking_before  \\\n",
       "0                        0          0                         1   \n",
       "1                        0          0                         0   \n",
       "2                        1          0                         1   \n",
       "3                        1          0                         1   \n",
       "4                        1          0                         1   \n",
       "...                    ...        ...                       ...   \n",
       "643685                   1          0                         0   \n",
       "643686                   1          0                         1   \n",
       "643687                   1          1                         0   \n",
       "643688                   0          0                         1   \n",
       "643689                   0          0                         1   \n",
       "\n",
       "        ASU_other_before  ...  minijob_tot_dur_byage  ft_tot_dur_byage  \\\n",
       "0                      0  ...               0.000000          0.000000   \n",
       "1                      0  ...               0.000000          0.000000   \n",
       "2                      0  ...               2.714286          2.714286   \n",
       "3                      0  ...               4.200000          4.200000   \n",
       "4                      0  ...               5.460000          5.460000   \n",
       "...                  ...  ...                    ...               ...   \n",
       "643685                 1  ...               0.000000          0.000000   \n",
       "643686                 0  ...               0.000000          0.000000   \n",
       "643687                 1  ...               0.000000          0.000000   \n",
       "643688                 0  ...               0.000000          0.000000   \n",
       "643689                 0  ...               0.000000          0.666667   \n",
       "\n",
       "        befrist_tot_dur_byage  leih_tot_dur_byage  LHG_tot_dur_byage  \\\n",
       "0                   15.043478            0.000000           0.000000   \n",
       "1                    0.000000            0.000000           0.000000   \n",
       "2                    0.000000            0.000000          10.775510   \n",
       "3                    0.000000            0.000000          12.100000   \n",
       "4                    0.000000            0.000000          13.360000   \n",
       "...                       ...                 ...                ...   \n",
       "643685               0.000000            0.000000           0.612903   \n",
       "643686               0.212121            0.212121          17.363636   \n",
       "643687               0.294118            0.205882          34.705882   \n",
       "643688               0.000000            0.000000           0.000000   \n",
       "643689               0.666667            0.000000           0.000000   \n",
       "\n",
       "        LEH_tot_dur_byage  almp_tot_dur_byage  almp_aw_tot_dur_byage  \\\n",
       "0                0.000000            0.000000               0.000000   \n",
       "1                0.000000            0.000000               0.000000   \n",
       "2                0.000000            8.367347               0.000000   \n",
       "3                0.000000            9.400000               0.000000   \n",
       "4                0.000000           10.320000               0.000000   \n",
       "...                   ...                 ...                    ...   \n",
       "643685           0.000000            0.000000               0.000000   \n",
       "643686           0.000000            8.909091               0.000000   \n",
       "643687           0.000000           10.352941               1.705882   \n",
       "643688           0.525424            0.000000               0.000000   \n",
       "643689           8.950000            1.033333               0.083333   \n",
       "\n",
       "        se_tot_dur_byage  seeking1_tot_dur_byage  \n",
       "0               0.000000                0.000000  \n",
       "1               0.000000                0.000000  \n",
       "2               0.000000                9.836735  \n",
       "3               0.000000                9.960000  \n",
       "4               0.000000               10.280000  \n",
       "...                  ...                     ...  \n",
       "643685          0.000000                0.000000  \n",
       "643686          0.000000                7.121212  \n",
       "643687          1.705882               23.911765  \n",
       "643688          0.000000                0.000000  \n",
       "643689          0.083333                8.133333  \n",
       "\n",
       "[643690 rows x 164 columns]"
      ]
     },
     "execution_count": 10,
     "metadata": {},
     "output_type": "execute_result"
    }
   ],
   "source": [
    "siab"
   ]
  },
  {
   "cell_type": "markdown",
   "id": "1f87e805",
   "metadata": {
    "papermill": {
     "duration": 0.011189,
     "end_time": "2025-08-19T19:12:12.407404",
     "exception": false,
     "start_time": "2025-08-19T19:12:12.396215",
     "status": "completed"
    },
    "tags": []
   },
   "source": [
    "# Splitting Data and Setting Training Data Size"
   ]
  },
  {
   "cell_type": "code",
   "execution_count": 11,
   "id": "910ae358",
   "metadata": {
    "execution": {
     "iopub.execute_input": "2025-08-19T19:12:12.430013Z",
     "iopub.status.busy": "2025-08-19T19:12:12.428780Z",
     "iopub.status.idle": "2025-08-19T19:12:13.472127Z",
     "shell.execute_reply": "2025-08-19T19:12:13.471451Z"
    },
    "papermill": {
     "duration": 1.056449,
     "end_time": "2025-08-19T19:12:13.473712",
     "exception": false,
     "start_time": "2025-08-19T19:12:12.417263",
     "status": "completed"
    },
    "tags": []
   },
   "outputs": [],
   "source": [
    "from fairness_multiverse.universe import sample_by_year_size\n",
    "\n",
    "siab_train = sample_by_year_size(siab,\n",
    "                               training_year=universe[\"training_year\"],\n",
    "                               training_size=universe[\"training_size\"])"
   ]
  },
  {
   "cell_type": "code",
   "execution_count": 12,
   "id": "919c8ff5",
   "metadata": {
    "execution": {
     "iopub.execute_input": "2025-08-19T19:12:13.515301Z",
     "iopub.status.busy": "2025-08-19T19:12:13.514258Z",
     "iopub.status.idle": "2025-08-19T19:12:13.525471Z",
     "shell.execute_reply": "2025-08-19T19:12:13.524001Z"
    },
    "papermill": {
     "duration": 0.038677,
     "end_time": "2025-08-19T19:12:13.527311",
     "exception": false,
     "start_time": "2025-08-19T19:12:13.488634",
     "status": "completed"
    },
    "tags": []
   },
   "outputs": [
    {
     "data": {
      "text/plain": [
       "(1000, 164)"
      ]
     },
     "execution_count": 12,
     "metadata": {},
     "output_type": "execute_result"
    }
   ],
   "source": [
    "siab_train.shape"
   ]
  },
  {
   "cell_type": "code",
   "execution_count": 13,
   "id": "feb13bf4",
   "metadata": {
    "execution": {
     "iopub.execute_input": "2025-08-19T19:12:13.558836Z",
     "iopub.status.busy": "2025-08-19T19:12:13.557824Z",
     "iopub.status.idle": "2025-08-19T19:12:13.573340Z",
     "shell.execute_reply": "2025-08-19T19:12:13.572102Z"
    },
    "papermill": {
     "duration": 0.03025,
     "end_time": "2025-08-19T19:12:13.574795",
     "exception": false,
     "start_time": "2025-08-19T19:12:13.544545",
     "status": "completed"
    },
    "tags": []
   },
   "outputs": [
    {
     "data": {
      "text/plain": [
       "year\n",
       "2010    200\n",
       "2011    200\n",
       "2012    200\n",
       "2013    200\n",
       "2014    200\n",
       "dtype: int64"
      ]
     },
     "metadata": {},
     "output_type": "display_data"
    }
   ],
   "source": [
    "display(siab_train.groupby(\"year\").size())"
   ]
  },
  {
   "cell_type": "code",
   "execution_count": 14,
   "id": "0997782f",
   "metadata": {
    "execution": {
     "iopub.execute_input": "2025-08-19T19:12:13.601859Z",
     "iopub.status.busy": "2025-08-19T19:12:13.600865Z",
     "iopub.status.idle": "2025-08-19T19:12:13.836041Z",
     "shell.execute_reply": "2025-08-19T19:12:13.835366Z"
    },
    "papermill": {
     "duration": 0.249371,
     "end_time": "2025-08-19T19:12:13.837752",
     "exception": false,
     "start_time": "2025-08-19T19:12:13.588381",
     "status": "completed"
    },
    "tags": []
   },
   "outputs": [],
   "source": [
    "#siab_train = siab_s[siab_s.year < 2015]\n",
    "siab_calib = siab[siab.year == 2015]\n",
    "siab_test = siab[siab.year == 2016]"
   ]
  },
  {
   "cell_type": "code",
   "execution_count": 15,
   "id": "2c1e4012",
   "metadata": {
    "execution": {
     "iopub.execute_input": "2025-08-19T19:12:13.866439Z",
     "iopub.status.busy": "2025-08-19T19:12:13.865564Z",
     "iopub.status.idle": "2025-08-19T19:12:13.870611Z",
     "shell.execute_reply": "2025-08-19T19:12:13.869770Z"
    },
    "papermill": {
     "duration": 0.01961,
     "end_time": "2025-08-19T19:12:13.871682",
     "exception": false,
     "start_time": "2025-08-19T19:12:13.852072",
     "status": "completed"
    },
    "tags": []
   },
   "outputs": [],
   "source": [
    "#siab_calib.shape"
   ]
  },
  {
   "cell_type": "code",
   "execution_count": 16,
   "id": "f66b54ca",
   "metadata": {
    "execution": {
     "iopub.execute_input": "2025-08-19T19:12:13.896730Z",
     "iopub.status.busy": "2025-08-19T19:12:13.896330Z",
     "iopub.status.idle": "2025-08-19T19:12:13.904423Z",
     "shell.execute_reply": "2025-08-19T19:12:13.903780Z"
    },
    "papermill": {
     "duration": 0.021376,
     "end_time": "2025-08-19T19:12:13.905820",
     "exception": false,
     "start_time": "2025-08-19T19:12:13.884444",
     "status": "completed"
    },
    "tags": []
   },
   "outputs": [],
   "source": [
    "#siab_test.shape"
   ]
  },
  {
   "cell_type": "code",
   "execution_count": 17,
   "id": "27e4384d",
   "metadata": {
    "execution": {
     "iopub.execute_input": "2025-08-19T19:12:13.930926Z",
     "iopub.status.busy": "2025-08-19T19:12:13.930511Z",
     "iopub.status.idle": "2025-08-19T19:12:13.936271Z",
     "shell.execute_reply": "2025-08-19T19:12:13.935507Z"
    },
    "papermill": {
     "duration": 0.018615,
     "end_time": "2025-08-19T19:12:13.937589",
     "exception": false,
     "start_time": "2025-08-19T19:12:13.918974",
     "status": "completed"
    },
    "tags": []
   },
   "outputs": [],
   "source": [
    "X_train = siab_train.iloc[:,4:164]\n",
    "y_train = siab_train.iloc[:, [3]]"
   ]
  },
  {
   "cell_type": "code",
   "execution_count": 18,
   "id": "08ee8389",
   "metadata": {
    "execution": {
     "iopub.execute_input": "2025-08-19T19:12:13.960700Z",
     "iopub.status.busy": "2025-08-19T19:12:13.960292Z",
     "iopub.status.idle": "2025-08-19T19:12:14.014339Z",
     "shell.execute_reply": "2025-08-19T19:12:14.013571Z"
    },
    "papermill": {
     "duration": 0.06699,
     "end_time": "2025-08-19T19:12:14.015576",
     "exception": false,
     "start_time": "2025-08-19T19:12:13.948586",
     "status": "completed"
    },
    "tags": []
   },
   "outputs": [],
   "source": [
    "X_calib = siab_calib.iloc[:,4:164]\n",
    "y_calib = siab_calib.iloc[:, [3]]"
   ]
  },
  {
   "cell_type": "code",
   "execution_count": 19,
   "id": "b7ff42e0",
   "metadata": {
    "execution": {
     "iopub.execute_input": "2025-08-19T19:12:14.038892Z",
     "iopub.status.busy": "2025-08-19T19:12:14.038162Z",
     "iopub.status.idle": "2025-08-19T19:12:14.091533Z",
     "shell.execute_reply": "2025-08-19T19:12:14.089970Z"
    },
    "papermill": {
     "duration": 0.068776,
     "end_time": "2025-08-19T19:12:14.095501",
     "exception": false,
     "start_time": "2025-08-19T19:12:14.026725",
     "status": "completed"
    },
    "tags": []
   },
   "outputs": [],
   "source": [
    "X_test = siab_test.iloc[:,4:164]\n",
    "y_true = siab_test.iloc[:, [3]]"
   ]
  },
  {
   "cell_type": "code",
   "execution_count": 20,
   "id": "0275101e",
   "metadata": {
    "execution": {
     "iopub.execute_input": "2025-08-19T19:12:14.130223Z",
     "iopub.status.busy": "2025-08-19T19:12:14.129261Z",
     "iopub.status.idle": "2025-08-19T19:12:14.234776Z",
     "shell.execute_reply": "2025-08-19T19:12:14.233665Z"
    },
    "papermill": {
     "duration": 0.122035,
     "end_time": "2025-08-19T19:12:14.238242",
     "exception": false,
     "start_time": "2025-08-19T19:12:14.116207",
     "status": "completed"
    },
    "tags": []
   },
   "outputs": [],
   "source": [
    "# Auxiliary data needed downstream in the pipeline\n",
    "\n",
    "org_train = X_train.copy()\n",
    "org_test = X_test.copy()\n",
    "org_calib = X_calib.copy()"
   ]
  },
  {
   "cell_type": "markdown",
   "id": "b461e618",
   "metadata": {
    "papermill": {
     "duration": 0.012374,
     "end_time": "2025-08-19T19:12:14.274427",
     "exception": false,
     "start_time": "2025-08-19T19:12:14.262053",
     "status": "completed"
    },
    "tags": []
   },
   "source": [
    "# Preprocessing Data"
   ]
  },
  {
   "cell_type": "code",
   "execution_count": 21,
   "id": "78e74c4b",
   "metadata": {
    "execution": {
     "iopub.execute_input": "2025-08-19T19:12:14.297733Z",
     "iopub.status.busy": "2025-08-19T19:12:14.296743Z",
     "iopub.status.idle": "2025-08-19T19:12:14.305091Z",
     "shell.execute_reply": "2025-08-19T19:12:14.303918Z"
    },
    "papermill": {
     "duration": 0.02182,
     "end_time": "2025-08-19T19:12:14.306588",
     "exception": false,
     "start_time": "2025-08-19T19:12:14.284768",
     "status": "completed"
    },
    "tags": []
   },
   "outputs": [],
   "source": [
    "# EXCLUDE PROTECTED FEATURES\n",
    "# --------------------------\n",
    "\n",
    "excluded_features = universe[\"exclude_features\"].split(\"-\")\n",
    "excluded_features_dictionary = {\n",
    "    \"nationality\": [\"maxdeutsch1\", \"maxdeutsch.Missing.\"],\n",
    "    \"sex\": [\"frau1\"],\n",
    "    \"age\": [\"age\"],\n",
    "}"
   ]
  },
  {
   "cell_type": "code",
   "execution_count": 22,
   "id": "f8e63555",
   "metadata": {
    "execution": {
     "iopub.execute_input": "2025-08-19T19:12:14.358529Z",
     "iopub.status.busy": "2025-08-19T19:12:14.357580Z",
     "iopub.status.idle": "2025-08-19T19:12:14.364675Z",
     "shell.execute_reply": "2025-08-19T19:12:14.363669Z"
    },
    "papermill": {
     "duration": 0.034679,
     "end_time": "2025-08-19T19:12:14.366071",
     "exception": false,
     "start_time": "2025-08-19T19:12:14.331392",
     "status": "completed"
    },
    "tags": []
   },
   "outputs": [],
   "source": [
    "excluded_features_columns = [\n",
    "    excluded_features_dictionary[f] for f in excluded_features if len(f) > 0 and f != \"none\"\n",
    "]"
   ]
  },
  {
   "cell_type": "code",
   "execution_count": 23,
   "id": "da781f7c",
   "metadata": {
    "execution": {
     "iopub.execute_input": "2025-08-19T19:12:14.391942Z",
     "iopub.status.busy": "2025-08-19T19:12:14.391554Z",
     "iopub.status.idle": "2025-08-19T19:12:14.395985Z",
     "shell.execute_reply": "2025-08-19T19:12:14.395339Z"
    },
    "papermill": {
     "duration": 0.017758,
     "end_time": "2025-08-19T19:12:14.397114",
     "exception": false,
     "start_time": "2025-08-19T19:12:14.379356",
     "status": "completed"
    },
    "tags": []
   },
   "outputs": [],
   "source": [
    "from fairness_multiverse.universe import flatten_once\n",
    "\n",
    "excluded_features_columns = flatten_once(excluded_features_columns)"
   ]
  },
  {
   "cell_type": "code",
   "execution_count": 24,
   "id": "37fef0f0",
   "metadata": {
    "execution": {
     "iopub.execute_input": "2025-08-19T19:12:14.419901Z",
     "iopub.status.busy": "2025-08-19T19:12:14.419444Z",
     "iopub.status.idle": "2025-08-19T19:12:14.426477Z",
     "shell.execute_reply": "2025-08-19T19:12:14.425791Z"
    },
    "papermill": {
     "duration": 0.019961,
     "end_time": "2025-08-19T19:12:14.427719",
     "exception": false,
     "start_time": "2025-08-19T19:12:14.407758",
     "status": "completed"
    },
    "tags": []
   },
   "outputs": [
    {
     "name": "stdout",
     "output_type": "stream",
     "text": [
      "Dropping features: ['maxdeutsch1', 'maxdeutsch.Missing.']\n"
     ]
    }
   ],
   "source": [
    "if len(excluded_features_columns) > 0:\n",
    "    print(f\"Dropping features: {excluded_features_columns}\")\n",
    "    X_train.drop(excluded_features_columns, axis=1, inplace=True)"
   ]
  },
  {
   "cell_type": "code",
   "execution_count": 25,
   "id": "d029e3e9",
   "metadata": {
    "execution": {
     "iopub.execute_input": "2025-08-19T19:12:14.450869Z",
     "iopub.status.busy": "2025-08-19T19:12:14.450147Z",
     "iopub.status.idle": "2025-08-19T19:12:14.506732Z",
     "shell.execute_reply": "2025-08-19T19:12:14.505384Z"
    },
    "papermill": {
     "duration": 0.07143,
     "end_time": "2025-08-19T19:12:14.510145",
     "exception": false,
     "start_time": "2025-08-19T19:12:14.438715",
     "status": "completed"
    },
    "tags": []
   },
   "outputs": [
    {
     "name": "stdout",
     "output_type": "stream",
     "text": [
      "Dropping features: ['maxdeutsch1', 'maxdeutsch.Missing.']\n"
     ]
    }
   ],
   "source": [
    "if len(excluded_features_columns) > 0:\n",
    "    print(f\"Dropping features: {excluded_features_columns}\")\n",
    "    X_test.drop(excluded_features_columns, axis=1, inplace=True)"
   ]
  },
  {
   "cell_type": "code",
   "execution_count": 26,
   "id": "01d571f0",
   "metadata": {
    "execution": {
     "iopub.execute_input": "2025-08-19T19:12:14.544799Z",
     "iopub.status.busy": "2025-08-19T19:12:14.544458Z",
     "iopub.status.idle": "2025-08-19T19:12:14.592691Z",
     "shell.execute_reply": "2025-08-19T19:12:14.591987Z"
    },
    "papermill": {
     "duration": 0.065133,
     "end_time": "2025-08-19T19:12:14.597324",
     "exception": false,
     "start_time": "2025-08-19T19:12:14.532191",
     "status": "completed"
    },
    "tags": []
   },
   "outputs": [
    {
     "name": "stdout",
     "output_type": "stream",
     "text": [
      "Dropping features: ['maxdeutsch1', 'maxdeutsch.Missing.']\n"
     ]
    }
   ],
   "source": [
    "if len(excluded_features_columns) > 0:\n",
    "    print(f\"Dropping features: {excluded_features_columns}\")\n",
    "    X_calib.drop(excluded_features_columns, axis=1, inplace=True)"
   ]
  },
  {
   "cell_type": "code",
   "execution_count": 27,
   "id": "3037356e",
   "metadata": {
    "execution": {
     "iopub.execute_input": "2025-08-19T19:12:14.646991Z",
     "iopub.status.busy": "2025-08-19T19:12:14.646656Z",
     "iopub.status.idle": "2025-08-19T19:12:14.651268Z",
     "shell.execute_reply": "2025-08-19T19:12:14.650578Z"
    },
    "papermill": {
     "duration": 0.026954,
     "end_time": "2025-08-19T19:12:14.652629",
     "exception": false,
     "start_time": "2025-08-19T19:12:14.625675",
     "status": "completed"
    },
    "tags": []
   },
   "outputs": [],
   "source": [
    "# EXCLUDE CERTAIN SUBGROUPS\n",
    "# -------------------------\n",
    "\n",
    "mode = universe.get(\"exclude_subgroups\", \"keep-all\") # Defaults to \"keep-all\" if the key is missing."
   ]
  },
  {
   "cell_type": "code",
   "execution_count": 28,
   "id": "9d1e63fd",
   "metadata": {
    "execution": {
     "iopub.execute_input": "2025-08-19T19:12:14.675936Z",
     "iopub.status.busy": "2025-08-19T19:12:14.675645Z",
     "iopub.status.idle": "2025-08-19T19:12:14.681386Z",
     "shell.execute_reply": "2025-08-19T19:12:14.680628Z"
    },
    "papermill": {
     "duration": 0.019043,
     "end_time": "2025-08-19T19:12:14.682721",
     "exception": false,
     "start_time": "2025-08-19T19:12:14.663678",
     "status": "completed"
    },
    "tags": []
   },
   "outputs": [],
   "source": [
    "if mode == \"keep-all\":\n",
    "    keep_mask = pd.Series(True, index=org_train.index)\n",
    "\n",
    "elif mode == \"drop-non-german\":\n",
    "    keep_mask = (org_train[\"maxdeutsch1\"] == 1) & (org_train[\"maxdeutsch.Missing.\"] == 0)\n",
    "\n",
    "else:\n",
    "    raise ValueError(f\"Unsupported mode for exclude_subgroups: {mode}\")"
   ]
  },
  {
   "cell_type": "code",
   "execution_count": 29,
   "id": "d3b65474",
   "metadata": {
    "execution": {
     "iopub.execute_input": "2025-08-19T19:12:14.705886Z",
     "iopub.status.busy": "2025-08-19T19:12:14.705587Z",
     "iopub.status.idle": "2025-08-19T19:12:14.710806Z",
     "shell.execute_reply": "2025-08-19T19:12:14.710187Z"
    },
    "papermill": {
     "duration": 0.018304,
     "end_time": "2025-08-19T19:12:14.712092",
     "exception": false,
     "start_time": "2025-08-19T19:12:14.693788",
     "status": "completed"
    },
    "tags": []
   },
   "outputs": [],
   "source": [
    "n_drop = (~keep_mask).sum() # Calculates how many rows are set to be dropped\n",
    "if n_drop > 0:\n",
    "    pct = n_drop / len(keep_mask) * 100\n",
    "    print(f\"Dropping {n_drop} rows ({pct:.2f}%) where mode='{mode}'\")"
   ]
  },
  {
   "cell_type": "code",
   "execution_count": 30,
   "id": "f44389b3",
   "metadata": {
    "execution": {
     "iopub.execute_input": "2025-08-19T19:12:14.735911Z",
     "iopub.status.busy": "2025-08-19T19:12:14.735617Z",
     "iopub.status.idle": "2025-08-19T19:12:14.741386Z",
     "shell.execute_reply": "2025-08-19T19:12:14.740705Z"
    },
    "papermill": {
     "duration": 0.019602,
     "end_time": "2025-08-19T19:12:14.742649",
     "exception": false,
     "start_time": "2025-08-19T19:12:14.723047",
     "status": "completed"
    },
    "tags": []
   },
   "outputs": [],
   "source": [
    "X_train = X_train[keep_mask]"
   ]
  },
  {
   "cell_type": "code",
   "execution_count": 31,
   "id": "ceca8c2a",
   "metadata": {
    "execution": {
     "iopub.execute_input": "2025-08-19T19:12:14.765755Z",
     "iopub.status.busy": "2025-08-19T19:12:14.765466Z",
     "iopub.status.idle": "2025-08-19T19:12:14.773707Z",
     "shell.execute_reply": "2025-08-19T19:12:14.772950Z"
    },
    "papermill": {
     "duration": 0.021541,
     "end_time": "2025-08-19T19:12:14.775224",
     "exception": false,
     "start_time": "2025-08-19T19:12:14.753683",
     "status": "completed"
    },
    "tags": []
   },
   "outputs": [],
   "source": [
    "y_train = y_train[keep_mask]"
   ]
  },
  {
   "cell_type": "markdown",
   "id": "04d31e2f",
   "metadata": {
    "papermill": {
     "duration": 0.010878,
     "end_time": "2025-08-19T19:12:14.797853",
     "exception": false,
     "start_time": "2025-08-19T19:12:14.786975",
     "status": "completed"
    },
    "tags": []
   },
   "source": [
    "# Model Training"
   ]
  },
  {
   "cell_type": "code",
   "execution_count": 32,
   "id": "db991733",
   "metadata": {
    "execution": {
     "iopub.execute_input": "2025-08-19T19:12:14.820850Z",
     "iopub.status.busy": "2025-08-19T19:12:14.820527Z",
     "iopub.status.idle": "2025-08-19T19:12:14.910921Z",
     "shell.execute_reply": "2025-08-19T19:12:14.910190Z"
    },
    "papermill": {
     "duration": 0.105245,
     "end_time": "2025-08-19T19:12:14.913856",
     "exception": false,
     "start_time": "2025-08-19T19:12:14.808611",
     "status": "completed"
    },
    "tags": []
   },
   "outputs": [],
   "source": [
    "from sklearn.linear_model import LogisticRegression\n",
    "from sklearn.ensemble import GradientBoostingClassifier, RandomForestClassifier\n",
    "\n",
    "if (universe[\"model\"] == \"logreg\"):\n",
    "    model = LogisticRegression() #penalty=\"none\", solver=\"newton-cg\", max_iter=1)\n",
    "elif (universe[\"model\"] == \"penalized_logreg\"):\n",
    "    model = LogisticRegression(penalty=\"l2\", C=0.1) #, solver=\"newton-cg\", max_iter=1)\n",
    "elif (universe[\"model\"] == \"rf\"):\n",
    "    model = RandomForestClassifier() # n_estimators=100, n_jobs=-1\n",
    "elif (universe[\"model\"] == \"gbm\"):\n",
    "    model = GradientBoostingClassifier()\n",
    "elif (universe[\"model\"] == \"elasticnet\"):\n",
    "    model = LogisticRegression(penalty = 'elasticnet', solver = 'saga', l1_ratio = 0.5) # max_iter=5000\n",
    "else:\n",
    "    raise \"Unsupported universe.model\""
   ]
  },
  {
   "cell_type": "code",
   "execution_count": 33,
   "id": "a4b5cd25",
   "metadata": {
    "execution": {
     "iopub.execute_input": "2025-08-19T19:12:14.999143Z",
     "iopub.status.busy": "2025-08-19T19:12:14.997814Z",
     "iopub.status.idle": "2025-08-19T19:12:15.005540Z",
     "shell.execute_reply": "2025-08-19T19:12:15.004576Z"
    },
    "papermill": {
     "duration": 0.052549,
     "end_time": "2025-08-19T19:12:15.008434",
     "exception": false,
     "start_time": "2025-08-19T19:12:14.955885",
     "status": "completed"
    },
    "tags": []
   },
   "outputs": [],
   "source": [
    "from sklearn.pipeline import Pipeline\n",
    "from sklearn.preprocessing import StandardScaler\n",
    "\n",
    "model = Pipeline([\n",
    "    #(\"continuous_processor\", continuous_processor),\n",
    "    #(\"categorical_preprocessor\", categorical_preprocessor),\n",
    "    (\"scale\", StandardScaler() if universe[\"scale\"] == \"scale\" else None), \n",
    "    (\"model\", model),\n",
    "])"
   ]
  },
  {
   "cell_type": "code",
   "execution_count": 34,
   "id": "283a904d",
   "metadata": {
    "execution": {
     "iopub.execute_input": "2025-08-19T19:12:15.045916Z",
     "iopub.status.busy": "2025-08-19T19:12:15.044825Z",
     "iopub.status.idle": "2025-08-19T19:12:15.310926Z",
     "shell.execute_reply": "2025-08-19T19:12:15.310195Z"
    },
    "papermill": {
     "duration": 0.288718,
     "end_time": "2025-08-19T19:12:15.319757",
     "exception": false,
     "start_time": "2025-08-19T19:12:15.031039",
     "status": "completed"
    },
    "tags": []
   },
   "outputs": [
    {
     "name": "stderr",
     "output_type": "stream",
     "text": [
      "/dss/dsshome1/0C/ra93lal2/.local/share/virtualenvs/CMA_Fairness_v2-3j10GkSs/lib/python3.10/site-packages/sklearn/linear_model/_sag.py:350: ConvergenceWarning: The max_iter was reached which means the coef_ did not converge\n",
      "  warnings.warn(\n"
     ]
    },
    {
     "data": {
      "text/html": [
       "<style>#sk-container-id-1 {color: black;background-color: white;}#sk-container-id-1 pre{padding: 0;}#sk-container-id-1 div.sk-toggleable {background-color: white;}#sk-container-id-1 label.sk-toggleable__label {cursor: pointer;display: block;width: 100%;margin-bottom: 0;padding: 0.3em;box-sizing: border-box;text-align: center;}#sk-container-id-1 label.sk-toggleable__label-arrow:before {content: \"▸\";float: left;margin-right: 0.25em;color: #696969;}#sk-container-id-1 label.sk-toggleable__label-arrow:hover:before {color: black;}#sk-container-id-1 div.sk-estimator:hover label.sk-toggleable__label-arrow:before {color: black;}#sk-container-id-1 div.sk-toggleable__content {max-height: 0;max-width: 0;overflow: hidden;text-align: left;background-color: #f0f8ff;}#sk-container-id-1 div.sk-toggleable__content pre {margin: 0.2em;color: black;border-radius: 0.25em;background-color: #f0f8ff;}#sk-container-id-1 input.sk-toggleable__control:checked~div.sk-toggleable__content {max-height: 200px;max-width: 100%;overflow: auto;}#sk-container-id-1 input.sk-toggleable__control:checked~label.sk-toggleable__label-arrow:before {content: \"▾\";}#sk-container-id-1 div.sk-estimator input.sk-toggleable__control:checked~label.sk-toggleable__label {background-color: #d4ebff;}#sk-container-id-1 div.sk-label input.sk-toggleable__control:checked~label.sk-toggleable__label {background-color: #d4ebff;}#sk-container-id-1 input.sk-hidden--visually {border: 0;clip: rect(1px 1px 1px 1px);clip: rect(1px, 1px, 1px, 1px);height: 1px;margin: -1px;overflow: hidden;padding: 0;position: absolute;width: 1px;}#sk-container-id-1 div.sk-estimator {font-family: monospace;background-color: #f0f8ff;border: 1px dotted black;border-radius: 0.25em;box-sizing: border-box;margin-bottom: 0.5em;}#sk-container-id-1 div.sk-estimator:hover {background-color: #d4ebff;}#sk-container-id-1 div.sk-parallel-item::after {content: \"\";width: 100%;border-bottom: 1px solid gray;flex-grow: 1;}#sk-container-id-1 div.sk-label:hover label.sk-toggleable__label {background-color: #d4ebff;}#sk-container-id-1 div.sk-serial::before {content: \"\";position: absolute;border-left: 1px solid gray;box-sizing: border-box;top: 0;bottom: 0;left: 50%;z-index: 0;}#sk-container-id-1 div.sk-serial {display: flex;flex-direction: column;align-items: center;background-color: white;padding-right: 0.2em;padding-left: 0.2em;position: relative;}#sk-container-id-1 div.sk-item {position: relative;z-index: 1;}#sk-container-id-1 div.sk-parallel {display: flex;align-items: stretch;justify-content: center;background-color: white;position: relative;}#sk-container-id-1 div.sk-item::before, #sk-container-id-1 div.sk-parallel-item::before {content: \"\";position: absolute;border-left: 1px solid gray;box-sizing: border-box;top: 0;bottom: 0;left: 50%;z-index: -1;}#sk-container-id-1 div.sk-parallel-item {display: flex;flex-direction: column;z-index: 1;position: relative;background-color: white;}#sk-container-id-1 div.sk-parallel-item:first-child::after {align-self: flex-end;width: 50%;}#sk-container-id-1 div.sk-parallel-item:last-child::after {align-self: flex-start;width: 50%;}#sk-container-id-1 div.sk-parallel-item:only-child::after {width: 0;}#sk-container-id-1 div.sk-dashed-wrapped {border: 1px dashed gray;margin: 0 0.4em 0.5em 0.4em;box-sizing: border-box;padding-bottom: 0.4em;background-color: white;}#sk-container-id-1 div.sk-label label {font-family: monospace;font-weight: bold;display: inline-block;line-height: 1.2em;}#sk-container-id-1 div.sk-label-container {text-align: center;}#sk-container-id-1 div.sk-container {/* jupyter's `normalize.less` sets `[hidden] { display: none; }` but bootstrap.min.css set `[hidden] { display: none !important; }` so we also need the `!important` here to be able to override the default hidden behavior on the sphinx rendered scikit-learn.org. See: https://github.com/scikit-learn/scikit-learn/issues/21755 */display: inline-block !important;position: relative;}#sk-container-id-1 div.sk-text-repr-fallback {display: none;}</style><div id=\"sk-container-id-1\" class=\"sk-top-container\"><div class=\"sk-text-repr-fallback\"><pre>Pipeline(steps=[(&#x27;scale&#x27;, None),\n",
       "                (&#x27;model&#x27;,\n",
       "                 LogisticRegression(l1_ratio=0.5, penalty=&#x27;elasticnet&#x27;,\n",
       "                                    solver=&#x27;saga&#x27;))])</pre><b>In a Jupyter environment, please rerun this cell to show the HTML representation or trust the notebook. <br />On GitHub, the HTML representation is unable to render, please try loading this page with nbviewer.org.</b></div><div class=\"sk-container\" hidden><div class=\"sk-item sk-dashed-wrapped\"><div class=\"sk-label-container\"><div class=\"sk-label sk-toggleable\"><input class=\"sk-toggleable__control sk-hidden--visually\" id=\"sk-estimator-id-1\" type=\"checkbox\" ><label for=\"sk-estimator-id-1\" class=\"sk-toggleable__label sk-toggleable__label-arrow\">Pipeline</label><div class=\"sk-toggleable__content\"><pre>Pipeline(steps=[(&#x27;scale&#x27;, None),\n",
       "                (&#x27;model&#x27;,\n",
       "                 LogisticRegression(l1_ratio=0.5, penalty=&#x27;elasticnet&#x27;,\n",
       "                                    solver=&#x27;saga&#x27;))])</pre></div></div></div><div class=\"sk-serial\"><div class=\"sk-item\"><div class=\"sk-estimator sk-toggleable\"><input class=\"sk-toggleable__control sk-hidden--visually\" id=\"sk-estimator-id-2\" type=\"checkbox\" ><label for=\"sk-estimator-id-2\" class=\"sk-toggleable__label sk-toggleable__label-arrow\">None</label><div class=\"sk-toggleable__content\"><pre>None</pre></div></div></div><div class=\"sk-item\"><div class=\"sk-estimator sk-toggleable\"><input class=\"sk-toggleable__control sk-hidden--visually\" id=\"sk-estimator-id-3\" type=\"checkbox\" ><label for=\"sk-estimator-id-3\" class=\"sk-toggleable__label sk-toggleable__label-arrow\">LogisticRegression</label><div class=\"sk-toggleable__content\"><pre>LogisticRegression(l1_ratio=0.5, penalty=&#x27;elasticnet&#x27;, solver=&#x27;saga&#x27;)</pre></div></div></div></div></div></div></div>"
      ],
      "text/plain": [
       "Pipeline(steps=[('scale', None),\n",
       "                ('model',\n",
       "                 LogisticRegression(l1_ratio=0.5, penalty='elasticnet',\n",
       "                                    solver='saga'))])"
      ]
     },
     "execution_count": 34,
     "metadata": {},
     "output_type": "execute_result"
    }
   ],
   "source": [
    "model.fit(X_train, y_train.values.ravel())"
   ]
  },
  {
   "cell_type": "code",
   "execution_count": 35,
   "id": "6e15e313",
   "metadata": {
    "execution": {
     "iopub.execute_input": "2025-08-19T19:12:15.354895Z",
     "iopub.status.busy": "2025-08-19T19:12:15.353705Z",
     "iopub.status.idle": "2025-08-19T19:12:15.455792Z",
     "shell.execute_reply": "2025-08-19T19:12:15.455056Z"
    },
    "papermill": {
     "duration": 0.118097,
     "end_time": "2025-08-19T19:12:15.458357",
     "exception": false,
     "start_time": "2025-08-19T19:12:15.340260",
     "status": "completed"
    },
    "tags": []
   },
   "outputs": [
    {
     "data": {
      "text/plain": [
       "0.8682309664474418"
      ]
     },
     "execution_count": 35,
     "metadata": {},
     "output_type": "execute_result"
    }
   ],
   "source": [
    "from fairness_multiverse.universe import predict_w_threshold\n",
    "\n",
    "probs_test = model.predict_proba(X_test)\n",
    "\n",
    "'''\n",
    "Below code returns a boolean array (or binary 0/1 array depending on how it’s used) where each element \n",
    "is True if the probability of class 1 is greater than or equal to the threshold, and False otherwise.\n",
    "'''\n",
    "y_pred_default = predict_w_threshold(probs_test, 0.5)\n",
    "\n",
    "from sklearn.metrics import accuracy_score\n",
    "\n",
    "# Naive prediction\n",
    "accuracy_score(y_true = y_true, y_pred = y_pred_default)"
   ]
  },
  {
   "cell_type": "code",
   "execution_count": 36,
   "id": "6f14067c",
   "metadata": {
    "execution": {
     "iopub.execute_input": "2025-08-19T19:12:15.499444Z",
     "iopub.status.busy": "2025-08-19T19:12:15.498275Z",
     "iopub.status.idle": "2025-08-19T19:12:15.594594Z",
     "shell.execute_reply": "2025-08-19T19:12:15.593781Z"
    },
    "papermill": {
     "duration": 0.113173,
     "end_time": "2025-08-19T19:12:15.597131",
     "exception": false,
     "start_time": "2025-08-19T19:12:15.483958",
     "status": "completed"
    },
    "tags": []
   },
   "outputs": [
    {
     "data": {
      "text/plain": [
       "array([0, 0, 0, ..., 0, 0, 0])"
      ]
     },
     "execution_count": 36,
     "metadata": {},
     "output_type": "execute_result"
    }
   ],
   "source": [
    "model.predict(X_test)"
   ]
  },
  {
   "cell_type": "markdown",
   "id": "3759920c",
   "metadata": {
    "papermill": {
     "duration": 0.012513,
     "end_time": "2025-08-19T19:12:15.633623",
     "exception": false,
     "start_time": "2025-08-19T19:12:15.621110",
     "status": "completed"
    },
    "tags": []
   },
   "source": [
    "# Conformal Prediction"
   ]
  },
  {
   "cell_type": "code",
   "execution_count": 37,
   "id": "14b27f59",
   "metadata": {
    "execution": {
     "iopub.execute_input": "2025-08-19T19:12:15.659155Z",
     "iopub.status.busy": "2025-08-19T19:12:15.658041Z",
     "iopub.status.idle": "2025-08-19T19:12:15.665233Z",
     "shell.execute_reply": "2025-08-19T19:12:15.664001Z"
    },
    "papermill": {
     "duration": 0.021742,
     "end_time": "2025-08-19T19:12:15.666766",
     "exception": false,
     "start_time": "2025-08-19T19:12:15.645024",
     "status": "completed"
    },
    "tags": []
   },
   "outputs": [],
   "source": [
    "# Miscoverage level for conformal prediction (10% allowed error rate => 90% target coverage)\n",
    "alpha = 0.1"
   ]
  },
  {
   "cell_type": "code",
   "execution_count": 38,
   "id": "59102472",
   "metadata": {
    "execution": {
     "iopub.execute_input": "2025-08-19T19:12:15.695013Z",
     "iopub.status.busy": "2025-08-19T19:12:15.693792Z",
     "iopub.status.idle": "2025-08-19T19:12:15.785887Z",
     "shell.execute_reply": "2025-08-19T19:12:15.785025Z"
    },
    "papermill": {
     "duration": 0.108139,
     "end_time": "2025-08-19T19:12:15.788622",
     "exception": false,
     "start_time": "2025-08-19T19:12:15.680483",
     "status": "completed"
    },
    "tags": []
   },
   "outputs": [],
   "source": [
    "probs_calib = model.predict_proba(X_calib)"
   ]
  },
  {
   "cell_type": "code",
   "execution_count": 39,
   "id": "a792d4dd",
   "metadata": {
    "execution": {
     "iopub.execute_input": "2025-08-19T19:12:15.848102Z",
     "iopub.status.busy": "2025-08-19T19:12:15.847729Z",
     "iopub.status.idle": "2025-08-19T19:12:15.853838Z",
     "shell.execute_reply": "2025-08-19T19:12:15.852804Z"
    },
    "papermill": {
     "duration": 0.028392,
     "end_time": "2025-08-19T19:12:15.855751",
     "exception": false,
     "start_time": "2025-08-19T19:12:15.827359",
     "status": "completed"
    },
    "tags": []
   },
   "outputs": [],
   "source": [
    "y_calib = y_calib.values.ravel().astype(int)"
   ]
  },
  {
   "cell_type": "code",
   "execution_count": 40,
   "id": "650fd033",
   "metadata": {
    "execution": {
     "iopub.execute_input": "2025-08-19T19:12:15.902100Z",
     "iopub.status.busy": "2025-08-19T19:12:15.901761Z",
     "iopub.status.idle": "2025-08-19T19:12:15.908950Z",
     "shell.execute_reply": "2025-08-19T19:12:15.908005Z"
    },
    "papermill": {
     "duration": 0.033902,
     "end_time": "2025-08-19T19:12:15.910431",
     "exception": false,
     "start_time": "2025-08-19T19:12:15.876529",
     "status": "completed"
    },
    "tags": []
   },
   "outputs": [],
   "source": [
    "from fairness_multiverse.conformal import compute_nc_scores\n",
    "\n",
    "# Compute nonconformity scores on calibration set (1 - probability of true class)\n",
    "nc_scores = compute_nc_scores(probs_calib, y_calib)"
   ]
  },
  {
   "cell_type": "code",
   "execution_count": 41,
   "id": "28ada44c",
   "metadata": {
    "execution": {
     "iopub.execute_input": "2025-08-19T19:12:15.958880Z",
     "iopub.status.busy": "2025-08-19T19:12:15.958213Z",
     "iopub.status.idle": "2025-08-19T19:12:15.965311Z",
     "shell.execute_reply": "2025-08-19T19:12:15.964371Z"
    },
    "papermill": {
     "duration": 0.038308,
     "end_time": "2025-08-19T19:12:15.967132",
     "exception": false,
     "start_time": "2025-08-19T19:12:15.928824",
     "status": "completed"
    },
    "tags": []
   },
   "outputs": [],
   "source": [
    "from fairness_multiverse.conformal import find_threshold\n",
    "\n",
    "# Find conformal threshold q_hat for the given alpha (split conformal method)\n",
    "q_hat = find_threshold(nc_scores, alpha)"
   ]
  },
  {
   "cell_type": "code",
   "execution_count": 42,
   "id": "df56469e",
   "metadata": {
    "execution": {
     "iopub.execute_input": "2025-08-19T19:12:16.006499Z",
     "iopub.status.busy": "2025-08-19T19:12:16.005968Z",
     "iopub.status.idle": "2025-08-19T19:12:16.013125Z",
     "shell.execute_reply": "2025-08-19T19:12:16.012411Z"
    },
    "papermill": {
     "duration": 0.02279,
     "end_time": "2025-08-19T19:12:16.014415",
     "exception": false,
     "start_time": "2025-08-19T19:12:15.991625",
     "status": "completed"
    },
    "tags": []
   },
   "outputs": [
    {
     "data": {
      "text/plain": [
       "0.6867175583337277"
      ]
     },
     "execution_count": 42,
     "metadata": {},
     "output_type": "execute_result"
    }
   ],
   "source": [
    "q_hat"
   ]
  },
  {
   "cell_type": "code",
   "execution_count": 43,
   "id": "aa1f5faa",
   "metadata": {
    "execution": {
     "iopub.execute_input": "2025-08-19T19:12:16.042115Z",
     "iopub.status.busy": "2025-08-19T19:12:16.041512Z",
     "iopub.status.idle": "2025-08-19T19:12:16.567657Z",
     "shell.execute_reply": "2025-08-19T19:12:16.566153Z"
    },
    "papermill": {
     "duration": 0.544731,
     "end_time": "2025-08-19T19:12:16.571421",
     "exception": false,
     "start_time": "2025-08-19T19:12:16.026690",
     "status": "completed"
    },
    "tags": []
   },
   "outputs": [],
   "source": [
    "from fairness_multiverse.conformal import predict_conformal_sets\n",
    "\n",
    "# Generate prediction sets for each test example\n",
    "pred_sets = predict_conformal_sets(model, X_test, q_hat)"
   ]
  },
  {
   "cell_type": "code",
   "execution_count": 44,
   "id": "97f67a6b",
   "metadata": {
    "execution": {
     "iopub.execute_input": "2025-08-19T19:12:16.613948Z",
     "iopub.status.busy": "2025-08-19T19:12:16.613145Z",
     "iopub.status.idle": "2025-08-19T19:12:16.622672Z",
     "shell.execute_reply": "2025-08-19T19:12:16.621322Z"
    },
    "papermill": {
     "duration": 0.028071,
     "end_time": "2025-08-19T19:12:16.624356",
     "exception": false,
     "start_time": "2025-08-19T19:12:16.596285",
     "status": "completed"
    },
    "tags": []
   },
   "outputs": [],
   "source": [
    "y_true = y_true.squeeze()"
   ]
  },
  {
   "cell_type": "code",
   "execution_count": 45,
   "id": "e700e9a7",
   "metadata": {
    "execution": {
     "iopub.execute_input": "2025-08-19T19:12:16.654811Z",
     "iopub.status.busy": "2025-08-19T19:12:16.653817Z",
     "iopub.status.idle": "2025-08-19T19:12:17.155762Z",
     "shell.execute_reply": "2025-08-19T19:12:17.154543Z"
    },
    "papermill": {
     "duration": 0.519181,
     "end_time": "2025-08-19T19:12:17.158925",
     "exception": false,
     "start_time": "2025-08-19T19:12:16.639744",
     "status": "completed"
    },
    "tags": []
   },
   "outputs": [],
   "source": [
    "from fairness_multiverse.conformal import evaluate_sets\n",
    "\n",
    "# Evaluate coverage and average set size on test data\n",
    "metrics = evaluate_sets(pred_sets, y_true)"
   ]
  },
  {
   "cell_type": "markdown",
   "id": "efbacec0",
   "metadata": {
    "papermill": {
     "duration": 0.01325,
     "end_time": "2025-08-19T19:12:17.198325",
     "exception": false,
     "start_time": "2025-08-19T19:12:17.185075",
     "status": "completed"
    },
    "tags": []
   },
   "source": [
    "# CP Metrics"
   ]
  },
  {
   "cell_type": "code",
   "execution_count": 46,
   "id": "9de55fb1",
   "metadata": {
    "execution": {
     "iopub.execute_input": "2025-08-19T19:12:17.224604Z",
     "iopub.status.busy": "2025-08-19T19:12:17.224159Z",
     "iopub.status.idle": "2025-08-19T19:12:17.230150Z",
     "shell.execute_reply": "2025-08-19T19:12:17.229451Z"
    },
    "papermill": {
     "duration": 0.020725,
     "end_time": "2025-08-19T19:12:17.231419",
     "exception": false,
     "start_time": "2025-08-19T19:12:17.210694",
     "status": "completed"
    },
    "tags": []
   },
   "outputs": [
    {
     "data": {
      "text/plain": [
       "{'coverage': 0.9122617322483558, 'avg_size': 1.3151599598706945}"
      ]
     },
     "execution_count": 46,
     "metadata": {},
     "output_type": "execute_result"
    }
   ],
   "source": [
    "metrics"
   ]
  },
  {
   "cell_type": "code",
   "execution_count": 47,
   "id": "64c340a1",
   "metadata": {
    "execution": {
     "iopub.execute_input": "2025-08-19T19:12:17.259417Z",
     "iopub.status.busy": "2025-08-19T19:12:17.259027Z",
     "iopub.status.idle": "2025-08-19T19:12:17.265499Z",
     "shell.execute_reply": "2025-08-19T19:12:17.264549Z"
    },
    "papermill": {
     "duration": 0.022883,
     "end_time": "2025-08-19T19:12:17.267036",
     "exception": false,
     "start_time": "2025-08-19T19:12:17.244153",
     "status": "completed"
    },
    "tags": []
   },
   "outputs": [],
   "source": [
    "example_universe = universe.copy()\n",
    "universe_training_year = example_universe.get(\"training_year\")\n",
    "universe_training_size = example_universe.get(\"training_size\")\n",
    "universe_scale = example_universe.get(\"scale\")\n",
    "universe_model = example_universe.get(\"model\")\n",
    "universe_exclude_features = example_universe.get(\"exclude_features\")\n",
    "universe_exclude_subgroups = example_universe.get(\"exclude_subgroups\")"
   ]
  },
  {
   "cell_type": "code",
   "execution_count": 48,
   "id": "dbb53cb4",
   "metadata": {
    "execution": {
     "iopub.execute_input": "2025-08-19T19:12:17.295043Z",
     "iopub.status.busy": "2025-08-19T19:12:17.293947Z",
     "iopub.status.idle": "2025-08-19T19:12:17.304193Z",
     "shell.execute_reply": "2025-08-19T19:12:17.302956Z"
    },
    "papermill": {
     "duration": 0.026287,
     "end_time": "2025-08-19T19:12:17.306075",
     "exception": false,
     "start_time": "2025-08-19T19:12:17.279788",
     "status": "completed"
    },
    "tags": []
   },
   "outputs": [],
   "source": [
    "cp_metrics_dict = {\n",
    "    \"universe_id\": [universe_id],\n",
    "    \"universe_training_year\": [universe_training_year],\n",
    "    \"universe_training_size\": [universe_training_size],\n",
    "    \"universe_scale\": [universe_scale],\n",
    "    \"universe_model\": [universe_model],\n",
    "    \"universe_exclude_features\": [universe_exclude_features],\n",
    "    \"universe_exclude_subgroups\": [universe_exclude_subgroups],\n",
    "    \"q_hat\": [q_hat],\n",
    "    \"coverage\": [metrics[\"coverage\"]],\n",
    "    \"avg_size\": [metrics[\"avg_size\"]],\n",
    "}"
   ]
  },
  {
   "cell_type": "code",
   "execution_count": 49,
   "id": "0d70d4b2",
   "metadata": {
    "execution": {
     "iopub.execute_input": "2025-08-19T19:12:17.336880Z",
     "iopub.status.busy": "2025-08-19T19:12:17.335893Z",
     "iopub.status.idle": "2025-08-19T19:12:17.346451Z",
     "shell.execute_reply": "2025-08-19T19:12:17.345179Z"
    },
    "papermill": {
     "duration": 0.026709,
     "end_time": "2025-08-19T19:12:17.348318",
     "exception": false,
     "start_time": "2025-08-19T19:12:17.321609",
     "status": "completed"
    },
    "tags": []
   },
   "outputs": [],
   "source": [
    "cp_metrics_df = pd.DataFrame(cp_metrics_dict)"
   ]
  },
  {
   "cell_type": "code",
   "execution_count": 50,
   "id": "b494403c",
   "metadata": {
    "execution": {
     "iopub.execute_input": "2025-08-19T19:12:17.378624Z",
     "iopub.status.busy": "2025-08-19T19:12:17.377645Z",
     "iopub.status.idle": "2025-08-19T19:12:17.401549Z",
     "shell.execute_reply": "2025-08-19T19:12:17.400358Z"
    },
    "papermill": {
     "duration": 0.040399,
     "end_time": "2025-08-19T19:12:17.403812",
     "exception": false,
     "start_time": "2025-08-19T19:12:17.363413",
     "status": "completed"
    },
    "tags": []
   },
   "outputs": [
    {
     "data": {
      "text/html": [
       "<div>\n",
       "<style scoped>\n",
       "    .dataframe tbody tr th:only-of-type {\n",
       "        vertical-align: middle;\n",
       "    }\n",
       "\n",
       "    .dataframe tbody tr th {\n",
       "        vertical-align: top;\n",
       "    }\n",
       "\n",
       "    .dataframe thead th {\n",
       "        text-align: right;\n",
       "    }\n",
       "</style>\n",
       "<table border=\"1\" class=\"dataframe\">\n",
       "  <thead>\n",
       "    <tr style=\"text-align: right;\">\n",
       "      <th></th>\n",
       "      <th>universe_id</th>\n",
       "      <th>universe_training_year</th>\n",
       "      <th>universe_training_size</th>\n",
       "      <th>universe_scale</th>\n",
       "      <th>universe_model</th>\n",
       "      <th>universe_exclude_features</th>\n",
       "      <th>universe_exclude_subgroups</th>\n",
       "      <th>q_hat</th>\n",
       "      <th>coverage</th>\n",
       "      <th>avg_size</th>\n",
       "    </tr>\n",
       "  </thead>\n",
       "  <tbody>\n",
       "    <tr>\n",
       "      <th>0</th>\n",
       "      <td>c35e4695be6ee5b86b24b01cba574c81</td>\n",
       "      <td>2010_14</td>\n",
       "      <td>1k</td>\n",
       "      <td>do-not-scale</td>\n",
       "      <td>elasticnet</td>\n",
       "      <td>nationality</td>\n",
       "      <td>keep-all</td>\n",
       "      <td>0.686718</td>\n",
       "      <td>0.912262</td>\n",
       "      <td>1.31516</td>\n",
       "    </tr>\n",
       "  </tbody>\n",
       "</table>\n",
       "</div>"
      ],
      "text/plain": [
       "                        universe_id universe_training_year  \\\n",
       "0  c35e4695be6ee5b86b24b01cba574c81                2010_14   \n",
       "\n",
       "  universe_training_size universe_scale universe_model  \\\n",
       "0                     1k   do-not-scale     elasticnet   \n",
       "\n",
       "  universe_exclude_features universe_exclude_subgroups     q_hat  coverage  \\\n",
       "0               nationality                   keep-all  0.686718  0.912262   \n",
       "\n",
       "   avg_size  \n",
       "0   1.31516  "
      ]
     },
     "execution_count": 50,
     "metadata": {},
     "output_type": "execute_result"
    }
   ],
   "source": [
    "cp_metrics_df"
   ]
  },
  {
   "cell_type": "markdown",
   "id": "ed608b0b",
   "metadata": {
    "papermill": {
     "duration": 0.012694,
     "end_time": "2025-08-19T19:12:17.436925",
     "exception": false,
     "start_time": "2025-08-19T19:12:17.424231",
     "status": "completed"
    },
    "tags": []
   },
   "source": [
    "Conditional coverage & looking at subgroups"
   ]
  },
  {
   "cell_type": "code",
   "execution_count": 51,
   "id": "8968c366",
   "metadata": {
    "execution": {
     "iopub.execute_input": "2025-08-19T19:12:17.465355Z",
     "iopub.status.busy": "2025-08-19T19:12:17.464089Z",
     "iopub.status.idle": "2025-08-19T19:12:17.721113Z",
     "shell.execute_reply": "2025-08-19T19:12:17.720399Z"
    },
    "papermill": {
     "duration": 0.274439,
     "end_time": "2025-08-19T19:12:17.723865",
     "exception": false,
     "start_time": "2025-08-19T19:12:17.449426",
     "status": "completed"
    },
    "tags": []
   },
   "outputs": [],
   "source": [
    "from fairness_multiverse.conformal import build_cp_groups\n",
    "\n",
    "cp_groups_df = build_cp_groups(pred_sets, y_true, X_test.index, org_test)"
   ]
  },
  {
   "cell_type": "code",
   "execution_count": 52,
   "id": "292ddabf",
   "metadata": {
    "execution": {
     "iopub.execute_input": "2025-08-19T19:12:17.767098Z",
     "iopub.status.busy": "2025-08-19T19:12:17.766098Z",
     "iopub.status.idle": "2025-08-19T19:12:18.656933Z",
     "shell.execute_reply": "2025-08-19T19:12:18.655734Z"
    },
    "papermill": {
     "duration": 0.907597,
     "end_time": "2025-08-19T19:12:18.658661",
     "exception": false,
     "start_time": "2025-08-19T19:12:17.751064",
     "status": "completed"
    },
    "tags": []
   },
   "outputs": [],
   "source": [
    "# Define covered = 1 if true_label is in the predicted set\n",
    "cp_groups_df['covered'] = cp_groups_df.apply(\n",
    "    lambda r: int(r['true_label'] in r['pred_set']),\n",
    "    axis=1\n",
    ")"
   ]
  },
  {
   "cell_type": "code",
   "execution_count": 53,
   "id": "3a261692",
   "metadata": {
    "execution": {
     "iopub.execute_input": "2025-08-19T19:12:18.695039Z",
     "iopub.status.busy": "2025-08-19T19:12:18.694526Z",
     "iopub.status.idle": "2025-08-19T19:12:18.705633Z",
     "shell.execute_reply": "2025-08-19T19:12:18.704691Z"
    },
    "papermill": {
     "duration": 0.035906,
     "end_time": "2025-08-19T19:12:18.709265",
     "exception": false,
     "start_time": "2025-08-19T19:12:18.673359",
     "status": "completed"
    },
    "tags": []
   },
   "outputs": [],
   "source": [
    "subgroups = ['frau1','nongerman','nongerman_male','nongerman_female']\n",
    "\n",
    "# Conditional coverage for subgroup==1\n",
    "cond_coverage = {\n",
    "    g: cp_groups_df.loc[cp_groups_df[g]==1, 'covered'].mean()\n",
    "    for g in subgroups\n",
    "}"
   ]
  },
  {
   "cell_type": "code",
   "execution_count": 54,
   "id": "894fd600",
   "metadata": {
    "execution": {
     "iopub.execute_input": "2025-08-19T19:12:18.756052Z",
     "iopub.status.busy": "2025-08-19T19:12:18.754702Z",
     "iopub.status.idle": "2025-08-19T19:12:18.765324Z",
     "shell.execute_reply": "2025-08-19T19:12:18.763904Z"
    },
    "papermill": {
     "duration": 0.031459,
     "end_time": "2025-08-19T19:12:18.767239",
     "exception": false,
     "start_time": "2025-08-19T19:12:18.735780",
     "status": "completed"
    },
    "tags": []
   },
   "outputs": [
    {
     "data": {
      "text/plain": [
       "{'frau1': 0.910877476748888,\n",
       " 'nongerman': 0.969404367596699,\n",
       " 'nongerman_male': 0.9776636944969828,\n",
       " 'nongerman_female': 0.9557377049180328}"
      ]
     },
     "execution_count": 54,
     "metadata": {},
     "output_type": "execute_result"
    }
   ],
   "source": [
    "cond_coverage"
   ]
  },
  {
   "cell_type": "code",
   "execution_count": 55,
   "id": "942895c7",
   "metadata": {
    "execution": {
     "iopub.execute_input": "2025-08-19T19:12:18.799342Z",
     "iopub.status.busy": "2025-08-19T19:12:18.798842Z",
     "iopub.status.idle": "2025-08-19T19:12:18.806184Z",
     "shell.execute_reply": "2025-08-19T19:12:18.805256Z"
    },
    "papermill": {
     "duration": 0.023435,
     "end_time": "2025-08-19T19:12:18.807642",
     "exception": false,
     "start_time": "2025-08-19T19:12:18.784207",
     "status": "completed"
    },
    "tags": []
   },
   "outputs": [],
   "source": [
    "for subgroup, cov in cond_coverage.items():\n",
    "    cp_metrics_df[f\"cov_{subgroup}\"] = cov"
   ]
  },
  {
   "cell_type": "code",
   "execution_count": 56,
   "id": "3970120f",
   "metadata": {
    "execution": {
     "iopub.execute_input": "2025-08-19T19:12:18.837070Z",
     "iopub.status.busy": "2025-08-19T19:12:18.836645Z",
     "iopub.status.idle": "2025-08-19T19:12:18.854336Z",
     "shell.execute_reply": "2025-08-19T19:12:18.852726Z"
    },
    "papermill": {
     "duration": 0.03418,
     "end_time": "2025-08-19T19:12:18.856497",
     "exception": false,
     "start_time": "2025-08-19T19:12:18.822317",
     "status": "completed"
    },
    "tags": []
   },
   "outputs": [
    {
     "data": {
      "text/html": [
       "<div>\n",
       "<style scoped>\n",
       "    .dataframe tbody tr th:only-of-type {\n",
       "        vertical-align: middle;\n",
       "    }\n",
       "\n",
       "    .dataframe tbody tr th {\n",
       "        vertical-align: top;\n",
       "    }\n",
       "\n",
       "    .dataframe thead th {\n",
       "        text-align: right;\n",
       "    }\n",
       "</style>\n",
       "<table border=\"1\" class=\"dataframe\">\n",
       "  <thead>\n",
       "    <tr style=\"text-align: right;\">\n",
       "      <th></th>\n",
       "      <th>universe_id</th>\n",
       "      <th>universe_training_year</th>\n",
       "      <th>universe_training_size</th>\n",
       "      <th>universe_scale</th>\n",
       "      <th>universe_model</th>\n",
       "      <th>universe_exclude_features</th>\n",
       "      <th>universe_exclude_subgroups</th>\n",
       "      <th>q_hat</th>\n",
       "      <th>coverage</th>\n",
       "      <th>avg_size</th>\n",
       "      <th>cov_frau1</th>\n",
       "      <th>cov_nongerman</th>\n",
       "      <th>cov_nongerman_male</th>\n",
       "      <th>cov_nongerman_female</th>\n",
       "    </tr>\n",
       "  </thead>\n",
       "  <tbody>\n",
       "    <tr>\n",
       "      <th>0</th>\n",
       "      <td>c35e4695be6ee5b86b24b01cba574c81</td>\n",
       "      <td>2010_14</td>\n",
       "      <td>1k</td>\n",
       "      <td>do-not-scale</td>\n",
       "      <td>elasticnet</td>\n",
       "      <td>nationality</td>\n",
       "      <td>keep-all</td>\n",
       "      <td>0.686718</td>\n",
       "      <td>0.912262</td>\n",
       "      <td>1.31516</td>\n",
       "      <td>0.910877</td>\n",
       "      <td>0.969404</td>\n",
       "      <td>0.977664</td>\n",
       "      <td>0.955738</td>\n",
       "    </tr>\n",
       "  </tbody>\n",
       "</table>\n",
       "</div>"
      ],
      "text/plain": [
       "                        universe_id universe_training_year  \\\n",
       "0  c35e4695be6ee5b86b24b01cba574c81                2010_14   \n",
       "\n",
       "  universe_training_size universe_scale universe_model  \\\n",
       "0                     1k   do-not-scale     elasticnet   \n",
       "\n",
       "  universe_exclude_features universe_exclude_subgroups     q_hat  coverage  \\\n",
       "0               nationality                   keep-all  0.686718  0.912262   \n",
       "\n",
       "   avg_size  cov_frau1  cov_nongerman  cov_nongerman_male  \\\n",
       "0   1.31516   0.910877       0.969404            0.977664   \n",
       "\n",
       "   cov_nongerman_female  \n",
       "0              0.955738  "
      ]
     },
     "execution_count": 56,
     "metadata": {},
     "output_type": "execute_result"
    }
   ],
   "source": [
    "cp_metrics_df"
   ]
  },
  {
   "cell_type": "markdown",
   "id": "3fc519cc",
   "metadata": {
    "papermill": {
     "duration": 0.013555,
     "end_time": "2025-08-19T19:12:18.886875",
     "exception": false,
     "start_time": "2025-08-19T19:12:18.873320",
     "status": "completed"
    },
    "tags": []
   },
   "source": [
    "# (Fairness) Metrics"
   ]
  },
  {
   "cell_type": "code",
   "execution_count": 57,
   "id": "a2e5e155",
   "metadata": {
    "execution": {
     "iopub.execute_input": "2025-08-19T19:12:18.916375Z",
     "iopub.status.busy": "2025-08-19T19:12:18.915799Z",
     "iopub.status.idle": "2025-08-19T19:12:18.951073Z",
     "shell.execute_reply": "2025-08-19T19:12:18.950064Z"
    },
    "papermill": {
     "duration": 0.053435,
     "end_time": "2025-08-19T19:12:18.953842",
     "exception": false,
     "start_time": "2025-08-19T19:12:18.900407",
     "status": "completed"
    },
    "tags": []
   },
   "outputs": [],
   "source": [
    "colname_to_bin = \"maxdeutsch1\"\n",
    "majority_value = org_train[colname_to_bin].mode()[0]\n",
    "\n",
    "org_test[\"majmin\"] = np.where(org_test[colname_to_bin] == majority_value, \"majority\", \"minority\")"
   ]
  },
  {
   "cell_type": "code",
   "execution_count": 58,
   "id": "17e3e4d5",
   "metadata": {
    "execution": {
     "iopub.execute_input": "2025-08-19T19:12:19.003897Z",
     "iopub.status.busy": "2025-08-19T19:12:19.002066Z",
     "iopub.status.idle": "2025-08-19T19:12:20.826754Z",
     "shell.execute_reply": "2025-08-19T19:12:20.825450Z"
    },
    "papermill": {
     "duration": 1.845209,
     "end_time": "2025-08-19T19:12:20.828550",
     "exception": false,
     "start_time": "2025-08-19T19:12:18.983341",
     "status": "completed"
    },
    "tags": []
   },
   "outputs": [],
   "source": [
    "example_universe = universe.copy()\n",
    "example_universe[\"cutoff\"] = example_universe[\"cutoff\"][0]\n",
    "example_universe[\"eval_fairness_grouping\"] = example_universe[\"eval_fairness_grouping\"][0]\n",
    "fairness_dict, metric_frame = universe_analysis.compute_metrics(\n",
    "    example_universe,\n",
    "    y_pred_prob=probs_test,\n",
    "    y_test=y_true,\n",
    "    org_test=org_test,\n",
    ")"
   ]
  },
  {
   "cell_type": "markdown",
   "id": "1fb7a0e9",
   "metadata": {
    "papermill": {
     "duration": 0.026023,
     "end_time": "2025-08-19T19:12:20.869145",
     "exception": false,
     "start_time": "2025-08-19T19:12:20.843122",
     "status": "completed"
    },
    "tags": []
   },
   "source": [
    "# Overall"
   ]
  },
  {
   "cell_type": "markdown",
   "id": "be1784b1",
   "metadata": {
    "papermill": {
     "duration": 0.013403,
     "end_time": "2025-08-19T19:12:20.897350",
     "exception": false,
     "start_time": "2025-08-19T19:12:20.883947",
     "status": "completed"
    },
    "tags": []
   },
   "source": [
    "Main fairness target: Equalized Odds. Seems to be a better fit than equal opportunity, since we're not only interested in Y = 1. Seems to be a better fit than demographic parity, since we also care about accuracy, not just equal distribution of preds.\n",
    "\n",
    "Pick column for computation of fairness metrics\n",
    "\n",
    "Performance\n",
    "Overall performance measures, most interesting in relation to the measures split by group below"
   ]
  },
  {
   "cell_type": "code",
   "execution_count": 59,
   "id": "b7672bee",
   "metadata": {
    "execution": {
     "iopub.execute_input": "2025-08-19T19:12:20.929878Z",
     "iopub.status.busy": "2025-08-19T19:12:20.928744Z",
     "iopub.status.idle": "2025-08-19T19:12:20.939747Z",
     "shell.execute_reply": "2025-08-19T19:12:20.938997Z"
    },
    "papermill": {
     "duration": 0.029943,
     "end_time": "2025-08-19T19:12:20.941160",
     "exception": false,
     "start_time": "2025-08-19T19:12:20.911217",
     "status": "completed"
    },
    "tags": []
   },
   "outputs": [
    {
     "data": {
      "text/plain": [
       "accuracy                   0.205562\n",
       "balanced accuracy          0.506569\n",
       "f1                         0.227411\n",
       "precision                  0.129912\n",
       "false positive rate        0.898315\n",
       "false negative rate        0.088547\n",
       "selection rate             0.900000\n",
       "count                  89710.000000\n",
       "dtype: float64"
      ]
     },
     "execution_count": 59,
     "metadata": {},
     "output_type": "execute_result"
    }
   ],
   "source": [
    "metric_frame.overall"
   ]
  },
  {
   "cell_type": "markdown",
   "id": "d93333c9",
   "metadata": {
    "papermill": {
     "duration": 0.013123,
     "end_time": "2025-08-19T19:12:20.969640",
     "exception": false,
     "start_time": "2025-08-19T19:12:20.956517",
     "status": "completed"
    },
    "tags": []
   },
   "source": [
    "By Group"
   ]
  },
  {
   "cell_type": "code",
   "execution_count": 60,
   "id": "52256966",
   "metadata": {
    "execution": {
     "iopub.execute_input": "2025-08-19T19:12:20.997473Z",
     "iopub.status.busy": "2025-08-19T19:12:20.996604Z",
     "iopub.status.idle": "2025-08-19T19:12:21.009412Z",
     "shell.execute_reply": "2025-08-19T19:12:21.008674Z"
    },
    "papermill": {
     "duration": 0.028148,
     "end_time": "2025-08-19T19:12:21.010769",
     "exception": false,
     "start_time": "2025-08-19T19:12:20.982621",
     "status": "completed"
    },
    "tags": []
   },
   "outputs": [
    {
     "data": {
      "text/html": [
       "<div>\n",
       "<style scoped>\n",
       "    .dataframe tbody tr th:only-of-type {\n",
       "        vertical-align: middle;\n",
       "    }\n",
       "\n",
       "    .dataframe tbody tr th {\n",
       "        vertical-align: top;\n",
       "    }\n",
       "\n",
       "    .dataframe thead th {\n",
       "        text-align: right;\n",
       "    }\n",
       "</style>\n",
       "<table border=\"1\" class=\"dataframe\">\n",
       "  <thead>\n",
       "    <tr style=\"text-align: right;\">\n",
       "      <th></th>\n",
       "      <th>accuracy</th>\n",
       "      <th>balanced accuracy</th>\n",
       "      <th>f1</th>\n",
       "      <th>precision</th>\n",
       "      <th>false positive rate</th>\n",
       "      <th>false negative rate</th>\n",
       "      <th>selection rate</th>\n",
       "      <th>count</th>\n",
       "    </tr>\n",
       "    <tr>\n",
       "      <th>majmin</th>\n",
       "      <th></th>\n",
       "      <th></th>\n",
       "      <th></th>\n",
       "      <th></th>\n",
       "      <th></th>\n",
       "      <th></th>\n",
       "      <th></th>\n",
       "      <th></th>\n",
       "    </tr>\n",
       "  </thead>\n",
       "  <tbody>\n",
       "    <tr>\n",
       "      <th>majority</th>\n",
       "      <td>0.225257</td>\n",
       "      <td>0.509174</td>\n",
       "      <td>0.233907</td>\n",
       "      <td>0.134532</td>\n",
       "      <td>0.876728</td>\n",
       "      <td>0.104923</td>\n",
       "      <td>0.879153</td>\n",
       "      <td>69170.0</td>\n",
       "    </tr>\n",
       "    <tr>\n",
       "      <th>minority</th>\n",
       "      <td>0.139241</td>\n",
       "      <td>0.502519</td>\n",
       "      <td>0.207033</td>\n",
       "      <td>0.115817</td>\n",
       "      <td>0.969624</td>\n",
       "      <td>0.025338</td>\n",
       "      <td>0.970204</td>\n",
       "      <td>20540.0</td>\n",
       "    </tr>\n",
       "  </tbody>\n",
       "</table>\n",
       "</div>"
      ],
      "text/plain": [
       "          accuracy  balanced accuracy        f1  precision  \\\n",
       "majmin                                                       \n",
       "majority  0.225257           0.509174  0.233907   0.134532   \n",
       "minority  0.139241           0.502519  0.207033   0.115817   \n",
       "\n",
       "          false positive rate  false negative rate  selection rate    count  \n",
       "majmin                                                                       \n",
       "majority             0.876728             0.104923        0.879153  69170.0  \n",
       "minority             0.969624             0.025338        0.970204  20540.0  "
      ]
     },
     "execution_count": 60,
     "metadata": {},
     "output_type": "execute_result"
    }
   ],
   "source": [
    "metric_frame.by_group"
   ]
  },
  {
   "cell_type": "code",
   "execution_count": 61,
   "id": "6e6c20ae",
   "metadata": {
    "execution": {
     "iopub.execute_input": "2025-08-19T19:12:21.041527Z",
     "iopub.status.busy": "2025-08-19T19:12:21.041144Z",
     "iopub.status.idle": "2025-08-19T19:12:23.106062Z",
     "shell.execute_reply": "2025-08-19T19:12:23.104818Z"
    },
    "papermill": {
     "duration": 2.080542,
     "end_time": "2025-08-19T19:12:23.107614",
     "exception": false,
     "start_time": "2025-08-19T19:12:21.027072",
     "status": "completed"
    },
    "tags": []
   },
   "outputs": [
    {
     "data": {
      "text/plain": [
       "array([[<Axes: title={'center': 'accuracy'}, xlabel='majmin'>,\n",
       "        <Axes: title={'center': 'balanced accuracy'}, xlabel='majmin'>,\n",
       "        <Axes: title={'center': 'f1'}, xlabel='majmin'>],\n",
       "       [<Axes: title={'center': 'precision'}, xlabel='majmin'>,\n",
       "        <Axes: title={'center': 'false positive rate'}, xlabel='majmin'>,\n",
       "        <Axes: title={'center': 'false negative rate'}, xlabel='majmin'>],\n",
       "       [<Axes: title={'center': 'selection rate'}, xlabel='majmin'>,\n",
       "        <Axes: title={'center': 'count'}, xlabel='majmin'>,\n",
       "        <Axes: xlabel='majmin'>]], dtype=object)"
      ]
     },
     "execution_count": 61,
     "metadata": {},
     "output_type": "execute_result"
    },
    {
     "data": {
      "image/png": "[encoded data removed]",
      "text/plain": [
       "<Figure size 1200x800 with 9 Axes>"
      ]
     },
     "metadata": {},
     "output_type": "display_data"
    }
   ],
   "source": [
    "# In a graphic\n",
    "metric_frame.by_group.plot.bar(\n",
    "    subplots=True,\n",
    "    layout=[3, 3],\n",
    "    legend=False,\n",
    "    figsize=[12, 8],\n",
    "    title=\"Show all metrics\",\n",
    ")"
   ]
  },
  {
   "cell_type": "markdown",
   "id": "b2e433ae",
   "metadata": {
    "papermill": {
     "duration": 0.01516,
     "end_time": "2025-08-19T19:12:23.138113",
     "exception": false,
     "start_time": "2025-08-19T19:12:23.122953",
     "status": "completed"
    },
    "tags": []
   },
   "source": [
    "# Final Output"
   ]
  },
  {
   "cell_type": "code",
   "execution_count": 62,
   "id": "3871301e",
   "metadata": {
    "execution": {
     "iopub.execute_input": "2025-08-19T19:12:23.169395Z",
     "iopub.status.busy": "2025-08-19T19:12:23.168505Z",
     "iopub.status.idle": "2025-08-19T19:12:23.180587Z",
     "shell.execute_reply": "2025-08-19T19:12:23.179498Z"
    },
    "papermill": {
     "duration": 0.029196,
     "end_time": "2025-08-19T19:12:23.181964",
     "exception": false,
     "start_time": "2025-08-19T19:12:23.152768",
     "status": "completed"
    },
    "tags": []
   },
   "outputs": [
    {
     "data": {
      "text/plain": [
       "4"
      ]
     },
     "execution_count": 62,
     "metadata": {},
     "output_type": "execute_result"
    }
   ],
   "source": [
    "sub_universes = universe_analysis.generate_sub_universes()\n",
    "len(sub_universes)"
   ]
  },
  {
   "cell_type": "code",
   "execution_count": 63,
   "id": "d9cfdaca",
   "metadata": {
    "execution": {
     "iopub.execute_input": "2025-08-19T19:12:23.215609Z",
     "iopub.status.busy": "2025-08-19T19:12:23.215305Z",
     "iopub.status.idle": "2025-08-19T19:12:23.259696Z",
     "shell.execute_reply": "2025-08-19T19:12:23.258009Z"
    },
    "papermill": {
     "duration": 0.063199,
     "end_time": "2025-08-19T19:12:23.262969",
     "exception": false,
     "start_time": "2025-08-19T19:12:23.199770",
     "status": "completed"
    },
    "tags": []
   },
   "outputs": [],
   "source": [
    "def filter_sub_universe_data(sub_universe, org_test):\n",
    "    # Keep all rows — no filtering\n",
    "    keep_rows_mask = np.ones(org_test.shape[0], dtype=bool)\n",
    "\n",
    "    print(f\"[INFO] Keeping all rows: {keep_rows_mask.sum()} rows retained.\")\n",
    "    return keep_rows_mask"
   ]
  },
  {
   "cell_type": "code",
   "execution_count": 64,
   "id": "2bc31ac1",
   "metadata": {
    "execution": {
     "iopub.execute_input": "2025-08-19T19:12:23.305170Z",
     "iopub.status.busy": "2025-08-19T19:12:23.304690Z",
     "iopub.status.idle": "2025-08-19T19:12:30.025952Z",
     "shell.execute_reply": "2025-08-19T19:12:30.024925Z"
    },
    "papermill": {
     "duration": 6.740054,
     "end_time": "2025-08-19T19:12:30.027708",
     "exception": false,
     "start_time": "2025-08-19T19:12:23.287654",
     "status": "completed"
    },
    "tags": []
   },
   "outputs": [
    {
     "name": "stdout",
     "output_type": "stream",
     "text": [
      "Stopping execution_time clock.\n",
      "[INFO] Keeping all rows: 89710 rows retained.\n"
     ]
    },
    {
     "name": "stdout",
     "output_type": "stream",
     "text": [
      "[INFO] Keeping all rows: 89710 rows retained.\n"
     ]
    },
    {
     "name": "stdout",
     "output_type": "stream",
     "text": [
      "[INFO] Keeping all rows: 89710 rows retained.\n"
     ]
    },
    {
     "name": "stdout",
     "output_type": "stream",
     "text": [
      "[INFO] Keeping all rows: 89710 rows retained.\n"
     ]
    },
    {
     "data": {
      "text/html": [
       "<div>\n",
       "<style scoped>\n",
       "    .dataframe tbody tr th:only-of-type {\n",
       "        vertical-align: middle;\n",
       "    }\n",
       "\n",
       "    .dataframe tbody tr th {\n",
       "        vertical-align: top;\n",
       "    }\n",
       "\n",
       "    .dataframe thead th {\n",
       "        text-align: right;\n",
       "    }\n",
       "</style>\n",
       "<table border=\"1\" class=\"dataframe\">\n",
       "  <thead>\n",
       "    <tr style=\"text-align: right;\">\n",
       "      <th></th>\n",
       "      <th>run_no</th>\n",
       "      <th>universe_id</th>\n",
       "      <th>universe_settings</th>\n",
       "      <th>execution_time</th>\n",
       "      <th>test_size_n</th>\n",
       "      <th>test_size_frac</th>\n",
       "      <th>fair_main_equalized_odds_difference</th>\n",
       "      <th>fair_main_equalized_odds_ratio</th>\n",
       "      <th>fair_main_demographic_parity_difference</th>\n",
       "      <th>fair_main_demographic_parity_ratio</th>\n",
       "      <th>...</th>\n",
       "      <th>perf_grp_precision_0</th>\n",
       "      <th>perf_grp_precision_1</th>\n",
       "      <th>perf_grp_false positive rate_0</th>\n",
       "      <th>perf_grp_false positive rate_1</th>\n",
       "      <th>perf_grp_false negative rate_0</th>\n",
       "      <th>perf_grp_false negative rate_1</th>\n",
       "      <th>perf_grp_selection rate_0</th>\n",
       "      <th>perf_grp_selection rate_1</th>\n",
       "      <th>perf_grp_count_0</th>\n",
       "      <th>perf_grp_count_1</th>\n",
       "    </tr>\n",
       "  </thead>\n",
       "  <tbody>\n",
       "    <tr>\n",
       "      <th>0</th>\n",
       "      <td>3</td>\n",
       "      <td>c35e4695be6ee5b86b24b01cba574c81</td>\n",
       "      <td>{\"cutoff\": \"quantile_0.1\", \"eval_fairness_grou...</td>\n",
       "      <td>21.232899</td>\n",
       "      <td>89710</td>\n",
       "      <td>1.0</td>\n",
       "      <td>0.092895</td>\n",
       "      <td>0.904194</td>\n",
       "      <td>0.091052</td>\n",
       "      <td>0.906152</td>\n",
       "      <td>...</td>\n",
       "      <td>NaN</td>\n",
       "      <td>NaN</td>\n",
       "      <td>NaN</td>\n",
       "      <td>NaN</td>\n",
       "      <td>NaN</td>\n",
       "      <td>NaN</td>\n",
       "      <td>NaN</td>\n",
       "      <td>NaN</td>\n",
       "      <td>NaN</td>\n",
       "      <td>NaN</td>\n",
       "    </tr>\n",
       "    <tr>\n",
       "      <th>0</th>\n",
       "      <td>3</td>\n",
       "      <td>c35e4695be6ee5b86b24b01cba574c81</td>\n",
       "      <td>{\"cutoff\": \"quantile_0.1\", \"eval_fairness_grou...</td>\n",
       "      <td>21.232899</td>\n",
       "      <td>89710</td>\n",
       "      <td>1.0</td>\n",
       "      <td>0.092895</td>\n",
       "      <td>0.904194</td>\n",
       "      <td>0.091052</td>\n",
       "      <td>0.906152</td>\n",
       "      <td>...</td>\n",
       "      <td>0.115817</td>\n",
       "      <td>0.134532</td>\n",
       "      <td>0.969624</td>\n",
       "      <td>0.876728</td>\n",
       "      <td>0.025338</td>\n",
       "      <td>0.104923</td>\n",
       "      <td>0.970204</td>\n",
       "      <td>0.879153</td>\n",
       "      <td>20540.0</td>\n",
       "      <td>69170.0</td>\n",
       "    </tr>\n",
       "    <tr>\n",
       "      <th>0</th>\n",
       "      <td>3</td>\n",
       "      <td>c35e4695be6ee5b86b24b01cba574c81</td>\n",
       "      <td>{\"cutoff\": \"quantile_0.25\", \"eval_fairness_gro...</td>\n",
       "      <td>21.232899</td>\n",
       "      <td>89710</td>\n",
       "      <td>1.0</td>\n",
       "      <td>0.227531</td>\n",
       "      <td>0.752087</td>\n",
       "      <td>0.217976</td>\n",
       "      <td>0.762570</td>\n",
       "      <td>...</td>\n",
       "      <td>NaN</td>\n",
       "      <td>NaN</td>\n",
       "      <td>NaN</td>\n",
       "      <td>NaN</td>\n",
       "      <td>NaN</td>\n",
       "      <td>NaN</td>\n",
       "      <td>NaN</td>\n",
       "      <td>NaN</td>\n",
       "      <td>NaN</td>\n",
       "      <td>NaN</td>\n",
       "    </tr>\n",
       "    <tr>\n",
       "      <th>0</th>\n",
       "      <td>3</td>\n",
       "      <td>c35e4695be6ee5b86b24b01cba574c81</td>\n",
       "      <td>{\"cutoff\": \"quantile_0.25\", \"eval_fairness_gro...</td>\n",
       "      <td>21.232899</td>\n",
       "      <td>89710</td>\n",
       "      <td>1.0</td>\n",
       "      <td>0.227531</td>\n",
       "      <td>0.752087</td>\n",
       "      <td>0.217976</td>\n",
       "      <td>0.762570</td>\n",
       "      <td>...</td>\n",
       "      <td>0.115554</td>\n",
       "      <td>0.144326</td>\n",
       "      <td>0.917786</td>\n",
       "      <td>0.690255</td>\n",
       "      <td>0.079814</td>\n",
       "      <td>0.235339</td>\n",
       "      <td>0.918062</td>\n",
       "      <td>0.700087</td>\n",
       "      <td>20540.0</td>\n",
       "      <td>69170.0</td>\n",
       "    </tr>\n",
       "  </tbody>\n",
       "</table>\n",
       "<p>4 rows × 50 columns</p>\n",
       "</div>"
      ],
      "text/plain": [
       "  run_no                       universe_id  \\\n",
       "0      3  c35e4695be6ee5b86b24b01cba574c81   \n",
       "0      3  c35e4695be6ee5b86b24b01cba574c81   \n",
       "0      3  c35e4695be6ee5b86b24b01cba574c81   \n",
       "0      3  c35e4695be6ee5b86b24b01cba574c81   \n",
       "\n",
       "                                   universe_settings  execution_time  \\\n",
       "0  {\"cutoff\": \"quantile_0.1\", \"eval_fairness_grou...       21.232899   \n",
       "0  {\"cutoff\": \"quantile_0.1\", \"eval_fairness_grou...       21.232899   \n",
       "0  {\"cutoff\": \"quantile_0.25\", \"eval_fairness_gro...       21.232899   \n",
       "0  {\"cutoff\": \"quantile_0.25\", \"eval_fairness_gro...       21.232899   \n",
       "\n",
       "   test_size_n  test_size_frac  fair_main_equalized_odds_difference  \\\n",
       "0        89710             1.0                             0.092895   \n",
       "0        89710             1.0                             0.092895   \n",
       "0        89710             1.0                             0.227531   \n",
       "0        89710             1.0                             0.227531   \n",
       "\n",
       "   fair_main_equalized_odds_ratio  fair_main_demographic_parity_difference  \\\n",
       "0                        0.904194                                 0.091052   \n",
       "0                        0.904194                                 0.091052   \n",
       "0                        0.752087                                 0.217976   \n",
       "0                        0.752087                                 0.217976   \n",
       "\n",
       "   fair_main_demographic_parity_ratio  ...  perf_grp_precision_0  \\\n",
       "0                            0.906152  ...                   NaN   \n",
       "0                            0.906152  ...              0.115817   \n",
       "0                            0.762570  ...                   NaN   \n",
       "0                            0.762570  ...              0.115554   \n",
       "\n",
       "   perf_grp_precision_1  perf_grp_false positive rate_0  \\\n",
       "0                   NaN                             NaN   \n",
       "0              0.134532                        0.969624   \n",
       "0                   NaN                             NaN   \n",
       "0              0.144326                        0.917786   \n",
       "\n",
       "   perf_grp_false positive rate_1  perf_grp_false negative rate_0  \\\n",
       "0                             NaN                             NaN   \n",
       "0                        0.876728                        0.025338   \n",
       "0                             NaN                             NaN   \n",
       "0                        0.690255                        0.079814   \n",
       "\n",
       "   perf_grp_false negative rate_1  perf_grp_selection rate_0  \\\n",
       "0                             NaN                        NaN   \n",
       "0                        0.104923                   0.970204   \n",
       "0                             NaN                        NaN   \n",
       "0                        0.235339                   0.918062   \n",
       "\n",
       "   perf_grp_selection rate_1  perf_grp_count_0  perf_grp_count_1  \n",
       "0                        NaN               NaN               NaN  \n",
       "0                   0.879153           20540.0           69170.0  \n",
       "0                        NaN               NaN               NaN  \n",
       "0                   0.700087           20540.0           69170.0  \n",
       "\n",
       "[4 rows x 50 columns]"
      ]
     },
     "execution_count": 64,
     "metadata": {},
     "output_type": "execute_result"
    }
   ],
   "source": [
    "final_output = universe_analysis.generate_final_output(\n",
    "    y_pred_prob=probs_test,\n",
    "    y_test=y_true,\n",
    "    org_test=org_test,\n",
    "    filter_data=filter_sub_universe_data,\n",
    "    cp_metrics_df=cp_metrics_df,\n",
    "    save=True,\n",
    ")\n",
    "final_output"
   ]
  },
  {
   "cell_type": "code",
   "execution_count": null,
   "id": "8b80a1ff",
   "metadata": {
    "papermill": {
     "duration": 0.015452,
     "end_time": "2025-08-19T19:12:30.065175",
     "exception": false,
     "start_time": "2025-08-19T19:12:30.049723",
     "status": "completed"
    },
    "tags": []
   },
   "outputs": [],
   "source": []
  },
  {
   "cell_type": "code",
   "execution_count": null,
   "id": "275c9fad",
   "metadata": {
    "papermill": {
     "duration": 0.014706,
     "end_time": "2025-08-19T19:12:30.094656",
     "exception": false,
     "start_time": "2025-08-19T19:12:30.079950",
     "status": "completed"
    },
    "tags": []
   },
   "outputs": [],
   "source": []
  }
 ],
 "metadata": {
  "celltoolbar": "Tags",
  "kernelspec": {
   "display_name": "Python (CMA Fairness)",
   "language": "python",
   "name": "cma_fair_env"
  },
  "language_info": {
   "codemirror_mode": {
    "name": "ipython",
    "version": 3
   },
   "file_extension": ".py",
   "mimetype": "text/x-python",
   "name": "python",
   "nbconvert_exporter": "python",
   "pygments_lexer": "ipython3",
   "version": "3.10.12"
  },
  "papermill": {
   "default_parameters": {},
   "duration": 31.821373,
   "end_time": "2025-08-19T19:12:30.937799",
   "environment_variables": {},
   "exception": null,
   "input_path": "universe_analysis.ipynb",
   "output_path": "output/runs/3/notebooks/m_3-c35e4695be6ee5b86b24b01cba574c81.ipynb",
   "parameters": {
    "output_dir": "output",
    "run_no": "3",
    "seed": "2023",
    "universe": "{\"cutoff\": [\"quantile_0.1\", \"quantile_0.25\"], \"eval_fairness_grouping\": [\"majority-minority\", \"nationality-all\"], \"exclude_features\": \"nationality\", \"exclude_subgroups\": \"keep-all\", \"model\": \"elasticnet\", \"scale\": \"do-not-scale\", \"training_size\": \"1k\", \"training_year\": \"2010_14\"}",
    "universe_id": "c35e4695be6ee5b86b24b01cba574c81"
   },
   "start_time": "2025-08-19T19:11:59.116426",
   "version": "2.6.0"
  }
 },
 "nbformat": 4,
 "nbformat_minor": 5
}