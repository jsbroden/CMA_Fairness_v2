{
 "cells": [
  {
   "cell_type": "markdown",
   "id": "ef23dbb3",
   "metadata": {
    "papermill": {
     "duration": 0.009009,
     "end_time": "2025-08-19T18:30:51.843033",
     "exception": false,
     "start_time": "2025-08-19T18:30:51.834024",
     "status": "completed"
    },
    "tags": []
   },
   "source": [
    "# Setup"
   ]
  },
  {
   "cell_type": "code",
   "execution_count": 1,
   "id": "0bc8e7dc",
   "metadata": {
    "execution": {
     "iopub.execute_input": "2025-08-19T18:30:51.863898Z",
     "iopub.status.busy": "2025-08-19T18:30:51.862391Z",
     "iopub.status.idle": "2025-08-19T18:30:51.880615Z",
     "shell.execute_reply": "2025-08-19T18:30:51.879203Z"
    },
    "papermill": {
     "duration": 0.030992,
     "end_time": "2025-08-19T18:30:51.882994",
     "exception": false,
     "start_time": "2025-08-19T18:30:51.852002",
     "status": "completed"
    },
    "tags": []
   },
   "outputs": [
    {
     "name": "stdout",
     "output_type": "stream",
     "text": [
      "/dss/dsshome1/0C/ra93lal2/cma/CMA_Fairness_v2\n"
     ]
    },
    {
     "name": "stderr",
     "output_type": "stream",
     "text": [
      "/dss/dsshome1/0C/ra93lal2/.local/share/virtualenvs/CMA_Fairness_v2-3j10GkSs/lib/python3.10/site-packages/IPython/core/magics/osm.py:393: UserWarning: This is now an optional IPython functionality, using bookmarks requires you to install the `pickleshare` library.\n",
      "  bkms = self.shell.db.get('bookmarks', {})\n",
      "/dss/dsshome1/0C/ra93lal2/.local/share/virtualenvs/CMA_Fairness_v2-3j10GkSs/lib/python3.10/site-packages/IPython/core/magics/osm.py:417: UserWarning: This is now an optional IPython functionality, setting dhist requires you to install the `pickleshare` library.\n",
      "  self.shell.db['dhist'] = compress_dhist(dhist)[-100:]\n"
     ]
    }
   ],
   "source": [
    "%cd ~/cma/CMA_Fairness_v2"
   ]
  },
  {
   "cell_type": "markdown",
   "id": "9d235661",
   "metadata": {
    "papermill": {
     "duration": 0.009609,
     "end_time": "2025-08-19T18:30:51.906093",
     "exception": false,
     "start_time": "2025-08-19T18:30:51.896484",
     "status": "completed"
    },
    "tags": []
   },
   "source": [
    "The following cell holds the definition of our parameters, these values can be overriden by rendering the with e.g. the following command:\n",
    "\n",
    "papermill -p alpha 0.2 -p ratio 0.3 universe_analysis.ipynb output/test_run.ipynb"
   ]
  },
  {
   "cell_type": "code",
   "execution_count": 2,
   "id": "4a789d8e",
   "metadata": {
    "execution": {
     "iopub.execute_input": "2025-08-19T18:30:51.924580Z",
     "iopub.status.busy": "2025-08-19T18:30:51.924152Z",
     "iopub.status.idle": "2025-08-19T18:30:51.928863Z",
     "shell.execute_reply": "2025-08-19T18:30:51.927970Z"
    },
    "papermill": {
     "duration": 0.015666,
     "end_time": "2025-08-19T18:30:51.930273",
     "exception": false,
     "start_time": "2025-08-19T18:30:51.914607",
     "status": "completed"
    },
    "tags": []
   },
   "outputs": [
    {
     "name": "stdout",
     "output_type": "stream",
     "text": [
      "Current working directory: /dss/dsshome1/0C/ra93lal2/cma/CMA_Fairness_v2\n"
     ]
    }
   ],
   "source": [
    "import os\n",
    "print(\"Current working directory:\", os.getcwd())"
   ]
  },
  {
   "cell_type": "code",
   "execution_count": 3,
   "id": "4132aaed",
   "metadata": {
    "execution": {
     "iopub.execute_input": "2025-08-19T18:30:51.948868Z",
     "iopub.status.busy": "2025-08-19T18:30:51.948444Z",
     "iopub.status.idle": "2025-08-19T18:30:51.953414Z",
     "shell.execute_reply": "2025-08-19T18:30:51.952602Z"
    },
    "papermill": {
     "duration": 0.015869,
     "end_time": "2025-08-19T18:30:51.954783",
     "exception": false,
     "start_time": "2025-08-19T18:30:51.938914",
     "status": "completed"
    },
    "tags": [
     "parameters"
    ]
   },
   "outputs": [],
   "source": [
    "run_no = 0\n",
    "universe_id = \"test\"\n",
    "universe = {\n",
    "    \"training_size\": \"5k\", # \"25k\", \"5k\", \"1k\"\n",
    "    \"training_year\": \"2012_14\", # \"2014\", \"2012_14\", \"2010_14\"\n",
    "    \"scale\": \"scale\", # \"scale\", \"do-not-scale\",\n",
    "    \"model\": \"elasticnet\", # \"logreg\", \"penalized_logreg\", \"rf\", \"gbm\", \"elasticnet\"\n",
    "    \"cutoff\": [\"quantile_0.15\", \"quantile_0.30\"],\n",
    "    \"exclude_features\": \"age\", # \"none\", \"nationality\", \"sex\", \"nationality-sex\", \"age\"\n",
    "    \"exclude_subgroups\": \"drop-non-german\", # \"keep-all\", \"drop-non-german\"\n",
    "    \"eval_fairness_grouping\": [\"majority-minority\", \"nationality-all\"]\n",
    "}\n",
    "\n",
    "output_dir=\"./output\"\n",
    "seed=0"
   ]
  },
  {
   "cell_type": "code",
   "execution_count": 4,
   "id": "c5f64f50",
   "metadata": {
    "execution": {
     "iopub.execute_input": "2025-08-19T18:30:51.973355Z",
     "iopub.status.busy": "2025-08-19T18:30:51.972954Z",
     "iopub.status.idle": "2025-08-19T18:30:51.977664Z",
     "shell.execute_reply": "2025-08-19T18:30:51.976850Z"
    },
    "papermill": {
     "duration": 0.015643,
     "end_time": "2025-08-19T18:30:51.979091",
     "exception": false,
     "start_time": "2025-08-19T18:30:51.963448",
     "status": "completed"
    },
    "tags": [
     "injected-parameters"
    ]
   },
   "outputs": [],
   "source": [
    "# Parameters\n",
    "universe_id = \"0586f340c9e88a07e5d57cb2c6d340d2\"\n",
    "run_no = \"3\"\n",
    "universe = \"{\\\"cutoff\\\": [\\\"quantile_0.1\\\", \\\"quantile_0.25\\\"], \\\"eval_fairness_grouping\\\": [\\\"majority-minority\\\", \\\"nationality-all\\\"], \\\"exclude_features\\\": \\\"none\\\", \\\"exclude_subgroups\\\": \\\"keep-all\\\", \\\"model\\\": \\\"logreg\\\", \\\"scale\\\": \\\"scale\\\", \\\"training_size\\\": \\\"5k\\\", \\\"training_year\\\": \\\"2012_14\\\"}\"\n",
    "output_dir = \"output\"\n",
    "seed = \"2023\"\n"
   ]
  },
  {
   "cell_type": "code",
   "execution_count": 5,
   "id": "a5d7941f",
   "metadata": {
    "execution": {
     "iopub.execute_input": "2025-08-19T18:30:51.998433Z",
     "iopub.status.busy": "2025-08-19T18:30:51.997910Z",
     "iopub.status.idle": "2025-08-19T18:30:52.002747Z",
     "shell.execute_reply": "2025-08-19T18:30:52.001849Z"
    },
    "papermill": {
     "duration": 0.015952,
     "end_time": "2025-08-19T18:30:52.004132",
     "exception": false,
     "start_time": "2025-08-19T18:30:51.988180",
     "status": "completed"
    },
    "tags": []
   },
   "outputs": [],
   "source": [
    "import json\n",
    "if isinstance(universe, str):\n",
    "    universe = json.loads(universe)"
   ]
  },
  {
   "cell_type": "code",
   "execution_count": 6,
   "id": "7076ccb1",
   "metadata": {
    "execution": {
     "iopub.execute_input": "2025-08-19T18:30:52.023744Z",
     "iopub.status.busy": "2025-08-19T18:30:52.022877Z",
     "iopub.status.idle": "2025-08-19T18:30:52.076930Z",
     "shell.execute_reply": "2025-08-19T18:30:52.075824Z"
    },
    "papermill": {
     "duration": 0.067178,
     "end_time": "2025-08-19T18:30:52.080146",
     "exception": false,
     "start_time": "2025-08-19T18:30:52.012968",
     "status": "completed"
    },
    "tags": []
   },
   "outputs": [],
   "source": [
    "# Auto-reload the custom package\n",
    "%load_ext autoreload\n",
    "%autoreload 1\n",
    "%aimport fairness_multiverse"
   ]
  },
  {
   "cell_type": "code",
   "execution_count": 7,
   "id": "94c8eb93",
   "metadata": {
    "execution": {
     "iopub.execute_input": "2025-08-19T18:30:52.117682Z",
     "iopub.status.busy": "2025-08-19T18:30:52.117041Z",
     "iopub.status.idle": "2025-08-19T18:30:53.709615Z",
     "shell.execute_reply": "2025-08-19T18:30:53.708567Z"
    },
    "papermill": {
     "duration": 1.60889,
     "end_time": "2025-08-19T18:30:53.711260",
     "exception": false,
     "start_time": "2025-08-19T18:30:52.102370",
     "status": "completed"
    },
    "tags": []
   },
   "outputs": [],
   "source": [
    "from fairness_multiverse.universe import UniverseAnalysis\n",
    "\n",
    "universe_analysis = UniverseAnalysis(\n",
    "    run_no = run_no,\n",
    "    universe_id = universe_id,\n",
    "    universe = universe,\n",
    "    output_dir=output_dir,\n",
    ")"
   ]
  },
  {
   "cell_type": "code",
   "execution_count": 8,
   "id": "2a6381cf",
   "metadata": {
    "execution": {
     "iopub.execute_input": "2025-08-19T18:30:53.745358Z",
     "iopub.status.busy": "2025-08-19T18:30:53.743869Z",
     "iopub.status.idle": "2025-08-19T18:30:53.755400Z",
     "shell.execute_reply": "2025-08-19T18:30:53.754427Z"
    },
    "papermill": {
     "duration": 0.035234,
     "end_time": "2025-08-19T18:30:53.757313",
     "exception": false,
     "start_time": "2025-08-19T18:30:53.722079",
     "status": "completed"
    },
    "tags": []
   },
   "outputs": [
    {
     "name": "stdout",
     "output_type": "stream",
     "text": [
      "Using Seed: 2023\n"
     ]
    }
   ],
   "source": [
    "import numpy as np\n",
    "parsed_seed = int(seed)\n",
    "np.random.seed(parsed_seed)\n",
    "print(f\"Using Seed: {parsed_seed}\")"
   ]
  },
  {
   "cell_type": "markdown",
   "id": "b6e958b4",
   "metadata": {
    "papermill": {
     "duration": 0.008959,
     "end_time": "2025-08-19T18:30:53.780920",
     "exception": false,
     "start_time": "2025-08-19T18:30:53.771961",
     "status": "completed"
    },
    "tags": []
   },
   "source": [
    "# Loading Data"
   ]
  },
  {
   "cell_type": "code",
   "execution_count": 9,
   "id": "98701482",
   "metadata": {
    "execution": {
     "iopub.execute_input": "2025-08-19T18:30:53.826527Z",
     "iopub.status.busy": "2025-08-19T18:30:53.826061Z",
     "iopub.status.idle": "2025-08-19T18:31:03.742453Z",
     "shell.execute_reply": "2025-08-19T18:31:03.741546Z"
    },
    "papermill": {
     "duration": 9.928886,
     "end_time": "2025-08-19T18:31:03.743841",
     "exception": false,
     "start_time": "2025-08-19T18:30:53.814955",
     "status": "completed"
    },
    "tags": []
   },
   "outputs": [
    {
     "name": "stdout",
     "output_type": "stream",
     "text": [
      "Loading SIAB data from cache: data/siab_cached.csv.gz\n"
     ]
    },
    {
     "name": "stdout",
     "output_type": "stream",
     "text": [
      "(643690, 164)\n"
     ]
    }
   ],
   "source": [
    "from pathlib import Path\n",
    "import pandas as pd\n",
    "\n",
    "# File paths\n",
    "raw_file = Path(\"data/raw/siab.csv\")\n",
    "cache_file = Path(\"data/siab_cached.csv.gz\")\n",
    "\n",
    "# Ensure cache directory exists\n",
    "cache_file.parent.mkdir(parents=True, exist_ok=True)\n",
    "\n",
    "# Load with simple caching\n",
    "if cache_file.exists():\n",
    "    print(f\"Loading SIAB data from cache: {cache_file}\")\n",
    "    siab = pd.read_csv(cache_file, compression='gzip')\n",
    "else:\n",
    "    print(f\"Cache not found. Reading raw SIAB data: {raw_file}\")\n",
    "    siab = pd.read_csv(raw_file)\n",
    "    siab.to_csv(cache_file, index=False, compression='gzip')\n",
    "    print(f\"Cached SIAB data to: {cache_file}\")\n",
    "\n",
    "print(siab.shape)"
   ]
  },
  {
   "cell_type": "code",
   "execution_count": 10,
   "id": "058d2abb",
   "metadata": {
    "execution": {
     "iopub.execute_input": "2025-08-19T18:31:03.768118Z",
     "iopub.status.busy": "2025-08-19T18:31:03.766831Z",
     "iopub.status.idle": "2025-08-19T18:31:03.982524Z",
     "shell.execute_reply": "2025-08-19T18:31:03.981831Z"
    },
    "papermill": {
     "duration": 0.228045,
     "end_time": "2025-08-19T18:31:03.984122",
     "exception": false,
     "start_time": "2025-08-19T18:31:03.756077",
     "status": "completed"
    },
    "tags": []
   },
   "outputs": [
    {
     "data": {
      "text/html": [
       "<div>\n",
       "<style scoped>\n",
       "    .dataframe tbody tr th:only-of-type {\n",
       "        vertical-align: middle;\n",
       "    }\n",
       "\n",
       "    .dataframe tbody tr th {\n",
       "        vertical-align: top;\n",
       "    }\n",
       "\n",
       "    .dataframe thead th {\n",
       "        text-align: right;\n",
       "    }\n",
       "</style>\n",
       "<table border=\"1\" class=\"dataframe\">\n",
       "  <thead>\n",
       "    <tr style=\"text-align: right;\">\n",
       "      <th></th>\n",
       "      <th>persnr</th>\n",
       "      <th>year</th>\n",
       "      <th>nrEntry</th>\n",
       "      <th>ltue</th>\n",
       "      <th>employed_before</th>\n",
       "      <th>receipt_leh_before</th>\n",
       "      <th>receipt_lhg_before</th>\n",
       "      <th>se_before</th>\n",
       "      <th>ASU_notue_seeking_before</th>\n",
       "      <th>ASU_other_before</th>\n",
       "      <th>...</th>\n",
       "      <th>minijob_tot_dur_byage</th>\n",
       "      <th>ft_tot_dur_byage</th>\n",
       "      <th>befrist_tot_dur_byage</th>\n",
       "      <th>leih_tot_dur_byage</th>\n",
       "      <th>LHG_tot_dur_byage</th>\n",
       "      <th>LEH_tot_dur_byage</th>\n",
       "      <th>almp_tot_dur_byage</th>\n",
       "      <th>almp_aw_tot_dur_byage</th>\n",
       "      <th>se_tot_dur_byage</th>\n",
       "      <th>seeking1_tot_dur_byage</th>\n",
       "    </tr>\n",
       "  </thead>\n",
       "  <tbody>\n",
       "    <tr>\n",
       "      <th>0</th>\n",
       "      <td>7</td>\n",
       "      <td>2015</td>\n",
       "      <td>1</td>\n",
       "      <td>0</td>\n",
       "      <td>1</td>\n",
       "      <td>0</td>\n",
       "      <td>0</td>\n",
       "      <td>0</td>\n",
       "      <td>1</td>\n",
       "      <td>0</td>\n",
       "      <td>...</td>\n",
       "      <td>0.000000</td>\n",
       "      <td>0.000000</td>\n",
       "      <td>15.043478</td>\n",
       "      <td>0.000000</td>\n",
       "      <td>0.000000</td>\n",
       "      <td>0.000000</td>\n",
       "      <td>0.000000</td>\n",
       "      <td>0.000000</td>\n",
       "      <td>0.000000</td>\n",
       "      <td>0.000000</td>\n",
       "    </tr>\n",
       "    <tr>\n",
       "      <th>1</th>\n",
       "      <td>18</td>\n",
       "      <td>2010</td>\n",
       "      <td>1</td>\n",
       "      <td>1</td>\n",
       "      <td>0</td>\n",
       "      <td>0</td>\n",
       "      <td>0</td>\n",
       "      <td>0</td>\n",
       "      <td>0</td>\n",
       "      <td>0</td>\n",
       "      <td>...</td>\n",
       "      <td>0.000000</td>\n",
       "      <td>0.000000</td>\n",
       "      <td>0.000000</td>\n",
       "      <td>0.000000</td>\n",
       "      <td>0.000000</td>\n",
       "      <td>0.000000</td>\n",
       "      <td>0.000000</td>\n",
       "      <td>0.000000</td>\n",
       "      <td>0.000000</td>\n",
       "      <td>0.000000</td>\n",
       "    </tr>\n",
       "    <tr>\n",
       "      <th>2</th>\n",
       "      <td>18</td>\n",
       "      <td>2011</td>\n",
       "      <td>2</td>\n",
       "      <td>0</td>\n",
       "      <td>1</td>\n",
       "      <td>0</td>\n",
       "      <td>1</td>\n",
       "      <td>0</td>\n",
       "      <td>1</td>\n",
       "      <td>0</td>\n",
       "      <td>...</td>\n",
       "      <td>2.714286</td>\n",
       "      <td>2.714286</td>\n",
       "      <td>0.000000</td>\n",
       "      <td>0.000000</td>\n",
       "      <td>10.775510</td>\n",
       "      <td>0.000000</td>\n",
       "      <td>8.367347</td>\n",
       "      <td>0.000000</td>\n",
       "      <td>0.000000</td>\n",
       "      <td>9.836735</td>\n",
       "    </tr>\n",
       "    <tr>\n",
       "      <th>3</th>\n",
       "      <td>18</td>\n",
       "      <td>2012</td>\n",
       "      <td>3</td>\n",
       "      <td>0</td>\n",
       "      <td>1</td>\n",
       "      <td>0</td>\n",
       "      <td>1</td>\n",
       "      <td>0</td>\n",
       "      <td>1</td>\n",
       "      <td>0</td>\n",
       "      <td>...</td>\n",
       "      <td>4.200000</td>\n",
       "      <td>4.200000</td>\n",
       "      <td>0.000000</td>\n",
       "      <td>0.000000</td>\n",
       "      <td>12.100000</td>\n",
       "      <td>0.000000</td>\n",
       "      <td>9.400000</td>\n",
       "      <td>0.000000</td>\n",
       "      <td>0.000000</td>\n",
       "      <td>9.960000</td>\n",
       "    </tr>\n",
       "    <tr>\n",
       "      <th>4</th>\n",
       "      <td>18</td>\n",
       "      <td>2012</td>\n",
       "      <td>4</td>\n",
       "      <td>0</td>\n",
       "      <td>1</td>\n",
       "      <td>0</td>\n",
       "      <td>1</td>\n",
       "      <td>0</td>\n",
       "      <td>1</td>\n",
       "      <td>0</td>\n",
       "      <td>...</td>\n",
       "      <td>5.460000</td>\n",
       "      <td>5.460000</td>\n",
       "      <td>0.000000</td>\n",
       "      <td>0.000000</td>\n",
       "      <td>13.360000</td>\n",
       "      <td>0.000000</td>\n",
       "      <td>10.320000</td>\n",
       "      <td>0.000000</td>\n",
       "      <td>0.000000</td>\n",
       "      <td>10.280000</td>\n",
       "    </tr>\n",
       "    <tr>\n",
       "      <th>...</th>\n",
       "      <td>...</td>\n",
       "      <td>...</td>\n",
       "      <td>...</td>\n",
       "      <td>...</td>\n",
       "      <td>...</td>\n",
       "      <td>...</td>\n",
       "      <td>...</td>\n",
       "      <td>...</td>\n",
       "      <td>...</td>\n",
       "      <td>...</td>\n",
       "      <td>...</td>\n",
       "      <td>...</td>\n",
       "      <td>...</td>\n",
       "      <td>...</td>\n",
       "      <td>...</td>\n",
       "      <td>...</td>\n",
       "      <td>...</td>\n",
       "      <td>...</td>\n",
       "      <td>...</td>\n",
       "      <td>...</td>\n",
       "      <td>...</td>\n",
       "    </tr>\n",
       "    <tr>\n",
       "      <th>643685</th>\n",
       "      <td>1827860</td>\n",
       "      <td>2013</td>\n",
       "      <td>1</td>\n",
       "      <td>0</td>\n",
       "      <td>0</td>\n",
       "      <td>0</td>\n",
       "      <td>1</td>\n",
       "      <td>0</td>\n",
       "      <td>0</td>\n",
       "      <td>1</td>\n",
       "      <td>...</td>\n",
       "      <td>0.000000</td>\n",
       "      <td>0.000000</td>\n",
       "      <td>0.000000</td>\n",
       "      <td>0.000000</td>\n",
       "      <td>0.612903</td>\n",
       "      <td>0.000000</td>\n",
       "      <td>0.000000</td>\n",
       "      <td>0.000000</td>\n",
       "      <td>0.000000</td>\n",
       "      <td>0.000000</td>\n",
       "    </tr>\n",
       "    <tr>\n",
       "      <th>643686</th>\n",
       "      <td>1827860</td>\n",
       "      <td>2015</td>\n",
       "      <td>2</td>\n",
       "      <td>1</td>\n",
       "      <td>0</td>\n",
       "      <td>0</td>\n",
       "      <td>1</td>\n",
       "      <td>0</td>\n",
       "      <td>1</td>\n",
       "      <td>0</td>\n",
       "      <td>...</td>\n",
       "      <td>0.000000</td>\n",
       "      <td>0.000000</td>\n",
       "      <td>0.212121</td>\n",
       "      <td>0.212121</td>\n",
       "      <td>17.363636</td>\n",
       "      <td>0.000000</td>\n",
       "      <td>8.909091</td>\n",
       "      <td>0.000000</td>\n",
       "      <td>0.000000</td>\n",
       "      <td>7.121212</td>\n",
       "    </tr>\n",
       "    <tr>\n",
       "      <th>643687</th>\n",
       "      <td>1827860</td>\n",
       "      <td>2016</td>\n",
       "      <td>3</td>\n",
       "      <td>1</td>\n",
       "      <td>0</td>\n",
       "      <td>0</td>\n",
       "      <td>1</td>\n",
       "      <td>1</td>\n",
       "      <td>0</td>\n",
       "      <td>1</td>\n",
       "      <td>...</td>\n",
       "      <td>0.000000</td>\n",
       "      <td>0.000000</td>\n",
       "      <td>0.294118</td>\n",
       "      <td>0.205882</td>\n",
       "      <td>34.705882</td>\n",
       "      <td>0.000000</td>\n",
       "      <td>10.352941</td>\n",
       "      <td>1.705882</td>\n",
       "      <td>1.705882</td>\n",
       "      <td>23.911765</td>\n",
       "    </tr>\n",
       "    <tr>\n",
       "      <th>643688</th>\n",
       "      <td>1827869</td>\n",
       "      <td>2013</td>\n",
       "      <td>1</td>\n",
       "      <td>1</td>\n",
       "      <td>1</td>\n",
       "      <td>0</td>\n",
       "      <td>0</td>\n",
       "      <td>0</td>\n",
       "      <td>1</td>\n",
       "      <td>0</td>\n",
       "      <td>...</td>\n",
       "      <td>0.000000</td>\n",
       "      <td>0.000000</td>\n",
       "      <td>0.000000</td>\n",
       "      <td>0.000000</td>\n",
       "      <td>0.000000</td>\n",
       "      <td>0.525424</td>\n",
       "      <td>0.000000</td>\n",
       "      <td>0.000000</td>\n",
       "      <td>0.000000</td>\n",
       "      <td>0.000000</td>\n",
       "    </tr>\n",
       "    <tr>\n",
       "      <th>643689</th>\n",
       "      <td>1827869</td>\n",
       "      <td>2014</td>\n",
       "      <td>2</td>\n",
       "      <td>0</td>\n",
       "      <td>0</td>\n",
       "      <td>1</td>\n",
       "      <td>0</td>\n",
       "      <td>0</td>\n",
       "      <td>1</td>\n",
       "      <td>0</td>\n",
       "      <td>...</td>\n",
       "      <td>0.000000</td>\n",
       "      <td>0.666667</td>\n",
       "      <td>0.666667</td>\n",
       "      <td>0.000000</td>\n",
       "      <td>0.000000</td>\n",
       "      <td>8.950000</td>\n",
       "      <td>1.033333</td>\n",
       "      <td>0.083333</td>\n",
       "      <td>0.083333</td>\n",
       "      <td>8.133333</td>\n",
       "    </tr>\n",
       "  </tbody>\n",
       "</table>\n",
       "<p>643690 rows × 164 columns</p>\n",
       "</div>"
      ],
      "text/plain": [
       "         persnr  year  nrEntry  ltue  employed_before  receipt_leh_before  \\\n",
       "0             7  2015        1     0                1                   0   \n",
       "1            18  2010        1     1                0                   0   \n",
       "2            18  2011        2     0                1                   0   \n",
       "3            18  2012        3     0                1                   0   \n",
       "4            18  2012        4     0                1                   0   \n",
       "...         ...   ...      ...   ...              ...                 ...   \n",
       "643685  1827860  2013        1     0                0                   0   \n",
       "643686  1827860  2015        2     1                0                   0   \n",
       "643687  1827860  2016        3     1                0                   0   \n",
       "643688  1827869  2013        1     1                1                   0   \n",
       "643689  1827869  2014        2     0                0                   1   \n",
       "\n",
       "        receipt_lhg_before  se_before  ASU_notue_seeking_before  \\\n",
       "0                        0          0                         1   \n",
       "1                        0          0                         0   \n",
       "2                        1          0                         1   \n",
       "3                        1          0                         1   \n",
       "4                        1          0                         1   \n",
       "...                    ...        ...                       ...   \n",
       "643685                   1          0                         0   \n",
       "643686                   1          0                         1   \n",
       "643687                   1          1                         0   \n",
       "643688                   0          0                         1   \n",
       "643689                   0          0                         1   \n",
       "\n",
       "        ASU_other_before  ...  minijob_tot_dur_byage  ft_tot_dur_byage  \\\n",
       "0                      0  ...               0.000000          0.000000   \n",
       "1                      0  ...               0.000000          0.000000   \n",
       "2                      0  ...               2.714286          2.714286   \n",
       "3                      0  ...               4.200000          4.200000   \n",
       "4                      0  ...               5.460000          5.460000   \n",
       "...                  ...  ...                    ...               ...   \n",
       "643685                 1  ...               0.000000          0.000000   \n",
       "643686                 0  ...               0.000000          0.000000   \n",
       "643687                 1  ...               0.000000          0.000000   \n",
       "643688                 0  ...               0.000000          0.000000   \n",
       "643689                 0  ...               0.000000          0.666667   \n",
       "\n",
       "        befrist_tot_dur_byage  leih_tot_dur_byage  LHG_tot_dur_byage  \\\n",
       "0                   15.043478            0.000000           0.000000   \n",
       "1                    0.000000            0.000000           0.000000   \n",
       "2                    0.000000            0.000000          10.775510   \n",
       "3                    0.000000            0.000000          12.100000   \n",
       "4                    0.000000            0.000000          13.360000   \n",
       "...                       ...                 ...                ...   \n",
       "643685               0.000000            0.000000           0.612903   \n",
       "643686               0.212121            0.212121          17.363636   \n",
       "643687               0.294118            0.205882          34.705882   \n",
       "643688               0.000000            0.000000           0.000000   \n",
       "643689               0.666667            0.000000           0.000000   \n",
       "\n",
       "        LEH_tot_dur_byage  almp_tot_dur_byage  almp_aw_tot_dur_byage  \\\n",
       "0                0.000000            0.000000               0.000000   \n",
       "1                0.000000            0.000000               0.000000   \n",
       "2                0.000000            8.367347               0.000000   \n",
       "3                0.000000            9.400000               0.000000   \n",
       "4                0.000000           10.320000               0.000000   \n",
       "...                   ...                 ...                    ...   \n",
       "643685           0.000000            0.000000               0.000000   \n",
       "643686           0.000000            8.909091               0.000000   \n",
       "643687           0.000000           10.352941               1.705882   \n",
       "643688           0.525424            0.000000               0.000000   \n",
       "643689           8.950000            1.033333               0.083333   \n",
       "\n",
       "        se_tot_dur_byage  seeking1_tot_dur_byage  \n",
       "0               0.000000                0.000000  \n",
       "1               0.000000                0.000000  \n",
       "2               0.000000                9.836735  \n",
       "3               0.000000                9.960000  \n",
       "4               0.000000               10.280000  \n",
       "...                  ...                     ...  \n",
       "643685          0.000000                0.000000  \n",
       "643686          0.000000                7.121212  \n",
       "643687          1.705882               23.911765  \n",
       "643688          0.000000                0.000000  \n",
       "643689          0.083333                8.133333  \n",
       "\n",
       "[643690 rows x 164 columns]"
      ]
     },
     "execution_count": 10,
     "metadata": {},
     "output_type": "execute_result"
    }
   ],
   "source": [
    "siab"
   ]
  },
  {
   "cell_type": "markdown",
   "id": "1f87e805",
   "metadata": {
    "papermill": {
     "duration": 0.009706,
     "end_time": "2025-08-19T18:31:04.004690",
     "exception": false,
     "start_time": "2025-08-19T18:31:03.994984",
     "status": "completed"
    },
    "tags": []
   },
   "source": [
    "# Splitting Data and Setting Training Data Size"
   ]
  },
  {
   "cell_type": "code",
   "execution_count": 11,
   "id": "910ae358",
   "metadata": {
    "execution": {
     "iopub.execute_input": "2025-08-19T18:31:04.026669Z",
     "iopub.status.busy": "2025-08-19T18:31:04.025498Z",
     "iopub.status.idle": "2025-08-19T18:31:04.685970Z",
     "shell.execute_reply": "2025-08-19T18:31:04.685315Z"
    },
    "papermill": {
     "duration": 0.673602,
     "end_time": "2025-08-19T18:31:04.687864",
     "exception": false,
     "start_time": "2025-08-19T18:31:04.014262",
     "status": "completed"
    },
    "tags": []
   },
   "outputs": [],
   "source": [
    "from fairness_multiverse.universe import sample_by_year_size\n",
    "\n",
    "siab_train = sample_by_year_size(siab,\n",
    "                               training_year=universe[\"training_year\"],\n",
    "                               training_size=universe[\"training_size\"])"
   ]
  },
  {
   "cell_type": "code",
   "execution_count": 12,
   "id": "919c8ff5",
   "metadata": {
    "execution": {
     "iopub.execute_input": "2025-08-19T18:31:04.728154Z",
     "iopub.status.busy": "2025-08-19T18:31:04.726824Z",
     "iopub.status.idle": "2025-08-19T18:31:04.742072Z",
     "shell.execute_reply": "2025-08-19T18:31:04.740764Z"
    },
    "papermill": {
     "duration": 0.037088,
     "end_time": "2025-08-19T18:31:04.744711",
     "exception": false,
     "start_time": "2025-08-19T18:31:04.707623",
     "status": "completed"
    },
    "tags": []
   },
   "outputs": [
    {
     "data": {
      "text/plain": [
       "(5000, 164)"
      ]
     },
     "execution_count": 12,
     "metadata": {},
     "output_type": "execute_result"
    }
   ],
   "source": [
    "siab_train.shape"
   ]
  },
  {
   "cell_type": "code",
   "execution_count": 13,
   "id": "feb13bf4",
   "metadata": {
    "execution": {
     "iopub.execute_input": "2025-08-19T18:31:04.784336Z",
     "iopub.status.busy": "2025-08-19T18:31:04.783181Z",
     "iopub.status.idle": "2025-08-19T18:31:04.798418Z",
     "shell.execute_reply": "2025-08-19T18:31:04.797202Z"
    },
    "papermill": {
     "duration": 0.029552,
     "end_time": "2025-08-19T18:31:04.800135",
     "exception": false,
     "start_time": "2025-08-19T18:31:04.770583",
     "status": "completed"
    },
    "tags": []
   },
   "outputs": [
    {
     "data": {
      "text/plain": [
       "year\n",
       "2012    1667\n",
       "2013    1667\n",
       "2014    1666\n",
       "dtype: int64"
      ]
     },
     "metadata": {},
     "output_type": "display_data"
    }
   ],
   "source": [
    "display(siab_train.groupby(\"year\").size())"
   ]
  },
  {
   "cell_type": "code",
   "execution_count": 14,
   "id": "0997782f",
   "metadata": {
    "execution": {
     "iopub.execute_input": "2025-08-19T18:31:04.830932Z",
     "iopub.status.busy": "2025-08-19T18:31:04.829576Z",
     "iopub.status.idle": "2025-08-19T18:31:05.119273Z",
     "shell.execute_reply": "2025-08-19T18:31:05.118563Z"
    },
    "papermill": {
     "duration": 0.310336,
     "end_time": "2025-08-19T18:31:05.122157",
     "exception": false,
     "start_time": "2025-08-19T18:31:04.811821",
     "status": "completed"
    },
    "tags": []
   },
   "outputs": [],
   "source": [
    "#siab_train = siab_s[siab_s.year < 2015]\n",
    "siab_calib = siab[siab.year == 2015]\n",
    "siab_test = siab[siab.year == 2016]"
   ]
  },
  {
   "cell_type": "code",
   "execution_count": 15,
   "id": "2c1e4012",
   "metadata": {
    "execution": {
     "iopub.execute_input": "2025-08-19T18:31:05.178731Z",
     "iopub.status.busy": "2025-08-19T18:31:05.177823Z",
     "iopub.status.idle": "2025-08-19T18:31:05.195488Z",
     "shell.execute_reply": "2025-08-19T18:31:05.194689Z"
    },
    "papermill": {
     "duration": 0.047625,
     "end_time": "2025-08-19T18:31:05.197234",
     "exception": false,
     "start_time": "2025-08-19T18:31:05.149609",
     "status": "completed"
    },
    "tags": []
   },
   "outputs": [],
   "source": [
    "#siab_calib.shape"
   ]
  },
  {
   "cell_type": "code",
   "execution_count": 16,
   "id": "f66b54ca",
   "metadata": {
    "execution": {
     "iopub.execute_input": "2025-08-19T18:31:05.235598Z",
     "iopub.status.busy": "2025-08-19T18:31:05.234085Z",
     "iopub.status.idle": "2025-08-19T18:31:05.242071Z",
     "shell.execute_reply": "2025-08-19T18:31:05.240276Z"
    },
    "papermill": {
     "duration": 0.030246,
     "end_time": "2025-08-19T18:31:05.243789",
     "exception": false,
     "start_time": "2025-08-19T18:31:05.213543",
     "status": "completed"
    },
    "tags": []
   },
   "outputs": [],
   "source": [
    "#siab_test.shape"
   ]
  },
  {
   "cell_type": "code",
   "execution_count": 17,
   "id": "27e4384d",
   "metadata": {
    "execution": {
     "iopub.execute_input": "2025-08-19T18:31:05.273971Z",
     "iopub.status.busy": "2025-08-19T18:31:05.272715Z",
     "iopub.status.idle": "2025-08-19T18:31:05.289484Z",
     "shell.execute_reply": "2025-08-19T18:31:05.288725Z"
    },
    "papermill": {
     "duration": 0.029663,
     "end_time": "2025-08-19T18:31:05.290907",
     "exception": false,
     "start_time": "2025-08-19T18:31:05.261244",
     "status": "completed"
    },
    "tags": []
   },
   "outputs": [],
   "source": [
    "X_train = siab_train.iloc[:,4:164]\n",
    "y_train = siab_train.iloc[:, [3]]"
   ]
  },
  {
   "cell_type": "code",
   "execution_count": 18,
   "id": "08ee8389",
   "metadata": {
    "execution": {
     "iopub.execute_input": "2025-08-19T18:31:05.340882Z",
     "iopub.status.busy": "2025-08-19T18:31:05.339180Z",
     "iopub.status.idle": "2025-08-19T18:31:05.399820Z",
     "shell.execute_reply": "2025-08-19T18:31:05.398473Z"
    },
    "papermill": {
     "duration": 0.086524,
     "end_time": "2025-08-19T18:31:05.402099",
     "exception": false,
     "start_time": "2025-08-19T18:31:05.315575",
     "status": "completed"
    },
    "tags": []
   },
   "outputs": [],
   "source": [
    "X_calib = siab_calib.iloc[:,4:164]\n",
    "y_calib = siab_calib.iloc[:, [3]]"
   ]
  },
  {
   "cell_type": "code",
   "execution_count": 19,
   "id": "b7ff42e0",
   "metadata": {
    "execution": {
     "iopub.execute_input": "2025-08-19T18:31:05.427211Z",
     "iopub.status.busy": "2025-08-19T18:31:05.426059Z",
     "iopub.status.idle": "2025-08-19T18:31:05.484423Z",
     "shell.execute_reply": "2025-08-19T18:31:05.483754Z"
    },
    "papermill": {
     "duration": 0.074879,
     "end_time": "2025-08-19T18:31:05.487372",
     "exception": false,
     "start_time": "2025-08-19T18:31:05.412493",
     "status": "completed"
    },
    "tags": []
   },
   "outputs": [],
   "source": [
    "X_test = siab_test.iloc[:,4:164]\n",
    "y_true = siab_test.iloc[:, [3]]"
   ]
  },
  {
   "cell_type": "code",
   "execution_count": 20,
   "id": "0275101e",
   "metadata": {
    "execution": {
     "iopub.execute_input": "2025-08-19T18:31:05.526482Z",
     "iopub.status.busy": "2025-08-19T18:31:05.526021Z",
     "iopub.status.idle": "2025-08-19T18:31:05.633650Z",
     "shell.execute_reply": "2025-08-19T18:31:05.632872Z"
    },
    "papermill": {
     "duration": 0.123082,
     "end_time": "2025-08-19T18:31:05.635327",
     "exception": false,
     "start_time": "2025-08-19T18:31:05.512245",
     "status": "completed"
    },
    "tags": []
   },
   "outputs": [],
   "source": [
    "# Auxiliary data needed downstream in the pipeline\n",
    "\n",
    "org_train = X_train.copy()\n",
    "org_test = X_test.copy()\n",
    "org_calib = X_calib.copy()"
   ]
  },
  {
   "cell_type": "markdown",
   "id": "b461e618",
   "metadata": {
    "papermill": {
     "duration": 0.010474,
     "end_time": "2025-08-19T18:31:05.656397",
     "exception": false,
     "start_time": "2025-08-19T18:31:05.645923",
     "status": "completed"
    },
    "tags": []
   },
   "source": [
    "# Preprocessing Data"
   ]
  },
  {
   "cell_type": "code",
   "execution_count": 21,
   "id": "78e74c4b",
   "metadata": {
    "execution": {
     "iopub.execute_input": "2025-08-19T18:31:05.678734Z",
     "iopub.status.busy": "2025-08-19T18:31:05.678275Z",
     "iopub.status.idle": "2025-08-19T18:31:05.683091Z",
     "shell.execute_reply": "2025-08-19T18:31:05.682397Z"
    },
    "papermill": {
     "duration": 0.017661,
     "end_time": "2025-08-19T18:31:05.684497",
     "exception": false,
     "start_time": "2025-08-19T18:31:05.666836",
     "status": "completed"
    },
    "tags": []
   },
   "outputs": [],
   "source": [
    "# EXCLUDE PROTECTED FEATURES\n",
    "# --------------------------\n",
    "\n",
    "excluded_features = universe[\"exclude_features\"].split(\"-\")\n",
    "excluded_features_dictionary = {\n",
    "    \"nationality\": [\"maxdeutsch1\", \"maxdeutsch.Missing.\"],\n",
    "    \"sex\": [\"frau1\"],\n",
    "    \"age\": [\"age\"],\n",
    "}"
   ]
  },
  {
   "cell_type": "code",
   "execution_count": 22,
   "id": "f8e63555",
   "metadata": {
    "execution": {
     "iopub.execute_input": "2025-08-19T18:31:05.707259Z",
     "iopub.status.busy": "2025-08-19T18:31:05.706792Z",
     "iopub.status.idle": "2025-08-19T18:31:05.712358Z",
     "shell.execute_reply": "2025-08-19T18:31:05.711372Z"
    },
    "papermill": {
     "duration": 0.01879,
     "end_time": "2025-08-19T18:31:05.713828",
     "exception": false,
     "start_time": "2025-08-19T18:31:05.695038",
     "status": "completed"
    },
    "tags": []
   },
   "outputs": [],
   "source": [
    "excluded_features_columns = [\n",
    "    excluded_features_dictionary[f] for f in excluded_features if len(f) > 0 and f != \"none\"\n",
    "]"
   ]
  },
  {
   "cell_type": "code",
   "execution_count": 23,
   "id": "da781f7c",
   "metadata": {
    "execution": {
     "iopub.execute_input": "2025-08-19T18:31:05.738017Z",
     "iopub.status.busy": "2025-08-19T18:31:05.737075Z",
     "iopub.status.idle": "2025-08-19T18:31:05.743143Z",
     "shell.execute_reply": "2025-08-19T18:31:05.742133Z"
    },
    "papermill": {
     "duration": 0.019702,
     "end_time": "2025-08-19T18:31:05.744608",
     "exception": false,
     "start_time": "2025-08-19T18:31:05.724906",
     "status": "completed"
    },
    "tags": []
   },
   "outputs": [],
   "source": [
    "from fairness_multiverse.universe import flatten_once\n",
    "\n",
    "excluded_features_columns = flatten_once(excluded_features_columns)"
   ]
  },
  {
   "cell_type": "code",
   "execution_count": 24,
   "id": "37fef0f0",
   "metadata": {
    "execution": {
     "iopub.execute_input": "2025-08-19T18:31:05.770043Z",
     "iopub.status.busy": "2025-08-19T18:31:05.769572Z",
     "iopub.status.idle": "2025-08-19T18:31:05.791509Z",
     "shell.execute_reply": "2025-08-19T18:31:05.789974Z"
    },
    "papermill": {
     "duration": 0.03719,
     "end_time": "2025-08-19T18:31:05.793785",
     "exception": false,
     "start_time": "2025-08-19T18:31:05.756595",
     "status": "completed"
    },
    "tags": []
   },
   "outputs": [],
   "source": [
    "if len(excluded_features_columns) > 0:\n",
    "    print(f\"Dropping features: {excluded_features_columns}\")\n",
    "    X_train.drop(excluded_features_columns, axis=1, inplace=True)"
   ]
  },
  {
   "cell_type": "code",
   "execution_count": 25,
   "id": "d029e3e9",
   "metadata": {
    "execution": {
     "iopub.execute_input": "2025-08-19T18:31:05.818968Z",
     "iopub.status.busy": "2025-08-19T18:31:05.818513Z",
     "iopub.status.idle": "2025-08-19T18:31:05.823597Z",
     "shell.execute_reply": "2025-08-19T18:31:05.822812Z"
    },
    "papermill": {
     "duration": 0.01822,
     "end_time": "2025-08-19T18:31:05.825118",
     "exception": false,
     "start_time": "2025-08-19T18:31:05.806898",
     "status": "completed"
    },
    "tags": []
   },
   "outputs": [],
   "source": [
    "if len(excluded_features_columns) > 0:\n",
    "    print(f\"Dropping features: {excluded_features_columns}\")\n",
    "    X_test.drop(excluded_features_columns, axis=1, inplace=True)"
   ]
  },
  {
   "cell_type": "code",
   "execution_count": 26,
   "id": "01d571f0",
   "metadata": {
    "execution": {
     "iopub.execute_input": "2025-08-19T18:31:05.848598Z",
     "iopub.status.busy": "2025-08-19T18:31:05.848150Z",
     "iopub.status.idle": "2025-08-19T18:31:05.857101Z",
     "shell.execute_reply": "2025-08-19T18:31:05.854607Z"
    },
    "papermill": {
     "duration": 0.023194,
     "end_time": "2025-08-19T18:31:05.859157",
     "exception": false,
     "start_time": "2025-08-19T18:31:05.835963",
     "status": "completed"
    },
    "tags": []
   },
   "outputs": [],
   "source": [
    "if len(excluded_features_columns) > 0:\n",
    "    print(f\"Dropping features: {excluded_features_columns}\")\n",
    "    X_calib.drop(excluded_features_columns, axis=1, inplace=True)"
   ]
  },
  {
   "cell_type": "code",
   "execution_count": 27,
   "id": "3037356e",
   "metadata": {
    "execution": {
     "iopub.execute_input": "2025-08-19T18:31:05.882689Z",
     "iopub.status.busy": "2025-08-19T18:31:05.881907Z",
     "iopub.status.idle": "2025-08-19T18:31:05.886722Z",
     "shell.execute_reply": "2025-08-19T18:31:05.885977Z"
    },
    "papermill": {
     "duration": 0.017251,
     "end_time": "2025-08-19T18:31:05.887936",
     "exception": false,
     "start_time": "2025-08-19T18:31:05.870685",
     "status": "completed"
    },
    "tags": []
   },
   "outputs": [],
   "source": [
    "# EXCLUDE CERTAIN SUBGROUPS\n",
    "# -------------------------\n",
    "\n",
    "mode = universe.get(\"exclude_subgroups\", \"keep-all\") # Defaults to \"keep-all\" if the key is missing."
   ]
  },
  {
   "cell_type": "code",
   "execution_count": 28,
   "id": "9d1e63fd",
   "metadata": {
    "execution": {
     "iopub.execute_input": "2025-08-19T18:31:05.920780Z",
     "iopub.status.busy": "2025-08-19T18:31:05.920288Z",
     "iopub.status.idle": "2025-08-19T18:31:05.925915Z",
     "shell.execute_reply": "2025-08-19T18:31:05.925115Z"
    },
    "papermill": {
     "duration": 0.019219,
     "end_time": "2025-08-19T18:31:05.927240",
     "exception": false,
     "start_time": "2025-08-19T18:31:05.908021",
     "status": "completed"
    },
    "tags": []
   },
   "outputs": [],
   "source": [
    "if mode == \"keep-all\":\n",
    "    keep_mask = pd.Series(True, index=org_train.index)\n",
    "\n",
    "elif mode == \"drop-non-german\":\n",
    "    keep_mask = (org_train[\"maxdeutsch1\"] == 1) & (org_train[\"maxdeutsch.Missing.\"] == 0)\n",
    "\n",
    "else:\n",
    "    raise ValueError(f\"Unsupported mode for exclude_subgroups: {mode}\")"
   ]
  },
  {
   "cell_type": "code",
   "execution_count": 29,
   "id": "d3b65474",
   "metadata": {
    "execution": {
     "iopub.execute_input": "2025-08-19T18:31:05.973957Z",
     "iopub.status.busy": "2025-08-19T18:31:05.973524Z",
     "iopub.status.idle": "2025-08-19T18:31:05.980196Z",
     "shell.execute_reply": "2025-08-19T18:31:05.979289Z"
    },
    "papermill": {
     "duration": 0.026508,
     "end_time": "2025-08-19T18:31:05.982161",
     "exception": false,
     "start_time": "2025-08-19T18:31:05.955653",
     "status": "completed"
    },
    "tags": []
   },
   "outputs": [],
   "source": [
    "n_drop = (~keep_mask).sum() # Calculates how many rows are set to be dropped\n",
    "if n_drop > 0:\n",
    "    pct = n_drop / len(keep_mask) * 100\n",
    "    print(f\"Dropping {n_drop} rows ({pct:.2f}%) where mode='{mode}'\")"
   ]
  },
  {
   "cell_type": "code",
   "execution_count": 30,
   "id": "f44389b3",
   "metadata": {
    "execution": {
     "iopub.execute_input": "2025-08-19T18:31:06.020309Z",
     "iopub.status.busy": "2025-08-19T18:31:06.019212Z",
     "iopub.status.idle": "2025-08-19T18:31:06.037528Z",
     "shell.execute_reply": "2025-08-19T18:31:06.036128Z"
    },
    "papermill": {
     "duration": 0.033788,
     "end_time": "2025-08-19T18:31:06.039481",
     "exception": false,
     "start_time": "2025-08-19T18:31:06.005693",
     "status": "completed"
    },
    "tags": []
   },
   "outputs": [],
   "source": [
    "X_train = X_train[keep_mask]"
   ]
  },
  {
   "cell_type": "code",
   "execution_count": 31,
   "id": "ceca8c2a",
   "metadata": {
    "execution": {
     "iopub.execute_input": "2025-08-19T18:31:06.069542Z",
     "iopub.status.busy": "2025-08-19T18:31:06.068361Z",
     "iopub.status.idle": "2025-08-19T18:31:06.077725Z",
     "shell.execute_reply": "2025-08-19T18:31:06.076571Z"
    },
    "papermill": {
     "duration": 0.023368,
     "end_time": "2025-08-19T18:31:06.079502",
     "exception": false,
     "start_time": "2025-08-19T18:31:06.056134",
     "status": "completed"
    },
    "tags": []
   },
   "outputs": [],
   "source": [
    "y_train = y_train[keep_mask]"
   ]
  },
  {
   "cell_type": "markdown",
   "id": "04d31e2f",
   "metadata": {
    "papermill": {
     "duration": 0.04444,
     "end_time": "2025-08-19T18:31:06.136631",
     "exception": false,
     "start_time": "2025-08-19T18:31:06.092191",
     "status": "completed"
    },
    "tags": []
   },
   "source": [
    "# Model Training"
   ]
  },
  {
   "cell_type": "code",
   "execution_count": 32,
   "id": "db991733",
   "metadata": {
    "execution": {
     "iopub.execute_input": "2025-08-19T18:31:06.167004Z",
     "iopub.status.busy": "2025-08-19T18:31:06.166559Z",
     "iopub.status.idle": "2025-08-19T18:31:06.266859Z",
     "shell.execute_reply": "2025-08-19T18:31:06.266183Z"
    },
    "papermill": {
     "duration": 0.113289,
     "end_time": "2025-08-19T18:31:06.268455",
     "exception": false,
     "start_time": "2025-08-19T18:31:06.155166",
     "status": "completed"
    },
    "tags": []
   },
   "outputs": [],
   "source": [
    "from sklearn.linear_model import LogisticRegression\n",
    "from sklearn.ensemble import GradientBoostingClassifier, RandomForestClassifier\n",
    "\n",
    "if (universe[\"model\"] == \"logreg\"):\n",
    "    model = LogisticRegression() #penalty=\"none\", solver=\"newton-cg\", max_iter=1)\n",
    "elif (universe[\"model\"] == \"penalized_logreg\"):\n",
    "    model = LogisticRegression(penalty=\"l2\", C=0.1) #, solver=\"newton-cg\", max_iter=1)\n",
    "elif (universe[\"model\"] == \"rf\"):\n",
    "    model = RandomForestClassifier() # n_estimators=100, n_jobs=-1\n",
    "elif (universe[\"model\"] == \"gbm\"):\n",
    "    model = GradientBoostingClassifier()\n",
    "elif (universe[\"model\"] == \"elasticnet\"):\n",
    "    model = LogisticRegression(penalty = 'elasticnet', solver = 'saga', l1_ratio = 0.5) # max_iter=5000\n",
    "else:\n",
    "    raise \"Unsupported universe.model\""
   ]
  },
  {
   "cell_type": "code",
   "execution_count": 33,
   "id": "a4b5cd25",
   "metadata": {
    "execution": {
     "iopub.execute_input": "2025-08-19T18:31:06.292199Z",
     "iopub.status.busy": "2025-08-19T18:31:06.291666Z",
     "iopub.status.idle": "2025-08-19T18:31:06.298587Z",
     "shell.execute_reply": "2025-08-19T18:31:06.297443Z"
    },
    "papermill": {
     "duration": 0.02063,
     "end_time": "2025-08-19T18:31:06.300085",
     "exception": false,
     "start_time": "2025-08-19T18:31:06.279455",
     "status": "completed"
    },
    "tags": []
   },
   "outputs": [],
   "source": [
    "from sklearn.pipeline import Pipeline\n",
    "from sklearn.preprocessing import StandardScaler\n",
    "\n",
    "model = Pipeline([\n",
    "    #(\"continuous_processor\", continuous_processor),\n",
    "    #(\"categorical_preprocessor\", categorical_preprocessor),\n",
    "    (\"scale\", StandardScaler() if universe[\"scale\"] == \"scale\" else None), \n",
    "    (\"model\", model),\n",
    "])"
   ]
  },
  {
   "cell_type": "code",
   "execution_count": 34,
   "id": "283a904d",
   "metadata": {
    "execution": {
     "iopub.execute_input": "2025-08-19T18:31:06.328094Z",
     "iopub.status.busy": "2025-08-19T18:31:06.327022Z",
     "iopub.status.idle": "2025-08-19T18:31:06.523147Z",
     "shell.execute_reply": "2025-08-19T18:31:06.522510Z"
    },
    "papermill": {
     "duration": 0.210828,
     "end_time": "2025-08-19T18:31:06.524436",
     "exception": false,
     "start_time": "2025-08-19T18:31:06.313608",
     "status": "completed"
    },
    "tags": []
   },
   "outputs": [
    {
     "name": "stderr",
     "output_type": "stream",
     "text": [
      "/dss/dsshome1/0C/ra93lal2/.local/share/virtualenvs/CMA_Fairness_v2-3j10GkSs/lib/python3.10/site-packages/sklearn/linear_model/_logistic.py:444: ConvergenceWarning: lbfgs failed to converge (status=1):\n",
      "STOP: TOTAL NO. of ITERATIONS REACHED LIMIT.\n",
      "\n",
      "Increase the number of iterations (max_iter) or scale the data as shown in:\n",
      "    https://scikit-learn.org/stable/modules/preprocessing.html\n",
      "Please also refer to the documentation for alternative solver options:\n",
      "    https://scikit-learn.org/stable/modules/linear_model.html#logistic-regression\n",
      "  n_iter_i = _check_optimize_result(\n"
     ]
    },
    {
     "data": {
      "text/html": [
       "<style>#sk-container-id-1 {color: black;background-color: white;}#sk-container-id-1 pre{padding: 0;}#sk-container-id-1 div.sk-toggleable {background-color: white;}#sk-container-id-1 label.sk-toggleable__label {cursor: pointer;display: block;width: 100%;margin-bottom: 0;padding: 0.3em;box-sizing: border-box;text-align: center;}#sk-container-id-1 label.sk-toggleable__label-arrow:before {content: \"▸\";float: left;margin-right: 0.25em;color: #696969;}#sk-container-id-1 label.sk-toggleable__label-arrow:hover:before {color: black;}#sk-container-id-1 div.sk-estimator:hover label.sk-toggleable__label-arrow:before {color: black;}#sk-container-id-1 div.sk-toggleable__content {max-height: 0;max-width: 0;overflow: hidden;text-align: left;background-color: #f0f8ff;}#sk-container-id-1 div.sk-toggleable__content pre {margin: 0.2em;color: black;border-radius: 0.25em;background-color: #f0f8ff;}#sk-container-id-1 input.sk-toggleable__control:checked~div.sk-toggleable__content {max-height: 200px;max-width: 100%;overflow: auto;}#sk-container-id-1 input.sk-toggleable__control:checked~label.sk-toggleable__label-arrow:before {content: \"▾\";}#sk-container-id-1 div.sk-estimator input.sk-toggleable__control:checked~label.sk-toggleable__label {background-color: #d4ebff;}#sk-container-id-1 div.sk-label input.sk-toggleable__control:checked~label.sk-toggleable__label {background-color: #d4ebff;}#sk-container-id-1 input.sk-hidden--visually {border: 0;clip: rect(1px 1px 1px 1px);clip: rect(1px, 1px, 1px, 1px);height: 1px;margin: -1px;overflow: hidden;padding: 0;position: absolute;width: 1px;}#sk-container-id-1 div.sk-estimator {font-family: monospace;background-color: #f0f8ff;border: 1px dotted black;border-radius: 0.25em;box-sizing: border-box;margin-bottom: 0.5em;}#sk-container-id-1 div.sk-estimator:hover {background-color: #d4ebff;}#sk-container-id-1 div.sk-parallel-item::after {content: \"\";width: 100%;border-bottom: 1px solid gray;flex-grow: 1;}#sk-container-id-1 div.sk-label:hover label.sk-toggleable__label {background-color: #d4ebff;}#sk-container-id-1 div.sk-serial::before {content: \"\";position: absolute;border-left: 1px solid gray;box-sizing: border-box;top: 0;bottom: 0;left: 50%;z-index: 0;}#sk-container-id-1 div.sk-serial {display: flex;flex-direction: column;align-items: center;background-color: white;padding-right: 0.2em;padding-left: 0.2em;position: relative;}#sk-container-id-1 div.sk-item {position: relative;z-index: 1;}#sk-container-id-1 div.sk-parallel {display: flex;align-items: stretch;justify-content: center;background-color: white;position: relative;}#sk-container-id-1 div.sk-item::before, #sk-container-id-1 div.sk-parallel-item::before {content: \"\";position: absolute;border-left: 1px solid gray;box-sizing: border-box;top: 0;bottom: 0;left: 50%;z-index: -1;}#sk-container-id-1 div.sk-parallel-item {display: flex;flex-direction: column;z-index: 1;position: relative;background-color: white;}#sk-container-id-1 div.sk-parallel-item:first-child::after {align-self: flex-end;width: 50%;}#sk-container-id-1 div.sk-parallel-item:last-child::after {align-self: flex-start;width: 50%;}#sk-container-id-1 div.sk-parallel-item:only-child::after {width: 0;}#sk-container-id-1 div.sk-dashed-wrapped {border: 1px dashed gray;margin: 0 0.4em 0.5em 0.4em;box-sizing: border-box;padding-bottom: 0.4em;background-color: white;}#sk-container-id-1 div.sk-label label {font-family: monospace;font-weight: bold;display: inline-block;line-height: 1.2em;}#sk-container-id-1 div.sk-label-container {text-align: center;}#sk-container-id-1 div.sk-container {/* jupyter's `normalize.less` sets `[hidden] { display: none; }` but bootstrap.min.css set `[hidden] { display: none !important; }` so we also need the `!important` here to be able to override the default hidden behavior on the sphinx rendered scikit-learn.org. See: https://github.com/scikit-learn/scikit-learn/issues/21755 */display: inline-block !important;position: relative;}#sk-container-id-1 div.sk-text-repr-fallback {display: none;}</style><div id=\"sk-container-id-1\" class=\"sk-top-container\"><div class=\"sk-text-repr-fallback\"><pre>Pipeline(steps=[(&#x27;scale&#x27;, StandardScaler()), (&#x27;model&#x27;, LogisticRegression())])</pre><b>In a Jupyter environment, please rerun this cell to show the HTML representation or trust the notebook. <br />On GitHub, the HTML representation is unable to render, please try loading this page with nbviewer.org.</b></div><div class=\"sk-container\" hidden><div class=\"sk-item sk-dashed-wrapped\"><div class=\"sk-label-container\"><div class=\"sk-label sk-toggleable\"><input class=\"sk-toggleable__control sk-hidden--visually\" id=\"sk-estimator-id-1\" type=\"checkbox\" ><label for=\"sk-estimator-id-1\" class=\"sk-toggleable__label sk-toggleable__label-arrow\">Pipeline</label><div class=\"sk-toggleable__content\"><pre>Pipeline(steps=[(&#x27;scale&#x27;, StandardScaler()), (&#x27;model&#x27;, LogisticRegression())])</pre></div></div></div><div class=\"sk-serial\"><div class=\"sk-item\"><div class=\"sk-estimator sk-toggleable\"><input class=\"sk-toggleable__control sk-hidden--visually\" id=\"sk-estimator-id-2\" type=\"checkbox\" ><label for=\"sk-estimator-id-2\" class=\"sk-toggleable__label sk-toggleable__label-arrow\">StandardScaler</label><div class=\"sk-toggleable__content\"><pre>StandardScaler()</pre></div></div></div><div class=\"sk-item\"><div class=\"sk-estimator sk-toggleable\"><input class=\"sk-toggleable__control sk-hidden--visually\" id=\"sk-estimator-id-3\" type=\"checkbox\" ><label for=\"sk-estimator-id-3\" class=\"sk-toggleable__label sk-toggleable__label-arrow\">LogisticRegression</label><div class=\"sk-toggleable__content\"><pre>LogisticRegression()</pre></div></div></div></div></div></div></div>"
      ],
      "text/plain": [
       "Pipeline(steps=[('scale', StandardScaler()), ('model', LogisticRegression())])"
      ]
     },
     "execution_count": 34,
     "metadata": {},
     "output_type": "execute_result"
    }
   ],
   "source": [
    "model.fit(X_train, y_train.values.ravel())"
   ]
  },
  {
   "cell_type": "code",
   "execution_count": 35,
   "id": "6e15e313",
   "metadata": {
    "execution": {
     "iopub.execute_input": "2025-08-19T18:31:06.550827Z",
     "iopub.status.busy": "2025-08-19T18:31:06.549827Z",
     "iopub.status.idle": "2025-08-19T18:31:06.783163Z",
     "shell.execute_reply": "2025-08-19T18:31:06.781553Z"
    },
    "papermill": {
     "duration": 0.250409,
     "end_time": "2025-08-19T18:31:06.786840",
     "exception": false,
     "start_time": "2025-08-19T18:31:06.536431",
     "status": "completed"
    },
    "tags": []
   },
   "outputs": [
    {
     "data": {
      "text/plain": [
       "0.8570059079255379"
      ]
     },
     "execution_count": 35,
     "metadata": {},
     "output_type": "execute_result"
    }
   ],
   "source": [
    "from fairness_multiverse.universe import predict_w_threshold\n",
    "\n",
    "probs_test = model.predict_proba(X_test)\n",
    "\n",
    "'''\n",
    "Below code returns a boolean array (or binary 0/1 array depending on how it’s used) where each element \n",
    "is True if the probability of class 1 is greater than or equal to the threshold, and False otherwise.\n",
    "'''\n",
    "y_pred_default = predict_w_threshold(probs_test, 0.5)\n",
    "\n",
    "from sklearn.metrics import accuracy_score\n",
    "\n",
    "# Naive prediction\n",
    "accuracy_score(y_true = y_true, y_pred = y_pred_default)"
   ]
  },
  {
   "cell_type": "code",
   "execution_count": 36,
   "id": "6f14067c",
   "metadata": {
    "execution": {
     "iopub.execute_input": "2025-08-19T18:31:06.860661Z",
     "iopub.status.busy": "2025-08-19T18:31:06.853977Z",
     "iopub.status.idle": "2025-08-19T18:31:07.053202Z",
     "shell.execute_reply": "2025-08-19T18:31:07.052451Z"
    },
    "papermill": {
     "duration": 0.229003,
     "end_time": "2025-08-19T18:31:07.054356",
     "exception": false,
     "start_time": "2025-08-19T18:31:06.825353",
     "status": "completed"
    },
    "tags": []
   },
   "outputs": [
    {
     "data": {
      "text/plain": [
       "array([0, 0, 0, ..., 0, 0, 0])"
      ]
     },
     "execution_count": 36,
     "metadata": {},
     "output_type": "execute_result"
    }
   ],
   "source": [
    "model.predict(X_test)"
   ]
  },
  {
   "cell_type": "markdown",
   "id": "3759920c",
   "metadata": {
    "papermill": {
     "duration": 0.011203,
     "end_time": "2025-08-19T18:31:07.077111",
     "exception": false,
     "start_time": "2025-08-19T18:31:07.065908",
     "status": "completed"
    },
    "tags": []
   },
   "source": [
    "# Conformal Prediction"
   ]
  },
  {
   "cell_type": "code",
   "execution_count": 37,
   "id": "14b27f59",
   "metadata": {
    "execution": {
     "iopub.execute_input": "2025-08-19T18:31:07.100990Z",
     "iopub.status.busy": "2025-08-19T18:31:07.100149Z",
     "iopub.status.idle": "2025-08-19T18:31:07.105031Z",
     "shell.execute_reply": "2025-08-19T18:31:07.104261Z"
    },
    "papermill": {
     "duration": 0.018366,
     "end_time": "2025-08-19T18:31:07.106329",
     "exception": false,
     "start_time": "2025-08-19T18:31:07.087963",
     "status": "completed"
    },
    "tags": []
   },
   "outputs": [],
   "source": [
    "# Miscoverage level for conformal prediction (10% allowed error rate => 90% target coverage)\n",
    "alpha = 0.1"
   ]
  },
  {
   "cell_type": "code",
   "execution_count": 38,
   "id": "59102472",
   "metadata": {
    "execution": {
     "iopub.execute_input": "2025-08-19T18:31:07.135571Z",
     "iopub.status.busy": "2025-08-19T18:31:07.134378Z",
     "iopub.status.idle": "2025-08-19T18:31:07.351166Z",
     "shell.execute_reply": "2025-08-19T18:31:07.350023Z"
    },
    "papermill": {
     "duration": 0.234376,
     "end_time": "2025-08-19T18:31:07.354604",
     "exception": false,
     "start_time": "2025-08-19T18:31:07.120228",
     "status": "completed"
    },
    "tags": []
   },
   "outputs": [],
   "source": [
    "probs_calib = model.predict_proba(X_calib)"
   ]
  },
  {
   "cell_type": "code",
   "execution_count": 39,
   "id": "a792d4dd",
   "metadata": {
    "execution": {
     "iopub.execute_input": "2025-08-19T18:31:07.379407Z",
     "iopub.status.busy": "2025-08-19T18:31:07.378906Z",
     "iopub.status.idle": "2025-08-19T18:31:07.384142Z",
     "shell.execute_reply": "2025-08-19T18:31:07.383426Z"
    },
    "papermill": {
     "duration": 0.019208,
     "end_time": "2025-08-19T18:31:07.385489",
     "exception": false,
     "start_time": "2025-08-19T18:31:07.366281",
     "status": "completed"
    },
    "tags": []
   },
   "outputs": [],
   "source": [
    "y_calib = y_calib.values.ravel().astype(int)"
   ]
  },
  {
   "cell_type": "code",
   "execution_count": 40,
   "id": "650fd033",
   "metadata": {
    "execution": {
     "iopub.execute_input": "2025-08-19T18:31:07.411099Z",
     "iopub.status.busy": "2025-08-19T18:31:07.410241Z",
     "iopub.status.idle": "2025-08-19T18:31:07.422374Z",
     "shell.execute_reply": "2025-08-19T18:31:07.421529Z"
    },
    "papermill": {
     "duration": 0.027144,
     "end_time": "2025-08-19T18:31:07.424109",
     "exception": false,
     "start_time": "2025-08-19T18:31:07.396965",
     "status": "completed"
    },
    "tags": []
   },
   "outputs": [],
   "source": [
    "from fairness_multiverse.conformal import compute_nc_scores\n",
    "\n",
    "# Compute nonconformity scores on calibration set (1 - probability of true class)\n",
    "nc_scores = compute_nc_scores(probs_calib, y_calib)"
   ]
  },
  {
   "cell_type": "code",
   "execution_count": 41,
   "id": "28ada44c",
   "metadata": {
    "execution": {
     "iopub.execute_input": "2025-08-19T18:31:07.450798Z",
     "iopub.status.busy": "2025-08-19T18:31:07.450343Z",
     "iopub.status.idle": "2025-08-19T18:31:07.458216Z",
     "shell.execute_reply": "2025-08-19T18:31:07.457244Z"
    },
    "papermill": {
     "duration": 0.021963,
     "end_time": "2025-08-19T18:31:07.459796",
     "exception": false,
     "start_time": "2025-08-19T18:31:07.437833",
     "status": "completed"
    },
    "tags": []
   },
   "outputs": [],
   "source": [
    "from fairness_multiverse.conformal import find_threshold\n",
    "\n",
    "# Find conformal threshold q_hat for the given alpha (split conformal method)\n",
    "q_hat = find_threshold(nc_scores, alpha)"
   ]
  },
  {
   "cell_type": "code",
   "execution_count": 42,
   "id": "df56469e",
   "metadata": {
    "execution": {
     "iopub.execute_input": "2025-08-19T18:31:07.485248Z",
     "iopub.status.busy": "2025-08-19T18:31:07.484812Z",
     "iopub.status.idle": "2025-08-19T18:31:07.498962Z",
     "shell.execute_reply": "2025-08-19T18:31:07.498226Z"
    },
    "papermill": {
     "duration": 0.027975,
     "end_time": "2025-08-19T18:31:07.500790",
     "exception": false,
     "start_time": "2025-08-19T18:31:07.472815",
     "status": "completed"
    },
    "tags": []
   },
   "outputs": [
    {
     "data": {
      "text/plain": [
       "0.686221392703525"
      ]
     },
     "execution_count": 42,
     "metadata": {},
     "output_type": "execute_result"
    }
   ],
   "source": [
    "q_hat"
   ]
  },
  {
   "cell_type": "code",
   "execution_count": 43,
   "id": "aa1f5faa",
   "metadata": {
    "execution": {
     "iopub.execute_input": "2025-08-19T18:31:07.524575Z",
     "iopub.status.busy": "2025-08-19T18:31:07.524128Z",
     "iopub.status.idle": "2025-08-19T18:31:08.141848Z",
     "shell.execute_reply": "2025-08-19T18:31:08.138760Z"
    },
    "papermill": {
     "duration": 0.631582,
     "end_time": "2025-08-19T18:31:08.143779",
     "exception": false,
     "start_time": "2025-08-19T18:31:07.512197",
     "status": "completed"
    },
    "tags": []
   },
   "outputs": [],
   "source": [
    "from fairness_multiverse.conformal import predict_conformal_sets\n",
    "\n",
    "# Generate prediction sets for each test example\n",
    "pred_sets = predict_conformal_sets(model, X_test, q_hat)"
   ]
  },
  {
   "cell_type": "code",
   "execution_count": 44,
   "id": "97f67a6b",
   "metadata": {
    "execution": {
     "iopub.execute_input": "2025-08-19T18:31:08.170481Z",
     "iopub.status.busy": "2025-08-19T18:31:08.169194Z",
     "iopub.status.idle": "2025-08-19T18:31:08.177557Z",
     "shell.execute_reply": "2025-08-19T18:31:08.176445Z"
    },
    "papermill": {
     "duration": 0.022716,
     "end_time": "2025-08-19T18:31:08.178976",
     "exception": false,
     "start_time": "2025-08-19T18:31:08.156260",
     "status": "completed"
    },
    "tags": []
   },
   "outputs": [],
   "source": [
    "y_true = y_true.squeeze()"
   ]
  },
  {
   "cell_type": "code",
   "execution_count": 45,
   "id": "e700e9a7",
   "metadata": {
    "execution": {
     "iopub.execute_input": "2025-08-19T18:31:08.210768Z",
     "iopub.status.busy": "2025-08-19T18:31:08.209392Z",
     "iopub.status.idle": "2025-08-19T18:31:08.714958Z",
     "shell.execute_reply": "2025-08-19T18:31:08.713250Z"
    },
    "papermill": {
     "duration": 0.524864,
     "end_time": "2025-08-19T18:31:08.716902",
     "exception": false,
     "start_time": "2025-08-19T18:31:08.192038",
     "status": "completed"
    },
    "tags": []
   },
   "outputs": [],
   "source": [
    "from fairness_multiverse.conformal import evaluate_sets\n",
    "\n",
    "# Evaluate coverage and average set size on test data\n",
    "metrics = evaluate_sets(pred_sets, y_true)"
   ]
  },
  {
   "cell_type": "markdown",
   "id": "efbacec0",
   "metadata": {
    "papermill": {
     "duration": 0.012095,
     "end_time": "2025-08-19T18:31:08.741846",
     "exception": false,
     "start_time": "2025-08-19T18:31:08.729751",
     "status": "completed"
    },
    "tags": []
   },
   "source": [
    "# CP Metrics"
   ]
  },
  {
   "cell_type": "code",
   "execution_count": 46,
   "id": "9de55fb1",
   "metadata": {
    "execution": {
     "iopub.execute_input": "2025-08-19T18:31:08.771703Z",
     "iopub.status.busy": "2025-08-19T18:31:08.769916Z",
     "iopub.status.idle": "2025-08-19T18:31:08.785912Z",
     "shell.execute_reply": "2025-08-19T18:31:08.782259Z"
    },
    "papermill": {
     "duration": 0.035443,
     "end_time": "2025-08-19T18:31:08.789069",
     "exception": false,
     "start_time": "2025-08-19T18:31:08.753626",
     "status": "completed"
    },
    "tags": []
   },
   "outputs": [
    {
     "data": {
      "text/plain": [
       "{'coverage': 0.9110355590235202, 'avg_size': 1.1378441645301527}"
      ]
     },
     "execution_count": 46,
     "metadata": {},
     "output_type": "execute_result"
    }
   ],
   "source": [
    "metrics"
   ]
  },
  {
   "cell_type": "code",
   "execution_count": 47,
   "id": "64c340a1",
   "metadata": {
    "execution": {
     "iopub.execute_input": "2025-08-19T18:31:08.825089Z",
     "iopub.status.busy": "2025-08-19T18:31:08.823189Z",
     "iopub.status.idle": "2025-08-19T18:31:08.836875Z",
     "shell.execute_reply": "2025-08-19T18:31:08.835328Z"
    },
    "papermill": {
     "duration": 0.031179,
     "end_time": "2025-08-19T18:31:08.840462",
     "exception": false,
     "start_time": "2025-08-19T18:31:08.809283",
     "status": "completed"
    },
    "tags": []
   },
   "outputs": [],
   "source": [
    "example_universe = universe.copy()\n",
    "universe_training_year = example_universe.get(\"training_year\")\n",
    "universe_training_size = example_universe.get(\"training_size\")\n",
    "universe_scale = example_universe.get(\"scale\")\n",
    "universe_model = example_universe.get(\"model\")\n",
    "universe_exclude_features = example_universe.get(\"exclude_features\")\n",
    "universe_exclude_subgroups = example_universe.get(\"exclude_subgroups\")"
   ]
  },
  {
   "cell_type": "code",
   "execution_count": 48,
   "id": "dbb53cb4",
   "metadata": {
    "execution": {
     "iopub.execute_input": "2025-08-19T18:31:08.887286Z",
     "iopub.status.busy": "2025-08-19T18:31:08.885544Z",
     "iopub.status.idle": "2025-08-19T18:31:08.898062Z",
     "shell.execute_reply": "2025-08-19T18:31:08.896741Z"
    },
    "papermill": {
     "duration": 0.037133,
     "end_time": "2025-08-19T18:31:08.899714",
     "exception": false,
     "start_time": "2025-08-19T18:31:08.862581",
     "status": "completed"
    },
    "tags": []
   },
   "outputs": [],
   "source": [
    "cp_metrics_dict = {\n",
    "    \"universe_id\": [universe_id],\n",
    "    \"universe_training_year\": [universe_training_year],\n",
    "    \"universe_training_size\": [universe_training_size],\n",
    "    \"universe_scale\": [universe_scale],\n",
    "    \"universe_model\": [universe_model],\n",
    "    \"universe_exclude_features\": [universe_exclude_features],\n",
    "    \"universe_exclude_subgroups\": [universe_exclude_subgroups],\n",
    "    \"q_hat\": [q_hat],\n",
    "    \"coverage\": [metrics[\"coverage\"]],\n",
    "    \"avg_size\": [metrics[\"avg_size\"]],\n",
    "}"
   ]
  },
  {
   "cell_type": "code",
   "execution_count": 49,
   "id": "0d70d4b2",
   "metadata": {
    "execution": {
     "iopub.execute_input": "2025-08-19T18:31:08.929736Z",
     "iopub.status.busy": "2025-08-19T18:31:08.928652Z",
     "iopub.status.idle": "2025-08-19T18:31:08.947345Z",
     "shell.execute_reply": "2025-08-19T18:31:08.946068Z"
    },
    "papermill": {
     "duration": 0.03365,
     "end_time": "2025-08-19T18:31:08.948744",
     "exception": false,
     "start_time": "2025-08-19T18:31:08.915094",
     "status": "completed"
    },
    "tags": []
   },
   "outputs": [],
   "source": [
    "cp_metrics_df = pd.DataFrame(cp_metrics_dict)"
   ]
  },
  {
   "cell_type": "code",
   "execution_count": 50,
   "id": "b494403c",
   "metadata": {
    "execution": {
     "iopub.execute_input": "2025-08-19T18:31:08.980574Z",
     "iopub.status.busy": "2025-08-19T18:31:08.978537Z",
     "iopub.status.idle": "2025-08-19T18:31:09.004978Z",
     "shell.execute_reply": "2025-08-19T18:31:09.004135Z"
    },
    "papermill": {
     "duration": 0.059865,
     "end_time": "2025-08-19T18:31:09.023795",
     "exception": false,
     "start_time": "2025-08-19T18:31:08.963930",
     "status": "completed"
    },
    "tags": []
   },
   "outputs": [
    {
     "data": {
      "text/html": [
       "<div>\n",
       "<style scoped>\n",
       "    .dataframe tbody tr th:only-of-type {\n",
       "        vertical-align: middle;\n",
       "    }\n",
       "\n",
       "    .dataframe tbody tr th {\n",
       "        vertical-align: top;\n",
       "    }\n",
       "\n",
       "    .dataframe thead th {\n",
       "        text-align: right;\n",
       "    }\n",
       "</style>\n",
       "<table border=\"1\" class=\"dataframe\">\n",
       "  <thead>\n",
       "    <tr style=\"text-align: right;\">\n",
       "      <th></th>\n",
       "      <th>universe_id</th>\n",
       "      <th>universe_training_year</th>\n",
       "      <th>universe_training_size</th>\n",
       "      <th>universe_scale</th>\n",
       "      <th>universe_model</th>\n",
       "      <th>universe_exclude_features</th>\n",
       "      <th>universe_exclude_subgroups</th>\n",
       "      <th>q_hat</th>\n",
       "      <th>coverage</th>\n",
       "      <th>avg_size</th>\n",
       "    </tr>\n",
       "  </thead>\n",
       "  <tbody>\n",
       "    <tr>\n",
       "      <th>0</th>\n",
       "      <td>0586f340c9e88a07e5d57cb2c6d340d2</td>\n",
       "      <td>2012_14</td>\n",
       "      <td>5k</td>\n",
       "      <td>scale</td>\n",
       "      <td>logreg</td>\n",
       "      <td>none</td>\n",
       "      <td>keep-all</td>\n",
       "      <td>0.686221</td>\n",
       "      <td>0.911036</td>\n",
       "      <td>1.137844</td>\n",
       "    </tr>\n",
       "  </tbody>\n",
       "</table>\n",
       "</div>"
      ],
      "text/plain": [
       "                        universe_id universe_training_year  \\\n",
       "0  0586f340c9e88a07e5d57cb2c6d340d2                2012_14   \n",
       "\n",
       "  universe_training_size universe_scale universe_model  \\\n",
       "0                     5k          scale         logreg   \n",
       "\n",
       "  universe_exclude_features universe_exclude_subgroups     q_hat  coverage  \\\n",
       "0                      none                   keep-all  0.686221  0.911036   \n",
       "\n",
       "   avg_size  \n",
       "0  1.137844  "
      ]
     },
     "execution_count": 50,
     "metadata": {},
     "output_type": "execute_result"
    }
   ],
   "source": [
    "cp_metrics_df"
   ]
  },
  {
   "cell_type": "markdown",
   "id": "ed608b0b",
   "metadata": {
    "papermill": {
     "duration": 0.012869,
     "end_time": "2025-08-19T18:31:09.049386",
     "exception": false,
     "start_time": "2025-08-19T18:31:09.036517",
     "status": "completed"
    },
    "tags": []
   },
   "source": [
    "Conditional coverage & looking at subgroups"
   ]
  },
  {
   "cell_type": "code",
   "execution_count": 51,
   "id": "8968c366",
   "metadata": {
    "execution": {
     "iopub.execute_input": "2025-08-19T18:31:09.074825Z",
     "iopub.status.busy": "2025-08-19T18:31:09.074261Z",
     "iopub.status.idle": "2025-08-19T18:31:09.368573Z",
     "shell.execute_reply": "2025-08-19T18:31:09.367727Z"
    },
    "papermill": {
     "duration": 0.310069,
     "end_time": "2025-08-19T18:31:09.371449",
     "exception": false,
     "start_time": "2025-08-19T18:31:09.061380",
     "status": "completed"
    },
    "tags": []
   },
   "outputs": [],
   "source": [
    "from fairness_multiverse.conformal import build_cp_groups\n",
    "\n",
    "cp_groups_df = build_cp_groups(pred_sets, y_true, X_test.index, org_test)"
   ]
  },
  {
   "cell_type": "code",
   "execution_count": 52,
   "id": "292ddabf",
   "metadata": {
    "execution": {
     "iopub.execute_input": "2025-08-19T18:31:09.415749Z",
     "iopub.status.busy": "2025-08-19T18:31:09.414797Z",
     "iopub.status.idle": "2025-08-19T18:31:10.310607Z",
     "shell.execute_reply": "2025-08-19T18:31:10.309508Z"
    },
    "papermill": {
     "duration": 0.912841,
     "end_time": "2025-08-19T18:31:10.312069",
     "exception": false,
     "start_time": "2025-08-19T18:31:09.399228",
     "status": "completed"
    },
    "tags": []
   },
   "outputs": [],
   "source": [
    "# Define covered = 1 if true_label is in the predicted set\n",
    "cp_groups_df['covered'] = cp_groups_df.apply(\n",
    "    lambda r: int(r['true_label'] in r['pred_set']),\n",
    "    axis=1\n",
    ")"
   ]
  },
  {
   "cell_type": "code",
   "execution_count": 53,
   "id": "3a261692",
   "metadata": {
    "execution": {
     "iopub.execute_input": "2025-08-19T18:31:10.353361Z",
     "iopub.status.busy": "2025-08-19T18:31:10.351461Z",
     "iopub.status.idle": "2025-08-19T18:31:10.374292Z",
     "shell.execute_reply": "2025-08-19T18:31:10.373482Z"
    },
    "papermill": {
     "duration": 0.048894,
     "end_time": "2025-08-19T18:31:10.375763",
     "exception": false,
     "start_time": "2025-08-19T18:31:10.326869",
     "status": "completed"
    },
    "tags": []
   },
   "outputs": [],
   "source": [
    "subgroups = ['frau1','nongerman','nongerman_male','nongerman_female']\n",
    "\n",
    "# Conditional coverage for subgroup==1\n",
    "cond_coverage = {\n",
    "    g: cp_groups_df.loc[cp_groups_df[g]==1, 'covered'].mean()\n",
    "    for g in subgroups\n",
    "}"
   ]
  },
  {
   "cell_type": "code",
   "execution_count": 54,
   "id": "894fd600",
   "metadata": {
    "execution": {
     "iopub.execute_input": "2025-08-19T18:31:10.409750Z",
     "iopub.status.busy": "2025-08-19T18:31:10.408656Z",
     "iopub.status.idle": "2025-08-19T18:31:10.420870Z",
     "shell.execute_reply": "2025-08-19T18:31:10.419189Z"
    },
    "papermill": {
     "duration": 0.028354,
     "end_time": "2025-08-19T18:31:10.422411",
     "exception": false,
     "start_time": "2025-08-19T18:31:10.394057",
     "status": "completed"
    },
    "tags": []
   },
   "outputs": [
    {
     "data": {
      "text/plain": [
       "{'frau1': 0.9058363660870737,\n",
       " 'nongerman': 0.9129287598944591,\n",
       " 'nongerman_male': 0.9300189138070791,\n",
       " 'nongerman_female': 0.8846497764530551}"
      ]
     },
     "execution_count": 54,
     "metadata": {},
     "output_type": "execute_result"
    }
   ],
   "source": [
    "cond_coverage"
   ]
  },
  {
   "cell_type": "code",
   "execution_count": 55,
   "id": "942895c7",
   "metadata": {
    "execution": {
     "iopub.execute_input": "2025-08-19T18:31:10.462130Z",
     "iopub.status.busy": "2025-08-19T18:31:10.457793Z",
     "iopub.status.idle": "2025-08-19T18:31:10.474979Z",
     "shell.execute_reply": "2025-08-19T18:31:10.473094Z"
    },
    "papermill": {
     "duration": 0.035165,
     "end_time": "2025-08-19T18:31:10.476438",
     "exception": false,
     "start_time": "2025-08-19T18:31:10.441273",
     "status": "completed"
    },
    "tags": []
   },
   "outputs": [],
   "source": [
    "for subgroup, cov in cond_coverage.items():\n",
    "    cp_metrics_df[f\"cov_{subgroup}\"] = cov"
   ]
  },
  {
   "cell_type": "code",
   "execution_count": 56,
   "id": "3970120f",
   "metadata": {
    "execution": {
     "iopub.execute_input": "2025-08-19T18:31:10.510615Z",
     "iopub.status.busy": "2025-08-19T18:31:10.509856Z",
     "iopub.status.idle": "2025-08-19T18:31:10.531911Z",
     "shell.execute_reply": "2025-08-19T18:31:10.531174Z"
    },
    "papermill": {
     "duration": 0.037731,
     "end_time": "2025-08-19T18:31:10.533809",
     "exception": false,
     "start_time": "2025-08-19T18:31:10.496078",
     "status": "completed"
    },
    "tags": []
   },
   "outputs": [
    {
     "data": {
      "text/html": [
       "<div>\n",
       "<style scoped>\n",
       "    .dataframe tbody tr th:only-of-type {\n",
       "        vertical-align: middle;\n",
       "    }\n",
       "\n",
       "    .dataframe tbody tr th {\n",
       "        vertical-align: top;\n",
       "    }\n",
       "\n",
       "    .dataframe thead th {\n",
       "        text-align: right;\n",
       "    }\n",
       "</style>\n",
       "<table border=\"1\" class=\"dataframe\">\n",
       "  <thead>\n",
       "    <tr style=\"text-align: right;\">\n",
       "      <th></th>\n",
       "      <th>universe_id</th>\n",
       "      <th>universe_training_year</th>\n",
       "      <th>universe_training_size</th>\n",
       "      <th>universe_scale</th>\n",
       "      <th>universe_model</th>\n",
       "      <th>universe_exclude_features</th>\n",
       "      <th>universe_exclude_subgroups</th>\n",
       "      <th>q_hat</th>\n",
       "      <th>coverage</th>\n",
       "      <th>avg_size</th>\n",
       "      <th>cov_frau1</th>\n",
       "      <th>cov_nongerman</th>\n",
       "      <th>cov_nongerman_male</th>\n",
       "      <th>cov_nongerman_female</th>\n",
       "    </tr>\n",
       "  </thead>\n",
       "  <tbody>\n",
       "    <tr>\n",
       "      <th>0</th>\n",
       "      <td>0586f340c9e88a07e5d57cb2c6d340d2</td>\n",
       "      <td>2012_14</td>\n",
       "      <td>5k</td>\n",
       "      <td>scale</td>\n",
       "      <td>logreg</td>\n",
       "      <td>none</td>\n",
       "      <td>keep-all</td>\n",
       "      <td>0.686221</td>\n",
       "      <td>0.911036</td>\n",
       "      <td>1.137844</td>\n",
       "      <td>0.905836</td>\n",
       "      <td>0.912929</td>\n",
       "      <td>0.930019</td>\n",
       "      <td>0.88465</td>\n",
       "    </tr>\n",
       "  </tbody>\n",
       "</table>\n",
       "</div>"
      ],
      "text/plain": [
       "                        universe_id universe_training_year  \\\n",
       "0  0586f340c9e88a07e5d57cb2c6d340d2                2012_14   \n",
       "\n",
       "  universe_training_size universe_scale universe_model  \\\n",
       "0                     5k          scale         logreg   \n",
       "\n",
       "  universe_exclude_features universe_exclude_subgroups     q_hat  coverage  \\\n",
       "0                      none                   keep-all  0.686221  0.911036   \n",
       "\n",
       "   avg_size  cov_frau1  cov_nongerman  cov_nongerman_male  \\\n",
       "0  1.137844   0.905836       0.912929            0.930019   \n",
       "\n",
       "   cov_nongerman_female  \n",
       "0               0.88465  "
      ]
     },
     "execution_count": 56,
     "metadata": {},
     "output_type": "execute_result"
    }
   ],
   "source": [
    "cp_metrics_df"
   ]
  },
  {
   "cell_type": "markdown",
   "id": "3fc519cc",
   "metadata": {
    "papermill": {
     "duration": 0.013331,
     "end_time": "2025-08-19T18:31:10.568792",
     "exception": false,
     "start_time": "2025-08-19T18:31:10.555461",
     "status": "completed"
    },
    "tags": []
   },
   "source": [
    "# (Fairness) Metrics"
   ]
  },
  {
   "cell_type": "code",
   "execution_count": 57,
   "id": "a2e5e155",
   "metadata": {
    "execution": {
     "iopub.execute_input": "2025-08-19T18:31:10.595820Z",
     "iopub.status.busy": "2025-08-19T18:31:10.595331Z",
     "iopub.status.idle": "2025-08-19T18:31:10.611865Z",
     "shell.execute_reply": "2025-08-19T18:31:10.610701Z"
    },
    "papermill": {
     "duration": 0.032059,
     "end_time": "2025-08-19T18:31:10.613466",
     "exception": false,
     "start_time": "2025-08-19T18:31:10.581407",
     "status": "completed"
    },
    "tags": []
   },
   "outputs": [],
   "source": [
    "colname_to_bin = \"maxdeutsch1\"\n",
    "majority_value = org_train[colname_to_bin].mode()[0]\n",
    "\n",
    "org_test[\"majmin\"] = np.where(org_test[colname_to_bin] == majority_value, \"majority\", \"minority\")"
   ]
  },
  {
   "cell_type": "code",
   "execution_count": 58,
   "id": "17e3e4d5",
   "metadata": {
    "execution": {
     "iopub.execute_input": "2025-08-19T18:31:10.648326Z",
     "iopub.status.busy": "2025-08-19T18:31:10.647377Z",
     "iopub.status.idle": "2025-08-19T18:31:12.458854Z",
     "shell.execute_reply": "2025-08-19T18:31:12.457305Z"
    },
    "papermill": {
     "duration": 1.828566,
     "end_time": "2025-08-19T18:31:12.460769",
     "exception": false,
     "start_time": "2025-08-19T18:31:10.632203",
     "status": "completed"
    },
    "tags": []
   },
   "outputs": [],
   "source": [
    "example_universe = universe.copy()\n",
    "example_universe[\"cutoff\"] = example_universe[\"cutoff\"][0]\n",
    "example_universe[\"eval_fairness_grouping\"] = example_universe[\"eval_fairness_grouping\"][0]\n",
    "fairness_dict, metric_frame = universe_analysis.compute_metrics(\n",
    "    example_universe,\n",
    "    y_pred_prob=probs_test,\n",
    "    y_test=y_true,\n",
    "    org_test=org_test,\n",
    ")"
   ]
  },
  {
   "cell_type": "markdown",
   "id": "1fb7a0e9",
   "metadata": {
    "papermill": {
     "duration": 0.012424,
     "end_time": "2025-08-19T18:31:12.490418",
     "exception": false,
     "start_time": "2025-08-19T18:31:12.477994",
     "status": "completed"
    },
    "tags": []
   },
   "source": [
    "# Overall"
   ]
  },
  {
   "cell_type": "markdown",
   "id": "be1784b1",
   "metadata": {
    "papermill": {
     "duration": 0.011981,
     "end_time": "2025-08-19T18:31:12.514590",
     "exception": false,
     "start_time": "2025-08-19T18:31:12.502609",
     "status": "completed"
    },
    "tags": []
   },
   "source": [
    "Main fairness target: Equalized Odds. Seems to be a better fit than equal opportunity, since we're not only interested in Y = 1. Seems to be a better fit than demographic parity, since we also care about accuracy, not just equal distribution of preds.\n",
    "\n",
    "Pick column for computation of fairness metrics\n",
    "\n",
    "Performance\n",
    "Overall performance measures, most interesting in relation to the measures split by group below"
   ]
  },
  {
   "cell_type": "code",
   "execution_count": 59,
   "id": "b7672bee",
   "metadata": {
    "execution": {
     "iopub.execute_input": "2025-08-19T18:31:12.543100Z",
     "iopub.status.busy": "2025-08-19T18:31:12.542529Z",
     "iopub.status.idle": "2025-08-19T18:31:12.552043Z",
     "shell.execute_reply": "2025-08-19T18:31:12.551256Z"
    },
    "papermill": {
     "duration": 0.025855,
     "end_time": "2025-08-19T18:31:12.553581",
     "exception": false,
     "start_time": "2025-08-19T18:31:12.527726",
     "status": "completed"
    },
    "tags": []
   },
   "outputs": [
    {
     "data": {
      "text/plain": [
       "accuracy                   0.224044\n",
       "balanced accuracy          0.547888\n",
       "f1                         0.245385\n",
       "precision                  0.140180\n",
       "false positive rate        0.887714\n",
       "false negative rate        0.016510\n",
       "selection rate             0.900000\n",
       "count                  89710.000000\n",
       "dtype: float64"
      ]
     },
     "execution_count": 59,
     "metadata": {},
     "output_type": "execute_result"
    }
   ],
   "source": [
    "metric_frame.overall"
   ]
  },
  {
   "cell_type": "markdown",
   "id": "d93333c9",
   "metadata": {
    "papermill": {
     "duration": 0.013649,
     "end_time": "2025-08-19T18:31:12.582053",
     "exception": false,
     "start_time": "2025-08-19T18:31:12.568404",
     "status": "completed"
    },
    "tags": []
   },
   "source": [
    "By Group"
   ]
  },
  {
   "cell_type": "code",
   "execution_count": 60,
   "id": "52256966",
   "metadata": {
    "execution": {
     "iopub.execute_input": "2025-08-19T18:31:12.640971Z",
     "iopub.status.busy": "2025-08-19T18:31:12.640574Z",
     "iopub.status.idle": "2025-08-19T18:31:12.652980Z",
     "shell.execute_reply": "2025-08-19T18:31:12.652174Z"
    },
    "papermill": {
     "duration": 0.045707,
     "end_time": "2025-08-19T18:31:12.654859",
     "exception": false,
     "start_time": "2025-08-19T18:31:12.609152",
     "status": "completed"
    },
    "tags": []
   },
   "outputs": [
    {
     "data": {
      "text/html": [
       "<div>\n",
       "<style scoped>\n",
       "    .dataframe tbody tr th:only-of-type {\n",
       "        vertical-align: middle;\n",
       "    }\n",
       "\n",
       "    .dataframe tbody tr th {\n",
       "        vertical-align: top;\n",
       "    }\n",
       "\n",
       "    .dataframe thead th {\n",
       "        text-align: right;\n",
       "    }\n",
       "</style>\n",
       "<table border=\"1\" class=\"dataframe\">\n",
       "  <thead>\n",
       "    <tr style=\"text-align: right;\">\n",
       "      <th></th>\n",
       "      <th>accuracy</th>\n",
       "      <th>balanced accuracy</th>\n",
       "      <th>f1</th>\n",
       "      <th>precision</th>\n",
       "      <th>false positive rate</th>\n",
       "      <th>false negative rate</th>\n",
       "      <th>selection rate</th>\n",
       "      <th>count</th>\n",
       "    </tr>\n",
       "    <tr>\n",
       "      <th>majmin</th>\n",
       "      <th></th>\n",
       "      <th></th>\n",
       "      <th></th>\n",
       "      <th></th>\n",
       "      <th></th>\n",
       "      <th></th>\n",
       "      <th></th>\n",
       "      <th></th>\n",
       "    </tr>\n",
       "  </thead>\n",
       "  <tbody>\n",
       "    <tr>\n",
       "      <th>majority</th>\n",
       "      <td>0.246957</td>\n",
       "      <td>0.558174</td>\n",
       "      <td>0.256141</td>\n",
       "      <td>0.147296</td>\n",
       "      <td>0.864834</td>\n",
       "      <td>0.018818</td>\n",
       "      <td>0.880208</td>\n",
       "      <td>69170.0</td>\n",
       "    </tr>\n",
       "    <tr>\n",
       "      <th>minority</th>\n",
       "      <td>0.146884</td>\n",
       "      <td>0.514552</td>\n",
       "      <td>0.211493</td>\n",
       "      <td>0.118358</td>\n",
       "      <td>0.963295</td>\n",
       "      <td>0.007601</td>\n",
       "      <td>0.966650</td>\n",
       "      <td>20540.0</td>\n",
       "    </tr>\n",
       "  </tbody>\n",
       "</table>\n",
       "</div>"
      ],
      "text/plain": [
       "          accuracy  balanced accuracy        f1  precision  \\\n",
       "majmin                                                       \n",
       "majority  0.246957           0.558174  0.256141   0.147296   \n",
       "minority  0.146884           0.514552  0.211493   0.118358   \n",
       "\n",
       "          false positive rate  false negative rate  selection rate    count  \n",
       "majmin                                                                       \n",
       "majority             0.864834             0.018818        0.880208  69170.0  \n",
       "minority             0.963295             0.007601        0.966650  20540.0  "
      ]
     },
     "execution_count": 60,
     "metadata": {},
     "output_type": "execute_result"
    }
   ],
   "source": [
    "metric_frame.by_group"
   ]
  },
  {
   "cell_type": "code",
   "execution_count": 61,
   "id": "6e6c20ae",
   "metadata": {
    "execution": {
     "iopub.execute_input": "2025-08-19T18:31:12.689821Z",
     "iopub.status.busy": "2025-08-19T18:31:12.687402Z",
     "iopub.status.idle": "2025-08-19T18:31:14.474481Z",
     "shell.execute_reply": "2025-08-19T18:31:14.473392Z"
    },
    "papermill": {
     "duration": 1.802643,
     "end_time": "2025-08-19T18:31:14.476009",
     "exception": false,
     "start_time": "2025-08-19T18:31:12.673366",
     "status": "completed"
    },
    "tags": []
   },
   "outputs": [
    {
     "data": {
      "text/plain": [
       "array([[<Axes: title={'center': 'accuracy'}, xlabel='majmin'>,\n",
       "        <Axes: title={'center': 'balanced accuracy'}, xlabel='majmin'>,\n",
       "        <Axes: title={'center': 'f1'}, xlabel='majmin'>],\n",
       "       [<Axes: title={'center': 'precision'}, xlabel='majmin'>,\n",
       "        <Axes: title={'center': 'false positive rate'}, xlabel='majmin'>,\n",
       "        <Axes: title={'center': 'false negative rate'}, xlabel='majmin'>],\n",
       "       [<Axes: title={'center': 'selection rate'}, xlabel='majmin'>,\n",
       "        <Axes: title={'center': 'count'}, xlabel='majmin'>,\n",
       "        <Axes: xlabel='majmin'>]], dtype=object)"
      ]
     },
     "execution_count": 61,
     "metadata": {},
     "output_type": "execute_result"
    },
    {
     "data": {
      "image/png": "[encoded data removed]",
      "text/plain": [
       "<Figure size 1200x800 with 9 Axes>"
      ]
     },
     "metadata": {},
     "output_type": "display_data"
    }
   ],
   "source": [
    "# In a graphic\n",
    "metric_frame.by_group.plot.bar(\n",
    "    subplots=True,\n",
    "    layout=[3, 3],\n",
    "    legend=False,\n",
    "    figsize=[12, 8],\n",
    "    title=\"Show all metrics\",\n",
    ")"
   ]
  },
  {
   "cell_type": "markdown",
   "id": "b2e433ae",
   "metadata": {
    "papermill": {
     "duration": 0.013269,
     "end_time": "2025-08-19T18:31:14.503707",
     "exception": false,
     "start_time": "2025-08-19T18:31:14.490438",
     "status": "completed"
    },
    "tags": []
   },
   "source": [
    "# Final Output"
   ]
  },
  {
   "cell_type": "code",
   "execution_count": 62,
   "id": "3871301e",
   "metadata": {
    "execution": {
     "iopub.execute_input": "2025-08-19T18:31:14.535415Z",
     "iopub.status.busy": "2025-08-19T18:31:14.533737Z",
     "iopub.status.idle": "2025-08-19T18:31:14.553142Z",
     "shell.execute_reply": "2025-08-19T18:31:14.552301Z"
    },
    "papermill": {
     "duration": 0.037803,
     "end_time": "2025-08-19T18:31:14.555615",
     "exception": false,
     "start_time": "2025-08-19T18:31:14.517812",
     "status": "completed"
    },
    "tags": []
   },
   "outputs": [
    {
     "data": {
      "text/plain": [
       "4"
      ]
     },
     "execution_count": 62,
     "metadata": {},
     "output_type": "execute_result"
    }
   ],
   "source": [
    "sub_universes = universe_analysis.generate_sub_universes()\n",
    "len(sub_universes)"
   ]
  },
  {
   "cell_type": "code",
   "execution_count": 63,
   "id": "d9cfdaca",
   "metadata": {
    "execution": {
     "iopub.execute_input": "2025-08-19T18:31:14.607016Z",
     "iopub.status.busy": "2025-08-19T18:31:14.606060Z",
     "iopub.status.idle": "2025-08-19T18:31:14.615349Z",
     "shell.execute_reply": "2025-08-19T18:31:14.613841Z"
    },
    "papermill": {
     "duration": 0.043064,
     "end_time": "2025-08-19T18:31:14.617449",
     "exception": false,
     "start_time": "2025-08-19T18:31:14.574385",
     "status": "completed"
    },
    "tags": []
   },
   "outputs": [],
   "source": [
    "def filter_sub_universe_data(sub_universe, org_test):\n",
    "    # Keep all rows — no filtering\n",
    "    keep_rows_mask = np.ones(org_test.shape[0], dtype=bool)\n",
    "\n",
    "    print(f\"[INFO] Keeping all rows: {keep_rows_mask.sum()} rows retained.\")\n",
    "    return keep_rows_mask"
   ]
  },
  {
   "cell_type": "code",
   "execution_count": 64,
   "id": "2bc31ac1",
   "metadata": {
    "execution": {
     "iopub.execute_input": "2025-08-19T18:31:14.659591Z",
     "iopub.status.busy": "2025-08-19T18:31:14.659199Z",
     "iopub.status.idle": "2025-08-19T18:31:21.461588Z",
     "shell.execute_reply": "2025-08-19T18:31:21.460637Z"
    },
    "papermill": {
     "duration": 6.820731,
     "end_time": "2025-08-19T18:31:21.464226",
     "exception": false,
     "start_time": "2025-08-19T18:31:14.643495",
     "status": "completed"
    },
    "tags": []
   },
   "outputs": [
    {
     "name": "stdout",
     "output_type": "stream",
     "text": [
      "Stopping execution_time clock.\n",
      "[INFO] Keeping all rows: 89710 rows retained.\n"
     ]
    },
    {
     "name": "stdout",
     "output_type": "stream",
     "text": [
      "[INFO] Keeping all rows: 89710 rows retained.\n"
     ]
    },
    {
     "name": "stdout",
     "output_type": "stream",
     "text": [
      "[INFO] Keeping all rows: 89710 rows retained.\n"
     ]
    },
    {
     "name": "stdout",
     "output_type": "stream",
     "text": [
      "[INFO] Keeping all rows: 89710 rows retained.\n"
     ]
    },
    {
     "data": {
      "text/html": [
       "<div>\n",
       "<style scoped>\n",
       "    .dataframe tbody tr th:only-of-type {\n",
       "        vertical-align: middle;\n",
       "    }\n",
       "\n",
       "    .dataframe tbody tr th {\n",
       "        vertical-align: top;\n",
       "    }\n",
       "\n",
       "    .dataframe thead th {\n",
       "        text-align: right;\n",
       "    }\n",
       "</style>\n",
       "<table border=\"1\" class=\"dataframe\">\n",
       "  <thead>\n",
       "    <tr style=\"text-align: right;\">\n",
       "      <th></th>\n",
       "      <th>run_no</th>\n",
       "      <th>universe_id</th>\n",
       "      <th>universe_settings</th>\n",
       "      <th>execution_time</th>\n",
       "      <th>test_size_n</th>\n",
       "      <th>test_size_frac</th>\n",
       "      <th>fair_main_equalized_odds_difference</th>\n",
       "      <th>fair_main_equalized_odds_ratio</th>\n",
       "      <th>fair_main_demographic_parity_difference</th>\n",
       "      <th>fair_main_demographic_parity_ratio</th>\n",
       "      <th>...</th>\n",
       "      <th>perf_grp_precision_0</th>\n",
       "      <th>perf_grp_precision_1</th>\n",
       "      <th>perf_grp_false positive rate_0</th>\n",
       "      <th>perf_grp_false positive rate_1</th>\n",
       "      <th>perf_grp_false negative rate_0</th>\n",
       "      <th>perf_grp_false negative rate_1</th>\n",
       "      <th>perf_grp_selection rate_0</th>\n",
       "      <th>perf_grp_selection rate_1</th>\n",
       "      <th>perf_grp_count_0</th>\n",
       "      <th>perf_grp_count_1</th>\n",
       "    </tr>\n",
       "  </thead>\n",
       "  <tbody>\n",
       "    <tr>\n",
       "      <th>0</th>\n",
       "      <td>3</td>\n",
       "      <td>0586f340c9e88a07e5d57cb2c6d340d2</td>\n",
       "      <td>{\"cutoff\": \"quantile_0.1\", \"eval_fairness_grou...</td>\n",
       "      <td>21.020941</td>\n",
       "      <td>89710</td>\n",
       "      <td>1.0</td>\n",
       "      <td>0.098461</td>\n",
       "      <td>0.897787</td>\n",
       "      <td>0.086442</td>\n",
       "      <td>0.910575</td>\n",
       "      <td>...</td>\n",
       "      <td>NaN</td>\n",
       "      <td>NaN</td>\n",
       "      <td>NaN</td>\n",
       "      <td>NaN</td>\n",
       "      <td>NaN</td>\n",
       "      <td>NaN</td>\n",
       "      <td>NaN</td>\n",
       "      <td>NaN</td>\n",
       "      <td>NaN</td>\n",
       "      <td>NaN</td>\n",
       "    </tr>\n",
       "    <tr>\n",
       "      <th>0</th>\n",
       "      <td>3</td>\n",
       "      <td>0586f340c9e88a07e5d57cb2c6d340d2</td>\n",
       "      <td>{\"cutoff\": \"quantile_0.1\", \"eval_fairness_grou...</td>\n",
       "      <td>21.020941</td>\n",
       "      <td>89710</td>\n",
       "      <td>1.0</td>\n",
       "      <td>0.098461</td>\n",
       "      <td>0.897787</td>\n",
       "      <td>0.086442</td>\n",
       "      <td>0.910575</td>\n",
       "      <td>...</td>\n",
       "      <td>0.118358</td>\n",
       "      <td>0.147296</td>\n",
       "      <td>0.963295</td>\n",
       "      <td>0.864834</td>\n",
       "      <td>0.007601</td>\n",
       "      <td>0.018818</td>\n",
       "      <td>0.966650</td>\n",
       "      <td>0.880208</td>\n",
       "      <td>20540.0</td>\n",
       "      <td>69170.0</td>\n",
       "    </tr>\n",
       "    <tr>\n",
       "      <th>0</th>\n",
       "      <td>3</td>\n",
       "      <td>0586f340c9e88a07e5d57cb2c6d340d2</td>\n",
       "      <td>{\"cutoff\": \"quantile_0.25\", \"eval_fairness_gro...</td>\n",
       "      <td>21.020941</td>\n",
       "      <td>89710</td>\n",
       "      <td>1.0</td>\n",
       "      <td>0.195406</td>\n",
       "      <td>0.776052</td>\n",
       "      <td>0.172387</td>\n",
       "      <td>0.804752</td>\n",
       "      <td>...</td>\n",
       "      <td>NaN</td>\n",
       "      <td>NaN</td>\n",
       "      <td>NaN</td>\n",
       "      <td>NaN</td>\n",
       "      <td>NaN</td>\n",
       "      <td>NaN</td>\n",
       "      <td>NaN</td>\n",
       "      <td>NaN</td>\n",
       "      <td>NaN</td>\n",
       "      <td>NaN</td>\n",
       "    </tr>\n",
       "    <tr>\n",
       "      <th>0</th>\n",
       "      <td>3</td>\n",
       "      <td>0586f340c9e88a07e5d57cb2c6d340d2</td>\n",
       "      <td>{\"cutoff\": \"quantile_0.25\", \"eval_fairness_gro...</td>\n",
       "      <td>21.020941</td>\n",
       "      <td>89710</td>\n",
       "      <td>1.0</td>\n",
       "      <td>0.195406</td>\n",
       "      <td>0.776052</td>\n",
       "      <td>0.172387</td>\n",
       "      <td>0.804752</td>\n",
       "      <td>...</td>\n",
       "      <td>0.125669</td>\n",
       "      <td>0.172910</td>\n",
       "      <td>0.872551</td>\n",
       "      <td>0.677145</td>\n",
       "      <td>0.037584</td>\n",
       "      <td>0.070241</td>\n",
       "      <td>0.882911</td>\n",
       "      <td>0.710525</td>\n",
       "      <td>20540.0</td>\n",
       "      <td>69170.0</td>\n",
       "    </tr>\n",
       "  </tbody>\n",
       "</table>\n",
       "<p>4 rows × 50 columns</p>\n",
       "</div>"
      ],
      "text/plain": [
       "  run_no                       universe_id  \\\n",
       "0      3  0586f340c9e88a07e5d57cb2c6d340d2   \n",
       "0      3  0586f340c9e88a07e5d57cb2c6d340d2   \n",
       "0      3  0586f340c9e88a07e5d57cb2c6d340d2   \n",
       "0      3  0586f340c9e88a07e5d57cb2c6d340d2   \n",
       "\n",
       "                                   universe_settings  execution_time  \\\n",
       "0  {\"cutoff\": \"quantile_0.1\", \"eval_fairness_grou...       21.020941   \n",
       "0  {\"cutoff\": \"quantile_0.1\", \"eval_fairness_grou...       21.020941   \n",
       "0  {\"cutoff\": \"quantile_0.25\", \"eval_fairness_gro...       21.020941   \n",
       "0  {\"cutoff\": \"quantile_0.25\", \"eval_fairness_gro...       21.020941   \n",
       "\n",
       "   test_size_n  test_size_frac  fair_main_equalized_odds_difference  \\\n",
       "0        89710             1.0                             0.098461   \n",
       "0        89710             1.0                             0.098461   \n",
       "0        89710             1.0                             0.195406   \n",
       "0        89710             1.0                             0.195406   \n",
       "\n",
       "   fair_main_equalized_odds_ratio  fair_main_demographic_parity_difference  \\\n",
       "0                        0.897787                                 0.086442   \n",
       "0                        0.897787                                 0.086442   \n",
       "0                        0.776052                                 0.172387   \n",
       "0                        0.776052                                 0.172387   \n",
       "\n",
       "   fair_main_demographic_parity_ratio  ...  perf_grp_precision_0  \\\n",
       "0                            0.910575  ...                   NaN   \n",
       "0                            0.910575  ...              0.118358   \n",
       "0                            0.804752  ...                   NaN   \n",
       "0                            0.804752  ...              0.125669   \n",
       "\n",
       "   perf_grp_precision_1  perf_grp_false positive rate_0  \\\n",
       "0                   NaN                             NaN   \n",
       "0              0.147296                        0.963295   \n",
       "0                   NaN                             NaN   \n",
       "0              0.172910                        0.872551   \n",
       "\n",
       "   perf_grp_false positive rate_1  perf_grp_false negative rate_0  \\\n",
       "0                             NaN                             NaN   \n",
       "0                        0.864834                        0.007601   \n",
       "0                             NaN                             NaN   \n",
       "0                        0.677145                        0.037584   \n",
       "\n",
       "   perf_grp_false negative rate_1  perf_grp_selection rate_0  \\\n",
       "0                             NaN                        NaN   \n",
       "0                        0.018818                   0.966650   \n",
       "0                             NaN                        NaN   \n",
       "0                        0.070241                   0.882911   \n",
       "\n",
       "   perf_grp_selection rate_1  perf_grp_count_0  perf_grp_count_1  \n",
       "0                        NaN               NaN               NaN  \n",
       "0                   0.880208           20540.0           69170.0  \n",
       "0                        NaN               NaN               NaN  \n",
       "0                   0.710525           20540.0           69170.0  \n",
       "\n",
       "[4 rows x 50 columns]"
      ]
     },
     "execution_count": 64,
     "metadata": {},
     "output_type": "execute_result"
    }
   ],
   "source": [
    "final_output = universe_analysis.generate_final_output(\n",
    "    y_pred_prob=probs_test,\n",
    "    y_test=y_true,\n",
    "    org_test=org_test,\n",
    "    filter_data=filter_sub_universe_data,\n",
    "    cp_metrics_df=cp_metrics_df,\n",
    "    save=True,\n",
    ")\n",
    "final_output"
   ]
  },
  {
   "cell_type": "code",
   "execution_count": null,
   "id": "8b80a1ff",
   "metadata": {
    "papermill": {
     "duration": 0.014415,
     "end_time": "2025-08-19T18:31:21.509797",
     "exception": false,
     "start_time": "2025-08-19T18:31:21.495382",
     "status": "completed"
    },
    "tags": []
   },
   "outputs": [],
   "source": []
  },
  {
   "cell_type": "code",
   "execution_count": null,
   "id": "275c9fad",
   "metadata": {
    "papermill": {
     "duration": 0.026307,
     "end_time": "2025-08-19T18:31:21.580849",
     "exception": false,
     "start_time": "2025-08-19T18:31:21.554542",
     "status": "completed"
    },
    "tags": []
   },
   "outputs": [],
   "source": []
  }
 ],
 "metadata": {
  "celltoolbar": "Tags",
  "kernelspec": {
   "display_name": "Python (CMA Fairness)",
   "language": "python",
   "name": "cma_fair_env"
  },
  "language_info": {
   "codemirror_mode": {
    "name": "ipython",
    "version": 3
   },
   "file_extension": ".py",
   "mimetype": "text/x-python",
   "name": "python",
   "nbconvert_exporter": "python",
   "pygments_lexer": "ipython3",
   "version": "3.10.12"
  },
  "papermill": {
   "default_parameters": {},
   "duration": 31.604825,
   "end_time": "2025-08-19T18:31:22.420026",
   "environment_variables": {},
   "exception": null,
   "input_path": "universe_analysis.ipynb",
   "output_path": "output/runs/3/notebooks/m_3-0586f340c9e88a07e5d57cb2c6d340d2.ipynb",
   "parameters": {
    "output_dir": "output",
    "run_no": "3",
    "seed": "2023",
    "universe": "{\"cutoff\": [\"quantile_0.1\", \"quantile_0.25\"], \"eval_fairness_grouping\": [\"majority-minority\", \"nationality-all\"], \"exclude_features\": \"none\", \"exclude_subgroups\": \"keep-all\", \"model\": \"logreg\", \"scale\": \"scale\", \"training_size\": \"5k\", \"training_year\": \"2012_14\"}",
    "universe_id": "0586f340c9e88a07e5d57cb2c6d340d2"
   },
   "start_time": "2025-08-19T18:30:50.815201",
   "version": "2.6.0"
  }
 },
 "nbformat": 4,
 "nbformat_minor": 5
}