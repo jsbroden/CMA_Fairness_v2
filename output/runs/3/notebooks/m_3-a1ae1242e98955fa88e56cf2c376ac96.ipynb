{
 "cells": [
  {
   "cell_type": "markdown",
   "id": "ef23dbb3",
   "metadata": {
    "papermill": {
     "duration": 0.022766,
     "end_time": "2025-08-19T18:54:19.029887",
     "exception": false,
     "start_time": "2025-08-19T18:54:19.007121",
     "status": "completed"
    },
    "tags": []
   },
   "source": [
    "# Setup"
   ]
  },
  {
   "cell_type": "code",
   "execution_count": 1,
   "id": "0bc8e7dc",
   "metadata": {
    "execution": {
     "iopub.execute_input": "2025-08-19T18:54:19.052273Z",
     "iopub.status.busy": "2025-08-19T18:54:19.051895Z",
     "iopub.status.idle": "2025-08-19T18:54:19.061392Z",
     "shell.execute_reply": "2025-08-19T18:54:19.060701Z"
    },
    "papermill": {
     "duration": 0.021599,
     "end_time": "2025-08-19T18:54:19.063191",
     "exception": false,
     "start_time": "2025-08-19T18:54:19.041592",
     "status": "completed"
    },
    "tags": []
   },
   "outputs": [
    {
     "name": "stdout",
     "output_type": "stream",
     "text": [
      "/dss/dsshome1/0C/ra93lal2/cma/CMA_Fairness_v2\n"
     ]
    },
    {
     "name": "stderr",
     "output_type": "stream",
     "text": [
      "/dss/dsshome1/0C/ra93lal2/.local/share/virtualenvs/CMA_Fairness_v2-3j10GkSs/lib/python3.10/site-packages/IPython/core/magics/osm.py:393: UserWarning: This is now an optional IPython functionality, using bookmarks requires you to install the `pickleshare` library.\n",
      "  bkms = self.shell.db.get('bookmarks', {})\n",
      "/dss/dsshome1/0C/ra93lal2/.local/share/virtualenvs/CMA_Fairness_v2-3j10GkSs/lib/python3.10/site-packages/IPython/core/magics/osm.py:417: UserWarning: This is now an optional IPython functionality, setting dhist requires you to install the `pickleshare` library.\n",
      "  self.shell.db['dhist'] = compress_dhist(dhist)[-100:]\n"
     ]
    }
   ],
   "source": [
    "%cd ~/cma/CMA_Fairness_v2"
   ]
  },
  {
   "cell_type": "markdown",
   "id": "9d235661",
   "metadata": {
    "papermill": {
     "duration": 0.008696,
     "end_time": "2025-08-19T18:54:19.081086",
     "exception": false,
     "start_time": "2025-08-19T18:54:19.072390",
     "status": "completed"
    },
    "tags": []
   },
   "source": [
    "The following cell holds the definition of our parameters, these values can be overriden by rendering the with e.g. the following command:\n",
    "\n",
    "papermill -p alpha 0.2 -p ratio 0.3 universe_analysis.ipynb output/test_run.ipynb"
   ]
  },
  {
   "cell_type": "code",
   "execution_count": 2,
   "id": "4a789d8e",
   "metadata": {
    "execution": {
     "iopub.execute_input": "2025-08-19T18:54:19.100157Z",
     "iopub.status.busy": "2025-08-19T18:54:19.099688Z",
     "iopub.status.idle": "2025-08-19T18:54:19.104271Z",
     "shell.execute_reply": "2025-08-19T18:54:19.103547Z"
    },
    "papermill": {
     "duration": 0.016264,
     "end_time": "2025-08-19T18:54:19.106105",
     "exception": false,
     "start_time": "2025-08-19T18:54:19.089841",
     "status": "completed"
    },
    "tags": []
   },
   "outputs": [
    {
     "name": "stdout",
     "output_type": "stream",
     "text": [
      "Current working directory: /dss/dsshome1/0C/ra93lal2/cma/CMA_Fairness_v2\n"
     ]
    }
   ],
   "source": [
    "import os\n",
    "print(\"Current working directory:\", os.getcwd())"
   ]
  },
  {
   "cell_type": "code",
   "execution_count": 3,
   "id": "4132aaed",
   "metadata": {
    "execution": {
     "iopub.execute_input": "2025-08-19T18:54:19.125541Z",
     "iopub.status.busy": "2025-08-19T18:54:19.125172Z",
     "iopub.status.idle": "2025-08-19T18:54:19.129668Z",
     "shell.execute_reply": "2025-08-19T18:54:19.129004Z"
    },
    "papermill": {
     "duration": 0.015455,
     "end_time": "2025-08-19T18:54:19.130780",
     "exception": false,
     "start_time": "2025-08-19T18:54:19.115325",
     "status": "completed"
    },
    "tags": [
     "parameters"
    ]
   },
   "outputs": [],
   "source": [
    "run_no = 0\n",
    "universe_id = \"test\"\n",
    "universe = {\n",
    "    \"training_size\": \"5k\", # \"25k\", \"5k\", \"1k\"\n",
    "    \"training_year\": \"2012_14\", # \"2014\", \"2012_14\", \"2010_14\"\n",
    "    \"scale\": \"scale\", # \"scale\", \"do-not-scale\",\n",
    "    \"model\": \"elasticnet\", # \"logreg\", \"penalized_logreg\", \"rf\", \"gbm\", \"elasticnet\"\n",
    "    \"cutoff\": [\"quantile_0.15\", \"quantile_0.30\"],\n",
    "    \"exclude_features\": \"age\", # \"none\", \"nationality\", \"sex\", \"nationality-sex\", \"age\"\n",
    "    \"exclude_subgroups\": \"drop-non-german\", # \"keep-all\", \"drop-non-german\"\n",
    "    \"eval_fairness_grouping\": [\"majority-minority\", \"nationality-all\"]\n",
    "}\n",
    "\n",
    "output_dir=\"./output\"\n",
    "seed=0"
   ]
  },
  {
   "cell_type": "code",
   "execution_count": 4,
   "id": "34487a2f",
   "metadata": {
    "execution": {
     "iopub.execute_input": "2025-08-19T18:54:19.150448Z",
     "iopub.status.busy": "2025-08-19T18:54:19.149899Z",
     "iopub.status.idle": "2025-08-19T18:54:19.153895Z",
     "shell.execute_reply": "2025-08-19T18:54:19.153217Z"
    },
    "papermill": {
     "duration": 0.015116,
     "end_time": "2025-08-19T18:54:19.155122",
     "exception": false,
     "start_time": "2025-08-19T18:54:19.140006",
     "status": "completed"
    },
    "tags": [
     "injected-parameters"
    ]
   },
   "outputs": [],
   "source": [
    "# Parameters\n",
    "universe_id = \"a1ae1242e98955fa88e56cf2c376ac96\"\n",
    "run_no = \"3\"\n",
    "universe = \"{\\\"cutoff\\\": [\\\"quantile_0.1\\\", \\\"quantile_0.25\\\"], \\\"eval_fairness_grouping\\\": [\\\"majority-minority\\\", \\\"nationality-all\\\"], \\\"exclude_features\\\": \\\"sex\\\", \\\"exclude_subgroups\\\": \\\"keep-all\\\", \\\"model\\\": \\\"rf\\\", \\\"scale\\\": \\\"do-not-scale\\\", \\\"training_size\\\": \\\"1k\\\", \\\"training_year\\\": \\\"2014\\\"}\"\n",
    "output_dir = \"output\"\n",
    "seed = \"2023\"\n"
   ]
  },
  {
   "cell_type": "code",
   "execution_count": 5,
   "id": "a5d7941f",
   "metadata": {
    "execution": {
     "iopub.execute_input": "2025-08-19T18:54:19.174237Z",
     "iopub.status.busy": "2025-08-19T18:54:19.173886Z",
     "iopub.status.idle": "2025-08-19T18:54:19.177703Z",
     "shell.execute_reply": "2025-08-19T18:54:19.177005Z"
    },
    "papermill": {
     "duration": 0.014749,
     "end_time": "2025-08-19T18:54:19.178872",
     "exception": false,
     "start_time": "2025-08-19T18:54:19.164123",
     "status": "completed"
    },
    "tags": []
   },
   "outputs": [],
   "source": [
    "import json\n",
    "if isinstance(universe, str):\n",
    "    universe = json.loads(universe)"
   ]
  },
  {
   "cell_type": "code",
   "execution_count": 6,
   "id": "7076ccb1",
   "metadata": {
    "execution": {
     "iopub.execute_input": "2025-08-19T18:54:19.198247Z",
     "iopub.status.busy": "2025-08-19T18:54:19.197851Z",
     "iopub.status.idle": "2025-08-19T18:54:19.235390Z",
     "shell.execute_reply": "2025-08-19T18:54:19.234417Z"
    },
    "papermill": {
     "duration": 0.04972,
     "end_time": "2025-08-19T18:54:19.237700",
     "exception": false,
     "start_time": "2025-08-19T18:54:19.187980",
     "status": "completed"
    },
    "tags": []
   },
   "outputs": [],
   "source": [
    "# Auto-reload the custom package\n",
    "%load_ext autoreload\n",
    "%autoreload 1\n",
    "%aimport fairness_multiverse"
   ]
  },
  {
   "cell_type": "code",
   "execution_count": 7,
   "id": "94c8eb93",
   "metadata": {
    "execution": {
     "iopub.execute_input": "2025-08-19T18:54:19.261337Z",
     "iopub.status.busy": "2025-08-19T18:54:19.260598Z",
     "iopub.status.idle": "2025-08-19T18:54:20.872354Z",
     "shell.execute_reply": "2025-08-19T18:54:20.870686Z"
    },
    "papermill": {
     "duration": 1.625045,
     "end_time": "2025-08-19T18:54:20.875208",
     "exception": false,
     "start_time": "2025-08-19T18:54:19.250163",
     "status": "completed"
    },
    "tags": []
   },
   "outputs": [],
   "source": [
    "from fairness_multiverse.universe import UniverseAnalysis\n",
    "\n",
    "universe_analysis = UniverseAnalysis(\n",
    "    run_no = run_no,\n",
    "    universe_id = universe_id,\n",
    "    universe = universe,\n",
    "    output_dir=output_dir,\n",
    ")"
   ]
  },
  {
   "cell_type": "code",
   "execution_count": 8,
   "id": "2a6381cf",
   "metadata": {
    "execution": {
     "iopub.execute_input": "2025-08-19T18:54:20.896680Z",
     "iopub.status.busy": "2025-08-19T18:54:20.896206Z",
     "iopub.status.idle": "2025-08-19T18:54:20.903000Z",
     "shell.execute_reply": "2025-08-19T18:54:20.902284Z"
    },
    "papermill": {
     "duration": 0.019523,
     "end_time": "2025-08-19T18:54:20.904614",
     "exception": false,
     "start_time": "2025-08-19T18:54:20.885091",
     "status": "completed"
    },
    "tags": []
   },
   "outputs": [
    {
     "name": "stdout",
     "output_type": "stream",
     "text": [
      "Using Seed: 2023\n"
     ]
    }
   ],
   "source": [
    "import numpy as np\n",
    "parsed_seed = int(seed)\n",
    "np.random.seed(parsed_seed)\n",
    "print(f\"Using Seed: {parsed_seed}\")"
   ]
  },
  {
   "cell_type": "markdown",
   "id": "b6e958b4",
   "metadata": {
    "papermill": {
     "duration": 0.009093,
     "end_time": "2025-08-19T18:54:20.923275",
     "exception": false,
     "start_time": "2025-08-19T18:54:20.914182",
     "status": "completed"
    },
    "tags": []
   },
   "source": [
    "# Loading Data"
   ]
  },
  {
   "cell_type": "code",
   "execution_count": 9,
   "id": "98701482",
   "metadata": {
    "execution": {
     "iopub.execute_input": "2025-08-19T18:54:20.942987Z",
     "iopub.status.busy": "2025-08-19T18:54:20.942578Z",
     "iopub.status.idle": "2025-08-19T18:54:30.964187Z",
     "shell.execute_reply": "2025-08-19T18:54:30.962728Z"
    },
    "papermill": {
     "duration": 10.033943,
     "end_time": "2025-08-19T18:54:30.966190",
     "exception": false,
     "start_time": "2025-08-19T18:54:20.932247",
     "status": "completed"
    },
    "tags": []
   },
   "outputs": [
    {
     "name": "stdout",
     "output_type": "stream",
     "text": [
      "Loading SIAB data from cache: data/siab_cached.csv.gz\n"
     ]
    },
    {
     "name": "stdout",
     "output_type": "stream",
     "text": [
      "(643690, 164)\n"
     ]
    }
   ],
   "source": [
    "from pathlib import Path\n",
    "import pandas as pd\n",
    "\n",
    "# File paths\n",
    "raw_file = Path(\"data/raw/siab.csv\")\n",
    "cache_file = Path(\"data/siab_cached.csv.gz\")\n",
    "\n",
    "# Ensure cache directory exists\n",
    "cache_file.parent.mkdir(parents=True, exist_ok=True)\n",
    "\n",
    "# Load with simple caching\n",
    "if cache_file.exists():\n",
    "    print(f\"Loading SIAB data from cache: {cache_file}\")\n",
    "    siab = pd.read_csv(cache_file, compression='gzip')\n",
    "else:\n",
    "    print(f\"Cache not found. Reading raw SIAB data: {raw_file}\")\n",
    "    siab = pd.read_csv(raw_file)\n",
    "    siab.to_csv(cache_file, index=False, compression='gzip')\n",
    "    print(f\"Cached SIAB data to: {cache_file}\")\n",
    "\n",
    "print(siab.shape)"
   ]
  },
  {
   "cell_type": "code",
   "execution_count": 10,
   "id": "058d2abb",
   "metadata": {
    "execution": {
     "iopub.execute_input": "2025-08-19T18:54:30.993285Z",
     "iopub.status.busy": "2025-08-19T18:54:30.992141Z",
     "iopub.status.idle": "2025-08-19T18:54:31.145430Z",
     "shell.execute_reply": "2025-08-19T18:54:31.144631Z"
    },
    "papermill": {
     "duration": 0.166766,
     "end_time": "2025-08-19T18:54:31.147072",
     "exception": false,
     "start_time": "2025-08-19T18:54:30.980306",
     "status": "completed"
    },
    "tags": []
   },
   "outputs": [
    {
     "data": {
      "text/html": [
       "<div>\n",
       "<style scoped>\n",
       "    .dataframe tbody tr th:only-of-type {\n",
       "        vertical-align: middle;\n",
       "    }\n",
       "\n",
       "    .dataframe tbody tr th {\n",
       "        vertical-align: top;\n",
       "    }\n",
       "\n",
       "    .dataframe thead th {\n",
       "        text-align: right;\n",
       "    }\n",
       "</style>\n",
       "<table border=\"1\" class=\"dataframe\">\n",
       "  <thead>\n",
       "    <tr style=\"text-align: right;\">\n",
       "      <th></th>\n",
       "      <th>persnr</th>\n",
       "      <th>year</th>\n",
       "      <th>nrEntry</th>\n",
       "      <th>ltue</th>\n",
       "      <th>employed_before</th>\n",
       "      <th>receipt_leh_before</th>\n",
       "      <th>receipt_lhg_before</th>\n",
       "      <th>se_before</th>\n",
       "      <th>ASU_notue_seeking_before</th>\n",
       "      <th>ASU_other_before</th>\n",
       "      <th>...</th>\n",
       "      <th>minijob_tot_dur_byage</th>\n",
       "      <th>ft_tot_dur_byage</th>\n",
       "      <th>befrist_tot_dur_byage</th>\n",
       "      <th>leih_tot_dur_byage</th>\n",
       "      <th>LHG_tot_dur_byage</th>\n",
       "      <th>LEH_tot_dur_byage</th>\n",
       "      <th>almp_tot_dur_byage</th>\n",
       "      <th>almp_aw_tot_dur_byage</th>\n",
       "      <th>se_tot_dur_byage</th>\n",
       "      <th>seeking1_tot_dur_byage</th>\n",
       "    </tr>\n",
       "  </thead>\n",
       "  <tbody>\n",
       "    <tr>\n",
       "      <th>0</th>\n",
       "      <td>7</td>\n",
       "      <td>2015</td>\n",
       "      <td>1</td>\n",
       "      <td>0</td>\n",
       "      <td>1</td>\n",
       "      <td>0</td>\n",
       "      <td>0</td>\n",
       "      <td>0</td>\n",
       "      <td>1</td>\n",
       "      <td>0</td>\n",
       "      <td>...</td>\n",
       "      <td>0.000000</td>\n",
       "      <td>0.000000</td>\n",
       "      <td>15.043478</td>\n",
       "      <td>0.000000</td>\n",
       "      <td>0.000000</td>\n",
       "      <td>0.000000</td>\n",
       "      <td>0.000000</td>\n",
       "      <td>0.000000</td>\n",
       "      <td>0.000000</td>\n",
       "      <td>0.000000</td>\n",
       "    </tr>\n",
       "    <tr>\n",
       "      <th>1</th>\n",
       "      <td>18</td>\n",
       "      <td>2010</td>\n",
       "      <td>1</td>\n",
       "      <td>1</td>\n",
       "      <td>0</td>\n",
       "      <td>0</td>\n",
       "      <td>0</td>\n",
       "      <td>0</td>\n",
       "      <td>0</td>\n",
       "      <td>0</td>\n",
       "      <td>...</td>\n",
       "      <td>0.000000</td>\n",
       "      <td>0.000000</td>\n",
       "      <td>0.000000</td>\n",
       "      <td>0.000000</td>\n",
       "      <td>0.000000</td>\n",
       "      <td>0.000000</td>\n",
       "      <td>0.000000</td>\n",
       "      <td>0.000000</td>\n",
       "      <td>0.000000</td>\n",
       "      <td>0.000000</td>\n",
       "    </tr>\n",
       "    <tr>\n",
       "      <th>2</th>\n",
       "      <td>18</td>\n",
       "      <td>2011</td>\n",
       "      <td>2</td>\n",
       "      <td>0</td>\n",
       "      <td>1</td>\n",
       "      <td>0</td>\n",
       "      <td>1</td>\n",
       "      <td>0</td>\n",
       "      <td>1</td>\n",
       "      <td>0</td>\n",
       "      <td>...</td>\n",
       "      <td>2.714286</td>\n",
       "      <td>2.714286</td>\n",
       "      <td>0.000000</td>\n",
       "      <td>0.000000</td>\n",
       "      <td>10.775510</td>\n",
       "      <td>0.000000</td>\n",
       "      <td>8.367347</td>\n",
       "      <td>0.000000</td>\n",
       "      <td>0.000000</td>\n",
       "      <td>9.836735</td>\n",
       "    </tr>\n",
       "    <tr>\n",
       "      <th>3</th>\n",
       "      <td>18</td>\n",
       "      <td>2012</td>\n",
       "      <td>3</td>\n",
       "      <td>0</td>\n",
       "      <td>1</td>\n",
       "      <td>0</td>\n",
       "      <td>1</td>\n",
       "      <td>0</td>\n",
       "      <td>1</td>\n",
       "      <td>0</td>\n",
       "      <td>...</td>\n",
       "      <td>4.200000</td>\n",
       "      <td>4.200000</td>\n",
       "      <td>0.000000</td>\n",
       "      <td>0.000000</td>\n",
       "      <td>12.100000</td>\n",
       "      <td>0.000000</td>\n",
       "      <td>9.400000</td>\n",
       "      <td>0.000000</td>\n",
       "      <td>0.000000</td>\n",
       "      <td>9.960000</td>\n",
       "    </tr>\n",
       "    <tr>\n",
       "      <th>4</th>\n",
       "      <td>18</td>\n",
       "      <td>2012</td>\n",
       "      <td>4</td>\n",
       "      <td>0</td>\n",
       "      <td>1</td>\n",
       "      <td>0</td>\n",
       "      <td>1</td>\n",
       "      <td>0</td>\n",
       "      <td>1</td>\n",
       "      <td>0</td>\n",
       "      <td>...</td>\n",
       "      <td>5.460000</td>\n",
       "      <td>5.460000</td>\n",
       "      <td>0.000000</td>\n",
       "      <td>0.000000</td>\n",
       "      <td>13.360000</td>\n",
       "      <td>0.000000</td>\n",
       "      <td>10.320000</td>\n",
       "      <td>0.000000</td>\n",
       "      <td>0.000000</td>\n",
       "      <td>10.280000</td>\n",
       "    </tr>\n",
       "    <tr>\n",
       "      <th>...</th>\n",
       "      <td>...</td>\n",
       "      <td>...</td>\n",
       "      <td>...</td>\n",
       "      <td>...</td>\n",
       "      <td>...</td>\n",
       "      <td>...</td>\n",
       "      <td>...</td>\n",
       "      <td>...</td>\n",
       "      <td>...</td>\n",
       "      <td>...</td>\n",
       "      <td>...</td>\n",
       "      <td>...</td>\n",
       "      <td>...</td>\n",
       "      <td>...</td>\n",
       "      <td>...</td>\n",
       "      <td>...</td>\n",
       "      <td>...</td>\n",
       "      <td>...</td>\n",
       "      <td>...</td>\n",
       "      <td>...</td>\n",
       "      <td>...</td>\n",
       "    </tr>\n",
       "    <tr>\n",
       "      <th>643685</th>\n",
       "      <td>1827860</td>\n",
       "      <td>2013</td>\n",
       "      <td>1</td>\n",
       "      <td>0</td>\n",
       "      <td>0</td>\n",
       "      <td>0</td>\n",
       "      <td>1</td>\n",
       "      <td>0</td>\n",
       "      <td>0</td>\n",
       "      <td>1</td>\n",
       "      <td>...</td>\n",
       "      <td>0.000000</td>\n",
       "      <td>0.000000</td>\n",
       "      <td>0.000000</td>\n",
       "      <td>0.000000</td>\n",
       "      <td>0.612903</td>\n",
       "      <td>0.000000</td>\n",
       "      <td>0.000000</td>\n",
       "      <td>0.000000</td>\n",
       "      <td>0.000000</td>\n",
       "      <td>0.000000</td>\n",
       "    </tr>\n",
       "    <tr>\n",
       "      <th>643686</th>\n",
       "      <td>1827860</td>\n",
       "      <td>2015</td>\n",
       "      <td>2</td>\n",
       "      <td>1</td>\n",
       "      <td>0</td>\n",
       "      <td>0</td>\n",
       "      <td>1</td>\n",
       "      <td>0</td>\n",
       "      <td>1</td>\n",
       "      <td>0</td>\n",
       "      <td>...</td>\n",
       "      <td>0.000000</td>\n",
       "      <td>0.000000</td>\n",
       "      <td>0.212121</td>\n",
       "      <td>0.212121</td>\n",
       "      <td>17.363636</td>\n",
       "      <td>0.000000</td>\n",
       "      <td>8.909091</td>\n",
       "      <td>0.000000</td>\n",
       "      <td>0.000000</td>\n",
       "      <td>7.121212</td>\n",
       "    </tr>\n",
       "    <tr>\n",
       "      <th>643687</th>\n",
       "      <td>1827860</td>\n",
       "      <td>2016</td>\n",
       "      <td>3</td>\n",
       "      <td>1</td>\n",
       "      <td>0</td>\n",
       "      <td>0</td>\n",
       "      <td>1</td>\n",
       "      <td>1</td>\n",
       "      <td>0</td>\n",
       "      <td>1</td>\n",
       "      <td>...</td>\n",
       "      <td>0.000000</td>\n",
       "      <td>0.000000</td>\n",
       "      <td>0.294118</td>\n",
       "      <td>0.205882</td>\n",
       "      <td>34.705882</td>\n",
       "      <td>0.000000</td>\n",
       "      <td>10.352941</td>\n",
       "      <td>1.705882</td>\n",
       "      <td>1.705882</td>\n",
       "      <td>23.911765</td>\n",
       "    </tr>\n",
       "    <tr>\n",
       "      <th>643688</th>\n",
       "      <td>1827869</td>\n",
       "      <td>2013</td>\n",
       "      <td>1</td>\n",
       "      <td>1</td>\n",
       "      <td>1</td>\n",
       "      <td>0</td>\n",
       "      <td>0</td>\n",
       "      <td>0</td>\n",
       "      <td>1</td>\n",
       "      <td>0</td>\n",
       "      <td>...</td>\n",
       "      <td>0.000000</td>\n",
       "      <td>0.000000</td>\n",
       "      <td>0.000000</td>\n",
       "      <td>0.000000</td>\n",
       "      <td>0.000000</td>\n",
       "      <td>0.525424</td>\n",
       "      <td>0.000000</td>\n",
       "      <td>0.000000</td>\n",
       "      <td>0.000000</td>\n",
       "      <td>0.000000</td>\n",
       "    </tr>\n",
       "    <tr>\n",
       "      <th>643689</th>\n",
       "      <td>1827869</td>\n",
       "      <td>2014</td>\n",
       "      <td>2</td>\n",
       "      <td>0</td>\n",
       "      <td>0</td>\n",
       "      <td>1</td>\n",
       "      <td>0</td>\n",
       "      <td>0</td>\n",
       "      <td>1</td>\n",
       "      <td>0</td>\n",
       "      <td>...</td>\n",
       "      <td>0.000000</td>\n",
       "      <td>0.666667</td>\n",
       "      <td>0.666667</td>\n",
       "      <td>0.000000</td>\n",
       "      <td>0.000000</td>\n",
       "      <td>8.950000</td>\n",
       "      <td>1.033333</td>\n",
       "      <td>0.083333</td>\n",
       "      <td>0.083333</td>\n",
       "      <td>8.133333</td>\n",
       "    </tr>\n",
       "  </tbody>\n",
       "</table>\n",
       "<p>643690 rows × 164 columns</p>\n",
       "</div>"
      ],
      "text/plain": [
       "         persnr  year  nrEntry  ltue  employed_before  receipt_leh_before  \\\n",
       "0             7  2015        1     0                1                   0   \n",
       "1            18  2010        1     1                0                   0   \n",
       "2            18  2011        2     0                1                   0   \n",
       "3            18  2012        3     0                1                   0   \n",
       "4            18  2012        4     0                1                   0   \n",
       "...         ...   ...      ...   ...              ...                 ...   \n",
       "643685  1827860  2013        1     0                0                   0   \n",
       "643686  1827860  2015        2     1                0                   0   \n",
       "643687  1827860  2016        3     1                0                   0   \n",
       "643688  1827869  2013        1     1                1                   0   \n",
       "643689  1827869  2014        2     0                0                   1   \n",
       "\n",
       "        receipt_lhg_before  se_before  ASU_notue_seeking_before  \\\n",
       "0                        0          0                         1   \n",
       "1                        0          0                         0   \n",
       "2                        1          0                         1   \n",
       "3                        1          0                         1   \n",
       "4                        1          0                         1   \n",
       "...                    ...        ...                       ...   \n",
       "643685                   1          0                         0   \n",
       "643686                   1          0                         1   \n",
       "643687                   1          1                         0   \n",
       "643688                   0          0                         1   \n",
       "643689                   0          0                         1   \n",
       "\n",
       "        ASU_other_before  ...  minijob_tot_dur_byage  ft_tot_dur_byage  \\\n",
       "0                      0  ...               0.000000          0.000000   \n",
       "1                      0  ...               0.000000          0.000000   \n",
       "2                      0  ...               2.714286          2.714286   \n",
       "3                      0  ...               4.200000          4.200000   \n",
       "4                      0  ...               5.460000          5.460000   \n",
       "...                  ...  ...                    ...               ...   \n",
       "643685                 1  ...               0.000000          0.000000   \n",
       "643686                 0  ...               0.000000          0.000000   \n",
       "643687                 1  ...               0.000000          0.000000   \n",
       "643688                 0  ...               0.000000          0.000000   \n",
       "643689                 0  ...               0.000000          0.666667   \n",
       "\n",
       "        befrist_tot_dur_byage  leih_tot_dur_byage  LHG_tot_dur_byage  \\\n",
       "0                   15.043478            0.000000           0.000000   \n",
       "1                    0.000000            0.000000           0.000000   \n",
       "2                    0.000000            0.000000          10.775510   \n",
       "3                    0.000000            0.000000          12.100000   \n",
       "4                    0.000000            0.000000          13.360000   \n",
       "...                       ...                 ...                ...   \n",
       "643685               0.000000            0.000000           0.612903   \n",
       "643686               0.212121            0.212121          17.363636   \n",
       "643687               0.294118            0.205882          34.705882   \n",
       "643688               0.000000            0.000000           0.000000   \n",
       "643689               0.666667            0.000000           0.000000   \n",
       "\n",
       "        LEH_tot_dur_byage  almp_tot_dur_byage  almp_aw_tot_dur_byage  \\\n",
       "0                0.000000            0.000000               0.000000   \n",
       "1                0.000000            0.000000               0.000000   \n",
       "2                0.000000            8.367347               0.000000   \n",
       "3                0.000000            9.400000               0.000000   \n",
       "4                0.000000           10.320000               0.000000   \n",
       "...                   ...                 ...                    ...   \n",
       "643685           0.000000            0.000000               0.000000   \n",
       "643686           0.000000            8.909091               0.000000   \n",
       "643687           0.000000           10.352941               1.705882   \n",
       "643688           0.525424            0.000000               0.000000   \n",
       "643689           8.950000            1.033333               0.083333   \n",
       "\n",
       "        se_tot_dur_byage  seeking1_tot_dur_byage  \n",
       "0               0.000000                0.000000  \n",
       "1               0.000000                0.000000  \n",
       "2               0.000000                9.836735  \n",
       "3               0.000000                9.960000  \n",
       "4               0.000000               10.280000  \n",
       "...                  ...                     ...  \n",
       "643685          0.000000                0.000000  \n",
       "643686          0.000000                7.121212  \n",
       "643687          1.705882               23.911765  \n",
       "643688          0.000000                0.000000  \n",
       "643689          0.083333                8.133333  \n",
       "\n",
       "[643690 rows x 164 columns]"
      ]
     },
     "execution_count": 10,
     "metadata": {},
     "output_type": "execute_result"
    }
   ],
   "source": [
    "siab"
   ]
  },
  {
   "cell_type": "markdown",
   "id": "1f87e805",
   "metadata": {
    "papermill": {
     "duration": 0.009958,
     "end_time": "2025-08-19T18:54:31.169214",
     "exception": false,
     "start_time": "2025-08-19T18:54:31.159256",
     "status": "completed"
    },
    "tags": []
   },
   "source": [
    "# Splitting Data and Setting Training Data Size"
   ]
  },
  {
   "cell_type": "code",
   "execution_count": 11,
   "id": "910ae358",
   "metadata": {
    "execution": {
     "iopub.execute_input": "2025-08-19T18:54:31.191319Z",
     "iopub.status.busy": "2025-08-19T18:54:31.190415Z",
     "iopub.status.idle": "2025-08-19T18:54:31.410710Z",
     "shell.execute_reply": "2025-08-19T18:54:31.410043Z"
    },
    "papermill": {
     "duration": 0.233501,
     "end_time": "2025-08-19T18:54:31.412566",
     "exception": false,
     "start_time": "2025-08-19T18:54:31.179065",
     "status": "completed"
    },
    "tags": []
   },
   "outputs": [],
   "source": [
    "from fairness_multiverse.universe import sample_by_year_size\n",
    "\n",
    "siab_train = sample_by_year_size(siab,\n",
    "                               training_year=universe[\"training_year\"],\n",
    "                               training_size=universe[\"training_size\"])"
   ]
  },
  {
   "cell_type": "code",
   "execution_count": 12,
   "id": "919c8ff5",
   "metadata": {
    "execution": {
     "iopub.execute_input": "2025-08-19T18:54:31.434306Z",
     "iopub.status.busy": "2025-08-19T18:54:31.433928Z",
     "iopub.status.idle": "2025-08-19T18:54:31.439108Z",
     "shell.execute_reply": "2025-08-19T18:54:31.438528Z"
    },
    "papermill": {
     "duration": 0.02158,
     "end_time": "2025-08-19T18:54:31.444734",
     "exception": false,
     "start_time": "2025-08-19T18:54:31.423154",
     "status": "completed"
    },
    "tags": []
   },
   "outputs": [
    {
     "data": {
      "text/plain": [
       "(1000, 164)"
      ]
     },
     "execution_count": 12,
     "metadata": {},
     "output_type": "execute_result"
    }
   ],
   "source": [
    "siab_train.shape"
   ]
  },
  {
   "cell_type": "code",
   "execution_count": 13,
   "id": "feb13bf4",
   "metadata": {
    "execution": {
     "iopub.execute_input": "2025-08-19T18:54:31.472234Z",
     "iopub.status.busy": "2025-08-19T18:54:31.471331Z",
     "iopub.status.idle": "2025-08-19T18:54:31.500722Z",
     "shell.execute_reply": "2025-08-19T18:54:31.499615Z"
    },
    "papermill": {
     "duration": 0.045244,
     "end_time": "2025-08-19T18:54:31.502738",
     "exception": false,
     "start_time": "2025-08-19T18:54:31.457494",
     "status": "completed"
    },
    "tags": []
   },
   "outputs": [
    {
     "data": {
      "text/plain": [
       "year\n",
       "2014    1000\n",
       "dtype: int64"
      ]
     },
     "metadata": {},
     "output_type": "display_data"
    }
   ],
   "source": [
    "display(siab_train.groupby(\"year\").size())"
   ]
  },
  {
   "cell_type": "code",
   "execution_count": 14,
   "id": "0997782f",
   "metadata": {
    "execution": {
     "iopub.execute_input": "2025-08-19T18:54:31.547635Z",
     "iopub.status.busy": "2025-08-19T18:54:31.545803Z",
     "iopub.status.idle": "2025-08-19T18:54:31.803404Z",
     "shell.execute_reply": "2025-08-19T18:54:31.802645Z"
    },
    "papermill": {
     "duration": 0.286632,
     "end_time": "2025-08-19T18:54:31.806484",
     "exception": false,
     "start_time": "2025-08-19T18:54:31.519852",
     "status": "completed"
    },
    "tags": []
   },
   "outputs": [],
   "source": [
    "#siab_train = siab_s[siab_s.year < 2015]\n",
    "siab_calib = siab[siab.year == 2015]\n",
    "siab_test = siab[siab.year == 2016]"
   ]
  },
  {
   "cell_type": "code",
   "execution_count": 15,
   "id": "2c1e4012",
   "metadata": {
    "execution": {
     "iopub.execute_input": "2025-08-19T18:54:31.857756Z",
     "iopub.status.busy": "2025-08-19T18:54:31.856350Z",
     "iopub.status.idle": "2025-08-19T18:54:31.863957Z",
     "shell.execute_reply": "2025-08-19T18:54:31.862590Z"
    },
    "papermill": {
     "duration": 0.032724,
     "end_time": "2025-08-19T18:54:31.865647",
     "exception": false,
     "start_time": "2025-08-19T18:54:31.832923",
     "status": "completed"
    },
    "tags": []
   },
   "outputs": [],
   "source": [
    "#siab_calib.shape"
   ]
  },
  {
   "cell_type": "code",
   "execution_count": 16,
   "id": "f66b54ca",
   "metadata": {
    "execution": {
     "iopub.execute_input": "2025-08-19T18:54:31.895196Z",
     "iopub.status.busy": "2025-08-19T18:54:31.894121Z",
     "iopub.status.idle": "2025-08-19T18:54:31.934166Z",
     "shell.execute_reply": "2025-08-19T18:54:31.931738Z"
    },
    "papermill": {
     "duration": 0.057269,
     "end_time": "2025-08-19T18:54:31.938840",
     "exception": false,
     "start_time": "2025-08-19T18:54:31.881571",
     "status": "completed"
    },
    "tags": []
   },
   "outputs": [],
   "source": [
    "#siab_test.shape"
   ]
  },
  {
   "cell_type": "code",
   "execution_count": 17,
   "id": "27e4384d",
   "metadata": {
    "execution": {
     "iopub.execute_input": "2025-08-19T18:54:31.970698Z",
     "iopub.status.busy": "2025-08-19T18:54:31.967823Z",
     "iopub.status.idle": "2025-08-19T18:54:31.983243Z",
     "shell.execute_reply": "2025-08-19T18:54:31.980858Z"
    },
    "papermill": {
     "duration": 0.035421,
     "end_time": "2025-08-19T18:54:31.989851",
     "exception": false,
     "start_time": "2025-08-19T18:54:31.954430",
     "status": "completed"
    },
    "tags": []
   },
   "outputs": [],
   "source": [
    "X_train = siab_train.iloc[:,4:164]\n",
    "y_train = siab_train.iloc[:, [3]]"
   ]
  },
  {
   "cell_type": "code",
   "execution_count": 18,
   "id": "08ee8389",
   "metadata": {
    "execution": {
     "iopub.execute_input": "2025-08-19T18:54:32.035302Z",
     "iopub.status.busy": "2025-08-19T18:54:32.034803Z",
     "iopub.status.idle": "2025-08-19T18:54:32.143738Z",
     "shell.execute_reply": "2025-08-19T18:54:32.142994Z"
    },
    "papermill": {
     "duration": 0.133802,
     "end_time": "2025-08-19T18:54:32.145040",
     "exception": false,
     "start_time": "2025-08-19T18:54:32.011238",
     "status": "completed"
    },
    "tags": []
   },
   "outputs": [],
   "source": [
    "X_calib = siab_calib.iloc[:,4:164]\n",
    "y_calib = siab_calib.iloc[:, [3]]"
   ]
  },
  {
   "cell_type": "code",
   "execution_count": 19,
   "id": "b7ff42e0",
   "metadata": {
    "execution": {
     "iopub.execute_input": "2025-08-19T18:54:32.169370Z",
     "iopub.status.busy": "2025-08-19T18:54:32.168925Z",
     "iopub.status.idle": "2025-08-19T18:54:32.230525Z",
     "shell.execute_reply": "2025-08-19T18:54:32.229749Z"
    },
    "papermill": {
     "duration": 0.076318,
     "end_time": "2025-08-19T18:54:32.233169",
     "exception": false,
     "start_time": "2025-08-19T18:54:32.156851",
     "status": "completed"
    },
    "tags": []
   },
   "outputs": [],
   "source": [
    "X_test = siab_test.iloc[:,4:164]\n",
    "y_true = siab_test.iloc[:, [3]]"
   ]
  },
  {
   "cell_type": "code",
   "execution_count": 20,
   "id": "0275101e",
   "metadata": {
    "execution": {
     "iopub.execute_input": "2025-08-19T18:54:32.272524Z",
     "iopub.status.busy": "2025-08-19T18:54:32.271349Z",
     "iopub.status.idle": "2025-08-19T18:54:32.392591Z",
     "shell.execute_reply": "2025-08-19T18:54:32.391782Z"
    },
    "papermill": {
     "duration": 0.137156,
     "end_time": "2025-08-19T18:54:32.394366",
     "exception": false,
     "start_time": "2025-08-19T18:54:32.257210",
     "status": "completed"
    },
    "tags": []
   },
   "outputs": [],
   "source": [
    "# Auxiliary data needed downstream in the pipeline\n",
    "\n",
    "org_train = X_train.copy()\n",
    "org_test = X_test.copy()\n",
    "org_calib = X_calib.copy()"
   ]
  },
  {
   "cell_type": "markdown",
   "id": "b461e618",
   "metadata": {
    "papermill": {
     "duration": 0.010303,
     "end_time": "2025-08-19T18:54:32.417488",
     "exception": false,
     "start_time": "2025-08-19T18:54:32.407185",
     "status": "completed"
    },
    "tags": []
   },
   "source": [
    "# Preprocessing Data"
   ]
  },
  {
   "cell_type": "code",
   "execution_count": 21,
   "id": "78e74c4b",
   "metadata": {
    "execution": {
     "iopub.execute_input": "2025-08-19T18:54:32.439062Z",
     "iopub.status.busy": "2025-08-19T18:54:32.438745Z",
     "iopub.status.idle": "2025-08-19T18:54:32.443547Z",
     "shell.execute_reply": "2025-08-19T18:54:32.442881Z"
    },
    "papermill": {
     "duration": 0.01705,
     "end_time": "2025-08-19T18:54:32.444688",
     "exception": false,
     "start_time": "2025-08-19T18:54:32.427638",
     "status": "completed"
    },
    "tags": []
   },
   "outputs": [],
   "source": [
    "# EXCLUDE PROTECTED FEATURES\n",
    "# --------------------------\n",
    "\n",
    "excluded_features = universe[\"exclude_features\"].split(\"-\")\n",
    "excluded_features_dictionary = {\n",
    "    \"nationality\": [\"maxdeutsch1\", \"maxdeutsch.Missing.\"],\n",
    "    \"sex\": [\"frau1\"],\n",
    "    \"age\": [\"age\"],\n",
    "}"
   ]
  },
  {
   "cell_type": "code",
   "execution_count": 22,
   "id": "f8e63555",
   "metadata": {
    "execution": {
     "iopub.execute_input": "2025-08-19T18:54:32.471306Z",
     "iopub.status.busy": "2025-08-19T18:54:32.471034Z",
     "iopub.status.idle": "2025-08-19T18:54:32.475470Z",
     "shell.execute_reply": "2025-08-19T18:54:32.474816Z"
    },
    "papermill": {
     "duration": 0.019679,
     "end_time": "2025-08-19T18:54:32.476774",
     "exception": false,
     "start_time": "2025-08-19T18:54:32.457095",
     "status": "completed"
    },
    "tags": []
   },
   "outputs": [],
   "source": [
    "excluded_features_columns = [\n",
    "    excluded_features_dictionary[f] for f in excluded_features if len(f) > 0 and f != \"none\"\n",
    "]"
   ]
  },
  {
   "cell_type": "code",
   "execution_count": 23,
   "id": "da781f7c",
   "metadata": {
    "execution": {
     "iopub.execute_input": "2025-08-19T18:54:32.498473Z",
     "iopub.status.busy": "2025-08-19T18:54:32.498210Z",
     "iopub.status.idle": "2025-08-19T18:54:32.502462Z",
     "shell.execute_reply": "2025-08-19T18:54:32.501831Z"
    },
    "papermill": {
     "duration": 0.016582,
     "end_time": "2025-08-19T18:54:32.503721",
     "exception": false,
     "start_time": "2025-08-19T18:54:32.487139",
     "status": "completed"
    },
    "tags": []
   },
   "outputs": [],
   "source": [
    "from fairness_multiverse.universe import flatten_once\n",
    "\n",
    "excluded_features_columns = flatten_once(excluded_features_columns)"
   ]
  },
  {
   "cell_type": "code",
   "execution_count": 24,
   "id": "37fef0f0",
   "metadata": {
    "execution": {
     "iopub.execute_input": "2025-08-19T18:54:32.525652Z",
     "iopub.status.busy": "2025-08-19T18:54:32.525384Z",
     "iopub.status.idle": "2025-08-19T18:54:32.540201Z",
     "shell.execute_reply": "2025-08-19T18:54:32.539464Z"
    },
    "papermill": {
     "duration": 0.029435,
     "end_time": "2025-08-19T18:54:32.543532",
     "exception": false,
     "start_time": "2025-08-19T18:54:32.514097",
     "status": "completed"
    },
    "tags": []
   },
   "outputs": [
    {
     "name": "stdout",
     "output_type": "stream",
     "text": [
      "Dropping features: ['frau1']\n"
     ]
    }
   ],
   "source": [
    "if len(excluded_features_columns) > 0:\n",
    "    print(f\"Dropping features: {excluded_features_columns}\")\n",
    "    X_train.drop(excluded_features_columns, axis=1, inplace=True)"
   ]
  },
  {
   "cell_type": "code",
   "execution_count": 25,
   "id": "d029e3e9",
   "metadata": {
    "execution": {
     "iopub.execute_input": "2025-08-19T18:54:32.577147Z",
     "iopub.status.busy": "2025-08-19T18:54:32.576684Z",
     "iopub.status.idle": "2025-08-19T18:54:32.631422Z",
     "shell.execute_reply": "2025-08-19T18:54:32.630654Z"
    },
    "papermill": {
     "duration": 0.075054,
     "end_time": "2025-08-19T18:54:32.633977",
     "exception": false,
     "start_time": "2025-08-19T18:54:32.558923",
     "status": "completed"
    },
    "tags": []
   },
   "outputs": [
    {
     "name": "stdout",
     "output_type": "stream",
     "text": [
      "Dropping features: ['frau1']\n"
     ]
    }
   ],
   "source": [
    "if len(excluded_features_columns) > 0:\n",
    "    print(f\"Dropping features: {excluded_features_columns}\")\n",
    "    X_test.drop(excluded_features_columns, axis=1, inplace=True)"
   ]
  },
  {
   "cell_type": "code",
   "execution_count": 26,
   "id": "01d571f0",
   "metadata": {
    "execution": {
     "iopub.execute_input": "2025-08-19T18:54:32.670244Z",
     "iopub.status.busy": "2025-08-19T18:54:32.669204Z",
     "iopub.status.idle": "2025-08-19T18:54:32.723398Z",
     "shell.execute_reply": "2025-08-19T18:54:32.722660Z"
    },
    "papermill": {
     "duration": 0.068781,
     "end_time": "2025-08-19T18:54:32.724866",
     "exception": false,
     "start_time": "2025-08-19T18:54:32.656085",
     "status": "completed"
    },
    "tags": []
   },
   "outputs": [
    {
     "name": "stdout",
     "output_type": "stream",
     "text": [
      "Dropping features: ['frau1']\n"
     ]
    }
   ],
   "source": [
    "if len(excluded_features_columns) > 0:\n",
    "    print(f\"Dropping features: {excluded_features_columns}\")\n",
    "    X_calib.drop(excluded_features_columns, axis=1, inplace=True)"
   ]
  },
  {
   "cell_type": "code",
   "execution_count": 27,
   "id": "3037356e",
   "metadata": {
    "execution": {
     "iopub.execute_input": "2025-08-19T18:54:32.748684Z",
     "iopub.status.busy": "2025-08-19T18:54:32.748145Z",
     "iopub.status.idle": "2025-08-19T18:54:32.753308Z",
     "shell.execute_reply": "2025-08-19T18:54:32.752518Z"
    },
    "papermill": {
     "duration": 0.018055,
     "end_time": "2025-08-19T18:54:32.754477",
     "exception": false,
     "start_time": "2025-08-19T18:54:32.736422",
     "status": "completed"
    },
    "tags": []
   },
   "outputs": [],
   "source": [
    "# EXCLUDE CERTAIN SUBGROUPS\n",
    "# -------------------------\n",
    "\n",
    "mode = universe.get(\"exclude_subgroups\", \"keep-all\") # Defaults to \"keep-all\" if the key is missing."
   ]
  },
  {
   "cell_type": "code",
   "execution_count": 28,
   "id": "9d1e63fd",
   "metadata": {
    "execution": {
     "iopub.execute_input": "2025-08-19T18:54:32.778186Z",
     "iopub.status.busy": "2025-08-19T18:54:32.777467Z",
     "iopub.status.idle": "2025-08-19T18:54:32.787690Z",
     "shell.execute_reply": "2025-08-19T18:54:32.786370Z"
    },
    "papermill": {
     "duration": 0.024015,
     "end_time": "2025-08-19T18:54:32.789241",
     "exception": false,
     "start_time": "2025-08-19T18:54:32.765226",
     "status": "completed"
    },
    "tags": []
   },
   "outputs": [],
   "source": [
    "if mode == \"keep-all\":\n",
    "    keep_mask = pd.Series(True, index=org_train.index)\n",
    "\n",
    "elif mode == \"drop-non-german\":\n",
    "    keep_mask = (org_train[\"maxdeutsch1\"] == 1) & (org_train[\"maxdeutsch.Missing.\"] == 0)\n",
    "\n",
    "else:\n",
    "    raise ValueError(f\"Unsupported mode for exclude_subgroups: {mode}\")"
   ]
  },
  {
   "cell_type": "code",
   "execution_count": 29,
   "id": "d3b65474",
   "metadata": {
    "execution": {
     "iopub.execute_input": "2025-08-19T18:54:32.818147Z",
     "iopub.status.busy": "2025-08-19T18:54:32.816393Z",
     "iopub.status.idle": "2025-08-19T18:54:32.826701Z",
     "shell.execute_reply": "2025-08-19T18:54:32.825494Z"
    },
    "papermill": {
     "duration": 0.024397,
     "end_time": "2025-08-19T18:54:32.828274",
     "exception": false,
     "start_time": "2025-08-19T18:54:32.803877",
     "status": "completed"
    },
    "tags": []
   },
   "outputs": [],
   "source": [
    "n_drop = (~keep_mask).sum() # Calculates how many rows are set to be dropped\n",
    "if n_drop > 0:\n",
    "    pct = n_drop / len(keep_mask) * 100\n",
    "    print(f\"Dropping {n_drop} rows ({pct:.2f}%) where mode='{mode}'\")"
   ]
  },
  {
   "cell_type": "code",
   "execution_count": 30,
   "id": "f44389b3",
   "metadata": {
    "execution": {
     "iopub.execute_input": "2025-08-19T18:54:32.878515Z",
     "iopub.status.busy": "2025-08-19T18:54:32.878115Z",
     "iopub.status.idle": "2025-08-19T18:54:32.883404Z",
     "shell.execute_reply": "2025-08-19T18:54:32.882710Z"
    },
    "papermill": {
     "duration": 0.028267,
     "end_time": "2025-08-19T18:54:32.889581",
     "exception": false,
     "start_time": "2025-08-19T18:54:32.861314",
     "status": "completed"
    },
    "tags": []
   },
   "outputs": [],
   "source": [
    "X_train = X_train[keep_mask]"
   ]
  },
  {
   "cell_type": "code",
   "execution_count": 31,
   "id": "ceca8c2a",
   "metadata": {
    "execution": {
     "iopub.execute_input": "2025-08-19T18:54:32.914135Z",
     "iopub.status.busy": "2025-08-19T18:54:32.913729Z",
     "iopub.status.idle": "2025-08-19T18:54:32.918442Z",
     "shell.execute_reply": "2025-08-19T18:54:32.917748Z"
    },
    "papermill": {
     "duration": 0.018282,
     "end_time": "2025-08-19T18:54:32.919682",
     "exception": false,
     "start_time": "2025-08-19T18:54:32.901400",
     "status": "completed"
    },
    "tags": []
   },
   "outputs": [],
   "source": [
    "y_train = y_train[keep_mask]"
   ]
  },
  {
   "cell_type": "markdown",
   "id": "04d31e2f",
   "metadata": {
    "papermill": {
     "duration": 0.025069,
     "end_time": "2025-08-19T18:54:32.966151",
     "exception": false,
     "start_time": "2025-08-19T18:54:32.941082",
     "status": "completed"
    },
    "tags": []
   },
   "source": [
    "# Model Training"
   ]
  },
  {
   "cell_type": "code",
   "execution_count": 32,
   "id": "db991733",
   "metadata": {
    "execution": {
     "iopub.execute_input": "2025-08-19T18:54:32.990146Z",
     "iopub.status.busy": "2025-08-19T18:54:32.988965Z",
     "iopub.status.idle": "2025-08-19T18:54:33.095489Z",
     "shell.execute_reply": "2025-08-19T18:54:33.094724Z"
    },
    "papermill": {
     "duration": 0.121343,
     "end_time": "2025-08-19T18:54:33.098081",
     "exception": false,
     "start_time": "2025-08-19T18:54:32.976738",
     "status": "completed"
    },
    "tags": []
   },
   "outputs": [],
   "source": [
    "from sklearn.linear_model import LogisticRegression\n",
    "from sklearn.ensemble import GradientBoostingClassifier, RandomForestClassifier\n",
    "\n",
    "if (universe[\"model\"] == \"logreg\"):\n",
    "    model = LogisticRegression() #penalty=\"none\", solver=\"newton-cg\", max_iter=1)\n",
    "elif (universe[\"model\"] == \"penalized_logreg\"):\n",
    "    model = LogisticRegression(penalty=\"l2\", C=0.1) #, solver=\"newton-cg\", max_iter=1)\n",
    "elif (universe[\"model\"] == \"rf\"):\n",
    "    model = RandomForestClassifier() # n_estimators=100, n_jobs=-1\n",
    "elif (universe[\"model\"] == \"gbm\"):\n",
    "    model = GradientBoostingClassifier()\n",
    "elif (universe[\"model\"] == \"elasticnet\"):\n",
    "    model = LogisticRegression(penalty = 'elasticnet', solver = 'saga', l1_ratio = 0.5) # max_iter=5000\n",
    "else:\n",
    "    raise \"Unsupported universe.model\""
   ]
  },
  {
   "cell_type": "code",
   "execution_count": 33,
   "id": "a4b5cd25",
   "metadata": {
    "execution": {
     "iopub.execute_input": "2025-08-19T18:54:33.167587Z",
     "iopub.status.busy": "2025-08-19T18:54:33.167084Z",
     "iopub.status.idle": "2025-08-19T18:54:33.172708Z",
     "shell.execute_reply": "2025-08-19T18:54:33.171871Z"
    },
    "papermill": {
     "duration": 0.042762,
     "end_time": "2025-08-19T18:54:33.177115",
     "exception": false,
     "start_time": "2025-08-19T18:54:33.134353",
     "status": "completed"
    },
    "tags": []
   },
   "outputs": [],
   "source": [
    "from sklearn.pipeline import Pipeline\n",
    "from sklearn.preprocessing import StandardScaler\n",
    "\n",
    "model = Pipeline([\n",
    "    #(\"continuous_processor\", continuous_processor),\n",
    "    #(\"categorical_preprocessor\", categorical_preprocessor),\n",
    "    (\"scale\", StandardScaler() if universe[\"scale\"] == \"scale\" else None), \n",
    "    (\"model\", model),\n",
    "])"
   ]
  },
  {
   "cell_type": "code",
   "execution_count": 34,
   "id": "283a904d",
   "metadata": {
    "execution": {
     "iopub.execute_input": "2025-08-19T18:54:33.205899Z",
     "iopub.status.busy": "2025-08-19T18:54:33.205527Z",
     "iopub.status.idle": "2025-08-19T18:54:33.500258Z",
     "shell.execute_reply": "2025-08-19T18:54:33.499563Z"
    },
    "papermill": {
     "duration": 0.311027,
     "end_time": "2025-08-19T18:54:33.504582",
     "exception": false,
     "start_time": "2025-08-19T18:54:33.193555",
     "status": "completed"
    },
    "tags": []
   },
   "outputs": [
    {
     "data": {
      "text/html": [
       "<style>#sk-container-id-1 {color: black;background-color: white;}#sk-container-id-1 pre{padding: 0;}#sk-container-id-1 div.sk-toggleable {background-color: white;}#sk-container-id-1 label.sk-toggleable__label {cursor: pointer;display: block;width: 100%;margin-bottom: 0;padding: 0.3em;box-sizing: border-box;text-align: center;}#sk-container-id-1 label.sk-toggleable__label-arrow:before {content: \"▸\";float: left;margin-right: 0.25em;color: #696969;}#sk-container-id-1 label.sk-toggleable__label-arrow:hover:before {color: black;}#sk-container-id-1 div.sk-estimator:hover label.sk-toggleable__label-arrow:before {color: black;}#sk-container-id-1 div.sk-toggleable__content {max-height: 0;max-width: 0;overflow: hidden;text-align: left;background-color: #f0f8ff;}#sk-container-id-1 div.sk-toggleable__content pre {margin: 0.2em;color: black;border-radius: 0.25em;background-color: #f0f8ff;}#sk-container-id-1 input.sk-toggleable__control:checked~div.sk-toggleable__content {max-height: 200px;max-width: 100%;overflow: auto;}#sk-container-id-1 input.sk-toggleable__control:checked~label.sk-toggleable__label-arrow:before {content: \"▾\";}#sk-container-id-1 div.sk-estimator input.sk-toggleable__control:checked~label.sk-toggleable__label {background-color: #d4ebff;}#sk-container-id-1 div.sk-label input.sk-toggleable__control:checked~label.sk-toggleable__label {background-color: #d4ebff;}#sk-container-id-1 input.sk-hidden--visually {border: 0;clip: rect(1px 1px 1px 1px);clip: rect(1px, 1px, 1px, 1px);height: 1px;margin: -1px;overflow: hidden;padding: 0;position: absolute;width: 1px;}#sk-container-id-1 div.sk-estimator {font-family: monospace;background-color: #f0f8ff;border: 1px dotted black;border-radius: 0.25em;box-sizing: border-box;margin-bottom: 0.5em;}#sk-container-id-1 div.sk-estimator:hover {background-color: #d4ebff;}#sk-container-id-1 div.sk-parallel-item::after {content: \"\";width: 100%;border-bottom: 1px solid gray;flex-grow: 1;}#sk-container-id-1 div.sk-label:hover label.sk-toggleable__label {background-color: #d4ebff;}#sk-container-id-1 div.sk-serial::before {content: \"\";position: absolute;border-left: 1px solid gray;box-sizing: border-box;top: 0;bottom: 0;left: 50%;z-index: 0;}#sk-container-id-1 div.sk-serial {display: flex;flex-direction: column;align-items: center;background-color: white;padding-right: 0.2em;padding-left: 0.2em;position: relative;}#sk-container-id-1 div.sk-item {position: relative;z-index: 1;}#sk-container-id-1 div.sk-parallel {display: flex;align-items: stretch;justify-content: center;background-color: white;position: relative;}#sk-container-id-1 div.sk-item::before, #sk-container-id-1 div.sk-parallel-item::before {content: \"\";position: absolute;border-left: 1px solid gray;box-sizing: border-box;top: 0;bottom: 0;left: 50%;z-index: -1;}#sk-container-id-1 div.sk-parallel-item {display: flex;flex-direction: column;z-index: 1;position: relative;background-color: white;}#sk-container-id-1 div.sk-parallel-item:first-child::after {align-self: flex-end;width: 50%;}#sk-container-id-1 div.sk-parallel-item:last-child::after {align-self: flex-start;width: 50%;}#sk-container-id-1 div.sk-parallel-item:only-child::after {width: 0;}#sk-container-id-1 div.sk-dashed-wrapped {border: 1px dashed gray;margin: 0 0.4em 0.5em 0.4em;box-sizing: border-box;padding-bottom: 0.4em;background-color: white;}#sk-container-id-1 div.sk-label label {font-family: monospace;font-weight: bold;display: inline-block;line-height: 1.2em;}#sk-container-id-1 div.sk-label-container {text-align: center;}#sk-container-id-1 div.sk-container {/* jupyter's `normalize.less` sets `[hidden] { display: none; }` but bootstrap.min.css set `[hidden] { display: none !important; }` so we also need the `!important` here to be able to override the default hidden behavior on the sphinx rendered scikit-learn.org. See: https://github.com/scikit-learn/scikit-learn/issues/21755 */display: inline-block !important;position: relative;}#sk-container-id-1 div.sk-text-repr-fallback {display: none;}</style><div id=\"sk-container-id-1\" class=\"sk-top-container\"><div class=\"sk-text-repr-fallback\"><pre>Pipeline(steps=[(&#x27;scale&#x27;, None), (&#x27;model&#x27;, RandomForestClassifier())])</pre><b>In a Jupyter environment, please rerun this cell to show the HTML representation or trust the notebook. <br />On GitHub, the HTML representation is unable to render, please try loading this page with nbviewer.org.</b></div><div class=\"sk-container\" hidden><div class=\"sk-item sk-dashed-wrapped\"><div class=\"sk-label-container\"><div class=\"sk-label sk-toggleable\"><input class=\"sk-toggleable__control sk-hidden--visually\" id=\"sk-estimator-id-1\" type=\"checkbox\" ><label for=\"sk-estimator-id-1\" class=\"sk-toggleable__label sk-toggleable__label-arrow\">Pipeline</label><div class=\"sk-toggleable__content\"><pre>Pipeline(steps=[(&#x27;scale&#x27;, None), (&#x27;model&#x27;, RandomForestClassifier())])</pre></div></div></div><div class=\"sk-serial\"><div class=\"sk-item\"><div class=\"sk-estimator sk-toggleable\"><input class=\"sk-toggleable__control sk-hidden--visually\" id=\"sk-estimator-id-2\" type=\"checkbox\" ><label for=\"sk-estimator-id-2\" class=\"sk-toggleable__label sk-toggleable__label-arrow\">None</label><div class=\"sk-toggleable__content\"><pre>None</pre></div></div></div><div class=\"sk-item\"><div class=\"sk-estimator sk-toggleable\"><input class=\"sk-toggleable__control sk-hidden--visually\" id=\"sk-estimator-id-3\" type=\"checkbox\" ><label for=\"sk-estimator-id-3\" class=\"sk-toggleable__label sk-toggleable__label-arrow\">RandomForestClassifier</label><div class=\"sk-toggleable__content\"><pre>RandomForestClassifier()</pre></div></div></div></div></div></div></div>"
      ],
      "text/plain": [
       "Pipeline(steps=[('scale', None), ('model', RandomForestClassifier())])"
      ]
     },
     "execution_count": 34,
     "metadata": {},
     "output_type": "execute_result"
    }
   ],
   "source": [
    "model.fit(X_train, y_train.values.ravel())"
   ]
  },
  {
   "cell_type": "code",
   "execution_count": 35,
   "id": "6e15e313",
   "metadata": {
    "execution": {
     "iopub.execute_input": "2025-08-19T18:54:33.542562Z",
     "iopub.status.busy": "2025-08-19T18:54:33.541430Z",
     "iopub.status.idle": "2025-08-19T18:54:34.891099Z",
     "shell.execute_reply": "2025-08-19T18:54:34.890110Z"
    },
    "papermill": {
     "duration": 1.364965,
     "end_time": "2025-08-19T18:54:34.892525",
     "exception": false,
     "start_time": "2025-08-19T18:54:33.527560",
     "status": "completed"
    },
    "tags": []
   },
   "outputs": [
    {
     "data": {
      "text/plain": [
       "0.861487013710846"
      ]
     },
     "execution_count": 35,
     "metadata": {},
     "output_type": "execute_result"
    }
   ],
   "source": [
    "from fairness_multiverse.universe import predict_w_threshold\n",
    "\n",
    "probs_test = model.predict_proba(X_test)\n",
    "\n",
    "'''\n",
    "Below code returns a boolean array (or binary 0/1 array depending on how it’s used) where each element \n",
    "is True if the probability of class 1 is greater than or equal to the threshold, and False otherwise.\n",
    "'''\n",
    "y_pred_default = predict_w_threshold(probs_test, 0.5)\n",
    "\n",
    "from sklearn.metrics import accuracy_score\n",
    "\n",
    "# Naive prediction\n",
    "accuracy_score(y_true = y_true, y_pred = y_pred_default)"
   ]
  },
  {
   "cell_type": "code",
   "execution_count": 36,
   "id": "6f14067c",
   "metadata": {
    "execution": {
     "iopub.execute_input": "2025-08-19T18:54:34.919320Z",
     "iopub.status.busy": "2025-08-19T18:54:34.918160Z",
     "iopub.status.idle": "2025-08-19T18:54:36.274256Z",
     "shell.execute_reply": "2025-08-19T18:54:36.273160Z"
    },
    "papermill": {
     "duration": 1.372249,
     "end_time": "2025-08-19T18:54:36.276881",
     "exception": false,
     "start_time": "2025-08-19T18:54:34.904632",
     "status": "completed"
    },
    "tags": []
   },
   "outputs": [
    {
     "data": {
      "text/plain": [
       "array([0, 0, 0, ..., 0, 0, 0])"
      ]
     },
     "execution_count": 36,
     "metadata": {},
     "output_type": "execute_result"
    }
   ],
   "source": [
    "model.predict(X_test)"
   ]
  },
  {
   "cell_type": "markdown",
   "id": "3759920c",
   "metadata": {
    "papermill": {
     "duration": 0.0129,
     "end_time": "2025-08-19T18:54:36.316179",
     "exception": false,
     "start_time": "2025-08-19T18:54:36.303279",
     "status": "completed"
    },
    "tags": []
   },
   "source": [
    "# Conformal Prediction"
   ]
  },
  {
   "cell_type": "code",
   "execution_count": 37,
   "id": "14b27f59",
   "metadata": {
    "execution": {
     "iopub.execute_input": "2025-08-19T18:54:36.340706Z",
     "iopub.status.busy": "2025-08-19T18:54:36.340210Z",
     "iopub.status.idle": "2025-08-19T18:54:36.345008Z",
     "shell.execute_reply": "2025-08-19T18:54:36.344292Z"
    },
    "papermill": {
     "duration": 0.018814,
     "end_time": "2025-08-19T18:54:36.346255",
     "exception": false,
     "start_time": "2025-08-19T18:54:36.327441",
     "status": "completed"
    },
    "tags": []
   },
   "outputs": [],
   "source": [
    "# Miscoverage level for conformal prediction (10% allowed error rate => 90% target coverage)\n",
    "alpha = 0.1"
   ]
  },
  {
   "cell_type": "code",
   "execution_count": 38,
   "id": "59102472",
   "metadata": {
    "execution": {
     "iopub.execute_input": "2025-08-19T18:54:36.370713Z",
     "iopub.status.busy": "2025-08-19T18:54:36.369795Z",
     "iopub.status.idle": "2025-08-19T18:54:37.632065Z",
     "shell.execute_reply": "2025-08-19T18:54:37.630777Z"
    },
    "papermill": {
     "duration": 1.276289,
     "end_time": "2025-08-19T18:54:37.633983",
     "exception": false,
     "start_time": "2025-08-19T18:54:36.357694",
     "status": "completed"
    },
    "tags": []
   },
   "outputs": [],
   "source": [
    "probs_calib = model.predict_proba(X_calib)"
   ]
  },
  {
   "cell_type": "code",
   "execution_count": 39,
   "id": "a792d4dd",
   "metadata": {
    "execution": {
     "iopub.execute_input": "2025-08-19T18:54:37.660981Z",
     "iopub.status.busy": "2025-08-19T18:54:37.659752Z",
     "iopub.status.idle": "2025-08-19T18:54:37.668012Z",
     "shell.execute_reply": "2025-08-19T18:54:37.667058Z"
    },
    "papermill": {
     "duration": 0.023102,
     "end_time": "2025-08-19T18:54:37.669562",
     "exception": false,
     "start_time": "2025-08-19T18:54:37.646460",
     "status": "completed"
    },
    "tags": []
   },
   "outputs": [],
   "source": [
    "y_calib = y_calib.values.ravel().astype(int)"
   ]
  },
  {
   "cell_type": "code",
   "execution_count": 40,
   "id": "650fd033",
   "metadata": {
    "execution": {
     "iopub.execute_input": "2025-08-19T18:54:37.699364Z",
     "iopub.status.busy": "2025-08-19T18:54:37.697956Z",
     "iopub.status.idle": "2025-08-19T18:54:37.711028Z",
     "shell.execute_reply": "2025-08-19T18:54:37.709941Z"
    },
    "papermill": {
     "duration": 0.028017,
     "end_time": "2025-08-19T18:54:37.712694",
     "exception": false,
     "start_time": "2025-08-19T18:54:37.684677",
     "status": "completed"
    },
    "tags": []
   },
   "outputs": [],
   "source": [
    "from fairness_multiverse.conformal import compute_nc_scores\n",
    "\n",
    "# Compute nonconformity scores on calibration set (1 - probability of true class)\n",
    "nc_scores = compute_nc_scores(probs_calib, y_calib)"
   ]
  },
  {
   "cell_type": "code",
   "execution_count": 41,
   "id": "28ada44c",
   "metadata": {
    "execution": {
     "iopub.execute_input": "2025-08-19T18:54:37.746465Z",
     "iopub.status.busy": "2025-08-19T18:54:37.745286Z",
     "iopub.status.idle": "2025-08-19T18:54:37.756201Z",
     "shell.execute_reply": "2025-08-19T18:54:37.754981Z"
    },
    "papermill": {
     "duration": 0.026735,
     "end_time": "2025-08-19T18:54:37.757909",
     "exception": false,
     "start_time": "2025-08-19T18:54:37.731174",
     "status": "completed"
    },
    "tags": []
   },
   "outputs": [],
   "source": [
    "from fairness_multiverse.conformal import find_threshold\n",
    "\n",
    "# Find conformal threshold q_hat for the given alpha (split conformal method)\n",
    "q_hat = find_threshold(nc_scores, alpha)"
   ]
  },
  {
   "cell_type": "code",
   "execution_count": 42,
   "id": "df56469e",
   "metadata": {
    "execution": {
     "iopub.execute_input": "2025-08-19T18:54:37.786060Z",
     "iopub.status.busy": "2025-08-19T18:54:37.785370Z",
     "iopub.status.idle": "2025-08-19T18:54:37.795454Z",
     "shell.execute_reply": "2025-08-19T18:54:37.794203Z"
    },
    "papermill": {
     "duration": 0.024854,
     "end_time": "2025-08-19T18:54:37.796910",
     "exception": false,
     "start_time": "2025-08-19T18:54:37.772056",
     "status": "completed"
    },
    "tags": []
   },
   "outputs": [
    {
     "data": {
      "text/plain": [
       "0.6699999999999999"
      ]
     },
     "execution_count": 42,
     "metadata": {},
     "output_type": "execute_result"
    }
   ],
   "source": [
    "q_hat"
   ]
  },
  {
   "cell_type": "code",
   "execution_count": 43,
   "id": "aa1f5faa",
   "metadata": {
    "execution": {
     "iopub.execute_input": "2025-08-19T18:54:37.825869Z",
     "iopub.status.busy": "2025-08-19T18:54:37.824423Z",
     "iopub.status.idle": "2025-08-19T18:54:39.523835Z",
     "shell.execute_reply": "2025-08-19T18:54:39.522983Z"
    },
    "papermill": {
     "duration": 1.714478,
     "end_time": "2025-08-19T18:54:39.525771",
     "exception": false,
     "start_time": "2025-08-19T18:54:37.811293",
     "status": "completed"
    },
    "tags": []
   },
   "outputs": [],
   "source": [
    "from fairness_multiverse.conformal import predict_conformal_sets\n",
    "\n",
    "# Generate prediction sets for each test example\n",
    "pred_sets = predict_conformal_sets(model, X_test, q_hat)"
   ]
  },
  {
   "cell_type": "code",
   "execution_count": 44,
   "id": "97f67a6b",
   "metadata": {
    "execution": {
     "iopub.execute_input": "2025-08-19T18:54:39.565290Z",
     "iopub.status.busy": "2025-08-19T18:54:39.564146Z",
     "iopub.status.idle": "2025-08-19T18:54:39.572441Z",
     "shell.execute_reply": "2025-08-19T18:54:39.571239Z"
    },
    "papermill": {
     "duration": 0.023897,
     "end_time": "2025-08-19T18:54:39.573922",
     "exception": false,
     "start_time": "2025-08-19T18:54:39.550025",
     "status": "completed"
    },
    "tags": []
   },
   "outputs": [],
   "source": [
    "y_true = y_true.squeeze()"
   ]
  },
  {
   "cell_type": "code",
   "execution_count": 45,
   "id": "e700e9a7",
   "metadata": {
    "execution": {
     "iopub.execute_input": "2025-08-19T18:54:39.613270Z",
     "iopub.status.busy": "2025-08-19T18:54:39.611703Z",
     "iopub.status.idle": "2025-08-19T18:54:40.107064Z",
     "shell.execute_reply": "2025-08-19T18:54:40.106161Z"
    },
    "papermill": {
     "duration": 0.512566,
     "end_time": "2025-08-19T18:54:40.108820",
     "exception": false,
     "start_time": "2025-08-19T18:54:39.596254",
     "status": "completed"
    },
    "tags": []
   },
   "outputs": [],
   "source": [
    "from fairness_multiverse.conformal import evaluate_sets\n",
    "\n",
    "# Evaluate coverage and average set size on test data\n",
    "metrics = evaluate_sets(pred_sets, y_true)"
   ]
  },
  {
   "cell_type": "markdown",
   "id": "efbacec0",
   "metadata": {
    "papermill": {
     "duration": 0.02663,
     "end_time": "2025-08-19T18:54:40.152530",
     "exception": false,
     "start_time": "2025-08-19T18:54:40.125900",
     "status": "completed"
    },
    "tags": []
   },
   "source": [
    "# CP Metrics"
   ]
  },
  {
   "cell_type": "code",
   "execution_count": 46,
   "id": "9de55fb1",
   "metadata": {
    "execution": {
     "iopub.execute_input": "2025-08-19T18:54:40.181165Z",
     "iopub.status.busy": "2025-08-19T18:54:40.179955Z",
     "iopub.status.idle": "2025-08-19T18:54:40.191148Z",
     "shell.execute_reply": "2025-08-19T18:54:40.189591Z"
    },
    "papermill": {
     "duration": 0.026649,
     "end_time": "2025-08-19T18:54:40.192829",
     "exception": false,
     "start_time": "2025-08-19T18:54:40.166180",
     "status": "completed"
    },
    "tags": []
   },
   "outputs": [
    {
     "data": {
      "text/plain": [
       "{'coverage': 0.9134767584438747, 'avg_size': 1.1459369078140675}"
      ]
     },
     "execution_count": 46,
     "metadata": {},
     "output_type": "execute_result"
    }
   ],
   "source": [
    "metrics"
   ]
  },
  {
   "cell_type": "code",
   "execution_count": 47,
   "id": "64c340a1",
   "metadata": {
    "execution": {
     "iopub.execute_input": "2025-08-19T18:54:40.221483Z",
     "iopub.status.busy": "2025-08-19T18:54:40.220259Z",
     "iopub.status.idle": "2025-08-19T18:54:40.231088Z",
     "shell.execute_reply": "2025-08-19T18:54:40.229626Z"
    },
    "papermill": {
     "duration": 0.026298,
     "end_time": "2025-08-19T18:54:40.232897",
     "exception": false,
     "start_time": "2025-08-19T18:54:40.206599",
     "status": "completed"
    },
    "tags": []
   },
   "outputs": [],
   "source": [
    "example_universe = universe.copy()\n",
    "universe_training_year = example_universe.get(\"training_year\")\n",
    "universe_training_size = example_universe.get(\"training_size\")\n",
    "universe_scale = example_universe.get(\"scale\")\n",
    "universe_model = example_universe.get(\"model\")\n",
    "universe_exclude_features = example_universe.get(\"exclude_features\")\n",
    "universe_exclude_subgroups = example_universe.get(\"exclude_subgroups\")"
   ]
  },
  {
   "cell_type": "code",
   "execution_count": 48,
   "id": "dbb53cb4",
   "metadata": {
    "execution": {
     "iopub.execute_input": "2025-08-19T18:54:40.264400Z",
     "iopub.status.busy": "2025-08-19T18:54:40.262976Z",
     "iopub.status.idle": "2025-08-19T18:54:40.273410Z",
     "shell.execute_reply": "2025-08-19T18:54:40.271887Z"
    },
    "papermill": {
     "duration": 0.026711,
     "end_time": "2025-08-19T18:54:40.275228",
     "exception": false,
     "start_time": "2025-08-19T18:54:40.248517",
     "status": "completed"
    },
    "tags": []
   },
   "outputs": [],
   "source": [
    "cp_metrics_dict = {\n",
    "    \"universe_id\": [universe_id],\n",
    "    \"universe_training_year\": [universe_training_year],\n",
    "    \"universe_training_size\": [universe_training_size],\n",
    "    \"universe_scale\": [universe_scale],\n",
    "    \"universe_model\": [universe_model],\n",
    "    \"universe_exclude_features\": [universe_exclude_features],\n",
    "    \"universe_exclude_subgroups\": [universe_exclude_subgroups],\n",
    "    \"q_hat\": [q_hat],\n",
    "    \"coverage\": [metrics[\"coverage\"]],\n",
    "    \"avg_size\": [metrics[\"avg_size\"]],\n",
    "}"
   ]
  },
  {
   "cell_type": "code",
   "execution_count": 49,
   "id": "0d70d4b2",
   "metadata": {
    "execution": {
     "iopub.execute_input": "2025-08-19T18:54:40.308242Z",
     "iopub.status.busy": "2025-08-19T18:54:40.307046Z",
     "iopub.status.idle": "2025-08-19T18:54:40.316517Z",
     "shell.execute_reply": "2025-08-19T18:54:40.315457Z"
    },
    "papermill": {
     "duration": 0.025765,
     "end_time": "2025-08-19T18:54:40.318162",
     "exception": false,
     "start_time": "2025-08-19T18:54:40.292397",
     "status": "completed"
    },
    "tags": []
   },
   "outputs": [],
   "source": [
    "cp_metrics_df = pd.DataFrame(cp_metrics_dict)"
   ]
  },
  {
   "cell_type": "code",
   "execution_count": 50,
   "id": "b494403c",
   "metadata": {
    "execution": {
     "iopub.execute_input": "2025-08-19T18:54:40.350208Z",
     "iopub.status.busy": "2025-08-19T18:54:40.348566Z",
     "iopub.status.idle": "2025-08-19T18:54:40.372909Z",
     "shell.execute_reply": "2025-08-19T18:54:40.371768Z"
    },
    "papermill": {
     "duration": 0.040694,
     "end_time": "2025-08-19T18:54:40.374734",
     "exception": false,
     "start_time": "2025-08-19T18:54:40.334040",
     "status": "completed"
    },
    "tags": []
   },
   "outputs": [
    {
     "data": {
      "text/html": [
       "<div>\n",
       "<style scoped>\n",
       "    .dataframe tbody tr th:only-of-type {\n",
       "        vertical-align: middle;\n",
       "    }\n",
       "\n",
       "    .dataframe tbody tr th {\n",
       "        vertical-align: top;\n",
       "    }\n",
       "\n",
       "    .dataframe thead th {\n",
       "        text-align: right;\n",
       "    }\n",
       "</style>\n",
       "<table border=\"1\" class=\"dataframe\">\n",
       "  <thead>\n",
       "    <tr style=\"text-align: right;\">\n",
       "      <th></th>\n",
       "      <th>universe_id</th>\n",
       "      <th>universe_training_year</th>\n",
       "      <th>universe_training_size</th>\n",
       "      <th>universe_scale</th>\n",
       "      <th>universe_model</th>\n",
       "      <th>universe_exclude_features</th>\n",
       "      <th>universe_exclude_subgroups</th>\n",
       "      <th>q_hat</th>\n",
       "      <th>coverage</th>\n",
       "      <th>avg_size</th>\n",
       "    </tr>\n",
       "  </thead>\n",
       "  <tbody>\n",
       "    <tr>\n",
       "      <th>0</th>\n",
       "      <td>a1ae1242e98955fa88e56cf2c376ac96</td>\n",
       "      <td>2014</td>\n",
       "      <td>1k</td>\n",
       "      <td>do-not-scale</td>\n",
       "      <td>rf</td>\n",
       "      <td>sex</td>\n",
       "      <td>keep-all</td>\n",
       "      <td>0.67</td>\n",
       "      <td>0.913477</td>\n",
       "      <td>1.145937</td>\n",
       "    </tr>\n",
       "  </tbody>\n",
       "</table>\n",
       "</div>"
      ],
      "text/plain": [
       "                        universe_id universe_training_year  \\\n",
       "0  a1ae1242e98955fa88e56cf2c376ac96                   2014   \n",
       "\n",
       "  universe_training_size universe_scale universe_model  \\\n",
       "0                     1k   do-not-scale             rf   \n",
       "\n",
       "  universe_exclude_features universe_exclude_subgroups  q_hat  coverage  \\\n",
       "0                       sex                   keep-all   0.67  0.913477   \n",
       "\n",
       "   avg_size  \n",
       "0  1.145937  "
      ]
     },
     "execution_count": 50,
     "metadata": {},
     "output_type": "execute_result"
    }
   ],
   "source": [
    "cp_metrics_df"
   ]
  },
  {
   "cell_type": "markdown",
   "id": "ed608b0b",
   "metadata": {
    "papermill": {
     "duration": 0.013047,
     "end_time": "2025-08-19T18:54:40.408205",
     "exception": false,
     "start_time": "2025-08-19T18:54:40.395158",
     "status": "completed"
    },
    "tags": []
   },
   "source": [
    "Conditional coverage & looking at subgroups"
   ]
  },
  {
   "cell_type": "code",
   "execution_count": 51,
   "id": "8968c366",
   "metadata": {
    "execution": {
     "iopub.execute_input": "2025-08-19T18:54:40.435618Z",
     "iopub.status.busy": "2025-08-19T18:54:40.433889Z",
     "iopub.status.idle": "2025-08-19T18:54:40.678714Z",
     "shell.execute_reply": "2025-08-19T18:54:40.678019Z"
    },
    "papermill": {
     "duration": 0.261215,
     "end_time": "2025-08-19T18:54:40.681527",
     "exception": false,
     "start_time": "2025-08-19T18:54:40.420312",
     "status": "completed"
    },
    "tags": []
   },
   "outputs": [],
   "source": [
    "from fairness_multiverse.conformal import build_cp_groups\n",
    "\n",
    "cp_groups_df = build_cp_groups(pred_sets, y_true, X_test.index, org_test)"
   ]
  },
  {
   "cell_type": "code",
   "execution_count": 52,
   "id": "292ddabf",
   "metadata": {
    "execution": {
     "iopub.execute_input": "2025-08-19T18:54:40.725407Z",
     "iopub.status.busy": "2025-08-19T18:54:40.724282Z",
     "iopub.status.idle": "2025-08-19T18:54:41.584371Z",
     "shell.execute_reply": "2025-08-19T18:54:41.583283Z"
    },
    "papermill": {
     "duration": 0.878334,
     "end_time": "2025-08-19T18:54:41.587250",
     "exception": false,
     "start_time": "2025-08-19T18:54:40.708916",
     "status": "completed"
    },
    "tags": []
   },
   "outputs": [],
   "source": [
    "# Define covered = 1 if true_label is in the predicted set\n",
    "cp_groups_df['covered'] = cp_groups_df.apply(\n",
    "    lambda r: int(r['true_label'] in r['pred_set']),\n",
    "    axis=1\n",
    ")"
   ]
  },
  {
   "cell_type": "code",
   "execution_count": 53,
   "id": "3a261692",
   "metadata": {
    "execution": {
     "iopub.execute_input": "2025-08-19T18:54:41.628727Z",
     "iopub.status.busy": "2025-08-19T18:54:41.627533Z",
     "iopub.status.idle": "2025-08-19T18:54:41.648470Z",
     "shell.execute_reply": "2025-08-19T18:54:41.647346Z"
    },
    "papermill": {
     "duration": 0.037761,
     "end_time": "2025-08-19T18:54:41.650329",
     "exception": false,
     "start_time": "2025-08-19T18:54:41.612568",
     "status": "completed"
    },
    "tags": []
   },
   "outputs": [],
   "source": [
    "subgroups = ['frau1','nongerman','nongerman_male','nongerman_female']\n",
    "\n",
    "# Conditional coverage for subgroup==1\n",
    "cond_coverage = {\n",
    "    g: cp_groups_df.loc[cp_groups_df[g]==1, 'covered'].mean()\n",
    "    for g in subgroups\n",
    "}"
   ]
  },
  {
   "cell_type": "code",
   "execution_count": 54,
   "id": "894fd600",
   "metadata": {
    "execution": {
     "iopub.execute_input": "2025-08-19T18:54:41.687917Z",
     "iopub.status.busy": "2025-08-19T18:54:41.686814Z",
     "iopub.status.idle": "2025-08-19T18:54:41.697623Z",
     "shell.execute_reply": "2025-08-19T18:54:41.696413Z"
    },
    "papermill": {
     "duration": 0.027141,
     "end_time": "2025-08-19T18:54:41.699284",
     "exception": false,
     "start_time": "2025-08-19T18:54:41.672143",
     "status": "completed"
    },
    "tags": []
   },
   "outputs": [
    {
     "data": {
      "text/plain": [
       "{'frau1': 0.9091252190322145,\n",
       " 'nongerman': 0.9095604333913434,\n",
       " 'nongerman_male': 0.9254255606592813,\n",
       " 'nongerman_female': 0.8833084947839046}"
      ]
     },
     "execution_count": 54,
     "metadata": {},
     "output_type": "execute_result"
    }
   ],
   "source": [
    "cond_coverage"
   ]
  },
  {
   "cell_type": "code",
   "execution_count": 55,
   "id": "942895c7",
   "metadata": {
    "execution": {
     "iopub.execute_input": "2025-08-19T18:54:41.728281Z",
     "iopub.status.busy": "2025-08-19T18:54:41.726952Z",
     "iopub.status.idle": "2025-08-19T18:54:41.739910Z",
     "shell.execute_reply": "2025-08-19T18:54:41.738640Z"
    },
    "papermill": {
     "duration": 0.028578,
     "end_time": "2025-08-19T18:54:41.741367",
     "exception": false,
     "start_time": "2025-08-19T18:54:41.712789",
     "status": "completed"
    },
    "tags": []
   },
   "outputs": [],
   "source": [
    "for subgroup, cov in cond_coverage.items():\n",
    "    cp_metrics_df[f\"cov_{subgroup}\"] = cov"
   ]
  },
  {
   "cell_type": "code",
   "execution_count": 56,
   "id": "3970120f",
   "metadata": {
    "execution": {
     "iopub.execute_input": "2025-08-19T18:54:41.773818Z",
     "iopub.status.busy": "2025-08-19T18:54:41.772635Z",
     "iopub.status.idle": "2025-08-19T18:54:41.800501Z",
     "shell.execute_reply": "2025-08-19T18:54:41.799676Z"
    },
    "papermill": {
     "duration": 0.043793,
     "end_time": "2025-08-19T18:54:41.802307",
     "exception": false,
     "start_time": "2025-08-19T18:54:41.758514",
     "status": "completed"
    },
    "tags": []
   },
   "outputs": [
    {
     "data": {
      "text/html": [
       "<div>\n",
       "<style scoped>\n",
       "    .dataframe tbody tr th:only-of-type {\n",
       "        vertical-align: middle;\n",
       "    }\n",
       "\n",
       "    .dataframe tbody tr th {\n",
       "        vertical-align: top;\n",
       "    }\n",
       "\n",
       "    .dataframe thead th {\n",
       "        text-align: right;\n",
       "    }\n",
       "</style>\n",
       "<table border=\"1\" class=\"dataframe\">\n",
       "  <thead>\n",
       "    <tr style=\"text-align: right;\">\n",
       "      <th></th>\n",
       "      <th>universe_id</th>\n",
       "      <th>universe_training_year</th>\n",
       "      <th>universe_training_size</th>\n",
       "      <th>universe_scale</th>\n",
       "      <th>universe_model</th>\n",
       "      <th>universe_exclude_features</th>\n",
       "      <th>universe_exclude_subgroups</th>\n",
       "      <th>q_hat</th>\n",
       "      <th>coverage</th>\n",
       "      <th>avg_size</th>\n",
       "      <th>cov_frau1</th>\n",
       "      <th>cov_nongerman</th>\n",
       "      <th>cov_nongerman_male</th>\n",
       "      <th>cov_nongerman_female</th>\n",
       "    </tr>\n",
       "  </thead>\n",
       "  <tbody>\n",
       "    <tr>\n",
       "      <th>0</th>\n",
       "      <td>a1ae1242e98955fa88e56cf2c376ac96</td>\n",
       "      <td>2014</td>\n",
       "      <td>1k</td>\n",
       "      <td>do-not-scale</td>\n",
       "      <td>rf</td>\n",
       "      <td>sex</td>\n",
       "      <td>keep-all</td>\n",
       "      <td>0.67</td>\n",
       "      <td>0.913477</td>\n",
       "      <td>1.145937</td>\n",
       "      <td>0.909125</td>\n",
       "      <td>0.90956</td>\n",
       "      <td>0.925426</td>\n",
       "      <td>0.883308</td>\n",
       "    </tr>\n",
       "  </tbody>\n",
       "</table>\n",
       "</div>"
      ],
      "text/plain": [
       "                        universe_id universe_training_year  \\\n",
       "0  a1ae1242e98955fa88e56cf2c376ac96                   2014   \n",
       "\n",
       "  universe_training_size universe_scale universe_model  \\\n",
       "0                     1k   do-not-scale             rf   \n",
       "\n",
       "  universe_exclude_features universe_exclude_subgroups  q_hat  coverage  \\\n",
       "0                       sex                   keep-all   0.67  0.913477   \n",
       "\n",
       "   avg_size  cov_frau1  cov_nongerman  cov_nongerman_male  \\\n",
       "0  1.145937   0.909125        0.90956            0.925426   \n",
       "\n",
       "   cov_nongerman_female  \n",
       "0              0.883308  "
      ]
     },
     "execution_count": 56,
     "metadata": {},
     "output_type": "execute_result"
    }
   ],
   "source": [
    "cp_metrics_df"
   ]
  },
  {
   "cell_type": "markdown",
   "id": "3fc519cc",
   "metadata": {
    "papermill": {
     "duration": 0.012619,
     "end_time": "2025-08-19T18:54:41.837891",
     "exception": false,
     "start_time": "2025-08-19T18:54:41.825272",
     "status": "completed"
    },
    "tags": []
   },
   "source": [
    "# (Fairness) Metrics"
   ]
  },
  {
   "cell_type": "code",
   "execution_count": 57,
   "id": "a2e5e155",
   "metadata": {
    "execution": {
     "iopub.execute_input": "2025-08-19T18:54:41.863786Z",
     "iopub.status.busy": "2025-08-19T18:54:41.863382Z",
     "iopub.status.idle": "2025-08-19T18:54:41.879453Z",
     "shell.execute_reply": "2025-08-19T18:54:41.877793Z"
    },
    "papermill": {
     "duration": 0.031164,
     "end_time": "2025-08-19T18:54:41.881322",
     "exception": false,
     "start_time": "2025-08-19T18:54:41.850158",
     "status": "completed"
    },
    "tags": []
   },
   "outputs": [],
   "source": [
    "colname_to_bin = \"maxdeutsch1\"\n",
    "majority_value = org_train[colname_to_bin].mode()[0]\n",
    "\n",
    "org_test[\"majmin\"] = np.where(org_test[colname_to_bin] == majority_value, \"majority\", \"minority\")"
   ]
  },
  {
   "cell_type": "code",
   "execution_count": 58,
   "id": "17e3e4d5",
   "metadata": {
    "execution": {
     "iopub.execute_input": "2025-08-19T18:54:41.914821Z",
     "iopub.status.busy": "2025-08-19T18:54:41.913561Z",
     "iopub.status.idle": "2025-08-19T18:54:43.700804Z",
     "shell.execute_reply": "2025-08-19T18:54:43.699488Z"
    },
    "papermill": {
     "duration": 1.803087,
     "end_time": "2025-08-19T18:54:43.702434",
     "exception": false,
     "start_time": "2025-08-19T18:54:41.899347",
     "status": "completed"
    },
    "tags": []
   },
   "outputs": [],
   "source": [
    "example_universe = universe.copy()\n",
    "example_universe[\"cutoff\"] = example_universe[\"cutoff\"][0]\n",
    "example_universe[\"eval_fairness_grouping\"] = example_universe[\"eval_fairness_grouping\"][0]\n",
    "fairness_dict, metric_frame = universe_analysis.compute_metrics(\n",
    "    example_universe,\n",
    "    y_pred_prob=probs_test,\n",
    "    y_test=y_true,\n",
    "    org_test=org_test,\n",
    ")"
   ]
  },
  {
   "cell_type": "markdown",
   "id": "1fb7a0e9",
   "metadata": {
    "papermill": {
     "duration": 0.012822,
     "end_time": "2025-08-19T18:54:43.729868",
     "exception": false,
     "start_time": "2025-08-19T18:54:43.717046",
     "status": "completed"
    },
    "tags": []
   },
   "source": [
    "# Overall"
   ]
  },
  {
   "cell_type": "markdown",
   "id": "be1784b1",
   "metadata": {
    "papermill": {
     "duration": 0.012418,
     "end_time": "2025-08-19T18:54:43.755311",
     "exception": false,
     "start_time": "2025-08-19T18:54:43.742893",
     "status": "completed"
    },
    "tags": []
   },
   "source": [
    "Main fairness target: Equalized Odds. Seems to be a better fit than equal opportunity, since we're not only interested in Y = 1. Seems to be a better fit than demographic parity, since we also care about accuracy, not just equal distribution of preds.\n",
    "\n",
    "Pick column for computation of fairness metrics\n",
    "\n",
    "Performance\n",
    "Overall performance measures, most interesting in relation to the measures split by group below"
   ]
  },
  {
   "cell_type": "code",
   "execution_count": 59,
   "id": "b7672bee",
   "metadata": {
    "execution": {
     "iopub.execute_input": "2025-08-19T18:54:43.786425Z",
     "iopub.status.busy": "2025-08-19T18:54:43.785138Z",
     "iopub.status.idle": "2025-08-19T18:54:43.797415Z",
     "shell.execute_reply": "2025-08-19T18:54:43.796240Z"
    },
    "papermill": {
     "duration": 0.030363,
     "end_time": "2025-08-19T18:54:43.798992",
     "exception": false,
     "start_time": "2025-08-19T18:54:43.768629",
     "status": "completed"
    },
    "tags": []
   },
   "outputs": [
    {
     "data": {
      "text/plain": [
       "accuracy                   0.213911\n",
       "balanced accuracy          0.534999\n",
       "f1                         0.239873\n",
       "precision                  0.136921\n",
       "false positive rate        0.896895\n",
       "false negative rate        0.033107\n",
       "selection rate             0.905874\n",
       "count                  89710.000000\n",
       "dtype: float64"
      ]
     },
     "execution_count": 59,
     "metadata": {},
     "output_type": "execute_result"
    }
   ],
   "source": [
    "metric_frame.overall"
   ]
  },
  {
   "cell_type": "markdown",
   "id": "d93333c9",
   "metadata": {
    "papermill": {
     "duration": 0.012767,
     "end_time": "2025-08-19T18:54:43.829804",
     "exception": false,
     "start_time": "2025-08-19T18:54:43.817037",
     "status": "completed"
    },
    "tags": []
   },
   "source": [
    "By Group"
   ]
  },
  {
   "cell_type": "code",
   "execution_count": 60,
   "id": "52256966",
   "metadata": {
    "execution": {
     "iopub.execute_input": "2025-08-19T18:54:43.857506Z",
     "iopub.status.busy": "2025-08-19T18:54:43.856200Z",
     "iopub.status.idle": "2025-08-19T18:54:43.881137Z",
     "shell.execute_reply": "2025-08-19T18:54:43.880050Z"
    },
    "papermill": {
     "duration": 0.040822,
     "end_time": "2025-08-19T18:54:43.883043",
     "exception": false,
     "start_time": "2025-08-19T18:54:43.842221",
     "status": "completed"
    },
    "tags": []
   },
   "outputs": [
    {
     "data": {
      "text/html": [
       "<div>\n",
       "<style scoped>\n",
       "    .dataframe tbody tr th:only-of-type {\n",
       "        vertical-align: middle;\n",
       "    }\n",
       "\n",
       "    .dataframe tbody tr th {\n",
       "        vertical-align: top;\n",
       "    }\n",
       "\n",
       "    .dataframe thead th {\n",
       "        text-align: right;\n",
       "    }\n",
       "</style>\n",
       "<table border=\"1\" class=\"dataframe\">\n",
       "  <thead>\n",
       "    <tr style=\"text-align: right;\">\n",
       "      <th></th>\n",
       "      <th>accuracy</th>\n",
       "      <th>balanced accuracy</th>\n",
       "      <th>f1</th>\n",
       "      <th>precision</th>\n",
       "      <th>false positive rate</th>\n",
       "      <th>false negative rate</th>\n",
       "      <th>selection rate</th>\n",
       "      <th>count</th>\n",
       "    </tr>\n",
       "    <tr>\n",
       "      <th>majmin</th>\n",
       "      <th></th>\n",
       "      <th></th>\n",
       "      <th></th>\n",
       "      <th></th>\n",
       "      <th></th>\n",
       "      <th></th>\n",
       "      <th></th>\n",
       "      <th></th>\n",
       "    </tr>\n",
       "  </thead>\n",
       "  <tbody>\n",
       "    <tr>\n",
       "      <th>majority</th>\n",
       "      <td>0.205580</td>\n",
       "      <td>0.536933</td>\n",
       "      <td>0.247240</td>\n",
       "      <td>0.141314</td>\n",
       "      <td>0.913443</td>\n",
       "      <td>0.012691</td>\n",
       "      <td>0.923204</td>\n",
       "      <td>69170.0</td>\n",
       "    </tr>\n",
       "    <tr>\n",
       "      <th>minority</th>\n",
       "      <td>0.241967</td>\n",
       "      <td>0.522931</td>\n",
       "      <td>0.212682</td>\n",
       "      <td>0.120807</td>\n",
       "      <td>0.842230</td>\n",
       "      <td>0.111909</td>\n",
       "      <td>0.847517</td>\n",
       "      <td>20540.0</td>\n",
       "    </tr>\n",
       "  </tbody>\n",
       "</table>\n",
       "</div>"
      ],
      "text/plain": [
       "          accuracy  balanced accuracy        f1  precision  \\\n",
       "majmin                                                       \n",
       "majority  0.205580           0.536933  0.247240   0.141314   \n",
       "minority  0.241967           0.522931  0.212682   0.120807   \n",
       "\n",
       "          false positive rate  false negative rate  selection rate    count  \n",
       "majmin                                                                       \n",
       "majority             0.913443             0.012691        0.923204  69170.0  \n",
       "minority             0.842230             0.111909        0.847517  20540.0  "
      ]
     },
     "execution_count": 60,
     "metadata": {},
     "output_type": "execute_result"
    }
   ],
   "source": [
    "metric_frame.by_group"
   ]
  },
  {
   "cell_type": "code",
   "execution_count": 61,
   "id": "6e6c20ae",
   "metadata": {
    "execution": {
     "iopub.execute_input": "2025-08-19T18:54:43.922029Z",
     "iopub.status.busy": "2025-08-19T18:54:43.919034Z",
     "iopub.status.idle": "2025-08-19T18:54:45.872403Z",
     "shell.execute_reply": "2025-08-19T18:54:45.871337Z"
    },
    "papermill": {
     "duration": 1.973006,
     "end_time": "2025-08-19T18:54:45.877069",
     "exception": false,
     "start_time": "2025-08-19T18:54:43.904063",
     "status": "completed"
    },
    "tags": []
   },
   "outputs": [
    {
     "data": {
      "text/plain": [
       "array([[<Axes: title={'center': 'accuracy'}, xlabel='majmin'>,\n",
       "        <Axes: title={'center': 'balanced accuracy'}, xlabel='majmin'>,\n",
       "        <Axes: title={'center': 'f1'}, xlabel='majmin'>],\n",
       "       [<Axes: title={'center': 'precision'}, xlabel='majmin'>,\n",
       "        <Axes: title={'center': 'false positive rate'}, xlabel='majmin'>,\n",
       "        <Axes: title={'center': 'false negative rate'}, xlabel='majmin'>],\n",
       "       [<Axes: title={'center': 'selection rate'}, xlabel='majmin'>,\n",
       "        <Axes: title={'center': 'count'}, xlabel='majmin'>,\n",
       "        <Axes: xlabel='majmin'>]], dtype=object)"
      ]
     },
     "execution_count": 61,
     "metadata": {},
     "output_type": "execute_result"
    },
    {
     "data": {
      "image/png": "[encoded data removed]",
      "text/plain": [
       "<Figure size 1200x800 with 9 Axes>"
      ]
     },
     "metadata": {},
     "output_type": "display_data"
    }
   ],
   "source": [
    "# In a graphic\n",
    "metric_frame.by_group.plot.bar(\n",
    "    subplots=True,\n",
    "    layout=[3, 3],\n",
    "    legend=False,\n",
    "    figsize=[12, 8],\n",
    "    title=\"Show all metrics\",\n",
    ")"
   ]
  },
  {
   "cell_type": "markdown",
   "id": "b2e433ae",
   "metadata": {
    "papermill": {
     "duration": 0.013915,
     "end_time": "2025-08-19T18:54:45.917103",
     "exception": false,
     "start_time": "2025-08-19T18:54:45.903188",
     "status": "completed"
    },
    "tags": []
   },
   "source": [
    "# Final Output"
   ]
  },
  {
   "cell_type": "code",
   "execution_count": 62,
   "id": "3871301e",
   "metadata": {
    "execution": {
     "iopub.execute_input": "2025-08-19T18:54:45.961897Z",
     "iopub.status.busy": "2025-08-19T18:54:45.959523Z",
     "iopub.status.idle": "2025-08-19T18:54:45.977542Z",
     "shell.execute_reply": "2025-08-19T18:54:45.976741Z"
    },
    "papermill": {
     "duration": 0.047737,
     "end_time": "2025-08-19T18:54:45.979252",
     "exception": false,
     "start_time": "2025-08-19T18:54:45.931515",
     "status": "completed"
    },
    "tags": []
   },
   "outputs": [
    {
     "data": {
      "text/plain": [
       "4"
      ]
     },
     "execution_count": 62,
     "metadata": {},
     "output_type": "execute_result"
    }
   ],
   "source": [
    "sub_universes = universe_analysis.generate_sub_universes()\n",
    "len(sub_universes)"
   ]
  },
  {
   "cell_type": "code",
   "execution_count": 63,
   "id": "d9cfdaca",
   "metadata": {
    "execution": {
     "iopub.execute_input": "2025-08-19T18:54:46.029077Z",
     "iopub.status.busy": "2025-08-19T18:54:46.028308Z",
     "iopub.status.idle": "2025-08-19T18:54:46.036863Z",
     "shell.execute_reply": "2025-08-19T18:54:46.035693Z"
    },
    "papermill": {
     "duration": 0.030707,
     "end_time": "2025-08-19T18:54:46.040001",
     "exception": false,
     "start_time": "2025-08-19T18:54:46.009294",
     "status": "completed"
    },
    "tags": []
   },
   "outputs": [],
   "source": [
    "def filter_sub_universe_data(sub_universe, org_test):\n",
    "    # Keep all rows — no filtering\n",
    "    keep_rows_mask = np.ones(org_test.shape[0], dtype=bool)\n",
    "\n",
    "    print(f\"[INFO] Keeping all rows: {keep_rows_mask.sum()} rows retained.\")\n",
    "    return keep_rows_mask"
   ]
  },
  {
   "cell_type": "code",
   "execution_count": 64,
   "id": "2bc31ac1",
   "metadata": {
    "execution": {
     "iopub.execute_input": "2025-08-19T18:54:46.076136Z",
     "iopub.status.busy": "2025-08-19T18:54:46.075422Z",
     "iopub.status.idle": "2025-08-19T18:54:52.890855Z",
     "shell.execute_reply": "2025-08-19T18:54:52.889527Z"
    },
    "papermill": {
     "duration": 6.83317,
     "end_time": "2025-08-19T18:54:52.892230",
     "exception": false,
     "start_time": "2025-08-19T18:54:46.059060",
     "status": "completed"
    },
    "tags": []
   },
   "outputs": [
    {
     "name": "stdout",
     "output_type": "stream",
     "text": [
      "Stopping execution_time clock.\n",
      "[INFO] Keeping all rows: 89710 rows retained.\n"
     ]
    },
    {
     "name": "stdout",
     "output_type": "stream",
     "text": [
      "[INFO] Keeping all rows: 89710 rows retained.\n"
     ]
    },
    {
     "name": "stdout",
     "output_type": "stream",
     "text": [
      "[INFO] Keeping all rows: 89710 rows retained.\n"
     ]
    },
    {
     "name": "stdout",
     "output_type": "stream",
     "text": [
      "[INFO] Keeping all rows: 89710 rows retained.\n"
     ]
    },
    {
     "data": {
      "text/html": [
       "<div>\n",
       "<style scoped>\n",
       "    .dataframe tbody tr th:only-of-type {\n",
       "        vertical-align: middle;\n",
       "    }\n",
       "\n",
       "    .dataframe tbody tr th {\n",
       "        vertical-align: top;\n",
       "    }\n",
       "\n",
       "    .dataframe thead th {\n",
       "        text-align: right;\n",
       "    }\n",
       "</style>\n",
       "<table border=\"1\" class=\"dataframe\">\n",
       "  <thead>\n",
       "    <tr style=\"text-align: right;\">\n",
       "      <th></th>\n",
       "      <th>run_no</th>\n",
       "      <th>universe_id</th>\n",
       "      <th>universe_settings</th>\n",
       "      <th>execution_time</th>\n",
       "      <th>test_size_n</th>\n",
       "      <th>test_size_frac</th>\n",
       "      <th>fair_main_equalized_odds_difference</th>\n",
       "      <th>fair_main_equalized_odds_ratio</th>\n",
       "      <th>fair_main_demographic_parity_difference</th>\n",
       "      <th>fair_main_demographic_parity_ratio</th>\n",
       "      <th>...</th>\n",
       "      <th>perf_grp_precision_0</th>\n",
       "      <th>perf_grp_precision_1</th>\n",
       "      <th>perf_grp_false positive rate_0</th>\n",
       "      <th>perf_grp_false positive rate_1</th>\n",
       "      <th>perf_grp_false negative rate_0</th>\n",
       "      <th>perf_grp_false negative rate_1</th>\n",
       "      <th>perf_grp_selection rate_0</th>\n",
       "      <th>perf_grp_selection rate_1</th>\n",
       "      <th>perf_grp_count_0</th>\n",
       "      <th>perf_grp_count_1</th>\n",
       "    </tr>\n",
       "  </thead>\n",
       "  <tbody>\n",
       "    <tr>\n",
       "      <th>0</th>\n",
       "      <td>3</td>\n",
       "      <td>a1ae1242e98955fa88e56cf2c376ac96</td>\n",
       "      <td>{\"cutoff\": \"quantile_0.1\", \"eval_fairness_grou...</td>\n",
       "      <td>25.281658</td>\n",
       "      <td>89710</td>\n",
       "      <td>1.0</td>\n",
       "      <td>0.099217</td>\n",
       "      <td>0.899507</td>\n",
       "      <td>0.075687</td>\n",
       "      <td>0.918017</td>\n",
       "      <td>...</td>\n",
       "      <td>NaN</td>\n",
       "      <td>NaN</td>\n",
       "      <td>NaN</td>\n",
       "      <td>NaN</td>\n",
       "      <td>NaN</td>\n",
       "      <td>NaN</td>\n",
       "      <td>NaN</td>\n",
       "      <td>NaN</td>\n",
       "      <td>NaN</td>\n",
       "      <td>NaN</td>\n",
       "    </tr>\n",
       "    <tr>\n",
       "      <th>0</th>\n",
       "      <td>3</td>\n",
       "      <td>a1ae1242e98955fa88e56cf2c376ac96</td>\n",
       "      <td>{\"cutoff\": \"quantile_0.1\", \"eval_fairness_grou...</td>\n",
       "      <td>25.281658</td>\n",
       "      <td>89710</td>\n",
       "      <td>1.0</td>\n",
       "      <td>0.099217</td>\n",
       "      <td>0.899507</td>\n",
       "      <td>0.075687</td>\n",
       "      <td>0.918017</td>\n",
       "      <td>...</td>\n",
       "      <td>0.120807</td>\n",
       "      <td>0.141314</td>\n",
       "      <td>0.842230</td>\n",
       "      <td>0.913443</td>\n",
       "      <td>0.111909</td>\n",
       "      <td>0.012691</td>\n",
       "      <td>0.847517</td>\n",
       "      <td>0.923204</td>\n",
       "      <td>20540.0</td>\n",
       "      <td>69170.0</td>\n",
       "    </tr>\n",
       "    <tr>\n",
       "      <th>0</th>\n",
       "      <td>3</td>\n",
       "      <td>a1ae1242e98955fa88e56cf2c376ac96</td>\n",
       "      <td>{\"cutoff\": \"quantile_0.25\", \"eval_fairness_gro...</td>\n",
       "      <td>25.281658</td>\n",
       "      <td>89710</td>\n",
       "      <td>1.0</td>\n",
       "      <td>0.123177</td>\n",
       "      <td>0.869650</td>\n",
       "      <td>0.076511</td>\n",
       "      <td>0.901246</td>\n",
       "      <td>...</td>\n",
       "      <td>NaN</td>\n",
       "      <td>NaN</td>\n",
       "      <td>NaN</td>\n",
       "      <td>NaN</td>\n",
       "      <td>NaN</td>\n",
       "      <td>NaN</td>\n",
       "      <td>NaN</td>\n",
       "      <td>NaN</td>\n",
       "      <td>NaN</td>\n",
       "      <td>NaN</td>\n",
       "    </tr>\n",
       "    <tr>\n",
       "      <th>0</th>\n",
       "      <td>3</td>\n",
       "      <td>a1ae1242e98955fa88e56cf2c376ac96</td>\n",
       "      <td>{\"cutoff\": \"quantile_0.25\", \"eval_fairness_gro...</td>\n",
       "      <td>25.281658</td>\n",
       "      <td>89710</td>\n",
       "      <td>1.0</td>\n",
       "      <td>0.123177</td>\n",
       "      <td>0.869650</td>\n",
       "      <td>0.076511</td>\n",
       "      <td>0.901246</td>\n",
       "      <td>...</td>\n",
       "      <td>0.135685</td>\n",
       "      <td>0.161168</td>\n",
       "      <td>0.682148</td>\n",
       "      <td>0.748842</td>\n",
       "      <td>0.178209</td>\n",
       "      <td>0.055033</td>\n",
       "      <td>0.698247</td>\n",
       "      <td>0.774758</td>\n",
       "      <td>20540.0</td>\n",
       "      <td>69170.0</td>\n",
       "    </tr>\n",
       "  </tbody>\n",
       "</table>\n",
       "<p>4 rows × 50 columns</p>\n",
       "</div>"
      ],
      "text/plain": [
       "  run_no                       universe_id  \\\n",
       "0      3  a1ae1242e98955fa88e56cf2c376ac96   \n",
       "0      3  a1ae1242e98955fa88e56cf2c376ac96   \n",
       "0      3  a1ae1242e98955fa88e56cf2c376ac96   \n",
       "0      3  a1ae1242e98955fa88e56cf2c376ac96   \n",
       "\n",
       "                                   universe_settings  execution_time  \\\n",
       "0  {\"cutoff\": \"quantile_0.1\", \"eval_fairness_grou...       25.281658   \n",
       "0  {\"cutoff\": \"quantile_0.1\", \"eval_fairness_grou...       25.281658   \n",
       "0  {\"cutoff\": \"quantile_0.25\", \"eval_fairness_gro...       25.281658   \n",
       "0  {\"cutoff\": \"quantile_0.25\", \"eval_fairness_gro...       25.281658   \n",
       "\n",
       "   test_size_n  test_size_frac  fair_main_equalized_odds_difference  \\\n",
       "0        89710             1.0                             0.099217   \n",
       "0        89710             1.0                             0.099217   \n",
       "0        89710             1.0                             0.123177   \n",
       "0        89710             1.0                             0.123177   \n",
       "\n",
       "   fair_main_equalized_odds_ratio  fair_main_demographic_parity_difference  \\\n",
       "0                        0.899507                                 0.075687   \n",
       "0                        0.899507                                 0.075687   \n",
       "0                        0.869650                                 0.076511   \n",
       "0                        0.869650                                 0.076511   \n",
       "\n",
       "   fair_main_demographic_parity_ratio  ...  perf_grp_precision_0  \\\n",
       "0                            0.918017  ...                   NaN   \n",
       "0                            0.918017  ...              0.120807   \n",
       "0                            0.901246  ...                   NaN   \n",
       "0                            0.901246  ...              0.135685   \n",
       "\n",
       "   perf_grp_precision_1  perf_grp_false positive rate_0  \\\n",
       "0                   NaN                             NaN   \n",
       "0              0.141314                        0.842230   \n",
       "0                   NaN                             NaN   \n",
       "0              0.161168                        0.682148   \n",
       "\n",
       "   perf_grp_false positive rate_1  perf_grp_false negative rate_0  \\\n",
       "0                             NaN                             NaN   \n",
       "0                        0.913443                        0.111909   \n",
       "0                             NaN                             NaN   \n",
       "0                        0.748842                        0.178209   \n",
       "\n",
       "   perf_grp_false negative rate_1  perf_grp_selection rate_0  \\\n",
       "0                             NaN                        NaN   \n",
       "0                        0.012691                   0.847517   \n",
       "0                             NaN                        NaN   \n",
       "0                        0.055033                   0.698247   \n",
       "\n",
       "   perf_grp_selection rate_1  perf_grp_count_0  perf_grp_count_1  \n",
       "0                        NaN               NaN               NaN  \n",
       "0                   0.923204           20540.0           69170.0  \n",
       "0                        NaN               NaN               NaN  \n",
       "0                   0.774758           20540.0           69170.0  \n",
       "\n",
       "[4 rows x 50 columns]"
      ]
     },
     "execution_count": 64,
     "metadata": {},
     "output_type": "execute_result"
    }
   ],
   "source": [
    "final_output = universe_analysis.generate_final_output(\n",
    "    y_pred_prob=probs_test,\n",
    "    y_test=y_true,\n",
    "    org_test=org_test,\n",
    "    filter_data=filter_sub_universe_data,\n",
    "    cp_metrics_df=cp_metrics_df,\n",
    "    save=True,\n",
    ")\n",
    "final_output"
   ]
  },
  {
   "cell_type": "code",
   "execution_count": null,
   "id": "8b80a1ff",
   "metadata": {
    "papermill": {
     "duration": 0.01459,
     "end_time": "2025-08-19T18:54:52.925274",
     "exception": false,
     "start_time": "2025-08-19T18:54:52.910684",
     "status": "completed"
    },
    "tags": []
   },
   "outputs": [],
   "source": []
  },
  {
   "cell_type": "code",
   "execution_count": null,
   "id": "275c9fad",
   "metadata": {
    "papermill": {
     "duration": 0.014239,
     "end_time": "2025-08-19T18:54:52.954383",
     "exception": false,
     "start_time": "2025-08-19T18:54:52.940144",
     "status": "completed"
    },
    "tags": []
   },
   "outputs": [],
   "source": []
  }
 ],
 "metadata": {
  "celltoolbar": "Tags",
  "kernelspec": {
   "display_name": "Python (CMA Fairness)",
   "language": "python",
   "name": "cma_fair_env"
  },
  "language_info": {
   "codemirror_mode": {
    "name": "ipython",
    "version": 3
   },
   "file_extension": ".py",
   "mimetype": "text/x-python",
   "name": "python",
   "nbconvert_exporter": "python",
   "pygments_lexer": "ipython3",
   "version": "3.10.12"
  },
  "papermill": {
   "default_parameters": {},
   "duration": 35.832116,
   "end_time": "2025-08-19T18:54:53.806067",
   "environment_variables": {},
   "exception": null,
   "input_path": "universe_analysis.ipynb",
   "output_path": "output/runs/3/notebooks/m_3-a1ae1242e98955fa88e56cf2c376ac96.ipynb",
   "parameters": {
    "output_dir": "output",
    "run_no": "3",
    "seed": "2023",
    "universe": "{\"cutoff\": [\"quantile_0.1\", \"quantile_0.25\"], \"eval_fairness_grouping\": [\"majority-minority\", \"nationality-all\"], \"exclude_features\": \"sex\", \"exclude_subgroups\": \"keep-all\", \"model\": \"rf\", \"scale\": \"do-not-scale\", \"training_size\": \"1k\", \"training_year\": \"2014\"}",
    "universe_id": "a1ae1242e98955fa88e56cf2c376ac96"
   },
   "start_time": "2025-08-19T18:54:17.973951",
   "version": "2.6.0"
  }
 },
 "nbformat": 4,
 "nbformat_minor": 5
}