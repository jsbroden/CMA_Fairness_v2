{
 "cells": [
  {
   "cell_type": "markdown",
   "id": "ef23dbb3",
   "metadata": {
    "papermill": {
     "duration": 0.020832,
     "end_time": "2025-08-19T18:43:52.077002",
     "exception": false,
     "start_time": "2025-08-19T18:43:52.056170",
     "status": "completed"
    },
    "tags": []
   },
   "source": [
    "# Setup"
   ]
  },
  {
   "cell_type": "code",
   "execution_count": 1,
   "id": "0bc8e7dc",
   "metadata": {
    "execution": {
     "iopub.execute_input": "2025-08-19T18:43:52.106013Z",
     "iopub.status.busy": "2025-08-19T18:43:52.105235Z",
     "iopub.status.idle": "2025-08-19T18:43:52.124659Z",
     "shell.execute_reply": "2025-08-19T18:43:52.123627Z"
    },
    "papermill": {
     "duration": 0.034623,
     "end_time": "2025-08-19T18:43:52.129154",
     "exception": false,
     "start_time": "2025-08-19T18:43:52.094531",
     "status": "completed"
    },
    "tags": []
   },
   "outputs": [
    {
     "name": "stdout",
     "output_type": "stream",
     "text": [
      "/dss/dsshome1/0C/ra93lal2/cma/CMA_Fairness_v2\n"
     ]
    },
    {
     "name": "stderr",
     "output_type": "stream",
     "text": [
      "/dss/dsshome1/0C/ra93lal2/.local/share/virtualenvs/CMA_Fairness_v2-3j10GkSs/lib/python3.10/site-packages/IPython/core/magics/osm.py:393: UserWarning: This is now an optional IPython functionality, using bookmarks requires you to install the `pickleshare` library.\n",
      "  bkms = self.shell.db.get('bookmarks', {})\n",
      "/dss/dsshome1/0C/ra93lal2/.local/share/virtualenvs/CMA_Fairness_v2-3j10GkSs/lib/python3.10/site-packages/IPython/core/magics/osm.py:417: UserWarning: This is now an optional IPython functionality, setting dhist requires you to install the `pickleshare` library.\n",
      "  self.shell.db['dhist'] = compress_dhist(dhist)[-100:]\n"
     ]
    }
   ],
   "source": [
    "%cd ~/cma/CMA_Fairness_v2"
   ]
  },
  {
   "cell_type": "markdown",
   "id": "9d235661",
   "metadata": {
    "papermill": {
     "duration": 0.01064,
     "end_time": "2025-08-19T18:43:52.150385",
     "exception": false,
     "start_time": "2025-08-19T18:43:52.139745",
     "status": "completed"
    },
    "tags": []
   },
   "source": [
    "The following cell holds the definition of our parameters, these values can be overriden by rendering the with e.g. the following command:\n",
    "\n",
    "papermill -p alpha 0.2 -p ratio 0.3 universe_analysis.ipynb output/test_run.ipynb"
   ]
  },
  {
   "cell_type": "code",
   "execution_count": 2,
   "id": "4a789d8e",
   "metadata": {
    "execution": {
     "iopub.execute_input": "2025-08-19T18:43:52.170463Z",
     "iopub.status.busy": "2025-08-19T18:43:52.169747Z",
     "iopub.status.idle": "2025-08-19T18:43:52.177850Z",
     "shell.execute_reply": "2025-08-19T18:43:52.175932Z"
    },
    "papermill": {
     "duration": 0.020541,
     "end_time": "2025-08-19T18:43:52.179435",
     "exception": false,
     "start_time": "2025-08-19T18:43:52.158894",
     "status": "completed"
    },
    "tags": []
   },
   "outputs": [
    {
     "name": "stdout",
     "output_type": "stream",
     "text": [
      "Current working directory: /dss/dsshome1/0C/ra93lal2/cma/CMA_Fairness_v2\n"
     ]
    }
   ],
   "source": [
    "import os\n",
    "print(\"Current working directory:\", os.getcwd())"
   ]
  },
  {
   "cell_type": "code",
   "execution_count": 3,
   "id": "4132aaed",
   "metadata": {
    "execution": {
     "iopub.execute_input": "2025-08-19T18:43:52.221717Z",
     "iopub.status.busy": "2025-08-19T18:43:52.221316Z",
     "iopub.status.idle": "2025-08-19T18:43:52.229819Z",
     "shell.execute_reply": "2025-08-19T18:43:52.228500Z"
    },
    "papermill": {
     "duration": 0.04027,
     "end_time": "2025-08-19T18:43:52.232499",
     "exception": false,
     "start_time": "2025-08-19T18:43:52.192229",
     "status": "completed"
    },
    "tags": [
     "parameters"
    ]
   },
   "outputs": [],
   "source": [
    "run_no = 0\n",
    "universe_id = \"test\"\n",
    "universe = {\n",
    "    \"training_size\": \"5k\", # \"25k\", \"5k\", \"1k\"\n",
    "    \"training_year\": \"2012_14\", # \"2014\", \"2012_14\", \"2010_14\"\n",
    "    \"scale\": \"scale\", # \"scale\", \"do-not-scale\",\n",
    "    \"model\": \"elasticnet\", # \"logreg\", \"penalized_logreg\", \"rf\", \"gbm\", \"elasticnet\"\n",
    "    \"cutoff\": [\"quantile_0.15\", \"quantile_0.30\"],\n",
    "    \"exclude_features\": \"age\", # \"none\", \"nationality\", \"sex\", \"nationality-sex\", \"age\"\n",
    "    \"exclude_subgroups\": \"drop-non-german\", # \"keep-all\", \"drop-non-german\"\n",
    "    \"eval_fairness_grouping\": [\"majority-minority\", \"nationality-all\"]\n",
    "}\n",
    "\n",
    "output_dir=\"./output\"\n",
    "seed=0"
   ]
  },
  {
   "cell_type": "code",
   "execution_count": 4,
   "id": "56b9b4f5",
   "metadata": {
    "execution": {
     "iopub.execute_input": "2025-08-19T18:43:52.256762Z",
     "iopub.status.busy": "2025-08-19T18:43:52.256401Z",
     "iopub.status.idle": "2025-08-19T18:43:52.262073Z",
     "shell.execute_reply": "2025-08-19T18:43:52.261191Z"
    },
    "papermill": {
     "duration": 0.019386,
     "end_time": "2025-08-19T18:43:52.264677",
     "exception": false,
     "start_time": "2025-08-19T18:43:52.245291",
     "status": "completed"
    },
    "tags": [
     "injected-parameters"
    ]
   },
   "outputs": [],
   "source": [
    "# Parameters\n",
    "universe_id = \"43e43c44d4cfa077c200531c2823d6ae\"\n",
    "run_no = \"3\"\n",
    "universe = \"{\\\"cutoff\\\": [\\\"quantile_0.1\\\", \\\"quantile_0.25\\\"], \\\"eval_fairness_grouping\\\": [\\\"majority-minority\\\", \\\"nationality-all\\\"], \\\"exclude_features\\\": \\\"sex\\\", \\\"exclude_subgroups\\\": \\\"keep-all\\\", \\\"model\\\": \\\"elasticnet\\\", \\\"scale\\\": \\\"scale\\\", \\\"training_size\\\": \\\"5k\\\", \\\"training_year\\\": \\\"2010_14\\\"}\"\n",
    "output_dir = \"output\"\n",
    "seed = \"2023\"\n"
   ]
  },
  {
   "cell_type": "code",
   "execution_count": 5,
   "id": "a5d7941f",
   "metadata": {
    "execution": {
     "iopub.execute_input": "2025-08-19T18:43:52.299408Z",
     "iopub.status.busy": "2025-08-19T18:43:52.298321Z",
     "iopub.status.idle": "2025-08-19T18:43:52.305485Z",
     "shell.execute_reply": "2025-08-19T18:43:52.304253Z"
    },
    "papermill": {
     "duration": 0.021622,
     "end_time": "2025-08-19T18:43:52.306892",
     "exception": false,
     "start_time": "2025-08-19T18:43:52.285270",
     "status": "completed"
    },
    "tags": []
   },
   "outputs": [],
   "source": [
    "import json\n",
    "if isinstance(universe, str):\n",
    "    universe = json.loads(universe)"
   ]
  },
  {
   "cell_type": "code",
   "execution_count": 6,
   "id": "7076ccb1",
   "metadata": {
    "execution": {
     "iopub.execute_input": "2025-08-19T18:43:52.329223Z",
     "iopub.status.busy": "2025-08-19T18:43:52.328046Z",
     "iopub.status.idle": "2025-08-19T18:43:52.384751Z",
     "shell.execute_reply": "2025-08-19T18:43:52.383401Z"
    },
    "papermill": {
     "duration": 0.070528,
     "end_time": "2025-08-19T18:43:52.387580",
     "exception": false,
     "start_time": "2025-08-19T18:43:52.317052",
     "status": "completed"
    },
    "tags": []
   },
   "outputs": [],
   "source": [
    "# Auto-reload the custom package\n",
    "%load_ext autoreload\n",
    "%autoreload 1\n",
    "%aimport fairness_multiverse"
   ]
  },
  {
   "cell_type": "code",
   "execution_count": 7,
   "id": "94c8eb93",
   "metadata": {
    "execution": {
     "iopub.execute_input": "2025-08-19T18:43:52.423378Z",
     "iopub.status.busy": "2025-08-19T18:43:52.422210Z",
     "iopub.status.idle": "2025-08-19T18:43:53.996568Z",
     "shell.execute_reply": "2025-08-19T18:43:53.995535Z"
    },
    "papermill": {
     "duration": 1.590628,
     "end_time": "2025-08-19T18:43:53.999640",
     "exception": false,
     "start_time": "2025-08-19T18:43:52.409012",
     "status": "completed"
    },
    "tags": []
   },
   "outputs": [],
   "source": [
    "from fairness_multiverse.universe import UniverseAnalysis\n",
    "\n",
    "universe_analysis = UniverseAnalysis(\n",
    "    run_no = run_no,\n",
    "    universe_id = universe_id,\n",
    "    universe = universe,\n",
    "    output_dir=output_dir,\n",
    ")"
   ]
  },
  {
   "cell_type": "code",
   "execution_count": 8,
   "id": "2a6381cf",
   "metadata": {
    "execution": {
     "iopub.execute_input": "2025-08-19T18:43:54.040184Z",
     "iopub.status.busy": "2025-08-19T18:43:54.039467Z",
     "iopub.status.idle": "2025-08-19T18:43:54.050670Z",
     "shell.execute_reply": "2025-08-19T18:43:54.048577Z"
    },
    "papermill": {
     "duration": 0.036746,
     "end_time": "2025-08-19T18:43:54.058680",
     "exception": false,
     "start_time": "2025-08-19T18:43:54.021934",
     "status": "completed"
    },
    "tags": []
   },
   "outputs": [
    {
     "name": "stdout",
     "output_type": "stream",
     "text": [
      "Using Seed: 2023\n"
     ]
    }
   ],
   "source": [
    "import numpy as np\n",
    "parsed_seed = int(seed)\n",
    "np.random.seed(parsed_seed)\n",
    "print(f\"Using Seed: {parsed_seed}\")"
   ]
  },
  {
   "cell_type": "markdown",
   "id": "b6e958b4",
   "metadata": {
    "papermill": {
     "duration": 0.009951,
     "end_time": "2025-08-19T18:43:54.078181",
     "exception": false,
     "start_time": "2025-08-19T18:43:54.068230",
     "status": "completed"
    },
    "tags": []
   },
   "source": [
    "# Loading Data"
   ]
  },
  {
   "cell_type": "code",
   "execution_count": 9,
   "id": "98701482",
   "metadata": {
    "execution": {
     "iopub.execute_input": "2025-08-19T18:43:54.097435Z",
     "iopub.status.busy": "2025-08-19T18:43:54.097035Z",
     "iopub.status.idle": "2025-08-19T18:44:04.712714Z",
     "shell.execute_reply": "2025-08-19T18:44:04.711562Z"
    },
    "papermill": {
     "duration": 10.627113,
     "end_time": "2025-08-19T18:44:04.714210",
     "exception": false,
     "start_time": "2025-08-19T18:43:54.087097",
     "status": "completed"
    },
    "tags": []
   },
   "outputs": [
    {
     "name": "stdout",
     "output_type": "stream",
     "text": [
      "Loading SIAB data from cache: data/siab_cached.csv.gz\n"
     ]
    },
    {
     "name": "stdout",
     "output_type": "stream",
     "text": [
      "(643690, 164)\n"
     ]
    }
   ],
   "source": [
    "from pathlib import Path\n",
    "import pandas as pd\n",
    "\n",
    "# File paths\n",
    "raw_file = Path(\"data/raw/siab.csv\")\n",
    "cache_file = Path(\"data/siab_cached.csv.gz\")\n",
    "\n",
    "# Ensure cache directory exists\n",
    "cache_file.parent.mkdir(parents=True, exist_ok=True)\n",
    "\n",
    "# Load with simple caching\n",
    "if cache_file.exists():\n",
    "    print(f\"Loading SIAB data from cache: {cache_file}\")\n",
    "    siab = pd.read_csv(cache_file, compression='gzip')\n",
    "else:\n",
    "    print(f\"Cache not found. Reading raw SIAB data: {raw_file}\")\n",
    "    siab = pd.read_csv(raw_file)\n",
    "    siab.to_csv(cache_file, index=False, compression='gzip')\n",
    "    print(f\"Cached SIAB data to: {cache_file}\")\n",
    "\n",
    "print(siab.shape)"
   ]
  },
  {
   "cell_type": "code",
   "execution_count": 10,
   "id": "058d2abb",
   "metadata": {
    "execution": {
     "iopub.execute_input": "2025-08-19T18:44:04.739895Z",
     "iopub.status.busy": "2025-08-19T18:44:04.739113Z",
     "iopub.status.idle": "2025-08-19T18:44:04.936166Z",
     "shell.execute_reply": "2025-08-19T18:44:04.935084Z"
    },
    "papermill": {
     "duration": 0.211429,
     "end_time": "2025-08-19T18:44:04.939456",
     "exception": false,
     "start_time": "2025-08-19T18:44:04.728027",
     "status": "completed"
    },
    "tags": []
   },
   "outputs": [
    {
     "data": {
      "text/html": [
       "<div>\n",
       "<style scoped>\n",
       "    .dataframe tbody tr th:only-of-type {\n",
       "        vertical-align: middle;\n",
       "    }\n",
       "\n",
       "    .dataframe tbody tr th {\n",
       "        vertical-align: top;\n",
       "    }\n",
       "\n",
       "    .dataframe thead th {\n",
       "        text-align: right;\n",
       "    }\n",
       "</style>\n",
       "<table border=\"1\" class=\"dataframe\">\n",
       "  <thead>\n",
       "    <tr style=\"text-align: right;\">\n",
       "      <th></th>\n",
       "      <th>persnr</th>\n",
       "      <th>year</th>\n",
       "      <th>nrEntry</th>\n",
       "      <th>ltue</th>\n",
       "      <th>employed_before</th>\n",
       "      <th>receipt_leh_before</th>\n",
       "      <th>receipt_lhg_before</th>\n",
       "      <th>se_before</th>\n",
       "      <th>ASU_notue_seeking_before</th>\n",
       "      <th>ASU_other_before</th>\n",
       "      <th>...</th>\n",
       "      <th>minijob_tot_dur_byage</th>\n",
       "      <th>ft_tot_dur_byage</th>\n",
       "      <th>befrist_tot_dur_byage</th>\n",
       "      <th>leih_tot_dur_byage</th>\n",
       "      <th>LHG_tot_dur_byage</th>\n",
       "      <th>LEH_tot_dur_byage</th>\n",
       "      <th>almp_tot_dur_byage</th>\n",
       "      <th>almp_aw_tot_dur_byage</th>\n",
       "      <th>se_tot_dur_byage</th>\n",
       "      <th>seeking1_tot_dur_byage</th>\n",
       "    </tr>\n",
       "  </thead>\n",
       "  <tbody>\n",
       "    <tr>\n",
       "      <th>0</th>\n",
       "      <td>7</td>\n",
       "      <td>2015</td>\n",
       "      <td>1</td>\n",
       "      <td>0</td>\n",
       "      <td>1</td>\n",
       "      <td>0</td>\n",
       "      <td>0</td>\n",
       "      <td>0</td>\n",
       "      <td>1</td>\n",
       "      <td>0</td>\n",
       "      <td>...</td>\n",
       "      <td>0.000000</td>\n",
       "      <td>0.000000</td>\n",
       "      <td>15.043478</td>\n",
       "      <td>0.000000</td>\n",
       "      <td>0.000000</td>\n",
       "      <td>0.000000</td>\n",
       "      <td>0.000000</td>\n",
       "      <td>0.000000</td>\n",
       "      <td>0.000000</td>\n",
       "      <td>0.000000</td>\n",
       "    </tr>\n",
       "    <tr>\n",
       "      <th>1</th>\n",
       "      <td>18</td>\n",
       "      <td>2010</td>\n",
       "      <td>1</td>\n",
       "      <td>1</td>\n",
       "      <td>0</td>\n",
       "      <td>0</td>\n",
       "      <td>0</td>\n",
       "      <td>0</td>\n",
       "      <td>0</td>\n",
       "      <td>0</td>\n",
       "      <td>...</td>\n",
       "      <td>0.000000</td>\n",
       "      <td>0.000000</td>\n",
       "      <td>0.000000</td>\n",
       "      <td>0.000000</td>\n",
       "      <td>0.000000</td>\n",
       "      <td>0.000000</td>\n",
       "      <td>0.000000</td>\n",
       "      <td>0.000000</td>\n",
       "      <td>0.000000</td>\n",
       "      <td>0.000000</td>\n",
       "    </tr>\n",
       "    <tr>\n",
       "      <th>2</th>\n",
       "      <td>18</td>\n",
       "      <td>2011</td>\n",
       "      <td>2</td>\n",
       "      <td>0</td>\n",
       "      <td>1</td>\n",
       "      <td>0</td>\n",
       "      <td>1</td>\n",
       "      <td>0</td>\n",
       "      <td>1</td>\n",
       "      <td>0</td>\n",
       "      <td>...</td>\n",
       "      <td>2.714286</td>\n",
       "      <td>2.714286</td>\n",
       "      <td>0.000000</td>\n",
       "      <td>0.000000</td>\n",
       "      <td>10.775510</td>\n",
       "      <td>0.000000</td>\n",
       "      <td>8.367347</td>\n",
       "      <td>0.000000</td>\n",
       "      <td>0.000000</td>\n",
       "      <td>9.836735</td>\n",
       "    </tr>\n",
       "    <tr>\n",
       "      <th>3</th>\n",
       "      <td>18</td>\n",
       "      <td>2012</td>\n",
       "      <td>3</td>\n",
       "      <td>0</td>\n",
       "      <td>1</td>\n",
       "      <td>0</td>\n",
       "      <td>1</td>\n",
       "      <td>0</td>\n",
       "      <td>1</td>\n",
       "      <td>0</td>\n",
       "      <td>...</td>\n",
       "      <td>4.200000</td>\n",
       "      <td>4.200000</td>\n",
       "      <td>0.000000</td>\n",
       "      <td>0.000000</td>\n",
       "      <td>12.100000</td>\n",
       "      <td>0.000000</td>\n",
       "      <td>9.400000</td>\n",
       "      <td>0.000000</td>\n",
       "      <td>0.000000</td>\n",
       "      <td>9.960000</td>\n",
       "    </tr>\n",
       "    <tr>\n",
       "      <th>4</th>\n",
       "      <td>18</td>\n",
       "      <td>2012</td>\n",
       "      <td>4</td>\n",
       "      <td>0</td>\n",
       "      <td>1</td>\n",
       "      <td>0</td>\n",
       "      <td>1</td>\n",
       "      <td>0</td>\n",
       "      <td>1</td>\n",
       "      <td>0</td>\n",
       "      <td>...</td>\n",
       "      <td>5.460000</td>\n",
       "      <td>5.460000</td>\n",
       "      <td>0.000000</td>\n",
       "      <td>0.000000</td>\n",
       "      <td>13.360000</td>\n",
       "      <td>0.000000</td>\n",
       "      <td>10.320000</td>\n",
       "      <td>0.000000</td>\n",
       "      <td>0.000000</td>\n",
       "      <td>10.280000</td>\n",
       "    </tr>\n",
       "    <tr>\n",
       "      <th>...</th>\n",
       "      <td>...</td>\n",
       "      <td>...</td>\n",
       "      <td>...</td>\n",
       "      <td>...</td>\n",
       "      <td>...</td>\n",
       "      <td>...</td>\n",
       "      <td>...</td>\n",
       "      <td>...</td>\n",
       "      <td>...</td>\n",
       "      <td>...</td>\n",
       "      <td>...</td>\n",
       "      <td>...</td>\n",
       "      <td>...</td>\n",
       "      <td>...</td>\n",
       "      <td>...</td>\n",
       "      <td>...</td>\n",
       "      <td>...</td>\n",
       "      <td>...</td>\n",
       "      <td>...</td>\n",
       "      <td>...</td>\n",
       "      <td>...</td>\n",
       "    </tr>\n",
       "    <tr>\n",
       "      <th>643685</th>\n",
       "      <td>1827860</td>\n",
       "      <td>2013</td>\n",
       "      <td>1</td>\n",
       "      <td>0</td>\n",
       "      <td>0</td>\n",
       "      <td>0</td>\n",
       "      <td>1</td>\n",
       "      <td>0</td>\n",
       "      <td>0</td>\n",
       "      <td>1</td>\n",
       "      <td>...</td>\n",
       "      <td>0.000000</td>\n",
       "      <td>0.000000</td>\n",
       "      <td>0.000000</td>\n",
       "      <td>0.000000</td>\n",
       "      <td>0.612903</td>\n",
       "      <td>0.000000</td>\n",
       "      <td>0.000000</td>\n",
       "      <td>0.000000</td>\n",
       "      <td>0.000000</td>\n",
       "      <td>0.000000</td>\n",
       "    </tr>\n",
       "    <tr>\n",
       "      <th>643686</th>\n",
       "      <td>1827860</td>\n",
       "      <td>2015</td>\n",
       "      <td>2</td>\n",
       "      <td>1</td>\n",
       "      <td>0</td>\n",
       "      <td>0</td>\n",
       "      <td>1</td>\n",
       "      <td>0</td>\n",
       "      <td>1</td>\n",
       "      <td>0</td>\n",
       "      <td>...</td>\n",
       "      <td>0.000000</td>\n",
       "      <td>0.000000</td>\n",
       "      <td>0.212121</td>\n",
       "      <td>0.212121</td>\n",
       "      <td>17.363636</td>\n",
       "      <td>0.000000</td>\n",
       "      <td>8.909091</td>\n",
       "      <td>0.000000</td>\n",
       "      <td>0.000000</td>\n",
       "      <td>7.121212</td>\n",
       "    </tr>\n",
       "    <tr>\n",
       "      <th>643687</th>\n",
       "      <td>1827860</td>\n",
       "      <td>2016</td>\n",
       "      <td>3</td>\n",
       "      <td>1</td>\n",
       "      <td>0</td>\n",
       "      <td>0</td>\n",
       "      <td>1</td>\n",
       "      <td>1</td>\n",
       "      <td>0</td>\n",
       "      <td>1</td>\n",
       "      <td>...</td>\n",
       "      <td>0.000000</td>\n",
       "      <td>0.000000</td>\n",
       "      <td>0.294118</td>\n",
       "      <td>0.205882</td>\n",
       "      <td>34.705882</td>\n",
       "      <td>0.000000</td>\n",
       "      <td>10.352941</td>\n",
       "      <td>1.705882</td>\n",
       "      <td>1.705882</td>\n",
       "      <td>23.911765</td>\n",
       "    </tr>\n",
       "    <tr>\n",
       "      <th>643688</th>\n",
       "      <td>1827869</td>\n",
       "      <td>2013</td>\n",
       "      <td>1</td>\n",
       "      <td>1</td>\n",
       "      <td>1</td>\n",
       "      <td>0</td>\n",
       "      <td>0</td>\n",
       "      <td>0</td>\n",
       "      <td>1</td>\n",
       "      <td>0</td>\n",
       "      <td>...</td>\n",
       "      <td>0.000000</td>\n",
       "      <td>0.000000</td>\n",
       "      <td>0.000000</td>\n",
       "      <td>0.000000</td>\n",
       "      <td>0.000000</td>\n",
       "      <td>0.525424</td>\n",
       "      <td>0.000000</td>\n",
       "      <td>0.000000</td>\n",
       "      <td>0.000000</td>\n",
       "      <td>0.000000</td>\n",
       "    </tr>\n",
       "    <tr>\n",
       "      <th>643689</th>\n",
       "      <td>1827869</td>\n",
       "      <td>2014</td>\n",
       "      <td>2</td>\n",
       "      <td>0</td>\n",
       "      <td>0</td>\n",
       "      <td>1</td>\n",
       "      <td>0</td>\n",
       "      <td>0</td>\n",
       "      <td>1</td>\n",
       "      <td>0</td>\n",
       "      <td>...</td>\n",
       "      <td>0.000000</td>\n",
       "      <td>0.666667</td>\n",
       "      <td>0.666667</td>\n",
       "      <td>0.000000</td>\n",
       "      <td>0.000000</td>\n",
       "      <td>8.950000</td>\n",
       "      <td>1.033333</td>\n",
       "      <td>0.083333</td>\n",
       "      <td>0.083333</td>\n",
       "      <td>8.133333</td>\n",
       "    </tr>\n",
       "  </tbody>\n",
       "</table>\n",
       "<p>643690 rows × 164 columns</p>\n",
       "</div>"
      ],
      "text/plain": [
       "         persnr  year  nrEntry  ltue  employed_before  receipt_leh_before  \\\n",
       "0             7  2015        1     0                1                   0   \n",
       "1            18  2010        1     1                0                   0   \n",
       "2            18  2011        2     0                1                   0   \n",
       "3            18  2012        3     0                1                   0   \n",
       "4            18  2012        4     0                1                   0   \n",
       "...         ...   ...      ...   ...              ...                 ...   \n",
       "643685  1827860  2013        1     0                0                   0   \n",
       "643686  1827860  2015        2     1                0                   0   \n",
       "643687  1827860  2016        3     1                0                   0   \n",
       "643688  1827869  2013        1     1                1                   0   \n",
       "643689  1827869  2014        2     0                0                   1   \n",
       "\n",
       "        receipt_lhg_before  se_before  ASU_notue_seeking_before  \\\n",
       "0                        0          0                         1   \n",
       "1                        0          0                         0   \n",
       "2                        1          0                         1   \n",
       "3                        1          0                         1   \n",
       "4                        1          0                         1   \n",
       "...                    ...        ...                       ...   \n",
       "643685                   1          0                         0   \n",
       "643686                   1          0                         1   \n",
       "643687                   1          1                         0   \n",
       "643688                   0          0                         1   \n",
       "643689                   0          0                         1   \n",
       "\n",
       "        ASU_other_before  ...  minijob_tot_dur_byage  ft_tot_dur_byage  \\\n",
       "0                      0  ...               0.000000          0.000000   \n",
       "1                      0  ...               0.000000          0.000000   \n",
       "2                      0  ...               2.714286          2.714286   \n",
       "3                      0  ...               4.200000          4.200000   \n",
       "4                      0  ...               5.460000          5.460000   \n",
       "...                  ...  ...                    ...               ...   \n",
       "643685                 1  ...               0.000000          0.000000   \n",
       "643686                 0  ...               0.000000          0.000000   \n",
       "643687                 1  ...               0.000000          0.000000   \n",
       "643688                 0  ...               0.000000          0.000000   \n",
       "643689                 0  ...               0.000000          0.666667   \n",
       "\n",
       "        befrist_tot_dur_byage  leih_tot_dur_byage  LHG_tot_dur_byage  \\\n",
       "0                   15.043478            0.000000           0.000000   \n",
       "1                    0.000000            0.000000           0.000000   \n",
       "2                    0.000000            0.000000          10.775510   \n",
       "3                    0.000000            0.000000          12.100000   \n",
       "4                    0.000000            0.000000          13.360000   \n",
       "...                       ...                 ...                ...   \n",
       "643685               0.000000            0.000000           0.612903   \n",
       "643686               0.212121            0.212121          17.363636   \n",
       "643687               0.294118            0.205882          34.705882   \n",
       "643688               0.000000            0.000000           0.000000   \n",
       "643689               0.666667            0.000000           0.000000   \n",
       "\n",
       "        LEH_tot_dur_byage  almp_tot_dur_byage  almp_aw_tot_dur_byage  \\\n",
       "0                0.000000            0.000000               0.000000   \n",
       "1                0.000000            0.000000               0.000000   \n",
       "2                0.000000            8.367347               0.000000   \n",
       "3                0.000000            9.400000               0.000000   \n",
       "4                0.000000           10.320000               0.000000   \n",
       "...                   ...                 ...                    ...   \n",
       "643685           0.000000            0.000000               0.000000   \n",
       "643686           0.000000            8.909091               0.000000   \n",
       "643687           0.000000           10.352941               1.705882   \n",
       "643688           0.525424            0.000000               0.000000   \n",
       "643689           8.950000            1.033333               0.083333   \n",
       "\n",
       "        se_tot_dur_byage  seeking1_tot_dur_byage  \n",
       "0               0.000000                0.000000  \n",
       "1               0.000000                0.000000  \n",
       "2               0.000000                9.836735  \n",
       "3               0.000000                9.960000  \n",
       "4               0.000000               10.280000  \n",
       "...                  ...                     ...  \n",
       "643685          0.000000                0.000000  \n",
       "643686          0.000000                7.121212  \n",
       "643687          1.705882               23.911765  \n",
       "643688          0.000000                0.000000  \n",
       "643689          0.083333                8.133333  \n",
       "\n",
       "[643690 rows x 164 columns]"
      ]
     },
     "execution_count": 10,
     "metadata": {},
     "output_type": "execute_result"
    }
   ],
   "source": [
    "siab"
   ]
  },
  {
   "cell_type": "markdown",
   "id": "1f87e805",
   "metadata": {
    "papermill": {
     "duration": 0.010813,
     "end_time": "2025-08-19T18:44:04.983705",
     "exception": false,
     "start_time": "2025-08-19T18:44:04.972892",
     "status": "completed"
    },
    "tags": []
   },
   "source": [
    "# Splitting Data and Setting Training Data Size"
   ]
  },
  {
   "cell_type": "code",
   "execution_count": 11,
   "id": "910ae358",
   "metadata": {
    "execution": {
     "iopub.execute_input": "2025-08-19T18:44:05.007121Z",
     "iopub.status.busy": "2025-08-19T18:44:05.005636Z",
     "iopub.status.idle": "2025-08-19T18:44:06.079465Z",
     "shell.execute_reply": "2025-08-19T18:44:06.078767Z"
    },
    "papermill": {
     "duration": 1.086724,
     "end_time": "2025-08-19T18:44:06.081007",
     "exception": false,
     "start_time": "2025-08-19T18:44:04.994283",
     "status": "completed"
    },
    "tags": []
   },
   "outputs": [],
   "source": [
    "from fairness_multiverse.universe import sample_by_year_size\n",
    "\n",
    "siab_train = sample_by_year_size(siab,\n",
    "                               training_year=universe[\"training_year\"],\n",
    "                               training_size=universe[\"training_size\"])"
   ]
  },
  {
   "cell_type": "code",
   "execution_count": 12,
   "id": "919c8ff5",
   "metadata": {
    "execution": {
     "iopub.execute_input": "2025-08-19T18:44:06.115928Z",
     "iopub.status.busy": "2025-08-19T18:44:06.115026Z",
     "iopub.status.idle": "2025-08-19T18:44:06.126408Z",
     "shell.execute_reply": "2025-08-19T18:44:06.124761Z"
    },
    "papermill": {
     "duration": 0.033571,
     "end_time": "2025-08-19T18:44:06.128076",
     "exception": false,
     "start_time": "2025-08-19T18:44:06.094505",
     "status": "completed"
    },
    "tags": []
   },
   "outputs": [
    {
     "data": {
      "text/plain": [
       "(5000, 164)"
      ]
     },
     "execution_count": 12,
     "metadata": {},
     "output_type": "execute_result"
    }
   ],
   "source": [
    "siab_train.shape"
   ]
  },
  {
   "cell_type": "code",
   "execution_count": 13,
   "id": "feb13bf4",
   "metadata": {
    "execution": {
     "iopub.execute_input": "2025-08-19T18:44:06.155262Z",
     "iopub.status.busy": "2025-08-19T18:44:06.154826Z",
     "iopub.status.idle": "2025-08-19T18:44:06.162148Z",
     "shell.execute_reply": "2025-08-19T18:44:06.161543Z"
    },
    "papermill": {
     "duration": 0.020527,
     "end_time": "2025-08-19T18:44:06.163137",
     "exception": false,
     "start_time": "2025-08-19T18:44:06.142610",
     "status": "completed"
    },
    "tags": []
   },
   "outputs": [
    {
     "data": {
      "text/plain": [
       "year\n",
       "2010    1000\n",
       "2011    1000\n",
       "2012    1000\n",
       "2013    1000\n",
       "2014    1000\n",
       "dtype: int64"
      ]
     },
     "metadata": {},
     "output_type": "display_data"
    }
   ],
   "source": [
    "display(siab_train.groupby(\"year\").size())"
   ]
  },
  {
   "cell_type": "code",
   "execution_count": 14,
   "id": "0997782f",
   "metadata": {
    "execution": {
     "iopub.execute_input": "2025-08-19T18:44:06.186694Z",
     "iopub.status.busy": "2025-08-19T18:44:06.186283Z",
     "iopub.status.idle": "2025-08-19T18:44:06.443934Z",
     "shell.execute_reply": "2025-08-19T18:44:06.443148Z"
    },
    "papermill": {
     "duration": 0.27155,
     "end_time": "2025-08-19T18:44:06.445885",
     "exception": false,
     "start_time": "2025-08-19T18:44:06.174335",
     "status": "completed"
    },
    "tags": []
   },
   "outputs": [],
   "source": [
    "#siab_train = siab_s[siab_s.year < 2015]\n",
    "siab_calib = siab[siab.year == 2015]\n",
    "siab_test = siab[siab.year == 2016]"
   ]
  },
  {
   "cell_type": "code",
   "execution_count": 15,
   "id": "2c1e4012",
   "metadata": {
    "execution": {
     "iopub.execute_input": "2025-08-19T18:44:06.469218Z",
     "iopub.status.busy": "2025-08-19T18:44:06.468385Z",
     "iopub.status.idle": "2025-08-19T18:44:06.473801Z",
     "shell.execute_reply": "2025-08-19T18:44:06.472890Z"
    },
    "papermill": {
     "duration": 0.017941,
     "end_time": "2025-08-19T18:44:06.475034",
     "exception": false,
     "start_time": "2025-08-19T18:44:06.457093",
     "status": "completed"
    },
    "tags": []
   },
   "outputs": [],
   "source": [
    "#siab_calib.shape"
   ]
  },
  {
   "cell_type": "code",
   "execution_count": 16,
   "id": "f66b54ca",
   "metadata": {
    "execution": {
     "iopub.execute_input": "2025-08-19T18:44:06.497541Z",
     "iopub.status.busy": "2025-08-19T18:44:06.496344Z",
     "iopub.status.idle": "2025-08-19T18:44:06.502961Z",
     "shell.execute_reply": "2025-08-19T18:44:06.501693Z"
    },
    "papermill": {
     "duration": 0.01926,
     "end_time": "2025-08-19T18:44:06.504356",
     "exception": false,
     "start_time": "2025-08-19T18:44:06.485096",
     "status": "completed"
    },
    "tags": []
   },
   "outputs": [],
   "source": [
    "#siab_test.shape"
   ]
  },
  {
   "cell_type": "code",
   "execution_count": 17,
   "id": "27e4384d",
   "metadata": {
    "execution": {
     "iopub.execute_input": "2025-08-19T18:44:06.529907Z",
     "iopub.status.busy": "2025-08-19T18:44:06.528802Z",
     "iopub.status.idle": "2025-08-19T18:44:06.545625Z",
     "shell.execute_reply": "2025-08-19T18:44:06.544568Z"
    },
    "papermill": {
     "duration": 0.040562,
     "end_time": "2025-08-19T18:44:06.557165",
     "exception": false,
     "start_time": "2025-08-19T18:44:06.516603",
     "status": "completed"
    },
    "tags": []
   },
   "outputs": [],
   "source": [
    "X_train = siab_train.iloc[:,4:164]\n",
    "y_train = siab_train.iloc[:, [3]]"
   ]
  },
  {
   "cell_type": "code",
   "execution_count": 18,
   "id": "08ee8389",
   "metadata": {
    "execution": {
     "iopub.execute_input": "2025-08-19T18:44:06.579479Z",
     "iopub.status.busy": "2025-08-19T18:44:06.578287Z",
     "iopub.status.idle": "2025-08-19T18:44:06.634069Z",
     "shell.execute_reply": "2025-08-19T18:44:06.633339Z"
    },
    "papermill": {
     "duration": 0.068299,
     "end_time": "2025-08-19T18:44:06.635322",
     "exception": false,
     "start_time": "2025-08-19T18:44:06.567023",
     "status": "completed"
    },
    "tags": []
   },
   "outputs": [],
   "source": [
    "X_calib = siab_calib.iloc[:,4:164]\n",
    "y_calib = siab_calib.iloc[:, [3]]"
   ]
  },
  {
   "cell_type": "code",
   "execution_count": 19,
   "id": "b7ff42e0",
   "metadata": {
    "execution": {
     "iopub.execute_input": "2025-08-19T18:44:06.660111Z",
     "iopub.status.busy": "2025-08-19T18:44:06.659549Z",
     "iopub.status.idle": "2025-08-19T18:44:06.714989Z",
     "shell.execute_reply": "2025-08-19T18:44:06.714149Z"
    },
    "papermill": {
     "duration": 0.071974,
     "end_time": "2025-08-19T18:44:06.717403",
     "exception": false,
     "start_time": "2025-08-19T18:44:06.645429",
     "status": "completed"
    },
    "tags": []
   },
   "outputs": [],
   "source": [
    "X_test = siab_test.iloc[:,4:164]\n",
    "y_true = siab_test.iloc[:, [3]]"
   ]
  },
  {
   "cell_type": "code",
   "execution_count": 20,
   "id": "0275101e",
   "metadata": {
    "execution": {
     "iopub.execute_input": "2025-08-19T18:44:06.758238Z",
     "iopub.status.busy": "2025-08-19T18:44:06.756983Z",
     "iopub.status.idle": "2025-08-19T18:44:06.878706Z",
     "shell.execute_reply": "2025-08-19T18:44:06.877547Z"
    },
    "papermill": {
     "duration": 0.140284,
     "end_time": "2025-08-19T18:44:06.880370",
     "exception": false,
     "start_time": "2025-08-19T18:44:06.740086",
     "status": "completed"
    },
    "tags": []
   },
   "outputs": [],
   "source": [
    "# Auxiliary data needed downstream in the pipeline\n",
    "\n",
    "org_train = X_train.copy()\n",
    "org_test = X_test.copy()\n",
    "org_calib = X_calib.copy()"
   ]
  },
  {
   "cell_type": "markdown",
   "id": "b461e618",
   "metadata": {
    "papermill": {
     "duration": 0.01041,
     "end_time": "2025-08-19T18:44:06.901938",
     "exception": false,
     "start_time": "2025-08-19T18:44:06.891528",
     "status": "completed"
    },
    "tags": []
   },
   "source": [
    "# Preprocessing Data"
   ]
  },
  {
   "cell_type": "code",
   "execution_count": 21,
   "id": "78e74c4b",
   "metadata": {
    "execution": {
     "iopub.execute_input": "2025-08-19T18:44:06.923732Z",
     "iopub.status.busy": "2025-08-19T18:44:06.923101Z",
     "iopub.status.idle": "2025-08-19T18:44:06.928893Z",
     "shell.execute_reply": "2025-08-19T18:44:06.927927Z"
    },
    "papermill": {
     "duration": 0.018222,
     "end_time": "2025-08-19T18:44:06.930389",
     "exception": false,
     "start_time": "2025-08-19T18:44:06.912167",
     "status": "completed"
    },
    "tags": []
   },
   "outputs": [],
   "source": [
    "# EXCLUDE PROTECTED FEATURES\n",
    "# --------------------------\n",
    "\n",
    "excluded_features = universe[\"exclude_features\"].split(\"-\")\n",
    "excluded_features_dictionary = {\n",
    "    \"nationality\": [\"maxdeutsch1\", \"maxdeutsch.Missing.\"],\n",
    "    \"sex\": [\"frau1\"],\n",
    "    \"age\": [\"age\"],\n",
    "}"
   ]
  },
  {
   "cell_type": "code",
   "execution_count": 22,
   "id": "f8e63555",
   "metadata": {
    "execution": {
     "iopub.execute_input": "2025-08-19T18:44:06.952071Z",
     "iopub.status.busy": "2025-08-19T18:44:06.951736Z",
     "iopub.status.idle": "2025-08-19T18:44:06.956177Z",
     "shell.execute_reply": "2025-08-19T18:44:06.955498Z"
    },
    "papermill": {
     "duration": 0.016274,
     "end_time": "2025-08-19T18:44:06.957268",
     "exception": false,
     "start_time": "2025-08-19T18:44:06.940994",
     "status": "completed"
    },
    "tags": []
   },
   "outputs": [],
   "source": [
    "excluded_features_columns = [\n",
    "    excluded_features_dictionary[f] for f in excluded_features if len(f) > 0 and f != \"none\"\n",
    "]"
   ]
  },
  {
   "cell_type": "code",
   "execution_count": 23,
   "id": "da781f7c",
   "metadata": {
    "execution": {
     "iopub.execute_input": "2025-08-19T18:44:06.979555Z",
     "iopub.status.busy": "2025-08-19T18:44:06.979104Z",
     "iopub.status.idle": "2025-08-19T18:44:07.003420Z",
     "shell.execute_reply": "2025-08-19T18:44:07.002706Z"
    },
    "papermill": {
     "duration": 0.037117,
     "end_time": "2025-08-19T18:44:07.004781",
     "exception": false,
     "start_time": "2025-08-19T18:44:06.967664",
     "status": "completed"
    },
    "tags": []
   },
   "outputs": [],
   "source": [
    "from fairness_multiverse.universe import flatten_once\n",
    "\n",
    "excluded_features_columns = flatten_once(excluded_features_columns)"
   ]
  },
  {
   "cell_type": "code",
   "execution_count": 24,
   "id": "37fef0f0",
   "metadata": {
    "execution": {
     "iopub.execute_input": "2025-08-19T18:44:07.026722Z",
     "iopub.status.busy": "2025-08-19T18:44:07.026423Z",
     "iopub.status.idle": "2025-08-19T18:44:07.035487Z",
     "shell.execute_reply": "2025-08-19T18:44:07.034636Z"
    },
    "papermill": {
     "duration": 0.02202,
     "end_time": "2025-08-19T18:44:07.037067",
     "exception": false,
     "start_time": "2025-08-19T18:44:07.015047",
     "status": "completed"
    },
    "tags": []
   },
   "outputs": [
    {
     "name": "stdout",
     "output_type": "stream",
     "text": [
      "Dropping features: ['frau1']\n"
     ]
    }
   ],
   "source": [
    "if len(excluded_features_columns) > 0:\n",
    "    print(f\"Dropping features: {excluded_features_columns}\")\n",
    "    X_train.drop(excluded_features_columns, axis=1, inplace=True)"
   ]
  },
  {
   "cell_type": "code",
   "execution_count": 25,
   "id": "d029e3e9",
   "metadata": {
    "execution": {
     "iopub.execute_input": "2025-08-19T18:44:07.060928Z",
     "iopub.status.busy": "2025-08-19T18:44:07.060579Z",
     "iopub.status.idle": "2025-08-19T18:44:07.110371Z",
     "shell.execute_reply": "2025-08-19T18:44:07.109659Z"
    },
    "papermill": {
     "duration": 0.063639,
     "end_time": "2025-08-19T18:44:07.112898",
     "exception": false,
     "start_time": "2025-08-19T18:44:07.049259",
     "status": "completed"
    },
    "tags": []
   },
   "outputs": [
    {
     "name": "stdout",
     "output_type": "stream",
     "text": [
      "Dropping features: ['frau1']\n"
     ]
    }
   ],
   "source": [
    "if len(excluded_features_columns) > 0:\n",
    "    print(f\"Dropping features: {excluded_features_columns}\")\n",
    "    X_test.drop(excluded_features_columns, axis=1, inplace=True)"
   ]
  },
  {
   "cell_type": "code",
   "execution_count": 26,
   "id": "01d571f0",
   "metadata": {
    "execution": {
     "iopub.execute_input": "2025-08-19T18:44:07.150915Z",
     "iopub.status.busy": "2025-08-19T18:44:07.149922Z",
     "iopub.status.idle": "2025-08-19T18:44:07.204921Z",
     "shell.execute_reply": "2025-08-19T18:44:07.204180Z"
    },
    "papermill": {
     "duration": 0.071793,
     "end_time": "2025-08-19T18:44:07.207986",
     "exception": false,
     "start_time": "2025-08-19T18:44:07.136193",
     "status": "completed"
    },
    "tags": []
   },
   "outputs": [
    {
     "name": "stdout",
     "output_type": "stream",
     "text": [
      "Dropping features: ['frau1']\n"
     ]
    }
   ],
   "source": [
    "if len(excluded_features_columns) > 0:\n",
    "    print(f\"Dropping features: {excluded_features_columns}\")\n",
    "    X_calib.drop(excluded_features_columns, axis=1, inplace=True)"
   ]
  },
  {
   "cell_type": "code",
   "execution_count": 27,
   "id": "3037356e",
   "metadata": {
    "execution": {
     "iopub.execute_input": "2025-08-19T18:44:07.244030Z",
     "iopub.status.busy": "2025-08-19T18:44:07.242980Z",
     "iopub.status.idle": "2025-08-19T18:44:07.251095Z",
     "shell.execute_reply": "2025-08-19T18:44:07.249443Z"
    },
    "papermill": {
     "duration": 0.022632,
     "end_time": "2025-08-19T18:44:07.252751",
     "exception": false,
     "start_time": "2025-08-19T18:44:07.230119",
     "status": "completed"
    },
    "tags": []
   },
   "outputs": [],
   "source": [
    "# EXCLUDE CERTAIN SUBGROUPS\n",
    "# -------------------------\n",
    "\n",
    "mode = universe.get(\"exclude_subgroups\", \"keep-all\") # Defaults to \"keep-all\" if the key is missing."
   ]
  },
  {
   "cell_type": "code",
   "execution_count": 28,
   "id": "9d1e63fd",
   "metadata": {
    "execution": {
     "iopub.execute_input": "2025-08-19T18:44:07.287354Z",
     "iopub.status.busy": "2025-08-19T18:44:07.285781Z",
     "iopub.status.idle": "2025-08-19T18:44:07.296346Z",
     "shell.execute_reply": "2025-08-19T18:44:07.295123Z"
    },
    "papermill": {
     "duration": 0.029852,
     "end_time": "2025-08-19T18:44:07.298468",
     "exception": false,
     "start_time": "2025-08-19T18:44:07.268616",
     "status": "completed"
    },
    "tags": []
   },
   "outputs": [],
   "source": [
    "if mode == \"keep-all\":\n",
    "    keep_mask = pd.Series(True, index=org_train.index)\n",
    "\n",
    "elif mode == \"drop-non-german\":\n",
    "    keep_mask = (org_train[\"maxdeutsch1\"] == 1) & (org_train[\"maxdeutsch.Missing.\"] == 0)\n",
    "\n",
    "else:\n",
    "    raise ValueError(f\"Unsupported mode for exclude_subgroups: {mode}\")"
   ]
  },
  {
   "cell_type": "code",
   "execution_count": 29,
   "id": "d3b65474",
   "metadata": {
    "execution": {
     "iopub.execute_input": "2025-08-19T18:44:07.332709Z",
     "iopub.status.busy": "2025-08-19T18:44:07.331619Z",
     "iopub.status.idle": "2025-08-19T18:44:07.342418Z",
     "shell.execute_reply": "2025-08-19T18:44:07.341207Z"
    },
    "papermill": {
     "duration": 0.026854,
     "end_time": "2025-08-19T18:44:07.344111",
     "exception": false,
     "start_time": "2025-08-19T18:44:07.317257",
     "status": "completed"
    },
    "tags": []
   },
   "outputs": [],
   "source": [
    "n_drop = (~keep_mask).sum() # Calculates how many rows are set to be dropped\n",
    "if n_drop > 0:\n",
    "    pct = n_drop / len(keep_mask) * 100\n",
    "    print(f\"Dropping {n_drop} rows ({pct:.2f}%) where mode='{mode}'\")"
   ]
  },
  {
   "cell_type": "code",
   "execution_count": 30,
   "id": "f44389b3",
   "metadata": {
    "execution": {
     "iopub.execute_input": "2025-08-19T18:44:07.380867Z",
     "iopub.status.busy": "2025-08-19T18:44:07.379469Z",
     "iopub.status.idle": "2025-08-19T18:44:07.392745Z",
     "shell.execute_reply": "2025-08-19T18:44:07.391595Z"
    },
    "papermill": {
     "duration": 0.027609,
     "end_time": "2025-08-19T18:44:07.394309",
     "exception": false,
     "start_time": "2025-08-19T18:44:07.366700",
     "status": "completed"
    },
    "tags": []
   },
   "outputs": [],
   "source": [
    "X_train = X_train[keep_mask]"
   ]
  },
  {
   "cell_type": "code",
   "execution_count": 31,
   "id": "ceca8c2a",
   "metadata": {
    "execution": {
     "iopub.execute_input": "2025-08-19T18:44:07.420721Z",
     "iopub.status.busy": "2025-08-19T18:44:07.419263Z",
     "iopub.status.idle": "2025-08-19T18:44:07.429691Z",
     "shell.execute_reply": "2025-08-19T18:44:07.428190Z"
    },
    "papermill": {
     "duration": 0.023686,
     "end_time": "2025-08-19T18:44:07.431017",
     "exception": false,
     "start_time": "2025-08-19T18:44:07.407331",
     "status": "completed"
    },
    "tags": []
   },
   "outputs": [],
   "source": [
    "y_train = y_train[keep_mask]"
   ]
  },
  {
   "cell_type": "markdown",
   "id": "04d31e2f",
   "metadata": {
    "papermill": {
     "duration": 0.010265,
     "end_time": "2025-08-19T18:44:07.454664",
     "exception": false,
     "start_time": "2025-08-19T18:44:07.444399",
     "status": "completed"
    },
    "tags": []
   },
   "source": [
    "# Model Training"
   ]
  },
  {
   "cell_type": "code",
   "execution_count": 32,
   "id": "db991733",
   "metadata": {
    "execution": {
     "iopub.execute_input": "2025-08-19T18:44:07.477084Z",
     "iopub.status.busy": "2025-08-19T18:44:07.476760Z",
     "iopub.status.idle": "2025-08-19T18:44:07.613149Z",
     "shell.execute_reply": "2025-08-19T18:44:07.612267Z"
    },
    "papermill": {
     "duration": 0.149493,
     "end_time": "2025-08-19T18:44:07.614862",
     "exception": false,
     "start_time": "2025-08-19T18:44:07.465369",
     "status": "completed"
    },
    "tags": []
   },
   "outputs": [],
   "source": [
    "from sklearn.linear_model import LogisticRegression\n",
    "from sklearn.ensemble import GradientBoostingClassifier, RandomForestClassifier\n",
    "\n",
    "if (universe[\"model\"] == \"logreg\"):\n",
    "    model = LogisticRegression() #penalty=\"none\", solver=\"newton-cg\", max_iter=1)\n",
    "elif (universe[\"model\"] == \"penalized_logreg\"):\n",
    "    model = LogisticRegression(penalty=\"l2\", C=0.1) #, solver=\"newton-cg\", max_iter=1)\n",
    "elif (universe[\"model\"] == \"rf\"):\n",
    "    model = RandomForestClassifier() # n_estimators=100, n_jobs=-1\n",
    "elif (universe[\"model\"] == \"gbm\"):\n",
    "    model = GradientBoostingClassifier()\n",
    "elif (universe[\"model\"] == \"elasticnet\"):\n",
    "    model = LogisticRegression(penalty = 'elasticnet', solver = 'saga', l1_ratio = 0.5) # max_iter=5000\n",
    "else:\n",
    "    raise \"Unsupported universe.model\""
   ]
  },
  {
   "cell_type": "code",
   "execution_count": 33,
   "id": "a4b5cd25",
   "metadata": {
    "execution": {
     "iopub.execute_input": "2025-08-19T18:44:07.638355Z",
     "iopub.status.busy": "2025-08-19T18:44:07.637901Z",
     "iopub.status.idle": "2025-08-19T18:44:07.644159Z",
     "shell.execute_reply": "2025-08-19T18:44:07.643041Z"
    },
    "papermill": {
     "duration": 0.019641,
     "end_time": "2025-08-19T18:44:07.645452",
     "exception": false,
     "start_time": "2025-08-19T18:44:07.625811",
     "status": "completed"
    },
    "tags": []
   },
   "outputs": [],
   "source": [
    "from sklearn.pipeline import Pipeline\n",
    "from sklearn.preprocessing import StandardScaler\n",
    "\n",
    "model = Pipeline([\n",
    "    #(\"continuous_processor\", continuous_processor),\n",
    "    #(\"categorical_preprocessor\", categorical_preprocessor),\n",
    "    (\"scale\", StandardScaler() if universe[\"scale\"] == \"scale\" else None), \n",
    "    (\"model\", model),\n",
    "])"
   ]
  },
  {
   "cell_type": "code",
   "execution_count": 34,
   "id": "283a904d",
   "metadata": {
    "execution": {
     "iopub.execute_input": "2025-08-19T18:44:07.672199Z",
     "iopub.status.busy": "2025-08-19T18:44:07.671502Z",
     "iopub.status.idle": "2025-08-19T18:44:08.905400Z",
     "shell.execute_reply": "2025-08-19T18:44:08.904655Z"
    },
    "papermill": {
     "duration": 1.247846,
     "end_time": "2025-08-19T18:44:08.906532",
     "exception": false,
     "start_time": "2025-08-19T18:44:07.658686",
     "status": "completed"
    },
    "tags": []
   },
   "outputs": [
    {
     "name": "stderr",
     "output_type": "stream",
     "text": [
      "/dss/dsshome1/0C/ra93lal2/.local/share/virtualenvs/CMA_Fairness_v2-3j10GkSs/lib/python3.10/site-packages/sklearn/linear_model/_sag.py:350: ConvergenceWarning: The max_iter was reached which means the coef_ did not converge\n",
      "  warnings.warn(\n"
     ]
    },
    {
     "data": {
      "text/html": [
       "<style>#sk-container-id-1 {color: black;background-color: white;}#sk-container-id-1 pre{padding: 0;}#sk-container-id-1 div.sk-toggleable {background-color: white;}#sk-container-id-1 label.sk-toggleable__label {cursor: pointer;display: block;width: 100%;margin-bottom: 0;padding: 0.3em;box-sizing: border-box;text-align: center;}#sk-container-id-1 label.sk-toggleable__label-arrow:before {content: \"▸\";float: left;margin-right: 0.25em;color: #696969;}#sk-container-id-1 label.sk-toggleable__label-arrow:hover:before {color: black;}#sk-container-id-1 div.sk-estimator:hover label.sk-toggleable__label-arrow:before {color: black;}#sk-container-id-1 div.sk-toggleable__content {max-height: 0;max-width: 0;overflow: hidden;text-align: left;background-color: #f0f8ff;}#sk-container-id-1 div.sk-toggleable__content pre {margin: 0.2em;color: black;border-radius: 0.25em;background-color: #f0f8ff;}#sk-container-id-1 input.sk-toggleable__control:checked~div.sk-toggleable__content {max-height: 200px;max-width: 100%;overflow: auto;}#sk-container-id-1 input.sk-toggleable__control:checked~label.sk-toggleable__label-arrow:before {content: \"▾\";}#sk-container-id-1 div.sk-estimator input.sk-toggleable__control:checked~label.sk-toggleable__label {background-color: #d4ebff;}#sk-container-id-1 div.sk-label input.sk-toggleable__control:checked~label.sk-toggleable__label {background-color: #d4ebff;}#sk-container-id-1 input.sk-hidden--visually {border: 0;clip: rect(1px 1px 1px 1px);clip: rect(1px, 1px, 1px, 1px);height: 1px;margin: -1px;overflow: hidden;padding: 0;position: absolute;width: 1px;}#sk-container-id-1 div.sk-estimator {font-family: monospace;background-color: #f0f8ff;border: 1px dotted black;border-radius: 0.25em;box-sizing: border-box;margin-bottom: 0.5em;}#sk-container-id-1 div.sk-estimator:hover {background-color: #d4ebff;}#sk-container-id-1 div.sk-parallel-item::after {content: \"\";width: 100%;border-bottom: 1px solid gray;flex-grow: 1;}#sk-container-id-1 div.sk-label:hover label.sk-toggleable__label {background-color: #d4ebff;}#sk-container-id-1 div.sk-serial::before {content: \"\";position: absolute;border-left: 1px solid gray;box-sizing: border-box;top: 0;bottom: 0;left: 50%;z-index: 0;}#sk-container-id-1 div.sk-serial {display: flex;flex-direction: column;align-items: center;background-color: white;padding-right: 0.2em;padding-left: 0.2em;position: relative;}#sk-container-id-1 div.sk-item {position: relative;z-index: 1;}#sk-container-id-1 div.sk-parallel {display: flex;align-items: stretch;justify-content: center;background-color: white;position: relative;}#sk-container-id-1 div.sk-item::before, #sk-container-id-1 div.sk-parallel-item::before {content: \"\";position: absolute;border-left: 1px solid gray;box-sizing: border-box;top: 0;bottom: 0;left: 50%;z-index: -1;}#sk-container-id-1 div.sk-parallel-item {display: flex;flex-direction: column;z-index: 1;position: relative;background-color: white;}#sk-container-id-1 div.sk-parallel-item:first-child::after {align-self: flex-end;width: 50%;}#sk-container-id-1 div.sk-parallel-item:last-child::after {align-self: flex-start;width: 50%;}#sk-container-id-1 div.sk-parallel-item:only-child::after {width: 0;}#sk-container-id-1 div.sk-dashed-wrapped {border: 1px dashed gray;margin: 0 0.4em 0.5em 0.4em;box-sizing: border-box;padding-bottom: 0.4em;background-color: white;}#sk-container-id-1 div.sk-label label {font-family: monospace;font-weight: bold;display: inline-block;line-height: 1.2em;}#sk-container-id-1 div.sk-label-container {text-align: center;}#sk-container-id-1 div.sk-container {/* jupyter's `normalize.less` sets `[hidden] { display: none; }` but bootstrap.min.css set `[hidden] { display: none !important; }` so we also need the `!important` here to be able to override the default hidden behavior on the sphinx rendered scikit-learn.org. See: https://github.com/scikit-learn/scikit-learn/issues/21755 */display: inline-block !important;position: relative;}#sk-container-id-1 div.sk-text-repr-fallback {display: none;}</style><div id=\"sk-container-id-1\" class=\"sk-top-container\"><div class=\"sk-text-repr-fallback\"><pre>Pipeline(steps=[(&#x27;scale&#x27;, StandardScaler()),\n",
       "                (&#x27;model&#x27;,\n",
       "                 LogisticRegression(l1_ratio=0.5, penalty=&#x27;elasticnet&#x27;,\n",
       "                                    solver=&#x27;saga&#x27;))])</pre><b>In a Jupyter environment, please rerun this cell to show the HTML representation or trust the notebook. <br />On GitHub, the HTML representation is unable to render, please try loading this page with nbviewer.org.</b></div><div class=\"sk-container\" hidden><div class=\"sk-item sk-dashed-wrapped\"><div class=\"sk-label-container\"><div class=\"sk-label sk-toggleable\"><input class=\"sk-toggleable__control sk-hidden--visually\" id=\"sk-estimator-id-1\" type=\"checkbox\" ><label for=\"sk-estimator-id-1\" class=\"sk-toggleable__label sk-toggleable__label-arrow\">Pipeline</label><div class=\"sk-toggleable__content\"><pre>Pipeline(steps=[(&#x27;scale&#x27;, StandardScaler()),\n",
       "                (&#x27;model&#x27;,\n",
       "                 LogisticRegression(l1_ratio=0.5, penalty=&#x27;elasticnet&#x27;,\n",
       "                                    solver=&#x27;saga&#x27;))])</pre></div></div></div><div class=\"sk-serial\"><div class=\"sk-item\"><div class=\"sk-estimator sk-toggleable\"><input class=\"sk-toggleable__control sk-hidden--visually\" id=\"sk-estimator-id-2\" type=\"checkbox\" ><label for=\"sk-estimator-id-2\" class=\"sk-toggleable__label sk-toggleable__label-arrow\">StandardScaler</label><div class=\"sk-toggleable__content\"><pre>StandardScaler()</pre></div></div></div><div class=\"sk-item\"><div class=\"sk-estimator sk-toggleable\"><input class=\"sk-toggleable__control sk-hidden--visually\" id=\"sk-estimator-id-3\" type=\"checkbox\" ><label for=\"sk-estimator-id-3\" class=\"sk-toggleable__label sk-toggleable__label-arrow\">LogisticRegression</label><div class=\"sk-toggleable__content\"><pre>LogisticRegression(l1_ratio=0.5, penalty=&#x27;elasticnet&#x27;, solver=&#x27;saga&#x27;)</pre></div></div></div></div></div></div></div>"
      ],
      "text/plain": [
       "Pipeline(steps=[('scale', StandardScaler()),\n",
       "                ('model',\n",
       "                 LogisticRegression(l1_ratio=0.5, penalty='elasticnet',\n",
       "                                    solver='saga'))])"
      ]
     },
     "execution_count": 34,
     "metadata": {},
     "output_type": "execute_result"
    }
   ],
   "source": [
    "model.fit(X_train, y_train.values.ravel())"
   ]
  },
  {
   "cell_type": "code",
   "execution_count": 35,
   "id": "6e15e313",
   "metadata": {
    "execution": {
     "iopub.execute_input": "2025-08-19T18:44:08.930365Z",
     "iopub.status.busy": "2025-08-19T18:44:08.929840Z",
     "iopub.status.idle": "2025-08-19T18:44:09.131962Z",
     "shell.execute_reply": "2025-08-19T18:44:09.130335Z"
    },
    "papermill": {
     "duration": 0.216713,
     "end_time": "2025-08-19T18:44:09.134465",
     "exception": false,
     "start_time": "2025-08-19T18:44:08.917752",
     "status": "completed"
    },
    "tags": []
   },
   "outputs": [
    {
     "data": {
      "text/plain": [
       "0.8533050941923978"
      ]
     },
     "execution_count": 35,
     "metadata": {},
     "output_type": "execute_result"
    }
   ],
   "source": [
    "from fairness_multiverse.universe import predict_w_threshold\n",
    "\n",
    "probs_test = model.predict_proba(X_test)\n",
    "\n",
    "'''\n",
    "Below code returns a boolean array (or binary 0/1 array depending on how it’s used) where each element \n",
    "is True if the probability of class 1 is greater than or equal to the threshold, and False otherwise.\n",
    "'''\n",
    "y_pred_default = predict_w_threshold(probs_test, 0.5)\n",
    "\n",
    "from sklearn.metrics import accuracy_score\n",
    "\n",
    "# Naive prediction\n",
    "accuracy_score(y_true = y_true, y_pred = y_pred_default)"
   ]
  },
  {
   "cell_type": "code",
   "execution_count": 36,
   "id": "6f14067c",
   "metadata": {
    "execution": {
     "iopub.execute_input": "2025-08-19T18:44:09.159069Z",
     "iopub.status.busy": "2025-08-19T18:44:09.158307Z",
     "iopub.status.idle": "2025-08-19T18:44:09.350615Z",
     "shell.execute_reply": "2025-08-19T18:44:09.349869Z"
    },
    "papermill": {
     "duration": 0.206121,
     "end_time": "2025-08-19T18:44:09.351905",
     "exception": false,
     "start_time": "2025-08-19T18:44:09.145784",
     "status": "completed"
    },
    "tags": []
   },
   "outputs": [
    {
     "data": {
      "text/plain": [
       "array([0, 0, 0, ..., 0, 0, 0])"
      ]
     },
     "execution_count": 36,
     "metadata": {},
     "output_type": "execute_result"
    }
   ],
   "source": [
    "model.predict(X_test)"
   ]
  },
  {
   "cell_type": "markdown",
   "id": "3759920c",
   "metadata": {
    "papermill": {
     "duration": 0.011023,
     "end_time": "2025-08-19T18:44:09.378651",
     "exception": false,
     "start_time": "2025-08-19T18:44:09.367628",
     "status": "completed"
    },
    "tags": []
   },
   "source": [
    "# Conformal Prediction"
   ]
  },
  {
   "cell_type": "code",
   "execution_count": 37,
   "id": "14b27f59",
   "metadata": {
    "execution": {
     "iopub.execute_input": "2025-08-19T18:44:09.403884Z",
     "iopub.status.busy": "2025-08-19T18:44:09.402147Z",
     "iopub.status.idle": "2025-08-19T18:44:09.410658Z",
     "shell.execute_reply": "2025-08-19T18:44:09.409302Z"
    },
    "papermill": {
     "duration": 0.022488,
     "end_time": "2025-08-19T18:44:09.412051",
     "exception": false,
     "start_time": "2025-08-19T18:44:09.389563",
     "status": "completed"
    },
    "tags": []
   },
   "outputs": [],
   "source": [
    "# Miscoverage level for conformal prediction (10% allowed error rate => 90% target coverage)\n",
    "alpha = 0.1"
   ]
  },
  {
   "cell_type": "code",
   "execution_count": 38,
   "id": "59102472",
   "metadata": {
    "execution": {
     "iopub.execute_input": "2025-08-19T18:44:09.439945Z",
     "iopub.status.busy": "2025-08-19T18:44:09.438708Z",
     "iopub.status.idle": "2025-08-19T18:44:09.628725Z",
     "shell.execute_reply": "2025-08-19T18:44:09.628000Z"
    },
    "papermill": {
     "duration": 0.205905,
     "end_time": "2025-08-19T18:44:09.631398",
     "exception": false,
     "start_time": "2025-08-19T18:44:09.425493",
     "status": "completed"
    },
    "tags": []
   },
   "outputs": [],
   "source": [
    "probs_calib = model.predict_proba(X_calib)"
   ]
  },
  {
   "cell_type": "code",
   "execution_count": 39,
   "id": "a792d4dd",
   "metadata": {
    "execution": {
     "iopub.execute_input": "2025-08-19T18:44:09.672625Z",
     "iopub.status.busy": "2025-08-19T18:44:09.670250Z",
     "iopub.status.idle": "2025-08-19T18:44:09.681969Z",
     "shell.execute_reply": "2025-08-19T18:44:09.680124Z"
    },
    "papermill": {
     "duration": 0.027992,
     "end_time": "2025-08-19T18:44:09.683982",
     "exception": false,
     "start_time": "2025-08-19T18:44:09.655990",
     "status": "completed"
    },
    "tags": []
   },
   "outputs": [],
   "source": [
    "y_calib = y_calib.values.ravel().astype(int)"
   ]
  },
  {
   "cell_type": "code",
   "execution_count": 40,
   "id": "650fd033",
   "metadata": {
    "execution": {
     "iopub.execute_input": "2025-08-19T18:44:09.713758Z",
     "iopub.status.busy": "2025-08-19T18:44:09.713052Z",
     "iopub.status.idle": "2025-08-19T18:44:09.723992Z",
     "shell.execute_reply": "2025-08-19T18:44:09.722861Z"
    },
    "papermill": {
     "duration": 0.025964,
     "end_time": "2025-08-19T18:44:09.725462",
     "exception": false,
     "start_time": "2025-08-19T18:44:09.699498",
     "status": "completed"
    },
    "tags": []
   },
   "outputs": [],
   "source": [
    "from fairness_multiverse.conformal import compute_nc_scores\n",
    "\n",
    "# Compute nonconformity scores on calibration set (1 - probability of true class)\n",
    "nc_scores = compute_nc_scores(probs_calib, y_calib)"
   ]
  },
  {
   "cell_type": "code",
   "execution_count": 41,
   "id": "28ada44c",
   "metadata": {
    "execution": {
     "iopub.execute_input": "2025-08-19T18:44:09.757932Z",
     "iopub.status.busy": "2025-08-19T18:44:09.757227Z",
     "iopub.status.idle": "2025-08-19T18:44:09.767362Z",
     "shell.execute_reply": "2025-08-19T18:44:09.766104Z"
    },
    "papermill": {
     "duration": 0.025939,
     "end_time": "2025-08-19T18:44:09.768647",
     "exception": false,
     "start_time": "2025-08-19T18:44:09.742708",
     "status": "completed"
    },
    "tags": []
   },
   "outputs": [],
   "source": [
    "from fairness_multiverse.conformal import find_threshold\n",
    "\n",
    "# Find conformal threshold q_hat for the given alpha (split conformal method)\n",
    "q_hat = find_threshold(nc_scores, alpha)"
   ]
  },
  {
   "cell_type": "code",
   "execution_count": 42,
   "id": "df56469e",
   "metadata": {
    "execution": {
     "iopub.execute_input": "2025-08-19T18:44:09.810064Z",
     "iopub.status.busy": "2025-08-19T18:44:09.809183Z",
     "iopub.status.idle": "2025-08-19T18:44:09.815776Z",
     "shell.execute_reply": "2025-08-19T18:44:09.814848Z"
    },
    "papermill": {
     "duration": 0.03501,
     "end_time": "2025-08-19T18:44:09.817456",
     "exception": false,
     "start_time": "2025-08-19T18:44:09.782446",
     "status": "completed"
    },
    "tags": []
   },
   "outputs": [
    {
     "data": {
      "text/plain": [
       "0.6773445403467102"
      ]
     },
     "execution_count": 42,
     "metadata": {},
     "output_type": "execute_result"
    }
   ],
   "source": [
    "q_hat"
   ]
  },
  {
   "cell_type": "code",
   "execution_count": 43,
   "id": "aa1f5faa",
   "metadata": {
    "execution": {
     "iopub.execute_input": "2025-08-19T18:44:09.852879Z",
     "iopub.status.busy": "2025-08-19T18:44:09.849601Z",
     "iopub.status.idle": "2025-08-19T18:44:10.461330Z",
     "shell.execute_reply": "2025-08-19T18:44:10.460025Z"
    },
    "papermill": {
     "duration": 0.626586,
     "end_time": "2025-08-19T18:44:10.462790",
     "exception": false,
     "start_time": "2025-08-19T18:44:09.836204",
     "status": "completed"
    },
    "tags": []
   },
   "outputs": [],
   "source": [
    "from fairness_multiverse.conformal import predict_conformal_sets\n",
    "\n",
    "# Generate prediction sets for each test example\n",
    "pred_sets = predict_conformal_sets(model, X_test, q_hat)"
   ]
  },
  {
   "cell_type": "code",
   "execution_count": 44,
   "id": "97f67a6b",
   "metadata": {
    "execution": {
     "iopub.execute_input": "2025-08-19T18:44:10.488823Z",
     "iopub.status.busy": "2025-08-19T18:44:10.487585Z",
     "iopub.status.idle": "2025-08-19T18:44:10.498058Z",
     "shell.execute_reply": "2025-08-19T18:44:10.496687Z"
    },
    "papermill": {
     "duration": 0.025093,
     "end_time": "2025-08-19T18:44:10.499666",
     "exception": false,
     "start_time": "2025-08-19T18:44:10.474573",
     "status": "completed"
    },
    "tags": []
   },
   "outputs": [],
   "source": [
    "y_true = y_true.squeeze()"
   ]
  },
  {
   "cell_type": "code",
   "execution_count": 45,
   "id": "e700e9a7",
   "metadata": {
    "execution": {
     "iopub.execute_input": "2025-08-19T18:44:10.528077Z",
     "iopub.status.busy": "2025-08-19T18:44:10.527020Z",
     "iopub.status.idle": "2025-08-19T18:44:11.165735Z",
     "shell.execute_reply": "2025-08-19T18:44:11.164499Z"
    },
    "papermill": {
     "duration": 0.654958,
     "end_time": "2025-08-19T18:44:11.168596",
     "exception": false,
     "start_time": "2025-08-19T18:44:10.513638",
     "status": "completed"
    },
    "tags": []
   },
   "outputs": [],
   "source": [
    "from fairness_multiverse.conformal import evaluate_sets\n",
    "\n",
    "# Evaluate coverage and average set size on test data\n",
    "metrics = evaluate_sets(pred_sets, y_true)"
   ]
  },
  {
   "cell_type": "markdown",
   "id": "efbacec0",
   "metadata": {
    "papermill": {
     "duration": 0.013073,
     "end_time": "2025-08-19T18:44:11.208600",
     "exception": false,
     "start_time": "2025-08-19T18:44:11.195527",
     "status": "completed"
    },
    "tags": []
   },
   "source": [
    "# CP Metrics"
   ]
  },
  {
   "cell_type": "code",
   "execution_count": 46,
   "id": "9de55fb1",
   "metadata": {
    "execution": {
     "iopub.execute_input": "2025-08-19T18:44:11.235320Z",
     "iopub.status.busy": "2025-08-19T18:44:11.234442Z",
     "iopub.status.idle": "2025-08-19T18:44:11.247500Z",
     "shell.execute_reply": "2025-08-19T18:44:11.246284Z"
    },
    "papermill": {
     "duration": 0.029247,
     "end_time": "2025-08-19T18:44:11.249081",
     "exception": false,
     "start_time": "2025-08-19T18:44:11.219834",
     "status": "completed"
    },
    "tags": []
   },
   "outputs": [
    {
     "data": {
      "text/plain": [
       "{'coverage': 0.9109575298183035, 'avg_size': 1.1445769702374318}"
      ]
     },
     "execution_count": 46,
     "metadata": {},
     "output_type": "execute_result"
    }
   ],
   "source": [
    "metrics"
   ]
  },
  {
   "cell_type": "code",
   "execution_count": 47,
   "id": "64c340a1",
   "metadata": {
    "execution": {
     "iopub.execute_input": "2025-08-19T18:44:11.278645Z",
     "iopub.status.busy": "2025-08-19T18:44:11.277971Z",
     "iopub.status.idle": "2025-08-19T18:44:11.287678Z",
     "shell.execute_reply": "2025-08-19T18:44:11.286391Z"
    },
    "papermill": {
     "duration": 0.024994,
     "end_time": "2025-08-19T18:44:11.289181",
     "exception": false,
     "start_time": "2025-08-19T18:44:11.264187",
     "status": "completed"
    },
    "tags": []
   },
   "outputs": [],
   "source": [
    "example_universe = universe.copy()\n",
    "universe_training_year = example_universe.get(\"training_year\")\n",
    "universe_training_size = example_universe.get(\"training_size\")\n",
    "universe_scale = example_universe.get(\"scale\")\n",
    "universe_model = example_universe.get(\"model\")\n",
    "universe_exclude_features = example_universe.get(\"exclude_features\")\n",
    "universe_exclude_subgroups = example_universe.get(\"exclude_subgroups\")"
   ]
  },
  {
   "cell_type": "code",
   "execution_count": 48,
   "id": "dbb53cb4",
   "metadata": {
    "execution": {
     "iopub.execute_input": "2025-08-19T18:44:11.318614Z",
     "iopub.status.busy": "2025-08-19T18:44:11.317945Z",
     "iopub.status.idle": "2025-08-19T18:44:11.327663Z",
     "shell.execute_reply": "2025-08-19T18:44:11.326439Z"
    },
    "papermill": {
     "duration": 0.025132,
     "end_time": "2025-08-19T18:44:11.329171",
     "exception": false,
     "start_time": "2025-08-19T18:44:11.304039",
     "status": "completed"
    },
    "tags": []
   },
   "outputs": [],
   "source": [
    "cp_metrics_dict = {\n",
    "    \"universe_id\": [universe_id],\n",
    "    \"universe_training_year\": [universe_training_year],\n",
    "    \"universe_training_size\": [universe_training_size],\n",
    "    \"universe_scale\": [universe_scale],\n",
    "    \"universe_model\": [universe_model],\n",
    "    \"universe_exclude_features\": [universe_exclude_features],\n",
    "    \"universe_exclude_subgroups\": [universe_exclude_subgroups],\n",
    "    \"q_hat\": [q_hat],\n",
    "    \"coverage\": [metrics[\"coverage\"]],\n",
    "    \"avg_size\": [metrics[\"avg_size\"]],\n",
    "}"
   ]
  },
  {
   "cell_type": "code",
   "execution_count": 49,
   "id": "0d70d4b2",
   "metadata": {
    "execution": {
     "iopub.execute_input": "2025-08-19T18:44:11.358574Z",
     "iopub.status.busy": "2025-08-19T18:44:11.357878Z",
     "iopub.status.idle": "2025-08-19T18:44:11.368866Z",
     "shell.execute_reply": "2025-08-19T18:44:11.367697Z"
    },
    "papermill": {
     "duration": 0.026547,
     "end_time": "2025-08-19T18:44:11.370381",
     "exception": false,
     "start_time": "2025-08-19T18:44:11.343834",
     "status": "completed"
    },
    "tags": []
   },
   "outputs": [],
   "source": [
    "cp_metrics_df = pd.DataFrame(cp_metrics_dict)"
   ]
  },
  {
   "cell_type": "code",
   "execution_count": 50,
   "id": "b494403c",
   "metadata": {
    "execution": {
     "iopub.execute_input": "2025-08-19T18:44:11.400150Z",
     "iopub.status.busy": "2025-08-19T18:44:11.399480Z",
     "iopub.status.idle": "2025-08-19T18:44:11.422166Z",
     "shell.execute_reply": "2025-08-19T18:44:11.421390Z"
    },
    "papermill": {
     "duration": 0.03813,
     "end_time": "2025-08-19T18:44:11.423811",
     "exception": false,
     "start_time": "2025-08-19T18:44:11.385681",
     "status": "completed"
    },
    "tags": []
   },
   "outputs": [
    {
     "data": {
      "text/html": [
       "<div>\n",
       "<style scoped>\n",
       "    .dataframe tbody tr th:only-of-type {\n",
       "        vertical-align: middle;\n",
       "    }\n",
       "\n",
       "    .dataframe tbody tr th {\n",
       "        vertical-align: top;\n",
       "    }\n",
       "\n",
       "    .dataframe thead th {\n",
       "        text-align: right;\n",
       "    }\n",
       "</style>\n",
       "<table border=\"1\" class=\"dataframe\">\n",
       "  <thead>\n",
       "    <tr style=\"text-align: right;\">\n",
       "      <th></th>\n",
       "      <th>universe_id</th>\n",
       "      <th>universe_training_year</th>\n",
       "      <th>universe_training_size</th>\n",
       "      <th>universe_scale</th>\n",
       "      <th>universe_model</th>\n",
       "      <th>universe_exclude_features</th>\n",
       "      <th>universe_exclude_subgroups</th>\n",
       "      <th>q_hat</th>\n",
       "      <th>coverage</th>\n",
       "      <th>avg_size</th>\n",
       "    </tr>\n",
       "  </thead>\n",
       "  <tbody>\n",
       "    <tr>\n",
       "      <th>0</th>\n",
       "      <td>43e43c44d4cfa077c200531c2823d6ae</td>\n",
       "      <td>2010_14</td>\n",
       "      <td>5k</td>\n",
       "      <td>scale</td>\n",
       "      <td>elasticnet</td>\n",
       "      <td>sex</td>\n",
       "      <td>keep-all</td>\n",
       "      <td>0.677345</td>\n",
       "      <td>0.910958</td>\n",
       "      <td>1.144577</td>\n",
       "    </tr>\n",
       "  </tbody>\n",
       "</table>\n",
       "</div>"
      ],
      "text/plain": [
       "                        universe_id universe_training_year  \\\n",
       "0  43e43c44d4cfa077c200531c2823d6ae                2010_14   \n",
       "\n",
       "  universe_training_size universe_scale universe_model  \\\n",
       "0                     5k          scale     elasticnet   \n",
       "\n",
       "  universe_exclude_features universe_exclude_subgroups     q_hat  coverage  \\\n",
       "0                       sex                   keep-all  0.677345  0.910958   \n",
       "\n",
       "   avg_size  \n",
       "0  1.144577  "
      ]
     },
     "execution_count": 50,
     "metadata": {},
     "output_type": "execute_result"
    }
   ],
   "source": [
    "cp_metrics_df"
   ]
  },
  {
   "cell_type": "markdown",
   "id": "ed608b0b",
   "metadata": {
    "papermill": {
     "duration": 0.012708,
     "end_time": "2025-08-19T18:44:11.457447",
     "exception": false,
     "start_time": "2025-08-19T18:44:11.444739",
     "status": "completed"
    },
    "tags": []
   },
   "source": [
    "Conditional coverage & looking at subgroups"
   ]
  },
  {
   "cell_type": "code",
   "execution_count": 51,
   "id": "8968c366",
   "metadata": {
    "execution": {
     "iopub.execute_input": "2025-08-19T18:44:11.483771Z",
     "iopub.status.busy": "2025-08-19T18:44:11.482953Z",
     "iopub.status.idle": "2025-08-19T18:44:11.768071Z",
     "shell.execute_reply": "2025-08-19T18:44:11.767017Z"
    },
    "papermill": {
     "duration": 0.300869,
     "end_time": "2025-08-19T18:44:11.770020",
     "exception": false,
     "start_time": "2025-08-19T18:44:11.469151",
     "status": "completed"
    },
    "tags": []
   },
   "outputs": [],
   "source": [
    "from fairness_multiverse.conformal import build_cp_groups\n",
    "\n",
    "cp_groups_df = build_cp_groups(pred_sets, y_true, X_test.index, org_test)"
   ]
  },
  {
   "cell_type": "code",
   "execution_count": 52,
   "id": "292ddabf",
   "metadata": {
    "execution": {
     "iopub.execute_input": "2025-08-19T18:44:11.813955Z",
     "iopub.status.busy": "2025-08-19T18:44:11.813163Z",
     "iopub.status.idle": "2025-08-19T18:44:12.693283Z",
     "shell.execute_reply": "2025-08-19T18:44:12.691924Z"
    },
    "papermill": {
     "duration": 0.900576,
     "end_time": "2025-08-19T18:44:12.696371",
     "exception": false,
     "start_time": "2025-08-19T18:44:11.795795",
     "status": "completed"
    },
    "tags": []
   },
   "outputs": [],
   "source": [
    "# Define covered = 1 if true_label is in the predicted set\n",
    "cp_groups_df['covered'] = cp_groups_df.apply(\n",
    "    lambda r: int(r['true_label'] in r['pred_set']),\n",
    "    axis=1\n",
    ")"
   ]
  },
  {
   "cell_type": "code",
   "execution_count": 53,
   "id": "3a261692",
   "metadata": {
    "execution": {
     "iopub.execute_input": "2025-08-19T18:44:12.743632Z",
     "iopub.status.busy": "2025-08-19T18:44:12.742649Z",
     "iopub.status.idle": "2025-08-19T18:44:12.766367Z",
     "shell.execute_reply": "2025-08-19T18:44:12.765409Z"
    },
    "papermill": {
     "duration": 0.043978,
     "end_time": "2025-08-19T18:44:12.768279",
     "exception": false,
     "start_time": "2025-08-19T18:44:12.724301",
     "status": "completed"
    },
    "tags": []
   },
   "outputs": [],
   "source": [
    "subgroups = ['frau1','nongerman','nongerman_male','nongerman_female']\n",
    "\n",
    "# Conditional coverage for subgroup==1\n",
    "cond_coverage = {\n",
    "    g: cp_groups_df.loc[cp_groups_df[g]==1, 'covered'].mean()\n",
    "    for g in subgroups\n",
    "}"
   ]
  },
  {
   "cell_type": "code",
   "execution_count": 54,
   "id": "894fd600",
   "metadata": {
    "execution": {
     "iopub.execute_input": "2025-08-19T18:44:12.795296Z",
     "iopub.status.busy": "2025-08-19T18:44:12.794584Z",
     "iopub.status.idle": "2025-08-19T18:44:12.809395Z",
     "shell.execute_reply": "2025-08-19T18:44:12.808316Z"
    },
    "papermill": {
     "duration": 0.030235,
     "end_time": "2025-08-19T18:44:12.811161",
     "exception": false,
     "start_time": "2025-08-19T18:44:12.780926",
     "status": "completed"
    },
    "tags": []
   },
   "outputs": [
    {
     "data": {
      "text/plain": [
       "{'frau1': 0.9096913330637553,\n",
       " 'nongerman': 0.9109639027676416,\n",
       " 'nongerman_male': 0.9262361523912456,\n",
       " 'nongerman_female': 0.8856929955290611}"
      ]
     },
     "execution_count": 54,
     "metadata": {},
     "output_type": "execute_result"
    }
   ],
   "source": [
    "cond_coverage"
   ]
  },
  {
   "cell_type": "code",
   "execution_count": 55,
   "id": "942895c7",
   "metadata": {
    "execution": {
     "iopub.execute_input": "2025-08-19T18:44:12.837296Z",
     "iopub.status.busy": "2025-08-19T18:44:12.836483Z",
     "iopub.status.idle": "2025-08-19T18:44:12.846719Z",
     "shell.execute_reply": "2025-08-19T18:44:12.845386Z"
    },
    "papermill": {
     "duration": 0.024702,
     "end_time": "2025-08-19T18:44:12.848112",
     "exception": false,
     "start_time": "2025-08-19T18:44:12.823410",
     "status": "completed"
    },
    "tags": []
   },
   "outputs": [],
   "source": [
    "for subgroup, cov in cond_coverage.items():\n",
    "    cp_metrics_df[f\"cov_{subgroup}\"] = cov"
   ]
  },
  {
   "cell_type": "code",
   "execution_count": 56,
   "id": "3970120f",
   "metadata": {
    "execution": {
     "iopub.execute_input": "2025-08-19T18:44:12.881908Z",
     "iopub.status.busy": "2025-08-19T18:44:12.880887Z",
     "iopub.status.idle": "2025-08-19T18:44:12.904650Z",
     "shell.execute_reply": "2025-08-19T18:44:12.903460Z"
    },
    "papermill": {
     "duration": 0.041272,
     "end_time": "2025-08-19T18:44:12.906293",
     "exception": false,
     "start_time": "2025-08-19T18:44:12.865021",
     "status": "completed"
    },
    "tags": []
   },
   "outputs": [
    {
     "data": {
      "text/html": [
       "<div>\n",
       "<style scoped>\n",
       "    .dataframe tbody tr th:only-of-type {\n",
       "        vertical-align: middle;\n",
       "    }\n",
       "\n",
       "    .dataframe tbody tr th {\n",
       "        vertical-align: top;\n",
       "    }\n",
       "\n",
       "    .dataframe thead th {\n",
       "        text-align: right;\n",
       "    }\n",
       "</style>\n",
       "<table border=\"1\" class=\"dataframe\">\n",
       "  <thead>\n",
       "    <tr style=\"text-align: right;\">\n",
       "      <th></th>\n",
       "      <th>universe_id</th>\n",
       "      <th>universe_training_year</th>\n",
       "      <th>universe_training_size</th>\n",
       "      <th>universe_scale</th>\n",
       "      <th>universe_model</th>\n",
       "      <th>universe_exclude_features</th>\n",
       "      <th>universe_exclude_subgroups</th>\n",
       "      <th>q_hat</th>\n",
       "      <th>coverage</th>\n",
       "      <th>avg_size</th>\n",
       "      <th>cov_frau1</th>\n",
       "      <th>cov_nongerman</th>\n",
       "      <th>cov_nongerman_male</th>\n",
       "      <th>cov_nongerman_female</th>\n",
       "    </tr>\n",
       "  </thead>\n",
       "  <tbody>\n",
       "    <tr>\n",
       "      <th>0</th>\n",
       "      <td>43e43c44d4cfa077c200531c2823d6ae</td>\n",
       "      <td>2010_14</td>\n",
       "      <td>5k</td>\n",
       "      <td>scale</td>\n",
       "      <td>elasticnet</td>\n",
       "      <td>sex</td>\n",
       "      <td>keep-all</td>\n",
       "      <td>0.677345</td>\n",
       "      <td>0.910958</td>\n",
       "      <td>1.144577</td>\n",
       "      <td>0.909691</td>\n",
       "      <td>0.910964</td>\n",
       "      <td>0.926236</td>\n",
       "      <td>0.885693</td>\n",
       "    </tr>\n",
       "  </tbody>\n",
       "</table>\n",
       "</div>"
      ],
      "text/plain": [
       "                        universe_id universe_training_year  \\\n",
       "0  43e43c44d4cfa077c200531c2823d6ae                2010_14   \n",
       "\n",
       "  universe_training_size universe_scale universe_model  \\\n",
       "0                     5k          scale     elasticnet   \n",
       "\n",
       "  universe_exclude_features universe_exclude_subgroups     q_hat  coverage  \\\n",
       "0                       sex                   keep-all  0.677345  0.910958   \n",
       "\n",
       "   avg_size  cov_frau1  cov_nongerman  cov_nongerman_male  \\\n",
       "0  1.144577   0.909691       0.910964            0.926236   \n",
       "\n",
       "   cov_nongerman_female  \n",
       "0              0.885693  "
      ]
     },
     "execution_count": 56,
     "metadata": {},
     "output_type": "execute_result"
    }
   ],
   "source": [
    "cp_metrics_df"
   ]
  },
  {
   "cell_type": "markdown",
   "id": "3fc519cc",
   "metadata": {
    "papermill": {
     "duration": 0.012343,
     "end_time": "2025-08-19T18:44:12.937556",
     "exception": false,
     "start_time": "2025-08-19T18:44:12.925213",
     "status": "completed"
    },
    "tags": []
   },
   "source": [
    "# (Fairness) Metrics"
   ]
  },
  {
   "cell_type": "code",
   "execution_count": 57,
   "id": "a2e5e155",
   "metadata": {
    "execution": {
     "iopub.execute_input": "2025-08-19T18:44:12.964174Z",
     "iopub.status.busy": "2025-08-19T18:44:12.963416Z",
     "iopub.status.idle": "2025-08-19T18:44:12.993348Z",
     "shell.execute_reply": "2025-08-19T18:44:12.990157Z"
    },
    "papermill": {
     "duration": 0.046479,
     "end_time": "2025-08-19T18:44:12.996048",
     "exception": false,
     "start_time": "2025-08-19T18:44:12.949569",
     "status": "completed"
    },
    "tags": []
   },
   "outputs": [],
   "source": [
    "colname_to_bin = \"maxdeutsch1\"\n",
    "majority_value = org_train[colname_to_bin].mode()[0]\n",
    "\n",
    "org_test[\"majmin\"] = np.where(org_test[colname_to_bin] == majority_value, \"majority\", \"minority\")"
   ]
  },
  {
   "cell_type": "code",
   "execution_count": 58,
   "id": "17e3e4d5",
   "metadata": {
    "execution": {
     "iopub.execute_input": "2025-08-19T18:44:13.034597Z",
     "iopub.status.busy": "2025-08-19T18:44:13.033405Z",
     "iopub.status.idle": "2025-08-19T18:44:14.750275Z",
     "shell.execute_reply": "2025-08-19T18:44:14.749064Z"
    },
    "papermill": {
     "duration": 1.733826,
     "end_time": "2025-08-19T18:44:14.751830",
     "exception": false,
     "start_time": "2025-08-19T18:44:13.018004",
     "status": "completed"
    },
    "tags": []
   },
   "outputs": [],
   "source": [
    "example_universe = universe.copy()\n",
    "example_universe[\"cutoff\"] = example_universe[\"cutoff\"][0]\n",
    "example_universe[\"eval_fairness_grouping\"] = example_universe[\"eval_fairness_grouping\"][0]\n",
    "fairness_dict, metric_frame = universe_analysis.compute_metrics(\n",
    "    example_universe,\n",
    "    y_pred_prob=probs_test,\n",
    "    y_test=y_true,\n",
    "    org_test=org_test,\n",
    ")"
   ]
  },
  {
   "cell_type": "markdown",
   "id": "1fb7a0e9",
   "metadata": {
    "papermill": {
     "duration": 0.012489,
     "end_time": "2025-08-19T18:44:14.782383",
     "exception": false,
     "start_time": "2025-08-19T18:44:14.769894",
     "status": "completed"
    },
    "tags": []
   },
   "source": [
    "# Overall"
   ]
  },
  {
   "cell_type": "markdown",
   "id": "be1784b1",
   "metadata": {
    "papermill": {
     "duration": 0.01224,
     "end_time": "2025-08-19T18:44:14.807203",
     "exception": false,
     "start_time": "2025-08-19T18:44:14.794963",
     "status": "completed"
    },
    "tags": []
   },
   "source": [
    "Main fairness target: Equalized Odds. Seems to be a better fit than equal opportunity, since we're not only interested in Y = 1. Seems to be a better fit than demographic parity, since we also care about accuracy, not just equal distribution of preds.\n",
    "\n",
    "Pick column for computation of fairness metrics\n",
    "\n",
    "Performance\n",
    "Overall performance measures, most interesting in relation to the measures split by group below"
   ]
  },
  {
   "cell_type": "code",
   "execution_count": 59,
   "id": "b7672bee",
   "metadata": {
    "execution": {
     "iopub.execute_input": "2025-08-19T18:44:14.834105Z",
     "iopub.status.busy": "2025-08-19T18:44:14.833673Z",
     "iopub.status.idle": "2025-08-19T18:44:14.843206Z",
     "shell.execute_reply": "2025-08-19T18:44:14.842424Z"
    },
    "papermill": {
     "duration": 0.025502,
     "end_time": "2025-08-19T18:44:14.845114",
     "exception": false,
     "start_time": "2025-08-19T18:44:14.819612",
     "status": "completed"
    },
    "tags": []
   },
   "outputs": [
    {
     "data": {
      "text/plain": [
       "accuracy                   0.223643\n",
       "balanced accuracy          0.546991\n",
       "f1                         0.244994\n",
       "precision                  0.139957\n",
       "false positive rate        0.887944\n",
       "false negative rate        0.018074\n",
       "selection rate             0.900000\n",
       "count                  89710.000000\n",
       "dtype: float64"
      ]
     },
     "execution_count": 59,
     "metadata": {},
     "output_type": "execute_result"
    }
   ],
   "source": [
    "metric_frame.overall"
   ]
  },
  {
   "cell_type": "markdown",
   "id": "d93333c9",
   "metadata": {
    "papermill": {
     "duration": 0.012839,
     "end_time": "2025-08-19T18:44:14.873076",
     "exception": false,
     "start_time": "2025-08-19T18:44:14.860237",
     "status": "completed"
    },
    "tags": []
   },
   "source": [
    "By Group"
   ]
  },
  {
   "cell_type": "code",
   "execution_count": 60,
   "id": "52256966",
   "metadata": {
    "execution": {
     "iopub.execute_input": "2025-08-19T18:44:14.899260Z",
     "iopub.status.busy": "2025-08-19T18:44:14.898928Z",
     "iopub.status.idle": "2025-08-19T18:44:14.913152Z",
     "shell.execute_reply": "2025-08-19T18:44:14.912056Z"
    },
    "papermill": {
     "duration": 0.029036,
     "end_time": "2025-08-19T18:44:14.914477",
     "exception": false,
     "start_time": "2025-08-19T18:44:14.885441",
     "status": "completed"
    },
    "tags": []
   },
   "outputs": [
    {
     "data": {
      "text/html": [
       "<div>\n",
       "<style scoped>\n",
       "    .dataframe tbody tr th:only-of-type {\n",
       "        vertical-align: middle;\n",
       "    }\n",
       "\n",
       "    .dataframe tbody tr th {\n",
       "        vertical-align: top;\n",
       "    }\n",
       "\n",
       "    .dataframe thead th {\n",
       "        text-align: right;\n",
       "    }\n",
       "</style>\n",
       "<table border=\"1\" class=\"dataframe\">\n",
       "  <thead>\n",
       "    <tr style=\"text-align: right;\">\n",
       "      <th></th>\n",
       "      <th>accuracy</th>\n",
       "      <th>balanced accuracy</th>\n",
       "      <th>f1</th>\n",
       "      <th>precision</th>\n",
       "      <th>false positive rate</th>\n",
       "      <th>false negative rate</th>\n",
       "      <th>selection rate</th>\n",
       "      <th>count</th>\n",
       "    </tr>\n",
       "    <tr>\n",
       "      <th>majmin</th>\n",
       "      <th></th>\n",
       "      <th></th>\n",
       "      <th></th>\n",
       "      <th></th>\n",
       "      <th></th>\n",
       "      <th></th>\n",
       "      <th></th>\n",
       "      <th></th>\n",
       "    </tr>\n",
       "  </thead>\n",
       "  <tbody>\n",
       "    <tr>\n",
       "      <th>majority</th>\n",
       "      <td>0.244528</td>\n",
       "      <td>0.556635</td>\n",
       "      <td>0.255464</td>\n",
       "      <td>0.146856</td>\n",
       "      <td>0.867583</td>\n",
       "      <td>0.019147</td>\n",
       "      <td>0.882550</td>\n",
       "      <td>69170.0</td>\n",
       "    </tr>\n",
       "    <tr>\n",
       "      <th>minority</th>\n",
       "      <td>0.153311</td>\n",
       "      <td>0.515429</td>\n",
       "      <td>0.211686</td>\n",
       "      <td>0.118570</td>\n",
       "      <td>0.955206</td>\n",
       "      <td>0.013936</td>\n",
       "      <td>0.958763</td>\n",
       "      <td>20540.0</td>\n",
       "    </tr>\n",
       "  </tbody>\n",
       "</table>\n",
       "</div>"
      ],
      "text/plain": [
       "          accuracy  balanced accuracy        f1  precision  \\\n",
       "majmin                                                       \n",
       "majority  0.244528           0.556635  0.255464   0.146856   \n",
       "minority  0.153311           0.515429  0.211686   0.118570   \n",
       "\n",
       "          false positive rate  false negative rate  selection rate    count  \n",
       "majmin                                                                       \n",
       "majority             0.867583             0.019147        0.882550  69170.0  \n",
       "minority             0.955206             0.013936        0.958763  20540.0  "
      ]
     },
     "execution_count": 60,
     "metadata": {},
     "output_type": "execute_result"
    }
   ],
   "source": [
    "metric_frame.by_group"
   ]
  },
  {
   "cell_type": "code",
   "execution_count": 61,
   "id": "6e6c20ae",
   "metadata": {
    "execution": {
     "iopub.execute_input": "2025-08-19T18:44:14.948773Z",
     "iopub.status.busy": "2025-08-19T18:44:14.948022Z",
     "iopub.status.idle": "2025-08-19T18:44:16.738428Z",
     "shell.execute_reply": "2025-08-19T18:44:16.737583Z"
    },
    "papermill": {
     "duration": 1.806127,
     "end_time": "2025-08-19T18:44:16.739645",
     "exception": false,
     "start_time": "2025-08-19T18:44:14.933518",
     "status": "completed"
    },
    "tags": []
   },
   "outputs": [
    {
     "data": {
      "text/plain": [
       "array([[<Axes: title={'center': 'accuracy'}, xlabel='majmin'>,\n",
       "        <Axes: title={'center': 'balanced accuracy'}, xlabel='majmin'>,\n",
       "        <Axes: title={'center': 'f1'}, xlabel='majmin'>],\n",
       "       [<Axes: title={'center': 'precision'}, xlabel='majmin'>,\n",
       "        <Axes: title={'center': 'false positive rate'}, xlabel='majmin'>,\n",
       "        <Axes: title={'center': 'false negative rate'}, xlabel='majmin'>],\n",
       "       [<Axes: title={'center': 'selection rate'}, xlabel='majmin'>,\n",
       "        <Axes: title={'center': 'count'}, xlabel='majmin'>,\n",
       "        <Axes: xlabel='majmin'>]], dtype=object)"
      ]
     },
     "execution_count": 61,
     "metadata": {},
     "output_type": "execute_result"
    },
    {
     "data": {
      "image/png": "[encoded data removed]",
      "text/plain": [
       "<Figure size 1200x800 with 9 Axes>"
      ]
     },
     "metadata": {},
     "output_type": "display_data"
    }
   ],
   "source": [
    "# In a graphic\n",
    "metric_frame.by_group.plot.bar(\n",
    "    subplots=True,\n",
    "    layout=[3, 3],\n",
    "    legend=False,\n",
    "    figsize=[12, 8],\n",
    "    title=\"Show all metrics\",\n",
    ")"
   ]
  },
  {
   "cell_type": "markdown",
   "id": "b2e433ae",
   "metadata": {
    "papermill": {
     "duration": 0.014305,
     "end_time": "2025-08-19T18:44:16.768365",
     "exception": false,
     "start_time": "2025-08-19T18:44:16.754060",
     "status": "completed"
    },
    "tags": []
   },
   "source": [
    "# Final Output"
   ]
  },
  {
   "cell_type": "code",
   "execution_count": 62,
   "id": "3871301e",
   "metadata": {
    "execution": {
     "iopub.execute_input": "2025-08-19T18:44:16.798567Z",
     "iopub.status.busy": "2025-08-19T18:44:16.797601Z",
     "iopub.status.idle": "2025-08-19T18:44:16.806787Z",
     "shell.execute_reply": "2025-08-19T18:44:16.806189Z"
    },
    "papermill": {
     "duration": 0.025519,
     "end_time": "2025-08-19T18:44:16.808094",
     "exception": false,
     "start_time": "2025-08-19T18:44:16.782575",
     "status": "completed"
    },
    "tags": []
   },
   "outputs": [
    {
     "data": {
      "text/plain": [
       "4"
      ]
     },
     "execution_count": 62,
     "metadata": {},
     "output_type": "execute_result"
    }
   ],
   "source": [
    "sub_universes = universe_analysis.generate_sub_universes()\n",
    "len(sub_universes)"
   ]
  },
  {
   "cell_type": "code",
   "execution_count": 63,
   "id": "d9cfdaca",
   "metadata": {
    "execution": {
     "iopub.execute_input": "2025-08-19T18:44:16.841214Z",
     "iopub.status.busy": "2025-08-19T18:44:16.840622Z",
     "iopub.status.idle": "2025-08-19T18:44:16.845166Z",
     "shell.execute_reply": "2025-08-19T18:44:16.844596Z"
    },
    "papermill": {
     "duration": 0.020565,
     "end_time": "2025-08-19T18:44:16.846176",
     "exception": false,
     "start_time": "2025-08-19T18:44:16.825611",
     "status": "completed"
    },
    "tags": []
   },
   "outputs": [],
   "source": [
    "def filter_sub_universe_data(sub_universe, org_test):\n",
    "    # Keep all rows — no filtering\n",
    "    keep_rows_mask = np.ones(org_test.shape[0], dtype=bool)\n",
    "\n",
    "    print(f\"[INFO] Keeping all rows: {keep_rows_mask.sum()} rows retained.\")\n",
    "    return keep_rows_mask"
   ]
  },
  {
   "cell_type": "code",
   "execution_count": 64,
   "id": "2bc31ac1",
   "metadata": {
    "execution": {
     "iopub.execute_input": "2025-08-19T18:44:16.876304Z",
     "iopub.status.busy": "2025-08-19T18:44:16.875548Z",
     "iopub.status.idle": "2025-08-19T18:44:23.620809Z",
     "shell.execute_reply": "2025-08-19T18:44:23.619750Z"
    },
    "papermill": {
     "duration": 6.761704,
     "end_time": "2025-08-19T18:44:23.622147",
     "exception": false,
     "start_time": "2025-08-19T18:44:16.860443",
     "status": "completed"
    },
    "tags": []
   },
   "outputs": [
    {
     "name": "stdout",
     "output_type": "stream",
     "text": [
      "Stopping execution_time clock.\n",
      "[INFO] Keeping all rows: 89710 rows retained.\n"
     ]
    },
    {
     "name": "stdout",
     "output_type": "stream",
     "text": [
      "[INFO] Keeping all rows: 89710 rows retained.\n"
     ]
    },
    {
     "name": "stdout",
     "output_type": "stream",
     "text": [
      "[INFO] Keeping all rows: 89710 rows retained.\n"
     ]
    },
    {
     "name": "stdout",
     "output_type": "stream",
     "text": [
      "[INFO] Keeping all rows: 89710 rows retained.\n"
     ]
    },
    {
     "data": {
      "text/html": [
       "<div>\n",
       "<style scoped>\n",
       "    .dataframe tbody tr th:only-of-type {\n",
       "        vertical-align: middle;\n",
       "    }\n",
       "\n",
       "    .dataframe tbody tr th {\n",
       "        vertical-align: top;\n",
       "    }\n",
       "\n",
       "    .dataframe thead th {\n",
       "        text-align: right;\n",
       "    }\n",
       "</style>\n",
       "<table border=\"1\" class=\"dataframe\">\n",
       "  <thead>\n",
       "    <tr style=\"text-align: right;\">\n",
       "      <th></th>\n",
       "      <th>run_no</th>\n",
       "      <th>universe_id</th>\n",
       "      <th>universe_settings</th>\n",
       "      <th>execution_time</th>\n",
       "      <th>test_size_n</th>\n",
       "      <th>test_size_frac</th>\n",
       "      <th>fair_main_equalized_odds_difference</th>\n",
       "      <th>fair_main_equalized_odds_ratio</th>\n",
       "      <th>fair_main_demographic_parity_difference</th>\n",
       "      <th>fair_main_demographic_parity_ratio</th>\n",
       "      <th>...</th>\n",
       "      <th>perf_grp_precision_0</th>\n",
       "      <th>perf_grp_precision_1</th>\n",
       "      <th>perf_grp_false positive rate_0</th>\n",
       "      <th>perf_grp_false positive rate_1</th>\n",
       "      <th>perf_grp_false negative rate_0</th>\n",
       "      <th>perf_grp_false negative rate_1</th>\n",
       "      <th>perf_grp_selection rate_0</th>\n",
       "      <th>perf_grp_selection rate_1</th>\n",
       "      <th>perf_grp_count_0</th>\n",
       "      <th>perf_grp_count_1</th>\n",
       "    </tr>\n",
       "  </thead>\n",
       "  <tbody>\n",
       "    <tr>\n",
       "      <th>0</th>\n",
       "      <td>3</td>\n",
       "      <td>43e43c44d4cfa077c200531c2823d6ae</td>\n",
       "      <td>{\"cutoff\": \"quantile_0.1\", \"eval_fairness_grou...</td>\n",
       "      <td>22.929188</td>\n",
       "      <td>89710</td>\n",
       "      <td>1.0</td>\n",
       "      <td>0.087623</td>\n",
       "      <td>0.908268</td>\n",
       "      <td>0.076213</td>\n",
       "      <td>0.920509</td>\n",
       "      <td>...</td>\n",
       "      <td>NaN</td>\n",
       "      <td>NaN</td>\n",
       "      <td>NaN</td>\n",
       "      <td>NaN</td>\n",
       "      <td>NaN</td>\n",
       "      <td>NaN</td>\n",
       "      <td>NaN</td>\n",
       "      <td>NaN</td>\n",
       "      <td>NaN</td>\n",
       "      <td>NaN</td>\n",
       "    </tr>\n",
       "    <tr>\n",
       "      <th>0</th>\n",
       "      <td>3</td>\n",
       "      <td>43e43c44d4cfa077c200531c2823d6ae</td>\n",
       "      <td>{\"cutoff\": \"quantile_0.1\", \"eval_fairness_grou...</td>\n",
       "      <td>22.929188</td>\n",
       "      <td>89710</td>\n",
       "      <td>1.0</td>\n",
       "      <td>0.087623</td>\n",
       "      <td>0.908268</td>\n",
       "      <td>0.076213</td>\n",
       "      <td>0.920509</td>\n",
       "      <td>...</td>\n",
       "      <td>0.118570</td>\n",
       "      <td>0.146856</td>\n",
       "      <td>0.955206</td>\n",
       "      <td>0.867583</td>\n",
       "      <td>0.013936</td>\n",
       "      <td>0.019147</td>\n",
       "      <td>0.958763</td>\n",
       "      <td>0.882550</td>\n",
       "      <td>20540.0</td>\n",
       "      <td>69170.0</td>\n",
       "    </tr>\n",
       "    <tr>\n",
       "      <th>0</th>\n",
       "      <td>3</td>\n",
       "      <td>43e43c44d4cfa077c200531c2823d6ae</td>\n",
       "      <td>{\"cutoff\": \"quantile_0.25\", \"eval_fairness_gro...</td>\n",
       "      <td>22.929188</td>\n",
       "      <td>89710</td>\n",
       "      <td>1.0</td>\n",
       "      <td>0.135229</td>\n",
       "      <td>0.836436</td>\n",
       "      <td>0.116505</td>\n",
       "      <td>0.861274</td>\n",
       "      <td>...</td>\n",
       "      <td>NaN</td>\n",
       "      <td>NaN</td>\n",
       "      <td>NaN</td>\n",
       "      <td>NaN</td>\n",
       "      <td>NaN</td>\n",
       "      <td>NaN</td>\n",
       "      <td>NaN</td>\n",
       "      <td>NaN</td>\n",
       "      <td>NaN</td>\n",
       "      <td>NaN</td>\n",
       "    </tr>\n",
       "    <tr>\n",
       "      <th>0</th>\n",
       "      <td>3</td>\n",
       "      <td>43e43c44d4cfa077c200531c2823d6ae</td>\n",
       "      <td>{\"cutoff\": \"quantile_0.25\", \"eval_fairness_gro...</td>\n",
       "      <td>22.929188</td>\n",
       "      <td>89710</td>\n",
       "      <td>1.0</td>\n",
       "      <td>0.135229</td>\n",
       "      <td>0.836436</td>\n",
       "      <td>0.116505</td>\n",
       "      <td>0.861274</td>\n",
       "      <td>...</td>\n",
       "      <td>0.129043</td>\n",
       "      <td>0.170271</td>\n",
       "      <td>0.826766</td>\n",
       "      <td>0.691538</td>\n",
       "      <td>0.059966</td>\n",
       "      <td>0.067943</td>\n",
       "      <td>0.839825</td>\n",
       "      <td>0.723319</td>\n",
       "      <td>20540.0</td>\n",
       "      <td>69170.0</td>\n",
       "    </tr>\n",
       "  </tbody>\n",
       "</table>\n",
       "<p>4 rows × 50 columns</p>\n",
       "</div>"
      ],
      "text/plain": [
       "  run_no                       universe_id  \\\n",
       "0      3  43e43c44d4cfa077c200531c2823d6ae   \n",
       "0      3  43e43c44d4cfa077c200531c2823d6ae   \n",
       "0      3  43e43c44d4cfa077c200531c2823d6ae   \n",
       "0      3  43e43c44d4cfa077c200531c2823d6ae   \n",
       "\n",
       "                                   universe_settings  execution_time  \\\n",
       "0  {\"cutoff\": \"quantile_0.1\", \"eval_fairness_grou...       22.929188   \n",
       "0  {\"cutoff\": \"quantile_0.1\", \"eval_fairness_grou...       22.929188   \n",
       "0  {\"cutoff\": \"quantile_0.25\", \"eval_fairness_gro...       22.929188   \n",
       "0  {\"cutoff\": \"quantile_0.25\", \"eval_fairness_gro...       22.929188   \n",
       "\n",
       "   test_size_n  test_size_frac  fair_main_equalized_odds_difference  \\\n",
       "0        89710             1.0                             0.087623   \n",
       "0        89710             1.0                             0.087623   \n",
       "0        89710             1.0                             0.135229   \n",
       "0        89710             1.0                             0.135229   \n",
       "\n",
       "   fair_main_equalized_odds_ratio  fair_main_demographic_parity_difference  \\\n",
       "0                        0.908268                                 0.076213   \n",
       "0                        0.908268                                 0.076213   \n",
       "0                        0.836436                                 0.116505   \n",
       "0                        0.836436                                 0.116505   \n",
       "\n",
       "   fair_main_demographic_parity_ratio  ...  perf_grp_precision_0  \\\n",
       "0                            0.920509  ...                   NaN   \n",
       "0                            0.920509  ...              0.118570   \n",
       "0                            0.861274  ...                   NaN   \n",
       "0                            0.861274  ...              0.129043   \n",
       "\n",
       "   perf_grp_precision_1  perf_grp_false positive rate_0  \\\n",
       "0                   NaN                             NaN   \n",
       "0              0.146856                        0.955206   \n",
       "0                   NaN                             NaN   \n",
       "0              0.170271                        0.826766   \n",
       "\n",
       "   perf_grp_false positive rate_1  perf_grp_false negative rate_0  \\\n",
       "0                             NaN                             NaN   \n",
       "0                        0.867583                        0.013936   \n",
       "0                             NaN                             NaN   \n",
       "0                        0.691538                        0.059966   \n",
       "\n",
       "   perf_grp_false negative rate_1  perf_grp_selection rate_0  \\\n",
       "0                             NaN                        NaN   \n",
       "0                        0.019147                   0.958763   \n",
       "0                             NaN                        NaN   \n",
       "0                        0.067943                   0.839825   \n",
       "\n",
       "   perf_grp_selection rate_1  perf_grp_count_0  perf_grp_count_1  \n",
       "0                        NaN               NaN               NaN  \n",
       "0                   0.882550           20540.0           69170.0  \n",
       "0                        NaN               NaN               NaN  \n",
       "0                   0.723319           20540.0           69170.0  \n",
       "\n",
       "[4 rows x 50 columns]"
      ]
     },
     "execution_count": 64,
     "metadata": {},
     "output_type": "execute_result"
    }
   ],
   "source": [
    "final_output = universe_analysis.generate_final_output(\n",
    "    y_pred_prob=probs_test,\n",
    "    y_test=y_true,\n",
    "    org_test=org_test,\n",
    "    filter_data=filter_sub_universe_data,\n",
    "    cp_metrics_df=cp_metrics_df,\n",
    "    save=True,\n",
    ")\n",
    "final_output"
   ]
  },
  {
   "cell_type": "code",
   "execution_count": null,
   "id": "8b80a1ff",
   "metadata": {
    "papermill": {
     "duration": 0.014169,
     "end_time": "2025-08-19T18:44:23.654528",
     "exception": false,
     "start_time": "2025-08-19T18:44:23.640359",
     "status": "completed"
    },
    "tags": []
   },
   "outputs": [],
   "source": []
  },
  {
   "cell_type": "code",
   "execution_count": null,
   "id": "275c9fad",
   "metadata": {
    "papermill": {
     "duration": 0.014217,
     "end_time": "2025-08-19T18:44:23.682878",
     "exception": false,
     "start_time": "2025-08-19T18:44:23.668661",
     "status": "completed"
    },
    "tags": []
   },
   "outputs": [],
   "source": []
  }
 ],
 "metadata": {
  "celltoolbar": "Tags",
  "kernelspec": {
   "display_name": "Python (CMA Fairness)",
   "language": "python",
   "name": "cma_fair_env"
  },
  "language_info": {
   "codemirror_mode": {
    "name": "ipython",
    "version": 3
   },
   "file_extension": ".py",
   "mimetype": "text/x-python",
   "name": "python",
   "nbconvert_exporter": "python",
   "pygments_lexer": "ipython3",
   "version": "3.10.12"
  },
  "papermill": {
   "default_parameters": {},
   "duration": 33.443649,
   "end_time": "2025-08-19T18:44:24.523828",
   "environment_variables": {},
   "exception": null,
   "input_path": "universe_analysis.ipynb",
   "output_path": "output/runs/3/notebooks/m_3-43e43c44d4cfa077c200531c2823d6ae.ipynb",
   "parameters": {
    "output_dir": "output",
    "run_no": "3",
    "seed": "2023",
    "universe": "{\"cutoff\": [\"quantile_0.1\", \"quantile_0.25\"], \"eval_fairness_grouping\": [\"majority-minority\", \"nationality-all\"], \"exclude_features\": \"sex\", \"exclude_subgroups\": \"keep-all\", \"model\": \"elasticnet\", \"scale\": \"scale\", \"training_size\": \"5k\", \"training_year\": \"2010_14\"}",
    "universe_id": "43e43c44d4cfa077c200531c2823d6ae"
   },
   "start_time": "2025-08-19T18:43:51.080179",
   "version": "2.6.0"
  }
 },
 "nbformat": 4,
 "nbformat_minor": 5
}