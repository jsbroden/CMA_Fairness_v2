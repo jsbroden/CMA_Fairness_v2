{
 "cells": [
  {
   "cell_type": "markdown",
   "id": "ef23dbb3",
   "metadata": {
    "papermill": {
     "duration": 0.014625,
     "end_time": "2025-08-19T18:53:26.237522",
     "exception": false,
     "start_time": "2025-08-19T18:53:26.222897",
     "status": "completed"
    },
    "tags": []
   },
   "source": [
    "# Setup"
   ]
  },
  {
   "cell_type": "code",
   "execution_count": 1,
   "id": "0bc8e7dc",
   "metadata": {
    "execution": {
     "iopub.execute_input": "2025-08-19T18:53:26.267123Z",
     "iopub.status.busy": "2025-08-19T18:53:26.265500Z",
     "iopub.status.idle": "2025-08-19T18:53:26.281135Z",
     "shell.execute_reply": "2025-08-19T18:53:26.279518Z"
    },
    "papermill": {
     "duration": 0.037521,
     "end_time": "2025-08-19T18:53:26.283878",
     "exception": false,
     "start_time": "2025-08-19T18:53:26.246357",
     "status": "completed"
    },
    "tags": []
   },
   "outputs": [
    {
     "name": "stdout",
     "output_type": "stream",
     "text": [
      "/dss/dsshome1/0C/ra93lal2/cma/CMA_Fairness_v2\n"
     ]
    },
    {
     "name": "stderr",
     "output_type": "stream",
     "text": [
      "/dss/dsshome1/0C/ra93lal2/.local/share/virtualenvs/CMA_Fairness_v2-3j10GkSs/lib/python3.10/site-packages/IPython/core/magics/osm.py:393: UserWarning: This is now an optional IPython functionality, using bookmarks requires you to install the `pickleshare` library.\n",
      "  bkms = self.shell.db.get('bookmarks', {})\n",
      "/dss/dsshome1/0C/ra93lal2/.local/share/virtualenvs/CMA_Fairness_v2-3j10GkSs/lib/python3.10/site-packages/IPython/core/magics/osm.py:417: UserWarning: This is now an optional IPython functionality, setting dhist requires you to install the `pickleshare` library.\n",
      "  self.shell.db['dhist'] = compress_dhist(dhist)[-100:]\n"
     ]
    }
   ],
   "source": [
    "%cd ~/cma/CMA_Fairness_v2"
   ]
  },
  {
   "cell_type": "markdown",
   "id": "9d235661",
   "metadata": {
    "papermill": {
     "duration": 0.008713,
     "end_time": "2025-08-19T18:53:26.302511",
     "exception": false,
     "start_time": "2025-08-19T18:53:26.293798",
     "status": "completed"
    },
    "tags": []
   },
   "source": [
    "The following cell holds the definition of our parameters, these values can be overriden by rendering the with e.g. the following command:\n",
    "\n",
    "papermill -p alpha 0.2 -p ratio 0.3 universe_analysis.ipynb output/test_run.ipynb"
   ]
  },
  {
   "cell_type": "code",
   "execution_count": 2,
   "id": "4a789d8e",
   "metadata": {
    "execution": {
     "iopub.execute_input": "2025-08-19T18:53:26.322698Z",
     "iopub.status.busy": "2025-08-19T18:53:26.322115Z",
     "iopub.status.idle": "2025-08-19T18:53:26.327912Z",
     "shell.execute_reply": "2025-08-19T18:53:26.327023Z"
    },
    "papermill": {
     "duration": 0.01772,
     "end_time": "2025-08-19T18:53:26.330070",
     "exception": false,
     "start_time": "2025-08-19T18:53:26.312350",
     "status": "completed"
    },
    "tags": []
   },
   "outputs": [
    {
     "name": "stdout",
     "output_type": "stream",
     "text": [
      "Current working directory: /dss/dsshome1/0C/ra93lal2/cma/CMA_Fairness_v2\n"
     ]
    }
   ],
   "source": [
    "import os\n",
    "print(\"Current working directory:\", os.getcwd())"
   ]
  },
  {
   "cell_type": "code",
   "execution_count": 3,
   "id": "4132aaed",
   "metadata": {
    "execution": {
     "iopub.execute_input": "2025-08-19T18:53:26.350643Z",
     "iopub.status.busy": "2025-08-19T18:53:26.350359Z",
     "iopub.status.idle": "2025-08-19T18:53:26.356666Z",
     "shell.execute_reply": "2025-08-19T18:53:26.355584Z"
    },
    "papermill": {
     "duration": 0.018221,
     "end_time": "2025-08-19T18:53:26.358571",
     "exception": false,
     "start_time": "2025-08-19T18:53:26.340350",
     "status": "completed"
    },
    "tags": [
     "parameters"
    ]
   },
   "outputs": [],
   "source": [
    "run_no = 0\n",
    "universe_id = \"test\"\n",
    "universe = {\n",
    "    \"training_size\": \"5k\", # \"25k\", \"5k\", \"1k\"\n",
    "    \"training_year\": \"2012_14\", # \"2014\", \"2012_14\", \"2010_14\"\n",
    "    \"scale\": \"scale\", # \"scale\", \"do-not-scale\",\n",
    "    \"model\": \"elasticnet\", # \"logreg\", \"penalized_logreg\", \"rf\", \"gbm\", \"elasticnet\"\n",
    "    \"cutoff\": [\"quantile_0.15\", \"quantile_0.30\"],\n",
    "    \"exclude_features\": \"age\", # \"none\", \"nationality\", \"sex\", \"nationality-sex\", \"age\"\n",
    "    \"exclude_subgroups\": \"drop-non-german\", # \"keep-all\", \"drop-non-german\"\n",
    "    \"eval_fairness_grouping\": [\"majority-minority\", \"nationality-all\"]\n",
    "}\n",
    "\n",
    "output_dir=\"./output\"\n",
    "seed=0"
   ]
  },
  {
   "cell_type": "code",
   "execution_count": 4,
   "id": "37ebb596",
   "metadata": {
    "execution": {
     "iopub.execute_input": "2025-08-19T18:53:26.380032Z",
     "iopub.status.busy": "2025-08-19T18:53:26.379264Z",
     "iopub.status.idle": "2025-08-19T18:53:26.384096Z",
     "shell.execute_reply": "2025-08-19T18:53:26.383301Z"
    },
    "papermill": {
     "duration": 0.016613,
     "end_time": "2025-08-19T18:53:26.385666",
     "exception": false,
     "start_time": "2025-08-19T18:53:26.369053",
     "status": "completed"
    },
    "tags": [
     "injected-parameters"
    ]
   },
   "outputs": [],
   "source": [
    "# Parameters\n",
    "universe_id = \"9f41d7b0dac0dd2a5a63d3d7e77bb5df\"\n",
    "run_no = \"3\"\n",
    "universe = \"{\\\"cutoff\\\": [\\\"quantile_0.1\\\", \\\"quantile_0.25\\\"], \\\"eval_fairness_grouping\\\": [\\\"majority-minority\\\", \\\"nationality-all\\\"], \\\"exclude_features\\\": \\\"none\\\", \\\"exclude_subgroups\\\": \\\"drop-non-german\\\", \\\"model\\\": \\\"penalized_logreg\\\", \\\"scale\\\": \\\"do-not-scale\\\", \\\"training_size\\\": \\\"1k\\\", \\\"training_year\\\": \\\"2014\\\"}\"\n",
    "output_dir = \"output\"\n",
    "seed = \"2023\"\n"
   ]
  },
  {
   "cell_type": "code",
   "execution_count": 5,
   "id": "a5d7941f",
   "metadata": {
    "execution": {
     "iopub.execute_input": "2025-08-19T18:53:26.406515Z",
     "iopub.status.busy": "2025-08-19T18:53:26.406066Z",
     "iopub.status.idle": "2025-08-19T18:53:26.410446Z",
     "shell.execute_reply": "2025-08-19T18:53:26.409661Z"
    },
    "papermill": {
     "duration": 0.01594,
     "end_time": "2025-08-19T18:53:26.412163",
     "exception": false,
     "start_time": "2025-08-19T18:53:26.396223",
     "status": "completed"
    },
    "tags": []
   },
   "outputs": [],
   "source": [
    "import json\n",
    "if isinstance(universe, str):\n",
    "    universe = json.loads(universe)"
   ]
  },
  {
   "cell_type": "code",
   "execution_count": 6,
   "id": "7076ccb1",
   "metadata": {
    "execution": {
     "iopub.execute_input": "2025-08-19T18:53:26.433439Z",
     "iopub.status.busy": "2025-08-19T18:53:26.432736Z",
     "iopub.status.idle": "2025-08-19T18:53:26.472866Z",
     "shell.execute_reply": "2025-08-19T18:53:26.472114Z"
    },
    "papermill": {
     "duration": 0.054042,
     "end_time": "2025-08-19T18:53:26.476737",
     "exception": false,
     "start_time": "2025-08-19T18:53:26.422695",
     "status": "completed"
    },
    "tags": []
   },
   "outputs": [],
   "source": [
    "# Auto-reload the custom package\n",
    "%load_ext autoreload\n",
    "%autoreload 1\n",
    "%aimport fairness_multiverse"
   ]
  },
  {
   "cell_type": "code",
   "execution_count": 7,
   "id": "94c8eb93",
   "metadata": {
    "execution": {
     "iopub.execute_input": "2025-08-19T18:53:26.511435Z",
     "iopub.status.busy": "2025-08-19T18:53:26.510350Z",
     "iopub.status.idle": "2025-08-19T18:53:28.087633Z",
     "shell.execute_reply": "2025-08-19T18:53:28.086657Z"
    },
    "papermill": {
     "duration": 1.59016,
     "end_time": "2025-08-19T18:53:28.089333",
     "exception": false,
     "start_time": "2025-08-19T18:53:26.499173",
     "status": "completed"
    },
    "tags": []
   },
   "outputs": [],
   "source": [
    "from fairness_multiverse.universe import UniverseAnalysis\n",
    "\n",
    "universe_analysis = UniverseAnalysis(\n",
    "    run_no = run_no,\n",
    "    universe_id = universe_id,\n",
    "    universe = universe,\n",
    "    output_dir=output_dir,\n",
    ")"
   ]
  },
  {
   "cell_type": "code",
   "execution_count": 8,
   "id": "2a6381cf",
   "metadata": {
    "execution": {
     "iopub.execute_input": "2025-08-19T18:53:28.116814Z",
     "iopub.status.busy": "2025-08-19T18:53:28.116255Z",
     "iopub.status.idle": "2025-08-19T18:53:28.121853Z",
     "shell.execute_reply": "2025-08-19T18:53:28.121294Z"
    },
    "papermill": {
     "duration": 0.021999,
     "end_time": "2025-08-19T18:53:28.123046",
     "exception": false,
     "start_time": "2025-08-19T18:53:28.101047",
     "status": "completed"
    },
    "tags": []
   },
   "outputs": [
    {
     "name": "stdout",
     "output_type": "stream",
     "text": [
      "Using Seed: 2023\n"
     ]
    }
   ],
   "source": [
    "import numpy as np\n",
    "parsed_seed = int(seed)\n",
    "np.random.seed(parsed_seed)\n",
    "print(f\"Using Seed: {parsed_seed}\")"
   ]
  },
  {
   "cell_type": "markdown",
   "id": "b6e958b4",
   "metadata": {
    "papermill": {
     "duration": 0.009052,
     "end_time": "2025-08-19T18:53:28.141169",
     "exception": false,
     "start_time": "2025-08-19T18:53:28.132117",
     "status": "completed"
    },
    "tags": []
   },
   "source": [
    "# Loading Data"
   ]
  },
  {
   "cell_type": "code",
   "execution_count": 9,
   "id": "98701482",
   "metadata": {
    "execution": {
     "iopub.execute_input": "2025-08-19T18:53:28.162118Z",
     "iopub.status.busy": "2025-08-19T18:53:28.161382Z",
     "iopub.status.idle": "2025-08-19T18:53:38.350367Z",
     "shell.execute_reply": "2025-08-19T18:53:38.349516Z"
    },
    "papermill": {
     "duration": 10.201108,
     "end_time": "2025-08-19T18:53:38.351598",
     "exception": false,
     "start_time": "2025-08-19T18:53:28.150490",
     "status": "completed"
    },
    "tags": []
   },
   "outputs": [
    {
     "name": "stdout",
     "output_type": "stream",
     "text": [
      "Loading SIAB data from cache: data/siab_cached.csv.gz\n"
     ]
    },
    {
     "name": "stdout",
     "output_type": "stream",
     "text": [
      "(643690, 164)\n"
     ]
    }
   ],
   "source": [
    "from pathlib import Path\n",
    "import pandas as pd\n",
    "\n",
    "# File paths\n",
    "raw_file = Path(\"data/raw/siab.csv\")\n",
    "cache_file = Path(\"data/siab_cached.csv.gz\")\n",
    "\n",
    "# Ensure cache directory exists\n",
    "cache_file.parent.mkdir(parents=True, exist_ok=True)\n",
    "\n",
    "# Load with simple caching\n",
    "if cache_file.exists():\n",
    "    print(f\"Loading SIAB data from cache: {cache_file}\")\n",
    "    siab = pd.read_csv(cache_file, compression='gzip')\n",
    "else:\n",
    "    print(f\"Cache not found. Reading raw SIAB data: {raw_file}\")\n",
    "    siab = pd.read_csv(raw_file)\n",
    "    siab.to_csv(cache_file, index=False, compression='gzip')\n",
    "    print(f\"Cached SIAB data to: {cache_file}\")\n",
    "\n",
    "print(siab.shape)"
   ]
  },
  {
   "cell_type": "code",
   "execution_count": 10,
   "id": "058d2abb",
   "metadata": {
    "execution": {
     "iopub.execute_input": "2025-08-19T18:53:38.383515Z",
     "iopub.status.busy": "2025-08-19T18:53:38.382335Z",
     "iopub.status.idle": "2025-08-19T18:53:38.554882Z",
     "shell.execute_reply": "2025-08-19T18:53:38.554166Z"
    },
    "papermill": {
     "duration": 0.191279,
     "end_time": "2025-08-19T18:53:38.556338",
     "exception": false,
     "start_time": "2025-08-19T18:53:38.365059",
     "status": "completed"
    },
    "tags": []
   },
   "outputs": [
    {
     "data": {
      "text/html": [
       "<div>\n",
       "<style scoped>\n",
       "    .dataframe tbody tr th:only-of-type {\n",
       "        vertical-align: middle;\n",
       "    }\n",
       "\n",
       "    .dataframe tbody tr th {\n",
       "        vertical-align: top;\n",
       "    }\n",
       "\n",
       "    .dataframe thead th {\n",
       "        text-align: right;\n",
       "    }\n",
       "</style>\n",
       "<table border=\"1\" class=\"dataframe\">\n",
       "  <thead>\n",
       "    <tr style=\"text-align: right;\">\n",
       "      <th></th>\n",
       "      <th>persnr</th>\n",
       "      <th>year</th>\n",
       "      <th>nrEntry</th>\n",
       "      <th>ltue</th>\n",
       "      <th>employed_before</th>\n",
       "      <th>receipt_leh_before</th>\n",
       "      <th>receipt_lhg_before</th>\n",
       "      <th>se_before</th>\n",
       "      <th>ASU_notue_seeking_before</th>\n",
       "      <th>ASU_other_before</th>\n",
       "      <th>...</th>\n",
       "      <th>minijob_tot_dur_byage</th>\n",
       "      <th>ft_tot_dur_byage</th>\n",
       "      <th>befrist_tot_dur_byage</th>\n",
       "      <th>leih_tot_dur_byage</th>\n",
       "      <th>LHG_tot_dur_byage</th>\n",
       "      <th>LEH_tot_dur_byage</th>\n",
       "      <th>almp_tot_dur_byage</th>\n",
       "      <th>almp_aw_tot_dur_byage</th>\n",
       "      <th>se_tot_dur_byage</th>\n",
       "      <th>seeking1_tot_dur_byage</th>\n",
       "    </tr>\n",
       "  </thead>\n",
       "  <tbody>\n",
       "    <tr>\n",
       "      <th>0</th>\n",
       "      <td>7</td>\n",
       "      <td>2015</td>\n",
       "      <td>1</td>\n",
       "      <td>0</td>\n",
       "      <td>1</td>\n",
       "      <td>0</td>\n",
       "      <td>0</td>\n",
       "      <td>0</td>\n",
       "      <td>1</td>\n",
       "      <td>0</td>\n",
       "      <td>...</td>\n",
       "      <td>0.000000</td>\n",
       "      <td>0.000000</td>\n",
       "      <td>15.043478</td>\n",
       "      <td>0.000000</td>\n",
       "      <td>0.000000</td>\n",
       "      <td>0.000000</td>\n",
       "      <td>0.000000</td>\n",
       "      <td>0.000000</td>\n",
       "      <td>0.000000</td>\n",
       "      <td>0.000000</td>\n",
       "    </tr>\n",
       "    <tr>\n",
       "      <th>1</th>\n",
       "      <td>18</td>\n",
       "      <td>2010</td>\n",
       "      <td>1</td>\n",
       "      <td>1</td>\n",
       "      <td>0</td>\n",
       "      <td>0</td>\n",
       "      <td>0</td>\n",
       "      <td>0</td>\n",
       "      <td>0</td>\n",
       "      <td>0</td>\n",
       "      <td>...</td>\n",
       "      <td>0.000000</td>\n",
       "      <td>0.000000</td>\n",
       "      <td>0.000000</td>\n",
       "      <td>0.000000</td>\n",
       "      <td>0.000000</td>\n",
       "      <td>0.000000</td>\n",
       "      <td>0.000000</td>\n",
       "      <td>0.000000</td>\n",
       "      <td>0.000000</td>\n",
       "      <td>0.000000</td>\n",
       "    </tr>\n",
       "    <tr>\n",
       "      <th>2</th>\n",
       "      <td>18</td>\n",
       "      <td>2011</td>\n",
       "      <td>2</td>\n",
       "      <td>0</td>\n",
       "      <td>1</td>\n",
       "      <td>0</td>\n",
       "      <td>1</td>\n",
       "      <td>0</td>\n",
       "      <td>1</td>\n",
       "      <td>0</td>\n",
       "      <td>...</td>\n",
       "      <td>2.714286</td>\n",
       "      <td>2.714286</td>\n",
       "      <td>0.000000</td>\n",
       "      <td>0.000000</td>\n",
       "      <td>10.775510</td>\n",
       "      <td>0.000000</td>\n",
       "      <td>8.367347</td>\n",
       "      <td>0.000000</td>\n",
       "      <td>0.000000</td>\n",
       "      <td>9.836735</td>\n",
       "    </tr>\n",
       "    <tr>\n",
       "      <th>3</th>\n",
       "      <td>18</td>\n",
       "      <td>2012</td>\n",
       "      <td>3</td>\n",
       "      <td>0</td>\n",
       "      <td>1</td>\n",
       "      <td>0</td>\n",
       "      <td>1</td>\n",
       "      <td>0</td>\n",
       "      <td>1</td>\n",
       "      <td>0</td>\n",
       "      <td>...</td>\n",
       "      <td>4.200000</td>\n",
       "      <td>4.200000</td>\n",
       "      <td>0.000000</td>\n",
       "      <td>0.000000</td>\n",
       "      <td>12.100000</td>\n",
       "      <td>0.000000</td>\n",
       "      <td>9.400000</td>\n",
       "      <td>0.000000</td>\n",
       "      <td>0.000000</td>\n",
       "      <td>9.960000</td>\n",
       "    </tr>\n",
       "    <tr>\n",
       "      <th>4</th>\n",
       "      <td>18</td>\n",
       "      <td>2012</td>\n",
       "      <td>4</td>\n",
       "      <td>0</td>\n",
       "      <td>1</td>\n",
       "      <td>0</td>\n",
       "      <td>1</td>\n",
       "      <td>0</td>\n",
       "      <td>1</td>\n",
       "      <td>0</td>\n",
       "      <td>...</td>\n",
       "      <td>5.460000</td>\n",
       "      <td>5.460000</td>\n",
       "      <td>0.000000</td>\n",
       "      <td>0.000000</td>\n",
       "      <td>13.360000</td>\n",
       "      <td>0.000000</td>\n",
       "      <td>10.320000</td>\n",
       "      <td>0.000000</td>\n",
       "      <td>0.000000</td>\n",
       "      <td>10.280000</td>\n",
       "    </tr>\n",
       "    <tr>\n",
       "      <th>...</th>\n",
       "      <td>...</td>\n",
       "      <td>...</td>\n",
       "      <td>...</td>\n",
       "      <td>...</td>\n",
       "      <td>...</td>\n",
       "      <td>...</td>\n",
       "      <td>...</td>\n",
       "      <td>...</td>\n",
       "      <td>...</td>\n",
       "      <td>...</td>\n",
       "      <td>...</td>\n",
       "      <td>...</td>\n",
       "      <td>...</td>\n",
       "      <td>...</td>\n",
       "      <td>...</td>\n",
       "      <td>...</td>\n",
       "      <td>...</td>\n",
       "      <td>...</td>\n",
       "      <td>...</td>\n",
       "      <td>...</td>\n",
       "      <td>...</td>\n",
       "    </tr>\n",
       "    <tr>\n",
       "      <th>643685</th>\n",
       "      <td>1827860</td>\n",
       "      <td>2013</td>\n",
       "      <td>1</td>\n",
       "      <td>0</td>\n",
       "      <td>0</td>\n",
       "      <td>0</td>\n",
       "      <td>1</td>\n",
       "      <td>0</td>\n",
       "      <td>0</td>\n",
       "      <td>1</td>\n",
       "      <td>...</td>\n",
       "      <td>0.000000</td>\n",
       "      <td>0.000000</td>\n",
       "      <td>0.000000</td>\n",
       "      <td>0.000000</td>\n",
       "      <td>0.612903</td>\n",
       "      <td>0.000000</td>\n",
       "      <td>0.000000</td>\n",
       "      <td>0.000000</td>\n",
       "      <td>0.000000</td>\n",
       "      <td>0.000000</td>\n",
       "    </tr>\n",
       "    <tr>\n",
       "      <th>643686</th>\n",
       "      <td>1827860</td>\n",
       "      <td>2015</td>\n",
       "      <td>2</td>\n",
       "      <td>1</td>\n",
       "      <td>0</td>\n",
       "      <td>0</td>\n",
       "      <td>1</td>\n",
       "      <td>0</td>\n",
       "      <td>1</td>\n",
       "      <td>0</td>\n",
       "      <td>...</td>\n",
       "      <td>0.000000</td>\n",
       "      <td>0.000000</td>\n",
       "      <td>0.212121</td>\n",
       "      <td>0.212121</td>\n",
       "      <td>17.363636</td>\n",
       "      <td>0.000000</td>\n",
       "      <td>8.909091</td>\n",
       "      <td>0.000000</td>\n",
       "      <td>0.000000</td>\n",
       "      <td>7.121212</td>\n",
       "    </tr>\n",
       "    <tr>\n",
       "      <th>643687</th>\n",
       "      <td>1827860</td>\n",
       "      <td>2016</td>\n",
       "      <td>3</td>\n",
       "      <td>1</td>\n",
       "      <td>0</td>\n",
       "      <td>0</td>\n",
       "      <td>1</td>\n",
       "      <td>1</td>\n",
       "      <td>0</td>\n",
       "      <td>1</td>\n",
       "      <td>...</td>\n",
       "      <td>0.000000</td>\n",
       "      <td>0.000000</td>\n",
       "      <td>0.294118</td>\n",
       "      <td>0.205882</td>\n",
       "      <td>34.705882</td>\n",
       "      <td>0.000000</td>\n",
       "      <td>10.352941</td>\n",
       "      <td>1.705882</td>\n",
       "      <td>1.705882</td>\n",
       "      <td>23.911765</td>\n",
       "    </tr>\n",
       "    <tr>\n",
       "      <th>643688</th>\n",
       "      <td>1827869</td>\n",
       "      <td>2013</td>\n",
       "      <td>1</td>\n",
       "      <td>1</td>\n",
       "      <td>1</td>\n",
       "      <td>0</td>\n",
       "      <td>0</td>\n",
       "      <td>0</td>\n",
       "      <td>1</td>\n",
       "      <td>0</td>\n",
       "      <td>...</td>\n",
       "      <td>0.000000</td>\n",
       "      <td>0.000000</td>\n",
       "      <td>0.000000</td>\n",
       "      <td>0.000000</td>\n",
       "      <td>0.000000</td>\n",
       "      <td>0.525424</td>\n",
       "      <td>0.000000</td>\n",
       "      <td>0.000000</td>\n",
       "      <td>0.000000</td>\n",
       "      <td>0.000000</td>\n",
       "    </tr>\n",
       "    <tr>\n",
       "      <th>643689</th>\n",
       "      <td>1827869</td>\n",
       "      <td>2014</td>\n",
       "      <td>2</td>\n",
       "      <td>0</td>\n",
       "      <td>0</td>\n",
       "      <td>1</td>\n",
       "      <td>0</td>\n",
       "      <td>0</td>\n",
       "      <td>1</td>\n",
       "      <td>0</td>\n",
       "      <td>...</td>\n",
       "      <td>0.000000</td>\n",
       "      <td>0.666667</td>\n",
       "      <td>0.666667</td>\n",
       "      <td>0.000000</td>\n",
       "      <td>0.000000</td>\n",
       "      <td>8.950000</td>\n",
       "      <td>1.033333</td>\n",
       "      <td>0.083333</td>\n",
       "      <td>0.083333</td>\n",
       "      <td>8.133333</td>\n",
       "    </tr>\n",
       "  </tbody>\n",
       "</table>\n",
       "<p>643690 rows × 164 columns</p>\n",
       "</div>"
      ],
      "text/plain": [
       "         persnr  year  nrEntry  ltue  employed_before  receipt_leh_before  \\\n",
       "0             7  2015        1     0                1                   0   \n",
       "1            18  2010        1     1                0                   0   \n",
       "2            18  2011        2     0                1                   0   \n",
       "3            18  2012        3     0                1                   0   \n",
       "4            18  2012        4     0                1                   0   \n",
       "...         ...   ...      ...   ...              ...                 ...   \n",
       "643685  1827860  2013        1     0                0                   0   \n",
       "643686  1827860  2015        2     1                0                   0   \n",
       "643687  1827860  2016        3     1                0                   0   \n",
       "643688  1827869  2013        1     1                1                   0   \n",
       "643689  1827869  2014        2     0                0                   1   \n",
       "\n",
       "        receipt_lhg_before  se_before  ASU_notue_seeking_before  \\\n",
       "0                        0          0                         1   \n",
       "1                        0          0                         0   \n",
       "2                        1          0                         1   \n",
       "3                        1          0                         1   \n",
       "4                        1          0                         1   \n",
       "...                    ...        ...                       ...   \n",
       "643685                   1          0                         0   \n",
       "643686                   1          0                         1   \n",
       "643687                   1          1                         0   \n",
       "643688                   0          0                         1   \n",
       "643689                   0          0                         1   \n",
       "\n",
       "        ASU_other_before  ...  minijob_tot_dur_byage  ft_tot_dur_byage  \\\n",
       "0                      0  ...               0.000000          0.000000   \n",
       "1                      0  ...               0.000000          0.000000   \n",
       "2                      0  ...               2.714286          2.714286   \n",
       "3                      0  ...               4.200000          4.200000   \n",
       "4                      0  ...               5.460000          5.460000   \n",
       "...                  ...  ...                    ...               ...   \n",
       "643685                 1  ...               0.000000          0.000000   \n",
       "643686                 0  ...               0.000000          0.000000   \n",
       "643687                 1  ...               0.000000          0.000000   \n",
       "643688                 0  ...               0.000000          0.000000   \n",
       "643689                 0  ...               0.000000          0.666667   \n",
       "\n",
       "        befrist_tot_dur_byage  leih_tot_dur_byage  LHG_tot_dur_byage  \\\n",
       "0                   15.043478            0.000000           0.000000   \n",
       "1                    0.000000            0.000000           0.000000   \n",
       "2                    0.000000            0.000000          10.775510   \n",
       "3                    0.000000            0.000000          12.100000   \n",
       "4                    0.000000            0.000000          13.360000   \n",
       "...                       ...                 ...                ...   \n",
       "643685               0.000000            0.000000           0.612903   \n",
       "643686               0.212121            0.212121          17.363636   \n",
       "643687               0.294118            0.205882          34.705882   \n",
       "643688               0.000000            0.000000           0.000000   \n",
       "643689               0.666667            0.000000           0.000000   \n",
       "\n",
       "        LEH_tot_dur_byage  almp_tot_dur_byage  almp_aw_tot_dur_byage  \\\n",
       "0                0.000000            0.000000               0.000000   \n",
       "1                0.000000            0.000000               0.000000   \n",
       "2                0.000000            8.367347               0.000000   \n",
       "3                0.000000            9.400000               0.000000   \n",
       "4                0.000000           10.320000               0.000000   \n",
       "...                   ...                 ...                    ...   \n",
       "643685           0.000000            0.000000               0.000000   \n",
       "643686           0.000000            8.909091               0.000000   \n",
       "643687           0.000000           10.352941               1.705882   \n",
       "643688           0.525424            0.000000               0.000000   \n",
       "643689           8.950000            1.033333               0.083333   \n",
       "\n",
       "        se_tot_dur_byage  seeking1_tot_dur_byage  \n",
       "0               0.000000                0.000000  \n",
       "1               0.000000                0.000000  \n",
       "2               0.000000                9.836735  \n",
       "3               0.000000                9.960000  \n",
       "4               0.000000               10.280000  \n",
       "...                  ...                     ...  \n",
       "643685          0.000000                0.000000  \n",
       "643686          0.000000                7.121212  \n",
       "643687          1.705882               23.911765  \n",
       "643688          0.000000                0.000000  \n",
       "643689          0.083333                8.133333  \n",
       "\n",
       "[643690 rows x 164 columns]"
      ]
     },
     "execution_count": 10,
     "metadata": {},
     "output_type": "execute_result"
    }
   ],
   "source": [
    "siab"
   ]
  },
  {
   "cell_type": "markdown",
   "id": "1f87e805",
   "metadata": {
    "papermill": {
     "duration": 0.009893,
     "end_time": "2025-08-19T18:53:38.578070",
     "exception": false,
     "start_time": "2025-08-19T18:53:38.568177",
     "status": "completed"
    },
    "tags": []
   },
   "source": [
    "# Splitting Data and Setting Training Data Size"
   ]
  },
  {
   "cell_type": "code",
   "execution_count": 11,
   "id": "910ae358",
   "metadata": {
    "execution": {
     "iopub.execute_input": "2025-08-19T18:53:38.601258Z",
     "iopub.status.busy": "2025-08-19T18:53:38.599847Z",
     "iopub.status.idle": "2025-08-19T18:53:38.852234Z",
     "shell.execute_reply": "2025-08-19T18:53:38.851528Z"
    },
    "papermill": {
     "duration": 0.265706,
     "end_time": "2025-08-19T18:53:38.853564",
     "exception": false,
     "start_time": "2025-08-19T18:53:38.587858",
     "status": "completed"
    },
    "tags": []
   },
   "outputs": [],
   "source": [
    "from fairness_multiverse.universe import sample_by_year_size\n",
    "\n",
    "siab_train = sample_by_year_size(siab,\n",
    "                               training_year=universe[\"training_year\"],\n",
    "                               training_size=universe[\"training_size\"])"
   ]
  },
  {
   "cell_type": "code",
   "execution_count": 12,
   "id": "919c8ff5",
   "metadata": {
    "execution": {
     "iopub.execute_input": "2025-08-19T18:53:38.875500Z",
     "iopub.status.busy": "2025-08-19T18:53:38.874797Z",
     "iopub.status.idle": "2025-08-19T18:53:38.879892Z",
     "shell.execute_reply": "2025-08-19T18:53:38.879354Z"
    },
    "papermill": {
     "duration": 0.025969,
     "end_time": "2025-08-19T18:53:38.889894",
     "exception": false,
     "start_time": "2025-08-19T18:53:38.863925",
     "status": "completed"
    },
    "tags": []
   },
   "outputs": [
    {
     "data": {
      "text/plain": [
       "(1000, 164)"
      ]
     },
     "execution_count": 12,
     "metadata": {},
     "output_type": "execute_result"
    }
   ],
   "source": [
    "siab_train.shape"
   ]
  },
  {
   "cell_type": "code",
   "execution_count": 13,
   "id": "feb13bf4",
   "metadata": {
    "execution": {
     "iopub.execute_input": "2025-08-19T18:53:38.922843Z",
     "iopub.status.busy": "2025-08-19T18:53:38.921953Z",
     "iopub.status.idle": "2025-08-19T18:53:38.936313Z",
     "shell.execute_reply": "2025-08-19T18:53:38.935149Z"
    },
    "papermill": {
     "duration": 0.028627,
     "end_time": "2025-08-19T18:53:38.937796",
     "exception": false,
     "start_time": "2025-08-19T18:53:38.909169",
     "status": "completed"
    },
    "tags": []
   },
   "outputs": [
    {
     "data": {
      "text/plain": [
       "year\n",
       "2014    1000\n",
       "dtype: int64"
      ]
     },
     "metadata": {},
     "output_type": "display_data"
    }
   ],
   "source": [
    "display(siab_train.groupby(\"year\").size())"
   ]
  },
  {
   "cell_type": "code",
   "execution_count": 14,
   "id": "0997782f",
   "metadata": {
    "execution": {
     "iopub.execute_input": "2025-08-19T18:53:38.966909Z",
     "iopub.status.busy": "2025-08-19T18:53:38.965901Z",
     "iopub.status.idle": "2025-08-19T18:53:39.226857Z",
     "shell.execute_reply": "2025-08-19T18:53:39.226187Z"
    },
    "papermill": {
     "duration": 0.274742,
     "end_time": "2025-08-19T18:53:39.228175",
     "exception": false,
     "start_time": "2025-08-19T18:53:38.953433",
     "status": "completed"
    },
    "tags": []
   },
   "outputs": [],
   "source": [
    "#siab_train = siab_s[siab_s.year < 2015]\n",
    "siab_calib = siab[siab.year == 2015]\n",
    "siab_test = siab[siab.year == 2016]"
   ]
  },
  {
   "cell_type": "code",
   "execution_count": 15,
   "id": "2c1e4012",
   "metadata": {
    "execution": {
     "iopub.execute_input": "2025-08-19T18:53:39.261794Z",
     "iopub.status.busy": "2025-08-19T18:53:39.260778Z",
     "iopub.status.idle": "2025-08-19T18:53:39.267869Z",
     "shell.execute_reply": "2025-08-19T18:53:39.266276Z"
    },
    "papermill": {
     "duration": 0.029594,
     "end_time": "2025-08-19T18:53:39.272028",
     "exception": false,
     "start_time": "2025-08-19T18:53:39.242434",
     "status": "completed"
    },
    "tags": []
   },
   "outputs": [],
   "source": [
    "#siab_calib.shape"
   ]
  },
  {
   "cell_type": "code",
   "execution_count": 16,
   "id": "f66b54ca",
   "metadata": {
    "execution": {
     "iopub.execute_input": "2025-08-19T18:53:39.325098Z",
     "iopub.status.busy": "2025-08-19T18:53:39.324572Z",
     "iopub.status.idle": "2025-08-19T18:53:39.328933Z",
     "shell.execute_reply": "2025-08-19T18:53:39.328292Z"
    },
    "papermill": {
     "duration": 0.031714,
     "end_time": "2025-08-19T18:53:39.330950",
     "exception": false,
     "start_time": "2025-08-19T18:53:39.299236",
     "status": "completed"
    },
    "tags": []
   },
   "outputs": [],
   "source": [
    "#siab_test.shape"
   ]
  },
  {
   "cell_type": "code",
   "execution_count": 17,
   "id": "27e4384d",
   "metadata": {
    "execution": {
     "iopub.execute_input": "2025-08-19T18:53:39.366231Z",
     "iopub.status.busy": "2025-08-19T18:53:39.365274Z",
     "iopub.status.idle": "2025-08-19T18:53:39.376782Z",
     "shell.execute_reply": "2025-08-19T18:53:39.374397Z"
    },
    "papermill": {
     "duration": 0.02621,
     "end_time": "2025-08-19T18:53:39.378292",
     "exception": false,
     "start_time": "2025-08-19T18:53:39.352082",
     "status": "completed"
    },
    "tags": []
   },
   "outputs": [],
   "source": [
    "X_train = siab_train.iloc[:,4:164]\n",
    "y_train = siab_train.iloc[:, [3]]"
   ]
  },
  {
   "cell_type": "code",
   "execution_count": 18,
   "id": "08ee8389",
   "metadata": {
    "execution": {
     "iopub.execute_input": "2025-08-19T18:53:39.403331Z",
     "iopub.status.busy": "2025-08-19T18:53:39.402934Z",
     "iopub.status.idle": "2025-08-19T18:53:39.465516Z",
     "shell.execute_reply": "2025-08-19T18:53:39.464566Z"
    },
    "papermill": {
     "duration": 0.076254,
     "end_time": "2025-08-19T18:53:39.467567",
     "exception": false,
     "start_time": "2025-08-19T18:53:39.391313",
     "status": "completed"
    },
    "tags": []
   },
   "outputs": [],
   "source": [
    "X_calib = siab_calib.iloc[:,4:164]\n",
    "y_calib = siab_calib.iloc[:, [3]]"
   ]
  },
  {
   "cell_type": "code",
   "execution_count": 19,
   "id": "b7ff42e0",
   "metadata": {
    "execution": {
     "iopub.execute_input": "2025-08-19T18:53:39.496072Z",
     "iopub.status.busy": "2025-08-19T18:53:39.495059Z",
     "iopub.status.idle": "2025-08-19T18:53:39.553401Z",
     "shell.execute_reply": "2025-08-19T18:53:39.552639Z"
    },
    "papermill": {
     "duration": 0.073468,
     "end_time": "2025-08-19T18:53:39.556366",
     "exception": false,
     "start_time": "2025-08-19T18:53:39.482898",
     "status": "completed"
    },
    "tags": []
   },
   "outputs": [],
   "source": [
    "X_test = siab_test.iloc[:,4:164]\n",
    "y_true = siab_test.iloc[:, [3]]"
   ]
  },
  {
   "cell_type": "code",
   "execution_count": 20,
   "id": "0275101e",
   "metadata": {
    "execution": {
     "iopub.execute_input": "2025-08-19T18:53:39.596357Z",
     "iopub.status.busy": "2025-08-19T18:53:39.595342Z",
     "iopub.status.idle": "2025-08-19T18:53:39.717961Z",
     "shell.execute_reply": "2025-08-19T18:53:39.717285Z"
    },
    "papermill": {
     "duration": 0.139592,
     "end_time": "2025-08-19T18:53:39.720639",
     "exception": false,
     "start_time": "2025-08-19T18:53:39.581047",
     "status": "completed"
    },
    "tags": []
   },
   "outputs": [],
   "source": [
    "# Auxiliary data needed downstream in the pipeline\n",
    "\n",
    "org_train = X_train.copy()\n",
    "org_test = X_test.copy()\n",
    "org_calib = X_calib.copy()"
   ]
  },
  {
   "cell_type": "markdown",
   "id": "b461e618",
   "metadata": {
    "papermill": {
     "duration": 0.012925,
     "end_time": "2025-08-19T18:53:39.758916",
     "exception": false,
     "start_time": "2025-08-19T18:53:39.745991",
     "status": "completed"
    },
    "tags": []
   },
   "source": [
    "# Preprocessing Data"
   ]
  },
  {
   "cell_type": "code",
   "execution_count": 21,
   "id": "78e74c4b",
   "metadata": {
    "execution": {
     "iopub.execute_input": "2025-08-19T18:53:39.782625Z",
     "iopub.status.busy": "2025-08-19T18:53:39.781597Z",
     "iopub.status.idle": "2025-08-19T18:53:39.791277Z",
     "shell.execute_reply": "2025-08-19T18:53:39.789683Z"
    },
    "papermill": {
     "duration": 0.024987,
     "end_time": "2025-08-19T18:53:39.794666",
     "exception": false,
     "start_time": "2025-08-19T18:53:39.769679",
     "status": "completed"
    },
    "tags": []
   },
   "outputs": [],
   "source": [
    "# EXCLUDE PROTECTED FEATURES\n",
    "# --------------------------\n",
    "\n",
    "excluded_features = universe[\"exclude_features\"].split(\"-\")\n",
    "excluded_features_dictionary = {\n",
    "    \"nationality\": [\"maxdeutsch1\", \"maxdeutsch.Missing.\"],\n",
    "    \"sex\": [\"frau1\"],\n",
    "    \"age\": [\"age\"],\n",
    "}"
   ]
  },
  {
   "cell_type": "code",
   "execution_count": 22,
   "id": "f8e63555",
   "metadata": {
    "execution": {
     "iopub.execute_input": "2025-08-19T18:53:39.828456Z",
     "iopub.status.busy": "2025-08-19T18:53:39.827220Z",
     "iopub.status.idle": "2025-08-19T18:53:39.837146Z",
     "shell.execute_reply": "2025-08-19T18:53:39.835548Z"
    },
    "papermill": {
     "duration": 0.025385,
     "end_time": "2025-08-19T18:53:39.838781",
     "exception": false,
     "start_time": "2025-08-19T18:53:39.813396",
     "status": "completed"
    },
    "tags": []
   },
   "outputs": [],
   "source": [
    "excluded_features_columns = [\n",
    "    excluded_features_dictionary[f] for f in excluded_features if len(f) > 0 and f != \"none\"\n",
    "]"
   ]
  },
  {
   "cell_type": "code",
   "execution_count": 23,
   "id": "da781f7c",
   "metadata": {
    "execution": {
     "iopub.execute_input": "2025-08-19T18:53:39.864557Z",
     "iopub.status.busy": "2025-08-19T18:53:39.863497Z",
     "iopub.status.idle": "2025-08-19T18:53:39.871885Z",
     "shell.execute_reply": "2025-08-19T18:53:39.870393Z"
    },
    "papermill": {
     "duration": 0.023104,
     "end_time": "2025-08-19T18:53:39.873485",
     "exception": false,
     "start_time": "2025-08-19T18:53:39.850381",
     "status": "completed"
    },
    "tags": []
   },
   "outputs": [],
   "source": [
    "from fairness_multiverse.universe import flatten_once\n",
    "\n",
    "excluded_features_columns = flatten_once(excluded_features_columns)"
   ]
  },
  {
   "cell_type": "code",
   "execution_count": 24,
   "id": "37fef0f0",
   "metadata": {
    "execution": {
     "iopub.execute_input": "2025-08-19T18:53:39.899460Z",
     "iopub.status.busy": "2025-08-19T18:53:39.898288Z",
     "iopub.status.idle": "2025-08-19T18:53:39.907494Z",
     "shell.execute_reply": "2025-08-19T18:53:39.905897Z"
    },
    "papermill": {
     "duration": 0.02246,
     "end_time": "2025-08-19T18:53:39.909026",
     "exception": false,
     "start_time": "2025-08-19T18:53:39.886566",
     "status": "completed"
    },
    "tags": []
   },
   "outputs": [],
   "source": [
    "if len(excluded_features_columns) > 0:\n",
    "    print(f\"Dropping features: {excluded_features_columns}\")\n",
    "    X_train.drop(excluded_features_columns, axis=1, inplace=True)"
   ]
  },
  {
   "cell_type": "code",
   "execution_count": 25,
   "id": "d029e3e9",
   "metadata": {
    "execution": {
     "iopub.execute_input": "2025-08-19T18:53:39.938616Z",
     "iopub.status.busy": "2025-08-19T18:53:39.937653Z",
     "iopub.status.idle": "2025-08-19T18:53:39.945372Z",
     "shell.execute_reply": "2025-08-19T18:53:39.944285Z"
    },
    "papermill": {
     "duration": 0.021399,
     "end_time": "2025-08-19T18:53:39.946746",
     "exception": false,
     "start_time": "2025-08-19T18:53:39.925347",
     "status": "completed"
    },
    "tags": []
   },
   "outputs": [],
   "source": [
    "if len(excluded_features_columns) > 0:\n",
    "    print(f\"Dropping features: {excluded_features_columns}\")\n",
    "    X_test.drop(excluded_features_columns, axis=1, inplace=True)"
   ]
  },
  {
   "cell_type": "code",
   "execution_count": 26,
   "id": "01d571f0",
   "metadata": {
    "execution": {
     "iopub.execute_input": "2025-08-19T18:53:39.971715Z",
     "iopub.status.busy": "2025-08-19T18:53:39.971304Z",
     "iopub.status.idle": "2025-08-19T18:53:39.975595Z",
     "shell.execute_reply": "2025-08-19T18:53:39.975039Z"
    },
    "papermill": {
     "duration": 0.023922,
     "end_time": "2025-08-19T18:53:39.983217",
     "exception": false,
     "start_time": "2025-08-19T18:53:39.959295",
     "status": "completed"
    },
    "tags": []
   },
   "outputs": [],
   "source": [
    "if len(excluded_features_columns) > 0:\n",
    "    print(f\"Dropping features: {excluded_features_columns}\")\n",
    "    X_calib.drop(excluded_features_columns, axis=1, inplace=True)"
   ]
  },
  {
   "cell_type": "code",
   "execution_count": 27,
   "id": "3037356e",
   "metadata": {
    "execution": {
     "iopub.execute_input": "2025-08-19T18:53:40.020677Z",
     "iopub.status.busy": "2025-08-19T18:53:40.019616Z",
     "iopub.status.idle": "2025-08-19T18:53:40.028145Z",
     "shell.execute_reply": "2025-08-19T18:53:40.026530Z"
    },
    "papermill": {
     "duration": 0.024206,
     "end_time": "2025-08-19T18:53:40.030067",
     "exception": false,
     "start_time": "2025-08-19T18:53:40.005861",
     "status": "completed"
    },
    "tags": []
   },
   "outputs": [],
   "source": [
    "# EXCLUDE CERTAIN SUBGROUPS\n",
    "# -------------------------\n",
    "\n",
    "mode = universe.get(\"exclude_subgroups\", \"keep-all\") # Defaults to \"keep-all\" if the key is missing."
   ]
  },
  {
   "cell_type": "code",
   "execution_count": 28,
   "id": "9d1e63fd",
   "metadata": {
    "execution": {
     "iopub.execute_input": "2025-08-19T18:53:40.056691Z",
     "iopub.status.busy": "2025-08-19T18:53:40.055519Z",
     "iopub.status.idle": "2025-08-19T18:53:40.067050Z",
     "shell.execute_reply": "2025-08-19T18:53:40.065711Z"
    },
    "papermill": {
     "duration": 0.025574,
     "end_time": "2025-08-19T18:53:40.068900",
     "exception": false,
     "start_time": "2025-08-19T18:53:40.043326",
     "status": "completed"
    },
    "tags": []
   },
   "outputs": [],
   "source": [
    "if mode == \"keep-all\":\n",
    "    keep_mask = pd.Series(True, index=org_train.index)\n",
    "\n",
    "elif mode == \"drop-non-german\":\n",
    "    keep_mask = (org_train[\"maxdeutsch1\"] == 1) & (org_train[\"maxdeutsch.Missing.\"] == 0)\n",
    "\n",
    "else:\n",
    "    raise ValueError(f\"Unsupported mode for exclude_subgroups: {mode}\")"
   ]
  },
  {
   "cell_type": "code",
   "execution_count": 29,
   "id": "d3b65474",
   "metadata": {
    "execution": {
     "iopub.execute_input": "2025-08-19T18:53:40.097448Z",
     "iopub.status.busy": "2025-08-19T18:53:40.096377Z",
     "iopub.status.idle": "2025-08-19T18:53:40.108839Z",
     "shell.execute_reply": "2025-08-19T18:53:40.107360Z"
    },
    "papermill": {
     "duration": 0.027703,
     "end_time": "2025-08-19T18:53:40.111378",
     "exception": false,
     "start_time": "2025-08-19T18:53:40.083675",
     "status": "completed"
    },
    "tags": []
   },
   "outputs": [
    {
     "name": "stdout",
     "output_type": "stream",
     "text": [
      "Dropping 147 rows (14.70%) where mode='drop-non-german'\n"
     ]
    }
   ],
   "source": [
    "n_drop = (~keep_mask).sum() # Calculates how many rows are set to be dropped\n",
    "if n_drop > 0:\n",
    "    pct = n_drop / len(keep_mask) * 100\n",
    "    print(f\"Dropping {n_drop} rows ({pct:.2f}%) where mode='{mode}'\")"
   ]
  },
  {
   "cell_type": "code",
   "execution_count": 30,
   "id": "f44389b3",
   "metadata": {
    "execution": {
     "iopub.execute_input": "2025-08-19T18:53:40.137383Z",
     "iopub.status.busy": "2025-08-19T18:53:40.136323Z",
     "iopub.status.idle": "2025-08-19T18:53:40.147007Z",
     "shell.execute_reply": "2025-08-19T18:53:40.145648Z"
    },
    "papermill": {
     "duration": 0.025336,
     "end_time": "2025-08-19T18:53:40.149248",
     "exception": false,
     "start_time": "2025-08-19T18:53:40.123912",
     "status": "completed"
    },
    "tags": []
   },
   "outputs": [],
   "source": [
    "X_train = X_train[keep_mask]"
   ]
  },
  {
   "cell_type": "code",
   "execution_count": 31,
   "id": "ceca8c2a",
   "metadata": {
    "execution": {
     "iopub.execute_input": "2025-08-19T18:53:40.178321Z",
     "iopub.status.busy": "2025-08-19T18:53:40.177316Z",
     "iopub.status.idle": "2025-08-19T18:53:40.186261Z",
     "shell.execute_reply": "2025-08-19T18:53:40.184819Z"
    },
    "papermill": {
     "duration": 0.023578,
     "end_time": "2025-08-19T18:53:40.188319",
     "exception": false,
     "start_time": "2025-08-19T18:53:40.164741",
     "status": "completed"
    },
    "tags": []
   },
   "outputs": [],
   "source": [
    "y_train = y_train[keep_mask]"
   ]
  },
  {
   "cell_type": "markdown",
   "id": "04d31e2f",
   "metadata": {
    "papermill": {
     "duration": 0.011261,
     "end_time": "2025-08-19T18:53:40.214220",
     "exception": false,
     "start_time": "2025-08-19T18:53:40.202959",
     "status": "completed"
    },
    "tags": []
   },
   "source": [
    "# Model Training"
   ]
  },
  {
   "cell_type": "code",
   "execution_count": 32,
   "id": "db991733",
   "metadata": {
    "execution": {
     "iopub.execute_input": "2025-08-19T18:53:40.239025Z",
     "iopub.status.busy": "2025-08-19T18:53:40.237988Z",
     "iopub.status.idle": "2025-08-19T18:53:40.354385Z",
     "shell.execute_reply": "2025-08-19T18:53:40.353728Z"
    },
    "papermill": {
     "duration": 0.131947,
     "end_time": "2025-08-19T18:53:40.357269",
     "exception": false,
     "start_time": "2025-08-19T18:53:40.225322",
     "status": "completed"
    },
    "tags": []
   },
   "outputs": [],
   "source": [
    "from sklearn.linear_model import LogisticRegression\n",
    "from sklearn.ensemble import GradientBoostingClassifier, RandomForestClassifier\n",
    "\n",
    "if (universe[\"model\"] == \"logreg\"):\n",
    "    model = LogisticRegression() #penalty=\"none\", solver=\"newton-cg\", max_iter=1)\n",
    "elif (universe[\"model\"] == \"penalized_logreg\"):\n",
    "    model = LogisticRegression(penalty=\"l2\", C=0.1) #, solver=\"newton-cg\", max_iter=1)\n",
    "elif (universe[\"model\"] == \"rf\"):\n",
    "    model = RandomForestClassifier() # n_estimators=100, n_jobs=-1\n",
    "elif (universe[\"model\"] == \"gbm\"):\n",
    "    model = GradientBoostingClassifier()\n",
    "elif (universe[\"model\"] == \"elasticnet\"):\n",
    "    model = LogisticRegression(penalty = 'elasticnet', solver = 'saga', l1_ratio = 0.5) # max_iter=5000\n",
    "else:\n",
    "    raise \"Unsupported universe.model\""
   ]
  },
  {
   "cell_type": "code",
   "execution_count": 33,
   "id": "a4b5cd25",
   "metadata": {
    "execution": {
     "iopub.execute_input": "2025-08-19T18:53:40.396947Z",
     "iopub.status.busy": "2025-08-19T18:53:40.396020Z",
     "iopub.status.idle": "2025-08-19T18:53:40.406155Z",
     "shell.execute_reply": "2025-08-19T18:53:40.404576Z"
    },
    "papermill": {
     "duration": 0.026035,
     "end_time": "2025-08-19T18:53:40.408112",
     "exception": false,
     "start_time": "2025-08-19T18:53:40.382077",
     "status": "completed"
    },
    "tags": []
   },
   "outputs": [],
   "source": [
    "from sklearn.pipeline import Pipeline\n",
    "from sklearn.preprocessing import StandardScaler\n",
    "\n",
    "model = Pipeline([\n",
    "    #(\"continuous_processor\", continuous_processor),\n",
    "    #(\"categorical_preprocessor\", categorical_preprocessor),\n",
    "    (\"scale\", StandardScaler() if universe[\"scale\"] == \"scale\" else None), \n",
    "    (\"model\", model),\n",
    "])"
   ]
  },
  {
   "cell_type": "code",
   "execution_count": 34,
   "id": "283a904d",
   "metadata": {
    "execution": {
     "iopub.execute_input": "2025-08-19T18:53:40.436907Z",
     "iopub.status.busy": "2025-08-19T18:53:40.435886Z",
     "iopub.status.idle": "2025-08-19T18:53:40.496263Z",
     "shell.execute_reply": "2025-08-19T18:53:40.495691Z"
    },
    "papermill": {
     "duration": 0.077747,
     "end_time": "2025-08-19T18:53:40.501029",
     "exception": false,
     "start_time": "2025-08-19T18:53:40.423282",
     "status": "completed"
    },
    "tags": []
   },
   "outputs": [
    {
     "name": "stderr",
     "output_type": "stream",
     "text": [
      "/dss/dsshome1/0C/ra93lal2/.local/share/virtualenvs/CMA_Fairness_v2-3j10GkSs/lib/python3.10/site-packages/sklearn/linear_model/_logistic.py:444: ConvergenceWarning: lbfgs failed to converge (status=1):\n",
      "STOP: TOTAL NO. of ITERATIONS REACHED LIMIT.\n",
      "\n",
      "Increase the number of iterations (max_iter) or scale the data as shown in:\n",
      "    https://scikit-learn.org/stable/modules/preprocessing.html\n",
      "Please also refer to the documentation for alternative solver options:\n",
      "    https://scikit-learn.org/stable/modules/linear_model.html#logistic-regression\n",
      "  n_iter_i = _check_optimize_result(\n"
     ]
    },
    {
     "data": {
      "text/html": [
       "<style>#sk-container-id-1 {color: black;background-color: white;}#sk-container-id-1 pre{padding: 0;}#sk-container-id-1 div.sk-toggleable {background-color: white;}#sk-container-id-1 label.sk-toggleable__label {cursor: pointer;display: block;width: 100%;margin-bottom: 0;padding: 0.3em;box-sizing: border-box;text-align: center;}#sk-container-id-1 label.sk-toggleable__label-arrow:before {content: \"▸\";float: left;margin-right: 0.25em;color: #696969;}#sk-container-id-1 label.sk-toggleable__label-arrow:hover:before {color: black;}#sk-container-id-1 div.sk-estimator:hover label.sk-toggleable__label-arrow:before {color: black;}#sk-container-id-1 div.sk-toggleable__content {max-height: 0;max-width: 0;overflow: hidden;text-align: left;background-color: #f0f8ff;}#sk-container-id-1 div.sk-toggleable__content pre {margin: 0.2em;color: black;border-radius: 0.25em;background-color: #f0f8ff;}#sk-container-id-1 input.sk-toggleable__control:checked~div.sk-toggleable__content {max-height: 200px;max-width: 100%;overflow: auto;}#sk-container-id-1 input.sk-toggleable__control:checked~label.sk-toggleable__label-arrow:before {content: \"▾\";}#sk-container-id-1 div.sk-estimator input.sk-toggleable__control:checked~label.sk-toggleable__label {background-color: #d4ebff;}#sk-container-id-1 div.sk-label input.sk-toggleable__control:checked~label.sk-toggleable__label {background-color: #d4ebff;}#sk-container-id-1 input.sk-hidden--visually {border: 0;clip: rect(1px 1px 1px 1px);clip: rect(1px, 1px, 1px, 1px);height: 1px;margin: -1px;overflow: hidden;padding: 0;position: absolute;width: 1px;}#sk-container-id-1 div.sk-estimator {font-family: monospace;background-color: #f0f8ff;border: 1px dotted black;border-radius: 0.25em;box-sizing: border-box;margin-bottom: 0.5em;}#sk-container-id-1 div.sk-estimator:hover {background-color: #d4ebff;}#sk-container-id-1 div.sk-parallel-item::after {content: \"\";width: 100%;border-bottom: 1px solid gray;flex-grow: 1;}#sk-container-id-1 div.sk-label:hover label.sk-toggleable__label {background-color: #d4ebff;}#sk-container-id-1 div.sk-serial::before {content: \"\";position: absolute;border-left: 1px solid gray;box-sizing: border-box;top: 0;bottom: 0;left: 50%;z-index: 0;}#sk-container-id-1 div.sk-serial {display: flex;flex-direction: column;align-items: center;background-color: white;padding-right: 0.2em;padding-left: 0.2em;position: relative;}#sk-container-id-1 div.sk-item {position: relative;z-index: 1;}#sk-container-id-1 div.sk-parallel {display: flex;align-items: stretch;justify-content: center;background-color: white;position: relative;}#sk-container-id-1 div.sk-item::before, #sk-container-id-1 div.sk-parallel-item::before {content: \"\";position: absolute;border-left: 1px solid gray;box-sizing: border-box;top: 0;bottom: 0;left: 50%;z-index: -1;}#sk-container-id-1 div.sk-parallel-item {display: flex;flex-direction: column;z-index: 1;position: relative;background-color: white;}#sk-container-id-1 div.sk-parallel-item:first-child::after {align-self: flex-end;width: 50%;}#sk-container-id-1 div.sk-parallel-item:last-child::after {align-self: flex-start;width: 50%;}#sk-container-id-1 div.sk-parallel-item:only-child::after {width: 0;}#sk-container-id-1 div.sk-dashed-wrapped {border: 1px dashed gray;margin: 0 0.4em 0.5em 0.4em;box-sizing: border-box;padding-bottom: 0.4em;background-color: white;}#sk-container-id-1 div.sk-label label {font-family: monospace;font-weight: bold;display: inline-block;line-height: 1.2em;}#sk-container-id-1 div.sk-label-container {text-align: center;}#sk-container-id-1 div.sk-container {/* jupyter's `normalize.less` sets `[hidden] { display: none; }` but bootstrap.min.css set `[hidden] { display: none !important; }` so we also need the `!important` here to be able to override the default hidden behavior on the sphinx rendered scikit-learn.org. See: https://github.com/scikit-learn/scikit-learn/issues/21755 */display: inline-block !important;position: relative;}#sk-container-id-1 div.sk-text-repr-fallback {display: none;}</style><div id=\"sk-container-id-1\" class=\"sk-top-container\"><div class=\"sk-text-repr-fallback\"><pre>Pipeline(steps=[(&#x27;scale&#x27;, None), (&#x27;model&#x27;, LogisticRegression(C=0.1))])</pre><b>In a Jupyter environment, please rerun this cell to show the HTML representation or trust the notebook. <br />On GitHub, the HTML representation is unable to render, please try loading this page with nbviewer.org.</b></div><div class=\"sk-container\" hidden><div class=\"sk-item sk-dashed-wrapped\"><div class=\"sk-label-container\"><div class=\"sk-label sk-toggleable\"><input class=\"sk-toggleable__control sk-hidden--visually\" id=\"sk-estimator-id-1\" type=\"checkbox\" ><label for=\"sk-estimator-id-1\" class=\"sk-toggleable__label sk-toggleable__label-arrow\">Pipeline</label><div class=\"sk-toggleable__content\"><pre>Pipeline(steps=[(&#x27;scale&#x27;, None), (&#x27;model&#x27;, LogisticRegression(C=0.1))])</pre></div></div></div><div class=\"sk-serial\"><div class=\"sk-item\"><div class=\"sk-estimator sk-toggleable\"><input class=\"sk-toggleable__control sk-hidden--visually\" id=\"sk-estimator-id-2\" type=\"checkbox\" ><label for=\"sk-estimator-id-2\" class=\"sk-toggleable__label sk-toggleable__label-arrow\">None</label><div class=\"sk-toggleable__content\"><pre>None</pre></div></div></div><div class=\"sk-item\"><div class=\"sk-estimator sk-toggleable\"><input class=\"sk-toggleable__control sk-hidden--visually\" id=\"sk-estimator-id-3\" type=\"checkbox\" ><label for=\"sk-estimator-id-3\" class=\"sk-toggleable__label sk-toggleable__label-arrow\">LogisticRegression</label><div class=\"sk-toggleable__content\"><pre>LogisticRegression(C=0.1)</pre></div></div></div></div></div></div></div>"
      ],
      "text/plain": [
       "Pipeline(steps=[('scale', None), ('model', LogisticRegression(C=0.1))])"
      ]
     },
     "execution_count": 34,
     "metadata": {},
     "output_type": "execute_result"
    }
   ],
   "source": [
    "model.fit(X_train, y_train.values.ravel())"
   ]
  },
  {
   "cell_type": "code",
   "execution_count": 35,
   "id": "6e15e313",
   "metadata": {
    "execution": {
     "iopub.execute_input": "2025-08-19T18:53:40.539388Z",
     "iopub.status.busy": "2025-08-19T18:53:40.537784Z",
     "iopub.status.idle": "2025-08-19T18:53:40.642522Z",
     "shell.execute_reply": "2025-08-19T18:53:40.641891Z"
    },
    "papermill": {
     "duration": 0.121279,
     "end_time": "2025-08-19T18:53:40.644932",
     "exception": false,
     "start_time": "2025-08-19T18:53:40.523653",
     "status": "completed"
    },
    "tags": []
   },
   "outputs": [
    {
     "data": {
      "text/plain": [
       "0.8458365845502174"
      ]
     },
     "execution_count": 35,
     "metadata": {},
     "output_type": "execute_result"
    }
   ],
   "source": [
    "from fairness_multiverse.universe import predict_w_threshold\n",
    "\n",
    "probs_test = model.predict_proba(X_test)\n",
    "\n",
    "'''\n",
    "Below code returns a boolean array (or binary 0/1 array depending on how it’s used) where each element \n",
    "is True if the probability of class 1 is greater than or equal to the threshold, and False otherwise.\n",
    "'''\n",
    "y_pred_default = predict_w_threshold(probs_test, 0.5)\n",
    "\n",
    "from sklearn.metrics import accuracy_score\n",
    "\n",
    "# Naive prediction\n",
    "accuracy_score(y_true = y_true, y_pred = y_pred_default)"
   ]
  },
  {
   "cell_type": "code",
   "execution_count": 36,
   "id": "6f14067c",
   "metadata": {
    "execution": {
     "iopub.execute_input": "2025-08-19T18:53:40.685106Z",
     "iopub.status.busy": "2025-08-19T18:53:40.684061Z",
     "iopub.status.idle": "2025-08-19T18:53:40.779369Z",
     "shell.execute_reply": "2025-08-19T18:53:40.778658Z"
    },
    "papermill": {
     "duration": 0.112392,
     "end_time": "2025-08-19T18:53:40.781776",
     "exception": false,
     "start_time": "2025-08-19T18:53:40.669384",
     "status": "completed"
    },
    "tags": []
   },
   "outputs": [
    {
     "data": {
      "text/plain": [
       "array([0, 0, 0, ..., 0, 0, 0])"
      ]
     },
     "execution_count": 36,
     "metadata": {},
     "output_type": "execute_result"
    }
   ],
   "source": [
    "model.predict(X_test)"
   ]
  },
  {
   "cell_type": "markdown",
   "id": "3759920c",
   "metadata": {
    "papermill": {
     "duration": 0.012798,
     "end_time": "2025-08-19T18:53:40.818773",
     "exception": false,
     "start_time": "2025-08-19T18:53:40.805975",
     "status": "completed"
    },
    "tags": []
   },
   "source": [
    "# Conformal Prediction"
   ]
  },
  {
   "cell_type": "code",
   "execution_count": 37,
   "id": "14b27f59",
   "metadata": {
    "execution": {
     "iopub.execute_input": "2025-08-19T18:53:40.844316Z",
     "iopub.status.busy": "2025-08-19T18:53:40.843304Z",
     "iopub.status.idle": "2025-08-19T18:53:40.851757Z",
     "shell.execute_reply": "2025-08-19T18:53:40.850144Z"
    },
    "papermill": {
     "duration": 0.023942,
     "end_time": "2025-08-19T18:53:40.854006",
     "exception": false,
     "start_time": "2025-08-19T18:53:40.830064",
     "status": "completed"
    },
    "tags": []
   },
   "outputs": [],
   "source": [
    "# Miscoverage level for conformal prediction (10% allowed error rate => 90% target coverage)\n",
    "alpha = 0.1"
   ]
  },
  {
   "cell_type": "code",
   "execution_count": 38,
   "id": "59102472",
   "metadata": {
    "execution": {
     "iopub.execute_input": "2025-08-19T18:53:40.883667Z",
     "iopub.status.busy": "2025-08-19T18:53:40.882614Z",
     "iopub.status.idle": "2025-08-19T18:53:40.980797Z",
     "shell.execute_reply": "2025-08-19T18:53:40.979521Z"
    },
    "papermill": {
     "duration": 0.114525,
     "end_time": "2025-08-19T18:53:40.983745",
     "exception": false,
     "start_time": "2025-08-19T18:53:40.869220",
     "status": "completed"
    },
    "tags": []
   },
   "outputs": [],
   "source": [
    "probs_calib = model.predict_proba(X_calib)"
   ]
  },
  {
   "cell_type": "code",
   "execution_count": 39,
   "id": "a792d4dd",
   "metadata": {
    "execution": {
     "iopub.execute_input": "2025-08-19T18:53:41.025222Z",
     "iopub.status.busy": "2025-08-19T18:53:41.024030Z",
     "iopub.status.idle": "2025-08-19T18:53:41.034875Z",
     "shell.execute_reply": "2025-08-19T18:53:41.033556Z"
    },
    "papermill": {
     "duration": 0.028259,
     "end_time": "2025-08-19T18:53:41.036887",
     "exception": false,
     "start_time": "2025-08-19T18:53:41.008628",
     "status": "completed"
    },
    "tags": []
   },
   "outputs": [],
   "source": [
    "y_calib = y_calib.values.ravel().astype(int)"
   ]
  },
  {
   "cell_type": "code",
   "execution_count": 40,
   "id": "650fd033",
   "metadata": {
    "execution": {
     "iopub.execute_input": "2025-08-19T18:53:41.067865Z",
     "iopub.status.busy": "2025-08-19T18:53:41.066267Z",
     "iopub.status.idle": "2025-08-19T18:53:41.078809Z",
     "shell.execute_reply": "2025-08-19T18:53:41.077553Z"
    },
    "papermill": {
     "duration": 0.028144,
     "end_time": "2025-08-19T18:53:41.081048",
     "exception": false,
     "start_time": "2025-08-19T18:53:41.052904",
     "status": "completed"
    },
    "tags": []
   },
   "outputs": [],
   "source": [
    "from fairness_multiverse.conformal import compute_nc_scores\n",
    "\n",
    "# Compute nonconformity scores on calibration set (1 - probability of true class)\n",
    "nc_scores = compute_nc_scores(probs_calib, y_calib)"
   ]
  },
  {
   "cell_type": "code",
   "execution_count": 41,
   "id": "28ada44c",
   "metadata": {
    "execution": {
     "iopub.execute_input": "2025-08-19T18:53:41.112798Z",
     "iopub.status.busy": "2025-08-19T18:53:41.111761Z",
     "iopub.status.idle": "2025-08-19T18:53:41.123211Z",
     "shell.execute_reply": "2025-08-19T18:53:41.121559Z"
    },
    "papermill": {
     "duration": 0.027192,
     "end_time": "2025-08-19T18:53:41.125202",
     "exception": false,
     "start_time": "2025-08-19T18:53:41.098010",
     "status": "completed"
    },
    "tags": []
   },
   "outputs": [],
   "source": [
    "from fairness_multiverse.conformal import find_threshold\n",
    "\n",
    "# Find conformal threshold q_hat for the given alpha (split conformal method)\n",
    "q_hat = find_threshold(nc_scores, alpha)"
   ]
  },
  {
   "cell_type": "code",
   "execution_count": 42,
   "id": "df56469e",
   "metadata": {
    "execution": {
     "iopub.execute_input": "2025-08-19T18:53:41.155790Z",
     "iopub.status.busy": "2025-08-19T18:53:41.154266Z",
     "iopub.status.idle": "2025-08-19T18:53:41.167578Z",
     "shell.execute_reply": "2025-08-19T18:53:41.166419Z"
    },
    "papermill": {
     "duration": 0.028953,
     "end_time": "2025-08-19T18:53:41.169796",
     "exception": false,
     "start_time": "2025-08-19T18:53:41.140843",
     "status": "completed"
    },
    "tags": []
   },
   "outputs": [
    {
     "data": {
      "text/plain": [
       "0.6902002976710864"
      ]
     },
     "execution_count": 42,
     "metadata": {},
     "output_type": "execute_result"
    }
   ],
   "source": [
    "q_hat"
   ]
  },
  {
   "cell_type": "code",
   "execution_count": 43,
   "id": "aa1f5faa",
   "metadata": {
    "execution": {
     "iopub.execute_input": "2025-08-19T18:53:41.200962Z",
     "iopub.status.busy": "2025-08-19T18:53:41.199346Z",
     "iopub.status.idle": "2025-08-19T18:53:41.747380Z",
     "shell.execute_reply": "2025-08-19T18:53:41.746514Z"
    },
    "papermill": {
     "duration": 0.564311,
     "end_time": "2025-08-19T18:53:41.750162",
     "exception": false,
     "start_time": "2025-08-19T18:53:41.185851",
     "status": "completed"
    },
    "tags": []
   },
   "outputs": [],
   "source": [
    "from fairness_multiverse.conformal import predict_conformal_sets\n",
    "\n",
    "# Generate prediction sets for each test example\n",
    "pred_sets = predict_conformal_sets(model, X_test, q_hat)"
   ]
  },
  {
   "cell_type": "code",
   "execution_count": 44,
   "id": "97f67a6b",
   "metadata": {
    "execution": {
     "iopub.execute_input": "2025-08-19T18:53:41.792318Z",
     "iopub.status.busy": "2025-08-19T18:53:41.791241Z",
     "iopub.status.idle": "2025-08-19T18:53:41.802098Z",
     "shell.execute_reply": "2025-08-19T18:53:41.800464Z"
    },
    "papermill": {
     "duration": 0.027676,
     "end_time": "2025-08-19T18:53:41.803875",
     "exception": false,
     "start_time": "2025-08-19T18:53:41.776199",
     "status": "completed"
    },
    "tags": []
   },
   "outputs": [],
   "source": [
    "y_true = y_true.squeeze()"
   ]
  },
  {
   "cell_type": "code",
   "execution_count": 45,
   "id": "e700e9a7",
   "metadata": {
    "execution": {
     "iopub.execute_input": "2025-08-19T18:53:41.833991Z",
     "iopub.status.busy": "2025-08-19T18:53:41.832964Z",
     "iopub.status.idle": "2025-08-19T18:53:42.346013Z",
     "shell.execute_reply": "2025-08-19T18:53:42.344890Z"
    },
    "papermill": {
     "duration": 0.527997,
     "end_time": "2025-08-19T18:53:42.347657",
     "exception": false,
     "start_time": "2025-08-19T18:53:41.819660",
     "status": "completed"
    },
    "tags": []
   },
   "outputs": [],
   "source": [
    "from fairness_multiverse.conformal import evaluate_sets\n",
    "\n",
    "# Evaluate coverage and average set size on test data\n",
    "metrics = evaluate_sets(pred_sets, y_true)"
   ]
  },
  {
   "cell_type": "markdown",
   "id": "efbacec0",
   "metadata": {
    "papermill": {
     "duration": 0.031073,
     "end_time": "2025-08-19T18:53:42.392637",
     "exception": false,
     "start_time": "2025-08-19T18:53:42.361564",
     "status": "completed"
    },
    "tags": []
   },
   "source": [
    "# CP Metrics"
   ]
  },
  {
   "cell_type": "code",
   "execution_count": 46,
   "id": "9de55fb1",
   "metadata": {
    "execution": {
     "iopub.execute_input": "2025-08-19T18:53:42.423422Z",
     "iopub.status.busy": "2025-08-19T18:53:42.421666Z",
     "iopub.status.idle": "2025-08-19T18:53:42.436879Z",
     "shell.execute_reply": "2025-08-19T18:53:42.435189Z"
    },
    "papermill": {
     "duration": 0.031462,
     "end_time": "2025-08-19T18:53:42.438637",
     "exception": false,
     "start_time": "2025-08-19T18:53:42.407175",
     "status": "completed"
    },
    "tags": []
   },
   "outputs": [
    {
     "data": {
      "text/plain": [
       "{'coverage': 0.9086946828670159, 'avg_size': 1.2414558020287594}"
      ]
     },
     "execution_count": 46,
     "metadata": {},
     "output_type": "execute_result"
    }
   ],
   "source": [
    "metrics"
   ]
  },
  {
   "cell_type": "code",
   "execution_count": 47,
   "id": "64c340a1",
   "metadata": {
    "execution": {
     "iopub.execute_input": "2025-08-19T18:53:42.466642Z",
     "iopub.status.busy": "2025-08-19T18:53:42.465546Z",
     "iopub.status.idle": "2025-08-19T18:53:42.477583Z",
     "shell.execute_reply": "2025-08-19T18:53:42.475660Z"
    },
    "papermill": {
     "duration": 0.027157,
     "end_time": "2025-08-19T18:53:42.479321",
     "exception": false,
     "start_time": "2025-08-19T18:53:42.452164",
     "status": "completed"
    },
    "tags": []
   },
   "outputs": [],
   "source": [
    "example_universe = universe.copy()\n",
    "universe_training_year = example_universe.get(\"training_year\")\n",
    "universe_training_size = example_universe.get(\"training_size\")\n",
    "universe_scale = example_universe.get(\"scale\")\n",
    "universe_model = example_universe.get(\"model\")\n",
    "universe_exclude_features = example_universe.get(\"exclude_features\")\n",
    "universe_exclude_subgroups = example_universe.get(\"exclude_subgroups\")"
   ]
  },
  {
   "cell_type": "code",
   "execution_count": 48,
   "id": "dbb53cb4",
   "metadata": {
    "execution": {
     "iopub.execute_input": "2025-08-19T18:53:42.508560Z",
     "iopub.status.busy": "2025-08-19T18:53:42.508097Z",
     "iopub.status.idle": "2025-08-19T18:53:42.513201Z",
     "shell.execute_reply": "2025-08-19T18:53:42.512527Z"
    },
    "papermill": {
     "duration": 0.019795,
     "end_time": "2025-08-19T18:53:42.514225",
     "exception": false,
     "start_time": "2025-08-19T18:53:42.494430",
     "status": "completed"
    },
    "tags": []
   },
   "outputs": [],
   "source": [
    "cp_metrics_dict = {\n",
    "    \"universe_id\": [universe_id],\n",
    "    \"universe_training_year\": [universe_training_year],\n",
    "    \"universe_training_size\": [universe_training_size],\n",
    "    \"universe_scale\": [universe_scale],\n",
    "    \"universe_model\": [universe_model],\n",
    "    \"universe_exclude_features\": [universe_exclude_features],\n",
    "    \"universe_exclude_subgroups\": [universe_exclude_subgroups],\n",
    "    \"q_hat\": [q_hat],\n",
    "    \"coverage\": [metrics[\"coverage\"]],\n",
    "    \"avg_size\": [metrics[\"avg_size\"]],\n",
    "}"
   ]
  },
  {
   "cell_type": "code",
   "execution_count": 49,
   "id": "0d70d4b2",
   "metadata": {
    "execution": {
     "iopub.execute_input": "2025-08-19T18:53:42.541431Z",
     "iopub.status.busy": "2025-08-19T18:53:42.541004Z",
     "iopub.status.idle": "2025-08-19T18:53:42.547108Z",
     "shell.execute_reply": "2025-08-19T18:53:42.546407Z"
    },
    "papermill": {
     "duration": 0.020969,
     "end_time": "2025-08-19T18:53:42.548167",
     "exception": false,
     "start_time": "2025-08-19T18:53:42.527198",
     "status": "completed"
    },
    "tags": []
   },
   "outputs": [],
   "source": [
    "cp_metrics_df = pd.DataFrame(cp_metrics_dict)"
   ]
  },
  {
   "cell_type": "code",
   "execution_count": 50,
   "id": "b494403c",
   "metadata": {
    "execution": {
     "iopub.execute_input": "2025-08-19T18:53:42.575584Z",
     "iopub.status.busy": "2025-08-19T18:53:42.575165Z",
     "iopub.status.idle": "2025-08-19T18:53:42.588274Z",
     "shell.execute_reply": "2025-08-19T18:53:42.587550Z"
    },
    "papermill": {
     "duration": 0.027384,
     "end_time": "2025-08-19T18:53:42.589500",
     "exception": false,
     "start_time": "2025-08-19T18:53:42.562116",
     "status": "completed"
    },
    "tags": []
   },
   "outputs": [
    {
     "data": {
      "text/html": [
       "<div>\n",
       "<style scoped>\n",
       "    .dataframe tbody tr th:only-of-type {\n",
       "        vertical-align: middle;\n",
       "    }\n",
       "\n",
       "    .dataframe tbody tr th {\n",
       "        vertical-align: top;\n",
       "    }\n",
       "\n",
       "    .dataframe thead th {\n",
       "        text-align: right;\n",
       "    }\n",
       "</style>\n",
       "<table border=\"1\" class=\"dataframe\">\n",
       "  <thead>\n",
       "    <tr style=\"text-align: right;\">\n",
       "      <th></th>\n",
       "      <th>universe_id</th>\n",
       "      <th>universe_training_year</th>\n",
       "      <th>universe_training_size</th>\n",
       "      <th>universe_scale</th>\n",
       "      <th>universe_model</th>\n",
       "      <th>universe_exclude_features</th>\n",
       "      <th>universe_exclude_subgroups</th>\n",
       "      <th>q_hat</th>\n",
       "      <th>coverage</th>\n",
       "      <th>avg_size</th>\n",
       "    </tr>\n",
       "  </thead>\n",
       "  <tbody>\n",
       "    <tr>\n",
       "      <th>0</th>\n",
       "      <td>9f41d7b0dac0dd2a5a63d3d7e77bb5df</td>\n",
       "      <td>2014</td>\n",
       "      <td>1k</td>\n",
       "      <td>do-not-scale</td>\n",
       "      <td>penalized_logreg</td>\n",
       "      <td>none</td>\n",
       "      <td>drop-non-german</td>\n",
       "      <td>0.6902</td>\n",
       "      <td>0.908695</td>\n",
       "      <td>1.241456</td>\n",
       "    </tr>\n",
       "  </tbody>\n",
       "</table>\n",
       "</div>"
      ],
      "text/plain": [
       "                        universe_id universe_training_year  \\\n",
       "0  9f41d7b0dac0dd2a5a63d3d7e77bb5df                   2014   \n",
       "\n",
       "  universe_training_size universe_scale    universe_model  \\\n",
       "0                     1k   do-not-scale  penalized_logreg   \n",
       "\n",
       "  universe_exclude_features universe_exclude_subgroups   q_hat  coverage  \\\n",
       "0                      none            drop-non-german  0.6902  0.908695   \n",
       "\n",
       "   avg_size  \n",
       "0  1.241456  "
      ]
     },
     "execution_count": 50,
     "metadata": {},
     "output_type": "execute_result"
    }
   ],
   "source": [
    "cp_metrics_df"
   ]
  },
  {
   "cell_type": "markdown",
   "id": "ed608b0b",
   "metadata": {
    "papermill": {
     "duration": 0.011935,
     "end_time": "2025-08-19T18:53:42.614149",
     "exception": false,
     "start_time": "2025-08-19T18:53:42.602214",
     "status": "completed"
    },
    "tags": []
   },
   "source": [
    "Conditional coverage & looking at subgroups"
   ]
  },
  {
   "cell_type": "code",
   "execution_count": 51,
   "id": "8968c366",
   "metadata": {
    "execution": {
     "iopub.execute_input": "2025-08-19T18:53:42.648512Z",
     "iopub.status.busy": "2025-08-19T18:53:42.647421Z",
     "iopub.status.idle": "2025-08-19T18:53:42.936954Z",
     "shell.execute_reply": "2025-08-19T18:53:42.936135Z"
    },
    "papermill": {
     "duration": 0.314277,
     "end_time": "2025-08-19T18:53:42.940406",
     "exception": false,
     "start_time": "2025-08-19T18:53:42.626129",
     "status": "completed"
    },
    "tags": []
   },
   "outputs": [],
   "source": [
    "from fairness_multiverse.conformal import build_cp_groups\n",
    "\n",
    "cp_groups_df = build_cp_groups(pred_sets, y_true, X_test.index, org_test)"
   ]
  },
  {
   "cell_type": "code",
   "execution_count": 52,
   "id": "292ddabf",
   "metadata": {
    "execution": {
     "iopub.execute_input": "2025-08-19T18:53:42.986976Z",
     "iopub.status.busy": "2025-08-19T18:53:42.985232Z",
     "iopub.status.idle": "2025-08-19T18:53:43.974691Z",
     "shell.execute_reply": "2025-08-19T18:53:43.973486Z"
    },
    "papermill": {
     "duration": 1.006143,
     "end_time": "2025-08-19T18:53:43.976213",
     "exception": false,
     "start_time": "2025-08-19T18:53:42.970070",
     "status": "completed"
    },
    "tags": []
   },
   "outputs": [],
   "source": [
    "# Define covered = 1 if true_label is in the predicted set\n",
    "cp_groups_df['covered'] = cp_groups_df.apply(\n",
    "    lambda r: int(r['true_label'] in r['pred_set']),\n",
    "    axis=1\n",
    ")"
   ]
  },
  {
   "cell_type": "code",
   "execution_count": 53,
   "id": "3a261692",
   "metadata": {
    "execution": {
     "iopub.execute_input": "2025-08-19T18:53:44.016231Z",
     "iopub.status.busy": "2025-08-19T18:53:44.014393Z",
     "iopub.status.idle": "2025-08-19T18:53:44.039321Z",
     "shell.execute_reply": "2025-08-19T18:53:44.038367Z"
    },
    "papermill": {
     "duration": 0.053813,
     "end_time": "2025-08-19T18:53:44.046569",
     "exception": false,
     "start_time": "2025-08-19T18:53:43.992756",
     "status": "completed"
    },
    "tags": []
   },
   "outputs": [],
   "source": [
    "subgroups = ['frau1','nongerman','nongerman_male','nongerman_female']\n",
    "\n",
    "# Conditional coverage for subgroup==1\n",
    "cond_coverage = {\n",
    "    g: cp_groups_df.loc[cp_groups_df[g]==1, 'covered'].mean()\n",
    "    for g in subgroups\n",
    "}"
   ]
  },
  {
   "cell_type": "code",
   "execution_count": 54,
   "id": "894fd600",
   "metadata": {
    "execution": {
     "iopub.execute_input": "2025-08-19T18:53:44.087920Z",
     "iopub.status.busy": "2025-08-19T18:53:44.086683Z",
     "iopub.status.idle": "2025-08-19T18:53:44.099366Z",
     "shell.execute_reply": "2025-08-19T18:53:44.098055Z"
    },
    "papermill": {
     "duration": 0.034229,
     "end_time": "2025-08-19T18:53:44.100872",
     "exception": false,
     "start_time": "2025-08-19T18:53:44.066643",
     "status": "completed"
    },
    "tags": []
   },
   "outputs": [
    {
     "data": {
      "text/plain": [
       "{'frau1': 0.9089634721660601,\n",
       " 'nongerman': 0.938808735193398,\n",
       " 'nongerman_male': 0.9492929838782311,\n",
       " 'nongerman_female': 0.9214605067064083}"
      ]
     },
     "execution_count": 54,
     "metadata": {},
     "output_type": "execute_result"
    }
   ],
   "source": [
    "cond_coverage"
   ]
  },
  {
   "cell_type": "code",
   "execution_count": 55,
   "id": "942895c7",
   "metadata": {
    "execution": {
     "iopub.execute_input": "2025-08-19T18:53:44.134826Z",
     "iopub.status.busy": "2025-08-19T18:53:44.133758Z",
     "iopub.status.idle": "2025-08-19T18:53:44.146699Z",
     "shell.execute_reply": "2025-08-19T18:53:44.145081Z"
    },
    "papermill": {
     "duration": 0.028549,
     "end_time": "2025-08-19T18:53:44.148223",
     "exception": false,
     "start_time": "2025-08-19T18:53:44.119674",
     "status": "completed"
    },
    "tags": []
   },
   "outputs": [],
   "source": [
    "for subgroup, cov in cond_coverage.items():\n",
    "    cp_metrics_df[f\"cov_{subgroup}\"] = cov"
   ]
  },
  {
   "cell_type": "code",
   "execution_count": 56,
   "id": "3970120f",
   "metadata": {
    "execution": {
     "iopub.execute_input": "2025-08-19T18:53:44.186611Z",
     "iopub.status.busy": "2025-08-19T18:53:44.186191Z",
     "iopub.status.idle": "2025-08-19T18:53:44.203023Z",
     "shell.execute_reply": "2025-08-19T18:53:44.201683Z"
    },
    "papermill": {
     "duration": 0.031837,
     "end_time": "2025-08-19T18:53:44.204595",
     "exception": false,
     "start_time": "2025-08-19T18:53:44.172758",
     "status": "completed"
    },
    "tags": []
   },
   "outputs": [
    {
     "data": {
      "text/html": [
       "<div>\n",
       "<style scoped>\n",
       "    .dataframe tbody tr th:only-of-type {\n",
       "        vertical-align: middle;\n",
       "    }\n",
       "\n",
       "    .dataframe tbody tr th {\n",
       "        vertical-align: top;\n",
       "    }\n",
       "\n",
       "    .dataframe thead th {\n",
       "        text-align: right;\n",
       "    }\n",
       "</style>\n",
       "<table border=\"1\" class=\"dataframe\">\n",
       "  <thead>\n",
       "    <tr style=\"text-align: right;\">\n",
       "      <th></th>\n",
       "      <th>universe_id</th>\n",
       "      <th>universe_training_year</th>\n",
       "      <th>universe_training_size</th>\n",
       "      <th>universe_scale</th>\n",
       "      <th>universe_model</th>\n",
       "      <th>universe_exclude_features</th>\n",
       "      <th>universe_exclude_subgroups</th>\n",
       "      <th>q_hat</th>\n",
       "      <th>coverage</th>\n",
       "      <th>avg_size</th>\n",
       "      <th>cov_frau1</th>\n",
       "      <th>cov_nongerman</th>\n",
       "      <th>cov_nongerman_male</th>\n",
       "      <th>cov_nongerman_female</th>\n",
       "    </tr>\n",
       "  </thead>\n",
       "  <tbody>\n",
       "    <tr>\n",
       "      <th>0</th>\n",
       "      <td>9f41d7b0dac0dd2a5a63d3d7e77bb5df</td>\n",
       "      <td>2014</td>\n",
       "      <td>1k</td>\n",
       "      <td>do-not-scale</td>\n",
       "      <td>penalized_logreg</td>\n",
       "      <td>none</td>\n",
       "      <td>drop-non-german</td>\n",
       "      <td>0.6902</td>\n",
       "      <td>0.908695</td>\n",
       "      <td>1.241456</td>\n",
       "      <td>0.908963</td>\n",
       "      <td>0.938809</td>\n",
       "      <td>0.949293</td>\n",
       "      <td>0.921461</td>\n",
       "    </tr>\n",
       "  </tbody>\n",
       "</table>\n",
       "</div>"
      ],
      "text/plain": [
       "                        universe_id universe_training_year  \\\n",
       "0  9f41d7b0dac0dd2a5a63d3d7e77bb5df                   2014   \n",
       "\n",
       "  universe_training_size universe_scale    universe_model  \\\n",
       "0                     1k   do-not-scale  penalized_logreg   \n",
       "\n",
       "  universe_exclude_features universe_exclude_subgroups   q_hat  coverage  \\\n",
       "0                      none            drop-non-german  0.6902  0.908695   \n",
       "\n",
       "   avg_size  cov_frau1  cov_nongerman  cov_nongerman_male  \\\n",
       "0  1.241456   0.908963       0.938809            0.949293   \n",
       "\n",
       "   cov_nongerman_female  \n",
       "0              0.921461  "
      ]
     },
     "execution_count": 56,
     "metadata": {},
     "output_type": "execute_result"
    }
   ],
   "source": [
    "cp_metrics_df"
   ]
  },
  {
   "cell_type": "markdown",
   "id": "3fc519cc",
   "metadata": {
    "papermill": {
     "duration": 0.016129,
     "end_time": "2025-08-19T18:53:44.239452",
     "exception": false,
     "start_time": "2025-08-19T18:53:44.223323",
     "status": "completed"
    },
    "tags": []
   },
   "source": [
    "# (Fairness) Metrics"
   ]
  },
  {
   "cell_type": "code",
   "execution_count": 57,
   "id": "a2e5e155",
   "metadata": {
    "execution": {
     "iopub.execute_input": "2025-08-19T18:53:44.265391Z",
     "iopub.status.busy": "2025-08-19T18:53:44.264939Z",
     "iopub.status.idle": "2025-08-19T18:53:44.279924Z",
     "shell.execute_reply": "2025-08-19T18:53:44.279133Z"
    },
    "papermill": {
     "duration": 0.030425,
     "end_time": "2025-08-19T18:53:44.282138",
     "exception": false,
     "start_time": "2025-08-19T18:53:44.251713",
     "status": "completed"
    },
    "tags": []
   },
   "outputs": [],
   "source": [
    "colname_to_bin = \"maxdeutsch1\"\n",
    "majority_value = org_train[colname_to_bin].mode()[0]\n",
    "\n",
    "org_test[\"majmin\"] = np.where(org_test[colname_to_bin] == majority_value, \"majority\", \"minority\")"
   ]
  },
  {
   "cell_type": "code",
   "execution_count": 58,
   "id": "17e3e4d5",
   "metadata": {
    "execution": {
     "iopub.execute_input": "2025-08-19T18:53:44.323532Z",
     "iopub.status.busy": "2025-08-19T18:53:44.322271Z",
     "iopub.status.idle": "2025-08-19T18:53:46.153237Z",
     "shell.execute_reply": "2025-08-19T18:53:46.151911Z"
    },
    "papermill": {
     "duration": 1.855917,
     "end_time": "2025-08-19T18:53:46.156292",
     "exception": false,
     "start_time": "2025-08-19T18:53:44.300375",
     "status": "completed"
    },
    "tags": []
   },
   "outputs": [],
   "source": [
    "example_universe = universe.copy()\n",
    "example_universe[\"cutoff\"] = example_universe[\"cutoff\"][0]\n",
    "example_universe[\"eval_fairness_grouping\"] = example_universe[\"eval_fairness_grouping\"][0]\n",
    "fairness_dict, metric_frame = universe_analysis.compute_metrics(\n",
    "    example_universe,\n",
    "    y_pred_prob=probs_test,\n",
    "    y_test=y_true,\n",
    "    org_test=org_test,\n",
    ")"
   ]
  },
  {
   "cell_type": "markdown",
   "id": "1fb7a0e9",
   "metadata": {
    "papermill": {
     "duration": 0.013394,
     "end_time": "2025-08-19T18:53:46.196418",
     "exception": false,
     "start_time": "2025-08-19T18:53:46.183024",
     "status": "completed"
    },
    "tags": []
   },
   "source": [
    "# Overall"
   ]
  },
  {
   "cell_type": "markdown",
   "id": "be1784b1",
   "metadata": {
    "papermill": {
     "duration": 0.014854,
     "end_time": "2025-08-19T18:53:46.223430",
     "exception": false,
     "start_time": "2025-08-19T18:53:46.208576",
     "status": "completed"
    },
    "tags": []
   },
   "source": [
    "Main fairness target: Equalized Odds. Seems to be a better fit than equal opportunity, since we're not only interested in Y = 1. Seems to be a better fit than demographic parity, since we also care about accuracy, not just equal distribution of preds.\n",
    "\n",
    "Pick column for computation of fairness metrics\n",
    "\n",
    "Performance\n",
    "Overall performance measures, most interesting in relation to the measures split by group below"
   ]
  },
  {
   "cell_type": "code",
   "execution_count": 59,
   "id": "b7672bee",
   "metadata": {
    "execution": {
     "iopub.execute_input": "2025-08-19T18:53:46.257505Z",
     "iopub.status.busy": "2025-08-19T18:53:46.255936Z",
     "iopub.status.idle": "2025-08-19T18:53:46.271407Z",
     "shell.execute_reply": "2025-08-19T18:53:46.270395Z"
    },
    "papermill": {
     "duration": 0.036442,
     "end_time": "2025-08-19T18:53:46.273270",
     "exception": false,
     "start_time": "2025-08-19T18:53:46.236828",
     "status": "completed"
    },
    "tags": []
   },
   "outputs": [
    {
     "data": {
      "text/plain": [
       "accuracy                   0.216955\n",
       "balanced accuracy          0.532038\n",
       "f1                         0.238490\n",
       "precision                  0.136241\n",
       "false positive rate        0.891780\n",
       "false negative rate        0.044143\n",
       "selection rate             0.900000\n",
       "count                  89710.000000\n",
       "dtype: float64"
      ]
     },
     "execution_count": 59,
     "metadata": {},
     "output_type": "execute_result"
    }
   ],
   "source": [
    "metric_frame.overall"
   ]
  },
  {
   "cell_type": "markdown",
   "id": "d93333c9",
   "metadata": {
    "papermill": {
     "duration": 0.013185,
     "end_time": "2025-08-19T18:53:46.307442",
     "exception": false,
     "start_time": "2025-08-19T18:53:46.294257",
     "status": "completed"
    },
    "tags": []
   },
   "source": [
    "By Group"
   ]
  },
  {
   "cell_type": "code",
   "execution_count": 60,
   "id": "52256966",
   "metadata": {
    "execution": {
     "iopub.execute_input": "2025-08-19T18:53:46.335953Z",
     "iopub.status.busy": "2025-08-19T18:53:46.334884Z",
     "iopub.status.idle": "2025-08-19T18:53:46.359895Z",
     "shell.execute_reply": "2025-08-19T18:53:46.359078Z"
    },
    "papermill": {
     "duration": 0.041353,
     "end_time": "2025-08-19T18:53:46.361609",
     "exception": false,
     "start_time": "2025-08-19T18:53:46.320256",
     "status": "completed"
    },
    "tags": []
   },
   "outputs": [
    {
     "data": {
      "text/html": [
       "<div>\n",
       "<style scoped>\n",
       "    .dataframe tbody tr th:only-of-type {\n",
       "        vertical-align: middle;\n",
       "    }\n",
       "\n",
       "    .dataframe tbody tr th {\n",
       "        vertical-align: top;\n",
       "    }\n",
       "\n",
       "    .dataframe thead th {\n",
       "        text-align: right;\n",
       "    }\n",
       "</style>\n",
       "<table border=\"1\" class=\"dataframe\">\n",
       "  <thead>\n",
       "    <tr style=\"text-align: right;\">\n",
       "      <th></th>\n",
       "      <th>accuracy</th>\n",
       "      <th>balanced accuracy</th>\n",
       "      <th>f1</th>\n",
       "      <th>precision</th>\n",
       "      <th>false positive rate</th>\n",
       "      <th>false negative rate</th>\n",
       "      <th>selection rate</th>\n",
       "      <th>count</th>\n",
       "    </tr>\n",
       "    <tr>\n",
       "      <th>majmin</th>\n",
       "      <th></th>\n",
       "      <th></th>\n",
       "      <th></th>\n",
       "      <th></th>\n",
       "      <th></th>\n",
       "      <th></th>\n",
       "      <th></th>\n",
       "      <th></th>\n",
       "    </tr>\n",
       "  </thead>\n",
       "  <tbody>\n",
       "    <tr>\n",
       "      <th>majority</th>\n",
       "      <td>0.237430</td>\n",
       "      <td>0.539514</td>\n",
       "      <td>0.247707</td>\n",
       "      <td>0.142419</td>\n",
       "      <td>0.871081</td>\n",
       "      <td>0.049891</td>\n",
       "      <td>0.881524</td>\n",
       "      <td>69170.0</td>\n",
       "    </tr>\n",
       "    <tr>\n",
       "      <th>minority</th>\n",
       "      <td>0.148004</td>\n",
       "      <td>0.508941</td>\n",
       "      <td>0.209290</td>\n",
       "      <td>0.117183</td>\n",
       "      <td>0.960158</td>\n",
       "      <td>0.021959</td>\n",
       "      <td>0.962220</td>\n",
       "      <td>20540.0</td>\n",
       "    </tr>\n",
       "  </tbody>\n",
       "</table>\n",
       "</div>"
      ],
      "text/plain": [
       "          accuracy  balanced accuracy        f1  precision  \\\n",
       "majmin                                                       \n",
       "majority  0.237430           0.539514  0.247707   0.142419   \n",
       "minority  0.148004           0.508941  0.209290   0.117183   \n",
       "\n",
       "          false positive rate  false negative rate  selection rate    count  \n",
       "majmin                                                                       \n",
       "majority             0.871081             0.049891        0.881524  69170.0  \n",
       "minority             0.960158             0.021959        0.962220  20540.0  "
      ]
     },
     "execution_count": 60,
     "metadata": {},
     "output_type": "execute_result"
    }
   ],
   "source": [
    "metric_frame.by_group"
   ]
  },
  {
   "cell_type": "code",
   "execution_count": 61,
   "id": "6e6c20ae",
   "metadata": {
    "execution": {
     "iopub.execute_input": "2025-08-19T18:53:46.399647Z",
     "iopub.status.busy": "2025-08-19T18:53:46.398896Z",
     "iopub.status.idle": "2025-08-19T18:53:48.395585Z",
     "shell.execute_reply": "2025-08-19T18:53:48.394161Z"
    },
    "papermill": {
     "duration": 2.015367,
     "end_time": "2025-08-19T18:53:48.397130",
     "exception": false,
     "start_time": "2025-08-19T18:53:46.381763",
     "status": "completed"
    },
    "tags": []
   },
   "outputs": [
    {
     "data": {
      "text/plain": [
       "array([[<Axes: title={'center': 'accuracy'}, xlabel='majmin'>,\n",
       "        <Axes: title={'center': 'balanced accuracy'}, xlabel='majmin'>,\n",
       "        <Axes: title={'center': 'f1'}, xlabel='majmin'>],\n",
       "       [<Axes: title={'center': 'precision'}, xlabel='majmin'>,\n",
       "        <Axes: title={'center': 'false positive rate'}, xlabel='majmin'>,\n",
       "        <Axes: title={'center': 'false negative rate'}, xlabel='majmin'>],\n",
       "       [<Axes: title={'center': 'selection rate'}, xlabel='majmin'>,\n",
       "        <Axes: title={'center': 'count'}, xlabel='majmin'>,\n",
       "        <Axes: xlabel='majmin'>]], dtype=object)"
      ]
     },
     "execution_count": 61,
     "metadata": {},
     "output_type": "execute_result"
    },
    {
     "data": {
      "image/png": "[encoded data removed]",
      "text/plain": [
       "<Figure size 1200x800 with 9 Axes>"
      ]
     },
     "metadata": {},
     "output_type": "display_data"
    }
   ],
   "source": [
    "# In a graphic\n",
    "metric_frame.by_group.plot.bar(\n",
    "    subplots=True,\n",
    "    layout=[3, 3],\n",
    "    legend=False,\n",
    "    figsize=[12, 8],\n",
    "    title=\"Show all metrics\",\n",
    ")"
   ]
  },
  {
   "cell_type": "markdown",
   "id": "b2e433ae",
   "metadata": {
    "papermill": {
     "duration": 0.01357,
     "end_time": "2025-08-19T18:53:48.425588",
     "exception": false,
     "start_time": "2025-08-19T18:53:48.412018",
     "status": "completed"
    },
    "tags": []
   },
   "source": [
    "# Final Output"
   ]
  },
  {
   "cell_type": "code",
   "execution_count": 62,
   "id": "3871301e",
   "metadata": {
    "execution": {
     "iopub.execute_input": "2025-08-19T18:53:48.457018Z",
     "iopub.status.busy": "2025-08-19T18:53:48.455198Z",
     "iopub.status.idle": "2025-08-19T18:53:48.474878Z",
     "shell.execute_reply": "2025-08-19T18:53:48.473802Z"
    },
    "papermill": {
     "duration": 0.037374,
     "end_time": "2025-08-19T18:53:48.476522",
     "exception": false,
     "start_time": "2025-08-19T18:53:48.439148",
     "status": "completed"
    },
    "tags": []
   },
   "outputs": [
    {
     "data": {
      "text/plain": [
       "4"
      ]
     },
     "execution_count": 62,
     "metadata": {},
     "output_type": "execute_result"
    }
   ],
   "source": [
    "sub_universes = universe_analysis.generate_sub_universes()\n",
    "len(sub_universes)"
   ]
  },
  {
   "cell_type": "code",
   "execution_count": 63,
   "id": "d9cfdaca",
   "metadata": {
    "execution": {
     "iopub.execute_input": "2025-08-19T18:53:48.525832Z",
     "iopub.status.busy": "2025-08-19T18:53:48.525123Z",
     "iopub.status.idle": "2025-08-19T18:53:48.537744Z",
     "shell.execute_reply": "2025-08-19T18:53:48.536616Z"
    },
    "papermill": {
     "duration": 0.040143,
     "end_time": "2025-08-19T18:53:48.539621",
     "exception": false,
     "start_time": "2025-08-19T18:53:48.499478",
     "status": "completed"
    },
    "tags": []
   },
   "outputs": [],
   "source": [
    "def filter_sub_universe_data(sub_universe, org_test):\n",
    "    # Keep all rows — no filtering\n",
    "    keep_rows_mask = np.ones(org_test.shape[0], dtype=bool)\n",
    "\n",
    "    print(f\"[INFO] Keeping all rows: {keep_rows_mask.sum()} rows retained.\")\n",
    "    return keep_rows_mask"
   ]
  },
  {
   "cell_type": "code",
   "execution_count": 64,
   "id": "2bc31ac1",
   "metadata": {
    "execution": {
     "iopub.execute_input": "2025-08-19T18:53:48.574826Z",
     "iopub.status.busy": "2025-08-19T18:53:48.574109Z",
     "iopub.status.idle": "2025-08-19T18:53:55.453755Z",
     "shell.execute_reply": "2025-08-19T18:53:55.452685Z"
    },
    "papermill": {
     "duration": 6.897254,
     "end_time": "2025-08-19T18:53:55.455018",
     "exception": false,
     "start_time": "2025-08-19T18:53:48.557764",
     "status": "completed"
    },
    "tags": []
   },
   "outputs": [
    {
     "name": "stdout",
     "output_type": "stream",
     "text": [
      "Stopping execution_time clock.\n",
      "[INFO] Keeping all rows: 89710 rows retained.\n"
     ]
    },
    {
     "name": "stdout",
     "output_type": "stream",
     "text": [
      "[INFO] Keeping all rows: 89710 rows retained.\n"
     ]
    },
    {
     "name": "stdout",
     "output_type": "stream",
     "text": [
      "[INFO] Keeping all rows: 89710 rows retained.\n"
     ]
    },
    {
     "name": "stdout",
     "output_type": "stream",
     "text": [
      "[INFO] Keeping all rows: 89710 rows retained.\n"
     ]
    },
    {
     "data": {
      "text/html": [
       "<div>\n",
       "<style scoped>\n",
       "    .dataframe tbody tr th:only-of-type {\n",
       "        vertical-align: middle;\n",
       "    }\n",
       "\n",
       "    .dataframe tbody tr th {\n",
       "        vertical-align: top;\n",
       "    }\n",
       "\n",
       "    .dataframe thead th {\n",
       "        text-align: right;\n",
       "    }\n",
       "</style>\n",
       "<table border=\"1\" class=\"dataframe\">\n",
       "  <thead>\n",
       "    <tr style=\"text-align: right;\">\n",
       "      <th></th>\n",
       "      <th>run_no</th>\n",
       "      <th>universe_id</th>\n",
       "      <th>universe_settings</th>\n",
       "      <th>execution_time</th>\n",
       "      <th>test_size_n</th>\n",
       "      <th>test_size_frac</th>\n",
       "      <th>fair_main_equalized_odds_difference</th>\n",
       "      <th>fair_main_equalized_odds_ratio</th>\n",
       "      <th>fair_main_demographic_parity_difference</th>\n",
       "      <th>fair_main_demographic_parity_ratio</th>\n",
       "      <th>...</th>\n",
       "      <th>perf_grp_precision_0</th>\n",
       "      <th>perf_grp_precision_1</th>\n",
       "      <th>perf_grp_false positive rate_0</th>\n",
       "      <th>perf_grp_false positive rate_1</th>\n",
       "      <th>perf_grp_false negative rate_0</th>\n",
       "      <th>perf_grp_false negative rate_1</th>\n",
       "      <th>perf_grp_selection rate_0</th>\n",
       "      <th>perf_grp_selection rate_1</th>\n",
       "      <th>perf_grp_count_0</th>\n",
       "      <th>perf_grp_count_1</th>\n",
       "    </tr>\n",
       "  </thead>\n",
       "  <tbody>\n",
       "    <tr>\n",
       "      <th>0</th>\n",
       "      <td>3</td>\n",
       "      <td>9f41d7b0dac0dd2a5a63d3d7e77bb5df</td>\n",
       "      <td>{\"cutoff\": \"quantile_0.1\", \"eval_fairness_grou...</td>\n",
       "      <td>20.548106</td>\n",
       "      <td>89710</td>\n",
       "      <td>1.0</td>\n",
       "      <td>0.089077</td>\n",
       "      <td>0.907226</td>\n",
       "      <td>0.080696</td>\n",
       "      <td>0.916135</td>\n",
       "      <td>...</td>\n",
       "      <td>NaN</td>\n",
       "      <td>NaN</td>\n",
       "      <td>NaN</td>\n",
       "      <td>NaN</td>\n",
       "      <td>NaN</td>\n",
       "      <td>NaN</td>\n",
       "      <td>NaN</td>\n",
       "      <td>NaN</td>\n",
       "      <td>NaN</td>\n",
       "      <td>NaN</td>\n",
       "    </tr>\n",
       "    <tr>\n",
       "      <th>0</th>\n",
       "      <td>3</td>\n",
       "      <td>9f41d7b0dac0dd2a5a63d3d7e77bb5df</td>\n",
       "      <td>{\"cutoff\": \"quantile_0.1\", \"eval_fairness_grou...</td>\n",
       "      <td>20.548106</td>\n",
       "      <td>89710</td>\n",
       "      <td>1.0</td>\n",
       "      <td>0.089077</td>\n",
       "      <td>0.907226</td>\n",
       "      <td>0.080696</td>\n",
       "      <td>0.916135</td>\n",
       "      <td>...</td>\n",
       "      <td>0.117183</td>\n",
       "      <td>0.142419</td>\n",
       "      <td>0.960158</td>\n",
       "      <td>0.871081</td>\n",
       "      <td>0.021959</td>\n",
       "      <td>0.049891</td>\n",
       "      <td>0.962220</td>\n",
       "      <td>0.881524</td>\n",
       "      <td>20540.0</td>\n",
       "      <td>69170.0</td>\n",
       "    </tr>\n",
       "    <tr>\n",
       "      <th>0</th>\n",
       "      <td>3</td>\n",
       "      <td>9f41d7b0dac0dd2a5a63d3d7e77bb5df</td>\n",
       "      <td>{\"cutoff\": \"quantile_0.25\", \"eval_fairness_gro...</td>\n",
       "      <td>20.548106</td>\n",
       "      <td>89710</td>\n",
       "      <td>1.0</td>\n",
       "      <td>0.207130</td>\n",
       "      <td>0.767628</td>\n",
       "      <td>0.189372</td>\n",
       "      <td>0.788649</td>\n",
       "      <td>...</td>\n",
       "      <td>NaN</td>\n",
       "      <td>NaN</td>\n",
       "      <td>NaN</td>\n",
       "      <td>NaN</td>\n",
       "      <td>NaN</td>\n",
       "      <td>NaN</td>\n",
       "      <td>NaN</td>\n",
       "      <td>NaN</td>\n",
       "      <td>NaN</td>\n",
       "      <td>NaN</td>\n",
       "    </tr>\n",
       "    <tr>\n",
       "      <th>0</th>\n",
       "      <td>3</td>\n",
       "      <td>9f41d7b0dac0dd2a5a63d3d7e77bb5df</td>\n",
       "      <td>{\"cutoff\": \"quantile_0.25\", \"eval_fairness_gro...</td>\n",
       "      <td>20.548106</td>\n",
       "      <td>89710</td>\n",
       "      <td>1.0</td>\n",
       "      <td>0.207130</td>\n",
       "      <td>0.767628</td>\n",
       "      <td>0.189372</td>\n",
       "      <td>0.788649</td>\n",
       "      <td>...</td>\n",
       "      <td>0.119865</td>\n",
       "      <td>0.159642</td>\n",
       "      <td>0.891371</td>\n",
       "      <td>0.684241</td>\n",
       "      <td>0.068412</td>\n",
       "      <td>0.146280</td>\n",
       "      <td>0.896008</td>\n",
       "      <td>0.706636</td>\n",
       "      <td>20540.0</td>\n",
       "      <td>69170.0</td>\n",
       "    </tr>\n",
       "  </tbody>\n",
       "</table>\n",
       "<p>4 rows × 50 columns</p>\n",
       "</div>"
      ],
      "text/plain": [
       "  run_no                       universe_id  \\\n",
       "0      3  9f41d7b0dac0dd2a5a63d3d7e77bb5df   \n",
       "0      3  9f41d7b0dac0dd2a5a63d3d7e77bb5df   \n",
       "0      3  9f41d7b0dac0dd2a5a63d3d7e77bb5df   \n",
       "0      3  9f41d7b0dac0dd2a5a63d3d7e77bb5df   \n",
       "\n",
       "                                   universe_settings  execution_time  \\\n",
       "0  {\"cutoff\": \"quantile_0.1\", \"eval_fairness_grou...       20.548106   \n",
       "0  {\"cutoff\": \"quantile_0.1\", \"eval_fairness_grou...       20.548106   \n",
       "0  {\"cutoff\": \"quantile_0.25\", \"eval_fairness_gro...       20.548106   \n",
       "0  {\"cutoff\": \"quantile_0.25\", \"eval_fairness_gro...       20.548106   \n",
       "\n",
       "   test_size_n  test_size_frac  fair_main_equalized_odds_difference  \\\n",
       "0        89710             1.0                             0.089077   \n",
       "0        89710             1.0                             0.089077   \n",
       "0        89710             1.0                             0.207130   \n",
       "0        89710             1.0                             0.207130   \n",
       "\n",
       "   fair_main_equalized_odds_ratio  fair_main_demographic_parity_difference  \\\n",
       "0                        0.907226                                 0.080696   \n",
       "0                        0.907226                                 0.080696   \n",
       "0                        0.767628                                 0.189372   \n",
       "0                        0.767628                                 0.189372   \n",
       "\n",
       "   fair_main_demographic_parity_ratio  ...  perf_grp_precision_0  \\\n",
       "0                            0.916135  ...                   NaN   \n",
       "0                            0.916135  ...              0.117183   \n",
       "0                            0.788649  ...                   NaN   \n",
       "0                            0.788649  ...              0.119865   \n",
       "\n",
       "   perf_grp_precision_1  perf_grp_false positive rate_0  \\\n",
       "0                   NaN                             NaN   \n",
       "0              0.142419                        0.960158   \n",
       "0                   NaN                             NaN   \n",
       "0              0.159642                        0.891371   \n",
       "\n",
       "   perf_grp_false positive rate_1  perf_grp_false negative rate_0  \\\n",
       "0                             NaN                             NaN   \n",
       "0                        0.871081                        0.021959   \n",
       "0                             NaN                             NaN   \n",
       "0                        0.684241                        0.068412   \n",
       "\n",
       "   perf_grp_false negative rate_1  perf_grp_selection rate_0  \\\n",
       "0                             NaN                        NaN   \n",
       "0                        0.049891                   0.962220   \n",
       "0                             NaN                        NaN   \n",
       "0                        0.146280                   0.896008   \n",
       "\n",
       "   perf_grp_selection rate_1  perf_grp_count_0  perf_grp_count_1  \n",
       "0                        NaN               NaN               NaN  \n",
       "0                   0.881524           20540.0           69170.0  \n",
       "0                        NaN               NaN               NaN  \n",
       "0                   0.706636           20540.0           69170.0  \n",
       "\n",
       "[4 rows x 50 columns]"
      ]
     },
     "execution_count": 64,
     "metadata": {},
     "output_type": "execute_result"
    }
   ],
   "source": [
    "final_output = universe_analysis.generate_final_output(\n",
    "    y_pred_prob=probs_test,\n",
    "    y_test=y_true,\n",
    "    org_test=org_test,\n",
    "    filter_data=filter_sub_universe_data,\n",
    "    cp_metrics_df=cp_metrics_df,\n",
    "    save=True,\n",
    ")\n",
    "final_output"
   ]
  },
  {
   "cell_type": "code",
   "execution_count": null,
   "id": "8b80a1ff",
   "metadata": {
    "papermill": {
     "duration": 0.017725,
     "end_time": "2025-08-19T18:53:55.492000",
     "exception": false,
     "start_time": "2025-08-19T18:53:55.474275",
     "status": "completed"
    },
    "tags": []
   },
   "outputs": [],
   "source": []
  },
  {
   "cell_type": "code",
   "execution_count": null,
   "id": "275c9fad",
   "metadata": {
    "papermill": {
     "duration": 0.014722,
     "end_time": "2025-08-19T18:53:55.543867",
     "exception": false,
     "start_time": "2025-08-19T18:53:55.529145",
     "status": "completed"
    },
    "tags": []
   },
   "outputs": [],
   "source": []
  }
 ],
 "metadata": {
  "celltoolbar": "Tags",
  "kernelspec": {
   "display_name": "Python (CMA Fairness)",
   "language": "python",
   "name": "cma_fair_env"
  },
  "language_info": {
   "codemirror_mode": {
    "name": "ipython",
    "version": 3
   },
   "file_extension": ".py",
   "mimetype": "text/x-python",
   "name": "python",
   "nbconvert_exporter": "python",
   "pygments_lexer": "ipython3",
   "version": "3.10.12"
  },
  "papermill": {
   "default_parameters": {},
   "duration": 31.067004,
   "end_time": "2025-08-19T18:53:56.383828",
   "environment_variables": {},
   "exception": null,
   "input_path": "universe_analysis.ipynb",
   "output_path": "output/runs/3/notebooks/m_3-9f41d7b0dac0dd2a5a63d3d7e77bb5df.ipynb",
   "parameters": {
    "output_dir": "output",
    "run_no": "3",
    "seed": "2023",
    "universe": "{\"cutoff\": [\"quantile_0.1\", \"quantile_0.25\"], \"eval_fairness_grouping\": [\"majority-minority\", \"nationality-all\"], \"exclude_features\": \"none\", \"exclude_subgroups\": \"drop-non-german\", \"model\": \"penalized_logreg\", \"scale\": \"do-not-scale\", \"training_size\": \"1k\", \"training_year\": \"2014\"}",
    "universe_id": "9f41d7b0dac0dd2a5a63d3d7e77bb5df"
   },
   "start_time": "2025-08-19T18:53:25.316824",
   "version": "2.6.0"
  }
 },
 "nbformat": 4,
 "nbformat_minor": 5
}