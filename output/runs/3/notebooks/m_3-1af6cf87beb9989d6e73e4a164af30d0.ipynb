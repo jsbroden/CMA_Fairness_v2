{
 "cells": [
  {
   "cell_type": "markdown",
   "id": "ef23dbb3",
   "metadata": {
    "papermill": {
     "duration": 0.011959,
     "end_time": "2025-08-19T18:51:49.844010",
     "exception": false,
     "start_time": "2025-08-19T18:51:49.832051",
     "status": "completed"
    },
    "tags": []
   },
   "source": [
    "# Setup"
   ]
  },
  {
   "cell_type": "code",
   "execution_count": 1,
   "id": "0bc8e7dc",
   "metadata": {
    "execution": {
     "iopub.execute_input": "2025-08-19T18:51:49.867034Z",
     "iopub.status.busy": "2025-08-19T18:51:49.865159Z",
     "iopub.status.idle": "2025-08-19T18:51:49.887264Z",
     "shell.execute_reply": "2025-08-19T18:51:49.885874Z"
    },
    "papermill": {
     "duration": 0.036297,
     "end_time": "2025-08-19T18:51:49.890357",
     "exception": false,
     "start_time": "2025-08-19T18:51:49.854060",
     "status": "completed"
    },
    "tags": []
   },
   "outputs": [
    {
     "name": "stdout",
     "output_type": "stream",
     "text": [
      "/dss/dsshome1/0C/ra93lal2/cma/CMA_Fairness_v2\n"
     ]
    },
    {
     "name": "stderr",
     "output_type": "stream",
     "text": [
      "/dss/dsshome1/0C/ra93lal2/.local/share/virtualenvs/CMA_Fairness_v2-3j10GkSs/lib/python3.10/site-packages/IPython/core/magics/osm.py:393: UserWarning: This is now an optional IPython functionality, using bookmarks requires you to install the `pickleshare` library.\n",
      "  bkms = self.shell.db.get('bookmarks', {})\n",
      "/dss/dsshome1/0C/ra93lal2/.local/share/virtualenvs/CMA_Fairness_v2-3j10GkSs/lib/python3.10/site-packages/IPython/core/magics/osm.py:417: UserWarning: This is now an optional IPython functionality, setting dhist requires you to install the `pickleshare` library.\n",
      "  self.shell.db['dhist'] = compress_dhist(dhist)[-100:]\n"
     ]
    }
   ],
   "source": [
    "%cd ~/cma/CMA_Fairness_v2"
   ]
  },
  {
   "cell_type": "markdown",
   "id": "9d235661",
   "metadata": {
    "papermill": {
     "duration": 0.018173,
     "end_time": "2025-08-19T18:51:49.926589",
     "exception": false,
     "start_time": "2025-08-19T18:51:49.908416",
     "status": "completed"
    },
    "tags": []
   },
   "source": [
    "The following cell holds the definition of our parameters, these values can be overriden by rendering the with e.g. the following command:\n",
    "\n",
    "papermill -p alpha 0.2 -p ratio 0.3 universe_analysis.ipynb output/test_run.ipynb"
   ]
  },
  {
   "cell_type": "code",
   "execution_count": 2,
   "id": "4a789d8e",
   "metadata": {
    "execution": {
     "iopub.execute_input": "2025-08-19T18:51:49.948294Z",
     "iopub.status.busy": "2025-08-19T18:51:49.947720Z",
     "iopub.status.idle": "2025-08-19T18:51:49.954702Z",
     "shell.execute_reply": "2025-08-19T18:51:49.953165Z"
    },
    "papermill": {
     "duration": 0.019849,
     "end_time": "2025-08-19T18:51:49.956146",
     "exception": false,
     "start_time": "2025-08-19T18:51:49.936297",
     "status": "completed"
    },
    "tags": []
   },
   "outputs": [
    {
     "name": "stdout",
     "output_type": "stream",
     "text": [
      "Current working directory: /dss/dsshome1/0C/ra93lal2/cma/CMA_Fairness_v2\n"
     ]
    }
   ],
   "source": [
    "import os\n",
    "print(\"Current working directory:\", os.getcwd())"
   ]
  },
  {
   "cell_type": "code",
   "execution_count": 3,
   "id": "4132aaed",
   "metadata": {
    "execution": {
     "iopub.execute_input": "2025-08-19T18:51:49.995039Z",
     "iopub.status.busy": "2025-08-19T18:51:49.994096Z",
     "iopub.status.idle": "2025-08-19T18:51:50.001611Z",
     "shell.execute_reply": "2025-08-19T18:51:50.000601Z"
    },
    "papermill": {
     "duration": 0.032789,
     "end_time": "2025-08-19T18:51:50.003065",
     "exception": false,
     "start_time": "2025-08-19T18:51:49.970276",
     "status": "completed"
    },
    "tags": [
     "parameters"
    ]
   },
   "outputs": [],
   "source": [
    "run_no = 0\n",
    "universe_id = \"test\"\n",
    "universe = {\n",
    "    \"training_size\": \"5k\", # \"25k\", \"5k\", \"1k\"\n",
    "    \"training_year\": \"2012_14\", # \"2014\", \"2012_14\", \"2010_14\"\n",
    "    \"scale\": \"scale\", # \"scale\", \"do-not-scale\",\n",
    "    \"model\": \"elasticnet\", # \"logreg\", \"penalized_logreg\", \"rf\", \"gbm\", \"elasticnet\"\n",
    "    \"cutoff\": [\"quantile_0.15\", \"quantile_0.30\"],\n",
    "    \"exclude_features\": \"age\", # \"none\", \"nationality\", \"sex\", \"nationality-sex\", \"age\"\n",
    "    \"exclude_subgroups\": \"drop-non-german\", # \"keep-all\", \"drop-non-german\"\n",
    "    \"eval_fairness_grouping\": [\"majority-minority\", \"nationality-all\"]\n",
    "}\n",
    "\n",
    "output_dir=\"./output\"\n",
    "seed=0"
   ]
  },
  {
   "cell_type": "code",
   "execution_count": 4,
   "id": "57f46c1e",
   "metadata": {
    "execution": {
     "iopub.execute_input": "2025-08-19T18:51:50.022595Z",
     "iopub.status.busy": "2025-08-19T18:51:50.022346Z",
     "iopub.status.idle": "2025-08-19T18:51:50.038925Z",
     "shell.execute_reply": "2025-08-19T18:51:50.037625Z"
    },
    "papermill": {
     "duration": 0.030055,
     "end_time": "2025-08-19T18:51:50.042366",
     "exception": false,
     "start_time": "2025-08-19T18:51:50.012311",
     "status": "completed"
    },
    "tags": [
     "injected-parameters"
    ]
   },
   "outputs": [],
   "source": [
    "# Parameters\n",
    "universe_id = \"1af6cf87beb9989d6e73e4a164af30d0\"\n",
    "run_no = \"3\"\n",
    "universe = \"{\\\"cutoff\\\": [\\\"quantile_0.1\\\", \\\"quantile_0.25\\\"], \\\"eval_fairness_grouping\\\": [\\\"majority-minority\\\", \\\"nationality-all\\\"], \\\"exclude_features\\\": \\\"none\\\", \\\"exclude_subgroups\\\": \\\"keep-all\\\", \\\"model\\\": \\\"elasticnet\\\", \\\"scale\\\": \\\"scale\\\", \\\"training_size\\\": \\\"1k\\\", \\\"training_year\\\": \\\"2014\\\"}\"\n",
    "output_dir = \"output\"\n",
    "seed = \"2023\"\n"
   ]
  },
  {
   "cell_type": "code",
   "execution_count": 5,
   "id": "a5d7941f",
   "metadata": {
    "execution": {
     "iopub.execute_input": "2025-08-19T18:51:50.065007Z",
     "iopub.status.busy": "2025-08-19T18:51:50.064032Z",
     "iopub.status.idle": "2025-08-19T18:51:50.071863Z",
     "shell.execute_reply": "2025-08-19T18:51:50.070419Z"
    },
    "papermill": {
     "duration": 0.02282,
     "end_time": "2025-08-19T18:51:50.075920",
     "exception": false,
     "start_time": "2025-08-19T18:51:50.053100",
     "status": "completed"
    },
    "tags": []
   },
   "outputs": [],
   "source": [
    "import json\n",
    "if isinstance(universe, str):\n",
    "    universe = json.loads(universe)"
   ]
  },
  {
   "cell_type": "code",
   "execution_count": 6,
   "id": "7076ccb1",
   "metadata": {
    "execution": {
     "iopub.execute_input": "2025-08-19T18:51:50.102570Z",
     "iopub.status.busy": "2025-08-19T18:51:50.101154Z",
     "iopub.status.idle": "2025-08-19T18:51:50.161644Z",
     "shell.execute_reply": "2025-08-19T18:51:50.160433Z"
    },
    "papermill": {
     "duration": 0.075584,
     "end_time": "2025-08-19T18:51:50.163958",
     "exception": false,
     "start_time": "2025-08-19T18:51:50.088374",
     "status": "completed"
    },
    "tags": []
   },
   "outputs": [],
   "source": [
    "# Auto-reload the custom package\n",
    "%load_ext autoreload\n",
    "%autoreload 1\n",
    "%aimport fairness_multiverse"
   ]
  },
  {
   "cell_type": "code",
   "execution_count": 7,
   "id": "94c8eb93",
   "metadata": {
    "execution": {
     "iopub.execute_input": "2025-08-19T18:51:50.187223Z",
     "iopub.status.busy": "2025-08-19T18:51:50.186923Z",
     "iopub.status.idle": "2025-08-19T18:51:51.795476Z",
     "shell.execute_reply": "2025-08-19T18:51:51.794528Z"
    },
    "papermill": {
     "duration": 1.621976,
     "end_time": "2025-08-19T18:51:51.797111",
     "exception": false,
     "start_time": "2025-08-19T18:51:50.175135",
     "status": "completed"
    },
    "tags": []
   },
   "outputs": [],
   "source": [
    "from fairness_multiverse.universe import UniverseAnalysis\n",
    "\n",
    "universe_analysis = UniverseAnalysis(\n",
    "    run_no = run_no,\n",
    "    universe_id = universe_id,\n",
    "    universe = universe,\n",
    "    output_dir=output_dir,\n",
    ")"
   ]
  },
  {
   "cell_type": "code",
   "execution_count": 8,
   "id": "2a6381cf",
   "metadata": {
    "execution": {
     "iopub.execute_input": "2025-08-19T18:51:51.822142Z",
     "iopub.status.busy": "2025-08-19T18:51:51.820878Z",
     "iopub.status.idle": "2025-08-19T18:51:51.830456Z",
     "shell.execute_reply": "2025-08-19T18:51:51.829213Z"
    },
    "papermill": {
     "duration": 0.022197,
     "end_time": "2025-08-19T18:51:51.832166",
     "exception": false,
     "start_time": "2025-08-19T18:51:51.809969",
     "status": "completed"
    },
    "tags": []
   },
   "outputs": [
    {
     "name": "stdout",
     "output_type": "stream",
     "text": [
      "Using Seed: 2023\n"
     ]
    }
   ],
   "source": [
    "import numpy as np\n",
    "parsed_seed = int(seed)\n",
    "np.random.seed(parsed_seed)\n",
    "print(f\"Using Seed: {parsed_seed}\")"
   ]
  },
  {
   "cell_type": "markdown",
   "id": "b6e958b4",
   "metadata": {
    "papermill": {
     "duration": 0.009447,
     "end_time": "2025-08-19T18:51:51.853153",
     "exception": false,
     "start_time": "2025-08-19T18:51:51.843706",
     "status": "completed"
    },
    "tags": []
   },
   "source": [
    "# Loading Data"
   ]
  },
  {
   "cell_type": "code",
   "execution_count": 9,
   "id": "98701482",
   "metadata": {
    "execution": {
     "iopub.execute_input": "2025-08-19T18:51:51.872878Z",
     "iopub.status.busy": "2025-08-19T18:51:51.872452Z",
     "iopub.status.idle": "2025-08-19T18:52:02.153467Z",
     "shell.execute_reply": "2025-08-19T18:52:02.152539Z"
    },
    "papermill": {
     "duration": 10.292516,
     "end_time": "2025-08-19T18:52:02.154791",
     "exception": false,
     "start_time": "2025-08-19T18:51:51.862275",
     "status": "completed"
    },
    "tags": []
   },
   "outputs": [
    {
     "name": "stdout",
     "output_type": "stream",
     "text": [
      "Loading SIAB data from cache: data/siab_cached.csv.gz\n"
     ]
    },
    {
     "name": "stdout",
     "output_type": "stream",
     "text": [
      "(643690, 164)\n"
     ]
    }
   ],
   "source": [
    "from pathlib import Path\n",
    "import pandas as pd\n",
    "\n",
    "# File paths\n",
    "raw_file = Path(\"data/raw/siab.csv\")\n",
    "cache_file = Path(\"data/siab_cached.csv.gz\")\n",
    "\n",
    "# Ensure cache directory exists\n",
    "cache_file.parent.mkdir(parents=True, exist_ok=True)\n",
    "\n",
    "# Load with simple caching\n",
    "if cache_file.exists():\n",
    "    print(f\"Loading SIAB data from cache: {cache_file}\")\n",
    "    siab = pd.read_csv(cache_file, compression='gzip')\n",
    "else:\n",
    "    print(f\"Cache not found. Reading raw SIAB data: {raw_file}\")\n",
    "    siab = pd.read_csv(raw_file)\n",
    "    siab.to_csv(cache_file, index=False, compression='gzip')\n",
    "    print(f\"Cached SIAB data to: {cache_file}\")\n",
    "\n",
    "print(siab.shape)"
   ]
  },
  {
   "cell_type": "code",
   "execution_count": 10,
   "id": "058d2abb",
   "metadata": {
    "execution": {
     "iopub.execute_input": "2025-08-19T18:52:02.179366Z",
     "iopub.status.busy": "2025-08-19T18:52:02.178523Z",
     "iopub.status.idle": "2025-08-19T18:52:02.346224Z",
     "shell.execute_reply": "2025-08-19T18:52:02.345496Z"
    },
    "papermill": {
     "duration": 0.180008,
     "end_time": "2025-08-19T18:52:02.347453",
     "exception": false,
     "start_time": "2025-08-19T18:52:02.167445",
     "status": "completed"
    },
    "tags": []
   },
   "outputs": [
    {
     "data": {
      "text/html": [
       "<div>\n",
       "<style scoped>\n",
       "    .dataframe tbody tr th:only-of-type {\n",
       "        vertical-align: middle;\n",
       "    }\n",
       "\n",
       "    .dataframe tbody tr th {\n",
       "        vertical-align: top;\n",
       "    }\n",
       "\n",
       "    .dataframe thead th {\n",
       "        text-align: right;\n",
       "    }\n",
       "</style>\n",
       "<table border=\"1\" class=\"dataframe\">\n",
       "  <thead>\n",
       "    <tr style=\"text-align: right;\">\n",
       "      <th></th>\n",
       "      <th>persnr</th>\n",
       "      <th>year</th>\n",
       "      <th>nrEntry</th>\n",
       "      <th>ltue</th>\n",
       "      <th>employed_before</th>\n",
       "      <th>receipt_leh_before</th>\n",
       "      <th>receipt_lhg_before</th>\n",
       "      <th>se_before</th>\n",
       "      <th>ASU_notue_seeking_before</th>\n",
       "      <th>ASU_other_before</th>\n",
       "      <th>...</th>\n",
       "      <th>minijob_tot_dur_byage</th>\n",
       "      <th>ft_tot_dur_byage</th>\n",
       "      <th>befrist_tot_dur_byage</th>\n",
       "      <th>leih_tot_dur_byage</th>\n",
       "      <th>LHG_tot_dur_byage</th>\n",
       "      <th>LEH_tot_dur_byage</th>\n",
       "      <th>almp_tot_dur_byage</th>\n",
       "      <th>almp_aw_tot_dur_byage</th>\n",
       "      <th>se_tot_dur_byage</th>\n",
       "      <th>seeking1_tot_dur_byage</th>\n",
       "    </tr>\n",
       "  </thead>\n",
       "  <tbody>\n",
       "    <tr>\n",
       "      <th>0</th>\n",
       "      <td>7</td>\n",
       "      <td>2015</td>\n",
       "      <td>1</td>\n",
       "      <td>0</td>\n",
       "      <td>1</td>\n",
       "      <td>0</td>\n",
       "      <td>0</td>\n",
       "      <td>0</td>\n",
       "      <td>1</td>\n",
       "      <td>0</td>\n",
       "      <td>...</td>\n",
       "      <td>0.000000</td>\n",
       "      <td>0.000000</td>\n",
       "      <td>15.043478</td>\n",
       "      <td>0.000000</td>\n",
       "      <td>0.000000</td>\n",
       "      <td>0.000000</td>\n",
       "      <td>0.000000</td>\n",
       "      <td>0.000000</td>\n",
       "      <td>0.000000</td>\n",
       "      <td>0.000000</td>\n",
       "    </tr>\n",
       "    <tr>\n",
       "      <th>1</th>\n",
       "      <td>18</td>\n",
       "      <td>2010</td>\n",
       "      <td>1</td>\n",
       "      <td>1</td>\n",
       "      <td>0</td>\n",
       "      <td>0</td>\n",
       "      <td>0</td>\n",
       "      <td>0</td>\n",
       "      <td>0</td>\n",
       "      <td>0</td>\n",
       "      <td>...</td>\n",
       "      <td>0.000000</td>\n",
       "      <td>0.000000</td>\n",
       "      <td>0.000000</td>\n",
       "      <td>0.000000</td>\n",
       "      <td>0.000000</td>\n",
       "      <td>0.000000</td>\n",
       "      <td>0.000000</td>\n",
       "      <td>0.000000</td>\n",
       "      <td>0.000000</td>\n",
       "      <td>0.000000</td>\n",
       "    </tr>\n",
       "    <tr>\n",
       "      <th>2</th>\n",
       "      <td>18</td>\n",
       "      <td>2011</td>\n",
       "      <td>2</td>\n",
       "      <td>0</td>\n",
       "      <td>1</td>\n",
       "      <td>0</td>\n",
       "      <td>1</td>\n",
       "      <td>0</td>\n",
       "      <td>1</td>\n",
       "      <td>0</td>\n",
       "      <td>...</td>\n",
       "      <td>2.714286</td>\n",
       "      <td>2.714286</td>\n",
       "      <td>0.000000</td>\n",
       "      <td>0.000000</td>\n",
       "      <td>10.775510</td>\n",
       "      <td>0.000000</td>\n",
       "      <td>8.367347</td>\n",
       "      <td>0.000000</td>\n",
       "      <td>0.000000</td>\n",
       "      <td>9.836735</td>\n",
       "    </tr>\n",
       "    <tr>\n",
       "      <th>3</th>\n",
       "      <td>18</td>\n",
       "      <td>2012</td>\n",
       "      <td>3</td>\n",
       "      <td>0</td>\n",
       "      <td>1</td>\n",
       "      <td>0</td>\n",
       "      <td>1</td>\n",
       "      <td>0</td>\n",
       "      <td>1</td>\n",
       "      <td>0</td>\n",
       "      <td>...</td>\n",
       "      <td>4.200000</td>\n",
       "      <td>4.200000</td>\n",
       "      <td>0.000000</td>\n",
       "      <td>0.000000</td>\n",
       "      <td>12.100000</td>\n",
       "      <td>0.000000</td>\n",
       "      <td>9.400000</td>\n",
       "      <td>0.000000</td>\n",
       "      <td>0.000000</td>\n",
       "      <td>9.960000</td>\n",
       "    </tr>\n",
       "    <tr>\n",
       "      <th>4</th>\n",
       "      <td>18</td>\n",
       "      <td>2012</td>\n",
       "      <td>4</td>\n",
       "      <td>0</td>\n",
       "      <td>1</td>\n",
       "      <td>0</td>\n",
       "      <td>1</td>\n",
       "      <td>0</td>\n",
       "      <td>1</td>\n",
       "      <td>0</td>\n",
       "      <td>...</td>\n",
       "      <td>5.460000</td>\n",
       "      <td>5.460000</td>\n",
       "      <td>0.000000</td>\n",
       "      <td>0.000000</td>\n",
       "      <td>13.360000</td>\n",
       "      <td>0.000000</td>\n",
       "      <td>10.320000</td>\n",
       "      <td>0.000000</td>\n",
       "      <td>0.000000</td>\n",
       "      <td>10.280000</td>\n",
       "    </tr>\n",
       "    <tr>\n",
       "      <th>...</th>\n",
       "      <td>...</td>\n",
       "      <td>...</td>\n",
       "      <td>...</td>\n",
       "      <td>...</td>\n",
       "      <td>...</td>\n",
       "      <td>...</td>\n",
       "      <td>...</td>\n",
       "      <td>...</td>\n",
       "      <td>...</td>\n",
       "      <td>...</td>\n",
       "      <td>...</td>\n",
       "      <td>...</td>\n",
       "      <td>...</td>\n",
       "      <td>...</td>\n",
       "      <td>...</td>\n",
       "      <td>...</td>\n",
       "      <td>...</td>\n",
       "      <td>...</td>\n",
       "      <td>...</td>\n",
       "      <td>...</td>\n",
       "      <td>...</td>\n",
       "    </tr>\n",
       "    <tr>\n",
       "      <th>643685</th>\n",
       "      <td>1827860</td>\n",
       "      <td>2013</td>\n",
       "      <td>1</td>\n",
       "      <td>0</td>\n",
       "      <td>0</td>\n",
       "      <td>0</td>\n",
       "      <td>1</td>\n",
       "      <td>0</td>\n",
       "      <td>0</td>\n",
       "      <td>1</td>\n",
       "      <td>...</td>\n",
       "      <td>0.000000</td>\n",
       "      <td>0.000000</td>\n",
       "      <td>0.000000</td>\n",
       "      <td>0.000000</td>\n",
       "      <td>0.612903</td>\n",
       "      <td>0.000000</td>\n",
       "      <td>0.000000</td>\n",
       "      <td>0.000000</td>\n",
       "      <td>0.000000</td>\n",
       "      <td>0.000000</td>\n",
       "    </tr>\n",
       "    <tr>\n",
       "      <th>643686</th>\n",
       "      <td>1827860</td>\n",
       "      <td>2015</td>\n",
       "      <td>2</td>\n",
       "      <td>1</td>\n",
       "      <td>0</td>\n",
       "      <td>0</td>\n",
       "      <td>1</td>\n",
       "      <td>0</td>\n",
       "      <td>1</td>\n",
       "      <td>0</td>\n",
       "      <td>...</td>\n",
       "      <td>0.000000</td>\n",
       "      <td>0.000000</td>\n",
       "      <td>0.212121</td>\n",
       "      <td>0.212121</td>\n",
       "      <td>17.363636</td>\n",
       "      <td>0.000000</td>\n",
       "      <td>8.909091</td>\n",
       "      <td>0.000000</td>\n",
       "      <td>0.000000</td>\n",
       "      <td>7.121212</td>\n",
       "    </tr>\n",
       "    <tr>\n",
       "      <th>643687</th>\n",
       "      <td>1827860</td>\n",
       "      <td>2016</td>\n",
       "      <td>3</td>\n",
       "      <td>1</td>\n",
       "      <td>0</td>\n",
       "      <td>0</td>\n",
       "      <td>1</td>\n",
       "      <td>1</td>\n",
       "      <td>0</td>\n",
       "      <td>1</td>\n",
       "      <td>...</td>\n",
       "      <td>0.000000</td>\n",
       "      <td>0.000000</td>\n",
       "      <td>0.294118</td>\n",
       "      <td>0.205882</td>\n",
       "      <td>34.705882</td>\n",
       "      <td>0.000000</td>\n",
       "      <td>10.352941</td>\n",
       "      <td>1.705882</td>\n",
       "      <td>1.705882</td>\n",
       "      <td>23.911765</td>\n",
       "    </tr>\n",
       "    <tr>\n",
       "      <th>643688</th>\n",
       "      <td>1827869</td>\n",
       "      <td>2013</td>\n",
       "      <td>1</td>\n",
       "      <td>1</td>\n",
       "      <td>1</td>\n",
       "      <td>0</td>\n",
       "      <td>0</td>\n",
       "      <td>0</td>\n",
       "      <td>1</td>\n",
       "      <td>0</td>\n",
       "      <td>...</td>\n",
       "      <td>0.000000</td>\n",
       "      <td>0.000000</td>\n",
       "      <td>0.000000</td>\n",
       "      <td>0.000000</td>\n",
       "      <td>0.000000</td>\n",
       "      <td>0.525424</td>\n",
       "      <td>0.000000</td>\n",
       "      <td>0.000000</td>\n",
       "      <td>0.000000</td>\n",
       "      <td>0.000000</td>\n",
       "    </tr>\n",
       "    <tr>\n",
       "      <th>643689</th>\n",
       "      <td>1827869</td>\n",
       "      <td>2014</td>\n",
       "      <td>2</td>\n",
       "      <td>0</td>\n",
       "      <td>0</td>\n",
       "      <td>1</td>\n",
       "      <td>0</td>\n",
       "      <td>0</td>\n",
       "      <td>1</td>\n",
       "      <td>0</td>\n",
       "      <td>...</td>\n",
       "      <td>0.000000</td>\n",
       "      <td>0.666667</td>\n",
       "      <td>0.666667</td>\n",
       "      <td>0.000000</td>\n",
       "      <td>0.000000</td>\n",
       "      <td>8.950000</td>\n",
       "      <td>1.033333</td>\n",
       "      <td>0.083333</td>\n",
       "      <td>0.083333</td>\n",
       "      <td>8.133333</td>\n",
       "    </tr>\n",
       "  </tbody>\n",
       "</table>\n",
       "<p>643690 rows × 164 columns</p>\n",
       "</div>"
      ],
      "text/plain": [
       "         persnr  year  nrEntry  ltue  employed_before  receipt_leh_before  \\\n",
       "0             7  2015        1     0                1                   0   \n",
       "1            18  2010        1     1                0                   0   \n",
       "2            18  2011        2     0                1                   0   \n",
       "3            18  2012        3     0                1                   0   \n",
       "4            18  2012        4     0                1                   0   \n",
       "...         ...   ...      ...   ...              ...                 ...   \n",
       "643685  1827860  2013        1     0                0                   0   \n",
       "643686  1827860  2015        2     1                0                   0   \n",
       "643687  1827860  2016        3     1                0                   0   \n",
       "643688  1827869  2013        1     1                1                   0   \n",
       "643689  1827869  2014        2     0                0                   1   \n",
       "\n",
       "        receipt_lhg_before  se_before  ASU_notue_seeking_before  \\\n",
       "0                        0          0                         1   \n",
       "1                        0          0                         0   \n",
       "2                        1          0                         1   \n",
       "3                        1          0                         1   \n",
       "4                        1          0                         1   \n",
       "...                    ...        ...                       ...   \n",
       "643685                   1          0                         0   \n",
       "643686                   1          0                         1   \n",
       "643687                   1          1                         0   \n",
       "643688                   0          0                         1   \n",
       "643689                   0          0                         1   \n",
       "\n",
       "        ASU_other_before  ...  minijob_tot_dur_byage  ft_tot_dur_byage  \\\n",
       "0                      0  ...               0.000000          0.000000   \n",
       "1                      0  ...               0.000000          0.000000   \n",
       "2                      0  ...               2.714286          2.714286   \n",
       "3                      0  ...               4.200000          4.200000   \n",
       "4                      0  ...               5.460000          5.460000   \n",
       "...                  ...  ...                    ...               ...   \n",
       "643685                 1  ...               0.000000          0.000000   \n",
       "643686                 0  ...               0.000000          0.000000   \n",
       "643687                 1  ...               0.000000          0.000000   \n",
       "643688                 0  ...               0.000000          0.000000   \n",
       "643689                 0  ...               0.000000          0.666667   \n",
       "\n",
       "        befrist_tot_dur_byage  leih_tot_dur_byage  LHG_tot_dur_byage  \\\n",
       "0                   15.043478            0.000000           0.000000   \n",
       "1                    0.000000            0.000000           0.000000   \n",
       "2                    0.000000            0.000000          10.775510   \n",
       "3                    0.000000            0.000000          12.100000   \n",
       "4                    0.000000            0.000000          13.360000   \n",
       "...                       ...                 ...                ...   \n",
       "643685               0.000000            0.000000           0.612903   \n",
       "643686               0.212121            0.212121          17.363636   \n",
       "643687               0.294118            0.205882          34.705882   \n",
       "643688               0.000000            0.000000           0.000000   \n",
       "643689               0.666667            0.000000           0.000000   \n",
       "\n",
       "        LEH_tot_dur_byage  almp_tot_dur_byage  almp_aw_tot_dur_byage  \\\n",
       "0                0.000000            0.000000               0.000000   \n",
       "1                0.000000            0.000000               0.000000   \n",
       "2                0.000000            8.367347               0.000000   \n",
       "3                0.000000            9.400000               0.000000   \n",
       "4                0.000000           10.320000               0.000000   \n",
       "...                   ...                 ...                    ...   \n",
       "643685           0.000000            0.000000               0.000000   \n",
       "643686           0.000000            8.909091               0.000000   \n",
       "643687           0.000000           10.352941               1.705882   \n",
       "643688           0.525424            0.000000               0.000000   \n",
       "643689           8.950000            1.033333               0.083333   \n",
       "\n",
       "        se_tot_dur_byage  seeking1_tot_dur_byage  \n",
       "0               0.000000                0.000000  \n",
       "1               0.000000                0.000000  \n",
       "2               0.000000                9.836735  \n",
       "3               0.000000                9.960000  \n",
       "4               0.000000               10.280000  \n",
       "...                  ...                     ...  \n",
       "643685          0.000000                0.000000  \n",
       "643686          0.000000                7.121212  \n",
       "643687          1.705882               23.911765  \n",
       "643688          0.000000                0.000000  \n",
       "643689          0.083333                8.133333  \n",
       "\n",
       "[643690 rows x 164 columns]"
      ]
     },
     "execution_count": 10,
     "metadata": {},
     "output_type": "execute_result"
    }
   ],
   "source": [
    "siab"
   ]
  },
  {
   "cell_type": "markdown",
   "id": "1f87e805",
   "metadata": {
    "papermill": {
     "duration": 0.009733,
     "end_time": "2025-08-19T18:52:02.367771",
     "exception": false,
     "start_time": "2025-08-19T18:52:02.358038",
     "status": "completed"
    },
    "tags": []
   },
   "source": [
    "# Splitting Data and Setting Training Data Size"
   ]
  },
  {
   "cell_type": "code",
   "execution_count": 11,
   "id": "910ae358",
   "metadata": {
    "execution": {
     "iopub.execute_input": "2025-08-19T18:52:02.393535Z",
     "iopub.status.busy": "2025-08-19T18:52:02.393073Z",
     "iopub.status.idle": "2025-08-19T18:52:02.589061Z",
     "shell.execute_reply": "2025-08-19T18:52:02.588235Z"
    },
    "papermill": {
     "duration": 0.21169,
     "end_time": "2025-08-19T18:52:02.590597",
     "exception": false,
     "start_time": "2025-08-19T18:52:02.378907",
     "status": "completed"
    },
    "tags": []
   },
   "outputs": [],
   "source": [
    "from fairness_multiverse.universe import sample_by_year_size\n",
    "\n",
    "siab_train = sample_by_year_size(siab,\n",
    "                               training_year=universe[\"training_year\"],\n",
    "                               training_size=universe[\"training_size\"])"
   ]
  },
  {
   "cell_type": "code",
   "execution_count": 12,
   "id": "919c8ff5",
   "metadata": {
    "execution": {
     "iopub.execute_input": "2025-08-19T18:52:02.613195Z",
     "iopub.status.busy": "2025-08-19T18:52:02.612756Z",
     "iopub.status.idle": "2025-08-19T18:52:02.620130Z",
     "shell.execute_reply": "2025-08-19T18:52:02.619026Z"
    },
    "papermill": {
     "duration": 0.020588,
     "end_time": "2025-08-19T18:52:02.621805",
     "exception": false,
     "start_time": "2025-08-19T18:52:02.601217",
     "status": "completed"
    },
    "tags": []
   },
   "outputs": [
    {
     "data": {
      "text/plain": [
       "(1000, 164)"
      ]
     },
     "execution_count": 12,
     "metadata": {},
     "output_type": "execute_result"
    }
   ],
   "source": [
    "siab_train.shape"
   ]
  },
  {
   "cell_type": "code",
   "execution_count": 13,
   "id": "feb13bf4",
   "metadata": {
    "execution": {
     "iopub.execute_input": "2025-08-19T18:52:02.644142Z",
     "iopub.status.busy": "2025-08-19T18:52:02.643825Z",
     "iopub.status.idle": "2025-08-19T18:52:02.651403Z",
     "shell.execute_reply": "2025-08-19T18:52:02.650606Z"
    },
    "papermill": {
     "duration": 0.019847,
     "end_time": "2025-08-19T18:52:02.652598",
     "exception": false,
     "start_time": "2025-08-19T18:52:02.632751",
     "status": "completed"
    },
    "tags": []
   },
   "outputs": [
    {
     "data": {
      "text/plain": [
       "year\n",
       "2014    1000\n",
       "dtype: int64"
      ]
     },
     "metadata": {},
     "output_type": "display_data"
    }
   ],
   "source": [
    "display(siab_train.groupby(\"year\").size())"
   ]
  },
  {
   "cell_type": "code",
   "execution_count": 14,
   "id": "0997782f",
   "metadata": {
    "execution": {
     "iopub.execute_input": "2025-08-19T18:52:02.675021Z",
     "iopub.status.busy": "2025-08-19T18:52:02.674721Z",
     "iopub.status.idle": "2025-08-19T18:52:02.903064Z",
     "shell.execute_reply": "2025-08-19T18:52:02.902025Z"
    },
    "papermill": {
     "duration": 0.241181,
     "end_time": "2025-08-19T18:52:02.904617",
     "exception": false,
     "start_time": "2025-08-19T18:52:02.663436",
     "status": "completed"
    },
    "tags": []
   },
   "outputs": [],
   "source": [
    "#siab_train = siab_s[siab_s.year < 2015]\n",
    "siab_calib = siab[siab.year == 2015]\n",
    "siab_test = siab[siab.year == 2016]"
   ]
  },
  {
   "cell_type": "code",
   "execution_count": 15,
   "id": "2c1e4012",
   "metadata": {
    "execution": {
     "iopub.execute_input": "2025-08-19T18:52:02.933322Z",
     "iopub.status.busy": "2025-08-19T18:52:02.932163Z",
     "iopub.status.idle": "2025-08-19T18:52:02.940969Z",
     "shell.execute_reply": "2025-08-19T18:52:02.940013Z"
    },
    "papermill": {
     "duration": 0.025578,
     "end_time": "2025-08-19T18:52:02.943600",
     "exception": false,
     "start_time": "2025-08-19T18:52:02.918022",
     "status": "completed"
    },
    "tags": []
   },
   "outputs": [],
   "source": [
    "#siab_calib.shape"
   ]
  },
  {
   "cell_type": "code",
   "execution_count": 16,
   "id": "f66b54ca",
   "metadata": {
    "execution": {
     "iopub.execute_input": "2025-08-19T18:52:02.969751Z",
     "iopub.status.busy": "2025-08-19T18:52:02.969344Z",
     "iopub.status.idle": "2025-08-19T18:52:02.973306Z",
     "shell.execute_reply": "2025-08-19T18:52:02.972574Z"
    },
    "papermill": {
     "duration": 0.016726,
     "end_time": "2025-08-19T18:52:02.974579",
     "exception": false,
     "start_time": "2025-08-19T18:52:02.957853",
     "status": "completed"
    },
    "tags": []
   },
   "outputs": [],
   "source": [
    "#siab_test.shape"
   ]
  },
  {
   "cell_type": "code",
   "execution_count": 17,
   "id": "27e4384d",
   "metadata": {
    "execution": {
     "iopub.execute_input": "2025-08-19T18:52:02.996850Z",
     "iopub.status.busy": "2025-08-19T18:52:02.996441Z",
     "iopub.status.idle": "2025-08-19T18:52:03.002588Z",
     "shell.execute_reply": "2025-08-19T18:52:03.001746Z"
    },
    "papermill": {
     "duration": 0.023223,
     "end_time": "2025-08-19T18:52:03.008356",
     "exception": false,
     "start_time": "2025-08-19T18:52:02.985133",
     "status": "completed"
    },
    "tags": []
   },
   "outputs": [],
   "source": [
    "X_train = siab_train.iloc[:,4:164]\n",
    "y_train = siab_train.iloc[:, [3]]"
   ]
  },
  {
   "cell_type": "code",
   "execution_count": 18,
   "id": "08ee8389",
   "metadata": {
    "execution": {
     "iopub.execute_input": "2025-08-19T18:52:03.052293Z",
     "iopub.status.busy": "2025-08-19T18:52:03.051835Z",
     "iopub.status.idle": "2025-08-19T18:52:03.086378Z",
     "shell.execute_reply": "2025-08-19T18:52:03.085466Z"
    },
    "papermill": {
     "duration": 0.061631,
     "end_time": "2025-08-19T18:52:03.088207",
     "exception": false,
     "start_time": "2025-08-19T18:52:03.026576",
     "status": "completed"
    },
    "tags": []
   },
   "outputs": [],
   "source": [
    "X_calib = siab_calib.iloc[:,4:164]\n",
    "y_calib = siab_calib.iloc[:, [3]]"
   ]
  },
  {
   "cell_type": "code",
   "execution_count": 19,
   "id": "b7ff42e0",
   "metadata": {
    "execution": {
     "iopub.execute_input": "2025-08-19T18:52:03.114955Z",
     "iopub.status.busy": "2025-08-19T18:52:03.113428Z",
     "iopub.status.idle": "2025-08-19T18:52:03.170700Z",
     "shell.execute_reply": "2025-08-19T18:52:03.169839Z"
    },
    "papermill": {
     "duration": 0.073743,
     "end_time": "2025-08-19T18:52:03.174152",
     "exception": false,
     "start_time": "2025-08-19T18:52:03.100409",
     "status": "completed"
    },
    "tags": []
   },
   "outputs": [],
   "source": [
    "X_test = siab_test.iloc[:,4:164]\n",
    "y_true = siab_test.iloc[:, [3]]"
   ]
  },
  {
   "cell_type": "code",
   "execution_count": 20,
   "id": "0275101e",
   "metadata": {
    "execution": {
     "iopub.execute_input": "2025-08-19T18:52:03.212816Z",
     "iopub.status.busy": "2025-08-19T18:52:03.212358Z",
     "iopub.status.idle": "2025-08-19T18:52:03.321910Z",
     "shell.execute_reply": "2025-08-19T18:52:03.320768Z"
    },
    "papermill": {
     "duration": 0.125059,
     "end_time": "2025-08-19T18:52:03.323501",
     "exception": false,
     "start_time": "2025-08-19T18:52:03.198442",
     "status": "completed"
    },
    "tags": []
   },
   "outputs": [],
   "source": [
    "# Auxiliary data needed downstream in the pipeline\n",
    "\n",
    "org_train = X_train.copy()\n",
    "org_test = X_test.copy()\n",
    "org_calib = X_calib.copy()"
   ]
  },
  {
   "cell_type": "markdown",
   "id": "b461e618",
   "metadata": {
    "papermill": {
     "duration": 0.010463,
     "end_time": "2025-08-19T18:52:03.344878",
     "exception": false,
     "start_time": "2025-08-19T18:52:03.334415",
     "status": "completed"
    },
    "tags": []
   },
   "source": [
    "# Preprocessing Data"
   ]
  },
  {
   "cell_type": "code",
   "execution_count": 21,
   "id": "78e74c4b",
   "metadata": {
    "execution": {
     "iopub.execute_input": "2025-08-19T18:52:03.368867Z",
     "iopub.status.busy": "2025-08-19T18:52:03.367647Z",
     "iopub.status.idle": "2025-08-19T18:52:03.378544Z",
     "shell.execute_reply": "2025-08-19T18:52:03.376643Z"
    },
    "papermill": {
     "duration": 0.025059,
     "end_time": "2025-08-19T18:52:03.380266",
     "exception": false,
     "start_time": "2025-08-19T18:52:03.355207",
     "status": "completed"
    },
    "tags": []
   },
   "outputs": [],
   "source": [
    "# EXCLUDE PROTECTED FEATURES\n",
    "# --------------------------\n",
    "\n",
    "excluded_features = universe[\"exclude_features\"].split(\"-\")\n",
    "excluded_features_dictionary = {\n",
    "    \"nationality\": [\"maxdeutsch1\", \"maxdeutsch.Missing.\"],\n",
    "    \"sex\": [\"frau1\"],\n",
    "    \"age\": [\"age\"],\n",
    "}"
   ]
  },
  {
   "cell_type": "code",
   "execution_count": 22,
   "id": "f8e63555",
   "metadata": {
    "execution": {
     "iopub.execute_input": "2025-08-19T18:52:03.407163Z",
     "iopub.status.busy": "2025-08-19T18:52:03.405990Z",
     "iopub.status.idle": "2025-08-19T18:52:03.415256Z",
     "shell.execute_reply": "2025-08-19T18:52:03.413602Z"
    },
    "papermill": {
     "duration": 0.022634,
     "end_time": "2025-08-19T18:52:03.416901",
     "exception": false,
     "start_time": "2025-08-19T18:52:03.394267",
     "status": "completed"
    },
    "tags": []
   },
   "outputs": [],
   "source": [
    "excluded_features_columns = [\n",
    "    excluded_features_dictionary[f] for f in excluded_features if len(f) > 0 and f != \"none\"\n",
    "]"
   ]
  },
  {
   "cell_type": "code",
   "execution_count": 23,
   "id": "da781f7c",
   "metadata": {
    "execution": {
     "iopub.execute_input": "2025-08-19T18:52:03.443624Z",
     "iopub.status.busy": "2025-08-19T18:52:03.442325Z",
     "iopub.status.idle": "2025-08-19T18:52:03.451250Z",
     "shell.execute_reply": "2025-08-19T18:52:03.449512Z"
    },
    "papermill": {
     "duration": 0.022693,
     "end_time": "2025-08-19T18:52:03.452659",
     "exception": false,
     "start_time": "2025-08-19T18:52:03.429966",
     "status": "completed"
    },
    "tags": []
   },
   "outputs": [],
   "source": [
    "from fairness_multiverse.universe import flatten_once\n",
    "\n",
    "excluded_features_columns = flatten_once(excluded_features_columns)"
   ]
  },
  {
   "cell_type": "code",
   "execution_count": 24,
   "id": "37fef0f0",
   "metadata": {
    "execution": {
     "iopub.execute_input": "2025-08-19T18:52:03.498517Z",
     "iopub.status.busy": "2025-08-19T18:52:03.498039Z",
     "iopub.status.idle": "2025-08-19T18:52:03.503688Z",
     "shell.execute_reply": "2025-08-19T18:52:03.502765Z"
    },
    "papermill": {
     "duration": 0.042321,
     "end_time": "2025-08-19T18:52:03.507883",
     "exception": false,
     "start_time": "2025-08-19T18:52:03.465562",
     "status": "completed"
    },
    "tags": []
   },
   "outputs": [],
   "source": [
    "if len(excluded_features_columns) > 0:\n",
    "    print(f\"Dropping features: {excluded_features_columns}\")\n",
    "    X_train.drop(excluded_features_columns, axis=1, inplace=True)"
   ]
  },
  {
   "cell_type": "code",
   "execution_count": 25,
   "id": "d029e3e9",
   "metadata": {
    "execution": {
     "iopub.execute_input": "2025-08-19T18:52:03.533422Z",
     "iopub.status.busy": "2025-08-19T18:52:03.533024Z",
     "iopub.status.idle": "2025-08-19T18:52:03.537680Z",
     "shell.execute_reply": "2025-08-19T18:52:03.536983Z"
    },
    "papermill": {
     "duration": 0.017698,
     "end_time": "2025-08-19T18:52:03.538935",
     "exception": false,
     "start_time": "2025-08-19T18:52:03.521237",
     "status": "completed"
    },
    "tags": []
   },
   "outputs": [],
   "source": [
    "if len(excluded_features_columns) > 0:\n",
    "    print(f\"Dropping features: {excluded_features_columns}\")\n",
    "    X_test.drop(excluded_features_columns, axis=1, inplace=True)"
   ]
  },
  {
   "cell_type": "code",
   "execution_count": 26,
   "id": "01d571f0",
   "metadata": {
    "execution": {
     "iopub.execute_input": "2025-08-19T18:52:03.561594Z",
     "iopub.status.busy": "2025-08-19T18:52:03.561224Z",
     "iopub.status.idle": "2025-08-19T18:52:03.565561Z",
     "shell.execute_reply": "2025-08-19T18:52:03.564945Z"
    },
    "papermill": {
     "duration": 0.016995,
     "end_time": "2025-08-19T18:52:03.566811",
     "exception": false,
     "start_time": "2025-08-19T18:52:03.549816",
     "status": "completed"
    },
    "tags": []
   },
   "outputs": [],
   "source": [
    "if len(excluded_features_columns) > 0:\n",
    "    print(f\"Dropping features: {excluded_features_columns}\")\n",
    "    X_calib.drop(excluded_features_columns, axis=1, inplace=True)"
   ]
  },
  {
   "cell_type": "code",
   "execution_count": 27,
   "id": "3037356e",
   "metadata": {
    "execution": {
     "iopub.execute_input": "2025-08-19T18:52:03.590199Z",
     "iopub.status.busy": "2025-08-19T18:52:03.589817Z",
     "iopub.status.idle": "2025-08-19T18:52:03.596831Z",
     "shell.execute_reply": "2025-08-19T18:52:03.594330Z"
    },
    "papermill": {
     "duration": 0.023546,
     "end_time": "2025-08-19T18:52:03.601578",
     "exception": false,
     "start_time": "2025-08-19T18:52:03.578032",
     "status": "completed"
    },
    "tags": []
   },
   "outputs": [],
   "source": [
    "# EXCLUDE CERTAIN SUBGROUPS\n",
    "# -------------------------\n",
    "\n",
    "mode = universe.get(\"exclude_subgroups\", \"keep-all\") # Defaults to \"keep-all\" if the key is missing."
   ]
  },
  {
   "cell_type": "code",
   "execution_count": 28,
   "id": "9d1e63fd",
   "metadata": {
    "execution": {
     "iopub.execute_input": "2025-08-19T18:52:03.638898Z",
     "iopub.status.busy": "2025-08-19T18:52:03.638311Z",
     "iopub.status.idle": "2025-08-19T18:52:03.645072Z",
     "shell.execute_reply": "2025-08-19T18:52:03.643182Z"
    },
    "papermill": {
     "duration": 0.031902,
     "end_time": "2025-08-19T18:52:03.650058",
     "exception": false,
     "start_time": "2025-08-19T18:52:03.618156",
     "status": "completed"
    },
    "tags": []
   },
   "outputs": [],
   "source": [
    "if mode == \"keep-all\":\n",
    "    keep_mask = pd.Series(True, index=org_train.index)\n",
    "\n",
    "elif mode == \"drop-non-german\":\n",
    "    keep_mask = (org_train[\"maxdeutsch1\"] == 1) & (org_train[\"maxdeutsch.Missing.\"] == 0)\n",
    "\n",
    "else:\n",
    "    raise ValueError(f\"Unsupported mode for exclude_subgroups: {mode}\")"
   ]
  },
  {
   "cell_type": "code",
   "execution_count": 29,
   "id": "d3b65474",
   "metadata": {
    "execution": {
     "iopub.execute_input": "2025-08-19T18:52:03.687262Z",
     "iopub.status.busy": "2025-08-19T18:52:03.686863Z",
     "iopub.status.idle": "2025-08-19T18:52:03.692157Z",
     "shell.execute_reply": "2025-08-19T18:52:03.691424Z"
    },
    "papermill": {
     "duration": 0.020081,
     "end_time": "2025-08-19T18:52:03.693371",
     "exception": false,
     "start_time": "2025-08-19T18:52:03.673290",
     "status": "completed"
    },
    "tags": []
   },
   "outputs": [],
   "source": [
    "n_drop = (~keep_mask).sum() # Calculates how many rows are set to be dropped\n",
    "if n_drop > 0:\n",
    "    pct = n_drop / len(keep_mask) * 100\n",
    "    print(f\"Dropping {n_drop} rows ({pct:.2f}%) where mode='{mode}'\")"
   ]
  },
  {
   "cell_type": "code",
   "execution_count": 30,
   "id": "f44389b3",
   "metadata": {
    "execution": {
     "iopub.execute_input": "2025-08-19T18:52:03.717869Z",
     "iopub.status.busy": "2025-08-19T18:52:03.717315Z",
     "iopub.status.idle": "2025-08-19T18:52:03.722390Z",
     "shell.execute_reply": "2025-08-19T18:52:03.721756Z"
    },
    "papermill": {
     "duration": 0.019099,
     "end_time": "2025-08-19T18:52:03.723711",
     "exception": false,
     "start_time": "2025-08-19T18:52:03.704612",
     "status": "completed"
    },
    "tags": []
   },
   "outputs": [],
   "source": [
    "X_train = X_train[keep_mask]"
   ]
  },
  {
   "cell_type": "code",
   "execution_count": 31,
   "id": "ceca8c2a",
   "metadata": {
    "execution": {
     "iopub.execute_input": "2025-08-19T18:52:03.751691Z",
     "iopub.status.busy": "2025-08-19T18:52:03.750975Z",
     "iopub.status.idle": "2025-08-19T18:52:03.760880Z",
     "shell.execute_reply": "2025-08-19T18:52:03.757671Z"
    },
    "papermill": {
     "duration": 0.025009,
     "end_time": "2025-08-19T18:52:03.762366",
     "exception": false,
     "start_time": "2025-08-19T18:52:03.737357",
     "status": "completed"
    },
    "tags": []
   },
   "outputs": [],
   "source": [
    "y_train = y_train[keep_mask]"
   ]
  },
  {
   "cell_type": "markdown",
   "id": "04d31e2f",
   "metadata": {
    "papermill": {
     "duration": 0.010941,
     "end_time": "2025-08-19T18:52:03.785131",
     "exception": false,
     "start_time": "2025-08-19T18:52:03.774190",
     "status": "completed"
    },
    "tags": []
   },
   "source": [
    "# Model Training"
   ]
  },
  {
   "cell_type": "code",
   "execution_count": 32,
   "id": "db991733",
   "metadata": {
    "execution": {
     "iopub.execute_input": "2025-08-19T18:52:03.810141Z",
     "iopub.status.busy": "2025-08-19T18:52:03.809402Z",
     "iopub.status.idle": "2025-08-19T18:52:03.921736Z",
     "shell.execute_reply": "2025-08-19T18:52:03.920555Z"
    },
    "papermill": {
     "duration": 0.128168,
     "end_time": "2025-08-19T18:52:03.924985",
     "exception": false,
     "start_time": "2025-08-19T18:52:03.796817",
     "status": "completed"
    },
    "tags": []
   },
   "outputs": [],
   "source": [
    "from sklearn.linear_model import LogisticRegression\n",
    "from sklearn.ensemble import GradientBoostingClassifier, RandomForestClassifier\n",
    "\n",
    "if (universe[\"model\"] == \"logreg\"):\n",
    "    model = LogisticRegression() #penalty=\"none\", solver=\"newton-cg\", max_iter=1)\n",
    "elif (universe[\"model\"] == \"penalized_logreg\"):\n",
    "    model = LogisticRegression(penalty=\"l2\", C=0.1) #, solver=\"newton-cg\", max_iter=1)\n",
    "elif (universe[\"model\"] == \"rf\"):\n",
    "    model = RandomForestClassifier() # n_estimators=100, n_jobs=-1\n",
    "elif (universe[\"model\"] == \"gbm\"):\n",
    "    model = GradientBoostingClassifier()\n",
    "elif (universe[\"model\"] == \"elasticnet\"):\n",
    "    model = LogisticRegression(penalty = 'elasticnet', solver = 'saga', l1_ratio = 0.5) # max_iter=5000\n",
    "else:\n",
    "    raise \"Unsupported universe.model\""
   ]
  },
  {
   "cell_type": "code",
   "execution_count": 33,
   "id": "a4b5cd25",
   "metadata": {
    "execution": {
     "iopub.execute_input": "2025-08-19T18:52:03.962774Z",
     "iopub.status.busy": "2025-08-19T18:52:03.961785Z",
     "iopub.status.idle": "2025-08-19T18:52:03.972066Z",
     "shell.execute_reply": "2025-08-19T18:52:03.970543Z"
    },
    "papermill": {
     "duration": 0.025927,
     "end_time": "2025-08-19T18:52:03.973762",
     "exception": false,
     "start_time": "2025-08-19T18:52:03.947835",
     "status": "completed"
    },
    "tags": []
   },
   "outputs": [],
   "source": [
    "from sklearn.pipeline import Pipeline\n",
    "from sklearn.preprocessing import StandardScaler\n",
    "\n",
    "model = Pipeline([\n",
    "    #(\"continuous_processor\", continuous_processor),\n",
    "    #(\"categorical_preprocessor\", categorical_preprocessor),\n",
    "    (\"scale\", StandardScaler() if universe[\"scale\"] == \"scale\" else None), \n",
    "    (\"model\", model),\n",
    "])"
   ]
  },
  {
   "cell_type": "code",
   "execution_count": 34,
   "id": "283a904d",
   "metadata": {
    "execution": {
     "iopub.execute_input": "2025-08-19T18:52:04.000834Z",
     "iopub.status.busy": "2025-08-19T18:52:03.999745Z",
     "iopub.status.idle": "2025-08-19T18:52:04.271703Z",
     "shell.execute_reply": "2025-08-19T18:52:04.270601Z"
    },
    "papermill": {
     "duration": 0.28761,
     "end_time": "2025-08-19T18:52:04.274969",
     "exception": false,
     "start_time": "2025-08-19T18:52:03.987359",
     "status": "completed"
    },
    "tags": []
   },
   "outputs": [
    {
     "name": "stderr",
     "output_type": "stream",
     "text": [
      "/dss/dsshome1/0C/ra93lal2/.local/share/virtualenvs/CMA_Fairness_v2-3j10GkSs/lib/python3.10/site-packages/sklearn/linear_model/_sag.py:350: ConvergenceWarning: The max_iter was reached which means the coef_ did not converge\n",
      "  warnings.warn(\n"
     ]
    },
    {
     "data": {
      "text/html": [
       "<style>#sk-container-id-1 {color: black;background-color: white;}#sk-container-id-1 pre{padding: 0;}#sk-container-id-1 div.sk-toggleable {background-color: white;}#sk-container-id-1 label.sk-toggleable__label {cursor: pointer;display: block;width: 100%;margin-bottom: 0;padding: 0.3em;box-sizing: border-box;text-align: center;}#sk-container-id-1 label.sk-toggleable__label-arrow:before {content: \"▸\";float: left;margin-right: 0.25em;color: #696969;}#sk-container-id-1 label.sk-toggleable__label-arrow:hover:before {color: black;}#sk-container-id-1 div.sk-estimator:hover label.sk-toggleable__label-arrow:before {color: black;}#sk-container-id-1 div.sk-toggleable__content {max-height: 0;max-width: 0;overflow: hidden;text-align: left;background-color: #f0f8ff;}#sk-container-id-1 div.sk-toggleable__content pre {margin: 0.2em;color: black;border-radius: 0.25em;background-color: #f0f8ff;}#sk-container-id-1 input.sk-toggleable__control:checked~div.sk-toggleable__content {max-height: 200px;max-width: 100%;overflow: auto;}#sk-container-id-1 input.sk-toggleable__control:checked~label.sk-toggleable__label-arrow:before {content: \"▾\";}#sk-container-id-1 div.sk-estimator input.sk-toggleable__control:checked~label.sk-toggleable__label {background-color: #d4ebff;}#sk-container-id-1 div.sk-label input.sk-toggleable__control:checked~label.sk-toggleable__label {background-color: #d4ebff;}#sk-container-id-1 input.sk-hidden--visually {border: 0;clip: rect(1px 1px 1px 1px);clip: rect(1px, 1px, 1px, 1px);height: 1px;margin: -1px;overflow: hidden;padding: 0;position: absolute;width: 1px;}#sk-container-id-1 div.sk-estimator {font-family: monospace;background-color: #f0f8ff;border: 1px dotted black;border-radius: 0.25em;box-sizing: border-box;margin-bottom: 0.5em;}#sk-container-id-1 div.sk-estimator:hover {background-color: #d4ebff;}#sk-container-id-1 div.sk-parallel-item::after {content: \"\";width: 100%;border-bottom: 1px solid gray;flex-grow: 1;}#sk-container-id-1 div.sk-label:hover label.sk-toggleable__label {background-color: #d4ebff;}#sk-container-id-1 div.sk-serial::before {content: \"\";position: absolute;border-left: 1px solid gray;box-sizing: border-box;top: 0;bottom: 0;left: 50%;z-index: 0;}#sk-container-id-1 div.sk-serial {display: flex;flex-direction: column;align-items: center;background-color: white;padding-right: 0.2em;padding-left: 0.2em;position: relative;}#sk-container-id-1 div.sk-item {position: relative;z-index: 1;}#sk-container-id-1 div.sk-parallel {display: flex;align-items: stretch;justify-content: center;background-color: white;position: relative;}#sk-container-id-1 div.sk-item::before, #sk-container-id-1 div.sk-parallel-item::before {content: \"\";position: absolute;border-left: 1px solid gray;box-sizing: border-box;top: 0;bottom: 0;left: 50%;z-index: -1;}#sk-container-id-1 div.sk-parallel-item {display: flex;flex-direction: column;z-index: 1;position: relative;background-color: white;}#sk-container-id-1 div.sk-parallel-item:first-child::after {align-self: flex-end;width: 50%;}#sk-container-id-1 div.sk-parallel-item:last-child::after {align-self: flex-start;width: 50%;}#sk-container-id-1 div.sk-parallel-item:only-child::after {width: 0;}#sk-container-id-1 div.sk-dashed-wrapped {border: 1px dashed gray;margin: 0 0.4em 0.5em 0.4em;box-sizing: border-box;padding-bottom: 0.4em;background-color: white;}#sk-container-id-1 div.sk-label label {font-family: monospace;font-weight: bold;display: inline-block;line-height: 1.2em;}#sk-container-id-1 div.sk-label-container {text-align: center;}#sk-container-id-1 div.sk-container {/* jupyter's `normalize.less` sets `[hidden] { display: none; }` but bootstrap.min.css set `[hidden] { display: none !important; }` so we also need the `!important` here to be able to override the default hidden behavior on the sphinx rendered scikit-learn.org. See: https://github.com/scikit-learn/scikit-learn/issues/21755 */display: inline-block !important;position: relative;}#sk-container-id-1 div.sk-text-repr-fallback {display: none;}</style><div id=\"sk-container-id-1\" class=\"sk-top-container\"><div class=\"sk-text-repr-fallback\"><pre>Pipeline(steps=[(&#x27;scale&#x27;, StandardScaler()),\n",
       "                (&#x27;model&#x27;,\n",
       "                 LogisticRegression(l1_ratio=0.5, penalty=&#x27;elasticnet&#x27;,\n",
       "                                    solver=&#x27;saga&#x27;))])</pre><b>In a Jupyter environment, please rerun this cell to show the HTML representation or trust the notebook. <br />On GitHub, the HTML representation is unable to render, please try loading this page with nbviewer.org.</b></div><div class=\"sk-container\" hidden><div class=\"sk-item sk-dashed-wrapped\"><div class=\"sk-label-container\"><div class=\"sk-label sk-toggleable\"><input class=\"sk-toggleable__control sk-hidden--visually\" id=\"sk-estimator-id-1\" type=\"checkbox\" ><label for=\"sk-estimator-id-1\" class=\"sk-toggleable__label sk-toggleable__label-arrow\">Pipeline</label><div class=\"sk-toggleable__content\"><pre>Pipeline(steps=[(&#x27;scale&#x27;, StandardScaler()),\n",
       "                (&#x27;model&#x27;,\n",
       "                 LogisticRegression(l1_ratio=0.5, penalty=&#x27;elasticnet&#x27;,\n",
       "                                    solver=&#x27;saga&#x27;))])</pre></div></div></div><div class=\"sk-serial\"><div class=\"sk-item\"><div class=\"sk-estimator sk-toggleable\"><input class=\"sk-toggleable__control sk-hidden--visually\" id=\"sk-estimator-id-2\" type=\"checkbox\" ><label for=\"sk-estimator-id-2\" class=\"sk-toggleable__label sk-toggleable__label-arrow\">StandardScaler</label><div class=\"sk-toggleable__content\"><pre>StandardScaler()</pre></div></div></div><div class=\"sk-item\"><div class=\"sk-estimator sk-toggleable\"><input class=\"sk-toggleable__control sk-hidden--visually\" id=\"sk-estimator-id-3\" type=\"checkbox\" ><label for=\"sk-estimator-id-3\" class=\"sk-toggleable__label sk-toggleable__label-arrow\">LogisticRegression</label><div class=\"sk-toggleable__content\"><pre>LogisticRegression(l1_ratio=0.5, penalty=&#x27;elasticnet&#x27;, solver=&#x27;saga&#x27;)</pre></div></div></div></div></div></div></div>"
      ],
      "text/plain": [
       "Pipeline(steps=[('scale', StandardScaler()),\n",
       "                ('model',\n",
       "                 LogisticRegression(l1_ratio=0.5, penalty='elasticnet',\n",
       "                                    solver='saga'))])"
      ]
     },
     "execution_count": 34,
     "metadata": {},
     "output_type": "execute_result"
    }
   ],
   "source": [
    "model.fit(X_train, y_train.values.ravel())"
   ]
  },
  {
   "cell_type": "code",
   "execution_count": 35,
   "id": "6e15e313",
   "metadata": {
    "execution": {
     "iopub.execute_input": "2025-08-19T18:52:04.308284Z",
     "iopub.status.busy": "2025-08-19T18:52:04.307192Z",
     "iopub.status.idle": "2025-08-19T18:52:04.516383Z",
     "shell.execute_reply": "2025-08-19T18:52:04.515450Z"
    },
    "papermill": {
     "duration": 0.223793,
     "end_time": "2025-08-19T18:52:04.518055",
     "exception": false,
     "start_time": "2025-08-19T18:52:04.294262",
     "status": "completed"
    },
    "tags": []
   },
   "outputs": [
    {
     "data": {
      "text/plain": [
       "0.8212573849069223"
      ]
     },
     "execution_count": 35,
     "metadata": {},
     "output_type": "execute_result"
    }
   ],
   "source": [
    "from fairness_multiverse.universe import predict_w_threshold\n",
    "\n",
    "probs_test = model.predict_proba(X_test)\n",
    "\n",
    "'''\n",
    "Below code returns a boolean array (or binary 0/1 array depending on how it’s used) where each element \n",
    "is True if the probability of class 1 is greater than or equal to the threshold, and False otherwise.\n",
    "'''\n",
    "y_pred_default = predict_w_threshold(probs_test, 0.5)\n",
    "\n",
    "from sklearn.metrics import accuracy_score\n",
    "\n",
    "# Naive prediction\n",
    "accuracy_score(y_true = y_true, y_pred = y_pred_default)"
   ]
  },
  {
   "cell_type": "code",
   "execution_count": 36,
   "id": "6f14067c",
   "metadata": {
    "execution": {
     "iopub.execute_input": "2025-08-19T18:52:04.546267Z",
     "iopub.status.busy": "2025-08-19T18:52:04.545648Z",
     "iopub.status.idle": "2025-08-19T18:52:04.733519Z",
     "shell.execute_reply": "2025-08-19T18:52:04.732346Z"
    },
    "papermill": {
     "duration": 0.204936,
     "end_time": "2025-08-19T18:52:04.737898",
     "exception": false,
     "start_time": "2025-08-19T18:52:04.532962",
     "status": "completed"
    },
    "tags": []
   },
   "outputs": [
    {
     "data": {
      "text/plain": [
       "array([0, 0, 0, ..., 0, 0, 0])"
      ]
     },
     "execution_count": 36,
     "metadata": {},
     "output_type": "execute_result"
    }
   ],
   "source": [
    "model.predict(X_test)"
   ]
  },
  {
   "cell_type": "markdown",
   "id": "3759920c",
   "metadata": {
    "papermill": {
     "duration": 0.011884,
     "end_time": "2025-08-19T18:52:04.771461",
     "exception": false,
     "start_time": "2025-08-19T18:52:04.759577",
     "status": "completed"
    },
    "tags": []
   },
   "source": [
    "# Conformal Prediction"
   ]
  },
  {
   "cell_type": "code",
   "execution_count": 37,
   "id": "14b27f59",
   "metadata": {
    "execution": {
     "iopub.execute_input": "2025-08-19T18:52:04.796278Z",
     "iopub.status.busy": "2025-08-19T18:52:04.795311Z",
     "iopub.status.idle": "2025-08-19T18:52:04.803422Z",
     "shell.execute_reply": "2025-08-19T18:52:04.801759Z"
    },
    "papermill": {
     "duration": 0.022419,
     "end_time": "2025-08-19T18:52:04.804902",
     "exception": false,
     "start_time": "2025-08-19T18:52:04.782483",
     "status": "completed"
    },
    "tags": []
   },
   "outputs": [],
   "source": [
    "# Miscoverage level for conformal prediction (10% allowed error rate => 90% target coverage)\n",
    "alpha = 0.1"
   ]
  },
  {
   "cell_type": "code",
   "execution_count": 38,
   "id": "59102472",
   "metadata": {
    "execution": {
     "iopub.execute_input": "2025-08-19T18:52:04.830524Z",
     "iopub.status.busy": "2025-08-19T18:52:04.829575Z",
     "iopub.status.idle": "2025-08-19T18:52:05.057066Z",
     "shell.execute_reply": "2025-08-19T18:52:05.056254Z"
    },
    "papermill": {
     "duration": 0.241855,
     "end_time": "2025-08-19T18:52:05.058492",
     "exception": false,
     "start_time": "2025-08-19T18:52:04.816637",
     "status": "completed"
    },
    "tags": []
   },
   "outputs": [],
   "source": [
    "probs_calib = model.predict_proba(X_calib)"
   ]
  },
  {
   "cell_type": "code",
   "execution_count": 39,
   "id": "a792d4dd",
   "metadata": {
    "execution": {
     "iopub.execute_input": "2025-08-19T18:52:05.083774Z",
     "iopub.status.busy": "2025-08-19T18:52:05.082983Z",
     "iopub.status.idle": "2025-08-19T18:52:05.090720Z",
     "shell.execute_reply": "2025-08-19T18:52:05.089758Z"
    },
    "papermill": {
     "duration": 0.021976,
     "end_time": "2025-08-19T18:52:05.092192",
     "exception": false,
     "start_time": "2025-08-19T18:52:05.070216",
     "status": "completed"
    },
    "tags": []
   },
   "outputs": [],
   "source": [
    "y_calib = y_calib.values.ravel().astype(int)"
   ]
  },
  {
   "cell_type": "code",
   "execution_count": 40,
   "id": "650fd033",
   "metadata": {
    "execution": {
     "iopub.execute_input": "2025-08-19T18:52:05.120370Z",
     "iopub.status.busy": "2025-08-19T18:52:05.119362Z",
     "iopub.status.idle": "2025-08-19T18:52:05.131845Z",
     "shell.execute_reply": "2025-08-19T18:52:05.130275Z"
    },
    "papermill": {
     "duration": 0.027001,
     "end_time": "2025-08-19T18:52:05.133482",
     "exception": false,
     "start_time": "2025-08-19T18:52:05.106481",
     "status": "completed"
    },
    "tags": []
   },
   "outputs": [],
   "source": [
    "from fairness_multiverse.conformal import compute_nc_scores\n",
    "\n",
    "# Compute nonconformity scores on calibration set (1 - probability of true class)\n",
    "nc_scores = compute_nc_scores(probs_calib, y_calib)"
   ]
  },
  {
   "cell_type": "code",
   "execution_count": 41,
   "id": "28ada44c",
   "metadata": {
    "execution": {
     "iopub.execute_input": "2025-08-19T18:52:05.161452Z",
     "iopub.status.busy": "2025-08-19T18:52:05.160465Z",
     "iopub.status.idle": "2025-08-19T18:52:05.173480Z",
     "shell.execute_reply": "2025-08-19T18:52:05.171942Z"
    },
    "papermill": {
     "duration": 0.027573,
     "end_time": "2025-08-19T18:52:05.175225",
     "exception": false,
     "start_time": "2025-08-19T18:52:05.147652",
     "status": "completed"
    },
    "tags": []
   },
   "outputs": [],
   "source": [
    "from fairness_multiverse.conformal import find_threshold\n",
    "\n",
    "# Find conformal threshold q_hat for the given alpha (split conformal method)\n",
    "q_hat = find_threshold(nc_scores, alpha)"
   ]
  },
  {
   "cell_type": "code",
   "execution_count": 42,
   "id": "df56469e",
   "metadata": {
    "execution": {
     "iopub.execute_input": "2025-08-19T18:52:05.202495Z",
     "iopub.status.busy": "2025-08-19T18:52:05.201533Z",
     "iopub.status.idle": "2025-08-19T18:52:05.212673Z",
     "shell.execute_reply": "2025-08-19T18:52:05.211248Z"
    },
    "papermill": {
     "duration": 0.025249,
     "end_time": "2025-08-19T18:52:05.214093",
     "exception": false,
     "start_time": "2025-08-19T18:52:05.188844",
     "status": "completed"
    },
    "tags": []
   },
   "outputs": [
    {
     "data": {
      "text/plain": [
       "0.7769327191723893"
      ]
     },
     "execution_count": 42,
     "metadata": {},
     "output_type": "execute_result"
    }
   ],
   "source": [
    "q_hat"
   ]
  },
  {
   "cell_type": "code",
   "execution_count": 43,
   "id": "aa1f5faa",
   "metadata": {
    "execution": {
     "iopub.execute_input": "2025-08-19T18:52:05.242201Z",
     "iopub.status.busy": "2025-08-19T18:52:05.241220Z",
     "iopub.status.idle": "2025-08-19T18:52:05.863460Z",
     "shell.execute_reply": "2025-08-19T18:52:05.861846Z"
    },
    "papermill": {
     "duration": 0.638905,
     "end_time": "2025-08-19T18:52:05.867010",
     "exception": false,
     "start_time": "2025-08-19T18:52:05.228105",
     "status": "completed"
    },
    "tags": []
   },
   "outputs": [],
   "source": [
    "from fairness_multiverse.conformal import predict_conformal_sets\n",
    "\n",
    "# Generate prediction sets for each test example\n",
    "pred_sets = predict_conformal_sets(model, X_test, q_hat)"
   ]
  },
  {
   "cell_type": "code",
   "execution_count": 44,
   "id": "97f67a6b",
   "metadata": {
    "execution": {
     "iopub.execute_input": "2025-08-19T18:52:05.908701Z",
     "iopub.status.busy": "2025-08-19T18:52:05.907518Z",
     "iopub.status.idle": "2025-08-19T18:52:05.920194Z",
     "shell.execute_reply": "2025-08-19T18:52:05.918421Z"
    },
    "papermill": {
     "duration": 0.029994,
     "end_time": "2025-08-19T18:52:05.922001",
     "exception": false,
     "start_time": "2025-08-19T18:52:05.892007",
     "status": "completed"
    },
    "tags": []
   },
   "outputs": [],
   "source": [
    "y_true = y_true.squeeze()"
   ]
  },
  {
   "cell_type": "code",
   "execution_count": 45,
   "id": "e700e9a7",
   "metadata": {
    "execution": {
     "iopub.execute_input": "2025-08-19T18:52:05.953571Z",
     "iopub.status.busy": "2025-08-19T18:52:05.952590Z",
     "iopub.status.idle": "2025-08-19T18:52:06.463762Z",
     "shell.execute_reply": "2025-08-19T18:52:06.462155Z"
    },
    "papermill": {
     "duration": 0.528216,
     "end_time": "2025-08-19T18:52:06.467274",
     "exception": false,
     "start_time": "2025-08-19T18:52:05.939058",
     "status": "completed"
    },
    "tags": []
   },
   "outputs": [],
   "source": [
    "from fairness_multiverse.conformal import evaluate_sets\n",
    "\n",
    "# Evaluate coverage and average set size on test data\n",
    "metrics = evaluate_sets(pred_sets, y_true)"
   ]
  },
  {
   "cell_type": "markdown",
   "id": "efbacec0",
   "metadata": {
    "papermill": {
     "duration": 0.013212,
     "end_time": "2025-08-19T18:52:06.505755",
     "exception": false,
     "start_time": "2025-08-19T18:52:06.492543",
     "status": "completed"
    },
    "tags": []
   },
   "source": [
    "# CP Metrics"
   ]
  },
  {
   "cell_type": "code",
   "execution_count": 46,
   "id": "9de55fb1",
   "metadata": {
    "execution": {
     "iopub.execute_input": "2025-08-19T18:52:06.532183Z",
     "iopub.status.busy": "2025-08-19T18:52:06.531012Z",
     "iopub.status.idle": "2025-08-19T18:52:06.544534Z",
     "shell.execute_reply": "2025-08-19T18:52:06.543464Z"
    },
    "papermill": {
     "duration": 0.029531,
     "end_time": "2025-08-19T18:52:06.546572",
     "exception": false,
     "start_time": "2025-08-19T18:52:06.517041",
     "status": "completed"
    },
    "tags": []
   },
   "outputs": [
    {
     "data": {
      "text/plain": [
       "{'coverage': 0.9066324824434289, 'avg_size': 1.2254932560472633}"
      ]
     },
     "execution_count": 46,
     "metadata": {},
     "output_type": "execute_result"
    }
   ],
   "source": [
    "metrics"
   ]
  },
  {
   "cell_type": "code",
   "execution_count": 47,
   "id": "64c340a1",
   "metadata": {
    "execution": {
     "iopub.execute_input": "2025-08-19T18:52:06.575521Z",
     "iopub.status.busy": "2025-08-19T18:52:06.574504Z",
     "iopub.status.idle": "2025-08-19T18:52:06.585316Z",
     "shell.execute_reply": "2025-08-19T18:52:06.584050Z"
    },
    "papermill": {
     "duration": 0.025908,
     "end_time": "2025-08-19T18:52:06.587207",
     "exception": false,
     "start_time": "2025-08-19T18:52:06.561299",
     "status": "completed"
    },
    "tags": []
   },
   "outputs": [],
   "source": [
    "example_universe = universe.copy()\n",
    "universe_training_year = example_universe.get(\"training_year\")\n",
    "universe_training_size = example_universe.get(\"training_size\")\n",
    "universe_scale = example_universe.get(\"scale\")\n",
    "universe_model = example_universe.get(\"model\")\n",
    "universe_exclude_features = example_universe.get(\"exclude_features\")\n",
    "universe_exclude_subgroups = example_universe.get(\"exclude_subgroups\")"
   ]
  },
  {
   "cell_type": "code",
   "execution_count": 48,
   "id": "dbb53cb4",
   "metadata": {
    "execution": {
     "iopub.execute_input": "2025-08-19T18:52:06.617416Z",
     "iopub.status.busy": "2025-08-19T18:52:06.616127Z",
     "iopub.status.idle": "2025-08-19T18:52:06.626698Z",
     "shell.execute_reply": "2025-08-19T18:52:06.625431Z"
    },
    "papermill": {
     "duration": 0.025797,
     "end_time": "2025-08-19T18:52:06.628594",
     "exception": false,
     "start_time": "2025-08-19T18:52:06.602797",
     "status": "completed"
    },
    "tags": []
   },
   "outputs": [],
   "source": [
    "cp_metrics_dict = {\n",
    "    \"universe_id\": [universe_id],\n",
    "    \"universe_training_year\": [universe_training_year],\n",
    "    \"universe_training_size\": [universe_training_size],\n",
    "    \"universe_scale\": [universe_scale],\n",
    "    \"universe_model\": [universe_model],\n",
    "    \"universe_exclude_features\": [universe_exclude_features],\n",
    "    \"universe_exclude_subgroups\": [universe_exclude_subgroups],\n",
    "    \"q_hat\": [q_hat],\n",
    "    \"coverage\": [metrics[\"coverage\"]],\n",
    "    \"avg_size\": [metrics[\"avg_size\"]],\n",
    "}"
   ]
  },
  {
   "cell_type": "code",
   "execution_count": 49,
   "id": "0d70d4b2",
   "metadata": {
    "execution": {
     "iopub.execute_input": "2025-08-19T18:52:06.657429Z",
     "iopub.status.busy": "2025-08-19T18:52:06.656323Z",
     "iopub.status.idle": "2025-08-19T18:52:06.669075Z",
     "shell.execute_reply": "2025-08-19T18:52:06.667344Z"
    },
    "papermill": {
     "duration": 0.027438,
     "end_time": "2025-08-19T18:52:06.670622",
     "exception": false,
     "start_time": "2025-08-19T18:52:06.643184",
     "status": "completed"
    },
    "tags": []
   },
   "outputs": [],
   "source": [
    "cp_metrics_df = pd.DataFrame(cp_metrics_dict)"
   ]
  },
  {
   "cell_type": "code",
   "execution_count": 50,
   "id": "b494403c",
   "metadata": {
    "execution": {
     "iopub.execute_input": "2025-08-19T18:52:06.699677Z",
     "iopub.status.busy": "2025-08-19T18:52:06.698662Z",
     "iopub.status.idle": "2025-08-19T18:52:06.724262Z",
     "shell.execute_reply": "2025-08-19T18:52:06.723193Z"
    },
    "papermill": {
     "duration": 0.041561,
     "end_time": "2025-08-19T18:52:06.726838",
     "exception": false,
     "start_time": "2025-08-19T18:52:06.685277",
     "status": "completed"
    },
    "tags": []
   },
   "outputs": [
    {
     "data": {
      "text/html": [
       "<div>\n",
       "<style scoped>\n",
       "    .dataframe tbody tr th:only-of-type {\n",
       "        vertical-align: middle;\n",
       "    }\n",
       "\n",
       "    .dataframe tbody tr th {\n",
       "        vertical-align: top;\n",
       "    }\n",
       "\n",
       "    .dataframe thead th {\n",
       "        text-align: right;\n",
       "    }\n",
       "</style>\n",
       "<table border=\"1\" class=\"dataframe\">\n",
       "  <thead>\n",
       "    <tr style=\"text-align: right;\">\n",
       "      <th></th>\n",
       "      <th>universe_id</th>\n",
       "      <th>universe_training_year</th>\n",
       "      <th>universe_training_size</th>\n",
       "      <th>universe_scale</th>\n",
       "      <th>universe_model</th>\n",
       "      <th>universe_exclude_features</th>\n",
       "      <th>universe_exclude_subgroups</th>\n",
       "      <th>q_hat</th>\n",
       "      <th>coverage</th>\n",
       "      <th>avg_size</th>\n",
       "    </tr>\n",
       "  </thead>\n",
       "  <tbody>\n",
       "    <tr>\n",
       "      <th>0</th>\n",
       "      <td>1af6cf87beb9989d6e73e4a164af30d0</td>\n",
       "      <td>2014</td>\n",
       "      <td>1k</td>\n",
       "      <td>scale</td>\n",
       "      <td>elasticnet</td>\n",
       "      <td>none</td>\n",
       "      <td>keep-all</td>\n",
       "      <td>0.776933</td>\n",
       "      <td>0.906632</td>\n",
       "      <td>1.225493</td>\n",
       "    </tr>\n",
       "  </tbody>\n",
       "</table>\n",
       "</div>"
      ],
      "text/plain": [
       "                        universe_id universe_training_year  \\\n",
       "0  1af6cf87beb9989d6e73e4a164af30d0                   2014   \n",
       "\n",
       "  universe_training_size universe_scale universe_model  \\\n",
       "0                     1k          scale     elasticnet   \n",
       "\n",
       "  universe_exclude_features universe_exclude_subgroups     q_hat  coverage  \\\n",
       "0                      none                   keep-all  0.776933  0.906632   \n",
       "\n",
       "   avg_size  \n",
       "0  1.225493  "
      ]
     },
     "execution_count": 50,
     "metadata": {},
     "output_type": "execute_result"
    }
   ],
   "source": [
    "cp_metrics_df"
   ]
  },
  {
   "cell_type": "markdown",
   "id": "ed608b0b",
   "metadata": {
    "papermill": {
     "duration": 0.012156,
     "end_time": "2025-08-19T18:52:06.755921",
     "exception": false,
     "start_time": "2025-08-19T18:52:06.743765",
     "status": "completed"
    },
    "tags": []
   },
   "source": [
    "Conditional coverage & looking at subgroups"
   ]
  },
  {
   "cell_type": "code",
   "execution_count": 51,
   "id": "8968c366",
   "metadata": {
    "execution": {
     "iopub.execute_input": "2025-08-19T18:52:06.782609Z",
     "iopub.status.busy": "2025-08-19T18:52:06.781600Z",
     "iopub.status.idle": "2025-08-19T18:52:07.061434Z",
     "shell.execute_reply": "2025-08-19T18:52:07.060562Z"
    },
    "papermill": {
     "duration": 0.294864,
     "end_time": "2025-08-19T18:52:07.062875",
     "exception": false,
     "start_time": "2025-08-19T18:52:06.768011",
     "status": "completed"
    },
    "tags": []
   },
   "outputs": [],
   "source": [
    "from fairness_multiverse.conformal import build_cp_groups\n",
    "\n",
    "cp_groups_df = build_cp_groups(pred_sets, y_true, X_test.index, org_test)"
   ]
  },
  {
   "cell_type": "code",
   "execution_count": 52,
   "id": "292ddabf",
   "metadata": {
    "execution": {
     "iopub.execute_input": "2025-08-19T18:52:07.089511Z",
     "iopub.status.busy": "2025-08-19T18:52:07.088779Z",
     "iopub.status.idle": "2025-08-19T18:52:07.972607Z",
     "shell.execute_reply": "2025-08-19T18:52:07.971356Z"
    },
    "papermill": {
     "duration": 0.898565,
     "end_time": "2025-08-19T18:52:07.974112",
     "exception": false,
     "start_time": "2025-08-19T18:52:07.075547",
     "status": "completed"
    },
    "tags": []
   },
   "outputs": [],
   "source": [
    "# Define covered = 1 if true_label is in the predicted set\n",
    "cp_groups_df['covered'] = cp_groups_df.apply(\n",
    "    lambda r: int(r['true_label'] in r['pred_set']),\n",
    "    axis=1\n",
    ")"
   ]
  },
  {
   "cell_type": "code",
   "execution_count": 53,
   "id": "3a261692",
   "metadata": {
    "execution": {
     "iopub.execute_input": "2025-08-19T18:52:08.001307Z",
     "iopub.status.busy": "2025-08-19T18:52:08.000430Z",
     "iopub.status.idle": "2025-08-19T18:52:08.023438Z",
     "shell.execute_reply": "2025-08-19T18:52:08.022408Z"
    },
    "papermill": {
     "duration": 0.038995,
     "end_time": "2025-08-19T18:52:08.025612",
     "exception": false,
     "start_time": "2025-08-19T18:52:07.986617",
     "status": "completed"
    },
    "tags": []
   },
   "outputs": [],
   "source": [
    "subgroups = ['frau1','nongerman','nongerman_male','nongerman_female']\n",
    "\n",
    "# Conditional coverage for subgroup==1\n",
    "cond_coverage = {\n",
    "    g: cp_groups_df.loc[cp_groups_df[g]==1, 'covered'].mean()\n",
    "    for g in subgroups\n",
    "}"
   ]
  },
  {
   "cell_type": "code",
   "execution_count": 54,
   "id": "894fd600",
   "metadata": {
    "execution": {
     "iopub.execute_input": "2025-08-19T18:52:08.064450Z",
     "iopub.status.busy": "2025-08-19T18:52:08.063456Z",
     "iopub.status.idle": "2025-08-19T18:52:08.076090Z",
     "shell.execute_reply": "2025-08-19T18:52:08.074402Z"
    },
    "papermill": {
     "duration": 0.032196,
     "end_time": "2025-08-19T18:52:08.077892",
     "exception": false,
     "start_time": "2025-08-19T18:52:08.045696",
     "status": "completed"
    },
    "tags": []
   },
   "outputs": [
    {
     "data": {
      "text/plain": [
       "{'frau1': 0.9046502224019409,\n",
       " 'nongerman': 0.9088867680907202,\n",
       " 'nongerman_male': 0.9262361523912456,\n",
       " 'nongerman_female': 0.8801788375558868}"
      ]
     },
     "execution_count": 54,
     "metadata": {},
     "output_type": "execute_result"
    }
   ],
   "source": [
    "cond_coverage"
   ]
  },
  {
   "cell_type": "code",
   "execution_count": 55,
   "id": "942895c7",
   "metadata": {
    "execution": {
     "iopub.execute_input": "2025-08-19T18:52:08.108574Z",
     "iopub.status.busy": "2025-08-19T18:52:08.107538Z",
     "iopub.status.idle": "2025-08-19T18:52:08.120038Z",
     "shell.execute_reply": "2025-08-19T18:52:08.118685Z"
    },
    "papermill": {
     "duration": 0.028443,
     "end_time": "2025-08-19T18:52:08.122141",
     "exception": false,
     "start_time": "2025-08-19T18:52:08.093698",
     "status": "completed"
    },
    "tags": []
   },
   "outputs": [],
   "source": [
    "for subgroup, cov in cond_coverage.items():\n",
    "    cp_metrics_df[f\"cov_{subgroup}\"] = cov"
   ]
  },
  {
   "cell_type": "code",
   "execution_count": 56,
   "id": "3970120f",
   "metadata": {
    "execution": {
     "iopub.execute_input": "2025-08-19T18:52:08.154235Z",
     "iopub.status.busy": "2025-08-19T18:52:08.153260Z",
     "iopub.status.idle": "2025-08-19T18:52:08.175304Z",
     "shell.execute_reply": "2025-08-19T18:52:08.174345Z"
    },
    "papermill": {
     "duration": 0.040793,
     "end_time": "2025-08-19T18:52:08.179985",
     "exception": false,
     "start_time": "2025-08-19T18:52:08.139192",
     "status": "completed"
    },
    "tags": []
   },
   "outputs": [
    {
     "data": {
      "text/html": [
       "<div>\n",
       "<style scoped>\n",
       "    .dataframe tbody tr th:only-of-type {\n",
       "        vertical-align: middle;\n",
       "    }\n",
       "\n",
       "    .dataframe tbody tr th {\n",
       "        vertical-align: top;\n",
       "    }\n",
       "\n",
       "    .dataframe thead th {\n",
       "        text-align: right;\n",
       "    }\n",
       "</style>\n",
       "<table border=\"1\" class=\"dataframe\">\n",
       "  <thead>\n",
       "    <tr style=\"text-align: right;\">\n",
       "      <th></th>\n",
       "      <th>universe_id</th>\n",
       "      <th>universe_training_year</th>\n",
       "      <th>universe_training_size</th>\n",
       "      <th>universe_scale</th>\n",
       "      <th>universe_model</th>\n",
       "      <th>universe_exclude_features</th>\n",
       "      <th>universe_exclude_subgroups</th>\n",
       "      <th>q_hat</th>\n",
       "      <th>coverage</th>\n",
       "      <th>avg_size</th>\n",
       "      <th>cov_frau1</th>\n",
       "      <th>cov_nongerman</th>\n",
       "      <th>cov_nongerman_male</th>\n",
       "      <th>cov_nongerman_female</th>\n",
       "    </tr>\n",
       "  </thead>\n",
       "  <tbody>\n",
       "    <tr>\n",
       "      <th>0</th>\n",
       "      <td>1af6cf87beb9989d6e73e4a164af30d0</td>\n",
       "      <td>2014</td>\n",
       "      <td>1k</td>\n",
       "      <td>scale</td>\n",
       "      <td>elasticnet</td>\n",
       "      <td>none</td>\n",
       "      <td>keep-all</td>\n",
       "      <td>0.776933</td>\n",
       "      <td>0.906632</td>\n",
       "      <td>1.225493</td>\n",
       "      <td>0.90465</td>\n",
       "      <td>0.908887</td>\n",
       "      <td>0.926236</td>\n",
       "      <td>0.880179</td>\n",
       "    </tr>\n",
       "  </tbody>\n",
       "</table>\n",
       "</div>"
      ],
      "text/plain": [
       "                        universe_id universe_training_year  \\\n",
       "0  1af6cf87beb9989d6e73e4a164af30d0                   2014   \n",
       "\n",
       "  universe_training_size universe_scale universe_model  \\\n",
       "0                     1k          scale     elasticnet   \n",
       "\n",
       "  universe_exclude_features universe_exclude_subgroups     q_hat  coverage  \\\n",
       "0                      none                   keep-all  0.776933  0.906632   \n",
       "\n",
       "   avg_size  cov_frau1  cov_nongerman  cov_nongerman_male  \\\n",
       "0  1.225493    0.90465       0.908887            0.926236   \n",
       "\n",
       "   cov_nongerman_female  \n",
       "0              0.880179  "
      ]
     },
     "execution_count": 56,
     "metadata": {},
     "output_type": "execute_result"
    }
   ],
   "source": [
    "cp_metrics_df"
   ]
  },
  {
   "cell_type": "markdown",
   "id": "3fc519cc",
   "metadata": {
    "papermill": {
     "duration": 0.013599,
     "end_time": "2025-08-19T18:52:08.211990",
     "exception": false,
     "start_time": "2025-08-19T18:52:08.198391",
     "status": "completed"
    },
    "tags": []
   },
   "source": [
    "# (Fairness) Metrics"
   ]
  },
  {
   "cell_type": "code",
   "execution_count": 57,
   "id": "a2e5e155",
   "metadata": {
    "execution": {
     "iopub.execute_input": "2025-08-19T18:52:08.240701Z",
     "iopub.status.busy": "2025-08-19T18:52:08.239359Z",
     "iopub.status.idle": "2025-08-19T18:52:08.267390Z",
     "shell.execute_reply": "2025-08-19T18:52:08.266418Z"
    },
    "papermill": {
     "duration": 0.044837,
     "end_time": "2025-08-19T18:52:08.269711",
     "exception": false,
     "start_time": "2025-08-19T18:52:08.224874",
     "status": "completed"
    },
    "tags": []
   },
   "outputs": [],
   "source": [
    "colname_to_bin = \"maxdeutsch1\"\n",
    "majority_value = org_train[colname_to_bin].mode()[0]\n",
    "\n",
    "org_test[\"majmin\"] = np.where(org_test[colname_to_bin] == majority_value, \"majority\", \"minority\")"
   ]
  },
  {
   "cell_type": "code",
   "execution_count": 58,
   "id": "17e3e4d5",
   "metadata": {
    "execution": {
     "iopub.execute_input": "2025-08-19T18:52:08.310737Z",
     "iopub.status.busy": "2025-08-19T18:52:08.309502Z",
     "iopub.status.idle": "2025-08-19T18:52:10.041562Z",
     "shell.execute_reply": "2025-08-19T18:52:10.040391Z"
    },
    "papermill": {
     "duration": 1.749392,
     "end_time": "2025-08-19T18:52:10.043075",
     "exception": false,
     "start_time": "2025-08-19T18:52:08.293683",
     "status": "completed"
    },
    "tags": []
   },
   "outputs": [],
   "source": [
    "example_universe = universe.copy()\n",
    "example_universe[\"cutoff\"] = example_universe[\"cutoff\"][0]\n",
    "example_universe[\"eval_fairness_grouping\"] = example_universe[\"eval_fairness_grouping\"][0]\n",
    "fairness_dict, metric_frame = universe_analysis.compute_metrics(\n",
    "    example_universe,\n",
    "    y_pred_prob=probs_test,\n",
    "    y_test=y_true,\n",
    "    org_test=org_test,\n",
    ")"
   ]
  },
  {
   "cell_type": "markdown",
   "id": "1fb7a0e9",
   "metadata": {
    "papermill": {
     "duration": 0.01236,
     "end_time": "2025-08-19T18:52:10.072583",
     "exception": false,
     "start_time": "2025-08-19T18:52:10.060223",
     "status": "completed"
    },
    "tags": []
   },
   "source": [
    "# Overall"
   ]
  },
  {
   "cell_type": "markdown",
   "id": "be1784b1",
   "metadata": {
    "papermill": {
     "duration": 0.015139,
     "end_time": "2025-08-19T18:52:10.100263",
     "exception": false,
     "start_time": "2025-08-19T18:52:10.085124",
     "status": "completed"
    },
    "tags": []
   },
   "source": [
    "Main fairness target: Equalized Odds. Seems to be a better fit than equal opportunity, since we're not only interested in Y = 1. Seems to be a better fit than demographic parity, since we also care about accuracy, not just equal distribution of preds.\n",
    "\n",
    "Pick column for computation of fairness metrics\n",
    "\n",
    "Performance\n",
    "Overall performance measures, most interesting in relation to the measures split by group below"
   ]
  },
  {
   "cell_type": "code",
   "execution_count": 59,
   "id": "b7672bee",
   "metadata": {
    "execution": {
     "iopub.execute_input": "2025-08-19T18:52:10.130320Z",
     "iopub.status.busy": "2025-08-19T18:52:10.129132Z",
     "iopub.status.idle": "2025-08-19T18:52:10.149687Z",
     "shell.execute_reply": "2025-08-19T18:52:10.148615Z"
    },
    "papermill": {
     "duration": 0.038489,
     "end_time": "2025-08-19T18:52:10.152271",
     "exception": false,
     "start_time": "2025-08-19T18:52:10.113782",
     "status": "completed"
    },
    "tags": []
   },
   "outputs": [
    {
     "data": {
      "text/plain": [
       "accuracy                   0.219452\n",
       "balanced accuracy          0.537621\n",
       "f1                         0.240918\n",
       "precision                  0.137629\n",
       "false positive rate        0.890348\n",
       "false negative rate        0.034411\n",
       "selection rate             0.900000\n",
       "count                  89710.000000\n",
       "dtype: float64"
      ]
     },
     "execution_count": 59,
     "metadata": {},
     "output_type": "execute_result"
    }
   ],
   "source": [
    "metric_frame.overall"
   ]
  },
  {
   "cell_type": "markdown",
   "id": "d93333c9",
   "metadata": {
    "papermill": {
     "duration": 0.012519,
     "end_time": "2025-08-19T18:52:10.181152",
     "exception": false,
     "start_time": "2025-08-19T18:52:10.168633",
     "status": "completed"
    },
    "tags": []
   },
   "source": [
    "By Group"
   ]
  },
  {
   "cell_type": "code",
   "execution_count": 60,
   "id": "52256966",
   "metadata": {
    "execution": {
     "iopub.execute_input": "2025-08-19T18:52:10.209168Z",
     "iopub.status.busy": "2025-08-19T18:52:10.208815Z",
     "iopub.status.idle": "2025-08-19T18:52:10.223908Z",
     "shell.execute_reply": "2025-08-19T18:52:10.223135Z"
    },
    "papermill": {
     "duration": 0.03188,
     "end_time": "2025-08-19T18:52:10.225482",
     "exception": false,
     "start_time": "2025-08-19T18:52:10.193602",
     "status": "completed"
    },
    "tags": []
   },
   "outputs": [
    {
     "data": {
      "text/html": [
       "<div>\n",
       "<style scoped>\n",
       "    .dataframe tbody tr th:only-of-type {\n",
       "        vertical-align: middle;\n",
       "    }\n",
       "\n",
       "    .dataframe tbody tr th {\n",
       "        vertical-align: top;\n",
       "    }\n",
       "\n",
       "    .dataframe thead th {\n",
       "        text-align: right;\n",
       "    }\n",
       "</style>\n",
       "<table border=\"1\" class=\"dataframe\">\n",
       "  <thead>\n",
       "    <tr style=\"text-align: right;\">\n",
       "      <th></th>\n",
       "      <th>accuracy</th>\n",
       "      <th>balanced accuracy</th>\n",
       "      <th>f1</th>\n",
       "      <th>precision</th>\n",
       "      <th>false positive rate</th>\n",
       "      <th>false negative rate</th>\n",
       "      <th>selection rate</th>\n",
       "      <th>count</th>\n",
       "    </tr>\n",
       "    <tr>\n",
       "      <th>majmin</th>\n",
       "      <th></th>\n",
       "      <th></th>\n",
       "      <th></th>\n",
       "      <th></th>\n",
       "      <th></th>\n",
       "      <th></th>\n",
       "      <th></th>\n",
       "      <th></th>\n",
       "    </tr>\n",
       "  </thead>\n",
       "  <tbody>\n",
       "    <tr>\n",
       "      <th>majority</th>\n",
       "      <td>0.237155</td>\n",
       "      <td>0.544782</td>\n",
       "      <td>0.250142</td>\n",
       "      <td>0.143741</td>\n",
       "      <td>0.873347</td>\n",
       "      <td>0.037090</td>\n",
       "      <td>0.885181</td>\n",
       "      <td>69170.0</td>\n",
       "    </tr>\n",
       "    <tr>\n",
       "      <th>minority</th>\n",
       "      <td>0.159834</td>\n",
       "      <td>0.514709</td>\n",
       "      <td>0.211253</td>\n",
       "      <td>0.118446</td>\n",
       "      <td>0.946511</td>\n",
       "      <td>0.024071</td>\n",
       "      <td>0.949903</td>\n",
       "      <td>20540.0</td>\n",
       "    </tr>\n",
       "  </tbody>\n",
       "</table>\n",
       "</div>"
      ],
      "text/plain": [
       "          accuracy  balanced accuracy        f1  precision  \\\n",
       "majmin                                                       \n",
       "majority  0.237155           0.544782  0.250142   0.143741   \n",
       "minority  0.159834           0.514709  0.211253   0.118446   \n",
       "\n",
       "          false positive rate  false negative rate  selection rate    count  \n",
       "majmin                                                                       \n",
       "majority             0.873347             0.037090        0.885181  69170.0  \n",
       "minority             0.946511             0.024071        0.949903  20540.0  "
      ]
     },
     "execution_count": 60,
     "metadata": {},
     "output_type": "execute_result"
    }
   ],
   "source": [
    "metric_frame.by_group"
   ]
  },
  {
   "cell_type": "code",
   "execution_count": 61,
   "id": "6e6c20ae",
   "metadata": {
    "execution": {
     "iopub.execute_input": "2025-08-19T18:52:10.272717Z",
     "iopub.status.busy": "2025-08-19T18:52:10.271518Z",
     "iopub.status.idle": "2025-08-19T18:52:12.245682Z",
     "shell.execute_reply": "2025-08-19T18:52:12.244687Z"
    },
    "papermill": {
     "duration": 2.010096,
     "end_time": "2025-08-19T18:52:12.250629",
     "exception": false,
     "start_time": "2025-08-19T18:52:10.240533",
     "status": "completed"
    },
    "tags": []
   },
   "outputs": [
    {
     "data": {
      "text/plain": [
       "array([[<Axes: title={'center': 'accuracy'}, xlabel='majmin'>,\n",
       "        <Axes: title={'center': 'balanced accuracy'}, xlabel='majmin'>,\n",
       "        <Axes: title={'center': 'f1'}, xlabel='majmin'>],\n",
       "       [<Axes: title={'center': 'precision'}, xlabel='majmin'>,\n",
       "        <Axes: title={'center': 'false positive rate'}, xlabel='majmin'>,\n",
       "        <Axes: title={'center': 'false negative rate'}, xlabel='majmin'>],\n",
       "       [<Axes: title={'center': 'selection rate'}, xlabel='majmin'>,\n",
       "        <Axes: title={'center': 'count'}, xlabel='majmin'>,\n",
       "        <Axes: xlabel='majmin'>]], dtype=object)"
      ]
     },
     "execution_count": 61,
     "metadata": {},
     "output_type": "execute_result"
    },
    {
     "data": {
      "image/png": "[encoded data removed]",
      "text/plain": [
       "<Figure size 1200x800 with 9 Axes>"
      ]
     },
     "metadata": {},
     "output_type": "display_data"
    }
   ],
   "source": [
    "# In a graphic\n",
    "metric_frame.by_group.plot.bar(\n",
    "    subplots=True,\n",
    "    layout=[3, 3],\n",
    "    legend=False,\n",
    "    figsize=[12, 8],\n",
    "    title=\"Show all metrics\",\n",
    ")"
   ]
  },
  {
   "cell_type": "markdown",
   "id": "b2e433ae",
   "metadata": {
    "papermill": {
     "duration": 0.014301,
     "end_time": "2025-08-19T18:52:12.292741",
     "exception": false,
     "start_time": "2025-08-19T18:52:12.278440",
     "status": "completed"
    },
    "tags": []
   },
   "source": [
    "# Final Output"
   ]
  },
  {
   "cell_type": "code",
   "execution_count": 62,
   "id": "3871301e",
   "metadata": {
    "execution": {
     "iopub.execute_input": "2025-08-19T18:52:12.325698Z",
     "iopub.status.busy": "2025-08-19T18:52:12.323166Z",
     "iopub.status.idle": "2025-08-19T18:52:12.344418Z",
     "shell.execute_reply": "2025-08-19T18:52:12.343064Z"
    },
    "papermill": {
     "duration": 0.040169,
     "end_time": "2025-08-19T18:52:12.346537",
     "exception": false,
     "start_time": "2025-08-19T18:52:12.306368",
     "status": "completed"
    },
    "tags": []
   },
   "outputs": [
    {
     "data": {
      "text/plain": [
       "4"
      ]
     },
     "execution_count": 62,
     "metadata": {},
     "output_type": "execute_result"
    }
   ],
   "source": [
    "sub_universes = universe_analysis.generate_sub_universes()\n",
    "len(sub_universes)"
   ]
  },
  {
   "cell_type": "code",
   "execution_count": 63,
   "id": "d9cfdaca",
   "metadata": {
    "execution": {
     "iopub.execute_input": "2025-08-19T18:52:12.387025Z",
     "iopub.status.busy": "2025-08-19T18:52:12.385833Z",
     "iopub.status.idle": "2025-08-19T18:52:12.396939Z",
     "shell.execute_reply": "2025-08-19T18:52:12.394921Z"
    },
    "papermill": {
     "duration": 0.028465,
     "end_time": "2025-08-19T18:52:12.398513",
     "exception": false,
     "start_time": "2025-08-19T18:52:12.370048",
     "status": "completed"
    },
    "tags": []
   },
   "outputs": [],
   "source": [
    "def filter_sub_universe_data(sub_universe, org_test):\n",
    "    # Keep all rows — no filtering\n",
    "    keep_rows_mask = np.ones(org_test.shape[0], dtype=bool)\n",
    "\n",
    "    print(f\"[INFO] Keeping all rows: {keep_rows_mask.sum()} rows retained.\")\n",
    "    return keep_rows_mask"
   ]
  },
  {
   "cell_type": "code",
   "execution_count": 64,
   "id": "2bc31ac1",
   "metadata": {
    "execution": {
     "iopub.execute_input": "2025-08-19T18:52:12.433079Z",
     "iopub.status.busy": "2025-08-19T18:52:12.431833Z",
     "iopub.status.idle": "2025-08-19T18:52:19.131224Z",
     "shell.execute_reply": "2025-08-19T18:52:19.129818Z"
    },
    "papermill": {
     "duration": 6.716439,
     "end_time": "2025-08-19T18:52:19.132627",
     "exception": false,
     "start_time": "2025-08-19T18:52:12.416188",
     "status": "completed"
    },
    "tags": []
   },
   "outputs": [
    {
     "name": "stdout",
     "output_type": "stream",
     "text": [
      "Stopping execution_time clock.\n",
      "[INFO] Keeping all rows: 89710 rows retained.\n"
     ]
    },
    {
     "name": "stdout",
     "output_type": "stream",
     "text": [
      "[INFO] Keeping all rows: 89710 rows retained.\n"
     ]
    },
    {
     "name": "stdout",
     "output_type": "stream",
     "text": [
      "[INFO] Keeping all rows: 89710 rows retained.\n"
     ]
    },
    {
     "name": "stdout",
     "output_type": "stream",
     "text": [
      "[INFO] Keeping all rows: 89710 rows retained.\n"
     ]
    },
    {
     "data": {
      "text/html": [
       "<div>\n",
       "<style scoped>\n",
       "    .dataframe tbody tr th:only-of-type {\n",
       "        vertical-align: middle;\n",
       "    }\n",
       "\n",
       "    .dataframe tbody tr th {\n",
       "        vertical-align: top;\n",
       "    }\n",
       "\n",
       "    .dataframe thead th {\n",
       "        text-align: right;\n",
       "    }\n",
       "</style>\n",
       "<table border=\"1\" class=\"dataframe\">\n",
       "  <thead>\n",
       "    <tr style=\"text-align: right;\">\n",
       "      <th></th>\n",
       "      <th>run_no</th>\n",
       "      <th>universe_id</th>\n",
       "      <th>universe_settings</th>\n",
       "      <th>execution_time</th>\n",
       "      <th>test_size_n</th>\n",
       "      <th>test_size_frac</th>\n",
       "      <th>fair_main_equalized_odds_difference</th>\n",
       "      <th>fair_main_equalized_odds_ratio</th>\n",
       "      <th>fair_main_demographic_parity_difference</th>\n",
       "      <th>fair_main_demographic_parity_ratio</th>\n",
       "      <th>...</th>\n",
       "      <th>perf_grp_precision_0</th>\n",
       "      <th>perf_grp_precision_1</th>\n",
       "      <th>perf_grp_false positive rate_0</th>\n",
       "      <th>perf_grp_false positive rate_1</th>\n",
       "      <th>perf_grp_false negative rate_0</th>\n",
       "      <th>perf_grp_false negative rate_1</th>\n",
       "      <th>perf_grp_selection rate_0</th>\n",
       "      <th>perf_grp_selection rate_1</th>\n",
       "      <th>perf_grp_count_0</th>\n",
       "      <th>perf_grp_count_1</th>\n",
       "    </tr>\n",
       "  </thead>\n",
       "  <tbody>\n",
       "    <tr>\n",
       "      <th>0</th>\n",
       "      <td>3</td>\n",
       "      <td>1af6cf87beb9989d6e73e4a164af30d0</td>\n",
       "      <td>{\"cutoff\": \"quantile_0.1\", \"eval_fairness_grou...</td>\n",
       "      <td>20.689739</td>\n",
       "      <td>89710</td>\n",
       "      <td>1.0</td>\n",
       "      <td>0.073164</td>\n",
       "      <td>0.922701</td>\n",
       "      <td>0.064721</td>\n",
       "      <td>0.931865</td>\n",
       "      <td>...</td>\n",
       "      <td>NaN</td>\n",
       "      <td>NaN</td>\n",
       "      <td>NaN</td>\n",
       "      <td>NaN</td>\n",
       "      <td>NaN</td>\n",
       "      <td>NaN</td>\n",
       "      <td>NaN</td>\n",
       "      <td>NaN</td>\n",
       "      <td>NaN</td>\n",
       "      <td>NaN</td>\n",
       "    </tr>\n",
       "    <tr>\n",
       "      <th>0</th>\n",
       "      <td>3</td>\n",
       "      <td>1af6cf87beb9989d6e73e4a164af30d0</td>\n",
       "      <td>{\"cutoff\": \"quantile_0.1\", \"eval_fairness_grou...</td>\n",
       "      <td>20.689739</td>\n",
       "      <td>89710</td>\n",
       "      <td>1.0</td>\n",
       "      <td>0.073164</td>\n",
       "      <td>0.922701</td>\n",
       "      <td>0.064721</td>\n",
       "      <td>0.931865</td>\n",
       "      <td>...</td>\n",
       "      <td>0.118446</td>\n",
       "      <td>0.143741</td>\n",
       "      <td>0.946511</td>\n",
       "      <td>0.873347</td>\n",
       "      <td>0.024071</td>\n",
       "      <td>0.037090</td>\n",
       "      <td>0.949903</td>\n",
       "      <td>0.885181</td>\n",
       "      <td>20540.0</td>\n",
       "      <td>69170.0</td>\n",
       "    </tr>\n",
       "    <tr>\n",
       "      <th>0</th>\n",
       "      <td>3</td>\n",
       "      <td>1af6cf87beb9989d6e73e4a164af30d0</td>\n",
       "      <td>{\"cutoff\": \"quantile_0.25\", \"eval_fairness_gro...</td>\n",
       "      <td>20.689739</td>\n",
       "      <td>89710</td>\n",
       "      <td>1.0</td>\n",
       "      <td>0.078103</td>\n",
       "      <td>0.901032</td>\n",
       "      <td>0.067759</td>\n",
       "      <td>0.915537</td>\n",
       "      <td>...</td>\n",
       "      <td>NaN</td>\n",
       "      <td>NaN</td>\n",
       "      <td>NaN</td>\n",
       "      <td>NaN</td>\n",
       "      <td>NaN</td>\n",
       "      <td>NaN</td>\n",
       "      <td>NaN</td>\n",
       "      <td>NaN</td>\n",
       "      <td>NaN</td>\n",
       "      <td>NaN</td>\n",
       "    </tr>\n",
       "    <tr>\n",
       "      <th>0</th>\n",
       "      <td>3</td>\n",
       "      <td>1af6cf87beb9989d6e73e4a164af30d0</td>\n",
       "      <td>{\"cutoff\": \"quantile_0.25\", \"eval_fairness_gro...</td>\n",
       "      <td>20.689739</td>\n",
       "      <td>89710</td>\n",
       "      <td>1.0</td>\n",
       "      <td>0.078103</td>\n",
       "      <td>0.901032</td>\n",
       "      <td>0.067759</td>\n",
       "      <td>0.915537</td>\n",
       "      <td>...</td>\n",
       "      <td>0.129688</td>\n",
       "      <td>0.159791</td>\n",
       "      <td>0.789181</td>\n",
       "      <td>0.711078</td>\n",
       "      <td>0.097551</td>\n",
       "      <td>0.111816</td>\n",
       "      <td>0.802240</td>\n",
       "      <td>0.734480</td>\n",
       "      <td>20540.0</td>\n",
       "      <td>69170.0</td>\n",
       "    </tr>\n",
       "  </tbody>\n",
       "</table>\n",
       "<p>4 rows × 50 columns</p>\n",
       "</div>"
      ],
      "text/plain": [
       "  run_no                       universe_id  \\\n",
       "0      3  1af6cf87beb9989d6e73e4a164af30d0   \n",
       "0      3  1af6cf87beb9989d6e73e4a164af30d0   \n",
       "0      3  1af6cf87beb9989d6e73e4a164af30d0   \n",
       "0      3  1af6cf87beb9989d6e73e4a164af30d0   \n",
       "\n",
       "                                   universe_settings  execution_time  \\\n",
       "0  {\"cutoff\": \"quantile_0.1\", \"eval_fairness_grou...       20.689739   \n",
       "0  {\"cutoff\": \"quantile_0.1\", \"eval_fairness_grou...       20.689739   \n",
       "0  {\"cutoff\": \"quantile_0.25\", \"eval_fairness_gro...       20.689739   \n",
       "0  {\"cutoff\": \"quantile_0.25\", \"eval_fairness_gro...       20.689739   \n",
       "\n",
       "   test_size_n  test_size_frac  fair_main_equalized_odds_difference  \\\n",
       "0        89710             1.0                             0.073164   \n",
       "0        89710             1.0                             0.073164   \n",
       "0        89710             1.0                             0.078103   \n",
       "0        89710             1.0                             0.078103   \n",
       "\n",
       "   fair_main_equalized_odds_ratio  fair_main_demographic_parity_difference  \\\n",
       "0                        0.922701                                 0.064721   \n",
       "0                        0.922701                                 0.064721   \n",
       "0                        0.901032                                 0.067759   \n",
       "0                        0.901032                                 0.067759   \n",
       "\n",
       "   fair_main_demographic_parity_ratio  ...  perf_grp_precision_0  \\\n",
       "0                            0.931865  ...                   NaN   \n",
       "0                            0.931865  ...              0.118446   \n",
       "0                            0.915537  ...                   NaN   \n",
       "0                            0.915537  ...              0.129688   \n",
       "\n",
       "   perf_grp_precision_1  perf_grp_false positive rate_0  \\\n",
       "0                   NaN                             NaN   \n",
       "0              0.143741                        0.946511   \n",
       "0                   NaN                             NaN   \n",
       "0              0.159791                        0.789181   \n",
       "\n",
       "   perf_grp_false positive rate_1  perf_grp_false negative rate_0  \\\n",
       "0                             NaN                             NaN   \n",
       "0                        0.873347                        0.024071   \n",
       "0                             NaN                             NaN   \n",
       "0                        0.711078                        0.097551   \n",
       "\n",
       "   perf_grp_false negative rate_1  perf_grp_selection rate_0  \\\n",
       "0                             NaN                        NaN   \n",
       "0                        0.037090                   0.949903   \n",
       "0                             NaN                        NaN   \n",
       "0                        0.111816                   0.802240   \n",
       "\n",
       "   perf_grp_selection rate_1  perf_grp_count_0  perf_grp_count_1  \n",
       "0                        NaN               NaN               NaN  \n",
       "0                   0.885181           20540.0           69170.0  \n",
       "0                        NaN               NaN               NaN  \n",
       "0                   0.734480           20540.0           69170.0  \n",
       "\n",
       "[4 rows x 50 columns]"
      ]
     },
     "execution_count": 64,
     "metadata": {},
     "output_type": "execute_result"
    }
   ],
   "source": [
    "final_output = universe_analysis.generate_final_output(\n",
    "    y_pred_prob=probs_test,\n",
    "    y_test=y_true,\n",
    "    org_test=org_test,\n",
    "    filter_data=filter_sub_universe_data,\n",
    "    cp_metrics_df=cp_metrics_df,\n",
    "    save=True,\n",
    ")\n",
    "final_output"
   ]
  },
  {
   "cell_type": "code",
   "execution_count": null,
   "id": "8b80a1ff",
   "metadata": {
    "papermill": {
     "duration": 0.030149,
     "end_time": "2025-08-19T18:52:19.198752",
     "exception": false,
     "start_time": "2025-08-19T18:52:19.168603",
     "status": "completed"
    },
    "tags": []
   },
   "outputs": [],
   "source": []
  },
  {
   "cell_type": "code",
   "execution_count": null,
   "id": "275c9fad",
   "metadata": {
    "papermill": {
     "duration": 0.014219,
     "end_time": "2025-08-19T18:52:19.228264",
     "exception": false,
     "start_time": "2025-08-19T18:52:19.214045",
     "status": "completed"
    },
    "tags": []
   },
   "outputs": [],
   "source": []
  }
 ],
 "metadata": {
  "celltoolbar": "Tags",
  "kernelspec": {
   "display_name": "Python (CMA Fairness)",
   "language": "python",
   "name": "cma_fair_env"
  },
  "language_info": {
   "codemirror_mode": {
    "name": "ipython",
    "version": 3
   },
   "file_extension": ".py",
   "mimetype": "text/x-python",
   "name": "python",
   "nbconvert_exporter": "python",
   "pygments_lexer": "ipython3",
   "version": "3.10.12"
  },
  "papermill": {
   "default_parameters": {},
   "duration": 31.393746,
   "end_time": "2025-08-19T18:52:20.064543",
   "environment_variables": {},
   "exception": null,
   "input_path": "universe_analysis.ipynb",
   "output_path": "output/runs/3/notebooks/m_3-1af6cf87beb9989d6e73e4a164af30d0.ipynb",
   "parameters": {
    "output_dir": "output",
    "run_no": "3",
    "seed": "2023",
    "universe": "{\"cutoff\": [\"quantile_0.1\", \"quantile_0.25\"], \"eval_fairness_grouping\": [\"majority-minority\", \"nationality-all\"], \"exclude_features\": \"none\", \"exclude_subgroups\": \"keep-all\", \"model\": \"elasticnet\", \"scale\": \"scale\", \"training_size\": \"1k\", \"training_year\": \"2014\"}",
    "universe_id": "1af6cf87beb9989d6e73e4a164af30d0"
   },
   "start_time": "2025-08-19T18:51:48.670797",
   "version": "2.6.0"
  }
 },
 "nbformat": 4,
 "nbformat_minor": 5
}