{
 "cells": [
  {
   "cell_type": "markdown",
   "id": "ef23dbb3",
   "metadata": {
    "papermill": {
     "duration": 0.022791,
     "end_time": "2025-08-19T18:04:52.345430",
     "exception": false,
     "start_time": "2025-08-19T18:04:52.322639",
     "status": "completed"
    },
    "tags": []
   },
   "source": [
    "# Setup"
   ]
  },
  {
   "cell_type": "code",
   "execution_count": 1,
   "id": "0bc8e7dc",
   "metadata": {
    "execution": {
     "iopub.execute_input": "2025-08-19T18:04:52.368156Z",
     "iopub.status.busy": "2025-08-19T18:04:52.367841Z",
     "iopub.status.idle": "2025-08-19T18:04:52.379850Z",
     "shell.execute_reply": "2025-08-19T18:04:52.378336Z"
    },
    "papermill": {
     "duration": 0.030723,
     "end_time": "2025-08-19T18:04:52.388342",
     "exception": false,
     "start_time": "2025-08-19T18:04:52.357619",
     "status": "completed"
    },
    "tags": []
   },
   "outputs": [
    {
     "name": "stdout",
     "output_type": "stream",
     "text": [
      "/dss/dsshome1/0C/ra93lal2/cma/CMA_Fairness_v2\n"
     ]
    },
    {
     "name": "stderr",
     "output_type": "stream",
     "text": [
      "/dss/dsshome1/0C/ra93lal2/.local/share/virtualenvs/CMA_Fairness_v2-3j10GkSs/lib/python3.10/site-packages/IPython/core/magics/osm.py:393: UserWarning: This is now an optional IPython functionality, using bookmarks requires you to install the `pickleshare` library.\n",
      "  bkms = self.shell.db.get('bookmarks', {})\n",
      "/dss/dsshome1/0C/ra93lal2/.local/share/virtualenvs/CMA_Fairness_v2-3j10GkSs/lib/python3.10/site-packages/IPython/core/magics/osm.py:417: UserWarning: This is now an optional IPython functionality, setting dhist requires you to install the `pickleshare` library.\n",
      "  self.shell.db['dhist'] = compress_dhist(dhist)[-100:]\n"
     ]
    }
   ],
   "source": [
    "%cd ~/cma/CMA_Fairness_v2"
   ]
  },
  {
   "cell_type": "markdown",
   "id": "9d235661",
   "metadata": {
    "papermill": {
     "duration": 0.010234,
     "end_time": "2025-08-19T18:04:52.414768",
     "exception": false,
     "start_time": "2025-08-19T18:04:52.404534",
     "status": "completed"
    },
    "tags": []
   },
   "source": [
    "The following cell holds the definition of our parameters, these values can be overriden by rendering the with e.g. the following command:\n",
    "\n",
    "papermill -p alpha 0.2 -p ratio 0.3 universe_analysis.ipynb output/test_run.ipynb"
   ]
  },
  {
   "cell_type": "code",
   "execution_count": 2,
   "id": "4a789d8e",
   "metadata": {
    "execution": {
     "iopub.execute_input": "2025-08-19T18:04:52.435145Z",
     "iopub.status.busy": "2025-08-19T18:04:52.434214Z",
     "iopub.status.idle": "2025-08-19T18:04:52.441117Z",
     "shell.execute_reply": "2025-08-19T18:04:52.439923Z"
    },
    "papermill": {
     "duration": 0.018818,
     "end_time": "2025-08-19T18:04:52.442600",
     "exception": false,
     "start_time": "2025-08-19T18:04:52.423782",
     "status": "completed"
    },
    "tags": []
   },
   "outputs": [
    {
     "name": "stdout",
     "output_type": "stream",
     "text": [
      "Current working directory: /dss/dsshome1/0C/ra93lal2/cma/CMA_Fairness_v2\n"
     ]
    }
   ],
   "source": [
    "import os\n",
    "print(\"Current working directory:\", os.getcwd())"
   ]
  },
  {
   "cell_type": "code",
   "execution_count": 3,
   "id": "4132aaed",
   "metadata": {
    "execution": {
     "iopub.execute_input": "2025-08-19T18:04:52.463418Z",
     "iopub.status.busy": "2025-08-19T18:04:52.462511Z",
     "iopub.status.idle": "2025-08-19T18:04:52.471365Z",
     "shell.execute_reply": "2025-08-19T18:04:52.470120Z"
    },
    "papermill": {
     "duration": 0.021016,
     "end_time": "2025-08-19T18:04:52.473086",
     "exception": false,
     "start_time": "2025-08-19T18:04:52.452070",
     "status": "completed"
    },
    "tags": [
     "parameters"
    ]
   },
   "outputs": [],
   "source": [
    "run_no = 0\n",
    "universe_id = \"test\"\n",
    "universe = {\n",
    "    \"training_size\": \"5k\", # \"25k\", \"5k\", \"1k\"\n",
    "    \"training_year\": \"2012_14\", # \"2014\", \"2012_14\", \"2010_14\"\n",
    "    \"scale\": \"scale\", # \"scale\", \"do-not-scale\",\n",
    "    \"model\": \"elasticnet\", # \"logreg\", \"penalized_logreg\", \"rf\", \"gbm\", \"elasticnet\"\n",
    "    \"cutoff\": [\"quantile_0.15\", \"quantile_0.30\"],\n",
    "    \"exclude_features\": \"age\", # \"none\", \"nationality\", \"sex\", \"nationality-sex\", \"age\"\n",
    "    \"exclude_subgroups\": \"drop-non-german\", # \"keep-all\", \"drop-non-german\"\n",
    "    \"eval_fairness_grouping\": [\"majority-minority\", \"nationality-all\"]\n",
    "}\n",
    "\n",
    "output_dir=\"./output\"\n",
    "seed=0"
   ]
  },
  {
   "cell_type": "code",
   "execution_count": 4,
   "id": "aa3aeeb8",
   "metadata": {
    "execution": {
     "iopub.execute_input": "2025-08-19T18:04:52.497160Z",
     "iopub.status.busy": "2025-08-19T18:04:52.496120Z",
     "iopub.status.idle": "2025-08-19T18:04:52.503611Z",
     "shell.execute_reply": "2025-08-19T18:04:52.502287Z"
    },
    "papermill": {
     "duration": 0.019955,
     "end_time": "2025-08-19T18:04:52.505329",
     "exception": false,
     "start_time": "2025-08-19T18:04:52.485374",
     "status": "completed"
    },
    "tags": [
     "injected-parameters"
    ]
   },
   "outputs": [],
   "source": [
    "# Parameters\n",
    "universe_id = \"4df5ac6e0876bbdcd925702f00c597ff\"\n",
    "run_no = \"3\"\n",
    "universe = \"{\\\"cutoff\\\": [\\\"quantile_0.1\\\", \\\"quantile_0.25\\\"], \\\"eval_fairness_grouping\\\": [\\\"majority-minority\\\", \\\"nationality-all\\\"], \\\"exclude_features\\\": \\\"nationality-sex\\\", \\\"exclude_subgroups\\\": \\\"keep-all\\\", \\\"model\\\": \\\"rf\\\", \\\"scale\\\": \\\"scale\\\", \\\"training_size\\\": \\\"25k\\\", \\\"training_year\\\": \\\"2012_14\\\"}\"\n",
    "output_dir = \"output\"\n",
    "seed = \"2023\"\n"
   ]
  },
  {
   "cell_type": "code",
   "execution_count": 5,
   "id": "a5d7941f",
   "metadata": {
    "execution": {
     "iopub.execute_input": "2025-08-19T18:04:52.528940Z",
     "iopub.status.busy": "2025-08-19T18:04:52.527704Z",
     "iopub.status.idle": "2025-08-19T18:04:52.546528Z",
     "shell.execute_reply": "2025-08-19T18:04:52.534236Z"
    },
    "papermill": {
     "duration": 0.03405,
     "end_time": "2025-08-19T18:04:52.550306",
     "exception": false,
     "start_time": "2025-08-19T18:04:52.516256",
     "status": "completed"
    },
    "tags": []
   },
   "outputs": [],
   "source": [
    "import json\n",
    "if isinstance(universe, str):\n",
    "    universe = json.loads(universe)"
   ]
  },
  {
   "cell_type": "code",
   "execution_count": 6,
   "id": "7076ccb1",
   "metadata": {
    "execution": {
     "iopub.execute_input": "2025-08-19T18:04:52.583710Z",
     "iopub.status.busy": "2025-08-19T18:04:52.583305Z",
     "iopub.status.idle": "2025-08-19T18:04:52.617153Z",
     "shell.execute_reply": "2025-08-19T18:04:52.616453Z"
    },
    "papermill": {
     "duration": 0.047403,
     "end_time": "2025-08-19T18:04:52.618439",
     "exception": false,
     "start_time": "2025-08-19T18:04:52.571036",
     "status": "completed"
    },
    "tags": []
   },
   "outputs": [],
   "source": [
    "# Auto-reload the custom package\n",
    "%load_ext autoreload\n",
    "%autoreload 1\n",
    "%aimport fairness_multiverse"
   ]
  },
  {
   "cell_type": "code",
   "execution_count": 7,
   "id": "94c8eb93",
   "metadata": {
    "execution": {
     "iopub.execute_input": "2025-08-19T18:04:52.638535Z",
     "iopub.status.busy": "2025-08-19T18:04:52.637849Z",
     "iopub.status.idle": "2025-08-19T18:04:54.170744Z",
     "shell.execute_reply": "2025-08-19T18:04:54.169936Z"
    },
    "papermill": {
     "duration": 1.544644,
     "end_time": "2025-08-19T18:04:54.172265",
     "exception": false,
     "start_time": "2025-08-19T18:04:52.627621",
     "status": "completed"
    },
    "tags": []
   },
   "outputs": [],
   "source": [
    "from fairness_multiverse.universe import UniverseAnalysis\n",
    "\n",
    "universe_analysis = UniverseAnalysis(\n",
    "    run_no = run_no,\n",
    "    universe_id = universe_id,\n",
    "    universe = universe,\n",
    "    output_dir=output_dir,\n",
    ")"
   ]
  },
  {
   "cell_type": "code",
   "execution_count": 8,
   "id": "2a6381cf",
   "metadata": {
    "execution": {
     "iopub.execute_input": "2025-08-19T18:04:54.193755Z",
     "iopub.status.busy": "2025-08-19T18:04:54.192269Z",
     "iopub.status.idle": "2025-08-19T18:04:54.202709Z",
     "shell.execute_reply": "2025-08-19T18:04:54.201515Z"
    },
    "papermill": {
     "duration": 0.022511,
     "end_time": "2025-08-19T18:04:54.204165",
     "exception": false,
     "start_time": "2025-08-19T18:04:54.181654",
     "status": "completed"
    },
    "tags": []
   },
   "outputs": [
    {
     "name": "stdout",
     "output_type": "stream",
     "text": [
      "Using Seed: 2023\n"
     ]
    }
   ],
   "source": [
    "import numpy as np\n",
    "parsed_seed = int(seed)\n",
    "np.random.seed(parsed_seed)\n",
    "print(f\"Using Seed: {parsed_seed}\")"
   ]
  },
  {
   "cell_type": "markdown",
   "id": "b6e958b4",
   "metadata": {
    "papermill": {
     "duration": 0.009871,
     "end_time": "2025-08-19T18:04:54.225801",
     "exception": false,
     "start_time": "2025-08-19T18:04:54.215930",
     "status": "completed"
    },
    "tags": []
   },
   "source": [
    "# Loading Data"
   ]
  },
  {
   "cell_type": "code",
   "execution_count": 9,
   "id": "98701482",
   "metadata": {
    "execution": {
     "iopub.execute_input": "2025-08-19T18:04:54.246264Z",
     "iopub.status.busy": "2025-08-19T18:04:54.245249Z",
     "iopub.status.idle": "2025-08-19T18:05:04.231077Z",
     "shell.execute_reply": "2025-08-19T18:05:04.230112Z"
    },
    "papermill": {
     "duration": 9.997965,
     "end_time": "2025-08-19T18:05:04.232709",
     "exception": false,
     "start_time": "2025-08-19T18:04:54.234744",
     "status": "completed"
    },
    "tags": []
   },
   "outputs": [
    {
     "name": "stdout",
     "output_type": "stream",
     "text": [
      "Loading SIAB data from cache: data/siab_cached.csv.gz\n"
     ]
    },
    {
     "name": "stdout",
     "output_type": "stream",
     "text": [
      "(643690, 164)\n"
     ]
    }
   ],
   "source": [
    "from pathlib import Path\n",
    "import pandas as pd\n",
    "\n",
    "# File paths\n",
    "raw_file = Path(\"data/raw/siab.csv\")\n",
    "cache_file = Path(\"data/siab_cached.csv.gz\")\n",
    "\n",
    "# Ensure cache directory exists\n",
    "cache_file.parent.mkdir(parents=True, exist_ok=True)\n",
    "\n",
    "# Load with simple caching\n",
    "if cache_file.exists():\n",
    "    print(f\"Loading SIAB data from cache: {cache_file}\")\n",
    "    siab = pd.read_csv(cache_file, compression='gzip')\n",
    "else:\n",
    "    print(f\"Cache not found. Reading raw SIAB data: {raw_file}\")\n",
    "    siab = pd.read_csv(raw_file)\n",
    "    siab.to_csv(cache_file, index=False, compression='gzip')\n",
    "    print(f\"Cached SIAB data to: {cache_file}\")\n",
    "\n",
    "print(siab.shape)"
   ]
  },
  {
   "cell_type": "code",
   "execution_count": 10,
   "id": "058d2abb",
   "metadata": {
    "execution": {
     "iopub.execute_input": "2025-08-19T18:05:04.260079Z",
     "iopub.status.busy": "2025-08-19T18:05:04.259309Z",
     "iopub.status.idle": "2025-08-19T18:05:04.392581Z",
     "shell.execute_reply": "2025-08-19T18:05:04.391820Z"
    },
    "papermill": {
     "duration": 0.148757,
     "end_time": "2025-08-19T18:05:04.395319",
     "exception": false,
     "start_time": "2025-08-19T18:05:04.246562",
     "status": "completed"
    },
    "tags": []
   },
   "outputs": [
    {
     "data": {
      "text/html": [
       "<div>\n",
       "<style scoped>\n",
       "    .dataframe tbody tr th:only-of-type {\n",
       "        vertical-align: middle;\n",
       "    }\n",
       "\n",
       "    .dataframe tbody tr th {\n",
       "        vertical-align: top;\n",
       "    }\n",
       "\n",
       "    .dataframe thead th {\n",
       "        text-align: right;\n",
       "    }\n",
       "</style>\n",
       "<table border=\"1\" class=\"dataframe\">\n",
       "  <thead>\n",
       "    <tr style=\"text-align: right;\">\n",
       "      <th></th>\n",
       "      <th>persnr</th>\n",
       "      <th>year</th>\n",
       "      <th>nrEntry</th>\n",
       "      <th>ltue</th>\n",
       "      <th>employed_before</th>\n",
       "      <th>receipt_leh_before</th>\n",
       "      <th>receipt_lhg_before</th>\n",
       "      <th>se_before</th>\n",
       "      <th>ASU_notue_seeking_before</th>\n",
       "      <th>ASU_other_before</th>\n",
       "      <th>...</th>\n",
       "      <th>minijob_tot_dur_byage</th>\n",
       "      <th>ft_tot_dur_byage</th>\n",
       "      <th>befrist_tot_dur_byage</th>\n",
       "      <th>leih_tot_dur_byage</th>\n",
       "      <th>LHG_tot_dur_byage</th>\n",
       "      <th>LEH_tot_dur_byage</th>\n",
       "      <th>almp_tot_dur_byage</th>\n",
       "      <th>almp_aw_tot_dur_byage</th>\n",
       "      <th>se_tot_dur_byage</th>\n",
       "      <th>seeking1_tot_dur_byage</th>\n",
       "    </tr>\n",
       "  </thead>\n",
       "  <tbody>\n",
       "    <tr>\n",
       "      <th>0</th>\n",
       "      <td>7</td>\n",
       "      <td>2015</td>\n",
       "      <td>1</td>\n",
       "      <td>0</td>\n",
       "      <td>1</td>\n",
       "      <td>0</td>\n",
       "      <td>0</td>\n",
       "      <td>0</td>\n",
       "      <td>1</td>\n",
       "      <td>0</td>\n",
       "      <td>...</td>\n",
       "      <td>0.000000</td>\n",
       "      <td>0.000000</td>\n",
       "      <td>15.043478</td>\n",
       "      <td>0.000000</td>\n",
       "      <td>0.000000</td>\n",
       "      <td>0.000000</td>\n",
       "      <td>0.000000</td>\n",
       "      <td>0.000000</td>\n",
       "      <td>0.000000</td>\n",
       "      <td>0.000000</td>\n",
       "    </tr>\n",
       "    <tr>\n",
       "      <th>1</th>\n",
       "      <td>18</td>\n",
       "      <td>2010</td>\n",
       "      <td>1</td>\n",
       "      <td>1</td>\n",
       "      <td>0</td>\n",
       "      <td>0</td>\n",
       "      <td>0</td>\n",
       "      <td>0</td>\n",
       "      <td>0</td>\n",
       "      <td>0</td>\n",
       "      <td>...</td>\n",
       "      <td>0.000000</td>\n",
       "      <td>0.000000</td>\n",
       "      <td>0.000000</td>\n",
       "      <td>0.000000</td>\n",
       "      <td>0.000000</td>\n",
       "      <td>0.000000</td>\n",
       "      <td>0.000000</td>\n",
       "      <td>0.000000</td>\n",
       "      <td>0.000000</td>\n",
       "      <td>0.000000</td>\n",
       "    </tr>\n",
       "    <tr>\n",
       "      <th>2</th>\n",
       "      <td>18</td>\n",
       "      <td>2011</td>\n",
       "      <td>2</td>\n",
       "      <td>0</td>\n",
       "      <td>1</td>\n",
       "      <td>0</td>\n",
       "      <td>1</td>\n",
       "      <td>0</td>\n",
       "      <td>1</td>\n",
       "      <td>0</td>\n",
       "      <td>...</td>\n",
       "      <td>2.714286</td>\n",
       "      <td>2.714286</td>\n",
       "      <td>0.000000</td>\n",
       "      <td>0.000000</td>\n",
       "      <td>10.775510</td>\n",
       "      <td>0.000000</td>\n",
       "      <td>8.367347</td>\n",
       "      <td>0.000000</td>\n",
       "      <td>0.000000</td>\n",
       "      <td>9.836735</td>\n",
       "    </tr>\n",
       "    <tr>\n",
       "      <th>3</th>\n",
       "      <td>18</td>\n",
       "      <td>2012</td>\n",
       "      <td>3</td>\n",
       "      <td>0</td>\n",
       "      <td>1</td>\n",
       "      <td>0</td>\n",
       "      <td>1</td>\n",
       "      <td>0</td>\n",
       "      <td>1</td>\n",
       "      <td>0</td>\n",
       "      <td>...</td>\n",
       "      <td>4.200000</td>\n",
       "      <td>4.200000</td>\n",
       "      <td>0.000000</td>\n",
       "      <td>0.000000</td>\n",
       "      <td>12.100000</td>\n",
       "      <td>0.000000</td>\n",
       "      <td>9.400000</td>\n",
       "      <td>0.000000</td>\n",
       "      <td>0.000000</td>\n",
       "      <td>9.960000</td>\n",
       "    </tr>\n",
       "    <tr>\n",
       "      <th>4</th>\n",
       "      <td>18</td>\n",
       "      <td>2012</td>\n",
       "      <td>4</td>\n",
       "      <td>0</td>\n",
       "      <td>1</td>\n",
       "      <td>0</td>\n",
       "      <td>1</td>\n",
       "      <td>0</td>\n",
       "      <td>1</td>\n",
       "      <td>0</td>\n",
       "      <td>...</td>\n",
       "      <td>5.460000</td>\n",
       "      <td>5.460000</td>\n",
       "      <td>0.000000</td>\n",
       "      <td>0.000000</td>\n",
       "      <td>13.360000</td>\n",
       "      <td>0.000000</td>\n",
       "      <td>10.320000</td>\n",
       "      <td>0.000000</td>\n",
       "      <td>0.000000</td>\n",
       "      <td>10.280000</td>\n",
       "    </tr>\n",
       "    <tr>\n",
       "      <th>...</th>\n",
       "      <td>...</td>\n",
       "      <td>...</td>\n",
       "      <td>...</td>\n",
       "      <td>...</td>\n",
       "      <td>...</td>\n",
       "      <td>...</td>\n",
       "      <td>...</td>\n",
       "      <td>...</td>\n",
       "      <td>...</td>\n",
       "      <td>...</td>\n",
       "      <td>...</td>\n",
       "      <td>...</td>\n",
       "      <td>...</td>\n",
       "      <td>...</td>\n",
       "      <td>...</td>\n",
       "      <td>...</td>\n",
       "      <td>...</td>\n",
       "      <td>...</td>\n",
       "      <td>...</td>\n",
       "      <td>...</td>\n",
       "      <td>...</td>\n",
       "    </tr>\n",
       "    <tr>\n",
       "      <th>643685</th>\n",
       "      <td>1827860</td>\n",
       "      <td>2013</td>\n",
       "      <td>1</td>\n",
       "      <td>0</td>\n",
       "      <td>0</td>\n",
       "      <td>0</td>\n",
       "      <td>1</td>\n",
       "      <td>0</td>\n",
       "      <td>0</td>\n",
       "      <td>1</td>\n",
       "      <td>...</td>\n",
       "      <td>0.000000</td>\n",
       "      <td>0.000000</td>\n",
       "      <td>0.000000</td>\n",
       "      <td>0.000000</td>\n",
       "      <td>0.612903</td>\n",
       "      <td>0.000000</td>\n",
       "      <td>0.000000</td>\n",
       "      <td>0.000000</td>\n",
       "      <td>0.000000</td>\n",
       "      <td>0.000000</td>\n",
       "    </tr>\n",
       "    <tr>\n",
       "      <th>643686</th>\n",
       "      <td>1827860</td>\n",
       "      <td>2015</td>\n",
       "      <td>2</td>\n",
       "      <td>1</td>\n",
       "      <td>0</td>\n",
       "      <td>0</td>\n",
       "      <td>1</td>\n",
       "      <td>0</td>\n",
       "      <td>1</td>\n",
       "      <td>0</td>\n",
       "      <td>...</td>\n",
       "      <td>0.000000</td>\n",
       "      <td>0.000000</td>\n",
       "      <td>0.212121</td>\n",
       "      <td>0.212121</td>\n",
       "      <td>17.363636</td>\n",
       "      <td>0.000000</td>\n",
       "      <td>8.909091</td>\n",
       "      <td>0.000000</td>\n",
       "      <td>0.000000</td>\n",
       "      <td>7.121212</td>\n",
       "    </tr>\n",
       "    <tr>\n",
       "      <th>643687</th>\n",
       "      <td>1827860</td>\n",
       "      <td>2016</td>\n",
       "      <td>3</td>\n",
       "      <td>1</td>\n",
       "      <td>0</td>\n",
       "      <td>0</td>\n",
       "      <td>1</td>\n",
       "      <td>1</td>\n",
       "      <td>0</td>\n",
       "      <td>1</td>\n",
       "      <td>...</td>\n",
       "      <td>0.000000</td>\n",
       "      <td>0.000000</td>\n",
       "      <td>0.294118</td>\n",
       "      <td>0.205882</td>\n",
       "      <td>34.705882</td>\n",
       "      <td>0.000000</td>\n",
       "      <td>10.352941</td>\n",
       "      <td>1.705882</td>\n",
       "      <td>1.705882</td>\n",
       "      <td>23.911765</td>\n",
       "    </tr>\n",
       "    <tr>\n",
       "      <th>643688</th>\n",
       "      <td>1827869</td>\n",
       "      <td>2013</td>\n",
       "      <td>1</td>\n",
       "      <td>1</td>\n",
       "      <td>1</td>\n",
       "      <td>0</td>\n",
       "      <td>0</td>\n",
       "      <td>0</td>\n",
       "      <td>1</td>\n",
       "      <td>0</td>\n",
       "      <td>...</td>\n",
       "      <td>0.000000</td>\n",
       "      <td>0.000000</td>\n",
       "      <td>0.000000</td>\n",
       "      <td>0.000000</td>\n",
       "      <td>0.000000</td>\n",
       "      <td>0.525424</td>\n",
       "      <td>0.000000</td>\n",
       "      <td>0.000000</td>\n",
       "      <td>0.000000</td>\n",
       "      <td>0.000000</td>\n",
       "    </tr>\n",
       "    <tr>\n",
       "      <th>643689</th>\n",
       "      <td>1827869</td>\n",
       "      <td>2014</td>\n",
       "      <td>2</td>\n",
       "      <td>0</td>\n",
       "      <td>0</td>\n",
       "      <td>1</td>\n",
       "      <td>0</td>\n",
       "      <td>0</td>\n",
       "      <td>1</td>\n",
       "      <td>0</td>\n",
       "      <td>...</td>\n",
       "      <td>0.000000</td>\n",
       "      <td>0.666667</td>\n",
       "      <td>0.666667</td>\n",
       "      <td>0.000000</td>\n",
       "      <td>0.000000</td>\n",
       "      <td>8.950000</td>\n",
       "      <td>1.033333</td>\n",
       "      <td>0.083333</td>\n",
       "      <td>0.083333</td>\n",
       "      <td>8.133333</td>\n",
       "    </tr>\n",
       "  </tbody>\n",
       "</table>\n",
       "<p>643690 rows × 164 columns</p>\n",
       "</div>"
      ],
      "text/plain": [
       "         persnr  year  nrEntry  ltue  employed_before  receipt_leh_before  \\\n",
       "0             7  2015        1     0                1                   0   \n",
       "1            18  2010        1     1                0                   0   \n",
       "2            18  2011        2     0                1                   0   \n",
       "3            18  2012        3     0                1                   0   \n",
       "4            18  2012        4     0                1                   0   \n",
       "...         ...   ...      ...   ...              ...                 ...   \n",
       "643685  1827860  2013        1     0                0                   0   \n",
       "643686  1827860  2015        2     1                0                   0   \n",
       "643687  1827860  2016        3     1                0                   0   \n",
       "643688  1827869  2013        1     1                1                   0   \n",
       "643689  1827869  2014        2     0                0                   1   \n",
       "\n",
       "        receipt_lhg_before  se_before  ASU_notue_seeking_before  \\\n",
       "0                        0          0                         1   \n",
       "1                        0          0                         0   \n",
       "2                        1          0                         1   \n",
       "3                        1          0                         1   \n",
       "4                        1          0                         1   \n",
       "...                    ...        ...                       ...   \n",
       "643685                   1          0                         0   \n",
       "643686                   1          0                         1   \n",
       "643687                   1          1                         0   \n",
       "643688                   0          0                         1   \n",
       "643689                   0          0                         1   \n",
       "\n",
       "        ASU_other_before  ...  minijob_tot_dur_byage  ft_tot_dur_byage  \\\n",
       "0                      0  ...               0.000000          0.000000   \n",
       "1                      0  ...               0.000000          0.000000   \n",
       "2                      0  ...               2.714286          2.714286   \n",
       "3                      0  ...               4.200000          4.200000   \n",
       "4                      0  ...               5.460000          5.460000   \n",
       "...                  ...  ...                    ...               ...   \n",
       "643685                 1  ...               0.000000          0.000000   \n",
       "643686                 0  ...               0.000000          0.000000   \n",
       "643687                 1  ...               0.000000          0.000000   \n",
       "643688                 0  ...               0.000000          0.000000   \n",
       "643689                 0  ...               0.000000          0.666667   \n",
       "\n",
       "        befrist_tot_dur_byage  leih_tot_dur_byage  LHG_tot_dur_byage  \\\n",
       "0                   15.043478            0.000000           0.000000   \n",
       "1                    0.000000            0.000000           0.000000   \n",
       "2                    0.000000            0.000000          10.775510   \n",
       "3                    0.000000            0.000000          12.100000   \n",
       "4                    0.000000            0.000000          13.360000   \n",
       "...                       ...                 ...                ...   \n",
       "643685               0.000000            0.000000           0.612903   \n",
       "643686               0.212121            0.212121          17.363636   \n",
       "643687               0.294118            0.205882          34.705882   \n",
       "643688               0.000000            0.000000           0.000000   \n",
       "643689               0.666667            0.000000           0.000000   \n",
       "\n",
       "        LEH_tot_dur_byage  almp_tot_dur_byage  almp_aw_tot_dur_byage  \\\n",
       "0                0.000000            0.000000               0.000000   \n",
       "1                0.000000            0.000000               0.000000   \n",
       "2                0.000000            8.367347               0.000000   \n",
       "3                0.000000            9.400000               0.000000   \n",
       "4                0.000000           10.320000               0.000000   \n",
       "...                   ...                 ...                    ...   \n",
       "643685           0.000000            0.000000               0.000000   \n",
       "643686           0.000000            8.909091               0.000000   \n",
       "643687           0.000000           10.352941               1.705882   \n",
       "643688           0.525424            0.000000               0.000000   \n",
       "643689           8.950000            1.033333               0.083333   \n",
       "\n",
       "        se_tot_dur_byage  seeking1_tot_dur_byage  \n",
       "0               0.000000                0.000000  \n",
       "1               0.000000                0.000000  \n",
       "2               0.000000                9.836735  \n",
       "3               0.000000                9.960000  \n",
       "4               0.000000               10.280000  \n",
       "...                  ...                     ...  \n",
       "643685          0.000000                0.000000  \n",
       "643686          0.000000                7.121212  \n",
       "643687          1.705882               23.911765  \n",
       "643688          0.000000                0.000000  \n",
       "643689          0.083333                8.133333  \n",
       "\n",
       "[643690 rows x 164 columns]"
      ]
     },
     "execution_count": 10,
     "metadata": {},
     "output_type": "execute_result"
    }
   ],
   "source": [
    "siab"
   ]
  },
  {
   "cell_type": "markdown",
   "id": "1f87e805",
   "metadata": {
    "papermill": {
     "duration": 0.01172,
     "end_time": "2025-08-19T18:05:04.429295",
     "exception": false,
     "start_time": "2025-08-19T18:05:04.417575",
     "status": "completed"
    },
    "tags": []
   },
   "source": [
    "# Splitting Data and Setting Training Data Size"
   ]
  },
  {
   "cell_type": "code",
   "execution_count": 11,
   "id": "910ae358",
   "metadata": {
    "execution": {
     "iopub.execute_input": "2025-08-19T18:05:04.450751Z",
     "iopub.status.busy": "2025-08-19T18:05:04.449613Z",
     "iopub.status.idle": "2025-08-19T18:05:05.166954Z",
     "shell.execute_reply": "2025-08-19T18:05:05.166111Z"
    },
    "papermill": {
     "duration": 0.729848,
     "end_time": "2025-08-19T18:05:05.168544",
     "exception": false,
     "start_time": "2025-08-19T18:05:04.438696",
     "status": "completed"
    },
    "tags": []
   },
   "outputs": [],
   "source": [
    "from fairness_multiverse.universe import sample_by_year_size\n",
    "\n",
    "siab_train = sample_by_year_size(siab,\n",
    "                               training_year=universe[\"training_year\"],\n",
    "                               training_size=universe[\"training_size\"])"
   ]
  },
  {
   "cell_type": "code",
   "execution_count": 12,
   "id": "919c8ff5",
   "metadata": {
    "execution": {
     "iopub.execute_input": "2025-08-19T18:05:05.191559Z",
     "iopub.status.busy": "2025-08-19T18:05:05.190715Z",
     "iopub.status.idle": "2025-08-19T18:05:05.198173Z",
     "shell.execute_reply": "2025-08-19T18:05:05.197155Z"
    },
    "papermill": {
     "duration": 0.024106,
     "end_time": "2025-08-19T18:05:05.204119",
     "exception": false,
     "start_time": "2025-08-19T18:05:05.180013",
     "status": "completed"
    },
    "tags": []
   },
   "outputs": [
    {
     "data": {
      "text/plain": [
       "(25000, 164)"
      ]
     },
     "execution_count": 12,
     "metadata": {},
     "output_type": "execute_result"
    }
   ],
   "source": [
    "siab_train.shape"
   ]
  },
  {
   "cell_type": "code",
   "execution_count": 13,
   "id": "feb13bf4",
   "metadata": {
    "execution": {
     "iopub.execute_input": "2025-08-19T18:05:05.226588Z",
     "iopub.status.busy": "2025-08-19T18:05:05.225025Z",
     "iopub.status.idle": "2025-08-19T18:05:05.239060Z",
     "shell.execute_reply": "2025-08-19T18:05:05.238073Z"
    },
    "papermill": {
     "duration": 0.026721,
     "end_time": "2025-08-19T18:05:05.240576",
     "exception": false,
     "start_time": "2025-08-19T18:05:05.213855",
     "status": "completed"
    },
    "tags": []
   },
   "outputs": [
    {
     "data": {
      "text/plain": [
       "year\n",
       "2012    8334\n",
       "2013    8333\n",
       "2014    8333\n",
       "dtype: int64"
      ]
     },
     "metadata": {},
     "output_type": "display_data"
    }
   ],
   "source": [
    "display(siab_train.groupby(\"year\").size())"
   ]
  },
  {
   "cell_type": "code",
   "execution_count": 14,
   "id": "0997782f",
   "metadata": {
    "execution": {
     "iopub.execute_input": "2025-08-19T18:05:05.269137Z",
     "iopub.status.busy": "2025-08-19T18:05:05.268535Z",
     "iopub.status.idle": "2025-08-19T18:05:05.539902Z",
     "shell.execute_reply": "2025-08-19T18:05:05.538972Z"
    },
    "papermill": {
     "duration": 0.286172,
     "end_time": "2025-08-19T18:05:05.542535",
     "exception": false,
     "start_time": "2025-08-19T18:05:05.256363",
     "status": "completed"
    },
    "tags": []
   },
   "outputs": [],
   "source": [
    "#siab_train = siab_s[siab_s.year < 2015]\n",
    "siab_calib = siab[siab.year == 2015]\n",
    "siab_test = siab[siab.year == 2016]"
   ]
  },
  {
   "cell_type": "code",
   "execution_count": 15,
   "id": "2c1e4012",
   "metadata": {
    "execution": {
     "iopub.execute_input": "2025-08-19T18:05:05.583203Z",
     "iopub.status.busy": "2025-08-19T18:05:05.581779Z",
     "iopub.status.idle": "2025-08-19T18:05:05.598539Z",
     "shell.execute_reply": "2025-08-19T18:05:05.597708Z"
    },
    "papermill": {
     "duration": 0.032388,
     "end_time": "2025-08-19T18:05:05.600106",
     "exception": false,
     "start_time": "2025-08-19T18:05:05.567718",
     "status": "completed"
    },
    "tags": []
   },
   "outputs": [],
   "source": [
    "#siab_calib.shape"
   ]
  },
  {
   "cell_type": "code",
   "execution_count": 16,
   "id": "f66b54ca",
   "metadata": {
    "execution": {
     "iopub.execute_input": "2025-08-19T18:05:05.626491Z",
     "iopub.status.busy": "2025-08-19T18:05:05.626102Z",
     "iopub.status.idle": "2025-08-19T18:05:05.630111Z",
     "shell.execute_reply": "2025-08-19T18:05:05.629413Z"
    },
    "papermill": {
     "duration": 0.016952,
     "end_time": "2025-08-19T18:05:05.631212",
     "exception": false,
     "start_time": "2025-08-19T18:05:05.614260",
     "status": "completed"
    },
    "tags": []
   },
   "outputs": [],
   "source": [
    "#siab_test.shape"
   ]
  },
  {
   "cell_type": "code",
   "execution_count": 17,
   "id": "27e4384d",
   "metadata": {
    "execution": {
     "iopub.execute_input": "2025-08-19T18:05:05.652299Z",
     "iopub.status.busy": "2025-08-19T18:05:05.651932Z",
     "iopub.status.idle": "2025-08-19T18:05:05.664537Z",
     "shell.execute_reply": "2025-08-19T18:05:05.663765Z"
    },
    "papermill": {
     "duration": 0.024697,
     "end_time": "2025-08-19T18:05:05.665927",
     "exception": false,
     "start_time": "2025-08-19T18:05:05.641230",
     "status": "completed"
    },
    "tags": []
   },
   "outputs": [],
   "source": [
    "X_train = siab_train.iloc[:,4:164]\n",
    "y_train = siab_train.iloc[:, [3]]"
   ]
  },
  {
   "cell_type": "code",
   "execution_count": 18,
   "id": "08ee8389",
   "metadata": {
    "execution": {
     "iopub.execute_input": "2025-08-19T18:05:05.709420Z",
     "iopub.status.busy": "2025-08-19T18:05:05.707967Z",
     "iopub.status.idle": "2025-08-19T18:05:05.763017Z",
     "shell.execute_reply": "2025-08-19T18:05:05.762252Z"
    },
    "papermill": {
     "duration": 0.086977,
     "end_time": "2025-08-19T18:05:05.765908",
     "exception": false,
     "start_time": "2025-08-19T18:05:05.678931",
     "status": "completed"
    },
    "tags": []
   },
   "outputs": [],
   "source": [
    "X_calib = siab_calib.iloc[:,4:164]\n",
    "y_calib = siab_calib.iloc[:, [3]]"
   ]
  },
  {
   "cell_type": "code",
   "execution_count": 19,
   "id": "b7ff42e0",
   "metadata": {
    "execution": {
     "iopub.execute_input": "2025-08-19T18:05:05.814098Z",
     "iopub.status.busy": "2025-08-19T18:05:05.812967Z",
     "iopub.status.idle": "2025-08-19T18:05:05.869303Z",
     "shell.execute_reply": "2025-08-19T18:05:05.868510Z"
    },
    "papermill": {
     "duration": 0.082271,
     "end_time": "2025-08-19T18:05:05.871346",
     "exception": false,
     "start_time": "2025-08-19T18:05:05.789075",
     "status": "completed"
    },
    "tags": []
   },
   "outputs": [],
   "source": [
    "X_test = siab_test.iloc[:,4:164]\n",
    "y_true = siab_test.iloc[:, [3]]"
   ]
  },
  {
   "cell_type": "code",
   "execution_count": 20,
   "id": "0275101e",
   "metadata": {
    "execution": {
     "iopub.execute_input": "2025-08-19T18:05:05.894047Z",
     "iopub.status.busy": "2025-08-19T18:05:05.893665Z",
     "iopub.status.idle": "2025-08-19T18:05:06.001402Z",
     "shell.execute_reply": "2025-08-19T18:05:06.000626Z"
    },
    "papermill": {
     "duration": 0.12051,
     "end_time": "2025-08-19T18:05:06.003082",
     "exception": false,
     "start_time": "2025-08-19T18:05:05.882572",
     "status": "completed"
    },
    "tags": []
   },
   "outputs": [],
   "source": [
    "# Auxiliary data needed downstream in the pipeline\n",
    "\n",
    "org_train = X_train.copy()\n",
    "org_test = X_test.copy()\n",
    "org_calib = X_calib.copy()"
   ]
  },
  {
   "cell_type": "markdown",
   "id": "b461e618",
   "metadata": {
    "papermill": {
     "duration": 0.010203,
     "end_time": "2025-08-19T18:05:06.024092",
     "exception": false,
     "start_time": "2025-08-19T18:05:06.013889",
     "status": "completed"
    },
    "tags": []
   },
   "source": [
    "# Preprocessing Data"
   ]
  },
  {
   "cell_type": "code",
   "execution_count": 21,
   "id": "78e74c4b",
   "metadata": {
    "execution": {
     "iopub.execute_input": "2025-08-19T18:05:06.045626Z",
     "iopub.status.busy": "2025-08-19T18:05:06.045222Z",
     "iopub.status.idle": "2025-08-19T18:05:06.049803Z",
     "shell.execute_reply": "2025-08-19T18:05:06.049106Z"
    },
    "papermill": {
     "duration": 0.016973,
     "end_time": "2025-08-19T18:05:06.051164",
     "exception": false,
     "start_time": "2025-08-19T18:05:06.034191",
     "status": "completed"
    },
    "tags": []
   },
   "outputs": [],
   "source": [
    "# EXCLUDE PROTECTED FEATURES\n",
    "# --------------------------\n",
    "\n",
    "excluded_features = universe[\"exclude_features\"].split(\"-\")\n",
    "excluded_features_dictionary = {\n",
    "    \"nationality\": [\"maxdeutsch1\", \"maxdeutsch.Missing.\"],\n",
    "    \"sex\": [\"frau1\"],\n",
    "    \"age\": [\"age\"],\n",
    "}"
   ]
  },
  {
   "cell_type": "code",
   "execution_count": 22,
   "id": "f8e63555",
   "metadata": {
    "execution": {
     "iopub.execute_input": "2025-08-19T18:05:06.072834Z",
     "iopub.status.busy": "2025-08-19T18:05:06.072470Z",
     "iopub.status.idle": "2025-08-19T18:05:06.129367Z",
     "shell.execute_reply": "2025-08-19T18:05:06.127893Z"
    },
    "papermill": {
     "duration": 0.070758,
     "end_time": "2025-08-19T18:05:06.132261",
     "exception": false,
     "start_time": "2025-08-19T18:05:06.061503",
     "status": "completed"
    },
    "tags": []
   },
   "outputs": [],
   "source": [
    "excluded_features_columns = [\n",
    "    excluded_features_dictionary[f] for f in excluded_features if len(f) > 0 and f != \"none\"\n",
    "]"
   ]
  },
  {
   "cell_type": "code",
   "execution_count": 23,
   "id": "da781f7c",
   "metadata": {
    "execution": {
     "iopub.execute_input": "2025-08-19T18:05:06.171482Z",
     "iopub.status.busy": "2025-08-19T18:05:06.170182Z",
     "iopub.status.idle": "2025-08-19T18:05:06.178620Z",
     "shell.execute_reply": "2025-08-19T18:05:06.177028Z"
    },
    "papermill": {
     "duration": 0.024258,
     "end_time": "2025-08-19T18:05:06.180317",
     "exception": false,
     "start_time": "2025-08-19T18:05:06.156059",
     "status": "completed"
    },
    "tags": []
   },
   "outputs": [],
   "source": [
    "from fairness_multiverse.universe import flatten_once\n",
    "\n",
    "excluded_features_columns = flatten_once(excluded_features_columns)"
   ]
  },
  {
   "cell_type": "code",
   "execution_count": 24,
   "id": "37fef0f0",
   "metadata": {
    "execution": {
     "iopub.execute_input": "2025-08-19T18:05:06.206140Z",
     "iopub.status.busy": "2025-08-19T18:05:06.204570Z",
     "iopub.status.idle": "2025-08-19T18:05:06.224811Z",
     "shell.execute_reply": "2025-08-19T18:05:06.223836Z"
    },
    "papermill": {
     "duration": 0.033004,
     "end_time": "2025-08-19T18:05:06.226002",
     "exception": false,
     "start_time": "2025-08-19T18:05:06.192998",
     "status": "completed"
    },
    "tags": []
   },
   "outputs": [
    {
     "name": "stdout",
     "output_type": "stream",
     "text": [
      "Dropping features: ['maxdeutsch1', 'maxdeutsch.Missing.', 'frau1']\n"
     ]
    }
   ],
   "source": [
    "if len(excluded_features_columns) > 0:\n",
    "    print(f\"Dropping features: {excluded_features_columns}\")\n",
    "    X_train.drop(excluded_features_columns, axis=1, inplace=True)"
   ]
  },
  {
   "cell_type": "code",
   "execution_count": 25,
   "id": "d029e3e9",
   "metadata": {
    "execution": {
     "iopub.execute_input": "2025-08-19T18:05:06.251376Z",
     "iopub.status.busy": "2025-08-19T18:05:06.250331Z",
     "iopub.status.idle": "2025-08-19T18:05:06.308328Z",
     "shell.execute_reply": "2025-08-19T18:05:06.307708Z"
    },
    "papermill": {
     "duration": 0.073345,
     "end_time": "2025-08-19T18:05:06.310601",
     "exception": false,
     "start_time": "2025-08-19T18:05:06.237256",
     "status": "completed"
    },
    "tags": []
   },
   "outputs": [
    {
     "name": "stdout",
     "output_type": "stream",
     "text": [
      "Dropping features: ['maxdeutsch1', 'maxdeutsch.Missing.', 'frau1']\n"
     ]
    }
   ],
   "source": [
    "if len(excluded_features_columns) > 0:\n",
    "    print(f\"Dropping features: {excluded_features_columns}\")\n",
    "    X_test.drop(excluded_features_columns, axis=1, inplace=True)"
   ]
  },
  {
   "cell_type": "code",
   "execution_count": 26,
   "id": "01d571f0",
   "metadata": {
    "execution": {
     "iopub.execute_input": "2025-08-19T18:05:06.348932Z",
     "iopub.status.busy": "2025-08-19T18:05:06.347749Z",
     "iopub.status.idle": "2025-08-19T18:05:06.403580Z",
     "shell.execute_reply": "2025-08-19T18:05:06.402961Z"
    },
    "papermill": {
     "duration": 0.071868,
     "end_time": "2025-08-19T18:05:06.405911",
     "exception": false,
     "start_time": "2025-08-19T18:05:06.334043",
     "status": "completed"
    },
    "tags": []
   },
   "outputs": [
    {
     "name": "stdout",
     "output_type": "stream",
     "text": [
      "Dropping features: ['maxdeutsch1', 'maxdeutsch.Missing.', 'frau1']\n"
     ]
    }
   ],
   "source": [
    "if len(excluded_features_columns) > 0:\n",
    "    print(f\"Dropping features: {excluded_features_columns}\")\n",
    "    X_calib.drop(excluded_features_columns, axis=1, inplace=True)"
   ]
  },
  {
   "cell_type": "code",
   "execution_count": 27,
   "id": "3037356e",
   "metadata": {
    "execution": {
     "iopub.execute_input": "2025-08-19T18:05:06.445946Z",
     "iopub.status.busy": "2025-08-19T18:05:06.444911Z",
     "iopub.status.idle": "2025-08-19T18:05:06.450989Z",
     "shell.execute_reply": "2025-08-19T18:05:06.450043Z"
    },
    "papermill": {
     "duration": 0.024808,
     "end_time": "2025-08-19T18:05:06.453540",
     "exception": false,
     "start_time": "2025-08-19T18:05:06.428732",
     "status": "completed"
    },
    "tags": []
   },
   "outputs": [],
   "source": [
    "# EXCLUDE CERTAIN SUBGROUPS\n",
    "# -------------------------\n",
    "\n",
    "mode = universe.get(\"exclude_subgroups\", \"keep-all\") # Defaults to \"keep-all\" if the key is missing."
   ]
  },
  {
   "cell_type": "code",
   "execution_count": 28,
   "id": "9d1e63fd",
   "metadata": {
    "execution": {
     "iopub.execute_input": "2025-08-19T18:05:06.479977Z",
     "iopub.status.busy": "2025-08-19T18:05:06.479598Z",
     "iopub.status.idle": "2025-08-19T18:05:06.484663Z",
     "shell.execute_reply": "2025-08-19T18:05:06.484056Z"
    },
    "papermill": {
     "duration": 0.01828,
     "end_time": "2025-08-19T18:05:06.486259",
     "exception": false,
     "start_time": "2025-08-19T18:05:06.467979",
     "status": "completed"
    },
    "tags": []
   },
   "outputs": [],
   "source": [
    "if mode == \"keep-all\":\n",
    "    keep_mask = pd.Series(True, index=org_train.index)\n",
    "\n",
    "elif mode == \"drop-non-german\":\n",
    "    keep_mask = (org_train[\"maxdeutsch1\"] == 1) & (org_train[\"maxdeutsch.Missing.\"] == 0)\n",
    "\n",
    "else:\n",
    "    raise ValueError(f\"Unsupported mode for exclude_subgroups: {mode}\")"
   ]
  },
  {
   "cell_type": "code",
   "execution_count": 29,
   "id": "d3b65474",
   "metadata": {
    "execution": {
     "iopub.execute_input": "2025-08-19T18:05:06.509781Z",
     "iopub.status.busy": "2025-08-19T18:05:06.508677Z",
     "iopub.status.idle": "2025-08-19T18:05:06.515729Z",
     "shell.execute_reply": "2025-08-19T18:05:06.514773Z"
    },
    "papermill": {
     "duration": 0.019551,
     "end_time": "2025-08-19T18:05:06.516927",
     "exception": false,
     "start_time": "2025-08-19T18:05:06.497376",
     "status": "completed"
    },
    "tags": []
   },
   "outputs": [],
   "source": [
    "n_drop = (~keep_mask).sum() # Calculates how many rows are set to be dropped\n",
    "if n_drop > 0:\n",
    "    pct = n_drop / len(keep_mask) * 100\n",
    "    print(f\"Dropping {n_drop} rows ({pct:.2f}%) where mode='{mode}'\")"
   ]
  },
  {
   "cell_type": "code",
   "execution_count": 30,
   "id": "f44389b3",
   "metadata": {
    "execution": {
     "iopub.execute_input": "2025-08-19T18:05:06.540363Z",
     "iopub.status.busy": "2025-08-19T18:05:06.539365Z",
     "iopub.status.idle": "2025-08-19T18:05:06.558244Z",
     "shell.execute_reply": "2025-08-19T18:05:06.557398Z"
    },
    "papermill": {
     "duration": 0.032252,
     "end_time": "2025-08-19T18:05:06.559620",
     "exception": false,
     "start_time": "2025-08-19T18:05:06.527368",
     "status": "completed"
    },
    "tags": []
   },
   "outputs": [],
   "source": [
    "X_train = X_train[keep_mask]"
   ]
  },
  {
   "cell_type": "code",
   "execution_count": 31,
   "id": "ceca8c2a",
   "metadata": {
    "execution": {
     "iopub.execute_input": "2025-08-19T18:05:06.591525Z",
     "iopub.status.busy": "2025-08-19T18:05:06.589928Z",
     "iopub.status.idle": "2025-08-19T18:05:06.600140Z",
     "shell.execute_reply": "2025-08-19T18:05:06.598910Z"
    },
    "papermill": {
     "duration": 0.025173,
     "end_time": "2025-08-19T18:05:06.601518",
     "exception": false,
     "start_time": "2025-08-19T18:05:06.576345",
     "status": "completed"
    },
    "tags": []
   },
   "outputs": [],
   "source": [
    "y_train = y_train[keep_mask]"
   ]
  },
  {
   "cell_type": "markdown",
   "id": "04d31e2f",
   "metadata": {
    "papermill": {
     "duration": 0.01062,
     "end_time": "2025-08-19T18:05:06.625401",
     "exception": false,
     "start_time": "2025-08-19T18:05:06.614781",
     "status": "completed"
    },
    "tags": []
   },
   "source": [
    "# Model Training"
   ]
  },
  {
   "cell_type": "code",
   "execution_count": 32,
   "id": "db991733",
   "metadata": {
    "execution": {
     "iopub.execute_input": "2025-08-19T18:05:06.649740Z",
     "iopub.status.busy": "2025-08-19T18:05:06.648411Z",
     "iopub.status.idle": "2025-08-19T18:05:06.755903Z",
     "shell.execute_reply": "2025-08-19T18:05:06.755143Z"
    },
    "papermill": {
     "duration": 0.12133,
     "end_time": "2025-08-19T18:05:06.757367",
     "exception": false,
     "start_time": "2025-08-19T18:05:06.636037",
     "status": "completed"
    },
    "tags": []
   },
   "outputs": [],
   "source": [
    "from sklearn.linear_model import LogisticRegression\n",
    "from sklearn.ensemble import GradientBoostingClassifier, RandomForestClassifier\n",
    "\n",
    "if (universe[\"model\"] == \"logreg\"):\n",
    "    model = LogisticRegression() #penalty=\"none\", solver=\"newton-cg\", max_iter=1)\n",
    "elif (universe[\"model\"] == \"penalized_logreg\"):\n",
    "    model = LogisticRegression(penalty=\"l2\", C=0.1) #, solver=\"newton-cg\", max_iter=1)\n",
    "elif (universe[\"model\"] == \"rf\"):\n",
    "    model = RandomForestClassifier() # n_estimators=100, n_jobs=-1\n",
    "elif (universe[\"model\"] == \"gbm\"):\n",
    "    model = GradientBoostingClassifier()\n",
    "elif (universe[\"model\"] == \"elasticnet\"):\n",
    "    model = LogisticRegression(penalty = 'elasticnet', solver = 'saga', l1_ratio = 0.5) # max_iter=5000\n",
    "else:\n",
    "    raise \"Unsupported universe.model\""
   ]
  },
  {
   "cell_type": "code",
   "execution_count": 33,
   "id": "a4b5cd25",
   "metadata": {
    "execution": {
     "iopub.execute_input": "2025-08-19T18:05:06.784982Z",
     "iopub.status.busy": "2025-08-19T18:05:06.784205Z",
     "iopub.status.idle": "2025-08-19T18:05:06.791301Z",
     "shell.execute_reply": "2025-08-19T18:05:06.790149Z"
    },
    "papermill": {
     "duration": 0.020267,
     "end_time": "2025-08-19T18:05:06.792592",
     "exception": false,
     "start_time": "2025-08-19T18:05:06.772325",
     "status": "completed"
    },
    "tags": []
   },
   "outputs": [],
   "source": [
    "from sklearn.pipeline import Pipeline\n",
    "from sklearn.preprocessing import StandardScaler\n",
    "\n",
    "model = Pipeline([\n",
    "    #(\"continuous_processor\", continuous_processor),\n",
    "    #(\"categorical_preprocessor\", categorical_preprocessor),\n",
    "    (\"scale\", StandardScaler() if universe[\"scale\"] == \"scale\" else None), \n",
    "    (\"model\", model),\n",
    "])"
   ]
  },
  {
   "cell_type": "code",
   "execution_count": 34,
   "id": "283a904d",
   "metadata": {
    "execution": {
     "iopub.execute_input": "2025-08-19T18:05:06.827974Z",
     "iopub.status.busy": "2025-08-19T18:05:06.827579Z",
     "iopub.status.idle": "2025-08-19T18:05:14.890195Z",
     "shell.execute_reply": "2025-08-19T18:05:14.889291Z"
    },
    "papermill": {
     "duration": 8.081541,
     "end_time": "2025-08-19T18:05:14.891492",
     "exception": false,
     "start_time": "2025-08-19T18:05:06.809951",
     "status": "completed"
    },
    "tags": []
   },
   "outputs": [
    {
     "data": {
      "text/html": [
       "<style>#sk-container-id-1 {color: black;background-color: white;}#sk-container-id-1 pre{padding: 0;}#sk-container-id-1 div.sk-toggleable {background-color: white;}#sk-container-id-1 label.sk-toggleable__label {cursor: pointer;display: block;width: 100%;margin-bottom: 0;padding: 0.3em;box-sizing: border-box;text-align: center;}#sk-container-id-1 label.sk-toggleable__label-arrow:before {content: \"▸\";float: left;margin-right: 0.25em;color: #696969;}#sk-container-id-1 label.sk-toggleable__label-arrow:hover:before {color: black;}#sk-container-id-1 div.sk-estimator:hover label.sk-toggleable__label-arrow:before {color: black;}#sk-container-id-1 div.sk-toggleable__content {max-height: 0;max-width: 0;overflow: hidden;text-align: left;background-color: #f0f8ff;}#sk-container-id-1 div.sk-toggleable__content pre {margin: 0.2em;color: black;border-radius: 0.25em;background-color: #f0f8ff;}#sk-container-id-1 input.sk-toggleable__control:checked~div.sk-toggleable__content {max-height: 200px;max-width: 100%;overflow: auto;}#sk-container-id-1 input.sk-toggleable__control:checked~label.sk-toggleable__label-arrow:before {content: \"▾\";}#sk-container-id-1 div.sk-estimator input.sk-toggleable__control:checked~label.sk-toggleable__label {background-color: #d4ebff;}#sk-container-id-1 div.sk-label input.sk-toggleable__control:checked~label.sk-toggleable__label {background-color: #d4ebff;}#sk-container-id-1 input.sk-hidden--visually {border: 0;clip: rect(1px 1px 1px 1px);clip: rect(1px, 1px, 1px, 1px);height: 1px;margin: -1px;overflow: hidden;padding: 0;position: absolute;width: 1px;}#sk-container-id-1 div.sk-estimator {font-family: monospace;background-color: #f0f8ff;border: 1px dotted black;border-radius: 0.25em;box-sizing: border-box;margin-bottom: 0.5em;}#sk-container-id-1 div.sk-estimator:hover {background-color: #d4ebff;}#sk-container-id-1 div.sk-parallel-item::after {content: \"\";width: 100%;border-bottom: 1px solid gray;flex-grow: 1;}#sk-container-id-1 div.sk-label:hover label.sk-toggleable__label {background-color: #d4ebff;}#sk-container-id-1 div.sk-serial::before {content: \"\";position: absolute;border-left: 1px solid gray;box-sizing: border-box;top: 0;bottom: 0;left: 50%;z-index: 0;}#sk-container-id-1 div.sk-serial {display: flex;flex-direction: column;align-items: center;background-color: white;padding-right: 0.2em;padding-left: 0.2em;position: relative;}#sk-container-id-1 div.sk-item {position: relative;z-index: 1;}#sk-container-id-1 div.sk-parallel {display: flex;align-items: stretch;justify-content: center;background-color: white;position: relative;}#sk-container-id-1 div.sk-item::before, #sk-container-id-1 div.sk-parallel-item::before {content: \"\";position: absolute;border-left: 1px solid gray;box-sizing: border-box;top: 0;bottom: 0;left: 50%;z-index: -1;}#sk-container-id-1 div.sk-parallel-item {display: flex;flex-direction: column;z-index: 1;position: relative;background-color: white;}#sk-container-id-1 div.sk-parallel-item:first-child::after {align-self: flex-end;width: 50%;}#sk-container-id-1 div.sk-parallel-item:last-child::after {align-self: flex-start;width: 50%;}#sk-container-id-1 div.sk-parallel-item:only-child::after {width: 0;}#sk-container-id-1 div.sk-dashed-wrapped {border: 1px dashed gray;margin: 0 0.4em 0.5em 0.4em;box-sizing: border-box;padding-bottom: 0.4em;background-color: white;}#sk-container-id-1 div.sk-label label {font-family: monospace;font-weight: bold;display: inline-block;line-height: 1.2em;}#sk-container-id-1 div.sk-label-container {text-align: center;}#sk-container-id-1 div.sk-container {/* jupyter's `normalize.less` sets `[hidden] { display: none; }` but bootstrap.min.css set `[hidden] { display: none !important; }` so we also need the `!important` here to be able to override the default hidden behavior on the sphinx rendered scikit-learn.org. See: https://github.com/scikit-learn/scikit-learn/issues/21755 */display: inline-block !important;position: relative;}#sk-container-id-1 div.sk-text-repr-fallback {display: none;}</style><div id=\"sk-container-id-1\" class=\"sk-top-container\"><div class=\"sk-text-repr-fallback\"><pre>Pipeline(steps=[(&#x27;scale&#x27;, StandardScaler()),\n",
       "                (&#x27;model&#x27;, RandomForestClassifier())])</pre><b>In a Jupyter environment, please rerun this cell to show the HTML representation or trust the notebook. <br />On GitHub, the HTML representation is unable to render, please try loading this page with nbviewer.org.</b></div><div class=\"sk-container\" hidden><div class=\"sk-item sk-dashed-wrapped\"><div class=\"sk-label-container\"><div class=\"sk-label sk-toggleable\"><input class=\"sk-toggleable__control sk-hidden--visually\" id=\"sk-estimator-id-1\" type=\"checkbox\" ><label for=\"sk-estimator-id-1\" class=\"sk-toggleable__label sk-toggleable__label-arrow\">Pipeline</label><div class=\"sk-toggleable__content\"><pre>Pipeline(steps=[(&#x27;scale&#x27;, StandardScaler()),\n",
       "                (&#x27;model&#x27;, RandomForestClassifier())])</pre></div></div></div><div class=\"sk-serial\"><div class=\"sk-item\"><div class=\"sk-estimator sk-toggleable\"><input class=\"sk-toggleable__control sk-hidden--visually\" id=\"sk-estimator-id-2\" type=\"checkbox\" ><label for=\"sk-estimator-id-2\" class=\"sk-toggleable__label sk-toggleable__label-arrow\">StandardScaler</label><div class=\"sk-toggleable__content\"><pre>StandardScaler()</pre></div></div></div><div class=\"sk-item\"><div class=\"sk-estimator sk-toggleable\"><input class=\"sk-toggleable__control sk-hidden--visually\" id=\"sk-estimator-id-3\" type=\"checkbox\" ><label for=\"sk-estimator-id-3\" class=\"sk-toggleable__label sk-toggleable__label-arrow\">RandomForestClassifier</label><div class=\"sk-toggleable__content\"><pre>RandomForestClassifier()</pre></div></div></div></div></div></div></div>"
      ],
      "text/plain": [
       "Pipeline(steps=[('scale', StandardScaler()),\n",
       "                ('model', RandomForestClassifier())])"
      ]
     },
     "execution_count": 34,
     "metadata": {},
     "output_type": "execute_result"
    }
   ],
   "source": [
    "model.fit(X_train, y_train.values.ravel())"
   ]
  },
  {
   "cell_type": "code",
   "execution_count": 35,
   "id": "6e15e313",
   "metadata": {
    "execution": {
     "iopub.execute_input": "2025-08-19T18:05:14.918276Z",
     "iopub.status.busy": "2025-08-19T18:05:14.917462Z",
     "iopub.status.idle": "2025-08-19T18:05:17.394005Z",
     "shell.execute_reply": "2025-08-19T18:05:17.393239Z"
    },
    "papermill": {
     "duration": 2.490196,
     "end_time": "2025-08-19T18:05:17.395441",
     "exception": false,
     "start_time": "2025-08-19T18:05:14.905245",
     "status": "completed"
    },
    "tags": []
   },
   "outputs": [
    {
     "data": {
      "text/plain": [
       "0.8671385575744064"
      ]
     },
     "execution_count": 35,
     "metadata": {},
     "output_type": "execute_result"
    }
   ],
   "source": [
    "from fairness_multiverse.universe import predict_w_threshold\n",
    "\n",
    "probs_test = model.predict_proba(X_test)\n",
    "\n",
    "'''\n",
    "Below code returns a boolean array (or binary 0/1 array depending on how it’s used) where each element \n",
    "is True if the probability of class 1 is greater than or equal to the threshold, and False otherwise.\n",
    "'''\n",
    "y_pred_default = predict_w_threshold(probs_test, 0.5)\n",
    "\n",
    "from sklearn.metrics import accuracy_score\n",
    "\n",
    "# Naive prediction\n",
    "accuracy_score(y_true = y_true, y_pred = y_pred_default)"
   ]
  },
  {
   "cell_type": "code",
   "execution_count": 36,
   "id": "6f14067c",
   "metadata": {
    "execution": {
     "iopub.execute_input": "2025-08-19T18:05:17.421649Z",
     "iopub.status.busy": "2025-08-19T18:05:17.420800Z",
     "iopub.status.idle": "2025-08-19T18:05:19.866397Z",
     "shell.execute_reply": "2025-08-19T18:05:19.865374Z"
    },
    "papermill": {
     "duration": 2.458967,
     "end_time": "2025-08-19T18:05:19.867688",
     "exception": false,
     "start_time": "2025-08-19T18:05:17.408721",
     "status": "completed"
    },
    "tags": []
   },
   "outputs": [
    {
     "data": {
      "text/plain": [
       "array([0, 0, 0, ..., 0, 0, 0])"
      ]
     },
     "execution_count": 36,
     "metadata": {},
     "output_type": "execute_result"
    }
   ],
   "source": [
    "model.predict(X_test)"
   ]
  },
  {
   "cell_type": "markdown",
   "id": "3759920c",
   "metadata": {
    "papermill": {
     "duration": 0.011286,
     "end_time": "2025-08-19T18:05:19.894095",
     "exception": false,
     "start_time": "2025-08-19T18:05:19.882809",
     "status": "completed"
    },
    "tags": []
   },
   "source": [
    "# Conformal Prediction"
   ]
  },
  {
   "cell_type": "code",
   "execution_count": 37,
   "id": "14b27f59",
   "metadata": {
    "execution": {
     "iopub.execute_input": "2025-08-19T18:05:19.919627Z",
     "iopub.status.busy": "2025-08-19T18:05:19.918384Z",
     "iopub.status.idle": "2025-08-19T18:05:19.928258Z",
     "shell.execute_reply": "2025-08-19T18:05:19.926644Z"
    },
    "papermill": {
     "duration": 0.025044,
     "end_time": "2025-08-19T18:05:19.930114",
     "exception": false,
     "start_time": "2025-08-19T18:05:19.905070",
     "status": "completed"
    },
    "tags": []
   },
   "outputs": [],
   "source": [
    "# Miscoverage level for conformal prediction (10% allowed error rate => 90% target coverage)\n",
    "alpha = 0.1"
   ]
  },
  {
   "cell_type": "code",
   "execution_count": 38,
   "id": "59102472",
   "metadata": {
    "execution": {
     "iopub.execute_input": "2025-08-19T18:05:19.961051Z",
     "iopub.status.busy": "2025-08-19T18:05:19.959865Z",
     "iopub.status.idle": "2025-08-19T18:05:22.385361Z",
     "shell.execute_reply": "2025-08-19T18:05:22.384546Z"
    },
    "papermill": {
     "duration": 2.44049,
     "end_time": "2025-08-19T18:05:22.386888",
     "exception": false,
     "start_time": "2025-08-19T18:05:19.946398",
     "status": "completed"
    },
    "tags": []
   },
   "outputs": [],
   "source": [
    "probs_calib = model.predict_proba(X_calib)"
   ]
  },
  {
   "cell_type": "code",
   "execution_count": 39,
   "id": "a792d4dd",
   "metadata": {
    "execution": {
     "iopub.execute_input": "2025-08-19T18:05:22.424657Z",
     "iopub.status.busy": "2025-08-19T18:05:22.423683Z",
     "iopub.status.idle": "2025-08-19T18:05:22.433006Z",
     "shell.execute_reply": "2025-08-19T18:05:22.431779Z"
    },
    "papermill": {
     "duration": 0.029812,
     "end_time": "2025-08-19T18:05:22.434552",
     "exception": false,
     "start_time": "2025-08-19T18:05:22.404740",
     "status": "completed"
    },
    "tags": []
   },
   "outputs": [],
   "source": [
    "y_calib = y_calib.values.ravel().astype(int)"
   ]
  },
  {
   "cell_type": "code",
   "execution_count": 40,
   "id": "650fd033",
   "metadata": {
    "execution": {
     "iopub.execute_input": "2025-08-19T18:05:22.464408Z",
     "iopub.status.busy": "2025-08-19T18:05:22.463145Z",
     "iopub.status.idle": "2025-08-19T18:05:22.476579Z",
     "shell.execute_reply": "2025-08-19T18:05:22.475173Z"
    },
    "papermill": {
     "duration": 0.027919,
     "end_time": "2025-08-19T18:05:22.478254",
     "exception": false,
     "start_time": "2025-08-19T18:05:22.450335",
     "status": "completed"
    },
    "tags": []
   },
   "outputs": [],
   "source": [
    "from fairness_multiverse.conformal import compute_nc_scores\n",
    "\n",
    "# Compute nonconformity scores on calibration set (1 - probability of true class)\n",
    "nc_scores = compute_nc_scores(probs_calib, y_calib)"
   ]
  },
  {
   "cell_type": "code",
   "execution_count": 41,
   "id": "28ada44c",
   "metadata": {
    "execution": {
     "iopub.execute_input": "2025-08-19T18:05:22.510973Z",
     "iopub.status.busy": "2025-08-19T18:05:22.509889Z",
     "iopub.status.idle": "2025-08-19T18:05:22.521837Z",
     "shell.execute_reply": "2025-08-19T18:05:22.520451Z"
    },
    "papermill": {
     "duration": 0.027481,
     "end_time": "2025-08-19T18:05:22.523392",
     "exception": false,
     "start_time": "2025-08-19T18:05:22.495911",
     "status": "completed"
    },
    "tags": []
   },
   "outputs": [],
   "source": [
    "from fairness_multiverse.conformal import find_threshold\n",
    "\n",
    "# Find conformal threshold q_hat for the given alpha (split conformal method)\n",
    "q_hat = find_threshold(nc_scores, alpha)"
   ]
  },
  {
   "cell_type": "code",
   "execution_count": 42,
   "id": "df56469e",
   "metadata": {
    "execution": {
     "iopub.execute_input": "2025-08-19T18:05:22.553683Z",
     "iopub.status.busy": "2025-08-19T18:05:22.552040Z",
     "iopub.status.idle": "2025-08-19T18:05:22.564027Z",
     "shell.execute_reply": "2025-08-19T18:05:22.562877Z"
    },
    "papermill": {
     "duration": 0.027117,
     "end_time": "2025-08-19T18:05:22.565600",
     "exception": false,
     "start_time": "2025-08-19T18:05:22.538483",
     "status": "completed"
    },
    "tags": []
   },
   "outputs": [
    {
     "data": {
      "text/plain": [
       "0.6599999999999999"
      ]
     },
     "execution_count": 42,
     "metadata": {},
     "output_type": "execute_result"
    }
   ],
   "source": [
    "q_hat"
   ]
  },
  {
   "cell_type": "code",
   "execution_count": 43,
   "id": "aa1f5faa",
   "metadata": {
    "execution": {
     "iopub.execute_input": "2025-08-19T18:05:22.595705Z",
     "iopub.status.busy": "2025-08-19T18:05:22.594544Z",
     "iopub.status.idle": "2025-08-19T18:05:26.232619Z",
     "shell.execute_reply": "2025-08-19T18:05:26.231439Z"
    },
    "papermill": {
     "duration": 3.652759,
     "end_time": "2025-08-19T18:05:26.234255",
     "exception": false,
     "start_time": "2025-08-19T18:05:22.581496",
     "status": "completed"
    },
    "tags": []
   },
   "outputs": [],
   "source": [
    "from fairness_multiverse.conformal import predict_conformal_sets\n",
    "\n",
    "# Generate prediction sets for each test example\n",
    "pred_sets = predict_conformal_sets(model, X_test, q_hat)"
   ]
  },
  {
   "cell_type": "code",
   "execution_count": 44,
   "id": "97f67a6b",
   "metadata": {
    "execution": {
     "iopub.execute_input": "2025-08-19T18:05:26.287962Z",
     "iopub.status.busy": "2025-08-19T18:05:26.287068Z",
     "iopub.status.idle": "2025-08-19T18:05:26.300076Z",
     "shell.execute_reply": "2025-08-19T18:05:26.298828Z"
    },
    "papermill": {
     "duration": 0.045896,
     "end_time": "2025-08-19T18:05:26.302292",
     "exception": false,
     "start_time": "2025-08-19T18:05:26.256396",
     "status": "completed"
    },
    "tags": []
   },
   "outputs": [],
   "source": [
    "y_true = y_true.squeeze()"
   ]
  },
  {
   "cell_type": "code",
   "execution_count": 45,
   "id": "e700e9a7",
   "metadata": {
    "execution": {
     "iopub.execute_input": "2025-08-19T18:05:26.338548Z",
     "iopub.status.busy": "2025-08-19T18:05:26.338215Z",
     "iopub.status.idle": "2025-08-19T18:05:26.858416Z",
     "shell.execute_reply": "2025-08-19T18:05:26.857180Z"
    },
    "papermill": {
     "duration": 0.53752,
     "end_time": "2025-08-19T18:05:26.861499",
     "exception": false,
     "start_time": "2025-08-19T18:05:26.323979",
     "status": "completed"
    },
    "tags": []
   },
   "outputs": [],
   "source": [
    "from fairness_multiverse.conformal import evaluate_sets\n",
    "\n",
    "# Evaluate coverage and average set size on test data\n",
    "metrics = evaluate_sets(pred_sets, y_true)"
   ]
  },
  {
   "cell_type": "markdown",
   "id": "efbacec0",
   "metadata": {
    "papermill": {
     "duration": 0.013166,
     "end_time": "2025-08-19T18:05:26.901400",
     "exception": false,
     "start_time": "2025-08-19T18:05:26.888234",
     "status": "completed"
    },
    "tags": []
   },
   "source": [
    "# CP Metrics"
   ]
  },
  {
   "cell_type": "code",
   "execution_count": 46,
   "id": "9de55fb1",
   "metadata": {
    "execution": {
     "iopub.execute_input": "2025-08-19T18:05:26.928165Z",
     "iopub.status.busy": "2025-08-19T18:05:26.927308Z",
     "iopub.status.idle": "2025-08-19T18:05:26.942250Z",
     "shell.execute_reply": "2025-08-19T18:05:26.941155Z"
    },
    "papermill": {
     "duration": 0.030841,
     "end_time": "2025-08-19T18:05:26.943892",
     "exception": false,
     "start_time": "2025-08-19T18:05:26.913051",
     "status": "completed"
    },
    "tags": []
   },
   "outputs": [
    {
     "data": {
      "text/plain": [
       "{'coverage': 0.9158845167762791, 'avg_size': 1.1453126741723332}"
      ]
     },
     "execution_count": 46,
     "metadata": {},
     "output_type": "execute_result"
    }
   ],
   "source": [
    "metrics"
   ]
  },
  {
   "cell_type": "code",
   "execution_count": 47,
   "id": "64c340a1",
   "metadata": {
    "execution": {
     "iopub.execute_input": "2025-08-19T18:05:26.993879Z",
     "iopub.status.busy": "2025-08-19T18:05:26.992672Z",
     "iopub.status.idle": "2025-08-19T18:05:27.004023Z",
     "shell.execute_reply": "2025-08-19T18:05:27.002757Z"
    },
    "papermill": {
     "duration": 0.045156,
     "end_time": "2025-08-19T18:05:27.005509",
     "exception": false,
     "start_time": "2025-08-19T18:05:26.960353",
     "status": "completed"
    },
    "tags": []
   },
   "outputs": [],
   "source": [
    "example_universe = universe.copy()\n",
    "universe_training_year = example_universe.get(\"training_year\")\n",
    "universe_training_size = example_universe.get(\"training_size\")\n",
    "universe_scale = example_universe.get(\"scale\")\n",
    "universe_model = example_universe.get(\"model\")\n",
    "universe_exclude_features = example_universe.get(\"exclude_features\")\n",
    "universe_exclude_subgroups = example_universe.get(\"exclude_subgroups\")"
   ]
  },
  {
   "cell_type": "code",
   "execution_count": 48,
   "id": "dbb53cb4",
   "metadata": {
    "execution": {
     "iopub.execute_input": "2025-08-19T18:05:27.059655Z",
     "iopub.status.busy": "2025-08-19T18:05:27.059172Z",
     "iopub.status.idle": "2025-08-19T18:05:27.064561Z",
     "shell.execute_reply": "2025-08-19T18:05:27.063830Z"
    },
    "papermill": {
     "duration": 0.022186,
     "end_time": "2025-08-19T18:05:27.065890",
     "exception": false,
     "start_time": "2025-08-19T18:05:27.043704",
     "status": "completed"
    },
    "tags": []
   },
   "outputs": [],
   "source": [
    "cp_metrics_dict = {\n",
    "    \"universe_id\": [universe_id],\n",
    "    \"universe_training_year\": [universe_training_year],\n",
    "    \"universe_training_size\": [universe_training_size],\n",
    "    \"universe_scale\": [universe_scale],\n",
    "    \"universe_model\": [universe_model],\n",
    "    \"universe_exclude_features\": [universe_exclude_features],\n",
    "    \"universe_exclude_subgroups\": [universe_exclude_subgroups],\n",
    "    \"q_hat\": [q_hat],\n",
    "    \"coverage\": [metrics[\"coverage\"]],\n",
    "    \"avg_size\": [metrics[\"avg_size\"]],\n",
    "}"
   ]
  },
  {
   "cell_type": "code",
   "execution_count": 49,
   "id": "0d70d4b2",
   "metadata": {
    "execution": {
     "iopub.execute_input": "2025-08-19T18:05:27.103200Z",
     "iopub.status.busy": "2025-08-19T18:05:27.102887Z",
     "iopub.status.idle": "2025-08-19T18:05:27.110202Z",
     "shell.execute_reply": "2025-08-19T18:05:27.109461Z"
    },
    "papermill": {
     "duration": 0.026132,
     "end_time": "2025-08-19T18:05:27.111762",
     "exception": false,
     "start_time": "2025-08-19T18:05:27.085630",
     "status": "completed"
    },
    "tags": []
   },
   "outputs": [],
   "source": [
    "cp_metrics_df = pd.DataFrame(cp_metrics_dict)"
   ]
  },
  {
   "cell_type": "code",
   "execution_count": 50,
   "id": "b494403c",
   "metadata": {
    "execution": {
     "iopub.execute_input": "2025-08-19T18:05:27.138103Z",
     "iopub.status.busy": "2025-08-19T18:05:27.137794Z",
     "iopub.status.idle": "2025-08-19T18:05:27.151050Z",
     "shell.execute_reply": "2025-08-19T18:05:27.150370Z"
    },
    "papermill": {
     "duration": 0.032772,
     "end_time": "2025-08-19T18:05:27.157068",
     "exception": false,
     "start_time": "2025-08-19T18:05:27.124296",
     "status": "completed"
    },
    "tags": []
   },
   "outputs": [
    {
     "data": {
      "text/html": [
       "<div>\n",
       "<style scoped>\n",
       "    .dataframe tbody tr th:only-of-type {\n",
       "        vertical-align: middle;\n",
       "    }\n",
       "\n",
       "    .dataframe tbody tr th {\n",
       "        vertical-align: top;\n",
       "    }\n",
       "\n",
       "    .dataframe thead th {\n",
       "        text-align: right;\n",
       "    }\n",
       "</style>\n",
       "<table border=\"1\" class=\"dataframe\">\n",
       "  <thead>\n",
       "    <tr style=\"text-align: right;\">\n",
       "      <th></th>\n",
       "      <th>universe_id</th>\n",
       "      <th>universe_training_year</th>\n",
       "      <th>universe_training_size</th>\n",
       "      <th>universe_scale</th>\n",
       "      <th>universe_model</th>\n",
       "      <th>universe_exclude_features</th>\n",
       "      <th>universe_exclude_subgroups</th>\n",
       "      <th>q_hat</th>\n",
       "      <th>coverage</th>\n",
       "      <th>avg_size</th>\n",
       "    </tr>\n",
       "  </thead>\n",
       "  <tbody>\n",
       "    <tr>\n",
       "      <th>0</th>\n",
       "      <td>4df5ac6e0876bbdcd925702f00c597ff</td>\n",
       "      <td>2012_14</td>\n",
       "      <td>25k</td>\n",
       "      <td>scale</td>\n",
       "      <td>rf</td>\n",
       "      <td>nationality-sex</td>\n",
       "      <td>keep-all</td>\n",
       "      <td>0.66</td>\n",
       "      <td>0.915885</td>\n",
       "      <td>1.145313</td>\n",
       "    </tr>\n",
       "  </tbody>\n",
       "</table>\n",
       "</div>"
      ],
      "text/plain": [
       "                        universe_id universe_training_year  \\\n",
       "0  4df5ac6e0876bbdcd925702f00c597ff                2012_14   \n",
       "\n",
       "  universe_training_size universe_scale universe_model  \\\n",
       "0                    25k          scale             rf   \n",
       "\n",
       "  universe_exclude_features universe_exclude_subgroups  q_hat  coverage  \\\n",
       "0           nationality-sex                   keep-all   0.66  0.915885   \n",
       "\n",
       "   avg_size  \n",
       "0  1.145313  "
      ]
     },
     "execution_count": 50,
     "metadata": {},
     "output_type": "execute_result"
    }
   ],
   "source": [
    "cp_metrics_df"
   ]
  },
  {
   "cell_type": "markdown",
   "id": "ed608b0b",
   "metadata": {
    "papermill": {
     "duration": 0.013458,
     "end_time": "2025-08-19T18:05:27.193262",
     "exception": false,
     "start_time": "2025-08-19T18:05:27.179804",
     "status": "completed"
    },
    "tags": []
   },
   "source": [
    "Conditional coverage & looking at subgroups"
   ]
  },
  {
   "cell_type": "code",
   "execution_count": 51,
   "id": "8968c366",
   "metadata": {
    "execution": {
     "iopub.execute_input": "2025-08-19T18:05:27.220535Z",
     "iopub.status.busy": "2025-08-19T18:05:27.219015Z",
     "iopub.status.idle": "2025-08-19T18:05:27.546629Z",
     "shell.execute_reply": "2025-08-19T18:05:27.545787Z"
    },
    "papermill": {
     "duration": 0.342841,
     "end_time": "2025-08-19T18:05:27.548369",
     "exception": false,
     "start_time": "2025-08-19T18:05:27.205528",
     "status": "completed"
    },
    "tags": []
   },
   "outputs": [],
   "source": [
    "from fairness_multiverse.conformal import build_cp_groups\n",
    "\n",
    "cp_groups_df = build_cp_groups(pred_sets, y_true, X_test.index, org_test)"
   ]
  },
  {
   "cell_type": "code",
   "execution_count": 52,
   "id": "292ddabf",
   "metadata": {
    "execution": {
     "iopub.execute_input": "2025-08-19T18:05:27.577946Z",
     "iopub.status.busy": "2025-08-19T18:05:27.576591Z",
     "iopub.status.idle": "2025-08-19T18:05:28.492376Z",
     "shell.execute_reply": "2025-08-19T18:05:28.491109Z"
    },
    "papermill": {
     "duration": 0.932281,
     "end_time": "2025-08-19T18:05:28.494400",
     "exception": false,
     "start_time": "2025-08-19T18:05:27.562119",
     "status": "completed"
    },
    "tags": []
   },
   "outputs": [],
   "source": [
    "# Define covered = 1 if true_label is in the predicted set\n",
    "cp_groups_df['covered'] = cp_groups_df.apply(\n",
    "    lambda r: int(r['true_label'] in r['pred_set']),\n",
    "    axis=1\n",
    ")"
   ]
  },
  {
   "cell_type": "code",
   "execution_count": 53,
   "id": "3a261692",
   "metadata": {
    "execution": {
     "iopub.execute_input": "2025-08-19T18:05:28.522130Z",
     "iopub.status.busy": "2025-08-19T18:05:28.521673Z",
     "iopub.status.idle": "2025-08-19T18:05:28.535978Z",
     "shell.execute_reply": "2025-08-19T18:05:28.534479Z"
    },
    "papermill": {
     "duration": 0.030307,
     "end_time": "2025-08-19T18:05:28.537731",
     "exception": false,
     "start_time": "2025-08-19T18:05:28.507424",
     "status": "completed"
    },
    "tags": []
   },
   "outputs": [],
   "source": [
    "subgroups = ['frau1','nongerman','nongerman_male','nongerman_female']\n",
    "\n",
    "# Conditional coverage for subgroup==1\n",
    "cond_coverage = {\n",
    "    g: cp_groups_df.loc[cp_groups_df[g]==1, 'covered'].mean()\n",
    "    for g in subgroups\n",
    "}"
   ]
  },
  {
   "cell_type": "code",
   "execution_count": 54,
   "id": "894fd600",
   "metadata": {
    "execution": {
     "iopub.execute_input": "2025-08-19T18:05:28.566147Z",
     "iopub.status.busy": "2025-08-19T18:05:28.565123Z",
     "iopub.status.idle": "2025-08-19T18:05:28.576835Z",
     "shell.execute_reply": "2025-08-19T18:05:28.575757Z"
    },
    "papermill": {
     "duration": 0.028646,
     "end_time": "2025-08-19T18:05:28.579396",
     "exception": false,
     "start_time": "2025-08-19T18:05:28.550750",
     "status": "completed"
    },
    "tags": []
   },
   "outputs": [
    {
     "data": {
      "text/plain": [
       "{'frau1': 0.9152176843240329,\n",
       " 'nongerman': 0.9102902374670184,\n",
       " 'nongerman_male': 0.9254255606592813,\n",
       " 'nongerman_female': 0.8852459016393442}"
      ]
     },
     "execution_count": 54,
     "metadata": {},
     "output_type": "execute_result"
    }
   ],
   "source": [
    "cond_coverage"
   ]
  },
  {
   "cell_type": "code",
   "execution_count": 55,
   "id": "942895c7",
   "metadata": {
    "execution": {
     "iopub.execute_input": "2025-08-19T18:05:28.622141Z",
     "iopub.status.busy": "2025-08-19T18:05:28.620741Z",
     "iopub.status.idle": "2025-08-19T18:05:28.636046Z",
     "shell.execute_reply": "2025-08-19T18:05:28.634110Z"
    },
    "papermill": {
     "duration": 0.032342,
     "end_time": "2025-08-19T18:05:28.637866",
     "exception": false,
     "start_time": "2025-08-19T18:05:28.605524",
     "status": "completed"
    },
    "tags": []
   },
   "outputs": [],
   "source": [
    "for subgroup, cov in cond_coverage.items():\n",
    "    cp_metrics_df[f\"cov_{subgroup}\"] = cov"
   ]
  },
  {
   "cell_type": "code",
   "execution_count": 56,
   "id": "3970120f",
   "metadata": {
    "execution": {
     "iopub.execute_input": "2025-08-19T18:05:28.671544Z",
     "iopub.status.busy": "2025-08-19T18:05:28.670223Z",
     "iopub.status.idle": "2025-08-19T18:05:28.702456Z",
     "shell.execute_reply": "2025-08-19T18:05:28.701626Z"
    },
    "papermill": {
     "duration": 0.052898,
     "end_time": "2025-08-19T18:05:28.708575",
     "exception": false,
     "start_time": "2025-08-19T18:05:28.655677",
     "status": "completed"
    },
    "tags": []
   },
   "outputs": [
    {
     "data": {
      "text/html": [
       "<div>\n",
       "<style scoped>\n",
       "    .dataframe tbody tr th:only-of-type {\n",
       "        vertical-align: middle;\n",
       "    }\n",
       "\n",
       "    .dataframe tbody tr th {\n",
       "        vertical-align: top;\n",
       "    }\n",
       "\n",
       "    .dataframe thead th {\n",
       "        text-align: right;\n",
       "    }\n",
       "</style>\n",
       "<table border=\"1\" class=\"dataframe\">\n",
       "  <thead>\n",
       "    <tr style=\"text-align: right;\">\n",
       "      <th></th>\n",
       "      <th>universe_id</th>\n",
       "      <th>universe_training_year</th>\n",
       "      <th>universe_training_size</th>\n",
       "      <th>universe_scale</th>\n",
       "      <th>universe_model</th>\n",
       "      <th>universe_exclude_features</th>\n",
       "      <th>universe_exclude_subgroups</th>\n",
       "      <th>q_hat</th>\n",
       "      <th>coverage</th>\n",
       "      <th>avg_size</th>\n",
       "      <th>cov_frau1</th>\n",
       "      <th>cov_nongerman</th>\n",
       "      <th>cov_nongerman_male</th>\n",
       "      <th>cov_nongerman_female</th>\n",
       "    </tr>\n",
       "  </thead>\n",
       "  <tbody>\n",
       "    <tr>\n",
       "      <th>0</th>\n",
       "      <td>4df5ac6e0876bbdcd925702f00c597ff</td>\n",
       "      <td>2012_14</td>\n",
       "      <td>25k</td>\n",
       "      <td>scale</td>\n",
       "      <td>rf</td>\n",
       "      <td>nationality-sex</td>\n",
       "      <td>keep-all</td>\n",
       "      <td>0.66</td>\n",
       "      <td>0.915885</td>\n",
       "      <td>1.145313</td>\n",
       "      <td>0.915218</td>\n",
       "      <td>0.91029</td>\n",
       "      <td>0.925426</td>\n",
       "      <td>0.885246</td>\n",
       "    </tr>\n",
       "  </tbody>\n",
       "</table>\n",
       "</div>"
      ],
      "text/plain": [
       "                        universe_id universe_training_year  \\\n",
       "0  4df5ac6e0876bbdcd925702f00c597ff                2012_14   \n",
       "\n",
       "  universe_training_size universe_scale universe_model  \\\n",
       "0                    25k          scale             rf   \n",
       "\n",
       "  universe_exclude_features universe_exclude_subgroups  q_hat  coverage  \\\n",
       "0           nationality-sex                   keep-all   0.66  0.915885   \n",
       "\n",
       "   avg_size  cov_frau1  cov_nongerman  cov_nongerman_male  \\\n",
       "0  1.145313   0.915218        0.91029            0.925426   \n",
       "\n",
       "   cov_nongerman_female  \n",
       "0              0.885246  "
      ]
     },
     "execution_count": 56,
     "metadata": {},
     "output_type": "execute_result"
    }
   ],
   "source": [
    "cp_metrics_df"
   ]
  },
  {
   "cell_type": "markdown",
   "id": "3fc519cc",
   "metadata": {
    "papermill": {
     "duration": 0.015868,
     "end_time": "2025-08-19T18:05:28.744995",
     "exception": false,
     "start_time": "2025-08-19T18:05:28.729127",
     "status": "completed"
    },
    "tags": []
   },
   "source": [
    "# (Fairness) Metrics"
   ]
  },
  {
   "cell_type": "code",
   "execution_count": 57,
   "id": "a2e5e155",
   "metadata": {
    "execution": {
     "iopub.execute_input": "2025-08-19T18:05:28.775493Z",
     "iopub.status.busy": "2025-08-19T18:05:28.775063Z",
     "iopub.status.idle": "2025-08-19T18:05:28.793995Z",
     "shell.execute_reply": "2025-08-19T18:05:28.793265Z"
    },
    "papermill": {
     "duration": 0.042647,
     "end_time": "2025-08-19T18:05:28.801911",
     "exception": false,
     "start_time": "2025-08-19T18:05:28.759264",
     "status": "completed"
    },
    "tags": []
   },
   "outputs": [],
   "source": [
    "colname_to_bin = \"maxdeutsch1\"\n",
    "majority_value = org_train[colname_to_bin].mode()[0]\n",
    "\n",
    "org_test[\"majmin\"] = np.where(org_test[colname_to_bin] == majority_value, \"majority\", \"minority\")"
   ]
  },
  {
   "cell_type": "code",
   "execution_count": 58,
   "id": "17e3e4d5",
   "metadata": {
    "execution": {
     "iopub.execute_input": "2025-08-19T18:05:28.832550Z",
     "iopub.status.busy": "2025-08-19T18:05:28.832149Z",
     "iopub.status.idle": "2025-08-19T18:05:30.569615Z",
     "shell.execute_reply": "2025-08-19T18:05:30.568302Z"
    },
    "papermill": {
     "duration": 1.753733,
     "end_time": "2025-08-19T18:05:30.571337",
     "exception": false,
     "start_time": "2025-08-19T18:05:28.817604",
     "status": "completed"
    },
    "tags": []
   },
   "outputs": [],
   "source": [
    "example_universe = universe.copy()\n",
    "example_universe[\"cutoff\"] = example_universe[\"cutoff\"][0]\n",
    "example_universe[\"eval_fairness_grouping\"] = example_universe[\"eval_fairness_grouping\"][0]\n",
    "fairness_dict, metric_frame = universe_analysis.compute_metrics(\n",
    "    example_universe,\n",
    "    y_pred_prob=probs_test,\n",
    "    y_test=y_true,\n",
    "    org_test=org_test,\n",
    ")"
   ]
  },
  {
   "cell_type": "markdown",
   "id": "1fb7a0e9",
   "metadata": {
    "papermill": {
     "duration": 0.013517,
     "end_time": "2025-08-19T18:05:30.598298",
     "exception": false,
     "start_time": "2025-08-19T18:05:30.584781",
     "status": "completed"
    },
    "tags": []
   },
   "source": [
    "# Overall"
   ]
  },
  {
   "cell_type": "markdown",
   "id": "be1784b1",
   "metadata": {
    "papermill": {
     "duration": 0.012275,
     "end_time": "2025-08-19T18:05:30.623412",
     "exception": false,
     "start_time": "2025-08-19T18:05:30.611137",
     "status": "completed"
    },
    "tags": []
   },
   "source": [
    "Main fairness target: Equalized Odds. Seems to be a better fit than equal opportunity, since we're not only interested in Y = 1. Seems to be a better fit than demographic parity, since we also care about accuracy, not just equal distribution of preds.\n",
    "\n",
    "Pick column for computation of fairness metrics\n",
    "\n",
    "Performance\n",
    "Overall performance measures, most interesting in relation to the measures split by group below"
   ]
  },
  {
   "cell_type": "code",
   "execution_count": 59,
   "id": "b7672bee",
   "metadata": {
    "execution": {
     "iopub.execute_input": "2025-08-19T18:05:30.650329Z",
     "iopub.status.busy": "2025-08-19T18:05:30.649866Z",
     "iopub.status.idle": "2025-08-19T18:05:30.657622Z",
     "shell.execute_reply": "2025-08-19T18:05:30.656955Z"
    },
    "papermill": {
     "duration": 0.025497,
     "end_time": "2025-08-19T18:05:30.661279",
     "exception": false,
     "start_time": "2025-08-19T18:05:30.635782",
     "status": "completed"
    },
    "tags": []
   },
   "outputs": [
    {
     "data": {
      "text/plain": [
       "accuracy                   0.200502\n",
       "balanced accuracy          0.532569\n",
       "f1                         0.239102\n",
       "precision                  0.136176\n",
       "false positive rate        0.914094\n",
       "false negative rate        0.020768\n",
       "selection rate             0.922450\n",
       "count                  89710.000000\n",
       "dtype: float64"
      ]
     },
     "execution_count": 59,
     "metadata": {},
     "output_type": "execute_result"
    }
   ],
   "source": [
    "metric_frame.overall"
   ]
  },
  {
   "cell_type": "markdown",
   "id": "d93333c9",
   "metadata": {
    "papermill": {
     "duration": 0.013114,
     "end_time": "2025-08-19T18:05:30.698589",
     "exception": false,
     "start_time": "2025-08-19T18:05:30.685475",
     "status": "completed"
    },
    "tags": []
   },
   "source": [
    "By Group"
   ]
  },
  {
   "cell_type": "code",
   "execution_count": 60,
   "id": "52256966",
   "metadata": {
    "execution": {
     "iopub.execute_input": "2025-08-19T18:05:30.726618Z",
     "iopub.status.busy": "2025-08-19T18:05:30.725610Z",
     "iopub.status.idle": "2025-08-19T18:05:30.748584Z",
     "shell.execute_reply": "2025-08-19T18:05:30.747432Z"
    },
    "papermill": {
     "duration": 0.039403,
     "end_time": "2025-08-19T18:05:30.750283",
     "exception": false,
     "start_time": "2025-08-19T18:05:30.710880",
     "status": "completed"
    },
    "tags": []
   },
   "outputs": [
    {
     "data": {
      "text/html": [
       "<div>\n",
       "<style scoped>\n",
       "    .dataframe tbody tr th:only-of-type {\n",
       "        vertical-align: middle;\n",
       "    }\n",
       "\n",
       "    .dataframe tbody tr th {\n",
       "        vertical-align: top;\n",
       "    }\n",
       "\n",
       "    .dataframe thead th {\n",
       "        text-align: right;\n",
       "    }\n",
       "</style>\n",
       "<table border=\"1\" class=\"dataframe\">\n",
       "  <thead>\n",
       "    <tr style=\"text-align: right;\">\n",
       "      <th></th>\n",
       "      <th>accuracy</th>\n",
       "      <th>balanced accuracy</th>\n",
       "      <th>f1</th>\n",
       "      <th>precision</th>\n",
       "      <th>false positive rate</th>\n",
       "      <th>false negative rate</th>\n",
       "      <th>selection rate</th>\n",
       "      <th>count</th>\n",
       "    </tr>\n",
       "    <tr>\n",
       "      <th>majmin</th>\n",
       "      <th></th>\n",
       "      <th></th>\n",
       "      <th></th>\n",
       "      <th></th>\n",
       "      <th></th>\n",
       "      <th></th>\n",
       "      <th></th>\n",
       "      <th></th>\n",
       "    </tr>\n",
       "  </thead>\n",
       "  <tbody>\n",
       "    <tr>\n",
       "      <th>majority</th>\n",
       "      <td>0.187307</td>\n",
       "      <td>0.528352</td>\n",
       "      <td>0.243887</td>\n",
       "      <td>0.139036</td>\n",
       "      <td>0.935199</td>\n",
       "      <td>0.008096</td>\n",
       "      <td>0.942692</td>\n",
       "      <td>69170.0</td>\n",
       "    </tr>\n",
       "    <tr>\n",
       "      <th>minority</th>\n",
       "      <td>0.244937</td>\n",
       "      <td>0.542972</td>\n",
       "      <td>0.221240</td>\n",
       "      <td>0.125549</td>\n",
       "      <td>0.844376</td>\n",
       "      <td>0.069679</td>\n",
       "      <td>0.854284</td>\n",
       "      <td>20540.0</td>\n",
       "    </tr>\n",
       "  </tbody>\n",
       "</table>\n",
       "</div>"
      ],
      "text/plain": [
       "          accuracy  balanced accuracy        f1  precision  \\\n",
       "majmin                                                       \n",
       "majority  0.187307           0.528352  0.243887   0.139036   \n",
       "minority  0.244937           0.542972  0.221240   0.125549   \n",
       "\n",
       "          false positive rate  false negative rate  selection rate    count  \n",
       "majmin                                                                       \n",
       "majority             0.935199             0.008096        0.942692  69170.0  \n",
       "minority             0.844376             0.069679        0.854284  20540.0  "
      ]
     },
     "execution_count": 60,
     "metadata": {},
     "output_type": "execute_result"
    }
   ],
   "source": [
    "metric_frame.by_group"
   ]
  },
  {
   "cell_type": "code",
   "execution_count": 61,
   "id": "6e6c20ae",
   "metadata": {
    "execution": {
     "iopub.execute_input": "2025-08-19T18:05:30.785297Z",
     "iopub.status.busy": "2025-08-19T18:05:30.784253Z",
     "iopub.status.idle": "2025-08-19T18:05:32.598454Z",
     "shell.execute_reply": "2025-08-19T18:05:32.597601Z"
    },
    "papermill": {
     "duration": 1.833293,
     "end_time": "2025-08-19T18:05:32.603037",
     "exception": false,
     "start_time": "2025-08-19T18:05:30.769744",
     "status": "completed"
    },
    "tags": []
   },
   "outputs": [
    {
     "data": {
      "text/plain": [
       "array([[<Axes: title={'center': 'accuracy'}, xlabel='majmin'>,\n",
       "        <Axes: title={'center': 'balanced accuracy'}, xlabel='majmin'>,\n",
       "        <Axes: title={'center': 'f1'}, xlabel='majmin'>],\n",
       "       [<Axes: title={'center': 'precision'}, xlabel='majmin'>,\n",
       "        <Axes: title={'center': 'false positive rate'}, xlabel='majmin'>,\n",
       "        <Axes: title={'center': 'false negative rate'}, xlabel='majmin'>],\n",
       "       [<Axes: title={'center': 'selection rate'}, xlabel='majmin'>,\n",
       "        <Axes: title={'center': 'count'}, xlabel='majmin'>,\n",
       "        <Axes: xlabel='majmin'>]], dtype=object)"
      ]
     },
     "execution_count": 61,
     "metadata": {},
     "output_type": "execute_result"
    },
    {
     "data": {
      "image/png": "[encoded data removed]",
      "text/plain": [
       "<Figure size 1200x800 with 9 Axes>"
      ]
     },
     "metadata": {},
     "output_type": "display_data"
    }
   ],
   "source": [
    "# In a graphic\n",
    "metric_frame.by_group.plot.bar(\n",
    "    subplots=True,\n",
    "    layout=[3, 3],\n",
    "    legend=False,\n",
    "    figsize=[12, 8],\n",
    "    title=\"Show all metrics\",\n",
    ")"
   ]
  },
  {
   "cell_type": "markdown",
   "id": "b2e433ae",
   "metadata": {
    "papermill": {
     "duration": 0.014286,
     "end_time": "2025-08-19T18:05:32.643823",
     "exception": false,
     "start_time": "2025-08-19T18:05:32.629537",
     "status": "completed"
    },
    "tags": []
   },
   "source": [
    "# Final Output"
   ]
  },
  {
   "cell_type": "code",
   "execution_count": 62,
   "id": "3871301e",
   "metadata": {
    "execution": {
     "iopub.execute_input": "2025-08-19T18:05:32.675826Z",
     "iopub.status.busy": "2025-08-19T18:05:32.673701Z",
     "iopub.status.idle": "2025-08-19T18:05:32.692914Z",
     "shell.execute_reply": "2025-08-19T18:05:32.691808Z"
    },
    "papermill": {
     "duration": 0.037134,
     "end_time": "2025-08-19T18:05:32.694636",
     "exception": false,
     "start_time": "2025-08-19T18:05:32.657502",
     "status": "completed"
    },
    "tags": []
   },
   "outputs": [
    {
     "data": {
      "text/plain": [
       "4"
      ]
     },
     "execution_count": 62,
     "metadata": {},
     "output_type": "execute_result"
    }
   ],
   "source": [
    "sub_universes = universe_analysis.generate_sub_universes()\n",
    "len(sub_universes)"
   ]
  },
  {
   "cell_type": "code",
   "execution_count": 63,
   "id": "d9cfdaca",
   "metadata": {
    "execution": {
     "iopub.execute_input": "2025-08-19T18:05:32.736591Z",
     "iopub.status.busy": "2025-08-19T18:05:32.735244Z",
     "iopub.status.idle": "2025-08-19T18:05:32.745976Z",
     "shell.execute_reply": "2025-08-19T18:05:32.744331Z"
    },
    "papermill": {
     "duration": 0.028842,
     "end_time": "2025-08-19T18:05:32.747564",
     "exception": false,
     "start_time": "2025-08-19T18:05:32.718722",
     "status": "completed"
    },
    "tags": []
   },
   "outputs": [],
   "source": [
    "def filter_sub_universe_data(sub_universe, org_test):\n",
    "    # Keep all rows — no filtering\n",
    "    keep_rows_mask = np.ones(org_test.shape[0], dtype=bool)\n",
    "\n",
    "    print(f\"[INFO] Keeping all rows: {keep_rows_mask.sum()} rows retained.\")\n",
    "    return keep_rows_mask"
   ]
  },
  {
   "cell_type": "code",
   "execution_count": 64,
   "id": "2bc31ac1",
   "metadata": {
    "execution": {
     "iopub.execute_input": "2025-08-19T18:05:32.782921Z",
     "iopub.status.busy": "2025-08-19T18:05:32.781750Z",
     "iopub.status.idle": "2025-08-19T18:05:39.670006Z",
     "shell.execute_reply": "2025-08-19T18:05:39.668950Z"
    },
    "papermill": {
     "duration": 6.906068,
     "end_time": "2025-08-19T18:05:39.671298",
     "exception": false,
     "start_time": "2025-08-19T18:05:32.765230",
     "status": "completed"
    },
    "tags": []
   },
   "outputs": [
    {
     "name": "stdout",
     "output_type": "stream",
     "text": [
      "Stopping execution_time clock.\n",
      "[INFO] Keeping all rows: 89710 rows retained.\n"
     ]
    },
    {
     "name": "stdout",
     "output_type": "stream",
     "text": [
      "[INFO] Keeping all rows: 89710 rows retained.\n"
     ]
    },
    {
     "name": "stdout",
     "output_type": "stream",
     "text": [
      "[INFO] Keeping all rows: 89710 rows retained.\n"
     ]
    },
    {
     "name": "stdout",
     "output_type": "stream",
     "text": [
      "[INFO] Keeping all rows: 89710 rows retained.\n"
     ]
    },
    {
     "data": {
      "text/html": [
       "<div>\n",
       "<style scoped>\n",
       "    .dataframe tbody tr th:only-of-type {\n",
       "        vertical-align: middle;\n",
       "    }\n",
       "\n",
       "    .dataframe tbody tr th {\n",
       "        vertical-align: top;\n",
       "    }\n",
       "\n",
       "    .dataframe thead th {\n",
       "        text-align: right;\n",
       "    }\n",
       "</style>\n",
       "<table border=\"1\" class=\"dataframe\">\n",
       "  <thead>\n",
       "    <tr style=\"text-align: right;\">\n",
       "      <th></th>\n",
       "      <th>run_no</th>\n",
       "      <th>universe_id</th>\n",
       "      <th>universe_settings</th>\n",
       "      <th>execution_time</th>\n",
       "      <th>test_size_n</th>\n",
       "      <th>test_size_frac</th>\n",
       "      <th>fair_main_equalized_odds_difference</th>\n",
       "      <th>fair_main_equalized_odds_ratio</th>\n",
       "      <th>fair_main_demographic_parity_difference</th>\n",
       "      <th>fair_main_demographic_parity_ratio</th>\n",
       "      <th>...</th>\n",
       "      <th>perf_grp_precision_0</th>\n",
       "      <th>perf_grp_precision_1</th>\n",
       "      <th>perf_grp_false positive rate_0</th>\n",
       "      <th>perf_grp_false positive rate_1</th>\n",
       "      <th>perf_grp_false negative rate_0</th>\n",
       "      <th>perf_grp_false negative rate_1</th>\n",
       "      <th>perf_grp_selection rate_0</th>\n",
       "      <th>perf_grp_selection rate_1</th>\n",
       "      <th>perf_grp_count_0</th>\n",
       "      <th>perf_grp_count_1</th>\n",
       "    </tr>\n",
       "  </thead>\n",
       "  <tbody>\n",
       "    <tr>\n",
       "      <th>0</th>\n",
       "      <td>3</td>\n",
       "      <td>4df5ac6e0876bbdcd925702f00c597ff</td>\n",
       "      <td>{\"cutoff\": \"quantile_0.1\", \"eval_fairness_grou...</td>\n",
       "      <td>38.662353</td>\n",
       "      <td>89710</td>\n",
       "      <td>1.0</td>\n",
       "      <td>0.090823</td>\n",
       "      <td>0.902884</td>\n",
       "      <td>0.088408</td>\n",
       "      <td>0.906218</td>\n",
       "      <td>...</td>\n",
       "      <td>NaN</td>\n",
       "      <td>NaN</td>\n",
       "      <td>NaN</td>\n",
       "      <td>NaN</td>\n",
       "      <td>NaN</td>\n",
       "      <td>NaN</td>\n",
       "      <td>NaN</td>\n",
       "      <td>NaN</td>\n",
       "      <td>NaN</td>\n",
       "      <td>NaN</td>\n",
       "    </tr>\n",
       "    <tr>\n",
       "      <th>0</th>\n",
       "      <td>3</td>\n",
       "      <td>4df5ac6e0876bbdcd925702f00c597ff</td>\n",
       "      <td>{\"cutoff\": \"quantile_0.1\", \"eval_fairness_grou...</td>\n",
       "      <td>38.662353</td>\n",
       "      <td>89710</td>\n",
       "      <td>1.0</td>\n",
       "      <td>0.090823</td>\n",
       "      <td>0.902884</td>\n",
       "      <td>0.088408</td>\n",
       "      <td>0.906218</td>\n",
       "      <td>...</td>\n",
       "      <td>0.125549</td>\n",
       "      <td>0.139036</td>\n",
       "      <td>0.844376</td>\n",
       "      <td>0.935199</td>\n",
       "      <td>0.069679</td>\n",
       "      <td>0.008096</td>\n",
       "      <td>0.854284</td>\n",
       "      <td>0.942692</td>\n",
       "      <td>20540.0</td>\n",
       "      <td>69170.0</td>\n",
       "    </tr>\n",
       "    <tr>\n",
       "      <th>0</th>\n",
       "      <td>3</td>\n",
       "      <td>4df5ac6e0876bbdcd925702f00c597ff</td>\n",
       "      <td>{\"cutoff\": \"quantile_0.25\", \"eval_fairness_gro...</td>\n",
       "      <td>38.662353</td>\n",
       "      <td>89710</td>\n",
       "      <td>1.0</td>\n",
       "      <td>0.099986</td>\n",
       "      <td>0.888308</td>\n",
       "      <td>0.090776</td>\n",
       "      <td>0.885762</td>\n",
       "      <td>...</td>\n",
       "      <td>NaN</td>\n",
       "      <td>NaN</td>\n",
       "      <td>NaN</td>\n",
       "      <td>NaN</td>\n",
       "      <td>NaN</td>\n",
       "      <td>NaN</td>\n",
       "      <td>NaN</td>\n",
       "      <td>NaN</td>\n",
       "      <td>NaN</td>\n",
       "      <td>NaN</td>\n",
       "    </tr>\n",
       "    <tr>\n",
       "      <th>0</th>\n",
       "      <td>3</td>\n",
       "      <td>4df5ac6e0876bbdcd925702f00c597ff</td>\n",
       "      <td>{\"cutoff\": \"quantile_0.25\", \"eval_fairness_gro...</td>\n",
       "      <td>38.662353</td>\n",
       "      <td>89710</td>\n",
       "      <td>1.0</td>\n",
       "      <td>0.099986</td>\n",
       "      <td>0.888308</td>\n",
       "      <td>0.090776</td>\n",
       "      <td>0.885762</td>\n",
       "      <td>...</td>\n",
       "      <td>0.141039</td>\n",
       "      <td>0.159814</td>\n",
       "      <td>0.683359</td>\n",
       "      <td>0.769282</td>\n",
       "      <td>0.138936</td>\n",
       "      <td>0.038950</td>\n",
       "      <td>0.703846</td>\n",
       "      <td>0.794622</td>\n",
       "      <td>20540.0</td>\n",
       "      <td>69170.0</td>\n",
       "    </tr>\n",
       "  </tbody>\n",
       "</table>\n",
       "<p>4 rows × 50 columns</p>\n",
       "</div>"
      ],
      "text/plain": [
       "  run_no                       universe_id  \\\n",
       "0      3  4df5ac6e0876bbdcd925702f00c597ff   \n",
       "0      3  4df5ac6e0876bbdcd925702f00c597ff   \n",
       "0      3  4df5ac6e0876bbdcd925702f00c597ff   \n",
       "0      3  4df5ac6e0876bbdcd925702f00c597ff   \n",
       "\n",
       "                                   universe_settings  execution_time  \\\n",
       "0  {\"cutoff\": \"quantile_0.1\", \"eval_fairness_grou...       38.662353   \n",
       "0  {\"cutoff\": \"quantile_0.1\", \"eval_fairness_grou...       38.662353   \n",
       "0  {\"cutoff\": \"quantile_0.25\", \"eval_fairness_gro...       38.662353   \n",
       "0  {\"cutoff\": \"quantile_0.25\", \"eval_fairness_gro...       38.662353   \n",
       "\n",
       "   test_size_n  test_size_frac  fair_main_equalized_odds_difference  \\\n",
       "0        89710             1.0                             0.090823   \n",
       "0        89710             1.0                             0.090823   \n",
       "0        89710             1.0                             0.099986   \n",
       "0        89710             1.0                             0.099986   \n",
       "\n",
       "   fair_main_equalized_odds_ratio  fair_main_demographic_parity_difference  \\\n",
       "0                        0.902884                                 0.088408   \n",
       "0                        0.902884                                 0.088408   \n",
       "0                        0.888308                                 0.090776   \n",
       "0                        0.888308                                 0.090776   \n",
       "\n",
       "   fair_main_demographic_parity_ratio  ...  perf_grp_precision_0  \\\n",
       "0                            0.906218  ...                   NaN   \n",
       "0                            0.906218  ...              0.125549   \n",
       "0                            0.885762  ...                   NaN   \n",
       "0                            0.885762  ...              0.141039   \n",
       "\n",
       "   perf_grp_precision_1  perf_grp_false positive rate_0  \\\n",
       "0                   NaN                             NaN   \n",
       "0              0.139036                        0.844376   \n",
       "0                   NaN                             NaN   \n",
       "0              0.159814                        0.683359   \n",
       "\n",
       "   perf_grp_false positive rate_1  perf_grp_false negative rate_0  \\\n",
       "0                             NaN                             NaN   \n",
       "0                        0.935199                        0.069679   \n",
       "0                             NaN                             NaN   \n",
       "0                        0.769282                        0.138936   \n",
       "\n",
       "   perf_grp_false negative rate_1  perf_grp_selection rate_0  \\\n",
       "0                             NaN                        NaN   \n",
       "0                        0.008096                   0.854284   \n",
       "0                             NaN                        NaN   \n",
       "0                        0.038950                   0.703846   \n",
       "\n",
       "   perf_grp_selection rate_1  perf_grp_count_0  perf_grp_count_1  \n",
       "0                        NaN               NaN               NaN  \n",
       "0                   0.942692           20540.0           69170.0  \n",
       "0                        NaN               NaN               NaN  \n",
       "0                   0.794622           20540.0           69170.0  \n",
       "\n",
       "[4 rows x 50 columns]"
      ]
     },
     "execution_count": 64,
     "metadata": {},
     "output_type": "execute_result"
    }
   ],
   "source": [
    "final_output = universe_analysis.generate_final_output(\n",
    "    y_pred_prob=probs_test,\n",
    "    y_test=y_true,\n",
    "    org_test=org_test,\n",
    "    filter_data=filter_sub_universe_data,\n",
    "    cp_metrics_df=cp_metrics_df,\n",
    "    save=True,\n",
    ")\n",
    "final_output"
   ]
  },
  {
   "cell_type": "code",
   "execution_count": null,
   "id": "8b80a1ff",
   "metadata": {
    "papermill": {
     "duration": 0.023417,
     "end_time": "2025-08-19T18:05:39.717578",
     "exception": false,
     "start_time": "2025-08-19T18:05:39.694161",
     "status": "completed"
    },
    "tags": []
   },
   "outputs": [],
   "source": []
  },
  {
   "cell_type": "code",
   "execution_count": null,
   "id": "275c9fad",
   "metadata": {
    "papermill": {
     "duration": 0.014856,
     "end_time": "2025-08-19T18:05:39.748148",
     "exception": false,
     "start_time": "2025-08-19T18:05:39.733292",
     "status": "completed"
    },
    "tags": []
   },
   "outputs": [],
   "source": []
  }
 ],
 "metadata": {
  "celltoolbar": "Tags",
  "kernelspec": {
   "display_name": "Python (CMA Fairness)",
   "language": "python",
   "name": "cma_fair_env"
  },
  "language_info": {
   "codemirror_mode": {
    "name": "ipython",
    "version": 3
   },
   "file_extension": ".py",
   "mimetype": "text/x-python",
   "name": "python",
   "nbconvert_exporter": "python",
   "pygments_lexer": "ipython3",
   "version": "3.10.12"
  },
  "papermill": {
   "default_parameters": {},
   "duration": 49.199811,
   "end_time": "2025-08-19T18:05:40.583913",
   "environment_variables": {},
   "exception": null,
   "input_path": "universe_analysis.ipynb",
   "output_path": "output/runs/3/notebooks/m_3-4df5ac6e0876bbdcd925702f00c597ff.ipynb",
   "parameters": {
    "output_dir": "output",
    "run_no": "3",
    "seed": "2023",
    "universe": "{\"cutoff\": [\"quantile_0.1\", \"quantile_0.25\"], \"eval_fairness_grouping\": [\"majority-minority\", \"nationality-all\"], \"exclude_features\": \"nationality-sex\", \"exclude_subgroups\": \"keep-all\", \"model\": \"rf\", \"scale\": \"scale\", \"training_size\": \"25k\", \"training_year\": \"2012_14\"}",
    "universe_id": "4df5ac6e0876bbdcd925702f00c597ff"
   },
   "start_time": "2025-08-19T18:04:51.384102",
   "version": "2.6.0"
  }
 },
 "nbformat": 4,
 "nbformat_minor": 5
}