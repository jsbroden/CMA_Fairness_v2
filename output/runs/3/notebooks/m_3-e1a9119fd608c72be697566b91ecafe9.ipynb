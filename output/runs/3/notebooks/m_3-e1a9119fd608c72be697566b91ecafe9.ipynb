{
 "cells": [
  {
   "cell_type": "markdown",
   "id": "ef23dbb3",
   "metadata": {
    "papermill": {
     "duration": 0.022556,
     "end_time": "2025-08-19T18:52:53.706780",
     "exception": false,
     "start_time": "2025-08-19T18:52:53.684224",
     "status": "completed"
    },
    "tags": []
   },
   "source": [
    "# Setup"
   ]
  },
  {
   "cell_type": "code",
   "execution_count": 1,
   "id": "0bc8e7dc",
   "metadata": {
    "execution": {
     "iopub.execute_input": "2025-08-19T18:52:53.730309Z",
     "iopub.status.busy": "2025-08-19T18:52:53.729353Z",
     "iopub.status.idle": "2025-08-19T18:52:53.750750Z",
     "shell.execute_reply": "2025-08-19T18:52:53.749594Z"
    },
    "papermill": {
     "duration": 0.034255,
     "end_time": "2025-08-19T18:52:53.752843",
     "exception": false,
     "start_time": "2025-08-19T18:52:53.718588",
     "status": "completed"
    },
    "tags": []
   },
   "outputs": [
    {
     "name": "stdout",
     "output_type": "stream",
     "text": [
      "/dss/dsshome1/0C/ra93lal2/cma/CMA_Fairness_v2\n"
     ]
    },
    {
     "name": "stderr",
     "output_type": "stream",
     "text": [
      "/dss/dsshome1/0C/ra93lal2/.local/share/virtualenvs/CMA_Fairness_v2-3j10GkSs/lib/python3.10/site-packages/IPython/core/magics/osm.py:393: UserWarning: This is now an optional IPython functionality, using bookmarks requires you to install the `pickleshare` library.\n",
      "  bkms = self.shell.db.get('bookmarks', {})\n",
      "/dss/dsshome1/0C/ra93lal2/.local/share/virtualenvs/CMA_Fairness_v2-3j10GkSs/lib/python3.10/site-packages/IPython/core/magics/osm.py:417: UserWarning: This is now an optional IPython functionality, setting dhist requires you to install the `pickleshare` library.\n",
      "  self.shell.db['dhist'] = compress_dhist(dhist)[-100:]\n"
     ]
    }
   ],
   "source": [
    "%cd ~/cma/CMA_Fairness_v2"
   ]
  },
  {
   "cell_type": "markdown",
   "id": "9d235661",
   "metadata": {
    "papermill": {
     "duration": 0.016051,
     "end_time": "2025-08-19T18:52:53.782154",
     "exception": false,
     "start_time": "2025-08-19T18:52:53.766103",
     "status": "completed"
    },
    "tags": []
   },
   "source": [
    "The following cell holds the definition of our parameters, these values can be overriden by rendering the with e.g. the following command:\n",
    "\n",
    "papermill -p alpha 0.2 -p ratio 0.3 universe_analysis.ipynb output/test_run.ipynb"
   ]
  },
  {
   "cell_type": "code",
   "execution_count": 2,
   "id": "4a789d8e",
   "metadata": {
    "execution": {
     "iopub.execute_input": "2025-08-19T18:52:53.805104Z",
     "iopub.status.busy": "2025-08-19T18:52:53.803890Z",
     "iopub.status.idle": "2025-08-19T18:52:53.811027Z",
     "shell.execute_reply": "2025-08-19T18:52:53.809660Z"
    },
    "papermill": {
     "duration": 0.020769,
     "end_time": "2025-08-19T18:52:53.813587",
     "exception": false,
     "start_time": "2025-08-19T18:52:53.792818",
     "status": "completed"
    },
    "tags": []
   },
   "outputs": [
    {
     "name": "stdout",
     "output_type": "stream",
     "text": [
      "Current working directory: /dss/dsshome1/0C/ra93lal2/cma/CMA_Fairness_v2\n"
     ]
    }
   ],
   "source": [
    "import os\n",
    "print(\"Current working directory:\", os.getcwd())"
   ]
  },
  {
   "cell_type": "code",
   "execution_count": 3,
   "id": "4132aaed",
   "metadata": {
    "execution": {
     "iopub.execute_input": "2025-08-19T18:52:53.836267Z",
     "iopub.status.busy": "2025-08-19T18:52:53.835329Z",
     "iopub.status.idle": "2025-08-19T18:52:53.845638Z",
     "shell.execute_reply": "2025-08-19T18:52:53.844305Z"
    },
    "papermill": {
     "duration": 0.023555,
     "end_time": "2025-08-19T18:52:53.848114",
     "exception": false,
     "start_time": "2025-08-19T18:52:53.824559",
     "status": "completed"
    },
    "tags": [
     "parameters"
    ]
   },
   "outputs": [],
   "source": [
    "run_no = 0\n",
    "universe_id = \"test\"\n",
    "universe = {\n",
    "    \"training_size\": \"5k\", # \"25k\", \"5k\", \"1k\"\n",
    "    \"training_year\": \"2012_14\", # \"2014\", \"2012_14\", \"2010_14\"\n",
    "    \"scale\": \"scale\", # \"scale\", \"do-not-scale\",\n",
    "    \"model\": \"elasticnet\", # \"logreg\", \"penalized_logreg\", \"rf\", \"gbm\", \"elasticnet\"\n",
    "    \"cutoff\": [\"quantile_0.15\", \"quantile_0.30\"],\n",
    "    \"exclude_features\": \"age\", # \"none\", \"nationality\", \"sex\", \"nationality-sex\", \"age\"\n",
    "    \"exclude_subgroups\": \"drop-non-german\", # \"keep-all\", \"drop-non-german\"\n",
    "    \"eval_fairness_grouping\": [\"majority-minority\", \"nationality-all\"]\n",
    "}\n",
    "\n",
    "output_dir=\"./output\"\n",
    "seed=0"
   ]
  },
  {
   "cell_type": "code",
   "execution_count": 4,
   "id": "c2837965",
   "metadata": {
    "execution": {
     "iopub.execute_input": "2025-08-19T18:52:53.872338Z",
     "iopub.status.busy": "2025-08-19T18:52:53.871414Z",
     "iopub.status.idle": "2025-08-19T18:52:53.880073Z",
     "shell.execute_reply": "2025-08-19T18:52:53.878570Z"
    },
    "papermill": {
     "duration": 0.021116,
     "end_time": "2025-08-19T18:52:53.881992",
     "exception": false,
     "start_time": "2025-08-19T18:52:53.860876",
     "status": "completed"
    },
    "tags": [
     "injected-parameters"
    ]
   },
   "outputs": [],
   "source": [
    "# Parameters\n",
    "universe_id = \"e1a9119fd608c72be697566b91ecafe9\"\n",
    "run_no = \"3\"\n",
    "universe = \"{\\\"cutoff\\\": [\\\"quantile_0.1\\\", \\\"quantile_0.25\\\"], \\\"eval_fairness_grouping\\\": [\\\"majority-minority\\\", \\\"nationality-all\\\"], \\\"exclude_features\\\": \\\"sex\\\", \\\"exclude_subgroups\\\": \\\"keep-all\\\", \\\"model\\\": \\\"logreg\\\", \\\"scale\\\": \\\"do-not-scale\\\", \\\"training_size\\\": \\\"1k\\\", \\\"training_year\\\": \\\"2014\\\"}\"\n",
    "output_dir = \"output\"\n",
    "seed = \"2023\"\n"
   ]
  },
  {
   "cell_type": "code",
   "execution_count": 5,
   "id": "a5d7941f",
   "metadata": {
    "execution": {
     "iopub.execute_input": "2025-08-19T18:52:53.913818Z",
     "iopub.status.busy": "2025-08-19T18:52:53.912740Z",
     "iopub.status.idle": "2025-08-19T18:52:53.921130Z",
     "shell.execute_reply": "2025-08-19T18:52:53.919434Z"
    },
    "papermill": {
     "duration": 0.030117,
     "end_time": "2025-08-19T18:52:53.923329",
     "exception": false,
     "start_time": "2025-08-19T18:52:53.893212",
     "status": "completed"
    },
    "tags": []
   },
   "outputs": [],
   "source": [
    "import json\n",
    "if isinstance(universe, str):\n",
    "    universe = json.loads(universe)"
   ]
  },
  {
   "cell_type": "code",
   "execution_count": 6,
   "id": "7076ccb1",
   "metadata": {
    "execution": {
     "iopub.execute_input": "2025-08-19T18:52:53.948752Z",
     "iopub.status.busy": "2025-08-19T18:52:53.947446Z",
     "iopub.status.idle": "2025-08-19T18:52:53.995350Z",
     "shell.execute_reply": "2025-08-19T18:52:53.994663Z"
    },
    "papermill": {
     "duration": 0.061294,
     "end_time": "2025-08-19T18:52:53.998020",
     "exception": false,
     "start_time": "2025-08-19T18:52:53.936726",
     "status": "completed"
    },
    "tags": []
   },
   "outputs": [],
   "source": [
    "# Auto-reload the custom package\n",
    "%load_ext autoreload\n",
    "%autoreload 1\n",
    "%aimport fairness_multiverse"
   ]
  },
  {
   "cell_type": "code",
   "execution_count": 7,
   "id": "94c8eb93",
   "metadata": {
    "execution": {
     "iopub.execute_input": "2025-08-19T18:52:54.033433Z",
     "iopub.status.busy": "2025-08-19T18:52:54.032508Z",
     "iopub.status.idle": "2025-08-19T18:52:55.613549Z",
     "shell.execute_reply": "2025-08-19T18:52:55.608101Z"
    },
    "papermill": {
     "duration": 1.596116,
     "end_time": "2025-08-19T18:52:55.615579",
     "exception": false,
     "start_time": "2025-08-19T18:52:54.019463",
     "status": "completed"
    },
    "tags": []
   },
   "outputs": [],
   "source": [
    "from fairness_multiverse.universe import UniverseAnalysis\n",
    "\n",
    "universe_analysis = UniverseAnalysis(\n",
    "    run_no = run_no,\n",
    "    universe_id = universe_id,\n",
    "    universe = universe,\n",
    "    output_dir=output_dir,\n",
    ")"
   ]
  },
  {
   "cell_type": "code",
   "execution_count": 8,
   "id": "2a6381cf",
   "metadata": {
    "execution": {
     "iopub.execute_input": "2025-08-19T18:52:55.644522Z",
     "iopub.status.busy": "2025-08-19T18:52:55.643611Z",
     "iopub.status.idle": "2025-08-19T18:52:55.652173Z",
     "shell.execute_reply": "2025-08-19T18:52:55.651015Z"
    },
    "papermill": {
     "duration": 0.024957,
     "end_time": "2025-08-19T18:52:55.656659",
     "exception": false,
     "start_time": "2025-08-19T18:52:55.631702",
     "status": "completed"
    },
    "tags": []
   },
   "outputs": [
    {
     "name": "stdout",
     "output_type": "stream",
     "text": [
      "Using Seed: 2023\n"
     ]
    }
   ],
   "source": [
    "import numpy as np\n",
    "parsed_seed = int(seed)\n",
    "np.random.seed(parsed_seed)\n",
    "print(f\"Using Seed: {parsed_seed}\")"
   ]
  },
  {
   "cell_type": "markdown",
   "id": "b6e958b4",
   "metadata": {
    "papermill": {
     "duration": 0.010174,
     "end_time": "2025-08-19T18:52:55.676834",
     "exception": false,
     "start_time": "2025-08-19T18:52:55.666660",
     "status": "completed"
    },
    "tags": []
   },
   "source": [
    "# Loading Data"
   ]
  },
  {
   "cell_type": "code",
   "execution_count": 9,
   "id": "98701482",
   "metadata": {
    "execution": {
     "iopub.execute_input": "2025-08-19T18:52:55.699141Z",
     "iopub.status.busy": "2025-08-19T18:52:55.697964Z",
     "iopub.status.idle": "2025-08-19T18:53:06.145166Z",
     "shell.execute_reply": "2025-08-19T18:53:06.143923Z"
    },
    "papermill": {
     "duration": 10.459679,
     "end_time": "2025-08-19T18:53:06.146487",
     "exception": false,
     "start_time": "2025-08-19T18:52:55.686808",
     "status": "completed"
    },
    "tags": []
   },
   "outputs": [
    {
     "name": "stdout",
     "output_type": "stream",
     "text": [
      "Loading SIAB data from cache: data/siab_cached.csv.gz\n"
     ]
    },
    {
     "name": "stdout",
     "output_type": "stream",
     "text": [
      "(643690, 164)\n"
     ]
    }
   ],
   "source": [
    "from pathlib import Path\n",
    "import pandas as pd\n",
    "\n",
    "# File paths\n",
    "raw_file = Path(\"data/raw/siab.csv\")\n",
    "cache_file = Path(\"data/siab_cached.csv.gz\")\n",
    "\n",
    "# Ensure cache directory exists\n",
    "cache_file.parent.mkdir(parents=True, exist_ok=True)\n",
    "\n",
    "# Load with simple caching\n",
    "if cache_file.exists():\n",
    "    print(f\"Loading SIAB data from cache: {cache_file}\")\n",
    "    siab = pd.read_csv(cache_file, compression='gzip')\n",
    "else:\n",
    "    print(f\"Cache not found. Reading raw SIAB data: {raw_file}\")\n",
    "    siab = pd.read_csv(raw_file)\n",
    "    siab.to_csv(cache_file, index=False, compression='gzip')\n",
    "    print(f\"Cached SIAB data to: {cache_file}\")\n",
    "\n",
    "print(siab.shape)"
   ]
  },
  {
   "cell_type": "code",
   "execution_count": 10,
   "id": "058d2abb",
   "metadata": {
    "execution": {
     "iopub.execute_input": "2025-08-19T18:53:06.169866Z",
     "iopub.status.busy": "2025-08-19T18:53:06.169428Z",
     "iopub.status.idle": "2025-08-19T18:53:06.346523Z",
     "shell.execute_reply": "2025-08-19T18:53:06.345577Z"
    },
    "papermill": {
     "duration": 0.19029,
     "end_time": "2025-08-19T18:53:06.349105",
     "exception": false,
     "start_time": "2025-08-19T18:53:06.158815",
     "status": "completed"
    },
    "tags": []
   },
   "outputs": [
    {
     "data": {
      "text/html": [
       "<div>\n",
       "<style scoped>\n",
       "    .dataframe tbody tr th:only-of-type {\n",
       "        vertical-align: middle;\n",
       "    }\n",
       "\n",
       "    .dataframe tbody tr th {\n",
       "        vertical-align: top;\n",
       "    }\n",
       "\n",
       "    .dataframe thead th {\n",
       "        text-align: right;\n",
       "    }\n",
       "</style>\n",
       "<table border=\"1\" class=\"dataframe\">\n",
       "  <thead>\n",
       "    <tr style=\"text-align: right;\">\n",
       "      <th></th>\n",
       "      <th>persnr</th>\n",
       "      <th>year</th>\n",
       "      <th>nrEntry</th>\n",
       "      <th>ltue</th>\n",
       "      <th>employed_before</th>\n",
       "      <th>receipt_leh_before</th>\n",
       "      <th>receipt_lhg_before</th>\n",
       "      <th>se_before</th>\n",
       "      <th>ASU_notue_seeking_before</th>\n",
       "      <th>ASU_other_before</th>\n",
       "      <th>...</th>\n",
       "      <th>minijob_tot_dur_byage</th>\n",
       "      <th>ft_tot_dur_byage</th>\n",
       "      <th>befrist_tot_dur_byage</th>\n",
       "      <th>leih_tot_dur_byage</th>\n",
       "      <th>LHG_tot_dur_byage</th>\n",
       "      <th>LEH_tot_dur_byage</th>\n",
       "      <th>almp_tot_dur_byage</th>\n",
       "      <th>almp_aw_tot_dur_byage</th>\n",
       "      <th>se_tot_dur_byage</th>\n",
       "      <th>seeking1_tot_dur_byage</th>\n",
       "    </tr>\n",
       "  </thead>\n",
       "  <tbody>\n",
       "    <tr>\n",
       "      <th>0</th>\n",
       "      <td>7</td>\n",
       "      <td>2015</td>\n",
       "      <td>1</td>\n",
       "      <td>0</td>\n",
       "      <td>1</td>\n",
       "      <td>0</td>\n",
       "      <td>0</td>\n",
       "      <td>0</td>\n",
       "      <td>1</td>\n",
       "      <td>0</td>\n",
       "      <td>...</td>\n",
       "      <td>0.000000</td>\n",
       "      <td>0.000000</td>\n",
       "      <td>15.043478</td>\n",
       "      <td>0.000000</td>\n",
       "      <td>0.000000</td>\n",
       "      <td>0.000000</td>\n",
       "      <td>0.000000</td>\n",
       "      <td>0.000000</td>\n",
       "      <td>0.000000</td>\n",
       "      <td>0.000000</td>\n",
       "    </tr>\n",
       "    <tr>\n",
       "      <th>1</th>\n",
       "      <td>18</td>\n",
       "      <td>2010</td>\n",
       "      <td>1</td>\n",
       "      <td>1</td>\n",
       "      <td>0</td>\n",
       "      <td>0</td>\n",
       "      <td>0</td>\n",
       "      <td>0</td>\n",
       "      <td>0</td>\n",
       "      <td>0</td>\n",
       "      <td>...</td>\n",
       "      <td>0.000000</td>\n",
       "      <td>0.000000</td>\n",
       "      <td>0.000000</td>\n",
       "      <td>0.000000</td>\n",
       "      <td>0.000000</td>\n",
       "      <td>0.000000</td>\n",
       "      <td>0.000000</td>\n",
       "      <td>0.000000</td>\n",
       "      <td>0.000000</td>\n",
       "      <td>0.000000</td>\n",
       "    </tr>\n",
       "    <tr>\n",
       "      <th>2</th>\n",
       "      <td>18</td>\n",
       "      <td>2011</td>\n",
       "      <td>2</td>\n",
       "      <td>0</td>\n",
       "      <td>1</td>\n",
       "      <td>0</td>\n",
       "      <td>1</td>\n",
       "      <td>0</td>\n",
       "      <td>1</td>\n",
       "      <td>0</td>\n",
       "      <td>...</td>\n",
       "      <td>2.714286</td>\n",
       "      <td>2.714286</td>\n",
       "      <td>0.000000</td>\n",
       "      <td>0.000000</td>\n",
       "      <td>10.775510</td>\n",
       "      <td>0.000000</td>\n",
       "      <td>8.367347</td>\n",
       "      <td>0.000000</td>\n",
       "      <td>0.000000</td>\n",
       "      <td>9.836735</td>\n",
       "    </tr>\n",
       "    <tr>\n",
       "      <th>3</th>\n",
       "      <td>18</td>\n",
       "      <td>2012</td>\n",
       "      <td>3</td>\n",
       "      <td>0</td>\n",
       "      <td>1</td>\n",
       "      <td>0</td>\n",
       "      <td>1</td>\n",
       "      <td>0</td>\n",
       "      <td>1</td>\n",
       "      <td>0</td>\n",
       "      <td>...</td>\n",
       "      <td>4.200000</td>\n",
       "      <td>4.200000</td>\n",
       "      <td>0.000000</td>\n",
       "      <td>0.000000</td>\n",
       "      <td>12.100000</td>\n",
       "      <td>0.000000</td>\n",
       "      <td>9.400000</td>\n",
       "      <td>0.000000</td>\n",
       "      <td>0.000000</td>\n",
       "      <td>9.960000</td>\n",
       "    </tr>\n",
       "    <tr>\n",
       "      <th>4</th>\n",
       "      <td>18</td>\n",
       "      <td>2012</td>\n",
       "      <td>4</td>\n",
       "      <td>0</td>\n",
       "      <td>1</td>\n",
       "      <td>0</td>\n",
       "      <td>1</td>\n",
       "      <td>0</td>\n",
       "      <td>1</td>\n",
       "      <td>0</td>\n",
       "      <td>...</td>\n",
       "      <td>5.460000</td>\n",
       "      <td>5.460000</td>\n",
       "      <td>0.000000</td>\n",
       "      <td>0.000000</td>\n",
       "      <td>13.360000</td>\n",
       "      <td>0.000000</td>\n",
       "      <td>10.320000</td>\n",
       "      <td>0.000000</td>\n",
       "      <td>0.000000</td>\n",
       "      <td>10.280000</td>\n",
       "    </tr>\n",
       "    <tr>\n",
       "      <th>...</th>\n",
       "      <td>...</td>\n",
       "      <td>...</td>\n",
       "      <td>...</td>\n",
       "      <td>...</td>\n",
       "      <td>...</td>\n",
       "      <td>...</td>\n",
       "      <td>...</td>\n",
       "      <td>...</td>\n",
       "      <td>...</td>\n",
       "      <td>...</td>\n",
       "      <td>...</td>\n",
       "      <td>...</td>\n",
       "      <td>...</td>\n",
       "      <td>...</td>\n",
       "      <td>...</td>\n",
       "      <td>...</td>\n",
       "      <td>...</td>\n",
       "      <td>...</td>\n",
       "      <td>...</td>\n",
       "      <td>...</td>\n",
       "      <td>...</td>\n",
       "    </tr>\n",
       "    <tr>\n",
       "      <th>643685</th>\n",
       "      <td>1827860</td>\n",
       "      <td>2013</td>\n",
       "      <td>1</td>\n",
       "      <td>0</td>\n",
       "      <td>0</td>\n",
       "      <td>0</td>\n",
       "      <td>1</td>\n",
       "      <td>0</td>\n",
       "      <td>0</td>\n",
       "      <td>1</td>\n",
       "      <td>...</td>\n",
       "      <td>0.000000</td>\n",
       "      <td>0.000000</td>\n",
       "      <td>0.000000</td>\n",
       "      <td>0.000000</td>\n",
       "      <td>0.612903</td>\n",
       "      <td>0.000000</td>\n",
       "      <td>0.000000</td>\n",
       "      <td>0.000000</td>\n",
       "      <td>0.000000</td>\n",
       "      <td>0.000000</td>\n",
       "    </tr>\n",
       "    <tr>\n",
       "      <th>643686</th>\n",
       "      <td>1827860</td>\n",
       "      <td>2015</td>\n",
       "      <td>2</td>\n",
       "      <td>1</td>\n",
       "      <td>0</td>\n",
       "      <td>0</td>\n",
       "      <td>1</td>\n",
       "      <td>0</td>\n",
       "      <td>1</td>\n",
       "      <td>0</td>\n",
       "      <td>...</td>\n",
       "      <td>0.000000</td>\n",
       "      <td>0.000000</td>\n",
       "      <td>0.212121</td>\n",
       "      <td>0.212121</td>\n",
       "      <td>17.363636</td>\n",
       "      <td>0.000000</td>\n",
       "      <td>8.909091</td>\n",
       "      <td>0.000000</td>\n",
       "      <td>0.000000</td>\n",
       "      <td>7.121212</td>\n",
       "    </tr>\n",
       "    <tr>\n",
       "      <th>643687</th>\n",
       "      <td>1827860</td>\n",
       "      <td>2016</td>\n",
       "      <td>3</td>\n",
       "      <td>1</td>\n",
       "      <td>0</td>\n",
       "      <td>0</td>\n",
       "      <td>1</td>\n",
       "      <td>1</td>\n",
       "      <td>0</td>\n",
       "      <td>1</td>\n",
       "      <td>...</td>\n",
       "      <td>0.000000</td>\n",
       "      <td>0.000000</td>\n",
       "      <td>0.294118</td>\n",
       "      <td>0.205882</td>\n",
       "      <td>34.705882</td>\n",
       "      <td>0.000000</td>\n",
       "      <td>10.352941</td>\n",
       "      <td>1.705882</td>\n",
       "      <td>1.705882</td>\n",
       "      <td>23.911765</td>\n",
       "    </tr>\n",
       "    <tr>\n",
       "      <th>643688</th>\n",
       "      <td>1827869</td>\n",
       "      <td>2013</td>\n",
       "      <td>1</td>\n",
       "      <td>1</td>\n",
       "      <td>1</td>\n",
       "      <td>0</td>\n",
       "      <td>0</td>\n",
       "      <td>0</td>\n",
       "      <td>1</td>\n",
       "      <td>0</td>\n",
       "      <td>...</td>\n",
       "      <td>0.000000</td>\n",
       "      <td>0.000000</td>\n",
       "      <td>0.000000</td>\n",
       "      <td>0.000000</td>\n",
       "      <td>0.000000</td>\n",
       "      <td>0.525424</td>\n",
       "      <td>0.000000</td>\n",
       "      <td>0.000000</td>\n",
       "      <td>0.000000</td>\n",
       "      <td>0.000000</td>\n",
       "    </tr>\n",
       "    <tr>\n",
       "      <th>643689</th>\n",
       "      <td>1827869</td>\n",
       "      <td>2014</td>\n",
       "      <td>2</td>\n",
       "      <td>0</td>\n",
       "      <td>0</td>\n",
       "      <td>1</td>\n",
       "      <td>0</td>\n",
       "      <td>0</td>\n",
       "      <td>1</td>\n",
       "      <td>0</td>\n",
       "      <td>...</td>\n",
       "      <td>0.000000</td>\n",
       "      <td>0.666667</td>\n",
       "      <td>0.666667</td>\n",
       "      <td>0.000000</td>\n",
       "      <td>0.000000</td>\n",
       "      <td>8.950000</td>\n",
       "      <td>1.033333</td>\n",
       "      <td>0.083333</td>\n",
       "      <td>0.083333</td>\n",
       "      <td>8.133333</td>\n",
       "    </tr>\n",
       "  </tbody>\n",
       "</table>\n",
       "<p>643690 rows × 164 columns</p>\n",
       "</div>"
      ],
      "text/plain": [
       "         persnr  year  nrEntry  ltue  employed_before  receipt_leh_before  \\\n",
       "0             7  2015        1     0                1                   0   \n",
       "1            18  2010        1     1                0                   0   \n",
       "2            18  2011        2     0                1                   0   \n",
       "3            18  2012        3     0                1                   0   \n",
       "4            18  2012        4     0                1                   0   \n",
       "...         ...   ...      ...   ...              ...                 ...   \n",
       "643685  1827860  2013        1     0                0                   0   \n",
       "643686  1827860  2015        2     1                0                   0   \n",
       "643687  1827860  2016        3     1                0                   0   \n",
       "643688  1827869  2013        1     1                1                   0   \n",
       "643689  1827869  2014        2     0                0                   1   \n",
       "\n",
       "        receipt_lhg_before  se_before  ASU_notue_seeking_before  \\\n",
       "0                        0          0                         1   \n",
       "1                        0          0                         0   \n",
       "2                        1          0                         1   \n",
       "3                        1          0                         1   \n",
       "4                        1          0                         1   \n",
       "...                    ...        ...                       ...   \n",
       "643685                   1          0                         0   \n",
       "643686                   1          0                         1   \n",
       "643687                   1          1                         0   \n",
       "643688                   0          0                         1   \n",
       "643689                   0          0                         1   \n",
       "\n",
       "        ASU_other_before  ...  minijob_tot_dur_byage  ft_tot_dur_byage  \\\n",
       "0                      0  ...               0.000000          0.000000   \n",
       "1                      0  ...               0.000000          0.000000   \n",
       "2                      0  ...               2.714286          2.714286   \n",
       "3                      0  ...               4.200000          4.200000   \n",
       "4                      0  ...               5.460000          5.460000   \n",
       "...                  ...  ...                    ...               ...   \n",
       "643685                 1  ...               0.000000          0.000000   \n",
       "643686                 0  ...               0.000000          0.000000   \n",
       "643687                 1  ...               0.000000          0.000000   \n",
       "643688                 0  ...               0.000000          0.000000   \n",
       "643689                 0  ...               0.000000          0.666667   \n",
       "\n",
       "        befrist_tot_dur_byage  leih_tot_dur_byage  LHG_tot_dur_byage  \\\n",
       "0                   15.043478            0.000000           0.000000   \n",
       "1                    0.000000            0.000000           0.000000   \n",
       "2                    0.000000            0.000000          10.775510   \n",
       "3                    0.000000            0.000000          12.100000   \n",
       "4                    0.000000            0.000000          13.360000   \n",
       "...                       ...                 ...                ...   \n",
       "643685               0.000000            0.000000           0.612903   \n",
       "643686               0.212121            0.212121          17.363636   \n",
       "643687               0.294118            0.205882          34.705882   \n",
       "643688               0.000000            0.000000           0.000000   \n",
       "643689               0.666667            0.000000           0.000000   \n",
       "\n",
       "        LEH_tot_dur_byage  almp_tot_dur_byage  almp_aw_tot_dur_byage  \\\n",
       "0                0.000000            0.000000               0.000000   \n",
       "1                0.000000            0.000000               0.000000   \n",
       "2                0.000000            8.367347               0.000000   \n",
       "3                0.000000            9.400000               0.000000   \n",
       "4                0.000000           10.320000               0.000000   \n",
       "...                   ...                 ...                    ...   \n",
       "643685           0.000000            0.000000               0.000000   \n",
       "643686           0.000000            8.909091               0.000000   \n",
       "643687           0.000000           10.352941               1.705882   \n",
       "643688           0.525424            0.000000               0.000000   \n",
       "643689           8.950000            1.033333               0.083333   \n",
       "\n",
       "        se_tot_dur_byage  seeking1_tot_dur_byage  \n",
       "0               0.000000                0.000000  \n",
       "1               0.000000                0.000000  \n",
       "2               0.000000                9.836735  \n",
       "3               0.000000                9.960000  \n",
       "4               0.000000               10.280000  \n",
       "...                  ...                     ...  \n",
       "643685          0.000000                0.000000  \n",
       "643686          0.000000                7.121212  \n",
       "643687          1.705882               23.911765  \n",
       "643688          0.000000                0.000000  \n",
       "643689          0.083333                8.133333  \n",
       "\n",
       "[643690 rows x 164 columns]"
      ]
     },
     "execution_count": 10,
     "metadata": {},
     "output_type": "execute_result"
    }
   ],
   "source": [
    "siab"
   ]
  },
  {
   "cell_type": "markdown",
   "id": "1f87e805",
   "metadata": {
    "papermill": {
     "duration": 0.011315,
     "end_time": "2025-08-19T18:53:06.382059",
     "exception": false,
     "start_time": "2025-08-19T18:53:06.370744",
     "status": "completed"
    },
    "tags": []
   },
   "source": [
    "# Splitting Data and Setting Training Data Size"
   ]
  },
  {
   "cell_type": "code",
   "execution_count": 11,
   "id": "910ae358",
   "metadata": {
    "execution": {
     "iopub.execute_input": "2025-08-19T18:53:06.404394Z",
     "iopub.status.busy": "2025-08-19T18:53:06.403308Z",
     "iopub.status.idle": "2025-08-19T18:53:06.654449Z",
     "shell.execute_reply": "2025-08-19T18:53:06.653682Z"
    },
    "papermill": {
     "duration": 0.264201,
     "end_time": "2025-08-19T18:53:06.655953",
     "exception": false,
     "start_time": "2025-08-19T18:53:06.391752",
     "status": "completed"
    },
    "tags": []
   },
   "outputs": [],
   "source": [
    "from fairness_multiverse.universe import sample_by_year_size\n",
    "\n",
    "siab_train = sample_by_year_size(siab,\n",
    "                               training_year=universe[\"training_year\"],\n",
    "                               training_size=universe[\"training_size\"])"
   ]
  },
  {
   "cell_type": "code",
   "execution_count": 12,
   "id": "919c8ff5",
   "metadata": {
    "execution": {
     "iopub.execute_input": "2025-08-19T18:53:06.680844Z",
     "iopub.status.busy": "2025-08-19T18:53:06.677332Z",
     "iopub.status.idle": "2025-08-19T18:53:06.688219Z",
     "shell.execute_reply": "2025-08-19T18:53:06.687450Z"
    },
    "papermill": {
     "duration": 0.023412,
     "end_time": "2025-08-19T18:53:06.689666",
     "exception": false,
     "start_time": "2025-08-19T18:53:06.666254",
     "status": "completed"
    },
    "tags": []
   },
   "outputs": [
    {
     "data": {
      "text/plain": [
       "(1000, 164)"
      ]
     },
     "execution_count": 12,
     "metadata": {},
     "output_type": "execute_result"
    }
   ],
   "source": [
    "siab_train.shape"
   ]
  },
  {
   "cell_type": "code",
   "execution_count": 13,
   "id": "feb13bf4",
   "metadata": {
    "execution": {
     "iopub.execute_input": "2025-08-19T18:53:06.714197Z",
     "iopub.status.busy": "2025-08-19T18:53:06.713827Z",
     "iopub.status.idle": "2025-08-19T18:53:06.721448Z",
     "shell.execute_reply": "2025-08-19T18:53:06.720747Z"
    },
    "papermill": {
     "duration": 0.021341,
     "end_time": "2025-08-19T18:53:06.723056",
     "exception": false,
     "start_time": "2025-08-19T18:53:06.701715",
     "status": "completed"
    },
    "tags": []
   },
   "outputs": [
    {
     "data": {
      "text/plain": [
       "year\n",
       "2014    1000\n",
       "dtype: int64"
      ]
     },
     "metadata": {},
     "output_type": "display_data"
    }
   ],
   "source": [
    "display(siab_train.groupby(\"year\").size())"
   ]
  },
  {
   "cell_type": "code",
   "execution_count": 14,
   "id": "0997782f",
   "metadata": {
    "execution": {
     "iopub.execute_input": "2025-08-19T18:53:06.746037Z",
     "iopub.status.busy": "2025-08-19T18:53:06.745656Z",
     "iopub.status.idle": "2025-08-19T18:53:07.078993Z",
     "shell.execute_reply": "2025-08-19T18:53:07.078208Z"
    },
    "papermill": {
     "duration": 0.346248,
     "end_time": "2025-08-19T18:53:07.080703",
     "exception": false,
     "start_time": "2025-08-19T18:53:06.734455",
     "status": "completed"
    },
    "tags": []
   },
   "outputs": [],
   "source": [
    "#siab_train = siab_s[siab_s.year < 2015]\n",
    "siab_calib = siab[siab.year == 2015]\n",
    "siab_test = siab[siab.year == 2016]"
   ]
  },
  {
   "cell_type": "code",
   "execution_count": 15,
   "id": "2c1e4012",
   "metadata": {
    "execution": {
     "iopub.execute_input": "2025-08-19T18:53:07.110645Z",
     "iopub.status.busy": "2025-08-19T18:53:07.103426Z",
     "iopub.status.idle": "2025-08-19T18:53:07.116253Z",
     "shell.execute_reply": "2025-08-19T18:53:07.115370Z"
    },
    "papermill": {
     "duration": 0.027369,
     "end_time": "2025-08-19T18:53:07.118825",
     "exception": false,
     "start_time": "2025-08-19T18:53:07.091456",
     "status": "completed"
    },
    "tags": []
   },
   "outputs": [],
   "source": [
    "#siab_calib.shape"
   ]
  },
  {
   "cell_type": "code",
   "execution_count": 16,
   "id": "f66b54ca",
   "metadata": {
    "execution": {
     "iopub.execute_input": "2025-08-19T18:53:07.155174Z",
     "iopub.status.busy": "2025-08-19T18:53:07.153929Z",
     "iopub.status.idle": "2025-08-19T18:53:07.161321Z",
     "shell.execute_reply": "2025-08-19T18:53:07.159958Z"
    },
    "papermill": {
     "duration": 0.023209,
     "end_time": "2025-08-19T18:53:07.163024",
     "exception": false,
     "start_time": "2025-08-19T18:53:07.139815",
     "status": "completed"
    },
    "tags": []
   },
   "outputs": [],
   "source": [
    "#siab_test.shape"
   ]
  },
  {
   "cell_type": "code",
   "execution_count": 17,
   "id": "27e4384d",
   "metadata": {
    "execution": {
     "iopub.execute_input": "2025-08-19T18:53:07.189549Z",
     "iopub.status.busy": "2025-08-19T18:53:07.188152Z",
     "iopub.status.idle": "2025-08-19T18:53:07.201285Z",
     "shell.execute_reply": "2025-08-19T18:53:07.200054Z"
    },
    "papermill": {
     "duration": 0.027658,
     "end_time": "2025-08-19T18:53:07.203071",
     "exception": false,
     "start_time": "2025-08-19T18:53:07.175413",
     "status": "completed"
    },
    "tags": []
   },
   "outputs": [],
   "source": [
    "X_train = siab_train.iloc[:,4:164]\n",
    "y_train = siab_train.iloc[:, [3]]"
   ]
  },
  {
   "cell_type": "code",
   "execution_count": 18,
   "id": "08ee8389",
   "metadata": {
    "execution": {
     "iopub.execute_input": "2025-08-19T18:53:07.235462Z",
     "iopub.status.busy": "2025-08-19T18:53:07.234326Z",
     "iopub.status.idle": "2025-08-19T18:53:07.325550Z",
     "shell.execute_reply": "2025-08-19T18:53:07.324733Z"
    },
    "papermill": {
     "duration": 0.107927,
     "end_time": "2025-08-19T18:53:07.328031",
     "exception": false,
     "start_time": "2025-08-19T18:53:07.220104",
     "status": "completed"
    },
    "tags": []
   },
   "outputs": [],
   "source": [
    "X_calib = siab_calib.iloc[:,4:164]\n",
    "y_calib = siab_calib.iloc[:, [3]]"
   ]
  },
  {
   "cell_type": "code",
   "execution_count": 19,
   "id": "b7ff42e0",
   "metadata": {
    "execution": {
     "iopub.execute_input": "2025-08-19T18:53:07.367091Z",
     "iopub.status.busy": "2025-08-19T18:53:07.365953Z",
     "iopub.status.idle": "2025-08-19T18:53:07.486585Z",
     "shell.execute_reply": "2025-08-19T18:53:07.485714Z"
    },
    "papermill": {
     "duration": 0.137838,
     "end_time": "2025-08-19T18:53:07.489773",
     "exception": false,
     "start_time": "2025-08-19T18:53:07.351935",
     "status": "completed"
    },
    "tags": []
   },
   "outputs": [],
   "source": [
    "X_test = siab_test.iloc[:,4:164]\n",
    "y_true = siab_test.iloc[:, [3]]"
   ]
  },
  {
   "cell_type": "code",
   "execution_count": 20,
   "id": "0275101e",
   "metadata": {
    "execution": {
     "iopub.execute_input": "2025-08-19T18:53:07.528958Z",
     "iopub.status.busy": "2025-08-19T18:53:07.527880Z",
     "iopub.status.idle": "2025-08-19T18:53:07.651493Z",
     "shell.execute_reply": "2025-08-19T18:53:07.650633Z"
    },
    "papermill": {
     "duration": 0.141922,
     "end_time": "2025-08-19T18:53:07.655568",
     "exception": false,
     "start_time": "2025-08-19T18:53:07.513646",
     "status": "completed"
    },
    "tags": []
   },
   "outputs": [],
   "source": [
    "# Auxiliary data needed downstream in the pipeline\n",
    "\n",
    "org_train = X_train.copy()\n",
    "org_test = X_test.copy()\n",
    "org_calib = X_calib.copy()"
   ]
  },
  {
   "cell_type": "markdown",
   "id": "b461e618",
   "metadata": {
    "papermill": {
     "duration": 0.012116,
     "end_time": "2025-08-19T18:53:07.690832",
     "exception": false,
     "start_time": "2025-08-19T18:53:07.678716",
     "status": "completed"
    },
    "tags": []
   },
   "source": [
    "# Preprocessing Data"
   ]
  },
  {
   "cell_type": "code",
   "execution_count": 21,
   "id": "78e74c4b",
   "metadata": {
    "execution": {
     "iopub.execute_input": "2025-08-19T18:53:07.714596Z",
     "iopub.status.busy": "2025-08-19T18:53:07.713201Z",
     "iopub.status.idle": "2025-08-19T18:53:07.722389Z",
     "shell.execute_reply": "2025-08-19T18:53:07.721198Z"
    },
    "papermill": {
     "duration": 0.022956,
     "end_time": "2025-08-19T18:53:07.724151",
     "exception": false,
     "start_time": "2025-08-19T18:53:07.701195",
     "status": "completed"
    },
    "tags": []
   },
   "outputs": [],
   "source": [
    "# EXCLUDE PROTECTED FEATURES\n",
    "# --------------------------\n",
    "\n",
    "excluded_features = universe[\"exclude_features\"].split(\"-\")\n",
    "excluded_features_dictionary = {\n",
    "    \"nationality\": [\"maxdeutsch1\", \"maxdeutsch.Missing.\"],\n",
    "    \"sex\": [\"frau1\"],\n",
    "    \"age\": [\"age\"],\n",
    "}"
   ]
  },
  {
   "cell_type": "code",
   "execution_count": 22,
   "id": "f8e63555",
   "metadata": {
    "execution": {
     "iopub.execute_input": "2025-08-19T18:53:07.751536Z",
     "iopub.status.busy": "2025-08-19T18:53:07.750135Z",
     "iopub.status.idle": "2025-08-19T18:53:07.758808Z",
     "shell.execute_reply": "2025-08-19T18:53:07.757574Z"
    },
    "papermill": {
     "duration": 0.022693,
     "end_time": "2025-08-19T18:53:07.760415",
     "exception": false,
     "start_time": "2025-08-19T18:53:07.737722",
     "status": "completed"
    },
    "tags": []
   },
   "outputs": [],
   "source": [
    "excluded_features_columns = [\n",
    "    excluded_features_dictionary[f] for f in excluded_features if len(f) > 0 and f != \"none\"\n",
    "]"
   ]
  },
  {
   "cell_type": "code",
   "execution_count": 23,
   "id": "da781f7c",
   "metadata": {
    "execution": {
     "iopub.execute_input": "2025-08-19T18:53:07.787234Z",
     "iopub.status.busy": "2025-08-19T18:53:07.785788Z",
     "iopub.status.idle": "2025-08-19T18:53:07.793711Z",
     "shell.execute_reply": "2025-08-19T18:53:07.792548Z"
    },
    "papermill": {
     "duration": 0.022047,
     "end_time": "2025-08-19T18:53:07.795548",
     "exception": false,
     "start_time": "2025-08-19T18:53:07.773501",
     "status": "completed"
    },
    "tags": []
   },
   "outputs": [],
   "source": [
    "from fairness_multiverse.universe import flatten_once\n",
    "\n",
    "excluded_features_columns = flatten_once(excluded_features_columns)"
   ]
  },
  {
   "cell_type": "code",
   "execution_count": 24,
   "id": "37fef0f0",
   "metadata": {
    "execution": {
     "iopub.execute_input": "2025-08-19T18:53:07.822983Z",
     "iopub.status.busy": "2025-08-19T18:53:07.821890Z",
     "iopub.status.idle": "2025-08-19T18:53:07.833482Z",
     "shell.execute_reply": "2025-08-19T18:53:07.832340Z"
    },
    "papermill": {
     "duration": 0.0264,
     "end_time": "2025-08-19T18:53:07.835207",
     "exception": false,
     "start_time": "2025-08-19T18:53:07.808807",
     "status": "completed"
    },
    "tags": []
   },
   "outputs": [
    {
     "name": "stdout",
     "output_type": "stream",
     "text": [
      "Dropping features: ['frau1']\n"
     ]
    }
   ],
   "source": [
    "if len(excluded_features_columns) > 0:\n",
    "    print(f\"Dropping features: {excluded_features_columns}\")\n",
    "    X_train.drop(excluded_features_columns, axis=1, inplace=True)"
   ]
  },
  {
   "cell_type": "code",
   "execution_count": 25,
   "id": "d029e3e9",
   "metadata": {
    "execution": {
     "iopub.execute_input": "2025-08-19T18:53:07.862598Z",
     "iopub.status.busy": "2025-08-19T18:53:07.861436Z",
     "iopub.status.idle": "2025-08-19T18:53:07.923678Z",
     "shell.execute_reply": "2025-08-19T18:53:07.922888Z"
    },
    "papermill": {
     "duration": 0.078372,
     "end_time": "2025-08-19T18:53:07.926887",
     "exception": false,
     "start_time": "2025-08-19T18:53:07.848515",
     "status": "completed"
    },
    "tags": []
   },
   "outputs": [
    {
     "name": "stdout",
     "output_type": "stream",
     "text": [
      "Dropping features: ['frau1']\n"
     ]
    }
   ],
   "source": [
    "if len(excluded_features_columns) > 0:\n",
    "    print(f\"Dropping features: {excluded_features_columns}\")\n",
    "    X_test.drop(excluded_features_columns, axis=1, inplace=True)"
   ]
  },
  {
   "cell_type": "code",
   "execution_count": 26,
   "id": "01d571f0",
   "metadata": {
    "execution": {
     "iopub.execute_input": "2025-08-19T18:53:07.965333Z",
     "iopub.status.busy": "2025-08-19T18:53:07.964190Z",
     "iopub.status.idle": "2025-08-19T18:53:08.019776Z",
     "shell.execute_reply": "2025-08-19T18:53:08.019030Z"
    },
    "papermill": {
     "duration": 0.072008,
     "end_time": "2025-08-19T18:53:08.022498",
     "exception": false,
     "start_time": "2025-08-19T18:53:07.950490",
     "status": "completed"
    },
    "tags": []
   },
   "outputs": [
    {
     "name": "stdout",
     "output_type": "stream",
     "text": [
      "Dropping features: ['frau1']\n"
     ]
    }
   ],
   "source": [
    "if len(excluded_features_columns) > 0:\n",
    "    print(f\"Dropping features: {excluded_features_columns}\")\n",
    "    X_calib.drop(excluded_features_columns, axis=1, inplace=True)"
   ]
  },
  {
   "cell_type": "code",
   "execution_count": 27,
   "id": "3037356e",
   "metadata": {
    "execution": {
     "iopub.execute_input": "2025-08-19T18:53:08.063493Z",
     "iopub.status.busy": "2025-08-19T18:53:08.062367Z",
     "iopub.status.idle": "2025-08-19T18:53:08.070163Z",
     "shell.execute_reply": "2025-08-19T18:53:08.068816Z"
    },
    "papermill": {
     "duration": 0.023724,
     "end_time": "2025-08-19T18:53:08.071667",
     "exception": false,
     "start_time": "2025-08-19T18:53:08.047943",
     "status": "completed"
    },
    "tags": []
   },
   "outputs": [],
   "source": [
    "# EXCLUDE CERTAIN SUBGROUPS\n",
    "# -------------------------\n",
    "\n",
    "mode = universe.get(\"exclude_subgroups\", \"keep-all\") # Defaults to \"keep-all\" if the key is missing."
   ]
  },
  {
   "cell_type": "code",
   "execution_count": 28,
   "id": "9d1e63fd",
   "metadata": {
    "execution": {
     "iopub.execute_input": "2025-08-19T18:53:08.099676Z",
     "iopub.status.busy": "2025-08-19T18:53:08.098507Z",
     "iopub.status.idle": "2025-08-19T18:53:08.109287Z",
     "shell.execute_reply": "2025-08-19T18:53:08.107913Z"
    },
    "papermill": {
     "duration": 0.025503,
     "end_time": "2025-08-19T18:53:08.111249",
     "exception": false,
     "start_time": "2025-08-19T18:53:08.085746",
     "status": "completed"
    },
    "tags": []
   },
   "outputs": [],
   "source": [
    "if mode == \"keep-all\":\n",
    "    keep_mask = pd.Series(True, index=org_train.index)\n",
    "\n",
    "elif mode == \"drop-non-german\":\n",
    "    keep_mask = (org_train[\"maxdeutsch1\"] == 1) & (org_train[\"maxdeutsch.Missing.\"] == 0)\n",
    "\n",
    "else:\n",
    "    raise ValueError(f\"Unsupported mode for exclude_subgroups: {mode}\")"
   ]
  },
  {
   "cell_type": "code",
   "execution_count": 29,
   "id": "d3b65474",
   "metadata": {
    "execution": {
     "iopub.execute_input": "2025-08-19T18:53:08.143343Z",
     "iopub.status.busy": "2025-08-19T18:53:08.142370Z",
     "iopub.status.idle": "2025-08-19T18:53:08.151875Z",
     "shell.execute_reply": "2025-08-19T18:53:08.150881Z"
    },
    "papermill": {
     "duration": 0.025074,
     "end_time": "2025-08-19T18:53:08.153501",
     "exception": false,
     "start_time": "2025-08-19T18:53:08.128427",
     "status": "completed"
    },
    "tags": []
   },
   "outputs": [],
   "source": [
    "n_drop = (~keep_mask).sum() # Calculates how many rows are set to be dropped\n",
    "if n_drop > 0:\n",
    "    pct = n_drop / len(keep_mask) * 100\n",
    "    print(f\"Dropping {n_drop} rows ({pct:.2f}%) where mode='{mode}'\")"
   ]
  },
  {
   "cell_type": "code",
   "execution_count": 30,
   "id": "f44389b3",
   "metadata": {
    "execution": {
     "iopub.execute_input": "2025-08-19T18:53:08.182567Z",
     "iopub.status.busy": "2025-08-19T18:53:08.181315Z",
     "iopub.status.idle": "2025-08-19T18:53:08.190388Z",
     "shell.execute_reply": "2025-08-19T18:53:08.189179Z"
    },
    "papermill": {
     "duration": 0.023185,
     "end_time": "2025-08-19T18:53:08.191996",
     "exception": false,
     "start_time": "2025-08-19T18:53:08.168811",
     "status": "completed"
    },
    "tags": []
   },
   "outputs": [],
   "source": [
    "X_train = X_train[keep_mask]"
   ]
  },
  {
   "cell_type": "code",
   "execution_count": 31,
   "id": "ceca8c2a",
   "metadata": {
    "execution": {
     "iopub.execute_input": "2025-08-19T18:53:08.220620Z",
     "iopub.status.busy": "2025-08-19T18:53:08.219219Z",
     "iopub.status.idle": "2025-08-19T18:53:08.227764Z",
     "shell.execute_reply": "2025-08-19T18:53:08.226516Z"
    },
    "papermill": {
     "duration": 0.023066,
     "end_time": "2025-08-19T18:53:08.229708",
     "exception": false,
     "start_time": "2025-08-19T18:53:08.206642",
     "status": "completed"
    },
    "tags": []
   },
   "outputs": [],
   "source": [
    "y_train = y_train[keep_mask]"
   ]
  },
  {
   "cell_type": "markdown",
   "id": "04d31e2f",
   "metadata": {
    "papermill": {
     "duration": 0.011095,
     "end_time": "2025-08-19T18:53:08.254306",
     "exception": false,
     "start_time": "2025-08-19T18:53:08.243211",
     "status": "completed"
    },
    "tags": []
   },
   "source": [
    "# Model Training"
   ]
  },
  {
   "cell_type": "code",
   "execution_count": 32,
   "id": "db991733",
   "metadata": {
    "execution": {
     "iopub.execute_input": "2025-08-19T18:53:08.278680Z",
     "iopub.status.busy": "2025-08-19T18:53:08.277573Z",
     "iopub.status.idle": "2025-08-19T18:53:08.412560Z",
     "shell.execute_reply": "2025-08-19T18:53:08.402894Z"
    },
    "papermill": {
     "duration": 0.150159,
     "end_time": "2025-08-19T18:53:08.415179",
     "exception": false,
     "start_time": "2025-08-19T18:53:08.265020",
     "status": "completed"
    },
    "tags": []
   },
   "outputs": [],
   "source": [
    "from sklearn.linear_model import LogisticRegression\n",
    "from sklearn.ensemble import GradientBoostingClassifier, RandomForestClassifier\n",
    "\n",
    "if (universe[\"model\"] == \"logreg\"):\n",
    "    model = LogisticRegression() #penalty=\"none\", solver=\"newton-cg\", max_iter=1)\n",
    "elif (universe[\"model\"] == \"penalized_logreg\"):\n",
    "    model = LogisticRegression(penalty=\"l2\", C=0.1) #, solver=\"newton-cg\", max_iter=1)\n",
    "elif (universe[\"model\"] == \"rf\"):\n",
    "    model = RandomForestClassifier() # n_estimators=100, n_jobs=-1\n",
    "elif (universe[\"model\"] == \"gbm\"):\n",
    "    model = GradientBoostingClassifier()\n",
    "elif (universe[\"model\"] == \"elasticnet\"):\n",
    "    model = LogisticRegression(penalty = 'elasticnet', solver = 'saga', l1_ratio = 0.5) # max_iter=5000\n",
    "else:\n",
    "    raise \"Unsupported universe.model\""
   ]
  },
  {
   "cell_type": "code",
   "execution_count": 33,
   "id": "a4b5cd25",
   "metadata": {
    "execution": {
     "iopub.execute_input": "2025-08-19T18:53:08.453756Z",
     "iopub.status.busy": "2025-08-19T18:53:08.452626Z",
     "iopub.status.idle": "2025-08-19T18:53:08.461638Z",
     "shell.execute_reply": "2025-08-19T18:53:08.458923Z"
    },
    "papermill": {
     "duration": 0.023538,
     "end_time": "2025-08-19T18:53:08.463413",
     "exception": false,
     "start_time": "2025-08-19T18:53:08.439875",
     "status": "completed"
    },
    "tags": []
   },
   "outputs": [],
   "source": [
    "from sklearn.pipeline import Pipeline\n",
    "from sklearn.preprocessing import StandardScaler\n",
    "\n",
    "model = Pipeline([\n",
    "    #(\"continuous_processor\", continuous_processor),\n",
    "    #(\"categorical_preprocessor\", categorical_preprocessor),\n",
    "    (\"scale\", StandardScaler() if universe[\"scale\"] == \"scale\" else None), \n",
    "    (\"model\", model),\n",
    "])"
   ]
  },
  {
   "cell_type": "code",
   "execution_count": 34,
   "id": "283a904d",
   "metadata": {
    "execution": {
     "iopub.execute_input": "2025-08-19T18:53:08.493228Z",
     "iopub.status.busy": "2025-08-19T18:53:08.492807Z",
     "iopub.status.idle": "2025-08-19T18:53:08.556099Z",
     "shell.execute_reply": "2025-08-19T18:53:08.555456Z"
    },
    "papermill": {
     "duration": 0.079062,
     "end_time": "2025-08-19T18:53:08.558284",
     "exception": false,
     "start_time": "2025-08-19T18:53:08.479222",
     "status": "completed"
    },
    "tags": []
   },
   "outputs": [
    {
     "name": "stderr",
     "output_type": "stream",
     "text": [
      "/dss/dsshome1/0C/ra93lal2/.local/share/virtualenvs/CMA_Fairness_v2-3j10GkSs/lib/python3.10/site-packages/sklearn/linear_model/_logistic.py:444: ConvergenceWarning: lbfgs failed to converge (status=1):\n",
      "STOP: TOTAL NO. of ITERATIONS REACHED LIMIT.\n",
      "\n",
      "Increase the number of iterations (max_iter) or scale the data as shown in:\n",
      "    https://scikit-learn.org/stable/modules/preprocessing.html\n",
      "Please also refer to the documentation for alternative solver options:\n",
      "    https://scikit-learn.org/stable/modules/linear_model.html#logistic-regression\n",
      "  n_iter_i = _check_optimize_result(\n"
     ]
    },
    {
     "data": {
      "text/html": [
       "<style>#sk-container-id-1 {color: black;background-color: white;}#sk-container-id-1 pre{padding: 0;}#sk-container-id-1 div.sk-toggleable {background-color: white;}#sk-container-id-1 label.sk-toggleable__label {cursor: pointer;display: block;width: 100%;margin-bottom: 0;padding: 0.3em;box-sizing: border-box;text-align: center;}#sk-container-id-1 label.sk-toggleable__label-arrow:before {content: \"▸\";float: left;margin-right: 0.25em;color: #696969;}#sk-container-id-1 label.sk-toggleable__label-arrow:hover:before {color: black;}#sk-container-id-1 div.sk-estimator:hover label.sk-toggleable__label-arrow:before {color: black;}#sk-container-id-1 div.sk-toggleable__content {max-height: 0;max-width: 0;overflow: hidden;text-align: left;background-color: #f0f8ff;}#sk-container-id-1 div.sk-toggleable__content pre {margin: 0.2em;color: black;border-radius: 0.25em;background-color: #f0f8ff;}#sk-container-id-1 input.sk-toggleable__control:checked~div.sk-toggleable__content {max-height: 200px;max-width: 100%;overflow: auto;}#sk-container-id-1 input.sk-toggleable__control:checked~label.sk-toggleable__label-arrow:before {content: \"▾\";}#sk-container-id-1 div.sk-estimator input.sk-toggleable__control:checked~label.sk-toggleable__label {background-color: #d4ebff;}#sk-container-id-1 div.sk-label input.sk-toggleable__control:checked~label.sk-toggleable__label {background-color: #d4ebff;}#sk-container-id-1 input.sk-hidden--visually {border: 0;clip: rect(1px 1px 1px 1px);clip: rect(1px, 1px, 1px, 1px);height: 1px;margin: -1px;overflow: hidden;padding: 0;position: absolute;width: 1px;}#sk-container-id-1 div.sk-estimator {font-family: monospace;background-color: #f0f8ff;border: 1px dotted black;border-radius: 0.25em;box-sizing: border-box;margin-bottom: 0.5em;}#sk-container-id-1 div.sk-estimator:hover {background-color: #d4ebff;}#sk-container-id-1 div.sk-parallel-item::after {content: \"\";width: 100%;border-bottom: 1px solid gray;flex-grow: 1;}#sk-container-id-1 div.sk-label:hover label.sk-toggleable__label {background-color: #d4ebff;}#sk-container-id-1 div.sk-serial::before {content: \"\";position: absolute;border-left: 1px solid gray;box-sizing: border-box;top: 0;bottom: 0;left: 50%;z-index: 0;}#sk-container-id-1 div.sk-serial {display: flex;flex-direction: column;align-items: center;background-color: white;padding-right: 0.2em;padding-left: 0.2em;position: relative;}#sk-container-id-1 div.sk-item {position: relative;z-index: 1;}#sk-container-id-1 div.sk-parallel {display: flex;align-items: stretch;justify-content: center;background-color: white;position: relative;}#sk-container-id-1 div.sk-item::before, #sk-container-id-1 div.sk-parallel-item::before {content: \"\";position: absolute;border-left: 1px solid gray;box-sizing: border-box;top: 0;bottom: 0;left: 50%;z-index: -1;}#sk-container-id-1 div.sk-parallel-item {display: flex;flex-direction: column;z-index: 1;position: relative;background-color: white;}#sk-container-id-1 div.sk-parallel-item:first-child::after {align-self: flex-end;width: 50%;}#sk-container-id-1 div.sk-parallel-item:last-child::after {align-self: flex-start;width: 50%;}#sk-container-id-1 div.sk-parallel-item:only-child::after {width: 0;}#sk-container-id-1 div.sk-dashed-wrapped {border: 1px dashed gray;margin: 0 0.4em 0.5em 0.4em;box-sizing: border-box;padding-bottom: 0.4em;background-color: white;}#sk-container-id-1 div.sk-label label {font-family: monospace;font-weight: bold;display: inline-block;line-height: 1.2em;}#sk-container-id-1 div.sk-label-container {text-align: center;}#sk-container-id-1 div.sk-container {/* jupyter's `normalize.less` sets `[hidden] { display: none; }` but bootstrap.min.css set `[hidden] { display: none !important; }` so we also need the `!important` here to be able to override the default hidden behavior on the sphinx rendered scikit-learn.org. See: https://github.com/scikit-learn/scikit-learn/issues/21755 */display: inline-block !important;position: relative;}#sk-container-id-1 div.sk-text-repr-fallback {display: none;}</style><div id=\"sk-container-id-1\" class=\"sk-top-container\"><div class=\"sk-text-repr-fallback\"><pre>Pipeline(steps=[(&#x27;scale&#x27;, None), (&#x27;model&#x27;, LogisticRegression())])</pre><b>In a Jupyter environment, please rerun this cell to show the HTML representation or trust the notebook. <br />On GitHub, the HTML representation is unable to render, please try loading this page with nbviewer.org.</b></div><div class=\"sk-container\" hidden><div class=\"sk-item sk-dashed-wrapped\"><div class=\"sk-label-container\"><div class=\"sk-label sk-toggleable\"><input class=\"sk-toggleable__control sk-hidden--visually\" id=\"sk-estimator-id-1\" type=\"checkbox\" ><label for=\"sk-estimator-id-1\" class=\"sk-toggleable__label sk-toggleable__label-arrow\">Pipeline</label><div class=\"sk-toggleable__content\"><pre>Pipeline(steps=[(&#x27;scale&#x27;, None), (&#x27;model&#x27;, LogisticRegression())])</pre></div></div></div><div class=\"sk-serial\"><div class=\"sk-item\"><div class=\"sk-estimator sk-toggleable\"><input class=\"sk-toggleable__control sk-hidden--visually\" id=\"sk-estimator-id-2\" type=\"checkbox\" ><label for=\"sk-estimator-id-2\" class=\"sk-toggleable__label sk-toggleable__label-arrow\">None</label><div class=\"sk-toggleable__content\"><pre>None</pre></div></div></div><div class=\"sk-item\"><div class=\"sk-estimator sk-toggleable\"><input class=\"sk-toggleable__control sk-hidden--visually\" id=\"sk-estimator-id-3\" type=\"checkbox\" ><label for=\"sk-estimator-id-3\" class=\"sk-toggleable__label sk-toggleable__label-arrow\">LogisticRegression</label><div class=\"sk-toggleable__content\"><pre>LogisticRegression()</pre></div></div></div></div></div></div></div>"
      ],
      "text/plain": [
       "Pipeline(steps=[('scale', None), ('model', LogisticRegression())])"
      ]
     },
     "execution_count": 34,
     "metadata": {},
     "output_type": "execute_result"
    }
   ],
   "source": [
    "model.fit(X_train, y_train.values.ravel())"
   ]
  },
  {
   "cell_type": "code",
   "execution_count": 35,
   "id": "6e15e313",
   "metadata": {
    "execution": {
     "iopub.execute_input": "2025-08-19T18:53:08.599980Z",
     "iopub.status.busy": "2025-08-19T18:53:08.598916Z",
     "iopub.status.idle": "2025-08-19T18:53:08.712281Z",
     "shell.execute_reply": "2025-08-19T18:53:08.711598Z"
    },
    "papermill": {
     "duration": 0.129319,
     "end_time": "2025-08-19T18:53:08.713433",
     "exception": false,
     "start_time": "2025-08-19T18:53:08.584114",
     "status": "completed"
    },
    "tags": []
   },
   "outputs": [
    {
     "data": {
      "text/plain": [
       "0.8492475755211236"
      ]
     },
     "execution_count": 35,
     "metadata": {},
     "output_type": "execute_result"
    }
   ],
   "source": [
    "from fairness_multiverse.universe import predict_w_threshold\n",
    "\n",
    "probs_test = model.predict_proba(X_test)\n",
    "\n",
    "'''\n",
    "Below code returns a boolean array (or binary 0/1 array depending on how it’s used) where each element \n",
    "is True if the probability of class 1 is greater than or equal to the threshold, and False otherwise.\n",
    "'''\n",
    "y_pred_default = predict_w_threshold(probs_test, 0.5)\n",
    "\n",
    "from sklearn.metrics import accuracy_score\n",
    "\n",
    "# Naive prediction\n",
    "accuracy_score(y_true = y_true, y_pred = y_pred_default)"
   ]
  },
  {
   "cell_type": "code",
   "execution_count": 36,
   "id": "6f14067c",
   "metadata": {
    "execution": {
     "iopub.execute_input": "2025-08-19T18:53:08.752318Z",
     "iopub.status.busy": "2025-08-19T18:53:08.750935Z",
     "iopub.status.idle": "2025-08-19T18:53:08.857295Z",
     "shell.execute_reply": "2025-08-19T18:53:08.856187Z"
    },
    "papermill": {
     "duration": 0.131375,
     "end_time": "2025-08-19T18:53:08.860777",
     "exception": false,
     "start_time": "2025-08-19T18:53:08.729402",
     "status": "completed"
    },
    "tags": []
   },
   "outputs": [
    {
     "data": {
      "text/plain": [
       "array([0, 0, 0, ..., 0, 0, 0])"
      ]
     },
     "execution_count": 36,
     "metadata": {},
     "output_type": "execute_result"
    }
   ],
   "source": [
    "model.predict(X_test)"
   ]
  },
  {
   "cell_type": "markdown",
   "id": "3759920c",
   "metadata": {
    "papermill": {
     "duration": 0.011389,
     "end_time": "2025-08-19T18:53:08.895140",
     "exception": false,
     "start_time": "2025-08-19T18:53:08.883751",
     "status": "completed"
    },
    "tags": []
   },
   "source": [
    "# Conformal Prediction"
   ]
  },
  {
   "cell_type": "code",
   "execution_count": 37,
   "id": "14b27f59",
   "metadata": {
    "execution": {
     "iopub.execute_input": "2025-08-19T18:53:08.921353Z",
     "iopub.status.busy": "2025-08-19T18:53:08.920142Z",
     "iopub.status.idle": "2025-08-19T18:53:08.931358Z",
     "shell.execute_reply": "2025-08-19T18:53:08.929491Z"
    },
    "papermill": {
     "duration": 0.02639,
     "end_time": "2025-08-19T18:53:08.932873",
     "exception": false,
     "start_time": "2025-08-19T18:53:08.906483",
     "status": "completed"
    },
    "tags": []
   },
   "outputs": [],
   "source": [
    "# Miscoverage level for conformal prediction (10% allowed error rate => 90% target coverage)\n",
    "alpha = 0.1"
   ]
  },
  {
   "cell_type": "code",
   "execution_count": 38,
   "id": "59102472",
   "metadata": {
    "execution": {
     "iopub.execute_input": "2025-08-19T18:53:08.962336Z",
     "iopub.status.busy": "2025-08-19T18:53:08.961274Z",
     "iopub.status.idle": "2025-08-19T18:53:09.067271Z",
     "shell.execute_reply": "2025-08-19T18:53:09.066376Z"
    },
    "papermill": {
     "duration": 0.122232,
     "end_time": "2025-08-19T18:53:09.070174",
     "exception": false,
     "start_time": "2025-08-19T18:53:08.947942",
     "status": "completed"
    },
    "tags": []
   },
   "outputs": [],
   "source": [
    "probs_calib = model.predict_proba(X_calib)"
   ]
  },
  {
   "cell_type": "code",
   "execution_count": 39,
   "id": "a792d4dd",
   "metadata": {
    "execution": {
     "iopub.execute_input": "2025-08-19T18:53:09.113089Z",
     "iopub.status.busy": "2025-08-19T18:53:09.111756Z",
     "iopub.status.idle": "2025-08-19T18:53:09.123282Z",
     "shell.execute_reply": "2025-08-19T18:53:09.121991Z"
    },
    "papermill": {
     "duration": 0.028072,
     "end_time": "2025-08-19T18:53:09.124925",
     "exception": false,
     "start_time": "2025-08-19T18:53:09.096853",
     "status": "completed"
    },
    "tags": []
   },
   "outputs": [],
   "source": [
    "y_calib = y_calib.values.ravel().astype(int)"
   ]
  },
  {
   "cell_type": "code",
   "execution_count": 40,
   "id": "650fd033",
   "metadata": {
    "execution": {
     "iopub.execute_input": "2025-08-19T18:53:09.155455Z",
     "iopub.status.busy": "2025-08-19T18:53:09.154454Z",
     "iopub.status.idle": "2025-08-19T18:53:09.169523Z",
     "shell.execute_reply": "2025-08-19T18:53:09.167791Z"
    },
    "papermill": {
     "duration": 0.030279,
     "end_time": "2025-08-19T18:53:09.171203",
     "exception": false,
     "start_time": "2025-08-19T18:53:09.140924",
     "status": "completed"
    },
    "tags": []
   },
   "outputs": [],
   "source": [
    "from fairness_multiverse.conformal import compute_nc_scores\n",
    "\n",
    "# Compute nonconformity scores on calibration set (1 - probability of true class)\n",
    "nc_scores = compute_nc_scores(probs_calib, y_calib)"
   ]
  },
  {
   "cell_type": "code",
   "execution_count": 41,
   "id": "28ada44c",
   "metadata": {
    "execution": {
     "iopub.execute_input": "2025-08-19T18:53:09.201374Z",
     "iopub.status.busy": "2025-08-19T18:53:09.200277Z",
     "iopub.status.idle": "2025-08-19T18:53:09.213940Z",
     "shell.execute_reply": "2025-08-19T18:53:09.212049Z"
    },
    "papermill": {
     "duration": 0.028969,
     "end_time": "2025-08-19T18:53:09.215705",
     "exception": false,
     "start_time": "2025-08-19T18:53:09.186736",
     "status": "completed"
    },
    "tags": []
   },
   "outputs": [],
   "source": [
    "from fairness_multiverse.conformal import find_threshold\n",
    "\n",
    "# Find conformal threshold q_hat for the given alpha (split conformal method)\n",
    "q_hat = find_threshold(nc_scores, alpha)"
   ]
  },
  {
   "cell_type": "code",
   "execution_count": 42,
   "id": "df56469e",
   "metadata": {
    "execution": {
     "iopub.execute_input": "2025-08-19T18:53:09.249339Z",
     "iopub.status.busy": "2025-08-19T18:53:09.248142Z",
     "iopub.status.idle": "2025-08-19T18:53:09.263493Z",
     "shell.execute_reply": "2025-08-19T18:53:09.261502Z"
    },
    "papermill": {
     "duration": 0.031141,
     "end_time": "2025-08-19T18:53:09.265214",
     "exception": false,
     "start_time": "2025-08-19T18:53:09.234073",
     "status": "completed"
    },
    "tags": []
   },
   "outputs": [
    {
     "data": {
      "text/plain": [
       "0.6897515069643037"
      ]
     },
     "execution_count": 42,
     "metadata": {},
     "output_type": "execute_result"
    }
   ],
   "source": [
    "q_hat"
   ]
  },
  {
   "cell_type": "code",
   "execution_count": 43,
   "id": "aa1f5faa",
   "metadata": {
    "execution": {
     "iopub.execute_input": "2025-08-19T18:53:09.298008Z",
     "iopub.status.busy": "2025-08-19T18:53:09.296956Z",
     "iopub.status.idle": "2025-08-19T18:53:09.997687Z",
     "shell.execute_reply": "2025-08-19T18:53:09.996693Z"
    },
    "papermill": {
     "duration": 0.718062,
     "end_time": "2025-08-19T18:53:10.000741",
     "exception": false,
     "start_time": "2025-08-19T18:53:09.282679",
     "status": "completed"
    },
    "tags": []
   },
   "outputs": [],
   "source": [
    "from fairness_multiverse.conformal import predict_conformal_sets\n",
    "\n",
    "# Generate prediction sets for each test example\n",
    "pred_sets = predict_conformal_sets(model, X_test, q_hat)"
   ]
  },
  {
   "cell_type": "code",
   "execution_count": 44,
   "id": "97f67a6b",
   "metadata": {
    "execution": {
     "iopub.execute_input": "2025-08-19T18:53:10.049040Z",
     "iopub.status.busy": "2025-08-19T18:53:10.046797Z",
     "iopub.status.idle": "2025-08-19T18:53:10.062809Z",
     "shell.execute_reply": "2025-08-19T18:53:10.061422Z"
    },
    "papermill": {
     "duration": 0.037863,
     "end_time": "2025-08-19T18:53:10.064673",
     "exception": false,
     "start_time": "2025-08-19T18:53:10.026810",
     "status": "completed"
    },
    "tags": []
   },
   "outputs": [],
   "source": [
    "y_true = y_true.squeeze()"
   ]
  },
  {
   "cell_type": "code",
   "execution_count": 45,
   "id": "e700e9a7",
   "metadata": {
    "execution": {
     "iopub.execute_input": "2025-08-19T18:53:10.107878Z",
     "iopub.status.busy": "2025-08-19T18:53:10.106746Z",
     "iopub.status.idle": "2025-08-19T18:53:10.653386Z",
     "shell.execute_reply": "2025-08-19T18:53:10.652075Z"
    },
    "papermill": {
     "duration": 0.566453,
     "end_time": "2025-08-19T18:53:10.656617",
     "exception": false,
     "start_time": "2025-08-19T18:53:10.090164",
     "status": "completed"
    },
    "tags": []
   },
   "outputs": [],
   "source": [
    "from fairness_multiverse.conformal import evaluate_sets\n",
    "\n",
    "# Evaluate coverage and average set size on test data\n",
    "metrics = evaluate_sets(pred_sets, y_true)"
   ]
  },
  {
   "cell_type": "markdown",
   "id": "efbacec0",
   "metadata": {
    "papermill": {
     "duration": 0.012837,
     "end_time": "2025-08-19T18:53:10.694659",
     "exception": false,
     "start_time": "2025-08-19T18:53:10.681822",
     "status": "completed"
    },
    "tags": []
   },
   "source": [
    "# CP Metrics"
   ]
  },
  {
   "cell_type": "code",
   "execution_count": 46,
   "id": "9de55fb1",
   "metadata": {
    "execution": {
     "iopub.execute_input": "2025-08-19T18:53:10.722585Z",
     "iopub.status.busy": "2025-08-19T18:53:10.720858Z",
     "iopub.status.idle": "2025-08-19T18:53:10.738522Z",
     "shell.execute_reply": "2025-08-19T18:53:10.736968Z"
    },
    "papermill": {
     "duration": 0.033714,
     "end_time": "2025-08-19T18:53:10.740144",
     "exception": false,
     "start_time": "2025-08-19T18:53:10.706430",
     "status": "completed"
    },
    "tags": []
   },
   "outputs": [
    {
     "data": {
      "text/plain": [
       "{'coverage': 0.9095975922416676, 'avg_size': 1.2224947051610746}"
      ]
     },
     "execution_count": 46,
     "metadata": {},
     "output_type": "execute_result"
    }
   ],
   "source": [
    "metrics"
   ]
  },
  {
   "cell_type": "code",
   "execution_count": 47,
   "id": "64c340a1",
   "metadata": {
    "execution": {
     "iopub.execute_input": "2025-08-19T18:53:10.771419Z",
     "iopub.status.busy": "2025-08-19T18:53:10.770351Z",
     "iopub.status.idle": "2025-08-19T18:53:10.782636Z",
     "shell.execute_reply": "2025-08-19T18:53:10.781041Z"
    },
    "papermill": {
     "duration": 0.02772,
     "end_time": "2025-08-19T18:53:10.784145",
     "exception": false,
     "start_time": "2025-08-19T18:53:10.756425",
     "status": "completed"
    },
    "tags": []
   },
   "outputs": [],
   "source": [
    "example_universe = universe.copy()\n",
    "universe_training_year = example_universe.get(\"training_year\")\n",
    "universe_training_size = example_universe.get(\"training_size\")\n",
    "universe_scale = example_universe.get(\"scale\")\n",
    "universe_model = example_universe.get(\"model\")\n",
    "universe_exclude_features = example_universe.get(\"exclude_features\")\n",
    "universe_exclude_subgroups = example_universe.get(\"exclude_subgroups\")"
   ]
  },
  {
   "cell_type": "code",
   "execution_count": 48,
   "id": "dbb53cb4",
   "metadata": {
    "execution": {
     "iopub.execute_input": "2025-08-19T18:53:10.814654Z",
     "iopub.status.busy": "2025-08-19T18:53:10.813462Z",
     "iopub.status.idle": "2025-08-19T18:53:10.825546Z",
     "shell.execute_reply": "2025-08-19T18:53:10.823626Z"
    },
    "papermill": {
     "duration": 0.027997,
     "end_time": "2025-08-19T18:53:10.827490",
     "exception": false,
     "start_time": "2025-08-19T18:53:10.799493",
     "status": "completed"
    },
    "tags": []
   },
   "outputs": [],
   "source": [
    "cp_metrics_dict = {\n",
    "    \"universe_id\": [universe_id],\n",
    "    \"universe_training_year\": [universe_training_year],\n",
    "    \"universe_training_size\": [universe_training_size],\n",
    "    \"universe_scale\": [universe_scale],\n",
    "    \"universe_model\": [universe_model],\n",
    "    \"universe_exclude_features\": [universe_exclude_features],\n",
    "    \"universe_exclude_subgroups\": [universe_exclude_subgroups],\n",
    "    \"q_hat\": [q_hat],\n",
    "    \"coverage\": [metrics[\"coverage\"]],\n",
    "    \"avg_size\": [metrics[\"avg_size\"]],\n",
    "}"
   ]
  },
  {
   "cell_type": "code",
   "execution_count": 49,
   "id": "0d70d4b2",
   "metadata": {
    "execution": {
     "iopub.execute_input": "2025-08-19T18:53:10.857576Z",
     "iopub.status.busy": "2025-08-19T18:53:10.856516Z",
     "iopub.status.idle": "2025-08-19T18:53:10.871542Z",
     "shell.execute_reply": "2025-08-19T18:53:10.869059Z"
    },
    "papermill": {
     "duration": 0.031139,
     "end_time": "2025-08-19T18:53:10.873417",
     "exception": false,
     "start_time": "2025-08-19T18:53:10.842278",
     "status": "completed"
    },
    "tags": []
   },
   "outputs": [],
   "source": [
    "cp_metrics_df = pd.DataFrame(cp_metrics_dict)"
   ]
  },
  {
   "cell_type": "code",
   "execution_count": 50,
   "id": "b494403c",
   "metadata": {
    "execution": {
     "iopub.execute_input": "2025-08-19T18:53:10.907875Z",
     "iopub.status.busy": "2025-08-19T18:53:10.906789Z",
     "iopub.status.idle": "2025-08-19T18:53:10.933523Z",
     "shell.execute_reply": "2025-08-19T18:53:10.932686Z"
    },
    "papermill": {
     "duration": 0.043101,
     "end_time": "2025-08-19T18:53:10.935243",
     "exception": false,
     "start_time": "2025-08-19T18:53:10.892142",
     "status": "completed"
    },
    "tags": []
   },
   "outputs": [
    {
     "data": {
      "text/html": [
       "<div>\n",
       "<style scoped>\n",
       "    .dataframe tbody tr th:only-of-type {\n",
       "        vertical-align: middle;\n",
       "    }\n",
       "\n",
       "    .dataframe tbody tr th {\n",
       "        vertical-align: top;\n",
       "    }\n",
       "\n",
       "    .dataframe thead th {\n",
       "        text-align: right;\n",
       "    }\n",
       "</style>\n",
       "<table border=\"1\" class=\"dataframe\">\n",
       "  <thead>\n",
       "    <tr style=\"text-align: right;\">\n",
       "      <th></th>\n",
       "      <th>universe_id</th>\n",
       "      <th>universe_training_year</th>\n",
       "      <th>universe_training_size</th>\n",
       "      <th>universe_scale</th>\n",
       "      <th>universe_model</th>\n",
       "      <th>universe_exclude_features</th>\n",
       "      <th>universe_exclude_subgroups</th>\n",
       "      <th>q_hat</th>\n",
       "      <th>coverage</th>\n",
       "      <th>avg_size</th>\n",
       "    </tr>\n",
       "  </thead>\n",
       "  <tbody>\n",
       "    <tr>\n",
       "      <th>0</th>\n",
       "      <td>e1a9119fd608c72be697566b91ecafe9</td>\n",
       "      <td>2014</td>\n",
       "      <td>1k</td>\n",
       "      <td>do-not-scale</td>\n",
       "      <td>logreg</td>\n",
       "      <td>sex</td>\n",
       "      <td>keep-all</td>\n",
       "      <td>0.689752</td>\n",
       "      <td>0.909598</td>\n",
       "      <td>1.222495</td>\n",
       "    </tr>\n",
       "  </tbody>\n",
       "</table>\n",
       "</div>"
      ],
      "text/plain": [
       "                        universe_id universe_training_year  \\\n",
       "0  e1a9119fd608c72be697566b91ecafe9                   2014   \n",
       "\n",
       "  universe_training_size universe_scale universe_model  \\\n",
       "0                     1k   do-not-scale         logreg   \n",
       "\n",
       "  universe_exclude_features universe_exclude_subgroups     q_hat  coverage  \\\n",
       "0                       sex                   keep-all  0.689752  0.909598   \n",
       "\n",
       "   avg_size  \n",
       "0  1.222495  "
      ]
     },
     "execution_count": 50,
     "metadata": {},
     "output_type": "execute_result"
    }
   ],
   "source": [
    "cp_metrics_df"
   ]
  },
  {
   "cell_type": "markdown",
   "id": "ed608b0b",
   "metadata": {
    "papermill": {
     "duration": 0.013289,
     "end_time": "2025-08-19T18:53:10.972239",
     "exception": false,
     "start_time": "2025-08-19T18:53:10.958950",
     "status": "completed"
    },
    "tags": []
   },
   "source": [
    "Conditional coverage & looking at subgroups"
   ]
  },
  {
   "cell_type": "code",
   "execution_count": 51,
   "id": "8968c366",
   "metadata": {
    "execution": {
     "iopub.execute_input": "2025-08-19T18:53:10.999499Z",
     "iopub.status.busy": "2025-08-19T18:53:10.997951Z",
     "iopub.status.idle": "2025-08-19T18:53:11.505454Z",
     "shell.execute_reply": "2025-08-19T18:53:11.504542Z"
    },
    "papermill": {
     "duration": 0.522796,
     "end_time": "2025-08-19T18:53:11.507075",
     "exception": false,
     "start_time": "2025-08-19T18:53:10.984279",
     "status": "completed"
    },
    "tags": []
   },
   "outputs": [],
   "source": [
    "from fairness_multiverse.conformal import build_cp_groups\n",
    "\n",
    "cp_groups_df = build_cp_groups(pred_sets, y_true, X_test.index, org_test)"
   ]
  },
  {
   "cell_type": "code",
   "execution_count": 52,
   "id": "292ddabf",
   "metadata": {
    "execution": {
     "iopub.execute_input": "2025-08-19T18:53:11.534054Z",
     "iopub.status.busy": "2025-08-19T18:53:11.533201Z",
     "iopub.status.idle": "2025-08-19T18:53:12.576707Z",
     "shell.execute_reply": "2025-08-19T18:53:12.575286Z"
    },
    "papermill": {
     "duration": 1.059222,
     "end_time": "2025-08-19T18:53:12.578760",
     "exception": false,
     "start_time": "2025-08-19T18:53:11.519538",
     "status": "completed"
    },
    "tags": []
   },
   "outputs": [],
   "source": [
    "# Define covered = 1 if true_label is in the predicted set\n",
    "cp_groups_df['covered'] = cp_groups_df.apply(\n",
    "    lambda r: int(r['true_label'] in r['pred_set']),\n",
    "    axis=1\n",
    ")"
   ]
  },
  {
   "cell_type": "code",
   "execution_count": 53,
   "id": "3a261692",
   "metadata": {
    "execution": {
     "iopub.execute_input": "2025-08-19T18:53:12.606242Z",
     "iopub.status.busy": "2025-08-19T18:53:12.605441Z",
     "iopub.status.idle": "2025-08-19T18:53:12.619158Z",
     "shell.execute_reply": "2025-08-19T18:53:12.618159Z"
    },
    "papermill": {
     "duration": 0.02919,
     "end_time": "2025-08-19T18:53:12.620637",
     "exception": false,
     "start_time": "2025-08-19T18:53:12.591447",
     "status": "completed"
    },
    "tags": []
   },
   "outputs": [],
   "source": [
    "subgroups = ['frau1','nongerman','nongerman_male','nongerman_female']\n",
    "\n",
    "# Conditional coverage for subgroup==1\n",
    "cond_coverage = {\n",
    "    g: cp_groups_df.loc[cp_groups_df[g]==1, 'covered'].mean()\n",
    "    for g in subgroups\n",
    "}"
   ]
  },
  {
   "cell_type": "code",
   "execution_count": 54,
   "id": "894fd600",
   "metadata": {
    "execution": {
     "iopub.execute_input": "2025-08-19T18:53:12.646989Z",
     "iopub.status.busy": "2025-08-19T18:53:12.646490Z",
     "iopub.status.idle": "2025-08-19T18:53:12.653491Z",
     "shell.execute_reply": "2025-08-19T18:53:12.652730Z"
    },
    "papermill": {
     "duration": 0.02496,
     "end_time": "2025-08-19T18:53:12.657922",
     "exception": false,
     "start_time": "2025-08-19T18:53:12.632962",
     "status": "completed"
    },
    "tags": []
   },
   "outputs": [
    {
     "data": {
      "text/plain": [
       "{'frau1': 0.9075077503706699,\n",
       " 'nongerman': 0.9299388087351934,\n",
       " 'nongerman_male': 0.9434387102584887,\n",
       " 'nongerman_female': 0.9076005961251863}"
      ]
     },
     "execution_count": 54,
     "metadata": {},
     "output_type": "execute_result"
    }
   ],
   "source": [
    "cond_coverage"
   ]
  },
  {
   "cell_type": "code",
   "execution_count": 55,
   "id": "942895c7",
   "metadata": {
    "execution": {
     "iopub.execute_input": "2025-08-19T18:53:12.689873Z",
     "iopub.status.busy": "2025-08-19T18:53:12.687624Z",
     "iopub.status.idle": "2025-08-19T18:53:12.699925Z",
     "shell.execute_reply": "2025-08-19T18:53:12.698678Z"
    },
    "papermill": {
     "duration": 0.028133,
     "end_time": "2025-08-19T18:53:12.701679",
     "exception": false,
     "start_time": "2025-08-19T18:53:12.673546",
     "status": "completed"
    },
    "tags": []
   },
   "outputs": [],
   "source": [
    "for subgroup, cov in cond_coverage.items():\n",
    "    cp_metrics_df[f\"cov_{subgroup}\"] = cov"
   ]
  },
  {
   "cell_type": "code",
   "execution_count": 56,
   "id": "3970120f",
   "metadata": {
    "execution": {
     "iopub.execute_input": "2025-08-19T18:53:12.749903Z",
     "iopub.status.busy": "2025-08-19T18:53:12.739000Z",
     "iopub.status.idle": "2025-08-19T18:53:12.773034Z",
     "shell.execute_reply": "2025-08-19T18:53:12.772177Z"
    },
    "papermill": {
     "duration": 0.055208,
     "end_time": "2025-08-19T18:53:12.777708",
     "exception": false,
     "start_time": "2025-08-19T18:53:12.722500",
     "status": "completed"
    },
    "tags": []
   },
   "outputs": [
    {
     "data": {
      "text/html": [
       "<div>\n",
       "<style scoped>\n",
       "    .dataframe tbody tr th:only-of-type {\n",
       "        vertical-align: middle;\n",
       "    }\n",
       "\n",
       "    .dataframe tbody tr th {\n",
       "        vertical-align: top;\n",
       "    }\n",
       "\n",
       "    .dataframe thead th {\n",
       "        text-align: right;\n",
       "    }\n",
       "</style>\n",
       "<table border=\"1\" class=\"dataframe\">\n",
       "  <thead>\n",
       "    <tr style=\"text-align: right;\">\n",
       "      <th></th>\n",
       "      <th>universe_id</th>\n",
       "      <th>universe_training_year</th>\n",
       "      <th>universe_training_size</th>\n",
       "      <th>universe_scale</th>\n",
       "      <th>universe_model</th>\n",
       "      <th>universe_exclude_features</th>\n",
       "      <th>universe_exclude_subgroups</th>\n",
       "      <th>q_hat</th>\n",
       "      <th>coverage</th>\n",
       "      <th>avg_size</th>\n",
       "      <th>cov_frau1</th>\n",
       "      <th>cov_nongerman</th>\n",
       "      <th>cov_nongerman_male</th>\n",
       "      <th>cov_nongerman_female</th>\n",
       "    </tr>\n",
       "  </thead>\n",
       "  <tbody>\n",
       "    <tr>\n",
       "      <th>0</th>\n",
       "      <td>e1a9119fd608c72be697566b91ecafe9</td>\n",
       "      <td>2014</td>\n",
       "      <td>1k</td>\n",
       "      <td>do-not-scale</td>\n",
       "      <td>logreg</td>\n",
       "      <td>sex</td>\n",
       "      <td>keep-all</td>\n",
       "      <td>0.689752</td>\n",
       "      <td>0.909598</td>\n",
       "      <td>1.222495</td>\n",
       "      <td>0.907508</td>\n",
       "      <td>0.929939</td>\n",
       "      <td>0.943439</td>\n",
       "      <td>0.907601</td>\n",
       "    </tr>\n",
       "  </tbody>\n",
       "</table>\n",
       "</div>"
      ],
      "text/plain": [
       "                        universe_id universe_training_year  \\\n",
       "0  e1a9119fd608c72be697566b91ecafe9                   2014   \n",
       "\n",
       "  universe_training_size universe_scale universe_model  \\\n",
       "0                     1k   do-not-scale         logreg   \n",
       "\n",
       "  universe_exclude_features universe_exclude_subgroups     q_hat  coverage  \\\n",
       "0                       sex                   keep-all  0.689752  0.909598   \n",
       "\n",
       "   avg_size  cov_frau1  cov_nongerman  cov_nongerman_male  \\\n",
       "0  1.222495   0.907508       0.929939            0.943439   \n",
       "\n",
       "   cov_nongerman_female  \n",
       "0              0.907601  "
      ]
     },
     "execution_count": 56,
     "metadata": {},
     "output_type": "execute_result"
    }
   ],
   "source": [
    "cp_metrics_df"
   ]
  },
  {
   "cell_type": "markdown",
   "id": "3fc519cc",
   "metadata": {
    "papermill": {
     "duration": 0.014599,
     "end_time": "2025-08-19T18:53:12.818066",
     "exception": false,
     "start_time": "2025-08-19T18:53:12.803467",
     "status": "completed"
    },
    "tags": []
   },
   "source": [
    "# (Fairness) Metrics"
   ]
  },
  {
   "cell_type": "code",
   "execution_count": 57,
   "id": "a2e5e155",
   "metadata": {
    "execution": {
     "iopub.execute_input": "2025-08-19T18:53:12.845915Z",
     "iopub.status.busy": "2025-08-19T18:53:12.845487Z",
     "iopub.status.idle": "2025-08-19T18:53:12.867500Z",
     "shell.execute_reply": "2025-08-19T18:53:12.866072Z"
    },
    "papermill": {
     "duration": 0.037985,
     "end_time": "2025-08-19T18:53:12.869271",
     "exception": false,
     "start_time": "2025-08-19T18:53:12.831286",
     "status": "completed"
    },
    "tags": []
   },
   "outputs": [],
   "source": [
    "colname_to_bin = \"maxdeutsch1\"\n",
    "majority_value = org_train[colname_to_bin].mode()[0]\n",
    "\n",
    "org_test[\"majmin\"] = np.where(org_test[colname_to_bin] == majority_value, \"majority\", \"minority\")"
   ]
  },
  {
   "cell_type": "code",
   "execution_count": 58,
   "id": "17e3e4d5",
   "metadata": {
    "execution": {
     "iopub.execute_input": "2025-08-19T18:53:12.896766Z",
     "iopub.status.busy": "2025-08-19T18:53:12.895730Z",
     "iopub.status.idle": "2025-08-19T18:53:14.686642Z",
     "shell.execute_reply": "2025-08-19T18:53:14.684952Z"
    },
    "papermill": {
     "duration": 1.806322,
     "end_time": "2025-08-19T18:53:14.688452",
     "exception": false,
     "start_time": "2025-08-19T18:53:12.882130",
     "status": "completed"
    },
    "tags": []
   },
   "outputs": [],
   "source": [
    "example_universe = universe.copy()\n",
    "example_universe[\"cutoff\"] = example_universe[\"cutoff\"][0]\n",
    "example_universe[\"eval_fairness_grouping\"] = example_universe[\"eval_fairness_grouping\"][0]\n",
    "fairness_dict, metric_frame = universe_analysis.compute_metrics(\n",
    "    example_universe,\n",
    "    y_pred_prob=probs_test,\n",
    "    y_test=y_true,\n",
    "    org_test=org_test,\n",
    ")"
   ]
  },
  {
   "cell_type": "markdown",
   "id": "1fb7a0e9",
   "metadata": {
    "papermill": {
     "duration": 0.013742,
     "end_time": "2025-08-19T18:53:14.733685",
     "exception": false,
     "start_time": "2025-08-19T18:53:14.719943",
     "status": "completed"
    },
    "tags": []
   },
   "source": [
    "# Overall"
   ]
  },
  {
   "cell_type": "markdown",
   "id": "be1784b1",
   "metadata": {
    "papermill": {
     "duration": 0.012121,
     "end_time": "2025-08-19T18:53:14.758510",
     "exception": false,
     "start_time": "2025-08-19T18:53:14.746389",
     "status": "completed"
    },
    "tags": []
   },
   "source": [
    "Main fairness target: Equalized Odds. Seems to be a better fit than equal opportunity, since we're not only interested in Y = 1. Seems to be a better fit than demographic parity, since we also care about accuracy, not just equal distribution of preds.\n",
    "\n",
    "Pick column for computation of fairness metrics\n",
    "\n",
    "Performance\n",
    "Overall performance measures, most interesting in relation to the measures split by group below"
   ]
  },
  {
   "cell_type": "code",
   "execution_count": 59,
   "id": "b7672bee",
   "metadata": {
    "execution": {
     "iopub.execute_input": "2025-08-19T18:53:14.787666Z",
     "iopub.status.busy": "2025-08-19T18:53:14.786318Z",
     "iopub.status.idle": "2025-08-19T18:53:14.805755Z",
     "shell.execute_reply": "2025-08-19T18:53:14.804692Z"
    },
    "papermill": {
     "duration": 0.036468,
     "end_time": "2025-08-19T18:53:14.807345",
     "exception": false,
     "start_time": "2025-08-19T18:53:14.770877",
     "status": "completed"
    },
    "tags": []
   },
   "outputs": [
    {
     "data": {
      "text/plain": [
       "accuracy                   0.218136\n",
       "balanced accuracy          0.534680\n",
       "f1                         0.239639\n",
       "precision                  0.136898\n",
       "false positive rate        0.891103\n",
       "false negative rate        0.039538\n",
       "selection rate             0.900000\n",
       "count                  89710.000000\n",
       "dtype: float64"
      ]
     },
     "execution_count": 59,
     "metadata": {},
     "output_type": "execute_result"
    }
   ],
   "source": [
    "metric_frame.overall"
   ]
  },
  {
   "cell_type": "markdown",
   "id": "d93333c9",
   "metadata": {
    "papermill": {
     "duration": 0.018415,
     "end_time": "2025-08-19T18:53:14.849398",
     "exception": false,
     "start_time": "2025-08-19T18:53:14.830983",
     "status": "completed"
    },
    "tags": []
   },
   "source": [
    "By Group"
   ]
  },
  {
   "cell_type": "code",
   "execution_count": 60,
   "id": "52256966",
   "metadata": {
    "execution": {
     "iopub.execute_input": "2025-08-19T18:53:14.898193Z",
     "iopub.status.busy": "2025-08-19T18:53:14.896979Z",
     "iopub.status.idle": "2025-08-19T18:53:14.921105Z",
     "shell.execute_reply": "2025-08-19T18:53:14.920051Z"
    },
    "papermill": {
     "duration": 0.057435,
     "end_time": "2025-08-19T18:53:14.922568",
     "exception": false,
     "start_time": "2025-08-19T18:53:14.865133",
     "status": "completed"
    },
    "tags": []
   },
   "outputs": [
    {
     "data": {
      "text/html": [
       "<div>\n",
       "<style scoped>\n",
       "    .dataframe tbody tr th:only-of-type {\n",
       "        vertical-align: middle;\n",
       "    }\n",
       "\n",
       "    .dataframe tbody tr th {\n",
       "        vertical-align: top;\n",
       "    }\n",
       "\n",
       "    .dataframe thead th {\n",
       "        text-align: right;\n",
       "    }\n",
       "</style>\n",
       "<table border=\"1\" class=\"dataframe\">\n",
       "  <thead>\n",
       "    <tr style=\"text-align: right;\">\n",
       "      <th></th>\n",
       "      <th>accuracy</th>\n",
       "      <th>balanced accuracy</th>\n",
       "      <th>f1</th>\n",
       "      <th>precision</th>\n",
       "      <th>false positive rate</th>\n",
       "      <th>false negative rate</th>\n",
       "      <th>selection rate</th>\n",
       "      <th>count</th>\n",
       "    </tr>\n",
       "    <tr>\n",
       "      <th>majmin</th>\n",
       "      <th></th>\n",
       "      <th></th>\n",
       "      <th></th>\n",
       "      <th></th>\n",
       "      <th></th>\n",
       "      <th></th>\n",
       "      <th></th>\n",
       "      <th></th>\n",
       "    </tr>\n",
       "  </thead>\n",
       "  <tbody>\n",
       "    <tr>\n",
       "      <th>majority</th>\n",
       "      <td>0.239468</td>\n",
       "      <td>0.543007</td>\n",
       "      <td>0.249279</td>\n",
       "      <td>0.143335</td>\n",
       "      <td>0.869565</td>\n",
       "      <td>0.044420</td>\n",
       "      <td>0.880931</td>\n",
       "      <td>69170.0</td>\n",
       "    </tr>\n",
       "    <tr>\n",
       "      <th>minority</th>\n",
       "      <td>0.146300</td>\n",
       "      <td>0.508529</td>\n",
       "      <td>0.209173</td>\n",
       "      <td>0.117092</td>\n",
       "      <td>0.962250</td>\n",
       "      <td>0.020693</td>\n",
       "      <td>0.964216</td>\n",
       "      <td>20540.0</td>\n",
       "    </tr>\n",
       "  </tbody>\n",
       "</table>\n",
       "</div>"
      ],
      "text/plain": [
       "          accuracy  balanced accuracy        f1  precision  \\\n",
       "majmin                                                       \n",
       "majority  0.239468           0.543007  0.249279   0.143335   \n",
       "minority  0.146300           0.508529  0.209173   0.117092   \n",
       "\n",
       "          false positive rate  false negative rate  selection rate    count  \n",
       "majmin                                                                       \n",
       "majority             0.869565             0.044420        0.880931  69170.0  \n",
       "minority             0.962250             0.020693        0.964216  20540.0  "
      ]
     },
     "execution_count": 60,
     "metadata": {},
     "output_type": "execute_result"
    }
   ],
   "source": [
    "metric_frame.by_group"
   ]
  },
  {
   "cell_type": "code",
   "execution_count": 61,
   "id": "6e6c20ae",
   "metadata": {
    "execution": {
     "iopub.execute_input": "2025-08-19T18:53:14.964053Z",
     "iopub.status.busy": "2025-08-19T18:53:14.962425Z",
     "iopub.status.idle": "2025-08-19T18:53:16.940133Z",
     "shell.execute_reply": "2025-08-19T18:53:16.939110Z"
    },
    "papermill": {
     "duration": 1.997011,
     "end_time": "2025-08-19T18:53:16.941437",
     "exception": false,
     "start_time": "2025-08-19T18:53:14.944426",
     "status": "completed"
    },
    "tags": []
   },
   "outputs": [
    {
     "data": {
      "text/plain": [
       "array([[<Axes: title={'center': 'accuracy'}, xlabel='majmin'>,\n",
       "        <Axes: title={'center': 'balanced accuracy'}, xlabel='majmin'>,\n",
       "        <Axes: title={'center': 'f1'}, xlabel='majmin'>],\n",
       "       [<Axes: title={'center': 'precision'}, xlabel='majmin'>,\n",
       "        <Axes: title={'center': 'false positive rate'}, xlabel='majmin'>,\n",
       "        <Axes: title={'center': 'false negative rate'}, xlabel='majmin'>],\n",
       "       [<Axes: title={'center': 'selection rate'}, xlabel='majmin'>,\n",
       "        <Axes: title={'center': 'count'}, xlabel='majmin'>,\n",
       "        <Axes: xlabel='majmin'>]], dtype=object)"
      ]
     },
     "execution_count": 61,
     "metadata": {},
     "output_type": "execute_result"
    },
    {
     "data": {
      "image/png": "[encoded data removed]",
      "text/plain": [
       "<Figure size 1200x800 with 9 Axes>"
      ]
     },
     "metadata": {},
     "output_type": "display_data"
    }
   ],
   "source": [
    "# In a graphic\n",
    "metric_frame.by_group.plot.bar(\n",
    "    subplots=True,\n",
    "    layout=[3, 3],\n",
    "    legend=False,\n",
    "    figsize=[12, 8],\n",
    "    title=\"Show all metrics\",\n",
    ")"
   ]
  },
  {
   "cell_type": "markdown",
   "id": "b2e433ae",
   "metadata": {
    "papermill": {
     "duration": 0.024567,
     "end_time": "2025-08-19T18:53:16.994311",
     "exception": false,
     "start_time": "2025-08-19T18:53:16.969744",
     "status": "completed"
    },
    "tags": []
   },
   "source": [
    "# Final Output"
   ]
  },
  {
   "cell_type": "code",
   "execution_count": 62,
   "id": "3871301e",
   "metadata": {
    "execution": {
     "iopub.execute_input": "2025-08-19T18:53:17.055646Z",
     "iopub.status.busy": "2025-08-19T18:53:17.053013Z",
     "iopub.status.idle": "2025-08-19T18:53:17.071927Z",
     "shell.execute_reply": "2025-08-19T18:53:17.070817Z"
    },
    "papermill": {
     "duration": 0.053429,
     "end_time": "2025-08-19T18:53:17.073270",
     "exception": false,
     "start_time": "2025-08-19T18:53:17.019841",
     "status": "completed"
    },
    "tags": []
   },
   "outputs": [
    {
     "data": {
      "text/plain": [
       "4"
      ]
     },
     "execution_count": 62,
     "metadata": {},
     "output_type": "execute_result"
    }
   ],
   "source": [
    "sub_universes = universe_analysis.generate_sub_universes()\n",
    "len(sub_universes)"
   ]
  },
  {
   "cell_type": "code",
   "execution_count": 63,
   "id": "d9cfdaca",
   "metadata": {
    "execution": {
     "iopub.execute_input": "2025-08-19T18:53:17.124594Z",
     "iopub.status.busy": "2025-08-19T18:53:17.123232Z",
     "iopub.status.idle": "2025-08-19T18:53:17.133089Z",
     "shell.execute_reply": "2025-08-19T18:53:17.131748Z"
    },
    "papermill": {
     "duration": 0.043938,
     "end_time": "2025-08-19T18:53:17.134666",
     "exception": false,
     "start_time": "2025-08-19T18:53:17.090728",
     "status": "completed"
    },
    "tags": []
   },
   "outputs": [],
   "source": [
    "def filter_sub_universe_data(sub_universe, org_test):\n",
    "    # Keep all rows — no filtering\n",
    "    keep_rows_mask = np.ones(org_test.shape[0], dtype=bool)\n",
    "\n",
    "    print(f\"[INFO] Keeping all rows: {keep_rows_mask.sum()} rows retained.\")\n",
    "    return keep_rows_mask"
   ]
  },
  {
   "cell_type": "code",
   "execution_count": 64,
   "id": "2bc31ac1",
   "metadata": {
    "execution": {
     "iopub.execute_input": "2025-08-19T18:53:17.189289Z",
     "iopub.status.busy": "2025-08-19T18:53:17.187965Z",
     "iopub.status.idle": "2025-08-19T18:53:24.230146Z",
     "shell.execute_reply": "2025-08-19T18:53:24.229072Z"
    },
    "papermill": {
     "duration": 7.069933,
     "end_time": "2025-08-19T18:53:24.231402",
     "exception": false,
     "start_time": "2025-08-19T18:53:17.161469",
     "status": "completed"
    },
    "tags": []
   },
   "outputs": [
    {
     "name": "stdout",
     "output_type": "stream",
     "text": [
      "Stopping execution_time clock.\n",
      "[INFO] Keeping all rows: 89710 rows retained.\n"
     ]
    },
    {
     "name": "stdout",
     "output_type": "stream",
     "text": [
      "[INFO] Keeping all rows: 89710 rows retained.\n"
     ]
    },
    {
     "name": "stdout",
     "output_type": "stream",
     "text": [
      "[INFO] Keeping all rows: 89710 rows retained.\n"
     ]
    },
    {
     "name": "stdout",
     "output_type": "stream",
     "text": [
      "[INFO] Keeping all rows: 89710 rows retained.\n"
     ]
    },
    {
     "data": {
      "text/html": [
       "<div>\n",
       "<style scoped>\n",
       "    .dataframe tbody tr th:only-of-type {\n",
       "        vertical-align: middle;\n",
       "    }\n",
       "\n",
       "    .dataframe tbody tr th {\n",
       "        vertical-align: top;\n",
       "    }\n",
       "\n",
       "    .dataframe thead th {\n",
       "        text-align: right;\n",
       "    }\n",
       "</style>\n",
       "<table border=\"1\" class=\"dataframe\">\n",
       "  <thead>\n",
       "    <tr style=\"text-align: right;\">\n",
       "      <th></th>\n",
       "      <th>run_no</th>\n",
       "      <th>universe_id</th>\n",
       "      <th>universe_settings</th>\n",
       "      <th>execution_time</th>\n",
       "      <th>test_size_n</th>\n",
       "      <th>test_size_frac</th>\n",
       "      <th>fair_main_equalized_odds_difference</th>\n",
       "      <th>fair_main_equalized_odds_ratio</th>\n",
       "      <th>fair_main_demographic_parity_difference</th>\n",
       "      <th>fair_main_demographic_parity_ratio</th>\n",
       "      <th>...</th>\n",
       "      <th>perf_grp_precision_0</th>\n",
       "      <th>perf_grp_precision_1</th>\n",
       "      <th>perf_grp_false positive rate_0</th>\n",
       "      <th>perf_grp_false positive rate_1</th>\n",
       "      <th>perf_grp_false negative rate_0</th>\n",
       "      <th>perf_grp_false negative rate_1</th>\n",
       "      <th>perf_grp_selection rate_0</th>\n",
       "      <th>perf_grp_selection rate_1</th>\n",
       "      <th>perf_grp_count_0</th>\n",
       "      <th>perf_grp_count_1</th>\n",
       "    </tr>\n",
       "  </thead>\n",
       "  <tbody>\n",
       "    <tr>\n",
       "      <th>0</th>\n",
       "      <td>3</td>\n",
       "      <td>e1a9119fd608c72be697566b91ecafe9</td>\n",
       "      <td>{\"cutoff\": \"quantile_0.1\", \"eval_fairness_grou...</td>\n",
       "      <td>21.629805</td>\n",
       "      <td>89710</td>\n",
       "      <td>1.0</td>\n",
       "      <td>0.092684</td>\n",
       "      <td>0.903679</td>\n",
       "      <td>0.083285</td>\n",
       "      <td>0.913624</td>\n",
       "      <td>...</td>\n",
       "      <td>NaN</td>\n",
       "      <td>NaN</td>\n",
       "      <td>NaN</td>\n",
       "      <td>NaN</td>\n",
       "      <td>NaN</td>\n",
       "      <td>NaN</td>\n",
       "      <td>NaN</td>\n",
       "      <td>NaN</td>\n",
       "      <td>NaN</td>\n",
       "      <td>NaN</td>\n",
       "    </tr>\n",
       "    <tr>\n",
       "      <th>0</th>\n",
       "      <td>3</td>\n",
       "      <td>e1a9119fd608c72be697566b91ecafe9</td>\n",
       "      <td>{\"cutoff\": \"quantile_0.1\", \"eval_fairness_grou...</td>\n",
       "      <td>21.629805</td>\n",
       "      <td>89710</td>\n",
       "      <td>1.0</td>\n",
       "      <td>0.092684</td>\n",
       "      <td>0.903679</td>\n",
       "      <td>0.083285</td>\n",
       "      <td>0.913624</td>\n",
       "      <td>...</td>\n",
       "      <td>0.117092</td>\n",
       "      <td>0.143335</td>\n",
       "      <td>0.962250</td>\n",
       "      <td>0.869565</td>\n",
       "      <td>0.020693</td>\n",
       "      <td>0.044420</td>\n",
       "      <td>0.964216</td>\n",
       "      <td>0.880931</td>\n",
       "      <td>20540.0</td>\n",
       "      <td>69170.0</td>\n",
       "    </tr>\n",
       "    <tr>\n",
       "      <th>0</th>\n",
       "      <td>3</td>\n",
       "      <td>e1a9119fd608c72be697566b91ecafe9</td>\n",
       "      <td>{\"cutoff\": \"quantile_0.25\", \"eval_fairness_gro...</td>\n",
       "      <td>21.629805</td>\n",
       "      <td>89710</td>\n",
       "      <td>1.0</td>\n",
       "      <td>0.206436</td>\n",
       "      <td>0.768234</td>\n",
       "      <td>0.188677</td>\n",
       "      <td>0.789298</td>\n",
       "      <td>...</td>\n",
       "      <td>NaN</td>\n",
       "      <td>NaN</td>\n",
       "      <td>NaN</td>\n",
       "      <td>NaN</td>\n",
       "      <td>NaN</td>\n",
       "      <td>NaN</td>\n",
       "      <td>NaN</td>\n",
       "      <td>NaN</td>\n",
       "      <td>NaN</td>\n",
       "      <td>NaN</td>\n",
       "    </tr>\n",
       "    <tr>\n",
       "      <th>0</th>\n",
       "      <td>3</td>\n",
       "      <td>e1a9119fd608c72be697566b91ecafe9</td>\n",
       "      <td>{\"cutoff\": \"quantile_0.25\", \"eval_fairness_gro...</td>\n",
       "      <td>21.629805</td>\n",
       "      <td>89710</td>\n",
       "      <td>1.0</td>\n",
       "      <td>0.206436</td>\n",
       "      <td>0.768234</td>\n",
       "      <td>0.188677</td>\n",
       "      <td>0.789298</td>\n",
       "      <td>...</td>\n",
       "      <td>0.119991</td>\n",
       "      <td>0.159791</td>\n",
       "      <td>0.890711</td>\n",
       "      <td>0.684275</td>\n",
       "      <td>0.067990</td>\n",
       "      <td>0.145295</td>\n",
       "      <td>0.895472</td>\n",
       "      <td>0.706795</td>\n",
       "      <td>20540.0</td>\n",
       "      <td>69170.0</td>\n",
       "    </tr>\n",
       "  </tbody>\n",
       "</table>\n",
       "<p>4 rows × 50 columns</p>\n",
       "</div>"
      ],
      "text/plain": [
       "  run_no                       universe_id  \\\n",
       "0      3  e1a9119fd608c72be697566b91ecafe9   \n",
       "0      3  e1a9119fd608c72be697566b91ecafe9   \n",
       "0      3  e1a9119fd608c72be697566b91ecafe9   \n",
       "0      3  e1a9119fd608c72be697566b91ecafe9   \n",
       "\n",
       "                                   universe_settings  execution_time  \\\n",
       "0  {\"cutoff\": \"quantile_0.1\", \"eval_fairness_grou...       21.629805   \n",
       "0  {\"cutoff\": \"quantile_0.1\", \"eval_fairness_grou...       21.629805   \n",
       "0  {\"cutoff\": \"quantile_0.25\", \"eval_fairness_gro...       21.629805   \n",
       "0  {\"cutoff\": \"quantile_0.25\", \"eval_fairness_gro...       21.629805   \n",
       "\n",
       "   test_size_n  test_size_frac  fair_main_equalized_odds_difference  \\\n",
       "0        89710             1.0                             0.092684   \n",
       "0        89710             1.0                             0.092684   \n",
       "0        89710             1.0                             0.206436   \n",
       "0        89710             1.0                             0.206436   \n",
       "\n",
       "   fair_main_equalized_odds_ratio  fair_main_demographic_parity_difference  \\\n",
       "0                        0.903679                                 0.083285   \n",
       "0                        0.903679                                 0.083285   \n",
       "0                        0.768234                                 0.188677   \n",
       "0                        0.768234                                 0.188677   \n",
       "\n",
       "   fair_main_demographic_parity_ratio  ...  perf_grp_precision_0  \\\n",
       "0                            0.913624  ...                   NaN   \n",
       "0                            0.913624  ...              0.117092   \n",
       "0                            0.789298  ...                   NaN   \n",
       "0                            0.789298  ...              0.119991   \n",
       "\n",
       "   perf_grp_precision_1  perf_grp_false positive rate_0  \\\n",
       "0                   NaN                             NaN   \n",
       "0              0.143335                        0.962250   \n",
       "0                   NaN                             NaN   \n",
       "0              0.159791                        0.890711   \n",
       "\n",
       "   perf_grp_false positive rate_1  perf_grp_false negative rate_0  \\\n",
       "0                             NaN                             NaN   \n",
       "0                        0.869565                        0.020693   \n",
       "0                             NaN                             NaN   \n",
       "0                        0.684275                        0.067990   \n",
       "\n",
       "   perf_grp_false negative rate_1  perf_grp_selection rate_0  \\\n",
       "0                             NaN                        NaN   \n",
       "0                        0.044420                   0.964216   \n",
       "0                             NaN                        NaN   \n",
       "0                        0.145295                   0.895472   \n",
       "\n",
       "   perf_grp_selection rate_1  perf_grp_count_0  perf_grp_count_1  \n",
       "0                        NaN               NaN               NaN  \n",
       "0                   0.880931           20540.0           69170.0  \n",
       "0                        NaN               NaN               NaN  \n",
       "0                   0.706795           20540.0           69170.0  \n",
       "\n",
       "[4 rows x 50 columns]"
      ]
     },
     "execution_count": 64,
     "metadata": {},
     "output_type": "execute_result"
    }
   ],
   "source": [
    "final_output = universe_analysis.generate_final_output(\n",
    "    y_pred_prob=probs_test,\n",
    "    y_test=y_true,\n",
    "    org_test=org_test,\n",
    "    filter_data=filter_sub_universe_data,\n",
    "    cp_metrics_df=cp_metrics_df,\n",
    "    save=True,\n",
    ")\n",
    "final_output"
   ]
  },
  {
   "cell_type": "code",
   "execution_count": null,
   "id": "8b80a1ff",
   "metadata": {
    "papermill": {
     "duration": 0.020769,
     "end_time": "2025-08-19T18:53:24.283394",
     "exception": false,
     "start_time": "2025-08-19T18:53:24.262625",
     "status": "completed"
    },
    "tags": []
   },
   "outputs": [],
   "source": []
  },
  {
   "cell_type": "code",
   "execution_count": null,
   "id": "275c9fad",
   "metadata": {
    "papermill": {
     "duration": 0.01448,
     "end_time": "2025-08-19T18:53:24.313763",
     "exception": false,
     "start_time": "2025-08-19T18:53:24.299283",
     "status": "completed"
    },
    "tags": []
   },
   "outputs": [],
   "source": []
  }
 ],
 "metadata": {
  "celltoolbar": "Tags",
  "kernelspec": {
   "display_name": "Python (CMA Fairness)",
   "language": "python",
   "name": "cma_fair_env"
  },
  "language_info": {
   "codemirror_mode": {
    "name": "ipython",
    "version": 3
   },
   "file_extension": ".py",
   "mimetype": "text/x-python",
   "name": "python",
   "nbconvert_exporter": "python",
   "pygments_lexer": "ipython3",
   "version": "3.10.12"
  },
  "papermill": {
   "default_parameters": {},
   "duration": 32.50501,
   "end_time": "2025-08-19T18:53:25.261904",
   "environment_variables": {},
   "exception": null,
   "input_path": "universe_analysis.ipynb",
   "output_path": "output/runs/3/notebooks/m_3-e1a9119fd608c72be697566b91ecafe9.ipynb",
   "parameters": {
    "output_dir": "output",
    "run_no": "3",
    "seed": "2023",
    "universe": "{\"cutoff\": [\"quantile_0.1\", \"quantile_0.25\"], \"eval_fairness_grouping\": [\"majority-minority\", \"nationality-all\"], \"exclude_features\": \"sex\", \"exclude_subgroups\": \"keep-all\", \"model\": \"logreg\", \"scale\": \"do-not-scale\", \"training_size\": \"1k\", \"training_year\": \"2014\"}",
    "universe_id": "e1a9119fd608c72be697566b91ecafe9"
   },
   "start_time": "2025-08-19T18:52:52.756894",
   "version": "2.6.0"
  }
 },
 "nbformat": 4,
 "nbformat_minor": 5
}