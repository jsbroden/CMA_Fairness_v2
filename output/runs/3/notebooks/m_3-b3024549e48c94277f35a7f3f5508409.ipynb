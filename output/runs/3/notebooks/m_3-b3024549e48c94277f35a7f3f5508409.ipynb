{
 "cells": [
  {
   "cell_type": "markdown",
   "id": "ef23dbb3",
   "metadata": {
    "papermill": {
     "duration": 0.021836,
     "end_time": "2025-08-19T18:56:22.157209",
     "exception": false,
     "start_time": "2025-08-19T18:56:22.135373",
     "status": "completed"
    },
    "tags": []
   },
   "source": [
    "# Setup"
   ]
  },
  {
   "cell_type": "code",
   "execution_count": 1,
   "id": "0bc8e7dc",
   "metadata": {
    "execution": {
     "iopub.execute_input": "2025-08-19T18:56:22.179058Z",
     "iopub.status.busy": "2025-08-19T18:56:22.178627Z",
     "iopub.status.idle": "2025-08-19T18:56:22.191111Z",
     "shell.execute_reply": "2025-08-19T18:56:22.190369Z"
    },
    "papermill": {
     "duration": 0.044528,
     "end_time": "2025-08-19T18:56:22.213386",
     "exception": false,
     "start_time": "2025-08-19T18:56:22.168858",
     "status": "completed"
    },
    "tags": []
   },
   "outputs": [
    {
     "name": "stdout",
     "output_type": "stream",
     "text": [
      "/dss/dsshome1/0C/ra93lal2/cma/CMA_Fairness_v2\n"
     ]
    },
    {
     "name": "stderr",
     "output_type": "stream",
     "text": [
      "/dss/dsshome1/0C/ra93lal2/.local/share/virtualenvs/CMA_Fairness_v2-3j10GkSs/lib/python3.10/site-packages/IPython/core/magics/osm.py:393: UserWarning: This is now an optional IPython functionality, using bookmarks requires you to install the `pickleshare` library.\n",
      "  bkms = self.shell.db.get('bookmarks', {})\n",
      "/dss/dsshome1/0C/ra93lal2/.local/share/virtualenvs/CMA_Fairness_v2-3j10GkSs/lib/python3.10/site-packages/IPython/core/magics/osm.py:417: UserWarning: This is now an optional IPython functionality, setting dhist requires you to install the `pickleshare` library.\n",
      "  self.shell.db['dhist'] = compress_dhist(dhist)[-100:]\n"
     ]
    }
   ],
   "source": [
    "%cd ~/cma/CMA_Fairness_v2"
   ]
  },
  {
   "cell_type": "markdown",
   "id": "9d235661",
   "metadata": {
    "papermill": {
     "duration": 0.008782,
     "end_time": "2025-08-19T18:56:22.237215",
     "exception": false,
     "start_time": "2025-08-19T18:56:22.228433",
     "status": "completed"
    },
    "tags": []
   },
   "source": [
    "The following cell holds the definition of our parameters, these values can be overriden by rendering the with e.g. the following command:\n",
    "\n",
    "papermill -p alpha 0.2 -p ratio 0.3 universe_analysis.ipynb output/test_run.ipynb"
   ]
  },
  {
   "cell_type": "code",
   "execution_count": 2,
   "id": "4a789d8e",
   "metadata": {
    "execution": {
     "iopub.execute_input": "2025-08-19T18:56:22.258348Z",
     "iopub.status.busy": "2025-08-19T18:56:22.256739Z",
     "iopub.status.idle": "2025-08-19T18:56:22.266764Z",
     "shell.execute_reply": "2025-08-19T18:56:22.265221Z"
    },
    "papermill": {
     "duration": 0.022747,
     "end_time": "2025-08-19T18:56:22.268461",
     "exception": false,
     "start_time": "2025-08-19T18:56:22.245714",
     "status": "completed"
    },
    "tags": []
   },
   "outputs": [
    {
     "name": "stdout",
     "output_type": "stream",
     "text": [
      "Current working directory: /dss/dsshome1/0C/ra93lal2/cma/CMA_Fairness_v2\n"
     ]
    }
   ],
   "source": [
    "import os\n",
    "print(\"Current working directory:\", os.getcwd())"
   ]
  },
  {
   "cell_type": "code",
   "execution_count": 3,
   "id": "4132aaed",
   "metadata": {
    "execution": {
     "iopub.execute_input": "2025-08-19T18:56:22.290998Z",
     "iopub.status.busy": "2025-08-19T18:56:22.289980Z",
     "iopub.status.idle": "2025-08-19T18:56:22.300511Z",
     "shell.execute_reply": "2025-08-19T18:56:22.298767Z"
    },
    "papermill": {
     "duration": 0.024149,
     "end_time": "2025-08-19T18:56:22.302410",
     "exception": false,
     "start_time": "2025-08-19T18:56:22.278261",
     "status": "completed"
    },
    "tags": [
     "parameters"
    ]
   },
   "outputs": [],
   "source": [
    "run_no = 0\n",
    "universe_id = \"test\"\n",
    "universe = {\n",
    "    \"training_size\": \"5k\", # \"25k\", \"5k\", \"1k\"\n",
    "    \"training_year\": \"2012_14\", # \"2014\", \"2012_14\", \"2010_14\"\n",
    "    \"scale\": \"scale\", # \"scale\", \"do-not-scale\",\n",
    "    \"model\": \"elasticnet\", # \"logreg\", \"penalized_logreg\", \"rf\", \"gbm\", \"elasticnet\"\n",
    "    \"cutoff\": [\"quantile_0.15\", \"quantile_0.30\"],\n",
    "    \"exclude_features\": \"age\", # \"none\", \"nationality\", \"sex\", \"nationality-sex\", \"age\"\n",
    "    \"exclude_subgroups\": \"drop-non-german\", # \"keep-all\", \"drop-non-german\"\n",
    "    \"eval_fairness_grouping\": [\"majority-minority\", \"nationality-all\"]\n",
    "}\n",
    "\n",
    "output_dir=\"./output\"\n",
    "seed=0"
   ]
  },
  {
   "cell_type": "code",
   "execution_count": 4,
   "id": "085840a9",
   "metadata": {
    "execution": {
     "iopub.execute_input": "2025-08-19T18:56:22.326678Z",
     "iopub.status.busy": "2025-08-19T18:56:22.325763Z",
     "iopub.status.idle": "2025-08-19T18:56:22.334383Z",
     "shell.execute_reply": "2025-08-19T18:56:22.332621Z"
    },
    "papermill": {
     "duration": 0.022315,
     "end_time": "2025-08-19T18:56:22.336381",
     "exception": false,
     "start_time": "2025-08-19T18:56:22.314066",
     "status": "completed"
    },
    "tags": [
     "injected-parameters"
    ]
   },
   "outputs": [],
   "source": [
    "# Parameters\n",
    "universe_id = \"b3024549e48c94277f35a7f3f5508409\"\n",
    "run_no = \"3\"\n",
    "universe = \"{\\\"cutoff\\\": [\\\"quantile_0.1\\\", \\\"quantile_0.25\\\"], \\\"eval_fairness_grouping\\\": [\\\"majority-minority\\\", \\\"nationality-all\\\"], \\\"exclude_features\\\": \\\"age\\\", \\\"exclude_subgroups\\\": \\\"keep-all\\\", \\\"model\\\": \\\"elasticnet\\\", \\\"scale\\\": \\\"do-not-scale\\\", \\\"training_size\\\": \\\"1k\\\", \\\"training_year\\\": \\\"2014\\\"}\"\n",
    "output_dir = \"output\"\n",
    "seed = \"2023\"\n"
   ]
  },
  {
   "cell_type": "code",
   "execution_count": 5,
   "id": "a5d7941f",
   "metadata": {
    "execution": {
     "iopub.execute_input": "2025-08-19T18:56:22.361071Z",
     "iopub.status.busy": "2025-08-19T18:56:22.360081Z",
     "iopub.status.idle": "2025-08-19T18:56:22.368344Z",
     "shell.execute_reply": "2025-08-19T18:56:22.366625Z"
    },
    "papermill": {
     "duration": 0.020998,
     "end_time": "2025-08-19T18:56:22.370021",
     "exception": false,
     "start_time": "2025-08-19T18:56:22.349023",
     "status": "completed"
    },
    "tags": []
   },
   "outputs": [],
   "source": [
    "import json\n",
    "if isinstance(universe, str):\n",
    "    universe = json.loads(universe)"
   ]
  },
  {
   "cell_type": "code",
   "execution_count": 6,
   "id": "7076ccb1",
   "metadata": {
    "execution": {
     "iopub.execute_input": "2025-08-19T18:56:22.393685Z",
     "iopub.status.busy": "2025-08-19T18:56:22.392751Z",
     "iopub.status.idle": "2025-08-19T18:56:22.442895Z",
     "shell.execute_reply": "2025-08-19T18:56:22.442229Z"
    },
    "papermill": {
     "duration": 0.06373,
     "end_time": "2025-08-19T18:56:22.445656",
     "exception": false,
     "start_time": "2025-08-19T18:56:22.381926",
     "status": "completed"
    },
    "tags": []
   },
   "outputs": [],
   "source": [
    "# Auto-reload the custom package\n",
    "%load_ext autoreload\n",
    "%autoreload 1\n",
    "%aimport fairness_multiverse"
   ]
  },
  {
   "cell_type": "code",
   "execution_count": 7,
   "id": "94c8eb93",
   "metadata": {
    "execution": {
     "iopub.execute_input": "2025-08-19T18:56:22.482188Z",
     "iopub.status.busy": "2025-08-19T18:56:22.481215Z",
     "iopub.status.idle": "2025-08-19T18:56:23.957930Z",
     "shell.execute_reply": "2025-08-19T18:56:23.957071Z"
    },
    "papermill": {
     "duration": 1.492153,
     "end_time": "2025-08-19T18:56:23.959573",
     "exception": false,
     "start_time": "2025-08-19T18:56:22.467420",
     "status": "completed"
    },
    "tags": []
   },
   "outputs": [],
   "source": [
    "from fairness_multiverse.universe import UniverseAnalysis\n",
    "\n",
    "universe_analysis = UniverseAnalysis(\n",
    "    run_no = run_no,\n",
    "    universe_id = universe_id,\n",
    "    universe = universe,\n",
    "    output_dir=output_dir,\n",
    ")"
   ]
  },
  {
   "cell_type": "code",
   "execution_count": 8,
   "id": "2a6381cf",
   "metadata": {
    "execution": {
     "iopub.execute_input": "2025-08-19T18:56:24.010546Z",
     "iopub.status.busy": "2025-08-19T18:56:24.009734Z",
     "iopub.status.idle": "2025-08-19T18:56:24.018890Z",
     "shell.execute_reply": "2025-08-19T18:56:24.017651Z"
    },
    "papermill": {
     "duration": 0.035505,
     "end_time": "2025-08-19T18:56:24.020812",
     "exception": false,
     "start_time": "2025-08-19T18:56:23.985307",
     "status": "completed"
    },
    "tags": []
   },
   "outputs": [
    {
     "name": "stdout",
     "output_type": "stream",
     "text": [
      "Using Seed: 2023\n"
     ]
    }
   ],
   "source": [
    "import numpy as np\n",
    "parsed_seed = int(seed)\n",
    "np.random.seed(parsed_seed)\n",
    "print(f\"Using Seed: {parsed_seed}\")"
   ]
  },
  {
   "cell_type": "markdown",
   "id": "b6e958b4",
   "metadata": {
    "papermill": {
     "duration": 0.010397,
     "end_time": "2025-08-19T18:56:24.047305",
     "exception": false,
     "start_time": "2025-08-19T18:56:24.036908",
     "status": "completed"
    },
    "tags": []
   },
   "source": [
    "# Loading Data"
   ]
  },
  {
   "cell_type": "code",
   "execution_count": 9,
   "id": "98701482",
   "metadata": {
    "execution": {
     "iopub.execute_input": "2025-08-19T18:56:24.081658Z",
     "iopub.status.busy": "2025-08-19T18:56:24.080952Z",
     "iopub.status.idle": "2025-08-19T18:56:34.558745Z",
     "shell.execute_reply": "2025-08-19T18:56:34.557699Z"
    },
    "papermill": {
     "duration": 10.504326,
     "end_time": "2025-08-19T18:56:34.561334",
     "exception": false,
     "start_time": "2025-08-19T18:56:24.057008",
     "status": "completed"
    },
    "tags": []
   },
   "outputs": [
    {
     "name": "stdout",
     "output_type": "stream",
     "text": [
      "Loading SIAB data from cache: data/siab_cached.csv.gz\n"
     ]
    },
    {
     "name": "stdout",
     "output_type": "stream",
     "text": [
      "(643690, 164)\n"
     ]
    }
   ],
   "source": [
    "from pathlib import Path\n",
    "import pandas as pd\n",
    "\n",
    "# File paths\n",
    "raw_file = Path(\"data/raw/siab.csv\")\n",
    "cache_file = Path(\"data/siab_cached.csv.gz\")\n",
    "\n",
    "# Ensure cache directory exists\n",
    "cache_file.parent.mkdir(parents=True, exist_ok=True)\n",
    "\n",
    "# Load with simple caching\n",
    "if cache_file.exists():\n",
    "    print(f\"Loading SIAB data from cache: {cache_file}\")\n",
    "    siab = pd.read_csv(cache_file, compression='gzip')\n",
    "else:\n",
    "    print(f\"Cache not found. Reading raw SIAB data: {raw_file}\")\n",
    "    siab = pd.read_csv(raw_file)\n",
    "    siab.to_csv(cache_file, index=False, compression='gzip')\n",
    "    print(f\"Cached SIAB data to: {cache_file}\")\n",
    "\n",
    "print(siab.shape)"
   ]
  },
  {
   "cell_type": "code",
   "execution_count": 10,
   "id": "058d2abb",
   "metadata": {
    "execution": {
     "iopub.execute_input": "2025-08-19T18:56:34.609374Z",
     "iopub.status.busy": "2025-08-19T18:56:34.608728Z",
     "iopub.status.idle": "2025-08-19T18:56:34.748238Z",
     "shell.execute_reply": "2025-08-19T18:56:34.747373Z"
    },
    "papermill": {
     "duration": 0.152722,
     "end_time": "2025-08-19T18:56:34.749482",
     "exception": false,
     "start_time": "2025-08-19T18:56:34.596760",
     "status": "completed"
    },
    "tags": []
   },
   "outputs": [
    {
     "data": {
      "text/html": [
       "<div>\n",
       "<style scoped>\n",
       "    .dataframe tbody tr th:only-of-type {\n",
       "        vertical-align: middle;\n",
       "    }\n",
       "\n",
       "    .dataframe tbody tr th {\n",
       "        vertical-align: top;\n",
       "    }\n",
       "\n",
       "    .dataframe thead th {\n",
       "        text-align: right;\n",
       "    }\n",
       "</style>\n",
       "<table border=\"1\" class=\"dataframe\">\n",
       "  <thead>\n",
       "    <tr style=\"text-align: right;\">\n",
       "      <th></th>\n",
       "      <th>persnr</th>\n",
       "      <th>year</th>\n",
       "      <th>nrEntry</th>\n",
       "      <th>ltue</th>\n",
       "      <th>employed_before</th>\n",
       "      <th>receipt_leh_before</th>\n",
       "      <th>receipt_lhg_before</th>\n",
       "      <th>se_before</th>\n",
       "      <th>ASU_notue_seeking_before</th>\n",
       "      <th>ASU_other_before</th>\n",
       "      <th>...</th>\n",
       "      <th>minijob_tot_dur_byage</th>\n",
       "      <th>ft_tot_dur_byage</th>\n",
       "      <th>befrist_tot_dur_byage</th>\n",
       "      <th>leih_tot_dur_byage</th>\n",
       "      <th>LHG_tot_dur_byage</th>\n",
       "      <th>LEH_tot_dur_byage</th>\n",
       "      <th>almp_tot_dur_byage</th>\n",
       "      <th>almp_aw_tot_dur_byage</th>\n",
       "      <th>se_tot_dur_byage</th>\n",
       "      <th>seeking1_tot_dur_byage</th>\n",
       "    </tr>\n",
       "  </thead>\n",
       "  <tbody>\n",
       "    <tr>\n",
       "      <th>0</th>\n",
       "      <td>7</td>\n",
       "      <td>2015</td>\n",
       "      <td>1</td>\n",
       "      <td>0</td>\n",
       "      <td>1</td>\n",
       "      <td>0</td>\n",
       "      <td>0</td>\n",
       "      <td>0</td>\n",
       "      <td>1</td>\n",
       "      <td>0</td>\n",
       "      <td>...</td>\n",
       "      <td>0.000000</td>\n",
       "      <td>0.000000</td>\n",
       "      <td>15.043478</td>\n",
       "      <td>0.000000</td>\n",
       "      <td>0.000000</td>\n",
       "      <td>0.000000</td>\n",
       "      <td>0.000000</td>\n",
       "      <td>0.000000</td>\n",
       "      <td>0.000000</td>\n",
       "      <td>0.000000</td>\n",
       "    </tr>\n",
       "    <tr>\n",
       "      <th>1</th>\n",
       "      <td>18</td>\n",
       "      <td>2010</td>\n",
       "      <td>1</td>\n",
       "      <td>1</td>\n",
       "      <td>0</td>\n",
       "      <td>0</td>\n",
       "      <td>0</td>\n",
       "      <td>0</td>\n",
       "      <td>0</td>\n",
       "      <td>0</td>\n",
       "      <td>...</td>\n",
       "      <td>0.000000</td>\n",
       "      <td>0.000000</td>\n",
       "      <td>0.000000</td>\n",
       "      <td>0.000000</td>\n",
       "      <td>0.000000</td>\n",
       "      <td>0.000000</td>\n",
       "      <td>0.000000</td>\n",
       "      <td>0.000000</td>\n",
       "      <td>0.000000</td>\n",
       "      <td>0.000000</td>\n",
       "    </tr>\n",
       "    <tr>\n",
       "      <th>2</th>\n",
       "      <td>18</td>\n",
       "      <td>2011</td>\n",
       "      <td>2</td>\n",
       "      <td>0</td>\n",
       "      <td>1</td>\n",
       "      <td>0</td>\n",
       "      <td>1</td>\n",
       "      <td>0</td>\n",
       "      <td>1</td>\n",
       "      <td>0</td>\n",
       "      <td>...</td>\n",
       "      <td>2.714286</td>\n",
       "      <td>2.714286</td>\n",
       "      <td>0.000000</td>\n",
       "      <td>0.000000</td>\n",
       "      <td>10.775510</td>\n",
       "      <td>0.000000</td>\n",
       "      <td>8.367347</td>\n",
       "      <td>0.000000</td>\n",
       "      <td>0.000000</td>\n",
       "      <td>9.836735</td>\n",
       "    </tr>\n",
       "    <tr>\n",
       "      <th>3</th>\n",
       "      <td>18</td>\n",
       "      <td>2012</td>\n",
       "      <td>3</td>\n",
       "      <td>0</td>\n",
       "      <td>1</td>\n",
       "      <td>0</td>\n",
       "      <td>1</td>\n",
       "      <td>0</td>\n",
       "      <td>1</td>\n",
       "      <td>0</td>\n",
       "      <td>...</td>\n",
       "      <td>4.200000</td>\n",
       "      <td>4.200000</td>\n",
       "      <td>0.000000</td>\n",
       "      <td>0.000000</td>\n",
       "      <td>12.100000</td>\n",
       "      <td>0.000000</td>\n",
       "      <td>9.400000</td>\n",
       "      <td>0.000000</td>\n",
       "      <td>0.000000</td>\n",
       "      <td>9.960000</td>\n",
       "    </tr>\n",
       "    <tr>\n",
       "      <th>4</th>\n",
       "      <td>18</td>\n",
       "      <td>2012</td>\n",
       "      <td>4</td>\n",
       "      <td>0</td>\n",
       "      <td>1</td>\n",
       "      <td>0</td>\n",
       "      <td>1</td>\n",
       "      <td>0</td>\n",
       "      <td>1</td>\n",
       "      <td>0</td>\n",
       "      <td>...</td>\n",
       "      <td>5.460000</td>\n",
       "      <td>5.460000</td>\n",
       "      <td>0.000000</td>\n",
       "      <td>0.000000</td>\n",
       "      <td>13.360000</td>\n",
       "      <td>0.000000</td>\n",
       "      <td>10.320000</td>\n",
       "      <td>0.000000</td>\n",
       "      <td>0.000000</td>\n",
       "      <td>10.280000</td>\n",
       "    </tr>\n",
       "    <tr>\n",
       "      <th>...</th>\n",
       "      <td>...</td>\n",
       "      <td>...</td>\n",
       "      <td>...</td>\n",
       "      <td>...</td>\n",
       "      <td>...</td>\n",
       "      <td>...</td>\n",
       "      <td>...</td>\n",
       "      <td>...</td>\n",
       "      <td>...</td>\n",
       "      <td>...</td>\n",
       "      <td>...</td>\n",
       "      <td>...</td>\n",
       "      <td>...</td>\n",
       "      <td>...</td>\n",
       "      <td>...</td>\n",
       "      <td>...</td>\n",
       "      <td>...</td>\n",
       "      <td>...</td>\n",
       "      <td>...</td>\n",
       "      <td>...</td>\n",
       "      <td>...</td>\n",
       "    </tr>\n",
       "    <tr>\n",
       "      <th>643685</th>\n",
       "      <td>1827860</td>\n",
       "      <td>2013</td>\n",
       "      <td>1</td>\n",
       "      <td>0</td>\n",
       "      <td>0</td>\n",
       "      <td>0</td>\n",
       "      <td>1</td>\n",
       "      <td>0</td>\n",
       "      <td>0</td>\n",
       "      <td>1</td>\n",
       "      <td>...</td>\n",
       "      <td>0.000000</td>\n",
       "      <td>0.000000</td>\n",
       "      <td>0.000000</td>\n",
       "      <td>0.000000</td>\n",
       "      <td>0.612903</td>\n",
       "      <td>0.000000</td>\n",
       "      <td>0.000000</td>\n",
       "      <td>0.000000</td>\n",
       "      <td>0.000000</td>\n",
       "      <td>0.000000</td>\n",
       "    </tr>\n",
       "    <tr>\n",
       "      <th>643686</th>\n",
       "      <td>1827860</td>\n",
       "      <td>2015</td>\n",
       "      <td>2</td>\n",
       "      <td>1</td>\n",
       "      <td>0</td>\n",
       "      <td>0</td>\n",
       "      <td>1</td>\n",
       "      <td>0</td>\n",
       "      <td>1</td>\n",
       "      <td>0</td>\n",
       "      <td>...</td>\n",
       "      <td>0.000000</td>\n",
       "      <td>0.000000</td>\n",
       "      <td>0.212121</td>\n",
       "      <td>0.212121</td>\n",
       "      <td>17.363636</td>\n",
       "      <td>0.000000</td>\n",
       "      <td>8.909091</td>\n",
       "      <td>0.000000</td>\n",
       "      <td>0.000000</td>\n",
       "      <td>7.121212</td>\n",
       "    </tr>\n",
       "    <tr>\n",
       "      <th>643687</th>\n",
       "      <td>1827860</td>\n",
       "      <td>2016</td>\n",
       "      <td>3</td>\n",
       "      <td>1</td>\n",
       "      <td>0</td>\n",
       "      <td>0</td>\n",
       "      <td>1</td>\n",
       "      <td>1</td>\n",
       "      <td>0</td>\n",
       "      <td>1</td>\n",
       "      <td>...</td>\n",
       "      <td>0.000000</td>\n",
       "      <td>0.000000</td>\n",
       "      <td>0.294118</td>\n",
       "      <td>0.205882</td>\n",
       "      <td>34.705882</td>\n",
       "      <td>0.000000</td>\n",
       "      <td>10.352941</td>\n",
       "      <td>1.705882</td>\n",
       "      <td>1.705882</td>\n",
       "      <td>23.911765</td>\n",
       "    </tr>\n",
       "    <tr>\n",
       "      <th>643688</th>\n",
       "      <td>1827869</td>\n",
       "      <td>2013</td>\n",
       "      <td>1</td>\n",
       "      <td>1</td>\n",
       "      <td>1</td>\n",
       "      <td>0</td>\n",
       "      <td>0</td>\n",
       "      <td>0</td>\n",
       "      <td>1</td>\n",
       "      <td>0</td>\n",
       "      <td>...</td>\n",
       "      <td>0.000000</td>\n",
       "      <td>0.000000</td>\n",
       "      <td>0.000000</td>\n",
       "      <td>0.000000</td>\n",
       "      <td>0.000000</td>\n",
       "      <td>0.525424</td>\n",
       "      <td>0.000000</td>\n",
       "      <td>0.000000</td>\n",
       "      <td>0.000000</td>\n",
       "      <td>0.000000</td>\n",
       "    </tr>\n",
       "    <tr>\n",
       "      <th>643689</th>\n",
       "      <td>1827869</td>\n",
       "      <td>2014</td>\n",
       "      <td>2</td>\n",
       "      <td>0</td>\n",
       "      <td>0</td>\n",
       "      <td>1</td>\n",
       "      <td>0</td>\n",
       "      <td>0</td>\n",
       "      <td>1</td>\n",
       "      <td>0</td>\n",
       "      <td>...</td>\n",
       "      <td>0.000000</td>\n",
       "      <td>0.666667</td>\n",
       "      <td>0.666667</td>\n",
       "      <td>0.000000</td>\n",
       "      <td>0.000000</td>\n",
       "      <td>8.950000</td>\n",
       "      <td>1.033333</td>\n",
       "      <td>0.083333</td>\n",
       "      <td>0.083333</td>\n",
       "      <td>8.133333</td>\n",
       "    </tr>\n",
       "  </tbody>\n",
       "</table>\n",
       "<p>643690 rows × 164 columns</p>\n",
       "</div>"
      ],
      "text/plain": [
       "         persnr  year  nrEntry  ltue  employed_before  receipt_leh_before  \\\n",
       "0             7  2015        1     0                1                   0   \n",
       "1            18  2010        1     1                0                   0   \n",
       "2            18  2011        2     0                1                   0   \n",
       "3            18  2012        3     0                1                   0   \n",
       "4            18  2012        4     0                1                   0   \n",
       "...         ...   ...      ...   ...              ...                 ...   \n",
       "643685  1827860  2013        1     0                0                   0   \n",
       "643686  1827860  2015        2     1                0                   0   \n",
       "643687  1827860  2016        3     1                0                   0   \n",
       "643688  1827869  2013        1     1                1                   0   \n",
       "643689  1827869  2014        2     0                0                   1   \n",
       "\n",
       "        receipt_lhg_before  se_before  ASU_notue_seeking_before  \\\n",
       "0                        0          0                         1   \n",
       "1                        0          0                         0   \n",
       "2                        1          0                         1   \n",
       "3                        1          0                         1   \n",
       "4                        1          0                         1   \n",
       "...                    ...        ...                       ...   \n",
       "643685                   1          0                         0   \n",
       "643686                   1          0                         1   \n",
       "643687                   1          1                         0   \n",
       "643688                   0          0                         1   \n",
       "643689                   0          0                         1   \n",
       "\n",
       "        ASU_other_before  ...  minijob_tot_dur_byage  ft_tot_dur_byage  \\\n",
       "0                      0  ...               0.000000          0.000000   \n",
       "1                      0  ...               0.000000          0.000000   \n",
       "2                      0  ...               2.714286          2.714286   \n",
       "3                      0  ...               4.200000          4.200000   \n",
       "4                      0  ...               5.460000          5.460000   \n",
       "...                  ...  ...                    ...               ...   \n",
       "643685                 1  ...               0.000000          0.000000   \n",
       "643686                 0  ...               0.000000          0.000000   \n",
       "643687                 1  ...               0.000000          0.000000   \n",
       "643688                 0  ...               0.000000          0.000000   \n",
       "643689                 0  ...               0.000000          0.666667   \n",
       "\n",
       "        befrist_tot_dur_byage  leih_tot_dur_byage  LHG_tot_dur_byage  \\\n",
       "0                   15.043478            0.000000           0.000000   \n",
       "1                    0.000000            0.000000           0.000000   \n",
       "2                    0.000000            0.000000          10.775510   \n",
       "3                    0.000000            0.000000          12.100000   \n",
       "4                    0.000000            0.000000          13.360000   \n",
       "...                       ...                 ...                ...   \n",
       "643685               0.000000            0.000000           0.612903   \n",
       "643686               0.212121            0.212121          17.363636   \n",
       "643687               0.294118            0.205882          34.705882   \n",
       "643688               0.000000            0.000000           0.000000   \n",
       "643689               0.666667            0.000000           0.000000   \n",
       "\n",
       "        LEH_tot_dur_byage  almp_tot_dur_byage  almp_aw_tot_dur_byage  \\\n",
       "0                0.000000            0.000000               0.000000   \n",
       "1                0.000000            0.000000               0.000000   \n",
       "2                0.000000            8.367347               0.000000   \n",
       "3                0.000000            9.400000               0.000000   \n",
       "4                0.000000           10.320000               0.000000   \n",
       "...                   ...                 ...                    ...   \n",
       "643685           0.000000            0.000000               0.000000   \n",
       "643686           0.000000            8.909091               0.000000   \n",
       "643687           0.000000           10.352941               1.705882   \n",
       "643688           0.525424            0.000000               0.000000   \n",
       "643689           8.950000            1.033333               0.083333   \n",
       "\n",
       "        se_tot_dur_byage  seeking1_tot_dur_byage  \n",
       "0               0.000000                0.000000  \n",
       "1               0.000000                0.000000  \n",
       "2               0.000000                9.836735  \n",
       "3               0.000000                9.960000  \n",
       "4               0.000000               10.280000  \n",
       "...                  ...                     ...  \n",
       "643685          0.000000                0.000000  \n",
       "643686          0.000000                7.121212  \n",
       "643687          1.705882               23.911765  \n",
       "643688          0.000000                0.000000  \n",
       "643689          0.083333                8.133333  \n",
       "\n",
       "[643690 rows x 164 columns]"
      ]
     },
     "execution_count": 10,
     "metadata": {},
     "output_type": "execute_result"
    }
   ],
   "source": [
    "siab"
   ]
  },
  {
   "cell_type": "markdown",
   "id": "1f87e805",
   "metadata": {
    "papermill": {
     "duration": 0.009907,
     "end_time": "2025-08-19T18:56:34.785454",
     "exception": false,
     "start_time": "2025-08-19T18:56:34.775547",
     "status": "completed"
    },
    "tags": []
   },
   "source": [
    "# Splitting Data and Setting Training Data Size"
   ]
  },
  {
   "cell_type": "code",
   "execution_count": 11,
   "id": "910ae358",
   "metadata": {
    "execution": {
     "iopub.execute_input": "2025-08-19T18:56:34.806713Z",
     "iopub.status.busy": "2025-08-19T18:56:34.806174Z",
     "iopub.status.idle": "2025-08-19T18:56:35.035515Z",
     "shell.execute_reply": "2025-08-19T18:56:35.034738Z"
    },
    "papermill": {
     "duration": 0.241533,
     "end_time": "2025-08-19T18:56:35.037012",
     "exception": false,
     "start_time": "2025-08-19T18:56:34.795479",
     "status": "completed"
    },
    "tags": []
   },
   "outputs": [],
   "source": [
    "from fairness_multiverse.universe import sample_by_year_size\n",
    "\n",
    "siab_train = sample_by_year_size(siab,\n",
    "                               training_year=universe[\"training_year\"],\n",
    "                               training_size=universe[\"training_size\"])"
   ]
  },
  {
   "cell_type": "code",
   "execution_count": 12,
   "id": "919c8ff5",
   "metadata": {
    "execution": {
     "iopub.execute_input": "2025-08-19T18:56:35.081305Z",
     "iopub.status.busy": "2025-08-19T18:56:35.079963Z",
     "iopub.status.idle": "2025-08-19T18:56:35.091935Z",
     "shell.execute_reply": "2025-08-19T18:56:35.090624Z"
    },
    "papermill": {
     "duration": 0.046147,
     "end_time": "2025-08-19T18:56:35.093459",
     "exception": false,
     "start_time": "2025-08-19T18:56:35.047312",
     "status": "completed"
    },
    "tags": []
   },
   "outputs": [
    {
     "data": {
      "text/plain": [
       "(1000, 164)"
      ]
     },
     "execution_count": 12,
     "metadata": {},
     "output_type": "execute_result"
    }
   ],
   "source": [
    "siab_train.shape"
   ]
  },
  {
   "cell_type": "code",
   "execution_count": 13,
   "id": "feb13bf4",
   "metadata": {
    "execution": {
     "iopub.execute_input": "2025-08-19T18:56:35.118986Z",
     "iopub.status.busy": "2025-08-19T18:56:35.117977Z",
     "iopub.status.idle": "2025-08-19T18:56:35.134129Z",
     "shell.execute_reply": "2025-08-19T18:56:35.132957Z"
    },
    "papermill": {
     "duration": 0.032361,
     "end_time": "2025-08-19T18:56:35.136074",
     "exception": false,
     "start_time": "2025-08-19T18:56:35.103713",
     "status": "completed"
    },
    "tags": []
   },
   "outputs": [
    {
     "data": {
      "text/plain": [
       "year\n",
       "2014    1000\n",
       "dtype: int64"
      ]
     },
     "metadata": {},
     "output_type": "display_data"
    }
   ],
   "source": [
    "display(siab_train.groupby(\"year\").size())"
   ]
  },
  {
   "cell_type": "code",
   "execution_count": 14,
   "id": "0997782f",
   "metadata": {
    "execution": {
     "iopub.execute_input": "2025-08-19T18:56:35.166056Z",
     "iopub.status.busy": "2025-08-19T18:56:35.165368Z",
     "iopub.status.idle": "2025-08-19T18:56:35.441683Z",
     "shell.execute_reply": "2025-08-19T18:56:35.437950Z"
    },
    "papermill": {
     "duration": 0.292016,
     "end_time": "2025-08-19T18:56:35.444628",
     "exception": false,
     "start_time": "2025-08-19T18:56:35.152612",
     "status": "completed"
    },
    "tags": []
   },
   "outputs": [],
   "source": [
    "#siab_train = siab_s[siab_s.year < 2015]\n",
    "siab_calib = siab[siab.year == 2015]\n",
    "siab_test = siab[siab.year == 2016]"
   ]
  },
  {
   "cell_type": "code",
   "execution_count": 15,
   "id": "2c1e4012",
   "metadata": {
    "execution": {
     "iopub.execute_input": "2025-08-19T18:56:35.483755Z",
     "iopub.status.busy": "2025-08-19T18:56:35.482500Z",
     "iopub.status.idle": "2025-08-19T18:56:35.491290Z",
     "shell.execute_reply": "2025-08-19T18:56:35.489618Z"
    },
    "papermill": {
     "duration": 0.024358,
     "end_time": "2025-08-19T18:56:35.492735",
     "exception": false,
     "start_time": "2025-08-19T18:56:35.468377",
     "status": "completed"
    },
    "tags": []
   },
   "outputs": [],
   "source": [
    "#siab_calib.shape"
   ]
  },
  {
   "cell_type": "code",
   "execution_count": 16,
   "id": "f66b54ca",
   "metadata": {
    "execution": {
     "iopub.execute_input": "2025-08-19T18:56:35.520053Z",
     "iopub.status.busy": "2025-08-19T18:56:35.518917Z",
     "iopub.status.idle": "2025-08-19T18:56:35.527184Z",
     "shell.execute_reply": "2025-08-19T18:56:35.525554Z"
    },
    "papermill": {
     "duration": 0.023683,
     "end_time": "2025-08-19T18:56:35.528912",
     "exception": false,
     "start_time": "2025-08-19T18:56:35.505229",
     "status": "completed"
    },
    "tags": []
   },
   "outputs": [],
   "source": [
    "#siab_test.shape"
   ]
  },
  {
   "cell_type": "code",
   "execution_count": 17,
   "id": "27e4384d",
   "metadata": {
    "execution": {
     "iopub.execute_input": "2025-08-19T18:56:35.554481Z",
     "iopub.status.busy": "2025-08-19T18:56:35.553016Z",
     "iopub.status.idle": "2025-08-19T18:56:35.562052Z",
     "shell.execute_reply": "2025-08-19T18:56:35.561126Z"
    },
    "papermill": {
     "duration": 0.02174,
     "end_time": "2025-08-19T18:56:35.563174",
     "exception": false,
     "start_time": "2025-08-19T18:56:35.541434",
     "status": "completed"
    },
    "tags": []
   },
   "outputs": [],
   "source": [
    "X_train = siab_train.iloc[:,4:164]\n",
    "y_train = siab_train.iloc[:, [3]]"
   ]
  },
  {
   "cell_type": "code",
   "execution_count": 18,
   "id": "08ee8389",
   "metadata": {
    "execution": {
     "iopub.execute_input": "2025-08-19T18:56:35.591580Z",
     "iopub.status.busy": "2025-08-19T18:56:35.590404Z",
     "iopub.status.idle": "2025-08-19T18:56:35.701959Z",
     "shell.execute_reply": "2025-08-19T18:56:35.701113Z"
    },
    "papermill": {
     "duration": 0.12721,
     "end_time": "2025-08-19T18:56:35.704819",
     "exception": false,
     "start_time": "2025-08-19T18:56:35.577609",
     "status": "completed"
    },
    "tags": []
   },
   "outputs": [],
   "source": [
    "X_calib = siab_calib.iloc[:,4:164]\n",
    "y_calib = siab_calib.iloc[:, [3]]"
   ]
  },
  {
   "cell_type": "code",
   "execution_count": 19,
   "id": "b7ff42e0",
   "metadata": {
    "execution": {
     "iopub.execute_input": "2025-08-19T18:56:35.746250Z",
     "iopub.status.busy": "2025-08-19T18:56:35.744705Z",
     "iopub.status.idle": "2025-08-19T18:56:35.817181Z",
     "shell.execute_reply": "2025-08-19T18:56:35.816404Z"
    },
    "papermill": {
     "duration": 0.089372,
     "end_time": "2025-08-19T18:56:35.819680",
     "exception": false,
     "start_time": "2025-08-19T18:56:35.730308",
     "status": "completed"
    },
    "tags": []
   },
   "outputs": [],
   "source": [
    "X_test = siab_test.iloc[:,4:164]\n",
    "y_true = siab_test.iloc[:, [3]]"
   ]
  },
  {
   "cell_type": "code",
   "execution_count": 20,
   "id": "0275101e",
   "metadata": {
    "execution": {
     "iopub.execute_input": "2025-08-19T18:56:35.860879Z",
     "iopub.status.busy": "2025-08-19T18:56:35.859834Z",
     "iopub.status.idle": "2025-08-19T18:56:35.977293Z",
     "shell.execute_reply": "2025-08-19T18:56:35.976586Z"
    },
    "papermill": {
     "duration": 0.135039,
     "end_time": "2025-08-19T18:56:35.979914",
     "exception": false,
     "start_time": "2025-08-19T18:56:35.844875",
     "status": "completed"
    },
    "tags": []
   },
   "outputs": [],
   "source": [
    "# Auxiliary data needed downstream in the pipeline\n",
    "\n",
    "org_train = X_train.copy()\n",
    "org_test = X_test.copy()\n",
    "org_calib = X_calib.copy()"
   ]
  },
  {
   "cell_type": "markdown",
   "id": "b461e618",
   "metadata": {
    "papermill": {
     "duration": 0.01406,
     "end_time": "2025-08-19T18:56:36.018616",
     "exception": false,
     "start_time": "2025-08-19T18:56:36.004556",
     "status": "completed"
    },
    "tags": []
   },
   "source": [
    "# Preprocessing Data"
   ]
  },
  {
   "cell_type": "code",
   "execution_count": 21,
   "id": "78e74c4b",
   "metadata": {
    "execution": {
     "iopub.execute_input": "2025-08-19T18:56:36.040974Z",
     "iopub.status.busy": "2025-08-19T18:56:36.040578Z",
     "iopub.status.idle": "2025-08-19T18:56:36.045582Z",
     "shell.execute_reply": "2025-08-19T18:56:36.044988Z"
    },
    "papermill": {
     "duration": 0.018448,
     "end_time": "2025-08-19T18:56:36.047619",
     "exception": false,
     "start_time": "2025-08-19T18:56:36.029171",
     "status": "completed"
    },
    "tags": []
   },
   "outputs": [],
   "source": [
    "# EXCLUDE PROTECTED FEATURES\n",
    "# --------------------------\n",
    "\n",
    "excluded_features = universe[\"exclude_features\"].split(\"-\")\n",
    "excluded_features_dictionary = {\n",
    "    \"nationality\": [\"maxdeutsch1\", \"maxdeutsch.Missing.\"],\n",
    "    \"sex\": [\"frau1\"],\n",
    "    \"age\": [\"age\"],\n",
    "}"
   ]
  },
  {
   "cell_type": "code",
   "execution_count": 22,
   "id": "f8e63555",
   "metadata": {
    "execution": {
     "iopub.execute_input": "2025-08-19T18:56:36.070624Z",
     "iopub.status.busy": "2025-08-19T18:56:36.070254Z",
     "iopub.status.idle": "2025-08-19T18:56:36.074776Z",
     "shell.execute_reply": "2025-08-19T18:56:36.074145Z"
    },
    "papermill": {
     "duration": 0.018017,
     "end_time": "2025-08-19T18:56:36.076727",
     "exception": false,
     "start_time": "2025-08-19T18:56:36.058710",
     "status": "completed"
    },
    "tags": []
   },
   "outputs": [],
   "source": [
    "excluded_features_columns = [\n",
    "    excluded_features_dictionary[f] for f in excluded_features if len(f) > 0 and f != \"none\"\n",
    "]"
   ]
  },
  {
   "cell_type": "code",
   "execution_count": 23,
   "id": "da781f7c",
   "metadata": {
    "execution": {
     "iopub.execute_input": "2025-08-19T18:56:36.100093Z",
     "iopub.status.busy": "2025-08-19T18:56:36.099723Z",
     "iopub.status.idle": "2025-08-19T18:56:36.104428Z",
     "shell.execute_reply": "2025-08-19T18:56:36.103587Z"
    },
    "papermill": {
     "duration": 0.019133,
     "end_time": "2025-08-19T18:56:36.107075",
     "exception": false,
     "start_time": "2025-08-19T18:56:36.087942",
     "status": "completed"
    },
    "tags": []
   },
   "outputs": [],
   "source": [
    "from fairness_multiverse.universe import flatten_once\n",
    "\n",
    "excluded_features_columns = flatten_once(excluded_features_columns)"
   ]
  },
  {
   "cell_type": "code",
   "execution_count": 24,
   "id": "37fef0f0",
   "metadata": {
    "execution": {
     "iopub.execute_input": "2025-08-19T18:56:36.146791Z",
     "iopub.status.busy": "2025-08-19T18:56:36.145313Z",
     "iopub.status.idle": "2025-08-19T18:56:36.160379Z",
     "shell.execute_reply": "2025-08-19T18:56:36.158993Z"
    },
    "papermill": {
     "duration": 0.031328,
     "end_time": "2025-08-19T18:56:36.162258",
     "exception": false,
     "start_time": "2025-08-19T18:56:36.130930",
     "status": "completed"
    },
    "tags": []
   },
   "outputs": [
    {
     "name": "stdout",
     "output_type": "stream",
     "text": [
      "Dropping features: ['age']\n"
     ]
    }
   ],
   "source": [
    "if len(excluded_features_columns) > 0:\n",
    "    print(f\"Dropping features: {excluded_features_columns}\")\n",
    "    X_train.drop(excluded_features_columns, axis=1, inplace=True)"
   ]
  },
  {
   "cell_type": "code",
   "execution_count": 25,
   "id": "d029e3e9",
   "metadata": {
    "execution": {
     "iopub.execute_input": "2025-08-19T18:56:36.192867Z",
     "iopub.status.busy": "2025-08-19T18:56:36.191422Z",
     "iopub.status.idle": "2025-08-19T18:56:36.255655Z",
     "shell.execute_reply": "2025-08-19T18:56:36.254622Z"
    },
    "papermill": {
     "duration": 0.07828,
     "end_time": "2025-08-19T18:56:36.256937",
     "exception": false,
     "start_time": "2025-08-19T18:56:36.178657",
     "status": "completed"
    },
    "tags": []
   },
   "outputs": [
    {
     "name": "stdout",
     "output_type": "stream",
     "text": [
      "Dropping features: ['age']\n"
     ]
    }
   ],
   "source": [
    "if len(excluded_features_columns) > 0:\n",
    "    print(f\"Dropping features: {excluded_features_columns}\")\n",
    "    X_test.drop(excluded_features_columns, axis=1, inplace=True)"
   ]
  },
  {
   "cell_type": "code",
   "execution_count": 26,
   "id": "01d571f0",
   "metadata": {
    "execution": {
     "iopub.execute_input": "2025-08-19T18:56:36.281001Z",
     "iopub.status.busy": "2025-08-19T18:56:36.280288Z",
     "iopub.status.idle": "2025-08-19T18:56:36.334424Z",
     "shell.execute_reply": "2025-08-19T18:56:36.333838Z"
    },
    "papermill": {
     "duration": 0.067412,
     "end_time": "2025-08-19T18:56:36.335591",
     "exception": false,
     "start_time": "2025-08-19T18:56:36.268179",
     "status": "completed"
    },
    "tags": []
   },
   "outputs": [
    {
     "name": "stdout",
     "output_type": "stream",
     "text": [
      "Dropping features: ['age']\n"
     ]
    }
   ],
   "source": [
    "if len(excluded_features_columns) > 0:\n",
    "    print(f\"Dropping features: {excluded_features_columns}\")\n",
    "    X_calib.drop(excluded_features_columns, axis=1, inplace=True)"
   ]
  },
  {
   "cell_type": "code",
   "execution_count": 27,
   "id": "3037356e",
   "metadata": {
    "execution": {
     "iopub.execute_input": "2025-08-19T18:56:36.361031Z",
     "iopub.status.busy": "2025-08-19T18:56:36.360290Z",
     "iopub.status.idle": "2025-08-19T18:56:36.367343Z",
     "shell.execute_reply": "2025-08-19T18:56:36.365953Z"
    },
    "papermill": {
     "duration": 0.021985,
     "end_time": "2025-08-19T18:56:36.368882",
     "exception": false,
     "start_time": "2025-08-19T18:56:36.346897",
     "status": "completed"
    },
    "tags": []
   },
   "outputs": [],
   "source": [
    "# EXCLUDE CERTAIN SUBGROUPS\n",
    "# -------------------------\n",
    "\n",
    "mode = universe.get(\"exclude_subgroups\", \"keep-all\") # Defaults to \"keep-all\" if the key is missing."
   ]
  },
  {
   "cell_type": "code",
   "execution_count": 28,
   "id": "9d1e63fd",
   "metadata": {
    "execution": {
     "iopub.execute_input": "2025-08-19T18:56:36.395548Z",
     "iopub.status.busy": "2025-08-19T18:56:36.394336Z",
     "iopub.status.idle": "2025-08-19T18:56:36.406526Z",
     "shell.execute_reply": "2025-08-19T18:56:36.405303Z"
    },
    "papermill": {
     "duration": 0.026232,
     "end_time": "2025-08-19T18:56:36.408224",
     "exception": false,
     "start_time": "2025-08-19T18:56:36.381992",
     "status": "completed"
    },
    "tags": []
   },
   "outputs": [],
   "source": [
    "if mode == \"keep-all\":\n",
    "    keep_mask = pd.Series(True, index=org_train.index)\n",
    "\n",
    "elif mode == \"drop-non-german\":\n",
    "    keep_mask = (org_train[\"maxdeutsch1\"] == 1) & (org_train[\"maxdeutsch.Missing.\"] == 0)\n",
    "\n",
    "else:\n",
    "    raise ValueError(f\"Unsupported mode for exclude_subgroups: {mode}\")"
   ]
  },
  {
   "cell_type": "code",
   "execution_count": 29,
   "id": "d3b65474",
   "metadata": {
    "execution": {
     "iopub.execute_input": "2025-08-19T18:56:36.442468Z",
     "iopub.status.busy": "2025-08-19T18:56:36.441221Z",
     "iopub.status.idle": "2025-08-19T18:56:36.454047Z",
     "shell.execute_reply": "2025-08-19T18:56:36.452276Z"
    },
    "papermill": {
     "duration": 0.030985,
     "end_time": "2025-08-19T18:56:36.455850",
     "exception": false,
     "start_time": "2025-08-19T18:56:36.424865",
     "status": "completed"
    },
    "tags": []
   },
   "outputs": [],
   "source": [
    "n_drop = (~keep_mask).sum() # Calculates how many rows are set to be dropped\n",
    "if n_drop > 0:\n",
    "    pct = n_drop / len(keep_mask) * 100\n",
    "    print(f\"Dropping {n_drop} rows ({pct:.2f}%) where mode='{mode}'\")"
   ]
  },
  {
   "cell_type": "code",
   "execution_count": 30,
   "id": "f44389b3",
   "metadata": {
    "execution": {
     "iopub.execute_input": "2025-08-19T18:56:36.485312Z",
     "iopub.status.busy": "2025-08-19T18:56:36.484100Z",
     "iopub.status.idle": "2025-08-19T18:56:36.495752Z",
     "shell.execute_reply": "2025-08-19T18:56:36.494419Z"
    },
    "papermill": {
     "duration": 0.026501,
     "end_time": "2025-08-19T18:56:36.497322",
     "exception": false,
     "start_time": "2025-08-19T18:56:36.470821",
     "status": "completed"
    },
    "tags": []
   },
   "outputs": [],
   "source": [
    "X_train = X_train[keep_mask]"
   ]
  },
  {
   "cell_type": "code",
   "execution_count": 31,
   "id": "ceca8c2a",
   "metadata": {
    "execution": {
     "iopub.execute_input": "2025-08-19T18:56:36.531156Z",
     "iopub.status.busy": "2025-08-19T18:56:36.529867Z",
     "iopub.status.idle": "2025-08-19T18:56:36.541340Z",
     "shell.execute_reply": "2025-08-19T18:56:36.539373Z"
    },
    "papermill": {
     "duration": 0.031791,
     "end_time": "2025-08-19T18:56:36.543417",
     "exception": false,
     "start_time": "2025-08-19T18:56:36.511626",
     "status": "completed"
    },
    "tags": []
   },
   "outputs": [],
   "source": [
    "y_train = y_train[keep_mask]"
   ]
  },
  {
   "cell_type": "markdown",
   "id": "04d31e2f",
   "metadata": {
    "papermill": {
     "duration": 0.011571,
     "end_time": "2025-08-19T18:56:36.571528",
     "exception": false,
     "start_time": "2025-08-19T18:56:36.559957",
     "status": "completed"
    },
    "tags": []
   },
   "source": [
    "# Model Training"
   ]
  },
  {
   "cell_type": "code",
   "execution_count": 32,
   "id": "db991733",
   "metadata": {
    "execution": {
     "iopub.execute_input": "2025-08-19T18:56:36.595636Z",
     "iopub.status.busy": "2025-08-19T18:56:36.594589Z",
     "iopub.status.idle": "2025-08-19T18:56:36.709414Z",
     "shell.execute_reply": "2025-08-19T18:56:36.708669Z"
    },
    "papermill": {
     "duration": 0.129949,
     "end_time": "2025-08-19T18:56:36.712187",
     "exception": false,
     "start_time": "2025-08-19T18:56:36.582238",
     "status": "completed"
    },
    "tags": []
   },
   "outputs": [],
   "source": [
    "from sklearn.linear_model import LogisticRegression\n",
    "from sklearn.ensemble import GradientBoostingClassifier, RandomForestClassifier\n",
    "\n",
    "if (universe[\"model\"] == \"logreg\"):\n",
    "    model = LogisticRegression() #penalty=\"none\", solver=\"newton-cg\", max_iter=1)\n",
    "elif (universe[\"model\"] == \"penalized_logreg\"):\n",
    "    model = LogisticRegression(penalty=\"l2\", C=0.1) #, solver=\"newton-cg\", max_iter=1)\n",
    "elif (universe[\"model\"] == \"rf\"):\n",
    "    model = RandomForestClassifier() # n_estimators=100, n_jobs=-1\n",
    "elif (universe[\"model\"] == \"gbm\"):\n",
    "    model = GradientBoostingClassifier()\n",
    "elif (universe[\"model\"] == \"elasticnet\"):\n",
    "    model = LogisticRegression(penalty = 'elasticnet', solver = 'saga', l1_ratio = 0.5) # max_iter=5000\n",
    "else:\n",
    "    raise \"Unsupported universe.model\""
   ]
  },
  {
   "cell_type": "code",
   "execution_count": 33,
   "id": "a4b5cd25",
   "metadata": {
    "execution": {
     "iopub.execute_input": "2025-08-19T18:56:36.751195Z",
     "iopub.status.busy": "2025-08-19T18:56:36.749991Z",
     "iopub.status.idle": "2025-08-19T18:56:36.762205Z",
     "shell.execute_reply": "2025-08-19T18:56:36.760066Z"
    },
    "papermill": {
     "duration": 0.028854,
     "end_time": "2025-08-19T18:56:36.764592",
     "exception": false,
     "start_time": "2025-08-19T18:56:36.735738",
     "status": "completed"
    },
    "tags": []
   },
   "outputs": [],
   "source": [
    "from sklearn.pipeline import Pipeline\n",
    "from sklearn.preprocessing import StandardScaler\n",
    "\n",
    "model = Pipeline([\n",
    "    #(\"continuous_processor\", continuous_processor),\n",
    "    #(\"categorical_preprocessor\", categorical_preprocessor),\n",
    "    (\"scale\", StandardScaler() if universe[\"scale\"] == \"scale\" else None), \n",
    "    (\"model\", model),\n",
    "])"
   ]
  },
  {
   "cell_type": "code",
   "execution_count": 34,
   "id": "283a904d",
   "metadata": {
    "execution": {
     "iopub.execute_input": "2025-08-19T18:56:36.794468Z",
     "iopub.status.busy": "2025-08-19T18:56:36.793084Z",
     "iopub.status.idle": "2025-08-19T18:56:37.067644Z",
     "shell.execute_reply": "2025-08-19T18:56:37.067057Z"
    },
    "papermill": {
     "duration": 0.288742,
     "end_time": "2025-08-19T18:56:37.068763",
     "exception": false,
     "start_time": "2025-08-19T18:56:36.780021",
     "status": "completed"
    },
    "tags": []
   },
   "outputs": [
    {
     "name": "stderr",
     "output_type": "stream",
     "text": [
      "/dss/dsshome1/0C/ra93lal2/.local/share/virtualenvs/CMA_Fairness_v2-3j10GkSs/lib/python3.10/site-packages/sklearn/linear_model/_sag.py:350: ConvergenceWarning: The max_iter was reached which means the coef_ did not converge\n",
      "  warnings.warn(\n"
     ]
    },
    {
     "data": {
      "text/html": [
       "<style>#sk-container-id-1 {color: black;background-color: white;}#sk-container-id-1 pre{padding: 0;}#sk-container-id-1 div.sk-toggleable {background-color: white;}#sk-container-id-1 label.sk-toggleable__label {cursor: pointer;display: block;width: 100%;margin-bottom: 0;padding: 0.3em;box-sizing: border-box;text-align: center;}#sk-container-id-1 label.sk-toggleable__label-arrow:before {content: \"▸\";float: left;margin-right: 0.25em;color: #696969;}#sk-container-id-1 label.sk-toggleable__label-arrow:hover:before {color: black;}#sk-container-id-1 div.sk-estimator:hover label.sk-toggleable__label-arrow:before {color: black;}#sk-container-id-1 div.sk-toggleable__content {max-height: 0;max-width: 0;overflow: hidden;text-align: left;background-color: #f0f8ff;}#sk-container-id-1 div.sk-toggleable__content pre {margin: 0.2em;color: black;border-radius: 0.25em;background-color: #f0f8ff;}#sk-container-id-1 input.sk-toggleable__control:checked~div.sk-toggleable__content {max-height: 200px;max-width: 100%;overflow: auto;}#sk-container-id-1 input.sk-toggleable__control:checked~label.sk-toggleable__label-arrow:before {content: \"▾\";}#sk-container-id-1 div.sk-estimator input.sk-toggleable__control:checked~label.sk-toggleable__label {background-color: #d4ebff;}#sk-container-id-1 div.sk-label input.sk-toggleable__control:checked~label.sk-toggleable__label {background-color: #d4ebff;}#sk-container-id-1 input.sk-hidden--visually {border: 0;clip: rect(1px 1px 1px 1px);clip: rect(1px, 1px, 1px, 1px);height: 1px;margin: -1px;overflow: hidden;padding: 0;position: absolute;width: 1px;}#sk-container-id-1 div.sk-estimator {font-family: monospace;background-color: #f0f8ff;border: 1px dotted black;border-radius: 0.25em;box-sizing: border-box;margin-bottom: 0.5em;}#sk-container-id-1 div.sk-estimator:hover {background-color: #d4ebff;}#sk-container-id-1 div.sk-parallel-item::after {content: \"\";width: 100%;border-bottom: 1px solid gray;flex-grow: 1;}#sk-container-id-1 div.sk-label:hover label.sk-toggleable__label {background-color: #d4ebff;}#sk-container-id-1 div.sk-serial::before {content: \"\";position: absolute;border-left: 1px solid gray;box-sizing: border-box;top: 0;bottom: 0;left: 50%;z-index: 0;}#sk-container-id-1 div.sk-serial {display: flex;flex-direction: column;align-items: center;background-color: white;padding-right: 0.2em;padding-left: 0.2em;position: relative;}#sk-container-id-1 div.sk-item {position: relative;z-index: 1;}#sk-container-id-1 div.sk-parallel {display: flex;align-items: stretch;justify-content: center;background-color: white;position: relative;}#sk-container-id-1 div.sk-item::before, #sk-container-id-1 div.sk-parallel-item::before {content: \"\";position: absolute;border-left: 1px solid gray;box-sizing: border-box;top: 0;bottom: 0;left: 50%;z-index: -1;}#sk-container-id-1 div.sk-parallel-item {display: flex;flex-direction: column;z-index: 1;position: relative;background-color: white;}#sk-container-id-1 div.sk-parallel-item:first-child::after {align-self: flex-end;width: 50%;}#sk-container-id-1 div.sk-parallel-item:last-child::after {align-self: flex-start;width: 50%;}#sk-container-id-1 div.sk-parallel-item:only-child::after {width: 0;}#sk-container-id-1 div.sk-dashed-wrapped {border: 1px dashed gray;margin: 0 0.4em 0.5em 0.4em;box-sizing: border-box;padding-bottom: 0.4em;background-color: white;}#sk-container-id-1 div.sk-label label {font-family: monospace;font-weight: bold;display: inline-block;line-height: 1.2em;}#sk-container-id-1 div.sk-label-container {text-align: center;}#sk-container-id-1 div.sk-container {/* jupyter's `normalize.less` sets `[hidden] { display: none; }` but bootstrap.min.css set `[hidden] { display: none !important; }` so we also need the `!important` here to be able to override the default hidden behavior on the sphinx rendered scikit-learn.org. See: https://github.com/scikit-learn/scikit-learn/issues/21755 */display: inline-block !important;position: relative;}#sk-container-id-1 div.sk-text-repr-fallback {display: none;}</style><div id=\"sk-container-id-1\" class=\"sk-top-container\"><div class=\"sk-text-repr-fallback\"><pre>Pipeline(steps=[(&#x27;scale&#x27;, None),\n",
       "                (&#x27;model&#x27;,\n",
       "                 LogisticRegression(l1_ratio=0.5, penalty=&#x27;elasticnet&#x27;,\n",
       "                                    solver=&#x27;saga&#x27;))])</pre><b>In a Jupyter environment, please rerun this cell to show the HTML representation or trust the notebook. <br />On GitHub, the HTML representation is unable to render, please try loading this page with nbviewer.org.</b></div><div class=\"sk-container\" hidden><div class=\"sk-item sk-dashed-wrapped\"><div class=\"sk-label-container\"><div class=\"sk-label sk-toggleable\"><input class=\"sk-toggleable__control sk-hidden--visually\" id=\"sk-estimator-id-1\" type=\"checkbox\" ><label for=\"sk-estimator-id-1\" class=\"sk-toggleable__label sk-toggleable__label-arrow\">Pipeline</label><div class=\"sk-toggleable__content\"><pre>Pipeline(steps=[(&#x27;scale&#x27;, None),\n",
       "                (&#x27;model&#x27;,\n",
       "                 LogisticRegression(l1_ratio=0.5, penalty=&#x27;elasticnet&#x27;,\n",
       "                                    solver=&#x27;saga&#x27;))])</pre></div></div></div><div class=\"sk-serial\"><div class=\"sk-item\"><div class=\"sk-estimator sk-toggleable\"><input class=\"sk-toggleable__control sk-hidden--visually\" id=\"sk-estimator-id-2\" type=\"checkbox\" ><label for=\"sk-estimator-id-2\" class=\"sk-toggleable__label sk-toggleable__label-arrow\">None</label><div class=\"sk-toggleable__content\"><pre>None</pre></div></div></div><div class=\"sk-item\"><div class=\"sk-estimator sk-toggleable\"><input class=\"sk-toggleable__control sk-hidden--visually\" id=\"sk-estimator-id-3\" type=\"checkbox\" ><label for=\"sk-estimator-id-3\" class=\"sk-toggleable__label sk-toggleable__label-arrow\">LogisticRegression</label><div class=\"sk-toggleable__content\"><pre>LogisticRegression(l1_ratio=0.5, penalty=&#x27;elasticnet&#x27;, solver=&#x27;saga&#x27;)</pre></div></div></div></div></div></div></div>"
      ],
      "text/plain": [
       "Pipeline(steps=[('scale', None),\n",
       "                ('model',\n",
       "                 LogisticRegression(l1_ratio=0.5, penalty='elasticnet',\n",
       "                                    solver='saga'))])"
      ]
     },
     "execution_count": 34,
     "metadata": {},
     "output_type": "execute_result"
    }
   ],
   "source": [
    "model.fit(X_train, y_train.values.ravel())"
   ]
  },
  {
   "cell_type": "code",
   "execution_count": 35,
   "id": "6e15e313",
   "metadata": {
    "execution": {
     "iopub.execute_input": "2025-08-19T18:56:37.093985Z",
     "iopub.status.busy": "2025-08-19T18:56:37.093241Z",
     "iopub.status.idle": "2025-08-19T18:56:37.194734Z",
     "shell.execute_reply": "2025-08-19T18:56:37.194120Z"
    },
    "papermill": {
     "duration": 0.115399,
     "end_time": "2025-08-19T18:56:37.195943",
     "exception": false,
     "start_time": "2025-08-19T18:56:37.080544",
     "status": "completed"
    },
    "tags": []
   },
   "outputs": [
    {
     "data": {
      "text/plain": [
       "0.8544755322706499"
      ]
     },
     "execution_count": 35,
     "metadata": {},
     "output_type": "execute_result"
    }
   ],
   "source": [
    "from fairness_multiverse.universe import predict_w_threshold\n",
    "\n",
    "probs_test = model.predict_proba(X_test)\n",
    "\n",
    "'''\n",
    "Below code returns a boolean array (or binary 0/1 array depending on how it’s used) where each element \n",
    "is True if the probability of class 1 is greater than or equal to the threshold, and False otherwise.\n",
    "'''\n",
    "y_pred_default = predict_w_threshold(probs_test, 0.5)\n",
    "\n",
    "from sklearn.metrics import accuracy_score\n",
    "\n",
    "# Naive prediction\n",
    "accuracy_score(y_true = y_true, y_pred = y_pred_default)"
   ]
  },
  {
   "cell_type": "code",
   "execution_count": 36,
   "id": "6f14067c",
   "metadata": {
    "execution": {
     "iopub.execute_input": "2025-08-19T18:56:37.222361Z",
     "iopub.status.busy": "2025-08-19T18:56:37.221966Z",
     "iopub.status.idle": "2025-08-19T18:56:37.313018Z",
     "shell.execute_reply": "2025-08-19T18:56:37.311990Z"
    },
    "papermill": {
     "duration": 0.105904,
     "end_time": "2025-08-19T18:56:37.314351",
     "exception": false,
     "start_time": "2025-08-19T18:56:37.208447",
     "status": "completed"
    },
    "tags": []
   },
   "outputs": [
    {
     "data": {
      "text/plain": [
       "array([0, 0, 0, ..., 0, 0, 0])"
      ]
     },
     "execution_count": 36,
     "metadata": {},
     "output_type": "execute_result"
    }
   ],
   "source": [
    "model.predict(X_test)"
   ]
  },
  {
   "cell_type": "markdown",
   "id": "3759920c",
   "metadata": {
    "papermill": {
     "duration": 0.011391,
     "end_time": "2025-08-19T18:56:37.337611",
     "exception": false,
     "start_time": "2025-08-19T18:56:37.326220",
     "status": "completed"
    },
    "tags": []
   },
   "source": [
    "# Conformal Prediction"
   ]
  },
  {
   "cell_type": "code",
   "execution_count": 37,
   "id": "14b27f59",
   "metadata": {
    "execution": {
     "iopub.execute_input": "2025-08-19T18:56:37.363259Z",
     "iopub.status.busy": "2025-08-19T18:56:37.362423Z",
     "iopub.status.idle": "2025-08-19T18:56:37.372352Z",
     "shell.execute_reply": "2025-08-19T18:56:37.370612Z"
    },
    "papermill": {
     "duration": 0.025112,
     "end_time": "2025-08-19T18:56:37.373924",
     "exception": false,
     "start_time": "2025-08-19T18:56:37.348812",
     "status": "completed"
    },
    "tags": []
   },
   "outputs": [],
   "source": [
    "# Miscoverage level for conformal prediction (10% allowed error rate => 90% target coverage)\n",
    "alpha = 0.1"
   ]
  },
  {
   "cell_type": "code",
   "execution_count": 38,
   "id": "59102472",
   "metadata": {
    "execution": {
     "iopub.execute_input": "2025-08-19T18:56:37.403624Z",
     "iopub.status.busy": "2025-08-19T18:56:37.402573Z",
     "iopub.status.idle": "2025-08-19T18:56:37.500248Z",
     "shell.execute_reply": "2025-08-19T18:56:37.499430Z"
    },
    "papermill": {
     "duration": 0.113648,
     "end_time": "2025-08-19T18:56:37.503107",
     "exception": false,
     "start_time": "2025-08-19T18:56:37.389459",
     "status": "completed"
    },
    "tags": []
   },
   "outputs": [],
   "source": [
    "probs_calib = model.predict_proba(X_calib)"
   ]
  },
  {
   "cell_type": "code",
   "execution_count": 39,
   "id": "a792d4dd",
   "metadata": {
    "execution": {
     "iopub.execute_input": "2025-08-19T18:56:37.545858Z",
     "iopub.status.busy": "2025-08-19T18:56:37.544588Z",
     "iopub.status.idle": "2025-08-19T18:56:37.555538Z",
     "shell.execute_reply": "2025-08-19T18:56:37.554318Z"
    },
    "papermill": {
     "duration": 0.027444,
     "end_time": "2025-08-19T18:56:37.557083",
     "exception": false,
     "start_time": "2025-08-19T18:56:37.529639",
     "status": "completed"
    },
    "tags": []
   },
   "outputs": [],
   "source": [
    "y_calib = y_calib.values.ravel().astype(int)"
   ]
  },
  {
   "cell_type": "code",
   "execution_count": 40,
   "id": "650fd033",
   "metadata": {
    "execution": {
     "iopub.execute_input": "2025-08-19T18:56:37.586365Z",
     "iopub.status.busy": "2025-08-19T18:56:37.585327Z",
     "iopub.status.idle": "2025-08-19T18:56:37.598454Z",
     "shell.execute_reply": "2025-08-19T18:56:37.597242Z"
    },
    "papermill": {
     "duration": 0.028266,
     "end_time": "2025-08-19T18:56:37.600277",
     "exception": false,
     "start_time": "2025-08-19T18:56:37.572011",
     "status": "completed"
    },
    "tags": []
   },
   "outputs": [],
   "source": [
    "from fairness_multiverse.conformal import compute_nc_scores\n",
    "\n",
    "# Compute nonconformity scores on calibration set (1 - probability of true class)\n",
    "nc_scores = compute_nc_scores(probs_calib, y_calib)"
   ]
  },
  {
   "cell_type": "code",
   "execution_count": 41,
   "id": "28ada44c",
   "metadata": {
    "execution": {
     "iopub.execute_input": "2025-08-19T18:56:37.629302Z",
     "iopub.status.busy": "2025-08-19T18:56:37.628219Z",
     "iopub.status.idle": "2025-08-19T18:56:37.640019Z",
     "shell.execute_reply": "2025-08-19T18:56:37.638378Z"
    },
    "papermill": {
     "duration": 0.027504,
     "end_time": "2025-08-19T18:56:37.642256",
     "exception": false,
     "start_time": "2025-08-19T18:56:37.614752",
     "status": "completed"
    },
    "tags": []
   },
   "outputs": [],
   "source": [
    "from fairness_multiverse.conformal import find_threshold\n",
    "\n",
    "# Find conformal threshold q_hat for the given alpha (split conformal method)\n",
    "q_hat = find_threshold(nc_scores, alpha)"
   ]
  },
  {
   "cell_type": "code",
   "execution_count": 42,
   "id": "df56469e",
   "metadata": {
    "execution": {
     "iopub.execute_input": "2025-08-19T18:56:37.672618Z",
     "iopub.status.busy": "2025-08-19T18:56:37.670962Z",
     "iopub.status.idle": "2025-08-19T18:56:37.683684Z",
     "shell.execute_reply": "2025-08-19T18:56:37.681949Z"
    },
    "papermill": {
     "duration": 0.028457,
     "end_time": "2025-08-19T18:56:37.685660",
     "exception": false,
     "start_time": "2025-08-19T18:56:37.657203",
     "status": "completed"
    },
    "tags": []
   },
   "outputs": [
    {
     "data": {
      "text/plain": [
       "0.6339336340875108"
      ]
     },
     "execution_count": 42,
     "metadata": {},
     "output_type": "execute_result"
    }
   ],
   "source": [
    "q_hat"
   ]
  },
  {
   "cell_type": "code",
   "execution_count": 43,
   "id": "aa1f5faa",
   "metadata": {
    "execution": {
     "iopub.execute_input": "2025-08-19T18:56:37.717142Z",
     "iopub.status.busy": "2025-08-19T18:56:37.716091Z",
     "iopub.status.idle": "2025-08-19T18:56:38.244809Z",
     "shell.execute_reply": "2025-08-19T18:56:38.243622Z"
    },
    "papermill": {
     "duration": 0.543907,
     "end_time": "2025-08-19T18:56:38.246393",
     "exception": false,
     "start_time": "2025-08-19T18:56:37.702486",
     "status": "completed"
    },
    "tags": []
   },
   "outputs": [],
   "source": [
    "from fairness_multiverse.conformal import predict_conformal_sets\n",
    "\n",
    "# Generate prediction sets for each test example\n",
    "pred_sets = predict_conformal_sets(model, X_test, q_hat)"
   ]
  },
  {
   "cell_type": "code",
   "execution_count": 44,
   "id": "97f67a6b",
   "metadata": {
    "execution": {
     "iopub.execute_input": "2025-08-19T18:56:38.295207Z",
     "iopub.status.busy": "2025-08-19T18:56:38.293914Z",
     "iopub.status.idle": "2025-08-19T18:56:38.305947Z",
     "shell.execute_reply": "2025-08-19T18:56:38.304567Z"
    },
    "papermill": {
     "duration": 0.04234,
     "end_time": "2025-08-19T18:56:38.307933",
     "exception": false,
     "start_time": "2025-08-19T18:56:38.265593",
     "status": "completed"
    },
    "tags": []
   },
   "outputs": [],
   "source": [
    "y_true = y_true.squeeze()"
   ]
  },
  {
   "cell_type": "code",
   "execution_count": 45,
   "id": "e700e9a7",
   "metadata": {
    "execution": {
     "iopub.execute_input": "2025-08-19T18:56:38.341557Z",
     "iopub.status.busy": "2025-08-19T18:56:38.340516Z",
     "iopub.status.idle": "2025-08-19T18:56:38.873892Z",
     "shell.execute_reply": "2025-08-19T18:56:38.872665Z"
    },
    "papermill": {
     "duration": 0.548459,
     "end_time": "2025-08-19T18:56:38.875335",
     "exception": false,
     "start_time": "2025-08-19T18:56:38.326876",
     "status": "completed"
    },
    "tags": []
   },
   "outputs": [],
   "source": [
    "from fairness_multiverse.conformal import evaluate_sets\n",
    "\n",
    "# Evaluate coverage and average set size on test data\n",
    "metrics = evaluate_sets(pred_sets, y_true)"
   ]
  },
  {
   "cell_type": "markdown",
   "id": "efbacec0",
   "metadata": {
    "papermill": {
     "duration": 0.022643,
     "end_time": "2025-08-19T18:56:38.927498",
     "exception": false,
     "start_time": "2025-08-19T18:56:38.904855",
     "status": "completed"
    },
    "tags": []
   },
   "source": [
    "# CP Metrics"
   ]
  },
  {
   "cell_type": "code",
   "execution_count": 46,
   "id": "9de55fb1",
   "metadata": {
    "execution": {
     "iopub.execute_input": "2025-08-19T18:56:38.961002Z",
     "iopub.status.busy": "2025-08-19T18:56:38.960492Z",
     "iopub.status.idle": "2025-08-19T18:56:38.967885Z",
     "shell.execute_reply": "2025-08-19T18:56:38.967225Z"
    },
    "papermill": {
     "duration": 0.023996,
     "end_time": "2025-08-19T18:56:38.969015",
     "exception": false,
     "start_time": "2025-08-19T18:56:38.945019",
     "status": "completed"
    },
    "tags": []
   },
   "outputs": [
    {
     "data": {
      "text/plain": [
       "{'coverage': 0.9119496154274885, 'avg_size': 1.281540519451566}"
      ]
     },
     "execution_count": 46,
     "metadata": {},
     "output_type": "execute_result"
    }
   ],
   "source": [
    "metrics"
   ]
  },
  {
   "cell_type": "code",
   "execution_count": 47,
   "id": "64c340a1",
   "metadata": {
    "execution": {
     "iopub.execute_input": "2025-08-19T18:56:38.997089Z",
     "iopub.status.busy": "2025-08-19T18:56:38.996695Z",
     "iopub.status.idle": "2025-08-19T18:56:39.001856Z",
     "shell.execute_reply": "2025-08-19T18:56:39.001237Z"
    },
    "papermill": {
     "duration": 0.019954,
     "end_time": "2025-08-19T18:56:39.003045",
     "exception": false,
     "start_time": "2025-08-19T18:56:38.983091",
     "status": "completed"
    },
    "tags": []
   },
   "outputs": [],
   "source": [
    "example_universe = universe.copy()\n",
    "universe_training_year = example_universe.get(\"training_year\")\n",
    "universe_training_size = example_universe.get(\"training_size\")\n",
    "universe_scale = example_universe.get(\"scale\")\n",
    "universe_model = example_universe.get(\"model\")\n",
    "universe_exclude_features = example_universe.get(\"exclude_features\")\n",
    "universe_exclude_subgroups = example_universe.get(\"exclude_subgroups\")"
   ]
  },
  {
   "cell_type": "code",
   "execution_count": 48,
   "id": "dbb53cb4",
   "metadata": {
    "execution": {
     "iopub.execute_input": "2025-08-19T18:56:39.029249Z",
     "iopub.status.busy": "2025-08-19T18:56:39.028853Z",
     "iopub.status.idle": "2025-08-19T18:56:39.195863Z",
     "shell.execute_reply": "2025-08-19T18:56:39.195145Z"
    },
    "papermill": {
     "duration": 0.18359,
     "end_time": "2025-08-19T18:56:39.198983",
     "exception": false,
     "start_time": "2025-08-19T18:56:39.015393",
     "status": "completed"
    },
    "tags": []
   },
   "outputs": [],
   "source": [
    "cp_metrics_dict = {\n",
    "    \"universe_id\": [universe_id],\n",
    "    \"universe_training_year\": [universe_training_year],\n",
    "    \"universe_training_size\": [universe_training_size],\n",
    "    \"universe_scale\": [universe_scale],\n",
    "    \"universe_model\": [universe_model],\n",
    "    \"universe_exclude_features\": [universe_exclude_features],\n",
    "    \"universe_exclude_subgroups\": [universe_exclude_subgroups],\n",
    "    \"q_hat\": [q_hat],\n",
    "    \"coverage\": [metrics[\"coverage\"]],\n",
    "    \"avg_size\": [metrics[\"avg_size\"]],\n",
    "}"
   ]
  },
  {
   "cell_type": "code",
   "execution_count": 49,
   "id": "0d70d4b2",
   "metadata": {
    "execution": {
     "iopub.execute_input": "2025-08-19T18:56:39.233289Z",
     "iopub.status.busy": "2025-08-19T18:56:39.232886Z",
     "iopub.status.idle": "2025-08-19T18:56:39.238679Z",
     "shell.execute_reply": "2025-08-19T18:56:39.238078Z"
    },
    "papermill": {
     "duration": 0.020669,
     "end_time": "2025-08-19T18:56:39.240381",
     "exception": false,
     "start_time": "2025-08-19T18:56:39.219712",
     "status": "completed"
    },
    "tags": []
   },
   "outputs": [],
   "source": [
    "cp_metrics_df = pd.DataFrame(cp_metrics_dict)"
   ]
  },
  {
   "cell_type": "code",
   "execution_count": 50,
   "id": "b494403c",
   "metadata": {
    "execution": {
     "iopub.execute_input": "2025-08-19T18:56:39.267321Z",
     "iopub.status.busy": "2025-08-19T18:56:39.266922Z",
     "iopub.status.idle": "2025-08-19T18:56:39.279895Z",
     "shell.execute_reply": "2025-08-19T18:56:39.279229Z"
    },
    "papermill": {
     "duration": 0.038131,
     "end_time": "2025-08-19T18:56:39.290809",
     "exception": false,
     "start_time": "2025-08-19T18:56:39.252678",
     "status": "completed"
    },
    "tags": []
   },
   "outputs": [
    {
     "data": {
      "text/html": [
       "<div>\n",
       "<style scoped>\n",
       "    .dataframe tbody tr th:only-of-type {\n",
       "        vertical-align: middle;\n",
       "    }\n",
       "\n",
       "    .dataframe tbody tr th {\n",
       "        vertical-align: top;\n",
       "    }\n",
       "\n",
       "    .dataframe thead th {\n",
       "        text-align: right;\n",
       "    }\n",
       "</style>\n",
       "<table border=\"1\" class=\"dataframe\">\n",
       "  <thead>\n",
       "    <tr style=\"text-align: right;\">\n",
       "      <th></th>\n",
       "      <th>universe_id</th>\n",
       "      <th>universe_training_year</th>\n",
       "      <th>universe_training_size</th>\n",
       "      <th>universe_scale</th>\n",
       "      <th>universe_model</th>\n",
       "      <th>universe_exclude_features</th>\n",
       "      <th>universe_exclude_subgroups</th>\n",
       "      <th>q_hat</th>\n",
       "      <th>coverage</th>\n",
       "      <th>avg_size</th>\n",
       "    </tr>\n",
       "  </thead>\n",
       "  <tbody>\n",
       "    <tr>\n",
       "      <th>0</th>\n",
       "      <td>b3024549e48c94277f35a7f3f5508409</td>\n",
       "      <td>2014</td>\n",
       "      <td>1k</td>\n",
       "      <td>do-not-scale</td>\n",
       "      <td>elasticnet</td>\n",
       "      <td>age</td>\n",
       "      <td>keep-all</td>\n",
       "      <td>0.633934</td>\n",
       "      <td>0.91195</td>\n",
       "      <td>1.281541</td>\n",
       "    </tr>\n",
       "  </tbody>\n",
       "</table>\n",
       "</div>"
      ],
      "text/plain": [
       "                        universe_id universe_training_year  \\\n",
       "0  b3024549e48c94277f35a7f3f5508409                   2014   \n",
       "\n",
       "  universe_training_size universe_scale universe_model  \\\n",
       "0                     1k   do-not-scale     elasticnet   \n",
       "\n",
       "  universe_exclude_features universe_exclude_subgroups     q_hat  coverage  \\\n",
       "0                       age                   keep-all  0.633934   0.91195   \n",
       "\n",
       "   avg_size  \n",
       "0  1.281541  "
      ]
     },
     "execution_count": 50,
     "metadata": {},
     "output_type": "execute_result"
    }
   ],
   "source": [
    "cp_metrics_df"
   ]
  },
  {
   "cell_type": "markdown",
   "id": "ed608b0b",
   "metadata": {
    "papermill": {
     "duration": 0.012756,
     "end_time": "2025-08-19T18:56:39.319100",
     "exception": false,
     "start_time": "2025-08-19T18:56:39.306344",
     "status": "completed"
    },
    "tags": []
   },
   "source": [
    "Conditional coverage & looking at subgroups"
   ]
  },
  {
   "cell_type": "code",
   "execution_count": 51,
   "id": "8968c366",
   "metadata": {
    "execution": {
     "iopub.execute_input": "2025-08-19T18:56:39.346004Z",
     "iopub.status.busy": "2025-08-19T18:56:39.345596Z",
     "iopub.status.idle": "2025-08-19T18:56:39.618684Z",
     "shell.execute_reply": "2025-08-19T18:56:39.617980Z"
    },
    "papermill": {
     "duration": 0.289523,
     "end_time": "2025-08-19T18:56:39.621208",
     "exception": false,
     "start_time": "2025-08-19T18:56:39.331685",
     "status": "completed"
    },
    "tags": []
   },
   "outputs": [],
   "source": [
    "from fairness_multiverse.conformal import build_cp_groups\n",
    "\n",
    "cp_groups_df = build_cp_groups(pred_sets, y_true, X_test.index, org_test)"
   ]
  },
  {
   "cell_type": "code",
   "execution_count": 52,
   "id": "292ddabf",
   "metadata": {
    "execution": {
     "iopub.execute_input": "2025-08-19T18:56:39.648403Z",
     "iopub.status.busy": "2025-08-19T18:56:39.648006Z",
     "iopub.status.idle": "2025-08-19T18:56:40.571360Z",
     "shell.execute_reply": "2025-08-19T18:56:40.570169Z"
    },
    "papermill": {
     "duration": 0.940129,
     "end_time": "2025-08-19T18:56:40.574482",
     "exception": false,
     "start_time": "2025-08-19T18:56:39.634353",
     "status": "completed"
    },
    "tags": []
   },
   "outputs": [],
   "source": [
    "# Define covered = 1 if true_label is in the predicted set\n",
    "cp_groups_df['covered'] = cp_groups_df.apply(\n",
    "    lambda r: int(r['true_label'] in r['pred_set']),\n",
    "    axis=1\n",
    ")"
   ]
  },
  {
   "cell_type": "code",
   "execution_count": 53,
   "id": "3a261692",
   "metadata": {
    "execution": {
     "iopub.execute_input": "2025-08-19T18:56:40.639676Z",
     "iopub.status.busy": "2025-08-19T18:56:40.639223Z",
     "iopub.status.idle": "2025-08-19T18:56:40.651301Z",
     "shell.execute_reply": "2025-08-19T18:56:40.650626Z"
    },
    "papermill": {
     "duration": 0.033579,
     "end_time": "2025-08-19T18:56:40.653384",
     "exception": false,
     "start_time": "2025-08-19T18:56:40.619805",
     "status": "completed"
    },
    "tags": []
   },
   "outputs": [],
   "source": [
    "subgroups = ['frau1','nongerman','nongerman_male','nongerman_female']\n",
    "\n",
    "# Conditional coverage for subgroup==1\n",
    "cond_coverage = {\n",
    "    g: cp_groups_df.loc[cp_groups_df[g]==1, 'covered'].mean()\n",
    "    for g in subgroups\n",
    "}"
   ]
  },
  {
   "cell_type": "code",
   "execution_count": 54,
   "id": "894fd600",
   "metadata": {
    "execution": {
     "iopub.execute_input": "2025-08-19T18:56:40.692529Z",
     "iopub.status.busy": "2025-08-19T18:56:40.692025Z",
     "iopub.status.idle": "2025-08-19T18:56:40.699088Z",
     "shell.execute_reply": "2025-08-19T18:56:40.698479Z"
    },
    "papermill": {
     "duration": 0.029871,
     "end_time": "2025-08-19T18:56:40.700384",
     "exception": false,
     "start_time": "2025-08-19T18:56:40.670513",
     "status": "completed"
    },
    "tags": []
   },
   "outputs": [
    {
     "data": {
      "text/plain": [
       "{'frau1': 0.9095565440086265,\n",
       " 'nongerman': 0.9650816819177006,\n",
       " 'nongerman_male': 0.9728902098531929,\n",
       " 'nongerman_female': 0.9521609538002981}"
      ]
     },
     "execution_count": 54,
     "metadata": {},
     "output_type": "execute_result"
    }
   ],
   "source": [
    "cond_coverage"
   ]
  },
  {
   "cell_type": "code",
   "execution_count": 55,
   "id": "942895c7",
   "metadata": {
    "execution": {
     "iopub.execute_input": "2025-08-19T18:56:40.736646Z",
     "iopub.status.busy": "2025-08-19T18:56:40.735210Z",
     "iopub.status.idle": "2025-08-19T18:56:40.747775Z",
     "shell.execute_reply": "2025-08-19T18:56:40.746156Z"
    },
    "papermill": {
     "duration": 0.029828,
     "end_time": "2025-08-19T18:56:40.749602",
     "exception": false,
     "start_time": "2025-08-19T18:56:40.719774",
     "status": "completed"
    },
    "tags": []
   },
   "outputs": [],
   "source": [
    "for subgroup, cov in cond_coverage.items():\n",
    "    cp_metrics_df[f\"cov_{subgroup}\"] = cov"
   ]
  },
  {
   "cell_type": "code",
   "execution_count": 56,
   "id": "3970120f",
   "metadata": {
    "execution": {
     "iopub.execute_input": "2025-08-19T18:56:40.790014Z",
     "iopub.status.busy": "2025-08-19T18:56:40.789700Z",
     "iopub.status.idle": "2025-08-19T18:56:40.804095Z",
     "shell.execute_reply": "2025-08-19T18:56:40.803395Z"
    },
    "papermill": {
     "duration": 0.032078,
     "end_time": "2025-08-19T18:56:40.806967",
     "exception": false,
     "start_time": "2025-08-19T18:56:40.774889",
     "status": "completed"
    },
    "tags": []
   },
   "outputs": [
    {
     "data": {
      "text/html": [
       "<div>\n",
       "<style scoped>\n",
       "    .dataframe tbody tr th:only-of-type {\n",
       "        vertical-align: middle;\n",
       "    }\n",
       "\n",
       "    .dataframe tbody tr th {\n",
       "        vertical-align: top;\n",
       "    }\n",
       "\n",
       "    .dataframe thead th {\n",
       "        text-align: right;\n",
       "    }\n",
       "</style>\n",
       "<table border=\"1\" class=\"dataframe\">\n",
       "  <thead>\n",
       "    <tr style=\"text-align: right;\">\n",
       "      <th></th>\n",
       "      <th>universe_id</th>\n",
       "      <th>universe_training_year</th>\n",
       "      <th>universe_training_size</th>\n",
       "      <th>universe_scale</th>\n",
       "      <th>universe_model</th>\n",
       "      <th>universe_exclude_features</th>\n",
       "      <th>universe_exclude_subgroups</th>\n",
       "      <th>q_hat</th>\n",
       "      <th>coverage</th>\n",
       "      <th>avg_size</th>\n",
       "      <th>cov_frau1</th>\n",
       "      <th>cov_nongerman</th>\n",
       "      <th>cov_nongerman_male</th>\n",
       "      <th>cov_nongerman_female</th>\n",
       "    </tr>\n",
       "  </thead>\n",
       "  <tbody>\n",
       "    <tr>\n",
       "      <th>0</th>\n",
       "      <td>b3024549e48c94277f35a7f3f5508409</td>\n",
       "      <td>2014</td>\n",
       "      <td>1k</td>\n",
       "      <td>do-not-scale</td>\n",
       "      <td>elasticnet</td>\n",
       "      <td>age</td>\n",
       "      <td>keep-all</td>\n",
       "      <td>0.633934</td>\n",
       "      <td>0.91195</td>\n",
       "      <td>1.281541</td>\n",
       "      <td>0.909557</td>\n",
       "      <td>0.965082</td>\n",
       "      <td>0.97289</td>\n",
       "      <td>0.952161</td>\n",
       "    </tr>\n",
       "  </tbody>\n",
       "</table>\n",
       "</div>"
      ],
      "text/plain": [
       "                        universe_id universe_training_year  \\\n",
       "0  b3024549e48c94277f35a7f3f5508409                   2014   \n",
       "\n",
       "  universe_training_size universe_scale universe_model  \\\n",
       "0                     1k   do-not-scale     elasticnet   \n",
       "\n",
       "  universe_exclude_features universe_exclude_subgroups     q_hat  coverage  \\\n",
       "0                       age                   keep-all  0.633934   0.91195   \n",
       "\n",
       "   avg_size  cov_frau1  cov_nongerman  cov_nongerman_male  \\\n",
       "0  1.281541   0.909557       0.965082             0.97289   \n",
       "\n",
       "   cov_nongerman_female  \n",
       "0              0.952161  "
      ]
     },
     "execution_count": 56,
     "metadata": {},
     "output_type": "execute_result"
    }
   ],
   "source": [
    "cp_metrics_df"
   ]
  },
  {
   "cell_type": "markdown",
   "id": "3fc519cc",
   "metadata": {
    "papermill": {
     "duration": 0.013393,
     "end_time": "2025-08-19T18:56:40.846569",
     "exception": false,
     "start_time": "2025-08-19T18:56:40.833176",
     "status": "completed"
    },
    "tags": []
   },
   "source": [
    "# (Fairness) Metrics"
   ]
  },
  {
   "cell_type": "code",
   "execution_count": 57,
   "id": "a2e5e155",
   "metadata": {
    "execution": {
     "iopub.execute_input": "2025-08-19T18:56:40.876282Z",
     "iopub.status.busy": "2025-08-19T18:56:40.874942Z",
     "iopub.status.idle": "2025-08-19T18:56:40.904448Z",
     "shell.execute_reply": "2025-08-19T18:56:40.903624Z"
    },
    "papermill": {
     "duration": 0.045798,
     "end_time": "2025-08-19T18:56:40.905836",
     "exception": false,
     "start_time": "2025-08-19T18:56:40.860038",
     "status": "completed"
    },
    "tags": []
   },
   "outputs": [],
   "source": [
    "colname_to_bin = \"maxdeutsch1\"\n",
    "majority_value = org_train[colname_to_bin].mode()[0]\n",
    "\n",
    "org_test[\"majmin\"] = np.where(org_test[colname_to_bin] == majority_value, \"majority\", \"minority\")"
   ]
  },
  {
   "cell_type": "code",
   "execution_count": 58,
   "id": "17e3e4d5",
   "metadata": {
    "execution": {
     "iopub.execute_input": "2025-08-19T18:56:40.933206Z",
     "iopub.status.busy": "2025-08-19T18:56:40.932816Z",
     "iopub.status.idle": "2025-08-19T18:56:42.659146Z",
     "shell.execute_reply": "2025-08-19T18:56:42.657964Z"
    },
    "papermill": {
     "duration": 1.743158,
     "end_time": "2025-08-19T18:56:42.661942",
     "exception": false,
     "start_time": "2025-08-19T18:56:40.918784",
     "status": "completed"
    },
    "tags": []
   },
   "outputs": [],
   "source": [
    "example_universe = universe.copy()\n",
    "example_universe[\"cutoff\"] = example_universe[\"cutoff\"][0]\n",
    "example_universe[\"eval_fairness_grouping\"] = example_universe[\"eval_fairness_grouping\"][0]\n",
    "fairness_dict, metric_frame = universe_analysis.compute_metrics(\n",
    "    example_universe,\n",
    "    y_pred_prob=probs_test,\n",
    "    y_test=y_true,\n",
    "    org_test=org_test,\n",
    ")"
   ]
  },
  {
   "cell_type": "markdown",
   "id": "1fb7a0e9",
   "metadata": {
    "papermill": {
     "duration": 0.021047,
     "end_time": "2025-08-19T18:56:42.723954",
     "exception": false,
     "start_time": "2025-08-19T18:56:42.702907",
     "status": "completed"
    },
    "tags": []
   },
   "source": [
    "# Overall"
   ]
  },
  {
   "cell_type": "markdown",
   "id": "be1784b1",
   "metadata": {
    "papermill": {
     "duration": 0.012389,
     "end_time": "2025-08-19T18:56:42.749352",
     "exception": false,
     "start_time": "2025-08-19T18:56:42.736963",
     "status": "completed"
    },
    "tags": []
   },
   "source": [
    "Main fairness target: Equalized Odds. Seems to be a better fit than equal opportunity, since we're not only interested in Y = 1. Seems to be a better fit than demographic parity, since we also care about accuracy, not just equal distribution of preds.\n",
    "\n",
    "Pick column for computation of fairness metrics\n",
    "\n",
    "Performance\n",
    "Overall performance measures, most interesting in relation to the measures split by group below"
   ]
  },
  {
   "cell_type": "code",
   "execution_count": 59,
   "id": "b7672bee",
   "metadata": {
    "execution": {
     "iopub.execute_input": "2025-08-19T18:56:42.778385Z",
     "iopub.status.busy": "2025-08-19T18:56:42.777145Z",
     "iopub.status.idle": "2025-08-19T18:56:42.794084Z",
     "shell.execute_reply": "2025-08-19T18:56:42.792973Z"
    },
    "papermill": {
     "duration": 0.034272,
     "end_time": "2025-08-19T18:56:42.795947",
     "exception": false,
     "start_time": "2025-08-19T18:56:42.761675",
     "status": "completed"
    },
    "tags": []
   },
   "outputs": [
    {
     "data": {
      "text/plain": [
       "accuracy                   0.212741\n",
       "balanced accuracy          0.522618\n",
       "f1                         0.234392\n",
       "precision                  0.133901\n",
       "false positive rate        0.894197\n",
       "false negative rate        0.060567\n",
       "selection rate             0.900000\n",
       "count                  89710.000000\n",
       "dtype: float64"
      ]
     },
     "execution_count": 59,
     "metadata": {},
     "output_type": "execute_result"
    }
   ],
   "source": [
    "metric_frame.overall"
   ]
  },
  {
   "cell_type": "markdown",
   "id": "d93333c9",
   "metadata": {
    "papermill": {
     "duration": 0.012665,
     "end_time": "2025-08-19T18:56:42.828321",
     "exception": false,
     "start_time": "2025-08-19T18:56:42.815656",
     "status": "completed"
    },
    "tags": []
   },
   "source": [
    "By Group"
   ]
  },
  {
   "cell_type": "code",
   "execution_count": 60,
   "id": "52256966",
   "metadata": {
    "execution": {
     "iopub.execute_input": "2025-08-19T18:56:42.856055Z",
     "iopub.status.busy": "2025-08-19T18:56:42.854789Z",
     "iopub.status.idle": "2025-08-19T18:56:42.879183Z",
     "shell.execute_reply": "2025-08-19T18:56:42.878025Z"
    },
    "papermill": {
     "duration": 0.040261,
     "end_time": "2025-08-19T18:56:42.880942",
     "exception": false,
     "start_time": "2025-08-19T18:56:42.840681",
     "status": "completed"
    },
    "tags": []
   },
   "outputs": [
    {
     "data": {
      "text/html": [
       "<div>\n",
       "<style scoped>\n",
       "    .dataframe tbody tr th:only-of-type {\n",
       "        vertical-align: middle;\n",
       "    }\n",
       "\n",
       "    .dataframe tbody tr th {\n",
       "        vertical-align: top;\n",
       "    }\n",
       "\n",
       "    .dataframe thead th {\n",
       "        text-align: right;\n",
       "    }\n",
       "</style>\n",
       "<table border=\"1\" class=\"dataframe\">\n",
       "  <thead>\n",
       "    <tr style=\"text-align: right;\">\n",
       "      <th></th>\n",
       "      <th>accuracy</th>\n",
       "      <th>balanced accuracy</th>\n",
       "      <th>f1</th>\n",
       "      <th>precision</th>\n",
       "      <th>false positive rate</th>\n",
       "      <th>false negative rate</th>\n",
       "      <th>selection rate</th>\n",
       "      <th>count</th>\n",
       "    </tr>\n",
       "    <tr>\n",
       "      <th>majmin</th>\n",
       "      <th></th>\n",
       "      <th></th>\n",
       "      <th></th>\n",
       "      <th></th>\n",
       "      <th></th>\n",
       "      <th></th>\n",
       "      <th></th>\n",
       "      <th></th>\n",
       "    </tr>\n",
       "  </thead>\n",
       "  <tbody>\n",
       "    <tr>\n",
       "      <th>majority</th>\n",
       "      <td>0.233396</td>\n",
       "      <td>0.528704</td>\n",
       "      <td>0.242789</td>\n",
       "      <td>0.139617</td>\n",
       "      <td>0.872680</td>\n",
       "      <td>0.069912</td>\n",
       "      <td>0.880266</td>\n",
       "      <td>69170.0</td>\n",
       "    </tr>\n",
       "    <tr>\n",
       "      <th>minority</th>\n",
       "      <td>0.143184</td>\n",
       "      <td>0.505115</td>\n",
       "      <td>0.207930</td>\n",
       "      <td>0.116367</td>\n",
       "      <td>0.965276</td>\n",
       "      <td>0.024493</td>\n",
       "      <td>0.966456</td>\n",
       "      <td>20540.0</td>\n",
       "    </tr>\n",
       "  </tbody>\n",
       "</table>\n",
       "</div>"
      ],
      "text/plain": [
       "          accuracy  balanced accuracy        f1  precision  \\\n",
       "majmin                                                       \n",
       "majority  0.233396           0.528704  0.242789   0.139617   \n",
       "minority  0.143184           0.505115  0.207930   0.116367   \n",
       "\n",
       "          false positive rate  false negative rate  selection rate    count  \n",
       "majmin                                                                       \n",
       "majority             0.872680             0.069912        0.880266  69170.0  \n",
       "minority             0.965276             0.024493        0.966456  20540.0  "
      ]
     },
     "execution_count": 60,
     "metadata": {},
     "output_type": "execute_result"
    }
   ],
   "source": [
    "metric_frame.by_group"
   ]
  },
  {
   "cell_type": "code",
   "execution_count": 61,
   "id": "6e6c20ae",
   "metadata": {
    "execution": {
     "iopub.execute_input": "2025-08-19T18:56:42.920093Z",
     "iopub.status.busy": "2025-08-19T18:56:42.918531Z",
     "iopub.status.idle": "2025-08-19T18:56:44.849603Z",
     "shell.execute_reply": "2025-08-19T18:56:44.840967Z"
    },
    "papermill": {
     "duration": 1.947471,
     "end_time": "2025-08-19T18:56:44.851226",
     "exception": false,
     "start_time": "2025-08-19T18:56:42.903755",
     "status": "completed"
    },
    "tags": []
   },
   "outputs": [
    {
     "data": {
      "text/plain": [
       "array([[<Axes: title={'center': 'accuracy'}, xlabel='majmin'>,\n",
       "        <Axes: title={'center': 'balanced accuracy'}, xlabel='majmin'>,\n",
       "        <Axes: title={'center': 'f1'}, xlabel='majmin'>],\n",
       "       [<Axes: title={'center': 'precision'}, xlabel='majmin'>,\n",
       "        <Axes: title={'center': 'false positive rate'}, xlabel='majmin'>,\n",
       "        <Axes: title={'center': 'false negative rate'}, xlabel='majmin'>],\n",
       "       [<Axes: title={'center': 'selection rate'}, xlabel='majmin'>,\n",
       "        <Axes: title={'center': 'count'}, xlabel='majmin'>,\n",
       "        <Axes: xlabel='majmin'>]], dtype=object)"
      ]
     },
     "execution_count": 61,
     "metadata": {},
     "output_type": "execute_result"
    },
    {
     "data": {
      "image/png": "[encoded data removed]",
      "text/plain": [
       "<Figure size 1200x800 with 9 Axes>"
      ]
     },
     "metadata": {},
     "output_type": "display_data"
    }
   ],
   "source": [
    "# In a graphic\n",
    "metric_frame.by_group.plot.bar(\n",
    "    subplots=True,\n",
    "    layout=[3, 3],\n",
    "    legend=False,\n",
    "    figsize=[12, 8],\n",
    "    title=\"Show all metrics\",\n",
    ")"
   ]
  },
  {
   "cell_type": "markdown",
   "id": "b2e433ae",
   "metadata": {
    "papermill": {
     "duration": 0.01395,
     "end_time": "2025-08-19T18:56:44.885171",
     "exception": false,
     "start_time": "2025-08-19T18:56:44.871221",
     "status": "completed"
    },
    "tags": []
   },
   "source": [
    "# Final Output"
   ]
  },
  {
   "cell_type": "code",
   "execution_count": 62,
   "id": "3871301e",
   "metadata": {
    "execution": {
     "iopub.execute_input": "2025-08-19T18:56:44.942348Z",
     "iopub.status.busy": "2025-08-19T18:56:44.931715Z",
     "iopub.status.idle": "2025-08-19T18:56:44.962071Z",
     "shell.execute_reply": "2025-08-19T18:56:44.961317Z"
    },
    "papermill": {
     "duration": 0.064223,
     "end_time": "2025-08-19T18:56:44.964424",
     "exception": false,
     "start_time": "2025-08-19T18:56:44.900201",
     "status": "completed"
    },
    "tags": []
   },
   "outputs": [
    {
     "data": {
      "text/plain": [
       "4"
      ]
     },
     "execution_count": 62,
     "metadata": {},
     "output_type": "execute_result"
    }
   ],
   "source": [
    "sub_universes = universe_analysis.generate_sub_universes()\n",
    "len(sub_universes)"
   ]
  },
  {
   "cell_type": "code",
   "execution_count": 63,
   "id": "d9cfdaca",
   "metadata": {
    "execution": {
     "iopub.execute_input": "2025-08-19T18:56:45.010779Z",
     "iopub.status.busy": "2025-08-19T18:56:45.010387Z",
     "iopub.status.idle": "2025-08-19T18:56:45.015116Z",
     "shell.execute_reply": "2025-08-19T18:56:45.014478Z"
    },
    "papermill": {
     "duration": 0.021691,
     "end_time": "2025-08-19T18:56:45.016230",
     "exception": false,
     "start_time": "2025-08-19T18:56:44.994539",
     "status": "completed"
    },
    "tags": []
   },
   "outputs": [],
   "source": [
    "def filter_sub_universe_data(sub_universe, org_test):\n",
    "    # Keep all rows — no filtering\n",
    "    keep_rows_mask = np.ones(org_test.shape[0], dtype=bool)\n",
    "\n",
    "    print(f\"[INFO] Keeping all rows: {keep_rows_mask.sum()} rows retained.\")\n",
    "    return keep_rows_mask"
   ]
  },
  {
   "cell_type": "code",
   "execution_count": 64,
   "id": "2bc31ac1",
   "metadata": {
    "execution": {
     "iopub.execute_input": "2025-08-19T18:56:45.046616Z",
     "iopub.status.busy": "2025-08-19T18:56:45.046236Z",
     "iopub.status.idle": "2025-08-19T18:56:51.852719Z",
     "shell.execute_reply": "2025-08-19T18:56:51.851746Z"
    },
    "papermill": {
     "duration": 6.822632,
     "end_time": "2025-08-19T18:56:51.853887",
     "exception": false,
     "start_time": "2025-08-19T18:56:45.031255",
     "status": "completed"
    },
    "tags": []
   },
   "outputs": [
    {
     "name": "stdout",
     "output_type": "stream",
     "text": [
      "Stopping execution_time clock.\n",
      "[INFO] Keeping all rows: 89710 rows retained.\n"
     ]
    },
    {
     "name": "stdout",
     "output_type": "stream",
     "text": [
      "[INFO] Keeping all rows: 89710 rows retained.\n"
     ]
    },
    {
     "name": "stdout",
     "output_type": "stream",
     "text": [
      "[INFO] Keeping all rows: 89710 rows retained.\n"
     ]
    },
    {
     "name": "stdout",
     "output_type": "stream",
     "text": [
      "[INFO] Keeping all rows: 89710 rows retained.\n"
     ]
    },
    {
     "data": {
      "text/html": [
       "<div>\n",
       "<style scoped>\n",
       "    .dataframe tbody tr th:only-of-type {\n",
       "        vertical-align: middle;\n",
       "    }\n",
       "\n",
       "    .dataframe tbody tr th {\n",
       "        vertical-align: top;\n",
       "    }\n",
       "\n",
       "    .dataframe thead th {\n",
       "        text-align: right;\n",
       "    }\n",
       "</style>\n",
       "<table border=\"1\" class=\"dataframe\">\n",
       "  <thead>\n",
       "    <tr style=\"text-align: right;\">\n",
       "      <th></th>\n",
       "      <th>run_no</th>\n",
       "      <th>universe_id</th>\n",
       "      <th>universe_settings</th>\n",
       "      <th>execution_time</th>\n",
       "      <th>test_size_n</th>\n",
       "      <th>test_size_frac</th>\n",
       "      <th>fair_main_equalized_odds_difference</th>\n",
       "      <th>fair_main_equalized_odds_ratio</th>\n",
       "      <th>fair_main_demographic_parity_difference</th>\n",
       "      <th>fair_main_demographic_parity_ratio</th>\n",
       "      <th>...</th>\n",
       "      <th>perf_grp_precision_0</th>\n",
       "      <th>perf_grp_precision_1</th>\n",
       "      <th>perf_grp_false positive rate_0</th>\n",
       "      <th>perf_grp_false positive rate_1</th>\n",
       "      <th>perf_grp_false negative rate_0</th>\n",
       "      <th>perf_grp_false negative rate_1</th>\n",
       "      <th>perf_grp_selection rate_0</th>\n",
       "      <th>perf_grp_selection rate_1</th>\n",
       "      <th>perf_grp_count_0</th>\n",
       "      <th>perf_grp_count_1</th>\n",
       "    </tr>\n",
       "  </thead>\n",
       "  <tbody>\n",
       "    <tr>\n",
       "      <th>0</th>\n",
       "      <td>3</td>\n",
       "      <td>b3024549e48c94277f35a7f3f5508409</td>\n",
       "      <td>{\"cutoff\": \"quantile_0.1\", \"eval_fairness_grou...</td>\n",
       "      <td>21.137631</td>\n",
       "      <td>89710</td>\n",
       "      <td>1.0</td>\n",
       "      <td>0.092596</td>\n",
       "      <td>0.904073</td>\n",
       "      <td>0.086190</td>\n",
       "      <td>0.910819</td>\n",
       "      <td>...</td>\n",
       "      <td>NaN</td>\n",
       "      <td>NaN</td>\n",
       "      <td>NaN</td>\n",
       "      <td>NaN</td>\n",
       "      <td>NaN</td>\n",
       "      <td>NaN</td>\n",
       "      <td>NaN</td>\n",
       "      <td>NaN</td>\n",
       "      <td>NaN</td>\n",
       "      <td>NaN</td>\n",
       "    </tr>\n",
       "    <tr>\n",
       "      <th>0</th>\n",
       "      <td>3</td>\n",
       "      <td>b3024549e48c94277f35a7f3f5508409</td>\n",
       "      <td>{\"cutoff\": \"quantile_0.1\", \"eval_fairness_grou...</td>\n",
       "      <td>21.137631</td>\n",
       "      <td>89710</td>\n",
       "      <td>1.0</td>\n",
       "      <td>0.092596</td>\n",
       "      <td>0.904073</td>\n",
       "      <td>0.086190</td>\n",
       "      <td>0.910819</td>\n",
       "      <td>...</td>\n",
       "      <td>0.116367</td>\n",
       "      <td>0.139617</td>\n",
       "      <td>0.965276</td>\n",
       "      <td>0.872680</td>\n",
       "      <td>0.024493</td>\n",
       "      <td>0.069912</td>\n",
       "      <td>0.966456</td>\n",
       "      <td>0.880266</td>\n",
       "      <td>20540.0</td>\n",
       "      <td>69170.0</td>\n",
       "    </tr>\n",
       "    <tr>\n",
       "      <th>0</th>\n",
       "      <td>3</td>\n",
       "      <td>b3024549e48c94277f35a7f3f5508409</td>\n",
       "      <td>{\"cutoff\": \"quantile_0.25\", \"eval_fairness_gro...</td>\n",
       "      <td>21.137631</td>\n",
       "      <td>89710</td>\n",
       "      <td>1.0</td>\n",
       "      <td>0.221898</td>\n",
       "      <td>0.755854</td>\n",
       "      <td>0.208757</td>\n",
       "      <td>0.770837</td>\n",
       "      <td>...</td>\n",
       "      <td>NaN</td>\n",
       "      <td>NaN</td>\n",
       "      <td>NaN</td>\n",
       "      <td>NaN</td>\n",
       "      <td>NaN</td>\n",
       "      <td>NaN</td>\n",
       "      <td>NaN</td>\n",
       "      <td>NaN</td>\n",
       "      <td>NaN</td>\n",
       "      <td>NaN</td>\n",
       "    </tr>\n",
       "    <tr>\n",
       "      <th>0</th>\n",
       "      <td>3</td>\n",
       "      <td>b3024549e48c94277f35a7f3f5508409</td>\n",
       "      <td>{\"cutoff\": \"quantile_0.25\", \"eval_fairness_gro...</td>\n",
       "      <td>21.137631</td>\n",
       "      <td>89710</td>\n",
       "      <td>1.0</td>\n",
       "      <td>0.221898</td>\n",
       "      <td>0.755854</td>\n",
       "      <td>0.208757</td>\n",
       "      <td>0.770837</td>\n",
       "      <td>...</td>\n",
       "      <td>0.117311</td>\n",
       "      <td>0.150954</td>\n",
       "      <td>0.908871</td>\n",
       "      <td>0.686973</td>\n",
       "      <td>0.073057</td>\n",
       "      <td>0.197812</td>\n",
       "      <td>0.910954</td>\n",
       "      <td>0.702197</td>\n",
       "      <td>20540.0</td>\n",
       "      <td>69170.0</td>\n",
       "    </tr>\n",
       "  </tbody>\n",
       "</table>\n",
       "<p>4 rows × 50 columns</p>\n",
       "</div>"
      ],
      "text/plain": [
       "  run_no                       universe_id  \\\n",
       "0      3  b3024549e48c94277f35a7f3f5508409   \n",
       "0      3  b3024549e48c94277f35a7f3f5508409   \n",
       "0      3  b3024549e48c94277f35a7f3f5508409   \n",
       "0      3  b3024549e48c94277f35a7f3f5508409   \n",
       "\n",
       "                                   universe_settings  execution_time  \\\n",
       "0  {\"cutoff\": \"quantile_0.1\", \"eval_fairness_grou...       21.137631   \n",
       "0  {\"cutoff\": \"quantile_0.1\", \"eval_fairness_grou...       21.137631   \n",
       "0  {\"cutoff\": \"quantile_0.25\", \"eval_fairness_gro...       21.137631   \n",
       "0  {\"cutoff\": \"quantile_0.25\", \"eval_fairness_gro...       21.137631   \n",
       "\n",
       "   test_size_n  test_size_frac  fair_main_equalized_odds_difference  \\\n",
       "0        89710             1.0                             0.092596   \n",
       "0        89710             1.0                             0.092596   \n",
       "0        89710             1.0                             0.221898   \n",
       "0        89710             1.0                             0.221898   \n",
       "\n",
       "   fair_main_equalized_odds_ratio  fair_main_demographic_parity_difference  \\\n",
       "0                        0.904073                                 0.086190   \n",
       "0                        0.904073                                 0.086190   \n",
       "0                        0.755854                                 0.208757   \n",
       "0                        0.755854                                 0.208757   \n",
       "\n",
       "   fair_main_demographic_parity_ratio  ...  perf_grp_precision_0  \\\n",
       "0                            0.910819  ...                   NaN   \n",
       "0                            0.910819  ...              0.116367   \n",
       "0                            0.770837  ...                   NaN   \n",
       "0                            0.770837  ...              0.117311   \n",
       "\n",
       "   perf_grp_precision_1  perf_grp_false positive rate_0  \\\n",
       "0                   NaN                             NaN   \n",
       "0              0.139617                        0.965276   \n",
       "0                   NaN                             NaN   \n",
       "0              0.150954                        0.908871   \n",
       "\n",
       "   perf_grp_false positive rate_1  perf_grp_false negative rate_0  \\\n",
       "0                             NaN                             NaN   \n",
       "0                        0.872680                        0.024493   \n",
       "0                             NaN                             NaN   \n",
       "0                        0.686973                        0.073057   \n",
       "\n",
       "   perf_grp_false negative rate_1  perf_grp_selection rate_0  \\\n",
       "0                             NaN                        NaN   \n",
       "0                        0.069912                   0.966456   \n",
       "0                             NaN                        NaN   \n",
       "0                        0.197812                   0.910954   \n",
       "\n",
       "   perf_grp_selection rate_1  perf_grp_count_0  perf_grp_count_1  \n",
       "0                        NaN               NaN               NaN  \n",
       "0                   0.880266           20540.0           69170.0  \n",
       "0                        NaN               NaN               NaN  \n",
       "0                   0.702197           20540.0           69170.0  \n",
       "\n",
       "[4 rows x 50 columns]"
      ]
     },
     "execution_count": 64,
     "metadata": {},
     "output_type": "execute_result"
    }
   ],
   "source": [
    "final_output = universe_analysis.generate_final_output(\n",
    "    y_pred_prob=probs_test,\n",
    "    y_test=y_true,\n",
    "    org_test=org_test,\n",
    "    filter_data=filter_sub_universe_data,\n",
    "    cp_metrics_df=cp_metrics_df,\n",
    "    save=True,\n",
    ")\n",
    "final_output"
   ]
  },
  {
   "cell_type": "code",
   "execution_count": null,
   "id": "8b80a1ff",
   "metadata": {
    "papermill": {
     "duration": 0.030492,
     "end_time": "2025-08-19T18:56:51.905832",
     "exception": false,
     "start_time": "2025-08-19T18:56:51.875340",
     "status": "completed"
    },
    "tags": []
   },
   "outputs": [],
   "source": []
  },
  {
   "cell_type": "code",
   "execution_count": null,
   "id": "275c9fad",
   "metadata": {
    "papermill": {
     "duration": 0.01456,
     "end_time": "2025-08-19T18:56:51.935644",
     "exception": false,
     "start_time": "2025-08-19T18:56:51.921084",
     "status": "completed"
    },
    "tags": []
   },
   "outputs": [],
   "source": []
  }
 ],
 "metadata": {
  "celltoolbar": "Tags",
  "kernelspec": {
   "display_name": "Python (CMA Fairness)",
   "language": "python",
   "name": "cma_fair_env"
  },
  "language_info": {
   "codemirror_mode": {
    "name": "ipython",
    "version": 3
   },
   "file_extension": ".py",
   "mimetype": "text/x-python",
   "name": "python",
   "nbconvert_exporter": "python",
   "pygments_lexer": "ipython3",
   "version": "3.10.12"
  },
  "papermill": {
   "default_parameters": {},
   "duration": 31.618118,
   "end_time": "2025-08-19T18:56:52.775884",
   "environment_variables": {},
   "exception": null,
   "input_path": "universe_analysis.ipynb",
   "output_path": "output/runs/3/notebooks/m_3-b3024549e48c94277f35a7f3f5508409.ipynb",
   "parameters": {
    "output_dir": "output",
    "run_no": "3",
    "seed": "2023",
    "universe": "{\"cutoff\": [\"quantile_0.1\", \"quantile_0.25\"], \"eval_fairness_grouping\": [\"majority-minority\", \"nationality-all\"], \"exclude_features\": \"age\", \"exclude_subgroups\": \"keep-all\", \"model\": \"elasticnet\", \"scale\": \"do-not-scale\", \"training_size\": \"1k\", \"training_year\": \"2014\"}",
    "universe_id": "b3024549e48c94277f35a7f3f5508409"
   },
   "start_time": "2025-08-19T18:56:21.157766",
   "version": "2.6.0"
  }
 },
 "nbformat": 4,
 "nbformat_minor": 5
}