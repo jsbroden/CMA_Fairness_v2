{
 "cells": [
  {
   "cell_type": "markdown",
   "id": "ef23dbb3",
   "metadata": {
    "papermill": {
     "duration": 0.014672,
     "end_time": "2025-08-19T18:57:53.637314",
     "exception": false,
     "start_time": "2025-08-19T18:57:53.622642",
     "status": "completed"
    },
    "tags": []
   },
   "source": [
    "# Setup"
   ]
  },
  {
   "cell_type": "code",
   "execution_count": 1,
   "id": "0bc8e7dc",
   "metadata": {
    "execution": {
     "iopub.execute_input": "2025-08-19T18:57:53.671434Z",
     "iopub.status.busy": "2025-08-19T18:57:53.671076Z",
     "iopub.status.idle": "2025-08-19T18:57:53.681024Z",
     "shell.execute_reply": "2025-08-19T18:57:53.680287Z"
    },
    "papermill": {
     "duration": 0.029449,
     "end_time": "2025-08-19T18:57:53.687676",
     "exception": false,
     "start_time": "2025-08-19T18:57:53.658227",
     "status": "completed"
    },
    "tags": []
   },
   "outputs": [
    {
     "name": "stdout",
     "output_type": "stream",
     "text": [
      "/dss/dsshome1/0C/ra93lal2/cma/CMA_Fairness_v2\n"
     ]
    },
    {
     "name": "stderr",
     "output_type": "stream",
     "text": [
      "/dss/dsshome1/0C/ra93lal2/.local/share/virtualenvs/CMA_Fairness_v2-3j10GkSs/lib/python3.10/site-packages/IPython/core/magics/osm.py:393: UserWarning: This is now an optional IPython functionality, using bookmarks requires you to install the `pickleshare` library.\n",
      "  bkms = self.shell.db.get('bookmarks', {})\n",
      "/dss/dsshome1/0C/ra93lal2/.local/share/virtualenvs/CMA_Fairness_v2-3j10GkSs/lib/python3.10/site-packages/IPython/core/magics/osm.py:417: UserWarning: This is now an optional IPython functionality, setting dhist requires you to install the `pickleshare` library.\n",
      "  self.shell.db['dhist'] = compress_dhist(dhist)[-100:]\n"
     ]
    }
   ],
   "source": [
    "%cd ~/cma/CMA_Fairness_v2"
   ]
  },
  {
   "cell_type": "markdown",
   "id": "9d235661",
   "metadata": {
    "papermill": {
     "duration": 0.009041,
     "end_time": "2025-08-19T18:57:53.707950",
     "exception": false,
     "start_time": "2025-08-19T18:57:53.698909",
     "status": "completed"
    },
    "tags": []
   },
   "source": [
    "The following cell holds the definition of our parameters, these values can be overriden by rendering the with e.g. the following command:\n",
    "\n",
    "papermill -p alpha 0.2 -p ratio 0.3 universe_analysis.ipynb output/test_run.ipynb"
   ]
  },
  {
   "cell_type": "code",
   "execution_count": 2,
   "id": "4a789d8e",
   "metadata": {
    "execution": {
     "iopub.execute_input": "2025-08-19T18:57:53.731081Z",
     "iopub.status.busy": "2025-08-19T18:57:53.730330Z",
     "iopub.status.idle": "2025-08-19T18:57:53.738591Z",
     "shell.execute_reply": "2025-08-19T18:57:53.737401Z"
    },
    "papermill": {
     "duration": 0.022066,
     "end_time": "2025-08-19T18:57:53.740448",
     "exception": false,
     "start_time": "2025-08-19T18:57:53.718382",
     "status": "completed"
    },
    "tags": []
   },
   "outputs": [
    {
     "name": "stdout",
     "output_type": "stream",
     "text": [
      "Current working directory: /dss/dsshome1/0C/ra93lal2/cma/CMA_Fairness_v2\n"
     ]
    }
   ],
   "source": [
    "import os\n",
    "print(\"Current working directory:\", os.getcwd())"
   ]
  },
  {
   "cell_type": "code",
   "execution_count": 3,
   "id": "4132aaed",
   "metadata": {
    "execution": {
     "iopub.execute_input": "2025-08-19T18:57:53.765768Z",
     "iopub.status.busy": "2025-08-19T18:57:53.762413Z",
     "iopub.status.idle": "2025-08-19T18:57:53.771753Z",
     "shell.execute_reply": "2025-08-19T18:57:53.770740Z"
    },
    "papermill": {
     "duration": 0.021486,
     "end_time": "2025-08-19T18:57:53.772987",
     "exception": false,
     "start_time": "2025-08-19T18:57:53.751501",
     "status": "completed"
    },
    "tags": [
     "parameters"
    ]
   },
   "outputs": [],
   "source": [
    "run_no = 0\n",
    "universe_id = \"test\"\n",
    "universe = {\n",
    "    \"training_size\": \"5k\", # \"25k\", \"5k\", \"1k\"\n",
    "    \"training_year\": \"2012_14\", # \"2014\", \"2012_14\", \"2010_14\"\n",
    "    \"scale\": \"scale\", # \"scale\", \"do-not-scale\",\n",
    "    \"model\": \"elasticnet\", # \"logreg\", \"penalized_logreg\", \"rf\", \"gbm\", \"elasticnet\"\n",
    "    \"cutoff\": [\"quantile_0.15\", \"quantile_0.30\"],\n",
    "    \"exclude_features\": \"age\", # \"none\", \"nationality\", \"sex\", \"nationality-sex\", \"age\"\n",
    "    \"exclude_subgroups\": \"drop-non-german\", # \"keep-all\", \"drop-non-german\"\n",
    "    \"eval_fairness_grouping\": [\"majority-minority\", \"nationality-all\"]\n",
    "}\n",
    "\n",
    "output_dir=\"./output\"\n",
    "seed=0"
   ]
  },
  {
   "cell_type": "code",
   "execution_count": 4,
   "id": "e33fbd3c",
   "metadata": {
    "execution": {
     "iopub.execute_input": "2025-08-19T18:57:53.797330Z",
     "iopub.status.busy": "2025-08-19T18:57:53.796245Z",
     "iopub.status.idle": "2025-08-19T18:57:53.803859Z",
     "shell.execute_reply": "2025-08-19T18:57:53.802371Z"
    },
    "papermill": {
     "duration": 0.021327,
     "end_time": "2025-08-19T18:57:53.806975",
     "exception": false,
     "start_time": "2025-08-19T18:57:53.785648",
     "status": "completed"
    },
    "tags": [
     "injected-parameters"
    ]
   },
   "outputs": [],
   "source": [
    "# Parameters\n",
    "universe_id = \"052512b8c189f528067f5a0c51afcac7\"\n",
    "run_no = \"3\"\n",
    "universe = \"{\\\"cutoff\\\": [\\\"quantile_0.1\\\", \\\"quantile_0.25\\\"], \\\"eval_fairness_grouping\\\": [\\\"majority-minority\\\", \\\"nationality-all\\\"], \\\"exclude_features\\\": \\\"age\\\", \\\"exclude_subgroups\\\": \\\"keep-all\\\", \\\"model\\\": \\\"penalized_logreg\\\", \\\"scale\\\": \\\"scale\\\", \\\"training_size\\\": \\\"1k\\\", \\\"training_year\\\": \\\"2012_14\\\"}\"\n",
    "output_dir = \"output\"\n",
    "seed = \"2023\"\n"
   ]
  },
  {
   "cell_type": "code",
   "execution_count": 5,
   "id": "a5d7941f",
   "metadata": {
    "execution": {
     "iopub.execute_input": "2025-08-19T18:57:53.830770Z",
     "iopub.status.busy": "2025-08-19T18:57:53.830152Z",
     "iopub.status.idle": "2025-08-19T18:57:53.835882Z",
     "shell.execute_reply": "2025-08-19T18:57:53.834825Z"
    },
    "papermill": {
     "duration": 0.018841,
     "end_time": "2025-08-19T18:57:53.838435",
     "exception": false,
     "start_time": "2025-08-19T18:57:53.819594",
     "status": "completed"
    },
    "tags": []
   },
   "outputs": [],
   "source": [
    "import json\n",
    "if isinstance(universe, str):\n",
    "    universe = json.loads(universe)"
   ]
  },
  {
   "cell_type": "code",
   "execution_count": 6,
   "id": "7076ccb1",
   "metadata": {
    "execution": {
     "iopub.execute_input": "2025-08-19T18:57:53.865248Z",
     "iopub.status.busy": "2025-08-19T18:57:53.864037Z",
     "iopub.status.idle": "2025-08-19T18:57:53.909657Z",
     "shell.execute_reply": "2025-08-19T18:57:53.908725Z"
    },
    "papermill": {
     "duration": 0.063253,
     "end_time": "2025-08-19T18:57:53.912692",
     "exception": false,
     "start_time": "2025-08-19T18:57:53.849439",
     "status": "completed"
    },
    "tags": []
   },
   "outputs": [],
   "source": [
    "# Auto-reload the custom package\n",
    "%load_ext autoreload\n",
    "%autoreload 1\n",
    "%aimport fairness_multiverse"
   ]
  },
  {
   "cell_type": "code",
   "execution_count": 7,
   "id": "94c8eb93",
   "metadata": {
    "execution": {
     "iopub.execute_input": "2025-08-19T18:57:53.971795Z",
     "iopub.status.busy": "2025-08-19T18:57:53.970923Z",
     "iopub.status.idle": "2025-08-19T18:57:55.581950Z",
     "shell.execute_reply": "2025-08-19T18:57:55.580854Z"
    },
    "papermill": {
     "duration": 1.64661,
     "end_time": "2025-08-19T18:57:55.583863",
     "exception": false,
     "start_time": "2025-08-19T18:57:53.937253",
     "status": "completed"
    },
    "tags": []
   },
   "outputs": [],
   "source": [
    "from fairness_multiverse.universe import UniverseAnalysis\n",
    "\n",
    "universe_analysis = UniverseAnalysis(\n",
    "    run_no = run_no,\n",
    "    universe_id = universe_id,\n",
    "    universe = universe,\n",
    "    output_dir=output_dir,\n",
    ")"
   ]
  },
  {
   "cell_type": "code",
   "execution_count": 8,
   "id": "2a6381cf",
   "metadata": {
    "execution": {
     "iopub.execute_input": "2025-08-19T18:57:55.606419Z",
     "iopub.status.busy": "2025-08-19T18:57:55.604816Z",
     "iopub.status.idle": "2025-08-19T18:57:55.616331Z",
     "shell.execute_reply": "2025-08-19T18:57:55.614896Z"
    },
    "papermill": {
     "duration": 0.024339,
     "end_time": "2025-08-19T18:57:55.618071",
     "exception": false,
     "start_time": "2025-08-19T18:57:55.593732",
     "status": "completed"
    },
    "tags": []
   },
   "outputs": [
    {
     "name": "stdout",
     "output_type": "stream",
     "text": [
      "Using Seed: 2023\n"
     ]
    }
   ],
   "source": [
    "import numpy as np\n",
    "parsed_seed = int(seed)\n",
    "np.random.seed(parsed_seed)\n",
    "print(f\"Using Seed: {parsed_seed}\")"
   ]
  },
  {
   "cell_type": "markdown",
   "id": "b6e958b4",
   "metadata": {
    "papermill": {
     "duration": 0.009967,
     "end_time": "2025-08-19T18:57:55.640414",
     "exception": false,
     "start_time": "2025-08-19T18:57:55.630447",
     "status": "completed"
    },
    "tags": []
   },
   "source": [
    "# Loading Data"
   ]
  },
  {
   "cell_type": "code",
   "execution_count": 9,
   "id": "98701482",
   "metadata": {
    "execution": {
     "iopub.execute_input": "2025-08-19T18:57:55.660921Z",
     "iopub.status.busy": "2025-08-19T18:57:55.660370Z",
     "iopub.status.idle": "2025-08-19T18:58:05.575549Z",
     "shell.execute_reply": "2025-08-19T18:58:05.574492Z"
    },
    "papermill": {
     "duration": 9.927483,
     "end_time": "2025-08-19T18:58:05.577140",
     "exception": false,
     "start_time": "2025-08-19T18:57:55.649657",
     "status": "completed"
    },
    "tags": []
   },
   "outputs": [
    {
     "name": "stdout",
     "output_type": "stream",
     "text": [
      "Loading SIAB data from cache: data/siab_cached.csv.gz\n"
     ]
    },
    {
     "name": "stdout",
     "output_type": "stream",
     "text": [
      "(643690, 164)\n"
     ]
    }
   ],
   "source": [
    "from pathlib import Path\n",
    "import pandas as pd\n",
    "\n",
    "# File paths\n",
    "raw_file = Path(\"data/raw/siab.csv\")\n",
    "cache_file = Path(\"data/siab_cached.csv.gz\")\n",
    "\n",
    "# Ensure cache directory exists\n",
    "cache_file.parent.mkdir(parents=True, exist_ok=True)\n",
    "\n",
    "# Load with simple caching\n",
    "if cache_file.exists():\n",
    "    print(f\"Loading SIAB data from cache: {cache_file}\")\n",
    "    siab = pd.read_csv(cache_file, compression='gzip')\n",
    "else:\n",
    "    print(f\"Cache not found. Reading raw SIAB data: {raw_file}\")\n",
    "    siab = pd.read_csv(raw_file)\n",
    "    siab.to_csv(cache_file, index=False, compression='gzip')\n",
    "    print(f\"Cached SIAB data to: {cache_file}\")\n",
    "\n",
    "print(siab.shape)"
   ]
  },
  {
   "cell_type": "code",
   "execution_count": 10,
   "id": "058d2abb",
   "metadata": {
    "execution": {
     "iopub.execute_input": "2025-08-19T18:58:05.636976Z",
     "iopub.status.busy": "2025-08-19T18:58:05.635590Z",
     "iopub.status.idle": "2025-08-19T18:58:05.768423Z",
     "shell.execute_reply": "2025-08-19T18:58:05.767659Z"
    },
    "papermill": {
     "duration": 0.176062,
     "end_time": "2025-08-19T18:58:05.771239",
     "exception": false,
     "start_time": "2025-08-19T18:58:05.595177",
     "status": "completed"
    },
    "tags": []
   },
   "outputs": [
    {
     "data": {
      "text/html": [
       "<div>\n",
       "<style scoped>\n",
       "    .dataframe tbody tr th:only-of-type {\n",
       "        vertical-align: middle;\n",
       "    }\n",
       "\n",
       "    .dataframe tbody tr th {\n",
       "        vertical-align: top;\n",
       "    }\n",
       "\n",
       "    .dataframe thead th {\n",
       "        text-align: right;\n",
       "    }\n",
       "</style>\n",
       "<table border=\"1\" class=\"dataframe\">\n",
       "  <thead>\n",
       "    <tr style=\"text-align: right;\">\n",
       "      <th></th>\n",
       "      <th>persnr</th>\n",
       "      <th>year</th>\n",
       "      <th>nrEntry</th>\n",
       "      <th>ltue</th>\n",
       "      <th>employed_before</th>\n",
       "      <th>receipt_leh_before</th>\n",
       "      <th>receipt_lhg_before</th>\n",
       "      <th>se_before</th>\n",
       "      <th>ASU_notue_seeking_before</th>\n",
       "      <th>ASU_other_before</th>\n",
       "      <th>...</th>\n",
       "      <th>minijob_tot_dur_byage</th>\n",
       "      <th>ft_tot_dur_byage</th>\n",
       "      <th>befrist_tot_dur_byage</th>\n",
       "      <th>leih_tot_dur_byage</th>\n",
       "      <th>LHG_tot_dur_byage</th>\n",
       "      <th>LEH_tot_dur_byage</th>\n",
       "      <th>almp_tot_dur_byage</th>\n",
       "      <th>almp_aw_tot_dur_byage</th>\n",
       "      <th>se_tot_dur_byage</th>\n",
       "      <th>seeking1_tot_dur_byage</th>\n",
       "    </tr>\n",
       "  </thead>\n",
       "  <tbody>\n",
       "    <tr>\n",
       "      <th>0</th>\n",
       "      <td>7</td>\n",
       "      <td>2015</td>\n",
       "      <td>1</td>\n",
       "      <td>0</td>\n",
       "      <td>1</td>\n",
       "      <td>0</td>\n",
       "      <td>0</td>\n",
       "      <td>0</td>\n",
       "      <td>1</td>\n",
       "      <td>0</td>\n",
       "      <td>...</td>\n",
       "      <td>0.000000</td>\n",
       "      <td>0.000000</td>\n",
       "      <td>15.043478</td>\n",
       "      <td>0.000000</td>\n",
       "      <td>0.000000</td>\n",
       "      <td>0.000000</td>\n",
       "      <td>0.000000</td>\n",
       "      <td>0.000000</td>\n",
       "      <td>0.000000</td>\n",
       "      <td>0.000000</td>\n",
       "    </tr>\n",
       "    <tr>\n",
       "      <th>1</th>\n",
       "      <td>18</td>\n",
       "      <td>2010</td>\n",
       "      <td>1</td>\n",
       "      <td>1</td>\n",
       "      <td>0</td>\n",
       "      <td>0</td>\n",
       "      <td>0</td>\n",
       "      <td>0</td>\n",
       "      <td>0</td>\n",
       "      <td>0</td>\n",
       "      <td>...</td>\n",
       "      <td>0.000000</td>\n",
       "      <td>0.000000</td>\n",
       "      <td>0.000000</td>\n",
       "      <td>0.000000</td>\n",
       "      <td>0.000000</td>\n",
       "      <td>0.000000</td>\n",
       "      <td>0.000000</td>\n",
       "      <td>0.000000</td>\n",
       "      <td>0.000000</td>\n",
       "      <td>0.000000</td>\n",
       "    </tr>\n",
       "    <tr>\n",
       "      <th>2</th>\n",
       "      <td>18</td>\n",
       "      <td>2011</td>\n",
       "      <td>2</td>\n",
       "      <td>0</td>\n",
       "      <td>1</td>\n",
       "      <td>0</td>\n",
       "      <td>1</td>\n",
       "      <td>0</td>\n",
       "      <td>1</td>\n",
       "      <td>0</td>\n",
       "      <td>...</td>\n",
       "      <td>2.714286</td>\n",
       "      <td>2.714286</td>\n",
       "      <td>0.000000</td>\n",
       "      <td>0.000000</td>\n",
       "      <td>10.775510</td>\n",
       "      <td>0.000000</td>\n",
       "      <td>8.367347</td>\n",
       "      <td>0.000000</td>\n",
       "      <td>0.000000</td>\n",
       "      <td>9.836735</td>\n",
       "    </tr>\n",
       "    <tr>\n",
       "      <th>3</th>\n",
       "      <td>18</td>\n",
       "      <td>2012</td>\n",
       "      <td>3</td>\n",
       "      <td>0</td>\n",
       "      <td>1</td>\n",
       "      <td>0</td>\n",
       "      <td>1</td>\n",
       "      <td>0</td>\n",
       "      <td>1</td>\n",
       "      <td>0</td>\n",
       "      <td>...</td>\n",
       "      <td>4.200000</td>\n",
       "      <td>4.200000</td>\n",
       "      <td>0.000000</td>\n",
       "      <td>0.000000</td>\n",
       "      <td>12.100000</td>\n",
       "      <td>0.000000</td>\n",
       "      <td>9.400000</td>\n",
       "      <td>0.000000</td>\n",
       "      <td>0.000000</td>\n",
       "      <td>9.960000</td>\n",
       "    </tr>\n",
       "    <tr>\n",
       "      <th>4</th>\n",
       "      <td>18</td>\n",
       "      <td>2012</td>\n",
       "      <td>4</td>\n",
       "      <td>0</td>\n",
       "      <td>1</td>\n",
       "      <td>0</td>\n",
       "      <td>1</td>\n",
       "      <td>0</td>\n",
       "      <td>1</td>\n",
       "      <td>0</td>\n",
       "      <td>...</td>\n",
       "      <td>5.460000</td>\n",
       "      <td>5.460000</td>\n",
       "      <td>0.000000</td>\n",
       "      <td>0.000000</td>\n",
       "      <td>13.360000</td>\n",
       "      <td>0.000000</td>\n",
       "      <td>10.320000</td>\n",
       "      <td>0.000000</td>\n",
       "      <td>0.000000</td>\n",
       "      <td>10.280000</td>\n",
       "    </tr>\n",
       "    <tr>\n",
       "      <th>...</th>\n",
       "      <td>...</td>\n",
       "      <td>...</td>\n",
       "      <td>...</td>\n",
       "      <td>...</td>\n",
       "      <td>...</td>\n",
       "      <td>...</td>\n",
       "      <td>...</td>\n",
       "      <td>...</td>\n",
       "      <td>...</td>\n",
       "      <td>...</td>\n",
       "      <td>...</td>\n",
       "      <td>...</td>\n",
       "      <td>...</td>\n",
       "      <td>...</td>\n",
       "      <td>...</td>\n",
       "      <td>...</td>\n",
       "      <td>...</td>\n",
       "      <td>...</td>\n",
       "      <td>...</td>\n",
       "      <td>...</td>\n",
       "      <td>...</td>\n",
       "    </tr>\n",
       "    <tr>\n",
       "      <th>643685</th>\n",
       "      <td>1827860</td>\n",
       "      <td>2013</td>\n",
       "      <td>1</td>\n",
       "      <td>0</td>\n",
       "      <td>0</td>\n",
       "      <td>0</td>\n",
       "      <td>1</td>\n",
       "      <td>0</td>\n",
       "      <td>0</td>\n",
       "      <td>1</td>\n",
       "      <td>...</td>\n",
       "      <td>0.000000</td>\n",
       "      <td>0.000000</td>\n",
       "      <td>0.000000</td>\n",
       "      <td>0.000000</td>\n",
       "      <td>0.612903</td>\n",
       "      <td>0.000000</td>\n",
       "      <td>0.000000</td>\n",
       "      <td>0.000000</td>\n",
       "      <td>0.000000</td>\n",
       "      <td>0.000000</td>\n",
       "    </tr>\n",
       "    <tr>\n",
       "      <th>643686</th>\n",
       "      <td>1827860</td>\n",
       "      <td>2015</td>\n",
       "      <td>2</td>\n",
       "      <td>1</td>\n",
       "      <td>0</td>\n",
       "      <td>0</td>\n",
       "      <td>1</td>\n",
       "      <td>0</td>\n",
       "      <td>1</td>\n",
       "      <td>0</td>\n",
       "      <td>...</td>\n",
       "      <td>0.000000</td>\n",
       "      <td>0.000000</td>\n",
       "      <td>0.212121</td>\n",
       "      <td>0.212121</td>\n",
       "      <td>17.363636</td>\n",
       "      <td>0.000000</td>\n",
       "      <td>8.909091</td>\n",
       "      <td>0.000000</td>\n",
       "      <td>0.000000</td>\n",
       "      <td>7.121212</td>\n",
       "    </tr>\n",
       "    <tr>\n",
       "      <th>643687</th>\n",
       "      <td>1827860</td>\n",
       "      <td>2016</td>\n",
       "      <td>3</td>\n",
       "      <td>1</td>\n",
       "      <td>0</td>\n",
       "      <td>0</td>\n",
       "      <td>1</td>\n",
       "      <td>1</td>\n",
       "      <td>0</td>\n",
       "      <td>1</td>\n",
       "      <td>...</td>\n",
       "      <td>0.000000</td>\n",
       "      <td>0.000000</td>\n",
       "      <td>0.294118</td>\n",
       "      <td>0.205882</td>\n",
       "      <td>34.705882</td>\n",
       "      <td>0.000000</td>\n",
       "      <td>10.352941</td>\n",
       "      <td>1.705882</td>\n",
       "      <td>1.705882</td>\n",
       "      <td>23.911765</td>\n",
       "    </tr>\n",
       "    <tr>\n",
       "      <th>643688</th>\n",
       "      <td>1827869</td>\n",
       "      <td>2013</td>\n",
       "      <td>1</td>\n",
       "      <td>1</td>\n",
       "      <td>1</td>\n",
       "      <td>0</td>\n",
       "      <td>0</td>\n",
       "      <td>0</td>\n",
       "      <td>1</td>\n",
       "      <td>0</td>\n",
       "      <td>...</td>\n",
       "      <td>0.000000</td>\n",
       "      <td>0.000000</td>\n",
       "      <td>0.000000</td>\n",
       "      <td>0.000000</td>\n",
       "      <td>0.000000</td>\n",
       "      <td>0.525424</td>\n",
       "      <td>0.000000</td>\n",
       "      <td>0.000000</td>\n",
       "      <td>0.000000</td>\n",
       "      <td>0.000000</td>\n",
       "    </tr>\n",
       "    <tr>\n",
       "      <th>643689</th>\n",
       "      <td>1827869</td>\n",
       "      <td>2014</td>\n",
       "      <td>2</td>\n",
       "      <td>0</td>\n",
       "      <td>0</td>\n",
       "      <td>1</td>\n",
       "      <td>0</td>\n",
       "      <td>0</td>\n",
       "      <td>1</td>\n",
       "      <td>0</td>\n",
       "      <td>...</td>\n",
       "      <td>0.000000</td>\n",
       "      <td>0.666667</td>\n",
       "      <td>0.666667</td>\n",
       "      <td>0.000000</td>\n",
       "      <td>0.000000</td>\n",
       "      <td>8.950000</td>\n",
       "      <td>1.033333</td>\n",
       "      <td>0.083333</td>\n",
       "      <td>0.083333</td>\n",
       "      <td>8.133333</td>\n",
       "    </tr>\n",
       "  </tbody>\n",
       "</table>\n",
       "<p>643690 rows × 164 columns</p>\n",
       "</div>"
      ],
      "text/plain": [
       "         persnr  year  nrEntry  ltue  employed_before  receipt_leh_before  \\\n",
       "0             7  2015        1     0                1                   0   \n",
       "1            18  2010        1     1                0                   0   \n",
       "2            18  2011        2     0                1                   0   \n",
       "3            18  2012        3     0                1                   0   \n",
       "4            18  2012        4     0                1                   0   \n",
       "...         ...   ...      ...   ...              ...                 ...   \n",
       "643685  1827860  2013        1     0                0                   0   \n",
       "643686  1827860  2015        2     1                0                   0   \n",
       "643687  1827860  2016        3     1                0                   0   \n",
       "643688  1827869  2013        1     1                1                   0   \n",
       "643689  1827869  2014        2     0                0                   1   \n",
       "\n",
       "        receipt_lhg_before  se_before  ASU_notue_seeking_before  \\\n",
       "0                        0          0                         1   \n",
       "1                        0          0                         0   \n",
       "2                        1          0                         1   \n",
       "3                        1          0                         1   \n",
       "4                        1          0                         1   \n",
       "...                    ...        ...                       ...   \n",
       "643685                   1          0                         0   \n",
       "643686                   1          0                         1   \n",
       "643687                   1          1                         0   \n",
       "643688                   0          0                         1   \n",
       "643689                   0          0                         1   \n",
       "\n",
       "        ASU_other_before  ...  minijob_tot_dur_byage  ft_tot_dur_byage  \\\n",
       "0                      0  ...               0.000000          0.000000   \n",
       "1                      0  ...               0.000000          0.000000   \n",
       "2                      0  ...               2.714286          2.714286   \n",
       "3                      0  ...               4.200000          4.200000   \n",
       "4                      0  ...               5.460000          5.460000   \n",
       "...                  ...  ...                    ...               ...   \n",
       "643685                 1  ...               0.000000          0.000000   \n",
       "643686                 0  ...               0.000000          0.000000   \n",
       "643687                 1  ...               0.000000          0.000000   \n",
       "643688                 0  ...               0.000000          0.000000   \n",
       "643689                 0  ...               0.000000          0.666667   \n",
       "\n",
       "        befrist_tot_dur_byage  leih_tot_dur_byage  LHG_tot_dur_byage  \\\n",
       "0                   15.043478            0.000000           0.000000   \n",
       "1                    0.000000            0.000000           0.000000   \n",
       "2                    0.000000            0.000000          10.775510   \n",
       "3                    0.000000            0.000000          12.100000   \n",
       "4                    0.000000            0.000000          13.360000   \n",
       "...                       ...                 ...                ...   \n",
       "643685               0.000000            0.000000           0.612903   \n",
       "643686               0.212121            0.212121          17.363636   \n",
       "643687               0.294118            0.205882          34.705882   \n",
       "643688               0.000000            0.000000           0.000000   \n",
       "643689               0.666667            0.000000           0.000000   \n",
       "\n",
       "        LEH_tot_dur_byage  almp_tot_dur_byage  almp_aw_tot_dur_byage  \\\n",
       "0                0.000000            0.000000               0.000000   \n",
       "1                0.000000            0.000000               0.000000   \n",
       "2                0.000000            8.367347               0.000000   \n",
       "3                0.000000            9.400000               0.000000   \n",
       "4                0.000000           10.320000               0.000000   \n",
       "...                   ...                 ...                    ...   \n",
       "643685           0.000000            0.000000               0.000000   \n",
       "643686           0.000000            8.909091               0.000000   \n",
       "643687           0.000000           10.352941               1.705882   \n",
       "643688           0.525424            0.000000               0.000000   \n",
       "643689           8.950000            1.033333               0.083333   \n",
       "\n",
       "        se_tot_dur_byage  seeking1_tot_dur_byage  \n",
       "0               0.000000                0.000000  \n",
       "1               0.000000                0.000000  \n",
       "2               0.000000                9.836735  \n",
       "3               0.000000                9.960000  \n",
       "4               0.000000               10.280000  \n",
       "...                  ...                     ...  \n",
       "643685          0.000000                0.000000  \n",
       "643686          0.000000                7.121212  \n",
       "643687          1.705882               23.911765  \n",
       "643688          0.000000                0.000000  \n",
       "643689          0.083333                8.133333  \n",
       "\n",
       "[643690 rows x 164 columns]"
      ]
     },
     "execution_count": 10,
     "metadata": {},
     "output_type": "execute_result"
    }
   ],
   "source": [
    "siab"
   ]
  },
  {
   "cell_type": "markdown",
   "id": "1f87e805",
   "metadata": {
    "papermill": {
     "duration": 0.010214,
     "end_time": "2025-08-19T18:58:05.797571",
     "exception": false,
     "start_time": "2025-08-19T18:58:05.787357",
     "status": "completed"
    },
    "tags": []
   },
   "source": [
    "# Splitting Data and Setting Training Data Size"
   ]
  },
  {
   "cell_type": "code",
   "execution_count": 11,
   "id": "910ae358",
   "metadata": {
    "execution": {
     "iopub.execute_input": "2025-08-19T18:58:05.820968Z",
     "iopub.status.busy": "2025-08-19T18:58:05.819761Z",
     "iopub.status.idle": "2025-08-19T18:58:06.438781Z",
     "shell.execute_reply": "2025-08-19T18:58:06.438002Z"
    },
    "papermill": {
     "duration": 0.633006,
     "end_time": "2025-08-19T18:58:06.440381",
     "exception": false,
     "start_time": "2025-08-19T18:58:05.807375",
     "status": "completed"
    },
    "tags": []
   },
   "outputs": [],
   "source": [
    "from fairness_multiverse.universe import sample_by_year_size\n",
    "\n",
    "siab_train = sample_by_year_size(siab,\n",
    "                               training_year=universe[\"training_year\"],\n",
    "                               training_size=universe[\"training_size\"])"
   ]
  },
  {
   "cell_type": "code",
   "execution_count": 12,
   "id": "919c8ff5",
   "metadata": {
    "execution": {
     "iopub.execute_input": "2025-08-19T18:58:06.472454Z",
     "iopub.status.busy": "2025-08-19T18:58:06.471341Z",
     "iopub.status.idle": "2025-08-19T18:58:06.480689Z",
     "shell.execute_reply": "2025-08-19T18:58:06.479329Z"
    },
    "papermill": {
     "duration": 0.030414,
     "end_time": "2025-08-19T18:58:06.485793",
     "exception": false,
     "start_time": "2025-08-19T18:58:06.455379",
     "status": "completed"
    },
    "tags": []
   },
   "outputs": [
    {
     "data": {
      "text/plain": [
       "(1000, 164)"
      ]
     },
     "execution_count": 12,
     "metadata": {},
     "output_type": "execute_result"
    }
   ],
   "source": [
    "siab_train.shape"
   ]
  },
  {
   "cell_type": "code",
   "execution_count": 13,
   "id": "feb13bf4",
   "metadata": {
    "execution": {
     "iopub.execute_input": "2025-08-19T18:58:06.509138Z",
     "iopub.status.busy": "2025-08-19T18:58:06.507986Z",
     "iopub.status.idle": "2025-08-19T18:58:06.521479Z",
     "shell.execute_reply": "2025-08-19T18:58:06.520440Z"
    },
    "papermill": {
     "duration": 0.026964,
     "end_time": "2025-08-19T18:58:06.523267",
     "exception": false,
     "start_time": "2025-08-19T18:58:06.496303",
     "status": "completed"
    },
    "tags": []
   },
   "outputs": [
    {
     "data": {
      "text/plain": [
       "year\n",
       "2012    334\n",
       "2013    333\n",
       "2014    333\n",
       "dtype: int64"
      ]
     },
     "metadata": {},
     "output_type": "display_data"
    }
   ],
   "source": [
    "display(siab_train.groupby(\"year\").size())"
   ]
  },
  {
   "cell_type": "code",
   "execution_count": 14,
   "id": "0997782f",
   "metadata": {
    "execution": {
     "iopub.execute_input": "2025-08-19T18:58:06.564203Z",
     "iopub.status.busy": "2025-08-19T18:58:06.563091Z",
     "iopub.status.idle": "2025-08-19T18:58:06.816948Z",
     "shell.execute_reply": "2025-08-19T18:58:06.816116Z"
    },
    "papermill": {
     "duration": 0.267951,
     "end_time": "2025-08-19T18:58:06.818812",
     "exception": false,
     "start_time": "2025-08-19T18:58:06.550861",
     "status": "completed"
    },
    "tags": []
   },
   "outputs": [],
   "source": [
    "#siab_train = siab_s[siab_s.year < 2015]\n",
    "siab_calib = siab[siab.year == 2015]\n",
    "siab_test = siab[siab.year == 2016]"
   ]
  },
  {
   "cell_type": "code",
   "execution_count": 15,
   "id": "2c1e4012",
   "metadata": {
    "execution": {
     "iopub.execute_input": "2025-08-19T18:58:06.870982Z",
     "iopub.status.busy": "2025-08-19T18:58:06.870029Z",
     "iopub.status.idle": "2025-08-19T18:58:06.875167Z",
     "shell.execute_reply": "2025-08-19T18:58:06.874239Z"
    },
    "papermill": {
     "duration": 0.041045,
     "end_time": "2025-08-19T18:58:06.877598",
     "exception": false,
     "start_time": "2025-08-19T18:58:06.836553",
     "status": "completed"
    },
    "tags": []
   },
   "outputs": [],
   "source": [
    "#siab_calib.shape"
   ]
  },
  {
   "cell_type": "code",
   "execution_count": 16,
   "id": "f66b54ca",
   "metadata": {
    "execution": {
     "iopub.execute_input": "2025-08-19T18:58:06.914921Z",
     "iopub.status.busy": "2025-08-19T18:58:06.914492Z",
     "iopub.status.idle": "2025-08-19T18:58:06.918756Z",
     "shell.execute_reply": "2025-08-19T18:58:06.918039Z"
    },
    "papermill": {
     "duration": 0.02502,
     "end_time": "2025-08-19T18:58:06.921202",
     "exception": false,
     "start_time": "2025-08-19T18:58:06.896182",
     "status": "completed"
    },
    "tags": []
   },
   "outputs": [],
   "source": [
    "#siab_test.shape"
   ]
  },
  {
   "cell_type": "code",
   "execution_count": 17,
   "id": "27e4384d",
   "metadata": {
    "execution": {
     "iopub.execute_input": "2025-08-19T18:58:06.944117Z",
     "iopub.status.busy": "2025-08-19T18:58:06.943703Z",
     "iopub.status.idle": "2025-08-19T18:58:06.949656Z",
     "shell.execute_reply": "2025-08-19T18:58:06.948845Z"
    },
    "papermill": {
     "duration": 0.020451,
     "end_time": "2025-08-19T18:58:06.952407",
     "exception": false,
     "start_time": "2025-08-19T18:58:06.931956",
     "status": "completed"
    },
    "tags": []
   },
   "outputs": [],
   "source": [
    "X_train = siab_train.iloc[:,4:164]\n",
    "y_train = siab_train.iloc[:, [3]]"
   ]
  },
  {
   "cell_type": "code",
   "execution_count": 18,
   "id": "08ee8389",
   "metadata": {
    "execution": {
     "iopub.execute_input": "2025-08-19T18:58:06.990347Z",
     "iopub.status.busy": "2025-08-19T18:58:06.989438Z",
     "iopub.status.idle": "2025-08-19T18:58:07.045212Z",
     "shell.execute_reply": "2025-08-19T18:58:07.043852Z"
    },
    "papermill": {
     "duration": 0.074916,
     "end_time": "2025-08-19T18:58:07.049596",
     "exception": false,
     "start_time": "2025-08-19T18:58:06.974680",
     "status": "completed"
    },
    "tags": []
   },
   "outputs": [],
   "source": [
    "X_calib = siab_calib.iloc[:,4:164]\n",
    "y_calib = siab_calib.iloc[:, [3]]"
   ]
  },
  {
   "cell_type": "code",
   "execution_count": 19,
   "id": "b7ff42e0",
   "metadata": {
    "execution": {
     "iopub.execute_input": "2025-08-19T18:58:07.084381Z",
     "iopub.status.busy": "2025-08-19T18:58:07.083333Z",
     "iopub.status.idle": "2025-08-19T18:58:07.142160Z",
     "shell.execute_reply": "2025-08-19T18:58:07.140972Z"
    },
    "papermill": {
     "duration": 0.075222,
     "end_time": "2025-08-19T18:58:07.145286",
     "exception": false,
     "start_time": "2025-08-19T18:58:07.070064",
     "status": "completed"
    },
    "tags": []
   },
   "outputs": [],
   "source": [
    "X_test = siab_test.iloc[:,4:164]\n",
    "y_true = siab_test.iloc[:, [3]]"
   ]
  },
  {
   "cell_type": "code",
   "execution_count": 20,
   "id": "0275101e",
   "metadata": {
    "execution": {
     "iopub.execute_input": "2025-08-19T18:58:07.182537Z",
     "iopub.status.busy": "2025-08-19T18:58:07.181715Z",
     "iopub.status.idle": "2025-08-19T18:58:07.291153Z",
     "shell.execute_reply": "2025-08-19T18:58:07.289998Z"
    },
    "papermill": {
     "duration": 0.126603,
     "end_time": "2025-08-19T18:58:07.294211",
     "exception": false,
     "start_time": "2025-08-19T18:58:07.167608",
     "status": "completed"
    },
    "tags": []
   },
   "outputs": [],
   "source": [
    "# Auxiliary data needed downstream in the pipeline\n",
    "\n",
    "org_train = X_train.copy()\n",
    "org_test = X_test.copy()\n",
    "org_calib = X_calib.copy()"
   ]
  },
  {
   "cell_type": "markdown",
   "id": "b461e618",
   "metadata": {
    "papermill": {
     "duration": 0.012343,
     "end_time": "2025-08-19T18:58:07.330283",
     "exception": false,
     "start_time": "2025-08-19T18:58:07.317940",
     "status": "completed"
    },
    "tags": []
   },
   "source": [
    "# Preprocessing Data"
   ]
  },
  {
   "cell_type": "code",
   "execution_count": 21,
   "id": "78e74c4b",
   "metadata": {
    "execution": {
     "iopub.execute_input": "2025-08-19T18:58:07.354131Z",
     "iopub.status.busy": "2025-08-19T18:58:07.352511Z",
     "iopub.status.idle": "2025-08-19T18:58:07.368874Z",
     "shell.execute_reply": "2025-08-19T18:58:07.367922Z"
    },
    "papermill": {
     "duration": 0.030027,
     "end_time": "2025-08-19T18:58:07.370434",
     "exception": false,
     "start_time": "2025-08-19T18:58:07.340407",
     "status": "completed"
    },
    "tags": []
   },
   "outputs": [],
   "source": [
    "# EXCLUDE PROTECTED FEATURES\n",
    "# --------------------------\n",
    "\n",
    "excluded_features = universe[\"exclude_features\"].split(\"-\")\n",
    "excluded_features_dictionary = {\n",
    "    \"nationality\": [\"maxdeutsch1\", \"maxdeutsch.Missing.\"],\n",
    "    \"sex\": [\"frau1\"],\n",
    "    \"age\": [\"age\"],\n",
    "}"
   ]
  },
  {
   "cell_type": "code",
   "execution_count": 22,
   "id": "f8e63555",
   "metadata": {
    "execution": {
     "iopub.execute_input": "2025-08-19T18:58:07.408954Z",
     "iopub.status.busy": "2025-08-19T18:58:07.408464Z",
     "iopub.status.idle": "2025-08-19T18:58:07.413408Z",
     "shell.execute_reply": "2025-08-19T18:58:07.412670Z"
    },
    "papermill": {
     "duration": 0.030667,
     "end_time": "2025-08-19T18:58:07.415694",
     "exception": false,
     "start_time": "2025-08-19T18:58:07.385027",
     "status": "completed"
    },
    "tags": []
   },
   "outputs": [],
   "source": [
    "excluded_features_columns = [\n",
    "    excluded_features_dictionary[f] for f in excluded_features if len(f) > 0 and f != \"none\"\n",
    "]"
   ]
  },
  {
   "cell_type": "code",
   "execution_count": 23,
   "id": "da781f7c",
   "metadata": {
    "execution": {
     "iopub.execute_input": "2025-08-19T18:58:07.450705Z",
     "iopub.status.busy": "2025-08-19T18:58:07.449772Z",
     "iopub.status.idle": "2025-08-19T18:58:07.457804Z",
     "shell.execute_reply": "2025-08-19T18:58:07.456250Z"
    },
    "papermill": {
     "duration": 0.023145,
     "end_time": "2025-08-19T18:58:07.459295",
     "exception": false,
     "start_time": "2025-08-19T18:58:07.436150",
     "status": "completed"
    },
    "tags": []
   },
   "outputs": [],
   "source": [
    "from fairness_multiverse.universe import flatten_once\n",
    "\n",
    "excluded_features_columns = flatten_once(excluded_features_columns)"
   ]
  },
  {
   "cell_type": "code",
   "execution_count": 24,
   "id": "37fef0f0",
   "metadata": {
    "execution": {
     "iopub.execute_input": "2025-08-19T18:58:07.484772Z",
     "iopub.status.busy": "2025-08-19T18:58:07.483490Z",
     "iopub.status.idle": "2025-08-19T18:58:07.497576Z",
     "shell.execute_reply": "2025-08-19T18:58:07.495844Z"
    },
    "papermill": {
     "duration": 0.028151,
     "end_time": "2025-08-19T18:58:07.499145",
     "exception": false,
     "start_time": "2025-08-19T18:58:07.470994",
     "status": "completed"
    },
    "tags": []
   },
   "outputs": [
    {
     "name": "stdout",
     "output_type": "stream",
     "text": [
      "Dropping features: ['age']\n"
     ]
    }
   ],
   "source": [
    "if len(excluded_features_columns) > 0:\n",
    "    print(f\"Dropping features: {excluded_features_columns}\")\n",
    "    X_train.drop(excluded_features_columns, axis=1, inplace=True)"
   ]
  },
  {
   "cell_type": "code",
   "execution_count": 25,
   "id": "d029e3e9",
   "metadata": {
    "execution": {
     "iopub.execute_input": "2025-08-19T18:58:07.542826Z",
     "iopub.status.busy": "2025-08-19T18:58:07.541784Z",
     "iopub.status.idle": "2025-08-19T18:58:07.600909Z",
     "shell.execute_reply": "2025-08-19T18:58:07.600243Z"
    },
    "papermill": {
     "duration": 0.089745,
     "end_time": "2025-08-19T18:58:07.602334",
     "exception": false,
     "start_time": "2025-08-19T18:58:07.512589",
     "status": "completed"
    },
    "tags": []
   },
   "outputs": [
    {
     "name": "stdout",
     "output_type": "stream",
     "text": [
      "Dropping features: ['age']\n"
     ]
    }
   ],
   "source": [
    "if len(excluded_features_columns) > 0:\n",
    "    print(f\"Dropping features: {excluded_features_columns}\")\n",
    "    X_test.drop(excluded_features_columns, axis=1, inplace=True)"
   ]
  },
  {
   "cell_type": "code",
   "execution_count": 26,
   "id": "01d571f0",
   "metadata": {
    "execution": {
     "iopub.execute_input": "2025-08-19T18:58:07.651884Z",
     "iopub.status.busy": "2025-08-19T18:58:07.650455Z",
     "iopub.status.idle": "2025-08-19T18:58:07.707678Z",
     "shell.execute_reply": "2025-08-19T18:58:07.707032Z"
    },
    "papermill": {
     "duration": 0.094051,
     "end_time": "2025-08-19T18:58:07.712526",
     "exception": false,
     "start_time": "2025-08-19T18:58:07.618475",
     "status": "completed"
    },
    "tags": []
   },
   "outputs": [
    {
     "name": "stdout",
     "output_type": "stream",
     "text": [
      "Dropping features: ['age']\n"
     ]
    }
   ],
   "source": [
    "if len(excluded_features_columns) > 0:\n",
    "    print(f\"Dropping features: {excluded_features_columns}\")\n",
    "    X_calib.drop(excluded_features_columns, axis=1, inplace=True)"
   ]
  },
  {
   "cell_type": "code",
   "execution_count": 27,
   "id": "3037356e",
   "metadata": {
    "execution": {
     "iopub.execute_input": "2025-08-19T18:58:07.737185Z",
     "iopub.status.busy": "2025-08-19T18:58:07.736415Z",
     "iopub.status.idle": "2025-08-19T18:58:07.742984Z",
     "shell.execute_reply": "2025-08-19T18:58:07.741547Z"
    },
    "papermill": {
     "duration": 0.020378,
     "end_time": "2025-08-19T18:58:07.744330",
     "exception": false,
     "start_time": "2025-08-19T18:58:07.723952",
     "status": "completed"
    },
    "tags": []
   },
   "outputs": [],
   "source": [
    "# EXCLUDE CERTAIN SUBGROUPS\n",
    "# -------------------------\n",
    "\n",
    "mode = universe.get(\"exclude_subgroups\", \"keep-all\") # Defaults to \"keep-all\" if the key is missing."
   ]
  },
  {
   "cell_type": "code",
   "execution_count": 28,
   "id": "9d1e63fd",
   "metadata": {
    "execution": {
     "iopub.execute_input": "2025-08-19T18:58:07.772047Z",
     "iopub.status.busy": "2025-08-19T18:58:07.771086Z",
     "iopub.status.idle": "2025-08-19T18:58:07.792422Z",
     "shell.execute_reply": "2025-08-19T18:58:07.790645Z"
    },
    "papermill": {
     "duration": 0.037054,
     "end_time": "2025-08-19T18:58:07.794474",
     "exception": false,
     "start_time": "2025-08-19T18:58:07.757420",
     "status": "completed"
    },
    "tags": []
   },
   "outputs": [],
   "source": [
    "if mode == \"keep-all\":\n",
    "    keep_mask = pd.Series(True, index=org_train.index)\n",
    "\n",
    "elif mode == \"drop-non-german\":\n",
    "    keep_mask = (org_train[\"maxdeutsch1\"] == 1) & (org_train[\"maxdeutsch.Missing.\"] == 0)\n",
    "\n",
    "else:\n",
    "    raise ValueError(f\"Unsupported mode for exclude_subgroups: {mode}\")"
   ]
  },
  {
   "cell_type": "code",
   "execution_count": 29,
   "id": "d3b65474",
   "metadata": {
    "execution": {
     "iopub.execute_input": "2025-08-19T18:58:07.832226Z",
     "iopub.status.busy": "2025-08-19T18:58:07.831883Z",
     "iopub.status.idle": "2025-08-19T18:58:07.838729Z",
     "shell.execute_reply": "2025-08-19T18:58:07.837568Z"
    },
    "papermill": {
     "duration": 0.02143,
     "end_time": "2025-08-19T18:58:07.840155",
     "exception": false,
     "start_time": "2025-08-19T18:58:07.818725",
     "status": "completed"
    },
    "tags": []
   },
   "outputs": [],
   "source": [
    "n_drop = (~keep_mask).sum() # Calculates how many rows are set to be dropped\n",
    "if n_drop > 0:\n",
    "    pct = n_drop / len(keep_mask) * 100\n",
    "    print(f\"Dropping {n_drop} rows ({pct:.2f}%) where mode='{mode}'\")"
   ]
  },
  {
   "cell_type": "code",
   "execution_count": 30,
   "id": "f44389b3",
   "metadata": {
    "execution": {
     "iopub.execute_input": "2025-08-19T18:58:07.866270Z",
     "iopub.status.busy": "2025-08-19T18:58:07.865138Z",
     "iopub.status.idle": "2025-08-19T18:58:07.872413Z",
     "shell.execute_reply": "2025-08-19T18:58:07.871338Z"
    },
    "papermill": {
     "duration": 0.020666,
     "end_time": "2025-08-19T18:58:07.873626",
     "exception": false,
     "start_time": "2025-08-19T18:58:07.852960",
     "status": "completed"
    },
    "tags": []
   },
   "outputs": [],
   "source": [
    "X_train = X_train[keep_mask]"
   ]
  },
  {
   "cell_type": "code",
   "execution_count": 31,
   "id": "ceca8c2a",
   "metadata": {
    "execution": {
     "iopub.execute_input": "2025-08-19T18:58:07.899558Z",
     "iopub.status.busy": "2025-08-19T18:58:07.898458Z",
     "iopub.status.idle": "2025-08-19T18:58:07.908689Z",
     "shell.execute_reply": "2025-08-19T18:58:07.906812Z"
    },
    "papermill": {
     "duration": 0.024769,
     "end_time": "2025-08-19T18:58:07.910343",
     "exception": false,
     "start_time": "2025-08-19T18:58:07.885574",
     "status": "completed"
    },
    "tags": []
   },
   "outputs": [],
   "source": [
    "y_train = y_train[keep_mask]"
   ]
  },
  {
   "cell_type": "markdown",
   "id": "04d31e2f",
   "metadata": {
    "papermill": {
     "duration": 0.010908,
     "end_time": "2025-08-19T18:58:07.934836",
     "exception": false,
     "start_time": "2025-08-19T18:58:07.923928",
     "status": "completed"
    },
    "tags": []
   },
   "source": [
    "# Model Training"
   ]
  },
  {
   "cell_type": "code",
   "execution_count": 32,
   "id": "db991733",
   "metadata": {
    "execution": {
     "iopub.execute_input": "2025-08-19T18:58:07.958795Z",
     "iopub.status.busy": "2025-08-19T18:58:07.957576Z",
     "iopub.status.idle": "2025-08-19T18:58:08.070750Z",
     "shell.execute_reply": "2025-08-19T18:58:08.069940Z"
    },
    "papermill": {
     "duration": 0.128039,
     "end_time": "2025-08-19T18:58:08.073358",
     "exception": false,
     "start_time": "2025-08-19T18:58:07.945319",
     "status": "completed"
    },
    "tags": []
   },
   "outputs": [],
   "source": [
    "from sklearn.linear_model import LogisticRegression\n",
    "from sklearn.ensemble import GradientBoostingClassifier, RandomForestClassifier\n",
    "\n",
    "if (universe[\"model\"] == \"logreg\"):\n",
    "    model = LogisticRegression() #penalty=\"none\", solver=\"newton-cg\", max_iter=1)\n",
    "elif (universe[\"model\"] == \"penalized_logreg\"):\n",
    "    model = LogisticRegression(penalty=\"l2\", C=0.1) #, solver=\"newton-cg\", max_iter=1)\n",
    "elif (universe[\"model\"] == \"rf\"):\n",
    "    model = RandomForestClassifier() # n_estimators=100, n_jobs=-1\n",
    "elif (universe[\"model\"] == \"gbm\"):\n",
    "    model = GradientBoostingClassifier()\n",
    "elif (universe[\"model\"] == \"elasticnet\"):\n",
    "    model = LogisticRegression(penalty = 'elasticnet', solver = 'saga', l1_ratio = 0.5) # max_iter=5000\n",
    "else:\n",
    "    raise \"Unsupported universe.model\""
   ]
  },
  {
   "cell_type": "code",
   "execution_count": 33,
   "id": "a4b5cd25",
   "metadata": {
    "execution": {
     "iopub.execute_input": "2025-08-19T18:58:08.114157Z",
     "iopub.status.busy": "2025-08-19T18:58:08.112945Z",
     "iopub.status.idle": "2025-08-19T18:58:08.123575Z",
     "shell.execute_reply": "2025-08-19T18:58:08.121803Z"
    },
    "papermill": {
     "duration": 0.026863,
     "end_time": "2025-08-19T18:58:08.125222",
     "exception": false,
     "start_time": "2025-08-19T18:58:08.098359",
     "status": "completed"
    },
    "tags": []
   },
   "outputs": [],
   "source": [
    "from sklearn.pipeline import Pipeline\n",
    "from sklearn.preprocessing import StandardScaler\n",
    "\n",
    "model = Pipeline([\n",
    "    #(\"continuous_processor\", continuous_processor),\n",
    "    #(\"categorical_preprocessor\", categorical_preprocessor),\n",
    "    (\"scale\", StandardScaler() if universe[\"scale\"] == \"scale\" else None), \n",
    "    (\"model\", model),\n",
    "])"
   ]
  },
  {
   "cell_type": "code",
   "execution_count": 34,
   "id": "283a904d",
   "metadata": {
    "execution": {
     "iopub.execute_input": "2025-08-19T18:58:08.154455Z",
     "iopub.status.busy": "2025-08-19T18:58:08.153252Z",
     "iopub.status.idle": "2025-08-19T18:58:08.206003Z",
     "shell.execute_reply": "2025-08-19T18:58:08.205348Z"
    },
    "papermill": {
     "duration": 0.068244,
     "end_time": "2025-08-19T18:58:08.208802",
     "exception": false,
     "start_time": "2025-08-19T18:58:08.140558",
     "status": "completed"
    },
    "tags": []
   },
   "outputs": [
    {
     "data": {
      "text/html": [
       "<style>#sk-container-id-1 {color: black;background-color: white;}#sk-container-id-1 pre{padding: 0;}#sk-container-id-1 div.sk-toggleable {background-color: white;}#sk-container-id-1 label.sk-toggleable__label {cursor: pointer;display: block;width: 100%;margin-bottom: 0;padding: 0.3em;box-sizing: border-box;text-align: center;}#sk-container-id-1 label.sk-toggleable__label-arrow:before {content: \"▸\";float: left;margin-right: 0.25em;color: #696969;}#sk-container-id-1 label.sk-toggleable__label-arrow:hover:before {color: black;}#sk-container-id-1 div.sk-estimator:hover label.sk-toggleable__label-arrow:before {color: black;}#sk-container-id-1 div.sk-toggleable__content {max-height: 0;max-width: 0;overflow: hidden;text-align: left;background-color: #f0f8ff;}#sk-container-id-1 div.sk-toggleable__content pre {margin: 0.2em;color: black;border-radius: 0.25em;background-color: #f0f8ff;}#sk-container-id-1 input.sk-toggleable__control:checked~div.sk-toggleable__content {max-height: 200px;max-width: 100%;overflow: auto;}#sk-container-id-1 input.sk-toggleable__control:checked~label.sk-toggleable__label-arrow:before {content: \"▾\";}#sk-container-id-1 div.sk-estimator input.sk-toggleable__control:checked~label.sk-toggleable__label {background-color: #d4ebff;}#sk-container-id-1 div.sk-label input.sk-toggleable__control:checked~label.sk-toggleable__label {background-color: #d4ebff;}#sk-container-id-1 input.sk-hidden--visually {border: 0;clip: rect(1px 1px 1px 1px);clip: rect(1px, 1px, 1px, 1px);height: 1px;margin: -1px;overflow: hidden;padding: 0;position: absolute;width: 1px;}#sk-container-id-1 div.sk-estimator {font-family: monospace;background-color: #f0f8ff;border: 1px dotted black;border-radius: 0.25em;box-sizing: border-box;margin-bottom: 0.5em;}#sk-container-id-1 div.sk-estimator:hover {background-color: #d4ebff;}#sk-container-id-1 div.sk-parallel-item::after {content: \"\";width: 100%;border-bottom: 1px solid gray;flex-grow: 1;}#sk-container-id-1 div.sk-label:hover label.sk-toggleable__label {background-color: #d4ebff;}#sk-container-id-1 div.sk-serial::before {content: \"\";position: absolute;border-left: 1px solid gray;box-sizing: border-box;top: 0;bottom: 0;left: 50%;z-index: 0;}#sk-container-id-1 div.sk-serial {display: flex;flex-direction: column;align-items: center;background-color: white;padding-right: 0.2em;padding-left: 0.2em;position: relative;}#sk-container-id-1 div.sk-item {position: relative;z-index: 1;}#sk-container-id-1 div.sk-parallel {display: flex;align-items: stretch;justify-content: center;background-color: white;position: relative;}#sk-container-id-1 div.sk-item::before, #sk-container-id-1 div.sk-parallel-item::before {content: \"\";position: absolute;border-left: 1px solid gray;box-sizing: border-box;top: 0;bottom: 0;left: 50%;z-index: -1;}#sk-container-id-1 div.sk-parallel-item {display: flex;flex-direction: column;z-index: 1;position: relative;background-color: white;}#sk-container-id-1 div.sk-parallel-item:first-child::after {align-self: flex-end;width: 50%;}#sk-container-id-1 div.sk-parallel-item:last-child::after {align-self: flex-start;width: 50%;}#sk-container-id-1 div.sk-parallel-item:only-child::after {width: 0;}#sk-container-id-1 div.sk-dashed-wrapped {border: 1px dashed gray;margin: 0 0.4em 0.5em 0.4em;box-sizing: border-box;padding-bottom: 0.4em;background-color: white;}#sk-container-id-1 div.sk-label label {font-family: monospace;font-weight: bold;display: inline-block;line-height: 1.2em;}#sk-container-id-1 div.sk-label-container {text-align: center;}#sk-container-id-1 div.sk-container {/* jupyter's `normalize.less` sets `[hidden] { display: none; }` but bootstrap.min.css set `[hidden] { display: none !important; }` so we also need the `!important` here to be able to override the default hidden behavior on the sphinx rendered scikit-learn.org. See: https://github.com/scikit-learn/scikit-learn/issues/21755 */display: inline-block !important;position: relative;}#sk-container-id-1 div.sk-text-repr-fallback {display: none;}</style><div id=\"sk-container-id-1\" class=\"sk-top-container\"><div class=\"sk-text-repr-fallback\"><pre>Pipeline(steps=[(&#x27;scale&#x27;, StandardScaler()),\n",
       "                (&#x27;model&#x27;, LogisticRegression(C=0.1))])</pre><b>In a Jupyter environment, please rerun this cell to show the HTML representation or trust the notebook. <br />On GitHub, the HTML representation is unable to render, please try loading this page with nbviewer.org.</b></div><div class=\"sk-container\" hidden><div class=\"sk-item sk-dashed-wrapped\"><div class=\"sk-label-container\"><div class=\"sk-label sk-toggleable\"><input class=\"sk-toggleable__control sk-hidden--visually\" id=\"sk-estimator-id-1\" type=\"checkbox\" ><label for=\"sk-estimator-id-1\" class=\"sk-toggleable__label sk-toggleable__label-arrow\">Pipeline</label><div class=\"sk-toggleable__content\"><pre>Pipeline(steps=[(&#x27;scale&#x27;, StandardScaler()),\n",
       "                (&#x27;model&#x27;, LogisticRegression(C=0.1))])</pre></div></div></div><div class=\"sk-serial\"><div class=\"sk-item\"><div class=\"sk-estimator sk-toggleable\"><input class=\"sk-toggleable__control sk-hidden--visually\" id=\"sk-estimator-id-2\" type=\"checkbox\" ><label for=\"sk-estimator-id-2\" class=\"sk-toggleable__label sk-toggleable__label-arrow\">StandardScaler</label><div class=\"sk-toggleable__content\"><pre>StandardScaler()</pre></div></div></div><div class=\"sk-item\"><div class=\"sk-estimator sk-toggleable\"><input class=\"sk-toggleable__control sk-hidden--visually\" id=\"sk-estimator-id-3\" type=\"checkbox\" ><label for=\"sk-estimator-id-3\" class=\"sk-toggleable__label sk-toggleable__label-arrow\">LogisticRegression</label><div class=\"sk-toggleable__content\"><pre>LogisticRegression(C=0.1)</pre></div></div></div></div></div></div></div>"
      ],
      "text/plain": [
       "Pipeline(steps=[('scale', StandardScaler()),\n",
       "                ('model', LogisticRegression(C=0.1))])"
      ]
     },
     "execution_count": 34,
     "metadata": {},
     "output_type": "execute_result"
    }
   ],
   "source": [
    "model.fit(X_train, y_train.values.ravel())"
   ]
  },
  {
   "cell_type": "code",
   "execution_count": 35,
   "id": "6e15e313",
   "metadata": {
    "execution": {
     "iopub.execute_input": "2025-08-19T18:58:08.248451Z",
     "iopub.status.busy": "2025-08-19T18:58:08.247257Z",
     "iopub.status.idle": "2025-08-19T18:58:08.455902Z",
     "shell.execute_reply": "2025-08-19T18:58:08.455128Z"
    },
    "papermill": {
     "duration": 0.225383,
     "end_time": "2025-08-19T18:58:08.458460",
     "exception": false,
     "start_time": "2025-08-19T18:58:08.233077",
     "status": "completed"
    },
    "tags": []
   },
   "outputs": [
    {
     "data": {
      "text/plain": [
       "0.840363393155724"
      ]
     },
     "execution_count": 35,
     "metadata": {},
     "output_type": "execute_result"
    }
   ],
   "source": [
    "from fairness_multiverse.universe import predict_w_threshold\n",
    "\n",
    "probs_test = model.predict_proba(X_test)\n",
    "\n",
    "'''\n",
    "Below code returns a boolean array (or binary 0/1 array depending on how it’s used) where each element \n",
    "is True if the probability of class 1 is greater than or equal to the threshold, and False otherwise.\n",
    "'''\n",
    "y_pred_default = predict_w_threshold(probs_test, 0.5)\n",
    "\n",
    "from sklearn.metrics import accuracy_score\n",
    "\n",
    "# Naive prediction\n",
    "accuracy_score(y_true = y_true, y_pred = y_pred_default)"
   ]
  },
  {
   "cell_type": "code",
   "execution_count": 36,
   "id": "6f14067c",
   "metadata": {
    "execution": {
     "iopub.execute_input": "2025-08-19T18:58:08.499692Z",
     "iopub.status.busy": "2025-08-19T18:58:08.499176Z",
     "iopub.status.idle": "2025-08-19T18:58:08.678460Z",
     "shell.execute_reply": "2025-08-19T18:58:08.677388Z"
    },
    "papermill": {
     "duration": 0.195585,
     "end_time": "2025-08-19T18:58:08.680987",
     "exception": false,
     "start_time": "2025-08-19T18:58:08.485402",
     "status": "completed"
    },
    "tags": []
   },
   "outputs": [
    {
     "data": {
      "text/plain": [
       "array([0, 0, 0, ..., 0, 0, 0])"
      ]
     },
     "execution_count": 36,
     "metadata": {},
     "output_type": "execute_result"
    }
   ],
   "source": [
    "model.predict(X_test)"
   ]
  },
  {
   "cell_type": "markdown",
   "id": "3759920c",
   "metadata": {
    "papermill": {
     "duration": 0.012407,
     "end_time": "2025-08-19T18:58:08.718181",
     "exception": false,
     "start_time": "2025-08-19T18:58:08.705774",
     "status": "completed"
    },
    "tags": []
   },
   "source": [
    "# Conformal Prediction"
   ]
  },
  {
   "cell_type": "code",
   "execution_count": 37,
   "id": "14b27f59",
   "metadata": {
    "execution": {
     "iopub.execute_input": "2025-08-19T18:58:08.743135Z",
     "iopub.status.busy": "2025-08-19T18:58:08.741866Z",
     "iopub.status.idle": "2025-08-19T18:58:08.763558Z",
     "shell.execute_reply": "2025-08-19T18:58:08.761871Z"
    },
    "papermill": {
     "duration": 0.036562,
     "end_time": "2025-08-19T18:58:08.765795",
     "exception": false,
     "start_time": "2025-08-19T18:58:08.729233",
     "status": "completed"
    },
    "tags": []
   },
   "outputs": [],
   "source": [
    "# Miscoverage level for conformal prediction (10% allowed error rate => 90% target coverage)\n",
    "alpha = 0.1"
   ]
  },
  {
   "cell_type": "code",
   "execution_count": 38,
   "id": "59102472",
   "metadata": {
    "execution": {
     "iopub.execute_input": "2025-08-19T18:58:08.809860Z",
     "iopub.status.busy": "2025-08-19T18:58:08.808790Z",
     "iopub.status.idle": "2025-08-19T18:58:08.989567Z",
     "shell.execute_reply": "2025-08-19T18:58:08.988500Z"
    },
    "papermill": {
     "duration": 0.202375,
     "end_time": "2025-08-19T18:58:08.991310",
     "exception": false,
     "start_time": "2025-08-19T18:58:08.788935",
     "status": "completed"
    },
    "tags": []
   },
   "outputs": [],
   "source": [
    "probs_calib = model.predict_proba(X_calib)"
   ]
  },
  {
   "cell_type": "code",
   "execution_count": 39,
   "id": "a792d4dd",
   "metadata": {
    "execution": {
     "iopub.execute_input": "2025-08-19T18:58:09.016515Z",
     "iopub.status.busy": "2025-08-19T18:58:09.015755Z",
     "iopub.status.idle": "2025-08-19T18:58:09.021444Z",
     "shell.execute_reply": "2025-08-19T18:58:09.020452Z"
    },
    "papermill": {
     "duration": 0.019591,
     "end_time": "2025-08-19T18:58:09.022796",
     "exception": false,
     "start_time": "2025-08-19T18:58:09.003205",
     "status": "completed"
    },
    "tags": []
   },
   "outputs": [],
   "source": [
    "y_calib = y_calib.values.ravel().astype(int)"
   ]
  },
  {
   "cell_type": "code",
   "execution_count": 40,
   "id": "650fd033",
   "metadata": {
    "execution": {
     "iopub.execute_input": "2025-08-19T18:58:09.047647Z",
     "iopub.status.busy": "2025-08-19T18:58:09.046961Z",
     "iopub.status.idle": "2025-08-19T18:58:09.055689Z",
     "shell.execute_reply": "2025-08-19T18:58:09.054797Z"
    },
    "papermill": {
     "duration": 0.022506,
     "end_time": "2025-08-19T18:58:09.057055",
     "exception": false,
     "start_time": "2025-08-19T18:58:09.034549",
     "status": "completed"
    },
    "tags": []
   },
   "outputs": [],
   "source": [
    "from fairness_multiverse.conformal import compute_nc_scores\n",
    "\n",
    "# Compute nonconformity scores on calibration set (1 - probability of true class)\n",
    "nc_scores = compute_nc_scores(probs_calib, y_calib)"
   ]
  },
  {
   "cell_type": "code",
   "execution_count": 41,
   "id": "28ada44c",
   "metadata": {
    "execution": {
     "iopub.execute_input": "2025-08-19T18:58:09.081910Z",
     "iopub.status.busy": "2025-08-19T18:58:09.081115Z",
     "iopub.status.idle": "2025-08-19T18:58:09.091776Z",
     "shell.execute_reply": "2025-08-19T18:58:09.090392Z"
    },
    "papermill": {
     "duration": 0.024864,
     "end_time": "2025-08-19T18:58:09.093603",
     "exception": false,
     "start_time": "2025-08-19T18:58:09.068739",
     "status": "completed"
    },
    "tags": []
   },
   "outputs": [],
   "source": [
    "from fairness_multiverse.conformal import find_threshold\n",
    "\n",
    "# Find conformal threshold q_hat for the given alpha (split conformal method)\n",
    "q_hat = find_threshold(nc_scores, alpha)"
   ]
  },
  {
   "cell_type": "code",
   "execution_count": 42,
   "id": "df56469e",
   "metadata": {
    "execution": {
     "iopub.execute_input": "2025-08-19T18:58:09.124874Z",
     "iopub.status.busy": "2025-08-19T18:58:09.123920Z",
     "iopub.status.idle": "2025-08-19T18:58:09.133712Z",
     "shell.execute_reply": "2025-08-19T18:58:09.132500Z"
    },
    "papermill": {
     "duration": 0.024655,
     "end_time": "2025-08-19T18:58:09.135404",
     "exception": false,
     "start_time": "2025-08-19T18:58:09.110749",
     "status": "completed"
    },
    "tags": []
   },
   "outputs": [
    {
     "data": {
      "text/plain": [
       "0.7578490288754202"
      ]
     },
     "execution_count": 42,
     "metadata": {},
     "output_type": "execute_result"
    }
   ],
   "source": [
    "q_hat"
   ]
  },
  {
   "cell_type": "code",
   "execution_count": 43,
   "id": "aa1f5faa",
   "metadata": {
    "execution": {
     "iopub.execute_input": "2025-08-19T18:58:09.177663Z",
     "iopub.status.busy": "2025-08-19T18:58:09.176150Z",
     "iopub.status.idle": "2025-08-19T18:58:09.791568Z",
     "shell.execute_reply": "2025-08-19T18:58:09.790900Z"
    },
    "papermill": {
     "duration": 0.643355,
     "end_time": "2025-08-19T18:58:09.793286",
     "exception": false,
     "start_time": "2025-08-19T18:58:09.149931",
     "status": "completed"
    },
    "tags": []
   },
   "outputs": [],
   "source": [
    "from fairness_multiverse.conformal import predict_conformal_sets\n",
    "\n",
    "# Generate prediction sets for each test example\n",
    "pred_sets = predict_conformal_sets(model, X_test, q_hat)"
   ]
  },
  {
   "cell_type": "code",
   "execution_count": 44,
   "id": "97f67a6b",
   "metadata": {
    "execution": {
     "iopub.execute_input": "2025-08-19T18:58:09.822155Z",
     "iopub.status.busy": "2025-08-19T18:58:09.821095Z",
     "iopub.status.idle": "2025-08-19T18:58:09.826861Z",
     "shell.execute_reply": "2025-08-19T18:58:09.825941Z"
    },
    "papermill": {
     "duration": 0.020155,
     "end_time": "2025-08-19T18:58:09.828087",
     "exception": false,
     "start_time": "2025-08-19T18:58:09.807932",
     "status": "completed"
    },
    "tags": []
   },
   "outputs": [],
   "source": [
    "y_true = y_true.squeeze()"
   ]
  },
  {
   "cell_type": "code",
   "execution_count": 45,
   "id": "e700e9a7",
   "metadata": {
    "execution": {
     "iopub.execute_input": "2025-08-19T18:58:09.856206Z",
     "iopub.status.busy": "2025-08-19T18:58:09.855538Z",
     "iopub.status.idle": "2025-08-19T18:58:10.342892Z",
     "shell.execute_reply": "2025-08-19T18:58:10.341624Z"
    },
    "papermill": {
     "duration": 0.5031,
     "end_time": "2025-08-19T18:58:10.345608",
     "exception": false,
     "start_time": "2025-08-19T18:58:09.842508",
     "status": "completed"
    },
    "tags": []
   },
   "outputs": [],
   "source": [
    "from fairness_multiverse.conformal import evaluate_sets\n",
    "\n",
    "# Evaluate coverage and average set size on test data\n",
    "metrics = evaluate_sets(pred_sets, y_true)"
   ]
  },
  {
   "cell_type": "markdown",
   "id": "efbacec0",
   "metadata": {
    "papermill": {
     "duration": 0.011921,
     "end_time": "2025-08-19T18:58:10.374958",
     "exception": false,
     "start_time": "2025-08-19T18:58:10.363037",
     "status": "completed"
    },
    "tags": []
   },
   "source": [
    "# CP Metrics"
   ]
  },
  {
   "cell_type": "code",
   "execution_count": 46,
   "id": "9de55fb1",
   "metadata": {
    "execution": {
     "iopub.execute_input": "2025-08-19T18:58:10.400071Z",
     "iopub.status.busy": "2025-08-19T18:58:10.399747Z",
     "iopub.status.idle": "2025-08-19T18:58:10.408167Z",
     "shell.execute_reply": "2025-08-19T18:58:10.407037Z"
    },
    "papermill": {
     "duration": 0.02282,
     "end_time": "2025-08-19T18:58:10.409366",
     "exception": false,
     "start_time": "2025-08-19T18:58:10.386546",
     "status": "completed"
    },
    "tags": []
   },
   "outputs": [
    {
     "data": {
      "text/plain": [
       "{'coverage': 0.9107345892319697, 'avg_size': 1.2026975810946383}"
      ]
     },
     "execution_count": 46,
     "metadata": {},
     "output_type": "execute_result"
    }
   ],
   "source": [
    "metrics"
   ]
  },
  {
   "cell_type": "code",
   "execution_count": 47,
   "id": "64c340a1",
   "metadata": {
    "execution": {
     "iopub.execute_input": "2025-08-19T18:58:10.435009Z",
     "iopub.status.busy": "2025-08-19T18:58:10.434155Z",
     "iopub.status.idle": "2025-08-19T18:58:10.442538Z",
     "shell.execute_reply": "2025-08-19T18:58:10.441217Z"
    },
    "papermill": {
     "duration": 0.022591,
     "end_time": "2025-08-19T18:58:10.443875",
     "exception": false,
     "start_time": "2025-08-19T18:58:10.421284",
     "status": "completed"
    },
    "tags": []
   },
   "outputs": [],
   "source": [
    "example_universe = universe.copy()\n",
    "universe_training_year = example_universe.get(\"training_year\")\n",
    "universe_training_size = example_universe.get(\"training_size\")\n",
    "universe_scale = example_universe.get(\"scale\")\n",
    "universe_model = example_universe.get(\"model\")\n",
    "universe_exclude_features = example_universe.get(\"exclude_features\")\n",
    "universe_exclude_subgroups = example_universe.get(\"exclude_subgroups\")"
   ]
  },
  {
   "cell_type": "code",
   "execution_count": 48,
   "id": "dbb53cb4",
   "metadata": {
    "execution": {
     "iopub.execute_input": "2025-08-19T18:58:10.472696Z",
     "iopub.status.busy": "2025-08-19T18:58:10.471645Z",
     "iopub.status.idle": "2025-08-19T18:58:10.482784Z",
     "shell.execute_reply": "2025-08-19T18:58:10.481161Z"
    },
    "papermill": {
     "duration": 0.025819,
     "end_time": "2025-08-19T18:58:10.484192",
     "exception": false,
     "start_time": "2025-08-19T18:58:10.458373",
     "status": "completed"
    },
    "tags": []
   },
   "outputs": [],
   "source": [
    "cp_metrics_dict = {\n",
    "    \"universe_id\": [universe_id],\n",
    "    \"universe_training_year\": [universe_training_year],\n",
    "    \"universe_training_size\": [universe_training_size],\n",
    "    \"universe_scale\": [universe_scale],\n",
    "    \"universe_model\": [universe_model],\n",
    "    \"universe_exclude_features\": [universe_exclude_features],\n",
    "    \"universe_exclude_subgroups\": [universe_exclude_subgroups],\n",
    "    \"q_hat\": [q_hat],\n",
    "    \"coverage\": [metrics[\"coverage\"]],\n",
    "    \"avg_size\": [metrics[\"avg_size\"]],\n",
    "}"
   ]
  },
  {
   "cell_type": "code",
   "execution_count": 49,
   "id": "0d70d4b2",
   "metadata": {
    "execution": {
     "iopub.execute_input": "2025-08-19T18:58:10.512977Z",
     "iopub.status.busy": "2025-08-19T18:58:10.511977Z",
     "iopub.status.idle": "2025-08-19T18:58:10.522906Z",
     "shell.execute_reply": "2025-08-19T18:58:10.521210Z"
    },
    "papermill": {
     "duration": 0.02572,
     "end_time": "2025-08-19T18:58:10.524388",
     "exception": false,
     "start_time": "2025-08-19T18:58:10.498668",
     "status": "completed"
    },
    "tags": []
   },
   "outputs": [],
   "source": [
    "cp_metrics_df = pd.DataFrame(cp_metrics_dict)"
   ]
  },
  {
   "cell_type": "code",
   "execution_count": 50,
   "id": "b494403c",
   "metadata": {
    "execution": {
     "iopub.execute_input": "2025-08-19T18:58:10.554086Z",
     "iopub.status.busy": "2025-08-19T18:58:10.552843Z",
     "iopub.status.idle": "2025-08-19T18:58:10.576773Z",
     "shell.execute_reply": "2025-08-19T18:58:10.575601Z"
    },
    "papermill": {
     "duration": 0.039403,
     "end_time": "2025-08-19T18:58:10.578448",
     "exception": false,
     "start_time": "2025-08-19T18:58:10.539045",
     "status": "completed"
    },
    "tags": []
   },
   "outputs": [
    {
     "data": {
      "text/html": [
       "<div>\n",
       "<style scoped>\n",
       "    .dataframe tbody tr th:only-of-type {\n",
       "        vertical-align: middle;\n",
       "    }\n",
       "\n",
       "    .dataframe tbody tr th {\n",
       "        vertical-align: top;\n",
       "    }\n",
       "\n",
       "    .dataframe thead th {\n",
       "        text-align: right;\n",
       "    }\n",
       "</style>\n",
       "<table border=\"1\" class=\"dataframe\">\n",
       "  <thead>\n",
       "    <tr style=\"text-align: right;\">\n",
       "      <th></th>\n",
       "      <th>universe_id</th>\n",
       "      <th>universe_training_year</th>\n",
       "      <th>universe_training_size</th>\n",
       "      <th>universe_scale</th>\n",
       "      <th>universe_model</th>\n",
       "      <th>universe_exclude_features</th>\n",
       "      <th>universe_exclude_subgroups</th>\n",
       "      <th>q_hat</th>\n",
       "      <th>coverage</th>\n",
       "      <th>avg_size</th>\n",
       "    </tr>\n",
       "  </thead>\n",
       "  <tbody>\n",
       "    <tr>\n",
       "      <th>0</th>\n",
       "      <td>052512b8c189f528067f5a0c51afcac7</td>\n",
       "      <td>2012_14</td>\n",
       "      <td>1k</td>\n",
       "      <td>scale</td>\n",
       "      <td>penalized_logreg</td>\n",
       "      <td>age</td>\n",
       "      <td>keep-all</td>\n",
       "      <td>0.757849</td>\n",
       "      <td>0.910735</td>\n",
       "      <td>1.202698</td>\n",
       "    </tr>\n",
       "  </tbody>\n",
       "</table>\n",
       "</div>"
      ],
      "text/plain": [
       "                        universe_id universe_training_year  \\\n",
       "0  052512b8c189f528067f5a0c51afcac7                2012_14   \n",
       "\n",
       "  universe_training_size universe_scale    universe_model  \\\n",
       "0                     1k          scale  penalized_logreg   \n",
       "\n",
       "  universe_exclude_features universe_exclude_subgroups     q_hat  coverage  \\\n",
       "0                       age                   keep-all  0.757849  0.910735   \n",
       "\n",
       "   avg_size  \n",
       "0  1.202698  "
      ]
     },
     "execution_count": 50,
     "metadata": {},
     "output_type": "execute_result"
    }
   ],
   "source": [
    "cp_metrics_df"
   ]
  },
  {
   "cell_type": "markdown",
   "id": "ed608b0b",
   "metadata": {
    "papermill": {
     "duration": 0.012314,
     "end_time": "2025-08-19T18:58:10.610460",
     "exception": false,
     "start_time": "2025-08-19T18:58:10.598146",
     "status": "completed"
    },
    "tags": []
   },
   "source": [
    "Conditional coverage & looking at subgroups"
   ]
  },
  {
   "cell_type": "code",
   "execution_count": 51,
   "id": "8968c366",
   "metadata": {
    "execution": {
     "iopub.execute_input": "2025-08-19T18:58:10.637222Z",
     "iopub.status.busy": "2025-08-19T18:58:10.635773Z",
     "iopub.status.idle": "2025-08-19T18:58:10.928273Z",
     "shell.execute_reply": "2025-08-19T18:58:10.927490Z"
    },
    "papermill": {
     "duration": 0.307503,
     "end_time": "2025-08-19T18:58:10.929746",
     "exception": false,
     "start_time": "2025-08-19T18:58:10.622243",
     "status": "completed"
    },
    "tags": []
   },
   "outputs": [],
   "source": [
    "from fairness_multiverse.conformal import build_cp_groups\n",
    "\n",
    "cp_groups_df = build_cp_groups(pred_sets, y_true, X_test.index, org_test)"
   ]
  },
  {
   "cell_type": "code",
   "execution_count": 52,
   "id": "292ddabf",
   "metadata": {
    "execution": {
     "iopub.execute_input": "2025-08-19T18:58:10.956295Z",
     "iopub.status.busy": "2025-08-19T18:58:10.955786Z",
     "iopub.status.idle": "2025-08-19T18:58:11.876522Z",
     "shell.execute_reply": "2025-08-19T18:58:11.875381Z"
    },
    "papermill": {
     "duration": 0.935957,
     "end_time": "2025-08-19T18:58:11.878083",
     "exception": false,
     "start_time": "2025-08-19T18:58:10.942126",
     "status": "completed"
    },
    "tags": []
   },
   "outputs": [],
   "source": [
    "# Define covered = 1 if true_label is in the predicted set\n",
    "cp_groups_df['covered'] = cp_groups_df.apply(\n",
    "    lambda r: int(r['true_label'] in r['pred_set']),\n",
    "    axis=1\n",
    ")"
   ]
  },
  {
   "cell_type": "code",
   "execution_count": 53,
   "id": "3a261692",
   "metadata": {
    "execution": {
     "iopub.execute_input": "2025-08-19T18:58:11.922240Z",
     "iopub.status.busy": "2025-08-19T18:58:11.920950Z",
     "iopub.status.idle": "2025-08-19T18:58:11.943187Z",
     "shell.execute_reply": "2025-08-19T18:58:11.941949Z"
    },
    "papermill": {
     "duration": 0.044452,
     "end_time": "2025-08-19T18:58:11.945647",
     "exception": false,
     "start_time": "2025-08-19T18:58:11.901195",
     "status": "completed"
    },
    "tags": []
   },
   "outputs": [],
   "source": [
    "subgroups = ['frau1','nongerman','nongerman_male','nongerman_female']\n",
    "\n",
    "# Conditional coverage for subgroup==1\n",
    "cond_coverage = {\n",
    "    g: cp_groups_df.loc[cp_groups_df[g]==1, 'covered'].mean()\n",
    "    for g in subgroups\n",
    "}"
   ]
  },
  {
   "cell_type": "code",
   "execution_count": 54,
   "id": "894fd600",
   "metadata": {
    "execution": {
     "iopub.execute_input": "2025-08-19T18:58:11.976990Z",
     "iopub.status.busy": "2025-08-19T18:58:11.976548Z",
     "iopub.status.idle": "2025-08-19T18:58:11.982135Z",
     "shell.execute_reply": "2025-08-19T18:58:11.981500Z"
    },
    "papermill": {
     "duration": 0.028121,
     "end_time": "2025-08-19T18:58:11.989640",
     "exception": false,
     "start_time": "2025-08-19T18:58:11.961519",
     "status": "completed"
    },
    "tags": []
   },
   "outputs": [
    {
     "data": {
      "text/plain": [
       "{'frau1': 0.9030866693624477,\n",
       " 'nongerman': 0.913770841520238,\n",
       " 'nongerman_male': 0.932090426010988,\n",
       " 'nongerman_female': 0.8834575260804769}"
      ]
     },
     "execution_count": 54,
     "metadata": {},
     "output_type": "execute_result"
    }
   ],
   "source": [
    "cond_coverage"
   ]
  },
  {
   "cell_type": "code",
   "execution_count": 55,
   "id": "942895c7",
   "metadata": {
    "execution": {
     "iopub.execute_input": "2025-08-19T18:58:12.028228Z",
     "iopub.status.busy": "2025-08-19T18:58:12.027144Z",
     "iopub.status.idle": "2025-08-19T18:58:12.039373Z",
     "shell.execute_reply": "2025-08-19T18:58:12.037846Z"
    },
    "papermill": {
     "duration": 0.02815,
     "end_time": "2025-08-19T18:58:12.041066",
     "exception": false,
     "start_time": "2025-08-19T18:58:12.012916",
     "status": "completed"
    },
    "tags": []
   },
   "outputs": [],
   "source": [
    "for subgroup, cov in cond_coverage.items():\n",
    "    cp_metrics_df[f\"cov_{subgroup}\"] = cov"
   ]
  },
  {
   "cell_type": "code",
   "execution_count": 56,
   "id": "3970120f",
   "metadata": {
    "execution": {
     "iopub.execute_input": "2025-08-19T18:58:12.073029Z",
     "iopub.status.busy": "2025-08-19T18:58:12.071719Z",
     "iopub.status.idle": "2025-08-19T18:58:12.097627Z",
     "shell.execute_reply": "2025-08-19T18:58:12.096832Z"
    },
    "papermill": {
     "duration": 0.042223,
     "end_time": "2025-08-19T18:58:12.099640",
     "exception": false,
     "start_time": "2025-08-19T18:58:12.057417",
     "status": "completed"
    },
    "tags": []
   },
   "outputs": [
    {
     "data": {
      "text/html": [
       "<div>\n",
       "<style scoped>\n",
       "    .dataframe tbody tr th:only-of-type {\n",
       "        vertical-align: middle;\n",
       "    }\n",
       "\n",
       "    .dataframe tbody tr th {\n",
       "        vertical-align: top;\n",
       "    }\n",
       "\n",
       "    .dataframe thead th {\n",
       "        text-align: right;\n",
       "    }\n",
       "</style>\n",
       "<table border=\"1\" class=\"dataframe\">\n",
       "  <thead>\n",
       "    <tr style=\"text-align: right;\">\n",
       "      <th></th>\n",
       "      <th>universe_id</th>\n",
       "      <th>universe_training_year</th>\n",
       "      <th>universe_training_size</th>\n",
       "      <th>universe_scale</th>\n",
       "      <th>universe_model</th>\n",
       "      <th>universe_exclude_features</th>\n",
       "      <th>universe_exclude_subgroups</th>\n",
       "      <th>q_hat</th>\n",
       "      <th>coverage</th>\n",
       "      <th>avg_size</th>\n",
       "      <th>cov_frau1</th>\n",
       "      <th>cov_nongerman</th>\n",
       "      <th>cov_nongerman_male</th>\n",
       "      <th>cov_nongerman_female</th>\n",
       "    </tr>\n",
       "  </thead>\n",
       "  <tbody>\n",
       "    <tr>\n",
       "      <th>0</th>\n",
       "      <td>052512b8c189f528067f5a0c51afcac7</td>\n",
       "      <td>2012_14</td>\n",
       "      <td>1k</td>\n",
       "      <td>scale</td>\n",
       "      <td>penalized_logreg</td>\n",
       "      <td>age</td>\n",
       "      <td>keep-all</td>\n",
       "      <td>0.757849</td>\n",
       "      <td>0.910735</td>\n",
       "      <td>1.202698</td>\n",
       "      <td>0.903087</td>\n",
       "      <td>0.913771</td>\n",
       "      <td>0.93209</td>\n",
       "      <td>0.883458</td>\n",
       "    </tr>\n",
       "  </tbody>\n",
       "</table>\n",
       "</div>"
      ],
      "text/plain": [
       "                        universe_id universe_training_year  \\\n",
       "0  052512b8c189f528067f5a0c51afcac7                2012_14   \n",
       "\n",
       "  universe_training_size universe_scale    universe_model  \\\n",
       "0                     1k          scale  penalized_logreg   \n",
       "\n",
       "  universe_exclude_features universe_exclude_subgroups     q_hat  coverage  \\\n",
       "0                       age                   keep-all  0.757849  0.910735   \n",
       "\n",
       "   avg_size  cov_frau1  cov_nongerman  cov_nongerman_male  \\\n",
       "0  1.202698   0.903087       0.913771             0.93209   \n",
       "\n",
       "   cov_nongerman_female  \n",
       "0              0.883458  "
      ]
     },
     "execution_count": 56,
     "metadata": {},
     "output_type": "execute_result"
    }
   ],
   "source": [
    "cp_metrics_df"
   ]
  },
  {
   "cell_type": "markdown",
   "id": "3fc519cc",
   "metadata": {
    "papermill": {
     "duration": 0.012578,
     "end_time": "2025-08-19T18:58:12.154724",
     "exception": false,
     "start_time": "2025-08-19T18:58:12.142146",
     "status": "completed"
    },
    "tags": []
   },
   "source": [
    "# (Fairness) Metrics"
   ]
  },
  {
   "cell_type": "code",
   "execution_count": 57,
   "id": "a2e5e155",
   "metadata": {
    "execution": {
     "iopub.execute_input": "2025-08-19T18:58:12.181577Z",
     "iopub.status.busy": "2025-08-19T18:58:12.180619Z",
     "iopub.status.idle": "2025-08-19T18:58:12.199052Z",
     "shell.execute_reply": "2025-08-19T18:58:12.198389Z"
    },
    "papermill": {
     "duration": 0.033372,
     "end_time": "2025-08-19T18:58:12.200456",
     "exception": false,
     "start_time": "2025-08-19T18:58:12.167084",
     "status": "completed"
    },
    "tags": []
   },
   "outputs": [],
   "source": [
    "colname_to_bin = \"maxdeutsch1\"\n",
    "majority_value = org_train[colname_to_bin].mode()[0]\n",
    "\n",
    "org_test[\"majmin\"] = np.where(org_test[colname_to_bin] == majority_value, \"majority\", \"minority\")"
   ]
  },
  {
   "cell_type": "code",
   "execution_count": 58,
   "id": "17e3e4d5",
   "metadata": {
    "execution": {
     "iopub.execute_input": "2025-08-19T18:58:12.233650Z",
     "iopub.status.busy": "2025-08-19T18:58:12.232372Z",
     "iopub.status.idle": "2025-08-19T18:58:13.990472Z",
     "shell.execute_reply": "2025-08-19T18:58:13.989173Z"
    },
    "papermill": {
     "duration": 1.774727,
     "end_time": "2025-08-19T18:58:13.992661",
     "exception": false,
     "start_time": "2025-08-19T18:58:12.217934",
     "status": "completed"
    },
    "tags": []
   },
   "outputs": [],
   "source": [
    "example_universe = universe.copy()\n",
    "example_universe[\"cutoff\"] = example_universe[\"cutoff\"][0]\n",
    "example_universe[\"eval_fairness_grouping\"] = example_universe[\"eval_fairness_grouping\"][0]\n",
    "fairness_dict, metric_frame = universe_analysis.compute_metrics(\n",
    "    example_universe,\n",
    "    y_pred_prob=probs_test,\n",
    "    y_test=y_true,\n",
    "    org_test=org_test,\n",
    ")"
   ]
  },
  {
   "cell_type": "markdown",
   "id": "1fb7a0e9",
   "metadata": {
    "papermill": {
     "duration": 0.013519,
     "end_time": "2025-08-19T18:58:14.021819",
     "exception": false,
     "start_time": "2025-08-19T18:58:14.008300",
     "status": "completed"
    },
    "tags": []
   },
   "source": [
    "# Overall"
   ]
  },
  {
   "cell_type": "markdown",
   "id": "be1784b1",
   "metadata": {
    "papermill": {
     "duration": 0.013192,
     "end_time": "2025-08-19T18:58:14.047593",
     "exception": false,
     "start_time": "2025-08-19T18:58:14.034401",
     "status": "completed"
    },
    "tags": []
   },
   "source": [
    "Main fairness target: Equalized Odds. Seems to be a better fit than equal opportunity, since we're not only interested in Y = 1. Seems to be a better fit than demographic parity, since we also care about accuracy, not just equal distribution of preds.\n",
    "\n",
    "Pick column for computation of fairness metrics\n",
    "\n",
    "Performance\n",
    "Overall performance measures, most interesting in relation to the measures split by group below"
   ]
  },
  {
   "cell_type": "code",
   "execution_count": 59,
   "id": "b7672bee",
   "metadata": {
    "execution": {
     "iopub.execute_input": "2025-08-19T18:58:14.075839Z",
     "iopub.status.busy": "2025-08-19T18:58:14.075322Z",
     "iopub.status.idle": "2025-08-19T18:58:14.083645Z",
     "shell.execute_reply": "2025-08-19T18:58:14.082944Z"
    },
    "papermill": {
     "duration": 0.024394,
     "end_time": "2025-08-19T18:58:14.085002",
     "exception": false,
     "start_time": "2025-08-19T18:58:14.060608",
     "status": "completed"
    },
    "tags": []
   },
   "outputs": [
    {
     "data": {
      "text/plain": [
       "accuracy                   0.219229\n",
       "balanced accuracy          0.537122\n",
       "f1                         0.240702\n",
       "precision                  0.137505\n",
       "false positive rate        0.890476\n",
       "false negative rate        0.035280\n",
       "selection rate             0.900000\n",
       "count                  89710.000000\n",
       "dtype: float64"
      ]
     },
     "execution_count": 59,
     "metadata": {},
     "output_type": "execute_result"
    }
   ],
   "source": [
    "metric_frame.overall"
   ]
  },
  {
   "cell_type": "markdown",
   "id": "d93333c9",
   "metadata": {
    "papermill": {
     "duration": 0.01361,
     "end_time": "2025-08-19T18:58:14.113149",
     "exception": false,
     "start_time": "2025-08-19T18:58:14.099539",
     "status": "completed"
    },
    "tags": []
   },
   "source": [
    "By Group"
   ]
  },
  {
   "cell_type": "code",
   "execution_count": 60,
   "id": "52256966",
   "metadata": {
    "execution": {
     "iopub.execute_input": "2025-08-19T18:58:14.141595Z",
     "iopub.status.busy": "2025-08-19T18:58:14.141162Z",
     "iopub.status.idle": "2025-08-19T18:58:14.155500Z",
     "shell.execute_reply": "2025-08-19T18:58:14.154816Z"
    },
    "papermill": {
     "duration": 0.030555,
     "end_time": "2025-08-19T18:58:14.156823",
     "exception": false,
     "start_time": "2025-08-19T18:58:14.126268",
     "status": "completed"
    },
    "tags": []
   },
   "outputs": [
    {
     "data": {
      "text/html": [
       "<div>\n",
       "<style scoped>\n",
       "    .dataframe tbody tr th:only-of-type {\n",
       "        vertical-align: middle;\n",
       "    }\n",
       "\n",
       "    .dataframe tbody tr th {\n",
       "        vertical-align: top;\n",
       "    }\n",
       "\n",
       "    .dataframe thead th {\n",
       "        text-align: right;\n",
       "    }\n",
       "</style>\n",
       "<table border=\"1\" class=\"dataframe\">\n",
       "  <thead>\n",
       "    <tr style=\"text-align: right;\">\n",
       "      <th></th>\n",
       "      <th>accuracy</th>\n",
       "      <th>balanced accuracy</th>\n",
       "      <th>f1</th>\n",
       "      <th>precision</th>\n",
       "      <th>false positive rate</th>\n",
       "      <th>false negative rate</th>\n",
       "      <th>selection rate</th>\n",
       "      <th>count</th>\n",
       "    </tr>\n",
       "    <tr>\n",
       "      <th>majmin</th>\n",
       "      <th></th>\n",
       "      <th></th>\n",
       "      <th></th>\n",
       "      <th></th>\n",
       "      <th></th>\n",
       "      <th></th>\n",
       "      <th></th>\n",
       "      <th></th>\n",
       "    </tr>\n",
       "  </thead>\n",
       "  <tbody>\n",
       "    <tr>\n",
       "      <th>majority</th>\n",
       "      <td>0.239396</td>\n",
       "      <td>0.544450</td>\n",
       "      <td>0.249947</td>\n",
       "      <td>0.143698</td>\n",
       "      <td>0.870182</td>\n",
       "      <td>0.040919</td>\n",
       "      <td>0.881929</td>\n",
       "      <td>69170.0</td>\n",
       "    </tr>\n",
       "    <tr>\n",
       "      <th>minority</th>\n",
       "      <td>0.151315</td>\n",
       "      <td>0.514485</td>\n",
       "      <td>0.211364</td>\n",
       "      <td>0.118362</td>\n",
       "      <td>0.957517</td>\n",
       "      <td>0.013514</td>\n",
       "      <td>0.960857</td>\n",
       "      <td>20540.0</td>\n",
       "    </tr>\n",
       "  </tbody>\n",
       "</table>\n",
       "</div>"
      ],
      "text/plain": [
       "          accuracy  balanced accuracy        f1  precision  \\\n",
       "majmin                                                       \n",
       "majority  0.239396           0.544450  0.249947   0.143698   \n",
       "minority  0.151315           0.514485  0.211364   0.118362   \n",
       "\n",
       "          false positive rate  false negative rate  selection rate    count  \n",
       "majmin                                                                       \n",
       "majority             0.870182             0.040919        0.881929  69170.0  \n",
       "minority             0.957517             0.013514        0.960857  20540.0  "
      ]
     },
     "execution_count": 60,
     "metadata": {},
     "output_type": "execute_result"
    }
   ],
   "source": [
    "metric_frame.by_group"
   ]
  },
  {
   "cell_type": "code",
   "execution_count": 61,
   "id": "6e6c20ae",
   "metadata": {
    "execution": {
     "iopub.execute_input": "2025-08-19T18:58:14.197131Z",
     "iopub.status.busy": "2025-08-19T18:58:14.192132Z",
     "iopub.status.idle": "2025-08-19T18:58:16.146903Z",
     "shell.execute_reply": "2025-08-19T18:58:16.145931Z"
    },
    "papermill": {
     "duration": 1.974139,
     "end_time": "2025-08-19T18:58:16.148149",
     "exception": false,
     "start_time": "2025-08-19T18:58:14.174010",
     "status": "completed"
    },
    "tags": []
   },
   "outputs": [
    {
     "data": {
      "text/plain": [
       "array([[<Axes: title={'center': 'accuracy'}, xlabel='majmin'>,\n",
       "        <Axes: title={'center': 'balanced accuracy'}, xlabel='majmin'>,\n",
       "        <Axes: title={'center': 'f1'}, xlabel='majmin'>],\n",
       "       [<Axes: title={'center': 'precision'}, xlabel='majmin'>,\n",
       "        <Axes: title={'center': 'false positive rate'}, xlabel='majmin'>,\n",
       "        <Axes: title={'center': 'false negative rate'}, xlabel='majmin'>],\n",
       "       [<Axes: title={'center': 'selection rate'}, xlabel='majmin'>,\n",
       "        <Axes: title={'center': 'count'}, xlabel='majmin'>,\n",
       "        <Axes: xlabel='majmin'>]], dtype=object)"
      ]
     },
     "execution_count": 61,
     "metadata": {},
     "output_type": "execute_result"
    },
    {
     "data": {
      "image/png": "[encoded data removed]",
      "text/plain": [
       "<Figure size 1200x800 with 9 Axes>"
      ]
     },
     "metadata": {},
     "output_type": "display_data"
    }
   ],
   "source": [
    "# In a graphic\n",
    "metric_frame.by_group.plot.bar(\n",
    "    subplots=True,\n",
    "    layout=[3, 3],\n",
    "    legend=False,\n",
    "    figsize=[12, 8],\n",
    "    title=\"Show all metrics\",\n",
    ")"
   ]
  },
  {
   "cell_type": "markdown",
   "id": "b2e433ae",
   "metadata": {
    "papermill": {
     "duration": 0.015357,
     "end_time": "2025-08-19T18:58:16.178419",
     "exception": false,
     "start_time": "2025-08-19T18:58:16.163062",
     "status": "completed"
    },
    "tags": []
   },
   "source": [
    "# Final Output"
   ]
  },
  {
   "cell_type": "code",
   "execution_count": 62,
   "id": "3871301e",
   "metadata": {
    "execution": {
     "iopub.execute_input": "2025-08-19T18:58:16.212230Z",
     "iopub.status.busy": "2025-08-19T18:58:16.210448Z",
     "iopub.status.idle": "2025-08-19T18:58:16.227526Z",
     "shell.execute_reply": "2025-08-19T18:58:16.226533Z"
    },
    "papermill": {
     "duration": 0.03628,
     "end_time": "2025-08-19T18:58:16.229335",
     "exception": false,
     "start_time": "2025-08-19T18:58:16.193055",
     "status": "completed"
    },
    "tags": []
   },
   "outputs": [
    {
     "data": {
      "text/plain": [
       "4"
      ]
     },
     "execution_count": 62,
     "metadata": {},
     "output_type": "execute_result"
    }
   ],
   "source": [
    "sub_universes = universe_analysis.generate_sub_universes()\n",
    "len(sub_universes)"
   ]
  },
  {
   "cell_type": "code",
   "execution_count": 63,
   "id": "d9cfdaca",
   "metadata": {
    "execution": {
     "iopub.execute_input": "2025-08-19T18:58:16.270422Z",
     "iopub.status.busy": "2025-08-19T18:58:16.267855Z",
     "iopub.status.idle": "2025-08-19T18:58:16.282458Z",
     "shell.execute_reply": "2025-08-19T18:58:16.281379Z"
    },
    "papermill": {
     "duration": 0.033231,
     "end_time": "2025-08-19T18:58:16.284113",
     "exception": false,
     "start_time": "2025-08-19T18:58:16.250882",
     "status": "completed"
    },
    "tags": []
   },
   "outputs": [],
   "source": [
    "def filter_sub_universe_data(sub_universe, org_test):\n",
    "    # Keep all rows — no filtering\n",
    "    keep_rows_mask = np.ones(org_test.shape[0], dtype=bool)\n",
    "\n",
    "    print(f\"[INFO] Keeping all rows: {keep_rows_mask.sum()} rows retained.\")\n",
    "    return keep_rows_mask"
   ]
  },
  {
   "cell_type": "code",
   "execution_count": 64,
   "id": "2bc31ac1",
   "metadata": {
    "execution": {
     "iopub.execute_input": "2025-08-19T18:58:16.322168Z",
     "iopub.status.busy": "2025-08-19T18:58:16.321632Z",
     "iopub.status.idle": "2025-08-19T18:58:23.129859Z",
     "shell.execute_reply": "2025-08-19T18:58:23.128424Z"
    },
    "papermill": {
     "duration": 6.825766,
     "end_time": "2025-08-19T18:58:23.131181",
     "exception": false,
     "start_time": "2025-08-19T18:58:16.305415",
     "status": "completed"
    },
    "tags": []
   },
   "outputs": [
    {
     "name": "stdout",
     "output_type": "stream",
     "text": [
      "Stopping execution_time clock.\n",
      "[INFO] Keeping all rows: 89710 rows retained.\n"
     ]
    },
    {
     "name": "stdout",
     "output_type": "stream",
     "text": [
      "[INFO] Keeping all rows: 89710 rows retained.\n"
     ]
    },
    {
     "name": "stdout",
     "output_type": "stream",
     "text": [
      "[INFO] Keeping all rows: 89710 rows retained.\n"
     ]
    },
    {
     "name": "stdout",
     "output_type": "stream",
     "text": [
      "[INFO] Keeping all rows: 89710 rows retained.\n"
     ]
    },
    {
     "data": {
      "text/html": [
       "<div>\n",
       "<style scoped>\n",
       "    .dataframe tbody tr th:only-of-type {\n",
       "        vertical-align: middle;\n",
       "    }\n",
       "\n",
       "    .dataframe tbody tr th {\n",
       "        vertical-align: top;\n",
       "    }\n",
       "\n",
       "    .dataframe thead th {\n",
       "        text-align: right;\n",
       "    }\n",
       "</style>\n",
       "<table border=\"1\" class=\"dataframe\">\n",
       "  <thead>\n",
       "    <tr style=\"text-align: right;\">\n",
       "      <th></th>\n",
       "      <th>run_no</th>\n",
       "      <th>universe_id</th>\n",
       "      <th>universe_settings</th>\n",
       "      <th>execution_time</th>\n",
       "      <th>test_size_n</th>\n",
       "      <th>test_size_frac</th>\n",
       "      <th>fair_main_equalized_odds_difference</th>\n",
       "      <th>fair_main_equalized_odds_ratio</th>\n",
       "      <th>fair_main_demographic_parity_difference</th>\n",
       "      <th>fair_main_demographic_parity_ratio</th>\n",
       "      <th>...</th>\n",
       "      <th>perf_grp_precision_0</th>\n",
       "      <th>perf_grp_precision_1</th>\n",
       "      <th>perf_grp_false positive rate_0</th>\n",
       "      <th>perf_grp_false positive rate_1</th>\n",
       "      <th>perf_grp_false negative rate_0</th>\n",
       "      <th>perf_grp_false negative rate_1</th>\n",
       "      <th>perf_grp_selection rate_0</th>\n",
       "      <th>perf_grp_selection rate_1</th>\n",
       "      <th>perf_grp_count_0</th>\n",
       "      <th>perf_grp_count_1</th>\n",
       "    </tr>\n",
       "  </thead>\n",
       "  <tbody>\n",
       "    <tr>\n",
       "      <th>0</th>\n",
       "      <td>3</td>\n",
       "      <td>052512b8c189f528067f5a0c51afcac7</td>\n",
       "      <td>{\"cutoff\": \"quantile_0.1\", \"eval_fairness_grou...</td>\n",
       "      <td>20.789599</td>\n",
       "      <td>89710</td>\n",
       "      <td>1.0</td>\n",
       "      <td>0.087335</td>\n",
       "      <td>0.908790</td>\n",
       "      <td>0.078928</td>\n",
       "      <td>0.917856</td>\n",
       "      <td>...</td>\n",
       "      <td>NaN</td>\n",
       "      <td>NaN</td>\n",
       "      <td>NaN</td>\n",
       "      <td>NaN</td>\n",
       "      <td>NaN</td>\n",
       "      <td>NaN</td>\n",
       "      <td>NaN</td>\n",
       "      <td>NaN</td>\n",
       "      <td>NaN</td>\n",
       "      <td>NaN</td>\n",
       "    </tr>\n",
       "    <tr>\n",
       "      <th>0</th>\n",
       "      <td>3</td>\n",
       "      <td>052512b8c189f528067f5a0c51afcac7</td>\n",
       "      <td>{\"cutoff\": \"quantile_0.1\", \"eval_fairness_grou...</td>\n",
       "      <td>20.789599</td>\n",
       "      <td>89710</td>\n",
       "      <td>1.0</td>\n",
       "      <td>0.087335</td>\n",
       "      <td>0.908790</td>\n",
       "      <td>0.078928</td>\n",
       "      <td>0.917856</td>\n",
       "      <td>...</td>\n",
       "      <td>0.118362</td>\n",
       "      <td>0.143698</td>\n",
       "      <td>0.957517</td>\n",
       "      <td>0.870182</td>\n",
       "      <td>0.013514</td>\n",
       "      <td>0.040919</td>\n",
       "      <td>0.960857</td>\n",
       "      <td>0.881929</td>\n",
       "      <td>20540.0</td>\n",
       "      <td>69170.0</td>\n",
       "    </tr>\n",
       "    <tr>\n",
       "      <th>0</th>\n",
       "      <td>3</td>\n",
       "      <td>052512b8c189f528067f5a0c51afcac7</td>\n",
       "      <td>{\"cutoff\": \"quantile_0.25\", \"eval_fairness_gro...</td>\n",
       "      <td>20.789599</td>\n",
       "      <td>89710</td>\n",
       "      <td>1.0</td>\n",
       "      <td>0.170007</td>\n",
       "      <td>0.802255</td>\n",
       "      <td>0.154580</td>\n",
       "      <td>0.822154</td>\n",
       "      <td>...</td>\n",
       "      <td>NaN</td>\n",
       "      <td>NaN</td>\n",
       "      <td>NaN</td>\n",
       "      <td>NaN</td>\n",
       "      <td>NaN</td>\n",
       "      <td>NaN</td>\n",
       "      <td>NaN</td>\n",
       "      <td>NaN</td>\n",
       "      <td>NaN</td>\n",
       "      <td>NaN</td>\n",
       "    </tr>\n",
       "    <tr>\n",
       "      <th>0</th>\n",
       "      <td>3</td>\n",
       "      <td>052512b8c189f528067f5a0c51afcac7</td>\n",
       "      <td>{\"cutoff\": \"quantile_0.25\", \"eval_fairness_gro...</td>\n",
       "      <td>20.789599</td>\n",
       "      <td>89710</td>\n",
       "      <td>1.0</td>\n",
       "      <td>0.170007</td>\n",
       "      <td>0.802255</td>\n",
       "      <td>0.154580</td>\n",
       "      <td>0.822154</td>\n",
       "      <td>...</td>\n",
       "      <td>0.124909</td>\n",
       "      <td>0.162354</td>\n",
       "      <td>0.859729</td>\n",
       "      <td>0.689722</td>\n",
       "      <td>0.058277</td>\n",
       "      <td>0.121991</td>\n",
       "      <td>0.869182</td>\n",
       "      <td>0.714602</td>\n",
       "      <td>20540.0</td>\n",
       "      <td>69170.0</td>\n",
       "    </tr>\n",
       "  </tbody>\n",
       "</table>\n",
       "<p>4 rows × 50 columns</p>\n",
       "</div>"
      ],
      "text/plain": [
       "  run_no                       universe_id  \\\n",
       "0      3  052512b8c189f528067f5a0c51afcac7   \n",
       "0      3  052512b8c189f528067f5a0c51afcac7   \n",
       "0      3  052512b8c189f528067f5a0c51afcac7   \n",
       "0      3  052512b8c189f528067f5a0c51afcac7   \n",
       "\n",
       "                                   universe_settings  execution_time  \\\n",
       "0  {\"cutoff\": \"quantile_0.1\", \"eval_fairness_grou...       20.789599   \n",
       "0  {\"cutoff\": \"quantile_0.1\", \"eval_fairness_grou...       20.789599   \n",
       "0  {\"cutoff\": \"quantile_0.25\", \"eval_fairness_gro...       20.789599   \n",
       "0  {\"cutoff\": \"quantile_0.25\", \"eval_fairness_gro...       20.789599   \n",
       "\n",
       "   test_size_n  test_size_frac  fair_main_equalized_odds_difference  \\\n",
       "0        89710             1.0                             0.087335   \n",
       "0        89710             1.0                             0.087335   \n",
       "0        89710             1.0                             0.170007   \n",
       "0        89710             1.0                             0.170007   \n",
       "\n",
       "   fair_main_equalized_odds_ratio  fair_main_demographic_parity_difference  \\\n",
       "0                        0.908790                                 0.078928   \n",
       "0                        0.908790                                 0.078928   \n",
       "0                        0.802255                                 0.154580   \n",
       "0                        0.802255                                 0.154580   \n",
       "\n",
       "   fair_main_demographic_parity_ratio  ...  perf_grp_precision_0  \\\n",
       "0                            0.917856  ...                   NaN   \n",
       "0                            0.917856  ...              0.118362   \n",
       "0                            0.822154  ...                   NaN   \n",
       "0                            0.822154  ...              0.124909   \n",
       "\n",
       "   perf_grp_precision_1  perf_grp_false positive rate_0  \\\n",
       "0                   NaN                             NaN   \n",
       "0              0.143698                        0.957517   \n",
       "0                   NaN                             NaN   \n",
       "0              0.162354                        0.859729   \n",
       "\n",
       "   perf_grp_false positive rate_1  perf_grp_false negative rate_0  \\\n",
       "0                             NaN                             NaN   \n",
       "0                        0.870182                        0.013514   \n",
       "0                             NaN                             NaN   \n",
       "0                        0.689722                        0.058277   \n",
       "\n",
       "   perf_grp_false negative rate_1  perf_grp_selection rate_0  \\\n",
       "0                             NaN                        NaN   \n",
       "0                        0.040919                   0.960857   \n",
       "0                             NaN                        NaN   \n",
       "0                        0.121991                   0.869182   \n",
       "\n",
       "   perf_grp_selection rate_1  perf_grp_count_0  perf_grp_count_1  \n",
       "0                        NaN               NaN               NaN  \n",
       "0                   0.881929           20540.0           69170.0  \n",
       "0                        NaN               NaN               NaN  \n",
       "0                   0.714602           20540.0           69170.0  \n",
       "\n",
       "[4 rows x 50 columns]"
      ]
     },
     "execution_count": 64,
     "metadata": {},
     "output_type": "execute_result"
    }
   ],
   "source": [
    "final_output = universe_analysis.generate_final_output(\n",
    "    y_pred_prob=probs_test,\n",
    "    y_test=y_true,\n",
    "    org_test=org_test,\n",
    "    filter_data=filter_sub_universe_data,\n",
    "    cp_metrics_df=cp_metrics_df,\n",
    "    save=True,\n",
    ")\n",
    "final_output"
   ]
  },
  {
   "cell_type": "code",
   "execution_count": null,
   "id": "8b80a1ff",
   "metadata": {
    "papermill": {
     "duration": 0.014312,
     "end_time": "2025-08-19T18:58:23.163172",
     "exception": false,
     "start_time": "2025-08-19T18:58:23.148860",
     "status": "completed"
    },
    "tags": []
   },
   "outputs": [],
   "source": []
  },
  {
   "cell_type": "code",
   "execution_count": null,
   "id": "275c9fad",
   "metadata": {
    "papermill": {
     "duration": 0.110481,
     "end_time": "2025-08-19T18:58:23.288035",
     "exception": false,
     "start_time": "2025-08-19T18:58:23.177554",
     "status": "completed"
    },
    "tags": []
   },
   "outputs": [],
   "source": []
  }
 ],
 "metadata": {
  "celltoolbar": "Tags",
  "kernelspec": {
   "display_name": "Python (CMA Fairness)",
   "language": "python",
   "name": "cma_fair_env"
  },
  "language_info": {
   "codemirror_mode": {
    "name": "ipython",
    "version": 3
   },
   "file_extension": ".py",
   "mimetype": "text/x-python",
   "name": "python",
   "nbconvert_exporter": "python",
   "pygments_lexer": "ipython3",
   "version": "3.10.12"
  },
  "papermill": {
   "default_parameters": {},
   "duration": 31.486141,
   "end_time": "2025-08-19T18:58:24.124754",
   "environment_variables": {},
   "exception": null,
   "input_path": "universe_analysis.ipynb",
   "output_path": "output/runs/3/notebooks/m_3-052512b8c189f528067f5a0c51afcac7.ipynb",
   "parameters": {
    "output_dir": "output",
    "run_no": "3",
    "seed": "2023",
    "universe": "{\"cutoff\": [\"quantile_0.1\", \"quantile_0.25\"], \"eval_fairness_grouping\": [\"majority-minority\", \"nationality-all\"], \"exclude_features\": \"age\", \"exclude_subgroups\": \"keep-all\", \"model\": \"penalized_logreg\", \"scale\": \"scale\", \"training_size\": \"1k\", \"training_year\": \"2012_14\"}",
    "universe_id": "052512b8c189f528067f5a0c51afcac7"
   },
   "start_time": "2025-08-19T18:57:52.638613",
   "version": "2.6.0"
  }
 },
 "nbformat": 4,
 "nbformat_minor": 5
}