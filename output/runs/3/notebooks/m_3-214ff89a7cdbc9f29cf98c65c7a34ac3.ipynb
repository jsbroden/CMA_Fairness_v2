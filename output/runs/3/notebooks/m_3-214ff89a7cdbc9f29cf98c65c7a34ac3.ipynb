{
 "cells": [
  {
   "cell_type": "markdown",
   "id": "ef23dbb3",
   "metadata": {
    "papermill": {
     "duration": 0.010689,
     "end_time": "2025-08-19T18:58:46.121701",
     "exception": false,
     "start_time": "2025-08-19T18:58:46.111012",
     "status": "completed"
    },
    "tags": []
   },
   "source": [
    "# Setup"
   ]
  },
  {
   "cell_type": "code",
   "execution_count": 1,
   "id": "0bc8e7dc",
   "metadata": {
    "execution": {
     "iopub.execute_input": "2025-08-19T18:58:46.159938Z",
     "iopub.status.busy": "2025-08-19T18:58:46.158319Z",
     "iopub.status.idle": "2025-08-19T18:58:46.178167Z",
     "shell.execute_reply": "2025-08-19T18:58:46.176827Z"
    },
    "papermill": {
     "duration": 0.03494,
     "end_time": "2025-08-19T18:58:46.180750",
     "exception": false,
     "start_time": "2025-08-19T18:58:46.145810",
     "status": "completed"
    },
    "tags": []
   },
   "outputs": [
    {
     "name": "stdout",
     "output_type": "stream",
     "text": [
      "/dss/dsshome1/0C/ra93lal2/cma/CMA_Fairness_v2\n"
     ]
    },
    {
     "name": "stderr",
     "output_type": "stream",
     "text": [
      "/dss/dsshome1/0C/ra93lal2/.local/share/virtualenvs/CMA_Fairness_v2-3j10GkSs/lib/python3.10/site-packages/IPython/core/magics/osm.py:393: UserWarning: This is now an optional IPython functionality, using bookmarks requires you to install the `pickleshare` library.\n",
      "  bkms = self.shell.db.get('bookmarks', {})\n",
      "/dss/dsshome1/0C/ra93lal2/.local/share/virtualenvs/CMA_Fairness_v2-3j10GkSs/lib/python3.10/site-packages/IPython/core/magics/osm.py:417: UserWarning: This is now an optional IPython functionality, setting dhist requires you to install the `pickleshare` library.\n",
      "  self.shell.db['dhist'] = compress_dhist(dhist)[-100:]\n"
     ]
    }
   ],
   "source": [
    "%cd ~/cma/CMA_Fairness_v2"
   ]
  },
  {
   "cell_type": "markdown",
   "id": "9d235661",
   "metadata": {
    "papermill": {
     "duration": 0.008794,
     "end_time": "2025-08-19T18:58:46.200309",
     "exception": false,
     "start_time": "2025-08-19T18:58:46.191515",
     "status": "completed"
    },
    "tags": []
   },
   "source": [
    "The following cell holds the definition of our parameters, these values can be overriden by rendering the with e.g. the following command:\n",
    "\n",
    "papermill -p alpha 0.2 -p ratio 0.3 universe_analysis.ipynb output/test_run.ipynb"
   ]
  },
  {
   "cell_type": "code",
   "execution_count": 2,
   "id": "4a789d8e",
   "metadata": {
    "execution": {
     "iopub.execute_input": "2025-08-19T18:58:46.229304Z",
     "iopub.status.busy": "2025-08-19T18:58:46.228407Z",
     "iopub.status.idle": "2025-08-19T18:58:46.235301Z",
     "shell.execute_reply": "2025-08-19T18:58:46.234491Z"
    },
    "papermill": {
     "duration": 0.022457,
     "end_time": "2025-08-19T18:58:46.237031",
     "exception": false,
     "start_time": "2025-08-19T18:58:46.214574",
     "status": "completed"
    },
    "tags": []
   },
   "outputs": [
    {
     "name": "stdout",
     "output_type": "stream",
     "text": [
      "Current working directory: /dss/dsshome1/0C/ra93lal2/cma/CMA_Fairness_v2\n"
     ]
    }
   ],
   "source": [
    "import os\n",
    "print(\"Current working directory:\", os.getcwd())"
   ]
  },
  {
   "cell_type": "code",
   "execution_count": 3,
   "id": "4132aaed",
   "metadata": {
    "execution": {
     "iopub.execute_input": "2025-08-19T18:58:46.262492Z",
     "iopub.status.busy": "2025-08-19T18:58:46.262191Z",
     "iopub.status.idle": "2025-08-19T18:58:46.266789Z",
     "shell.execute_reply": "2025-08-19T18:58:46.266047Z"
    },
    "papermill": {
     "duration": 0.016199,
     "end_time": "2025-08-19T18:58:46.268204",
     "exception": false,
     "start_time": "2025-08-19T18:58:46.252005",
     "status": "completed"
    },
    "tags": [
     "parameters"
    ]
   },
   "outputs": [],
   "source": [
    "run_no = 0\n",
    "universe_id = \"test\"\n",
    "universe = {\n",
    "    \"training_size\": \"5k\", # \"25k\", \"5k\", \"1k\"\n",
    "    \"training_year\": \"2012_14\", # \"2014\", \"2012_14\", \"2010_14\"\n",
    "    \"scale\": \"scale\", # \"scale\", \"do-not-scale\",\n",
    "    \"model\": \"elasticnet\", # \"logreg\", \"penalized_logreg\", \"rf\", \"gbm\", \"elasticnet\"\n",
    "    \"cutoff\": [\"quantile_0.15\", \"quantile_0.30\"],\n",
    "    \"exclude_features\": \"age\", # \"none\", \"nationality\", \"sex\", \"nationality-sex\", \"age\"\n",
    "    \"exclude_subgroups\": \"drop-non-german\", # \"keep-all\", \"drop-non-german\"\n",
    "    \"eval_fairness_grouping\": [\"majority-minority\", \"nationality-all\"]\n",
    "}\n",
    "\n",
    "output_dir=\"./output\"\n",
    "seed=0"
   ]
  },
  {
   "cell_type": "code",
   "execution_count": 4,
   "id": "1a2ec1e1",
   "metadata": {
    "execution": {
     "iopub.execute_input": "2025-08-19T18:58:46.286958Z",
     "iopub.status.busy": "2025-08-19T18:58:46.286686Z",
     "iopub.status.idle": "2025-08-19T18:58:46.291197Z",
     "shell.execute_reply": "2025-08-19T18:58:46.290398Z"
    },
    "papermill": {
     "duration": 0.015481,
     "end_time": "2025-08-19T18:58:46.292563",
     "exception": false,
     "start_time": "2025-08-19T18:58:46.277082",
     "status": "completed"
    },
    "tags": [
     "injected-parameters"
    ]
   },
   "outputs": [],
   "source": [
    "# Parameters\n",
    "universe_id = \"214ff89a7cdbc9f29cf98c65c7a34ac3\"\n",
    "run_no = \"3\"\n",
    "universe = \"{\\\"cutoff\\\": [\\\"quantile_0.1\\\", \\\"quantile_0.25\\\"], \\\"eval_fairness_grouping\\\": [\\\"majority-minority\\\", \\\"nationality-all\\\"], \\\"exclude_features\\\": \\\"age\\\", \\\"exclude_subgroups\\\": \\\"drop-non-german\\\", \\\"model\\\": \\\"rf\\\", \\\"scale\\\": \\\"scale\\\", \\\"training_size\\\": \\\"1k\\\", \\\"training_year\\\": \\\"2012_14\\\"}\"\n",
    "output_dir = \"output\"\n",
    "seed = \"2023\"\n"
   ]
  },
  {
   "cell_type": "code",
   "execution_count": 5,
   "id": "a5d7941f",
   "metadata": {
    "execution": {
     "iopub.execute_input": "2025-08-19T18:58:46.321603Z",
     "iopub.status.busy": "2025-08-19T18:58:46.321117Z",
     "iopub.status.idle": "2025-08-19T18:58:46.325556Z",
     "shell.execute_reply": "2025-08-19T18:58:46.324686Z"
    },
    "papermill": {
     "duration": 0.01572,
     "end_time": "2025-08-19T18:58:46.326994",
     "exception": false,
     "start_time": "2025-08-19T18:58:46.311274",
     "status": "completed"
    },
    "tags": []
   },
   "outputs": [],
   "source": [
    "import json\n",
    "if isinstance(universe, str):\n",
    "    universe = json.loads(universe)"
   ]
  },
  {
   "cell_type": "code",
   "execution_count": 6,
   "id": "7076ccb1",
   "metadata": {
    "execution": {
     "iopub.execute_input": "2025-08-19T18:58:46.345892Z",
     "iopub.status.busy": "2025-08-19T18:58:46.345596Z",
     "iopub.status.idle": "2025-08-19T18:58:46.383552Z",
     "shell.execute_reply": "2025-08-19T18:58:46.382737Z"
    },
    "papermill": {
     "duration": 0.049369,
     "end_time": "2025-08-19T18:58:46.385249",
     "exception": false,
     "start_time": "2025-08-19T18:58:46.335880",
     "status": "completed"
    },
    "tags": []
   },
   "outputs": [],
   "source": [
    "# Auto-reload the custom package\n",
    "%load_ext autoreload\n",
    "%autoreload 1\n",
    "%aimport fairness_multiverse"
   ]
  },
  {
   "cell_type": "code",
   "execution_count": 7,
   "id": "94c8eb93",
   "metadata": {
    "execution": {
     "iopub.execute_input": "2025-08-19T18:58:46.405235Z",
     "iopub.status.busy": "2025-08-19T18:58:46.404748Z",
     "iopub.status.idle": "2025-08-19T18:58:48.116122Z",
     "shell.execute_reply": "2025-08-19T18:58:48.113912Z"
    },
    "papermill": {
     "duration": 1.723501,
     "end_time": "2025-08-19T18:58:48.118147",
     "exception": false,
     "start_time": "2025-08-19T18:58:46.394646",
     "status": "completed"
    },
    "tags": []
   },
   "outputs": [],
   "source": [
    "from fairness_multiverse.universe import UniverseAnalysis\n",
    "\n",
    "universe_analysis = UniverseAnalysis(\n",
    "    run_no = run_no,\n",
    "    universe_id = universe_id,\n",
    "    universe = universe,\n",
    "    output_dir=output_dir,\n",
    ")"
   ]
  },
  {
   "cell_type": "code",
   "execution_count": 8,
   "id": "2a6381cf",
   "metadata": {
    "execution": {
     "iopub.execute_input": "2025-08-19T18:58:48.140292Z",
     "iopub.status.busy": "2025-08-19T18:58:48.139533Z",
     "iopub.status.idle": "2025-08-19T18:58:48.151303Z",
     "shell.execute_reply": "2025-08-19T18:58:48.149839Z"
    },
    "papermill": {
     "duration": 0.025489,
     "end_time": "2025-08-19T18:58:48.153598",
     "exception": false,
     "start_time": "2025-08-19T18:58:48.128109",
     "status": "completed"
    },
    "tags": []
   },
   "outputs": [
    {
     "name": "stdout",
     "output_type": "stream",
     "text": [
      "Using Seed: 2023\n"
     ]
    }
   ],
   "source": [
    "import numpy as np\n",
    "parsed_seed = int(seed)\n",
    "np.random.seed(parsed_seed)\n",
    "print(f\"Using Seed: {parsed_seed}\")"
   ]
  },
  {
   "cell_type": "markdown",
   "id": "b6e958b4",
   "metadata": {
    "papermill": {
     "duration": 0.008891,
     "end_time": "2025-08-19T18:58:48.173730",
     "exception": false,
     "start_time": "2025-08-19T18:58:48.164839",
     "status": "completed"
    },
    "tags": []
   },
   "source": [
    "# Loading Data"
   ]
  },
  {
   "cell_type": "code",
   "execution_count": 9,
   "id": "98701482",
   "metadata": {
    "execution": {
     "iopub.execute_input": "2025-08-19T18:58:48.194603Z",
     "iopub.status.busy": "2025-08-19T18:58:48.193837Z",
     "iopub.status.idle": "2025-08-19T18:58:58.712606Z",
     "shell.execute_reply": "2025-08-19T18:58:58.711568Z"
    },
    "papermill": {
     "duration": 10.531911,
     "end_time": "2025-08-19T18:58:58.714521",
     "exception": false,
     "start_time": "2025-08-19T18:58:48.182610",
     "status": "completed"
    },
    "tags": []
   },
   "outputs": [
    {
     "name": "stdout",
     "output_type": "stream",
     "text": [
      "Loading SIAB data from cache: data/siab_cached.csv.gz\n"
     ]
    },
    {
     "name": "stdout",
     "output_type": "stream",
     "text": [
      "(643690, 164)\n"
     ]
    }
   ],
   "source": [
    "from pathlib import Path\n",
    "import pandas as pd\n",
    "\n",
    "# File paths\n",
    "raw_file = Path(\"data/raw/siab.csv\")\n",
    "cache_file = Path(\"data/siab_cached.csv.gz\")\n",
    "\n",
    "# Ensure cache directory exists\n",
    "cache_file.parent.mkdir(parents=True, exist_ok=True)\n",
    "\n",
    "# Load with simple caching\n",
    "if cache_file.exists():\n",
    "    print(f\"Loading SIAB data from cache: {cache_file}\")\n",
    "    siab = pd.read_csv(cache_file, compression='gzip')\n",
    "else:\n",
    "    print(f\"Cache not found. Reading raw SIAB data: {raw_file}\")\n",
    "    siab = pd.read_csv(raw_file)\n",
    "    siab.to_csv(cache_file, index=False, compression='gzip')\n",
    "    print(f\"Cached SIAB data to: {cache_file}\")\n",
    "\n",
    "print(siab.shape)"
   ]
  },
  {
   "cell_type": "code",
   "execution_count": 10,
   "id": "058d2abb",
   "metadata": {
    "execution": {
     "iopub.execute_input": "2025-08-19T18:58:58.739098Z",
     "iopub.status.busy": "2025-08-19T18:58:58.738215Z",
     "iopub.status.idle": "2025-08-19T18:58:58.958530Z",
     "shell.execute_reply": "2025-08-19T18:58:58.957068Z"
    },
    "papermill": {
     "duration": 0.232898,
     "end_time": "2025-08-19T18:58:58.960203",
     "exception": false,
     "start_time": "2025-08-19T18:58:58.727305",
     "status": "completed"
    },
    "tags": []
   },
   "outputs": [
    {
     "data": {
      "text/html": [
       "<div>\n",
       "<style scoped>\n",
       "    .dataframe tbody tr th:only-of-type {\n",
       "        vertical-align: middle;\n",
       "    }\n",
       "\n",
       "    .dataframe tbody tr th {\n",
       "        vertical-align: top;\n",
       "    }\n",
       "\n",
       "    .dataframe thead th {\n",
       "        text-align: right;\n",
       "    }\n",
       "</style>\n",
       "<table border=\"1\" class=\"dataframe\">\n",
       "  <thead>\n",
       "    <tr style=\"text-align: right;\">\n",
       "      <th></th>\n",
       "      <th>persnr</th>\n",
       "      <th>year</th>\n",
       "      <th>nrEntry</th>\n",
       "      <th>ltue</th>\n",
       "      <th>employed_before</th>\n",
       "      <th>receipt_leh_before</th>\n",
       "      <th>receipt_lhg_before</th>\n",
       "      <th>se_before</th>\n",
       "      <th>ASU_notue_seeking_before</th>\n",
       "      <th>ASU_other_before</th>\n",
       "      <th>...</th>\n",
       "      <th>minijob_tot_dur_byage</th>\n",
       "      <th>ft_tot_dur_byage</th>\n",
       "      <th>befrist_tot_dur_byage</th>\n",
       "      <th>leih_tot_dur_byage</th>\n",
       "      <th>LHG_tot_dur_byage</th>\n",
       "      <th>LEH_tot_dur_byage</th>\n",
       "      <th>almp_tot_dur_byage</th>\n",
       "      <th>almp_aw_tot_dur_byage</th>\n",
       "      <th>se_tot_dur_byage</th>\n",
       "      <th>seeking1_tot_dur_byage</th>\n",
       "    </tr>\n",
       "  </thead>\n",
       "  <tbody>\n",
       "    <tr>\n",
       "      <th>0</th>\n",
       "      <td>7</td>\n",
       "      <td>2015</td>\n",
       "      <td>1</td>\n",
       "      <td>0</td>\n",
       "      <td>1</td>\n",
       "      <td>0</td>\n",
       "      <td>0</td>\n",
       "      <td>0</td>\n",
       "      <td>1</td>\n",
       "      <td>0</td>\n",
       "      <td>...</td>\n",
       "      <td>0.000000</td>\n",
       "      <td>0.000000</td>\n",
       "      <td>15.043478</td>\n",
       "      <td>0.000000</td>\n",
       "      <td>0.000000</td>\n",
       "      <td>0.000000</td>\n",
       "      <td>0.000000</td>\n",
       "      <td>0.000000</td>\n",
       "      <td>0.000000</td>\n",
       "      <td>0.000000</td>\n",
       "    </tr>\n",
       "    <tr>\n",
       "      <th>1</th>\n",
       "      <td>18</td>\n",
       "      <td>2010</td>\n",
       "      <td>1</td>\n",
       "      <td>1</td>\n",
       "      <td>0</td>\n",
       "      <td>0</td>\n",
       "      <td>0</td>\n",
       "      <td>0</td>\n",
       "      <td>0</td>\n",
       "      <td>0</td>\n",
       "      <td>...</td>\n",
       "      <td>0.000000</td>\n",
       "      <td>0.000000</td>\n",
       "      <td>0.000000</td>\n",
       "      <td>0.000000</td>\n",
       "      <td>0.000000</td>\n",
       "      <td>0.000000</td>\n",
       "      <td>0.000000</td>\n",
       "      <td>0.000000</td>\n",
       "      <td>0.000000</td>\n",
       "      <td>0.000000</td>\n",
       "    </tr>\n",
       "    <tr>\n",
       "      <th>2</th>\n",
       "      <td>18</td>\n",
       "      <td>2011</td>\n",
       "      <td>2</td>\n",
       "      <td>0</td>\n",
       "      <td>1</td>\n",
       "      <td>0</td>\n",
       "      <td>1</td>\n",
       "      <td>0</td>\n",
       "      <td>1</td>\n",
       "      <td>0</td>\n",
       "      <td>...</td>\n",
       "      <td>2.714286</td>\n",
       "      <td>2.714286</td>\n",
       "      <td>0.000000</td>\n",
       "      <td>0.000000</td>\n",
       "      <td>10.775510</td>\n",
       "      <td>0.000000</td>\n",
       "      <td>8.367347</td>\n",
       "      <td>0.000000</td>\n",
       "      <td>0.000000</td>\n",
       "      <td>9.836735</td>\n",
       "    </tr>\n",
       "    <tr>\n",
       "      <th>3</th>\n",
       "      <td>18</td>\n",
       "      <td>2012</td>\n",
       "      <td>3</td>\n",
       "      <td>0</td>\n",
       "      <td>1</td>\n",
       "      <td>0</td>\n",
       "      <td>1</td>\n",
       "      <td>0</td>\n",
       "      <td>1</td>\n",
       "      <td>0</td>\n",
       "      <td>...</td>\n",
       "      <td>4.200000</td>\n",
       "      <td>4.200000</td>\n",
       "      <td>0.000000</td>\n",
       "      <td>0.000000</td>\n",
       "      <td>12.100000</td>\n",
       "      <td>0.000000</td>\n",
       "      <td>9.400000</td>\n",
       "      <td>0.000000</td>\n",
       "      <td>0.000000</td>\n",
       "      <td>9.960000</td>\n",
       "    </tr>\n",
       "    <tr>\n",
       "      <th>4</th>\n",
       "      <td>18</td>\n",
       "      <td>2012</td>\n",
       "      <td>4</td>\n",
       "      <td>0</td>\n",
       "      <td>1</td>\n",
       "      <td>0</td>\n",
       "      <td>1</td>\n",
       "      <td>0</td>\n",
       "      <td>1</td>\n",
       "      <td>0</td>\n",
       "      <td>...</td>\n",
       "      <td>5.460000</td>\n",
       "      <td>5.460000</td>\n",
       "      <td>0.000000</td>\n",
       "      <td>0.000000</td>\n",
       "      <td>13.360000</td>\n",
       "      <td>0.000000</td>\n",
       "      <td>10.320000</td>\n",
       "      <td>0.000000</td>\n",
       "      <td>0.000000</td>\n",
       "      <td>10.280000</td>\n",
       "    </tr>\n",
       "    <tr>\n",
       "      <th>...</th>\n",
       "      <td>...</td>\n",
       "      <td>...</td>\n",
       "      <td>...</td>\n",
       "      <td>...</td>\n",
       "      <td>...</td>\n",
       "      <td>...</td>\n",
       "      <td>...</td>\n",
       "      <td>...</td>\n",
       "      <td>...</td>\n",
       "      <td>...</td>\n",
       "      <td>...</td>\n",
       "      <td>...</td>\n",
       "      <td>...</td>\n",
       "      <td>...</td>\n",
       "      <td>...</td>\n",
       "      <td>...</td>\n",
       "      <td>...</td>\n",
       "      <td>...</td>\n",
       "      <td>...</td>\n",
       "      <td>...</td>\n",
       "      <td>...</td>\n",
       "    </tr>\n",
       "    <tr>\n",
       "      <th>643685</th>\n",
       "      <td>1827860</td>\n",
       "      <td>2013</td>\n",
       "      <td>1</td>\n",
       "      <td>0</td>\n",
       "      <td>0</td>\n",
       "      <td>0</td>\n",
       "      <td>1</td>\n",
       "      <td>0</td>\n",
       "      <td>0</td>\n",
       "      <td>1</td>\n",
       "      <td>...</td>\n",
       "      <td>0.000000</td>\n",
       "      <td>0.000000</td>\n",
       "      <td>0.000000</td>\n",
       "      <td>0.000000</td>\n",
       "      <td>0.612903</td>\n",
       "      <td>0.000000</td>\n",
       "      <td>0.000000</td>\n",
       "      <td>0.000000</td>\n",
       "      <td>0.000000</td>\n",
       "      <td>0.000000</td>\n",
       "    </tr>\n",
       "    <tr>\n",
       "      <th>643686</th>\n",
       "      <td>1827860</td>\n",
       "      <td>2015</td>\n",
       "      <td>2</td>\n",
       "      <td>1</td>\n",
       "      <td>0</td>\n",
       "      <td>0</td>\n",
       "      <td>1</td>\n",
       "      <td>0</td>\n",
       "      <td>1</td>\n",
       "      <td>0</td>\n",
       "      <td>...</td>\n",
       "      <td>0.000000</td>\n",
       "      <td>0.000000</td>\n",
       "      <td>0.212121</td>\n",
       "      <td>0.212121</td>\n",
       "      <td>17.363636</td>\n",
       "      <td>0.000000</td>\n",
       "      <td>8.909091</td>\n",
       "      <td>0.000000</td>\n",
       "      <td>0.000000</td>\n",
       "      <td>7.121212</td>\n",
       "    </tr>\n",
       "    <tr>\n",
       "      <th>643687</th>\n",
       "      <td>1827860</td>\n",
       "      <td>2016</td>\n",
       "      <td>3</td>\n",
       "      <td>1</td>\n",
       "      <td>0</td>\n",
       "      <td>0</td>\n",
       "      <td>1</td>\n",
       "      <td>1</td>\n",
       "      <td>0</td>\n",
       "      <td>1</td>\n",
       "      <td>...</td>\n",
       "      <td>0.000000</td>\n",
       "      <td>0.000000</td>\n",
       "      <td>0.294118</td>\n",
       "      <td>0.205882</td>\n",
       "      <td>34.705882</td>\n",
       "      <td>0.000000</td>\n",
       "      <td>10.352941</td>\n",
       "      <td>1.705882</td>\n",
       "      <td>1.705882</td>\n",
       "      <td>23.911765</td>\n",
       "    </tr>\n",
       "    <tr>\n",
       "      <th>643688</th>\n",
       "      <td>1827869</td>\n",
       "      <td>2013</td>\n",
       "      <td>1</td>\n",
       "      <td>1</td>\n",
       "      <td>1</td>\n",
       "      <td>0</td>\n",
       "      <td>0</td>\n",
       "      <td>0</td>\n",
       "      <td>1</td>\n",
       "      <td>0</td>\n",
       "      <td>...</td>\n",
       "      <td>0.000000</td>\n",
       "      <td>0.000000</td>\n",
       "      <td>0.000000</td>\n",
       "      <td>0.000000</td>\n",
       "      <td>0.000000</td>\n",
       "      <td>0.525424</td>\n",
       "      <td>0.000000</td>\n",
       "      <td>0.000000</td>\n",
       "      <td>0.000000</td>\n",
       "      <td>0.000000</td>\n",
       "    </tr>\n",
       "    <tr>\n",
       "      <th>643689</th>\n",
       "      <td>1827869</td>\n",
       "      <td>2014</td>\n",
       "      <td>2</td>\n",
       "      <td>0</td>\n",
       "      <td>0</td>\n",
       "      <td>1</td>\n",
       "      <td>0</td>\n",
       "      <td>0</td>\n",
       "      <td>1</td>\n",
       "      <td>0</td>\n",
       "      <td>...</td>\n",
       "      <td>0.000000</td>\n",
       "      <td>0.666667</td>\n",
       "      <td>0.666667</td>\n",
       "      <td>0.000000</td>\n",
       "      <td>0.000000</td>\n",
       "      <td>8.950000</td>\n",
       "      <td>1.033333</td>\n",
       "      <td>0.083333</td>\n",
       "      <td>0.083333</td>\n",
       "      <td>8.133333</td>\n",
       "    </tr>\n",
       "  </tbody>\n",
       "</table>\n",
       "<p>643690 rows × 164 columns</p>\n",
       "</div>"
      ],
      "text/plain": [
       "         persnr  year  nrEntry  ltue  employed_before  receipt_leh_before  \\\n",
       "0             7  2015        1     0                1                   0   \n",
       "1            18  2010        1     1                0                   0   \n",
       "2            18  2011        2     0                1                   0   \n",
       "3            18  2012        3     0                1                   0   \n",
       "4            18  2012        4     0                1                   0   \n",
       "...         ...   ...      ...   ...              ...                 ...   \n",
       "643685  1827860  2013        1     0                0                   0   \n",
       "643686  1827860  2015        2     1                0                   0   \n",
       "643687  1827860  2016        3     1                0                   0   \n",
       "643688  1827869  2013        1     1                1                   0   \n",
       "643689  1827869  2014        2     0                0                   1   \n",
       "\n",
       "        receipt_lhg_before  se_before  ASU_notue_seeking_before  \\\n",
       "0                        0          0                         1   \n",
       "1                        0          0                         0   \n",
       "2                        1          0                         1   \n",
       "3                        1          0                         1   \n",
       "4                        1          0                         1   \n",
       "...                    ...        ...                       ...   \n",
       "643685                   1          0                         0   \n",
       "643686                   1          0                         1   \n",
       "643687                   1          1                         0   \n",
       "643688                   0          0                         1   \n",
       "643689                   0          0                         1   \n",
       "\n",
       "        ASU_other_before  ...  minijob_tot_dur_byage  ft_tot_dur_byage  \\\n",
       "0                      0  ...               0.000000          0.000000   \n",
       "1                      0  ...               0.000000          0.000000   \n",
       "2                      0  ...               2.714286          2.714286   \n",
       "3                      0  ...               4.200000          4.200000   \n",
       "4                      0  ...               5.460000          5.460000   \n",
       "...                  ...  ...                    ...               ...   \n",
       "643685                 1  ...               0.000000          0.000000   \n",
       "643686                 0  ...               0.000000          0.000000   \n",
       "643687                 1  ...               0.000000          0.000000   \n",
       "643688                 0  ...               0.000000          0.000000   \n",
       "643689                 0  ...               0.000000          0.666667   \n",
       "\n",
       "        befrist_tot_dur_byage  leih_tot_dur_byage  LHG_tot_dur_byage  \\\n",
       "0                   15.043478            0.000000           0.000000   \n",
       "1                    0.000000            0.000000           0.000000   \n",
       "2                    0.000000            0.000000          10.775510   \n",
       "3                    0.000000            0.000000          12.100000   \n",
       "4                    0.000000            0.000000          13.360000   \n",
       "...                       ...                 ...                ...   \n",
       "643685               0.000000            0.000000           0.612903   \n",
       "643686               0.212121            0.212121          17.363636   \n",
       "643687               0.294118            0.205882          34.705882   \n",
       "643688               0.000000            0.000000           0.000000   \n",
       "643689               0.666667            0.000000           0.000000   \n",
       "\n",
       "        LEH_tot_dur_byage  almp_tot_dur_byage  almp_aw_tot_dur_byage  \\\n",
       "0                0.000000            0.000000               0.000000   \n",
       "1                0.000000            0.000000               0.000000   \n",
       "2                0.000000            8.367347               0.000000   \n",
       "3                0.000000            9.400000               0.000000   \n",
       "4                0.000000           10.320000               0.000000   \n",
       "...                   ...                 ...                    ...   \n",
       "643685           0.000000            0.000000               0.000000   \n",
       "643686           0.000000            8.909091               0.000000   \n",
       "643687           0.000000           10.352941               1.705882   \n",
       "643688           0.525424            0.000000               0.000000   \n",
       "643689           8.950000            1.033333               0.083333   \n",
       "\n",
       "        se_tot_dur_byage  seeking1_tot_dur_byage  \n",
       "0               0.000000                0.000000  \n",
       "1               0.000000                0.000000  \n",
       "2               0.000000                9.836735  \n",
       "3               0.000000                9.960000  \n",
       "4               0.000000               10.280000  \n",
       "...                  ...                     ...  \n",
       "643685          0.000000                0.000000  \n",
       "643686          0.000000                7.121212  \n",
       "643687          1.705882               23.911765  \n",
       "643688          0.000000                0.000000  \n",
       "643689          0.083333                8.133333  \n",
       "\n",
       "[643690 rows x 164 columns]"
      ]
     },
     "execution_count": 10,
     "metadata": {},
     "output_type": "execute_result"
    }
   ],
   "source": [
    "siab"
   ]
  },
  {
   "cell_type": "markdown",
   "id": "1f87e805",
   "metadata": {
    "papermill": {
     "duration": 0.01252,
     "end_time": "2025-08-19T18:58:58.982662",
     "exception": false,
     "start_time": "2025-08-19T18:58:58.970142",
     "status": "completed"
    },
    "tags": []
   },
   "source": [
    "# Splitting Data and Setting Training Data Size"
   ]
  },
  {
   "cell_type": "code",
   "execution_count": 11,
   "id": "910ae358",
   "metadata": {
    "execution": {
     "iopub.execute_input": "2025-08-19T18:58:59.005500Z",
     "iopub.status.busy": "2025-08-19T18:58:59.004735Z",
     "iopub.status.idle": "2025-08-19T18:58:59.673052Z",
     "shell.execute_reply": "2025-08-19T18:58:59.671918Z"
    },
    "papermill": {
     "duration": 0.681646,
     "end_time": "2025-08-19T18:58:59.674874",
     "exception": false,
     "start_time": "2025-08-19T18:58:58.993228",
     "status": "completed"
    },
    "tags": []
   },
   "outputs": [],
   "source": [
    "from fairness_multiverse.universe import sample_by_year_size\n",
    "\n",
    "siab_train = sample_by_year_size(siab,\n",
    "                               training_year=universe[\"training_year\"],\n",
    "                               training_size=universe[\"training_size\"])"
   ]
  },
  {
   "cell_type": "code",
   "execution_count": 12,
   "id": "919c8ff5",
   "metadata": {
    "execution": {
     "iopub.execute_input": "2025-08-19T18:58:59.696370Z",
     "iopub.status.busy": "2025-08-19T18:58:59.695586Z",
     "iopub.status.idle": "2025-08-19T18:58:59.701946Z",
     "shell.execute_reply": "2025-08-19T18:58:59.701356Z"
    },
    "papermill": {
     "duration": 0.01867,
     "end_time": "2025-08-19T18:58:59.703526",
     "exception": false,
     "start_time": "2025-08-19T18:58:59.684856",
     "status": "completed"
    },
    "tags": []
   },
   "outputs": [
    {
     "data": {
      "text/plain": [
       "(1000, 164)"
      ]
     },
     "execution_count": 12,
     "metadata": {},
     "output_type": "execute_result"
    }
   ],
   "source": [
    "siab_train.shape"
   ]
  },
  {
   "cell_type": "code",
   "execution_count": 13,
   "id": "feb13bf4",
   "metadata": {
    "execution": {
     "iopub.execute_input": "2025-08-19T18:58:59.726504Z",
     "iopub.status.busy": "2025-08-19T18:58:59.726121Z",
     "iopub.status.idle": "2025-08-19T18:58:59.733373Z",
     "shell.execute_reply": "2025-08-19T18:58:59.732811Z"
    },
    "papermill": {
     "duration": 0.019593,
     "end_time": "2025-08-19T18:58:59.734443",
     "exception": false,
     "start_time": "2025-08-19T18:58:59.714850",
     "status": "completed"
    },
    "tags": []
   },
   "outputs": [
    {
     "data": {
      "text/plain": [
       "year\n",
       "2012    334\n",
       "2013    333\n",
       "2014    333\n",
       "dtype: int64"
      ]
     },
     "metadata": {},
     "output_type": "display_data"
    }
   ],
   "source": [
    "display(siab_train.groupby(\"year\").size())"
   ]
  },
  {
   "cell_type": "code",
   "execution_count": 14,
   "id": "0997782f",
   "metadata": {
    "execution": {
     "iopub.execute_input": "2025-08-19T18:58:59.755912Z",
     "iopub.status.busy": "2025-08-19T18:58:59.755546Z",
     "iopub.status.idle": "2025-08-19T18:59:00.284205Z",
     "shell.execute_reply": "2025-08-19T18:59:00.283214Z"
    },
    "papermill": {
     "duration": 0.542901,
     "end_time": "2025-08-19T18:59:00.287486",
     "exception": false,
     "start_time": "2025-08-19T18:58:59.744585",
     "status": "completed"
    },
    "tags": []
   },
   "outputs": [],
   "source": [
    "#siab_train = siab_s[siab_s.year < 2015]\n",
    "siab_calib = siab[siab.year == 2015]\n",
    "siab_test = siab[siab.year == 2016]"
   ]
  },
  {
   "cell_type": "code",
   "execution_count": 15,
   "id": "2c1e4012",
   "metadata": {
    "execution": {
     "iopub.execute_input": "2025-08-19T18:59:00.314719Z",
     "iopub.status.busy": "2025-08-19T18:59:00.313930Z",
     "iopub.status.idle": "2025-08-19T18:59:00.320963Z",
     "shell.execute_reply": "2025-08-19T18:59:00.319543Z"
    },
    "papermill": {
     "duration": 0.023859,
     "end_time": "2025-08-19T18:59:00.326404",
     "exception": false,
     "start_time": "2025-08-19T18:59:00.302545",
     "status": "completed"
    },
    "tags": []
   },
   "outputs": [],
   "source": [
    "#siab_calib.shape"
   ]
  },
  {
   "cell_type": "code",
   "execution_count": 16,
   "id": "f66b54ca",
   "metadata": {
    "execution": {
     "iopub.execute_input": "2025-08-19T18:59:00.349073Z",
     "iopub.status.busy": "2025-08-19T18:59:00.348301Z",
     "iopub.status.idle": "2025-08-19T18:59:00.355454Z",
     "shell.execute_reply": "2025-08-19T18:59:00.354779Z"
    },
    "papermill": {
     "duration": 0.021213,
     "end_time": "2025-08-19T18:59:00.357988",
     "exception": false,
     "start_time": "2025-08-19T18:59:00.336775",
     "status": "completed"
    },
    "tags": []
   },
   "outputs": [],
   "source": [
    "#siab_test.shape"
   ]
  },
  {
   "cell_type": "code",
   "execution_count": 17,
   "id": "27e4384d",
   "metadata": {
    "execution": {
     "iopub.execute_input": "2025-08-19T18:59:00.393798Z",
     "iopub.status.busy": "2025-08-19T18:59:00.392235Z",
     "iopub.status.idle": "2025-08-19T18:59:00.404713Z",
     "shell.execute_reply": "2025-08-19T18:59:00.403438Z"
    },
    "papermill": {
     "duration": 0.027558,
     "end_time": "2025-08-19T18:59:00.406316",
     "exception": false,
     "start_time": "2025-08-19T18:59:00.378758",
     "status": "completed"
    },
    "tags": []
   },
   "outputs": [],
   "source": [
    "X_train = siab_train.iloc[:,4:164]\n",
    "y_train = siab_train.iloc[:, [3]]"
   ]
  },
  {
   "cell_type": "code",
   "execution_count": 18,
   "id": "08ee8389",
   "metadata": {
    "execution": {
     "iopub.execute_input": "2025-08-19T18:59:00.437044Z",
     "iopub.status.busy": "2025-08-19T18:59:00.435735Z",
     "iopub.status.idle": "2025-08-19T18:59:00.503529Z",
     "shell.execute_reply": "2025-08-19T18:59:00.502774Z"
    },
    "papermill": {
     "duration": 0.082232,
     "end_time": "2025-08-19T18:59:00.504943",
     "exception": false,
     "start_time": "2025-08-19T18:59:00.422711",
     "status": "completed"
    },
    "tags": []
   },
   "outputs": [],
   "source": [
    "X_calib = siab_calib.iloc[:,4:164]\n",
    "y_calib = siab_calib.iloc[:, [3]]"
   ]
  },
  {
   "cell_type": "code",
   "execution_count": 19,
   "id": "b7ff42e0",
   "metadata": {
    "execution": {
     "iopub.execute_input": "2025-08-19T18:59:00.539125Z",
     "iopub.status.busy": "2025-08-19T18:59:00.538132Z",
     "iopub.status.idle": "2025-08-19T18:59:00.600117Z",
     "shell.execute_reply": "2025-08-19T18:59:00.599373Z"
    },
    "papermill": {
     "duration": 0.080228,
     "end_time": "2025-08-19T18:59:00.601551",
     "exception": false,
     "start_time": "2025-08-19T18:59:00.521323",
     "status": "completed"
    },
    "tags": []
   },
   "outputs": [],
   "source": [
    "X_test = siab_test.iloc[:,4:164]\n",
    "y_true = siab_test.iloc[:, [3]]"
   ]
  },
  {
   "cell_type": "code",
   "execution_count": 20,
   "id": "0275101e",
   "metadata": {
    "execution": {
     "iopub.execute_input": "2025-08-19T18:59:00.624194Z",
     "iopub.status.busy": "2025-08-19T18:59:00.623147Z",
     "iopub.status.idle": "2025-08-19T18:59:00.736102Z",
     "shell.execute_reply": "2025-08-19T18:59:00.735437Z"
    },
    "papermill": {
     "duration": 0.126734,
     "end_time": "2025-08-19T18:59:00.738740",
     "exception": false,
     "start_time": "2025-08-19T18:59:00.612006",
     "status": "completed"
    },
    "tags": []
   },
   "outputs": [],
   "source": [
    "# Auxiliary data needed downstream in the pipeline\n",
    "\n",
    "org_train = X_train.copy()\n",
    "org_test = X_test.copy()\n",
    "org_calib = X_calib.copy()"
   ]
  },
  {
   "cell_type": "markdown",
   "id": "b461e618",
   "metadata": {
    "papermill": {
     "duration": 0.011686,
     "end_time": "2025-08-19T18:59:00.770047",
     "exception": false,
     "start_time": "2025-08-19T18:59:00.758361",
     "status": "completed"
    },
    "tags": []
   },
   "source": [
    "# Preprocessing Data"
   ]
  },
  {
   "cell_type": "code",
   "execution_count": 21,
   "id": "78e74c4b",
   "metadata": {
    "execution": {
     "iopub.execute_input": "2025-08-19T18:59:00.791139Z",
     "iopub.status.busy": "2025-08-19T18:59:00.790822Z",
     "iopub.status.idle": "2025-08-19T18:59:00.795845Z",
     "shell.execute_reply": "2025-08-19T18:59:00.795125Z"
    },
    "papermill": {
     "duration": 0.017279,
     "end_time": "2025-08-19T18:59:00.797170",
     "exception": false,
     "start_time": "2025-08-19T18:59:00.779891",
     "status": "completed"
    },
    "tags": []
   },
   "outputs": [],
   "source": [
    "# EXCLUDE PROTECTED FEATURES\n",
    "# --------------------------\n",
    "\n",
    "excluded_features = universe[\"exclude_features\"].split(\"-\")\n",
    "excluded_features_dictionary = {\n",
    "    \"nationality\": [\"maxdeutsch1\", \"maxdeutsch.Missing.\"],\n",
    "    \"sex\": [\"frau1\"],\n",
    "    \"age\": [\"age\"],\n",
    "}"
   ]
  },
  {
   "cell_type": "code",
   "execution_count": 22,
   "id": "f8e63555",
   "metadata": {
    "execution": {
     "iopub.execute_input": "2025-08-19T18:59:00.819332Z",
     "iopub.status.busy": "2025-08-19T18:59:00.818873Z",
     "iopub.status.idle": "2025-08-19T18:59:00.830793Z",
     "shell.execute_reply": "2025-08-19T18:59:00.829442Z"
    },
    "papermill": {
     "duration": 0.024937,
     "end_time": "2025-08-19T18:59:00.832161",
     "exception": false,
     "start_time": "2025-08-19T18:59:00.807224",
     "status": "completed"
    },
    "tags": []
   },
   "outputs": [],
   "source": [
    "excluded_features_columns = [\n",
    "    excluded_features_dictionary[f] for f in excluded_features if len(f) > 0 and f != \"none\"\n",
    "]"
   ]
  },
  {
   "cell_type": "code",
   "execution_count": 23,
   "id": "da781f7c",
   "metadata": {
    "execution": {
     "iopub.execute_input": "2025-08-19T18:59:00.856755Z",
     "iopub.status.busy": "2025-08-19T18:59:00.856150Z",
     "iopub.status.idle": "2025-08-19T18:59:00.862746Z",
     "shell.execute_reply": "2025-08-19T18:59:00.861604Z"
    },
    "papermill": {
     "duration": 0.019421,
     "end_time": "2025-08-19T18:59:00.864135",
     "exception": false,
     "start_time": "2025-08-19T18:59:00.844714",
     "status": "completed"
    },
    "tags": []
   },
   "outputs": [],
   "source": [
    "from fairness_multiverse.universe import flatten_once\n",
    "\n",
    "excluded_features_columns = flatten_once(excluded_features_columns)"
   ]
  },
  {
   "cell_type": "code",
   "execution_count": 24,
   "id": "37fef0f0",
   "metadata": {
    "execution": {
     "iopub.execute_input": "2025-08-19T18:59:00.889913Z",
     "iopub.status.busy": "2025-08-19T18:59:00.888436Z",
     "iopub.status.idle": "2025-08-19T18:59:00.901996Z",
     "shell.execute_reply": "2025-08-19T18:59:00.900523Z"
    },
    "papermill": {
     "duration": 0.026823,
     "end_time": "2025-08-19T18:59:00.903601",
     "exception": false,
     "start_time": "2025-08-19T18:59:00.876778",
     "status": "completed"
    },
    "tags": []
   },
   "outputs": [
    {
     "name": "stdout",
     "output_type": "stream",
     "text": [
      "Dropping features: ['age']\n"
     ]
    }
   ],
   "source": [
    "if len(excluded_features_columns) > 0:\n",
    "    print(f\"Dropping features: {excluded_features_columns}\")\n",
    "    X_train.drop(excluded_features_columns, axis=1, inplace=True)"
   ]
  },
  {
   "cell_type": "code",
   "execution_count": 25,
   "id": "d029e3e9",
   "metadata": {
    "execution": {
     "iopub.execute_input": "2025-08-19T18:59:00.931543Z",
     "iopub.status.busy": "2025-08-19T18:59:00.930569Z",
     "iopub.status.idle": "2025-08-19T18:59:00.994194Z",
     "shell.execute_reply": "2025-08-19T18:59:00.993454Z"
    },
    "papermill": {
     "duration": 0.077946,
     "end_time": "2025-08-19T18:59:00.996010",
     "exception": false,
     "start_time": "2025-08-19T18:59:00.918064",
     "status": "completed"
    },
    "tags": []
   },
   "outputs": [
    {
     "name": "stdout",
     "output_type": "stream",
     "text": [
      "Dropping features: ['age']\n"
     ]
    }
   ],
   "source": [
    "if len(excluded_features_columns) > 0:\n",
    "    print(f\"Dropping features: {excluded_features_columns}\")\n",
    "    X_test.drop(excluded_features_columns, axis=1, inplace=True)"
   ]
  },
  {
   "cell_type": "code",
   "execution_count": 26,
   "id": "01d571f0",
   "metadata": {
    "execution": {
     "iopub.execute_input": "2025-08-19T18:59:01.032467Z",
     "iopub.status.busy": "2025-08-19T18:59:01.031999Z",
     "iopub.status.idle": "2025-08-19T18:59:01.082072Z",
     "shell.execute_reply": "2025-08-19T18:59:01.081479Z"
    },
    "papermill": {
     "duration": 0.064949,
     "end_time": "2025-08-19T18:59:01.083535",
     "exception": false,
     "start_time": "2025-08-19T18:59:01.018586",
     "status": "completed"
    },
    "tags": []
   },
   "outputs": [
    {
     "name": "stdout",
     "output_type": "stream",
     "text": [
      "Dropping features: ['age']\n"
     ]
    }
   ],
   "source": [
    "if len(excluded_features_columns) > 0:\n",
    "    print(f\"Dropping features: {excluded_features_columns}\")\n",
    "    X_calib.drop(excluded_features_columns, axis=1, inplace=True)"
   ]
  },
  {
   "cell_type": "code",
   "execution_count": 27,
   "id": "3037356e",
   "metadata": {
    "execution": {
     "iopub.execute_input": "2025-08-19T18:59:01.114773Z",
     "iopub.status.busy": "2025-08-19T18:59:01.113908Z",
     "iopub.status.idle": "2025-08-19T18:59:01.122188Z",
     "shell.execute_reply": "2025-08-19T18:59:01.120802Z"
    },
    "papermill": {
     "duration": 0.023027,
     "end_time": "2025-08-19T18:59:01.123770",
     "exception": false,
     "start_time": "2025-08-19T18:59:01.100743",
     "status": "completed"
    },
    "tags": []
   },
   "outputs": [],
   "source": [
    "# EXCLUDE CERTAIN SUBGROUPS\n",
    "# -------------------------\n",
    "\n",
    "mode = universe.get(\"exclude_subgroups\", \"keep-all\") # Defaults to \"keep-all\" if the key is missing."
   ]
  },
  {
   "cell_type": "code",
   "execution_count": 28,
   "id": "9d1e63fd",
   "metadata": {
    "execution": {
     "iopub.execute_input": "2025-08-19T18:59:01.150396Z",
     "iopub.status.busy": "2025-08-19T18:59:01.149463Z",
     "iopub.status.idle": "2025-08-19T18:59:01.162062Z",
     "shell.execute_reply": "2025-08-19T18:59:01.160527Z"
    },
    "papermill": {
     "duration": 0.026414,
     "end_time": "2025-08-19T18:59:01.163715",
     "exception": false,
     "start_time": "2025-08-19T18:59:01.137301",
     "status": "completed"
    },
    "tags": []
   },
   "outputs": [],
   "source": [
    "if mode == \"keep-all\":\n",
    "    keep_mask = pd.Series(True, index=org_train.index)\n",
    "\n",
    "elif mode == \"drop-non-german\":\n",
    "    keep_mask = (org_train[\"maxdeutsch1\"] == 1) & (org_train[\"maxdeutsch.Missing.\"] == 0)\n",
    "\n",
    "else:\n",
    "    raise ValueError(f\"Unsupported mode for exclude_subgroups: {mode}\")"
   ]
  },
  {
   "cell_type": "code",
   "execution_count": 29,
   "id": "d3b65474",
   "metadata": {
    "execution": {
     "iopub.execute_input": "2025-08-19T18:59:01.209676Z",
     "iopub.status.busy": "2025-08-19T18:59:01.208679Z",
     "iopub.status.idle": "2025-08-19T18:59:01.222633Z",
     "shell.execute_reply": "2025-08-19T18:59:01.221351Z"
    },
    "papermill": {
     "duration": 0.030982,
     "end_time": "2025-08-19T18:59:01.224374",
     "exception": false,
     "start_time": "2025-08-19T18:59:01.193392",
     "status": "completed"
    },
    "tags": []
   },
   "outputs": [
    {
     "name": "stdout",
     "output_type": "stream",
     "text": [
      "Dropping 147 rows (14.70%) where mode='drop-non-german'\n"
     ]
    }
   ],
   "source": [
    "n_drop = (~keep_mask).sum() # Calculates how many rows are set to be dropped\n",
    "if n_drop > 0:\n",
    "    pct = n_drop / len(keep_mask) * 100\n",
    "    print(f\"Dropping {n_drop} rows ({pct:.2f}%) where mode='{mode}'\")"
   ]
  },
  {
   "cell_type": "code",
   "execution_count": 30,
   "id": "f44389b3",
   "metadata": {
    "execution": {
     "iopub.execute_input": "2025-08-19T18:59:01.253295Z",
     "iopub.status.busy": "2025-08-19T18:59:01.251112Z",
     "iopub.status.idle": "2025-08-19T18:59:01.262015Z",
     "shell.execute_reply": "2025-08-19T18:59:01.260784Z"
    },
    "papermill": {
     "duration": 0.02521,
     "end_time": "2025-08-19T18:59:01.263630",
     "exception": false,
     "start_time": "2025-08-19T18:59:01.238420",
     "status": "completed"
    },
    "tags": []
   },
   "outputs": [],
   "source": [
    "X_train = X_train[keep_mask]"
   ]
  },
  {
   "cell_type": "code",
   "execution_count": 31,
   "id": "ceca8c2a",
   "metadata": {
    "execution": {
     "iopub.execute_input": "2025-08-19T18:59:01.293593Z",
     "iopub.status.busy": "2025-08-19T18:59:01.292563Z",
     "iopub.status.idle": "2025-08-19T18:59:01.302437Z",
     "shell.execute_reply": "2025-08-19T18:59:01.300815Z"
    },
    "papermill": {
     "duration": 0.024695,
     "end_time": "2025-08-19T18:59:01.304110",
     "exception": false,
     "start_time": "2025-08-19T18:59:01.279415",
     "status": "completed"
    },
    "tags": []
   },
   "outputs": [],
   "source": [
    "y_train = y_train[keep_mask]"
   ]
  },
  {
   "cell_type": "markdown",
   "id": "04d31e2f",
   "metadata": {
    "papermill": {
     "duration": 0.01123,
     "end_time": "2025-08-19T18:59:01.330251",
     "exception": false,
     "start_time": "2025-08-19T18:59:01.319021",
     "status": "completed"
    },
    "tags": []
   },
   "source": [
    "# Model Training"
   ]
  },
  {
   "cell_type": "code",
   "execution_count": 32,
   "id": "db991733",
   "metadata": {
    "execution": {
     "iopub.execute_input": "2025-08-19T18:59:01.354416Z",
     "iopub.status.busy": "2025-08-19T18:59:01.353137Z",
     "iopub.status.idle": "2025-08-19T18:59:01.472382Z",
     "shell.execute_reply": "2025-08-19T18:59:01.471729Z"
    },
    "papermill": {
     "duration": 0.134231,
     "end_time": "2025-08-19T18:59:01.475092",
     "exception": false,
     "start_time": "2025-08-19T18:59:01.340861",
     "status": "completed"
    },
    "tags": []
   },
   "outputs": [],
   "source": [
    "from sklearn.linear_model import LogisticRegression\n",
    "from sklearn.ensemble import GradientBoostingClassifier, RandomForestClassifier\n",
    "\n",
    "if (universe[\"model\"] == \"logreg\"):\n",
    "    model = LogisticRegression() #penalty=\"none\", solver=\"newton-cg\", max_iter=1)\n",
    "elif (universe[\"model\"] == \"penalized_logreg\"):\n",
    "    model = LogisticRegression(penalty=\"l2\", C=0.1) #, solver=\"newton-cg\", max_iter=1)\n",
    "elif (universe[\"model\"] == \"rf\"):\n",
    "    model = RandomForestClassifier() # n_estimators=100, n_jobs=-1\n",
    "elif (universe[\"model\"] == \"gbm\"):\n",
    "    model = GradientBoostingClassifier()\n",
    "elif (universe[\"model\"] == \"elasticnet\"):\n",
    "    model = LogisticRegression(penalty = 'elasticnet', solver = 'saga', l1_ratio = 0.5) # max_iter=5000\n",
    "else:\n",
    "    raise \"Unsupported universe.model\""
   ]
  },
  {
   "cell_type": "code",
   "execution_count": 33,
   "id": "a4b5cd25",
   "metadata": {
    "execution": {
     "iopub.execute_input": "2025-08-19T18:59:01.517387Z",
     "iopub.status.busy": "2025-08-19T18:59:01.516092Z",
     "iopub.status.idle": "2025-08-19T18:59:01.524875Z",
     "shell.execute_reply": "2025-08-19T18:59:01.523694Z"
    },
    "papermill": {
     "duration": 0.024274,
     "end_time": "2025-08-19T18:59:01.526238",
     "exception": false,
     "start_time": "2025-08-19T18:59:01.501964",
     "status": "completed"
    },
    "tags": []
   },
   "outputs": [],
   "source": [
    "from sklearn.pipeline import Pipeline\n",
    "from sklearn.preprocessing import StandardScaler\n",
    "\n",
    "model = Pipeline([\n",
    "    #(\"continuous_processor\", continuous_processor),\n",
    "    #(\"categorical_preprocessor\", categorical_preprocessor),\n",
    "    (\"scale\", StandardScaler() if universe[\"scale\"] == \"scale\" else None), \n",
    "    (\"model\", model),\n",
    "])"
   ]
  },
  {
   "cell_type": "code",
   "execution_count": 34,
   "id": "283a904d",
   "metadata": {
    "execution": {
     "iopub.execute_input": "2025-08-19T18:59:01.553892Z",
     "iopub.status.busy": "2025-08-19T18:59:01.552758Z",
     "iopub.status.idle": "2025-08-19T18:59:01.898091Z",
     "shell.execute_reply": "2025-08-19T18:59:01.897488Z"
    },
    "papermill": {
     "duration": 0.362976,
     "end_time": "2025-08-19T18:59:01.900071",
     "exception": false,
     "start_time": "2025-08-19T18:59:01.537095",
     "status": "completed"
    },
    "tags": []
   },
   "outputs": [
    {
     "data": {
      "text/html": [
       "<style>#sk-container-id-1 {color: black;background-color: white;}#sk-container-id-1 pre{padding: 0;}#sk-container-id-1 div.sk-toggleable {background-color: white;}#sk-container-id-1 label.sk-toggleable__label {cursor: pointer;display: block;width: 100%;margin-bottom: 0;padding: 0.3em;box-sizing: border-box;text-align: center;}#sk-container-id-1 label.sk-toggleable__label-arrow:before {content: \"▸\";float: left;margin-right: 0.25em;color: #696969;}#sk-container-id-1 label.sk-toggleable__label-arrow:hover:before {color: black;}#sk-container-id-1 div.sk-estimator:hover label.sk-toggleable__label-arrow:before {color: black;}#sk-container-id-1 div.sk-toggleable__content {max-height: 0;max-width: 0;overflow: hidden;text-align: left;background-color: #f0f8ff;}#sk-container-id-1 div.sk-toggleable__content pre {margin: 0.2em;color: black;border-radius: 0.25em;background-color: #f0f8ff;}#sk-container-id-1 input.sk-toggleable__control:checked~div.sk-toggleable__content {max-height: 200px;max-width: 100%;overflow: auto;}#sk-container-id-1 input.sk-toggleable__control:checked~label.sk-toggleable__label-arrow:before {content: \"▾\";}#sk-container-id-1 div.sk-estimator input.sk-toggleable__control:checked~label.sk-toggleable__label {background-color: #d4ebff;}#sk-container-id-1 div.sk-label input.sk-toggleable__control:checked~label.sk-toggleable__label {background-color: #d4ebff;}#sk-container-id-1 input.sk-hidden--visually {border: 0;clip: rect(1px 1px 1px 1px);clip: rect(1px, 1px, 1px, 1px);height: 1px;margin: -1px;overflow: hidden;padding: 0;position: absolute;width: 1px;}#sk-container-id-1 div.sk-estimator {font-family: monospace;background-color: #f0f8ff;border: 1px dotted black;border-radius: 0.25em;box-sizing: border-box;margin-bottom: 0.5em;}#sk-container-id-1 div.sk-estimator:hover {background-color: #d4ebff;}#sk-container-id-1 div.sk-parallel-item::after {content: \"\";width: 100%;border-bottom: 1px solid gray;flex-grow: 1;}#sk-container-id-1 div.sk-label:hover label.sk-toggleable__label {background-color: #d4ebff;}#sk-container-id-1 div.sk-serial::before {content: \"\";position: absolute;border-left: 1px solid gray;box-sizing: border-box;top: 0;bottom: 0;left: 50%;z-index: 0;}#sk-container-id-1 div.sk-serial {display: flex;flex-direction: column;align-items: center;background-color: white;padding-right: 0.2em;padding-left: 0.2em;position: relative;}#sk-container-id-1 div.sk-item {position: relative;z-index: 1;}#sk-container-id-1 div.sk-parallel {display: flex;align-items: stretch;justify-content: center;background-color: white;position: relative;}#sk-container-id-1 div.sk-item::before, #sk-container-id-1 div.sk-parallel-item::before {content: \"\";position: absolute;border-left: 1px solid gray;box-sizing: border-box;top: 0;bottom: 0;left: 50%;z-index: -1;}#sk-container-id-1 div.sk-parallel-item {display: flex;flex-direction: column;z-index: 1;position: relative;background-color: white;}#sk-container-id-1 div.sk-parallel-item:first-child::after {align-self: flex-end;width: 50%;}#sk-container-id-1 div.sk-parallel-item:last-child::after {align-self: flex-start;width: 50%;}#sk-container-id-1 div.sk-parallel-item:only-child::after {width: 0;}#sk-container-id-1 div.sk-dashed-wrapped {border: 1px dashed gray;margin: 0 0.4em 0.5em 0.4em;box-sizing: border-box;padding-bottom: 0.4em;background-color: white;}#sk-container-id-1 div.sk-label label {font-family: monospace;font-weight: bold;display: inline-block;line-height: 1.2em;}#sk-container-id-1 div.sk-label-container {text-align: center;}#sk-container-id-1 div.sk-container {/* jupyter's `normalize.less` sets `[hidden] { display: none; }` but bootstrap.min.css set `[hidden] { display: none !important; }` so we also need the `!important` here to be able to override the default hidden behavior on the sphinx rendered scikit-learn.org. See: https://github.com/scikit-learn/scikit-learn/issues/21755 */display: inline-block !important;position: relative;}#sk-container-id-1 div.sk-text-repr-fallback {display: none;}</style><div id=\"sk-container-id-1\" class=\"sk-top-container\"><div class=\"sk-text-repr-fallback\"><pre>Pipeline(steps=[(&#x27;scale&#x27;, StandardScaler()),\n",
       "                (&#x27;model&#x27;, RandomForestClassifier())])</pre><b>In a Jupyter environment, please rerun this cell to show the HTML representation or trust the notebook. <br />On GitHub, the HTML representation is unable to render, please try loading this page with nbviewer.org.</b></div><div class=\"sk-container\" hidden><div class=\"sk-item sk-dashed-wrapped\"><div class=\"sk-label-container\"><div class=\"sk-label sk-toggleable\"><input class=\"sk-toggleable__control sk-hidden--visually\" id=\"sk-estimator-id-1\" type=\"checkbox\" ><label for=\"sk-estimator-id-1\" class=\"sk-toggleable__label sk-toggleable__label-arrow\">Pipeline</label><div class=\"sk-toggleable__content\"><pre>Pipeline(steps=[(&#x27;scale&#x27;, StandardScaler()),\n",
       "                (&#x27;model&#x27;, RandomForestClassifier())])</pre></div></div></div><div class=\"sk-serial\"><div class=\"sk-item\"><div class=\"sk-estimator sk-toggleable\"><input class=\"sk-toggleable__control sk-hidden--visually\" id=\"sk-estimator-id-2\" type=\"checkbox\" ><label for=\"sk-estimator-id-2\" class=\"sk-toggleable__label sk-toggleable__label-arrow\">StandardScaler</label><div class=\"sk-toggleable__content\"><pre>StandardScaler()</pre></div></div></div><div class=\"sk-item\"><div class=\"sk-estimator sk-toggleable\"><input class=\"sk-toggleable__control sk-hidden--visually\" id=\"sk-estimator-id-3\" type=\"checkbox\" ><label for=\"sk-estimator-id-3\" class=\"sk-toggleable__label sk-toggleable__label-arrow\">RandomForestClassifier</label><div class=\"sk-toggleable__content\"><pre>RandomForestClassifier()</pre></div></div></div></div></div></div></div>"
      ],
      "text/plain": [
       "Pipeline(steps=[('scale', StandardScaler()),\n",
       "                ('model', RandomForestClassifier())])"
      ]
     },
     "execution_count": 34,
     "metadata": {},
     "output_type": "execute_result"
    }
   ],
   "source": [
    "model.fit(X_train, y_train.values.ravel())"
   ]
  },
  {
   "cell_type": "code",
   "execution_count": 35,
   "id": "6e15e313",
   "metadata": {
    "execution": {
     "iopub.execute_input": "2025-08-19T18:59:01.926009Z",
     "iopub.status.busy": "2025-08-19T18:59:01.925283Z",
     "iopub.status.idle": "2025-08-19T18:59:03.222299Z",
     "shell.execute_reply": "2025-08-19T18:59:03.221367Z"
    },
    "papermill": {
     "duration": 1.31112,
     "end_time": "2025-08-19T18:59:03.223546",
     "exception": false,
     "start_time": "2025-08-19T18:59:01.912426",
     "status": "completed"
    },
    "tags": []
   },
   "outputs": [
    {
     "data": {
      "text/plain": [
       "0.855645970348902"
      ]
     },
     "execution_count": 35,
     "metadata": {},
     "output_type": "execute_result"
    }
   ],
   "source": [
    "from fairness_multiverse.universe import predict_w_threshold\n",
    "\n",
    "probs_test = model.predict_proba(X_test)\n",
    "\n",
    "'''\n",
    "Below code returns a boolean array (or binary 0/1 array depending on how it’s used) where each element \n",
    "is True if the probability of class 1 is greater than or equal to the threshold, and False otherwise.\n",
    "'''\n",
    "y_pred_default = predict_w_threshold(probs_test, 0.5)\n",
    "\n",
    "from sklearn.metrics import accuracy_score\n",
    "\n",
    "# Naive prediction\n",
    "accuracy_score(y_true = y_true, y_pred = y_pred_default)"
   ]
  },
  {
   "cell_type": "code",
   "execution_count": 36,
   "id": "6f14067c",
   "metadata": {
    "execution": {
     "iopub.execute_input": "2025-08-19T18:59:03.247665Z",
     "iopub.status.busy": "2025-08-19T18:59:03.247138Z",
     "iopub.status.idle": "2025-08-19T18:59:04.562182Z",
     "shell.execute_reply": "2025-08-19T18:59:04.561111Z"
    },
    "papermill": {
     "duration": 1.328601,
     "end_time": "2025-08-19T18:59:04.563529",
     "exception": false,
     "start_time": "2025-08-19T18:59:03.234928",
     "status": "completed"
    },
    "tags": []
   },
   "outputs": [
    {
     "data": {
      "text/plain": [
       "array([0, 0, 0, ..., 0, 0, 0])"
      ]
     },
     "execution_count": 36,
     "metadata": {},
     "output_type": "execute_result"
    }
   ],
   "source": [
    "model.predict(X_test)"
   ]
  },
  {
   "cell_type": "markdown",
   "id": "3759920c",
   "metadata": {
    "papermill": {
     "duration": 0.010893,
     "end_time": "2025-08-19T18:59:04.585874",
     "exception": false,
     "start_time": "2025-08-19T18:59:04.574981",
     "status": "completed"
    },
    "tags": []
   },
   "source": [
    "# Conformal Prediction"
   ]
  },
  {
   "cell_type": "code",
   "execution_count": 37,
   "id": "14b27f59",
   "metadata": {
    "execution": {
     "iopub.execute_input": "2025-08-19T18:59:04.610981Z",
     "iopub.status.busy": "2025-08-19T18:59:04.610131Z",
     "iopub.status.idle": "2025-08-19T18:59:04.620067Z",
     "shell.execute_reply": "2025-08-19T18:59:04.618669Z"
    },
    "papermill": {
     "duration": 0.024919,
     "end_time": "2025-08-19T18:59:04.621681",
     "exception": false,
     "start_time": "2025-08-19T18:59:04.596762",
     "status": "completed"
    },
    "tags": []
   },
   "outputs": [],
   "source": [
    "# Miscoverage level for conformal prediction (10% allowed error rate => 90% target coverage)\n",
    "alpha = 0.1"
   ]
  },
  {
   "cell_type": "code",
   "execution_count": 38,
   "id": "59102472",
   "metadata": {
    "execution": {
     "iopub.execute_input": "2025-08-19T18:59:04.650799Z",
     "iopub.status.busy": "2025-08-19T18:59:04.649627Z",
     "iopub.status.idle": "2025-08-19T18:59:05.921460Z",
     "shell.execute_reply": "2025-08-19T18:59:05.920193Z"
    },
    "papermill": {
     "duration": 1.2864,
     "end_time": "2025-08-19T18:59:05.923098",
     "exception": false,
     "start_time": "2025-08-19T18:59:04.636698",
     "status": "completed"
    },
    "tags": []
   },
   "outputs": [],
   "source": [
    "probs_calib = model.predict_proba(X_calib)"
   ]
  },
  {
   "cell_type": "code",
   "execution_count": 39,
   "id": "a792d4dd",
   "metadata": {
    "execution": {
     "iopub.execute_input": "2025-08-19T18:59:05.954819Z",
     "iopub.status.busy": "2025-08-19T18:59:05.954333Z",
     "iopub.status.idle": "2025-08-19T18:59:05.960901Z",
     "shell.execute_reply": "2025-08-19T18:59:05.959995Z"
    },
    "papermill": {
     "duration": 0.025663,
     "end_time": "2025-08-19T18:59:05.962417",
     "exception": false,
     "start_time": "2025-08-19T18:59:05.936754",
     "status": "completed"
    },
    "tags": []
   },
   "outputs": [],
   "source": [
    "y_calib = y_calib.values.ravel().astype(int)"
   ]
  },
  {
   "cell_type": "code",
   "execution_count": 40,
   "id": "650fd033",
   "metadata": {
    "execution": {
     "iopub.execute_input": "2025-08-19T18:59:05.986928Z",
     "iopub.status.busy": "2025-08-19T18:59:05.986520Z",
     "iopub.status.idle": "2025-08-19T18:59:05.993697Z",
     "shell.execute_reply": "2025-08-19T18:59:05.992867Z"
    },
    "papermill": {
     "duration": 0.020575,
     "end_time": "2025-08-19T18:59:05.995022",
     "exception": false,
     "start_time": "2025-08-19T18:59:05.974447",
     "status": "completed"
    },
    "tags": []
   },
   "outputs": [],
   "source": [
    "from fairness_multiverse.conformal import compute_nc_scores\n",
    "\n",
    "# Compute nonconformity scores on calibration set (1 - probability of true class)\n",
    "nc_scores = compute_nc_scores(probs_calib, y_calib)"
   ]
  },
  {
   "cell_type": "code",
   "execution_count": 41,
   "id": "28ada44c",
   "metadata": {
    "execution": {
     "iopub.execute_input": "2025-08-19T18:59:06.018991Z",
     "iopub.status.busy": "2025-08-19T18:59:06.018585Z",
     "iopub.status.idle": "2025-08-19T18:59:06.025248Z",
     "shell.execute_reply": "2025-08-19T18:59:06.024506Z"
    },
    "papermill": {
     "duration": 0.020429,
     "end_time": "2025-08-19T18:59:06.026818",
     "exception": false,
     "start_time": "2025-08-19T18:59:06.006389",
     "status": "completed"
    },
    "tags": []
   },
   "outputs": [],
   "source": [
    "from fairness_multiverse.conformal import find_threshold\n",
    "\n",
    "# Find conformal threshold q_hat for the given alpha (split conformal method)\n",
    "q_hat = find_threshold(nc_scores, alpha)"
   ]
  },
  {
   "cell_type": "code",
   "execution_count": 42,
   "id": "df56469e",
   "metadata": {
    "execution": {
     "iopub.execute_input": "2025-08-19T18:59:06.052706Z",
     "iopub.status.busy": "2025-08-19T18:59:06.052279Z",
     "iopub.status.idle": "2025-08-19T18:59:06.058215Z",
     "shell.execute_reply": "2025-08-19T18:59:06.057516Z"
    },
    "papermill": {
     "duration": 0.01966,
     "end_time": "2025-08-19T18:59:06.059577",
     "exception": false,
     "start_time": "2025-08-19T18:59:06.039917",
     "status": "completed"
    },
    "tags": []
   },
   "outputs": [
    {
     "data": {
      "text/plain": [
       "0.6699999999999999"
      ]
     },
     "execution_count": 42,
     "metadata": {},
     "output_type": "execute_result"
    }
   ],
   "source": [
    "q_hat"
   ]
  },
  {
   "cell_type": "code",
   "execution_count": 43,
   "id": "aa1f5faa",
   "metadata": {
    "execution": {
     "iopub.execute_input": "2025-08-19T18:59:06.083903Z",
     "iopub.status.busy": "2025-08-19T18:59:06.083512Z",
     "iopub.status.idle": "2025-08-19T18:59:07.799938Z",
     "shell.execute_reply": "2025-08-19T18:59:07.799127Z"
    },
    "papermill": {
     "duration": 1.730649,
     "end_time": "2025-08-19T18:59:07.801768",
     "exception": false,
     "start_time": "2025-08-19T18:59:06.071119",
     "status": "completed"
    },
    "tags": []
   },
   "outputs": [],
   "source": [
    "from fairness_multiverse.conformal import predict_conformal_sets\n",
    "\n",
    "# Generate prediction sets for each test example\n",
    "pred_sets = predict_conformal_sets(model, X_test, q_hat)"
   ]
  },
  {
   "cell_type": "code",
   "execution_count": 44,
   "id": "97f67a6b",
   "metadata": {
    "execution": {
     "iopub.execute_input": "2025-08-19T18:59:07.839841Z",
     "iopub.status.busy": "2025-08-19T18:59:07.839434Z",
     "iopub.status.idle": "2025-08-19T18:59:07.843968Z",
     "shell.execute_reply": "2025-08-19T18:59:07.843299Z"
    },
    "papermill": {
     "duration": 0.029892,
     "end_time": "2025-08-19T18:59:07.846276",
     "exception": false,
     "start_time": "2025-08-19T18:59:07.816384",
     "status": "completed"
    },
    "tags": []
   },
   "outputs": [],
   "source": [
    "y_true = y_true.squeeze()"
   ]
  },
  {
   "cell_type": "code",
   "execution_count": 45,
   "id": "e700e9a7",
   "metadata": {
    "execution": {
     "iopub.execute_input": "2025-08-19T18:59:07.877984Z",
     "iopub.status.busy": "2025-08-19T18:59:07.877137Z",
     "iopub.status.idle": "2025-08-19T18:59:08.358205Z",
     "shell.execute_reply": "2025-08-19T18:59:08.357434Z"
    },
    "papermill": {
     "duration": 0.495788,
     "end_time": "2025-08-19T18:59:08.359891",
     "exception": false,
     "start_time": "2025-08-19T18:59:07.864103",
     "status": "completed"
    },
    "tags": []
   },
   "outputs": [],
   "source": [
    "from fairness_multiverse.conformal import evaluate_sets\n",
    "\n",
    "# Evaluate coverage and average set size on test data\n",
    "metrics = evaluate_sets(pred_sets, y_true)"
   ]
  },
  {
   "cell_type": "markdown",
   "id": "efbacec0",
   "metadata": {
    "papermill": {
     "duration": 0.011284,
     "end_time": "2025-08-19T18:59:08.383274",
     "exception": false,
     "start_time": "2025-08-19T18:59:08.371990",
     "status": "completed"
    },
    "tags": []
   },
   "source": [
    "# CP Metrics"
   ]
  },
  {
   "cell_type": "code",
   "execution_count": 46,
   "id": "9de55fb1",
   "metadata": {
    "execution": {
     "iopub.execute_input": "2025-08-19T18:59:08.407329Z",
     "iopub.status.busy": "2025-08-19T18:59:08.407021Z",
     "iopub.status.idle": "2025-08-19T18:59:08.413098Z",
     "shell.execute_reply": "2025-08-19T18:59:08.412386Z"
    },
    "papermill": {
     "duration": 0.01974,
     "end_time": "2025-08-19T18:59:08.414356",
     "exception": false,
     "start_time": "2025-08-19T18:59:08.394616",
     "status": "completed"
    },
    "tags": []
   },
   "outputs": [
    {
     "data": {
      "text/plain": [
       "{'coverage': 0.9140118158510757, 'avg_size': 1.1826217812952848}"
      ]
     },
     "execution_count": 46,
     "metadata": {},
     "output_type": "execute_result"
    }
   ],
   "source": [
    "metrics"
   ]
  },
  {
   "cell_type": "code",
   "execution_count": 47,
   "id": "64c340a1",
   "metadata": {
    "execution": {
     "iopub.execute_input": "2025-08-19T18:59:08.439939Z",
     "iopub.status.busy": "2025-08-19T18:59:08.439087Z",
     "iopub.status.idle": "2025-08-19T18:59:08.446042Z",
     "shell.execute_reply": "2025-08-19T18:59:08.444937Z"
    },
    "papermill": {
     "duration": 0.020881,
     "end_time": "2025-08-19T18:59:08.447428",
     "exception": false,
     "start_time": "2025-08-19T18:59:08.426547",
     "status": "completed"
    },
    "tags": []
   },
   "outputs": [],
   "source": [
    "example_universe = universe.copy()\n",
    "universe_training_year = example_universe.get(\"training_year\")\n",
    "universe_training_size = example_universe.get(\"training_size\")\n",
    "universe_scale = example_universe.get(\"scale\")\n",
    "universe_model = example_universe.get(\"model\")\n",
    "universe_exclude_features = example_universe.get(\"exclude_features\")\n",
    "universe_exclude_subgroups = example_universe.get(\"exclude_subgroups\")"
   ]
  },
  {
   "cell_type": "code",
   "execution_count": 48,
   "id": "dbb53cb4",
   "metadata": {
    "execution": {
     "iopub.execute_input": "2025-08-19T18:59:08.475599Z",
     "iopub.status.busy": "2025-08-19T18:59:08.474157Z",
     "iopub.status.idle": "2025-08-19T18:59:08.484152Z",
     "shell.execute_reply": "2025-08-19T18:59:08.482924Z"
    },
    "papermill": {
     "duration": 0.025173,
     "end_time": "2025-08-19T18:59:08.485819",
     "exception": false,
     "start_time": "2025-08-19T18:59:08.460646",
     "status": "completed"
    },
    "tags": []
   },
   "outputs": [],
   "source": [
    "cp_metrics_dict = {\n",
    "    \"universe_id\": [universe_id],\n",
    "    \"universe_training_year\": [universe_training_year],\n",
    "    \"universe_training_size\": [universe_training_size],\n",
    "    \"universe_scale\": [universe_scale],\n",
    "    \"universe_model\": [universe_model],\n",
    "    \"universe_exclude_features\": [universe_exclude_features],\n",
    "    \"universe_exclude_subgroups\": [universe_exclude_subgroups],\n",
    "    \"q_hat\": [q_hat],\n",
    "    \"coverage\": [metrics[\"coverage\"]],\n",
    "    \"avg_size\": [metrics[\"avg_size\"]],\n",
    "}"
   ]
  },
  {
   "cell_type": "code",
   "execution_count": 49,
   "id": "0d70d4b2",
   "metadata": {
    "execution": {
     "iopub.execute_input": "2025-08-19T18:59:08.515813Z",
     "iopub.status.busy": "2025-08-19T18:59:08.514352Z",
     "iopub.status.idle": "2025-08-19T18:59:08.523907Z",
     "shell.execute_reply": "2025-08-19T18:59:08.522665Z"
    },
    "papermill": {
     "duration": 0.024244,
     "end_time": "2025-08-19T18:59:08.525565",
     "exception": false,
     "start_time": "2025-08-19T18:59:08.501321",
     "status": "completed"
    },
    "tags": []
   },
   "outputs": [],
   "source": [
    "cp_metrics_df = pd.DataFrame(cp_metrics_dict)"
   ]
  },
  {
   "cell_type": "code",
   "execution_count": 50,
   "id": "b494403c",
   "metadata": {
    "execution": {
     "iopub.execute_input": "2025-08-19T18:59:08.555090Z",
     "iopub.status.busy": "2025-08-19T18:59:08.554000Z",
     "iopub.status.idle": "2025-08-19T18:59:08.575941Z",
     "shell.execute_reply": "2025-08-19T18:59:08.574839Z"
    },
    "papermill": {
     "duration": 0.036901,
     "end_time": "2025-08-19T18:59:08.577847",
     "exception": false,
     "start_time": "2025-08-19T18:59:08.540946",
     "status": "completed"
    },
    "tags": []
   },
   "outputs": [
    {
     "data": {
      "text/html": [
       "<div>\n",
       "<style scoped>\n",
       "    .dataframe tbody tr th:only-of-type {\n",
       "        vertical-align: middle;\n",
       "    }\n",
       "\n",
       "    .dataframe tbody tr th {\n",
       "        vertical-align: top;\n",
       "    }\n",
       "\n",
       "    .dataframe thead th {\n",
       "        text-align: right;\n",
       "    }\n",
       "</style>\n",
       "<table border=\"1\" class=\"dataframe\">\n",
       "  <thead>\n",
       "    <tr style=\"text-align: right;\">\n",
       "      <th></th>\n",
       "      <th>universe_id</th>\n",
       "      <th>universe_training_year</th>\n",
       "      <th>universe_training_size</th>\n",
       "      <th>universe_scale</th>\n",
       "      <th>universe_model</th>\n",
       "      <th>universe_exclude_features</th>\n",
       "      <th>universe_exclude_subgroups</th>\n",
       "      <th>q_hat</th>\n",
       "      <th>coverage</th>\n",
       "      <th>avg_size</th>\n",
       "    </tr>\n",
       "  </thead>\n",
       "  <tbody>\n",
       "    <tr>\n",
       "      <th>0</th>\n",
       "      <td>214ff89a7cdbc9f29cf98c65c7a34ac3</td>\n",
       "      <td>2012_14</td>\n",
       "      <td>1k</td>\n",
       "      <td>scale</td>\n",
       "      <td>rf</td>\n",
       "      <td>age</td>\n",
       "      <td>drop-non-german</td>\n",
       "      <td>0.67</td>\n",
       "      <td>0.914012</td>\n",
       "      <td>1.182622</td>\n",
       "    </tr>\n",
       "  </tbody>\n",
       "</table>\n",
       "</div>"
      ],
      "text/plain": [
       "                        universe_id universe_training_year  \\\n",
       "0  214ff89a7cdbc9f29cf98c65c7a34ac3                2012_14   \n",
       "\n",
       "  universe_training_size universe_scale universe_model  \\\n",
       "0                     1k          scale             rf   \n",
       "\n",
       "  universe_exclude_features universe_exclude_subgroups  q_hat  coverage  \\\n",
       "0                       age            drop-non-german   0.67  0.914012   \n",
       "\n",
       "   avg_size  \n",
       "0  1.182622  "
      ]
     },
     "execution_count": 50,
     "metadata": {},
     "output_type": "execute_result"
    }
   ],
   "source": [
    "cp_metrics_df"
   ]
  },
  {
   "cell_type": "markdown",
   "id": "ed608b0b",
   "metadata": {
    "papermill": {
     "duration": 0.012431,
     "end_time": "2025-08-19T18:59:08.608398",
     "exception": false,
     "start_time": "2025-08-19T18:59:08.595967",
     "status": "completed"
    },
    "tags": []
   },
   "source": [
    "Conditional coverage & looking at subgroups"
   ]
  },
  {
   "cell_type": "code",
   "execution_count": 51,
   "id": "8968c366",
   "metadata": {
    "execution": {
     "iopub.execute_input": "2025-08-19T18:59:08.634455Z",
     "iopub.status.busy": "2025-08-19T18:59:08.633497Z",
     "iopub.status.idle": "2025-08-19T18:59:08.875869Z",
     "shell.execute_reply": "2025-08-19T18:59:08.875087Z"
    },
    "papermill": {
     "duration": 0.257416,
     "end_time": "2025-08-19T18:59:08.877466",
     "exception": false,
     "start_time": "2025-08-19T18:59:08.620050",
     "status": "completed"
    },
    "tags": []
   },
   "outputs": [],
   "source": [
    "from fairness_multiverse.conformal import build_cp_groups\n",
    "\n",
    "cp_groups_df = build_cp_groups(pred_sets, y_true, X_test.index, org_test)"
   ]
  },
  {
   "cell_type": "code",
   "execution_count": 52,
   "id": "292ddabf",
   "metadata": {
    "execution": {
     "iopub.execute_input": "2025-08-19T18:59:08.904971Z",
     "iopub.status.busy": "2025-08-19T18:59:08.904001Z",
     "iopub.status.idle": "2025-08-19T18:59:09.726118Z",
     "shell.execute_reply": "2025-08-19T18:59:09.725336Z"
    },
    "papermill": {
     "duration": 0.836896,
     "end_time": "2025-08-19T18:59:09.727721",
     "exception": false,
     "start_time": "2025-08-19T18:59:08.890825",
     "status": "completed"
    },
    "tags": []
   },
   "outputs": [],
   "source": [
    "# Define covered = 1 if true_label is in the predicted set\n",
    "cp_groups_df['covered'] = cp_groups_df.apply(\n",
    "    lambda r: int(r['true_label'] in r['pred_set']),\n",
    "    axis=1\n",
    ")"
   ]
  },
  {
   "cell_type": "code",
   "execution_count": 53,
   "id": "3a261692",
   "metadata": {
    "execution": {
     "iopub.execute_input": "2025-08-19T18:59:09.756045Z",
     "iopub.status.busy": "2025-08-19T18:59:09.755184Z",
     "iopub.status.idle": "2025-08-19T18:59:09.771532Z",
     "shell.execute_reply": "2025-08-19T18:59:09.770364Z"
    },
    "papermill": {
     "duration": 0.03153,
     "end_time": "2025-08-19T18:59:09.773277",
     "exception": false,
     "start_time": "2025-08-19T18:59:09.741747",
     "status": "completed"
    },
    "tags": []
   },
   "outputs": [],
   "source": [
    "subgroups = ['frau1','nongerman','nongerman_male','nongerman_female']\n",
    "\n",
    "# Conditional coverage for subgroup==1\n",
    "cond_coverage = {\n",
    "    g: cp_groups_df.loc[cp_groups_df[g]==1, 'covered'].mean()\n",
    "    for g in subgroups\n",
    "}"
   ]
  },
  {
   "cell_type": "code",
   "execution_count": 54,
   "id": "894fd600",
   "metadata": {
    "execution": {
     "iopub.execute_input": "2025-08-19T18:59:09.807164Z",
     "iopub.status.busy": "2025-08-19T18:59:09.805893Z",
     "iopub.status.idle": "2025-08-19T18:59:09.817728Z",
     "shell.execute_reply": "2025-08-19T18:59:09.816364Z"
    },
    "papermill": {
     "duration": 0.027498,
     "end_time": "2025-08-19T18:59:09.819544",
     "exception": false,
     "start_time": "2025-08-19T18:59:09.792046",
     "status": "completed"
    },
    "tags": []
   },
   "outputs": [
    {
     "data": {
      "text/plain": [
       "{'frau1': 0.914462865615312,\n",
       " 'nongerman': 0.9077078538146298,\n",
       " 'nongerman_male': 0.9160587228676934,\n",
       " 'nongerman_female': 0.8938897168405365}"
      ]
     },
     "execution_count": 54,
     "metadata": {},
     "output_type": "execute_result"
    }
   ],
   "source": [
    "cond_coverage"
   ]
  },
  {
   "cell_type": "code",
   "execution_count": 55,
   "id": "942895c7",
   "metadata": {
    "execution": {
     "iopub.execute_input": "2025-08-19T18:59:09.850916Z",
     "iopub.status.busy": "2025-08-19T18:59:09.849736Z",
     "iopub.status.idle": "2025-08-19T18:59:09.862143Z",
     "shell.execute_reply": "2025-08-19T18:59:09.860510Z"
    },
    "papermill": {
     "duration": 0.027853,
     "end_time": "2025-08-19T18:59:09.863914",
     "exception": false,
     "start_time": "2025-08-19T18:59:09.836061",
     "status": "completed"
    },
    "tags": []
   },
   "outputs": [],
   "source": [
    "for subgroup, cov in cond_coverage.items():\n",
    "    cp_metrics_df[f\"cov_{subgroup}\"] = cov"
   ]
  },
  {
   "cell_type": "code",
   "execution_count": 56,
   "id": "3970120f",
   "metadata": {
    "execution": {
     "iopub.execute_input": "2025-08-19T18:59:09.895233Z",
     "iopub.status.busy": "2025-08-19T18:59:09.894085Z",
     "iopub.status.idle": "2025-08-19T18:59:09.918905Z",
     "shell.execute_reply": "2025-08-19T18:59:09.918073Z"
    },
    "papermill": {
     "duration": 0.040565,
     "end_time": "2025-08-19T18:59:09.920839",
     "exception": false,
     "start_time": "2025-08-19T18:59:09.880274",
     "status": "completed"
    },
    "tags": []
   },
   "outputs": [
    {
     "data": {
      "text/html": [
       "<div>\n",
       "<style scoped>\n",
       "    .dataframe tbody tr th:only-of-type {\n",
       "        vertical-align: middle;\n",
       "    }\n",
       "\n",
       "    .dataframe tbody tr th {\n",
       "        vertical-align: top;\n",
       "    }\n",
       "\n",
       "    .dataframe thead th {\n",
       "        text-align: right;\n",
       "    }\n",
       "</style>\n",
       "<table border=\"1\" class=\"dataframe\">\n",
       "  <thead>\n",
       "    <tr style=\"text-align: right;\">\n",
       "      <th></th>\n",
       "      <th>universe_id</th>\n",
       "      <th>universe_training_year</th>\n",
       "      <th>universe_training_size</th>\n",
       "      <th>universe_scale</th>\n",
       "      <th>universe_model</th>\n",
       "      <th>universe_exclude_features</th>\n",
       "      <th>universe_exclude_subgroups</th>\n",
       "      <th>q_hat</th>\n",
       "      <th>coverage</th>\n",
       "      <th>avg_size</th>\n",
       "      <th>cov_frau1</th>\n",
       "      <th>cov_nongerman</th>\n",
       "      <th>cov_nongerman_male</th>\n",
       "      <th>cov_nongerman_female</th>\n",
       "    </tr>\n",
       "  </thead>\n",
       "  <tbody>\n",
       "    <tr>\n",
       "      <th>0</th>\n",
       "      <td>214ff89a7cdbc9f29cf98c65c7a34ac3</td>\n",
       "      <td>2012_14</td>\n",
       "      <td>1k</td>\n",
       "      <td>scale</td>\n",
       "      <td>rf</td>\n",
       "      <td>age</td>\n",
       "      <td>drop-non-german</td>\n",
       "      <td>0.67</td>\n",
       "      <td>0.914012</td>\n",
       "      <td>1.182622</td>\n",
       "      <td>0.914463</td>\n",
       "      <td>0.907708</td>\n",
       "      <td>0.916059</td>\n",
       "      <td>0.89389</td>\n",
       "    </tr>\n",
       "  </tbody>\n",
       "</table>\n",
       "</div>"
      ],
      "text/plain": [
       "                        universe_id universe_training_year  \\\n",
       "0  214ff89a7cdbc9f29cf98c65c7a34ac3                2012_14   \n",
       "\n",
       "  universe_training_size universe_scale universe_model  \\\n",
       "0                     1k          scale             rf   \n",
       "\n",
       "  universe_exclude_features universe_exclude_subgroups  q_hat  coverage  \\\n",
       "0                       age            drop-non-german   0.67  0.914012   \n",
       "\n",
       "   avg_size  cov_frau1  cov_nongerman  cov_nongerman_male  \\\n",
       "0  1.182622   0.914463       0.907708            0.916059   \n",
       "\n",
       "   cov_nongerman_female  \n",
       "0               0.89389  "
      ]
     },
     "execution_count": 56,
     "metadata": {},
     "output_type": "execute_result"
    }
   ],
   "source": [
    "cp_metrics_df"
   ]
  },
  {
   "cell_type": "markdown",
   "id": "3fc519cc",
   "metadata": {
    "papermill": {
     "duration": 0.01305,
     "end_time": "2025-08-19T18:59:09.954450",
     "exception": false,
     "start_time": "2025-08-19T18:59:09.941400",
     "status": "completed"
    },
    "tags": []
   },
   "source": [
    "# (Fairness) Metrics"
   ]
  },
  {
   "cell_type": "code",
   "execution_count": 57,
   "id": "a2e5e155",
   "metadata": {
    "execution": {
     "iopub.execute_input": "2025-08-19T18:59:09.981515Z",
     "iopub.status.busy": "2025-08-19T18:59:09.980314Z",
     "iopub.status.idle": "2025-08-19T18:59:10.008679Z",
     "shell.execute_reply": "2025-08-19T18:59:10.007830Z"
    },
    "papermill": {
     "duration": 0.044385,
     "end_time": "2025-08-19T18:59:10.010910",
     "exception": false,
     "start_time": "2025-08-19T18:59:09.966525",
     "status": "completed"
    },
    "tags": []
   },
   "outputs": [],
   "source": [
    "colname_to_bin = \"maxdeutsch1\"\n",
    "majority_value = org_train[colname_to_bin].mode()[0]\n",
    "\n",
    "org_test[\"majmin\"] = np.where(org_test[colname_to_bin] == majority_value, \"majority\", \"minority\")"
   ]
  },
  {
   "cell_type": "code",
   "execution_count": 58,
   "id": "17e3e4d5",
   "metadata": {
    "execution": {
     "iopub.execute_input": "2025-08-19T18:59:10.051153Z",
     "iopub.status.busy": "2025-08-19T18:59:10.050121Z",
     "iopub.status.idle": "2025-08-19T18:59:11.728358Z",
     "shell.execute_reply": "2025-08-19T18:59:11.727679Z"
    },
    "papermill": {
     "duration": 1.694461,
     "end_time": "2025-08-19T18:59:11.729771",
     "exception": false,
     "start_time": "2025-08-19T18:59:10.035310",
     "status": "completed"
    },
    "tags": []
   },
   "outputs": [],
   "source": [
    "example_universe = universe.copy()\n",
    "example_universe[\"cutoff\"] = example_universe[\"cutoff\"][0]\n",
    "example_universe[\"eval_fairness_grouping\"] = example_universe[\"eval_fairness_grouping\"][0]\n",
    "fairness_dict, metric_frame = universe_analysis.compute_metrics(\n",
    "    example_universe,\n",
    "    y_pred_prob=probs_test,\n",
    "    y_test=y_true,\n",
    "    org_test=org_test,\n",
    ")"
   ]
  },
  {
   "cell_type": "markdown",
   "id": "1fb7a0e9",
   "metadata": {
    "papermill": {
     "duration": 0.022637,
     "end_time": "2025-08-19T18:59:11.776024",
     "exception": false,
     "start_time": "2025-08-19T18:59:11.753387",
     "status": "completed"
    },
    "tags": []
   },
   "source": [
    "# Overall"
   ]
  },
  {
   "cell_type": "markdown",
   "id": "be1784b1",
   "metadata": {
    "papermill": {
     "duration": 0.012389,
     "end_time": "2025-08-19T18:59:11.801893",
     "exception": false,
     "start_time": "2025-08-19T18:59:11.789504",
     "status": "completed"
    },
    "tags": []
   },
   "source": [
    "Main fairness target: Equalized Odds. Seems to be a better fit than equal opportunity, since we're not only interested in Y = 1. Seems to be a better fit than demographic parity, since we also care about accuracy, not just equal distribution of preds.\n",
    "\n",
    "Pick column for computation of fairness metrics\n",
    "\n",
    "Performance\n",
    "Overall performance measures, most interesting in relation to the measures split by group below"
   ]
  },
  {
   "cell_type": "code",
   "execution_count": 59,
   "id": "b7672bee",
   "metadata": {
    "execution": {
     "iopub.execute_input": "2025-08-19T18:59:11.828175Z",
     "iopub.status.busy": "2025-08-19T18:59:11.827769Z",
     "iopub.status.idle": "2025-08-19T18:59:11.834567Z",
     "shell.execute_reply": "2025-08-19T18:59:11.833873Z"
    },
    "papermill": {
     "duration": 0.023386,
     "end_time": "2025-08-19T18:59:11.837632",
     "exception": false,
     "start_time": "2025-08-19T18:59:11.814246",
     "status": "completed"
    },
    "tags": []
   },
   "outputs": [
    {
     "data": {
      "text/plain": [
       "accuracy                   0.212184\n",
       "balanced accuracy          0.540344\n",
       "f1                         0.242262\n",
       "precision                  0.138180\n",
       "false positive rate        0.901064\n",
       "false negative rate        0.018248\n",
       "selection rate             0.911415\n",
       "count                  89710.000000\n",
       "dtype: float64"
      ]
     },
     "execution_count": 59,
     "metadata": {},
     "output_type": "execute_result"
    }
   ],
   "source": [
    "metric_frame.overall"
   ]
  },
  {
   "cell_type": "markdown",
   "id": "d93333c9",
   "metadata": {
    "papermill": {
     "duration": 0.013774,
     "end_time": "2025-08-19T18:59:11.878411",
     "exception": false,
     "start_time": "2025-08-19T18:59:11.864637",
     "status": "completed"
    },
    "tags": []
   },
   "source": [
    "By Group"
   ]
  },
  {
   "cell_type": "code",
   "execution_count": 60,
   "id": "52256966",
   "metadata": {
    "execution": {
     "iopub.execute_input": "2025-08-19T18:59:11.906814Z",
     "iopub.status.busy": "2025-08-19T18:59:11.905518Z",
     "iopub.status.idle": "2025-08-19T18:59:11.929455Z",
     "shell.execute_reply": "2025-08-19T18:59:11.928174Z"
    },
    "papermill": {
     "duration": 0.04037,
     "end_time": "2025-08-19T18:59:11.931433",
     "exception": false,
     "start_time": "2025-08-19T18:59:11.891063",
     "status": "completed"
    },
    "tags": []
   },
   "outputs": [
    {
     "data": {
      "text/html": [
       "<div>\n",
       "<style scoped>\n",
       "    .dataframe tbody tr th:only-of-type {\n",
       "        vertical-align: middle;\n",
       "    }\n",
       "\n",
       "    .dataframe tbody tr th {\n",
       "        vertical-align: top;\n",
       "    }\n",
       "\n",
       "    .dataframe thead th {\n",
       "        text-align: right;\n",
       "    }\n",
       "</style>\n",
       "<table border=\"1\" class=\"dataframe\">\n",
       "  <thead>\n",
       "    <tr style=\"text-align: right;\">\n",
       "      <th></th>\n",
       "      <th>accuracy</th>\n",
       "      <th>balanced accuracy</th>\n",
       "      <th>f1</th>\n",
       "      <th>precision</th>\n",
       "      <th>false positive rate</th>\n",
       "      <th>false negative rate</th>\n",
       "      <th>selection rate</th>\n",
       "      <th>count</th>\n",
       "    </tr>\n",
       "    <tr>\n",
       "      <th>majmin</th>\n",
       "      <th></th>\n",
       "      <th></th>\n",
       "      <th></th>\n",
       "      <th></th>\n",
       "      <th></th>\n",
       "      <th></th>\n",
       "      <th></th>\n",
       "      <th></th>\n",
       "    </tr>\n",
       "  </thead>\n",
       "  <tbody>\n",
       "    <tr>\n",
       "      <th>majority</th>\n",
       "      <td>0.218838</td>\n",
       "      <td>0.542855</td>\n",
       "      <td>0.249615</td>\n",
       "      <td>0.142953</td>\n",
       "      <td>0.897551</td>\n",
       "      <td>0.016740</td>\n",
       "      <td>0.908877</td>\n",
       "      <td>69170.0</td>\n",
       "    </tr>\n",
       "    <tr>\n",
       "      <th>minority</th>\n",
       "      <td>0.189776</td>\n",
       "      <td>0.531631</td>\n",
       "      <td>0.217363</td>\n",
       "      <td>0.122301</td>\n",
       "      <td>0.912668</td>\n",
       "      <td>0.024071</td>\n",
       "      <td>0.919961</td>\n",
       "      <td>20540.0</td>\n",
       "    </tr>\n",
       "  </tbody>\n",
       "</table>\n",
       "</div>"
      ],
      "text/plain": [
       "          accuracy  balanced accuracy        f1  precision  \\\n",
       "majmin                                                       \n",
       "majority  0.218838           0.542855  0.249615   0.142953   \n",
       "minority  0.189776           0.531631  0.217363   0.122301   \n",
       "\n",
       "          false positive rate  false negative rate  selection rate    count  \n",
       "majmin                                                                       \n",
       "majority             0.897551             0.016740        0.908877  69170.0  \n",
       "minority             0.912668             0.024071        0.919961  20540.0  "
      ]
     },
     "execution_count": 60,
     "metadata": {},
     "output_type": "execute_result"
    }
   ],
   "source": [
    "metric_frame.by_group"
   ]
  },
  {
   "cell_type": "code",
   "execution_count": 61,
   "id": "6e6c20ae",
   "metadata": {
    "execution": {
     "iopub.execute_input": "2025-08-19T18:59:11.967945Z",
     "iopub.status.busy": "2025-08-19T18:59:11.966649Z",
     "iopub.status.idle": "2025-08-19T18:59:13.767863Z",
     "shell.execute_reply": "2025-08-19T18:59:13.759772Z"
    },
    "papermill": {
     "duration": 1.818849,
     "end_time": "2025-08-19T18:59:13.770498",
     "exception": false,
     "start_time": "2025-08-19T18:59:11.951649",
     "status": "completed"
    },
    "tags": []
   },
   "outputs": [
    {
     "data": {
      "text/plain": [
       "array([[<Axes: title={'center': 'accuracy'}, xlabel='majmin'>,\n",
       "        <Axes: title={'center': 'balanced accuracy'}, xlabel='majmin'>,\n",
       "        <Axes: title={'center': 'f1'}, xlabel='majmin'>],\n",
       "       [<Axes: title={'center': 'precision'}, xlabel='majmin'>,\n",
       "        <Axes: title={'center': 'false positive rate'}, xlabel='majmin'>,\n",
       "        <Axes: title={'center': 'false negative rate'}, xlabel='majmin'>],\n",
       "       [<Axes: title={'center': 'selection rate'}, xlabel='majmin'>,\n",
       "        <Axes: title={'center': 'count'}, xlabel='majmin'>,\n",
       "        <Axes: xlabel='majmin'>]], dtype=object)"
      ]
     },
     "execution_count": 61,
     "metadata": {},
     "output_type": "execute_result"
    },
    {
     "data": {
      "image/png": "[encoded data removed]",
      "text/plain": [
       "<Figure size 1200x800 with 9 Axes>"
      ]
     },
     "metadata": {},
     "output_type": "display_data"
    }
   ],
   "source": [
    "# In a graphic\n",
    "metric_frame.by_group.plot.bar(\n",
    "    subplots=True,\n",
    "    layout=[3, 3],\n",
    "    legend=False,\n",
    "    figsize=[12, 8],\n",
    "    title=\"Show all metrics\",\n",
    ")"
   ]
  },
  {
   "cell_type": "markdown",
   "id": "b2e433ae",
   "metadata": {
    "papermill": {
     "duration": 0.013852,
     "end_time": "2025-08-19T18:59:13.804613",
     "exception": false,
     "start_time": "2025-08-19T18:59:13.790761",
     "status": "completed"
    },
    "tags": []
   },
   "source": [
    "# Final Output"
   ]
  },
  {
   "cell_type": "code",
   "execution_count": 62,
   "id": "3871301e",
   "metadata": {
    "execution": {
     "iopub.execute_input": "2025-08-19T18:59:13.835977Z",
     "iopub.status.busy": "2025-08-19T18:59:13.834334Z",
     "iopub.status.idle": "2025-08-19T18:59:13.849983Z",
     "shell.execute_reply": "2025-08-19T18:59:13.848767Z"
    },
    "papermill": {
     "duration": 0.033892,
     "end_time": "2025-08-19T18:59:13.852131",
     "exception": false,
     "start_time": "2025-08-19T18:59:13.818239",
     "status": "completed"
    },
    "tags": []
   },
   "outputs": [
    {
     "data": {
      "text/plain": [
       "4"
      ]
     },
     "execution_count": 62,
     "metadata": {},
     "output_type": "execute_result"
    }
   ],
   "source": [
    "sub_universes = universe_analysis.generate_sub_universes()\n",
    "len(sub_universes)"
   ]
  },
  {
   "cell_type": "code",
   "execution_count": 63,
   "id": "d9cfdaca",
   "metadata": {
    "execution": {
     "iopub.execute_input": "2025-08-19T18:59:13.887091Z",
     "iopub.status.busy": "2025-08-19T18:59:13.886300Z",
     "iopub.status.idle": "2025-08-19T18:59:13.904225Z",
     "shell.execute_reply": "2025-08-19T18:59:13.902617Z"
    },
    "papermill": {
     "duration": 0.035967,
     "end_time": "2025-08-19T18:59:13.906683",
     "exception": false,
     "start_time": "2025-08-19T18:59:13.870716",
     "status": "completed"
    },
    "tags": []
   },
   "outputs": [],
   "source": [
    "def filter_sub_universe_data(sub_universe, org_test):\n",
    "    # Keep all rows — no filtering\n",
    "    keep_rows_mask = np.ones(org_test.shape[0], dtype=bool)\n",
    "\n",
    "    print(f\"[INFO] Keeping all rows: {keep_rows_mask.sum()} rows retained.\")\n",
    "    return keep_rows_mask"
   ]
  },
  {
   "cell_type": "code",
   "execution_count": 64,
   "id": "2bc31ac1",
   "metadata": {
    "execution": {
     "iopub.execute_input": "2025-08-19T18:59:13.945431Z",
     "iopub.status.busy": "2025-08-19T18:59:13.944105Z",
     "iopub.status.idle": "2025-08-19T18:59:20.953047Z",
     "shell.execute_reply": "2025-08-19T18:59:20.951878Z"
    },
    "papermill": {
     "duration": 7.02621,
     "end_time": "2025-08-19T18:59:20.954421",
     "exception": false,
     "start_time": "2025-08-19T18:59:13.928211",
     "status": "completed"
    },
    "tags": []
   },
   "outputs": [
    {
     "name": "stdout",
     "output_type": "stream",
     "text": [
      "Stopping execution_time clock.\n",
      "[INFO] Keeping all rows: 89710 rows retained.\n"
     ]
    },
    {
     "name": "stdout",
     "output_type": "stream",
     "text": [
      "[INFO] Keeping all rows: 89710 rows retained.\n"
     ]
    },
    {
     "name": "stdout",
     "output_type": "stream",
     "text": [
      "[INFO] Keeping all rows: 89710 rows retained.\n"
     ]
    },
    {
     "name": "stdout",
     "output_type": "stream",
     "text": [
      "[INFO] Keeping all rows: 89710 rows retained.\n"
     ]
    },
    {
     "data": {
      "text/html": [
       "<div>\n",
       "<style scoped>\n",
       "    .dataframe tbody tr th:only-of-type {\n",
       "        vertical-align: middle;\n",
       "    }\n",
       "\n",
       "    .dataframe tbody tr th {\n",
       "        vertical-align: top;\n",
       "    }\n",
       "\n",
       "    .dataframe thead th {\n",
       "        text-align: right;\n",
       "    }\n",
       "</style>\n",
       "<table border=\"1\" class=\"dataframe\">\n",
       "  <thead>\n",
       "    <tr style=\"text-align: right;\">\n",
       "      <th></th>\n",
       "      <th>run_no</th>\n",
       "      <th>universe_id</th>\n",
       "      <th>universe_settings</th>\n",
       "      <th>execution_time</th>\n",
       "      <th>test_size_n</th>\n",
       "      <th>test_size_frac</th>\n",
       "      <th>fair_main_equalized_odds_difference</th>\n",
       "      <th>fair_main_equalized_odds_ratio</th>\n",
       "      <th>fair_main_demographic_parity_difference</th>\n",
       "      <th>fair_main_demographic_parity_ratio</th>\n",
       "      <th>...</th>\n",
       "      <th>perf_grp_precision_0</th>\n",
       "      <th>perf_grp_precision_1</th>\n",
       "      <th>perf_grp_false positive rate_0</th>\n",
       "      <th>perf_grp_false positive rate_1</th>\n",
       "      <th>perf_grp_false negative rate_0</th>\n",
       "      <th>perf_grp_false negative rate_1</th>\n",
       "      <th>perf_grp_selection rate_0</th>\n",
       "      <th>perf_grp_selection rate_1</th>\n",
       "      <th>perf_grp_count_0</th>\n",
       "      <th>perf_grp_count_1</th>\n",
       "    </tr>\n",
       "  </thead>\n",
       "  <tbody>\n",
       "    <tr>\n",
       "      <th>0</th>\n",
       "      <td>3</td>\n",
       "      <td>214ff89a7cdbc9f29cf98c65c7a34ac3</td>\n",
       "      <td>{\"cutoff\": \"quantile_0.1\", \"eval_fairness_grou...</td>\n",
       "      <td>25.88876</td>\n",
       "      <td>89710</td>\n",
       "      <td>1.0</td>\n",
       "      <td>0.015117</td>\n",
       "      <td>0.983437</td>\n",
       "      <td>0.011084</td>\n",
       "      <td>0.987951</td>\n",
       "      <td>...</td>\n",
       "      <td>NaN</td>\n",
       "      <td>NaN</td>\n",
       "      <td>NaN</td>\n",
       "      <td>NaN</td>\n",
       "      <td>NaN</td>\n",
       "      <td>NaN</td>\n",
       "      <td>NaN</td>\n",
       "      <td>NaN</td>\n",
       "      <td>NaN</td>\n",
       "      <td>NaN</td>\n",
       "    </tr>\n",
       "    <tr>\n",
       "      <th>0</th>\n",
       "      <td>3</td>\n",
       "      <td>214ff89a7cdbc9f29cf98c65c7a34ac3</td>\n",
       "      <td>{\"cutoff\": \"quantile_0.1\", \"eval_fairness_grou...</td>\n",
       "      <td>25.88876</td>\n",
       "      <td>89710</td>\n",
       "      <td>1.0</td>\n",
       "      <td>0.015117</td>\n",
       "      <td>0.983437</td>\n",
       "      <td>0.011084</td>\n",
       "      <td>0.987951</td>\n",
       "      <td>...</td>\n",
       "      <td>0.122301</td>\n",
       "      <td>0.142953</td>\n",
       "      <td>0.912668</td>\n",
       "      <td>0.897551</td>\n",
       "      <td>0.024071</td>\n",
       "      <td>0.01674</td>\n",
       "      <td>0.919961</td>\n",
       "      <td>0.908877</td>\n",
       "      <td>20540.0</td>\n",
       "      <td>69170.0</td>\n",
       "    </tr>\n",
       "    <tr>\n",
       "      <th>0</th>\n",
       "      <td>3</td>\n",
       "      <td>214ff89a7cdbc9f29cf98c65c7a34ac3</td>\n",
       "      <td>{\"cutoff\": \"quantile_0.25\", \"eval_fairness_gro...</td>\n",
       "      <td>25.88876</td>\n",
       "      <td>89710</td>\n",
       "      <td>1.0</td>\n",
       "      <td>0.060711</td>\n",
       "      <td>0.923316</td>\n",
       "      <td>0.045854</td>\n",
       "      <td>0.942991</td>\n",
       "      <td>...</td>\n",
       "      <td>NaN</td>\n",
       "      <td>NaN</td>\n",
       "      <td>NaN</td>\n",
       "      <td>NaN</td>\n",
       "      <td>NaN</td>\n",
       "      <td>NaN</td>\n",
       "      <td>NaN</td>\n",
       "      <td>NaN</td>\n",
       "      <td>NaN</td>\n",
       "      <td>NaN</td>\n",
       "    </tr>\n",
       "    <tr>\n",
       "      <th>0</th>\n",
       "      <td>3</td>\n",
       "      <td>214ff89a7cdbc9f29cf98c65c7a34ac3</td>\n",
       "      <td>{\"cutoff\": \"quantile_0.25\", \"eval_fairness_gro...</td>\n",
       "      <td>25.88876</td>\n",
       "      <td>89710</td>\n",
       "      <td>1.0</td>\n",
       "      <td>0.060711</td>\n",
       "      <td>0.923316</td>\n",
       "      <td>0.045854</td>\n",
       "      <td>0.942991</td>\n",
       "      <td>...</td>\n",
       "      <td>0.129169</td>\n",
       "      <td>0.163579</td>\n",
       "      <td>0.791713</td>\n",
       "      <td>0.731001</td>\n",
       "      <td>0.098818</td>\n",
       "      <td>0.06105</td>\n",
       "      <td>0.804333</td>\n",
       "      <td>0.758479</td>\n",
       "      <td>20540.0</td>\n",
       "      <td>69170.0</td>\n",
       "    </tr>\n",
       "  </tbody>\n",
       "</table>\n",
       "<p>4 rows × 50 columns</p>\n",
       "</div>"
      ],
      "text/plain": [
       "  run_no                       universe_id  \\\n",
       "0      3  214ff89a7cdbc9f29cf98c65c7a34ac3   \n",
       "0      3  214ff89a7cdbc9f29cf98c65c7a34ac3   \n",
       "0      3  214ff89a7cdbc9f29cf98c65c7a34ac3   \n",
       "0      3  214ff89a7cdbc9f29cf98c65c7a34ac3   \n",
       "\n",
       "                                   universe_settings  execution_time  \\\n",
       "0  {\"cutoff\": \"quantile_0.1\", \"eval_fairness_grou...        25.88876   \n",
       "0  {\"cutoff\": \"quantile_0.1\", \"eval_fairness_grou...        25.88876   \n",
       "0  {\"cutoff\": \"quantile_0.25\", \"eval_fairness_gro...        25.88876   \n",
       "0  {\"cutoff\": \"quantile_0.25\", \"eval_fairness_gro...        25.88876   \n",
       "\n",
       "   test_size_n  test_size_frac  fair_main_equalized_odds_difference  \\\n",
       "0        89710             1.0                             0.015117   \n",
       "0        89710             1.0                             0.015117   \n",
       "0        89710             1.0                             0.060711   \n",
       "0        89710             1.0                             0.060711   \n",
       "\n",
       "   fair_main_equalized_odds_ratio  fair_main_demographic_parity_difference  \\\n",
       "0                        0.983437                                 0.011084   \n",
       "0                        0.983437                                 0.011084   \n",
       "0                        0.923316                                 0.045854   \n",
       "0                        0.923316                                 0.045854   \n",
       "\n",
       "   fair_main_demographic_parity_ratio  ...  perf_grp_precision_0  \\\n",
       "0                            0.987951  ...                   NaN   \n",
       "0                            0.987951  ...              0.122301   \n",
       "0                            0.942991  ...                   NaN   \n",
       "0                            0.942991  ...              0.129169   \n",
       "\n",
       "   perf_grp_precision_1  perf_grp_false positive rate_0  \\\n",
       "0                   NaN                             NaN   \n",
       "0              0.142953                        0.912668   \n",
       "0                   NaN                             NaN   \n",
       "0              0.163579                        0.791713   \n",
       "\n",
       "   perf_grp_false positive rate_1  perf_grp_false negative rate_0  \\\n",
       "0                             NaN                             NaN   \n",
       "0                        0.897551                        0.024071   \n",
       "0                             NaN                             NaN   \n",
       "0                        0.731001                        0.098818   \n",
       "\n",
       "   perf_grp_false negative rate_1  perf_grp_selection rate_0  \\\n",
       "0                             NaN                        NaN   \n",
       "0                         0.01674                   0.919961   \n",
       "0                             NaN                        NaN   \n",
       "0                         0.06105                   0.804333   \n",
       "\n",
       "   perf_grp_selection rate_1  perf_grp_count_0  perf_grp_count_1  \n",
       "0                        NaN               NaN               NaN  \n",
       "0                   0.908877           20540.0           69170.0  \n",
       "0                        NaN               NaN               NaN  \n",
       "0                   0.758479           20540.0           69170.0  \n",
       "\n",
       "[4 rows x 50 columns]"
      ]
     },
     "execution_count": 64,
     "metadata": {},
     "output_type": "execute_result"
    }
   ],
   "source": [
    "final_output = universe_analysis.generate_final_output(\n",
    "    y_pred_prob=probs_test,\n",
    "    y_test=y_true,\n",
    "    org_test=org_test,\n",
    "    filter_data=filter_sub_universe_data,\n",
    "    cp_metrics_df=cp_metrics_df,\n",
    "    save=True,\n",
    ")\n",
    "final_output"
   ]
  },
  {
   "cell_type": "code",
   "execution_count": null,
   "id": "8b80a1ff",
   "metadata": {
    "papermill": {
     "duration": 0.014407,
     "end_time": "2025-08-19T18:59:20.986829",
     "exception": false,
     "start_time": "2025-08-19T18:59:20.972422",
     "status": "completed"
    },
    "tags": []
   },
   "outputs": [],
   "source": []
  },
  {
   "cell_type": "code",
   "execution_count": null,
   "id": "275c9fad",
   "metadata": {
    "papermill": {
     "duration": 0.014085,
     "end_time": "2025-08-19T18:59:21.015130",
     "exception": false,
     "start_time": "2025-08-19T18:59:21.001045",
     "status": "completed"
    },
    "tags": []
   },
   "outputs": [],
   "source": []
  }
 ],
 "metadata": {
  "celltoolbar": "Tags",
  "kernelspec": {
   "display_name": "Python (CMA Fairness)",
   "language": "python",
   "name": "cma_fair_env"
  },
  "language_info": {
   "codemirror_mode": {
    "name": "ipython",
    "version": 3
   },
   "file_extension": ".py",
   "mimetype": "text/x-python",
   "name": "python",
   "nbconvert_exporter": "python",
   "pygments_lexer": "ipython3",
   "version": "3.10.12"
  },
  "papermill": {
   "default_parameters": {},
   "duration": 36.918966,
   "end_time": "2025-08-19T18:59:22.020729",
   "environment_variables": {},
   "exception": null,
   "input_path": "universe_analysis.ipynb",
   "output_path": "output/runs/3/notebooks/m_3-214ff89a7cdbc9f29cf98c65c7a34ac3.ipynb",
   "parameters": {
    "output_dir": "output",
    "run_no": "3",
    "seed": "2023",
    "universe": "{\"cutoff\": [\"quantile_0.1\", \"quantile_0.25\"], \"eval_fairness_grouping\": [\"majority-minority\", \"nationality-all\"], \"exclude_features\": \"age\", \"exclude_subgroups\": \"drop-non-german\", \"model\": \"rf\", \"scale\": \"scale\", \"training_size\": \"1k\", \"training_year\": \"2012_14\"}",
    "universe_id": "214ff89a7cdbc9f29cf98c65c7a34ac3"
   },
   "start_time": "2025-08-19T18:58:45.101763",
   "version": "2.6.0"
  }
 },
 "nbformat": 4,
 "nbformat_minor": 5
}