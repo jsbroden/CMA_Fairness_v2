{
 "cells": [
  {
   "cell_type": "code",
   "execution_count": 1,
   "id": "f159f837-637b-42ba-96b5-ec9a68c44524",
   "metadata": {
    "execution": {
     "iopub.execute_input": "2025-07-22T09:13:12.863073Z",
     "iopub.status.busy": "2025-07-22T09:13:12.862311Z",
     "iopub.status.idle": "2025-07-22T09:13:12.876345Z",
     "shell.execute_reply": "2025-07-22T09:13:12.875377Z"
    },
    "papermill": {
     "duration": 0.032662,
     "end_time": "2025-07-22T09:13:12.878566",
     "exception": false,
     "start_time": "2025-07-22T09:13:12.845904",
     "status": "completed"
    },
    "tags": []
   },
   "outputs": [
    {
     "name": "stdout",
     "output_type": "stream",
     "text": [
      "/dss/dsshome1/0C/ra93lal2/cma/CMA_Fairness_v2\n"
     ]
    },
    {
     "name": "stderr",
     "output_type": "stream",
     "text": [
      "/dss/dsshome1/0C/ra93lal2/.local/share/virtualenvs/CMA_Fairness_v2-3j10GkSs/lib/python3.10/site-packages/IPython/core/magics/osm.py:393: UserWarning: This is now an optional IPython functionality, using bookmarks requires you to install the `pickleshare` library.\n",
      "  bkms = self.shell.db.get('bookmarks', {})\n",
      "/dss/dsshome1/0C/ra93lal2/.local/share/virtualenvs/CMA_Fairness_v2-3j10GkSs/lib/python3.10/site-packages/IPython/core/magics/osm.py:417: UserWarning: This is now an optional IPython functionality, setting dhist requires you to install the `pickleshare` library.\n",
      "  self.shell.db['dhist'] = compress_dhist(dhist)[-100:]\n"
     ]
    }
   ],
   "source": [
    "%cd ~/cma/CMA_Fairness_v2"
   ]
  },
  {
   "cell_type": "markdown",
   "id": "de2603b9",
   "metadata": {
    "papermill": {
     "duration": 0.016592,
     "end_time": "2025-07-22T09:13:12.914053",
     "exception": false,
     "start_time": "2025-07-22T09:13:12.897461",
     "status": "completed"
    },
    "tags": []
   },
   "source": [
    "The following cell holds the definition of our parameters, these values can be overriden by rendering the with e.g. the following command:\n",
    "\n",
    "papermill -p alpha 0.2 -p ratio 0.3 universe_analysis.ipynb output/test_run.ipynb"
   ]
  },
  {
   "cell_type": "code",
   "execution_count": 2,
   "id": "a80968a0-40bb-4fa9-85ef-2d5eefb01975",
   "metadata": {
    "execution": {
     "iopub.execute_input": "2025-07-22T09:13:12.957517Z",
     "iopub.status.busy": "2025-07-22T09:13:12.957144Z",
     "iopub.status.idle": "2025-07-22T09:13:12.962899Z",
     "shell.execute_reply": "2025-07-22T09:13:12.961840Z"
    },
    "papermill": {
     "duration": 0.029567,
     "end_time": "2025-07-22T09:13:12.964749",
     "exception": false,
     "start_time": "2025-07-22T09:13:12.935182",
     "status": "completed"
    },
    "tags": []
   },
   "outputs": [
    {
     "name": "stdout",
     "output_type": "stream",
     "text": [
      "Current working directory: /dss/dsshome1/0C/ra93lal2/cma/CMA_Fairness_v2\n"
     ]
    }
   ],
   "source": [
    "import os\n",
    "print(\"Current working directory:\", os.getcwd())"
   ]
  },
  {
   "cell_type": "code",
   "execution_count": 3,
   "id": "2dce4c03",
   "metadata": {
    "execution": {
     "iopub.execute_input": "2025-07-22T09:13:12.997020Z",
     "iopub.status.busy": "2025-07-22T09:13:12.996286Z",
     "iopub.status.idle": "2025-07-22T09:13:13.002920Z",
     "shell.execute_reply": "2025-07-22T09:13:13.001801Z"
    },
    "papermill": {
     "duration": 0.024267,
     "end_time": "2025-07-22T09:13:13.004668",
     "exception": false,
     "start_time": "2025-07-22T09:13:12.980401",
     "status": "completed"
    },
    "tags": [
     "parameters"
    ]
   },
   "outputs": [],
   "source": [
    "run_no = 0\n",
    "universe_id = \"test\"\n",
    "universe = {\n",
    "    #\"scale\": \"scale\", # \"scale\", \"do-not-scale\",\n",
    "    #\"encode_categorical\": \"one-hot\", # \"ordinal\", \"one-hot\"\n",
    "    \"model\": \"elasticnet\", # \"logreg\", \"penalized_logreg\", \"rf\", \"gbm\", \"elasticnet\"\n",
    "    \"cutoff\": [\"quantile_0.15\", \"quantile_0.30\"],\n",
    "    \"exclude_features\": \"nationality-sex\", # \"none\", \"nationality\", \"sex\", \"nationality-sex\"\n",
    "    \"exclude_subgroups\": \"keep-all\", # \"keep-all\", \"drop-non-german\"\n",
    "    \"eval_fairness_grouping\": [\"majority-minority\", \"nationality-all\"]\n",
    "}\n",
    "\n",
    "output_dir=\"./output\"\n",
    "seed=0"
   ]
  },
  {
   "cell_type": "code",
   "execution_count": 4,
   "id": "69494443",
   "metadata": {
    "execution": {
     "iopub.execute_input": "2025-07-22T09:13:13.038827Z",
     "iopub.status.busy": "2025-07-22T09:13:13.038177Z",
     "iopub.status.idle": "2025-07-22T09:13:13.043884Z",
     "shell.execute_reply": "2025-07-22T09:13:13.042878Z"
    },
    "papermill": {
     "duration": 0.024633,
     "end_time": "2025-07-22T09:13:13.045687",
     "exception": false,
     "start_time": "2025-07-22T09:13:13.021054",
     "status": "completed"
    },
    "tags": [
     "injected-parameters"
    ]
   },
   "outputs": [],
   "source": [
    "# Parameters\n",
    "universe_id = \"c47c5a76445d831a16ee271956e6271b\"\n",
    "run_no = \"3\"\n",
    "universe = \"{\\\"cutoff\\\": [\\\"quantile_0.1\\\", \\\"quantile_0.25\\\"], \\\"eval_fairness_grouping\\\": [\\\"majority-minority\\\", \\\"nationality-all\\\"], \\\"exclude_features\\\": \\\"nationality-sex\\\", \\\"exclude_subgroups\\\": \\\"drop-non-german\\\", \\\"model\\\": \\\"penalized_logreg\\\", \\\"scale\\\": \\\"scale\\\"}\"\n",
    "output_dir = \"output\"\n",
    "seed = \"2023\"\n"
   ]
  },
  {
   "cell_type": "code",
   "execution_count": 5,
   "id": "1650acaf",
   "metadata": {
    "execution": {
     "iopub.execute_input": "2025-07-22T09:13:13.079044Z",
     "iopub.status.busy": "2025-07-22T09:13:13.078248Z",
     "iopub.status.idle": "2025-07-22T09:13:13.083272Z",
     "shell.execute_reply": "2025-07-22T09:13:13.082258Z"
    },
    "papermill": {
     "duration": 0.022983,
     "end_time": "2025-07-22T09:13:13.085068",
     "exception": false,
     "start_time": "2025-07-22T09:13:13.062085",
     "status": "completed"
    },
    "tags": []
   },
   "outputs": [],
   "source": [
    "import json\n",
    "# Parse universe into dict if it is passed as a string\n",
    "if isinstance(universe, str):\n",
    "    universe = json.loads(universe)"
   ]
  },
  {
   "cell_type": "code",
   "execution_count": 6,
   "id": "16620c48",
   "metadata": {
    "execution": {
     "iopub.execute_input": "2025-07-22T09:13:13.119206Z",
     "iopub.status.busy": "2025-07-22T09:13:13.118553Z",
     "iopub.status.idle": "2025-07-22T09:13:13.165773Z",
     "shell.execute_reply": "2025-07-22T09:13:13.164917Z"
    },
    "papermill": {
     "duration": 0.065211,
     "end_time": "2025-07-22T09:13:13.167490",
     "exception": false,
     "start_time": "2025-07-22T09:13:13.102279",
     "status": "completed"
    },
    "tags": []
   },
   "outputs": [],
   "source": [
    "# Auto-reload the custom package\n",
    "%load_ext autoreload\n",
    "%autoreload 1\n",
    "%aimport fairness_multiverse"
   ]
  },
  {
   "cell_type": "code",
   "execution_count": 7,
   "id": "01c5c9f3",
   "metadata": {
    "execution": {
     "iopub.execute_input": "2025-07-22T09:13:13.200124Z",
     "iopub.status.busy": "2025-07-22T09:13:13.199532Z",
     "iopub.status.idle": "2025-07-22T09:13:15.205723Z",
     "shell.execute_reply": "2025-07-22T09:13:15.204666Z"
    },
    "papermill": {
     "duration": 2.023261,
     "end_time": "2025-07-22T09:13:15.207528",
     "exception": false,
     "start_time": "2025-07-22T09:13:13.184267",
     "status": "completed"
    },
    "tags": []
   },
   "outputs": [],
   "source": [
    "from fairness_multiverse.universe import UniverseAnalysis\n",
    "\n",
    "universe_analysis = UniverseAnalysis(\n",
    "    run_no = run_no,\n",
    "    universe_id = universe_id,\n",
    "    universe = universe,\n",
    "    output_dir=output_dir,\n",
    ")"
   ]
  },
  {
   "cell_type": "code",
   "execution_count": 8,
   "id": "106241f5",
   "metadata": {
    "execution": {
     "iopub.execute_input": "2025-07-22T09:13:15.243293Z",
     "iopub.status.busy": "2025-07-22T09:13:15.242911Z",
     "iopub.status.idle": "2025-07-22T09:13:15.249455Z",
     "shell.execute_reply": "2025-07-22T09:13:15.248342Z"
    },
    "papermill": {
     "duration": 0.026791,
     "end_time": "2025-07-22T09:13:15.252066",
     "exception": false,
     "start_time": "2025-07-22T09:13:15.225275",
     "status": "completed"
    },
    "tags": []
   },
   "outputs": [
    {
     "name": "stdout",
     "output_type": "stream",
     "text": [
      "Using Seed: 2023\n"
     ]
    }
   ],
   "source": [
    "import numpy as np\n",
    "parsed_seed = int(seed)\n",
    "np.random.seed(parsed_seed)\n",
    "print(f\"Using Seed: {parsed_seed}\")"
   ]
  },
  {
   "cell_type": "markdown",
   "id": "e0ebdc57",
   "metadata": {
    "papermill": {
     "duration": 0.014314,
     "end_time": "2025-07-22T09:13:15.282085",
     "exception": false,
     "start_time": "2025-07-22T09:13:15.267771",
     "status": "completed"
    },
    "tags": []
   },
   "source": [
    "# Loading Data"
   ]
  },
  {
   "cell_type": "markdown",
   "id": "681925a3",
   "metadata": {
    "papermill": {
     "duration": 0.014575,
     "end_time": "2025-07-22T09:13:15.311061",
     "exception": false,
     "start_time": "2025-07-22T09:13:15.296486",
     "status": "completed"
    },
    "tags": []
   },
   "source": [
    "Load siab_train, siab_test, siab_calib and/or \n",
    "load siab_train_features, siab_train_labels"
   ]
  },
  {
   "cell_type": "code",
   "execution_count": 9,
   "id": "f0496b8a",
   "metadata": {
    "execution": {
     "iopub.execute_input": "2025-07-22T09:13:15.341991Z",
     "iopub.status.busy": "2025-07-22T09:13:15.341495Z",
     "iopub.status.idle": "2025-07-22T09:13:15.347879Z",
     "shell.execute_reply": "2025-07-22T09:13:15.346820Z"
    },
    "papermill": {
     "duration": 0.023933,
     "end_time": "2025-07-22T09:13:15.349599",
     "exception": false,
     "start_time": "2025-07-22T09:13:15.325666",
     "status": "completed"
    },
    "tags": []
   },
   "outputs": [],
   "source": [
    "# Do I need to load siab? Delete this cell?\n",
    "\n",
    "#from pathlib import Path\n",
    "#import pandas as pd\n",
    "#\n",
    "## File paths\n",
    "#raw_file = Path(\"data/raw/siab.csv\")\n",
    "#cache_file = Path(\"data/siab_cached.csv.gz\")\n",
    "#\n",
    "## Ensure cache directory exists\n",
    "#cache_file.parent.mkdir(parents=True, exist_ok=True)\n",
    "#\n",
    "## Load with simple caching\n",
    "#if cache_file.exists():\n",
    "#    print(f\"Loading SIAB data from cache: {cache_file}\")\n",
    "#    siab = pd.read_csv(cache_file, compression='gzip')\n",
    "#else:\n",
    "#    print(f\"Cache not found. Reading raw SIAB data: {raw_file}\")\n",
    "#    siab = pd.read_csv(raw_file)\n",
    "#    siab.to_csv(cache_file, index=False, compression='gzip')\n",
    "#    print(f\"Cached SIAB data to: {cache_file}\")\n",
    "#\n",
    "## Now use `siab` DataFrame as needed\n",
    "#print(siab.shape)\n"
   ]
  },
  {
   "cell_type": "code",
   "execution_count": 10,
   "id": "a0edb063",
   "metadata": {
    "execution": {
     "iopub.execute_input": "2025-07-22T09:13:15.382401Z",
     "iopub.status.busy": "2025-07-22T09:13:15.381785Z",
     "iopub.status.idle": "2025-07-22T09:13:15.813472Z",
     "shell.execute_reply": "2025-07-22T09:13:15.812418Z"
    },
    "papermill": {
     "duration": 0.449507,
     "end_time": "2025-07-22T09:13:15.815274",
     "exception": false,
     "start_time": "2025-07-22T09:13:15.365767",
     "status": "completed"
    },
    "tags": []
   },
   "outputs": [],
   "source": [
    "import pandas as pd\n",
    "\n",
    "X_train = pd.read_csv(\"./data/X_train.csv\")\n",
    "y_train = pd.read_csv(\"./data/y_train.csv\")"
   ]
  },
  {
   "cell_type": "code",
   "execution_count": 11,
   "id": "63d08085",
   "metadata": {
    "execution": {
     "iopub.execute_input": "2025-07-22T09:13:15.847540Z",
     "iopub.status.busy": "2025-07-22T09:13:15.847080Z",
     "iopub.status.idle": "2025-07-22T09:13:17.316248Z",
     "shell.execute_reply": "2025-07-22T09:13:17.315346Z"
    },
    "papermill": {
     "duration": 1.487431,
     "end_time": "2025-07-22T09:13:17.318500",
     "exception": false,
     "start_time": "2025-07-22T09:13:15.831069",
     "status": "completed"
    },
    "tags": []
   },
   "outputs": [],
   "source": [
    "X_test = pd.read_csv(\"./data/X_test.csv\")\n",
    "y_true = pd.read_csv(\"./data/y_test.csv\")"
   ]
  },
  {
   "cell_type": "code",
   "execution_count": 12,
   "id": "98a8d0fa-1d3d-4ed8-bb2c-281470e24add",
   "metadata": {
    "execution": {
     "iopub.execute_input": "2025-07-22T09:13:17.353737Z",
     "iopub.status.busy": "2025-07-22T09:13:17.353279Z",
     "iopub.status.idle": "2025-07-22T09:13:18.743008Z",
     "shell.execute_reply": "2025-07-22T09:13:18.741746Z"
    },
    "papermill": {
     "duration": 1.409011,
     "end_time": "2025-07-22T09:13:18.745150",
     "exception": false,
     "start_time": "2025-07-22T09:13:17.336139",
     "status": "completed"
    },
    "tags": []
   },
   "outputs": [],
   "source": [
    "# Calibration data for conformal\n",
    "X_calib = pd.read_csv(\"./data/X_calib.csv\")\n",
    "y_calib = pd.read_csv(\"./data/y_calib.csv\")"
   ]
  },
  {
   "cell_type": "code",
   "execution_count": 13,
   "id": "e6c733c5",
   "metadata": {
    "execution": {
     "iopub.execute_input": "2025-07-22T09:13:18.784227Z",
     "iopub.status.busy": "2025-07-22T09:13:18.783478Z",
     "iopub.status.idle": "2025-07-22T09:13:18.916490Z",
     "shell.execute_reply": "2025-07-22T09:13:18.915425Z"
    },
    "papermill": {
     "duration": 0.154172,
     "end_time": "2025-07-22T09:13:18.918485",
     "exception": false,
     "start_time": "2025-07-22T09:13:18.764313",
     "status": "completed"
    },
    "tags": []
   },
   "outputs": [],
   "source": [
    "# Auxiliary data needed downstream in the pipeline\n",
    "\n",
    "org_train = X_train.copy()\n",
    "org_test = X_test.copy()\n",
    "org_calib = X_calib.copy()"
   ]
  },
  {
   "cell_type": "markdown",
   "id": "0a4a1b33",
   "metadata": {
    "papermill": {
     "duration": 0.012624,
     "end_time": "2025-07-22T09:13:18.950788",
     "exception": false,
     "start_time": "2025-07-22T09:13:18.938164",
     "status": "completed"
    },
    "tags": []
   },
   "source": [
    "# Preprocessing Data"
   ]
  },
  {
   "cell_type": "code",
   "execution_count": 14,
   "id": "ca879031",
   "metadata": {
    "execution": {
     "iopub.execute_input": "2025-07-22T09:13:18.971674Z",
     "iopub.status.busy": "2025-07-22T09:13:18.971126Z",
     "iopub.status.idle": "2025-07-22T09:13:18.978241Z",
     "shell.execute_reply": "2025-07-22T09:13:18.977017Z"
    },
    "papermill": {
     "duration": 0.020199,
     "end_time": "2025-07-22T09:13:18.980594",
     "exception": false,
     "start_time": "2025-07-22T09:13:18.960395",
     "status": "completed"
    },
    "tags": []
   },
   "outputs": [],
   "source": [
    "# EXCLUDE PROTECTED FEATURES\n",
    "# ----------------------\n",
    "# \"exclude_features\": \"none\", # \"nationality\", \"sex\", \"nationality-sex\"\n",
    "\n",
    "excluded_features = universe[\"exclude_features\"].split(\"-\") # split, e.g.: \"nationality-sex\" -> [\"nationality\", \"sex\"]\n",
    "excluded_features_dictionary = {\n",
    "    \"nationality\": [\"maxdeutsch1\", \"maxdeutsch.Missing.\"],\n",
    "    \"sex\": [\"frau1\"],\n",
    "}\n"
   ]
  },
  {
   "cell_type": "code",
   "execution_count": 15,
   "id": "b745ac60",
   "metadata": {
    "execution": {
     "iopub.execute_input": "2025-07-22T09:13:19.019345Z",
     "iopub.status.busy": "2025-07-22T09:13:19.018837Z",
     "iopub.status.idle": "2025-07-22T09:13:19.025613Z",
     "shell.execute_reply": "2025-07-22T09:13:19.024322Z"
    },
    "papermill": {
     "duration": 0.027659,
     "end_time": "2025-07-22T09:13:19.027413",
     "exception": false,
     "start_time": "2025-07-22T09:13:18.999754",
     "status": "completed"
    },
    "tags": []
   },
   "outputs": [],
   "source": [
    "# Code nice names to column names\n",
    "\n",
    "excluded_features_columns = [\n",
    "    excluded_features_dictionary[f] for f in excluded_features if len(f) > 0 and f != \"none\"\n",
    "]"
   ]
  },
  {
   "cell_type": "code",
   "execution_count": 16,
   "id": "f84f73a2",
   "metadata": {
    "execution": {
     "iopub.execute_input": "2025-07-22T09:13:19.066599Z",
     "iopub.status.busy": "2025-07-22T09:13:19.065956Z",
     "iopub.status.idle": "2025-07-22T09:13:19.073023Z",
     "shell.execute_reply": "2025-07-22T09:13:19.071641Z"
    },
    "papermill": {
     "duration": 0.028311,
     "end_time": "2025-07-22T09:13:19.075279",
     "exception": false,
     "start_time": "2025-07-22T09:13:19.046968",
     "status": "completed"
    },
    "tags": []
   },
   "outputs": [],
   "source": [
    "from utils import flatten_once\n",
    "\n",
    "excluded_features_columns = flatten_once(excluded_features_columns)"
   ]
  },
  {
   "cell_type": "code",
   "execution_count": 17,
   "id": "884dea22",
   "metadata": {
    "execution": {
     "iopub.execute_input": "2025-07-22T09:13:19.116922Z",
     "iopub.status.busy": "2025-07-22T09:13:19.116328Z",
     "iopub.status.idle": "2025-07-22T09:13:19.141986Z",
     "shell.execute_reply": "2025-07-22T09:13:19.140686Z"
    },
    "papermill": {
     "duration": 0.048471,
     "end_time": "2025-07-22T09:13:19.144079",
     "exception": false,
     "start_time": "2025-07-22T09:13:19.095608",
     "status": "completed"
    },
    "tags": []
   },
   "outputs": [
    {
     "name": "stdout",
     "output_type": "stream",
     "text": [
      "Dropping features: ['maxdeutsch1', 'maxdeutsch.Missing.', 'frau1']\n"
     ]
    }
   ],
   "source": [
    "if len(excluded_features_columns) > 0:\n",
    "    print(f\"Dropping features: {excluded_features_columns}\")\n",
    "    X_train.drop(excluded_features_columns, axis=1, inplace=True)"
   ]
  },
  {
   "cell_type": "code",
   "execution_count": 18,
   "id": "95ab8b16",
   "metadata": {
    "execution": {
     "iopub.execute_input": "2025-07-22T09:13:19.185822Z",
     "iopub.status.busy": "2025-07-22T09:13:19.184762Z",
     "iopub.status.idle": "2025-07-22T09:13:19.250736Z",
     "shell.execute_reply": "2025-07-22T09:13:19.249740Z"
    },
    "papermill": {
     "duration": 0.089279,
     "end_time": "2025-07-22T09:13:19.252504",
     "exception": false,
     "start_time": "2025-07-22T09:13:19.163225",
     "status": "completed"
    },
    "tags": []
   },
   "outputs": [
    {
     "name": "stdout",
     "output_type": "stream",
     "text": [
      "Dropping features: ['maxdeutsch1', 'maxdeutsch.Missing.', 'frau1']\n"
     ]
    }
   ],
   "source": [
    "if len(excluded_features_columns) > 0:\n",
    "    print(f\"Dropping features: {excluded_features_columns}\")\n",
    "    X_test.drop(excluded_features_columns, axis=1, inplace=True)"
   ]
  },
  {
   "cell_type": "code",
   "execution_count": 19,
   "id": "1853aaf5-fb9f-46cb-a2b5-8ea4ae2237e4",
   "metadata": {
    "execution": {
     "iopub.execute_input": "2025-07-22T09:13:19.293137Z",
     "iopub.status.busy": "2025-07-22T09:13:19.292611Z",
     "iopub.status.idle": "2025-07-22T09:13:19.347327Z",
     "shell.execute_reply": "2025-07-22T09:13:19.346229Z"
    },
    "papermill": {
     "duration": 0.076568,
     "end_time": "2025-07-22T09:13:19.349506",
     "exception": false,
     "start_time": "2025-07-22T09:13:19.272938",
     "status": "completed"
    },
    "tags": []
   },
   "outputs": [
    {
     "name": "stdout",
     "output_type": "stream",
     "text": [
      "Dropping features: ['maxdeutsch1', 'maxdeutsch.Missing.', 'frau1']\n"
     ]
    }
   ],
   "source": [
    "if len(excluded_features_columns) > 0:\n",
    "    print(f\"Dropping features: {excluded_features_columns}\")\n",
    "    X_calib.drop(excluded_features_columns, axis=1, inplace=True)"
   ]
  },
  {
   "cell_type": "code",
   "execution_count": 20,
   "id": "76c4dc6d",
   "metadata": {
    "execution": {
     "iopub.execute_input": "2025-07-22T09:13:19.392005Z",
     "iopub.status.busy": "2025-07-22T09:13:19.391545Z",
     "iopub.status.idle": "2025-07-22T09:13:19.397836Z",
     "shell.execute_reply": "2025-07-22T09:13:19.396458Z"
    },
    "papermill": {
     "duration": 0.029959,
     "end_time": "2025-07-22T09:13:19.400323",
     "exception": false,
     "start_time": "2025-07-22T09:13:19.370364",
     "status": "completed"
    },
    "tags": []
   },
   "outputs": [],
   "source": [
    "# EXCLUDE CERTAIN SUBGROUPS\n",
    "# ----------------------\n",
    "\n",
    "mode = universe.get(\"exclude_subgroups\", \"keep-all\") \n",
    "# Fetches the exclude_subgroups setting from the universe dict.\n",
    "# Defaults to \"keep-all\" if the key is missing."
   ]
  },
  {
   "cell_type": "code",
   "execution_count": 21,
   "id": "21994072",
   "metadata": {
    "execution": {
     "iopub.execute_input": "2025-07-22T09:13:19.443471Z",
     "iopub.status.busy": "2025-07-22T09:13:19.442875Z",
     "iopub.status.idle": "2025-07-22T09:13:19.451443Z",
     "shell.execute_reply": "2025-07-22T09:13:19.450177Z"
    },
    "papermill": {
     "duration": 0.032753,
     "end_time": "2025-07-22T09:13:19.453583",
     "exception": false,
     "start_time": "2025-07-22T09:13:19.420830",
     "status": "completed"
    },
    "tags": []
   },
   "outputs": [],
   "source": [
    "if mode == \"keep-all\":\n",
    "    keep_mask = pd.Series(True, index=org_train.index)\n",
    "\n",
    "# org_train contains the original feature columns from features_org (in Simson)\n",
    "# features_org contains unprocessed features, for me X_train at beginning ???\n",
    "# For keep-all, creates a boolean Series (keep_mask) of all True, so no rows are removed.\n",
    "\n",
    "elif mode == \"drop-non-german\":\n",
    "    keep_mask = org_train[\"maxdeutsch1\"] == 1 # ??? what about missing values?\n",
    "\n",
    "else:\n",
    "    raise ValueError(f\"Unsupported mode for exclude_subgroups: {mode}\")\n"
   ]
  },
  {
   "cell_type": "code",
   "execution_count": 22,
   "id": "71651440",
   "metadata": {
    "execution": {
     "iopub.execute_input": "2025-07-22T09:13:19.495704Z",
     "iopub.status.busy": "2025-07-22T09:13:19.495144Z",
     "iopub.status.idle": "2025-07-22T09:13:19.501610Z",
     "shell.execute_reply": "2025-07-22T09:13:19.500858Z"
    },
    "papermill": {
     "duration": 0.028939,
     "end_time": "2025-07-22T09:13:19.503166",
     "exception": false,
     "start_time": "2025-07-22T09:13:19.474227",
     "status": "completed"
    },
    "tags": []
   },
   "outputs": [
    {
     "name": "stdout",
     "output_type": "stream",
     "text": [
      "Dropping 3312 rows (13.25%) where mode='drop-non-german'\n"
     ]
    }
   ],
   "source": [
    "n_drop = (~keep_mask).sum() # Calculates how many rows are set to be dropped\n",
    "if n_drop > 0:\n",
    "    pct = n_drop / len(keep_mask) * 100\n",
    "    print(f\"Dropping {n_drop} rows ({pct:.2f}%) where mode='{mode}'\")"
   ]
  },
  {
   "cell_type": "code",
   "execution_count": 23,
   "id": "5fb8eee5",
   "metadata": {
    "execution": {
     "iopub.execute_input": "2025-07-22T09:13:19.535666Z",
     "iopub.status.busy": "2025-07-22T09:13:19.535243Z",
     "iopub.status.idle": "2025-07-22T09:13:19.549434Z",
     "shell.execute_reply": "2025-07-22T09:13:19.548300Z"
    },
    "papermill": {
     "duration": 0.032546,
     "end_time": "2025-07-22T09:13:19.551076",
     "exception": false,
     "start_time": "2025-07-22T09:13:19.518530",
     "status": "completed"
    },
    "tags": []
   },
   "outputs": [],
   "source": [
    "X_train = X_train[keep_mask]"
   ]
  },
  {
   "cell_type": "code",
   "execution_count": 24,
   "id": "b202bb3a",
   "metadata": {
    "execution": {
     "iopub.execute_input": "2025-07-22T09:13:19.574797Z",
     "iopub.status.busy": "2025-07-22T09:13:19.574372Z",
     "iopub.status.idle": "2025-07-22T09:13:19.580493Z",
     "shell.execute_reply": "2025-07-22T09:13:19.579634Z"
    },
    "papermill": {
     "duration": 0.020003,
     "end_time": "2025-07-22T09:13:19.582120",
     "exception": false,
     "start_time": "2025-07-22T09:13:19.562117",
     "status": "completed"
    },
    "tags": []
   },
   "outputs": [],
   "source": [
    "y_train = y_train[keep_mask]"
   ]
  },
  {
   "cell_type": "markdown",
   "id": "493e2ac3",
   "metadata": {
    "papermill": {
     "duration": 0.010213,
     "end_time": "2025-07-22T09:13:19.604114",
     "exception": false,
     "start_time": "2025-07-22T09:13:19.593901",
     "status": "completed"
    },
    "tags": []
   },
   "source": [
    "# Model Training"
   ]
  },
  {
   "cell_type": "code",
   "execution_count": 25,
   "id": "679e1268",
   "metadata": {
    "execution": {
     "iopub.execute_input": "2025-07-22T09:13:19.626965Z",
     "iopub.status.busy": "2025-07-22T09:13:19.626002Z",
     "iopub.status.idle": "2025-07-22T09:13:19.721900Z",
     "shell.execute_reply": "2025-07-22T09:13:19.721058Z"
    },
    "papermill": {
     "duration": 0.109124,
     "end_time": "2025-07-22T09:13:19.723483",
     "exception": false,
     "start_time": "2025-07-22T09:13:19.614359",
     "status": "completed"
    },
    "tags": []
   },
   "outputs": [],
   "source": [
    "from sklearn.linear_model import LogisticRegression\n",
    "from sklearn.ensemble import GradientBoostingClassifier, RandomForestClassifier\n",
    "\n",
    "if (universe[\"model\"] == \"logreg\"):\n",
    "    model = LogisticRegression() #penalty=\"none\") #, solver=\"newton-cg\", max_iter=1) # include random_state=19 ?\n",
    "elif (universe[\"model\"] == \"penalized_logreg\"):\n",
    "    model = LogisticRegression(penalty=\"l2\", C=1.0) #, solver=\"newton-cg\", max_iter=1)\n",
    "elif (universe[\"model\"] == \"rf\"):\n",
    "    model = RandomForestClassifier(n_estimators=100, n_jobs=-1)\n",
    "elif (universe[\"model\"] == \"gbm\"):\n",
    "    model = GradientBoostingClassifier()\n",
    "elif (universe[\"model\"] == \"elasticnet\"):\n",
    "    model = LogisticRegression(penalty = 'elasticnet', solver = 'saga', l1_ratio = 0.5, max_iter=5000) # which solver to use?\n",
    "else:\n",
    "    raise \"Unsupported universe.model\""
   ]
  },
  {
   "cell_type": "code",
   "execution_count": 26,
   "id": "0cc8f744",
   "metadata": {
    "execution": {
     "iopub.execute_input": "2025-07-22T09:13:19.763495Z",
     "iopub.status.busy": "2025-07-22T09:13:19.762781Z",
     "iopub.status.idle": "2025-07-22T09:13:19.770347Z",
     "shell.execute_reply": "2025-07-22T09:13:19.769204Z"
    },
    "papermill": {
     "duration": 0.0319,
     "end_time": "2025-07-22T09:13:19.772343",
     "exception": false,
     "start_time": "2025-07-22T09:13:19.740443",
     "status": "completed"
    },
    "tags": []
   },
   "outputs": [],
   "source": [
    "import numpy as np\n",
    "from sklearn.pipeline import Pipeline\n",
    "from sklearn.preprocessing import StandardScaler\n",
    "\n",
    "model = Pipeline([\n",
    "    #(\"continuous_processor\", continuous_processor),\n",
    "    #(\"categorical_preprocessor\", categorical_preprocessor),\n",
    "    (\"scale\", StandardScaler() if universe[\"scale\"] == \"scale\" else None),\n",
    "    (\"model\", model),\n",
    "])"
   ]
  },
  {
   "cell_type": "code",
   "execution_count": 27,
   "id": "9442c04d",
   "metadata": {
    "execution": {
     "iopub.execute_input": "2025-07-22T09:13:19.815634Z",
     "iopub.status.busy": "2025-07-22T09:13:19.815196Z",
     "iopub.status.idle": "2025-07-22T09:13:20.524196Z",
     "shell.execute_reply": "2025-07-22T09:13:20.523212Z"
    },
    "papermill": {
     "duration": 0.732402,
     "end_time": "2025-07-22T09:13:20.526052",
     "exception": false,
     "start_time": "2025-07-22T09:13:19.793650",
     "status": "completed"
    },
    "tags": []
   },
   "outputs": [
    {
     "name": "stderr",
     "output_type": "stream",
     "text": [
      "/dss/dsshome1/0C/ra93lal2/.local/share/virtualenvs/CMA_Fairness_v2-3j10GkSs/lib/python3.10/site-packages/sklearn/linear_model/_logistic.py:444: ConvergenceWarning: lbfgs failed to converge (status=1):\n",
      "STOP: TOTAL NO. of ITERATIONS REACHED LIMIT.\n",
      "\n",
      "Increase the number of iterations (max_iter) or scale the data as shown in:\n",
      "    https://scikit-learn.org/stable/modules/preprocessing.html\n",
      "Please also refer to the documentation for alternative solver options:\n",
      "    https://scikit-learn.org/stable/modules/linear_model.html#logistic-regression\n",
      "  n_iter_i = _check_optimize_result(\n"
     ]
    },
    {
     "data": {
      "text/html": [
       "<style>#sk-container-id-1 {color: black;background-color: white;}#sk-container-id-1 pre{padding: 0;}#sk-container-id-1 div.sk-toggleable {background-color: white;}#sk-container-id-1 label.sk-toggleable__label {cursor: pointer;display: block;width: 100%;margin-bottom: 0;padding: 0.3em;box-sizing: border-box;text-align: center;}#sk-container-id-1 label.sk-toggleable__label-arrow:before {content: \"▸\";float: left;margin-right: 0.25em;color: #696969;}#sk-container-id-1 label.sk-toggleable__label-arrow:hover:before {color: black;}#sk-container-id-1 div.sk-estimator:hover label.sk-toggleable__label-arrow:before {color: black;}#sk-container-id-1 div.sk-toggleable__content {max-height: 0;max-width: 0;overflow: hidden;text-align: left;background-color: #f0f8ff;}#sk-container-id-1 div.sk-toggleable__content pre {margin: 0.2em;color: black;border-radius: 0.25em;background-color: #f0f8ff;}#sk-container-id-1 input.sk-toggleable__control:checked~div.sk-toggleable__content {max-height: 200px;max-width: 100%;overflow: auto;}#sk-container-id-1 input.sk-toggleable__control:checked~label.sk-toggleable__label-arrow:before {content: \"▾\";}#sk-container-id-1 div.sk-estimator input.sk-toggleable__control:checked~label.sk-toggleable__label {background-color: #d4ebff;}#sk-container-id-1 div.sk-label input.sk-toggleable__control:checked~label.sk-toggleable__label {background-color: #d4ebff;}#sk-container-id-1 input.sk-hidden--visually {border: 0;clip: rect(1px 1px 1px 1px);clip: rect(1px, 1px, 1px, 1px);height: 1px;margin: -1px;overflow: hidden;padding: 0;position: absolute;width: 1px;}#sk-container-id-1 div.sk-estimator {font-family: monospace;background-color: #f0f8ff;border: 1px dotted black;border-radius: 0.25em;box-sizing: border-box;margin-bottom: 0.5em;}#sk-container-id-1 div.sk-estimator:hover {background-color: #d4ebff;}#sk-container-id-1 div.sk-parallel-item::after {content: \"\";width: 100%;border-bottom: 1px solid gray;flex-grow: 1;}#sk-container-id-1 div.sk-label:hover label.sk-toggleable__label {background-color: #d4ebff;}#sk-container-id-1 div.sk-serial::before {content: \"\";position: absolute;border-left: 1px solid gray;box-sizing: border-box;top: 0;bottom: 0;left: 50%;z-index: 0;}#sk-container-id-1 div.sk-serial {display: flex;flex-direction: column;align-items: center;background-color: white;padding-right: 0.2em;padding-left: 0.2em;position: relative;}#sk-container-id-1 div.sk-item {position: relative;z-index: 1;}#sk-container-id-1 div.sk-parallel {display: flex;align-items: stretch;justify-content: center;background-color: white;position: relative;}#sk-container-id-1 div.sk-item::before, #sk-container-id-1 div.sk-parallel-item::before {content: \"\";position: absolute;border-left: 1px solid gray;box-sizing: border-box;top: 0;bottom: 0;left: 50%;z-index: -1;}#sk-container-id-1 div.sk-parallel-item {display: flex;flex-direction: column;z-index: 1;position: relative;background-color: white;}#sk-container-id-1 div.sk-parallel-item:first-child::after {align-self: flex-end;width: 50%;}#sk-container-id-1 div.sk-parallel-item:last-child::after {align-self: flex-start;width: 50%;}#sk-container-id-1 div.sk-parallel-item:only-child::after {width: 0;}#sk-container-id-1 div.sk-dashed-wrapped {border: 1px dashed gray;margin: 0 0.4em 0.5em 0.4em;box-sizing: border-box;padding-bottom: 0.4em;background-color: white;}#sk-container-id-1 div.sk-label label {font-family: monospace;font-weight: bold;display: inline-block;line-height: 1.2em;}#sk-container-id-1 div.sk-label-container {text-align: center;}#sk-container-id-1 div.sk-container {/* jupyter's `normalize.less` sets `[hidden] { display: none; }` but bootstrap.min.css set `[hidden] { display: none !important; }` so we also need the `!important` here to be able to override the default hidden behavior on the sphinx rendered scikit-learn.org. See: https://github.com/scikit-learn/scikit-learn/issues/21755 */display: inline-block !important;position: relative;}#sk-container-id-1 div.sk-text-repr-fallback {display: none;}</style><div id=\"sk-container-id-1\" class=\"sk-top-container\"><div class=\"sk-text-repr-fallback\"><pre>Pipeline(steps=[(&#x27;scale&#x27;, StandardScaler()), (&#x27;model&#x27;, LogisticRegression())])</pre><b>In a Jupyter environment, please rerun this cell to show the HTML representation or trust the notebook. <br />On GitHub, the HTML representation is unable to render, please try loading this page with nbviewer.org.</b></div><div class=\"sk-container\" hidden><div class=\"sk-item sk-dashed-wrapped\"><div class=\"sk-label-container\"><div class=\"sk-label sk-toggleable\"><input class=\"sk-toggleable__control sk-hidden--visually\" id=\"sk-estimator-id-1\" type=\"checkbox\" ><label for=\"sk-estimator-id-1\" class=\"sk-toggleable__label sk-toggleable__label-arrow\">Pipeline</label><div class=\"sk-toggleable__content\"><pre>Pipeline(steps=[(&#x27;scale&#x27;, StandardScaler()), (&#x27;model&#x27;, LogisticRegression())])</pre></div></div></div><div class=\"sk-serial\"><div class=\"sk-item\"><div class=\"sk-estimator sk-toggleable\"><input class=\"sk-toggleable__control sk-hidden--visually\" id=\"sk-estimator-id-2\" type=\"checkbox\" ><label for=\"sk-estimator-id-2\" class=\"sk-toggleable__label sk-toggleable__label-arrow\">StandardScaler</label><div class=\"sk-toggleable__content\"><pre>StandardScaler()</pre></div></div></div><div class=\"sk-item\"><div class=\"sk-estimator sk-toggleable\"><input class=\"sk-toggleable__control sk-hidden--visually\" id=\"sk-estimator-id-3\" type=\"checkbox\" ><label for=\"sk-estimator-id-3\" class=\"sk-toggleable__label sk-toggleable__label-arrow\">LogisticRegression</label><div class=\"sk-toggleable__content\"><pre>LogisticRegression()</pre></div></div></div></div></div></div></div>"
      ],
      "text/plain": [
       "Pipeline(steps=[('scale', StandardScaler()), ('model', LogisticRegression())])"
      ]
     },
     "execution_count": 27,
     "metadata": {},
     "output_type": "execute_result"
    }
   ],
   "source": [
    "model.fit(X_train, y_train.values.ravel())"
   ]
  },
  {
   "cell_type": "code",
   "execution_count": 28,
   "id": "af59f8c0",
   "metadata": {
    "execution": {
     "iopub.execute_input": "2025-07-22T09:13:20.572828Z",
     "iopub.status.busy": "2025-07-22T09:13:20.572212Z",
     "iopub.status.idle": "2025-07-22T09:13:20.578762Z",
     "shell.execute_reply": "2025-07-22T09:13:20.577740Z"
    },
    "papermill": {
     "duration": 0.033277,
     "end_time": "2025-07-22T09:13:20.580841",
     "exception": false,
     "start_time": "2025-07-22T09:13:20.547564",
     "status": "completed"
    },
    "tags": []
   },
   "outputs": [],
   "source": [
    "from fairness_multiverse.universe import predict_w_threshold"
   ]
  },
  {
   "cell_type": "code",
   "execution_count": 29,
   "id": "a7cf2e16",
   "metadata": {
    "execution": {
     "iopub.execute_input": "2025-07-22T09:13:20.624808Z",
     "iopub.status.busy": "2025-07-22T09:13:20.624215Z",
     "iopub.status.idle": "2025-07-22T09:13:20.843721Z",
     "shell.execute_reply": "2025-07-22T09:13:20.842866Z"
    },
    "papermill": {
     "duration": 0.242119,
     "end_time": "2025-07-22T09:13:20.845314",
     "exception": false,
     "start_time": "2025-07-22T09:13:20.603195",
     "status": "completed"
    },
    "tags": []
   },
   "outputs": [
    {
     "data": {
      "text/plain": [
       "0.859814959313343"
      ]
     },
     "execution_count": 29,
     "metadata": {},
     "output_type": "execute_result"
    }
   ],
   "source": [
    "probs_test = model.predict_proba(X_test)\n",
    "\n",
    "'''\n",
    "Below code returns a boolean array (or binary 0/1 array depending on how it’s used) where each element \n",
    "is True if the probability of class 1 is greater than or equal to the threshold, and False otherwise.\n",
    "'''\n",
    "y_pred_default = predict_w_threshold(probs_test, 0.5)\n",
    "\n",
    "from sklearn.metrics import accuracy_score\n",
    "\n",
    "# Naive prediction\n",
    "accuracy_score(y_true = y_true, y_pred = y_pred_default)"
   ]
  },
  {
   "cell_type": "code",
   "execution_count": 30,
   "id": "081964c3",
   "metadata": {
    "execution": {
     "iopub.execute_input": "2025-07-22T09:13:20.886749Z",
     "iopub.status.busy": "2025-07-22T09:13:20.886228Z",
     "iopub.status.idle": "2025-07-22T09:13:21.092799Z",
     "shell.execute_reply": "2025-07-22T09:13:21.091624Z"
    },
    "papermill": {
     "duration": 0.230734,
     "end_time": "2025-07-22T09:13:21.094754",
     "exception": false,
     "start_time": "2025-07-22T09:13:20.864020",
     "status": "completed"
    },
    "tags": []
   },
   "outputs": [
    {
     "data": {
      "text/plain": [
       "array([0, 0, 0, ..., 0, 0, 0])"
      ]
     },
     "execution_count": 30,
     "metadata": {},
     "output_type": "execute_result"
    }
   ],
   "source": [
    "model.predict(X_test)"
   ]
  },
  {
   "cell_type": "markdown",
   "id": "56c9705b",
   "metadata": {
    "papermill": {
     "duration": 0.022199,
     "end_time": "2025-07-22T09:13:21.138816",
     "exception": false,
     "start_time": "2025-07-22T09:13:21.116617",
     "status": "completed"
    },
    "tags": []
   },
   "source": [
    "# Conformal Prediction"
   ]
  },
  {
   "cell_type": "code",
   "execution_count": 31,
   "id": "160ec6ff",
   "metadata": {
    "execution": {
     "iopub.execute_input": "2025-07-22T09:13:21.183112Z",
     "iopub.status.busy": "2025-07-22T09:13:21.182312Z",
     "iopub.status.idle": "2025-07-22T09:13:21.188218Z",
     "shell.execute_reply": "2025-07-22T09:13:21.187129Z"
    },
    "papermill": {
     "duration": 0.030291,
     "end_time": "2025-07-22T09:13:21.190022",
     "exception": false,
     "start_time": "2025-07-22T09:13:21.159731",
     "status": "completed"
    },
    "tags": []
   },
   "outputs": [],
   "source": [
    "# Miscoverage level for conformal prediction (10% allowed error rate => 90% target coverage)\n",
    "alpha = 0.1"
   ]
  },
  {
   "cell_type": "code",
   "execution_count": 32,
   "id": "eadf4555-3dd3-440e-8e35-f82a4ad9f855",
   "metadata": {
    "execution": {
     "iopub.execute_input": "2025-07-22T09:13:21.234980Z",
     "iopub.status.busy": "2025-07-22T09:13:21.233831Z",
     "iopub.status.idle": "2025-07-22T09:13:21.423200Z",
     "shell.execute_reply": "2025-07-22T09:13:21.422023Z"
    },
    "papermill": {
     "duration": 0.213805,
     "end_time": "2025-07-22T09:13:21.425385",
     "exception": false,
     "start_time": "2025-07-22T09:13:21.211580",
     "status": "completed"
    },
    "tags": []
   },
   "outputs": [],
   "source": [
    "probs_calib = model.predict_proba(X_calib)"
   ]
  },
  {
   "cell_type": "code",
   "execution_count": 33,
   "id": "2ed93547-6d5d-4983-9b36-1ecb300da49a",
   "metadata": {
    "execution": {
     "iopub.execute_input": "2025-07-22T09:13:21.469962Z",
     "iopub.status.busy": "2025-07-22T09:13:21.468762Z",
     "iopub.status.idle": "2025-07-22T09:13:21.475585Z",
     "shell.execute_reply": "2025-07-22T09:13:21.474450Z"
    },
    "papermill": {
     "duration": 0.030882,
     "end_time": "2025-07-22T09:13:21.477628",
     "exception": false,
     "start_time": "2025-07-22T09:13:21.446746",
     "status": "completed"
    },
    "tags": []
   },
   "outputs": [],
   "source": [
    "y_calib = y_calib.values.ravel().astype(int)"
   ]
  },
  {
   "cell_type": "code",
   "execution_count": 34,
   "id": "65d1320d-f588-4b38-9072-62af1ae97f7d",
   "metadata": {
    "execution": {
     "iopub.execute_input": "2025-07-22T09:13:21.523851Z",
     "iopub.status.busy": "2025-07-22T09:13:21.522956Z",
     "iopub.status.idle": "2025-07-22T09:13:21.532152Z",
     "shell.execute_reply": "2025-07-22T09:13:21.531100Z"
    },
    "papermill": {
     "duration": 0.033328,
     "end_time": "2025-07-22T09:13:21.533983",
     "exception": false,
     "start_time": "2025-07-22T09:13:21.500655",
     "status": "completed"
    },
    "tags": []
   },
   "outputs": [],
   "source": [
    "from fairness_multiverse.conformal import compute_nc_scores\n",
    "\n",
    "# Compute nonconformity scores on calibration set (1 - probability of true class)\n",
    "nc_scores = compute_nc_scores(probs_calib, y_calib)"
   ]
  },
  {
   "cell_type": "code",
   "execution_count": 35,
   "id": "df3b8ca3-53b7-43d5-9667-7c85da7aeda2",
   "metadata": {
    "execution": {
     "iopub.execute_input": "2025-07-22T09:13:21.577702Z",
     "iopub.status.busy": "2025-07-22T09:13:21.576884Z",
     "iopub.status.idle": "2025-07-22T09:13:21.584481Z",
     "shell.execute_reply": "2025-07-22T09:13:21.583260Z"
    },
    "papermill": {
     "duration": 0.031369,
     "end_time": "2025-07-22T09:13:21.586268",
     "exception": false,
     "start_time": "2025-07-22T09:13:21.554899",
     "status": "completed"
    },
    "tags": []
   },
   "outputs": [],
   "source": [
    "from fairness_multiverse.conformal import find_threshold\n",
    "\n",
    "# Find conformal threshold q_hat for the given alpha (split conformal method)\n",
    "q_hat = find_threshold(nc_scores, alpha)"
   ]
  },
  {
   "cell_type": "code",
   "execution_count": 36,
   "id": "4d29e6c1-0ef6-4aa4-b8fe-4fe79b0d033a",
   "metadata": {
    "execution": {
     "iopub.execute_input": "2025-07-22T09:13:21.629824Z",
     "iopub.status.busy": "2025-07-22T09:13:21.628829Z",
     "iopub.status.idle": "2025-07-22T09:13:21.636585Z",
     "shell.execute_reply": "2025-07-22T09:13:21.635549Z"
    },
    "papermill": {
     "duration": 0.031897,
     "end_time": "2025-07-22T09:13:21.638442",
     "exception": false,
     "start_time": "2025-07-22T09:13:21.606545",
     "status": "completed"
    },
    "tags": []
   },
   "outputs": [
    {
     "data": {
      "text/plain": [
       "0.6596793236665499"
      ]
     },
     "execution_count": 36,
     "metadata": {},
     "output_type": "execute_result"
    }
   ],
   "source": [
    "q_hat"
   ]
  },
  {
   "cell_type": "code",
   "execution_count": 37,
   "id": "92460794-cdac-4be2-ba28-f28c0515a6fb",
   "metadata": {
    "execution": {
     "iopub.execute_input": "2025-07-22T09:13:21.683550Z",
     "iopub.status.busy": "2025-07-22T09:13:21.682445Z",
     "iopub.status.idle": "2025-07-22T09:13:22.726992Z",
     "shell.execute_reply": "2025-07-22T09:13:22.725969Z"
    },
    "papermill": {
     "duration": 1.06921,
     "end_time": "2025-07-22T09:13:22.729110",
     "exception": false,
     "start_time": "2025-07-22T09:13:21.659900",
     "status": "completed"
    },
    "tags": []
   },
   "outputs": [],
   "source": [
    "from fairness_multiverse.conformal import predict_conformal_sets\n",
    "\n",
    "# Generate prediction sets for each test example\n",
    "pred_sets = predict_conformal_sets(model, X_test, q_hat)"
   ]
  },
  {
   "cell_type": "code",
   "execution_count": 38,
   "id": "d90c9a65-e6db-4f5d-80cd-e68fb7e46829",
   "metadata": {
    "execution": {
     "iopub.execute_input": "2025-07-22T09:13:22.770881Z",
     "iopub.status.busy": "2025-07-22T09:13:22.770002Z",
     "iopub.status.idle": "2025-07-22T09:13:22.775934Z",
     "shell.execute_reply": "2025-07-22T09:13:22.774994Z"
    },
    "papermill": {
     "duration": 0.028255,
     "end_time": "2025-07-22T09:13:22.777793",
     "exception": false,
     "start_time": "2025-07-22T09:13:22.749538",
     "status": "completed"
    },
    "tags": []
   },
   "outputs": [],
   "source": [
    "y_true = y_true.squeeze()"
   ]
  },
  {
   "cell_type": "code",
   "execution_count": 39,
   "id": "3a58a54a-1e68-46b9-927a-df01f18aebc8",
   "metadata": {
    "execution": {
     "iopub.execute_input": "2025-07-22T09:13:22.821966Z",
     "iopub.status.busy": "2025-07-22T09:13:22.821235Z",
     "iopub.status.idle": "2025-07-22T09:13:23.848838Z",
     "shell.execute_reply": "2025-07-22T09:13:23.847815Z"
    },
    "papermill": {
     "duration": 1.051329,
     "end_time": "2025-07-22T09:13:23.850669",
     "exception": false,
     "start_time": "2025-07-22T09:13:22.799340",
     "status": "completed"
    },
    "tags": []
   },
   "outputs": [],
   "source": [
    "from fairness_multiverse.conformal import evaluate_sets\n",
    "\n",
    "# Evaluate coverage and average set size on test data\n",
    "metrics = evaluate_sets(pred_sets, y_true)"
   ]
  },
  {
   "cell_type": "code",
   "execution_count": 40,
   "id": "5ce0a5cb-201f-45a0-ade5-94c7f0bd6095",
   "metadata": {
    "execution": {
     "iopub.execute_input": "2025-07-22T09:13:23.897241Z",
     "iopub.status.busy": "2025-07-22T09:13:23.896679Z",
     "iopub.status.idle": "2025-07-22T09:13:23.905067Z",
     "shell.execute_reply": "2025-07-22T09:13:23.903910Z"
    },
    "papermill": {
     "duration": 0.035041,
     "end_time": "2025-07-22T09:13:23.906793",
     "exception": false,
     "start_time": "2025-07-22T09:13:23.871752",
     "status": "completed"
    },
    "tags": []
   },
   "outputs": [
    {
     "data": {
      "text/plain": [
       "{'coverage': 0.9100657674729684, 'avg_size': 1.1248021402296289}"
      ]
     },
     "execution_count": 40,
     "metadata": {},
     "output_type": "execute_result"
    }
   ],
   "source": [
    "metrics"
   ]
  },
  {
   "cell_type": "code",
   "execution_count": 41,
   "id": "9b9a838d-31c9-430b-ae14-12baee460d17",
   "metadata": {
    "execution": {
     "iopub.execute_input": "2025-07-22T09:13:23.951937Z",
     "iopub.status.busy": "2025-07-22T09:13:23.951490Z",
     "iopub.status.idle": "2025-07-22T09:13:23.960094Z",
     "shell.execute_reply": "2025-07-22T09:13:23.957333Z"
    },
    "papermill": {
     "duration": 0.03392,
     "end_time": "2025-07-22T09:13:23.962991",
     "exception": false,
     "start_time": "2025-07-22T09:13:23.929071",
     "status": "completed"
    },
    "tags": []
   },
   "outputs": [],
   "source": [
    "example_universe = universe.copy()\n",
    "universe_model = example_universe.get(\"model\")\n",
    "universe_exclude_features = example_universe.get(\"exclude_features\")\n",
    "universe_exclude_subgroups = example_universe.get(\"exclude_subgroups\")"
   ]
  },
  {
   "cell_type": "code",
   "execution_count": 42,
   "id": "f4b6a8ac-9dc0-4245-8a91-5b3b5999c4f9",
   "metadata": {
    "execution": {
     "iopub.execute_input": "2025-07-22T09:13:24.027798Z",
     "iopub.status.busy": "2025-07-22T09:13:24.026990Z",
     "iopub.status.idle": "2025-07-22T09:13:24.035046Z",
     "shell.execute_reply": "2025-07-22T09:13:24.033560Z"
    },
    "papermill": {
     "duration": 0.042743,
     "end_time": "2025-07-22T09:13:24.037672",
     "exception": false,
     "start_time": "2025-07-22T09:13:23.994929",
     "status": "completed"
    },
    "tags": []
   },
   "outputs": [],
   "source": [
    "cp_metrics_dict = {\n",
    "    \"universe_id\": [universe_id],\n",
    "    \"universe_model\": [universe_model],\n",
    "    \"universe_exclude_features\": [universe_exclude_features],\n",
    "    \"universe_exclude_subgroups\": [universe_exclude_subgroups],\n",
    "    \"q_hat\": [q_hat],\n",
    "    \"coverage\": [metrics[\"coverage\"]],\n",
    "    \"avg_size\": [metrics[\"avg_size\"]],\n",
    "}"
   ]
  },
  {
   "cell_type": "code",
   "execution_count": 43,
   "id": "908acbb1-0371-4915-85ca-3fa520d2efe2",
   "metadata": {
    "execution": {
     "iopub.execute_input": "2025-07-22T09:13:24.098686Z",
     "iopub.status.busy": "2025-07-22T09:13:24.098156Z",
     "iopub.status.idle": "2025-07-22T09:13:24.107552Z",
     "shell.execute_reply": "2025-07-22T09:13:24.106273Z"
    },
    "papermill": {
     "duration": 0.043311,
     "end_time": "2025-07-22T09:13:24.110782",
     "exception": false,
     "start_time": "2025-07-22T09:13:24.067471",
     "status": "completed"
    },
    "tags": []
   },
   "outputs": [
    {
     "data": {
      "text/plain": [
       "{'universe_id': ['c47c5a76445d831a16ee271956e6271b'],\n",
       " 'universe_model': ['penalized_logreg'],\n",
       " 'universe_exclude_features': ['nationality-sex'],\n",
       " 'universe_exclude_subgroups': ['drop-non-german'],\n",
       " 'q_hat': [0.6596793236665499],\n",
       " 'coverage': [0.9100657674729684],\n",
       " 'avg_size': [1.1248021402296289]}"
      ]
     },
     "execution_count": 43,
     "metadata": {},
     "output_type": "execute_result"
    }
   ],
   "source": [
    "cp_metrics_dict"
   ]
  },
  {
   "cell_type": "code",
   "execution_count": 44,
   "id": "33007efc-14e9-4ec6-97ac-56a455c82265",
   "metadata": {
    "execution": {
     "iopub.execute_input": "2025-07-22T09:13:24.177970Z",
     "iopub.status.busy": "2025-07-22T09:13:24.177436Z",
     "iopub.status.idle": "2025-07-22T09:13:24.185493Z",
     "shell.execute_reply": "2025-07-22T09:13:24.184203Z"
    },
    "papermill": {
     "duration": 0.047176,
     "end_time": "2025-07-22T09:13:24.188314",
     "exception": false,
     "start_time": "2025-07-22T09:13:24.141138",
     "status": "completed"
    },
    "tags": []
   },
   "outputs": [],
   "source": [
    "cp_metrics_df = pd.DataFrame(cp_metrics_dict)"
   ]
  },
  {
   "cell_type": "code",
   "execution_count": 45,
   "id": "db12611b-57b2-4910-b9d0-355adfd6e7bf",
   "metadata": {
    "execution": {
     "iopub.execute_input": "2025-07-22T09:13:24.236830Z",
     "iopub.status.busy": "2025-07-22T09:13:24.236267Z",
     "iopub.status.idle": "2025-07-22T09:13:24.254693Z",
     "shell.execute_reply": "2025-07-22T09:13:24.253612Z"
    },
    "papermill": {
     "duration": 0.044387,
     "end_time": "2025-07-22T09:13:24.256145",
     "exception": false,
     "start_time": "2025-07-22T09:13:24.211758",
     "status": "completed"
    },
    "tags": []
   },
   "outputs": [
    {
     "data": {
      "text/html": [
       "<div>\n",
       "<style scoped>\n",
       "    .dataframe tbody tr th:only-of-type {\n",
       "        vertical-align: middle;\n",
       "    }\n",
       "\n",
       "    .dataframe tbody tr th {\n",
       "        vertical-align: top;\n",
       "    }\n",
       "\n",
       "    .dataframe thead th {\n",
       "        text-align: right;\n",
       "    }\n",
       "</style>\n",
       "<table border=\"1\" class=\"dataframe\">\n",
       "  <thead>\n",
       "    <tr style=\"text-align: right;\">\n",
       "      <th></th>\n",
       "      <th>universe_id</th>\n",
       "      <th>universe_model</th>\n",
       "      <th>universe_exclude_features</th>\n",
       "      <th>universe_exclude_subgroups</th>\n",
       "      <th>q_hat</th>\n",
       "      <th>coverage</th>\n",
       "      <th>avg_size</th>\n",
       "    </tr>\n",
       "  </thead>\n",
       "  <tbody>\n",
       "    <tr>\n",
       "      <th>0</th>\n",
       "      <td>c47c5a76445d831a16ee271956e6271b</td>\n",
       "      <td>penalized_logreg</td>\n",
       "      <td>nationality-sex</td>\n",
       "      <td>drop-non-german</td>\n",
       "      <td>0.659679</td>\n",
       "      <td>0.910066</td>\n",
       "      <td>1.124802</td>\n",
       "    </tr>\n",
       "  </tbody>\n",
       "</table>\n",
       "</div>"
      ],
      "text/plain": [
       "                        universe_id    universe_model  \\\n",
       "0  c47c5a76445d831a16ee271956e6271b  penalized_logreg   \n",
       "\n",
       "  universe_exclude_features universe_exclude_subgroups     q_hat  coverage  \\\n",
       "0           nationality-sex            drop-non-german  0.659679  0.910066   \n",
       "\n",
       "   avg_size  \n",
       "0  1.124802  "
      ]
     },
     "execution_count": 45,
     "metadata": {},
     "output_type": "execute_result"
    }
   ],
   "source": [
    "cp_metrics_df"
   ]
  },
  {
   "cell_type": "code",
   "execution_count": 46,
   "id": "b7fbde55-a0a1-47e4-9af6-fe4a17fa8c61",
   "metadata": {
    "execution": {
     "iopub.execute_input": "2025-07-22T09:13:24.282872Z",
     "iopub.status.busy": "2025-07-22T09:13:24.282345Z",
     "iopub.status.idle": "2025-07-22T09:13:24.288027Z",
     "shell.execute_reply": "2025-07-22T09:13:24.286100Z"
    },
    "papermill": {
     "duration": 0.02219,
     "end_time": "2025-07-22T09:13:24.290464",
     "exception": false,
     "start_time": "2025-07-22T09:13:24.268274",
     "status": "completed"
    },
    "tags": []
   },
   "outputs": [],
   "source": [
    "# Conditional Coverage & looking at subgroups"
   ]
  },
  {
   "cell_type": "code",
   "execution_count": 47,
   "id": "027ae886-68dd-4141-96c7-805a5450e1ef",
   "metadata": {
    "execution": {
     "iopub.execute_input": "2025-07-22T09:13:24.319301Z",
     "iopub.status.busy": "2025-07-22T09:13:24.317855Z",
     "iopub.status.idle": "2025-07-22T09:13:24.602404Z",
     "shell.execute_reply": "2025-07-22T09:13:24.601464Z"
    },
    "papermill": {
     "duration": 0.301847,
     "end_time": "2025-07-22T09:13:24.604287",
     "exception": false,
     "start_time": "2025-07-22T09:13:24.302440",
     "status": "completed"
    },
    "tags": []
   },
   "outputs": [],
   "source": [
    "from fairness_multiverse.conformal import build_cp_groups\n",
    "\n",
    "cp_groups_df = build_cp_groups(pred_sets, y_true, X_test.index, org_test)\n",
    "#needs universe_id and setting"
   ]
  },
  {
   "cell_type": "code",
   "execution_count": 48,
   "id": "c3b92545-903e-4839-89af-0f057907d7d6",
   "metadata": {
    "execution": {
     "iopub.execute_input": "2025-07-22T09:13:24.645554Z",
     "iopub.status.busy": "2025-07-22T09:13:24.644421Z",
     "iopub.status.idle": "2025-07-22T09:13:28.457740Z",
     "shell.execute_reply": "2025-07-22T09:13:28.456628Z"
    },
    "papermill": {
     "duration": 3.83415,
     "end_time": "2025-07-22T09:13:28.459556",
     "exception": false,
     "start_time": "2025-07-22T09:13:24.625406",
     "status": "completed"
    },
    "tags": []
   },
   "outputs": [],
   "source": [
    "# Define covered = 1 if true_label is in the predicted set\n",
    "cp_groups_df['covered'] = cp_groups_df.apply(\n",
    "    lambda r: int(r['true_label'] in r['pred_set']),\n",
    "    axis=1\n",
    ")"
   ]
  },
  {
   "cell_type": "code",
   "execution_count": 49,
   "id": "338ff529-1a6b-4b87-a931-8e4788d52aad",
   "metadata": {
    "execution": {
     "iopub.execute_input": "2025-07-22T09:13:28.546166Z",
     "iopub.status.busy": "2025-07-22T09:13:28.545753Z",
     "iopub.status.idle": "2025-07-22T09:13:28.551338Z",
     "shell.execute_reply": "2025-07-22T09:13:28.550309Z"
    },
    "papermill": {
     "duration": 0.052783,
     "end_time": "2025-07-22T09:13:28.559352",
     "exception": false,
     "start_time": "2025-07-22T09:13:28.506569",
     "status": "completed"
    },
    "tags": []
   },
   "outputs": [],
   "source": [
    "#cp_groups_df"
   ]
  },
  {
   "cell_type": "code",
   "execution_count": 50,
   "id": "90032e27-66df-4540-9169-4e89cfbaa758",
   "metadata": {
    "execution": {
     "iopub.execute_input": "2025-07-22T09:13:28.659323Z",
     "iopub.status.busy": "2025-07-22T09:13:28.658830Z",
     "iopub.status.idle": "2025-07-22T09:13:28.676814Z",
     "shell.execute_reply": "2025-07-22T09:13:28.675465Z"
    },
    "papermill": {
     "duration": 0.060038,
     "end_time": "2025-07-22T09:13:28.678933",
     "exception": false,
     "start_time": "2025-07-22T09:13:28.618895",
     "status": "completed"
    },
    "tags": []
   },
   "outputs": [],
   "source": [
    "subgroups = ['frau1','nongerman','nongerman_male','nongerman_female']\n",
    "\n",
    "# Conditional coverage for subgroup==1\n",
    "cond_coverage = {\n",
    "    g: cp_groups_df.loc[cp_groups_df[g]==1, 'covered'].mean()\n",
    "    for g in subgroups\n",
    "}"
   ]
  },
  {
   "cell_type": "code",
   "execution_count": 51,
   "id": "1e348fb1-b9c3-45bc-ba23-f016827a7e0d",
   "metadata": {
    "execution": {
     "iopub.execute_input": "2025-07-22T09:13:28.795590Z",
     "iopub.status.busy": "2025-07-22T09:13:28.795185Z",
     "iopub.status.idle": "2025-07-22T09:13:28.803545Z",
     "shell.execute_reply": "2025-07-22T09:13:28.802296Z"
    },
    "papermill": {
     "duration": 0.060797,
     "end_time": "2025-07-22T09:13:28.805599",
     "exception": false,
     "start_time": "2025-07-22T09:13:28.744802",
     "status": "completed"
    },
    "tags": []
   },
   "outputs": [
    {
     "data": {
      "text/plain": [
       "{'frau1': 0.909502628386575,\n",
       " 'nongerman': 0.9100656823668107,\n",
       " 'nongerman_male': 0.9256957579032694,\n",
       " 'nongerman_female': 0.8842026825633383}"
      ]
     },
     "execution_count": 51,
     "metadata": {},
     "output_type": "execute_result"
    }
   ],
   "source": [
    "cond_coverage"
   ]
  },
  {
   "cell_type": "code",
   "execution_count": 52,
   "id": "f5093324-c3dd-4d63-bc4c-8d945e5c8bbb",
   "metadata": {
    "execution": {
     "iopub.execute_input": "2025-07-22T09:13:28.893248Z",
     "iopub.status.busy": "2025-07-22T09:13:28.892759Z",
     "iopub.status.idle": "2025-07-22T09:13:28.905113Z",
     "shell.execute_reply": "2025-07-22T09:13:28.903766Z"
    },
    "papermill": {
     "duration": 0.055334,
     "end_time": "2025-07-22T09:13:28.910026",
     "exception": false,
     "start_time": "2025-07-22T09:13:28.854692",
     "status": "completed"
    },
    "tags": []
   },
   "outputs": [],
   "source": [
    "for subgroup, cov in cond_coverage.items():\n",
    "    cp_metrics_df[f\"cov_{subgroup}\"] = cov"
   ]
  },
  {
   "cell_type": "code",
   "execution_count": 53,
   "id": "6e872e10-dbe5-49e8-b554-5030c98ff75d",
   "metadata": {
    "execution": {
     "iopub.execute_input": "2025-07-22T09:13:29.102059Z",
     "iopub.status.busy": "2025-07-22T09:13:29.101403Z",
     "iopub.status.idle": "2025-07-22T09:13:29.151527Z",
     "shell.execute_reply": "2025-07-22T09:13:29.150572Z"
    },
    "papermill": {
     "duration": 0.114095,
     "end_time": "2025-07-22T09:13:29.154028",
     "exception": false,
     "start_time": "2025-07-22T09:13:29.039933",
     "status": "completed"
    },
    "tags": []
   },
   "outputs": [
    {
     "data": {
      "text/html": [
       "<div>\n",
       "<style scoped>\n",
       "    .dataframe tbody tr th:only-of-type {\n",
       "        vertical-align: middle;\n",
       "    }\n",
       "\n",
       "    .dataframe tbody tr th {\n",
       "        vertical-align: top;\n",
       "    }\n",
       "\n",
       "    .dataframe thead th {\n",
       "        text-align: right;\n",
       "    }\n",
       "</style>\n",
       "<table border=\"1\" class=\"dataframe\">\n",
       "  <thead>\n",
       "    <tr style=\"text-align: right;\">\n",
       "      <th></th>\n",
       "      <th>universe_id</th>\n",
       "      <th>universe_model</th>\n",
       "      <th>universe_exclude_features</th>\n",
       "      <th>universe_exclude_subgroups</th>\n",
       "      <th>q_hat</th>\n",
       "      <th>coverage</th>\n",
       "      <th>avg_size</th>\n",
       "      <th>cov_frau1</th>\n",
       "      <th>cov_nongerman</th>\n",
       "      <th>cov_nongerman_male</th>\n",
       "      <th>cov_nongerman_female</th>\n",
       "    </tr>\n",
       "  </thead>\n",
       "  <tbody>\n",
       "    <tr>\n",
       "      <th>0</th>\n",
       "      <td>c47c5a76445d831a16ee271956e6271b</td>\n",
       "      <td>penalized_logreg</td>\n",
       "      <td>nationality-sex</td>\n",
       "      <td>drop-non-german</td>\n",
       "      <td>0.659679</td>\n",
       "      <td>0.910066</td>\n",
       "      <td>1.124802</td>\n",
       "      <td>0.909503</td>\n",
       "      <td>0.910066</td>\n",
       "      <td>0.925696</td>\n",
       "      <td>0.884203</td>\n",
       "    </tr>\n",
       "  </tbody>\n",
       "</table>\n",
       "</div>"
      ],
      "text/plain": [
       "                        universe_id    universe_model  \\\n",
       "0  c47c5a76445d831a16ee271956e6271b  penalized_logreg   \n",
       "\n",
       "  universe_exclude_features universe_exclude_subgroups     q_hat  coverage  \\\n",
       "0           nationality-sex            drop-non-german  0.659679  0.910066   \n",
       "\n",
       "   avg_size  cov_frau1  cov_nongerman  cov_nongerman_male  \\\n",
       "0  1.124802   0.909503       0.910066            0.925696   \n",
       "\n",
       "   cov_nongerman_female  \n",
       "0              0.884203  "
      ]
     },
     "execution_count": 53,
     "metadata": {},
     "output_type": "execute_result"
    }
   ],
   "source": [
    "cp_metrics_df"
   ]
  },
  {
   "cell_type": "markdown",
   "id": "33774451",
   "metadata": {
    "papermill": {
     "duration": 0.062033,
     "end_time": "2025-07-22T09:13:29.282764",
     "exception": false,
     "start_time": "2025-07-22T09:13:29.220731",
     "status": "completed"
    },
    "tags": []
   },
   "source": [
    "# (Fairness) Metrics"
   ]
  },
  {
   "cell_type": "code",
   "execution_count": 54,
   "id": "debc5d62",
   "metadata": {
    "execution": {
     "iopub.execute_input": "2025-07-22T09:13:29.443058Z",
     "iopub.status.busy": "2025-07-22T09:13:29.442613Z",
     "iopub.status.idle": "2025-07-22T09:13:29.497684Z",
     "shell.execute_reply": "2025-07-22T09:13:29.496640Z"
    },
    "papermill": {
     "duration": 0.143129,
     "end_time": "2025-07-22T09:13:29.499811",
     "exception": false,
     "start_time": "2025-07-22T09:13:29.356682",
     "status": "completed"
    },
    "tags": []
   },
   "outputs": [],
   "source": [
    "# do I need to include maxdeutsch1.missing?\n",
    "\n",
    "import numpy as np\n",
    "\n",
    "colname_to_bin = \"maxdeutsch1\"\n",
    "majority_value = org_train[colname_to_bin].mode()[0]\n",
    "\n",
    "org_test[\"majmin\"] = np.where(org_test[colname_to_bin] == majority_value, \"majority\", \"minority\")"
   ]
  },
  {
   "cell_type": "code",
   "execution_count": 55,
   "id": "06a50de5",
   "metadata": {
    "execution": {
     "iopub.execute_input": "2025-07-22T09:13:29.610871Z",
     "iopub.status.busy": "2025-07-22T09:13:29.610448Z",
     "iopub.status.idle": "2025-07-22T09:13:38.995427Z",
     "shell.execute_reply": "2025-07-22T09:13:38.994360Z"
    },
    "papermill": {
     "duration": 9.458166,
     "end_time": "2025-07-22T09:13:38.997712",
     "exception": false,
     "start_time": "2025-07-22T09:13:29.539546",
     "status": "completed"
    },
    "tags": []
   },
   "outputs": [],
   "source": [
    "example_universe = universe.copy()\n",
    "example_universe[\"cutoff\"] = example_universe[\"cutoff\"][0]\n",
    "example_universe[\"eval_fairness_grouping\"] = example_universe[\"eval_fairness_grouping\"][0]\n",
    "fairness_dict, metric_frame = universe_analysis.compute_metrics(\n",
    "    example_universe,\n",
    "    y_pred_prob=probs_test,\n",
    "    y_test=y_true,\n",
    "    org_test=org_test,\n",
    ")"
   ]
  },
  {
   "cell_type": "markdown",
   "id": "f95d4e02",
   "metadata": {
    "papermill": {
     "duration": 0.0491,
     "end_time": "2025-07-22T09:13:39.105795",
     "exception": false,
     "start_time": "2025-07-22T09:13:39.056695",
     "status": "completed"
    },
    "tags": []
   },
   "source": [
    "# Overall"
   ]
  },
  {
   "cell_type": "markdown",
   "id": "bdee4871",
   "metadata": {
    "papermill": {
     "duration": 0.021566,
     "end_time": "2025-07-22T09:13:39.149154",
     "exception": false,
     "start_time": "2025-07-22T09:13:39.127588",
     "status": "completed"
    },
    "tags": []
   },
   "source": [
    "Fairness\n",
    "Main fairness target: Equalized Odds. Seems to be a better fit than equal opportunity, since we're not only interested in Y = 1. Seems to be a better fit than demographic parity, since we also care about accuracy, not just equal distribution of preds.\n",
    "\n",
    "Pick column for computation of fairness metrics\n",
    "\n",
    "Performance\n",
    "Overall performance measures, most interesting in relation to the measures split by group below"
   ]
  },
  {
   "cell_type": "code",
   "execution_count": 56,
   "id": "c4e067c6",
   "metadata": {
    "execution": {
     "iopub.execute_input": "2025-07-22T09:13:39.198341Z",
     "iopub.status.busy": "2025-07-22T09:13:39.197397Z",
     "iopub.status.idle": "2025-07-22T09:13:39.223803Z",
     "shell.execute_reply": "2025-07-22T09:13:39.222586Z"
    },
    "papermill": {
     "duration": 0.055206,
     "end_time": "2025-07-22T09:13:39.228530",
     "exception": false,
     "start_time": "2025-07-22T09:13:39.173324",
     "status": "completed"
    },
    "tags": []
   },
   "outputs": [
    {
     "data": {
      "text/plain": [
       "accuracy                   0.225426\n",
       "balanced accuracy          0.550978\n",
       "f1                         0.246729\n",
       "precision                  0.140948\n",
       "false positive rate        0.886921\n",
       "false negative rate        0.011123\n",
       "selection rate             0.900000\n",
       "count                  89710.000000\n",
       "dtype: float64"
      ]
     },
     "execution_count": 56,
     "metadata": {},
     "output_type": "execute_result"
    }
   ],
   "source": [
    "metric_frame.overall"
   ]
  },
  {
   "cell_type": "markdown",
   "id": "e968fe9d",
   "metadata": {
    "papermill": {
     "duration": 0.052045,
     "end_time": "2025-07-22T09:13:39.308969",
     "exception": false,
     "start_time": "2025-07-22T09:13:39.256924",
     "status": "completed"
    },
    "tags": []
   },
   "source": [
    "By Group"
   ]
  },
  {
   "cell_type": "code",
   "execution_count": 57,
   "id": "ec325bce",
   "metadata": {
    "execution": {
     "iopub.execute_input": "2025-07-22T09:13:39.403001Z",
     "iopub.status.busy": "2025-07-22T09:13:39.402578Z",
     "iopub.status.idle": "2025-07-22T09:13:39.437952Z",
     "shell.execute_reply": "2025-07-22T09:13:39.436689Z"
    },
    "papermill": {
     "duration": 0.086187,
     "end_time": "2025-07-22T09:13:39.440131",
     "exception": false,
     "start_time": "2025-07-22T09:13:39.353944",
     "status": "completed"
    },
    "tags": []
   },
   "outputs": [
    {
     "data": {
      "text/html": [
       "<div>\n",
       "<style scoped>\n",
       "    .dataframe tbody tr th:only-of-type {\n",
       "        vertical-align: middle;\n",
       "    }\n",
       "\n",
       "    .dataframe tbody tr th {\n",
       "        vertical-align: top;\n",
       "    }\n",
       "\n",
       "    .dataframe thead th {\n",
       "        text-align: right;\n",
       "    }\n",
       "</style>\n",
       "<table border=\"1\" class=\"dataframe\">\n",
       "  <thead>\n",
       "    <tr style=\"text-align: right;\">\n",
       "      <th></th>\n",
       "      <th>accuracy</th>\n",
       "      <th>balanced accuracy</th>\n",
       "      <th>f1</th>\n",
       "      <th>precision</th>\n",
       "      <th>false positive rate</th>\n",
       "      <th>false negative rate</th>\n",
       "      <th>selection rate</th>\n",
       "      <th>count</th>\n",
       "    </tr>\n",
       "    <tr>\n",
       "      <th>majmin</th>\n",
       "      <th></th>\n",
       "      <th></th>\n",
       "      <th></th>\n",
       "      <th></th>\n",
       "      <th></th>\n",
       "      <th></th>\n",
       "      <th></th>\n",
       "      <th></th>\n",
       "    </tr>\n",
       "  </thead>\n",
       "  <tbody>\n",
       "    <tr>\n",
       "      <th>majority</th>\n",
       "      <td>0.245526</td>\n",
       "      <td>0.560363</td>\n",
       "      <td>0.257156</td>\n",
       "      <td>0.147808</td>\n",
       "      <td>0.867566</td>\n",
       "      <td>0.011707</td>\n",
       "      <td>0.883519</td>\n",
       "      <td>69170.0</td>\n",
       "    </tr>\n",
       "    <tr>\n",
       "      <th>minority</th>\n",
       "      <td>0.157741</td>\n",
       "      <td>0.520137</td>\n",
       "      <td>0.213422</td>\n",
       "      <td>0.119586</td>\n",
       "      <td>0.950858</td>\n",
       "      <td>0.008868</td>\n",
       "      <td>0.955501</td>\n",
       "      <td>20540.0</td>\n",
       "    </tr>\n",
       "  </tbody>\n",
       "</table>\n",
       "</div>"
      ],
      "text/plain": [
       "          accuracy  balanced accuracy        f1  precision  \\\n",
       "majmin                                                       \n",
       "majority  0.245526           0.560363  0.257156   0.147808   \n",
       "minority  0.157741           0.520137  0.213422   0.119586   \n",
       "\n",
       "          false positive rate  false negative rate  selection rate    count  \n",
       "majmin                                                                       \n",
       "majority             0.867566             0.011707        0.883519  69170.0  \n",
       "minority             0.950858             0.008868        0.955501  20540.0  "
      ]
     },
     "execution_count": 57,
     "metadata": {},
     "output_type": "execute_result"
    }
   ],
   "source": [
    "metric_frame.by_group"
   ]
  },
  {
   "cell_type": "code",
   "execution_count": 58,
   "id": "a9ddbe63",
   "metadata": {
    "execution": {
     "iopub.execute_input": "2025-07-22T09:13:39.498473Z",
     "iopub.status.busy": "2025-07-22T09:13:39.498074Z",
     "iopub.status.idle": "2025-07-22T09:13:43.387585Z",
     "shell.execute_reply": "2025-07-22T09:13:43.386297Z"
    },
    "papermill": {
     "duration": 3.919905,
     "end_time": "2025-07-22T09:13:43.389153",
     "exception": false,
     "start_time": "2025-07-22T09:13:39.469248",
     "status": "completed"
    },
    "tags": []
   },
   "outputs": [
    {
     "data": {
      "text/plain": [
       "array([[<Axes: title={'center': 'accuracy'}, xlabel='majmin'>,\n",
       "        <Axes: title={'center': 'balanced accuracy'}, xlabel='majmin'>,\n",
       "        <Axes: title={'center': 'f1'}, xlabel='majmin'>],\n",
       "       [<Axes: title={'center': 'precision'}, xlabel='majmin'>,\n",
       "        <Axes: title={'center': 'false positive rate'}, xlabel='majmin'>,\n",
       "        <Axes: title={'center': 'false negative rate'}, xlabel='majmin'>],\n",
       "       [<Axes: title={'center': 'selection rate'}, xlabel='majmin'>,\n",
       "        <Axes: title={'center': 'count'}, xlabel='majmin'>,\n",
       "        <Axes: xlabel='majmin'>]], dtype=object)"
      ]
     },
     "execution_count": 58,
     "metadata": {},
     "output_type": "execute_result"
    },
    {
     "data": {
      "image/png": "[encoded data removed]",
      "text/plain": [
       "<Figure size 1200x800 with 9 Axes>"
      ]
     },
     "metadata": {},
     "output_type": "display_data"
    }
   ],
   "source": [
    "# In a graphic\n",
    "metric_frame.by_group.plot.bar(\n",
    "    subplots=True,\n",
    "    layout=[3, 3],\n",
    "    legend=False,\n",
    "    figsize=[12, 8],\n",
    "    title=\"Show all metrics\",\n",
    ")"
   ]
  },
  {
   "cell_type": "markdown",
   "id": "f57a0bac",
   "metadata": {
    "papermill": {
     "duration": 0.023465,
     "end_time": "2025-07-22T09:13:43.453720",
     "exception": false,
     "start_time": "2025-07-22T09:13:43.430255",
     "status": "completed"
    },
    "tags": []
   },
   "source": [
    "# Final Output"
   ]
  },
  {
   "cell_type": "code",
   "execution_count": 59,
   "id": "96d280a3",
   "metadata": {
    "execution": {
     "iopub.execute_input": "2025-07-22T09:13:43.500053Z",
     "iopub.status.busy": "2025-07-22T09:13:43.499351Z",
     "iopub.status.idle": "2025-07-22T09:13:43.508934Z",
     "shell.execute_reply": "2025-07-22T09:13:43.507815Z"
    },
    "papermill": {
     "duration": 0.034161,
     "end_time": "2025-07-22T09:13:43.510473",
     "exception": false,
     "start_time": "2025-07-22T09:13:43.476312",
     "status": "completed"
    },
    "tags": []
   },
   "outputs": [
    {
     "data": {
      "text/plain": [
       "4"
      ]
     },
     "execution_count": 59,
     "metadata": {},
     "output_type": "execute_result"
    }
   ],
   "source": [
    "sub_universes = universe_analysis.generate_sub_universes()\n",
    "len(sub_universes)"
   ]
  },
  {
   "cell_type": "code",
   "execution_count": 60,
   "id": "92adf7ba",
   "metadata": {
    "execution": {
     "iopub.execute_input": "2025-07-22T09:13:43.557682Z",
     "iopub.status.busy": "2025-07-22T09:13:43.557216Z",
     "iopub.status.idle": "2025-07-22T09:13:43.563870Z",
     "shell.execute_reply": "2025-07-22T09:13:43.562783Z"
    },
    "papermill": {
     "duration": 0.033017,
     "end_time": "2025-07-22T09:13:43.565787",
     "exception": false,
     "start_time": "2025-07-22T09:13:43.532770",
     "status": "completed"
    },
    "tags": []
   },
   "outputs": [],
   "source": [
    "def filter_sub_universe_data(sub_universe, org_test):\n",
    "    # Keep all rows — no filtering\n",
    "    keep_rows_mask = np.ones(org_test.shape[0], dtype=bool)\n",
    "\n",
    "    print(f\"[INFO] Keeping all rows: {keep_rows_mask.sum()} rows retained.\")\n",
    "    return keep_rows_mask"
   ]
  },
  {
   "cell_type": "code",
   "execution_count": 61,
   "id": "4a759155",
   "metadata": {
    "execution": {
     "iopub.execute_input": "2025-07-22T09:13:43.623823Z",
     "iopub.status.busy": "2025-07-22T09:13:43.623269Z",
     "iopub.status.idle": "2025-07-22T09:13:54.293554Z",
     "shell.execute_reply": "2025-07-22T09:13:54.292322Z"
    },
    "papermill": {
     "duration": 10.699251,
     "end_time": "2025-07-22T09:13:54.295462",
     "exception": false,
     "start_time": "2025-07-22T09:13:43.596211",
     "status": "completed"
    },
    "tags": []
   },
   "outputs": [
    {
     "name": "stdout",
     "output_type": "stream",
     "text": [
      "Stopping execution_time clock.\n",
      "[INFO] Keeping all rows: 89710 rows retained.\n"
     ]
    },
    {
     "name": "stdout",
     "output_type": "stream",
     "text": [
      "[INFO] Keeping all rows: 89710 rows retained.\n"
     ]
    },
    {
     "name": "stdout",
     "output_type": "stream",
     "text": [
      "[INFO] Keeping all rows: 89710 rows retained.\n"
     ]
    },
    {
     "name": "stdout",
     "output_type": "stream",
     "text": [
      "[INFO] Keeping all rows: 89710 rows retained.\n"
     ]
    },
    {
     "data": {
      "text/html": [
       "<div>\n",
       "<style scoped>\n",
       "    .dataframe tbody tr th:only-of-type {\n",
       "        vertical-align: middle;\n",
       "    }\n",
       "\n",
       "    .dataframe tbody tr th {\n",
       "        vertical-align: top;\n",
       "    }\n",
       "\n",
       "    .dataframe thead th {\n",
       "        text-align: right;\n",
       "    }\n",
       "</style>\n",
       "<table border=\"1\" class=\"dataframe\">\n",
       "  <thead>\n",
       "    <tr style=\"text-align: right;\">\n",
       "      <th></th>\n",
       "      <th>run_no</th>\n",
       "      <th>universe_id</th>\n",
       "      <th>universe_settings</th>\n",
       "      <th>execution_time</th>\n",
       "      <th>test_size_n</th>\n",
       "      <th>test_size_frac</th>\n",
       "      <th>fair_main_equalized_odds_difference</th>\n",
       "      <th>fair_main_equalized_odds_ratio</th>\n",
       "      <th>fair_main_demographic_parity_difference</th>\n",
       "      <th>fair_main_demographic_parity_ratio</th>\n",
       "      <th>...</th>\n",
       "      <th>perf_grp_precision_0</th>\n",
       "      <th>perf_grp_precision_1</th>\n",
       "      <th>perf_grp_false positive rate_0</th>\n",
       "      <th>perf_grp_false positive rate_1</th>\n",
       "      <th>perf_grp_false negative rate_0</th>\n",
       "      <th>perf_grp_false negative rate_1</th>\n",
       "      <th>perf_grp_selection rate_0</th>\n",
       "      <th>perf_grp_selection rate_1</th>\n",
       "      <th>perf_grp_count_0</th>\n",
       "      <th>perf_grp_count_1</th>\n",
       "    </tr>\n",
       "  </thead>\n",
       "  <tbody>\n",
       "    <tr>\n",
       "      <th>0</th>\n",
       "      <td>3</td>\n",
       "      <td>c47c5a76445d831a16ee271956e6271b</td>\n",
       "      <td>{\"cutoff\": \"quantile_0.1\", \"eval_fairness_grou...</td>\n",
       "      <td>28.478478</td>\n",
       "      <td>89710</td>\n",
       "      <td>1.0</td>\n",
       "      <td>0.083292</td>\n",
       "      <td>0.912403</td>\n",
       "      <td>0.071983</td>\n",
       "      <td>0.924665</td>\n",
       "      <td>...</td>\n",
       "      <td>NaN</td>\n",
       "      <td>NaN</td>\n",
       "      <td>NaN</td>\n",
       "      <td>NaN</td>\n",
       "      <td>NaN</td>\n",
       "      <td>NaN</td>\n",
       "      <td>NaN</td>\n",
       "      <td>NaN</td>\n",
       "      <td>NaN</td>\n",
       "      <td>NaN</td>\n",
       "    </tr>\n",
       "    <tr>\n",
       "      <th>0</th>\n",
       "      <td>3</td>\n",
       "      <td>c47c5a76445d831a16ee271956e6271b</td>\n",
       "      <td>{\"cutoff\": \"quantile_0.1\", \"eval_fairness_grou...</td>\n",
       "      <td>28.478478</td>\n",
       "      <td>89710</td>\n",
       "      <td>1.0</td>\n",
       "      <td>0.083292</td>\n",
       "      <td>0.912403</td>\n",
       "      <td>0.071983</td>\n",
       "      <td>0.924665</td>\n",
       "      <td>...</td>\n",
       "      <td>0.119586</td>\n",
       "      <td>0.147808</td>\n",
       "      <td>0.950858</td>\n",
       "      <td>0.867566</td>\n",
       "      <td>0.008868</td>\n",
       "      <td>0.011707</td>\n",
       "      <td>0.955501</td>\n",
       "      <td>0.883519</td>\n",
       "      <td>20540.0</td>\n",
       "      <td>69170.0</td>\n",
       "    </tr>\n",
       "    <tr>\n",
       "      <th>0</th>\n",
       "      <td>3</td>\n",
       "      <td>c47c5a76445d831a16ee271956e6271b</td>\n",
       "      <td>{\"cutoff\": \"quantile_0.25\", \"eval_fairness_gro...</td>\n",
       "      <td>28.478478</td>\n",
       "      <td>89710</td>\n",
       "      <td>1.0</td>\n",
       "      <td>0.153863</td>\n",
       "      <td>0.816499</td>\n",
       "      <td>0.132922</td>\n",
       "      <td>0.844076</td>\n",
       "      <td>...</td>\n",
       "      <td>NaN</td>\n",
       "      <td>NaN</td>\n",
       "      <td>NaN</td>\n",
       "      <td>NaN</td>\n",
       "      <td>NaN</td>\n",
       "      <td>NaN</td>\n",
       "      <td>NaN</td>\n",
       "      <td>NaN</td>\n",
       "      <td>NaN</td>\n",
       "      <td>NaN</td>\n",
       "    </tr>\n",
       "    <tr>\n",
       "      <th>0</th>\n",
       "      <td>3</td>\n",
       "      <td>c47c5a76445d831a16ee271956e6271b</td>\n",
       "      <td>{\"cutoff\": \"quantile_0.25\", \"eval_fairness_gro...</td>\n",
       "      <td>28.478478</td>\n",
       "      <td>89710</td>\n",
       "      <td>1.0</td>\n",
       "      <td>0.153863</td>\n",
       "      <td>0.816499</td>\n",
       "      <td>0.132922</td>\n",
       "      <td>0.844076</td>\n",
       "      <td>...</td>\n",
       "      <td>0.129812</td>\n",
       "      <td>0.174275</td>\n",
       "      <td>0.838488</td>\n",
       "      <td>0.684624</td>\n",
       "      <td>0.040118</td>\n",
       "      <td>0.050985</td>\n",
       "      <td>0.852483</td>\n",
       "      <td>0.719561</td>\n",
       "      <td>20540.0</td>\n",
       "      <td>69170.0</td>\n",
       "    </tr>\n",
       "  </tbody>\n",
       "</table>\n",
       "<p>4 rows × 50 columns</p>\n",
       "</div>"
      ],
      "text/plain": [
       "  run_no                       universe_id  \\\n",
       "0      3  c47c5a76445d831a16ee271956e6271b   \n",
       "0      3  c47c5a76445d831a16ee271956e6271b   \n",
       "0      3  c47c5a76445d831a16ee271956e6271b   \n",
       "0      3  c47c5a76445d831a16ee271956e6271b   \n",
       "\n",
       "                                   universe_settings  execution_time  \\\n",
       "0  {\"cutoff\": \"quantile_0.1\", \"eval_fairness_grou...       28.478478   \n",
       "0  {\"cutoff\": \"quantile_0.1\", \"eval_fairness_grou...       28.478478   \n",
       "0  {\"cutoff\": \"quantile_0.25\", \"eval_fairness_gro...       28.478478   \n",
       "0  {\"cutoff\": \"quantile_0.25\", \"eval_fairness_gro...       28.478478   \n",
       "\n",
       "   test_size_n  test_size_frac  fair_main_equalized_odds_difference  \\\n",
       "0        89710             1.0                             0.083292   \n",
       "0        89710             1.0                             0.083292   \n",
       "0        89710             1.0                             0.153863   \n",
       "0        89710             1.0                             0.153863   \n",
       "\n",
       "   fair_main_equalized_odds_ratio  fair_main_demographic_parity_difference  \\\n",
       "0                        0.912403                                 0.071983   \n",
       "0                        0.912403                                 0.071983   \n",
       "0                        0.816499                                 0.132922   \n",
       "0                        0.816499                                 0.132922   \n",
       "\n",
       "   fair_main_demographic_parity_ratio  ...  perf_grp_precision_0  \\\n",
       "0                            0.924665  ...                   NaN   \n",
       "0                            0.924665  ...              0.119586   \n",
       "0                            0.844076  ...                   NaN   \n",
       "0                            0.844076  ...              0.129812   \n",
       "\n",
       "   perf_grp_precision_1  perf_grp_false positive rate_0  \\\n",
       "0                   NaN                             NaN   \n",
       "0              0.147808                        0.950858   \n",
       "0                   NaN                             NaN   \n",
       "0              0.174275                        0.838488   \n",
       "\n",
       "   perf_grp_false positive rate_1  perf_grp_false negative rate_0  \\\n",
       "0                             NaN                             NaN   \n",
       "0                        0.867566                        0.008868   \n",
       "0                             NaN                             NaN   \n",
       "0                        0.684624                        0.040118   \n",
       "\n",
       "   perf_grp_false negative rate_1  perf_grp_selection rate_0  \\\n",
       "0                             NaN                        NaN   \n",
       "0                        0.011707                   0.955501   \n",
       "0                             NaN                        NaN   \n",
       "0                        0.050985                   0.852483   \n",
       "\n",
       "   perf_grp_selection rate_1  perf_grp_count_0  perf_grp_count_1  \n",
       "0                        NaN               NaN               NaN  \n",
       "0                   0.883519           20540.0           69170.0  \n",
       "0                        NaN               NaN               NaN  \n",
       "0                   0.719561           20540.0           69170.0  \n",
       "\n",
       "[4 rows x 50 columns]"
      ]
     },
     "execution_count": 61,
     "metadata": {},
     "output_type": "execute_result"
    }
   ],
   "source": [
    "final_output = universe_analysis.generate_final_output(\n",
    "    y_pred_prob=probs_test,\n",
    "    y_test=y_true,\n",
    "    org_test=org_test,\n",
    "    filter_data=filter_sub_universe_data,\n",
    "    cp_metrics_df=cp_metrics_df,\n",
    "    save=True,\n",
    ")\n",
    "final_output"
   ]
  },
  {
   "cell_type": "code",
   "execution_count": null,
   "id": "721ff514-cb11-46f8-b6fc-50392f74b5cb",
   "metadata": {
    "papermill": {
     "duration": 0.025321,
     "end_time": "2025-07-22T09:13:54.349496",
     "exception": false,
     "start_time": "2025-07-22T09:13:54.324175",
     "status": "completed"
    },
    "tags": []
   },
   "outputs": [],
   "source": []
  }
 ],
 "metadata": {
  "celltoolbar": "Tags",
  "kernelspec": {
   "display_name": "Python (CMA Fairness)",
   "language": "python",
   "name": "cma_fair_env"
  },
  "language_info": {
   "codemirror_mode": {
    "name": "ipython",
    "version": 3
   },
   "file_extension": ".py",
   "mimetype": "text/x-python",
   "name": "python",
   "nbconvert_exporter": "python",
   "pygments_lexer": "ipython3",
   "version": "3.10.12"
  },
  "papermill": {
   "default_parameters": {},
   "duration": 43.347775,
   "end_time": "2025-07-22T09:13:55.094306",
   "environment_variables": {},
   "exception": null,
   "input_path": "universe_analysis.ipynb",
   "output_path": "output/runs/3/notebooks/m_3-c47c5a76445d831a16ee271956e6271b.ipynb",
   "parameters": {
    "output_dir": "output",
    "run_no": "3",
    "seed": "2023",
    "universe": "{\"cutoff\": [\"quantile_0.1\", \"quantile_0.25\"], \"eval_fairness_grouping\": [\"majority-minority\", \"nationality-all\"], \"exclude_features\": \"nationality-sex\", \"exclude_subgroups\": \"drop-non-german\", \"model\": \"penalized_logreg\", \"scale\": \"scale\"}",
    "universe_id": "c47c5a76445d831a16ee271956e6271b"
   },
   "start_time": "2025-07-22T09:13:11.746531",
   "version": "2.6.0"
  }
 },
 "nbformat": 4,
 "nbformat_minor": 5
}