{
 "cells": [
  {
   "cell_type": "markdown",
   "id": "ef23dbb3",
   "metadata": {
    "papermill": {
     "duration": 0.02278,
     "end_time": "2025-08-19T19:02:41.538970",
     "exception": false,
     "start_time": "2025-08-19T19:02:41.516190",
     "status": "completed"
    },
    "tags": []
   },
   "source": [
    "# Setup"
   ]
  },
  {
   "cell_type": "code",
   "execution_count": 1,
   "id": "0bc8e7dc",
   "metadata": {
    "execution": {
     "iopub.execute_input": "2025-08-19T19:02:41.561055Z",
     "iopub.status.busy": "2025-08-19T19:02:41.560549Z",
     "iopub.status.idle": "2025-08-19T19:02:41.573619Z",
     "shell.execute_reply": "2025-08-19T19:02:41.572613Z"
    },
    "papermill": {
     "duration": 0.024796,
     "end_time": "2025-08-19T19:02:41.575590",
     "exception": false,
     "start_time": "2025-08-19T19:02:41.550794",
     "status": "completed"
    },
    "tags": []
   },
   "outputs": [
    {
     "name": "stdout",
     "output_type": "stream",
     "text": [
      "/dss/dsshome1/0C/ra93lal2/cma/CMA_Fairness_v2\n"
     ]
    },
    {
     "name": "stderr",
     "output_type": "stream",
     "text": [
      "/dss/dsshome1/0C/ra93lal2/.local/share/virtualenvs/CMA_Fairness_v2-3j10GkSs/lib/python3.10/site-packages/IPython/core/magics/osm.py:393: UserWarning: This is now an optional IPython functionality, using bookmarks requires you to install the `pickleshare` library.\n",
      "  bkms = self.shell.db.get('bookmarks', {})\n",
      "/dss/dsshome1/0C/ra93lal2/.local/share/virtualenvs/CMA_Fairness_v2-3j10GkSs/lib/python3.10/site-packages/IPython/core/magics/osm.py:417: UserWarning: This is now an optional IPython functionality, setting dhist requires you to install the `pickleshare` library.\n",
      "  self.shell.db['dhist'] = compress_dhist(dhist)[-100:]\n"
     ]
    }
   ],
   "source": [
    "%cd ~/cma/CMA_Fairness_v2"
   ]
  },
  {
   "cell_type": "markdown",
   "id": "9d235661",
   "metadata": {
    "papermill": {
     "duration": 0.008672,
     "end_time": "2025-08-19T19:02:41.593581",
     "exception": false,
     "start_time": "2025-08-19T19:02:41.584909",
     "status": "completed"
    },
    "tags": []
   },
   "source": [
    "The following cell holds the definition of our parameters, these values can be overriden by rendering the with e.g. the following command:\n",
    "\n",
    "papermill -p alpha 0.2 -p ratio 0.3 universe_analysis.ipynb output/test_run.ipynb"
   ]
  },
  {
   "cell_type": "code",
   "execution_count": 2,
   "id": "4a789d8e",
   "metadata": {
    "execution": {
     "iopub.execute_input": "2025-08-19T19:02:41.612483Z",
     "iopub.status.busy": "2025-08-19T19:02:41.612011Z",
     "iopub.status.idle": "2025-08-19T19:02:41.618032Z",
     "shell.execute_reply": "2025-08-19T19:02:41.616913Z"
    },
    "papermill": {
     "duration": 0.017281,
     "end_time": "2025-08-19T19:02:41.619563",
     "exception": false,
     "start_time": "2025-08-19T19:02:41.602282",
     "status": "completed"
    },
    "tags": []
   },
   "outputs": [
    {
     "name": "stdout",
     "output_type": "stream",
     "text": [
      "Current working directory: /dss/dsshome1/0C/ra93lal2/cma/CMA_Fairness_v2\n"
     ]
    }
   ],
   "source": [
    "import os\n",
    "print(\"Current working directory:\", os.getcwd())"
   ]
  },
  {
   "cell_type": "code",
   "execution_count": 3,
   "id": "4132aaed",
   "metadata": {
    "execution": {
     "iopub.execute_input": "2025-08-19T19:02:41.639324Z",
     "iopub.status.busy": "2025-08-19T19:02:41.638890Z",
     "iopub.status.idle": "2025-08-19T19:02:41.645310Z",
     "shell.execute_reply": "2025-08-19T19:02:41.644274Z"
    },
    "papermill": {
     "duration": 0.017796,
     "end_time": "2025-08-19T19:02:41.646902",
     "exception": false,
     "start_time": "2025-08-19T19:02:41.629106",
     "status": "completed"
    },
    "tags": [
     "parameters"
    ]
   },
   "outputs": [],
   "source": [
    "run_no = 0\n",
    "universe_id = \"test\"\n",
    "universe = {\n",
    "    \"training_size\": \"5k\", # \"25k\", \"5k\", \"1k\"\n",
    "    \"training_year\": \"2012_14\", # \"2014\", \"2012_14\", \"2010_14\"\n",
    "    \"scale\": \"scale\", # \"scale\", \"do-not-scale\",\n",
    "    \"model\": \"elasticnet\", # \"logreg\", \"penalized_logreg\", \"rf\", \"gbm\", \"elasticnet\"\n",
    "    \"cutoff\": [\"quantile_0.15\", \"quantile_0.30\"],\n",
    "    \"exclude_features\": \"age\", # \"none\", \"nationality\", \"sex\", \"nationality-sex\", \"age\"\n",
    "    \"exclude_subgroups\": \"drop-non-german\", # \"keep-all\", \"drop-non-german\"\n",
    "    \"eval_fairness_grouping\": [\"majority-minority\", \"nationality-all\"]\n",
    "}\n",
    "\n",
    "output_dir=\"./output\"\n",
    "seed=0"
   ]
  },
  {
   "cell_type": "code",
   "execution_count": 4,
   "id": "c1b2f3a8",
   "metadata": {
    "execution": {
     "iopub.execute_input": "2025-08-19T19:02:41.667151Z",
     "iopub.status.busy": "2025-08-19T19:02:41.666710Z",
     "iopub.status.idle": "2025-08-19T19:02:41.671922Z",
     "shell.execute_reply": "2025-08-19T19:02:41.670811Z"
    },
    "papermill": {
     "duration": 0.01688,
     "end_time": "2025-08-19T19:02:41.673389",
     "exception": false,
     "start_time": "2025-08-19T19:02:41.656509",
     "status": "completed"
    },
    "tags": [
     "injected-parameters"
    ]
   },
   "outputs": [],
   "source": [
    "# Parameters\n",
    "universe_id = \"669d114df9ba63ffb1e3e62ad7fb5528\"\n",
    "run_no = \"3\"\n",
    "universe = \"{\\\"cutoff\\\": [\\\"quantile_0.1\\\", \\\"quantile_0.25\\\"], \\\"eval_fairness_grouping\\\": [\\\"majority-minority\\\", \\\"nationality-all\\\"], \\\"exclude_features\\\": \\\"age\\\", \\\"exclude_subgroups\\\": \\\"keep-all\\\", \\\"model\\\": \\\"rf\\\", \\\"scale\\\": \\\"do-not-scale\\\", \\\"training_size\\\": \\\"1k\\\", \\\"training_year\\\": \\\"2012_14\\\"}\"\n",
    "output_dir = \"output\"\n",
    "seed = \"2023\"\n"
   ]
  },
  {
   "cell_type": "code",
   "execution_count": 5,
   "id": "a5d7941f",
   "metadata": {
    "execution": {
     "iopub.execute_input": "2025-08-19T19:02:41.693286Z",
     "iopub.status.busy": "2025-08-19T19:02:41.692846Z",
     "iopub.status.idle": "2025-08-19T19:02:41.697952Z",
     "shell.execute_reply": "2025-08-19T19:02:41.697048Z"
    },
    "papermill": {
     "duration": 0.016559,
     "end_time": "2025-08-19T19:02:41.699542",
     "exception": false,
     "start_time": "2025-08-19T19:02:41.682983",
     "status": "completed"
    },
    "tags": []
   },
   "outputs": [],
   "source": [
    "import json\n",
    "if isinstance(universe, str):\n",
    "    universe = json.loads(universe)"
   ]
  },
  {
   "cell_type": "code",
   "execution_count": 6,
   "id": "7076ccb1",
   "metadata": {
    "execution": {
     "iopub.execute_input": "2025-08-19T19:02:41.719374Z",
     "iopub.status.busy": "2025-08-19T19:02:41.718955Z",
     "iopub.status.idle": "2025-08-19T19:02:41.759799Z",
     "shell.execute_reply": "2025-08-19T19:02:41.754041Z"
    },
    "papermill": {
     "duration": 0.053195,
     "end_time": "2025-08-19T19:02:41.762256",
     "exception": false,
     "start_time": "2025-08-19T19:02:41.709061",
     "status": "completed"
    },
    "tags": []
   },
   "outputs": [],
   "source": [
    "# Auto-reload the custom package\n",
    "%load_ext autoreload\n",
    "%autoreload 1\n",
    "%aimport fairness_multiverse"
   ]
  },
  {
   "cell_type": "code",
   "execution_count": 7,
   "id": "94c8eb93",
   "metadata": {
    "execution": {
     "iopub.execute_input": "2025-08-19T19:02:41.795475Z",
     "iopub.status.busy": "2025-08-19T19:02:41.794263Z",
     "iopub.status.idle": "2025-08-19T19:02:43.316977Z",
     "shell.execute_reply": "2025-08-19T19:02:43.314419Z"
    },
    "papermill": {
     "duration": 1.540638,
     "end_time": "2025-08-19T19:02:43.319601",
     "exception": false,
     "start_time": "2025-08-19T19:02:41.778963",
     "status": "completed"
    },
    "tags": []
   },
   "outputs": [],
   "source": [
    "from fairness_multiverse.universe import UniverseAnalysis\n",
    "\n",
    "universe_analysis = UniverseAnalysis(\n",
    "    run_no = run_no,\n",
    "    universe_id = universe_id,\n",
    "    universe = universe,\n",
    "    output_dir=output_dir,\n",
    ")"
   ]
  },
  {
   "cell_type": "code",
   "execution_count": 8,
   "id": "2a6381cf",
   "metadata": {
    "execution": {
     "iopub.execute_input": "2025-08-19T19:02:43.354541Z",
     "iopub.status.busy": "2025-08-19T19:02:43.353595Z",
     "iopub.status.idle": "2025-08-19T19:02:43.366863Z",
     "shell.execute_reply": "2025-08-19T19:02:43.365421Z"
    },
    "papermill": {
     "duration": 0.035761,
     "end_time": "2025-08-19T19:02:43.368967",
     "exception": false,
     "start_time": "2025-08-19T19:02:43.333206",
     "status": "completed"
    },
    "tags": []
   },
   "outputs": [
    {
     "name": "stdout",
     "output_type": "stream",
     "text": [
      "Using Seed: 2023\n"
     ]
    }
   ],
   "source": [
    "import numpy as np\n",
    "parsed_seed = int(seed)\n",
    "np.random.seed(parsed_seed)\n",
    "print(f\"Using Seed: {parsed_seed}\")"
   ]
  },
  {
   "cell_type": "markdown",
   "id": "b6e958b4",
   "metadata": {
    "papermill": {
     "duration": 0.009049,
     "end_time": "2025-08-19T19:02:43.391560",
     "exception": false,
     "start_time": "2025-08-19T19:02:43.382511",
     "status": "completed"
    },
    "tags": []
   },
   "source": [
    "# Loading Data"
   ]
  },
  {
   "cell_type": "code",
   "execution_count": 9,
   "id": "98701482",
   "metadata": {
    "execution": {
     "iopub.execute_input": "2025-08-19T19:02:43.411042Z",
     "iopub.status.busy": "2025-08-19T19:02:43.410590Z",
     "iopub.status.idle": "2025-08-19T19:02:53.688434Z",
     "shell.execute_reply": "2025-08-19T19:02:53.686792Z"
    },
    "papermill": {
     "duration": 10.290949,
     "end_time": "2025-08-19T19:02:53.691465",
     "exception": false,
     "start_time": "2025-08-19T19:02:43.400516",
     "status": "completed"
    },
    "tags": []
   },
   "outputs": [
    {
     "name": "stdout",
     "output_type": "stream",
     "text": [
      "Loading SIAB data from cache: data/siab_cached.csv.gz\n"
     ]
    },
    {
     "name": "stdout",
     "output_type": "stream",
     "text": [
      "(643690, 164)\n"
     ]
    }
   ],
   "source": [
    "from pathlib import Path\n",
    "import pandas as pd\n",
    "\n",
    "# File paths\n",
    "raw_file = Path(\"data/raw/siab.csv\")\n",
    "cache_file = Path(\"data/siab_cached.csv.gz\")\n",
    "\n",
    "# Ensure cache directory exists\n",
    "cache_file.parent.mkdir(parents=True, exist_ok=True)\n",
    "\n",
    "# Load with simple caching\n",
    "if cache_file.exists():\n",
    "    print(f\"Loading SIAB data from cache: {cache_file}\")\n",
    "    siab = pd.read_csv(cache_file, compression='gzip')\n",
    "else:\n",
    "    print(f\"Cache not found. Reading raw SIAB data: {raw_file}\")\n",
    "    siab = pd.read_csv(raw_file)\n",
    "    siab.to_csv(cache_file, index=False, compression='gzip')\n",
    "    print(f\"Cached SIAB data to: {cache_file}\")\n",
    "\n",
    "print(siab.shape)"
   ]
  },
  {
   "cell_type": "code",
   "execution_count": 10,
   "id": "058d2abb",
   "metadata": {
    "execution": {
     "iopub.execute_input": "2025-08-19T19:02:53.731976Z",
     "iopub.status.busy": "2025-08-19T19:02:53.730552Z",
     "iopub.status.idle": "2025-08-19T19:02:53.897539Z",
     "shell.execute_reply": "2025-08-19T19:02:53.896284Z"
    },
    "papermill": {
     "duration": 0.186398,
     "end_time": "2025-08-19T19:02:53.902560",
     "exception": false,
     "start_time": "2025-08-19T19:02:53.716162",
     "status": "completed"
    },
    "tags": []
   },
   "outputs": [
    {
     "data": {
      "text/html": [
       "<div>\n",
       "<style scoped>\n",
       "    .dataframe tbody tr th:only-of-type {\n",
       "        vertical-align: middle;\n",
       "    }\n",
       "\n",
       "    .dataframe tbody tr th {\n",
       "        vertical-align: top;\n",
       "    }\n",
       "\n",
       "    .dataframe thead th {\n",
       "        text-align: right;\n",
       "    }\n",
       "</style>\n",
       "<table border=\"1\" class=\"dataframe\">\n",
       "  <thead>\n",
       "    <tr style=\"text-align: right;\">\n",
       "      <th></th>\n",
       "      <th>persnr</th>\n",
       "      <th>year</th>\n",
       "      <th>nrEntry</th>\n",
       "      <th>ltue</th>\n",
       "      <th>employed_before</th>\n",
       "      <th>receipt_leh_before</th>\n",
       "      <th>receipt_lhg_before</th>\n",
       "      <th>se_before</th>\n",
       "      <th>ASU_notue_seeking_before</th>\n",
       "      <th>ASU_other_before</th>\n",
       "      <th>...</th>\n",
       "      <th>minijob_tot_dur_byage</th>\n",
       "      <th>ft_tot_dur_byage</th>\n",
       "      <th>befrist_tot_dur_byage</th>\n",
       "      <th>leih_tot_dur_byage</th>\n",
       "      <th>LHG_tot_dur_byage</th>\n",
       "      <th>LEH_tot_dur_byage</th>\n",
       "      <th>almp_tot_dur_byage</th>\n",
       "      <th>almp_aw_tot_dur_byage</th>\n",
       "      <th>se_tot_dur_byage</th>\n",
       "      <th>seeking1_tot_dur_byage</th>\n",
       "    </tr>\n",
       "  </thead>\n",
       "  <tbody>\n",
       "    <tr>\n",
       "      <th>0</th>\n",
       "      <td>7</td>\n",
       "      <td>2015</td>\n",
       "      <td>1</td>\n",
       "      <td>0</td>\n",
       "      <td>1</td>\n",
       "      <td>0</td>\n",
       "      <td>0</td>\n",
       "      <td>0</td>\n",
       "      <td>1</td>\n",
       "      <td>0</td>\n",
       "      <td>...</td>\n",
       "      <td>0.000000</td>\n",
       "      <td>0.000000</td>\n",
       "      <td>15.043478</td>\n",
       "      <td>0.000000</td>\n",
       "      <td>0.000000</td>\n",
       "      <td>0.000000</td>\n",
       "      <td>0.000000</td>\n",
       "      <td>0.000000</td>\n",
       "      <td>0.000000</td>\n",
       "      <td>0.000000</td>\n",
       "    </tr>\n",
       "    <tr>\n",
       "      <th>1</th>\n",
       "      <td>18</td>\n",
       "      <td>2010</td>\n",
       "      <td>1</td>\n",
       "      <td>1</td>\n",
       "      <td>0</td>\n",
       "      <td>0</td>\n",
       "      <td>0</td>\n",
       "      <td>0</td>\n",
       "      <td>0</td>\n",
       "      <td>0</td>\n",
       "      <td>...</td>\n",
       "      <td>0.000000</td>\n",
       "      <td>0.000000</td>\n",
       "      <td>0.000000</td>\n",
       "      <td>0.000000</td>\n",
       "      <td>0.000000</td>\n",
       "      <td>0.000000</td>\n",
       "      <td>0.000000</td>\n",
       "      <td>0.000000</td>\n",
       "      <td>0.000000</td>\n",
       "      <td>0.000000</td>\n",
       "    </tr>\n",
       "    <tr>\n",
       "      <th>2</th>\n",
       "      <td>18</td>\n",
       "      <td>2011</td>\n",
       "      <td>2</td>\n",
       "      <td>0</td>\n",
       "      <td>1</td>\n",
       "      <td>0</td>\n",
       "      <td>1</td>\n",
       "      <td>0</td>\n",
       "      <td>1</td>\n",
       "      <td>0</td>\n",
       "      <td>...</td>\n",
       "      <td>2.714286</td>\n",
       "      <td>2.714286</td>\n",
       "      <td>0.000000</td>\n",
       "      <td>0.000000</td>\n",
       "      <td>10.775510</td>\n",
       "      <td>0.000000</td>\n",
       "      <td>8.367347</td>\n",
       "      <td>0.000000</td>\n",
       "      <td>0.000000</td>\n",
       "      <td>9.836735</td>\n",
       "    </tr>\n",
       "    <tr>\n",
       "      <th>3</th>\n",
       "      <td>18</td>\n",
       "      <td>2012</td>\n",
       "      <td>3</td>\n",
       "      <td>0</td>\n",
       "      <td>1</td>\n",
       "      <td>0</td>\n",
       "      <td>1</td>\n",
       "      <td>0</td>\n",
       "      <td>1</td>\n",
       "      <td>0</td>\n",
       "      <td>...</td>\n",
       "      <td>4.200000</td>\n",
       "      <td>4.200000</td>\n",
       "      <td>0.000000</td>\n",
       "      <td>0.000000</td>\n",
       "      <td>12.100000</td>\n",
       "      <td>0.000000</td>\n",
       "      <td>9.400000</td>\n",
       "      <td>0.000000</td>\n",
       "      <td>0.000000</td>\n",
       "      <td>9.960000</td>\n",
       "    </tr>\n",
       "    <tr>\n",
       "      <th>4</th>\n",
       "      <td>18</td>\n",
       "      <td>2012</td>\n",
       "      <td>4</td>\n",
       "      <td>0</td>\n",
       "      <td>1</td>\n",
       "      <td>0</td>\n",
       "      <td>1</td>\n",
       "      <td>0</td>\n",
       "      <td>1</td>\n",
       "      <td>0</td>\n",
       "      <td>...</td>\n",
       "      <td>5.460000</td>\n",
       "      <td>5.460000</td>\n",
       "      <td>0.000000</td>\n",
       "      <td>0.000000</td>\n",
       "      <td>13.360000</td>\n",
       "      <td>0.000000</td>\n",
       "      <td>10.320000</td>\n",
       "      <td>0.000000</td>\n",
       "      <td>0.000000</td>\n",
       "      <td>10.280000</td>\n",
       "    </tr>\n",
       "    <tr>\n",
       "      <th>...</th>\n",
       "      <td>...</td>\n",
       "      <td>...</td>\n",
       "      <td>...</td>\n",
       "      <td>...</td>\n",
       "      <td>...</td>\n",
       "      <td>...</td>\n",
       "      <td>...</td>\n",
       "      <td>...</td>\n",
       "      <td>...</td>\n",
       "      <td>...</td>\n",
       "      <td>...</td>\n",
       "      <td>...</td>\n",
       "      <td>...</td>\n",
       "      <td>...</td>\n",
       "      <td>...</td>\n",
       "      <td>...</td>\n",
       "      <td>...</td>\n",
       "      <td>...</td>\n",
       "      <td>...</td>\n",
       "      <td>...</td>\n",
       "      <td>...</td>\n",
       "    </tr>\n",
       "    <tr>\n",
       "      <th>643685</th>\n",
       "      <td>1827860</td>\n",
       "      <td>2013</td>\n",
       "      <td>1</td>\n",
       "      <td>0</td>\n",
       "      <td>0</td>\n",
       "      <td>0</td>\n",
       "      <td>1</td>\n",
       "      <td>0</td>\n",
       "      <td>0</td>\n",
       "      <td>1</td>\n",
       "      <td>...</td>\n",
       "      <td>0.000000</td>\n",
       "      <td>0.000000</td>\n",
       "      <td>0.000000</td>\n",
       "      <td>0.000000</td>\n",
       "      <td>0.612903</td>\n",
       "      <td>0.000000</td>\n",
       "      <td>0.000000</td>\n",
       "      <td>0.000000</td>\n",
       "      <td>0.000000</td>\n",
       "      <td>0.000000</td>\n",
       "    </tr>\n",
       "    <tr>\n",
       "      <th>643686</th>\n",
       "      <td>1827860</td>\n",
       "      <td>2015</td>\n",
       "      <td>2</td>\n",
       "      <td>1</td>\n",
       "      <td>0</td>\n",
       "      <td>0</td>\n",
       "      <td>1</td>\n",
       "      <td>0</td>\n",
       "      <td>1</td>\n",
       "      <td>0</td>\n",
       "      <td>...</td>\n",
       "      <td>0.000000</td>\n",
       "      <td>0.000000</td>\n",
       "      <td>0.212121</td>\n",
       "      <td>0.212121</td>\n",
       "      <td>17.363636</td>\n",
       "      <td>0.000000</td>\n",
       "      <td>8.909091</td>\n",
       "      <td>0.000000</td>\n",
       "      <td>0.000000</td>\n",
       "      <td>7.121212</td>\n",
       "    </tr>\n",
       "    <tr>\n",
       "      <th>643687</th>\n",
       "      <td>1827860</td>\n",
       "      <td>2016</td>\n",
       "      <td>3</td>\n",
       "      <td>1</td>\n",
       "      <td>0</td>\n",
       "      <td>0</td>\n",
       "      <td>1</td>\n",
       "      <td>1</td>\n",
       "      <td>0</td>\n",
       "      <td>1</td>\n",
       "      <td>...</td>\n",
       "      <td>0.000000</td>\n",
       "      <td>0.000000</td>\n",
       "      <td>0.294118</td>\n",
       "      <td>0.205882</td>\n",
       "      <td>34.705882</td>\n",
       "      <td>0.000000</td>\n",
       "      <td>10.352941</td>\n",
       "      <td>1.705882</td>\n",
       "      <td>1.705882</td>\n",
       "      <td>23.911765</td>\n",
       "    </tr>\n",
       "    <tr>\n",
       "      <th>643688</th>\n",
       "      <td>1827869</td>\n",
       "      <td>2013</td>\n",
       "      <td>1</td>\n",
       "      <td>1</td>\n",
       "      <td>1</td>\n",
       "      <td>0</td>\n",
       "      <td>0</td>\n",
       "      <td>0</td>\n",
       "      <td>1</td>\n",
       "      <td>0</td>\n",
       "      <td>...</td>\n",
       "      <td>0.000000</td>\n",
       "      <td>0.000000</td>\n",
       "      <td>0.000000</td>\n",
       "      <td>0.000000</td>\n",
       "      <td>0.000000</td>\n",
       "      <td>0.525424</td>\n",
       "      <td>0.000000</td>\n",
       "      <td>0.000000</td>\n",
       "      <td>0.000000</td>\n",
       "      <td>0.000000</td>\n",
       "    </tr>\n",
       "    <tr>\n",
       "      <th>643689</th>\n",
       "      <td>1827869</td>\n",
       "      <td>2014</td>\n",
       "      <td>2</td>\n",
       "      <td>0</td>\n",
       "      <td>0</td>\n",
       "      <td>1</td>\n",
       "      <td>0</td>\n",
       "      <td>0</td>\n",
       "      <td>1</td>\n",
       "      <td>0</td>\n",
       "      <td>...</td>\n",
       "      <td>0.000000</td>\n",
       "      <td>0.666667</td>\n",
       "      <td>0.666667</td>\n",
       "      <td>0.000000</td>\n",
       "      <td>0.000000</td>\n",
       "      <td>8.950000</td>\n",
       "      <td>1.033333</td>\n",
       "      <td>0.083333</td>\n",
       "      <td>0.083333</td>\n",
       "      <td>8.133333</td>\n",
       "    </tr>\n",
       "  </tbody>\n",
       "</table>\n",
       "<p>643690 rows × 164 columns</p>\n",
       "</div>"
      ],
      "text/plain": [
       "         persnr  year  nrEntry  ltue  employed_before  receipt_leh_before  \\\n",
       "0             7  2015        1     0                1                   0   \n",
       "1            18  2010        1     1                0                   0   \n",
       "2            18  2011        2     0                1                   0   \n",
       "3            18  2012        3     0                1                   0   \n",
       "4            18  2012        4     0                1                   0   \n",
       "...         ...   ...      ...   ...              ...                 ...   \n",
       "643685  1827860  2013        1     0                0                   0   \n",
       "643686  1827860  2015        2     1                0                   0   \n",
       "643687  1827860  2016        3     1                0                   0   \n",
       "643688  1827869  2013        1     1                1                   0   \n",
       "643689  1827869  2014        2     0                0                   1   \n",
       "\n",
       "        receipt_lhg_before  se_before  ASU_notue_seeking_before  \\\n",
       "0                        0          0                         1   \n",
       "1                        0          0                         0   \n",
       "2                        1          0                         1   \n",
       "3                        1          0                         1   \n",
       "4                        1          0                         1   \n",
       "...                    ...        ...                       ...   \n",
       "643685                   1          0                         0   \n",
       "643686                   1          0                         1   \n",
       "643687                   1          1                         0   \n",
       "643688                   0          0                         1   \n",
       "643689                   0          0                         1   \n",
       "\n",
       "        ASU_other_before  ...  minijob_tot_dur_byage  ft_tot_dur_byage  \\\n",
       "0                      0  ...               0.000000          0.000000   \n",
       "1                      0  ...               0.000000          0.000000   \n",
       "2                      0  ...               2.714286          2.714286   \n",
       "3                      0  ...               4.200000          4.200000   \n",
       "4                      0  ...               5.460000          5.460000   \n",
       "...                  ...  ...                    ...               ...   \n",
       "643685                 1  ...               0.000000          0.000000   \n",
       "643686                 0  ...               0.000000          0.000000   \n",
       "643687                 1  ...               0.000000          0.000000   \n",
       "643688                 0  ...               0.000000          0.000000   \n",
       "643689                 0  ...               0.000000          0.666667   \n",
       "\n",
       "        befrist_tot_dur_byage  leih_tot_dur_byage  LHG_tot_dur_byage  \\\n",
       "0                   15.043478            0.000000           0.000000   \n",
       "1                    0.000000            0.000000           0.000000   \n",
       "2                    0.000000            0.000000          10.775510   \n",
       "3                    0.000000            0.000000          12.100000   \n",
       "4                    0.000000            0.000000          13.360000   \n",
       "...                       ...                 ...                ...   \n",
       "643685               0.000000            0.000000           0.612903   \n",
       "643686               0.212121            0.212121          17.363636   \n",
       "643687               0.294118            0.205882          34.705882   \n",
       "643688               0.000000            0.000000           0.000000   \n",
       "643689               0.666667            0.000000           0.000000   \n",
       "\n",
       "        LEH_tot_dur_byage  almp_tot_dur_byage  almp_aw_tot_dur_byage  \\\n",
       "0                0.000000            0.000000               0.000000   \n",
       "1                0.000000            0.000000               0.000000   \n",
       "2                0.000000            8.367347               0.000000   \n",
       "3                0.000000            9.400000               0.000000   \n",
       "4                0.000000           10.320000               0.000000   \n",
       "...                   ...                 ...                    ...   \n",
       "643685           0.000000            0.000000               0.000000   \n",
       "643686           0.000000            8.909091               0.000000   \n",
       "643687           0.000000           10.352941               1.705882   \n",
       "643688           0.525424            0.000000               0.000000   \n",
       "643689           8.950000            1.033333               0.083333   \n",
       "\n",
       "        se_tot_dur_byage  seeking1_tot_dur_byage  \n",
       "0               0.000000                0.000000  \n",
       "1               0.000000                0.000000  \n",
       "2               0.000000                9.836735  \n",
       "3               0.000000                9.960000  \n",
       "4               0.000000               10.280000  \n",
       "...                  ...                     ...  \n",
       "643685          0.000000                0.000000  \n",
       "643686          0.000000                7.121212  \n",
       "643687          1.705882               23.911765  \n",
       "643688          0.000000                0.000000  \n",
       "643689          0.083333                8.133333  \n",
       "\n",
       "[643690 rows x 164 columns]"
      ]
     },
     "execution_count": 10,
     "metadata": {},
     "output_type": "execute_result"
    }
   ],
   "source": [
    "siab"
   ]
  },
  {
   "cell_type": "markdown",
   "id": "1f87e805",
   "metadata": {
    "papermill": {
     "duration": 0.011231,
     "end_time": "2025-08-19T19:02:53.934581",
     "exception": false,
     "start_time": "2025-08-19T19:02:53.923350",
     "status": "completed"
    },
    "tags": []
   },
   "source": [
    "# Splitting Data and Setting Training Data Size"
   ]
  },
  {
   "cell_type": "code",
   "execution_count": 11,
   "id": "910ae358",
   "metadata": {
    "execution": {
     "iopub.execute_input": "2025-08-19T19:02:53.958032Z",
     "iopub.status.busy": "2025-08-19T19:02:53.957030Z",
     "iopub.status.idle": "2025-08-19T19:02:54.621088Z",
     "shell.execute_reply": "2025-08-19T19:02:54.620230Z"
    },
    "papermill": {
     "duration": 0.677742,
     "end_time": "2025-08-19T19:02:54.622601",
     "exception": false,
     "start_time": "2025-08-19T19:02:53.944859",
     "status": "completed"
    },
    "tags": []
   },
   "outputs": [],
   "source": [
    "from fairness_multiverse.universe import sample_by_year_size\n",
    "\n",
    "siab_train = sample_by_year_size(siab,\n",
    "                               training_year=universe[\"training_year\"],\n",
    "                               training_size=universe[\"training_size\"])"
   ]
  },
  {
   "cell_type": "code",
   "execution_count": 12,
   "id": "919c8ff5",
   "metadata": {
    "execution": {
     "iopub.execute_input": "2025-08-19T19:02:54.646369Z",
     "iopub.status.busy": "2025-08-19T19:02:54.645768Z",
     "iopub.status.idle": "2025-08-19T19:02:54.661414Z",
     "shell.execute_reply": "2025-08-19T19:02:54.659846Z"
    },
    "papermill": {
     "duration": 0.028817,
     "end_time": "2025-08-19T19:02:54.663072",
     "exception": false,
     "start_time": "2025-08-19T19:02:54.634255",
     "status": "completed"
    },
    "tags": []
   },
   "outputs": [
    {
     "data": {
      "text/plain": [
       "(1000, 164)"
      ]
     },
     "execution_count": 12,
     "metadata": {},
     "output_type": "execute_result"
    }
   ],
   "source": [
    "siab_train.shape"
   ]
  },
  {
   "cell_type": "code",
   "execution_count": 13,
   "id": "feb13bf4",
   "metadata": {
    "execution": {
     "iopub.execute_input": "2025-08-19T19:02:54.689341Z",
     "iopub.status.busy": "2025-08-19T19:02:54.688985Z",
     "iopub.status.idle": "2025-08-19T19:02:54.697630Z",
     "shell.execute_reply": "2025-08-19T19:02:54.696808Z"
    },
    "papermill": {
     "duration": 0.021812,
     "end_time": "2025-08-19T19:02:54.698864",
     "exception": false,
     "start_time": "2025-08-19T19:02:54.677052",
     "status": "completed"
    },
    "tags": []
   },
   "outputs": [
    {
     "data": {
      "text/plain": [
       "year\n",
       "2012    334\n",
       "2013    333\n",
       "2014    333\n",
       "dtype: int64"
      ]
     },
     "metadata": {},
     "output_type": "display_data"
    }
   ],
   "source": [
    "display(siab_train.groupby(\"year\").size())"
   ]
  },
  {
   "cell_type": "code",
   "execution_count": 14,
   "id": "0997782f",
   "metadata": {
    "execution": {
     "iopub.execute_input": "2025-08-19T19:02:54.722102Z",
     "iopub.status.busy": "2025-08-19T19:02:54.721293Z",
     "iopub.status.idle": "2025-08-19T19:02:54.990694Z",
     "shell.execute_reply": "2025-08-19T19:02:54.989887Z"
    },
    "papermill": {
     "duration": 0.283048,
     "end_time": "2025-08-19T19:02:54.992266",
     "exception": false,
     "start_time": "2025-08-19T19:02:54.709218",
     "status": "completed"
    },
    "tags": []
   },
   "outputs": [],
   "source": [
    "#siab_train = siab_s[siab_s.year < 2015]\n",
    "siab_calib = siab[siab.year == 2015]\n",
    "siab_test = siab[siab.year == 2016]"
   ]
  },
  {
   "cell_type": "code",
   "execution_count": 15,
   "id": "2c1e4012",
   "metadata": {
    "execution": {
     "iopub.execute_input": "2025-08-19T19:02:55.015265Z",
     "iopub.status.busy": "2025-08-19T19:02:55.014514Z",
     "iopub.status.idle": "2025-08-19T19:02:55.020002Z",
     "shell.execute_reply": "2025-08-19T19:02:55.018905Z"
    },
    "papermill": {
     "duration": 0.019753,
     "end_time": "2025-08-19T19:02:55.022562",
     "exception": false,
     "start_time": "2025-08-19T19:02:55.002809",
     "status": "completed"
    },
    "tags": []
   },
   "outputs": [],
   "source": [
    "#siab_calib.shape"
   ]
  },
  {
   "cell_type": "code",
   "execution_count": 16,
   "id": "f66b54ca",
   "metadata": {
    "execution": {
     "iopub.execute_input": "2025-08-19T19:02:55.063402Z",
     "iopub.status.busy": "2025-08-19T19:02:55.062397Z",
     "iopub.status.idle": "2025-08-19T19:02:55.070975Z",
     "shell.execute_reply": "2025-08-19T19:02:55.069179Z"
    },
    "papermill": {
     "duration": 0.023268,
     "end_time": "2025-08-19T19:02:55.072949",
     "exception": false,
     "start_time": "2025-08-19T19:02:55.049681",
     "status": "completed"
    },
    "tags": []
   },
   "outputs": [],
   "source": [
    "#siab_test.shape"
   ]
  },
  {
   "cell_type": "code",
   "execution_count": 17,
   "id": "27e4384d",
   "metadata": {
    "execution": {
     "iopub.execute_input": "2025-08-19T19:02:55.098806Z",
     "iopub.status.busy": "2025-08-19T19:02:55.097534Z",
     "iopub.status.idle": "2025-08-19T19:02:55.109005Z",
     "shell.execute_reply": "2025-08-19T19:02:55.107721Z"
    },
    "papermill": {
     "duration": 0.026082,
     "end_time": "2025-08-19T19:02:55.110730",
     "exception": false,
     "start_time": "2025-08-19T19:02:55.084648",
     "status": "completed"
    },
    "tags": []
   },
   "outputs": [],
   "source": [
    "X_train = siab_train.iloc[:,4:164]\n",
    "y_train = siab_train.iloc[:, [3]]"
   ]
  },
  {
   "cell_type": "code",
   "execution_count": 18,
   "id": "08ee8389",
   "metadata": {
    "execution": {
     "iopub.execute_input": "2025-08-19T19:02:55.138414Z",
     "iopub.status.busy": "2025-08-19T19:02:55.137322Z",
     "iopub.status.idle": "2025-08-19T19:02:55.210064Z",
     "shell.execute_reply": "2025-08-19T19:02:55.209285Z"
    },
    "papermill": {
     "duration": 0.0884,
     "end_time": "2025-08-19T19:02:55.212720",
     "exception": false,
     "start_time": "2025-08-19T19:02:55.124320",
     "status": "completed"
    },
    "tags": []
   },
   "outputs": [],
   "source": [
    "X_calib = siab_calib.iloc[:,4:164]\n",
    "y_calib = siab_calib.iloc[:, [3]]"
   ]
  },
  {
   "cell_type": "code",
   "execution_count": 19,
   "id": "b7ff42e0",
   "metadata": {
    "execution": {
     "iopub.execute_input": "2025-08-19T19:02:55.256800Z",
     "iopub.status.busy": "2025-08-19T19:02:55.255583Z",
     "iopub.status.idle": "2025-08-19T19:02:55.319232Z",
     "shell.execute_reply": "2025-08-19T19:02:55.318412Z"
    },
    "papermill": {
     "duration": 0.080008,
     "end_time": "2025-08-19T19:02:55.322063",
     "exception": false,
     "start_time": "2025-08-19T19:02:55.242055",
     "status": "completed"
    },
    "tags": []
   },
   "outputs": [],
   "source": [
    "X_test = siab_test.iloc[:,4:164]\n",
    "y_true = siab_test.iloc[:, [3]]"
   ]
  },
  {
   "cell_type": "code",
   "execution_count": 20,
   "id": "0275101e",
   "metadata": {
    "execution": {
     "iopub.execute_input": "2025-08-19T19:02:55.359527Z",
     "iopub.status.busy": "2025-08-19T19:02:55.358328Z",
     "iopub.status.idle": "2025-08-19T19:02:55.477370Z",
     "shell.execute_reply": "2025-08-19T19:02:55.476615Z"
    },
    "papermill": {
     "duration": 0.135325,
     "end_time": "2025-08-19T19:02:55.480050",
     "exception": false,
     "start_time": "2025-08-19T19:02:55.344725",
     "status": "completed"
    },
    "tags": []
   },
   "outputs": [],
   "source": [
    "# Auxiliary data needed downstream in the pipeline\n",
    "\n",
    "org_train = X_train.copy()\n",
    "org_test = X_test.copy()\n",
    "org_calib = X_calib.copy()"
   ]
  },
  {
   "cell_type": "markdown",
   "id": "b461e618",
   "metadata": {
    "papermill": {
     "duration": 0.012476,
     "end_time": "2025-08-19T19:02:55.516391",
     "exception": false,
     "start_time": "2025-08-19T19:02:55.503915",
     "status": "completed"
    },
    "tags": []
   },
   "source": [
    "# Preprocessing Data"
   ]
  },
  {
   "cell_type": "code",
   "execution_count": 21,
   "id": "78e74c4b",
   "metadata": {
    "execution": {
     "iopub.execute_input": "2025-08-19T19:02:55.540674Z",
     "iopub.status.busy": "2025-08-19T19:02:55.539300Z",
     "iopub.status.idle": "2025-08-19T19:02:55.550017Z",
     "shell.execute_reply": "2025-08-19T19:02:55.548294Z"
    },
    "papermill": {
     "duration": 0.024662,
     "end_time": "2025-08-19T19:02:55.551734",
     "exception": false,
     "start_time": "2025-08-19T19:02:55.527072",
     "status": "completed"
    },
    "tags": []
   },
   "outputs": [],
   "source": [
    "# EXCLUDE PROTECTED FEATURES\n",
    "# --------------------------\n",
    "\n",
    "excluded_features = universe[\"exclude_features\"].split(\"-\")\n",
    "excluded_features_dictionary = {\n",
    "    \"nationality\": [\"maxdeutsch1\", \"maxdeutsch.Missing.\"],\n",
    "    \"sex\": [\"frau1\"],\n",
    "    \"age\": [\"age\"],\n",
    "}"
   ]
  },
  {
   "cell_type": "code",
   "execution_count": 22,
   "id": "f8e63555",
   "metadata": {
    "execution": {
     "iopub.execute_input": "2025-08-19T19:02:55.578731Z",
     "iopub.status.busy": "2025-08-19T19:02:55.577705Z",
     "iopub.status.idle": "2025-08-19T19:02:55.587134Z",
     "shell.execute_reply": "2025-08-19T19:02:55.585478Z"
    },
    "papermill": {
     "duration": 0.023502,
     "end_time": "2025-08-19T19:02:55.588836",
     "exception": false,
     "start_time": "2025-08-19T19:02:55.565334",
     "status": "completed"
    },
    "tags": []
   },
   "outputs": [],
   "source": [
    "excluded_features_columns = [\n",
    "    excluded_features_dictionary[f] for f in excluded_features if len(f) > 0 and f != \"none\"\n",
    "]"
   ]
  },
  {
   "cell_type": "code",
   "execution_count": 23,
   "id": "da781f7c",
   "metadata": {
    "execution": {
     "iopub.execute_input": "2025-08-19T19:02:55.615727Z",
     "iopub.status.busy": "2025-08-19T19:02:55.614347Z",
     "iopub.status.idle": "2025-08-19T19:02:55.623819Z",
     "shell.execute_reply": "2025-08-19T19:02:55.622241Z"
    },
    "papermill": {
     "duration": 0.023621,
     "end_time": "2025-08-19T19:02:55.625665",
     "exception": false,
     "start_time": "2025-08-19T19:02:55.602044",
     "status": "completed"
    },
    "tags": []
   },
   "outputs": [],
   "source": [
    "from fairness_multiverse.universe import flatten_once\n",
    "\n",
    "excluded_features_columns = flatten_once(excluded_features_columns)"
   ]
  },
  {
   "cell_type": "code",
   "execution_count": 24,
   "id": "37fef0f0",
   "metadata": {
    "execution": {
     "iopub.execute_input": "2025-08-19T19:02:55.654906Z",
     "iopub.status.busy": "2025-08-19T19:02:55.653731Z",
     "iopub.status.idle": "2025-08-19T19:02:55.668604Z",
     "shell.execute_reply": "2025-08-19T19:02:55.667350Z"
    },
    "papermill": {
     "duration": 0.030234,
     "end_time": "2025-08-19T19:02:55.670826",
     "exception": false,
     "start_time": "2025-08-19T19:02:55.640592",
     "status": "completed"
    },
    "tags": []
   },
   "outputs": [
    {
     "name": "stdout",
     "output_type": "stream",
     "text": [
      "Dropping features: ['age']\n"
     ]
    }
   ],
   "source": [
    "if len(excluded_features_columns) > 0:\n",
    "    print(f\"Dropping features: {excluded_features_columns}\")\n",
    "    X_train.drop(excluded_features_columns, axis=1, inplace=True)"
   ]
  },
  {
   "cell_type": "code",
   "execution_count": 25,
   "id": "d029e3e9",
   "metadata": {
    "execution": {
     "iopub.execute_input": "2025-08-19T19:02:55.715719Z",
     "iopub.status.busy": "2025-08-19T19:02:55.715123Z",
     "iopub.status.idle": "2025-08-19T19:02:55.783217Z",
     "shell.execute_reply": "2025-08-19T19:02:55.782244Z"
    },
    "papermill": {
     "duration": 0.0829,
     "end_time": "2025-08-19T19:02:55.784798",
     "exception": false,
     "start_time": "2025-08-19T19:02:55.701898",
     "status": "completed"
    },
    "tags": []
   },
   "outputs": [
    {
     "name": "stdout",
     "output_type": "stream",
     "text": [
      "Dropping features: ['age']\n"
     ]
    }
   ],
   "source": [
    "if len(excluded_features_columns) > 0:\n",
    "    print(f\"Dropping features: {excluded_features_columns}\")\n",
    "    X_test.drop(excluded_features_columns, axis=1, inplace=True)"
   ]
  },
  {
   "cell_type": "code",
   "execution_count": 26,
   "id": "01d571f0",
   "metadata": {
    "execution": {
     "iopub.execute_input": "2025-08-19T19:02:55.813842Z",
     "iopub.status.busy": "2025-08-19T19:02:55.813132Z",
     "iopub.status.idle": "2025-08-19T19:02:55.903021Z",
     "shell.execute_reply": "2025-08-19T19:02:55.901943Z"
    },
    "papermill": {
     "duration": 0.107889,
     "end_time": "2025-08-19T19:02:55.907195",
     "exception": false,
     "start_time": "2025-08-19T19:02:55.799306",
     "status": "completed"
    },
    "tags": []
   },
   "outputs": [
    {
     "name": "stdout",
     "output_type": "stream",
     "text": [
      "Dropping features: ['age']\n"
     ]
    }
   ],
   "source": [
    "if len(excluded_features_columns) > 0:\n",
    "    print(f\"Dropping features: {excluded_features_columns}\")\n",
    "    X_calib.drop(excluded_features_columns, axis=1, inplace=True)"
   ]
  },
  {
   "cell_type": "code",
   "execution_count": 27,
   "id": "3037356e",
   "metadata": {
    "execution": {
     "iopub.execute_input": "2025-08-19T19:02:55.952954Z",
     "iopub.status.busy": "2025-08-19T19:02:55.951614Z",
     "iopub.status.idle": "2025-08-19T19:02:55.960845Z",
     "shell.execute_reply": "2025-08-19T19:02:55.959532Z"
    },
    "papermill": {
     "duration": 0.027279,
     "end_time": "2025-08-19T19:02:55.962743",
     "exception": false,
     "start_time": "2025-08-19T19:02:55.935464",
     "status": "completed"
    },
    "tags": []
   },
   "outputs": [],
   "source": [
    "# EXCLUDE CERTAIN SUBGROUPS\n",
    "# -------------------------\n",
    "\n",
    "mode = universe.get(\"exclude_subgroups\", \"keep-all\") # Defaults to \"keep-all\" if the key is missing."
   ]
  },
  {
   "cell_type": "code",
   "execution_count": 28,
   "id": "9d1e63fd",
   "metadata": {
    "execution": {
     "iopub.execute_input": "2025-08-19T19:02:55.990911Z",
     "iopub.status.busy": "2025-08-19T19:02:55.989755Z",
     "iopub.status.idle": "2025-08-19T19:02:56.001415Z",
     "shell.execute_reply": "2025-08-19T19:02:55.999522Z"
    },
    "papermill": {
     "duration": 0.029883,
     "end_time": "2025-08-19T19:02:56.006330",
     "exception": false,
     "start_time": "2025-08-19T19:02:55.976447",
     "status": "completed"
    },
    "tags": []
   },
   "outputs": [],
   "source": [
    "if mode == \"keep-all\":\n",
    "    keep_mask = pd.Series(True, index=org_train.index)\n",
    "\n",
    "elif mode == \"drop-non-german\":\n",
    "    keep_mask = (org_train[\"maxdeutsch1\"] == 1) & (org_train[\"maxdeutsch.Missing.\"] == 0)\n",
    "\n",
    "else:\n",
    "    raise ValueError(f\"Unsupported mode for exclude_subgroups: {mode}\")"
   ]
  },
  {
   "cell_type": "code",
   "execution_count": 29,
   "id": "d3b65474",
   "metadata": {
    "execution": {
     "iopub.execute_input": "2025-08-19T19:02:56.042881Z",
     "iopub.status.busy": "2025-08-19T19:02:56.042289Z",
     "iopub.status.idle": "2025-08-19T19:02:56.048449Z",
     "shell.execute_reply": "2025-08-19T19:02:56.047633Z"
    },
    "papermill": {
     "duration": 0.021525,
     "end_time": "2025-08-19T19:02:56.049842",
     "exception": false,
     "start_time": "2025-08-19T19:02:56.028317",
     "status": "completed"
    },
    "tags": []
   },
   "outputs": [],
   "source": [
    "n_drop = (~keep_mask).sum() # Calculates how many rows are set to be dropped\n",
    "if n_drop > 0:\n",
    "    pct = n_drop / len(keep_mask) * 100\n",
    "    print(f\"Dropping {n_drop} rows ({pct:.2f}%) where mode='{mode}'\")"
   ]
  },
  {
   "cell_type": "code",
   "execution_count": 30,
   "id": "f44389b3",
   "metadata": {
    "execution": {
     "iopub.execute_input": "2025-08-19T19:02:56.076418Z",
     "iopub.status.busy": "2025-08-19T19:02:56.075157Z",
     "iopub.status.idle": "2025-08-19T19:02:56.086177Z",
     "shell.execute_reply": "2025-08-19T19:02:56.084761Z"
    },
    "papermill": {
     "duration": 0.025966,
     "end_time": "2025-08-19T19:02:56.088029",
     "exception": false,
     "start_time": "2025-08-19T19:02:56.062063",
     "status": "completed"
    },
    "tags": []
   },
   "outputs": [],
   "source": [
    "X_train = X_train[keep_mask]"
   ]
  },
  {
   "cell_type": "code",
   "execution_count": 31,
   "id": "ceca8c2a",
   "metadata": {
    "execution": {
     "iopub.execute_input": "2025-08-19T19:02:56.121140Z",
     "iopub.status.busy": "2025-08-19T19:02:56.119992Z",
     "iopub.status.idle": "2025-08-19T19:02:56.154802Z",
     "shell.execute_reply": "2025-08-19T19:02:56.152422Z"
    },
    "papermill": {
     "duration": 0.052348,
     "end_time": "2025-08-19T19:02:56.157744",
     "exception": false,
     "start_time": "2025-08-19T19:02:56.105396",
     "status": "completed"
    },
    "tags": []
   },
   "outputs": [],
   "source": [
    "y_train = y_train[keep_mask]"
   ]
  },
  {
   "cell_type": "markdown",
   "id": "04d31e2f",
   "metadata": {
    "papermill": {
     "duration": 0.013524,
     "end_time": "2025-08-19T19:02:56.197443",
     "exception": false,
     "start_time": "2025-08-19T19:02:56.183919",
     "status": "completed"
    },
    "tags": []
   },
   "source": [
    "# Model Training"
   ]
  },
  {
   "cell_type": "code",
   "execution_count": 32,
   "id": "db991733",
   "metadata": {
    "execution": {
     "iopub.execute_input": "2025-08-19T19:02:56.224140Z",
     "iopub.status.busy": "2025-08-19T19:02:56.222823Z",
     "iopub.status.idle": "2025-08-19T19:02:56.334165Z",
     "shell.execute_reply": "2025-08-19T19:02:56.333446Z"
    },
    "papermill": {
     "duration": 0.127801,
     "end_time": "2025-08-19T19:02:56.337029",
     "exception": false,
     "start_time": "2025-08-19T19:02:56.209228",
     "status": "completed"
    },
    "tags": []
   },
   "outputs": [],
   "source": [
    "from sklearn.linear_model import LogisticRegression\n",
    "from sklearn.ensemble import GradientBoostingClassifier, RandomForestClassifier\n",
    "\n",
    "if (universe[\"model\"] == \"logreg\"):\n",
    "    model = LogisticRegression() #penalty=\"none\", solver=\"newton-cg\", max_iter=1)\n",
    "elif (universe[\"model\"] == \"penalized_logreg\"):\n",
    "    model = LogisticRegression(penalty=\"l2\", C=0.1) #, solver=\"newton-cg\", max_iter=1)\n",
    "elif (universe[\"model\"] == \"rf\"):\n",
    "    model = RandomForestClassifier() # n_estimators=100, n_jobs=-1\n",
    "elif (universe[\"model\"] == \"gbm\"):\n",
    "    model = GradientBoostingClassifier()\n",
    "elif (universe[\"model\"] == \"elasticnet\"):\n",
    "    model = LogisticRegression(penalty = 'elasticnet', solver = 'saga', l1_ratio = 0.5) # max_iter=5000\n",
    "else:\n",
    "    raise \"Unsupported universe.model\""
   ]
  },
  {
   "cell_type": "code",
   "execution_count": 33,
   "id": "a4b5cd25",
   "metadata": {
    "execution": {
     "iopub.execute_input": "2025-08-19T19:02:56.378912Z",
     "iopub.status.busy": "2025-08-19T19:02:56.377841Z",
     "iopub.status.idle": "2025-08-19T19:02:56.388403Z",
     "shell.execute_reply": "2025-08-19T19:02:56.386706Z"
    },
    "papermill": {
     "duration": 0.02766,
     "end_time": "2025-08-19T19:02:56.390303",
     "exception": false,
     "start_time": "2025-08-19T19:02:56.362643",
     "status": "completed"
    },
    "tags": []
   },
   "outputs": [],
   "source": [
    "from sklearn.pipeline import Pipeline\n",
    "from sklearn.preprocessing import StandardScaler\n",
    "\n",
    "model = Pipeline([\n",
    "    #(\"continuous_processor\", continuous_processor),\n",
    "    #(\"categorical_preprocessor\", categorical_preprocessor),\n",
    "    (\"scale\", StandardScaler() if universe[\"scale\"] == \"scale\" else None), \n",
    "    (\"model\", model),\n",
    "])"
   ]
  },
  {
   "cell_type": "code",
   "execution_count": 34,
   "id": "283a904d",
   "metadata": {
    "execution": {
     "iopub.execute_input": "2025-08-19T19:02:56.416255Z",
     "iopub.status.busy": "2025-08-19T19:02:56.414954Z",
     "iopub.status.idle": "2025-08-19T19:02:56.772495Z",
     "shell.execute_reply": "2025-08-19T19:02:56.771149Z"
    },
    "papermill": {
     "duration": 0.373498,
     "end_time": "2025-08-19T19:02:56.775424",
     "exception": false,
     "start_time": "2025-08-19T19:02:56.401926",
     "status": "completed"
    },
    "tags": []
   },
   "outputs": [
    {
     "data": {
      "text/html": [
       "<style>#sk-container-id-1 {color: black;background-color: white;}#sk-container-id-1 pre{padding: 0;}#sk-container-id-1 div.sk-toggleable {background-color: white;}#sk-container-id-1 label.sk-toggleable__label {cursor: pointer;display: block;width: 100%;margin-bottom: 0;padding: 0.3em;box-sizing: border-box;text-align: center;}#sk-container-id-1 label.sk-toggleable__label-arrow:before {content: \"▸\";float: left;margin-right: 0.25em;color: #696969;}#sk-container-id-1 label.sk-toggleable__label-arrow:hover:before {color: black;}#sk-container-id-1 div.sk-estimator:hover label.sk-toggleable__label-arrow:before {color: black;}#sk-container-id-1 div.sk-toggleable__content {max-height: 0;max-width: 0;overflow: hidden;text-align: left;background-color: #f0f8ff;}#sk-container-id-1 div.sk-toggleable__content pre {margin: 0.2em;color: black;border-radius: 0.25em;background-color: #f0f8ff;}#sk-container-id-1 input.sk-toggleable__control:checked~div.sk-toggleable__content {max-height: 200px;max-width: 100%;overflow: auto;}#sk-container-id-1 input.sk-toggleable__control:checked~label.sk-toggleable__label-arrow:before {content: \"▾\";}#sk-container-id-1 div.sk-estimator input.sk-toggleable__control:checked~label.sk-toggleable__label {background-color: #d4ebff;}#sk-container-id-1 div.sk-label input.sk-toggleable__control:checked~label.sk-toggleable__label {background-color: #d4ebff;}#sk-container-id-1 input.sk-hidden--visually {border: 0;clip: rect(1px 1px 1px 1px);clip: rect(1px, 1px, 1px, 1px);height: 1px;margin: -1px;overflow: hidden;padding: 0;position: absolute;width: 1px;}#sk-container-id-1 div.sk-estimator {font-family: monospace;background-color: #f0f8ff;border: 1px dotted black;border-radius: 0.25em;box-sizing: border-box;margin-bottom: 0.5em;}#sk-container-id-1 div.sk-estimator:hover {background-color: #d4ebff;}#sk-container-id-1 div.sk-parallel-item::after {content: \"\";width: 100%;border-bottom: 1px solid gray;flex-grow: 1;}#sk-container-id-1 div.sk-label:hover label.sk-toggleable__label {background-color: #d4ebff;}#sk-container-id-1 div.sk-serial::before {content: \"\";position: absolute;border-left: 1px solid gray;box-sizing: border-box;top: 0;bottom: 0;left: 50%;z-index: 0;}#sk-container-id-1 div.sk-serial {display: flex;flex-direction: column;align-items: center;background-color: white;padding-right: 0.2em;padding-left: 0.2em;position: relative;}#sk-container-id-1 div.sk-item {position: relative;z-index: 1;}#sk-container-id-1 div.sk-parallel {display: flex;align-items: stretch;justify-content: center;background-color: white;position: relative;}#sk-container-id-1 div.sk-item::before, #sk-container-id-1 div.sk-parallel-item::before {content: \"\";position: absolute;border-left: 1px solid gray;box-sizing: border-box;top: 0;bottom: 0;left: 50%;z-index: -1;}#sk-container-id-1 div.sk-parallel-item {display: flex;flex-direction: column;z-index: 1;position: relative;background-color: white;}#sk-container-id-1 div.sk-parallel-item:first-child::after {align-self: flex-end;width: 50%;}#sk-container-id-1 div.sk-parallel-item:last-child::after {align-self: flex-start;width: 50%;}#sk-container-id-1 div.sk-parallel-item:only-child::after {width: 0;}#sk-container-id-1 div.sk-dashed-wrapped {border: 1px dashed gray;margin: 0 0.4em 0.5em 0.4em;box-sizing: border-box;padding-bottom: 0.4em;background-color: white;}#sk-container-id-1 div.sk-label label {font-family: monospace;font-weight: bold;display: inline-block;line-height: 1.2em;}#sk-container-id-1 div.sk-label-container {text-align: center;}#sk-container-id-1 div.sk-container {/* jupyter's `normalize.less` sets `[hidden] { display: none; }` but bootstrap.min.css set `[hidden] { display: none !important; }` so we also need the `!important` here to be able to override the default hidden behavior on the sphinx rendered scikit-learn.org. See: https://github.com/scikit-learn/scikit-learn/issues/21755 */display: inline-block !important;position: relative;}#sk-container-id-1 div.sk-text-repr-fallback {display: none;}</style><div id=\"sk-container-id-1\" class=\"sk-top-container\"><div class=\"sk-text-repr-fallback\"><pre>Pipeline(steps=[(&#x27;scale&#x27;, None), (&#x27;model&#x27;, RandomForestClassifier())])</pre><b>In a Jupyter environment, please rerun this cell to show the HTML representation or trust the notebook. <br />On GitHub, the HTML representation is unable to render, please try loading this page with nbviewer.org.</b></div><div class=\"sk-container\" hidden><div class=\"sk-item sk-dashed-wrapped\"><div class=\"sk-label-container\"><div class=\"sk-label sk-toggleable\"><input class=\"sk-toggleable__control sk-hidden--visually\" id=\"sk-estimator-id-1\" type=\"checkbox\" ><label for=\"sk-estimator-id-1\" class=\"sk-toggleable__label sk-toggleable__label-arrow\">Pipeline</label><div class=\"sk-toggleable__content\"><pre>Pipeline(steps=[(&#x27;scale&#x27;, None), (&#x27;model&#x27;, RandomForestClassifier())])</pre></div></div></div><div class=\"sk-serial\"><div class=\"sk-item\"><div class=\"sk-estimator sk-toggleable\"><input class=\"sk-toggleable__control sk-hidden--visually\" id=\"sk-estimator-id-2\" type=\"checkbox\" ><label for=\"sk-estimator-id-2\" class=\"sk-toggleable__label sk-toggleable__label-arrow\">None</label><div class=\"sk-toggleable__content\"><pre>None</pre></div></div></div><div class=\"sk-item\"><div class=\"sk-estimator sk-toggleable\"><input class=\"sk-toggleable__control sk-hidden--visually\" id=\"sk-estimator-id-3\" type=\"checkbox\" ><label for=\"sk-estimator-id-3\" class=\"sk-toggleable__label sk-toggleable__label-arrow\">RandomForestClassifier</label><div class=\"sk-toggleable__content\"><pre>RandomForestClassifier()</pre></div></div></div></div></div></div></div>"
      ],
      "text/plain": [
       "Pipeline(steps=[('scale', None), ('model', RandomForestClassifier())])"
      ]
     },
     "execution_count": 34,
     "metadata": {},
     "output_type": "execute_result"
    }
   ],
   "source": [
    "model.fit(X_train, y_train.values.ravel())"
   ]
  },
  {
   "cell_type": "code",
   "execution_count": 35,
   "id": "6e15e313",
   "metadata": {
    "execution": {
     "iopub.execute_input": "2025-08-19T19:02:56.806876Z",
     "iopub.status.busy": "2025-08-19T19:02:56.806544Z",
     "iopub.status.idle": "2025-08-19T19:02:58.163181Z",
     "shell.execute_reply": "2025-08-19T19:02:58.162250Z"
    },
    "papermill": {
     "duration": 1.371465,
     "end_time": "2025-08-19T19:02:58.164778",
     "exception": false,
     "start_time": "2025-08-19T19:02:56.793313",
     "status": "completed"
    },
    "tags": []
   },
   "outputs": [
    {
     "data": {
      "text/plain": [
       "0.8653215917957864"
      ]
     },
     "execution_count": 35,
     "metadata": {},
     "output_type": "execute_result"
    }
   ],
   "source": [
    "from fairness_multiverse.universe import predict_w_threshold\n",
    "\n",
    "probs_test = model.predict_proba(X_test)\n",
    "\n",
    "'''\n",
    "Below code returns a boolean array (or binary 0/1 array depending on how it’s used) where each element \n",
    "is True if the probability of class 1 is greater than or equal to the threshold, and False otherwise.\n",
    "'''\n",
    "y_pred_default = predict_w_threshold(probs_test, 0.5)\n",
    "\n",
    "from sklearn.metrics import accuracy_score\n",
    "\n",
    "# Naive prediction\n",
    "accuracy_score(y_true = y_true, y_pred = y_pred_default)"
   ]
  },
  {
   "cell_type": "code",
   "execution_count": 36,
   "id": "6f14067c",
   "metadata": {
    "execution": {
     "iopub.execute_input": "2025-08-19T19:02:58.189402Z",
     "iopub.status.busy": "2025-08-19T19:02:58.188600Z",
     "iopub.status.idle": "2025-08-19T19:02:59.462054Z",
     "shell.execute_reply": "2025-08-19T19:02:59.460934Z"
    },
    "papermill": {
     "duration": 1.287386,
     "end_time": "2025-08-19T19:02:59.463392",
     "exception": false,
     "start_time": "2025-08-19T19:02:58.176006",
     "status": "completed"
    },
    "tags": []
   },
   "outputs": [
    {
     "data": {
      "text/plain": [
       "array([0, 0, 0, ..., 0, 0, 0])"
      ]
     },
     "execution_count": 36,
     "metadata": {},
     "output_type": "execute_result"
    }
   ],
   "source": [
    "model.predict(X_test)"
   ]
  },
  {
   "cell_type": "markdown",
   "id": "3759920c",
   "metadata": {
    "papermill": {
     "duration": 0.010993,
     "end_time": "2025-08-19T19:02:59.485686",
     "exception": false,
     "start_time": "2025-08-19T19:02:59.474693",
     "status": "completed"
    },
    "tags": []
   },
   "source": [
    "# Conformal Prediction"
   ]
  },
  {
   "cell_type": "code",
   "execution_count": 37,
   "id": "14b27f59",
   "metadata": {
    "execution": {
     "iopub.execute_input": "2025-08-19T19:02:59.510606Z",
     "iopub.status.busy": "2025-08-19T19:02:59.509878Z",
     "iopub.status.idle": "2025-08-19T19:02:59.516386Z",
     "shell.execute_reply": "2025-08-19T19:02:59.515586Z"
    },
    "papermill": {
     "duration": 0.021597,
     "end_time": "2025-08-19T19:02:59.518029",
     "exception": false,
     "start_time": "2025-08-19T19:02:59.496432",
     "status": "completed"
    },
    "tags": []
   },
   "outputs": [],
   "source": [
    "# Miscoverage level for conformal prediction (10% allowed error rate => 90% target coverage)\n",
    "alpha = 0.1"
   ]
  },
  {
   "cell_type": "code",
   "execution_count": 38,
   "id": "59102472",
   "metadata": {
    "execution": {
     "iopub.execute_input": "2025-08-19T19:02:59.543560Z",
     "iopub.status.busy": "2025-08-19T19:02:59.543197Z",
     "iopub.status.idle": "2025-08-19T19:03:00.863518Z",
     "shell.execute_reply": "2025-08-19T19:03:00.862219Z"
    },
    "papermill": {
     "duration": 1.334779,
     "end_time": "2025-08-19T19:03:00.865459",
     "exception": false,
     "start_time": "2025-08-19T19:02:59.530680",
     "status": "completed"
    },
    "tags": []
   },
   "outputs": [],
   "source": [
    "probs_calib = model.predict_proba(X_calib)"
   ]
  },
  {
   "cell_type": "code",
   "execution_count": 39,
   "id": "a792d4dd",
   "metadata": {
    "execution": {
     "iopub.execute_input": "2025-08-19T19:03:00.897758Z",
     "iopub.status.busy": "2025-08-19T19:03:00.897231Z",
     "iopub.status.idle": "2025-08-19T19:03:00.902820Z",
     "shell.execute_reply": "2025-08-19T19:03:00.902233Z"
    },
    "papermill": {
     "duration": 0.021288,
     "end_time": "2025-08-19T19:03:00.904117",
     "exception": false,
     "start_time": "2025-08-19T19:03:00.882829",
     "status": "completed"
    },
    "tags": []
   },
   "outputs": [],
   "source": [
    "y_calib = y_calib.values.ravel().astype(int)"
   ]
  },
  {
   "cell_type": "code",
   "execution_count": 40,
   "id": "650fd033",
   "metadata": {
    "execution": {
     "iopub.execute_input": "2025-08-19T19:03:00.929888Z",
     "iopub.status.busy": "2025-08-19T19:03:00.929098Z",
     "iopub.status.idle": "2025-08-19T19:03:00.939672Z",
     "shell.execute_reply": "2025-08-19T19:03:00.938623Z"
    },
    "papermill": {
     "duration": 0.024256,
     "end_time": "2025-08-19T19:03:00.941199",
     "exception": false,
     "start_time": "2025-08-19T19:03:00.916943",
     "status": "completed"
    },
    "tags": []
   },
   "outputs": [],
   "source": [
    "from fairness_multiverse.conformal import compute_nc_scores\n",
    "\n",
    "# Compute nonconformity scores on calibration set (1 - probability of true class)\n",
    "nc_scores = compute_nc_scores(probs_calib, y_calib)"
   ]
  },
  {
   "cell_type": "code",
   "execution_count": 41,
   "id": "28ada44c",
   "metadata": {
    "execution": {
     "iopub.execute_input": "2025-08-19T19:03:00.969955Z",
     "iopub.status.busy": "2025-08-19T19:03:00.968715Z",
     "iopub.status.idle": "2025-08-19T19:03:00.980197Z",
     "shell.execute_reply": "2025-08-19T19:03:00.978915Z"
    },
    "papermill": {
     "duration": 0.026062,
     "end_time": "2025-08-19T19:03:00.981831",
     "exception": false,
     "start_time": "2025-08-19T19:03:00.955769",
     "status": "completed"
    },
    "tags": []
   },
   "outputs": [],
   "source": [
    "from fairness_multiverse.conformal import find_threshold\n",
    "\n",
    "# Find conformal threshold q_hat for the given alpha (split conformal method)\n",
    "q_hat = find_threshold(nc_scores, alpha)"
   ]
  },
  {
   "cell_type": "code",
   "execution_count": 42,
   "id": "df56469e",
   "metadata": {
    "execution": {
     "iopub.execute_input": "2025-08-19T19:03:01.010326Z",
     "iopub.status.busy": "2025-08-19T19:03:01.009351Z",
     "iopub.status.idle": "2025-08-19T19:03:01.021056Z",
     "shell.execute_reply": "2025-08-19T19:03:01.019864Z"
    },
    "papermill": {
     "duration": 0.026243,
     "end_time": "2025-08-19T19:03:01.022633",
     "exception": false,
     "start_time": "2025-08-19T19:03:00.996390",
     "status": "completed"
    },
    "tags": []
   },
   "outputs": [
    {
     "data": {
      "text/plain": [
       "0.6799999999999999"
      ]
     },
     "execution_count": 42,
     "metadata": {},
     "output_type": "execute_result"
    }
   ],
   "source": [
    "q_hat"
   ]
  },
  {
   "cell_type": "code",
   "execution_count": 43,
   "id": "aa1f5faa",
   "metadata": {
    "execution": {
     "iopub.execute_input": "2025-08-19T19:03:01.052311Z",
     "iopub.status.busy": "2025-08-19T19:03:01.051081Z",
     "iopub.status.idle": "2025-08-19T19:03:02.813375Z",
     "shell.execute_reply": "2025-08-19T19:03:02.812621Z"
    },
    "papermill": {
     "duration": 1.777297,
     "end_time": "2025-08-19T19:03:02.814792",
     "exception": false,
     "start_time": "2025-08-19T19:03:01.037495",
     "status": "completed"
    },
    "tags": []
   },
   "outputs": [],
   "source": [
    "from fairness_multiverse.conformal import predict_conformal_sets\n",
    "\n",
    "# Generate prediction sets for each test example\n",
    "pred_sets = predict_conformal_sets(model, X_test, q_hat)"
   ]
  },
  {
   "cell_type": "code",
   "execution_count": 44,
   "id": "97f67a6b",
   "metadata": {
    "execution": {
     "iopub.execute_input": "2025-08-19T19:03:02.839849Z",
     "iopub.status.busy": "2025-08-19T19:03:02.839052Z",
     "iopub.status.idle": "2025-08-19T19:03:02.845965Z",
     "shell.execute_reply": "2025-08-19T19:03:02.844731Z"
    },
    "papermill": {
     "duration": 0.020873,
     "end_time": "2025-08-19T19:03:02.847462",
     "exception": false,
     "start_time": "2025-08-19T19:03:02.826589",
     "status": "completed"
    },
    "tags": []
   },
   "outputs": [],
   "source": [
    "y_true = y_true.squeeze()"
   ]
  },
  {
   "cell_type": "code",
   "execution_count": 45,
   "id": "e700e9a7",
   "metadata": {
    "execution": {
     "iopub.execute_input": "2025-08-19T19:03:02.876223Z",
     "iopub.status.busy": "2025-08-19T19:03:02.875209Z",
     "iopub.status.idle": "2025-08-19T19:03:03.401548Z",
     "shell.execute_reply": "2025-08-19T19:03:03.400454Z"
    },
    "papermill": {
     "duration": 0.541042,
     "end_time": "2025-08-19T19:03:03.403206",
     "exception": false,
     "start_time": "2025-08-19T19:03:02.862164",
     "status": "completed"
    },
    "tags": []
   },
   "outputs": [],
   "source": [
    "from fairness_multiverse.conformal import evaluate_sets\n",
    "\n",
    "# Evaluate coverage and average set size on test data\n",
    "metrics = evaluate_sets(pred_sets, y_true)"
   ]
  },
  {
   "cell_type": "markdown",
   "id": "efbacec0",
   "metadata": {
    "papermill": {
     "duration": 0.011955,
     "end_time": "2025-08-19T19:03:03.427460",
     "exception": false,
     "start_time": "2025-08-19T19:03:03.415505",
     "status": "completed"
    },
    "tags": []
   },
   "source": [
    "# CP Metrics"
   ]
  },
  {
   "cell_type": "code",
   "execution_count": 46,
   "id": "9de55fb1",
   "metadata": {
    "execution": {
     "iopub.execute_input": "2025-08-19T19:03:03.451673Z",
     "iopub.status.busy": "2025-08-19T19:03:03.451355Z",
     "iopub.status.idle": "2025-08-19T19:03:03.457637Z",
     "shell.execute_reply": "2025-08-19T19:03:03.456856Z"
    },
    "papermill": {
     "duration": 0.021078,
     "end_time": "2025-08-19T19:03:03.460045",
     "exception": false,
     "start_time": "2025-08-19T19:03:03.438967",
     "status": "completed"
    },
    "tags": []
   },
   "outputs": [
    {
     "data": {
      "text/plain": [
       "{'coverage': 0.9140898450562925, 'avg_size': 1.1499498383680749}"
      ]
     },
     "execution_count": 46,
     "metadata": {},
     "output_type": "execute_result"
    }
   ],
   "source": [
    "metrics"
   ]
  },
  {
   "cell_type": "code",
   "execution_count": 47,
   "id": "64c340a1",
   "metadata": {
    "execution": {
     "iopub.execute_input": "2025-08-19T19:03:03.485745Z",
     "iopub.status.busy": "2025-08-19T19:03:03.485439Z",
     "iopub.status.idle": "2025-08-19T19:03:03.490893Z",
     "shell.execute_reply": "2025-08-19T19:03:03.490042Z"
    },
    "papermill": {
     "duration": 0.021625,
     "end_time": "2025-08-19T19:03:03.494592",
     "exception": false,
     "start_time": "2025-08-19T19:03:03.472967",
     "status": "completed"
    },
    "tags": []
   },
   "outputs": [],
   "source": [
    "example_universe = universe.copy()\n",
    "universe_training_year = example_universe.get(\"training_year\")\n",
    "universe_training_size = example_universe.get(\"training_size\")\n",
    "universe_scale = example_universe.get(\"scale\")\n",
    "universe_model = example_universe.get(\"model\")\n",
    "universe_exclude_features = example_universe.get(\"exclude_features\")\n",
    "universe_exclude_subgroups = example_universe.get(\"exclude_subgroups\")"
   ]
  },
  {
   "cell_type": "code",
   "execution_count": 48,
   "id": "dbb53cb4",
   "metadata": {
    "execution": {
     "iopub.execute_input": "2025-08-19T19:03:03.529986Z",
     "iopub.status.busy": "2025-08-19T19:03:03.529635Z",
     "iopub.status.idle": "2025-08-19T19:03:03.535473Z",
     "shell.execute_reply": "2025-08-19T19:03:03.534572Z"
    },
    "papermill": {
     "duration": 0.020011,
     "end_time": "2025-08-19T19:03:03.537021",
     "exception": false,
     "start_time": "2025-08-19T19:03:03.517010",
     "status": "completed"
    },
    "tags": []
   },
   "outputs": [],
   "source": [
    "cp_metrics_dict = {\n",
    "    \"universe_id\": [universe_id],\n",
    "    \"universe_training_year\": [universe_training_year],\n",
    "    \"universe_training_size\": [universe_training_size],\n",
    "    \"universe_scale\": [universe_scale],\n",
    "    \"universe_model\": [universe_model],\n",
    "    \"universe_exclude_features\": [universe_exclude_features],\n",
    "    \"universe_exclude_subgroups\": [universe_exclude_subgroups],\n",
    "    \"q_hat\": [q_hat],\n",
    "    \"coverage\": [metrics[\"coverage\"]],\n",
    "    \"avg_size\": [metrics[\"avg_size\"]],\n",
    "}"
   ]
  },
  {
   "cell_type": "code",
   "execution_count": 49,
   "id": "0d70d4b2",
   "metadata": {
    "execution": {
     "iopub.execute_input": "2025-08-19T19:03:03.561740Z",
     "iopub.status.busy": "2025-08-19T19:03:03.561451Z",
     "iopub.status.idle": "2025-08-19T19:03:03.577602Z",
     "shell.execute_reply": "2025-08-19T19:03:03.566734Z"
    },
    "papermill": {
     "duration": 0.030622,
     "end_time": "2025-08-19T19:03:03.579489",
     "exception": false,
     "start_time": "2025-08-19T19:03:03.548867",
     "status": "completed"
    },
    "tags": []
   },
   "outputs": [],
   "source": [
    "cp_metrics_df = pd.DataFrame(cp_metrics_dict)"
   ]
  },
  {
   "cell_type": "code",
   "execution_count": 50,
   "id": "b494403c",
   "metadata": {
    "execution": {
     "iopub.execute_input": "2025-08-19T19:03:03.607504Z",
     "iopub.status.busy": "2025-08-19T19:03:03.607198Z",
     "iopub.status.idle": "2025-08-19T19:03:03.621530Z",
     "shell.execute_reply": "2025-08-19T19:03:03.620736Z"
    },
    "papermill": {
     "duration": 0.029447,
     "end_time": "2025-08-19T19:03:03.623154",
     "exception": false,
     "start_time": "2025-08-19T19:03:03.593707",
     "status": "completed"
    },
    "tags": []
   },
   "outputs": [
    {
     "data": {
      "text/html": [
       "<div>\n",
       "<style scoped>\n",
       "    .dataframe tbody tr th:only-of-type {\n",
       "        vertical-align: middle;\n",
       "    }\n",
       "\n",
       "    .dataframe tbody tr th {\n",
       "        vertical-align: top;\n",
       "    }\n",
       "\n",
       "    .dataframe thead th {\n",
       "        text-align: right;\n",
       "    }\n",
       "</style>\n",
       "<table border=\"1\" class=\"dataframe\">\n",
       "  <thead>\n",
       "    <tr style=\"text-align: right;\">\n",
       "      <th></th>\n",
       "      <th>universe_id</th>\n",
       "      <th>universe_training_year</th>\n",
       "      <th>universe_training_size</th>\n",
       "      <th>universe_scale</th>\n",
       "      <th>universe_model</th>\n",
       "      <th>universe_exclude_features</th>\n",
       "      <th>universe_exclude_subgroups</th>\n",
       "      <th>q_hat</th>\n",
       "      <th>coverage</th>\n",
       "      <th>avg_size</th>\n",
       "    </tr>\n",
       "  </thead>\n",
       "  <tbody>\n",
       "    <tr>\n",
       "      <th>0</th>\n",
       "      <td>669d114df9ba63ffb1e3e62ad7fb5528</td>\n",
       "      <td>2012_14</td>\n",
       "      <td>1k</td>\n",
       "      <td>do-not-scale</td>\n",
       "      <td>rf</td>\n",
       "      <td>age</td>\n",
       "      <td>keep-all</td>\n",
       "      <td>0.68</td>\n",
       "      <td>0.91409</td>\n",
       "      <td>1.14995</td>\n",
       "    </tr>\n",
       "  </tbody>\n",
       "</table>\n",
       "</div>"
      ],
      "text/plain": [
       "                        universe_id universe_training_year  \\\n",
       "0  669d114df9ba63ffb1e3e62ad7fb5528                2012_14   \n",
       "\n",
       "  universe_training_size universe_scale universe_model  \\\n",
       "0                     1k   do-not-scale             rf   \n",
       "\n",
       "  universe_exclude_features universe_exclude_subgroups  q_hat  coverage  \\\n",
       "0                       age                   keep-all   0.68   0.91409   \n",
       "\n",
       "   avg_size  \n",
       "0   1.14995  "
      ]
     },
     "execution_count": 50,
     "metadata": {},
     "output_type": "execute_result"
    }
   ],
   "source": [
    "cp_metrics_df"
   ]
  },
  {
   "cell_type": "markdown",
   "id": "ed608b0b",
   "metadata": {
    "papermill": {
     "duration": 0.011776,
     "end_time": "2025-08-19T19:03:03.648851",
     "exception": false,
     "start_time": "2025-08-19T19:03:03.637075",
     "status": "completed"
    },
    "tags": []
   },
   "source": [
    "Conditional coverage & looking at subgroups"
   ]
  },
  {
   "cell_type": "code",
   "execution_count": 51,
   "id": "8968c366",
   "metadata": {
    "execution": {
     "iopub.execute_input": "2025-08-19T19:03:03.673994Z",
     "iopub.status.busy": "2025-08-19T19:03:03.673690Z",
     "iopub.status.idle": "2025-08-19T19:03:03.917701Z",
     "shell.execute_reply": "2025-08-19T19:03:03.916499Z"
    },
    "papermill": {
     "duration": 0.25828,
     "end_time": "2025-08-19T19:03:03.919271",
     "exception": false,
     "start_time": "2025-08-19T19:03:03.660991",
     "status": "completed"
    },
    "tags": []
   },
   "outputs": [],
   "source": [
    "from fairness_multiverse.conformal import build_cp_groups\n",
    "\n",
    "cp_groups_df = build_cp_groups(pred_sets, y_true, X_test.index, org_test)"
   ]
  },
  {
   "cell_type": "code",
   "execution_count": 52,
   "id": "292ddabf",
   "metadata": {
    "execution": {
     "iopub.execute_input": "2025-08-19T19:03:03.945499Z",
     "iopub.status.busy": "2025-08-19T19:03:03.945171Z",
     "iopub.status.idle": "2025-08-19T19:03:04.774929Z",
     "shell.execute_reply": "2025-08-19T19:03:04.773746Z"
    },
    "papermill": {
     "duration": 0.845805,
     "end_time": "2025-08-19T19:03:04.777859",
     "exception": false,
     "start_time": "2025-08-19T19:03:03.932054",
     "status": "completed"
    },
    "tags": []
   },
   "outputs": [],
   "source": [
    "# Define covered = 1 if true_label is in the predicted set\n",
    "cp_groups_df['covered'] = cp_groups_df.apply(\n",
    "    lambda r: int(r['true_label'] in r['pred_set']),\n",
    "    axis=1\n",
    ")"
   ]
  },
  {
   "cell_type": "code",
   "execution_count": 53,
   "id": "3a261692",
   "metadata": {
    "execution": {
     "iopub.execute_input": "2025-08-19T19:03:04.824521Z",
     "iopub.status.busy": "2025-08-19T19:03:04.823507Z",
     "iopub.status.idle": "2025-08-19T19:03:04.846065Z",
     "shell.execute_reply": "2025-08-19T19:03:04.844028Z"
    },
    "papermill": {
     "duration": 0.041455,
     "end_time": "2025-08-19T19:03:04.848124",
     "exception": false,
     "start_time": "2025-08-19T19:03:04.806669",
     "status": "completed"
    },
    "tags": []
   },
   "outputs": [],
   "source": [
    "subgroups = ['frau1','nongerman','nongerman_male','nongerman_female']\n",
    "\n",
    "# Conditional coverage for subgroup==1\n",
    "cond_coverage = {\n",
    "    g: cp_groups_df.loc[cp_groups_df[g]==1, 'covered'].mean()\n",
    "    for g in subgroups\n",
    "}"
   ]
  },
  {
   "cell_type": "code",
   "execution_count": 54,
   "id": "894fd600",
   "metadata": {
    "execution": {
     "iopub.execute_input": "2025-08-19T19:03:04.883190Z",
     "iopub.status.busy": "2025-08-19T19:03:04.882171Z",
     "iopub.status.idle": "2025-08-19T19:03:04.893687Z",
     "shell.execute_reply": "2025-08-19T19:03:04.892370Z"
    },
    "papermill": {
     "duration": 0.028025,
     "end_time": "2025-08-19T19:03:04.895616",
     "exception": false,
     "start_time": "2025-08-19T19:03:04.867591",
     "status": "completed"
    },
    "tags": []
   },
   "outputs": [
    {
     "data": {
      "text/plain": [
       "{'frau1': 0.9114166329694029,\n",
       " 'nongerman': 0.9081008252399932,\n",
       " 'nongerman_male': 0.9253354949112852,\n",
       " 'nongerman_female': 0.8795827123695976}"
      ]
     },
     "execution_count": 54,
     "metadata": {},
     "output_type": "execute_result"
    }
   ],
   "source": [
    "cond_coverage"
   ]
  },
  {
   "cell_type": "code",
   "execution_count": 55,
   "id": "942895c7",
   "metadata": {
    "execution": {
     "iopub.execute_input": "2025-08-19T19:03:04.924839Z",
     "iopub.status.busy": "2025-08-19T19:03:04.923873Z",
     "iopub.status.idle": "2025-08-19T19:03:04.935639Z",
     "shell.execute_reply": "2025-08-19T19:03:04.934268Z"
    },
    "papermill": {
     "duration": 0.027548,
     "end_time": "2025-08-19T19:03:04.937613",
     "exception": false,
     "start_time": "2025-08-19T19:03:04.910065",
     "status": "completed"
    },
    "tags": []
   },
   "outputs": [],
   "source": [
    "for subgroup, cov in cond_coverage.items():\n",
    "    cp_metrics_df[f\"cov_{subgroup}\"] = cov"
   ]
  },
  {
   "cell_type": "code",
   "execution_count": 56,
   "id": "3970120f",
   "metadata": {
    "execution": {
     "iopub.execute_input": "2025-08-19T19:03:04.971035Z",
     "iopub.status.busy": "2025-08-19T19:03:04.970068Z",
     "iopub.status.idle": "2025-08-19T19:03:04.995445Z",
     "shell.execute_reply": "2025-08-19T19:03:04.994351Z"
    },
    "papermill": {
     "duration": 0.041897,
     "end_time": "2025-08-19T19:03:04.998419",
     "exception": false,
     "start_time": "2025-08-19T19:03:04.956522",
     "status": "completed"
    },
    "tags": []
   },
   "outputs": [
    {
     "data": {
      "text/html": [
       "<div>\n",
       "<style scoped>\n",
       "    .dataframe tbody tr th:only-of-type {\n",
       "        vertical-align: middle;\n",
       "    }\n",
       "\n",
       "    .dataframe tbody tr th {\n",
       "        vertical-align: top;\n",
       "    }\n",
       "\n",
       "    .dataframe thead th {\n",
       "        text-align: right;\n",
       "    }\n",
       "</style>\n",
       "<table border=\"1\" class=\"dataframe\">\n",
       "  <thead>\n",
       "    <tr style=\"text-align: right;\">\n",
       "      <th></th>\n",
       "      <th>universe_id</th>\n",
       "      <th>universe_training_year</th>\n",
       "      <th>universe_training_size</th>\n",
       "      <th>universe_scale</th>\n",
       "      <th>universe_model</th>\n",
       "      <th>universe_exclude_features</th>\n",
       "      <th>universe_exclude_subgroups</th>\n",
       "      <th>q_hat</th>\n",
       "      <th>coverage</th>\n",
       "      <th>avg_size</th>\n",
       "      <th>cov_frau1</th>\n",
       "      <th>cov_nongerman</th>\n",
       "      <th>cov_nongerman_male</th>\n",
       "      <th>cov_nongerman_female</th>\n",
       "    </tr>\n",
       "  </thead>\n",
       "  <tbody>\n",
       "    <tr>\n",
       "      <th>0</th>\n",
       "      <td>669d114df9ba63ffb1e3e62ad7fb5528</td>\n",
       "      <td>2012_14</td>\n",
       "      <td>1k</td>\n",
       "      <td>do-not-scale</td>\n",
       "      <td>rf</td>\n",
       "      <td>age</td>\n",
       "      <td>keep-all</td>\n",
       "      <td>0.68</td>\n",
       "      <td>0.91409</td>\n",
       "      <td>1.14995</td>\n",
       "      <td>0.911417</td>\n",
       "      <td>0.908101</td>\n",
       "      <td>0.925335</td>\n",
       "      <td>0.879583</td>\n",
       "    </tr>\n",
       "  </tbody>\n",
       "</table>\n",
       "</div>"
      ],
      "text/plain": [
       "                        universe_id universe_training_year  \\\n",
       "0  669d114df9ba63ffb1e3e62ad7fb5528                2012_14   \n",
       "\n",
       "  universe_training_size universe_scale universe_model  \\\n",
       "0                     1k   do-not-scale             rf   \n",
       "\n",
       "  universe_exclude_features universe_exclude_subgroups  q_hat  coverage  \\\n",
       "0                       age                   keep-all   0.68   0.91409   \n",
       "\n",
       "   avg_size  cov_frau1  cov_nongerman  cov_nongerman_male  \\\n",
       "0   1.14995   0.911417       0.908101            0.925335   \n",
       "\n",
       "   cov_nongerman_female  \n",
       "0              0.879583  "
      ]
     },
     "execution_count": 56,
     "metadata": {},
     "output_type": "execute_result"
    }
   ],
   "source": [
    "cp_metrics_df"
   ]
  },
  {
   "cell_type": "markdown",
   "id": "3fc519cc",
   "metadata": {
    "papermill": {
     "duration": 0.032913,
     "end_time": "2025-08-19T19:03:05.065894",
     "exception": false,
     "start_time": "2025-08-19T19:03:05.032981",
     "status": "completed"
    },
    "tags": []
   },
   "source": [
    "# (Fairness) Metrics"
   ]
  },
  {
   "cell_type": "code",
   "execution_count": 57,
   "id": "a2e5e155",
   "metadata": {
    "execution": {
     "iopub.execute_input": "2025-08-19T19:03:05.095182Z",
     "iopub.status.busy": "2025-08-19T19:03:05.094437Z",
     "iopub.status.idle": "2025-08-19T19:03:05.123259Z",
     "shell.execute_reply": "2025-08-19T19:03:05.122528Z"
    },
    "papermill": {
     "duration": 0.046836,
     "end_time": "2025-08-19T19:03:05.126513",
     "exception": false,
     "start_time": "2025-08-19T19:03:05.079677",
     "status": "completed"
    },
    "tags": []
   },
   "outputs": [],
   "source": [
    "colname_to_bin = \"maxdeutsch1\"\n",
    "majority_value = org_train[colname_to_bin].mode()[0]\n",
    "\n",
    "org_test[\"majmin\"] = np.where(org_test[colname_to_bin] == majority_value, \"majority\", \"minority\")"
   ]
  },
  {
   "cell_type": "code",
   "execution_count": 58,
   "id": "17e3e4d5",
   "metadata": {
    "execution": {
     "iopub.execute_input": "2025-08-19T19:03:05.184074Z",
     "iopub.status.busy": "2025-08-19T19:03:05.183421Z",
     "iopub.status.idle": "2025-08-19T19:03:06.932816Z",
     "shell.execute_reply": "2025-08-19T19:03:06.931476Z"
    },
    "papermill": {
     "duration": 1.787212,
     "end_time": "2025-08-19T19:03:06.934867",
     "exception": false,
     "start_time": "2025-08-19T19:03:05.147655",
     "status": "completed"
    },
    "tags": []
   },
   "outputs": [],
   "source": [
    "example_universe = universe.copy()\n",
    "example_universe[\"cutoff\"] = example_universe[\"cutoff\"][0]\n",
    "example_universe[\"eval_fairness_grouping\"] = example_universe[\"eval_fairness_grouping\"][0]\n",
    "fairness_dict, metric_frame = universe_analysis.compute_metrics(\n",
    "    example_universe,\n",
    "    y_pred_prob=probs_test,\n",
    "    y_test=y_true,\n",
    "    org_test=org_test,\n",
    ")"
   ]
  },
  {
   "cell_type": "markdown",
   "id": "1fb7a0e9",
   "metadata": {
    "papermill": {
     "duration": 0.012346,
     "end_time": "2025-08-19T19:03:06.960565",
     "exception": false,
     "start_time": "2025-08-19T19:03:06.948219",
     "status": "completed"
    },
    "tags": []
   },
   "source": [
    "# Overall"
   ]
  },
  {
   "cell_type": "markdown",
   "id": "be1784b1",
   "metadata": {
    "papermill": {
     "duration": 0.012116,
     "end_time": "2025-08-19T19:03:06.984870",
     "exception": false,
     "start_time": "2025-08-19T19:03:06.972754",
     "status": "completed"
    },
    "tags": []
   },
   "source": [
    "Main fairness target: Equalized Odds. Seems to be a better fit than equal opportunity, since we're not only interested in Y = 1. Seems to be a better fit than demographic parity, since we also care about accuracy, not just equal distribution of preds.\n",
    "\n",
    "Pick column for computation of fairness metrics\n",
    "\n",
    "Performance\n",
    "Overall performance measures, most interesting in relation to the measures split by group below"
   ]
  },
  {
   "cell_type": "code",
   "execution_count": 59,
   "id": "b7672bee",
   "metadata": {
    "execution": {
     "iopub.execute_input": "2025-08-19T19:03:07.014888Z",
     "iopub.status.busy": "2025-08-19T19:03:07.013527Z",
     "iopub.status.idle": "2025-08-19T19:03:07.029943Z",
     "shell.execute_reply": "2025-08-19T19:03:07.028656Z"
    },
    "papermill": {
     "duration": 0.034211,
     "end_time": "2025-08-19T19:03:07.031629",
     "exception": false,
     "start_time": "2025-08-19T19:03:06.997418",
     "status": "completed"
    },
    "tags": []
   },
   "outputs": [
    {
     "data": {
      "text/plain": [
       "accuracy                   0.196656\n",
       "balanced accuracy          0.528844\n",
       "f1                         0.237569\n",
       "precision                  0.135251\n",
       "false positive rate        0.917982\n",
       "false negative rate        0.024331\n",
       "selection rate             0.925382\n",
       "count                  89710.000000\n",
       "dtype: float64"
      ]
     },
     "execution_count": 59,
     "metadata": {},
     "output_type": "execute_result"
    }
   ],
   "source": [
    "metric_frame.overall"
   ]
  },
  {
   "cell_type": "markdown",
   "id": "d93333c9",
   "metadata": {
    "papermill": {
     "duration": 0.014205,
     "end_time": "2025-08-19T19:03:07.065260",
     "exception": false,
     "start_time": "2025-08-19T19:03:07.051055",
     "status": "completed"
    },
    "tags": []
   },
   "source": [
    "By Group"
   ]
  },
  {
   "cell_type": "code",
   "execution_count": 60,
   "id": "52256966",
   "metadata": {
    "execution": {
     "iopub.execute_input": "2025-08-19T19:03:07.095976Z",
     "iopub.status.busy": "2025-08-19T19:03:07.094710Z",
     "iopub.status.idle": "2025-08-19T19:03:07.119051Z",
     "shell.execute_reply": "2025-08-19T19:03:07.118189Z"
    },
    "papermill": {
     "duration": 0.04279,
     "end_time": "2025-08-19T19:03:07.121353",
     "exception": false,
     "start_time": "2025-08-19T19:03:07.078563",
     "status": "completed"
    },
    "tags": []
   },
   "outputs": [
    {
     "data": {
      "text/html": [
       "<div>\n",
       "<style scoped>\n",
       "    .dataframe tbody tr th:only-of-type {\n",
       "        vertical-align: middle;\n",
       "    }\n",
       "\n",
       "    .dataframe tbody tr th {\n",
       "        vertical-align: top;\n",
       "    }\n",
       "\n",
       "    .dataframe thead th {\n",
       "        text-align: right;\n",
       "    }\n",
       "</style>\n",
       "<table border=\"1\" class=\"dataframe\">\n",
       "  <thead>\n",
       "    <tr style=\"text-align: right;\">\n",
       "      <th></th>\n",
       "      <th>accuracy</th>\n",
       "      <th>balanced accuracy</th>\n",
       "      <th>f1</th>\n",
       "      <th>precision</th>\n",
       "      <th>false positive rate</th>\n",
       "      <th>false negative rate</th>\n",
       "      <th>selection rate</th>\n",
       "      <th>count</th>\n",
       "    </tr>\n",
       "    <tr>\n",
       "      <th>majmin</th>\n",
       "      <th></th>\n",
       "      <th></th>\n",
       "      <th></th>\n",
       "      <th></th>\n",
       "      <th></th>\n",
       "      <th></th>\n",
       "      <th></th>\n",
       "      <th></th>\n",
       "    </tr>\n",
       "  </thead>\n",
       "  <tbody>\n",
       "    <tr>\n",
       "      <th>majority</th>\n",
       "      <td>0.199465</td>\n",
       "      <td>0.533317</td>\n",
       "      <td>0.245774</td>\n",
       "      <td>0.140361</td>\n",
       "      <td>0.920456</td>\n",
       "      <td>0.012910</td>\n",
       "      <td>0.929261</td>\n",
       "      <td>69170.0</td>\n",
       "    </tr>\n",
       "    <tr>\n",
       "      <th>minority</th>\n",
       "      <td>0.187196</td>\n",
       "      <td>0.510891</td>\n",
       "      <td>0.209030</td>\n",
       "      <td>0.117722</td>\n",
       "      <td>0.909806</td>\n",
       "      <td>0.068412</td>\n",
       "      <td>0.912317</td>\n",
       "      <td>20540.0</td>\n",
       "    </tr>\n",
       "  </tbody>\n",
       "</table>\n",
       "</div>"
      ],
      "text/plain": [
       "          accuracy  balanced accuracy        f1  precision  \\\n",
       "majmin                                                       \n",
       "majority  0.199465           0.533317  0.245774   0.140361   \n",
       "minority  0.187196           0.510891  0.209030   0.117722   \n",
       "\n",
       "          false positive rate  false negative rate  selection rate    count  \n",
       "majmin                                                                       \n",
       "majority             0.920456             0.012910        0.929261  69170.0  \n",
       "minority             0.909806             0.068412        0.912317  20540.0  "
      ]
     },
     "execution_count": 60,
     "metadata": {},
     "output_type": "execute_result"
    }
   ],
   "source": [
    "metric_frame.by_group"
   ]
  },
  {
   "cell_type": "code",
   "execution_count": 61,
   "id": "6e6c20ae",
   "metadata": {
    "execution": {
     "iopub.execute_input": "2025-08-19T19:03:07.162407Z",
     "iopub.status.busy": "2025-08-19T19:03:07.161171Z",
     "iopub.status.idle": "2025-08-19T19:03:09.040683Z",
     "shell.execute_reply": "2025-08-19T19:03:09.039010Z"
    },
    "papermill": {
     "duration": 1.897561,
     "end_time": "2025-08-19T19:03:09.042537",
     "exception": false,
     "start_time": "2025-08-19T19:03:07.144976",
     "status": "completed"
    },
    "tags": []
   },
   "outputs": [
    {
     "data": {
      "text/plain": [
       "array([[<Axes: title={'center': 'accuracy'}, xlabel='majmin'>,\n",
       "        <Axes: title={'center': 'balanced accuracy'}, xlabel='majmin'>,\n",
       "        <Axes: title={'center': 'f1'}, xlabel='majmin'>],\n",
       "       [<Axes: title={'center': 'precision'}, xlabel='majmin'>,\n",
       "        <Axes: title={'center': 'false positive rate'}, xlabel='majmin'>,\n",
       "        <Axes: title={'center': 'false negative rate'}, xlabel='majmin'>],\n",
       "       [<Axes: title={'center': 'selection rate'}, xlabel='majmin'>,\n",
       "        <Axes: title={'center': 'count'}, xlabel='majmin'>,\n",
       "        <Axes: xlabel='majmin'>]], dtype=object)"
      ]
     },
     "execution_count": 61,
     "metadata": {},
     "output_type": "execute_result"
    },
    {
     "data": {
      "image/png": "[encoded data removed]",
      "text/plain": [
       "<Figure size 1200x800 with 9 Axes>"
      ]
     },
     "metadata": {},
     "output_type": "display_data"
    }
   ],
   "source": [
    "# In a graphic\n",
    "metric_frame.by_group.plot.bar(\n",
    "    subplots=True,\n",
    "    layout=[3, 3],\n",
    "    legend=False,\n",
    "    figsize=[12, 8],\n",
    "    title=\"Show all metrics\",\n",
    ")"
   ]
  },
  {
   "cell_type": "markdown",
   "id": "b2e433ae",
   "metadata": {
    "papermill": {
     "duration": 0.013889,
     "end_time": "2025-08-19T19:03:09.071053",
     "exception": false,
     "start_time": "2025-08-19T19:03:09.057164",
     "status": "completed"
    },
    "tags": []
   },
   "source": [
    "# Final Output"
   ]
  },
  {
   "cell_type": "code",
   "execution_count": 62,
   "id": "3871301e",
   "metadata": {
    "execution": {
     "iopub.execute_input": "2025-08-19T19:03:09.100979Z",
     "iopub.status.busy": "2025-08-19T19:03:09.100199Z",
     "iopub.status.idle": "2025-08-19T19:03:09.111140Z",
     "shell.execute_reply": "2025-08-19T19:03:09.110292Z"
    },
    "papermill": {
     "duration": 0.02764,
     "end_time": "2025-08-19T19:03:09.112537",
     "exception": false,
     "start_time": "2025-08-19T19:03:09.084897",
     "status": "completed"
    },
    "tags": []
   },
   "outputs": [
    {
     "data": {
      "text/plain": [
       "4"
      ]
     },
     "execution_count": 62,
     "metadata": {},
     "output_type": "execute_result"
    }
   ],
   "source": [
    "sub_universes = universe_analysis.generate_sub_universes()\n",
    "len(sub_universes)"
   ]
  },
  {
   "cell_type": "code",
   "execution_count": 63,
   "id": "d9cfdaca",
   "metadata": {
    "execution": {
     "iopub.execute_input": "2025-08-19T19:03:09.144862Z",
     "iopub.status.busy": "2025-08-19T19:03:09.144423Z",
     "iopub.status.idle": "2025-08-19T19:03:09.176727Z",
     "shell.execute_reply": "2025-08-19T19:03:09.175609Z"
    },
    "papermill": {
     "duration": 0.050125,
     "end_time": "2025-08-19T19:03:09.179415",
     "exception": false,
     "start_time": "2025-08-19T19:03:09.129290",
     "status": "completed"
    },
    "tags": []
   },
   "outputs": [],
   "source": [
    "def filter_sub_universe_data(sub_universe, org_test):\n",
    "    # Keep all rows — no filtering\n",
    "    keep_rows_mask = np.ones(org_test.shape[0], dtype=bool)\n",
    "\n",
    "    print(f\"[INFO] Keeping all rows: {keep_rows_mask.sum()} rows retained.\")\n",
    "    return keep_rows_mask"
   ]
  },
  {
   "cell_type": "code",
   "execution_count": 64,
   "id": "2bc31ac1",
   "metadata": {
    "execution": {
     "iopub.execute_input": "2025-08-19T19:03:09.227434Z",
     "iopub.status.busy": "2025-08-19T19:03:09.227020Z",
     "iopub.status.idle": "2025-08-19T19:03:16.104530Z",
     "shell.execute_reply": "2025-08-19T19:03:16.103481Z"
    },
    "papermill": {
     "duration": 6.896383,
     "end_time": "2025-08-19T19:03:16.106303",
     "exception": false,
     "start_time": "2025-08-19T19:03:09.209920",
     "status": "completed"
    },
    "tags": []
   },
   "outputs": [
    {
     "name": "stdout",
     "output_type": "stream",
     "text": [
      "Stopping execution_time clock.\n",
      "[INFO] Keeping all rows: 89710 rows retained.\n"
     ]
    },
    {
     "name": "stdout",
     "output_type": "stream",
     "text": [
      "[INFO] Keeping all rows: 89710 rows retained.\n"
     ]
    },
    {
     "name": "stdout",
     "output_type": "stream",
     "text": [
      "[INFO] Keeping all rows: 89710 rows retained.\n"
     ]
    },
    {
     "name": "stdout",
     "output_type": "stream",
     "text": [
      "[INFO] Keeping all rows: 89710 rows retained.\n"
     ]
    },
    {
     "data": {
      "text/html": [
       "<div>\n",
       "<style scoped>\n",
       "    .dataframe tbody tr th:only-of-type {\n",
       "        vertical-align: middle;\n",
       "    }\n",
       "\n",
       "    .dataframe tbody tr th {\n",
       "        vertical-align: top;\n",
       "    }\n",
       "\n",
       "    .dataframe thead th {\n",
       "        text-align: right;\n",
       "    }\n",
       "</style>\n",
       "<table border=\"1\" class=\"dataframe\">\n",
       "  <thead>\n",
       "    <tr style=\"text-align: right;\">\n",
       "      <th></th>\n",
       "      <th>run_no</th>\n",
       "      <th>universe_id</th>\n",
       "      <th>universe_settings</th>\n",
       "      <th>execution_time</th>\n",
       "      <th>test_size_n</th>\n",
       "      <th>test_size_frac</th>\n",
       "      <th>fair_main_equalized_odds_difference</th>\n",
       "      <th>fair_main_equalized_odds_ratio</th>\n",
       "      <th>fair_main_demographic_parity_difference</th>\n",
       "      <th>fair_main_demographic_parity_ratio</th>\n",
       "      <th>...</th>\n",
       "      <th>perf_grp_precision_0</th>\n",
       "      <th>perf_grp_precision_1</th>\n",
       "      <th>perf_grp_false positive rate_0</th>\n",
       "      <th>perf_grp_false positive rate_1</th>\n",
       "      <th>perf_grp_false negative rate_0</th>\n",
       "      <th>perf_grp_false negative rate_1</th>\n",
       "      <th>perf_grp_selection rate_0</th>\n",
       "      <th>perf_grp_selection rate_1</th>\n",
       "      <th>perf_grp_count_0</th>\n",
       "      <th>perf_grp_count_1</th>\n",
       "    </tr>\n",
       "  </thead>\n",
       "  <tbody>\n",
       "    <tr>\n",
       "      <th>0</th>\n",
       "      <td>3</td>\n",
       "      <td>669d114df9ba63ffb1e3e62ad7fb5528</td>\n",
       "      <td>{\"cutoff\": \"quantile_0.1\", \"eval_fairness_grou...</td>\n",
       "      <td>25.974933</td>\n",
       "      <td>89710</td>\n",
       "      <td>1.0</td>\n",
       "      <td>0.055502</td>\n",
       "      <td>0.943772</td>\n",
       "      <td>0.016944</td>\n",
       "      <td>0.981766</td>\n",
       "      <td>...</td>\n",
       "      <td>NaN</td>\n",
       "      <td>NaN</td>\n",
       "      <td>NaN</td>\n",
       "      <td>NaN</td>\n",
       "      <td>NaN</td>\n",
       "      <td>NaN</td>\n",
       "      <td>NaN</td>\n",
       "      <td>NaN</td>\n",
       "      <td>NaN</td>\n",
       "      <td>NaN</td>\n",
       "    </tr>\n",
       "    <tr>\n",
       "      <th>0</th>\n",
       "      <td>3</td>\n",
       "      <td>669d114df9ba63ffb1e3e62ad7fb5528</td>\n",
       "      <td>{\"cutoff\": \"quantile_0.1\", \"eval_fairness_grou...</td>\n",
       "      <td>25.974933</td>\n",
       "      <td>89710</td>\n",
       "      <td>1.0</td>\n",
       "      <td>0.055502</td>\n",
       "      <td>0.943772</td>\n",
       "      <td>0.016944</td>\n",
       "      <td>0.981766</td>\n",
       "      <td>...</td>\n",
       "      <td>0.117722</td>\n",
       "      <td>0.140361</td>\n",
       "      <td>0.909806</td>\n",
       "      <td>0.920456</td>\n",
       "      <td>0.068412</td>\n",
       "      <td>0.012910</td>\n",
       "      <td>0.912317</td>\n",
       "      <td>0.929261</td>\n",
       "      <td>20540.0</td>\n",
       "      <td>69170.0</td>\n",
       "    </tr>\n",
       "    <tr>\n",
       "      <th>0</th>\n",
       "      <td>3</td>\n",
       "      <td>669d114df9ba63ffb1e3e62ad7fb5528</td>\n",
       "      <td>{\"cutoff\": \"quantile_0.25\", \"eval_fairness_gro...</td>\n",
       "      <td>25.974933</td>\n",
       "      <td>89710</td>\n",
       "      <td>1.0</td>\n",
       "      <td>0.118223</td>\n",
       "      <td>0.874120</td>\n",
       "      <td>0.034039</td>\n",
       "      <td>0.955733</td>\n",
       "      <td>...</td>\n",
       "      <td>NaN</td>\n",
       "      <td>NaN</td>\n",
       "      <td>NaN</td>\n",
       "      <td>NaN</td>\n",
       "      <td>NaN</td>\n",
       "      <td>NaN</td>\n",
       "      <td>NaN</td>\n",
       "      <td>NaN</td>\n",
       "      <td>NaN</td>\n",
       "      <td>NaN</td>\n",
       "    </tr>\n",
       "    <tr>\n",
       "      <th>0</th>\n",
       "      <td>3</td>\n",
       "      <td>669d114df9ba63ffb1e3e62ad7fb5528</td>\n",
       "      <td>{\"cutoff\": \"quantile_0.25\", \"eval_fairness_gro...</td>\n",
       "      <td>25.974933</td>\n",
       "      <td>89710</td>\n",
       "      <td>1.0</td>\n",
       "      <td>0.118223</td>\n",
       "      <td>0.874120</td>\n",
       "      <td>0.034039</td>\n",
       "      <td>0.955733</td>\n",
       "      <td>...</td>\n",
       "      <td>0.128784</td>\n",
       "      <td>0.161390</td>\n",
       "      <td>0.723696</td>\n",
       "      <td>0.743028</td>\n",
       "      <td>0.179054</td>\n",
       "      <td>0.060832</td>\n",
       "      <td>0.734907</td>\n",
       "      <td>0.768946</td>\n",
       "      <td>20540.0</td>\n",
       "      <td>69170.0</td>\n",
       "    </tr>\n",
       "  </tbody>\n",
       "</table>\n",
       "<p>4 rows × 50 columns</p>\n",
       "</div>"
      ],
      "text/plain": [
       "  run_no                       universe_id  \\\n",
       "0      3  669d114df9ba63ffb1e3e62ad7fb5528   \n",
       "0      3  669d114df9ba63ffb1e3e62ad7fb5528   \n",
       "0      3  669d114df9ba63ffb1e3e62ad7fb5528   \n",
       "0      3  669d114df9ba63ffb1e3e62ad7fb5528   \n",
       "\n",
       "                                   universe_settings  execution_time  \\\n",
       "0  {\"cutoff\": \"quantile_0.1\", \"eval_fairness_grou...       25.974933   \n",
       "0  {\"cutoff\": \"quantile_0.1\", \"eval_fairness_grou...       25.974933   \n",
       "0  {\"cutoff\": \"quantile_0.25\", \"eval_fairness_gro...       25.974933   \n",
       "0  {\"cutoff\": \"quantile_0.25\", \"eval_fairness_gro...       25.974933   \n",
       "\n",
       "   test_size_n  test_size_frac  fair_main_equalized_odds_difference  \\\n",
       "0        89710             1.0                             0.055502   \n",
       "0        89710             1.0                             0.055502   \n",
       "0        89710             1.0                             0.118223   \n",
       "0        89710             1.0                             0.118223   \n",
       "\n",
       "   fair_main_equalized_odds_ratio  fair_main_demographic_parity_difference  \\\n",
       "0                        0.943772                                 0.016944   \n",
       "0                        0.943772                                 0.016944   \n",
       "0                        0.874120                                 0.034039   \n",
       "0                        0.874120                                 0.034039   \n",
       "\n",
       "   fair_main_demographic_parity_ratio  ...  perf_grp_precision_0  \\\n",
       "0                            0.981766  ...                   NaN   \n",
       "0                            0.981766  ...              0.117722   \n",
       "0                            0.955733  ...                   NaN   \n",
       "0                            0.955733  ...              0.128784   \n",
       "\n",
       "   perf_grp_precision_1  perf_grp_false positive rate_0  \\\n",
       "0                   NaN                             NaN   \n",
       "0              0.140361                        0.909806   \n",
       "0                   NaN                             NaN   \n",
       "0              0.161390                        0.723696   \n",
       "\n",
       "   perf_grp_false positive rate_1  perf_grp_false negative rate_0  \\\n",
       "0                             NaN                             NaN   \n",
       "0                        0.920456                        0.068412   \n",
       "0                             NaN                             NaN   \n",
       "0                        0.743028                        0.179054   \n",
       "\n",
       "   perf_grp_false negative rate_1  perf_grp_selection rate_0  \\\n",
       "0                             NaN                        NaN   \n",
       "0                        0.012910                   0.912317   \n",
       "0                             NaN                        NaN   \n",
       "0                        0.060832                   0.734907   \n",
       "\n",
       "   perf_grp_selection rate_1  perf_grp_count_0  perf_grp_count_1  \n",
       "0                        NaN               NaN               NaN  \n",
       "0                   0.929261           20540.0           69170.0  \n",
       "0                        NaN               NaN               NaN  \n",
       "0                   0.768946           20540.0           69170.0  \n",
       "\n",
       "[4 rows x 50 columns]"
      ]
     },
     "execution_count": 64,
     "metadata": {},
     "output_type": "execute_result"
    }
   ],
   "source": [
    "final_output = universe_analysis.generate_final_output(\n",
    "    y_pred_prob=probs_test,\n",
    "    y_test=y_true,\n",
    "    org_test=org_test,\n",
    "    filter_data=filter_sub_universe_data,\n",
    "    cp_metrics_df=cp_metrics_df,\n",
    "    save=True,\n",
    ")\n",
    "final_output"
   ]
  },
  {
   "cell_type": "code",
   "execution_count": null,
   "id": "8b80a1ff",
   "metadata": {
    "papermill": {
     "duration": 0.015016,
     "end_time": "2025-08-19T19:03:16.141022",
     "exception": false,
     "start_time": "2025-08-19T19:03:16.126006",
     "status": "completed"
    },
    "tags": []
   },
   "outputs": [],
   "source": []
  },
  {
   "cell_type": "code",
   "execution_count": null,
   "id": "275c9fad",
   "metadata": {
    "papermill": {
     "duration": 0.014914,
     "end_time": "2025-08-19T19:03:16.170873",
     "exception": false,
     "start_time": "2025-08-19T19:03:16.155959",
     "status": "completed"
    },
    "tags": []
   },
   "outputs": [],
   "source": []
  }
 ],
 "metadata": {
  "celltoolbar": "Tags",
  "kernelspec": {
   "display_name": "Python (CMA Fairness)",
   "language": "python",
   "name": "cma_fair_env"
  },
  "language_info": {
   "codemirror_mode": {
    "name": "ipython",
    "version": 3
   },
   "file_extension": ".py",
   "mimetype": "text/x-python",
   "name": "python",
   "nbconvert_exporter": "python",
   "pygments_lexer": "ipython3",
   "version": "3.10.12"
  },
  "papermill": {
   "default_parameters": {},
   "duration": 36.402403,
   "end_time": "2025-08-19T19:03:17.013753",
   "environment_variables": {},
   "exception": null,
   "input_path": "universe_analysis.ipynb",
   "output_path": "output/runs/3/notebooks/m_3-669d114df9ba63ffb1e3e62ad7fb5528.ipynb",
   "parameters": {
    "output_dir": "output",
    "run_no": "3",
    "seed": "2023",
    "universe": "{\"cutoff\": [\"quantile_0.1\", \"quantile_0.25\"], \"eval_fairness_grouping\": [\"majority-minority\", \"nationality-all\"], \"exclude_features\": \"age\", \"exclude_subgroups\": \"keep-all\", \"model\": \"rf\", \"scale\": \"do-not-scale\", \"training_size\": \"1k\", \"training_year\": \"2012_14\"}",
    "universe_id": "669d114df9ba63ffb1e3e62ad7fb5528"
   },
   "start_time": "2025-08-19T19:02:40.611350",
   "version": "2.6.0"
  }
 },
 "nbformat": 4,
 "nbformat_minor": 5
}