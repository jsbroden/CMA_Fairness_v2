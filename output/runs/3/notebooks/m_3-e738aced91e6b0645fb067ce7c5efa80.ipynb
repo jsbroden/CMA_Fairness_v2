{
 "cells": [
  {
   "cell_type": "markdown",
   "id": "ef23dbb3",
   "metadata": {
    "papermill": {
     "duration": 0.014886,
     "end_time": "2025-08-19T19:00:28.378586",
     "exception": false,
     "start_time": "2025-08-19T19:00:28.363700",
     "status": "completed"
    },
    "tags": []
   },
   "source": [
    "# Setup"
   ]
  },
  {
   "cell_type": "code",
   "execution_count": 1,
   "id": "0bc8e7dc",
   "metadata": {
    "execution": {
     "iopub.execute_input": "2025-08-19T19:00:28.403149Z",
     "iopub.status.busy": "2025-08-19T19:00:28.402288Z",
     "iopub.status.idle": "2025-08-19T19:00:28.414604Z",
     "shell.execute_reply": "2025-08-19T19:00:28.413845Z"
    },
    "papermill": {
     "duration": 0.024381,
     "end_time": "2025-08-19T19:00:28.416379",
     "exception": false,
     "start_time": "2025-08-19T19:00:28.391998",
     "status": "completed"
    },
    "tags": []
   },
   "outputs": [
    {
     "name": "stdout",
     "output_type": "stream",
     "text": [
      "/dss/dsshome1/0C/ra93lal2/cma/CMA_Fairness_v2\n"
     ]
    },
    {
     "name": "stderr",
     "output_type": "stream",
     "text": [
      "/dss/dsshome1/0C/ra93lal2/.local/share/virtualenvs/CMA_Fairness_v2-3j10GkSs/lib/python3.10/site-packages/IPython/core/magics/osm.py:393: UserWarning: This is now an optional IPython functionality, using bookmarks requires you to install the `pickleshare` library.\n",
      "  bkms = self.shell.db.get('bookmarks', {})\n",
      "/dss/dsshome1/0C/ra93lal2/.local/share/virtualenvs/CMA_Fairness_v2-3j10GkSs/lib/python3.10/site-packages/IPython/core/magics/osm.py:417: UserWarning: This is now an optional IPython functionality, setting dhist requires you to install the `pickleshare` library.\n",
      "  self.shell.db['dhist'] = compress_dhist(dhist)[-100:]\n"
     ]
    }
   ],
   "source": [
    "%cd ~/cma/CMA_Fairness_v2"
   ]
  },
  {
   "cell_type": "markdown",
   "id": "9d235661",
   "metadata": {
    "papermill": {
     "duration": 0.009459,
     "end_time": "2025-08-19T19:00:28.437548",
     "exception": false,
     "start_time": "2025-08-19T19:00:28.428089",
     "status": "completed"
    },
    "tags": []
   },
   "source": [
    "The following cell holds the definition of our parameters, these values can be overriden by rendering the with e.g. the following command:\n",
    "\n",
    "papermill -p alpha 0.2 -p ratio 0.3 universe_analysis.ipynb output/test_run.ipynb"
   ]
  },
  {
   "cell_type": "code",
   "execution_count": 2,
   "id": "4a789d8e",
   "metadata": {
    "execution": {
     "iopub.execute_input": "2025-08-19T19:00:28.457858Z",
     "iopub.status.busy": "2025-08-19T19:00:28.457459Z",
     "iopub.status.idle": "2025-08-19T19:00:28.462706Z",
     "shell.execute_reply": "2025-08-19T19:00:28.461900Z"
    },
    "papermill": {
     "duration": 0.017049,
     "end_time": "2025-08-19T19:00:28.464115",
     "exception": false,
     "start_time": "2025-08-19T19:00:28.447066",
     "status": "completed"
    },
    "tags": []
   },
   "outputs": [
    {
     "name": "stdout",
     "output_type": "stream",
     "text": [
      "Current working directory: /dss/dsshome1/0C/ra93lal2/cma/CMA_Fairness_v2\n"
     ]
    }
   ],
   "source": [
    "import os\n",
    "print(\"Current working directory:\", os.getcwd())"
   ]
  },
  {
   "cell_type": "code",
   "execution_count": 3,
   "id": "4132aaed",
   "metadata": {
    "execution": {
     "iopub.execute_input": "2025-08-19T19:00:28.485204Z",
     "iopub.status.busy": "2025-08-19T19:00:28.484900Z",
     "iopub.status.idle": "2025-08-19T19:00:28.490706Z",
     "shell.execute_reply": "2025-08-19T19:00:28.489956Z"
    },
    "papermill": {
     "duration": 0.023676,
     "end_time": "2025-08-19T19:00:28.497702",
     "exception": false,
     "start_time": "2025-08-19T19:00:28.474026",
     "status": "completed"
    },
    "tags": [
     "parameters"
    ]
   },
   "outputs": [],
   "source": [
    "run_no = 0\n",
    "universe_id = \"test\"\n",
    "universe = {\n",
    "    \"training_size\": \"5k\", # \"25k\", \"5k\", \"1k\"\n",
    "    \"training_year\": \"2012_14\", # \"2014\", \"2012_14\", \"2010_14\"\n",
    "    \"scale\": \"scale\", # \"scale\", \"do-not-scale\",\n",
    "    \"model\": \"elasticnet\", # \"logreg\", \"penalized_logreg\", \"rf\", \"gbm\", \"elasticnet\"\n",
    "    \"cutoff\": [\"quantile_0.15\", \"quantile_0.30\"],\n",
    "    \"exclude_features\": \"age\", # \"none\", \"nationality\", \"sex\", \"nationality-sex\", \"age\"\n",
    "    \"exclude_subgroups\": \"drop-non-german\", # \"keep-all\", \"drop-non-german\"\n",
    "    \"eval_fairness_grouping\": [\"majority-minority\", \"nationality-all\"]\n",
    "}\n",
    "\n",
    "output_dir=\"./output\"\n",
    "seed=0"
   ]
  },
  {
   "cell_type": "code",
   "execution_count": 4,
   "id": "ca604300",
   "metadata": {
    "execution": {
     "iopub.execute_input": "2025-08-19T19:00:28.523349Z",
     "iopub.status.busy": "2025-08-19T19:00:28.522927Z",
     "iopub.status.idle": "2025-08-19T19:00:28.528355Z",
     "shell.execute_reply": "2025-08-19T19:00:28.527567Z"
    },
    "papermill": {
     "duration": 0.020825,
     "end_time": "2025-08-19T19:00:28.531735",
     "exception": false,
     "start_time": "2025-08-19T19:00:28.510910",
     "status": "completed"
    },
    "tags": [
     "injected-parameters"
    ]
   },
   "outputs": [],
   "source": [
    "# Parameters\n",
    "universe_id = \"e738aced91e6b0645fb067ce7c5efa80\"\n",
    "run_no = \"3\"\n",
    "universe = \"{\\\"cutoff\\\": [\\\"quantile_0.1\\\", \\\"quantile_0.25\\\"], \\\"eval_fairness_grouping\\\": [\\\"majority-minority\\\", \\\"nationality-all\\\"], \\\"exclude_features\\\": \\\"none\\\", \\\"exclude_subgroups\\\": \\\"keep-all\\\", \\\"model\\\": \\\"logreg\\\", \\\"scale\\\": \\\"do-not-scale\\\", \\\"training_size\\\": \\\"1k\\\", \\\"training_year\\\": \\\"2012_14\\\"}\"\n",
    "output_dir = \"output\"\n",
    "seed = \"2023\"\n"
   ]
  },
  {
   "cell_type": "code",
   "execution_count": 5,
   "id": "a5d7941f",
   "metadata": {
    "execution": {
     "iopub.execute_input": "2025-08-19T19:00:28.552747Z",
     "iopub.status.busy": "2025-08-19T19:00:28.552357Z",
     "iopub.status.idle": "2025-08-19T19:00:28.557272Z",
     "shell.execute_reply": "2025-08-19T19:00:28.556444Z"
    },
    "papermill": {
     "duration": 0.016024,
     "end_time": "2025-08-19T19:00:28.558642",
     "exception": false,
     "start_time": "2025-08-19T19:00:28.542618",
     "status": "completed"
    },
    "tags": []
   },
   "outputs": [],
   "source": [
    "import json\n",
    "if isinstance(universe, str):\n",
    "    universe = json.loads(universe)"
   ]
  },
  {
   "cell_type": "code",
   "execution_count": 6,
   "id": "7076ccb1",
   "metadata": {
    "execution": {
     "iopub.execute_input": "2025-08-19T19:00:28.579521Z",
     "iopub.status.busy": "2025-08-19T19:00:28.579146Z",
     "iopub.status.idle": "2025-08-19T19:00:28.618420Z",
     "shell.execute_reply": "2025-08-19T19:00:28.617738Z"
    },
    "papermill": {
     "duration": 0.052193,
     "end_time": "2025-08-19T19:00:28.621465",
     "exception": false,
     "start_time": "2025-08-19T19:00:28.569272",
     "status": "completed"
    },
    "tags": []
   },
   "outputs": [],
   "source": [
    "# Auto-reload the custom package\n",
    "%load_ext autoreload\n",
    "%autoreload 1\n",
    "%aimport fairness_multiverse"
   ]
  },
  {
   "cell_type": "code",
   "execution_count": 7,
   "id": "94c8eb93",
   "metadata": {
    "execution": {
     "iopub.execute_input": "2025-08-19T19:00:28.657869Z",
     "iopub.status.busy": "2025-08-19T19:00:28.656726Z",
     "iopub.status.idle": "2025-08-19T19:00:30.254915Z",
     "shell.execute_reply": "2025-08-19T19:00:30.253932Z"
    },
    "papermill": {
     "duration": 1.61255,
     "end_time": "2025-08-19T19:00:30.256562",
     "exception": false,
     "start_time": "2025-08-19T19:00:28.644012",
     "status": "completed"
    },
    "tags": []
   },
   "outputs": [],
   "source": [
    "from fairness_multiverse.universe import UniverseAnalysis\n",
    "\n",
    "universe_analysis = UniverseAnalysis(\n",
    "    run_no = run_no,\n",
    "    universe_id = universe_id,\n",
    "    universe = universe,\n",
    "    output_dir=output_dir,\n",
    ")"
   ]
  },
  {
   "cell_type": "code",
   "execution_count": 8,
   "id": "2a6381cf",
   "metadata": {
    "execution": {
     "iopub.execute_input": "2025-08-19T19:00:30.278398Z",
     "iopub.status.busy": "2025-08-19T19:00:30.277768Z",
     "iopub.status.idle": "2025-08-19T19:00:30.286870Z",
     "shell.execute_reply": "2025-08-19T19:00:30.285146Z"
    },
    "papermill": {
     "duration": 0.02234,
     "end_time": "2025-08-19T19:00:30.288127",
     "exception": false,
     "start_time": "2025-08-19T19:00:30.265787",
     "status": "completed"
    },
    "tags": []
   },
   "outputs": [
    {
     "name": "stdout",
     "output_type": "stream",
     "text": [
      "Using Seed: 2023\n"
     ]
    }
   ],
   "source": [
    "import numpy as np\n",
    "parsed_seed = int(seed)\n",
    "np.random.seed(parsed_seed)\n",
    "print(f\"Using Seed: {parsed_seed}\")"
   ]
  },
  {
   "cell_type": "markdown",
   "id": "b6e958b4",
   "metadata": {
    "papermill": {
     "duration": 0.009278,
     "end_time": "2025-08-19T19:00:30.307857",
     "exception": false,
     "start_time": "2025-08-19T19:00:30.298579",
     "status": "completed"
    },
    "tags": []
   },
   "source": [
    "# Loading Data"
   ]
  },
  {
   "cell_type": "code",
   "execution_count": 9,
   "id": "98701482",
   "metadata": {
    "execution": {
     "iopub.execute_input": "2025-08-19T19:00:30.331404Z",
     "iopub.status.busy": "2025-08-19T19:00:30.330046Z",
     "iopub.status.idle": "2025-08-19T19:00:40.846040Z",
     "shell.execute_reply": "2025-08-19T19:00:40.844679Z"
    },
    "papermill": {
     "duration": 10.530361,
     "end_time": "2025-08-19T19:00:40.847488",
     "exception": false,
     "start_time": "2025-08-19T19:00:30.317127",
     "status": "completed"
    },
    "tags": []
   },
   "outputs": [
    {
     "name": "stdout",
     "output_type": "stream",
     "text": [
      "Loading SIAB data from cache: data/siab_cached.csv.gz\n"
     ]
    },
    {
     "name": "stdout",
     "output_type": "stream",
     "text": [
      "(643690, 164)\n"
     ]
    }
   ],
   "source": [
    "from pathlib import Path\n",
    "import pandas as pd\n",
    "\n",
    "# File paths\n",
    "raw_file = Path(\"data/raw/siab.csv\")\n",
    "cache_file = Path(\"data/siab_cached.csv.gz\")\n",
    "\n",
    "# Ensure cache directory exists\n",
    "cache_file.parent.mkdir(parents=True, exist_ok=True)\n",
    "\n",
    "# Load with simple caching\n",
    "if cache_file.exists():\n",
    "    print(f\"Loading SIAB data from cache: {cache_file}\")\n",
    "    siab = pd.read_csv(cache_file, compression='gzip')\n",
    "else:\n",
    "    print(f\"Cache not found. Reading raw SIAB data: {raw_file}\")\n",
    "    siab = pd.read_csv(raw_file)\n",
    "    siab.to_csv(cache_file, index=False, compression='gzip')\n",
    "    print(f\"Cached SIAB data to: {cache_file}\")\n",
    "\n",
    "print(siab.shape)"
   ]
  },
  {
   "cell_type": "code",
   "execution_count": 10,
   "id": "058d2abb",
   "metadata": {
    "execution": {
     "iopub.execute_input": "2025-08-19T19:00:40.880756Z",
     "iopub.status.busy": "2025-08-19T19:00:40.879965Z",
     "iopub.status.idle": "2025-08-19T19:00:41.073978Z",
     "shell.execute_reply": "2025-08-19T19:00:41.073267Z"
    },
    "papermill": {
     "duration": 0.215987,
     "end_time": "2025-08-19T19:00:41.075199",
     "exception": false,
     "start_time": "2025-08-19T19:00:40.859212",
     "status": "completed"
    },
    "tags": []
   },
   "outputs": [
    {
     "data": {
      "text/html": [
       "<div>\n",
       "<style scoped>\n",
       "    .dataframe tbody tr th:only-of-type {\n",
       "        vertical-align: middle;\n",
       "    }\n",
       "\n",
       "    .dataframe tbody tr th {\n",
       "        vertical-align: top;\n",
       "    }\n",
       "\n",
       "    .dataframe thead th {\n",
       "        text-align: right;\n",
       "    }\n",
       "</style>\n",
       "<table border=\"1\" class=\"dataframe\">\n",
       "  <thead>\n",
       "    <tr style=\"text-align: right;\">\n",
       "      <th></th>\n",
       "      <th>persnr</th>\n",
       "      <th>year</th>\n",
       "      <th>nrEntry</th>\n",
       "      <th>ltue</th>\n",
       "      <th>employed_before</th>\n",
       "      <th>receipt_leh_before</th>\n",
       "      <th>receipt_lhg_before</th>\n",
       "      <th>se_before</th>\n",
       "      <th>ASU_notue_seeking_before</th>\n",
       "      <th>ASU_other_before</th>\n",
       "      <th>...</th>\n",
       "      <th>minijob_tot_dur_byage</th>\n",
       "      <th>ft_tot_dur_byage</th>\n",
       "      <th>befrist_tot_dur_byage</th>\n",
       "      <th>leih_tot_dur_byage</th>\n",
       "      <th>LHG_tot_dur_byage</th>\n",
       "      <th>LEH_tot_dur_byage</th>\n",
       "      <th>almp_tot_dur_byage</th>\n",
       "      <th>almp_aw_tot_dur_byage</th>\n",
       "      <th>se_tot_dur_byage</th>\n",
       "      <th>seeking1_tot_dur_byage</th>\n",
       "    </tr>\n",
       "  </thead>\n",
       "  <tbody>\n",
       "    <tr>\n",
       "      <th>0</th>\n",
       "      <td>7</td>\n",
       "      <td>2015</td>\n",
       "      <td>1</td>\n",
       "      <td>0</td>\n",
       "      <td>1</td>\n",
       "      <td>0</td>\n",
       "      <td>0</td>\n",
       "      <td>0</td>\n",
       "      <td>1</td>\n",
       "      <td>0</td>\n",
       "      <td>...</td>\n",
       "      <td>0.000000</td>\n",
       "      <td>0.000000</td>\n",
       "      <td>15.043478</td>\n",
       "      <td>0.000000</td>\n",
       "      <td>0.000000</td>\n",
       "      <td>0.000000</td>\n",
       "      <td>0.000000</td>\n",
       "      <td>0.000000</td>\n",
       "      <td>0.000000</td>\n",
       "      <td>0.000000</td>\n",
       "    </tr>\n",
       "    <tr>\n",
       "      <th>1</th>\n",
       "      <td>18</td>\n",
       "      <td>2010</td>\n",
       "      <td>1</td>\n",
       "      <td>1</td>\n",
       "      <td>0</td>\n",
       "      <td>0</td>\n",
       "      <td>0</td>\n",
       "      <td>0</td>\n",
       "      <td>0</td>\n",
       "      <td>0</td>\n",
       "      <td>...</td>\n",
       "      <td>0.000000</td>\n",
       "      <td>0.000000</td>\n",
       "      <td>0.000000</td>\n",
       "      <td>0.000000</td>\n",
       "      <td>0.000000</td>\n",
       "      <td>0.000000</td>\n",
       "      <td>0.000000</td>\n",
       "      <td>0.000000</td>\n",
       "      <td>0.000000</td>\n",
       "      <td>0.000000</td>\n",
       "    </tr>\n",
       "    <tr>\n",
       "      <th>2</th>\n",
       "      <td>18</td>\n",
       "      <td>2011</td>\n",
       "      <td>2</td>\n",
       "      <td>0</td>\n",
       "      <td>1</td>\n",
       "      <td>0</td>\n",
       "      <td>1</td>\n",
       "      <td>0</td>\n",
       "      <td>1</td>\n",
       "      <td>0</td>\n",
       "      <td>...</td>\n",
       "      <td>2.714286</td>\n",
       "      <td>2.714286</td>\n",
       "      <td>0.000000</td>\n",
       "      <td>0.000000</td>\n",
       "      <td>10.775510</td>\n",
       "      <td>0.000000</td>\n",
       "      <td>8.367347</td>\n",
       "      <td>0.000000</td>\n",
       "      <td>0.000000</td>\n",
       "      <td>9.836735</td>\n",
       "    </tr>\n",
       "    <tr>\n",
       "      <th>3</th>\n",
       "      <td>18</td>\n",
       "      <td>2012</td>\n",
       "      <td>3</td>\n",
       "      <td>0</td>\n",
       "      <td>1</td>\n",
       "      <td>0</td>\n",
       "      <td>1</td>\n",
       "      <td>0</td>\n",
       "      <td>1</td>\n",
       "      <td>0</td>\n",
       "      <td>...</td>\n",
       "      <td>4.200000</td>\n",
       "      <td>4.200000</td>\n",
       "      <td>0.000000</td>\n",
       "      <td>0.000000</td>\n",
       "      <td>12.100000</td>\n",
       "      <td>0.000000</td>\n",
       "      <td>9.400000</td>\n",
       "      <td>0.000000</td>\n",
       "      <td>0.000000</td>\n",
       "      <td>9.960000</td>\n",
       "    </tr>\n",
       "    <tr>\n",
       "      <th>4</th>\n",
       "      <td>18</td>\n",
       "      <td>2012</td>\n",
       "      <td>4</td>\n",
       "      <td>0</td>\n",
       "      <td>1</td>\n",
       "      <td>0</td>\n",
       "      <td>1</td>\n",
       "      <td>0</td>\n",
       "      <td>1</td>\n",
       "      <td>0</td>\n",
       "      <td>...</td>\n",
       "      <td>5.460000</td>\n",
       "      <td>5.460000</td>\n",
       "      <td>0.000000</td>\n",
       "      <td>0.000000</td>\n",
       "      <td>13.360000</td>\n",
       "      <td>0.000000</td>\n",
       "      <td>10.320000</td>\n",
       "      <td>0.000000</td>\n",
       "      <td>0.000000</td>\n",
       "      <td>10.280000</td>\n",
       "    </tr>\n",
       "    <tr>\n",
       "      <th>...</th>\n",
       "      <td>...</td>\n",
       "      <td>...</td>\n",
       "      <td>...</td>\n",
       "      <td>...</td>\n",
       "      <td>...</td>\n",
       "      <td>...</td>\n",
       "      <td>...</td>\n",
       "      <td>...</td>\n",
       "      <td>...</td>\n",
       "      <td>...</td>\n",
       "      <td>...</td>\n",
       "      <td>...</td>\n",
       "      <td>...</td>\n",
       "      <td>...</td>\n",
       "      <td>...</td>\n",
       "      <td>...</td>\n",
       "      <td>...</td>\n",
       "      <td>...</td>\n",
       "      <td>...</td>\n",
       "      <td>...</td>\n",
       "      <td>...</td>\n",
       "    </tr>\n",
       "    <tr>\n",
       "      <th>643685</th>\n",
       "      <td>1827860</td>\n",
       "      <td>2013</td>\n",
       "      <td>1</td>\n",
       "      <td>0</td>\n",
       "      <td>0</td>\n",
       "      <td>0</td>\n",
       "      <td>1</td>\n",
       "      <td>0</td>\n",
       "      <td>0</td>\n",
       "      <td>1</td>\n",
       "      <td>...</td>\n",
       "      <td>0.000000</td>\n",
       "      <td>0.000000</td>\n",
       "      <td>0.000000</td>\n",
       "      <td>0.000000</td>\n",
       "      <td>0.612903</td>\n",
       "      <td>0.000000</td>\n",
       "      <td>0.000000</td>\n",
       "      <td>0.000000</td>\n",
       "      <td>0.000000</td>\n",
       "      <td>0.000000</td>\n",
       "    </tr>\n",
       "    <tr>\n",
       "      <th>643686</th>\n",
       "      <td>1827860</td>\n",
       "      <td>2015</td>\n",
       "      <td>2</td>\n",
       "      <td>1</td>\n",
       "      <td>0</td>\n",
       "      <td>0</td>\n",
       "      <td>1</td>\n",
       "      <td>0</td>\n",
       "      <td>1</td>\n",
       "      <td>0</td>\n",
       "      <td>...</td>\n",
       "      <td>0.000000</td>\n",
       "      <td>0.000000</td>\n",
       "      <td>0.212121</td>\n",
       "      <td>0.212121</td>\n",
       "      <td>17.363636</td>\n",
       "      <td>0.000000</td>\n",
       "      <td>8.909091</td>\n",
       "      <td>0.000000</td>\n",
       "      <td>0.000000</td>\n",
       "      <td>7.121212</td>\n",
       "    </tr>\n",
       "    <tr>\n",
       "      <th>643687</th>\n",
       "      <td>1827860</td>\n",
       "      <td>2016</td>\n",
       "      <td>3</td>\n",
       "      <td>1</td>\n",
       "      <td>0</td>\n",
       "      <td>0</td>\n",
       "      <td>1</td>\n",
       "      <td>1</td>\n",
       "      <td>0</td>\n",
       "      <td>1</td>\n",
       "      <td>...</td>\n",
       "      <td>0.000000</td>\n",
       "      <td>0.000000</td>\n",
       "      <td>0.294118</td>\n",
       "      <td>0.205882</td>\n",
       "      <td>34.705882</td>\n",
       "      <td>0.000000</td>\n",
       "      <td>10.352941</td>\n",
       "      <td>1.705882</td>\n",
       "      <td>1.705882</td>\n",
       "      <td>23.911765</td>\n",
       "    </tr>\n",
       "    <tr>\n",
       "      <th>643688</th>\n",
       "      <td>1827869</td>\n",
       "      <td>2013</td>\n",
       "      <td>1</td>\n",
       "      <td>1</td>\n",
       "      <td>1</td>\n",
       "      <td>0</td>\n",
       "      <td>0</td>\n",
       "      <td>0</td>\n",
       "      <td>1</td>\n",
       "      <td>0</td>\n",
       "      <td>...</td>\n",
       "      <td>0.000000</td>\n",
       "      <td>0.000000</td>\n",
       "      <td>0.000000</td>\n",
       "      <td>0.000000</td>\n",
       "      <td>0.000000</td>\n",
       "      <td>0.525424</td>\n",
       "      <td>0.000000</td>\n",
       "      <td>0.000000</td>\n",
       "      <td>0.000000</td>\n",
       "      <td>0.000000</td>\n",
       "    </tr>\n",
       "    <tr>\n",
       "      <th>643689</th>\n",
       "      <td>1827869</td>\n",
       "      <td>2014</td>\n",
       "      <td>2</td>\n",
       "      <td>0</td>\n",
       "      <td>0</td>\n",
       "      <td>1</td>\n",
       "      <td>0</td>\n",
       "      <td>0</td>\n",
       "      <td>1</td>\n",
       "      <td>0</td>\n",
       "      <td>...</td>\n",
       "      <td>0.000000</td>\n",
       "      <td>0.666667</td>\n",
       "      <td>0.666667</td>\n",
       "      <td>0.000000</td>\n",
       "      <td>0.000000</td>\n",
       "      <td>8.950000</td>\n",
       "      <td>1.033333</td>\n",
       "      <td>0.083333</td>\n",
       "      <td>0.083333</td>\n",
       "      <td>8.133333</td>\n",
       "    </tr>\n",
       "  </tbody>\n",
       "</table>\n",
       "<p>643690 rows × 164 columns</p>\n",
       "</div>"
      ],
      "text/plain": [
       "         persnr  year  nrEntry  ltue  employed_before  receipt_leh_before  \\\n",
       "0             7  2015        1     0                1                   0   \n",
       "1            18  2010        1     1                0                   0   \n",
       "2            18  2011        2     0                1                   0   \n",
       "3            18  2012        3     0                1                   0   \n",
       "4            18  2012        4     0                1                   0   \n",
       "...         ...   ...      ...   ...              ...                 ...   \n",
       "643685  1827860  2013        1     0                0                   0   \n",
       "643686  1827860  2015        2     1                0                   0   \n",
       "643687  1827860  2016        3     1                0                   0   \n",
       "643688  1827869  2013        1     1                1                   0   \n",
       "643689  1827869  2014        2     0                0                   1   \n",
       "\n",
       "        receipt_lhg_before  se_before  ASU_notue_seeking_before  \\\n",
       "0                        0          0                         1   \n",
       "1                        0          0                         0   \n",
       "2                        1          0                         1   \n",
       "3                        1          0                         1   \n",
       "4                        1          0                         1   \n",
       "...                    ...        ...                       ...   \n",
       "643685                   1          0                         0   \n",
       "643686                   1          0                         1   \n",
       "643687                   1          1                         0   \n",
       "643688                   0          0                         1   \n",
       "643689                   0          0                         1   \n",
       "\n",
       "        ASU_other_before  ...  minijob_tot_dur_byage  ft_tot_dur_byage  \\\n",
       "0                      0  ...               0.000000          0.000000   \n",
       "1                      0  ...               0.000000          0.000000   \n",
       "2                      0  ...               2.714286          2.714286   \n",
       "3                      0  ...               4.200000          4.200000   \n",
       "4                      0  ...               5.460000          5.460000   \n",
       "...                  ...  ...                    ...               ...   \n",
       "643685                 1  ...               0.000000          0.000000   \n",
       "643686                 0  ...               0.000000          0.000000   \n",
       "643687                 1  ...               0.000000          0.000000   \n",
       "643688                 0  ...               0.000000          0.000000   \n",
       "643689                 0  ...               0.000000          0.666667   \n",
       "\n",
       "        befrist_tot_dur_byage  leih_tot_dur_byage  LHG_tot_dur_byage  \\\n",
       "0                   15.043478            0.000000           0.000000   \n",
       "1                    0.000000            0.000000           0.000000   \n",
       "2                    0.000000            0.000000          10.775510   \n",
       "3                    0.000000            0.000000          12.100000   \n",
       "4                    0.000000            0.000000          13.360000   \n",
       "...                       ...                 ...                ...   \n",
       "643685               0.000000            0.000000           0.612903   \n",
       "643686               0.212121            0.212121          17.363636   \n",
       "643687               0.294118            0.205882          34.705882   \n",
       "643688               0.000000            0.000000           0.000000   \n",
       "643689               0.666667            0.000000           0.000000   \n",
       "\n",
       "        LEH_tot_dur_byage  almp_tot_dur_byage  almp_aw_tot_dur_byage  \\\n",
       "0                0.000000            0.000000               0.000000   \n",
       "1                0.000000            0.000000               0.000000   \n",
       "2                0.000000            8.367347               0.000000   \n",
       "3                0.000000            9.400000               0.000000   \n",
       "4                0.000000           10.320000               0.000000   \n",
       "...                   ...                 ...                    ...   \n",
       "643685           0.000000            0.000000               0.000000   \n",
       "643686           0.000000            8.909091               0.000000   \n",
       "643687           0.000000           10.352941               1.705882   \n",
       "643688           0.525424            0.000000               0.000000   \n",
       "643689           8.950000            1.033333               0.083333   \n",
       "\n",
       "        se_tot_dur_byage  seeking1_tot_dur_byage  \n",
       "0               0.000000                0.000000  \n",
       "1               0.000000                0.000000  \n",
       "2               0.000000                9.836735  \n",
       "3               0.000000                9.960000  \n",
       "4               0.000000               10.280000  \n",
       "...                  ...                     ...  \n",
       "643685          0.000000                0.000000  \n",
       "643686          0.000000                7.121212  \n",
       "643687          1.705882               23.911765  \n",
       "643688          0.000000                0.000000  \n",
       "643689          0.083333                8.133333  \n",
       "\n",
       "[643690 rows x 164 columns]"
      ]
     },
     "execution_count": 10,
     "metadata": {},
     "output_type": "execute_result"
    }
   ],
   "source": [
    "siab"
   ]
  },
  {
   "cell_type": "markdown",
   "id": "1f87e805",
   "metadata": {
    "papermill": {
     "duration": 0.009425,
     "end_time": "2025-08-19T19:00:41.094793",
     "exception": false,
     "start_time": "2025-08-19T19:00:41.085368",
     "status": "completed"
    },
    "tags": []
   },
   "source": [
    "# Splitting Data and Setting Training Data Size"
   ]
  },
  {
   "cell_type": "code",
   "execution_count": 11,
   "id": "910ae358",
   "metadata": {
    "execution": {
     "iopub.execute_input": "2025-08-19T19:00:41.116636Z",
     "iopub.status.busy": "2025-08-19T19:00:41.115470Z",
     "iopub.status.idle": "2025-08-19T19:00:41.809287Z",
     "shell.execute_reply": "2025-08-19T19:00:41.808636Z"
    },
    "papermill": {
     "duration": 0.706815,
     "end_time": "2025-08-19T19:00:41.810947",
     "exception": false,
     "start_time": "2025-08-19T19:00:41.104132",
     "status": "completed"
    },
    "tags": []
   },
   "outputs": [],
   "source": [
    "from fairness_multiverse.universe import sample_by_year_size\n",
    "\n",
    "siab_train = sample_by_year_size(siab,\n",
    "                               training_year=universe[\"training_year\"],\n",
    "                               training_size=universe[\"training_size\"])"
   ]
  },
  {
   "cell_type": "code",
   "execution_count": 12,
   "id": "919c8ff5",
   "metadata": {
    "execution": {
     "iopub.execute_input": "2025-08-19T19:00:41.838986Z",
     "iopub.status.busy": "2025-08-19T19:00:41.838256Z",
     "iopub.status.idle": "2025-08-19T19:00:41.848128Z",
     "shell.execute_reply": "2025-08-19T19:00:41.846703Z"
    },
    "papermill": {
     "duration": 0.023342,
     "end_time": "2025-08-19T19:00:41.849600",
     "exception": false,
     "start_time": "2025-08-19T19:00:41.826258",
     "status": "completed"
    },
    "tags": []
   },
   "outputs": [
    {
     "data": {
      "text/plain": [
       "(1000, 164)"
      ]
     },
     "execution_count": 12,
     "metadata": {},
     "output_type": "execute_result"
    }
   ],
   "source": [
    "siab_train.shape"
   ]
  },
  {
   "cell_type": "code",
   "execution_count": 13,
   "id": "feb13bf4",
   "metadata": {
    "execution": {
     "iopub.execute_input": "2025-08-19T19:00:41.874810Z",
     "iopub.status.busy": "2025-08-19T19:00:41.873765Z",
     "iopub.status.idle": "2025-08-19T19:00:41.901808Z",
     "shell.execute_reply": "2025-08-19T19:00:41.900727Z"
    },
    "papermill": {
     "duration": 0.041882,
     "end_time": "2025-08-19T19:00:41.904232",
     "exception": false,
     "start_time": "2025-08-19T19:00:41.862350",
     "status": "completed"
    },
    "tags": []
   },
   "outputs": [
    {
     "data": {
      "text/plain": [
       "year\n",
       "2012    334\n",
       "2013    333\n",
       "2014    333\n",
       "dtype: int64"
      ]
     },
     "metadata": {},
     "output_type": "display_data"
    }
   ],
   "source": [
    "display(siab_train.groupby(\"year\").size())"
   ]
  },
  {
   "cell_type": "code",
   "execution_count": 14,
   "id": "0997782f",
   "metadata": {
    "execution": {
     "iopub.execute_input": "2025-08-19T19:00:41.941463Z",
     "iopub.status.busy": "2025-08-19T19:00:41.940207Z",
     "iopub.status.idle": "2025-08-19T19:00:42.228707Z",
     "shell.execute_reply": "2025-08-19T19:00:42.227861Z"
    },
    "papermill": {
     "duration": 0.306992,
     "end_time": "2025-08-19T19:00:42.232022",
     "exception": false,
     "start_time": "2025-08-19T19:00:41.925030",
     "status": "completed"
    },
    "tags": []
   },
   "outputs": [],
   "source": [
    "#siab_train = siab_s[siab_s.year < 2015]\n",
    "siab_calib = siab[siab.year == 2015]\n",
    "siab_test = siab[siab.year == 2016]"
   ]
  },
  {
   "cell_type": "code",
   "execution_count": 15,
   "id": "2c1e4012",
   "metadata": {
    "execution": {
     "iopub.execute_input": "2025-08-19T19:00:42.272045Z",
     "iopub.status.busy": "2025-08-19T19:00:42.271088Z",
     "iopub.status.idle": "2025-08-19T19:00:42.279022Z",
     "shell.execute_reply": "2025-08-19T19:00:42.277372Z"
    },
    "papermill": {
     "duration": 0.023488,
     "end_time": "2025-08-19T19:00:42.280525",
     "exception": false,
     "start_time": "2025-08-19T19:00:42.257037",
     "status": "completed"
    },
    "tags": []
   },
   "outputs": [],
   "source": [
    "#siab_calib.shape"
   ]
  },
  {
   "cell_type": "code",
   "execution_count": 16,
   "id": "f66b54ca",
   "metadata": {
    "execution": {
     "iopub.execute_input": "2025-08-19T19:00:42.305708Z",
     "iopub.status.busy": "2025-08-19T19:00:42.304659Z",
     "iopub.status.idle": "2025-08-19T19:00:42.311980Z",
     "shell.execute_reply": "2025-08-19T19:00:42.310412Z"
    },
    "papermill": {
     "duration": 0.021216,
     "end_time": "2025-08-19T19:00:42.313680",
     "exception": false,
     "start_time": "2025-08-19T19:00:42.292464",
     "status": "completed"
    },
    "tags": []
   },
   "outputs": [],
   "source": [
    "#siab_test.shape"
   ]
  },
  {
   "cell_type": "code",
   "execution_count": 17,
   "id": "27e4384d",
   "metadata": {
    "execution": {
     "iopub.execute_input": "2025-08-19T19:00:42.338752Z",
     "iopub.status.busy": "2025-08-19T19:00:42.338116Z",
     "iopub.status.idle": "2025-08-19T19:00:42.351690Z",
     "shell.execute_reply": "2025-08-19T19:00:42.350525Z"
    },
    "papermill": {
     "duration": 0.027093,
     "end_time": "2025-08-19T19:00:42.353705",
     "exception": false,
     "start_time": "2025-08-19T19:00:42.326612",
     "status": "completed"
    },
    "tags": []
   },
   "outputs": [],
   "source": [
    "X_train = siab_train.iloc[:,4:164]\n",
    "y_train = siab_train.iloc[:, [3]]"
   ]
  },
  {
   "cell_type": "code",
   "execution_count": 18,
   "id": "08ee8389",
   "metadata": {
    "execution": {
     "iopub.execute_input": "2025-08-19T19:00:42.381189Z",
     "iopub.status.busy": "2025-08-19T19:00:42.380279Z",
     "iopub.status.idle": "2025-08-19T19:00:42.614392Z",
     "shell.execute_reply": "2025-08-19T19:00:42.613307Z"
    },
    "papermill": {
     "duration": 0.249779,
     "end_time": "2025-08-19T19:00:42.617786",
     "exception": false,
     "start_time": "2025-08-19T19:00:42.368007",
     "status": "completed"
    },
    "tags": []
   },
   "outputs": [],
   "source": [
    "X_calib = siab_calib.iloc[:,4:164]\n",
    "y_calib = siab_calib.iloc[:, [3]]"
   ]
  },
  {
   "cell_type": "code",
   "execution_count": 19,
   "id": "b7ff42e0",
   "metadata": {
    "execution": {
     "iopub.execute_input": "2025-08-19T19:00:42.655055Z",
     "iopub.status.busy": "2025-08-19T19:00:42.654141Z",
     "iopub.status.idle": "2025-08-19T19:00:42.722168Z",
     "shell.execute_reply": "2025-08-19T19:00:42.720607Z"
    },
    "papermill": {
     "duration": 0.084566,
     "end_time": "2025-08-19T19:00:42.725823",
     "exception": false,
     "start_time": "2025-08-19T19:00:42.641257",
     "status": "completed"
    },
    "tags": []
   },
   "outputs": [],
   "source": [
    "X_test = siab_test.iloc[:,4:164]\n",
    "y_true = siab_test.iloc[:, [3]]"
   ]
  },
  {
   "cell_type": "code",
   "execution_count": 20,
   "id": "0275101e",
   "metadata": {
    "execution": {
     "iopub.execute_input": "2025-08-19T19:00:42.773682Z",
     "iopub.status.busy": "2025-08-19T19:00:42.772181Z",
     "iopub.status.idle": "2025-08-19T19:00:42.901831Z",
     "shell.execute_reply": "2025-08-19T19:00:42.900812Z"
    },
    "papermill": {
     "duration": 0.147411,
     "end_time": "2025-08-19T19:00:42.903428",
     "exception": false,
     "start_time": "2025-08-19T19:00:42.756017",
     "status": "completed"
    },
    "tags": []
   },
   "outputs": [],
   "source": [
    "# Auxiliary data needed downstream in the pipeline\n",
    "\n",
    "org_train = X_train.copy()\n",
    "org_test = X_test.copy()\n",
    "org_calib = X_calib.copy()"
   ]
  },
  {
   "cell_type": "markdown",
   "id": "b461e618",
   "metadata": {
    "papermill": {
     "duration": 0.010038,
     "end_time": "2025-08-19T19:00:42.923823",
     "exception": false,
     "start_time": "2025-08-19T19:00:42.913785",
     "status": "completed"
    },
    "tags": []
   },
   "source": [
    "# Preprocessing Data"
   ]
  },
  {
   "cell_type": "code",
   "execution_count": 21,
   "id": "78e74c4b",
   "metadata": {
    "execution": {
     "iopub.execute_input": "2025-08-19T19:00:42.944956Z",
     "iopub.status.busy": "2025-08-19T19:00:42.944588Z",
     "iopub.status.idle": "2025-08-19T19:00:42.950453Z",
     "shell.execute_reply": "2025-08-19T19:00:42.949631Z"
    },
    "papermill": {
     "duration": 0.027451,
     "end_time": "2025-08-19T19:00:42.961300",
     "exception": false,
     "start_time": "2025-08-19T19:00:42.933849",
     "status": "completed"
    },
    "tags": []
   },
   "outputs": [],
   "source": [
    "# EXCLUDE PROTECTED FEATURES\n",
    "# --------------------------\n",
    "\n",
    "excluded_features = universe[\"exclude_features\"].split(\"-\")\n",
    "excluded_features_dictionary = {\n",
    "    \"nationality\": [\"maxdeutsch1\", \"maxdeutsch.Missing.\"],\n",
    "    \"sex\": [\"frau1\"],\n",
    "    \"age\": [\"age\"],\n",
    "}"
   ]
  },
  {
   "cell_type": "code",
   "execution_count": 22,
   "id": "f8e63555",
   "metadata": {
    "execution": {
     "iopub.execute_input": "2025-08-19T19:00:42.992215Z",
     "iopub.status.busy": "2025-08-19T19:00:42.991480Z",
     "iopub.status.idle": "2025-08-19T19:00:42.995919Z",
     "shell.execute_reply": "2025-08-19T19:00:42.995248Z"
    },
    "papermill": {
     "duration": 0.017119,
     "end_time": "2025-08-19T19:00:42.997206",
     "exception": false,
     "start_time": "2025-08-19T19:00:42.980087",
     "status": "completed"
    },
    "tags": []
   },
   "outputs": [],
   "source": [
    "excluded_features_columns = [\n",
    "    excluded_features_dictionary[f] for f in excluded_features if len(f) > 0 and f != \"none\"\n",
    "]"
   ]
  },
  {
   "cell_type": "code",
   "execution_count": 23,
   "id": "da781f7c",
   "metadata": {
    "execution": {
     "iopub.execute_input": "2025-08-19T19:00:43.020838Z",
     "iopub.status.busy": "2025-08-19T19:00:43.020427Z",
     "iopub.status.idle": "2025-08-19T19:00:43.238987Z",
     "shell.execute_reply": "2025-08-19T19:00:43.238131Z"
    },
    "papermill": {
     "duration": 0.230793,
     "end_time": "2025-08-19T19:00:43.240504",
     "exception": false,
     "start_time": "2025-08-19T19:00:43.009711",
     "status": "completed"
    },
    "tags": []
   },
   "outputs": [],
   "source": [
    "from fairness_multiverse.universe import flatten_once\n",
    "\n",
    "excluded_features_columns = flatten_once(excluded_features_columns)"
   ]
  },
  {
   "cell_type": "code",
   "execution_count": 24,
   "id": "37fef0f0",
   "metadata": {
    "execution": {
     "iopub.execute_input": "2025-08-19T19:00:43.263548Z",
     "iopub.status.busy": "2025-08-19T19:00:43.263119Z",
     "iopub.status.idle": "2025-08-19T19:00:43.268894Z",
     "shell.execute_reply": "2025-08-19T19:00:43.267728Z"
    },
    "papermill": {
     "duration": 0.018429,
     "end_time": "2025-08-19T19:00:43.270101",
     "exception": false,
     "start_time": "2025-08-19T19:00:43.251672",
     "status": "completed"
    },
    "tags": []
   },
   "outputs": [],
   "source": [
    "if len(excluded_features_columns) > 0:\n",
    "    print(f\"Dropping features: {excluded_features_columns}\")\n",
    "    X_train.drop(excluded_features_columns, axis=1, inplace=True)"
   ]
  },
  {
   "cell_type": "code",
   "execution_count": 25,
   "id": "d029e3e9",
   "metadata": {
    "execution": {
     "iopub.execute_input": "2025-08-19T19:00:43.291245Z",
     "iopub.status.busy": "2025-08-19T19:00:43.290921Z",
     "iopub.status.idle": "2025-08-19T19:00:43.415914Z",
     "shell.execute_reply": "2025-08-19T19:00:43.413936Z"
    },
    "papermill": {
     "duration": 0.139152,
     "end_time": "2025-08-19T19:00:43.419305",
     "exception": false,
     "start_time": "2025-08-19T19:00:43.280153",
     "status": "completed"
    },
    "tags": []
   },
   "outputs": [],
   "source": [
    "if len(excluded_features_columns) > 0:\n",
    "    print(f\"Dropping features: {excluded_features_columns}\")\n",
    "    X_test.drop(excluded_features_columns, axis=1, inplace=True)"
   ]
  },
  {
   "cell_type": "code",
   "execution_count": 26,
   "id": "01d571f0",
   "metadata": {
    "execution": {
     "iopub.execute_input": "2025-08-19T19:00:43.456397Z",
     "iopub.status.busy": "2025-08-19T19:00:43.455436Z",
     "iopub.status.idle": "2025-08-19T19:00:43.463429Z",
     "shell.execute_reply": "2025-08-19T19:00:43.462238Z"
    },
    "papermill": {
     "duration": 0.022872,
     "end_time": "2025-08-19T19:00:43.464869",
     "exception": false,
     "start_time": "2025-08-19T19:00:43.441997",
     "status": "completed"
    },
    "tags": []
   },
   "outputs": [],
   "source": [
    "if len(excluded_features_columns) > 0:\n",
    "    print(f\"Dropping features: {excluded_features_columns}\")\n",
    "    X_calib.drop(excluded_features_columns, axis=1, inplace=True)"
   ]
  },
  {
   "cell_type": "code",
   "execution_count": 27,
   "id": "3037356e",
   "metadata": {
    "execution": {
     "iopub.execute_input": "2025-08-19T19:00:43.489738Z",
     "iopub.status.busy": "2025-08-19T19:00:43.488842Z",
     "iopub.status.idle": "2025-08-19T19:00:43.495957Z",
     "shell.execute_reply": "2025-08-19T19:00:43.494772Z"
    },
    "papermill": {
     "duration": 0.020248,
     "end_time": "2025-08-19T19:00:43.497622",
     "exception": false,
     "start_time": "2025-08-19T19:00:43.477374",
     "status": "completed"
    },
    "tags": []
   },
   "outputs": [],
   "source": [
    "# EXCLUDE CERTAIN SUBGROUPS\n",
    "# -------------------------\n",
    "\n",
    "mode = universe.get(\"exclude_subgroups\", \"keep-all\") # Defaults to \"keep-all\" if the key is missing."
   ]
  },
  {
   "cell_type": "code",
   "execution_count": 28,
   "id": "9d1e63fd",
   "metadata": {
    "execution": {
     "iopub.execute_input": "2025-08-19T19:00:43.522908Z",
     "iopub.status.busy": "2025-08-19T19:00:43.521965Z",
     "iopub.status.idle": "2025-08-19T19:00:43.532374Z",
     "shell.execute_reply": "2025-08-19T19:00:43.531188Z"
    },
    "papermill": {
     "duration": 0.023752,
     "end_time": "2025-08-19T19:00:43.533945",
     "exception": false,
     "start_time": "2025-08-19T19:00:43.510193",
     "status": "completed"
    },
    "tags": []
   },
   "outputs": [],
   "source": [
    "if mode == \"keep-all\":\n",
    "    keep_mask = pd.Series(True, index=org_train.index)\n",
    "\n",
    "elif mode == \"drop-non-german\":\n",
    "    keep_mask = (org_train[\"maxdeutsch1\"] == 1) & (org_train[\"maxdeutsch.Missing.\"] == 0)\n",
    "\n",
    "else:\n",
    "    raise ValueError(f\"Unsupported mode for exclude_subgroups: {mode}\")"
   ]
  },
  {
   "cell_type": "code",
   "execution_count": 29,
   "id": "d3b65474",
   "metadata": {
    "execution": {
     "iopub.execute_input": "2025-08-19T19:00:43.559125Z",
     "iopub.status.busy": "2025-08-19T19:00:43.558210Z",
     "iopub.status.idle": "2025-08-19T19:00:43.569013Z",
     "shell.execute_reply": "2025-08-19T19:00:43.567832Z"
    },
    "papermill": {
     "duration": 0.02426,
     "end_time": "2025-08-19T19:00:43.570659",
     "exception": false,
     "start_time": "2025-08-19T19:00:43.546399",
     "status": "completed"
    },
    "tags": []
   },
   "outputs": [],
   "source": [
    "n_drop = (~keep_mask).sum() # Calculates how many rows are set to be dropped\n",
    "if n_drop > 0:\n",
    "    pct = n_drop / len(keep_mask) * 100\n",
    "    print(f\"Dropping {n_drop} rows ({pct:.2f}%) where mode='{mode}'\")"
   ]
  },
  {
   "cell_type": "code",
   "execution_count": 30,
   "id": "f44389b3",
   "metadata": {
    "execution": {
     "iopub.execute_input": "2025-08-19T19:00:43.599181Z",
     "iopub.status.busy": "2025-08-19T19:00:43.598104Z",
     "iopub.status.idle": "2025-08-19T19:00:43.608617Z",
     "shell.execute_reply": "2025-08-19T19:00:43.607387Z"
    },
    "papermill": {
     "duration": 0.02687,
     "end_time": "2025-08-19T19:00:43.610197",
     "exception": false,
     "start_time": "2025-08-19T19:00:43.583327",
     "status": "completed"
    },
    "tags": []
   },
   "outputs": [],
   "source": [
    "X_train = X_train[keep_mask]"
   ]
  },
  {
   "cell_type": "code",
   "execution_count": 31,
   "id": "ceca8c2a",
   "metadata": {
    "execution": {
     "iopub.execute_input": "2025-08-19T19:00:43.634936Z",
     "iopub.status.busy": "2025-08-19T19:00:43.634038Z",
     "iopub.status.idle": "2025-08-19T19:00:43.641729Z",
     "shell.execute_reply": "2025-08-19T19:00:43.640598Z"
    },
    "papermill": {
     "duration": 0.020548,
     "end_time": "2025-08-19T19:00:43.643133",
     "exception": false,
     "start_time": "2025-08-19T19:00:43.622585",
     "status": "completed"
    },
    "tags": []
   },
   "outputs": [],
   "source": [
    "y_train = y_train[keep_mask]"
   ]
  },
  {
   "cell_type": "markdown",
   "id": "04d31e2f",
   "metadata": {
    "papermill": {
     "duration": 0.010253,
     "end_time": "2025-08-19T19:00:43.664112",
     "exception": false,
     "start_time": "2025-08-19T19:00:43.653859",
     "status": "completed"
    },
    "tags": []
   },
   "source": [
    "# Model Training"
   ]
  },
  {
   "cell_type": "code",
   "execution_count": 32,
   "id": "db991733",
   "metadata": {
    "execution": {
     "iopub.execute_input": "2025-08-19T19:00:43.686787Z",
     "iopub.status.busy": "2025-08-19T19:00:43.685887Z",
     "iopub.status.idle": "2025-08-19T19:00:43.794372Z",
     "shell.execute_reply": "2025-08-19T19:00:43.793330Z"
    },
    "papermill": {
     "duration": 0.123364,
     "end_time": "2025-08-19T19:00:43.797608",
     "exception": false,
     "start_time": "2025-08-19T19:00:43.674244",
     "status": "completed"
    },
    "tags": []
   },
   "outputs": [],
   "source": [
    "from sklearn.linear_model import LogisticRegression\n",
    "from sklearn.ensemble import GradientBoostingClassifier, RandomForestClassifier\n",
    "\n",
    "if (universe[\"model\"] == \"logreg\"):\n",
    "    model = LogisticRegression() #penalty=\"none\", solver=\"newton-cg\", max_iter=1)\n",
    "elif (universe[\"model\"] == \"penalized_logreg\"):\n",
    "    model = LogisticRegression(penalty=\"l2\", C=0.1) #, solver=\"newton-cg\", max_iter=1)\n",
    "elif (universe[\"model\"] == \"rf\"):\n",
    "    model = RandomForestClassifier() # n_estimators=100, n_jobs=-1\n",
    "elif (universe[\"model\"] == \"gbm\"):\n",
    "    model = GradientBoostingClassifier()\n",
    "elif (universe[\"model\"] == \"elasticnet\"):\n",
    "    model = LogisticRegression(penalty = 'elasticnet', solver = 'saga', l1_ratio = 0.5) # max_iter=5000\n",
    "else:\n",
    "    raise \"Unsupported universe.model\""
   ]
  },
  {
   "cell_type": "code",
   "execution_count": 33,
   "id": "a4b5cd25",
   "metadata": {
    "execution": {
     "iopub.execute_input": "2025-08-19T19:00:43.837771Z",
     "iopub.status.busy": "2025-08-19T19:00:43.836562Z",
     "iopub.status.idle": "2025-08-19T19:00:43.845438Z",
     "shell.execute_reply": "2025-08-19T19:00:43.844217Z"
    },
    "papermill": {
     "duration": 0.024177,
     "end_time": "2025-08-19T19:00:43.846798",
     "exception": false,
     "start_time": "2025-08-19T19:00:43.822621",
     "status": "completed"
    },
    "tags": []
   },
   "outputs": [],
   "source": [
    "from sklearn.pipeline import Pipeline\n",
    "from sklearn.preprocessing import StandardScaler\n",
    "\n",
    "model = Pipeline([\n",
    "    #(\"continuous_processor\", continuous_processor),\n",
    "    #(\"categorical_preprocessor\", categorical_preprocessor),\n",
    "    (\"scale\", StandardScaler() if universe[\"scale\"] == \"scale\" else None), \n",
    "    (\"model\", model),\n",
    "])"
   ]
  },
  {
   "cell_type": "code",
   "execution_count": 34,
   "id": "283a904d",
   "metadata": {
    "execution": {
     "iopub.execute_input": "2025-08-19T19:00:43.871680Z",
     "iopub.status.busy": "2025-08-19T19:00:43.869624Z",
     "iopub.status.idle": "2025-08-19T19:00:43.939694Z",
     "shell.execute_reply": "2025-08-19T19:00:43.938627Z"
    },
    "papermill": {
     "duration": 0.088699,
     "end_time": "2025-08-19T19:00:43.946418",
     "exception": false,
     "start_time": "2025-08-19T19:00:43.857719",
     "status": "completed"
    },
    "tags": []
   },
   "outputs": [
    {
     "name": "stderr",
     "output_type": "stream",
     "text": [
      "/dss/dsshome1/0C/ra93lal2/.local/share/virtualenvs/CMA_Fairness_v2-3j10GkSs/lib/python3.10/site-packages/sklearn/linear_model/_logistic.py:444: ConvergenceWarning: lbfgs failed to converge (status=1):\n",
      "STOP: TOTAL NO. of ITERATIONS REACHED LIMIT.\n",
      "\n",
      "Increase the number of iterations (max_iter) or scale the data as shown in:\n",
      "    https://scikit-learn.org/stable/modules/preprocessing.html\n",
      "Please also refer to the documentation for alternative solver options:\n",
      "    https://scikit-learn.org/stable/modules/linear_model.html#logistic-regression\n",
      "  n_iter_i = _check_optimize_result(\n"
     ]
    },
    {
     "data": {
      "text/html": [
       "<style>#sk-container-id-1 {color: black;background-color: white;}#sk-container-id-1 pre{padding: 0;}#sk-container-id-1 div.sk-toggleable {background-color: white;}#sk-container-id-1 label.sk-toggleable__label {cursor: pointer;display: block;width: 100%;margin-bottom: 0;padding: 0.3em;box-sizing: border-box;text-align: center;}#sk-container-id-1 label.sk-toggleable__label-arrow:before {content: \"▸\";float: left;margin-right: 0.25em;color: #696969;}#sk-container-id-1 label.sk-toggleable__label-arrow:hover:before {color: black;}#sk-container-id-1 div.sk-estimator:hover label.sk-toggleable__label-arrow:before {color: black;}#sk-container-id-1 div.sk-toggleable__content {max-height: 0;max-width: 0;overflow: hidden;text-align: left;background-color: #f0f8ff;}#sk-container-id-1 div.sk-toggleable__content pre {margin: 0.2em;color: black;border-radius: 0.25em;background-color: #f0f8ff;}#sk-container-id-1 input.sk-toggleable__control:checked~div.sk-toggleable__content {max-height: 200px;max-width: 100%;overflow: auto;}#sk-container-id-1 input.sk-toggleable__control:checked~label.sk-toggleable__label-arrow:before {content: \"▾\";}#sk-container-id-1 div.sk-estimator input.sk-toggleable__control:checked~label.sk-toggleable__label {background-color: #d4ebff;}#sk-container-id-1 div.sk-label input.sk-toggleable__control:checked~label.sk-toggleable__label {background-color: #d4ebff;}#sk-container-id-1 input.sk-hidden--visually {border: 0;clip: rect(1px 1px 1px 1px);clip: rect(1px, 1px, 1px, 1px);height: 1px;margin: -1px;overflow: hidden;padding: 0;position: absolute;width: 1px;}#sk-container-id-1 div.sk-estimator {font-family: monospace;background-color: #f0f8ff;border: 1px dotted black;border-radius: 0.25em;box-sizing: border-box;margin-bottom: 0.5em;}#sk-container-id-1 div.sk-estimator:hover {background-color: #d4ebff;}#sk-container-id-1 div.sk-parallel-item::after {content: \"\";width: 100%;border-bottom: 1px solid gray;flex-grow: 1;}#sk-container-id-1 div.sk-label:hover label.sk-toggleable__label {background-color: #d4ebff;}#sk-container-id-1 div.sk-serial::before {content: \"\";position: absolute;border-left: 1px solid gray;box-sizing: border-box;top: 0;bottom: 0;left: 50%;z-index: 0;}#sk-container-id-1 div.sk-serial {display: flex;flex-direction: column;align-items: center;background-color: white;padding-right: 0.2em;padding-left: 0.2em;position: relative;}#sk-container-id-1 div.sk-item {position: relative;z-index: 1;}#sk-container-id-1 div.sk-parallel {display: flex;align-items: stretch;justify-content: center;background-color: white;position: relative;}#sk-container-id-1 div.sk-item::before, #sk-container-id-1 div.sk-parallel-item::before {content: \"\";position: absolute;border-left: 1px solid gray;box-sizing: border-box;top: 0;bottom: 0;left: 50%;z-index: -1;}#sk-container-id-1 div.sk-parallel-item {display: flex;flex-direction: column;z-index: 1;position: relative;background-color: white;}#sk-container-id-1 div.sk-parallel-item:first-child::after {align-self: flex-end;width: 50%;}#sk-container-id-1 div.sk-parallel-item:last-child::after {align-self: flex-start;width: 50%;}#sk-container-id-1 div.sk-parallel-item:only-child::after {width: 0;}#sk-container-id-1 div.sk-dashed-wrapped {border: 1px dashed gray;margin: 0 0.4em 0.5em 0.4em;box-sizing: border-box;padding-bottom: 0.4em;background-color: white;}#sk-container-id-1 div.sk-label label {font-family: monospace;font-weight: bold;display: inline-block;line-height: 1.2em;}#sk-container-id-1 div.sk-label-container {text-align: center;}#sk-container-id-1 div.sk-container {/* jupyter's `normalize.less` sets `[hidden] { display: none; }` but bootstrap.min.css set `[hidden] { display: none !important; }` so we also need the `!important` here to be able to override the default hidden behavior on the sphinx rendered scikit-learn.org. See: https://github.com/scikit-learn/scikit-learn/issues/21755 */display: inline-block !important;position: relative;}#sk-container-id-1 div.sk-text-repr-fallback {display: none;}</style><div id=\"sk-container-id-1\" class=\"sk-top-container\"><div class=\"sk-text-repr-fallback\"><pre>Pipeline(steps=[(&#x27;scale&#x27;, None), (&#x27;model&#x27;, LogisticRegression())])</pre><b>In a Jupyter environment, please rerun this cell to show the HTML representation or trust the notebook. <br />On GitHub, the HTML representation is unable to render, please try loading this page with nbviewer.org.</b></div><div class=\"sk-container\" hidden><div class=\"sk-item sk-dashed-wrapped\"><div class=\"sk-label-container\"><div class=\"sk-label sk-toggleable\"><input class=\"sk-toggleable__control sk-hidden--visually\" id=\"sk-estimator-id-1\" type=\"checkbox\" ><label for=\"sk-estimator-id-1\" class=\"sk-toggleable__label sk-toggleable__label-arrow\">Pipeline</label><div class=\"sk-toggleable__content\"><pre>Pipeline(steps=[(&#x27;scale&#x27;, None), (&#x27;model&#x27;, LogisticRegression())])</pre></div></div></div><div class=\"sk-serial\"><div class=\"sk-item\"><div class=\"sk-estimator sk-toggleable\"><input class=\"sk-toggleable__control sk-hidden--visually\" id=\"sk-estimator-id-2\" type=\"checkbox\" ><label for=\"sk-estimator-id-2\" class=\"sk-toggleable__label sk-toggleable__label-arrow\">None</label><div class=\"sk-toggleable__content\"><pre>None</pre></div></div></div><div class=\"sk-item\"><div class=\"sk-estimator sk-toggleable\"><input class=\"sk-toggleable__control sk-hidden--visually\" id=\"sk-estimator-id-3\" type=\"checkbox\" ><label for=\"sk-estimator-id-3\" class=\"sk-toggleable__label sk-toggleable__label-arrow\">LogisticRegression</label><div class=\"sk-toggleable__content\"><pre>LogisticRegression()</pre></div></div></div></div></div></div></div>"
      ],
      "text/plain": [
       "Pipeline(steps=[('scale', None), ('model', LogisticRegression())])"
      ]
     },
     "execution_count": 34,
     "metadata": {},
     "output_type": "execute_result"
    }
   ],
   "source": [
    "model.fit(X_train, y_train.values.ravel())"
   ]
  },
  {
   "cell_type": "code",
   "execution_count": 35,
   "id": "6e15e313",
   "metadata": {
    "execution": {
     "iopub.execute_input": "2025-08-19T19:00:43.981821Z",
     "iopub.status.busy": "2025-08-19T19:00:43.980946Z",
     "iopub.status.idle": "2025-08-19T19:00:44.089394Z",
     "shell.execute_reply": "2025-08-19T19:00:44.088234Z"
    },
    "papermill": {
     "duration": 0.124108,
     "end_time": "2025-08-19T19:00:44.092162",
     "exception": false,
     "start_time": "2025-08-19T19:00:43.968054",
     "status": "completed"
    },
    "tags": []
   },
   "outputs": [
    {
     "data": {
      "text/plain": [
       "0.8631813621669825"
      ]
     },
     "execution_count": 35,
     "metadata": {},
     "output_type": "execute_result"
    }
   ],
   "source": [
    "from fairness_multiverse.universe import predict_w_threshold\n",
    "\n",
    "probs_test = model.predict_proba(X_test)\n",
    "\n",
    "'''\n",
    "Below code returns a boolean array (or binary 0/1 array depending on how it’s used) where each element \n",
    "is True if the probability of class 1 is greater than or equal to the threshold, and False otherwise.\n",
    "'''\n",
    "y_pred_default = predict_w_threshold(probs_test, 0.5)\n",
    "\n",
    "from sklearn.metrics import accuracy_score\n",
    "\n",
    "# Naive prediction\n",
    "accuracy_score(y_true = y_true, y_pred = y_pred_default)"
   ]
  },
  {
   "cell_type": "code",
   "execution_count": 36,
   "id": "6f14067c",
   "metadata": {
    "execution": {
     "iopub.execute_input": "2025-08-19T19:00:44.127201Z",
     "iopub.status.busy": "2025-08-19T19:00:44.126037Z",
     "iopub.status.idle": "2025-08-19T19:00:44.224438Z",
     "shell.execute_reply": "2025-08-19T19:00:44.223488Z"
    },
    "papermill": {
     "duration": 0.114754,
     "end_time": "2025-08-19T19:00:44.227845",
     "exception": false,
     "start_time": "2025-08-19T19:00:44.113091",
     "status": "completed"
    },
    "tags": []
   },
   "outputs": [
    {
     "data": {
      "text/plain": [
       "array([0, 0, 0, ..., 0, 0, 0])"
      ]
     },
     "execution_count": 36,
     "metadata": {},
     "output_type": "execute_result"
    }
   ],
   "source": [
    "model.predict(X_test)"
   ]
  },
  {
   "cell_type": "markdown",
   "id": "3759920c",
   "metadata": {
    "papermill": {
     "duration": 0.012428,
     "end_time": "2025-08-19T19:00:44.265038",
     "exception": false,
     "start_time": "2025-08-19T19:00:44.252610",
     "status": "completed"
    },
    "tags": []
   },
   "source": [
    "# Conformal Prediction"
   ]
  },
  {
   "cell_type": "code",
   "execution_count": 37,
   "id": "14b27f59",
   "metadata": {
    "execution": {
     "iopub.execute_input": "2025-08-19T19:00:44.289172Z",
     "iopub.status.busy": "2025-08-19T19:00:44.288776Z",
     "iopub.status.idle": "2025-08-19T19:00:44.293313Z",
     "shell.execute_reply": "2025-08-19T19:00:44.292594Z"
    },
    "papermill": {
     "duration": 0.018578,
     "end_time": "2025-08-19T19:00:44.294513",
     "exception": false,
     "start_time": "2025-08-19T19:00:44.275935",
     "status": "completed"
    },
    "tags": []
   },
   "outputs": [],
   "source": [
    "# Miscoverage level for conformal prediction (10% allowed error rate => 90% target coverage)\n",
    "alpha = 0.1"
   ]
  },
  {
   "cell_type": "code",
   "execution_count": 38,
   "id": "59102472",
   "metadata": {
    "execution": {
     "iopub.execute_input": "2025-08-19T19:00:44.317404Z",
     "iopub.status.busy": "2025-08-19T19:00:44.317017Z",
     "iopub.status.idle": "2025-08-19T19:00:44.420282Z",
     "shell.execute_reply": "2025-08-19T19:00:44.419399Z"
    },
    "papermill": {
     "duration": 0.116803,
     "end_time": "2025-08-19T19:00:44.422284",
     "exception": false,
     "start_time": "2025-08-19T19:00:44.305481",
     "status": "completed"
    },
    "tags": []
   },
   "outputs": [],
   "source": [
    "probs_calib = model.predict_proba(X_calib)"
   ]
  },
  {
   "cell_type": "code",
   "execution_count": 39,
   "id": "a792d4dd",
   "metadata": {
    "execution": {
     "iopub.execute_input": "2025-08-19T19:00:44.447825Z",
     "iopub.status.busy": "2025-08-19T19:00:44.447451Z",
     "iopub.status.idle": "2025-08-19T19:00:44.451859Z",
     "shell.execute_reply": "2025-08-19T19:00:44.451250Z"
    },
    "papermill": {
     "duration": 0.017521,
     "end_time": "2025-08-19T19:00:44.453340",
     "exception": false,
     "start_time": "2025-08-19T19:00:44.435819",
     "status": "completed"
    },
    "tags": []
   },
   "outputs": [],
   "source": [
    "y_calib = y_calib.values.ravel().astype(int)"
   ]
  },
  {
   "cell_type": "code",
   "execution_count": 40,
   "id": "650fd033",
   "metadata": {
    "execution": {
     "iopub.execute_input": "2025-08-19T19:00:44.476179Z",
     "iopub.status.busy": "2025-08-19T19:00:44.475834Z",
     "iopub.status.idle": "2025-08-19T19:00:44.481576Z",
     "shell.execute_reply": "2025-08-19T19:00:44.480984Z"
    },
    "papermill": {
     "duration": 0.018834,
     "end_time": "2025-08-19T19:00:44.483026",
     "exception": false,
     "start_time": "2025-08-19T19:00:44.464192",
     "status": "completed"
    },
    "tags": []
   },
   "outputs": [],
   "source": [
    "from fairness_multiverse.conformal import compute_nc_scores\n",
    "\n",
    "# Compute nonconformity scores on calibration set (1 - probability of true class)\n",
    "nc_scores = compute_nc_scores(probs_calib, y_calib)"
   ]
  },
  {
   "cell_type": "code",
   "execution_count": 41,
   "id": "28ada44c",
   "metadata": {
    "execution": {
     "iopub.execute_input": "2025-08-19T19:00:44.506085Z",
     "iopub.status.busy": "2025-08-19T19:00:44.505732Z",
     "iopub.status.idle": "2025-08-19T19:00:44.511377Z",
     "shell.execute_reply": "2025-08-19T19:00:44.510586Z"
    },
    "papermill": {
     "duration": 0.019211,
     "end_time": "2025-08-19T19:00:44.513223",
     "exception": false,
     "start_time": "2025-08-19T19:00:44.494012",
     "status": "completed"
    },
    "tags": []
   },
   "outputs": [],
   "source": [
    "from fairness_multiverse.conformal import find_threshold\n",
    "\n",
    "# Find conformal threshold q_hat for the given alpha (split conformal method)\n",
    "q_hat = find_threshold(nc_scores, alpha)"
   ]
  },
  {
   "cell_type": "code",
   "execution_count": 42,
   "id": "df56469e",
   "metadata": {
    "execution": {
     "iopub.execute_input": "2025-08-19T19:00:44.538203Z",
     "iopub.status.busy": "2025-08-19T19:00:44.537839Z",
     "iopub.status.idle": "2025-08-19T19:00:44.543270Z",
     "shell.execute_reply": "2025-08-19T19:00:44.542558Z"
    },
    "papermill": {
     "duration": 0.019834,
     "end_time": "2025-08-19T19:00:44.545908",
     "exception": false,
     "start_time": "2025-08-19T19:00:44.526074",
     "status": "completed"
    },
    "tags": []
   },
   "outputs": [
    {
     "data": {
      "text/plain": [
       "0.6977064900464556"
      ]
     },
     "execution_count": 42,
     "metadata": {},
     "output_type": "execute_result"
    }
   ],
   "source": [
    "q_hat"
   ]
  },
  {
   "cell_type": "code",
   "execution_count": 43,
   "id": "aa1f5faa",
   "metadata": {
    "execution": {
     "iopub.execute_input": "2025-08-19T19:00:44.569267Z",
     "iopub.status.busy": "2025-08-19T19:00:44.568907Z",
     "iopub.status.idle": "2025-08-19T19:00:45.089165Z",
     "shell.execute_reply": "2025-08-19T19:00:45.088054Z"
    },
    "papermill": {
     "duration": 0.534947,
     "end_time": "2025-08-19T19:00:45.092014",
     "exception": false,
     "start_time": "2025-08-19T19:00:44.557067",
     "status": "completed"
    },
    "tags": []
   },
   "outputs": [],
   "source": [
    "from fairness_multiverse.conformal import predict_conformal_sets\n",
    "\n",
    "# Generate prediction sets for each test example\n",
    "pred_sets = predict_conformal_sets(model, X_test, q_hat)"
   ]
  },
  {
   "cell_type": "code",
   "execution_count": 44,
   "id": "97f67a6b",
   "metadata": {
    "execution": {
     "iopub.execute_input": "2025-08-19T19:00:45.132780Z",
     "iopub.status.busy": "2025-08-19T19:00:45.132278Z",
     "iopub.status.idle": "2025-08-19T19:00:45.138097Z",
     "shell.execute_reply": "2025-08-19T19:00:45.137338Z"
    },
    "papermill": {
     "duration": 0.021776,
     "end_time": "2025-08-19T19:00:45.139627",
     "exception": false,
     "start_time": "2025-08-19T19:00:45.117851",
     "status": "completed"
    },
    "tags": []
   },
   "outputs": [],
   "source": [
    "y_true = y_true.squeeze()"
   ]
  },
  {
   "cell_type": "code",
   "execution_count": 45,
   "id": "e700e9a7",
   "metadata": {
    "execution": {
     "iopub.execute_input": "2025-08-19T19:00:45.167357Z",
     "iopub.status.busy": "2025-08-19T19:00:45.164376Z",
     "iopub.status.idle": "2025-08-19T19:00:45.681871Z",
     "shell.execute_reply": "2025-08-19T19:00:45.680204Z"
    },
    "papermill": {
     "duration": 0.533521,
     "end_time": "2025-08-19T19:00:45.685085",
     "exception": false,
     "start_time": "2025-08-19T19:00:45.151564",
     "status": "completed"
    },
    "tags": []
   },
   "outputs": [],
   "source": [
    "from fairness_multiverse.conformal import evaluate_sets\n",
    "\n",
    "# Evaluate coverage and average set size on test data\n",
    "metrics = evaluate_sets(pred_sets, y_true)"
   ]
  },
  {
   "cell_type": "markdown",
   "id": "efbacec0",
   "metadata": {
    "papermill": {
     "duration": 0.012736,
     "end_time": "2025-08-19T19:00:45.722266",
     "exception": false,
     "start_time": "2025-08-19T19:00:45.709530",
     "status": "completed"
    },
    "tags": []
   },
   "source": [
    "# CP Metrics"
   ]
  },
  {
   "cell_type": "code",
   "execution_count": 46,
   "id": "9de55fb1",
   "metadata": {
    "execution": {
     "iopub.execute_input": "2025-08-19T19:00:45.749806Z",
     "iopub.status.busy": "2025-08-19T19:00:45.747773Z",
     "iopub.status.idle": "2025-08-19T19:00:45.763118Z",
     "shell.execute_reply": "2025-08-19T19:00:45.762087Z"
    },
    "papermill": {
     "duration": 0.031431,
     "end_time": "2025-08-19T19:00:45.764837",
     "exception": false,
     "start_time": "2025-08-19T19:00:45.733406",
     "status": "completed"
    },
    "tags": []
   },
   "outputs": [
    {
     "data": {
      "text/plain": [
       "{'coverage': 0.9118158510756883, 'avg_size': 1.206164307212128}"
      ]
     },
     "execution_count": 46,
     "metadata": {},
     "output_type": "execute_result"
    }
   ],
   "source": [
    "metrics"
   ]
  },
  {
   "cell_type": "code",
   "execution_count": 47,
   "id": "64c340a1",
   "metadata": {
    "execution": {
     "iopub.execute_input": "2025-08-19T19:00:45.795582Z",
     "iopub.status.busy": "2025-08-19T19:00:45.793687Z",
     "iopub.status.idle": "2025-08-19T19:00:45.805103Z",
     "shell.execute_reply": "2025-08-19T19:00:45.803796Z"
    },
    "papermill": {
     "duration": 0.026497,
     "end_time": "2025-08-19T19:00:45.806889",
     "exception": false,
     "start_time": "2025-08-19T19:00:45.780392",
     "status": "completed"
    },
    "tags": []
   },
   "outputs": [],
   "source": [
    "example_universe = universe.copy()\n",
    "universe_training_year = example_universe.get(\"training_year\")\n",
    "universe_training_size = example_universe.get(\"training_size\")\n",
    "universe_scale = example_universe.get(\"scale\")\n",
    "universe_model = example_universe.get(\"model\")\n",
    "universe_exclude_features = example_universe.get(\"exclude_features\")\n",
    "universe_exclude_subgroups = example_universe.get(\"exclude_subgroups\")"
   ]
  },
  {
   "cell_type": "code",
   "execution_count": 48,
   "id": "dbb53cb4",
   "metadata": {
    "execution": {
     "iopub.execute_input": "2025-08-19T19:00:45.839111Z",
     "iopub.status.busy": "2025-08-19T19:00:45.837887Z",
     "iopub.status.idle": "2025-08-19T19:00:45.848343Z",
     "shell.execute_reply": "2025-08-19T19:00:45.847132Z"
    },
    "papermill": {
     "duration": 0.025671,
     "end_time": "2025-08-19T19:00:45.849958",
     "exception": false,
     "start_time": "2025-08-19T19:00:45.824287",
     "status": "completed"
    },
    "tags": []
   },
   "outputs": [],
   "source": [
    "cp_metrics_dict = {\n",
    "    \"universe_id\": [universe_id],\n",
    "    \"universe_training_year\": [universe_training_year],\n",
    "    \"universe_training_size\": [universe_training_size],\n",
    "    \"universe_scale\": [universe_scale],\n",
    "    \"universe_model\": [universe_model],\n",
    "    \"universe_exclude_features\": [universe_exclude_features],\n",
    "    \"universe_exclude_subgroups\": [universe_exclude_subgroups],\n",
    "    \"q_hat\": [q_hat],\n",
    "    \"coverage\": [metrics[\"coverage\"]],\n",
    "    \"avg_size\": [metrics[\"avg_size\"]],\n",
    "}"
   ]
  },
  {
   "cell_type": "code",
   "execution_count": 49,
   "id": "0d70d4b2",
   "metadata": {
    "execution": {
     "iopub.execute_input": "2025-08-19T19:00:45.879063Z",
     "iopub.status.busy": "2025-08-19T19:00:45.877651Z",
     "iopub.status.idle": "2025-08-19T19:00:45.891377Z",
     "shell.execute_reply": "2025-08-19T19:00:45.889914Z"
    },
    "papermill": {
     "duration": 0.02852,
     "end_time": "2025-08-19T19:00:45.893172",
     "exception": false,
     "start_time": "2025-08-19T19:00:45.864652",
     "status": "completed"
    },
    "tags": []
   },
   "outputs": [],
   "source": [
    "cp_metrics_df = pd.DataFrame(cp_metrics_dict)"
   ]
  },
  {
   "cell_type": "code",
   "execution_count": 50,
   "id": "b494403c",
   "metadata": {
    "execution": {
     "iopub.execute_input": "2025-08-19T19:00:45.923409Z",
     "iopub.status.busy": "2025-08-19T19:00:45.921851Z",
     "iopub.status.idle": "2025-08-19T19:00:45.947989Z",
     "shell.execute_reply": "2025-08-19T19:00:45.947195Z"
    },
    "papermill": {
     "duration": 0.041112,
     "end_time": "2025-08-19T19:00:45.949850",
     "exception": false,
     "start_time": "2025-08-19T19:00:45.908738",
     "status": "completed"
    },
    "tags": []
   },
   "outputs": [
    {
     "data": {
      "text/html": [
       "<div>\n",
       "<style scoped>\n",
       "    .dataframe tbody tr th:only-of-type {\n",
       "        vertical-align: middle;\n",
       "    }\n",
       "\n",
       "    .dataframe tbody tr th {\n",
       "        vertical-align: top;\n",
       "    }\n",
       "\n",
       "    .dataframe thead th {\n",
       "        text-align: right;\n",
       "    }\n",
       "</style>\n",
       "<table border=\"1\" class=\"dataframe\">\n",
       "  <thead>\n",
       "    <tr style=\"text-align: right;\">\n",
       "      <th></th>\n",
       "      <th>universe_id</th>\n",
       "      <th>universe_training_year</th>\n",
       "      <th>universe_training_size</th>\n",
       "      <th>universe_scale</th>\n",
       "      <th>universe_model</th>\n",
       "      <th>universe_exclude_features</th>\n",
       "      <th>universe_exclude_subgroups</th>\n",
       "      <th>q_hat</th>\n",
       "      <th>coverage</th>\n",
       "      <th>avg_size</th>\n",
       "    </tr>\n",
       "  </thead>\n",
       "  <tbody>\n",
       "    <tr>\n",
       "      <th>0</th>\n",
       "      <td>e738aced91e6b0645fb067ce7c5efa80</td>\n",
       "      <td>2012_14</td>\n",
       "      <td>1k</td>\n",
       "      <td>do-not-scale</td>\n",
       "      <td>logreg</td>\n",
       "      <td>none</td>\n",
       "      <td>keep-all</td>\n",
       "      <td>0.697706</td>\n",
       "      <td>0.911816</td>\n",
       "      <td>1.206164</td>\n",
       "    </tr>\n",
       "  </tbody>\n",
       "</table>\n",
       "</div>"
      ],
      "text/plain": [
       "                        universe_id universe_training_year  \\\n",
       "0  e738aced91e6b0645fb067ce7c5efa80                2012_14   \n",
       "\n",
       "  universe_training_size universe_scale universe_model  \\\n",
       "0                     1k   do-not-scale         logreg   \n",
       "\n",
       "  universe_exclude_features universe_exclude_subgroups     q_hat  coverage  \\\n",
       "0                      none                   keep-all  0.697706  0.911816   \n",
       "\n",
       "   avg_size  \n",
       "0  1.206164  "
      ]
     },
     "execution_count": 50,
     "metadata": {},
     "output_type": "execute_result"
    }
   ],
   "source": [
    "cp_metrics_df"
   ]
  },
  {
   "cell_type": "markdown",
   "id": "ed608b0b",
   "metadata": {
    "papermill": {
     "duration": 0.011502,
     "end_time": "2025-08-19T19:00:45.977754",
     "exception": false,
     "start_time": "2025-08-19T19:00:45.966252",
     "status": "completed"
    },
    "tags": []
   },
   "source": [
    "Conditional coverage & looking at subgroups"
   ]
  },
  {
   "cell_type": "code",
   "execution_count": 51,
   "id": "8968c366",
   "metadata": {
    "execution": {
     "iopub.execute_input": "2025-08-19T19:00:46.003583Z",
     "iopub.status.busy": "2025-08-19T19:00:46.002593Z",
     "iopub.status.idle": "2025-08-19T19:00:46.301909Z",
     "shell.execute_reply": "2025-08-19T19:00:46.301066Z"
    },
    "papermill": {
     "duration": 0.315515,
     "end_time": "2025-08-19T19:00:46.304667",
     "exception": false,
     "start_time": "2025-08-19T19:00:45.989152",
     "status": "completed"
    },
    "tags": []
   },
   "outputs": [],
   "source": [
    "from fairness_multiverse.conformal import build_cp_groups\n",
    "\n",
    "cp_groups_df = build_cp_groups(pred_sets, y_true, X_test.index, org_test)"
   ]
  },
  {
   "cell_type": "code",
   "execution_count": 52,
   "id": "292ddabf",
   "metadata": {
    "execution": {
     "iopub.execute_input": "2025-08-19T19:00:46.346317Z",
     "iopub.status.busy": "2025-08-19T19:00:46.345227Z",
     "iopub.status.idle": "2025-08-19T19:00:47.256867Z",
     "shell.execute_reply": "2025-08-19T19:00:47.255478Z"
    },
    "papermill": {
     "duration": 0.92802,
     "end_time": "2025-08-19T19:00:47.258492",
     "exception": false,
     "start_time": "2025-08-19T19:00:46.330472",
     "status": "completed"
    },
    "tags": []
   },
   "outputs": [],
   "source": [
    "# Define covered = 1 if true_label is in the predicted set\n",
    "cp_groups_df['covered'] = cp_groups_df.apply(\n",
    "    lambda r: int(r['true_label'] in r['pred_set']),\n",
    "    axis=1\n",
    ")"
   ]
  },
  {
   "cell_type": "code",
   "execution_count": 53,
   "id": "3a261692",
   "metadata": {
    "execution": {
     "iopub.execute_input": "2025-08-19T19:00:47.288718Z",
     "iopub.status.busy": "2025-08-19T19:00:47.286208Z",
     "iopub.status.idle": "2025-08-19T19:00:47.310979Z",
     "shell.execute_reply": "2025-08-19T19:00:47.310098Z"
    },
    "papermill": {
     "duration": 0.041934,
     "end_time": "2025-08-19T19:00:47.312707",
     "exception": false,
     "start_time": "2025-08-19T19:00:47.270773",
     "status": "completed"
    },
    "tags": []
   },
   "outputs": [],
   "source": [
    "subgroups = ['frau1','nongerman','nongerman_male','nongerman_female']\n",
    "\n",
    "# Conditional coverage for subgroup==1\n",
    "cond_coverage = {\n",
    "    g: cp_groups_df.loc[cp_groups_df[g]==1, 'covered'].mean()\n",
    "    for g in subgroups\n",
    "}"
   ]
  },
  {
   "cell_type": "code",
   "execution_count": 54,
   "id": "894fd600",
   "metadata": {
    "execution": {
     "iopub.execute_input": "2025-08-19T19:00:47.352531Z",
     "iopub.status.busy": "2025-08-19T19:00:47.351504Z",
     "iopub.status.idle": "2025-08-19T19:00:47.364001Z",
     "shell.execute_reply": "2025-08-19T19:00:47.362408Z"
    },
    "papermill": {
     "duration": 0.029019,
     "end_time": "2025-08-19T19:00:47.365531",
     "exception": false,
     "start_time": "2025-08-19T19:00:47.336512",
     "status": "completed"
    },
    "tags": []
   },
   "outputs": [
    {
     "data": {
      "text/plain": [
       "{'frau1': 0.9087478096778542,\n",
       " 'nongerman': 0.9293212822096222,\n",
       " 'nongerman_male': 0.9432585787624966,\n",
       " 'nongerman_female': 0.9062593144560358}"
      ]
     },
     "execution_count": 54,
     "metadata": {},
     "output_type": "execute_result"
    }
   ],
   "source": [
    "cond_coverage"
   ]
  },
  {
   "cell_type": "code",
   "execution_count": 55,
   "id": "942895c7",
   "metadata": {
    "execution": {
     "iopub.execute_input": "2025-08-19T19:00:47.397332Z",
     "iopub.status.busy": "2025-08-19T19:00:47.396161Z",
     "iopub.status.idle": "2025-08-19T19:00:47.408374Z",
     "shell.execute_reply": "2025-08-19T19:00:47.407133Z"
    },
    "papermill": {
     "duration": 0.027585,
     "end_time": "2025-08-19T19:00:47.410020",
     "exception": false,
     "start_time": "2025-08-19T19:00:47.382435",
     "status": "completed"
    },
    "tags": []
   },
   "outputs": [],
   "source": [
    "for subgroup, cov in cond_coverage.items():\n",
    "    cp_metrics_df[f\"cov_{subgroup}\"] = cov"
   ]
  },
  {
   "cell_type": "code",
   "execution_count": 56,
   "id": "3970120f",
   "metadata": {
    "execution": {
     "iopub.execute_input": "2025-08-19T19:00:47.441410Z",
     "iopub.status.busy": "2025-08-19T19:00:47.440040Z",
     "iopub.status.idle": "2025-08-19T19:00:47.463468Z",
     "shell.execute_reply": "2025-08-19T19:00:47.462659Z"
    },
    "papermill": {
     "duration": 0.038868,
     "end_time": "2025-08-19T19:00:47.464737",
     "exception": false,
     "start_time": "2025-08-19T19:00:47.425869",
     "status": "completed"
    },
    "tags": []
   },
   "outputs": [
    {
     "data": {
      "text/html": [
       "<div>\n",
       "<style scoped>\n",
       "    .dataframe tbody tr th:only-of-type {\n",
       "        vertical-align: middle;\n",
       "    }\n",
       "\n",
       "    .dataframe tbody tr th {\n",
       "        vertical-align: top;\n",
       "    }\n",
       "\n",
       "    .dataframe thead th {\n",
       "        text-align: right;\n",
       "    }\n",
       "</style>\n",
       "<table border=\"1\" class=\"dataframe\">\n",
       "  <thead>\n",
       "    <tr style=\"text-align: right;\">\n",
       "      <th></th>\n",
       "      <th>universe_id</th>\n",
       "      <th>universe_training_year</th>\n",
       "      <th>universe_training_size</th>\n",
       "      <th>universe_scale</th>\n",
       "      <th>universe_model</th>\n",
       "      <th>universe_exclude_features</th>\n",
       "      <th>universe_exclude_subgroups</th>\n",
       "      <th>q_hat</th>\n",
       "      <th>coverage</th>\n",
       "      <th>avg_size</th>\n",
       "      <th>cov_frau1</th>\n",
       "      <th>cov_nongerman</th>\n",
       "      <th>cov_nongerman_male</th>\n",
       "      <th>cov_nongerman_female</th>\n",
       "    </tr>\n",
       "  </thead>\n",
       "  <tbody>\n",
       "    <tr>\n",
       "      <th>0</th>\n",
       "      <td>e738aced91e6b0645fb067ce7c5efa80</td>\n",
       "      <td>2012_14</td>\n",
       "      <td>1k</td>\n",
       "      <td>do-not-scale</td>\n",
       "      <td>logreg</td>\n",
       "      <td>none</td>\n",
       "      <td>keep-all</td>\n",
       "      <td>0.697706</td>\n",
       "      <td>0.911816</td>\n",
       "      <td>1.206164</td>\n",
       "      <td>0.908748</td>\n",
       "      <td>0.929321</td>\n",
       "      <td>0.943259</td>\n",
       "      <td>0.906259</td>\n",
       "    </tr>\n",
       "  </tbody>\n",
       "</table>\n",
       "</div>"
      ],
      "text/plain": [
       "                        universe_id universe_training_year  \\\n",
       "0  e738aced91e6b0645fb067ce7c5efa80                2012_14   \n",
       "\n",
       "  universe_training_size universe_scale universe_model  \\\n",
       "0                     1k   do-not-scale         logreg   \n",
       "\n",
       "  universe_exclude_features universe_exclude_subgroups     q_hat  coverage  \\\n",
       "0                      none                   keep-all  0.697706  0.911816   \n",
       "\n",
       "   avg_size  cov_frau1  cov_nongerman  cov_nongerman_male  \\\n",
       "0  1.206164   0.908748       0.929321            0.943259   \n",
       "\n",
       "   cov_nongerman_female  \n",
       "0              0.906259  "
      ]
     },
     "execution_count": 56,
     "metadata": {},
     "output_type": "execute_result"
    }
   ],
   "source": [
    "cp_metrics_df"
   ]
  },
  {
   "cell_type": "markdown",
   "id": "3fc519cc",
   "metadata": {
    "papermill": {
     "duration": 0.012483,
     "end_time": "2025-08-19T19:00:47.505645",
     "exception": false,
     "start_time": "2025-08-19T19:00:47.493162",
     "status": "completed"
    },
    "tags": []
   },
   "source": [
    "# (Fairness) Metrics"
   ]
  },
  {
   "cell_type": "code",
   "execution_count": 57,
   "id": "a2e5e155",
   "metadata": {
    "execution": {
     "iopub.execute_input": "2025-08-19T19:00:47.533388Z",
     "iopub.status.busy": "2025-08-19T19:00:47.532613Z",
     "iopub.status.idle": "2025-08-19T19:00:47.553747Z",
     "shell.execute_reply": "2025-08-19T19:00:47.553114Z"
    },
    "papermill": {
     "duration": 0.036889,
     "end_time": "2025-08-19T19:00:47.555013",
     "exception": false,
     "start_time": "2025-08-19T19:00:47.518124",
     "status": "completed"
    },
    "tags": []
   },
   "outputs": [],
   "source": [
    "colname_to_bin = \"maxdeutsch1\"\n",
    "majority_value = org_train[colname_to_bin].mode()[0]\n",
    "\n",
    "org_test[\"majmin\"] = np.where(org_test[colname_to_bin] == majority_value, \"majority\", \"minority\")"
   ]
  },
  {
   "cell_type": "code",
   "execution_count": 58,
   "id": "17e3e4d5",
   "metadata": {
    "execution": {
     "iopub.execute_input": "2025-08-19T19:00:47.587967Z",
     "iopub.status.busy": "2025-08-19T19:00:47.587183Z",
     "iopub.status.idle": "2025-08-19T19:00:49.313545Z",
     "shell.execute_reply": "2025-08-19T19:00:49.312288Z"
    },
    "papermill": {
     "duration": 1.747343,
     "end_time": "2025-08-19T19:00:49.315137",
     "exception": false,
     "start_time": "2025-08-19T19:00:47.567794",
     "status": "completed"
    },
    "tags": []
   },
   "outputs": [],
   "source": [
    "example_universe = universe.copy()\n",
    "example_universe[\"cutoff\"] = example_universe[\"cutoff\"][0]\n",
    "example_universe[\"eval_fairness_grouping\"] = example_universe[\"eval_fairness_grouping\"][0]\n",
    "fairness_dict, metric_frame = universe_analysis.compute_metrics(\n",
    "    example_universe,\n",
    "    y_pred_prob=probs_test,\n",
    "    y_test=y_true,\n",
    "    org_test=org_test,\n",
    ")"
   ]
  },
  {
   "cell_type": "markdown",
   "id": "1fb7a0e9",
   "metadata": {
    "papermill": {
     "duration": 0.012217,
     "end_time": "2025-08-19T19:00:49.341519",
     "exception": false,
     "start_time": "2025-08-19T19:00:49.329302",
     "status": "completed"
    },
    "tags": []
   },
   "source": [
    "# Overall"
   ]
  },
  {
   "cell_type": "markdown",
   "id": "be1784b1",
   "metadata": {
    "papermill": {
     "duration": 0.012243,
     "end_time": "2025-08-19T19:00:49.365807",
     "exception": false,
     "start_time": "2025-08-19T19:00:49.353564",
     "status": "completed"
    },
    "tags": []
   },
   "source": [
    "Main fairness target: Equalized Odds. Seems to be a better fit than equal opportunity, since we're not only interested in Y = 1. Seems to be a better fit than demographic parity, since we also care about accuracy, not just equal distribution of preds.\n",
    "\n",
    "Pick column for computation of fairness metrics\n",
    "\n",
    "Performance\n",
    "Overall performance measures, most interesting in relation to the measures split by group below"
   ]
  },
  {
   "cell_type": "code",
   "execution_count": 59,
   "id": "b7672bee",
   "metadata": {
    "execution": {
     "iopub.execute_input": "2025-08-19T19:00:49.391733Z",
     "iopub.status.busy": "2025-08-19T19:00:49.391291Z",
     "iopub.status.idle": "2025-08-19T19:00:49.399689Z",
     "shell.execute_reply": "2025-08-19T19:00:49.398887Z"
    },
    "papermill": {
     "duration": 0.023329,
     "end_time": "2025-08-19T19:00:49.401413",
     "exception": false,
     "start_time": "2025-08-19T19:00:49.378084",
     "status": "completed"
    },
    "tags": []
   },
   "outputs": [
    {
     "data": {
      "text/plain": [
       "accuracy                   0.215082\n",
       "balanced accuracy          0.527852\n",
       "f1                         0.236669\n",
       "precision                  0.135201\n",
       "false positive rate        0.892854\n",
       "false negative rate        0.051442\n",
       "selection rate             0.900000\n",
       "count                  89710.000000\n",
       "dtype: float64"
      ]
     },
     "execution_count": 59,
     "metadata": {},
     "output_type": "execute_result"
    }
   ],
   "source": [
    "metric_frame.overall"
   ]
  },
  {
   "cell_type": "markdown",
   "id": "d93333c9",
   "metadata": {
    "papermill": {
     "duration": 0.012077,
     "end_time": "2025-08-19T19:00:49.427099",
     "exception": false,
     "start_time": "2025-08-19T19:00:49.415022",
     "status": "completed"
    },
    "tags": []
   },
   "source": [
    "By Group"
   ]
  },
  {
   "cell_type": "code",
   "execution_count": 60,
   "id": "52256966",
   "metadata": {
    "execution": {
     "iopub.execute_input": "2025-08-19T19:00:49.453554Z",
     "iopub.status.busy": "2025-08-19T19:00:49.452796Z",
     "iopub.status.idle": "2025-08-19T19:00:49.468231Z",
     "shell.execute_reply": "2025-08-19T19:00:49.467302Z"
    },
    "papermill": {
     "duration": 0.030077,
     "end_time": "2025-08-19T19:00:49.469698",
     "exception": false,
     "start_time": "2025-08-19T19:00:49.439621",
     "status": "completed"
    },
    "tags": []
   },
   "outputs": [
    {
     "data": {
      "text/html": [
       "<div>\n",
       "<style scoped>\n",
       "    .dataframe tbody tr th:only-of-type {\n",
       "        vertical-align: middle;\n",
       "    }\n",
       "\n",
       "    .dataframe tbody tr th {\n",
       "        vertical-align: top;\n",
       "    }\n",
       "\n",
       "    .dataframe thead th {\n",
       "        text-align: right;\n",
       "    }\n",
       "</style>\n",
       "<table border=\"1\" class=\"dataframe\">\n",
       "  <thead>\n",
       "    <tr style=\"text-align: right;\">\n",
       "      <th></th>\n",
       "      <th>accuracy</th>\n",
       "      <th>balanced accuracy</th>\n",
       "      <th>f1</th>\n",
       "      <th>precision</th>\n",
       "      <th>false positive rate</th>\n",
       "      <th>false negative rate</th>\n",
       "      <th>selection rate</th>\n",
       "      <th>count</th>\n",
       "    </tr>\n",
       "    <tr>\n",
       "      <th>majmin</th>\n",
       "      <th></th>\n",
       "      <th></th>\n",
       "      <th></th>\n",
       "      <th></th>\n",
       "      <th></th>\n",
       "      <th></th>\n",
       "      <th></th>\n",
       "      <th></th>\n",
       "    </tr>\n",
       "  </thead>\n",
       "  <tbody>\n",
       "    <tr>\n",
       "      <th>majority</th>\n",
       "      <td>0.236258</td>\n",
       "      <td>0.534202</td>\n",
       "      <td>0.245271</td>\n",
       "      <td>0.141054</td>\n",
       "      <td>0.870765</td>\n",
       "      <td>0.060832</td>\n",
       "      <td>0.879803</td>\n",
       "      <td>69170.0</td>\n",
       "    </tr>\n",
       "    <tr>\n",
       "      <th>minority</th>\n",
       "      <td>0.143768</td>\n",
       "      <td>0.509485</td>\n",
       "      <td>0.209609</td>\n",
       "      <td>0.117286</td>\n",
       "      <td>0.965827</td>\n",
       "      <td>0.015203</td>\n",
       "      <td>0.968014</td>\n",
       "      <td>20540.0</td>\n",
       "    </tr>\n",
       "  </tbody>\n",
       "</table>\n",
       "</div>"
      ],
      "text/plain": [
       "          accuracy  balanced accuracy        f1  precision  \\\n",
       "majmin                                                       \n",
       "majority  0.236258           0.534202  0.245271   0.141054   \n",
       "minority  0.143768           0.509485  0.209609   0.117286   \n",
       "\n",
       "          false positive rate  false negative rate  selection rate    count  \n",
       "majmin                                                                       \n",
       "majority             0.870765             0.060832        0.879803  69170.0  \n",
       "minority             0.965827             0.015203        0.968014  20540.0  "
      ]
     },
     "execution_count": 60,
     "metadata": {},
     "output_type": "execute_result"
    }
   ],
   "source": [
    "metric_frame.by_group"
   ]
  },
  {
   "cell_type": "code",
   "execution_count": 61,
   "id": "6e6c20ae",
   "metadata": {
    "execution": {
     "iopub.execute_input": "2025-08-19T19:00:49.500678Z",
     "iopub.status.busy": "2025-08-19T19:00:49.499470Z",
     "iopub.status.idle": "2025-08-19T19:00:51.342822Z",
     "shell.execute_reply": "2025-08-19T19:00:51.341916Z"
    },
    "papermill": {
     "duration": 1.8584,
     "end_time": "2025-08-19T19:00:51.344059",
     "exception": false,
     "start_time": "2025-08-19T19:00:49.485659",
     "status": "completed"
    },
    "tags": []
   },
   "outputs": [
    {
     "data": {
      "text/plain": [
       "array([[<Axes: title={'center': 'accuracy'}, xlabel='majmin'>,\n",
       "        <Axes: title={'center': 'balanced accuracy'}, xlabel='majmin'>,\n",
       "        <Axes: title={'center': 'f1'}, xlabel='majmin'>],\n",
       "       [<Axes: title={'center': 'precision'}, xlabel='majmin'>,\n",
       "        <Axes: title={'center': 'false positive rate'}, xlabel='majmin'>,\n",
       "        <Axes: title={'center': 'false negative rate'}, xlabel='majmin'>],\n",
       "       [<Axes: title={'center': 'selection rate'}, xlabel='majmin'>,\n",
       "        <Axes: title={'center': 'count'}, xlabel='majmin'>,\n",
       "        <Axes: xlabel='majmin'>]], dtype=object)"
      ]
     },
     "execution_count": 61,
     "metadata": {},
     "output_type": "execute_result"
    },
    {
     "data": {
      "image/png": "[encoded data removed]",
      "text/plain": [
       "<Figure size 1200x800 with 9 Axes>"
      ]
     },
     "metadata": {},
     "output_type": "display_data"
    }
   ],
   "source": [
    "# In a graphic\n",
    "metric_frame.by_group.plot.bar(\n",
    "    subplots=True,\n",
    "    layout=[3, 3],\n",
    "    legend=False,\n",
    "    figsize=[12, 8],\n",
    "    title=\"Show all metrics\",\n",
    ")"
   ]
  },
  {
   "cell_type": "markdown",
   "id": "b2e433ae",
   "metadata": {
    "papermill": {
     "duration": 0.013429,
     "end_time": "2025-08-19T19:00:51.371705",
     "exception": false,
     "start_time": "2025-08-19T19:00:51.358276",
     "status": "completed"
    },
    "tags": []
   },
   "source": [
    "# Final Output"
   ]
  },
  {
   "cell_type": "code",
   "execution_count": 62,
   "id": "3871301e",
   "metadata": {
    "execution": {
     "iopub.execute_input": "2025-08-19T19:00:51.403625Z",
     "iopub.status.busy": "2025-08-19T19:00:51.401548Z",
     "iopub.status.idle": "2025-08-19T19:00:51.420668Z",
     "shell.execute_reply": "2025-08-19T19:00:51.419518Z"
    },
    "papermill": {
     "duration": 0.036877,
     "end_time": "2025-08-19T19:00:51.422632",
     "exception": false,
     "start_time": "2025-08-19T19:00:51.385755",
     "status": "completed"
    },
    "tags": []
   },
   "outputs": [
    {
     "data": {
      "text/plain": [
       "4"
      ]
     },
     "execution_count": 62,
     "metadata": {},
     "output_type": "execute_result"
    }
   ],
   "source": [
    "sub_universes = universe_analysis.generate_sub_universes()\n",
    "len(sub_universes)"
   ]
  },
  {
   "cell_type": "code",
   "execution_count": 63,
   "id": "d9cfdaca",
   "metadata": {
    "execution": {
     "iopub.execute_input": "2025-08-19T19:00:51.457929Z",
     "iopub.status.busy": "2025-08-19T19:00:51.456814Z",
     "iopub.status.idle": "2025-08-19T19:00:51.473985Z",
     "shell.execute_reply": "2025-08-19T19:00:51.472713Z"
    },
    "papermill": {
     "duration": 0.034557,
     "end_time": "2025-08-19T19:00:51.475644",
     "exception": false,
     "start_time": "2025-08-19T19:00:51.441087",
     "status": "completed"
    },
    "tags": []
   },
   "outputs": [],
   "source": [
    "def filter_sub_universe_data(sub_universe, org_test):\n",
    "    # Keep all rows — no filtering\n",
    "    keep_rows_mask = np.ones(org_test.shape[0], dtype=bool)\n",
    "\n",
    "    print(f\"[INFO] Keeping all rows: {keep_rows_mask.sum()} rows retained.\")\n",
    "    return keep_rows_mask"
   ]
  },
  {
   "cell_type": "code",
   "execution_count": 64,
   "id": "2bc31ac1",
   "metadata": {
    "execution": {
     "iopub.execute_input": "2025-08-19T19:00:51.514834Z",
     "iopub.status.busy": "2025-08-19T19:00:51.511023Z",
     "iopub.status.idle": "2025-08-19T19:00:58.157584Z",
     "shell.execute_reply": "2025-08-19T19:00:58.156126Z"
    },
    "papermill": {
     "duration": 6.668081,
     "end_time": "2025-08-19T19:00:58.159147",
     "exception": false,
     "start_time": "2025-08-19T19:00:51.491066",
     "status": "completed"
    },
    "tags": []
   },
   "outputs": [
    {
     "name": "stdout",
     "output_type": "stream",
     "text": [
      "Stopping execution_time clock.\n",
      "[INFO] Keeping all rows: 89710 rows retained.\n"
     ]
    },
    {
     "name": "stdout",
     "output_type": "stream",
     "text": [
      "[INFO] Keeping all rows: 89710 rows retained.\n"
     ]
    },
    {
     "name": "stdout",
     "output_type": "stream",
     "text": [
      "[INFO] Keeping all rows: 89710 rows retained.\n"
     ]
    },
    {
     "name": "stdout",
     "output_type": "stream",
     "text": [
      "[INFO] Keeping all rows: 89710 rows retained.\n"
     ]
    },
    {
     "data": {
      "text/html": [
       "<div>\n",
       "<style scoped>\n",
       "    .dataframe tbody tr th:only-of-type {\n",
       "        vertical-align: middle;\n",
       "    }\n",
       "\n",
       "    .dataframe tbody tr th {\n",
       "        vertical-align: top;\n",
       "    }\n",
       "\n",
       "    .dataframe thead th {\n",
       "        text-align: right;\n",
       "    }\n",
       "</style>\n",
       "<table border=\"1\" class=\"dataframe\">\n",
       "  <thead>\n",
       "    <tr style=\"text-align: right;\">\n",
       "      <th></th>\n",
       "      <th>run_no</th>\n",
       "      <th>universe_id</th>\n",
       "      <th>universe_settings</th>\n",
       "      <th>execution_time</th>\n",
       "      <th>test_size_n</th>\n",
       "      <th>test_size_frac</th>\n",
       "      <th>fair_main_equalized_odds_difference</th>\n",
       "      <th>fair_main_equalized_odds_ratio</th>\n",
       "      <th>fair_main_demographic_parity_difference</th>\n",
       "      <th>fair_main_demographic_parity_ratio</th>\n",
       "      <th>...</th>\n",
       "      <th>perf_grp_precision_0</th>\n",
       "      <th>perf_grp_precision_1</th>\n",
       "      <th>perf_grp_false positive rate_0</th>\n",
       "      <th>perf_grp_false positive rate_1</th>\n",
       "      <th>perf_grp_false negative rate_0</th>\n",
       "      <th>perf_grp_false negative rate_1</th>\n",
       "      <th>perf_grp_selection rate_0</th>\n",
       "      <th>perf_grp_selection rate_1</th>\n",
       "      <th>perf_grp_count_0</th>\n",
       "      <th>perf_grp_count_1</th>\n",
       "    </tr>\n",
       "  </thead>\n",
       "  <tbody>\n",
       "    <tr>\n",
       "      <th>0</th>\n",
       "      <td>3</td>\n",
       "      <td>e738aced91e6b0645fb067ce7c5efa80</td>\n",
       "      <td>{\"cutoff\": \"quantile_0.1\", \"eval_fairness_grou...</td>\n",
       "      <td>21.328492</td>\n",
       "      <td>89710</td>\n",
       "      <td>1.0</td>\n",
       "      <td>0.095062</td>\n",
       "      <td>0.901575</td>\n",
       "      <td>0.088210</td>\n",
       "      <td>0.908875</td>\n",
       "      <td>...</td>\n",
       "      <td>NaN</td>\n",
       "      <td>NaN</td>\n",
       "      <td>NaN</td>\n",
       "      <td>NaN</td>\n",
       "      <td>NaN</td>\n",
       "      <td>NaN</td>\n",
       "      <td>NaN</td>\n",
       "      <td>NaN</td>\n",
       "      <td>NaN</td>\n",
       "      <td>NaN</td>\n",
       "    </tr>\n",
       "    <tr>\n",
       "      <th>0</th>\n",
       "      <td>3</td>\n",
       "      <td>e738aced91e6b0645fb067ce7c5efa80</td>\n",
       "      <td>{\"cutoff\": \"quantile_0.1\", \"eval_fairness_grou...</td>\n",
       "      <td>21.328492</td>\n",
       "      <td>89710</td>\n",
       "      <td>1.0</td>\n",
       "      <td>0.095062</td>\n",
       "      <td>0.901575</td>\n",
       "      <td>0.088210</td>\n",
       "      <td>0.908875</td>\n",
       "      <td>...</td>\n",
       "      <td>0.117286</td>\n",
       "      <td>0.141054</td>\n",
       "      <td>0.965827</td>\n",
       "      <td>0.870765</td>\n",
       "      <td>0.015203</td>\n",
       "      <td>0.060832</td>\n",
       "      <td>0.968014</td>\n",
       "      <td>0.879803</td>\n",
       "      <td>20540.0</td>\n",
       "      <td>69170.0</td>\n",
       "    </tr>\n",
       "    <tr>\n",
       "      <th>0</th>\n",
       "      <td>3</td>\n",
       "      <td>e738aced91e6b0645fb067ce7c5efa80</td>\n",
       "      <td>{\"cutoff\": \"quantile_0.25\", \"eval_fairness_gro...</td>\n",
       "      <td>21.328492</td>\n",
       "      <td>89710</td>\n",
       "      <td>1.0</td>\n",
       "      <td>0.215928</td>\n",
       "      <td>0.759671</td>\n",
       "      <td>0.199854</td>\n",
       "      <td>0.778945</td>\n",
       "      <td>...</td>\n",
       "      <td>NaN</td>\n",
       "      <td>NaN</td>\n",
       "      <td>NaN</td>\n",
       "      <td>NaN</td>\n",
       "      <td>NaN</td>\n",
       "      <td>NaN</td>\n",
       "      <td>NaN</td>\n",
       "      <td>NaN</td>\n",
       "      <td>NaN</td>\n",
       "      <td>NaN</td>\n",
       "    </tr>\n",
       "    <tr>\n",
       "      <th>0</th>\n",
       "      <td>3</td>\n",
       "      <td>e738aced91e6b0645fb067ce7c5efa80</td>\n",
       "      <td>{\"cutoff\": \"quantile_0.25\", \"eval_fairness_gro...</td>\n",
       "      <td>21.328492</td>\n",
       "      <td>89710</td>\n",
       "      <td>1.0</td>\n",
       "      <td>0.215928</td>\n",
       "      <td>0.759671</td>\n",
       "      <td>0.199854</td>\n",
       "      <td>0.778945</td>\n",
       "      <td>...</td>\n",
       "      <td>0.120786</td>\n",
       "      <td>0.158873</td>\n",
       "      <td>0.898470</td>\n",
       "      <td>0.682542</td>\n",
       "      <td>0.052787</td>\n",
       "      <td>0.153282</td>\n",
       "      <td>0.904090</td>\n",
       "      <td>0.704236</td>\n",
       "      <td>20540.0</td>\n",
       "      <td>69170.0</td>\n",
       "    </tr>\n",
       "  </tbody>\n",
       "</table>\n",
       "<p>4 rows × 50 columns</p>\n",
       "</div>"
      ],
      "text/plain": [
       "  run_no                       universe_id  \\\n",
       "0      3  e738aced91e6b0645fb067ce7c5efa80   \n",
       "0      3  e738aced91e6b0645fb067ce7c5efa80   \n",
       "0      3  e738aced91e6b0645fb067ce7c5efa80   \n",
       "0      3  e738aced91e6b0645fb067ce7c5efa80   \n",
       "\n",
       "                                   universe_settings  execution_time  \\\n",
       "0  {\"cutoff\": \"quantile_0.1\", \"eval_fairness_grou...       21.328492   \n",
       "0  {\"cutoff\": \"quantile_0.1\", \"eval_fairness_grou...       21.328492   \n",
       "0  {\"cutoff\": \"quantile_0.25\", \"eval_fairness_gro...       21.328492   \n",
       "0  {\"cutoff\": \"quantile_0.25\", \"eval_fairness_gro...       21.328492   \n",
       "\n",
       "   test_size_n  test_size_frac  fair_main_equalized_odds_difference  \\\n",
       "0        89710             1.0                             0.095062   \n",
       "0        89710             1.0                             0.095062   \n",
       "0        89710             1.0                             0.215928   \n",
       "0        89710             1.0                             0.215928   \n",
       "\n",
       "   fair_main_equalized_odds_ratio  fair_main_demographic_parity_difference  \\\n",
       "0                        0.901575                                 0.088210   \n",
       "0                        0.901575                                 0.088210   \n",
       "0                        0.759671                                 0.199854   \n",
       "0                        0.759671                                 0.199854   \n",
       "\n",
       "   fair_main_demographic_parity_ratio  ...  perf_grp_precision_0  \\\n",
       "0                            0.908875  ...                   NaN   \n",
       "0                            0.908875  ...              0.117286   \n",
       "0                            0.778945  ...                   NaN   \n",
       "0                            0.778945  ...              0.120786   \n",
       "\n",
       "   perf_grp_precision_1  perf_grp_false positive rate_0  \\\n",
       "0                   NaN                             NaN   \n",
       "0              0.141054                        0.965827   \n",
       "0                   NaN                             NaN   \n",
       "0              0.158873                        0.898470   \n",
       "\n",
       "   perf_grp_false positive rate_1  perf_grp_false negative rate_0  \\\n",
       "0                             NaN                             NaN   \n",
       "0                        0.870765                        0.015203   \n",
       "0                             NaN                             NaN   \n",
       "0                        0.682542                        0.052787   \n",
       "\n",
       "   perf_grp_false negative rate_1  perf_grp_selection rate_0  \\\n",
       "0                             NaN                        NaN   \n",
       "0                        0.060832                   0.968014   \n",
       "0                             NaN                        NaN   \n",
       "0                        0.153282                   0.904090   \n",
       "\n",
       "   perf_grp_selection rate_1  perf_grp_count_0  perf_grp_count_1  \n",
       "0                        NaN               NaN               NaN  \n",
       "0                   0.879803           20540.0           69170.0  \n",
       "0                        NaN               NaN               NaN  \n",
       "0                   0.704236           20540.0           69170.0  \n",
       "\n",
       "[4 rows x 50 columns]"
      ]
     },
     "execution_count": 64,
     "metadata": {},
     "output_type": "execute_result"
    }
   ],
   "source": [
    "final_output = universe_analysis.generate_final_output(\n",
    "    y_pred_prob=probs_test,\n",
    "    y_test=y_true,\n",
    "    org_test=org_test,\n",
    "    filter_data=filter_sub_universe_data,\n",
    "    cp_metrics_df=cp_metrics_df,\n",
    "    save=True,\n",
    ")\n",
    "final_output"
   ]
  },
  {
   "cell_type": "code",
   "execution_count": null,
   "id": "8b80a1ff",
   "metadata": {
    "papermill": {
     "duration": 0.021831,
     "end_time": "2025-08-19T19:00:58.200454",
     "exception": false,
     "start_time": "2025-08-19T19:00:58.178623",
     "status": "completed"
    },
    "tags": []
   },
   "outputs": [],
   "source": []
  },
  {
   "cell_type": "code",
   "execution_count": null,
   "id": "275c9fad",
   "metadata": {
    "papermill": {
     "duration": 0.01443,
     "end_time": "2025-08-19T19:00:58.229430",
     "exception": false,
     "start_time": "2025-08-19T19:00:58.215000",
     "status": "completed"
    },
    "tags": []
   },
   "outputs": [],
   "source": []
  }
 ],
 "metadata": {
  "celltoolbar": "Tags",
  "kernelspec": {
   "display_name": "Python (CMA Fairness)",
   "language": "python",
   "name": "cma_fair_env"
  },
  "language_info": {
   "codemirror_mode": {
    "name": "ipython",
    "version": 3
   },
   "file_extension": ".py",
   "mimetype": "text/x-python",
   "name": "python",
   "nbconvert_exporter": "python",
   "pygments_lexer": "ipython3",
   "version": "3.10.12"
  },
  "papermill": {
   "default_parameters": {},
   "duration": 31.706959,
   "end_time": "2025-08-19T19:00:59.066479",
   "environment_variables": {},
   "exception": null,
   "input_path": "universe_analysis.ipynb",
   "output_path": "output/runs/3/notebooks/m_3-e738aced91e6b0645fb067ce7c5efa80.ipynb",
   "parameters": {
    "output_dir": "output",
    "run_no": "3",
    "seed": "2023",
    "universe": "{\"cutoff\": [\"quantile_0.1\", \"quantile_0.25\"], \"eval_fairness_grouping\": [\"majority-minority\", \"nationality-all\"], \"exclude_features\": \"none\", \"exclude_subgroups\": \"keep-all\", \"model\": \"logreg\", \"scale\": \"do-not-scale\", \"training_size\": \"1k\", \"training_year\": \"2012_14\"}",
    "universe_id": "e738aced91e6b0645fb067ce7c5efa80"
   },
   "start_time": "2025-08-19T19:00:27.359520",
   "version": "2.6.0"
  }
 },
 "nbformat": 4,
 "nbformat_minor": 5
}