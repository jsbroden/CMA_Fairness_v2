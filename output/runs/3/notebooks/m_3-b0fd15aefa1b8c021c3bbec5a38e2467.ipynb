{
 "cells": [
  {
   "cell_type": "markdown",
   "id": "ef23dbb3",
   "metadata": {
    "papermill": {
     "duration": 0.00934,
     "end_time": "2025-08-19T19:01:00.606661",
     "exception": false,
     "start_time": "2025-08-19T19:01:00.597321",
     "status": "completed"
    },
    "tags": []
   },
   "source": [
    "# Setup"
   ]
  },
  {
   "cell_type": "code",
   "execution_count": 1,
   "id": "0bc8e7dc",
   "metadata": {
    "execution": {
     "iopub.execute_input": "2025-08-19T19:01:00.627490Z",
     "iopub.status.busy": "2025-08-19T19:01:00.626313Z",
     "iopub.status.idle": "2025-08-19T19:01:00.647460Z",
     "shell.execute_reply": "2025-08-19T19:01:00.646403Z"
    },
    "papermill": {
     "duration": 0.033659,
     "end_time": "2025-08-19T19:01:00.649146",
     "exception": false,
     "start_time": "2025-08-19T19:01:00.615487",
     "status": "completed"
    },
    "tags": []
   },
   "outputs": [
    {
     "name": "stdout",
     "output_type": "stream",
     "text": [
      "/dss/dsshome1/0C/ra93lal2/cma/CMA_Fairness_v2\n"
     ]
    },
    {
     "name": "stderr",
     "output_type": "stream",
     "text": [
      "/dss/dsshome1/0C/ra93lal2/.local/share/virtualenvs/CMA_Fairness_v2-3j10GkSs/lib/python3.10/site-packages/IPython/core/magics/osm.py:393: UserWarning: This is now an optional IPython functionality, using bookmarks requires you to install the `pickleshare` library.\n",
      "  bkms = self.shell.db.get('bookmarks', {})\n",
      "/dss/dsshome1/0C/ra93lal2/.local/share/virtualenvs/CMA_Fairness_v2-3j10GkSs/lib/python3.10/site-packages/IPython/core/magics/osm.py:417: UserWarning: This is now an optional IPython functionality, setting dhist requires you to install the `pickleshare` library.\n",
      "  self.shell.db['dhist'] = compress_dhist(dhist)[-100:]\n"
     ]
    }
   ],
   "source": [
    "%cd ~/cma/CMA_Fairness_v2"
   ]
  },
  {
   "cell_type": "markdown",
   "id": "9d235661",
   "metadata": {
    "papermill": {
     "duration": 0.010157,
     "end_time": "2025-08-19T19:01:00.673636",
     "exception": false,
     "start_time": "2025-08-19T19:01:00.663479",
     "status": "completed"
    },
    "tags": []
   },
   "source": [
    "The following cell holds the definition of our parameters, these values can be overriden by rendering the with e.g. the following command:\n",
    "\n",
    "papermill -p alpha 0.2 -p ratio 0.3 universe_analysis.ipynb output/test_run.ipynb"
   ]
  },
  {
   "cell_type": "code",
   "execution_count": 2,
   "id": "4a789d8e",
   "metadata": {
    "execution": {
     "iopub.execute_input": "2025-08-19T19:01:00.694446Z",
     "iopub.status.busy": "2025-08-19T19:01:00.693350Z",
     "iopub.status.idle": "2025-08-19T19:01:00.703466Z",
     "shell.execute_reply": "2025-08-19T19:01:00.701661Z"
    },
    "papermill": {
     "duration": 0.026942,
     "end_time": "2025-08-19T19:01:00.709387",
     "exception": false,
     "start_time": "2025-08-19T19:01:00.682445",
     "status": "completed"
    },
    "tags": []
   },
   "outputs": [
    {
     "name": "stdout",
     "output_type": "stream",
     "text": [
      "Current working directory: /dss/dsshome1/0C/ra93lal2/cma/CMA_Fairness_v2\n"
     ]
    }
   ],
   "source": [
    "import os\n",
    "print(\"Current working directory:\", os.getcwd())"
   ]
  },
  {
   "cell_type": "code",
   "execution_count": 3,
   "id": "4132aaed",
   "metadata": {
    "execution": {
     "iopub.execute_input": "2025-08-19T19:01:00.736772Z",
     "iopub.status.busy": "2025-08-19T19:01:00.736448Z",
     "iopub.status.idle": "2025-08-19T19:01:00.741192Z",
     "shell.execute_reply": "2025-08-19T19:01:00.740379Z"
    },
    "papermill": {
     "duration": 0.017517,
     "end_time": "2025-08-19T19:01:00.743128",
     "exception": false,
     "start_time": "2025-08-19T19:01:00.725611",
     "status": "completed"
    },
    "tags": [
     "parameters"
    ]
   },
   "outputs": [],
   "source": [
    "run_no = 0\n",
    "universe_id = \"test\"\n",
    "universe = {\n",
    "    \"training_size\": \"5k\", # \"25k\", \"5k\", \"1k\"\n",
    "    \"training_year\": \"2012_14\", # \"2014\", \"2012_14\", \"2010_14\"\n",
    "    \"scale\": \"scale\", # \"scale\", \"do-not-scale\",\n",
    "    \"model\": \"elasticnet\", # \"logreg\", \"penalized_logreg\", \"rf\", \"gbm\", \"elasticnet\"\n",
    "    \"cutoff\": [\"quantile_0.15\", \"quantile_0.30\"],\n",
    "    \"exclude_features\": \"age\", # \"none\", \"nationality\", \"sex\", \"nationality-sex\", \"age\"\n",
    "    \"exclude_subgroups\": \"drop-non-german\", # \"keep-all\", \"drop-non-german\"\n",
    "    \"eval_fairness_grouping\": [\"majority-minority\", \"nationality-all\"]\n",
    "}\n",
    "\n",
    "output_dir=\"./output\"\n",
    "seed=0"
   ]
  },
  {
   "cell_type": "code",
   "execution_count": 4,
   "id": "76832d45",
   "metadata": {
    "execution": {
     "iopub.execute_input": "2025-08-19T19:01:00.764208Z",
     "iopub.status.busy": "2025-08-19T19:01:00.763914Z",
     "iopub.status.idle": "2025-08-19T19:01:00.768456Z",
     "shell.execute_reply": "2025-08-19T19:01:00.767630Z"
    },
    "papermill": {
     "duration": 0.02104,
     "end_time": "2025-08-19T19:01:00.774097",
     "exception": false,
     "start_time": "2025-08-19T19:01:00.753057",
     "status": "completed"
    },
    "tags": [
     "injected-parameters"
    ]
   },
   "outputs": [],
   "source": [
    "# Parameters\n",
    "universe_id = \"b0fd15aefa1b8c021c3bbec5a38e2467\"\n",
    "run_no = \"3\"\n",
    "universe = \"{\\\"cutoff\\\": [\\\"quantile_0.1\\\", \\\"quantile_0.25\\\"], \\\"eval_fairness_grouping\\\": [\\\"majority-minority\\\", \\\"nationality-all\\\"], \\\"exclude_features\\\": \\\"age\\\", \\\"exclude_subgroups\\\": \\\"keep-all\\\", \\\"model\\\": \\\"logreg\\\", \\\"scale\\\": \\\"do-not-scale\\\", \\\"training_size\\\": \\\"1k\\\", \\\"training_year\\\": \\\"2012_14\\\"}\"\n",
    "output_dir = \"output\"\n",
    "seed = \"2023\"\n"
   ]
  },
  {
   "cell_type": "code",
   "execution_count": 5,
   "id": "a5d7941f",
   "metadata": {
    "execution": {
     "iopub.execute_input": "2025-08-19T19:01:00.794945Z",
     "iopub.status.busy": "2025-08-19T19:01:00.793933Z",
     "iopub.status.idle": "2025-08-19T19:01:00.819385Z",
     "shell.execute_reply": "2025-08-19T19:01:00.817575Z"
    },
    "papermill": {
     "duration": 0.037874,
     "end_time": "2025-08-19T19:01:00.821623",
     "exception": false,
     "start_time": "2025-08-19T19:01:00.783749",
     "status": "completed"
    },
    "tags": []
   },
   "outputs": [],
   "source": [
    "import json\n",
    "if isinstance(universe, str):\n",
    "    universe = json.loads(universe)"
   ]
  },
  {
   "cell_type": "code",
   "execution_count": 6,
   "id": "7076ccb1",
   "metadata": {
    "execution": {
     "iopub.execute_input": "2025-08-19T19:01:00.849596Z",
     "iopub.status.busy": "2025-08-19T19:01:00.848946Z",
     "iopub.status.idle": "2025-08-19T19:01:00.908401Z",
     "shell.execute_reply": "2025-08-19T19:01:00.907583Z"
    },
    "papermill": {
     "duration": 0.074626,
     "end_time": "2025-08-19T19:01:00.911474",
     "exception": false,
     "start_time": "2025-08-19T19:01:00.836848",
     "status": "completed"
    },
    "tags": []
   },
   "outputs": [],
   "source": [
    "# Auto-reload the custom package\n",
    "%load_ext autoreload\n",
    "%autoreload 1\n",
    "%aimport fairness_multiverse"
   ]
  },
  {
   "cell_type": "code",
   "execution_count": 7,
   "id": "94c8eb93",
   "metadata": {
    "execution": {
     "iopub.execute_input": "2025-08-19T19:01:00.947246Z",
     "iopub.status.busy": "2025-08-19T19:01:00.945922Z",
     "iopub.status.idle": "2025-08-19T19:01:02.745239Z",
     "shell.execute_reply": "2025-08-19T19:01:02.744099Z"
    },
    "papermill": {
     "duration": 1.814149,
     "end_time": "2025-08-19T19:01:02.747059",
     "exception": false,
     "start_time": "2025-08-19T19:01:00.932910",
     "status": "completed"
    },
    "tags": []
   },
   "outputs": [],
   "source": [
    "from fairness_multiverse.universe import UniverseAnalysis\n",
    "\n",
    "universe_analysis = UniverseAnalysis(\n",
    "    run_no = run_no,\n",
    "    universe_id = universe_id,\n",
    "    universe = universe,\n",
    "    output_dir=output_dir,\n",
    ")"
   ]
  },
  {
   "cell_type": "code",
   "execution_count": 8,
   "id": "2a6381cf",
   "metadata": {
    "execution": {
     "iopub.execute_input": "2025-08-19T19:01:02.768196Z",
     "iopub.status.busy": "2025-08-19T19:01:02.767856Z",
     "iopub.status.idle": "2025-08-19T19:01:02.776001Z",
     "shell.execute_reply": "2025-08-19T19:01:02.773204Z"
    },
    "papermill": {
     "duration": 0.023227,
     "end_time": "2025-08-19T19:01:02.780341",
     "exception": false,
     "start_time": "2025-08-19T19:01:02.757114",
     "status": "completed"
    },
    "tags": []
   },
   "outputs": [
    {
     "name": "stdout",
     "output_type": "stream",
     "text": [
      "Using Seed: 2023\n"
     ]
    }
   ],
   "source": [
    "import numpy as np\n",
    "parsed_seed = int(seed)\n",
    "np.random.seed(parsed_seed)\n",
    "print(f\"Using Seed: {parsed_seed}\")"
   ]
  },
  {
   "cell_type": "markdown",
   "id": "b6e958b4",
   "metadata": {
    "papermill": {
     "duration": 0.023098,
     "end_time": "2025-08-19T19:01:02.821545",
     "exception": false,
     "start_time": "2025-08-19T19:01:02.798447",
     "status": "completed"
    },
    "tags": []
   },
   "source": [
    "# Loading Data"
   ]
  },
  {
   "cell_type": "code",
   "execution_count": 9,
   "id": "98701482",
   "metadata": {
    "execution": {
     "iopub.execute_input": "2025-08-19T19:01:02.856196Z",
     "iopub.status.busy": "2025-08-19T19:01:02.855758Z",
     "iopub.status.idle": "2025-08-19T19:01:13.102438Z",
     "shell.execute_reply": "2025-08-19T19:01:13.101137Z"
    },
    "papermill": {
     "duration": 10.264033,
     "end_time": "2025-08-19T19:01:13.103854",
     "exception": false,
     "start_time": "2025-08-19T19:01:02.839821",
     "status": "completed"
    },
    "tags": []
   },
   "outputs": [
    {
     "name": "stdout",
     "output_type": "stream",
     "text": [
      "Loading SIAB data from cache: data/siab_cached.csv.gz\n"
     ]
    },
    {
     "name": "stdout",
     "output_type": "stream",
     "text": [
      "(643690, 164)\n"
     ]
    }
   ],
   "source": [
    "from pathlib import Path\n",
    "import pandas as pd\n",
    "\n",
    "# File paths\n",
    "raw_file = Path(\"data/raw/siab.csv\")\n",
    "cache_file = Path(\"data/siab_cached.csv.gz\")\n",
    "\n",
    "# Ensure cache directory exists\n",
    "cache_file.parent.mkdir(parents=True, exist_ok=True)\n",
    "\n",
    "# Load with simple caching\n",
    "if cache_file.exists():\n",
    "    print(f\"Loading SIAB data from cache: {cache_file}\")\n",
    "    siab = pd.read_csv(cache_file, compression='gzip')\n",
    "else:\n",
    "    print(f\"Cache not found. Reading raw SIAB data: {raw_file}\")\n",
    "    siab = pd.read_csv(raw_file)\n",
    "    siab.to_csv(cache_file, index=False, compression='gzip')\n",
    "    print(f\"Cached SIAB data to: {cache_file}\")\n",
    "\n",
    "print(siab.shape)"
   ]
  },
  {
   "cell_type": "code",
   "execution_count": 10,
   "id": "058d2abb",
   "metadata": {
    "execution": {
     "iopub.execute_input": "2025-08-19T19:01:13.137107Z",
     "iopub.status.busy": "2025-08-19T19:01:13.136697Z",
     "iopub.status.idle": "2025-08-19T19:01:13.262522Z",
     "shell.execute_reply": "2025-08-19T19:01:13.261677Z"
    },
    "papermill": {
     "duration": 0.144301,
     "end_time": "2025-08-19T19:01:13.264145",
     "exception": false,
     "start_time": "2025-08-19T19:01:13.119844",
     "status": "completed"
    },
    "tags": []
   },
   "outputs": [
    {
     "data": {
      "text/html": [
       "<div>\n",
       "<style scoped>\n",
       "    .dataframe tbody tr th:only-of-type {\n",
       "        vertical-align: middle;\n",
       "    }\n",
       "\n",
       "    .dataframe tbody tr th {\n",
       "        vertical-align: top;\n",
       "    }\n",
       "\n",
       "    .dataframe thead th {\n",
       "        text-align: right;\n",
       "    }\n",
       "</style>\n",
       "<table border=\"1\" class=\"dataframe\">\n",
       "  <thead>\n",
       "    <tr style=\"text-align: right;\">\n",
       "      <th></th>\n",
       "      <th>persnr</th>\n",
       "      <th>year</th>\n",
       "      <th>nrEntry</th>\n",
       "      <th>ltue</th>\n",
       "      <th>employed_before</th>\n",
       "      <th>receipt_leh_before</th>\n",
       "      <th>receipt_lhg_before</th>\n",
       "      <th>se_before</th>\n",
       "      <th>ASU_notue_seeking_before</th>\n",
       "      <th>ASU_other_before</th>\n",
       "      <th>...</th>\n",
       "      <th>minijob_tot_dur_byage</th>\n",
       "      <th>ft_tot_dur_byage</th>\n",
       "      <th>befrist_tot_dur_byage</th>\n",
       "      <th>leih_tot_dur_byage</th>\n",
       "      <th>LHG_tot_dur_byage</th>\n",
       "      <th>LEH_tot_dur_byage</th>\n",
       "      <th>almp_tot_dur_byage</th>\n",
       "      <th>almp_aw_tot_dur_byage</th>\n",
       "      <th>se_tot_dur_byage</th>\n",
       "      <th>seeking1_tot_dur_byage</th>\n",
       "    </tr>\n",
       "  </thead>\n",
       "  <tbody>\n",
       "    <tr>\n",
       "      <th>0</th>\n",
       "      <td>7</td>\n",
       "      <td>2015</td>\n",
       "      <td>1</td>\n",
       "      <td>0</td>\n",
       "      <td>1</td>\n",
       "      <td>0</td>\n",
       "      <td>0</td>\n",
       "      <td>0</td>\n",
       "      <td>1</td>\n",
       "      <td>0</td>\n",
       "      <td>...</td>\n",
       "      <td>0.000000</td>\n",
       "      <td>0.000000</td>\n",
       "      <td>15.043478</td>\n",
       "      <td>0.000000</td>\n",
       "      <td>0.000000</td>\n",
       "      <td>0.000000</td>\n",
       "      <td>0.000000</td>\n",
       "      <td>0.000000</td>\n",
       "      <td>0.000000</td>\n",
       "      <td>0.000000</td>\n",
       "    </tr>\n",
       "    <tr>\n",
       "      <th>1</th>\n",
       "      <td>18</td>\n",
       "      <td>2010</td>\n",
       "      <td>1</td>\n",
       "      <td>1</td>\n",
       "      <td>0</td>\n",
       "      <td>0</td>\n",
       "      <td>0</td>\n",
       "      <td>0</td>\n",
       "      <td>0</td>\n",
       "      <td>0</td>\n",
       "      <td>...</td>\n",
       "      <td>0.000000</td>\n",
       "      <td>0.000000</td>\n",
       "      <td>0.000000</td>\n",
       "      <td>0.000000</td>\n",
       "      <td>0.000000</td>\n",
       "      <td>0.000000</td>\n",
       "      <td>0.000000</td>\n",
       "      <td>0.000000</td>\n",
       "      <td>0.000000</td>\n",
       "      <td>0.000000</td>\n",
       "    </tr>\n",
       "    <tr>\n",
       "      <th>2</th>\n",
       "      <td>18</td>\n",
       "      <td>2011</td>\n",
       "      <td>2</td>\n",
       "      <td>0</td>\n",
       "      <td>1</td>\n",
       "      <td>0</td>\n",
       "      <td>1</td>\n",
       "      <td>0</td>\n",
       "      <td>1</td>\n",
       "      <td>0</td>\n",
       "      <td>...</td>\n",
       "      <td>2.714286</td>\n",
       "      <td>2.714286</td>\n",
       "      <td>0.000000</td>\n",
       "      <td>0.000000</td>\n",
       "      <td>10.775510</td>\n",
       "      <td>0.000000</td>\n",
       "      <td>8.367347</td>\n",
       "      <td>0.000000</td>\n",
       "      <td>0.000000</td>\n",
       "      <td>9.836735</td>\n",
       "    </tr>\n",
       "    <tr>\n",
       "      <th>3</th>\n",
       "      <td>18</td>\n",
       "      <td>2012</td>\n",
       "      <td>3</td>\n",
       "      <td>0</td>\n",
       "      <td>1</td>\n",
       "      <td>0</td>\n",
       "      <td>1</td>\n",
       "      <td>0</td>\n",
       "      <td>1</td>\n",
       "      <td>0</td>\n",
       "      <td>...</td>\n",
       "      <td>4.200000</td>\n",
       "      <td>4.200000</td>\n",
       "      <td>0.000000</td>\n",
       "      <td>0.000000</td>\n",
       "      <td>12.100000</td>\n",
       "      <td>0.000000</td>\n",
       "      <td>9.400000</td>\n",
       "      <td>0.000000</td>\n",
       "      <td>0.000000</td>\n",
       "      <td>9.960000</td>\n",
       "    </tr>\n",
       "    <tr>\n",
       "      <th>4</th>\n",
       "      <td>18</td>\n",
       "      <td>2012</td>\n",
       "      <td>4</td>\n",
       "      <td>0</td>\n",
       "      <td>1</td>\n",
       "      <td>0</td>\n",
       "      <td>1</td>\n",
       "      <td>0</td>\n",
       "      <td>1</td>\n",
       "      <td>0</td>\n",
       "      <td>...</td>\n",
       "      <td>5.460000</td>\n",
       "      <td>5.460000</td>\n",
       "      <td>0.000000</td>\n",
       "      <td>0.000000</td>\n",
       "      <td>13.360000</td>\n",
       "      <td>0.000000</td>\n",
       "      <td>10.320000</td>\n",
       "      <td>0.000000</td>\n",
       "      <td>0.000000</td>\n",
       "      <td>10.280000</td>\n",
       "    </tr>\n",
       "    <tr>\n",
       "      <th>...</th>\n",
       "      <td>...</td>\n",
       "      <td>...</td>\n",
       "      <td>...</td>\n",
       "      <td>...</td>\n",
       "      <td>...</td>\n",
       "      <td>...</td>\n",
       "      <td>...</td>\n",
       "      <td>...</td>\n",
       "      <td>...</td>\n",
       "      <td>...</td>\n",
       "      <td>...</td>\n",
       "      <td>...</td>\n",
       "      <td>...</td>\n",
       "      <td>...</td>\n",
       "      <td>...</td>\n",
       "      <td>...</td>\n",
       "      <td>...</td>\n",
       "      <td>...</td>\n",
       "      <td>...</td>\n",
       "      <td>...</td>\n",
       "      <td>...</td>\n",
       "    </tr>\n",
       "    <tr>\n",
       "      <th>643685</th>\n",
       "      <td>1827860</td>\n",
       "      <td>2013</td>\n",
       "      <td>1</td>\n",
       "      <td>0</td>\n",
       "      <td>0</td>\n",
       "      <td>0</td>\n",
       "      <td>1</td>\n",
       "      <td>0</td>\n",
       "      <td>0</td>\n",
       "      <td>1</td>\n",
       "      <td>...</td>\n",
       "      <td>0.000000</td>\n",
       "      <td>0.000000</td>\n",
       "      <td>0.000000</td>\n",
       "      <td>0.000000</td>\n",
       "      <td>0.612903</td>\n",
       "      <td>0.000000</td>\n",
       "      <td>0.000000</td>\n",
       "      <td>0.000000</td>\n",
       "      <td>0.000000</td>\n",
       "      <td>0.000000</td>\n",
       "    </tr>\n",
       "    <tr>\n",
       "      <th>643686</th>\n",
       "      <td>1827860</td>\n",
       "      <td>2015</td>\n",
       "      <td>2</td>\n",
       "      <td>1</td>\n",
       "      <td>0</td>\n",
       "      <td>0</td>\n",
       "      <td>1</td>\n",
       "      <td>0</td>\n",
       "      <td>1</td>\n",
       "      <td>0</td>\n",
       "      <td>...</td>\n",
       "      <td>0.000000</td>\n",
       "      <td>0.000000</td>\n",
       "      <td>0.212121</td>\n",
       "      <td>0.212121</td>\n",
       "      <td>17.363636</td>\n",
       "      <td>0.000000</td>\n",
       "      <td>8.909091</td>\n",
       "      <td>0.000000</td>\n",
       "      <td>0.000000</td>\n",
       "      <td>7.121212</td>\n",
       "    </tr>\n",
       "    <tr>\n",
       "      <th>643687</th>\n",
       "      <td>1827860</td>\n",
       "      <td>2016</td>\n",
       "      <td>3</td>\n",
       "      <td>1</td>\n",
       "      <td>0</td>\n",
       "      <td>0</td>\n",
       "      <td>1</td>\n",
       "      <td>1</td>\n",
       "      <td>0</td>\n",
       "      <td>1</td>\n",
       "      <td>...</td>\n",
       "      <td>0.000000</td>\n",
       "      <td>0.000000</td>\n",
       "      <td>0.294118</td>\n",
       "      <td>0.205882</td>\n",
       "      <td>34.705882</td>\n",
       "      <td>0.000000</td>\n",
       "      <td>10.352941</td>\n",
       "      <td>1.705882</td>\n",
       "      <td>1.705882</td>\n",
       "      <td>23.911765</td>\n",
       "    </tr>\n",
       "    <tr>\n",
       "      <th>643688</th>\n",
       "      <td>1827869</td>\n",
       "      <td>2013</td>\n",
       "      <td>1</td>\n",
       "      <td>1</td>\n",
       "      <td>1</td>\n",
       "      <td>0</td>\n",
       "      <td>0</td>\n",
       "      <td>0</td>\n",
       "      <td>1</td>\n",
       "      <td>0</td>\n",
       "      <td>...</td>\n",
       "      <td>0.000000</td>\n",
       "      <td>0.000000</td>\n",
       "      <td>0.000000</td>\n",
       "      <td>0.000000</td>\n",
       "      <td>0.000000</td>\n",
       "      <td>0.525424</td>\n",
       "      <td>0.000000</td>\n",
       "      <td>0.000000</td>\n",
       "      <td>0.000000</td>\n",
       "      <td>0.000000</td>\n",
       "    </tr>\n",
       "    <tr>\n",
       "      <th>643689</th>\n",
       "      <td>1827869</td>\n",
       "      <td>2014</td>\n",
       "      <td>2</td>\n",
       "      <td>0</td>\n",
       "      <td>0</td>\n",
       "      <td>1</td>\n",
       "      <td>0</td>\n",
       "      <td>0</td>\n",
       "      <td>1</td>\n",
       "      <td>0</td>\n",
       "      <td>...</td>\n",
       "      <td>0.000000</td>\n",
       "      <td>0.666667</td>\n",
       "      <td>0.666667</td>\n",
       "      <td>0.000000</td>\n",
       "      <td>0.000000</td>\n",
       "      <td>8.950000</td>\n",
       "      <td>1.033333</td>\n",
       "      <td>0.083333</td>\n",
       "      <td>0.083333</td>\n",
       "      <td>8.133333</td>\n",
       "    </tr>\n",
       "  </tbody>\n",
       "</table>\n",
       "<p>643690 rows × 164 columns</p>\n",
       "</div>"
      ],
      "text/plain": [
       "         persnr  year  nrEntry  ltue  employed_before  receipt_leh_before  \\\n",
       "0             7  2015        1     0                1                   0   \n",
       "1            18  2010        1     1                0                   0   \n",
       "2            18  2011        2     0                1                   0   \n",
       "3            18  2012        3     0                1                   0   \n",
       "4            18  2012        4     0                1                   0   \n",
       "...         ...   ...      ...   ...              ...                 ...   \n",
       "643685  1827860  2013        1     0                0                   0   \n",
       "643686  1827860  2015        2     1                0                   0   \n",
       "643687  1827860  2016        3     1                0                   0   \n",
       "643688  1827869  2013        1     1                1                   0   \n",
       "643689  1827869  2014        2     0                0                   1   \n",
       "\n",
       "        receipt_lhg_before  se_before  ASU_notue_seeking_before  \\\n",
       "0                        0          0                         1   \n",
       "1                        0          0                         0   \n",
       "2                        1          0                         1   \n",
       "3                        1          0                         1   \n",
       "4                        1          0                         1   \n",
       "...                    ...        ...                       ...   \n",
       "643685                   1          0                         0   \n",
       "643686                   1          0                         1   \n",
       "643687                   1          1                         0   \n",
       "643688                   0          0                         1   \n",
       "643689                   0          0                         1   \n",
       "\n",
       "        ASU_other_before  ...  minijob_tot_dur_byage  ft_tot_dur_byage  \\\n",
       "0                      0  ...               0.000000          0.000000   \n",
       "1                      0  ...               0.000000          0.000000   \n",
       "2                      0  ...               2.714286          2.714286   \n",
       "3                      0  ...               4.200000          4.200000   \n",
       "4                      0  ...               5.460000          5.460000   \n",
       "...                  ...  ...                    ...               ...   \n",
       "643685                 1  ...               0.000000          0.000000   \n",
       "643686                 0  ...               0.000000          0.000000   \n",
       "643687                 1  ...               0.000000          0.000000   \n",
       "643688                 0  ...               0.000000          0.000000   \n",
       "643689                 0  ...               0.000000          0.666667   \n",
       "\n",
       "        befrist_tot_dur_byage  leih_tot_dur_byage  LHG_tot_dur_byage  \\\n",
       "0                   15.043478            0.000000           0.000000   \n",
       "1                    0.000000            0.000000           0.000000   \n",
       "2                    0.000000            0.000000          10.775510   \n",
       "3                    0.000000            0.000000          12.100000   \n",
       "4                    0.000000            0.000000          13.360000   \n",
       "...                       ...                 ...                ...   \n",
       "643685               0.000000            0.000000           0.612903   \n",
       "643686               0.212121            0.212121          17.363636   \n",
       "643687               0.294118            0.205882          34.705882   \n",
       "643688               0.000000            0.000000           0.000000   \n",
       "643689               0.666667            0.000000           0.000000   \n",
       "\n",
       "        LEH_tot_dur_byage  almp_tot_dur_byage  almp_aw_tot_dur_byage  \\\n",
       "0                0.000000            0.000000               0.000000   \n",
       "1                0.000000            0.000000               0.000000   \n",
       "2                0.000000            8.367347               0.000000   \n",
       "3                0.000000            9.400000               0.000000   \n",
       "4                0.000000           10.320000               0.000000   \n",
       "...                   ...                 ...                    ...   \n",
       "643685           0.000000            0.000000               0.000000   \n",
       "643686           0.000000            8.909091               0.000000   \n",
       "643687           0.000000           10.352941               1.705882   \n",
       "643688           0.525424            0.000000               0.000000   \n",
       "643689           8.950000            1.033333               0.083333   \n",
       "\n",
       "        se_tot_dur_byage  seeking1_tot_dur_byage  \n",
       "0               0.000000                0.000000  \n",
       "1               0.000000                0.000000  \n",
       "2               0.000000                9.836735  \n",
       "3               0.000000                9.960000  \n",
       "4               0.000000               10.280000  \n",
       "...                  ...                     ...  \n",
       "643685          0.000000                0.000000  \n",
       "643686          0.000000                7.121212  \n",
       "643687          1.705882               23.911765  \n",
       "643688          0.000000                0.000000  \n",
       "643689          0.083333                8.133333  \n",
       "\n",
       "[643690 rows x 164 columns]"
      ]
     },
     "execution_count": 10,
     "metadata": {},
     "output_type": "execute_result"
    }
   ],
   "source": [
    "siab"
   ]
  },
  {
   "cell_type": "markdown",
   "id": "1f87e805",
   "metadata": {
    "papermill": {
     "duration": 0.009689,
     "end_time": "2025-08-19T19:01:13.285729",
     "exception": false,
     "start_time": "2025-08-19T19:01:13.276040",
     "status": "completed"
    },
    "tags": []
   },
   "source": [
    "# Splitting Data and Setting Training Data Size"
   ]
  },
  {
   "cell_type": "code",
   "execution_count": 11,
   "id": "910ae358",
   "metadata": {
    "execution": {
     "iopub.execute_input": "2025-08-19T19:01:13.306374Z",
     "iopub.status.busy": "2025-08-19T19:01:13.305977Z",
     "iopub.status.idle": "2025-08-19T19:01:13.957600Z",
     "shell.execute_reply": "2025-08-19T19:01:13.956723Z"
    },
    "papermill": {
     "duration": 0.664578,
     "end_time": "2025-08-19T19:01:13.960019",
     "exception": false,
     "start_time": "2025-08-19T19:01:13.295441",
     "status": "completed"
    },
    "tags": []
   },
   "outputs": [],
   "source": [
    "from fairness_multiverse.universe import sample_by_year_size\n",
    "\n",
    "siab_train = sample_by_year_size(siab,\n",
    "                               training_year=universe[\"training_year\"],\n",
    "                               training_size=universe[\"training_size\"])"
   ]
  },
  {
   "cell_type": "code",
   "execution_count": 12,
   "id": "919c8ff5",
   "metadata": {
    "execution": {
     "iopub.execute_input": "2025-08-19T19:01:13.984605Z",
     "iopub.status.busy": "2025-08-19T19:01:13.984164Z",
     "iopub.status.idle": "2025-08-19T19:01:13.991867Z",
     "shell.execute_reply": "2025-08-19T19:01:13.991037Z"
    },
    "papermill": {
     "duration": 0.020973,
     "end_time": "2025-08-19T19:01:13.993434",
     "exception": false,
     "start_time": "2025-08-19T19:01:13.972461",
     "status": "completed"
    },
    "tags": []
   },
   "outputs": [
    {
     "data": {
      "text/plain": [
       "(1000, 164)"
      ]
     },
     "execution_count": 12,
     "metadata": {},
     "output_type": "execute_result"
    }
   ],
   "source": [
    "siab_train.shape"
   ]
  },
  {
   "cell_type": "code",
   "execution_count": 13,
   "id": "feb13bf4",
   "metadata": {
    "execution": {
     "iopub.execute_input": "2025-08-19T19:01:14.015888Z",
     "iopub.status.busy": "2025-08-19T19:01:14.015481Z",
     "iopub.status.idle": "2025-08-19T19:01:14.023537Z",
     "shell.execute_reply": "2025-08-19T19:01:14.022677Z"
    },
    "papermill": {
     "duration": 0.021317,
     "end_time": "2025-08-19T19:01:14.025344",
     "exception": false,
     "start_time": "2025-08-19T19:01:14.004027",
     "status": "completed"
    },
    "tags": []
   },
   "outputs": [
    {
     "data": {
      "text/plain": [
       "year\n",
       "2012    334\n",
       "2013    333\n",
       "2014    333\n",
       "dtype: int64"
      ]
     },
     "metadata": {},
     "output_type": "display_data"
    }
   ],
   "source": [
    "display(siab_train.groupby(\"year\").size())"
   ]
  },
  {
   "cell_type": "code",
   "execution_count": 14,
   "id": "0997782f",
   "metadata": {
    "execution": {
     "iopub.execute_input": "2025-08-19T19:01:14.047118Z",
     "iopub.status.busy": "2025-08-19T19:01:14.046423Z",
     "iopub.status.idle": "2025-08-19T19:01:14.277841Z",
     "shell.execute_reply": "2025-08-19T19:01:14.276689Z"
    },
    "papermill": {
     "duration": 0.243896,
     "end_time": "2025-08-19T19:01:14.279523",
     "exception": false,
     "start_time": "2025-08-19T19:01:14.035627",
     "status": "completed"
    },
    "tags": []
   },
   "outputs": [],
   "source": [
    "#siab_train = siab_s[siab_s.year < 2015]\n",
    "siab_calib = siab[siab.year == 2015]\n",
    "siab_test = siab[siab.year == 2016]"
   ]
  },
  {
   "cell_type": "code",
   "execution_count": 15,
   "id": "2c1e4012",
   "metadata": {
    "execution": {
     "iopub.execute_input": "2025-08-19T19:01:14.303909Z",
     "iopub.status.busy": "2025-08-19T19:01:14.303586Z",
     "iopub.status.idle": "2025-08-19T19:01:14.307980Z",
     "shell.execute_reply": "2025-08-19T19:01:14.307142Z"
    },
    "papermill": {
     "duration": 0.018646,
     "end_time": "2025-08-19T19:01:14.309971",
     "exception": false,
     "start_time": "2025-08-19T19:01:14.291325",
     "status": "completed"
    },
    "tags": []
   },
   "outputs": [],
   "source": [
    "#siab_calib.shape"
   ]
  },
  {
   "cell_type": "code",
   "execution_count": 16,
   "id": "f66b54ca",
   "metadata": {
    "execution": {
     "iopub.execute_input": "2025-08-19T19:01:14.334397Z",
     "iopub.status.busy": "2025-08-19T19:01:14.333970Z",
     "iopub.status.idle": "2025-08-19T19:01:14.340401Z",
     "shell.execute_reply": "2025-08-19T19:01:14.339316Z"
    },
    "papermill": {
     "duration": 0.021001,
     "end_time": "2025-08-19T19:01:14.341884",
     "exception": false,
     "start_time": "2025-08-19T19:01:14.320883",
     "status": "completed"
    },
    "tags": []
   },
   "outputs": [],
   "source": [
    "#siab_test.shape"
   ]
  },
  {
   "cell_type": "code",
   "execution_count": 17,
   "id": "27e4384d",
   "metadata": {
    "execution": {
     "iopub.execute_input": "2025-08-19T19:01:14.367393Z",
     "iopub.status.busy": "2025-08-19T19:01:14.366931Z",
     "iopub.status.idle": "2025-08-19T19:01:14.373809Z",
     "shell.execute_reply": "2025-08-19T19:01:14.372783Z"
    },
    "papermill": {
     "duration": 0.020274,
     "end_time": "2025-08-19T19:01:14.375326",
     "exception": false,
     "start_time": "2025-08-19T19:01:14.355052",
     "status": "completed"
    },
    "tags": []
   },
   "outputs": [],
   "source": [
    "X_train = siab_train.iloc[:,4:164]\n",
    "y_train = siab_train.iloc[:, [3]]"
   ]
  },
  {
   "cell_type": "code",
   "execution_count": 18,
   "id": "08ee8389",
   "metadata": {
    "execution": {
     "iopub.execute_input": "2025-08-19T19:01:14.402119Z",
     "iopub.status.busy": "2025-08-19T19:01:14.401705Z",
     "iopub.status.idle": "2025-08-19T19:01:14.467258Z",
     "shell.execute_reply": "2025-08-19T19:01:14.465755Z"
    },
    "papermill": {
     "duration": 0.080595,
     "end_time": "2025-08-19T19:01:14.470495",
     "exception": false,
     "start_time": "2025-08-19T19:01:14.389900",
     "status": "completed"
    },
    "tags": []
   },
   "outputs": [],
   "source": [
    "X_calib = siab_calib.iloc[:,4:164]\n",
    "y_calib = siab_calib.iloc[:, [3]]"
   ]
  },
  {
   "cell_type": "code",
   "execution_count": 19,
   "id": "b7ff42e0",
   "metadata": {
    "execution": {
     "iopub.execute_input": "2025-08-19T19:01:14.506396Z",
     "iopub.status.busy": "2025-08-19T19:01:14.506073Z",
     "iopub.status.idle": "2025-08-19T19:01:14.571146Z",
     "shell.execute_reply": "2025-08-19T19:01:14.570250Z"
    },
    "papermill": {
     "duration": 0.08111,
     "end_time": "2025-08-19T19:01:14.574255",
     "exception": false,
     "start_time": "2025-08-19T19:01:14.493145",
     "status": "completed"
    },
    "tags": []
   },
   "outputs": [],
   "source": [
    "X_test = siab_test.iloc[:,4:164]\n",
    "y_true = siab_test.iloc[:, [3]]"
   ]
  },
  {
   "cell_type": "code",
   "execution_count": 20,
   "id": "0275101e",
   "metadata": {
    "execution": {
     "iopub.execute_input": "2025-08-19T19:01:14.617064Z",
     "iopub.status.busy": "2025-08-19T19:01:14.615875Z",
     "iopub.status.idle": "2025-08-19T19:01:14.726196Z",
     "shell.execute_reply": "2025-08-19T19:01:14.723384Z"
    },
    "papermill": {
     "duration": 0.131498,
     "end_time": "2025-08-19T19:01:14.727749",
     "exception": false,
     "start_time": "2025-08-19T19:01:14.596251",
     "status": "completed"
    },
    "tags": []
   },
   "outputs": [],
   "source": [
    "# Auxiliary data needed downstream in the pipeline\n",
    "\n",
    "org_train = X_train.copy()\n",
    "org_test = X_test.copy()\n",
    "org_calib = X_calib.copy()"
   ]
  },
  {
   "cell_type": "markdown",
   "id": "b461e618",
   "metadata": {
    "papermill": {
     "duration": 0.024059,
     "end_time": "2025-08-19T19:01:14.777186",
     "exception": false,
     "start_time": "2025-08-19T19:01:14.753127",
     "status": "completed"
    },
    "tags": []
   },
   "source": [
    "# Preprocessing Data"
   ]
  },
  {
   "cell_type": "code",
   "execution_count": 21,
   "id": "78e74c4b",
   "metadata": {
    "execution": {
     "iopub.execute_input": "2025-08-19T19:01:14.805593Z",
     "iopub.status.busy": "2025-08-19T19:01:14.805173Z",
     "iopub.status.idle": "2025-08-19T19:01:14.810819Z",
     "shell.execute_reply": "2025-08-19T19:01:14.809599Z"
    },
    "papermill": {
     "duration": 0.019363,
     "end_time": "2025-08-19T19:01:14.812457",
     "exception": false,
     "start_time": "2025-08-19T19:01:14.793094",
     "status": "completed"
    },
    "tags": []
   },
   "outputs": [],
   "source": [
    "# EXCLUDE PROTECTED FEATURES\n",
    "# --------------------------\n",
    "\n",
    "excluded_features = universe[\"exclude_features\"].split(\"-\")\n",
    "excluded_features_dictionary = {\n",
    "    \"nationality\": [\"maxdeutsch1\", \"maxdeutsch.Missing.\"],\n",
    "    \"sex\": [\"frau1\"],\n",
    "    \"age\": [\"age\"],\n",
    "}"
   ]
  },
  {
   "cell_type": "code",
   "execution_count": 22,
   "id": "f8e63555",
   "metadata": {
    "execution": {
     "iopub.execute_input": "2025-08-19T19:01:14.835484Z",
     "iopub.status.busy": "2025-08-19T19:01:14.835074Z",
     "iopub.status.idle": "2025-08-19T19:01:14.840056Z",
     "shell.execute_reply": "2025-08-19T19:01:14.839157Z"
    },
    "papermill": {
     "duration": 0.018258,
     "end_time": "2025-08-19T19:01:14.841634",
     "exception": false,
     "start_time": "2025-08-19T19:01:14.823376",
     "status": "completed"
    },
    "tags": []
   },
   "outputs": [],
   "source": [
    "excluded_features_columns = [\n",
    "    excluded_features_dictionary[f] for f in excluded_features if len(f) > 0 and f != \"none\"\n",
    "]"
   ]
  },
  {
   "cell_type": "code",
   "execution_count": 23,
   "id": "da781f7c",
   "metadata": {
    "execution": {
     "iopub.execute_input": "2025-08-19T19:01:14.865430Z",
     "iopub.status.busy": "2025-08-19T19:01:14.864566Z",
     "iopub.status.idle": "2025-08-19T19:01:14.869665Z",
     "shell.execute_reply": "2025-08-19T19:01:14.868839Z"
    },
    "papermill": {
     "duration": 0.023191,
     "end_time": "2025-08-19T19:01:14.875857",
     "exception": false,
     "start_time": "2025-08-19T19:01:14.852666",
     "status": "completed"
    },
    "tags": []
   },
   "outputs": [],
   "source": [
    "from fairness_multiverse.universe import flatten_once\n",
    "\n",
    "excluded_features_columns = flatten_once(excluded_features_columns)"
   ]
  },
  {
   "cell_type": "code",
   "execution_count": 24,
   "id": "37fef0f0",
   "metadata": {
    "execution": {
     "iopub.execute_input": "2025-08-19T19:01:14.912797Z",
     "iopub.status.busy": "2025-08-19T19:01:14.911230Z",
     "iopub.status.idle": "2025-08-19T19:01:14.923627Z",
     "shell.execute_reply": "2025-08-19T19:01:14.922341Z"
    },
    "papermill": {
     "duration": 0.027333,
     "end_time": "2025-08-19T19:01:14.925300",
     "exception": false,
     "start_time": "2025-08-19T19:01:14.897967",
     "status": "completed"
    },
    "tags": []
   },
   "outputs": [
    {
     "name": "stdout",
     "output_type": "stream",
     "text": [
      "Dropping features: ['age']\n"
     ]
    }
   ],
   "source": [
    "if len(excluded_features_columns) > 0:\n",
    "    print(f\"Dropping features: {excluded_features_columns}\")\n",
    "    X_train.drop(excluded_features_columns, axis=1, inplace=True)"
   ]
  },
  {
   "cell_type": "code",
   "execution_count": 25,
   "id": "d029e3e9",
   "metadata": {
    "execution": {
     "iopub.execute_input": "2025-08-19T19:01:14.955367Z",
     "iopub.status.busy": "2025-08-19T19:01:14.953074Z",
     "iopub.status.idle": "2025-08-19T19:01:15.016308Z",
     "shell.execute_reply": "2025-08-19T19:01:15.015390Z"
    },
    "papermill": {
     "duration": 0.077899,
     "end_time": "2025-08-19T19:01:15.017544",
     "exception": false,
     "start_time": "2025-08-19T19:01:14.939645",
     "status": "completed"
    },
    "tags": []
   },
   "outputs": [
    {
     "name": "stdout",
     "output_type": "stream",
     "text": [
      "Dropping features: ['age']\n"
     ]
    }
   ],
   "source": [
    "if len(excluded_features_columns) > 0:\n",
    "    print(f\"Dropping features: {excluded_features_columns}\")\n",
    "    X_test.drop(excluded_features_columns, axis=1, inplace=True)"
   ]
  },
  {
   "cell_type": "code",
   "execution_count": 26,
   "id": "01d571f0",
   "metadata": {
    "execution": {
     "iopub.execute_input": "2025-08-19T19:01:15.053768Z",
     "iopub.status.busy": "2025-08-19T19:01:15.050882Z",
     "iopub.status.idle": "2025-08-19T19:01:15.104715Z",
     "shell.execute_reply": "2025-08-19T19:01:15.102924Z"
    },
    "papermill": {
     "duration": 0.068783,
     "end_time": "2025-08-19T19:01:15.107125",
     "exception": false,
     "start_time": "2025-08-19T19:01:15.038342",
     "status": "completed"
    },
    "tags": []
   },
   "outputs": [
    {
     "name": "stdout",
     "output_type": "stream",
     "text": [
      "Dropping features: ['age']\n"
     ]
    }
   ],
   "source": [
    "if len(excluded_features_columns) > 0:\n",
    "    print(f\"Dropping features: {excluded_features_columns}\")\n",
    "    X_calib.drop(excluded_features_columns, axis=1, inplace=True)"
   ]
  },
  {
   "cell_type": "code",
   "execution_count": 27,
   "id": "3037356e",
   "metadata": {
    "execution": {
     "iopub.execute_input": "2025-08-19T19:01:15.164033Z",
     "iopub.status.busy": "2025-08-19T19:01:15.163447Z",
     "iopub.status.idle": "2025-08-19T19:01:15.171016Z",
     "shell.execute_reply": "2025-08-19T19:01:15.170108Z"
    },
    "papermill": {
     "duration": 0.050369,
     "end_time": "2025-08-19T19:01:15.173614",
     "exception": false,
     "start_time": "2025-08-19T19:01:15.123245",
     "status": "completed"
    },
    "tags": []
   },
   "outputs": [],
   "source": [
    "# EXCLUDE CERTAIN SUBGROUPS\n",
    "# -------------------------\n",
    "\n",
    "mode = universe.get(\"exclude_subgroups\", \"keep-all\") # Defaults to \"keep-all\" if the key is missing."
   ]
  },
  {
   "cell_type": "code",
   "execution_count": 28,
   "id": "9d1e63fd",
   "metadata": {
    "execution": {
     "iopub.execute_input": "2025-08-19T19:01:15.218033Z",
     "iopub.status.busy": "2025-08-19T19:01:15.216841Z",
     "iopub.status.idle": "2025-08-19T19:01:15.229899Z",
     "shell.execute_reply": "2025-08-19T19:01:15.228627Z"
    },
    "papermill": {
     "duration": 0.035877,
     "end_time": "2025-08-19T19:01:15.232781",
     "exception": false,
     "start_time": "2025-08-19T19:01:15.196904",
     "status": "completed"
    },
    "tags": []
   },
   "outputs": [],
   "source": [
    "if mode == \"keep-all\":\n",
    "    keep_mask = pd.Series(True, index=org_train.index)\n",
    "\n",
    "elif mode == \"drop-non-german\":\n",
    "    keep_mask = (org_train[\"maxdeutsch1\"] == 1) & (org_train[\"maxdeutsch.Missing.\"] == 0)\n",
    "\n",
    "else:\n",
    "    raise ValueError(f\"Unsupported mode for exclude_subgroups: {mode}\")"
   ]
  },
  {
   "cell_type": "code",
   "execution_count": 29,
   "id": "d3b65474",
   "metadata": {
    "execution": {
     "iopub.execute_input": "2025-08-19T19:01:15.263817Z",
     "iopub.status.busy": "2025-08-19T19:01:15.262672Z",
     "iopub.status.idle": "2025-08-19T19:01:15.271080Z",
     "shell.execute_reply": "2025-08-19T19:01:15.270121Z"
    },
    "papermill": {
     "duration": 0.022896,
     "end_time": "2025-08-19T19:01:15.272358",
     "exception": false,
     "start_time": "2025-08-19T19:01:15.249462",
     "status": "completed"
    },
    "tags": []
   },
   "outputs": [],
   "source": [
    "n_drop = (~keep_mask).sum() # Calculates how many rows are set to be dropped\n",
    "if n_drop > 0:\n",
    "    pct = n_drop / len(keep_mask) * 100\n",
    "    print(f\"Dropping {n_drop} rows ({pct:.2f}%) where mode='{mode}'\")"
   ]
  },
  {
   "cell_type": "code",
   "execution_count": 30,
   "id": "f44389b3",
   "metadata": {
    "execution": {
     "iopub.execute_input": "2025-08-19T19:01:15.297312Z",
     "iopub.status.busy": "2025-08-19T19:01:15.295852Z",
     "iopub.status.idle": "2025-08-19T19:01:15.321605Z",
     "shell.execute_reply": "2025-08-19T19:01:15.320380Z"
    },
    "papermill": {
     "duration": 0.040272,
     "end_time": "2025-08-19T19:01:15.323566",
     "exception": false,
     "start_time": "2025-08-19T19:01:15.283294",
     "status": "completed"
    },
    "tags": []
   },
   "outputs": [],
   "source": [
    "X_train = X_train[keep_mask]"
   ]
  },
  {
   "cell_type": "code",
   "execution_count": 31,
   "id": "ceca8c2a",
   "metadata": {
    "execution": {
     "iopub.execute_input": "2025-08-19T19:01:15.352026Z",
     "iopub.status.busy": "2025-08-19T19:01:15.351326Z",
     "iopub.status.idle": "2025-08-19T19:01:15.359510Z",
     "shell.execute_reply": "2025-08-19T19:01:15.358299Z"
    },
    "papermill": {
     "duration": 0.022407,
     "end_time": "2025-08-19T19:01:15.361009",
     "exception": false,
     "start_time": "2025-08-19T19:01:15.338602",
     "status": "completed"
    },
    "tags": []
   },
   "outputs": [],
   "source": [
    "y_train = y_train[keep_mask]"
   ]
  },
  {
   "cell_type": "markdown",
   "id": "04d31e2f",
   "metadata": {
    "papermill": {
     "duration": 0.011056,
     "end_time": "2025-08-19T19:01:15.384811",
     "exception": false,
     "start_time": "2025-08-19T19:01:15.373755",
     "status": "completed"
    },
    "tags": []
   },
   "source": [
    "# Model Training"
   ]
  },
  {
   "cell_type": "code",
   "execution_count": 32,
   "id": "db991733",
   "metadata": {
    "execution": {
     "iopub.execute_input": "2025-08-19T19:01:15.409470Z",
     "iopub.status.busy": "2025-08-19T19:01:15.408754Z",
     "iopub.status.idle": "2025-08-19T19:01:15.513593Z",
     "shell.execute_reply": "2025-08-19T19:01:15.512655Z"
    },
    "papermill": {
     "duration": 0.120075,
     "end_time": "2025-08-19T19:01:15.515394",
     "exception": false,
     "start_time": "2025-08-19T19:01:15.395319",
     "status": "completed"
    },
    "tags": []
   },
   "outputs": [],
   "source": [
    "from sklearn.linear_model import LogisticRegression\n",
    "from sklearn.ensemble import GradientBoostingClassifier, RandomForestClassifier\n",
    "\n",
    "if (universe[\"model\"] == \"logreg\"):\n",
    "    model = LogisticRegression() #penalty=\"none\", solver=\"newton-cg\", max_iter=1)\n",
    "elif (universe[\"model\"] == \"penalized_logreg\"):\n",
    "    model = LogisticRegression(penalty=\"l2\", C=0.1) #, solver=\"newton-cg\", max_iter=1)\n",
    "elif (universe[\"model\"] == \"rf\"):\n",
    "    model = RandomForestClassifier() # n_estimators=100, n_jobs=-1\n",
    "elif (universe[\"model\"] == \"gbm\"):\n",
    "    model = GradientBoostingClassifier()\n",
    "elif (universe[\"model\"] == \"elasticnet\"):\n",
    "    model = LogisticRegression(penalty = 'elasticnet', solver = 'saga', l1_ratio = 0.5) # max_iter=5000\n",
    "else:\n",
    "    raise \"Unsupported universe.model\""
   ]
  },
  {
   "cell_type": "code",
   "execution_count": 33,
   "id": "a4b5cd25",
   "metadata": {
    "execution": {
     "iopub.execute_input": "2025-08-19T19:01:15.570872Z",
     "iopub.status.busy": "2025-08-19T19:01:15.570507Z",
     "iopub.status.idle": "2025-08-19T19:01:15.576516Z",
     "shell.execute_reply": "2025-08-19T19:01:15.575630Z"
    },
    "papermill": {
     "duration": 0.033594,
     "end_time": "2025-08-19T19:01:15.579103",
     "exception": false,
     "start_time": "2025-08-19T19:01:15.545509",
     "status": "completed"
    },
    "tags": []
   },
   "outputs": [],
   "source": [
    "from sklearn.pipeline import Pipeline\n",
    "from sklearn.preprocessing import StandardScaler\n",
    "\n",
    "model = Pipeline([\n",
    "    #(\"continuous_processor\", continuous_processor),\n",
    "    #(\"categorical_preprocessor\", categorical_preprocessor),\n",
    "    (\"scale\", StandardScaler() if universe[\"scale\"] == \"scale\" else None), \n",
    "    (\"model\", model),\n",
    "])"
   ]
  },
  {
   "cell_type": "code",
   "execution_count": 34,
   "id": "283a904d",
   "metadata": {
    "execution": {
     "iopub.execute_input": "2025-08-19T19:01:15.612301Z",
     "iopub.status.busy": "2025-08-19T19:01:15.611162Z",
     "iopub.status.idle": "2025-08-19T19:01:15.691316Z",
     "shell.execute_reply": "2025-08-19T19:01:15.690480Z"
    },
    "papermill": {
     "duration": 0.100737,
     "end_time": "2025-08-19T19:01:15.699748",
     "exception": false,
     "start_time": "2025-08-19T19:01:15.599011",
     "status": "completed"
    },
    "tags": []
   },
   "outputs": [
    {
     "name": "stderr",
     "output_type": "stream",
     "text": [
      "/dss/dsshome1/0C/ra93lal2/.local/share/virtualenvs/CMA_Fairness_v2-3j10GkSs/lib/python3.10/site-packages/sklearn/linear_model/_logistic.py:444: ConvergenceWarning: lbfgs failed to converge (status=1):\n",
      "STOP: TOTAL NO. of ITERATIONS REACHED LIMIT.\n",
      "\n",
      "Increase the number of iterations (max_iter) or scale the data as shown in:\n",
      "    https://scikit-learn.org/stable/modules/preprocessing.html\n",
      "Please also refer to the documentation for alternative solver options:\n",
      "    https://scikit-learn.org/stable/modules/linear_model.html#logistic-regression\n",
      "  n_iter_i = _check_optimize_result(\n"
     ]
    },
    {
     "data": {
      "text/html": [
       "<style>#sk-container-id-1 {color: black;background-color: white;}#sk-container-id-1 pre{padding: 0;}#sk-container-id-1 div.sk-toggleable {background-color: white;}#sk-container-id-1 label.sk-toggleable__label {cursor: pointer;display: block;width: 100%;margin-bottom: 0;padding: 0.3em;box-sizing: border-box;text-align: center;}#sk-container-id-1 label.sk-toggleable__label-arrow:before {content: \"▸\";float: left;margin-right: 0.25em;color: #696969;}#sk-container-id-1 label.sk-toggleable__label-arrow:hover:before {color: black;}#sk-container-id-1 div.sk-estimator:hover label.sk-toggleable__label-arrow:before {color: black;}#sk-container-id-1 div.sk-toggleable__content {max-height: 0;max-width: 0;overflow: hidden;text-align: left;background-color: #f0f8ff;}#sk-container-id-1 div.sk-toggleable__content pre {margin: 0.2em;color: black;border-radius: 0.25em;background-color: #f0f8ff;}#sk-container-id-1 input.sk-toggleable__control:checked~div.sk-toggleable__content {max-height: 200px;max-width: 100%;overflow: auto;}#sk-container-id-1 input.sk-toggleable__control:checked~label.sk-toggleable__label-arrow:before {content: \"▾\";}#sk-container-id-1 div.sk-estimator input.sk-toggleable__control:checked~label.sk-toggleable__label {background-color: #d4ebff;}#sk-container-id-1 div.sk-label input.sk-toggleable__control:checked~label.sk-toggleable__label {background-color: #d4ebff;}#sk-container-id-1 input.sk-hidden--visually {border: 0;clip: rect(1px 1px 1px 1px);clip: rect(1px, 1px, 1px, 1px);height: 1px;margin: -1px;overflow: hidden;padding: 0;position: absolute;width: 1px;}#sk-container-id-1 div.sk-estimator {font-family: monospace;background-color: #f0f8ff;border: 1px dotted black;border-radius: 0.25em;box-sizing: border-box;margin-bottom: 0.5em;}#sk-container-id-1 div.sk-estimator:hover {background-color: #d4ebff;}#sk-container-id-1 div.sk-parallel-item::after {content: \"\";width: 100%;border-bottom: 1px solid gray;flex-grow: 1;}#sk-container-id-1 div.sk-label:hover label.sk-toggleable__label {background-color: #d4ebff;}#sk-container-id-1 div.sk-serial::before {content: \"\";position: absolute;border-left: 1px solid gray;box-sizing: border-box;top: 0;bottom: 0;left: 50%;z-index: 0;}#sk-container-id-1 div.sk-serial {display: flex;flex-direction: column;align-items: center;background-color: white;padding-right: 0.2em;padding-left: 0.2em;position: relative;}#sk-container-id-1 div.sk-item {position: relative;z-index: 1;}#sk-container-id-1 div.sk-parallel {display: flex;align-items: stretch;justify-content: center;background-color: white;position: relative;}#sk-container-id-1 div.sk-item::before, #sk-container-id-1 div.sk-parallel-item::before {content: \"\";position: absolute;border-left: 1px solid gray;box-sizing: border-box;top: 0;bottom: 0;left: 50%;z-index: -1;}#sk-container-id-1 div.sk-parallel-item {display: flex;flex-direction: column;z-index: 1;position: relative;background-color: white;}#sk-container-id-1 div.sk-parallel-item:first-child::after {align-self: flex-end;width: 50%;}#sk-container-id-1 div.sk-parallel-item:last-child::after {align-self: flex-start;width: 50%;}#sk-container-id-1 div.sk-parallel-item:only-child::after {width: 0;}#sk-container-id-1 div.sk-dashed-wrapped {border: 1px dashed gray;margin: 0 0.4em 0.5em 0.4em;box-sizing: border-box;padding-bottom: 0.4em;background-color: white;}#sk-container-id-1 div.sk-label label {font-family: monospace;font-weight: bold;display: inline-block;line-height: 1.2em;}#sk-container-id-1 div.sk-label-container {text-align: center;}#sk-container-id-1 div.sk-container {/* jupyter's `normalize.less` sets `[hidden] { display: none; }` but bootstrap.min.css set `[hidden] { display: none !important; }` so we also need the `!important` here to be able to override the default hidden behavior on the sphinx rendered scikit-learn.org. See: https://github.com/scikit-learn/scikit-learn/issues/21755 */display: inline-block !important;position: relative;}#sk-container-id-1 div.sk-text-repr-fallback {display: none;}</style><div id=\"sk-container-id-1\" class=\"sk-top-container\"><div class=\"sk-text-repr-fallback\"><pre>Pipeline(steps=[(&#x27;scale&#x27;, None), (&#x27;model&#x27;, LogisticRegression())])</pre><b>In a Jupyter environment, please rerun this cell to show the HTML representation or trust the notebook. <br />On GitHub, the HTML representation is unable to render, please try loading this page with nbviewer.org.</b></div><div class=\"sk-container\" hidden><div class=\"sk-item sk-dashed-wrapped\"><div class=\"sk-label-container\"><div class=\"sk-label sk-toggleable\"><input class=\"sk-toggleable__control sk-hidden--visually\" id=\"sk-estimator-id-1\" type=\"checkbox\" ><label for=\"sk-estimator-id-1\" class=\"sk-toggleable__label sk-toggleable__label-arrow\">Pipeline</label><div class=\"sk-toggleable__content\"><pre>Pipeline(steps=[(&#x27;scale&#x27;, None), (&#x27;model&#x27;, LogisticRegression())])</pre></div></div></div><div class=\"sk-serial\"><div class=\"sk-item\"><div class=\"sk-estimator sk-toggleable\"><input class=\"sk-toggleable__control sk-hidden--visually\" id=\"sk-estimator-id-2\" type=\"checkbox\" ><label for=\"sk-estimator-id-2\" class=\"sk-toggleable__label sk-toggleable__label-arrow\">None</label><div class=\"sk-toggleable__content\"><pre>None</pre></div></div></div><div class=\"sk-item\"><div class=\"sk-estimator sk-toggleable\"><input class=\"sk-toggleable__control sk-hidden--visually\" id=\"sk-estimator-id-3\" type=\"checkbox\" ><label for=\"sk-estimator-id-3\" class=\"sk-toggleable__label sk-toggleable__label-arrow\">LogisticRegression</label><div class=\"sk-toggleable__content\"><pre>LogisticRegression()</pre></div></div></div></div></div></div></div>"
      ],
      "text/plain": [
       "Pipeline(steps=[('scale', None), ('model', LogisticRegression())])"
      ]
     },
     "execution_count": 34,
     "metadata": {},
     "output_type": "execute_result"
    }
   ],
   "source": [
    "model.fit(X_train, y_train.values.ravel())"
   ]
  },
  {
   "cell_type": "code",
   "execution_count": 35,
   "id": "6e15e313",
   "metadata": {
    "execution": {
     "iopub.execute_input": "2025-08-19T19:01:15.733941Z",
     "iopub.status.busy": "2025-08-19T19:01:15.733382Z",
     "iopub.status.idle": "2025-08-19T19:01:15.829345Z",
     "shell.execute_reply": "2025-08-19T19:01:15.828523Z"
    },
    "papermill": {
     "duration": 0.113407,
     "end_time": "2025-08-19T19:01:15.834241",
     "exception": false,
     "start_time": "2025-08-19T19:01:15.720834",
     "status": "completed"
    },
    "tags": []
   },
   "outputs": [
    {
     "data": {
      "text/plain": [
       "0.8629026864340653"
      ]
     },
     "execution_count": 35,
     "metadata": {},
     "output_type": "execute_result"
    }
   ],
   "source": [
    "from fairness_multiverse.universe import predict_w_threshold\n",
    "\n",
    "probs_test = model.predict_proba(X_test)\n",
    "\n",
    "'''\n",
    "Below code returns a boolean array (or binary 0/1 array depending on how it’s used) where each element \n",
    "is True if the probability of class 1 is greater than or equal to the threshold, and False otherwise.\n",
    "'''\n",
    "y_pred_default = predict_w_threshold(probs_test, 0.5)\n",
    "\n",
    "from sklearn.metrics import accuracy_score\n",
    "\n",
    "# Naive prediction\n",
    "accuracy_score(y_true = y_true, y_pred = y_pred_default)"
   ]
  },
  {
   "cell_type": "code",
   "execution_count": 36,
   "id": "6f14067c",
   "metadata": {
    "execution": {
     "iopub.execute_input": "2025-08-19T19:01:15.877247Z",
     "iopub.status.busy": "2025-08-19T19:01:15.876015Z",
     "iopub.status.idle": "2025-08-19T19:01:15.970684Z",
     "shell.execute_reply": "2025-08-19T19:01:15.969788Z"
    },
    "papermill": {
     "duration": 0.113194,
     "end_time": "2025-08-19T19:01:15.973827",
     "exception": false,
     "start_time": "2025-08-19T19:01:15.860633",
     "status": "completed"
    },
    "tags": []
   },
   "outputs": [
    {
     "data": {
      "text/plain": [
       "array([0, 0, 0, ..., 0, 0, 0])"
      ]
     },
     "execution_count": 36,
     "metadata": {},
     "output_type": "execute_result"
    }
   ],
   "source": [
    "model.predict(X_test)"
   ]
  },
  {
   "cell_type": "markdown",
   "id": "3759920c",
   "metadata": {
    "papermill": {
     "duration": 0.014232,
     "end_time": "2025-08-19T19:01:16.014327",
     "exception": false,
     "start_time": "2025-08-19T19:01:16.000095",
     "status": "completed"
    },
    "tags": []
   },
   "source": [
    "# Conformal Prediction"
   ]
  },
  {
   "cell_type": "code",
   "execution_count": 37,
   "id": "14b27f59",
   "metadata": {
    "execution": {
     "iopub.execute_input": "2025-08-19T19:01:16.039735Z",
     "iopub.status.busy": "2025-08-19T19:01:16.038054Z",
     "iopub.status.idle": "2025-08-19T19:01:16.046153Z",
     "shell.execute_reply": "2025-08-19T19:01:16.044448Z"
    },
    "papermill": {
     "duration": 0.026568,
     "end_time": "2025-08-19T19:01:16.051973",
     "exception": false,
     "start_time": "2025-08-19T19:01:16.025405",
     "status": "completed"
    },
    "tags": []
   },
   "outputs": [],
   "source": [
    "# Miscoverage level for conformal prediction (10% allowed error rate => 90% target coverage)\n",
    "alpha = 0.1"
   ]
  },
  {
   "cell_type": "code",
   "execution_count": 38,
   "id": "59102472",
   "metadata": {
    "execution": {
     "iopub.execute_input": "2025-08-19T19:01:16.101693Z",
     "iopub.status.busy": "2025-08-19T19:01:16.101192Z",
     "iopub.status.idle": "2025-08-19T19:01:16.184718Z",
     "shell.execute_reply": "2025-08-19T19:01:16.183904Z"
    },
    "papermill": {
     "duration": 0.115631,
     "end_time": "2025-08-19T19:01:16.186220",
     "exception": false,
     "start_time": "2025-08-19T19:01:16.070589",
     "status": "completed"
    },
    "tags": []
   },
   "outputs": [],
   "source": [
    "probs_calib = model.predict_proba(X_calib)"
   ]
  },
  {
   "cell_type": "code",
   "execution_count": 39,
   "id": "a792d4dd",
   "metadata": {
    "execution": {
     "iopub.execute_input": "2025-08-19T19:01:16.211276Z",
     "iopub.status.busy": "2025-08-19T19:01:16.210822Z",
     "iopub.status.idle": "2025-08-19T19:01:16.216377Z",
     "shell.execute_reply": "2025-08-19T19:01:16.215521Z"
    },
    "papermill": {
     "duration": 0.019952,
     "end_time": "2025-08-19T19:01:16.217602",
     "exception": false,
     "start_time": "2025-08-19T19:01:16.197650",
     "status": "completed"
    },
    "tags": []
   },
   "outputs": [],
   "source": [
    "y_calib = y_calib.values.ravel().astype(int)"
   ]
  },
  {
   "cell_type": "code",
   "execution_count": 40,
   "id": "650fd033",
   "metadata": {
    "execution": {
     "iopub.execute_input": "2025-08-19T19:01:16.243824Z",
     "iopub.status.busy": "2025-08-19T19:01:16.243136Z",
     "iopub.status.idle": "2025-08-19T19:01:16.258107Z",
     "shell.execute_reply": "2025-08-19T19:01:16.257359Z"
    },
    "papermill": {
     "duration": 0.030349,
     "end_time": "2025-08-19T19:01:16.259864",
     "exception": false,
     "start_time": "2025-08-19T19:01:16.229515",
     "status": "completed"
    },
    "tags": []
   },
   "outputs": [],
   "source": [
    "from fairness_multiverse.conformal import compute_nc_scores\n",
    "\n",
    "# Compute nonconformity scores on calibration set (1 - probability of true class)\n",
    "nc_scores = compute_nc_scores(probs_calib, y_calib)"
   ]
  },
  {
   "cell_type": "code",
   "execution_count": 41,
   "id": "28ada44c",
   "metadata": {
    "execution": {
     "iopub.execute_input": "2025-08-19T19:01:16.287212Z",
     "iopub.status.busy": "2025-08-19T19:01:16.286792Z",
     "iopub.status.idle": "2025-08-19T19:01:16.700030Z",
     "shell.execute_reply": "2025-08-19T19:01:16.699131Z"
    },
    "papermill": {
     "duration": 0.42898,
     "end_time": "2025-08-19T19:01:16.703246",
     "exception": false,
     "start_time": "2025-08-19T19:01:16.274266",
     "status": "completed"
    },
    "tags": []
   },
   "outputs": [],
   "source": [
    "from fairness_multiverse.conformal import find_threshold\n",
    "\n",
    "# Find conformal threshold q_hat for the given alpha (split conformal method)\n",
    "q_hat = find_threshold(nc_scores, alpha)"
   ]
  },
  {
   "cell_type": "code",
   "execution_count": 42,
   "id": "df56469e",
   "metadata": {
    "execution": {
     "iopub.execute_input": "2025-08-19T19:01:16.745783Z",
     "iopub.status.busy": "2025-08-19T19:01:16.745397Z",
     "iopub.status.idle": "2025-08-19T19:01:16.751961Z",
     "shell.execute_reply": "2025-08-19T19:01:16.751394Z"
    },
    "papermill": {
     "duration": 0.022947,
     "end_time": "2025-08-19T19:01:16.753126",
     "exception": false,
     "start_time": "2025-08-19T19:01:16.730179",
     "status": "completed"
    },
    "tags": []
   },
   "outputs": [
    {
     "data": {
      "text/plain": [
       "0.6813387859148382"
      ]
     },
     "execution_count": 42,
     "metadata": {},
     "output_type": "execute_result"
    }
   ],
   "source": [
    "q_hat"
   ]
  },
  {
   "cell_type": "code",
   "execution_count": 43,
   "id": "aa1f5faa",
   "metadata": {
    "execution": {
     "iopub.execute_input": "2025-08-19T19:01:16.799614Z",
     "iopub.status.busy": "2025-08-19T19:01:16.799295Z",
     "iopub.status.idle": "2025-08-19T19:01:17.324179Z",
     "shell.execute_reply": "2025-08-19T19:01:17.323500Z"
    },
    "papermill": {
     "duration": 0.545079,
     "end_time": "2025-08-19T19:01:17.325870",
     "exception": false,
     "start_time": "2025-08-19T19:01:16.780791",
     "status": "completed"
    },
    "tags": []
   },
   "outputs": [],
   "source": [
    "from fairness_multiverse.conformal import predict_conformal_sets\n",
    "\n",
    "# Generate prediction sets for each test example\n",
    "pred_sets = predict_conformal_sets(model, X_test, q_hat)"
   ]
  },
  {
   "cell_type": "code",
   "execution_count": 44,
   "id": "97f67a6b",
   "metadata": {
    "execution": {
     "iopub.execute_input": "2025-08-19T19:01:17.368419Z",
     "iopub.status.busy": "2025-08-19T19:01:17.368012Z",
     "iopub.status.idle": "2025-08-19T19:01:17.372929Z",
     "shell.execute_reply": "2025-08-19T19:01:17.372091Z"
    },
    "papermill": {
     "duration": 0.032129,
     "end_time": "2025-08-19T19:01:17.374487",
     "exception": false,
     "start_time": "2025-08-19T19:01:17.342358",
     "status": "completed"
    },
    "tags": []
   },
   "outputs": [],
   "source": [
    "y_true = y_true.squeeze()"
   ]
  },
  {
   "cell_type": "code",
   "execution_count": 45,
   "id": "e700e9a7",
   "metadata": {
    "execution": {
     "iopub.execute_input": "2025-08-19T19:01:17.398935Z",
     "iopub.status.busy": "2025-08-19T19:01:17.398573Z",
     "iopub.status.idle": "2025-08-19T19:01:17.879989Z",
     "shell.execute_reply": "2025-08-19T19:01:17.879112Z"
    },
    "papermill": {
     "duration": 0.49532,
     "end_time": "2025-08-19T19:01:17.881740",
     "exception": false,
     "start_time": "2025-08-19T19:01:17.386420",
     "status": "completed"
    },
    "tags": []
   },
   "outputs": [],
   "source": [
    "from fairness_multiverse.conformal import evaluate_sets\n",
    "\n",
    "# Evaluate coverage and average set size on test data\n",
    "metrics = evaluate_sets(pred_sets, y_true)"
   ]
  },
  {
   "cell_type": "markdown",
   "id": "efbacec0",
   "metadata": {
    "papermill": {
     "duration": 0.011271,
     "end_time": "2025-08-19T19:01:17.905047",
     "exception": false,
     "start_time": "2025-08-19T19:01:17.893776",
     "status": "completed"
    },
    "tags": []
   },
   "source": [
    "# CP Metrics"
   ]
  },
  {
   "cell_type": "code",
   "execution_count": 46,
   "id": "9de55fb1",
   "metadata": {
    "execution": {
     "iopub.execute_input": "2025-08-19T19:01:17.930474Z",
     "iopub.status.busy": "2025-08-19T19:01:17.930050Z",
     "iopub.status.idle": "2025-08-19T19:01:17.936331Z",
     "shell.execute_reply": "2025-08-19T19:01:17.935491Z"
    },
    "papermill": {
     "duration": 0.020452,
     "end_time": "2025-08-19T19:01:17.938091",
     "exception": false,
     "start_time": "2025-08-19T19:01:17.917639",
     "status": "completed"
    },
    "tags": []
   },
   "outputs": [
    {
     "data": {
      "text/plain": [
       "{'coverage': 0.9131312005350574, 'avg_size': 1.2600156058410434}"
      ]
     },
     "execution_count": 46,
     "metadata": {},
     "output_type": "execute_result"
    }
   ],
   "source": [
    "metrics"
   ]
  },
  {
   "cell_type": "code",
   "execution_count": 47,
   "id": "64c340a1",
   "metadata": {
    "execution": {
     "iopub.execute_input": "2025-08-19T19:01:17.963826Z",
     "iopub.status.busy": "2025-08-19T19:01:17.963418Z",
     "iopub.status.idle": "2025-08-19T19:01:17.968918Z",
     "shell.execute_reply": "2025-08-19T19:01:17.968032Z"
    },
    "papermill": {
     "duration": 0.020161,
     "end_time": "2025-08-19T19:01:17.970524",
     "exception": false,
     "start_time": "2025-08-19T19:01:17.950363",
     "status": "completed"
    },
    "tags": []
   },
   "outputs": [],
   "source": [
    "example_universe = universe.copy()\n",
    "universe_training_year = example_universe.get(\"training_year\")\n",
    "universe_training_size = example_universe.get(\"training_size\")\n",
    "universe_scale = example_universe.get(\"scale\")\n",
    "universe_model = example_universe.get(\"model\")\n",
    "universe_exclude_features = example_universe.get(\"exclude_features\")\n",
    "universe_exclude_subgroups = example_universe.get(\"exclude_subgroups\")"
   ]
  },
  {
   "cell_type": "code",
   "execution_count": 48,
   "id": "dbb53cb4",
   "metadata": {
    "execution": {
     "iopub.execute_input": "2025-08-19T19:01:17.995507Z",
     "iopub.status.busy": "2025-08-19T19:01:17.995135Z",
     "iopub.status.idle": "2025-08-19T19:01:18.000329Z",
     "shell.execute_reply": "2025-08-19T19:01:17.999556Z"
    },
    "papermill": {
     "duration": 0.019343,
     "end_time": "2025-08-19T19:01:18.001911",
     "exception": false,
     "start_time": "2025-08-19T19:01:17.982568",
     "status": "completed"
    },
    "tags": []
   },
   "outputs": [],
   "source": [
    "cp_metrics_dict = {\n",
    "    \"universe_id\": [universe_id],\n",
    "    \"universe_training_year\": [universe_training_year],\n",
    "    \"universe_training_size\": [universe_training_size],\n",
    "    \"universe_scale\": [universe_scale],\n",
    "    \"universe_model\": [universe_model],\n",
    "    \"universe_exclude_features\": [universe_exclude_features],\n",
    "    \"universe_exclude_subgroups\": [universe_exclude_subgroups],\n",
    "    \"q_hat\": [q_hat],\n",
    "    \"coverage\": [metrics[\"coverage\"]],\n",
    "    \"avg_size\": [metrics[\"avg_size\"]],\n",
    "}"
   ]
  },
  {
   "cell_type": "code",
   "execution_count": 49,
   "id": "0d70d4b2",
   "metadata": {
    "execution": {
     "iopub.execute_input": "2025-08-19T19:01:18.026246Z",
     "iopub.status.busy": "2025-08-19T19:01:18.025917Z",
     "iopub.status.idle": "2025-08-19T19:01:18.031133Z",
     "shell.execute_reply": "2025-08-19T19:01:18.030352Z"
    },
    "papermill": {
     "duration": 0.019022,
     "end_time": "2025-08-19T19:01:18.032741",
     "exception": false,
     "start_time": "2025-08-19T19:01:18.013719",
     "status": "completed"
    },
    "tags": []
   },
   "outputs": [],
   "source": [
    "cp_metrics_df = pd.DataFrame(cp_metrics_dict)"
   ]
  },
  {
   "cell_type": "code",
   "execution_count": 50,
   "id": "b494403c",
   "metadata": {
    "execution": {
     "iopub.execute_input": "2025-08-19T19:01:18.057180Z",
     "iopub.status.busy": "2025-08-19T19:01:18.056831Z",
     "iopub.status.idle": "2025-08-19T19:01:18.070080Z",
     "shell.execute_reply": "2025-08-19T19:01:18.069259Z"
    },
    "papermill": {
     "duration": 0.027489,
     "end_time": "2025-08-19T19:01:18.071784",
     "exception": false,
     "start_time": "2025-08-19T19:01:18.044295",
     "status": "completed"
    },
    "tags": []
   },
   "outputs": [
    {
     "data": {
      "text/html": [
       "<div>\n",
       "<style scoped>\n",
       "    .dataframe tbody tr th:only-of-type {\n",
       "        vertical-align: middle;\n",
       "    }\n",
       "\n",
       "    .dataframe tbody tr th {\n",
       "        vertical-align: top;\n",
       "    }\n",
       "\n",
       "    .dataframe thead th {\n",
       "        text-align: right;\n",
       "    }\n",
       "</style>\n",
       "<table border=\"1\" class=\"dataframe\">\n",
       "  <thead>\n",
       "    <tr style=\"text-align: right;\">\n",
       "      <th></th>\n",
       "      <th>universe_id</th>\n",
       "      <th>universe_training_year</th>\n",
       "      <th>universe_training_size</th>\n",
       "      <th>universe_scale</th>\n",
       "      <th>universe_model</th>\n",
       "      <th>universe_exclude_features</th>\n",
       "      <th>universe_exclude_subgroups</th>\n",
       "      <th>q_hat</th>\n",
       "      <th>coverage</th>\n",
       "      <th>avg_size</th>\n",
       "    </tr>\n",
       "  </thead>\n",
       "  <tbody>\n",
       "    <tr>\n",
       "      <th>0</th>\n",
       "      <td>b0fd15aefa1b8c021c3bbec5a38e2467</td>\n",
       "      <td>2012_14</td>\n",
       "      <td>1k</td>\n",
       "      <td>do-not-scale</td>\n",
       "      <td>logreg</td>\n",
       "      <td>age</td>\n",
       "      <td>keep-all</td>\n",
       "      <td>0.681339</td>\n",
       "      <td>0.913131</td>\n",
       "      <td>1.260016</td>\n",
       "    </tr>\n",
       "  </tbody>\n",
       "</table>\n",
       "</div>"
      ],
      "text/plain": [
       "                        universe_id universe_training_year  \\\n",
       "0  b0fd15aefa1b8c021c3bbec5a38e2467                2012_14   \n",
       "\n",
       "  universe_training_size universe_scale universe_model  \\\n",
       "0                     1k   do-not-scale         logreg   \n",
       "\n",
       "  universe_exclude_features universe_exclude_subgroups     q_hat  coverage  \\\n",
       "0                       age                   keep-all  0.681339  0.913131   \n",
       "\n",
       "   avg_size  \n",
       "0  1.260016  "
      ]
     },
     "execution_count": 50,
     "metadata": {},
     "output_type": "execute_result"
    }
   ],
   "source": [
    "cp_metrics_df"
   ]
  },
  {
   "cell_type": "markdown",
   "id": "ed608b0b",
   "metadata": {
    "papermill": {
     "duration": 0.032201,
     "end_time": "2025-08-19T19:01:18.117385",
     "exception": false,
     "start_time": "2025-08-19T19:01:18.085184",
     "status": "completed"
    },
    "tags": []
   },
   "source": [
    "Conditional coverage & looking at subgroups"
   ]
  },
  {
   "cell_type": "code",
   "execution_count": 51,
   "id": "8968c366",
   "metadata": {
    "execution": {
     "iopub.execute_input": "2025-08-19T19:01:18.157147Z",
     "iopub.status.busy": "2025-08-19T19:01:18.156756Z",
     "iopub.status.idle": "2025-08-19T19:01:18.377107Z",
     "shell.execute_reply": "2025-08-19T19:01:18.376161Z"
    },
    "papermill": {
     "duration": 0.235772,
     "end_time": "2025-08-19T19:01:18.378671",
     "exception": false,
     "start_time": "2025-08-19T19:01:18.142899",
     "status": "completed"
    },
    "tags": []
   },
   "outputs": [],
   "source": [
    "from fairness_multiverse.conformal import build_cp_groups\n",
    "\n",
    "cp_groups_df = build_cp_groups(pred_sets, y_true, X_test.index, org_test)"
   ]
  },
  {
   "cell_type": "code",
   "execution_count": 52,
   "id": "292ddabf",
   "metadata": {
    "execution": {
     "iopub.execute_input": "2025-08-19T19:01:18.417951Z",
     "iopub.status.busy": "2025-08-19T19:01:18.417491Z",
     "iopub.status.idle": "2025-08-19T19:01:19.280518Z",
     "shell.execute_reply": "2025-08-19T19:01:19.279284Z"
    },
    "papermill": {
     "duration": 0.884473,
     "end_time": "2025-08-19T19:01:19.282434",
     "exception": false,
     "start_time": "2025-08-19T19:01:18.397961",
     "status": "completed"
    },
    "tags": []
   },
   "outputs": [],
   "source": [
    "# Define covered = 1 if true_label is in the predicted set\n",
    "cp_groups_df['covered'] = cp_groups_df.apply(\n",
    "    lambda r: int(r['true_label'] in r['pred_set']),\n",
    "    axis=1\n",
    ")"
   ]
  },
  {
   "cell_type": "code",
   "execution_count": 53,
   "id": "3a261692",
   "metadata": {
    "execution": {
     "iopub.execute_input": "2025-08-19T19:01:19.308704Z",
     "iopub.status.busy": "2025-08-19T19:01:19.308234Z",
     "iopub.status.idle": "2025-08-19T19:01:19.320123Z",
     "shell.execute_reply": "2025-08-19T19:01:19.319374Z"
    },
    "papermill": {
     "duration": 0.027301,
     "end_time": "2025-08-19T19:01:19.322532",
     "exception": false,
     "start_time": "2025-08-19T19:01:19.295231",
     "status": "completed"
    },
    "tags": []
   },
   "outputs": [],
   "source": [
    "subgroups = ['frau1','nongerman','nongerman_male','nongerman_female']\n",
    "\n",
    "# Conditional coverage for subgroup==1\n",
    "cond_coverage = {\n",
    "    g: cp_groups_df.loc[cp_groups_df[g]==1, 'covered'].mean()\n",
    "    for g in subgroups\n",
    "}"
   ]
  },
  {
   "cell_type": "code",
   "execution_count": 54,
   "id": "894fd600",
   "metadata": {
    "execution": {
     "iopub.execute_input": "2025-08-19T19:01:19.364835Z",
     "iopub.status.busy": "2025-08-19T19:01:19.363361Z",
     "iopub.status.idle": "2025-08-19T19:01:19.376762Z",
     "shell.execute_reply": "2025-08-19T19:01:19.374793Z"
    },
    "papermill": {
     "duration": 0.030393,
     "end_time": "2025-08-19T19:01:19.378553",
     "exception": false,
     "start_time": "2025-08-19T19:01:19.348160",
     "status": "completed"
    },
    "tags": []
   },
   "outputs": [
    {
     "data": {
      "text/plain": [
       "{'frau1': 0.9116592532686346,\n",
       " 'nongerman': 0.9618256329646887,\n",
       " 'nongerman_male': 0.9684769882013871,\n",
       " 'nongerman_female': 0.9508196721311475}"
      ]
     },
     "execution_count": 54,
     "metadata": {},
     "output_type": "execute_result"
    }
   ],
   "source": [
    "cond_coverage"
   ]
  },
  {
   "cell_type": "code",
   "execution_count": 55,
   "id": "942895c7",
   "metadata": {
    "execution": {
     "iopub.execute_input": "2025-08-19T19:01:19.413277Z",
     "iopub.status.busy": "2025-08-19T19:01:19.411729Z",
     "iopub.status.idle": "2025-08-19T19:01:19.424282Z",
     "shell.execute_reply": "2025-08-19T19:01:19.423231Z"
    },
    "papermill": {
     "duration": 0.028978,
     "end_time": "2025-08-19T19:01:19.425950",
     "exception": false,
     "start_time": "2025-08-19T19:01:19.396972",
     "status": "completed"
    },
    "tags": []
   },
   "outputs": [],
   "source": [
    "for subgroup, cov in cond_coverage.items():\n",
    "    cp_metrics_df[f\"cov_{subgroup}\"] = cov"
   ]
  },
  {
   "cell_type": "code",
   "execution_count": 56,
   "id": "3970120f",
   "metadata": {
    "execution": {
     "iopub.execute_input": "2025-08-19T19:01:19.490712Z",
     "iopub.status.busy": "2025-08-19T19:01:19.489303Z",
     "iopub.status.idle": "2025-08-19T19:01:19.514622Z",
     "shell.execute_reply": "2025-08-19T19:01:19.513837Z"
    },
    "papermill": {
     "duration": 0.057269,
     "end_time": "2025-08-19T19:01:19.516377",
     "exception": false,
     "start_time": "2025-08-19T19:01:19.459108",
     "status": "completed"
    },
    "tags": []
   },
   "outputs": [
    {
     "data": {
      "text/html": [
       "<div>\n",
       "<style scoped>\n",
       "    .dataframe tbody tr th:only-of-type {\n",
       "        vertical-align: middle;\n",
       "    }\n",
       "\n",
       "    .dataframe tbody tr th {\n",
       "        vertical-align: top;\n",
       "    }\n",
       "\n",
       "    .dataframe thead th {\n",
       "        text-align: right;\n",
       "    }\n",
       "</style>\n",
       "<table border=\"1\" class=\"dataframe\">\n",
       "  <thead>\n",
       "    <tr style=\"text-align: right;\">\n",
       "      <th></th>\n",
       "      <th>universe_id</th>\n",
       "      <th>universe_training_year</th>\n",
       "      <th>universe_training_size</th>\n",
       "      <th>universe_scale</th>\n",
       "      <th>universe_model</th>\n",
       "      <th>universe_exclude_features</th>\n",
       "      <th>universe_exclude_subgroups</th>\n",
       "      <th>q_hat</th>\n",
       "      <th>coverage</th>\n",
       "      <th>avg_size</th>\n",
       "      <th>cov_frau1</th>\n",
       "      <th>cov_nongerman</th>\n",
       "      <th>cov_nongerman_male</th>\n",
       "      <th>cov_nongerman_female</th>\n",
       "    </tr>\n",
       "  </thead>\n",
       "  <tbody>\n",
       "    <tr>\n",
       "      <th>0</th>\n",
       "      <td>b0fd15aefa1b8c021c3bbec5a38e2467</td>\n",
       "      <td>2012_14</td>\n",
       "      <td>1k</td>\n",
       "      <td>do-not-scale</td>\n",
       "      <td>logreg</td>\n",
       "      <td>age</td>\n",
       "      <td>keep-all</td>\n",
       "      <td>0.681339</td>\n",
       "      <td>0.913131</td>\n",
       "      <td>1.260016</td>\n",
       "      <td>0.911659</td>\n",
       "      <td>0.961826</td>\n",
       "      <td>0.968477</td>\n",
       "      <td>0.95082</td>\n",
       "    </tr>\n",
       "  </tbody>\n",
       "</table>\n",
       "</div>"
      ],
      "text/plain": [
       "                        universe_id universe_training_year  \\\n",
       "0  b0fd15aefa1b8c021c3bbec5a38e2467                2012_14   \n",
       "\n",
       "  universe_training_size universe_scale universe_model  \\\n",
       "0                     1k   do-not-scale         logreg   \n",
       "\n",
       "  universe_exclude_features universe_exclude_subgroups     q_hat  coverage  \\\n",
       "0                       age                   keep-all  0.681339  0.913131   \n",
       "\n",
       "   avg_size  cov_frau1  cov_nongerman  cov_nongerman_male  \\\n",
       "0  1.260016   0.911659       0.961826            0.968477   \n",
       "\n",
       "   cov_nongerman_female  \n",
       "0               0.95082  "
      ]
     },
     "execution_count": 56,
     "metadata": {},
     "output_type": "execute_result"
    }
   ],
   "source": [
    "cp_metrics_df"
   ]
  },
  {
   "cell_type": "markdown",
   "id": "3fc519cc",
   "metadata": {
    "papermill": {
     "duration": 0.013883,
     "end_time": "2025-08-19T19:01:19.553681",
     "exception": false,
     "start_time": "2025-08-19T19:01:19.539798",
     "status": "completed"
    },
    "tags": []
   },
   "source": [
    "# (Fairness) Metrics"
   ]
  },
  {
   "cell_type": "code",
   "execution_count": 57,
   "id": "a2e5e155",
   "metadata": {
    "execution": {
     "iopub.execute_input": "2025-08-19T19:01:19.581867Z",
     "iopub.status.busy": "2025-08-19T19:01:19.581342Z",
     "iopub.status.idle": "2025-08-19T19:01:19.596395Z",
     "shell.execute_reply": "2025-08-19T19:01:19.595689Z"
    },
    "papermill": {
     "duration": 0.030961,
     "end_time": "2025-08-19T19:01:19.598672",
     "exception": false,
     "start_time": "2025-08-19T19:01:19.567711",
     "status": "completed"
    },
    "tags": []
   },
   "outputs": [],
   "source": [
    "colname_to_bin = \"maxdeutsch1\"\n",
    "majority_value = org_train[colname_to_bin].mode()[0]\n",
    "\n",
    "org_test[\"majmin\"] = np.where(org_test[colname_to_bin] == majority_value, \"majority\", \"minority\")"
   ]
  },
  {
   "cell_type": "code",
   "execution_count": 58,
   "id": "17e3e4d5",
   "metadata": {
    "execution": {
     "iopub.execute_input": "2025-08-19T19:01:19.636199Z",
     "iopub.status.busy": "2025-08-19T19:01:19.634672Z",
     "iopub.status.idle": "2025-08-19T19:01:21.364773Z",
     "shell.execute_reply": "2025-08-19T19:01:21.363632Z"
    },
    "papermill": {
     "duration": 1.749758,
     "end_time": "2025-08-19T19:01:21.367170",
     "exception": false,
     "start_time": "2025-08-19T19:01:19.617412",
     "status": "completed"
    },
    "tags": []
   },
   "outputs": [],
   "source": [
    "example_universe = universe.copy()\n",
    "example_universe[\"cutoff\"] = example_universe[\"cutoff\"][0]\n",
    "example_universe[\"eval_fairness_grouping\"] = example_universe[\"eval_fairness_grouping\"][0]\n",
    "fairness_dict, metric_frame = universe_analysis.compute_metrics(\n",
    "    example_universe,\n",
    "    y_pred_prob=probs_test,\n",
    "    y_test=y_true,\n",
    "    org_test=org_test,\n",
    ")"
   ]
  },
  {
   "cell_type": "markdown",
   "id": "1fb7a0e9",
   "metadata": {
    "papermill": {
     "duration": 0.012824,
     "end_time": "2025-08-19T19:01:21.403127",
     "exception": false,
     "start_time": "2025-08-19T19:01:21.390303",
     "status": "completed"
    },
    "tags": []
   },
   "source": [
    "# Overall"
   ]
  },
  {
   "cell_type": "markdown",
   "id": "be1784b1",
   "metadata": {
    "papermill": {
     "duration": 0.016575,
     "end_time": "2025-08-19T19:01:21.438613",
     "exception": false,
     "start_time": "2025-08-19T19:01:21.422038",
     "status": "completed"
    },
    "tags": []
   },
   "source": [
    "Main fairness target: Equalized Odds. Seems to be a better fit than equal opportunity, since we're not only interested in Y = 1. Seems to be a better fit than demographic parity, since we also care about accuracy, not just equal distribution of preds.\n",
    "\n",
    "Pick column for computation of fairness metrics\n",
    "\n",
    "Performance\n",
    "Overall performance measures, most interesting in relation to the measures split by group below"
   ]
  },
  {
   "cell_type": "code",
   "execution_count": 59,
   "id": "b7672bee",
   "metadata": {
    "execution": {
     "iopub.execute_input": "2025-08-19T19:01:21.466095Z",
     "iopub.status.busy": "2025-08-19T19:01:21.465641Z",
     "iopub.status.idle": "2025-08-19T19:01:21.473954Z",
     "shell.execute_reply": "2025-08-19T19:01:21.473089Z"
    },
    "papermill": {
     "duration": 0.026059,
     "end_time": "2025-08-19T19:01:21.477540",
     "exception": false,
     "start_time": "2025-08-19T19:01:21.451481",
     "status": "completed"
    },
    "tags": []
   },
   "outputs": [
    {
     "data": {
      "text/plain": [
       "accuracy                   0.213700\n",
       "balanced accuracy          0.524761\n",
       "f1                         0.235325\n",
       "precision                  0.134433\n",
       "false positive rate        0.893647\n",
       "false negative rate        0.056830\n",
       "selection rate             0.900000\n",
       "count                  89710.000000\n",
       "dtype: float64"
      ]
     },
     "execution_count": 59,
     "metadata": {},
     "output_type": "execute_result"
    }
   ],
   "source": [
    "metric_frame.overall"
   ]
  },
  {
   "cell_type": "markdown",
   "id": "d93333c9",
   "metadata": {
    "papermill": {
     "duration": 0.012888,
     "end_time": "2025-08-19T19:01:21.505684",
     "exception": false,
     "start_time": "2025-08-19T19:01:21.492796",
     "status": "completed"
    },
    "tags": []
   },
   "source": [
    "By Group"
   ]
  },
  {
   "cell_type": "code",
   "execution_count": 60,
   "id": "52256966",
   "metadata": {
    "execution": {
     "iopub.execute_input": "2025-08-19T19:01:21.533226Z",
     "iopub.status.busy": "2025-08-19T19:01:21.532397Z",
     "iopub.status.idle": "2025-08-19T19:01:21.545066Z",
     "shell.execute_reply": "2025-08-19T19:01:21.544278Z"
    },
    "papermill": {
     "duration": 0.030055,
     "end_time": "2025-08-19T19:01:21.548499",
     "exception": false,
     "start_time": "2025-08-19T19:01:21.518444",
     "status": "completed"
    },
    "tags": []
   },
   "outputs": [
    {
     "data": {
      "text/html": [
       "<div>\n",
       "<style scoped>\n",
       "    .dataframe tbody tr th:only-of-type {\n",
       "        vertical-align: middle;\n",
       "    }\n",
       "\n",
       "    .dataframe tbody tr th {\n",
       "        vertical-align: top;\n",
       "    }\n",
       "\n",
       "    .dataframe thead th {\n",
       "        text-align: right;\n",
       "    }\n",
       "</style>\n",
       "<table border=\"1\" class=\"dataframe\">\n",
       "  <thead>\n",
       "    <tr style=\"text-align: right;\">\n",
       "      <th></th>\n",
       "      <th>accuracy</th>\n",
       "      <th>balanced accuracy</th>\n",
       "      <th>f1</th>\n",
       "      <th>precision</th>\n",
       "      <th>false positive rate</th>\n",
       "      <th>false negative rate</th>\n",
       "      <th>selection rate</th>\n",
       "      <th>count</th>\n",
       "    </tr>\n",
       "    <tr>\n",
       "      <th>majmin</th>\n",
       "      <th></th>\n",
       "      <th></th>\n",
       "      <th></th>\n",
       "      <th></th>\n",
       "      <th></th>\n",
       "      <th></th>\n",
       "      <th></th>\n",
       "      <th></th>\n",
       "    </tr>\n",
       "  </thead>\n",
       "  <tbody>\n",
       "    <tr>\n",
       "      <th>majority</th>\n",
       "      <td>0.234986</td>\n",
       "      <td>0.530686</td>\n",
       "      <td>0.243668</td>\n",
       "      <td>0.140142</td>\n",
       "      <td>0.871231</td>\n",
       "      <td>0.067396</td>\n",
       "      <td>0.879341</td>\n",
       "      <td>69170.0</td>\n",
       "    </tr>\n",
       "    <tr>\n",
       "      <th>minority</th>\n",
       "      <td>0.142016</td>\n",
       "      <td>0.508128</td>\n",
       "      <td>0.209128</td>\n",
       "      <td>0.116997</td>\n",
       "      <td>0.967698</td>\n",
       "      <td>0.016047</td>\n",
       "      <td>0.969572</td>\n",
       "      <td>20540.0</td>\n",
       "    </tr>\n",
       "  </tbody>\n",
       "</table>\n",
       "</div>"
      ],
      "text/plain": [
       "          accuracy  balanced accuracy        f1  precision  \\\n",
       "majmin                                                       \n",
       "majority  0.234986           0.530686  0.243668   0.140142   \n",
       "minority  0.142016           0.508128  0.209128   0.116997   \n",
       "\n",
       "          false positive rate  false negative rate  selection rate    count  \n",
       "majmin                                                                       \n",
       "majority             0.871231             0.067396        0.879341  69170.0  \n",
       "minority             0.967698             0.016047        0.969572  20540.0  "
      ]
     },
     "execution_count": 60,
     "metadata": {},
     "output_type": "execute_result"
    }
   ],
   "source": [
    "metric_frame.by_group"
   ]
  },
  {
   "cell_type": "code",
   "execution_count": 61,
   "id": "6e6c20ae",
   "metadata": {
    "execution": {
     "iopub.execute_input": "2025-08-19T19:01:21.590156Z",
     "iopub.status.busy": "2025-08-19T19:01:21.589023Z",
     "iopub.status.idle": "2025-08-19T19:01:23.369939Z",
     "shell.execute_reply": "2025-08-19T19:01:23.368973Z"
    },
    "papermill": {
     "duration": 1.79748,
     "end_time": "2025-08-19T19:01:23.371469",
     "exception": false,
     "start_time": "2025-08-19T19:01:21.573989",
     "status": "completed"
    },
    "tags": []
   },
   "outputs": [
    {
     "data": {
      "text/plain": [
       "array([[<Axes: title={'center': 'accuracy'}, xlabel='majmin'>,\n",
       "        <Axes: title={'center': 'balanced accuracy'}, xlabel='majmin'>,\n",
       "        <Axes: title={'center': 'f1'}, xlabel='majmin'>],\n",
       "       [<Axes: title={'center': 'precision'}, xlabel='majmin'>,\n",
       "        <Axes: title={'center': 'false positive rate'}, xlabel='majmin'>,\n",
       "        <Axes: title={'center': 'false negative rate'}, xlabel='majmin'>],\n",
       "       [<Axes: title={'center': 'selection rate'}, xlabel='majmin'>,\n",
       "        <Axes: title={'center': 'count'}, xlabel='majmin'>,\n",
       "        <Axes: xlabel='majmin'>]], dtype=object)"
      ]
     },
     "execution_count": 61,
     "metadata": {},
     "output_type": "execute_result"
    },
    {
     "data": {
      "image/png": "[encoded data removed]",
      "text/plain": [
       "<Figure size 1200x800 with 9 Axes>"
      ]
     },
     "metadata": {},
     "output_type": "display_data"
    }
   ],
   "source": [
    "# In a graphic\n",
    "metric_frame.by_group.plot.bar(\n",
    "    subplots=True,\n",
    "    layout=[3, 3],\n",
    "    legend=False,\n",
    "    figsize=[12, 8],\n",
    "    title=\"Show all metrics\",\n",
    ")"
   ]
  },
  {
   "cell_type": "markdown",
   "id": "b2e433ae",
   "metadata": {
    "papermill": {
     "duration": 0.013696,
     "end_time": "2025-08-19T19:01:23.400113",
     "exception": false,
     "start_time": "2025-08-19T19:01:23.386417",
     "status": "completed"
    },
    "tags": []
   },
   "source": [
    "# Final Output"
   ]
  },
  {
   "cell_type": "code",
   "execution_count": 62,
   "id": "3871301e",
   "metadata": {
    "execution": {
     "iopub.execute_input": "2025-08-19T19:01:23.437072Z",
     "iopub.status.busy": "2025-08-19T19:01:23.434938Z",
     "iopub.status.idle": "2025-08-19T19:01:23.462720Z",
     "shell.execute_reply": "2025-08-19T19:01:23.461954Z"
    },
    "papermill": {
     "duration": 0.053565,
     "end_time": "2025-08-19T19:01:23.471113",
     "exception": false,
     "start_time": "2025-08-19T19:01:23.417548",
     "status": "completed"
    },
    "tags": []
   },
   "outputs": [
    {
     "data": {
      "text/plain": [
       "4"
      ]
     },
     "execution_count": 62,
     "metadata": {},
     "output_type": "execute_result"
    }
   ],
   "source": [
    "sub_universes = universe_analysis.generate_sub_universes()\n",
    "len(sub_universes)"
   ]
  },
  {
   "cell_type": "code",
   "execution_count": 63,
   "id": "d9cfdaca",
   "metadata": {
    "execution": {
     "iopub.execute_input": "2025-08-19T19:01:23.507168Z",
     "iopub.status.busy": "2025-08-19T19:01:23.505983Z",
     "iopub.status.idle": "2025-08-19T19:01:23.515799Z",
     "shell.execute_reply": "2025-08-19T19:01:23.514327Z"
    },
    "papermill": {
     "duration": 0.02852,
     "end_time": "2025-08-19T19:01:23.518334",
     "exception": false,
     "start_time": "2025-08-19T19:01:23.489814",
     "status": "completed"
    },
    "tags": []
   },
   "outputs": [],
   "source": [
    "def filter_sub_universe_data(sub_universe, org_test):\n",
    "    # Keep all rows — no filtering\n",
    "    keep_rows_mask = np.ones(org_test.shape[0], dtype=bool)\n",
    "\n",
    "    print(f\"[INFO] Keeping all rows: {keep_rows_mask.sum()} rows retained.\")\n",
    "    return keep_rows_mask"
   ]
  },
  {
   "cell_type": "code",
   "execution_count": 64,
   "id": "2bc31ac1",
   "metadata": {
    "execution": {
     "iopub.execute_input": "2025-08-19T19:01:23.554052Z",
     "iopub.status.busy": "2025-08-19T19:01:23.552997Z",
     "iopub.status.idle": "2025-08-19T19:01:30.358271Z",
     "shell.execute_reply": "2025-08-19T19:01:30.357265Z"
    },
    "papermill": {
     "duration": 6.822771,
     "end_time": "2025-08-19T19:01:30.359580",
     "exception": false,
     "start_time": "2025-08-19T19:01:23.536809",
     "status": "completed"
    },
    "tags": []
   },
   "outputs": [
    {
     "name": "stdout",
     "output_type": "stream",
     "text": [
      "Stopping execution_time clock.\n",
      "[INFO] Keeping all rows: 89710 rows retained.\n"
     ]
    },
    {
     "name": "stdout",
     "output_type": "stream",
     "text": [
      "[INFO] Keeping all rows: 89710 rows retained.\n"
     ]
    },
    {
     "name": "stdout",
     "output_type": "stream",
     "text": [
      "[INFO] Keeping all rows: 89710 rows retained.\n"
     ]
    },
    {
     "name": "stdout",
     "output_type": "stream",
     "text": [
      "[INFO] Keeping all rows: 89710 rows retained.\n"
     ]
    },
    {
     "data": {
      "text/html": [
       "<div>\n",
       "<style scoped>\n",
       "    .dataframe tbody tr th:only-of-type {\n",
       "        vertical-align: middle;\n",
       "    }\n",
       "\n",
       "    .dataframe tbody tr th {\n",
       "        vertical-align: top;\n",
       "    }\n",
       "\n",
       "    .dataframe thead th {\n",
       "        text-align: right;\n",
       "    }\n",
       "</style>\n",
       "<table border=\"1\" class=\"dataframe\">\n",
       "  <thead>\n",
       "    <tr style=\"text-align: right;\">\n",
       "      <th></th>\n",
       "      <th>run_no</th>\n",
       "      <th>universe_id</th>\n",
       "      <th>universe_settings</th>\n",
       "      <th>execution_time</th>\n",
       "      <th>test_size_n</th>\n",
       "      <th>test_size_frac</th>\n",
       "      <th>fair_main_equalized_odds_difference</th>\n",
       "      <th>fair_main_equalized_odds_ratio</th>\n",
       "      <th>fair_main_demographic_parity_difference</th>\n",
       "      <th>fair_main_demographic_parity_ratio</th>\n",
       "      <th>...</th>\n",
       "      <th>perf_grp_precision_0</th>\n",
       "      <th>perf_grp_precision_1</th>\n",
       "      <th>perf_grp_false positive rate_0</th>\n",
       "      <th>perf_grp_false positive rate_1</th>\n",
       "      <th>perf_grp_false negative rate_0</th>\n",
       "      <th>perf_grp_false negative rate_1</th>\n",
       "      <th>perf_grp_selection rate_0</th>\n",
       "      <th>perf_grp_selection rate_1</th>\n",
       "      <th>perf_grp_count_0</th>\n",
       "      <th>perf_grp_count_1</th>\n",
       "    </tr>\n",
       "  </thead>\n",
       "  <tbody>\n",
       "    <tr>\n",
       "      <th>0</th>\n",
       "      <td>3</td>\n",
       "      <td>b0fd15aefa1b8c021c3bbec5a38e2467</td>\n",
       "      <td>{\"cutoff\": \"quantile_0.1\", \"eval_fairness_grou...</td>\n",
       "      <td>20.867581</td>\n",
       "      <td>89710</td>\n",
       "      <td>1.0</td>\n",
       "      <td>0.096467</td>\n",
       "      <td>0.900313</td>\n",
       "      <td>0.090231</td>\n",
       "      <td>0.906937</td>\n",
       "      <td>...</td>\n",
       "      <td>NaN</td>\n",
       "      <td>NaN</td>\n",
       "      <td>NaN</td>\n",
       "      <td>NaN</td>\n",
       "      <td>NaN</td>\n",
       "      <td>NaN</td>\n",
       "      <td>NaN</td>\n",
       "      <td>NaN</td>\n",
       "      <td>NaN</td>\n",
       "      <td>NaN</td>\n",
       "    </tr>\n",
       "    <tr>\n",
       "      <th>0</th>\n",
       "      <td>3</td>\n",
       "      <td>b0fd15aefa1b8c021c3bbec5a38e2467</td>\n",
       "      <td>{\"cutoff\": \"quantile_0.1\", \"eval_fairness_grou...</td>\n",
       "      <td>20.867581</td>\n",
       "      <td>89710</td>\n",
       "      <td>1.0</td>\n",
       "      <td>0.096467</td>\n",
       "      <td>0.900313</td>\n",
       "      <td>0.090231</td>\n",
       "      <td>0.906937</td>\n",
       "      <td>...</td>\n",
       "      <td>0.116997</td>\n",
       "      <td>0.140142</td>\n",
       "      <td>0.967698</td>\n",
       "      <td>0.871231</td>\n",
       "      <td>0.016047</td>\n",
       "      <td>0.067396</td>\n",
       "      <td>0.969572</td>\n",
       "      <td>0.879341</td>\n",
       "      <td>20540.0</td>\n",
       "      <td>69170.0</td>\n",
       "    </tr>\n",
       "    <tr>\n",
       "      <th>0</th>\n",
       "      <td>3</td>\n",
       "      <td>b0fd15aefa1b8c021c3bbec5a38e2467</td>\n",
       "      <td>{\"cutoff\": \"quantile_0.25\", \"eval_fairness_gro...</td>\n",
       "      <td>20.867581</td>\n",
       "      <td>89710</td>\n",
       "      <td>1.0</td>\n",
       "      <td>0.229097</td>\n",
       "      <td>0.748693</td>\n",
       "      <td>0.214755</td>\n",
       "      <td>0.765443</td>\n",
       "      <td>...</td>\n",
       "      <td>NaN</td>\n",
       "      <td>NaN</td>\n",
       "      <td>NaN</td>\n",
       "      <td>NaN</td>\n",
       "      <td>NaN</td>\n",
       "      <td>NaN</td>\n",
       "      <td>NaN</td>\n",
       "      <td>NaN</td>\n",
       "      <td>NaN</td>\n",
       "      <td>NaN</td>\n",
       "    </tr>\n",
       "    <tr>\n",
       "      <th>0</th>\n",
       "      <td>3</td>\n",
       "      <td>b0fd15aefa1b8c021c3bbec5a38e2467</td>\n",
       "      <td>{\"cutoff\": \"quantile_0.25\", \"eval_fairness_gro...</td>\n",
       "      <td>20.867581</td>\n",
       "      <td>89710</td>\n",
       "      <td>1.0</td>\n",
       "      <td>0.229097</td>\n",
       "      <td>0.748693</td>\n",
       "      <td>0.214755</td>\n",
       "      <td>0.765443</td>\n",
       "      <td>...</td>\n",
       "      <td>0.119111</td>\n",
       "      <td>0.154798</td>\n",
       "      <td>0.911622</td>\n",
       "      <td>0.682525</td>\n",
       "      <td>0.054054</td>\n",
       "      <td>0.178993</td>\n",
       "      <td>0.915579</td>\n",
       "      <td>0.700824</td>\n",
       "      <td>20540.0</td>\n",
       "      <td>69170.0</td>\n",
       "    </tr>\n",
       "  </tbody>\n",
       "</table>\n",
       "<p>4 rows × 50 columns</p>\n",
       "</div>"
      ],
      "text/plain": [
       "  run_no                       universe_id  \\\n",
       "0      3  b0fd15aefa1b8c021c3bbec5a38e2467   \n",
       "0      3  b0fd15aefa1b8c021c3bbec5a38e2467   \n",
       "0      3  b0fd15aefa1b8c021c3bbec5a38e2467   \n",
       "0      3  b0fd15aefa1b8c021c3bbec5a38e2467   \n",
       "\n",
       "                                   universe_settings  execution_time  \\\n",
       "0  {\"cutoff\": \"quantile_0.1\", \"eval_fairness_grou...       20.867581   \n",
       "0  {\"cutoff\": \"quantile_0.1\", \"eval_fairness_grou...       20.867581   \n",
       "0  {\"cutoff\": \"quantile_0.25\", \"eval_fairness_gro...       20.867581   \n",
       "0  {\"cutoff\": \"quantile_0.25\", \"eval_fairness_gro...       20.867581   \n",
       "\n",
       "   test_size_n  test_size_frac  fair_main_equalized_odds_difference  \\\n",
       "0        89710             1.0                             0.096467   \n",
       "0        89710             1.0                             0.096467   \n",
       "0        89710             1.0                             0.229097   \n",
       "0        89710             1.0                             0.229097   \n",
       "\n",
       "   fair_main_equalized_odds_ratio  fair_main_demographic_parity_difference  \\\n",
       "0                        0.900313                                 0.090231   \n",
       "0                        0.900313                                 0.090231   \n",
       "0                        0.748693                                 0.214755   \n",
       "0                        0.748693                                 0.214755   \n",
       "\n",
       "   fair_main_demographic_parity_ratio  ...  perf_grp_precision_0  \\\n",
       "0                            0.906937  ...                   NaN   \n",
       "0                            0.906937  ...              0.116997   \n",
       "0                            0.765443  ...                   NaN   \n",
       "0                            0.765443  ...              0.119111   \n",
       "\n",
       "   perf_grp_precision_1  perf_grp_false positive rate_0  \\\n",
       "0                   NaN                             NaN   \n",
       "0              0.140142                        0.967698   \n",
       "0                   NaN                             NaN   \n",
       "0              0.154798                        0.911622   \n",
       "\n",
       "   perf_grp_false positive rate_1  perf_grp_false negative rate_0  \\\n",
       "0                             NaN                             NaN   \n",
       "0                        0.871231                        0.016047   \n",
       "0                             NaN                             NaN   \n",
       "0                        0.682525                        0.054054   \n",
       "\n",
       "   perf_grp_false negative rate_1  perf_grp_selection rate_0  \\\n",
       "0                             NaN                        NaN   \n",
       "0                        0.067396                   0.969572   \n",
       "0                             NaN                        NaN   \n",
       "0                        0.178993                   0.915579   \n",
       "\n",
       "   perf_grp_selection rate_1  perf_grp_count_0  perf_grp_count_1  \n",
       "0                        NaN               NaN               NaN  \n",
       "0                   0.879341           20540.0           69170.0  \n",
       "0                        NaN               NaN               NaN  \n",
       "0                   0.700824           20540.0           69170.0  \n",
       "\n",
       "[4 rows x 50 columns]"
      ]
     },
     "execution_count": 64,
     "metadata": {},
     "output_type": "execute_result"
    }
   ],
   "source": [
    "final_output = universe_analysis.generate_final_output(\n",
    "    y_pred_prob=probs_test,\n",
    "    y_test=y_true,\n",
    "    org_test=org_test,\n",
    "    filter_data=filter_sub_universe_data,\n",
    "    cp_metrics_df=cp_metrics_df,\n",
    "    save=True,\n",
    ")\n",
    "final_output"
   ]
  },
  {
   "cell_type": "code",
   "execution_count": null,
   "id": "8b80a1ff",
   "metadata": {
    "papermill": {
     "duration": 0.014616,
     "end_time": "2025-08-19T19:01:30.392055",
     "exception": false,
     "start_time": "2025-08-19T19:01:30.377439",
     "status": "completed"
    },
    "tags": []
   },
   "outputs": [],
   "source": []
  },
  {
   "cell_type": "code",
   "execution_count": null,
   "id": "275c9fad",
   "metadata": {
    "papermill": {
     "duration": 0.014697,
     "end_time": "2025-08-19T19:01:30.421311",
     "exception": false,
     "start_time": "2025-08-19T19:01:30.406614",
     "status": "completed"
    },
    "tags": []
   },
   "outputs": [],
   "source": []
  }
 ],
 "metadata": {
  "celltoolbar": "Tags",
  "kernelspec": {
   "display_name": "Python (CMA Fairness)",
   "language": "python",
   "name": "cma_fair_env"
  },
  "language_info": {
   "codemirror_mode": {
    "name": "ipython",
    "version": 3
   },
   "file_extension": ".py",
   "mimetype": "text/x-python",
   "name": "python",
   "nbconvert_exporter": "python",
   "pygments_lexer": "ipython3",
   "version": "3.10.12"
  },
  "papermill": {
   "default_parameters": {},
   "duration": 31.797527,
   "end_time": "2025-08-19T19:01:31.263141",
   "environment_variables": {},
   "exception": null,
   "input_path": "universe_analysis.ipynb",
   "output_path": "output/runs/3/notebooks/m_3-b0fd15aefa1b8c021c3bbec5a38e2467.ipynb",
   "parameters": {
    "output_dir": "output",
    "run_no": "3",
    "seed": "2023",
    "universe": "{\"cutoff\": [\"quantile_0.1\", \"quantile_0.25\"], \"eval_fairness_grouping\": [\"majority-minority\", \"nationality-all\"], \"exclude_features\": \"age\", \"exclude_subgroups\": \"keep-all\", \"model\": \"logreg\", \"scale\": \"do-not-scale\", \"training_size\": \"1k\", \"training_year\": \"2012_14\"}",
    "universe_id": "b0fd15aefa1b8c021c3bbec5a38e2467"
   },
   "start_time": "2025-08-19T19:00:59.465614",
   "version": "2.6.0"
  }
 },
 "nbformat": 4,
 "nbformat_minor": 5
}