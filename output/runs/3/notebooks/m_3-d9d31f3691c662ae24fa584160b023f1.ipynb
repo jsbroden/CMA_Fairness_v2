{
 "cells": [
  {
   "cell_type": "markdown",
   "id": "ef23dbb3",
   "metadata": {
    "papermill": {
     "duration": 0.023972,
     "end_time": "2025-08-19T18:42:12.074308",
     "exception": false,
     "start_time": "2025-08-19T18:42:12.050336",
     "status": "completed"
    },
    "tags": []
   },
   "source": [
    "# Setup"
   ]
  },
  {
   "cell_type": "code",
   "execution_count": 1,
   "id": "0bc8e7dc",
   "metadata": {
    "execution": {
     "iopub.execute_input": "2025-08-19T18:42:12.096547Z",
     "iopub.status.busy": "2025-08-19T18:42:12.096170Z",
     "iopub.status.idle": "2025-08-19T18:42:12.106324Z",
     "shell.execute_reply": "2025-08-19T18:42:12.105650Z"
    },
    "papermill": {
     "duration": 0.026425,
     "end_time": "2025-08-19T18:42:12.112767",
     "exception": false,
     "start_time": "2025-08-19T18:42:12.086342",
     "status": "completed"
    },
    "tags": []
   },
   "outputs": [
    {
     "name": "stdout",
     "output_type": "stream",
     "text": [
      "/dss/dsshome1/0C/ra93lal2/cma/CMA_Fairness_v2\n"
     ]
    },
    {
     "name": "stderr",
     "output_type": "stream",
     "text": [
      "/dss/dsshome1/0C/ra93lal2/.local/share/virtualenvs/CMA_Fairness_v2-3j10GkSs/lib/python3.10/site-packages/IPython/core/magics/osm.py:393: UserWarning: This is now an optional IPython functionality, using bookmarks requires you to install the `pickleshare` library.\n",
      "  bkms = self.shell.db.get('bookmarks', {})\n",
      "/dss/dsshome1/0C/ra93lal2/.local/share/virtualenvs/CMA_Fairness_v2-3j10GkSs/lib/python3.10/site-packages/IPython/core/magics/osm.py:417: UserWarning: This is now an optional IPython functionality, setting dhist requires you to install the `pickleshare` library.\n",
      "  self.shell.db['dhist'] = compress_dhist(dhist)[-100:]\n"
     ]
    }
   ],
   "source": [
    "%cd ~/cma/CMA_Fairness_v2"
   ]
  },
  {
   "cell_type": "markdown",
   "id": "9d235661",
   "metadata": {
    "papermill": {
     "duration": 0.010064,
     "end_time": "2025-08-19T18:42:12.139313",
     "exception": false,
     "start_time": "2025-08-19T18:42:12.129249",
     "status": "completed"
    },
    "tags": []
   },
   "source": [
    "The following cell holds the definition of our parameters, these values can be overriden by rendering the with e.g. the following command:\n",
    "\n",
    "papermill -p alpha 0.2 -p ratio 0.3 universe_analysis.ipynb output/test_run.ipynb"
   ]
  },
  {
   "cell_type": "code",
   "execution_count": 2,
   "id": "4a789d8e",
   "metadata": {
    "execution": {
     "iopub.execute_input": "2025-08-19T18:42:12.159848Z",
     "iopub.status.busy": "2025-08-19T18:42:12.158439Z",
     "iopub.status.idle": "2025-08-19T18:42:12.165854Z",
     "shell.execute_reply": "2025-08-19T18:42:12.164755Z"
    },
    "papermill": {
     "duration": 0.019325,
     "end_time": "2025-08-19T18:42:12.167325",
     "exception": false,
     "start_time": "2025-08-19T18:42:12.148000",
     "status": "completed"
    },
    "tags": []
   },
   "outputs": [
    {
     "name": "stdout",
     "output_type": "stream",
     "text": [
      "Current working directory: /dss/dsshome1/0C/ra93lal2/cma/CMA_Fairness_v2\n"
     ]
    }
   ],
   "source": [
    "import os\n",
    "print(\"Current working directory:\", os.getcwd())"
   ]
  },
  {
   "cell_type": "code",
   "execution_count": 3,
   "id": "4132aaed",
   "metadata": {
    "execution": {
     "iopub.execute_input": "2025-08-19T18:42:12.188866Z",
     "iopub.status.busy": "2025-08-19T18:42:12.187928Z",
     "iopub.status.idle": "2025-08-19T18:42:12.217751Z",
     "shell.execute_reply": "2025-08-19T18:42:12.216963Z"
    },
    "papermill": {
     "duration": 0.042821,
     "end_time": "2025-08-19T18:42:12.220281",
     "exception": false,
     "start_time": "2025-08-19T18:42:12.177460",
     "status": "completed"
    },
    "tags": [
     "parameters"
    ]
   },
   "outputs": [],
   "source": [
    "run_no = 0\n",
    "universe_id = \"test\"\n",
    "universe = {\n",
    "    \"training_size\": \"5k\", # \"25k\", \"5k\", \"1k\"\n",
    "    \"training_year\": \"2012_14\", # \"2014\", \"2012_14\", \"2010_14\"\n",
    "    \"scale\": \"scale\", # \"scale\", \"do-not-scale\",\n",
    "    \"model\": \"elasticnet\", # \"logreg\", \"penalized_logreg\", \"rf\", \"gbm\", \"elasticnet\"\n",
    "    \"cutoff\": [\"quantile_0.15\", \"quantile_0.30\"],\n",
    "    \"exclude_features\": \"age\", # \"none\", \"nationality\", \"sex\", \"nationality-sex\", \"age\"\n",
    "    \"exclude_subgroups\": \"drop-non-german\", # \"keep-all\", \"drop-non-german\"\n",
    "    \"eval_fairness_grouping\": [\"majority-minority\", \"nationality-all\"]\n",
    "}\n",
    "\n",
    "output_dir=\"./output\"\n",
    "seed=0"
   ]
  },
  {
   "cell_type": "code",
   "execution_count": 4,
   "id": "43a1b69e",
   "metadata": {
    "execution": {
     "iopub.execute_input": "2025-08-19T18:42:12.254846Z",
     "iopub.status.busy": "2025-08-19T18:42:12.254092Z",
     "iopub.status.idle": "2025-08-19T18:42:12.259848Z",
     "shell.execute_reply": "2025-08-19T18:42:12.258878Z"
    },
    "papermill": {
     "duration": 0.020397,
     "end_time": "2025-08-19T18:42:12.261267",
     "exception": false,
     "start_time": "2025-08-19T18:42:12.240870",
     "status": "completed"
    },
    "tags": [
     "injected-parameters"
    ]
   },
   "outputs": [],
   "source": [
    "# Parameters\n",
    "universe_id = \"d9d31f3691c662ae24fa584160b023f1\"\n",
    "run_no = \"3\"\n",
    "universe = \"{\\\"cutoff\\\": [\\\"quantile_0.1\\\", \\\"quantile_0.25\\\"], \\\"eval_fairness_grouping\\\": [\\\"majority-minority\\\", \\\"nationality-all\\\"], \\\"exclude_features\\\": \\\"sex\\\", \\\"exclude_subgroups\\\": \\\"drop-non-german\\\", \\\"model\\\": \\\"rf\\\", \\\"scale\\\": \\\"scale\\\", \\\"training_size\\\": \\\"5k\\\", \\\"training_year\\\": \\\"2010_14\\\"}\"\n",
    "output_dir = \"output\"\n",
    "seed = \"2023\"\n"
   ]
  },
  {
   "cell_type": "code",
   "execution_count": 5,
   "id": "a5d7941f",
   "metadata": {
    "execution": {
     "iopub.execute_input": "2025-08-19T18:42:12.282433Z",
     "iopub.status.busy": "2025-08-19T18:42:12.281251Z",
     "iopub.status.idle": "2025-08-19T18:42:12.328696Z",
     "shell.execute_reply": "2025-08-19T18:42:12.327383Z"
    },
    "papermill": {
     "duration": 0.061194,
     "end_time": "2025-08-19T18:42:12.331747",
     "exception": false,
     "start_time": "2025-08-19T18:42:12.270553",
     "status": "completed"
    },
    "tags": []
   },
   "outputs": [],
   "source": [
    "import json\n",
    "if isinstance(universe, str):\n",
    "    universe = json.loads(universe)"
   ]
  },
  {
   "cell_type": "code",
   "execution_count": 6,
   "id": "7076ccb1",
   "metadata": {
    "execution": {
     "iopub.execute_input": "2025-08-19T18:42:12.367373Z",
     "iopub.status.busy": "2025-08-19T18:42:12.366366Z",
     "iopub.status.idle": "2025-08-19T18:42:12.414909Z",
     "shell.execute_reply": "2025-08-19T18:42:12.414181Z"
    },
    "papermill": {
     "duration": 0.064277,
     "end_time": "2025-08-19T18:42:12.417678",
     "exception": false,
     "start_time": "2025-08-19T18:42:12.353401",
     "status": "completed"
    },
    "tags": []
   },
   "outputs": [],
   "source": [
    "# Auto-reload the custom package\n",
    "%load_ext autoreload\n",
    "%autoreload 1\n",
    "%aimport fairness_multiverse"
   ]
  },
  {
   "cell_type": "code",
   "execution_count": 7,
   "id": "94c8eb93",
   "metadata": {
    "execution": {
     "iopub.execute_input": "2025-08-19T18:42:12.452405Z",
     "iopub.status.busy": "2025-08-19T18:42:12.451573Z",
     "iopub.status.idle": "2025-08-19T18:42:14.107703Z",
     "shell.execute_reply": "2025-08-19T18:42:14.106869Z"
    },
    "papermill": {
     "duration": 1.670737,
     "end_time": "2025-08-19T18:42:14.109623",
     "exception": false,
     "start_time": "2025-08-19T18:42:12.438886",
     "status": "completed"
    },
    "tags": []
   },
   "outputs": [],
   "source": [
    "from fairness_multiverse.universe import UniverseAnalysis\n",
    "\n",
    "universe_analysis = UniverseAnalysis(\n",
    "    run_no = run_no,\n",
    "    universe_id = universe_id,\n",
    "    universe = universe,\n",
    "    output_dir=output_dir,\n",
    ")"
   ]
  },
  {
   "cell_type": "code",
   "execution_count": 8,
   "id": "2a6381cf",
   "metadata": {
    "execution": {
     "iopub.execute_input": "2025-08-19T18:42:14.131297Z",
     "iopub.status.busy": "2025-08-19T18:42:14.130421Z",
     "iopub.status.idle": "2025-08-19T18:42:14.137675Z",
     "shell.execute_reply": "2025-08-19T18:42:14.136677Z"
    },
    "papermill": {
     "duration": 0.018609,
     "end_time": "2025-08-19T18:42:14.138915",
     "exception": false,
     "start_time": "2025-08-19T18:42:14.120306",
     "status": "completed"
    },
    "tags": []
   },
   "outputs": [
    {
     "name": "stdout",
     "output_type": "stream",
     "text": [
      "Using Seed: 2023\n"
     ]
    }
   ],
   "source": [
    "import numpy as np\n",
    "parsed_seed = int(seed)\n",
    "np.random.seed(parsed_seed)\n",
    "print(f\"Using Seed: {parsed_seed}\")"
   ]
  },
  {
   "cell_type": "markdown",
   "id": "b6e958b4",
   "metadata": {
    "papermill": {
     "duration": 0.010005,
     "end_time": "2025-08-19T18:42:14.158135",
     "exception": false,
     "start_time": "2025-08-19T18:42:14.148130",
     "status": "completed"
    },
    "tags": []
   },
   "source": [
    "# Loading Data"
   ]
  },
  {
   "cell_type": "code",
   "execution_count": 9,
   "id": "98701482",
   "metadata": {
    "execution": {
     "iopub.execute_input": "2025-08-19T18:42:14.179380Z",
     "iopub.status.busy": "2025-08-19T18:42:14.177885Z",
     "iopub.status.idle": "2025-08-19T18:42:24.198577Z",
     "shell.execute_reply": "2025-08-19T18:42:24.197719Z"
    },
    "papermill": {
     "duration": 10.032462,
     "end_time": "2025-08-19T18:42:24.200018",
     "exception": false,
     "start_time": "2025-08-19T18:42:14.167556",
     "status": "completed"
    },
    "tags": []
   },
   "outputs": [
    {
     "name": "stdout",
     "output_type": "stream",
     "text": [
      "Loading SIAB data from cache: data/siab_cached.csv.gz\n"
     ]
    },
    {
     "name": "stdout",
     "output_type": "stream",
     "text": [
      "(643690, 164)\n"
     ]
    }
   ],
   "source": [
    "from pathlib import Path\n",
    "import pandas as pd\n",
    "\n",
    "# File paths\n",
    "raw_file = Path(\"data/raw/siab.csv\")\n",
    "cache_file = Path(\"data/siab_cached.csv.gz\")\n",
    "\n",
    "# Ensure cache directory exists\n",
    "cache_file.parent.mkdir(parents=True, exist_ok=True)\n",
    "\n",
    "# Load with simple caching\n",
    "if cache_file.exists():\n",
    "    print(f\"Loading SIAB data from cache: {cache_file}\")\n",
    "    siab = pd.read_csv(cache_file, compression='gzip')\n",
    "else:\n",
    "    print(f\"Cache not found. Reading raw SIAB data: {raw_file}\")\n",
    "    siab = pd.read_csv(raw_file)\n",
    "    siab.to_csv(cache_file, index=False, compression='gzip')\n",
    "    print(f\"Cached SIAB data to: {cache_file}\")\n",
    "\n",
    "print(siab.shape)"
   ]
  },
  {
   "cell_type": "code",
   "execution_count": 10,
   "id": "058d2abb",
   "metadata": {
    "execution": {
     "iopub.execute_input": "2025-08-19T18:42:24.228836Z",
     "iopub.status.busy": "2025-08-19T18:42:24.223493Z",
     "iopub.status.idle": "2025-08-19T18:42:24.429851Z",
     "shell.execute_reply": "2025-08-19T18:42:24.429134Z"
    },
    "papermill": {
     "duration": 0.220976,
     "end_time": "2025-08-19T18:42:24.433357",
     "exception": false,
     "start_time": "2025-08-19T18:42:24.212381",
     "status": "completed"
    },
    "tags": []
   },
   "outputs": [
    {
     "data": {
      "text/html": [
       "<div>\n",
       "<style scoped>\n",
       "    .dataframe tbody tr th:only-of-type {\n",
       "        vertical-align: middle;\n",
       "    }\n",
       "\n",
       "    .dataframe tbody tr th {\n",
       "        vertical-align: top;\n",
       "    }\n",
       "\n",
       "    .dataframe thead th {\n",
       "        text-align: right;\n",
       "    }\n",
       "</style>\n",
       "<table border=\"1\" class=\"dataframe\">\n",
       "  <thead>\n",
       "    <tr style=\"text-align: right;\">\n",
       "      <th></th>\n",
       "      <th>persnr</th>\n",
       "      <th>year</th>\n",
       "      <th>nrEntry</th>\n",
       "      <th>ltue</th>\n",
       "      <th>employed_before</th>\n",
       "      <th>receipt_leh_before</th>\n",
       "      <th>receipt_lhg_before</th>\n",
       "      <th>se_before</th>\n",
       "      <th>ASU_notue_seeking_before</th>\n",
       "      <th>ASU_other_before</th>\n",
       "      <th>...</th>\n",
       "      <th>minijob_tot_dur_byage</th>\n",
       "      <th>ft_tot_dur_byage</th>\n",
       "      <th>befrist_tot_dur_byage</th>\n",
       "      <th>leih_tot_dur_byage</th>\n",
       "      <th>LHG_tot_dur_byage</th>\n",
       "      <th>LEH_tot_dur_byage</th>\n",
       "      <th>almp_tot_dur_byage</th>\n",
       "      <th>almp_aw_tot_dur_byage</th>\n",
       "      <th>se_tot_dur_byage</th>\n",
       "      <th>seeking1_tot_dur_byage</th>\n",
       "    </tr>\n",
       "  </thead>\n",
       "  <tbody>\n",
       "    <tr>\n",
       "      <th>0</th>\n",
       "      <td>7</td>\n",
       "      <td>2015</td>\n",
       "      <td>1</td>\n",
       "      <td>0</td>\n",
       "      <td>1</td>\n",
       "      <td>0</td>\n",
       "      <td>0</td>\n",
       "      <td>0</td>\n",
       "      <td>1</td>\n",
       "      <td>0</td>\n",
       "      <td>...</td>\n",
       "      <td>0.000000</td>\n",
       "      <td>0.000000</td>\n",
       "      <td>15.043478</td>\n",
       "      <td>0.000000</td>\n",
       "      <td>0.000000</td>\n",
       "      <td>0.000000</td>\n",
       "      <td>0.000000</td>\n",
       "      <td>0.000000</td>\n",
       "      <td>0.000000</td>\n",
       "      <td>0.000000</td>\n",
       "    </tr>\n",
       "    <tr>\n",
       "      <th>1</th>\n",
       "      <td>18</td>\n",
       "      <td>2010</td>\n",
       "      <td>1</td>\n",
       "      <td>1</td>\n",
       "      <td>0</td>\n",
       "      <td>0</td>\n",
       "      <td>0</td>\n",
       "      <td>0</td>\n",
       "      <td>0</td>\n",
       "      <td>0</td>\n",
       "      <td>...</td>\n",
       "      <td>0.000000</td>\n",
       "      <td>0.000000</td>\n",
       "      <td>0.000000</td>\n",
       "      <td>0.000000</td>\n",
       "      <td>0.000000</td>\n",
       "      <td>0.000000</td>\n",
       "      <td>0.000000</td>\n",
       "      <td>0.000000</td>\n",
       "      <td>0.000000</td>\n",
       "      <td>0.000000</td>\n",
       "    </tr>\n",
       "    <tr>\n",
       "      <th>2</th>\n",
       "      <td>18</td>\n",
       "      <td>2011</td>\n",
       "      <td>2</td>\n",
       "      <td>0</td>\n",
       "      <td>1</td>\n",
       "      <td>0</td>\n",
       "      <td>1</td>\n",
       "      <td>0</td>\n",
       "      <td>1</td>\n",
       "      <td>0</td>\n",
       "      <td>...</td>\n",
       "      <td>2.714286</td>\n",
       "      <td>2.714286</td>\n",
       "      <td>0.000000</td>\n",
       "      <td>0.000000</td>\n",
       "      <td>10.775510</td>\n",
       "      <td>0.000000</td>\n",
       "      <td>8.367347</td>\n",
       "      <td>0.000000</td>\n",
       "      <td>0.000000</td>\n",
       "      <td>9.836735</td>\n",
       "    </tr>\n",
       "    <tr>\n",
       "      <th>3</th>\n",
       "      <td>18</td>\n",
       "      <td>2012</td>\n",
       "      <td>3</td>\n",
       "      <td>0</td>\n",
       "      <td>1</td>\n",
       "      <td>0</td>\n",
       "      <td>1</td>\n",
       "      <td>0</td>\n",
       "      <td>1</td>\n",
       "      <td>0</td>\n",
       "      <td>...</td>\n",
       "      <td>4.200000</td>\n",
       "      <td>4.200000</td>\n",
       "      <td>0.000000</td>\n",
       "      <td>0.000000</td>\n",
       "      <td>12.100000</td>\n",
       "      <td>0.000000</td>\n",
       "      <td>9.400000</td>\n",
       "      <td>0.000000</td>\n",
       "      <td>0.000000</td>\n",
       "      <td>9.960000</td>\n",
       "    </tr>\n",
       "    <tr>\n",
       "      <th>4</th>\n",
       "      <td>18</td>\n",
       "      <td>2012</td>\n",
       "      <td>4</td>\n",
       "      <td>0</td>\n",
       "      <td>1</td>\n",
       "      <td>0</td>\n",
       "      <td>1</td>\n",
       "      <td>0</td>\n",
       "      <td>1</td>\n",
       "      <td>0</td>\n",
       "      <td>...</td>\n",
       "      <td>5.460000</td>\n",
       "      <td>5.460000</td>\n",
       "      <td>0.000000</td>\n",
       "      <td>0.000000</td>\n",
       "      <td>13.360000</td>\n",
       "      <td>0.000000</td>\n",
       "      <td>10.320000</td>\n",
       "      <td>0.000000</td>\n",
       "      <td>0.000000</td>\n",
       "      <td>10.280000</td>\n",
       "    </tr>\n",
       "    <tr>\n",
       "      <th>...</th>\n",
       "      <td>...</td>\n",
       "      <td>...</td>\n",
       "      <td>...</td>\n",
       "      <td>...</td>\n",
       "      <td>...</td>\n",
       "      <td>...</td>\n",
       "      <td>...</td>\n",
       "      <td>...</td>\n",
       "      <td>...</td>\n",
       "      <td>...</td>\n",
       "      <td>...</td>\n",
       "      <td>...</td>\n",
       "      <td>...</td>\n",
       "      <td>...</td>\n",
       "      <td>...</td>\n",
       "      <td>...</td>\n",
       "      <td>...</td>\n",
       "      <td>...</td>\n",
       "      <td>...</td>\n",
       "      <td>...</td>\n",
       "      <td>...</td>\n",
       "    </tr>\n",
       "    <tr>\n",
       "      <th>643685</th>\n",
       "      <td>1827860</td>\n",
       "      <td>2013</td>\n",
       "      <td>1</td>\n",
       "      <td>0</td>\n",
       "      <td>0</td>\n",
       "      <td>0</td>\n",
       "      <td>1</td>\n",
       "      <td>0</td>\n",
       "      <td>0</td>\n",
       "      <td>1</td>\n",
       "      <td>...</td>\n",
       "      <td>0.000000</td>\n",
       "      <td>0.000000</td>\n",
       "      <td>0.000000</td>\n",
       "      <td>0.000000</td>\n",
       "      <td>0.612903</td>\n",
       "      <td>0.000000</td>\n",
       "      <td>0.000000</td>\n",
       "      <td>0.000000</td>\n",
       "      <td>0.000000</td>\n",
       "      <td>0.000000</td>\n",
       "    </tr>\n",
       "    <tr>\n",
       "      <th>643686</th>\n",
       "      <td>1827860</td>\n",
       "      <td>2015</td>\n",
       "      <td>2</td>\n",
       "      <td>1</td>\n",
       "      <td>0</td>\n",
       "      <td>0</td>\n",
       "      <td>1</td>\n",
       "      <td>0</td>\n",
       "      <td>1</td>\n",
       "      <td>0</td>\n",
       "      <td>...</td>\n",
       "      <td>0.000000</td>\n",
       "      <td>0.000000</td>\n",
       "      <td>0.212121</td>\n",
       "      <td>0.212121</td>\n",
       "      <td>17.363636</td>\n",
       "      <td>0.000000</td>\n",
       "      <td>8.909091</td>\n",
       "      <td>0.000000</td>\n",
       "      <td>0.000000</td>\n",
       "      <td>7.121212</td>\n",
       "    </tr>\n",
       "    <tr>\n",
       "      <th>643687</th>\n",
       "      <td>1827860</td>\n",
       "      <td>2016</td>\n",
       "      <td>3</td>\n",
       "      <td>1</td>\n",
       "      <td>0</td>\n",
       "      <td>0</td>\n",
       "      <td>1</td>\n",
       "      <td>1</td>\n",
       "      <td>0</td>\n",
       "      <td>1</td>\n",
       "      <td>...</td>\n",
       "      <td>0.000000</td>\n",
       "      <td>0.000000</td>\n",
       "      <td>0.294118</td>\n",
       "      <td>0.205882</td>\n",
       "      <td>34.705882</td>\n",
       "      <td>0.000000</td>\n",
       "      <td>10.352941</td>\n",
       "      <td>1.705882</td>\n",
       "      <td>1.705882</td>\n",
       "      <td>23.911765</td>\n",
       "    </tr>\n",
       "    <tr>\n",
       "      <th>643688</th>\n",
       "      <td>1827869</td>\n",
       "      <td>2013</td>\n",
       "      <td>1</td>\n",
       "      <td>1</td>\n",
       "      <td>1</td>\n",
       "      <td>0</td>\n",
       "      <td>0</td>\n",
       "      <td>0</td>\n",
       "      <td>1</td>\n",
       "      <td>0</td>\n",
       "      <td>...</td>\n",
       "      <td>0.000000</td>\n",
       "      <td>0.000000</td>\n",
       "      <td>0.000000</td>\n",
       "      <td>0.000000</td>\n",
       "      <td>0.000000</td>\n",
       "      <td>0.525424</td>\n",
       "      <td>0.000000</td>\n",
       "      <td>0.000000</td>\n",
       "      <td>0.000000</td>\n",
       "      <td>0.000000</td>\n",
       "    </tr>\n",
       "    <tr>\n",
       "      <th>643689</th>\n",
       "      <td>1827869</td>\n",
       "      <td>2014</td>\n",
       "      <td>2</td>\n",
       "      <td>0</td>\n",
       "      <td>0</td>\n",
       "      <td>1</td>\n",
       "      <td>0</td>\n",
       "      <td>0</td>\n",
       "      <td>1</td>\n",
       "      <td>0</td>\n",
       "      <td>...</td>\n",
       "      <td>0.000000</td>\n",
       "      <td>0.666667</td>\n",
       "      <td>0.666667</td>\n",
       "      <td>0.000000</td>\n",
       "      <td>0.000000</td>\n",
       "      <td>8.950000</td>\n",
       "      <td>1.033333</td>\n",
       "      <td>0.083333</td>\n",
       "      <td>0.083333</td>\n",
       "      <td>8.133333</td>\n",
       "    </tr>\n",
       "  </tbody>\n",
       "</table>\n",
       "<p>643690 rows × 164 columns</p>\n",
       "</div>"
      ],
      "text/plain": [
       "         persnr  year  nrEntry  ltue  employed_before  receipt_leh_before  \\\n",
       "0             7  2015        1     0                1                   0   \n",
       "1            18  2010        1     1                0                   0   \n",
       "2            18  2011        2     0                1                   0   \n",
       "3            18  2012        3     0                1                   0   \n",
       "4            18  2012        4     0                1                   0   \n",
       "...         ...   ...      ...   ...              ...                 ...   \n",
       "643685  1827860  2013        1     0                0                   0   \n",
       "643686  1827860  2015        2     1                0                   0   \n",
       "643687  1827860  2016        3     1                0                   0   \n",
       "643688  1827869  2013        1     1                1                   0   \n",
       "643689  1827869  2014        2     0                0                   1   \n",
       "\n",
       "        receipt_lhg_before  se_before  ASU_notue_seeking_before  \\\n",
       "0                        0          0                         1   \n",
       "1                        0          0                         0   \n",
       "2                        1          0                         1   \n",
       "3                        1          0                         1   \n",
       "4                        1          0                         1   \n",
       "...                    ...        ...                       ...   \n",
       "643685                   1          0                         0   \n",
       "643686                   1          0                         1   \n",
       "643687                   1          1                         0   \n",
       "643688                   0          0                         1   \n",
       "643689                   0          0                         1   \n",
       "\n",
       "        ASU_other_before  ...  minijob_tot_dur_byage  ft_tot_dur_byage  \\\n",
       "0                      0  ...               0.000000          0.000000   \n",
       "1                      0  ...               0.000000          0.000000   \n",
       "2                      0  ...               2.714286          2.714286   \n",
       "3                      0  ...               4.200000          4.200000   \n",
       "4                      0  ...               5.460000          5.460000   \n",
       "...                  ...  ...                    ...               ...   \n",
       "643685                 1  ...               0.000000          0.000000   \n",
       "643686                 0  ...               0.000000          0.000000   \n",
       "643687                 1  ...               0.000000          0.000000   \n",
       "643688                 0  ...               0.000000          0.000000   \n",
       "643689                 0  ...               0.000000          0.666667   \n",
       "\n",
       "        befrist_tot_dur_byage  leih_tot_dur_byage  LHG_tot_dur_byage  \\\n",
       "0                   15.043478            0.000000           0.000000   \n",
       "1                    0.000000            0.000000           0.000000   \n",
       "2                    0.000000            0.000000          10.775510   \n",
       "3                    0.000000            0.000000          12.100000   \n",
       "4                    0.000000            0.000000          13.360000   \n",
       "...                       ...                 ...                ...   \n",
       "643685               0.000000            0.000000           0.612903   \n",
       "643686               0.212121            0.212121          17.363636   \n",
       "643687               0.294118            0.205882          34.705882   \n",
       "643688               0.000000            0.000000           0.000000   \n",
       "643689               0.666667            0.000000           0.000000   \n",
       "\n",
       "        LEH_tot_dur_byage  almp_tot_dur_byage  almp_aw_tot_dur_byage  \\\n",
       "0                0.000000            0.000000               0.000000   \n",
       "1                0.000000            0.000000               0.000000   \n",
       "2                0.000000            8.367347               0.000000   \n",
       "3                0.000000            9.400000               0.000000   \n",
       "4                0.000000           10.320000               0.000000   \n",
       "...                   ...                 ...                    ...   \n",
       "643685           0.000000            0.000000               0.000000   \n",
       "643686           0.000000            8.909091               0.000000   \n",
       "643687           0.000000           10.352941               1.705882   \n",
       "643688           0.525424            0.000000               0.000000   \n",
       "643689           8.950000            1.033333               0.083333   \n",
       "\n",
       "        se_tot_dur_byage  seeking1_tot_dur_byage  \n",
       "0               0.000000                0.000000  \n",
       "1               0.000000                0.000000  \n",
       "2               0.000000                9.836735  \n",
       "3               0.000000                9.960000  \n",
       "4               0.000000               10.280000  \n",
       "...                  ...                     ...  \n",
       "643685          0.000000                0.000000  \n",
       "643686          0.000000                7.121212  \n",
       "643687          1.705882               23.911765  \n",
       "643688          0.000000                0.000000  \n",
       "643689          0.083333                8.133333  \n",
       "\n",
       "[643690 rows x 164 columns]"
      ]
     },
     "execution_count": 10,
     "metadata": {},
     "output_type": "execute_result"
    }
   ],
   "source": [
    "siab"
   ]
  },
  {
   "cell_type": "markdown",
   "id": "1f87e805",
   "metadata": {
    "papermill": {
     "duration": 0.011663,
     "end_time": "2025-08-19T18:42:24.467028",
     "exception": false,
     "start_time": "2025-08-19T18:42:24.455365",
     "status": "completed"
    },
    "tags": []
   },
   "source": [
    "# Splitting Data and Setting Training Data Size"
   ]
  },
  {
   "cell_type": "code",
   "execution_count": 11,
   "id": "910ae358",
   "metadata": {
    "execution": {
     "iopub.execute_input": "2025-08-19T18:42:24.489416Z",
     "iopub.status.busy": "2025-08-19T18:42:24.488192Z",
     "iopub.status.idle": "2025-08-19T18:42:25.601914Z",
     "shell.execute_reply": "2025-08-19T18:42:25.601234Z"
    },
    "papermill": {
     "duration": 1.126632,
     "end_time": "2025-08-19T18:42:25.603408",
     "exception": false,
     "start_time": "2025-08-19T18:42:24.476776",
     "status": "completed"
    },
    "tags": []
   },
   "outputs": [],
   "source": [
    "from fairness_multiverse.universe import sample_by_year_size\n",
    "\n",
    "siab_train = sample_by_year_size(siab,\n",
    "                               training_year=universe[\"training_year\"],\n",
    "                               training_size=universe[\"training_size\"])"
   ]
  },
  {
   "cell_type": "code",
   "execution_count": 12,
   "id": "919c8ff5",
   "metadata": {
    "execution": {
     "iopub.execute_input": "2025-08-19T18:42:25.631906Z",
     "iopub.status.busy": "2025-08-19T18:42:25.630788Z",
     "iopub.status.idle": "2025-08-19T18:42:25.640380Z",
     "shell.execute_reply": "2025-08-19T18:42:25.639286Z"
    },
    "papermill": {
     "duration": 0.021838,
     "end_time": "2025-08-19T18:42:25.641628",
     "exception": false,
     "start_time": "2025-08-19T18:42:25.619790",
     "status": "completed"
    },
    "tags": []
   },
   "outputs": [
    {
     "data": {
      "text/plain": [
       "(5000, 164)"
      ]
     },
     "execution_count": 12,
     "metadata": {},
     "output_type": "execute_result"
    }
   ],
   "source": [
    "siab_train.shape"
   ]
  },
  {
   "cell_type": "code",
   "execution_count": 13,
   "id": "feb13bf4",
   "metadata": {
    "execution": {
     "iopub.execute_input": "2025-08-19T18:42:25.666135Z",
     "iopub.status.busy": "2025-08-19T18:42:25.665261Z",
     "iopub.status.idle": "2025-08-19T18:42:25.680202Z",
     "shell.execute_reply": "2025-08-19T18:42:25.678914Z"
    },
    "papermill": {
     "duration": 0.031544,
     "end_time": "2025-08-19T18:42:25.684998",
     "exception": false,
     "start_time": "2025-08-19T18:42:25.653454",
     "status": "completed"
    },
    "tags": []
   },
   "outputs": [
    {
     "data": {
      "text/plain": [
       "year\n",
       "2010    1000\n",
       "2011    1000\n",
       "2012    1000\n",
       "2013    1000\n",
       "2014    1000\n",
       "dtype: int64"
      ]
     },
     "metadata": {},
     "output_type": "display_data"
    }
   ],
   "source": [
    "display(siab_train.groupby(\"year\").size())"
   ]
  },
  {
   "cell_type": "code",
   "execution_count": 14,
   "id": "0997782f",
   "metadata": {
    "execution": {
     "iopub.execute_input": "2025-08-19T18:42:25.761936Z",
     "iopub.status.busy": "2025-08-19T18:42:25.761080Z",
     "iopub.status.idle": "2025-08-19T18:42:26.048994Z",
     "shell.execute_reply": "2025-08-19T18:42:26.048083Z"
    },
    "papermill": {
     "duration": 0.319844,
     "end_time": "2025-08-19T18:42:26.050778",
     "exception": false,
     "start_time": "2025-08-19T18:42:25.730934",
     "status": "completed"
    },
    "tags": []
   },
   "outputs": [],
   "source": [
    "#siab_train = siab_s[siab_s.year < 2015]\n",
    "siab_calib = siab[siab.year == 2015]\n",
    "siab_test = siab[siab.year == 2016]"
   ]
  },
  {
   "cell_type": "code",
   "execution_count": 15,
   "id": "2c1e4012",
   "metadata": {
    "execution": {
     "iopub.execute_input": "2025-08-19T18:42:26.078593Z",
     "iopub.status.busy": "2025-08-19T18:42:26.077604Z",
     "iopub.status.idle": "2025-08-19T18:42:26.082981Z",
     "shell.execute_reply": "2025-08-19T18:42:26.081995Z"
    },
    "papermill": {
     "duration": 0.018077,
     "end_time": "2025-08-19T18:42:26.084280",
     "exception": false,
     "start_time": "2025-08-19T18:42:26.066203",
     "status": "completed"
    },
    "tags": []
   },
   "outputs": [],
   "source": [
    "#siab_calib.shape"
   ]
  },
  {
   "cell_type": "code",
   "execution_count": 16,
   "id": "f66b54ca",
   "metadata": {
    "execution": {
     "iopub.execute_input": "2025-08-19T18:42:26.127546Z",
     "iopub.status.busy": "2025-08-19T18:42:26.127085Z",
     "iopub.status.idle": "2025-08-19T18:42:26.131848Z",
     "shell.execute_reply": "2025-08-19T18:42:26.130917Z"
    },
    "papermill": {
     "duration": 0.032723,
     "end_time": "2025-08-19T18:42:26.134079",
     "exception": false,
     "start_time": "2025-08-19T18:42:26.101356",
     "status": "completed"
    },
    "tags": []
   },
   "outputs": [],
   "source": [
    "#siab_test.shape"
   ]
  },
  {
   "cell_type": "code",
   "execution_count": 17,
   "id": "27e4384d",
   "metadata": {
    "execution": {
     "iopub.execute_input": "2025-08-19T18:42:26.155901Z",
     "iopub.status.busy": "2025-08-19T18:42:26.155547Z",
     "iopub.status.idle": "2025-08-19T18:42:26.162709Z",
     "shell.execute_reply": "2025-08-19T18:42:26.161922Z"
    },
    "papermill": {
     "duration": 0.019956,
     "end_time": "2025-08-19T18:42:26.164560",
     "exception": false,
     "start_time": "2025-08-19T18:42:26.144604",
     "status": "completed"
    },
    "tags": []
   },
   "outputs": [],
   "source": [
    "X_train = siab_train.iloc[:,4:164]\n",
    "y_train = siab_train.iloc[:, [3]]"
   ]
  },
  {
   "cell_type": "code",
   "execution_count": 18,
   "id": "08ee8389",
   "metadata": {
    "execution": {
     "iopub.execute_input": "2025-08-19T18:42:26.187645Z",
     "iopub.status.busy": "2025-08-19T18:42:26.187280Z",
     "iopub.status.idle": "2025-08-19T18:42:26.238062Z",
     "shell.execute_reply": "2025-08-19T18:42:26.236664Z"
    },
    "papermill": {
     "duration": 0.064038,
     "end_time": "2025-08-19T18:42:26.240290",
     "exception": false,
     "start_time": "2025-08-19T18:42:26.176252",
     "status": "completed"
    },
    "tags": []
   },
   "outputs": [],
   "source": [
    "X_calib = siab_calib.iloc[:,4:164]\n",
    "y_calib = siab_calib.iloc[:, [3]]"
   ]
  },
  {
   "cell_type": "code",
   "execution_count": 19,
   "id": "b7ff42e0",
   "metadata": {
    "execution": {
     "iopub.execute_input": "2025-08-19T18:42:26.263864Z",
     "iopub.status.busy": "2025-08-19T18:42:26.263456Z",
     "iopub.status.idle": "2025-08-19T18:42:26.317059Z",
     "shell.execute_reply": "2025-08-19T18:42:26.315726Z"
    },
    "papermill": {
     "duration": 0.067788,
     "end_time": "2025-08-19T18:42:26.319124",
     "exception": false,
     "start_time": "2025-08-19T18:42:26.251336",
     "status": "completed"
    },
    "tags": []
   },
   "outputs": [],
   "source": [
    "X_test = siab_test.iloc[:,4:164]\n",
    "y_true = siab_test.iloc[:, [3]]"
   ]
  },
  {
   "cell_type": "code",
   "execution_count": 20,
   "id": "0275101e",
   "metadata": {
    "execution": {
     "iopub.execute_input": "2025-08-19T18:42:26.341842Z",
     "iopub.status.busy": "2025-08-19T18:42:26.341449Z",
     "iopub.status.idle": "2025-08-19T18:42:26.444668Z",
     "shell.execute_reply": "2025-08-19T18:42:26.443945Z"
    },
    "papermill": {
     "duration": 0.116348,
     "end_time": "2025-08-19T18:42:26.446262",
     "exception": false,
     "start_time": "2025-08-19T18:42:26.329914",
     "status": "completed"
    },
    "tags": []
   },
   "outputs": [],
   "source": [
    "# Auxiliary data needed downstream in the pipeline\n",
    "\n",
    "org_train = X_train.copy()\n",
    "org_test = X_test.copy()\n",
    "org_calib = X_calib.copy()"
   ]
  },
  {
   "cell_type": "markdown",
   "id": "b461e618",
   "metadata": {
    "papermill": {
     "duration": 0.010483,
     "end_time": "2025-08-19T18:42:26.467886",
     "exception": false,
     "start_time": "2025-08-19T18:42:26.457403",
     "status": "completed"
    },
    "tags": []
   },
   "source": [
    "# Preprocessing Data"
   ]
  },
  {
   "cell_type": "code",
   "execution_count": 21,
   "id": "78e74c4b",
   "metadata": {
    "execution": {
     "iopub.execute_input": "2025-08-19T18:42:26.490082Z",
     "iopub.status.busy": "2025-08-19T18:42:26.489768Z",
     "iopub.status.idle": "2025-08-19T18:42:26.494613Z",
     "shell.execute_reply": "2025-08-19T18:42:26.493910Z"
    },
    "papermill": {
     "duration": 0.01765,
     "end_time": "2025-08-19T18:42:26.495974",
     "exception": false,
     "start_time": "2025-08-19T18:42:26.478324",
     "status": "completed"
    },
    "tags": []
   },
   "outputs": [],
   "source": [
    "# EXCLUDE PROTECTED FEATURES\n",
    "# --------------------------\n",
    "\n",
    "excluded_features = universe[\"exclude_features\"].split(\"-\")\n",
    "excluded_features_dictionary = {\n",
    "    \"nationality\": [\"maxdeutsch1\", \"maxdeutsch.Missing.\"],\n",
    "    \"sex\": [\"frau1\"],\n",
    "    \"age\": [\"age\"],\n",
    "}"
   ]
  },
  {
   "cell_type": "code",
   "execution_count": 22,
   "id": "f8e63555",
   "metadata": {
    "execution": {
     "iopub.execute_input": "2025-08-19T18:42:26.518648Z",
     "iopub.status.busy": "2025-08-19T18:42:26.518250Z",
     "iopub.status.idle": "2025-08-19T18:42:26.522787Z",
     "shell.execute_reply": "2025-08-19T18:42:26.522095Z"
    },
    "papermill": {
     "duration": 0.017424,
     "end_time": "2025-08-19T18:42:26.524151",
     "exception": false,
     "start_time": "2025-08-19T18:42:26.506727",
     "status": "completed"
    },
    "tags": []
   },
   "outputs": [],
   "source": [
    "excluded_features_columns = [\n",
    "    excluded_features_dictionary[f] for f in excluded_features if len(f) > 0 and f != \"none\"\n",
    "]"
   ]
  },
  {
   "cell_type": "code",
   "execution_count": 23,
   "id": "da781f7c",
   "metadata": {
    "execution": {
     "iopub.execute_input": "2025-08-19T18:42:26.546653Z",
     "iopub.status.busy": "2025-08-19T18:42:26.546262Z",
     "iopub.status.idle": "2025-08-19T18:42:26.551035Z",
     "shell.execute_reply": "2025-08-19T18:42:26.550317Z"
    },
    "papermill": {
     "duration": 0.019435,
     "end_time": "2025-08-19T18:42:26.554053",
     "exception": false,
     "start_time": "2025-08-19T18:42:26.534618",
     "status": "completed"
    },
    "tags": []
   },
   "outputs": [],
   "source": [
    "from fairness_multiverse.universe import flatten_once\n",
    "\n",
    "excluded_features_columns = flatten_once(excluded_features_columns)"
   ]
  },
  {
   "cell_type": "code",
   "execution_count": 24,
   "id": "37fef0f0",
   "metadata": {
    "execution": {
     "iopub.execute_input": "2025-08-19T18:42:26.593438Z",
     "iopub.status.busy": "2025-08-19T18:42:26.591744Z",
     "iopub.status.idle": "2025-08-19T18:42:26.610966Z",
     "shell.execute_reply": "2025-08-19T18:42:26.608508Z"
    },
    "papermill": {
     "duration": 0.034771,
     "end_time": "2025-08-19T18:42:26.612542",
     "exception": false,
     "start_time": "2025-08-19T18:42:26.577771",
     "status": "completed"
    },
    "tags": []
   },
   "outputs": [
    {
     "name": "stdout",
     "output_type": "stream",
     "text": [
      "Dropping features: ['frau1']\n"
     ]
    }
   ],
   "source": [
    "if len(excluded_features_columns) > 0:\n",
    "    print(f\"Dropping features: {excluded_features_columns}\")\n",
    "    X_train.drop(excluded_features_columns, axis=1, inplace=True)"
   ]
  },
  {
   "cell_type": "code",
   "execution_count": 25,
   "id": "d029e3e9",
   "metadata": {
    "execution": {
     "iopub.execute_input": "2025-08-19T18:42:26.642147Z",
     "iopub.status.busy": "2025-08-19T18:42:26.641431Z",
     "iopub.status.idle": "2025-08-19T18:42:26.698398Z",
     "shell.execute_reply": "2025-08-19T18:42:26.697649Z"
    },
    "papermill": {
     "duration": 0.072901,
     "end_time": "2025-08-19T18:42:26.700895",
     "exception": false,
     "start_time": "2025-08-19T18:42:26.627994",
     "status": "completed"
    },
    "tags": []
   },
   "outputs": [
    {
     "name": "stdout",
     "output_type": "stream",
     "text": [
      "Dropping features: ['frau1']\n"
     ]
    }
   ],
   "source": [
    "if len(excluded_features_columns) > 0:\n",
    "    print(f\"Dropping features: {excluded_features_columns}\")\n",
    "    X_test.drop(excluded_features_columns, axis=1, inplace=True)"
   ]
  },
  {
   "cell_type": "code",
   "execution_count": 26,
   "id": "01d571f0",
   "metadata": {
    "execution": {
     "iopub.execute_input": "2025-08-19T18:42:26.739211Z",
     "iopub.status.busy": "2025-08-19T18:42:26.738240Z",
     "iopub.status.idle": "2025-08-19T18:42:26.794397Z",
     "shell.execute_reply": "2025-08-19T18:42:26.793665Z"
    },
    "papermill": {
     "duration": 0.072611,
     "end_time": "2025-08-19T18:42:26.796949",
     "exception": false,
     "start_time": "2025-08-19T18:42:26.724338",
     "status": "completed"
    },
    "tags": []
   },
   "outputs": [
    {
     "name": "stdout",
     "output_type": "stream",
     "text": [
      "Dropping features: ['frau1']\n"
     ]
    }
   ],
   "source": [
    "if len(excluded_features_columns) > 0:\n",
    "    print(f\"Dropping features: {excluded_features_columns}\")\n",
    "    X_calib.drop(excluded_features_columns, axis=1, inplace=True)"
   ]
  },
  {
   "cell_type": "code",
   "execution_count": 27,
   "id": "3037356e",
   "metadata": {
    "execution": {
     "iopub.execute_input": "2025-08-19T18:42:26.834789Z",
     "iopub.status.busy": "2025-08-19T18:42:26.833715Z",
     "iopub.status.idle": "2025-08-19T18:42:26.841214Z",
     "shell.execute_reply": "2025-08-19T18:42:26.839921Z"
    },
    "papermill": {
     "duration": 0.022804,
     "end_time": "2025-08-19T18:42:26.842607",
     "exception": false,
     "start_time": "2025-08-19T18:42:26.819803",
     "status": "completed"
    },
    "tags": []
   },
   "outputs": [],
   "source": [
    "# EXCLUDE CERTAIN SUBGROUPS\n",
    "# -------------------------\n",
    "\n",
    "mode = universe.get(\"exclude_subgroups\", \"keep-all\") # Defaults to \"keep-all\" if the key is missing."
   ]
  },
  {
   "cell_type": "code",
   "execution_count": 28,
   "id": "9d1e63fd",
   "metadata": {
    "execution": {
     "iopub.execute_input": "2025-08-19T18:42:26.866672Z",
     "iopub.status.busy": "2025-08-19T18:42:26.865967Z",
     "iopub.status.idle": "2025-08-19T18:42:26.876838Z",
     "shell.execute_reply": "2025-08-19T18:42:26.875496Z"
    },
    "papermill": {
     "duration": 0.02471,
     "end_time": "2025-08-19T18:42:26.878513",
     "exception": false,
     "start_time": "2025-08-19T18:42:26.853803",
     "status": "completed"
    },
    "tags": []
   },
   "outputs": [],
   "source": [
    "if mode == \"keep-all\":\n",
    "    keep_mask = pd.Series(True, index=org_train.index)\n",
    "\n",
    "elif mode == \"drop-non-german\":\n",
    "    keep_mask = (org_train[\"maxdeutsch1\"] == 1) & (org_train[\"maxdeutsch.Missing.\"] == 0)\n",
    "\n",
    "else:\n",
    "    raise ValueError(f\"Unsupported mode for exclude_subgroups: {mode}\")"
   ]
  },
  {
   "cell_type": "code",
   "execution_count": 29,
   "id": "d3b65474",
   "metadata": {
    "execution": {
     "iopub.execute_input": "2025-08-19T18:42:26.904682Z",
     "iopub.status.busy": "2025-08-19T18:42:26.903554Z",
     "iopub.status.idle": "2025-08-19T18:42:26.913392Z",
     "shell.execute_reply": "2025-08-19T18:42:26.912167Z"
    },
    "papermill": {
     "duration": 0.023193,
     "end_time": "2025-08-19T18:42:26.914821",
     "exception": false,
     "start_time": "2025-08-19T18:42:26.891628",
     "status": "completed"
    },
    "tags": []
   },
   "outputs": [
    {
     "name": "stdout",
     "output_type": "stream",
     "text": [
      "Dropping 657 rows (13.14%) where mode='drop-non-german'\n"
     ]
    }
   ],
   "source": [
    "n_drop = (~keep_mask).sum() # Calculates how many rows are set to be dropped\n",
    "if n_drop > 0:\n",
    "    pct = n_drop / len(keep_mask) * 100\n",
    "    print(f\"Dropping {n_drop} rows ({pct:.2f}%) where mode='{mode}'\")"
   ]
  },
  {
   "cell_type": "code",
   "execution_count": 30,
   "id": "f44389b3",
   "metadata": {
    "execution": {
     "iopub.execute_input": "2025-08-19T18:42:26.939862Z",
     "iopub.status.busy": "2025-08-19T18:42:26.938824Z",
     "iopub.status.idle": "2025-08-19T18:42:26.949626Z",
     "shell.execute_reply": "2025-08-19T18:42:26.948388Z"
    },
    "papermill": {
     "duration": 0.024389,
     "end_time": "2025-08-19T18:42:26.951369",
     "exception": false,
     "start_time": "2025-08-19T18:42:26.926980",
     "status": "completed"
    },
    "tags": []
   },
   "outputs": [],
   "source": [
    "X_train = X_train[keep_mask]"
   ]
  },
  {
   "cell_type": "code",
   "execution_count": 31,
   "id": "ceca8c2a",
   "metadata": {
    "execution": {
     "iopub.execute_input": "2025-08-19T18:42:26.978125Z",
     "iopub.status.busy": "2025-08-19T18:42:26.977429Z",
     "iopub.status.idle": "2025-08-19T18:42:26.985962Z",
     "shell.execute_reply": "2025-08-19T18:42:26.984335Z"
    },
    "papermill": {
     "duration": 0.022462,
     "end_time": "2025-08-19T18:42:26.987375",
     "exception": false,
     "start_time": "2025-08-19T18:42:26.964913",
     "status": "completed"
    },
    "tags": []
   },
   "outputs": [],
   "source": [
    "y_train = y_train[keep_mask]"
   ]
  },
  {
   "cell_type": "markdown",
   "id": "04d31e2f",
   "metadata": {
    "papermill": {
     "duration": 0.010346,
     "end_time": "2025-08-19T18:42:27.011396",
     "exception": false,
     "start_time": "2025-08-19T18:42:27.001050",
     "status": "completed"
    },
    "tags": []
   },
   "source": [
    "# Model Training"
   ]
  },
  {
   "cell_type": "code",
   "execution_count": 32,
   "id": "db991733",
   "metadata": {
    "execution": {
     "iopub.execute_input": "2025-08-19T18:42:27.035275Z",
     "iopub.status.busy": "2025-08-19T18:42:27.034129Z",
     "iopub.status.idle": "2025-08-19T18:42:27.141907Z",
     "shell.execute_reply": "2025-08-19T18:42:27.141071Z"
    },
    "papermill": {
     "duration": 0.123132,
     "end_time": "2025-08-19T18:42:27.145331",
     "exception": false,
     "start_time": "2025-08-19T18:42:27.022199",
     "status": "completed"
    },
    "tags": []
   },
   "outputs": [],
   "source": [
    "from sklearn.linear_model import LogisticRegression\n",
    "from sklearn.ensemble import GradientBoostingClassifier, RandomForestClassifier\n",
    "\n",
    "if (universe[\"model\"] == \"logreg\"):\n",
    "    model = LogisticRegression() #penalty=\"none\", solver=\"newton-cg\", max_iter=1)\n",
    "elif (universe[\"model\"] == \"penalized_logreg\"):\n",
    "    model = LogisticRegression(penalty=\"l2\", C=0.1) #, solver=\"newton-cg\", max_iter=1)\n",
    "elif (universe[\"model\"] == \"rf\"):\n",
    "    model = RandomForestClassifier() # n_estimators=100, n_jobs=-1\n",
    "elif (universe[\"model\"] == \"gbm\"):\n",
    "    model = GradientBoostingClassifier()\n",
    "elif (universe[\"model\"] == \"elasticnet\"):\n",
    "    model = LogisticRegression(penalty = 'elasticnet', solver = 'saga', l1_ratio = 0.5) # max_iter=5000\n",
    "else:\n",
    "    raise \"Unsupported universe.model\""
   ]
  },
  {
   "cell_type": "code",
   "execution_count": 33,
   "id": "a4b5cd25",
   "metadata": {
    "execution": {
     "iopub.execute_input": "2025-08-19T18:42:27.186352Z",
     "iopub.status.busy": "2025-08-19T18:42:27.185636Z",
     "iopub.status.idle": "2025-08-19T18:42:27.195004Z",
     "shell.execute_reply": "2025-08-19T18:42:27.193741Z"
    },
    "papermill": {
     "duration": 0.024689,
     "end_time": "2025-08-19T18:42:27.196595",
     "exception": false,
     "start_time": "2025-08-19T18:42:27.171906",
     "status": "completed"
    },
    "tags": []
   },
   "outputs": [],
   "source": [
    "from sklearn.pipeline import Pipeline\n",
    "from sklearn.preprocessing import StandardScaler\n",
    "\n",
    "model = Pipeline([\n",
    "    #(\"continuous_processor\", continuous_processor),\n",
    "    #(\"categorical_preprocessor\", categorical_preprocessor),\n",
    "    (\"scale\", StandardScaler() if universe[\"scale\"] == \"scale\" else None), \n",
    "    (\"model\", model),\n",
    "])"
   ]
  },
  {
   "cell_type": "code",
   "execution_count": 34,
   "id": "283a904d",
   "metadata": {
    "execution": {
     "iopub.execute_input": "2025-08-19T18:42:27.224918Z",
     "iopub.status.busy": "2025-08-19T18:42:27.223091Z",
     "iopub.status.idle": "2025-08-19T18:42:28.373953Z",
     "shell.execute_reply": "2025-08-19T18:42:28.373265Z"
    },
    "papermill": {
     "duration": 1.16459,
     "end_time": "2025-08-19T18:42:28.375162",
     "exception": false,
     "start_time": "2025-08-19T18:42:27.210572",
     "status": "completed"
    },
    "tags": []
   },
   "outputs": [
    {
     "data": {
      "text/html": [
       "<style>#sk-container-id-1 {color: black;background-color: white;}#sk-container-id-1 pre{padding: 0;}#sk-container-id-1 div.sk-toggleable {background-color: white;}#sk-container-id-1 label.sk-toggleable__label {cursor: pointer;display: block;width: 100%;margin-bottom: 0;padding: 0.3em;box-sizing: border-box;text-align: center;}#sk-container-id-1 label.sk-toggleable__label-arrow:before {content: \"▸\";float: left;margin-right: 0.25em;color: #696969;}#sk-container-id-1 label.sk-toggleable__label-arrow:hover:before {color: black;}#sk-container-id-1 div.sk-estimator:hover label.sk-toggleable__label-arrow:before {color: black;}#sk-container-id-1 div.sk-toggleable__content {max-height: 0;max-width: 0;overflow: hidden;text-align: left;background-color: #f0f8ff;}#sk-container-id-1 div.sk-toggleable__content pre {margin: 0.2em;color: black;border-radius: 0.25em;background-color: #f0f8ff;}#sk-container-id-1 input.sk-toggleable__control:checked~div.sk-toggleable__content {max-height: 200px;max-width: 100%;overflow: auto;}#sk-container-id-1 input.sk-toggleable__control:checked~label.sk-toggleable__label-arrow:before {content: \"▾\";}#sk-container-id-1 div.sk-estimator input.sk-toggleable__control:checked~label.sk-toggleable__label {background-color: #d4ebff;}#sk-container-id-1 div.sk-label input.sk-toggleable__control:checked~label.sk-toggleable__label {background-color: #d4ebff;}#sk-container-id-1 input.sk-hidden--visually {border: 0;clip: rect(1px 1px 1px 1px);clip: rect(1px, 1px, 1px, 1px);height: 1px;margin: -1px;overflow: hidden;padding: 0;position: absolute;width: 1px;}#sk-container-id-1 div.sk-estimator {font-family: monospace;background-color: #f0f8ff;border: 1px dotted black;border-radius: 0.25em;box-sizing: border-box;margin-bottom: 0.5em;}#sk-container-id-1 div.sk-estimator:hover {background-color: #d4ebff;}#sk-container-id-1 div.sk-parallel-item::after {content: \"\";width: 100%;border-bottom: 1px solid gray;flex-grow: 1;}#sk-container-id-1 div.sk-label:hover label.sk-toggleable__label {background-color: #d4ebff;}#sk-container-id-1 div.sk-serial::before {content: \"\";position: absolute;border-left: 1px solid gray;box-sizing: border-box;top: 0;bottom: 0;left: 50%;z-index: 0;}#sk-container-id-1 div.sk-serial {display: flex;flex-direction: column;align-items: center;background-color: white;padding-right: 0.2em;padding-left: 0.2em;position: relative;}#sk-container-id-1 div.sk-item {position: relative;z-index: 1;}#sk-container-id-1 div.sk-parallel {display: flex;align-items: stretch;justify-content: center;background-color: white;position: relative;}#sk-container-id-1 div.sk-item::before, #sk-container-id-1 div.sk-parallel-item::before {content: \"\";position: absolute;border-left: 1px solid gray;box-sizing: border-box;top: 0;bottom: 0;left: 50%;z-index: -1;}#sk-container-id-1 div.sk-parallel-item {display: flex;flex-direction: column;z-index: 1;position: relative;background-color: white;}#sk-container-id-1 div.sk-parallel-item:first-child::after {align-self: flex-end;width: 50%;}#sk-container-id-1 div.sk-parallel-item:last-child::after {align-self: flex-start;width: 50%;}#sk-container-id-1 div.sk-parallel-item:only-child::after {width: 0;}#sk-container-id-1 div.sk-dashed-wrapped {border: 1px dashed gray;margin: 0 0.4em 0.5em 0.4em;box-sizing: border-box;padding-bottom: 0.4em;background-color: white;}#sk-container-id-1 div.sk-label label {font-family: monospace;font-weight: bold;display: inline-block;line-height: 1.2em;}#sk-container-id-1 div.sk-label-container {text-align: center;}#sk-container-id-1 div.sk-container {/* jupyter's `normalize.less` sets `[hidden] { display: none; }` but bootstrap.min.css set `[hidden] { display: none !important; }` so we also need the `!important` here to be able to override the default hidden behavior on the sphinx rendered scikit-learn.org. See: https://github.com/scikit-learn/scikit-learn/issues/21755 */display: inline-block !important;position: relative;}#sk-container-id-1 div.sk-text-repr-fallback {display: none;}</style><div id=\"sk-container-id-1\" class=\"sk-top-container\"><div class=\"sk-text-repr-fallback\"><pre>Pipeline(steps=[(&#x27;scale&#x27;, StandardScaler()),\n",
       "                (&#x27;model&#x27;, RandomForestClassifier())])</pre><b>In a Jupyter environment, please rerun this cell to show the HTML representation or trust the notebook. <br />On GitHub, the HTML representation is unable to render, please try loading this page with nbviewer.org.</b></div><div class=\"sk-container\" hidden><div class=\"sk-item sk-dashed-wrapped\"><div class=\"sk-label-container\"><div class=\"sk-label sk-toggleable\"><input class=\"sk-toggleable__control sk-hidden--visually\" id=\"sk-estimator-id-1\" type=\"checkbox\" ><label for=\"sk-estimator-id-1\" class=\"sk-toggleable__label sk-toggleable__label-arrow\">Pipeline</label><div class=\"sk-toggleable__content\"><pre>Pipeline(steps=[(&#x27;scale&#x27;, StandardScaler()),\n",
       "                (&#x27;model&#x27;, RandomForestClassifier())])</pre></div></div></div><div class=\"sk-serial\"><div class=\"sk-item\"><div class=\"sk-estimator sk-toggleable\"><input class=\"sk-toggleable__control sk-hidden--visually\" id=\"sk-estimator-id-2\" type=\"checkbox\" ><label for=\"sk-estimator-id-2\" class=\"sk-toggleable__label sk-toggleable__label-arrow\">StandardScaler</label><div class=\"sk-toggleable__content\"><pre>StandardScaler()</pre></div></div></div><div class=\"sk-item\"><div class=\"sk-estimator sk-toggleable\"><input class=\"sk-toggleable__control sk-hidden--visually\" id=\"sk-estimator-id-3\" type=\"checkbox\" ><label for=\"sk-estimator-id-3\" class=\"sk-toggleable__label sk-toggleable__label-arrow\">RandomForestClassifier</label><div class=\"sk-toggleable__content\"><pre>RandomForestClassifier()</pre></div></div></div></div></div></div></div>"
      ],
      "text/plain": [
       "Pipeline(steps=[('scale', StandardScaler()),\n",
       "                ('model', RandomForestClassifier())])"
      ]
     },
     "execution_count": 34,
     "metadata": {},
     "output_type": "execute_result"
    }
   ],
   "source": [
    "model.fit(X_train, y_train.values.ravel())"
   ]
  },
  {
   "cell_type": "code",
   "execution_count": 35,
   "id": "6e15e313",
   "metadata": {
    "execution": {
     "iopub.execute_input": "2025-08-19T18:42:28.408466Z",
     "iopub.status.busy": "2025-08-19T18:42:28.407798Z",
     "iopub.status.idle": "2025-08-19T18:42:30.184400Z",
     "shell.execute_reply": "2025-08-19T18:42:30.183309Z"
    },
    "papermill": {
     "duration": 1.790654,
     "end_time": "2025-08-19T18:42:30.185853",
     "exception": false,
     "start_time": "2025-08-19T18:42:28.395199",
     "status": "completed"
    },
    "tags": []
   },
   "outputs": [
    {
     "data": {
      "text/plain": [
       "0.8609519563036451"
      ]
     },
     "execution_count": 35,
     "metadata": {},
     "output_type": "execute_result"
    }
   ],
   "source": [
    "from fairness_multiverse.universe import predict_w_threshold\n",
    "\n",
    "probs_test = model.predict_proba(X_test)\n",
    "\n",
    "'''\n",
    "Below code returns a boolean array (or binary 0/1 array depending on how it’s used) where each element \n",
    "is True if the probability of class 1 is greater than or equal to the threshold, and False otherwise.\n",
    "'''\n",
    "y_pred_default = predict_w_threshold(probs_test, 0.5)\n",
    "\n",
    "from sklearn.metrics import accuracy_score\n",
    "\n",
    "# Naive prediction\n",
    "accuracy_score(y_true = y_true, y_pred = y_pred_default)"
   ]
  },
  {
   "cell_type": "code",
   "execution_count": 36,
   "id": "6f14067c",
   "metadata": {
    "execution": {
     "iopub.execute_input": "2025-08-19T18:42:30.211627Z",
     "iopub.status.busy": "2025-08-19T18:42:30.210436Z",
     "iopub.status.idle": "2025-08-19T18:42:31.969439Z",
     "shell.execute_reply": "2025-08-19T18:42:31.968276Z"
    },
    "papermill": {
     "duration": 1.773371,
     "end_time": "2025-08-19T18:42:31.970898",
     "exception": false,
     "start_time": "2025-08-19T18:42:30.197527",
     "status": "completed"
    },
    "tags": []
   },
   "outputs": [
    {
     "data": {
      "text/plain": [
       "array([0, 0, 0, ..., 0, 0, 0])"
      ]
     },
     "execution_count": 36,
     "metadata": {},
     "output_type": "execute_result"
    }
   ],
   "source": [
    "model.predict(X_test)"
   ]
  },
  {
   "cell_type": "markdown",
   "id": "3759920c",
   "metadata": {
    "papermill": {
     "duration": 0.011148,
     "end_time": "2025-08-19T18:42:31.993547",
     "exception": false,
     "start_time": "2025-08-19T18:42:31.982399",
     "status": "completed"
    },
    "tags": []
   },
   "source": [
    "# Conformal Prediction"
   ]
  },
  {
   "cell_type": "code",
   "execution_count": 37,
   "id": "14b27f59",
   "metadata": {
    "execution": {
     "iopub.execute_input": "2025-08-19T18:42:32.019521Z",
     "iopub.status.busy": "2025-08-19T18:42:32.018218Z",
     "iopub.status.idle": "2025-08-19T18:42:32.026617Z",
     "shell.execute_reply": "2025-08-19T18:42:32.025493Z"
    },
    "papermill": {
     "duration": 0.023203,
     "end_time": "2025-08-19T18:42:32.028017",
     "exception": false,
     "start_time": "2025-08-19T18:42:32.004814",
     "status": "completed"
    },
    "tags": []
   },
   "outputs": [],
   "source": [
    "# Miscoverage level for conformal prediction (10% allowed error rate => 90% target coverage)\n",
    "alpha = 0.1"
   ]
  },
  {
   "cell_type": "code",
   "execution_count": 38,
   "id": "59102472",
   "metadata": {
    "execution": {
     "iopub.execute_input": "2025-08-19T18:42:32.057206Z",
     "iopub.status.busy": "2025-08-19T18:42:32.054872Z",
     "iopub.status.idle": "2025-08-19T18:42:33.774506Z",
     "shell.execute_reply": "2025-08-19T18:42:33.773741Z"
    },
    "papermill": {
     "duration": 1.733944,
     "end_time": "2025-08-19T18:42:33.776060",
     "exception": false,
     "start_time": "2025-08-19T18:42:32.042116",
     "status": "completed"
    },
    "tags": []
   },
   "outputs": [],
   "source": [
    "probs_calib = model.predict_proba(X_calib)"
   ]
  },
  {
   "cell_type": "code",
   "execution_count": 39,
   "id": "a792d4dd",
   "metadata": {
    "execution": {
     "iopub.execute_input": "2025-08-19T18:42:33.804025Z",
     "iopub.status.busy": "2025-08-19T18:42:33.802994Z",
     "iopub.status.idle": "2025-08-19T18:42:33.810641Z",
     "shell.execute_reply": "2025-08-19T18:42:33.809542Z"
    },
    "papermill": {
     "duration": 0.021365,
     "end_time": "2025-08-19T18:42:33.811943",
     "exception": false,
     "start_time": "2025-08-19T18:42:33.790578",
     "status": "completed"
    },
    "tags": []
   },
   "outputs": [],
   "source": [
    "y_calib = y_calib.values.ravel().astype(int)"
   ]
  },
  {
   "cell_type": "code",
   "execution_count": 40,
   "id": "650fd033",
   "metadata": {
    "execution": {
     "iopub.execute_input": "2025-08-19T18:42:33.838561Z",
     "iopub.status.busy": "2025-08-19T18:42:33.837615Z",
     "iopub.status.idle": "2025-08-19T18:42:33.849809Z",
     "shell.execute_reply": "2025-08-19T18:42:33.848583Z"
    },
    "papermill": {
     "duration": 0.027014,
     "end_time": "2025-08-19T18:42:33.851406",
     "exception": false,
     "start_time": "2025-08-19T18:42:33.824392",
     "status": "completed"
    },
    "tags": []
   },
   "outputs": [],
   "source": [
    "from fairness_multiverse.conformal import compute_nc_scores\n",
    "\n",
    "# Compute nonconformity scores on calibration set (1 - probability of true class)\n",
    "nc_scores = compute_nc_scores(probs_calib, y_calib)"
   ]
  },
  {
   "cell_type": "code",
   "execution_count": 41,
   "id": "28ada44c",
   "metadata": {
    "execution": {
     "iopub.execute_input": "2025-08-19T18:42:33.881604Z",
     "iopub.status.busy": "2025-08-19T18:42:33.880385Z",
     "iopub.status.idle": "2025-08-19T18:42:33.890932Z",
     "shell.execute_reply": "2025-08-19T18:42:33.889706Z"
    },
    "papermill": {
     "duration": 0.025164,
     "end_time": "2025-08-19T18:42:33.892457",
     "exception": false,
     "start_time": "2025-08-19T18:42:33.867293",
     "status": "completed"
    },
    "tags": []
   },
   "outputs": [],
   "source": [
    "from fairness_multiverse.conformal import find_threshold\n",
    "\n",
    "# Find conformal threshold q_hat for the given alpha (split conformal method)\n",
    "q_hat = find_threshold(nc_scores, alpha)"
   ]
  },
  {
   "cell_type": "code",
   "execution_count": 42,
   "id": "df56469e",
   "metadata": {
    "execution": {
     "iopub.execute_input": "2025-08-19T18:42:33.923267Z",
     "iopub.status.busy": "2025-08-19T18:42:33.922146Z",
     "iopub.status.idle": "2025-08-19T18:42:33.931758Z",
     "shell.execute_reply": "2025-08-19T18:42:33.930513Z"
    },
    "papermill": {
     "duration": 0.024338,
     "end_time": "2025-08-19T18:42:33.933334",
     "exception": false,
     "start_time": "2025-08-19T18:42:33.908996",
     "status": "completed"
    },
    "tags": []
   },
   "outputs": [
    {
     "data": {
      "text/plain": [
       "0.6599999999999999"
      ]
     },
     "execution_count": 42,
     "metadata": {},
     "output_type": "execute_result"
    }
   ],
   "source": [
    "q_hat"
   ]
  },
  {
   "cell_type": "code",
   "execution_count": 43,
   "id": "aa1f5faa",
   "metadata": {
    "execution": {
     "iopub.execute_input": "2025-08-19T18:42:33.962643Z",
     "iopub.status.busy": "2025-08-19T18:42:33.961507Z",
     "iopub.status.idle": "2025-08-19T18:42:36.188728Z",
     "shell.execute_reply": "2025-08-19T18:42:36.185434Z"
    },
    "papermill": {
     "duration": 2.242071,
     "end_time": "2025-08-19T18:42:36.190783",
     "exception": false,
     "start_time": "2025-08-19T18:42:33.948712",
     "status": "completed"
    },
    "tags": []
   },
   "outputs": [],
   "source": [
    "from fairness_multiverse.conformal import predict_conformal_sets\n",
    "\n",
    "# Generate prediction sets for each test example\n",
    "pred_sets = predict_conformal_sets(model, X_test, q_hat)"
   ]
  },
  {
   "cell_type": "code",
   "execution_count": 44,
   "id": "97f67a6b",
   "metadata": {
    "execution": {
     "iopub.execute_input": "2025-08-19T18:42:36.216592Z",
     "iopub.status.busy": "2025-08-19T18:42:36.215711Z",
     "iopub.status.idle": "2025-08-19T18:42:36.224753Z",
     "shell.execute_reply": "2025-08-19T18:42:36.223282Z"
    },
    "papermill": {
     "duration": 0.024341,
     "end_time": "2025-08-19T18:42:36.226971",
     "exception": false,
     "start_time": "2025-08-19T18:42:36.202630",
     "status": "completed"
    },
    "tags": []
   },
   "outputs": [],
   "source": [
    "y_true = y_true.squeeze()"
   ]
  },
  {
   "cell_type": "code",
   "execution_count": 45,
   "id": "e700e9a7",
   "metadata": {
    "execution": {
     "iopub.execute_input": "2025-08-19T18:42:36.258226Z",
     "iopub.status.busy": "2025-08-19T18:42:36.256418Z",
     "iopub.status.idle": "2025-08-19T18:42:36.754844Z",
     "shell.execute_reply": "2025-08-19T18:42:36.754162Z"
    },
    "papermill": {
     "duration": 0.514684,
     "end_time": "2025-08-19T18:42:36.757745",
     "exception": false,
     "start_time": "2025-08-19T18:42:36.243061",
     "status": "completed"
    },
    "tags": []
   },
   "outputs": [],
   "source": [
    "from fairness_multiverse.conformal import evaluate_sets\n",
    "\n",
    "# Evaluate coverage and average set size on test data\n",
    "metrics = evaluate_sets(pred_sets, y_true)"
   ]
  },
  {
   "cell_type": "markdown",
   "id": "efbacec0",
   "metadata": {
    "papermill": {
     "duration": 0.013337,
     "end_time": "2025-08-19T18:42:36.797249",
     "exception": false,
     "start_time": "2025-08-19T18:42:36.783912",
     "status": "completed"
    },
    "tags": []
   },
   "source": [
    "# CP Metrics"
   ]
  },
  {
   "cell_type": "code",
   "execution_count": 46,
   "id": "9de55fb1",
   "metadata": {
    "execution": {
     "iopub.execute_input": "2025-08-19T18:42:36.823930Z",
     "iopub.status.busy": "2025-08-19T18:42:36.822581Z",
     "iopub.status.idle": "2025-08-19T18:42:36.834240Z",
     "shell.execute_reply": "2025-08-19T18:42:36.832684Z"
    },
    "papermill": {
     "duration": 0.026991,
     "end_time": "2025-08-19T18:42:36.835789",
     "exception": false,
     "start_time": "2025-08-19T18:42:36.808798",
     "status": "completed"
    },
    "tags": []
   },
   "outputs": [
    {
     "data": {
      "text/plain": [
       "{'coverage': 0.9131089064764241, 'avg_size': 1.1468398171887193}"
      ]
     },
     "execution_count": 46,
     "metadata": {},
     "output_type": "execute_result"
    }
   ],
   "source": [
    "metrics"
   ]
  },
  {
   "cell_type": "code",
   "execution_count": 47,
   "id": "64c340a1",
   "metadata": {
    "execution": {
     "iopub.execute_input": "2025-08-19T18:42:36.884335Z",
     "iopub.status.busy": "2025-08-19T18:42:36.883226Z",
     "iopub.status.idle": "2025-08-19T18:42:36.893696Z",
     "shell.execute_reply": "2025-08-19T18:42:36.892062Z"
    },
    "papermill": {
     "duration": 0.030633,
     "end_time": "2025-08-19T18:42:36.895279",
     "exception": false,
     "start_time": "2025-08-19T18:42:36.864646",
     "status": "completed"
    },
    "tags": []
   },
   "outputs": [],
   "source": [
    "example_universe = universe.copy()\n",
    "universe_training_year = example_universe.get(\"training_year\")\n",
    "universe_training_size = example_universe.get(\"training_size\")\n",
    "universe_scale = example_universe.get(\"scale\")\n",
    "universe_model = example_universe.get(\"model\")\n",
    "universe_exclude_features = example_universe.get(\"exclude_features\")\n",
    "universe_exclude_subgroups = example_universe.get(\"exclude_subgroups\")"
   ]
  },
  {
   "cell_type": "code",
   "execution_count": 48,
   "id": "dbb53cb4",
   "metadata": {
    "execution": {
     "iopub.execute_input": "2025-08-19T18:42:36.933987Z",
     "iopub.status.busy": "2025-08-19T18:42:36.932895Z",
     "iopub.status.idle": "2025-08-19T18:42:36.943829Z",
     "shell.execute_reply": "2025-08-19T18:42:36.942190Z"
    },
    "papermill": {
     "duration": 0.026864,
     "end_time": "2025-08-19T18:42:36.945534",
     "exception": false,
     "start_time": "2025-08-19T18:42:36.918670",
     "status": "completed"
    },
    "tags": []
   },
   "outputs": [],
   "source": [
    "cp_metrics_dict = {\n",
    "    \"universe_id\": [universe_id],\n",
    "    \"universe_training_year\": [universe_training_year],\n",
    "    \"universe_training_size\": [universe_training_size],\n",
    "    \"universe_scale\": [universe_scale],\n",
    "    \"universe_model\": [universe_model],\n",
    "    \"universe_exclude_features\": [universe_exclude_features],\n",
    "    \"universe_exclude_subgroups\": [universe_exclude_subgroups],\n",
    "    \"q_hat\": [q_hat],\n",
    "    \"coverage\": [metrics[\"coverage\"]],\n",
    "    \"avg_size\": [metrics[\"avg_size\"]],\n",
    "}"
   ]
  },
  {
   "cell_type": "code",
   "execution_count": 49,
   "id": "0d70d4b2",
   "metadata": {
    "execution": {
     "iopub.execute_input": "2025-08-19T18:42:36.978023Z",
     "iopub.status.busy": "2025-08-19T18:42:36.976912Z",
     "iopub.status.idle": "2025-08-19T18:42:36.986768Z",
     "shell.execute_reply": "2025-08-19T18:42:36.985241Z"
    },
    "papermill": {
     "duration": 0.030151,
     "end_time": "2025-08-19T18:42:36.988109",
     "exception": false,
     "start_time": "2025-08-19T18:42:36.957958",
     "status": "completed"
    },
    "tags": []
   },
   "outputs": [],
   "source": [
    "cp_metrics_df = pd.DataFrame(cp_metrics_dict)"
   ]
  },
  {
   "cell_type": "code",
   "execution_count": 50,
   "id": "b494403c",
   "metadata": {
    "execution": {
     "iopub.execute_input": "2025-08-19T18:42:37.025673Z",
     "iopub.status.busy": "2025-08-19T18:42:37.024567Z",
     "iopub.status.idle": "2025-08-19T18:42:37.053795Z",
     "shell.execute_reply": "2025-08-19T18:42:37.052649Z"
    },
    "papermill": {
     "duration": 0.048333,
     "end_time": "2025-08-19T18:42:37.055684",
     "exception": false,
     "start_time": "2025-08-19T18:42:37.007351",
     "status": "completed"
    },
    "tags": []
   },
   "outputs": [
    {
     "data": {
      "text/html": [
       "<div>\n",
       "<style scoped>\n",
       "    .dataframe tbody tr th:only-of-type {\n",
       "        vertical-align: middle;\n",
       "    }\n",
       "\n",
       "    .dataframe tbody tr th {\n",
       "        vertical-align: top;\n",
       "    }\n",
       "\n",
       "    .dataframe thead th {\n",
       "        text-align: right;\n",
       "    }\n",
       "</style>\n",
       "<table border=\"1\" class=\"dataframe\">\n",
       "  <thead>\n",
       "    <tr style=\"text-align: right;\">\n",
       "      <th></th>\n",
       "      <th>universe_id</th>\n",
       "      <th>universe_training_year</th>\n",
       "      <th>universe_training_size</th>\n",
       "      <th>universe_scale</th>\n",
       "      <th>universe_model</th>\n",
       "      <th>universe_exclude_features</th>\n",
       "      <th>universe_exclude_subgroups</th>\n",
       "      <th>q_hat</th>\n",
       "      <th>coverage</th>\n",
       "      <th>avg_size</th>\n",
       "    </tr>\n",
       "  </thead>\n",
       "  <tbody>\n",
       "    <tr>\n",
       "      <th>0</th>\n",
       "      <td>d9d31f3691c662ae24fa584160b023f1</td>\n",
       "      <td>2010_14</td>\n",
       "      <td>5k</td>\n",
       "      <td>scale</td>\n",
       "      <td>rf</td>\n",
       "      <td>sex</td>\n",
       "      <td>drop-non-german</td>\n",
       "      <td>0.66</td>\n",
       "      <td>0.913109</td>\n",
       "      <td>1.14684</td>\n",
       "    </tr>\n",
       "  </tbody>\n",
       "</table>\n",
       "</div>"
      ],
      "text/plain": [
       "                        universe_id universe_training_year  \\\n",
       "0  d9d31f3691c662ae24fa584160b023f1                2010_14   \n",
       "\n",
       "  universe_training_size universe_scale universe_model  \\\n",
       "0                     5k          scale             rf   \n",
       "\n",
       "  universe_exclude_features universe_exclude_subgroups  q_hat  coverage  \\\n",
       "0                       sex            drop-non-german   0.66  0.913109   \n",
       "\n",
       "   avg_size  \n",
       "0   1.14684  "
      ]
     },
     "execution_count": 50,
     "metadata": {},
     "output_type": "execute_result"
    }
   ],
   "source": [
    "cp_metrics_df"
   ]
  },
  {
   "cell_type": "markdown",
   "id": "ed608b0b",
   "metadata": {
    "papermill": {
     "duration": 0.011768,
     "end_time": "2025-08-19T18:42:37.083233",
     "exception": false,
     "start_time": "2025-08-19T18:42:37.071465",
     "status": "completed"
    },
    "tags": []
   },
   "source": [
    "Conditional coverage & looking at subgroups"
   ]
  },
  {
   "cell_type": "code",
   "execution_count": 51,
   "id": "8968c366",
   "metadata": {
    "execution": {
     "iopub.execute_input": "2025-08-19T18:42:37.109666Z",
     "iopub.status.busy": "2025-08-19T18:42:37.109290Z",
     "iopub.status.idle": "2025-08-19T18:42:37.368378Z",
     "shell.execute_reply": "2025-08-19T18:42:37.367441Z"
    },
    "papermill": {
     "duration": 0.275666,
     "end_time": "2025-08-19T18:42:37.371700",
     "exception": false,
     "start_time": "2025-08-19T18:42:37.096034",
     "status": "completed"
    },
    "tags": []
   },
   "outputs": [],
   "source": [
    "from fairness_multiverse.conformal import build_cp_groups\n",
    "\n",
    "cp_groups_df = build_cp_groups(pred_sets, y_true, X_test.index, org_test)"
   ]
  },
  {
   "cell_type": "code",
   "execution_count": 52,
   "id": "292ddabf",
   "metadata": {
    "execution": {
     "iopub.execute_input": "2025-08-19T18:42:37.414420Z",
     "iopub.status.busy": "2025-08-19T18:42:37.413572Z",
     "iopub.status.idle": "2025-08-19T18:42:38.300752Z",
     "shell.execute_reply": "2025-08-19T18:42:38.299567Z"
    },
    "papermill": {
     "duration": 0.907548,
     "end_time": "2025-08-19T18:42:38.305578",
     "exception": false,
     "start_time": "2025-08-19T18:42:37.398030",
     "status": "completed"
    },
    "tags": []
   },
   "outputs": [],
   "source": [
    "# Define covered = 1 if true_label is in the predicted set\n",
    "cp_groups_df['covered'] = cp_groups_df.apply(\n",
    "    lambda r: int(r['true_label'] in r['pred_set']),\n",
    "    axis=1\n",
    ")"
   ]
  },
  {
   "cell_type": "code",
   "execution_count": 53,
   "id": "3a261692",
   "metadata": {
    "execution": {
     "iopub.execute_input": "2025-08-19T18:42:38.342474Z",
     "iopub.status.busy": "2025-08-19T18:42:38.341162Z",
     "iopub.status.idle": "2025-08-19T18:42:38.364589Z",
     "shell.execute_reply": "2025-08-19T18:42:38.363673Z"
    },
    "papermill": {
     "duration": 0.048478,
     "end_time": "2025-08-19T18:42:38.367075",
     "exception": false,
     "start_time": "2025-08-19T18:42:38.318597",
     "status": "completed"
    },
    "tags": []
   },
   "outputs": [],
   "source": [
    "subgroups = ['frau1','nongerman','nongerman_male','nongerman_female']\n",
    "\n",
    "# Conditional coverage for subgroup==1\n",
    "cond_coverage = {\n",
    "    g: cp_groups_df.loc[cp_groups_df[g]==1, 'covered'].mean()\n",
    "    for g in subgroups\n",
    "}"
   ]
  },
  {
   "cell_type": "code",
   "execution_count": 54,
   "id": "894fd600",
   "metadata": {
    "execution": {
     "iopub.execute_input": "2025-08-19T18:42:38.406316Z",
     "iopub.status.busy": "2025-08-19T18:42:38.405262Z",
     "iopub.status.idle": "2025-08-19T18:42:38.418462Z",
     "shell.execute_reply": "2025-08-19T18:42:38.416835Z"
    },
    "papermill": {
     "duration": 0.049119,
     "end_time": "2025-08-19T18:42:38.437085",
     "exception": false,
     "start_time": "2025-08-19T18:42:38.387966",
     "status": "completed"
    },
    "tags": []
   },
   "outputs": [
    {
     "data": {
      "text/plain": [
       "{'frau1': 0.9116592532686346,\n",
       " 'nongerman': 0.9038342783360467,\n",
       " 'nongerman_male': 0.9177699720796181,\n",
       " 'nongerman_female': 0.8807749627421758}"
      ]
     },
     "execution_count": 54,
     "metadata": {},
     "output_type": "execute_result"
    }
   ],
   "source": [
    "cond_coverage"
   ]
  },
  {
   "cell_type": "code",
   "execution_count": 55,
   "id": "942895c7",
   "metadata": {
    "execution": {
     "iopub.execute_input": "2025-08-19T18:42:38.469025Z",
     "iopub.status.busy": "2025-08-19T18:42:38.467280Z",
     "iopub.status.idle": "2025-08-19T18:42:38.480724Z",
     "shell.execute_reply": "2025-08-19T18:42:38.478915Z"
    },
    "papermill": {
     "duration": 0.029846,
     "end_time": "2025-08-19T18:42:38.482609",
     "exception": false,
     "start_time": "2025-08-19T18:42:38.452763",
     "status": "completed"
    },
    "tags": []
   },
   "outputs": [],
   "source": [
    "for subgroup, cov in cond_coverage.items():\n",
    "    cp_metrics_df[f\"cov_{subgroup}\"] = cov"
   ]
  },
  {
   "cell_type": "code",
   "execution_count": 56,
   "id": "3970120f",
   "metadata": {
    "execution": {
     "iopub.execute_input": "2025-08-19T18:42:38.518521Z",
     "iopub.status.busy": "2025-08-19T18:42:38.517101Z",
     "iopub.status.idle": "2025-08-19T18:42:38.550651Z",
     "shell.execute_reply": "2025-08-19T18:42:38.549824Z"
    },
    "papermill": {
     "duration": 0.050933,
     "end_time": "2025-08-19T18:42:38.552995",
     "exception": false,
     "start_time": "2025-08-19T18:42:38.502062",
     "status": "completed"
    },
    "tags": []
   },
   "outputs": [
    {
     "data": {
      "text/html": [
       "<div>\n",
       "<style scoped>\n",
       "    .dataframe tbody tr th:only-of-type {\n",
       "        vertical-align: middle;\n",
       "    }\n",
       "\n",
       "    .dataframe tbody tr th {\n",
       "        vertical-align: top;\n",
       "    }\n",
       "\n",
       "    .dataframe thead th {\n",
       "        text-align: right;\n",
       "    }\n",
       "</style>\n",
       "<table border=\"1\" class=\"dataframe\">\n",
       "  <thead>\n",
       "    <tr style=\"text-align: right;\">\n",
       "      <th></th>\n",
       "      <th>universe_id</th>\n",
       "      <th>universe_training_year</th>\n",
       "      <th>universe_training_size</th>\n",
       "      <th>universe_scale</th>\n",
       "      <th>universe_model</th>\n",
       "      <th>universe_exclude_features</th>\n",
       "      <th>universe_exclude_subgroups</th>\n",
       "      <th>q_hat</th>\n",
       "      <th>coverage</th>\n",
       "      <th>avg_size</th>\n",
       "      <th>cov_frau1</th>\n",
       "      <th>cov_nongerman</th>\n",
       "      <th>cov_nongerman_male</th>\n",
       "      <th>cov_nongerman_female</th>\n",
       "    </tr>\n",
       "  </thead>\n",
       "  <tbody>\n",
       "    <tr>\n",
       "      <th>0</th>\n",
       "      <td>d9d31f3691c662ae24fa584160b023f1</td>\n",
       "      <td>2010_14</td>\n",
       "      <td>5k</td>\n",
       "      <td>scale</td>\n",
       "      <td>rf</td>\n",
       "      <td>sex</td>\n",
       "      <td>drop-non-german</td>\n",
       "      <td>0.66</td>\n",
       "      <td>0.913109</td>\n",
       "      <td>1.14684</td>\n",
       "      <td>0.911659</td>\n",
       "      <td>0.903834</td>\n",
       "      <td>0.91777</td>\n",
       "      <td>0.880775</td>\n",
       "    </tr>\n",
       "  </tbody>\n",
       "</table>\n",
       "</div>"
      ],
      "text/plain": [
       "                        universe_id universe_training_year  \\\n",
       "0  d9d31f3691c662ae24fa584160b023f1                2010_14   \n",
       "\n",
       "  universe_training_size universe_scale universe_model  \\\n",
       "0                     5k          scale             rf   \n",
       "\n",
       "  universe_exclude_features universe_exclude_subgroups  q_hat  coverage  \\\n",
       "0                       sex            drop-non-german   0.66  0.913109   \n",
       "\n",
       "   avg_size  cov_frau1  cov_nongerman  cov_nongerman_male  \\\n",
       "0   1.14684   0.911659       0.903834             0.91777   \n",
       "\n",
       "   cov_nongerman_female  \n",
       "0              0.880775  "
      ]
     },
     "execution_count": 56,
     "metadata": {},
     "output_type": "execute_result"
    }
   ],
   "source": [
    "cp_metrics_df"
   ]
  },
  {
   "cell_type": "markdown",
   "id": "3fc519cc",
   "metadata": {
    "papermill": {
     "duration": 0.013778,
     "end_time": "2025-08-19T18:42:38.591461",
     "exception": false,
     "start_time": "2025-08-19T18:42:38.577683",
     "status": "completed"
    },
    "tags": []
   },
   "source": [
    "# (Fairness) Metrics"
   ]
  },
  {
   "cell_type": "code",
   "execution_count": 57,
   "id": "a2e5e155",
   "metadata": {
    "execution": {
     "iopub.execute_input": "2025-08-19T18:42:38.620439Z",
     "iopub.status.busy": "2025-08-19T18:42:38.619079Z",
     "iopub.status.idle": "2025-08-19T18:42:38.649815Z",
     "shell.execute_reply": "2025-08-19T18:42:38.648990Z"
    },
    "papermill": {
     "duration": 0.047753,
     "end_time": "2025-08-19T18:42:38.652071",
     "exception": false,
     "start_time": "2025-08-19T18:42:38.604318",
     "status": "completed"
    },
    "tags": []
   },
   "outputs": [],
   "source": [
    "colname_to_bin = \"maxdeutsch1\"\n",
    "majority_value = org_train[colname_to_bin].mode()[0]\n",
    "\n",
    "org_test[\"majmin\"] = np.where(org_test[colname_to_bin] == majority_value, \"majority\", \"minority\")"
   ]
  },
  {
   "cell_type": "code",
   "execution_count": 58,
   "id": "17e3e4d5",
   "metadata": {
    "execution": {
     "iopub.execute_input": "2025-08-19T18:42:38.698930Z",
     "iopub.status.busy": "2025-08-19T18:42:38.697883Z",
     "iopub.status.idle": "2025-08-19T18:42:40.455641Z",
     "shell.execute_reply": "2025-08-19T18:42:40.454280Z"
    },
    "papermill": {
     "duration": 1.776323,
     "end_time": "2025-08-19T18:42:40.457399",
     "exception": false,
     "start_time": "2025-08-19T18:42:38.681076",
     "status": "completed"
    },
    "tags": []
   },
   "outputs": [],
   "source": [
    "example_universe = universe.copy()\n",
    "example_universe[\"cutoff\"] = example_universe[\"cutoff\"][0]\n",
    "example_universe[\"eval_fairness_grouping\"] = example_universe[\"eval_fairness_grouping\"][0]\n",
    "fairness_dict, metric_frame = universe_analysis.compute_metrics(\n",
    "    example_universe,\n",
    "    y_pred_prob=probs_test,\n",
    "    y_test=y_true,\n",
    "    org_test=org_test,\n",
    ")"
   ]
  },
  {
   "cell_type": "markdown",
   "id": "1fb7a0e9",
   "metadata": {
    "papermill": {
     "duration": 0.040212,
     "end_time": "2025-08-19T18:42:40.513619",
     "exception": false,
     "start_time": "2025-08-19T18:42:40.473407",
     "status": "completed"
    },
    "tags": []
   },
   "source": [
    "# Overall"
   ]
  },
  {
   "cell_type": "markdown",
   "id": "be1784b1",
   "metadata": {
    "papermill": {
     "duration": 0.02132,
     "end_time": "2025-08-19T18:42:40.549000",
     "exception": false,
     "start_time": "2025-08-19T18:42:40.527680",
     "status": "completed"
    },
    "tags": []
   },
   "source": [
    "Main fairness target: Equalized Odds. Seems to be a better fit than equal opportunity, since we're not only interested in Y = 1. Seems to be a better fit than demographic parity, since we also care about accuracy, not just equal distribution of preds.\n",
    "\n",
    "Pick column for computation of fairness metrics\n",
    "\n",
    "Performance\n",
    "Overall performance measures, most interesting in relation to the measures split by group below"
   ]
  },
  {
   "cell_type": "code",
   "execution_count": 59,
   "id": "b7672bee",
   "metadata": {
    "execution": {
     "iopub.execute_input": "2025-08-19T18:42:40.591815Z",
     "iopub.status.busy": "2025-08-19T18:42:40.591261Z",
     "iopub.status.idle": "2025-08-19T18:42:40.600312Z",
     "shell.execute_reply": "2025-08-19T18:42:40.599609Z"
    },
    "papermill": {
     "duration": 0.025993,
     "end_time": "2025-08-19T18:42:40.603102",
     "exception": false,
     "start_time": "2025-08-19T18:42:40.577109",
     "status": "completed"
    },
    "tags": []
   },
   "outputs": [
    {
     "data": {
      "text/plain": [
       "accuracy                   0.199298\n",
       "balanced accuracy          0.532916\n",
       "f1                         0.239280\n",
       "precision                  0.136245\n",
       "false positive rate        0.915833\n",
       "false negative rate        0.018335\n",
       "selection rate             0.924278\n",
       "count                  89710.000000\n",
       "dtype: float64"
      ]
     },
     "execution_count": 59,
     "metadata": {},
     "output_type": "execute_result"
    }
   ],
   "source": [
    "metric_frame.overall"
   ]
  },
  {
   "cell_type": "markdown",
   "id": "d93333c9",
   "metadata": {
    "papermill": {
     "duration": 0.018938,
     "end_time": "2025-08-19T18:42:40.640683",
     "exception": false,
     "start_time": "2025-08-19T18:42:40.621745",
     "status": "completed"
    },
    "tags": []
   },
   "source": [
    "By Group"
   ]
  },
  {
   "cell_type": "code",
   "execution_count": 60,
   "id": "52256966",
   "metadata": {
    "execution": {
     "iopub.execute_input": "2025-08-19T18:42:40.673552Z",
     "iopub.status.busy": "2025-08-19T18:42:40.672873Z",
     "iopub.status.idle": "2025-08-19T18:42:40.689473Z",
     "shell.execute_reply": "2025-08-19T18:42:40.688694Z"
    },
    "papermill": {
     "duration": 0.037148,
     "end_time": "2025-08-19T18:42:40.690745",
     "exception": false,
     "start_time": "2025-08-19T18:42:40.653597",
     "status": "completed"
    },
    "tags": []
   },
   "outputs": [
    {
     "data": {
      "text/html": [
       "<div>\n",
       "<style scoped>\n",
       "    .dataframe tbody tr th:only-of-type {\n",
       "        vertical-align: middle;\n",
       "    }\n",
       "\n",
       "    .dataframe tbody tr th {\n",
       "        vertical-align: top;\n",
       "    }\n",
       "\n",
       "    .dataframe thead th {\n",
       "        text-align: right;\n",
       "    }\n",
       "</style>\n",
       "<table border=\"1\" class=\"dataframe\">\n",
       "  <thead>\n",
       "    <tr style=\"text-align: right;\">\n",
       "      <th></th>\n",
       "      <th>accuracy</th>\n",
       "      <th>balanced accuracy</th>\n",
       "      <th>f1</th>\n",
       "      <th>precision</th>\n",
       "      <th>false positive rate</th>\n",
       "      <th>false negative rate</th>\n",
       "      <th>selection rate</th>\n",
       "      <th>count</th>\n",
       "    </tr>\n",
       "    <tr>\n",
       "      <th>majmin</th>\n",
       "      <th></th>\n",
       "      <th></th>\n",
       "      <th></th>\n",
       "      <th></th>\n",
       "      <th></th>\n",
       "      <th></th>\n",
       "      <th></th>\n",
       "      <th></th>\n",
       "    </tr>\n",
       "  </thead>\n",
       "  <tbody>\n",
       "    <tr>\n",
       "      <th>majority</th>\n",
       "      <td>0.198887</td>\n",
       "      <td>0.534375</td>\n",
       "      <td>0.246256</td>\n",
       "      <td>0.140609</td>\n",
       "      <td>0.921623</td>\n",
       "      <td>0.009628</td>\n",
       "      <td>0.930707</td>\n",
       "      <td>69170.0</td>\n",
       "    </tr>\n",
       "    <tr>\n",
       "      <th>minority</th>\n",
       "      <td>0.200682</td>\n",
       "      <td>0.525674</td>\n",
       "      <td>0.214750</td>\n",
       "      <td>0.121090</td>\n",
       "      <td>0.896709</td>\n",
       "      <td>0.051943</td>\n",
       "      <td>0.902629</td>\n",
       "      <td>20540.0</td>\n",
       "    </tr>\n",
       "  </tbody>\n",
       "</table>\n",
       "</div>"
      ],
      "text/plain": [
       "          accuracy  balanced accuracy        f1  precision  \\\n",
       "majmin                                                       \n",
       "majority  0.198887           0.534375  0.246256   0.140609   \n",
       "minority  0.200682           0.525674  0.214750   0.121090   \n",
       "\n",
       "          false positive rate  false negative rate  selection rate    count  \n",
       "majmin                                                                       \n",
       "majority             0.921623             0.009628        0.930707  69170.0  \n",
       "minority             0.896709             0.051943        0.902629  20540.0  "
      ]
     },
     "execution_count": 60,
     "metadata": {},
     "output_type": "execute_result"
    }
   ],
   "source": [
    "metric_frame.by_group"
   ]
  },
  {
   "cell_type": "code",
   "execution_count": 61,
   "id": "6e6c20ae",
   "metadata": {
    "execution": {
     "iopub.execute_input": "2025-08-19T18:42:40.723066Z",
     "iopub.status.busy": "2025-08-19T18:42:40.722580Z",
     "iopub.status.idle": "2025-08-19T18:42:42.578300Z",
     "shell.execute_reply": "2025-08-19T18:42:42.577440Z"
    },
    "papermill": {
     "duration": 1.872228,
     "end_time": "2025-08-19T18:42:42.579939",
     "exception": false,
     "start_time": "2025-08-19T18:42:40.707711",
     "status": "completed"
    },
    "tags": []
   },
   "outputs": [
    {
     "data": {
      "text/plain": [
       "array([[<Axes: title={'center': 'accuracy'}, xlabel='majmin'>,\n",
       "        <Axes: title={'center': 'balanced accuracy'}, xlabel='majmin'>,\n",
       "        <Axes: title={'center': 'f1'}, xlabel='majmin'>],\n",
       "       [<Axes: title={'center': 'precision'}, xlabel='majmin'>,\n",
       "        <Axes: title={'center': 'false positive rate'}, xlabel='majmin'>,\n",
       "        <Axes: title={'center': 'false negative rate'}, xlabel='majmin'>],\n",
       "       [<Axes: title={'center': 'selection rate'}, xlabel='majmin'>,\n",
       "        <Axes: title={'center': 'count'}, xlabel='majmin'>,\n",
       "        <Axes: xlabel='majmin'>]], dtype=object)"
      ]
     },
     "execution_count": 61,
     "metadata": {},
     "output_type": "execute_result"
    },
    {
     "data": {
      "image/png": "[encoded data removed]",
      "text/plain": [
       "<Figure size 1200x800 with 9 Axes>"
      ]
     },
     "metadata": {},
     "output_type": "display_data"
    }
   ],
   "source": [
    "# In a graphic\n",
    "metric_frame.by_group.plot.bar(\n",
    "    subplots=True,\n",
    "    layout=[3, 3],\n",
    "    legend=False,\n",
    "    figsize=[12, 8],\n",
    "    title=\"Show all metrics\",\n",
    ")"
   ]
  },
  {
   "cell_type": "markdown",
   "id": "b2e433ae",
   "metadata": {
    "papermill": {
     "duration": 0.014266,
     "end_time": "2025-08-19T18:42:42.620387",
     "exception": false,
     "start_time": "2025-08-19T18:42:42.606121",
     "status": "completed"
    },
    "tags": []
   },
   "source": [
    "# Final Output"
   ]
  },
  {
   "cell_type": "code",
   "execution_count": 62,
   "id": "3871301e",
   "metadata": {
    "execution": {
     "iopub.execute_input": "2025-08-19T18:42:42.656329Z",
     "iopub.status.busy": "2025-08-19T18:42:42.653772Z",
     "iopub.status.idle": "2025-08-19T18:42:42.672460Z",
     "shell.execute_reply": "2025-08-19T18:42:42.671293Z"
    },
    "papermill": {
     "duration": 0.039527,
     "end_time": "2025-08-19T18:42:42.673976",
     "exception": false,
     "start_time": "2025-08-19T18:42:42.634449",
     "status": "completed"
    },
    "tags": []
   },
   "outputs": [
    {
     "data": {
      "text/plain": [
       "4"
      ]
     },
     "execution_count": 62,
     "metadata": {},
     "output_type": "execute_result"
    }
   ],
   "source": [
    "sub_universes = universe_analysis.generate_sub_universes()\n",
    "len(sub_universes)"
   ]
  },
  {
   "cell_type": "code",
   "execution_count": 63,
   "id": "d9cfdaca",
   "metadata": {
    "execution": {
     "iopub.execute_input": "2025-08-19T18:42:42.714776Z",
     "iopub.status.busy": "2025-08-19T18:42:42.714194Z",
     "iopub.status.idle": "2025-08-19T18:42:42.724188Z",
     "shell.execute_reply": "2025-08-19T18:42:42.723434Z"
    },
    "papermill": {
     "duration": 0.027249,
     "end_time": "2025-08-19T18:42:42.725872",
     "exception": false,
     "start_time": "2025-08-19T18:42:42.698623",
     "status": "completed"
    },
    "tags": []
   },
   "outputs": [],
   "source": [
    "def filter_sub_universe_data(sub_universe, org_test):\n",
    "    # Keep all rows — no filtering\n",
    "    keep_rows_mask = np.ones(org_test.shape[0], dtype=bool)\n",
    "\n",
    "    print(f\"[INFO] Keeping all rows: {keep_rows_mask.sum()} rows retained.\")\n",
    "    return keep_rows_mask"
   ]
  },
  {
   "cell_type": "code",
   "execution_count": 64,
   "id": "2bc31ac1",
   "metadata": {
    "execution": {
     "iopub.execute_input": "2025-08-19T18:42:42.759283Z",
     "iopub.status.busy": "2025-08-19T18:42:42.758558Z",
     "iopub.status.idle": "2025-08-19T18:42:49.429696Z",
     "shell.execute_reply": "2025-08-19T18:42:49.428596Z"
    },
    "papermill": {
     "duration": 6.688504,
     "end_time": "2025-08-19T18:42:49.431089",
     "exception": false,
     "start_time": "2025-08-19T18:42:42.742585",
     "status": "completed"
    },
    "tags": []
   },
   "outputs": [
    {
     "name": "stdout",
     "output_type": "stream",
     "text": [
      "Stopping execution_time clock.\n",
      "[INFO] Keeping all rows: 89710 rows retained.\n"
     ]
    },
    {
     "name": "stdout",
     "output_type": "stream",
     "text": [
      "[INFO] Keeping all rows: 89710 rows retained.\n"
     ]
    },
    {
     "name": "stdout",
     "output_type": "stream",
     "text": [
      "[INFO] Keeping all rows: 89710 rows retained.\n"
     ]
    },
    {
     "name": "stdout",
     "output_type": "stream",
     "text": [
      "[INFO] Keeping all rows: 89710 rows retained.\n"
     ]
    },
    {
     "data": {
      "text/html": [
       "<div>\n",
       "<style scoped>\n",
       "    .dataframe tbody tr th:only-of-type {\n",
       "        vertical-align: middle;\n",
       "    }\n",
       "\n",
       "    .dataframe tbody tr th {\n",
       "        vertical-align: top;\n",
       "    }\n",
       "\n",
       "    .dataframe thead th {\n",
       "        text-align: right;\n",
       "    }\n",
       "</style>\n",
       "<table border=\"1\" class=\"dataframe\">\n",
       "  <thead>\n",
       "    <tr style=\"text-align: right;\">\n",
       "      <th></th>\n",
       "      <th>run_no</th>\n",
       "      <th>universe_id</th>\n",
       "      <th>universe_settings</th>\n",
       "      <th>execution_time</th>\n",
       "      <th>test_size_n</th>\n",
       "      <th>test_size_frac</th>\n",
       "      <th>fair_main_equalized_odds_difference</th>\n",
       "      <th>fair_main_equalized_odds_ratio</th>\n",
       "      <th>fair_main_demographic_parity_difference</th>\n",
       "      <th>fair_main_demographic_parity_ratio</th>\n",
       "      <th>...</th>\n",
       "      <th>perf_grp_precision_0</th>\n",
       "      <th>perf_grp_precision_1</th>\n",
       "      <th>perf_grp_false positive rate_0</th>\n",
       "      <th>perf_grp_false positive rate_1</th>\n",
       "      <th>perf_grp_false negative rate_0</th>\n",
       "      <th>perf_grp_false negative rate_1</th>\n",
       "      <th>perf_grp_selection rate_0</th>\n",
       "      <th>perf_grp_selection rate_1</th>\n",
       "      <th>perf_grp_count_0</th>\n",
       "      <th>perf_grp_count_1</th>\n",
       "    </tr>\n",
       "  </thead>\n",
       "  <tbody>\n",
       "    <tr>\n",
       "      <th>0</th>\n",
       "      <td>3</td>\n",
       "      <td>d9d31f3691c662ae24fa584160b023f1</td>\n",
       "      <td>{\"cutoff\": \"quantile_0.1\", \"eval_fairness_grou...</td>\n",
       "      <td>28.723142</td>\n",
       "      <td>89710</td>\n",
       "      <td>1.0</td>\n",
       "      <td>0.042315</td>\n",
       "      <td>0.957274</td>\n",
       "      <td>0.028078</td>\n",
       "      <td>0.969832</td>\n",
       "      <td>...</td>\n",
       "      <td>NaN</td>\n",
       "      <td>NaN</td>\n",
       "      <td>NaN</td>\n",
       "      <td>NaN</td>\n",
       "      <td>NaN</td>\n",
       "      <td>NaN</td>\n",
       "      <td>NaN</td>\n",
       "      <td>NaN</td>\n",
       "      <td>NaN</td>\n",
       "      <td>NaN</td>\n",
       "    </tr>\n",
       "    <tr>\n",
       "      <th>0</th>\n",
       "      <td>3</td>\n",
       "      <td>d9d31f3691c662ae24fa584160b023f1</td>\n",
       "      <td>{\"cutoff\": \"quantile_0.1\", \"eval_fairness_grou...</td>\n",
       "      <td>28.723142</td>\n",
       "      <td>89710</td>\n",
       "      <td>1.0</td>\n",
       "      <td>0.042315</td>\n",
       "      <td>0.957274</td>\n",
       "      <td>0.028078</td>\n",
       "      <td>0.969832</td>\n",
       "      <td>...</td>\n",
       "      <td>0.121090</td>\n",
       "      <td>0.140609</td>\n",
       "      <td>0.896709</td>\n",
       "      <td>0.921623</td>\n",
       "      <td>0.051943</td>\n",
       "      <td>0.009628</td>\n",
       "      <td>0.902629</td>\n",
       "      <td>0.930707</td>\n",
       "      <td>20540.0</td>\n",
       "      <td>69170.0</td>\n",
       "    </tr>\n",
       "    <tr>\n",
       "      <th>0</th>\n",
       "      <td>3</td>\n",
       "      <td>d9d31f3691c662ae24fa584160b023f1</td>\n",
       "      <td>{\"cutoff\": \"quantile_0.25\", \"eval_fairness_gro...</td>\n",
       "      <td>28.723142</td>\n",
       "      <td>89710</td>\n",
       "      <td>1.0</td>\n",
       "      <td>0.105403</td>\n",
       "      <td>0.889393</td>\n",
       "      <td>0.044855</td>\n",
       "      <td>0.942386</td>\n",
       "      <td>...</td>\n",
       "      <td>NaN</td>\n",
       "      <td>NaN</td>\n",
       "      <td>NaN</td>\n",
       "      <td>NaN</td>\n",
       "      <td>NaN</td>\n",
       "      <td>NaN</td>\n",
       "      <td>NaN</td>\n",
       "      <td>NaN</td>\n",
       "      <td>NaN</td>\n",
       "      <td>NaN</td>\n",
       "    </tr>\n",
       "    <tr>\n",
       "      <th>0</th>\n",
       "      <td>3</td>\n",
       "      <td>d9d31f3691c662ae24fa584160b023f1</td>\n",
       "      <td>{\"cutoff\": \"quantile_0.25\", \"eval_fairness_gro...</td>\n",
       "      <td>28.723142</td>\n",
       "      <td>89710</td>\n",
       "      <td>1.0</td>\n",
       "      <td>0.105403</td>\n",
       "      <td>0.889393</td>\n",
       "      <td>0.044855</td>\n",
       "      <td>0.942386</td>\n",
       "      <td>...</td>\n",
       "      <td>0.133179</td>\n",
       "      <td>0.161740</td>\n",
       "      <td>0.718853</td>\n",
       "      <td>0.751991</td>\n",
       "      <td>0.152449</td>\n",
       "      <td>0.047046</td>\n",
       "      <td>0.733690</td>\n",
       "      <td>0.778546</td>\n",
       "      <td>20540.0</td>\n",
       "      <td>69170.0</td>\n",
       "    </tr>\n",
       "  </tbody>\n",
       "</table>\n",
       "<p>4 rows × 50 columns</p>\n",
       "</div>"
      ],
      "text/plain": [
       "  run_no                       universe_id  \\\n",
       "0      3  d9d31f3691c662ae24fa584160b023f1   \n",
       "0      3  d9d31f3691c662ae24fa584160b023f1   \n",
       "0      3  d9d31f3691c662ae24fa584160b023f1   \n",
       "0      3  d9d31f3691c662ae24fa584160b023f1   \n",
       "\n",
       "                                   universe_settings  execution_time  \\\n",
       "0  {\"cutoff\": \"quantile_0.1\", \"eval_fairness_grou...       28.723142   \n",
       "0  {\"cutoff\": \"quantile_0.1\", \"eval_fairness_grou...       28.723142   \n",
       "0  {\"cutoff\": \"quantile_0.25\", \"eval_fairness_gro...       28.723142   \n",
       "0  {\"cutoff\": \"quantile_0.25\", \"eval_fairness_gro...       28.723142   \n",
       "\n",
       "   test_size_n  test_size_frac  fair_main_equalized_odds_difference  \\\n",
       "0        89710             1.0                             0.042315   \n",
       "0        89710             1.0                             0.042315   \n",
       "0        89710             1.0                             0.105403   \n",
       "0        89710             1.0                             0.105403   \n",
       "\n",
       "   fair_main_equalized_odds_ratio  fair_main_demographic_parity_difference  \\\n",
       "0                        0.957274                                 0.028078   \n",
       "0                        0.957274                                 0.028078   \n",
       "0                        0.889393                                 0.044855   \n",
       "0                        0.889393                                 0.044855   \n",
       "\n",
       "   fair_main_demographic_parity_ratio  ...  perf_grp_precision_0  \\\n",
       "0                            0.969832  ...                   NaN   \n",
       "0                            0.969832  ...              0.121090   \n",
       "0                            0.942386  ...                   NaN   \n",
       "0                            0.942386  ...              0.133179   \n",
       "\n",
       "   perf_grp_precision_1  perf_grp_false positive rate_0  \\\n",
       "0                   NaN                             NaN   \n",
       "0              0.140609                        0.896709   \n",
       "0                   NaN                             NaN   \n",
       "0              0.161740                        0.718853   \n",
       "\n",
       "   perf_grp_false positive rate_1  perf_grp_false negative rate_0  \\\n",
       "0                             NaN                             NaN   \n",
       "0                        0.921623                        0.051943   \n",
       "0                             NaN                             NaN   \n",
       "0                        0.751991                        0.152449   \n",
       "\n",
       "   perf_grp_false negative rate_1  perf_grp_selection rate_0  \\\n",
       "0                             NaN                        NaN   \n",
       "0                        0.009628                   0.902629   \n",
       "0                             NaN                        NaN   \n",
       "0                        0.047046                   0.733690   \n",
       "\n",
       "   perf_grp_selection rate_1  perf_grp_count_0  perf_grp_count_1  \n",
       "0                        NaN               NaN               NaN  \n",
       "0                   0.930707           20540.0           69170.0  \n",
       "0                        NaN               NaN               NaN  \n",
       "0                   0.778546           20540.0           69170.0  \n",
       "\n",
       "[4 rows x 50 columns]"
      ]
     },
     "execution_count": 64,
     "metadata": {},
     "output_type": "execute_result"
    }
   ],
   "source": [
    "final_output = universe_analysis.generate_final_output(\n",
    "    y_pred_prob=probs_test,\n",
    "    y_test=y_true,\n",
    "    org_test=org_test,\n",
    "    filter_data=filter_sub_universe_data,\n",
    "    cp_metrics_df=cp_metrics_df,\n",
    "    save=True,\n",
    ")\n",
    "final_output"
   ]
  },
  {
   "cell_type": "code",
   "execution_count": null,
   "id": "8b80a1ff",
   "metadata": {
    "papermill": {
     "duration": 0.014682,
     "end_time": "2025-08-19T18:42:49.465614",
     "exception": false,
     "start_time": "2025-08-19T18:42:49.450932",
     "status": "completed"
    },
    "tags": []
   },
   "outputs": [],
   "source": []
  },
  {
   "cell_type": "code",
   "execution_count": null,
   "id": "275c9fad",
   "metadata": {
    "papermill": {
     "duration": 0.014805,
     "end_time": "2025-08-19T18:42:49.495845",
     "exception": false,
     "start_time": "2025-08-19T18:42:49.481040",
     "status": "completed"
    },
    "tags": []
   },
   "outputs": [],
   "source": []
  }
 ],
 "metadata": {
  "celltoolbar": "Tags",
  "kernelspec": {
   "display_name": "Python (CMA Fairness)",
   "language": "python",
   "name": "cma_fair_env"
  },
  "language_info": {
   "codemirror_mode": {
    "name": "ipython",
    "version": 3
   },
   "file_extension": ".py",
   "mimetype": "text/x-python",
   "name": "python",
   "nbconvert_exporter": "python",
   "pygments_lexer": "ipython3",
   "version": "3.10.12"
  },
  "papermill": {
   "default_parameters": {},
   "duration": 39.675297,
   "end_time": "2025-08-19T18:42:50.654281",
   "environment_variables": {},
   "exception": null,
   "input_path": "universe_analysis.ipynb",
   "output_path": "output/runs/3/notebooks/m_3-d9d31f3691c662ae24fa584160b023f1.ipynb",
   "parameters": {
    "output_dir": "output",
    "run_no": "3",
    "seed": "2023",
    "universe": "{\"cutoff\": [\"quantile_0.1\", \"quantile_0.25\"], \"eval_fairness_grouping\": [\"majority-minority\", \"nationality-all\"], \"exclude_features\": \"sex\", \"exclude_subgroups\": \"drop-non-german\", \"model\": \"rf\", \"scale\": \"scale\", \"training_size\": \"5k\", \"training_year\": \"2010_14\"}",
    "universe_id": "d9d31f3691c662ae24fa584160b023f1"
   },
   "start_time": "2025-08-19T18:42:10.978984",
   "version": "2.6.0"
  }
 },
 "nbformat": 4,
 "nbformat_minor": 5
}