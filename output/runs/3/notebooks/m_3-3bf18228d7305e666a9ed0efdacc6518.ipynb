{
 "cells": [
  {
   "cell_type": "markdown",
   "id": "ef23dbb3",
   "metadata": {
    "papermill": {
     "duration": 0.00929,
     "end_time": "2025-08-19T18:09:21.824605",
     "exception": false,
     "start_time": "2025-08-19T18:09:21.815315",
     "status": "completed"
    },
    "tags": []
   },
   "source": [
    "# Setup"
   ]
  },
  {
   "cell_type": "code",
   "execution_count": 1,
   "id": "0bc8e7dc",
   "metadata": {
    "execution": {
     "iopub.execute_input": "2025-08-19T18:09:21.866890Z",
     "iopub.status.busy": "2025-08-19T18:09:21.866299Z",
     "iopub.status.idle": "2025-08-19T18:09:21.876559Z",
     "shell.execute_reply": "2025-08-19T18:09:21.875949Z"
    },
    "papermill": {
     "duration": 0.036658,
     "end_time": "2025-08-19T18:09:21.877574",
     "exception": false,
     "start_time": "2025-08-19T18:09:21.840916",
     "status": "completed"
    },
    "tags": []
   },
   "outputs": [
    {
     "name": "stdout",
     "output_type": "stream",
     "text": [
      "/dss/dsshome1/0C/ra93lal2/cma/CMA_Fairness_v2\n"
     ]
    },
    {
     "name": "stderr",
     "output_type": "stream",
     "text": [
      "/dss/dsshome1/0C/ra93lal2/.local/share/virtualenvs/CMA_Fairness_v2-3j10GkSs/lib/python3.10/site-packages/IPython/core/magics/osm.py:393: UserWarning: This is now an optional IPython functionality, using bookmarks requires you to install the `pickleshare` library.\n",
      "  bkms = self.shell.db.get('bookmarks', {})\n",
      "/dss/dsshome1/0C/ra93lal2/.local/share/virtualenvs/CMA_Fairness_v2-3j10GkSs/lib/python3.10/site-packages/IPython/core/magics/osm.py:417: UserWarning: This is now an optional IPython functionality, setting dhist requires you to install the `pickleshare` library.\n",
      "  self.shell.db['dhist'] = compress_dhist(dhist)[-100:]\n"
     ]
    }
   ],
   "source": [
    "%cd ~/cma/CMA_Fairness_v2"
   ]
  },
  {
   "cell_type": "markdown",
   "id": "9d235661",
   "metadata": {
    "papermill": {
     "duration": 0.008601,
     "end_time": "2025-08-19T18:09:21.895310",
     "exception": false,
     "start_time": "2025-08-19T18:09:21.886709",
     "status": "completed"
    },
    "tags": []
   },
   "source": [
    "The following cell holds the definition of our parameters, these values can be overriden by rendering the with e.g. the following command:\n",
    "\n",
    "papermill -p alpha 0.2 -p ratio 0.3 universe_analysis.ipynb output/test_run.ipynb"
   ]
  },
  {
   "cell_type": "code",
   "execution_count": 2,
   "id": "4a789d8e",
   "metadata": {
    "execution": {
     "iopub.execute_input": "2025-08-19T18:09:21.913577Z",
     "iopub.status.busy": "2025-08-19T18:09:21.913283Z",
     "iopub.status.idle": "2025-08-19T18:09:21.917603Z",
     "shell.execute_reply": "2025-08-19T18:09:21.917029Z"
    },
    "papermill": {
     "duration": 0.01484,
     "end_time": "2025-08-19T18:09:21.918687",
     "exception": false,
     "start_time": "2025-08-19T18:09:21.903847",
     "status": "completed"
    },
    "tags": []
   },
   "outputs": [
    {
     "name": "stdout",
     "output_type": "stream",
     "text": [
      "Current working directory: /dss/dsshome1/0C/ra93lal2/cma/CMA_Fairness_v2\n"
     ]
    }
   ],
   "source": [
    "import os\n",
    "print(\"Current working directory:\", os.getcwd())"
   ]
  },
  {
   "cell_type": "code",
   "execution_count": 3,
   "id": "4132aaed",
   "metadata": {
    "execution": {
     "iopub.execute_input": "2025-08-19T18:09:21.937469Z",
     "iopub.status.busy": "2025-08-19T18:09:21.936906Z",
     "iopub.status.idle": "2025-08-19T18:09:21.943798Z",
     "shell.execute_reply": "2025-08-19T18:09:21.942833Z"
    },
    "papermill": {
     "duration": 0.017504,
     "end_time": "2025-08-19T18:09:21.944955",
     "exception": false,
     "start_time": "2025-08-19T18:09:21.927451",
     "status": "completed"
    },
    "tags": [
     "parameters"
    ]
   },
   "outputs": [],
   "source": [
    "run_no = 0\n",
    "universe_id = \"test\"\n",
    "universe = {\n",
    "    \"training_size\": \"5k\", # \"25k\", \"5k\", \"1k\"\n",
    "    \"training_year\": \"2012_14\", # \"2014\", \"2012_14\", \"2010_14\"\n",
    "    \"scale\": \"scale\", # \"scale\", \"do-not-scale\",\n",
    "    \"model\": \"elasticnet\", # \"logreg\", \"penalized_logreg\", \"rf\", \"gbm\", \"elasticnet\"\n",
    "    \"cutoff\": [\"quantile_0.15\", \"quantile_0.30\"],\n",
    "    \"exclude_features\": \"age\", # \"none\", \"nationality\", \"sex\", \"nationality-sex\", \"age\"\n",
    "    \"exclude_subgroups\": \"drop-non-german\", # \"keep-all\", \"drop-non-german\"\n",
    "    \"eval_fairness_grouping\": [\"majority-minority\", \"nationality-all\"]\n",
    "}\n",
    "\n",
    "output_dir=\"./output\"\n",
    "seed=0"
   ]
  },
  {
   "cell_type": "code",
   "execution_count": 4,
   "id": "0012bdc9",
   "metadata": {
    "execution": {
     "iopub.execute_input": "2025-08-19T18:09:21.967020Z",
     "iopub.status.busy": "2025-08-19T18:09:21.966579Z",
     "iopub.status.idle": "2025-08-19T18:09:21.974687Z",
     "shell.execute_reply": "2025-08-19T18:09:21.973265Z"
    },
    "papermill": {
     "duration": 0.02027,
     "end_time": "2025-08-19T18:09:21.976183",
     "exception": false,
     "start_time": "2025-08-19T18:09:21.955913",
     "status": "completed"
    },
    "tags": [
     "injected-parameters"
    ]
   },
   "outputs": [],
   "source": [
    "# Parameters\n",
    "universe_id = \"3bf18228d7305e666a9ed0efdacc6518\"\n",
    "run_no = \"3\"\n",
    "universe = \"{\\\"cutoff\\\": [\\\"quantile_0.1\\\", \\\"quantile_0.25\\\"], \\\"eval_fairness_grouping\\\": [\\\"majority-minority\\\", \\\"nationality-all\\\"], \\\"exclude_features\\\": \\\"none\\\", \\\"exclude_subgroups\\\": \\\"drop-non-german\\\", \\\"model\\\": \\\"rf\\\", \\\"scale\\\": \\\"do-not-scale\\\", \\\"training_size\\\": \\\"25k\\\", \\\"training_year\\\": \\\"2012_14\\\"}\"\n",
    "output_dir = \"output\"\n",
    "seed = \"2023\"\n"
   ]
  },
  {
   "cell_type": "code",
   "execution_count": 5,
   "id": "a5d7941f",
   "metadata": {
    "execution": {
     "iopub.execute_input": "2025-08-19T18:09:21.999651Z",
     "iopub.status.busy": "2025-08-19T18:09:21.998929Z",
     "iopub.status.idle": "2025-08-19T18:09:22.005924Z",
     "shell.execute_reply": "2025-08-19T18:09:22.005135Z"
    },
    "papermill": {
     "duration": 0.019489,
     "end_time": "2025-08-19T18:09:22.007350",
     "exception": false,
     "start_time": "2025-08-19T18:09:21.987861",
     "status": "completed"
    },
    "tags": []
   },
   "outputs": [],
   "source": [
    "import json\n",
    "if isinstance(universe, str):\n",
    "    universe = json.loads(universe)"
   ]
  },
  {
   "cell_type": "code",
   "execution_count": 6,
   "id": "7076ccb1",
   "metadata": {
    "execution": {
     "iopub.execute_input": "2025-08-19T18:09:22.029926Z",
     "iopub.status.busy": "2025-08-19T18:09:22.029619Z",
     "iopub.status.idle": "2025-08-19T18:09:22.064564Z",
     "shell.execute_reply": "2025-08-19T18:09:22.063829Z"
    },
    "papermill": {
     "duration": 0.048025,
     "end_time": "2025-08-19T18:09:22.067411",
     "exception": false,
     "start_time": "2025-08-19T18:09:22.019386",
     "status": "completed"
    },
    "tags": []
   },
   "outputs": [],
   "source": [
    "# Auto-reload the custom package\n",
    "%load_ext autoreload\n",
    "%autoreload 1\n",
    "%aimport fairness_multiverse"
   ]
  },
  {
   "cell_type": "code",
   "execution_count": 7,
   "id": "94c8eb93",
   "metadata": {
    "execution": {
     "iopub.execute_input": "2025-08-19T18:09:22.096720Z",
     "iopub.status.busy": "2025-08-19T18:09:22.096396Z",
     "iopub.status.idle": "2025-08-19T18:09:23.595476Z",
     "shell.execute_reply": "2025-08-19T18:09:23.594235Z"
    },
    "papermill": {
     "duration": 1.511739,
     "end_time": "2025-08-19T18:09:23.597293",
     "exception": false,
     "start_time": "2025-08-19T18:09:22.085554",
     "status": "completed"
    },
    "tags": []
   },
   "outputs": [],
   "source": [
    "from fairness_multiverse.universe import UniverseAnalysis\n",
    "\n",
    "universe_analysis = UniverseAnalysis(\n",
    "    run_no = run_no,\n",
    "    universe_id = universe_id,\n",
    "    universe = universe,\n",
    "    output_dir=output_dir,\n",
    ")"
   ]
  },
  {
   "cell_type": "code",
   "execution_count": 8,
   "id": "2a6381cf",
   "metadata": {
    "execution": {
     "iopub.execute_input": "2025-08-19T18:09:23.625427Z",
     "iopub.status.busy": "2025-08-19T18:09:23.624536Z",
     "iopub.status.idle": "2025-08-19T18:09:23.637678Z",
     "shell.execute_reply": "2025-08-19T18:09:23.636735Z"
    },
    "papermill": {
     "duration": 0.032394,
     "end_time": "2025-08-19T18:09:23.639164",
     "exception": false,
     "start_time": "2025-08-19T18:09:23.606770",
     "status": "completed"
    },
    "tags": []
   },
   "outputs": [
    {
     "name": "stdout",
     "output_type": "stream",
     "text": [
      "Using Seed: 2023\n"
     ]
    }
   ],
   "source": [
    "import numpy as np\n",
    "parsed_seed = int(seed)\n",
    "np.random.seed(parsed_seed)\n",
    "print(f\"Using Seed: {parsed_seed}\")"
   ]
  },
  {
   "cell_type": "markdown",
   "id": "b6e958b4",
   "metadata": {
    "papermill": {
     "duration": 0.010203,
     "end_time": "2025-08-19T18:09:23.664089",
     "exception": false,
     "start_time": "2025-08-19T18:09:23.653886",
     "status": "completed"
    },
    "tags": []
   },
   "source": [
    "# Loading Data"
   ]
  },
  {
   "cell_type": "code",
   "execution_count": 9,
   "id": "98701482",
   "metadata": {
    "execution": {
     "iopub.execute_input": "2025-08-19T18:09:23.685959Z",
     "iopub.status.busy": "2025-08-19T18:09:23.684429Z",
     "iopub.status.idle": "2025-08-19T18:09:34.481551Z",
     "shell.execute_reply": "2025-08-19T18:09:34.480454Z"
    },
    "papermill": {
     "duration": 10.81035,
     "end_time": "2025-08-19T18:09:34.483670",
     "exception": false,
     "start_time": "2025-08-19T18:09:23.673320",
     "status": "completed"
    },
    "tags": []
   },
   "outputs": [
    {
     "name": "stdout",
     "output_type": "stream",
     "text": [
      "Loading SIAB data from cache: data/siab_cached.csv.gz\n"
     ]
    },
    {
     "name": "stdout",
     "output_type": "stream",
     "text": [
      "(643690, 164)\n"
     ]
    }
   ],
   "source": [
    "from pathlib import Path\n",
    "import pandas as pd\n",
    "\n",
    "# File paths\n",
    "raw_file = Path(\"data/raw/siab.csv\")\n",
    "cache_file = Path(\"data/siab_cached.csv.gz\")\n",
    "\n",
    "# Ensure cache directory exists\n",
    "cache_file.parent.mkdir(parents=True, exist_ok=True)\n",
    "\n",
    "# Load with simple caching\n",
    "if cache_file.exists():\n",
    "    print(f\"Loading SIAB data from cache: {cache_file}\")\n",
    "    siab = pd.read_csv(cache_file, compression='gzip')\n",
    "else:\n",
    "    print(f\"Cache not found. Reading raw SIAB data: {raw_file}\")\n",
    "    siab = pd.read_csv(raw_file)\n",
    "    siab.to_csv(cache_file, index=False, compression='gzip')\n",
    "    print(f\"Cached SIAB data to: {cache_file}\")\n",
    "\n",
    "print(siab.shape)"
   ]
  },
  {
   "cell_type": "code",
   "execution_count": 10,
   "id": "058d2abb",
   "metadata": {
    "execution": {
     "iopub.execute_input": "2025-08-19T18:09:34.507354Z",
     "iopub.status.busy": "2025-08-19T18:09:34.506968Z",
     "iopub.status.idle": "2025-08-19T18:09:34.764797Z",
     "shell.execute_reply": "2025-08-19T18:09:34.764031Z"
    },
    "papermill": {
     "duration": 0.271033,
     "end_time": "2025-08-19T18:09:34.766897",
     "exception": false,
     "start_time": "2025-08-19T18:09:34.495864",
     "status": "completed"
    },
    "tags": []
   },
   "outputs": [
    {
     "data": {
      "text/html": [
       "<div>\n",
       "<style scoped>\n",
       "    .dataframe tbody tr th:only-of-type {\n",
       "        vertical-align: middle;\n",
       "    }\n",
       "\n",
       "    .dataframe tbody tr th {\n",
       "        vertical-align: top;\n",
       "    }\n",
       "\n",
       "    .dataframe thead th {\n",
       "        text-align: right;\n",
       "    }\n",
       "</style>\n",
       "<table border=\"1\" class=\"dataframe\">\n",
       "  <thead>\n",
       "    <tr style=\"text-align: right;\">\n",
       "      <th></th>\n",
       "      <th>persnr</th>\n",
       "      <th>year</th>\n",
       "      <th>nrEntry</th>\n",
       "      <th>ltue</th>\n",
       "      <th>employed_before</th>\n",
       "      <th>receipt_leh_before</th>\n",
       "      <th>receipt_lhg_before</th>\n",
       "      <th>se_before</th>\n",
       "      <th>ASU_notue_seeking_before</th>\n",
       "      <th>ASU_other_before</th>\n",
       "      <th>...</th>\n",
       "      <th>minijob_tot_dur_byage</th>\n",
       "      <th>ft_tot_dur_byage</th>\n",
       "      <th>befrist_tot_dur_byage</th>\n",
       "      <th>leih_tot_dur_byage</th>\n",
       "      <th>LHG_tot_dur_byage</th>\n",
       "      <th>LEH_tot_dur_byage</th>\n",
       "      <th>almp_tot_dur_byage</th>\n",
       "      <th>almp_aw_tot_dur_byage</th>\n",
       "      <th>se_tot_dur_byage</th>\n",
       "      <th>seeking1_tot_dur_byage</th>\n",
       "    </tr>\n",
       "  </thead>\n",
       "  <tbody>\n",
       "    <tr>\n",
       "      <th>0</th>\n",
       "      <td>7</td>\n",
       "      <td>2015</td>\n",
       "      <td>1</td>\n",
       "      <td>0</td>\n",
       "      <td>1</td>\n",
       "      <td>0</td>\n",
       "      <td>0</td>\n",
       "      <td>0</td>\n",
       "      <td>1</td>\n",
       "      <td>0</td>\n",
       "      <td>...</td>\n",
       "      <td>0.000000</td>\n",
       "      <td>0.000000</td>\n",
       "      <td>15.043478</td>\n",
       "      <td>0.000000</td>\n",
       "      <td>0.000000</td>\n",
       "      <td>0.000000</td>\n",
       "      <td>0.000000</td>\n",
       "      <td>0.000000</td>\n",
       "      <td>0.000000</td>\n",
       "      <td>0.000000</td>\n",
       "    </tr>\n",
       "    <tr>\n",
       "      <th>1</th>\n",
       "      <td>18</td>\n",
       "      <td>2010</td>\n",
       "      <td>1</td>\n",
       "      <td>1</td>\n",
       "      <td>0</td>\n",
       "      <td>0</td>\n",
       "      <td>0</td>\n",
       "      <td>0</td>\n",
       "      <td>0</td>\n",
       "      <td>0</td>\n",
       "      <td>...</td>\n",
       "      <td>0.000000</td>\n",
       "      <td>0.000000</td>\n",
       "      <td>0.000000</td>\n",
       "      <td>0.000000</td>\n",
       "      <td>0.000000</td>\n",
       "      <td>0.000000</td>\n",
       "      <td>0.000000</td>\n",
       "      <td>0.000000</td>\n",
       "      <td>0.000000</td>\n",
       "      <td>0.000000</td>\n",
       "    </tr>\n",
       "    <tr>\n",
       "      <th>2</th>\n",
       "      <td>18</td>\n",
       "      <td>2011</td>\n",
       "      <td>2</td>\n",
       "      <td>0</td>\n",
       "      <td>1</td>\n",
       "      <td>0</td>\n",
       "      <td>1</td>\n",
       "      <td>0</td>\n",
       "      <td>1</td>\n",
       "      <td>0</td>\n",
       "      <td>...</td>\n",
       "      <td>2.714286</td>\n",
       "      <td>2.714286</td>\n",
       "      <td>0.000000</td>\n",
       "      <td>0.000000</td>\n",
       "      <td>10.775510</td>\n",
       "      <td>0.000000</td>\n",
       "      <td>8.367347</td>\n",
       "      <td>0.000000</td>\n",
       "      <td>0.000000</td>\n",
       "      <td>9.836735</td>\n",
       "    </tr>\n",
       "    <tr>\n",
       "      <th>3</th>\n",
       "      <td>18</td>\n",
       "      <td>2012</td>\n",
       "      <td>3</td>\n",
       "      <td>0</td>\n",
       "      <td>1</td>\n",
       "      <td>0</td>\n",
       "      <td>1</td>\n",
       "      <td>0</td>\n",
       "      <td>1</td>\n",
       "      <td>0</td>\n",
       "      <td>...</td>\n",
       "      <td>4.200000</td>\n",
       "      <td>4.200000</td>\n",
       "      <td>0.000000</td>\n",
       "      <td>0.000000</td>\n",
       "      <td>12.100000</td>\n",
       "      <td>0.000000</td>\n",
       "      <td>9.400000</td>\n",
       "      <td>0.000000</td>\n",
       "      <td>0.000000</td>\n",
       "      <td>9.960000</td>\n",
       "    </tr>\n",
       "    <tr>\n",
       "      <th>4</th>\n",
       "      <td>18</td>\n",
       "      <td>2012</td>\n",
       "      <td>4</td>\n",
       "      <td>0</td>\n",
       "      <td>1</td>\n",
       "      <td>0</td>\n",
       "      <td>1</td>\n",
       "      <td>0</td>\n",
       "      <td>1</td>\n",
       "      <td>0</td>\n",
       "      <td>...</td>\n",
       "      <td>5.460000</td>\n",
       "      <td>5.460000</td>\n",
       "      <td>0.000000</td>\n",
       "      <td>0.000000</td>\n",
       "      <td>13.360000</td>\n",
       "      <td>0.000000</td>\n",
       "      <td>10.320000</td>\n",
       "      <td>0.000000</td>\n",
       "      <td>0.000000</td>\n",
       "      <td>10.280000</td>\n",
       "    </tr>\n",
       "    <tr>\n",
       "      <th>...</th>\n",
       "      <td>...</td>\n",
       "      <td>...</td>\n",
       "      <td>...</td>\n",
       "      <td>...</td>\n",
       "      <td>...</td>\n",
       "      <td>...</td>\n",
       "      <td>...</td>\n",
       "      <td>...</td>\n",
       "      <td>...</td>\n",
       "      <td>...</td>\n",
       "      <td>...</td>\n",
       "      <td>...</td>\n",
       "      <td>...</td>\n",
       "      <td>...</td>\n",
       "      <td>...</td>\n",
       "      <td>...</td>\n",
       "      <td>...</td>\n",
       "      <td>...</td>\n",
       "      <td>...</td>\n",
       "      <td>...</td>\n",
       "      <td>...</td>\n",
       "    </tr>\n",
       "    <tr>\n",
       "      <th>643685</th>\n",
       "      <td>1827860</td>\n",
       "      <td>2013</td>\n",
       "      <td>1</td>\n",
       "      <td>0</td>\n",
       "      <td>0</td>\n",
       "      <td>0</td>\n",
       "      <td>1</td>\n",
       "      <td>0</td>\n",
       "      <td>0</td>\n",
       "      <td>1</td>\n",
       "      <td>...</td>\n",
       "      <td>0.000000</td>\n",
       "      <td>0.000000</td>\n",
       "      <td>0.000000</td>\n",
       "      <td>0.000000</td>\n",
       "      <td>0.612903</td>\n",
       "      <td>0.000000</td>\n",
       "      <td>0.000000</td>\n",
       "      <td>0.000000</td>\n",
       "      <td>0.000000</td>\n",
       "      <td>0.000000</td>\n",
       "    </tr>\n",
       "    <tr>\n",
       "      <th>643686</th>\n",
       "      <td>1827860</td>\n",
       "      <td>2015</td>\n",
       "      <td>2</td>\n",
       "      <td>1</td>\n",
       "      <td>0</td>\n",
       "      <td>0</td>\n",
       "      <td>1</td>\n",
       "      <td>0</td>\n",
       "      <td>1</td>\n",
       "      <td>0</td>\n",
       "      <td>...</td>\n",
       "      <td>0.000000</td>\n",
       "      <td>0.000000</td>\n",
       "      <td>0.212121</td>\n",
       "      <td>0.212121</td>\n",
       "      <td>17.363636</td>\n",
       "      <td>0.000000</td>\n",
       "      <td>8.909091</td>\n",
       "      <td>0.000000</td>\n",
       "      <td>0.000000</td>\n",
       "      <td>7.121212</td>\n",
       "    </tr>\n",
       "    <tr>\n",
       "      <th>643687</th>\n",
       "      <td>1827860</td>\n",
       "      <td>2016</td>\n",
       "      <td>3</td>\n",
       "      <td>1</td>\n",
       "      <td>0</td>\n",
       "      <td>0</td>\n",
       "      <td>1</td>\n",
       "      <td>1</td>\n",
       "      <td>0</td>\n",
       "      <td>1</td>\n",
       "      <td>...</td>\n",
       "      <td>0.000000</td>\n",
       "      <td>0.000000</td>\n",
       "      <td>0.294118</td>\n",
       "      <td>0.205882</td>\n",
       "      <td>34.705882</td>\n",
       "      <td>0.000000</td>\n",
       "      <td>10.352941</td>\n",
       "      <td>1.705882</td>\n",
       "      <td>1.705882</td>\n",
       "      <td>23.911765</td>\n",
       "    </tr>\n",
       "    <tr>\n",
       "      <th>643688</th>\n",
       "      <td>1827869</td>\n",
       "      <td>2013</td>\n",
       "      <td>1</td>\n",
       "      <td>1</td>\n",
       "      <td>1</td>\n",
       "      <td>0</td>\n",
       "      <td>0</td>\n",
       "      <td>0</td>\n",
       "      <td>1</td>\n",
       "      <td>0</td>\n",
       "      <td>...</td>\n",
       "      <td>0.000000</td>\n",
       "      <td>0.000000</td>\n",
       "      <td>0.000000</td>\n",
       "      <td>0.000000</td>\n",
       "      <td>0.000000</td>\n",
       "      <td>0.525424</td>\n",
       "      <td>0.000000</td>\n",
       "      <td>0.000000</td>\n",
       "      <td>0.000000</td>\n",
       "      <td>0.000000</td>\n",
       "    </tr>\n",
       "    <tr>\n",
       "      <th>643689</th>\n",
       "      <td>1827869</td>\n",
       "      <td>2014</td>\n",
       "      <td>2</td>\n",
       "      <td>0</td>\n",
       "      <td>0</td>\n",
       "      <td>1</td>\n",
       "      <td>0</td>\n",
       "      <td>0</td>\n",
       "      <td>1</td>\n",
       "      <td>0</td>\n",
       "      <td>...</td>\n",
       "      <td>0.000000</td>\n",
       "      <td>0.666667</td>\n",
       "      <td>0.666667</td>\n",
       "      <td>0.000000</td>\n",
       "      <td>0.000000</td>\n",
       "      <td>8.950000</td>\n",
       "      <td>1.033333</td>\n",
       "      <td>0.083333</td>\n",
       "      <td>0.083333</td>\n",
       "      <td>8.133333</td>\n",
       "    </tr>\n",
       "  </tbody>\n",
       "</table>\n",
       "<p>643690 rows × 164 columns</p>\n",
       "</div>"
      ],
      "text/plain": [
       "         persnr  year  nrEntry  ltue  employed_before  receipt_leh_before  \\\n",
       "0             7  2015        1     0                1                   0   \n",
       "1            18  2010        1     1                0                   0   \n",
       "2            18  2011        2     0                1                   0   \n",
       "3            18  2012        3     0                1                   0   \n",
       "4            18  2012        4     0                1                   0   \n",
       "...         ...   ...      ...   ...              ...                 ...   \n",
       "643685  1827860  2013        1     0                0                   0   \n",
       "643686  1827860  2015        2     1                0                   0   \n",
       "643687  1827860  2016        3     1                0                   0   \n",
       "643688  1827869  2013        1     1                1                   0   \n",
       "643689  1827869  2014        2     0                0                   1   \n",
       "\n",
       "        receipt_lhg_before  se_before  ASU_notue_seeking_before  \\\n",
       "0                        0          0                         1   \n",
       "1                        0          0                         0   \n",
       "2                        1          0                         1   \n",
       "3                        1          0                         1   \n",
       "4                        1          0                         1   \n",
       "...                    ...        ...                       ...   \n",
       "643685                   1          0                         0   \n",
       "643686                   1          0                         1   \n",
       "643687                   1          1                         0   \n",
       "643688                   0          0                         1   \n",
       "643689                   0          0                         1   \n",
       "\n",
       "        ASU_other_before  ...  minijob_tot_dur_byage  ft_tot_dur_byage  \\\n",
       "0                      0  ...               0.000000          0.000000   \n",
       "1                      0  ...               0.000000          0.000000   \n",
       "2                      0  ...               2.714286          2.714286   \n",
       "3                      0  ...               4.200000          4.200000   \n",
       "4                      0  ...               5.460000          5.460000   \n",
       "...                  ...  ...                    ...               ...   \n",
       "643685                 1  ...               0.000000          0.000000   \n",
       "643686                 0  ...               0.000000          0.000000   \n",
       "643687                 1  ...               0.000000          0.000000   \n",
       "643688                 0  ...               0.000000          0.000000   \n",
       "643689                 0  ...               0.000000          0.666667   \n",
       "\n",
       "        befrist_tot_dur_byage  leih_tot_dur_byage  LHG_tot_dur_byage  \\\n",
       "0                   15.043478            0.000000           0.000000   \n",
       "1                    0.000000            0.000000           0.000000   \n",
       "2                    0.000000            0.000000          10.775510   \n",
       "3                    0.000000            0.000000          12.100000   \n",
       "4                    0.000000            0.000000          13.360000   \n",
       "...                       ...                 ...                ...   \n",
       "643685               0.000000            0.000000           0.612903   \n",
       "643686               0.212121            0.212121          17.363636   \n",
       "643687               0.294118            0.205882          34.705882   \n",
       "643688               0.000000            0.000000           0.000000   \n",
       "643689               0.666667            0.000000           0.000000   \n",
       "\n",
       "        LEH_tot_dur_byage  almp_tot_dur_byage  almp_aw_tot_dur_byage  \\\n",
       "0                0.000000            0.000000               0.000000   \n",
       "1                0.000000            0.000000               0.000000   \n",
       "2                0.000000            8.367347               0.000000   \n",
       "3                0.000000            9.400000               0.000000   \n",
       "4                0.000000           10.320000               0.000000   \n",
       "...                   ...                 ...                    ...   \n",
       "643685           0.000000            0.000000               0.000000   \n",
       "643686           0.000000            8.909091               0.000000   \n",
       "643687           0.000000           10.352941               1.705882   \n",
       "643688           0.525424            0.000000               0.000000   \n",
       "643689           8.950000            1.033333               0.083333   \n",
       "\n",
       "        se_tot_dur_byage  seeking1_tot_dur_byage  \n",
       "0               0.000000                0.000000  \n",
       "1               0.000000                0.000000  \n",
       "2               0.000000                9.836735  \n",
       "3               0.000000                9.960000  \n",
       "4               0.000000               10.280000  \n",
       "...                  ...                     ...  \n",
       "643685          0.000000                0.000000  \n",
       "643686          0.000000                7.121212  \n",
       "643687          1.705882               23.911765  \n",
       "643688          0.000000                0.000000  \n",
       "643689          0.083333                8.133333  \n",
       "\n",
       "[643690 rows x 164 columns]"
      ]
     },
     "execution_count": 10,
     "metadata": {},
     "output_type": "execute_result"
    }
   ],
   "source": [
    "siab"
   ]
  },
  {
   "cell_type": "markdown",
   "id": "1f87e805",
   "metadata": {
    "papermill": {
     "duration": 0.013169,
     "end_time": "2025-08-19T18:09:34.801778",
     "exception": false,
     "start_time": "2025-08-19T18:09:34.788609",
     "status": "completed"
    },
    "tags": []
   },
   "source": [
    "# Splitting Data and Setting Training Data Size"
   ]
  },
  {
   "cell_type": "code",
   "execution_count": 11,
   "id": "910ae358",
   "metadata": {
    "execution": {
     "iopub.execute_input": "2025-08-19T18:09:34.842640Z",
     "iopub.status.busy": "2025-08-19T18:09:34.841936Z",
     "iopub.status.idle": "2025-08-19T18:09:35.685107Z",
     "shell.execute_reply": "2025-08-19T18:09:35.683945Z"
    },
    "papermill": {
     "duration": 0.860823,
     "end_time": "2025-08-19T18:09:35.686807",
     "exception": false,
     "start_time": "2025-08-19T18:09:34.825984",
     "status": "completed"
    },
    "tags": []
   },
   "outputs": [],
   "source": [
    "from fairness_multiverse.universe import sample_by_year_size\n",
    "\n",
    "siab_train = sample_by_year_size(siab,\n",
    "                               training_year=universe[\"training_year\"],\n",
    "                               training_size=universe[\"training_size\"])"
   ]
  },
  {
   "cell_type": "code",
   "execution_count": 12,
   "id": "919c8ff5",
   "metadata": {
    "execution": {
     "iopub.execute_input": "2025-08-19T18:09:35.709650Z",
     "iopub.status.busy": "2025-08-19T18:09:35.709139Z",
     "iopub.status.idle": "2025-08-19T18:09:35.722685Z",
     "shell.execute_reply": "2025-08-19T18:09:35.721626Z"
    },
    "papermill": {
     "duration": 0.027444,
     "end_time": "2025-08-19T18:09:35.724657",
     "exception": false,
     "start_time": "2025-08-19T18:09:35.697213",
     "status": "completed"
    },
    "tags": []
   },
   "outputs": [
    {
     "data": {
      "text/plain": [
       "(25000, 164)"
      ]
     },
     "execution_count": 12,
     "metadata": {},
     "output_type": "execute_result"
    }
   ],
   "source": [
    "siab_train.shape"
   ]
  },
  {
   "cell_type": "code",
   "execution_count": 13,
   "id": "feb13bf4",
   "metadata": {
    "execution": {
     "iopub.execute_input": "2025-08-19T18:09:35.751947Z",
     "iopub.status.busy": "2025-08-19T18:09:35.751277Z",
     "iopub.status.idle": "2025-08-19T18:09:35.759858Z",
     "shell.execute_reply": "2025-08-19T18:09:35.759173Z"
    },
    "papermill": {
     "duration": 0.021887,
     "end_time": "2025-08-19T18:09:35.761200",
     "exception": false,
     "start_time": "2025-08-19T18:09:35.739313",
     "status": "completed"
    },
    "tags": []
   },
   "outputs": [
    {
     "data": {
      "text/plain": [
       "year\n",
       "2012    8334\n",
       "2013    8333\n",
       "2014    8333\n",
       "dtype: int64"
      ]
     },
     "metadata": {},
     "output_type": "display_data"
    }
   ],
   "source": [
    "display(siab_train.groupby(\"year\").size())"
   ]
  },
  {
   "cell_type": "code",
   "execution_count": 14,
   "id": "0997782f",
   "metadata": {
    "execution": {
     "iopub.execute_input": "2025-08-19T18:09:35.788031Z",
     "iopub.status.busy": "2025-08-19T18:09:35.787580Z",
     "iopub.status.idle": "2025-08-19T18:09:36.068073Z",
     "shell.execute_reply": "2025-08-19T18:09:36.067179Z"
    },
    "papermill": {
     "duration": 0.294091,
     "end_time": "2025-08-19T18:09:36.069600",
     "exception": false,
     "start_time": "2025-08-19T18:09:35.775509",
     "status": "completed"
    },
    "tags": []
   },
   "outputs": [],
   "source": [
    "#siab_train = siab_s[siab_s.year < 2015]\n",
    "siab_calib = siab[siab.year == 2015]\n",
    "siab_test = siab[siab.year == 2016]"
   ]
  },
  {
   "cell_type": "code",
   "execution_count": 15,
   "id": "2c1e4012",
   "metadata": {
    "execution": {
     "iopub.execute_input": "2025-08-19T18:09:36.102699Z",
     "iopub.status.busy": "2025-08-19T18:09:36.102336Z",
     "iopub.status.idle": "2025-08-19T18:09:36.107009Z",
     "shell.execute_reply": "2025-08-19T18:09:36.106243Z"
    },
    "papermill": {
     "duration": 0.02311,
     "end_time": "2025-08-19T18:09:36.108317",
     "exception": false,
     "start_time": "2025-08-19T18:09:36.085207",
     "status": "completed"
    },
    "tags": []
   },
   "outputs": [],
   "source": [
    "#siab_calib.shape"
   ]
  },
  {
   "cell_type": "code",
   "execution_count": 16,
   "id": "f66b54ca",
   "metadata": {
    "execution": {
     "iopub.execute_input": "2025-08-19T18:09:36.129683Z",
     "iopub.status.busy": "2025-08-19T18:09:36.129369Z",
     "iopub.status.idle": "2025-08-19T18:09:36.133457Z",
     "shell.execute_reply": "2025-08-19T18:09:36.132749Z"
    },
    "papermill": {
     "duration": 0.016316,
     "end_time": "2025-08-19T18:09:36.134741",
     "exception": false,
     "start_time": "2025-08-19T18:09:36.118425",
     "status": "completed"
    },
    "tags": []
   },
   "outputs": [],
   "source": [
    "#siab_test.shape"
   ]
  },
  {
   "cell_type": "code",
   "execution_count": 17,
   "id": "27e4384d",
   "metadata": {
    "execution": {
     "iopub.execute_input": "2025-08-19T18:09:36.155937Z",
     "iopub.status.busy": "2025-08-19T18:09:36.155625Z",
     "iopub.status.idle": "2025-08-19T18:09:36.186471Z",
     "shell.execute_reply": "2025-08-19T18:09:36.185656Z"
    },
    "papermill": {
     "duration": 0.044192,
     "end_time": "2025-08-19T18:09:36.188916",
     "exception": false,
     "start_time": "2025-08-19T18:09:36.144724",
     "status": "completed"
    },
    "tags": []
   },
   "outputs": [],
   "source": [
    "X_train = siab_train.iloc[:,4:164]\n",
    "y_train = siab_train.iloc[:, [3]]"
   ]
  },
  {
   "cell_type": "code",
   "execution_count": 18,
   "id": "08ee8389",
   "metadata": {
    "execution": {
     "iopub.execute_input": "2025-08-19T18:09:36.227227Z",
     "iopub.status.busy": "2025-08-19T18:09:36.226621Z",
     "iopub.status.idle": "2025-08-19T18:09:36.354193Z",
     "shell.execute_reply": "2025-08-19T18:09:36.353380Z"
    },
    "papermill": {
     "duration": 0.144172,
     "end_time": "2025-08-19T18:09:36.356569",
     "exception": false,
     "start_time": "2025-08-19T18:09:36.212397",
     "status": "completed"
    },
    "tags": []
   },
   "outputs": [],
   "source": [
    "X_calib = siab_calib.iloc[:,4:164]\n",
    "y_calib = siab_calib.iloc[:, [3]]"
   ]
  },
  {
   "cell_type": "code",
   "execution_count": 19,
   "id": "b7ff42e0",
   "metadata": {
    "execution": {
     "iopub.execute_input": "2025-08-19T18:09:36.396894Z",
     "iopub.status.busy": "2025-08-19T18:09:36.396209Z",
     "iopub.status.idle": "2025-08-19T18:09:36.478284Z",
     "shell.execute_reply": "2025-08-19T18:09:36.477486Z"
    },
    "papermill": {
     "duration": 0.098693,
     "end_time": "2025-08-19T18:09:36.479826",
     "exception": false,
     "start_time": "2025-08-19T18:09:36.381133",
     "status": "completed"
    },
    "tags": []
   },
   "outputs": [],
   "source": [
    "X_test = siab_test.iloc[:,4:164]\n",
    "y_true = siab_test.iloc[:, [3]]"
   ]
  },
  {
   "cell_type": "code",
   "execution_count": 20,
   "id": "0275101e",
   "metadata": {
    "execution": {
     "iopub.execute_input": "2025-08-19T18:09:36.504845Z",
     "iopub.status.busy": "2025-08-19T18:09:36.503936Z",
     "iopub.status.idle": "2025-08-19T18:09:36.633608Z",
     "shell.execute_reply": "2025-08-19T18:09:36.632860Z"
    },
    "papermill": {
     "duration": 0.143982,
     "end_time": "2025-08-19T18:09:36.635023",
     "exception": false,
     "start_time": "2025-08-19T18:09:36.491041",
     "status": "completed"
    },
    "tags": []
   },
   "outputs": [],
   "source": [
    "# Auxiliary data needed downstream in the pipeline\n",
    "\n",
    "org_train = X_train.copy()\n",
    "org_test = X_test.copy()\n",
    "org_calib = X_calib.copy()"
   ]
  },
  {
   "cell_type": "markdown",
   "id": "b461e618",
   "metadata": {
    "papermill": {
     "duration": 0.010363,
     "end_time": "2025-08-19T18:09:36.661032",
     "exception": false,
     "start_time": "2025-08-19T18:09:36.650669",
     "status": "completed"
    },
    "tags": []
   },
   "source": [
    "# Preprocessing Data"
   ]
  },
  {
   "cell_type": "code",
   "execution_count": 21,
   "id": "78e74c4b",
   "metadata": {
    "execution": {
     "iopub.execute_input": "2025-08-19T18:09:36.684100Z",
     "iopub.status.busy": "2025-08-19T18:09:36.682939Z",
     "iopub.status.idle": "2025-08-19T18:09:36.693039Z",
     "shell.execute_reply": "2025-08-19T18:09:36.691634Z"
    },
    "papermill": {
     "duration": 0.02327,
     "end_time": "2025-08-19T18:09:36.694442",
     "exception": false,
     "start_time": "2025-08-19T18:09:36.671172",
     "status": "completed"
    },
    "tags": []
   },
   "outputs": [],
   "source": [
    "# EXCLUDE PROTECTED FEATURES\n",
    "# --------------------------\n",
    "\n",
    "excluded_features = universe[\"exclude_features\"].split(\"-\")\n",
    "excluded_features_dictionary = {\n",
    "    \"nationality\": [\"maxdeutsch1\", \"maxdeutsch.Missing.\"],\n",
    "    \"sex\": [\"frau1\"],\n",
    "    \"age\": [\"age\"],\n",
    "}"
   ]
  },
  {
   "cell_type": "code",
   "execution_count": 22,
   "id": "f8e63555",
   "metadata": {
    "execution": {
     "iopub.execute_input": "2025-08-19T18:09:36.719813Z",
     "iopub.status.busy": "2025-08-19T18:09:36.718722Z",
     "iopub.status.idle": "2025-08-19T18:09:36.728010Z",
     "shell.execute_reply": "2025-08-19T18:09:36.726454Z"
    },
    "papermill": {
     "duration": 0.022476,
     "end_time": "2025-08-19T18:09:36.729418",
     "exception": false,
     "start_time": "2025-08-19T18:09:36.706942",
     "status": "completed"
    },
    "tags": []
   },
   "outputs": [],
   "source": [
    "excluded_features_columns = [\n",
    "    excluded_features_dictionary[f] for f in excluded_features if len(f) > 0 and f != \"none\"\n",
    "]"
   ]
  },
  {
   "cell_type": "code",
   "execution_count": 23,
   "id": "da781f7c",
   "metadata": {
    "execution": {
     "iopub.execute_input": "2025-08-19T18:09:36.758843Z",
     "iopub.status.busy": "2025-08-19T18:09:36.757761Z",
     "iopub.status.idle": "2025-08-19T18:09:36.766152Z",
     "shell.execute_reply": "2025-08-19T18:09:36.764667Z"
    },
    "papermill": {
     "duration": 0.024866,
     "end_time": "2025-08-19T18:09:36.769448",
     "exception": false,
     "start_time": "2025-08-19T18:09:36.744582",
     "status": "completed"
    },
    "tags": []
   },
   "outputs": [],
   "source": [
    "from fairness_multiverse.universe import flatten_once\n",
    "\n",
    "excluded_features_columns = flatten_once(excluded_features_columns)"
   ]
  },
  {
   "cell_type": "code",
   "execution_count": 24,
   "id": "37fef0f0",
   "metadata": {
    "execution": {
     "iopub.execute_input": "2025-08-19T18:09:36.810597Z",
     "iopub.status.busy": "2025-08-19T18:09:36.809519Z",
     "iopub.status.idle": "2025-08-19T18:09:36.818864Z",
     "shell.execute_reply": "2025-08-19T18:09:36.817217Z"
    },
    "papermill": {
     "duration": 0.025101,
     "end_time": "2025-08-19T18:09:36.820283",
     "exception": false,
     "start_time": "2025-08-19T18:09:36.795182",
     "status": "completed"
    },
    "tags": []
   },
   "outputs": [],
   "source": [
    "if len(excluded_features_columns) > 0:\n",
    "    print(f\"Dropping features: {excluded_features_columns}\")\n",
    "    X_train.drop(excluded_features_columns, axis=1, inplace=True)"
   ]
  },
  {
   "cell_type": "code",
   "execution_count": 25,
   "id": "d029e3e9",
   "metadata": {
    "execution": {
     "iopub.execute_input": "2025-08-19T18:09:36.846261Z",
     "iopub.status.busy": "2025-08-19T18:09:36.845024Z",
     "iopub.status.idle": "2025-08-19T18:09:36.854236Z",
     "shell.execute_reply": "2025-08-19T18:09:36.852587Z"
    },
    "papermill": {
     "duration": 0.023244,
     "end_time": "2025-08-19T18:09:36.855755",
     "exception": false,
     "start_time": "2025-08-19T18:09:36.832511",
     "status": "completed"
    },
    "tags": []
   },
   "outputs": [],
   "source": [
    "if len(excluded_features_columns) > 0:\n",
    "    print(f\"Dropping features: {excluded_features_columns}\")\n",
    "    X_test.drop(excluded_features_columns, axis=1, inplace=True)"
   ]
  },
  {
   "cell_type": "code",
   "execution_count": 26,
   "id": "01d571f0",
   "metadata": {
    "execution": {
     "iopub.execute_input": "2025-08-19T18:09:36.881606Z",
     "iopub.status.busy": "2025-08-19T18:09:36.880558Z",
     "iopub.status.idle": "2025-08-19T18:09:36.889831Z",
     "shell.execute_reply": "2025-08-19T18:09:36.888147Z"
    },
    "papermill": {
     "duration": 0.023043,
     "end_time": "2025-08-19T18:09:36.891642",
     "exception": false,
     "start_time": "2025-08-19T18:09:36.868599",
     "status": "completed"
    },
    "tags": []
   },
   "outputs": [],
   "source": [
    "if len(excluded_features_columns) > 0:\n",
    "    print(f\"Dropping features: {excluded_features_columns}\")\n",
    "    X_calib.drop(excluded_features_columns, axis=1, inplace=True)"
   ]
  },
  {
   "cell_type": "code",
   "execution_count": 27,
   "id": "3037356e",
   "metadata": {
    "execution": {
     "iopub.execute_input": "2025-08-19T18:09:36.935338Z",
     "iopub.status.busy": "2025-08-19T18:09:36.921796Z",
     "iopub.status.idle": "2025-08-19T18:09:36.939817Z",
     "shell.execute_reply": "2025-08-19T18:09:36.939000Z"
    },
    "papermill": {
     "duration": 0.037667,
     "end_time": "2025-08-19T18:09:36.941634",
     "exception": false,
     "start_time": "2025-08-19T18:09:36.903967",
     "status": "completed"
    },
    "tags": []
   },
   "outputs": [],
   "source": [
    "# EXCLUDE CERTAIN SUBGROUPS\n",
    "# -------------------------\n",
    "\n",
    "mode = universe.get(\"exclude_subgroups\", \"keep-all\") # Defaults to \"keep-all\" if the key is missing."
   ]
  },
  {
   "cell_type": "code",
   "execution_count": 28,
   "id": "9d1e63fd",
   "metadata": {
    "execution": {
     "iopub.execute_input": "2025-08-19T18:09:36.972934Z",
     "iopub.status.busy": "2025-08-19T18:09:36.972111Z",
     "iopub.status.idle": "2025-08-19T18:09:36.979209Z",
     "shell.execute_reply": "2025-08-19T18:09:36.978442Z"
    },
    "papermill": {
     "duration": 0.020832,
     "end_time": "2025-08-19T18:09:36.980388",
     "exception": false,
     "start_time": "2025-08-19T18:09:36.959556",
     "status": "completed"
    },
    "tags": []
   },
   "outputs": [],
   "source": [
    "if mode == \"keep-all\":\n",
    "    keep_mask = pd.Series(True, index=org_train.index)\n",
    "\n",
    "elif mode == \"drop-non-german\":\n",
    "    keep_mask = (org_train[\"maxdeutsch1\"] == 1) & (org_train[\"maxdeutsch.Missing.\"] == 0)\n",
    "\n",
    "else:\n",
    "    raise ValueError(f\"Unsupported mode for exclude_subgroups: {mode}\")"
   ]
  },
  {
   "cell_type": "code",
   "execution_count": 29,
   "id": "d3b65474",
   "metadata": {
    "execution": {
     "iopub.execute_input": "2025-08-19T18:09:37.003908Z",
     "iopub.status.busy": "2025-08-19T18:09:37.003126Z",
     "iopub.status.idle": "2025-08-19T18:09:37.010443Z",
     "shell.execute_reply": "2025-08-19T18:09:37.009706Z"
    },
    "papermill": {
     "duration": 0.020127,
     "end_time": "2025-08-19T18:09:37.011583",
     "exception": false,
     "start_time": "2025-08-19T18:09:36.991456",
     "status": "completed"
    },
    "tags": []
   },
   "outputs": [
    {
     "name": "stdout",
     "output_type": "stream",
     "text": [
      "Dropping 3481 rows (13.92%) where mode='drop-non-german'\n"
     ]
    }
   ],
   "source": [
    "n_drop = (~keep_mask).sum() # Calculates how many rows are set to be dropped\n",
    "if n_drop > 0:\n",
    "    pct = n_drop / len(keep_mask) * 100\n",
    "    print(f\"Dropping {n_drop} rows ({pct:.2f}%) where mode='{mode}'\")"
   ]
  },
  {
   "cell_type": "code",
   "execution_count": 30,
   "id": "f44389b3",
   "metadata": {
    "execution": {
     "iopub.execute_input": "2025-08-19T18:09:37.033842Z",
     "iopub.status.busy": "2025-08-19T18:09:37.033454Z",
     "iopub.status.idle": "2025-08-19T18:09:37.096214Z",
     "shell.execute_reply": "2025-08-19T18:09:37.095453Z"
    },
    "papermill": {
     "duration": 0.075494,
     "end_time": "2025-08-19T18:09:37.097640",
     "exception": false,
     "start_time": "2025-08-19T18:09:37.022146",
     "status": "completed"
    },
    "tags": []
   },
   "outputs": [],
   "source": [
    "X_train = X_train[keep_mask]"
   ]
  },
  {
   "cell_type": "code",
   "execution_count": 31,
   "id": "ceca8c2a",
   "metadata": {
    "execution": {
     "iopub.execute_input": "2025-08-19T18:09:37.121626Z",
     "iopub.status.busy": "2025-08-19T18:09:37.120111Z",
     "iopub.status.idle": "2025-08-19T18:09:37.128072Z",
     "shell.execute_reply": "2025-08-19T18:09:37.127088Z"
    },
    "papermill": {
     "duration": 0.021251,
     "end_time": "2025-08-19T18:09:37.129717",
     "exception": false,
     "start_time": "2025-08-19T18:09:37.108466",
     "status": "completed"
    },
    "tags": []
   },
   "outputs": [],
   "source": [
    "y_train = y_train[keep_mask]"
   ]
  },
  {
   "cell_type": "markdown",
   "id": "04d31e2f",
   "metadata": {
    "papermill": {
     "duration": 0.010588,
     "end_time": "2025-08-19T18:09:37.153359",
     "exception": false,
     "start_time": "2025-08-19T18:09:37.142771",
     "status": "completed"
    },
    "tags": []
   },
   "source": [
    "# Model Training"
   ]
  },
  {
   "cell_type": "code",
   "execution_count": 32,
   "id": "db991733",
   "metadata": {
    "execution": {
     "iopub.execute_input": "2025-08-19T18:09:37.176974Z",
     "iopub.status.busy": "2025-08-19T18:09:37.175872Z",
     "iopub.status.idle": "2025-08-19T18:09:37.297822Z",
     "shell.execute_reply": "2025-08-19T18:09:37.297060Z"
    },
    "papermill": {
     "duration": 0.136742,
     "end_time": "2025-08-19T18:09:37.300445",
     "exception": false,
     "start_time": "2025-08-19T18:09:37.163703",
     "status": "completed"
    },
    "tags": []
   },
   "outputs": [],
   "source": [
    "from sklearn.linear_model import LogisticRegression\n",
    "from sklearn.ensemble import GradientBoostingClassifier, RandomForestClassifier\n",
    "\n",
    "if (universe[\"model\"] == \"logreg\"):\n",
    "    model = LogisticRegression() #penalty=\"none\", solver=\"newton-cg\", max_iter=1)\n",
    "elif (universe[\"model\"] == \"penalized_logreg\"):\n",
    "    model = LogisticRegression(penalty=\"l2\", C=0.1) #, solver=\"newton-cg\", max_iter=1)\n",
    "elif (universe[\"model\"] == \"rf\"):\n",
    "    model = RandomForestClassifier() # n_estimators=100, n_jobs=-1\n",
    "elif (universe[\"model\"] == \"gbm\"):\n",
    "    model = GradientBoostingClassifier()\n",
    "elif (universe[\"model\"] == \"elasticnet\"):\n",
    "    model = LogisticRegression(penalty = 'elasticnet', solver = 'saga', l1_ratio = 0.5) # max_iter=5000\n",
    "else:\n",
    "    raise \"Unsupported universe.model\""
   ]
  },
  {
   "cell_type": "code",
   "execution_count": 33,
   "id": "a4b5cd25",
   "metadata": {
    "execution": {
     "iopub.execute_input": "2025-08-19T18:09:37.338954Z",
     "iopub.status.busy": "2025-08-19T18:09:37.337988Z",
     "iopub.status.idle": "2025-08-19T18:09:37.346840Z",
     "shell.execute_reply": "2025-08-19T18:09:37.345646Z"
    },
    "papermill": {
     "duration": 0.024152,
     "end_time": "2025-08-19T18:09:37.348228",
     "exception": false,
     "start_time": "2025-08-19T18:09:37.324076",
     "status": "completed"
    },
    "tags": []
   },
   "outputs": [],
   "source": [
    "from sklearn.pipeline import Pipeline\n",
    "from sklearn.preprocessing import StandardScaler\n",
    "\n",
    "model = Pipeline([\n",
    "    #(\"continuous_processor\", continuous_processor),\n",
    "    #(\"categorical_preprocessor\", categorical_preprocessor),\n",
    "    (\"scale\", StandardScaler() if universe[\"scale\"] == \"scale\" else None), \n",
    "    (\"model\", model),\n",
    "])"
   ]
  },
  {
   "cell_type": "code",
   "execution_count": 34,
   "id": "283a904d",
   "metadata": {
    "execution": {
     "iopub.execute_input": "2025-08-19T18:09:37.374497Z",
     "iopub.status.busy": "2025-08-19T18:09:37.373741Z",
     "iopub.status.idle": "2025-08-19T18:09:44.552482Z",
     "shell.execute_reply": "2025-08-19T18:09:44.551465Z"
    },
    "papermill": {
     "duration": 7.192389,
     "end_time": "2025-08-19T18:09:44.554035",
     "exception": false,
     "start_time": "2025-08-19T18:09:37.361646",
     "status": "completed"
    },
    "tags": []
   },
   "outputs": [
    {
     "data": {
      "text/html": [
       "<style>#sk-container-id-1 {color: black;background-color: white;}#sk-container-id-1 pre{padding: 0;}#sk-container-id-1 div.sk-toggleable {background-color: white;}#sk-container-id-1 label.sk-toggleable__label {cursor: pointer;display: block;width: 100%;margin-bottom: 0;padding: 0.3em;box-sizing: border-box;text-align: center;}#sk-container-id-1 label.sk-toggleable__label-arrow:before {content: \"▸\";float: left;margin-right: 0.25em;color: #696969;}#sk-container-id-1 label.sk-toggleable__label-arrow:hover:before {color: black;}#sk-container-id-1 div.sk-estimator:hover label.sk-toggleable__label-arrow:before {color: black;}#sk-container-id-1 div.sk-toggleable__content {max-height: 0;max-width: 0;overflow: hidden;text-align: left;background-color: #f0f8ff;}#sk-container-id-1 div.sk-toggleable__content pre {margin: 0.2em;color: black;border-radius: 0.25em;background-color: #f0f8ff;}#sk-container-id-1 input.sk-toggleable__control:checked~div.sk-toggleable__content {max-height: 200px;max-width: 100%;overflow: auto;}#sk-container-id-1 input.sk-toggleable__control:checked~label.sk-toggleable__label-arrow:before {content: \"▾\";}#sk-container-id-1 div.sk-estimator input.sk-toggleable__control:checked~label.sk-toggleable__label {background-color: #d4ebff;}#sk-container-id-1 div.sk-label input.sk-toggleable__control:checked~label.sk-toggleable__label {background-color: #d4ebff;}#sk-container-id-1 input.sk-hidden--visually {border: 0;clip: rect(1px 1px 1px 1px);clip: rect(1px, 1px, 1px, 1px);height: 1px;margin: -1px;overflow: hidden;padding: 0;position: absolute;width: 1px;}#sk-container-id-1 div.sk-estimator {font-family: monospace;background-color: #f0f8ff;border: 1px dotted black;border-radius: 0.25em;box-sizing: border-box;margin-bottom: 0.5em;}#sk-container-id-1 div.sk-estimator:hover {background-color: #d4ebff;}#sk-container-id-1 div.sk-parallel-item::after {content: \"\";width: 100%;border-bottom: 1px solid gray;flex-grow: 1;}#sk-container-id-1 div.sk-label:hover label.sk-toggleable__label {background-color: #d4ebff;}#sk-container-id-1 div.sk-serial::before {content: \"\";position: absolute;border-left: 1px solid gray;box-sizing: border-box;top: 0;bottom: 0;left: 50%;z-index: 0;}#sk-container-id-1 div.sk-serial {display: flex;flex-direction: column;align-items: center;background-color: white;padding-right: 0.2em;padding-left: 0.2em;position: relative;}#sk-container-id-1 div.sk-item {position: relative;z-index: 1;}#sk-container-id-1 div.sk-parallel {display: flex;align-items: stretch;justify-content: center;background-color: white;position: relative;}#sk-container-id-1 div.sk-item::before, #sk-container-id-1 div.sk-parallel-item::before {content: \"\";position: absolute;border-left: 1px solid gray;box-sizing: border-box;top: 0;bottom: 0;left: 50%;z-index: -1;}#sk-container-id-1 div.sk-parallel-item {display: flex;flex-direction: column;z-index: 1;position: relative;background-color: white;}#sk-container-id-1 div.sk-parallel-item:first-child::after {align-self: flex-end;width: 50%;}#sk-container-id-1 div.sk-parallel-item:last-child::after {align-self: flex-start;width: 50%;}#sk-container-id-1 div.sk-parallel-item:only-child::after {width: 0;}#sk-container-id-1 div.sk-dashed-wrapped {border: 1px dashed gray;margin: 0 0.4em 0.5em 0.4em;box-sizing: border-box;padding-bottom: 0.4em;background-color: white;}#sk-container-id-1 div.sk-label label {font-family: monospace;font-weight: bold;display: inline-block;line-height: 1.2em;}#sk-container-id-1 div.sk-label-container {text-align: center;}#sk-container-id-1 div.sk-container {/* jupyter's `normalize.less` sets `[hidden] { display: none; }` but bootstrap.min.css set `[hidden] { display: none !important; }` so we also need the `!important` here to be able to override the default hidden behavior on the sphinx rendered scikit-learn.org. See: https://github.com/scikit-learn/scikit-learn/issues/21755 */display: inline-block !important;position: relative;}#sk-container-id-1 div.sk-text-repr-fallback {display: none;}</style><div id=\"sk-container-id-1\" class=\"sk-top-container\"><div class=\"sk-text-repr-fallback\"><pre>Pipeline(steps=[(&#x27;scale&#x27;, None), (&#x27;model&#x27;, RandomForestClassifier())])</pre><b>In a Jupyter environment, please rerun this cell to show the HTML representation or trust the notebook. <br />On GitHub, the HTML representation is unable to render, please try loading this page with nbviewer.org.</b></div><div class=\"sk-container\" hidden><div class=\"sk-item sk-dashed-wrapped\"><div class=\"sk-label-container\"><div class=\"sk-label sk-toggleable\"><input class=\"sk-toggleable__control sk-hidden--visually\" id=\"sk-estimator-id-1\" type=\"checkbox\" ><label for=\"sk-estimator-id-1\" class=\"sk-toggleable__label sk-toggleable__label-arrow\">Pipeline</label><div class=\"sk-toggleable__content\"><pre>Pipeline(steps=[(&#x27;scale&#x27;, None), (&#x27;model&#x27;, RandomForestClassifier())])</pre></div></div></div><div class=\"sk-serial\"><div class=\"sk-item\"><div class=\"sk-estimator sk-toggleable\"><input class=\"sk-toggleable__control sk-hidden--visually\" id=\"sk-estimator-id-2\" type=\"checkbox\" ><label for=\"sk-estimator-id-2\" class=\"sk-toggleable__label sk-toggleable__label-arrow\">None</label><div class=\"sk-toggleable__content\"><pre>None</pre></div></div></div><div class=\"sk-item\"><div class=\"sk-estimator sk-toggleable\"><input class=\"sk-toggleable__control sk-hidden--visually\" id=\"sk-estimator-id-3\" type=\"checkbox\" ><label for=\"sk-estimator-id-3\" class=\"sk-toggleable__label sk-toggleable__label-arrow\">RandomForestClassifier</label><div class=\"sk-toggleable__content\"><pre>RandomForestClassifier()</pre></div></div></div></div></div></div></div>"
      ],
      "text/plain": [
       "Pipeline(steps=[('scale', None), ('model', RandomForestClassifier())])"
      ]
     },
     "execution_count": 34,
     "metadata": {},
     "output_type": "execute_result"
    }
   ],
   "source": [
    "model.fit(X_train, y_train.values.ravel())"
   ]
  },
  {
   "cell_type": "code",
   "execution_count": 35,
   "id": "6e15e313",
   "metadata": {
    "execution": {
     "iopub.execute_input": "2025-08-19T18:09:44.583020Z",
     "iopub.status.busy": "2025-08-19T18:09:44.581605Z",
     "iopub.status.idle": "2025-08-19T18:09:47.096957Z",
     "shell.execute_reply": "2025-08-19T18:09:47.095961Z"
    },
    "papermill": {
     "duration": 2.530743,
     "end_time": "2025-08-19T18:09:47.098295",
     "exception": false,
     "start_time": "2025-08-19T18:09:44.567552",
     "status": "completed"
    },
    "tags": []
   },
   "outputs": [
    {
     "data": {
      "text/plain": [
       "0.8655222383234867"
      ]
     },
     "execution_count": 35,
     "metadata": {},
     "output_type": "execute_result"
    }
   ],
   "source": [
    "from fairness_multiverse.universe import predict_w_threshold\n",
    "\n",
    "probs_test = model.predict_proba(X_test)\n",
    "\n",
    "'''\n",
    "Below code returns a boolean array (or binary 0/1 array depending on how it’s used) where each element \n",
    "is True if the probability of class 1 is greater than or equal to the threshold, and False otherwise.\n",
    "'''\n",
    "y_pred_default = predict_w_threshold(probs_test, 0.5)\n",
    "\n",
    "from sklearn.metrics import accuracy_score\n",
    "\n",
    "# Naive prediction\n",
    "accuracy_score(y_true = y_true, y_pred = y_pred_default)"
   ]
  },
  {
   "cell_type": "code",
   "execution_count": 36,
   "id": "6f14067c",
   "metadata": {
    "execution": {
     "iopub.execute_input": "2025-08-19T18:09:47.124350Z",
     "iopub.status.busy": "2025-08-19T18:09:47.123345Z",
     "iopub.status.idle": "2025-08-19T18:09:49.558610Z",
     "shell.execute_reply": "2025-08-19T18:09:49.557502Z"
    },
    "papermill": {
     "duration": 2.450035,
     "end_time": "2025-08-19T18:09:49.559945",
     "exception": false,
     "start_time": "2025-08-19T18:09:47.109910",
     "status": "completed"
    },
    "tags": []
   },
   "outputs": [
    {
     "data": {
      "text/plain": [
       "array([0, 0, 0, ..., 0, 0, 0])"
      ]
     },
     "execution_count": 36,
     "metadata": {},
     "output_type": "execute_result"
    }
   ],
   "source": [
    "model.predict(X_test)"
   ]
  },
  {
   "cell_type": "markdown",
   "id": "3759920c",
   "metadata": {
    "papermill": {
     "duration": 0.014426,
     "end_time": "2025-08-19T18:09:49.594227",
     "exception": false,
     "start_time": "2025-08-19T18:09:49.579801",
     "status": "completed"
    },
    "tags": []
   },
   "source": [
    "# Conformal Prediction"
   ]
  },
  {
   "cell_type": "code",
   "execution_count": 37,
   "id": "14b27f59",
   "metadata": {
    "execution": {
     "iopub.execute_input": "2025-08-19T18:09:49.623792Z",
     "iopub.status.busy": "2025-08-19T18:09:49.619542Z",
     "iopub.status.idle": "2025-08-19T18:09:49.640996Z",
     "shell.execute_reply": "2025-08-19T18:09:49.639559Z"
    },
    "papermill": {
     "duration": 0.036325,
     "end_time": "2025-08-19T18:09:49.642346",
     "exception": false,
     "start_time": "2025-08-19T18:09:49.606021",
     "status": "completed"
    },
    "tags": []
   },
   "outputs": [],
   "source": [
    "# Miscoverage level for conformal prediction (10% allowed error rate => 90% target coverage)\n",
    "alpha = 0.1"
   ]
  },
  {
   "cell_type": "code",
   "execution_count": 38,
   "id": "59102472",
   "metadata": {
    "execution": {
     "iopub.execute_input": "2025-08-19T18:09:49.669170Z",
     "iopub.status.busy": "2025-08-19T18:09:49.667936Z",
     "iopub.status.idle": "2025-08-19T18:09:52.304757Z",
     "shell.execute_reply": "2025-08-19T18:09:52.302063Z"
    },
    "papermill": {
     "duration": 2.652727,
     "end_time": "2025-08-19T18:09:52.306561",
     "exception": false,
     "start_time": "2025-08-19T18:09:49.653834",
     "status": "completed"
    },
    "tags": []
   },
   "outputs": [],
   "source": [
    "probs_calib = model.predict_proba(X_calib)"
   ]
  },
  {
   "cell_type": "code",
   "execution_count": 39,
   "id": "a792d4dd",
   "metadata": {
    "execution": {
     "iopub.execute_input": "2025-08-19T18:09:52.332819Z",
     "iopub.status.busy": "2025-08-19T18:09:52.331585Z",
     "iopub.status.idle": "2025-08-19T18:09:52.344615Z",
     "shell.execute_reply": "2025-08-19T18:09:52.343424Z"
    },
    "papermill": {
     "duration": 0.028063,
     "end_time": "2025-08-19T18:09:52.346116",
     "exception": false,
     "start_time": "2025-08-19T18:09:52.318053",
     "status": "completed"
    },
    "tags": []
   },
   "outputs": [],
   "source": [
    "y_calib = y_calib.values.ravel().astype(int)"
   ]
  },
  {
   "cell_type": "code",
   "execution_count": 40,
   "id": "650fd033",
   "metadata": {
    "execution": {
     "iopub.execute_input": "2025-08-19T18:09:52.373465Z",
     "iopub.status.busy": "2025-08-19T18:09:52.372522Z",
     "iopub.status.idle": "2025-08-19T18:09:52.385747Z",
     "shell.execute_reply": "2025-08-19T18:09:52.384515Z"
    },
    "papermill": {
     "duration": 0.027786,
     "end_time": "2025-08-19T18:09:52.387596",
     "exception": false,
     "start_time": "2025-08-19T18:09:52.359810",
     "status": "completed"
    },
    "tags": []
   },
   "outputs": [],
   "source": [
    "from fairness_multiverse.conformal import compute_nc_scores\n",
    "\n",
    "# Compute nonconformity scores on calibration set (1 - probability of true class)\n",
    "nc_scores = compute_nc_scores(probs_calib, y_calib)"
   ]
  },
  {
   "cell_type": "code",
   "execution_count": 41,
   "id": "28ada44c",
   "metadata": {
    "execution": {
     "iopub.execute_input": "2025-08-19T18:09:52.415196Z",
     "iopub.status.busy": "2025-08-19T18:09:52.414239Z",
     "iopub.status.idle": "2025-08-19T18:09:52.425780Z",
     "shell.execute_reply": "2025-08-19T18:09:52.424580Z"
    },
    "papermill": {
     "duration": 0.026263,
     "end_time": "2025-08-19T18:09:52.427462",
     "exception": false,
     "start_time": "2025-08-19T18:09:52.401199",
     "status": "completed"
    },
    "tags": []
   },
   "outputs": [],
   "source": [
    "from fairness_multiverse.conformal import find_threshold\n",
    "\n",
    "# Find conformal threshold q_hat for the given alpha (split conformal method)\n",
    "q_hat = find_threshold(nc_scores, alpha)"
   ]
  },
  {
   "cell_type": "code",
   "execution_count": 42,
   "id": "df56469e",
   "metadata": {
    "execution": {
     "iopub.execute_input": "2025-08-19T18:09:52.454859Z",
     "iopub.status.busy": "2025-08-19T18:09:52.453884Z",
     "iopub.status.idle": "2025-08-19T18:09:52.464265Z",
     "shell.execute_reply": "2025-08-19T18:09:52.462999Z"
    },
    "papermill": {
     "duration": 0.024792,
     "end_time": "2025-08-19T18:09:52.465829",
     "exception": false,
     "start_time": "2025-08-19T18:09:52.441037",
     "status": "completed"
    },
    "tags": []
   },
   "outputs": [
    {
     "data": {
      "text/plain": [
       "0.6599999999999999"
      ]
     },
     "execution_count": 42,
     "metadata": {},
     "output_type": "execute_result"
    }
   ],
   "source": [
    "q_hat"
   ]
  },
  {
   "cell_type": "code",
   "execution_count": 43,
   "id": "aa1f5faa",
   "metadata": {
    "execution": {
     "iopub.execute_input": "2025-08-19T18:09:52.493841Z",
     "iopub.status.busy": "2025-08-19T18:09:52.492763Z",
     "iopub.status.idle": "2025-08-19T18:09:55.320982Z",
     "shell.execute_reply": "2025-08-19T18:09:55.319777Z"
    },
    "papermill": {
     "duration": 2.84309,
     "end_time": "2025-08-19T18:09:55.322518",
     "exception": false,
     "start_time": "2025-08-19T18:09:52.479428",
     "status": "completed"
    },
    "tags": []
   },
   "outputs": [],
   "source": [
    "from fairness_multiverse.conformal import predict_conformal_sets\n",
    "\n",
    "# Generate prediction sets for each test example\n",
    "pred_sets = predict_conformal_sets(model, X_test, q_hat)"
   ]
  },
  {
   "cell_type": "code",
   "execution_count": 44,
   "id": "97f67a6b",
   "metadata": {
    "execution": {
     "iopub.execute_input": "2025-08-19T18:09:55.352684Z",
     "iopub.status.busy": "2025-08-19T18:09:55.351488Z",
     "iopub.status.idle": "2025-08-19T18:09:55.361761Z",
     "shell.execute_reply": "2025-08-19T18:09:55.360880Z"
    },
    "papermill": {
     "duration": 0.026544,
     "end_time": "2025-08-19T18:09:55.363041",
     "exception": false,
     "start_time": "2025-08-19T18:09:55.336497",
     "status": "completed"
    },
    "tags": []
   },
   "outputs": [],
   "source": [
    "y_true = y_true.squeeze()"
   ]
  },
  {
   "cell_type": "code",
   "execution_count": 45,
   "id": "e700e9a7",
   "metadata": {
    "execution": {
     "iopub.execute_input": "2025-08-19T18:09:55.392824Z",
     "iopub.status.busy": "2025-08-19T18:09:55.391866Z",
     "iopub.status.idle": "2025-08-19T18:09:55.909369Z",
     "shell.execute_reply": "2025-08-19T18:09:55.908579Z"
    },
    "papermill": {
     "duration": 0.533831,
     "end_time": "2025-08-19T18:09:55.910687",
     "exception": false,
     "start_time": "2025-08-19T18:09:55.376856",
     "status": "completed"
    },
    "tags": []
   },
   "outputs": [],
   "source": [
    "from fairness_multiverse.conformal import evaluate_sets\n",
    "\n",
    "# Evaluate coverage and average set size on test data\n",
    "metrics = evaluate_sets(pred_sets, y_true)"
   ]
  },
  {
   "cell_type": "markdown",
   "id": "efbacec0",
   "metadata": {
    "papermill": {
     "duration": 0.011238,
     "end_time": "2025-08-19T18:09:55.933684",
     "exception": false,
     "start_time": "2025-08-19T18:09:55.922446",
     "status": "completed"
    },
    "tags": []
   },
   "source": [
    "# CP Metrics"
   ]
  },
  {
   "cell_type": "code",
   "execution_count": 46,
   "id": "9de55fb1",
   "metadata": {
    "execution": {
     "iopub.execute_input": "2025-08-19T18:09:55.958479Z",
     "iopub.status.busy": "2025-08-19T18:09:55.957518Z",
     "iopub.status.idle": "2025-08-19T18:09:55.967664Z",
     "shell.execute_reply": "2025-08-19T18:09:55.966442Z"
    },
    "papermill": {
     "duration": 0.024313,
     "end_time": "2025-08-19T18:09:55.969112",
     "exception": false,
     "start_time": "2025-08-19T18:09:55.944799",
     "status": "completed"
    },
    "tags": []
   },
   "outputs": [
    {
     "data": {
      "text/plain": [
       "{'coverage': 0.915639282131312, 'avg_size': 1.1480548433842381}"
      ]
     },
     "execution_count": 46,
     "metadata": {},
     "output_type": "execute_result"
    }
   ],
   "source": [
    "metrics"
   ]
  },
  {
   "cell_type": "code",
   "execution_count": 47,
   "id": "64c340a1",
   "metadata": {
    "execution": {
     "iopub.execute_input": "2025-08-19T18:09:55.995901Z",
     "iopub.status.busy": "2025-08-19T18:09:55.994953Z",
     "iopub.status.idle": "2025-08-19T18:09:56.005039Z",
     "shell.execute_reply": "2025-08-19T18:09:56.003825Z"
    },
    "papermill": {
     "duration": 0.024404,
     "end_time": "2025-08-19T18:09:56.006574",
     "exception": false,
     "start_time": "2025-08-19T18:09:55.982170",
     "status": "completed"
    },
    "tags": []
   },
   "outputs": [],
   "source": [
    "example_universe = universe.copy()\n",
    "universe_training_year = example_universe.get(\"training_year\")\n",
    "universe_training_size = example_universe.get(\"training_size\")\n",
    "universe_scale = example_universe.get(\"scale\")\n",
    "universe_model = example_universe.get(\"model\")\n",
    "universe_exclude_features = example_universe.get(\"exclude_features\")\n",
    "universe_exclude_subgroups = example_universe.get(\"exclude_subgroups\")"
   ]
  },
  {
   "cell_type": "code",
   "execution_count": 48,
   "id": "dbb53cb4",
   "metadata": {
    "execution": {
     "iopub.execute_input": "2025-08-19T18:09:56.034208Z",
     "iopub.status.busy": "2025-08-19T18:09:56.033339Z",
     "iopub.status.idle": "2025-08-19T18:09:56.042647Z",
     "shell.execute_reply": "2025-08-19T18:09:56.041570Z"
    },
    "papermill": {
     "duration": 0.023848,
     "end_time": "2025-08-19T18:09:56.044196",
     "exception": false,
     "start_time": "2025-08-19T18:09:56.020348",
     "status": "completed"
    },
    "tags": []
   },
   "outputs": [],
   "source": [
    "cp_metrics_dict = {\n",
    "    \"universe_id\": [universe_id],\n",
    "    \"universe_training_year\": [universe_training_year],\n",
    "    \"universe_training_size\": [universe_training_size],\n",
    "    \"universe_scale\": [universe_scale],\n",
    "    \"universe_model\": [universe_model],\n",
    "    \"universe_exclude_features\": [universe_exclude_features],\n",
    "    \"universe_exclude_subgroups\": [universe_exclude_subgroups],\n",
    "    \"q_hat\": [q_hat],\n",
    "    \"coverage\": [metrics[\"coverage\"]],\n",
    "    \"avg_size\": [metrics[\"avg_size\"]],\n",
    "}"
   ]
  },
  {
   "cell_type": "code",
   "execution_count": 49,
   "id": "0d70d4b2",
   "metadata": {
    "execution": {
     "iopub.execute_input": "2025-08-19T18:09:56.072024Z",
     "iopub.status.busy": "2025-08-19T18:09:56.071052Z",
     "iopub.status.idle": "2025-08-19T18:09:56.081155Z",
     "shell.execute_reply": "2025-08-19T18:09:56.079997Z"
    },
    "papermill": {
     "duration": 0.024893,
     "end_time": "2025-08-19T18:09:56.082838",
     "exception": false,
     "start_time": "2025-08-19T18:09:56.057945",
     "status": "completed"
    },
    "tags": []
   },
   "outputs": [],
   "source": [
    "cp_metrics_df = pd.DataFrame(cp_metrics_dict)"
   ]
  },
  {
   "cell_type": "code",
   "execution_count": 50,
   "id": "b494403c",
   "metadata": {
    "execution": {
     "iopub.execute_input": "2025-08-19T18:09:56.110347Z",
     "iopub.status.busy": "2025-08-19T18:09:56.109404Z",
     "iopub.status.idle": "2025-08-19T18:09:56.132307Z",
     "shell.execute_reply": "2025-08-19T18:09:56.131284Z"
    },
    "papermill": {
     "duration": 0.037811,
     "end_time": "2025-08-19T18:09:56.134390",
     "exception": false,
     "start_time": "2025-08-19T18:09:56.096579",
     "status": "completed"
    },
    "tags": []
   },
   "outputs": [
    {
     "data": {
      "text/html": [
       "<div>\n",
       "<style scoped>\n",
       "    .dataframe tbody tr th:only-of-type {\n",
       "        vertical-align: middle;\n",
       "    }\n",
       "\n",
       "    .dataframe tbody tr th {\n",
       "        vertical-align: top;\n",
       "    }\n",
       "\n",
       "    .dataframe thead th {\n",
       "        text-align: right;\n",
       "    }\n",
       "</style>\n",
       "<table border=\"1\" class=\"dataframe\">\n",
       "  <thead>\n",
       "    <tr style=\"text-align: right;\">\n",
       "      <th></th>\n",
       "      <th>universe_id</th>\n",
       "      <th>universe_training_year</th>\n",
       "      <th>universe_training_size</th>\n",
       "      <th>universe_scale</th>\n",
       "      <th>universe_model</th>\n",
       "      <th>universe_exclude_features</th>\n",
       "      <th>universe_exclude_subgroups</th>\n",
       "      <th>q_hat</th>\n",
       "      <th>coverage</th>\n",
       "      <th>avg_size</th>\n",
       "    </tr>\n",
       "  </thead>\n",
       "  <tbody>\n",
       "    <tr>\n",
       "      <th>0</th>\n",
       "      <td>3bf18228d7305e666a9ed0efdacc6518</td>\n",
       "      <td>2012_14</td>\n",
       "      <td>25k</td>\n",
       "      <td>do-not-scale</td>\n",
       "      <td>rf</td>\n",
       "      <td>none</td>\n",
       "      <td>drop-non-german</td>\n",
       "      <td>0.66</td>\n",
       "      <td>0.915639</td>\n",
       "      <td>1.148055</td>\n",
       "    </tr>\n",
       "  </tbody>\n",
       "</table>\n",
       "</div>"
      ],
      "text/plain": [
       "                        universe_id universe_training_year  \\\n",
       "0  3bf18228d7305e666a9ed0efdacc6518                2012_14   \n",
       "\n",
       "  universe_training_size universe_scale universe_model  \\\n",
       "0                    25k   do-not-scale             rf   \n",
       "\n",
       "  universe_exclude_features universe_exclude_subgroups  q_hat  coverage  \\\n",
       "0                      none            drop-non-german   0.66  0.915639   \n",
       "\n",
       "   avg_size  \n",
       "0  1.148055  "
      ]
     },
     "execution_count": 50,
     "metadata": {},
     "output_type": "execute_result"
    }
   ],
   "source": [
    "cp_metrics_df"
   ]
  },
  {
   "cell_type": "markdown",
   "id": "ed608b0b",
   "metadata": {
    "papermill": {
     "duration": 0.011817,
     "end_time": "2025-08-19T18:09:56.163550",
     "exception": false,
     "start_time": "2025-08-19T18:09:56.151733",
     "status": "completed"
    },
    "tags": []
   },
   "source": [
    "Conditional coverage & looking at subgroups"
   ]
  },
  {
   "cell_type": "code",
   "execution_count": 51,
   "id": "8968c366",
   "metadata": {
    "execution": {
     "iopub.execute_input": "2025-08-19T18:09:56.189142Z",
     "iopub.status.busy": "2025-08-19T18:09:56.188099Z",
     "iopub.status.idle": "2025-08-19T18:09:56.456628Z",
     "shell.execute_reply": "2025-08-19T18:09:56.455504Z"
    },
    "papermill": {
     "duration": 0.284635,
     "end_time": "2025-08-19T18:09:56.459651",
     "exception": false,
     "start_time": "2025-08-19T18:09:56.175016",
     "status": "completed"
    },
    "tags": []
   },
   "outputs": [],
   "source": [
    "from fairness_multiverse.conformal import build_cp_groups\n",
    "\n",
    "cp_groups_df = build_cp_groups(pred_sets, y_true, X_test.index, org_test)"
   ]
  },
  {
   "cell_type": "code",
   "execution_count": 52,
   "id": "292ddabf",
   "metadata": {
    "execution": {
     "iopub.execute_input": "2025-08-19T18:09:56.499475Z",
     "iopub.status.busy": "2025-08-19T18:09:56.498520Z",
     "iopub.status.idle": "2025-08-19T18:09:57.389799Z",
     "shell.execute_reply": "2025-08-19T18:09:57.389061Z"
    },
    "papermill": {
     "duration": 0.907731,
     "end_time": "2025-08-19T18:09:57.391712",
     "exception": false,
     "start_time": "2025-08-19T18:09:56.483981",
     "status": "completed"
    },
    "tags": []
   },
   "outputs": [],
   "source": [
    "# Define covered = 1 if true_label is in the predicted set\n",
    "cp_groups_df['covered'] = cp_groups_df.apply(\n",
    "    lambda r: int(r['true_label'] in r['pred_set']),\n",
    "    axis=1\n",
    ")"
   ]
  },
  {
   "cell_type": "code",
   "execution_count": 53,
   "id": "3a261692",
   "metadata": {
    "execution": {
     "iopub.execute_input": "2025-08-19T18:09:57.419877Z",
     "iopub.status.busy": "2025-08-19T18:09:57.419450Z",
     "iopub.status.idle": "2025-08-19T18:09:57.436318Z",
     "shell.execute_reply": "2025-08-19T18:09:57.435405Z"
    },
    "papermill": {
     "duration": 0.033698,
     "end_time": "2025-08-19T18:09:57.437888",
     "exception": false,
     "start_time": "2025-08-19T18:09:57.404190",
     "status": "completed"
    },
    "tags": []
   },
   "outputs": [],
   "source": [
    "subgroups = ['frau1','nongerman','nongerman_male','nongerman_female']\n",
    "\n",
    "# Conditional coverage for subgroup==1\n",
    "cond_coverage = {\n",
    "    g: cp_groups_df.loc[cp_groups_df[g]==1, 'covered'].mean()\n",
    "    for g in subgroups\n",
    "}"
   ]
  },
  {
   "cell_type": "code",
   "execution_count": 54,
   "id": "894fd600",
   "metadata": {
    "execution": {
     "iopub.execute_input": "2025-08-19T18:09:57.467509Z",
     "iopub.status.busy": "2025-08-19T18:09:57.466818Z",
     "iopub.status.idle": "2025-08-19T18:09:57.476320Z",
     "shell.execute_reply": "2025-08-19T18:09:57.475110Z"
    },
    "papermill": {
     "duration": 0.027713,
     "end_time": "2025-08-19T18:09:57.478081",
     "exception": false,
     "start_time": "2025-08-19T18:09:57.450368",
     "status": "completed"
    },
    "tags": []
   },
   "outputs": [
    {
     "data": {
      "text/plain": [
       "{'frau1': 0.9156490093004448,\n",
       " 'nongerman': 0.9086622129905125,\n",
       " 'nongerman_male': 0.9238944429433487,\n",
       " 'nongerman_female': 0.8834575260804769}"
      ]
     },
     "execution_count": 54,
     "metadata": {},
     "output_type": "execute_result"
    }
   ],
   "source": [
    "cond_coverage"
   ]
  },
  {
   "cell_type": "code",
   "execution_count": 55,
   "id": "942895c7",
   "metadata": {
    "execution": {
     "iopub.execute_input": "2025-08-19T18:09:57.510228Z",
     "iopub.status.busy": "2025-08-19T18:09:57.509520Z",
     "iopub.status.idle": "2025-08-19T18:09:57.520821Z",
     "shell.execute_reply": "2025-08-19T18:09:57.519392Z"
    },
    "papermill": {
     "duration": 0.028578,
     "end_time": "2025-08-19T18:09:57.522818",
     "exception": false,
     "start_time": "2025-08-19T18:09:57.494240",
     "status": "completed"
    },
    "tags": []
   },
   "outputs": [],
   "source": [
    "for subgroup, cov in cond_coverage.items():\n",
    "    cp_metrics_df[f\"cov_{subgroup}\"] = cov"
   ]
  },
  {
   "cell_type": "code",
   "execution_count": 56,
   "id": "3970120f",
   "metadata": {
    "execution": {
     "iopub.execute_input": "2025-08-19T18:09:57.569737Z",
     "iopub.status.busy": "2025-08-19T18:09:57.569043Z",
     "iopub.status.idle": "2025-08-19T18:09:57.593850Z",
     "shell.execute_reply": "2025-08-19T18:09:57.592890Z"
    },
    "papermill": {
     "duration": 0.048165,
     "end_time": "2025-08-19T18:09:57.598116",
     "exception": false,
     "start_time": "2025-08-19T18:09:57.549951",
     "status": "completed"
    },
    "tags": []
   },
   "outputs": [
    {
     "data": {
      "text/html": [
       "<div>\n",
       "<style scoped>\n",
       "    .dataframe tbody tr th:only-of-type {\n",
       "        vertical-align: middle;\n",
       "    }\n",
       "\n",
       "    .dataframe tbody tr th {\n",
       "        vertical-align: top;\n",
       "    }\n",
       "\n",
       "    .dataframe thead th {\n",
       "        text-align: right;\n",
       "    }\n",
       "</style>\n",
       "<table border=\"1\" class=\"dataframe\">\n",
       "  <thead>\n",
       "    <tr style=\"text-align: right;\">\n",
       "      <th></th>\n",
       "      <th>universe_id</th>\n",
       "      <th>universe_training_year</th>\n",
       "      <th>universe_training_size</th>\n",
       "      <th>universe_scale</th>\n",
       "      <th>universe_model</th>\n",
       "      <th>universe_exclude_features</th>\n",
       "      <th>universe_exclude_subgroups</th>\n",
       "      <th>q_hat</th>\n",
       "      <th>coverage</th>\n",
       "      <th>avg_size</th>\n",
       "      <th>cov_frau1</th>\n",
       "      <th>cov_nongerman</th>\n",
       "      <th>cov_nongerman_male</th>\n",
       "      <th>cov_nongerman_female</th>\n",
       "    </tr>\n",
       "  </thead>\n",
       "  <tbody>\n",
       "    <tr>\n",
       "      <th>0</th>\n",
       "      <td>3bf18228d7305e666a9ed0efdacc6518</td>\n",
       "      <td>2012_14</td>\n",
       "      <td>25k</td>\n",
       "      <td>do-not-scale</td>\n",
       "      <td>rf</td>\n",
       "      <td>none</td>\n",
       "      <td>drop-non-german</td>\n",
       "      <td>0.66</td>\n",
       "      <td>0.915639</td>\n",
       "      <td>1.148055</td>\n",
       "      <td>0.915649</td>\n",
       "      <td>0.908662</td>\n",
       "      <td>0.923894</td>\n",
       "      <td>0.883458</td>\n",
       "    </tr>\n",
       "  </tbody>\n",
       "</table>\n",
       "</div>"
      ],
      "text/plain": [
       "                        universe_id universe_training_year  \\\n",
       "0  3bf18228d7305e666a9ed0efdacc6518                2012_14   \n",
       "\n",
       "  universe_training_size universe_scale universe_model  \\\n",
       "0                    25k   do-not-scale             rf   \n",
       "\n",
       "  universe_exclude_features universe_exclude_subgroups  q_hat  coverage  \\\n",
       "0                      none            drop-non-german   0.66  0.915639   \n",
       "\n",
       "   avg_size  cov_frau1  cov_nongerman  cov_nongerman_male  \\\n",
       "0  1.148055   0.915649       0.908662            0.923894   \n",
       "\n",
       "   cov_nongerman_female  \n",
       "0              0.883458  "
      ]
     },
     "execution_count": 56,
     "metadata": {},
     "output_type": "execute_result"
    }
   ],
   "source": [
    "cp_metrics_df"
   ]
  },
  {
   "cell_type": "markdown",
   "id": "3fc519cc",
   "metadata": {
    "papermill": {
     "duration": 0.012539,
     "end_time": "2025-08-19T18:09:57.631883",
     "exception": false,
     "start_time": "2025-08-19T18:09:57.619344",
     "status": "completed"
    },
    "tags": []
   },
   "source": [
    "# (Fairness) Metrics"
   ]
  },
  {
   "cell_type": "code",
   "execution_count": 57,
   "id": "a2e5e155",
   "metadata": {
    "execution": {
     "iopub.execute_input": "2025-08-19T18:09:57.658973Z",
     "iopub.status.busy": "2025-08-19T18:09:57.658287Z",
     "iopub.status.idle": "2025-08-19T18:09:57.684902Z",
     "shell.execute_reply": "2025-08-19T18:09:57.683878Z"
    },
    "papermill": {
     "duration": 0.043107,
     "end_time": "2025-08-19T18:09:57.687141",
     "exception": false,
     "start_time": "2025-08-19T18:09:57.644034",
     "status": "completed"
    },
    "tags": []
   },
   "outputs": [],
   "source": [
    "colname_to_bin = \"maxdeutsch1\"\n",
    "majority_value = org_train[colname_to_bin].mode()[0]\n",
    "\n",
    "org_test[\"majmin\"] = np.where(org_test[colname_to_bin] == majority_value, \"majority\", \"minority\")"
   ]
  },
  {
   "cell_type": "code",
   "execution_count": 58,
   "id": "17e3e4d5",
   "metadata": {
    "execution": {
     "iopub.execute_input": "2025-08-19T18:09:57.726747Z",
     "iopub.status.busy": "2025-08-19T18:09:57.726112Z",
     "iopub.status.idle": "2025-08-19T18:09:59.412217Z",
     "shell.execute_reply": "2025-08-19T18:09:59.409995Z"
    },
    "papermill": {
     "duration": 1.703282,
     "end_time": "2025-08-19T18:09:59.414263",
     "exception": false,
     "start_time": "2025-08-19T18:09:57.710981",
     "status": "completed"
    },
    "tags": []
   },
   "outputs": [],
   "source": [
    "example_universe = universe.copy()\n",
    "example_universe[\"cutoff\"] = example_universe[\"cutoff\"][0]\n",
    "example_universe[\"eval_fairness_grouping\"] = example_universe[\"eval_fairness_grouping\"][0]\n",
    "fairness_dict, metric_frame = universe_analysis.compute_metrics(\n",
    "    example_universe,\n",
    "    y_pred_prob=probs_test,\n",
    "    y_test=y_true,\n",
    "    org_test=org_test,\n",
    ")"
   ]
  },
  {
   "cell_type": "markdown",
   "id": "1fb7a0e9",
   "metadata": {
    "papermill": {
     "duration": 0.012286,
     "end_time": "2025-08-19T18:09:59.442497",
     "exception": false,
     "start_time": "2025-08-19T18:09:59.430211",
     "status": "completed"
    },
    "tags": []
   },
   "source": [
    "# Overall"
   ]
  },
  {
   "cell_type": "markdown",
   "id": "be1784b1",
   "metadata": {
    "papermill": {
     "duration": 0.012005,
     "end_time": "2025-08-19T18:09:59.466996",
     "exception": false,
     "start_time": "2025-08-19T18:09:59.454991",
     "status": "completed"
    },
    "tags": []
   },
   "source": [
    "Main fairness target: Equalized Odds. Seems to be a better fit than equal opportunity, since we're not only interested in Y = 1. Seems to be a better fit than demographic parity, since we also care about accuracy, not just equal distribution of preds.\n",
    "\n",
    "Pick column for computation of fairness metrics\n",
    "\n",
    "Performance\n",
    "Overall performance measures, most interesting in relation to the measures split by group below"
   ]
  },
  {
   "cell_type": "code",
   "execution_count": 59,
   "id": "b7672bee",
   "metadata": {
    "execution": {
     "iopub.execute_input": "2025-08-19T18:09:59.494622Z",
     "iopub.status.busy": "2025-08-19T18:09:59.493477Z",
     "iopub.status.idle": "2025-08-19T18:09:59.508215Z",
     "shell.execute_reply": "2025-08-19T18:09:59.507097Z"
    },
    "papermill": {
     "duration": 0.030869,
     "end_time": "2025-08-19T18:09:59.509891",
     "exception": false,
     "start_time": "2025-08-19T18:09:59.479022",
     "status": "completed"
    },
    "tags": []
   },
   "outputs": [
    {
     "data": {
      "text/plain": [
       "accuracy                   0.191562\n",
       "balanced accuracy          0.528812\n",
       "f1                         0.237678\n",
       "precision                  0.135192\n",
       "false positive rate        0.924823\n",
       "false negative rate        0.017553\n",
       "selection rate             0.932215\n",
       "count                  89710.000000\n",
       "dtype: float64"
      ]
     },
     "execution_count": 59,
     "metadata": {},
     "output_type": "execute_result"
    }
   ],
   "source": [
    "metric_frame.overall"
   ]
  },
  {
   "cell_type": "markdown",
   "id": "d93333c9",
   "metadata": {
    "papermill": {
     "duration": 0.012184,
     "end_time": "2025-08-19T18:09:59.537323",
     "exception": false,
     "start_time": "2025-08-19T18:09:59.525139",
     "status": "completed"
    },
    "tags": []
   },
   "source": [
    "By Group"
   ]
  },
  {
   "cell_type": "code",
   "execution_count": 60,
   "id": "52256966",
   "metadata": {
    "execution": {
     "iopub.execute_input": "2025-08-19T18:09:59.563983Z",
     "iopub.status.busy": "2025-08-19T18:09:59.562980Z",
     "iopub.status.idle": "2025-08-19T18:09:59.585719Z",
     "shell.execute_reply": "2025-08-19T18:09:59.584616Z"
    },
    "papermill": {
     "duration": 0.037977,
     "end_time": "2025-08-19T18:09:59.587379",
     "exception": false,
     "start_time": "2025-08-19T18:09:59.549402",
     "status": "completed"
    },
    "tags": []
   },
   "outputs": [
    {
     "data": {
      "text/html": [
       "<div>\n",
       "<style scoped>\n",
       "    .dataframe tbody tr th:only-of-type {\n",
       "        vertical-align: middle;\n",
       "    }\n",
       "\n",
       "    .dataframe tbody tr th {\n",
       "        vertical-align: top;\n",
       "    }\n",
       "\n",
       "    .dataframe thead th {\n",
       "        text-align: right;\n",
       "    }\n",
       "</style>\n",
       "<table border=\"1\" class=\"dataframe\">\n",
       "  <thead>\n",
       "    <tr style=\"text-align: right;\">\n",
       "      <th></th>\n",
       "      <th>accuracy</th>\n",
       "      <th>balanced accuracy</th>\n",
       "      <th>f1</th>\n",
       "      <th>precision</th>\n",
       "      <th>false positive rate</th>\n",
       "      <th>false negative rate</th>\n",
       "      <th>selection rate</th>\n",
       "      <th>count</th>\n",
       "    </tr>\n",
       "    <tr>\n",
       "      <th>majmin</th>\n",
       "      <th></th>\n",
       "      <th></th>\n",
       "      <th></th>\n",
       "      <th></th>\n",
       "      <th></th>\n",
       "      <th></th>\n",
       "      <th></th>\n",
       "      <th></th>\n",
       "    </tr>\n",
       "  </thead>\n",
       "  <tbody>\n",
       "    <tr>\n",
       "      <th>majority</th>\n",
       "      <td>0.190386</td>\n",
       "      <td>0.529709</td>\n",
       "      <td>0.244404</td>\n",
       "      <td>0.139392</td>\n",
       "      <td>0.931501</td>\n",
       "      <td>0.009081</td>\n",
       "      <td>0.939352</td>\n",
       "      <td>69170.0</td>\n",
       "    </tr>\n",
       "    <tr>\n",
       "      <th>minority</th>\n",
       "      <td>0.195521</td>\n",
       "      <td>0.523492</td>\n",
       "      <td>0.213966</td>\n",
       "      <td>0.120564</td>\n",
       "      <td>0.902762</td>\n",
       "      <td>0.050253</td>\n",
       "      <td>0.908179</td>\n",
       "      <td>20540.0</td>\n",
       "    </tr>\n",
       "  </tbody>\n",
       "</table>\n",
       "</div>"
      ],
      "text/plain": [
       "          accuracy  balanced accuracy        f1  precision  \\\n",
       "majmin                                                       \n",
       "majority  0.190386           0.529709  0.244404   0.139392   \n",
       "minority  0.195521           0.523492  0.213966   0.120564   \n",
       "\n",
       "          false positive rate  false negative rate  selection rate    count  \n",
       "majmin                                                                       \n",
       "majority             0.931501             0.009081        0.939352  69170.0  \n",
       "minority             0.902762             0.050253        0.908179  20540.0  "
      ]
     },
     "execution_count": 60,
     "metadata": {},
     "output_type": "execute_result"
    }
   ],
   "source": [
    "metric_frame.by_group"
   ]
  },
  {
   "cell_type": "code",
   "execution_count": 61,
   "id": "6e6c20ae",
   "metadata": {
    "execution": {
     "iopub.execute_input": "2025-08-19T18:09:59.621524Z",
     "iopub.status.busy": "2025-08-19T18:09:59.620393Z",
     "iopub.status.idle": "2025-08-19T18:10:01.481508Z",
     "shell.execute_reply": "2025-08-19T18:10:01.480126Z"
    },
    "papermill": {
     "duration": 1.877311,
     "end_time": "2025-08-19T18:10:01.483429",
     "exception": false,
     "start_time": "2025-08-19T18:09:59.606118",
     "status": "completed"
    },
    "tags": []
   },
   "outputs": [
    {
     "data": {
      "text/plain": [
       "array([[<Axes: title={'center': 'accuracy'}, xlabel='majmin'>,\n",
       "        <Axes: title={'center': 'balanced accuracy'}, xlabel='majmin'>,\n",
       "        <Axes: title={'center': 'f1'}, xlabel='majmin'>],\n",
       "       [<Axes: title={'center': 'precision'}, xlabel='majmin'>,\n",
       "        <Axes: title={'center': 'false positive rate'}, xlabel='majmin'>,\n",
       "        <Axes: title={'center': 'false negative rate'}, xlabel='majmin'>],\n",
       "       [<Axes: title={'center': 'selection rate'}, xlabel='majmin'>,\n",
       "        <Axes: title={'center': 'count'}, xlabel='majmin'>,\n",
       "        <Axes: xlabel='majmin'>]], dtype=object)"
      ]
     },
     "execution_count": 61,
     "metadata": {},
     "output_type": "execute_result"
    },
    {
     "data": {
      "image/png": "[encoded data removed]",
      "text/plain": [
       "<Figure size 1200x800 with 9 Axes>"
      ]
     },
     "metadata": {},
     "output_type": "display_data"
    }
   ],
   "source": [
    "# In a graphic\n",
    "metric_frame.by_group.plot.bar(\n",
    "    subplots=True,\n",
    "    layout=[3, 3],\n",
    "    legend=False,\n",
    "    figsize=[12, 8],\n",
    "    title=\"Show all metrics\",\n",
    ")"
   ]
  },
  {
   "cell_type": "markdown",
   "id": "b2e433ae",
   "metadata": {
    "papermill": {
     "duration": 0.013535,
     "end_time": "2025-08-19T18:10:01.512644",
     "exception": false,
     "start_time": "2025-08-19T18:10:01.499109",
     "status": "completed"
    },
    "tags": []
   },
   "source": [
    "# Final Output"
   ]
  },
  {
   "cell_type": "code",
   "execution_count": 62,
   "id": "3871301e",
   "metadata": {
    "execution": {
     "iopub.execute_input": "2025-08-19T18:10:01.544085Z",
     "iopub.status.busy": "2025-08-19T18:10:01.541837Z",
     "iopub.status.idle": "2025-08-19T18:10:01.561718Z",
     "shell.execute_reply": "2025-08-19T18:10:01.560537Z"
    },
    "papermill": {
     "duration": 0.037632,
     "end_time": "2025-08-19T18:10:01.563677",
     "exception": false,
     "start_time": "2025-08-19T18:10:01.526045",
     "status": "completed"
    },
    "tags": []
   },
   "outputs": [
    {
     "data": {
      "text/plain": [
       "4"
      ]
     },
     "execution_count": 62,
     "metadata": {},
     "output_type": "execute_result"
    }
   ],
   "source": [
    "sub_universes = universe_analysis.generate_sub_universes()\n",
    "len(sub_universes)"
   ]
  },
  {
   "cell_type": "code",
   "execution_count": 63,
   "id": "d9cfdaca",
   "metadata": {
    "execution": {
     "iopub.execute_input": "2025-08-19T18:10:01.606347Z",
     "iopub.status.busy": "2025-08-19T18:10:01.604112Z",
     "iopub.status.idle": "2025-08-19T18:10:01.619870Z",
     "shell.execute_reply": "2025-08-19T18:10:01.618695Z"
    },
    "papermill": {
     "duration": 0.038814,
     "end_time": "2025-08-19T18:10:01.622027",
     "exception": false,
     "start_time": "2025-08-19T18:10:01.583213",
     "status": "completed"
    },
    "tags": []
   },
   "outputs": [],
   "source": [
    "def filter_sub_universe_data(sub_universe, org_test):\n",
    "    # Keep all rows — no filtering\n",
    "    keep_rows_mask = np.ones(org_test.shape[0], dtype=bool)\n",
    "\n",
    "    print(f\"[INFO] Keeping all rows: {keep_rows_mask.sum()} rows retained.\")\n",
    "    return keep_rows_mask"
   ]
  },
  {
   "cell_type": "code",
   "execution_count": 64,
   "id": "2bc31ac1",
   "metadata": {
    "execution": {
     "iopub.execute_input": "2025-08-19T18:10:01.658935Z",
     "iopub.status.busy": "2025-08-19T18:10:01.657919Z",
     "iopub.status.idle": "2025-08-19T18:10:08.360035Z",
     "shell.execute_reply": "2025-08-19T18:10:08.358998Z"
    },
    "papermill": {
     "duration": 6.719698,
     "end_time": "2025-08-19T18:10:08.361797",
     "exception": false,
     "start_time": "2025-08-19T18:10:01.642099",
     "status": "completed"
    },
    "tags": []
   },
   "outputs": [
    {
     "name": "stdout",
     "output_type": "stream",
     "text": [
      "Stopping execution_time clock.\n",
      "[INFO] Keeping all rows: 89710 rows retained.\n"
     ]
    },
    {
     "name": "stdout",
     "output_type": "stream",
     "text": [
      "[INFO] Keeping all rows: 89710 rows retained.\n"
     ]
    },
    {
     "name": "stdout",
     "output_type": "stream",
     "text": [
      "[INFO] Keeping all rows: 89710 rows retained.\n"
     ]
    },
    {
     "name": "stdout",
     "output_type": "stream",
     "text": [
      "[INFO] Keeping all rows: 89710 rows retained.\n"
     ]
    },
    {
     "data": {
      "text/html": [
       "<div>\n",
       "<style scoped>\n",
       "    .dataframe tbody tr th:only-of-type {\n",
       "        vertical-align: middle;\n",
       "    }\n",
       "\n",
       "    .dataframe tbody tr th {\n",
       "        vertical-align: top;\n",
       "    }\n",
       "\n",
       "    .dataframe thead th {\n",
       "        text-align: right;\n",
       "    }\n",
       "</style>\n",
       "<table border=\"1\" class=\"dataframe\">\n",
       "  <thead>\n",
       "    <tr style=\"text-align: right;\">\n",
       "      <th></th>\n",
       "      <th>run_no</th>\n",
       "      <th>universe_id</th>\n",
       "      <th>universe_settings</th>\n",
       "      <th>execution_time</th>\n",
       "      <th>test_size_n</th>\n",
       "      <th>test_size_frac</th>\n",
       "      <th>fair_main_equalized_odds_difference</th>\n",
       "      <th>fair_main_equalized_odds_ratio</th>\n",
       "      <th>fair_main_demographic_parity_difference</th>\n",
       "      <th>fair_main_demographic_parity_ratio</th>\n",
       "      <th>...</th>\n",
       "      <th>perf_grp_precision_0</th>\n",
       "      <th>perf_grp_precision_1</th>\n",
       "      <th>perf_grp_false positive rate_0</th>\n",
       "      <th>perf_grp_false positive rate_1</th>\n",
       "      <th>perf_grp_false negative rate_0</th>\n",
       "      <th>perf_grp_false negative rate_1</th>\n",
       "      <th>perf_grp_selection rate_0</th>\n",
       "      <th>perf_grp_selection rate_1</th>\n",
       "      <th>perf_grp_count_0</th>\n",
       "      <th>perf_grp_count_1</th>\n",
       "    </tr>\n",
       "  </thead>\n",
       "  <tbody>\n",
       "    <tr>\n",
       "      <th>0</th>\n",
       "      <td>3</td>\n",
       "      <td>3bf18228d7305e666a9ed0efdacc6518</td>\n",
       "      <td>{\"cutoff\": \"quantile_0.1\", \"eval_fairness_grou...</td>\n",
       "      <td>38.122058</td>\n",
       "      <td>89710</td>\n",
       "      <td>1.0</td>\n",
       "      <td>0.041172</td>\n",
       "      <td>0.958450</td>\n",
       "      <td>0.031173</td>\n",
       "      <td>0.966814</td>\n",
       "      <td>...</td>\n",
       "      <td>NaN</td>\n",
       "      <td>NaN</td>\n",
       "      <td>NaN</td>\n",
       "      <td>NaN</td>\n",
       "      <td>NaN</td>\n",
       "      <td>NaN</td>\n",
       "      <td>NaN</td>\n",
       "      <td>NaN</td>\n",
       "      <td>NaN</td>\n",
       "      <td>NaN</td>\n",
       "    </tr>\n",
       "    <tr>\n",
       "      <th>0</th>\n",
       "      <td>3</td>\n",
       "      <td>3bf18228d7305e666a9ed0efdacc6518</td>\n",
       "      <td>{\"cutoff\": \"quantile_0.1\", \"eval_fairness_grou...</td>\n",
       "      <td>38.122058</td>\n",
       "      <td>89710</td>\n",
       "      <td>1.0</td>\n",
       "      <td>0.041172</td>\n",
       "      <td>0.958450</td>\n",
       "      <td>0.031173</td>\n",
       "      <td>0.966814</td>\n",
       "      <td>...</td>\n",
       "      <td>0.120564</td>\n",
       "      <td>0.139392</td>\n",
       "      <td>0.902762</td>\n",
       "      <td>0.931501</td>\n",
       "      <td>0.050253</td>\n",
       "      <td>0.009081</td>\n",
       "      <td>0.908179</td>\n",
       "      <td>0.939352</td>\n",
       "      <td>20540.0</td>\n",
       "      <td>69170.0</td>\n",
       "    </tr>\n",
       "    <tr>\n",
       "      <th>0</th>\n",
       "      <td>3</td>\n",
       "      <td>3bf18228d7305e666a9ed0efdacc6518</td>\n",
       "      <td>{\"cutoff\": \"quantile_0.25\", \"eval_fairness_gro...</td>\n",
       "      <td>38.122058</td>\n",
       "      <td>89710</td>\n",
       "      <td>1.0</td>\n",
       "      <td>0.083549</td>\n",
       "      <td>0.912876</td>\n",
       "      <td>0.040317</td>\n",
       "      <td>0.949146</td>\n",
       "      <td>...</td>\n",
       "      <td>NaN</td>\n",
       "      <td>NaN</td>\n",
       "      <td>NaN</td>\n",
       "      <td>NaN</td>\n",
       "      <td>NaN</td>\n",
       "      <td>NaN</td>\n",
       "      <td>NaN</td>\n",
       "      <td>NaN</td>\n",
       "      <td>NaN</td>\n",
       "      <td>NaN</td>\n",
       "    </tr>\n",
       "    <tr>\n",
       "      <th>0</th>\n",
       "      <td>3</td>\n",
       "      <td>3bf18228d7305e666a9ed0efdacc6518</td>\n",
       "      <td>{\"cutoff\": \"quantile_0.25\", \"eval_fairness_gro...</td>\n",
       "      <td>38.122058</td>\n",
       "      <td>89710</td>\n",
       "      <td>1.0</td>\n",
       "      <td>0.083549</td>\n",
       "      <td>0.912876</td>\n",
       "      <td>0.040317</td>\n",
       "      <td>0.949146</td>\n",
       "      <td>...</td>\n",
       "      <td>0.134123</td>\n",
       "      <td>0.159834</td>\n",
       "      <td>0.736463</td>\n",
       "      <td>0.767500</td>\n",
       "      <td>0.124578</td>\n",
       "      <td>0.041028</td>\n",
       "      <td>0.752483</td>\n",
       "      <td>0.792800</td>\n",
       "      <td>20540.0</td>\n",
       "      <td>69170.0</td>\n",
       "    </tr>\n",
       "  </tbody>\n",
       "</table>\n",
       "<p>4 rows × 50 columns</p>\n",
       "</div>"
      ],
      "text/plain": [
       "  run_no                       universe_id  \\\n",
       "0      3  3bf18228d7305e666a9ed0efdacc6518   \n",
       "0      3  3bf18228d7305e666a9ed0efdacc6518   \n",
       "0      3  3bf18228d7305e666a9ed0efdacc6518   \n",
       "0      3  3bf18228d7305e666a9ed0efdacc6518   \n",
       "\n",
       "                                   universe_settings  execution_time  \\\n",
       "0  {\"cutoff\": \"quantile_0.1\", \"eval_fairness_grou...       38.122058   \n",
       "0  {\"cutoff\": \"quantile_0.1\", \"eval_fairness_grou...       38.122058   \n",
       "0  {\"cutoff\": \"quantile_0.25\", \"eval_fairness_gro...       38.122058   \n",
       "0  {\"cutoff\": \"quantile_0.25\", \"eval_fairness_gro...       38.122058   \n",
       "\n",
       "   test_size_n  test_size_frac  fair_main_equalized_odds_difference  \\\n",
       "0        89710             1.0                             0.041172   \n",
       "0        89710             1.0                             0.041172   \n",
       "0        89710             1.0                             0.083549   \n",
       "0        89710             1.0                             0.083549   \n",
       "\n",
       "   fair_main_equalized_odds_ratio  fair_main_demographic_parity_difference  \\\n",
       "0                        0.958450                                 0.031173   \n",
       "0                        0.958450                                 0.031173   \n",
       "0                        0.912876                                 0.040317   \n",
       "0                        0.912876                                 0.040317   \n",
       "\n",
       "   fair_main_demographic_parity_ratio  ...  perf_grp_precision_0  \\\n",
       "0                            0.966814  ...                   NaN   \n",
       "0                            0.966814  ...              0.120564   \n",
       "0                            0.949146  ...                   NaN   \n",
       "0                            0.949146  ...              0.134123   \n",
       "\n",
       "   perf_grp_precision_1  perf_grp_false positive rate_0  \\\n",
       "0                   NaN                             NaN   \n",
       "0              0.139392                        0.902762   \n",
       "0                   NaN                             NaN   \n",
       "0              0.159834                        0.736463   \n",
       "\n",
       "   perf_grp_false positive rate_1  perf_grp_false negative rate_0  \\\n",
       "0                             NaN                             NaN   \n",
       "0                        0.931501                        0.050253   \n",
       "0                             NaN                             NaN   \n",
       "0                        0.767500                        0.124578   \n",
       "\n",
       "   perf_grp_false negative rate_1  perf_grp_selection rate_0  \\\n",
       "0                             NaN                        NaN   \n",
       "0                        0.009081                   0.908179   \n",
       "0                             NaN                        NaN   \n",
       "0                        0.041028                   0.752483   \n",
       "\n",
       "   perf_grp_selection rate_1  perf_grp_count_0  perf_grp_count_1  \n",
       "0                        NaN               NaN               NaN  \n",
       "0                   0.939352           20540.0           69170.0  \n",
       "0                        NaN               NaN               NaN  \n",
       "0                   0.792800           20540.0           69170.0  \n",
       "\n",
       "[4 rows x 50 columns]"
      ]
     },
     "execution_count": 64,
     "metadata": {},
     "output_type": "execute_result"
    }
   ],
   "source": [
    "final_output = universe_analysis.generate_final_output(\n",
    "    y_pred_prob=probs_test,\n",
    "    y_test=y_true,\n",
    "    org_test=org_test,\n",
    "    filter_data=filter_sub_universe_data,\n",
    "    cp_metrics_df=cp_metrics_df,\n",
    "    save=True,\n",
    ")\n",
    "final_output"
   ]
  },
  {
   "cell_type": "code",
   "execution_count": null,
   "id": "8b80a1ff",
   "metadata": {
    "papermill": {
     "duration": 0.014936,
     "end_time": "2025-08-19T18:10:08.396333",
     "exception": false,
     "start_time": "2025-08-19T18:10:08.381397",
     "status": "completed"
    },
    "tags": []
   },
   "outputs": [],
   "source": []
  },
  {
   "cell_type": "code",
   "execution_count": null,
   "id": "275c9fad",
   "metadata": {
    "papermill": {
     "duration": 0.01426,
     "end_time": "2025-08-19T18:10:08.424948",
     "exception": false,
     "start_time": "2025-08-19T18:10:08.410688",
     "status": "completed"
    },
    "tags": []
   },
   "outputs": [],
   "source": []
  }
 ],
 "metadata": {
  "celltoolbar": "Tags",
  "kernelspec": {
   "display_name": "Python (CMA Fairness)",
   "language": "python",
   "name": "cma_fair_env"
  },
  "language_info": {
   "codemirror_mode": {
    "name": "ipython",
    "version": 3
   },
   "file_extension": ".py",
   "mimetype": "text/x-python",
   "name": "python",
   "nbconvert_exporter": "python",
   "pygments_lexer": "ipython3",
   "version": "3.10.12"
  },
  "papermill": {
   "default_parameters": {},
   "duration": 48.406442,
   "end_time": "2025-08-19T18:10:09.262737",
   "environment_variables": {},
   "exception": null,
   "input_path": "universe_analysis.ipynb",
   "output_path": "output/runs/3/notebooks/m_3-3bf18228d7305e666a9ed0efdacc6518.ipynb",
   "parameters": {
    "output_dir": "output",
    "run_no": "3",
    "seed": "2023",
    "universe": "{\"cutoff\": [\"quantile_0.1\", \"quantile_0.25\"], \"eval_fairness_grouping\": [\"majority-minority\", \"nationality-all\"], \"exclude_features\": \"none\", \"exclude_subgroups\": \"drop-non-german\", \"model\": \"rf\", \"scale\": \"do-not-scale\", \"training_size\": \"25k\", \"training_year\": \"2012_14\"}",
    "universe_id": "3bf18228d7305e666a9ed0efdacc6518"
   },
   "start_time": "2025-08-19T18:09:20.856295",
   "version": "2.6.0"
  }
 },
 "nbformat": 4,
 "nbformat_minor": 5
}