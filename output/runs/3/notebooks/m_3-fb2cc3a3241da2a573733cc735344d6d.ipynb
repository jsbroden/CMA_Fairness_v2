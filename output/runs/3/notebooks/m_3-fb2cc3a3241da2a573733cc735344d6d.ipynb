{
 "cells": [
  {
   "cell_type": "markdown",
   "id": "ef23dbb3",
   "metadata": {
    "papermill": {
     "duration": 0.021921,
     "end_time": "2025-08-19T18:54:45.912679",
     "exception": false,
     "start_time": "2025-08-19T18:54:45.890758",
     "status": "completed"
    },
    "tags": []
   },
   "source": [
    "# Setup"
   ]
  },
  {
   "cell_type": "code",
   "execution_count": 1,
   "id": "0bc8e7dc",
   "metadata": {
    "execution": {
     "iopub.execute_input": "2025-08-19T18:54:45.934721Z",
     "iopub.status.busy": "2025-08-19T18:54:45.934303Z",
     "iopub.status.idle": "2025-08-19T18:54:45.943765Z",
     "shell.execute_reply": "2025-08-19T18:54:45.943065Z"
    },
    "papermill": {
     "duration": 0.021978,
     "end_time": "2025-08-19T18:54:45.946323",
     "exception": false,
     "start_time": "2025-08-19T18:54:45.924345",
     "status": "completed"
    },
    "tags": []
   },
   "outputs": [
    {
     "name": "stdout",
     "output_type": "stream",
     "text": [
      "/dss/dsshome1/0C/ra93lal2/cma/CMA_Fairness_v2\n"
     ]
    },
    {
     "name": "stderr",
     "output_type": "stream",
     "text": [
      "/dss/dsshome1/0C/ra93lal2/.local/share/virtualenvs/CMA_Fairness_v2-3j10GkSs/lib/python3.10/site-packages/IPython/core/magics/osm.py:393: UserWarning: This is now an optional IPython functionality, using bookmarks requires you to install the `pickleshare` library.\n",
      "  bkms = self.shell.db.get('bookmarks', {})\n",
      "/dss/dsshome1/0C/ra93lal2/.local/share/virtualenvs/CMA_Fairness_v2-3j10GkSs/lib/python3.10/site-packages/IPython/core/magics/osm.py:417: UserWarning: This is now an optional IPython functionality, setting dhist requires you to install the `pickleshare` library.\n",
      "  self.shell.db['dhist'] = compress_dhist(dhist)[-100:]\n"
     ]
    }
   ],
   "source": [
    "%cd ~/cma/CMA_Fairness_v2"
   ]
  },
  {
   "cell_type": "markdown",
   "id": "9d235661",
   "metadata": {
    "papermill": {
     "duration": 0.009451,
     "end_time": "2025-08-19T18:54:45.966240",
     "exception": false,
     "start_time": "2025-08-19T18:54:45.956789",
     "status": "completed"
    },
    "tags": []
   },
   "source": [
    "The following cell holds the definition of our parameters, these values can be overriden by rendering the with e.g. the following command:\n",
    "\n",
    "papermill -p alpha 0.2 -p ratio 0.3 universe_analysis.ipynb output/test_run.ipynb"
   ]
  },
  {
   "cell_type": "code",
   "execution_count": 2,
   "id": "4a789d8e",
   "metadata": {
    "execution": {
     "iopub.execute_input": "2025-08-19T18:54:45.986703Z",
     "iopub.status.busy": "2025-08-19T18:54:45.985938Z",
     "iopub.status.idle": "2025-08-19T18:54:45.992043Z",
     "shell.execute_reply": "2025-08-19T18:54:45.991070Z"
    },
    "papermill": {
     "duration": 0.017973,
     "end_time": "2025-08-19T18:54:45.993407",
     "exception": false,
     "start_time": "2025-08-19T18:54:45.975434",
     "status": "completed"
    },
    "tags": []
   },
   "outputs": [
    {
     "name": "stdout",
     "output_type": "stream",
     "text": [
      "Current working directory: /dss/dsshome1/0C/ra93lal2/cma/CMA_Fairness_v2\n"
     ]
    }
   ],
   "source": [
    "import os\n",
    "print(\"Current working directory:\", os.getcwd())"
   ]
  },
  {
   "cell_type": "code",
   "execution_count": 3,
   "id": "4132aaed",
   "metadata": {
    "execution": {
     "iopub.execute_input": "2025-08-19T18:54:46.013340Z",
     "iopub.status.busy": "2025-08-19T18:54:46.012950Z",
     "iopub.status.idle": "2025-08-19T18:54:46.041291Z",
     "shell.execute_reply": "2025-08-19T18:54:46.040357Z"
    },
    "papermill": {
     "duration": 0.041152,
     "end_time": "2025-08-19T18:54:46.043951",
     "exception": false,
     "start_time": "2025-08-19T18:54:46.002799",
     "status": "completed"
    },
    "tags": [
     "parameters"
    ]
   },
   "outputs": [],
   "source": [
    "run_no = 0\n",
    "universe_id = \"test\"\n",
    "universe = {\n",
    "    \"training_size\": \"5k\", # \"25k\", \"5k\", \"1k\"\n",
    "    \"training_year\": \"2012_14\", # \"2014\", \"2012_14\", \"2010_14\"\n",
    "    \"scale\": \"scale\", # \"scale\", \"do-not-scale\",\n",
    "    \"model\": \"elasticnet\", # \"logreg\", \"penalized_logreg\", \"rf\", \"gbm\", \"elasticnet\"\n",
    "    \"cutoff\": [\"quantile_0.15\", \"quantile_0.30\"],\n",
    "    \"exclude_features\": \"age\", # \"none\", \"nationality\", \"sex\", \"nationality-sex\", \"age\"\n",
    "    \"exclude_subgroups\": \"drop-non-german\", # \"keep-all\", \"drop-non-german\"\n",
    "    \"eval_fairness_grouping\": [\"majority-minority\", \"nationality-all\"]\n",
    "}\n",
    "\n",
    "output_dir=\"./output\"\n",
    "seed=0"
   ]
  },
  {
   "cell_type": "code",
   "execution_count": 4,
   "id": "b6f19f7a",
   "metadata": {
    "execution": {
     "iopub.execute_input": "2025-08-19T18:54:46.076136Z",
     "iopub.status.busy": "2025-08-19T18:54:46.075659Z",
     "iopub.status.idle": "2025-08-19T18:54:46.079994Z",
     "shell.execute_reply": "2025-08-19T18:54:46.079297Z"
    },
    "papermill": {
     "duration": 0.017932,
     "end_time": "2025-08-19T18:54:46.081555",
     "exception": false,
     "start_time": "2025-08-19T18:54:46.063623",
     "status": "completed"
    },
    "tags": [
     "injected-parameters"
    ]
   },
   "outputs": [],
   "source": [
    "# Parameters\n",
    "universe_id = \"fb2cc3a3241da2a573733cc735344d6d\"\n",
    "run_no = \"3\"\n",
    "universe = \"{\\\"cutoff\\\": [\\\"quantile_0.1\\\", \\\"quantile_0.25\\\"], \\\"eval_fairness_grouping\\\": [\\\"majority-minority\\\", \\\"nationality-all\\\"], \\\"exclude_features\\\": \\\"age\\\", \\\"exclude_subgroups\\\": \\\"drop-non-german\\\", \\\"model\\\": \\\"rf\\\", \\\"scale\\\": \\\"do-not-scale\\\", \\\"training_size\\\": \\\"1k\\\", \\\"training_year\\\": \\\"2014\\\"}\"\n",
    "output_dir = \"output\"\n",
    "seed = \"2023\"\n"
   ]
  },
  {
   "cell_type": "code",
   "execution_count": 5,
   "id": "a5d7941f",
   "metadata": {
    "execution": {
     "iopub.execute_input": "2025-08-19T18:54:46.102652Z",
     "iopub.status.busy": "2025-08-19T18:54:46.102016Z",
     "iopub.status.idle": "2025-08-19T18:54:46.106956Z",
     "shell.execute_reply": "2025-08-19T18:54:46.106084Z"
    },
    "papermill": {
     "duration": 0.016553,
     "end_time": "2025-08-19T18:54:46.108215",
     "exception": false,
     "start_time": "2025-08-19T18:54:46.091662",
     "status": "completed"
    },
    "tags": []
   },
   "outputs": [],
   "source": [
    "import json\n",
    "if isinstance(universe, str):\n",
    "    universe = json.loads(universe)"
   ]
  },
  {
   "cell_type": "code",
   "execution_count": 6,
   "id": "7076ccb1",
   "metadata": {
    "execution": {
     "iopub.execute_input": "2025-08-19T18:54:46.130488Z",
     "iopub.status.busy": "2025-08-19T18:54:46.129455Z",
     "iopub.status.idle": "2025-08-19T18:54:46.178864Z",
     "shell.execute_reply": "2025-08-19T18:54:46.177989Z"
    },
    "papermill": {
     "duration": 0.063938,
     "end_time": "2025-08-19T18:54:46.182363",
     "exception": false,
     "start_time": "2025-08-19T18:54:46.118425",
     "status": "completed"
    },
    "tags": []
   },
   "outputs": [],
   "source": [
    "# Auto-reload the custom package\n",
    "%load_ext autoreload\n",
    "%autoreload 1\n",
    "%aimport fairness_multiverse"
   ]
  },
  {
   "cell_type": "code",
   "execution_count": 7,
   "id": "94c8eb93",
   "metadata": {
    "execution": {
     "iopub.execute_input": "2025-08-19T18:54:46.223706Z",
     "iopub.status.busy": "2025-08-19T18:54:46.221844Z",
     "iopub.status.idle": "2025-08-19T18:54:47.712757Z",
     "shell.execute_reply": "2025-08-19T18:54:47.711655Z"
    },
    "papermill": {
     "duration": 1.50984,
     "end_time": "2025-08-19T18:54:47.714692",
     "exception": false,
     "start_time": "2025-08-19T18:54:46.204852",
     "status": "completed"
    },
    "tags": []
   },
   "outputs": [],
   "source": [
    "from fairness_multiverse.universe import UniverseAnalysis\n",
    "\n",
    "universe_analysis = UniverseAnalysis(\n",
    "    run_no = run_no,\n",
    "    universe_id = universe_id,\n",
    "    universe = universe,\n",
    "    output_dir=output_dir,\n",
    ")"
   ]
  },
  {
   "cell_type": "code",
   "execution_count": 8,
   "id": "2a6381cf",
   "metadata": {
    "execution": {
     "iopub.execute_input": "2025-08-19T18:54:47.745775Z",
     "iopub.status.busy": "2025-08-19T18:54:47.745291Z",
     "iopub.status.idle": "2025-08-19T18:54:47.751374Z",
     "shell.execute_reply": "2025-08-19T18:54:47.750670Z"
    },
    "papermill": {
     "duration": 0.024042,
     "end_time": "2025-08-19T18:54:47.753134",
     "exception": false,
     "start_time": "2025-08-19T18:54:47.729092",
     "status": "completed"
    },
    "tags": []
   },
   "outputs": [
    {
     "name": "stdout",
     "output_type": "stream",
     "text": [
      "Using Seed: 2023\n"
     ]
    }
   ],
   "source": [
    "import numpy as np\n",
    "parsed_seed = int(seed)\n",
    "np.random.seed(parsed_seed)\n",
    "print(f\"Using Seed: {parsed_seed}\")"
   ]
  },
  {
   "cell_type": "markdown",
   "id": "b6e958b4",
   "metadata": {
    "papermill": {
     "duration": 0.00951,
     "end_time": "2025-08-19T18:54:47.773012",
     "exception": false,
     "start_time": "2025-08-19T18:54:47.763502",
     "status": "completed"
    },
    "tags": []
   },
   "source": [
    "# Loading Data"
   ]
  },
  {
   "cell_type": "code",
   "execution_count": 9,
   "id": "98701482",
   "metadata": {
    "execution": {
     "iopub.execute_input": "2025-08-19T18:54:47.802265Z",
     "iopub.status.busy": "2025-08-19T18:54:47.801214Z",
     "iopub.status.idle": "2025-08-19T18:54:57.618797Z",
     "shell.execute_reply": "2025-08-19T18:54:57.616750Z"
    },
    "papermill": {
     "duration": 9.838359,
     "end_time": "2025-08-19T18:54:57.620672",
     "exception": false,
     "start_time": "2025-08-19T18:54:47.782313",
     "status": "completed"
    },
    "tags": []
   },
   "outputs": [
    {
     "name": "stdout",
     "output_type": "stream",
     "text": [
      "Loading SIAB data from cache: data/siab_cached.csv.gz\n"
     ]
    },
    {
     "name": "stdout",
     "output_type": "stream",
     "text": [
      "(643690, 164)\n"
     ]
    }
   ],
   "source": [
    "from pathlib import Path\n",
    "import pandas as pd\n",
    "\n",
    "# File paths\n",
    "raw_file = Path(\"data/raw/siab.csv\")\n",
    "cache_file = Path(\"data/siab_cached.csv.gz\")\n",
    "\n",
    "# Ensure cache directory exists\n",
    "cache_file.parent.mkdir(parents=True, exist_ok=True)\n",
    "\n",
    "# Load with simple caching\n",
    "if cache_file.exists():\n",
    "    print(f\"Loading SIAB data from cache: {cache_file}\")\n",
    "    siab = pd.read_csv(cache_file, compression='gzip')\n",
    "else:\n",
    "    print(f\"Cache not found. Reading raw SIAB data: {raw_file}\")\n",
    "    siab = pd.read_csv(raw_file)\n",
    "    siab.to_csv(cache_file, index=False, compression='gzip')\n",
    "    print(f\"Cached SIAB data to: {cache_file}\")\n",
    "\n",
    "print(siab.shape)"
   ]
  },
  {
   "cell_type": "code",
   "execution_count": 10,
   "id": "058d2abb",
   "metadata": {
    "execution": {
     "iopub.execute_input": "2025-08-19T18:54:57.648282Z",
     "iopub.status.busy": "2025-08-19T18:54:57.647564Z",
     "iopub.status.idle": "2025-08-19T18:54:57.891579Z",
     "shell.execute_reply": "2025-08-19T18:54:57.890568Z"
    },
    "papermill": {
     "duration": 0.25759,
     "end_time": "2025-08-19T18:54:57.892996",
     "exception": false,
     "start_time": "2025-08-19T18:54:57.635406",
     "status": "completed"
    },
    "tags": []
   },
   "outputs": [
    {
     "data": {
      "text/html": [
       "<div>\n",
       "<style scoped>\n",
       "    .dataframe tbody tr th:only-of-type {\n",
       "        vertical-align: middle;\n",
       "    }\n",
       "\n",
       "    .dataframe tbody tr th {\n",
       "        vertical-align: top;\n",
       "    }\n",
       "\n",
       "    .dataframe thead th {\n",
       "        text-align: right;\n",
       "    }\n",
       "</style>\n",
       "<table border=\"1\" class=\"dataframe\">\n",
       "  <thead>\n",
       "    <tr style=\"text-align: right;\">\n",
       "      <th></th>\n",
       "      <th>persnr</th>\n",
       "      <th>year</th>\n",
       "      <th>nrEntry</th>\n",
       "      <th>ltue</th>\n",
       "      <th>employed_before</th>\n",
       "      <th>receipt_leh_before</th>\n",
       "      <th>receipt_lhg_before</th>\n",
       "      <th>se_before</th>\n",
       "      <th>ASU_notue_seeking_before</th>\n",
       "      <th>ASU_other_before</th>\n",
       "      <th>...</th>\n",
       "      <th>minijob_tot_dur_byage</th>\n",
       "      <th>ft_tot_dur_byage</th>\n",
       "      <th>befrist_tot_dur_byage</th>\n",
       "      <th>leih_tot_dur_byage</th>\n",
       "      <th>LHG_tot_dur_byage</th>\n",
       "      <th>LEH_tot_dur_byage</th>\n",
       "      <th>almp_tot_dur_byage</th>\n",
       "      <th>almp_aw_tot_dur_byage</th>\n",
       "      <th>se_tot_dur_byage</th>\n",
       "      <th>seeking1_tot_dur_byage</th>\n",
       "    </tr>\n",
       "  </thead>\n",
       "  <tbody>\n",
       "    <tr>\n",
       "      <th>0</th>\n",
       "      <td>7</td>\n",
       "      <td>2015</td>\n",
       "      <td>1</td>\n",
       "      <td>0</td>\n",
       "      <td>1</td>\n",
       "      <td>0</td>\n",
       "      <td>0</td>\n",
       "      <td>0</td>\n",
       "      <td>1</td>\n",
       "      <td>0</td>\n",
       "      <td>...</td>\n",
       "      <td>0.000000</td>\n",
       "      <td>0.000000</td>\n",
       "      <td>15.043478</td>\n",
       "      <td>0.000000</td>\n",
       "      <td>0.000000</td>\n",
       "      <td>0.000000</td>\n",
       "      <td>0.000000</td>\n",
       "      <td>0.000000</td>\n",
       "      <td>0.000000</td>\n",
       "      <td>0.000000</td>\n",
       "    </tr>\n",
       "    <tr>\n",
       "      <th>1</th>\n",
       "      <td>18</td>\n",
       "      <td>2010</td>\n",
       "      <td>1</td>\n",
       "      <td>1</td>\n",
       "      <td>0</td>\n",
       "      <td>0</td>\n",
       "      <td>0</td>\n",
       "      <td>0</td>\n",
       "      <td>0</td>\n",
       "      <td>0</td>\n",
       "      <td>...</td>\n",
       "      <td>0.000000</td>\n",
       "      <td>0.000000</td>\n",
       "      <td>0.000000</td>\n",
       "      <td>0.000000</td>\n",
       "      <td>0.000000</td>\n",
       "      <td>0.000000</td>\n",
       "      <td>0.000000</td>\n",
       "      <td>0.000000</td>\n",
       "      <td>0.000000</td>\n",
       "      <td>0.000000</td>\n",
       "    </tr>\n",
       "    <tr>\n",
       "      <th>2</th>\n",
       "      <td>18</td>\n",
       "      <td>2011</td>\n",
       "      <td>2</td>\n",
       "      <td>0</td>\n",
       "      <td>1</td>\n",
       "      <td>0</td>\n",
       "      <td>1</td>\n",
       "      <td>0</td>\n",
       "      <td>1</td>\n",
       "      <td>0</td>\n",
       "      <td>...</td>\n",
       "      <td>2.714286</td>\n",
       "      <td>2.714286</td>\n",
       "      <td>0.000000</td>\n",
       "      <td>0.000000</td>\n",
       "      <td>10.775510</td>\n",
       "      <td>0.000000</td>\n",
       "      <td>8.367347</td>\n",
       "      <td>0.000000</td>\n",
       "      <td>0.000000</td>\n",
       "      <td>9.836735</td>\n",
       "    </tr>\n",
       "    <tr>\n",
       "      <th>3</th>\n",
       "      <td>18</td>\n",
       "      <td>2012</td>\n",
       "      <td>3</td>\n",
       "      <td>0</td>\n",
       "      <td>1</td>\n",
       "      <td>0</td>\n",
       "      <td>1</td>\n",
       "      <td>0</td>\n",
       "      <td>1</td>\n",
       "      <td>0</td>\n",
       "      <td>...</td>\n",
       "      <td>4.200000</td>\n",
       "      <td>4.200000</td>\n",
       "      <td>0.000000</td>\n",
       "      <td>0.000000</td>\n",
       "      <td>12.100000</td>\n",
       "      <td>0.000000</td>\n",
       "      <td>9.400000</td>\n",
       "      <td>0.000000</td>\n",
       "      <td>0.000000</td>\n",
       "      <td>9.960000</td>\n",
       "    </tr>\n",
       "    <tr>\n",
       "      <th>4</th>\n",
       "      <td>18</td>\n",
       "      <td>2012</td>\n",
       "      <td>4</td>\n",
       "      <td>0</td>\n",
       "      <td>1</td>\n",
       "      <td>0</td>\n",
       "      <td>1</td>\n",
       "      <td>0</td>\n",
       "      <td>1</td>\n",
       "      <td>0</td>\n",
       "      <td>...</td>\n",
       "      <td>5.460000</td>\n",
       "      <td>5.460000</td>\n",
       "      <td>0.000000</td>\n",
       "      <td>0.000000</td>\n",
       "      <td>13.360000</td>\n",
       "      <td>0.000000</td>\n",
       "      <td>10.320000</td>\n",
       "      <td>0.000000</td>\n",
       "      <td>0.000000</td>\n",
       "      <td>10.280000</td>\n",
       "    </tr>\n",
       "    <tr>\n",
       "      <th>...</th>\n",
       "      <td>...</td>\n",
       "      <td>...</td>\n",
       "      <td>...</td>\n",
       "      <td>...</td>\n",
       "      <td>...</td>\n",
       "      <td>...</td>\n",
       "      <td>...</td>\n",
       "      <td>...</td>\n",
       "      <td>...</td>\n",
       "      <td>...</td>\n",
       "      <td>...</td>\n",
       "      <td>...</td>\n",
       "      <td>...</td>\n",
       "      <td>...</td>\n",
       "      <td>...</td>\n",
       "      <td>...</td>\n",
       "      <td>...</td>\n",
       "      <td>...</td>\n",
       "      <td>...</td>\n",
       "      <td>...</td>\n",
       "      <td>...</td>\n",
       "    </tr>\n",
       "    <tr>\n",
       "      <th>643685</th>\n",
       "      <td>1827860</td>\n",
       "      <td>2013</td>\n",
       "      <td>1</td>\n",
       "      <td>0</td>\n",
       "      <td>0</td>\n",
       "      <td>0</td>\n",
       "      <td>1</td>\n",
       "      <td>0</td>\n",
       "      <td>0</td>\n",
       "      <td>1</td>\n",
       "      <td>...</td>\n",
       "      <td>0.000000</td>\n",
       "      <td>0.000000</td>\n",
       "      <td>0.000000</td>\n",
       "      <td>0.000000</td>\n",
       "      <td>0.612903</td>\n",
       "      <td>0.000000</td>\n",
       "      <td>0.000000</td>\n",
       "      <td>0.000000</td>\n",
       "      <td>0.000000</td>\n",
       "      <td>0.000000</td>\n",
       "    </tr>\n",
       "    <tr>\n",
       "      <th>643686</th>\n",
       "      <td>1827860</td>\n",
       "      <td>2015</td>\n",
       "      <td>2</td>\n",
       "      <td>1</td>\n",
       "      <td>0</td>\n",
       "      <td>0</td>\n",
       "      <td>1</td>\n",
       "      <td>0</td>\n",
       "      <td>1</td>\n",
       "      <td>0</td>\n",
       "      <td>...</td>\n",
       "      <td>0.000000</td>\n",
       "      <td>0.000000</td>\n",
       "      <td>0.212121</td>\n",
       "      <td>0.212121</td>\n",
       "      <td>17.363636</td>\n",
       "      <td>0.000000</td>\n",
       "      <td>8.909091</td>\n",
       "      <td>0.000000</td>\n",
       "      <td>0.000000</td>\n",
       "      <td>7.121212</td>\n",
       "    </tr>\n",
       "    <tr>\n",
       "      <th>643687</th>\n",
       "      <td>1827860</td>\n",
       "      <td>2016</td>\n",
       "      <td>3</td>\n",
       "      <td>1</td>\n",
       "      <td>0</td>\n",
       "      <td>0</td>\n",
       "      <td>1</td>\n",
       "      <td>1</td>\n",
       "      <td>0</td>\n",
       "      <td>1</td>\n",
       "      <td>...</td>\n",
       "      <td>0.000000</td>\n",
       "      <td>0.000000</td>\n",
       "      <td>0.294118</td>\n",
       "      <td>0.205882</td>\n",
       "      <td>34.705882</td>\n",
       "      <td>0.000000</td>\n",
       "      <td>10.352941</td>\n",
       "      <td>1.705882</td>\n",
       "      <td>1.705882</td>\n",
       "      <td>23.911765</td>\n",
       "    </tr>\n",
       "    <tr>\n",
       "      <th>643688</th>\n",
       "      <td>1827869</td>\n",
       "      <td>2013</td>\n",
       "      <td>1</td>\n",
       "      <td>1</td>\n",
       "      <td>1</td>\n",
       "      <td>0</td>\n",
       "      <td>0</td>\n",
       "      <td>0</td>\n",
       "      <td>1</td>\n",
       "      <td>0</td>\n",
       "      <td>...</td>\n",
       "      <td>0.000000</td>\n",
       "      <td>0.000000</td>\n",
       "      <td>0.000000</td>\n",
       "      <td>0.000000</td>\n",
       "      <td>0.000000</td>\n",
       "      <td>0.525424</td>\n",
       "      <td>0.000000</td>\n",
       "      <td>0.000000</td>\n",
       "      <td>0.000000</td>\n",
       "      <td>0.000000</td>\n",
       "    </tr>\n",
       "    <tr>\n",
       "      <th>643689</th>\n",
       "      <td>1827869</td>\n",
       "      <td>2014</td>\n",
       "      <td>2</td>\n",
       "      <td>0</td>\n",
       "      <td>0</td>\n",
       "      <td>1</td>\n",
       "      <td>0</td>\n",
       "      <td>0</td>\n",
       "      <td>1</td>\n",
       "      <td>0</td>\n",
       "      <td>...</td>\n",
       "      <td>0.000000</td>\n",
       "      <td>0.666667</td>\n",
       "      <td>0.666667</td>\n",
       "      <td>0.000000</td>\n",
       "      <td>0.000000</td>\n",
       "      <td>8.950000</td>\n",
       "      <td>1.033333</td>\n",
       "      <td>0.083333</td>\n",
       "      <td>0.083333</td>\n",
       "      <td>8.133333</td>\n",
       "    </tr>\n",
       "  </tbody>\n",
       "</table>\n",
       "<p>643690 rows × 164 columns</p>\n",
       "</div>"
      ],
      "text/plain": [
       "         persnr  year  nrEntry  ltue  employed_before  receipt_leh_before  \\\n",
       "0             7  2015        1     0                1                   0   \n",
       "1            18  2010        1     1                0                   0   \n",
       "2            18  2011        2     0                1                   0   \n",
       "3            18  2012        3     0                1                   0   \n",
       "4            18  2012        4     0                1                   0   \n",
       "...         ...   ...      ...   ...              ...                 ...   \n",
       "643685  1827860  2013        1     0                0                   0   \n",
       "643686  1827860  2015        2     1                0                   0   \n",
       "643687  1827860  2016        3     1                0                   0   \n",
       "643688  1827869  2013        1     1                1                   0   \n",
       "643689  1827869  2014        2     0                0                   1   \n",
       "\n",
       "        receipt_lhg_before  se_before  ASU_notue_seeking_before  \\\n",
       "0                        0          0                         1   \n",
       "1                        0          0                         0   \n",
       "2                        1          0                         1   \n",
       "3                        1          0                         1   \n",
       "4                        1          0                         1   \n",
       "...                    ...        ...                       ...   \n",
       "643685                   1          0                         0   \n",
       "643686                   1          0                         1   \n",
       "643687                   1          1                         0   \n",
       "643688                   0          0                         1   \n",
       "643689                   0          0                         1   \n",
       "\n",
       "        ASU_other_before  ...  minijob_tot_dur_byage  ft_tot_dur_byage  \\\n",
       "0                      0  ...               0.000000          0.000000   \n",
       "1                      0  ...               0.000000          0.000000   \n",
       "2                      0  ...               2.714286          2.714286   \n",
       "3                      0  ...               4.200000          4.200000   \n",
       "4                      0  ...               5.460000          5.460000   \n",
       "...                  ...  ...                    ...               ...   \n",
       "643685                 1  ...               0.000000          0.000000   \n",
       "643686                 0  ...               0.000000          0.000000   \n",
       "643687                 1  ...               0.000000          0.000000   \n",
       "643688                 0  ...               0.000000          0.000000   \n",
       "643689                 0  ...               0.000000          0.666667   \n",
       "\n",
       "        befrist_tot_dur_byage  leih_tot_dur_byage  LHG_tot_dur_byage  \\\n",
       "0                   15.043478            0.000000           0.000000   \n",
       "1                    0.000000            0.000000           0.000000   \n",
       "2                    0.000000            0.000000          10.775510   \n",
       "3                    0.000000            0.000000          12.100000   \n",
       "4                    0.000000            0.000000          13.360000   \n",
       "...                       ...                 ...                ...   \n",
       "643685               0.000000            0.000000           0.612903   \n",
       "643686               0.212121            0.212121          17.363636   \n",
       "643687               0.294118            0.205882          34.705882   \n",
       "643688               0.000000            0.000000           0.000000   \n",
       "643689               0.666667            0.000000           0.000000   \n",
       "\n",
       "        LEH_tot_dur_byage  almp_tot_dur_byage  almp_aw_tot_dur_byage  \\\n",
       "0                0.000000            0.000000               0.000000   \n",
       "1                0.000000            0.000000               0.000000   \n",
       "2                0.000000            8.367347               0.000000   \n",
       "3                0.000000            9.400000               0.000000   \n",
       "4                0.000000           10.320000               0.000000   \n",
       "...                   ...                 ...                    ...   \n",
       "643685           0.000000            0.000000               0.000000   \n",
       "643686           0.000000            8.909091               0.000000   \n",
       "643687           0.000000           10.352941               1.705882   \n",
       "643688           0.525424            0.000000               0.000000   \n",
       "643689           8.950000            1.033333               0.083333   \n",
       "\n",
       "        se_tot_dur_byage  seeking1_tot_dur_byage  \n",
       "0               0.000000                0.000000  \n",
       "1               0.000000                0.000000  \n",
       "2               0.000000                9.836735  \n",
       "3               0.000000                9.960000  \n",
       "4               0.000000               10.280000  \n",
       "...                  ...                     ...  \n",
       "643685          0.000000                0.000000  \n",
       "643686          0.000000                7.121212  \n",
       "643687          1.705882               23.911765  \n",
       "643688          0.000000                0.000000  \n",
       "643689          0.083333                8.133333  \n",
       "\n",
       "[643690 rows x 164 columns]"
      ]
     },
     "execution_count": 10,
     "metadata": {},
     "output_type": "execute_result"
    }
   ],
   "source": [
    "siab"
   ]
  },
  {
   "cell_type": "markdown",
   "id": "1f87e805",
   "metadata": {
    "papermill": {
     "duration": 0.010385,
     "end_time": "2025-08-19T18:54:57.915262",
     "exception": false,
     "start_time": "2025-08-19T18:54:57.904877",
     "status": "completed"
    },
    "tags": []
   },
   "source": [
    "# Splitting Data and Setting Training Data Size"
   ]
  },
  {
   "cell_type": "code",
   "execution_count": 11,
   "id": "910ae358",
   "metadata": {
    "execution": {
     "iopub.execute_input": "2025-08-19T18:54:57.936468Z",
     "iopub.status.busy": "2025-08-19T18:54:57.936141Z",
     "iopub.status.idle": "2025-08-19T18:54:58.211080Z",
     "shell.execute_reply": "2025-08-19T18:54:58.210382Z"
    },
    "papermill": {
     "duration": 0.287436,
     "end_time": "2025-08-19T18:54:58.212567",
     "exception": false,
     "start_time": "2025-08-19T18:54:57.925131",
     "status": "completed"
    },
    "tags": []
   },
   "outputs": [],
   "source": [
    "from fairness_multiverse.universe import sample_by_year_size\n",
    "\n",
    "siab_train = sample_by_year_size(siab,\n",
    "                               training_year=universe[\"training_year\"],\n",
    "                               training_size=universe[\"training_size\"])"
   ]
  },
  {
   "cell_type": "code",
   "execution_count": 12,
   "id": "919c8ff5",
   "metadata": {
    "execution": {
     "iopub.execute_input": "2025-08-19T18:54:58.248863Z",
     "iopub.status.busy": "2025-08-19T18:54:58.235644Z",
     "iopub.status.idle": "2025-08-19T18:54:58.255308Z",
     "shell.execute_reply": "2025-08-19T18:54:58.254161Z"
    },
    "papermill": {
     "duration": 0.033143,
     "end_time": "2025-08-19T18:54:58.257235",
     "exception": false,
     "start_time": "2025-08-19T18:54:58.224092",
     "status": "completed"
    },
    "tags": []
   },
   "outputs": [
    {
     "data": {
      "text/plain": [
       "(1000, 164)"
      ]
     },
     "execution_count": 12,
     "metadata": {},
     "output_type": "execute_result"
    }
   ],
   "source": [
    "siab_train.shape"
   ]
  },
  {
   "cell_type": "code",
   "execution_count": 13,
   "id": "feb13bf4",
   "metadata": {
    "execution": {
     "iopub.execute_input": "2025-08-19T18:54:58.305001Z",
     "iopub.status.busy": "2025-08-19T18:54:58.304348Z",
     "iopub.status.idle": "2025-08-19T18:54:58.313784Z",
     "shell.execute_reply": "2025-08-19T18:54:58.312972Z"
    },
    "papermill": {
     "duration": 0.031286,
     "end_time": "2025-08-19T18:54:58.315211",
     "exception": false,
     "start_time": "2025-08-19T18:54:58.283925",
     "status": "completed"
    },
    "tags": []
   },
   "outputs": [
    {
     "data": {
      "text/plain": [
       "year\n",
       "2014    1000\n",
       "dtype: int64"
      ]
     },
     "metadata": {},
     "output_type": "display_data"
    }
   ],
   "source": [
    "display(siab_train.groupby(\"year\").size())"
   ]
  },
  {
   "cell_type": "code",
   "execution_count": 14,
   "id": "0997782f",
   "metadata": {
    "execution": {
     "iopub.execute_input": "2025-08-19T18:54:58.340267Z",
     "iopub.status.busy": "2025-08-19T18:54:58.339789Z",
     "iopub.status.idle": "2025-08-19T18:54:58.656724Z",
     "shell.execute_reply": "2025-08-19T18:54:58.656029Z"
    },
    "papermill": {
     "duration": 0.329739,
     "end_time": "2025-08-19T18:54:58.658055",
     "exception": false,
     "start_time": "2025-08-19T18:54:58.328316",
     "status": "completed"
    },
    "tags": []
   },
   "outputs": [],
   "source": [
    "#siab_train = siab_s[siab_s.year < 2015]\n",
    "siab_calib = siab[siab.year == 2015]\n",
    "siab_test = siab[siab.year == 2016]"
   ]
  },
  {
   "cell_type": "code",
   "execution_count": 15,
   "id": "2c1e4012",
   "metadata": {
    "execution": {
     "iopub.execute_input": "2025-08-19T18:54:58.682555Z",
     "iopub.status.busy": "2025-08-19T18:54:58.682097Z",
     "iopub.status.idle": "2025-08-19T18:54:58.686198Z",
     "shell.execute_reply": "2025-08-19T18:54:58.685629Z"
    },
    "papermill": {
     "duration": 0.018924,
     "end_time": "2025-08-19T18:54:58.690049",
     "exception": false,
     "start_time": "2025-08-19T18:54:58.671125",
     "status": "completed"
    },
    "tags": []
   },
   "outputs": [],
   "source": [
    "#siab_calib.shape"
   ]
  },
  {
   "cell_type": "code",
   "execution_count": 16,
   "id": "f66b54ca",
   "metadata": {
    "execution": {
     "iopub.execute_input": "2025-08-19T18:54:58.749532Z",
     "iopub.status.busy": "2025-08-19T18:54:58.749007Z",
     "iopub.status.idle": "2025-08-19T18:54:58.753305Z",
     "shell.execute_reply": "2025-08-19T18:54:58.752701Z"
    },
    "papermill": {
     "duration": 0.02252,
     "end_time": "2025-08-19T18:54:58.754766",
     "exception": false,
     "start_time": "2025-08-19T18:54:58.732246",
     "status": "completed"
    },
    "tags": []
   },
   "outputs": [],
   "source": [
    "#siab_test.shape"
   ]
  },
  {
   "cell_type": "code",
   "execution_count": 17,
   "id": "27e4384d",
   "metadata": {
    "execution": {
     "iopub.execute_input": "2025-08-19T18:54:58.776505Z",
     "iopub.status.busy": "2025-08-19T18:54:58.776077Z",
     "iopub.status.idle": "2025-08-19T18:54:58.781881Z",
     "shell.execute_reply": "2025-08-19T18:54:58.781223Z"
    },
    "papermill": {
     "duration": 0.019965,
     "end_time": "2025-08-19T18:54:58.785206",
     "exception": false,
     "start_time": "2025-08-19T18:54:58.765241",
     "status": "completed"
    },
    "tags": []
   },
   "outputs": [],
   "source": [
    "X_train = siab_train.iloc[:,4:164]\n",
    "y_train = siab_train.iloc[:, [3]]"
   ]
  },
  {
   "cell_type": "code",
   "execution_count": 18,
   "id": "08ee8389",
   "metadata": {
    "execution": {
     "iopub.execute_input": "2025-08-19T18:54:58.806791Z",
     "iopub.status.busy": "2025-08-19T18:54:58.806388Z",
     "iopub.status.idle": "2025-08-19T18:54:58.861659Z",
     "shell.execute_reply": "2025-08-19T18:54:58.860941Z"
    },
    "papermill": {
     "duration": 0.06749,
     "end_time": "2025-08-19T18:54:58.863065",
     "exception": false,
     "start_time": "2025-08-19T18:54:58.795575",
     "status": "completed"
    },
    "tags": []
   },
   "outputs": [],
   "source": [
    "X_calib = siab_calib.iloc[:,4:164]\n",
    "y_calib = siab_calib.iloc[:, [3]]"
   ]
  },
  {
   "cell_type": "code",
   "execution_count": 19,
   "id": "b7ff42e0",
   "metadata": {
    "execution": {
     "iopub.execute_input": "2025-08-19T18:54:58.886963Z",
     "iopub.status.busy": "2025-08-19T18:54:58.886492Z",
     "iopub.status.idle": "2025-08-19T18:54:58.945073Z",
     "shell.execute_reply": "2025-08-19T18:54:58.944095Z"
    },
    "papermill": {
     "duration": 0.071194,
     "end_time": "2025-08-19T18:54:58.946445",
     "exception": false,
     "start_time": "2025-08-19T18:54:58.875251",
     "status": "completed"
    },
    "tags": []
   },
   "outputs": [],
   "source": [
    "X_test = siab_test.iloc[:,4:164]\n",
    "y_true = siab_test.iloc[:, [3]]"
   ]
  },
  {
   "cell_type": "code",
   "execution_count": 20,
   "id": "0275101e",
   "metadata": {
    "execution": {
     "iopub.execute_input": "2025-08-19T18:54:58.976511Z",
     "iopub.status.busy": "2025-08-19T18:54:58.974638Z",
     "iopub.status.idle": "2025-08-19T18:54:59.087401Z",
     "shell.execute_reply": "2025-08-19T18:54:59.086096Z"
    },
    "papermill": {
     "duration": 0.130175,
     "end_time": "2025-08-19T18:54:59.089428",
     "exception": false,
     "start_time": "2025-08-19T18:54:58.959253",
     "status": "completed"
    },
    "tags": []
   },
   "outputs": [],
   "source": [
    "# Auxiliary data needed downstream in the pipeline\n",
    "\n",
    "org_train = X_train.copy()\n",
    "org_test = X_test.copy()\n",
    "org_calib = X_calib.copy()"
   ]
  },
  {
   "cell_type": "markdown",
   "id": "b461e618",
   "metadata": {
    "papermill": {
     "duration": 0.010156,
     "end_time": "2025-08-19T18:54:59.110253",
     "exception": false,
     "start_time": "2025-08-19T18:54:59.100097",
     "status": "completed"
    },
    "tags": []
   },
   "source": [
    "# Preprocessing Data"
   ]
  },
  {
   "cell_type": "code",
   "execution_count": 21,
   "id": "78e74c4b",
   "metadata": {
    "execution": {
     "iopub.execute_input": "2025-08-19T18:54:59.133083Z",
     "iopub.status.busy": "2025-08-19T18:54:59.132619Z",
     "iopub.status.idle": "2025-08-19T18:54:59.137932Z",
     "shell.execute_reply": "2025-08-19T18:54:59.137119Z"
    },
    "papermill": {
     "duration": 0.018977,
     "end_time": "2025-08-19T18:54:59.139289",
     "exception": false,
     "start_time": "2025-08-19T18:54:59.120312",
     "status": "completed"
    },
    "tags": []
   },
   "outputs": [],
   "source": [
    "# EXCLUDE PROTECTED FEATURES\n",
    "# --------------------------\n",
    "\n",
    "excluded_features = universe[\"exclude_features\"].split(\"-\")\n",
    "excluded_features_dictionary = {\n",
    "    \"nationality\": [\"maxdeutsch1\", \"maxdeutsch.Missing.\"],\n",
    "    \"sex\": [\"frau1\"],\n",
    "    \"age\": [\"age\"],\n",
    "}"
   ]
  },
  {
   "cell_type": "code",
   "execution_count": 22,
   "id": "f8e63555",
   "metadata": {
    "execution": {
     "iopub.execute_input": "2025-08-19T18:54:59.163067Z",
     "iopub.status.busy": "2025-08-19T18:54:59.162726Z",
     "iopub.status.idle": "2025-08-19T18:54:59.168026Z",
     "shell.execute_reply": "2025-08-19T18:54:59.167302Z"
    },
    "papermill": {
     "duration": 0.018807,
     "end_time": "2025-08-19T18:54:59.169492",
     "exception": false,
     "start_time": "2025-08-19T18:54:59.150685",
     "status": "completed"
    },
    "tags": []
   },
   "outputs": [],
   "source": [
    "excluded_features_columns = [\n",
    "    excluded_features_dictionary[f] for f in excluded_features if len(f) > 0 and f != \"none\"\n",
    "]"
   ]
  },
  {
   "cell_type": "code",
   "execution_count": 23,
   "id": "da781f7c",
   "metadata": {
    "execution": {
     "iopub.execute_input": "2025-08-19T18:54:59.193027Z",
     "iopub.status.busy": "2025-08-19T18:54:59.192600Z",
     "iopub.status.idle": "2025-08-19T18:54:59.200314Z",
     "shell.execute_reply": "2025-08-19T18:54:59.199606Z"
    },
    "papermill": {
     "duration": 0.020562,
     "end_time": "2025-08-19T18:54:59.201569",
     "exception": false,
     "start_time": "2025-08-19T18:54:59.181007",
     "status": "completed"
    },
    "tags": []
   },
   "outputs": [],
   "source": [
    "from fairness_multiverse.universe import flatten_once\n",
    "\n",
    "excluded_features_columns = flatten_once(excluded_features_columns)"
   ]
  },
  {
   "cell_type": "code",
   "execution_count": 24,
   "id": "37fef0f0",
   "metadata": {
    "execution": {
     "iopub.execute_input": "2025-08-19T18:54:59.224085Z",
     "iopub.status.busy": "2025-08-19T18:54:59.223664Z",
     "iopub.status.idle": "2025-08-19T18:54:59.230040Z",
     "shell.execute_reply": "2025-08-19T18:54:59.229376Z"
    },
    "papermill": {
     "duration": 0.025264,
     "end_time": "2025-08-19T18:54:59.237645",
     "exception": false,
     "start_time": "2025-08-19T18:54:59.212381",
     "status": "completed"
    },
    "tags": []
   },
   "outputs": [
    {
     "name": "stdout",
     "output_type": "stream",
     "text": [
      "Dropping features: ['age']\n"
     ]
    }
   ],
   "source": [
    "if len(excluded_features_columns) > 0:\n",
    "    print(f\"Dropping features: {excluded_features_columns}\")\n",
    "    X_train.drop(excluded_features_columns, axis=1, inplace=True)"
   ]
  },
  {
   "cell_type": "code",
   "execution_count": 25,
   "id": "d029e3e9",
   "metadata": {
    "execution": {
     "iopub.execute_input": "2025-08-19T18:54:59.278534Z",
     "iopub.status.busy": "2025-08-19T18:54:59.277360Z",
     "iopub.status.idle": "2025-08-19T18:54:59.341384Z",
     "shell.execute_reply": "2025-08-19T18:54:59.340549Z"
    },
    "papermill": {
     "duration": 0.084282,
     "end_time": "2025-08-19T18:54:59.342926",
     "exception": false,
     "start_time": "2025-08-19T18:54:59.258644",
     "status": "completed"
    },
    "tags": []
   },
   "outputs": [
    {
     "name": "stdout",
     "output_type": "stream",
     "text": [
      "Dropping features: ['age']\n"
     ]
    }
   ],
   "source": [
    "if len(excluded_features_columns) > 0:\n",
    "    print(f\"Dropping features: {excluded_features_columns}\")\n",
    "    X_test.drop(excluded_features_columns, axis=1, inplace=True)"
   ]
  },
  {
   "cell_type": "code",
   "execution_count": 26,
   "id": "01d571f0",
   "metadata": {
    "execution": {
     "iopub.execute_input": "2025-08-19T18:54:59.399106Z",
     "iopub.status.busy": "2025-08-19T18:54:59.398626Z",
     "iopub.status.idle": "2025-08-19T18:54:59.449416Z",
     "shell.execute_reply": "2025-08-19T18:54:59.448604Z"
    },
    "papermill": {
     "duration": 0.081347,
     "end_time": "2025-08-19T18:54:59.450729",
     "exception": false,
     "start_time": "2025-08-19T18:54:59.369382",
     "status": "completed"
    },
    "tags": []
   },
   "outputs": [
    {
     "name": "stdout",
     "output_type": "stream",
     "text": [
      "Dropping features: ['age']\n"
     ]
    }
   ],
   "source": [
    "if len(excluded_features_columns) > 0:\n",
    "    print(f\"Dropping features: {excluded_features_columns}\")\n",
    "    X_calib.drop(excluded_features_columns, axis=1, inplace=True)"
   ]
  },
  {
   "cell_type": "code",
   "execution_count": 27,
   "id": "3037356e",
   "metadata": {
    "execution": {
     "iopub.execute_input": "2025-08-19T18:54:59.474456Z",
     "iopub.status.busy": "2025-08-19T18:54:59.474018Z",
     "iopub.status.idle": "2025-08-19T18:54:59.478700Z",
     "shell.execute_reply": "2025-08-19T18:54:59.478003Z"
    },
    "papermill": {
     "duration": 0.017644,
     "end_time": "2025-08-19T18:54:59.480005",
     "exception": false,
     "start_time": "2025-08-19T18:54:59.462361",
     "status": "completed"
    },
    "tags": []
   },
   "outputs": [],
   "source": [
    "# EXCLUDE CERTAIN SUBGROUPS\n",
    "# -------------------------\n",
    "\n",
    "mode = universe.get(\"exclude_subgroups\", \"keep-all\") # Defaults to \"keep-all\" if the key is missing."
   ]
  },
  {
   "cell_type": "code",
   "execution_count": 28,
   "id": "9d1e63fd",
   "metadata": {
    "execution": {
     "iopub.execute_input": "2025-08-19T18:54:59.502310Z",
     "iopub.status.busy": "2025-08-19T18:54:59.501892Z",
     "iopub.status.idle": "2025-08-19T18:54:59.507800Z",
     "shell.execute_reply": "2025-08-19T18:54:59.507066Z"
    },
    "papermill": {
     "duration": 0.018488,
     "end_time": "2025-08-19T18:54:59.509084",
     "exception": false,
     "start_time": "2025-08-19T18:54:59.490596",
     "status": "completed"
    },
    "tags": []
   },
   "outputs": [],
   "source": [
    "if mode == \"keep-all\":\n",
    "    keep_mask = pd.Series(True, index=org_train.index)\n",
    "\n",
    "elif mode == \"drop-non-german\":\n",
    "    keep_mask = (org_train[\"maxdeutsch1\"] == 1) & (org_train[\"maxdeutsch.Missing.\"] == 0)\n",
    "\n",
    "else:\n",
    "    raise ValueError(f\"Unsupported mode for exclude_subgroups: {mode}\")"
   ]
  },
  {
   "cell_type": "code",
   "execution_count": 29,
   "id": "d3b65474",
   "metadata": {
    "execution": {
     "iopub.execute_input": "2025-08-19T18:54:59.531529Z",
     "iopub.status.busy": "2025-08-19T18:54:59.531112Z",
     "iopub.status.idle": "2025-08-19T18:54:59.536625Z",
     "shell.execute_reply": "2025-08-19T18:54:59.535826Z"
    },
    "papermill": {
     "duration": 0.018141,
     "end_time": "2025-08-19T18:54:59.537946",
     "exception": false,
     "start_time": "2025-08-19T18:54:59.519805",
     "status": "completed"
    },
    "tags": []
   },
   "outputs": [
    {
     "name": "stdout",
     "output_type": "stream",
     "text": [
      "Dropping 147 rows (14.70%) where mode='drop-non-german'\n"
     ]
    }
   ],
   "source": [
    "n_drop = (~keep_mask).sum() # Calculates how many rows are set to be dropped\n",
    "if n_drop > 0:\n",
    "    pct = n_drop / len(keep_mask) * 100\n",
    "    print(f\"Dropping {n_drop} rows ({pct:.2f}%) where mode='{mode}'\")"
   ]
  },
  {
   "cell_type": "code",
   "execution_count": 30,
   "id": "f44389b3",
   "metadata": {
    "execution": {
     "iopub.execute_input": "2025-08-19T18:54:59.560606Z",
     "iopub.status.busy": "2025-08-19T18:54:59.560140Z",
     "iopub.status.idle": "2025-08-19T18:54:59.565817Z",
     "shell.execute_reply": "2025-08-19T18:54:59.565039Z"
    },
    "papermill": {
     "duration": 0.018561,
     "end_time": "2025-08-19T18:54:59.567129",
     "exception": false,
     "start_time": "2025-08-19T18:54:59.548568",
     "status": "completed"
    },
    "tags": []
   },
   "outputs": [],
   "source": [
    "X_train = X_train[keep_mask]"
   ]
  },
  {
   "cell_type": "code",
   "execution_count": 31,
   "id": "ceca8c2a",
   "metadata": {
    "execution": {
     "iopub.execute_input": "2025-08-19T18:54:59.589990Z",
     "iopub.status.busy": "2025-08-19T18:54:59.589702Z",
     "iopub.status.idle": "2025-08-19T18:54:59.595116Z",
     "shell.execute_reply": "2025-08-19T18:54:59.594351Z"
    },
    "papermill": {
     "duration": 0.020204,
     "end_time": "2025-08-19T18:54:59.598258",
     "exception": false,
     "start_time": "2025-08-19T18:54:59.578054",
     "status": "completed"
    },
    "tags": []
   },
   "outputs": [],
   "source": [
    "y_train = y_train[keep_mask]"
   ]
  },
  {
   "cell_type": "markdown",
   "id": "04d31e2f",
   "metadata": {
    "papermill": {
     "duration": 0.019716,
     "end_time": "2025-08-19T18:54:59.653032",
     "exception": false,
     "start_time": "2025-08-19T18:54:59.633316",
     "status": "completed"
    },
    "tags": []
   },
   "source": [
    "# Model Training"
   ]
  },
  {
   "cell_type": "code",
   "execution_count": 32,
   "id": "db991733",
   "metadata": {
    "execution": {
     "iopub.execute_input": "2025-08-19T18:54:59.687597Z",
     "iopub.status.busy": "2025-08-19T18:54:59.686441Z",
     "iopub.status.idle": "2025-08-19T18:54:59.789916Z",
     "shell.execute_reply": "2025-08-19T18:54:59.789142Z"
    },
    "papermill": {
     "duration": 0.118247,
     "end_time": "2025-08-19T18:54:59.791935",
     "exception": false,
     "start_time": "2025-08-19T18:54:59.673688",
     "status": "completed"
    },
    "tags": []
   },
   "outputs": [],
   "source": [
    "from sklearn.linear_model import LogisticRegression\n",
    "from sklearn.ensemble import GradientBoostingClassifier, RandomForestClassifier\n",
    "\n",
    "if (universe[\"model\"] == \"logreg\"):\n",
    "    model = LogisticRegression() #penalty=\"none\", solver=\"newton-cg\", max_iter=1)\n",
    "elif (universe[\"model\"] == \"penalized_logreg\"):\n",
    "    model = LogisticRegression(penalty=\"l2\", C=0.1) #, solver=\"newton-cg\", max_iter=1)\n",
    "elif (universe[\"model\"] == \"rf\"):\n",
    "    model = RandomForestClassifier() # n_estimators=100, n_jobs=-1\n",
    "elif (universe[\"model\"] == \"gbm\"):\n",
    "    model = GradientBoostingClassifier()\n",
    "elif (universe[\"model\"] == \"elasticnet\"):\n",
    "    model = LogisticRegression(penalty = 'elasticnet', solver = 'saga', l1_ratio = 0.5) # max_iter=5000\n",
    "else:\n",
    "    raise \"Unsupported universe.model\""
   ]
  },
  {
   "cell_type": "code",
   "execution_count": 33,
   "id": "a4b5cd25",
   "metadata": {
    "execution": {
     "iopub.execute_input": "2025-08-19T18:54:59.821151Z",
     "iopub.status.busy": "2025-08-19T18:54:59.820013Z",
     "iopub.status.idle": "2025-08-19T18:54:59.827728Z",
     "shell.execute_reply": "2025-08-19T18:54:59.826676Z"
    },
    "papermill": {
     "duration": 0.022243,
     "end_time": "2025-08-19T18:54:59.829176",
     "exception": false,
     "start_time": "2025-08-19T18:54:59.806933",
     "status": "completed"
    },
    "tags": []
   },
   "outputs": [],
   "source": [
    "from sklearn.pipeline import Pipeline\n",
    "from sklearn.preprocessing import StandardScaler\n",
    "\n",
    "model = Pipeline([\n",
    "    #(\"continuous_processor\", continuous_processor),\n",
    "    #(\"categorical_preprocessor\", categorical_preprocessor),\n",
    "    (\"scale\", StandardScaler() if universe[\"scale\"] == \"scale\" else None), \n",
    "    (\"model\", model),\n",
    "])"
   ]
  },
  {
   "cell_type": "code",
   "execution_count": 34,
   "id": "283a904d",
   "metadata": {
    "execution": {
     "iopub.execute_input": "2025-08-19T18:54:59.857974Z",
     "iopub.status.busy": "2025-08-19T18:54:59.856794Z",
     "iopub.status.idle": "2025-08-19T18:55:00.145263Z",
     "shell.execute_reply": "2025-08-19T18:55:00.144368Z"
    },
    "papermill": {
     "duration": 0.302966,
     "end_time": "2025-08-19T18:55:00.146611",
     "exception": false,
     "start_time": "2025-08-19T18:54:59.843645",
     "status": "completed"
    },
    "tags": []
   },
   "outputs": [
    {
     "data": {
      "text/html": [
       "<style>#sk-container-id-1 {color: black;background-color: white;}#sk-container-id-1 pre{padding: 0;}#sk-container-id-1 div.sk-toggleable {background-color: white;}#sk-container-id-1 label.sk-toggleable__label {cursor: pointer;display: block;width: 100%;margin-bottom: 0;padding: 0.3em;box-sizing: border-box;text-align: center;}#sk-container-id-1 label.sk-toggleable__label-arrow:before {content: \"▸\";float: left;margin-right: 0.25em;color: #696969;}#sk-container-id-1 label.sk-toggleable__label-arrow:hover:before {color: black;}#sk-container-id-1 div.sk-estimator:hover label.sk-toggleable__label-arrow:before {color: black;}#sk-container-id-1 div.sk-toggleable__content {max-height: 0;max-width: 0;overflow: hidden;text-align: left;background-color: #f0f8ff;}#sk-container-id-1 div.sk-toggleable__content pre {margin: 0.2em;color: black;border-radius: 0.25em;background-color: #f0f8ff;}#sk-container-id-1 input.sk-toggleable__control:checked~div.sk-toggleable__content {max-height: 200px;max-width: 100%;overflow: auto;}#sk-container-id-1 input.sk-toggleable__control:checked~label.sk-toggleable__label-arrow:before {content: \"▾\";}#sk-container-id-1 div.sk-estimator input.sk-toggleable__control:checked~label.sk-toggleable__label {background-color: #d4ebff;}#sk-container-id-1 div.sk-label input.sk-toggleable__control:checked~label.sk-toggleable__label {background-color: #d4ebff;}#sk-container-id-1 input.sk-hidden--visually {border: 0;clip: rect(1px 1px 1px 1px);clip: rect(1px, 1px, 1px, 1px);height: 1px;margin: -1px;overflow: hidden;padding: 0;position: absolute;width: 1px;}#sk-container-id-1 div.sk-estimator {font-family: monospace;background-color: #f0f8ff;border: 1px dotted black;border-radius: 0.25em;box-sizing: border-box;margin-bottom: 0.5em;}#sk-container-id-1 div.sk-estimator:hover {background-color: #d4ebff;}#sk-container-id-1 div.sk-parallel-item::after {content: \"\";width: 100%;border-bottom: 1px solid gray;flex-grow: 1;}#sk-container-id-1 div.sk-label:hover label.sk-toggleable__label {background-color: #d4ebff;}#sk-container-id-1 div.sk-serial::before {content: \"\";position: absolute;border-left: 1px solid gray;box-sizing: border-box;top: 0;bottom: 0;left: 50%;z-index: 0;}#sk-container-id-1 div.sk-serial {display: flex;flex-direction: column;align-items: center;background-color: white;padding-right: 0.2em;padding-left: 0.2em;position: relative;}#sk-container-id-1 div.sk-item {position: relative;z-index: 1;}#sk-container-id-1 div.sk-parallel {display: flex;align-items: stretch;justify-content: center;background-color: white;position: relative;}#sk-container-id-1 div.sk-item::before, #sk-container-id-1 div.sk-parallel-item::before {content: \"\";position: absolute;border-left: 1px solid gray;box-sizing: border-box;top: 0;bottom: 0;left: 50%;z-index: -1;}#sk-container-id-1 div.sk-parallel-item {display: flex;flex-direction: column;z-index: 1;position: relative;background-color: white;}#sk-container-id-1 div.sk-parallel-item:first-child::after {align-self: flex-end;width: 50%;}#sk-container-id-1 div.sk-parallel-item:last-child::after {align-self: flex-start;width: 50%;}#sk-container-id-1 div.sk-parallel-item:only-child::after {width: 0;}#sk-container-id-1 div.sk-dashed-wrapped {border: 1px dashed gray;margin: 0 0.4em 0.5em 0.4em;box-sizing: border-box;padding-bottom: 0.4em;background-color: white;}#sk-container-id-1 div.sk-label label {font-family: monospace;font-weight: bold;display: inline-block;line-height: 1.2em;}#sk-container-id-1 div.sk-label-container {text-align: center;}#sk-container-id-1 div.sk-container {/* jupyter's `normalize.less` sets `[hidden] { display: none; }` but bootstrap.min.css set `[hidden] { display: none !important; }` so we also need the `!important` here to be able to override the default hidden behavior on the sphinx rendered scikit-learn.org. See: https://github.com/scikit-learn/scikit-learn/issues/21755 */display: inline-block !important;position: relative;}#sk-container-id-1 div.sk-text-repr-fallback {display: none;}</style><div id=\"sk-container-id-1\" class=\"sk-top-container\"><div class=\"sk-text-repr-fallback\"><pre>Pipeline(steps=[(&#x27;scale&#x27;, None), (&#x27;model&#x27;, RandomForestClassifier())])</pre><b>In a Jupyter environment, please rerun this cell to show the HTML representation or trust the notebook. <br />On GitHub, the HTML representation is unable to render, please try loading this page with nbviewer.org.</b></div><div class=\"sk-container\" hidden><div class=\"sk-item sk-dashed-wrapped\"><div class=\"sk-label-container\"><div class=\"sk-label sk-toggleable\"><input class=\"sk-toggleable__control sk-hidden--visually\" id=\"sk-estimator-id-1\" type=\"checkbox\" ><label for=\"sk-estimator-id-1\" class=\"sk-toggleable__label sk-toggleable__label-arrow\">Pipeline</label><div class=\"sk-toggleable__content\"><pre>Pipeline(steps=[(&#x27;scale&#x27;, None), (&#x27;model&#x27;, RandomForestClassifier())])</pre></div></div></div><div class=\"sk-serial\"><div class=\"sk-item\"><div class=\"sk-estimator sk-toggleable\"><input class=\"sk-toggleable__control sk-hidden--visually\" id=\"sk-estimator-id-2\" type=\"checkbox\" ><label for=\"sk-estimator-id-2\" class=\"sk-toggleable__label sk-toggleable__label-arrow\">None</label><div class=\"sk-toggleable__content\"><pre>None</pre></div></div></div><div class=\"sk-item\"><div class=\"sk-estimator sk-toggleable\"><input class=\"sk-toggleable__control sk-hidden--visually\" id=\"sk-estimator-id-3\" type=\"checkbox\" ><label for=\"sk-estimator-id-3\" class=\"sk-toggleable__label sk-toggleable__label-arrow\">RandomForestClassifier</label><div class=\"sk-toggleable__content\"><pre>RandomForestClassifier()</pre></div></div></div></div></div></div></div>"
      ],
      "text/plain": [
       "Pipeline(steps=[('scale', None), ('model', RandomForestClassifier())])"
      ]
     },
     "execution_count": 34,
     "metadata": {},
     "output_type": "execute_result"
    }
   ],
   "source": [
    "model.fit(X_train, y_train.values.ravel())"
   ]
  },
  {
   "cell_type": "code",
   "execution_count": 35,
   "id": "6e15e313",
   "metadata": {
    "execution": {
     "iopub.execute_input": "2025-08-19T18:55:00.173074Z",
     "iopub.status.busy": "2025-08-19T18:55:00.171867Z",
     "iopub.status.idle": "2025-08-19T18:55:01.430822Z",
     "shell.execute_reply": "2025-08-19T18:55:01.429812Z"
    },
    "papermill": {
     "duration": 1.273995,
     "end_time": "2025-08-19T18:55:01.432880",
     "exception": false,
     "start_time": "2025-08-19T18:55:00.158885",
     "status": "completed"
    },
    "tags": []
   },
   "outputs": [
    {
     "data": {
      "text/plain": [
       "0.8598372533719764"
      ]
     },
     "execution_count": 35,
     "metadata": {},
     "output_type": "execute_result"
    }
   ],
   "source": [
    "from fairness_multiverse.universe import predict_w_threshold\n",
    "\n",
    "probs_test = model.predict_proba(X_test)\n",
    "\n",
    "'''\n",
    "Below code returns a boolean array (or binary 0/1 array depending on how it’s used) where each element \n",
    "is True if the probability of class 1 is greater than or equal to the threshold, and False otherwise.\n",
    "'''\n",
    "y_pred_default = predict_w_threshold(probs_test, 0.5)\n",
    "\n",
    "from sklearn.metrics import accuracy_score\n",
    "\n",
    "# Naive prediction\n",
    "accuracy_score(y_true = y_true, y_pred = y_pred_default)"
   ]
  },
  {
   "cell_type": "code",
   "execution_count": 36,
   "id": "6f14067c",
   "metadata": {
    "execution": {
     "iopub.execute_input": "2025-08-19T18:55:01.467783Z",
     "iopub.status.busy": "2025-08-19T18:55:01.466244Z",
     "iopub.status.idle": "2025-08-19T18:55:02.715891Z",
     "shell.execute_reply": "2025-08-19T18:55:02.714818Z"
    },
    "papermill": {
     "duration": 1.264986,
     "end_time": "2025-08-19T18:55:02.717282",
     "exception": false,
     "start_time": "2025-08-19T18:55:01.452296",
     "status": "completed"
    },
    "tags": []
   },
   "outputs": [
    {
     "data": {
      "text/plain": [
       "array([0, 0, 0, ..., 0, 0, 0])"
      ]
     },
     "execution_count": 36,
     "metadata": {},
     "output_type": "execute_result"
    }
   ],
   "source": [
    "model.predict(X_test)"
   ]
  },
  {
   "cell_type": "markdown",
   "id": "3759920c",
   "metadata": {
    "papermill": {
     "duration": 0.011367,
     "end_time": "2025-08-19T18:55:02.741125",
     "exception": false,
     "start_time": "2025-08-19T18:55:02.729758",
     "status": "completed"
    },
    "tags": []
   },
   "source": [
    "# Conformal Prediction"
   ]
  },
  {
   "cell_type": "code",
   "execution_count": 37,
   "id": "14b27f59",
   "metadata": {
    "execution": {
     "iopub.execute_input": "2025-08-19T18:55:02.767823Z",
     "iopub.status.busy": "2025-08-19T18:55:02.766079Z",
     "iopub.status.idle": "2025-08-19T18:55:02.775286Z",
     "shell.execute_reply": "2025-08-19T18:55:02.774077Z"
    },
    "papermill": {
     "duration": 0.02459,
     "end_time": "2025-08-19T18:55:02.776942",
     "exception": false,
     "start_time": "2025-08-19T18:55:02.752352",
     "status": "completed"
    },
    "tags": []
   },
   "outputs": [],
   "source": [
    "# Miscoverage level for conformal prediction (10% allowed error rate => 90% target coverage)\n",
    "alpha = 0.1"
   ]
  },
  {
   "cell_type": "code",
   "execution_count": 38,
   "id": "59102472",
   "metadata": {
    "execution": {
     "iopub.execute_input": "2025-08-19T18:55:02.805821Z",
     "iopub.status.busy": "2025-08-19T18:55:02.804312Z",
     "iopub.status.idle": "2025-08-19T18:55:04.001582Z",
     "shell.execute_reply": "2025-08-19T18:55:04.000344Z"
    },
    "papermill": {
     "duration": 1.212473,
     "end_time": "2025-08-19T18:55:04.003456",
     "exception": false,
     "start_time": "2025-08-19T18:55:02.790983",
     "status": "completed"
    },
    "tags": []
   },
   "outputs": [],
   "source": [
    "probs_calib = model.predict_proba(X_calib)"
   ]
  },
  {
   "cell_type": "code",
   "execution_count": 39,
   "id": "a792d4dd",
   "metadata": {
    "execution": {
     "iopub.execute_input": "2025-08-19T18:55:04.033292Z",
     "iopub.status.busy": "2025-08-19T18:55:04.032173Z",
     "iopub.status.idle": "2025-08-19T18:55:04.042638Z",
     "shell.execute_reply": "2025-08-19T18:55:04.041691Z"
    },
    "papermill": {
     "duration": 0.025865,
     "end_time": "2025-08-19T18:55:04.044229",
     "exception": false,
     "start_time": "2025-08-19T18:55:04.018364",
     "status": "completed"
    },
    "tags": []
   },
   "outputs": [],
   "source": [
    "y_calib = y_calib.values.ravel().astype(int)"
   ]
  },
  {
   "cell_type": "code",
   "execution_count": 40,
   "id": "650fd033",
   "metadata": {
    "execution": {
     "iopub.execute_input": "2025-08-19T18:55:04.078969Z",
     "iopub.status.busy": "2025-08-19T18:55:04.077672Z",
     "iopub.status.idle": "2025-08-19T18:55:04.090562Z",
     "shell.execute_reply": "2025-08-19T18:55:04.089387Z"
    },
    "papermill": {
     "duration": 0.032252,
     "end_time": "2025-08-19T18:55:04.093507",
     "exception": false,
     "start_time": "2025-08-19T18:55:04.061255",
     "status": "completed"
    },
    "tags": []
   },
   "outputs": [],
   "source": [
    "from fairness_multiverse.conformal import compute_nc_scores\n",
    "\n",
    "# Compute nonconformity scores on calibration set (1 - probability of true class)\n",
    "nc_scores = compute_nc_scores(probs_calib, y_calib)"
   ]
  },
  {
   "cell_type": "code",
   "execution_count": 41,
   "id": "28ada44c",
   "metadata": {
    "execution": {
     "iopub.execute_input": "2025-08-19T18:55:04.159987Z",
     "iopub.status.busy": "2025-08-19T18:55:04.158469Z",
     "iopub.status.idle": "2025-08-19T18:55:04.169600Z",
     "shell.execute_reply": "2025-08-19T18:55:04.167976Z"
    },
    "papermill": {
     "duration": 0.053308,
     "end_time": "2025-08-19T18:55:04.171981",
     "exception": false,
     "start_time": "2025-08-19T18:55:04.118673",
     "status": "completed"
    },
    "tags": []
   },
   "outputs": [],
   "source": [
    "from fairness_multiverse.conformal import find_threshold\n",
    "\n",
    "# Find conformal threshold q_hat for the given alpha (split conformal method)\n",
    "q_hat = find_threshold(nc_scores, alpha)"
   ]
  },
  {
   "cell_type": "code",
   "execution_count": 42,
   "id": "df56469e",
   "metadata": {
    "execution": {
     "iopub.execute_input": "2025-08-19T18:55:04.210488Z",
     "iopub.status.busy": "2025-08-19T18:55:04.209254Z",
     "iopub.status.idle": "2025-08-19T18:55:04.220275Z",
     "shell.execute_reply": "2025-08-19T18:55:04.219089Z"
    },
    "papermill": {
     "duration": 0.027526,
     "end_time": "2025-08-19T18:55:04.222020",
     "exception": false,
     "start_time": "2025-08-19T18:55:04.194494",
     "status": "completed"
    },
    "tags": []
   },
   "outputs": [
    {
     "data": {
      "text/plain": [
       "0.6699999999999999"
      ]
     },
     "execution_count": 42,
     "metadata": {},
     "output_type": "execute_result"
    }
   ],
   "source": [
    "q_hat"
   ]
  },
  {
   "cell_type": "code",
   "execution_count": 43,
   "id": "aa1f5faa",
   "metadata": {
    "execution": {
     "iopub.execute_input": "2025-08-19T18:55:04.252233Z",
     "iopub.status.busy": "2025-08-19T18:55:04.250702Z",
     "iopub.status.idle": "2025-08-19T18:55:05.947751Z",
     "shell.execute_reply": "2025-08-19T18:55:05.946937Z"
    },
    "papermill": {
     "duration": 1.712248,
     "end_time": "2025-08-19T18:55:05.949397",
     "exception": false,
     "start_time": "2025-08-19T18:55:04.237149",
     "status": "completed"
    },
    "tags": []
   },
   "outputs": [],
   "source": [
    "from fairness_multiverse.conformal import predict_conformal_sets\n",
    "\n",
    "# Generate prediction sets for each test example\n",
    "pred_sets = predict_conformal_sets(model, X_test, q_hat)"
   ]
  },
  {
   "cell_type": "code",
   "execution_count": 44,
   "id": "97f67a6b",
   "metadata": {
    "execution": {
     "iopub.execute_input": "2025-08-19T18:55:05.978915Z",
     "iopub.status.busy": "2025-08-19T18:55:05.977594Z",
     "iopub.status.idle": "2025-08-19T18:55:05.985128Z",
     "shell.execute_reply": "2025-08-19T18:55:05.983704Z"
    },
    "papermill": {
     "duration": 0.022534,
     "end_time": "2025-08-19T18:55:05.986571",
     "exception": false,
     "start_time": "2025-08-19T18:55:05.964037",
     "status": "completed"
    },
    "tags": []
   },
   "outputs": [],
   "source": [
    "y_true = y_true.squeeze()"
   ]
  },
  {
   "cell_type": "code",
   "execution_count": 45,
   "id": "e700e9a7",
   "metadata": {
    "execution": {
     "iopub.execute_input": "2025-08-19T18:55:06.049397Z",
     "iopub.status.busy": "2025-08-19T18:55:06.047768Z",
     "iopub.status.idle": "2025-08-19T18:55:06.545703Z",
     "shell.execute_reply": "2025-08-19T18:55:06.544959Z"
    },
    "papermill": {
     "duration": 0.54205,
     "end_time": "2025-08-19T18:55:06.547468",
     "exception": false,
     "start_time": "2025-08-19T18:55:06.005418",
     "status": "completed"
    },
    "tags": []
   },
   "outputs": [],
   "source": [
    "from fairness_multiverse.conformal import evaluate_sets\n",
    "\n",
    "# Evaluate coverage and average set size on test data\n",
    "metrics = evaluate_sets(pred_sets, y_true)"
   ]
  },
  {
   "cell_type": "markdown",
   "id": "efbacec0",
   "metadata": {
    "papermill": {
     "duration": 0.012135,
     "end_time": "2025-08-19T18:55:06.572458",
     "exception": false,
     "start_time": "2025-08-19T18:55:06.560323",
     "status": "completed"
    },
    "tags": []
   },
   "source": [
    "# CP Metrics"
   ]
  },
  {
   "cell_type": "code",
   "execution_count": 46,
   "id": "9de55fb1",
   "metadata": {
    "execution": {
     "iopub.execute_input": "2025-08-19T18:55:06.599946Z",
     "iopub.status.busy": "2025-08-19T18:55:06.598227Z",
     "iopub.status.idle": "2025-08-19T18:55:06.610383Z",
     "shell.execute_reply": "2025-08-19T18:55:06.609103Z"
    },
    "papermill": {
     "duration": 0.027339,
     "end_time": "2025-08-19T18:55:06.611901",
     "exception": false,
     "start_time": "2025-08-19T18:55:06.584562",
     "status": "completed"
    },
    "tags": []
   },
   "outputs": [
    {
     "data": {
      "text/plain": [
       "{'coverage': 0.9117378218704715, 'avg_size': 1.141255155501059}"
      ]
     },
     "execution_count": 46,
     "metadata": {},
     "output_type": "execute_result"
    }
   ],
   "source": [
    "metrics"
   ]
  },
  {
   "cell_type": "code",
   "execution_count": 47,
   "id": "64c340a1",
   "metadata": {
    "execution": {
     "iopub.execute_input": "2025-08-19T18:55:06.644030Z",
     "iopub.status.busy": "2025-08-19T18:55:06.643537Z",
     "iopub.status.idle": "2025-08-19T18:55:06.652411Z",
     "shell.execute_reply": "2025-08-19T18:55:06.650577Z"
    },
    "papermill": {
     "duration": 0.024226,
     "end_time": "2025-08-19T18:55:06.653956",
     "exception": false,
     "start_time": "2025-08-19T18:55:06.629730",
     "status": "completed"
    },
    "tags": []
   },
   "outputs": [],
   "source": [
    "example_universe = universe.copy()\n",
    "universe_training_year = example_universe.get(\"training_year\")\n",
    "universe_training_size = example_universe.get(\"training_size\")\n",
    "universe_scale = example_universe.get(\"scale\")\n",
    "universe_model = example_universe.get(\"model\")\n",
    "universe_exclude_features = example_universe.get(\"exclude_features\")\n",
    "universe_exclude_subgroups = example_universe.get(\"exclude_subgroups\")"
   ]
  },
  {
   "cell_type": "code",
   "execution_count": 48,
   "id": "dbb53cb4",
   "metadata": {
    "execution": {
     "iopub.execute_input": "2025-08-19T18:55:06.683613Z",
     "iopub.status.busy": "2025-08-19T18:55:06.683315Z",
     "iopub.status.idle": "2025-08-19T18:55:06.690007Z",
     "shell.execute_reply": "2025-08-19T18:55:06.688625Z"
    },
    "papermill": {
     "duration": 0.021733,
     "end_time": "2025-08-19T18:55:06.691419",
     "exception": false,
     "start_time": "2025-08-19T18:55:06.669686",
     "status": "completed"
    },
    "tags": []
   },
   "outputs": [],
   "source": [
    "cp_metrics_dict = {\n",
    "    \"universe_id\": [universe_id],\n",
    "    \"universe_training_year\": [universe_training_year],\n",
    "    \"universe_training_size\": [universe_training_size],\n",
    "    \"universe_scale\": [universe_scale],\n",
    "    \"universe_model\": [universe_model],\n",
    "    \"universe_exclude_features\": [universe_exclude_features],\n",
    "    \"universe_exclude_subgroups\": [universe_exclude_subgroups],\n",
    "    \"q_hat\": [q_hat],\n",
    "    \"coverage\": [metrics[\"coverage\"]],\n",
    "    \"avg_size\": [metrics[\"avg_size\"]],\n",
    "}"
   ]
  },
  {
   "cell_type": "code",
   "execution_count": 49,
   "id": "0d70d4b2",
   "metadata": {
    "execution": {
     "iopub.execute_input": "2025-08-19T18:55:06.721141Z",
     "iopub.status.busy": "2025-08-19T18:55:06.720728Z",
     "iopub.status.idle": "2025-08-19T18:55:06.726201Z",
     "shell.execute_reply": "2025-08-19T18:55:06.725462Z"
    },
    "papermill": {
     "duration": 0.020064,
     "end_time": "2025-08-19T18:55:06.727338",
     "exception": false,
     "start_time": "2025-08-19T18:55:06.707274",
     "status": "completed"
    },
    "tags": []
   },
   "outputs": [],
   "source": [
    "cp_metrics_df = pd.DataFrame(cp_metrics_dict)"
   ]
  },
  {
   "cell_type": "code",
   "execution_count": 50,
   "id": "b494403c",
   "metadata": {
    "execution": {
     "iopub.execute_input": "2025-08-19T18:55:06.757466Z",
     "iopub.status.busy": "2025-08-19T18:55:06.757190Z",
     "iopub.status.idle": "2025-08-19T18:55:06.775223Z",
     "shell.execute_reply": "2025-08-19T18:55:06.774192Z"
    },
    "papermill": {
     "duration": 0.035407,
     "end_time": "2025-08-19T18:55:06.776501",
     "exception": false,
     "start_time": "2025-08-19T18:55:06.741094",
     "status": "completed"
    },
    "tags": []
   },
   "outputs": [
    {
     "data": {
      "text/html": [
       "<div>\n",
       "<style scoped>\n",
       "    .dataframe tbody tr th:only-of-type {\n",
       "        vertical-align: middle;\n",
       "    }\n",
       "\n",
       "    .dataframe tbody tr th {\n",
       "        vertical-align: top;\n",
       "    }\n",
       "\n",
       "    .dataframe thead th {\n",
       "        text-align: right;\n",
       "    }\n",
       "</style>\n",
       "<table border=\"1\" class=\"dataframe\">\n",
       "  <thead>\n",
       "    <tr style=\"text-align: right;\">\n",
       "      <th></th>\n",
       "      <th>universe_id</th>\n",
       "      <th>universe_training_year</th>\n",
       "      <th>universe_training_size</th>\n",
       "      <th>universe_scale</th>\n",
       "      <th>universe_model</th>\n",
       "      <th>universe_exclude_features</th>\n",
       "      <th>universe_exclude_subgroups</th>\n",
       "      <th>q_hat</th>\n",
       "      <th>coverage</th>\n",
       "      <th>avg_size</th>\n",
       "    </tr>\n",
       "  </thead>\n",
       "  <tbody>\n",
       "    <tr>\n",
       "      <th>0</th>\n",
       "      <td>fb2cc3a3241da2a573733cc735344d6d</td>\n",
       "      <td>2014</td>\n",
       "      <td>1k</td>\n",
       "      <td>do-not-scale</td>\n",
       "      <td>rf</td>\n",
       "      <td>age</td>\n",
       "      <td>drop-non-german</td>\n",
       "      <td>0.67</td>\n",
       "      <td>0.911738</td>\n",
       "      <td>1.141255</td>\n",
       "    </tr>\n",
       "  </tbody>\n",
       "</table>\n",
       "</div>"
      ],
      "text/plain": [
       "                        universe_id universe_training_year  \\\n",
       "0  fb2cc3a3241da2a573733cc735344d6d                   2014   \n",
       "\n",
       "  universe_training_size universe_scale universe_model  \\\n",
       "0                     1k   do-not-scale             rf   \n",
       "\n",
       "  universe_exclude_features universe_exclude_subgroups  q_hat  coverage  \\\n",
       "0                       age            drop-non-german   0.67  0.911738   \n",
       "\n",
       "   avg_size  \n",
       "0  1.141255  "
      ]
     },
     "execution_count": 50,
     "metadata": {},
     "output_type": "execute_result"
    }
   ],
   "source": [
    "cp_metrics_df"
   ]
  },
  {
   "cell_type": "markdown",
   "id": "ed608b0b",
   "metadata": {
    "papermill": {
     "duration": 0.012968,
     "end_time": "2025-08-19T18:55:06.802420",
     "exception": false,
     "start_time": "2025-08-19T18:55:06.789452",
     "status": "completed"
    },
    "tags": []
   },
   "source": [
    "Conditional coverage & looking at subgroups"
   ]
  },
  {
   "cell_type": "code",
   "execution_count": 51,
   "id": "8968c366",
   "metadata": {
    "execution": {
     "iopub.execute_input": "2025-08-19T18:55:06.830378Z",
     "iopub.status.busy": "2025-08-19T18:55:06.829609Z",
     "iopub.status.idle": "2025-08-19T18:55:07.092402Z",
     "shell.execute_reply": "2025-08-19T18:55:07.091643Z"
    },
    "papermill": {
     "duration": 0.279213,
     "end_time": "2025-08-19T18:55:07.094282",
     "exception": false,
     "start_time": "2025-08-19T18:55:06.815069",
     "status": "completed"
    },
    "tags": []
   },
   "outputs": [],
   "source": [
    "from fairness_multiverse.conformal import build_cp_groups\n",
    "\n",
    "cp_groups_df = build_cp_groups(pred_sets, y_true, X_test.index, org_test)"
   ]
  },
  {
   "cell_type": "code",
   "execution_count": 52,
   "id": "292ddabf",
   "metadata": {
    "execution": {
     "iopub.execute_input": "2025-08-19T18:55:07.138031Z",
     "iopub.status.busy": "2025-08-19T18:55:07.136729Z",
     "iopub.status.idle": "2025-08-19T18:55:07.973048Z",
     "shell.execute_reply": "2025-08-19T18:55:07.972198Z"
    },
    "papermill": {
     "duration": 0.861201,
     "end_time": "2025-08-19T18:55:07.975468",
     "exception": false,
     "start_time": "2025-08-19T18:55:07.114267",
     "status": "completed"
    },
    "tags": []
   },
   "outputs": [],
   "source": [
    "# Define covered = 1 if true_label is in the predicted set\n",
    "cp_groups_df['covered'] = cp_groups_df.apply(\n",
    "    lambda r: int(r['true_label'] in r['pred_set']),\n",
    "    axis=1\n",
    ")"
   ]
  },
  {
   "cell_type": "code",
   "execution_count": 53,
   "id": "3a261692",
   "metadata": {
    "execution": {
     "iopub.execute_input": "2025-08-19T18:55:08.022036Z",
     "iopub.status.busy": "2025-08-19T18:55:08.021327Z",
     "iopub.status.idle": "2025-08-19T18:55:08.043113Z",
     "shell.execute_reply": "2025-08-19T18:55:08.042202Z"
    },
    "papermill": {
     "duration": 0.050056,
     "end_time": "2025-08-19T18:55:08.044867",
     "exception": false,
     "start_time": "2025-08-19T18:55:07.994811",
     "status": "completed"
    },
    "tags": []
   },
   "outputs": [],
   "source": [
    "subgroups = ['frau1','nongerman','nongerman_male','nongerman_female']\n",
    "\n",
    "# Conditional coverage for subgroup==1\n",
    "cond_coverage = {\n",
    "    g: cp_groups_df.loc[cp_groups_df[g]==1, 'covered'].mean()\n",
    "    for g in subgroups\n",
    "}"
   ]
  },
  {
   "cell_type": "code",
   "execution_count": 54,
   "id": "894fd600",
   "metadata": {
    "execution": {
     "iopub.execute_input": "2025-08-19T18:55:08.101934Z",
     "iopub.status.busy": "2025-08-19T18:55:08.099194Z",
     "iopub.status.idle": "2025-08-19T18:55:08.112181Z",
     "shell.execute_reply": "2025-08-19T18:55:08.111039Z"
    },
    "papermill": {
     "duration": 0.031495,
     "end_time": "2025-08-19T18:55:08.113802",
     "exception": false,
     "start_time": "2025-08-19T18:55:08.082307",
     "status": "completed"
    },
    "tags": []
   },
   "outputs": [
    {
     "data": {
      "text/plain": [
       "{'frau1': 0.9069416363391293,\n",
       " 'nongerman': 0.9060798293381238,\n",
       " 'nongerman_male': 0.9254255606592813,\n",
       " 'nongerman_female': 0.8740685543964233}"
      ]
     },
     "execution_count": 54,
     "metadata": {},
     "output_type": "execute_result"
    }
   ],
   "source": [
    "cond_coverage"
   ]
  },
  {
   "cell_type": "code",
   "execution_count": 55,
   "id": "942895c7",
   "metadata": {
    "execution": {
     "iopub.execute_input": "2025-08-19T18:55:08.150069Z",
     "iopub.status.busy": "2025-08-19T18:55:08.149064Z",
     "iopub.status.idle": "2025-08-19T18:55:08.162501Z",
     "shell.execute_reply": "2025-08-19T18:55:08.160746Z"
    },
    "papermill": {
     "duration": 0.031395,
     "end_time": "2025-08-19T18:55:08.164811",
     "exception": false,
     "start_time": "2025-08-19T18:55:08.133416",
     "status": "completed"
    },
    "tags": []
   },
   "outputs": [],
   "source": [
    "for subgroup, cov in cond_coverage.items():\n",
    "    cp_metrics_df[f\"cov_{subgroup}\"] = cov"
   ]
  },
  {
   "cell_type": "code",
   "execution_count": 56,
   "id": "3970120f",
   "metadata": {
    "execution": {
     "iopub.execute_input": "2025-08-19T18:55:08.201508Z",
     "iopub.status.busy": "2025-08-19T18:55:08.200064Z",
     "iopub.status.idle": "2025-08-19T18:55:08.304034Z",
     "shell.execute_reply": "2025-08-19T18:55:08.303150Z"
    },
    "papermill": {
     "duration": 0.124693,
     "end_time": "2025-08-19T18:55:08.309242",
     "exception": false,
     "start_time": "2025-08-19T18:55:08.184549",
     "status": "completed"
    },
    "tags": []
   },
   "outputs": [
    {
     "data": {
      "text/html": [
       "<div>\n",
       "<style scoped>\n",
       "    .dataframe tbody tr th:only-of-type {\n",
       "        vertical-align: middle;\n",
       "    }\n",
       "\n",
       "    .dataframe tbody tr th {\n",
       "        vertical-align: top;\n",
       "    }\n",
       "\n",
       "    .dataframe thead th {\n",
       "        text-align: right;\n",
       "    }\n",
       "</style>\n",
       "<table border=\"1\" class=\"dataframe\">\n",
       "  <thead>\n",
       "    <tr style=\"text-align: right;\">\n",
       "      <th></th>\n",
       "      <th>universe_id</th>\n",
       "      <th>universe_training_year</th>\n",
       "      <th>universe_training_size</th>\n",
       "      <th>universe_scale</th>\n",
       "      <th>universe_model</th>\n",
       "      <th>universe_exclude_features</th>\n",
       "      <th>universe_exclude_subgroups</th>\n",
       "      <th>q_hat</th>\n",
       "      <th>coverage</th>\n",
       "      <th>avg_size</th>\n",
       "      <th>cov_frau1</th>\n",
       "      <th>cov_nongerman</th>\n",
       "      <th>cov_nongerman_male</th>\n",
       "      <th>cov_nongerman_female</th>\n",
       "    </tr>\n",
       "  </thead>\n",
       "  <tbody>\n",
       "    <tr>\n",
       "      <th>0</th>\n",
       "      <td>fb2cc3a3241da2a573733cc735344d6d</td>\n",
       "      <td>2014</td>\n",
       "      <td>1k</td>\n",
       "      <td>do-not-scale</td>\n",
       "      <td>rf</td>\n",
       "      <td>age</td>\n",
       "      <td>drop-non-german</td>\n",
       "      <td>0.67</td>\n",
       "      <td>0.911738</td>\n",
       "      <td>1.141255</td>\n",
       "      <td>0.906942</td>\n",
       "      <td>0.90608</td>\n",
       "      <td>0.925426</td>\n",
       "      <td>0.874069</td>\n",
       "    </tr>\n",
       "  </tbody>\n",
       "</table>\n",
       "</div>"
      ],
      "text/plain": [
       "                        universe_id universe_training_year  \\\n",
       "0  fb2cc3a3241da2a573733cc735344d6d                   2014   \n",
       "\n",
       "  universe_training_size universe_scale universe_model  \\\n",
       "0                     1k   do-not-scale             rf   \n",
       "\n",
       "  universe_exclude_features universe_exclude_subgroups  q_hat  coverage  \\\n",
       "0                       age            drop-non-german   0.67  0.911738   \n",
       "\n",
       "   avg_size  cov_frau1  cov_nongerman  cov_nongerman_male  \\\n",
       "0  1.141255   0.906942        0.90608            0.925426   \n",
       "\n",
       "   cov_nongerman_female  \n",
       "0              0.874069  "
      ]
     },
     "execution_count": 56,
     "metadata": {},
     "output_type": "execute_result"
    }
   ],
   "source": [
    "cp_metrics_df"
   ]
  },
  {
   "cell_type": "markdown",
   "id": "3fc519cc",
   "metadata": {
    "papermill": {
     "duration": 0.016283,
     "end_time": "2025-08-19T18:55:08.364609",
     "exception": false,
     "start_time": "2025-08-19T18:55:08.348326",
     "status": "completed"
    },
    "tags": []
   },
   "source": [
    "# (Fairness) Metrics"
   ]
  },
  {
   "cell_type": "code",
   "execution_count": 57,
   "id": "a2e5e155",
   "metadata": {
    "execution": {
     "iopub.execute_input": "2025-08-19T18:55:08.401783Z",
     "iopub.status.busy": "2025-08-19T18:55:08.401361Z",
     "iopub.status.idle": "2025-08-19T18:55:08.430545Z",
     "shell.execute_reply": "2025-08-19T18:55:08.429386Z"
    },
    "papermill": {
     "duration": 0.056552,
     "end_time": "2025-08-19T18:55:08.433895",
     "exception": false,
     "start_time": "2025-08-19T18:55:08.377343",
     "status": "completed"
    },
    "tags": []
   },
   "outputs": [],
   "source": [
    "colname_to_bin = \"maxdeutsch1\"\n",
    "majority_value = org_train[colname_to_bin].mode()[0]\n",
    "\n",
    "org_test[\"majmin\"] = np.where(org_test[colname_to_bin] == majority_value, \"majority\", \"minority\")"
   ]
  },
  {
   "cell_type": "code",
   "execution_count": 58,
   "id": "17e3e4d5",
   "metadata": {
    "execution": {
     "iopub.execute_input": "2025-08-19T18:55:08.468167Z",
     "iopub.status.busy": "2025-08-19T18:55:08.467795Z",
     "iopub.status.idle": "2025-08-19T18:55:10.258214Z",
     "shell.execute_reply": "2025-08-19T18:55:10.256872Z"
    },
    "papermill": {
     "duration": 1.806221,
     "end_time": "2025-08-19T18:55:10.259828",
     "exception": false,
     "start_time": "2025-08-19T18:55:08.453607",
     "status": "completed"
    },
    "tags": []
   },
   "outputs": [],
   "source": [
    "example_universe = universe.copy()\n",
    "example_universe[\"cutoff\"] = example_universe[\"cutoff\"][0]\n",
    "example_universe[\"eval_fairness_grouping\"] = example_universe[\"eval_fairness_grouping\"][0]\n",
    "fairness_dict, metric_frame = universe_analysis.compute_metrics(\n",
    "    example_universe,\n",
    "    y_pred_prob=probs_test,\n",
    "    y_test=y_true,\n",
    "    org_test=org_test,\n",
    ")"
   ]
  },
  {
   "cell_type": "markdown",
   "id": "1fb7a0e9",
   "metadata": {
    "papermill": {
     "duration": 0.01915,
     "end_time": "2025-08-19T18:55:10.294935",
     "exception": false,
     "start_time": "2025-08-19T18:55:10.275785",
     "status": "completed"
    },
    "tags": []
   },
   "source": [
    "# Overall"
   ]
  },
  {
   "cell_type": "markdown",
   "id": "be1784b1",
   "metadata": {
    "papermill": {
     "duration": 0.012912,
     "end_time": "2025-08-19T18:55:10.321437",
     "exception": false,
     "start_time": "2025-08-19T18:55:10.308525",
     "status": "completed"
    },
    "tags": []
   },
   "source": [
    "Main fairness target: Equalized Odds. Seems to be a better fit than equal opportunity, since we're not only interested in Y = 1. Seems to be a better fit than demographic parity, since we also care about accuracy, not just equal distribution of preds.\n",
    "\n",
    "Pick column for computation of fairness metrics\n",
    "\n",
    "Performance\n",
    "Overall performance measures, most interesting in relation to the measures split by group below"
   ]
  },
  {
   "cell_type": "code",
   "execution_count": 59,
   "id": "b7672bee",
   "metadata": {
    "execution": {
     "iopub.execute_input": "2025-08-19T18:55:10.348272Z",
     "iopub.status.busy": "2025-08-19T18:55:10.347927Z",
     "iopub.status.idle": "2025-08-19T18:55:10.357580Z",
     "shell.execute_reply": "2025-08-19T18:55:10.355734Z"
    },
    "papermill": {
     "duration": 0.029069,
     "end_time": "2025-08-19T18:55:10.363178",
     "exception": false,
     "start_time": "2025-08-19T18:55:10.334109",
     "status": "completed"
    },
    "tags": []
   },
   "outputs": [
    {
     "data": {
      "text/plain": [
       "accuracy                   0.206343\n",
       "balanced accuracy          0.533399\n",
       "f1                         0.239335\n",
       "precision                  0.136443\n",
       "false positive rate        0.906524\n",
       "false negative rate        0.026677\n",
       "selection rate             0.915093\n",
       "count                  89710.000000\n",
       "dtype: float64"
      ]
     },
     "execution_count": 59,
     "metadata": {},
     "output_type": "execute_result"
    }
   ],
   "source": [
    "metric_frame.overall"
   ]
  },
  {
   "cell_type": "markdown",
   "id": "d93333c9",
   "metadata": {
    "papermill": {
     "duration": 0.015144,
     "end_time": "2025-08-19T18:55:10.400787",
     "exception": false,
     "start_time": "2025-08-19T18:55:10.385643",
     "status": "completed"
    },
    "tags": []
   },
   "source": [
    "By Group"
   ]
  },
  {
   "cell_type": "code",
   "execution_count": 60,
   "id": "52256966",
   "metadata": {
    "execution": {
     "iopub.execute_input": "2025-08-19T18:55:10.430277Z",
     "iopub.status.busy": "2025-08-19T18:55:10.429567Z",
     "iopub.status.idle": "2025-08-19T18:55:10.453351Z",
     "shell.execute_reply": "2025-08-19T18:55:10.451588Z"
    },
    "papermill": {
     "duration": 0.042754,
     "end_time": "2025-08-19T18:55:10.456950",
     "exception": false,
     "start_time": "2025-08-19T18:55:10.414196",
     "status": "completed"
    },
    "tags": []
   },
   "outputs": [
    {
     "data": {
      "text/html": [
       "<div>\n",
       "<style scoped>\n",
       "    .dataframe tbody tr th:only-of-type {\n",
       "        vertical-align: middle;\n",
       "    }\n",
       "\n",
       "    .dataframe tbody tr th {\n",
       "        vertical-align: top;\n",
       "    }\n",
       "\n",
       "    .dataframe thead th {\n",
       "        text-align: right;\n",
       "    }\n",
       "</style>\n",
       "<table border=\"1\" class=\"dataframe\">\n",
       "  <thead>\n",
       "    <tr style=\"text-align: right;\">\n",
       "      <th></th>\n",
       "      <th>accuracy</th>\n",
       "      <th>balanced accuracy</th>\n",
       "      <th>f1</th>\n",
       "      <th>precision</th>\n",
       "      <th>false positive rate</th>\n",
       "      <th>false negative rate</th>\n",
       "      <th>selection rate</th>\n",
       "      <th>count</th>\n",
       "    </tr>\n",
       "    <tr>\n",
       "      <th>majmin</th>\n",
       "      <th></th>\n",
       "      <th></th>\n",
       "      <th></th>\n",
       "      <th></th>\n",
       "      <th></th>\n",
       "      <th></th>\n",
       "      <th></th>\n",
       "      <th></th>\n",
       "    </tr>\n",
       "  </thead>\n",
       "  <tbody>\n",
       "    <tr>\n",
       "      <th>majority</th>\n",
       "      <td>0.203759</td>\n",
       "      <td>0.535095</td>\n",
       "      <td>0.246463</td>\n",
       "      <td>0.140844</td>\n",
       "      <td>0.915259</td>\n",
       "      <td>0.014551</td>\n",
       "      <td>0.924534</td>\n",
       "      <td>69170.0</td>\n",
       "    </tr>\n",
       "    <tr>\n",
       "      <th>minority</th>\n",
       "      <td>0.215044</td>\n",
       "      <td>0.524426</td>\n",
       "      <td>0.213934</td>\n",
       "      <td>0.120928</td>\n",
       "      <td>0.877669</td>\n",
       "      <td>0.073480</td>\n",
       "      <td>0.883301</td>\n",
       "      <td>20540.0</td>\n",
       "    </tr>\n",
       "  </tbody>\n",
       "</table>\n",
       "</div>"
      ],
      "text/plain": [
       "          accuracy  balanced accuracy        f1  precision  \\\n",
       "majmin                                                       \n",
       "majority  0.203759           0.535095  0.246463   0.140844   \n",
       "minority  0.215044           0.524426  0.213934   0.120928   \n",
       "\n",
       "          false positive rate  false negative rate  selection rate    count  \n",
       "majmin                                                                       \n",
       "majority             0.915259             0.014551        0.924534  69170.0  \n",
       "minority             0.877669             0.073480        0.883301  20540.0  "
      ]
     },
     "execution_count": 60,
     "metadata": {},
     "output_type": "execute_result"
    }
   ],
   "source": [
    "metric_frame.by_group"
   ]
  },
  {
   "cell_type": "code",
   "execution_count": 61,
   "id": "6e6c20ae",
   "metadata": {
    "execution": {
     "iopub.execute_input": "2025-08-19T18:55:10.490289Z",
     "iopub.status.busy": "2025-08-19T18:55:10.489940Z",
     "iopub.status.idle": "2025-08-19T18:55:12.409855Z",
     "shell.execute_reply": "2025-08-19T18:55:12.408642Z"
    },
    "papermill": {
     "duration": 1.937455,
     "end_time": "2025-08-19T18:55:12.412682",
     "exception": false,
     "start_time": "2025-08-19T18:55:10.475227",
     "status": "completed"
    },
    "tags": []
   },
   "outputs": [
    {
     "data": {
      "text/plain": [
       "array([[<Axes: title={'center': 'accuracy'}, xlabel='majmin'>,\n",
       "        <Axes: title={'center': 'balanced accuracy'}, xlabel='majmin'>,\n",
       "        <Axes: title={'center': 'f1'}, xlabel='majmin'>],\n",
       "       [<Axes: title={'center': 'precision'}, xlabel='majmin'>,\n",
       "        <Axes: title={'center': 'false positive rate'}, xlabel='majmin'>,\n",
       "        <Axes: title={'center': 'false negative rate'}, xlabel='majmin'>],\n",
       "       [<Axes: title={'center': 'selection rate'}, xlabel='majmin'>,\n",
       "        <Axes: title={'center': 'count'}, xlabel='majmin'>,\n",
       "        <Axes: xlabel='majmin'>]], dtype=object)"
      ]
     },
     "execution_count": 61,
     "metadata": {},
     "output_type": "execute_result"
    },
    {
     "data": {
      "image/png": "[encoded data removed]",
      "text/plain": [
       "<Figure size 1200x800 with 9 Axes>"
      ]
     },
     "metadata": {},
     "output_type": "display_data"
    }
   ],
   "source": [
    "# In a graphic\n",
    "metric_frame.by_group.plot.bar(\n",
    "    subplots=True,\n",
    "    layout=[3, 3],\n",
    "    legend=False,\n",
    "    figsize=[12, 8],\n",
    "    title=\"Show all metrics\",\n",
    ")"
   ]
  },
  {
   "cell_type": "markdown",
   "id": "b2e433ae",
   "metadata": {
    "papermill": {
     "duration": 0.013734,
     "end_time": "2025-08-19T18:55:12.448870",
     "exception": false,
     "start_time": "2025-08-19T18:55:12.435136",
     "status": "completed"
    },
    "tags": []
   },
   "source": [
    "# Final Output"
   ]
  },
  {
   "cell_type": "code",
   "execution_count": 62,
   "id": "3871301e",
   "metadata": {
    "execution": {
     "iopub.execute_input": "2025-08-19T18:55:12.479109Z",
     "iopub.status.busy": "2025-08-19T18:55:12.477922Z",
     "iopub.status.idle": "2025-08-19T18:55:12.491010Z",
     "shell.execute_reply": "2025-08-19T18:55:12.490162Z"
    },
    "papermill": {
     "duration": 0.030331,
     "end_time": "2025-08-19T18:55:12.492859",
     "exception": false,
     "start_time": "2025-08-19T18:55:12.462528",
     "status": "completed"
    },
    "tags": []
   },
   "outputs": [
    {
     "data": {
      "text/plain": [
       "4"
      ]
     },
     "execution_count": 62,
     "metadata": {},
     "output_type": "execute_result"
    }
   ],
   "source": [
    "sub_universes = universe_analysis.generate_sub_universes()\n",
    "len(sub_universes)"
   ]
  },
  {
   "cell_type": "code",
   "execution_count": 63,
   "id": "d9cfdaca",
   "metadata": {
    "execution": {
     "iopub.execute_input": "2025-08-19T18:55:12.554060Z",
     "iopub.status.busy": "2025-08-19T18:55:12.553630Z",
     "iopub.status.idle": "2025-08-19T18:55:12.587347Z",
     "shell.execute_reply": "2025-08-19T18:55:12.585170Z"
    },
    "papermill": {
     "duration": 0.062671,
     "end_time": "2025-08-19T18:55:12.590975",
     "exception": false,
     "start_time": "2025-08-19T18:55:12.528304",
     "status": "completed"
    },
    "tags": []
   },
   "outputs": [],
   "source": [
    "def filter_sub_universe_data(sub_universe, org_test):\n",
    "    # Keep all rows — no filtering\n",
    "    keep_rows_mask = np.ones(org_test.shape[0], dtype=bool)\n",
    "\n",
    "    print(f\"[INFO] Keeping all rows: {keep_rows_mask.sum()} rows retained.\")\n",
    "    return keep_rows_mask"
   ]
  },
  {
   "cell_type": "code",
   "execution_count": 64,
   "id": "2bc31ac1",
   "metadata": {
    "execution": {
     "iopub.execute_input": "2025-08-19T18:55:12.630827Z",
     "iopub.status.busy": "2025-08-19T18:55:12.630426Z",
     "iopub.status.idle": "2025-08-19T18:55:19.291758Z",
     "shell.execute_reply": "2025-08-19T18:55:19.290635Z"
    },
    "papermill": {
     "duration": 6.678384,
     "end_time": "2025-08-19T18:55:19.293265",
     "exception": false,
     "start_time": "2025-08-19T18:55:12.614881",
     "status": "completed"
    },
    "tags": []
   },
   "outputs": [
    {
     "name": "stdout",
     "output_type": "stream",
     "text": [
      "Stopping execution_time clock.\n",
      "[INFO] Keeping all rows: 89710 rows retained.\n"
     ]
    },
    {
     "name": "stdout",
     "output_type": "stream",
     "text": [
      "[INFO] Keeping all rows: 89710 rows retained.\n"
     ]
    },
    {
     "name": "stdout",
     "output_type": "stream",
     "text": [
      "[INFO] Keeping all rows: 89710 rows retained.\n"
     ]
    },
    {
     "name": "stdout",
     "output_type": "stream",
     "text": [
      "[INFO] Keeping all rows: 89710 rows retained.\n"
     ]
    },
    {
     "data": {
      "text/html": [
       "<div>\n",
       "<style scoped>\n",
       "    .dataframe tbody tr th:only-of-type {\n",
       "        vertical-align: middle;\n",
       "    }\n",
       "\n",
       "    .dataframe tbody tr th {\n",
       "        vertical-align: top;\n",
       "    }\n",
       "\n",
       "    .dataframe thead th {\n",
       "        text-align: right;\n",
       "    }\n",
       "</style>\n",
       "<table border=\"1\" class=\"dataframe\">\n",
       "  <thead>\n",
       "    <tr style=\"text-align: right;\">\n",
       "      <th></th>\n",
       "      <th>run_no</th>\n",
       "      <th>universe_id</th>\n",
       "      <th>universe_settings</th>\n",
       "      <th>execution_time</th>\n",
       "      <th>test_size_n</th>\n",
       "      <th>test_size_frac</th>\n",
       "      <th>fair_main_equalized_odds_difference</th>\n",
       "      <th>fair_main_equalized_odds_ratio</th>\n",
       "      <th>fair_main_demographic_parity_difference</th>\n",
       "      <th>fair_main_demographic_parity_ratio</th>\n",
       "      <th>...</th>\n",
       "      <th>perf_grp_precision_0</th>\n",
       "      <th>perf_grp_precision_1</th>\n",
       "      <th>perf_grp_false positive rate_0</th>\n",
       "      <th>perf_grp_false positive rate_1</th>\n",
       "      <th>perf_grp_false negative rate_0</th>\n",
       "      <th>perf_grp_false negative rate_1</th>\n",
       "      <th>perf_grp_selection rate_0</th>\n",
       "      <th>perf_grp_selection rate_1</th>\n",
       "      <th>perf_grp_count_0</th>\n",
       "      <th>perf_grp_count_1</th>\n",
       "    </tr>\n",
       "  </thead>\n",
       "  <tbody>\n",
       "    <tr>\n",
       "      <th>0</th>\n",
       "      <td>3</td>\n",
       "      <td>fb2cc3a3241da2a573733cc735344d6d</td>\n",
       "      <td>{\"cutoff\": \"quantile_0.1\", \"eval_fairness_grou...</td>\n",
       "      <td>24.976037</td>\n",
       "      <td>89710</td>\n",
       "      <td>1.0</td>\n",
       "      <td>0.058928</td>\n",
       "      <td>0.940202</td>\n",
       "      <td>0.041233</td>\n",
       "      <td>0.955401</td>\n",
       "      <td>...</td>\n",
       "      <td>NaN</td>\n",
       "      <td>NaN</td>\n",
       "      <td>NaN</td>\n",
       "      <td>NaN</td>\n",
       "      <td>NaN</td>\n",
       "      <td>NaN</td>\n",
       "      <td>NaN</td>\n",
       "      <td>NaN</td>\n",
       "      <td>NaN</td>\n",
       "      <td>NaN</td>\n",
       "    </tr>\n",
       "    <tr>\n",
       "      <th>0</th>\n",
       "      <td>3</td>\n",
       "      <td>fb2cc3a3241da2a573733cc735344d6d</td>\n",
       "      <td>{\"cutoff\": \"quantile_0.1\", \"eval_fairness_grou...</td>\n",
       "      <td>24.976037</td>\n",
       "      <td>89710</td>\n",
       "      <td>1.0</td>\n",
       "      <td>0.058928</td>\n",
       "      <td>0.940202</td>\n",
       "      <td>0.041233</td>\n",
       "      <td>0.955401</td>\n",
       "      <td>...</td>\n",
       "      <td>0.120928</td>\n",
       "      <td>0.140844</td>\n",
       "      <td>0.877669</td>\n",
       "      <td>0.915259</td>\n",
       "      <td>0.073480</td>\n",
       "      <td>0.014551</td>\n",
       "      <td>0.883301</td>\n",
       "      <td>0.924534</td>\n",
       "      <td>20540.0</td>\n",
       "      <td>69170.0</td>\n",
       "    </tr>\n",
       "    <tr>\n",
       "      <th>0</th>\n",
       "      <td>3</td>\n",
       "      <td>fb2cc3a3241da2a573733cc735344d6d</td>\n",
       "      <td>{\"cutoff\": \"quantile_0.25\", \"eval_fairness_gro...</td>\n",
       "      <td>24.976037</td>\n",
       "      <td>89710</td>\n",
       "      <td>1.0</td>\n",
       "      <td>0.120942</td>\n",
       "      <td>0.871538</td>\n",
       "      <td>0.075988</td>\n",
       "      <td>0.902242</td>\n",
       "      <td>...</td>\n",
       "      <td>NaN</td>\n",
       "      <td>NaN</td>\n",
       "      <td>NaN</td>\n",
       "      <td>NaN</td>\n",
       "      <td>NaN</td>\n",
       "      <td>NaN</td>\n",
       "      <td>NaN</td>\n",
       "      <td>NaN</td>\n",
       "      <td>NaN</td>\n",
       "      <td>NaN</td>\n",
       "    </tr>\n",
       "    <tr>\n",
       "      <th>0</th>\n",
       "      <td>3</td>\n",
       "      <td>fb2cc3a3241da2a573733cc735344d6d</td>\n",
       "      <td>{\"cutoff\": \"quantile_0.25\", \"eval_fairness_gro...</td>\n",
       "      <td>24.976037</td>\n",
       "      <td>89710</td>\n",
       "      <td>1.0</td>\n",
       "      <td>0.120942</td>\n",
       "      <td>0.871538</td>\n",
       "      <td>0.075988</td>\n",
       "      <td>0.902242</td>\n",
       "      <td>...</td>\n",
       "      <td>0.134884</td>\n",
       "      <td>0.160045</td>\n",
       "      <td>0.685780</td>\n",
       "      <td>0.752307</td>\n",
       "      <td>0.179476</td>\n",
       "      <td>0.058534</td>\n",
       "      <td>0.701315</td>\n",
       "      <td>0.777302</td>\n",
       "      <td>20540.0</td>\n",
       "      <td>69170.0</td>\n",
       "    </tr>\n",
       "  </tbody>\n",
       "</table>\n",
       "<p>4 rows × 50 columns</p>\n",
       "</div>"
      ],
      "text/plain": [
       "  run_no                       universe_id  \\\n",
       "0      3  fb2cc3a3241da2a573733cc735344d6d   \n",
       "0      3  fb2cc3a3241da2a573733cc735344d6d   \n",
       "0      3  fb2cc3a3241da2a573733cc735344d6d   \n",
       "0      3  fb2cc3a3241da2a573733cc735344d6d   \n",
       "\n",
       "                                   universe_settings  execution_time  \\\n",
       "0  {\"cutoff\": \"quantile_0.1\", \"eval_fairness_grou...       24.976037   \n",
       "0  {\"cutoff\": \"quantile_0.1\", \"eval_fairness_grou...       24.976037   \n",
       "0  {\"cutoff\": \"quantile_0.25\", \"eval_fairness_gro...       24.976037   \n",
       "0  {\"cutoff\": \"quantile_0.25\", \"eval_fairness_gro...       24.976037   \n",
       "\n",
       "   test_size_n  test_size_frac  fair_main_equalized_odds_difference  \\\n",
       "0        89710             1.0                             0.058928   \n",
       "0        89710             1.0                             0.058928   \n",
       "0        89710             1.0                             0.120942   \n",
       "0        89710             1.0                             0.120942   \n",
       "\n",
       "   fair_main_equalized_odds_ratio  fair_main_demographic_parity_difference  \\\n",
       "0                        0.940202                                 0.041233   \n",
       "0                        0.940202                                 0.041233   \n",
       "0                        0.871538                                 0.075988   \n",
       "0                        0.871538                                 0.075988   \n",
       "\n",
       "   fair_main_demographic_parity_ratio  ...  perf_grp_precision_0  \\\n",
       "0                            0.955401  ...                   NaN   \n",
       "0                            0.955401  ...              0.120928   \n",
       "0                            0.902242  ...                   NaN   \n",
       "0                            0.902242  ...              0.134884   \n",
       "\n",
       "   perf_grp_precision_1  perf_grp_false positive rate_0  \\\n",
       "0                   NaN                             NaN   \n",
       "0              0.140844                        0.877669   \n",
       "0                   NaN                             NaN   \n",
       "0              0.160045                        0.685780   \n",
       "\n",
       "   perf_grp_false positive rate_1  perf_grp_false negative rate_0  \\\n",
       "0                             NaN                             NaN   \n",
       "0                        0.915259                        0.073480   \n",
       "0                             NaN                             NaN   \n",
       "0                        0.752307                        0.179476   \n",
       "\n",
       "   perf_grp_false negative rate_1  perf_grp_selection rate_0  \\\n",
       "0                             NaN                        NaN   \n",
       "0                        0.014551                   0.883301   \n",
       "0                             NaN                        NaN   \n",
       "0                        0.058534                   0.701315   \n",
       "\n",
       "   perf_grp_selection rate_1  perf_grp_count_0  perf_grp_count_1  \n",
       "0                        NaN               NaN               NaN  \n",
       "0                   0.924534           20540.0           69170.0  \n",
       "0                        NaN               NaN               NaN  \n",
       "0                   0.777302           20540.0           69170.0  \n",
       "\n",
       "[4 rows x 50 columns]"
      ]
     },
     "execution_count": 64,
     "metadata": {},
     "output_type": "execute_result"
    }
   ],
   "source": [
    "final_output = universe_analysis.generate_final_output(\n",
    "    y_pred_prob=probs_test,\n",
    "    y_test=y_true,\n",
    "    org_test=org_test,\n",
    "    filter_data=filter_sub_universe_data,\n",
    "    cp_metrics_df=cp_metrics_df,\n",
    "    save=True,\n",
    ")\n",
    "final_output"
   ]
  },
  {
   "cell_type": "code",
   "execution_count": null,
   "id": "8b80a1ff",
   "metadata": {
    "papermill": {
     "duration": 0.015725,
     "end_time": "2025-08-19T18:55:19.329839",
     "exception": false,
     "start_time": "2025-08-19T18:55:19.314114",
     "status": "completed"
    },
    "tags": []
   },
   "outputs": [],
   "source": []
  },
  {
   "cell_type": "code",
   "execution_count": null,
   "id": "275c9fad",
   "metadata": {
    "papermill": {
     "duration": 0.014384,
     "end_time": "2025-08-19T18:55:19.374786",
     "exception": false,
     "start_time": "2025-08-19T18:55:19.360402",
     "status": "completed"
    },
    "tags": []
   },
   "outputs": [],
   "source": []
  }
 ],
 "metadata": {
  "celltoolbar": "Tags",
  "kernelspec": {
   "display_name": "Python (CMA Fairness)",
   "language": "python",
   "name": "cma_fair_env"
  },
  "language_info": {
   "codemirror_mode": {
    "name": "ipython",
    "version": 3
   },
   "file_extension": ".py",
   "mimetype": "text/x-python",
   "name": "python",
   "nbconvert_exporter": "python",
   "pygments_lexer": "ipython3",
   "version": "3.10.12"
  },
  "papermill": {
   "default_parameters": {},
   "duration": 35.278112,
   "end_time": "2025-08-19T18:55:20.209803",
   "environment_variables": {},
   "exception": null,
   "input_path": "universe_analysis.ipynb",
   "output_path": "output/runs/3/notebooks/m_3-fb2cc3a3241da2a573733cc735344d6d.ipynb",
   "parameters": {
    "output_dir": "output",
    "run_no": "3",
    "seed": "2023",
    "universe": "{\"cutoff\": [\"quantile_0.1\", \"quantile_0.25\"], \"eval_fairness_grouping\": [\"majority-minority\", \"nationality-all\"], \"exclude_features\": \"age\", \"exclude_subgroups\": \"drop-non-german\", \"model\": \"rf\", \"scale\": \"do-not-scale\", \"training_size\": \"1k\", \"training_year\": \"2014\"}",
    "universe_id": "fb2cc3a3241da2a573733cc735344d6d"
   },
   "start_time": "2025-08-19T18:54:44.931691",
   "version": "2.6.0"
  }
 },
 "nbformat": 4,
 "nbformat_minor": 5
}