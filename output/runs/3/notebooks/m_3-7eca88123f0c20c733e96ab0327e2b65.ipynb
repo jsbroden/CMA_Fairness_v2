{
 "cells": [
  {
   "cell_type": "markdown",
   "id": "ef23dbb3",
   "metadata": {
    "papermill": {
     "duration": 0.010987,
     "end_time": "2025-08-19T18:04:36.144145",
     "exception": false,
     "start_time": "2025-08-19T18:04:36.133158",
     "status": "completed"
    },
    "tags": []
   },
   "source": [
    "# Setup"
   ]
  },
  {
   "cell_type": "code",
   "execution_count": 1,
   "id": "0bc8e7dc",
   "metadata": {
    "execution": {
     "iopub.execute_input": "2025-08-19T18:04:36.165611Z",
     "iopub.status.busy": "2025-08-19T18:04:36.164232Z",
     "iopub.status.idle": "2025-08-19T18:04:36.182950Z",
     "shell.execute_reply": "2025-08-19T18:04:36.181827Z"
    },
    "papermill": {
     "duration": 0.031833,
     "end_time": "2025-08-19T18:04:36.185395",
     "exception": false,
     "start_time": "2025-08-19T18:04:36.153562",
     "status": "completed"
    },
    "tags": []
   },
   "outputs": [
    {
     "name": "stdout",
     "output_type": "stream",
     "text": [
      "/dss/dsshome1/0C/ra93lal2/cma/CMA_Fairness_v2\n"
     ]
    },
    {
     "name": "stderr",
     "output_type": "stream",
     "text": [
      "/dss/dsshome1/0C/ra93lal2/.local/share/virtualenvs/CMA_Fairness_v2-3j10GkSs/lib/python3.10/site-packages/IPython/core/magics/osm.py:393: UserWarning: This is now an optional IPython functionality, using bookmarks requires you to install the `pickleshare` library.\n",
      "  bkms = self.shell.db.get('bookmarks', {})\n",
      "/dss/dsshome1/0C/ra93lal2/.local/share/virtualenvs/CMA_Fairness_v2-3j10GkSs/lib/python3.10/site-packages/IPython/core/magics/osm.py:417: UserWarning: This is now an optional IPython functionality, setting dhist requires you to install the `pickleshare` library.\n",
      "  self.shell.db['dhist'] = compress_dhist(dhist)[-100:]\n"
     ]
    }
   ],
   "source": [
    "%cd ~/cma/CMA_Fairness_v2"
   ]
  },
  {
   "cell_type": "markdown",
   "id": "9d235661",
   "metadata": {
    "papermill": {
     "duration": 0.009493,
     "end_time": "2025-08-19T18:04:36.208294",
     "exception": false,
     "start_time": "2025-08-19T18:04:36.198801",
     "status": "completed"
    },
    "tags": []
   },
   "source": [
    "The following cell holds the definition of our parameters, these values can be overriden by rendering the with e.g. the following command:\n",
    "\n",
    "papermill -p alpha 0.2 -p ratio 0.3 universe_analysis.ipynb output/test_run.ipynb"
   ]
  },
  {
   "cell_type": "code",
   "execution_count": 2,
   "id": "4a789d8e",
   "metadata": {
    "execution": {
     "iopub.execute_input": "2025-08-19T18:04:36.229077Z",
     "iopub.status.busy": "2025-08-19T18:04:36.228209Z",
     "iopub.status.idle": "2025-08-19T18:04:36.236416Z",
     "shell.execute_reply": "2025-08-19T18:04:36.235024Z"
    },
    "papermill": {
     "duration": 0.02066,
     "end_time": "2025-08-19T18:04:36.237981",
     "exception": false,
     "start_time": "2025-08-19T18:04:36.217321",
     "status": "completed"
    },
    "tags": []
   },
   "outputs": [
    {
     "name": "stdout",
     "output_type": "stream",
     "text": [
      "Current working directory: /dss/dsshome1/0C/ra93lal2/cma/CMA_Fairness_v2\n"
     ]
    }
   ],
   "source": [
    "import os\n",
    "print(\"Current working directory:\", os.getcwd())"
   ]
  },
  {
   "cell_type": "code",
   "execution_count": 3,
   "id": "4132aaed",
   "metadata": {
    "execution": {
     "iopub.execute_input": "2025-08-19T18:04:36.261767Z",
     "iopub.status.busy": "2025-08-19T18:04:36.260456Z",
     "iopub.status.idle": "2025-08-19T18:04:36.271935Z",
     "shell.execute_reply": "2025-08-19T18:04:36.271015Z"
    },
    "papermill": {
     "duration": 0.024363,
     "end_time": "2025-08-19T18:04:36.273780",
     "exception": false,
     "start_time": "2025-08-19T18:04:36.249417",
     "status": "completed"
    },
    "tags": [
     "parameters"
    ]
   },
   "outputs": [],
   "source": [
    "run_no = 0\n",
    "universe_id = \"test\"\n",
    "universe = {\n",
    "    \"training_size\": \"5k\", # \"25k\", \"5k\", \"1k\"\n",
    "    \"training_year\": \"2012_14\", # \"2014\", \"2012_14\", \"2010_14\"\n",
    "    \"scale\": \"scale\", # \"scale\", \"do-not-scale\",\n",
    "    \"model\": \"elasticnet\", # \"logreg\", \"penalized_logreg\", \"rf\", \"gbm\", \"elasticnet\"\n",
    "    \"cutoff\": [\"quantile_0.15\", \"quantile_0.30\"],\n",
    "    \"exclude_features\": \"age\", # \"none\", \"nationality\", \"sex\", \"nationality-sex\", \"age\"\n",
    "    \"exclude_subgroups\": \"drop-non-german\", # \"keep-all\", \"drop-non-german\"\n",
    "    \"eval_fairness_grouping\": [\"majority-minority\", \"nationality-all\"]\n",
    "}\n",
    "\n",
    "output_dir=\"./output\"\n",
    "seed=0"
   ]
  },
  {
   "cell_type": "code",
   "execution_count": 4,
   "id": "68d618c0",
   "metadata": {
    "execution": {
     "iopub.execute_input": "2025-08-19T18:04:36.297408Z",
     "iopub.status.busy": "2025-08-19T18:04:36.296932Z",
     "iopub.status.idle": "2025-08-19T18:04:36.303820Z",
     "shell.execute_reply": "2025-08-19T18:04:36.302565Z"
    },
    "papermill": {
     "duration": 0.020682,
     "end_time": "2025-08-19T18:04:36.307048",
     "exception": false,
     "start_time": "2025-08-19T18:04:36.286366",
     "status": "completed"
    },
    "tags": [
     "injected-parameters"
    ]
   },
   "outputs": [],
   "source": [
    "# Parameters\n",
    "universe_id = \"7eca88123f0c20c733e96ab0327e2b65\"\n",
    "run_no = \"3\"\n",
    "universe = \"{\\\"cutoff\\\": [\\\"quantile_0.1\\\", \\\"quantile_0.25\\\"], \\\"eval_fairness_grouping\\\": [\\\"majority-minority\\\", \\\"nationality-all\\\"], \\\"exclude_features\\\": \\\"sex\\\", \\\"exclude_subgroups\\\": \\\"drop-non-german\\\", \\\"model\\\": \\\"rf\\\", \\\"scale\\\": \\\"scale\\\", \\\"training_size\\\": \\\"25k\\\", \\\"training_year\\\": \\\"2012_14\\\"}\"\n",
    "output_dir = \"output\"\n",
    "seed = \"2023\"\n"
   ]
  },
  {
   "cell_type": "code",
   "execution_count": 5,
   "id": "a5d7941f",
   "metadata": {
    "execution": {
     "iopub.execute_input": "2025-08-19T18:04:36.337233Z",
     "iopub.status.busy": "2025-08-19T18:04:36.336043Z",
     "iopub.status.idle": "2025-08-19T18:04:36.343697Z",
     "shell.execute_reply": "2025-08-19T18:04:36.342228Z"
    },
    "papermill": {
     "duration": 0.02092,
     "end_time": "2025-08-19T18:04:36.345151",
     "exception": false,
     "start_time": "2025-08-19T18:04:36.324231",
     "status": "completed"
    },
    "tags": []
   },
   "outputs": [],
   "source": [
    "import json\n",
    "if isinstance(universe, str):\n",
    "    universe = json.loads(universe)"
   ]
  },
  {
   "cell_type": "code",
   "execution_count": 6,
   "id": "7076ccb1",
   "metadata": {
    "execution": {
     "iopub.execute_input": "2025-08-19T18:04:36.367249Z",
     "iopub.status.busy": "2025-08-19T18:04:36.366264Z",
     "iopub.status.idle": "2025-08-19T18:04:36.433117Z",
     "shell.execute_reply": "2025-08-19T18:04:36.432420Z"
    },
    "papermill": {
     "duration": 0.079591,
     "end_time": "2025-08-19T18:04:36.434966",
     "exception": false,
     "start_time": "2025-08-19T18:04:36.355375",
     "status": "completed"
    },
    "tags": []
   },
   "outputs": [],
   "source": [
    "# Auto-reload the custom package\n",
    "%load_ext autoreload\n",
    "%autoreload 1\n",
    "%aimport fairness_multiverse"
   ]
  },
  {
   "cell_type": "code",
   "execution_count": 7,
   "id": "94c8eb93",
   "metadata": {
    "execution": {
     "iopub.execute_input": "2025-08-19T18:04:36.455055Z",
     "iopub.status.busy": "2025-08-19T18:04:36.454571Z",
     "iopub.status.idle": "2025-08-19T18:04:38.139080Z",
     "shell.execute_reply": "2025-08-19T18:04:38.136698Z"
    },
    "papermill": {
     "duration": 1.696623,
     "end_time": "2025-08-19T18:04:38.140993",
     "exception": false,
     "start_time": "2025-08-19T18:04:36.444370",
     "status": "completed"
    },
    "tags": []
   },
   "outputs": [],
   "source": [
    "from fairness_multiverse.universe import UniverseAnalysis\n",
    "\n",
    "universe_analysis = UniverseAnalysis(\n",
    "    run_no = run_no,\n",
    "    universe_id = universe_id,\n",
    "    universe = universe,\n",
    "    output_dir=output_dir,\n",
    ")"
   ]
  },
  {
   "cell_type": "code",
   "execution_count": 8,
   "id": "2a6381cf",
   "metadata": {
    "execution": {
     "iopub.execute_input": "2025-08-19T18:04:38.180650Z",
     "iopub.status.busy": "2025-08-19T18:04:38.178791Z",
     "iopub.status.idle": "2025-08-19T18:04:38.190620Z",
     "shell.execute_reply": "2025-08-19T18:04:38.189229Z"
    },
    "papermill": {
     "duration": 0.04088,
     "end_time": "2025-08-19T18:04:38.192229",
     "exception": false,
     "start_time": "2025-08-19T18:04:38.151349",
     "status": "completed"
    },
    "tags": []
   },
   "outputs": [
    {
     "name": "stdout",
     "output_type": "stream",
     "text": [
      "Using Seed: 2023\n"
     ]
    }
   ],
   "source": [
    "import numpy as np\n",
    "parsed_seed = int(seed)\n",
    "np.random.seed(parsed_seed)\n",
    "print(f\"Using Seed: {parsed_seed}\")"
   ]
  },
  {
   "cell_type": "markdown",
   "id": "b6e958b4",
   "metadata": {
    "papermill": {
     "duration": 0.009802,
     "end_time": "2025-08-19T18:04:38.213643",
     "exception": false,
     "start_time": "2025-08-19T18:04:38.203841",
     "status": "completed"
    },
    "tags": []
   },
   "source": [
    "# Loading Data"
   ]
  },
  {
   "cell_type": "code",
   "execution_count": 9,
   "id": "98701482",
   "metadata": {
    "execution": {
     "iopub.execute_input": "2025-08-19T18:04:38.234204Z",
     "iopub.status.busy": "2025-08-19T18:04:38.233495Z",
     "iopub.status.idle": "2025-08-19T18:04:48.797724Z",
     "shell.execute_reply": "2025-08-19T18:04:48.796419Z"
    },
    "papermill": {
     "duration": 10.576497,
     "end_time": "2025-08-19T18:04:48.799350",
     "exception": false,
     "start_time": "2025-08-19T18:04:38.222853",
     "status": "completed"
    },
    "tags": []
   },
   "outputs": [
    {
     "name": "stdout",
     "output_type": "stream",
     "text": [
      "Loading SIAB data from cache: data/siab_cached.csv.gz\n"
     ]
    },
    {
     "name": "stdout",
     "output_type": "stream",
     "text": [
      "(643690, 164)\n"
     ]
    }
   ],
   "source": [
    "from pathlib import Path\n",
    "import pandas as pd\n",
    "\n",
    "# File paths\n",
    "raw_file = Path(\"data/raw/siab.csv\")\n",
    "cache_file = Path(\"data/siab_cached.csv.gz\")\n",
    "\n",
    "# Ensure cache directory exists\n",
    "cache_file.parent.mkdir(parents=True, exist_ok=True)\n",
    "\n",
    "# Load with simple caching\n",
    "if cache_file.exists():\n",
    "    print(f\"Loading SIAB data from cache: {cache_file}\")\n",
    "    siab = pd.read_csv(cache_file, compression='gzip')\n",
    "else:\n",
    "    print(f\"Cache not found. Reading raw SIAB data: {raw_file}\")\n",
    "    siab = pd.read_csv(raw_file)\n",
    "    siab.to_csv(cache_file, index=False, compression='gzip')\n",
    "    print(f\"Cached SIAB data to: {cache_file}\")\n",
    "\n",
    "print(siab.shape)"
   ]
  },
  {
   "cell_type": "code",
   "execution_count": 10,
   "id": "058d2abb",
   "metadata": {
    "execution": {
     "iopub.execute_input": "2025-08-19T18:04:48.846026Z",
     "iopub.status.busy": "2025-08-19T18:04:48.844535Z",
     "iopub.status.idle": "2025-08-19T18:04:49.079662Z",
     "shell.execute_reply": "2025-08-19T18:04:49.078878Z"
    },
    "papermill": {
     "duration": 0.26105,
     "end_time": "2025-08-19T18:04:49.081162",
     "exception": false,
     "start_time": "2025-08-19T18:04:48.820112",
     "status": "completed"
    },
    "tags": []
   },
   "outputs": [
    {
     "data": {
      "text/html": [
       "<div>\n",
       "<style scoped>\n",
       "    .dataframe tbody tr th:only-of-type {\n",
       "        vertical-align: middle;\n",
       "    }\n",
       "\n",
       "    .dataframe tbody tr th {\n",
       "        vertical-align: top;\n",
       "    }\n",
       "\n",
       "    .dataframe thead th {\n",
       "        text-align: right;\n",
       "    }\n",
       "</style>\n",
       "<table border=\"1\" class=\"dataframe\">\n",
       "  <thead>\n",
       "    <tr style=\"text-align: right;\">\n",
       "      <th></th>\n",
       "      <th>persnr</th>\n",
       "      <th>year</th>\n",
       "      <th>nrEntry</th>\n",
       "      <th>ltue</th>\n",
       "      <th>employed_before</th>\n",
       "      <th>receipt_leh_before</th>\n",
       "      <th>receipt_lhg_before</th>\n",
       "      <th>se_before</th>\n",
       "      <th>ASU_notue_seeking_before</th>\n",
       "      <th>ASU_other_before</th>\n",
       "      <th>...</th>\n",
       "      <th>minijob_tot_dur_byage</th>\n",
       "      <th>ft_tot_dur_byage</th>\n",
       "      <th>befrist_tot_dur_byage</th>\n",
       "      <th>leih_tot_dur_byage</th>\n",
       "      <th>LHG_tot_dur_byage</th>\n",
       "      <th>LEH_tot_dur_byage</th>\n",
       "      <th>almp_tot_dur_byage</th>\n",
       "      <th>almp_aw_tot_dur_byage</th>\n",
       "      <th>se_tot_dur_byage</th>\n",
       "      <th>seeking1_tot_dur_byage</th>\n",
       "    </tr>\n",
       "  </thead>\n",
       "  <tbody>\n",
       "    <tr>\n",
       "      <th>0</th>\n",
       "      <td>7</td>\n",
       "      <td>2015</td>\n",
       "      <td>1</td>\n",
       "      <td>0</td>\n",
       "      <td>1</td>\n",
       "      <td>0</td>\n",
       "      <td>0</td>\n",
       "      <td>0</td>\n",
       "      <td>1</td>\n",
       "      <td>0</td>\n",
       "      <td>...</td>\n",
       "      <td>0.000000</td>\n",
       "      <td>0.000000</td>\n",
       "      <td>15.043478</td>\n",
       "      <td>0.000000</td>\n",
       "      <td>0.000000</td>\n",
       "      <td>0.000000</td>\n",
       "      <td>0.000000</td>\n",
       "      <td>0.000000</td>\n",
       "      <td>0.000000</td>\n",
       "      <td>0.000000</td>\n",
       "    </tr>\n",
       "    <tr>\n",
       "      <th>1</th>\n",
       "      <td>18</td>\n",
       "      <td>2010</td>\n",
       "      <td>1</td>\n",
       "      <td>1</td>\n",
       "      <td>0</td>\n",
       "      <td>0</td>\n",
       "      <td>0</td>\n",
       "      <td>0</td>\n",
       "      <td>0</td>\n",
       "      <td>0</td>\n",
       "      <td>...</td>\n",
       "      <td>0.000000</td>\n",
       "      <td>0.000000</td>\n",
       "      <td>0.000000</td>\n",
       "      <td>0.000000</td>\n",
       "      <td>0.000000</td>\n",
       "      <td>0.000000</td>\n",
       "      <td>0.000000</td>\n",
       "      <td>0.000000</td>\n",
       "      <td>0.000000</td>\n",
       "      <td>0.000000</td>\n",
       "    </tr>\n",
       "    <tr>\n",
       "      <th>2</th>\n",
       "      <td>18</td>\n",
       "      <td>2011</td>\n",
       "      <td>2</td>\n",
       "      <td>0</td>\n",
       "      <td>1</td>\n",
       "      <td>0</td>\n",
       "      <td>1</td>\n",
       "      <td>0</td>\n",
       "      <td>1</td>\n",
       "      <td>0</td>\n",
       "      <td>...</td>\n",
       "      <td>2.714286</td>\n",
       "      <td>2.714286</td>\n",
       "      <td>0.000000</td>\n",
       "      <td>0.000000</td>\n",
       "      <td>10.775510</td>\n",
       "      <td>0.000000</td>\n",
       "      <td>8.367347</td>\n",
       "      <td>0.000000</td>\n",
       "      <td>0.000000</td>\n",
       "      <td>9.836735</td>\n",
       "    </tr>\n",
       "    <tr>\n",
       "      <th>3</th>\n",
       "      <td>18</td>\n",
       "      <td>2012</td>\n",
       "      <td>3</td>\n",
       "      <td>0</td>\n",
       "      <td>1</td>\n",
       "      <td>0</td>\n",
       "      <td>1</td>\n",
       "      <td>0</td>\n",
       "      <td>1</td>\n",
       "      <td>0</td>\n",
       "      <td>...</td>\n",
       "      <td>4.200000</td>\n",
       "      <td>4.200000</td>\n",
       "      <td>0.000000</td>\n",
       "      <td>0.000000</td>\n",
       "      <td>12.100000</td>\n",
       "      <td>0.000000</td>\n",
       "      <td>9.400000</td>\n",
       "      <td>0.000000</td>\n",
       "      <td>0.000000</td>\n",
       "      <td>9.960000</td>\n",
       "    </tr>\n",
       "    <tr>\n",
       "      <th>4</th>\n",
       "      <td>18</td>\n",
       "      <td>2012</td>\n",
       "      <td>4</td>\n",
       "      <td>0</td>\n",
       "      <td>1</td>\n",
       "      <td>0</td>\n",
       "      <td>1</td>\n",
       "      <td>0</td>\n",
       "      <td>1</td>\n",
       "      <td>0</td>\n",
       "      <td>...</td>\n",
       "      <td>5.460000</td>\n",
       "      <td>5.460000</td>\n",
       "      <td>0.000000</td>\n",
       "      <td>0.000000</td>\n",
       "      <td>13.360000</td>\n",
       "      <td>0.000000</td>\n",
       "      <td>10.320000</td>\n",
       "      <td>0.000000</td>\n",
       "      <td>0.000000</td>\n",
       "      <td>10.280000</td>\n",
       "    </tr>\n",
       "    <tr>\n",
       "      <th>...</th>\n",
       "      <td>...</td>\n",
       "      <td>...</td>\n",
       "      <td>...</td>\n",
       "      <td>...</td>\n",
       "      <td>...</td>\n",
       "      <td>...</td>\n",
       "      <td>...</td>\n",
       "      <td>...</td>\n",
       "      <td>...</td>\n",
       "      <td>...</td>\n",
       "      <td>...</td>\n",
       "      <td>...</td>\n",
       "      <td>...</td>\n",
       "      <td>...</td>\n",
       "      <td>...</td>\n",
       "      <td>...</td>\n",
       "      <td>...</td>\n",
       "      <td>...</td>\n",
       "      <td>...</td>\n",
       "      <td>...</td>\n",
       "      <td>...</td>\n",
       "    </tr>\n",
       "    <tr>\n",
       "      <th>643685</th>\n",
       "      <td>1827860</td>\n",
       "      <td>2013</td>\n",
       "      <td>1</td>\n",
       "      <td>0</td>\n",
       "      <td>0</td>\n",
       "      <td>0</td>\n",
       "      <td>1</td>\n",
       "      <td>0</td>\n",
       "      <td>0</td>\n",
       "      <td>1</td>\n",
       "      <td>...</td>\n",
       "      <td>0.000000</td>\n",
       "      <td>0.000000</td>\n",
       "      <td>0.000000</td>\n",
       "      <td>0.000000</td>\n",
       "      <td>0.612903</td>\n",
       "      <td>0.000000</td>\n",
       "      <td>0.000000</td>\n",
       "      <td>0.000000</td>\n",
       "      <td>0.000000</td>\n",
       "      <td>0.000000</td>\n",
       "    </tr>\n",
       "    <tr>\n",
       "      <th>643686</th>\n",
       "      <td>1827860</td>\n",
       "      <td>2015</td>\n",
       "      <td>2</td>\n",
       "      <td>1</td>\n",
       "      <td>0</td>\n",
       "      <td>0</td>\n",
       "      <td>1</td>\n",
       "      <td>0</td>\n",
       "      <td>1</td>\n",
       "      <td>0</td>\n",
       "      <td>...</td>\n",
       "      <td>0.000000</td>\n",
       "      <td>0.000000</td>\n",
       "      <td>0.212121</td>\n",
       "      <td>0.212121</td>\n",
       "      <td>17.363636</td>\n",
       "      <td>0.000000</td>\n",
       "      <td>8.909091</td>\n",
       "      <td>0.000000</td>\n",
       "      <td>0.000000</td>\n",
       "      <td>7.121212</td>\n",
       "    </tr>\n",
       "    <tr>\n",
       "      <th>643687</th>\n",
       "      <td>1827860</td>\n",
       "      <td>2016</td>\n",
       "      <td>3</td>\n",
       "      <td>1</td>\n",
       "      <td>0</td>\n",
       "      <td>0</td>\n",
       "      <td>1</td>\n",
       "      <td>1</td>\n",
       "      <td>0</td>\n",
       "      <td>1</td>\n",
       "      <td>...</td>\n",
       "      <td>0.000000</td>\n",
       "      <td>0.000000</td>\n",
       "      <td>0.294118</td>\n",
       "      <td>0.205882</td>\n",
       "      <td>34.705882</td>\n",
       "      <td>0.000000</td>\n",
       "      <td>10.352941</td>\n",
       "      <td>1.705882</td>\n",
       "      <td>1.705882</td>\n",
       "      <td>23.911765</td>\n",
       "    </tr>\n",
       "    <tr>\n",
       "      <th>643688</th>\n",
       "      <td>1827869</td>\n",
       "      <td>2013</td>\n",
       "      <td>1</td>\n",
       "      <td>1</td>\n",
       "      <td>1</td>\n",
       "      <td>0</td>\n",
       "      <td>0</td>\n",
       "      <td>0</td>\n",
       "      <td>1</td>\n",
       "      <td>0</td>\n",
       "      <td>...</td>\n",
       "      <td>0.000000</td>\n",
       "      <td>0.000000</td>\n",
       "      <td>0.000000</td>\n",
       "      <td>0.000000</td>\n",
       "      <td>0.000000</td>\n",
       "      <td>0.525424</td>\n",
       "      <td>0.000000</td>\n",
       "      <td>0.000000</td>\n",
       "      <td>0.000000</td>\n",
       "      <td>0.000000</td>\n",
       "    </tr>\n",
       "    <tr>\n",
       "      <th>643689</th>\n",
       "      <td>1827869</td>\n",
       "      <td>2014</td>\n",
       "      <td>2</td>\n",
       "      <td>0</td>\n",
       "      <td>0</td>\n",
       "      <td>1</td>\n",
       "      <td>0</td>\n",
       "      <td>0</td>\n",
       "      <td>1</td>\n",
       "      <td>0</td>\n",
       "      <td>...</td>\n",
       "      <td>0.000000</td>\n",
       "      <td>0.666667</td>\n",
       "      <td>0.666667</td>\n",
       "      <td>0.000000</td>\n",
       "      <td>0.000000</td>\n",
       "      <td>8.950000</td>\n",
       "      <td>1.033333</td>\n",
       "      <td>0.083333</td>\n",
       "      <td>0.083333</td>\n",
       "      <td>8.133333</td>\n",
       "    </tr>\n",
       "  </tbody>\n",
       "</table>\n",
       "<p>643690 rows × 164 columns</p>\n",
       "</div>"
      ],
      "text/plain": [
       "         persnr  year  nrEntry  ltue  employed_before  receipt_leh_before  \\\n",
       "0             7  2015        1     0                1                   0   \n",
       "1            18  2010        1     1                0                   0   \n",
       "2            18  2011        2     0                1                   0   \n",
       "3            18  2012        3     0                1                   0   \n",
       "4            18  2012        4     0                1                   0   \n",
       "...         ...   ...      ...   ...              ...                 ...   \n",
       "643685  1827860  2013        1     0                0                   0   \n",
       "643686  1827860  2015        2     1                0                   0   \n",
       "643687  1827860  2016        3     1                0                   0   \n",
       "643688  1827869  2013        1     1                1                   0   \n",
       "643689  1827869  2014        2     0                0                   1   \n",
       "\n",
       "        receipt_lhg_before  se_before  ASU_notue_seeking_before  \\\n",
       "0                        0          0                         1   \n",
       "1                        0          0                         0   \n",
       "2                        1          0                         1   \n",
       "3                        1          0                         1   \n",
       "4                        1          0                         1   \n",
       "...                    ...        ...                       ...   \n",
       "643685                   1          0                         0   \n",
       "643686                   1          0                         1   \n",
       "643687                   1          1                         0   \n",
       "643688                   0          0                         1   \n",
       "643689                   0          0                         1   \n",
       "\n",
       "        ASU_other_before  ...  minijob_tot_dur_byage  ft_tot_dur_byage  \\\n",
       "0                      0  ...               0.000000          0.000000   \n",
       "1                      0  ...               0.000000          0.000000   \n",
       "2                      0  ...               2.714286          2.714286   \n",
       "3                      0  ...               4.200000          4.200000   \n",
       "4                      0  ...               5.460000          5.460000   \n",
       "...                  ...  ...                    ...               ...   \n",
       "643685                 1  ...               0.000000          0.000000   \n",
       "643686                 0  ...               0.000000          0.000000   \n",
       "643687                 1  ...               0.000000          0.000000   \n",
       "643688                 0  ...               0.000000          0.000000   \n",
       "643689                 0  ...               0.000000          0.666667   \n",
       "\n",
       "        befrist_tot_dur_byage  leih_tot_dur_byage  LHG_tot_dur_byage  \\\n",
       "0                   15.043478            0.000000           0.000000   \n",
       "1                    0.000000            0.000000           0.000000   \n",
       "2                    0.000000            0.000000          10.775510   \n",
       "3                    0.000000            0.000000          12.100000   \n",
       "4                    0.000000            0.000000          13.360000   \n",
       "...                       ...                 ...                ...   \n",
       "643685               0.000000            0.000000           0.612903   \n",
       "643686               0.212121            0.212121          17.363636   \n",
       "643687               0.294118            0.205882          34.705882   \n",
       "643688               0.000000            0.000000           0.000000   \n",
       "643689               0.666667            0.000000           0.000000   \n",
       "\n",
       "        LEH_tot_dur_byage  almp_tot_dur_byage  almp_aw_tot_dur_byage  \\\n",
       "0                0.000000            0.000000               0.000000   \n",
       "1                0.000000            0.000000               0.000000   \n",
       "2                0.000000            8.367347               0.000000   \n",
       "3                0.000000            9.400000               0.000000   \n",
       "4                0.000000           10.320000               0.000000   \n",
       "...                   ...                 ...                    ...   \n",
       "643685           0.000000            0.000000               0.000000   \n",
       "643686           0.000000            8.909091               0.000000   \n",
       "643687           0.000000           10.352941               1.705882   \n",
       "643688           0.525424            0.000000               0.000000   \n",
       "643689           8.950000            1.033333               0.083333   \n",
       "\n",
       "        se_tot_dur_byage  seeking1_tot_dur_byage  \n",
       "0               0.000000                0.000000  \n",
       "1               0.000000                0.000000  \n",
       "2               0.000000                9.836735  \n",
       "3               0.000000                9.960000  \n",
       "4               0.000000               10.280000  \n",
       "...                  ...                     ...  \n",
       "643685          0.000000                0.000000  \n",
       "643686          0.000000                7.121212  \n",
       "643687          1.705882               23.911765  \n",
       "643688          0.000000                0.000000  \n",
       "643689          0.083333                8.133333  \n",
       "\n",
       "[643690 rows x 164 columns]"
      ]
     },
     "execution_count": 10,
     "metadata": {},
     "output_type": "execute_result"
    }
   ],
   "source": [
    "siab"
   ]
  },
  {
   "cell_type": "markdown",
   "id": "1f87e805",
   "metadata": {
    "papermill": {
     "duration": 0.009634,
     "end_time": "2025-08-19T18:04:49.102370",
     "exception": false,
     "start_time": "2025-08-19T18:04:49.092736",
     "status": "completed"
    },
    "tags": []
   },
   "source": [
    "# Splitting Data and Setting Training Data Size"
   ]
  },
  {
   "cell_type": "code",
   "execution_count": 11,
   "id": "910ae358",
   "metadata": {
    "execution": {
     "iopub.execute_input": "2025-08-19T18:04:49.123008Z",
     "iopub.status.busy": "2025-08-19T18:04:49.122515Z",
     "iopub.status.idle": "2025-08-19T18:04:49.918167Z",
     "shell.execute_reply": "2025-08-19T18:04:49.917401Z"
    },
    "papermill": {
     "duration": 0.808114,
     "end_time": "2025-08-19T18:04:49.920075",
     "exception": false,
     "start_time": "2025-08-19T18:04:49.111961",
     "status": "completed"
    },
    "tags": []
   },
   "outputs": [],
   "source": [
    "from fairness_multiverse.universe import sample_by_year_size\n",
    "\n",
    "siab_train = sample_by_year_size(siab,\n",
    "                               training_year=universe[\"training_year\"],\n",
    "                               training_size=universe[\"training_size\"])"
   ]
  },
  {
   "cell_type": "code",
   "execution_count": 12,
   "id": "919c8ff5",
   "metadata": {
    "execution": {
     "iopub.execute_input": "2025-08-19T18:04:49.952910Z",
     "iopub.status.busy": "2025-08-19T18:04:49.951189Z",
     "iopub.status.idle": "2025-08-19T18:04:49.963059Z",
     "shell.execute_reply": "2025-08-19T18:04:49.961809Z"
    },
    "papermill": {
     "duration": 0.024409,
     "end_time": "2025-08-19T18:04:49.964306",
     "exception": false,
     "start_time": "2025-08-19T18:04:49.939897",
     "status": "completed"
    },
    "tags": []
   },
   "outputs": [
    {
     "data": {
      "text/plain": [
       "(25000, 164)"
      ]
     },
     "execution_count": 12,
     "metadata": {},
     "output_type": "execute_result"
    }
   ],
   "source": [
    "siab_train.shape"
   ]
  },
  {
   "cell_type": "code",
   "execution_count": 13,
   "id": "feb13bf4",
   "metadata": {
    "execution": {
     "iopub.execute_input": "2025-08-19T18:04:49.996374Z",
     "iopub.status.busy": "2025-08-19T18:04:49.994600Z",
     "iopub.status.idle": "2025-08-19T18:04:50.008386Z",
     "shell.execute_reply": "2025-08-19T18:04:50.007623Z"
    },
    "papermill": {
     "duration": 0.030586,
     "end_time": "2025-08-19T18:04:50.009933",
     "exception": false,
     "start_time": "2025-08-19T18:04:49.979347",
     "status": "completed"
    },
    "tags": []
   },
   "outputs": [
    {
     "data": {
      "text/plain": [
       "year\n",
       "2012    8334\n",
       "2013    8333\n",
       "2014    8333\n",
       "dtype: int64"
      ]
     },
     "metadata": {},
     "output_type": "display_data"
    }
   ],
   "source": [
    "display(siab_train.groupby(\"year\").size())"
   ]
  },
  {
   "cell_type": "code",
   "execution_count": 14,
   "id": "0997782f",
   "metadata": {
    "execution": {
     "iopub.execute_input": "2025-08-19T18:04:50.038452Z",
     "iopub.status.busy": "2025-08-19T18:04:50.037799Z",
     "iopub.status.idle": "2025-08-19T18:04:50.333576Z",
     "shell.execute_reply": "2025-08-19T18:04:50.331722Z"
    },
    "papermill": {
     "duration": 0.313491,
     "end_time": "2025-08-19T18:04:50.336948",
     "exception": false,
     "start_time": "2025-08-19T18:04:50.023457",
     "status": "completed"
    },
    "tags": []
   },
   "outputs": [],
   "source": [
    "#siab_train = siab_s[siab_s.year < 2015]\n",
    "siab_calib = siab[siab.year == 2015]\n",
    "siab_test = siab[siab.year == 2016]"
   ]
  },
  {
   "cell_type": "code",
   "execution_count": 15,
   "id": "2c1e4012",
   "metadata": {
    "execution": {
     "iopub.execute_input": "2025-08-19T18:04:50.388245Z",
     "iopub.status.busy": "2025-08-19T18:04:50.387790Z",
     "iopub.status.idle": "2025-08-19T18:04:50.394391Z",
     "shell.execute_reply": "2025-08-19T18:04:50.393552Z"
    },
    "papermill": {
     "duration": 0.026833,
     "end_time": "2025-08-19T18:04:50.395748",
     "exception": false,
     "start_time": "2025-08-19T18:04:50.368915",
     "status": "completed"
    },
    "tags": []
   },
   "outputs": [],
   "source": [
    "#siab_calib.shape"
   ]
  },
  {
   "cell_type": "code",
   "execution_count": 16,
   "id": "f66b54ca",
   "metadata": {
    "execution": {
     "iopub.execute_input": "2025-08-19T18:04:50.419106Z",
     "iopub.status.busy": "2025-08-19T18:04:50.418247Z",
     "iopub.status.idle": "2025-08-19T18:04:50.427675Z",
     "shell.execute_reply": "2025-08-19T18:04:50.426093Z"
    },
    "papermill": {
     "duration": 0.022173,
     "end_time": "2025-08-19T18:04:50.429248",
     "exception": false,
     "start_time": "2025-08-19T18:04:50.407075",
     "status": "completed"
    },
    "tags": []
   },
   "outputs": [],
   "source": [
    "#siab_test.shape"
   ]
  },
  {
   "cell_type": "code",
   "execution_count": 17,
   "id": "27e4384d",
   "metadata": {
    "execution": {
     "iopub.execute_input": "2025-08-19T18:04:50.453550Z",
     "iopub.status.busy": "2025-08-19T18:04:50.453002Z",
     "iopub.status.idle": "2025-08-19T18:04:50.468874Z",
     "shell.execute_reply": "2025-08-19T18:04:50.467855Z"
    },
    "papermill": {
     "duration": 0.030516,
     "end_time": "2025-08-19T18:04:50.470700",
     "exception": false,
     "start_time": "2025-08-19T18:04:50.440184",
     "status": "completed"
    },
    "tags": []
   },
   "outputs": [],
   "source": [
    "X_train = siab_train.iloc[:,4:164]\n",
    "y_train = siab_train.iloc[:, [3]]"
   ]
  },
  {
   "cell_type": "code",
   "execution_count": 18,
   "id": "08ee8389",
   "metadata": {
    "execution": {
     "iopub.execute_input": "2025-08-19T18:04:50.495552Z",
     "iopub.status.busy": "2025-08-19T18:04:50.494329Z",
     "iopub.status.idle": "2025-08-19T18:04:50.566089Z",
     "shell.execute_reply": "2025-08-19T18:04:50.565347Z"
    },
    "papermill": {
     "duration": 0.08489,
     "end_time": "2025-08-19T18:04:50.567817",
     "exception": false,
     "start_time": "2025-08-19T18:04:50.482927",
     "status": "completed"
    },
    "tags": []
   },
   "outputs": [],
   "source": [
    "X_calib = siab_calib.iloc[:,4:164]\n",
    "y_calib = siab_calib.iloc[:, [3]]"
   ]
  },
  {
   "cell_type": "code",
   "execution_count": 19,
   "id": "b7ff42e0",
   "metadata": {
    "execution": {
     "iopub.execute_input": "2025-08-19T18:04:50.604322Z",
     "iopub.status.busy": "2025-08-19T18:04:50.603851Z",
     "iopub.status.idle": "2025-08-19T18:04:50.677804Z",
     "shell.execute_reply": "2025-08-19T18:04:50.676954Z"
    },
    "papermill": {
     "duration": 0.094924,
     "end_time": "2025-08-19T18:04:50.679436",
     "exception": false,
     "start_time": "2025-08-19T18:04:50.584512",
     "status": "completed"
    },
    "tags": []
   },
   "outputs": [],
   "source": [
    "X_test = siab_test.iloc[:,4:164]\n",
    "y_true = siab_test.iloc[:, [3]]"
   ]
  },
  {
   "cell_type": "code",
   "execution_count": 20,
   "id": "0275101e",
   "metadata": {
    "execution": {
     "iopub.execute_input": "2025-08-19T18:04:50.706347Z",
     "iopub.status.busy": "2025-08-19T18:04:50.705278Z",
     "iopub.status.idle": "2025-08-19T18:04:50.862425Z",
     "shell.execute_reply": "2025-08-19T18:04:50.861403Z"
    },
    "papermill": {
     "duration": 0.172534,
     "end_time": "2025-08-19T18:04:50.863960",
     "exception": false,
     "start_time": "2025-08-19T18:04:50.691426",
     "status": "completed"
    },
    "tags": []
   },
   "outputs": [],
   "source": [
    "# Auxiliary data needed downstream in the pipeline\n",
    "\n",
    "org_train = X_train.copy()\n",
    "org_test = X_test.copy()\n",
    "org_calib = X_calib.copy()"
   ]
  },
  {
   "cell_type": "markdown",
   "id": "b461e618",
   "metadata": {
    "papermill": {
     "duration": 0.010629,
     "end_time": "2025-08-19T18:04:50.891086",
     "exception": false,
     "start_time": "2025-08-19T18:04:50.880457",
     "status": "completed"
    },
    "tags": []
   },
   "source": [
    "# Preprocessing Data"
   ]
  },
  {
   "cell_type": "code",
   "execution_count": 21,
   "id": "78e74c4b",
   "metadata": {
    "execution": {
     "iopub.execute_input": "2025-08-19T18:04:50.920216Z",
     "iopub.status.busy": "2025-08-19T18:04:50.918128Z",
     "iopub.status.idle": "2025-08-19T18:04:50.931646Z",
     "shell.execute_reply": "2025-08-19T18:04:50.930347Z"
    },
    "papermill": {
     "duration": 0.028961,
     "end_time": "2025-08-19T18:04:50.933369",
     "exception": false,
     "start_time": "2025-08-19T18:04:50.904408",
     "status": "completed"
    },
    "tags": []
   },
   "outputs": [],
   "source": [
    "# EXCLUDE PROTECTED FEATURES\n",
    "# --------------------------\n",
    "\n",
    "excluded_features = universe[\"exclude_features\"].split(\"-\")\n",
    "excluded_features_dictionary = {\n",
    "    \"nationality\": [\"maxdeutsch1\", \"maxdeutsch.Missing.\"],\n",
    "    \"sex\": [\"frau1\"],\n",
    "    \"age\": [\"age\"],\n",
    "}"
   ]
  },
  {
   "cell_type": "code",
   "execution_count": 22,
   "id": "f8e63555",
   "metadata": {
    "execution": {
     "iopub.execute_input": "2025-08-19T18:04:50.964896Z",
     "iopub.status.busy": "2025-08-19T18:04:50.963689Z",
     "iopub.status.idle": "2025-08-19T18:04:50.974313Z",
     "shell.execute_reply": "2025-08-19T18:04:50.972707Z"
    },
    "papermill": {
     "duration": 0.02564,
     "end_time": "2025-08-19T18:04:50.975901",
     "exception": false,
     "start_time": "2025-08-19T18:04:50.950261",
     "status": "completed"
    },
    "tags": []
   },
   "outputs": [],
   "source": [
    "excluded_features_columns = [\n",
    "    excluded_features_dictionary[f] for f in excluded_features if len(f) > 0 and f != \"none\"\n",
    "]"
   ]
  },
  {
   "cell_type": "code",
   "execution_count": 23,
   "id": "da781f7c",
   "metadata": {
    "execution": {
     "iopub.execute_input": "2025-08-19T18:04:51.001769Z",
     "iopub.status.busy": "2025-08-19T18:04:51.000595Z",
     "iopub.status.idle": "2025-08-19T18:04:51.010799Z",
     "shell.execute_reply": "2025-08-19T18:04:51.009017Z"
    },
    "papermill": {
     "duration": 0.023597,
     "end_time": "2025-08-19T18:04:51.012493",
     "exception": false,
     "start_time": "2025-08-19T18:04:50.988896",
     "status": "completed"
    },
    "tags": []
   },
   "outputs": [],
   "source": [
    "from fairness_multiverse.universe import flatten_once\n",
    "\n",
    "excluded_features_columns = flatten_once(excluded_features_columns)"
   ]
  },
  {
   "cell_type": "code",
   "execution_count": 24,
   "id": "37fef0f0",
   "metadata": {
    "execution": {
     "iopub.execute_input": "2025-08-19T18:04:51.043814Z",
     "iopub.status.busy": "2025-08-19T18:04:51.042600Z",
     "iopub.status.idle": "2025-08-19T18:04:51.086899Z",
     "shell.execute_reply": "2025-08-19T18:04:51.086208Z"
    },
    "papermill": {
     "duration": 0.061719,
     "end_time": "2025-08-19T18:04:51.090457",
     "exception": false,
     "start_time": "2025-08-19T18:04:51.028738",
     "status": "completed"
    },
    "tags": []
   },
   "outputs": [
    {
     "name": "stdout",
     "output_type": "stream",
     "text": [
      "Dropping features: ['frau1']\n"
     ]
    }
   ],
   "source": [
    "if len(excluded_features_columns) > 0:\n",
    "    print(f\"Dropping features: {excluded_features_columns}\")\n",
    "    X_train.drop(excluded_features_columns, axis=1, inplace=True)"
   ]
  },
  {
   "cell_type": "code",
   "execution_count": 25,
   "id": "d029e3e9",
   "metadata": {
    "execution": {
     "iopub.execute_input": "2025-08-19T18:04:51.128060Z",
     "iopub.status.busy": "2025-08-19T18:04:51.126978Z",
     "iopub.status.idle": "2025-08-19T18:04:51.191244Z",
     "shell.execute_reply": "2025-08-19T18:04:51.190654Z"
    },
    "papermill": {
     "duration": 0.078995,
     "end_time": "2025-08-19T18:04:51.192341",
     "exception": false,
     "start_time": "2025-08-19T18:04:51.113346",
     "status": "completed"
    },
    "tags": []
   },
   "outputs": [
    {
     "name": "stdout",
     "output_type": "stream",
     "text": [
      "Dropping features: ['frau1']\n"
     ]
    }
   ],
   "source": [
    "if len(excluded_features_columns) > 0:\n",
    "    print(f\"Dropping features: {excluded_features_columns}\")\n",
    "    X_test.drop(excluded_features_columns, axis=1, inplace=True)"
   ]
  },
  {
   "cell_type": "code",
   "execution_count": 26,
   "id": "01d571f0",
   "metadata": {
    "execution": {
     "iopub.execute_input": "2025-08-19T18:04:51.215687Z",
     "iopub.status.busy": "2025-08-19T18:04:51.214527Z",
     "iopub.status.idle": "2025-08-19T18:04:51.269223Z",
     "shell.execute_reply": "2025-08-19T18:04:51.268576Z"
    },
    "papermill": {
     "duration": 0.068409,
     "end_time": "2025-08-19T18:04:51.271553",
     "exception": false,
     "start_time": "2025-08-19T18:04:51.203144",
     "status": "completed"
    },
    "tags": []
   },
   "outputs": [
    {
     "name": "stdout",
     "output_type": "stream",
     "text": [
      "Dropping features: ['frau1']\n"
     ]
    }
   ],
   "source": [
    "if len(excluded_features_columns) > 0:\n",
    "    print(f\"Dropping features: {excluded_features_columns}\")\n",
    "    X_calib.drop(excluded_features_columns, axis=1, inplace=True)"
   ]
  },
  {
   "cell_type": "code",
   "execution_count": 27,
   "id": "3037356e",
   "metadata": {
    "execution": {
     "iopub.execute_input": "2025-08-19T18:04:51.309367Z",
     "iopub.status.busy": "2025-08-19T18:04:51.307992Z",
     "iopub.status.idle": "2025-08-19T18:04:51.317928Z",
     "shell.execute_reply": "2025-08-19T18:04:51.315730Z"
    },
    "papermill": {
     "duration": 0.024929,
     "end_time": "2025-08-19T18:04:51.319463",
     "exception": false,
     "start_time": "2025-08-19T18:04:51.294534",
     "status": "completed"
    },
    "tags": []
   },
   "outputs": [],
   "source": [
    "# EXCLUDE CERTAIN SUBGROUPS\n",
    "# -------------------------\n",
    "\n",
    "mode = universe.get(\"exclude_subgroups\", \"keep-all\") # Defaults to \"keep-all\" if the key is missing."
   ]
  },
  {
   "cell_type": "code",
   "execution_count": 28,
   "id": "9d1e63fd",
   "metadata": {
    "execution": {
     "iopub.execute_input": "2025-08-19T18:04:51.345949Z",
     "iopub.status.busy": "2025-08-19T18:04:51.344801Z",
     "iopub.status.idle": "2025-08-19T18:04:51.359892Z",
     "shell.execute_reply": "2025-08-19T18:04:51.358109Z"
    },
    "papermill": {
     "duration": 0.028446,
     "end_time": "2025-08-19T18:04:51.361550",
     "exception": false,
     "start_time": "2025-08-19T18:04:51.333104",
     "status": "completed"
    },
    "tags": []
   },
   "outputs": [],
   "source": [
    "if mode == \"keep-all\":\n",
    "    keep_mask = pd.Series(True, index=org_train.index)\n",
    "\n",
    "elif mode == \"drop-non-german\":\n",
    "    keep_mask = (org_train[\"maxdeutsch1\"] == 1) & (org_train[\"maxdeutsch.Missing.\"] == 0)\n",
    "\n",
    "else:\n",
    "    raise ValueError(f\"Unsupported mode for exclude_subgroups: {mode}\")"
   ]
  },
  {
   "cell_type": "code",
   "execution_count": 29,
   "id": "d3b65474",
   "metadata": {
    "execution": {
     "iopub.execute_input": "2025-08-19T18:04:51.391185Z",
     "iopub.status.busy": "2025-08-19T18:04:51.390034Z",
     "iopub.status.idle": "2025-08-19T18:04:51.403585Z",
     "shell.execute_reply": "2025-08-19T18:04:51.402176Z"
    },
    "papermill": {
     "duration": 0.029145,
     "end_time": "2025-08-19T18:04:51.405100",
     "exception": false,
     "start_time": "2025-08-19T18:04:51.375955",
     "status": "completed"
    },
    "tags": []
   },
   "outputs": [
    {
     "name": "stdout",
     "output_type": "stream",
     "text": [
      "Dropping 3481 rows (13.92%) where mode='drop-non-german'\n"
     ]
    }
   ],
   "source": [
    "n_drop = (~keep_mask).sum() # Calculates how many rows are set to be dropped\n",
    "if n_drop > 0:\n",
    "    pct = n_drop / len(keep_mask) * 100\n",
    "    print(f\"Dropping {n_drop} rows ({pct:.2f}%) where mode='{mode}'\")"
   ]
  },
  {
   "cell_type": "code",
   "execution_count": 30,
   "id": "f44389b3",
   "metadata": {
    "execution": {
     "iopub.execute_input": "2025-08-19T18:04:51.437215Z",
     "iopub.status.busy": "2025-08-19T18:04:51.436030Z",
     "iopub.status.idle": "2025-08-19T18:04:51.472112Z",
     "shell.execute_reply": "2025-08-19T18:04:51.471495Z"
    },
    "papermill": {
     "duration": 0.050388,
     "end_time": "2025-08-19T18:04:51.474379",
     "exception": false,
     "start_time": "2025-08-19T18:04:51.423991",
     "status": "completed"
    },
    "tags": []
   },
   "outputs": [],
   "source": [
    "X_train = X_train[keep_mask]"
   ]
  },
  {
   "cell_type": "code",
   "execution_count": 31,
   "id": "ceca8c2a",
   "metadata": {
    "execution": {
     "iopub.execute_input": "2025-08-19T18:04:51.512830Z",
     "iopub.status.busy": "2025-08-19T18:04:51.511672Z",
     "iopub.status.idle": "2025-08-19T18:04:51.523698Z",
     "shell.execute_reply": "2025-08-19T18:04:51.522326Z"
    },
    "papermill": {
     "duration": 0.027284,
     "end_time": "2025-08-19T18:04:51.525166",
     "exception": false,
     "start_time": "2025-08-19T18:04:51.497882",
     "status": "completed"
    },
    "tags": []
   },
   "outputs": [],
   "source": [
    "y_train = y_train[keep_mask]"
   ]
  },
  {
   "cell_type": "markdown",
   "id": "04d31e2f",
   "metadata": {
    "papermill": {
     "duration": 0.011169,
     "end_time": "2025-08-19T18:04:51.550365",
     "exception": false,
     "start_time": "2025-08-19T18:04:51.539196",
     "status": "completed"
    },
    "tags": []
   },
   "source": [
    "# Model Training"
   ]
  },
  {
   "cell_type": "code",
   "execution_count": 32,
   "id": "db991733",
   "metadata": {
    "execution": {
     "iopub.execute_input": "2025-08-19T18:04:51.574126Z",
     "iopub.status.busy": "2025-08-19T18:04:51.572970Z",
     "iopub.status.idle": "2025-08-19T18:04:51.676179Z",
     "shell.execute_reply": "2025-08-19T18:04:51.675505Z"
    },
    "papermill": {
     "duration": 0.117854,
     "end_time": "2025-08-19T18:04:51.678723",
     "exception": false,
     "start_time": "2025-08-19T18:04:51.560869",
     "status": "completed"
    },
    "tags": []
   },
   "outputs": [],
   "source": [
    "from sklearn.linear_model import LogisticRegression\n",
    "from sklearn.ensemble import GradientBoostingClassifier, RandomForestClassifier\n",
    "\n",
    "if (universe[\"model\"] == \"logreg\"):\n",
    "    model = LogisticRegression() #penalty=\"none\", solver=\"newton-cg\", max_iter=1)\n",
    "elif (universe[\"model\"] == \"penalized_logreg\"):\n",
    "    model = LogisticRegression(penalty=\"l2\", C=0.1) #, solver=\"newton-cg\", max_iter=1)\n",
    "elif (universe[\"model\"] == \"rf\"):\n",
    "    model = RandomForestClassifier() # n_estimators=100, n_jobs=-1\n",
    "elif (universe[\"model\"] == \"gbm\"):\n",
    "    model = GradientBoostingClassifier()\n",
    "elif (universe[\"model\"] == \"elasticnet\"):\n",
    "    model = LogisticRegression(penalty = 'elasticnet', solver = 'saga', l1_ratio = 0.5) # max_iter=5000\n",
    "else:\n",
    "    raise \"Unsupported universe.model\""
   ]
  },
  {
   "cell_type": "code",
   "execution_count": 33,
   "id": "a4b5cd25",
   "metadata": {
    "execution": {
     "iopub.execute_input": "2025-08-19T18:04:51.721270Z",
     "iopub.status.busy": "2025-08-19T18:04:51.720072Z",
     "iopub.status.idle": "2025-08-19T18:04:51.731932Z",
     "shell.execute_reply": "2025-08-19T18:04:51.729886Z"
    },
    "papermill": {
     "duration": 0.027888,
     "end_time": "2025-08-19T18:04:51.733376",
     "exception": false,
     "start_time": "2025-08-19T18:04:51.705488",
     "status": "completed"
    },
    "tags": []
   },
   "outputs": [],
   "source": [
    "from sklearn.pipeline import Pipeline\n",
    "from sklearn.preprocessing import StandardScaler\n",
    "\n",
    "model = Pipeline([\n",
    "    #(\"continuous_processor\", continuous_processor),\n",
    "    #(\"categorical_preprocessor\", categorical_preprocessor),\n",
    "    (\"scale\", StandardScaler() if universe[\"scale\"] == \"scale\" else None), \n",
    "    (\"model\", model),\n",
    "])"
   ]
  },
  {
   "cell_type": "code",
   "execution_count": 34,
   "id": "283a904d",
   "metadata": {
    "execution": {
     "iopub.execute_input": "2025-08-19T18:04:51.760205Z",
     "iopub.status.busy": "2025-08-19T18:04:51.759054Z",
     "iopub.status.idle": "2025-08-19T18:04:58.747744Z",
     "shell.execute_reply": "2025-08-19T18:04:58.746852Z"
    },
    "papermill": {
     "duration": 7.003534,
     "end_time": "2025-08-19T18:04:58.750341",
     "exception": false,
     "start_time": "2025-08-19T18:04:51.746807",
     "status": "completed"
    },
    "tags": []
   },
   "outputs": [
    {
     "data": {
      "text/html": [
       "<style>#sk-container-id-1 {color: black;background-color: white;}#sk-container-id-1 pre{padding: 0;}#sk-container-id-1 div.sk-toggleable {background-color: white;}#sk-container-id-1 label.sk-toggleable__label {cursor: pointer;display: block;width: 100%;margin-bottom: 0;padding: 0.3em;box-sizing: border-box;text-align: center;}#sk-container-id-1 label.sk-toggleable__label-arrow:before {content: \"▸\";float: left;margin-right: 0.25em;color: #696969;}#sk-container-id-1 label.sk-toggleable__label-arrow:hover:before {color: black;}#sk-container-id-1 div.sk-estimator:hover label.sk-toggleable__label-arrow:before {color: black;}#sk-container-id-1 div.sk-toggleable__content {max-height: 0;max-width: 0;overflow: hidden;text-align: left;background-color: #f0f8ff;}#sk-container-id-1 div.sk-toggleable__content pre {margin: 0.2em;color: black;border-radius: 0.25em;background-color: #f0f8ff;}#sk-container-id-1 input.sk-toggleable__control:checked~div.sk-toggleable__content {max-height: 200px;max-width: 100%;overflow: auto;}#sk-container-id-1 input.sk-toggleable__control:checked~label.sk-toggleable__label-arrow:before {content: \"▾\";}#sk-container-id-1 div.sk-estimator input.sk-toggleable__control:checked~label.sk-toggleable__label {background-color: #d4ebff;}#sk-container-id-1 div.sk-label input.sk-toggleable__control:checked~label.sk-toggleable__label {background-color: #d4ebff;}#sk-container-id-1 input.sk-hidden--visually {border: 0;clip: rect(1px 1px 1px 1px);clip: rect(1px, 1px, 1px, 1px);height: 1px;margin: -1px;overflow: hidden;padding: 0;position: absolute;width: 1px;}#sk-container-id-1 div.sk-estimator {font-family: monospace;background-color: #f0f8ff;border: 1px dotted black;border-radius: 0.25em;box-sizing: border-box;margin-bottom: 0.5em;}#sk-container-id-1 div.sk-estimator:hover {background-color: #d4ebff;}#sk-container-id-1 div.sk-parallel-item::after {content: \"\";width: 100%;border-bottom: 1px solid gray;flex-grow: 1;}#sk-container-id-1 div.sk-label:hover label.sk-toggleable__label {background-color: #d4ebff;}#sk-container-id-1 div.sk-serial::before {content: \"\";position: absolute;border-left: 1px solid gray;box-sizing: border-box;top: 0;bottom: 0;left: 50%;z-index: 0;}#sk-container-id-1 div.sk-serial {display: flex;flex-direction: column;align-items: center;background-color: white;padding-right: 0.2em;padding-left: 0.2em;position: relative;}#sk-container-id-1 div.sk-item {position: relative;z-index: 1;}#sk-container-id-1 div.sk-parallel {display: flex;align-items: stretch;justify-content: center;background-color: white;position: relative;}#sk-container-id-1 div.sk-item::before, #sk-container-id-1 div.sk-parallel-item::before {content: \"\";position: absolute;border-left: 1px solid gray;box-sizing: border-box;top: 0;bottom: 0;left: 50%;z-index: -1;}#sk-container-id-1 div.sk-parallel-item {display: flex;flex-direction: column;z-index: 1;position: relative;background-color: white;}#sk-container-id-1 div.sk-parallel-item:first-child::after {align-self: flex-end;width: 50%;}#sk-container-id-1 div.sk-parallel-item:last-child::after {align-self: flex-start;width: 50%;}#sk-container-id-1 div.sk-parallel-item:only-child::after {width: 0;}#sk-container-id-1 div.sk-dashed-wrapped {border: 1px dashed gray;margin: 0 0.4em 0.5em 0.4em;box-sizing: border-box;padding-bottom: 0.4em;background-color: white;}#sk-container-id-1 div.sk-label label {font-family: monospace;font-weight: bold;display: inline-block;line-height: 1.2em;}#sk-container-id-1 div.sk-label-container {text-align: center;}#sk-container-id-1 div.sk-container {/* jupyter's `normalize.less` sets `[hidden] { display: none; }` but bootstrap.min.css set `[hidden] { display: none !important; }` so we also need the `!important` here to be able to override the default hidden behavior on the sphinx rendered scikit-learn.org. See: https://github.com/scikit-learn/scikit-learn/issues/21755 */display: inline-block !important;position: relative;}#sk-container-id-1 div.sk-text-repr-fallback {display: none;}</style><div id=\"sk-container-id-1\" class=\"sk-top-container\"><div class=\"sk-text-repr-fallback\"><pre>Pipeline(steps=[(&#x27;scale&#x27;, StandardScaler()),\n",
       "                (&#x27;model&#x27;, RandomForestClassifier())])</pre><b>In a Jupyter environment, please rerun this cell to show the HTML representation or trust the notebook. <br />On GitHub, the HTML representation is unable to render, please try loading this page with nbviewer.org.</b></div><div class=\"sk-container\" hidden><div class=\"sk-item sk-dashed-wrapped\"><div class=\"sk-label-container\"><div class=\"sk-label sk-toggleable\"><input class=\"sk-toggleable__control sk-hidden--visually\" id=\"sk-estimator-id-1\" type=\"checkbox\" ><label for=\"sk-estimator-id-1\" class=\"sk-toggleable__label sk-toggleable__label-arrow\">Pipeline</label><div class=\"sk-toggleable__content\"><pre>Pipeline(steps=[(&#x27;scale&#x27;, StandardScaler()),\n",
       "                (&#x27;model&#x27;, RandomForestClassifier())])</pre></div></div></div><div class=\"sk-serial\"><div class=\"sk-item\"><div class=\"sk-estimator sk-toggleable\"><input class=\"sk-toggleable__control sk-hidden--visually\" id=\"sk-estimator-id-2\" type=\"checkbox\" ><label for=\"sk-estimator-id-2\" class=\"sk-toggleable__label sk-toggleable__label-arrow\">StandardScaler</label><div class=\"sk-toggleable__content\"><pre>StandardScaler()</pre></div></div></div><div class=\"sk-item\"><div class=\"sk-estimator sk-toggleable\"><input class=\"sk-toggleable__control sk-hidden--visually\" id=\"sk-estimator-id-3\" type=\"checkbox\" ><label for=\"sk-estimator-id-3\" class=\"sk-toggleable__label sk-toggleable__label-arrow\">RandomForestClassifier</label><div class=\"sk-toggleable__content\"><pre>RandomForestClassifier()</pre></div></div></div></div></div></div></div>"
      ],
      "text/plain": [
       "Pipeline(steps=[('scale', StandardScaler()),\n",
       "                ('model', RandomForestClassifier())])"
      ]
     },
     "execution_count": 34,
     "metadata": {},
     "output_type": "execute_result"
    }
   ],
   "source": [
    "model.fit(X_train, y_train.values.ravel())"
   ]
  },
  {
   "cell_type": "code",
   "execution_count": 35,
   "id": "6e15e313",
   "metadata": {
    "execution": {
     "iopub.execute_input": "2025-08-19T18:04:58.795342Z",
     "iopub.status.busy": "2025-08-19T18:04:58.793559Z",
     "iopub.status.idle": "2025-08-19T18:05:01.418136Z",
     "shell.execute_reply": "2025-08-19T18:05:01.417214Z"
    },
    "papermill": {
     "duration": 2.642379,
     "end_time": "2025-08-19T18:05:01.419837",
     "exception": false,
     "start_time": "2025-08-19T18:04:58.777458",
     "status": "completed"
    },
    "tags": []
   },
   "outputs": [
    {
     "data": {
      "text/plain": [
       "0.866335971463605"
      ]
     },
     "execution_count": 35,
     "metadata": {},
     "output_type": "execute_result"
    }
   ],
   "source": [
    "from fairness_multiverse.universe import predict_w_threshold\n",
    "\n",
    "probs_test = model.predict_proba(X_test)\n",
    "\n",
    "'''\n",
    "Below code returns a boolean array (or binary 0/1 array depending on how it’s used) where each element \n",
    "is True if the probability of class 1 is greater than or equal to the threshold, and False otherwise.\n",
    "'''\n",
    "y_pred_default = predict_w_threshold(probs_test, 0.5)\n",
    "\n",
    "from sklearn.metrics import accuracy_score\n",
    "\n",
    "# Naive prediction\n",
    "accuracy_score(y_true = y_true, y_pred = y_pred_default)"
   ]
  },
  {
   "cell_type": "code",
   "execution_count": 36,
   "id": "6f14067c",
   "metadata": {
    "execution": {
     "iopub.execute_input": "2025-08-19T18:05:01.455141Z",
     "iopub.status.busy": "2025-08-19T18:05:01.453542Z",
     "iopub.status.idle": "2025-08-19T18:05:04.058774Z",
     "shell.execute_reply": "2025-08-19T18:05:04.057654Z"
    },
    "papermill": {
     "duration": 2.622224,
     "end_time": "2025-08-19T18:05:04.061425",
     "exception": false,
     "start_time": "2025-08-19T18:05:01.439201",
     "status": "completed"
    },
    "tags": []
   },
   "outputs": [
    {
     "data": {
      "text/plain": [
       "array([0, 0, 0, ..., 0, 0, 0])"
      ]
     },
     "execution_count": 36,
     "metadata": {},
     "output_type": "execute_result"
    }
   ],
   "source": [
    "model.predict(X_test)"
   ]
  },
  {
   "cell_type": "markdown",
   "id": "3759920c",
   "metadata": {
    "papermill": {
     "duration": 0.012806,
     "end_time": "2025-08-19T18:05:04.098887",
     "exception": false,
     "start_time": "2025-08-19T18:05:04.086081",
     "status": "completed"
    },
    "tags": []
   },
   "source": [
    "# Conformal Prediction"
   ]
  },
  {
   "cell_type": "code",
   "execution_count": 37,
   "id": "14b27f59",
   "metadata": {
    "execution": {
     "iopub.execute_input": "2025-08-19T18:05:04.125411Z",
     "iopub.status.busy": "2025-08-19T18:05:04.123930Z",
     "iopub.status.idle": "2025-08-19T18:05:04.133837Z",
     "shell.execute_reply": "2025-08-19T18:05:04.132569Z"
    },
    "papermill": {
     "duration": 0.025374,
     "end_time": "2025-08-19T18:05:04.135507",
     "exception": false,
     "start_time": "2025-08-19T18:05:04.110133",
     "status": "completed"
    },
    "tags": []
   },
   "outputs": [],
   "source": [
    "# Miscoverage level for conformal prediction (10% allowed error rate => 90% target coverage)\n",
    "alpha = 0.1"
   ]
  },
  {
   "cell_type": "code",
   "execution_count": 38,
   "id": "59102472",
   "metadata": {
    "execution": {
     "iopub.execute_input": "2025-08-19T18:05:04.164348Z",
     "iopub.status.busy": "2025-08-19T18:05:04.163330Z",
     "iopub.status.idle": "2025-08-19T18:05:06.764760Z",
     "shell.execute_reply": "2025-08-19T18:05:06.763520Z"
    },
    "papermill": {
     "duration": 2.615988,
     "end_time": "2025-08-19T18:05:06.766255",
     "exception": false,
     "start_time": "2025-08-19T18:05:04.150267",
     "status": "completed"
    },
    "tags": []
   },
   "outputs": [],
   "source": [
    "probs_calib = model.predict_proba(X_calib)"
   ]
  },
  {
   "cell_type": "code",
   "execution_count": 39,
   "id": "a792d4dd",
   "metadata": {
    "execution": {
     "iopub.execute_input": "2025-08-19T18:05:06.791039Z",
     "iopub.status.busy": "2025-08-19T18:05:06.790706Z",
     "iopub.status.idle": "2025-08-19T18:05:06.796861Z",
     "shell.execute_reply": "2025-08-19T18:05:06.796269Z"
    },
    "papermill": {
     "duration": 0.02014,
     "end_time": "2025-08-19T18:05:06.797976",
     "exception": false,
     "start_time": "2025-08-19T18:05:06.777836",
     "status": "completed"
    },
    "tags": []
   },
   "outputs": [],
   "source": [
    "y_calib = y_calib.values.ravel().astype(int)"
   ]
  },
  {
   "cell_type": "code",
   "execution_count": 40,
   "id": "650fd033",
   "metadata": {
    "execution": {
     "iopub.execute_input": "2025-08-19T18:05:06.824420Z",
     "iopub.status.busy": "2025-08-19T18:05:06.824074Z",
     "iopub.status.idle": "2025-08-19T18:05:06.847302Z",
     "shell.execute_reply": "2025-08-19T18:05:06.846640Z"
    },
    "papermill": {
     "duration": 0.038248,
     "end_time": "2025-08-19T18:05:06.849057",
     "exception": false,
     "start_time": "2025-08-19T18:05:06.810809",
     "status": "completed"
    },
    "tags": []
   },
   "outputs": [],
   "source": [
    "from fairness_multiverse.conformal import compute_nc_scores\n",
    "\n",
    "# Compute nonconformity scores on calibration set (1 - probability of true class)\n",
    "nc_scores = compute_nc_scores(probs_calib, y_calib)"
   ]
  },
  {
   "cell_type": "code",
   "execution_count": 41,
   "id": "28ada44c",
   "metadata": {
    "execution": {
     "iopub.execute_input": "2025-08-19T18:05:06.881984Z",
     "iopub.status.busy": "2025-08-19T18:05:06.881513Z",
     "iopub.status.idle": "2025-08-19T18:05:06.887715Z",
     "shell.execute_reply": "2025-08-19T18:05:06.886969Z"
    },
    "papermill": {
     "duration": 0.020812,
     "end_time": "2025-08-19T18:05:06.888995",
     "exception": false,
     "start_time": "2025-08-19T18:05:06.868183",
     "status": "completed"
    },
    "tags": []
   },
   "outputs": [],
   "source": [
    "from fairness_multiverse.conformal import find_threshold\n",
    "\n",
    "# Find conformal threshold q_hat for the given alpha (split conformal method)\n",
    "q_hat = find_threshold(nc_scores, alpha)"
   ]
  },
  {
   "cell_type": "code",
   "execution_count": 42,
   "id": "df56469e",
   "metadata": {
    "execution": {
     "iopub.execute_input": "2025-08-19T18:05:06.915485Z",
     "iopub.status.busy": "2025-08-19T18:05:06.915068Z",
     "iopub.status.idle": "2025-08-19T18:05:06.920322Z",
     "shell.execute_reply": "2025-08-19T18:05:06.919706Z"
    },
    "papermill": {
     "duration": 0.019549,
     "end_time": "2025-08-19T18:05:06.921468",
     "exception": false,
     "start_time": "2025-08-19T18:05:06.901919",
     "status": "completed"
    },
    "tags": []
   },
   "outputs": [
    {
     "data": {
      "text/plain": [
       "0.6599999999999999"
      ]
     },
     "execution_count": 42,
     "metadata": {},
     "output_type": "execute_result"
    }
   ],
   "source": [
    "q_hat"
   ]
  },
  {
   "cell_type": "code",
   "execution_count": 43,
   "id": "aa1f5faa",
   "metadata": {
    "execution": {
     "iopub.execute_input": "2025-08-19T18:05:06.947545Z",
     "iopub.status.busy": "2025-08-19T18:05:06.947180Z",
     "iopub.status.idle": "2025-08-19T18:05:10.001807Z",
     "shell.execute_reply": "2025-08-19T18:05:10.000266Z"
    },
    "papermill": {
     "duration": 3.069225,
     "end_time": "2025-08-19T18:05:10.003376",
     "exception": false,
     "start_time": "2025-08-19T18:05:06.934151",
     "status": "completed"
    },
    "tags": []
   },
   "outputs": [],
   "source": [
    "from fairness_multiverse.conformal import predict_conformal_sets\n",
    "\n",
    "# Generate prediction sets for each test example\n",
    "pred_sets = predict_conformal_sets(model, X_test, q_hat)"
   ]
  },
  {
   "cell_type": "code",
   "execution_count": 44,
   "id": "97f67a6b",
   "metadata": {
    "execution": {
     "iopub.execute_input": "2025-08-19T18:05:10.028527Z",
     "iopub.status.busy": "2025-08-19T18:05:10.028170Z",
     "iopub.status.idle": "2025-08-19T18:05:10.035301Z",
     "shell.execute_reply": "2025-08-19T18:05:10.034083Z"
    },
    "papermill": {
     "duration": 0.02371,
     "end_time": "2025-08-19T18:05:10.039358",
     "exception": false,
     "start_time": "2025-08-19T18:05:10.015648",
     "status": "completed"
    },
    "tags": []
   },
   "outputs": [],
   "source": [
    "y_true = y_true.squeeze()"
   ]
  },
  {
   "cell_type": "code",
   "execution_count": 45,
   "id": "e700e9a7",
   "metadata": {
    "execution": {
     "iopub.execute_input": "2025-08-19T18:05:10.076230Z",
     "iopub.status.busy": "2025-08-19T18:05:10.074995Z",
     "iopub.status.idle": "2025-08-19T18:05:10.574497Z",
     "shell.execute_reply": "2025-08-19T18:05:10.573284Z"
    },
    "papermill": {
     "duration": 0.516508,
     "end_time": "2025-08-19T18:05:10.577514",
     "exception": false,
     "start_time": "2025-08-19T18:05:10.061006",
     "status": "completed"
    },
    "tags": []
   },
   "outputs": [],
   "source": [
    "from fairness_multiverse.conformal import evaluate_sets\n",
    "\n",
    "# Evaluate coverage and average set size on test data\n",
    "metrics = evaluate_sets(pred_sets, y_true)"
   ]
  },
  {
   "cell_type": "markdown",
   "id": "efbacec0",
   "metadata": {
    "papermill": {
     "duration": 0.013017,
     "end_time": "2025-08-19T18:05:10.616496",
     "exception": false,
     "start_time": "2025-08-19T18:05:10.603479",
     "status": "completed"
    },
    "tags": []
   },
   "source": [
    "# CP Metrics"
   ]
  },
  {
   "cell_type": "code",
   "execution_count": 46,
   "id": "9de55fb1",
   "metadata": {
    "execution": {
     "iopub.execute_input": "2025-08-19T18:05:10.642837Z",
     "iopub.status.busy": "2025-08-19T18:05:10.641564Z",
     "iopub.status.idle": "2025-08-19T18:05:10.653748Z",
     "shell.execute_reply": "2025-08-19T18:05:10.652634Z"
    },
    "papermill": {
     "duration": 0.027586,
     "end_time": "2025-08-19T18:05:10.655568",
     "exception": false,
     "start_time": "2025-08-19T18:05:10.627982",
     "status": "completed"
    },
    "tags": []
   },
   "outputs": [
    {
     "data": {
      "text/plain": [
       "{'coverage': 0.9165756325939137, 'avg_size': 1.1475866681529372}"
      ]
     },
     "execution_count": 46,
     "metadata": {},
     "output_type": "execute_result"
    }
   ],
   "source": [
    "metrics"
   ]
  },
  {
   "cell_type": "code",
   "execution_count": 47,
   "id": "64c340a1",
   "metadata": {
    "execution": {
     "iopub.execute_input": "2025-08-19T18:05:10.685561Z",
     "iopub.status.busy": "2025-08-19T18:05:10.684638Z",
     "iopub.status.idle": "2025-08-19T18:05:10.696559Z",
     "shell.execute_reply": "2025-08-19T18:05:10.694699Z"
    },
    "papermill": {
     "duration": 0.029811,
     "end_time": "2025-08-19T18:05:10.699718",
     "exception": false,
     "start_time": "2025-08-19T18:05:10.669907",
     "status": "completed"
    },
    "tags": []
   },
   "outputs": [],
   "source": [
    "example_universe = universe.copy()\n",
    "universe_training_year = example_universe.get(\"training_year\")\n",
    "universe_training_size = example_universe.get(\"training_size\")\n",
    "universe_scale = example_universe.get(\"scale\")\n",
    "universe_model = example_universe.get(\"model\")\n",
    "universe_exclude_features = example_universe.get(\"exclude_features\")\n",
    "universe_exclude_subgroups = example_universe.get(\"exclude_subgroups\")"
   ]
  },
  {
   "cell_type": "code",
   "execution_count": 48,
   "id": "dbb53cb4",
   "metadata": {
    "execution": {
     "iopub.execute_input": "2025-08-19T18:05:10.738621Z",
     "iopub.status.busy": "2025-08-19T18:05:10.737683Z",
     "iopub.status.idle": "2025-08-19T18:05:10.748308Z",
     "shell.execute_reply": "2025-08-19T18:05:10.746681Z"
    },
    "papermill": {
     "duration": 0.026838,
     "end_time": "2025-08-19T18:05:10.749820",
     "exception": false,
     "start_time": "2025-08-19T18:05:10.722982",
     "status": "completed"
    },
    "tags": []
   },
   "outputs": [],
   "source": [
    "cp_metrics_dict = {\n",
    "    \"universe_id\": [universe_id],\n",
    "    \"universe_training_year\": [universe_training_year],\n",
    "    \"universe_training_size\": [universe_training_size],\n",
    "    \"universe_scale\": [universe_scale],\n",
    "    \"universe_model\": [universe_model],\n",
    "    \"universe_exclude_features\": [universe_exclude_features],\n",
    "    \"universe_exclude_subgroups\": [universe_exclude_subgroups],\n",
    "    \"q_hat\": [q_hat],\n",
    "    \"coverage\": [metrics[\"coverage\"]],\n",
    "    \"avg_size\": [metrics[\"avg_size\"]],\n",
    "}"
   ]
  },
  {
   "cell_type": "code",
   "execution_count": 49,
   "id": "0d70d4b2",
   "metadata": {
    "execution": {
     "iopub.execute_input": "2025-08-19T18:05:10.779733Z",
     "iopub.status.busy": "2025-08-19T18:05:10.778664Z",
     "iopub.status.idle": "2025-08-19T18:05:10.790535Z",
     "shell.execute_reply": "2025-08-19T18:05:10.789003Z"
    },
    "papermill": {
     "duration": 0.028012,
     "end_time": "2025-08-19T18:05:10.792288",
     "exception": false,
     "start_time": "2025-08-19T18:05:10.764276",
     "status": "completed"
    },
    "tags": []
   },
   "outputs": [],
   "source": [
    "cp_metrics_df = pd.DataFrame(cp_metrics_dict)"
   ]
  },
  {
   "cell_type": "code",
   "execution_count": 50,
   "id": "b494403c",
   "metadata": {
    "execution": {
     "iopub.execute_input": "2025-08-19T18:05:10.820834Z",
     "iopub.status.busy": "2025-08-19T18:05:10.819724Z",
     "iopub.status.idle": "2025-08-19T18:05:10.844391Z",
     "shell.execute_reply": "2025-08-19T18:05:10.843375Z"
    },
    "papermill": {
     "duration": 0.04016,
     "end_time": "2025-08-19T18:05:10.846545",
     "exception": false,
     "start_time": "2025-08-19T18:05:10.806385",
     "status": "completed"
    },
    "tags": []
   },
   "outputs": [
    {
     "data": {
      "text/html": [
       "<div>\n",
       "<style scoped>\n",
       "    .dataframe tbody tr th:only-of-type {\n",
       "        vertical-align: middle;\n",
       "    }\n",
       "\n",
       "    .dataframe tbody tr th {\n",
       "        vertical-align: top;\n",
       "    }\n",
       "\n",
       "    .dataframe thead th {\n",
       "        text-align: right;\n",
       "    }\n",
       "</style>\n",
       "<table border=\"1\" class=\"dataframe\">\n",
       "  <thead>\n",
       "    <tr style=\"text-align: right;\">\n",
       "      <th></th>\n",
       "      <th>universe_id</th>\n",
       "      <th>universe_training_year</th>\n",
       "      <th>universe_training_size</th>\n",
       "      <th>universe_scale</th>\n",
       "      <th>universe_model</th>\n",
       "      <th>universe_exclude_features</th>\n",
       "      <th>universe_exclude_subgroups</th>\n",
       "      <th>q_hat</th>\n",
       "      <th>coverage</th>\n",
       "      <th>avg_size</th>\n",
       "    </tr>\n",
       "  </thead>\n",
       "  <tbody>\n",
       "    <tr>\n",
       "      <th>0</th>\n",
       "      <td>7eca88123f0c20c733e96ab0327e2b65</td>\n",
       "      <td>2012_14</td>\n",
       "      <td>25k</td>\n",
       "      <td>scale</td>\n",
       "      <td>rf</td>\n",
       "      <td>sex</td>\n",
       "      <td>drop-non-german</td>\n",
       "      <td>0.66</td>\n",
       "      <td>0.916576</td>\n",
       "      <td>1.147587</td>\n",
       "    </tr>\n",
       "  </tbody>\n",
       "</table>\n",
       "</div>"
      ],
      "text/plain": [
       "                        universe_id universe_training_year  \\\n",
       "0  7eca88123f0c20c733e96ab0327e2b65                2012_14   \n",
       "\n",
       "  universe_training_size universe_scale universe_model  \\\n",
       "0                    25k          scale             rf   \n",
       "\n",
       "  universe_exclude_features universe_exclude_subgroups  q_hat  coverage  \\\n",
       "0                       sex            drop-non-german   0.66  0.916576   \n",
       "\n",
       "   avg_size  \n",
       "0  1.147587  "
      ]
     },
     "execution_count": 50,
     "metadata": {},
     "output_type": "execute_result"
    }
   ],
   "source": [
    "cp_metrics_df"
   ]
  },
  {
   "cell_type": "markdown",
   "id": "ed608b0b",
   "metadata": {
    "papermill": {
     "duration": 0.011789,
     "end_time": "2025-08-19T18:05:10.875658",
     "exception": false,
     "start_time": "2025-08-19T18:05:10.863869",
     "status": "completed"
    },
    "tags": []
   },
   "source": [
    "Conditional coverage & looking at subgroups"
   ]
  },
  {
   "cell_type": "code",
   "execution_count": 51,
   "id": "8968c366",
   "metadata": {
    "execution": {
     "iopub.execute_input": "2025-08-19T18:05:10.901852Z",
     "iopub.status.busy": "2025-08-19T18:05:10.900856Z",
     "iopub.status.idle": "2025-08-19T18:05:11.190391Z",
     "shell.execute_reply": "2025-08-19T18:05:11.189285Z"
    },
    "papermill": {
     "duration": 0.306161,
     "end_time": "2025-08-19T18:05:11.193529",
     "exception": false,
     "start_time": "2025-08-19T18:05:10.887368",
     "status": "completed"
    },
    "tags": []
   },
   "outputs": [],
   "source": [
    "from fairness_multiverse.conformal import build_cp_groups\n",
    "\n",
    "cp_groups_df = build_cp_groups(pred_sets, y_true, X_test.index, org_test)"
   ]
  },
  {
   "cell_type": "code",
   "execution_count": 52,
   "id": "292ddabf",
   "metadata": {
    "execution": {
     "iopub.execute_input": "2025-08-19T18:05:11.236780Z",
     "iopub.status.busy": "2025-08-19T18:05:11.235812Z",
     "iopub.status.idle": "2025-08-19T18:05:12.127974Z",
     "shell.execute_reply": "2025-08-19T18:05:12.126779Z"
    },
    "papermill": {
     "duration": 0.908813,
     "end_time": "2025-08-19T18:05:12.129517",
     "exception": false,
     "start_time": "2025-08-19T18:05:11.220704",
     "status": "completed"
    },
    "tags": []
   },
   "outputs": [],
   "source": [
    "# Define covered = 1 if true_label is in the predicted set\n",
    "cp_groups_df['covered'] = cp_groups_df.apply(\n",
    "    lambda r: int(r['true_label'] in r['pred_set']),\n",
    "    axis=1\n",
    ")"
   ]
  },
  {
   "cell_type": "code",
   "execution_count": 53,
   "id": "3a261692",
   "metadata": {
    "execution": {
     "iopub.execute_input": "2025-08-19T18:05:12.157206Z",
     "iopub.status.busy": "2025-08-19T18:05:12.156280Z",
     "iopub.status.idle": "2025-08-19T18:05:12.182111Z",
     "shell.execute_reply": "2025-08-19T18:05:12.179999Z"
    },
    "papermill": {
     "duration": 0.053395,
     "end_time": "2025-08-19T18:05:12.195570",
     "exception": false,
     "start_time": "2025-08-19T18:05:12.142175",
     "status": "completed"
    },
    "tags": []
   },
   "outputs": [],
   "source": [
    "subgroups = ['frau1','nongerman','nongerman_male','nongerman_female']\n",
    "\n",
    "# Conditional coverage for subgroup==1\n",
    "cond_coverage = {\n",
    "    g: cp_groups_df.loc[cp_groups_df[g]==1, 'covered'].mean()\n",
    "    for g in subgroups\n",
    "}"
   ]
  },
  {
   "cell_type": "code",
   "execution_count": 54,
   "id": "894fd600",
   "metadata": {
    "execution": {
     "iopub.execute_input": "2025-08-19T18:05:12.253004Z",
     "iopub.status.busy": "2025-08-19T18:05:12.252569Z",
     "iopub.status.idle": "2025-08-19T18:05:12.258710Z",
     "shell.execute_reply": "2025-08-19T18:05:12.257889Z"
    },
    "papermill": {
     "duration": 0.033543,
     "end_time": "2025-08-19T18:05:12.261698",
     "exception": false,
     "start_time": "2025-08-19T18:05:12.228155",
     "status": "completed"
    },
    "tags": []
   },
   "outputs": [
    {
     "data": {
      "text/plain": [
       "{'frau1': 0.9167542795525003,\n",
       " 'nongerman': 0.909111323190928,\n",
       " 'nongerman_male': 0.9242547059353328,\n",
       " 'nongerman_female': 0.884053651266766}"
      ]
     },
     "execution_count": 54,
     "metadata": {},
     "output_type": "execute_result"
    }
   ],
   "source": [
    "cond_coverage"
   ]
  },
  {
   "cell_type": "code",
   "execution_count": 55,
   "id": "942895c7",
   "metadata": {
    "execution": {
     "iopub.execute_input": "2025-08-19T18:05:12.290750Z",
     "iopub.status.busy": "2025-08-19T18:05:12.290267Z",
     "iopub.status.idle": "2025-08-19T18:05:12.297152Z",
     "shell.execute_reply": "2025-08-19T18:05:12.296206Z"
    },
    "papermill": {
     "duration": 0.023376,
     "end_time": "2025-08-19T18:05:12.298676",
     "exception": false,
     "start_time": "2025-08-19T18:05:12.275300",
     "status": "completed"
    },
    "tags": []
   },
   "outputs": [],
   "source": [
    "for subgroup, cov in cond_coverage.items():\n",
    "    cp_metrics_df[f\"cov_{subgroup}\"] = cov"
   ]
  },
  {
   "cell_type": "code",
   "execution_count": 56,
   "id": "3970120f",
   "metadata": {
    "execution": {
     "iopub.execute_input": "2025-08-19T18:05:12.326144Z",
     "iopub.status.busy": "2025-08-19T18:05:12.325728Z",
     "iopub.status.idle": "2025-08-19T18:05:12.344783Z",
     "shell.execute_reply": "2025-08-19T18:05:12.343400Z"
    },
    "papermill": {
     "duration": 0.035546,
     "end_time": "2025-08-19T18:05:12.347565",
     "exception": false,
     "start_time": "2025-08-19T18:05:12.312019",
     "status": "completed"
    },
    "tags": []
   },
   "outputs": [
    {
     "data": {
      "text/html": [
       "<div>\n",
       "<style scoped>\n",
       "    .dataframe tbody tr th:only-of-type {\n",
       "        vertical-align: middle;\n",
       "    }\n",
       "\n",
       "    .dataframe tbody tr th {\n",
       "        vertical-align: top;\n",
       "    }\n",
       "\n",
       "    .dataframe thead th {\n",
       "        text-align: right;\n",
       "    }\n",
       "</style>\n",
       "<table border=\"1\" class=\"dataframe\">\n",
       "  <thead>\n",
       "    <tr style=\"text-align: right;\">\n",
       "      <th></th>\n",
       "      <th>universe_id</th>\n",
       "      <th>universe_training_year</th>\n",
       "      <th>universe_training_size</th>\n",
       "      <th>universe_scale</th>\n",
       "      <th>universe_model</th>\n",
       "      <th>universe_exclude_features</th>\n",
       "      <th>universe_exclude_subgroups</th>\n",
       "      <th>q_hat</th>\n",
       "      <th>coverage</th>\n",
       "      <th>avg_size</th>\n",
       "      <th>cov_frau1</th>\n",
       "      <th>cov_nongerman</th>\n",
       "      <th>cov_nongerman_male</th>\n",
       "      <th>cov_nongerman_female</th>\n",
       "    </tr>\n",
       "  </thead>\n",
       "  <tbody>\n",
       "    <tr>\n",
       "      <th>0</th>\n",
       "      <td>7eca88123f0c20c733e96ab0327e2b65</td>\n",
       "      <td>2012_14</td>\n",
       "      <td>25k</td>\n",
       "      <td>scale</td>\n",
       "      <td>rf</td>\n",
       "      <td>sex</td>\n",
       "      <td>drop-non-german</td>\n",
       "      <td>0.66</td>\n",
       "      <td>0.916576</td>\n",
       "      <td>1.147587</td>\n",
       "      <td>0.916754</td>\n",
       "      <td>0.909111</td>\n",
       "      <td>0.924255</td>\n",
       "      <td>0.884054</td>\n",
       "    </tr>\n",
       "  </tbody>\n",
       "</table>\n",
       "</div>"
      ],
      "text/plain": [
       "                        universe_id universe_training_year  \\\n",
       "0  7eca88123f0c20c733e96ab0327e2b65                2012_14   \n",
       "\n",
       "  universe_training_size universe_scale universe_model  \\\n",
       "0                    25k          scale             rf   \n",
       "\n",
       "  universe_exclude_features universe_exclude_subgroups  q_hat  coverage  \\\n",
       "0                       sex            drop-non-german   0.66  0.916576   \n",
       "\n",
       "   avg_size  cov_frau1  cov_nongerman  cov_nongerman_male  \\\n",
       "0  1.147587   0.916754       0.909111            0.924255   \n",
       "\n",
       "   cov_nongerman_female  \n",
       "0              0.884054  "
      ]
     },
     "execution_count": 56,
     "metadata": {},
     "output_type": "execute_result"
    }
   ],
   "source": [
    "cp_metrics_df"
   ]
  },
  {
   "cell_type": "markdown",
   "id": "3fc519cc",
   "metadata": {
    "papermill": {
     "duration": 0.023182,
     "end_time": "2025-08-19T18:05:12.416187",
     "exception": false,
     "start_time": "2025-08-19T18:05:12.393005",
     "status": "completed"
    },
    "tags": []
   },
   "source": [
    "# (Fairness) Metrics"
   ]
  },
  {
   "cell_type": "code",
   "execution_count": 57,
   "id": "a2e5e155",
   "metadata": {
    "execution": {
     "iopub.execute_input": "2025-08-19T18:05:12.443778Z",
     "iopub.status.busy": "2025-08-19T18:05:12.443347Z",
     "iopub.status.idle": "2025-08-19T18:05:12.460012Z",
     "shell.execute_reply": "2025-08-19T18:05:12.459244Z"
    },
    "papermill": {
     "duration": 0.032552,
     "end_time": "2025-08-19T18:05:12.462242",
     "exception": false,
     "start_time": "2025-08-19T18:05:12.429690",
     "status": "completed"
    },
    "tags": []
   },
   "outputs": [],
   "source": [
    "colname_to_bin = \"maxdeutsch1\"\n",
    "majority_value = org_train[colname_to_bin].mode()[0]\n",
    "\n",
    "org_test[\"majmin\"] = np.where(org_test[colname_to_bin] == majority_value, \"majority\", \"minority\")"
   ]
  },
  {
   "cell_type": "code",
   "execution_count": 58,
   "id": "17e3e4d5",
   "metadata": {
    "execution": {
     "iopub.execute_input": "2025-08-19T18:05:12.508634Z",
     "iopub.status.busy": "2025-08-19T18:05:12.508217Z",
     "iopub.status.idle": "2025-08-19T18:05:14.246969Z",
     "shell.execute_reply": "2025-08-19T18:05:14.245454Z"
    },
    "papermill": {
     "duration": 1.758228,
     "end_time": "2025-08-19T18:05:14.249840",
     "exception": false,
     "start_time": "2025-08-19T18:05:12.491612",
     "status": "completed"
    },
    "tags": []
   },
   "outputs": [],
   "source": [
    "example_universe = universe.copy()\n",
    "example_universe[\"cutoff\"] = example_universe[\"cutoff\"][0]\n",
    "example_universe[\"eval_fairness_grouping\"] = example_universe[\"eval_fairness_grouping\"][0]\n",
    "fairness_dict, metric_frame = universe_analysis.compute_metrics(\n",
    "    example_universe,\n",
    "    y_pred_prob=probs_test,\n",
    "    y_test=y_true,\n",
    "    org_test=org_test,\n",
    ")"
   ]
  },
  {
   "cell_type": "markdown",
   "id": "1fb7a0e9",
   "metadata": {
    "papermill": {
     "duration": 0.013111,
     "end_time": "2025-08-19T18:05:14.285568",
     "exception": false,
     "start_time": "2025-08-19T18:05:14.272457",
     "status": "completed"
    },
    "tags": []
   },
   "source": [
    "# Overall"
   ]
  },
  {
   "cell_type": "markdown",
   "id": "be1784b1",
   "metadata": {
    "papermill": {
     "duration": 0.012472,
     "end_time": "2025-08-19T18:05:14.310336",
     "exception": false,
     "start_time": "2025-08-19T18:05:14.297864",
     "status": "completed"
    },
    "tags": []
   },
   "source": [
    "Main fairness target: Equalized Odds. Seems to be a better fit than equal opportunity, since we're not only interested in Y = 1. Seems to be a better fit than demographic parity, since we also care about accuracy, not just equal distribution of preds.\n",
    "\n",
    "Pick column for computation of fairness metrics\n",
    "\n",
    "Performance\n",
    "Overall performance measures, most interesting in relation to the measures split by group below"
   ]
  },
  {
   "cell_type": "code",
   "execution_count": 59,
   "id": "b7672bee",
   "metadata": {
    "execution": {
     "iopub.execute_input": "2025-08-19T18:05:14.338632Z",
     "iopub.status.busy": "2025-08-19T18:05:14.337538Z",
     "iopub.status.idle": "2025-08-19T18:05:14.354734Z",
     "shell.execute_reply": "2025-08-19T18:05:14.353629Z"
    },
    "papermill": {
     "duration": 0.033724,
     "end_time": "2025-08-19T18:05:14.356506",
     "exception": false,
     "start_time": "2025-08-19T18:05:14.322782",
     "status": "completed"
    },
    "tags": []
   },
   "outputs": [
    {
     "data": {
      "text/plain": [
       "accuracy                   0.197715\n",
       "balanced accuracy          0.530711\n",
       "f1                         0.238357\n",
       "precision                  0.135705\n",
       "false positive rate        0.917202\n",
       "false negative rate        0.021376\n",
       "selection rate             0.925081\n",
       "count                  89710.000000\n",
       "dtype: float64"
      ]
     },
     "execution_count": 59,
     "metadata": {},
     "output_type": "execute_result"
    }
   ],
   "source": [
    "metric_frame.overall"
   ]
  },
  {
   "cell_type": "markdown",
   "id": "d93333c9",
   "metadata": {
    "papermill": {
     "duration": 0.012671,
     "end_time": "2025-08-19T18:05:14.385368",
     "exception": false,
     "start_time": "2025-08-19T18:05:14.372697",
     "status": "completed"
    },
    "tags": []
   },
   "source": [
    "By Group"
   ]
  },
  {
   "cell_type": "code",
   "execution_count": 60,
   "id": "52256966",
   "metadata": {
    "execution": {
     "iopub.execute_input": "2025-08-19T18:05:14.412973Z",
     "iopub.status.busy": "2025-08-19T18:05:14.411997Z",
     "iopub.status.idle": "2025-08-19T18:05:14.436579Z",
     "shell.execute_reply": "2025-08-19T18:05:14.435430Z"
    },
    "papermill": {
     "duration": 0.04059,
     "end_time": "2025-08-19T18:05:14.438433",
     "exception": false,
     "start_time": "2025-08-19T18:05:14.397843",
     "status": "completed"
    },
    "tags": []
   },
   "outputs": [
    {
     "data": {
      "text/html": [
       "<div>\n",
       "<style scoped>\n",
       "    .dataframe tbody tr th:only-of-type {\n",
       "        vertical-align: middle;\n",
       "    }\n",
       "\n",
       "    .dataframe tbody tr th {\n",
       "        vertical-align: top;\n",
       "    }\n",
       "\n",
       "    .dataframe thead th {\n",
       "        text-align: right;\n",
       "    }\n",
       "</style>\n",
       "<table border=\"1\" class=\"dataframe\">\n",
       "  <thead>\n",
       "    <tr style=\"text-align: right;\">\n",
       "      <th></th>\n",
       "      <th>accuracy</th>\n",
       "      <th>balanced accuracy</th>\n",
       "      <th>f1</th>\n",
       "      <th>precision</th>\n",
       "      <th>false positive rate</th>\n",
       "      <th>false negative rate</th>\n",
       "      <th>selection rate</th>\n",
       "      <th>count</th>\n",
       "    </tr>\n",
       "    <tr>\n",
       "      <th>majmin</th>\n",
       "      <th></th>\n",
       "      <th></th>\n",
       "      <th></th>\n",
       "      <th></th>\n",
       "      <th></th>\n",
       "      <th></th>\n",
       "      <th></th>\n",
       "      <th></th>\n",
       "    </tr>\n",
       "  </thead>\n",
       "  <tbody>\n",
       "    <tr>\n",
       "      <th>majority</th>\n",
       "      <td>0.192844</td>\n",
       "      <td>0.530893</td>\n",
       "      <td>0.244864</td>\n",
       "      <td>0.139702</td>\n",
       "      <td>0.928586</td>\n",
       "      <td>0.009628</td>\n",
       "      <td>0.936750</td>\n",
       "      <td>69170.0</td>\n",
       "    </tr>\n",
       "    <tr>\n",
       "      <th>minority</th>\n",
       "      <td>0.214119</td>\n",
       "      <td>0.526841</td>\n",
       "      <td>0.214960</td>\n",
       "      <td>0.121469</td>\n",
       "      <td>0.879595</td>\n",
       "      <td>0.066723</td>\n",
       "      <td>0.885784</td>\n",
       "      <td>20540.0</td>\n",
       "    </tr>\n",
       "  </tbody>\n",
       "</table>\n",
       "</div>"
      ],
      "text/plain": [
       "          accuracy  balanced accuracy        f1  precision  \\\n",
       "majmin                                                       \n",
       "majority  0.192844           0.530893  0.244864   0.139702   \n",
       "minority  0.214119           0.526841  0.214960   0.121469   \n",
       "\n",
       "          false positive rate  false negative rate  selection rate    count  \n",
       "majmin                                                                       \n",
       "majority             0.928586             0.009628        0.936750  69170.0  \n",
       "minority             0.879595             0.066723        0.885784  20540.0  "
      ]
     },
     "execution_count": 60,
     "metadata": {},
     "output_type": "execute_result"
    }
   ],
   "source": [
    "metric_frame.by_group"
   ]
  },
  {
   "cell_type": "code",
   "execution_count": 61,
   "id": "6e6c20ae",
   "metadata": {
    "execution": {
     "iopub.execute_input": "2025-08-19T18:05:14.478144Z",
     "iopub.status.busy": "2025-08-19T18:05:14.477010Z",
     "iopub.status.idle": "2025-08-19T18:05:16.303053Z",
     "shell.execute_reply": "2025-08-19T18:05:16.302188Z"
    },
    "papermill": {
     "duration": 1.84235,
     "end_time": "2025-08-19T18:05:16.304187",
     "exception": false,
     "start_time": "2025-08-19T18:05:14.461837",
     "status": "completed"
    },
    "tags": []
   },
   "outputs": [
    {
     "data": {
      "text/plain": [
       "array([[<Axes: title={'center': 'accuracy'}, xlabel='majmin'>,\n",
       "        <Axes: title={'center': 'balanced accuracy'}, xlabel='majmin'>,\n",
       "        <Axes: title={'center': 'f1'}, xlabel='majmin'>],\n",
       "       [<Axes: title={'center': 'precision'}, xlabel='majmin'>,\n",
       "        <Axes: title={'center': 'false positive rate'}, xlabel='majmin'>,\n",
       "        <Axes: title={'center': 'false negative rate'}, xlabel='majmin'>],\n",
       "       [<Axes: title={'center': 'selection rate'}, xlabel='majmin'>,\n",
       "        <Axes: title={'center': 'count'}, xlabel='majmin'>,\n",
       "        <Axes: xlabel='majmin'>]], dtype=object)"
      ]
     },
     "execution_count": 61,
     "metadata": {},
     "output_type": "execute_result"
    },
    {
     "data": {
      "image/png": "[encoded data removed]",
      "text/plain": [
       "<Figure size 1200x800 with 9 Axes>"
      ]
     },
     "metadata": {},
     "output_type": "display_data"
    }
   ],
   "source": [
    "# In a graphic\n",
    "metric_frame.by_group.plot.bar(\n",
    "    subplots=True,\n",
    "    layout=[3, 3],\n",
    "    legend=False,\n",
    "    figsize=[12, 8],\n",
    "    title=\"Show all metrics\",\n",
    ")"
   ]
  },
  {
   "cell_type": "markdown",
   "id": "b2e433ae",
   "metadata": {
    "papermill": {
     "duration": 0.015089,
     "end_time": "2025-08-19T18:05:16.333980",
     "exception": false,
     "start_time": "2025-08-19T18:05:16.318891",
     "status": "completed"
    },
    "tags": []
   },
   "source": [
    "# Final Output"
   ]
  },
  {
   "cell_type": "code",
   "execution_count": 62,
   "id": "3871301e",
   "metadata": {
    "execution": {
     "iopub.execute_input": "2025-08-19T18:05:16.363121Z",
     "iopub.status.busy": "2025-08-19T18:05:16.362276Z",
     "iopub.status.idle": "2025-08-19T18:05:16.371159Z",
     "shell.execute_reply": "2025-08-19T18:05:16.370558Z"
    },
    "papermill": {
     "duration": 0.02645,
     "end_time": "2025-08-19T18:05:16.373954",
     "exception": false,
     "start_time": "2025-08-19T18:05:16.347504",
     "status": "completed"
    },
    "tags": []
   },
   "outputs": [
    {
     "data": {
      "text/plain": [
       "4"
      ]
     },
     "execution_count": 62,
     "metadata": {},
     "output_type": "execute_result"
    }
   ],
   "source": [
    "sub_universes = universe_analysis.generate_sub_universes()\n",
    "len(sub_universes)"
   ]
  },
  {
   "cell_type": "code",
   "execution_count": 63,
   "id": "d9cfdaca",
   "metadata": {
    "execution": {
     "iopub.execute_input": "2025-08-19T18:05:16.414557Z",
     "iopub.status.busy": "2025-08-19T18:05:16.414174Z",
     "iopub.status.idle": "2025-08-19T18:05:16.418874Z",
     "shell.execute_reply": "2025-08-19T18:05:16.418259Z"
    },
    "papermill": {
     "duration": 0.020907,
     "end_time": "2025-08-19T18:05:16.420034",
     "exception": false,
     "start_time": "2025-08-19T18:05:16.399127",
     "status": "completed"
    },
    "tags": []
   },
   "outputs": [],
   "source": [
    "def filter_sub_universe_data(sub_universe, org_test):\n",
    "    # Keep all rows — no filtering\n",
    "    keep_rows_mask = np.ones(org_test.shape[0], dtype=bool)\n",
    "\n",
    "    print(f\"[INFO] Keeping all rows: {keep_rows_mask.sum()} rows retained.\")\n",
    "    return keep_rows_mask"
   ]
  },
  {
   "cell_type": "code",
   "execution_count": 64,
   "id": "2bc31ac1",
   "metadata": {
    "execution": {
     "iopub.execute_input": "2025-08-19T18:05:16.449860Z",
     "iopub.status.busy": "2025-08-19T18:05:16.449474Z",
     "iopub.status.idle": "2025-08-19T18:05:23.266010Z",
     "shell.execute_reply": "2025-08-19T18:05:23.264974Z"
    },
    "papermill": {
     "duration": 6.834201,
     "end_time": "2025-08-19T18:05:23.268853",
     "exception": false,
     "start_time": "2025-08-19T18:05:16.434652",
     "status": "completed"
    },
    "tags": []
   },
   "outputs": [
    {
     "name": "stdout",
     "output_type": "stream",
     "text": [
      "Stopping execution_time clock.\n",
      "[INFO] Keeping all rows: 89710 rows retained.\n"
     ]
    },
    {
     "name": "stdout",
     "output_type": "stream",
     "text": [
      "[INFO] Keeping all rows: 89710 rows retained.\n"
     ]
    },
    {
     "name": "stdout",
     "output_type": "stream",
     "text": [
      "[INFO] Keeping all rows: 89710 rows retained.\n"
     ]
    },
    {
     "name": "stdout",
     "output_type": "stream",
     "text": [
      "[INFO] Keeping all rows: 89710 rows retained.\n"
     ]
    },
    {
     "data": {
      "text/html": [
       "<div>\n",
       "<style scoped>\n",
       "    .dataframe tbody tr th:only-of-type {\n",
       "        vertical-align: middle;\n",
       "    }\n",
       "\n",
       "    .dataframe tbody tr th {\n",
       "        vertical-align: top;\n",
       "    }\n",
       "\n",
       "    .dataframe thead th {\n",
       "        text-align: right;\n",
       "    }\n",
       "</style>\n",
       "<table border=\"1\" class=\"dataframe\">\n",
       "  <thead>\n",
       "    <tr style=\"text-align: right;\">\n",
       "      <th></th>\n",
       "      <th>run_no</th>\n",
       "      <th>universe_id</th>\n",
       "      <th>universe_settings</th>\n",
       "      <th>execution_time</th>\n",
       "      <th>test_size_n</th>\n",
       "      <th>test_size_frac</th>\n",
       "      <th>fair_main_equalized_odds_difference</th>\n",
       "      <th>fair_main_equalized_odds_ratio</th>\n",
       "      <th>fair_main_demographic_parity_difference</th>\n",
       "      <th>fair_main_demographic_parity_ratio</th>\n",
       "      <th>...</th>\n",
       "      <th>perf_grp_precision_0</th>\n",
       "      <th>perf_grp_precision_1</th>\n",
       "      <th>perf_grp_false positive rate_0</th>\n",
       "      <th>perf_grp_false positive rate_1</th>\n",
       "      <th>perf_grp_false negative rate_0</th>\n",
       "      <th>perf_grp_false negative rate_1</th>\n",
       "      <th>perf_grp_selection rate_0</th>\n",
       "      <th>perf_grp_selection rate_1</th>\n",
       "      <th>perf_grp_count_0</th>\n",
       "      <th>perf_grp_count_1</th>\n",
       "    </tr>\n",
       "  </thead>\n",
       "  <tbody>\n",
       "    <tr>\n",
       "      <th>0</th>\n",
       "      <td>3</td>\n",
       "      <td>7eca88123f0c20c733e96ab0327e2b65</td>\n",
       "      <td>{\"cutoff\": \"quantile_0.1\", \"eval_fairness_grou...</td>\n",
       "      <td>38.419027</td>\n",
       "      <td>89710</td>\n",
       "      <td>1.0</td>\n",
       "      <td>0.057095</td>\n",
       "      <td>0.942350</td>\n",
       "      <td>0.050966</td>\n",
       "      <td>0.945593</td>\n",
       "      <td>...</td>\n",
       "      <td>NaN</td>\n",
       "      <td>NaN</td>\n",
       "      <td>NaN</td>\n",
       "      <td>NaN</td>\n",
       "      <td>NaN</td>\n",
       "      <td>NaN</td>\n",
       "      <td>NaN</td>\n",
       "      <td>NaN</td>\n",
       "      <td>NaN</td>\n",
       "      <td>NaN</td>\n",
       "    </tr>\n",
       "    <tr>\n",
       "      <th>0</th>\n",
       "      <td>3</td>\n",
       "      <td>7eca88123f0c20c733e96ab0327e2b65</td>\n",
       "      <td>{\"cutoff\": \"quantile_0.1\", \"eval_fairness_grou...</td>\n",
       "      <td>38.419027</td>\n",
       "      <td>89710</td>\n",
       "      <td>1.0</td>\n",
       "      <td>0.057095</td>\n",
       "      <td>0.942350</td>\n",
       "      <td>0.050966</td>\n",
       "      <td>0.945593</td>\n",
       "      <td>...</td>\n",
       "      <td>0.121469</td>\n",
       "      <td>0.139702</td>\n",
       "      <td>0.879595</td>\n",
       "      <td>0.928586</td>\n",
       "      <td>0.066723</td>\n",
       "      <td>0.009628</td>\n",
       "      <td>0.885784</td>\n",
       "      <td>0.936750</td>\n",
       "      <td>20540.0</td>\n",
       "      <td>69170.0</td>\n",
       "    </tr>\n",
       "    <tr>\n",
       "      <th>0</th>\n",
       "      <td>3</td>\n",
       "      <td>7eca88123f0c20c733e96ab0327e2b65</td>\n",
       "      <td>{\"cutoff\": \"quantile_0.25\", \"eval_fairness_gro...</td>\n",
       "      <td>38.419027</td>\n",
       "      <td>89710</td>\n",
       "      <td>1.0</td>\n",
       "      <td>0.097579</td>\n",
       "      <td>0.898211</td>\n",
       "      <td>0.057478</td>\n",
       "      <td>0.927117</td>\n",
       "      <td>...</td>\n",
       "      <td>NaN</td>\n",
       "      <td>NaN</td>\n",
       "      <td>NaN</td>\n",
       "      <td>NaN</td>\n",
       "      <td>NaN</td>\n",
       "      <td>NaN</td>\n",
       "      <td>NaN</td>\n",
       "      <td>NaN</td>\n",
       "      <td>NaN</td>\n",
       "      <td>NaN</td>\n",
       "    </tr>\n",
       "    <tr>\n",
       "      <th>0</th>\n",
       "      <td>3</td>\n",
       "      <td>7eca88123f0c20c733e96ab0327e2b65</td>\n",
       "      <td>{\"cutoff\": \"quantile_0.25\", \"eval_fairness_gro...</td>\n",
       "      <td>38.419027</td>\n",
       "      <td>89710</td>\n",
       "      <td>1.0</td>\n",
       "      <td>0.097579</td>\n",
       "      <td>0.898211</td>\n",
       "      <td>0.057478</td>\n",
       "      <td>0.927117</td>\n",
       "      <td>...</td>\n",
       "      <td>0.135770</td>\n",
       "      <td>0.160623</td>\n",
       "      <td>0.714231</td>\n",
       "      <td>0.762752</td>\n",
       "      <td>0.138936</td>\n",
       "      <td>0.041357</td>\n",
       "      <td>0.731159</td>\n",
       "      <td>0.788637</td>\n",
       "      <td>20540.0</td>\n",
       "      <td>69170.0</td>\n",
       "    </tr>\n",
       "  </tbody>\n",
       "</table>\n",
       "<p>4 rows × 50 columns</p>\n",
       "</div>"
      ],
      "text/plain": [
       "  run_no                       universe_id  \\\n",
       "0      3  7eca88123f0c20c733e96ab0327e2b65   \n",
       "0      3  7eca88123f0c20c733e96ab0327e2b65   \n",
       "0      3  7eca88123f0c20c733e96ab0327e2b65   \n",
       "0      3  7eca88123f0c20c733e96ab0327e2b65   \n",
       "\n",
       "                                   universe_settings  execution_time  \\\n",
       "0  {\"cutoff\": \"quantile_0.1\", \"eval_fairness_grou...       38.419027   \n",
       "0  {\"cutoff\": \"quantile_0.1\", \"eval_fairness_grou...       38.419027   \n",
       "0  {\"cutoff\": \"quantile_0.25\", \"eval_fairness_gro...       38.419027   \n",
       "0  {\"cutoff\": \"quantile_0.25\", \"eval_fairness_gro...       38.419027   \n",
       "\n",
       "   test_size_n  test_size_frac  fair_main_equalized_odds_difference  \\\n",
       "0        89710             1.0                             0.057095   \n",
       "0        89710             1.0                             0.057095   \n",
       "0        89710             1.0                             0.097579   \n",
       "0        89710             1.0                             0.097579   \n",
       "\n",
       "   fair_main_equalized_odds_ratio  fair_main_demographic_parity_difference  \\\n",
       "0                        0.942350                                 0.050966   \n",
       "0                        0.942350                                 0.050966   \n",
       "0                        0.898211                                 0.057478   \n",
       "0                        0.898211                                 0.057478   \n",
       "\n",
       "   fair_main_demographic_parity_ratio  ...  perf_grp_precision_0  \\\n",
       "0                            0.945593  ...                   NaN   \n",
       "0                            0.945593  ...              0.121469   \n",
       "0                            0.927117  ...                   NaN   \n",
       "0                            0.927117  ...              0.135770   \n",
       "\n",
       "   perf_grp_precision_1  perf_grp_false positive rate_0  \\\n",
       "0                   NaN                             NaN   \n",
       "0              0.139702                        0.879595   \n",
       "0                   NaN                             NaN   \n",
       "0              0.160623                        0.714231   \n",
       "\n",
       "   perf_grp_false positive rate_1  perf_grp_false negative rate_0  \\\n",
       "0                             NaN                             NaN   \n",
       "0                        0.928586                        0.066723   \n",
       "0                             NaN                             NaN   \n",
       "0                        0.762752                        0.138936   \n",
       "\n",
       "   perf_grp_false negative rate_1  perf_grp_selection rate_0  \\\n",
       "0                             NaN                        NaN   \n",
       "0                        0.009628                   0.885784   \n",
       "0                             NaN                        NaN   \n",
       "0                        0.041357                   0.731159   \n",
       "\n",
       "   perf_grp_selection rate_1  perf_grp_count_0  perf_grp_count_1  \n",
       "0                        NaN               NaN               NaN  \n",
       "0                   0.936750           20540.0           69170.0  \n",
       "0                        NaN               NaN               NaN  \n",
       "0                   0.788637           20540.0           69170.0  \n",
       "\n",
       "[4 rows x 50 columns]"
      ]
     },
     "execution_count": 64,
     "metadata": {},
     "output_type": "execute_result"
    }
   ],
   "source": [
    "final_output = universe_analysis.generate_final_output(\n",
    "    y_pred_prob=probs_test,\n",
    "    y_test=y_true,\n",
    "    org_test=org_test,\n",
    "    filter_data=filter_sub_universe_data,\n",
    "    cp_metrics_df=cp_metrics_df,\n",
    "    save=True,\n",
    ")\n",
    "final_output"
   ]
  },
  {
   "cell_type": "code",
   "execution_count": null,
   "id": "8b80a1ff",
   "metadata": {
    "papermill": {
     "duration": 0.014682,
     "end_time": "2025-08-19T18:05:23.316399",
     "exception": false,
     "start_time": "2025-08-19T18:05:23.301717",
     "status": "completed"
    },
    "tags": []
   },
   "outputs": [],
   "source": []
  },
  {
   "cell_type": "code",
   "execution_count": null,
   "id": "275c9fad",
   "metadata": {
    "papermill": {
     "duration": 0.014609,
     "end_time": "2025-08-19T18:05:23.345714",
     "exception": false,
     "start_time": "2025-08-19T18:05:23.331105",
     "status": "completed"
    },
    "tags": []
   },
   "outputs": [],
   "source": []
  }
 ],
 "metadata": {
  "celltoolbar": "Tags",
  "kernelspec": {
   "display_name": "Python (CMA Fairness)",
   "language": "python",
   "name": "cma_fair_env"
  },
  "language_info": {
   "codemirror_mode": {
    "name": "ipython",
    "version": 3
   },
   "file_extension": ".py",
   "mimetype": "text/x-python",
   "name": "python",
   "nbconvert_exporter": "python",
   "pygments_lexer": "ipython3",
   "version": "3.10.12"
  },
  "papermill": {
   "default_parameters": {},
   "duration": 48.99362,
   "end_time": "2025-08-19T18:05:24.201357",
   "environment_variables": {},
   "exception": null,
   "input_path": "universe_analysis.ipynb",
   "output_path": "output/runs/3/notebooks/m_3-7eca88123f0c20c733e96ab0327e2b65.ipynb",
   "parameters": {
    "output_dir": "output",
    "run_no": "3",
    "seed": "2023",
    "universe": "{\"cutoff\": [\"quantile_0.1\", \"quantile_0.25\"], \"eval_fairness_grouping\": [\"majority-minority\", \"nationality-all\"], \"exclude_features\": \"sex\", \"exclude_subgroups\": \"drop-non-german\", \"model\": \"rf\", \"scale\": \"scale\", \"training_size\": \"25k\", \"training_year\": \"2012_14\"}",
    "universe_id": "7eca88123f0c20c733e96ab0327e2b65"
   },
   "start_time": "2025-08-19T18:04:35.207737",
   "version": "2.6.0"
  }
 },
 "nbformat": 4,
 "nbformat_minor": 5
}