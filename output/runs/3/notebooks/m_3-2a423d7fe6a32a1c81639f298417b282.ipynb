{
 "cells": [
  {
   "cell_type": "markdown",
   "id": "ef23dbb3",
   "metadata": {
    "papermill": {
     "duration": 0.010186,
     "end_time": "2025-08-19T18:36:03.995369",
     "exception": false,
     "start_time": "2025-08-19T18:36:03.985183",
     "status": "completed"
    },
    "tags": []
   },
   "source": [
    "# Setup"
   ]
  },
  {
   "cell_type": "code",
   "execution_count": 1,
   "id": "0bc8e7dc",
   "metadata": {
    "execution": {
     "iopub.execute_input": "2025-08-19T18:36:04.020073Z",
     "iopub.status.busy": "2025-08-19T18:36:04.014958Z",
     "iopub.status.idle": "2025-08-19T18:36:04.031751Z",
     "shell.execute_reply": "2025-08-19T18:36:04.031133Z"
    },
    "papermill": {
     "duration": 0.029815,
     "end_time": "2025-08-19T18:36:04.034057",
     "exception": false,
     "start_time": "2025-08-19T18:36:04.004242",
     "status": "completed"
    },
    "tags": []
   },
   "outputs": [
    {
     "name": "stdout",
     "output_type": "stream",
     "text": [
      "/dss/dsshome1/0C/ra93lal2/cma/CMA_Fairness_v2\n"
     ]
    },
    {
     "name": "stderr",
     "output_type": "stream",
     "text": [
      "/dss/dsshome1/0C/ra93lal2/.local/share/virtualenvs/CMA_Fairness_v2-3j10GkSs/lib/python3.10/site-packages/IPython/core/magics/osm.py:393: UserWarning: This is now an optional IPython functionality, using bookmarks requires you to install the `pickleshare` library.\n",
      "  bkms = self.shell.db.get('bookmarks', {})\n",
      "/dss/dsshome1/0C/ra93lal2/.local/share/virtualenvs/CMA_Fairness_v2-3j10GkSs/lib/python3.10/site-packages/IPython/core/magics/osm.py:417: UserWarning: This is now an optional IPython functionality, setting dhist requires you to install the `pickleshare` library.\n",
      "  self.shell.db['dhist'] = compress_dhist(dhist)[-100:]\n"
     ]
    }
   ],
   "source": [
    "%cd ~/cma/CMA_Fairness_v2"
   ]
  },
  {
   "cell_type": "markdown",
   "id": "9d235661",
   "metadata": {
    "papermill": {
     "duration": 0.008888,
     "end_time": "2025-08-19T18:36:04.056034",
     "exception": false,
     "start_time": "2025-08-19T18:36:04.047146",
     "status": "completed"
    },
    "tags": []
   },
   "source": [
    "The following cell holds the definition of our parameters, these values can be overriden by rendering the with e.g. the following command:\n",
    "\n",
    "papermill -p alpha 0.2 -p ratio 0.3 universe_analysis.ipynb output/test_run.ipynb"
   ]
  },
  {
   "cell_type": "code",
   "execution_count": 2,
   "id": "4a789d8e",
   "metadata": {
    "execution": {
     "iopub.execute_input": "2025-08-19T18:36:04.087743Z",
     "iopub.status.busy": "2025-08-19T18:36:04.086620Z",
     "iopub.status.idle": "2025-08-19T18:36:04.092764Z",
     "shell.execute_reply": "2025-08-19T18:36:04.091894Z"
    },
    "papermill": {
     "duration": 0.017733,
     "end_time": "2025-08-19T18:36:04.093997",
     "exception": false,
     "start_time": "2025-08-19T18:36:04.076264",
     "status": "completed"
    },
    "tags": []
   },
   "outputs": [
    {
     "name": "stdout",
     "output_type": "stream",
     "text": [
      "Current working directory: /dss/dsshome1/0C/ra93lal2/cma/CMA_Fairness_v2\n"
     ]
    }
   ],
   "source": [
    "import os\n",
    "print(\"Current working directory:\", os.getcwd())"
   ]
  },
  {
   "cell_type": "code",
   "execution_count": 3,
   "id": "4132aaed",
   "metadata": {
    "execution": {
     "iopub.execute_input": "2025-08-19T18:36:04.113775Z",
     "iopub.status.busy": "2025-08-19T18:36:04.113474Z",
     "iopub.status.idle": "2025-08-19T18:36:04.118700Z",
     "shell.execute_reply": "2025-08-19T18:36:04.117840Z"
    },
    "papermill": {
     "duration": 0.016432,
     "end_time": "2025-08-19T18:36:04.119807",
     "exception": false,
     "start_time": "2025-08-19T18:36:04.103375",
     "status": "completed"
    },
    "tags": [
     "parameters"
    ]
   },
   "outputs": [],
   "source": [
    "run_no = 0\n",
    "universe_id = \"test\"\n",
    "universe = {\n",
    "    \"training_size\": \"5k\", # \"25k\", \"5k\", \"1k\"\n",
    "    \"training_year\": \"2012_14\", # \"2014\", \"2012_14\", \"2010_14\"\n",
    "    \"scale\": \"scale\", # \"scale\", \"do-not-scale\",\n",
    "    \"model\": \"elasticnet\", # \"logreg\", \"penalized_logreg\", \"rf\", \"gbm\", \"elasticnet\"\n",
    "    \"cutoff\": [\"quantile_0.15\", \"quantile_0.30\"],\n",
    "    \"exclude_features\": \"age\", # \"none\", \"nationality\", \"sex\", \"nationality-sex\", \"age\"\n",
    "    \"exclude_subgroups\": \"drop-non-german\", # \"keep-all\", \"drop-non-german\"\n",
    "    \"eval_fairness_grouping\": [\"majority-minority\", \"nationality-all\"]\n",
    "}\n",
    "\n",
    "output_dir=\"./output\"\n",
    "seed=0"
   ]
  },
  {
   "cell_type": "code",
   "execution_count": 4,
   "id": "5f67a68e",
   "metadata": {
    "execution": {
     "iopub.execute_input": "2025-08-19T18:36:04.139376Z",
     "iopub.status.busy": "2025-08-19T18:36:04.139078Z",
     "iopub.status.idle": "2025-08-19T18:36:04.144166Z",
     "shell.execute_reply": "2025-08-19T18:36:04.143104Z"
    },
    "papermill": {
     "duration": 0.016845,
     "end_time": "2025-08-19T18:36:04.145812",
     "exception": false,
     "start_time": "2025-08-19T18:36:04.128967",
     "status": "completed"
    },
    "tags": [
     "injected-parameters"
    ]
   },
   "outputs": [],
   "source": [
    "# Parameters\n",
    "universe_id = \"2a423d7fe6a32a1c81639f298417b282\"\n",
    "run_no = \"3\"\n",
    "universe = \"{\\\"cutoff\\\": [\\\"quantile_0.1\\\", \\\"quantile_0.25\\\"], \\\"eval_fairness_grouping\\\": [\\\"majority-minority\\\", \\\"nationality-all\\\"], \\\"exclude_features\\\": \\\"sex\\\", \\\"exclude_subgroups\\\": \\\"keep-all\\\", \\\"model\\\": \\\"penalized_logreg\\\", \\\"scale\\\": \\\"do-not-scale\\\", \\\"training_size\\\": \\\"5k\\\", \\\"training_year\\\": \\\"2012_14\\\"}\"\n",
    "output_dir = \"output\"\n",
    "seed = \"2023\"\n"
   ]
  },
  {
   "cell_type": "code",
   "execution_count": 5,
   "id": "a5d7941f",
   "metadata": {
    "execution": {
     "iopub.execute_input": "2025-08-19T18:36:04.164585Z",
     "iopub.status.busy": "2025-08-19T18:36:04.164266Z",
     "iopub.status.idle": "2025-08-19T18:36:04.169378Z",
     "shell.execute_reply": "2025-08-19T18:36:04.168461Z"
    },
    "papermill": {
     "duration": 0.016049,
     "end_time": "2025-08-19T18:36:04.170713",
     "exception": false,
     "start_time": "2025-08-19T18:36:04.154664",
     "status": "completed"
    },
    "tags": []
   },
   "outputs": [],
   "source": [
    "import json\n",
    "if isinstance(universe, str):\n",
    "    universe = json.loads(universe)"
   ]
  },
  {
   "cell_type": "code",
   "execution_count": 6,
   "id": "7076ccb1",
   "metadata": {
    "execution": {
     "iopub.execute_input": "2025-08-19T18:36:04.189865Z",
     "iopub.status.busy": "2025-08-19T18:36:04.189379Z",
     "iopub.status.idle": "2025-08-19T18:36:04.232811Z",
     "shell.execute_reply": "2025-08-19T18:36:04.231813Z"
    },
    "papermill": {
     "duration": 0.055616,
     "end_time": "2025-08-19T18:36:04.235272",
     "exception": false,
     "start_time": "2025-08-19T18:36:04.179656",
     "status": "completed"
    },
    "tags": []
   },
   "outputs": [],
   "source": [
    "# Auto-reload the custom package\n",
    "%load_ext autoreload\n",
    "%autoreload 1\n",
    "%aimport fairness_multiverse"
   ]
  },
  {
   "cell_type": "code",
   "execution_count": 7,
   "id": "94c8eb93",
   "metadata": {
    "execution": {
     "iopub.execute_input": "2025-08-19T18:36:04.256131Z",
     "iopub.status.busy": "2025-08-19T18:36:04.255601Z",
     "iopub.status.idle": "2025-08-19T18:36:05.978048Z",
     "shell.execute_reply": "2025-08-19T18:36:05.976970Z"
    },
    "papermill": {
     "duration": 1.735064,
     "end_time": "2025-08-19T18:36:05.979811",
     "exception": false,
     "start_time": "2025-08-19T18:36:04.244747",
     "status": "completed"
    },
    "tags": []
   },
   "outputs": [],
   "source": [
    "from fairness_multiverse.universe import UniverseAnalysis\n",
    "\n",
    "universe_analysis = UniverseAnalysis(\n",
    "    run_no = run_no,\n",
    "    universe_id = universe_id,\n",
    "    universe = universe,\n",
    "    output_dir=output_dir,\n",
    ")"
   ]
  },
  {
   "cell_type": "code",
   "execution_count": 8,
   "id": "2a6381cf",
   "metadata": {
    "execution": {
     "iopub.execute_input": "2025-08-19T18:36:06.003598Z",
     "iopub.status.busy": "2025-08-19T18:36:06.002911Z",
     "iopub.status.idle": "2025-08-19T18:36:06.009732Z",
     "shell.execute_reply": "2025-08-19T18:36:06.008689Z"
    },
    "papermill": {
     "duration": 0.021381,
     "end_time": "2025-08-19T18:36:06.012019",
     "exception": false,
     "start_time": "2025-08-19T18:36:05.990638",
     "status": "completed"
    },
    "tags": []
   },
   "outputs": [
    {
     "name": "stdout",
     "output_type": "stream",
     "text": [
      "Using Seed: 2023\n"
     ]
    }
   ],
   "source": [
    "import numpy as np\n",
    "parsed_seed = int(seed)\n",
    "np.random.seed(parsed_seed)\n",
    "print(f\"Using Seed: {parsed_seed}\")"
   ]
  },
  {
   "cell_type": "markdown",
   "id": "b6e958b4",
   "metadata": {
    "papermill": {
     "duration": 0.009136,
     "end_time": "2025-08-19T18:36:06.030245",
     "exception": false,
     "start_time": "2025-08-19T18:36:06.021109",
     "status": "completed"
    },
    "tags": []
   },
   "source": [
    "# Loading Data"
   ]
  },
  {
   "cell_type": "code",
   "execution_count": 9,
   "id": "98701482",
   "metadata": {
    "execution": {
     "iopub.execute_input": "2025-08-19T18:36:06.051486Z",
     "iopub.status.busy": "2025-08-19T18:36:06.049971Z",
     "iopub.status.idle": "2025-08-19T18:36:16.410823Z",
     "shell.execute_reply": "2025-08-19T18:36:16.409531Z"
    },
    "papermill": {
     "duration": 10.374079,
     "end_time": "2025-08-19T18:36:16.413545",
     "exception": false,
     "start_time": "2025-08-19T18:36:06.039466",
     "status": "completed"
    },
    "tags": []
   },
   "outputs": [
    {
     "name": "stdout",
     "output_type": "stream",
     "text": [
      "Loading SIAB data from cache: data/siab_cached.csv.gz\n"
     ]
    },
    {
     "name": "stdout",
     "output_type": "stream",
     "text": [
      "(643690, 164)\n"
     ]
    }
   ],
   "source": [
    "from pathlib import Path\n",
    "import pandas as pd\n",
    "\n",
    "# File paths\n",
    "raw_file = Path(\"data/raw/siab.csv\")\n",
    "cache_file = Path(\"data/siab_cached.csv.gz\")\n",
    "\n",
    "# Ensure cache directory exists\n",
    "cache_file.parent.mkdir(parents=True, exist_ok=True)\n",
    "\n",
    "# Load with simple caching\n",
    "if cache_file.exists():\n",
    "    print(f\"Loading SIAB data from cache: {cache_file}\")\n",
    "    siab = pd.read_csv(cache_file, compression='gzip')\n",
    "else:\n",
    "    print(f\"Cache not found. Reading raw SIAB data: {raw_file}\")\n",
    "    siab = pd.read_csv(raw_file)\n",
    "    siab.to_csv(cache_file, index=False, compression='gzip')\n",
    "    print(f\"Cached SIAB data to: {cache_file}\")\n",
    "\n",
    "print(siab.shape)"
   ]
  },
  {
   "cell_type": "code",
   "execution_count": 10,
   "id": "058d2abb",
   "metadata": {
    "execution": {
     "iopub.execute_input": "2025-08-19T18:36:16.458299Z",
     "iopub.status.busy": "2025-08-19T18:36:16.457822Z",
     "iopub.status.idle": "2025-08-19T18:36:16.644234Z",
     "shell.execute_reply": "2025-08-19T18:36:16.642904Z"
    },
    "papermill": {
     "duration": 0.210252,
     "end_time": "2025-08-19T18:36:16.651521",
     "exception": false,
     "start_time": "2025-08-19T18:36:16.441269",
     "status": "completed"
    },
    "tags": []
   },
   "outputs": [
    {
     "data": {
      "text/html": [
       "<div>\n",
       "<style scoped>\n",
       "    .dataframe tbody tr th:only-of-type {\n",
       "        vertical-align: middle;\n",
       "    }\n",
       "\n",
       "    .dataframe tbody tr th {\n",
       "        vertical-align: top;\n",
       "    }\n",
       "\n",
       "    .dataframe thead th {\n",
       "        text-align: right;\n",
       "    }\n",
       "</style>\n",
       "<table border=\"1\" class=\"dataframe\">\n",
       "  <thead>\n",
       "    <tr style=\"text-align: right;\">\n",
       "      <th></th>\n",
       "      <th>persnr</th>\n",
       "      <th>year</th>\n",
       "      <th>nrEntry</th>\n",
       "      <th>ltue</th>\n",
       "      <th>employed_before</th>\n",
       "      <th>receipt_leh_before</th>\n",
       "      <th>receipt_lhg_before</th>\n",
       "      <th>se_before</th>\n",
       "      <th>ASU_notue_seeking_before</th>\n",
       "      <th>ASU_other_before</th>\n",
       "      <th>...</th>\n",
       "      <th>minijob_tot_dur_byage</th>\n",
       "      <th>ft_tot_dur_byage</th>\n",
       "      <th>befrist_tot_dur_byage</th>\n",
       "      <th>leih_tot_dur_byage</th>\n",
       "      <th>LHG_tot_dur_byage</th>\n",
       "      <th>LEH_tot_dur_byage</th>\n",
       "      <th>almp_tot_dur_byage</th>\n",
       "      <th>almp_aw_tot_dur_byage</th>\n",
       "      <th>se_tot_dur_byage</th>\n",
       "      <th>seeking1_tot_dur_byage</th>\n",
       "    </tr>\n",
       "  </thead>\n",
       "  <tbody>\n",
       "    <tr>\n",
       "      <th>0</th>\n",
       "      <td>7</td>\n",
       "      <td>2015</td>\n",
       "      <td>1</td>\n",
       "      <td>0</td>\n",
       "      <td>1</td>\n",
       "      <td>0</td>\n",
       "      <td>0</td>\n",
       "      <td>0</td>\n",
       "      <td>1</td>\n",
       "      <td>0</td>\n",
       "      <td>...</td>\n",
       "      <td>0.000000</td>\n",
       "      <td>0.000000</td>\n",
       "      <td>15.043478</td>\n",
       "      <td>0.000000</td>\n",
       "      <td>0.000000</td>\n",
       "      <td>0.000000</td>\n",
       "      <td>0.000000</td>\n",
       "      <td>0.000000</td>\n",
       "      <td>0.000000</td>\n",
       "      <td>0.000000</td>\n",
       "    </tr>\n",
       "    <tr>\n",
       "      <th>1</th>\n",
       "      <td>18</td>\n",
       "      <td>2010</td>\n",
       "      <td>1</td>\n",
       "      <td>1</td>\n",
       "      <td>0</td>\n",
       "      <td>0</td>\n",
       "      <td>0</td>\n",
       "      <td>0</td>\n",
       "      <td>0</td>\n",
       "      <td>0</td>\n",
       "      <td>...</td>\n",
       "      <td>0.000000</td>\n",
       "      <td>0.000000</td>\n",
       "      <td>0.000000</td>\n",
       "      <td>0.000000</td>\n",
       "      <td>0.000000</td>\n",
       "      <td>0.000000</td>\n",
       "      <td>0.000000</td>\n",
       "      <td>0.000000</td>\n",
       "      <td>0.000000</td>\n",
       "      <td>0.000000</td>\n",
       "    </tr>\n",
       "    <tr>\n",
       "      <th>2</th>\n",
       "      <td>18</td>\n",
       "      <td>2011</td>\n",
       "      <td>2</td>\n",
       "      <td>0</td>\n",
       "      <td>1</td>\n",
       "      <td>0</td>\n",
       "      <td>1</td>\n",
       "      <td>0</td>\n",
       "      <td>1</td>\n",
       "      <td>0</td>\n",
       "      <td>...</td>\n",
       "      <td>2.714286</td>\n",
       "      <td>2.714286</td>\n",
       "      <td>0.000000</td>\n",
       "      <td>0.000000</td>\n",
       "      <td>10.775510</td>\n",
       "      <td>0.000000</td>\n",
       "      <td>8.367347</td>\n",
       "      <td>0.000000</td>\n",
       "      <td>0.000000</td>\n",
       "      <td>9.836735</td>\n",
       "    </tr>\n",
       "    <tr>\n",
       "      <th>3</th>\n",
       "      <td>18</td>\n",
       "      <td>2012</td>\n",
       "      <td>3</td>\n",
       "      <td>0</td>\n",
       "      <td>1</td>\n",
       "      <td>0</td>\n",
       "      <td>1</td>\n",
       "      <td>0</td>\n",
       "      <td>1</td>\n",
       "      <td>0</td>\n",
       "      <td>...</td>\n",
       "      <td>4.200000</td>\n",
       "      <td>4.200000</td>\n",
       "      <td>0.000000</td>\n",
       "      <td>0.000000</td>\n",
       "      <td>12.100000</td>\n",
       "      <td>0.000000</td>\n",
       "      <td>9.400000</td>\n",
       "      <td>0.000000</td>\n",
       "      <td>0.000000</td>\n",
       "      <td>9.960000</td>\n",
       "    </tr>\n",
       "    <tr>\n",
       "      <th>4</th>\n",
       "      <td>18</td>\n",
       "      <td>2012</td>\n",
       "      <td>4</td>\n",
       "      <td>0</td>\n",
       "      <td>1</td>\n",
       "      <td>0</td>\n",
       "      <td>1</td>\n",
       "      <td>0</td>\n",
       "      <td>1</td>\n",
       "      <td>0</td>\n",
       "      <td>...</td>\n",
       "      <td>5.460000</td>\n",
       "      <td>5.460000</td>\n",
       "      <td>0.000000</td>\n",
       "      <td>0.000000</td>\n",
       "      <td>13.360000</td>\n",
       "      <td>0.000000</td>\n",
       "      <td>10.320000</td>\n",
       "      <td>0.000000</td>\n",
       "      <td>0.000000</td>\n",
       "      <td>10.280000</td>\n",
       "    </tr>\n",
       "    <tr>\n",
       "      <th>...</th>\n",
       "      <td>...</td>\n",
       "      <td>...</td>\n",
       "      <td>...</td>\n",
       "      <td>...</td>\n",
       "      <td>...</td>\n",
       "      <td>...</td>\n",
       "      <td>...</td>\n",
       "      <td>...</td>\n",
       "      <td>...</td>\n",
       "      <td>...</td>\n",
       "      <td>...</td>\n",
       "      <td>...</td>\n",
       "      <td>...</td>\n",
       "      <td>...</td>\n",
       "      <td>...</td>\n",
       "      <td>...</td>\n",
       "      <td>...</td>\n",
       "      <td>...</td>\n",
       "      <td>...</td>\n",
       "      <td>...</td>\n",
       "      <td>...</td>\n",
       "    </tr>\n",
       "    <tr>\n",
       "      <th>643685</th>\n",
       "      <td>1827860</td>\n",
       "      <td>2013</td>\n",
       "      <td>1</td>\n",
       "      <td>0</td>\n",
       "      <td>0</td>\n",
       "      <td>0</td>\n",
       "      <td>1</td>\n",
       "      <td>0</td>\n",
       "      <td>0</td>\n",
       "      <td>1</td>\n",
       "      <td>...</td>\n",
       "      <td>0.000000</td>\n",
       "      <td>0.000000</td>\n",
       "      <td>0.000000</td>\n",
       "      <td>0.000000</td>\n",
       "      <td>0.612903</td>\n",
       "      <td>0.000000</td>\n",
       "      <td>0.000000</td>\n",
       "      <td>0.000000</td>\n",
       "      <td>0.000000</td>\n",
       "      <td>0.000000</td>\n",
       "    </tr>\n",
       "    <tr>\n",
       "      <th>643686</th>\n",
       "      <td>1827860</td>\n",
       "      <td>2015</td>\n",
       "      <td>2</td>\n",
       "      <td>1</td>\n",
       "      <td>0</td>\n",
       "      <td>0</td>\n",
       "      <td>1</td>\n",
       "      <td>0</td>\n",
       "      <td>1</td>\n",
       "      <td>0</td>\n",
       "      <td>...</td>\n",
       "      <td>0.000000</td>\n",
       "      <td>0.000000</td>\n",
       "      <td>0.212121</td>\n",
       "      <td>0.212121</td>\n",
       "      <td>17.363636</td>\n",
       "      <td>0.000000</td>\n",
       "      <td>8.909091</td>\n",
       "      <td>0.000000</td>\n",
       "      <td>0.000000</td>\n",
       "      <td>7.121212</td>\n",
       "    </tr>\n",
       "    <tr>\n",
       "      <th>643687</th>\n",
       "      <td>1827860</td>\n",
       "      <td>2016</td>\n",
       "      <td>3</td>\n",
       "      <td>1</td>\n",
       "      <td>0</td>\n",
       "      <td>0</td>\n",
       "      <td>1</td>\n",
       "      <td>1</td>\n",
       "      <td>0</td>\n",
       "      <td>1</td>\n",
       "      <td>...</td>\n",
       "      <td>0.000000</td>\n",
       "      <td>0.000000</td>\n",
       "      <td>0.294118</td>\n",
       "      <td>0.205882</td>\n",
       "      <td>34.705882</td>\n",
       "      <td>0.000000</td>\n",
       "      <td>10.352941</td>\n",
       "      <td>1.705882</td>\n",
       "      <td>1.705882</td>\n",
       "      <td>23.911765</td>\n",
       "    </tr>\n",
       "    <tr>\n",
       "      <th>643688</th>\n",
       "      <td>1827869</td>\n",
       "      <td>2013</td>\n",
       "      <td>1</td>\n",
       "      <td>1</td>\n",
       "      <td>1</td>\n",
       "      <td>0</td>\n",
       "      <td>0</td>\n",
       "      <td>0</td>\n",
       "      <td>1</td>\n",
       "      <td>0</td>\n",
       "      <td>...</td>\n",
       "      <td>0.000000</td>\n",
       "      <td>0.000000</td>\n",
       "      <td>0.000000</td>\n",
       "      <td>0.000000</td>\n",
       "      <td>0.000000</td>\n",
       "      <td>0.525424</td>\n",
       "      <td>0.000000</td>\n",
       "      <td>0.000000</td>\n",
       "      <td>0.000000</td>\n",
       "      <td>0.000000</td>\n",
       "    </tr>\n",
       "    <tr>\n",
       "      <th>643689</th>\n",
       "      <td>1827869</td>\n",
       "      <td>2014</td>\n",
       "      <td>2</td>\n",
       "      <td>0</td>\n",
       "      <td>0</td>\n",
       "      <td>1</td>\n",
       "      <td>0</td>\n",
       "      <td>0</td>\n",
       "      <td>1</td>\n",
       "      <td>0</td>\n",
       "      <td>...</td>\n",
       "      <td>0.000000</td>\n",
       "      <td>0.666667</td>\n",
       "      <td>0.666667</td>\n",
       "      <td>0.000000</td>\n",
       "      <td>0.000000</td>\n",
       "      <td>8.950000</td>\n",
       "      <td>1.033333</td>\n",
       "      <td>0.083333</td>\n",
       "      <td>0.083333</td>\n",
       "      <td>8.133333</td>\n",
       "    </tr>\n",
       "  </tbody>\n",
       "</table>\n",
       "<p>643690 rows × 164 columns</p>\n",
       "</div>"
      ],
      "text/plain": [
       "         persnr  year  nrEntry  ltue  employed_before  receipt_leh_before  \\\n",
       "0             7  2015        1     0                1                   0   \n",
       "1            18  2010        1     1                0                   0   \n",
       "2            18  2011        2     0                1                   0   \n",
       "3            18  2012        3     0                1                   0   \n",
       "4            18  2012        4     0                1                   0   \n",
       "...         ...   ...      ...   ...              ...                 ...   \n",
       "643685  1827860  2013        1     0                0                   0   \n",
       "643686  1827860  2015        2     1                0                   0   \n",
       "643687  1827860  2016        3     1                0                   0   \n",
       "643688  1827869  2013        1     1                1                   0   \n",
       "643689  1827869  2014        2     0                0                   1   \n",
       "\n",
       "        receipt_lhg_before  se_before  ASU_notue_seeking_before  \\\n",
       "0                        0          0                         1   \n",
       "1                        0          0                         0   \n",
       "2                        1          0                         1   \n",
       "3                        1          0                         1   \n",
       "4                        1          0                         1   \n",
       "...                    ...        ...                       ...   \n",
       "643685                   1          0                         0   \n",
       "643686                   1          0                         1   \n",
       "643687                   1          1                         0   \n",
       "643688                   0          0                         1   \n",
       "643689                   0          0                         1   \n",
       "\n",
       "        ASU_other_before  ...  minijob_tot_dur_byage  ft_tot_dur_byage  \\\n",
       "0                      0  ...               0.000000          0.000000   \n",
       "1                      0  ...               0.000000          0.000000   \n",
       "2                      0  ...               2.714286          2.714286   \n",
       "3                      0  ...               4.200000          4.200000   \n",
       "4                      0  ...               5.460000          5.460000   \n",
       "...                  ...  ...                    ...               ...   \n",
       "643685                 1  ...               0.000000          0.000000   \n",
       "643686                 0  ...               0.000000          0.000000   \n",
       "643687                 1  ...               0.000000          0.000000   \n",
       "643688                 0  ...               0.000000          0.000000   \n",
       "643689                 0  ...               0.000000          0.666667   \n",
       "\n",
       "        befrist_tot_dur_byage  leih_tot_dur_byage  LHG_tot_dur_byage  \\\n",
       "0                   15.043478            0.000000           0.000000   \n",
       "1                    0.000000            0.000000           0.000000   \n",
       "2                    0.000000            0.000000          10.775510   \n",
       "3                    0.000000            0.000000          12.100000   \n",
       "4                    0.000000            0.000000          13.360000   \n",
       "...                       ...                 ...                ...   \n",
       "643685               0.000000            0.000000           0.612903   \n",
       "643686               0.212121            0.212121          17.363636   \n",
       "643687               0.294118            0.205882          34.705882   \n",
       "643688               0.000000            0.000000           0.000000   \n",
       "643689               0.666667            0.000000           0.000000   \n",
       "\n",
       "        LEH_tot_dur_byage  almp_tot_dur_byage  almp_aw_tot_dur_byage  \\\n",
       "0                0.000000            0.000000               0.000000   \n",
       "1                0.000000            0.000000               0.000000   \n",
       "2                0.000000            8.367347               0.000000   \n",
       "3                0.000000            9.400000               0.000000   \n",
       "4                0.000000           10.320000               0.000000   \n",
       "...                   ...                 ...                    ...   \n",
       "643685           0.000000            0.000000               0.000000   \n",
       "643686           0.000000            8.909091               0.000000   \n",
       "643687           0.000000           10.352941               1.705882   \n",
       "643688           0.525424            0.000000               0.000000   \n",
       "643689           8.950000            1.033333               0.083333   \n",
       "\n",
       "        se_tot_dur_byage  seeking1_tot_dur_byage  \n",
       "0               0.000000                0.000000  \n",
       "1               0.000000                0.000000  \n",
       "2               0.000000                9.836735  \n",
       "3               0.000000                9.960000  \n",
       "4               0.000000               10.280000  \n",
       "...                  ...                     ...  \n",
       "643685          0.000000                0.000000  \n",
       "643686          0.000000                7.121212  \n",
       "643687          1.705882               23.911765  \n",
       "643688          0.000000                0.000000  \n",
       "643689          0.083333                8.133333  \n",
       "\n",
       "[643690 rows x 164 columns]"
      ]
     },
     "execution_count": 10,
     "metadata": {},
     "output_type": "execute_result"
    }
   ],
   "source": [
    "siab"
   ]
  },
  {
   "cell_type": "markdown",
   "id": "1f87e805",
   "metadata": {
    "papermill": {
     "duration": 0.011813,
     "end_time": "2025-08-19T18:36:16.682743",
     "exception": false,
     "start_time": "2025-08-19T18:36:16.670930",
     "status": "completed"
    },
    "tags": []
   },
   "source": [
    "# Splitting Data and Setting Training Data Size"
   ]
  },
  {
   "cell_type": "code",
   "execution_count": 11,
   "id": "910ae358",
   "metadata": {
    "execution": {
     "iopub.execute_input": "2025-08-19T18:36:16.705614Z",
     "iopub.status.busy": "2025-08-19T18:36:16.704653Z",
     "iopub.status.idle": "2025-08-19T18:36:17.367955Z",
     "shell.execute_reply": "2025-08-19T18:36:17.367009Z"
    },
    "papermill": {
     "duration": 0.6773,
     "end_time": "2025-08-19T18:36:17.370041",
     "exception": false,
     "start_time": "2025-08-19T18:36:16.692741",
     "status": "completed"
    },
    "tags": []
   },
   "outputs": [],
   "source": [
    "from fairness_multiverse.universe import sample_by_year_size\n",
    "\n",
    "siab_train = sample_by_year_size(siab,\n",
    "                               training_year=universe[\"training_year\"],\n",
    "                               training_size=universe[\"training_size\"])"
   ]
  },
  {
   "cell_type": "code",
   "execution_count": 12,
   "id": "919c8ff5",
   "metadata": {
    "execution": {
     "iopub.execute_input": "2025-08-19T18:36:17.407821Z",
     "iopub.status.busy": "2025-08-19T18:36:17.406619Z",
     "iopub.status.idle": "2025-08-19T18:36:17.417783Z",
     "shell.execute_reply": "2025-08-19T18:36:17.416624Z"
    },
    "papermill": {
     "duration": 0.035604,
     "end_time": "2025-08-19T18:36:17.419437",
     "exception": false,
     "start_time": "2025-08-19T18:36:17.383833",
     "status": "completed"
    },
    "tags": []
   },
   "outputs": [
    {
     "data": {
      "text/plain": [
       "(5000, 164)"
      ]
     },
     "execution_count": 12,
     "metadata": {},
     "output_type": "execute_result"
    }
   ],
   "source": [
    "siab_train.shape"
   ]
  },
  {
   "cell_type": "code",
   "execution_count": 13,
   "id": "feb13bf4",
   "metadata": {
    "execution": {
     "iopub.execute_input": "2025-08-19T18:36:17.467873Z",
     "iopub.status.busy": "2025-08-19T18:36:17.466953Z",
     "iopub.status.idle": "2025-08-19T18:36:17.481830Z",
     "shell.execute_reply": "2025-08-19T18:36:17.480708Z"
    },
    "papermill": {
     "duration": 0.039674,
     "end_time": "2025-08-19T18:36:17.483838",
     "exception": false,
     "start_time": "2025-08-19T18:36:17.444164",
     "status": "completed"
    },
    "tags": []
   },
   "outputs": [
    {
     "data": {
      "text/plain": [
       "year\n",
       "2012    1667\n",
       "2013    1667\n",
       "2014    1666\n",
       "dtype: int64"
      ]
     },
     "metadata": {},
     "output_type": "display_data"
    }
   ],
   "source": [
    "display(siab_train.groupby(\"year\").size())"
   ]
  },
  {
   "cell_type": "code",
   "execution_count": 14,
   "id": "0997782f",
   "metadata": {
    "execution": {
     "iopub.execute_input": "2025-08-19T18:36:17.506741Z",
     "iopub.status.busy": "2025-08-19T18:36:17.506085Z",
     "iopub.status.idle": "2025-08-19T18:36:17.771579Z",
     "shell.execute_reply": "2025-08-19T18:36:17.770147Z"
    },
    "papermill": {
     "duration": 0.28052,
     "end_time": "2025-08-19T18:36:17.775003",
     "exception": false,
     "start_time": "2025-08-19T18:36:17.494483",
     "status": "completed"
    },
    "tags": []
   },
   "outputs": [],
   "source": [
    "#siab_train = siab_s[siab_s.year < 2015]\n",
    "siab_calib = siab[siab.year == 2015]\n",
    "siab_test = siab[siab.year == 2016]"
   ]
  },
  {
   "cell_type": "code",
   "execution_count": 15,
   "id": "2c1e4012",
   "metadata": {
    "execution": {
     "iopub.execute_input": "2025-08-19T18:36:17.811997Z",
     "iopub.status.busy": "2025-08-19T18:36:17.810646Z",
     "iopub.status.idle": "2025-08-19T18:36:17.817942Z",
     "shell.execute_reply": "2025-08-19T18:36:17.816544Z"
    },
    "papermill": {
     "duration": 0.022721,
     "end_time": "2025-08-19T18:36:17.819540",
     "exception": false,
     "start_time": "2025-08-19T18:36:17.796819",
     "status": "completed"
    },
    "tags": []
   },
   "outputs": [],
   "source": [
    "#siab_calib.shape"
   ]
  },
  {
   "cell_type": "code",
   "execution_count": 16,
   "id": "f66b54ca",
   "metadata": {
    "execution": {
     "iopub.execute_input": "2025-08-19T18:36:17.844922Z",
     "iopub.status.busy": "2025-08-19T18:36:17.843984Z",
     "iopub.status.idle": "2025-08-19T18:36:17.850500Z",
     "shell.execute_reply": "2025-08-19T18:36:17.849452Z"
    },
    "papermill": {
     "duration": 0.020351,
     "end_time": "2025-08-19T18:36:17.852310",
     "exception": false,
     "start_time": "2025-08-19T18:36:17.831959",
     "status": "completed"
    },
    "tags": []
   },
   "outputs": [],
   "source": [
    "#siab_test.shape"
   ]
  },
  {
   "cell_type": "code",
   "execution_count": 17,
   "id": "27e4384d",
   "metadata": {
    "execution": {
     "iopub.execute_input": "2025-08-19T18:36:17.876450Z",
     "iopub.status.busy": "2025-08-19T18:36:17.875379Z",
     "iopub.status.idle": "2025-08-19T18:36:17.884696Z",
     "shell.execute_reply": "2025-08-19T18:36:17.883111Z"
    },
    "papermill": {
     "duration": 0.022592,
     "end_time": "2025-08-19T18:36:17.886253",
     "exception": false,
     "start_time": "2025-08-19T18:36:17.863661",
     "status": "completed"
    },
    "tags": []
   },
   "outputs": [],
   "source": [
    "X_train = siab_train.iloc[:,4:164]\n",
    "y_train = siab_train.iloc[:, [3]]"
   ]
  },
  {
   "cell_type": "code",
   "execution_count": 18,
   "id": "08ee8389",
   "metadata": {
    "execution": {
     "iopub.execute_input": "2025-08-19T18:36:17.908997Z",
     "iopub.status.busy": "2025-08-19T18:36:17.908314Z",
     "iopub.status.idle": "2025-08-19T18:36:17.965077Z",
     "shell.execute_reply": "2025-08-19T18:36:17.963500Z"
    },
    "papermill": {
     "duration": 0.072651,
     "end_time": "2025-08-19T18:36:17.969289",
     "exception": false,
     "start_time": "2025-08-19T18:36:17.896638",
     "status": "completed"
    },
    "tags": []
   },
   "outputs": [],
   "source": [
    "X_calib = siab_calib.iloc[:,4:164]\n",
    "y_calib = siab_calib.iloc[:, [3]]"
   ]
  },
  {
   "cell_type": "code",
   "execution_count": 19,
   "id": "b7ff42e0",
   "metadata": {
    "execution": {
     "iopub.execute_input": "2025-08-19T18:36:18.004128Z",
     "iopub.status.busy": "2025-08-19T18:36:18.002676Z",
     "iopub.status.idle": "2025-08-19T18:36:18.059160Z",
     "shell.execute_reply": "2025-08-19T18:36:18.058209Z"
    },
    "papermill": {
     "duration": 0.071884,
     "end_time": "2025-08-19T18:36:18.060744",
     "exception": false,
     "start_time": "2025-08-19T18:36:17.988860",
     "status": "completed"
    },
    "tags": []
   },
   "outputs": [],
   "source": [
    "X_test = siab_test.iloc[:,4:164]\n",
    "y_true = siab_test.iloc[:, [3]]"
   ]
  },
  {
   "cell_type": "code",
   "execution_count": 20,
   "id": "0275101e",
   "metadata": {
    "execution": {
     "iopub.execute_input": "2025-08-19T18:36:18.086197Z",
     "iopub.status.busy": "2025-08-19T18:36:18.085415Z",
     "iopub.status.idle": "2025-08-19T18:36:18.280393Z",
     "shell.execute_reply": "2025-08-19T18:36:18.279226Z"
    },
    "papermill": {
     "duration": 0.210756,
     "end_time": "2025-08-19T18:36:18.283979",
     "exception": false,
     "start_time": "2025-08-19T18:36:18.073223",
     "status": "completed"
    },
    "tags": []
   },
   "outputs": [],
   "source": [
    "# Auxiliary data needed downstream in the pipeline\n",
    "\n",
    "org_train = X_train.copy()\n",
    "org_test = X_test.copy()\n",
    "org_calib = X_calib.copy()"
   ]
  },
  {
   "cell_type": "markdown",
   "id": "b461e618",
   "metadata": {
    "papermill": {
     "duration": 0.013428,
     "end_time": "2025-08-19T18:36:18.330989",
     "exception": false,
     "start_time": "2025-08-19T18:36:18.317561",
     "status": "completed"
    },
    "tags": []
   },
   "source": [
    "# Preprocessing Data"
   ]
  },
  {
   "cell_type": "code",
   "execution_count": 21,
   "id": "78e74c4b",
   "metadata": {
    "execution": {
     "iopub.execute_input": "2025-08-19T18:36:18.454476Z",
     "iopub.status.busy": "2025-08-19T18:36:18.453200Z",
     "iopub.status.idle": "2025-08-19T18:36:18.463316Z",
     "shell.execute_reply": "2025-08-19T18:36:18.460656Z"
    },
    "papermill": {
     "duration": 0.123979,
     "end_time": "2025-08-19T18:36:18.464949",
     "exception": false,
     "start_time": "2025-08-19T18:36:18.340970",
     "status": "completed"
    },
    "tags": []
   },
   "outputs": [],
   "source": [
    "# EXCLUDE PROTECTED FEATURES\n",
    "# --------------------------\n",
    "\n",
    "excluded_features = universe[\"exclude_features\"].split(\"-\")\n",
    "excluded_features_dictionary = {\n",
    "    \"nationality\": [\"maxdeutsch1\", \"maxdeutsch.Missing.\"],\n",
    "    \"sex\": [\"frau1\"],\n",
    "    \"age\": [\"age\"],\n",
    "}"
   ]
  },
  {
   "cell_type": "code",
   "execution_count": 22,
   "id": "f8e63555",
   "metadata": {
    "execution": {
     "iopub.execute_input": "2025-08-19T18:36:18.494024Z",
     "iopub.status.busy": "2025-08-19T18:36:18.492948Z",
     "iopub.status.idle": "2025-08-19T18:36:18.499031Z",
     "shell.execute_reply": "2025-08-19T18:36:18.498120Z"
    },
    "papermill": {
     "duration": 0.019854,
     "end_time": "2025-08-19T18:36:18.500556",
     "exception": false,
     "start_time": "2025-08-19T18:36:18.480702",
     "status": "completed"
    },
    "tags": []
   },
   "outputs": [],
   "source": [
    "excluded_features_columns = [\n",
    "    excluded_features_dictionary[f] for f in excluded_features if len(f) > 0 and f != \"none\"\n",
    "]"
   ]
  },
  {
   "cell_type": "code",
   "execution_count": 23,
   "id": "da781f7c",
   "metadata": {
    "execution": {
     "iopub.execute_input": "2025-08-19T18:36:18.541786Z",
     "iopub.status.busy": "2025-08-19T18:36:18.540941Z",
     "iopub.status.idle": "2025-08-19T18:36:18.546947Z",
     "shell.execute_reply": "2025-08-19T18:36:18.546040Z"
    },
    "papermill": {
     "duration": 0.035008,
     "end_time": "2025-08-19T18:36:18.548807",
     "exception": false,
     "start_time": "2025-08-19T18:36:18.513799",
     "status": "completed"
    },
    "tags": []
   },
   "outputs": [],
   "source": [
    "from fairness_multiverse.universe import flatten_once\n",
    "\n",
    "excluded_features_columns = flatten_once(excluded_features_columns)"
   ]
  },
  {
   "cell_type": "code",
   "execution_count": 24,
   "id": "37fef0f0",
   "metadata": {
    "execution": {
     "iopub.execute_input": "2025-08-19T18:36:18.583871Z",
     "iopub.status.busy": "2025-08-19T18:36:18.582484Z",
     "iopub.status.idle": "2025-08-19T18:36:19.094824Z",
     "shell.execute_reply": "2025-08-19T18:36:19.093725Z"
    },
    "papermill": {
     "duration": 0.528041,
     "end_time": "2025-08-19T18:36:19.096266",
     "exception": false,
     "start_time": "2025-08-19T18:36:18.568225",
     "status": "completed"
    },
    "tags": []
   },
   "outputs": [
    {
     "name": "stdout",
     "output_type": "stream",
     "text": [
      "Dropping features: ['frau1']\n"
     ]
    }
   ],
   "source": [
    "if len(excluded_features_columns) > 0:\n",
    "    print(f\"Dropping features: {excluded_features_columns}\")\n",
    "    X_train.drop(excluded_features_columns, axis=1, inplace=True)"
   ]
  },
  {
   "cell_type": "code",
   "execution_count": 25,
   "id": "d029e3e9",
   "metadata": {
    "execution": {
     "iopub.execute_input": "2025-08-19T18:36:19.125457Z",
     "iopub.status.busy": "2025-08-19T18:36:19.123922Z",
     "iopub.status.idle": "2025-08-19T18:36:19.352308Z",
     "shell.execute_reply": "2025-08-19T18:36:19.351006Z"
    },
    "papermill": {
     "duration": 0.244054,
     "end_time": "2025-08-19T18:36:19.354039",
     "exception": false,
     "start_time": "2025-08-19T18:36:19.109985",
     "status": "completed"
    },
    "tags": []
   },
   "outputs": [
    {
     "name": "stdout",
     "output_type": "stream",
     "text": [
      "Dropping features: ['frau1']\n"
     ]
    }
   ],
   "source": [
    "if len(excluded_features_columns) > 0:\n",
    "    print(f\"Dropping features: {excluded_features_columns}\")\n",
    "    X_test.drop(excluded_features_columns, axis=1, inplace=True)"
   ]
  },
  {
   "cell_type": "code",
   "execution_count": 26,
   "id": "01d571f0",
   "metadata": {
    "execution": {
     "iopub.execute_input": "2025-08-19T18:36:19.388800Z",
     "iopub.status.busy": "2025-08-19T18:36:19.387346Z",
     "iopub.status.idle": "2025-08-19T18:36:19.465829Z",
     "shell.execute_reply": "2025-08-19T18:36:19.465204Z"
    },
    "papermill": {
     "duration": 0.100666,
     "end_time": "2025-08-19T18:36:19.467519",
     "exception": false,
     "start_time": "2025-08-19T18:36:19.366853",
     "status": "completed"
    },
    "tags": []
   },
   "outputs": [
    {
     "name": "stdout",
     "output_type": "stream",
     "text": [
      "Dropping features: ['frau1']\n"
     ]
    }
   ],
   "source": [
    "if len(excluded_features_columns) > 0:\n",
    "    print(f\"Dropping features: {excluded_features_columns}\")\n",
    "    X_calib.drop(excluded_features_columns, axis=1, inplace=True)"
   ]
  },
  {
   "cell_type": "code",
   "execution_count": 27,
   "id": "3037356e",
   "metadata": {
    "execution": {
     "iopub.execute_input": "2025-08-19T18:36:19.505733Z",
     "iopub.status.busy": "2025-08-19T18:36:19.504717Z",
     "iopub.status.idle": "2025-08-19T18:36:19.701458Z",
     "shell.execute_reply": "2025-08-19T18:36:19.699775Z"
    },
    "papermill": {
     "duration": 0.214358,
     "end_time": "2025-08-19T18:36:19.704927",
     "exception": false,
     "start_time": "2025-08-19T18:36:19.490569",
     "status": "completed"
    },
    "tags": []
   },
   "outputs": [],
   "source": [
    "# EXCLUDE CERTAIN SUBGROUPS\n",
    "# -------------------------\n",
    "\n",
    "mode = universe.get(\"exclude_subgroups\", \"keep-all\") # Defaults to \"keep-all\" if the key is missing."
   ]
  },
  {
   "cell_type": "code",
   "execution_count": 28,
   "id": "9d1e63fd",
   "metadata": {
    "execution": {
     "iopub.execute_input": "2025-08-19T18:36:19.748509Z",
     "iopub.status.busy": "2025-08-19T18:36:19.747172Z",
     "iopub.status.idle": "2025-08-19T18:36:19.770240Z",
     "shell.execute_reply": "2025-08-19T18:36:19.768099Z"
    },
    "papermill": {
     "duration": 0.042616,
     "end_time": "2025-08-19T18:36:19.772887",
     "exception": false,
     "start_time": "2025-08-19T18:36:19.730271",
     "status": "completed"
    },
    "tags": []
   },
   "outputs": [],
   "source": [
    "if mode == \"keep-all\":\n",
    "    keep_mask = pd.Series(True, index=org_train.index)\n",
    "\n",
    "elif mode == \"drop-non-german\":\n",
    "    keep_mask = (org_train[\"maxdeutsch1\"] == 1) & (org_train[\"maxdeutsch.Missing.\"] == 0)\n",
    "\n",
    "else:\n",
    "    raise ValueError(f\"Unsupported mode for exclude_subgroups: {mode}\")"
   ]
  },
  {
   "cell_type": "code",
   "execution_count": 29,
   "id": "d3b65474",
   "metadata": {
    "execution": {
     "iopub.execute_input": "2025-08-19T18:36:19.821161Z",
     "iopub.status.busy": "2025-08-19T18:36:19.820630Z",
     "iopub.status.idle": "2025-08-19T18:36:19.826404Z",
     "shell.execute_reply": "2025-08-19T18:36:19.825677Z"
    },
    "papermill": {
     "duration": 0.030326,
     "end_time": "2025-08-19T18:36:19.827615",
     "exception": false,
     "start_time": "2025-08-19T18:36:19.797289",
     "status": "completed"
    },
    "tags": []
   },
   "outputs": [],
   "source": [
    "n_drop = (~keep_mask).sum() # Calculates how many rows are set to be dropped\n",
    "if n_drop > 0:\n",
    "    pct = n_drop / len(keep_mask) * 100\n",
    "    print(f\"Dropping {n_drop} rows ({pct:.2f}%) where mode='{mode}'\")"
   ]
  },
  {
   "cell_type": "code",
   "execution_count": 30,
   "id": "f44389b3",
   "metadata": {
    "execution": {
     "iopub.execute_input": "2025-08-19T18:36:19.859065Z",
     "iopub.status.busy": "2025-08-19T18:36:19.858734Z",
     "iopub.status.idle": "2025-08-19T18:36:19.865887Z",
     "shell.execute_reply": "2025-08-19T18:36:19.864943Z"
    },
    "papermill": {
     "duration": 0.029056,
     "end_time": "2025-08-19T18:36:19.867418",
     "exception": false,
     "start_time": "2025-08-19T18:36:19.838362",
     "status": "completed"
    },
    "tags": []
   },
   "outputs": [],
   "source": [
    "X_train = X_train[keep_mask]"
   ]
  },
  {
   "cell_type": "code",
   "execution_count": 31,
   "id": "ceca8c2a",
   "metadata": {
    "execution": {
     "iopub.execute_input": "2025-08-19T18:36:19.898061Z",
     "iopub.status.busy": "2025-08-19T18:36:19.897719Z",
     "iopub.status.idle": "2025-08-19T18:36:19.903105Z",
     "shell.execute_reply": "2025-08-19T18:36:19.902332Z"
    },
    "papermill": {
     "duration": 0.019319,
     "end_time": "2025-08-19T18:36:19.904356",
     "exception": false,
     "start_time": "2025-08-19T18:36:19.885037",
     "status": "completed"
    },
    "tags": []
   },
   "outputs": [],
   "source": [
    "y_train = y_train[keep_mask]"
   ]
  },
  {
   "cell_type": "markdown",
   "id": "04d31e2f",
   "metadata": {
    "papermill": {
     "duration": 0.011525,
     "end_time": "2025-08-19T18:36:19.927262",
     "exception": false,
     "start_time": "2025-08-19T18:36:19.915737",
     "status": "completed"
    },
    "tags": []
   },
   "source": [
    "# Model Training"
   ]
  },
  {
   "cell_type": "code",
   "execution_count": 32,
   "id": "db991733",
   "metadata": {
    "execution": {
     "iopub.execute_input": "2025-08-19T18:36:19.956280Z",
     "iopub.status.busy": "2025-08-19T18:36:19.955965Z",
     "iopub.status.idle": "2025-08-19T18:36:20.064007Z",
     "shell.execute_reply": "2025-08-19T18:36:20.063348Z"
    },
    "papermill": {
     "duration": 0.123557,
     "end_time": "2025-08-19T18:36:20.065675",
     "exception": false,
     "start_time": "2025-08-19T18:36:19.942118",
     "status": "completed"
    },
    "tags": []
   },
   "outputs": [],
   "source": [
    "from sklearn.linear_model import LogisticRegression\n",
    "from sklearn.ensemble import GradientBoostingClassifier, RandomForestClassifier\n",
    "\n",
    "if (universe[\"model\"] == \"logreg\"):\n",
    "    model = LogisticRegression() #penalty=\"none\", solver=\"newton-cg\", max_iter=1)\n",
    "elif (universe[\"model\"] == \"penalized_logreg\"):\n",
    "    model = LogisticRegression(penalty=\"l2\", C=0.1) #, solver=\"newton-cg\", max_iter=1)\n",
    "elif (universe[\"model\"] == \"rf\"):\n",
    "    model = RandomForestClassifier() # n_estimators=100, n_jobs=-1\n",
    "elif (universe[\"model\"] == \"gbm\"):\n",
    "    model = GradientBoostingClassifier()\n",
    "elif (universe[\"model\"] == \"elasticnet\"):\n",
    "    model = LogisticRegression(penalty = 'elasticnet', solver = 'saga', l1_ratio = 0.5) # max_iter=5000\n",
    "else:\n",
    "    raise \"Unsupported universe.model\""
   ]
  },
  {
   "cell_type": "code",
   "execution_count": 33,
   "id": "a4b5cd25",
   "metadata": {
    "execution": {
     "iopub.execute_input": "2025-08-19T18:36:20.103425Z",
     "iopub.status.busy": "2025-08-19T18:36:20.102192Z",
     "iopub.status.idle": "2025-08-19T18:36:20.112909Z",
     "shell.execute_reply": "2025-08-19T18:36:20.111075Z"
    },
    "papermill": {
     "duration": 0.057208,
     "end_time": "2025-08-19T18:36:20.135696",
     "exception": false,
     "start_time": "2025-08-19T18:36:20.078488",
     "status": "completed"
    },
    "tags": []
   },
   "outputs": [],
   "source": [
    "from sklearn.pipeline import Pipeline\n",
    "from sklearn.preprocessing import StandardScaler\n",
    "\n",
    "model = Pipeline([\n",
    "    #(\"continuous_processor\", continuous_processor),\n",
    "    #(\"categorical_preprocessor\", categorical_preprocessor),\n",
    "    (\"scale\", StandardScaler() if universe[\"scale\"] == \"scale\" else None), \n",
    "    (\"model\", model),\n",
    "])"
   ]
  },
  {
   "cell_type": "code",
   "execution_count": 34,
   "id": "283a904d",
   "metadata": {
    "execution": {
     "iopub.execute_input": "2025-08-19T18:36:20.173883Z",
     "iopub.status.busy": "2025-08-19T18:36:20.173440Z",
     "iopub.status.idle": "2025-08-19T18:36:20.353641Z",
     "shell.execute_reply": "2025-08-19T18:36:20.352798Z"
    },
    "papermill": {
     "duration": 0.20398,
     "end_time": "2025-08-19T18:36:20.355218",
     "exception": false,
     "start_time": "2025-08-19T18:36:20.151238",
     "status": "completed"
    },
    "tags": []
   },
   "outputs": [
    {
     "name": "stderr",
     "output_type": "stream",
     "text": [
      "/dss/dsshome1/0C/ra93lal2/.local/share/virtualenvs/CMA_Fairness_v2-3j10GkSs/lib/python3.10/site-packages/sklearn/linear_model/_logistic.py:444: ConvergenceWarning: lbfgs failed to converge (status=1):\n",
      "STOP: TOTAL NO. of ITERATIONS REACHED LIMIT.\n",
      "\n",
      "Increase the number of iterations (max_iter) or scale the data as shown in:\n",
      "    https://scikit-learn.org/stable/modules/preprocessing.html\n",
      "Please also refer to the documentation for alternative solver options:\n",
      "    https://scikit-learn.org/stable/modules/linear_model.html#logistic-regression\n",
      "  n_iter_i = _check_optimize_result(\n"
     ]
    },
    {
     "data": {
      "text/html": [
       "<style>#sk-container-id-1 {color: black;background-color: white;}#sk-container-id-1 pre{padding: 0;}#sk-container-id-1 div.sk-toggleable {background-color: white;}#sk-container-id-1 label.sk-toggleable__label {cursor: pointer;display: block;width: 100%;margin-bottom: 0;padding: 0.3em;box-sizing: border-box;text-align: center;}#sk-container-id-1 label.sk-toggleable__label-arrow:before {content: \"▸\";float: left;margin-right: 0.25em;color: #696969;}#sk-container-id-1 label.sk-toggleable__label-arrow:hover:before {color: black;}#sk-container-id-1 div.sk-estimator:hover label.sk-toggleable__label-arrow:before {color: black;}#sk-container-id-1 div.sk-toggleable__content {max-height: 0;max-width: 0;overflow: hidden;text-align: left;background-color: #f0f8ff;}#sk-container-id-1 div.sk-toggleable__content pre {margin: 0.2em;color: black;border-radius: 0.25em;background-color: #f0f8ff;}#sk-container-id-1 input.sk-toggleable__control:checked~div.sk-toggleable__content {max-height: 200px;max-width: 100%;overflow: auto;}#sk-container-id-1 input.sk-toggleable__control:checked~label.sk-toggleable__label-arrow:before {content: \"▾\";}#sk-container-id-1 div.sk-estimator input.sk-toggleable__control:checked~label.sk-toggleable__label {background-color: #d4ebff;}#sk-container-id-1 div.sk-label input.sk-toggleable__control:checked~label.sk-toggleable__label {background-color: #d4ebff;}#sk-container-id-1 input.sk-hidden--visually {border: 0;clip: rect(1px 1px 1px 1px);clip: rect(1px, 1px, 1px, 1px);height: 1px;margin: -1px;overflow: hidden;padding: 0;position: absolute;width: 1px;}#sk-container-id-1 div.sk-estimator {font-family: monospace;background-color: #f0f8ff;border: 1px dotted black;border-radius: 0.25em;box-sizing: border-box;margin-bottom: 0.5em;}#sk-container-id-1 div.sk-estimator:hover {background-color: #d4ebff;}#sk-container-id-1 div.sk-parallel-item::after {content: \"\";width: 100%;border-bottom: 1px solid gray;flex-grow: 1;}#sk-container-id-1 div.sk-label:hover label.sk-toggleable__label {background-color: #d4ebff;}#sk-container-id-1 div.sk-serial::before {content: \"\";position: absolute;border-left: 1px solid gray;box-sizing: border-box;top: 0;bottom: 0;left: 50%;z-index: 0;}#sk-container-id-1 div.sk-serial {display: flex;flex-direction: column;align-items: center;background-color: white;padding-right: 0.2em;padding-left: 0.2em;position: relative;}#sk-container-id-1 div.sk-item {position: relative;z-index: 1;}#sk-container-id-1 div.sk-parallel {display: flex;align-items: stretch;justify-content: center;background-color: white;position: relative;}#sk-container-id-1 div.sk-item::before, #sk-container-id-1 div.sk-parallel-item::before {content: \"\";position: absolute;border-left: 1px solid gray;box-sizing: border-box;top: 0;bottom: 0;left: 50%;z-index: -1;}#sk-container-id-1 div.sk-parallel-item {display: flex;flex-direction: column;z-index: 1;position: relative;background-color: white;}#sk-container-id-1 div.sk-parallel-item:first-child::after {align-self: flex-end;width: 50%;}#sk-container-id-1 div.sk-parallel-item:last-child::after {align-self: flex-start;width: 50%;}#sk-container-id-1 div.sk-parallel-item:only-child::after {width: 0;}#sk-container-id-1 div.sk-dashed-wrapped {border: 1px dashed gray;margin: 0 0.4em 0.5em 0.4em;box-sizing: border-box;padding-bottom: 0.4em;background-color: white;}#sk-container-id-1 div.sk-label label {font-family: monospace;font-weight: bold;display: inline-block;line-height: 1.2em;}#sk-container-id-1 div.sk-label-container {text-align: center;}#sk-container-id-1 div.sk-container {/* jupyter's `normalize.less` sets `[hidden] { display: none; }` but bootstrap.min.css set `[hidden] { display: none !important; }` so we also need the `!important` here to be able to override the default hidden behavior on the sphinx rendered scikit-learn.org. See: https://github.com/scikit-learn/scikit-learn/issues/21755 */display: inline-block !important;position: relative;}#sk-container-id-1 div.sk-text-repr-fallback {display: none;}</style><div id=\"sk-container-id-1\" class=\"sk-top-container\"><div class=\"sk-text-repr-fallback\"><pre>Pipeline(steps=[(&#x27;scale&#x27;, None), (&#x27;model&#x27;, LogisticRegression(C=0.1))])</pre><b>In a Jupyter environment, please rerun this cell to show the HTML representation or trust the notebook. <br />On GitHub, the HTML representation is unable to render, please try loading this page with nbviewer.org.</b></div><div class=\"sk-container\" hidden><div class=\"sk-item sk-dashed-wrapped\"><div class=\"sk-label-container\"><div class=\"sk-label sk-toggleable\"><input class=\"sk-toggleable__control sk-hidden--visually\" id=\"sk-estimator-id-1\" type=\"checkbox\" ><label for=\"sk-estimator-id-1\" class=\"sk-toggleable__label sk-toggleable__label-arrow\">Pipeline</label><div class=\"sk-toggleable__content\"><pre>Pipeline(steps=[(&#x27;scale&#x27;, None), (&#x27;model&#x27;, LogisticRegression(C=0.1))])</pre></div></div></div><div class=\"sk-serial\"><div class=\"sk-item\"><div class=\"sk-estimator sk-toggleable\"><input class=\"sk-toggleable__control sk-hidden--visually\" id=\"sk-estimator-id-2\" type=\"checkbox\" ><label for=\"sk-estimator-id-2\" class=\"sk-toggleable__label sk-toggleable__label-arrow\">None</label><div class=\"sk-toggleable__content\"><pre>None</pre></div></div></div><div class=\"sk-item\"><div class=\"sk-estimator sk-toggleable\"><input class=\"sk-toggleable__control sk-hidden--visually\" id=\"sk-estimator-id-3\" type=\"checkbox\" ><label for=\"sk-estimator-id-3\" class=\"sk-toggleable__label sk-toggleable__label-arrow\">LogisticRegression</label><div class=\"sk-toggleable__content\"><pre>LogisticRegression(C=0.1)</pre></div></div></div></div></div></div></div>"
      ],
      "text/plain": [
       "Pipeline(steps=[('scale', None), ('model', LogisticRegression(C=0.1))])"
      ]
     },
     "execution_count": 34,
     "metadata": {},
     "output_type": "execute_result"
    }
   ],
   "source": [
    "model.fit(X_train, y_train.values.ravel())"
   ]
  },
  {
   "cell_type": "code",
   "execution_count": 35,
   "id": "6e15e313",
   "metadata": {
    "execution": {
     "iopub.execute_input": "2025-08-19T18:36:20.388085Z",
     "iopub.status.busy": "2025-08-19T18:36:20.387618Z",
     "iopub.status.idle": "2025-08-19T18:36:20.511293Z",
     "shell.execute_reply": "2025-08-19T18:36:20.510353Z"
    },
    "papermill": {
     "duration": 0.144095,
     "end_time": "2025-08-19T18:36:20.512918",
     "exception": false,
     "start_time": "2025-08-19T18:36:20.368823",
     "status": "completed"
    },
    "tags": []
   },
   "outputs": [
    {
     "data": {
      "text/plain": [
       "0.860706721658678"
      ]
     },
     "execution_count": 35,
     "metadata": {},
     "output_type": "execute_result"
    }
   ],
   "source": [
    "from fairness_multiverse.universe import predict_w_threshold\n",
    "\n",
    "probs_test = model.predict_proba(X_test)\n",
    "\n",
    "'''\n",
    "Below code returns a boolean array (or binary 0/1 array depending on how it’s used) where each element \n",
    "is True if the probability of class 1 is greater than or equal to the threshold, and False otherwise.\n",
    "'''\n",
    "y_pred_default = predict_w_threshold(probs_test, 0.5)\n",
    "\n",
    "from sklearn.metrics import accuracy_score\n",
    "\n",
    "# Naive prediction\n",
    "accuracy_score(y_true = y_true, y_pred = y_pred_default)"
   ]
  },
  {
   "cell_type": "code",
   "execution_count": 36,
   "id": "6f14067c",
   "metadata": {
    "execution": {
     "iopub.execute_input": "2025-08-19T18:36:20.542755Z",
     "iopub.status.busy": "2025-08-19T18:36:20.542155Z",
     "iopub.status.idle": "2025-08-19T18:36:20.646396Z",
     "shell.execute_reply": "2025-08-19T18:36:20.645499Z"
    },
    "papermill": {
     "duration": 0.119692,
     "end_time": "2025-08-19T18:36:20.647963",
     "exception": false,
     "start_time": "2025-08-19T18:36:20.528271",
     "status": "completed"
    },
    "tags": []
   },
   "outputs": [
    {
     "data": {
      "text/plain": [
       "array([0, 0, 0, ..., 0, 0, 0])"
      ]
     },
     "execution_count": 36,
     "metadata": {},
     "output_type": "execute_result"
    }
   ],
   "source": [
    "model.predict(X_test)"
   ]
  },
  {
   "cell_type": "markdown",
   "id": "3759920c",
   "metadata": {
    "papermill": {
     "duration": 0.014592,
     "end_time": "2025-08-19T18:36:20.675635",
     "exception": false,
     "start_time": "2025-08-19T18:36:20.661043",
     "status": "completed"
    },
    "tags": []
   },
   "source": [
    "# Conformal Prediction"
   ]
  },
  {
   "cell_type": "code",
   "execution_count": 37,
   "id": "14b27f59",
   "metadata": {
    "execution": {
     "iopub.execute_input": "2025-08-19T18:36:20.700882Z",
     "iopub.status.busy": "2025-08-19T18:36:20.700336Z",
     "iopub.status.idle": "2025-08-19T18:36:20.796668Z",
     "shell.execute_reply": "2025-08-19T18:36:20.795417Z"
    },
    "papermill": {
     "duration": 0.111893,
     "end_time": "2025-08-19T18:36:20.799317",
     "exception": false,
     "start_time": "2025-08-19T18:36:20.687424",
     "status": "completed"
    },
    "tags": []
   },
   "outputs": [],
   "source": [
    "# Miscoverage level for conformal prediction (10% allowed error rate => 90% target coverage)\n",
    "alpha = 0.1"
   ]
  },
  {
   "cell_type": "code",
   "execution_count": 38,
   "id": "59102472",
   "metadata": {
    "execution": {
     "iopub.execute_input": "2025-08-19T18:36:20.839030Z",
     "iopub.status.busy": "2025-08-19T18:36:20.838572Z",
     "iopub.status.idle": "2025-08-19T18:36:20.925642Z",
     "shell.execute_reply": "2025-08-19T18:36:20.924435Z"
    },
    "papermill": {
     "duration": 0.114391,
     "end_time": "2025-08-19T18:36:20.928203",
     "exception": false,
     "start_time": "2025-08-19T18:36:20.813812",
     "status": "completed"
    },
    "tags": []
   },
   "outputs": [],
   "source": [
    "probs_calib = model.predict_proba(X_calib)"
   ]
  },
  {
   "cell_type": "code",
   "execution_count": 39,
   "id": "a792d4dd",
   "metadata": {
    "execution": {
     "iopub.execute_input": "2025-08-19T18:36:20.967784Z",
     "iopub.status.busy": "2025-08-19T18:36:20.967312Z",
     "iopub.status.idle": "2025-08-19T18:36:20.985099Z",
     "shell.execute_reply": "2025-08-19T18:36:20.972969Z"
    },
    "papermill": {
     "duration": 0.034592,
     "end_time": "2025-08-19T18:36:20.987014",
     "exception": false,
     "start_time": "2025-08-19T18:36:20.952422",
     "status": "completed"
    },
    "tags": []
   },
   "outputs": [],
   "source": [
    "y_calib = y_calib.values.ravel().astype(int)"
   ]
  },
  {
   "cell_type": "code",
   "execution_count": 40,
   "id": "650fd033",
   "metadata": {
    "execution": {
     "iopub.execute_input": "2025-08-19T18:36:21.048666Z",
     "iopub.status.busy": "2025-08-19T18:36:21.048109Z",
     "iopub.status.idle": "2025-08-19T18:36:21.056058Z",
     "shell.execute_reply": "2025-08-19T18:36:21.055087Z"
    },
    "papermill": {
     "duration": 0.041223,
     "end_time": "2025-08-19T18:36:21.058537",
     "exception": false,
     "start_time": "2025-08-19T18:36:21.017314",
     "status": "completed"
    },
    "tags": []
   },
   "outputs": [],
   "source": [
    "from fairness_multiverse.conformal import compute_nc_scores\n",
    "\n",
    "# Compute nonconformity scores on calibration set (1 - probability of true class)\n",
    "nc_scores = compute_nc_scores(probs_calib, y_calib)"
   ]
  },
  {
   "cell_type": "code",
   "execution_count": 41,
   "id": "28ada44c",
   "metadata": {
    "execution": {
     "iopub.execute_input": "2025-08-19T18:36:21.096865Z",
     "iopub.status.busy": "2025-08-19T18:36:21.095748Z",
     "iopub.status.idle": "2025-08-19T18:36:21.103986Z",
     "shell.execute_reply": "2025-08-19T18:36:21.102817Z"
    },
    "papermill": {
     "duration": 0.0261,
     "end_time": "2025-08-19T18:36:21.109062",
     "exception": false,
     "start_time": "2025-08-19T18:36:21.082962",
     "status": "completed"
    },
    "tags": []
   },
   "outputs": [],
   "source": [
    "from fairness_multiverse.conformal import find_threshold\n",
    "\n",
    "# Find conformal threshold q_hat for the given alpha (split conformal method)\n",
    "q_hat = find_threshold(nc_scores, alpha)"
   ]
  },
  {
   "cell_type": "code",
   "execution_count": 42,
   "id": "df56469e",
   "metadata": {
    "execution": {
     "iopub.execute_input": "2025-08-19T18:36:21.158550Z",
     "iopub.status.busy": "2025-08-19T18:36:21.157314Z",
     "iopub.status.idle": "2025-08-19T18:36:21.225494Z",
     "shell.execute_reply": "2025-08-19T18:36:21.224092Z"
    },
    "papermill": {
     "duration": 0.085911,
     "end_time": "2025-08-19T18:36:21.228393",
     "exception": false,
     "start_time": "2025-08-19T18:36:21.142482",
     "status": "completed"
    },
    "tags": []
   },
   "outputs": [
    {
     "data": {
      "text/plain": [
       "0.6852334952934886"
      ]
     },
     "execution_count": 42,
     "metadata": {},
     "output_type": "execute_result"
    }
   ],
   "source": [
    "q_hat"
   ]
  },
  {
   "cell_type": "code",
   "execution_count": 43,
   "id": "aa1f5faa",
   "metadata": {
    "execution": {
     "iopub.execute_input": "2025-08-19T18:36:21.274452Z",
     "iopub.status.busy": "2025-08-19T18:36:21.273145Z",
     "iopub.status.idle": "2025-08-19T18:36:21.907424Z",
     "shell.execute_reply": "2025-08-19T18:36:21.899398Z"
    },
    "papermill": {
     "duration": 0.6568,
     "end_time": "2025-08-19T18:36:21.910778",
     "exception": false,
     "start_time": "2025-08-19T18:36:21.253978",
     "status": "completed"
    },
    "tags": []
   },
   "outputs": [],
   "source": [
    "from fairness_multiverse.conformal import predict_conformal_sets\n",
    "\n",
    "# Generate prediction sets for each test example\n",
    "pred_sets = predict_conformal_sets(model, X_test, q_hat)"
   ]
  },
  {
   "cell_type": "code",
   "execution_count": 44,
   "id": "97f67a6b",
   "metadata": {
    "execution": {
     "iopub.execute_input": "2025-08-19T18:36:21.947955Z",
     "iopub.status.busy": "2025-08-19T18:36:21.946623Z",
     "iopub.status.idle": "2025-08-19T18:36:21.958332Z",
     "shell.execute_reply": "2025-08-19T18:36:21.957458Z"
    },
    "papermill": {
     "duration": 0.027255,
     "end_time": "2025-08-19T18:36:21.959930",
     "exception": false,
     "start_time": "2025-08-19T18:36:21.932675",
     "status": "completed"
    },
    "tags": []
   },
   "outputs": [],
   "source": [
    "y_true = y_true.squeeze()"
   ]
  },
  {
   "cell_type": "code",
   "execution_count": 45,
   "id": "e700e9a7",
   "metadata": {
    "execution": {
     "iopub.execute_input": "2025-08-19T18:36:22.015662Z",
     "iopub.status.busy": "2025-08-19T18:36:22.014350Z",
     "iopub.status.idle": "2025-08-19T18:36:22.529304Z",
     "shell.execute_reply": "2025-08-19T18:36:22.528003Z"
    },
    "papermill": {
     "duration": 0.55102,
     "end_time": "2025-08-19T18:36:22.531151",
     "exception": false,
     "start_time": "2025-08-19T18:36:21.980131",
     "status": "completed"
    },
    "tags": []
   },
   "outputs": [],
   "source": [
    "from fairness_multiverse.conformal import evaluate_sets\n",
    "\n",
    "# Evaluate coverage and average set size on test data\n",
    "metrics = evaluate_sets(pred_sets, y_true)"
   ]
  },
  {
   "cell_type": "markdown",
   "id": "efbacec0",
   "metadata": {
    "papermill": {
     "duration": 0.01235,
     "end_time": "2025-08-19T18:36:22.555836",
     "exception": false,
     "start_time": "2025-08-19T18:36:22.543486",
     "status": "completed"
    },
    "tags": []
   },
   "source": [
    "# CP Metrics"
   ]
  },
  {
   "cell_type": "code",
   "execution_count": 46,
   "id": "9de55fb1",
   "metadata": {
    "execution": {
     "iopub.execute_input": "2025-08-19T18:36:22.580688Z",
     "iopub.status.busy": "2025-08-19T18:36:22.580123Z",
     "iopub.status.idle": "2025-08-19T18:36:22.587957Z",
     "shell.execute_reply": "2025-08-19T18:36:22.587185Z"
    },
    "papermill": {
     "duration": 0.021897,
     "end_time": "2025-08-19T18:36:22.589215",
     "exception": false,
     "start_time": "2025-08-19T18:36:22.567318",
     "status": "completed"
    },
    "tags": []
   },
   "outputs": [
    {
     "data": {
      "text/plain": [
       "{'coverage': 0.9115037342548211, 'avg_size': 1.2156281351019953}"
      ]
     },
     "execution_count": 46,
     "metadata": {},
     "output_type": "execute_result"
    }
   ],
   "source": [
    "metrics"
   ]
  },
  {
   "cell_type": "code",
   "execution_count": 47,
   "id": "64c340a1",
   "metadata": {
    "execution": {
     "iopub.execute_input": "2025-08-19T18:36:22.616751Z",
     "iopub.status.busy": "2025-08-19T18:36:22.616326Z",
     "iopub.status.idle": "2025-08-19T18:36:22.621614Z",
     "shell.execute_reply": "2025-08-19T18:36:22.620824Z"
    },
    "papermill": {
     "duration": 0.019091,
     "end_time": "2025-08-19T18:36:22.622793",
     "exception": false,
     "start_time": "2025-08-19T18:36:22.603702",
     "status": "completed"
    },
    "tags": []
   },
   "outputs": [],
   "source": [
    "example_universe = universe.copy()\n",
    "universe_training_year = example_universe.get(\"training_year\")\n",
    "universe_training_size = example_universe.get(\"training_size\")\n",
    "universe_scale = example_universe.get(\"scale\")\n",
    "universe_model = example_universe.get(\"model\")\n",
    "universe_exclude_features = example_universe.get(\"exclude_features\")\n",
    "universe_exclude_subgroups = example_universe.get(\"exclude_subgroups\")"
   ]
  },
  {
   "cell_type": "code",
   "execution_count": 48,
   "id": "dbb53cb4",
   "metadata": {
    "execution": {
     "iopub.execute_input": "2025-08-19T18:36:22.647430Z",
     "iopub.status.busy": "2025-08-19T18:36:22.647020Z",
     "iopub.status.idle": "2025-08-19T18:36:22.652314Z",
     "shell.execute_reply": "2025-08-19T18:36:22.651564Z"
    },
    "papermill": {
     "duration": 0.018986,
     "end_time": "2025-08-19T18:36:22.653517",
     "exception": false,
     "start_time": "2025-08-19T18:36:22.634531",
     "status": "completed"
    },
    "tags": []
   },
   "outputs": [],
   "source": [
    "cp_metrics_dict = {\n",
    "    \"universe_id\": [universe_id],\n",
    "    \"universe_training_year\": [universe_training_year],\n",
    "    \"universe_training_size\": [universe_training_size],\n",
    "    \"universe_scale\": [universe_scale],\n",
    "    \"universe_model\": [universe_model],\n",
    "    \"universe_exclude_features\": [universe_exclude_features],\n",
    "    \"universe_exclude_subgroups\": [universe_exclude_subgroups],\n",
    "    \"q_hat\": [q_hat],\n",
    "    \"coverage\": [metrics[\"coverage\"]],\n",
    "    \"avg_size\": [metrics[\"avg_size\"]],\n",
    "}"
   ]
  },
  {
   "cell_type": "code",
   "execution_count": 49,
   "id": "0d70d4b2",
   "metadata": {
    "execution": {
     "iopub.execute_input": "2025-08-19T18:36:22.691186Z",
     "iopub.status.busy": "2025-08-19T18:36:22.690137Z",
     "iopub.status.idle": "2025-08-19T18:36:22.700259Z",
     "shell.execute_reply": "2025-08-19T18:36:22.699263Z"
    },
    "papermill": {
     "duration": 0.035678,
     "end_time": "2025-08-19T18:36:22.701682",
     "exception": false,
     "start_time": "2025-08-19T18:36:22.666004",
     "status": "completed"
    },
    "tags": []
   },
   "outputs": [],
   "source": [
    "cp_metrics_df = pd.DataFrame(cp_metrics_dict)"
   ]
  },
  {
   "cell_type": "code",
   "execution_count": 50,
   "id": "b494403c",
   "metadata": {
    "execution": {
     "iopub.execute_input": "2025-08-19T18:36:22.734165Z",
     "iopub.status.busy": "2025-08-19T18:36:22.733236Z",
     "iopub.status.idle": "2025-08-19T18:36:22.749733Z",
     "shell.execute_reply": "2025-08-19T18:36:22.748825Z"
    },
    "papermill": {
     "duration": 0.037139,
     "end_time": "2025-08-19T18:36:22.751126",
     "exception": false,
     "start_time": "2025-08-19T18:36:22.713987",
     "status": "completed"
    },
    "tags": []
   },
   "outputs": [
    {
     "data": {
      "text/html": [
       "<div>\n",
       "<style scoped>\n",
       "    .dataframe tbody tr th:only-of-type {\n",
       "        vertical-align: middle;\n",
       "    }\n",
       "\n",
       "    .dataframe tbody tr th {\n",
       "        vertical-align: top;\n",
       "    }\n",
       "\n",
       "    .dataframe thead th {\n",
       "        text-align: right;\n",
       "    }\n",
       "</style>\n",
       "<table border=\"1\" class=\"dataframe\">\n",
       "  <thead>\n",
       "    <tr style=\"text-align: right;\">\n",
       "      <th></th>\n",
       "      <th>universe_id</th>\n",
       "      <th>universe_training_year</th>\n",
       "      <th>universe_training_size</th>\n",
       "      <th>universe_scale</th>\n",
       "      <th>universe_model</th>\n",
       "      <th>universe_exclude_features</th>\n",
       "      <th>universe_exclude_subgroups</th>\n",
       "      <th>q_hat</th>\n",
       "      <th>coverage</th>\n",
       "      <th>avg_size</th>\n",
       "    </tr>\n",
       "  </thead>\n",
       "  <tbody>\n",
       "    <tr>\n",
       "      <th>0</th>\n",
       "      <td>2a423d7fe6a32a1c81639f298417b282</td>\n",
       "      <td>2012_14</td>\n",
       "      <td>5k</td>\n",
       "      <td>do-not-scale</td>\n",
       "      <td>penalized_logreg</td>\n",
       "      <td>sex</td>\n",
       "      <td>keep-all</td>\n",
       "      <td>0.685233</td>\n",
       "      <td>0.911504</td>\n",
       "      <td>1.215628</td>\n",
       "    </tr>\n",
       "  </tbody>\n",
       "</table>\n",
       "</div>"
      ],
      "text/plain": [
       "                        universe_id universe_training_year  \\\n",
       "0  2a423d7fe6a32a1c81639f298417b282                2012_14   \n",
       "\n",
       "  universe_training_size universe_scale    universe_model  \\\n",
       "0                     5k   do-not-scale  penalized_logreg   \n",
       "\n",
       "  universe_exclude_features universe_exclude_subgroups     q_hat  coverage  \\\n",
       "0                       sex                   keep-all  0.685233  0.911504   \n",
       "\n",
       "   avg_size  \n",
       "0  1.215628  "
      ]
     },
     "execution_count": 50,
     "metadata": {},
     "output_type": "execute_result"
    }
   ],
   "source": [
    "cp_metrics_df"
   ]
  },
  {
   "cell_type": "markdown",
   "id": "ed608b0b",
   "metadata": {
    "papermill": {
     "duration": 0.012145,
     "end_time": "2025-08-19T18:36:22.782644",
     "exception": false,
     "start_time": "2025-08-19T18:36:22.770499",
     "status": "completed"
    },
    "tags": []
   },
   "source": [
    "Conditional coverage & looking at subgroups"
   ]
  },
  {
   "cell_type": "code",
   "execution_count": 51,
   "id": "8968c366",
   "metadata": {
    "execution": {
     "iopub.execute_input": "2025-08-19T18:36:22.808676Z",
     "iopub.status.busy": "2025-08-19T18:36:22.808187Z",
     "iopub.status.idle": "2025-08-19T18:36:23.217170Z",
     "shell.execute_reply": "2025-08-19T18:36:23.216182Z"
    },
    "papermill": {
     "duration": 0.424335,
     "end_time": "2025-08-19T18:36:23.218847",
     "exception": false,
     "start_time": "2025-08-19T18:36:22.794512",
     "status": "completed"
    },
    "tags": []
   },
   "outputs": [],
   "source": [
    "from fairness_multiverse.conformal import build_cp_groups\n",
    "\n",
    "cp_groups_df = build_cp_groups(pred_sets, y_true, X_test.index, org_test)"
   ]
  },
  {
   "cell_type": "code",
   "execution_count": 52,
   "id": "292ddabf",
   "metadata": {
    "execution": {
     "iopub.execute_input": "2025-08-19T18:36:23.245934Z",
     "iopub.status.busy": "2025-08-19T18:36:23.244841Z",
     "iopub.status.idle": "2025-08-19T18:36:24.200244Z",
     "shell.execute_reply": "2025-08-19T18:36:24.198457Z"
    },
    "papermill": {
     "duration": 0.970415,
     "end_time": "2025-08-19T18:36:24.202119",
     "exception": false,
     "start_time": "2025-08-19T18:36:23.231704",
     "status": "completed"
    },
    "tags": []
   },
   "outputs": [],
   "source": [
    "# Define covered = 1 if true_label is in the predicted set\n",
    "cp_groups_df['covered'] = cp_groups_df.apply(\n",
    "    lambda r: int(r['true_label'] in r['pred_set']),\n",
    "    axis=1\n",
    ")"
   ]
  },
  {
   "cell_type": "code",
   "execution_count": 53,
   "id": "3a261692",
   "metadata": {
    "execution": {
     "iopub.execute_input": "2025-08-19T18:36:24.256430Z",
     "iopub.status.busy": "2025-08-19T18:36:24.255133Z",
     "iopub.status.idle": "2025-08-19T18:36:24.283627Z",
     "shell.execute_reply": "2025-08-19T18:36:24.282476Z"
    },
    "papermill": {
     "duration": 0.061055,
     "end_time": "2025-08-19T18:36:24.286040",
     "exception": false,
     "start_time": "2025-08-19T18:36:24.224985",
     "status": "completed"
    },
    "tags": []
   },
   "outputs": [],
   "source": [
    "subgroups = ['frau1','nongerman','nongerman_male','nongerman_female']\n",
    "\n",
    "# Conditional coverage for subgroup==1\n",
    "cond_coverage = {\n",
    "    g: cp_groups_df.loc[cp_groups_df[g]==1, 'covered'].mean()\n",
    "    for g in subgroups\n",
    "}"
   ]
  },
  {
   "cell_type": "code",
   "execution_count": 54,
   "id": "894fd600",
   "metadata": {
    "execution": {
     "iopub.execute_input": "2025-08-19T18:36:24.329759Z",
     "iopub.status.busy": "2025-08-19T18:36:24.326607Z",
     "iopub.status.idle": "2025-08-19T18:36:24.340270Z",
     "shell.execute_reply": "2025-08-19T18:36:24.339591Z"
    },
    "papermill": {
     "duration": 0.030559,
     "end_time": "2025-08-19T18:36:24.341649",
     "exception": false,
     "start_time": "2025-08-19T18:36:24.311090",
     "status": "completed"
    },
    "tags": []
   },
   "outputs": [
    {
     "data": {
      "text/plain": [
       "{'frau1': 0.9074268769375927,\n",
       " 'nongerman': 0.9340930780890361,\n",
       " 'nongerman_male': 0.9480320634062865,\n",
       " 'nongerman_female': 0.9110283159463487}"
      ]
     },
     "execution_count": 54,
     "metadata": {},
     "output_type": "execute_result"
    }
   ],
   "source": [
    "cond_coverage"
   ]
  },
  {
   "cell_type": "code",
   "execution_count": 55,
   "id": "942895c7",
   "metadata": {
    "execution": {
     "iopub.execute_input": "2025-08-19T18:36:24.368386Z",
     "iopub.status.busy": "2025-08-19T18:36:24.368016Z",
     "iopub.status.idle": "2025-08-19T18:36:24.373780Z",
     "shell.execute_reply": "2025-08-19T18:36:24.372998Z"
    },
    "papermill": {
     "duration": 0.019937,
     "end_time": "2025-08-19T18:36:24.375259",
     "exception": false,
     "start_time": "2025-08-19T18:36:24.355322",
     "status": "completed"
    },
    "tags": []
   },
   "outputs": [],
   "source": [
    "for subgroup, cov in cond_coverage.items():\n",
    "    cp_metrics_df[f\"cov_{subgroup}\"] = cov"
   ]
  },
  {
   "cell_type": "code",
   "execution_count": 56,
   "id": "3970120f",
   "metadata": {
    "execution": {
     "iopub.execute_input": "2025-08-19T18:36:24.400304Z",
     "iopub.status.busy": "2025-08-19T18:36:24.400051Z",
     "iopub.status.idle": "2025-08-19T18:36:24.422551Z",
     "shell.execute_reply": "2025-08-19T18:36:24.421639Z"
    },
    "papermill": {
     "duration": 0.036454,
     "end_time": "2025-08-19T18:36:24.423991",
     "exception": false,
     "start_time": "2025-08-19T18:36:24.387537",
     "status": "completed"
    },
    "tags": []
   },
   "outputs": [
    {
     "data": {
      "text/html": [
       "<div>\n",
       "<style scoped>\n",
       "    .dataframe tbody tr th:only-of-type {\n",
       "        vertical-align: middle;\n",
       "    }\n",
       "\n",
       "    .dataframe tbody tr th {\n",
       "        vertical-align: top;\n",
       "    }\n",
       "\n",
       "    .dataframe thead th {\n",
       "        text-align: right;\n",
       "    }\n",
       "</style>\n",
       "<table border=\"1\" class=\"dataframe\">\n",
       "  <thead>\n",
       "    <tr style=\"text-align: right;\">\n",
       "      <th></th>\n",
       "      <th>universe_id</th>\n",
       "      <th>universe_training_year</th>\n",
       "      <th>universe_training_size</th>\n",
       "      <th>universe_scale</th>\n",
       "      <th>universe_model</th>\n",
       "      <th>universe_exclude_features</th>\n",
       "      <th>universe_exclude_subgroups</th>\n",
       "      <th>q_hat</th>\n",
       "      <th>coverage</th>\n",
       "      <th>avg_size</th>\n",
       "      <th>cov_frau1</th>\n",
       "      <th>cov_nongerman</th>\n",
       "      <th>cov_nongerman_male</th>\n",
       "      <th>cov_nongerman_female</th>\n",
       "    </tr>\n",
       "  </thead>\n",
       "  <tbody>\n",
       "    <tr>\n",
       "      <th>0</th>\n",
       "      <td>2a423d7fe6a32a1c81639f298417b282</td>\n",
       "      <td>2012_14</td>\n",
       "      <td>5k</td>\n",
       "      <td>do-not-scale</td>\n",
       "      <td>penalized_logreg</td>\n",
       "      <td>sex</td>\n",
       "      <td>keep-all</td>\n",
       "      <td>0.685233</td>\n",
       "      <td>0.911504</td>\n",
       "      <td>1.215628</td>\n",
       "      <td>0.907427</td>\n",
       "      <td>0.934093</td>\n",
       "      <td>0.948032</td>\n",
       "      <td>0.911028</td>\n",
       "    </tr>\n",
       "  </tbody>\n",
       "</table>\n",
       "</div>"
      ],
      "text/plain": [
       "                        universe_id universe_training_year  \\\n",
       "0  2a423d7fe6a32a1c81639f298417b282                2012_14   \n",
       "\n",
       "  universe_training_size universe_scale    universe_model  \\\n",
       "0                     5k   do-not-scale  penalized_logreg   \n",
       "\n",
       "  universe_exclude_features universe_exclude_subgroups     q_hat  coverage  \\\n",
       "0                       sex                   keep-all  0.685233  0.911504   \n",
       "\n",
       "   avg_size  cov_frau1  cov_nongerman  cov_nongerman_male  \\\n",
       "0  1.215628   0.907427       0.934093            0.948032   \n",
       "\n",
       "   cov_nongerman_female  \n",
       "0              0.911028  "
      ]
     },
     "execution_count": 56,
     "metadata": {},
     "output_type": "execute_result"
    }
   ],
   "source": [
    "cp_metrics_df"
   ]
  },
  {
   "cell_type": "markdown",
   "id": "3fc519cc",
   "metadata": {
    "papermill": {
     "duration": 0.012577,
     "end_time": "2025-08-19T18:36:24.451530",
     "exception": false,
     "start_time": "2025-08-19T18:36:24.438953",
     "status": "completed"
    },
    "tags": []
   },
   "source": [
    "# (Fairness) Metrics"
   ]
  },
  {
   "cell_type": "code",
   "execution_count": 57,
   "id": "a2e5e155",
   "metadata": {
    "execution": {
     "iopub.execute_input": "2025-08-19T18:36:24.477589Z",
     "iopub.status.busy": "2025-08-19T18:36:24.477174Z",
     "iopub.status.idle": "2025-08-19T18:36:24.496867Z",
     "shell.execute_reply": "2025-08-19T18:36:24.496204Z"
    },
    "papermill": {
     "duration": 0.034408,
     "end_time": "2025-08-19T18:36:24.498132",
     "exception": false,
     "start_time": "2025-08-19T18:36:24.463724",
     "status": "completed"
    },
    "tags": []
   },
   "outputs": [],
   "source": [
    "colname_to_bin = \"maxdeutsch1\"\n",
    "majority_value = org_train[colname_to_bin].mode()[0]\n",
    "\n",
    "org_test[\"majmin\"] = np.where(org_test[colname_to_bin] == majority_value, \"majority\", \"minority\")"
   ]
  },
  {
   "cell_type": "code",
   "execution_count": 58,
   "id": "17e3e4d5",
   "metadata": {
    "execution": {
     "iopub.execute_input": "2025-08-19T18:36:24.526345Z",
     "iopub.status.busy": "2025-08-19T18:36:24.525518Z",
     "iopub.status.idle": "2025-08-19T18:36:26.283433Z",
     "shell.execute_reply": "2025-08-19T18:36:26.281367Z"
    },
    "papermill": {
     "duration": 1.775115,
     "end_time": "2025-08-19T18:36:26.287165",
     "exception": false,
     "start_time": "2025-08-19T18:36:24.512050",
     "status": "completed"
    },
    "tags": []
   },
   "outputs": [],
   "source": [
    "example_universe = universe.copy()\n",
    "example_universe[\"cutoff\"] = example_universe[\"cutoff\"][0]\n",
    "example_universe[\"eval_fairness_grouping\"] = example_universe[\"eval_fairness_grouping\"][0]\n",
    "fairness_dict, metric_frame = universe_analysis.compute_metrics(\n",
    "    example_universe,\n",
    "    y_pred_prob=probs_test,\n",
    "    y_test=y_true,\n",
    "    org_test=org_test,\n",
    ")"
   ]
  },
  {
   "cell_type": "markdown",
   "id": "1fb7a0e9",
   "metadata": {
    "papermill": {
     "duration": 0.013338,
     "end_time": "2025-08-19T18:36:26.326591",
     "exception": false,
     "start_time": "2025-08-19T18:36:26.313253",
     "status": "completed"
    },
    "tags": []
   },
   "source": [
    "# Overall"
   ]
  },
  {
   "cell_type": "markdown",
   "id": "be1784b1",
   "metadata": {
    "papermill": {
     "duration": 0.012056,
     "end_time": "2025-08-19T18:36:26.350687",
     "exception": false,
     "start_time": "2025-08-19T18:36:26.338631",
     "status": "completed"
    },
    "tags": []
   },
   "source": [
    "Main fairness target: Equalized Odds. Seems to be a better fit than equal opportunity, since we're not only interested in Y = 1. Seems to be a better fit than demographic parity, since we also care about accuracy, not just equal distribution of preds.\n",
    "\n",
    "Pick column for computation of fairness metrics\n",
    "\n",
    "Performance\n",
    "Overall performance measures, most interesting in relation to the measures split by group below"
   ]
  },
  {
   "cell_type": "code",
   "execution_count": 59,
   "id": "b7672bee",
   "metadata": {
    "execution": {
     "iopub.execute_input": "2025-08-19T18:36:26.394813Z",
     "iopub.status.busy": "2025-08-19T18:36:26.394418Z",
     "iopub.status.idle": "2025-08-19T18:36:26.405030Z",
     "shell.execute_reply": "2025-08-19T18:36:26.404087Z"
    },
    "papermill": {
     "duration": 0.0347,
     "end_time": "2025-08-19T18:36:26.406574",
     "exception": false,
     "start_time": "2025-08-19T18:36:26.371874",
     "status": "completed"
    },
    "tags": []
   },
   "outputs": [
    {
     "data": {
      "text/plain": [
       "accuracy                   0.218002\n",
       "balanced accuracy          0.534381\n",
       "f1                         0.239509\n",
       "precision                  0.136824\n",
       "false positive rate        0.891179\n",
       "false negative rate        0.040059\n",
       "selection rate             0.900000\n",
       "count                  89710.000000\n",
       "dtype: float64"
      ]
     },
     "execution_count": 59,
     "metadata": {},
     "output_type": "execute_result"
    }
   ],
   "source": [
    "metric_frame.overall"
   ]
  },
  {
   "cell_type": "markdown",
   "id": "d93333c9",
   "metadata": {
    "papermill": {
     "duration": 0.012234,
     "end_time": "2025-08-19T18:36:26.433138",
     "exception": false,
     "start_time": "2025-08-19T18:36:26.420904",
     "status": "completed"
    },
    "tags": []
   },
   "source": [
    "By Group"
   ]
  },
  {
   "cell_type": "code",
   "execution_count": 60,
   "id": "52256966",
   "metadata": {
    "execution": {
     "iopub.execute_input": "2025-08-19T18:36:26.458740Z",
     "iopub.status.busy": "2025-08-19T18:36:26.458465Z",
     "iopub.status.idle": "2025-08-19T18:36:26.472785Z",
     "shell.execute_reply": "2025-08-19T18:36:26.472002Z"
    },
    "papermill": {
     "duration": 0.028874,
     "end_time": "2025-08-19T18:36:26.474150",
     "exception": false,
     "start_time": "2025-08-19T18:36:26.445276",
     "status": "completed"
    },
    "tags": []
   },
   "outputs": [
    {
     "data": {
      "text/html": [
       "<div>\n",
       "<style scoped>\n",
       "    .dataframe tbody tr th:only-of-type {\n",
       "        vertical-align: middle;\n",
       "    }\n",
       "\n",
       "    .dataframe tbody tr th {\n",
       "        vertical-align: top;\n",
       "    }\n",
       "\n",
       "    .dataframe thead th {\n",
       "        text-align: right;\n",
       "    }\n",
       "</style>\n",
       "<table border=\"1\" class=\"dataframe\">\n",
       "  <thead>\n",
       "    <tr style=\"text-align: right;\">\n",
       "      <th></th>\n",
       "      <th>accuracy</th>\n",
       "      <th>balanced accuracy</th>\n",
       "      <th>f1</th>\n",
       "      <th>precision</th>\n",
       "      <th>false positive rate</th>\n",
       "      <th>false negative rate</th>\n",
       "      <th>selection rate</th>\n",
       "      <th>count</th>\n",
       "    </tr>\n",
       "    <tr>\n",
       "      <th>majmin</th>\n",
       "      <th></th>\n",
       "      <th></th>\n",
       "      <th></th>\n",
       "      <th></th>\n",
       "      <th></th>\n",
       "      <th></th>\n",
       "      <th></th>\n",
       "      <th></th>\n",
       "    </tr>\n",
       "  </thead>\n",
       "  <tbody>\n",
       "    <tr>\n",
       "      <th>majority</th>\n",
       "      <td>0.240480</td>\n",
       "      <td>0.542756</td>\n",
       "      <td>0.249142</td>\n",
       "      <td>0.143289</td>\n",
       "      <td>0.868099</td>\n",
       "      <td>0.046389</td>\n",
       "      <td>0.879399</td>\n",
       "      <td>69170.0</td>\n",
       "    </tr>\n",
       "    <tr>\n",
       "      <th>minority</th>\n",
       "      <td>0.142308</td>\n",
       "      <td>0.508476</td>\n",
       "      <td>0.209255</td>\n",
       "      <td>0.117071</td>\n",
       "      <td>0.967422</td>\n",
       "      <td>0.015625</td>\n",
       "      <td>0.969377</td>\n",
       "      <td>20540.0</td>\n",
       "    </tr>\n",
       "  </tbody>\n",
       "</table>\n",
       "</div>"
      ],
      "text/plain": [
       "          accuracy  balanced accuracy        f1  precision  \\\n",
       "majmin                                                       \n",
       "majority  0.240480           0.542756  0.249142   0.143289   \n",
       "minority  0.142308           0.508476  0.209255   0.117071   \n",
       "\n",
       "          false positive rate  false negative rate  selection rate    count  \n",
       "majmin                                                                       \n",
       "majority             0.868099             0.046389        0.879399  69170.0  \n",
       "minority             0.967422             0.015625        0.969377  20540.0  "
      ]
     },
     "execution_count": 60,
     "metadata": {},
     "output_type": "execute_result"
    }
   ],
   "source": [
    "metric_frame.by_group"
   ]
  },
  {
   "cell_type": "code",
   "execution_count": 61,
   "id": "6e6c20ae",
   "metadata": {
    "execution": {
     "iopub.execute_input": "2025-08-19T18:36:26.510060Z",
     "iopub.status.busy": "2025-08-19T18:36:26.509392Z",
     "iopub.status.idle": "2025-08-19T18:36:28.459640Z",
     "shell.execute_reply": "2025-08-19T18:36:28.458687Z"
    },
    "papermill": {
     "duration": 1.970366,
     "end_time": "2025-08-19T18:36:28.461095",
     "exception": false,
     "start_time": "2025-08-19T18:36:26.490729",
     "status": "completed"
    },
    "tags": []
   },
   "outputs": [
    {
     "data": {
      "text/plain": [
       "array([[<Axes: title={'center': 'accuracy'}, xlabel='majmin'>,\n",
       "        <Axes: title={'center': 'balanced accuracy'}, xlabel='majmin'>,\n",
       "        <Axes: title={'center': 'f1'}, xlabel='majmin'>],\n",
       "       [<Axes: title={'center': 'precision'}, xlabel='majmin'>,\n",
       "        <Axes: title={'center': 'false positive rate'}, xlabel='majmin'>,\n",
       "        <Axes: title={'center': 'false negative rate'}, xlabel='majmin'>],\n",
       "       [<Axes: title={'center': 'selection rate'}, xlabel='majmin'>,\n",
       "        <Axes: title={'center': 'count'}, xlabel='majmin'>,\n",
       "        <Axes: xlabel='majmin'>]], dtype=object)"
      ]
     },
     "execution_count": 61,
     "metadata": {},
     "output_type": "execute_result"
    },
    {
     "data": {
      "image/png": "[encoded data removed]",
      "text/plain": [
       "<Figure size 1200x800 with 9 Axes>"
      ]
     },
     "metadata": {},
     "output_type": "display_data"
    }
   ],
   "source": [
    "# In a graphic\n",
    "metric_frame.by_group.plot.bar(\n",
    "    subplots=True,\n",
    "    layout=[3, 3],\n",
    "    legend=False,\n",
    "    figsize=[12, 8],\n",
    "    title=\"Show all metrics\",\n",
    ")"
   ]
  },
  {
   "cell_type": "markdown",
   "id": "b2e433ae",
   "metadata": {
    "papermill": {
     "duration": 0.014671,
     "end_time": "2025-08-19T18:36:28.491267",
     "exception": false,
     "start_time": "2025-08-19T18:36:28.476596",
     "status": "completed"
    },
    "tags": []
   },
   "source": [
    "# Final Output"
   ]
  },
  {
   "cell_type": "code",
   "execution_count": 62,
   "id": "3871301e",
   "metadata": {
    "execution": {
     "iopub.execute_input": "2025-08-19T18:36:28.523026Z",
     "iopub.status.busy": "2025-08-19T18:36:28.522335Z",
     "iopub.status.idle": "2025-08-19T18:36:28.531535Z",
     "shell.execute_reply": "2025-08-19T18:36:28.530836Z"
    },
    "papermill": {
     "duration": 0.026682,
     "end_time": "2025-08-19T18:36:28.532925",
     "exception": false,
     "start_time": "2025-08-19T18:36:28.506243",
     "status": "completed"
    },
    "tags": []
   },
   "outputs": [
    {
     "data": {
      "text/plain": [
       "4"
      ]
     },
     "execution_count": 62,
     "metadata": {},
     "output_type": "execute_result"
    }
   ],
   "source": [
    "sub_universes = universe_analysis.generate_sub_universes()\n",
    "len(sub_universes)"
   ]
  },
  {
   "cell_type": "code",
   "execution_count": 63,
   "id": "d9cfdaca",
   "metadata": {
    "execution": {
     "iopub.execute_input": "2025-08-19T18:36:28.564616Z",
     "iopub.status.busy": "2025-08-19T18:36:28.564300Z",
     "iopub.status.idle": "2025-08-19T18:36:28.570011Z",
     "shell.execute_reply": "2025-08-19T18:36:28.569221Z"
    },
    "papermill": {
     "duration": 0.021862,
     "end_time": "2025-08-19T18:36:28.571187",
     "exception": false,
     "start_time": "2025-08-19T18:36:28.549325",
     "status": "completed"
    },
    "tags": []
   },
   "outputs": [],
   "source": [
    "def filter_sub_universe_data(sub_universe, org_test):\n",
    "    # Keep all rows — no filtering\n",
    "    keep_rows_mask = np.ones(org_test.shape[0], dtype=bool)\n",
    "\n",
    "    print(f\"[INFO] Keeping all rows: {keep_rows_mask.sum()} rows retained.\")\n",
    "    return keep_rows_mask"
   ]
  },
  {
   "cell_type": "code",
   "execution_count": 64,
   "id": "2bc31ac1",
   "metadata": {
    "execution": {
     "iopub.execute_input": "2025-08-19T18:36:28.602980Z",
     "iopub.status.busy": "2025-08-19T18:36:28.602715Z",
     "iopub.status.idle": "2025-08-19T18:36:35.295710Z",
     "shell.execute_reply": "2025-08-19T18:36:35.294613Z"
    },
    "papermill": {
     "duration": 6.709283,
     "end_time": "2025-08-19T18:36:35.297119",
     "exception": false,
     "start_time": "2025-08-19T18:36:28.587836",
     "status": "completed"
    },
    "tags": []
   },
   "outputs": [
    {
     "name": "stdout",
     "output_type": "stream",
     "text": [
      "Stopping execution_time clock.\n",
      "[INFO] Keeping all rows: 89710 rows retained.\n"
     ]
    },
    {
     "name": "stdout",
     "output_type": "stream",
     "text": [
      "[INFO] Keeping all rows: 89710 rows retained.\n"
     ]
    },
    {
     "name": "stdout",
     "output_type": "stream",
     "text": [
      "[INFO] Keeping all rows: 89710 rows retained.\n"
     ]
    },
    {
     "name": "stdout",
     "output_type": "stream",
     "text": [
      "[INFO] Keeping all rows: 89710 rows retained.\n"
     ]
    },
    {
     "data": {
      "text/html": [
       "<div>\n",
       "<style scoped>\n",
       "    .dataframe tbody tr th:only-of-type {\n",
       "        vertical-align: middle;\n",
       "    }\n",
       "\n",
       "    .dataframe tbody tr th {\n",
       "        vertical-align: top;\n",
       "    }\n",
       "\n",
       "    .dataframe thead th {\n",
       "        text-align: right;\n",
       "    }\n",
       "</style>\n",
       "<table border=\"1\" class=\"dataframe\">\n",
       "  <thead>\n",
       "    <tr style=\"text-align: right;\">\n",
       "      <th></th>\n",
       "      <th>run_no</th>\n",
       "      <th>universe_id</th>\n",
       "      <th>universe_settings</th>\n",
       "      <th>execution_time</th>\n",
       "      <th>test_size_n</th>\n",
       "      <th>test_size_frac</th>\n",
       "      <th>fair_main_equalized_odds_difference</th>\n",
       "      <th>fair_main_equalized_odds_ratio</th>\n",
       "      <th>fair_main_demographic_parity_difference</th>\n",
       "      <th>fair_main_demographic_parity_ratio</th>\n",
       "      <th>...</th>\n",
       "      <th>perf_grp_precision_0</th>\n",
       "      <th>perf_grp_precision_1</th>\n",
       "      <th>perf_grp_false positive rate_0</th>\n",
       "      <th>perf_grp_false positive rate_1</th>\n",
       "      <th>perf_grp_false negative rate_0</th>\n",
       "      <th>perf_grp_false negative rate_1</th>\n",
       "      <th>perf_grp_selection rate_0</th>\n",
       "      <th>perf_grp_selection rate_1</th>\n",
       "      <th>perf_grp_count_0</th>\n",
       "      <th>perf_grp_count_1</th>\n",
       "    </tr>\n",
       "  </thead>\n",
       "  <tbody>\n",
       "    <tr>\n",
       "      <th>0</th>\n",
       "      <td>3</td>\n",
       "      <td>2a423d7fe6a32a1c81639f298417b282</td>\n",
       "      <td>{\"cutoff\": \"quantile_0.1\", \"eval_fairness_grou...</td>\n",
       "      <td>22.687294</td>\n",
       "      <td>89710</td>\n",
       "      <td>1.0</td>\n",
       "      <td>0.099323</td>\n",
       "      <td>0.897332</td>\n",
       "      <td>0.089978</td>\n",
       "      <td>0.907179</td>\n",
       "      <td>...</td>\n",
       "      <td>NaN</td>\n",
       "      <td>NaN</td>\n",
       "      <td>NaN</td>\n",
       "      <td>NaN</td>\n",
       "      <td>NaN</td>\n",
       "      <td>NaN</td>\n",
       "      <td>NaN</td>\n",
       "      <td>NaN</td>\n",
       "      <td>NaN</td>\n",
       "      <td>NaN</td>\n",
       "    </tr>\n",
       "    <tr>\n",
       "      <th>0</th>\n",
       "      <td>3</td>\n",
       "      <td>2a423d7fe6a32a1c81639f298417b282</td>\n",
       "      <td>{\"cutoff\": \"quantile_0.1\", \"eval_fairness_grou...</td>\n",
       "      <td>22.687294</td>\n",
       "      <td>89710</td>\n",
       "      <td>1.0</td>\n",
       "      <td>0.099323</td>\n",
       "      <td>0.897332</td>\n",
       "      <td>0.089978</td>\n",
       "      <td>0.907179</td>\n",
       "      <td>...</td>\n",
       "      <td>0.117071</td>\n",
       "      <td>0.143289</td>\n",
       "      <td>0.967422</td>\n",
       "      <td>0.868099</td>\n",
       "      <td>0.015625</td>\n",
       "      <td>0.046389</td>\n",
       "      <td>0.969377</td>\n",
       "      <td>0.879399</td>\n",
       "      <td>20540.0</td>\n",
       "      <td>69170.0</td>\n",
       "    </tr>\n",
       "    <tr>\n",
       "      <th>0</th>\n",
       "      <td>3</td>\n",
       "      <td>2a423d7fe6a32a1c81639f298417b282</td>\n",
       "      <td>{\"cutoff\": \"quantile_0.25\", \"eval_fairness_gro...</td>\n",
       "      <td>22.687294</td>\n",
       "      <td>89710</td>\n",
       "      <td>1.0</td>\n",
       "      <td>0.223386</td>\n",
       "      <td>0.752553</td>\n",
       "      <td>0.205094</td>\n",
       "      <td>0.774157</td>\n",
       "      <td>...</td>\n",
       "      <td>NaN</td>\n",
       "      <td>NaN</td>\n",
       "      <td>NaN</td>\n",
       "      <td>NaN</td>\n",
       "      <td>NaN</td>\n",
       "      <td>NaN</td>\n",
       "      <td>NaN</td>\n",
       "      <td>NaN</td>\n",
       "      <td>NaN</td>\n",
       "      <td>NaN</td>\n",
       "    </tr>\n",
       "    <tr>\n",
       "      <th>0</th>\n",
       "      <td>3</td>\n",
       "      <td>2a423d7fe6a32a1c81639f298417b282</td>\n",
       "      <td>{\"cutoff\": \"quantile_0.25\", \"eval_fairness_gro...</td>\n",
       "      <td>22.687294</td>\n",
       "      <td>89710</td>\n",
       "      <td>1.0</td>\n",
       "      <td>0.223386</td>\n",
       "      <td>0.752553</td>\n",
       "      <td>0.205094</td>\n",
       "      <td>0.774157</td>\n",
       "      <td>...</td>\n",
       "      <td>0.120517</td>\n",
       "      <td>0.161344</td>\n",
       "      <td>0.902762</td>\n",
       "      <td>0.679377</td>\n",
       "      <td>0.050676</td>\n",
       "      <td>0.141575</td>\n",
       "      <td>0.908130</td>\n",
       "      <td>0.703036</td>\n",
       "      <td>20540.0</td>\n",
       "      <td>69170.0</td>\n",
       "    </tr>\n",
       "  </tbody>\n",
       "</table>\n",
       "<p>4 rows × 50 columns</p>\n",
       "</div>"
      ],
      "text/plain": [
       "  run_no                       universe_id  \\\n",
       "0      3  2a423d7fe6a32a1c81639f298417b282   \n",
       "0      3  2a423d7fe6a32a1c81639f298417b282   \n",
       "0      3  2a423d7fe6a32a1c81639f298417b282   \n",
       "0      3  2a423d7fe6a32a1c81639f298417b282   \n",
       "\n",
       "                                   universe_settings  execution_time  \\\n",
       "0  {\"cutoff\": \"quantile_0.1\", \"eval_fairness_grou...       22.687294   \n",
       "0  {\"cutoff\": \"quantile_0.1\", \"eval_fairness_grou...       22.687294   \n",
       "0  {\"cutoff\": \"quantile_0.25\", \"eval_fairness_gro...       22.687294   \n",
       "0  {\"cutoff\": \"quantile_0.25\", \"eval_fairness_gro...       22.687294   \n",
       "\n",
       "   test_size_n  test_size_frac  fair_main_equalized_odds_difference  \\\n",
       "0        89710             1.0                             0.099323   \n",
       "0        89710             1.0                             0.099323   \n",
       "0        89710             1.0                             0.223386   \n",
       "0        89710             1.0                             0.223386   \n",
       "\n",
       "   fair_main_equalized_odds_ratio  fair_main_demographic_parity_difference  \\\n",
       "0                        0.897332                                 0.089978   \n",
       "0                        0.897332                                 0.089978   \n",
       "0                        0.752553                                 0.205094   \n",
       "0                        0.752553                                 0.205094   \n",
       "\n",
       "   fair_main_demographic_parity_ratio  ...  perf_grp_precision_0  \\\n",
       "0                            0.907179  ...                   NaN   \n",
       "0                            0.907179  ...              0.117071   \n",
       "0                            0.774157  ...                   NaN   \n",
       "0                            0.774157  ...              0.120517   \n",
       "\n",
       "   perf_grp_precision_1  perf_grp_false positive rate_0  \\\n",
       "0                   NaN                             NaN   \n",
       "0              0.143289                        0.967422   \n",
       "0                   NaN                             NaN   \n",
       "0              0.161344                        0.902762   \n",
       "\n",
       "   perf_grp_false positive rate_1  perf_grp_false negative rate_0  \\\n",
       "0                             NaN                             NaN   \n",
       "0                        0.868099                        0.015625   \n",
       "0                             NaN                             NaN   \n",
       "0                        0.679377                        0.050676   \n",
       "\n",
       "   perf_grp_false negative rate_1  perf_grp_selection rate_0  \\\n",
       "0                             NaN                        NaN   \n",
       "0                        0.046389                   0.969377   \n",
       "0                             NaN                        NaN   \n",
       "0                        0.141575                   0.908130   \n",
       "\n",
       "   perf_grp_selection rate_1  perf_grp_count_0  perf_grp_count_1  \n",
       "0                        NaN               NaN               NaN  \n",
       "0                   0.879399           20540.0           69170.0  \n",
       "0                        NaN               NaN               NaN  \n",
       "0                   0.703036           20540.0           69170.0  \n",
       "\n",
       "[4 rows x 50 columns]"
      ]
     },
     "execution_count": 64,
     "metadata": {},
     "output_type": "execute_result"
    }
   ],
   "source": [
    "final_output = universe_analysis.generate_final_output(\n",
    "    y_pred_prob=probs_test,\n",
    "    y_test=y_true,\n",
    "    org_test=org_test,\n",
    "    filter_data=filter_sub_universe_data,\n",
    "    cp_metrics_df=cp_metrics_df,\n",
    "    save=True,\n",
    ")\n",
    "final_output"
   ]
  },
  {
   "cell_type": "code",
   "execution_count": null,
   "id": "8b80a1ff",
   "metadata": {
    "papermill": {
     "duration": 0.016567,
     "end_time": "2025-08-19T18:36:35.336194",
     "exception": false,
     "start_time": "2025-08-19T18:36:35.319627",
     "status": "completed"
    },
    "tags": []
   },
   "outputs": [],
   "source": []
  },
  {
   "cell_type": "code",
   "execution_count": null,
   "id": "275c9fad",
   "metadata": {
    "papermill": {
     "duration": 0.01439,
     "end_time": "2025-08-19T18:36:35.364988",
     "exception": false,
     "start_time": "2025-08-19T18:36:35.350598",
     "status": "completed"
    },
    "tags": []
   },
   "outputs": [],
   "source": []
  }
 ],
 "metadata": {
  "celltoolbar": "Tags",
  "kernelspec": {
   "display_name": "Python (CMA Fairness)",
   "language": "python",
   "name": "cma_fair_env"
  },
  "language_info": {
   "codemirror_mode": {
    "name": "ipython",
    "version": 3
   },
   "file_extension": ".py",
   "mimetype": "text/x-python",
   "name": "python",
   "nbconvert_exporter": "python",
   "pygments_lexer": "ipython3",
   "version": "3.10.12"
  },
  "papermill": {
   "default_parameters": {},
   "duration": 33.296431,
   "end_time": "2025-08-19T18:36:36.301974",
   "environment_variables": {},
   "exception": null,
   "input_path": "universe_analysis.ipynb",
   "output_path": "output/runs/3/notebooks/m_3-2a423d7fe6a32a1c81639f298417b282.ipynb",
   "parameters": {
    "output_dir": "output",
    "run_no": "3",
    "seed": "2023",
    "universe": "{\"cutoff\": [\"quantile_0.1\", \"quantile_0.25\"], \"eval_fairness_grouping\": [\"majority-minority\", \"nationality-all\"], \"exclude_features\": \"sex\", \"exclude_subgroups\": \"keep-all\", \"model\": \"penalized_logreg\", \"scale\": \"do-not-scale\", \"training_size\": \"5k\", \"training_year\": \"2012_14\"}",
    "universe_id": "2a423d7fe6a32a1c81639f298417b282"
   },
   "start_time": "2025-08-19T18:36:03.005543",
   "version": "2.6.0"
  }
 },
 "nbformat": 4,
 "nbformat_minor": 5
}