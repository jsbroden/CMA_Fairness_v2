{
 "cells": [
  {
   "cell_type": "markdown",
   "id": "ef23dbb3",
   "metadata": {
    "papermill": {
     "duration": 0.009575,
     "end_time": "2025-08-19T18:53:06.493770",
     "exception": false,
     "start_time": "2025-08-19T18:53:06.484195",
     "status": "completed"
    },
    "tags": []
   },
   "source": [
    "# Setup"
   ]
  },
  {
   "cell_type": "code",
   "execution_count": 1,
   "id": "0bc8e7dc",
   "metadata": {
    "execution": {
     "iopub.execute_input": "2025-08-19T18:53:06.513490Z",
     "iopub.status.busy": "2025-08-19T18:53:06.513060Z",
     "iopub.status.idle": "2025-08-19T18:53:06.522759Z",
     "shell.execute_reply": "2025-08-19T18:53:06.522119Z"
    },
    "papermill": {
     "duration": 0.022542,
     "end_time": "2025-08-19T18:53:06.525363",
     "exception": false,
     "start_time": "2025-08-19T18:53:06.502821",
     "status": "completed"
    },
    "tags": []
   },
   "outputs": [
    {
     "name": "stdout",
     "output_type": "stream",
     "text": [
      "/dss/dsshome1/0C/ra93lal2/cma/CMA_Fairness_v2\n"
     ]
    },
    {
     "name": "stderr",
     "output_type": "stream",
     "text": [
      "/dss/dsshome1/0C/ra93lal2/.local/share/virtualenvs/CMA_Fairness_v2-3j10GkSs/lib/python3.10/site-packages/IPython/core/magics/osm.py:393: UserWarning: This is now an optional IPython functionality, using bookmarks requires you to install the `pickleshare` library.\n",
      "  bkms = self.shell.db.get('bookmarks', {})\n",
      "/dss/dsshome1/0C/ra93lal2/.local/share/virtualenvs/CMA_Fairness_v2-3j10GkSs/lib/python3.10/site-packages/IPython/core/magics/osm.py:417: UserWarning: This is now an optional IPython functionality, setting dhist requires you to install the `pickleshare` library.\n",
      "  self.shell.db['dhist'] = compress_dhist(dhist)[-100:]\n"
     ]
    }
   ],
   "source": [
    "%cd ~/cma/CMA_Fairness_v2"
   ]
  },
  {
   "cell_type": "markdown",
   "id": "9d235661",
   "metadata": {
    "papermill": {
     "duration": 0.009319,
     "end_time": "2025-08-19T18:53:06.543885",
     "exception": false,
     "start_time": "2025-08-19T18:53:06.534566",
     "status": "completed"
    },
    "tags": []
   },
   "source": [
    "The following cell holds the definition of our parameters, these values can be overriden by rendering the with e.g. the following command:\n",
    "\n",
    "papermill -p alpha 0.2 -p ratio 0.3 universe_analysis.ipynb output/test_run.ipynb"
   ]
  },
  {
   "cell_type": "code",
   "execution_count": 2,
   "id": "4a789d8e",
   "metadata": {
    "execution": {
     "iopub.execute_input": "2025-08-19T18:53:06.563001Z",
     "iopub.status.busy": "2025-08-19T18:53:06.562682Z",
     "iopub.status.idle": "2025-08-19T18:53:06.568011Z",
     "shell.execute_reply": "2025-08-19T18:53:06.566900Z"
    },
    "papermill": {
     "duration": 0.02264,
     "end_time": "2025-08-19T18:53:06.575383",
     "exception": false,
     "start_time": "2025-08-19T18:53:06.552743",
     "status": "completed"
    },
    "tags": []
   },
   "outputs": [
    {
     "name": "stdout",
     "output_type": "stream",
     "text": [
      "Current working directory: /dss/dsshome1/0C/ra93lal2/cma/CMA_Fairness_v2\n"
     ]
    }
   ],
   "source": [
    "import os\n",
    "print(\"Current working directory:\", os.getcwd())"
   ]
  },
  {
   "cell_type": "code",
   "execution_count": 3,
   "id": "4132aaed",
   "metadata": {
    "execution": {
     "iopub.execute_input": "2025-08-19T18:53:06.605226Z",
     "iopub.status.busy": "2025-08-19T18:53:06.604049Z",
     "iopub.status.idle": "2025-08-19T18:53:06.615891Z",
     "shell.execute_reply": "2025-08-19T18:53:06.613203Z"
    },
    "papermill": {
     "duration": 0.025032,
     "end_time": "2025-08-19T18:53:06.617682",
     "exception": false,
     "start_time": "2025-08-19T18:53:06.592650",
     "status": "completed"
    },
    "tags": [
     "parameters"
    ]
   },
   "outputs": [],
   "source": [
    "run_no = 0\n",
    "universe_id = \"test\"\n",
    "universe = {\n",
    "    \"training_size\": \"5k\", # \"25k\", \"5k\", \"1k\"\n",
    "    \"training_year\": \"2012_14\", # \"2014\", \"2012_14\", \"2010_14\"\n",
    "    \"scale\": \"scale\", # \"scale\", \"do-not-scale\",\n",
    "    \"model\": \"elasticnet\", # \"logreg\", \"penalized_logreg\", \"rf\", \"gbm\", \"elasticnet\"\n",
    "    \"cutoff\": [\"quantile_0.15\", \"quantile_0.30\"],\n",
    "    \"exclude_features\": \"age\", # \"none\", \"nationality\", \"sex\", \"nationality-sex\", \"age\"\n",
    "    \"exclude_subgroups\": \"drop-non-german\", # \"keep-all\", \"drop-non-german\"\n",
    "    \"eval_fairness_grouping\": [\"majority-minority\", \"nationality-all\"]\n",
    "}\n",
    "\n",
    "output_dir=\"./output\"\n",
    "seed=0"
   ]
  },
  {
   "cell_type": "code",
   "execution_count": 4,
   "id": "f74192d5",
   "metadata": {
    "execution": {
     "iopub.execute_input": "2025-08-19T18:53:06.641037Z",
     "iopub.status.busy": "2025-08-19T18:53:06.640635Z",
     "iopub.status.idle": "2025-08-19T18:53:06.644783Z",
     "shell.execute_reply": "2025-08-19T18:53:06.644032Z"
    },
    "papermill": {
     "duration": 0.016378,
     "end_time": "2025-08-19T18:53:06.646168",
     "exception": false,
     "start_time": "2025-08-19T18:53:06.629790",
     "status": "completed"
    },
    "tags": [
     "injected-parameters"
    ]
   },
   "outputs": [],
   "source": [
    "# Parameters\n",
    "universe_id = \"5977f41926dd718ec10bd837828d3a0a\"\n",
    "run_no = \"3\"\n",
    "universe = \"{\\\"cutoff\\\": [\\\"quantile_0.1\\\", \\\"quantile_0.25\\\"], \\\"eval_fairness_grouping\\\": [\\\"majority-minority\\\", \\\"nationality-all\\\"], \\\"exclude_features\\\": \\\"nationality-sex\\\", \\\"exclude_subgroups\\\": \\\"drop-non-german\\\", \\\"model\\\": \\\"logreg\\\", \\\"scale\\\": \\\"do-not-scale\\\", \\\"training_size\\\": \\\"1k\\\", \\\"training_year\\\": \\\"2014\\\"}\"\n",
    "output_dir = \"output\"\n",
    "seed = \"2023\"\n"
   ]
  },
  {
   "cell_type": "code",
   "execution_count": 5,
   "id": "a5d7941f",
   "metadata": {
    "execution": {
     "iopub.execute_input": "2025-08-19T18:53:06.696270Z",
     "iopub.status.busy": "2025-08-19T18:53:06.695854Z",
     "iopub.status.idle": "2025-08-19T18:53:06.703358Z",
     "shell.execute_reply": "2025-08-19T18:53:06.701092Z"
    },
    "papermill": {
     "duration": 0.038808,
     "end_time": "2025-08-19T18:53:06.705441",
     "exception": false,
     "start_time": "2025-08-19T18:53:06.666633",
     "status": "completed"
    },
    "tags": []
   },
   "outputs": [],
   "source": [
    "import json\n",
    "if isinstance(universe, str):\n",
    "    universe = json.loads(universe)"
   ]
  },
  {
   "cell_type": "code",
   "execution_count": 6,
   "id": "7076ccb1",
   "metadata": {
    "execution": {
     "iopub.execute_input": "2025-08-19T18:53:06.730392Z",
     "iopub.status.busy": "2025-08-19T18:53:06.730081Z",
     "iopub.status.idle": "2025-08-19T18:53:06.764201Z",
     "shell.execute_reply": "2025-08-19T18:53:06.763496Z"
    },
    "papermill": {
     "duration": 0.050785,
     "end_time": "2025-08-19T18:53:06.768799",
     "exception": false,
     "start_time": "2025-08-19T18:53:06.718014",
     "status": "completed"
    },
    "tags": []
   },
   "outputs": [],
   "source": [
    "# Auto-reload the custom package\n",
    "%load_ext autoreload\n",
    "%autoreload 1\n",
    "%aimport fairness_multiverse"
   ]
  },
  {
   "cell_type": "code",
   "execution_count": 7,
   "id": "94c8eb93",
   "metadata": {
    "execution": {
     "iopub.execute_input": "2025-08-19T18:53:06.801057Z",
     "iopub.status.busy": "2025-08-19T18:53:06.799790Z",
     "iopub.status.idle": "2025-08-19T18:53:08.365470Z",
     "shell.execute_reply": "2025-08-19T18:53:08.364441Z"
    },
    "papermill": {
     "duration": 1.580988,
     "end_time": "2025-08-19T18:53:08.367230",
     "exception": false,
     "start_time": "2025-08-19T18:53:06.786242",
     "status": "completed"
    },
    "tags": []
   },
   "outputs": [],
   "source": [
    "from fairness_multiverse.universe import UniverseAnalysis\n",
    "\n",
    "universe_analysis = UniverseAnalysis(\n",
    "    run_no = run_no,\n",
    "    universe_id = universe_id,\n",
    "    universe = universe,\n",
    "    output_dir=output_dir,\n",
    ")"
   ]
  },
  {
   "cell_type": "code",
   "execution_count": 8,
   "id": "2a6381cf",
   "metadata": {
    "execution": {
     "iopub.execute_input": "2025-08-19T18:53:08.397924Z",
     "iopub.status.busy": "2025-08-19T18:53:08.397153Z",
     "iopub.status.idle": "2025-08-19T18:53:08.414862Z",
     "shell.execute_reply": "2025-08-19T18:53:08.414006Z"
    },
    "papermill": {
     "duration": 0.036696,
     "end_time": "2025-08-19T18:53:08.417538",
     "exception": false,
     "start_time": "2025-08-19T18:53:08.380842",
     "status": "completed"
    },
    "tags": []
   },
   "outputs": [
    {
     "name": "stdout",
     "output_type": "stream",
     "text": [
      "Using Seed: 2023\n"
     ]
    }
   ],
   "source": [
    "import numpy as np\n",
    "parsed_seed = int(seed)\n",
    "np.random.seed(parsed_seed)\n",
    "print(f\"Using Seed: {parsed_seed}\")"
   ]
  },
  {
   "cell_type": "markdown",
   "id": "b6e958b4",
   "metadata": {
    "papermill": {
     "duration": 0.009472,
     "end_time": "2025-08-19T18:53:08.438810",
     "exception": false,
     "start_time": "2025-08-19T18:53:08.429338",
     "status": "completed"
    },
    "tags": []
   },
   "source": [
    "# Loading Data"
   ]
  },
  {
   "cell_type": "code",
   "execution_count": 9,
   "id": "98701482",
   "metadata": {
    "execution": {
     "iopub.execute_input": "2025-08-19T18:53:08.459768Z",
     "iopub.status.busy": "2025-08-19T18:53:08.459462Z",
     "iopub.status.idle": "2025-08-19T18:53:18.386397Z",
     "shell.execute_reply": "2025-08-19T18:53:18.385538Z"
    },
    "papermill": {
     "duration": 9.939988,
     "end_time": "2025-08-19T18:53:18.387825",
     "exception": false,
     "start_time": "2025-08-19T18:53:08.447837",
     "status": "completed"
    },
    "tags": []
   },
   "outputs": [
    {
     "name": "stdout",
     "output_type": "stream",
     "text": [
      "Loading SIAB data from cache: data/siab_cached.csv.gz\n"
     ]
    },
    {
     "name": "stdout",
     "output_type": "stream",
     "text": [
      "(643690, 164)\n"
     ]
    }
   ],
   "source": [
    "from pathlib import Path\n",
    "import pandas as pd\n",
    "\n",
    "# File paths\n",
    "raw_file = Path(\"data/raw/siab.csv\")\n",
    "cache_file = Path(\"data/siab_cached.csv.gz\")\n",
    "\n",
    "# Ensure cache directory exists\n",
    "cache_file.parent.mkdir(parents=True, exist_ok=True)\n",
    "\n",
    "# Load with simple caching\n",
    "if cache_file.exists():\n",
    "    print(f\"Loading SIAB data from cache: {cache_file}\")\n",
    "    siab = pd.read_csv(cache_file, compression='gzip')\n",
    "else:\n",
    "    print(f\"Cache not found. Reading raw SIAB data: {raw_file}\")\n",
    "    siab = pd.read_csv(raw_file)\n",
    "    siab.to_csv(cache_file, index=False, compression='gzip')\n",
    "    print(f\"Cached SIAB data to: {cache_file}\")\n",
    "\n",
    "print(siab.shape)"
   ]
  },
  {
   "cell_type": "code",
   "execution_count": 10,
   "id": "058d2abb",
   "metadata": {
    "execution": {
     "iopub.execute_input": "2025-08-19T18:53:18.413131Z",
     "iopub.status.busy": "2025-08-19T18:53:18.411713Z",
     "iopub.status.idle": "2025-08-19T18:53:18.595188Z",
     "shell.execute_reply": "2025-08-19T18:53:18.594182Z"
    },
    "papermill": {
     "duration": 0.195642,
     "end_time": "2025-08-19T18:53:18.596528",
     "exception": false,
     "start_time": "2025-08-19T18:53:18.400886",
     "status": "completed"
    },
    "tags": []
   },
   "outputs": [
    {
     "data": {
      "text/html": [
       "<div>\n",
       "<style scoped>\n",
       "    .dataframe tbody tr th:only-of-type {\n",
       "        vertical-align: middle;\n",
       "    }\n",
       "\n",
       "    .dataframe tbody tr th {\n",
       "        vertical-align: top;\n",
       "    }\n",
       "\n",
       "    .dataframe thead th {\n",
       "        text-align: right;\n",
       "    }\n",
       "</style>\n",
       "<table border=\"1\" class=\"dataframe\">\n",
       "  <thead>\n",
       "    <tr style=\"text-align: right;\">\n",
       "      <th></th>\n",
       "      <th>persnr</th>\n",
       "      <th>year</th>\n",
       "      <th>nrEntry</th>\n",
       "      <th>ltue</th>\n",
       "      <th>employed_before</th>\n",
       "      <th>receipt_leh_before</th>\n",
       "      <th>receipt_lhg_before</th>\n",
       "      <th>se_before</th>\n",
       "      <th>ASU_notue_seeking_before</th>\n",
       "      <th>ASU_other_before</th>\n",
       "      <th>...</th>\n",
       "      <th>minijob_tot_dur_byage</th>\n",
       "      <th>ft_tot_dur_byage</th>\n",
       "      <th>befrist_tot_dur_byage</th>\n",
       "      <th>leih_tot_dur_byage</th>\n",
       "      <th>LHG_tot_dur_byage</th>\n",
       "      <th>LEH_tot_dur_byage</th>\n",
       "      <th>almp_tot_dur_byage</th>\n",
       "      <th>almp_aw_tot_dur_byage</th>\n",
       "      <th>se_tot_dur_byage</th>\n",
       "      <th>seeking1_tot_dur_byage</th>\n",
       "    </tr>\n",
       "  </thead>\n",
       "  <tbody>\n",
       "    <tr>\n",
       "      <th>0</th>\n",
       "      <td>7</td>\n",
       "      <td>2015</td>\n",
       "      <td>1</td>\n",
       "      <td>0</td>\n",
       "      <td>1</td>\n",
       "      <td>0</td>\n",
       "      <td>0</td>\n",
       "      <td>0</td>\n",
       "      <td>1</td>\n",
       "      <td>0</td>\n",
       "      <td>...</td>\n",
       "      <td>0.000000</td>\n",
       "      <td>0.000000</td>\n",
       "      <td>15.043478</td>\n",
       "      <td>0.000000</td>\n",
       "      <td>0.000000</td>\n",
       "      <td>0.000000</td>\n",
       "      <td>0.000000</td>\n",
       "      <td>0.000000</td>\n",
       "      <td>0.000000</td>\n",
       "      <td>0.000000</td>\n",
       "    </tr>\n",
       "    <tr>\n",
       "      <th>1</th>\n",
       "      <td>18</td>\n",
       "      <td>2010</td>\n",
       "      <td>1</td>\n",
       "      <td>1</td>\n",
       "      <td>0</td>\n",
       "      <td>0</td>\n",
       "      <td>0</td>\n",
       "      <td>0</td>\n",
       "      <td>0</td>\n",
       "      <td>0</td>\n",
       "      <td>...</td>\n",
       "      <td>0.000000</td>\n",
       "      <td>0.000000</td>\n",
       "      <td>0.000000</td>\n",
       "      <td>0.000000</td>\n",
       "      <td>0.000000</td>\n",
       "      <td>0.000000</td>\n",
       "      <td>0.000000</td>\n",
       "      <td>0.000000</td>\n",
       "      <td>0.000000</td>\n",
       "      <td>0.000000</td>\n",
       "    </tr>\n",
       "    <tr>\n",
       "      <th>2</th>\n",
       "      <td>18</td>\n",
       "      <td>2011</td>\n",
       "      <td>2</td>\n",
       "      <td>0</td>\n",
       "      <td>1</td>\n",
       "      <td>0</td>\n",
       "      <td>1</td>\n",
       "      <td>0</td>\n",
       "      <td>1</td>\n",
       "      <td>0</td>\n",
       "      <td>...</td>\n",
       "      <td>2.714286</td>\n",
       "      <td>2.714286</td>\n",
       "      <td>0.000000</td>\n",
       "      <td>0.000000</td>\n",
       "      <td>10.775510</td>\n",
       "      <td>0.000000</td>\n",
       "      <td>8.367347</td>\n",
       "      <td>0.000000</td>\n",
       "      <td>0.000000</td>\n",
       "      <td>9.836735</td>\n",
       "    </tr>\n",
       "    <tr>\n",
       "      <th>3</th>\n",
       "      <td>18</td>\n",
       "      <td>2012</td>\n",
       "      <td>3</td>\n",
       "      <td>0</td>\n",
       "      <td>1</td>\n",
       "      <td>0</td>\n",
       "      <td>1</td>\n",
       "      <td>0</td>\n",
       "      <td>1</td>\n",
       "      <td>0</td>\n",
       "      <td>...</td>\n",
       "      <td>4.200000</td>\n",
       "      <td>4.200000</td>\n",
       "      <td>0.000000</td>\n",
       "      <td>0.000000</td>\n",
       "      <td>12.100000</td>\n",
       "      <td>0.000000</td>\n",
       "      <td>9.400000</td>\n",
       "      <td>0.000000</td>\n",
       "      <td>0.000000</td>\n",
       "      <td>9.960000</td>\n",
       "    </tr>\n",
       "    <tr>\n",
       "      <th>4</th>\n",
       "      <td>18</td>\n",
       "      <td>2012</td>\n",
       "      <td>4</td>\n",
       "      <td>0</td>\n",
       "      <td>1</td>\n",
       "      <td>0</td>\n",
       "      <td>1</td>\n",
       "      <td>0</td>\n",
       "      <td>1</td>\n",
       "      <td>0</td>\n",
       "      <td>...</td>\n",
       "      <td>5.460000</td>\n",
       "      <td>5.460000</td>\n",
       "      <td>0.000000</td>\n",
       "      <td>0.000000</td>\n",
       "      <td>13.360000</td>\n",
       "      <td>0.000000</td>\n",
       "      <td>10.320000</td>\n",
       "      <td>0.000000</td>\n",
       "      <td>0.000000</td>\n",
       "      <td>10.280000</td>\n",
       "    </tr>\n",
       "    <tr>\n",
       "      <th>...</th>\n",
       "      <td>...</td>\n",
       "      <td>...</td>\n",
       "      <td>...</td>\n",
       "      <td>...</td>\n",
       "      <td>...</td>\n",
       "      <td>...</td>\n",
       "      <td>...</td>\n",
       "      <td>...</td>\n",
       "      <td>...</td>\n",
       "      <td>...</td>\n",
       "      <td>...</td>\n",
       "      <td>...</td>\n",
       "      <td>...</td>\n",
       "      <td>...</td>\n",
       "      <td>...</td>\n",
       "      <td>...</td>\n",
       "      <td>...</td>\n",
       "      <td>...</td>\n",
       "      <td>...</td>\n",
       "      <td>...</td>\n",
       "      <td>...</td>\n",
       "    </tr>\n",
       "    <tr>\n",
       "      <th>643685</th>\n",
       "      <td>1827860</td>\n",
       "      <td>2013</td>\n",
       "      <td>1</td>\n",
       "      <td>0</td>\n",
       "      <td>0</td>\n",
       "      <td>0</td>\n",
       "      <td>1</td>\n",
       "      <td>0</td>\n",
       "      <td>0</td>\n",
       "      <td>1</td>\n",
       "      <td>...</td>\n",
       "      <td>0.000000</td>\n",
       "      <td>0.000000</td>\n",
       "      <td>0.000000</td>\n",
       "      <td>0.000000</td>\n",
       "      <td>0.612903</td>\n",
       "      <td>0.000000</td>\n",
       "      <td>0.000000</td>\n",
       "      <td>0.000000</td>\n",
       "      <td>0.000000</td>\n",
       "      <td>0.000000</td>\n",
       "    </tr>\n",
       "    <tr>\n",
       "      <th>643686</th>\n",
       "      <td>1827860</td>\n",
       "      <td>2015</td>\n",
       "      <td>2</td>\n",
       "      <td>1</td>\n",
       "      <td>0</td>\n",
       "      <td>0</td>\n",
       "      <td>1</td>\n",
       "      <td>0</td>\n",
       "      <td>1</td>\n",
       "      <td>0</td>\n",
       "      <td>...</td>\n",
       "      <td>0.000000</td>\n",
       "      <td>0.000000</td>\n",
       "      <td>0.212121</td>\n",
       "      <td>0.212121</td>\n",
       "      <td>17.363636</td>\n",
       "      <td>0.000000</td>\n",
       "      <td>8.909091</td>\n",
       "      <td>0.000000</td>\n",
       "      <td>0.000000</td>\n",
       "      <td>7.121212</td>\n",
       "    </tr>\n",
       "    <tr>\n",
       "      <th>643687</th>\n",
       "      <td>1827860</td>\n",
       "      <td>2016</td>\n",
       "      <td>3</td>\n",
       "      <td>1</td>\n",
       "      <td>0</td>\n",
       "      <td>0</td>\n",
       "      <td>1</td>\n",
       "      <td>1</td>\n",
       "      <td>0</td>\n",
       "      <td>1</td>\n",
       "      <td>...</td>\n",
       "      <td>0.000000</td>\n",
       "      <td>0.000000</td>\n",
       "      <td>0.294118</td>\n",
       "      <td>0.205882</td>\n",
       "      <td>34.705882</td>\n",
       "      <td>0.000000</td>\n",
       "      <td>10.352941</td>\n",
       "      <td>1.705882</td>\n",
       "      <td>1.705882</td>\n",
       "      <td>23.911765</td>\n",
       "    </tr>\n",
       "    <tr>\n",
       "      <th>643688</th>\n",
       "      <td>1827869</td>\n",
       "      <td>2013</td>\n",
       "      <td>1</td>\n",
       "      <td>1</td>\n",
       "      <td>1</td>\n",
       "      <td>0</td>\n",
       "      <td>0</td>\n",
       "      <td>0</td>\n",
       "      <td>1</td>\n",
       "      <td>0</td>\n",
       "      <td>...</td>\n",
       "      <td>0.000000</td>\n",
       "      <td>0.000000</td>\n",
       "      <td>0.000000</td>\n",
       "      <td>0.000000</td>\n",
       "      <td>0.000000</td>\n",
       "      <td>0.525424</td>\n",
       "      <td>0.000000</td>\n",
       "      <td>0.000000</td>\n",
       "      <td>0.000000</td>\n",
       "      <td>0.000000</td>\n",
       "    </tr>\n",
       "    <tr>\n",
       "      <th>643689</th>\n",
       "      <td>1827869</td>\n",
       "      <td>2014</td>\n",
       "      <td>2</td>\n",
       "      <td>0</td>\n",
       "      <td>0</td>\n",
       "      <td>1</td>\n",
       "      <td>0</td>\n",
       "      <td>0</td>\n",
       "      <td>1</td>\n",
       "      <td>0</td>\n",
       "      <td>...</td>\n",
       "      <td>0.000000</td>\n",
       "      <td>0.666667</td>\n",
       "      <td>0.666667</td>\n",
       "      <td>0.000000</td>\n",
       "      <td>0.000000</td>\n",
       "      <td>8.950000</td>\n",
       "      <td>1.033333</td>\n",
       "      <td>0.083333</td>\n",
       "      <td>0.083333</td>\n",
       "      <td>8.133333</td>\n",
       "    </tr>\n",
       "  </tbody>\n",
       "</table>\n",
       "<p>643690 rows × 164 columns</p>\n",
       "</div>"
      ],
      "text/plain": [
       "         persnr  year  nrEntry  ltue  employed_before  receipt_leh_before  \\\n",
       "0             7  2015        1     0                1                   0   \n",
       "1            18  2010        1     1                0                   0   \n",
       "2            18  2011        2     0                1                   0   \n",
       "3            18  2012        3     0                1                   0   \n",
       "4            18  2012        4     0                1                   0   \n",
       "...         ...   ...      ...   ...              ...                 ...   \n",
       "643685  1827860  2013        1     0                0                   0   \n",
       "643686  1827860  2015        2     1                0                   0   \n",
       "643687  1827860  2016        3     1                0                   0   \n",
       "643688  1827869  2013        1     1                1                   0   \n",
       "643689  1827869  2014        2     0                0                   1   \n",
       "\n",
       "        receipt_lhg_before  se_before  ASU_notue_seeking_before  \\\n",
       "0                        0          0                         1   \n",
       "1                        0          0                         0   \n",
       "2                        1          0                         1   \n",
       "3                        1          0                         1   \n",
       "4                        1          0                         1   \n",
       "...                    ...        ...                       ...   \n",
       "643685                   1          0                         0   \n",
       "643686                   1          0                         1   \n",
       "643687                   1          1                         0   \n",
       "643688                   0          0                         1   \n",
       "643689                   0          0                         1   \n",
       "\n",
       "        ASU_other_before  ...  minijob_tot_dur_byage  ft_tot_dur_byage  \\\n",
       "0                      0  ...               0.000000          0.000000   \n",
       "1                      0  ...               0.000000          0.000000   \n",
       "2                      0  ...               2.714286          2.714286   \n",
       "3                      0  ...               4.200000          4.200000   \n",
       "4                      0  ...               5.460000          5.460000   \n",
       "...                  ...  ...                    ...               ...   \n",
       "643685                 1  ...               0.000000          0.000000   \n",
       "643686                 0  ...               0.000000          0.000000   \n",
       "643687                 1  ...               0.000000          0.000000   \n",
       "643688                 0  ...               0.000000          0.000000   \n",
       "643689                 0  ...               0.000000          0.666667   \n",
       "\n",
       "        befrist_tot_dur_byage  leih_tot_dur_byage  LHG_tot_dur_byage  \\\n",
       "0                   15.043478            0.000000           0.000000   \n",
       "1                    0.000000            0.000000           0.000000   \n",
       "2                    0.000000            0.000000          10.775510   \n",
       "3                    0.000000            0.000000          12.100000   \n",
       "4                    0.000000            0.000000          13.360000   \n",
       "...                       ...                 ...                ...   \n",
       "643685               0.000000            0.000000           0.612903   \n",
       "643686               0.212121            0.212121          17.363636   \n",
       "643687               0.294118            0.205882          34.705882   \n",
       "643688               0.000000            0.000000           0.000000   \n",
       "643689               0.666667            0.000000           0.000000   \n",
       "\n",
       "        LEH_tot_dur_byage  almp_tot_dur_byage  almp_aw_tot_dur_byage  \\\n",
       "0                0.000000            0.000000               0.000000   \n",
       "1                0.000000            0.000000               0.000000   \n",
       "2                0.000000            8.367347               0.000000   \n",
       "3                0.000000            9.400000               0.000000   \n",
       "4                0.000000           10.320000               0.000000   \n",
       "...                   ...                 ...                    ...   \n",
       "643685           0.000000            0.000000               0.000000   \n",
       "643686           0.000000            8.909091               0.000000   \n",
       "643687           0.000000           10.352941               1.705882   \n",
       "643688           0.525424            0.000000               0.000000   \n",
       "643689           8.950000            1.033333               0.083333   \n",
       "\n",
       "        se_tot_dur_byage  seeking1_tot_dur_byage  \n",
       "0               0.000000                0.000000  \n",
       "1               0.000000                0.000000  \n",
       "2               0.000000                9.836735  \n",
       "3               0.000000                9.960000  \n",
       "4               0.000000               10.280000  \n",
       "...                  ...                     ...  \n",
       "643685          0.000000                0.000000  \n",
       "643686          0.000000                7.121212  \n",
       "643687          1.705882               23.911765  \n",
       "643688          0.000000                0.000000  \n",
       "643689          0.083333                8.133333  \n",
       "\n",
       "[643690 rows x 164 columns]"
      ]
     },
     "execution_count": 10,
     "metadata": {},
     "output_type": "execute_result"
    }
   ],
   "source": [
    "siab"
   ]
  },
  {
   "cell_type": "markdown",
   "id": "1f87e805",
   "metadata": {
    "papermill": {
     "duration": 0.031846,
     "end_time": "2025-08-19T18:53:18.638628",
     "exception": false,
     "start_time": "2025-08-19T18:53:18.606782",
     "status": "completed"
    },
    "tags": []
   },
   "source": [
    "# Splitting Data and Setting Training Data Size"
   ]
  },
  {
   "cell_type": "code",
   "execution_count": 11,
   "id": "910ae358",
   "metadata": {
    "execution": {
     "iopub.execute_input": "2025-08-19T18:53:18.683092Z",
     "iopub.status.busy": "2025-08-19T18:53:18.679980Z",
     "iopub.status.idle": "2025-08-19T18:53:18.924833Z",
     "shell.execute_reply": "2025-08-19T18:53:18.924025Z"
    },
    "papermill": {
     "duration": 0.273313,
     "end_time": "2025-08-19T18:53:18.926633",
     "exception": false,
     "start_time": "2025-08-19T18:53:18.653320",
     "status": "completed"
    },
    "tags": []
   },
   "outputs": [],
   "source": [
    "from fairness_multiverse.universe import sample_by_year_size\n",
    "\n",
    "siab_train = sample_by_year_size(siab,\n",
    "                               training_year=universe[\"training_year\"],\n",
    "                               training_size=universe[\"training_size\"])"
   ]
  },
  {
   "cell_type": "code",
   "execution_count": 12,
   "id": "919c8ff5",
   "metadata": {
    "execution": {
     "iopub.execute_input": "2025-08-19T18:53:18.948515Z",
     "iopub.status.busy": "2025-08-19T18:53:18.948019Z",
     "iopub.status.idle": "2025-08-19T18:53:18.953897Z",
     "shell.execute_reply": "2025-08-19T18:53:18.953323Z"
    },
    "papermill": {
     "duration": 0.01808,
     "end_time": "2025-08-19T18:53:18.955117",
     "exception": false,
     "start_time": "2025-08-19T18:53:18.937037",
     "status": "completed"
    },
    "tags": []
   },
   "outputs": [
    {
     "data": {
      "text/plain": [
       "(1000, 164)"
      ]
     },
     "execution_count": 12,
     "metadata": {},
     "output_type": "execute_result"
    }
   ],
   "source": [
    "siab_train.shape"
   ]
  },
  {
   "cell_type": "code",
   "execution_count": 13,
   "id": "feb13bf4",
   "metadata": {
    "execution": {
     "iopub.execute_input": "2025-08-19T18:53:19.007180Z",
     "iopub.status.busy": "2025-08-19T18:53:19.005124Z",
     "iopub.status.idle": "2025-08-19T18:53:19.022945Z",
     "shell.execute_reply": "2025-08-19T18:53:19.021810Z"
    },
    "papermill": {
     "duration": 0.060597,
     "end_time": "2025-08-19T18:53:19.041540",
     "exception": false,
     "start_time": "2025-08-19T18:53:18.980943",
     "status": "completed"
    },
    "tags": []
   },
   "outputs": [
    {
     "data": {
      "text/plain": [
       "year\n",
       "2014    1000\n",
       "dtype: int64"
      ]
     },
     "metadata": {},
     "output_type": "display_data"
    }
   ],
   "source": [
    "display(siab_train.groupby(\"year\").size())"
   ]
  },
  {
   "cell_type": "code",
   "execution_count": 14,
   "id": "0997782f",
   "metadata": {
    "execution": {
     "iopub.execute_input": "2025-08-19T18:53:19.067605Z",
     "iopub.status.busy": "2025-08-19T18:53:19.066330Z",
     "iopub.status.idle": "2025-08-19T18:53:19.356404Z",
     "shell.execute_reply": "2025-08-19T18:53:19.355735Z"
    },
    "papermill": {
     "duration": 0.303955,
     "end_time": "2025-08-19T18:53:19.358148",
     "exception": false,
     "start_time": "2025-08-19T18:53:19.054193",
     "status": "completed"
    },
    "tags": []
   },
   "outputs": [],
   "source": [
    "#siab_train = siab_s[siab_s.year < 2015]\n",
    "siab_calib = siab[siab.year == 2015]\n",
    "siab_test = siab[siab.year == 2016]"
   ]
  },
  {
   "cell_type": "code",
   "execution_count": 15,
   "id": "2c1e4012",
   "metadata": {
    "execution": {
     "iopub.execute_input": "2025-08-19T18:53:19.396295Z",
     "iopub.status.busy": "2025-08-19T18:53:19.394505Z",
     "iopub.status.idle": "2025-08-19T18:53:19.402268Z",
     "shell.execute_reply": "2025-08-19T18:53:19.400897Z"
    },
    "papermill": {
     "duration": 0.033074,
     "end_time": "2025-08-19T18:53:19.405313",
     "exception": false,
     "start_time": "2025-08-19T18:53:19.372239",
     "status": "completed"
    },
    "tags": []
   },
   "outputs": [],
   "source": [
    "#siab_calib.shape"
   ]
  },
  {
   "cell_type": "code",
   "execution_count": 16,
   "id": "f66b54ca",
   "metadata": {
    "execution": {
     "iopub.execute_input": "2025-08-19T18:53:19.437029Z",
     "iopub.status.busy": "2025-08-19T18:53:19.435919Z",
     "iopub.status.idle": "2025-08-19T18:53:19.444007Z",
     "shell.execute_reply": "2025-08-19T18:53:19.442345Z"
    },
    "papermill": {
     "duration": 0.028217,
     "end_time": "2025-08-19T18:53:19.445550",
     "exception": false,
     "start_time": "2025-08-19T18:53:19.417333",
     "status": "completed"
    },
    "tags": []
   },
   "outputs": [],
   "source": [
    "#siab_test.shape"
   ]
  },
  {
   "cell_type": "code",
   "execution_count": 17,
   "id": "27e4384d",
   "metadata": {
    "execution": {
     "iopub.execute_input": "2025-08-19T18:53:19.491235Z",
     "iopub.status.busy": "2025-08-19T18:53:19.490668Z",
     "iopub.status.idle": "2025-08-19T18:53:19.497215Z",
     "shell.execute_reply": "2025-08-19T18:53:19.496455Z"
    },
    "papermill": {
     "duration": 0.030672,
     "end_time": "2025-08-19T18:53:19.499845",
     "exception": false,
     "start_time": "2025-08-19T18:53:19.469173",
     "status": "completed"
    },
    "tags": []
   },
   "outputs": [],
   "source": [
    "X_train = siab_train.iloc[:,4:164]\n",
    "y_train = siab_train.iloc[:, [3]]"
   ]
  },
  {
   "cell_type": "code",
   "execution_count": 18,
   "id": "08ee8389",
   "metadata": {
    "execution": {
     "iopub.execute_input": "2025-08-19T18:53:19.543986Z",
     "iopub.status.busy": "2025-08-19T18:53:19.542875Z",
     "iopub.status.idle": "2025-08-19T18:53:19.619656Z",
     "shell.execute_reply": "2025-08-19T18:53:19.618862Z"
    },
    "papermill": {
     "duration": 0.100431,
     "end_time": "2025-08-19T18:53:19.621051",
     "exception": false,
     "start_time": "2025-08-19T18:53:19.520620",
     "status": "completed"
    },
    "tags": []
   },
   "outputs": [],
   "source": [
    "X_calib = siab_calib.iloc[:,4:164]\n",
    "y_calib = siab_calib.iloc[:, [3]]"
   ]
  },
  {
   "cell_type": "code",
   "execution_count": 19,
   "id": "b7ff42e0",
   "metadata": {
    "execution": {
     "iopub.execute_input": "2025-08-19T18:53:19.643687Z",
     "iopub.status.busy": "2025-08-19T18:53:19.642936Z",
     "iopub.status.idle": "2025-08-19T18:53:19.700743Z",
     "shell.execute_reply": "2025-08-19T18:53:19.699939Z"
    },
    "papermill": {
     "duration": 0.074488,
     "end_time": "2025-08-19T18:53:19.706115",
     "exception": false,
     "start_time": "2025-08-19T18:53:19.631627",
     "status": "completed"
    },
    "tags": []
   },
   "outputs": [],
   "source": [
    "X_test = siab_test.iloc[:,4:164]\n",
    "y_true = siab_test.iloc[:, [3]]"
   ]
  },
  {
   "cell_type": "code",
   "execution_count": 20,
   "id": "0275101e",
   "metadata": {
    "execution": {
     "iopub.execute_input": "2025-08-19T18:53:19.735130Z",
     "iopub.status.busy": "2025-08-19T18:53:19.733966Z",
     "iopub.status.idle": "2025-08-19T18:53:19.851386Z",
     "shell.execute_reply": "2025-08-19T18:53:19.850698Z"
    },
    "papermill": {
     "duration": 0.130861,
     "end_time": "2025-08-19T18:53:19.852940",
     "exception": false,
     "start_time": "2025-08-19T18:53:19.722079",
     "status": "completed"
    },
    "tags": []
   },
   "outputs": [],
   "source": [
    "# Auxiliary data needed downstream in the pipeline\n",
    "\n",
    "org_train = X_train.copy()\n",
    "org_test = X_test.copy()\n",
    "org_calib = X_calib.copy()"
   ]
  },
  {
   "cell_type": "markdown",
   "id": "b461e618",
   "metadata": {
    "papermill": {
     "duration": 0.010385,
     "end_time": "2025-08-19T18:53:19.875531",
     "exception": false,
     "start_time": "2025-08-19T18:53:19.865146",
     "status": "completed"
    },
    "tags": []
   },
   "source": [
    "# Preprocessing Data"
   ]
  },
  {
   "cell_type": "code",
   "execution_count": 21,
   "id": "78e74c4b",
   "metadata": {
    "execution": {
     "iopub.execute_input": "2025-08-19T18:53:19.899199Z",
     "iopub.status.busy": "2025-08-19T18:53:19.898161Z",
     "iopub.status.idle": "2025-08-19T18:53:19.909234Z",
     "shell.execute_reply": "2025-08-19T18:53:19.908163Z"
    },
    "papermill": {
     "duration": 0.024346,
     "end_time": "2025-08-19T18:53:19.910519",
     "exception": false,
     "start_time": "2025-08-19T18:53:19.886173",
     "status": "completed"
    },
    "tags": []
   },
   "outputs": [],
   "source": [
    "# EXCLUDE PROTECTED FEATURES\n",
    "# --------------------------\n",
    "\n",
    "excluded_features = universe[\"exclude_features\"].split(\"-\")\n",
    "excluded_features_dictionary = {\n",
    "    \"nationality\": [\"maxdeutsch1\", \"maxdeutsch.Missing.\"],\n",
    "    \"sex\": [\"frau1\"],\n",
    "    \"age\": [\"age\"],\n",
    "}"
   ]
  },
  {
   "cell_type": "code",
   "execution_count": 22,
   "id": "f8e63555",
   "metadata": {
    "execution": {
     "iopub.execute_input": "2025-08-19T18:53:19.936152Z",
     "iopub.status.busy": "2025-08-19T18:53:19.935846Z",
     "iopub.status.idle": "2025-08-19T18:53:19.941515Z",
     "shell.execute_reply": "2025-08-19T18:53:19.940910Z"
    },
    "papermill": {
     "duration": 0.019084,
     "end_time": "2025-08-19T18:53:19.942832",
     "exception": false,
     "start_time": "2025-08-19T18:53:19.923748",
     "status": "completed"
    },
    "tags": []
   },
   "outputs": [],
   "source": [
    "excluded_features_columns = [\n",
    "    excluded_features_dictionary[f] for f in excluded_features if len(f) > 0 and f != \"none\"\n",
    "]"
   ]
  },
  {
   "cell_type": "code",
   "execution_count": 23,
   "id": "da781f7c",
   "metadata": {
    "execution": {
     "iopub.execute_input": "2025-08-19T18:53:19.964816Z",
     "iopub.status.busy": "2025-08-19T18:53:19.964523Z",
     "iopub.status.idle": "2025-08-19T18:53:19.969965Z",
     "shell.execute_reply": "2025-08-19T18:53:19.968971Z"
    },
    "papermill": {
     "duration": 0.017909,
     "end_time": "2025-08-19T18:53:19.971136",
     "exception": false,
     "start_time": "2025-08-19T18:53:19.953227",
     "status": "completed"
    },
    "tags": []
   },
   "outputs": [],
   "source": [
    "from fairness_multiverse.universe import flatten_once\n",
    "\n",
    "excluded_features_columns = flatten_once(excluded_features_columns)"
   ]
  },
  {
   "cell_type": "code",
   "execution_count": 24,
   "id": "37fef0f0",
   "metadata": {
    "execution": {
     "iopub.execute_input": "2025-08-19T18:53:19.994145Z",
     "iopub.status.busy": "2025-08-19T18:53:19.993101Z",
     "iopub.status.idle": "2025-08-19T18:53:20.003597Z",
     "shell.execute_reply": "2025-08-19T18:53:20.002413Z"
    },
    "papermill": {
     "duration": 0.025475,
     "end_time": "2025-08-19T18:53:20.007130",
     "exception": false,
     "start_time": "2025-08-19T18:53:19.981655",
     "status": "completed"
    },
    "tags": []
   },
   "outputs": [
    {
     "name": "stdout",
     "output_type": "stream",
     "text": [
      "Dropping features: ['maxdeutsch1', 'maxdeutsch.Missing.', 'frau1']\n"
     ]
    }
   ],
   "source": [
    "if len(excluded_features_columns) > 0:\n",
    "    print(f\"Dropping features: {excluded_features_columns}\")\n",
    "    X_train.drop(excluded_features_columns, axis=1, inplace=True)"
   ]
  },
  {
   "cell_type": "code",
   "execution_count": 25,
   "id": "d029e3e9",
   "metadata": {
    "execution": {
     "iopub.execute_input": "2025-08-19T18:53:20.032655Z",
     "iopub.status.busy": "2025-08-19T18:53:20.032109Z",
     "iopub.status.idle": "2025-08-19T18:53:20.090761Z",
     "shell.execute_reply": "2025-08-19T18:53:20.088961Z"
    },
    "papermill": {
     "duration": 0.076277,
     "end_time": "2025-08-19T18:53:20.097011",
     "exception": false,
     "start_time": "2025-08-19T18:53:20.020734",
     "status": "completed"
    },
    "tags": []
   },
   "outputs": [
    {
     "name": "stdout",
     "output_type": "stream",
     "text": [
      "Dropping features: ['maxdeutsch1', 'maxdeutsch.Missing.', 'frau1']\n"
     ]
    }
   ],
   "source": [
    "if len(excluded_features_columns) > 0:\n",
    "    print(f\"Dropping features: {excluded_features_columns}\")\n",
    "    X_test.drop(excluded_features_columns, axis=1, inplace=True)"
   ]
  },
  {
   "cell_type": "code",
   "execution_count": 26,
   "id": "01d571f0",
   "metadata": {
    "execution": {
     "iopub.execute_input": "2025-08-19T18:53:20.131778Z",
     "iopub.status.busy": "2025-08-19T18:53:20.129496Z",
     "iopub.status.idle": "2025-08-19T18:53:20.189308Z",
     "shell.execute_reply": "2025-08-19T18:53:20.188707Z"
    },
    "papermill": {
     "duration": 0.074188,
     "end_time": "2025-08-19T18:53:20.190711",
     "exception": false,
     "start_time": "2025-08-19T18:53:20.116523",
     "status": "completed"
    },
    "tags": []
   },
   "outputs": [
    {
     "name": "stdout",
     "output_type": "stream",
     "text": [
      "Dropping features: ['maxdeutsch1', 'maxdeutsch.Missing.', 'frau1']\n"
     ]
    }
   ],
   "source": [
    "if len(excluded_features_columns) > 0:\n",
    "    print(f\"Dropping features: {excluded_features_columns}\")\n",
    "    X_calib.drop(excluded_features_columns, axis=1, inplace=True)"
   ]
  },
  {
   "cell_type": "code",
   "execution_count": 27,
   "id": "3037356e",
   "metadata": {
    "execution": {
     "iopub.execute_input": "2025-08-19T18:53:20.218452Z",
     "iopub.status.busy": "2025-08-19T18:53:20.216301Z",
     "iopub.status.idle": "2025-08-19T18:53:20.225948Z",
     "shell.execute_reply": "2025-08-19T18:53:20.224588Z"
    },
    "papermill": {
     "duration": 0.022892,
     "end_time": "2025-08-19T18:53:20.227391",
     "exception": false,
     "start_time": "2025-08-19T18:53:20.204499",
     "status": "completed"
    },
    "tags": []
   },
   "outputs": [],
   "source": [
    "# EXCLUDE CERTAIN SUBGROUPS\n",
    "# -------------------------\n",
    "\n",
    "mode = universe.get(\"exclude_subgroups\", \"keep-all\") # Defaults to \"keep-all\" if the key is missing."
   ]
  },
  {
   "cell_type": "code",
   "execution_count": 28,
   "id": "9d1e63fd",
   "metadata": {
    "execution": {
     "iopub.execute_input": "2025-08-19T18:53:20.254451Z",
     "iopub.status.busy": "2025-08-19T18:53:20.253119Z",
     "iopub.status.idle": "2025-08-19T18:53:20.268017Z",
     "shell.execute_reply": "2025-08-19T18:53:20.266553Z"
    },
    "papermill": {
     "duration": 0.029519,
     "end_time": "2025-08-19T18:53:20.269725",
     "exception": false,
     "start_time": "2025-08-19T18:53:20.240206",
     "status": "completed"
    },
    "tags": []
   },
   "outputs": [],
   "source": [
    "if mode == \"keep-all\":\n",
    "    keep_mask = pd.Series(True, index=org_train.index)\n",
    "\n",
    "elif mode == \"drop-non-german\":\n",
    "    keep_mask = (org_train[\"maxdeutsch1\"] == 1) & (org_train[\"maxdeutsch.Missing.\"] == 0)\n",
    "\n",
    "else:\n",
    "    raise ValueError(f\"Unsupported mode for exclude_subgroups: {mode}\")"
   ]
  },
  {
   "cell_type": "code",
   "execution_count": 29,
   "id": "d3b65474",
   "metadata": {
    "execution": {
     "iopub.execute_input": "2025-08-19T18:53:20.303611Z",
     "iopub.status.busy": "2025-08-19T18:53:20.302479Z",
     "iopub.status.idle": "2025-08-19T18:53:20.315545Z",
     "shell.execute_reply": "2025-08-19T18:53:20.314211Z"
    },
    "papermill": {
     "duration": 0.029228,
     "end_time": "2025-08-19T18:53:20.317087",
     "exception": false,
     "start_time": "2025-08-19T18:53:20.287859",
     "status": "completed"
    },
    "tags": []
   },
   "outputs": [
    {
     "name": "stdout",
     "output_type": "stream",
     "text": [
      "Dropping 147 rows (14.70%) where mode='drop-non-german'\n"
     ]
    }
   ],
   "source": [
    "n_drop = (~keep_mask).sum() # Calculates how many rows are set to be dropped\n",
    "if n_drop > 0:\n",
    "    pct = n_drop / len(keep_mask) * 100\n",
    "    print(f\"Dropping {n_drop} rows ({pct:.2f}%) where mode='{mode}'\")"
   ]
  },
  {
   "cell_type": "code",
   "execution_count": 30,
   "id": "f44389b3",
   "metadata": {
    "execution": {
     "iopub.execute_input": "2025-08-19T18:53:20.348043Z",
     "iopub.status.busy": "2025-08-19T18:53:20.346909Z",
     "iopub.status.idle": "2025-08-19T18:53:20.359432Z",
     "shell.execute_reply": "2025-08-19T18:53:20.357491Z"
    },
    "papermill": {
     "duration": 0.028716,
     "end_time": "2025-08-19T18:53:20.361388",
     "exception": false,
     "start_time": "2025-08-19T18:53:20.332672",
     "status": "completed"
    },
    "tags": []
   },
   "outputs": [],
   "source": [
    "X_train = X_train[keep_mask]"
   ]
  },
  {
   "cell_type": "code",
   "execution_count": 31,
   "id": "ceca8c2a",
   "metadata": {
    "execution": {
     "iopub.execute_input": "2025-08-19T18:53:20.389881Z",
     "iopub.status.busy": "2025-08-19T18:53:20.388659Z",
     "iopub.status.idle": "2025-08-19T18:53:20.400012Z",
     "shell.execute_reply": "2025-08-19T18:53:20.398233Z"
    },
    "papermill": {
     "duration": 0.026121,
     "end_time": "2025-08-19T18:53:20.401781",
     "exception": false,
     "start_time": "2025-08-19T18:53:20.375660",
     "status": "completed"
    },
    "tags": []
   },
   "outputs": [],
   "source": [
    "y_train = y_train[keep_mask]"
   ]
  },
  {
   "cell_type": "markdown",
   "id": "04d31e2f",
   "metadata": {
    "papermill": {
     "duration": 0.010851,
     "end_time": "2025-08-19T18:53:20.425990",
     "exception": false,
     "start_time": "2025-08-19T18:53:20.415139",
     "status": "completed"
    },
    "tags": []
   },
   "source": [
    "# Model Training"
   ]
  },
  {
   "cell_type": "code",
   "execution_count": 32,
   "id": "db991733",
   "metadata": {
    "execution": {
     "iopub.execute_input": "2025-08-19T18:53:20.451320Z",
     "iopub.status.busy": "2025-08-19T18:53:20.449103Z",
     "iopub.status.idle": "2025-08-19T18:53:20.592679Z",
     "shell.execute_reply": "2025-08-19T18:53:20.591321Z"
    },
    "papermill": {
     "duration": 0.157525,
     "end_time": "2025-08-19T18:53:20.594133",
     "exception": false,
     "start_time": "2025-08-19T18:53:20.436608",
     "status": "completed"
    },
    "tags": []
   },
   "outputs": [],
   "source": [
    "from sklearn.linear_model import LogisticRegression\n",
    "from sklearn.ensemble import GradientBoostingClassifier, RandomForestClassifier\n",
    "\n",
    "if (universe[\"model\"] == \"logreg\"):\n",
    "    model = LogisticRegression() #penalty=\"none\", solver=\"newton-cg\", max_iter=1)\n",
    "elif (universe[\"model\"] == \"penalized_logreg\"):\n",
    "    model = LogisticRegression(penalty=\"l2\", C=0.1) #, solver=\"newton-cg\", max_iter=1)\n",
    "elif (universe[\"model\"] == \"rf\"):\n",
    "    model = RandomForestClassifier() # n_estimators=100, n_jobs=-1\n",
    "elif (universe[\"model\"] == \"gbm\"):\n",
    "    model = GradientBoostingClassifier()\n",
    "elif (universe[\"model\"] == \"elasticnet\"):\n",
    "    model = LogisticRegression(penalty = 'elasticnet', solver = 'saga', l1_ratio = 0.5) # max_iter=5000\n",
    "else:\n",
    "    raise \"Unsupported universe.model\""
   ]
  },
  {
   "cell_type": "code",
   "execution_count": 33,
   "id": "a4b5cd25",
   "metadata": {
    "execution": {
     "iopub.execute_input": "2025-08-19T18:53:20.619556Z",
     "iopub.status.busy": "2025-08-19T18:53:20.618394Z",
     "iopub.status.idle": "2025-08-19T18:53:20.630080Z",
     "shell.execute_reply": "2025-08-19T18:53:20.628198Z"
    },
    "papermill": {
     "duration": 0.026218,
     "end_time": "2025-08-19T18:53:20.631701",
     "exception": false,
     "start_time": "2025-08-19T18:53:20.605483",
     "status": "completed"
    },
    "tags": []
   },
   "outputs": [],
   "source": [
    "from sklearn.pipeline import Pipeline\n",
    "from sklearn.preprocessing import StandardScaler\n",
    "\n",
    "model = Pipeline([\n",
    "    #(\"continuous_processor\", continuous_processor),\n",
    "    #(\"categorical_preprocessor\", categorical_preprocessor),\n",
    "    (\"scale\", StandardScaler() if universe[\"scale\"] == \"scale\" else None), \n",
    "    (\"model\", model),\n",
    "])"
   ]
  },
  {
   "cell_type": "code",
   "execution_count": 34,
   "id": "283a904d",
   "metadata": {
    "execution": {
     "iopub.execute_input": "2025-08-19T18:53:20.665178Z",
     "iopub.status.busy": "2025-08-19T18:53:20.663947Z",
     "iopub.status.idle": "2025-08-19T18:53:20.727225Z",
     "shell.execute_reply": "2025-08-19T18:53:20.726609Z"
    },
    "papermill": {
     "duration": 0.097431,
     "end_time": "2025-08-19T18:53:20.744761",
     "exception": false,
     "start_time": "2025-08-19T18:53:20.647330",
     "status": "completed"
    },
    "tags": []
   },
   "outputs": [
    {
     "name": "stderr",
     "output_type": "stream",
     "text": [
      "/dss/dsshome1/0C/ra93lal2/.local/share/virtualenvs/CMA_Fairness_v2-3j10GkSs/lib/python3.10/site-packages/sklearn/linear_model/_logistic.py:444: ConvergenceWarning: lbfgs failed to converge (status=1):\n",
      "STOP: TOTAL NO. of ITERATIONS REACHED LIMIT.\n",
      "\n",
      "Increase the number of iterations (max_iter) or scale the data as shown in:\n",
      "    https://scikit-learn.org/stable/modules/preprocessing.html\n",
      "Please also refer to the documentation for alternative solver options:\n",
      "    https://scikit-learn.org/stable/modules/linear_model.html#logistic-regression\n",
      "  n_iter_i = _check_optimize_result(\n"
     ]
    },
    {
     "data": {
      "text/html": [
       "<style>#sk-container-id-1 {color: black;background-color: white;}#sk-container-id-1 pre{padding: 0;}#sk-container-id-1 div.sk-toggleable {background-color: white;}#sk-container-id-1 label.sk-toggleable__label {cursor: pointer;display: block;width: 100%;margin-bottom: 0;padding: 0.3em;box-sizing: border-box;text-align: center;}#sk-container-id-1 label.sk-toggleable__label-arrow:before {content: \"▸\";float: left;margin-right: 0.25em;color: #696969;}#sk-container-id-1 label.sk-toggleable__label-arrow:hover:before {color: black;}#sk-container-id-1 div.sk-estimator:hover label.sk-toggleable__label-arrow:before {color: black;}#sk-container-id-1 div.sk-toggleable__content {max-height: 0;max-width: 0;overflow: hidden;text-align: left;background-color: #f0f8ff;}#sk-container-id-1 div.sk-toggleable__content pre {margin: 0.2em;color: black;border-radius: 0.25em;background-color: #f0f8ff;}#sk-container-id-1 input.sk-toggleable__control:checked~div.sk-toggleable__content {max-height: 200px;max-width: 100%;overflow: auto;}#sk-container-id-1 input.sk-toggleable__control:checked~label.sk-toggleable__label-arrow:before {content: \"▾\";}#sk-container-id-1 div.sk-estimator input.sk-toggleable__control:checked~label.sk-toggleable__label {background-color: #d4ebff;}#sk-container-id-1 div.sk-label input.sk-toggleable__control:checked~label.sk-toggleable__label {background-color: #d4ebff;}#sk-container-id-1 input.sk-hidden--visually {border: 0;clip: rect(1px 1px 1px 1px);clip: rect(1px, 1px, 1px, 1px);height: 1px;margin: -1px;overflow: hidden;padding: 0;position: absolute;width: 1px;}#sk-container-id-1 div.sk-estimator {font-family: monospace;background-color: #f0f8ff;border: 1px dotted black;border-radius: 0.25em;box-sizing: border-box;margin-bottom: 0.5em;}#sk-container-id-1 div.sk-estimator:hover {background-color: #d4ebff;}#sk-container-id-1 div.sk-parallel-item::after {content: \"\";width: 100%;border-bottom: 1px solid gray;flex-grow: 1;}#sk-container-id-1 div.sk-label:hover label.sk-toggleable__label {background-color: #d4ebff;}#sk-container-id-1 div.sk-serial::before {content: \"\";position: absolute;border-left: 1px solid gray;box-sizing: border-box;top: 0;bottom: 0;left: 50%;z-index: 0;}#sk-container-id-1 div.sk-serial {display: flex;flex-direction: column;align-items: center;background-color: white;padding-right: 0.2em;padding-left: 0.2em;position: relative;}#sk-container-id-1 div.sk-item {position: relative;z-index: 1;}#sk-container-id-1 div.sk-parallel {display: flex;align-items: stretch;justify-content: center;background-color: white;position: relative;}#sk-container-id-1 div.sk-item::before, #sk-container-id-1 div.sk-parallel-item::before {content: \"\";position: absolute;border-left: 1px solid gray;box-sizing: border-box;top: 0;bottom: 0;left: 50%;z-index: -1;}#sk-container-id-1 div.sk-parallel-item {display: flex;flex-direction: column;z-index: 1;position: relative;background-color: white;}#sk-container-id-1 div.sk-parallel-item:first-child::after {align-self: flex-end;width: 50%;}#sk-container-id-1 div.sk-parallel-item:last-child::after {align-self: flex-start;width: 50%;}#sk-container-id-1 div.sk-parallel-item:only-child::after {width: 0;}#sk-container-id-1 div.sk-dashed-wrapped {border: 1px dashed gray;margin: 0 0.4em 0.5em 0.4em;box-sizing: border-box;padding-bottom: 0.4em;background-color: white;}#sk-container-id-1 div.sk-label label {font-family: monospace;font-weight: bold;display: inline-block;line-height: 1.2em;}#sk-container-id-1 div.sk-label-container {text-align: center;}#sk-container-id-1 div.sk-container {/* jupyter's `normalize.less` sets `[hidden] { display: none; }` but bootstrap.min.css set `[hidden] { display: none !important; }` so we also need the `!important` here to be able to override the default hidden behavior on the sphinx rendered scikit-learn.org. See: https://github.com/scikit-learn/scikit-learn/issues/21755 */display: inline-block !important;position: relative;}#sk-container-id-1 div.sk-text-repr-fallback {display: none;}</style><div id=\"sk-container-id-1\" class=\"sk-top-container\"><div class=\"sk-text-repr-fallback\"><pre>Pipeline(steps=[(&#x27;scale&#x27;, None), (&#x27;model&#x27;, LogisticRegression())])</pre><b>In a Jupyter environment, please rerun this cell to show the HTML representation or trust the notebook. <br />On GitHub, the HTML representation is unable to render, please try loading this page with nbviewer.org.</b></div><div class=\"sk-container\" hidden><div class=\"sk-item sk-dashed-wrapped\"><div class=\"sk-label-container\"><div class=\"sk-label sk-toggleable\"><input class=\"sk-toggleable__control sk-hidden--visually\" id=\"sk-estimator-id-1\" type=\"checkbox\" ><label for=\"sk-estimator-id-1\" class=\"sk-toggleable__label sk-toggleable__label-arrow\">Pipeline</label><div class=\"sk-toggleable__content\"><pre>Pipeline(steps=[(&#x27;scale&#x27;, None), (&#x27;model&#x27;, LogisticRegression())])</pre></div></div></div><div class=\"sk-serial\"><div class=\"sk-item\"><div class=\"sk-estimator sk-toggleable\"><input class=\"sk-toggleable__control sk-hidden--visually\" id=\"sk-estimator-id-2\" type=\"checkbox\" ><label for=\"sk-estimator-id-2\" class=\"sk-toggleable__label sk-toggleable__label-arrow\">None</label><div class=\"sk-toggleable__content\"><pre>None</pre></div></div></div><div class=\"sk-item\"><div class=\"sk-estimator sk-toggleable\"><input class=\"sk-toggleable__control sk-hidden--visually\" id=\"sk-estimator-id-3\" type=\"checkbox\" ><label for=\"sk-estimator-id-3\" class=\"sk-toggleable__label sk-toggleable__label-arrow\">LogisticRegression</label><div class=\"sk-toggleable__content\"><pre>LogisticRegression()</pre></div></div></div></div></div></div></div>"
      ],
      "text/plain": [
       "Pipeline(steps=[('scale', None), ('model', LogisticRegression())])"
      ]
     },
     "execution_count": 34,
     "metadata": {},
     "output_type": "execute_result"
    }
   ],
   "source": [
    "model.fit(X_train, y_train.values.ravel())"
   ]
  },
  {
   "cell_type": "code",
   "execution_count": 35,
   "id": "6e15e313",
   "metadata": {
    "execution": {
     "iopub.execute_input": "2025-08-19T18:53:20.776157Z",
     "iopub.status.busy": "2025-08-19T18:53:20.775675Z",
     "iopub.status.idle": "2025-08-19T18:53:20.871438Z",
     "shell.execute_reply": "2025-08-19T18:53:20.870810Z"
    },
    "papermill": {
     "duration": 0.110954,
     "end_time": "2025-08-19T18:53:20.873214",
     "exception": false,
     "start_time": "2025-08-19T18:53:20.762260",
     "status": "completed"
    },
    "tags": []
   },
   "outputs": [
    {
     "data": {
      "text/plain": [
       "0.8441979712406643"
      ]
     },
     "execution_count": 35,
     "metadata": {},
     "output_type": "execute_result"
    }
   ],
   "source": [
    "from fairness_multiverse.universe import predict_w_threshold\n",
    "\n",
    "probs_test = model.predict_proba(X_test)\n",
    "\n",
    "'''\n",
    "Below code returns a boolean array (or binary 0/1 array depending on how it’s used) where each element \n",
    "is True if the probability of class 1 is greater than or equal to the threshold, and False otherwise.\n",
    "'''\n",
    "y_pred_default = predict_w_threshold(probs_test, 0.5)\n",
    "\n",
    "from sklearn.metrics import accuracy_score\n",
    "\n",
    "# Naive prediction\n",
    "accuracy_score(y_true = y_true, y_pred = y_pred_default)"
   ]
  },
  {
   "cell_type": "code",
   "execution_count": 36,
   "id": "6f14067c",
   "metadata": {
    "execution": {
     "iopub.execute_input": "2025-08-19T18:53:20.900439Z",
     "iopub.status.busy": "2025-08-19T18:53:20.899074Z",
     "iopub.status.idle": "2025-08-19T18:53:20.988802Z",
     "shell.execute_reply": "2025-08-19T18:53:20.988047Z"
    },
    "papermill": {
     "duration": 0.10521,
     "end_time": "2025-08-19T18:53:20.990436",
     "exception": false,
     "start_time": "2025-08-19T18:53:20.885226",
     "status": "completed"
    },
    "tags": []
   },
   "outputs": [
    {
     "data": {
      "text/plain": [
       "array([0, 0, 0, ..., 0, 0, 0])"
      ]
     },
     "execution_count": 36,
     "metadata": {},
     "output_type": "execute_result"
    }
   ],
   "source": [
    "model.predict(X_test)"
   ]
  },
  {
   "cell_type": "markdown",
   "id": "3759920c",
   "metadata": {
    "papermill": {
     "duration": 0.011575,
     "end_time": "2025-08-19T18:53:21.016922",
     "exception": false,
     "start_time": "2025-08-19T18:53:21.005347",
     "status": "completed"
    },
    "tags": []
   },
   "source": [
    "# Conformal Prediction"
   ]
  },
  {
   "cell_type": "code",
   "execution_count": 37,
   "id": "14b27f59",
   "metadata": {
    "execution": {
     "iopub.execute_input": "2025-08-19T18:53:21.041323Z",
     "iopub.status.busy": "2025-08-19T18:53:21.040826Z",
     "iopub.status.idle": "2025-08-19T18:53:21.046450Z",
     "shell.execute_reply": "2025-08-19T18:53:21.045030Z"
    },
    "papermill": {
     "duration": 0.019623,
     "end_time": "2025-08-19T18:53:21.047806",
     "exception": false,
     "start_time": "2025-08-19T18:53:21.028183",
     "status": "completed"
    },
    "tags": []
   },
   "outputs": [],
   "source": [
    "# Miscoverage level for conformal prediction (10% allowed error rate => 90% target coverage)\n",
    "alpha = 0.1"
   ]
  },
  {
   "cell_type": "code",
   "execution_count": 38,
   "id": "59102472",
   "metadata": {
    "execution": {
     "iopub.execute_input": "2025-08-19T18:53:21.074193Z",
     "iopub.status.busy": "2025-08-19T18:53:21.073637Z",
     "iopub.status.idle": "2025-08-19T18:53:21.155247Z",
     "shell.execute_reply": "2025-08-19T18:53:21.154536Z"
    },
    "papermill": {
     "duration": 0.096422,
     "end_time": "2025-08-19T18:53:21.156713",
     "exception": false,
     "start_time": "2025-08-19T18:53:21.060291",
     "status": "completed"
    },
    "tags": []
   },
   "outputs": [],
   "source": [
    "probs_calib = model.predict_proba(X_calib)"
   ]
  },
  {
   "cell_type": "code",
   "execution_count": 39,
   "id": "a792d4dd",
   "metadata": {
    "execution": {
     "iopub.execute_input": "2025-08-19T18:53:21.188040Z",
     "iopub.status.busy": "2025-08-19T18:53:21.187456Z",
     "iopub.status.idle": "2025-08-19T18:53:21.192955Z",
     "shell.execute_reply": "2025-08-19T18:53:21.192317Z"
    },
    "papermill": {
     "duration": 0.024027,
     "end_time": "2025-08-19T18:53:21.194277",
     "exception": false,
     "start_time": "2025-08-19T18:53:21.170250",
     "status": "completed"
    },
    "tags": []
   },
   "outputs": [],
   "source": [
    "y_calib = y_calib.values.ravel().astype(int)"
   ]
  },
  {
   "cell_type": "code",
   "execution_count": 40,
   "id": "650fd033",
   "metadata": {
    "execution": {
     "iopub.execute_input": "2025-08-19T18:53:21.219395Z",
     "iopub.status.busy": "2025-08-19T18:53:21.218957Z",
     "iopub.status.idle": "2025-08-19T18:53:21.225308Z",
     "shell.execute_reply": "2025-08-19T18:53:21.224539Z"
    },
    "papermill": {
     "duration": 0.020537,
     "end_time": "2025-08-19T18:53:21.226757",
     "exception": false,
     "start_time": "2025-08-19T18:53:21.206220",
     "status": "completed"
    },
    "tags": []
   },
   "outputs": [],
   "source": [
    "from fairness_multiverse.conformal import compute_nc_scores\n",
    "\n",
    "# Compute nonconformity scores on calibration set (1 - probability of true class)\n",
    "nc_scores = compute_nc_scores(probs_calib, y_calib)"
   ]
  },
  {
   "cell_type": "code",
   "execution_count": 41,
   "id": "28ada44c",
   "metadata": {
    "execution": {
     "iopub.execute_input": "2025-08-19T18:53:21.256700Z",
     "iopub.status.busy": "2025-08-19T18:53:21.256371Z",
     "iopub.status.idle": "2025-08-19T18:53:21.262030Z",
     "shell.execute_reply": "2025-08-19T18:53:21.261250Z"
    },
    "papermill": {
     "duration": 0.025341,
     "end_time": "2025-08-19T18:53:21.264037",
     "exception": false,
     "start_time": "2025-08-19T18:53:21.238696",
     "status": "completed"
    },
    "tags": []
   },
   "outputs": [],
   "source": [
    "from fairness_multiverse.conformal import find_threshold\n",
    "\n",
    "# Find conformal threshold q_hat for the given alpha (split conformal method)\n",
    "q_hat = find_threshold(nc_scores, alpha)"
   ]
  },
  {
   "cell_type": "code",
   "execution_count": 42,
   "id": "df56469e",
   "metadata": {
    "execution": {
     "iopub.execute_input": "2025-08-19T18:53:21.294671Z",
     "iopub.status.busy": "2025-08-19T18:53:21.294220Z",
     "iopub.status.idle": "2025-08-19T18:53:21.300588Z",
     "shell.execute_reply": "2025-08-19T18:53:21.299754Z"
    },
    "papermill": {
     "duration": 0.020842,
     "end_time": "2025-08-19T18:53:21.301984",
     "exception": false,
     "start_time": "2025-08-19T18:53:21.281142",
     "status": "completed"
    },
    "tags": []
   },
   "outputs": [
    {
     "data": {
      "text/plain": [
       "0.6982545606094345"
      ]
     },
     "execution_count": 42,
     "metadata": {},
     "output_type": "execute_result"
    }
   ],
   "source": [
    "q_hat"
   ]
  },
  {
   "cell_type": "code",
   "execution_count": 43,
   "id": "aa1f5faa",
   "metadata": {
    "execution": {
     "iopub.execute_input": "2025-08-19T18:53:21.327163Z",
     "iopub.status.busy": "2025-08-19T18:53:21.326706Z",
     "iopub.status.idle": "2025-08-19T18:53:21.843523Z",
     "shell.execute_reply": "2025-08-19T18:53:21.842238Z"
    },
    "papermill": {
     "duration": 0.531229,
     "end_time": "2025-08-19T18:53:21.845304",
     "exception": false,
     "start_time": "2025-08-19T18:53:21.314075",
     "status": "completed"
    },
    "tags": []
   },
   "outputs": [],
   "source": [
    "from fairness_multiverse.conformal import predict_conformal_sets\n",
    "\n",
    "# Generate prediction sets for each test example\n",
    "pred_sets = predict_conformal_sets(model, X_test, q_hat)"
   ]
  },
  {
   "cell_type": "code",
   "execution_count": 44,
   "id": "97f67a6b",
   "metadata": {
    "execution": {
     "iopub.execute_input": "2025-08-19T18:53:21.871817Z",
     "iopub.status.busy": "2025-08-19T18:53:21.871317Z",
     "iopub.status.idle": "2025-08-19T18:53:21.876534Z",
     "shell.execute_reply": "2025-08-19T18:53:21.875813Z"
    },
    "papermill": {
     "duration": 0.021025,
     "end_time": "2025-08-19T18:53:21.879126",
     "exception": false,
     "start_time": "2025-08-19T18:53:21.858101",
     "status": "completed"
    },
    "tags": []
   },
   "outputs": [],
   "source": [
    "y_true = y_true.squeeze()"
   ]
  },
  {
   "cell_type": "code",
   "execution_count": 45,
   "id": "e700e9a7",
   "metadata": {
    "execution": {
     "iopub.execute_input": "2025-08-19T18:53:21.908039Z",
     "iopub.status.busy": "2025-08-19T18:53:21.907034Z",
     "iopub.status.idle": "2025-08-19T18:53:22.415863Z",
     "shell.execute_reply": "2025-08-19T18:53:22.414268Z"
    },
    "papermill": {
     "duration": 0.525917,
     "end_time": "2025-08-19T18:53:22.419946",
     "exception": false,
     "start_time": "2025-08-19T18:53:21.894029",
     "status": "completed"
    },
    "tags": []
   },
   "outputs": [],
   "source": [
    "from fairness_multiverse.conformal import evaluate_sets\n",
    "\n",
    "# Evaluate coverage and average set size on test data\n",
    "metrics = evaluate_sets(pred_sets, y_true)"
   ]
  },
  {
   "cell_type": "markdown",
   "id": "efbacec0",
   "metadata": {
    "papermill": {
     "duration": 0.012828,
     "end_time": "2025-08-19T18:53:22.458048",
     "exception": false,
     "start_time": "2025-08-19T18:53:22.445220",
     "status": "completed"
    },
    "tags": []
   },
   "source": [
    "# CP Metrics"
   ]
  },
  {
   "cell_type": "code",
   "execution_count": 46,
   "id": "9de55fb1",
   "metadata": {
    "execution": {
     "iopub.execute_input": "2025-08-19T18:53:22.485205Z",
     "iopub.status.busy": "2025-08-19T18:53:22.483760Z",
     "iopub.status.idle": "2025-08-19T18:53:22.497031Z",
     "shell.execute_reply": "2025-08-19T18:53:22.495886Z"
    },
    "papermill": {
     "duration": 0.028948,
     "end_time": "2025-08-19T18:53:22.498689",
     "exception": false,
     "start_time": "2025-08-19T18:53:22.469741",
     "status": "completed"
    },
    "tags": []
   },
   "outputs": [
    {
     "data": {
      "text/plain": [
       "{'coverage': 0.9085943596031657, 'avg_size': 1.2503065433062088}"
      ]
     },
     "execution_count": 46,
     "metadata": {},
     "output_type": "execute_result"
    }
   ],
   "source": [
    "metrics"
   ]
  },
  {
   "cell_type": "code",
   "execution_count": 47,
   "id": "64c340a1",
   "metadata": {
    "execution": {
     "iopub.execute_input": "2025-08-19T18:53:22.528066Z",
     "iopub.status.busy": "2025-08-19T18:53:22.526836Z",
     "iopub.status.idle": "2025-08-19T18:53:22.536876Z",
     "shell.execute_reply": "2025-08-19T18:53:22.535664Z"
    },
    "papermill": {
     "duration": 0.024888,
     "end_time": "2025-08-19T18:53:22.538578",
     "exception": false,
     "start_time": "2025-08-19T18:53:22.513690",
     "status": "completed"
    },
    "tags": []
   },
   "outputs": [],
   "source": [
    "example_universe = universe.copy()\n",
    "universe_training_year = example_universe.get(\"training_year\")\n",
    "universe_training_size = example_universe.get(\"training_size\")\n",
    "universe_scale = example_universe.get(\"scale\")\n",
    "universe_model = example_universe.get(\"model\")\n",
    "universe_exclude_features = example_universe.get(\"exclude_features\")\n",
    "universe_exclude_subgroups = example_universe.get(\"exclude_subgroups\")"
   ]
  },
  {
   "cell_type": "code",
   "execution_count": 48,
   "id": "dbb53cb4",
   "metadata": {
    "execution": {
     "iopub.execute_input": "2025-08-19T18:53:22.585022Z",
     "iopub.status.busy": "2025-08-19T18:53:22.584659Z",
     "iopub.status.idle": "2025-08-19T18:53:22.590636Z",
     "shell.execute_reply": "2025-08-19T18:53:22.589923Z"
    },
    "papermill": {
     "duration": 0.030065,
     "end_time": "2025-08-19T18:53:22.593117",
     "exception": false,
     "start_time": "2025-08-19T18:53:22.563052",
     "status": "completed"
    },
    "tags": []
   },
   "outputs": [],
   "source": [
    "cp_metrics_dict = {\n",
    "    \"universe_id\": [universe_id],\n",
    "    \"universe_training_year\": [universe_training_year],\n",
    "    \"universe_training_size\": [universe_training_size],\n",
    "    \"universe_scale\": [universe_scale],\n",
    "    \"universe_model\": [universe_model],\n",
    "    \"universe_exclude_features\": [universe_exclude_features],\n",
    "    \"universe_exclude_subgroups\": [universe_exclude_subgroups],\n",
    "    \"q_hat\": [q_hat],\n",
    "    \"coverage\": [metrics[\"coverage\"]],\n",
    "    \"avg_size\": [metrics[\"avg_size\"]],\n",
    "}"
   ]
  },
  {
   "cell_type": "code",
   "execution_count": 49,
   "id": "0d70d4b2",
   "metadata": {
    "execution": {
     "iopub.execute_input": "2025-08-19T18:53:22.636436Z",
     "iopub.status.busy": "2025-08-19T18:53:22.636027Z",
     "iopub.status.idle": "2025-08-19T18:53:22.642767Z",
     "shell.execute_reply": "2025-08-19T18:53:22.641919Z"
    },
    "papermill": {
     "duration": 0.023324,
     "end_time": "2025-08-19T18:53:22.644134",
     "exception": false,
     "start_time": "2025-08-19T18:53:22.620810",
     "status": "completed"
    },
    "tags": []
   },
   "outputs": [],
   "source": [
    "cp_metrics_df = pd.DataFrame(cp_metrics_dict)"
   ]
  },
  {
   "cell_type": "code",
   "execution_count": 50,
   "id": "b494403c",
   "metadata": {
    "execution": {
     "iopub.execute_input": "2025-08-19T18:53:22.673064Z",
     "iopub.status.busy": "2025-08-19T18:53:22.672691Z",
     "iopub.status.idle": "2025-08-19T18:53:22.697430Z",
     "shell.execute_reply": "2025-08-19T18:53:22.696585Z"
    },
    "papermill": {
     "duration": 0.041416,
     "end_time": "2025-08-19T18:53:22.699659",
     "exception": false,
     "start_time": "2025-08-19T18:53:22.658243",
     "status": "completed"
    },
    "tags": []
   },
   "outputs": [
    {
     "data": {
      "text/html": [
       "<div>\n",
       "<style scoped>\n",
       "    .dataframe tbody tr th:only-of-type {\n",
       "        vertical-align: middle;\n",
       "    }\n",
       "\n",
       "    .dataframe tbody tr th {\n",
       "        vertical-align: top;\n",
       "    }\n",
       "\n",
       "    .dataframe thead th {\n",
       "        text-align: right;\n",
       "    }\n",
       "</style>\n",
       "<table border=\"1\" class=\"dataframe\">\n",
       "  <thead>\n",
       "    <tr style=\"text-align: right;\">\n",
       "      <th></th>\n",
       "      <th>universe_id</th>\n",
       "      <th>universe_training_year</th>\n",
       "      <th>universe_training_size</th>\n",
       "      <th>universe_scale</th>\n",
       "      <th>universe_model</th>\n",
       "      <th>universe_exclude_features</th>\n",
       "      <th>universe_exclude_subgroups</th>\n",
       "      <th>q_hat</th>\n",
       "      <th>coverage</th>\n",
       "      <th>avg_size</th>\n",
       "    </tr>\n",
       "  </thead>\n",
       "  <tbody>\n",
       "    <tr>\n",
       "      <th>0</th>\n",
       "      <td>5977f41926dd718ec10bd837828d3a0a</td>\n",
       "      <td>2014</td>\n",
       "      <td>1k</td>\n",
       "      <td>do-not-scale</td>\n",
       "      <td>logreg</td>\n",
       "      <td>nationality-sex</td>\n",
       "      <td>drop-non-german</td>\n",
       "      <td>0.698255</td>\n",
       "      <td>0.908594</td>\n",
       "      <td>1.250307</td>\n",
       "    </tr>\n",
       "  </tbody>\n",
       "</table>\n",
       "</div>"
      ],
      "text/plain": [
       "                        universe_id universe_training_year  \\\n",
       "0  5977f41926dd718ec10bd837828d3a0a                   2014   \n",
       "\n",
       "  universe_training_size universe_scale universe_model  \\\n",
       "0                     1k   do-not-scale         logreg   \n",
       "\n",
       "  universe_exclude_features universe_exclude_subgroups     q_hat  coverage  \\\n",
       "0           nationality-sex            drop-non-german  0.698255  0.908594   \n",
       "\n",
       "   avg_size  \n",
       "0  1.250307  "
      ]
     },
     "execution_count": 50,
     "metadata": {},
     "output_type": "execute_result"
    }
   ],
   "source": [
    "cp_metrics_df"
   ]
  },
  {
   "cell_type": "markdown",
   "id": "ed608b0b",
   "metadata": {
    "papermill": {
     "duration": 0.012882,
     "end_time": "2025-08-19T18:53:22.732740",
     "exception": false,
     "start_time": "2025-08-19T18:53:22.719858",
     "status": "completed"
    },
    "tags": []
   },
   "source": [
    "Conditional coverage & looking at subgroups"
   ]
  },
  {
   "cell_type": "code",
   "execution_count": 51,
   "id": "8968c366",
   "metadata": {
    "execution": {
     "iopub.execute_input": "2025-08-19T18:53:22.760630Z",
     "iopub.status.busy": "2025-08-19T18:53:22.760207Z",
     "iopub.status.idle": "2025-08-19T18:53:23.042120Z",
     "shell.execute_reply": "2025-08-19T18:53:23.040655Z"
    },
    "papermill": {
     "duration": 0.300532,
     "end_time": "2025-08-19T18:53:23.046332",
     "exception": false,
     "start_time": "2025-08-19T18:53:22.745800",
     "status": "completed"
    },
    "tags": []
   },
   "outputs": [],
   "source": [
    "from fairness_multiverse.conformal import build_cp_groups\n",
    "\n",
    "cp_groups_df = build_cp_groups(pred_sets, y_true, X_test.index, org_test)"
   ]
  },
  {
   "cell_type": "code",
   "execution_count": 52,
   "id": "292ddabf",
   "metadata": {
    "execution": {
     "iopub.execute_input": "2025-08-19T18:53:23.087735Z",
     "iopub.status.busy": "2025-08-19T18:53:23.086470Z",
     "iopub.status.idle": "2025-08-19T18:53:23.944709Z",
     "shell.execute_reply": "2025-08-19T18:53:23.943451Z"
    },
    "papermill": {
     "duration": 0.874869,
     "end_time": "2025-08-19T18:53:23.946369",
     "exception": false,
     "start_time": "2025-08-19T18:53:23.071500",
     "status": "completed"
    },
    "tags": []
   },
   "outputs": [],
   "source": [
    "# Define covered = 1 if true_label is in the predicted set\n",
    "cp_groups_df['covered'] = cp_groups_df.apply(\n",
    "    lambda r: int(r['true_label'] in r['pred_set']),\n",
    "    axis=1\n",
    ")"
   ]
  },
  {
   "cell_type": "code",
   "execution_count": 53,
   "id": "3a261692",
   "metadata": {
    "execution": {
     "iopub.execute_input": "2025-08-19T18:53:23.975896Z",
     "iopub.status.busy": "2025-08-19T18:53:23.975404Z",
     "iopub.status.idle": "2025-08-19T18:53:23.987998Z",
     "shell.execute_reply": "2025-08-19T18:53:23.987270Z"
    },
    "papermill": {
     "duration": 0.027302,
     "end_time": "2025-08-19T18:53:23.989299",
     "exception": false,
     "start_time": "2025-08-19T18:53:23.961997",
     "status": "completed"
    },
    "tags": []
   },
   "outputs": [],
   "source": [
    "subgroups = ['frau1','nongerman','nongerman_male','nongerman_female']\n",
    "\n",
    "# Conditional coverage for subgroup==1\n",
    "cond_coverage = {\n",
    "    g: cp_groups_df.loc[cp_groups_df[g]==1, 'covered'].mean()\n",
    "    for g in subgroups\n",
    "}"
   ]
  },
  {
   "cell_type": "code",
   "execution_count": 54,
   "id": "894fd600",
   "metadata": {
    "execution": {
     "iopub.execute_input": "2025-08-19T18:53:24.016002Z",
     "iopub.status.busy": "2025-08-19T18:53:24.015057Z",
     "iopub.status.idle": "2025-08-19T18:53:24.037795Z",
     "shell.execute_reply": "2025-08-19T18:53:24.036767Z"
    },
    "papermill": {
     "duration": 0.037837,
     "end_time": "2025-08-19T18:53:24.039560",
     "exception": false,
     "start_time": "2025-08-19T18:53:24.001723",
     "status": "completed"
    },
    "tags": []
   },
   "outputs": [
    {
     "data": {
      "text/plain": [
       "{'frau1': 0.9083973581345195,\n",
       " 'nongerman': 0.9403806208948521,\n",
       " 'nongerman_male': 0.9507340358461677,\n",
       " 'nongerman_female': 0.9232488822652757}"
      ]
     },
     "execution_count": 54,
     "metadata": {},
     "output_type": "execute_result"
    }
   ],
   "source": [
    "cond_coverage"
   ]
  },
  {
   "cell_type": "code",
   "execution_count": 55,
   "id": "942895c7",
   "metadata": {
    "execution": {
     "iopub.execute_input": "2025-08-19T18:53:24.092061Z",
     "iopub.status.busy": "2025-08-19T18:53:24.091652Z",
     "iopub.status.idle": "2025-08-19T18:53:24.099473Z",
     "shell.execute_reply": "2025-08-19T18:53:24.098002Z"
    },
    "papermill": {
     "duration": 0.038128,
     "end_time": "2025-08-19T18:53:24.100794",
     "exception": false,
     "start_time": "2025-08-19T18:53:24.062666",
     "status": "completed"
    },
    "tags": []
   },
   "outputs": [],
   "source": [
    "for subgroup, cov in cond_coverage.items():\n",
    "    cp_metrics_df[f\"cov_{subgroup}\"] = cov"
   ]
  },
  {
   "cell_type": "code",
   "execution_count": 56,
   "id": "3970120f",
   "metadata": {
    "execution": {
     "iopub.execute_input": "2025-08-19T18:53:24.129915Z",
     "iopub.status.busy": "2025-08-19T18:53:24.129053Z",
     "iopub.status.idle": "2025-08-19T18:53:24.153627Z",
     "shell.execute_reply": "2025-08-19T18:53:24.152412Z"
    },
    "papermill": {
     "duration": 0.041026,
     "end_time": "2025-08-19T18:53:24.155026",
     "exception": false,
     "start_time": "2025-08-19T18:53:24.114000",
     "status": "completed"
    },
    "tags": []
   },
   "outputs": [
    {
     "data": {
      "text/html": [
       "<div>\n",
       "<style scoped>\n",
       "    .dataframe tbody tr th:only-of-type {\n",
       "        vertical-align: middle;\n",
       "    }\n",
       "\n",
       "    .dataframe tbody tr th {\n",
       "        vertical-align: top;\n",
       "    }\n",
       "\n",
       "    .dataframe thead th {\n",
       "        text-align: right;\n",
       "    }\n",
       "</style>\n",
       "<table border=\"1\" class=\"dataframe\">\n",
       "  <thead>\n",
       "    <tr style=\"text-align: right;\">\n",
       "      <th></th>\n",
       "      <th>universe_id</th>\n",
       "      <th>universe_training_year</th>\n",
       "      <th>universe_training_size</th>\n",
       "      <th>universe_scale</th>\n",
       "      <th>universe_model</th>\n",
       "      <th>universe_exclude_features</th>\n",
       "      <th>universe_exclude_subgroups</th>\n",
       "      <th>q_hat</th>\n",
       "      <th>coverage</th>\n",
       "      <th>avg_size</th>\n",
       "      <th>cov_frau1</th>\n",
       "      <th>cov_nongerman</th>\n",
       "      <th>cov_nongerman_male</th>\n",
       "      <th>cov_nongerman_female</th>\n",
       "    </tr>\n",
       "  </thead>\n",
       "  <tbody>\n",
       "    <tr>\n",
       "      <th>0</th>\n",
       "      <td>5977f41926dd718ec10bd837828d3a0a</td>\n",
       "      <td>2014</td>\n",
       "      <td>1k</td>\n",
       "      <td>do-not-scale</td>\n",
       "      <td>logreg</td>\n",
       "      <td>nationality-sex</td>\n",
       "      <td>drop-non-german</td>\n",
       "      <td>0.698255</td>\n",
       "      <td>0.908594</td>\n",
       "      <td>1.250307</td>\n",
       "      <td>0.908397</td>\n",
       "      <td>0.940381</td>\n",
       "      <td>0.950734</td>\n",
       "      <td>0.923249</td>\n",
       "    </tr>\n",
       "  </tbody>\n",
       "</table>\n",
       "</div>"
      ],
      "text/plain": [
       "                        universe_id universe_training_year  \\\n",
       "0  5977f41926dd718ec10bd837828d3a0a                   2014   \n",
       "\n",
       "  universe_training_size universe_scale universe_model  \\\n",
       "0                     1k   do-not-scale         logreg   \n",
       "\n",
       "  universe_exclude_features universe_exclude_subgroups     q_hat  coverage  \\\n",
       "0           nationality-sex            drop-non-german  0.698255  0.908594   \n",
       "\n",
       "   avg_size  cov_frau1  cov_nongerman  cov_nongerman_male  \\\n",
       "0  1.250307   0.908397       0.940381            0.950734   \n",
       "\n",
       "   cov_nongerman_female  \n",
       "0              0.923249  "
      ]
     },
     "execution_count": 56,
     "metadata": {},
     "output_type": "execute_result"
    }
   ],
   "source": [
    "cp_metrics_df"
   ]
  },
  {
   "cell_type": "markdown",
   "id": "3fc519cc",
   "metadata": {
    "papermill": {
     "duration": 0.016866,
     "end_time": "2025-08-19T18:53:24.185870",
     "exception": false,
     "start_time": "2025-08-19T18:53:24.169004",
     "status": "completed"
    },
    "tags": []
   },
   "source": [
    "# (Fairness) Metrics"
   ]
  },
  {
   "cell_type": "code",
   "execution_count": 57,
   "id": "a2e5e155",
   "metadata": {
    "execution": {
     "iopub.execute_input": "2025-08-19T18:53:24.215908Z",
     "iopub.status.busy": "2025-08-19T18:53:24.215504Z",
     "iopub.status.idle": "2025-08-19T18:53:24.231193Z",
     "shell.execute_reply": "2025-08-19T18:53:24.230127Z"
    },
    "papermill": {
     "duration": 0.043249,
     "end_time": "2025-08-19T18:53:24.245345",
     "exception": false,
     "start_time": "2025-08-19T18:53:24.202096",
     "status": "completed"
    },
    "tags": []
   },
   "outputs": [],
   "source": [
    "colname_to_bin = \"maxdeutsch1\"\n",
    "majority_value = org_train[colname_to_bin].mode()[0]\n",
    "\n",
    "org_test[\"majmin\"] = np.where(org_test[colname_to_bin] == majority_value, \"majority\", \"minority\")"
   ]
  },
  {
   "cell_type": "code",
   "execution_count": 58,
   "id": "17e3e4d5",
   "metadata": {
    "execution": {
     "iopub.execute_input": "2025-08-19T18:53:24.274631Z",
     "iopub.status.busy": "2025-08-19T18:53:24.274177Z",
     "iopub.status.idle": "2025-08-19T18:53:26.251694Z",
     "shell.execute_reply": "2025-08-19T18:53:26.250171Z"
    },
    "papermill": {
     "duration": 1.995192,
     "end_time": "2025-08-19T18:53:26.255787",
     "exception": false,
     "start_time": "2025-08-19T18:53:24.260595",
     "status": "completed"
    },
    "tags": []
   },
   "outputs": [],
   "source": [
    "example_universe = universe.copy()\n",
    "example_universe[\"cutoff\"] = example_universe[\"cutoff\"][0]\n",
    "example_universe[\"eval_fairness_grouping\"] = example_universe[\"eval_fairness_grouping\"][0]\n",
    "fairness_dict, metric_frame = universe_analysis.compute_metrics(\n",
    "    example_universe,\n",
    "    y_pred_prob=probs_test,\n",
    "    y_test=y_true,\n",
    "    org_test=org_test,\n",
    ")"
   ]
  },
  {
   "cell_type": "markdown",
   "id": "1fb7a0e9",
   "metadata": {
    "papermill": {
     "duration": 0.012902,
     "end_time": "2025-08-19T18:53:26.293059",
     "exception": false,
     "start_time": "2025-08-19T18:53:26.280157",
     "status": "completed"
    },
    "tags": []
   },
   "source": [
    "# Overall"
   ]
  },
  {
   "cell_type": "markdown",
   "id": "be1784b1",
   "metadata": {
    "papermill": {
     "duration": 0.01232,
     "end_time": "2025-08-19T18:53:26.317780",
     "exception": false,
     "start_time": "2025-08-19T18:53:26.305460",
     "status": "completed"
    },
    "tags": []
   },
   "source": [
    "Main fairness target: Equalized Odds. Seems to be a better fit than equal opportunity, since we're not only interested in Y = 1. Seems to be a better fit than demographic parity, since we also care about accuracy, not just equal distribution of preds.\n",
    "\n",
    "Pick column for computation of fairness metrics\n",
    "\n",
    "Performance\n",
    "Overall performance measures, most interesting in relation to the measures split by group below"
   ]
  },
  {
   "cell_type": "code",
   "execution_count": 59,
   "id": "b7672bee",
   "metadata": {
    "execution": {
     "iopub.execute_input": "2025-08-19T18:53:26.346716Z",
     "iopub.status.busy": "2025-08-19T18:53:26.345572Z",
     "iopub.status.idle": "2025-08-19T18:53:26.365547Z",
     "shell.execute_reply": "2025-08-19T18:53:26.364034Z"
    },
    "papermill": {
     "duration": 0.039154,
     "end_time": "2025-08-19T18:53:26.369563",
     "exception": false,
     "start_time": "2025-08-19T18:53:26.330409",
     "status": "completed"
    },
    "tags": []
   },
   "outputs": [
    {
     "data": {
      "text/plain": [
       "accuracy                   0.216665\n",
       "balanced accuracy          0.531390\n",
       "f1                         0.238208\n",
       "precision                  0.136080\n",
       "false positive rate        0.891946\n",
       "false negative rate        0.045273\n",
       "selection rate             0.900000\n",
       "count                  89710.000000\n",
       "dtype: float64"
      ]
     },
     "execution_count": 59,
     "metadata": {},
     "output_type": "execute_result"
    }
   ],
   "source": [
    "metric_frame.overall"
   ]
  },
  {
   "cell_type": "markdown",
   "id": "d93333c9",
   "metadata": {
    "papermill": {
     "duration": 0.013812,
     "end_time": "2025-08-19T18:53:26.396576",
     "exception": false,
     "start_time": "2025-08-19T18:53:26.382764",
     "status": "completed"
    },
    "tags": []
   },
   "source": [
    "By Group"
   ]
  },
  {
   "cell_type": "code",
   "execution_count": 60,
   "id": "52256966",
   "metadata": {
    "execution": {
     "iopub.execute_input": "2025-08-19T18:53:26.427834Z",
     "iopub.status.busy": "2025-08-19T18:53:26.426728Z",
     "iopub.status.idle": "2025-08-19T18:53:26.462401Z",
     "shell.execute_reply": "2025-08-19T18:53:26.460645Z"
    },
    "papermill": {
     "duration": 0.051757,
     "end_time": "2025-08-19T18:53:26.464329",
     "exception": false,
     "start_time": "2025-08-19T18:53:26.412572",
     "status": "completed"
    },
    "tags": []
   },
   "outputs": [
    {
     "data": {
      "text/html": [
       "<div>\n",
       "<style scoped>\n",
       "    .dataframe tbody tr th:only-of-type {\n",
       "        vertical-align: middle;\n",
       "    }\n",
       "\n",
       "    .dataframe tbody tr th {\n",
       "        vertical-align: top;\n",
       "    }\n",
       "\n",
       "    .dataframe thead th {\n",
       "        text-align: right;\n",
       "    }\n",
       "</style>\n",
       "<table border=\"1\" class=\"dataframe\">\n",
       "  <thead>\n",
       "    <tr style=\"text-align: right;\">\n",
       "      <th></th>\n",
       "      <th>accuracy</th>\n",
       "      <th>balanced accuracy</th>\n",
       "      <th>f1</th>\n",
       "      <th>precision</th>\n",
       "      <th>false positive rate</th>\n",
       "      <th>false negative rate</th>\n",
       "      <th>selection rate</th>\n",
       "      <th>count</th>\n",
       "    </tr>\n",
       "    <tr>\n",
       "      <th>majmin</th>\n",
       "      <th></th>\n",
       "      <th></th>\n",
       "      <th></th>\n",
       "      <th></th>\n",
       "      <th></th>\n",
       "      <th></th>\n",
       "      <th></th>\n",
       "      <th></th>\n",
       "    </tr>\n",
       "  </thead>\n",
       "  <tbody>\n",
       "    <tr>\n",
       "      <th>majority</th>\n",
       "      <td>0.237068</td>\n",
       "      <td>0.538889</td>\n",
       "      <td>0.247426</td>\n",
       "      <td>0.142255</td>\n",
       "      <td>0.871348</td>\n",
       "      <td>0.050875</td>\n",
       "      <td>0.881625</td>\n",
       "      <td>69170.0</td>\n",
       "    </tr>\n",
       "    <tr>\n",
       "      <th>minority</th>\n",
       "      <td>0.147955</td>\n",
       "      <td>0.508179</td>\n",
       "      <td>0.208994</td>\n",
       "      <td>0.117022</td>\n",
       "      <td>0.959993</td>\n",
       "      <td>0.023649</td>\n",
       "      <td>0.961879</td>\n",
       "      <td>20540.0</td>\n",
       "    </tr>\n",
       "  </tbody>\n",
       "</table>\n",
       "</div>"
      ],
      "text/plain": [
       "          accuracy  balanced accuracy        f1  precision  \\\n",
       "majmin                                                       \n",
       "majority  0.237068           0.538889  0.247426   0.142255   \n",
       "minority  0.147955           0.508179  0.208994   0.117022   \n",
       "\n",
       "          false positive rate  false negative rate  selection rate    count  \n",
       "majmin                                                                       \n",
       "majority             0.871348             0.050875        0.881625  69170.0  \n",
       "minority             0.959993             0.023649        0.961879  20540.0  "
      ]
     },
     "execution_count": 60,
     "metadata": {},
     "output_type": "execute_result"
    }
   ],
   "source": [
    "metric_frame.by_group"
   ]
  },
  {
   "cell_type": "code",
   "execution_count": 61,
   "id": "6e6c20ae",
   "metadata": {
    "execution": {
     "iopub.execute_input": "2025-08-19T18:53:26.496392Z",
     "iopub.status.busy": "2025-08-19T18:53:26.495892Z",
     "iopub.status.idle": "2025-08-19T18:53:28.321756Z",
     "shell.execute_reply": "2025-08-19T18:53:28.320572Z"
    },
    "papermill": {
     "duration": 1.868661,
     "end_time": "2025-08-19T18:53:28.350358",
     "exception": false,
     "start_time": "2025-08-19T18:53:26.481697",
     "status": "completed"
    },
    "tags": []
   },
   "outputs": [
    {
     "data": {
      "text/plain": [
       "array([[<Axes: title={'center': 'accuracy'}, xlabel='majmin'>,\n",
       "        <Axes: title={'center': 'balanced accuracy'}, xlabel='majmin'>,\n",
       "        <Axes: title={'center': 'f1'}, xlabel='majmin'>],\n",
       "       [<Axes: title={'center': 'precision'}, xlabel='majmin'>,\n",
       "        <Axes: title={'center': 'false positive rate'}, xlabel='majmin'>,\n",
       "        <Axes: title={'center': 'false negative rate'}, xlabel='majmin'>],\n",
       "       [<Axes: title={'center': 'selection rate'}, xlabel='majmin'>,\n",
       "        <Axes: title={'center': 'count'}, xlabel='majmin'>,\n",
       "        <Axes: xlabel='majmin'>]], dtype=object)"
      ]
     },
     "execution_count": 61,
     "metadata": {},
     "output_type": "execute_result"
    },
    {
     "data": {
      "image/png": "[encoded data removed]",
      "text/plain": [
       "<Figure size 1200x800 with 9 Axes>"
      ]
     },
     "metadata": {},
     "output_type": "display_data"
    }
   ],
   "source": [
    "# In a graphic\n",
    "metric_frame.by_group.plot.bar(\n",
    "    subplots=True,\n",
    "    layout=[3, 3],\n",
    "    legend=False,\n",
    "    figsize=[12, 8],\n",
    "    title=\"Show all metrics\",\n",
    ")"
   ]
  },
  {
   "cell_type": "markdown",
   "id": "b2e433ae",
   "metadata": {
    "papermill": {
     "duration": 0.014123,
     "end_time": "2025-08-19T18:53:28.390985",
     "exception": false,
     "start_time": "2025-08-19T18:53:28.376862",
     "status": "completed"
    },
    "tags": []
   },
   "source": [
    "# Final Output"
   ]
  },
  {
   "cell_type": "code",
   "execution_count": 62,
   "id": "3871301e",
   "metadata": {
    "execution": {
     "iopub.execute_input": "2025-08-19T18:53:28.423105Z",
     "iopub.status.busy": "2025-08-19T18:53:28.422048Z",
     "iopub.status.idle": "2025-08-19T18:53:28.434458Z",
     "shell.execute_reply": "2025-08-19T18:53:28.433592Z"
    },
    "papermill": {
     "duration": 0.029958,
     "end_time": "2025-08-19T18:53:28.435901",
     "exception": false,
     "start_time": "2025-08-19T18:53:28.405943",
     "status": "completed"
    },
    "tags": []
   },
   "outputs": [
    {
     "data": {
      "text/plain": [
       "4"
      ]
     },
     "execution_count": 62,
     "metadata": {},
     "output_type": "execute_result"
    }
   ],
   "source": [
    "sub_universes = universe_analysis.generate_sub_universes()\n",
    "len(sub_universes)"
   ]
  },
  {
   "cell_type": "code",
   "execution_count": 63,
   "id": "d9cfdaca",
   "metadata": {
    "execution": {
     "iopub.execute_input": "2025-08-19T18:53:28.471861Z",
     "iopub.status.busy": "2025-08-19T18:53:28.471465Z",
     "iopub.status.idle": "2025-08-19T18:53:28.489313Z",
     "shell.execute_reply": "2025-08-19T18:53:28.488057Z"
    },
    "papermill": {
     "duration": 0.035256,
     "end_time": "2025-08-19T18:53:28.491129",
     "exception": false,
     "start_time": "2025-08-19T18:53:28.455873",
     "status": "completed"
    },
    "tags": []
   },
   "outputs": [],
   "source": [
    "def filter_sub_universe_data(sub_universe, org_test):\n",
    "    # Keep all rows — no filtering\n",
    "    keep_rows_mask = np.ones(org_test.shape[0], dtype=bool)\n",
    "\n",
    "    print(f\"[INFO] Keeping all rows: {keep_rows_mask.sum()} rows retained.\")\n",
    "    return keep_rows_mask"
   ]
  },
  {
   "cell_type": "code",
   "execution_count": 64,
   "id": "2bc31ac1",
   "metadata": {
    "execution": {
     "iopub.execute_input": "2025-08-19T18:53:28.543750Z",
     "iopub.status.busy": "2025-08-19T18:53:28.542510Z",
     "iopub.status.idle": "2025-08-19T18:53:35.326115Z",
     "shell.execute_reply": "2025-08-19T18:53:35.325097Z"
    },
    "papermill": {
     "duration": 6.81143,
     "end_time": "2025-08-19T18:53:35.327349",
     "exception": false,
     "start_time": "2025-08-19T18:53:28.515919",
     "status": "completed"
    },
    "tags": []
   },
   "outputs": [
    {
     "name": "stdout",
     "output_type": "stream",
     "text": [
      "Stopping execution_time clock.\n",
      "[INFO] Keeping all rows: 89710 rows retained.\n"
     ]
    },
    {
     "name": "stdout",
     "output_type": "stream",
     "text": [
      "[INFO] Keeping all rows: 89710 rows retained.\n"
     ]
    },
    {
     "name": "stdout",
     "output_type": "stream",
     "text": [
      "[INFO] Keeping all rows: 89710 rows retained.\n"
     ]
    },
    {
     "name": "stdout",
     "output_type": "stream",
     "text": [
      "[INFO] Keeping all rows: 89710 rows retained.\n"
     ]
    },
    {
     "data": {
      "text/html": [
       "<div>\n",
       "<style scoped>\n",
       "    .dataframe tbody tr th:only-of-type {\n",
       "        vertical-align: middle;\n",
       "    }\n",
       "\n",
       "    .dataframe tbody tr th {\n",
       "        vertical-align: top;\n",
       "    }\n",
       "\n",
       "    .dataframe thead th {\n",
       "        text-align: right;\n",
       "    }\n",
       "</style>\n",
       "<table border=\"1\" class=\"dataframe\">\n",
       "  <thead>\n",
       "    <tr style=\"text-align: right;\">\n",
       "      <th></th>\n",
       "      <th>run_no</th>\n",
       "      <th>universe_id</th>\n",
       "      <th>universe_settings</th>\n",
       "      <th>execution_time</th>\n",
       "      <th>test_size_n</th>\n",
       "      <th>test_size_frac</th>\n",
       "      <th>fair_main_equalized_odds_difference</th>\n",
       "      <th>fair_main_equalized_odds_ratio</th>\n",
       "      <th>fair_main_demographic_parity_difference</th>\n",
       "      <th>fair_main_demographic_parity_ratio</th>\n",
       "      <th>...</th>\n",
       "      <th>perf_grp_precision_0</th>\n",
       "      <th>perf_grp_precision_1</th>\n",
       "      <th>perf_grp_false positive rate_0</th>\n",
       "      <th>perf_grp_false positive rate_1</th>\n",
       "      <th>perf_grp_false negative rate_0</th>\n",
       "      <th>perf_grp_false negative rate_1</th>\n",
       "      <th>perf_grp_selection rate_0</th>\n",
       "      <th>perf_grp_selection rate_1</th>\n",
       "      <th>perf_grp_count_0</th>\n",
       "      <th>perf_grp_count_1</th>\n",
       "    </tr>\n",
       "  </thead>\n",
       "  <tbody>\n",
       "    <tr>\n",
       "      <th>0</th>\n",
       "      <td>3</td>\n",
       "      <td>5977f41926dd718ec10bd837828d3a0a</td>\n",
       "      <td>{\"cutoff\": \"quantile_0.1\", \"eval_fairness_grou...</td>\n",
       "      <td>20.24702</td>\n",
       "      <td>89710</td>\n",
       "      <td>1.0</td>\n",
       "      <td>0.088646</td>\n",
       "      <td>0.907660</td>\n",
       "      <td>0.080254</td>\n",
       "      <td>0.916565</td>\n",
       "      <td>...</td>\n",
       "      <td>NaN</td>\n",
       "      <td>NaN</td>\n",
       "      <td>NaN</td>\n",
       "      <td>NaN</td>\n",
       "      <td>NaN</td>\n",
       "      <td>NaN</td>\n",
       "      <td>NaN</td>\n",
       "      <td>NaN</td>\n",
       "      <td>NaN</td>\n",
       "      <td>NaN</td>\n",
       "    </tr>\n",
       "    <tr>\n",
       "      <th>0</th>\n",
       "      <td>3</td>\n",
       "      <td>5977f41926dd718ec10bd837828d3a0a</td>\n",
       "      <td>{\"cutoff\": \"quantile_0.1\", \"eval_fairness_grou...</td>\n",
       "      <td>20.24702</td>\n",
       "      <td>89710</td>\n",
       "      <td>1.0</td>\n",
       "      <td>0.088646</td>\n",
       "      <td>0.907660</td>\n",
       "      <td>0.080254</td>\n",
       "      <td>0.916565</td>\n",
       "      <td>...</td>\n",
       "      <td>0.117022</td>\n",
       "      <td>0.142255</td>\n",
       "      <td>0.959993</td>\n",
       "      <td>0.871348</td>\n",
       "      <td>0.023649</td>\n",
       "      <td>0.050875</td>\n",
       "      <td>0.961879</td>\n",
       "      <td>0.881625</td>\n",
       "      <td>20540.0</td>\n",
       "      <td>69170.0</td>\n",
       "    </tr>\n",
       "    <tr>\n",
       "      <th>0</th>\n",
       "      <td>3</td>\n",
       "      <td>5977f41926dd718ec10bd837828d3a0a</td>\n",
       "      <td>{\"cutoff\": \"quantile_0.25\", \"eval_fairness_gro...</td>\n",
       "      <td>20.24702</td>\n",
       "      <td>89710</td>\n",
       "      <td>1.0</td>\n",
       "      <td>0.205738</td>\n",
       "      <td>0.768975</td>\n",
       "      <td>0.188362</td>\n",
       "      <td>0.789594</td>\n",
       "      <td>...</td>\n",
       "      <td>NaN</td>\n",
       "      <td>NaN</td>\n",
       "      <td>NaN</td>\n",
       "      <td>NaN</td>\n",
       "      <td>NaN</td>\n",
       "      <td>NaN</td>\n",
       "      <td>NaN</td>\n",
       "      <td>NaN</td>\n",
       "      <td>NaN</td>\n",
       "      <td>NaN</td>\n",
       "    </tr>\n",
       "    <tr>\n",
       "      <th>0</th>\n",
       "      <td>3</td>\n",
       "      <td>5977f41926dd718ec10bd837828d3a0a</td>\n",
       "      <td>{\"cutoff\": \"quantile_0.25\", \"eval_fairness_gro...</td>\n",
       "      <td>20.24702</td>\n",
       "      <td>89710</td>\n",
       "      <td>1.0</td>\n",
       "      <td>0.205738</td>\n",
       "      <td>0.768975</td>\n",
       "      <td>0.188362</td>\n",
       "      <td>0.789594</td>\n",
       "      <td>...</td>\n",
       "      <td>0.119915</td>\n",
       "      <td>0.159222</td>\n",
       "      <td>0.890546</td>\n",
       "      <td>0.684808</td>\n",
       "      <td>0.068834</td>\n",
       "      <td>0.148249</td>\n",
       "      <td>0.895229</td>\n",
       "      <td>0.706867</td>\n",
       "      <td>20540.0</td>\n",
       "      <td>69170.0</td>\n",
       "    </tr>\n",
       "  </tbody>\n",
       "</table>\n",
       "<p>4 rows × 50 columns</p>\n",
       "</div>"
      ],
      "text/plain": [
       "  run_no                       universe_id  \\\n",
       "0      3  5977f41926dd718ec10bd837828d3a0a   \n",
       "0      3  5977f41926dd718ec10bd837828d3a0a   \n",
       "0      3  5977f41926dd718ec10bd837828d3a0a   \n",
       "0      3  5977f41926dd718ec10bd837828d3a0a   \n",
       "\n",
       "                                   universe_settings  execution_time  \\\n",
       "0  {\"cutoff\": \"quantile_0.1\", \"eval_fairness_grou...        20.24702   \n",
       "0  {\"cutoff\": \"quantile_0.1\", \"eval_fairness_grou...        20.24702   \n",
       "0  {\"cutoff\": \"quantile_0.25\", \"eval_fairness_gro...        20.24702   \n",
       "0  {\"cutoff\": \"quantile_0.25\", \"eval_fairness_gro...        20.24702   \n",
       "\n",
       "   test_size_n  test_size_frac  fair_main_equalized_odds_difference  \\\n",
       "0        89710             1.0                             0.088646   \n",
       "0        89710             1.0                             0.088646   \n",
       "0        89710             1.0                             0.205738   \n",
       "0        89710             1.0                             0.205738   \n",
       "\n",
       "   fair_main_equalized_odds_ratio  fair_main_demographic_parity_difference  \\\n",
       "0                        0.907660                                 0.080254   \n",
       "0                        0.907660                                 0.080254   \n",
       "0                        0.768975                                 0.188362   \n",
       "0                        0.768975                                 0.188362   \n",
       "\n",
       "   fair_main_demographic_parity_ratio  ...  perf_grp_precision_0  \\\n",
       "0                            0.916565  ...                   NaN   \n",
       "0                            0.916565  ...              0.117022   \n",
       "0                            0.789594  ...                   NaN   \n",
       "0                            0.789594  ...              0.119915   \n",
       "\n",
       "   perf_grp_precision_1  perf_grp_false positive rate_0  \\\n",
       "0                   NaN                             NaN   \n",
       "0              0.142255                        0.959993   \n",
       "0                   NaN                             NaN   \n",
       "0              0.159222                        0.890546   \n",
       "\n",
       "   perf_grp_false positive rate_1  perf_grp_false negative rate_0  \\\n",
       "0                             NaN                             NaN   \n",
       "0                        0.871348                        0.023649   \n",
       "0                             NaN                             NaN   \n",
       "0                        0.684808                        0.068834   \n",
       "\n",
       "   perf_grp_false negative rate_1  perf_grp_selection rate_0  \\\n",
       "0                             NaN                        NaN   \n",
       "0                        0.050875                   0.961879   \n",
       "0                             NaN                        NaN   \n",
       "0                        0.148249                   0.895229   \n",
       "\n",
       "   perf_grp_selection rate_1  perf_grp_count_0  perf_grp_count_1  \n",
       "0                        NaN               NaN               NaN  \n",
       "0                   0.881625           20540.0           69170.0  \n",
       "0                        NaN               NaN               NaN  \n",
       "0                   0.706867           20540.0           69170.0  \n",
       "\n",
       "[4 rows x 50 columns]"
      ]
     },
     "execution_count": 64,
     "metadata": {},
     "output_type": "execute_result"
    }
   ],
   "source": [
    "final_output = universe_analysis.generate_final_output(\n",
    "    y_pred_prob=probs_test,\n",
    "    y_test=y_true,\n",
    "    org_test=org_test,\n",
    "    filter_data=filter_sub_universe_data,\n",
    "    cp_metrics_df=cp_metrics_df,\n",
    "    save=True,\n",
    ")\n",
    "final_output"
   ]
  },
  {
   "cell_type": "code",
   "execution_count": null,
   "id": "8b80a1ff",
   "metadata": {
    "papermill": {
     "duration": 0.014592,
     "end_time": "2025-08-19T18:53:35.360308",
     "exception": false,
     "start_time": "2025-08-19T18:53:35.345716",
     "status": "completed"
    },
    "tags": []
   },
   "outputs": [],
   "source": []
  },
  {
   "cell_type": "code",
   "execution_count": null,
   "id": "275c9fad",
   "metadata": {
    "papermill": {
     "duration": 0.014432,
     "end_time": "2025-08-19T18:53:35.389191",
     "exception": false,
     "start_time": "2025-08-19T18:53:35.374759",
     "status": "completed"
    },
    "tags": []
   },
   "outputs": [],
   "source": []
  }
 ],
 "metadata": {
  "celltoolbar": "Tags",
  "kernelspec": {
   "display_name": "Python (CMA Fairness)",
   "language": "python",
   "name": "cma_fair_env"
  },
  "language_info": {
   "codemirror_mode": {
    "name": "ipython",
    "version": 3
   },
   "file_extension": ".py",
   "mimetype": "text/x-python",
   "name": "python",
   "nbconvert_exporter": "python",
   "pygments_lexer": "ipython3",
   "version": "3.10.12"
  },
  "papermill": {
   "default_parameters": {},
   "duration": 30.589377,
   "end_time": "2025-08-19T18:53:36.140218",
   "environment_variables": {},
   "exception": null,
   "input_path": "universe_analysis.ipynb",
   "output_path": "output/runs/3/notebooks/m_3-5977f41926dd718ec10bd837828d3a0a.ipynb",
   "parameters": {
    "output_dir": "output",
    "run_no": "3",
    "seed": "2023",
    "universe": "{\"cutoff\": [\"quantile_0.1\", \"quantile_0.25\"], \"eval_fairness_grouping\": [\"majority-minority\", \"nationality-all\"], \"exclude_features\": \"nationality-sex\", \"exclude_subgroups\": \"drop-non-german\", \"model\": \"logreg\", \"scale\": \"do-not-scale\", \"training_size\": \"1k\", \"training_year\": \"2014\"}",
    "universe_id": "5977f41926dd718ec10bd837828d3a0a"
   },
   "start_time": "2025-08-19T18:53:05.550841",
   "version": "2.6.0"
  }
 },
 "nbformat": 4,
 "nbformat_minor": 5
}