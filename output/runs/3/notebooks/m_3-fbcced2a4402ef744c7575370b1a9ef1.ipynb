{
 "cells": [
  {
   "cell_type": "markdown",
   "id": "ef23dbb3",
   "metadata": {
    "papermill": {
     "duration": 0.013855,
     "end_time": "2025-08-19T18:33:48.868377",
     "exception": false,
     "start_time": "2025-08-19T18:33:48.854522",
     "status": "completed"
    },
    "tags": []
   },
   "source": [
    "# Setup"
   ]
  },
  {
   "cell_type": "code",
   "execution_count": 1,
   "id": "0bc8e7dc",
   "metadata": {
    "execution": {
     "iopub.execute_input": "2025-08-19T18:33:48.898890Z",
     "iopub.status.busy": "2025-08-19T18:33:48.898584Z",
     "iopub.status.idle": "2025-08-19T18:33:48.908973Z",
     "shell.execute_reply": "2025-08-19T18:33:48.907873Z"
    },
    "papermill": {
     "duration": 0.02222,
     "end_time": "2025-08-19T18:33:48.910226",
     "exception": false,
     "start_time": "2025-08-19T18:33:48.888006",
     "status": "completed"
    },
    "tags": []
   },
   "outputs": [
    {
     "name": "stdout",
     "output_type": "stream",
     "text": [
      "/dss/dsshome1/0C/ra93lal2/cma/CMA_Fairness_v2\n"
     ]
    },
    {
     "name": "stderr",
     "output_type": "stream",
     "text": [
      "/dss/dsshome1/0C/ra93lal2/.local/share/virtualenvs/CMA_Fairness_v2-3j10GkSs/lib/python3.10/site-packages/IPython/core/magics/osm.py:393: UserWarning: This is now an optional IPython functionality, using bookmarks requires you to install the `pickleshare` library.\n",
      "  bkms = self.shell.db.get('bookmarks', {})\n",
      "/dss/dsshome1/0C/ra93lal2/.local/share/virtualenvs/CMA_Fairness_v2-3j10GkSs/lib/python3.10/site-packages/IPython/core/magics/osm.py:417: UserWarning: This is now an optional IPython functionality, setting dhist requires you to install the `pickleshare` library.\n",
      "  self.shell.db['dhist'] = compress_dhist(dhist)[-100:]\n"
     ]
    }
   ],
   "source": [
    "%cd ~/cma/CMA_Fairness_v2"
   ]
  },
  {
   "cell_type": "markdown",
   "id": "9d235661",
   "metadata": {
    "papermill": {
     "duration": 0.025635,
     "end_time": "2025-08-19T18:33:48.962269",
     "exception": false,
     "start_time": "2025-08-19T18:33:48.936634",
     "status": "completed"
    },
    "tags": []
   },
   "source": [
    "The following cell holds the definition of our parameters, these values can be overriden by rendering the with e.g. the following command:\n",
    "\n",
    "papermill -p alpha 0.2 -p ratio 0.3 universe_analysis.ipynb output/test_run.ipynb"
   ]
  },
  {
   "cell_type": "code",
   "execution_count": 2,
   "id": "4a789d8e",
   "metadata": {
    "execution": {
     "iopub.execute_input": "2025-08-19T18:33:48.983832Z",
     "iopub.status.busy": "2025-08-19T18:33:48.983459Z",
     "iopub.status.idle": "2025-08-19T18:33:48.988989Z",
     "shell.execute_reply": "2025-08-19T18:33:48.987592Z"
    },
    "papermill": {
     "duration": 0.016973,
     "end_time": "2025-08-19T18:33:48.990331",
     "exception": false,
     "start_time": "2025-08-19T18:33:48.973358",
     "status": "completed"
    },
    "tags": []
   },
   "outputs": [
    {
     "name": "stdout",
     "output_type": "stream",
     "text": [
      "Current working directory: /dss/dsshome1/0C/ra93lal2/cma/CMA_Fairness_v2\n"
     ]
    }
   ],
   "source": [
    "import os\n",
    "print(\"Current working directory:\", os.getcwd())"
   ]
  },
  {
   "cell_type": "code",
   "execution_count": 3,
   "id": "4132aaed",
   "metadata": {
    "execution": {
     "iopub.execute_input": "2025-08-19T18:33:49.018019Z",
     "iopub.status.busy": "2025-08-19T18:33:49.017656Z",
     "iopub.status.idle": "2025-08-19T18:33:49.022647Z",
     "shell.execute_reply": "2025-08-19T18:33:49.021756Z"
    },
    "papermill": {
     "duration": 0.016995,
     "end_time": "2025-08-19T18:33:49.023988",
     "exception": false,
     "start_time": "2025-08-19T18:33:49.006993",
     "status": "completed"
    },
    "tags": [
     "parameters"
    ]
   },
   "outputs": [],
   "source": [
    "run_no = 0\n",
    "universe_id = \"test\"\n",
    "universe = {\n",
    "    \"training_size\": \"5k\", # \"25k\", \"5k\", \"1k\"\n",
    "    \"training_year\": \"2012_14\", # \"2014\", \"2012_14\", \"2010_14\"\n",
    "    \"scale\": \"scale\", # \"scale\", \"do-not-scale\",\n",
    "    \"model\": \"elasticnet\", # \"logreg\", \"penalized_logreg\", \"rf\", \"gbm\", \"elasticnet\"\n",
    "    \"cutoff\": [\"quantile_0.15\", \"quantile_0.30\"],\n",
    "    \"exclude_features\": \"age\", # \"none\", \"nationality\", \"sex\", \"nationality-sex\", \"age\"\n",
    "    \"exclude_subgroups\": \"drop-non-german\", # \"keep-all\", \"drop-non-german\"\n",
    "    \"eval_fairness_grouping\": [\"majority-minority\", \"nationality-all\"]\n",
    "}\n",
    "\n",
    "output_dir=\"./output\"\n",
    "seed=0"
   ]
  },
  {
   "cell_type": "code",
   "execution_count": 4,
   "id": "602f5e52",
   "metadata": {
    "execution": {
     "iopub.execute_input": "2025-08-19T18:33:49.043570Z",
     "iopub.status.busy": "2025-08-19T18:33:49.043314Z",
     "iopub.status.idle": "2025-08-19T18:33:49.048279Z",
     "shell.execute_reply": "2025-08-19T18:33:49.047174Z"
    },
    "papermill": {
     "duration": 0.016409,
     "end_time": "2025-08-19T18:33:49.049726",
     "exception": false,
     "start_time": "2025-08-19T18:33:49.033317",
     "status": "completed"
    },
    "tags": [
     "injected-parameters"
    ]
   },
   "outputs": [],
   "source": [
    "# Parameters\n",
    "universe_id = \"fbcced2a4402ef744c7575370b1a9ef1\"\n",
    "run_no = \"3\"\n",
    "universe = \"{\\\"cutoff\\\": [\\\"quantile_0.1\\\", \\\"quantile_0.25\\\"], \\\"eval_fairness_grouping\\\": [\\\"majority-minority\\\", \\\"nationality-all\\\"], \\\"exclude_features\\\": \\\"nationality-sex\\\", \\\"exclude_subgroups\\\": \\\"keep-all\\\", \\\"model\\\": \\\"gbm\\\", \\\"scale\\\": \\\"scale\\\", \\\"training_size\\\": \\\"5k\\\", \\\"training_year\\\": \\\"2012_14\\\"}\"\n",
    "output_dir = \"output\"\n",
    "seed = \"2023\"\n"
   ]
  },
  {
   "cell_type": "code",
   "execution_count": 5,
   "id": "a5d7941f",
   "metadata": {
    "execution": {
     "iopub.execute_input": "2025-08-19T18:33:49.070182Z",
     "iopub.status.busy": "2025-08-19T18:33:49.069109Z",
     "iopub.status.idle": "2025-08-19T18:33:49.075490Z",
     "shell.execute_reply": "2025-08-19T18:33:49.073894Z"
    },
    "papermill": {
     "duration": 0.017934,
     "end_time": "2025-08-19T18:33:49.077079",
     "exception": false,
     "start_time": "2025-08-19T18:33:49.059145",
     "status": "completed"
    },
    "tags": []
   },
   "outputs": [],
   "source": [
    "import json\n",
    "if isinstance(universe, str):\n",
    "    universe = json.loads(universe)"
   ]
  },
  {
   "cell_type": "code",
   "execution_count": 6,
   "id": "7076ccb1",
   "metadata": {
    "execution": {
     "iopub.execute_input": "2025-08-19T18:33:49.097381Z",
     "iopub.status.busy": "2025-08-19T18:33:49.096522Z",
     "iopub.status.idle": "2025-08-19T18:33:49.171664Z",
     "shell.execute_reply": "2025-08-19T18:33:49.169963Z"
    },
    "papermill": {
     "duration": 0.087863,
     "end_time": "2025-08-19T18:33:49.174194",
     "exception": false,
     "start_time": "2025-08-19T18:33:49.086331",
     "status": "completed"
    },
    "tags": []
   },
   "outputs": [],
   "source": [
    "# Auto-reload the custom package\n",
    "%load_ext autoreload\n",
    "%autoreload 1\n",
    "%aimport fairness_multiverse"
   ]
  },
  {
   "cell_type": "code",
   "execution_count": 7,
   "id": "94c8eb93",
   "metadata": {
    "execution": {
     "iopub.execute_input": "2025-08-19T18:33:49.210751Z",
     "iopub.status.busy": "2025-08-19T18:33:49.209621Z",
     "iopub.status.idle": "2025-08-19T18:33:50.755122Z",
     "shell.execute_reply": "2025-08-19T18:33:50.754098Z"
    },
    "papermill": {
     "duration": 1.560193,
     "end_time": "2025-08-19T18:33:50.756706",
     "exception": false,
     "start_time": "2025-08-19T18:33:49.196513",
     "status": "completed"
    },
    "tags": []
   },
   "outputs": [],
   "source": [
    "from fairness_multiverse.universe import UniverseAnalysis\n",
    "\n",
    "universe_analysis = UniverseAnalysis(\n",
    "    run_no = run_no,\n",
    "    universe_id = universe_id,\n",
    "    universe = universe,\n",
    "    output_dir=output_dir,\n",
    ")"
   ]
  },
  {
   "cell_type": "code",
   "execution_count": 8,
   "id": "2a6381cf",
   "metadata": {
    "execution": {
     "iopub.execute_input": "2025-08-19T18:33:50.783764Z",
     "iopub.status.busy": "2025-08-19T18:33:50.783340Z",
     "iopub.status.idle": "2025-08-19T18:33:50.789387Z",
     "shell.execute_reply": "2025-08-19T18:33:50.788459Z"
    },
    "papermill": {
     "duration": 0.022456,
     "end_time": "2025-08-19T18:33:50.791075",
     "exception": false,
     "start_time": "2025-08-19T18:33:50.768619",
     "status": "completed"
    },
    "tags": []
   },
   "outputs": [
    {
     "name": "stdout",
     "output_type": "stream",
     "text": [
      "Using Seed: 2023\n"
     ]
    }
   ],
   "source": [
    "import numpy as np\n",
    "parsed_seed = int(seed)\n",
    "np.random.seed(parsed_seed)\n",
    "print(f\"Using Seed: {parsed_seed}\")"
   ]
  },
  {
   "cell_type": "markdown",
   "id": "b6e958b4",
   "metadata": {
    "papermill": {
     "duration": 0.008861,
     "end_time": "2025-08-19T18:33:50.809106",
     "exception": false,
     "start_time": "2025-08-19T18:33:50.800245",
     "status": "completed"
    },
    "tags": []
   },
   "source": [
    "# Loading Data"
   ]
  },
  {
   "cell_type": "code",
   "execution_count": 9,
   "id": "98701482",
   "metadata": {
    "execution": {
     "iopub.execute_input": "2025-08-19T18:33:50.828204Z",
     "iopub.status.busy": "2025-08-19T18:33:50.827817Z",
     "iopub.status.idle": "2025-08-19T18:34:00.747874Z",
     "shell.execute_reply": "2025-08-19T18:34:00.745461Z"
    },
    "papermill": {
     "duration": 9.93186,
     "end_time": "2025-08-19T18:34:00.749939",
     "exception": false,
     "start_time": "2025-08-19T18:33:50.818079",
     "status": "completed"
    },
    "tags": []
   },
   "outputs": [
    {
     "name": "stdout",
     "output_type": "stream",
     "text": [
      "Loading SIAB data from cache: data/siab_cached.csv.gz\n"
     ]
    },
    {
     "name": "stdout",
     "output_type": "stream",
     "text": [
      "(643690, 164)\n"
     ]
    }
   ],
   "source": [
    "from pathlib import Path\n",
    "import pandas as pd\n",
    "\n",
    "# File paths\n",
    "raw_file = Path(\"data/raw/siab.csv\")\n",
    "cache_file = Path(\"data/siab_cached.csv.gz\")\n",
    "\n",
    "# Ensure cache directory exists\n",
    "cache_file.parent.mkdir(parents=True, exist_ok=True)\n",
    "\n",
    "# Load with simple caching\n",
    "if cache_file.exists():\n",
    "    print(f\"Loading SIAB data from cache: {cache_file}\")\n",
    "    siab = pd.read_csv(cache_file, compression='gzip')\n",
    "else:\n",
    "    print(f\"Cache not found. Reading raw SIAB data: {raw_file}\")\n",
    "    siab = pd.read_csv(raw_file)\n",
    "    siab.to_csv(cache_file, index=False, compression='gzip')\n",
    "    print(f\"Cached SIAB data to: {cache_file}\")\n",
    "\n",
    "print(siab.shape)"
   ]
  },
  {
   "cell_type": "code",
   "execution_count": 10,
   "id": "058d2abb",
   "metadata": {
    "execution": {
     "iopub.execute_input": "2025-08-19T18:34:00.798560Z",
     "iopub.status.busy": "2025-08-19T18:34:00.797962Z",
     "iopub.status.idle": "2025-08-19T18:34:01.021926Z",
     "shell.execute_reply": "2025-08-19T18:34:01.020570Z"
    },
    "papermill": {
     "duration": 0.251187,
     "end_time": "2025-08-19T18:34:01.023414",
     "exception": false,
     "start_time": "2025-08-19T18:34:00.772227",
     "status": "completed"
    },
    "tags": []
   },
   "outputs": [
    {
     "data": {
      "text/html": [
       "<div>\n",
       "<style scoped>\n",
       "    .dataframe tbody tr th:only-of-type {\n",
       "        vertical-align: middle;\n",
       "    }\n",
       "\n",
       "    .dataframe tbody tr th {\n",
       "        vertical-align: top;\n",
       "    }\n",
       "\n",
       "    .dataframe thead th {\n",
       "        text-align: right;\n",
       "    }\n",
       "</style>\n",
       "<table border=\"1\" class=\"dataframe\">\n",
       "  <thead>\n",
       "    <tr style=\"text-align: right;\">\n",
       "      <th></th>\n",
       "      <th>persnr</th>\n",
       "      <th>year</th>\n",
       "      <th>nrEntry</th>\n",
       "      <th>ltue</th>\n",
       "      <th>employed_before</th>\n",
       "      <th>receipt_leh_before</th>\n",
       "      <th>receipt_lhg_before</th>\n",
       "      <th>se_before</th>\n",
       "      <th>ASU_notue_seeking_before</th>\n",
       "      <th>ASU_other_before</th>\n",
       "      <th>...</th>\n",
       "      <th>minijob_tot_dur_byage</th>\n",
       "      <th>ft_tot_dur_byage</th>\n",
       "      <th>befrist_tot_dur_byage</th>\n",
       "      <th>leih_tot_dur_byage</th>\n",
       "      <th>LHG_tot_dur_byage</th>\n",
       "      <th>LEH_tot_dur_byage</th>\n",
       "      <th>almp_tot_dur_byage</th>\n",
       "      <th>almp_aw_tot_dur_byage</th>\n",
       "      <th>se_tot_dur_byage</th>\n",
       "      <th>seeking1_tot_dur_byage</th>\n",
       "    </tr>\n",
       "  </thead>\n",
       "  <tbody>\n",
       "    <tr>\n",
       "      <th>0</th>\n",
       "      <td>7</td>\n",
       "      <td>2015</td>\n",
       "      <td>1</td>\n",
       "      <td>0</td>\n",
       "      <td>1</td>\n",
       "      <td>0</td>\n",
       "      <td>0</td>\n",
       "      <td>0</td>\n",
       "      <td>1</td>\n",
       "      <td>0</td>\n",
       "      <td>...</td>\n",
       "      <td>0.000000</td>\n",
       "      <td>0.000000</td>\n",
       "      <td>15.043478</td>\n",
       "      <td>0.000000</td>\n",
       "      <td>0.000000</td>\n",
       "      <td>0.000000</td>\n",
       "      <td>0.000000</td>\n",
       "      <td>0.000000</td>\n",
       "      <td>0.000000</td>\n",
       "      <td>0.000000</td>\n",
       "    </tr>\n",
       "    <tr>\n",
       "      <th>1</th>\n",
       "      <td>18</td>\n",
       "      <td>2010</td>\n",
       "      <td>1</td>\n",
       "      <td>1</td>\n",
       "      <td>0</td>\n",
       "      <td>0</td>\n",
       "      <td>0</td>\n",
       "      <td>0</td>\n",
       "      <td>0</td>\n",
       "      <td>0</td>\n",
       "      <td>...</td>\n",
       "      <td>0.000000</td>\n",
       "      <td>0.000000</td>\n",
       "      <td>0.000000</td>\n",
       "      <td>0.000000</td>\n",
       "      <td>0.000000</td>\n",
       "      <td>0.000000</td>\n",
       "      <td>0.000000</td>\n",
       "      <td>0.000000</td>\n",
       "      <td>0.000000</td>\n",
       "      <td>0.000000</td>\n",
       "    </tr>\n",
       "    <tr>\n",
       "      <th>2</th>\n",
       "      <td>18</td>\n",
       "      <td>2011</td>\n",
       "      <td>2</td>\n",
       "      <td>0</td>\n",
       "      <td>1</td>\n",
       "      <td>0</td>\n",
       "      <td>1</td>\n",
       "      <td>0</td>\n",
       "      <td>1</td>\n",
       "      <td>0</td>\n",
       "      <td>...</td>\n",
       "      <td>2.714286</td>\n",
       "      <td>2.714286</td>\n",
       "      <td>0.000000</td>\n",
       "      <td>0.000000</td>\n",
       "      <td>10.775510</td>\n",
       "      <td>0.000000</td>\n",
       "      <td>8.367347</td>\n",
       "      <td>0.000000</td>\n",
       "      <td>0.000000</td>\n",
       "      <td>9.836735</td>\n",
       "    </tr>\n",
       "    <tr>\n",
       "      <th>3</th>\n",
       "      <td>18</td>\n",
       "      <td>2012</td>\n",
       "      <td>3</td>\n",
       "      <td>0</td>\n",
       "      <td>1</td>\n",
       "      <td>0</td>\n",
       "      <td>1</td>\n",
       "      <td>0</td>\n",
       "      <td>1</td>\n",
       "      <td>0</td>\n",
       "      <td>...</td>\n",
       "      <td>4.200000</td>\n",
       "      <td>4.200000</td>\n",
       "      <td>0.000000</td>\n",
       "      <td>0.000000</td>\n",
       "      <td>12.100000</td>\n",
       "      <td>0.000000</td>\n",
       "      <td>9.400000</td>\n",
       "      <td>0.000000</td>\n",
       "      <td>0.000000</td>\n",
       "      <td>9.960000</td>\n",
       "    </tr>\n",
       "    <tr>\n",
       "      <th>4</th>\n",
       "      <td>18</td>\n",
       "      <td>2012</td>\n",
       "      <td>4</td>\n",
       "      <td>0</td>\n",
       "      <td>1</td>\n",
       "      <td>0</td>\n",
       "      <td>1</td>\n",
       "      <td>0</td>\n",
       "      <td>1</td>\n",
       "      <td>0</td>\n",
       "      <td>...</td>\n",
       "      <td>5.460000</td>\n",
       "      <td>5.460000</td>\n",
       "      <td>0.000000</td>\n",
       "      <td>0.000000</td>\n",
       "      <td>13.360000</td>\n",
       "      <td>0.000000</td>\n",
       "      <td>10.320000</td>\n",
       "      <td>0.000000</td>\n",
       "      <td>0.000000</td>\n",
       "      <td>10.280000</td>\n",
       "    </tr>\n",
       "    <tr>\n",
       "      <th>...</th>\n",
       "      <td>...</td>\n",
       "      <td>...</td>\n",
       "      <td>...</td>\n",
       "      <td>...</td>\n",
       "      <td>...</td>\n",
       "      <td>...</td>\n",
       "      <td>...</td>\n",
       "      <td>...</td>\n",
       "      <td>...</td>\n",
       "      <td>...</td>\n",
       "      <td>...</td>\n",
       "      <td>...</td>\n",
       "      <td>...</td>\n",
       "      <td>...</td>\n",
       "      <td>...</td>\n",
       "      <td>...</td>\n",
       "      <td>...</td>\n",
       "      <td>...</td>\n",
       "      <td>...</td>\n",
       "      <td>...</td>\n",
       "      <td>...</td>\n",
       "    </tr>\n",
       "    <tr>\n",
       "      <th>643685</th>\n",
       "      <td>1827860</td>\n",
       "      <td>2013</td>\n",
       "      <td>1</td>\n",
       "      <td>0</td>\n",
       "      <td>0</td>\n",
       "      <td>0</td>\n",
       "      <td>1</td>\n",
       "      <td>0</td>\n",
       "      <td>0</td>\n",
       "      <td>1</td>\n",
       "      <td>...</td>\n",
       "      <td>0.000000</td>\n",
       "      <td>0.000000</td>\n",
       "      <td>0.000000</td>\n",
       "      <td>0.000000</td>\n",
       "      <td>0.612903</td>\n",
       "      <td>0.000000</td>\n",
       "      <td>0.000000</td>\n",
       "      <td>0.000000</td>\n",
       "      <td>0.000000</td>\n",
       "      <td>0.000000</td>\n",
       "    </tr>\n",
       "    <tr>\n",
       "      <th>643686</th>\n",
       "      <td>1827860</td>\n",
       "      <td>2015</td>\n",
       "      <td>2</td>\n",
       "      <td>1</td>\n",
       "      <td>0</td>\n",
       "      <td>0</td>\n",
       "      <td>1</td>\n",
       "      <td>0</td>\n",
       "      <td>1</td>\n",
       "      <td>0</td>\n",
       "      <td>...</td>\n",
       "      <td>0.000000</td>\n",
       "      <td>0.000000</td>\n",
       "      <td>0.212121</td>\n",
       "      <td>0.212121</td>\n",
       "      <td>17.363636</td>\n",
       "      <td>0.000000</td>\n",
       "      <td>8.909091</td>\n",
       "      <td>0.000000</td>\n",
       "      <td>0.000000</td>\n",
       "      <td>7.121212</td>\n",
       "    </tr>\n",
       "    <tr>\n",
       "      <th>643687</th>\n",
       "      <td>1827860</td>\n",
       "      <td>2016</td>\n",
       "      <td>3</td>\n",
       "      <td>1</td>\n",
       "      <td>0</td>\n",
       "      <td>0</td>\n",
       "      <td>1</td>\n",
       "      <td>1</td>\n",
       "      <td>0</td>\n",
       "      <td>1</td>\n",
       "      <td>...</td>\n",
       "      <td>0.000000</td>\n",
       "      <td>0.000000</td>\n",
       "      <td>0.294118</td>\n",
       "      <td>0.205882</td>\n",
       "      <td>34.705882</td>\n",
       "      <td>0.000000</td>\n",
       "      <td>10.352941</td>\n",
       "      <td>1.705882</td>\n",
       "      <td>1.705882</td>\n",
       "      <td>23.911765</td>\n",
       "    </tr>\n",
       "    <tr>\n",
       "      <th>643688</th>\n",
       "      <td>1827869</td>\n",
       "      <td>2013</td>\n",
       "      <td>1</td>\n",
       "      <td>1</td>\n",
       "      <td>1</td>\n",
       "      <td>0</td>\n",
       "      <td>0</td>\n",
       "      <td>0</td>\n",
       "      <td>1</td>\n",
       "      <td>0</td>\n",
       "      <td>...</td>\n",
       "      <td>0.000000</td>\n",
       "      <td>0.000000</td>\n",
       "      <td>0.000000</td>\n",
       "      <td>0.000000</td>\n",
       "      <td>0.000000</td>\n",
       "      <td>0.525424</td>\n",
       "      <td>0.000000</td>\n",
       "      <td>0.000000</td>\n",
       "      <td>0.000000</td>\n",
       "      <td>0.000000</td>\n",
       "    </tr>\n",
       "    <tr>\n",
       "      <th>643689</th>\n",
       "      <td>1827869</td>\n",
       "      <td>2014</td>\n",
       "      <td>2</td>\n",
       "      <td>0</td>\n",
       "      <td>0</td>\n",
       "      <td>1</td>\n",
       "      <td>0</td>\n",
       "      <td>0</td>\n",
       "      <td>1</td>\n",
       "      <td>0</td>\n",
       "      <td>...</td>\n",
       "      <td>0.000000</td>\n",
       "      <td>0.666667</td>\n",
       "      <td>0.666667</td>\n",
       "      <td>0.000000</td>\n",
       "      <td>0.000000</td>\n",
       "      <td>8.950000</td>\n",
       "      <td>1.033333</td>\n",
       "      <td>0.083333</td>\n",
       "      <td>0.083333</td>\n",
       "      <td>8.133333</td>\n",
       "    </tr>\n",
       "  </tbody>\n",
       "</table>\n",
       "<p>643690 rows × 164 columns</p>\n",
       "</div>"
      ],
      "text/plain": [
       "         persnr  year  nrEntry  ltue  employed_before  receipt_leh_before  \\\n",
       "0             7  2015        1     0                1                   0   \n",
       "1            18  2010        1     1                0                   0   \n",
       "2            18  2011        2     0                1                   0   \n",
       "3            18  2012        3     0                1                   0   \n",
       "4            18  2012        4     0                1                   0   \n",
       "...         ...   ...      ...   ...              ...                 ...   \n",
       "643685  1827860  2013        1     0                0                   0   \n",
       "643686  1827860  2015        2     1                0                   0   \n",
       "643687  1827860  2016        3     1                0                   0   \n",
       "643688  1827869  2013        1     1                1                   0   \n",
       "643689  1827869  2014        2     0                0                   1   \n",
       "\n",
       "        receipt_lhg_before  se_before  ASU_notue_seeking_before  \\\n",
       "0                        0          0                         1   \n",
       "1                        0          0                         0   \n",
       "2                        1          0                         1   \n",
       "3                        1          0                         1   \n",
       "4                        1          0                         1   \n",
       "...                    ...        ...                       ...   \n",
       "643685                   1          0                         0   \n",
       "643686                   1          0                         1   \n",
       "643687                   1          1                         0   \n",
       "643688                   0          0                         1   \n",
       "643689                   0          0                         1   \n",
       "\n",
       "        ASU_other_before  ...  minijob_tot_dur_byage  ft_tot_dur_byage  \\\n",
       "0                      0  ...               0.000000          0.000000   \n",
       "1                      0  ...               0.000000          0.000000   \n",
       "2                      0  ...               2.714286          2.714286   \n",
       "3                      0  ...               4.200000          4.200000   \n",
       "4                      0  ...               5.460000          5.460000   \n",
       "...                  ...  ...                    ...               ...   \n",
       "643685                 1  ...               0.000000          0.000000   \n",
       "643686                 0  ...               0.000000          0.000000   \n",
       "643687                 1  ...               0.000000          0.000000   \n",
       "643688                 0  ...               0.000000          0.000000   \n",
       "643689                 0  ...               0.000000          0.666667   \n",
       "\n",
       "        befrist_tot_dur_byage  leih_tot_dur_byage  LHG_tot_dur_byage  \\\n",
       "0                   15.043478            0.000000           0.000000   \n",
       "1                    0.000000            0.000000           0.000000   \n",
       "2                    0.000000            0.000000          10.775510   \n",
       "3                    0.000000            0.000000          12.100000   \n",
       "4                    0.000000            0.000000          13.360000   \n",
       "...                       ...                 ...                ...   \n",
       "643685               0.000000            0.000000           0.612903   \n",
       "643686               0.212121            0.212121          17.363636   \n",
       "643687               0.294118            0.205882          34.705882   \n",
       "643688               0.000000            0.000000           0.000000   \n",
       "643689               0.666667            0.000000           0.000000   \n",
       "\n",
       "        LEH_tot_dur_byage  almp_tot_dur_byage  almp_aw_tot_dur_byage  \\\n",
       "0                0.000000            0.000000               0.000000   \n",
       "1                0.000000            0.000000               0.000000   \n",
       "2                0.000000            8.367347               0.000000   \n",
       "3                0.000000            9.400000               0.000000   \n",
       "4                0.000000           10.320000               0.000000   \n",
       "...                   ...                 ...                    ...   \n",
       "643685           0.000000            0.000000               0.000000   \n",
       "643686           0.000000            8.909091               0.000000   \n",
       "643687           0.000000           10.352941               1.705882   \n",
       "643688           0.525424            0.000000               0.000000   \n",
       "643689           8.950000            1.033333               0.083333   \n",
       "\n",
       "        se_tot_dur_byage  seeking1_tot_dur_byage  \n",
       "0               0.000000                0.000000  \n",
       "1               0.000000                0.000000  \n",
       "2               0.000000                9.836735  \n",
       "3               0.000000                9.960000  \n",
       "4               0.000000               10.280000  \n",
       "...                  ...                     ...  \n",
       "643685          0.000000                0.000000  \n",
       "643686          0.000000                7.121212  \n",
       "643687          1.705882               23.911765  \n",
       "643688          0.000000                0.000000  \n",
       "643689          0.083333                8.133333  \n",
       "\n",
       "[643690 rows x 164 columns]"
      ]
     },
     "execution_count": 10,
     "metadata": {},
     "output_type": "execute_result"
    }
   ],
   "source": [
    "siab"
   ]
  },
  {
   "cell_type": "markdown",
   "id": "1f87e805",
   "metadata": {
    "papermill": {
     "duration": 0.01038,
     "end_time": "2025-08-19T18:34:01.044959",
     "exception": false,
     "start_time": "2025-08-19T18:34:01.034579",
     "status": "completed"
    },
    "tags": []
   },
   "source": [
    "# Splitting Data and Setting Training Data Size"
   ]
  },
  {
   "cell_type": "code",
   "execution_count": 11,
   "id": "910ae358",
   "metadata": {
    "execution": {
     "iopub.execute_input": "2025-08-19T18:34:01.066688Z",
     "iopub.status.busy": "2025-08-19T18:34:01.066267Z",
     "iopub.status.idle": "2025-08-19T18:34:01.741740Z",
     "shell.execute_reply": "2025-08-19T18:34:01.740253Z"
    },
    "papermill": {
     "duration": 0.688929,
     "end_time": "2025-08-19T18:34:01.743504",
     "exception": false,
     "start_time": "2025-08-19T18:34:01.054575",
     "status": "completed"
    },
    "tags": []
   },
   "outputs": [],
   "source": [
    "from fairness_multiverse.universe import sample_by_year_size\n",
    "\n",
    "siab_train = sample_by_year_size(siab,\n",
    "                               training_year=universe[\"training_year\"],\n",
    "                               training_size=universe[\"training_size\"])"
   ]
  },
  {
   "cell_type": "code",
   "execution_count": 12,
   "id": "919c8ff5",
   "metadata": {
    "execution": {
     "iopub.execute_input": "2025-08-19T18:34:01.771550Z",
     "iopub.status.busy": "2025-08-19T18:34:01.770623Z",
     "iopub.status.idle": "2025-08-19T18:34:01.782126Z",
     "shell.execute_reply": "2025-08-19T18:34:01.780240Z"
    },
    "papermill": {
     "duration": 0.026884,
     "end_time": "2025-08-19T18:34:01.783873",
     "exception": false,
     "start_time": "2025-08-19T18:34:01.756989",
     "status": "completed"
    },
    "tags": []
   },
   "outputs": [
    {
     "data": {
      "text/plain": [
       "(5000, 164)"
      ]
     },
     "execution_count": 12,
     "metadata": {},
     "output_type": "execute_result"
    }
   ],
   "source": [
    "siab_train.shape"
   ]
  },
  {
   "cell_type": "code",
   "execution_count": 13,
   "id": "feb13bf4",
   "metadata": {
    "execution": {
     "iopub.execute_input": "2025-08-19T18:34:01.810868Z",
     "iopub.status.busy": "2025-08-19T18:34:01.809670Z",
     "iopub.status.idle": "2025-08-19T18:34:01.827760Z",
     "shell.execute_reply": "2025-08-19T18:34:01.826010Z"
    },
    "papermill": {
     "duration": 0.032591,
     "end_time": "2025-08-19T18:34:01.829881",
     "exception": false,
     "start_time": "2025-08-19T18:34:01.797290",
     "status": "completed"
    },
    "tags": []
   },
   "outputs": [
    {
     "data": {
      "text/plain": [
       "year\n",
       "2012    1667\n",
       "2013    1667\n",
       "2014    1666\n",
       "dtype: int64"
      ]
     },
     "metadata": {},
     "output_type": "display_data"
    }
   ],
   "source": [
    "display(siab_train.groupby(\"year\").size())"
   ]
  },
  {
   "cell_type": "code",
   "execution_count": 14,
   "id": "0997782f",
   "metadata": {
    "execution": {
     "iopub.execute_input": "2025-08-19T18:34:01.861560Z",
     "iopub.status.busy": "2025-08-19T18:34:01.859527Z",
     "iopub.status.idle": "2025-08-19T18:34:02.170689Z",
     "shell.execute_reply": "2025-08-19T18:34:02.169554Z"
    },
    "papermill": {
     "duration": 0.325628,
     "end_time": "2025-08-19T18:34:02.172465",
     "exception": false,
     "start_time": "2025-08-19T18:34:01.846837",
     "status": "completed"
    },
    "tags": []
   },
   "outputs": [],
   "source": [
    "#siab_train = siab_s[siab_s.year < 2015]\n",
    "siab_calib = siab[siab.year == 2015]\n",
    "siab_test = siab[siab.year == 2016]"
   ]
  },
  {
   "cell_type": "code",
   "execution_count": 15,
   "id": "2c1e4012",
   "metadata": {
    "execution": {
     "iopub.execute_input": "2025-08-19T18:34:02.201514Z",
     "iopub.status.busy": "2025-08-19T18:34:02.200725Z",
     "iopub.status.idle": "2025-08-19T18:34:02.207848Z",
     "shell.execute_reply": "2025-08-19T18:34:02.206453Z"
    },
    "papermill": {
     "duration": 0.020165,
     "end_time": "2025-08-19T18:34:02.209483",
     "exception": false,
     "start_time": "2025-08-19T18:34:02.189318",
     "status": "completed"
    },
    "tags": []
   },
   "outputs": [],
   "source": [
    "#siab_calib.shape"
   ]
  },
  {
   "cell_type": "code",
   "execution_count": 16,
   "id": "f66b54ca",
   "metadata": {
    "execution": {
     "iopub.execute_input": "2025-08-19T18:34:02.236220Z",
     "iopub.status.busy": "2025-08-19T18:34:02.234224Z",
     "iopub.status.idle": "2025-08-19T18:34:02.242956Z",
     "shell.execute_reply": "2025-08-19T18:34:02.241477Z"
    },
    "papermill": {
     "duration": 0.022523,
     "end_time": "2025-08-19T18:34:02.244712",
     "exception": false,
     "start_time": "2025-08-19T18:34:02.222189",
     "status": "completed"
    },
    "tags": []
   },
   "outputs": [],
   "source": [
    "#siab_test.shape"
   ]
  },
  {
   "cell_type": "code",
   "execution_count": 17,
   "id": "27e4384d",
   "metadata": {
    "execution": {
     "iopub.execute_input": "2025-08-19T18:34:02.283950Z",
     "iopub.status.busy": "2025-08-19T18:34:02.270906Z",
     "iopub.status.idle": "2025-08-19T18:34:02.299620Z",
     "shell.execute_reply": "2025-08-19T18:34:02.298688Z"
    },
    "papermill": {
     "duration": 0.051456,
     "end_time": "2025-08-19T18:34:02.309463",
     "exception": false,
     "start_time": "2025-08-19T18:34:02.258007",
     "status": "completed"
    },
    "tags": []
   },
   "outputs": [],
   "source": [
    "X_train = siab_train.iloc[:,4:164]\n",
    "y_train = siab_train.iloc[:, [3]]"
   ]
  },
  {
   "cell_type": "code",
   "execution_count": 18,
   "id": "08ee8389",
   "metadata": {
    "execution": {
     "iopub.execute_input": "2025-08-19T18:34:02.345508Z",
     "iopub.status.busy": "2025-08-19T18:34:02.345124Z",
     "iopub.status.idle": "2025-08-19T18:34:02.405674Z",
     "shell.execute_reply": "2025-08-19T18:34:02.404876Z"
    },
    "papermill": {
     "duration": 0.07835,
     "end_time": "2025-08-19T18:34:02.406970",
     "exception": false,
     "start_time": "2025-08-19T18:34:02.328620",
     "status": "completed"
    },
    "tags": []
   },
   "outputs": [],
   "source": [
    "X_calib = siab_calib.iloc[:,4:164]\n",
    "y_calib = siab_calib.iloc[:, [3]]"
   ]
  },
  {
   "cell_type": "code",
   "execution_count": 19,
   "id": "b7ff42e0",
   "metadata": {
    "execution": {
     "iopub.execute_input": "2025-08-19T18:34:02.430669Z",
     "iopub.status.busy": "2025-08-19T18:34:02.429353Z",
     "iopub.status.idle": "2025-08-19T18:34:02.489736Z",
     "shell.execute_reply": "2025-08-19T18:34:02.488980Z"
    },
    "papermill": {
     "duration": 0.073349,
     "end_time": "2025-08-19T18:34:02.491103",
     "exception": false,
     "start_time": "2025-08-19T18:34:02.417754",
     "status": "completed"
    },
    "tags": []
   },
   "outputs": [],
   "source": [
    "X_test = siab_test.iloc[:,4:164]\n",
    "y_true = siab_test.iloc[:, [3]]"
   ]
  },
  {
   "cell_type": "code",
   "execution_count": 20,
   "id": "0275101e",
   "metadata": {
    "execution": {
     "iopub.execute_input": "2025-08-19T18:34:02.514086Z",
     "iopub.status.busy": "2025-08-19T18:34:02.513718Z",
     "iopub.status.idle": "2025-08-19T18:34:02.630150Z",
     "shell.execute_reply": "2025-08-19T18:34:02.629321Z"
    },
    "papermill": {
     "duration": 0.130377,
     "end_time": "2025-08-19T18:34:02.631902",
     "exception": false,
     "start_time": "2025-08-19T18:34:02.501525",
     "status": "completed"
    },
    "tags": []
   },
   "outputs": [],
   "source": [
    "# Auxiliary data needed downstream in the pipeline\n",
    "\n",
    "org_train = X_train.copy()\n",
    "org_test = X_test.copy()\n",
    "org_calib = X_calib.copy()"
   ]
  },
  {
   "cell_type": "markdown",
   "id": "b461e618",
   "metadata": {
    "papermill": {
     "duration": 0.011018,
     "end_time": "2025-08-19T18:34:02.658906",
     "exception": false,
     "start_time": "2025-08-19T18:34:02.647888",
     "status": "completed"
    },
    "tags": []
   },
   "source": [
    "# Preprocessing Data"
   ]
  },
  {
   "cell_type": "code",
   "execution_count": 21,
   "id": "78e74c4b",
   "metadata": {
    "execution": {
     "iopub.execute_input": "2025-08-19T18:34:02.683638Z",
     "iopub.status.busy": "2025-08-19T18:34:02.681907Z",
     "iopub.status.idle": "2025-08-19T18:34:02.695992Z",
     "shell.execute_reply": "2025-08-19T18:34:02.694575Z"
    },
    "papermill": {
     "duration": 0.027765,
     "end_time": "2025-08-19T18:34:02.698027",
     "exception": false,
     "start_time": "2025-08-19T18:34:02.670262",
     "status": "completed"
    },
    "tags": []
   },
   "outputs": [],
   "source": [
    "# EXCLUDE PROTECTED FEATURES\n",
    "# --------------------------\n",
    "\n",
    "excluded_features = universe[\"exclude_features\"].split(\"-\")\n",
    "excluded_features_dictionary = {\n",
    "    \"nationality\": [\"maxdeutsch1\", \"maxdeutsch.Missing.\"],\n",
    "    \"sex\": [\"frau1\"],\n",
    "    \"age\": [\"age\"],\n",
    "}"
   ]
  },
  {
   "cell_type": "code",
   "execution_count": 22,
   "id": "f8e63555",
   "metadata": {
    "execution": {
     "iopub.execute_input": "2025-08-19T18:34:02.728094Z",
     "iopub.status.busy": "2025-08-19T18:34:02.727009Z",
     "iopub.status.idle": "2025-08-19T18:34:02.814583Z",
     "shell.execute_reply": "2025-08-19T18:34:02.813694Z"
    },
    "papermill": {
     "duration": 0.104774,
     "end_time": "2025-08-19T18:34:02.817312",
     "exception": false,
     "start_time": "2025-08-19T18:34:02.712538",
     "status": "completed"
    },
    "tags": []
   },
   "outputs": [],
   "source": [
    "excluded_features_columns = [\n",
    "    excluded_features_dictionary[f] for f in excluded_features if len(f) > 0 and f != \"none\"\n",
    "]"
   ]
  },
  {
   "cell_type": "code",
   "execution_count": 23,
   "id": "da781f7c",
   "metadata": {
    "execution": {
     "iopub.execute_input": "2025-08-19T18:34:02.839441Z",
     "iopub.status.busy": "2025-08-19T18:34:02.839162Z",
     "iopub.status.idle": "2025-08-19T18:34:02.844200Z",
     "shell.execute_reply": "2025-08-19T18:34:02.843382Z"
    },
    "papermill": {
     "duration": 0.017658,
     "end_time": "2025-08-19T18:34:02.845625",
     "exception": false,
     "start_time": "2025-08-19T18:34:02.827967",
     "status": "completed"
    },
    "tags": []
   },
   "outputs": [],
   "source": [
    "from fairness_multiverse.universe import flatten_once\n",
    "\n",
    "excluded_features_columns = flatten_once(excluded_features_columns)"
   ]
  },
  {
   "cell_type": "code",
   "execution_count": 24,
   "id": "37fef0f0",
   "metadata": {
    "execution": {
     "iopub.execute_input": "2025-08-19T18:34:02.886500Z",
     "iopub.status.busy": "2025-08-19T18:34:02.886231Z",
     "iopub.status.idle": "2025-08-19T18:34:02.898574Z",
     "shell.execute_reply": "2025-08-19T18:34:02.897841Z"
    },
    "papermill": {
     "duration": 0.044087,
     "end_time": "2025-08-19T18:34:02.901149",
     "exception": false,
     "start_time": "2025-08-19T18:34:02.857062",
     "status": "completed"
    },
    "tags": []
   },
   "outputs": [
    {
     "name": "stdout",
     "output_type": "stream",
     "text": [
      "Dropping features: ['maxdeutsch1', 'maxdeutsch.Missing.', 'frau1']\n"
     ]
    }
   ],
   "source": [
    "if len(excluded_features_columns) > 0:\n",
    "    print(f\"Dropping features: {excluded_features_columns}\")\n",
    "    X_train.drop(excluded_features_columns, axis=1, inplace=True)"
   ]
  },
  {
   "cell_type": "code",
   "execution_count": 25,
   "id": "d029e3e9",
   "metadata": {
    "execution": {
     "iopub.execute_input": "2025-08-19T18:34:02.935845Z",
     "iopub.status.busy": "2025-08-19T18:34:02.935482Z",
     "iopub.status.idle": "2025-08-19T18:34:02.992007Z",
     "shell.execute_reply": "2025-08-19T18:34:02.991279Z"
    },
    "papermill": {
     "duration": 0.070409,
     "end_time": "2025-08-19T18:34:02.993128",
     "exception": false,
     "start_time": "2025-08-19T18:34:02.922719",
     "status": "completed"
    },
    "tags": []
   },
   "outputs": [
    {
     "name": "stdout",
     "output_type": "stream",
     "text": [
      "Dropping features: ['maxdeutsch1', 'maxdeutsch.Missing.', 'frau1']\n"
     ]
    }
   ],
   "source": [
    "if len(excluded_features_columns) > 0:\n",
    "    print(f\"Dropping features: {excluded_features_columns}\")\n",
    "    X_test.drop(excluded_features_columns, axis=1, inplace=True)"
   ]
  },
  {
   "cell_type": "code",
   "execution_count": 26,
   "id": "01d571f0",
   "metadata": {
    "execution": {
     "iopub.execute_input": "2025-08-19T18:34:03.026492Z",
     "iopub.status.busy": "2025-08-19T18:34:03.026078Z",
     "iopub.status.idle": "2025-08-19T18:34:03.083852Z",
     "shell.execute_reply": "2025-08-19T18:34:03.083184Z"
    },
    "papermill": {
     "duration": 0.078763,
     "end_time": "2025-08-19T18:34:03.087738",
     "exception": false,
     "start_time": "2025-08-19T18:34:03.008975",
     "status": "completed"
    },
    "tags": []
   },
   "outputs": [
    {
     "name": "stdout",
     "output_type": "stream",
     "text": [
      "Dropping features: ['maxdeutsch1', 'maxdeutsch.Missing.', 'frau1']\n"
     ]
    }
   ],
   "source": [
    "if len(excluded_features_columns) > 0:\n",
    "    print(f\"Dropping features: {excluded_features_columns}\")\n",
    "    X_calib.drop(excluded_features_columns, axis=1, inplace=True)"
   ]
  },
  {
   "cell_type": "code",
   "execution_count": 27,
   "id": "3037356e",
   "metadata": {
    "execution": {
     "iopub.execute_input": "2025-08-19T18:34:03.116560Z",
     "iopub.status.busy": "2025-08-19T18:34:03.115556Z",
     "iopub.status.idle": "2025-08-19T18:34:03.124317Z",
     "shell.execute_reply": "2025-08-19T18:34:03.122765Z"
    },
    "papermill": {
     "duration": 0.037469,
     "end_time": "2025-08-19T18:34:03.141412",
     "exception": false,
     "start_time": "2025-08-19T18:34:03.103943",
     "status": "completed"
    },
    "tags": []
   },
   "outputs": [],
   "source": [
    "# EXCLUDE CERTAIN SUBGROUPS\n",
    "# -------------------------\n",
    "\n",
    "mode = universe.get(\"exclude_subgroups\", \"keep-all\") # Defaults to \"keep-all\" if the key is missing."
   ]
  },
  {
   "cell_type": "code",
   "execution_count": 28,
   "id": "9d1e63fd",
   "metadata": {
    "execution": {
     "iopub.execute_input": "2025-08-19T18:34:03.166775Z",
     "iopub.status.busy": "2025-08-19T18:34:03.166358Z",
     "iopub.status.idle": "2025-08-19T18:34:03.321483Z",
     "shell.execute_reply": "2025-08-19T18:34:03.319731Z"
    },
    "papermill": {
     "duration": 0.169189,
     "end_time": "2025-08-19T18:34:03.323207",
     "exception": false,
     "start_time": "2025-08-19T18:34:03.154018",
     "status": "completed"
    },
    "tags": []
   },
   "outputs": [],
   "source": [
    "if mode == \"keep-all\":\n",
    "    keep_mask = pd.Series(True, index=org_train.index)\n",
    "\n",
    "elif mode == \"drop-non-german\":\n",
    "    keep_mask = (org_train[\"maxdeutsch1\"] == 1) & (org_train[\"maxdeutsch.Missing.\"] == 0)\n",
    "\n",
    "else:\n",
    "    raise ValueError(f\"Unsupported mode for exclude_subgroups: {mode}\")"
   ]
  },
  {
   "cell_type": "code",
   "execution_count": 29,
   "id": "d3b65474",
   "metadata": {
    "execution": {
     "iopub.execute_input": "2025-08-19T18:34:03.358229Z",
     "iopub.status.busy": "2025-08-19T18:34:03.357931Z",
     "iopub.status.idle": "2025-08-19T18:34:03.362602Z",
     "shell.execute_reply": "2025-08-19T18:34:03.361962Z"
    },
    "papermill": {
     "duration": 0.025731,
     "end_time": "2025-08-19T18:34:03.364199",
     "exception": false,
     "start_time": "2025-08-19T18:34:03.338468",
     "status": "completed"
    },
    "tags": []
   },
   "outputs": [],
   "source": [
    "n_drop = (~keep_mask).sum() # Calculates how many rows are set to be dropped\n",
    "if n_drop > 0:\n",
    "    pct = n_drop / len(keep_mask) * 100\n",
    "    print(f\"Dropping {n_drop} rows ({pct:.2f}%) where mode='{mode}'\")"
   ]
  },
  {
   "cell_type": "code",
   "execution_count": 30,
   "id": "f44389b3",
   "metadata": {
    "execution": {
     "iopub.execute_input": "2025-08-19T18:34:03.396421Z",
     "iopub.status.busy": "2025-08-19T18:34:03.396134Z",
     "iopub.status.idle": "2025-08-19T18:34:03.404145Z",
     "shell.execute_reply": "2025-08-19T18:34:03.403573Z"
    },
    "papermill": {
     "duration": 0.030608,
     "end_time": "2025-08-19T18:34:03.405386",
     "exception": false,
     "start_time": "2025-08-19T18:34:03.374778",
     "status": "completed"
    },
    "tags": []
   },
   "outputs": [],
   "source": [
    "X_train = X_train[keep_mask]"
   ]
  },
  {
   "cell_type": "code",
   "execution_count": 31,
   "id": "ceca8c2a",
   "metadata": {
    "execution": {
     "iopub.execute_input": "2025-08-19T18:34:03.453945Z",
     "iopub.status.busy": "2025-08-19T18:34:03.452088Z",
     "iopub.status.idle": "2025-08-19T18:34:03.474364Z",
     "shell.execute_reply": "2025-08-19T18:34:03.464809Z"
    },
    "papermill": {
     "duration": 0.050653,
     "end_time": "2025-08-19T18:34:03.476058",
     "exception": false,
     "start_time": "2025-08-19T18:34:03.425405",
     "status": "completed"
    },
    "tags": []
   },
   "outputs": [],
   "source": [
    "y_train = y_train[keep_mask]"
   ]
  },
  {
   "cell_type": "markdown",
   "id": "04d31e2f",
   "metadata": {
    "papermill": {
     "duration": 0.010396,
     "end_time": "2025-08-19T18:34:03.499549",
     "exception": false,
     "start_time": "2025-08-19T18:34:03.489153",
     "status": "completed"
    },
    "tags": []
   },
   "source": [
    "# Model Training"
   ]
  },
  {
   "cell_type": "code",
   "execution_count": 32,
   "id": "db991733",
   "metadata": {
    "execution": {
     "iopub.execute_input": "2025-08-19T18:34:03.522064Z",
     "iopub.status.busy": "2025-08-19T18:34:03.521703Z",
     "iopub.status.idle": "2025-08-19T18:34:03.707091Z",
     "shell.execute_reply": "2025-08-19T18:34:03.706205Z"
    },
    "papermill": {
     "duration": 0.198255,
     "end_time": "2025-08-19T18:34:03.708611",
     "exception": false,
     "start_time": "2025-08-19T18:34:03.510356",
     "status": "completed"
    },
    "tags": []
   },
   "outputs": [],
   "source": [
    "from sklearn.linear_model import LogisticRegression\n",
    "from sklearn.ensemble import GradientBoostingClassifier, RandomForestClassifier\n",
    "\n",
    "if (universe[\"model\"] == \"logreg\"):\n",
    "    model = LogisticRegression() #penalty=\"none\", solver=\"newton-cg\", max_iter=1)\n",
    "elif (universe[\"model\"] == \"penalized_logreg\"):\n",
    "    model = LogisticRegression(penalty=\"l2\", C=0.1) #, solver=\"newton-cg\", max_iter=1)\n",
    "elif (universe[\"model\"] == \"rf\"):\n",
    "    model = RandomForestClassifier() # n_estimators=100, n_jobs=-1\n",
    "elif (universe[\"model\"] == \"gbm\"):\n",
    "    model = GradientBoostingClassifier()\n",
    "elif (universe[\"model\"] == \"elasticnet\"):\n",
    "    model = LogisticRegression(penalty = 'elasticnet', solver = 'saga', l1_ratio = 0.5) # max_iter=5000\n",
    "else:\n",
    "    raise \"Unsupported universe.model\""
   ]
  },
  {
   "cell_type": "code",
   "execution_count": 33,
   "id": "a4b5cd25",
   "metadata": {
    "execution": {
     "iopub.execute_input": "2025-08-19T18:34:03.733210Z",
     "iopub.status.busy": "2025-08-19T18:34:03.732264Z",
     "iopub.status.idle": "2025-08-19T18:34:03.739589Z",
     "shell.execute_reply": "2025-08-19T18:34:03.738386Z"
    },
    "papermill": {
     "duration": 0.02147,
     "end_time": "2025-08-19T18:34:03.741066",
     "exception": false,
     "start_time": "2025-08-19T18:34:03.719596",
     "status": "completed"
    },
    "tags": []
   },
   "outputs": [],
   "source": [
    "from sklearn.pipeline import Pipeline\n",
    "from sklearn.preprocessing import StandardScaler\n",
    "\n",
    "model = Pipeline([\n",
    "    #(\"continuous_processor\", continuous_processor),\n",
    "    #(\"categorical_preprocessor\", categorical_preprocessor),\n",
    "    (\"scale\", StandardScaler() if universe[\"scale\"] == \"scale\" else None), \n",
    "    (\"model\", model),\n",
    "])"
   ]
  },
  {
   "cell_type": "code",
   "execution_count": 34,
   "id": "283a904d",
   "metadata": {
    "execution": {
     "iopub.execute_input": "2025-08-19T18:34:03.768166Z",
     "iopub.status.busy": "2025-08-19T18:34:03.766876Z",
     "iopub.status.idle": "2025-08-19T18:34:08.285745Z",
     "shell.execute_reply": "2025-08-19T18:34:08.284316Z"
    },
    "papermill": {
     "duration": 4.533194,
     "end_time": "2025-08-19T18:34:08.287261",
     "exception": false,
     "start_time": "2025-08-19T18:34:03.754067",
     "status": "completed"
    },
    "tags": []
   },
   "outputs": [
    {
     "data": {
      "text/html": [
       "<style>#sk-container-id-1 {color: black;background-color: white;}#sk-container-id-1 pre{padding: 0;}#sk-container-id-1 div.sk-toggleable {background-color: white;}#sk-container-id-1 label.sk-toggleable__label {cursor: pointer;display: block;width: 100%;margin-bottom: 0;padding: 0.3em;box-sizing: border-box;text-align: center;}#sk-container-id-1 label.sk-toggleable__label-arrow:before {content: \"▸\";float: left;margin-right: 0.25em;color: #696969;}#sk-container-id-1 label.sk-toggleable__label-arrow:hover:before {color: black;}#sk-container-id-1 div.sk-estimator:hover label.sk-toggleable__label-arrow:before {color: black;}#sk-container-id-1 div.sk-toggleable__content {max-height: 0;max-width: 0;overflow: hidden;text-align: left;background-color: #f0f8ff;}#sk-container-id-1 div.sk-toggleable__content pre {margin: 0.2em;color: black;border-radius: 0.25em;background-color: #f0f8ff;}#sk-container-id-1 input.sk-toggleable__control:checked~div.sk-toggleable__content {max-height: 200px;max-width: 100%;overflow: auto;}#sk-container-id-1 input.sk-toggleable__control:checked~label.sk-toggleable__label-arrow:before {content: \"▾\";}#sk-container-id-1 div.sk-estimator input.sk-toggleable__control:checked~label.sk-toggleable__label {background-color: #d4ebff;}#sk-container-id-1 div.sk-label input.sk-toggleable__control:checked~label.sk-toggleable__label {background-color: #d4ebff;}#sk-container-id-1 input.sk-hidden--visually {border: 0;clip: rect(1px 1px 1px 1px);clip: rect(1px, 1px, 1px, 1px);height: 1px;margin: -1px;overflow: hidden;padding: 0;position: absolute;width: 1px;}#sk-container-id-1 div.sk-estimator {font-family: monospace;background-color: #f0f8ff;border: 1px dotted black;border-radius: 0.25em;box-sizing: border-box;margin-bottom: 0.5em;}#sk-container-id-1 div.sk-estimator:hover {background-color: #d4ebff;}#sk-container-id-1 div.sk-parallel-item::after {content: \"\";width: 100%;border-bottom: 1px solid gray;flex-grow: 1;}#sk-container-id-1 div.sk-label:hover label.sk-toggleable__label {background-color: #d4ebff;}#sk-container-id-1 div.sk-serial::before {content: \"\";position: absolute;border-left: 1px solid gray;box-sizing: border-box;top: 0;bottom: 0;left: 50%;z-index: 0;}#sk-container-id-1 div.sk-serial {display: flex;flex-direction: column;align-items: center;background-color: white;padding-right: 0.2em;padding-left: 0.2em;position: relative;}#sk-container-id-1 div.sk-item {position: relative;z-index: 1;}#sk-container-id-1 div.sk-parallel {display: flex;align-items: stretch;justify-content: center;background-color: white;position: relative;}#sk-container-id-1 div.sk-item::before, #sk-container-id-1 div.sk-parallel-item::before {content: \"\";position: absolute;border-left: 1px solid gray;box-sizing: border-box;top: 0;bottom: 0;left: 50%;z-index: -1;}#sk-container-id-1 div.sk-parallel-item {display: flex;flex-direction: column;z-index: 1;position: relative;background-color: white;}#sk-container-id-1 div.sk-parallel-item:first-child::after {align-self: flex-end;width: 50%;}#sk-container-id-1 div.sk-parallel-item:last-child::after {align-self: flex-start;width: 50%;}#sk-container-id-1 div.sk-parallel-item:only-child::after {width: 0;}#sk-container-id-1 div.sk-dashed-wrapped {border: 1px dashed gray;margin: 0 0.4em 0.5em 0.4em;box-sizing: border-box;padding-bottom: 0.4em;background-color: white;}#sk-container-id-1 div.sk-label label {font-family: monospace;font-weight: bold;display: inline-block;line-height: 1.2em;}#sk-container-id-1 div.sk-label-container {text-align: center;}#sk-container-id-1 div.sk-container {/* jupyter's `normalize.less` sets `[hidden] { display: none; }` but bootstrap.min.css set `[hidden] { display: none !important; }` so we also need the `!important` here to be able to override the default hidden behavior on the sphinx rendered scikit-learn.org. See: https://github.com/scikit-learn/scikit-learn/issues/21755 */display: inline-block !important;position: relative;}#sk-container-id-1 div.sk-text-repr-fallback {display: none;}</style><div id=\"sk-container-id-1\" class=\"sk-top-container\"><div class=\"sk-text-repr-fallback\"><pre>Pipeline(steps=[(&#x27;scale&#x27;, StandardScaler()),\n",
       "                (&#x27;model&#x27;, GradientBoostingClassifier())])</pre><b>In a Jupyter environment, please rerun this cell to show the HTML representation or trust the notebook. <br />On GitHub, the HTML representation is unable to render, please try loading this page with nbviewer.org.</b></div><div class=\"sk-container\" hidden><div class=\"sk-item sk-dashed-wrapped\"><div class=\"sk-label-container\"><div class=\"sk-label sk-toggleable\"><input class=\"sk-toggleable__control sk-hidden--visually\" id=\"sk-estimator-id-1\" type=\"checkbox\" ><label for=\"sk-estimator-id-1\" class=\"sk-toggleable__label sk-toggleable__label-arrow\">Pipeline</label><div class=\"sk-toggleable__content\"><pre>Pipeline(steps=[(&#x27;scale&#x27;, StandardScaler()),\n",
       "                (&#x27;model&#x27;, GradientBoostingClassifier())])</pre></div></div></div><div class=\"sk-serial\"><div class=\"sk-item\"><div class=\"sk-estimator sk-toggleable\"><input class=\"sk-toggleable__control sk-hidden--visually\" id=\"sk-estimator-id-2\" type=\"checkbox\" ><label for=\"sk-estimator-id-2\" class=\"sk-toggleable__label sk-toggleable__label-arrow\">StandardScaler</label><div class=\"sk-toggleable__content\"><pre>StandardScaler()</pre></div></div></div><div class=\"sk-item\"><div class=\"sk-estimator sk-toggleable\"><input class=\"sk-toggleable__control sk-hidden--visually\" id=\"sk-estimator-id-3\" type=\"checkbox\" ><label for=\"sk-estimator-id-3\" class=\"sk-toggleable__label sk-toggleable__label-arrow\">GradientBoostingClassifier</label><div class=\"sk-toggleable__content\"><pre>GradientBoostingClassifier()</pre></div></div></div></div></div></div></div>"
      ],
      "text/plain": [
       "Pipeline(steps=[('scale', StandardScaler()),\n",
       "                ('model', GradientBoostingClassifier())])"
      ]
     },
     "execution_count": 34,
     "metadata": {},
     "output_type": "execute_result"
    }
   ],
   "source": [
    "model.fit(X_train, y_train.values.ravel())"
   ]
  },
  {
   "cell_type": "code",
   "execution_count": 35,
   "id": "6e15e313",
   "metadata": {
    "execution": {
     "iopub.execute_input": "2025-08-19T18:34:08.315617Z",
     "iopub.status.busy": "2025-08-19T18:34:08.314434Z",
     "iopub.status.idle": "2025-08-19T18:34:08.944656Z",
     "shell.execute_reply": "2025-08-19T18:34:08.943475Z"
    },
    "papermill": {
     "duration": 0.64491,
     "end_time": "2025-08-19T18:34:08.946155",
     "exception": false,
     "start_time": "2025-08-19T18:34:08.301245",
     "status": "completed"
    },
    "tags": []
   },
   "outputs": [
    {
     "data": {
      "text/plain": [
       "0.8631813621669825"
      ]
     },
     "execution_count": 35,
     "metadata": {},
     "output_type": "execute_result"
    }
   ],
   "source": [
    "from fairness_multiverse.universe import predict_w_threshold\n",
    "\n",
    "probs_test = model.predict_proba(X_test)\n",
    "\n",
    "'''\n",
    "Below code returns a boolean array (or binary 0/1 array depending on how it’s used) where each element \n",
    "is True if the probability of class 1 is greater than or equal to the threshold, and False otherwise.\n",
    "'''\n",
    "y_pred_default = predict_w_threshold(probs_test, 0.5)\n",
    "\n",
    "from sklearn.metrics import accuracy_score\n",
    "\n",
    "# Naive prediction\n",
    "accuracy_score(y_true = y_true, y_pred = y_pred_default)"
   ]
  },
  {
   "cell_type": "code",
   "execution_count": 36,
   "id": "6f14067c",
   "metadata": {
    "execution": {
     "iopub.execute_input": "2025-08-19T18:34:08.971427Z",
     "iopub.status.busy": "2025-08-19T18:34:08.970418Z",
     "iopub.status.idle": "2025-08-19T18:34:09.599786Z",
     "shell.execute_reply": "2025-08-19T18:34:09.597844Z"
    },
    "papermill": {
     "duration": 0.64517,
     "end_time": "2025-08-19T18:34:09.602876",
     "exception": false,
     "start_time": "2025-08-19T18:34:08.957706",
     "status": "completed"
    },
    "tags": []
   },
   "outputs": [
    {
     "data": {
      "text/plain": [
       "array([0, 0, 0, ..., 0, 0, 0])"
      ]
     },
     "execution_count": 36,
     "metadata": {},
     "output_type": "execute_result"
    }
   ],
   "source": [
    "model.predict(X_test)"
   ]
  },
  {
   "cell_type": "markdown",
   "id": "3759920c",
   "metadata": {
    "papermill": {
     "duration": 0.01174,
     "end_time": "2025-08-19T18:34:09.633383",
     "exception": false,
     "start_time": "2025-08-19T18:34:09.621643",
     "status": "completed"
    },
    "tags": []
   },
   "source": [
    "# Conformal Prediction"
   ]
  },
  {
   "cell_type": "code",
   "execution_count": 37,
   "id": "14b27f59",
   "metadata": {
    "execution": {
     "iopub.execute_input": "2025-08-19T18:34:09.676906Z",
     "iopub.status.busy": "2025-08-19T18:34:09.676279Z",
     "iopub.status.idle": "2025-08-19T18:34:09.683489Z",
     "shell.execute_reply": "2025-08-19T18:34:09.682206Z"
    },
    "papermill": {
     "duration": 0.040691,
     "end_time": "2025-08-19T18:34:09.686423",
     "exception": false,
     "start_time": "2025-08-19T18:34:09.645732",
     "status": "completed"
    },
    "tags": []
   },
   "outputs": [],
   "source": [
    "# Miscoverage level for conformal prediction (10% allowed error rate => 90% target coverage)\n",
    "alpha = 0.1"
   ]
  },
  {
   "cell_type": "code",
   "execution_count": 38,
   "id": "59102472",
   "metadata": {
    "execution": {
     "iopub.execute_input": "2025-08-19T18:34:09.714994Z",
     "iopub.status.busy": "2025-08-19T18:34:09.714668Z",
     "iopub.status.idle": "2025-08-19T18:34:10.382555Z",
     "shell.execute_reply": "2025-08-19T18:34:10.380986Z"
    },
    "papermill": {
     "duration": 0.682227,
     "end_time": "2025-08-19T18:34:10.384328",
     "exception": false,
     "start_time": "2025-08-19T18:34:09.702101",
     "status": "completed"
    },
    "tags": []
   },
   "outputs": [],
   "source": [
    "probs_calib = model.predict_proba(X_calib)"
   ]
  },
  {
   "cell_type": "code",
   "execution_count": 39,
   "id": "a792d4dd",
   "metadata": {
    "execution": {
     "iopub.execute_input": "2025-08-19T18:34:10.428229Z",
     "iopub.status.busy": "2025-08-19T18:34:10.426854Z",
     "iopub.status.idle": "2025-08-19T18:34:10.440576Z",
     "shell.execute_reply": "2025-08-19T18:34:10.439437Z"
    },
    "papermill": {
     "duration": 0.044809,
     "end_time": "2025-08-19T18:34:10.442485",
     "exception": false,
     "start_time": "2025-08-19T18:34:10.397676",
     "status": "completed"
    },
    "tags": []
   },
   "outputs": [],
   "source": [
    "y_calib = y_calib.values.ravel().astype(int)"
   ]
  },
  {
   "cell_type": "code",
   "execution_count": 40,
   "id": "650fd033",
   "metadata": {
    "execution": {
     "iopub.execute_input": "2025-08-19T18:34:10.478350Z",
     "iopub.status.busy": "2025-08-19T18:34:10.477027Z",
     "iopub.status.idle": "2025-08-19T18:34:10.491632Z",
     "shell.execute_reply": "2025-08-19T18:34:10.490235Z"
    },
    "papermill": {
     "duration": 0.030538,
     "end_time": "2025-08-19T18:34:10.493258",
     "exception": false,
     "start_time": "2025-08-19T18:34:10.462720",
     "status": "completed"
    },
    "tags": []
   },
   "outputs": [],
   "source": [
    "from fairness_multiverse.conformal import compute_nc_scores\n",
    "\n",
    "# Compute nonconformity scores on calibration set (1 - probability of true class)\n",
    "nc_scores = compute_nc_scores(probs_calib, y_calib)"
   ]
  },
  {
   "cell_type": "code",
   "execution_count": 41,
   "id": "28ada44c",
   "metadata": {
    "execution": {
     "iopub.execute_input": "2025-08-19T18:34:10.524412Z",
     "iopub.status.busy": "2025-08-19T18:34:10.523044Z",
     "iopub.status.idle": "2025-08-19T18:34:10.536434Z",
     "shell.execute_reply": "2025-08-19T18:34:10.534994Z"
    },
    "papermill": {
     "duration": 0.02976,
     "end_time": "2025-08-19T18:34:10.538589",
     "exception": false,
     "start_time": "2025-08-19T18:34:10.508829",
     "status": "completed"
    },
    "tags": []
   },
   "outputs": [],
   "source": [
    "from fairness_multiverse.conformal import find_threshold\n",
    "\n",
    "# Find conformal threshold q_hat for the given alpha (split conformal method)\n",
    "q_hat = find_threshold(nc_scores, alpha)"
   ]
  },
  {
   "cell_type": "code",
   "execution_count": 42,
   "id": "df56469e",
   "metadata": {
    "execution": {
     "iopub.execute_input": "2025-08-19T18:34:10.573667Z",
     "iopub.status.busy": "2025-08-19T18:34:10.572391Z",
     "iopub.status.idle": "2025-08-19T18:34:10.587125Z",
     "shell.execute_reply": "2025-08-19T18:34:10.584422Z"
    },
    "papermill": {
     "duration": 0.03162,
     "end_time": "2025-08-19T18:34:10.588951",
     "exception": false,
     "start_time": "2025-08-19T18:34:10.557331",
     "status": "completed"
    },
    "tags": []
   },
   "outputs": [
    {
     "data": {
      "text/plain": [
       "0.6911211872885445"
      ]
     },
     "execution_count": 42,
     "metadata": {},
     "output_type": "execute_result"
    }
   ],
   "source": [
    "q_hat"
   ]
  },
  {
   "cell_type": "code",
   "execution_count": 43,
   "id": "aa1f5faa",
   "metadata": {
    "execution": {
     "iopub.execute_input": "2025-08-19T18:34:10.625310Z",
     "iopub.status.busy": "2025-08-19T18:34:10.624245Z",
     "iopub.status.idle": "2025-08-19T18:34:11.621023Z",
     "shell.execute_reply": "2025-08-19T18:34:11.619233Z"
    },
    "papermill": {
     "duration": 1.015925,
     "end_time": "2025-08-19T18:34:11.623093",
     "exception": false,
     "start_time": "2025-08-19T18:34:10.607168",
     "status": "completed"
    },
    "tags": []
   },
   "outputs": [],
   "source": [
    "from fairness_multiverse.conformal import predict_conformal_sets\n",
    "\n",
    "# Generate prediction sets for each test example\n",
    "pred_sets = predict_conformal_sets(model, X_test, q_hat)"
   ]
  },
  {
   "cell_type": "code",
   "execution_count": 44,
   "id": "97f67a6b",
   "metadata": {
    "execution": {
     "iopub.execute_input": "2025-08-19T18:34:11.674571Z",
     "iopub.status.busy": "2025-08-19T18:34:11.674053Z",
     "iopub.status.idle": "2025-08-19T18:34:11.693189Z",
     "shell.execute_reply": "2025-08-19T18:34:11.684553Z"
    },
    "papermill": {
     "duration": 0.050759,
     "end_time": "2025-08-19T18:34:11.697401",
     "exception": false,
     "start_time": "2025-08-19T18:34:11.646642",
     "status": "completed"
    },
    "tags": []
   },
   "outputs": [],
   "source": [
    "y_true = y_true.squeeze()"
   ]
  },
  {
   "cell_type": "code",
   "execution_count": 45,
   "id": "e700e9a7",
   "metadata": {
    "execution": {
     "iopub.execute_input": "2025-08-19T18:34:11.741322Z",
     "iopub.status.busy": "2025-08-19T18:34:11.740650Z",
     "iopub.status.idle": "2025-08-19T18:34:12.247288Z",
     "shell.execute_reply": "2025-08-19T18:34:12.246184Z"
    },
    "papermill": {
     "duration": 0.524389,
     "end_time": "2025-08-19T18:34:12.249387",
     "exception": false,
     "start_time": "2025-08-19T18:34:11.724998",
     "status": "completed"
    },
    "tags": []
   },
   "outputs": [],
   "source": [
    "from fairness_multiverse.conformal import evaluate_sets\n",
    "\n",
    "# Evaluate coverage and average set size on test data\n",
    "metrics = evaluate_sets(pred_sets, y_true)"
   ]
  },
  {
   "cell_type": "markdown",
   "id": "efbacec0",
   "metadata": {
    "papermill": {
     "duration": 0.013231,
     "end_time": "2025-08-19T18:34:12.274960",
     "exception": false,
     "start_time": "2025-08-19T18:34:12.261729",
     "status": "completed"
    },
    "tags": []
   },
   "source": [
    "# CP Metrics"
   ]
  },
  {
   "cell_type": "code",
   "execution_count": 46,
   "id": "9de55fb1",
   "metadata": {
    "execution": {
     "iopub.execute_input": "2025-08-19T18:34:12.301702Z",
     "iopub.status.busy": "2025-08-19T18:34:12.301250Z",
     "iopub.status.idle": "2025-08-19T18:34:12.308195Z",
     "shell.execute_reply": "2025-08-19T18:34:12.307345Z"
    },
    "papermill": {
     "duration": 0.021713,
     "end_time": "2025-08-19T18:34:12.309594",
     "exception": false,
     "start_time": "2025-08-19T18:34:12.287881",
     "status": "completed"
    },
    "tags": []
   },
   "outputs": [
    {
     "data": {
      "text/plain": [
       "{'coverage': 0.9094303868019172, 'avg_size': 1.1230966447441757}"
      ]
     },
     "execution_count": 46,
     "metadata": {},
     "output_type": "execute_result"
    }
   ],
   "source": [
    "metrics"
   ]
  },
  {
   "cell_type": "code",
   "execution_count": 47,
   "id": "64c340a1",
   "metadata": {
    "execution": {
     "iopub.execute_input": "2025-08-19T18:34:12.338010Z",
     "iopub.status.busy": "2025-08-19T18:34:12.336851Z",
     "iopub.status.idle": "2025-08-19T18:34:12.344238Z",
     "shell.execute_reply": "2025-08-19T18:34:12.343127Z"
    },
    "papermill": {
     "duration": 0.022186,
     "end_time": "2025-08-19T18:34:12.345546",
     "exception": false,
     "start_time": "2025-08-19T18:34:12.323360",
     "status": "completed"
    },
    "tags": []
   },
   "outputs": [],
   "source": [
    "example_universe = universe.copy()\n",
    "universe_training_year = example_universe.get(\"training_year\")\n",
    "universe_training_size = example_universe.get(\"training_size\")\n",
    "universe_scale = example_universe.get(\"scale\")\n",
    "universe_model = example_universe.get(\"model\")\n",
    "universe_exclude_features = example_universe.get(\"exclude_features\")\n",
    "universe_exclude_subgroups = example_universe.get(\"exclude_subgroups\")"
   ]
  },
  {
   "cell_type": "code",
   "execution_count": 48,
   "id": "dbb53cb4",
   "metadata": {
    "execution": {
     "iopub.execute_input": "2025-08-19T18:34:12.373201Z",
     "iopub.status.busy": "2025-08-19T18:34:12.372395Z",
     "iopub.status.idle": "2025-08-19T18:34:12.391258Z",
     "shell.execute_reply": "2025-08-19T18:34:12.390010Z"
    },
    "papermill": {
     "duration": 0.03495,
     "end_time": "2025-08-19T18:34:12.393146",
     "exception": false,
     "start_time": "2025-08-19T18:34:12.358196",
     "status": "completed"
    },
    "tags": []
   },
   "outputs": [],
   "source": [
    "cp_metrics_dict = {\n",
    "    \"universe_id\": [universe_id],\n",
    "    \"universe_training_year\": [universe_training_year],\n",
    "    \"universe_training_size\": [universe_training_size],\n",
    "    \"universe_scale\": [universe_scale],\n",
    "    \"universe_model\": [universe_model],\n",
    "    \"universe_exclude_features\": [universe_exclude_features],\n",
    "    \"universe_exclude_subgroups\": [universe_exclude_subgroups],\n",
    "    \"q_hat\": [q_hat],\n",
    "    \"coverage\": [metrics[\"coverage\"]],\n",
    "    \"avg_size\": [metrics[\"avg_size\"]],\n",
    "}"
   ]
  },
  {
   "cell_type": "code",
   "execution_count": 49,
   "id": "0d70d4b2",
   "metadata": {
    "execution": {
     "iopub.execute_input": "2025-08-19T18:34:12.439674Z",
     "iopub.status.busy": "2025-08-19T18:34:12.439273Z",
     "iopub.status.idle": "2025-08-19T18:34:12.445933Z",
     "shell.execute_reply": "2025-08-19T18:34:12.445035Z"
    },
    "papermill": {
     "duration": 0.035635,
     "end_time": "2025-08-19T18:34:12.450245",
     "exception": false,
     "start_time": "2025-08-19T18:34:12.414610",
     "status": "completed"
    },
    "tags": []
   },
   "outputs": [],
   "source": [
    "cp_metrics_df = pd.DataFrame(cp_metrics_dict)"
   ]
  },
  {
   "cell_type": "code",
   "execution_count": 50,
   "id": "b494403c",
   "metadata": {
    "execution": {
     "iopub.execute_input": "2025-08-19T18:34:12.490445Z",
     "iopub.status.busy": "2025-08-19T18:34:12.489243Z",
     "iopub.status.idle": "2025-08-19T18:34:12.512279Z",
     "shell.execute_reply": "2025-08-19T18:34:12.511422Z"
    },
    "papermill": {
     "duration": 0.039865,
     "end_time": "2025-08-19T18:34:12.514360",
     "exception": false,
     "start_time": "2025-08-19T18:34:12.474495",
     "status": "completed"
    },
    "tags": []
   },
   "outputs": [
    {
     "data": {
      "text/html": [
       "<div>\n",
       "<style scoped>\n",
       "    .dataframe tbody tr th:only-of-type {\n",
       "        vertical-align: middle;\n",
       "    }\n",
       "\n",
       "    .dataframe tbody tr th {\n",
       "        vertical-align: top;\n",
       "    }\n",
       "\n",
       "    .dataframe thead th {\n",
       "        text-align: right;\n",
       "    }\n",
       "</style>\n",
       "<table border=\"1\" class=\"dataframe\">\n",
       "  <thead>\n",
       "    <tr style=\"text-align: right;\">\n",
       "      <th></th>\n",
       "      <th>universe_id</th>\n",
       "      <th>universe_training_year</th>\n",
       "      <th>universe_training_size</th>\n",
       "      <th>universe_scale</th>\n",
       "      <th>universe_model</th>\n",
       "      <th>universe_exclude_features</th>\n",
       "      <th>universe_exclude_subgroups</th>\n",
       "      <th>q_hat</th>\n",
       "      <th>coverage</th>\n",
       "      <th>avg_size</th>\n",
       "    </tr>\n",
       "  </thead>\n",
       "  <tbody>\n",
       "    <tr>\n",
       "      <th>0</th>\n",
       "      <td>fbcced2a4402ef744c7575370b1a9ef1</td>\n",
       "      <td>2012_14</td>\n",
       "      <td>5k</td>\n",
       "      <td>scale</td>\n",
       "      <td>gbm</td>\n",
       "      <td>nationality-sex</td>\n",
       "      <td>keep-all</td>\n",
       "      <td>0.691121</td>\n",
       "      <td>0.90943</td>\n",
       "      <td>1.123097</td>\n",
       "    </tr>\n",
       "  </tbody>\n",
       "</table>\n",
       "</div>"
      ],
      "text/plain": [
       "                        universe_id universe_training_year  \\\n",
       "0  fbcced2a4402ef744c7575370b1a9ef1                2012_14   \n",
       "\n",
       "  universe_training_size universe_scale universe_model  \\\n",
       "0                     5k          scale            gbm   \n",
       "\n",
       "  universe_exclude_features universe_exclude_subgroups     q_hat  coverage  \\\n",
       "0           nationality-sex                   keep-all  0.691121   0.90943   \n",
       "\n",
       "   avg_size  \n",
       "0  1.123097  "
      ]
     },
     "execution_count": 50,
     "metadata": {},
     "output_type": "execute_result"
    }
   ],
   "source": [
    "cp_metrics_df"
   ]
  },
  {
   "cell_type": "markdown",
   "id": "ed608b0b",
   "metadata": {
    "papermill": {
     "duration": 0.012441,
     "end_time": "2025-08-19T18:34:12.546611",
     "exception": false,
     "start_time": "2025-08-19T18:34:12.534170",
     "status": "completed"
    },
    "tags": []
   },
   "source": [
    "Conditional coverage & looking at subgroups"
   ]
  },
  {
   "cell_type": "code",
   "execution_count": 51,
   "id": "8968c366",
   "metadata": {
    "execution": {
     "iopub.execute_input": "2025-08-19T18:34:12.573483Z",
     "iopub.status.busy": "2025-08-19T18:34:12.572225Z",
     "iopub.status.idle": "2025-08-19T18:34:12.838300Z",
     "shell.execute_reply": "2025-08-19T18:34:12.837404Z"
    },
    "papermill": {
     "duration": 0.281131,
     "end_time": "2025-08-19T18:34:12.839965",
     "exception": false,
     "start_time": "2025-08-19T18:34:12.558834",
     "status": "completed"
    },
    "tags": []
   },
   "outputs": [],
   "source": [
    "from fairness_multiverse.conformal import build_cp_groups\n",
    "\n",
    "cp_groups_df = build_cp_groups(pred_sets, y_true, X_test.index, org_test)"
   ]
  },
  {
   "cell_type": "code",
   "execution_count": 52,
   "id": "292ddabf",
   "metadata": {
    "execution": {
     "iopub.execute_input": "2025-08-19T18:34:12.876721Z",
     "iopub.status.busy": "2025-08-19T18:34:12.875493Z",
     "iopub.status.idle": "2025-08-19T18:34:13.736230Z",
     "shell.execute_reply": "2025-08-19T18:34:13.735108Z"
    },
    "papermill": {
     "duration": 0.884825,
     "end_time": "2025-08-19T18:34:13.738516",
     "exception": false,
     "start_time": "2025-08-19T18:34:12.853691",
     "status": "completed"
    },
    "tags": []
   },
   "outputs": [],
   "source": [
    "# Define covered = 1 if true_label is in the predicted set\n",
    "cp_groups_df['covered'] = cp_groups_df.apply(\n",
    "    lambda r: int(r['true_label'] in r['pred_set']),\n",
    "    axis=1\n",
    ")"
   ]
  },
  {
   "cell_type": "code",
   "execution_count": 53,
   "id": "3a261692",
   "metadata": {
    "execution": {
     "iopub.execute_input": "2025-08-19T18:34:13.773995Z",
     "iopub.status.busy": "2025-08-19T18:34:13.773658Z",
     "iopub.status.idle": "2025-08-19T18:34:13.787894Z",
     "shell.execute_reply": "2025-08-19T18:34:13.786178Z"
    },
    "papermill": {
     "duration": 0.031094,
     "end_time": "2025-08-19T18:34:13.789646",
     "exception": false,
     "start_time": "2025-08-19T18:34:13.758552",
     "status": "completed"
    },
    "tags": []
   },
   "outputs": [],
   "source": [
    "subgroups = ['frau1','nongerman','nongerman_male','nongerman_female']\n",
    "\n",
    "# Conditional coverage for subgroup==1\n",
    "cond_coverage = {\n",
    "    g: cp_groups_df.loc[cp_groups_df[g]==1, 'covered'].mean()\n",
    "    for g in subgroups\n",
    "}"
   ]
  },
  {
   "cell_type": "code",
   "execution_count": 54,
   "id": "894fd600",
   "metadata": {
    "execution": {
     "iopub.execute_input": "2025-08-19T18:34:13.825522Z",
     "iopub.status.busy": "2025-08-19T18:34:13.824377Z",
     "iopub.status.idle": "2025-08-19T18:34:13.838400Z",
     "shell.execute_reply": "2025-08-19T18:34:13.837138Z"
    },
    "papermill": {
     "duration": 0.035451,
     "end_time": "2025-08-19T18:34:13.839911",
     "exception": false,
     "start_time": "2025-08-19T18:34:13.804460",
     "status": "completed"
    },
    "tags": []
   },
   "outputs": [
    {
     "data": {
      "text/plain": [
       "{'frau1': 0.9049737161342499,\n",
       " 'nongerman': 0.9069780497389547,\n",
       " 'nongerman_male': 0.9242547059353328,\n",
       " 'nongerman_female': 0.8783904619970194}"
      ]
     },
     "execution_count": 54,
     "metadata": {},
     "output_type": "execute_result"
    }
   ],
   "source": [
    "cond_coverage"
   ]
  },
  {
   "cell_type": "code",
   "execution_count": 55,
   "id": "942895c7",
   "metadata": {
    "execution": {
     "iopub.execute_input": "2025-08-19T18:34:13.876584Z",
     "iopub.status.busy": "2025-08-19T18:34:13.874777Z",
     "iopub.status.idle": "2025-08-19T18:34:13.887425Z",
     "shell.execute_reply": "2025-08-19T18:34:13.886231Z"
    },
    "papermill": {
     "duration": 0.033084,
     "end_time": "2025-08-19T18:34:13.889588",
     "exception": false,
     "start_time": "2025-08-19T18:34:13.856504",
     "status": "completed"
    },
    "tags": []
   },
   "outputs": [],
   "source": [
    "for subgroup, cov in cond_coverage.items():\n",
    "    cp_metrics_df[f\"cov_{subgroup}\"] = cov"
   ]
  },
  {
   "cell_type": "code",
   "execution_count": 56,
   "id": "3970120f",
   "metadata": {
    "execution": {
     "iopub.execute_input": "2025-08-19T18:34:13.923688Z",
     "iopub.status.busy": "2025-08-19T18:34:13.922971Z",
     "iopub.status.idle": "2025-08-19T18:34:13.949178Z",
     "shell.execute_reply": "2025-08-19T18:34:13.948076Z"
    },
    "papermill": {
     "duration": 0.041898,
     "end_time": "2025-08-19T18:34:13.950606",
     "exception": false,
     "start_time": "2025-08-19T18:34:13.908708",
     "status": "completed"
    },
    "tags": []
   },
   "outputs": [
    {
     "data": {
      "text/html": [
       "<div>\n",
       "<style scoped>\n",
       "    .dataframe tbody tr th:only-of-type {\n",
       "        vertical-align: middle;\n",
       "    }\n",
       "\n",
       "    .dataframe tbody tr th {\n",
       "        vertical-align: top;\n",
       "    }\n",
       "\n",
       "    .dataframe thead th {\n",
       "        text-align: right;\n",
       "    }\n",
       "</style>\n",
       "<table border=\"1\" class=\"dataframe\">\n",
       "  <thead>\n",
       "    <tr style=\"text-align: right;\">\n",
       "      <th></th>\n",
       "      <th>universe_id</th>\n",
       "      <th>universe_training_year</th>\n",
       "      <th>universe_training_size</th>\n",
       "      <th>universe_scale</th>\n",
       "      <th>universe_model</th>\n",
       "      <th>universe_exclude_features</th>\n",
       "      <th>universe_exclude_subgroups</th>\n",
       "      <th>q_hat</th>\n",
       "      <th>coverage</th>\n",
       "      <th>avg_size</th>\n",
       "      <th>cov_frau1</th>\n",
       "      <th>cov_nongerman</th>\n",
       "      <th>cov_nongerman_male</th>\n",
       "      <th>cov_nongerman_female</th>\n",
       "    </tr>\n",
       "  </thead>\n",
       "  <tbody>\n",
       "    <tr>\n",
       "      <th>0</th>\n",
       "      <td>fbcced2a4402ef744c7575370b1a9ef1</td>\n",
       "      <td>2012_14</td>\n",
       "      <td>5k</td>\n",
       "      <td>scale</td>\n",
       "      <td>gbm</td>\n",
       "      <td>nationality-sex</td>\n",
       "      <td>keep-all</td>\n",
       "      <td>0.691121</td>\n",
       "      <td>0.90943</td>\n",
       "      <td>1.123097</td>\n",
       "      <td>0.904974</td>\n",
       "      <td>0.906978</td>\n",
       "      <td>0.924255</td>\n",
       "      <td>0.87839</td>\n",
       "    </tr>\n",
       "  </tbody>\n",
       "</table>\n",
       "</div>"
      ],
      "text/plain": [
       "                        universe_id universe_training_year  \\\n",
       "0  fbcced2a4402ef744c7575370b1a9ef1                2012_14   \n",
       "\n",
       "  universe_training_size universe_scale universe_model  \\\n",
       "0                     5k          scale            gbm   \n",
       "\n",
       "  universe_exclude_features universe_exclude_subgroups     q_hat  coverage  \\\n",
       "0           nationality-sex                   keep-all  0.691121   0.90943   \n",
       "\n",
       "   avg_size  cov_frau1  cov_nongerman  cov_nongerman_male  \\\n",
       "0  1.123097   0.904974       0.906978            0.924255   \n",
       "\n",
       "   cov_nongerman_female  \n",
       "0               0.87839  "
      ]
     },
     "execution_count": 56,
     "metadata": {},
     "output_type": "execute_result"
    }
   ],
   "source": [
    "cp_metrics_df"
   ]
  },
  {
   "cell_type": "markdown",
   "id": "3fc519cc",
   "metadata": {
    "papermill": {
     "duration": 0.032008,
     "end_time": "2025-08-19T18:34:13.996666",
     "exception": false,
     "start_time": "2025-08-19T18:34:13.964658",
     "status": "completed"
    },
    "tags": []
   },
   "source": [
    "# (Fairness) Metrics"
   ]
  },
  {
   "cell_type": "code",
   "execution_count": 57,
   "id": "a2e5e155",
   "metadata": {
    "execution": {
     "iopub.execute_input": "2025-08-19T18:34:14.054122Z",
     "iopub.status.busy": "2025-08-19T18:34:14.053547Z",
     "iopub.status.idle": "2025-08-19T18:34:14.088092Z",
     "shell.execute_reply": "2025-08-19T18:34:14.083516Z"
    },
    "papermill": {
     "duration": 0.068724,
     "end_time": "2025-08-19T18:34:14.091523",
     "exception": false,
     "start_time": "2025-08-19T18:34:14.022799",
     "status": "completed"
    },
    "tags": []
   },
   "outputs": [],
   "source": [
    "colname_to_bin = \"maxdeutsch1\"\n",
    "majority_value = org_train[colname_to_bin].mode()[0]\n",
    "\n",
    "org_test[\"majmin\"] = np.where(org_test[colname_to_bin] == majority_value, \"majority\", \"minority\")"
   ]
  },
  {
   "cell_type": "code",
   "execution_count": 58,
   "id": "17e3e4d5",
   "metadata": {
    "execution": {
     "iopub.execute_input": "2025-08-19T18:34:14.132560Z",
     "iopub.status.busy": "2025-08-19T18:34:14.131429Z",
     "iopub.status.idle": "2025-08-19T18:34:15.880708Z",
     "shell.execute_reply": "2025-08-19T18:34:15.879488Z"
    },
    "papermill": {
     "duration": 1.766551,
     "end_time": "2025-08-19T18:34:15.882485",
     "exception": false,
     "start_time": "2025-08-19T18:34:14.115934",
     "status": "completed"
    },
    "tags": []
   },
   "outputs": [],
   "source": [
    "example_universe = universe.copy()\n",
    "example_universe[\"cutoff\"] = example_universe[\"cutoff\"][0]\n",
    "example_universe[\"eval_fairness_grouping\"] = example_universe[\"eval_fairness_grouping\"][0]\n",
    "fairness_dict, metric_frame = universe_analysis.compute_metrics(\n",
    "    example_universe,\n",
    "    y_pred_prob=probs_test,\n",
    "    y_test=y_true,\n",
    "    org_test=org_test,\n",
    ")"
   ]
  },
  {
   "cell_type": "markdown",
   "id": "1fb7a0e9",
   "metadata": {
    "papermill": {
     "duration": 0.0212,
     "end_time": "2025-08-19T18:34:15.926086",
     "exception": false,
     "start_time": "2025-08-19T18:34:15.904886",
     "status": "completed"
    },
    "tags": []
   },
   "source": [
    "# Overall"
   ]
  },
  {
   "cell_type": "markdown",
   "id": "be1784b1",
   "metadata": {
    "papermill": {
     "duration": 0.016123,
     "end_time": "2025-08-19T18:34:15.957093",
     "exception": false,
     "start_time": "2025-08-19T18:34:15.940970",
     "status": "completed"
    },
    "tags": []
   },
   "source": [
    "Main fairness target: Equalized Odds. Seems to be a better fit than equal opportunity, since we're not only interested in Y = 1. Seems to be a better fit than demographic parity, since we also care about accuracy, not just equal distribution of preds.\n",
    "\n",
    "Pick column for computation of fairness metrics\n",
    "\n",
    "Performance\n",
    "Overall performance measures, most interesting in relation to the measures split by group below"
   ]
  },
  {
   "cell_type": "code",
   "execution_count": 59,
   "id": "b7672bee",
   "metadata": {
    "execution": {
     "iopub.execute_input": "2025-08-19T18:34:15.986124Z",
     "iopub.status.busy": "2025-08-19T18:34:15.984100Z",
     "iopub.status.idle": "2025-08-19T18:34:16.005584Z",
     "shell.execute_reply": "2025-08-19T18:34:16.004189Z"
    },
    "papermill": {
     "duration": 0.03814,
     "end_time": "2025-08-19T18:34:16.007700",
     "exception": false,
     "start_time": "2025-08-19T18:34:15.969560",
     "status": "completed"
    },
    "tags": []
   },
   "outputs": [
    {
     "data": {
      "text/plain": [
       "accuracy                   0.224579\n",
       "balanced accuracy          0.549084\n",
       "f1                         0.245905\n",
       "precision                  0.140477\n",
       "false positive rate        0.887407\n",
       "false negative rate        0.014425\n",
       "selection rate             0.900000\n",
       "count                  89710.000000\n",
       "dtype: float64"
      ]
     },
     "execution_count": 59,
     "metadata": {},
     "output_type": "execute_result"
    }
   ],
   "source": [
    "metric_frame.overall"
   ]
  },
  {
   "cell_type": "markdown",
   "id": "d93333c9",
   "metadata": {
    "papermill": {
     "duration": 0.012231,
     "end_time": "2025-08-19T18:34:16.036068",
     "exception": false,
     "start_time": "2025-08-19T18:34:16.023837",
     "status": "completed"
    },
    "tags": []
   },
   "source": [
    "By Group"
   ]
  },
  {
   "cell_type": "code",
   "execution_count": 60,
   "id": "52256966",
   "metadata": {
    "execution": {
     "iopub.execute_input": "2025-08-19T18:34:16.063321Z",
     "iopub.status.busy": "2025-08-19T18:34:16.062129Z",
     "iopub.status.idle": "2025-08-19T18:34:16.087982Z",
     "shell.execute_reply": "2025-08-19T18:34:16.086858Z"
    },
    "papermill": {
     "duration": 0.041725,
     "end_time": "2025-08-19T18:34:16.089876",
     "exception": false,
     "start_time": "2025-08-19T18:34:16.048151",
     "status": "completed"
    },
    "tags": []
   },
   "outputs": [
    {
     "data": {
      "text/html": [
       "<div>\n",
       "<style scoped>\n",
       "    .dataframe tbody tr th:only-of-type {\n",
       "        vertical-align: middle;\n",
       "    }\n",
       "\n",
       "    .dataframe tbody tr th {\n",
       "        vertical-align: top;\n",
       "    }\n",
       "\n",
       "    .dataframe thead th {\n",
       "        text-align: right;\n",
       "    }\n",
       "</style>\n",
       "<table border=\"1\" class=\"dataframe\">\n",
       "  <thead>\n",
       "    <tr style=\"text-align: right;\">\n",
       "      <th></th>\n",
       "      <th>accuracy</th>\n",
       "      <th>balanced accuracy</th>\n",
       "      <th>f1</th>\n",
       "      <th>precision</th>\n",
       "      <th>false positive rate</th>\n",
       "      <th>false negative rate</th>\n",
       "      <th>selection rate</th>\n",
       "      <th>count</th>\n",
       "    </tr>\n",
       "    <tr>\n",
       "      <th>majmin</th>\n",
       "      <th></th>\n",
       "      <th></th>\n",
       "      <th></th>\n",
       "      <th></th>\n",
       "      <th></th>\n",
       "      <th></th>\n",
       "      <th></th>\n",
       "      <th></th>\n",
       "    </tr>\n",
       "  </thead>\n",
       "  <tbody>\n",
       "    <tr>\n",
       "      <th>majority</th>\n",
       "      <td>0.245207</td>\n",
       "      <td>0.558186</td>\n",
       "      <td>0.256165</td>\n",
       "      <td>0.147259</td>\n",
       "      <td>0.867216</td>\n",
       "      <td>0.016411</td>\n",
       "      <td>0.882594</td>\n",
       "      <td>69170.0</td>\n",
       "    </tr>\n",
       "    <tr>\n",
       "      <th>minority</th>\n",
       "      <td>0.155112</td>\n",
       "      <td>0.519569</td>\n",
       "      <td>0.213256</td>\n",
       "      <td>0.119451</td>\n",
       "      <td>0.954105</td>\n",
       "      <td>0.006757</td>\n",
       "      <td>0.958617</td>\n",
       "      <td>20540.0</td>\n",
       "    </tr>\n",
       "  </tbody>\n",
       "</table>\n",
       "</div>"
      ],
      "text/plain": [
       "          accuracy  balanced accuracy        f1  precision  \\\n",
       "majmin                                                       \n",
       "majority  0.245207           0.558186  0.256165   0.147259   \n",
       "minority  0.155112           0.519569  0.213256   0.119451   \n",
       "\n",
       "          false positive rate  false negative rate  selection rate    count  \n",
       "majmin                                                                       \n",
       "majority             0.867216             0.016411        0.882594  69170.0  \n",
       "minority             0.954105             0.006757        0.958617  20540.0  "
      ]
     },
     "execution_count": 60,
     "metadata": {},
     "output_type": "execute_result"
    }
   ],
   "source": [
    "metric_frame.by_group"
   ]
  },
  {
   "cell_type": "code",
   "execution_count": 61,
   "id": "6e6c20ae",
   "metadata": {
    "execution": {
     "iopub.execute_input": "2025-08-19T18:34:16.127442Z",
     "iopub.status.busy": "2025-08-19T18:34:16.126302Z",
     "iopub.status.idle": "2025-08-19T18:34:17.979289Z",
     "shell.execute_reply": "2025-08-19T18:34:17.978412Z"
    },
    "papermill": {
     "duration": 1.871992,
     "end_time": "2025-08-19T18:34:17.984380",
     "exception": false,
     "start_time": "2025-08-19T18:34:16.112388",
     "status": "completed"
    },
    "tags": []
   },
   "outputs": [
    {
     "data": {
      "text/plain": [
       "array([[<Axes: title={'center': 'accuracy'}, xlabel='majmin'>,\n",
       "        <Axes: title={'center': 'balanced accuracy'}, xlabel='majmin'>,\n",
       "        <Axes: title={'center': 'f1'}, xlabel='majmin'>],\n",
       "       [<Axes: title={'center': 'precision'}, xlabel='majmin'>,\n",
       "        <Axes: title={'center': 'false positive rate'}, xlabel='majmin'>,\n",
       "        <Axes: title={'center': 'false negative rate'}, xlabel='majmin'>],\n",
       "       [<Axes: title={'center': 'selection rate'}, xlabel='majmin'>,\n",
       "        <Axes: title={'center': 'count'}, xlabel='majmin'>,\n",
       "        <Axes: xlabel='majmin'>]], dtype=object)"
      ]
     },
     "execution_count": 61,
     "metadata": {},
     "output_type": "execute_result"
    },
    {
     "data": {
      "image/png": "[encoded data removed]",
      "text/plain": [
       "<Figure size 1200x800 with 9 Axes>"
      ]
     },
     "metadata": {},
     "output_type": "display_data"
    }
   ],
   "source": [
    "# In a graphic\n",
    "metric_frame.by_group.plot.bar(\n",
    "    subplots=True,\n",
    "    layout=[3, 3],\n",
    "    legend=False,\n",
    "    figsize=[12, 8],\n",
    "    title=\"Show all metrics\",\n",
    ")"
   ]
  },
  {
   "cell_type": "markdown",
   "id": "b2e433ae",
   "metadata": {
    "papermill": {
     "duration": 0.013812,
     "end_time": "2025-08-19T18:34:18.028055",
     "exception": false,
     "start_time": "2025-08-19T18:34:18.014243",
     "status": "completed"
    },
    "tags": []
   },
   "source": [
    "# Final Output"
   ]
  },
  {
   "cell_type": "code",
   "execution_count": 62,
   "id": "3871301e",
   "metadata": {
    "execution": {
     "iopub.execute_input": "2025-08-19T18:34:18.059823Z",
     "iopub.status.busy": "2025-08-19T18:34:18.057708Z",
     "iopub.status.idle": "2025-08-19T18:34:18.076403Z",
     "shell.execute_reply": "2025-08-19T18:34:18.075270Z"
    },
    "papermill": {
     "duration": 0.036466,
     "end_time": "2025-08-19T18:34:18.078081",
     "exception": false,
     "start_time": "2025-08-19T18:34:18.041615",
     "status": "completed"
    },
    "tags": []
   },
   "outputs": [
    {
     "data": {
      "text/plain": [
       "4"
      ]
     },
     "execution_count": 62,
     "metadata": {},
     "output_type": "execute_result"
    }
   ],
   "source": [
    "sub_universes = universe_analysis.generate_sub_universes()\n",
    "len(sub_universes)"
   ]
  },
  {
   "cell_type": "code",
   "execution_count": 63,
   "id": "d9cfdaca",
   "metadata": {
    "execution": {
     "iopub.execute_input": "2025-08-19T18:34:18.110189Z",
     "iopub.status.busy": "2025-08-19T18:34:18.109867Z",
     "iopub.status.idle": "2025-08-19T18:34:18.116398Z",
     "shell.execute_reply": "2025-08-19T18:34:18.115005Z"
    },
    "papermill": {
     "duration": 0.023689,
     "end_time": "2025-08-19T18:34:18.117718",
     "exception": false,
     "start_time": "2025-08-19T18:34:18.094029",
     "status": "completed"
    },
    "tags": []
   },
   "outputs": [],
   "source": [
    "def filter_sub_universe_data(sub_universe, org_test):\n",
    "    # Keep all rows — no filtering\n",
    "    keep_rows_mask = np.ones(org_test.shape[0], dtype=bool)\n",
    "\n",
    "    print(f\"[INFO] Keeping all rows: {keep_rows_mask.sum()} rows retained.\")\n",
    "    return keep_rows_mask"
   ]
  },
  {
   "cell_type": "code",
   "execution_count": 64,
   "id": "2bc31ac1",
   "metadata": {
    "execution": {
     "iopub.execute_input": "2025-08-19T18:34:18.147708Z",
     "iopub.status.busy": "2025-08-19T18:34:18.147232Z",
     "iopub.status.idle": "2025-08-19T18:34:24.877063Z",
     "shell.execute_reply": "2025-08-19T18:34:24.876049Z"
    },
    "papermill": {
     "duration": 6.746075,
     "end_time": "2025-08-19T18:34:24.878380",
     "exception": false,
     "start_time": "2025-08-19T18:34:18.132305",
     "status": "completed"
    },
    "tags": []
   },
   "outputs": [
    {
     "name": "stdout",
     "output_type": "stream",
     "text": [
      "Stopping execution_time clock.\n",
      "[INFO] Keeping all rows: 89710 rows retained.\n"
     ]
    },
    {
     "name": "stdout",
     "output_type": "stream",
     "text": [
      "[INFO] Keeping all rows: 89710 rows retained.\n"
     ]
    },
    {
     "name": "stdout",
     "output_type": "stream",
     "text": [
      "[INFO] Keeping all rows: 89710 rows retained.\n"
     ]
    },
    {
     "name": "stdout",
     "output_type": "stream",
     "text": [
      "[INFO] Keeping all rows: 89710 rows retained.\n"
     ]
    },
    {
     "data": {
      "text/html": [
       "<div>\n",
       "<style scoped>\n",
       "    .dataframe tbody tr th:only-of-type {\n",
       "        vertical-align: middle;\n",
       "    }\n",
       "\n",
       "    .dataframe tbody tr th {\n",
       "        vertical-align: top;\n",
       "    }\n",
       "\n",
       "    .dataframe thead th {\n",
       "        text-align: right;\n",
       "    }\n",
       "</style>\n",
       "<table border=\"1\" class=\"dataframe\">\n",
       "  <thead>\n",
       "    <tr style=\"text-align: right;\">\n",
       "      <th></th>\n",
       "      <th>run_no</th>\n",
       "      <th>universe_id</th>\n",
       "      <th>universe_settings</th>\n",
       "      <th>execution_time</th>\n",
       "      <th>test_size_n</th>\n",
       "      <th>test_size_frac</th>\n",
       "      <th>fair_main_equalized_odds_difference</th>\n",
       "      <th>fair_main_equalized_odds_ratio</th>\n",
       "      <th>fair_main_demographic_parity_difference</th>\n",
       "      <th>fair_main_demographic_parity_ratio</th>\n",
       "      <th>...</th>\n",
       "      <th>perf_grp_precision_0</th>\n",
       "      <th>perf_grp_precision_1</th>\n",
       "      <th>perf_grp_false positive rate_0</th>\n",
       "      <th>perf_grp_false positive rate_1</th>\n",
       "      <th>perf_grp_false negative rate_0</th>\n",
       "      <th>perf_grp_false negative rate_1</th>\n",
       "      <th>perf_grp_selection rate_0</th>\n",
       "      <th>perf_grp_selection rate_1</th>\n",
       "      <th>perf_grp_count_0</th>\n",
       "      <th>perf_grp_count_1</th>\n",
       "    </tr>\n",
       "  </thead>\n",
       "  <tbody>\n",
       "    <tr>\n",
       "      <th>0</th>\n",
       "      <td>3</td>\n",
       "      <td>fbcced2a4402ef744c7575370b1a9ef1</td>\n",
       "      <td>{\"cutoff\": \"quantile_0.1\", \"eval_fairness_grou...</td>\n",
       "      <td>27.44664</td>\n",
       "      <td>89710</td>\n",
       "      <td>1.0</td>\n",
       "      <td>0.086889</td>\n",
       "      <td>0.908932</td>\n",
       "      <td>0.076024</td>\n",
       "      <td>0.920694</td>\n",
       "      <td>...</td>\n",
       "      <td>NaN</td>\n",
       "      <td>NaN</td>\n",
       "      <td>NaN</td>\n",
       "      <td>NaN</td>\n",
       "      <td>NaN</td>\n",
       "      <td>NaN</td>\n",
       "      <td>NaN</td>\n",
       "      <td>NaN</td>\n",
       "      <td>NaN</td>\n",
       "      <td>NaN</td>\n",
       "    </tr>\n",
       "    <tr>\n",
       "      <th>0</th>\n",
       "      <td>3</td>\n",
       "      <td>fbcced2a4402ef744c7575370b1a9ef1</td>\n",
       "      <td>{\"cutoff\": \"quantile_0.1\", \"eval_fairness_grou...</td>\n",
       "      <td>27.44664</td>\n",
       "      <td>89710</td>\n",
       "      <td>1.0</td>\n",
       "      <td>0.086889</td>\n",
       "      <td>0.908932</td>\n",
       "      <td>0.076024</td>\n",
       "      <td>0.920694</td>\n",
       "      <td>...</td>\n",
       "      <td>0.119451</td>\n",
       "      <td>0.147259</td>\n",
       "      <td>0.954105</td>\n",
       "      <td>0.867216</td>\n",
       "      <td>0.006757</td>\n",
       "      <td>0.016411</td>\n",
       "      <td>0.958617</td>\n",
       "      <td>0.882594</td>\n",
       "      <td>20540.0</td>\n",
       "      <td>69170.0</td>\n",
       "    </tr>\n",
       "    <tr>\n",
       "      <th>0</th>\n",
       "      <td>3</td>\n",
       "      <td>fbcced2a4402ef744c7575370b1a9ef1</td>\n",
       "      <td>{\"cutoff\": \"quantile_0.25\", \"eval_fairness_gro...</td>\n",
       "      <td>27.44664</td>\n",
       "      <td>89710</td>\n",
       "      <td>1.0</td>\n",
       "      <td>0.103886</td>\n",
       "      <td>0.870351</td>\n",
       "      <td>0.086498</td>\n",
       "      <td>0.894088</td>\n",
       "      <td>...</td>\n",
       "      <td>NaN</td>\n",
       "      <td>NaN</td>\n",
       "      <td>NaN</td>\n",
       "      <td>NaN</td>\n",
       "      <td>NaN</td>\n",
       "      <td>NaN</td>\n",
       "      <td>NaN</td>\n",
       "      <td>NaN</td>\n",
       "      <td>NaN</td>\n",
       "      <td>NaN</td>\n",
       "    </tr>\n",
       "    <tr>\n",
       "      <th>0</th>\n",
       "      <td>3</td>\n",
       "      <td>fbcced2a4402ef744c7575370b1a9ef1</td>\n",
       "      <td>{\"cutoff\": \"quantile_0.25\", \"eval_fairness_gro...</td>\n",
       "      <td>27.44664</td>\n",
       "      <td>89710</td>\n",
       "      <td>1.0</td>\n",
       "      <td>0.103886</td>\n",
       "      <td>0.870351</td>\n",
       "      <td>0.086498</td>\n",
       "      <td>0.894088</td>\n",
       "      <td>...</td>\n",
       "      <td>0.131982</td>\n",
       "      <td>0.171121</td>\n",
       "      <td>0.801288</td>\n",
       "      <td>0.697401</td>\n",
       "      <td>0.065034</td>\n",
       "      <td>0.054376</td>\n",
       "      <td>0.816699</td>\n",
       "      <td>0.730201</td>\n",
       "      <td>20540.0</td>\n",
       "      <td>69170.0</td>\n",
       "    </tr>\n",
       "  </tbody>\n",
       "</table>\n",
       "<p>4 rows × 50 columns</p>\n",
       "</div>"
      ],
      "text/plain": [
       "  run_no                       universe_id  \\\n",
       "0      3  fbcced2a4402ef744c7575370b1a9ef1   \n",
       "0      3  fbcced2a4402ef744c7575370b1a9ef1   \n",
       "0      3  fbcced2a4402ef744c7575370b1a9ef1   \n",
       "0      3  fbcced2a4402ef744c7575370b1a9ef1   \n",
       "\n",
       "                                   universe_settings  execution_time  \\\n",
       "0  {\"cutoff\": \"quantile_0.1\", \"eval_fairness_grou...        27.44664   \n",
       "0  {\"cutoff\": \"quantile_0.1\", \"eval_fairness_grou...        27.44664   \n",
       "0  {\"cutoff\": \"quantile_0.25\", \"eval_fairness_gro...        27.44664   \n",
       "0  {\"cutoff\": \"quantile_0.25\", \"eval_fairness_gro...        27.44664   \n",
       "\n",
       "   test_size_n  test_size_frac  fair_main_equalized_odds_difference  \\\n",
       "0        89710             1.0                             0.086889   \n",
       "0        89710             1.0                             0.086889   \n",
       "0        89710             1.0                             0.103886   \n",
       "0        89710             1.0                             0.103886   \n",
       "\n",
       "   fair_main_equalized_odds_ratio  fair_main_demographic_parity_difference  \\\n",
       "0                        0.908932                                 0.076024   \n",
       "0                        0.908932                                 0.076024   \n",
       "0                        0.870351                                 0.086498   \n",
       "0                        0.870351                                 0.086498   \n",
       "\n",
       "   fair_main_demographic_parity_ratio  ...  perf_grp_precision_0  \\\n",
       "0                            0.920694  ...                   NaN   \n",
       "0                            0.920694  ...              0.119451   \n",
       "0                            0.894088  ...                   NaN   \n",
       "0                            0.894088  ...              0.131982   \n",
       "\n",
       "   perf_grp_precision_1  perf_grp_false positive rate_0  \\\n",
       "0                   NaN                             NaN   \n",
       "0              0.147259                        0.954105   \n",
       "0                   NaN                             NaN   \n",
       "0              0.171121                        0.801288   \n",
       "\n",
       "   perf_grp_false positive rate_1  perf_grp_false negative rate_0  \\\n",
       "0                             NaN                             NaN   \n",
       "0                        0.867216                        0.006757   \n",
       "0                             NaN                             NaN   \n",
       "0                        0.697401                        0.065034   \n",
       "\n",
       "   perf_grp_false negative rate_1  perf_grp_selection rate_0  \\\n",
       "0                             NaN                        NaN   \n",
       "0                        0.016411                   0.958617   \n",
       "0                             NaN                        NaN   \n",
       "0                        0.054376                   0.816699   \n",
       "\n",
       "   perf_grp_selection rate_1  perf_grp_count_0  perf_grp_count_1  \n",
       "0                        NaN               NaN               NaN  \n",
       "0                   0.882594           20540.0           69170.0  \n",
       "0                        NaN               NaN               NaN  \n",
       "0                   0.730201           20540.0           69170.0  \n",
       "\n",
       "[4 rows x 50 columns]"
      ]
     },
     "execution_count": 64,
     "metadata": {},
     "output_type": "execute_result"
    }
   ],
   "source": [
    "final_output = universe_analysis.generate_final_output(\n",
    "    y_pred_prob=probs_test,\n",
    "    y_test=y_true,\n",
    "    org_test=org_test,\n",
    "    filter_data=filter_sub_universe_data,\n",
    "    cp_metrics_df=cp_metrics_df,\n",
    "    save=True,\n",
    ")\n",
    "final_output"
   ]
  },
  {
   "cell_type": "code",
   "execution_count": null,
   "id": "8b80a1ff",
   "metadata": {
    "papermill": {
     "duration": 0.015509,
     "end_time": "2025-08-19T18:34:24.911610",
     "exception": false,
     "start_time": "2025-08-19T18:34:24.896101",
     "status": "completed"
    },
    "tags": []
   },
   "outputs": [],
   "source": []
  },
  {
   "cell_type": "code",
   "execution_count": null,
   "id": "275c9fad",
   "metadata": {
    "papermill": {
     "duration": 0.014306,
     "end_time": "2025-08-19T18:34:24.940311",
     "exception": false,
     "start_time": "2025-08-19T18:34:24.926005",
     "status": "completed"
    },
    "tags": []
   },
   "outputs": [],
   "source": []
  }
 ],
 "metadata": {
  "celltoolbar": "Tags",
  "kernelspec": {
   "display_name": "Python (CMA Fairness)",
   "language": "python",
   "name": "cma_fair_env"
  },
  "language_info": {
   "codemirror_mode": {
    "name": "ipython",
    "version": 3
   },
   "file_extension": ".py",
   "mimetype": "text/x-python",
   "name": "python",
   "nbconvert_exporter": "python",
   "pygments_lexer": "ipython3",
   "version": "3.10.12"
  },
  "papermill": {
   "default_parameters": {},
   "duration": 37.852231,
   "end_time": "2025-08-19T18:34:25.792274",
   "environment_variables": {},
   "exception": null,
   "input_path": "universe_analysis.ipynb",
   "output_path": "output/runs/3/notebooks/m_3-fbcced2a4402ef744c7575370b1a9ef1.ipynb",
   "parameters": {
    "output_dir": "output",
    "run_no": "3",
    "seed": "2023",
    "universe": "{\"cutoff\": [\"quantile_0.1\", \"quantile_0.25\"], \"eval_fairness_grouping\": [\"majority-minority\", \"nationality-all\"], \"exclude_features\": \"nationality-sex\", \"exclude_subgroups\": \"keep-all\", \"model\": \"gbm\", \"scale\": \"scale\", \"training_size\": \"5k\", \"training_year\": \"2012_14\"}",
    "universe_id": "fbcced2a4402ef744c7575370b1a9ef1"
   },
   "start_time": "2025-08-19T18:33:47.940043",
   "version": "2.6.0"
  }
 },
 "nbformat": 4,
 "nbformat_minor": 5
}