{
 "cells": [
  {
   "cell_type": "markdown",
   "id": "ef23dbb3",
   "metadata": {
    "papermill": {
     "duration": 0.014722,
     "end_time": "2025-08-19T18:18:56.605592",
     "exception": false,
     "start_time": "2025-08-19T18:18:56.590870",
     "status": "completed"
    },
    "tags": []
   },
   "source": [
    "# Setup"
   ]
  },
  {
   "cell_type": "code",
   "execution_count": 1,
   "id": "0bc8e7dc",
   "metadata": {
    "execution": {
     "iopub.execute_input": "2025-08-19T18:18:56.646846Z",
     "iopub.status.busy": "2025-08-19T18:18:56.646316Z",
     "iopub.status.idle": "2025-08-19T18:18:56.656325Z",
     "shell.execute_reply": "2025-08-19T18:18:56.655601Z"
    },
    "papermill": {
     "duration": 0.040735,
     "end_time": "2025-08-19T18:18:56.666616",
     "exception": false,
     "start_time": "2025-08-19T18:18:56.625881",
     "status": "completed"
    },
    "tags": []
   },
   "outputs": [
    {
     "name": "stdout",
     "output_type": "stream",
     "text": [
      "/dss/dsshome1/0C/ra93lal2/cma/CMA_Fairness_v2\n"
     ]
    },
    {
     "name": "stderr",
     "output_type": "stream",
     "text": [
      "/dss/dsshome1/0C/ra93lal2/.local/share/virtualenvs/CMA_Fairness_v2-3j10GkSs/lib/python3.10/site-packages/IPython/core/magics/osm.py:393: UserWarning: This is now an optional IPython functionality, using bookmarks requires you to install the `pickleshare` library.\n",
      "  bkms = self.shell.db.get('bookmarks', {})\n",
      "/dss/dsshome1/0C/ra93lal2/.local/share/virtualenvs/CMA_Fairness_v2-3j10GkSs/lib/python3.10/site-packages/IPython/core/magics/osm.py:417: UserWarning: This is now an optional IPython functionality, setting dhist requires you to install the `pickleshare` library.\n",
      "  self.shell.db['dhist'] = compress_dhist(dhist)[-100:]\n"
     ]
    }
   ],
   "source": [
    "%cd ~/cma/CMA_Fairness_v2"
   ]
  },
  {
   "cell_type": "markdown",
   "id": "9d235661",
   "metadata": {
    "papermill": {
     "duration": 0.025849,
     "end_time": "2025-08-19T18:18:56.703082",
     "exception": false,
     "start_time": "2025-08-19T18:18:56.677233",
     "status": "completed"
    },
    "tags": []
   },
   "source": [
    "The following cell holds the definition of our parameters, these values can be overriden by rendering the with e.g. the following command:\n",
    "\n",
    "papermill -p alpha 0.2 -p ratio 0.3 universe_analysis.ipynb output/test_run.ipynb"
   ]
  },
  {
   "cell_type": "code",
   "execution_count": 2,
   "id": "4a789d8e",
   "metadata": {
    "execution": {
     "iopub.execute_input": "2025-08-19T18:18:56.724547Z",
     "iopub.status.busy": "2025-08-19T18:18:56.724229Z",
     "iopub.status.idle": "2025-08-19T18:18:56.728853Z",
     "shell.execute_reply": "2025-08-19T18:18:56.727869Z"
    },
    "papermill": {
     "duration": 0.016267,
     "end_time": "2025-08-19T18:18:56.730485",
     "exception": false,
     "start_time": "2025-08-19T18:18:56.714218",
     "status": "completed"
    },
    "tags": []
   },
   "outputs": [
    {
     "name": "stdout",
     "output_type": "stream",
     "text": [
      "Current working directory: /dss/dsshome1/0C/ra93lal2/cma/CMA_Fairness_v2\n"
     ]
    }
   ],
   "source": [
    "import os\n",
    "print(\"Current working directory:\", os.getcwd())"
   ]
  },
  {
   "cell_type": "code",
   "execution_count": 3,
   "id": "4132aaed",
   "metadata": {
    "execution": {
     "iopub.execute_input": "2025-08-19T18:18:56.753729Z",
     "iopub.status.busy": "2025-08-19T18:18:56.753463Z",
     "iopub.status.idle": "2025-08-19T18:18:56.758679Z",
     "shell.execute_reply": "2025-08-19T18:18:56.757976Z"
    },
    "papermill": {
     "duration": 0.018169,
     "end_time": "2025-08-19T18:18:56.759891",
     "exception": false,
     "start_time": "2025-08-19T18:18:56.741722",
     "status": "completed"
    },
    "tags": [
     "parameters"
    ]
   },
   "outputs": [],
   "source": [
    "run_no = 0\n",
    "universe_id = \"test\"\n",
    "universe = {\n",
    "    \"training_size\": \"5k\", # \"25k\", \"5k\", \"1k\"\n",
    "    \"training_year\": \"2012_14\", # \"2014\", \"2012_14\", \"2010_14\"\n",
    "    \"scale\": \"scale\", # \"scale\", \"do-not-scale\",\n",
    "    \"model\": \"elasticnet\", # \"logreg\", \"penalized_logreg\", \"rf\", \"gbm\", \"elasticnet\"\n",
    "    \"cutoff\": [\"quantile_0.15\", \"quantile_0.30\"],\n",
    "    \"exclude_features\": \"age\", # \"none\", \"nationality\", \"sex\", \"nationality-sex\", \"age\"\n",
    "    \"exclude_subgroups\": \"drop-non-german\", # \"keep-all\", \"drop-non-german\"\n",
    "    \"eval_fairness_grouping\": [\"majority-minority\", \"nationality-all\"]\n",
    "}\n",
    "\n",
    "output_dir=\"./output\"\n",
    "seed=0"
   ]
  },
  {
   "cell_type": "code",
   "execution_count": 4,
   "id": "381e5cb9",
   "metadata": {
    "execution": {
     "iopub.execute_input": "2025-08-19T18:18:56.780881Z",
     "iopub.status.busy": "2025-08-19T18:18:56.780637Z",
     "iopub.status.idle": "2025-08-19T18:18:56.784850Z",
     "shell.execute_reply": "2025-08-19T18:18:56.784030Z"
    },
    "papermill": {
     "duration": 0.015336,
     "end_time": "2025-08-19T18:18:56.785995",
     "exception": false,
     "start_time": "2025-08-19T18:18:56.770659",
     "status": "completed"
    },
    "tags": [
     "injected-parameters"
    ]
   },
   "outputs": [],
   "source": [
    "# Parameters\n",
    "universe_id = \"02ddeec67932ec5ce4cb2ecc20db26ba\"\n",
    "run_no = \"3\"\n",
    "universe = \"{\\\"cutoff\\\": [\\\"quantile_0.1\\\", \\\"quantile_0.25\\\"], \\\"eval_fairness_grouping\\\": [\\\"majority-minority\\\", \\\"nationality-all\\\"], \\\"exclude_features\\\": \\\"nationality-sex\\\", \\\"exclude_subgroups\\\": \\\"drop-non-german\\\", \\\"model\\\": \\\"penalized_logreg\\\", \\\"scale\\\": \\\"do-not-scale\\\", \\\"training_size\\\": \\\"25k\\\", \\\"training_year\\\": \\\"2010_14\\\"}\"\n",
    "output_dir = \"output\"\n",
    "seed = \"2023\"\n"
   ]
  },
  {
   "cell_type": "code",
   "execution_count": 5,
   "id": "a5d7941f",
   "metadata": {
    "execution": {
     "iopub.execute_input": "2025-08-19T18:18:56.809019Z",
     "iopub.status.busy": "2025-08-19T18:18:56.805243Z",
     "iopub.status.idle": "2025-08-19T18:18:56.851688Z",
     "shell.execute_reply": "2025-08-19T18:18:56.850984Z"
    },
    "papermill": {
     "duration": 0.059531,
     "end_time": "2025-08-19T18:18:56.854516",
     "exception": false,
     "start_time": "2025-08-19T18:18:56.794985",
     "status": "completed"
    },
    "tags": []
   },
   "outputs": [],
   "source": [
    "import json\n",
    "if isinstance(universe, str):\n",
    "    universe = json.loads(universe)"
   ]
  },
  {
   "cell_type": "code",
   "execution_count": 6,
   "id": "7076ccb1",
   "metadata": {
    "execution": {
     "iopub.execute_input": "2025-08-19T18:18:56.971646Z",
     "iopub.status.busy": "2025-08-19T18:18:56.971338Z",
     "iopub.status.idle": "2025-08-19T18:18:57.007850Z",
     "shell.execute_reply": "2025-08-19T18:18:57.007120Z"
    },
    "papermill": {
     "duration": 0.049035,
     "end_time": "2025-08-19T18:18:57.010076",
     "exception": false,
     "start_time": "2025-08-19T18:18:56.961041",
     "status": "completed"
    },
    "tags": []
   },
   "outputs": [],
   "source": [
    "# Auto-reload the custom package\n",
    "%load_ext autoreload\n",
    "%autoreload 1\n",
    "%aimport fairness_multiverse"
   ]
  },
  {
   "cell_type": "code",
   "execution_count": 7,
   "id": "94c8eb93",
   "metadata": {
    "execution": {
     "iopub.execute_input": "2025-08-19T18:18:57.048830Z",
     "iopub.status.busy": "2025-08-19T18:18:57.047534Z",
     "iopub.status.idle": "2025-08-19T18:18:58.622627Z",
     "shell.execute_reply": "2025-08-19T18:18:58.621531Z"
    },
    "papermill": {
     "duration": 1.591438,
     "end_time": "2025-08-19T18:18:58.624554",
     "exception": false,
     "start_time": "2025-08-19T18:18:57.033116",
     "status": "completed"
    },
    "tags": []
   },
   "outputs": [],
   "source": [
    "from fairness_multiverse.universe import UniverseAnalysis\n",
    "\n",
    "universe_analysis = UniverseAnalysis(\n",
    "    run_no = run_no,\n",
    "    universe_id = universe_id,\n",
    "    universe = universe,\n",
    "    output_dir=output_dir,\n",
    ")"
   ]
  },
  {
   "cell_type": "code",
   "execution_count": 8,
   "id": "2a6381cf",
   "metadata": {
    "execution": {
     "iopub.execute_input": "2025-08-19T18:18:58.651737Z",
     "iopub.status.busy": "2025-08-19T18:18:58.650461Z",
     "iopub.status.idle": "2025-08-19T18:18:58.660792Z",
     "shell.execute_reply": "2025-08-19T18:18:58.659638Z"
    },
    "papermill": {
     "duration": 0.024866,
     "end_time": "2025-08-19T18:18:58.662556",
     "exception": false,
     "start_time": "2025-08-19T18:18:58.637690",
     "status": "completed"
    },
    "tags": []
   },
   "outputs": [
    {
     "name": "stdout",
     "output_type": "stream",
     "text": [
      "Using Seed: 2023\n"
     ]
    }
   ],
   "source": [
    "import numpy as np\n",
    "parsed_seed = int(seed)\n",
    "np.random.seed(parsed_seed)\n",
    "print(f\"Using Seed: {parsed_seed}\")"
   ]
  },
  {
   "cell_type": "markdown",
   "id": "b6e958b4",
   "metadata": {
    "papermill": {
     "duration": 0.010458,
     "end_time": "2025-08-19T18:18:58.686359",
     "exception": false,
     "start_time": "2025-08-19T18:18:58.675901",
     "status": "completed"
    },
    "tags": []
   },
   "source": [
    "# Loading Data"
   ]
  },
  {
   "cell_type": "code",
   "execution_count": 9,
   "id": "98701482",
   "metadata": {
    "execution": {
     "iopub.execute_input": "2025-08-19T18:18:58.708431Z",
     "iopub.status.busy": "2025-08-19T18:18:58.707162Z",
     "iopub.status.idle": "2025-08-19T18:19:08.821243Z",
     "shell.execute_reply": "2025-08-19T18:19:08.820144Z"
    },
    "papermill": {
     "duration": 10.126608,
     "end_time": "2025-08-19T18:19:08.822541",
     "exception": false,
     "start_time": "2025-08-19T18:18:58.695933",
     "status": "completed"
    },
    "tags": []
   },
   "outputs": [
    {
     "name": "stdout",
     "output_type": "stream",
     "text": [
      "Loading SIAB data from cache: data/siab_cached.csv.gz\n"
     ]
    },
    {
     "name": "stdout",
     "output_type": "stream",
     "text": [
      "(643690, 164)\n"
     ]
    }
   ],
   "source": [
    "from pathlib import Path\n",
    "import pandas as pd\n",
    "\n",
    "# File paths\n",
    "raw_file = Path(\"data/raw/siab.csv\")\n",
    "cache_file = Path(\"data/siab_cached.csv.gz\")\n",
    "\n",
    "# Ensure cache directory exists\n",
    "cache_file.parent.mkdir(parents=True, exist_ok=True)\n",
    "\n",
    "# Load with simple caching\n",
    "if cache_file.exists():\n",
    "    print(f\"Loading SIAB data from cache: {cache_file}\")\n",
    "    siab = pd.read_csv(cache_file, compression='gzip')\n",
    "else:\n",
    "    print(f\"Cache not found. Reading raw SIAB data: {raw_file}\")\n",
    "    siab = pd.read_csv(raw_file)\n",
    "    siab.to_csv(cache_file, index=False, compression='gzip')\n",
    "    print(f\"Cached SIAB data to: {cache_file}\")\n",
    "\n",
    "print(siab.shape)"
   ]
  },
  {
   "cell_type": "code",
   "execution_count": 10,
   "id": "058d2abb",
   "metadata": {
    "execution": {
     "iopub.execute_input": "2025-08-19T18:19:08.860971Z",
     "iopub.status.busy": "2025-08-19T18:19:08.859691Z",
     "iopub.status.idle": "2025-08-19T18:19:09.091150Z",
     "shell.execute_reply": "2025-08-19T18:19:09.090440Z"
    },
    "papermill": {
     "duration": 0.258816,
     "end_time": "2025-08-19T18:19:09.094110",
     "exception": false,
     "start_time": "2025-08-19T18:19:08.835294",
     "status": "completed"
    },
    "tags": []
   },
   "outputs": [
    {
     "data": {
      "text/html": [
       "<div>\n",
       "<style scoped>\n",
       "    .dataframe tbody tr th:only-of-type {\n",
       "        vertical-align: middle;\n",
       "    }\n",
       "\n",
       "    .dataframe tbody tr th {\n",
       "        vertical-align: top;\n",
       "    }\n",
       "\n",
       "    .dataframe thead th {\n",
       "        text-align: right;\n",
       "    }\n",
       "</style>\n",
       "<table border=\"1\" class=\"dataframe\">\n",
       "  <thead>\n",
       "    <tr style=\"text-align: right;\">\n",
       "      <th></th>\n",
       "      <th>persnr</th>\n",
       "      <th>year</th>\n",
       "      <th>nrEntry</th>\n",
       "      <th>ltue</th>\n",
       "      <th>employed_before</th>\n",
       "      <th>receipt_leh_before</th>\n",
       "      <th>receipt_lhg_before</th>\n",
       "      <th>se_before</th>\n",
       "      <th>ASU_notue_seeking_before</th>\n",
       "      <th>ASU_other_before</th>\n",
       "      <th>...</th>\n",
       "      <th>minijob_tot_dur_byage</th>\n",
       "      <th>ft_tot_dur_byage</th>\n",
       "      <th>befrist_tot_dur_byage</th>\n",
       "      <th>leih_tot_dur_byage</th>\n",
       "      <th>LHG_tot_dur_byage</th>\n",
       "      <th>LEH_tot_dur_byage</th>\n",
       "      <th>almp_tot_dur_byage</th>\n",
       "      <th>almp_aw_tot_dur_byage</th>\n",
       "      <th>se_tot_dur_byage</th>\n",
       "      <th>seeking1_tot_dur_byage</th>\n",
       "    </tr>\n",
       "  </thead>\n",
       "  <tbody>\n",
       "    <tr>\n",
       "      <th>0</th>\n",
       "      <td>7</td>\n",
       "      <td>2015</td>\n",
       "      <td>1</td>\n",
       "      <td>0</td>\n",
       "      <td>1</td>\n",
       "      <td>0</td>\n",
       "      <td>0</td>\n",
       "      <td>0</td>\n",
       "      <td>1</td>\n",
       "      <td>0</td>\n",
       "      <td>...</td>\n",
       "      <td>0.000000</td>\n",
       "      <td>0.000000</td>\n",
       "      <td>15.043478</td>\n",
       "      <td>0.000000</td>\n",
       "      <td>0.000000</td>\n",
       "      <td>0.000000</td>\n",
       "      <td>0.000000</td>\n",
       "      <td>0.000000</td>\n",
       "      <td>0.000000</td>\n",
       "      <td>0.000000</td>\n",
       "    </tr>\n",
       "    <tr>\n",
       "      <th>1</th>\n",
       "      <td>18</td>\n",
       "      <td>2010</td>\n",
       "      <td>1</td>\n",
       "      <td>1</td>\n",
       "      <td>0</td>\n",
       "      <td>0</td>\n",
       "      <td>0</td>\n",
       "      <td>0</td>\n",
       "      <td>0</td>\n",
       "      <td>0</td>\n",
       "      <td>...</td>\n",
       "      <td>0.000000</td>\n",
       "      <td>0.000000</td>\n",
       "      <td>0.000000</td>\n",
       "      <td>0.000000</td>\n",
       "      <td>0.000000</td>\n",
       "      <td>0.000000</td>\n",
       "      <td>0.000000</td>\n",
       "      <td>0.000000</td>\n",
       "      <td>0.000000</td>\n",
       "      <td>0.000000</td>\n",
       "    </tr>\n",
       "    <tr>\n",
       "      <th>2</th>\n",
       "      <td>18</td>\n",
       "      <td>2011</td>\n",
       "      <td>2</td>\n",
       "      <td>0</td>\n",
       "      <td>1</td>\n",
       "      <td>0</td>\n",
       "      <td>1</td>\n",
       "      <td>0</td>\n",
       "      <td>1</td>\n",
       "      <td>0</td>\n",
       "      <td>...</td>\n",
       "      <td>2.714286</td>\n",
       "      <td>2.714286</td>\n",
       "      <td>0.000000</td>\n",
       "      <td>0.000000</td>\n",
       "      <td>10.775510</td>\n",
       "      <td>0.000000</td>\n",
       "      <td>8.367347</td>\n",
       "      <td>0.000000</td>\n",
       "      <td>0.000000</td>\n",
       "      <td>9.836735</td>\n",
       "    </tr>\n",
       "    <tr>\n",
       "      <th>3</th>\n",
       "      <td>18</td>\n",
       "      <td>2012</td>\n",
       "      <td>3</td>\n",
       "      <td>0</td>\n",
       "      <td>1</td>\n",
       "      <td>0</td>\n",
       "      <td>1</td>\n",
       "      <td>0</td>\n",
       "      <td>1</td>\n",
       "      <td>0</td>\n",
       "      <td>...</td>\n",
       "      <td>4.200000</td>\n",
       "      <td>4.200000</td>\n",
       "      <td>0.000000</td>\n",
       "      <td>0.000000</td>\n",
       "      <td>12.100000</td>\n",
       "      <td>0.000000</td>\n",
       "      <td>9.400000</td>\n",
       "      <td>0.000000</td>\n",
       "      <td>0.000000</td>\n",
       "      <td>9.960000</td>\n",
       "    </tr>\n",
       "    <tr>\n",
       "      <th>4</th>\n",
       "      <td>18</td>\n",
       "      <td>2012</td>\n",
       "      <td>4</td>\n",
       "      <td>0</td>\n",
       "      <td>1</td>\n",
       "      <td>0</td>\n",
       "      <td>1</td>\n",
       "      <td>0</td>\n",
       "      <td>1</td>\n",
       "      <td>0</td>\n",
       "      <td>...</td>\n",
       "      <td>5.460000</td>\n",
       "      <td>5.460000</td>\n",
       "      <td>0.000000</td>\n",
       "      <td>0.000000</td>\n",
       "      <td>13.360000</td>\n",
       "      <td>0.000000</td>\n",
       "      <td>10.320000</td>\n",
       "      <td>0.000000</td>\n",
       "      <td>0.000000</td>\n",
       "      <td>10.280000</td>\n",
       "    </tr>\n",
       "    <tr>\n",
       "      <th>...</th>\n",
       "      <td>...</td>\n",
       "      <td>...</td>\n",
       "      <td>...</td>\n",
       "      <td>...</td>\n",
       "      <td>...</td>\n",
       "      <td>...</td>\n",
       "      <td>...</td>\n",
       "      <td>...</td>\n",
       "      <td>...</td>\n",
       "      <td>...</td>\n",
       "      <td>...</td>\n",
       "      <td>...</td>\n",
       "      <td>...</td>\n",
       "      <td>...</td>\n",
       "      <td>...</td>\n",
       "      <td>...</td>\n",
       "      <td>...</td>\n",
       "      <td>...</td>\n",
       "      <td>...</td>\n",
       "      <td>...</td>\n",
       "      <td>...</td>\n",
       "    </tr>\n",
       "    <tr>\n",
       "      <th>643685</th>\n",
       "      <td>1827860</td>\n",
       "      <td>2013</td>\n",
       "      <td>1</td>\n",
       "      <td>0</td>\n",
       "      <td>0</td>\n",
       "      <td>0</td>\n",
       "      <td>1</td>\n",
       "      <td>0</td>\n",
       "      <td>0</td>\n",
       "      <td>1</td>\n",
       "      <td>...</td>\n",
       "      <td>0.000000</td>\n",
       "      <td>0.000000</td>\n",
       "      <td>0.000000</td>\n",
       "      <td>0.000000</td>\n",
       "      <td>0.612903</td>\n",
       "      <td>0.000000</td>\n",
       "      <td>0.000000</td>\n",
       "      <td>0.000000</td>\n",
       "      <td>0.000000</td>\n",
       "      <td>0.000000</td>\n",
       "    </tr>\n",
       "    <tr>\n",
       "      <th>643686</th>\n",
       "      <td>1827860</td>\n",
       "      <td>2015</td>\n",
       "      <td>2</td>\n",
       "      <td>1</td>\n",
       "      <td>0</td>\n",
       "      <td>0</td>\n",
       "      <td>1</td>\n",
       "      <td>0</td>\n",
       "      <td>1</td>\n",
       "      <td>0</td>\n",
       "      <td>...</td>\n",
       "      <td>0.000000</td>\n",
       "      <td>0.000000</td>\n",
       "      <td>0.212121</td>\n",
       "      <td>0.212121</td>\n",
       "      <td>17.363636</td>\n",
       "      <td>0.000000</td>\n",
       "      <td>8.909091</td>\n",
       "      <td>0.000000</td>\n",
       "      <td>0.000000</td>\n",
       "      <td>7.121212</td>\n",
       "    </tr>\n",
       "    <tr>\n",
       "      <th>643687</th>\n",
       "      <td>1827860</td>\n",
       "      <td>2016</td>\n",
       "      <td>3</td>\n",
       "      <td>1</td>\n",
       "      <td>0</td>\n",
       "      <td>0</td>\n",
       "      <td>1</td>\n",
       "      <td>1</td>\n",
       "      <td>0</td>\n",
       "      <td>1</td>\n",
       "      <td>...</td>\n",
       "      <td>0.000000</td>\n",
       "      <td>0.000000</td>\n",
       "      <td>0.294118</td>\n",
       "      <td>0.205882</td>\n",
       "      <td>34.705882</td>\n",
       "      <td>0.000000</td>\n",
       "      <td>10.352941</td>\n",
       "      <td>1.705882</td>\n",
       "      <td>1.705882</td>\n",
       "      <td>23.911765</td>\n",
       "    </tr>\n",
       "    <tr>\n",
       "      <th>643688</th>\n",
       "      <td>1827869</td>\n",
       "      <td>2013</td>\n",
       "      <td>1</td>\n",
       "      <td>1</td>\n",
       "      <td>1</td>\n",
       "      <td>0</td>\n",
       "      <td>0</td>\n",
       "      <td>0</td>\n",
       "      <td>1</td>\n",
       "      <td>0</td>\n",
       "      <td>...</td>\n",
       "      <td>0.000000</td>\n",
       "      <td>0.000000</td>\n",
       "      <td>0.000000</td>\n",
       "      <td>0.000000</td>\n",
       "      <td>0.000000</td>\n",
       "      <td>0.525424</td>\n",
       "      <td>0.000000</td>\n",
       "      <td>0.000000</td>\n",
       "      <td>0.000000</td>\n",
       "      <td>0.000000</td>\n",
       "    </tr>\n",
       "    <tr>\n",
       "      <th>643689</th>\n",
       "      <td>1827869</td>\n",
       "      <td>2014</td>\n",
       "      <td>2</td>\n",
       "      <td>0</td>\n",
       "      <td>0</td>\n",
       "      <td>1</td>\n",
       "      <td>0</td>\n",
       "      <td>0</td>\n",
       "      <td>1</td>\n",
       "      <td>0</td>\n",
       "      <td>...</td>\n",
       "      <td>0.000000</td>\n",
       "      <td>0.666667</td>\n",
       "      <td>0.666667</td>\n",
       "      <td>0.000000</td>\n",
       "      <td>0.000000</td>\n",
       "      <td>8.950000</td>\n",
       "      <td>1.033333</td>\n",
       "      <td>0.083333</td>\n",
       "      <td>0.083333</td>\n",
       "      <td>8.133333</td>\n",
       "    </tr>\n",
       "  </tbody>\n",
       "</table>\n",
       "<p>643690 rows × 164 columns</p>\n",
       "</div>"
      ],
      "text/plain": [
       "         persnr  year  nrEntry  ltue  employed_before  receipt_leh_before  \\\n",
       "0             7  2015        1     0                1                   0   \n",
       "1            18  2010        1     1                0                   0   \n",
       "2            18  2011        2     0                1                   0   \n",
       "3            18  2012        3     0                1                   0   \n",
       "4            18  2012        4     0                1                   0   \n",
       "...         ...   ...      ...   ...              ...                 ...   \n",
       "643685  1827860  2013        1     0                0                   0   \n",
       "643686  1827860  2015        2     1                0                   0   \n",
       "643687  1827860  2016        3     1                0                   0   \n",
       "643688  1827869  2013        1     1                1                   0   \n",
       "643689  1827869  2014        2     0                0                   1   \n",
       "\n",
       "        receipt_lhg_before  se_before  ASU_notue_seeking_before  \\\n",
       "0                        0          0                         1   \n",
       "1                        0          0                         0   \n",
       "2                        1          0                         1   \n",
       "3                        1          0                         1   \n",
       "4                        1          0                         1   \n",
       "...                    ...        ...                       ...   \n",
       "643685                   1          0                         0   \n",
       "643686                   1          0                         1   \n",
       "643687                   1          1                         0   \n",
       "643688                   0          0                         1   \n",
       "643689                   0          0                         1   \n",
       "\n",
       "        ASU_other_before  ...  minijob_tot_dur_byage  ft_tot_dur_byage  \\\n",
       "0                      0  ...               0.000000          0.000000   \n",
       "1                      0  ...               0.000000          0.000000   \n",
       "2                      0  ...               2.714286          2.714286   \n",
       "3                      0  ...               4.200000          4.200000   \n",
       "4                      0  ...               5.460000          5.460000   \n",
       "...                  ...  ...                    ...               ...   \n",
       "643685                 1  ...               0.000000          0.000000   \n",
       "643686                 0  ...               0.000000          0.000000   \n",
       "643687                 1  ...               0.000000          0.000000   \n",
       "643688                 0  ...               0.000000          0.000000   \n",
       "643689                 0  ...               0.000000          0.666667   \n",
       "\n",
       "        befrist_tot_dur_byage  leih_tot_dur_byage  LHG_tot_dur_byage  \\\n",
       "0                   15.043478            0.000000           0.000000   \n",
       "1                    0.000000            0.000000           0.000000   \n",
       "2                    0.000000            0.000000          10.775510   \n",
       "3                    0.000000            0.000000          12.100000   \n",
       "4                    0.000000            0.000000          13.360000   \n",
       "...                       ...                 ...                ...   \n",
       "643685               0.000000            0.000000           0.612903   \n",
       "643686               0.212121            0.212121          17.363636   \n",
       "643687               0.294118            0.205882          34.705882   \n",
       "643688               0.000000            0.000000           0.000000   \n",
       "643689               0.666667            0.000000           0.000000   \n",
       "\n",
       "        LEH_tot_dur_byage  almp_tot_dur_byage  almp_aw_tot_dur_byage  \\\n",
       "0                0.000000            0.000000               0.000000   \n",
       "1                0.000000            0.000000               0.000000   \n",
       "2                0.000000            8.367347               0.000000   \n",
       "3                0.000000            9.400000               0.000000   \n",
       "4                0.000000           10.320000               0.000000   \n",
       "...                   ...                 ...                    ...   \n",
       "643685           0.000000            0.000000               0.000000   \n",
       "643686           0.000000            8.909091               0.000000   \n",
       "643687           0.000000           10.352941               1.705882   \n",
       "643688           0.525424            0.000000               0.000000   \n",
       "643689           8.950000            1.033333               0.083333   \n",
       "\n",
       "        se_tot_dur_byage  seeking1_tot_dur_byage  \n",
       "0               0.000000                0.000000  \n",
       "1               0.000000                0.000000  \n",
       "2               0.000000                9.836735  \n",
       "3               0.000000                9.960000  \n",
       "4               0.000000               10.280000  \n",
       "...                  ...                     ...  \n",
       "643685          0.000000                0.000000  \n",
       "643686          0.000000                7.121212  \n",
       "643687          1.705882               23.911765  \n",
       "643688          0.000000                0.000000  \n",
       "643689          0.083333                8.133333  \n",
       "\n",
       "[643690 rows x 164 columns]"
      ]
     },
     "execution_count": 10,
     "metadata": {},
     "output_type": "execute_result"
    }
   ],
   "source": [
    "siab"
   ]
  },
  {
   "cell_type": "markdown",
   "id": "1f87e805",
   "metadata": {
    "papermill": {
     "duration": 0.011764,
     "end_time": "2025-08-19T18:19:09.127435",
     "exception": false,
     "start_time": "2025-08-19T18:19:09.115671",
     "status": "completed"
    },
    "tags": []
   },
   "source": [
    "# Splitting Data and Setting Training Data Size"
   ]
  },
  {
   "cell_type": "code",
   "execution_count": 11,
   "id": "910ae358",
   "metadata": {
    "execution": {
     "iopub.execute_input": "2025-08-19T18:19:09.154985Z",
     "iopub.status.busy": "2025-08-19T18:19:09.148664Z",
     "iopub.status.idle": "2025-08-19T18:19:10.430108Z",
     "shell.execute_reply": "2025-08-19T18:19:10.428974Z"
    },
    "papermill": {
     "duration": 1.294666,
     "end_time": "2025-08-19T18:19:10.431998",
     "exception": false,
     "start_time": "2025-08-19T18:19:09.137332",
     "status": "completed"
    },
    "tags": []
   },
   "outputs": [],
   "source": [
    "from fairness_multiverse.universe import sample_by_year_size\n",
    "\n",
    "siab_train = sample_by_year_size(siab,\n",
    "                               training_year=universe[\"training_year\"],\n",
    "                               training_size=universe[\"training_size\"])"
   ]
  },
  {
   "cell_type": "code",
   "execution_count": 12,
   "id": "919c8ff5",
   "metadata": {
    "execution": {
     "iopub.execute_input": "2025-08-19T18:19:10.455027Z",
     "iopub.status.busy": "2025-08-19T18:19:10.453990Z",
     "iopub.status.idle": "2025-08-19T18:19:10.464976Z",
     "shell.execute_reply": "2025-08-19T18:19:10.463857Z"
    },
    "papermill": {
     "duration": 0.023872,
     "end_time": "2025-08-19T18:19:10.466379",
     "exception": false,
     "start_time": "2025-08-19T18:19:10.442507",
     "status": "completed"
    },
    "tags": []
   },
   "outputs": [
    {
     "data": {
      "text/plain": [
       "(25000, 164)"
      ]
     },
     "execution_count": 12,
     "metadata": {},
     "output_type": "execute_result"
    }
   ],
   "source": [
    "siab_train.shape"
   ]
  },
  {
   "cell_type": "code",
   "execution_count": 13,
   "id": "feb13bf4",
   "metadata": {
    "execution": {
     "iopub.execute_input": "2025-08-19T18:19:10.490737Z",
     "iopub.status.busy": "2025-08-19T18:19:10.489718Z",
     "iopub.status.idle": "2025-08-19T18:19:10.507011Z",
     "shell.execute_reply": "2025-08-19T18:19:10.505715Z"
    },
    "papermill": {
     "duration": 0.030164,
     "end_time": "2025-08-19T18:19:10.508817",
     "exception": false,
     "start_time": "2025-08-19T18:19:10.478653",
     "status": "completed"
    },
    "tags": []
   },
   "outputs": [
    {
     "data": {
      "text/plain": [
       "year\n",
       "2010    5000\n",
       "2011    5000\n",
       "2012    5000\n",
       "2013    5000\n",
       "2014    5000\n",
       "dtype: int64"
      ]
     },
     "metadata": {},
     "output_type": "display_data"
    }
   ],
   "source": [
    "display(siab_train.groupby(\"year\").size())"
   ]
  },
  {
   "cell_type": "code",
   "execution_count": 14,
   "id": "0997782f",
   "metadata": {
    "execution": {
     "iopub.execute_input": "2025-08-19T18:19:10.544452Z",
     "iopub.status.busy": "2025-08-19T18:19:10.540753Z",
     "iopub.status.idle": "2025-08-19T18:19:10.857755Z",
     "shell.execute_reply": "2025-08-19T18:19:10.856916Z"
    },
    "papermill": {
     "duration": 0.334933,
     "end_time": "2025-08-19T18:19:10.859623",
     "exception": false,
     "start_time": "2025-08-19T18:19:10.524690",
     "status": "completed"
    },
    "tags": []
   },
   "outputs": [],
   "source": [
    "#siab_train = siab_s[siab_s.year < 2015]\n",
    "siab_calib = siab[siab.year == 2015]\n",
    "siab_test = siab[siab.year == 2016]"
   ]
  },
  {
   "cell_type": "code",
   "execution_count": 15,
   "id": "2c1e4012",
   "metadata": {
    "execution": {
     "iopub.execute_input": "2025-08-19T18:19:10.884275Z",
     "iopub.status.busy": "2025-08-19T18:19:10.883226Z",
     "iopub.status.idle": "2025-08-19T18:19:10.890049Z",
     "shell.execute_reply": "2025-08-19T18:19:10.888779Z"
    },
    "papermill": {
     "duration": 0.019695,
     "end_time": "2025-08-19T18:19:10.891404",
     "exception": false,
     "start_time": "2025-08-19T18:19:10.871709",
     "status": "completed"
    },
    "tags": []
   },
   "outputs": [],
   "source": [
    "#siab_calib.shape"
   ]
  },
  {
   "cell_type": "code",
   "execution_count": 16,
   "id": "f66b54ca",
   "metadata": {
    "execution": {
     "iopub.execute_input": "2025-08-19T18:19:10.915536Z",
     "iopub.status.busy": "2025-08-19T18:19:10.914575Z",
     "iopub.status.idle": "2025-08-19T18:19:10.922639Z",
     "shell.execute_reply": "2025-08-19T18:19:10.921233Z"
    },
    "papermill": {
     "duration": 0.022417,
     "end_time": "2025-08-19T18:19:10.924168",
     "exception": false,
     "start_time": "2025-08-19T18:19:10.901751",
     "status": "completed"
    },
    "tags": []
   },
   "outputs": [],
   "source": [
    "#siab_test.shape"
   ]
  },
  {
   "cell_type": "code",
   "execution_count": 17,
   "id": "27e4384d",
   "metadata": {
    "execution": {
     "iopub.execute_input": "2025-08-19T18:19:10.950533Z",
     "iopub.status.busy": "2025-08-19T18:19:10.949596Z",
     "iopub.status.idle": "2025-08-19T18:19:10.993483Z",
     "shell.execute_reply": "2025-08-19T18:19:10.992555Z"
    },
    "papermill": {
     "duration": 0.06004,
     "end_time": "2025-08-19T18:19:10.996359",
     "exception": false,
     "start_time": "2025-08-19T18:19:10.936319",
     "status": "completed"
    },
    "tags": []
   },
   "outputs": [],
   "source": [
    "X_train = siab_train.iloc[:,4:164]\n",
    "y_train = siab_train.iloc[:, [3]]"
   ]
  },
  {
   "cell_type": "code",
   "execution_count": 18,
   "id": "08ee8389",
   "metadata": {
    "execution": {
     "iopub.execute_input": "2025-08-19T18:19:11.051722Z",
     "iopub.status.busy": "2025-08-19T18:19:11.050632Z",
     "iopub.status.idle": "2025-08-19T18:19:11.112284Z",
     "shell.execute_reply": "2025-08-19T18:19:11.111437Z"
    },
    "papermill": {
     "duration": 0.083458,
     "end_time": "2025-08-19T18:19:11.115106",
     "exception": false,
     "start_time": "2025-08-19T18:19:11.031648",
     "status": "completed"
    },
    "tags": []
   },
   "outputs": [],
   "source": [
    "X_calib = siab_calib.iloc[:,4:164]\n",
    "y_calib = siab_calib.iloc[:, [3]]"
   ]
  },
  {
   "cell_type": "code",
   "execution_count": 19,
   "id": "b7ff42e0",
   "metadata": {
    "execution": {
     "iopub.execute_input": "2025-08-19T18:19:11.155039Z",
     "iopub.status.busy": "2025-08-19T18:19:11.154007Z",
     "iopub.status.idle": "2025-08-19T18:19:11.218587Z",
     "shell.execute_reply": "2025-08-19T18:19:11.217809Z"
    },
    "papermill": {
     "duration": 0.080123,
     "end_time": "2025-08-19T18:19:11.221258",
     "exception": false,
     "start_time": "2025-08-19T18:19:11.141135",
     "status": "completed"
    },
    "tags": []
   },
   "outputs": [],
   "source": [
    "X_test = siab_test.iloc[:,4:164]\n",
    "y_true = siab_test.iloc[:, [3]]"
   ]
  },
  {
   "cell_type": "code",
   "execution_count": 20,
   "id": "0275101e",
   "metadata": {
    "execution": {
     "iopub.execute_input": "2025-08-19T18:19:11.262389Z",
     "iopub.status.busy": "2025-08-19T18:19:11.261403Z",
     "iopub.status.idle": "2025-08-19T18:19:11.406970Z",
     "shell.execute_reply": "2025-08-19T18:19:11.406273Z"
    },
    "papermill": {
     "duration": 0.162164,
     "end_time": "2025-08-19T18:19:11.408687",
     "exception": false,
     "start_time": "2025-08-19T18:19:11.246523",
     "status": "completed"
    },
    "tags": []
   },
   "outputs": [],
   "source": [
    "# Auxiliary data needed downstream in the pipeline\n",
    "\n",
    "org_train = X_train.copy()\n",
    "org_test = X_test.copy()\n",
    "org_calib = X_calib.copy()"
   ]
  },
  {
   "cell_type": "markdown",
   "id": "b461e618",
   "metadata": {
    "papermill": {
     "duration": 0.022284,
     "end_time": "2025-08-19T18:19:11.446055",
     "exception": false,
     "start_time": "2025-08-19T18:19:11.423771",
     "status": "completed"
    },
    "tags": []
   },
   "source": [
    "# Preprocessing Data"
   ]
  },
  {
   "cell_type": "code",
   "execution_count": 21,
   "id": "78e74c4b",
   "metadata": {
    "execution": {
     "iopub.execute_input": "2025-08-19T18:19:11.485357Z",
     "iopub.status.busy": "2025-08-19T18:19:11.484290Z",
     "iopub.status.idle": "2025-08-19T18:19:11.495875Z",
     "shell.execute_reply": "2025-08-19T18:19:11.493792Z"
    },
    "papermill": {
     "duration": 0.027642,
     "end_time": "2025-08-19T18:19:11.497711",
     "exception": false,
     "start_time": "2025-08-19T18:19:11.470069",
     "status": "completed"
    },
    "tags": []
   },
   "outputs": [],
   "source": [
    "# EXCLUDE PROTECTED FEATURES\n",
    "# --------------------------\n",
    "\n",
    "excluded_features = universe[\"exclude_features\"].split(\"-\")\n",
    "excluded_features_dictionary = {\n",
    "    \"nationality\": [\"maxdeutsch1\", \"maxdeutsch.Missing.\"],\n",
    "    \"sex\": [\"frau1\"],\n",
    "    \"age\": [\"age\"],\n",
    "}"
   ]
  },
  {
   "cell_type": "code",
   "execution_count": 22,
   "id": "f8e63555",
   "metadata": {
    "execution": {
     "iopub.execute_input": "2025-08-19T18:19:11.523413Z",
     "iopub.status.busy": "2025-08-19T18:19:11.522406Z",
     "iopub.status.idle": "2025-08-19T18:19:11.533076Z",
     "shell.execute_reply": "2025-08-19T18:19:11.531009Z"
    },
    "papermill": {
     "duration": 0.024095,
     "end_time": "2025-08-19T18:19:11.534733",
     "exception": false,
     "start_time": "2025-08-19T18:19:11.510638",
     "status": "completed"
    },
    "tags": []
   },
   "outputs": [],
   "source": [
    "excluded_features_columns = [\n",
    "    excluded_features_dictionary[f] for f in excluded_features if len(f) > 0 and f != \"none\"\n",
    "]"
   ]
  },
  {
   "cell_type": "code",
   "execution_count": 23,
   "id": "da781f7c",
   "metadata": {
    "execution": {
     "iopub.execute_input": "2025-08-19T18:19:11.575780Z",
     "iopub.status.busy": "2025-08-19T18:19:11.574469Z",
     "iopub.status.idle": "2025-08-19T18:19:11.584983Z",
     "shell.execute_reply": "2025-08-19T18:19:11.582931Z"
    },
    "papermill": {
     "duration": 0.028836,
     "end_time": "2025-08-19T18:19:11.587195",
     "exception": false,
     "start_time": "2025-08-19T18:19:11.558359",
     "status": "completed"
    },
    "tags": []
   },
   "outputs": [],
   "source": [
    "from fairness_multiverse.universe import flatten_once\n",
    "\n",
    "excluded_features_columns = flatten_once(excluded_features_columns)"
   ]
  },
  {
   "cell_type": "code",
   "execution_count": 24,
   "id": "37fef0f0",
   "metadata": {
    "execution": {
     "iopub.execute_input": "2025-08-19T18:19:11.618174Z",
     "iopub.status.busy": "2025-08-19T18:19:11.617119Z",
     "iopub.status.idle": "2025-08-19T18:19:11.660219Z",
     "shell.execute_reply": "2025-08-19T18:19:11.659428Z"
    },
    "papermill": {
     "duration": 0.070437,
     "end_time": "2025-08-19T18:19:11.671353",
     "exception": false,
     "start_time": "2025-08-19T18:19:11.600916",
     "status": "completed"
    },
    "tags": []
   },
   "outputs": [
    {
     "name": "stdout",
     "output_type": "stream",
     "text": [
      "Dropping features: ['maxdeutsch1', 'maxdeutsch.Missing.', 'frau1']\n"
     ]
    }
   ],
   "source": [
    "if len(excluded_features_columns) > 0:\n",
    "    print(f\"Dropping features: {excluded_features_columns}\")\n",
    "    X_train.drop(excluded_features_columns, axis=1, inplace=True)"
   ]
  },
  {
   "cell_type": "code",
   "execution_count": 25,
   "id": "d029e3e9",
   "metadata": {
    "execution": {
     "iopub.execute_input": "2025-08-19T18:19:11.705367Z",
     "iopub.status.busy": "2025-08-19T18:19:11.704249Z",
     "iopub.status.idle": "2025-08-19T18:19:11.771654Z",
     "shell.execute_reply": "2025-08-19T18:19:11.770890Z"
    },
    "papermill": {
     "duration": 0.085556,
     "end_time": "2025-08-19T18:19:11.774647",
     "exception": false,
     "start_time": "2025-08-19T18:19:11.689091",
     "status": "completed"
    },
    "tags": []
   },
   "outputs": [
    {
     "name": "stdout",
     "output_type": "stream",
     "text": [
      "Dropping features: ['maxdeutsch1', 'maxdeutsch.Missing.', 'frau1']\n"
     ]
    }
   ],
   "source": [
    "if len(excluded_features_columns) > 0:\n",
    "    print(f\"Dropping features: {excluded_features_columns}\")\n",
    "    X_test.drop(excluded_features_columns, axis=1, inplace=True)"
   ]
  },
  {
   "cell_type": "code",
   "execution_count": 26,
   "id": "01d571f0",
   "metadata": {
    "execution": {
     "iopub.execute_input": "2025-08-19T18:19:11.823848Z",
     "iopub.status.busy": "2025-08-19T18:19:11.821888Z",
     "iopub.status.idle": "2025-08-19T18:19:11.882270Z",
     "shell.execute_reply": "2025-08-19T18:19:11.880974Z"
    },
    "papermill": {
     "duration": 0.086935,
     "end_time": "2025-08-19T18:19:11.883893",
     "exception": false,
     "start_time": "2025-08-19T18:19:11.796958",
     "status": "completed"
    },
    "tags": []
   },
   "outputs": [
    {
     "name": "stdout",
     "output_type": "stream",
     "text": [
      "Dropping features: ['maxdeutsch1', 'maxdeutsch.Missing.', 'frau1']\n"
     ]
    }
   ],
   "source": [
    "if len(excluded_features_columns) > 0:\n",
    "    print(f\"Dropping features: {excluded_features_columns}\")\n",
    "    X_calib.drop(excluded_features_columns, axis=1, inplace=True)"
   ]
  },
  {
   "cell_type": "code",
   "execution_count": 27,
   "id": "3037356e",
   "metadata": {
    "execution": {
     "iopub.execute_input": "2025-08-19T18:19:11.909248Z",
     "iopub.status.busy": "2025-08-19T18:19:11.908060Z",
     "iopub.status.idle": "2025-08-19T18:19:11.916864Z",
     "shell.execute_reply": "2025-08-19T18:19:11.915286Z"
    },
    "papermill": {
     "duration": 0.023382,
     "end_time": "2025-08-19T18:19:11.918664",
     "exception": false,
     "start_time": "2025-08-19T18:19:11.895282",
     "status": "completed"
    },
    "tags": []
   },
   "outputs": [],
   "source": [
    "# EXCLUDE CERTAIN SUBGROUPS\n",
    "# -------------------------\n",
    "\n",
    "mode = universe.get(\"exclude_subgroups\", \"keep-all\") # Defaults to \"keep-all\" if the key is missing."
   ]
  },
  {
   "cell_type": "code",
   "execution_count": 28,
   "id": "9d1e63fd",
   "metadata": {
    "execution": {
     "iopub.execute_input": "2025-08-19T18:19:11.945042Z",
     "iopub.status.busy": "2025-08-19T18:19:11.943655Z",
     "iopub.status.idle": "2025-08-19T18:19:11.956340Z",
     "shell.execute_reply": "2025-08-19T18:19:11.955145Z"
    },
    "papermill": {
     "duration": 0.027519,
     "end_time": "2025-08-19T18:19:11.958212",
     "exception": false,
     "start_time": "2025-08-19T18:19:11.930693",
     "status": "completed"
    },
    "tags": []
   },
   "outputs": [],
   "source": [
    "if mode == \"keep-all\":\n",
    "    keep_mask = pd.Series(True, index=org_train.index)\n",
    "\n",
    "elif mode == \"drop-non-german\":\n",
    "    keep_mask = (org_train[\"maxdeutsch1\"] == 1) & (org_train[\"maxdeutsch.Missing.\"] == 0)\n",
    "\n",
    "else:\n",
    "    raise ValueError(f\"Unsupported mode for exclude_subgroups: {mode}\")"
   ]
  },
  {
   "cell_type": "code",
   "execution_count": 29,
   "id": "d3b65474",
   "metadata": {
    "execution": {
     "iopub.execute_input": "2025-08-19T18:19:11.987845Z",
     "iopub.status.busy": "2025-08-19T18:19:11.986676Z",
     "iopub.status.idle": "2025-08-19T18:19:11.999001Z",
     "shell.execute_reply": "2025-08-19T18:19:11.997499Z"
    },
    "papermill": {
     "duration": 0.027187,
     "end_time": "2025-08-19T18:19:12.000858",
     "exception": false,
     "start_time": "2025-08-19T18:19:11.973671",
     "status": "completed"
    },
    "tags": []
   },
   "outputs": [
    {
     "name": "stdout",
     "output_type": "stream",
     "text": [
      "Dropping 3312 rows (13.25%) where mode='drop-non-german'\n"
     ]
    }
   ],
   "source": [
    "n_drop = (~keep_mask).sum() # Calculates how many rows are set to be dropped\n",
    "if n_drop > 0:\n",
    "    pct = n_drop / len(keep_mask) * 100\n",
    "    print(f\"Dropping {n_drop} rows ({pct:.2f}%) where mode='{mode}'\")"
   ]
  },
  {
   "cell_type": "code",
   "execution_count": 30,
   "id": "f44389b3",
   "metadata": {
    "execution": {
     "iopub.execute_input": "2025-08-19T18:19:12.029639Z",
     "iopub.status.busy": "2025-08-19T18:19:12.028424Z",
     "iopub.status.idle": "2025-08-19T18:19:12.066703Z",
     "shell.execute_reply": "2025-08-19T18:19:12.065712Z"
    },
    "papermill": {
     "duration": 0.054112,
     "end_time": "2025-08-19T18:19:12.069533",
     "exception": false,
     "start_time": "2025-08-19T18:19:12.015421",
     "status": "completed"
    },
    "tags": []
   },
   "outputs": [],
   "source": [
    "X_train = X_train[keep_mask]"
   ]
  },
  {
   "cell_type": "code",
   "execution_count": 31,
   "id": "ceca8c2a",
   "metadata": {
    "execution": {
     "iopub.execute_input": "2025-08-19T18:19:12.106360Z",
     "iopub.status.busy": "2025-08-19T18:19:12.105219Z",
     "iopub.status.idle": "2025-08-19T18:19:12.115797Z",
     "shell.execute_reply": "2025-08-19T18:19:12.114330Z"
    },
    "papermill": {
     "duration": 0.026167,
     "end_time": "2025-08-19T18:19:12.117455",
     "exception": false,
     "start_time": "2025-08-19T18:19:12.091288",
     "status": "completed"
    },
    "tags": []
   },
   "outputs": [],
   "source": [
    "y_train = y_train[keep_mask]"
   ]
  },
  {
   "cell_type": "markdown",
   "id": "04d31e2f",
   "metadata": {
    "papermill": {
     "duration": 0.024894,
     "end_time": "2025-08-19T18:19:12.156040",
     "exception": false,
     "start_time": "2025-08-19T18:19:12.131146",
     "status": "completed"
    },
    "tags": []
   },
   "source": [
    "# Model Training"
   ]
  },
  {
   "cell_type": "code",
   "execution_count": 32,
   "id": "db991733",
   "metadata": {
    "execution": {
     "iopub.execute_input": "2025-08-19T18:19:12.187184Z",
     "iopub.status.busy": "2025-08-19T18:19:12.186767Z",
     "iopub.status.idle": "2025-08-19T18:19:12.309522Z",
     "shell.execute_reply": "2025-08-19T18:19:12.308690Z"
    },
    "papermill": {
     "duration": 0.136104,
     "end_time": "2025-08-19T18:19:12.311078",
     "exception": false,
     "start_time": "2025-08-19T18:19:12.174974",
     "status": "completed"
    },
    "tags": []
   },
   "outputs": [],
   "source": [
    "from sklearn.linear_model import LogisticRegression\n",
    "from sklearn.ensemble import GradientBoostingClassifier, RandomForestClassifier\n",
    "\n",
    "if (universe[\"model\"] == \"logreg\"):\n",
    "    model = LogisticRegression() #penalty=\"none\", solver=\"newton-cg\", max_iter=1)\n",
    "elif (universe[\"model\"] == \"penalized_logreg\"):\n",
    "    model = LogisticRegression(penalty=\"l2\", C=0.1) #, solver=\"newton-cg\", max_iter=1)\n",
    "elif (universe[\"model\"] == \"rf\"):\n",
    "    model = RandomForestClassifier() # n_estimators=100, n_jobs=-1\n",
    "elif (universe[\"model\"] == \"gbm\"):\n",
    "    model = GradientBoostingClassifier()\n",
    "elif (universe[\"model\"] == \"elasticnet\"):\n",
    "    model = LogisticRegression(penalty = 'elasticnet', solver = 'saga', l1_ratio = 0.5) # max_iter=5000\n",
    "else:\n",
    "    raise \"Unsupported universe.model\""
   ]
  },
  {
   "cell_type": "code",
   "execution_count": 33,
   "id": "a4b5cd25",
   "metadata": {
    "execution": {
     "iopub.execute_input": "2025-08-19T18:19:12.343849Z",
     "iopub.status.busy": "2025-08-19T18:19:12.343039Z",
     "iopub.status.idle": "2025-08-19T18:19:12.348792Z",
     "shell.execute_reply": "2025-08-19T18:19:12.347813Z"
    },
    "papermill": {
     "duration": 0.030454,
     "end_time": "2025-08-19T18:19:12.353942",
     "exception": false,
     "start_time": "2025-08-19T18:19:12.323488",
     "status": "completed"
    },
    "tags": []
   },
   "outputs": [],
   "source": [
    "from sklearn.pipeline import Pipeline\n",
    "from sklearn.preprocessing import StandardScaler\n",
    "\n",
    "model = Pipeline([\n",
    "    #(\"continuous_processor\", continuous_processor),\n",
    "    #(\"categorical_preprocessor\", categorical_preprocessor),\n",
    "    (\"scale\", StandardScaler() if universe[\"scale\"] == \"scale\" else None), \n",
    "    (\"model\", model),\n",
    "])"
   ]
  },
  {
   "cell_type": "code",
   "execution_count": 34,
   "id": "283a904d",
   "metadata": {
    "execution": {
     "iopub.execute_input": "2025-08-19T18:19:12.393089Z",
     "iopub.status.busy": "2025-08-19T18:19:12.392683Z",
     "iopub.status.idle": "2025-08-19T18:19:13.257917Z",
     "shell.execute_reply": "2025-08-19T18:19:13.256859Z"
    },
    "papermill": {
     "duration": 0.880754,
     "end_time": "2025-08-19T18:19:13.259419",
     "exception": false,
     "start_time": "2025-08-19T18:19:12.378665",
     "status": "completed"
    },
    "tags": []
   },
   "outputs": [
    {
     "name": "stderr",
     "output_type": "stream",
     "text": [
      "/dss/dsshome1/0C/ra93lal2/.local/share/virtualenvs/CMA_Fairness_v2-3j10GkSs/lib/python3.10/site-packages/sklearn/linear_model/_logistic.py:444: ConvergenceWarning: lbfgs failed to converge (status=1):\n",
      "STOP: TOTAL NO. of ITERATIONS REACHED LIMIT.\n",
      "\n",
      "Increase the number of iterations (max_iter) or scale the data as shown in:\n",
      "    https://scikit-learn.org/stable/modules/preprocessing.html\n",
      "Please also refer to the documentation for alternative solver options:\n",
      "    https://scikit-learn.org/stable/modules/linear_model.html#logistic-regression\n",
      "  n_iter_i = _check_optimize_result(\n"
     ]
    },
    {
     "data": {
      "text/html": [
       "<style>#sk-container-id-1 {color: black;background-color: white;}#sk-container-id-1 pre{padding: 0;}#sk-container-id-1 div.sk-toggleable {background-color: white;}#sk-container-id-1 label.sk-toggleable__label {cursor: pointer;display: block;width: 100%;margin-bottom: 0;padding: 0.3em;box-sizing: border-box;text-align: center;}#sk-container-id-1 label.sk-toggleable__label-arrow:before {content: \"▸\";float: left;margin-right: 0.25em;color: #696969;}#sk-container-id-1 label.sk-toggleable__label-arrow:hover:before {color: black;}#sk-container-id-1 div.sk-estimator:hover label.sk-toggleable__label-arrow:before {color: black;}#sk-container-id-1 div.sk-toggleable__content {max-height: 0;max-width: 0;overflow: hidden;text-align: left;background-color: #f0f8ff;}#sk-container-id-1 div.sk-toggleable__content pre {margin: 0.2em;color: black;border-radius: 0.25em;background-color: #f0f8ff;}#sk-container-id-1 input.sk-toggleable__control:checked~div.sk-toggleable__content {max-height: 200px;max-width: 100%;overflow: auto;}#sk-container-id-1 input.sk-toggleable__control:checked~label.sk-toggleable__label-arrow:before {content: \"▾\";}#sk-container-id-1 div.sk-estimator input.sk-toggleable__control:checked~label.sk-toggleable__label {background-color: #d4ebff;}#sk-container-id-1 div.sk-label input.sk-toggleable__control:checked~label.sk-toggleable__label {background-color: #d4ebff;}#sk-container-id-1 input.sk-hidden--visually {border: 0;clip: rect(1px 1px 1px 1px);clip: rect(1px, 1px, 1px, 1px);height: 1px;margin: -1px;overflow: hidden;padding: 0;position: absolute;width: 1px;}#sk-container-id-1 div.sk-estimator {font-family: monospace;background-color: #f0f8ff;border: 1px dotted black;border-radius: 0.25em;box-sizing: border-box;margin-bottom: 0.5em;}#sk-container-id-1 div.sk-estimator:hover {background-color: #d4ebff;}#sk-container-id-1 div.sk-parallel-item::after {content: \"\";width: 100%;border-bottom: 1px solid gray;flex-grow: 1;}#sk-container-id-1 div.sk-label:hover label.sk-toggleable__label {background-color: #d4ebff;}#sk-container-id-1 div.sk-serial::before {content: \"\";position: absolute;border-left: 1px solid gray;box-sizing: border-box;top: 0;bottom: 0;left: 50%;z-index: 0;}#sk-container-id-1 div.sk-serial {display: flex;flex-direction: column;align-items: center;background-color: white;padding-right: 0.2em;padding-left: 0.2em;position: relative;}#sk-container-id-1 div.sk-item {position: relative;z-index: 1;}#sk-container-id-1 div.sk-parallel {display: flex;align-items: stretch;justify-content: center;background-color: white;position: relative;}#sk-container-id-1 div.sk-item::before, #sk-container-id-1 div.sk-parallel-item::before {content: \"\";position: absolute;border-left: 1px solid gray;box-sizing: border-box;top: 0;bottom: 0;left: 50%;z-index: -1;}#sk-container-id-1 div.sk-parallel-item {display: flex;flex-direction: column;z-index: 1;position: relative;background-color: white;}#sk-container-id-1 div.sk-parallel-item:first-child::after {align-self: flex-end;width: 50%;}#sk-container-id-1 div.sk-parallel-item:last-child::after {align-self: flex-start;width: 50%;}#sk-container-id-1 div.sk-parallel-item:only-child::after {width: 0;}#sk-container-id-1 div.sk-dashed-wrapped {border: 1px dashed gray;margin: 0 0.4em 0.5em 0.4em;box-sizing: border-box;padding-bottom: 0.4em;background-color: white;}#sk-container-id-1 div.sk-label label {font-family: monospace;font-weight: bold;display: inline-block;line-height: 1.2em;}#sk-container-id-1 div.sk-label-container {text-align: center;}#sk-container-id-1 div.sk-container {/* jupyter's `normalize.less` sets `[hidden] { display: none; }` but bootstrap.min.css set `[hidden] { display: none !important; }` so we also need the `!important` here to be able to override the default hidden behavior on the sphinx rendered scikit-learn.org. See: https://github.com/scikit-learn/scikit-learn/issues/21755 */display: inline-block !important;position: relative;}#sk-container-id-1 div.sk-text-repr-fallback {display: none;}</style><div id=\"sk-container-id-1\" class=\"sk-top-container\"><div class=\"sk-text-repr-fallback\"><pre>Pipeline(steps=[(&#x27;scale&#x27;, None), (&#x27;model&#x27;, LogisticRegression(C=0.1))])</pre><b>In a Jupyter environment, please rerun this cell to show the HTML representation or trust the notebook. <br />On GitHub, the HTML representation is unable to render, please try loading this page with nbviewer.org.</b></div><div class=\"sk-container\" hidden><div class=\"sk-item sk-dashed-wrapped\"><div class=\"sk-label-container\"><div class=\"sk-label sk-toggleable\"><input class=\"sk-toggleable__control sk-hidden--visually\" id=\"sk-estimator-id-1\" type=\"checkbox\" ><label for=\"sk-estimator-id-1\" class=\"sk-toggleable__label sk-toggleable__label-arrow\">Pipeline</label><div class=\"sk-toggleable__content\"><pre>Pipeline(steps=[(&#x27;scale&#x27;, None), (&#x27;model&#x27;, LogisticRegression(C=0.1))])</pre></div></div></div><div class=\"sk-serial\"><div class=\"sk-item\"><div class=\"sk-estimator sk-toggleable\"><input class=\"sk-toggleable__control sk-hidden--visually\" id=\"sk-estimator-id-2\" type=\"checkbox\" ><label for=\"sk-estimator-id-2\" class=\"sk-toggleable__label sk-toggleable__label-arrow\">None</label><div class=\"sk-toggleable__content\"><pre>None</pre></div></div></div><div class=\"sk-item\"><div class=\"sk-estimator sk-toggleable\"><input class=\"sk-toggleable__control sk-hidden--visually\" id=\"sk-estimator-id-3\" type=\"checkbox\" ><label for=\"sk-estimator-id-3\" class=\"sk-toggleable__label sk-toggleable__label-arrow\">LogisticRegression</label><div class=\"sk-toggleable__content\"><pre>LogisticRegression(C=0.1)</pre></div></div></div></div></div></div></div>"
      ],
      "text/plain": [
       "Pipeline(steps=[('scale', None), ('model', LogisticRegression(C=0.1))])"
      ]
     },
     "execution_count": 34,
     "metadata": {},
     "output_type": "execute_result"
    }
   ],
   "source": [
    "model.fit(X_train, y_train.values.ravel())"
   ]
  },
  {
   "cell_type": "code",
   "execution_count": 35,
   "id": "6e15e313",
   "metadata": {
    "execution": {
     "iopub.execute_input": "2025-08-19T18:19:13.292596Z",
     "iopub.status.busy": "2025-08-19T18:19:13.291092Z",
     "iopub.status.idle": "2025-08-19T18:19:13.410153Z",
     "shell.execute_reply": "2025-08-19T18:19:13.409204Z"
    },
    "papermill": {
     "duration": 0.137238,
     "end_time": "2025-08-19T18:19:13.412007",
     "exception": false,
     "start_time": "2025-08-19T18:19:13.274769",
     "status": "completed"
    },
    "tags": []
   },
   "outputs": [
    {
     "data": {
      "text/plain": [
       "0.8601047820755768"
      ]
     },
     "execution_count": 35,
     "metadata": {},
     "output_type": "execute_result"
    }
   ],
   "source": [
    "from fairness_multiverse.universe import predict_w_threshold\n",
    "\n",
    "probs_test = model.predict_proba(X_test)\n",
    "\n",
    "'''\n",
    "Below code returns a boolean array (or binary 0/1 array depending on how it’s used) where each element \n",
    "is True if the probability of class 1 is greater than or equal to the threshold, and False otherwise.\n",
    "'''\n",
    "y_pred_default = predict_w_threshold(probs_test, 0.5)\n",
    "\n",
    "from sklearn.metrics import accuracy_score\n",
    "\n",
    "# Naive prediction\n",
    "accuracy_score(y_true = y_true, y_pred = y_pred_default)"
   ]
  },
  {
   "cell_type": "code",
   "execution_count": 36,
   "id": "6f14067c",
   "metadata": {
    "execution": {
     "iopub.execute_input": "2025-08-19T18:19:13.436265Z",
     "iopub.status.busy": "2025-08-19T18:19:13.435875Z",
     "iopub.status.idle": "2025-08-19T18:19:13.518467Z",
     "shell.execute_reply": "2025-08-19T18:19:13.517644Z"
    },
    "papermill": {
     "duration": 0.096652,
     "end_time": "2025-08-19T18:19:13.520345",
     "exception": false,
     "start_time": "2025-08-19T18:19:13.423693",
     "status": "completed"
    },
    "tags": []
   },
   "outputs": [
    {
     "data": {
      "text/plain": [
       "array([0, 0, 0, ..., 0, 0, 0])"
      ]
     },
     "execution_count": 36,
     "metadata": {},
     "output_type": "execute_result"
    }
   ],
   "source": [
    "model.predict(X_test)"
   ]
  },
  {
   "cell_type": "markdown",
   "id": "3759920c",
   "metadata": {
    "papermill": {
     "duration": 0.017062,
     "end_time": "2025-08-19T18:19:13.555700",
     "exception": false,
     "start_time": "2025-08-19T18:19:13.538638",
     "status": "completed"
    },
    "tags": []
   },
   "source": [
    "# Conformal Prediction"
   ]
  },
  {
   "cell_type": "code",
   "execution_count": 37,
   "id": "14b27f59",
   "metadata": {
    "execution": {
     "iopub.execute_input": "2025-08-19T18:19:13.585285Z",
     "iopub.status.busy": "2025-08-19T18:19:13.583588Z",
     "iopub.status.idle": "2025-08-19T18:19:13.591312Z",
     "shell.execute_reply": "2025-08-19T18:19:13.590053Z"
    },
    "papermill": {
     "duration": 0.021795,
     "end_time": "2025-08-19T18:19:13.592685",
     "exception": false,
     "start_time": "2025-08-19T18:19:13.570890",
     "status": "completed"
    },
    "tags": []
   },
   "outputs": [],
   "source": [
    "# Miscoverage level for conformal prediction (10% allowed error rate => 90% target coverage)\n",
    "alpha = 0.1"
   ]
  },
  {
   "cell_type": "code",
   "execution_count": 38,
   "id": "59102472",
   "metadata": {
    "execution": {
     "iopub.execute_input": "2025-08-19T18:19:13.633486Z",
     "iopub.status.busy": "2025-08-19T18:19:13.632748Z",
     "iopub.status.idle": "2025-08-19T18:19:13.740215Z",
     "shell.execute_reply": "2025-08-19T18:19:13.738511Z"
    },
    "papermill": {
     "duration": 0.139954,
     "end_time": "2025-08-19T18:19:13.745680",
     "exception": false,
     "start_time": "2025-08-19T18:19:13.605726",
     "status": "completed"
    },
    "tags": []
   },
   "outputs": [],
   "source": [
    "probs_calib = model.predict_proba(X_calib)"
   ]
  },
  {
   "cell_type": "code",
   "execution_count": 39,
   "id": "a792d4dd",
   "metadata": {
    "execution": {
     "iopub.execute_input": "2025-08-19T18:19:13.782607Z",
     "iopub.status.busy": "2025-08-19T18:19:13.781721Z",
     "iopub.status.idle": "2025-08-19T18:19:13.787913Z",
     "shell.execute_reply": "2025-08-19T18:19:13.786961Z"
    },
    "papermill": {
     "duration": 0.021789,
     "end_time": "2025-08-19T18:19:13.789629",
     "exception": false,
     "start_time": "2025-08-19T18:19:13.767840",
     "status": "completed"
    },
    "tags": []
   },
   "outputs": [],
   "source": [
    "y_calib = y_calib.values.ravel().astype(int)"
   ]
  },
  {
   "cell_type": "code",
   "execution_count": 40,
   "id": "650fd033",
   "metadata": {
    "execution": {
     "iopub.execute_input": "2025-08-19T18:19:13.816730Z",
     "iopub.status.busy": "2025-08-19T18:19:13.815758Z",
     "iopub.status.idle": "2025-08-19T18:19:13.827229Z",
     "shell.execute_reply": "2025-08-19T18:19:13.825991Z"
    },
    "papermill": {
     "duration": 0.026925,
     "end_time": "2025-08-19T18:19:13.828979",
     "exception": false,
     "start_time": "2025-08-19T18:19:13.802054",
     "status": "completed"
    },
    "tags": []
   },
   "outputs": [],
   "source": [
    "from fairness_multiverse.conformal import compute_nc_scores\n",
    "\n",
    "# Compute nonconformity scores on calibration set (1 - probability of true class)\n",
    "nc_scores = compute_nc_scores(probs_calib, y_calib)"
   ]
  },
  {
   "cell_type": "code",
   "execution_count": 41,
   "id": "28ada44c",
   "metadata": {
    "execution": {
     "iopub.execute_input": "2025-08-19T18:19:13.858087Z",
     "iopub.status.busy": "2025-08-19T18:19:13.857114Z",
     "iopub.status.idle": "2025-08-19T18:19:13.867107Z",
     "shell.execute_reply": "2025-08-19T18:19:13.865440Z"
    },
    "papermill": {
     "duration": 0.025312,
     "end_time": "2025-08-19T18:19:13.869021",
     "exception": false,
     "start_time": "2025-08-19T18:19:13.843709",
     "status": "completed"
    },
    "tags": []
   },
   "outputs": [],
   "source": [
    "from fairness_multiverse.conformal import find_threshold\n",
    "\n",
    "# Find conformal threshold q_hat for the given alpha (split conformal method)\n",
    "q_hat = find_threshold(nc_scores, alpha)"
   ]
  },
  {
   "cell_type": "code",
   "execution_count": 42,
   "id": "df56469e",
   "metadata": {
    "execution": {
     "iopub.execute_input": "2025-08-19T18:19:13.897251Z",
     "iopub.status.busy": "2025-08-19T18:19:13.896291Z",
     "iopub.status.idle": "2025-08-19T18:19:13.905629Z",
     "shell.execute_reply": "2025-08-19T18:19:13.904571Z"
    },
    "papermill": {
     "duration": 0.024118,
     "end_time": "2025-08-19T18:19:13.907082",
     "exception": false,
     "start_time": "2025-08-19T18:19:13.882964",
     "status": "completed"
    },
    "tags": []
   },
   "outputs": [
    {
     "data": {
      "text/plain": [
       "0.6699825822297989"
      ]
     },
     "execution_count": 42,
     "metadata": {},
     "output_type": "execute_result"
    }
   ],
   "source": [
    "q_hat"
   ]
  },
  {
   "cell_type": "code",
   "execution_count": 43,
   "id": "aa1f5faa",
   "metadata": {
    "execution": {
     "iopub.execute_input": "2025-08-19T18:19:13.935163Z",
     "iopub.status.busy": "2025-08-19T18:19:13.933936Z",
     "iopub.status.idle": "2025-08-19T18:19:14.473692Z",
     "shell.execute_reply": "2025-08-19T18:19:14.472209Z"
    },
    "papermill": {
     "duration": 0.558039,
     "end_time": "2025-08-19T18:19:14.477716",
     "exception": false,
     "start_time": "2025-08-19T18:19:13.919677",
     "status": "completed"
    },
    "tags": []
   },
   "outputs": [],
   "source": [
    "from fairness_multiverse.conformal import predict_conformal_sets\n",
    "\n",
    "# Generate prediction sets for each test example\n",
    "pred_sets = predict_conformal_sets(model, X_test, q_hat)"
   ]
  },
  {
   "cell_type": "code",
   "execution_count": 44,
   "id": "97f67a6b",
   "metadata": {
    "execution": {
     "iopub.execute_input": "2025-08-19T18:19:14.519280Z",
     "iopub.status.busy": "2025-08-19T18:19:14.518082Z",
     "iopub.status.idle": "2025-08-19T18:19:14.529877Z",
     "shell.execute_reply": "2025-08-19T18:19:14.528454Z"
    },
    "papermill": {
     "duration": 0.029195,
     "end_time": "2025-08-19T18:19:14.531837",
     "exception": false,
     "start_time": "2025-08-19T18:19:14.502642",
     "status": "completed"
    },
    "tags": []
   },
   "outputs": [],
   "source": [
    "y_true = y_true.squeeze()"
   ]
  },
  {
   "cell_type": "code",
   "execution_count": 45,
   "id": "e700e9a7",
   "metadata": {
    "execution": {
     "iopub.execute_input": "2025-08-19T18:19:14.560507Z",
     "iopub.status.busy": "2025-08-19T18:19:14.559459Z",
     "iopub.status.idle": "2025-08-19T18:19:15.090926Z",
     "shell.execute_reply": "2025-08-19T18:19:15.088931Z"
    },
    "papermill": {
     "duration": 0.548643,
     "end_time": "2025-08-19T18:19:15.094954",
     "exception": false,
     "start_time": "2025-08-19T18:19:14.546311",
     "status": "completed"
    },
    "tags": []
   },
   "outputs": [],
   "source": [
    "from fairness_multiverse.conformal import evaluate_sets\n",
    "\n",
    "# Evaluate coverage and average set size on test data\n",
    "metrics = evaluate_sets(pred_sets, y_true)"
   ]
  },
  {
   "cell_type": "markdown",
   "id": "efbacec0",
   "metadata": {
    "papermill": {
     "duration": 0.017048,
     "end_time": "2025-08-19T18:19:15.134069",
     "exception": false,
     "start_time": "2025-08-19T18:19:15.117021",
     "status": "completed"
    },
    "tags": []
   },
   "source": [
    "# CP Metrics"
   ]
  },
  {
   "cell_type": "code",
   "execution_count": 46,
   "id": "9de55fb1",
   "metadata": {
    "execution": {
     "iopub.execute_input": "2025-08-19T18:19:15.182758Z",
     "iopub.status.busy": "2025-08-19T18:19:15.181546Z",
     "iopub.status.idle": "2025-08-19T18:19:15.196061Z",
     "shell.execute_reply": "2025-08-19T18:19:15.194553Z"
    },
    "papermill": {
     "duration": 0.032056,
     "end_time": "2025-08-19T18:19:15.198057",
     "exception": false,
     "start_time": "2025-08-19T18:19:15.166001",
     "status": "completed"
    },
    "tags": []
   },
   "outputs": [
    {
     "data": {
      "text/plain": [
       "{'coverage': 0.9113699699030209, 'avg_size': 1.2124846728346896}"
      ]
     },
     "execution_count": 46,
     "metadata": {},
     "output_type": "execute_result"
    }
   ],
   "source": [
    "metrics"
   ]
  },
  {
   "cell_type": "code",
   "execution_count": 47,
   "id": "64c340a1",
   "metadata": {
    "execution": {
     "iopub.execute_input": "2025-08-19T18:19:15.246143Z",
     "iopub.status.busy": "2025-08-19T18:19:15.245459Z",
     "iopub.status.idle": "2025-08-19T18:19:15.250774Z",
     "shell.execute_reply": "2025-08-19T18:19:15.250045Z"
    },
    "papermill": {
     "duration": 0.019093,
     "end_time": "2025-08-19T18:19:15.252107",
     "exception": false,
     "start_time": "2025-08-19T18:19:15.233014",
     "status": "completed"
    },
    "tags": []
   },
   "outputs": [],
   "source": [
    "example_universe = universe.copy()\n",
    "universe_training_year = example_universe.get(\"training_year\")\n",
    "universe_training_size = example_universe.get(\"training_size\")\n",
    "universe_scale = example_universe.get(\"scale\")\n",
    "universe_model = example_universe.get(\"model\")\n",
    "universe_exclude_features = example_universe.get(\"exclude_features\")\n",
    "universe_exclude_subgroups = example_universe.get(\"exclude_subgroups\")"
   ]
  },
  {
   "cell_type": "code",
   "execution_count": 48,
   "id": "dbb53cb4",
   "metadata": {
    "execution": {
     "iopub.execute_input": "2025-08-19T18:19:15.285770Z",
     "iopub.status.busy": "2025-08-19T18:19:15.285416Z",
     "iopub.status.idle": "2025-08-19T18:19:15.290867Z",
     "shell.execute_reply": "2025-08-19T18:19:15.289954Z"
    },
    "papermill": {
     "duration": 0.018997,
     "end_time": "2025-08-19T18:19:15.292177",
     "exception": false,
     "start_time": "2025-08-19T18:19:15.273180",
     "status": "completed"
    },
    "tags": []
   },
   "outputs": [],
   "source": [
    "cp_metrics_dict = {\n",
    "    \"universe_id\": [universe_id],\n",
    "    \"universe_training_year\": [universe_training_year],\n",
    "    \"universe_training_size\": [universe_training_size],\n",
    "    \"universe_scale\": [universe_scale],\n",
    "    \"universe_model\": [universe_model],\n",
    "    \"universe_exclude_features\": [universe_exclude_features],\n",
    "    \"universe_exclude_subgroups\": [universe_exclude_subgroups],\n",
    "    \"q_hat\": [q_hat],\n",
    "    \"coverage\": [metrics[\"coverage\"]],\n",
    "    \"avg_size\": [metrics[\"avg_size\"]],\n",
    "}"
   ]
  },
  {
   "cell_type": "code",
   "execution_count": 49,
   "id": "0d70d4b2",
   "metadata": {
    "execution": {
     "iopub.execute_input": "2025-08-19T18:19:15.320252Z",
     "iopub.status.busy": "2025-08-19T18:19:15.319895Z",
     "iopub.status.idle": "2025-08-19T18:19:15.325758Z",
     "shell.execute_reply": "2025-08-19T18:19:15.325024Z"
    },
    "papermill": {
     "duration": 0.023193,
     "end_time": "2025-08-19T18:19:15.326937",
     "exception": false,
     "start_time": "2025-08-19T18:19:15.303744",
     "status": "completed"
    },
    "tags": []
   },
   "outputs": [],
   "source": [
    "cp_metrics_df = pd.DataFrame(cp_metrics_dict)"
   ]
  },
  {
   "cell_type": "code",
   "execution_count": 50,
   "id": "b494403c",
   "metadata": {
    "execution": {
     "iopub.execute_input": "2025-08-19T18:19:15.357329Z",
     "iopub.status.busy": "2025-08-19T18:19:15.356905Z",
     "iopub.status.idle": "2025-08-19T18:19:15.371776Z",
     "shell.execute_reply": "2025-08-19T18:19:15.370931Z"
    },
    "papermill": {
     "duration": 0.033565,
     "end_time": "2025-08-19T18:19:15.373529",
     "exception": false,
     "start_time": "2025-08-19T18:19:15.339964",
     "status": "completed"
    },
    "tags": []
   },
   "outputs": [
    {
     "data": {
      "text/html": [
       "<div>\n",
       "<style scoped>\n",
       "    .dataframe tbody tr th:only-of-type {\n",
       "        vertical-align: middle;\n",
       "    }\n",
       "\n",
       "    .dataframe tbody tr th {\n",
       "        vertical-align: top;\n",
       "    }\n",
       "\n",
       "    .dataframe thead th {\n",
       "        text-align: right;\n",
       "    }\n",
       "</style>\n",
       "<table border=\"1\" class=\"dataframe\">\n",
       "  <thead>\n",
       "    <tr style=\"text-align: right;\">\n",
       "      <th></th>\n",
       "      <th>universe_id</th>\n",
       "      <th>universe_training_year</th>\n",
       "      <th>universe_training_size</th>\n",
       "      <th>universe_scale</th>\n",
       "      <th>universe_model</th>\n",
       "      <th>universe_exclude_features</th>\n",
       "      <th>universe_exclude_subgroups</th>\n",
       "      <th>q_hat</th>\n",
       "      <th>coverage</th>\n",
       "      <th>avg_size</th>\n",
       "    </tr>\n",
       "  </thead>\n",
       "  <tbody>\n",
       "    <tr>\n",
       "      <th>0</th>\n",
       "      <td>02ddeec67932ec5ce4cb2ecc20db26ba</td>\n",
       "      <td>2010_14</td>\n",
       "      <td>25k</td>\n",
       "      <td>do-not-scale</td>\n",
       "      <td>penalized_logreg</td>\n",
       "      <td>nationality-sex</td>\n",
       "      <td>drop-non-german</td>\n",
       "      <td>0.669983</td>\n",
       "      <td>0.91137</td>\n",
       "      <td>1.212485</td>\n",
       "    </tr>\n",
       "  </tbody>\n",
       "</table>\n",
       "</div>"
      ],
      "text/plain": [
       "                        universe_id universe_training_year  \\\n",
       "0  02ddeec67932ec5ce4cb2ecc20db26ba                2010_14   \n",
       "\n",
       "  universe_training_size universe_scale    universe_model  \\\n",
       "0                    25k   do-not-scale  penalized_logreg   \n",
       "\n",
       "  universe_exclude_features universe_exclude_subgroups     q_hat  coverage  \\\n",
       "0           nationality-sex            drop-non-german  0.669983   0.91137   \n",
       "\n",
       "   avg_size  \n",
       "0  1.212485  "
      ]
     },
     "execution_count": 50,
     "metadata": {},
     "output_type": "execute_result"
    }
   ],
   "source": [
    "cp_metrics_df"
   ]
  },
  {
   "cell_type": "markdown",
   "id": "ed608b0b",
   "metadata": {
    "papermill": {
     "duration": 0.013668,
     "end_time": "2025-08-19T18:19:15.404496",
     "exception": false,
     "start_time": "2025-08-19T18:19:15.390828",
     "status": "completed"
    },
    "tags": []
   },
   "source": [
    "Conditional coverage & looking at subgroups"
   ]
  },
  {
   "cell_type": "code",
   "execution_count": 51,
   "id": "8968c366",
   "metadata": {
    "execution": {
     "iopub.execute_input": "2025-08-19T18:19:15.447449Z",
     "iopub.status.busy": "2025-08-19T18:19:15.447140Z",
     "iopub.status.idle": "2025-08-19T18:19:15.716346Z",
     "shell.execute_reply": "2025-08-19T18:19:15.715221Z"
    },
    "papermill": {
     "duration": 0.300965,
     "end_time": "2025-08-19T18:19:15.718881",
     "exception": false,
     "start_time": "2025-08-19T18:19:15.417916",
     "status": "completed"
    },
    "tags": []
   },
   "outputs": [],
   "source": [
    "from fairness_multiverse.conformal import build_cp_groups\n",
    "\n",
    "cp_groups_df = build_cp_groups(pred_sets, y_true, X_test.index, org_test)"
   ]
  },
  {
   "cell_type": "code",
   "execution_count": 52,
   "id": "292ddabf",
   "metadata": {
    "execution": {
     "iopub.execute_input": "2025-08-19T18:19:15.766241Z",
     "iopub.status.busy": "2025-08-19T18:19:15.765267Z",
     "iopub.status.idle": "2025-08-19T18:19:16.617678Z",
     "shell.execute_reply": "2025-08-19T18:19:16.616206Z"
    },
    "papermill": {
     "duration": 0.875845,
     "end_time": "2025-08-19T18:19:16.619495",
     "exception": false,
     "start_time": "2025-08-19T18:19:15.743650",
     "status": "completed"
    },
    "tags": []
   },
   "outputs": [],
   "source": [
    "# Define covered = 1 if true_label is in the predicted set\n",
    "cp_groups_df['covered'] = cp_groups_df.apply(\n",
    "    lambda r: int(r['true_label'] in r['pred_set']),\n",
    "    axis=1\n",
    ")"
   ]
  },
  {
   "cell_type": "code",
   "execution_count": 53,
   "id": "3a261692",
   "metadata": {
    "execution": {
     "iopub.execute_input": "2025-08-19T18:19:16.650608Z",
     "iopub.status.busy": "2025-08-19T18:19:16.650223Z",
     "iopub.status.idle": "2025-08-19T18:19:16.663409Z",
     "shell.execute_reply": "2025-08-19T18:19:16.662407Z"
    },
    "papermill": {
     "duration": 0.033478,
     "end_time": "2025-08-19T18:19:16.666708",
     "exception": false,
     "start_time": "2025-08-19T18:19:16.633230",
     "status": "completed"
    },
    "tags": []
   },
   "outputs": [],
   "source": [
    "subgroups = ['frau1','nongerman','nongerman_male','nongerman_female']\n",
    "\n",
    "# Conditional coverage for subgroup==1\n",
    "cond_coverage = {\n",
    "    g: cp_groups_df.loc[cp_groups_df[g]==1, 'covered'].mean()\n",
    "    for g in subgroups\n",
    "}"
   ]
  },
  {
   "cell_type": "code",
   "execution_count": 54,
   "id": "894fd600",
   "metadata": {
    "execution": {
     "iopub.execute_input": "2025-08-19T18:19:16.705999Z",
     "iopub.status.busy": "2025-08-19T18:19:16.705049Z",
     "iopub.status.idle": "2025-08-19T18:19:16.716016Z",
     "shell.execute_reply": "2025-08-19T18:19:16.714729Z"
    },
    "papermill": {
     "duration": 0.027309,
     "end_time": "2025-08-19T18:19:16.718129",
     "exception": false,
     "start_time": "2025-08-19T18:19:16.690820",
     "status": "completed"
    },
    "tags": []
   },
   "outputs": [
    {
     "data": {
      "text/plain": [
       "{'frau1': 0.9106078986386306,\n",
       " 'nongerman': 0.9354965474653343,\n",
       " 'nongerman_male': 0.9479419976582906,\n",
       " 'nongerman_female': 0.914903129657228}"
      ]
     },
     "execution_count": 54,
     "metadata": {},
     "output_type": "execute_result"
    }
   ],
   "source": [
    "cond_coverage"
   ]
  },
  {
   "cell_type": "code",
   "execution_count": 55,
   "id": "942895c7",
   "metadata": {
    "execution": {
     "iopub.execute_input": "2025-08-19T18:19:16.746912Z",
     "iopub.status.busy": "2025-08-19T18:19:16.745987Z",
     "iopub.status.idle": "2025-08-19T18:19:16.757812Z",
     "shell.execute_reply": "2025-08-19T18:19:16.756378Z"
    },
    "papermill": {
     "duration": 0.027633,
     "end_time": "2025-08-19T18:19:16.759718",
     "exception": false,
     "start_time": "2025-08-19T18:19:16.732085",
     "status": "completed"
    },
    "tags": []
   },
   "outputs": [],
   "source": [
    "for subgroup, cov in cond_coverage.items():\n",
    "    cp_metrics_df[f\"cov_{subgroup}\"] = cov"
   ]
  },
  {
   "cell_type": "code",
   "execution_count": 56,
   "id": "3970120f",
   "metadata": {
    "execution": {
     "iopub.execute_input": "2025-08-19T18:19:16.789295Z",
     "iopub.status.busy": "2025-08-19T18:19:16.788380Z",
     "iopub.status.idle": "2025-08-19T18:19:16.816119Z",
     "shell.execute_reply": "2025-08-19T18:19:16.814966Z"
    },
    "papermill": {
     "duration": 0.043823,
     "end_time": "2025-08-19T18:19:16.818488",
     "exception": false,
     "start_time": "2025-08-19T18:19:16.774665",
     "status": "completed"
    },
    "tags": []
   },
   "outputs": [
    {
     "data": {
      "text/html": [
       "<div>\n",
       "<style scoped>\n",
       "    .dataframe tbody tr th:only-of-type {\n",
       "        vertical-align: middle;\n",
       "    }\n",
       "\n",
       "    .dataframe tbody tr th {\n",
       "        vertical-align: top;\n",
       "    }\n",
       "\n",
       "    .dataframe thead th {\n",
       "        text-align: right;\n",
       "    }\n",
       "</style>\n",
       "<table border=\"1\" class=\"dataframe\">\n",
       "  <thead>\n",
       "    <tr style=\"text-align: right;\">\n",
       "      <th></th>\n",
       "      <th>universe_id</th>\n",
       "      <th>universe_training_year</th>\n",
       "      <th>universe_training_size</th>\n",
       "      <th>universe_scale</th>\n",
       "      <th>universe_model</th>\n",
       "      <th>universe_exclude_features</th>\n",
       "      <th>universe_exclude_subgroups</th>\n",
       "      <th>q_hat</th>\n",
       "      <th>coverage</th>\n",
       "      <th>avg_size</th>\n",
       "      <th>cov_frau1</th>\n",
       "      <th>cov_nongerman</th>\n",
       "      <th>cov_nongerman_male</th>\n",
       "      <th>cov_nongerman_female</th>\n",
       "    </tr>\n",
       "  </thead>\n",
       "  <tbody>\n",
       "    <tr>\n",
       "      <th>0</th>\n",
       "      <td>02ddeec67932ec5ce4cb2ecc20db26ba</td>\n",
       "      <td>2010_14</td>\n",
       "      <td>25k</td>\n",
       "      <td>do-not-scale</td>\n",
       "      <td>penalized_logreg</td>\n",
       "      <td>nationality-sex</td>\n",
       "      <td>drop-non-german</td>\n",
       "      <td>0.669983</td>\n",
       "      <td>0.91137</td>\n",
       "      <td>1.212485</td>\n",
       "      <td>0.910608</td>\n",
       "      <td>0.935497</td>\n",
       "      <td>0.947942</td>\n",
       "      <td>0.914903</td>\n",
       "    </tr>\n",
       "  </tbody>\n",
       "</table>\n",
       "</div>"
      ],
      "text/plain": [
       "                        universe_id universe_training_year  \\\n",
       "0  02ddeec67932ec5ce4cb2ecc20db26ba                2010_14   \n",
       "\n",
       "  universe_training_size universe_scale    universe_model  \\\n",
       "0                    25k   do-not-scale  penalized_logreg   \n",
       "\n",
       "  universe_exclude_features universe_exclude_subgroups     q_hat  coverage  \\\n",
       "0           nationality-sex            drop-non-german  0.669983   0.91137   \n",
       "\n",
       "   avg_size  cov_frau1  cov_nongerman  cov_nongerman_male  \\\n",
       "0  1.212485   0.910608       0.935497            0.947942   \n",
       "\n",
       "   cov_nongerman_female  \n",
       "0              0.914903  "
      ]
     },
     "execution_count": 56,
     "metadata": {},
     "output_type": "execute_result"
    }
   ],
   "source": [
    "cp_metrics_df"
   ]
  },
  {
   "cell_type": "markdown",
   "id": "3fc519cc",
   "metadata": {
    "papermill": {
     "duration": 0.012317,
     "end_time": "2025-08-19T18:19:16.848075",
     "exception": false,
     "start_time": "2025-08-19T18:19:16.835758",
     "status": "completed"
    },
    "tags": []
   },
   "source": [
    "# (Fairness) Metrics"
   ]
  },
  {
   "cell_type": "code",
   "execution_count": 57,
   "id": "a2e5e155",
   "metadata": {
    "execution": {
     "iopub.execute_input": "2025-08-19T18:19:16.875587Z",
     "iopub.status.busy": "2025-08-19T18:19:16.874592Z",
     "iopub.status.idle": "2025-08-19T18:19:16.901107Z",
     "shell.execute_reply": "2025-08-19T18:19:16.900171Z"
    },
    "papermill": {
     "duration": 0.041887,
     "end_time": "2025-08-19T18:19:16.902533",
     "exception": false,
     "start_time": "2025-08-19T18:19:16.860646",
     "status": "completed"
    },
    "tags": []
   },
   "outputs": [],
   "source": [
    "colname_to_bin = \"maxdeutsch1\"\n",
    "majority_value = org_train[colname_to_bin].mode()[0]\n",
    "\n",
    "org_test[\"majmin\"] = np.where(org_test[colname_to_bin] == majority_value, \"majority\", \"minority\")"
   ]
  },
  {
   "cell_type": "code",
   "execution_count": 58,
   "id": "17e3e4d5",
   "metadata": {
    "execution": {
     "iopub.execute_input": "2025-08-19T18:19:16.931106Z",
     "iopub.status.busy": "2025-08-19T18:19:16.930280Z",
     "iopub.status.idle": "2025-08-19T18:19:18.637821Z",
     "shell.execute_reply": "2025-08-19T18:19:18.636665Z"
    },
    "papermill": {
     "duration": 1.723179,
     "end_time": "2025-08-19T18:19:18.639289",
     "exception": false,
     "start_time": "2025-08-19T18:19:16.916110",
     "status": "completed"
    },
    "tags": []
   },
   "outputs": [],
   "source": [
    "example_universe = universe.copy()\n",
    "example_universe[\"cutoff\"] = example_universe[\"cutoff\"][0]\n",
    "example_universe[\"eval_fairness_grouping\"] = example_universe[\"eval_fairness_grouping\"][0]\n",
    "fairness_dict, metric_frame = universe_analysis.compute_metrics(\n",
    "    example_universe,\n",
    "    y_pred_prob=probs_test,\n",
    "    y_test=y_true,\n",
    "    org_test=org_test,\n",
    ")"
   ]
  },
  {
   "cell_type": "markdown",
   "id": "1fb7a0e9",
   "metadata": {
    "papermill": {
     "duration": 0.01558,
     "end_time": "2025-08-19T18:19:18.668790",
     "exception": false,
     "start_time": "2025-08-19T18:19:18.653210",
     "status": "completed"
    },
    "tags": []
   },
   "source": [
    "# Overall"
   ]
  },
  {
   "cell_type": "markdown",
   "id": "be1784b1",
   "metadata": {
    "papermill": {
     "duration": 0.012177,
     "end_time": "2025-08-19T18:19:18.693496",
     "exception": false,
     "start_time": "2025-08-19T18:19:18.681319",
     "status": "completed"
    },
    "tags": []
   },
   "source": [
    "Main fairness target: Equalized Odds. Seems to be a better fit than equal opportunity, since we're not only interested in Y = 1. Seems to be a better fit than demographic parity, since we also care about accuracy, not just equal distribution of preds.\n",
    "\n",
    "Pick column for computation of fairness metrics\n",
    "\n",
    "Performance\n",
    "Overall performance measures, most interesting in relation to the measures split by group below"
   ]
  },
  {
   "cell_type": "code",
   "execution_count": 59,
   "id": "b7672bee",
   "metadata": {
    "execution": {
     "iopub.execute_input": "2025-08-19T18:19:18.719853Z",
     "iopub.status.busy": "2025-08-19T18:19:18.719301Z",
     "iopub.status.idle": "2025-08-19T18:19:18.728297Z",
     "shell.execute_reply": "2025-08-19T18:19:18.727550Z"
    },
    "papermill": {
     "duration": 0.036696,
     "end_time": "2025-08-19T18:19:18.742465",
     "exception": false,
     "start_time": "2025-08-19T18:19:18.705769",
     "status": "completed"
    },
    "tags": []
   },
   "outputs": [
    {
     "data": {
      "text/plain": [
       "accuracy                   0.217356\n",
       "balanced accuracy          0.532935\n",
       "f1                         0.238880\n",
       "precision                  0.136464\n",
       "false positive rate        0.891550\n",
       "false negative rate        0.042579\n",
       "selection rate             0.900000\n",
       "count                  89710.000000\n",
       "dtype: float64"
      ]
     },
     "execution_count": 59,
     "metadata": {},
     "output_type": "execute_result"
    }
   ],
   "source": [
    "metric_frame.overall"
   ]
  },
  {
   "cell_type": "markdown",
   "id": "d93333c9",
   "metadata": {
    "papermill": {
     "duration": 0.012552,
     "end_time": "2025-08-19T18:19:18.769731",
     "exception": false,
     "start_time": "2025-08-19T18:19:18.757179",
     "status": "completed"
    },
    "tags": []
   },
   "source": [
    "By Group"
   ]
  },
  {
   "cell_type": "code",
   "execution_count": 60,
   "id": "52256966",
   "metadata": {
    "execution": {
     "iopub.execute_input": "2025-08-19T18:19:18.797497Z",
     "iopub.status.busy": "2025-08-19T18:19:18.795966Z",
     "iopub.status.idle": "2025-08-19T18:19:18.820108Z",
     "shell.execute_reply": "2025-08-19T18:19:18.818950Z"
    },
    "papermill": {
     "duration": 0.040047,
     "end_time": "2025-08-19T18:19:18.822205",
     "exception": false,
     "start_time": "2025-08-19T18:19:18.782158",
     "status": "completed"
    },
    "tags": []
   },
   "outputs": [
    {
     "data": {
      "text/html": [
       "<div>\n",
       "<style scoped>\n",
       "    .dataframe tbody tr th:only-of-type {\n",
       "        vertical-align: middle;\n",
       "    }\n",
       "\n",
       "    .dataframe tbody tr th {\n",
       "        vertical-align: top;\n",
       "    }\n",
       "\n",
       "    .dataframe thead th {\n",
       "        text-align: right;\n",
       "    }\n",
       "</style>\n",
       "<table border=\"1\" class=\"dataframe\">\n",
       "  <thead>\n",
       "    <tr style=\"text-align: right;\">\n",
       "      <th></th>\n",
       "      <th>accuracy</th>\n",
       "      <th>balanced accuracy</th>\n",
       "      <th>f1</th>\n",
       "      <th>precision</th>\n",
       "      <th>false positive rate</th>\n",
       "      <th>false negative rate</th>\n",
       "      <th>selection rate</th>\n",
       "      <th>count</th>\n",
       "    </tr>\n",
       "    <tr>\n",
       "      <th>majmin</th>\n",
       "      <th></th>\n",
       "      <th></th>\n",
       "      <th></th>\n",
       "      <th></th>\n",
       "      <th></th>\n",
       "      <th></th>\n",
       "      <th></th>\n",
       "      <th></th>\n",
       "    </tr>\n",
       "  </thead>\n",
       "  <tbody>\n",
       "    <tr>\n",
       "      <th>majority</th>\n",
       "      <td>0.239237</td>\n",
       "      <td>0.540555</td>\n",
       "      <td>0.248150</td>\n",
       "      <td>0.142712</td>\n",
       "      <td>0.868999</td>\n",
       "      <td>0.049891</td>\n",
       "      <td>0.879717</td>\n",
       "      <td>69170.0</td>\n",
       "    </tr>\n",
       "    <tr>\n",
       "      <th>minority</th>\n",
       "      <td>0.143671</td>\n",
       "      <td>0.509798</td>\n",
       "      <td>0.209732</td>\n",
       "      <td>0.117351</td>\n",
       "      <td>0.966047</td>\n",
       "      <td>0.014358</td>\n",
       "      <td>0.968306</td>\n",
       "      <td>20540.0</td>\n",
       "    </tr>\n",
       "  </tbody>\n",
       "</table>\n",
       "</div>"
      ],
      "text/plain": [
       "          accuracy  balanced accuracy        f1  precision  \\\n",
       "majmin                                                       \n",
       "majority  0.239237           0.540555  0.248150   0.142712   \n",
       "minority  0.143671           0.509798  0.209732   0.117351   \n",
       "\n",
       "          false positive rate  false negative rate  selection rate    count  \n",
       "majmin                                                                       \n",
       "majority             0.868999             0.049891        0.879717  69170.0  \n",
       "minority             0.966047             0.014358        0.968306  20540.0  "
      ]
     },
     "execution_count": 60,
     "metadata": {},
     "output_type": "execute_result"
    }
   ],
   "source": [
    "metric_frame.by_group"
   ]
  },
  {
   "cell_type": "code",
   "execution_count": 61,
   "id": "6e6c20ae",
   "metadata": {
    "execution": {
     "iopub.execute_input": "2025-08-19T18:19:18.856813Z",
     "iopub.status.busy": "2025-08-19T18:19:18.856227Z",
     "iopub.status.idle": "2025-08-19T18:19:20.845643Z",
     "shell.execute_reply": "2025-08-19T18:19:20.844071Z"
    },
    "papermill": {
     "duration": 2.004775,
     "end_time": "2025-08-19T18:19:20.846959",
     "exception": false,
     "start_time": "2025-08-19T18:19:18.842184",
     "status": "completed"
    },
    "tags": []
   },
   "outputs": [
    {
     "data": {
      "text/plain": [
       "array([[<Axes: title={'center': 'accuracy'}, xlabel='majmin'>,\n",
       "        <Axes: title={'center': 'balanced accuracy'}, xlabel='majmin'>,\n",
       "        <Axes: title={'center': 'f1'}, xlabel='majmin'>],\n",
       "       [<Axes: title={'center': 'precision'}, xlabel='majmin'>,\n",
       "        <Axes: title={'center': 'false positive rate'}, xlabel='majmin'>,\n",
       "        <Axes: title={'center': 'false negative rate'}, xlabel='majmin'>],\n",
       "       [<Axes: title={'center': 'selection rate'}, xlabel='majmin'>,\n",
       "        <Axes: title={'center': 'count'}, xlabel='majmin'>,\n",
       "        <Axes: xlabel='majmin'>]], dtype=object)"
      ]
     },
     "execution_count": 61,
     "metadata": {},
     "output_type": "execute_result"
    },
    {
     "data": {
      "image/png": "[encoded data removed]",
      "text/plain": [
       "<Figure size 1200x800 with 9 Axes>"
      ]
     },
     "metadata": {},
     "output_type": "display_data"
    }
   ],
   "source": [
    "# In a graphic\n",
    "metric_frame.by_group.plot.bar(\n",
    "    subplots=True,\n",
    "    layout=[3, 3],\n",
    "    legend=False,\n",
    "    figsize=[12, 8],\n",
    "    title=\"Show all metrics\",\n",
    ")"
   ]
  },
  {
   "cell_type": "markdown",
   "id": "b2e433ae",
   "metadata": {
    "papermill": {
     "duration": 0.013865,
     "end_time": "2025-08-19T18:19:20.880730",
     "exception": false,
     "start_time": "2025-08-19T18:19:20.866865",
     "status": "completed"
    },
    "tags": []
   },
   "source": [
    "# Final Output"
   ]
  },
  {
   "cell_type": "code",
   "execution_count": 62,
   "id": "3871301e",
   "metadata": {
    "execution": {
     "iopub.execute_input": "2025-08-19T18:19:20.913013Z",
     "iopub.status.busy": "2025-08-19T18:19:20.910538Z",
     "iopub.status.idle": "2025-08-19T18:19:20.929855Z",
     "shell.execute_reply": "2025-08-19T18:19:20.928704Z"
    },
    "papermill": {
     "duration": 0.03748,
     "end_time": "2025-08-19T18:19:20.931894",
     "exception": false,
     "start_time": "2025-08-19T18:19:20.894414",
     "status": "completed"
    },
    "tags": []
   },
   "outputs": [
    {
     "data": {
      "text/plain": [
       "4"
      ]
     },
     "execution_count": 62,
     "metadata": {},
     "output_type": "execute_result"
    }
   ],
   "source": [
    "sub_universes = universe_analysis.generate_sub_universes()\n",
    "len(sub_universes)"
   ]
  },
  {
   "cell_type": "code",
   "execution_count": 63,
   "id": "d9cfdaca",
   "metadata": {
    "execution": {
     "iopub.execute_input": "2025-08-19T18:19:20.967382Z",
     "iopub.status.busy": "2025-08-19T18:19:20.966231Z",
     "iopub.status.idle": "2025-08-19T18:19:20.979347Z",
     "shell.execute_reply": "2025-08-19T18:19:20.978048Z"
    },
    "papermill": {
     "duration": 0.030276,
     "end_time": "2025-08-19T18:19:20.981041",
     "exception": false,
     "start_time": "2025-08-19T18:19:20.950765",
     "status": "completed"
    },
    "tags": []
   },
   "outputs": [],
   "source": [
    "def filter_sub_universe_data(sub_universe, org_test):\n",
    "    # Keep all rows — no filtering\n",
    "    keep_rows_mask = np.ones(org_test.shape[0], dtype=bool)\n",
    "\n",
    "    print(f\"[INFO] Keeping all rows: {keep_rows_mask.sum()} rows retained.\")\n",
    "    return keep_rows_mask"
   ]
  },
  {
   "cell_type": "code",
   "execution_count": 64,
   "id": "2bc31ac1",
   "metadata": {
    "execution": {
     "iopub.execute_input": "2025-08-19T18:19:21.014414Z",
     "iopub.status.busy": "2025-08-19T18:19:21.013489Z",
     "iopub.status.idle": "2025-08-19T18:19:27.598307Z",
     "shell.execute_reply": "2025-08-19T18:19:27.597355Z"
    },
    "papermill": {
     "duration": 6.60122,
     "end_time": "2025-08-19T18:19:27.599513",
     "exception": false,
     "start_time": "2025-08-19T18:19:20.998293",
     "status": "completed"
    },
    "tags": []
   },
   "outputs": [
    {
     "name": "stdout",
     "output_type": "stream",
     "text": [
      "Stopping execution_time clock.\n",
      "[INFO] Keeping all rows: 89710 rows retained.\n"
     ]
    },
    {
     "name": "stdout",
     "output_type": "stream",
     "text": [
      "[INFO] Keeping all rows: 89710 rows retained.\n"
     ]
    },
    {
     "name": "stdout",
     "output_type": "stream",
     "text": [
      "[INFO] Keeping all rows: 89710 rows retained.\n"
     ]
    },
    {
     "name": "stdout",
     "output_type": "stream",
     "text": [
      "[INFO] Keeping all rows: 89710 rows retained.\n"
     ]
    },
    {
     "data": {
      "text/html": [
       "<div>\n",
       "<style scoped>\n",
       "    .dataframe tbody tr th:only-of-type {\n",
       "        vertical-align: middle;\n",
       "    }\n",
       "\n",
       "    .dataframe tbody tr th {\n",
       "        vertical-align: top;\n",
       "    }\n",
       "\n",
       "    .dataframe thead th {\n",
       "        text-align: right;\n",
       "    }\n",
       "</style>\n",
       "<table border=\"1\" class=\"dataframe\">\n",
       "  <thead>\n",
       "    <tr style=\"text-align: right;\">\n",
       "      <th></th>\n",
       "      <th>run_no</th>\n",
       "      <th>universe_id</th>\n",
       "      <th>universe_settings</th>\n",
       "      <th>execution_time</th>\n",
       "      <th>test_size_n</th>\n",
       "      <th>test_size_frac</th>\n",
       "      <th>fair_main_equalized_odds_difference</th>\n",
       "      <th>fair_main_equalized_odds_ratio</th>\n",
       "      <th>fair_main_demographic_parity_difference</th>\n",
       "      <th>fair_main_demographic_parity_ratio</th>\n",
       "      <th>...</th>\n",
       "      <th>perf_grp_precision_0</th>\n",
       "      <th>perf_grp_precision_1</th>\n",
       "      <th>perf_grp_false positive rate_0</th>\n",
       "      <th>perf_grp_false positive rate_1</th>\n",
       "      <th>perf_grp_false negative rate_0</th>\n",
       "      <th>perf_grp_false negative rate_1</th>\n",
       "      <th>perf_grp_selection rate_0</th>\n",
       "      <th>perf_grp_selection rate_1</th>\n",
       "      <th>perf_grp_count_0</th>\n",
       "      <th>perf_grp_count_1</th>\n",
       "    </tr>\n",
       "  </thead>\n",
       "  <tbody>\n",
       "    <tr>\n",
       "      <th>0</th>\n",
       "      <td>3</td>\n",
       "      <td>02ddeec67932ec5ce4cb2ecc20db26ba</td>\n",
       "      <td>{\"cutoff\": \"quantile_0.1\", \"eval_fairness_grou...</td>\n",
       "      <td>22.444546</td>\n",
       "      <td>89710</td>\n",
       "      <td>1.0</td>\n",
       "      <td>0.097048</td>\n",
       "      <td>0.899541</td>\n",
       "      <td>0.088589</td>\n",
       "      <td>0.908511</td>\n",
       "      <td>...</td>\n",
       "      <td>NaN</td>\n",
       "      <td>NaN</td>\n",
       "      <td>NaN</td>\n",
       "      <td>NaN</td>\n",
       "      <td>NaN</td>\n",
       "      <td>NaN</td>\n",
       "      <td>NaN</td>\n",
       "      <td>NaN</td>\n",
       "      <td>NaN</td>\n",
       "      <td>NaN</td>\n",
       "    </tr>\n",
       "    <tr>\n",
       "      <th>0</th>\n",
       "      <td>3</td>\n",
       "      <td>02ddeec67932ec5ce4cb2ecc20db26ba</td>\n",
       "      <td>{\"cutoff\": \"quantile_0.1\", \"eval_fairness_grou...</td>\n",
       "      <td>22.444546</td>\n",
       "      <td>89710</td>\n",
       "      <td>1.0</td>\n",
       "      <td>0.097048</td>\n",
       "      <td>0.899541</td>\n",
       "      <td>0.088589</td>\n",
       "      <td>0.908511</td>\n",
       "      <td>...</td>\n",
       "      <td>0.117351</td>\n",
       "      <td>0.142712</td>\n",
       "      <td>0.966047</td>\n",
       "      <td>0.868999</td>\n",
       "      <td>0.014358</td>\n",
       "      <td>0.049891</td>\n",
       "      <td>0.968306</td>\n",
       "      <td>0.879717</td>\n",
       "      <td>20540.0</td>\n",
       "      <td>69170.0</td>\n",
       "    </tr>\n",
       "    <tr>\n",
       "      <th>0</th>\n",
       "      <td>3</td>\n",
       "      <td>02ddeec67932ec5ce4cb2ecc20db26ba</td>\n",
       "      <td>{\"cutoff\": \"quantile_0.25\", \"eval_fairness_gro...</td>\n",
       "      <td>22.444546</td>\n",
       "      <td>89710</td>\n",
       "      <td>1.0</td>\n",
       "      <td>0.218800</td>\n",
       "      <td>0.756445</td>\n",
       "      <td>0.200674</td>\n",
       "      <td>0.778192</td>\n",
       "      <td>...</td>\n",
       "      <td>NaN</td>\n",
       "      <td>NaN</td>\n",
       "      <td>NaN</td>\n",
       "      <td>NaN</td>\n",
       "      <td>NaN</td>\n",
       "      <td>NaN</td>\n",
       "      <td>NaN</td>\n",
       "      <td>NaN</td>\n",
       "      <td>NaN</td>\n",
       "      <td>NaN</td>\n",
       "    </tr>\n",
       "    <tr>\n",
       "      <th>0</th>\n",
       "      <td>3</td>\n",
       "      <td>02ddeec67932ec5ce4cb2ecc20db26ba</td>\n",
       "      <td>{\"cutoff\": \"quantile_0.25\", \"eval_fairness_gro...</td>\n",
       "      <td>22.444546</td>\n",
       "      <td>89710</td>\n",
       "      <td>1.0</td>\n",
       "      <td>0.218800</td>\n",
       "      <td>0.756445</td>\n",
       "      <td>0.200674</td>\n",
       "      <td>0.778192</td>\n",
       "      <td>...</td>\n",
       "      <td>0.121509</td>\n",
       "      <td>0.162324</td>\n",
       "      <td>0.898360</td>\n",
       "      <td>0.679560</td>\n",
       "      <td>0.046453</td>\n",
       "      <td>0.135120</td>\n",
       "      <td>0.904722</td>\n",
       "      <td>0.704048</td>\n",
       "      <td>20540.0</td>\n",
       "      <td>69170.0</td>\n",
       "    </tr>\n",
       "  </tbody>\n",
       "</table>\n",
       "<p>4 rows × 50 columns</p>\n",
       "</div>"
      ],
      "text/plain": [
       "  run_no                       universe_id  \\\n",
       "0      3  02ddeec67932ec5ce4cb2ecc20db26ba   \n",
       "0      3  02ddeec67932ec5ce4cb2ecc20db26ba   \n",
       "0      3  02ddeec67932ec5ce4cb2ecc20db26ba   \n",
       "0      3  02ddeec67932ec5ce4cb2ecc20db26ba   \n",
       "\n",
       "                                   universe_settings  execution_time  \\\n",
       "0  {\"cutoff\": \"quantile_0.1\", \"eval_fairness_grou...       22.444546   \n",
       "0  {\"cutoff\": \"quantile_0.1\", \"eval_fairness_grou...       22.444546   \n",
       "0  {\"cutoff\": \"quantile_0.25\", \"eval_fairness_gro...       22.444546   \n",
       "0  {\"cutoff\": \"quantile_0.25\", \"eval_fairness_gro...       22.444546   \n",
       "\n",
       "   test_size_n  test_size_frac  fair_main_equalized_odds_difference  \\\n",
       "0        89710             1.0                             0.097048   \n",
       "0        89710             1.0                             0.097048   \n",
       "0        89710             1.0                             0.218800   \n",
       "0        89710             1.0                             0.218800   \n",
       "\n",
       "   fair_main_equalized_odds_ratio  fair_main_demographic_parity_difference  \\\n",
       "0                        0.899541                                 0.088589   \n",
       "0                        0.899541                                 0.088589   \n",
       "0                        0.756445                                 0.200674   \n",
       "0                        0.756445                                 0.200674   \n",
       "\n",
       "   fair_main_demographic_parity_ratio  ...  perf_grp_precision_0  \\\n",
       "0                            0.908511  ...                   NaN   \n",
       "0                            0.908511  ...              0.117351   \n",
       "0                            0.778192  ...                   NaN   \n",
       "0                            0.778192  ...              0.121509   \n",
       "\n",
       "   perf_grp_precision_1  perf_grp_false positive rate_0  \\\n",
       "0                   NaN                             NaN   \n",
       "0              0.142712                        0.966047   \n",
       "0                   NaN                             NaN   \n",
       "0              0.162324                        0.898360   \n",
       "\n",
       "   perf_grp_false positive rate_1  perf_grp_false negative rate_0  \\\n",
       "0                             NaN                             NaN   \n",
       "0                        0.868999                        0.014358   \n",
       "0                             NaN                             NaN   \n",
       "0                        0.679560                        0.046453   \n",
       "\n",
       "   perf_grp_false negative rate_1  perf_grp_selection rate_0  \\\n",
       "0                             NaN                        NaN   \n",
       "0                        0.049891                   0.968306   \n",
       "0                             NaN                        NaN   \n",
       "0                        0.135120                   0.904722   \n",
       "\n",
       "   perf_grp_selection rate_1  perf_grp_count_0  perf_grp_count_1  \n",
       "0                        NaN               NaN               NaN  \n",
       "0                   0.879717           20540.0           69170.0  \n",
       "0                        NaN               NaN               NaN  \n",
       "0                   0.704048           20540.0           69170.0  \n",
       "\n",
       "[4 rows x 50 columns]"
      ]
     },
     "execution_count": 64,
     "metadata": {},
     "output_type": "execute_result"
    }
   ],
   "source": [
    "final_output = universe_analysis.generate_final_output(\n",
    "    y_pred_prob=probs_test,\n",
    "    y_test=y_true,\n",
    "    org_test=org_test,\n",
    "    filter_data=filter_sub_universe_data,\n",
    "    cp_metrics_df=cp_metrics_df,\n",
    "    save=True,\n",
    ")\n",
    "final_output"
   ]
  },
  {
   "cell_type": "code",
   "execution_count": null,
   "id": "8b80a1ff",
   "metadata": {
    "papermill": {
     "duration": 0.014588,
     "end_time": "2025-08-19T18:19:27.631548",
     "exception": false,
     "start_time": "2025-08-19T18:19:27.616960",
     "status": "completed"
    },
    "tags": []
   },
   "outputs": [],
   "source": []
  },
  {
   "cell_type": "code",
   "execution_count": null,
   "id": "275c9fad",
   "metadata": {
    "papermill": {
     "duration": 0.014171,
     "end_time": "2025-08-19T18:19:27.660068",
     "exception": false,
     "start_time": "2025-08-19T18:19:27.645897",
     "status": "completed"
    },
    "tags": []
   },
   "outputs": [],
   "source": []
  }
 ],
 "metadata": {
  "celltoolbar": "Tags",
  "kernelspec": {
   "display_name": "Python (CMA Fairness)",
   "language": "python",
   "name": "cma_fair_env"
  },
  "language_info": {
   "codemirror_mode": {
    "name": "ipython",
    "version": 3
   },
   "file_extension": ".py",
   "mimetype": "text/x-python",
   "name": "python",
   "nbconvert_exporter": "python",
   "pygments_lexer": "ipython3",
   "version": "3.10.12"
  },
  "papermill": {
   "default_parameters": {},
   "duration": 32.892471,
   "end_time": "2025-08-19T18:19:28.497309",
   "environment_variables": {},
   "exception": null,
   "input_path": "universe_analysis.ipynb",
   "output_path": "output/runs/3/notebooks/m_3-02ddeec67932ec5ce4cb2ecc20db26ba.ipynb",
   "parameters": {
    "output_dir": "output",
    "run_no": "3",
    "seed": "2023",
    "universe": "{\"cutoff\": [\"quantile_0.1\", \"quantile_0.25\"], \"eval_fairness_grouping\": [\"majority-minority\", \"nationality-all\"], \"exclude_features\": \"nationality-sex\", \"exclude_subgroups\": \"drop-non-german\", \"model\": \"penalized_logreg\", \"scale\": \"do-not-scale\", \"training_size\": \"25k\", \"training_year\": \"2010_14\"}",
    "universe_id": "02ddeec67932ec5ce4cb2ecc20db26ba"
   },
   "start_time": "2025-08-19T18:18:55.604838",
   "version": "2.6.0"
  }
 },
 "nbformat": 4,
 "nbformat_minor": 5
}