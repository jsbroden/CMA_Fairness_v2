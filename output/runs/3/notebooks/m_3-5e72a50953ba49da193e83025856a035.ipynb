{
 "cells": [
  {
   "cell_type": "markdown",
   "id": "ef23dbb3",
   "metadata": {
    "papermill": {
     "duration": 0.009129,
     "end_time": "2025-08-19T19:10:09.880444",
     "exception": false,
     "start_time": "2025-08-19T19:10:09.871315",
     "status": "completed"
    },
    "tags": []
   },
   "source": [
    "# Setup"
   ]
  },
  {
   "cell_type": "code",
   "execution_count": 1,
   "id": "0bc8e7dc",
   "metadata": {
    "execution": {
     "iopub.execute_input": "2025-08-19T19:10:09.899596Z",
     "iopub.status.busy": "2025-08-19T19:10:09.899189Z",
     "iopub.status.idle": "2025-08-19T19:10:09.912122Z",
     "shell.execute_reply": "2025-08-19T19:10:09.911340Z"
    },
    "papermill": {
     "duration": 0.032187,
     "end_time": "2025-08-19T19:10:09.921643",
     "exception": false,
     "start_time": "2025-08-19T19:10:09.889456",
     "status": "completed"
    },
    "tags": []
   },
   "outputs": [
    {
     "name": "stdout",
     "output_type": "stream",
     "text": [
      "/dss/dsshome1/0C/ra93lal2/cma/CMA_Fairness_v2\n"
     ]
    },
    {
     "name": "stderr",
     "output_type": "stream",
     "text": [
      "/dss/dsshome1/0C/ra93lal2/.local/share/virtualenvs/CMA_Fairness_v2-3j10GkSs/lib/python3.10/site-packages/IPython/core/magics/osm.py:393: UserWarning: This is now an optional IPython functionality, using bookmarks requires you to install the `pickleshare` library.\n",
      "  bkms = self.shell.db.get('bookmarks', {})\n",
      "/dss/dsshome1/0C/ra93lal2/.local/share/virtualenvs/CMA_Fairness_v2-3j10GkSs/lib/python3.10/site-packages/IPython/core/magics/osm.py:417: UserWarning: This is now an optional IPython functionality, setting dhist requires you to install the `pickleshare` library.\n",
      "  self.shell.db['dhist'] = compress_dhist(dhist)[-100:]\n"
     ]
    }
   ],
   "source": [
    "%cd ~/cma/CMA_Fairness_v2"
   ]
  },
  {
   "cell_type": "markdown",
   "id": "9d235661",
   "metadata": {
    "papermill": {
     "duration": 0.008868,
     "end_time": "2025-08-19T19:10:09.942165",
     "exception": false,
     "start_time": "2025-08-19T19:10:09.933297",
     "status": "completed"
    },
    "tags": []
   },
   "source": [
    "The following cell holds the definition of our parameters, these values can be overriden by rendering the with e.g. the following command:\n",
    "\n",
    "papermill -p alpha 0.2 -p ratio 0.3 universe_analysis.ipynb output/test_run.ipynb"
   ]
  },
  {
   "cell_type": "code",
   "execution_count": 2,
   "id": "4a789d8e",
   "metadata": {
    "execution": {
     "iopub.execute_input": "2025-08-19T19:10:09.961563Z",
     "iopub.status.busy": "2025-08-19T19:10:09.961000Z",
     "iopub.status.idle": "2025-08-19T19:10:09.965561Z",
     "shell.execute_reply": "2025-08-19T19:10:09.964847Z"
    },
    "papermill": {
     "duration": 0.017352,
     "end_time": "2025-08-19T19:10:09.968287",
     "exception": false,
     "start_time": "2025-08-19T19:10:09.950935",
     "status": "completed"
    },
    "tags": []
   },
   "outputs": [
    {
     "name": "stdout",
     "output_type": "stream",
     "text": [
      "Current working directory: /dss/dsshome1/0C/ra93lal2/cma/CMA_Fairness_v2\n"
     ]
    }
   ],
   "source": [
    "import os\n",
    "print(\"Current working directory:\", os.getcwd())"
   ]
  },
  {
   "cell_type": "code",
   "execution_count": 3,
   "id": "4132aaed",
   "metadata": {
    "execution": {
     "iopub.execute_input": "2025-08-19T19:10:09.990320Z",
     "iopub.status.busy": "2025-08-19T19:10:09.989584Z",
     "iopub.status.idle": "2025-08-19T19:10:09.997704Z",
     "shell.execute_reply": "2025-08-19T19:10:09.996070Z"
    },
    "papermill": {
     "duration": 0.019705,
     "end_time": "2025-08-19T19:10:09.999034",
     "exception": false,
     "start_time": "2025-08-19T19:10:09.979329",
     "status": "completed"
    },
    "tags": [
     "parameters"
    ]
   },
   "outputs": [],
   "source": [
    "run_no = 0\n",
    "universe_id = \"test\"\n",
    "universe = {\n",
    "    \"training_size\": \"5k\", # \"25k\", \"5k\", \"1k\"\n",
    "    \"training_year\": \"2012_14\", # \"2014\", \"2012_14\", \"2010_14\"\n",
    "    \"scale\": \"scale\", # \"scale\", \"do-not-scale\",\n",
    "    \"model\": \"elasticnet\", # \"logreg\", \"penalized_logreg\", \"rf\", \"gbm\", \"elasticnet\"\n",
    "    \"cutoff\": [\"quantile_0.15\", \"quantile_0.30\"],\n",
    "    \"exclude_features\": \"age\", # \"none\", \"nationality\", \"sex\", \"nationality-sex\", \"age\"\n",
    "    \"exclude_subgroups\": \"drop-non-german\", # \"keep-all\", \"drop-non-german\"\n",
    "    \"eval_fairness_grouping\": [\"majority-minority\", \"nationality-all\"]\n",
    "}\n",
    "\n",
    "output_dir=\"./output\"\n",
    "seed=0"
   ]
  },
  {
   "cell_type": "code",
   "execution_count": 4,
   "id": "10b0d45b",
   "metadata": {
    "execution": {
     "iopub.execute_input": "2025-08-19T19:10:10.023828Z",
     "iopub.status.busy": "2025-08-19T19:10:10.022799Z",
     "iopub.status.idle": "2025-08-19T19:10:10.032918Z",
     "shell.execute_reply": "2025-08-19T19:10:10.030861Z"
    },
    "papermill": {
     "duration": 0.02357,
     "end_time": "2025-08-19T19:10:10.034548",
     "exception": false,
     "start_time": "2025-08-19T19:10:10.010978",
     "status": "completed"
    },
    "tags": [
     "injected-parameters"
    ]
   },
   "outputs": [],
   "source": [
    "# Parameters\n",
    "universe_id = \"5e72a50953ba49da193e83025856a035\"\n",
    "run_no = \"3\"\n",
    "universe = \"{\\\"cutoff\\\": [\\\"quantile_0.1\\\", \\\"quantile_0.25\\\"], \\\"eval_fairness_grouping\\\": [\\\"majority-minority\\\", \\\"nationality-all\\\"], \\\"exclude_features\\\": \\\"none\\\", \\\"exclude_subgroups\\\": \\\"drop-non-german\\\", \\\"model\\\": \\\"rf\\\", \\\"scale\\\": \\\"do-not-scale\\\", \\\"training_size\\\": \\\"1k\\\", \\\"training_year\\\": \\\"2010_14\\\"}\"\n",
    "output_dir = \"output\"\n",
    "seed = \"2023\"\n"
   ]
  },
  {
   "cell_type": "code",
   "execution_count": 5,
   "id": "a5d7941f",
   "metadata": {
    "execution": {
     "iopub.execute_input": "2025-08-19T19:10:10.057911Z",
     "iopub.status.busy": "2025-08-19T19:10:10.056876Z",
     "iopub.status.idle": "2025-08-19T19:10:10.066226Z",
     "shell.execute_reply": "2025-08-19T19:10:10.064411Z"
    },
    "papermill": {
     "duration": 0.02173,
     "end_time": "2025-08-19T19:10:10.067720",
     "exception": false,
     "start_time": "2025-08-19T19:10:10.045990",
     "status": "completed"
    },
    "tags": []
   },
   "outputs": [],
   "source": [
    "import json\n",
    "if isinstance(universe, str):\n",
    "    universe = json.loads(universe)"
   ]
  },
  {
   "cell_type": "code",
   "execution_count": 6,
   "id": "7076ccb1",
   "metadata": {
    "execution": {
     "iopub.execute_input": "2025-08-19T19:10:10.093118Z",
     "iopub.status.busy": "2025-08-19T19:10:10.092090Z",
     "iopub.status.idle": "2025-08-19T19:10:10.141967Z",
     "shell.execute_reply": "2025-08-19T19:10:10.141306Z"
    },
    "papermill": {
     "duration": 0.064537,
     "end_time": "2025-08-19T19:10:10.144397",
     "exception": false,
     "start_time": "2025-08-19T19:10:10.079860",
     "status": "completed"
    },
    "tags": []
   },
   "outputs": [],
   "source": [
    "# Auto-reload the custom package\n",
    "%load_ext autoreload\n",
    "%autoreload 1\n",
    "%aimport fairness_multiverse"
   ]
  },
  {
   "cell_type": "code",
   "execution_count": 7,
   "id": "94c8eb93",
   "metadata": {
    "execution": {
     "iopub.execute_input": "2025-08-19T19:10:10.181226Z",
     "iopub.status.busy": "2025-08-19T19:10:10.180117Z",
     "iopub.status.idle": "2025-08-19T19:10:11.732268Z",
     "shell.execute_reply": "2025-08-19T19:10:11.731462Z"
    },
    "papermill": {
     "duration": 1.567308,
     "end_time": "2025-08-19T19:10:11.733928",
     "exception": false,
     "start_time": "2025-08-19T19:10:10.166620",
     "status": "completed"
    },
    "tags": []
   },
   "outputs": [],
   "source": [
    "from fairness_multiverse.universe import UniverseAnalysis\n",
    "\n",
    "universe_analysis = UniverseAnalysis(\n",
    "    run_no = run_no,\n",
    "    universe_id = universe_id,\n",
    "    universe = universe,\n",
    "    output_dir=output_dir,\n",
    ")"
   ]
  },
  {
   "cell_type": "code",
   "execution_count": 8,
   "id": "2a6381cf",
   "metadata": {
    "execution": {
     "iopub.execute_input": "2025-08-19T19:10:11.755497Z",
     "iopub.status.busy": "2025-08-19T19:10:11.754041Z",
     "iopub.status.idle": "2025-08-19T19:10:11.762357Z",
     "shell.execute_reply": "2025-08-19T19:10:11.761316Z"
    },
    "papermill": {
     "duration": 0.020207,
     "end_time": "2025-08-19T19:10:11.763667",
     "exception": false,
     "start_time": "2025-08-19T19:10:11.743460",
     "status": "completed"
    },
    "tags": []
   },
   "outputs": [
    {
     "name": "stdout",
     "output_type": "stream",
     "text": [
      "Using Seed: 2023\n"
     ]
    }
   ],
   "source": [
    "import numpy as np\n",
    "parsed_seed = int(seed)\n",
    "np.random.seed(parsed_seed)\n",
    "print(f\"Using Seed: {parsed_seed}\")"
   ]
  },
  {
   "cell_type": "markdown",
   "id": "b6e958b4",
   "metadata": {
    "papermill": {
     "duration": 0.009561,
     "end_time": "2025-08-19T19:10:11.784567",
     "exception": false,
     "start_time": "2025-08-19T19:10:11.775006",
     "status": "completed"
    },
    "tags": []
   },
   "source": [
    "# Loading Data"
   ]
  },
  {
   "cell_type": "code",
   "execution_count": 9,
   "id": "98701482",
   "metadata": {
    "execution": {
     "iopub.execute_input": "2025-08-19T19:10:11.816214Z",
     "iopub.status.busy": "2025-08-19T19:10:11.815068Z",
     "iopub.status.idle": "2025-08-19T19:10:22.156579Z",
     "shell.execute_reply": "2025-08-19T19:10:22.155528Z"
    },
    "papermill": {
     "duration": 10.364451,
     "end_time": "2025-08-19T19:10:22.158144",
     "exception": false,
     "start_time": "2025-08-19T19:10:11.793693",
     "status": "completed"
    },
    "tags": []
   },
   "outputs": [
    {
     "name": "stdout",
     "output_type": "stream",
     "text": [
      "Loading SIAB data from cache: data/siab_cached.csv.gz\n"
     ]
    },
    {
     "name": "stdout",
     "output_type": "stream",
     "text": [
      "(643690, 164)\n"
     ]
    }
   ],
   "source": [
    "from pathlib import Path\n",
    "import pandas as pd\n",
    "\n",
    "# File paths\n",
    "raw_file = Path(\"data/raw/siab.csv\")\n",
    "cache_file = Path(\"data/siab_cached.csv.gz\")\n",
    "\n",
    "# Ensure cache directory exists\n",
    "cache_file.parent.mkdir(parents=True, exist_ok=True)\n",
    "\n",
    "# Load with simple caching\n",
    "if cache_file.exists():\n",
    "    print(f\"Loading SIAB data from cache: {cache_file}\")\n",
    "    siab = pd.read_csv(cache_file, compression='gzip')\n",
    "else:\n",
    "    print(f\"Cache not found. Reading raw SIAB data: {raw_file}\")\n",
    "    siab = pd.read_csv(raw_file)\n",
    "    siab.to_csv(cache_file, index=False, compression='gzip')\n",
    "    print(f\"Cached SIAB data to: {cache_file}\")\n",
    "\n",
    "print(siab.shape)"
   ]
  },
  {
   "cell_type": "code",
   "execution_count": 10,
   "id": "058d2abb",
   "metadata": {
    "execution": {
     "iopub.execute_input": "2025-08-19T19:10:22.193392Z",
     "iopub.status.busy": "2025-08-19T19:10:22.191853Z",
     "iopub.status.idle": "2025-08-19T19:10:22.350198Z",
     "shell.execute_reply": "2025-08-19T19:10:22.349442Z"
    },
    "papermill": {
     "duration": 0.173659,
     "end_time": "2025-08-19T19:10:22.351620",
     "exception": false,
     "start_time": "2025-08-19T19:10:22.177961",
     "status": "completed"
    },
    "tags": []
   },
   "outputs": [
    {
     "data": {
      "text/html": [
       "<div>\n",
       "<style scoped>\n",
       "    .dataframe tbody tr th:only-of-type {\n",
       "        vertical-align: middle;\n",
       "    }\n",
       "\n",
       "    .dataframe tbody tr th {\n",
       "        vertical-align: top;\n",
       "    }\n",
       "\n",
       "    .dataframe thead th {\n",
       "        text-align: right;\n",
       "    }\n",
       "</style>\n",
       "<table border=\"1\" class=\"dataframe\">\n",
       "  <thead>\n",
       "    <tr style=\"text-align: right;\">\n",
       "      <th></th>\n",
       "      <th>persnr</th>\n",
       "      <th>year</th>\n",
       "      <th>nrEntry</th>\n",
       "      <th>ltue</th>\n",
       "      <th>employed_before</th>\n",
       "      <th>receipt_leh_before</th>\n",
       "      <th>receipt_lhg_before</th>\n",
       "      <th>se_before</th>\n",
       "      <th>ASU_notue_seeking_before</th>\n",
       "      <th>ASU_other_before</th>\n",
       "      <th>...</th>\n",
       "      <th>minijob_tot_dur_byage</th>\n",
       "      <th>ft_tot_dur_byage</th>\n",
       "      <th>befrist_tot_dur_byage</th>\n",
       "      <th>leih_tot_dur_byage</th>\n",
       "      <th>LHG_tot_dur_byage</th>\n",
       "      <th>LEH_tot_dur_byage</th>\n",
       "      <th>almp_tot_dur_byage</th>\n",
       "      <th>almp_aw_tot_dur_byage</th>\n",
       "      <th>se_tot_dur_byage</th>\n",
       "      <th>seeking1_tot_dur_byage</th>\n",
       "    </tr>\n",
       "  </thead>\n",
       "  <tbody>\n",
       "    <tr>\n",
       "      <th>0</th>\n",
       "      <td>7</td>\n",
       "      <td>2015</td>\n",
       "      <td>1</td>\n",
       "      <td>0</td>\n",
       "      <td>1</td>\n",
       "      <td>0</td>\n",
       "      <td>0</td>\n",
       "      <td>0</td>\n",
       "      <td>1</td>\n",
       "      <td>0</td>\n",
       "      <td>...</td>\n",
       "      <td>0.000000</td>\n",
       "      <td>0.000000</td>\n",
       "      <td>15.043478</td>\n",
       "      <td>0.000000</td>\n",
       "      <td>0.000000</td>\n",
       "      <td>0.000000</td>\n",
       "      <td>0.000000</td>\n",
       "      <td>0.000000</td>\n",
       "      <td>0.000000</td>\n",
       "      <td>0.000000</td>\n",
       "    </tr>\n",
       "    <tr>\n",
       "      <th>1</th>\n",
       "      <td>18</td>\n",
       "      <td>2010</td>\n",
       "      <td>1</td>\n",
       "      <td>1</td>\n",
       "      <td>0</td>\n",
       "      <td>0</td>\n",
       "      <td>0</td>\n",
       "      <td>0</td>\n",
       "      <td>0</td>\n",
       "      <td>0</td>\n",
       "      <td>...</td>\n",
       "      <td>0.000000</td>\n",
       "      <td>0.000000</td>\n",
       "      <td>0.000000</td>\n",
       "      <td>0.000000</td>\n",
       "      <td>0.000000</td>\n",
       "      <td>0.000000</td>\n",
       "      <td>0.000000</td>\n",
       "      <td>0.000000</td>\n",
       "      <td>0.000000</td>\n",
       "      <td>0.000000</td>\n",
       "    </tr>\n",
       "    <tr>\n",
       "      <th>2</th>\n",
       "      <td>18</td>\n",
       "      <td>2011</td>\n",
       "      <td>2</td>\n",
       "      <td>0</td>\n",
       "      <td>1</td>\n",
       "      <td>0</td>\n",
       "      <td>1</td>\n",
       "      <td>0</td>\n",
       "      <td>1</td>\n",
       "      <td>0</td>\n",
       "      <td>...</td>\n",
       "      <td>2.714286</td>\n",
       "      <td>2.714286</td>\n",
       "      <td>0.000000</td>\n",
       "      <td>0.000000</td>\n",
       "      <td>10.775510</td>\n",
       "      <td>0.000000</td>\n",
       "      <td>8.367347</td>\n",
       "      <td>0.000000</td>\n",
       "      <td>0.000000</td>\n",
       "      <td>9.836735</td>\n",
       "    </tr>\n",
       "    <tr>\n",
       "      <th>3</th>\n",
       "      <td>18</td>\n",
       "      <td>2012</td>\n",
       "      <td>3</td>\n",
       "      <td>0</td>\n",
       "      <td>1</td>\n",
       "      <td>0</td>\n",
       "      <td>1</td>\n",
       "      <td>0</td>\n",
       "      <td>1</td>\n",
       "      <td>0</td>\n",
       "      <td>...</td>\n",
       "      <td>4.200000</td>\n",
       "      <td>4.200000</td>\n",
       "      <td>0.000000</td>\n",
       "      <td>0.000000</td>\n",
       "      <td>12.100000</td>\n",
       "      <td>0.000000</td>\n",
       "      <td>9.400000</td>\n",
       "      <td>0.000000</td>\n",
       "      <td>0.000000</td>\n",
       "      <td>9.960000</td>\n",
       "    </tr>\n",
       "    <tr>\n",
       "      <th>4</th>\n",
       "      <td>18</td>\n",
       "      <td>2012</td>\n",
       "      <td>4</td>\n",
       "      <td>0</td>\n",
       "      <td>1</td>\n",
       "      <td>0</td>\n",
       "      <td>1</td>\n",
       "      <td>0</td>\n",
       "      <td>1</td>\n",
       "      <td>0</td>\n",
       "      <td>...</td>\n",
       "      <td>5.460000</td>\n",
       "      <td>5.460000</td>\n",
       "      <td>0.000000</td>\n",
       "      <td>0.000000</td>\n",
       "      <td>13.360000</td>\n",
       "      <td>0.000000</td>\n",
       "      <td>10.320000</td>\n",
       "      <td>0.000000</td>\n",
       "      <td>0.000000</td>\n",
       "      <td>10.280000</td>\n",
       "    </tr>\n",
       "    <tr>\n",
       "      <th>...</th>\n",
       "      <td>...</td>\n",
       "      <td>...</td>\n",
       "      <td>...</td>\n",
       "      <td>...</td>\n",
       "      <td>...</td>\n",
       "      <td>...</td>\n",
       "      <td>...</td>\n",
       "      <td>...</td>\n",
       "      <td>...</td>\n",
       "      <td>...</td>\n",
       "      <td>...</td>\n",
       "      <td>...</td>\n",
       "      <td>...</td>\n",
       "      <td>...</td>\n",
       "      <td>...</td>\n",
       "      <td>...</td>\n",
       "      <td>...</td>\n",
       "      <td>...</td>\n",
       "      <td>...</td>\n",
       "      <td>...</td>\n",
       "      <td>...</td>\n",
       "    </tr>\n",
       "    <tr>\n",
       "      <th>643685</th>\n",
       "      <td>1827860</td>\n",
       "      <td>2013</td>\n",
       "      <td>1</td>\n",
       "      <td>0</td>\n",
       "      <td>0</td>\n",
       "      <td>0</td>\n",
       "      <td>1</td>\n",
       "      <td>0</td>\n",
       "      <td>0</td>\n",
       "      <td>1</td>\n",
       "      <td>...</td>\n",
       "      <td>0.000000</td>\n",
       "      <td>0.000000</td>\n",
       "      <td>0.000000</td>\n",
       "      <td>0.000000</td>\n",
       "      <td>0.612903</td>\n",
       "      <td>0.000000</td>\n",
       "      <td>0.000000</td>\n",
       "      <td>0.000000</td>\n",
       "      <td>0.000000</td>\n",
       "      <td>0.000000</td>\n",
       "    </tr>\n",
       "    <tr>\n",
       "      <th>643686</th>\n",
       "      <td>1827860</td>\n",
       "      <td>2015</td>\n",
       "      <td>2</td>\n",
       "      <td>1</td>\n",
       "      <td>0</td>\n",
       "      <td>0</td>\n",
       "      <td>1</td>\n",
       "      <td>0</td>\n",
       "      <td>1</td>\n",
       "      <td>0</td>\n",
       "      <td>...</td>\n",
       "      <td>0.000000</td>\n",
       "      <td>0.000000</td>\n",
       "      <td>0.212121</td>\n",
       "      <td>0.212121</td>\n",
       "      <td>17.363636</td>\n",
       "      <td>0.000000</td>\n",
       "      <td>8.909091</td>\n",
       "      <td>0.000000</td>\n",
       "      <td>0.000000</td>\n",
       "      <td>7.121212</td>\n",
       "    </tr>\n",
       "    <tr>\n",
       "      <th>643687</th>\n",
       "      <td>1827860</td>\n",
       "      <td>2016</td>\n",
       "      <td>3</td>\n",
       "      <td>1</td>\n",
       "      <td>0</td>\n",
       "      <td>0</td>\n",
       "      <td>1</td>\n",
       "      <td>1</td>\n",
       "      <td>0</td>\n",
       "      <td>1</td>\n",
       "      <td>...</td>\n",
       "      <td>0.000000</td>\n",
       "      <td>0.000000</td>\n",
       "      <td>0.294118</td>\n",
       "      <td>0.205882</td>\n",
       "      <td>34.705882</td>\n",
       "      <td>0.000000</td>\n",
       "      <td>10.352941</td>\n",
       "      <td>1.705882</td>\n",
       "      <td>1.705882</td>\n",
       "      <td>23.911765</td>\n",
       "    </tr>\n",
       "    <tr>\n",
       "      <th>643688</th>\n",
       "      <td>1827869</td>\n",
       "      <td>2013</td>\n",
       "      <td>1</td>\n",
       "      <td>1</td>\n",
       "      <td>1</td>\n",
       "      <td>0</td>\n",
       "      <td>0</td>\n",
       "      <td>0</td>\n",
       "      <td>1</td>\n",
       "      <td>0</td>\n",
       "      <td>...</td>\n",
       "      <td>0.000000</td>\n",
       "      <td>0.000000</td>\n",
       "      <td>0.000000</td>\n",
       "      <td>0.000000</td>\n",
       "      <td>0.000000</td>\n",
       "      <td>0.525424</td>\n",
       "      <td>0.000000</td>\n",
       "      <td>0.000000</td>\n",
       "      <td>0.000000</td>\n",
       "      <td>0.000000</td>\n",
       "    </tr>\n",
       "    <tr>\n",
       "      <th>643689</th>\n",
       "      <td>1827869</td>\n",
       "      <td>2014</td>\n",
       "      <td>2</td>\n",
       "      <td>0</td>\n",
       "      <td>0</td>\n",
       "      <td>1</td>\n",
       "      <td>0</td>\n",
       "      <td>0</td>\n",
       "      <td>1</td>\n",
       "      <td>0</td>\n",
       "      <td>...</td>\n",
       "      <td>0.000000</td>\n",
       "      <td>0.666667</td>\n",
       "      <td>0.666667</td>\n",
       "      <td>0.000000</td>\n",
       "      <td>0.000000</td>\n",
       "      <td>8.950000</td>\n",
       "      <td>1.033333</td>\n",
       "      <td>0.083333</td>\n",
       "      <td>0.083333</td>\n",
       "      <td>8.133333</td>\n",
       "    </tr>\n",
       "  </tbody>\n",
       "</table>\n",
       "<p>643690 rows × 164 columns</p>\n",
       "</div>"
      ],
      "text/plain": [
       "         persnr  year  nrEntry  ltue  employed_before  receipt_leh_before  \\\n",
       "0             7  2015        1     0                1                   0   \n",
       "1            18  2010        1     1                0                   0   \n",
       "2            18  2011        2     0                1                   0   \n",
       "3            18  2012        3     0                1                   0   \n",
       "4            18  2012        4     0                1                   0   \n",
       "...         ...   ...      ...   ...              ...                 ...   \n",
       "643685  1827860  2013        1     0                0                   0   \n",
       "643686  1827860  2015        2     1                0                   0   \n",
       "643687  1827860  2016        3     1                0                   0   \n",
       "643688  1827869  2013        1     1                1                   0   \n",
       "643689  1827869  2014        2     0                0                   1   \n",
       "\n",
       "        receipt_lhg_before  se_before  ASU_notue_seeking_before  \\\n",
       "0                        0          0                         1   \n",
       "1                        0          0                         0   \n",
       "2                        1          0                         1   \n",
       "3                        1          0                         1   \n",
       "4                        1          0                         1   \n",
       "...                    ...        ...                       ...   \n",
       "643685                   1          0                         0   \n",
       "643686                   1          0                         1   \n",
       "643687                   1          1                         0   \n",
       "643688                   0          0                         1   \n",
       "643689                   0          0                         1   \n",
       "\n",
       "        ASU_other_before  ...  minijob_tot_dur_byage  ft_tot_dur_byage  \\\n",
       "0                      0  ...               0.000000          0.000000   \n",
       "1                      0  ...               0.000000          0.000000   \n",
       "2                      0  ...               2.714286          2.714286   \n",
       "3                      0  ...               4.200000          4.200000   \n",
       "4                      0  ...               5.460000          5.460000   \n",
       "...                  ...  ...                    ...               ...   \n",
       "643685                 1  ...               0.000000          0.000000   \n",
       "643686                 0  ...               0.000000          0.000000   \n",
       "643687                 1  ...               0.000000          0.000000   \n",
       "643688                 0  ...               0.000000          0.000000   \n",
       "643689                 0  ...               0.000000          0.666667   \n",
       "\n",
       "        befrist_tot_dur_byage  leih_tot_dur_byage  LHG_tot_dur_byage  \\\n",
       "0                   15.043478            0.000000           0.000000   \n",
       "1                    0.000000            0.000000           0.000000   \n",
       "2                    0.000000            0.000000          10.775510   \n",
       "3                    0.000000            0.000000          12.100000   \n",
       "4                    0.000000            0.000000          13.360000   \n",
       "...                       ...                 ...                ...   \n",
       "643685               0.000000            0.000000           0.612903   \n",
       "643686               0.212121            0.212121          17.363636   \n",
       "643687               0.294118            0.205882          34.705882   \n",
       "643688               0.000000            0.000000           0.000000   \n",
       "643689               0.666667            0.000000           0.000000   \n",
       "\n",
       "        LEH_tot_dur_byage  almp_tot_dur_byage  almp_aw_tot_dur_byage  \\\n",
       "0                0.000000            0.000000               0.000000   \n",
       "1                0.000000            0.000000               0.000000   \n",
       "2                0.000000            8.367347               0.000000   \n",
       "3                0.000000            9.400000               0.000000   \n",
       "4                0.000000           10.320000               0.000000   \n",
       "...                   ...                 ...                    ...   \n",
       "643685           0.000000            0.000000               0.000000   \n",
       "643686           0.000000            8.909091               0.000000   \n",
       "643687           0.000000           10.352941               1.705882   \n",
       "643688           0.525424            0.000000               0.000000   \n",
       "643689           8.950000            1.033333               0.083333   \n",
       "\n",
       "        se_tot_dur_byage  seeking1_tot_dur_byage  \n",
       "0               0.000000                0.000000  \n",
       "1               0.000000                0.000000  \n",
       "2               0.000000                9.836735  \n",
       "3               0.000000                9.960000  \n",
       "4               0.000000               10.280000  \n",
       "...                  ...                     ...  \n",
       "643685          0.000000                0.000000  \n",
       "643686          0.000000                7.121212  \n",
       "643687          1.705882               23.911765  \n",
       "643688          0.000000                0.000000  \n",
       "643689          0.083333                8.133333  \n",
       "\n",
       "[643690 rows x 164 columns]"
      ]
     },
     "execution_count": 10,
     "metadata": {},
     "output_type": "execute_result"
    }
   ],
   "source": [
    "siab"
   ]
  },
  {
   "cell_type": "markdown",
   "id": "1f87e805",
   "metadata": {
    "papermill": {
     "duration": 0.011063,
     "end_time": "2025-08-19T19:10:22.375249",
     "exception": false,
     "start_time": "2025-08-19T19:10:22.364186",
     "status": "completed"
    },
    "tags": []
   },
   "source": [
    "# Splitting Data and Setting Training Data Size"
   ]
  },
  {
   "cell_type": "code",
   "execution_count": 11,
   "id": "910ae358",
   "metadata": {
    "execution": {
     "iopub.execute_input": "2025-08-19T19:10:22.397586Z",
     "iopub.status.busy": "2025-08-19T19:10:22.396131Z",
     "iopub.status.idle": "2025-08-19T19:10:23.470918Z",
     "shell.execute_reply": "2025-08-19T19:10:23.470161Z"
    },
    "papermill": {
     "duration": 1.087671,
     "end_time": "2025-08-19T19:10:23.472606",
     "exception": false,
     "start_time": "2025-08-19T19:10:22.384935",
     "status": "completed"
    },
    "tags": []
   },
   "outputs": [],
   "source": [
    "from fairness_multiverse.universe import sample_by_year_size\n",
    "\n",
    "siab_train = sample_by_year_size(siab,\n",
    "                               training_year=universe[\"training_year\"],\n",
    "                               training_size=universe[\"training_size\"])"
   ]
  },
  {
   "cell_type": "code",
   "execution_count": 12,
   "id": "919c8ff5",
   "metadata": {
    "execution": {
     "iopub.execute_input": "2025-08-19T19:10:23.496069Z",
     "iopub.status.busy": "2025-08-19T19:10:23.495072Z",
     "iopub.status.idle": "2025-08-19T19:10:23.502062Z",
     "shell.execute_reply": "2025-08-19T19:10:23.501213Z"
    },
    "papermill": {
     "duration": 0.018907,
     "end_time": "2025-08-19T19:10:23.503279",
     "exception": false,
     "start_time": "2025-08-19T19:10:23.484372",
     "status": "completed"
    },
    "tags": []
   },
   "outputs": [
    {
     "data": {
      "text/plain": [
       "(1000, 164)"
      ]
     },
     "execution_count": 12,
     "metadata": {},
     "output_type": "execute_result"
    }
   ],
   "source": [
    "siab_train.shape"
   ]
  },
  {
   "cell_type": "code",
   "execution_count": 13,
   "id": "feb13bf4",
   "metadata": {
    "execution": {
     "iopub.execute_input": "2025-08-19T19:10:23.528594Z",
     "iopub.status.busy": "2025-08-19T19:10:23.527242Z",
     "iopub.status.idle": "2025-08-19T19:10:23.540331Z",
     "shell.execute_reply": "2025-08-19T19:10:23.539302Z"
    },
    "papermill": {
     "duration": 0.025971,
     "end_time": "2025-08-19T19:10:23.541895",
     "exception": false,
     "start_time": "2025-08-19T19:10:23.515924",
     "status": "completed"
    },
    "tags": []
   },
   "outputs": [
    {
     "data": {
      "text/plain": [
       "year\n",
       "2010    200\n",
       "2011    200\n",
       "2012    200\n",
       "2013    200\n",
       "2014    200\n",
       "dtype: int64"
      ]
     },
     "metadata": {},
     "output_type": "display_data"
    }
   ],
   "source": [
    "display(siab_train.groupby(\"year\").size())"
   ]
  },
  {
   "cell_type": "code",
   "execution_count": 14,
   "id": "0997782f",
   "metadata": {
    "execution": {
     "iopub.execute_input": "2025-08-19T19:10:23.571531Z",
     "iopub.status.busy": "2025-08-19T19:10:23.570581Z",
     "iopub.status.idle": "2025-08-19T19:10:23.831895Z",
     "shell.execute_reply": "2025-08-19T19:10:23.831130Z"
    },
    "papermill": {
     "duration": 0.276577,
     "end_time": "2025-08-19T19:10:23.834456",
     "exception": false,
     "start_time": "2025-08-19T19:10:23.557879",
     "status": "completed"
    },
    "tags": []
   },
   "outputs": [],
   "source": [
    "#siab_train = siab_s[siab_s.year < 2015]\n",
    "siab_calib = siab[siab.year == 2015]\n",
    "siab_test = siab[siab.year == 2016]"
   ]
  },
  {
   "cell_type": "code",
   "execution_count": 15,
   "id": "2c1e4012",
   "metadata": {
    "execution": {
     "iopub.execute_input": "2025-08-19T19:10:23.874739Z",
     "iopub.status.busy": "2025-08-19T19:10:23.873259Z",
     "iopub.status.idle": "2025-08-19T19:10:23.880195Z",
     "shell.execute_reply": "2025-08-19T19:10:23.878987Z"
    },
    "papermill": {
     "duration": 0.022419,
     "end_time": "2025-08-19T19:10:23.881697",
     "exception": false,
     "start_time": "2025-08-19T19:10:23.859278",
     "status": "completed"
    },
    "tags": []
   },
   "outputs": [],
   "source": [
    "#siab_calib.shape"
   ]
  },
  {
   "cell_type": "code",
   "execution_count": 16,
   "id": "f66b54ca",
   "metadata": {
    "execution": {
     "iopub.execute_input": "2025-08-19T19:10:23.907475Z",
     "iopub.status.busy": "2025-08-19T19:10:23.906156Z",
     "iopub.status.idle": "2025-08-19T19:10:23.912921Z",
     "shell.execute_reply": "2025-08-19T19:10:23.911726Z"
    },
    "papermill": {
     "duration": 0.019803,
     "end_time": "2025-08-19T19:10:23.914270",
     "exception": false,
     "start_time": "2025-08-19T19:10:23.894467",
     "status": "completed"
    },
    "tags": []
   },
   "outputs": [],
   "source": [
    "#siab_test.shape"
   ]
  },
  {
   "cell_type": "code",
   "execution_count": 17,
   "id": "27e4384d",
   "metadata": {
    "execution": {
     "iopub.execute_input": "2025-08-19T19:10:23.938825Z",
     "iopub.status.busy": "2025-08-19T19:10:23.937362Z",
     "iopub.status.idle": "2025-08-19T19:10:23.947864Z",
     "shell.execute_reply": "2025-08-19T19:10:23.946659Z"
    },
    "papermill": {
     "duration": 0.023884,
     "end_time": "2025-08-19T19:10:23.949247",
     "exception": false,
     "start_time": "2025-08-19T19:10:23.925363",
     "status": "completed"
    },
    "tags": []
   },
   "outputs": [],
   "source": [
    "X_train = siab_train.iloc[:,4:164]\n",
    "y_train = siab_train.iloc[:, [3]]"
   ]
  },
  {
   "cell_type": "code",
   "execution_count": 18,
   "id": "08ee8389",
   "metadata": {
    "execution": {
     "iopub.execute_input": "2025-08-19T19:10:23.974890Z",
     "iopub.status.busy": "2025-08-19T19:10:23.973741Z",
     "iopub.status.idle": "2025-08-19T19:10:24.035771Z",
     "shell.execute_reply": "2025-08-19T19:10:24.034949Z"
    },
    "papermill": {
     "duration": 0.076054,
     "end_time": "2025-08-19T19:10:24.038369",
     "exception": false,
     "start_time": "2025-08-19T19:10:23.962315",
     "status": "completed"
    },
    "tags": []
   },
   "outputs": [],
   "source": [
    "X_calib = siab_calib.iloc[:,4:164]\n",
    "y_calib = siab_calib.iloc[:, [3]]"
   ]
  },
  {
   "cell_type": "code",
   "execution_count": 19,
   "id": "b7ff42e0",
   "metadata": {
    "execution": {
     "iopub.execute_input": "2025-08-19T19:10:24.077454Z",
     "iopub.status.busy": "2025-08-19T19:10:24.076222Z",
     "iopub.status.idle": "2025-08-19T19:10:24.135961Z",
     "shell.execute_reply": "2025-08-19T19:10:24.135165Z"
    },
    "papermill": {
     "duration": 0.075815,
     "end_time": "2025-08-19T19:10:24.138269",
     "exception": false,
     "start_time": "2025-08-19T19:10:24.062454",
     "status": "completed"
    },
    "tags": []
   },
   "outputs": [],
   "source": [
    "X_test = siab_test.iloc[:,4:164]\n",
    "y_true = siab_test.iloc[:, [3]]"
   ]
  },
  {
   "cell_type": "code",
   "execution_count": 20,
   "id": "0275101e",
   "metadata": {
    "execution": {
     "iopub.execute_input": "2025-08-19T19:10:24.178614Z",
     "iopub.status.busy": "2025-08-19T19:10:24.177354Z",
     "iopub.status.idle": "2025-08-19T19:10:24.292514Z",
     "shell.execute_reply": "2025-08-19T19:10:24.291738Z"
    },
    "papermill": {
     "duration": 0.131762,
     "end_time": "2025-08-19T19:10:24.295125",
     "exception": false,
     "start_time": "2025-08-19T19:10:24.163363",
     "status": "completed"
    },
    "tags": []
   },
   "outputs": [],
   "source": [
    "# Auxiliary data needed downstream in the pipeline\n",
    "\n",
    "org_train = X_train.copy()\n",
    "org_test = X_test.copy()\n",
    "org_calib = X_calib.copy()"
   ]
  },
  {
   "cell_type": "markdown",
   "id": "b461e618",
   "metadata": {
    "papermill": {
     "duration": 0.012075,
     "end_time": "2025-08-19T19:10:24.330533",
     "exception": false,
     "start_time": "2025-08-19T19:10:24.318458",
     "status": "completed"
    },
    "tags": []
   },
   "source": [
    "# Preprocessing Data"
   ]
  },
  {
   "cell_type": "code",
   "execution_count": 21,
   "id": "78e74c4b",
   "metadata": {
    "execution": {
     "iopub.execute_input": "2025-08-19T19:10:24.354374Z",
     "iopub.status.busy": "2025-08-19T19:10:24.353009Z",
     "iopub.status.idle": "2025-08-19T19:10:24.361712Z",
     "shell.execute_reply": "2025-08-19T19:10:24.360532Z"
    },
    "papermill": {
     "duration": 0.021984,
     "end_time": "2025-08-19T19:10:24.362970",
     "exception": false,
     "start_time": "2025-08-19T19:10:24.340986",
     "status": "completed"
    },
    "tags": []
   },
   "outputs": [],
   "source": [
    "# EXCLUDE PROTECTED FEATURES\n",
    "# --------------------------\n",
    "\n",
    "excluded_features = universe[\"exclude_features\"].split(\"-\")\n",
    "excluded_features_dictionary = {\n",
    "    \"nationality\": [\"maxdeutsch1\", \"maxdeutsch.Missing.\"],\n",
    "    \"sex\": [\"frau1\"],\n",
    "    \"age\": [\"age\"],\n",
    "}"
   ]
  },
  {
   "cell_type": "code",
   "execution_count": 22,
   "id": "f8e63555",
   "metadata": {
    "execution": {
     "iopub.execute_input": "2025-08-19T19:10:24.389114Z",
     "iopub.status.busy": "2025-08-19T19:10:24.387879Z",
     "iopub.status.idle": "2025-08-19T19:10:24.395751Z",
     "shell.execute_reply": "2025-08-19T19:10:24.394544Z"
    },
    "papermill": {
     "duration": 0.022018,
     "end_time": "2025-08-19T19:10:24.398193",
     "exception": false,
     "start_time": "2025-08-19T19:10:24.376175",
     "status": "completed"
    },
    "tags": []
   },
   "outputs": [],
   "source": [
    "excluded_features_columns = [\n",
    "    excluded_features_dictionary[f] for f in excluded_features if len(f) > 0 and f != \"none\"\n",
    "]"
   ]
  },
  {
   "cell_type": "code",
   "execution_count": 23,
   "id": "da781f7c",
   "metadata": {
    "execution": {
     "iopub.execute_input": "2025-08-19T19:10:24.426028Z",
     "iopub.status.busy": "2025-08-19T19:10:24.425496Z",
     "iopub.status.idle": "2025-08-19T19:10:24.430645Z",
     "shell.execute_reply": "2025-08-19T19:10:24.429833Z"
    },
    "papermill": {
     "duration": 0.018358,
     "end_time": "2025-08-19T19:10:24.431771",
     "exception": false,
     "start_time": "2025-08-19T19:10:24.413413",
     "status": "completed"
    },
    "tags": []
   },
   "outputs": [],
   "source": [
    "from fairness_multiverse.universe import flatten_once\n",
    "\n",
    "excluded_features_columns = flatten_once(excluded_features_columns)"
   ]
  },
  {
   "cell_type": "code",
   "execution_count": 24,
   "id": "37fef0f0",
   "metadata": {
    "execution": {
     "iopub.execute_input": "2025-08-19T19:10:24.455732Z",
     "iopub.status.busy": "2025-08-19T19:10:24.455316Z",
     "iopub.status.idle": "2025-08-19T19:10:24.482477Z",
     "shell.execute_reply": "2025-08-19T19:10:24.481540Z"
    },
    "papermill": {
     "duration": 0.040046,
     "end_time": "2025-08-19T19:10:24.484334",
     "exception": false,
     "start_time": "2025-08-19T19:10:24.444288",
     "status": "completed"
    },
    "tags": []
   },
   "outputs": [],
   "source": [
    "if len(excluded_features_columns) > 0:\n",
    "    print(f\"Dropping features: {excluded_features_columns}\")\n",
    "    X_train.drop(excluded_features_columns, axis=1, inplace=True)"
   ]
  },
  {
   "cell_type": "code",
   "execution_count": 25,
   "id": "d029e3e9",
   "metadata": {
    "execution": {
     "iopub.execute_input": "2025-08-19T19:10:24.519622Z",
     "iopub.status.busy": "2025-08-19T19:10:24.518888Z",
     "iopub.status.idle": "2025-08-19T19:10:24.523504Z",
     "shell.execute_reply": "2025-08-19T19:10:24.522824Z"
    },
    "papermill": {
     "duration": 0.018857,
     "end_time": "2025-08-19T19:10:24.524665",
     "exception": false,
     "start_time": "2025-08-19T19:10:24.505808",
     "status": "completed"
    },
    "tags": []
   },
   "outputs": [],
   "source": [
    "if len(excluded_features_columns) > 0:\n",
    "    print(f\"Dropping features: {excluded_features_columns}\")\n",
    "    X_test.drop(excluded_features_columns, axis=1, inplace=True)"
   ]
  },
  {
   "cell_type": "code",
   "execution_count": 26,
   "id": "01d571f0",
   "metadata": {
    "execution": {
     "iopub.execute_input": "2025-08-19T19:10:24.550201Z",
     "iopub.status.busy": "2025-08-19T19:10:24.548847Z",
     "iopub.status.idle": "2025-08-19T19:10:24.561597Z",
     "shell.execute_reply": "2025-08-19T19:10:24.560282Z"
    },
    "papermill": {
     "duration": 0.028242,
     "end_time": "2025-08-19T19:10:24.565020",
     "exception": false,
     "start_time": "2025-08-19T19:10:24.536778",
     "status": "completed"
    },
    "tags": []
   },
   "outputs": [],
   "source": [
    "if len(excluded_features_columns) > 0:\n",
    "    print(f\"Dropping features: {excluded_features_columns}\")\n",
    "    X_calib.drop(excluded_features_columns, axis=1, inplace=True)"
   ]
  },
  {
   "cell_type": "code",
   "execution_count": 27,
   "id": "3037356e",
   "metadata": {
    "execution": {
     "iopub.execute_input": "2025-08-19T19:10:24.596755Z",
     "iopub.status.busy": "2025-08-19T19:10:24.596264Z",
     "iopub.status.idle": "2025-08-19T19:10:24.600760Z",
     "shell.execute_reply": "2025-08-19T19:10:24.600062Z"
    },
    "papermill": {
     "duration": 0.018016,
     "end_time": "2025-08-19T19:10:24.602037",
     "exception": false,
     "start_time": "2025-08-19T19:10:24.584021",
     "status": "completed"
    },
    "tags": []
   },
   "outputs": [],
   "source": [
    "# EXCLUDE CERTAIN SUBGROUPS\n",
    "# -------------------------\n",
    "\n",
    "mode = universe.get(\"exclude_subgroups\", \"keep-all\") # Defaults to \"keep-all\" if the key is missing."
   ]
  },
  {
   "cell_type": "code",
   "execution_count": 28,
   "id": "9d1e63fd",
   "metadata": {
    "execution": {
     "iopub.execute_input": "2025-08-19T19:10:24.624288Z",
     "iopub.status.busy": "2025-08-19T19:10:24.623839Z",
     "iopub.status.idle": "2025-08-19T19:10:24.629701Z",
     "shell.execute_reply": "2025-08-19T19:10:24.629034Z"
    },
    "papermill": {
     "duration": 0.018587,
     "end_time": "2025-08-19T19:10:24.631041",
     "exception": false,
     "start_time": "2025-08-19T19:10:24.612454",
     "status": "completed"
    },
    "tags": []
   },
   "outputs": [],
   "source": [
    "if mode == \"keep-all\":\n",
    "    keep_mask = pd.Series(True, index=org_train.index)\n",
    "\n",
    "elif mode == \"drop-non-german\":\n",
    "    keep_mask = (org_train[\"maxdeutsch1\"] == 1) & (org_train[\"maxdeutsch.Missing.\"] == 0)\n",
    "\n",
    "else:\n",
    "    raise ValueError(f\"Unsupported mode for exclude_subgroups: {mode}\")"
   ]
  },
  {
   "cell_type": "code",
   "execution_count": 29,
   "id": "d3b65474",
   "metadata": {
    "execution": {
     "iopub.execute_input": "2025-08-19T19:10:24.653236Z",
     "iopub.status.busy": "2025-08-19T19:10:24.652808Z",
     "iopub.status.idle": "2025-08-19T19:10:24.658694Z",
     "shell.execute_reply": "2025-08-19T19:10:24.658045Z"
    },
    "papermill": {
     "duration": 0.018353,
     "end_time": "2025-08-19T19:10:24.659952",
     "exception": false,
     "start_time": "2025-08-19T19:10:24.641599",
     "status": "completed"
    },
    "tags": []
   },
   "outputs": [
    {
     "name": "stdout",
     "output_type": "stream",
     "text": [
      "Dropping 131 rows (13.10%) where mode='drop-non-german'\n"
     ]
    }
   ],
   "source": [
    "n_drop = (~keep_mask).sum() # Calculates how many rows are set to be dropped\n",
    "if n_drop > 0:\n",
    "    pct = n_drop / len(keep_mask) * 100\n",
    "    print(f\"Dropping {n_drop} rows ({pct:.2f}%) where mode='{mode}'\")"
   ]
  },
  {
   "cell_type": "code",
   "execution_count": 30,
   "id": "f44389b3",
   "metadata": {
    "execution": {
     "iopub.execute_input": "2025-08-19T19:10:24.682337Z",
     "iopub.status.busy": "2025-08-19T19:10:24.681886Z",
     "iopub.status.idle": "2025-08-19T19:10:24.687590Z",
     "shell.execute_reply": "2025-08-19T19:10:24.686904Z"
    },
    "papermill": {
     "duration": 0.018475,
     "end_time": "2025-08-19T19:10:24.688894",
     "exception": false,
     "start_time": "2025-08-19T19:10:24.670419",
     "status": "completed"
    },
    "tags": []
   },
   "outputs": [],
   "source": [
    "X_train = X_train[keep_mask]"
   ]
  },
  {
   "cell_type": "code",
   "execution_count": 31,
   "id": "ceca8c2a",
   "metadata": {
    "execution": {
     "iopub.execute_input": "2025-08-19T19:10:24.711221Z",
     "iopub.status.busy": "2025-08-19T19:10:24.710788Z",
     "iopub.status.idle": "2025-08-19T19:10:24.715655Z",
     "shell.execute_reply": "2025-08-19T19:10:24.714993Z"
    },
    "papermill": {
     "duration": 0.017396,
     "end_time": "2025-08-19T19:10:24.716919",
     "exception": false,
     "start_time": "2025-08-19T19:10:24.699523",
     "status": "completed"
    },
    "tags": []
   },
   "outputs": [],
   "source": [
    "y_train = y_train[keep_mask]"
   ]
  },
  {
   "cell_type": "markdown",
   "id": "04d31e2f",
   "metadata": {
    "papermill": {
     "duration": 0.011679,
     "end_time": "2025-08-19T19:10:24.739213",
     "exception": false,
     "start_time": "2025-08-19T19:10:24.727534",
     "status": "completed"
    },
    "tags": []
   },
   "source": [
    "# Model Training"
   ]
  },
  {
   "cell_type": "code",
   "execution_count": 32,
   "id": "db991733",
   "metadata": {
    "execution": {
     "iopub.execute_input": "2025-08-19T19:10:24.761731Z",
     "iopub.status.busy": "2025-08-19T19:10:24.761256Z",
     "iopub.status.idle": "2025-08-19T19:10:24.852856Z",
     "shell.execute_reply": "2025-08-19T19:10:24.852097Z"
    },
    "papermill": {
     "duration": 0.104637,
     "end_time": "2025-08-19T19:10:24.854397",
     "exception": false,
     "start_time": "2025-08-19T19:10:24.749760",
     "status": "completed"
    },
    "tags": []
   },
   "outputs": [],
   "source": [
    "from sklearn.linear_model import LogisticRegression\n",
    "from sklearn.ensemble import GradientBoostingClassifier, RandomForestClassifier\n",
    "\n",
    "if (universe[\"model\"] == \"logreg\"):\n",
    "    model = LogisticRegression() #penalty=\"none\", solver=\"newton-cg\", max_iter=1)\n",
    "elif (universe[\"model\"] == \"penalized_logreg\"):\n",
    "    model = LogisticRegression(penalty=\"l2\", C=0.1) #, solver=\"newton-cg\", max_iter=1)\n",
    "elif (universe[\"model\"] == \"rf\"):\n",
    "    model = RandomForestClassifier() # n_estimators=100, n_jobs=-1\n",
    "elif (universe[\"model\"] == \"gbm\"):\n",
    "    model = GradientBoostingClassifier()\n",
    "elif (universe[\"model\"] == \"elasticnet\"):\n",
    "    model = LogisticRegression(penalty = 'elasticnet', solver = 'saga', l1_ratio = 0.5) # max_iter=5000\n",
    "else:\n",
    "    raise \"Unsupported universe.model\""
   ]
  },
  {
   "cell_type": "code",
   "execution_count": 33,
   "id": "a4b5cd25",
   "metadata": {
    "execution": {
     "iopub.execute_input": "2025-08-19T19:10:24.877435Z",
     "iopub.status.busy": "2025-08-19T19:10:24.876961Z",
     "iopub.status.idle": "2025-08-19T19:10:24.881990Z",
     "shell.execute_reply": "2025-08-19T19:10:24.881292Z"
    },
    "papermill": {
     "duration": 0.018,
     "end_time": "2025-08-19T19:10:24.883328",
     "exception": false,
     "start_time": "2025-08-19T19:10:24.865328",
     "status": "completed"
    },
    "tags": []
   },
   "outputs": [],
   "source": [
    "from sklearn.pipeline import Pipeline\n",
    "from sklearn.preprocessing import StandardScaler\n",
    "\n",
    "model = Pipeline([\n",
    "    #(\"continuous_processor\", continuous_processor),\n",
    "    #(\"categorical_preprocessor\", categorical_preprocessor),\n",
    "    (\"scale\", StandardScaler() if universe[\"scale\"] == \"scale\" else None), \n",
    "    (\"model\", model),\n",
    "])"
   ]
  },
  {
   "cell_type": "code",
   "execution_count": 34,
   "id": "283a904d",
   "metadata": {
    "execution": {
     "iopub.execute_input": "2025-08-19T19:10:24.906228Z",
     "iopub.status.busy": "2025-08-19T19:10:24.905781Z",
     "iopub.status.idle": "2025-08-19T19:10:25.189261Z",
     "shell.execute_reply": "2025-08-19T19:10:25.188586Z"
    },
    "papermill": {
     "duration": 0.296372,
     "end_time": "2025-08-19T19:10:25.190575",
     "exception": false,
     "start_time": "2025-08-19T19:10:24.894203",
     "status": "completed"
    },
    "tags": []
   },
   "outputs": [
    {
     "data": {
      "text/html": [
       "<style>#sk-container-id-1 {color: black;background-color: white;}#sk-container-id-1 pre{padding: 0;}#sk-container-id-1 div.sk-toggleable {background-color: white;}#sk-container-id-1 label.sk-toggleable__label {cursor: pointer;display: block;width: 100%;margin-bottom: 0;padding: 0.3em;box-sizing: border-box;text-align: center;}#sk-container-id-1 label.sk-toggleable__label-arrow:before {content: \"▸\";float: left;margin-right: 0.25em;color: #696969;}#sk-container-id-1 label.sk-toggleable__label-arrow:hover:before {color: black;}#sk-container-id-1 div.sk-estimator:hover label.sk-toggleable__label-arrow:before {color: black;}#sk-container-id-1 div.sk-toggleable__content {max-height: 0;max-width: 0;overflow: hidden;text-align: left;background-color: #f0f8ff;}#sk-container-id-1 div.sk-toggleable__content pre {margin: 0.2em;color: black;border-radius: 0.25em;background-color: #f0f8ff;}#sk-container-id-1 input.sk-toggleable__control:checked~div.sk-toggleable__content {max-height: 200px;max-width: 100%;overflow: auto;}#sk-container-id-1 input.sk-toggleable__control:checked~label.sk-toggleable__label-arrow:before {content: \"▾\";}#sk-container-id-1 div.sk-estimator input.sk-toggleable__control:checked~label.sk-toggleable__label {background-color: #d4ebff;}#sk-container-id-1 div.sk-label input.sk-toggleable__control:checked~label.sk-toggleable__label {background-color: #d4ebff;}#sk-container-id-1 input.sk-hidden--visually {border: 0;clip: rect(1px 1px 1px 1px);clip: rect(1px, 1px, 1px, 1px);height: 1px;margin: -1px;overflow: hidden;padding: 0;position: absolute;width: 1px;}#sk-container-id-1 div.sk-estimator {font-family: monospace;background-color: #f0f8ff;border: 1px dotted black;border-radius: 0.25em;box-sizing: border-box;margin-bottom: 0.5em;}#sk-container-id-1 div.sk-estimator:hover {background-color: #d4ebff;}#sk-container-id-1 div.sk-parallel-item::after {content: \"\";width: 100%;border-bottom: 1px solid gray;flex-grow: 1;}#sk-container-id-1 div.sk-label:hover label.sk-toggleable__label {background-color: #d4ebff;}#sk-container-id-1 div.sk-serial::before {content: \"\";position: absolute;border-left: 1px solid gray;box-sizing: border-box;top: 0;bottom: 0;left: 50%;z-index: 0;}#sk-container-id-1 div.sk-serial {display: flex;flex-direction: column;align-items: center;background-color: white;padding-right: 0.2em;padding-left: 0.2em;position: relative;}#sk-container-id-1 div.sk-item {position: relative;z-index: 1;}#sk-container-id-1 div.sk-parallel {display: flex;align-items: stretch;justify-content: center;background-color: white;position: relative;}#sk-container-id-1 div.sk-item::before, #sk-container-id-1 div.sk-parallel-item::before {content: \"\";position: absolute;border-left: 1px solid gray;box-sizing: border-box;top: 0;bottom: 0;left: 50%;z-index: -1;}#sk-container-id-1 div.sk-parallel-item {display: flex;flex-direction: column;z-index: 1;position: relative;background-color: white;}#sk-container-id-1 div.sk-parallel-item:first-child::after {align-self: flex-end;width: 50%;}#sk-container-id-1 div.sk-parallel-item:last-child::after {align-self: flex-start;width: 50%;}#sk-container-id-1 div.sk-parallel-item:only-child::after {width: 0;}#sk-container-id-1 div.sk-dashed-wrapped {border: 1px dashed gray;margin: 0 0.4em 0.5em 0.4em;box-sizing: border-box;padding-bottom: 0.4em;background-color: white;}#sk-container-id-1 div.sk-label label {font-family: monospace;font-weight: bold;display: inline-block;line-height: 1.2em;}#sk-container-id-1 div.sk-label-container {text-align: center;}#sk-container-id-1 div.sk-container {/* jupyter's `normalize.less` sets `[hidden] { display: none; }` but bootstrap.min.css set `[hidden] { display: none !important; }` so we also need the `!important` here to be able to override the default hidden behavior on the sphinx rendered scikit-learn.org. See: https://github.com/scikit-learn/scikit-learn/issues/21755 */display: inline-block !important;position: relative;}#sk-container-id-1 div.sk-text-repr-fallback {display: none;}</style><div id=\"sk-container-id-1\" class=\"sk-top-container\"><div class=\"sk-text-repr-fallback\"><pre>Pipeline(steps=[(&#x27;scale&#x27;, None), (&#x27;model&#x27;, RandomForestClassifier())])</pre><b>In a Jupyter environment, please rerun this cell to show the HTML representation or trust the notebook. <br />On GitHub, the HTML representation is unable to render, please try loading this page with nbviewer.org.</b></div><div class=\"sk-container\" hidden><div class=\"sk-item sk-dashed-wrapped\"><div class=\"sk-label-container\"><div class=\"sk-label sk-toggleable\"><input class=\"sk-toggleable__control sk-hidden--visually\" id=\"sk-estimator-id-1\" type=\"checkbox\" ><label for=\"sk-estimator-id-1\" class=\"sk-toggleable__label sk-toggleable__label-arrow\">Pipeline</label><div class=\"sk-toggleable__content\"><pre>Pipeline(steps=[(&#x27;scale&#x27;, None), (&#x27;model&#x27;, RandomForestClassifier())])</pre></div></div></div><div class=\"sk-serial\"><div class=\"sk-item\"><div class=\"sk-estimator sk-toggleable\"><input class=\"sk-toggleable__control sk-hidden--visually\" id=\"sk-estimator-id-2\" type=\"checkbox\" ><label for=\"sk-estimator-id-2\" class=\"sk-toggleable__label sk-toggleable__label-arrow\">None</label><div class=\"sk-toggleable__content\"><pre>None</pre></div></div></div><div class=\"sk-item\"><div class=\"sk-estimator sk-toggleable\"><input class=\"sk-toggleable__control sk-hidden--visually\" id=\"sk-estimator-id-3\" type=\"checkbox\" ><label for=\"sk-estimator-id-3\" class=\"sk-toggleable__label sk-toggleable__label-arrow\">RandomForestClassifier</label><div class=\"sk-toggleable__content\"><pre>RandomForestClassifier()</pre></div></div></div></div></div></div></div>"
      ],
      "text/plain": [
       "Pipeline(steps=[('scale', None), ('model', RandomForestClassifier())])"
      ]
     },
     "execution_count": 34,
     "metadata": {},
     "output_type": "execute_result"
    }
   ],
   "source": [
    "model.fit(X_train, y_train.values.ravel())"
   ]
  },
  {
   "cell_type": "code",
   "execution_count": 35,
   "id": "6e15e313",
   "metadata": {
    "execution": {
     "iopub.execute_input": "2025-08-19T19:10:25.214263Z",
     "iopub.status.busy": "2025-08-19T19:10:25.213791Z",
     "iopub.status.idle": "2025-08-19T19:10:26.438434Z",
     "shell.execute_reply": "2025-08-19T19:10:26.437732Z"
    },
    "papermill": {
     "duration": 1.237964,
     "end_time": "2025-08-19T19:10:26.439685",
     "exception": false,
     "start_time": "2025-08-19T19:10:25.201721",
     "status": "completed"
    },
    "tags": []
   },
   "outputs": [
    {
     "data": {
      "text/plain": [
       "0.8609631033329618"
      ]
     },
     "execution_count": 35,
     "metadata": {},
     "output_type": "execute_result"
    }
   ],
   "source": [
    "from fairness_multiverse.universe import predict_w_threshold\n",
    "\n",
    "probs_test = model.predict_proba(X_test)\n",
    "\n",
    "'''\n",
    "Below code returns a boolean array (or binary 0/1 array depending on how it’s used) where each element \n",
    "is True if the probability of class 1 is greater than or equal to the threshold, and False otherwise.\n",
    "'''\n",
    "y_pred_default = predict_w_threshold(probs_test, 0.5)\n",
    "\n",
    "from sklearn.metrics import accuracy_score\n",
    "\n",
    "# Naive prediction\n",
    "accuracy_score(y_true = y_true, y_pred = y_pred_default)"
   ]
  },
  {
   "cell_type": "code",
   "execution_count": 36,
   "id": "6f14067c",
   "metadata": {
    "execution": {
     "iopub.execute_input": "2025-08-19T19:10:26.463496Z",
     "iopub.status.busy": "2025-08-19T19:10:26.463199Z",
     "iopub.status.idle": "2025-08-19T19:10:27.742912Z",
     "shell.execute_reply": "2025-08-19T19:10:27.741349Z"
    },
    "papermill": {
     "duration": 1.293227,
     "end_time": "2025-08-19T19:10:27.744271",
     "exception": false,
     "start_time": "2025-08-19T19:10:26.451044",
     "status": "completed"
    },
    "tags": []
   },
   "outputs": [
    {
     "data": {
      "text/plain": [
       "array([0, 0, 0, ..., 0, 0, 0])"
      ]
     },
     "execution_count": 36,
     "metadata": {},
     "output_type": "execute_result"
    }
   ],
   "source": [
    "model.predict(X_test)"
   ]
  },
  {
   "cell_type": "markdown",
   "id": "3759920c",
   "metadata": {
    "papermill": {
     "duration": 0.011678,
     "end_time": "2025-08-19T19:10:27.770249",
     "exception": false,
     "start_time": "2025-08-19T19:10:27.758571",
     "status": "completed"
    },
    "tags": []
   },
   "source": [
    "# Conformal Prediction"
   ]
  },
  {
   "cell_type": "code",
   "execution_count": 37,
   "id": "14b27f59",
   "metadata": {
    "execution": {
     "iopub.execute_input": "2025-08-19T19:10:27.795237Z",
     "iopub.status.busy": "2025-08-19T19:10:27.794166Z",
     "iopub.status.idle": "2025-08-19T19:10:27.805477Z",
     "shell.execute_reply": "2025-08-19T19:10:27.804277Z"
    },
    "papermill": {
     "duration": 0.02599,
     "end_time": "2025-08-19T19:10:27.806950",
     "exception": false,
     "start_time": "2025-08-19T19:10:27.780960",
     "status": "completed"
    },
    "tags": []
   },
   "outputs": [],
   "source": [
    "# Miscoverage level for conformal prediction (10% allowed error rate => 90% target coverage)\n",
    "alpha = 0.1"
   ]
  },
  {
   "cell_type": "code",
   "execution_count": 38,
   "id": "59102472",
   "metadata": {
    "execution": {
     "iopub.execute_input": "2025-08-19T19:10:27.839470Z",
     "iopub.status.busy": "2025-08-19T19:10:27.838283Z",
     "iopub.status.idle": "2025-08-19T19:10:29.070725Z",
     "shell.execute_reply": "2025-08-19T19:10:29.069499Z"
    },
    "papermill": {
     "duration": 1.248626,
     "end_time": "2025-08-19T19:10:29.073553",
     "exception": false,
     "start_time": "2025-08-19T19:10:27.824927",
     "status": "completed"
    },
    "tags": []
   },
   "outputs": [],
   "source": [
    "probs_calib = model.predict_proba(X_calib)"
   ]
  },
  {
   "cell_type": "code",
   "execution_count": 39,
   "id": "a792d4dd",
   "metadata": {
    "execution": {
     "iopub.execute_input": "2025-08-19T19:10:29.113949Z",
     "iopub.status.busy": "2025-08-19T19:10:29.112833Z",
     "iopub.status.idle": "2025-08-19T19:10:29.121434Z",
     "shell.execute_reply": "2025-08-19T19:10:29.120415Z"
    },
    "papermill": {
     "duration": 0.02466,
     "end_time": "2025-08-19T19:10:29.122722",
     "exception": false,
     "start_time": "2025-08-19T19:10:29.098062",
     "status": "completed"
    },
    "tags": []
   },
   "outputs": [],
   "source": [
    "y_calib = y_calib.values.ravel().astype(int)"
   ]
  },
  {
   "cell_type": "code",
   "execution_count": 40,
   "id": "650fd033",
   "metadata": {
    "execution": {
     "iopub.execute_input": "2025-08-19T19:10:29.146830Z",
     "iopub.status.busy": "2025-08-19T19:10:29.146327Z",
     "iopub.status.idle": "2025-08-19T19:10:29.154221Z",
     "shell.execute_reply": "2025-08-19T19:10:29.153533Z"
    },
    "papermill": {
     "duration": 0.021284,
     "end_time": "2025-08-19T19:10:29.155391",
     "exception": false,
     "start_time": "2025-08-19T19:10:29.134107",
     "status": "completed"
    },
    "tags": []
   },
   "outputs": [],
   "source": [
    "from fairness_multiverse.conformal import compute_nc_scores\n",
    "\n",
    "# Compute nonconformity scores on calibration set (1 - probability of true class)\n",
    "nc_scores = compute_nc_scores(probs_calib, y_calib)"
   ]
  },
  {
   "cell_type": "code",
   "execution_count": 41,
   "id": "28ada44c",
   "metadata": {
    "execution": {
     "iopub.execute_input": "2025-08-19T19:10:29.183426Z",
     "iopub.status.busy": "2025-08-19T19:10:29.182525Z",
     "iopub.status.idle": "2025-08-19T19:10:29.188945Z",
     "shell.execute_reply": "2025-08-19T19:10:29.188136Z"
    },
    "papermill": {
     "duration": 0.020656,
     "end_time": "2025-08-19T19:10:29.189959",
     "exception": false,
     "start_time": "2025-08-19T19:10:29.169303",
     "status": "completed"
    },
    "tags": []
   },
   "outputs": [],
   "source": [
    "from fairness_multiverse.conformal import find_threshold\n",
    "\n",
    "# Find conformal threshold q_hat for the given alpha (split conformal method)\n",
    "q_hat = find_threshold(nc_scores, alpha)"
   ]
  },
  {
   "cell_type": "code",
   "execution_count": 42,
   "id": "df56469e",
   "metadata": {
    "execution": {
     "iopub.execute_input": "2025-08-19T19:10:29.238182Z",
     "iopub.status.busy": "2025-08-19T19:10:29.237285Z",
     "iopub.status.idle": "2025-08-19T19:10:29.242990Z",
     "shell.execute_reply": "2025-08-19T19:10:29.242313Z"
    },
    "papermill": {
     "duration": 0.030155,
     "end_time": "2025-08-19T19:10:29.246352",
     "exception": false,
     "start_time": "2025-08-19T19:10:29.216197",
     "status": "completed"
    },
    "tags": []
   },
   "outputs": [
    {
     "data": {
      "text/plain": [
       "0.6599999999999999"
      ]
     },
     "execution_count": 42,
     "metadata": {},
     "output_type": "execute_result"
    }
   ],
   "source": [
    "q_hat"
   ]
  },
  {
   "cell_type": "code",
   "execution_count": 43,
   "id": "aa1f5faa",
   "metadata": {
    "execution": {
     "iopub.execute_input": "2025-08-19T19:10:29.279752Z",
     "iopub.status.busy": "2025-08-19T19:10:29.278840Z",
     "iopub.status.idle": "2025-08-19T19:10:31.019763Z",
     "shell.execute_reply": "2025-08-19T19:10:31.019027Z"
    },
    "papermill": {
     "duration": 1.755285,
     "end_time": "2025-08-19T19:10:31.021363",
     "exception": false,
     "start_time": "2025-08-19T19:10:29.266078",
     "status": "completed"
    },
    "tags": []
   },
   "outputs": [],
   "source": [
    "from fairness_multiverse.conformal import predict_conformal_sets\n",
    "\n",
    "# Generate prediction sets for each test example\n",
    "pred_sets = predict_conformal_sets(model, X_test, q_hat)"
   ]
  },
  {
   "cell_type": "code",
   "execution_count": 44,
   "id": "97f67a6b",
   "metadata": {
    "execution": {
     "iopub.execute_input": "2025-08-19T19:10:31.054181Z",
     "iopub.status.busy": "2025-08-19T19:10:31.052851Z",
     "iopub.status.idle": "2025-08-19T19:10:31.061005Z",
     "shell.execute_reply": "2025-08-19T19:10:31.059659Z"
    },
    "papermill": {
     "duration": 0.030685,
     "end_time": "2025-08-19T19:10:31.070857",
     "exception": false,
     "start_time": "2025-08-19T19:10:31.040172",
     "status": "completed"
    },
    "tags": []
   },
   "outputs": [],
   "source": [
    "y_true = y_true.squeeze()"
   ]
  },
  {
   "cell_type": "code",
   "execution_count": 45,
   "id": "e700e9a7",
   "metadata": {
    "execution": {
     "iopub.execute_input": "2025-08-19T19:10:31.115398Z",
     "iopub.status.busy": "2025-08-19T19:10:31.113706Z",
     "iopub.status.idle": "2025-08-19T19:10:31.623830Z",
     "shell.execute_reply": "2025-08-19T19:10:31.622692Z"
    },
    "papermill": {
     "duration": 0.526496,
     "end_time": "2025-08-19T19:10:31.626044",
     "exception": false,
     "start_time": "2025-08-19T19:10:31.099548",
     "status": "completed"
    },
    "tags": []
   },
   "outputs": [],
   "source": [
    "from fairness_multiverse.conformal import evaluate_sets\n",
    "\n",
    "# Evaluate coverage and average set size on test data\n",
    "metrics = evaluate_sets(pred_sets, y_true)"
   ]
  },
  {
   "cell_type": "markdown",
   "id": "efbacec0",
   "metadata": {
    "papermill": {
     "duration": 0.013009,
     "end_time": "2025-08-19T19:10:31.662676",
     "exception": false,
     "start_time": "2025-08-19T19:10:31.649667",
     "status": "completed"
    },
    "tags": []
   },
   "source": [
    "# CP Metrics"
   ]
  },
  {
   "cell_type": "code",
   "execution_count": 46,
   "id": "9de55fb1",
   "metadata": {
    "execution": {
     "iopub.execute_input": "2025-08-19T19:10:31.693253Z",
     "iopub.status.busy": "2025-08-19T19:10:31.692562Z",
     "iopub.status.idle": "2025-08-19T19:10:31.703165Z",
     "shell.execute_reply": "2025-08-19T19:10:31.702442Z"
    },
    "papermill": {
     "duration": 0.025351,
     "end_time": "2025-08-19T19:10:31.704435",
     "exception": false,
     "start_time": "2025-08-19T19:10:31.679084",
     "status": "completed"
    },
    "tags": []
   },
   "outputs": [
    {
     "data": {
      "text/plain": [
       "{'coverage': 0.9144688440530598, 'avg_size': 1.160171664251477}"
      ]
     },
     "execution_count": 46,
     "metadata": {},
     "output_type": "execute_result"
    }
   ],
   "source": [
    "metrics"
   ]
  },
  {
   "cell_type": "code",
   "execution_count": 47,
   "id": "64c340a1",
   "metadata": {
    "execution": {
     "iopub.execute_input": "2025-08-19T19:10:31.732454Z",
     "iopub.status.busy": "2025-08-19T19:10:31.731958Z",
     "iopub.status.idle": "2025-08-19T19:10:31.737302Z",
     "shell.execute_reply": "2025-08-19T19:10:31.736712Z"
    },
    "papermill": {
     "duration": 0.021149,
     "end_time": "2025-08-19T19:10:31.739849",
     "exception": false,
     "start_time": "2025-08-19T19:10:31.718700",
     "status": "completed"
    },
    "tags": []
   },
   "outputs": [],
   "source": [
    "example_universe = universe.copy()\n",
    "universe_training_year = example_universe.get(\"training_year\")\n",
    "universe_training_size = example_universe.get(\"training_size\")\n",
    "universe_scale = example_universe.get(\"scale\")\n",
    "universe_model = example_universe.get(\"model\")\n",
    "universe_exclude_features = example_universe.get(\"exclude_features\")\n",
    "universe_exclude_subgroups = example_universe.get(\"exclude_subgroups\")"
   ]
  },
  {
   "cell_type": "code",
   "execution_count": 48,
   "id": "dbb53cb4",
   "metadata": {
    "execution": {
     "iopub.execute_input": "2025-08-19T19:10:31.782701Z",
     "iopub.status.busy": "2025-08-19T19:10:31.781603Z",
     "iopub.status.idle": "2025-08-19T19:10:31.791753Z",
     "shell.execute_reply": "2025-08-19T19:10:31.790433Z"
    },
    "papermill": {
     "duration": 0.027466,
     "end_time": "2025-08-19T19:10:31.793400",
     "exception": false,
     "start_time": "2025-08-19T19:10:31.765934",
     "status": "completed"
    },
    "tags": []
   },
   "outputs": [],
   "source": [
    "cp_metrics_dict = {\n",
    "    \"universe_id\": [universe_id],\n",
    "    \"universe_training_year\": [universe_training_year],\n",
    "    \"universe_training_size\": [universe_training_size],\n",
    "    \"universe_scale\": [universe_scale],\n",
    "    \"universe_model\": [universe_model],\n",
    "    \"universe_exclude_features\": [universe_exclude_features],\n",
    "    \"universe_exclude_subgroups\": [universe_exclude_subgroups],\n",
    "    \"q_hat\": [q_hat],\n",
    "    \"coverage\": [metrics[\"coverage\"]],\n",
    "    \"avg_size\": [metrics[\"avg_size\"]],\n",
    "}"
   ]
  },
  {
   "cell_type": "code",
   "execution_count": 49,
   "id": "0d70d4b2",
   "metadata": {
    "execution": {
     "iopub.execute_input": "2025-08-19T19:10:31.824677Z",
     "iopub.status.busy": "2025-08-19T19:10:31.823514Z",
     "iopub.status.idle": "2025-08-19T19:10:31.835663Z",
     "shell.execute_reply": "2025-08-19T19:10:31.834097Z"
    },
    "papermill": {
     "duration": 0.027816,
     "end_time": "2025-08-19T19:10:31.837356",
     "exception": false,
     "start_time": "2025-08-19T19:10:31.809540",
     "status": "completed"
    },
    "tags": []
   },
   "outputs": [],
   "source": [
    "cp_metrics_df = pd.DataFrame(cp_metrics_dict)"
   ]
  },
  {
   "cell_type": "code",
   "execution_count": 50,
   "id": "b494403c",
   "metadata": {
    "execution": {
     "iopub.execute_input": "2025-08-19T19:10:31.870065Z",
     "iopub.status.busy": "2025-08-19T19:10:31.868947Z",
     "iopub.status.idle": "2025-08-19T19:10:31.892411Z",
     "shell.execute_reply": "2025-08-19T19:10:31.891646Z"
    },
    "papermill": {
     "duration": 0.03972,
     "end_time": "2025-08-19T19:10:31.894118",
     "exception": false,
     "start_time": "2025-08-19T19:10:31.854398",
     "status": "completed"
    },
    "tags": []
   },
   "outputs": [
    {
     "data": {
      "text/html": [
       "<div>\n",
       "<style scoped>\n",
       "    .dataframe tbody tr th:only-of-type {\n",
       "        vertical-align: middle;\n",
       "    }\n",
       "\n",
       "    .dataframe tbody tr th {\n",
       "        vertical-align: top;\n",
       "    }\n",
       "\n",
       "    .dataframe thead th {\n",
       "        text-align: right;\n",
       "    }\n",
       "</style>\n",
       "<table border=\"1\" class=\"dataframe\">\n",
       "  <thead>\n",
       "    <tr style=\"text-align: right;\">\n",
       "      <th></th>\n",
       "      <th>universe_id</th>\n",
       "      <th>universe_training_year</th>\n",
       "      <th>universe_training_size</th>\n",
       "      <th>universe_scale</th>\n",
       "      <th>universe_model</th>\n",
       "      <th>universe_exclude_features</th>\n",
       "      <th>universe_exclude_subgroups</th>\n",
       "      <th>q_hat</th>\n",
       "      <th>coverage</th>\n",
       "      <th>avg_size</th>\n",
       "    </tr>\n",
       "  </thead>\n",
       "  <tbody>\n",
       "    <tr>\n",
       "      <th>0</th>\n",
       "      <td>5e72a50953ba49da193e83025856a035</td>\n",
       "      <td>2010_14</td>\n",
       "      <td>1k</td>\n",
       "      <td>do-not-scale</td>\n",
       "      <td>rf</td>\n",
       "      <td>none</td>\n",
       "      <td>drop-non-german</td>\n",
       "      <td>0.66</td>\n",
       "      <td>0.914469</td>\n",
       "      <td>1.160172</td>\n",
       "    </tr>\n",
       "  </tbody>\n",
       "</table>\n",
       "</div>"
      ],
      "text/plain": [
       "                        universe_id universe_training_year  \\\n",
       "0  5e72a50953ba49da193e83025856a035                2010_14   \n",
       "\n",
       "  universe_training_size universe_scale universe_model  \\\n",
       "0                     1k   do-not-scale             rf   \n",
       "\n",
       "  universe_exclude_features universe_exclude_subgroups  q_hat  coverage  \\\n",
       "0                      none            drop-non-german   0.66  0.914469   \n",
       "\n",
       "   avg_size  \n",
       "0  1.160172  "
      ]
     },
     "execution_count": 50,
     "metadata": {},
     "output_type": "execute_result"
    }
   ],
   "source": [
    "cp_metrics_df"
   ]
  },
  {
   "cell_type": "markdown",
   "id": "ed608b0b",
   "metadata": {
    "papermill": {
     "duration": 0.012037,
     "end_time": "2025-08-19T19:10:31.925327",
     "exception": false,
     "start_time": "2025-08-19T19:10:31.913290",
     "status": "completed"
    },
    "tags": []
   },
   "source": [
    "Conditional coverage & looking at subgroups"
   ]
  },
  {
   "cell_type": "code",
   "execution_count": 51,
   "id": "8968c366",
   "metadata": {
    "execution": {
     "iopub.execute_input": "2025-08-19T19:10:31.952149Z",
     "iopub.status.busy": "2025-08-19T19:10:31.951051Z",
     "iopub.status.idle": "2025-08-19T19:10:32.215711Z",
     "shell.execute_reply": "2025-08-19T19:10:32.215024Z"
    },
    "papermill": {
     "duration": 0.281285,
     "end_time": "2025-08-19T19:10:32.218566",
     "exception": false,
     "start_time": "2025-08-19T19:10:31.937281",
     "status": "completed"
    },
    "tags": []
   },
   "outputs": [],
   "source": [
    "from fairness_multiverse.conformal import build_cp_groups\n",
    "\n",
    "cp_groups_df = build_cp_groups(pred_sets, y_true, X_test.index, org_test)"
   ]
  },
  {
   "cell_type": "code",
   "execution_count": 52,
   "id": "292ddabf",
   "metadata": {
    "execution": {
     "iopub.execute_input": "2025-08-19T19:10:32.262915Z",
     "iopub.status.busy": "2025-08-19T19:10:32.261796Z",
     "iopub.status.idle": "2025-08-19T19:10:33.146410Z",
     "shell.execute_reply": "2025-08-19T19:10:33.145586Z"
    },
    "papermill": {
     "duration": 0.901619,
     "end_time": "2025-08-19T19:10:33.147916",
     "exception": false,
     "start_time": "2025-08-19T19:10:32.246297",
     "status": "completed"
    },
    "tags": []
   },
   "outputs": [],
   "source": [
    "# Define covered = 1 if true_label is in the predicted set\n",
    "cp_groups_df['covered'] = cp_groups_df.apply(\n",
    "    lambda r: int(r['true_label'] in r['pred_set']),\n",
    "    axis=1\n",
    ")"
   ]
  },
  {
   "cell_type": "code",
   "execution_count": 53,
   "id": "3a261692",
   "metadata": {
    "execution": {
     "iopub.execute_input": "2025-08-19T19:10:33.178169Z",
     "iopub.status.busy": "2025-08-19T19:10:33.177088Z",
     "iopub.status.idle": "2025-08-19T19:10:33.201453Z",
     "shell.execute_reply": "2025-08-19T19:10:33.200062Z"
    },
    "papermill": {
     "duration": 0.041127,
     "end_time": "2025-08-19T19:10:33.203236",
     "exception": false,
     "start_time": "2025-08-19T19:10:33.162109",
     "status": "completed"
    },
    "tags": []
   },
   "outputs": [],
   "source": [
    "subgroups = ['frau1','nongerman','nongerman_male','nongerman_female']\n",
    "\n",
    "# Conditional coverage for subgroup==1\n",
    "cond_coverage = {\n",
    "    g: cp_groups_df.loc[cp_groups_df[g]==1, 'covered'].mean()\n",
    "    for g in subgroups\n",
    "}"
   ]
  },
  {
   "cell_type": "code",
   "execution_count": 54,
   "id": "894fd600",
   "metadata": {
    "execution": {
     "iopub.execute_input": "2025-08-19T19:10:33.232927Z",
     "iopub.status.busy": "2025-08-19T19:10:33.232052Z",
     "iopub.status.idle": "2025-08-19T19:10:33.243466Z",
     "shell.execute_reply": "2025-08-19T19:10:33.242050Z"
    },
    "papermill": {
     "duration": 0.028895,
     "end_time": "2025-08-19T19:10:33.245115",
     "exception": false,
     "start_time": "2025-08-19T19:10:33.216220",
     "status": "completed"
    },
    "tags": []
   },
   "outputs": [
    {
     "data": {
      "text/plain": [
       "{'frau1': 0.9128723547647931,\n",
       " 'nongerman': 0.904339527311514,\n",
       " 'nongerman_male': 0.9241646401873368,\n",
       " 'nongerman_female': 0.8715350223546945}"
      ]
     },
     "execution_count": 54,
     "metadata": {},
     "output_type": "execute_result"
    }
   ],
   "source": [
    "cond_coverage"
   ]
  },
  {
   "cell_type": "code",
   "execution_count": 55,
   "id": "942895c7",
   "metadata": {
    "execution": {
     "iopub.execute_input": "2025-08-19T19:10:33.275853Z",
     "iopub.status.busy": "2025-08-19T19:10:33.275285Z",
     "iopub.status.idle": "2025-08-19T19:10:33.291128Z",
     "shell.execute_reply": "2025-08-19T19:10:33.289428Z"
    },
    "papermill": {
     "duration": 0.031763,
     "end_time": "2025-08-19T19:10:33.292587",
     "exception": false,
     "start_time": "2025-08-19T19:10:33.260824",
     "status": "completed"
    },
    "tags": []
   },
   "outputs": [],
   "source": [
    "for subgroup, cov in cond_coverage.items():\n",
    "    cp_metrics_df[f\"cov_{subgroup}\"] = cov"
   ]
  },
  {
   "cell_type": "code",
   "execution_count": 56,
   "id": "3970120f",
   "metadata": {
    "execution": {
     "iopub.execute_input": "2025-08-19T19:10:33.327497Z",
     "iopub.status.busy": "2025-08-19T19:10:33.327088Z",
     "iopub.status.idle": "2025-08-19T19:10:33.344396Z",
     "shell.execute_reply": "2025-08-19T19:10:33.343611Z"
    },
    "papermill": {
     "duration": 0.033147,
     "end_time": "2025-08-19T19:10:33.346230",
     "exception": false,
     "start_time": "2025-08-19T19:10:33.313083",
     "status": "completed"
    },
    "tags": []
   },
   "outputs": [
    {
     "data": {
      "text/html": [
       "<div>\n",
       "<style scoped>\n",
       "    .dataframe tbody tr th:only-of-type {\n",
       "        vertical-align: middle;\n",
       "    }\n",
       "\n",
       "    .dataframe tbody tr th {\n",
       "        vertical-align: top;\n",
       "    }\n",
       "\n",
       "    .dataframe thead th {\n",
       "        text-align: right;\n",
       "    }\n",
       "</style>\n",
       "<table border=\"1\" class=\"dataframe\">\n",
       "  <thead>\n",
       "    <tr style=\"text-align: right;\">\n",
       "      <th></th>\n",
       "      <th>universe_id</th>\n",
       "      <th>universe_training_year</th>\n",
       "      <th>universe_training_size</th>\n",
       "      <th>universe_scale</th>\n",
       "      <th>universe_model</th>\n",
       "      <th>universe_exclude_features</th>\n",
       "      <th>universe_exclude_subgroups</th>\n",
       "      <th>q_hat</th>\n",
       "      <th>coverage</th>\n",
       "      <th>avg_size</th>\n",
       "      <th>cov_frau1</th>\n",
       "      <th>cov_nongerman</th>\n",
       "      <th>cov_nongerman_male</th>\n",
       "      <th>cov_nongerman_female</th>\n",
       "    </tr>\n",
       "  </thead>\n",
       "  <tbody>\n",
       "    <tr>\n",
       "      <th>0</th>\n",
       "      <td>5e72a50953ba49da193e83025856a035</td>\n",
       "      <td>2010_14</td>\n",
       "      <td>1k</td>\n",
       "      <td>do-not-scale</td>\n",
       "      <td>rf</td>\n",
       "      <td>none</td>\n",
       "      <td>drop-non-german</td>\n",
       "      <td>0.66</td>\n",
       "      <td>0.914469</td>\n",
       "      <td>1.160172</td>\n",
       "      <td>0.912872</td>\n",
       "      <td>0.90434</td>\n",
       "      <td>0.924165</td>\n",
       "      <td>0.871535</td>\n",
       "    </tr>\n",
       "  </tbody>\n",
       "</table>\n",
       "</div>"
      ],
      "text/plain": [
       "                        universe_id universe_training_year  \\\n",
       "0  5e72a50953ba49da193e83025856a035                2010_14   \n",
       "\n",
       "  universe_training_size universe_scale universe_model  \\\n",
       "0                     1k   do-not-scale             rf   \n",
       "\n",
       "  universe_exclude_features universe_exclude_subgroups  q_hat  coverage  \\\n",
       "0                      none            drop-non-german   0.66  0.914469   \n",
       "\n",
       "   avg_size  cov_frau1  cov_nongerman  cov_nongerman_male  \\\n",
       "0  1.160172   0.912872        0.90434            0.924165   \n",
       "\n",
       "   cov_nongerman_female  \n",
       "0              0.871535  "
      ]
     },
     "execution_count": 56,
     "metadata": {},
     "output_type": "execute_result"
    }
   ],
   "source": [
    "cp_metrics_df"
   ]
  },
  {
   "cell_type": "markdown",
   "id": "3fc519cc",
   "metadata": {
    "papermill": {
     "duration": 0.012331,
     "end_time": "2025-08-19T19:10:33.376158",
     "exception": false,
     "start_time": "2025-08-19T19:10:33.363827",
     "status": "completed"
    },
    "tags": []
   },
   "source": [
    "# (Fairness) Metrics"
   ]
  },
  {
   "cell_type": "code",
   "execution_count": 57,
   "id": "a2e5e155",
   "metadata": {
    "execution": {
     "iopub.execute_input": "2025-08-19T19:10:33.402131Z",
     "iopub.status.busy": "2025-08-19T19:10:33.401831Z",
     "iopub.status.idle": "2025-08-19T19:10:33.416763Z",
     "shell.execute_reply": "2025-08-19T19:10:33.416105Z"
    },
    "papermill": {
     "duration": 0.030163,
     "end_time": "2025-08-19T19:10:33.418955",
     "exception": false,
     "start_time": "2025-08-19T19:10:33.388792",
     "status": "completed"
    },
    "tags": []
   },
   "outputs": [],
   "source": [
    "colname_to_bin = \"maxdeutsch1\"\n",
    "majority_value = org_train[colname_to_bin].mode()[0]\n",
    "\n",
    "org_test[\"majmin\"] = np.where(org_test[colname_to_bin] == majority_value, \"majority\", \"minority\")"
   ]
  },
  {
   "cell_type": "code",
   "execution_count": 58,
   "id": "17e3e4d5",
   "metadata": {
    "execution": {
     "iopub.execute_input": "2025-08-19T19:10:33.455066Z",
     "iopub.status.busy": "2025-08-19T19:10:33.454565Z",
     "iopub.status.idle": "2025-08-19T19:10:35.397537Z",
     "shell.execute_reply": "2025-08-19T19:10:35.396368Z"
    },
    "papermill": {
     "duration": 1.958564,
     "end_time": "2025-08-19T19:10:35.399148",
     "exception": false,
     "start_time": "2025-08-19T19:10:33.440584",
     "status": "completed"
    },
    "tags": []
   },
   "outputs": [],
   "source": [
    "example_universe = universe.copy()\n",
    "example_universe[\"cutoff\"] = example_universe[\"cutoff\"][0]\n",
    "example_universe[\"eval_fairness_grouping\"] = example_universe[\"eval_fairness_grouping\"][0]\n",
    "fairness_dict, metric_frame = universe_analysis.compute_metrics(\n",
    "    example_universe,\n",
    "    y_pred_prob=probs_test,\n",
    "    y_test=y_true,\n",
    "    org_test=org_test,\n",
    ")"
   ]
  },
  {
   "cell_type": "markdown",
   "id": "1fb7a0e9",
   "metadata": {
    "papermill": {
     "duration": 0.011984,
     "end_time": "2025-08-19T19:10:35.423946",
     "exception": false,
     "start_time": "2025-08-19T19:10:35.411962",
     "status": "completed"
    },
    "tags": []
   },
   "source": [
    "# Overall"
   ]
  },
  {
   "cell_type": "markdown",
   "id": "be1784b1",
   "metadata": {
    "papermill": {
     "duration": 0.011921,
     "end_time": "2025-08-19T19:10:35.447784",
     "exception": false,
     "start_time": "2025-08-19T19:10:35.435863",
     "status": "completed"
    },
    "tags": []
   },
   "source": [
    "Main fairness target: Equalized Odds. Seems to be a better fit than equal opportunity, since we're not only interested in Y = 1. Seems to be a better fit than demographic parity, since we also care about accuracy, not just equal distribution of preds.\n",
    "\n",
    "Pick column for computation of fairness metrics\n",
    "\n",
    "Performance\n",
    "Overall performance measures, most interesting in relation to the measures split by group below"
   ]
  },
  {
   "cell_type": "code",
   "execution_count": 59,
   "id": "b7672bee",
   "metadata": {
    "execution": {
     "iopub.execute_input": "2025-08-19T19:10:35.473421Z",
     "iopub.status.busy": "2025-08-19T19:10:35.472866Z",
     "iopub.status.idle": "2025-08-19T19:10:35.481124Z",
     "shell.execute_reply": "2025-08-19T19:10:35.480422Z"
    },
    "papermill": {
     "duration": 0.022676,
     "end_time": "2025-08-19T19:10:35.482356",
     "exception": false,
     "start_time": "2025-08-19T19:10:35.459680",
     "status": "completed"
    },
    "tags": []
   },
   "outputs": [
    {
     "data": {
      "text/plain": [
       "accuracy                   0.218125\n",
       "balanced accuracy          0.542640\n",
       "f1                         0.243165\n",
       "precision                  0.138820\n",
       "false positive rate        0.893865\n",
       "false negative rate        0.020855\n",
       "selection rate             0.904804\n",
       "count                  89710.000000\n",
       "dtype: float64"
      ]
     },
     "execution_count": 59,
     "metadata": {},
     "output_type": "execute_result"
    }
   ],
   "source": [
    "metric_frame.overall"
   ]
  },
  {
   "cell_type": "markdown",
   "id": "d93333c9",
   "metadata": {
    "papermill": {
     "duration": 0.012021,
     "end_time": "2025-08-19T19:10:35.508997",
     "exception": false,
     "start_time": "2025-08-19T19:10:35.496976",
     "status": "completed"
    },
    "tags": []
   },
   "source": [
    "By Group"
   ]
  },
  {
   "cell_type": "code",
   "execution_count": 60,
   "id": "52256966",
   "metadata": {
    "execution": {
     "iopub.execute_input": "2025-08-19T19:10:35.536017Z",
     "iopub.status.busy": "2025-08-19T19:10:35.534806Z",
     "iopub.status.idle": "2025-08-19T19:10:35.557709Z",
     "shell.execute_reply": "2025-08-19T19:10:35.556911Z"
    },
    "papermill": {
     "duration": 0.037986,
     "end_time": "2025-08-19T19:10:35.559392",
     "exception": false,
     "start_time": "2025-08-19T19:10:35.521406",
     "status": "completed"
    },
    "tags": []
   },
   "outputs": [
    {
     "data": {
      "text/html": [
       "<div>\n",
       "<style scoped>\n",
       "    .dataframe tbody tr th:only-of-type {\n",
       "        vertical-align: middle;\n",
       "    }\n",
       "\n",
       "    .dataframe tbody tr th {\n",
       "        vertical-align: top;\n",
       "    }\n",
       "\n",
       "    .dataframe thead th {\n",
       "        text-align: right;\n",
       "    }\n",
       "</style>\n",
       "<table border=\"1\" class=\"dataframe\">\n",
       "  <thead>\n",
       "    <tr style=\"text-align: right;\">\n",
       "      <th></th>\n",
       "      <th>accuracy</th>\n",
       "      <th>balanced accuracy</th>\n",
       "      <th>f1</th>\n",
       "      <th>precision</th>\n",
       "      <th>false positive rate</th>\n",
       "      <th>false negative rate</th>\n",
       "      <th>selection rate</th>\n",
       "      <th>count</th>\n",
       "    </tr>\n",
       "    <tr>\n",
       "      <th>majmin</th>\n",
       "      <th></th>\n",
       "      <th></th>\n",
       "      <th></th>\n",
       "      <th></th>\n",
       "      <th></th>\n",
       "      <th></th>\n",
       "      <th></th>\n",
       "      <th></th>\n",
       "    </tr>\n",
       "  </thead>\n",
       "  <tbody>\n",
       "    <tr>\n",
       "      <th>majority</th>\n",
       "      <td>0.223912</td>\n",
       "      <td>0.545082</td>\n",
       "      <td>0.250524</td>\n",
       "      <td>0.143584</td>\n",
       "      <td>0.891454</td>\n",
       "      <td>0.018381</td>\n",
       "      <td>0.903369</td>\n",
       "      <td>69170.0</td>\n",
       "    </tr>\n",
       "    <tr>\n",
       "      <th>minority</th>\n",
       "      <td>0.198637</td>\n",
       "      <td>0.533884</td>\n",
       "      <td>0.218127</td>\n",
       "      <td>0.122886</td>\n",
       "      <td>0.901827</td>\n",
       "      <td>0.030405</td>\n",
       "      <td>0.909640</td>\n",
       "      <td>20540.0</td>\n",
       "    </tr>\n",
       "  </tbody>\n",
       "</table>\n",
       "</div>"
      ],
      "text/plain": [
       "          accuracy  balanced accuracy        f1  precision  \\\n",
       "majmin                                                       \n",
       "majority  0.223912           0.545082  0.250524   0.143584   \n",
       "minority  0.198637           0.533884  0.218127   0.122886   \n",
       "\n",
       "          false positive rate  false negative rate  selection rate    count  \n",
       "majmin                                                                       \n",
       "majority             0.891454             0.018381        0.903369  69170.0  \n",
       "minority             0.901827             0.030405        0.909640  20540.0  "
      ]
     },
     "execution_count": 60,
     "metadata": {},
     "output_type": "execute_result"
    }
   ],
   "source": [
    "metric_frame.by_group"
   ]
  },
  {
   "cell_type": "code",
   "execution_count": 61,
   "id": "6e6c20ae",
   "metadata": {
    "execution": {
     "iopub.execute_input": "2025-08-19T19:10:35.594924Z",
     "iopub.status.busy": "2025-08-19T19:10:35.593749Z",
     "iopub.status.idle": "2025-08-19T19:10:37.394139Z",
     "shell.execute_reply": "2025-08-19T19:10:37.393204Z"
    },
    "papermill": {
     "duration": 1.819511,
     "end_time": "2025-08-19T19:10:37.399026",
     "exception": false,
     "start_time": "2025-08-19T19:10:35.579515",
     "status": "completed"
    },
    "tags": []
   },
   "outputs": [
    {
     "data": {
      "text/plain": [
       "array([[<Axes: title={'center': 'accuracy'}, xlabel='majmin'>,\n",
       "        <Axes: title={'center': 'balanced accuracy'}, xlabel='majmin'>,\n",
       "        <Axes: title={'center': 'f1'}, xlabel='majmin'>],\n",
       "       [<Axes: title={'center': 'precision'}, xlabel='majmin'>,\n",
       "        <Axes: title={'center': 'false positive rate'}, xlabel='majmin'>,\n",
       "        <Axes: title={'center': 'false negative rate'}, xlabel='majmin'>],\n",
       "       [<Axes: title={'center': 'selection rate'}, xlabel='majmin'>,\n",
       "        <Axes: title={'center': 'count'}, xlabel='majmin'>,\n",
       "        <Axes: xlabel='majmin'>]], dtype=object)"
      ]
     },
     "execution_count": 61,
     "metadata": {},
     "output_type": "execute_result"
    },
    {
     "data": {
      "image/png": "[encoded data removed]",
      "text/plain": [
       "<Figure size 1200x800 with 9 Axes>"
      ]
     },
     "metadata": {},
     "output_type": "display_data"
    }
   ],
   "source": [
    "# In a graphic\n",
    "metric_frame.by_group.plot.bar(\n",
    "    subplots=True,\n",
    "    layout=[3, 3],\n",
    "    legend=False,\n",
    "    figsize=[12, 8],\n",
    "    title=\"Show all metrics\",\n",
    ")"
   ]
  },
  {
   "cell_type": "markdown",
   "id": "b2e433ae",
   "metadata": {
    "papermill": {
     "duration": 0.014037,
     "end_time": "2025-08-19T19:10:37.439740",
     "exception": false,
     "start_time": "2025-08-19T19:10:37.425703",
     "status": "completed"
    },
    "tags": []
   },
   "source": [
    "# Final Output"
   ]
  },
  {
   "cell_type": "code",
   "execution_count": 62,
   "id": "3871301e",
   "metadata": {
    "execution": {
     "iopub.execute_input": "2025-08-19T19:10:37.471628Z",
     "iopub.status.busy": "2025-08-19T19:10:37.469508Z",
     "iopub.status.idle": "2025-08-19T19:10:37.488159Z",
     "shell.execute_reply": "2025-08-19T19:10:37.486953Z"
    },
    "papermill": {
     "duration": 0.037288,
     "end_time": "2025-08-19T19:10:37.490736",
     "exception": false,
     "start_time": "2025-08-19T19:10:37.453448",
     "status": "completed"
    },
    "tags": []
   },
   "outputs": [
    {
     "data": {
      "text/plain": [
       "4"
      ]
     },
     "execution_count": 62,
     "metadata": {},
     "output_type": "execute_result"
    }
   ],
   "source": [
    "sub_universes = universe_analysis.generate_sub_universes()\n",
    "len(sub_universes)"
   ]
  },
  {
   "cell_type": "code",
   "execution_count": 63,
   "id": "d9cfdaca",
   "metadata": {
    "execution": {
     "iopub.execute_input": "2025-08-19T19:10:37.530007Z",
     "iopub.status.busy": "2025-08-19T19:10:37.528763Z",
     "iopub.status.idle": "2025-08-19T19:10:37.538743Z",
     "shell.execute_reply": "2025-08-19T19:10:37.537362Z"
    },
    "papermill": {
     "duration": 0.027617,
     "end_time": "2025-08-19T19:10:37.540345",
     "exception": false,
     "start_time": "2025-08-19T19:10:37.512728",
     "status": "completed"
    },
    "tags": []
   },
   "outputs": [],
   "source": [
    "def filter_sub_universe_data(sub_universe, org_test):\n",
    "    # Keep all rows — no filtering\n",
    "    keep_rows_mask = np.ones(org_test.shape[0], dtype=bool)\n",
    "\n",
    "    print(f\"[INFO] Keeping all rows: {keep_rows_mask.sum()} rows retained.\")\n",
    "    return keep_rows_mask"
   ]
  },
  {
   "cell_type": "code",
   "execution_count": 64,
   "id": "2bc31ac1",
   "metadata": {
    "execution": {
     "iopub.execute_input": "2025-08-19T19:10:37.574587Z",
     "iopub.status.busy": "2025-08-19T19:10:37.573595Z",
     "iopub.status.idle": "2025-08-19T19:10:44.637799Z",
     "shell.execute_reply": "2025-08-19T19:10:44.636455Z"
    },
    "papermill": {
     "duration": 7.081456,
     "end_time": "2025-08-19T19:10:44.639850",
     "exception": false,
     "start_time": "2025-08-19T19:10:37.558394",
     "status": "completed"
    },
    "tags": []
   },
   "outputs": [
    {
     "name": "stdout",
     "output_type": "stream",
     "text": [
      "Stopping execution_time clock.\n",
      "[INFO] Keeping all rows: 89710 rows retained.\n"
     ]
    },
    {
     "name": "stdout",
     "output_type": "stream",
     "text": [
      "[INFO] Keeping all rows: 89710 rows retained.\n"
     ]
    },
    {
     "name": "stdout",
     "output_type": "stream",
     "text": [
      "[INFO] Keeping all rows: 89710 rows retained.\n"
     ]
    },
    {
     "name": "stdout",
     "output_type": "stream",
     "text": [
      "[INFO] Keeping all rows: 89710 rows retained.\n"
     ]
    },
    {
     "data": {
      "text/html": [
       "<div>\n",
       "<style scoped>\n",
       "    .dataframe tbody tr th:only-of-type {\n",
       "        vertical-align: middle;\n",
       "    }\n",
       "\n",
       "    .dataframe tbody tr th {\n",
       "        vertical-align: top;\n",
       "    }\n",
       "\n",
       "    .dataframe thead th {\n",
       "        text-align: right;\n",
       "    }\n",
       "</style>\n",
       "<table border=\"1\" class=\"dataframe\">\n",
       "  <thead>\n",
       "    <tr style=\"text-align: right;\">\n",
       "      <th></th>\n",
       "      <th>run_no</th>\n",
       "      <th>universe_id</th>\n",
       "      <th>universe_settings</th>\n",
       "      <th>execution_time</th>\n",
       "      <th>test_size_n</th>\n",
       "      <th>test_size_frac</th>\n",
       "      <th>fair_main_equalized_odds_difference</th>\n",
       "      <th>fair_main_equalized_odds_ratio</th>\n",
       "      <th>fair_main_demographic_parity_difference</th>\n",
       "      <th>fair_main_demographic_parity_ratio</th>\n",
       "      <th>...</th>\n",
       "      <th>perf_grp_precision_0</th>\n",
       "      <th>perf_grp_precision_1</th>\n",
       "      <th>perf_grp_false positive rate_0</th>\n",
       "      <th>perf_grp_false positive rate_1</th>\n",
       "      <th>perf_grp_false negative rate_0</th>\n",
       "      <th>perf_grp_false negative rate_1</th>\n",
       "      <th>perf_grp_selection rate_0</th>\n",
       "      <th>perf_grp_selection rate_1</th>\n",
       "      <th>perf_grp_count_0</th>\n",
       "      <th>perf_grp_count_1</th>\n",
       "    </tr>\n",
       "  </thead>\n",
       "  <tbody>\n",
       "    <tr>\n",
       "      <th>0</th>\n",
       "      <td>3</td>\n",
       "      <td>5e72a50953ba49da193e83025856a035</td>\n",
       "      <td>{\"cutoff\": \"quantile_0.1\", \"eval_fairness_grou...</td>\n",
       "      <td>25.897955</td>\n",
       "      <td>89710</td>\n",
       "      <td>1.0</td>\n",
       "      <td>0.012025</td>\n",
       "      <td>0.987750</td>\n",
       "      <td>0.006271</td>\n",
       "      <td>0.993106</td>\n",
       "      <td>...</td>\n",
       "      <td>NaN</td>\n",
       "      <td>NaN</td>\n",
       "      <td>NaN</td>\n",
       "      <td>NaN</td>\n",
       "      <td>NaN</td>\n",
       "      <td>NaN</td>\n",
       "      <td>NaN</td>\n",
       "      <td>NaN</td>\n",
       "      <td>NaN</td>\n",
       "      <td>NaN</td>\n",
       "    </tr>\n",
       "    <tr>\n",
       "      <th>0</th>\n",
       "      <td>3</td>\n",
       "      <td>5e72a50953ba49da193e83025856a035</td>\n",
       "      <td>{\"cutoff\": \"quantile_0.1\", \"eval_fairness_grou...</td>\n",
       "      <td>25.897955</td>\n",
       "      <td>89710</td>\n",
       "      <td>1.0</td>\n",
       "      <td>0.012025</td>\n",
       "      <td>0.987750</td>\n",
       "      <td>0.006271</td>\n",
       "      <td>0.993106</td>\n",
       "      <td>...</td>\n",
       "      <td>0.122886</td>\n",
       "      <td>0.143584</td>\n",
       "      <td>0.901827</td>\n",
       "      <td>0.891454</td>\n",
       "      <td>0.030405</td>\n",
       "      <td>0.018381</td>\n",
       "      <td>0.909640</td>\n",
       "      <td>0.903369</td>\n",
       "      <td>20540.0</td>\n",
       "      <td>69170.0</td>\n",
       "    </tr>\n",
       "    <tr>\n",
       "      <th>0</th>\n",
       "      <td>3</td>\n",
       "      <td>5e72a50953ba49da193e83025856a035</td>\n",
       "      <td>{\"cutoff\": \"quantile_0.25\", \"eval_fairness_gro...</td>\n",
       "      <td>25.897955</td>\n",
       "      <td>89710</td>\n",
       "      <td>1.0</td>\n",
       "      <td>0.063525</td>\n",
       "      <td>0.932556</td>\n",
       "      <td>0.008524</td>\n",
       "      <td>0.989012</td>\n",
       "      <td>...</td>\n",
       "      <td>NaN</td>\n",
       "      <td>NaN</td>\n",
       "      <td>NaN</td>\n",
       "      <td>NaN</td>\n",
       "      <td>NaN</td>\n",
       "      <td>NaN</td>\n",
       "      <td>NaN</td>\n",
       "      <td>NaN</td>\n",
       "      <td>NaN</td>\n",
       "      <td>NaN</td>\n",
       "    </tr>\n",
       "    <tr>\n",
       "      <th>0</th>\n",
       "      <td>3</td>\n",
       "      <td>5e72a50953ba49da193e83025856a035</td>\n",
       "      <td>{\"cutoff\": \"quantile_0.25\", \"eval_fairness_gro...</td>\n",
       "      <td>25.897955</td>\n",
       "      <td>89710</td>\n",
       "      <td>1.0</td>\n",
       "      <td>0.063525</td>\n",
       "      <td>0.932556</td>\n",
       "      <td>0.008524</td>\n",
       "      <td>0.989012</td>\n",
       "      <td>...</td>\n",
       "      <td>0.130547</td>\n",
       "      <td>0.162232</td>\n",
       "      <td>0.762327</td>\n",
       "      <td>0.740580</td>\n",
       "      <td>0.121622</td>\n",
       "      <td>0.058096</td>\n",
       "      <td>0.775706</td>\n",
       "      <td>0.767182</td>\n",
       "      <td>20540.0</td>\n",
       "      <td>69170.0</td>\n",
       "    </tr>\n",
       "  </tbody>\n",
       "</table>\n",
       "<p>4 rows × 50 columns</p>\n",
       "</div>"
      ],
      "text/plain": [
       "  run_no                       universe_id  \\\n",
       "0      3  5e72a50953ba49da193e83025856a035   \n",
       "0      3  5e72a50953ba49da193e83025856a035   \n",
       "0      3  5e72a50953ba49da193e83025856a035   \n",
       "0      3  5e72a50953ba49da193e83025856a035   \n",
       "\n",
       "                                   universe_settings  execution_time  \\\n",
       "0  {\"cutoff\": \"quantile_0.1\", \"eval_fairness_grou...       25.897955   \n",
       "0  {\"cutoff\": \"quantile_0.1\", \"eval_fairness_grou...       25.897955   \n",
       "0  {\"cutoff\": \"quantile_0.25\", \"eval_fairness_gro...       25.897955   \n",
       "0  {\"cutoff\": \"quantile_0.25\", \"eval_fairness_gro...       25.897955   \n",
       "\n",
       "   test_size_n  test_size_frac  fair_main_equalized_odds_difference  \\\n",
       "0        89710             1.0                             0.012025   \n",
       "0        89710             1.0                             0.012025   \n",
       "0        89710             1.0                             0.063525   \n",
       "0        89710             1.0                             0.063525   \n",
       "\n",
       "   fair_main_equalized_odds_ratio  fair_main_demographic_parity_difference  \\\n",
       "0                        0.987750                                 0.006271   \n",
       "0                        0.987750                                 0.006271   \n",
       "0                        0.932556                                 0.008524   \n",
       "0                        0.932556                                 0.008524   \n",
       "\n",
       "   fair_main_demographic_parity_ratio  ...  perf_grp_precision_0  \\\n",
       "0                            0.993106  ...                   NaN   \n",
       "0                            0.993106  ...              0.122886   \n",
       "0                            0.989012  ...                   NaN   \n",
       "0                            0.989012  ...              0.130547   \n",
       "\n",
       "   perf_grp_precision_1  perf_grp_false positive rate_0  \\\n",
       "0                   NaN                             NaN   \n",
       "0              0.143584                        0.901827   \n",
       "0                   NaN                             NaN   \n",
       "0              0.162232                        0.762327   \n",
       "\n",
       "   perf_grp_false positive rate_1  perf_grp_false negative rate_0  \\\n",
       "0                             NaN                             NaN   \n",
       "0                        0.891454                        0.030405   \n",
       "0                             NaN                             NaN   \n",
       "0                        0.740580                        0.121622   \n",
       "\n",
       "   perf_grp_false negative rate_1  perf_grp_selection rate_0  \\\n",
       "0                             NaN                        NaN   \n",
       "0                        0.018381                   0.909640   \n",
       "0                             NaN                        NaN   \n",
       "0                        0.058096                   0.775706   \n",
       "\n",
       "   perf_grp_selection rate_1  perf_grp_count_0  perf_grp_count_1  \n",
       "0                        NaN               NaN               NaN  \n",
       "0                   0.903369           20540.0           69170.0  \n",
       "0                        NaN               NaN               NaN  \n",
       "0                   0.767182           20540.0           69170.0  \n",
       "\n",
       "[4 rows x 50 columns]"
      ]
     },
     "execution_count": 64,
     "metadata": {},
     "output_type": "execute_result"
    }
   ],
   "source": [
    "final_output = universe_analysis.generate_final_output(\n",
    "    y_pred_prob=probs_test,\n",
    "    y_test=y_true,\n",
    "    org_test=org_test,\n",
    "    filter_data=filter_sub_universe_data,\n",
    "    cp_metrics_df=cp_metrics_df,\n",
    "    save=True,\n",
    ")\n",
    "final_output"
   ]
  },
  {
   "cell_type": "code",
   "execution_count": null,
   "id": "8b80a1ff",
   "metadata": {
    "papermill": {
     "duration": 0.014623,
     "end_time": "2025-08-19T19:10:44.673458",
     "exception": false,
     "start_time": "2025-08-19T19:10:44.658835",
     "status": "completed"
    },
    "tags": []
   },
   "outputs": [],
   "source": []
  },
  {
   "cell_type": "code",
   "execution_count": null,
   "id": "275c9fad",
   "metadata": {
    "papermill": {
     "duration": 0.023931,
     "end_time": "2025-08-19T19:10:44.712214",
     "exception": false,
     "start_time": "2025-08-19T19:10:44.688283",
     "status": "completed"
    },
    "tags": []
   },
   "outputs": [],
   "source": []
  }
 ],
 "metadata": {
  "celltoolbar": "Tags",
  "kernelspec": {
   "display_name": "Python (CMA Fairness)",
   "language": "python",
   "name": "cma_fair_env"
  },
  "language_info": {
   "codemirror_mode": {
    "name": "ipython",
    "version": 3
   },
   "file_extension": ".py",
   "mimetype": "text/x-python",
   "name": "python",
   "nbconvert_exporter": "python",
   "pygments_lexer": "ipython3",
   "version": "3.10.12"
  },
  "papermill": {
   "default_parameters": {},
   "duration": 36.741106,
   "end_time": "2025-08-19T19:10:45.550034",
   "environment_variables": {},
   "exception": null,
   "input_path": "universe_analysis.ipynb",
   "output_path": "output/runs/3/notebooks/m_3-5e72a50953ba49da193e83025856a035.ipynb",
   "parameters": {
    "output_dir": "output",
    "run_no": "3",
    "seed": "2023",
    "universe": "{\"cutoff\": [\"quantile_0.1\", \"quantile_0.25\"], \"eval_fairness_grouping\": [\"majority-minority\", \"nationality-all\"], \"exclude_features\": \"none\", \"exclude_subgroups\": \"drop-non-german\", \"model\": \"rf\", \"scale\": \"do-not-scale\", \"training_size\": \"1k\", \"training_year\": \"2010_14\"}",
    "universe_id": "5e72a50953ba49da193e83025856a035"
   },
   "start_time": "2025-08-19T19:10:08.808928",
   "version": "2.6.0"
  }
 },
 "nbformat": 4,
 "nbformat_minor": 5
}