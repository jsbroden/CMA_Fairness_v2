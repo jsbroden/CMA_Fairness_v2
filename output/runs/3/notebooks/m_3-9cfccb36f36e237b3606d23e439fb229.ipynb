{
 "cells": [
  {
   "cell_type": "markdown",
   "id": "ef23dbb3",
   "metadata": {
    "papermill": {
     "duration": 0.022917,
     "end_time": "2025-08-19T18:37:52.465829",
     "exception": false,
     "start_time": "2025-08-19T18:37:52.442912",
     "status": "completed"
    },
    "tags": []
   },
   "source": [
    "# Setup"
   ]
  },
  {
   "cell_type": "code",
   "execution_count": 1,
   "id": "0bc8e7dc",
   "metadata": {
    "execution": {
     "iopub.execute_input": "2025-08-19T18:37:52.507989Z",
     "iopub.status.busy": "2025-08-19T18:37:52.507581Z",
     "iopub.status.idle": "2025-08-19T18:37:52.518355Z",
     "shell.execute_reply": "2025-08-19T18:37:52.516808Z"
    },
    "papermill": {
     "duration": 0.033868,
     "end_time": "2025-08-19T18:37:52.519473",
     "exception": false,
     "start_time": "2025-08-19T18:37:52.485605",
     "status": "completed"
    },
    "tags": []
   },
   "outputs": [
    {
     "name": "stdout",
     "output_type": "stream",
     "text": [
      "/dss/dsshome1/0C/ra93lal2/cma/CMA_Fairness_v2\n"
     ]
    },
    {
     "name": "stderr",
     "output_type": "stream",
     "text": [
      "/dss/dsshome1/0C/ra93lal2/.local/share/virtualenvs/CMA_Fairness_v2-3j10GkSs/lib/python3.10/site-packages/IPython/core/magics/osm.py:393: UserWarning: This is now an optional IPython functionality, using bookmarks requires you to install the `pickleshare` library.\n",
      "  bkms = self.shell.db.get('bookmarks', {})\n",
      "/dss/dsshome1/0C/ra93lal2/.local/share/virtualenvs/CMA_Fairness_v2-3j10GkSs/lib/python3.10/site-packages/IPython/core/magics/osm.py:417: UserWarning: This is now an optional IPython functionality, setting dhist requires you to install the `pickleshare` library.\n",
      "  self.shell.db['dhist'] = compress_dhist(dhist)[-100:]\n"
     ]
    }
   ],
   "source": [
    "%cd ~/cma/CMA_Fairness_v2"
   ]
  },
  {
   "cell_type": "markdown",
   "id": "9d235661",
   "metadata": {
    "papermill": {
     "duration": 0.008727,
     "end_time": "2025-08-19T18:37:52.537387",
     "exception": false,
     "start_time": "2025-08-19T18:37:52.528660",
     "status": "completed"
    },
    "tags": []
   },
   "source": [
    "The following cell holds the definition of our parameters, these values can be overriden by rendering the with e.g. the following command:\n",
    "\n",
    "papermill -p alpha 0.2 -p ratio 0.3 universe_analysis.ipynb output/test_run.ipynb"
   ]
  },
  {
   "cell_type": "code",
   "execution_count": 2,
   "id": "4a789d8e",
   "metadata": {
    "execution": {
     "iopub.execute_input": "2025-08-19T18:37:52.556701Z",
     "iopub.status.busy": "2025-08-19T18:37:52.555775Z",
     "iopub.status.idle": "2025-08-19T18:37:52.559873Z",
     "shell.execute_reply": "2025-08-19T18:37:52.559297Z"
    },
    "papermill": {
     "duration": 0.020888,
     "end_time": "2025-08-19T18:37:52.567030",
     "exception": false,
     "start_time": "2025-08-19T18:37:52.546142",
     "status": "completed"
    },
    "tags": []
   },
   "outputs": [
    {
     "name": "stdout",
     "output_type": "stream",
     "text": [
      "Current working directory: /dss/dsshome1/0C/ra93lal2/cma/CMA_Fairness_v2\n"
     ]
    }
   ],
   "source": [
    "import os\n",
    "print(\"Current working directory:\", os.getcwd())"
   ]
  },
  {
   "cell_type": "code",
   "execution_count": 3,
   "id": "4132aaed",
   "metadata": {
    "execution": {
     "iopub.execute_input": "2025-08-19T18:37:52.610617Z",
     "iopub.status.busy": "2025-08-19T18:37:52.610314Z",
     "iopub.status.idle": "2025-08-19T18:37:52.615580Z",
     "shell.execute_reply": "2025-08-19T18:37:52.614945Z"
    },
    "papermill": {
     "duration": 0.03211,
     "end_time": "2025-08-19T18:37:52.616829",
     "exception": false,
     "start_time": "2025-08-19T18:37:52.584719",
     "status": "completed"
    },
    "tags": [
     "parameters"
    ]
   },
   "outputs": [],
   "source": [
    "run_no = 0\n",
    "universe_id = \"test\"\n",
    "universe = {\n",
    "    \"training_size\": \"5k\", # \"25k\", \"5k\", \"1k\"\n",
    "    \"training_year\": \"2012_14\", # \"2014\", \"2012_14\", \"2010_14\"\n",
    "    \"scale\": \"scale\", # \"scale\", \"do-not-scale\",\n",
    "    \"model\": \"elasticnet\", # \"logreg\", \"penalized_logreg\", \"rf\", \"gbm\", \"elasticnet\"\n",
    "    \"cutoff\": [\"quantile_0.15\", \"quantile_0.30\"],\n",
    "    \"exclude_features\": \"age\", # \"none\", \"nationality\", \"sex\", \"nationality-sex\", \"age\"\n",
    "    \"exclude_subgroups\": \"drop-non-german\", # \"keep-all\", \"drop-non-german\"\n",
    "    \"eval_fairness_grouping\": [\"majority-minority\", \"nationality-all\"]\n",
    "}\n",
    "\n",
    "output_dir=\"./output\"\n",
    "seed=0"
   ]
  },
  {
   "cell_type": "code",
   "execution_count": 4,
   "id": "8070ddb5",
   "metadata": {
    "execution": {
     "iopub.execute_input": "2025-08-19T18:37:52.658117Z",
     "iopub.status.busy": "2025-08-19T18:37:52.657838Z",
     "iopub.status.idle": "2025-08-19T18:37:52.661400Z",
     "shell.execute_reply": "2025-08-19T18:37:52.660813Z"
    },
    "papermill": {
     "duration": 0.025879,
     "end_time": "2025-08-19T18:37:52.662819",
     "exception": false,
     "start_time": "2025-08-19T18:37:52.636940",
     "status": "completed"
    },
    "tags": [
     "injected-parameters"
    ]
   },
   "outputs": [],
   "source": [
    "# Parameters\n",
    "universe_id = \"9cfccb36f36e237b3606d23e439fb229\"\n",
    "run_no = \"3\"\n",
    "universe = \"{\\\"cutoff\\\": [\\\"quantile_0.1\\\", \\\"quantile_0.25\\\"], \\\"eval_fairness_grouping\\\": [\\\"majority-minority\\\", \\\"nationality-all\\\"], \\\"exclude_features\\\": \\\"nationality\\\", \\\"exclude_subgroups\\\": \\\"drop-non-german\\\", \\\"model\\\": \\\"gbm\\\", \\\"scale\\\": \\\"do-not-scale\\\", \\\"training_size\\\": \\\"5k\\\", \\\"training_year\\\": \\\"2012_14\\\"}\"\n",
    "output_dir = \"output\"\n",
    "seed = \"2023\"\n"
   ]
  },
  {
   "cell_type": "code",
   "execution_count": 5,
   "id": "a5d7941f",
   "metadata": {
    "execution": {
     "iopub.execute_input": "2025-08-19T18:37:52.681544Z",
     "iopub.status.busy": "2025-08-19T18:37:52.681273Z",
     "iopub.status.idle": "2025-08-19T18:37:52.684673Z",
     "shell.execute_reply": "2025-08-19T18:37:52.684063Z"
    },
    "papermill": {
     "duration": 0.014405,
     "end_time": "2025-08-19T18:37:52.686060",
     "exception": false,
     "start_time": "2025-08-19T18:37:52.671655",
     "status": "completed"
    },
    "tags": []
   },
   "outputs": [],
   "source": [
    "import json\n",
    "if isinstance(universe, str):\n",
    "    universe = json.loads(universe)"
   ]
  },
  {
   "cell_type": "code",
   "execution_count": 6,
   "id": "7076ccb1",
   "metadata": {
    "execution": {
     "iopub.execute_input": "2025-08-19T18:37:52.786236Z",
     "iopub.status.busy": "2025-08-19T18:37:52.785937Z",
     "iopub.status.idle": "2025-08-19T18:37:52.849086Z",
     "shell.execute_reply": "2025-08-19T18:37:52.848297Z"
    },
    "papermill": {
     "duration": 0.155475,
     "end_time": "2025-08-19T18:37:52.850657",
     "exception": false,
     "start_time": "2025-08-19T18:37:52.695182",
     "status": "completed"
    },
    "tags": []
   },
   "outputs": [],
   "source": [
    "# Auto-reload the custom package\n",
    "%load_ext autoreload\n",
    "%autoreload 1\n",
    "%aimport fairness_multiverse"
   ]
  },
  {
   "cell_type": "code",
   "execution_count": 7,
   "id": "94c8eb93",
   "metadata": {
    "execution": {
     "iopub.execute_input": "2025-08-19T18:37:52.871268Z",
     "iopub.status.busy": "2025-08-19T18:37:52.870953Z",
     "iopub.status.idle": "2025-08-19T18:37:56.055546Z",
     "shell.execute_reply": "2025-08-19T18:37:56.054683Z"
    },
    "papermill": {
     "duration": 3.196621,
     "end_time": "2025-08-19T18:37:56.057070",
     "exception": false,
     "start_time": "2025-08-19T18:37:52.860449",
     "status": "completed"
    },
    "tags": []
   },
   "outputs": [],
   "source": [
    "from fairness_multiverse.universe import UniverseAnalysis\n",
    "\n",
    "universe_analysis = UniverseAnalysis(\n",
    "    run_no = run_no,\n",
    "    universe_id = universe_id,\n",
    "    universe = universe,\n",
    "    output_dir=output_dir,\n",
    ")"
   ]
  },
  {
   "cell_type": "code",
   "execution_count": 8,
   "id": "2a6381cf",
   "metadata": {
    "execution": {
     "iopub.execute_input": "2025-08-19T18:37:56.110887Z",
     "iopub.status.busy": "2025-08-19T18:37:56.110567Z",
     "iopub.status.idle": "2025-08-19T18:37:56.116802Z",
     "shell.execute_reply": "2025-08-19T18:37:56.116112Z"
    },
    "papermill": {
     "duration": 0.032886,
     "end_time": "2025-08-19T18:37:56.117955",
     "exception": false,
     "start_time": "2025-08-19T18:37:56.085069",
     "status": "completed"
    },
    "tags": []
   },
   "outputs": [
    {
     "name": "stdout",
     "output_type": "stream",
     "text": [
      "Using Seed: 2023\n"
     ]
    }
   ],
   "source": [
    "import numpy as np\n",
    "parsed_seed = int(seed)\n",
    "np.random.seed(parsed_seed)\n",
    "print(f\"Using Seed: {parsed_seed}\")"
   ]
  },
  {
   "cell_type": "markdown",
   "id": "b6e958b4",
   "metadata": {
    "papermill": {
     "duration": 0.021862,
     "end_time": "2025-08-19T18:37:56.156995",
     "exception": false,
     "start_time": "2025-08-19T18:37:56.135133",
     "status": "completed"
    },
    "tags": []
   },
   "source": [
    "# Loading Data"
   ]
  },
  {
   "cell_type": "code",
   "execution_count": 9,
   "id": "98701482",
   "metadata": {
    "execution": {
     "iopub.execute_input": "2025-08-19T18:37:56.187732Z",
     "iopub.status.busy": "2025-08-19T18:37:56.187417Z",
     "iopub.status.idle": "2025-08-19T18:38:11.130525Z",
     "shell.execute_reply": "2025-08-19T18:38:11.129157Z"
    },
    "papermill": {
     "duration": 14.95583,
     "end_time": "2025-08-19T18:38:11.132817",
     "exception": false,
     "start_time": "2025-08-19T18:37:56.176987",
     "status": "completed"
    },
    "tags": []
   },
   "outputs": [
    {
     "name": "stdout",
     "output_type": "stream",
     "text": [
      "Loading SIAB data from cache: data/siab_cached.csv.gz\n"
     ]
    },
    {
     "name": "stdout",
     "output_type": "stream",
     "text": [
      "(643690, 164)\n"
     ]
    }
   ],
   "source": [
    "from pathlib import Path\n",
    "import pandas as pd\n",
    "\n",
    "# File paths\n",
    "raw_file = Path(\"data/raw/siab.csv\")\n",
    "cache_file = Path(\"data/siab_cached.csv.gz\")\n",
    "\n",
    "# Ensure cache directory exists\n",
    "cache_file.parent.mkdir(parents=True, exist_ok=True)\n",
    "\n",
    "# Load with simple caching\n",
    "if cache_file.exists():\n",
    "    print(f\"Loading SIAB data from cache: {cache_file}\")\n",
    "    siab = pd.read_csv(cache_file, compression='gzip')\n",
    "else:\n",
    "    print(f\"Cache not found. Reading raw SIAB data: {raw_file}\")\n",
    "    siab = pd.read_csv(raw_file)\n",
    "    siab.to_csv(cache_file, index=False, compression='gzip')\n",
    "    print(f\"Cached SIAB data to: {cache_file}\")\n",
    "\n",
    "print(siab.shape)"
   ]
  },
  {
   "cell_type": "code",
   "execution_count": 10,
   "id": "058d2abb",
   "metadata": {
    "execution": {
     "iopub.execute_input": "2025-08-19T18:38:11.188634Z",
     "iopub.status.busy": "2025-08-19T18:38:11.188278Z",
     "iopub.status.idle": "2025-08-19T18:38:11.478170Z",
     "shell.execute_reply": "2025-08-19T18:38:11.477072Z"
    },
    "papermill": {
     "duration": 0.308169,
     "end_time": "2025-08-19T18:38:11.480016",
     "exception": false,
     "start_time": "2025-08-19T18:38:11.171847",
     "status": "completed"
    },
    "tags": []
   },
   "outputs": [
    {
     "data": {
      "text/html": [
       "<div>\n",
       "<style scoped>\n",
       "    .dataframe tbody tr th:only-of-type {\n",
       "        vertical-align: middle;\n",
       "    }\n",
       "\n",
       "    .dataframe tbody tr th {\n",
       "        vertical-align: top;\n",
       "    }\n",
       "\n",
       "    .dataframe thead th {\n",
       "        text-align: right;\n",
       "    }\n",
       "</style>\n",
       "<table border=\"1\" class=\"dataframe\">\n",
       "  <thead>\n",
       "    <tr style=\"text-align: right;\">\n",
       "      <th></th>\n",
       "      <th>persnr</th>\n",
       "      <th>year</th>\n",
       "      <th>nrEntry</th>\n",
       "      <th>ltue</th>\n",
       "      <th>employed_before</th>\n",
       "      <th>receipt_leh_before</th>\n",
       "      <th>receipt_lhg_before</th>\n",
       "      <th>se_before</th>\n",
       "      <th>ASU_notue_seeking_before</th>\n",
       "      <th>ASU_other_before</th>\n",
       "      <th>...</th>\n",
       "      <th>minijob_tot_dur_byage</th>\n",
       "      <th>ft_tot_dur_byage</th>\n",
       "      <th>befrist_tot_dur_byage</th>\n",
       "      <th>leih_tot_dur_byage</th>\n",
       "      <th>LHG_tot_dur_byage</th>\n",
       "      <th>LEH_tot_dur_byage</th>\n",
       "      <th>almp_tot_dur_byage</th>\n",
       "      <th>almp_aw_tot_dur_byage</th>\n",
       "      <th>se_tot_dur_byage</th>\n",
       "      <th>seeking1_tot_dur_byage</th>\n",
       "    </tr>\n",
       "  </thead>\n",
       "  <tbody>\n",
       "    <tr>\n",
       "      <th>0</th>\n",
       "      <td>7</td>\n",
       "      <td>2015</td>\n",
       "      <td>1</td>\n",
       "      <td>0</td>\n",
       "      <td>1</td>\n",
       "      <td>0</td>\n",
       "      <td>0</td>\n",
       "      <td>0</td>\n",
       "      <td>1</td>\n",
       "      <td>0</td>\n",
       "      <td>...</td>\n",
       "      <td>0.000000</td>\n",
       "      <td>0.000000</td>\n",
       "      <td>15.043478</td>\n",
       "      <td>0.000000</td>\n",
       "      <td>0.000000</td>\n",
       "      <td>0.000000</td>\n",
       "      <td>0.000000</td>\n",
       "      <td>0.000000</td>\n",
       "      <td>0.000000</td>\n",
       "      <td>0.000000</td>\n",
       "    </tr>\n",
       "    <tr>\n",
       "      <th>1</th>\n",
       "      <td>18</td>\n",
       "      <td>2010</td>\n",
       "      <td>1</td>\n",
       "      <td>1</td>\n",
       "      <td>0</td>\n",
       "      <td>0</td>\n",
       "      <td>0</td>\n",
       "      <td>0</td>\n",
       "      <td>0</td>\n",
       "      <td>0</td>\n",
       "      <td>...</td>\n",
       "      <td>0.000000</td>\n",
       "      <td>0.000000</td>\n",
       "      <td>0.000000</td>\n",
       "      <td>0.000000</td>\n",
       "      <td>0.000000</td>\n",
       "      <td>0.000000</td>\n",
       "      <td>0.000000</td>\n",
       "      <td>0.000000</td>\n",
       "      <td>0.000000</td>\n",
       "      <td>0.000000</td>\n",
       "    </tr>\n",
       "    <tr>\n",
       "      <th>2</th>\n",
       "      <td>18</td>\n",
       "      <td>2011</td>\n",
       "      <td>2</td>\n",
       "      <td>0</td>\n",
       "      <td>1</td>\n",
       "      <td>0</td>\n",
       "      <td>1</td>\n",
       "      <td>0</td>\n",
       "      <td>1</td>\n",
       "      <td>0</td>\n",
       "      <td>...</td>\n",
       "      <td>2.714286</td>\n",
       "      <td>2.714286</td>\n",
       "      <td>0.000000</td>\n",
       "      <td>0.000000</td>\n",
       "      <td>10.775510</td>\n",
       "      <td>0.000000</td>\n",
       "      <td>8.367347</td>\n",
       "      <td>0.000000</td>\n",
       "      <td>0.000000</td>\n",
       "      <td>9.836735</td>\n",
       "    </tr>\n",
       "    <tr>\n",
       "      <th>3</th>\n",
       "      <td>18</td>\n",
       "      <td>2012</td>\n",
       "      <td>3</td>\n",
       "      <td>0</td>\n",
       "      <td>1</td>\n",
       "      <td>0</td>\n",
       "      <td>1</td>\n",
       "      <td>0</td>\n",
       "      <td>1</td>\n",
       "      <td>0</td>\n",
       "      <td>...</td>\n",
       "      <td>4.200000</td>\n",
       "      <td>4.200000</td>\n",
       "      <td>0.000000</td>\n",
       "      <td>0.000000</td>\n",
       "      <td>12.100000</td>\n",
       "      <td>0.000000</td>\n",
       "      <td>9.400000</td>\n",
       "      <td>0.000000</td>\n",
       "      <td>0.000000</td>\n",
       "      <td>9.960000</td>\n",
       "    </tr>\n",
       "    <tr>\n",
       "      <th>4</th>\n",
       "      <td>18</td>\n",
       "      <td>2012</td>\n",
       "      <td>4</td>\n",
       "      <td>0</td>\n",
       "      <td>1</td>\n",
       "      <td>0</td>\n",
       "      <td>1</td>\n",
       "      <td>0</td>\n",
       "      <td>1</td>\n",
       "      <td>0</td>\n",
       "      <td>...</td>\n",
       "      <td>5.460000</td>\n",
       "      <td>5.460000</td>\n",
       "      <td>0.000000</td>\n",
       "      <td>0.000000</td>\n",
       "      <td>13.360000</td>\n",
       "      <td>0.000000</td>\n",
       "      <td>10.320000</td>\n",
       "      <td>0.000000</td>\n",
       "      <td>0.000000</td>\n",
       "      <td>10.280000</td>\n",
       "    </tr>\n",
       "    <tr>\n",
       "      <th>...</th>\n",
       "      <td>...</td>\n",
       "      <td>...</td>\n",
       "      <td>...</td>\n",
       "      <td>...</td>\n",
       "      <td>...</td>\n",
       "      <td>...</td>\n",
       "      <td>...</td>\n",
       "      <td>...</td>\n",
       "      <td>...</td>\n",
       "      <td>...</td>\n",
       "      <td>...</td>\n",
       "      <td>...</td>\n",
       "      <td>...</td>\n",
       "      <td>...</td>\n",
       "      <td>...</td>\n",
       "      <td>...</td>\n",
       "      <td>...</td>\n",
       "      <td>...</td>\n",
       "      <td>...</td>\n",
       "      <td>...</td>\n",
       "      <td>...</td>\n",
       "    </tr>\n",
       "    <tr>\n",
       "      <th>643685</th>\n",
       "      <td>1827860</td>\n",
       "      <td>2013</td>\n",
       "      <td>1</td>\n",
       "      <td>0</td>\n",
       "      <td>0</td>\n",
       "      <td>0</td>\n",
       "      <td>1</td>\n",
       "      <td>0</td>\n",
       "      <td>0</td>\n",
       "      <td>1</td>\n",
       "      <td>...</td>\n",
       "      <td>0.000000</td>\n",
       "      <td>0.000000</td>\n",
       "      <td>0.000000</td>\n",
       "      <td>0.000000</td>\n",
       "      <td>0.612903</td>\n",
       "      <td>0.000000</td>\n",
       "      <td>0.000000</td>\n",
       "      <td>0.000000</td>\n",
       "      <td>0.000000</td>\n",
       "      <td>0.000000</td>\n",
       "    </tr>\n",
       "    <tr>\n",
       "      <th>643686</th>\n",
       "      <td>1827860</td>\n",
       "      <td>2015</td>\n",
       "      <td>2</td>\n",
       "      <td>1</td>\n",
       "      <td>0</td>\n",
       "      <td>0</td>\n",
       "      <td>1</td>\n",
       "      <td>0</td>\n",
       "      <td>1</td>\n",
       "      <td>0</td>\n",
       "      <td>...</td>\n",
       "      <td>0.000000</td>\n",
       "      <td>0.000000</td>\n",
       "      <td>0.212121</td>\n",
       "      <td>0.212121</td>\n",
       "      <td>17.363636</td>\n",
       "      <td>0.000000</td>\n",
       "      <td>8.909091</td>\n",
       "      <td>0.000000</td>\n",
       "      <td>0.000000</td>\n",
       "      <td>7.121212</td>\n",
       "    </tr>\n",
       "    <tr>\n",
       "      <th>643687</th>\n",
       "      <td>1827860</td>\n",
       "      <td>2016</td>\n",
       "      <td>3</td>\n",
       "      <td>1</td>\n",
       "      <td>0</td>\n",
       "      <td>0</td>\n",
       "      <td>1</td>\n",
       "      <td>1</td>\n",
       "      <td>0</td>\n",
       "      <td>1</td>\n",
       "      <td>...</td>\n",
       "      <td>0.000000</td>\n",
       "      <td>0.000000</td>\n",
       "      <td>0.294118</td>\n",
       "      <td>0.205882</td>\n",
       "      <td>34.705882</td>\n",
       "      <td>0.000000</td>\n",
       "      <td>10.352941</td>\n",
       "      <td>1.705882</td>\n",
       "      <td>1.705882</td>\n",
       "      <td>23.911765</td>\n",
       "    </tr>\n",
       "    <tr>\n",
       "      <th>643688</th>\n",
       "      <td>1827869</td>\n",
       "      <td>2013</td>\n",
       "      <td>1</td>\n",
       "      <td>1</td>\n",
       "      <td>1</td>\n",
       "      <td>0</td>\n",
       "      <td>0</td>\n",
       "      <td>0</td>\n",
       "      <td>1</td>\n",
       "      <td>0</td>\n",
       "      <td>...</td>\n",
       "      <td>0.000000</td>\n",
       "      <td>0.000000</td>\n",
       "      <td>0.000000</td>\n",
       "      <td>0.000000</td>\n",
       "      <td>0.000000</td>\n",
       "      <td>0.525424</td>\n",
       "      <td>0.000000</td>\n",
       "      <td>0.000000</td>\n",
       "      <td>0.000000</td>\n",
       "      <td>0.000000</td>\n",
       "    </tr>\n",
       "    <tr>\n",
       "      <th>643689</th>\n",
       "      <td>1827869</td>\n",
       "      <td>2014</td>\n",
       "      <td>2</td>\n",
       "      <td>0</td>\n",
       "      <td>0</td>\n",
       "      <td>1</td>\n",
       "      <td>0</td>\n",
       "      <td>0</td>\n",
       "      <td>1</td>\n",
       "      <td>0</td>\n",
       "      <td>...</td>\n",
       "      <td>0.000000</td>\n",
       "      <td>0.666667</td>\n",
       "      <td>0.666667</td>\n",
       "      <td>0.000000</td>\n",
       "      <td>0.000000</td>\n",
       "      <td>8.950000</td>\n",
       "      <td>1.033333</td>\n",
       "      <td>0.083333</td>\n",
       "      <td>0.083333</td>\n",
       "      <td>8.133333</td>\n",
       "    </tr>\n",
       "  </tbody>\n",
       "</table>\n",
       "<p>643690 rows × 164 columns</p>\n",
       "</div>"
      ],
      "text/plain": [
       "         persnr  year  nrEntry  ltue  employed_before  receipt_leh_before  \\\n",
       "0             7  2015        1     0                1                   0   \n",
       "1            18  2010        1     1                0                   0   \n",
       "2            18  2011        2     0                1                   0   \n",
       "3            18  2012        3     0                1                   0   \n",
       "4            18  2012        4     0                1                   0   \n",
       "...         ...   ...      ...   ...              ...                 ...   \n",
       "643685  1827860  2013        1     0                0                   0   \n",
       "643686  1827860  2015        2     1                0                   0   \n",
       "643687  1827860  2016        3     1                0                   0   \n",
       "643688  1827869  2013        1     1                1                   0   \n",
       "643689  1827869  2014        2     0                0                   1   \n",
       "\n",
       "        receipt_lhg_before  se_before  ASU_notue_seeking_before  \\\n",
       "0                        0          0                         1   \n",
       "1                        0          0                         0   \n",
       "2                        1          0                         1   \n",
       "3                        1          0                         1   \n",
       "4                        1          0                         1   \n",
       "...                    ...        ...                       ...   \n",
       "643685                   1          0                         0   \n",
       "643686                   1          0                         1   \n",
       "643687                   1          1                         0   \n",
       "643688                   0          0                         1   \n",
       "643689                   0          0                         1   \n",
       "\n",
       "        ASU_other_before  ...  minijob_tot_dur_byage  ft_tot_dur_byage  \\\n",
       "0                      0  ...               0.000000          0.000000   \n",
       "1                      0  ...               0.000000          0.000000   \n",
       "2                      0  ...               2.714286          2.714286   \n",
       "3                      0  ...               4.200000          4.200000   \n",
       "4                      0  ...               5.460000          5.460000   \n",
       "...                  ...  ...                    ...               ...   \n",
       "643685                 1  ...               0.000000          0.000000   \n",
       "643686                 0  ...               0.000000          0.000000   \n",
       "643687                 1  ...               0.000000          0.000000   \n",
       "643688                 0  ...               0.000000          0.000000   \n",
       "643689                 0  ...               0.000000          0.666667   \n",
       "\n",
       "        befrist_tot_dur_byage  leih_tot_dur_byage  LHG_tot_dur_byage  \\\n",
       "0                   15.043478            0.000000           0.000000   \n",
       "1                    0.000000            0.000000           0.000000   \n",
       "2                    0.000000            0.000000          10.775510   \n",
       "3                    0.000000            0.000000          12.100000   \n",
       "4                    0.000000            0.000000          13.360000   \n",
       "...                       ...                 ...                ...   \n",
       "643685               0.000000            0.000000           0.612903   \n",
       "643686               0.212121            0.212121          17.363636   \n",
       "643687               0.294118            0.205882          34.705882   \n",
       "643688               0.000000            0.000000           0.000000   \n",
       "643689               0.666667            0.000000           0.000000   \n",
       "\n",
       "        LEH_tot_dur_byage  almp_tot_dur_byage  almp_aw_tot_dur_byage  \\\n",
       "0                0.000000            0.000000               0.000000   \n",
       "1                0.000000            0.000000               0.000000   \n",
       "2                0.000000            8.367347               0.000000   \n",
       "3                0.000000            9.400000               0.000000   \n",
       "4                0.000000           10.320000               0.000000   \n",
       "...                   ...                 ...                    ...   \n",
       "643685           0.000000            0.000000               0.000000   \n",
       "643686           0.000000            8.909091               0.000000   \n",
       "643687           0.000000           10.352941               1.705882   \n",
       "643688           0.525424            0.000000               0.000000   \n",
       "643689           8.950000            1.033333               0.083333   \n",
       "\n",
       "        se_tot_dur_byage  seeking1_tot_dur_byage  \n",
       "0               0.000000                0.000000  \n",
       "1               0.000000                0.000000  \n",
       "2               0.000000                9.836735  \n",
       "3               0.000000                9.960000  \n",
       "4               0.000000               10.280000  \n",
       "...                  ...                     ...  \n",
       "643685          0.000000                0.000000  \n",
       "643686          0.000000                7.121212  \n",
       "643687          1.705882               23.911765  \n",
       "643688          0.000000                0.000000  \n",
       "643689          0.083333                8.133333  \n",
       "\n",
       "[643690 rows x 164 columns]"
      ]
     },
     "execution_count": 10,
     "metadata": {},
     "output_type": "execute_result"
    }
   ],
   "source": [
    "siab"
   ]
  },
  {
   "cell_type": "markdown",
   "id": "1f87e805",
   "metadata": {
    "papermill": {
     "duration": 0.0102,
     "end_time": "2025-08-19T18:38:11.502742",
     "exception": false,
     "start_time": "2025-08-19T18:38:11.492542",
     "status": "completed"
    },
    "tags": []
   },
   "source": [
    "# Splitting Data and Setting Training Data Size"
   ]
  },
  {
   "cell_type": "code",
   "execution_count": 11,
   "id": "910ae358",
   "metadata": {
    "execution": {
     "iopub.execute_input": "2025-08-19T18:38:11.523943Z",
     "iopub.status.busy": "2025-08-19T18:38:11.523606Z",
     "iopub.status.idle": "2025-08-19T18:38:12.306229Z",
     "shell.execute_reply": "2025-08-19T18:38:12.305395Z"
    },
    "papermill": {
     "duration": 0.795435,
     "end_time": "2025-08-19T18:38:12.307973",
     "exception": false,
     "start_time": "2025-08-19T18:38:11.512538",
     "status": "completed"
    },
    "tags": []
   },
   "outputs": [],
   "source": [
    "from fairness_multiverse.universe import sample_by_year_size\n",
    "\n",
    "siab_train = sample_by_year_size(siab,\n",
    "                               training_year=universe[\"training_year\"],\n",
    "                               training_size=universe[\"training_size\"])"
   ]
  },
  {
   "cell_type": "code",
   "execution_count": 12,
   "id": "919c8ff5",
   "metadata": {
    "execution": {
     "iopub.execute_input": "2025-08-19T18:38:12.351042Z",
     "iopub.status.busy": "2025-08-19T18:38:12.350703Z",
     "iopub.status.idle": "2025-08-19T18:38:12.358696Z",
     "shell.execute_reply": "2025-08-19T18:38:12.358018Z"
    },
    "papermill": {
     "duration": 0.031073,
     "end_time": "2025-08-19T18:38:12.360252",
     "exception": false,
     "start_time": "2025-08-19T18:38:12.329179",
     "status": "completed"
    },
    "tags": []
   },
   "outputs": [
    {
     "data": {
      "text/plain": [
       "(5000, 164)"
      ]
     },
     "execution_count": 12,
     "metadata": {},
     "output_type": "execute_result"
    }
   ],
   "source": [
    "siab_train.shape"
   ]
  },
  {
   "cell_type": "code",
   "execution_count": 13,
   "id": "feb13bf4",
   "metadata": {
    "execution": {
     "iopub.execute_input": "2025-08-19T18:38:12.406970Z",
     "iopub.status.busy": "2025-08-19T18:38:12.406655Z",
     "iopub.status.idle": "2025-08-19T18:38:12.415885Z",
     "shell.execute_reply": "2025-08-19T18:38:12.415155Z"
    },
    "papermill": {
     "duration": 0.032044,
     "end_time": "2025-08-19T18:38:12.417171",
     "exception": false,
     "start_time": "2025-08-19T18:38:12.385127",
     "status": "completed"
    },
    "tags": []
   },
   "outputs": [
    {
     "data": {
      "text/plain": [
       "year\n",
       "2012    1667\n",
       "2013    1667\n",
       "2014    1666\n",
       "dtype: int64"
      ]
     },
     "metadata": {},
     "output_type": "display_data"
    }
   ],
   "source": [
    "display(siab_train.groupby(\"year\").size())"
   ]
  },
  {
   "cell_type": "code",
   "execution_count": 14,
   "id": "0997782f",
   "metadata": {
    "execution": {
     "iopub.execute_input": "2025-08-19T18:38:12.440393Z",
     "iopub.status.busy": "2025-08-19T18:38:12.439807Z",
     "iopub.status.idle": "2025-08-19T18:38:12.806132Z",
     "shell.execute_reply": "2025-08-19T18:38:12.805402Z"
    },
    "papermill": {
     "duration": 0.379735,
     "end_time": "2025-08-19T18:38:12.807705",
     "exception": false,
     "start_time": "2025-08-19T18:38:12.427970",
     "status": "completed"
    },
    "tags": []
   },
   "outputs": [],
   "source": [
    "#siab_train = siab_s[siab_s.year < 2015]\n",
    "siab_calib = siab[siab.year == 2015]\n",
    "siab_test = siab[siab.year == 2016]"
   ]
  },
  {
   "cell_type": "code",
   "execution_count": 15,
   "id": "2c1e4012",
   "metadata": {
    "execution": {
     "iopub.execute_input": "2025-08-19T18:38:12.847953Z",
     "iopub.status.busy": "2025-08-19T18:38:12.847328Z",
     "iopub.status.idle": "2025-08-19T18:38:12.853444Z",
     "shell.execute_reply": "2025-08-19T18:38:12.852350Z"
    },
    "papermill": {
     "duration": 0.026743,
     "end_time": "2025-08-19T18:38:12.855567",
     "exception": false,
     "start_time": "2025-08-19T18:38:12.828824",
     "status": "completed"
    },
    "tags": []
   },
   "outputs": [],
   "source": [
    "#siab_calib.shape"
   ]
  },
  {
   "cell_type": "code",
   "execution_count": 16,
   "id": "f66b54ca",
   "metadata": {
    "execution": {
     "iopub.execute_input": "2025-08-19T18:38:12.942994Z",
     "iopub.status.busy": "2025-08-19T18:38:12.942587Z",
     "iopub.status.idle": "2025-08-19T18:38:12.946605Z",
     "shell.execute_reply": "2025-08-19T18:38:12.945980Z"
    },
    "papermill": {
     "duration": 0.030884,
     "end_time": "2025-08-19T18:38:12.947640",
     "exception": false,
     "start_time": "2025-08-19T18:38:12.916756",
     "status": "completed"
    },
    "tags": []
   },
   "outputs": [],
   "source": [
    "#siab_test.shape"
   ]
  },
  {
   "cell_type": "code",
   "execution_count": 17,
   "id": "27e4384d",
   "metadata": {
    "execution": {
     "iopub.execute_input": "2025-08-19T18:38:13.021202Z",
     "iopub.status.busy": "2025-08-19T18:38:13.020797Z",
     "iopub.status.idle": "2025-08-19T18:38:13.028620Z",
     "shell.execute_reply": "2025-08-19T18:38:13.027777Z"
    },
    "papermill": {
     "duration": 0.054433,
     "end_time": "2025-08-19T18:38:13.031249",
     "exception": false,
     "start_time": "2025-08-19T18:38:12.976816",
     "status": "completed"
    },
    "tags": []
   },
   "outputs": [],
   "source": [
    "X_train = siab_train.iloc[:,4:164]\n",
    "y_train = siab_train.iloc[:, [3]]"
   ]
  },
  {
   "cell_type": "code",
   "execution_count": 18,
   "id": "08ee8389",
   "metadata": {
    "execution": {
     "iopub.execute_input": "2025-08-19T18:38:13.082497Z",
     "iopub.status.busy": "2025-08-19T18:38:13.082089Z",
     "iopub.status.idle": "2025-08-19T18:38:13.181946Z",
     "shell.execute_reply": "2025-08-19T18:38:13.180943Z"
    },
    "papermill": {
     "duration": 0.128977,
     "end_time": "2025-08-19T18:38:13.183828",
     "exception": false,
     "start_time": "2025-08-19T18:38:13.054851",
     "status": "completed"
    },
    "tags": []
   },
   "outputs": [],
   "source": [
    "X_calib = siab_calib.iloc[:,4:164]\n",
    "y_calib = siab_calib.iloc[:, [3]]"
   ]
  },
  {
   "cell_type": "code",
   "execution_count": 19,
   "id": "b7ff42e0",
   "metadata": {
    "execution": {
     "iopub.execute_input": "2025-08-19T18:38:13.231239Z",
     "iopub.status.busy": "2025-08-19T18:38:13.230812Z",
     "iopub.status.idle": "2025-08-19T18:38:13.319957Z",
     "shell.execute_reply": "2025-08-19T18:38:13.319175Z"
    },
    "papermill": {
     "duration": 0.112927,
     "end_time": "2025-08-19T18:38:13.321624",
     "exception": false,
     "start_time": "2025-08-19T18:38:13.208697",
     "status": "completed"
    },
    "tags": []
   },
   "outputs": [],
   "source": [
    "X_test = siab_test.iloc[:,4:164]\n",
    "y_true = siab_test.iloc[:, [3]]"
   ]
  },
  {
   "cell_type": "code",
   "execution_count": 20,
   "id": "0275101e",
   "metadata": {
    "execution": {
     "iopub.execute_input": "2025-08-19T18:38:13.347238Z",
     "iopub.status.busy": "2025-08-19T18:38:13.346802Z",
     "iopub.status.idle": "2025-08-19T18:38:13.554152Z",
     "shell.execute_reply": "2025-08-19T18:38:13.553426Z"
    },
    "papermill": {
     "duration": 0.221152,
     "end_time": "2025-08-19T18:38:13.555832",
     "exception": false,
     "start_time": "2025-08-19T18:38:13.334680",
     "status": "completed"
    },
    "tags": []
   },
   "outputs": [],
   "source": [
    "# Auxiliary data needed downstream in the pipeline\n",
    "\n",
    "org_train = X_train.copy()\n",
    "org_test = X_test.copy()\n",
    "org_calib = X_calib.copy()"
   ]
  },
  {
   "cell_type": "markdown",
   "id": "b461e618",
   "metadata": {
    "papermill": {
     "duration": 0.024201,
     "end_time": "2025-08-19T18:38:13.605364",
     "exception": false,
     "start_time": "2025-08-19T18:38:13.581163",
     "status": "completed"
    },
    "tags": []
   },
   "source": [
    "# Preprocessing Data"
   ]
  },
  {
   "cell_type": "code",
   "execution_count": 21,
   "id": "78e74c4b",
   "metadata": {
    "execution": {
     "iopub.execute_input": "2025-08-19T18:38:13.641683Z",
     "iopub.status.busy": "2025-08-19T18:38:13.641267Z",
     "iopub.status.idle": "2025-08-19T18:38:13.646003Z",
     "shell.execute_reply": "2025-08-19T18:38:13.645284Z"
    },
    "papermill": {
     "duration": 0.018599,
     "end_time": "2025-08-19T18:38:13.647699",
     "exception": false,
     "start_time": "2025-08-19T18:38:13.629100",
     "status": "completed"
    },
    "tags": []
   },
   "outputs": [],
   "source": [
    "# EXCLUDE PROTECTED FEATURES\n",
    "# --------------------------\n",
    "\n",
    "excluded_features = universe[\"exclude_features\"].split(\"-\")\n",
    "excluded_features_dictionary = {\n",
    "    \"nationality\": [\"maxdeutsch1\", \"maxdeutsch.Missing.\"],\n",
    "    \"sex\": [\"frau1\"],\n",
    "    \"age\": [\"age\"],\n",
    "}"
   ]
  },
  {
   "cell_type": "code",
   "execution_count": 22,
   "id": "f8e63555",
   "metadata": {
    "execution": {
     "iopub.execute_input": "2025-08-19T18:38:13.671023Z",
     "iopub.status.busy": "2025-08-19T18:38:13.670597Z",
     "iopub.status.idle": "2025-08-19T18:38:13.675071Z",
     "shell.execute_reply": "2025-08-19T18:38:13.674443Z"
    },
    "papermill": {
     "duration": 0.017911,
     "end_time": "2025-08-19T18:38:13.676667",
     "exception": false,
     "start_time": "2025-08-19T18:38:13.658756",
     "status": "completed"
    },
    "tags": []
   },
   "outputs": [],
   "source": [
    "excluded_features_columns = [\n",
    "    excluded_features_dictionary[f] for f in excluded_features if len(f) > 0 and f != \"none\"\n",
    "]"
   ]
  },
  {
   "cell_type": "code",
   "execution_count": 23,
   "id": "da781f7c",
   "metadata": {
    "execution": {
     "iopub.execute_input": "2025-08-19T18:38:13.699574Z",
     "iopub.status.busy": "2025-08-19T18:38:13.699153Z",
     "iopub.status.idle": "2025-08-19T18:38:13.703445Z",
     "shell.execute_reply": "2025-08-19T18:38:13.702801Z"
    },
    "papermill": {
     "duration": 0.017742,
     "end_time": "2025-08-19T18:38:13.705065",
     "exception": false,
     "start_time": "2025-08-19T18:38:13.687323",
     "status": "completed"
    },
    "tags": []
   },
   "outputs": [],
   "source": [
    "from fairness_multiverse.universe import flatten_once\n",
    "\n",
    "excluded_features_columns = flatten_once(excluded_features_columns)"
   ]
  },
  {
   "cell_type": "code",
   "execution_count": 24,
   "id": "37fef0f0",
   "metadata": {
    "execution": {
     "iopub.execute_input": "2025-08-19T18:38:13.728333Z",
     "iopub.status.busy": "2025-08-19T18:38:13.727927Z",
     "iopub.status.idle": "2025-08-19T18:38:13.740845Z",
     "shell.execute_reply": "2025-08-19T18:38:13.740026Z"
    },
    "papermill": {
     "duration": 0.026443,
     "end_time": "2025-08-19T18:38:13.742395",
     "exception": false,
     "start_time": "2025-08-19T18:38:13.715952",
     "status": "completed"
    },
    "tags": []
   },
   "outputs": [
    {
     "name": "stdout",
     "output_type": "stream",
     "text": [
      "Dropping features: ['maxdeutsch1', 'maxdeutsch.Missing.']\n"
     ]
    }
   ],
   "source": [
    "if len(excluded_features_columns) > 0:\n",
    "    print(f\"Dropping features: {excluded_features_columns}\")\n",
    "    X_train.drop(excluded_features_columns, axis=1, inplace=True)"
   ]
  },
  {
   "cell_type": "code",
   "execution_count": 25,
   "id": "d029e3e9",
   "metadata": {
    "execution": {
     "iopub.execute_input": "2025-08-19T18:38:13.794945Z",
     "iopub.status.busy": "2025-08-19T18:38:13.794554Z",
     "iopub.status.idle": "2025-08-19T18:38:13.909349Z",
     "shell.execute_reply": "2025-08-19T18:38:13.908539Z"
    },
    "papermill": {
     "duration": 0.156129,
     "end_time": "2025-08-19T18:38:13.911104",
     "exception": false,
     "start_time": "2025-08-19T18:38:13.754975",
     "status": "completed"
    },
    "tags": []
   },
   "outputs": [
    {
     "name": "stdout",
     "output_type": "stream",
     "text": [
      "Dropping features: ['maxdeutsch1', 'maxdeutsch.Missing.']\n"
     ]
    }
   ],
   "source": [
    "if len(excluded_features_columns) > 0:\n",
    "    print(f\"Dropping features: {excluded_features_columns}\")\n",
    "    X_test.drop(excluded_features_columns, axis=1, inplace=True)"
   ]
  },
  {
   "cell_type": "code",
   "execution_count": 26,
   "id": "01d571f0",
   "metadata": {
    "execution": {
     "iopub.execute_input": "2025-08-19T18:38:13.940153Z",
     "iopub.status.busy": "2025-08-19T18:38:13.939746Z",
     "iopub.status.idle": "2025-08-19T18:38:14.022691Z",
     "shell.execute_reply": "2025-08-19T18:38:14.022008Z"
    },
    "papermill": {
     "duration": 0.10124,
     "end_time": "2025-08-19T18:38:14.023990",
     "exception": false,
     "start_time": "2025-08-19T18:38:13.922750",
     "status": "completed"
    },
    "tags": []
   },
   "outputs": [
    {
     "name": "stdout",
     "output_type": "stream",
     "text": [
      "Dropping features: ['maxdeutsch1', 'maxdeutsch.Missing.']\n"
     ]
    }
   ],
   "source": [
    "if len(excluded_features_columns) > 0:\n",
    "    print(f\"Dropping features: {excluded_features_columns}\")\n",
    "    X_calib.drop(excluded_features_columns, axis=1, inplace=True)"
   ]
  },
  {
   "cell_type": "code",
   "execution_count": 27,
   "id": "3037356e",
   "metadata": {
    "execution": {
     "iopub.execute_input": "2025-08-19T18:38:14.048677Z",
     "iopub.status.busy": "2025-08-19T18:38:14.048236Z",
     "iopub.status.idle": "2025-08-19T18:38:14.052532Z",
     "shell.execute_reply": "2025-08-19T18:38:14.051873Z"
    },
    "papermill": {
     "duration": 0.018398,
     "end_time": "2025-08-19T18:38:14.054196",
     "exception": false,
     "start_time": "2025-08-19T18:38:14.035798",
     "status": "completed"
    },
    "tags": []
   },
   "outputs": [],
   "source": [
    "# EXCLUDE CERTAIN SUBGROUPS\n",
    "# -------------------------\n",
    "\n",
    "mode = universe.get(\"exclude_subgroups\", \"keep-all\") # Defaults to \"keep-all\" if the key is missing."
   ]
  },
  {
   "cell_type": "code",
   "execution_count": 28,
   "id": "9d1e63fd",
   "metadata": {
    "execution": {
     "iopub.execute_input": "2025-08-19T18:38:14.078411Z",
     "iopub.status.busy": "2025-08-19T18:38:14.077984Z",
     "iopub.status.idle": "2025-08-19T18:38:14.083755Z",
     "shell.execute_reply": "2025-08-19T18:38:14.083140Z"
    },
    "papermill": {
     "duration": 0.021296,
     "end_time": "2025-08-19T18:38:14.086752",
     "exception": false,
     "start_time": "2025-08-19T18:38:14.065456",
     "status": "completed"
    },
    "tags": []
   },
   "outputs": [],
   "source": [
    "if mode == \"keep-all\":\n",
    "    keep_mask = pd.Series(True, index=org_train.index)\n",
    "\n",
    "elif mode == \"drop-non-german\":\n",
    "    keep_mask = (org_train[\"maxdeutsch1\"] == 1) & (org_train[\"maxdeutsch.Missing.\"] == 0)\n",
    "\n",
    "else:\n",
    "    raise ValueError(f\"Unsupported mode for exclude_subgroups: {mode}\")"
   ]
  },
  {
   "cell_type": "code",
   "execution_count": 29,
   "id": "d3b65474",
   "metadata": {
    "execution": {
     "iopub.execute_input": "2025-08-19T18:38:14.111870Z",
     "iopub.status.busy": "2025-08-19T18:38:14.111453Z",
     "iopub.status.idle": "2025-08-19T18:38:14.117089Z",
     "shell.execute_reply": "2025-08-19T18:38:14.116421Z"
    },
    "papermill": {
     "duration": 0.020345,
     "end_time": "2025-08-19T18:38:14.119435",
     "exception": false,
     "start_time": "2025-08-19T18:38:14.099090",
     "status": "completed"
    },
    "tags": []
   },
   "outputs": [
    {
     "name": "stdout",
     "output_type": "stream",
     "text": [
      "Dropping 665 rows (13.30%) where mode='drop-non-german'\n"
     ]
    }
   ],
   "source": [
    "n_drop = (~keep_mask).sum() # Calculates how many rows are set to be dropped\n",
    "if n_drop > 0:\n",
    "    pct = n_drop / len(keep_mask) * 100\n",
    "    print(f\"Dropping {n_drop} rows ({pct:.2f}%) where mode='{mode}'\")"
   ]
  },
  {
   "cell_type": "code",
   "execution_count": 30,
   "id": "f44389b3",
   "metadata": {
    "execution": {
     "iopub.execute_input": "2025-08-19T18:38:14.186898Z",
     "iopub.status.busy": "2025-08-19T18:38:14.186508Z",
     "iopub.status.idle": "2025-08-19T18:38:14.194172Z",
     "shell.execute_reply": "2025-08-19T18:38:14.193562Z"
    },
    "papermill": {
     "duration": 0.033352,
     "end_time": "2025-08-19T18:38:14.195761",
     "exception": false,
     "start_time": "2025-08-19T18:38:14.162409",
     "status": "completed"
    },
    "tags": []
   },
   "outputs": [],
   "source": [
    "X_train = X_train[keep_mask]"
   ]
  },
  {
   "cell_type": "code",
   "execution_count": 31,
   "id": "ceca8c2a",
   "metadata": {
    "execution": {
     "iopub.execute_input": "2025-08-19T18:38:14.247074Z",
     "iopub.status.busy": "2025-08-19T18:38:14.246663Z",
     "iopub.status.idle": "2025-08-19T18:38:14.252097Z",
     "shell.execute_reply": "2025-08-19T18:38:14.251490Z"
    },
    "papermill": {
     "duration": 0.03226,
     "end_time": "2025-08-19T18:38:14.253325",
     "exception": false,
     "start_time": "2025-08-19T18:38:14.221065",
     "status": "completed"
    },
    "tags": []
   },
   "outputs": [],
   "source": [
    "y_train = y_train[keep_mask]"
   ]
  },
  {
   "cell_type": "markdown",
   "id": "04d31e2f",
   "metadata": {
    "papermill": {
     "duration": 0.011136,
     "end_time": "2025-08-19T18:38:14.275503",
     "exception": false,
     "start_time": "2025-08-19T18:38:14.264367",
     "status": "completed"
    },
    "tags": []
   },
   "source": [
    "# Model Training"
   ]
  },
  {
   "cell_type": "code",
   "execution_count": 32,
   "id": "db991733",
   "metadata": {
    "execution": {
     "iopub.execute_input": "2025-08-19T18:38:14.299195Z",
     "iopub.status.busy": "2025-08-19T18:38:14.298769Z",
     "iopub.status.idle": "2025-08-19T18:38:14.426512Z",
     "shell.execute_reply": "2025-08-19T18:38:14.425458Z"
    },
    "papermill": {
     "duration": 0.142149,
     "end_time": "2025-08-19T18:38:14.428695",
     "exception": false,
     "start_time": "2025-08-19T18:38:14.286546",
     "status": "completed"
    },
    "tags": []
   },
   "outputs": [],
   "source": [
    "from sklearn.linear_model import LogisticRegression\n",
    "from sklearn.ensemble import GradientBoostingClassifier, RandomForestClassifier\n",
    "\n",
    "if (universe[\"model\"] == \"logreg\"):\n",
    "    model = LogisticRegression() #penalty=\"none\", solver=\"newton-cg\", max_iter=1)\n",
    "elif (universe[\"model\"] == \"penalized_logreg\"):\n",
    "    model = LogisticRegression(penalty=\"l2\", C=0.1) #, solver=\"newton-cg\", max_iter=1)\n",
    "elif (universe[\"model\"] == \"rf\"):\n",
    "    model = RandomForestClassifier() # n_estimators=100, n_jobs=-1\n",
    "elif (universe[\"model\"] == \"gbm\"):\n",
    "    model = GradientBoostingClassifier()\n",
    "elif (universe[\"model\"] == \"elasticnet\"):\n",
    "    model = LogisticRegression(penalty = 'elasticnet', solver = 'saga', l1_ratio = 0.5) # max_iter=5000\n",
    "else:\n",
    "    raise \"Unsupported universe.model\""
   ]
  },
  {
   "cell_type": "code",
   "execution_count": 33,
   "id": "a4b5cd25",
   "metadata": {
    "execution": {
     "iopub.execute_input": "2025-08-19T18:38:14.467392Z",
     "iopub.status.busy": "2025-08-19T18:38:14.466850Z",
     "iopub.status.idle": "2025-08-19T18:38:14.472691Z",
     "shell.execute_reply": "2025-08-19T18:38:14.471774Z"
    },
    "papermill": {
     "duration": 0.032927,
     "end_time": "2025-08-19T18:38:14.474134",
     "exception": false,
     "start_time": "2025-08-19T18:38:14.441207",
     "status": "completed"
    },
    "tags": []
   },
   "outputs": [],
   "source": [
    "from sklearn.pipeline import Pipeline\n",
    "from sklearn.preprocessing import StandardScaler\n",
    "\n",
    "model = Pipeline([\n",
    "    #(\"continuous_processor\", continuous_processor),\n",
    "    #(\"categorical_preprocessor\", categorical_preprocessor),\n",
    "    (\"scale\", StandardScaler() if universe[\"scale\"] == \"scale\" else None), \n",
    "    (\"model\", model),\n",
    "])"
   ]
  },
  {
   "cell_type": "code",
   "execution_count": 34,
   "id": "283a904d",
   "metadata": {
    "execution": {
     "iopub.execute_input": "2025-08-19T18:38:14.562413Z",
     "iopub.status.busy": "2025-08-19T18:38:14.562000Z",
     "iopub.status.idle": "2025-08-19T18:38:20.810401Z",
     "shell.execute_reply": "2025-08-19T18:38:20.809354Z"
    },
    "papermill": {
     "duration": 6.292162,
     "end_time": "2025-08-19T18:38:20.812910",
     "exception": false,
     "start_time": "2025-08-19T18:38:14.520748",
     "status": "completed"
    },
    "tags": []
   },
   "outputs": [
    {
     "data": {
      "text/html": [
       "<style>#sk-container-id-1 {color: black;background-color: white;}#sk-container-id-1 pre{padding: 0;}#sk-container-id-1 div.sk-toggleable {background-color: white;}#sk-container-id-1 label.sk-toggleable__label {cursor: pointer;display: block;width: 100%;margin-bottom: 0;padding: 0.3em;box-sizing: border-box;text-align: center;}#sk-container-id-1 label.sk-toggleable__label-arrow:before {content: \"▸\";float: left;margin-right: 0.25em;color: #696969;}#sk-container-id-1 label.sk-toggleable__label-arrow:hover:before {color: black;}#sk-container-id-1 div.sk-estimator:hover label.sk-toggleable__label-arrow:before {color: black;}#sk-container-id-1 div.sk-toggleable__content {max-height: 0;max-width: 0;overflow: hidden;text-align: left;background-color: #f0f8ff;}#sk-container-id-1 div.sk-toggleable__content pre {margin: 0.2em;color: black;border-radius: 0.25em;background-color: #f0f8ff;}#sk-container-id-1 input.sk-toggleable__control:checked~div.sk-toggleable__content {max-height: 200px;max-width: 100%;overflow: auto;}#sk-container-id-1 input.sk-toggleable__control:checked~label.sk-toggleable__label-arrow:before {content: \"▾\";}#sk-container-id-1 div.sk-estimator input.sk-toggleable__control:checked~label.sk-toggleable__label {background-color: #d4ebff;}#sk-container-id-1 div.sk-label input.sk-toggleable__control:checked~label.sk-toggleable__label {background-color: #d4ebff;}#sk-container-id-1 input.sk-hidden--visually {border: 0;clip: rect(1px 1px 1px 1px);clip: rect(1px, 1px, 1px, 1px);height: 1px;margin: -1px;overflow: hidden;padding: 0;position: absolute;width: 1px;}#sk-container-id-1 div.sk-estimator {font-family: monospace;background-color: #f0f8ff;border: 1px dotted black;border-radius: 0.25em;box-sizing: border-box;margin-bottom: 0.5em;}#sk-container-id-1 div.sk-estimator:hover {background-color: #d4ebff;}#sk-container-id-1 div.sk-parallel-item::after {content: \"\";width: 100%;border-bottom: 1px solid gray;flex-grow: 1;}#sk-container-id-1 div.sk-label:hover label.sk-toggleable__label {background-color: #d4ebff;}#sk-container-id-1 div.sk-serial::before {content: \"\";position: absolute;border-left: 1px solid gray;box-sizing: border-box;top: 0;bottom: 0;left: 50%;z-index: 0;}#sk-container-id-1 div.sk-serial {display: flex;flex-direction: column;align-items: center;background-color: white;padding-right: 0.2em;padding-left: 0.2em;position: relative;}#sk-container-id-1 div.sk-item {position: relative;z-index: 1;}#sk-container-id-1 div.sk-parallel {display: flex;align-items: stretch;justify-content: center;background-color: white;position: relative;}#sk-container-id-1 div.sk-item::before, #sk-container-id-1 div.sk-parallel-item::before {content: \"\";position: absolute;border-left: 1px solid gray;box-sizing: border-box;top: 0;bottom: 0;left: 50%;z-index: -1;}#sk-container-id-1 div.sk-parallel-item {display: flex;flex-direction: column;z-index: 1;position: relative;background-color: white;}#sk-container-id-1 div.sk-parallel-item:first-child::after {align-self: flex-end;width: 50%;}#sk-container-id-1 div.sk-parallel-item:last-child::after {align-self: flex-start;width: 50%;}#sk-container-id-1 div.sk-parallel-item:only-child::after {width: 0;}#sk-container-id-1 div.sk-dashed-wrapped {border: 1px dashed gray;margin: 0 0.4em 0.5em 0.4em;box-sizing: border-box;padding-bottom: 0.4em;background-color: white;}#sk-container-id-1 div.sk-label label {font-family: monospace;font-weight: bold;display: inline-block;line-height: 1.2em;}#sk-container-id-1 div.sk-label-container {text-align: center;}#sk-container-id-1 div.sk-container {/* jupyter's `normalize.less` sets `[hidden] { display: none; }` but bootstrap.min.css set `[hidden] { display: none !important; }` so we also need the `!important` here to be able to override the default hidden behavior on the sphinx rendered scikit-learn.org. See: https://github.com/scikit-learn/scikit-learn/issues/21755 */display: inline-block !important;position: relative;}#sk-container-id-1 div.sk-text-repr-fallback {display: none;}</style><div id=\"sk-container-id-1\" class=\"sk-top-container\"><div class=\"sk-text-repr-fallback\"><pre>Pipeline(steps=[(&#x27;scale&#x27;, None), (&#x27;model&#x27;, GradientBoostingClassifier())])</pre><b>In a Jupyter environment, please rerun this cell to show the HTML representation or trust the notebook. <br />On GitHub, the HTML representation is unable to render, please try loading this page with nbviewer.org.</b></div><div class=\"sk-container\" hidden><div class=\"sk-item sk-dashed-wrapped\"><div class=\"sk-label-container\"><div class=\"sk-label sk-toggleable\"><input class=\"sk-toggleable__control sk-hidden--visually\" id=\"sk-estimator-id-1\" type=\"checkbox\" ><label for=\"sk-estimator-id-1\" class=\"sk-toggleable__label sk-toggleable__label-arrow\">Pipeline</label><div class=\"sk-toggleable__content\"><pre>Pipeline(steps=[(&#x27;scale&#x27;, None), (&#x27;model&#x27;, GradientBoostingClassifier())])</pre></div></div></div><div class=\"sk-serial\"><div class=\"sk-item\"><div class=\"sk-estimator sk-toggleable\"><input class=\"sk-toggleable__control sk-hidden--visually\" id=\"sk-estimator-id-2\" type=\"checkbox\" ><label for=\"sk-estimator-id-2\" class=\"sk-toggleable__label sk-toggleable__label-arrow\">None</label><div class=\"sk-toggleable__content\"><pre>None</pre></div></div></div><div class=\"sk-item\"><div class=\"sk-estimator sk-toggleable\"><input class=\"sk-toggleable__control sk-hidden--visually\" id=\"sk-estimator-id-3\" type=\"checkbox\" ><label for=\"sk-estimator-id-3\" class=\"sk-toggleable__label sk-toggleable__label-arrow\">GradientBoostingClassifier</label><div class=\"sk-toggleable__content\"><pre>GradientBoostingClassifier()</pre></div></div></div></div></div></div></div>"
      ],
      "text/plain": [
       "Pipeline(steps=[('scale', None), ('model', GradientBoostingClassifier())])"
      ]
     },
     "execution_count": 34,
     "metadata": {},
     "output_type": "execute_result"
    }
   ],
   "source": [
    "model.fit(X_train, y_train.values.ravel())"
   ]
  },
  {
   "cell_type": "code",
   "execution_count": 35,
   "id": "6e15e313",
   "metadata": {
    "execution": {
     "iopub.execute_input": "2025-08-19T18:38:20.840390Z",
     "iopub.status.busy": "2025-08-19T18:38:20.839921Z",
     "iopub.status.idle": "2025-08-19T18:38:21.749329Z",
     "shell.execute_reply": "2025-08-19T18:38:21.747018Z"
    },
    "papermill": {
     "duration": 0.925103,
     "end_time": "2025-08-19T18:38:21.752328",
     "exception": false,
     "start_time": "2025-08-19T18:38:20.827225",
     "status": "completed"
    },
    "tags": []
   },
   "outputs": [
    {
     "data": {
      "text/plain": [
       "0.862523687437298"
      ]
     },
     "execution_count": 35,
     "metadata": {},
     "output_type": "execute_result"
    }
   ],
   "source": [
    "from fairness_multiverse.universe import predict_w_threshold\n",
    "\n",
    "probs_test = model.predict_proba(X_test)\n",
    "\n",
    "'''\n",
    "Below code returns a boolean array (or binary 0/1 array depending on how it’s used) where each element \n",
    "is True if the probability of class 1 is greater than or equal to the threshold, and False otherwise.\n",
    "'''\n",
    "y_pred_default = predict_w_threshold(probs_test, 0.5)\n",
    "\n",
    "from sklearn.metrics import accuracy_score\n",
    "\n",
    "# Naive prediction\n",
    "accuracy_score(y_true = y_true, y_pred = y_pred_default)"
   ]
  },
  {
   "cell_type": "code",
   "execution_count": 36,
   "id": "6f14067c",
   "metadata": {
    "execution": {
     "iopub.execute_input": "2025-08-19T18:38:21.778401Z",
     "iopub.status.busy": "2025-08-19T18:38:21.777913Z",
     "iopub.status.idle": "2025-08-19T18:38:22.569759Z",
     "shell.execute_reply": "2025-08-19T18:38:22.568657Z"
    },
    "papermill": {
     "duration": 0.805969,
     "end_time": "2025-08-19T18:38:22.571265",
     "exception": false,
     "start_time": "2025-08-19T18:38:21.765296",
     "status": "completed"
    },
    "tags": []
   },
   "outputs": [
    {
     "data": {
      "text/plain": [
       "array([0, 0, 0, ..., 0, 0, 0])"
      ]
     },
     "execution_count": 36,
     "metadata": {},
     "output_type": "execute_result"
    }
   ],
   "source": [
    "model.predict(X_test)"
   ]
  },
  {
   "cell_type": "markdown",
   "id": "3759920c",
   "metadata": {
    "papermill": {
     "duration": 0.012538,
     "end_time": "2025-08-19T18:38:22.598145",
     "exception": false,
     "start_time": "2025-08-19T18:38:22.585607",
     "status": "completed"
    },
    "tags": []
   },
   "source": [
    "# Conformal Prediction"
   ]
  },
  {
   "cell_type": "code",
   "execution_count": 37,
   "id": "14b27f59",
   "metadata": {
    "execution": {
     "iopub.execute_input": "2025-08-19T18:38:22.625758Z",
     "iopub.status.busy": "2025-08-19T18:38:22.625288Z",
     "iopub.status.idle": "2025-08-19T18:38:22.629987Z",
     "shell.execute_reply": "2025-08-19T18:38:22.629302Z"
    },
    "papermill": {
     "duration": 0.021449,
     "end_time": "2025-08-19T18:38:22.631159",
     "exception": false,
     "start_time": "2025-08-19T18:38:22.609710",
     "status": "completed"
    },
    "tags": []
   },
   "outputs": [],
   "source": [
    "# Miscoverage level for conformal prediction (10% allowed error rate => 90% target coverage)\n",
    "alpha = 0.1"
   ]
  },
  {
   "cell_type": "code",
   "execution_count": 38,
   "id": "59102472",
   "metadata": {
    "execution": {
     "iopub.execute_input": "2025-08-19T18:38:22.712622Z",
     "iopub.status.busy": "2025-08-19T18:38:22.712256Z",
     "iopub.status.idle": "2025-08-19T18:38:23.496555Z",
     "shell.execute_reply": "2025-08-19T18:38:23.495141Z"
    },
    "papermill": {
     "duration": 0.805887,
     "end_time": "2025-08-19T18:38:23.498615",
     "exception": false,
     "start_time": "2025-08-19T18:38:22.692728",
     "status": "completed"
    },
    "tags": []
   },
   "outputs": [],
   "source": [
    "probs_calib = model.predict_proba(X_calib)"
   ]
  },
  {
   "cell_type": "code",
   "execution_count": 39,
   "id": "a792d4dd",
   "metadata": {
    "execution": {
     "iopub.execute_input": "2025-08-19T18:38:23.524623Z",
     "iopub.status.busy": "2025-08-19T18:38:23.524111Z",
     "iopub.status.idle": "2025-08-19T18:38:23.530427Z",
     "shell.execute_reply": "2025-08-19T18:38:23.529316Z"
    },
    "papermill": {
     "duration": 0.020868,
     "end_time": "2025-08-19T18:38:23.531928",
     "exception": false,
     "start_time": "2025-08-19T18:38:23.511060",
     "status": "completed"
    },
    "tags": []
   },
   "outputs": [],
   "source": [
    "y_calib = y_calib.values.ravel().astype(int)"
   ]
  },
  {
   "cell_type": "code",
   "execution_count": 40,
   "id": "650fd033",
   "metadata": {
    "execution": {
     "iopub.execute_input": "2025-08-19T18:38:23.557926Z",
     "iopub.status.busy": "2025-08-19T18:38:23.557500Z",
     "iopub.status.idle": "2025-08-19T18:38:23.564836Z",
     "shell.execute_reply": "2025-08-19T18:38:23.563917Z"
    },
    "papermill": {
     "duration": 0.022614,
     "end_time": "2025-08-19T18:38:23.566419",
     "exception": false,
     "start_time": "2025-08-19T18:38:23.543805",
     "status": "completed"
    },
    "tags": []
   },
   "outputs": [],
   "source": [
    "from fairness_multiverse.conformal import compute_nc_scores\n",
    "\n",
    "# Compute nonconformity scores on calibration set (1 - probability of true class)\n",
    "nc_scores = compute_nc_scores(probs_calib, y_calib)"
   ]
  },
  {
   "cell_type": "code",
   "execution_count": 41,
   "id": "28ada44c",
   "metadata": {
    "execution": {
     "iopub.execute_input": "2025-08-19T18:38:23.591276Z",
     "iopub.status.busy": "2025-08-19T18:38:23.590918Z",
     "iopub.status.idle": "2025-08-19T18:38:23.596459Z",
     "shell.execute_reply": "2025-08-19T18:38:23.595798Z"
    },
    "papermill": {
     "duration": 0.019708,
     "end_time": "2025-08-19T18:38:23.598505",
     "exception": false,
     "start_time": "2025-08-19T18:38:23.578797",
     "status": "completed"
    },
    "tags": []
   },
   "outputs": [],
   "source": [
    "from fairness_multiverse.conformal import find_threshold\n",
    "\n",
    "# Find conformal threshold q_hat for the given alpha (split conformal method)\n",
    "q_hat = find_threshold(nc_scores, alpha)"
   ]
  },
  {
   "cell_type": "code",
   "execution_count": 42,
   "id": "df56469e",
   "metadata": {
    "execution": {
     "iopub.execute_input": "2025-08-19T18:38:23.625418Z",
     "iopub.status.busy": "2025-08-19T18:38:23.625057Z",
     "iopub.status.idle": "2025-08-19T18:38:23.630389Z",
     "shell.execute_reply": "2025-08-19T18:38:23.629785Z"
    },
    "papermill": {
     "duration": 0.019785,
     "end_time": "2025-08-19T18:38:23.632654",
     "exception": false,
     "start_time": "2025-08-19T18:38:23.612869",
     "status": "completed"
    },
    "tags": []
   },
   "outputs": [
    {
     "data": {
      "text/plain": [
       "0.6998495830640374"
      ]
     },
     "execution_count": 42,
     "metadata": {},
     "output_type": "execute_result"
    }
   ],
   "source": [
    "q_hat"
   ]
  },
  {
   "cell_type": "code",
   "execution_count": 43,
   "id": "aa1f5faa",
   "metadata": {
    "execution": {
     "iopub.execute_input": "2025-08-19T18:38:23.658089Z",
     "iopub.status.busy": "2025-08-19T18:38:23.657693Z",
     "iopub.status.idle": "2025-08-19T18:38:24.843410Z",
     "shell.execute_reply": "2025-08-19T18:38:24.842264Z"
    },
    "papermill": {
     "duration": 1.200585,
     "end_time": "2025-08-19T18:38:24.845151",
     "exception": false,
     "start_time": "2025-08-19T18:38:23.644566",
     "status": "completed"
    },
    "tags": []
   },
   "outputs": [],
   "source": [
    "from fairness_multiverse.conformal import predict_conformal_sets\n",
    "\n",
    "# Generate prediction sets for each test example\n",
    "pred_sets = predict_conformal_sets(model, X_test, q_hat)"
   ]
  },
  {
   "cell_type": "code",
   "execution_count": 44,
   "id": "97f67a6b",
   "metadata": {
    "execution": {
     "iopub.execute_input": "2025-08-19T18:38:24.879078Z",
     "iopub.status.busy": "2025-08-19T18:38:24.878718Z",
     "iopub.status.idle": "2025-08-19T18:38:24.899440Z",
     "shell.execute_reply": "2025-08-19T18:38:24.898691Z"
    },
    "papermill": {
     "duration": 0.042824,
     "end_time": "2025-08-19T18:38:24.900808",
     "exception": false,
     "start_time": "2025-08-19T18:38:24.857984",
     "status": "completed"
    },
    "tags": []
   },
   "outputs": [],
   "source": [
    "y_true = y_true.squeeze()"
   ]
  },
  {
   "cell_type": "code",
   "execution_count": 45,
   "id": "e700e9a7",
   "metadata": {
    "execution": {
     "iopub.execute_input": "2025-08-19T18:38:24.934981Z",
     "iopub.status.busy": "2025-08-19T18:38:24.934497Z",
     "iopub.status.idle": "2025-08-19T18:38:25.618622Z",
     "shell.execute_reply": "2025-08-19T18:38:25.615963Z"
    },
    "papermill": {
     "duration": 0.706298,
     "end_time": "2025-08-19T18:38:25.620534",
     "exception": false,
     "start_time": "2025-08-19T18:38:24.914236",
     "status": "completed"
    },
    "tags": []
   },
   "outputs": [],
   "source": [
    "from fairness_multiverse.conformal import evaluate_sets\n",
    "\n",
    "# Evaluate coverage and average set size on test data\n",
    "metrics = evaluate_sets(pred_sets, y_true)"
   ]
  },
  {
   "cell_type": "markdown",
   "id": "efbacec0",
   "metadata": {
    "papermill": {
     "duration": 0.025969,
     "end_time": "2025-08-19T18:38:25.661006",
     "exception": false,
     "start_time": "2025-08-19T18:38:25.635037",
     "status": "completed"
    },
    "tags": []
   },
   "source": [
    "# CP Metrics"
   ]
  },
  {
   "cell_type": "code",
   "execution_count": 46,
   "id": "9de55fb1",
   "metadata": {
    "execution": {
     "iopub.execute_input": "2025-08-19T18:38:25.687531Z",
     "iopub.status.busy": "2025-08-19T18:38:25.687168Z",
     "iopub.status.idle": "2025-08-19T18:38:25.693619Z",
     "shell.execute_reply": "2025-08-19T18:38:25.692936Z"
    },
    "papermill": {
     "duration": 0.02352,
     "end_time": "2025-08-19T18:38:25.696818",
     "exception": false,
     "start_time": "2025-08-19T18:38:25.673298",
     "status": "completed"
    },
    "tags": []
   },
   "outputs": [
    {
     "data": {
      "text/plain": [
       "{'coverage': 0.910756883290603, 'avg_size': 1.1293724222494705}"
      ]
     },
     "execution_count": 46,
     "metadata": {},
     "output_type": "execute_result"
    }
   ],
   "source": [
    "metrics"
   ]
  },
  {
   "cell_type": "code",
   "execution_count": 47,
   "id": "64c340a1",
   "metadata": {
    "execution": {
     "iopub.execute_input": "2025-08-19T18:38:25.721548Z",
     "iopub.status.busy": "2025-08-19T18:38:25.721173Z",
     "iopub.status.idle": "2025-08-19T18:38:25.725993Z",
     "shell.execute_reply": "2025-08-19T18:38:25.725323Z"
    },
    "papermill": {
     "duration": 0.01853,
     "end_time": "2025-08-19T18:38:25.727248",
     "exception": false,
     "start_time": "2025-08-19T18:38:25.708718",
     "status": "completed"
    },
    "tags": []
   },
   "outputs": [],
   "source": [
    "example_universe = universe.copy()\n",
    "universe_training_year = example_universe.get(\"training_year\")\n",
    "universe_training_size = example_universe.get(\"training_size\")\n",
    "universe_scale = example_universe.get(\"scale\")\n",
    "universe_model = example_universe.get(\"model\")\n",
    "universe_exclude_features = example_universe.get(\"exclude_features\")\n",
    "universe_exclude_subgroups = example_universe.get(\"exclude_subgroups\")"
   ]
  },
  {
   "cell_type": "code",
   "execution_count": 48,
   "id": "dbb53cb4",
   "metadata": {
    "execution": {
     "iopub.execute_input": "2025-08-19T18:38:25.752212Z",
     "iopub.status.busy": "2025-08-19T18:38:25.751856Z",
     "iopub.status.idle": "2025-08-19T18:38:25.756682Z",
     "shell.execute_reply": "2025-08-19T18:38:25.755965Z"
    },
    "papermill": {
     "duration": 0.018804,
     "end_time": "2025-08-19T18:38:25.757838",
     "exception": false,
     "start_time": "2025-08-19T18:38:25.739034",
     "status": "completed"
    },
    "tags": []
   },
   "outputs": [],
   "source": [
    "cp_metrics_dict = {\n",
    "    \"universe_id\": [universe_id],\n",
    "    \"universe_training_year\": [universe_training_year],\n",
    "    \"universe_training_size\": [universe_training_size],\n",
    "    \"universe_scale\": [universe_scale],\n",
    "    \"universe_model\": [universe_model],\n",
    "    \"universe_exclude_features\": [universe_exclude_features],\n",
    "    \"universe_exclude_subgroups\": [universe_exclude_subgroups],\n",
    "    \"q_hat\": [q_hat],\n",
    "    \"coverage\": [metrics[\"coverage\"]],\n",
    "    \"avg_size\": [metrics[\"avg_size\"]],\n",
    "}"
   ]
  },
  {
   "cell_type": "code",
   "execution_count": 49,
   "id": "0d70d4b2",
   "metadata": {
    "execution": {
     "iopub.execute_input": "2025-08-19T18:38:25.782239Z",
     "iopub.status.busy": "2025-08-19T18:38:25.781926Z",
     "iopub.status.idle": "2025-08-19T18:38:25.787167Z",
     "shell.execute_reply": "2025-08-19T18:38:25.786514Z"
    },
    "papermill": {
     "duration": 0.018998,
     "end_time": "2025-08-19T18:38:25.788741",
     "exception": false,
     "start_time": "2025-08-19T18:38:25.769743",
     "status": "completed"
    },
    "tags": []
   },
   "outputs": [],
   "source": [
    "cp_metrics_df = pd.DataFrame(cp_metrics_dict)"
   ]
  },
  {
   "cell_type": "code",
   "execution_count": 50,
   "id": "b494403c",
   "metadata": {
    "execution": {
     "iopub.execute_input": "2025-08-19T18:38:25.813210Z",
     "iopub.status.busy": "2025-08-19T18:38:25.812823Z",
     "iopub.status.idle": "2025-08-19T18:38:25.825615Z",
     "shell.execute_reply": "2025-08-19T18:38:25.824822Z"
    },
    "papermill": {
     "duration": 0.027001,
     "end_time": "2025-08-19T18:38:25.827373",
     "exception": false,
     "start_time": "2025-08-19T18:38:25.800372",
     "status": "completed"
    },
    "tags": []
   },
   "outputs": [
    {
     "data": {
      "text/html": [
       "<div>\n",
       "<style scoped>\n",
       "    .dataframe tbody tr th:only-of-type {\n",
       "        vertical-align: middle;\n",
       "    }\n",
       "\n",
       "    .dataframe tbody tr th {\n",
       "        vertical-align: top;\n",
       "    }\n",
       "\n",
       "    .dataframe thead th {\n",
       "        text-align: right;\n",
       "    }\n",
       "</style>\n",
       "<table border=\"1\" class=\"dataframe\">\n",
       "  <thead>\n",
       "    <tr style=\"text-align: right;\">\n",
       "      <th></th>\n",
       "      <th>universe_id</th>\n",
       "      <th>universe_training_year</th>\n",
       "      <th>universe_training_size</th>\n",
       "      <th>universe_scale</th>\n",
       "      <th>universe_model</th>\n",
       "      <th>universe_exclude_features</th>\n",
       "      <th>universe_exclude_subgroups</th>\n",
       "      <th>q_hat</th>\n",
       "      <th>coverage</th>\n",
       "      <th>avg_size</th>\n",
       "    </tr>\n",
       "  </thead>\n",
       "  <tbody>\n",
       "    <tr>\n",
       "      <th>0</th>\n",
       "      <td>9cfccb36f36e237b3606d23e439fb229</td>\n",
       "      <td>2012_14</td>\n",
       "      <td>5k</td>\n",
       "      <td>do-not-scale</td>\n",
       "      <td>gbm</td>\n",
       "      <td>nationality</td>\n",
       "      <td>drop-non-german</td>\n",
       "      <td>0.69985</td>\n",
       "      <td>0.910757</td>\n",
       "      <td>1.129372</td>\n",
       "    </tr>\n",
       "  </tbody>\n",
       "</table>\n",
       "</div>"
      ],
      "text/plain": [
       "                        universe_id universe_training_year  \\\n",
       "0  9cfccb36f36e237b3606d23e439fb229                2012_14   \n",
       "\n",
       "  universe_training_size universe_scale universe_model  \\\n",
       "0                     5k   do-not-scale            gbm   \n",
       "\n",
       "  universe_exclude_features universe_exclude_subgroups    q_hat  coverage  \\\n",
       "0               nationality            drop-non-german  0.69985  0.910757   \n",
       "\n",
       "   avg_size  \n",
       "0  1.129372  "
      ]
     },
     "execution_count": 50,
     "metadata": {},
     "output_type": "execute_result"
    }
   ],
   "source": [
    "cp_metrics_df"
   ]
  },
  {
   "cell_type": "markdown",
   "id": "ed608b0b",
   "metadata": {
    "papermill": {
     "duration": 0.011705,
     "end_time": "2025-08-19T18:38:25.852188",
     "exception": false,
     "start_time": "2025-08-19T18:38:25.840483",
     "status": "completed"
    },
    "tags": []
   },
   "source": [
    "Conditional coverage & looking at subgroups"
   ]
  },
  {
   "cell_type": "code",
   "execution_count": 51,
   "id": "8968c366",
   "metadata": {
    "execution": {
     "iopub.execute_input": "2025-08-19T18:38:25.895346Z",
     "iopub.status.busy": "2025-08-19T18:38:25.894910Z",
     "iopub.status.idle": "2025-08-19T18:38:26.434042Z",
     "shell.execute_reply": "2025-08-19T18:38:26.433152Z"
    },
    "papermill": {
     "duration": 0.564581,
     "end_time": "2025-08-19T18:38:26.435472",
     "exception": false,
     "start_time": "2025-08-19T18:38:25.870891",
     "status": "completed"
    },
    "tags": []
   },
   "outputs": [],
   "source": [
    "from fairness_multiverse.conformal import build_cp_groups\n",
    "\n",
    "cp_groups_df = build_cp_groups(pred_sets, y_true, X_test.index, org_test)"
   ]
  },
  {
   "cell_type": "code",
   "execution_count": 52,
   "id": "292ddabf",
   "metadata": {
    "execution": {
     "iopub.execute_input": "2025-08-19T18:38:26.484587Z",
     "iopub.status.busy": "2025-08-19T18:38:26.484181Z",
     "iopub.status.idle": "2025-08-19T18:38:28.211280Z",
     "shell.execute_reply": "2025-08-19T18:38:28.209992Z"
    },
    "papermill": {
     "duration": 1.764588,
     "end_time": "2025-08-19T18:38:28.212789",
     "exception": false,
     "start_time": "2025-08-19T18:38:26.448201",
     "status": "completed"
    },
    "tags": []
   },
   "outputs": [],
   "source": [
    "# Define covered = 1 if true_label is in the predicted set\n",
    "cp_groups_df['covered'] = cp_groups_df.apply(\n",
    "    lambda r: int(r['true_label'] in r['pred_set']),\n",
    "    axis=1\n",
    ")"
   ]
  },
  {
   "cell_type": "code",
   "execution_count": 53,
   "id": "3a261692",
   "metadata": {
    "execution": {
     "iopub.execute_input": "2025-08-19T18:38:28.249095Z",
     "iopub.status.busy": "2025-08-19T18:38:28.248689Z",
     "iopub.status.idle": "2025-08-19T18:38:28.260907Z",
     "shell.execute_reply": "2025-08-19T18:38:28.260082Z"
    },
    "papermill": {
     "duration": 0.033985,
     "end_time": "2025-08-19T18:38:28.262100",
     "exception": false,
     "start_time": "2025-08-19T18:38:28.228115",
     "status": "completed"
    },
    "tags": []
   },
   "outputs": [],
   "source": [
    "subgroups = ['frau1','nongerman','nongerman_male','nongerman_female']\n",
    "\n",
    "# Conditional coverage for subgroup==1\n",
    "cond_coverage = {\n",
    "    g: cp_groups_df.loc[cp_groups_df[g]==1, 'covered'].mean()\n",
    "    for g in subgroups\n",
    "}"
   ]
  },
  {
   "cell_type": "code",
   "execution_count": 54,
   "id": "894fd600",
   "metadata": {
    "execution": {
     "iopub.execute_input": "2025-08-19T18:38:28.304932Z",
     "iopub.status.busy": "2025-08-19T18:38:28.304530Z",
     "iopub.status.idle": "2025-08-19T18:38:28.310312Z",
     "shell.execute_reply": "2025-08-19T18:38:28.309632Z"
    },
    "papermill": {
     "duration": 0.034747,
     "end_time": "2025-08-19T18:38:28.311473",
     "exception": false,
     "start_time": "2025-08-19T18:38:28.276726",
     "status": "completed"
    },
    "tags": []
   },
   "outputs": [
    {
     "data": {
      "text/plain": [
       "{'frau1': 0.9051624208114301,\n",
       " 'nongerman': 0.9055184415876045,\n",
       " 'nongerman_male': 0.9232639827073764,\n",
       " 'nongerman_female': 0.8761549925484352}"
      ]
     },
     "execution_count": 54,
     "metadata": {},
     "output_type": "execute_result"
    }
   ],
   "source": [
    "cond_coverage"
   ]
  },
  {
   "cell_type": "code",
   "execution_count": 55,
   "id": "942895c7",
   "metadata": {
    "execution": {
     "iopub.execute_input": "2025-08-19T18:38:28.361472Z",
     "iopub.status.busy": "2025-08-19T18:38:28.361082Z",
     "iopub.status.idle": "2025-08-19T18:38:28.367252Z",
     "shell.execute_reply": "2025-08-19T18:38:28.366596Z"
    },
    "papermill": {
     "duration": 0.032245,
     "end_time": "2025-08-19T18:38:28.368403",
     "exception": false,
     "start_time": "2025-08-19T18:38:28.336158",
     "status": "completed"
    },
    "tags": []
   },
   "outputs": [],
   "source": [
    "for subgroup, cov in cond_coverage.items():\n",
    "    cp_metrics_df[f\"cov_{subgroup}\"] = cov"
   ]
  },
  {
   "cell_type": "code",
   "execution_count": 56,
   "id": "3970120f",
   "metadata": {
    "execution": {
     "iopub.execute_input": "2025-08-19T18:38:28.414878Z",
     "iopub.status.busy": "2025-08-19T18:38:28.414515Z",
     "iopub.status.idle": "2025-08-19T18:38:28.428256Z",
     "shell.execute_reply": "2025-08-19T18:38:28.427390Z"
    },
    "papermill": {
     "duration": 0.039236,
     "end_time": "2025-08-19T18:38:28.429339",
     "exception": false,
     "start_time": "2025-08-19T18:38:28.390103",
     "status": "completed"
    },
    "tags": []
   },
   "outputs": [
    {
     "data": {
      "text/html": [
       "<div>\n",
       "<style scoped>\n",
       "    .dataframe tbody tr th:only-of-type {\n",
       "        vertical-align: middle;\n",
       "    }\n",
       "\n",
       "    .dataframe tbody tr th {\n",
       "        vertical-align: top;\n",
       "    }\n",
       "\n",
       "    .dataframe thead th {\n",
       "        text-align: right;\n",
       "    }\n",
       "</style>\n",
       "<table border=\"1\" class=\"dataframe\">\n",
       "  <thead>\n",
       "    <tr style=\"text-align: right;\">\n",
       "      <th></th>\n",
       "      <th>universe_id</th>\n",
       "      <th>universe_training_year</th>\n",
       "      <th>universe_training_size</th>\n",
       "      <th>universe_scale</th>\n",
       "      <th>universe_model</th>\n",
       "      <th>universe_exclude_features</th>\n",
       "      <th>universe_exclude_subgroups</th>\n",
       "      <th>q_hat</th>\n",
       "      <th>coverage</th>\n",
       "      <th>avg_size</th>\n",
       "      <th>cov_frau1</th>\n",
       "      <th>cov_nongerman</th>\n",
       "      <th>cov_nongerman_male</th>\n",
       "      <th>cov_nongerman_female</th>\n",
       "    </tr>\n",
       "  </thead>\n",
       "  <tbody>\n",
       "    <tr>\n",
       "      <th>0</th>\n",
       "      <td>9cfccb36f36e237b3606d23e439fb229</td>\n",
       "      <td>2012_14</td>\n",
       "      <td>5k</td>\n",
       "      <td>do-not-scale</td>\n",
       "      <td>gbm</td>\n",
       "      <td>nationality</td>\n",
       "      <td>drop-non-german</td>\n",
       "      <td>0.69985</td>\n",
       "      <td>0.910757</td>\n",
       "      <td>1.129372</td>\n",
       "      <td>0.905162</td>\n",
       "      <td>0.905518</td>\n",
       "      <td>0.923264</td>\n",
       "      <td>0.876155</td>\n",
       "    </tr>\n",
       "  </tbody>\n",
       "</table>\n",
       "</div>"
      ],
      "text/plain": [
       "                        universe_id universe_training_year  \\\n",
       "0  9cfccb36f36e237b3606d23e439fb229                2012_14   \n",
       "\n",
       "  universe_training_size universe_scale universe_model  \\\n",
       "0                     5k   do-not-scale            gbm   \n",
       "\n",
       "  universe_exclude_features universe_exclude_subgroups    q_hat  coverage  \\\n",
       "0               nationality            drop-non-german  0.69985  0.910757   \n",
       "\n",
       "   avg_size  cov_frau1  cov_nongerman  cov_nongerman_male  \\\n",
       "0  1.129372   0.905162       0.905518            0.923264   \n",
       "\n",
       "   cov_nongerman_female  \n",
       "0              0.876155  "
      ]
     },
     "execution_count": 56,
     "metadata": {},
     "output_type": "execute_result"
    }
   ],
   "source": [
    "cp_metrics_df"
   ]
  },
  {
   "cell_type": "markdown",
   "id": "3fc519cc",
   "metadata": {
    "papermill": {
     "duration": 0.027339,
     "end_time": "2025-08-19T18:38:28.473035",
     "exception": false,
     "start_time": "2025-08-19T18:38:28.445696",
     "status": "completed"
    },
    "tags": []
   },
   "source": [
    "# (Fairness) Metrics"
   ]
  },
  {
   "cell_type": "code",
   "execution_count": 57,
   "id": "a2e5e155",
   "metadata": {
    "execution": {
     "iopub.execute_input": "2025-08-19T18:38:28.523248Z",
     "iopub.status.busy": "2025-08-19T18:38:28.522792Z",
     "iopub.status.idle": "2025-08-19T18:38:28.551772Z",
     "shell.execute_reply": "2025-08-19T18:38:28.551018Z"
    },
    "papermill": {
     "duration": 0.05548,
     "end_time": "2025-08-19T18:38:28.553075",
     "exception": false,
     "start_time": "2025-08-19T18:38:28.497595",
     "status": "completed"
    },
    "tags": []
   },
   "outputs": [],
   "source": [
    "colname_to_bin = \"maxdeutsch1\"\n",
    "majority_value = org_train[colname_to_bin].mode()[0]\n",
    "\n",
    "org_test[\"majmin\"] = np.where(org_test[colname_to_bin] == majority_value, \"majority\", \"minority\")"
   ]
  },
  {
   "cell_type": "code",
   "execution_count": 58,
   "id": "17e3e4d5",
   "metadata": {
    "execution": {
     "iopub.execute_input": "2025-08-19T18:38:28.588123Z",
     "iopub.status.busy": "2025-08-19T18:38:28.587724Z",
     "iopub.status.idle": "2025-08-19T18:38:30.886708Z",
     "shell.execute_reply": "2025-08-19T18:38:30.885535Z"
    },
    "papermill": {
     "duration": 2.322516,
     "end_time": "2025-08-19T18:38:30.888408",
     "exception": false,
     "start_time": "2025-08-19T18:38:28.565892",
     "status": "completed"
    },
    "tags": []
   },
   "outputs": [],
   "source": [
    "example_universe = universe.copy()\n",
    "example_universe[\"cutoff\"] = example_universe[\"cutoff\"][0]\n",
    "example_universe[\"eval_fairness_grouping\"] = example_universe[\"eval_fairness_grouping\"][0]\n",
    "fairness_dict, metric_frame = universe_analysis.compute_metrics(\n",
    "    example_universe,\n",
    "    y_pred_prob=probs_test,\n",
    "    y_test=y_true,\n",
    "    org_test=org_test,\n",
    ")"
   ]
  },
  {
   "cell_type": "markdown",
   "id": "1fb7a0e9",
   "metadata": {
    "papermill": {
     "duration": 0.027733,
     "end_time": "2025-08-19T18:38:30.945287",
     "exception": false,
     "start_time": "2025-08-19T18:38:30.917554",
     "status": "completed"
    },
    "tags": []
   },
   "source": [
    "# Overall"
   ]
  },
  {
   "cell_type": "markdown",
   "id": "be1784b1",
   "metadata": {
    "papermill": {
     "duration": 0.047302,
     "end_time": "2025-08-19T18:38:31.009411",
     "exception": false,
     "start_time": "2025-08-19T18:38:30.962109",
     "status": "completed"
    },
    "tags": []
   },
   "source": [
    "Main fairness target: Equalized Odds. Seems to be a better fit than equal opportunity, since we're not only interested in Y = 1. Seems to be a better fit than demographic parity, since we also care about accuracy, not just equal distribution of preds.\n",
    "\n",
    "Pick column for computation of fairness metrics\n",
    "\n",
    "Performance\n",
    "Overall performance measures, most interesting in relation to the measures split by group below"
   ]
  },
  {
   "cell_type": "code",
   "execution_count": 59,
   "id": "b7672bee",
   "metadata": {
    "execution": {
     "iopub.execute_input": "2025-08-19T18:38:31.067133Z",
     "iopub.status.busy": "2025-08-19T18:38:31.066676Z",
     "iopub.status.idle": "2025-08-19T18:38:31.076230Z",
     "shell.execute_reply": "2025-08-19T18:38:31.075547Z"
    },
    "papermill": {
     "duration": 0.040289,
     "end_time": "2025-08-19T18:38:31.077378",
     "exception": false,
     "start_time": "2025-08-19T18:38:31.037089",
     "status": "completed"
    },
    "tags": []
   },
   "outputs": [
    {
     "data": {
      "text/plain": [
       "accuracy                   0.224847\n",
       "balanced accuracy          0.549682\n",
       "f1                         0.246165\n",
       "precision                  0.140626\n",
       "false positive rate        0.887254\n",
       "false negative rate        0.013382\n",
       "selection rate             0.900000\n",
       "count                  89710.000000\n",
       "dtype: float64"
      ]
     },
     "execution_count": 59,
     "metadata": {},
     "output_type": "execute_result"
    }
   ],
   "source": [
    "metric_frame.overall"
   ]
  },
  {
   "cell_type": "markdown",
   "id": "d93333c9",
   "metadata": {
    "papermill": {
     "duration": 0.031881,
     "end_time": "2025-08-19T18:38:31.137051",
     "exception": false,
     "start_time": "2025-08-19T18:38:31.105170",
     "status": "completed"
    },
    "tags": []
   },
   "source": [
    "By Group"
   ]
  },
  {
   "cell_type": "code",
   "execution_count": 60,
   "id": "52256966",
   "metadata": {
    "execution": {
     "iopub.execute_input": "2025-08-19T18:38:31.250679Z",
     "iopub.status.busy": "2025-08-19T18:38:31.250278Z",
     "iopub.status.idle": "2025-08-19T18:38:31.276082Z",
     "shell.execute_reply": "2025-08-19T18:38:31.275328Z"
    },
    "papermill": {
     "duration": 0.114734,
     "end_time": "2025-08-19T18:38:31.277220",
     "exception": false,
     "start_time": "2025-08-19T18:38:31.162486",
     "status": "completed"
    },
    "tags": []
   },
   "outputs": [
    {
     "data": {
      "text/html": [
       "<div>\n",
       "<style scoped>\n",
       "    .dataframe tbody tr th:only-of-type {\n",
       "        vertical-align: middle;\n",
       "    }\n",
       "\n",
       "    .dataframe tbody tr th {\n",
       "        vertical-align: top;\n",
       "    }\n",
       "\n",
       "    .dataframe thead th {\n",
       "        text-align: right;\n",
       "    }\n",
       "</style>\n",
       "<table border=\"1\" class=\"dataframe\">\n",
       "  <thead>\n",
       "    <tr style=\"text-align: right;\">\n",
       "      <th></th>\n",
       "      <th>accuracy</th>\n",
       "      <th>balanced accuracy</th>\n",
       "      <th>f1</th>\n",
       "      <th>precision</th>\n",
       "      <th>false positive rate</th>\n",
       "      <th>false negative rate</th>\n",
       "      <th>selection rate</th>\n",
       "      <th>count</th>\n",
       "    </tr>\n",
       "    <tr>\n",
       "      <th>majmin</th>\n",
       "      <th></th>\n",
       "      <th></th>\n",
       "      <th></th>\n",
       "      <th></th>\n",
       "      <th></th>\n",
       "      <th></th>\n",
       "      <th></th>\n",
       "      <th></th>\n",
       "    </tr>\n",
       "  </thead>\n",
       "  <tbody>\n",
       "    <tr>\n",
       "      <th>majority</th>\n",
       "      <td>0.248041</td>\n",
       "      <td>0.560097</td>\n",
       "      <td>0.257010</td>\n",
       "      <td>0.147803</td>\n",
       "      <td>0.864051</td>\n",
       "      <td>0.015755</td>\n",
       "      <td>0.879933</td>\n",
       "      <td>69170.0</td>\n",
       "    </tr>\n",
       "    <tr>\n",
       "      <th>minority</th>\n",
       "      <td>0.146738</td>\n",
       "      <td>0.515938</td>\n",
       "      <td>0.212031</td>\n",
       "      <td>0.118647</td>\n",
       "      <td>0.963901</td>\n",
       "      <td>0.004223</td>\n",
       "      <td>0.967575</td>\n",
       "      <td>20540.0</td>\n",
       "    </tr>\n",
       "  </tbody>\n",
       "</table>\n",
       "</div>"
      ],
      "text/plain": [
       "          accuracy  balanced accuracy        f1  precision  \\\n",
       "majmin                                                       \n",
       "majority  0.248041           0.560097  0.257010   0.147803   \n",
       "minority  0.146738           0.515938  0.212031   0.118647   \n",
       "\n",
       "          false positive rate  false negative rate  selection rate    count  \n",
       "majmin                                                                       \n",
       "majority             0.864051             0.015755        0.879933  69170.0  \n",
       "minority             0.963901             0.004223        0.967575  20540.0  "
      ]
     },
     "execution_count": 60,
     "metadata": {},
     "output_type": "execute_result"
    }
   ],
   "source": [
    "metric_frame.by_group"
   ]
  },
  {
   "cell_type": "code",
   "execution_count": 61,
   "id": "6e6c20ae",
   "metadata": {
    "execution": {
     "iopub.execute_input": "2025-08-19T18:38:31.307734Z",
     "iopub.status.busy": "2025-08-19T18:38:31.307292Z",
     "iopub.status.idle": "2025-08-19T18:38:33.844450Z",
     "shell.execute_reply": "2025-08-19T18:38:33.843510Z"
    },
    "papermill": {
     "duration": 2.552218,
     "end_time": "2025-08-19T18:38:33.845741",
     "exception": false,
     "start_time": "2025-08-19T18:38:31.293523",
     "status": "completed"
    },
    "tags": []
   },
   "outputs": [
    {
     "data": {
      "text/plain": [
       "array([[<Axes: title={'center': 'accuracy'}, xlabel='majmin'>,\n",
       "        <Axes: title={'center': 'balanced accuracy'}, xlabel='majmin'>,\n",
       "        <Axes: title={'center': 'f1'}, xlabel='majmin'>],\n",
       "       [<Axes: title={'center': 'precision'}, xlabel='majmin'>,\n",
       "        <Axes: title={'center': 'false positive rate'}, xlabel='majmin'>,\n",
       "        <Axes: title={'center': 'false negative rate'}, xlabel='majmin'>],\n",
       "       [<Axes: title={'center': 'selection rate'}, xlabel='majmin'>,\n",
       "        <Axes: title={'center': 'count'}, xlabel='majmin'>,\n",
       "        <Axes: xlabel='majmin'>]], dtype=object)"
      ]
     },
     "execution_count": 61,
     "metadata": {},
     "output_type": "execute_result"
    },
    {
     "data": {
      "image/png": "[encoded data removed]",
      "text/plain": [
       "<Figure size 1200x800 with 9 Axes>"
      ]
     },
     "metadata": {},
     "output_type": "display_data"
    }
   ],
   "source": [
    "# In a graphic\n",
    "metric_frame.by_group.plot.bar(\n",
    "    subplots=True,\n",
    "    layout=[3, 3],\n",
    "    legend=False,\n",
    "    figsize=[12, 8],\n",
    "    title=\"Show all metrics\",\n",
    ")"
   ]
  },
  {
   "cell_type": "markdown",
   "id": "b2e433ae",
   "metadata": {
    "papermill": {
     "duration": 0.021965,
     "end_time": "2025-08-19T18:38:33.897966",
     "exception": false,
     "start_time": "2025-08-19T18:38:33.876001",
     "status": "completed"
    },
    "tags": []
   },
   "source": [
    "# Final Output"
   ]
  },
  {
   "cell_type": "code",
   "execution_count": 62,
   "id": "3871301e",
   "metadata": {
    "execution": {
     "iopub.execute_input": "2025-08-19T18:38:33.947100Z",
     "iopub.status.busy": "2025-08-19T18:38:33.945009Z",
     "iopub.status.idle": "2025-08-19T18:38:33.965034Z",
     "shell.execute_reply": "2025-08-19T18:38:33.964104Z"
    },
    "papermill": {
     "duration": 0.040477,
     "end_time": "2025-08-19T18:38:33.966702",
     "exception": false,
     "start_time": "2025-08-19T18:38:33.926225",
     "status": "completed"
    },
    "tags": []
   },
   "outputs": [
    {
     "data": {
      "text/plain": [
       "4"
      ]
     },
     "execution_count": 62,
     "metadata": {},
     "output_type": "execute_result"
    }
   ],
   "source": [
    "sub_universes = universe_analysis.generate_sub_universes()\n",
    "len(sub_universes)"
   ]
  },
  {
   "cell_type": "code",
   "execution_count": 63,
   "id": "d9cfdaca",
   "metadata": {
    "execution": {
     "iopub.execute_input": "2025-08-19T18:38:34.067018Z",
     "iopub.status.busy": "2025-08-19T18:38:34.066376Z",
     "iopub.status.idle": "2025-08-19T18:38:34.071981Z",
     "shell.execute_reply": "2025-08-19T18:38:34.071161Z"
    },
    "papermill": {
     "duration": 0.090476,
     "end_time": "2025-08-19T18:38:34.073218",
     "exception": false,
     "start_time": "2025-08-19T18:38:33.982742",
     "status": "completed"
    },
    "tags": []
   },
   "outputs": [],
   "source": [
    "def filter_sub_universe_data(sub_universe, org_test):\n",
    "    # Keep all rows — no filtering\n",
    "    keep_rows_mask = np.ones(org_test.shape[0], dtype=bool)\n",
    "\n",
    "    print(f\"[INFO] Keeping all rows: {keep_rows_mask.sum()} rows retained.\")\n",
    "    return keep_rows_mask"
   ]
  },
  {
   "cell_type": "code",
   "execution_count": 64,
   "id": "2bc31ac1",
   "metadata": {
    "execution": {
     "iopub.execute_input": "2025-08-19T18:38:34.153912Z",
     "iopub.status.busy": "2025-08-19T18:38:34.153453Z",
     "iopub.status.idle": "2025-08-19T18:38:44.281555Z",
     "shell.execute_reply": "2025-08-19T18:38:44.272928Z"
    },
    "papermill": {
     "duration": 10.16944,
     "end_time": "2025-08-19T18:38:44.283571",
     "exception": false,
     "start_time": "2025-08-19T18:38:34.114131",
     "status": "completed"
    },
    "tags": []
   },
   "outputs": [
    {
     "name": "stdout",
     "output_type": "stream",
     "text": [
      "Stopping execution_time clock.\n",
      "[INFO] Keeping all rows: 89710 rows retained.\n"
     ]
    },
    {
     "name": "stdout",
     "output_type": "stream",
     "text": [
      "[INFO] Keeping all rows: 89710 rows retained.\n"
     ]
    },
    {
     "name": "stdout",
     "output_type": "stream",
     "text": [
      "[INFO] Keeping all rows: 89710 rows retained.\n"
     ]
    },
    {
     "name": "stdout",
     "output_type": "stream",
     "text": [
      "[INFO] Keeping all rows: 89710 rows retained.\n"
     ]
    },
    {
     "data": {
      "text/html": [
       "<div>\n",
       "<style scoped>\n",
       "    .dataframe tbody tr th:only-of-type {\n",
       "        vertical-align: middle;\n",
       "    }\n",
       "\n",
       "    .dataframe tbody tr th {\n",
       "        vertical-align: top;\n",
       "    }\n",
       "\n",
       "    .dataframe thead th {\n",
       "        text-align: right;\n",
       "    }\n",
       "</style>\n",
       "<table border=\"1\" class=\"dataframe\">\n",
       "  <thead>\n",
       "    <tr style=\"text-align: right;\">\n",
       "      <th></th>\n",
       "      <th>run_no</th>\n",
       "      <th>universe_id</th>\n",
       "      <th>universe_settings</th>\n",
       "      <th>execution_time</th>\n",
       "      <th>test_size_n</th>\n",
       "      <th>test_size_frac</th>\n",
       "      <th>fair_main_equalized_odds_difference</th>\n",
       "      <th>fair_main_equalized_odds_ratio</th>\n",
       "      <th>fair_main_demographic_parity_difference</th>\n",
       "      <th>fair_main_demographic_parity_ratio</th>\n",
       "      <th>...</th>\n",
       "      <th>perf_grp_precision_0</th>\n",
       "      <th>perf_grp_precision_1</th>\n",
       "      <th>perf_grp_false positive rate_0</th>\n",
       "      <th>perf_grp_false positive rate_1</th>\n",
       "      <th>perf_grp_false negative rate_0</th>\n",
       "      <th>perf_grp_false negative rate_1</th>\n",
       "      <th>perf_grp_selection rate_0</th>\n",
       "      <th>perf_grp_selection rate_1</th>\n",
       "      <th>perf_grp_count_0</th>\n",
       "      <th>perf_grp_count_1</th>\n",
       "    </tr>\n",
       "  </thead>\n",
       "  <tbody>\n",
       "    <tr>\n",
       "      <th>0</th>\n",
       "      <td>3</td>\n",
       "      <td>9cfccb36f36e237b3606d23e439fb229</td>\n",
       "      <td>{\"cutoff\": \"quantile_0.1\", \"eval_fairness_grou...</td>\n",
       "      <td>38.15205</td>\n",
       "      <td>89710</td>\n",
       "      <td>1.0</td>\n",
       "      <td>0.099849</td>\n",
       "      <td>0.896411</td>\n",
       "      <td>0.087642</td>\n",
       "      <td>0.909421</td>\n",
       "      <td>...</td>\n",
       "      <td>NaN</td>\n",
       "      <td>NaN</td>\n",
       "      <td>NaN</td>\n",
       "      <td>NaN</td>\n",
       "      <td>NaN</td>\n",
       "      <td>NaN</td>\n",
       "      <td>NaN</td>\n",
       "      <td>NaN</td>\n",
       "      <td>NaN</td>\n",
       "      <td>NaN</td>\n",
       "    </tr>\n",
       "    <tr>\n",
       "      <th>0</th>\n",
       "      <td>3</td>\n",
       "      <td>9cfccb36f36e237b3606d23e439fb229</td>\n",
       "      <td>{\"cutoff\": \"quantile_0.1\", \"eval_fairness_grou...</td>\n",
       "      <td>38.15205</td>\n",
       "      <td>89710</td>\n",
       "      <td>1.0</td>\n",
       "      <td>0.099849</td>\n",
       "      <td>0.896411</td>\n",
       "      <td>0.087642</td>\n",
       "      <td>0.909421</td>\n",
       "      <td>...</td>\n",
       "      <td>0.118647</td>\n",
       "      <td>0.147803</td>\n",
       "      <td>0.963901</td>\n",
       "      <td>0.864051</td>\n",
       "      <td>0.004223</td>\n",
       "      <td>0.015755</td>\n",
       "      <td>0.967575</td>\n",
       "      <td>0.879933</td>\n",
       "      <td>20540.0</td>\n",
       "      <td>69170.0</td>\n",
       "    </tr>\n",
       "    <tr>\n",
       "      <th>0</th>\n",
       "      <td>3</td>\n",
       "      <td>9cfccb36f36e237b3606d23e439fb229</td>\n",
       "      <td>{\"cutoff\": \"quantile_0.25\", \"eval_fairness_gro...</td>\n",
       "      <td>38.15205</td>\n",
       "      <td>89710</td>\n",
       "      <td>1.0</td>\n",
       "      <td>0.101778</td>\n",
       "      <td>0.872764</td>\n",
       "      <td>0.084618</td>\n",
       "      <td>0.896204</td>\n",
       "      <td>...</td>\n",
       "      <td>NaN</td>\n",
       "      <td>NaN</td>\n",
       "      <td>NaN</td>\n",
       "      <td>NaN</td>\n",
       "      <td>NaN</td>\n",
       "      <td>NaN</td>\n",
       "      <td>NaN</td>\n",
       "      <td>NaN</td>\n",
       "      <td>NaN</td>\n",
       "      <td>NaN</td>\n",
       "    </tr>\n",
       "    <tr>\n",
       "      <th>0</th>\n",
       "      <td>3</td>\n",
       "      <td>9cfccb36f36e237b3606d23e439fb229</td>\n",
       "      <td>{\"cutoff\": \"quantile_0.25\", \"eval_fairness_gro...</td>\n",
       "      <td>38.15205</td>\n",
       "      <td>89710</td>\n",
       "      <td>1.0</td>\n",
       "      <td>0.101778</td>\n",
       "      <td>0.872764</td>\n",
       "      <td>0.084618</td>\n",
       "      <td>0.896204</td>\n",
       "      <td>...</td>\n",
       "      <td>0.131920</td>\n",
       "      <td>0.170726</td>\n",
       "      <td>0.799912</td>\n",
       "      <td>0.698134</td>\n",
       "      <td>0.067145</td>\n",
       "      <td>0.056018</td>\n",
       "      <td>0.815239</td>\n",
       "      <td>0.730620</td>\n",
       "      <td>20540.0</td>\n",
       "      <td>69170.0</td>\n",
       "    </tr>\n",
       "  </tbody>\n",
       "</table>\n",
       "<p>4 rows × 50 columns</p>\n",
       "</div>"
      ],
      "text/plain": [
       "  run_no                       universe_id  \\\n",
       "0      3  9cfccb36f36e237b3606d23e439fb229   \n",
       "0      3  9cfccb36f36e237b3606d23e439fb229   \n",
       "0      3  9cfccb36f36e237b3606d23e439fb229   \n",
       "0      3  9cfccb36f36e237b3606d23e439fb229   \n",
       "\n",
       "                                   universe_settings  execution_time  \\\n",
       "0  {\"cutoff\": \"quantile_0.1\", \"eval_fairness_grou...        38.15205   \n",
       "0  {\"cutoff\": \"quantile_0.1\", \"eval_fairness_grou...        38.15205   \n",
       "0  {\"cutoff\": \"quantile_0.25\", \"eval_fairness_gro...        38.15205   \n",
       "0  {\"cutoff\": \"quantile_0.25\", \"eval_fairness_gro...        38.15205   \n",
       "\n",
       "   test_size_n  test_size_frac  fair_main_equalized_odds_difference  \\\n",
       "0        89710             1.0                             0.099849   \n",
       "0        89710             1.0                             0.099849   \n",
       "0        89710             1.0                             0.101778   \n",
       "0        89710             1.0                             0.101778   \n",
       "\n",
       "   fair_main_equalized_odds_ratio  fair_main_demographic_parity_difference  \\\n",
       "0                        0.896411                                 0.087642   \n",
       "0                        0.896411                                 0.087642   \n",
       "0                        0.872764                                 0.084618   \n",
       "0                        0.872764                                 0.084618   \n",
       "\n",
       "   fair_main_demographic_parity_ratio  ...  perf_grp_precision_0  \\\n",
       "0                            0.909421  ...                   NaN   \n",
       "0                            0.909421  ...              0.118647   \n",
       "0                            0.896204  ...                   NaN   \n",
       "0                            0.896204  ...              0.131920   \n",
       "\n",
       "   perf_grp_precision_1  perf_grp_false positive rate_0  \\\n",
       "0                   NaN                             NaN   \n",
       "0              0.147803                        0.963901   \n",
       "0                   NaN                             NaN   \n",
       "0              0.170726                        0.799912   \n",
       "\n",
       "   perf_grp_false positive rate_1  perf_grp_false negative rate_0  \\\n",
       "0                             NaN                             NaN   \n",
       "0                        0.864051                        0.004223   \n",
       "0                             NaN                             NaN   \n",
       "0                        0.698134                        0.067145   \n",
       "\n",
       "   perf_grp_false negative rate_1  perf_grp_selection rate_0  \\\n",
       "0                             NaN                        NaN   \n",
       "0                        0.015755                   0.967575   \n",
       "0                             NaN                        NaN   \n",
       "0                        0.056018                   0.815239   \n",
       "\n",
       "   perf_grp_selection rate_1  perf_grp_count_0  perf_grp_count_1  \n",
       "0                        NaN               NaN               NaN  \n",
       "0                   0.879933           20540.0           69170.0  \n",
       "0                        NaN               NaN               NaN  \n",
       "0                   0.730620           20540.0           69170.0  \n",
       "\n",
       "[4 rows x 50 columns]"
      ]
     },
     "execution_count": 64,
     "metadata": {},
     "output_type": "execute_result"
    }
   ],
   "source": [
    "final_output = universe_analysis.generate_final_output(\n",
    "    y_pred_prob=probs_test,\n",
    "    y_test=y_true,\n",
    "    org_test=org_test,\n",
    "    filter_data=filter_sub_universe_data,\n",
    "    cp_metrics_df=cp_metrics_df,\n",
    "    save=True,\n",
    ")\n",
    "final_output"
   ]
  },
  {
   "cell_type": "code",
   "execution_count": null,
   "id": "8b80a1ff",
   "metadata": {
    "papermill": {
     "duration": 0.014189,
     "end_time": "2025-08-19T18:38:44.316162",
     "exception": false,
     "start_time": "2025-08-19T18:38:44.301973",
     "status": "completed"
    },
    "tags": []
   },
   "outputs": [],
   "source": []
  },
  {
   "cell_type": "code",
   "execution_count": null,
   "id": "275c9fad",
   "metadata": {
    "papermill": {
     "duration": 0.054602,
     "end_time": "2025-08-19T18:38:44.385441",
     "exception": false,
     "start_time": "2025-08-19T18:38:44.330839",
     "status": "completed"
    },
    "tags": []
   },
   "outputs": [],
   "source": []
  }
 ],
 "metadata": {
  "celltoolbar": "Tags",
  "kernelspec": {
   "display_name": "Python (CMA Fairness)",
   "language": "python",
   "name": "cma_fair_env"
  },
  "language_info": {
   "codemirror_mode": {
    "name": "ipython",
    "version": 3
   },
   "file_extension": ".py",
   "mimetype": "text/x-python",
   "name": "python",
   "nbconvert_exporter": "python",
   "pygments_lexer": "ipython3",
   "version": "3.10.12"
  },
  "papermill": {
   "default_parameters": {},
   "duration": 55.11407,
   "end_time": "2025-08-19T18:38:45.531755",
   "environment_variables": {},
   "exception": null,
   "input_path": "universe_analysis.ipynb",
   "output_path": "output/runs/3/notebooks/m_3-9cfccb36f36e237b3606d23e439fb229.ipynb",
   "parameters": {
    "output_dir": "output",
    "run_no": "3",
    "seed": "2023",
    "universe": "{\"cutoff\": [\"quantile_0.1\", \"quantile_0.25\"], \"eval_fairness_grouping\": [\"majority-minority\", \"nationality-all\"], \"exclude_features\": \"nationality\", \"exclude_subgroups\": \"drop-non-german\", \"model\": \"gbm\", \"scale\": \"do-not-scale\", \"training_size\": \"5k\", \"training_year\": \"2012_14\"}",
    "universe_id": "9cfccb36f36e237b3606d23e439fb229"
   },
   "start_time": "2025-08-19T18:37:50.417685",
   "version": "2.6.0"
  }
 },
 "nbformat": 4,
 "nbformat_minor": 5
}