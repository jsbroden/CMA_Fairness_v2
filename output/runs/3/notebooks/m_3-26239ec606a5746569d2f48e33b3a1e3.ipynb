{
 "cells": [
  {
   "cell_type": "markdown",
   "id": "ef23dbb3",
   "metadata": {
    "papermill": {
     "duration": 0.009378,
     "end_time": "2025-08-19T19:09:11.094199",
     "exception": false,
     "start_time": "2025-08-19T19:09:11.084821",
     "status": "completed"
    },
    "tags": []
   },
   "source": [
    "# Setup"
   ]
  },
  {
   "cell_type": "code",
   "execution_count": 1,
   "id": "0bc8e7dc",
   "metadata": {
    "execution": {
     "iopub.execute_input": "2025-08-19T19:09:11.113842Z",
     "iopub.status.busy": "2025-08-19T19:09:11.113289Z",
     "iopub.status.idle": "2025-08-19T19:09:11.124874Z",
     "shell.execute_reply": "2025-08-19T19:09:11.124148Z"
    },
    "papermill": {
     "duration": 0.023025,
     "end_time": "2025-08-19T19:09:11.125984",
     "exception": false,
     "start_time": "2025-08-19T19:09:11.102959",
     "status": "completed"
    },
    "tags": []
   },
   "outputs": [
    {
     "name": "stdout",
     "output_type": "stream",
     "text": [
      "/dss/dsshome1/0C/ra93lal2/cma/CMA_Fairness_v2\n"
     ]
    },
    {
     "name": "stderr",
     "output_type": "stream",
     "text": [
      "/dss/dsshome1/0C/ra93lal2/.local/share/virtualenvs/CMA_Fairness_v2-3j10GkSs/lib/python3.10/site-packages/IPython/core/magics/osm.py:393: UserWarning: This is now an optional IPython functionality, using bookmarks requires you to install the `pickleshare` library.\n",
      "  bkms = self.shell.db.get('bookmarks', {})\n",
      "/dss/dsshome1/0C/ra93lal2/.local/share/virtualenvs/CMA_Fairness_v2-3j10GkSs/lib/python3.10/site-packages/IPython/core/magics/osm.py:417: UserWarning: This is now an optional IPython functionality, setting dhist requires you to install the `pickleshare` library.\n",
      "  self.shell.db['dhist'] = compress_dhist(dhist)[-100:]\n"
     ]
    }
   ],
   "source": [
    "%cd ~/cma/CMA_Fairness_v2"
   ]
  },
  {
   "cell_type": "markdown",
   "id": "9d235661",
   "metadata": {
    "papermill": {
     "duration": 0.008846,
     "end_time": "2025-08-19T19:09:11.146227",
     "exception": false,
     "start_time": "2025-08-19T19:09:11.137381",
     "status": "completed"
    },
    "tags": []
   },
   "source": [
    "The following cell holds the definition of our parameters, these values can be overriden by rendering the with e.g. the following command:\n",
    "\n",
    "papermill -p alpha 0.2 -p ratio 0.3 universe_analysis.ipynb output/test_run.ipynb"
   ]
  },
  {
   "cell_type": "code",
   "execution_count": 2,
   "id": "4a789d8e",
   "metadata": {
    "execution": {
     "iopub.execute_input": "2025-08-19T19:09:11.166982Z",
     "iopub.status.busy": "2025-08-19T19:09:11.165815Z",
     "iopub.status.idle": "2025-08-19T19:09:11.174880Z",
     "shell.execute_reply": "2025-08-19T19:09:11.173557Z"
    },
    "papermill": {
     "duration": 0.021016,
     "end_time": "2025-08-19T19:09:11.176150",
     "exception": false,
     "start_time": "2025-08-19T19:09:11.155134",
     "status": "completed"
    },
    "tags": []
   },
   "outputs": [
    {
     "name": "stdout",
     "output_type": "stream",
     "text": [
      "Current working directory: /dss/dsshome1/0C/ra93lal2/cma/CMA_Fairness_v2\n"
     ]
    }
   ],
   "source": [
    "import os\n",
    "print(\"Current working directory:\", os.getcwd())"
   ]
  },
  {
   "cell_type": "code",
   "execution_count": 3,
   "id": "4132aaed",
   "metadata": {
    "execution": {
     "iopub.execute_input": "2025-08-19T19:09:11.199735Z",
     "iopub.status.busy": "2025-08-19T19:09:11.198690Z",
     "iopub.status.idle": "2025-08-19T19:09:11.209079Z",
     "shell.execute_reply": "2025-08-19T19:09:11.207396Z"
    },
    "papermill": {
     "duration": 0.022841,
     "end_time": "2025-08-19T19:09:11.210803",
     "exception": false,
     "start_time": "2025-08-19T19:09:11.187962",
     "status": "completed"
    },
    "tags": [
     "parameters"
    ]
   },
   "outputs": [],
   "source": [
    "run_no = 0\n",
    "universe_id = \"test\"\n",
    "universe = {\n",
    "    \"training_size\": \"5k\", # \"25k\", \"5k\", \"1k\"\n",
    "    \"training_year\": \"2012_14\", # \"2014\", \"2012_14\", \"2010_14\"\n",
    "    \"scale\": \"scale\", # \"scale\", \"do-not-scale\",\n",
    "    \"model\": \"elasticnet\", # \"logreg\", \"penalized_logreg\", \"rf\", \"gbm\", \"elasticnet\"\n",
    "    \"cutoff\": [\"quantile_0.15\", \"quantile_0.30\"],\n",
    "    \"exclude_features\": \"age\", # \"none\", \"nationality\", \"sex\", \"nationality-sex\", \"age\"\n",
    "    \"exclude_subgroups\": \"drop-non-german\", # \"keep-all\", \"drop-non-german\"\n",
    "    \"eval_fairness_grouping\": [\"majority-minority\", \"nationality-all\"]\n",
    "}\n",
    "\n",
    "output_dir=\"./output\"\n",
    "seed=0"
   ]
  },
  {
   "cell_type": "code",
   "execution_count": 4,
   "id": "e2cfb231",
   "metadata": {
    "execution": {
     "iopub.execute_input": "2025-08-19T19:09:11.236031Z",
     "iopub.status.busy": "2025-08-19T19:09:11.234957Z",
     "iopub.status.idle": "2025-08-19T19:09:11.243645Z",
     "shell.execute_reply": "2025-08-19T19:09:11.242047Z"
    },
    "papermill": {
     "duration": 0.02161,
     "end_time": "2025-08-19T19:09:11.245002",
     "exception": false,
     "start_time": "2025-08-19T19:09:11.223392",
     "status": "completed"
    },
    "tags": [
     "injected-parameters"
    ]
   },
   "outputs": [],
   "source": [
    "# Parameters\n",
    "universe_id = \"26239ec606a5746569d2f48e33b3a1e3\"\n",
    "run_no = \"3\"\n",
    "universe = \"{\\\"cutoff\\\": [\\\"quantile_0.1\\\", \\\"quantile_0.25\\\"], \\\"eval_fairness_grouping\\\": [\\\"majority-minority\\\", \\\"nationality-all\\\"], \\\"exclude_features\\\": \\\"age\\\", \\\"exclude_subgroups\\\": \\\"keep-all\\\", \\\"model\\\": \\\"logreg\\\", \\\"scale\\\": \\\"do-not-scale\\\", \\\"training_size\\\": \\\"1k\\\", \\\"training_year\\\": \\\"2010_14\\\"}\"\n",
    "output_dir = \"output\"\n",
    "seed = \"2023\"\n"
   ]
  },
  {
   "cell_type": "code",
   "execution_count": 5,
   "id": "a5d7941f",
   "metadata": {
    "execution": {
     "iopub.execute_input": "2025-08-19T19:09:11.269081Z",
     "iopub.status.busy": "2025-08-19T19:09:11.267967Z",
     "iopub.status.idle": "2025-08-19T19:09:11.276290Z",
     "shell.execute_reply": "2025-08-19T19:09:11.274637Z"
    },
    "papermill": {
     "duration": 0.021547,
     "end_time": "2025-08-19T19:09:11.277870",
     "exception": false,
     "start_time": "2025-08-19T19:09:11.256323",
     "status": "completed"
    },
    "tags": []
   },
   "outputs": [],
   "source": [
    "import json\n",
    "if isinstance(universe, str):\n",
    "    universe = json.loads(universe)"
   ]
  },
  {
   "cell_type": "code",
   "execution_count": 6,
   "id": "7076ccb1",
   "metadata": {
    "execution": {
     "iopub.execute_input": "2025-08-19T19:09:11.303069Z",
     "iopub.status.busy": "2025-08-19T19:09:11.301536Z",
     "iopub.status.idle": "2025-08-19T19:09:11.351894Z",
     "shell.execute_reply": "2025-08-19T19:09:11.351178Z"
    },
    "papermill": {
     "duration": 0.064329,
     "end_time": "2025-08-19T19:09:11.354473",
     "exception": false,
     "start_time": "2025-08-19T19:09:11.290144",
     "status": "completed"
    },
    "tags": []
   },
   "outputs": [],
   "source": [
    "# Auto-reload the custom package\n",
    "%load_ext autoreload\n",
    "%autoreload 1\n",
    "%aimport fairness_multiverse"
   ]
  },
  {
   "cell_type": "code",
   "execution_count": 7,
   "id": "94c8eb93",
   "metadata": {
    "execution": {
     "iopub.execute_input": "2025-08-19T19:09:11.393870Z",
     "iopub.status.busy": "2025-08-19T19:09:11.392892Z",
     "iopub.status.idle": "2025-08-19T19:09:12.963590Z",
     "shell.execute_reply": "2025-08-19T19:09:12.961967Z"
    },
    "papermill": {
     "duration": 1.587,
     "end_time": "2025-08-19T19:09:12.965394",
     "exception": false,
     "start_time": "2025-08-19T19:09:11.378394",
     "status": "completed"
    },
    "tags": []
   },
   "outputs": [],
   "source": [
    "from fairness_multiverse.universe import UniverseAnalysis\n",
    "\n",
    "universe_analysis = UniverseAnalysis(\n",
    "    run_no = run_no,\n",
    "    universe_id = universe_id,\n",
    "    universe = universe,\n",
    "    output_dir=output_dir,\n",
    ")"
   ]
  },
  {
   "cell_type": "code",
   "execution_count": 8,
   "id": "2a6381cf",
   "metadata": {
    "execution": {
     "iopub.execute_input": "2025-08-19T19:09:12.991871Z",
     "iopub.status.busy": "2025-08-19T19:09:12.990352Z",
     "iopub.status.idle": "2025-08-19T19:09:13.003000Z",
     "shell.execute_reply": "2025-08-19T19:09:13.001167Z"
    },
    "papermill": {
     "duration": 0.027306,
     "end_time": "2025-08-19T19:09:13.005197",
     "exception": false,
     "start_time": "2025-08-19T19:09:12.977891",
     "status": "completed"
    },
    "tags": []
   },
   "outputs": [
    {
     "name": "stdout",
     "output_type": "stream",
     "text": [
      "Using Seed: 2023\n"
     ]
    }
   ],
   "source": [
    "import numpy as np\n",
    "parsed_seed = int(seed)\n",
    "np.random.seed(parsed_seed)\n",
    "print(f\"Using Seed: {parsed_seed}\")"
   ]
  },
  {
   "cell_type": "markdown",
   "id": "b6e958b4",
   "metadata": {
    "papermill": {
     "duration": 0.009252,
     "end_time": "2025-08-19T19:09:13.027321",
     "exception": false,
     "start_time": "2025-08-19T19:09:13.018069",
     "status": "completed"
    },
    "tags": []
   },
   "source": [
    "# Loading Data"
   ]
  },
  {
   "cell_type": "code",
   "execution_count": 9,
   "id": "98701482",
   "metadata": {
    "execution": {
     "iopub.execute_input": "2025-08-19T19:09:13.050253Z",
     "iopub.status.busy": "2025-08-19T19:09:13.049470Z",
     "iopub.status.idle": "2025-08-19T19:09:23.181189Z",
     "shell.execute_reply": "2025-08-19T19:09:23.179812Z"
    },
    "papermill": {
     "duration": 10.14643,
     "end_time": "2025-08-19T19:09:23.182778",
     "exception": false,
     "start_time": "2025-08-19T19:09:13.036348",
     "status": "completed"
    },
    "tags": []
   },
   "outputs": [
    {
     "name": "stdout",
     "output_type": "stream",
     "text": [
      "Loading SIAB data from cache: data/siab_cached.csv.gz\n"
     ]
    },
    {
     "name": "stdout",
     "output_type": "stream",
     "text": [
      "(643690, 164)\n"
     ]
    }
   ],
   "source": [
    "from pathlib import Path\n",
    "import pandas as pd\n",
    "\n",
    "# File paths\n",
    "raw_file = Path(\"data/raw/siab.csv\")\n",
    "cache_file = Path(\"data/siab_cached.csv.gz\")\n",
    "\n",
    "# Ensure cache directory exists\n",
    "cache_file.parent.mkdir(parents=True, exist_ok=True)\n",
    "\n",
    "# Load with simple caching\n",
    "if cache_file.exists():\n",
    "    print(f\"Loading SIAB data from cache: {cache_file}\")\n",
    "    siab = pd.read_csv(cache_file, compression='gzip')\n",
    "else:\n",
    "    print(f\"Cache not found. Reading raw SIAB data: {raw_file}\")\n",
    "    siab = pd.read_csv(raw_file)\n",
    "    siab.to_csv(cache_file, index=False, compression='gzip')\n",
    "    print(f\"Cached SIAB data to: {cache_file}\")\n",
    "\n",
    "print(siab.shape)"
   ]
  },
  {
   "cell_type": "code",
   "execution_count": 10,
   "id": "058d2abb",
   "metadata": {
    "execution": {
     "iopub.execute_input": "2025-08-19T19:09:23.208225Z",
     "iopub.status.busy": "2025-08-19T19:09:23.207451Z",
     "iopub.status.idle": "2025-08-19T19:09:23.357660Z",
     "shell.execute_reply": "2025-08-19T19:09:23.356796Z"
    },
    "papermill": {
     "duration": 0.162244,
     "end_time": "2025-08-19T19:09:23.358898",
     "exception": false,
     "start_time": "2025-08-19T19:09:23.196654",
     "status": "completed"
    },
    "tags": []
   },
   "outputs": [
    {
     "data": {
      "text/html": [
       "<div>\n",
       "<style scoped>\n",
       "    .dataframe tbody tr th:only-of-type {\n",
       "        vertical-align: middle;\n",
       "    }\n",
       "\n",
       "    .dataframe tbody tr th {\n",
       "        vertical-align: top;\n",
       "    }\n",
       "\n",
       "    .dataframe thead th {\n",
       "        text-align: right;\n",
       "    }\n",
       "</style>\n",
       "<table border=\"1\" class=\"dataframe\">\n",
       "  <thead>\n",
       "    <tr style=\"text-align: right;\">\n",
       "      <th></th>\n",
       "      <th>persnr</th>\n",
       "      <th>year</th>\n",
       "      <th>nrEntry</th>\n",
       "      <th>ltue</th>\n",
       "      <th>employed_before</th>\n",
       "      <th>receipt_leh_before</th>\n",
       "      <th>receipt_lhg_before</th>\n",
       "      <th>se_before</th>\n",
       "      <th>ASU_notue_seeking_before</th>\n",
       "      <th>ASU_other_before</th>\n",
       "      <th>...</th>\n",
       "      <th>minijob_tot_dur_byage</th>\n",
       "      <th>ft_tot_dur_byage</th>\n",
       "      <th>befrist_tot_dur_byage</th>\n",
       "      <th>leih_tot_dur_byage</th>\n",
       "      <th>LHG_tot_dur_byage</th>\n",
       "      <th>LEH_tot_dur_byage</th>\n",
       "      <th>almp_tot_dur_byage</th>\n",
       "      <th>almp_aw_tot_dur_byage</th>\n",
       "      <th>se_tot_dur_byage</th>\n",
       "      <th>seeking1_tot_dur_byage</th>\n",
       "    </tr>\n",
       "  </thead>\n",
       "  <tbody>\n",
       "    <tr>\n",
       "      <th>0</th>\n",
       "      <td>7</td>\n",
       "      <td>2015</td>\n",
       "      <td>1</td>\n",
       "      <td>0</td>\n",
       "      <td>1</td>\n",
       "      <td>0</td>\n",
       "      <td>0</td>\n",
       "      <td>0</td>\n",
       "      <td>1</td>\n",
       "      <td>0</td>\n",
       "      <td>...</td>\n",
       "      <td>0.000000</td>\n",
       "      <td>0.000000</td>\n",
       "      <td>15.043478</td>\n",
       "      <td>0.000000</td>\n",
       "      <td>0.000000</td>\n",
       "      <td>0.000000</td>\n",
       "      <td>0.000000</td>\n",
       "      <td>0.000000</td>\n",
       "      <td>0.000000</td>\n",
       "      <td>0.000000</td>\n",
       "    </tr>\n",
       "    <tr>\n",
       "      <th>1</th>\n",
       "      <td>18</td>\n",
       "      <td>2010</td>\n",
       "      <td>1</td>\n",
       "      <td>1</td>\n",
       "      <td>0</td>\n",
       "      <td>0</td>\n",
       "      <td>0</td>\n",
       "      <td>0</td>\n",
       "      <td>0</td>\n",
       "      <td>0</td>\n",
       "      <td>...</td>\n",
       "      <td>0.000000</td>\n",
       "      <td>0.000000</td>\n",
       "      <td>0.000000</td>\n",
       "      <td>0.000000</td>\n",
       "      <td>0.000000</td>\n",
       "      <td>0.000000</td>\n",
       "      <td>0.000000</td>\n",
       "      <td>0.000000</td>\n",
       "      <td>0.000000</td>\n",
       "      <td>0.000000</td>\n",
       "    </tr>\n",
       "    <tr>\n",
       "      <th>2</th>\n",
       "      <td>18</td>\n",
       "      <td>2011</td>\n",
       "      <td>2</td>\n",
       "      <td>0</td>\n",
       "      <td>1</td>\n",
       "      <td>0</td>\n",
       "      <td>1</td>\n",
       "      <td>0</td>\n",
       "      <td>1</td>\n",
       "      <td>0</td>\n",
       "      <td>...</td>\n",
       "      <td>2.714286</td>\n",
       "      <td>2.714286</td>\n",
       "      <td>0.000000</td>\n",
       "      <td>0.000000</td>\n",
       "      <td>10.775510</td>\n",
       "      <td>0.000000</td>\n",
       "      <td>8.367347</td>\n",
       "      <td>0.000000</td>\n",
       "      <td>0.000000</td>\n",
       "      <td>9.836735</td>\n",
       "    </tr>\n",
       "    <tr>\n",
       "      <th>3</th>\n",
       "      <td>18</td>\n",
       "      <td>2012</td>\n",
       "      <td>3</td>\n",
       "      <td>0</td>\n",
       "      <td>1</td>\n",
       "      <td>0</td>\n",
       "      <td>1</td>\n",
       "      <td>0</td>\n",
       "      <td>1</td>\n",
       "      <td>0</td>\n",
       "      <td>...</td>\n",
       "      <td>4.200000</td>\n",
       "      <td>4.200000</td>\n",
       "      <td>0.000000</td>\n",
       "      <td>0.000000</td>\n",
       "      <td>12.100000</td>\n",
       "      <td>0.000000</td>\n",
       "      <td>9.400000</td>\n",
       "      <td>0.000000</td>\n",
       "      <td>0.000000</td>\n",
       "      <td>9.960000</td>\n",
       "    </tr>\n",
       "    <tr>\n",
       "      <th>4</th>\n",
       "      <td>18</td>\n",
       "      <td>2012</td>\n",
       "      <td>4</td>\n",
       "      <td>0</td>\n",
       "      <td>1</td>\n",
       "      <td>0</td>\n",
       "      <td>1</td>\n",
       "      <td>0</td>\n",
       "      <td>1</td>\n",
       "      <td>0</td>\n",
       "      <td>...</td>\n",
       "      <td>5.460000</td>\n",
       "      <td>5.460000</td>\n",
       "      <td>0.000000</td>\n",
       "      <td>0.000000</td>\n",
       "      <td>13.360000</td>\n",
       "      <td>0.000000</td>\n",
       "      <td>10.320000</td>\n",
       "      <td>0.000000</td>\n",
       "      <td>0.000000</td>\n",
       "      <td>10.280000</td>\n",
       "    </tr>\n",
       "    <tr>\n",
       "      <th>...</th>\n",
       "      <td>...</td>\n",
       "      <td>...</td>\n",
       "      <td>...</td>\n",
       "      <td>...</td>\n",
       "      <td>...</td>\n",
       "      <td>...</td>\n",
       "      <td>...</td>\n",
       "      <td>...</td>\n",
       "      <td>...</td>\n",
       "      <td>...</td>\n",
       "      <td>...</td>\n",
       "      <td>...</td>\n",
       "      <td>...</td>\n",
       "      <td>...</td>\n",
       "      <td>...</td>\n",
       "      <td>...</td>\n",
       "      <td>...</td>\n",
       "      <td>...</td>\n",
       "      <td>...</td>\n",
       "      <td>...</td>\n",
       "      <td>...</td>\n",
       "    </tr>\n",
       "    <tr>\n",
       "      <th>643685</th>\n",
       "      <td>1827860</td>\n",
       "      <td>2013</td>\n",
       "      <td>1</td>\n",
       "      <td>0</td>\n",
       "      <td>0</td>\n",
       "      <td>0</td>\n",
       "      <td>1</td>\n",
       "      <td>0</td>\n",
       "      <td>0</td>\n",
       "      <td>1</td>\n",
       "      <td>...</td>\n",
       "      <td>0.000000</td>\n",
       "      <td>0.000000</td>\n",
       "      <td>0.000000</td>\n",
       "      <td>0.000000</td>\n",
       "      <td>0.612903</td>\n",
       "      <td>0.000000</td>\n",
       "      <td>0.000000</td>\n",
       "      <td>0.000000</td>\n",
       "      <td>0.000000</td>\n",
       "      <td>0.000000</td>\n",
       "    </tr>\n",
       "    <tr>\n",
       "      <th>643686</th>\n",
       "      <td>1827860</td>\n",
       "      <td>2015</td>\n",
       "      <td>2</td>\n",
       "      <td>1</td>\n",
       "      <td>0</td>\n",
       "      <td>0</td>\n",
       "      <td>1</td>\n",
       "      <td>0</td>\n",
       "      <td>1</td>\n",
       "      <td>0</td>\n",
       "      <td>...</td>\n",
       "      <td>0.000000</td>\n",
       "      <td>0.000000</td>\n",
       "      <td>0.212121</td>\n",
       "      <td>0.212121</td>\n",
       "      <td>17.363636</td>\n",
       "      <td>0.000000</td>\n",
       "      <td>8.909091</td>\n",
       "      <td>0.000000</td>\n",
       "      <td>0.000000</td>\n",
       "      <td>7.121212</td>\n",
       "    </tr>\n",
       "    <tr>\n",
       "      <th>643687</th>\n",
       "      <td>1827860</td>\n",
       "      <td>2016</td>\n",
       "      <td>3</td>\n",
       "      <td>1</td>\n",
       "      <td>0</td>\n",
       "      <td>0</td>\n",
       "      <td>1</td>\n",
       "      <td>1</td>\n",
       "      <td>0</td>\n",
       "      <td>1</td>\n",
       "      <td>...</td>\n",
       "      <td>0.000000</td>\n",
       "      <td>0.000000</td>\n",
       "      <td>0.294118</td>\n",
       "      <td>0.205882</td>\n",
       "      <td>34.705882</td>\n",
       "      <td>0.000000</td>\n",
       "      <td>10.352941</td>\n",
       "      <td>1.705882</td>\n",
       "      <td>1.705882</td>\n",
       "      <td>23.911765</td>\n",
       "    </tr>\n",
       "    <tr>\n",
       "      <th>643688</th>\n",
       "      <td>1827869</td>\n",
       "      <td>2013</td>\n",
       "      <td>1</td>\n",
       "      <td>1</td>\n",
       "      <td>1</td>\n",
       "      <td>0</td>\n",
       "      <td>0</td>\n",
       "      <td>0</td>\n",
       "      <td>1</td>\n",
       "      <td>0</td>\n",
       "      <td>...</td>\n",
       "      <td>0.000000</td>\n",
       "      <td>0.000000</td>\n",
       "      <td>0.000000</td>\n",
       "      <td>0.000000</td>\n",
       "      <td>0.000000</td>\n",
       "      <td>0.525424</td>\n",
       "      <td>0.000000</td>\n",
       "      <td>0.000000</td>\n",
       "      <td>0.000000</td>\n",
       "      <td>0.000000</td>\n",
       "    </tr>\n",
       "    <tr>\n",
       "      <th>643689</th>\n",
       "      <td>1827869</td>\n",
       "      <td>2014</td>\n",
       "      <td>2</td>\n",
       "      <td>0</td>\n",
       "      <td>0</td>\n",
       "      <td>1</td>\n",
       "      <td>0</td>\n",
       "      <td>0</td>\n",
       "      <td>1</td>\n",
       "      <td>0</td>\n",
       "      <td>...</td>\n",
       "      <td>0.000000</td>\n",
       "      <td>0.666667</td>\n",
       "      <td>0.666667</td>\n",
       "      <td>0.000000</td>\n",
       "      <td>0.000000</td>\n",
       "      <td>8.950000</td>\n",
       "      <td>1.033333</td>\n",
       "      <td>0.083333</td>\n",
       "      <td>0.083333</td>\n",
       "      <td>8.133333</td>\n",
       "    </tr>\n",
       "  </tbody>\n",
       "</table>\n",
       "<p>643690 rows × 164 columns</p>\n",
       "</div>"
      ],
      "text/plain": [
       "         persnr  year  nrEntry  ltue  employed_before  receipt_leh_before  \\\n",
       "0             7  2015        1     0                1                   0   \n",
       "1            18  2010        1     1                0                   0   \n",
       "2            18  2011        2     0                1                   0   \n",
       "3            18  2012        3     0                1                   0   \n",
       "4            18  2012        4     0                1                   0   \n",
       "...         ...   ...      ...   ...              ...                 ...   \n",
       "643685  1827860  2013        1     0                0                   0   \n",
       "643686  1827860  2015        2     1                0                   0   \n",
       "643687  1827860  2016        3     1                0                   0   \n",
       "643688  1827869  2013        1     1                1                   0   \n",
       "643689  1827869  2014        2     0                0                   1   \n",
       "\n",
       "        receipt_lhg_before  se_before  ASU_notue_seeking_before  \\\n",
       "0                        0          0                         1   \n",
       "1                        0          0                         0   \n",
       "2                        1          0                         1   \n",
       "3                        1          0                         1   \n",
       "4                        1          0                         1   \n",
       "...                    ...        ...                       ...   \n",
       "643685                   1          0                         0   \n",
       "643686                   1          0                         1   \n",
       "643687                   1          1                         0   \n",
       "643688                   0          0                         1   \n",
       "643689                   0          0                         1   \n",
       "\n",
       "        ASU_other_before  ...  minijob_tot_dur_byage  ft_tot_dur_byage  \\\n",
       "0                      0  ...               0.000000          0.000000   \n",
       "1                      0  ...               0.000000          0.000000   \n",
       "2                      0  ...               2.714286          2.714286   \n",
       "3                      0  ...               4.200000          4.200000   \n",
       "4                      0  ...               5.460000          5.460000   \n",
       "...                  ...  ...                    ...               ...   \n",
       "643685                 1  ...               0.000000          0.000000   \n",
       "643686                 0  ...               0.000000          0.000000   \n",
       "643687                 1  ...               0.000000          0.000000   \n",
       "643688                 0  ...               0.000000          0.000000   \n",
       "643689                 0  ...               0.000000          0.666667   \n",
       "\n",
       "        befrist_tot_dur_byage  leih_tot_dur_byage  LHG_tot_dur_byage  \\\n",
       "0                   15.043478            0.000000           0.000000   \n",
       "1                    0.000000            0.000000           0.000000   \n",
       "2                    0.000000            0.000000          10.775510   \n",
       "3                    0.000000            0.000000          12.100000   \n",
       "4                    0.000000            0.000000          13.360000   \n",
       "...                       ...                 ...                ...   \n",
       "643685               0.000000            0.000000           0.612903   \n",
       "643686               0.212121            0.212121          17.363636   \n",
       "643687               0.294118            0.205882          34.705882   \n",
       "643688               0.000000            0.000000           0.000000   \n",
       "643689               0.666667            0.000000           0.000000   \n",
       "\n",
       "        LEH_tot_dur_byage  almp_tot_dur_byage  almp_aw_tot_dur_byage  \\\n",
       "0                0.000000            0.000000               0.000000   \n",
       "1                0.000000            0.000000               0.000000   \n",
       "2                0.000000            8.367347               0.000000   \n",
       "3                0.000000            9.400000               0.000000   \n",
       "4                0.000000           10.320000               0.000000   \n",
       "...                   ...                 ...                    ...   \n",
       "643685           0.000000            0.000000               0.000000   \n",
       "643686           0.000000            8.909091               0.000000   \n",
       "643687           0.000000           10.352941               1.705882   \n",
       "643688           0.525424            0.000000               0.000000   \n",
       "643689           8.950000            1.033333               0.083333   \n",
       "\n",
       "        se_tot_dur_byage  seeking1_tot_dur_byage  \n",
       "0               0.000000                0.000000  \n",
       "1               0.000000                0.000000  \n",
       "2               0.000000                9.836735  \n",
       "3               0.000000                9.960000  \n",
       "4               0.000000               10.280000  \n",
       "...                  ...                     ...  \n",
       "643685          0.000000                0.000000  \n",
       "643686          0.000000                7.121212  \n",
       "643687          1.705882               23.911765  \n",
       "643688          0.000000                0.000000  \n",
       "643689          0.083333                8.133333  \n",
       "\n",
       "[643690 rows x 164 columns]"
      ]
     },
     "execution_count": 10,
     "metadata": {},
     "output_type": "execute_result"
    }
   ],
   "source": [
    "siab"
   ]
  },
  {
   "cell_type": "markdown",
   "id": "1f87e805",
   "metadata": {
    "papermill": {
     "duration": 0.016713,
     "end_time": "2025-08-19T19:09:23.385639",
     "exception": false,
     "start_time": "2025-08-19T19:09:23.368926",
     "status": "completed"
    },
    "tags": []
   },
   "source": [
    "# Splitting Data and Setting Training Data Size"
   ]
  },
  {
   "cell_type": "code",
   "execution_count": 11,
   "id": "910ae358",
   "metadata": {
    "execution": {
     "iopub.execute_input": "2025-08-19T19:09:23.422511Z",
     "iopub.status.busy": "2025-08-19T19:09:23.421441Z",
     "iopub.status.idle": "2025-08-19T19:09:24.476415Z",
     "shell.execute_reply": "2025-08-19T19:09:24.475569Z"
    },
    "papermill": {
     "duration": 1.076177,
     "end_time": "2025-08-19T19:09:24.477868",
     "exception": false,
     "start_time": "2025-08-19T19:09:23.401691",
     "status": "completed"
    },
    "tags": []
   },
   "outputs": [],
   "source": [
    "from fairness_multiverse.universe import sample_by_year_size\n",
    "\n",
    "siab_train = sample_by_year_size(siab,\n",
    "                               training_year=universe[\"training_year\"],\n",
    "                               training_size=universe[\"training_size\"])"
   ]
  },
  {
   "cell_type": "code",
   "execution_count": 12,
   "id": "919c8ff5",
   "metadata": {
    "execution": {
     "iopub.execute_input": "2025-08-19T19:09:24.503691Z",
     "iopub.status.busy": "2025-08-19T19:09:24.502964Z",
     "iopub.status.idle": "2025-08-19T19:09:24.514285Z",
     "shell.execute_reply": "2025-08-19T19:09:24.513079Z"
    },
    "papermill": {
     "duration": 0.025034,
     "end_time": "2025-08-19T19:09:24.515765",
     "exception": false,
     "start_time": "2025-08-19T19:09:24.490731",
     "status": "completed"
    },
    "tags": []
   },
   "outputs": [
    {
     "data": {
      "text/plain": [
       "(1000, 164)"
      ]
     },
     "execution_count": 12,
     "metadata": {},
     "output_type": "execute_result"
    }
   ],
   "source": [
    "siab_train.shape"
   ]
  },
  {
   "cell_type": "code",
   "execution_count": 13,
   "id": "feb13bf4",
   "metadata": {
    "execution": {
     "iopub.execute_input": "2025-08-19T19:09:24.540239Z",
     "iopub.status.busy": "2025-08-19T19:09:24.539286Z",
     "iopub.status.idle": "2025-08-19T19:09:24.557195Z",
     "shell.execute_reply": "2025-08-19T19:09:24.555838Z"
    },
    "papermill": {
     "duration": 0.030898,
     "end_time": "2025-08-19T19:09:24.558700",
     "exception": false,
     "start_time": "2025-08-19T19:09:24.527802",
     "status": "completed"
    },
    "tags": []
   },
   "outputs": [
    {
     "data": {
      "text/plain": [
       "year\n",
       "2010    200\n",
       "2011    200\n",
       "2012    200\n",
       "2013    200\n",
       "2014    200\n",
       "dtype: int64"
      ]
     },
     "metadata": {},
     "output_type": "display_data"
    }
   ],
   "source": [
    "display(siab_train.groupby(\"year\").size())"
   ]
  },
  {
   "cell_type": "code",
   "execution_count": 14,
   "id": "0997782f",
   "metadata": {
    "execution": {
     "iopub.execute_input": "2025-08-19T19:09:24.587794Z",
     "iopub.status.busy": "2025-08-19T19:09:24.586830Z",
     "iopub.status.idle": "2025-08-19T19:09:24.854822Z",
     "shell.execute_reply": "2025-08-19T19:09:24.854163Z"
    },
    "papermill": {
     "duration": 0.283325,
     "end_time": "2025-08-19T19:09:24.857601",
     "exception": false,
     "start_time": "2025-08-19T19:09:24.574276",
     "status": "completed"
    },
    "tags": []
   },
   "outputs": [],
   "source": [
    "#siab_train = siab_s[siab_s.year < 2015]\n",
    "siab_calib = siab[siab.year == 2015]\n",
    "siab_test = siab[siab.year == 2016]"
   ]
  },
  {
   "cell_type": "code",
   "execution_count": 15,
   "id": "2c1e4012",
   "metadata": {
    "execution": {
     "iopub.execute_input": "2025-08-19T19:09:24.899013Z",
     "iopub.status.busy": "2025-08-19T19:09:24.898429Z",
     "iopub.status.idle": "2025-08-19T19:09:24.904592Z",
     "shell.execute_reply": "2025-08-19T19:09:24.903342Z"
    },
    "papermill": {
     "duration": 0.026476,
     "end_time": "2025-08-19T19:09:24.910321",
     "exception": false,
     "start_time": "2025-08-19T19:09:24.883845",
     "status": "completed"
    },
    "tags": []
   },
   "outputs": [],
   "source": [
    "#siab_calib.shape"
   ]
  },
  {
   "cell_type": "code",
   "execution_count": 16,
   "id": "f66b54ca",
   "metadata": {
    "execution": {
     "iopub.execute_input": "2025-08-19T19:09:24.936299Z",
     "iopub.status.busy": "2025-08-19T19:09:24.935855Z",
     "iopub.status.idle": "2025-08-19T19:09:24.939735Z",
     "shell.execute_reply": "2025-08-19T19:09:24.939099Z"
    },
    "papermill": {
     "duration": 0.016991,
     "end_time": "2025-08-19T19:09:24.941272",
     "exception": false,
     "start_time": "2025-08-19T19:09:24.924281",
     "status": "completed"
    },
    "tags": []
   },
   "outputs": [],
   "source": [
    "#siab_test.shape"
   ]
  },
  {
   "cell_type": "code",
   "execution_count": 17,
   "id": "27e4384d",
   "metadata": {
    "execution": {
     "iopub.execute_input": "2025-08-19T19:09:24.963524Z",
     "iopub.status.busy": "2025-08-19T19:09:24.963180Z",
     "iopub.status.idle": "2025-08-19T19:09:24.969424Z",
     "shell.execute_reply": "2025-08-19T19:09:24.968730Z"
    },
    "papermill": {
     "duration": 0.019481,
     "end_time": "2025-08-19T19:09:24.971373",
     "exception": false,
     "start_time": "2025-08-19T19:09:24.951892",
     "status": "completed"
    },
    "tags": []
   },
   "outputs": [],
   "source": [
    "X_train = siab_train.iloc[:,4:164]\n",
    "y_train = siab_train.iloc[:, [3]]"
   ]
  },
  {
   "cell_type": "code",
   "execution_count": 18,
   "id": "08ee8389",
   "metadata": {
    "execution": {
     "iopub.execute_input": "2025-08-19T19:09:24.996285Z",
     "iopub.status.busy": "2025-08-19T19:09:24.995924Z",
     "iopub.status.idle": "2025-08-19T19:09:25.078864Z",
     "shell.execute_reply": "2025-08-19T19:09:25.078107Z"
    },
    "papermill": {
     "duration": 0.096878,
     "end_time": "2025-08-19T19:09:25.081265",
     "exception": false,
     "start_time": "2025-08-19T19:09:24.984387",
     "status": "completed"
    },
    "tags": []
   },
   "outputs": [],
   "source": [
    "X_calib = siab_calib.iloc[:,4:164]\n",
    "y_calib = siab_calib.iloc[:, [3]]"
   ]
  },
  {
   "cell_type": "code",
   "execution_count": 19,
   "id": "b7ff42e0",
   "metadata": {
    "execution": {
     "iopub.execute_input": "2025-08-19T19:09:25.118442Z",
     "iopub.status.busy": "2025-08-19T19:09:25.117600Z",
     "iopub.status.idle": "2025-08-19T19:09:25.182880Z",
     "shell.execute_reply": "2025-08-19T19:09:25.181760Z"
    },
    "papermill": {
     "duration": 0.080885,
     "end_time": "2025-08-19T19:09:25.184329",
     "exception": false,
     "start_time": "2025-08-19T19:09:25.103444",
     "status": "completed"
    },
    "tags": []
   },
   "outputs": [],
   "source": [
    "X_test = siab_test.iloc[:,4:164]\n",
    "y_true = siab_test.iloc[:, [3]]"
   ]
  },
  {
   "cell_type": "code",
   "execution_count": 20,
   "id": "0275101e",
   "metadata": {
    "execution": {
     "iopub.execute_input": "2025-08-19T19:09:25.208682Z",
     "iopub.status.busy": "2025-08-19T19:09:25.207366Z",
     "iopub.status.idle": "2025-08-19T19:09:25.327453Z",
     "shell.execute_reply": "2025-08-19T19:09:25.326765Z"
    },
    "papermill": {
     "duration": 0.135077,
     "end_time": "2025-08-19T19:09:25.330267",
     "exception": false,
     "start_time": "2025-08-19T19:09:25.195190",
     "status": "completed"
    },
    "tags": []
   },
   "outputs": [],
   "source": [
    "# Auxiliary data needed downstream in the pipeline\n",
    "\n",
    "org_train = X_train.copy()\n",
    "org_test = X_test.copy()\n",
    "org_calib = X_calib.copy()"
   ]
  },
  {
   "cell_type": "markdown",
   "id": "b461e618",
   "metadata": {
    "papermill": {
     "duration": 0.01284,
     "end_time": "2025-08-19T19:09:25.367142",
     "exception": false,
     "start_time": "2025-08-19T19:09:25.354302",
     "status": "completed"
    },
    "tags": []
   },
   "source": [
    "# Preprocessing Data"
   ]
  },
  {
   "cell_type": "code",
   "execution_count": 21,
   "id": "78e74c4b",
   "metadata": {
    "execution": {
     "iopub.execute_input": "2025-08-19T19:09:25.391611Z",
     "iopub.status.busy": "2025-08-19T19:09:25.390475Z",
     "iopub.status.idle": "2025-08-19T19:09:25.400935Z",
     "shell.execute_reply": "2025-08-19T19:09:25.399169Z"
    },
    "papermill": {
     "duration": 0.024468,
     "end_time": "2025-08-19T19:09:25.402583",
     "exception": false,
     "start_time": "2025-08-19T19:09:25.378115",
     "status": "completed"
    },
    "tags": []
   },
   "outputs": [],
   "source": [
    "# EXCLUDE PROTECTED FEATURES\n",
    "# --------------------------\n",
    "\n",
    "excluded_features = universe[\"exclude_features\"].split(\"-\")\n",
    "excluded_features_dictionary = {\n",
    "    \"nationality\": [\"maxdeutsch1\", \"maxdeutsch.Missing.\"],\n",
    "    \"sex\": [\"frau1\"],\n",
    "    \"age\": [\"age\"],\n",
    "}"
   ]
  },
  {
   "cell_type": "code",
   "execution_count": 22,
   "id": "f8e63555",
   "metadata": {
    "execution": {
     "iopub.execute_input": "2025-08-19T19:09:25.429373Z",
     "iopub.status.busy": "2025-08-19T19:09:25.428110Z",
     "iopub.status.idle": "2025-08-19T19:09:25.437566Z",
     "shell.execute_reply": "2025-08-19T19:09:25.435923Z"
    },
    "papermill": {
     "duration": 0.023214,
     "end_time": "2025-08-19T19:09:25.439166",
     "exception": false,
     "start_time": "2025-08-19T19:09:25.415952",
     "status": "completed"
    },
    "tags": []
   },
   "outputs": [],
   "source": [
    "excluded_features_columns = [\n",
    "    excluded_features_dictionary[f] for f in excluded_features if len(f) > 0 and f != \"none\"\n",
    "]"
   ]
  },
  {
   "cell_type": "code",
   "execution_count": 23,
   "id": "da781f7c",
   "metadata": {
    "execution": {
     "iopub.execute_input": "2025-08-19T19:09:25.467617Z",
     "iopub.status.busy": "2025-08-19T19:09:25.466365Z",
     "iopub.status.idle": "2025-08-19T19:09:25.474999Z",
     "shell.execute_reply": "2025-08-19T19:09:25.473421Z"
    },
    "papermill": {
     "duration": 0.023162,
     "end_time": "2025-08-19T19:09:25.476613",
     "exception": false,
     "start_time": "2025-08-19T19:09:25.453451",
     "status": "completed"
    },
    "tags": []
   },
   "outputs": [],
   "source": [
    "from fairness_multiverse.universe import flatten_once\n",
    "\n",
    "excluded_features_columns = flatten_once(excluded_features_columns)"
   ]
  },
  {
   "cell_type": "code",
   "execution_count": 24,
   "id": "37fef0f0",
   "metadata": {
    "execution": {
     "iopub.execute_input": "2025-08-19T19:09:25.503837Z",
     "iopub.status.busy": "2025-08-19T19:09:25.502834Z",
     "iopub.status.idle": "2025-08-19T19:09:25.517075Z",
     "shell.execute_reply": "2025-08-19T19:09:25.515907Z"
    },
    "papermill": {
     "duration": 0.028642,
     "end_time": "2025-08-19T19:09:25.518547",
     "exception": false,
     "start_time": "2025-08-19T19:09:25.489905",
     "status": "completed"
    },
    "tags": []
   },
   "outputs": [
    {
     "name": "stdout",
     "output_type": "stream",
     "text": [
      "Dropping features: ['age']\n"
     ]
    }
   ],
   "source": [
    "if len(excluded_features_columns) > 0:\n",
    "    print(f\"Dropping features: {excluded_features_columns}\")\n",
    "    X_train.drop(excluded_features_columns, axis=1, inplace=True)"
   ]
  },
  {
   "cell_type": "code",
   "execution_count": 25,
   "id": "d029e3e9",
   "metadata": {
    "execution": {
     "iopub.execute_input": "2025-08-19T19:09:25.546403Z",
     "iopub.status.busy": "2025-08-19T19:09:25.545414Z",
     "iopub.status.idle": "2025-08-19T19:09:25.626591Z",
     "shell.execute_reply": "2025-08-19T19:09:25.625976Z"
    },
    "papermill": {
     "duration": 0.096589,
     "end_time": "2025-08-19T19:09:25.629327",
     "exception": false,
     "start_time": "2025-08-19T19:09:25.532738",
     "status": "completed"
    },
    "tags": []
   },
   "outputs": [
    {
     "name": "stdout",
     "output_type": "stream",
     "text": [
      "Dropping features: ['age']\n"
     ]
    }
   ],
   "source": [
    "if len(excluded_features_columns) > 0:\n",
    "    print(f\"Dropping features: {excluded_features_columns}\")\n",
    "    X_test.drop(excluded_features_columns, axis=1, inplace=True)"
   ]
  },
  {
   "cell_type": "code",
   "execution_count": 26,
   "id": "01d571f0",
   "metadata": {
    "execution": {
     "iopub.execute_input": "2025-08-19T19:09:25.666762Z",
     "iopub.status.busy": "2025-08-19T19:09:25.665753Z",
     "iopub.status.idle": "2025-08-19T19:09:25.722472Z",
     "shell.execute_reply": "2025-08-19T19:09:25.721794Z"
    },
    "papermill": {
     "duration": 0.072944,
     "end_time": "2025-08-19T19:09:25.724950",
     "exception": false,
     "start_time": "2025-08-19T19:09:25.652006",
     "status": "completed"
    },
    "tags": []
   },
   "outputs": [
    {
     "name": "stdout",
     "output_type": "stream",
     "text": [
      "Dropping features: ['age']\n"
     ]
    }
   ],
   "source": [
    "if len(excluded_features_columns) > 0:\n",
    "    print(f\"Dropping features: {excluded_features_columns}\")\n",
    "    X_calib.drop(excluded_features_columns, axis=1, inplace=True)"
   ]
  },
  {
   "cell_type": "code",
   "execution_count": 27,
   "id": "3037356e",
   "metadata": {
    "execution": {
     "iopub.execute_input": "2025-08-19T19:09:25.765435Z",
     "iopub.status.busy": "2025-08-19T19:09:25.764540Z",
     "iopub.status.idle": "2025-08-19T19:09:25.772875Z",
     "shell.execute_reply": "2025-08-19T19:09:25.771192Z"
    },
    "papermill": {
     "duration": 0.024542,
     "end_time": "2025-08-19T19:09:25.774351",
     "exception": false,
     "start_time": "2025-08-19T19:09:25.749809",
     "status": "completed"
    },
    "tags": []
   },
   "outputs": [],
   "source": [
    "# EXCLUDE CERTAIN SUBGROUPS\n",
    "# -------------------------\n",
    "\n",
    "mode = universe.get(\"exclude_subgroups\", \"keep-all\") # Defaults to \"keep-all\" if the key is missing."
   ]
  },
  {
   "cell_type": "code",
   "execution_count": 28,
   "id": "9d1e63fd",
   "metadata": {
    "execution": {
     "iopub.execute_input": "2025-08-19T19:09:25.801722Z",
     "iopub.status.busy": "2025-08-19T19:09:25.800694Z",
     "iopub.status.idle": "2025-08-19T19:09:25.812212Z",
     "shell.execute_reply": "2025-08-19T19:09:25.810460Z"
    },
    "papermill": {
     "duration": 0.026065,
     "end_time": "2025-08-19T19:09:25.813990",
     "exception": false,
     "start_time": "2025-08-19T19:09:25.787925",
     "status": "completed"
    },
    "tags": []
   },
   "outputs": [],
   "source": [
    "if mode == \"keep-all\":\n",
    "    keep_mask = pd.Series(True, index=org_train.index)\n",
    "\n",
    "elif mode == \"drop-non-german\":\n",
    "    keep_mask = (org_train[\"maxdeutsch1\"] == 1) & (org_train[\"maxdeutsch.Missing.\"] == 0)\n",
    "\n",
    "else:\n",
    "    raise ValueError(f\"Unsupported mode for exclude_subgroups: {mode}\")"
   ]
  },
  {
   "cell_type": "code",
   "execution_count": 29,
   "id": "d3b65474",
   "metadata": {
    "execution": {
     "iopub.execute_input": "2025-08-19T19:09:25.847230Z",
     "iopub.status.busy": "2025-08-19T19:09:25.845972Z",
     "iopub.status.idle": "2025-08-19T19:09:25.857325Z",
     "shell.execute_reply": "2025-08-19T19:09:25.855634Z"
    },
    "papermill": {
     "duration": 0.027541,
     "end_time": "2025-08-19T19:09:25.858906",
     "exception": false,
     "start_time": "2025-08-19T19:09:25.831365",
     "status": "completed"
    },
    "tags": []
   },
   "outputs": [],
   "source": [
    "n_drop = (~keep_mask).sum() # Calculates how many rows are set to be dropped\n",
    "if n_drop > 0:\n",
    "    pct = n_drop / len(keep_mask) * 100\n",
    "    print(f\"Dropping {n_drop} rows ({pct:.2f}%) where mode='{mode}'\")"
   ]
  },
  {
   "cell_type": "code",
   "execution_count": 30,
   "id": "f44389b3",
   "metadata": {
    "execution": {
     "iopub.execute_input": "2025-08-19T19:09:25.886927Z",
     "iopub.status.busy": "2025-08-19T19:09:25.885847Z",
     "iopub.status.idle": "2025-08-19T19:09:25.896603Z",
     "shell.execute_reply": "2025-08-19T19:09:25.894955Z"
    },
    "papermill": {
     "duration": 0.025162,
     "end_time": "2025-08-19T19:09:25.898164",
     "exception": false,
     "start_time": "2025-08-19T19:09:25.873002",
     "status": "completed"
    },
    "tags": []
   },
   "outputs": [],
   "source": [
    "X_train = X_train[keep_mask]"
   ]
  },
  {
   "cell_type": "code",
   "execution_count": 31,
   "id": "ceca8c2a",
   "metadata": {
    "execution": {
     "iopub.execute_input": "2025-08-19T19:09:25.926591Z",
     "iopub.status.busy": "2025-08-19T19:09:25.925058Z",
     "iopub.status.idle": "2025-08-19T19:09:25.934907Z",
     "shell.execute_reply": "2025-08-19T19:09:25.933266Z"
    },
    "papermill": {
     "duration": 0.024449,
     "end_time": "2025-08-19T19:09:25.936534",
     "exception": false,
     "start_time": "2025-08-19T19:09:25.912085",
     "status": "completed"
    },
    "tags": []
   },
   "outputs": [],
   "source": [
    "y_train = y_train[keep_mask]"
   ]
  },
  {
   "cell_type": "markdown",
   "id": "04d31e2f",
   "metadata": {
    "papermill": {
     "duration": 0.011163,
     "end_time": "2025-08-19T19:09:25.962356",
     "exception": false,
     "start_time": "2025-08-19T19:09:25.951193",
     "status": "completed"
    },
    "tags": []
   },
   "source": [
    "# Model Training"
   ]
  },
  {
   "cell_type": "code",
   "execution_count": 32,
   "id": "db991733",
   "metadata": {
    "execution": {
     "iopub.execute_input": "2025-08-19T19:09:25.987746Z",
     "iopub.status.busy": "2025-08-19T19:09:25.986263Z",
     "iopub.status.idle": "2025-08-19T19:09:26.095233Z",
     "shell.execute_reply": "2025-08-19T19:09:26.094549Z"
    },
    "papermill": {
     "duration": 0.124691,
     "end_time": "2025-08-19T19:09:26.098150",
     "exception": false,
     "start_time": "2025-08-19T19:09:25.973459",
     "status": "completed"
    },
    "tags": []
   },
   "outputs": [],
   "source": [
    "from sklearn.linear_model import LogisticRegression\n",
    "from sklearn.ensemble import GradientBoostingClassifier, RandomForestClassifier\n",
    "\n",
    "if (universe[\"model\"] == \"logreg\"):\n",
    "    model = LogisticRegression() #penalty=\"none\", solver=\"newton-cg\", max_iter=1)\n",
    "elif (universe[\"model\"] == \"penalized_logreg\"):\n",
    "    model = LogisticRegression(penalty=\"l2\", C=0.1) #, solver=\"newton-cg\", max_iter=1)\n",
    "elif (universe[\"model\"] == \"rf\"):\n",
    "    model = RandomForestClassifier() # n_estimators=100, n_jobs=-1\n",
    "elif (universe[\"model\"] == \"gbm\"):\n",
    "    model = GradientBoostingClassifier()\n",
    "elif (universe[\"model\"] == \"elasticnet\"):\n",
    "    model = LogisticRegression(penalty = 'elasticnet', solver = 'saga', l1_ratio = 0.5) # max_iter=5000\n",
    "else:\n",
    "    raise \"Unsupported universe.model\""
   ]
  },
  {
   "cell_type": "code",
   "execution_count": 33,
   "id": "a4b5cd25",
   "metadata": {
    "execution": {
     "iopub.execute_input": "2025-08-19T19:09:26.140812Z",
     "iopub.status.busy": "2025-08-19T19:09:26.139414Z",
     "iopub.status.idle": "2025-08-19T19:09:26.149827Z",
     "shell.execute_reply": "2025-08-19T19:09:26.148196Z"
    },
    "papermill": {
     "duration": 0.027561,
     "end_time": "2025-08-19T19:09:26.151573",
     "exception": false,
     "start_time": "2025-08-19T19:09:26.124012",
     "status": "completed"
    },
    "tags": []
   },
   "outputs": [],
   "source": [
    "from sklearn.pipeline import Pipeline\n",
    "from sklearn.preprocessing import StandardScaler\n",
    "\n",
    "model = Pipeline([\n",
    "    #(\"continuous_processor\", continuous_processor),\n",
    "    #(\"categorical_preprocessor\", categorical_preprocessor),\n",
    "    (\"scale\", StandardScaler() if universe[\"scale\"] == \"scale\" else None), \n",
    "    (\"model\", model),\n",
    "])"
   ]
  },
  {
   "cell_type": "code",
   "execution_count": 34,
   "id": "283a904d",
   "metadata": {
    "execution": {
     "iopub.execute_input": "2025-08-19T19:09:26.180237Z",
     "iopub.status.busy": "2025-08-19T19:09:26.178925Z",
     "iopub.status.idle": "2025-08-19T19:09:26.246549Z",
     "shell.execute_reply": "2025-08-19T19:09:26.245930Z"
    },
    "papermill": {
     "duration": 0.085671,
     "end_time": "2025-08-19T19:09:26.251282",
     "exception": false,
     "start_time": "2025-08-19T19:09:26.165611",
     "status": "completed"
    },
    "tags": []
   },
   "outputs": [
    {
     "name": "stderr",
     "output_type": "stream",
     "text": [
      "/dss/dsshome1/0C/ra93lal2/.local/share/virtualenvs/CMA_Fairness_v2-3j10GkSs/lib/python3.10/site-packages/sklearn/linear_model/_logistic.py:444: ConvergenceWarning: lbfgs failed to converge (status=1):\n",
      "STOP: TOTAL NO. of ITERATIONS REACHED LIMIT.\n",
      "\n",
      "Increase the number of iterations (max_iter) or scale the data as shown in:\n",
      "    https://scikit-learn.org/stable/modules/preprocessing.html\n",
      "Please also refer to the documentation for alternative solver options:\n",
      "    https://scikit-learn.org/stable/modules/linear_model.html#logistic-regression\n",
      "  n_iter_i = _check_optimize_result(\n"
     ]
    },
    {
     "data": {
      "text/html": [
       "<style>#sk-container-id-1 {color: black;background-color: white;}#sk-container-id-1 pre{padding: 0;}#sk-container-id-1 div.sk-toggleable {background-color: white;}#sk-container-id-1 label.sk-toggleable__label {cursor: pointer;display: block;width: 100%;margin-bottom: 0;padding: 0.3em;box-sizing: border-box;text-align: center;}#sk-container-id-1 label.sk-toggleable__label-arrow:before {content: \"▸\";float: left;margin-right: 0.25em;color: #696969;}#sk-container-id-1 label.sk-toggleable__label-arrow:hover:before {color: black;}#sk-container-id-1 div.sk-estimator:hover label.sk-toggleable__label-arrow:before {color: black;}#sk-container-id-1 div.sk-toggleable__content {max-height: 0;max-width: 0;overflow: hidden;text-align: left;background-color: #f0f8ff;}#sk-container-id-1 div.sk-toggleable__content pre {margin: 0.2em;color: black;border-radius: 0.25em;background-color: #f0f8ff;}#sk-container-id-1 input.sk-toggleable__control:checked~div.sk-toggleable__content {max-height: 200px;max-width: 100%;overflow: auto;}#sk-container-id-1 input.sk-toggleable__control:checked~label.sk-toggleable__label-arrow:before {content: \"▾\";}#sk-container-id-1 div.sk-estimator input.sk-toggleable__control:checked~label.sk-toggleable__label {background-color: #d4ebff;}#sk-container-id-1 div.sk-label input.sk-toggleable__control:checked~label.sk-toggleable__label {background-color: #d4ebff;}#sk-container-id-1 input.sk-hidden--visually {border: 0;clip: rect(1px 1px 1px 1px);clip: rect(1px, 1px, 1px, 1px);height: 1px;margin: -1px;overflow: hidden;padding: 0;position: absolute;width: 1px;}#sk-container-id-1 div.sk-estimator {font-family: monospace;background-color: #f0f8ff;border: 1px dotted black;border-radius: 0.25em;box-sizing: border-box;margin-bottom: 0.5em;}#sk-container-id-1 div.sk-estimator:hover {background-color: #d4ebff;}#sk-container-id-1 div.sk-parallel-item::after {content: \"\";width: 100%;border-bottom: 1px solid gray;flex-grow: 1;}#sk-container-id-1 div.sk-label:hover label.sk-toggleable__label {background-color: #d4ebff;}#sk-container-id-1 div.sk-serial::before {content: \"\";position: absolute;border-left: 1px solid gray;box-sizing: border-box;top: 0;bottom: 0;left: 50%;z-index: 0;}#sk-container-id-1 div.sk-serial {display: flex;flex-direction: column;align-items: center;background-color: white;padding-right: 0.2em;padding-left: 0.2em;position: relative;}#sk-container-id-1 div.sk-item {position: relative;z-index: 1;}#sk-container-id-1 div.sk-parallel {display: flex;align-items: stretch;justify-content: center;background-color: white;position: relative;}#sk-container-id-1 div.sk-item::before, #sk-container-id-1 div.sk-parallel-item::before {content: \"\";position: absolute;border-left: 1px solid gray;box-sizing: border-box;top: 0;bottom: 0;left: 50%;z-index: -1;}#sk-container-id-1 div.sk-parallel-item {display: flex;flex-direction: column;z-index: 1;position: relative;background-color: white;}#sk-container-id-1 div.sk-parallel-item:first-child::after {align-self: flex-end;width: 50%;}#sk-container-id-1 div.sk-parallel-item:last-child::after {align-self: flex-start;width: 50%;}#sk-container-id-1 div.sk-parallel-item:only-child::after {width: 0;}#sk-container-id-1 div.sk-dashed-wrapped {border: 1px dashed gray;margin: 0 0.4em 0.5em 0.4em;box-sizing: border-box;padding-bottom: 0.4em;background-color: white;}#sk-container-id-1 div.sk-label label {font-family: monospace;font-weight: bold;display: inline-block;line-height: 1.2em;}#sk-container-id-1 div.sk-label-container {text-align: center;}#sk-container-id-1 div.sk-container {/* jupyter's `normalize.less` sets `[hidden] { display: none; }` but bootstrap.min.css set `[hidden] { display: none !important; }` so we also need the `!important` here to be able to override the default hidden behavior on the sphinx rendered scikit-learn.org. See: https://github.com/scikit-learn/scikit-learn/issues/21755 */display: inline-block !important;position: relative;}#sk-container-id-1 div.sk-text-repr-fallback {display: none;}</style><div id=\"sk-container-id-1\" class=\"sk-top-container\"><div class=\"sk-text-repr-fallback\"><pre>Pipeline(steps=[(&#x27;scale&#x27;, None), (&#x27;model&#x27;, LogisticRegression())])</pre><b>In a Jupyter environment, please rerun this cell to show the HTML representation or trust the notebook. <br />On GitHub, the HTML representation is unable to render, please try loading this page with nbviewer.org.</b></div><div class=\"sk-container\" hidden><div class=\"sk-item sk-dashed-wrapped\"><div class=\"sk-label-container\"><div class=\"sk-label sk-toggleable\"><input class=\"sk-toggleable__control sk-hidden--visually\" id=\"sk-estimator-id-1\" type=\"checkbox\" ><label for=\"sk-estimator-id-1\" class=\"sk-toggleable__label sk-toggleable__label-arrow\">Pipeline</label><div class=\"sk-toggleable__content\"><pre>Pipeline(steps=[(&#x27;scale&#x27;, None), (&#x27;model&#x27;, LogisticRegression())])</pre></div></div></div><div class=\"sk-serial\"><div class=\"sk-item\"><div class=\"sk-estimator sk-toggleable\"><input class=\"sk-toggleable__control sk-hidden--visually\" id=\"sk-estimator-id-2\" type=\"checkbox\" ><label for=\"sk-estimator-id-2\" class=\"sk-toggleable__label sk-toggleable__label-arrow\">None</label><div class=\"sk-toggleable__content\"><pre>None</pre></div></div></div><div class=\"sk-item\"><div class=\"sk-estimator sk-toggleable\"><input class=\"sk-toggleable__control sk-hidden--visually\" id=\"sk-estimator-id-3\" type=\"checkbox\" ><label for=\"sk-estimator-id-3\" class=\"sk-toggleable__label sk-toggleable__label-arrow\">LogisticRegression</label><div class=\"sk-toggleable__content\"><pre>LogisticRegression()</pre></div></div></div></div></div></div></div>"
      ],
      "text/plain": [
       "Pipeline(steps=[('scale', None), ('model', LogisticRegression())])"
      ]
     },
     "execution_count": 34,
     "metadata": {},
     "output_type": "execute_result"
    }
   ],
   "source": [
    "model.fit(X_train, y_train.values.ravel())"
   ]
  },
  {
   "cell_type": "code",
   "execution_count": 35,
   "id": "6e15e313",
   "metadata": {
    "execution": {
     "iopub.execute_input": "2025-08-19T19:09:26.289691Z",
     "iopub.status.busy": "2025-08-19T19:09:26.288535Z",
     "iopub.status.idle": "2025-08-19T19:09:26.396226Z",
     "shell.execute_reply": "2025-08-19T19:09:26.395620Z"
    },
    "papermill": {
     "duration": 0.125004,
     "end_time": "2025-08-19T19:09:26.399196",
     "exception": false,
     "start_time": "2025-08-19T19:09:26.274192",
     "status": "completed"
    },
    "tags": []
   },
   "outputs": [
    {
     "data": {
      "text/plain": [
       "0.8548322372087839"
      ]
     },
     "execution_count": 35,
     "metadata": {},
     "output_type": "execute_result"
    }
   ],
   "source": [
    "from fairness_multiverse.universe import predict_w_threshold\n",
    "\n",
    "probs_test = model.predict_proba(X_test)\n",
    "\n",
    "'''\n",
    "Below code returns a boolean array (or binary 0/1 array depending on how it’s used) where each element \n",
    "is True if the probability of class 1 is greater than or equal to the threshold, and False otherwise.\n",
    "'''\n",
    "y_pred_default = predict_w_threshold(probs_test, 0.5)\n",
    "\n",
    "from sklearn.metrics import accuracy_score\n",
    "\n",
    "# Naive prediction\n",
    "accuracy_score(y_true = y_true, y_pred = y_pred_default)"
   ]
  },
  {
   "cell_type": "code",
   "execution_count": 36,
   "id": "6f14067c",
   "metadata": {
    "execution": {
     "iopub.execute_input": "2025-08-19T19:09:26.437407Z",
     "iopub.status.busy": "2025-08-19T19:09:26.436221Z",
     "iopub.status.idle": "2025-08-19T19:09:26.529815Z",
     "shell.execute_reply": "2025-08-19T19:09:26.529020Z"
    },
    "papermill": {
     "duration": 0.110138,
     "end_time": "2025-08-19T19:09:26.532397",
     "exception": false,
     "start_time": "2025-08-19T19:09:26.422259",
     "status": "completed"
    },
    "tags": []
   },
   "outputs": [
    {
     "data": {
      "text/plain": [
       "array([0, 0, 0, ..., 0, 0, 0])"
      ]
     },
     "execution_count": 36,
     "metadata": {},
     "output_type": "execute_result"
    }
   ],
   "source": [
    "model.predict(X_test)"
   ]
  },
  {
   "cell_type": "markdown",
   "id": "3759920c",
   "metadata": {
    "papermill": {
     "duration": 0.013161,
     "end_time": "2025-08-19T19:09:26.570978",
     "exception": false,
     "start_time": "2025-08-19T19:09:26.557817",
     "status": "completed"
    },
    "tags": []
   },
   "source": [
    "# Conformal Prediction"
   ]
  },
  {
   "cell_type": "code",
   "execution_count": 37,
   "id": "14b27f59",
   "metadata": {
    "execution": {
     "iopub.execute_input": "2025-08-19T19:09:26.598065Z",
     "iopub.status.busy": "2025-08-19T19:09:26.597025Z",
     "iopub.status.idle": "2025-08-19T19:09:26.605449Z",
     "shell.execute_reply": "2025-08-19T19:09:26.603786Z"
    },
    "papermill": {
     "duration": 0.02332,
     "end_time": "2025-08-19T19:09:26.607058",
     "exception": false,
     "start_time": "2025-08-19T19:09:26.583738",
     "status": "completed"
    },
    "tags": []
   },
   "outputs": [],
   "source": [
    "# Miscoverage level for conformal prediction (10% allowed error rate => 90% target coverage)\n",
    "alpha = 0.1"
   ]
  },
  {
   "cell_type": "code",
   "execution_count": 38,
   "id": "59102472",
   "metadata": {
    "execution": {
     "iopub.execute_input": "2025-08-19T19:09:26.637830Z",
     "iopub.status.busy": "2025-08-19T19:09:26.636318Z",
     "iopub.status.idle": "2025-08-19T19:09:26.727995Z",
     "shell.execute_reply": "2025-08-19T19:09:26.727293Z"
    },
    "papermill": {
     "duration": 0.108226,
     "end_time": "2025-08-19T19:09:26.730937",
     "exception": false,
     "start_time": "2025-08-19T19:09:26.622711",
     "status": "completed"
    },
    "tags": []
   },
   "outputs": [],
   "source": [
    "probs_calib = model.predict_proba(X_calib)"
   ]
  },
  {
   "cell_type": "code",
   "execution_count": 39,
   "id": "a792d4dd",
   "metadata": {
    "execution": {
     "iopub.execute_input": "2025-08-19T19:09:26.772406Z",
     "iopub.status.busy": "2025-08-19T19:09:26.771371Z",
     "iopub.status.idle": "2025-08-19T19:09:26.780269Z",
     "shell.execute_reply": "2025-08-19T19:09:26.778783Z"
    },
    "papermill": {
     "duration": 0.025735,
     "end_time": "2025-08-19T19:09:26.782138",
     "exception": false,
     "start_time": "2025-08-19T19:09:26.756403",
     "status": "completed"
    },
    "tags": []
   },
   "outputs": [],
   "source": [
    "y_calib = y_calib.values.ravel().astype(int)"
   ]
  },
  {
   "cell_type": "code",
   "execution_count": 40,
   "id": "650fd033",
   "metadata": {
    "execution": {
     "iopub.execute_input": "2025-08-19T19:09:26.813954Z",
     "iopub.status.busy": "2025-08-19T19:09:26.812733Z",
     "iopub.status.idle": "2025-08-19T19:09:26.825664Z",
     "shell.execute_reply": "2025-08-19T19:09:26.823994Z"
    },
    "papermill": {
     "duration": 0.036467,
     "end_time": "2025-08-19T19:09:26.834147",
     "exception": false,
     "start_time": "2025-08-19T19:09:26.797680",
     "status": "completed"
    },
    "tags": []
   },
   "outputs": [],
   "source": [
    "from fairness_multiverse.conformal import compute_nc_scores\n",
    "\n",
    "# Compute nonconformity scores on calibration set (1 - probability of true class)\n",
    "nc_scores = compute_nc_scores(probs_calib, y_calib)"
   ]
  },
  {
   "cell_type": "code",
   "execution_count": 41,
   "id": "28ada44c",
   "metadata": {
    "execution": {
     "iopub.execute_input": "2025-08-19T19:09:26.884800Z",
     "iopub.status.busy": "2025-08-19T19:09:26.883678Z",
     "iopub.status.idle": "2025-08-19T19:09:26.894964Z",
     "shell.execute_reply": "2025-08-19T19:09:26.893239Z"
    },
    "papermill": {
     "duration": 0.040654,
     "end_time": "2025-08-19T19:09:26.897103",
     "exception": false,
     "start_time": "2025-08-19T19:09:26.856449",
     "status": "completed"
    },
    "tags": []
   },
   "outputs": [],
   "source": [
    "from fairness_multiverse.conformal import find_threshold\n",
    "\n",
    "# Find conformal threshold q_hat for the given alpha (split conformal method)\n",
    "q_hat = find_threshold(nc_scores, alpha)"
   ]
  },
  {
   "cell_type": "code",
   "execution_count": 42,
   "id": "df56469e",
   "metadata": {
    "execution": {
     "iopub.execute_input": "2025-08-19T19:09:26.926837Z",
     "iopub.status.busy": "2025-08-19T19:09:26.925867Z",
     "iopub.status.idle": "2025-08-19T19:09:26.943114Z",
     "shell.execute_reply": "2025-08-19T19:09:26.941509Z"
    },
    "papermill": {
     "duration": 0.032971,
     "end_time": "2025-08-19T19:09:26.944888",
     "exception": false,
     "start_time": "2025-08-19T19:09:26.911917",
     "status": "completed"
    },
    "tags": []
   },
   "outputs": [
    {
     "data": {
      "text/plain": [
       "0.6769422835322098"
      ]
     },
     "execution_count": 42,
     "metadata": {},
     "output_type": "execute_result"
    }
   ],
   "source": [
    "q_hat"
   ]
  },
  {
   "cell_type": "code",
   "execution_count": 43,
   "id": "aa1f5faa",
   "metadata": {
    "execution": {
     "iopub.execute_input": "2025-08-19T19:09:26.975372Z",
     "iopub.status.busy": "2025-08-19T19:09:26.974608Z",
     "iopub.status.idle": "2025-08-19T19:09:27.574155Z",
     "shell.execute_reply": "2025-08-19T19:09:27.573303Z"
    },
    "papermill": {
     "duration": 0.61456,
     "end_time": "2025-08-19T19:09:27.576140",
     "exception": false,
     "start_time": "2025-08-19T19:09:26.961580",
     "status": "completed"
    },
    "tags": []
   },
   "outputs": [],
   "source": [
    "from fairness_multiverse.conformal import predict_conformal_sets\n",
    "\n",
    "# Generate prediction sets for each test example\n",
    "pred_sets = predict_conformal_sets(model, X_test, q_hat)"
   ]
  },
  {
   "cell_type": "code",
   "execution_count": 44,
   "id": "97f67a6b",
   "metadata": {
    "execution": {
     "iopub.execute_input": "2025-08-19T19:09:27.601234Z",
     "iopub.status.busy": "2025-08-19T19:09:27.600947Z",
     "iopub.status.idle": "2025-08-19T19:09:27.606766Z",
     "shell.execute_reply": "2025-08-19T19:09:27.605463Z"
    },
    "papermill": {
     "duration": 0.024259,
     "end_time": "2025-08-19T19:09:27.612789",
     "exception": false,
     "start_time": "2025-08-19T19:09:27.588530",
     "status": "completed"
    },
    "tags": []
   },
   "outputs": [],
   "source": [
    "y_true = y_true.squeeze()"
   ]
  },
  {
   "cell_type": "code",
   "execution_count": 45,
   "id": "e700e9a7",
   "metadata": {
    "execution": {
     "iopub.execute_input": "2025-08-19T19:09:27.649745Z",
     "iopub.status.busy": "2025-08-19T19:09:27.648728Z",
     "iopub.status.idle": "2025-08-19T19:09:28.173080Z",
     "shell.execute_reply": "2025-08-19T19:09:28.171492Z"
    },
    "papermill": {
     "duration": 0.542619,
     "end_time": "2025-08-19T19:09:28.177371",
     "exception": false,
     "start_time": "2025-08-19T19:09:27.634752",
     "status": "completed"
    },
    "tags": []
   },
   "outputs": [],
   "source": [
    "from fairness_multiverse.conformal import evaluate_sets\n",
    "\n",
    "# Evaluate coverage and average set size on test data\n",
    "metrics = evaluate_sets(pred_sets, y_true)"
   ]
  },
  {
   "cell_type": "markdown",
   "id": "efbacec0",
   "metadata": {
    "papermill": {
     "duration": 0.012832,
     "end_time": "2025-08-19T19:09:28.214724",
     "exception": false,
     "start_time": "2025-08-19T19:09:28.201892",
     "status": "completed"
    },
    "tags": []
   },
   "source": [
    "# CP Metrics"
   ]
  },
  {
   "cell_type": "code",
   "execution_count": 46,
   "id": "9de55fb1",
   "metadata": {
    "execution": {
     "iopub.execute_input": "2025-08-19T19:09:28.241722Z",
     "iopub.status.busy": "2025-08-19T19:09:28.240619Z",
     "iopub.status.idle": "2025-08-19T19:09:28.255758Z",
     "shell.execute_reply": "2025-08-19T19:09:28.254569Z"
    },
    "papermill": {
     "duration": 0.031385,
     "end_time": "2025-08-19T19:09:28.257598",
     "exception": false,
     "start_time": "2025-08-19T19:09:28.226213",
     "status": "completed"
    },
    "tags": []
   },
   "outputs": [
    {
     "data": {
      "text/plain": [
       "{'coverage': 0.913398729238658, 'avg_size': 1.2721881618548656}"
      ]
     },
     "execution_count": 46,
     "metadata": {},
     "output_type": "execute_result"
    }
   ],
   "source": [
    "metrics"
   ]
  },
  {
   "cell_type": "code",
   "execution_count": 47,
   "id": "64c340a1",
   "metadata": {
    "execution": {
     "iopub.execute_input": "2025-08-19T19:09:28.287466Z",
     "iopub.status.busy": "2025-08-19T19:09:28.286280Z",
     "iopub.status.idle": "2025-08-19T19:09:28.308757Z",
     "shell.execute_reply": "2025-08-19T19:09:28.307755Z"
    },
    "papermill": {
     "duration": 0.038078,
     "end_time": "2025-08-19T19:09:28.311140",
     "exception": false,
     "start_time": "2025-08-19T19:09:28.273062",
     "status": "completed"
    },
    "tags": []
   },
   "outputs": [],
   "source": [
    "example_universe = universe.copy()\n",
    "universe_training_year = example_universe.get(\"training_year\")\n",
    "universe_training_size = example_universe.get(\"training_size\")\n",
    "universe_scale = example_universe.get(\"scale\")\n",
    "universe_model = example_universe.get(\"model\")\n",
    "universe_exclude_features = example_universe.get(\"exclude_features\")\n",
    "universe_exclude_subgroups = example_universe.get(\"exclude_subgroups\")"
   ]
  },
  {
   "cell_type": "code",
   "execution_count": 48,
   "id": "dbb53cb4",
   "metadata": {
    "execution": {
     "iopub.execute_input": "2025-08-19T19:09:28.343722Z",
     "iopub.status.busy": "2025-08-19T19:09:28.343384Z",
     "iopub.status.idle": "2025-08-19T19:09:28.348250Z",
     "shell.execute_reply": "2025-08-19T19:09:28.347586Z"
    },
    "papermill": {
     "duration": 0.019301,
     "end_time": "2025-08-19T19:09:28.349660",
     "exception": false,
     "start_time": "2025-08-19T19:09:28.330359",
     "status": "completed"
    },
    "tags": []
   },
   "outputs": [],
   "source": [
    "cp_metrics_dict = {\n",
    "    \"universe_id\": [universe_id],\n",
    "    \"universe_training_year\": [universe_training_year],\n",
    "    \"universe_training_size\": [universe_training_size],\n",
    "    \"universe_scale\": [universe_scale],\n",
    "    \"universe_model\": [universe_model],\n",
    "    \"universe_exclude_features\": [universe_exclude_features],\n",
    "    \"universe_exclude_subgroups\": [universe_exclude_subgroups],\n",
    "    \"q_hat\": [q_hat],\n",
    "    \"coverage\": [metrics[\"coverage\"]],\n",
    "    \"avg_size\": [metrics[\"avg_size\"]],\n",
    "}"
   ]
  },
  {
   "cell_type": "code",
   "execution_count": 49,
   "id": "0d70d4b2",
   "metadata": {
    "execution": {
     "iopub.execute_input": "2025-08-19T19:09:28.375333Z",
     "iopub.status.busy": "2025-08-19T19:09:28.374551Z",
     "iopub.status.idle": "2025-08-19T19:09:28.391753Z",
     "shell.execute_reply": "2025-08-19T19:09:28.390237Z"
    },
    "papermill": {
     "duration": 0.037603,
     "end_time": "2025-08-19T19:09:28.399490",
     "exception": false,
     "start_time": "2025-08-19T19:09:28.361887",
     "status": "completed"
    },
    "tags": []
   },
   "outputs": [],
   "source": [
    "cp_metrics_df = pd.DataFrame(cp_metrics_dict)"
   ]
  },
  {
   "cell_type": "code",
   "execution_count": 50,
   "id": "b494403c",
   "metadata": {
    "execution": {
     "iopub.execute_input": "2025-08-19T19:09:28.428420Z",
     "iopub.status.busy": "2025-08-19T19:09:28.427742Z",
     "iopub.status.idle": "2025-08-19T19:09:28.452654Z",
     "shell.execute_reply": "2025-08-19T19:09:28.451700Z"
    },
    "papermill": {
     "duration": 0.039947,
     "end_time": "2025-08-19T19:09:28.454674",
     "exception": false,
     "start_time": "2025-08-19T19:09:28.414727",
     "status": "completed"
    },
    "tags": []
   },
   "outputs": [
    {
     "data": {
      "text/html": [
       "<div>\n",
       "<style scoped>\n",
       "    .dataframe tbody tr th:only-of-type {\n",
       "        vertical-align: middle;\n",
       "    }\n",
       "\n",
       "    .dataframe tbody tr th {\n",
       "        vertical-align: top;\n",
       "    }\n",
       "\n",
       "    .dataframe thead th {\n",
       "        text-align: right;\n",
       "    }\n",
       "</style>\n",
       "<table border=\"1\" class=\"dataframe\">\n",
       "  <thead>\n",
       "    <tr style=\"text-align: right;\">\n",
       "      <th></th>\n",
       "      <th>universe_id</th>\n",
       "      <th>universe_training_year</th>\n",
       "      <th>universe_training_size</th>\n",
       "      <th>universe_scale</th>\n",
       "      <th>universe_model</th>\n",
       "      <th>universe_exclude_features</th>\n",
       "      <th>universe_exclude_subgroups</th>\n",
       "      <th>q_hat</th>\n",
       "      <th>coverage</th>\n",
       "      <th>avg_size</th>\n",
       "    </tr>\n",
       "  </thead>\n",
       "  <tbody>\n",
       "    <tr>\n",
       "      <th>0</th>\n",
       "      <td>26239ec606a5746569d2f48e33b3a1e3</td>\n",
       "      <td>2010_14</td>\n",
       "      <td>1k</td>\n",
       "      <td>do-not-scale</td>\n",
       "      <td>logreg</td>\n",
       "      <td>age</td>\n",
       "      <td>keep-all</td>\n",
       "      <td>0.676942</td>\n",
       "      <td>0.913399</td>\n",
       "      <td>1.272188</td>\n",
       "    </tr>\n",
       "  </tbody>\n",
       "</table>\n",
       "</div>"
      ],
      "text/plain": [
       "                        universe_id universe_training_year  \\\n",
       "0  26239ec606a5746569d2f48e33b3a1e3                2010_14   \n",
       "\n",
       "  universe_training_size universe_scale universe_model  \\\n",
       "0                     1k   do-not-scale         logreg   \n",
       "\n",
       "  universe_exclude_features universe_exclude_subgroups     q_hat  coverage  \\\n",
       "0                       age                   keep-all  0.676942  0.913399   \n",
       "\n",
       "   avg_size  \n",
       "0  1.272188  "
      ]
     },
     "execution_count": 50,
     "metadata": {},
     "output_type": "execute_result"
    }
   ],
   "source": [
    "cp_metrics_df"
   ]
  },
  {
   "cell_type": "markdown",
   "id": "ed608b0b",
   "metadata": {
    "papermill": {
     "duration": 0.012604,
     "end_time": "2025-08-19T19:09:28.489938",
     "exception": false,
     "start_time": "2025-08-19T19:09:28.477334",
     "status": "completed"
    },
    "tags": []
   },
   "source": [
    "Conditional coverage & looking at subgroups"
   ]
  },
  {
   "cell_type": "code",
   "execution_count": 51,
   "id": "8968c366",
   "metadata": {
    "execution": {
     "iopub.execute_input": "2025-08-19T19:09:28.515909Z",
     "iopub.status.busy": "2025-08-19T19:09:28.515481Z",
     "iopub.status.idle": "2025-08-19T19:09:28.792208Z",
     "shell.execute_reply": "2025-08-19T19:09:28.790946Z"
    },
    "papermill": {
     "duration": 0.292883,
     "end_time": "2025-08-19T19:09:28.795347",
     "exception": false,
     "start_time": "2025-08-19T19:09:28.502464",
     "status": "completed"
    },
    "tags": []
   },
   "outputs": [],
   "source": [
    "from fairness_multiverse.conformal import build_cp_groups\n",
    "\n",
    "cp_groups_df = build_cp_groups(pred_sets, y_true, X_test.index, org_test)"
   ]
  },
  {
   "cell_type": "code",
   "execution_count": 52,
   "id": "292ddabf",
   "metadata": {
    "execution": {
     "iopub.execute_input": "2025-08-19T19:09:28.823982Z",
     "iopub.status.busy": "2025-08-19T19:09:28.823563Z",
     "iopub.status.idle": "2025-08-19T19:09:29.714388Z",
     "shell.execute_reply": "2025-08-19T19:09:29.713571Z"
    },
    "papermill": {
     "duration": 0.907248,
     "end_time": "2025-08-19T19:09:29.716038",
     "exception": false,
     "start_time": "2025-08-19T19:09:28.808790",
     "status": "completed"
    },
    "tags": []
   },
   "outputs": [],
   "source": [
    "# Define covered = 1 if true_label is in the predicted set\n",
    "cp_groups_df['covered'] = cp_groups_df.apply(\n",
    "    lambda r: int(r['true_label'] in r['pred_set']),\n",
    "    axis=1\n",
    ")"
   ]
  },
  {
   "cell_type": "code",
   "execution_count": 53,
   "id": "3a261692",
   "metadata": {
    "execution": {
     "iopub.execute_input": "2025-08-19T19:09:29.756578Z",
     "iopub.status.busy": "2025-08-19T19:09:29.755534Z",
     "iopub.status.idle": "2025-08-19T19:09:29.765209Z",
     "shell.execute_reply": "2025-08-19T19:09:29.764515Z"
    },
    "papermill": {
     "duration": 0.030494,
     "end_time": "2025-08-19T19:09:29.766443",
     "exception": false,
     "start_time": "2025-08-19T19:09:29.735949",
     "status": "completed"
    },
    "tags": []
   },
   "outputs": [],
   "source": [
    "subgroups = ['frau1','nongerman','nongerman_male','nongerman_female']\n",
    "\n",
    "# Conditional coverage for subgroup==1\n",
    "cond_coverage = {\n",
    "    g: cp_groups_df.loc[cp_groups_df[g]==1, 'covered'].mean()\n",
    "    for g in subgroups\n",
    "}"
   ]
  },
  {
   "cell_type": "code",
   "execution_count": 54,
   "id": "894fd600",
   "metadata": {
    "execution": {
     "iopub.execute_input": "2025-08-19T19:09:29.794529Z",
     "iopub.status.busy": "2025-08-19T19:09:29.793340Z",
     "iopub.status.idle": "2025-08-19T19:09:29.802606Z",
     "shell.execute_reply": "2025-08-19T19:09:29.801471Z"
    },
    "papermill": {
     "duration": 0.025127,
     "end_time": "2025-08-19T19:09:29.805149",
     "exception": false,
     "start_time": "2025-08-19T19:09:29.780022",
     "status": "completed"
    },
    "tags": []
   },
   "outputs": [
    {
     "data": {
      "text/plain": [
       "{'frau1': 0.913303679741205,\n",
       " 'nongerman': 0.9626677145904676,\n",
       " 'nongerman_male': 0.9684769882013871,\n",
       " 'nongerman_female': 0.9530551415797317}"
      ]
     },
     "execution_count": 54,
     "metadata": {},
     "output_type": "execute_result"
    }
   ],
   "source": [
    "cond_coverage"
   ]
  },
  {
   "cell_type": "code",
   "execution_count": 55,
   "id": "942895c7",
   "metadata": {
    "execution": {
     "iopub.execute_input": "2025-08-19T19:09:29.836339Z",
     "iopub.status.busy": "2025-08-19T19:09:29.836033Z",
     "iopub.status.idle": "2025-08-19T19:09:29.852030Z",
     "shell.execute_reply": "2025-08-19T19:09:29.851207Z"
    },
    "papermill": {
     "duration": 0.031266,
     "end_time": "2025-08-19T19:09:29.853466",
     "exception": false,
     "start_time": "2025-08-19T19:09:29.822200",
     "status": "completed"
    },
    "tags": []
   },
   "outputs": [],
   "source": [
    "for subgroup, cov in cond_coverage.items():\n",
    "    cp_metrics_df[f\"cov_{subgroup}\"] = cov"
   ]
  },
  {
   "cell_type": "code",
   "execution_count": 56,
   "id": "3970120f",
   "metadata": {
    "execution": {
     "iopub.execute_input": "2025-08-19T19:09:29.885843Z",
     "iopub.status.busy": "2025-08-19T19:09:29.885031Z",
     "iopub.status.idle": "2025-08-19T19:09:29.918673Z",
     "shell.execute_reply": "2025-08-19T19:09:29.917719Z"
    },
    "papermill": {
     "duration": 0.049958,
     "end_time": "2025-08-19T19:09:29.920461",
     "exception": false,
     "start_time": "2025-08-19T19:09:29.870503",
     "status": "completed"
    },
    "tags": []
   },
   "outputs": [
    {
     "data": {
      "text/html": [
       "<div>\n",
       "<style scoped>\n",
       "    .dataframe tbody tr th:only-of-type {\n",
       "        vertical-align: middle;\n",
       "    }\n",
       "\n",
       "    .dataframe tbody tr th {\n",
       "        vertical-align: top;\n",
       "    }\n",
       "\n",
       "    .dataframe thead th {\n",
       "        text-align: right;\n",
       "    }\n",
       "</style>\n",
       "<table border=\"1\" class=\"dataframe\">\n",
       "  <thead>\n",
       "    <tr style=\"text-align: right;\">\n",
       "      <th></th>\n",
       "      <th>universe_id</th>\n",
       "      <th>universe_training_year</th>\n",
       "      <th>universe_training_size</th>\n",
       "      <th>universe_scale</th>\n",
       "      <th>universe_model</th>\n",
       "      <th>universe_exclude_features</th>\n",
       "      <th>universe_exclude_subgroups</th>\n",
       "      <th>q_hat</th>\n",
       "      <th>coverage</th>\n",
       "      <th>avg_size</th>\n",
       "      <th>cov_frau1</th>\n",
       "      <th>cov_nongerman</th>\n",
       "      <th>cov_nongerman_male</th>\n",
       "      <th>cov_nongerman_female</th>\n",
       "    </tr>\n",
       "  </thead>\n",
       "  <tbody>\n",
       "    <tr>\n",
       "      <th>0</th>\n",
       "      <td>26239ec606a5746569d2f48e33b3a1e3</td>\n",
       "      <td>2010_14</td>\n",
       "      <td>1k</td>\n",
       "      <td>do-not-scale</td>\n",
       "      <td>logreg</td>\n",
       "      <td>age</td>\n",
       "      <td>keep-all</td>\n",
       "      <td>0.676942</td>\n",
       "      <td>0.913399</td>\n",
       "      <td>1.272188</td>\n",
       "      <td>0.913304</td>\n",
       "      <td>0.962668</td>\n",
       "      <td>0.968477</td>\n",
       "      <td>0.953055</td>\n",
       "    </tr>\n",
       "  </tbody>\n",
       "</table>\n",
       "</div>"
      ],
      "text/plain": [
       "                        universe_id universe_training_year  \\\n",
       "0  26239ec606a5746569d2f48e33b3a1e3                2010_14   \n",
       "\n",
       "  universe_training_size universe_scale universe_model  \\\n",
       "0                     1k   do-not-scale         logreg   \n",
       "\n",
       "  universe_exclude_features universe_exclude_subgroups     q_hat  coverage  \\\n",
       "0                       age                   keep-all  0.676942  0.913399   \n",
       "\n",
       "   avg_size  cov_frau1  cov_nongerman  cov_nongerman_male  \\\n",
       "0  1.272188   0.913304       0.962668            0.968477   \n",
       "\n",
       "   cov_nongerman_female  \n",
       "0              0.953055  "
      ]
     },
     "execution_count": 56,
     "metadata": {},
     "output_type": "execute_result"
    }
   ],
   "source": [
    "cp_metrics_df"
   ]
  },
  {
   "cell_type": "markdown",
   "id": "3fc519cc",
   "metadata": {
    "papermill": {
     "duration": 0.012751,
     "end_time": "2025-08-19T19:09:29.952739",
     "exception": false,
     "start_time": "2025-08-19T19:09:29.939988",
     "status": "completed"
    },
    "tags": []
   },
   "source": [
    "# (Fairness) Metrics"
   ]
  },
  {
   "cell_type": "code",
   "execution_count": 57,
   "id": "a2e5e155",
   "metadata": {
    "execution": {
     "iopub.execute_input": "2025-08-19T19:09:29.980497Z",
     "iopub.status.busy": "2025-08-19T19:09:29.980164Z",
     "iopub.status.idle": "2025-08-19T19:09:29.994487Z",
     "shell.execute_reply": "2025-08-19T19:09:29.993754Z"
    },
    "papermill": {
     "duration": 0.031119,
     "end_time": "2025-08-19T19:09:29.996086",
     "exception": false,
     "start_time": "2025-08-19T19:09:29.964967",
     "status": "completed"
    },
    "tags": []
   },
   "outputs": [],
   "source": [
    "colname_to_bin = \"maxdeutsch1\"\n",
    "majority_value = org_train[colname_to_bin].mode()[0]\n",
    "\n",
    "org_test[\"majmin\"] = np.where(org_test[colname_to_bin] == majority_value, \"majority\", \"minority\")"
   ]
  },
  {
   "cell_type": "code",
   "execution_count": 58,
   "id": "17e3e4d5",
   "metadata": {
    "execution": {
     "iopub.execute_input": "2025-08-19T19:09:30.030060Z",
     "iopub.status.busy": "2025-08-19T19:09:30.029130Z",
     "iopub.status.idle": "2025-08-19T19:09:31.706577Z",
     "shell.execute_reply": "2025-08-19T19:09:31.705877Z"
    },
    "papermill": {
     "duration": 1.693703,
     "end_time": "2025-08-19T19:09:31.708190",
     "exception": false,
     "start_time": "2025-08-19T19:09:30.014487",
     "status": "completed"
    },
    "tags": []
   },
   "outputs": [],
   "source": [
    "example_universe = universe.copy()\n",
    "example_universe[\"cutoff\"] = example_universe[\"cutoff\"][0]\n",
    "example_universe[\"eval_fairness_grouping\"] = example_universe[\"eval_fairness_grouping\"][0]\n",
    "fairness_dict, metric_frame = universe_analysis.compute_metrics(\n",
    "    example_universe,\n",
    "    y_pred_prob=probs_test,\n",
    "    y_test=y_true,\n",
    "    org_test=org_test,\n",
    ")"
   ]
  },
  {
   "cell_type": "markdown",
   "id": "1fb7a0e9",
   "metadata": {
    "papermill": {
     "duration": 0.012985,
     "end_time": "2025-08-19T19:09:31.736252",
     "exception": false,
     "start_time": "2025-08-19T19:09:31.723267",
     "status": "completed"
    },
    "tags": []
   },
   "source": [
    "# Overall"
   ]
  },
  {
   "cell_type": "markdown",
   "id": "be1784b1",
   "metadata": {
    "papermill": {
     "duration": 0.01377,
     "end_time": "2025-08-19T19:09:31.762723",
     "exception": false,
     "start_time": "2025-08-19T19:09:31.748953",
     "status": "completed"
    },
    "tags": []
   },
   "source": [
    "Main fairness target: Equalized Odds. Seems to be a better fit than equal opportunity, since we're not only interested in Y = 1. Seems to be a better fit than demographic parity, since we also care about accuracy, not just equal distribution of preds.\n",
    "\n",
    "Pick column for computation of fairness metrics\n",
    "\n",
    "Performance\n",
    "Overall performance measures, most interesting in relation to the measures split by group below"
   ]
  },
  {
   "cell_type": "code",
   "execution_count": 59,
   "id": "b7672bee",
   "metadata": {
    "execution": {
     "iopub.execute_input": "2025-08-19T19:09:31.790888Z",
     "iopub.status.busy": "2025-08-19T19:09:31.789702Z",
     "iopub.status.idle": "2025-08-19T19:09:31.801515Z",
     "shell.execute_reply": "2025-08-19T19:09:31.800325Z"
    },
    "papermill": {
     "duration": 0.027679,
     "end_time": "2025-08-19T19:09:31.803207",
     "exception": false,
     "start_time": "2025-08-19T19:09:31.775528",
     "status": "completed"
    },
    "tags": []
   },
   "outputs": [
    {
     "data": {
      "text/plain": [
       "accuracy                   0.213900\n",
       "balanced accuracy          0.525210\n",
       "f1                         0.235520\n",
       "precision                  0.134545\n",
       "false positive rate        0.893532\n",
       "false negative rate        0.056048\n",
       "selection rate             0.900000\n",
       "count                  89710.000000\n",
       "dtype: float64"
      ]
     },
     "execution_count": 59,
     "metadata": {},
     "output_type": "execute_result"
    }
   ],
   "source": [
    "metric_frame.overall"
   ]
  },
  {
   "cell_type": "markdown",
   "id": "d93333c9",
   "metadata": {
    "papermill": {
     "duration": 0.016505,
     "end_time": "2025-08-19T19:09:31.851612",
     "exception": false,
     "start_time": "2025-08-19T19:09:31.835107",
     "status": "completed"
    },
    "tags": []
   },
   "source": [
    "By Group"
   ]
  },
  {
   "cell_type": "code",
   "execution_count": 60,
   "id": "52256966",
   "metadata": {
    "execution": {
     "iopub.execute_input": "2025-08-19T19:09:31.878636Z",
     "iopub.status.busy": "2025-08-19T19:09:31.878247Z",
     "iopub.status.idle": "2025-08-19T19:09:31.892133Z",
     "shell.execute_reply": "2025-08-19T19:09:31.891410Z"
    },
    "papermill": {
     "duration": 0.02887,
     "end_time": "2025-08-19T19:09:31.893668",
     "exception": false,
     "start_time": "2025-08-19T19:09:31.864798",
     "status": "completed"
    },
    "tags": []
   },
   "outputs": [
    {
     "data": {
      "text/html": [
       "<div>\n",
       "<style scoped>\n",
       "    .dataframe tbody tr th:only-of-type {\n",
       "        vertical-align: middle;\n",
       "    }\n",
       "\n",
       "    .dataframe tbody tr th {\n",
       "        vertical-align: top;\n",
       "    }\n",
       "\n",
       "    .dataframe thead th {\n",
       "        text-align: right;\n",
       "    }\n",
       "</style>\n",
       "<table border=\"1\" class=\"dataframe\">\n",
       "  <thead>\n",
       "    <tr style=\"text-align: right;\">\n",
       "      <th></th>\n",
       "      <th>accuracy</th>\n",
       "      <th>balanced accuracy</th>\n",
       "      <th>f1</th>\n",
       "      <th>precision</th>\n",
       "      <th>false positive rate</th>\n",
       "      <th>false negative rate</th>\n",
       "      <th>selection rate</th>\n",
       "      <th>count</th>\n",
       "    </tr>\n",
       "    <tr>\n",
       "      <th>majmin</th>\n",
       "      <th></th>\n",
       "      <th></th>\n",
       "      <th></th>\n",
       "      <th></th>\n",
       "      <th></th>\n",
       "      <th></th>\n",
       "      <th></th>\n",
       "      <th></th>\n",
       "    </tr>\n",
       "  </thead>\n",
       "  <tbody>\n",
       "    <tr>\n",
       "      <th>majority</th>\n",
       "      <td>0.235926</td>\n",
       "      <td>0.531413</td>\n",
       "      <td>0.243981</td>\n",
       "      <td>0.140339</td>\n",
       "      <td>0.870215</td>\n",
       "      <td>0.066958</td>\n",
       "      <td>0.878517</td>\n",
       "      <td>69170.0</td>\n",
       "    </tr>\n",
       "    <tr>\n",
       "      <th>minority</th>\n",
       "      <td>0.139727</td>\n",
       "      <td>0.507753</td>\n",
       "      <td>0.209042</td>\n",
       "      <td>0.116914</td>\n",
       "      <td>0.970559</td>\n",
       "      <td>0.013936</td>\n",
       "      <td>0.972347</td>\n",
       "      <td>20540.0</td>\n",
       "    </tr>\n",
       "  </tbody>\n",
       "</table>\n",
       "</div>"
      ],
      "text/plain": [
       "          accuracy  balanced accuracy        f1  precision  \\\n",
       "majmin                                                       \n",
       "majority  0.235926           0.531413  0.243981   0.140339   \n",
       "minority  0.139727           0.507753  0.209042   0.116914   \n",
       "\n",
       "          false positive rate  false negative rate  selection rate    count  \n",
       "majmin                                                                       \n",
       "majority             0.870215             0.066958        0.878517  69170.0  \n",
       "minority             0.970559             0.013936        0.972347  20540.0  "
      ]
     },
     "execution_count": 60,
     "metadata": {},
     "output_type": "execute_result"
    }
   ],
   "source": [
    "metric_frame.by_group"
   ]
  },
  {
   "cell_type": "code",
   "execution_count": 61,
   "id": "6e6c20ae",
   "metadata": {
    "execution": {
     "iopub.execute_input": "2025-08-19T19:09:31.922953Z",
     "iopub.status.busy": "2025-08-19T19:09:31.922558Z",
     "iopub.status.idle": "2025-08-19T19:09:33.585947Z",
     "shell.execute_reply": "2025-08-19T19:09:33.584896Z"
    },
    "papermill": {
     "duration": 1.678643,
     "end_time": "2025-08-19T19:09:33.587435",
     "exception": false,
     "start_time": "2025-08-19T19:09:31.908792",
     "status": "completed"
    },
    "tags": []
   },
   "outputs": [
    {
     "data": {
      "text/plain": [
       "array([[<Axes: title={'center': 'accuracy'}, xlabel='majmin'>,\n",
       "        <Axes: title={'center': 'balanced accuracy'}, xlabel='majmin'>,\n",
       "        <Axes: title={'center': 'f1'}, xlabel='majmin'>],\n",
       "       [<Axes: title={'center': 'precision'}, xlabel='majmin'>,\n",
       "        <Axes: title={'center': 'false positive rate'}, xlabel='majmin'>,\n",
       "        <Axes: title={'center': 'false negative rate'}, xlabel='majmin'>],\n",
       "       [<Axes: title={'center': 'selection rate'}, xlabel='majmin'>,\n",
       "        <Axes: title={'center': 'count'}, xlabel='majmin'>,\n",
       "        <Axes: xlabel='majmin'>]], dtype=object)"
      ]
     },
     "execution_count": 61,
     "metadata": {},
     "output_type": "execute_result"
    },
    {
     "data": {
      "image/png": "[encoded data removed]",
      "text/plain": [
       "<Figure size 1200x800 with 9 Axes>"
      ]
     },
     "metadata": {},
     "output_type": "display_data"
    }
   ],
   "source": [
    "# In a graphic\n",
    "metric_frame.by_group.plot.bar(\n",
    "    subplots=True,\n",
    "    layout=[3, 3],\n",
    "    legend=False,\n",
    "    figsize=[12, 8],\n",
    "    title=\"Show all metrics\",\n",
    ")"
   ]
  },
  {
   "cell_type": "markdown",
   "id": "b2e433ae",
   "metadata": {
    "papermill": {
     "duration": 0.013842,
     "end_time": "2025-08-19T19:09:33.615999",
     "exception": false,
     "start_time": "2025-08-19T19:09:33.602157",
     "status": "completed"
    },
    "tags": []
   },
   "source": [
    "# Final Output"
   ]
  },
  {
   "cell_type": "code",
   "execution_count": 62,
   "id": "3871301e",
   "metadata": {
    "execution": {
     "iopub.execute_input": "2025-08-19T19:09:33.645763Z",
     "iopub.status.busy": "2025-08-19T19:09:33.645240Z",
     "iopub.status.idle": "2025-08-19T19:09:33.651684Z",
     "shell.execute_reply": "2025-08-19T19:09:33.650967Z"
    },
    "papermill": {
     "duration": 0.022958,
     "end_time": "2025-08-19T19:09:33.653453",
     "exception": false,
     "start_time": "2025-08-19T19:09:33.630495",
     "status": "completed"
    },
    "tags": []
   },
   "outputs": [
    {
     "data": {
      "text/plain": [
       "4"
      ]
     },
     "execution_count": 62,
     "metadata": {},
     "output_type": "execute_result"
    }
   ],
   "source": [
    "sub_universes = universe_analysis.generate_sub_universes()\n",
    "len(sub_universes)"
   ]
  },
  {
   "cell_type": "code",
   "execution_count": 63,
   "id": "d9cfdaca",
   "metadata": {
    "execution": {
     "iopub.execute_input": "2025-08-19T19:09:33.682884Z",
     "iopub.status.busy": "2025-08-19T19:09:33.682516Z",
     "iopub.status.idle": "2025-08-19T19:09:33.702296Z",
     "shell.execute_reply": "2025-08-19T19:09:33.701408Z"
    },
    "papermill": {
     "duration": 0.036408,
     "end_time": "2025-08-19T19:09:33.704273",
     "exception": false,
     "start_time": "2025-08-19T19:09:33.667865",
     "status": "completed"
    },
    "tags": []
   },
   "outputs": [],
   "source": [
    "def filter_sub_universe_data(sub_universe, org_test):\n",
    "    # Keep all rows — no filtering\n",
    "    keep_rows_mask = np.ones(org_test.shape[0], dtype=bool)\n",
    "\n",
    "    print(f\"[INFO] Keeping all rows: {keep_rows_mask.sum()} rows retained.\")\n",
    "    return keep_rows_mask"
   ]
  },
  {
   "cell_type": "code",
   "execution_count": 64,
   "id": "2bc31ac1",
   "metadata": {
    "execution": {
     "iopub.execute_input": "2025-08-19T19:09:33.738548Z",
     "iopub.status.busy": "2025-08-19T19:09:33.738170Z",
     "iopub.status.idle": "2025-08-19T19:09:40.327597Z",
     "shell.execute_reply": "2025-08-19T19:09:40.326584Z"
    },
    "papermill": {
     "duration": 6.606721,
     "end_time": "2025-08-19T19:09:40.329280",
     "exception": false,
     "start_time": "2025-08-19T19:09:33.722559",
     "status": "completed"
    },
    "tags": []
   },
   "outputs": [
    {
     "name": "stdout",
     "output_type": "stream",
     "text": [
      "Stopping execution_time clock.\n",
      "[INFO] Keeping all rows: 89710 rows retained.\n"
     ]
    },
    {
     "name": "stdout",
     "output_type": "stream",
     "text": [
      "[INFO] Keeping all rows: 89710 rows retained.\n"
     ]
    },
    {
     "name": "stdout",
     "output_type": "stream",
     "text": [
      "[INFO] Keeping all rows: 89710 rows retained.\n"
     ]
    },
    {
     "name": "stdout",
     "output_type": "stream",
     "text": [
      "[INFO] Keeping all rows: 89710 rows retained.\n"
     ]
    },
    {
     "data": {
      "text/html": [
       "<div>\n",
       "<style scoped>\n",
       "    .dataframe tbody tr th:only-of-type {\n",
       "        vertical-align: middle;\n",
       "    }\n",
       "\n",
       "    .dataframe tbody tr th {\n",
       "        vertical-align: top;\n",
       "    }\n",
       "\n",
       "    .dataframe thead th {\n",
       "        text-align: right;\n",
       "    }\n",
       "</style>\n",
       "<table border=\"1\" class=\"dataframe\">\n",
       "  <thead>\n",
       "    <tr style=\"text-align: right;\">\n",
       "      <th></th>\n",
       "      <th>run_no</th>\n",
       "      <th>universe_id</th>\n",
       "      <th>universe_settings</th>\n",
       "      <th>execution_time</th>\n",
       "      <th>test_size_n</th>\n",
       "      <th>test_size_frac</th>\n",
       "      <th>fair_main_equalized_odds_difference</th>\n",
       "      <th>fair_main_equalized_odds_ratio</th>\n",
       "      <th>fair_main_demographic_parity_difference</th>\n",
       "      <th>fair_main_demographic_parity_ratio</th>\n",
       "      <th>...</th>\n",
       "      <th>perf_grp_precision_0</th>\n",
       "      <th>perf_grp_precision_1</th>\n",
       "      <th>perf_grp_false positive rate_0</th>\n",
       "      <th>perf_grp_false positive rate_1</th>\n",
       "      <th>perf_grp_false negative rate_0</th>\n",
       "      <th>perf_grp_false negative rate_1</th>\n",
       "      <th>perf_grp_selection rate_0</th>\n",
       "      <th>perf_grp_selection rate_1</th>\n",
       "      <th>perf_grp_count_0</th>\n",
       "      <th>perf_grp_count_1</th>\n",
       "    </tr>\n",
       "  </thead>\n",
       "  <tbody>\n",
       "    <tr>\n",
       "      <th>0</th>\n",
       "      <td>3</td>\n",
       "      <td>26239ec606a5746569d2f48e33b3a1e3</td>\n",
       "      <td>{\"cutoff\": \"quantile_0.1\", \"eval_fairness_grou...</td>\n",
       "      <td>20.833186</td>\n",
       "      <td>89710</td>\n",
       "      <td>1.0</td>\n",
       "      <td>0.100344</td>\n",
       "      <td>0.896612</td>\n",
       "      <td>0.093830</td>\n",
       "      <td>0.903502</td>\n",
       "      <td>...</td>\n",
       "      <td>NaN</td>\n",
       "      <td>NaN</td>\n",
       "      <td>NaN</td>\n",
       "      <td>NaN</td>\n",
       "      <td>NaN</td>\n",
       "      <td>NaN</td>\n",
       "      <td>NaN</td>\n",
       "      <td>NaN</td>\n",
       "      <td>NaN</td>\n",
       "      <td>NaN</td>\n",
       "    </tr>\n",
       "    <tr>\n",
       "      <th>0</th>\n",
       "      <td>3</td>\n",
       "      <td>26239ec606a5746569d2f48e33b3a1e3</td>\n",
       "      <td>{\"cutoff\": \"quantile_0.1\", \"eval_fairness_grou...</td>\n",
       "      <td>20.833186</td>\n",
       "      <td>89710</td>\n",
       "      <td>1.0</td>\n",
       "      <td>0.100344</td>\n",
       "      <td>0.896612</td>\n",
       "      <td>0.093830</td>\n",
       "      <td>0.903502</td>\n",
       "      <td>...</td>\n",
       "      <td>0.116914</td>\n",
       "      <td>0.140339</td>\n",
       "      <td>0.970559</td>\n",
       "      <td>0.870215</td>\n",
       "      <td>0.013936</td>\n",
       "      <td>0.066958</td>\n",
       "      <td>0.972347</td>\n",
       "      <td>0.878517</td>\n",
       "      <td>20540.0</td>\n",
       "      <td>69170.0</td>\n",
       "    </tr>\n",
       "    <tr>\n",
       "      <th>0</th>\n",
       "      <td>3</td>\n",
       "      <td>26239ec606a5746569d2f48e33b3a1e3</td>\n",
       "      <td>{\"cutoff\": \"quantile_0.25\", \"eval_fairness_gro...</td>\n",
       "      <td>20.833186</td>\n",
       "      <td>89710</td>\n",
       "      <td>1.0</td>\n",
       "      <td>0.233881</td>\n",
       "      <td>0.743863</td>\n",
       "      <td>0.217976</td>\n",
       "      <td>0.762570</td>\n",
       "      <td>...</td>\n",
       "      <td>NaN</td>\n",
       "      <td>NaN</td>\n",
       "      <td>NaN</td>\n",
       "      <td>NaN</td>\n",
       "      <td>NaN</td>\n",
       "      <td>NaN</td>\n",
       "      <td>NaN</td>\n",
       "      <td>NaN</td>\n",
       "      <td>NaN</td>\n",
       "      <td>NaN</td>\n",
       "    </tr>\n",
       "    <tr>\n",
       "      <th>0</th>\n",
       "      <td>3</td>\n",
       "      <td>26239ec606a5746569d2f48e33b3a1e3</td>\n",
       "      <td>{\"cutoff\": \"quantile_0.25\", \"eval_fairness_gro...</td>\n",
       "      <td>20.833186</td>\n",
       "      <td>89710</td>\n",
       "      <td>1.0</td>\n",
       "      <td>0.233881</td>\n",
       "      <td>0.743863</td>\n",
       "      <td>0.217976</td>\n",
       "      <td>0.762570</td>\n",
       "      <td>...</td>\n",
       "      <td>0.120062</td>\n",
       "      <td>0.157997</td>\n",
       "      <td>0.913108</td>\n",
       "      <td>0.679227</td>\n",
       "      <td>0.043919</td>\n",
       "      <td>0.162910</td>\n",
       "      <td>0.918062</td>\n",
       "      <td>0.700087</td>\n",
       "      <td>20540.0</td>\n",
       "      <td>69170.0</td>\n",
       "    </tr>\n",
       "  </tbody>\n",
       "</table>\n",
       "<p>4 rows × 50 columns</p>\n",
       "</div>"
      ],
      "text/plain": [
       "  run_no                       universe_id  \\\n",
       "0      3  26239ec606a5746569d2f48e33b3a1e3   \n",
       "0      3  26239ec606a5746569d2f48e33b3a1e3   \n",
       "0      3  26239ec606a5746569d2f48e33b3a1e3   \n",
       "0      3  26239ec606a5746569d2f48e33b3a1e3   \n",
       "\n",
       "                                   universe_settings  execution_time  \\\n",
       "0  {\"cutoff\": \"quantile_0.1\", \"eval_fairness_grou...       20.833186   \n",
       "0  {\"cutoff\": \"quantile_0.1\", \"eval_fairness_grou...       20.833186   \n",
       "0  {\"cutoff\": \"quantile_0.25\", \"eval_fairness_gro...       20.833186   \n",
       "0  {\"cutoff\": \"quantile_0.25\", \"eval_fairness_gro...       20.833186   \n",
       "\n",
       "   test_size_n  test_size_frac  fair_main_equalized_odds_difference  \\\n",
       "0        89710             1.0                             0.100344   \n",
       "0        89710             1.0                             0.100344   \n",
       "0        89710             1.0                             0.233881   \n",
       "0        89710             1.0                             0.233881   \n",
       "\n",
       "   fair_main_equalized_odds_ratio  fair_main_demographic_parity_difference  \\\n",
       "0                        0.896612                                 0.093830   \n",
       "0                        0.896612                                 0.093830   \n",
       "0                        0.743863                                 0.217976   \n",
       "0                        0.743863                                 0.217976   \n",
       "\n",
       "   fair_main_demographic_parity_ratio  ...  perf_grp_precision_0  \\\n",
       "0                            0.903502  ...                   NaN   \n",
       "0                            0.903502  ...              0.116914   \n",
       "0                            0.762570  ...                   NaN   \n",
       "0                            0.762570  ...              0.120062   \n",
       "\n",
       "   perf_grp_precision_1  perf_grp_false positive rate_0  \\\n",
       "0                   NaN                             NaN   \n",
       "0              0.140339                        0.970559   \n",
       "0                   NaN                             NaN   \n",
       "0              0.157997                        0.913108   \n",
       "\n",
       "   perf_grp_false positive rate_1  perf_grp_false negative rate_0  \\\n",
       "0                             NaN                             NaN   \n",
       "0                        0.870215                        0.013936   \n",
       "0                             NaN                             NaN   \n",
       "0                        0.679227                        0.043919   \n",
       "\n",
       "   perf_grp_false negative rate_1  perf_grp_selection rate_0  \\\n",
       "0                             NaN                        NaN   \n",
       "0                        0.066958                   0.972347   \n",
       "0                             NaN                        NaN   \n",
       "0                        0.162910                   0.918062   \n",
       "\n",
       "   perf_grp_selection rate_1  perf_grp_count_0  perf_grp_count_1  \n",
       "0                        NaN               NaN               NaN  \n",
       "0                   0.878517           20540.0           69170.0  \n",
       "0                        NaN               NaN               NaN  \n",
       "0                   0.700087           20540.0           69170.0  \n",
       "\n",
       "[4 rows x 50 columns]"
      ]
     },
     "execution_count": 64,
     "metadata": {},
     "output_type": "execute_result"
    }
   ],
   "source": [
    "final_output = universe_analysis.generate_final_output(\n",
    "    y_pred_prob=probs_test,\n",
    "    y_test=y_true,\n",
    "    org_test=org_test,\n",
    "    filter_data=filter_sub_universe_data,\n",
    "    cp_metrics_df=cp_metrics_df,\n",
    "    save=True,\n",
    ")\n",
    "final_output"
   ]
  },
  {
   "cell_type": "code",
   "execution_count": null,
   "id": "8b80a1ff",
   "metadata": {
    "papermill": {
     "duration": 0.014701,
     "end_time": "2025-08-19T19:09:40.363923",
     "exception": false,
     "start_time": "2025-08-19T19:09:40.349222",
     "status": "completed"
    },
    "tags": []
   },
   "outputs": [],
   "source": []
  },
  {
   "cell_type": "code",
   "execution_count": null,
   "id": "275c9fad",
   "metadata": {
    "papermill": {
     "duration": 0.014555,
     "end_time": "2025-08-19T19:09:40.392920",
     "exception": false,
     "start_time": "2025-08-19T19:09:40.378365",
     "status": "completed"
    },
    "tags": []
   },
   "outputs": [],
   "source": []
  }
 ],
 "metadata": {
  "celltoolbar": "Tags",
  "kernelspec": {
   "display_name": "Python (CMA Fairness)",
   "language": "python",
   "name": "cma_fair_env"
  },
  "language_info": {
   "codemirror_mode": {
    "name": "ipython",
    "version": 3
   },
   "file_extension": ".py",
   "mimetype": "text/x-python",
   "name": "python",
   "nbconvert_exporter": "python",
   "pygments_lexer": "ipython3",
   "version": "3.10.12"
  },
  "papermill": {
   "default_parameters": {},
   "duration": 31.363158,
   "end_time": "2025-08-19T19:09:41.548333",
   "environment_variables": {},
   "exception": null,
   "input_path": "universe_analysis.ipynb",
   "output_path": "output/runs/3/notebooks/m_3-26239ec606a5746569d2f48e33b3a1e3.ipynb",
   "parameters": {
    "output_dir": "output",
    "run_no": "3",
    "seed": "2023",
    "universe": "{\"cutoff\": [\"quantile_0.1\", \"quantile_0.25\"], \"eval_fairness_grouping\": [\"majority-minority\", \"nationality-all\"], \"exclude_features\": \"age\", \"exclude_subgroups\": \"keep-all\", \"model\": \"logreg\", \"scale\": \"do-not-scale\", \"training_size\": \"1k\", \"training_year\": \"2010_14\"}",
    "universe_id": "26239ec606a5746569d2f48e33b3a1e3"
   },
   "start_time": "2025-08-19T19:09:10.185175",
   "version": "2.6.0"
  }
 },
 "nbformat": 4,
 "nbformat_minor": 5
}