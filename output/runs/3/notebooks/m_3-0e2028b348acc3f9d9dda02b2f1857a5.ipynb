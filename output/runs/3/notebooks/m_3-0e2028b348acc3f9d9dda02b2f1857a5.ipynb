{
 "cells": [
  {
   "cell_type": "markdown",
   "id": "ef23dbb3",
   "metadata": {
    "papermill": {
     "duration": 0.024494,
     "end_time": "2025-08-19T18:58:36.949431",
     "exception": false,
     "start_time": "2025-08-19T18:58:36.924937",
     "status": "completed"
    },
    "tags": []
   },
   "source": [
    "# Setup"
   ]
  },
  {
   "cell_type": "code",
   "execution_count": 1,
   "id": "0bc8e7dc",
   "metadata": {
    "execution": {
     "iopub.execute_input": "2025-08-19T18:58:36.971500Z",
     "iopub.status.busy": "2025-08-19T18:58:36.971041Z",
     "iopub.status.idle": "2025-08-19T18:58:36.981076Z",
     "shell.execute_reply": "2025-08-19T18:58:36.980332Z"
    },
    "papermill": {
     "duration": 0.023166,
     "end_time": "2025-08-19T18:58:36.984253",
     "exception": false,
     "start_time": "2025-08-19T18:58:36.961087",
     "status": "completed"
    },
    "tags": []
   },
   "outputs": [
    {
     "name": "stdout",
     "output_type": "stream",
     "text": [
      "/dss/dsshome1/0C/ra93lal2/cma/CMA_Fairness_v2\n"
     ]
    },
    {
     "name": "stderr",
     "output_type": "stream",
     "text": [
      "/dss/dsshome1/0C/ra93lal2/.local/share/virtualenvs/CMA_Fairness_v2-3j10GkSs/lib/python3.10/site-packages/IPython/core/magics/osm.py:393: UserWarning: This is now an optional IPython functionality, using bookmarks requires you to install the `pickleshare` library.\n",
      "  bkms = self.shell.db.get('bookmarks', {})\n",
      "/dss/dsshome1/0C/ra93lal2/.local/share/virtualenvs/CMA_Fairness_v2-3j10GkSs/lib/python3.10/site-packages/IPython/core/magics/osm.py:417: UserWarning: This is now an optional IPython functionality, setting dhist requires you to install the `pickleshare` library.\n",
      "  self.shell.db['dhist'] = compress_dhist(dhist)[-100:]\n"
     ]
    }
   ],
   "source": [
    "%cd ~/cma/CMA_Fairness_v2"
   ]
  },
  {
   "cell_type": "markdown",
   "id": "9d235661",
   "metadata": {
    "papermill": {
     "duration": 0.009605,
     "end_time": "2025-08-19T18:58:37.013939",
     "exception": false,
     "start_time": "2025-08-19T18:58:37.004334",
     "status": "completed"
    },
    "tags": []
   },
   "source": [
    "The following cell holds the definition of our parameters, these values can be overriden by rendering the with e.g. the following command:\n",
    "\n",
    "papermill -p alpha 0.2 -p ratio 0.3 universe_analysis.ipynb output/test_run.ipynb"
   ]
  },
  {
   "cell_type": "code",
   "execution_count": 2,
   "id": "4a789d8e",
   "metadata": {
    "execution": {
     "iopub.execute_input": "2025-08-19T18:58:37.039236Z",
     "iopub.status.busy": "2025-08-19T18:58:37.038468Z",
     "iopub.status.idle": "2025-08-19T18:58:37.044128Z",
     "shell.execute_reply": "2025-08-19T18:58:37.043315Z"
    },
    "papermill": {
     "duration": 0.020095,
     "end_time": "2025-08-19T18:58:37.047689",
     "exception": false,
     "start_time": "2025-08-19T18:58:37.027594",
     "status": "completed"
    },
    "tags": []
   },
   "outputs": [
    {
     "name": "stdout",
     "output_type": "stream",
     "text": [
      "Current working directory: /dss/dsshome1/0C/ra93lal2/cma/CMA_Fairness_v2\n"
     ]
    }
   ],
   "source": [
    "import os\n",
    "print(\"Current working directory:\", os.getcwd())"
   ]
  },
  {
   "cell_type": "code",
   "execution_count": 3,
   "id": "4132aaed",
   "metadata": {
    "execution": {
     "iopub.execute_input": "2025-08-19T18:58:37.069610Z",
     "iopub.status.busy": "2025-08-19T18:58:37.069218Z",
     "iopub.status.idle": "2025-08-19T18:58:37.164945Z",
     "shell.execute_reply": "2025-08-19T18:58:37.163384Z"
    },
    "papermill": {
     "duration": 0.107827,
     "end_time": "2025-08-19T18:58:37.166982",
     "exception": false,
     "start_time": "2025-08-19T18:58:37.059155",
     "status": "completed"
    },
    "tags": [
     "parameters"
    ]
   },
   "outputs": [],
   "source": [
    "run_no = 0\n",
    "universe_id = \"test\"\n",
    "universe = {\n",
    "    \"training_size\": \"5k\", # \"25k\", \"5k\", \"1k\"\n",
    "    \"training_year\": \"2012_14\", # \"2014\", \"2012_14\", \"2010_14\"\n",
    "    \"scale\": \"scale\", # \"scale\", \"do-not-scale\",\n",
    "    \"model\": \"elasticnet\", # \"logreg\", \"penalized_logreg\", \"rf\", \"gbm\", \"elasticnet\"\n",
    "    \"cutoff\": [\"quantile_0.15\", \"quantile_0.30\"],\n",
    "    \"exclude_features\": \"age\", # \"none\", \"nationality\", \"sex\", \"nationality-sex\", \"age\"\n",
    "    \"exclude_subgroups\": \"drop-non-german\", # \"keep-all\", \"drop-non-german\"\n",
    "    \"eval_fairness_grouping\": [\"majority-minority\", \"nationality-all\"]\n",
    "}\n",
    "\n",
    "output_dir=\"./output\"\n",
    "seed=0"
   ]
  },
  {
   "cell_type": "code",
   "execution_count": 4,
   "id": "2c962f82",
   "metadata": {
    "execution": {
     "iopub.execute_input": "2025-08-19T18:58:37.189588Z",
     "iopub.status.busy": "2025-08-19T18:58:37.188895Z",
     "iopub.status.idle": "2025-08-19T18:58:37.196698Z",
     "shell.execute_reply": "2025-08-19T18:58:37.195381Z"
    },
    "papermill": {
     "duration": 0.021618,
     "end_time": "2025-08-19T18:58:37.198490",
     "exception": false,
     "start_time": "2025-08-19T18:58:37.176872",
     "status": "completed"
    },
    "tags": [
     "injected-parameters"
    ]
   },
   "outputs": [],
   "source": [
    "# Parameters\n",
    "universe_id = \"0e2028b348acc3f9d9dda02b2f1857a5\"\n",
    "run_no = \"3\"\n",
    "universe = \"{\\\"cutoff\\\": [\\\"quantile_0.1\\\", \\\"quantile_0.25\\\"], \\\"eval_fairness_grouping\\\": [\\\"majority-minority\\\", \\\"nationality-all\\\"], \\\"exclude_features\\\": \\\"age\\\", \\\"exclude_subgroups\\\": \\\"keep-all\\\", \\\"model\\\": \\\"rf\\\", \\\"scale\\\": \\\"scale\\\", \\\"training_size\\\": \\\"1k\\\", \\\"training_year\\\": \\\"2012_14\\\"}\"\n",
    "output_dir = \"output\"\n",
    "seed = \"2023\"\n"
   ]
  },
  {
   "cell_type": "code",
   "execution_count": 5,
   "id": "a5d7941f",
   "metadata": {
    "execution": {
     "iopub.execute_input": "2025-08-19T18:58:37.223900Z",
     "iopub.status.busy": "2025-08-19T18:58:37.223176Z",
     "iopub.status.idle": "2025-08-19T18:58:37.245554Z",
     "shell.execute_reply": "2025-08-19T18:58:37.242927Z"
    },
    "papermill": {
     "duration": 0.03736,
     "end_time": "2025-08-19T18:58:37.248049",
     "exception": false,
     "start_time": "2025-08-19T18:58:37.210689",
     "status": "completed"
    },
    "tags": []
   },
   "outputs": [],
   "source": [
    "import json\n",
    "if isinstance(universe, str):\n",
    "    universe = json.loads(universe)"
   ]
  },
  {
   "cell_type": "code",
   "execution_count": 6,
   "id": "7076ccb1",
   "metadata": {
    "execution": {
     "iopub.execute_input": "2025-08-19T18:58:37.276857Z",
     "iopub.status.busy": "2025-08-19T18:58:37.275914Z",
     "iopub.status.idle": "2025-08-19T18:58:37.321931Z",
     "shell.execute_reply": "2025-08-19T18:58:37.320939Z"
    },
    "papermill": {
     "duration": 0.060528,
     "end_time": "2025-08-19T18:58:37.324121",
     "exception": false,
     "start_time": "2025-08-19T18:58:37.263593",
     "status": "completed"
    },
    "tags": []
   },
   "outputs": [],
   "source": [
    "# Auto-reload the custom package\n",
    "%load_ext autoreload\n",
    "%autoreload 1\n",
    "%aimport fairness_multiverse"
   ]
  },
  {
   "cell_type": "code",
   "execution_count": 7,
   "id": "94c8eb93",
   "metadata": {
    "execution": {
     "iopub.execute_input": "2025-08-19T18:58:37.345300Z",
     "iopub.status.busy": "2025-08-19T18:58:37.344761Z",
     "iopub.status.idle": "2025-08-19T18:58:38.975288Z",
     "shell.execute_reply": "2025-08-19T18:58:38.974393Z"
    },
    "papermill": {
     "duration": 1.644022,
     "end_time": "2025-08-19T18:58:38.977920",
     "exception": false,
     "start_time": "2025-08-19T18:58:37.333898",
     "status": "completed"
    },
    "tags": []
   },
   "outputs": [],
   "source": [
    "from fairness_multiverse.universe import UniverseAnalysis\n",
    "\n",
    "universe_analysis = UniverseAnalysis(\n",
    "    run_no = run_no,\n",
    "    universe_id = universe_id,\n",
    "    universe = universe,\n",
    "    output_dir=output_dir,\n",
    ")"
   ]
  },
  {
   "cell_type": "code",
   "execution_count": 8,
   "id": "2a6381cf",
   "metadata": {
    "execution": {
     "iopub.execute_input": "2025-08-19T18:58:39.004069Z",
     "iopub.status.busy": "2025-08-19T18:58:39.003662Z",
     "iopub.status.idle": "2025-08-19T18:58:39.008945Z",
     "shell.execute_reply": "2025-08-19T18:58:39.008259Z"
    },
    "papermill": {
     "duration": 0.019964,
     "end_time": "2025-08-19T18:58:39.012668",
     "exception": false,
     "start_time": "2025-08-19T18:58:38.992704",
     "status": "completed"
    },
    "tags": []
   },
   "outputs": [
    {
     "name": "stdout",
     "output_type": "stream",
     "text": [
      "Using Seed: 2023\n"
     ]
    }
   ],
   "source": [
    "import numpy as np\n",
    "parsed_seed = int(seed)\n",
    "np.random.seed(parsed_seed)\n",
    "print(f\"Using Seed: {parsed_seed}\")"
   ]
  },
  {
   "cell_type": "markdown",
   "id": "b6e958b4",
   "metadata": {
    "papermill": {
     "duration": 0.016865,
     "end_time": "2025-08-19T18:58:39.041745",
     "exception": false,
     "start_time": "2025-08-19T18:58:39.024880",
     "status": "completed"
    },
    "tags": []
   },
   "source": [
    "# Loading Data"
   ]
  },
  {
   "cell_type": "code",
   "execution_count": 9,
   "id": "98701482",
   "metadata": {
    "execution": {
     "iopub.execute_input": "2025-08-19T18:58:39.081862Z",
     "iopub.status.busy": "2025-08-19T18:58:39.081351Z",
     "iopub.status.idle": "2025-08-19T18:58:49.009477Z",
     "shell.execute_reply": "2025-08-19T18:58:49.008316Z"
    },
    "papermill": {
     "duration": 9.948451,
     "end_time": "2025-08-19T18:58:49.011023",
     "exception": false,
     "start_time": "2025-08-19T18:58:39.062572",
     "status": "completed"
    },
    "tags": []
   },
   "outputs": [
    {
     "name": "stdout",
     "output_type": "stream",
     "text": [
      "Loading SIAB data from cache: data/siab_cached.csv.gz\n"
     ]
    },
    {
     "name": "stdout",
     "output_type": "stream",
     "text": [
      "(643690, 164)\n"
     ]
    }
   ],
   "source": [
    "from pathlib import Path\n",
    "import pandas as pd\n",
    "\n",
    "# File paths\n",
    "raw_file = Path(\"data/raw/siab.csv\")\n",
    "cache_file = Path(\"data/siab_cached.csv.gz\")\n",
    "\n",
    "# Ensure cache directory exists\n",
    "cache_file.parent.mkdir(parents=True, exist_ok=True)\n",
    "\n",
    "# Load with simple caching\n",
    "if cache_file.exists():\n",
    "    print(f\"Loading SIAB data from cache: {cache_file}\")\n",
    "    siab = pd.read_csv(cache_file, compression='gzip')\n",
    "else:\n",
    "    print(f\"Cache not found. Reading raw SIAB data: {raw_file}\")\n",
    "    siab = pd.read_csv(raw_file)\n",
    "    siab.to_csv(cache_file, index=False, compression='gzip')\n",
    "    print(f\"Cached SIAB data to: {cache_file}\")\n",
    "\n",
    "print(siab.shape)"
   ]
  },
  {
   "cell_type": "code",
   "execution_count": 10,
   "id": "058d2abb",
   "metadata": {
    "execution": {
     "iopub.execute_input": "2025-08-19T18:58:49.035294Z",
     "iopub.status.busy": "2025-08-19T18:58:49.034420Z",
     "iopub.status.idle": "2025-08-19T18:58:49.209025Z",
     "shell.execute_reply": "2025-08-19T18:58:49.206916Z"
    },
    "papermill": {
     "duration": 0.187589,
     "end_time": "2025-08-19T18:58:49.210574",
     "exception": false,
     "start_time": "2025-08-19T18:58:49.022985",
     "status": "completed"
    },
    "tags": []
   },
   "outputs": [
    {
     "data": {
      "text/html": [
       "<div>\n",
       "<style scoped>\n",
       "    .dataframe tbody tr th:only-of-type {\n",
       "        vertical-align: middle;\n",
       "    }\n",
       "\n",
       "    .dataframe tbody tr th {\n",
       "        vertical-align: top;\n",
       "    }\n",
       "\n",
       "    .dataframe thead th {\n",
       "        text-align: right;\n",
       "    }\n",
       "</style>\n",
       "<table border=\"1\" class=\"dataframe\">\n",
       "  <thead>\n",
       "    <tr style=\"text-align: right;\">\n",
       "      <th></th>\n",
       "      <th>persnr</th>\n",
       "      <th>year</th>\n",
       "      <th>nrEntry</th>\n",
       "      <th>ltue</th>\n",
       "      <th>employed_before</th>\n",
       "      <th>receipt_leh_before</th>\n",
       "      <th>receipt_lhg_before</th>\n",
       "      <th>se_before</th>\n",
       "      <th>ASU_notue_seeking_before</th>\n",
       "      <th>ASU_other_before</th>\n",
       "      <th>...</th>\n",
       "      <th>minijob_tot_dur_byage</th>\n",
       "      <th>ft_tot_dur_byage</th>\n",
       "      <th>befrist_tot_dur_byage</th>\n",
       "      <th>leih_tot_dur_byage</th>\n",
       "      <th>LHG_tot_dur_byage</th>\n",
       "      <th>LEH_tot_dur_byage</th>\n",
       "      <th>almp_tot_dur_byage</th>\n",
       "      <th>almp_aw_tot_dur_byage</th>\n",
       "      <th>se_tot_dur_byage</th>\n",
       "      <th>seeking1_tot_dur_byage</th>\n",
       "    </tr>\n",
       "  </thead>\n",
       "  <tbody>\n",
       "    <tr>\n",
       "      <th>0</th>\n",
       "      <td>7</td>\n",
       "      <td>2015</td>\n",
       "      <td>1</td>\n",
       "      <td>0</td>\n",
       "      <td>1</td>\n",
       "      <td>0</td>\n",
       "      <td>0</td>\n",
       "      <td>0</td>\n",
       "      <td>1</td>\n",
       "      <td>0</td>\n",
       "      <td>...</td>\n",
       "      <td>0.000000</td>\n",
       "      <td>0.000000</td>\n",
       "      <td>15.043478</td>\n",
       "      <td>0.000000</td>\n",
       "      <td>0.000000</td>\n",
       "      <td>0.000000</td>\n",
       "      <td>0.000000</td>\n",
       "      <td>0.000000</td>\n",
       "      <td>0.000000</td>\n",
       "      <td>0.000000</td>\n",
       "    </tr>\n",
       "    <tr>\n",
       "      <th>1</th>\n",
       "      <td>18</td>\n",
       "      <td>2010</td>\n",
       "      <td>1</td>\n",
       "      <td>1</td>\n",
       "      <td>0</td>\n",
       "      <td>0</td>\n",
       "      <td>0</td>\n",
       "      <td>0</td>\n",
       "      <td>0</td>\n",
       "      <td>0</td>\n",
       "      <td>...</td>\n",
       "      <td>0.000000</td>\n",
       "      <td>0.000000</td>\n",
       "      <td>0.000000</td>\n",
       "      <td>0.000000</td>\n",
       "      <td>0.000000</td>\n",
       "      <td>0.000000</td>\n",
       "      <td>0.000000</td>\n",
       "      <td>0.000000</td>\n",
       "      <td>0.000000</td>\n",
       "      <td>0.000000</td>\n",
       "    </tr>\n",
       "    <tr>\n",
       "      <th>2</th>\n",
       "      <td>18</td>\n",
       "      <td>2011</td>\n",
       "      <td>2</td>\n",
       "      <td>0</td>\n",
       "      <td>1</td>\n",
       "      <td>0</td>\n",
       "      <td>1</td>\n",
       "      <td>0</td>\n",
       "      <td>1</td>\n",
       "      <td>0</td>\n",
       "      <td>...</td>\n",
       "      <td>2.714286</td>\n",
       "      <td>2.714286</td>\n",
       "      <td>0.000000</td>\n",
       "      <td>0.000000</td>\n",
       "      <td>10.775510</td>\n",
       "      <td>0.000000</td>\n",
       "      <td>8.367347</td>\n",
       "      <td>0.000000</td>\n",
       "      <td>0.000000</td>\n",
       "      <td>9.836735</td>\n",
       "    </tr>\n",
       "    <tr>\n",
       "      <th>3</th>\n",
       "      <td>18</td>\n",
       "      <td>2012</td>\n",
       "      <td>3</td>\n",
       "      <td>0</td>\n",
       "      <td>1</td>\n",
       "      <td>0</td>\n",
       "      <td>1</td>\n",
       "      <td>0</td>\n",
       "      <td>1</td>\n",
       "      <td>0</td>\n",
       "      <td>...</td>\n",
       "      <td>4.200000</td>\n",
       "      <td>4.200000</td>\n",
       "      <td>0.000000</td>\n",
       "      <td>0.000000</td>\n",
       "      <td>12.100000</td>\n",
       "      <td>0.000000</td>\n",
       "      <td>9.400000</td>\n",
       "      <td>0.000000</td>\n",
       "      <td>0.000000</td>\n",
       "      <td>9.960000</td>\n",
       "    </tr>\n",
       "    <tr>\n",
       "      <th>4</th>\n",
       "      <td>18</td>\n",
       "      <td>2012</td>\n",
       "      <td>4</td>\n",
       "      <td>0</td>\n",
       "      <td>1</td>\n",
       "      <td>0</td>\n",
       "      <td>1</td>\n",
       "      <td>0</td>\n",
       "      <td>1</td>\n",
       "      <td>0</td>\n",
       "      <td>...</td>\n",
       "      <td>5.460000</td>\n",
       "      <td>5.460000</td>\n",
       "      <td>0.000000</td>\n",
       "      <td>0.000000</td>\n",
       "      <td>13.360000</td>\n",
       "      <td>0.000000</td>\n",
       "      <td>10.320000</td>\n",
       "      <td>0.000000</td>\n",
       "      <td>0.000000</td>\n",
       "      <td>10.280000</td>\n",
       "    </tr>\n",
       "    <tr>\n",
       "      <th>...</th>\n",
       "      <td>...</td>\n",
       "      <td>...</td>\n",
       "      <td>...</td>\n",
       "      <td>...</td>\n",
       "      <td>...</td>\n",
       "      <td>...</td>\n",
       "      <td>...</td>\n",
       "      <td>...</td>\n",
       "      <td>...</td>\n",
       "      <td>...</td>\n",
       "      <td>...</td>\n",
       "      <td>...</td>\n",
       "      <td>...</td>\n",
       "      <td>...</td>\n",
       "      <td>...</td>\n",
       "      <td>...</td>\n",
       "      <td>...</td>\n",
       "      <td>...</td>\n",
       "      <td>...</td>\n",
       "      <td>...</td>\n",
       "      <td>...</td>\n",
       "    </tr>\n",
       "    <tr>\n",
       "      <th>643685</th>\n",
       "      <td>1827860</td>\n",
       "      <td>2013</td>\n",
       "      <td>1</td>\n",
       "      <td>0</td>\n",
       "      <td>0</td>\n",
       "      <td>0</td>\n",
       "      <td>1</td>\n",
       "      <td>0</td>\n",
       "      <td>0</td>\n",
       "      <td>1</td>\n",
       "      <td>...</td>\n",
       "      <td>0.000000</td>\n",
       "      <td>0.000000</td>\n",
       "      <td>0.000000</td>\n",
       "      <td>0.000000</td>\n",
       "      <td>0.612903</td>\n",
       "      <td>0.000000</td>\n",
       "      <td>0.000000</td>\n",
       "      <td>0.000000</td>\n",
       "      <td>0.000000</td>\n",
       "      <td>0.000000</td>\n",
       "    </tr>\n",
       "    <tr>\n",
       "      <th>643686</th>\n",
       "      <td>1827860</td>\n",
       "      <td>2015</td>\n",
       "      <td>2</td>\n",
       "      <td>1</td>\n",
       "      <td>0</td>\n",
       "      <td>0</td>\n",
       "      <td>1</td>\n",
       "      <td>0</td>\n",
       "      <td>1</td>\n",
       "      <td>0</td>\n",
       "      <td>...</td>\n",
       "      <td>0.000000</td>\n",
       "      <td>0.000000</td>\n",
       "      <td>0.212121</td>\n",
       "      <td>0.212121</td>\n",
       "      <td>17.363636</td>\n",
       "      <td>0.000000</td>\n",
       "      <td>8.909091</td>\n",
       "      <td>0.000000</td>\n",
       "      <td>0.000000</td>\n",
       "      <td>7.121212</td>\n",
       "    </tr>\n",
       "    <tr>\n",
       "      <th>643687</th>\n",
       "      <td>1827860</td>\n",
       "      <td>2016</td>\n",
       "      <td>3</td>\n",
       "      <td>1</td>\n",
       "      <td>0</td>\n",
       "      <td>0</td>\n",
       "      <td>1</td>\n",
       "      <td>1</td>\n",
       "      <td>0</td>\n",
       "      <td>1</td>\n",
       "      <td>...</td>\n",
       "      <td>0.000000</td>\n",
       "      <td>0.000000</td>\n",
       "      <td>0.294118</td>\n",
       "      <td>0.205882</td>\n",
       "      <td>34.705882</td>\n",
       "      <td>0.000000</td>\n",
       "      <td>10.352941</td>\n",
       "      <td>1.705882</td>\n",
       "      <td>1.705882</td>\n",
       "      <td>23.911765</td>\n",
       "    </tr>\n",
       "    <tr>\n",
       "      <th>643688</th>\n",
       "      <td>1827869</td>\n",
       "      <td>2013</td>\n",
       "      <td>1</td>\n",
       "      <td>1</td>\n",
       "      <td>1</td>\n",
       "      <td>0</td>\n",
       "      <td>0</td>\n",
       "      <td>0</td>\n",
       "      <td>1</td>\n",
       "      <td>0</td>\n",
       "      <td>...</td>\n",
       "      <td>0.000000</td>\n",
       "      <td>0.000000</td>\n",
       "      <td>0.000000</td>\n",
       "      <td>0.000000</td>\n",
       "      <td>0.000000</td>\n",
       "      <td>0.525424</td>\n",
       "      <td>0.000000</td>\n",
       "      <td>0.000000</td>\n",
       "      <td>0.000000</td>\n",
       "      <td>0.000000</td>\n",
       "    </tr>\n",
       "    <tr>\n",
       "      <th>643689</th>\n",
       "      <td>1827869</td>\n",
       "      <td>2014</td>\n",
       "      <td>2</td>\n",
       "      <td>0</td>\n",
       "      <td>0</td>\n",
       "      <td>1</td>\n",
       "      <td>0</td>\n",
       "      <td>0</td>\n",
       "      <td>1</td>\n",
       "      <td>0</td>\n",
       "      <td>...</td>\n",
       "      <td>0.000000</td>\n",
       "      <td>0.666667</td>\n",
       "      <td>0.666667</td>\n",
       "      <td>0.000000</td>\n",
       "      <td>0.000000</td>\n",
       "      <td>8.950000</td>\n",
       "      <td>1.033333</td>\n",
       "      <td>0.083333</td>\n",
       "      <td>0.083333</td>\n",
       "      <td>8.133333</td>\n",
       "    </tr>\n",
       "  </tbody>\n",
       "</table>\n",
       "<p>643690 rows × 164 columns</p>\n",
       "</div>"
      ],
      "text/plain": [
       "         persnr  year  nrEntry  ltue  employed_before  receipt_leh_before  \\\n",
       "0             7  2015        1     0                1                   0   \n",
       "1            18  2010        1     1                0                   0   \n",
       "2            18  2011        2     0                1                   0   \n",
       "3            18  2012        3     0                1                   0   \n",
       "4            18  2012        4     0                1                   0   \n",
       "...         ...   ...      ...   ...              ...                 ...   \n",
       "643685  1827860  2013        1     0                0                   0   \n",
       "643686  1827860  2015        2     1                0                   0   \n",
       "643687  1827860  2016        3     1                0                   0   \n",
       "643688  1827869  2013        1     1                1                   0   \n",
       "643689  1827869  2014        2     0                0                   1   \n",
       "\n",
       "        receipt_lhg_before  se_before  ASU_notue_seeking_before  \\\n",
       "0                        0          0                         1   \n",
       "1                        0          0                         0   \n",
       "2                        1          0                         1   \n",
       "3                        1          0                         1   \n",
       "4                        1          0                         1   \n",
       "...                    ...        ...                       ...   \n",
       "643685                   1          0                         0   \n",
       "643686                   1          0                         1   \n",
       "643687                   1          1                         0   \n",
       "643688                   0          0                         1   \n",
       "643689                   0          0                         1   \n",
       "\n",
       "        ASU_other_before  ...  minijob_tot_dur_byage  ft_tot_dur_byage  \\\n",
       "0                      0  ...               0.000000          0.000000   \n",
       "1                      0  ...               0.000000          0.000000   \n",
       "2                      0  ...               2.714286          2.714286   \n",
       "3                      0  ...               4.200000          4.200000   \n",
       "4                      0  ...               5.460000          5.460000   \n",
       "...                  ...  ...                    ...               ...   \n",
       "643685                 1  ...               0.000000          0.000000   \n",
       "643686                 0  ...               0.000000          0.000000   \n",
       "643687                 1  ...               0.000000          0.000000   \n",
       "643688                 0  ...               0.000000          0.000000   \n",
       "643689                 0  ...               0.000000          0.666667   \n",
       "\n",
       "        befrist_tot_dur_byage  leih_tot_dur_byage  LHG_tot_dur_byage  \\\n",
       "0                   15.043478            0.000000           0.000000   \n",
       "1                    0.000000            0.000000           0.000000   \n",
       "2                    0.000000            0.000000          10.775510   \n",
       "3                    0.000000            0.000000          12.100000   \n",
       "4                    0.000000            0.000000          13.360000   \n",
       "...                       ...                 ...                ...   \n",
       "643685               0.000000            0.000000           0.612903   \n",
       "643686               0.212121            0.212121          17.363636   \n",
       "643687               0.294118            0.205882          34.705882   \n",
       "643688               0.000000            0.000000           0.000000   \n",
       "643689               0.666667            0.000000           0.000000   \n",
       "\n",
       "        LEH_tot_dur_byage  almp_tot_dur_byage  almp_aw_tot_dur_byage  \\\n",
       "0                0.000000            0.000000               0.000000   \n",
       "1                0.000000            0.000000               0.000000   \n",
       "2                0.000000            8.367347               0.000000   \n",
       "3                0.000000            9.400000               0.000000   \n",
       "4                0.000000           10.320000               0.000000   \n",
       "...                   ...                 ...                    ...   \n",
       "643685           0.000000            0.000000               0.000000   \n",
       "643686           0.000000            8.909091               0.000000   \n",
       "643687           0.000000           10.352941               1.705882   \n",
       "643688           0.525424            0.000000               0.000000   \n",
       "643689           8.950000            1.033333               0.083333   \n",
       "\n",
       "        se_tot_dur_byage  seeking1_tot_dur_byage  \n",
       "0               0.000000                0.000000  \n",
       "1               0.000000                0.000000  \n",
       "2               0.000000                9.836735  \n",
       "3               0.000000                9.960000  \n",
       "4               0.000000               10.280000  \n",
       "...                  ...                     ...  \n",
       "643685          0.000000                0.000000  \n",
       "643686          0.000000                7.121212  \n",
       "643687          1.705882               23.911765  \n",
       "643688          0.000000                0.000000  \n",
       "643689          0.083333                8.133333  \n",
       "\n",
       "[643690 rows x 164 columns]"
      ]
     },
     "execution_count": 10,
     "metadata": {},
     "output_type": "execute_result"
    }
   ],
   "source": [
    "siab"
   ]
  },
  {
   "cell_type": "markdown",
   "id": "1f87e805",
   "metadata": {
    "papermill": {
     "duration": 0.009525,
     "end_time": "2025-08-19T18:58:49.231227",
     "exception": false,
     "start_time": "2025-08-19T18:58:49.221702",
     "status": "completed"
    },
    "tags": []
   },
   "source": [
    "# Splitting Data and Setting Training Data Size"
   ]
  },
  {
   "cell_type": "code",
   "execution_count": 11,
   "id": "910ae358",
   "metadata": {
    "execution": {
     "iopub.execute_input": "2025-08-19T18:58:49.253562Z",
     "iopub.status.busy": "2025-08-19T18:58:49.252413Z",
     "iopub.status.idle": "2025-08-19T18:58:49.895463Z",
     "shell.execute_reply": "2025-08-19T18:58:49.894003Z"
    },
    "papermill": {
     "duration": 0.657822,
     "end_time": "2025-08-19T18:58:49.899230",
     "exception": false,
     "start_time": "2025-08-19T18:58:49.241408",
     "status": "completed"
    },
    "tags": []
   },
   "outputs": [],
   "source": [
    "from fairness_multiverse.universe import sample_by_year_size\n",
    "\n",
    "siab_train = sample_by_year_size(siab,\n",
    "                               training_year=universe[\"training_year\"],\n",
    "                               training_size=universe[\"training_size\"])"
   ]
  },
  {
   "cell_type": "code",
   "execution_count": 12,
   "id": "919c8ff5",
   "metadata": {
    "execution": {
     "iopub.execute_input": "2025-08-19T18:58:49.946253Z",
     "iopub.status.busy": "2025-08-19T18:58:49.945455Z",
     "iopub.status.idle": "2025-08-19T18:58:49.957678Z",
     "shell.execute_reply": "2025-08-19T18:58:49.956563Z"
    },
    "papermill": {
     "duration": 0.040341,
     "end_time": "2025-08-19T18:58:49.960751",
     "exception": false,
     "start_time": "2025-08-19T18:58:49.920410",
     "status": "completed"
    },
    "tags": []
   },
   "outputs": [
    {
     "data": {
      "text/plain": [
       "(1000, 164)"
      ]
     },
     "execution_count": 12,
     "metadata": {},
     "output_type": "execute_result"
    }
   ],
   "source": [
    "siab_train.shape"
   ]
  },
  {
   "cell_type": "code",
   "execution_count": 13,
   "id": "feb13bf4",
   "metadata": {
    "execution": {
     "iopub.execute_input": "2025-08-19T18:58:49.984044Z",
     "iopub.status.busy": "2025-08-19T18:58:49.983692Z",
     "iopub.status.idle": "2025-08-19T18:58:49.991388Z",
     "shell.execute_reply": "2025-08-19T18:58:49.990700Z"
    },
    "papermill": {
     "duration": 0.01929,
     "end_time": "2025-08-19T18:58:49.992673",
     "exception": false,
     "start_time": "2025-08-19T18:58:49.973383",
     "status": "completed"
    },
    "tags": []
   },
   "outputs": [
    {
     "data": {
      "text/plain": [
       "year\n",
       "2012    334\n",
       "2013    333\n",
       "2014    333\n",
       "dtype: int64"
      ]
     },
     "metadata": {},
     "output_type": "display_data"
    }
   ],
   "source": [
    "display(siab_train.groupby(\"year\").size())"
   ]
  },
  {
   "cell_type": "code",
   "execution_count": 14,
   "id": "0997782f",
   "metadata": {
    "execution": {
     "iopub.execute_input": "2025-08-19T18:58:50.013159Z",
     "iopub.status.busy": "2025-08-19T18:58:50.012830Z",
     "iopub.status.idle": "2025-08-19T18:58:50.293187Z",
     "shell.execute_reply": "2025-08-19T18:58:50.292197Z"
    },
    "papermill": {
     "duration": 0.292358,
     "end_time": "2025-08-19T18:58:50.294799",
     "exception": false,
     "start_time": "2025-08-19T18:58:50.002441",
     "status": "completed"
    },
    "tags": []
   },
   "outputs": [],
   "source": [
    "#siab_train = siab_s[siab_s.year < 2015]\n",
    "siab_calib = siab[siab.year == 2015]\n",
    "siab_test = siab[siab.year == 2016]"
   ]
  },
  {
   "cell_type": "code",
   "execution_count": 15,
   "id": "2c1e4012",
   "metadata": {
    "execution": {
     "iopub.execute_input": "2025-08-19T18:58:50.323392Z",
     "iopub.status.busy": "2025-08-19T18:58:50.322205Z",
     "iopub.status.idle": "2025-08-19T18:58:50.331618Z",
     "shell.execute_reply": "2025-08-19T18:58:50.329390Z"
    },
    "papermill": {
     "duration": 0.028162,
     "end_time": "2025-08-19T18:58:50.333377",
     "exception": false,
     "start_time": "2025-08-19T18:58:50.305215",
     "status": "completed"
    },
    "tags": []
   },
   "outputs": [],
   "source": [
    "#siab_calib.shape"
   ]
  },
  {
   "cell_type": "code",
   "execution_count": 16,
   "id": "f66b54ca",
   "metadata": {
    "execution": {
     "iopub.execute_input": "2025-08-19T18:58:50.360209Z",
     "iopub.status.busy": "2025-08-19T18:58:50.359210Z",
     "iopub.status.idle": "2025-08-19T18:58:50.368446Z",
     "shell.execute_reply": "2025-08-19T18:58:50.366237Z"
    },
    "papermill": {
     "duration": 0.023232,
     "end_time": "2025-08-19T18:58:50.370102",
     "exception": false,
     "start_time": "2025-08-19T18:58:50.346870",
     "status": "completed"
    },
    "tags": []
   },
   "outputs": [],
   "source": [
    "#siab_test.shape"
   ]
  },
  {
   "cell_type": "code",
   "execution_count": 17,
   "id": "27e4384d",
   "metadata": {
    "execution": {
     "iopub.execute_input": "2025-08-19T18:58:50.393866Z",
     "iopub.status.busy": "2025-08-19T18:58:50.393218Z",
     "iopub.status.idle": "2025-08-19T18:58:50.399341Z",
     "shell.execute_reply": "2025-08-19T18:58:50.398458Z"
    },
    "papermill": {
     "duration": 0.017731,
     "end_time": "2025-08-19T18:58:50.400457",
     "exception": false,
     "start_time": "2025-08-19T18:58:50.382726",
     "status": "completed"
    },
    "tags": []
   },
   "outputs": [],
   "source": [
    "X_train = siab_train.iloc[:,4:164]\n",
    "y_train = siab_train.iloc[:, [3]]"
   ]
  },
  {
   "cell_type": "code",
   "execution_count": 18,
   "id": "08ee8389",
   "metadata": {
    "execution": {
     "iopub.execute_input": "2025-08-19T18:58:50.424063Z",
     "iopub.status.busy": "2025-08-19T18:58:50.423727Z",
     "iopub.status.idle": "2025-08-19T18:58:50.479895Z",
     "shell.execute_reply": "2025-08-19T18:58:50.477804Z"
    },
    "papermill": {
     "duration": 0.069296,
     "end_time": "2025-08-19T18:58:50.482487",
     "exception": false,
     "start_time": "2025-08-19T18:58:50.413191",
     "status": "completed"
    },
    "tags": []
   },
   "outputs": [],
   "source": [
    "X_calib = siab_calib.iloc[:,4:164]\n",
    "y_calib = siab_calib.iloc[:, [3]]"
   ]
  },
  {
   "cell_type": "code",
   "execution_count": 19,
   "id": "b7ff42e0",
   "metadata": {
    "execution": {
     "iopub.execute_input": "2025-08-19T18:58:50.525995Z",
     "iopub.status.busy": "2025-08-19T18:58:50.525686Z",
     "iopub.status.idle": "2025-08-19T18:58:50.582217Z",
     "shell.execute_reply": "2025-08-19T18:58:50.581498Z"
    },
    "papermill": {
     "duration": 0.078905,
     "end_time": "2025-08-19T18:58:50.583886",
     "exception": false,
     "start_time": "2025-08-19T18:58:50.504981",
     "status": "completed"
    },
    "tags": []
   },
   "outputs": [],
   "source": [
    "X_test = siab_test.iloc[:,4:164]\n",
    "y_true = siab_test.iloc[:, [3]]"
   ]
  },
  {
   "cell_type": "code",
   "execution_count": 20,
   "id": "0275101e",
   "metadata": {
    "execution": {
     "iopub.execute_input": "2025-08-19T18:58:50.609926Z",
     "iopub.status.busy": "2025-08-19T18:58:50.609618Z",
     "iopub.status.idle": "2025-08-19T18:58:50.718880Z",
     "shell.execute_reply": "2025-08-19T18:58:50.718122Z"
    },
    "papermill": {
     "duration": 0.122638,
     "end_time": "2025-08-19T18:58:50.720355",
     "exception": false,
     "start_time": "2025-08-19T18:58:50.597717",
     "status": "completed"
    },
    "tags": []
   },
   "outputs": [],
   "source": [
    "# Auxiliary data needed downstream in the pipeline\n",
    "\n",
    "org_train = X_train.copy()\n",
    "org_test = X_test.copy()\n",
    "org_calib = X_calib.copy()"
   ]
  },
  {
   "cell_type": "markdown",
   "id": "b461e618",
   "metadata": {
    "papermill": {
     "duration": 0.00999,
     "end_time": "2025-08-19T18:58:50.741180",
     "exception": false,
     "start_time": "2025-08-19T18:58:50.731190",
     "status": "completed"
    },
    "tags": []
   },
   "source": [
    "# Preprocessing Data"
   ]
  },
  {
   "cell_type": "code",
   "execution_count": 21,
   "id": "78e74c4b",
   "metadata": {
    "execution": {
     "iopub.execute_input": "2025-08-19T18:58:50.763525Z",
     "iopub.status.busy": "2025-08-19T18:58:50.762930Z",
     "iopub.status.idle": "2025-08-19T18:58:50.770008Z",
     "shell.execute_reply": "2025-08-19T18:58:50.769135Z"
    },
    "papermill": {
     "duration": 0.0198,
     "end_time": "2025-08-19T18:58:50.771280",
     "exception": false,
     "start_time": "2025-08-19T18:58:50.751480",
     "status": "completed"
    },
    "tags": []
   },
   "outputs": [],
   "source": [
    "# EXCLUDE PROTECTED FEATURES\n",
    "# --------------------------\n",
    "\n",
    "excluded_features = universe[\"exclude_features\"].split(\"-\")\n",
    "excluded_features_dictionary = {\n",
    "    \"nationality\": [\"maxdeutsch1\", \"maxdeutsch.Missing.\"],\n",
    "    \"sex\": [\"frau1\"],\n",
    "    \"age\": [\"age\"],\n",
    "}"
   ]
  },
  {
   "cell_type": "code",
   "execution_count": 22,
   "id": "f8e63555",
   "metadata": {
    "execution": {
     "iopub.execute_input": "2025-08-19T18:58:50.794141Z",
     "iopub.status.busy": "2025-08-19T18:58:50.793747Z",
     "iopub.status.idle": "2025-08-19T18:58:50.798231Z",
     "shell.execute_reply": "2025-08-19T18:58:50.797528Z"
    },
    "papermill": {
     "duration": 0.016903,
     "end_time": "2025-08-19T18:58:50.799601",
     "exception": false,
     "start_time": "2025-08-19T18:58:50.782698",
     "status": "completed"
    },
    "tags": []
   },
   "outputs": [],
   "source": [
    "excluded_features_columns = [\n",
    "    excluded_features_dictionary[f] for f in excluded_features if len(f) > 0 and f != \"none\"\n",
    "]"
   ]
  },
  {
   "cell_type": "code",
   "execution_count": 23,
   "id": "da781f7c",
   "metadata": {
    "execution": {
     "iopub.execute_input": "2025-08-19T18:58:50.822266Z",
     "iopub.status.busy": "2025-08-19T18:58:50.821883Z",
     "iopub.status.idle": "2025-08-19T18:58:50.826021Z",
     "shell.execute_reply": "2025-08-19T18:58:50.825213Z"
    },
    "papermill": {
     "duration": 0.016832,
     "end_time": "2025-08-19T18:58:50.827497",
     "exception": false,
     "start_time": "2025-08-19T18:58:50.810665",
     "status": "completed"
    },
    "tags": []
   },
   "outputs": [],
   "source": [
    "from fairness_multiverse.universe import flatten_once\n",
    "\n",
    "excluded_features_columns = flatten_once(excluded_features_columns)"
   ]
  },
  {
   "cell_type": "code",
   "execution_count": 24,
   "id": "37fef0f0",
   "metadata": {
    "execution": {
     "iopub.execute_input": "2025-08-19T18:58:50.849976Z",
     "iopub.status.busy": "2025-08-19T18:58:50.849588Z",
     "iopub.status.idle": "2025-08-19T18:58:50.856637Z",
     "shell.execute_reply": "2025-08-19T18:58:50.855851Z"
    },
    "papermill": {
     "duration": 0.020046,
     "end_time": "2025-08-19T18:58:50.858667",
     "exception": false,
     "start_time": "2025-08-19T18:58:50.838621",
     "status": "completed"
    },
    "tags": []
   },
   "outputs": [
    {
     "name": "stdout",
     "output_type": "stream",
     "text": [
      "Dropping features: ['age']\n"
     ]
    }
   ],
   "source": [
    "if len(excluded_features_columns) > 0:\n",
    "    print(f\"Dropping features: {excluded_features_columns}\")\n",
    "    X_train.drop(excluded_features_columns, axis=1, inplace=True)"
   ]
  },
  {
   "cell_type": "code",
   "execution_count": 25,
   "id": "d029e3e9",
   "metadata": {
    "execution": {
     "iopub.execute_input": "2025-08-19T18:58:50.880795Z",
     "iopub.status.busy": "2025-08-19T18:58:50.880362Z",
     "iopub.status.idle": "2025-08-19T18:58:50.936229Z",
     "shell.execute_reply": "2025-08-19T18:58:50.935345Z"
    },
    "papermill": {
     "duration": 0.068174,
     "end_time": "2025-08-19T18:58:50.937415",
     "exception": false,
     "start_time": "2025-08-19T18:58:50.869241",
     "status": "completed"
    },
    "tags": []
   },
   "outputs": [
    {
     "name": "stdout",
     "output_type": "stream",
     "text": [
      "Dropping features: ['age']\n"
     ]
    }
   ],
   "source": [
    "if len(excluded_features_columns) > 0:\n",
    "    print(f\"Dropping features: {excluded_features_columns}\")\n",
    "    X_test.drop(excluded_features_columns, axis=1, inplace=True)"
   ]
  },
  {
   "cell_type": "code",
   "execution_count": 26,
   "id": "01d571f0",
   "metadata": {
    "execution": {
     "iopub.execute_input": "2025-08-19T18:58:50.960260Z",
     "iopub.status.busy": "2025-08-19T18:58:50.959499Z",
     "iopub.status.idle": "2025-08-19T18:58:51.009714Z",
     "shell.execute_reply": "2025-08-19T18:58:51.008876Z"
    },
    "papermill": {
     "duration": 0.062866,
     "end_time": "2025-08-19T18:58:51.010949",
     "exception": false,
     "start_time": "2025-08-19T18:58:50.948083",
     "status": "completed"
    },
    "tags": []
   },
   "outputs": [
    {
     "name": "stdout",
     "output_type": "stream",
     "text": [
      "Dropping features: ['age']\n"
     ]
    }
   ],
   "source": [
    "if len(excluded_features_columns) > 0:\n",
    "    print(f\"Dropping features: {excluded_features_columns}\")\n",
    "    X_calib.drop(excluded_features_columns, axis=1, inplace=True)"
   ]
  },
  {
   "cell_type": "code",
   "execution_count": 27,
   "id": "3037356e",
   "metadata": {
    "execution": {
     "iopub.execute_input": "2025-08-19T18:58:51.034925Z",
     "iopub.status.busy": "2025-08-19T18:58:51.034135Z",
     "iopub.status.idle": "2025-08-19T18:58:51.039426Z",
     "shell.execute_reply": "2025-08-19T18:58:51.038496Z"
    },
    "papermill": {
     "duration": 0.018753,
     "end_time": "2025-08-19T18:58:51.040935",
     "exception": false,
     "start_time": "2025-08-19T18:58:51.022182",
     "status": "completed"
    },
    "tags": []
   },
   "outputs": [],
   "source": [
    "# EXCLUDE CERTAIN SUBGROUPS\n",
    "# -------------------------\n",
    "\n",
    "mode = universe.get(\"exclude_subgroups\", \"keep-all\") # Defaults to \"keep-all\" if the key is missing."
   ]
  },
  {
   "cell_type": "code",
   "execution_count": 28,
   "id": "9d1e63fd",
   "metadata": {
    "execution": {
     "iopub.execute_input": "2025-08-19T18:58:51.064568Z",
     "iopub.status.busy": "2025-08-19T18:58:51.063966Z",
     "iopub.status.idle": "2025-08-19T18:58:51.070972Z",
     "shell.execute_reply": "2025-08-19T18:58:51.070190Z"
    },
    "papermill": {
     "duration": 0.020134,
     "end_time": "2025-08-19T18:58:51.072443",
     "exception": false,
     "start_time": "2025-08-19T18:58:51.052309",
     "status": "completed"
    },
    "tags": []
   },
   "outputs": [],
   "source": [
    "if mode == \"keep-all\":\n",
    "    keep_mask = pd.Series(True, index=org_train.index)\n",
    "\n",
    "elif mode == \"drop-non-german\":\n",
    "    keep_mask = (org_train[\"maxdeutsch1\"] == 1) & (org_train[\"maxdeutsch.Missing.\"] == 0)\n",
    "\n",
    "else:\n",
    "    raise ValueError(f\"Unsupported mode for exclude_subgroups: {mode}\")"
   ]
  },
  {
   "cell_type": "code",
   "execution_count": 29,
   "id": "d3b65474",
   "metadata": {
    "execution": {
     "iopub.execute_input": "2025-08-19T18:58:51.095817Z",
     "iopub.status.busy": "2025-08-19T18:58:51.095302Z",
     "iopub.status.idle": "2025-08-19T18:58:51.104428Z",
     "shell.execute_reply": "2025-08-19T18:58:51.103220Z"
    },
    "papermill": {
     "duration": 0.023311,
     "end_time": "2025-08-19T18:58:51.106782",
     "exception": false,
     "start_time": "2025-08-19T18:58:51.083471",
     "status": "completed"
    },
    "tags": []
   },
   "outputs": [],
   "source": [
    "n_drop = (~keep_mask).sum() # Calculates how many rows are set to be dropped\n",
    "if n_drop > 0:\n",
    "    pct = n_drop / len(keep_mask) * 100\n",
    "    print(f\"Dropping {n_drop} rows ({pct:.2f}%) where mode='{mode}'\")"
   ]
  },
  {
   "cell_type": "code",
   "execution_count": 30,
   "id": "f44389b3",
   "metadata": {
    "execution": {
     "iopub.execute_input": "2025-08-19T18:58:51.133599Z",
     "iopub.status.busy": "2025-08-19T18:58:51.132659Z",
     "iopub.status.idle": "2025-08-19T18:58:51.141834Z",
     "shell.execute_reply": "2025-08-19T18:58:51.140669Z"
    },
    "papermill": {
     "duration": 0.023716,
     "end_time": "2025-08-19T18:58:51.143400",
     "exception": false,
     "start_time": "2025-08-19T18:58:51.119684",
     "status": "completed"
    },
    "tags": []
   },
   "outputs": [],
   "source": [
    "X_train = X_train[keep_mask]"
   ]
  },
  {
   "cell_type": "code",
   "execution_count": 31,
   "id": "ceca8c2a",
   "metadata": {
    "execution": {
     "iopub.execute_input": "2025-08-19T18:58:51.169685Z",
     "iopub.status.busy": "2025-08-19T18:58:51.168300Z",
     "iopub.status.idle": "2025-08-19T18:58:51.177794Z",
     "shell.execute_reply": "2025-08-19T18:58:51.176540Z"
    },
    "papermill": {
     "duration": 0.02339,
     "end_time": "2025-08-19T18:58:51.179149",
     "exception": false,
     "start_time": "2025-08-19T18:58:51.155759",
     "status": "completed"
    },
    "tags": []
   },
   "outputs": [],
   "source": [
    "y_train = y_train[keep_mask]"
   ]
  },
  {
   "cell_type": "markdown",
   "id": "04d31e2f",
   "metadata": {
    "papermill": {
     "duration": 0.010318,
     "end_time": "2025-08-19T18:58:51.202595",
     "exception": false,
     "start_time": "2025-08-19T18:58:51.192277",
     "status": "completed"
    },
    "tags": []
   },
   "source": [
    "# Model Training"
   ]
  },
  {
   "cell_type": "code",
   "execution_count": 32,
   "id": "db991733",
   "metadata": {
    "execution": {
     "iopub.execute_input": "2025-08-19T18:58:51.229285Z",
     "iopub.status.busy": "2025-08-19T18:58:51.227819Z",
     "iopub.status.idle": "2025-08-19T18:58:51.347552Z",
     "shell.execute_reply": "2025-08-19T18:58:51.346920Z"
    },
    "papermill": {
     "duration": 0.137328,
     "end_time": "2025-08-19T18:58:51.350257",
     "exception": false,
     "start_time": "2025-08-19T18:58:51.212929",
     "status": "completed"
    },
    "tags": []
   },
   "outputs": [],
   "source": [
    "from sklearn.linear_model import LogisticRegression\n",
    "from sklearn.ensemble import GradientBoostingClassifier, RandomForestClassifier\n",
    "\n",
    "if (universe[\"model\"] == \"logreg\"):\n",
    "    model = LogisticRegression() #penalty=\"none\", solver=\"newton-cg\", max_iter=1)\n",
    "elif (universe[\"model\"] == \"penalized_logreg\"):\n",
    "    model = LogisticRegression(penalty=\"l2\", C=0.1) #, solver=\"newton-cg\", max_iter=1)\n",
    "elif (universe[\"model\"] == \"rf\"):\n",
    "    model = RandomForestClassifier() # n_estimators=100, n_jobs=-1\n",
    "elif (universe[\"model\"] == \"gbm\"):\n",
    "    model = GradientBoostingClassifier()\n",
    "elif (universe[\"model\"] == \"elasticnet\"):\n",
    "    model = LogisticRegression(penalty = 'elasticnet', solver = 'saga', l1_ratio = 0.5) # max_iter=5000\n",
    "else:\n",
    "    raise \"Unsupported universe.model\""
   ]
  },
  {
   "cell_type": "code",
   "execution_count": 33,
   "id": "a4b5cd25",
   "metadata": {
    "execution": {
     "iopub.execute_input": "2025-08-19T18:58:51.407205Z",
     "iopub.status.busy": "2025-08-19T18:58:51.406310Z",
     "iopub.status.idle": "2025-08-19T18:58:51.413879Z",
     "shell.execute_reply": "2025-08-19T18:58:51.412985Z"
    },
    "papermill": {
     "duration": 0.047043,
     "end_time": "2025-08-19T18:58:51.415241",
     "exception": false,
     "start_time": "2025-08-19T18:58:51.368198",
     "status": "completed"
    },
    "tags": []
   },
   "outputs": [],
   "source": [
    "from sklearn.pipeline import Pipeline\n",
    "from sklearn.preprocessing import StandardScaler\n",
    "\n",
    "model = Pipeline([\n",
    "    #(\"continuous_processor\", continuous_processor),\n",
    "    #(\"categorical_preprocessor\", categorical_preprocessor),\n",
    "    (\"scale\", StandardScaler() if universe[\"scale\"] == \"scale\" else None), \n",
    "    (\"model\", model),\n",
    "])"
   ]
  },
  {
   "cell_type": "code",
   "execution_count": 34,
   "id": "283a904d",
   "metadata": {
    "execution": {
     "iopub.execute_input": "2025-08-19T18:58:51.451537Z",
     "iopub.status.busy": "2025-08-19T18:58:51.451037Z",
     "iopub.status.idle": "2025-08-19T18:58:51.767213Z",
     "shell.execute_reply": "2025-08-19T18:58:51.766587Z"
    },
    "papermill": {
     "duration": 0.338934,
     "end_time": "2025-08-19T18:58:51.768289",
     "exception": false,
     "start_time": "2025-08-19T18:58:51.429355",
     "status": "completed"
    },
    "tags": []
   },
   "outputs": [
    {
     "data": {
      "text/html": [
       "<style>#sk-container-id-1 {color: black;background-color: white;}#sk-container-id-1 pre{padding: 0;}#sk-container-id-1 div.sk-toggleable {background-color: white;}#sk-container-id-1 label.sk-toggleable__label {cursor: pointer;display: block;width: 100%;margin-bottom: 0;padding: 0.3em;box-sizing: border-box;text-align: center;}#sk-container-id-1 label.sk-toggleable__label-arrow:before {content: \"▸\";float: left;margin-right: 0.25em;color: #696969;}#sk-container-id-1 label.sk-toggleable__label-arrow:hover:before {color: black;}#sk-container-id-1 div.sk-estimator:hover label.sk-toggleable__label-arrow:before {color: black;}#sk-container-id-1 div.sk-toggleable__content {max-height: 0;max-width: 0;overflow: hidden;text-align: left;background-color: #f0f8ff;}#sk-container-id-1 div.sk-toggleable__content pre {margin: 0.2em;color: black;border-radius: 0.25em;background-color: #f0f8ff;}#sk-container-id-1 input.sk-toggleable__control:checked~div.sk-toggleable__content {max-height: 200px;max-width: 100%;overflow: auto;}#sk-container-id-1 input.sk-toggleable__control:checked~label.sk-toggleable__label-arrow:before {content: \"▾\";}#sk-container-id-1 div.sk-estimator input.sk-toggleable__control:checked~label.sk-toggleable__label {background-color: #d4ebff;}#sk-container-id-1 div.sk-label input.sk-toggleable__control:checked~label.sk-toggleable__label {background-color: #d4ebff;}#sk-container-id-1 input.sk-hidden--visually {border: 0;clip: rect(1px 1px 1px 1px);clip: rect(1px, 1px, 1px, 1px);height: 1px;margin: -1px;overflow: hidden;padding: 0;position: absolute;width: 1px;}#sk-container-id-1 div.sk-estimator {font-family: monospace;background-color: #f0f8ff;border: 1px dotted black;border-radius: 0.25em;box-sizing: border-box;margin-bottom: 0.5em;}#sk-container-id-1 div.sk-estimator:hover {background-color: #d4ebff;}#sk-container-id-1 div.sk-parallel-item::after {content: \"\";width: 100%;border-bottom: 1px solid gray;flex-grow: 1;}#sk-container-id-1 div.sk-label:hover label.sk-toggleable__label {background-color: #d4ebff;}#sk-container-id-1 div.sk-serial::before {content: \"\";position: absolute;border-left: 1px solid gray;box-sizing: border-box;top: 0;bottom: 0;left: 50%;z-index: 0;}#sk-container-id-1 div.sk-serial {display: flex;flex-direction: column;align-items: center;background-color: white;padding-right: 0.2em;padding-left: 0.2em;position: relative;}#sk-container-id-1 div.sk-item {position: relative;z-index: 1;}#sk-container-id-1 div.sk-parallel {display: flex;align-items: stretch;justify-content: center;background-color: white;position: relative;}#sk-container-id-1 div.sk-item::before, #sk-container-id-1 div.sk-parallel-item::before {content: \"\";position: absolute;border-left: 1px solid gray;box-sizing: border-box;top: 0;bottom: 0;left: 50%;z-index: -1;}#sk-container-id-1 div.sk-parallel-item {display: flex;flex-direction: column;z-index: 1;position: relative;background-color: white;}#sk-container-id-1 div.sk-parallel-item:first-child::after {align-self: flex-end;width: 50%;}#sk-container-id-1 div.sk-parallel-item:last-child::after {align-self: flex-start;width: 50%;}#sk-container-id-1 div.sk-parallel-item:only-child::after {width: 0;}#sk-container-id-1 div.sk-dashed-wrapped {border: 1px dashed gray;margin: 0 0.4em 0.5em 0.4em;box-sizing: border-box;padding-bottom: 0.4em;background-color: white;}#sk-container-id-1 div.sk-label label {font-family: monospace;font-weight: bold;display: inline-block;line-height: 1.2em;}#sk-container-id-1 div.sk-label-container {text-align: center;}#sk-container-id-1 div.sk-container {/* jupyter's `normalize.less` sets `[hidden] { display: none; }` but bootstrap.min.css set `[hidden] { display: none !important; }` so we also need the `!important` here to be able to override the default hidden behavior on the sphinx rendered scikit-learn.org. See: https://github.com/scikit-learn/scikit-learn/issues/21755 */display: inline-block !important;position: relative;}#sk-container-id-1 div.sk-text-repr-fallback {display: none;}</style><div id=\"sk-container-id-1\" class=\"sk-top-container\"><div class=\"sk-text-repr-fallback\"><pre>Pipeline(steps=[(&#x27;scale&#x27;, StandardScaler()),\n",
       "                (&#x27;model&#x27;, RandomForestClassifier())])</pre><b>In a Jupyter environment, please rerun this cell to show the HTML representation or trust the notebook. <br />On GitHub, the HTML representation is unable to render, please try loading this page with nbviewer.org.</b></div><div class=\"sk-container\" hidden><div class=\"sk-item sk-dashed-wrapped\"><div class=\"sk-label-container\"><div class=\"sk-label sk-toggleable\"><input class=\"sk-toggleable__control sk-hidden--visually\" id=\"sk-estimator-id-1\" type=\"checkbox\" ><label for=\"sk-estimator-id-1\" class=\"sk-toggleable__label sk-toggleable__label-arrow\">Pipeline</label><div class=\"sk-toggleable__content\"><pre>Pipeline(steps=[(&#x27;scale&#x27;, StandardScaler()),\n",
       "                (&#x27;model&#x27;, RandomForestClassifier())])</pre></div></div></div><div class=\"sk-serial\"><div class=\"sk-item\"><div class=\"sk-estimator sk-toggleable\"><input class=\"sk-toggleable__control sk-hidden--visually\" id=\"sk-estimator-id-2\" type=\"checkbox\" ><label for=\"sk-estimator-id-2\" class=\"sk-toggleable__label sk-toggleable__label-arrow\">StandardScaler</label><div class=\"sk-toggleable__content\"><pre>StandardScaler()</pre></div></div></div><div class=\"sk-item\"><div class=\"sk-estimator sk-toggleable\"><input class=\"sk-toggleable__control sk-hidden--visually\" id=\"sk-estimator-id-3\" type=\"checkbox\" ><label for=\"sk-estimator-id-3\" class=\"sk-toggleable__label sk-toggleable__label-arrow\">RandomForestClassifier</label><div class=\"sk-toggleable__content\"><pre>RandomForestClassifier()</pre></div></div></div></div></div></div></div>"
      ],
      "text/plain": [
       "Pipeline(steps=[('scale', StandardScaler()),\n",
       "                ('model', RandomForestClassifier())])"
      ]
     },
     "execution_count": 34,
     "metadata": {},
     "output_type": "execute_result"
    }
   ],
   "source": [
    "model.fit(X_train, y_train.values.ravel())"
   ]
  },
  {
   "cell_type": "code",
   "execution_count": 35,
   "id": "6e15e313",
   "metadata": {
    "execution": {
     "iopub.execute_input": "2025-08-19T18:58:51.792752Z",
     "iopub.status.busy": "2025-08-19T18:58:51.792001Z",
     "iopub.status.idle": "2025-08-19T18:58:53.262887Z",
     "shell.execute_reply": "2025-08-19T18:58:53.261932Z"
    },
    "papermill": {
     "duration": 1.484142,
     "end_time": "2025-08-19T18:58:53.264007",
     "exception": false,
     "start_time": "2025-08-19T18:58:51.779865",
     "status": "completed"
    },
    "tags": []
   },
   "outputs": [
    {
     "data": {
      "text/plain": [
       "0.8653550328837365"
      ]
     },
     "execution_count": 35,
     "metadata": {},
     "output_type": "execute_result"
    }
   ],
   "source": [
    "from fairness_multiverse.universe import predict_w_threshold\n",
    "\n",
    "probs_test = model.predict_proba(X_test)\n",
    "\n",
    "'''\n",
    "Below code returns a boolean array (or binary 0/1 array depending on how it’s used) where each element \n",
    "is True if the probability of class 1 is greater than or equal to the threshold, and False otherwise.\n",
    "'''\n",
    "y_pred_default = predict_w_threshold(probs_test, 0.5)\n",
    "\n",
    "from sklearn.metrics import accuracy_score\n",
    "\n",
    "# Naive prediction\n",
    "accuracy_score(y_true = y_true, y_pred = y_pred_default)"
   ]
  },
  {
   "cell_type": "code",
   "execution_count": 36,
   "id": "6f14067c",
   "metadata": {
    "execution": {
     "iopub.execute_input": "2025-08-19T18:58:53.289228Z",
     "iopub.status.busy": "2025-08-19T18:58:53.288367Z",
     "iopub.status.idle": "2025-08-19T18:58:54.722260Z",
     "shell.execute_reply": "2025-08-19T18:58:54.721168Z"
    },
    "papermill": {
     "duration": 1.448857,
     "end_time": "2025-08-19T18:58:54.724636",
     "exception": false,
     "start_time": "2025-08-19T18:58:53.275779",
     "status": "completed"
    },
    "tags": []
   },
   "outputs": [
    {
     "data": {
      "text/plain": [
       "array([0, 0, 0, ..., 0, 0, 0])"
      ]
     },
     "execution_count": 36,
     "metadata": {},
     "output_type": "execute_result"
    }
   ],
   "source": [
    "model.predict(X_test)"
   ]
  },
  {
   "cell_type": "markdown",
   "id": "3759920c",
   "metadata": {
    "papermill": {
     "duration": 0.01323,
     "end_time": "2025-08-19T18:58:54.764429",
     "exception": false,
     "start_time": "2025-08-19T18:58:54.751199",
     "status": "completed"
    },
    "tags": []
   },
   "source": [
    "# Conformal Prediction"
   ]
  },
  {
   "cell_type": "code",
   "execution_count": 37,
   "id": "14b27f59",
   "metadata": {
    "execution": {
     "iopub.execute_input": "2025-08-19T18:58:54.790317Z",
     "iopub.status.busy": "2025-08-19T18:58:54.788892Z",
     "iopub.status.idle": "2025-08-19T18:58:54.800651Z",
     "shell.execute_reply": "2025-08-19T18:58:54.798450Z"
    },
    "papermill": {
     "duration": 0.026652,
     "end_time": "2025-08-19T18:58:54.802171",
     "exception": false,
     "start_time": "2025-08-19T18:58:54.775519",
     "status": "completed"
    },
    "tags": []
   },
   "outputs": [],
   "source": [
    "# Miscoverage level for conformal prediction (10% allowed error rate => 90% target coverage)\n",
    "alpha = 0.1"
   ]
  },
  {
   "cell_type": "code",
   "execution_count": 38,
   "id": "59102472",
   "metadata": {
    "execution": {
     "iopub.execute_input": "2025-08-19T18:58:54.830744Z",
     "iopub.status.busy": "2025-08-19T18:58:54.829524Z",
     "iopub.status.idle": "2025-08-19T18:58:56.181113Z",
     "shell.execute_reply": "2025-08-19T18:58:56.179899Z"
    },
    "papermill": {
     "duration": 1.367598,
     "end_time": "2025-08-19T18:58:56.183863",
     "exception": false,
     "start_time": "2025-08-19T18:58:54.816265",
     "status": "completed"
    },
    "tags": []
   },
   "outputs": [],
   "source": [
    "probs_calib = model.predict_proba(X_calib)"
   ]
  },
  {
   "cell_type": "code",
   "execution_count": 39,
   "id": "a792d4dd",
   "metadata": {
    "execution": {
     "iopub.execute_input": "2025-08-19T18:58:56.225051Z",
     "iopub.status.busy": "2025-08-19T18:58:56.223997Z",
     "iopub.status.idle": "2025-08-19T18:58:56.238373Z",
     "shell.execute_reply": "2025-08-19T18:58:56.237008Z"
    },
    "papermill": {
     "duration": 0.030946,
     "end_time": "2025-08-19T18:58:56.239950",
     "exception": false,
     "start_time": "2025-08-19T18:58:56.209004",
     "status": "completed"
    },
    "tags": []
   },
   "outputs": [],
   "source": [
    "y_calib = y_calib.values.ravel().astype(int)"
   ]
  },
  {
   "cell_type": "code",
   "execution_count": 40,
   "id": "650fd033",
   "metadata": {
    "execution": {
     "iopub.execute_input": "2025-08-19T18:58:56.272135Z",
     "iopub.status.busy": "2025-08-19T18:58:56.271138Z",
     "iopub.status.idle": "2025-08-19T18:58:56.286485Z",
     "shell.execute_reply": "2025-08-19T18:58:56.285012Z"
    },
    "papermill": {
     "duration": 0.03089,
     "end_time": "2025-08-19T18:58:56.288034",
     "exception": false,
     "start_time": "2025-08-19T18:58:56.257144",
     "status": "completed"
    },
    "tags": []
   },
   "outputs": [],
   "source": [
    "from fairness_multiverse.conformal import compute_nc_scores\n",
    "\n",
    "# Compute nonconformity scores on calibration set (1 - probability of true class)\n",
    "nc_scores = compute_nc_scores(probs_calib, y_calib)"
   ]
  },
  {
   "cell_type": "code",
   "execution_count": 41,
   "id": "28ada44c",
   "metadata": {
    "execution": {
     "iopub.execute_input": "2025-08-19T18:58:56.317124Z",
     "iopub.status.busy": "2025-08-19T18:58:56.315853Z",
     "iopub.status.idle": "2025-08-19T18:58:56.329438Z",
     "shell.execute_reply": "2025-08-19T18:58:56.327995Z"
    },
    "papermill": {
     "duration": 0.028564,
     "end_time": "2025-08-19T18:58:56.330993",
     "exception": false,
     "start_time": "2025-08-19T18:58:56.302429",
     "status": "completed"
    },
    "tags": []
   },
   "outputs": [],
   "source": [
    "from fairness_multiverse.conformal import find_threshold\n",
    "\n",
    "# Find conformal threshold q_hat for the given alpha (split conformal method)\n",
    "q_hat = find_threshold(nc_scores, alpha)"
   ]
  },
  {
   "cell_type": "code",
   "execution_count": 42,
   "id": "df56469e",
   "metadata": {
    "execution": {
     "iopub.execute_input": "2025-08-19T18:58:56.361823Z",
     "iopub.status.busy": "2025-08-19T18:58:56.360617Z",
     "iopub.status.idle": "2025-08-19T18:58:56.374151Z",
     "shell.execute_reply": "2025-08-19T18:58:56.372579Z"
    },
    "papermill": {
     "duration": 0.028185,
     "end_time": "2025-08-19T18:58:56.375666",
     "exception": false,
     "start_time": "2025-08-19T18:58:56.347481",
     "status": "completed"
    },
    "tags": []
   },
   "outputs": [
    {
     "data": {
      "text/plain": [
       "0.6799999999999999"
      ]
     },
     "execution_count": 42,
     "metadata": {},
     "output_type": "execute_result"
    }
   ],
   "source": [
    "q_hat"
   ]
  },
  {
   "cell_type": "code",
   "execution_count": 43,
   "id": "aa1f5faa",
   "metadata": {
    "execution": {
     "iopub.execute_input": "2025-08-19T18:58:56.407437Z",
     "iopub.status.busy": "2025-08-19T18:58:56.406418Z",
     "iopub.status.idle": "2025-08-19T18:58:58.216654Z",
     "shell.execute_reply": "2025-08-19T18:58:58.215904Z"
    },
    "papermill": {
     "duration": 1.825256,
     "end_time": "2025-08-19T18:58:58.218039",
     "exception": false,
     "start_time": "2025-08-19T18:58:56.392783",
     "status": "completed"
    },
    "tags": []
   },
   "outputs": [],
   "source": [
    "from fairness_multiverse.conformal import predict_conformal_sets\n",
    "\n",
    "# Generate prediction sets for each test example\n",
    "pred_sets = predict_conformal_sets(model, X_test, q_hat)"
   ]
  },
  {
   "cell_type": "code",
   "execution_count": 44,
   "id": "97f67a6b",
   "metadata": {
    "execution": {
     "iopub.execute_input": "2025-08-19T18:58:58.253326Z",
     "iopub.status.busy": "2025-08-19T18:58:58.252866Z",
     "iopub.status.idle": "2025-08-19T18:58:58.257917Z",
     "shell.execute_reply": "2025-08-19T18:58:58.257342Z"
    },
    "papermill": {
     "duration": 0.026183,
     "end_time": "2025-08-19T18:58:58.259421",
     "exception": false,
     "start_time": "2025-08-19T18:58:58.233238",
     "status": "completed"
    },
    "tags": []
   },
   "outputs": [],
   "source": [
    "y_true = y_true.squeeze()"
   ]
  },
  {
   "cell_type": "code",
   "execution_count": 45,
   "id": "e700e9a7",
   "metadata": {
    "execution": {
     "iopub.execute_input": "2025-08-19T18:58:58.292749Z",
     "iopub.status.busy": "2025-08-19T18:58:58.291761Z",
     "iopub.status.idle": "2025-08-19T18:58:58.817330Z",
     "shell.execute_reply": "2025-08-19T18:58:58.816036Z"
    },
    "papermill": {
     "duration": 0.542044,
     "end_time": "2025-08-19T18:58:58.820153",
     "exception": false,
     "start_time": "2025-08-19T18:58:58.278109",
     "status": "completed"
    },
    "tags": []
   },
   "outputs": [],
   "source": [
    "from fairness_multiverse.conformal import evaluate_sets\n",
    "\n",
    "# Evaluate coverage and average set size on test data\n",
    "metrics = evaluate_sets(pred_sets, y_true)"
   ]
  },
  {
   "cell_type": "markdown",
   "id": "efbacec0",
   "metadata": {
    "papermill": {
     "duration": 0.013042,
     "end_time": "2025-08-19T18:58:58.858811",
     "exception": false,
     "start_time": "2025-08-19T18:58:58.845769",
     "status": "completed"
    },
    "tags": []
   },
   "source": [
    "# CP Metrics"
   ]
  },
  {
   "cell_type": "code",
   "execution_count": 46,
   "id": "9de55fb1",
   "metadata": {
    "execution": {
     "iopub.execute_input": "2025-08-19T18:58:58.885642Z",
     "iopub.status.busy": "2025-08-19T18:58:58.883946Z",
     "iopub.status.idle": "2025-08-19T18:58:58.898566Z",
     "shell.execute_reply": "2025-08-19T18:58:58.897202Z"
    },
    "papermill": {
     "duration": 0.029784,
     "end_time": "2025-08-19T18:58:58.899985",
     "exception": false,
     "start_time": "2025-08-19T18:58:58.870201",
     "status": "completed"
    },
    "tags": []
   },
   "outputs": [
    {
     "data": {
      "text/plain": [
       "{'coverage': 0.914145580202876, 'avg_size': 1.150128190837142}"
      ]
     },
     "execution_count": 46,
     "metadata": {},
     "output_type": "execute_result"
    }
   ],
   "source": [
    "metrics"
   ]
  },
  {
   "cell_type": "code",
   "execution_count": 47,
   "id": "64c340a1",
   "metadata": {
    "execution": {
     "iopub.execute_input": "2025-08-19T18:58:58.933634Z",
     "iopub.status.busy": "2025-08-19T18:58:58.932347Z",
     "iopub.status.idle": "2025-08-19T18:58:58.944544Z",
     "shell.execute_reply": "2025-08-19T18:58:58.942729Z"
    },
    "papermill": {
     "duration": 0.028056,
     "end_time": "2025-08-19T18:58:58.946067",
     "exception": false,
     "start_time": "2025-08-19T18:58:58.918011",
     "status": "completed"
    },
    "tags": []
   },
   "outputs": [],
   "source": [
    "example_universe = universe.copy()\n",
    "universe_training_year = example_universe.get(\"training_year\")\n",
    "universe_training_size = example_universe.get(\"training_size\")\n",
    "universe_scale = example_universe.get(\"scale\")\n",
    "universe_model = example_universe.get(\"model\")\n",
    "universe_exclude_features = example_universe.get(\"exclude_features\")\n",
    "universe_exclude_subgroups = example_universe.get(\"exclude_subgroups\")"
   ]
  },
  {
   "cell_type": "code",
   "execution_count": 48,
   "id": "dbb53cb4",
   "metadata": {
    "execution": {
     "iopub.execute_input": "2025-08-19T18:58:58.975887Z",
     "iopub.status.busy": "2025-08-19T18:58:58.974640Z",
     "iopub.status.idle": "2025-08-19T18:58:58.986176Z",
     "shell.execute_reply": "2025-08-19T18:58:58.984691Z"
    },
    "papermill": {
     "duration": 0.026778,
     "end_time": "2025-08-19T18:58:58.987757",
     "exception": false,
     "start_time": "2025-08-19T18:58:58.960979",
     "status": "completed"
    },
    "tags": []
   },
   "outputs": [],
   "source": [
    "cp_metrics_dict = {\n",
    "    \"universe_id\": [universe_id],\n",
    "    \"universe_training_year\": [universe_training_year],\n",
    "    \"universe_training_size\": [universe_training_size],\n",
    "    \"universe_scale\": [universe_scale],\n",
    "    \"universe_model\": [universe_model],\n",
    "    \"universe_exclude_features\": [universe_exclude_features],\n",
    "    \"universe_exclude_subgroups\": [universe_exclude_subgroups],\n",
    "    \"q_hat\": [q_hat],\n",
    "    \"coverage\": [metrics[\"coverage\"]],\n",
    "    \"avg_size\": [metrics[\"avg_size\"]],\n",
    "}"
   ]
  },
  {
   "cell_type": "code",
   "execution_count": 49,
   "id": "0d70d4b2",
   "metadata": {
    "execution": {
     "iopub.execute_input": "2025-08-19T18:58:59.018030Z",
     "iopub.status.busy": "2025-08-19T18:58:59.016931Z",
     "iopub.status.idle": "2025-08-19T18:58:59.028084Z",
     "shell.execute_reply": "2025-08-19T18:58:59.027049Z"
    },
    "papermill": {
     "duration": 0.026491,
     "end_time": "2025-08-19T18:58:59.029544",
     "exception": false,
     "start_time": "2025-08-19T18:58:59.003053",
     "status": "completed"
    },
    "tags": []
   },
   "outputs": [],
   "source": [
    "cp_metrics_df = pd.DataFrame(cp_metrics_dict)"
   ]
  },
  {
   "cell_type": "code",
   "execution_count": 50,
   "id": "b494403c",
   "metadata": {
    "execution": {
     "iopub.execute_input": "2025-08-19T18:58:59.060694Z",
     "iopub.status.busy": "2025-08-19T18:58:59.059666Z",
     "iopub.status.idle": "2025-08-19T18:58:59.085781Z",
     "shell.execute_reply": "2025-08-19T18:58:59.084898Z"
    },
    "papermill": {
     "duration": 0.041755,
     "end_time": "2025-08-19T18:58:59.087845",
     "exception": false,
     "start_time": "2025-08-19T18:58:59.046090",
     "status": "completed"
    },
    "tags": []
   },
   "outputs": [
    {
     "data": {
      "text/html": [
       "<div>\n",
       "<style scoped>\n",
       "    .dataframe tbody tr th:only-of-type {\n",
       "        vertical-align: middle;\n",
       "    }\n",
       "\n",
       "    .dataframe tbody tr th {\n",
       "        vertical-align: top;\n",
       "    }\n",
       "\n",
       "    .dataframe thead th {\n",
       "        text-align: right;\n",
       "    }\n",
       "</style>\n",
       "<table border=\"1\" class=\"dataframe\">\n",
       "  <thead>\n",
       "    <tr style=\"text-align: right;\">\n",
       "      <th></th>\n",
       "      <th>universe_id</th>\n",
       "      <th>universe_training_year</th>\n",
       "      <th>universe_training_size</th>\n",
       "      <th>universe_scale</th>\n",
       "      <th>universe_model</th>\n",
       "      <th>universe_exclude_features</th>\n",
       "      <th>universe_exclude_subgroups</th>\n",
       "      <th>q_hat</th>\n",
       "      <th>coverage</th>\n",
       "      <th>avg_size</th>\n",
       "    </tr>\n",
       "  </thead>\n",
       "  <tbody>\n",
       "    <tr>\n",
       "      <th>0</th>\n",
       "      <td>0e2028b348acc3f9d9dda02b2f1857a5</td>\n",
       "      <td>2012_14</td>\n",
       "      <td>1k</td>\n",
       "      <td>scale</td>\n",
       "      <td>rf</td>\n",
       "      <td>age</td>\n",
       "      <td>keep-all</td>\n",
       "      <td>0.68</td>\n",
       "      <td>0.914146</td>\n",
       "      <td>1.150128</td>\n",
       "    </tr>\n",
       "  </tbody>\n",
       "</table>\n",
       "</div>"
      ],
      "text/plain": [
       "                        universe_id universe_training_year  \\\n",
       "0  0e2028b348acc3f9d9dda02b2f1857a5                2012_14   \n",
       "\n",
       "  universe_training_size universe_scale universe_model  \\\n",
       "0                     1k          scale             rf   \n",
       "\n",
       "  universe_exclude_features universe_exclude_subgroups  q_hat  coverage  \\\n",
       "0                       age                   keep-all   0.68  0.914146   \n",
       "\n",
       "   avg_size  \n",
       "0  1.150128  "
      ]
     },
     "execution_count": 50,
     "metadata": {},
     "output_type": "execute_result"
    }
   ],
   "source": [
    "cp_metrics_df"
   ]
  },
  {
   "cell_type": "markdown",
   "id": "ed608b0b",
   "metadata": {
    "papermill": {
     "duration": 0.014116,
     "end_time": "2025-08-19T18:58:59.125537",
     "exception": false,
     "start_time": "2025-08-19T18:58:59.111421",
     "status": "completed"
    },
    "tags": []
   },
   "source": [
    "Conditional coverage & looking at subgroups"
   ]
  },
  {
   "cell_type": "code",
   "execution_count": 51,
   "id": "8968c366",
   "metadata": {
    "execution": {
     "iopub.execute_input": "2025-08-19T18:58:59.154019Z",
     "iopub.status.busy": "2025-08-19T18:58:59.152723Z",
     "iopub.status.idle": "2025-08-19T18:58:59.450706Z",
     "shell.execute_reply": "2025-08-19T18:58:59.449999Z"
    },
    "papermill": {
     "duration": 0.314484,
     "end_time": "2025-08-19T18:58:59.452249",
     "exception": false,
     "start_time": "2025-08-19T18:58:59.137765",
     "status": "completed"
    },
    "tags": []
   },
   "outputs": [],
   "source": [
    "from fairness_multiverse.conformal import build_cp_groups\n",
    "\n",
    "cp_groups_df = build_cp_groups(pred_sets, y_true, X_test.index, org_test)"
   ]
  },
  {
   "cell_type": "code",
   "execution_count": 52,
   "id": "292ddabf",
   "metadata": {
    "execution": {
     "iopub.execute_input": "2025-08-19T18:58:59.478942Z",
     "iopub.status.busy": "2025-08-19T18:58:59.478205Z",
     "iopub.status.idle": "2025-08-19T18:59:00.385161Z",
     "shell.execute_reply": "2025-08-19T18:59:00.382900Z"
    },
    "papermill": {
     "duration": 0.92347,
     "end_time": "2025-08-19T18:59:00.388806",
     "exception": false,
     "start_time": "2025-08-19T18:58:59.465336",
     "status": "completed"
    },
    "tags": []
   },
   "outputs": [],
   "source": [
    "# Define covered = 1 if true_label is in the predicted set\n",
    "cp_groups_df['covered'] = cp_groups_df.apply(\n",
    "    lambda r: int(r['true_label'] in r['pred_set']),\n",
    "    axis=1\n",
    ")"
   ]
  },
  {
   "cell_type": "code",
   "execution_count": 53,
   "id": "3a261692",
   "metadata": {
    "execution": {
     "iopub.execute_input": "2025-08-19T18:59:00.416123Z",
     "iopub.status.busy": "2025-08-19T18:59:00.415785Z",
     "iopub.status.idle": "2025-08-19T18:59:00.428705Z",
     "shell.execute_reply": "2025-08-19T18:59:00.427910Z"
    },
    "papermill": {
     "duration": 0.029694,
     "end_time": "2025-08-19T18:59:00.432176",
     "exception": false,
     "start_time": "2025-08-19T18:59:00.402482",
     "status": "completed"
    },
    "tags": []
   },
   "outputs": [],
   "source": [
    "subgroups = ['frau1','nongerman','nongerman_male','nongerman_female']\n",
    "\n",
    "# Conditional coverage for subgroup==1\n",
    "cond_coverage = {\n",
    "    g: cp_groups_df.loc[cp_groups_df[g]==1, 'covered'].mean()\n",
    "    for g in subgroups\n",
    "}"
   ]
  },
  {
   "cell_type": "code",
   "execution_count": 54,
   "id": "894fd600",
   "metadata": {
    "execution": {
     "iopub.execute_input": "2025-08-19T18:59:00.481599Z",
     "iopub.status.busy": "2025-08-19T18:59:00.480895Z",
     "iopub.status.idle": "2025-08-19T18:59:00.492591Z",
     "shell.execute_reply": "2025-08-19T18:59:00.491406Z"
    },
    "papermill": {
     "duration": 0.041086,
     "end_time": "2025-08-19T18:59:00.500917",
     "exception": false,
     "start_time": "2025-08-19T18:59:00.459831",
     "status": "completed"
    },
    "tags": []
   },
   "outputs": [
    {
     "data": {
      "text/plain": [
       "{'frau1': 0.9114705485914544,\n",
       " 'nongerman': 0.9080446864649413,\n",
       " 'nongerman_male': 0.9252454291632892,\n",
       " 'nongerman_female': 0.8795827123695976}"
      ]
     },
     "execution_count": 54,
     "metadata": {},
     "output_type": "execute_result"
    }
   ],
   "source": [
    "cond_coverage"
   ]
  },
  {
   "cell_type": "code",
   "execution_count": 55,
   "id": "942895c7",
   "metadata": {
    "execution": {
     "iopub.execute_input": "2025-08-19T18:59:00.529017Z",
     "iopub.status.busy": "2025-08-19T18:59:00.528435Z",
     "iopub.status.idle": "2025-08-19T18:59:00.536012Z",
     "shell.execute_reply": "2025-08-19T18:59:00.535156Z"
    },
    "papermill": {
     "duration": 0.022852,
     "end_time": "2025-08-19T18:59:00.537142",
     "exception": false,
     "start_time": "2025-08-19T18:59:00.514290",
     "status": "completed"
    },
    "tags": []
   },
   "outputs": [],
   "source": [
    "for subgroup, cov in cond_coverage.items():\n",
    "    cp_metrics_df[f\"cov_{subgroup}\"] = cov"
   ]
  },
  {
   "cell_type": "code",
   "execution_count": 56,
   "id": "3970120f",
   "metadata": {
    "execution": {
     "iopub.execute_input": "2025-08-19T18:59:00.569276Z",
     "iopub.status.busy": "2025-08-19T18:59:00.568688Z",
     "iopub.status.idle": "2025-08-19T18:59:00.593470Z",
     "shell.execute_reply": "2025-08-19T18:59:00.592647Z"
    },
    "papermill": {
     "duration": 0.041759,
     "end_time": "2025-08-19T18:59:00.595336",
     "exception": false,
     "start_time": "2025-08-19T18:59:00.553577",
     "status": "completed"
    },
    "tags": []
   },
   "outputs": [
    {
     "data": {
      "text/html": [
       "<div>\n",
       "<style scoped>\n",
       "    .dataframe tbody tr th:only-of-type {\n",
       "        vertical-align: middle;\n",
       "    }\n",
       "\n",
       "    .dataframe tbody tr th {\n",
       "        vertical-align: top;\n",
       "    }\n",
       "\n",
       "    .dataframe thead th {\n",
       "        text-align: right;\n",
       "    }\n",
       "</style>\n",
       "<table border=\"1\" class=\"dataframe\">\n",
       "  <thead>\n",
       "    <tr style=\"text-align: right;\">\n",
       "      <th></th>\n",
       "      <th>universe_id</th>\n",
       "      <th>universe_training_year</th>\n",
       "      <th>universe_training_size</th>\n",
       "      <th>universe_scale</th>\n",
       "      <th>universe_model</th>\n",
       "      <th>universe_exclude_features</th>\n",
       "      <th>universe_exclude_subgroups</th>\n",
       "      <th>q_hat</th>\n",
       "      <th>coverage</th>\n",
       "      <th>avg_size</th>\n",
       "      <th>cov_frau1</th>\n",
       "      <th>cov_nongerman</th>\n",
       "      <th>cov_nongerman_male</th>\n",
       "      <th>cov_nongerman_female</th>\n",
       "    </tr>\n",
       "  </thead>\n",
       "  <tbody>\n",
       "    <tr>\n",
       "      <th>0</th>\n",
       "      <td>0e2028b348acc3f9d9dda02b2f1857a5</td>\n",
       "      <td>2012_14</td>\n",
       "      <td>1k</td>\n",
       "      <td>scale</td>\n",
       "      <td>rf</td>\n",
       "      <td>age</td>\n",
       "      <td>keep-all</td>\n",
       "      <td>0.68</td>\n",
       "      <td>0.914146</td>\n",
       "      <td>1.150128</td>\n",
       "      <td>0.911471</td>\n",
       "      <td>0.908045</td>\n",
       "      <td>0.925245</td>\n",
       "      <td>0.879583</td>\n",
       "    </tr>\n",
       "  </tbody>\n",
       "</table>\n",
       "</div>"
      ],
      "text/plain": [
       "                        universe_id universe_training_year  \\\n",
       "0  0e2028b348acc3f9d9dda02b2f1857a5                2012_14   \n",
       "\n",
       "  universe_training_size universe_scale universe_model  \\\n",
       "0                     1k          scale             rf   \n",
       "\n",
       "  universe_exclude_features universe_exclude_subgroups  q_hat  coverage  \\\n",
       "0                       age                   keep-all   0.68  0.914146   \n",
       "\n",
       "   avg_size  cov_frau1  cov_nongerman  cov_nongerman_male  \\\n",
       "0  1.150128   0.911471       0.908045            0.925245   \n",
       "\n",
       "   cov_nongerman_female  \n",
       "0              0.879583  "
      ]
     },
     "execution_count": 56,
     "metadata": {},
     "output_type": "execute_result"
    }
   ],
   "source": [
    "cp_metrics_df"
   ]
  },
  {
   "cell_type": "markdown",
   "id": "3fc519cc",
   "metadata": {
    "papermill": {
     "duration": 0.013261,
     "end_time": "2025-08-19T18:59:00.628177",
     "exception": false,
     "start_time": "2025-08-19T18:59:00.614916",
     "status": "completed"
    },
    "tags": []
   },
   "source": [
    "# (Fairness) Metrics"
   ]
  },
  {
   "cell_type": "code",
   "execution_count": 57,
   "id": "a2e5e155",
   "metadata": {
    "execution": {
     "iopub.execute_input": "2025-08-19T18:59:00.655255Z",
     "iopub.status.busy": "2025-08-19T18:59:00.654830Z",
     "iopub.status.idle": "2025-08-19T18:59:00.684639Z",
     "shell.execute_reply": "2025-08-19T18:59:00.683812Z"
    },
    "papermill": {
     "duration": 0.045984,
     "end_time": "2025-08-19T18:59:00.686690",
     "exception": false,
     "start_time": "2025-08-19T18:59:00.640706",
     "status": "completed"
    },
    "tags": []
   },
   "outputs": [],
   "source": [
    "colname_to_bin = \"maxdeutsch1\"\n",
    "majority_value = org_train[colname_to_bin].mode()[0]\n",
    "\n",
    "org_test[\"majmin\"] = np.where(org_test[colname_to_bin] == majority_value, \"majority\", \"minority\")"
   ]
  },
  {
   "cell_type": "code",
   "execution_count": 58,
   "id": "17e3e4d5",
   "metadata": {
    "execution": {
     "iopub.execute_input": "2025-08-19T18:59:00.727588Z",
     "iopub.status.busy": "2025-08-19T18:59:00.727176Z",
     "iopub.status.idle": "2025-08-19T18:59:02.594913Z",
     "shell.execute_reply": "2025-08-19T18:59:02.593582Z"
    },
    "papermill": {
     "duration": 1.884382,
     "end_time": "2025-08-19T18:59:02.596810",
     "exception": false,
     "start_time": "2025-08-19T18:59:00.712428",
     "status": "completed"
    },
    "tags": []
   },
   "outputs": [],
   "source": [
    "example_universe = universe.copy()\n",
    "example_universe[\"cutoff\"] = example_universe[\"cutoff\"][0]\n",
    "example_universe[\"eval_fairness_grouping\"] = example_universe[\"eval_fairness_grouping\"][0]\n",
    "fairness_dict, metric_frame = universe_analysis.compute_metrics(\n",
    "    example_universe,\n",
    "    y_pred_prob=probs_test,\n",
    "    y_test=y_true,\n",
    "    org_test=org_test,\n",
    ")"
   ]
  },
  {
   "cell_type": "markdown",
   "id": "1fb7a0e9",
   "metadata": {
    "papermill": {
     "duration": 0.012837,
     "end_time": "2025-08-19T18:59:02.623176",
     "exception": false,
     "start_time": "2025-08-19T18:59:02.610339",
     "status": "completed"
    },
    "tags": []
   },
   "source": [
    "# Overall"
   ]
  },
  {
   "cell_type": "markdown",
   "id": "be1784b1",
   "metadata": {
    "papermill": {
     "duration": 0.012629,
     "end_time": "2025-08-19T18:59:02.648826",
     "exception": false,
     "start_time": "2025-08-19T18:59:02.636197",
     "status": "completed"
    },
    "tags": []
   },
   "source": [
    "Main fairness target: Equalized Odds. Seems to be a better fit than equal opportunity, since we're not only interested in Y = 1. Seems to be a better fit than demographic parity, since we also care about accuracy, not just equal distribution of preds.\n",
    "\n",
    "Pick column for computation of fairness metrics\n",
    "\n",
    "Performance\n",
    "Overall performance measures, most interesting in relation to the measures split by group below"
   ]
  },
  {
   "cell_type": "code",
   "execution_count": 59,
   "id": "b7672bee",
   "metadata": {
    "execution": {
     "iopub.execute_input": "2025-08-19T18:59:02.677647Z",
     "iopub.status.busy": "2025-08-19T18:59:02.676792Z",
     "iopub.status.idle": "2025-08-19T18:59:02.693352Z",
     "shell.execute_reply": "2025-08-19T18:59:02.692390Z"
    },
    "papermill": {
     "duration": 0.033525,
     "end_time": "2025-08-19T18:59:02.695042",
     "exception": false,
     "start_time": "2025-08-19T18:59:02.661517",
     "status": "completed"
    },
    "tags": []
   },
   "outputs": [
    {
     "data": {
      "text/plain": [
       "accuracy                   0.197068\n",
       "balanced accuracy          0.529080\n",
       "f1                         0.237662\n",
       "precision                  0.135311\n",
       "false positive rate        0.917509\n",
       "false negative rate        0.024331\n",
       "selection rate             0.924969\n",
       "count                  89710.000000\n",
       "dtype: float64"
      ]
     },
     "execution_count": 59,
     "metadata": {},
     "output_type": "execute_result"
    }
   ],
   "source": [
    "metric_frame.overall"
   ]
  },
  {
   "cell_type": "markdown",
   "id": "d93333c9",
   "metadata": {
    "papermill": {
     "duration": 0.013371,
     "end_time": "2025-08-19T18:59:02.729443",
     "exception": false,
     "start_time": "2025-08-19T18:59:02.716072",
     "status": "completed"
    },
    "tags": []
   },
   "source": [
    "By Group"
   ]
  },
  {
   "cell_type": "code",
   "execution_count": 60,
   "id": "52256966",
   "metadata": {
    "execution": {
     "iopub.execute_input": "2025-08-19T18:59:02.758585Z",
     "iopub.status.busy": "2025-08-19T18:59:02.757603Z",
     "iopub.status.idle": "2025-08-19T18:59:02.782181Z",
     "shell.execute_reply": "2025-08-19T18:59:02.781267Z"
    },
    "papermill": {
     "duration": 0.041454,
     "end_time": "2025-08-19T18:59:02.784323",
     "exception": false,
     "start_time": "2025-08-19T18:59:02.742869",
     "status": "completed"
    },
    "tags": []
   },
   "outputs": [
    {
     "data": {
      "text/html": [
       "<div>\n",
       "<style scoped>\n",
       "    .dataframe tbody tr th:only-of-type {\n",
       "        vertical-align: middle;\n",
       "    }\n",
       "\n",
       "    .dataframe tbody tr th {\n",
       "        vertical-align: top;\n",
       "    }\n",
       "\n",
       "    .dataframe thead th {\n",
       "        text-align: right;\n",
       "    }\n",
       "</style>\n",
       "<table border=\"1\" class=\"dataframe\">\n",
       "  <thead>\n",
       "    <tr style=\"text-align: right;\">\n",
       "      <th></th>\n",
       "      <th>accuracy</th>\n",
       "      <th>balanced accuracy</th>\n",
       "      <th>f1</th>\n",
       "      <th>precision</th>\n",
       "      <th>false positive rate</th>\n",
       "      <th>false negative rate</th>\n",
       "      <th>selection rate</th>\n",
       "      <th>count</th>\n",
       "    </tr>\n",
       "    <tr>\n",
       "      <th>majmin</th>\n",
       "      <th></th>\n",
       "      <th></th>\n",
       "      <th></th>\n",
       "      <th></th>\n",
       "      <th></th>\n",
       "      <th></th>\n",
       "      <th></th>\n",
       "      <th></th>\n",
       "    </tr>\n",
       "  </thead>\n",
       "  <tbody>\n",
       "    <tr>\n",
       "      <th>majority</th>\n",
       "      <td>0.199928</td>\n",
       "      <td>0.533583</td>\n",
       "      <td>0.245881</td>\n",
       "      <td>0.140431</td>\n",
       "      <td>0.919923</td>\n",
       "      <td>0.012910</td>\n",
       "      <td>0.928799</td>\n",
       "      <td>69170.0</td>\n",
       "    </tr>\n",
       "    <tr>\n",
       "      <th>minority</th>\n",
       "      <td>0.187439</td>\n",
       "      <td>0.511028</td>\n",
       "      <td>0.209080</td>\n",
       "      <td>0.117754</td>\n",
       "      <td>0.909531</td>\n",
       "      <td>0.068412</td>\n",
       "      <td>0.912074</td>\n",
       "      <td>20540.0</td>\n",
       "    </tr>\n",
       "  </tbody>\n",
       "</table>\n",
       "</div>"
      ],
      "text/plain": [
       "          accuracy  balanced accuracy        f1  precision  \\\n",
       "majmin                                                       \n",
       "majority  0.199928           0.533583  0.245881   0.140431   \n",
       "minority  0.187439           0.511028  0.209080   0.117754   \n",
       "\n",
       "          false positive rate  false negative rate  selection rate    count  \n",
       "majmin                                                                       \n",
       "majority             0.919923             0.012910        0.928799  69170.0  \n",
       "minority             0.909531             0.068412        0.912074  20540.0  "
      ]
     },
     "execution_count": 60,
     "metadata": {},
     "output_type": "execute_result"
    }
   ],
   "source": [
    "metric_frame.by_group"
   ]
  },
  {
   "cell_type": "code",
   "execution_count": 61,
   "id": "6e6c20ae",
   "metadata": {
    "execution": {
     "iopub.execute_input": "2025-08-19T18:59:02.825062Z",
     "iopub.status.busy": "2025-08-19T18:59:02.822413Z",
     "iopub.status.idle": "2025-08-19T18:59:04.704637Z",
     "shell.execute_reply": "2025-08-19T18:59:04.703626Z"
    },
    "papermill": {
     "duration": 1.898841,
     "end_time": "2025-08-19T18:59:04.705976",
     "exception": false,
     "start_time": "2025-08-19T18:59:02.807135",
     "status": "completed"
    },
    "tags": []
   },
   "outputs": [
    {
     "data": {
      "text/plain": [
       "array([[<Axes: title={'center': 'accuracy'}, xlabel='majmin'>,\n",
       "        <Axes: title={'center': 'balanced accuracy'}, xlabel='majmin'>,\n",
       "        <Axes: title={'center': 'f1'}, xlabel='majmin'>],\n",
       "       [<Axes: title={'center': 'precision'}, xlabel='majmin'>,\n",
       "        <Axes: title={'center': 'false positive rate'}, xlabel='majmin'>,\n",
       "        <Axes: title={'center': 'false negative rate'}, xlabel='majmin'>],\n",
       "       [<Axes: title={'center': 'selection rate'}, xlabel='majmin'>,\n",
       "        <Axes: title={'center': 'count'}, xlabel='majmin'>,\n",
       "        <Axes: xlabel='majmin'>]], dtype=object)"
      ]
     },
     "execution_count": 61,
     "metadata": {},
     "output_type": "execute_result"
    },
    {
     "data": {
      "image/png": "[encoded data removed]",
      "text/plain": [
       "<Figure size 1200x800 with 9 Axes>"
      ]
     },
     "metadata": {},
     "output_type": "display_data"
    }
   ],
   "source": [
    "# In a graphic\n",
    "metric_frame.by_group.plot.bar(\n",
    "    subplots=True,\n",
    "    layout=[3, 3],\n",
    "    legend=False,\n",
    "    figsize=[12, 8],\n",
    "    title=\"Show all metrics\",\n",
    ")"
   ]
  },
  {
   "cell_type": "markdown",
   "id": "b2e433ae",
   "metadata": {
    "papermill": {
     "duration": 0.014573,
     "end_time": "2025-08-19T18:59:04.738151",
     "exception": false,
     "start_time": "2025-08-19T18:59:04.723578",
     "status": "completed"
    },
    "tags": []
   },
   "source": [
    "# Final Output"
   ]
  },
  {
   "cell_type": "code",
   "execution_count": 62,
   "id": "3871301e",
   "metadata": {
    "execution": {
     "iopub.execute_input": "2025-08-19T18:59:04.772447Z",
     "iopub.status.busy": "2025-08-19T18:59:04.770354Z",
     "iopub.status.idle": "2025-08-19T18:59:04.788183Z",
     "shell.execute_reply": "2025-08-19T18:59:04.787249Z"
    },
    "papermill": {
     "duration": 0.03674,
     "end_time": "2025-08-19T18:59:04.789801",
     "exception": false,
     "start_time": "2025-08-19T18:59:04.753061",
     "status": "completed"
    },
    "tags": []
   },
   "outputs": [
    {
     "data": {
      "text/plain": [
       "4"
      ]
     },
     "execution_count": 62,
     "metadata": {},
     "output_type": "execute_result"
    }
   ],
   "source": [
    "sub_universes = universe_analysis.generate_sub_universes()\n",
    "len(sub_universes)"
   ]
  },
  {
   "cell_type": "code",
   "execution_count": 63,
   "id": "d9cfdaca",
   "metadata": {
    "execution": {
     "iopub.execute_input": "2025-08-19T18:59:04.830931Z",
     "iopub.status.busy": "2025-08-19T18:59:04.830519Z",
     "iopub.status.idle": "2025-08-19T18:59:04.835991Z",
     "shell.execute_reply": "2025-08-19T18:59:04.835064Z"
    },
    "papermill": {
     "duration": 0.023817,
     "end_time": "2025-08-19T18:59:04.837440",
     "exception": false,
     "start_time": "2025-08-19T18:59:04.813623",
     "status": "completed"
    },
    "tags": []
   },
   "outputs": [],
   "source": [
    "def filter_sub_universe_data(sub_universe, org_test):\n",
    "    # Keep all rows — no filtering\n",
    "    keep_rows_mask = np.ones(org_test.shape[0], dtype=bool)\n",
    "\n",
    "    print(f\"[INFO] Keeping all rows: {keep_rows_mask.sum()} rows retained.\")\n",
    "    return keep_rows_mask"
   ]
  },
  {
   "cell_type": "code",
   "execution_count": 64,
   "id": "2bc31ac1",
   "metadata": {
    "execution": {
     "iopub.execute_input": "2025-08-19T18:59:04.873567Z",
     "iopub.status.busy": "2025-08-19T18:59:04.872448Z",
     "iopub.status.idle": "2025-08-19T18:59:11.607559Z",
     "shell.execute_reply": "2025-08-19T18:59:11.606480Z"
    },
    "papermill": {
     "duration": 6.754724,
     "end_time": "2025-08-19T18:59:11.609108",
     "exception": false,
     "start_time": "2025-08-19T18:59:04.854384",
     "status": "completed"
    },
    "tags": []
   },
   "outputs": [
    {
     "name": "stdout",
     "output_type": "stream",
     "text": [
      "Stopping execution_time clock.\n",
      "[INFO] Keeping all rows: 89710 rows retained.\n"
     ]
    },
    {
     "name": "stdout",
     "output_type": "stream",
     "text": [
      "[INFO] Keeping all rows: 89710 rows retained.\n"
     ]
    },
    {
     "name": "stdout",
     "output_type": "stream",
     "text": [
      "[INFO] Keeping all rows: 89710 rows retained.\n"
     ]
    },
    {
     "name": "stdout",
     "output_type": "stream",
     "text": [
      "[INFO] Keeping all rows: 89710 rows retained.\n"
     ]
    },
    {
     "data": {
      "text/html": [
       "<div>\n",
       "<style scoped>\n",
       "    .dataframe tbody tr th:only-of-type {\n",
       "        vertical-align: middle;\n",
       "    }\n",
       "\n",
       "    .dataframe tbody tr th {\n",
       "        vertical-align: top;\n",
       "    }\n",
       "\n",
       "    .dataframe thead th {\n",
       "        text-align: right;\n",
       "    }\n",
       "</style>\n",
       "<table border=\"1\" class=\"dataframe\">\n",
       "  <thead>\n",
       "    <tr style=\"text-align: right;\">\n",
       "      <th></th>\n",
       "      <th>run_no</th>\n",
       "      <th>universe_id</th>\n",
       "      <th>universe_settings</th>\n",
       "      <th>execution_time</th>\n",
       "      <th>test_size_n</th>\n",
       "      <th>test_size_frac</th>\n",
       "      <th>fair_main_equalized_odds_difference</th>\n",
       "      <th>fair_main_equalized_odds_ratio</th>\n",
       "      <th>fair_main_demographic_parity_difference</th>\n",
       "      <th>fair_main_demographic_parity_ratio</th>\n",
       "      <th>...</th>\n",
       "      <th>perf_grp_precision_0</th>\n",
       "      <th>perf_grp_precision_1</th>\n",
       "      <th>perf_grp_false positive rate_0</th>\n",
       "      <th>perf_grp_false positive rate_1</th>\n",
       "      <th>perf_grp_false negative rate_0</th>\n",
       "      <th>perf_grp_false negative rate_1</th>\n",
       "      <th>perf_grp_selection rate_0</th>\n",
       "      <th>perf_grp_selection rate_1</th>\n",
       "      <th>perf_grp_count_0</th>\n",
       "      <th>perf_grp_count_1</th>\n",
       "    </tr>\n",
       "  </thead>\n",
       "  <tbody>\n",
       "    <tr>\n",
       "      <th>0</th>\n",
       "      <td>3</td>\n",
       "      <td>0e2028b348acc3f9d9dda02b2f1857a5</td>\n",
       "      <td>{\"cutoff\": \"quantile_0.1\", \"eval_fairness_grou...</td>\n",
       "      <td>25.957861</td>\n",
       "      <td>89710</td>\n",
       "      <td>1.0</td>\n",
       "      <td>0.055502</td>\n",
       "      <td>0.943772</td>\n",
       "      <td>0.016725</td>\n",
       "      <td>0.981993</td>\n",
       "      <td>...</td>\n",
       "      <td>NaN</td>\n",
       "      <td>NaN</td>\n",
       "      <td>NaN</td>\n",
       "      <td>NaN</td>\n",
       "      <td>NaN</td>\n",
       "      <td>NaN</td>\n",
       "      <td>NaN</td>\n",
       "      <td>NaN</td>\n",
       "      <td>NaN</td>\n",
       "      <td>NaN</td>\n",
       "    </tr>\n",
       "    <tr>\n",
       "      <th>0</th>\n",
       "      <td>3</td>\n",
       "      <td>0e2028b348acc3f9d9dda02b2f1857a5</td>\n",
       "      <td>{\"cutoff\": \"quantile_0.1\", \"eval_fairness_grou...</td>\n",
       "      <td>25.957861</td>\n",
       "      <td>89710</td>\n",
       "      <td>1.0</td>\n",
       "      <td>0.055502</td>\n",
       "      <td>0.943772</td>\n",
       "      <td>0.016725</td>\n",
       "      <td>0.981993</td>\n",
       "      <td>...</td>\n",
       "      <td>0.117754</td>\n",
       "      <td>0.140431</td>\n",
       "      <td>0.909531</td>\n",
       "      <td>0.919923</td>\n",
       "      <td>0.068412</td>\n",
       "      <td>0.01291</td>\n",
       "      <td>0.912074</td>\n",
       "      <td>0.928799</td>\n",
       "      <td>20540.0</td>\n",
       "      <td>69170.0</td>\n",
       "    </tr>\n",
       "    <tr>\n",
       "      <th>0</th>\n",
       "      <td>3</td>\n",
       "      <td>0e2028b348acc3f9d9dda02b2f1857a5</td>\n",
       "      <td>{\"cutoff\": \"quantile_0.25\", \"eval_fairness_gro...</td>\n",
       "      <td>25.957861</td>\n",
       "      <td>89710</td>\n",
       "      <td>1.0</td>\n",
       "      <td>0.117581</td>\n",
       "      <td>0.874773</td>\n",
       "      <td>0.034334</td>\n",
       "      <td>0.955333</td>\n",
       "      <td>...</td>\n",
       "      <td>NaN</td>\n",
       "      <td>NaN</td>\n",
       "      <td>NaN</td>\n",
       "      <td>NaN</td>\n",
       "      <td>NaN</td>\n",
       "      <td>NaN</td>\n",
       "      <td>NaN</td>\n",
       "      <td>NaN</td>\n",
       "      <td>NaN</td>\n",
       "      <td>NaN</td>\n",
       "    </tr>\n",
       "    <tr>\n",
       "      <th>0</th>\n",
       "      <td>3</td>\n",
       "      <td>0e2028b348acc3f9d9dda02b2f1857a5</td>\n",
       "      <td>{\"cutoff\": \"quantile_0.25\", \"eval_fairness_gro...</td>\n",
       "      <td>25.957861</td>\n",
       "      <td>89710</td>\n",
       "      <td>1.0</td>\n",
       "      <td>0.117581</td>\n",
       "      <td>0.874773</td>\n",
       "      <td>0.034334</td>\n",
       "      <td>0.955333</td>\n",
       "      <td>...</td>\n",
       "      <td>0.128953</td>\n",
       "      <td>0.161413</td>\n",
       "      <td>0.722980</td>\n",
       "      <td>0.742729</td>\n",
       "      <td>0.178632</td>\n",
       "      <td>0.06105</td>\n",
       "      <td>0.734323</td>\n",
       "      <td>0.768657</td>\n",
       "      <td>20540.0</td>\n",
       "      <td>69170.0</td>\n",
       "    </tr>\n",
       "  </tbody>\n",
       "</table>\n",
       "<p>4 rows × 50 columns</p>\n",
       "</div>"
      ],
      "text/plain": [
       "  run_no                       universe_id  \\\n",
       "0      3  0e2028b348acc3f9d9dda02b2f1857a5   \n",
       "0      3  0e2028b348acc3f9d9dda02b2f1857a5   \n",
       "0      3  0e2028b348acc3f9d9dda02b2f1857a5   \n",
       "0      3  0e2028b348acc3f9d9dda02b2f1857a5   \n",
       "\n",
       "                                   universe_settings  execution_time  \\\n",
       "0  {\"cutoff\": \"quantile_0.1\", \"eval_fairness_grou...       25.957861   \n",
       "0  {\"cutoff\": \"quantile_0.1\", \"eval_fairness_grou...       25.957861   \n",
       "0  {\"cutoff\": \"quantile_0.25\", \"eval_fairness_gro...       25.957861   \n",
       "0  {\"cutoff\": \"quantile_0.25\", \"eval_fairness_gro...       25.957861   \n",
       "\n",
       "   test_size_n  test_size_frac  fair_main_equalized_odds_difference  \\\n",
       "0        89710             1.0                             0.055502   \n",
       "0        89710             1.0                             0.055502   \n",
       "0        89710             1.0                             0.117581   \n",
       "0        89710             1.0                             0.117581   \n",
       "\n",
       "   fair_main_equalized_odds_ratio  fair_main_demographic_parity_difference  \\\n",
       "0                        0.943772                                 0.016725   \n",
       "0                        0.943772                                 0.016725   \n",
       "0                        0.874773                                 0.034334   \n",
       "0                        0.874773                                 0.034334   \n",
       "\n",
       "   fair_main_demographic_parity_ratio  ...  perf_grp_precision_0  \\\n",
       "0                            0.981993  ...                   NaN   \n",
       "0                            0.981993  ...              0.117754   \n",
       "0                            0.955333  ...                   NaN   \n",
       "0                            0.955333  ...              0.128953   \n",
       "\n",
       "   perf_grp_precision_1  perf_grp_false positive rate_0  \\\n",
       "0                   NaN                             NaN   \n",
       "0              0.140431                        0.909531   \n",
       "0                   NaN                             NaN   \n",
       "0              0.161413                        0.722980   \n",
       "\n",
       "   perf_grp_false positive rate_1  perf_grp_false negative rate_0  \\\n",
       "0                             NaN                             NaN   \n",
       "0                        0.919923                        0.068412   \n",
       "0                             NaN                             NaN   \n",
       "0                        0.742729                        0.178632   \n",
       "\n",
       "   perf_grp_false negative rate_1  perf_grp_selection rate_0  \\\n",
       "0                             NaN                        NaN   \n",
       "0                         0.01291                   0.912074   \n",
       "0                             NaN                        NaN   \n",
       "0                         0.06105                   0.734323   \n",
       "\n",
       "   perf_grp_selection rate_1  perf_grp_count_0  perf_grp_count_1  \n",
       "0                        NaN               NaN               NaN  \n",
       "0                   0.928799           20540.0           69170.0  \n",
       "0                        NaN               NaN               NaN  \n",
       "0                   0.768657           20540.0           69170.0  \n",
       "\n",
       "[4 rows x 50 columns]"
      ]
     },
     "execution_count": 64,
     "metadata": {},
     "output_type": "execute_result"
    }
   ],
   "source": [
    "final_output = universe_analysis.generate_final_output(\n",
    "    y_pred_prob=probs_test,\n",
    "    y_test=y_true,\n",
    "    org_test=org_test,\n",
    "    filter_data=filter_sub_universe_data,\n",
    "    cp_metrics_df=cp_metrics_df,\n",
    "    save=True,\n",
    ")\n",
    "final_output"
   ]
  },
  {
   "cell_type": "code",
   "execution_count": null,
   "id": "8b80a1ff",
   "metadata": {
    "papermill": {
     "duration": 0.014704,
     "end_time": "2025-08-19T18:59:11.661345",
     "exception": false,
     "start_time": "2025-08-19T18:59:11.646641",
     "status": "completed"
    },
    "tags": []
   },
   "outputs": [],
   "source": []
  },
  {
   "cell_type": "code",
   "execution_count": null,
   "id": "275c9fad",
   "metadata": {
    "papermill": {
     "duration": 0.014168,
     "end_time": "2025-08-19T18:59:11.689667",
     "exception": false,
     "start_time": "2025-08-19T18:59:11.675499",
     "status": "completed"
    },
    "tags": []
   },
   "outputs": [],
   "source": []
  }
 ],
 "metadata": {
  "celltoolbar": "Tags",
  "kernelspec": {
   "display_name": "Python (CMA Fairness)",
   "language": "python",
   "name": "cma_fair_env"
  },
  "language_info": {
   "codemirror_mode": {
    "name": "ipython",
    "version": 3
   },
   "file_extension": ".py",
   "mimetype": "text/x-python",
   "name": "python",
   "nbconvert_exporter": "python",
   "pygments_lexer": "ipython3",
   "version": "3.10.12"
  },
  "papermill": {
   "default_parameters": {},
   "duration": 36.52249,
   "end_time": "2025-08-19T18:59:12.527785",
   "environment_variables": {},
   "exception": null,
   "input_path": "universe_analysis.ipynb",
   "output_path": "output/runs/3/notebooks/m_3-0e2028b348acc3f9d9dda02b2f1857a5.ipynb",
   "parameters": {
    "output_dir": "output",
    "run_no": "3",
    "seed": "2023",
    "universe": "{\"cutoff\": [\"quantile_0.1\", \"quantile_0.25\"], \"eval_fairness_grouping\": [\"majority-minority\", \"nationality-all\"], \"exclude_features\": \"age\", \"exclude_subgroups\": \"keep-all\", \"model\": \"rf\", \"scale\": \"scale\", \"training_size\": \"1k\", \"training_year\": \"2012_14\"}",
    "universe_id": "0e2028b348acc3f9d9dda02b2f1857a5"
   },
   "start_time": "2025-08-19T18:58:36.005295",
   "version": "2.6.0"
  }
 },
 "nbformat": 4,
 "nbformat_minor": 5
}