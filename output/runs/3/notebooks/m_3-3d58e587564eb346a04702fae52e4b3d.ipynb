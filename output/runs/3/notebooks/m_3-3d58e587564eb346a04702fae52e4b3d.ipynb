{
 "cells": [
  {
   "cell_type": "markdown",
   "id": "ef23dbb3",
   "metadata": {
    "papermill": {
     "duration": 0.02856,
     "end_time": "2025-08-19T18:33:51.154163",
     "exception": false,
     "start_time": "2025-08-19T18:33:51.125603",
     "status": "completed"
    },
    "tags": []
   },
   "source": [
    "# Setup"
   ]
  },
  {
   "cell_type": "code",
   "execution_count": 1,
   "id": "0bc8e7dc",
   "metadata": {
    "execution": {
     "iopub.execute_input": "2025-08-19T18:33:51.175747Z",
     "iopub.status.busy": "2025-08-19T18:33:51.175433Z",
     "iopub.status.idle": "2025-08-19T18:33:51.188977Z",
     "shell.execute_reply": "2025-08-19T18:33:51.188001Z"
    },
    "papermill": {
     "duration": 0.025578,
     "end_time": "2025-08-19T18:33:51.190423",
     "exception": false,
     "start_time": "2025-08-19T18:33:51.164845",
     "status": "completed"
    },
    "tags": []
   },
   "outputs": [
    {
     "name": "stdout",
     "output_type": "stream",
     "text": [
      "/dss/dsshome1/0C/ra93lal2/cma/CMA_Fairness_v2\n"
     ]
    },
    {
     "name": "stderr",
     "output_type": "stream",
     "text": [
      "/dss/dsshome1/0C/ra93lal2/.local/share/virtualenvs/CMA_Fairness_v2-3j10GkSs/lib/python3.10/site-packages/IPython/core/magics/osm.py:393: UserWarning: This is now an optional IPython functionality, using bookmarks requires you to install the `pickleshare` library.\n",
      "  bkms = self.shell.db.get('bookmarks', {})\n",
      "/dss/dsshome1/0C/ra93lal2/.local/share/virtualenvs/CMA_Fairness_v2-3j10GkSs/lib/python3.10/site-packages/IPython/core/magics/osm.py:417: UserWarning: This is now an optional IPython functionality, setting dhist requires you to install the `pickleshare` library.\n",
      "  self.shell.db['dhist'] = compress_dhist(dhist)[-100:]\n"
     ]
    }
   ],
   "source": [
    "%cd ~/cma/CMA_Fairness_v2"
   ]
  },
  {
   "cell_type": "markdown",
   "id": "9d235661",
   "metadata": {
    "papermill": {
     "duration": 0.010191,
     "end_time": "2025-08-19T18:33:51.211487",
     "exception": false,
     "start_time": "2025-08-19T18:33:51.201296",
     "status": "completed"
    },
    "tags": []
   },
   "source": [
    "The following cell holds the definition of our parameters, these values can be overriden by rendering the with e.g. the following command:\n",
    "\n",
    "papermill -p alpha 0.2 -p ratio 0.3 universe_analysis.ipynb output/test_run.ipynb"
   ]
  },
  {
   "cell_type": "code",
   "execution_count": 2,
   "id": "4a789d8e",
   "metadata": {
    "execution": {
     "iopub.execute_input": "2025-08-19T18:33:51.232315Z",
     "iopub.status.busy": "2025-08-19T18:33:51.231255Z",
     "iopub.status.idle": "2025-08-19T18:33:51.237840Z",
     "shell.execute_reply": "2025-08-19T18:33:51.236712Z"
    },
    "papermill": {
     "duration": 0.01872,
     "end_time": "2025-08-19T18:33:51.239253",
     "exception": false,
     "start_time": "2025-08-19T18:33:51.220533",
     "status": "completed"
    },
    "tags": []
   },
   "outputs": [
    {
     "name": "stdout",
     "output_type": "stream",
     "text": [
      "Current working directory: /dss/dsshome1/0C/ra93lal2/cma/CMA_Fairness_v2\n"
     ]
    }
   ],
   "source": [
    "import os\n",
    "print(\"Current working directory:\", os.getcwd())"
   ]
  },
  {
   "cell_type": "code",
   "execution_count": 3,
   "id": "4132aaed",
   "metadata": {
    "execution": {
     "iopub.execute_input": "2025-08-19T18:33:51.272979Z",
     "iopub.status.busy": "2025-08-19T18:33:51.271913Z",
     "iopub.status.idle": "2025-08-19T18:33:51.285876Z",
     "shell.execute_reply": "2025-08-19T18:33:51.284309Z"
    },
    "papermill": {
     "duration": 0.0302,
     "end_time": "2025-08-19T18:33:51.288025",
     "exception": false,
     "start_time": "2025-08-19T18:33:51.257825",
     "status": "completed"
    },
    "tags": [
     "parameters"
    ]
   },
   "outputs": [],
   "source": [
    "run_no = 0\n",
    "universe_id = \"test\"\n",
    "universe = {\n",
    "    \"training_size\": \"5k\", # \"25k\", \"5k\", \"1k\"\n",
    "    \"training_year\": \"2012_14\", # \"2014\", \"2012_14\", \"2010_14\"\n",
    "    \"scale\": \"scale\", # \"scale\", \"do-not-scale\",\n",
    "    \"model\": \"elasticnet\", # \"logreg\", \"penalized_logreg\", \"rf\", \"gbm\", \"elasticnet\"\n",
    "    \"cutoff\": [\"quantile_0.15\", \"quantile_0.30\"],\n",
    "    \"exclude_features\": \"age\", # \"none\", \"nationality\", \"sex\", \"nationality-sex\", \"age\"\n",
    "    \"exclude_subgroups\": \"drop-non-german\", # \"keep-all\", \"drop-non-german\"\n",
    "    \"eval_fairness_grouping\": [\"majority-minority\", \"nationality-all\"]\n",
    "}\n",
    "\n",
    "output_dir=\"./output\"\n",
    "seed=0"
   ]
  },
  {
   "cell_type": "code",
   "execution_count": 4,
   "id": "de84eb2a",
   "metadata": {
    "execution": {
     "iopub.execute_input": "2025-08-19T18:33:51.315868Z",
     "iopub.status.busy": "2025-08-19T18:33:51.314592Z",
     "iopub.status.idle": "2025-08-19T18:33:51.322572Z",
     "shell.execute_reply": "2025-08-19T18:33:51.321058Z"
    },
    "papermill": {
     "duration": 0.021218,
     "end_time": "2025-08-19T18:33:51.324023",
     "exception": false,
     "start_time": "2025-08-19T18:33:51.302805",
     "status": "completed"
    },
    "tags": [
     "injected-parameters"
    ]
   },
   "outputs": [],
   "source": [
    "# Parameters\n",
    "universe_id = \"3d58e587564eb346a04702fae52e4b3d\"\n",
    "run_no = \"3\"\n",
    "universe = \"{\\\"cutoff\\\": [\\\"quantile_0.1\\\", \\\"quantile_0.25\\\"], \\\"eval_fairness_grouping\\\": [\\\"majority-minority\\\", \\\"nationality-all\\\"], \\\"exclude_features\\\": \\\"age\\\", \\\"exclude_subgroups\\\": \\\"keep-all\\\", \\\"model\\\": \\\"gbm\\\", \\\"scale\\\": \\\"scale\\\", \\\"training_size\\\": \\\"5k\\\", \\\"training_year\\\": \\\"2012_14\\\"}\"\n",
    "output_dir = \"output\"\n",
    "seed = \"2023\"\n"
   ]
  },
  {
   "cell_type": "code",
   "execution_count": 5,
   "id": "a5d7941f",
   "metadata": {
    "execution": {
     "iopub.execute_input": "2025-08-19T18:33:51.346970Z",
     "iopub.status.busy": "2025-08-19T18:33:51.345719Z",
     "iopub.status.idle": "2025-08-19T18:33:51.353287Z",
     "shell.execute_reply": "2025-08-19T18:33:51.351708Z"
    },
    "papermill": {
     "duration": 0.019077,
     "end_time": "2025-08-19T18:33:51.354748",
     "exception": false,
     "start_time": "2025-08-19T18:33:51.335671",
     "status": "completed"
    },
    "tags": []
   },
   "outputs": [],
   "source": [
    "import json\n",
    "if isinstance(universe, str):\n",
    "    universe = json.loads(universe)"
   ]
  },
  {
   "cell_type": "code",
   "execution_count": 6,
   "id": "7076ccb1",
   "metadata": {
    "execution": {
     "iopub.execute_input": "2025-08-19T18:33:51.378019Z",
     "iopub.status.busy": "2025-08-19T18:33:51.376753Z",
     "iopub.status.idle": "2025-08-19T18:33:51.423974Z",
     "shell.execute_reply": "2025-08-19T18:33:51.423405Z"
    },
    "papermill": {
     "duration": 0.059779,
     "end_time": "2025-08-19T18:33:51.426372",
     "exception": false,
     "start_time": "2025-08-19T18:33:51.366593",
     "status": "completed"
    },
    "tags": []
   },
   "outputs": [],
   "source": [
    "# Auto-reload the custom package\n",
    "%load_ext autoreload\n",
    "%autoreload 1\n",
    "%aimport fairness_multiverse"
   ]
  },
  {
   "cell_type": "code",
   "execution_count": 7,
   "id": "94c8eb93",
   "metadata": {
    "execution": {
     "iopub.execute_input": "2025-08-19T18:33:51.461630Z",
     "iopub.status.busy": "2025-08-19T18:33:51.460839Z",
     "iopub.status.idle": "2025-08-19T18:33:52.915066Z",
     "shell.execute_reply": "2025-08-19T18:33:52.914104Z"
    },
    "papermill": {
     "duration": 1.469945,
     "end_time": "2025-08-19T18:33:52.917964",
     "exception": false,
     "start_time": "2025-08-19T18:33:51.448019",
     "status": "completed"
    },
    "tags": []
   },
   "outputs": [],
   "source": [
    "from fairness_multiverse.universe import UniverseAnalysis\n",
    "\n",
    "universe_analysis = UniverseAnalysis(\n",
    "    run_no = run_no,\n",
    "    universe_id = universe_id,\n",
    "    universe = universe,\n",
    "    output_dir=output_dir,\n",
    ")"
   ]
  },
  {
   "cell_type": "code",
   "execution_count": 8,
   "id": "2a6381cf",
   "metadata": {
    "execution": {
     "iopub.execute_input": "2025-08-19T18:33:52.957412Z",
     "iopub.status.busy": "2025-08-19T18:33:52.955809Z",
     "iopub.status.idle": "2025-08-19T18:33:52.967699Z",
     "shell.execute_reply": "2025-08-19T18:33:52.966260Z"
    },
    "papermill": {
     "duration": 0.028058,
     "end_time": "2025-08-19T18:33:52.969561",
     "exception": false,
     "start_time": "2025-08-19T18:33:52.941503",
     "status": "completed"
    },
    "tags": []
   },
   "outputs": [
    {
     "name": "stdout",
     "output_type": "stream",
     "text": [
      "Using Seed: 2023\n"
     ]
    }
   ],
   "source": [
    "import numpy as np\n",
    "parsed_seed = int(seed)\n",
    "np.random.seed(parsed_seed)\n",
    "print(f\"Using Seed: {parsed_seed}\")"
   ]
  },
  {
   "cell_type": "markdown",
   "id": "b6e958b4",
   "metadata": {
    "papermill": {
     "duration": 0.010652,
     "end_time": "2025-08-19T18:33:52.995034",
     "exception": false,
     "start_time": "2025-08-19T18:33:52.984382",
     "status": "completed"
    },
    "tags": []
   },
   "source": [
    "# Loading Data"
   ]
  },
  {
   "cell_type": "code",
   "execution_count": 9,
   "id": "98701482",
   "metadata": {
    "execution": {
     "iopub.execute_input": "2025-08-19T18:33:53.015454Z",
     "iopub.status.busy": "2025-08-19T18:33:53.014488Z",
     "iopub.status.idle": "2025-08-19T18:34:03.622352Z",
     "shell.execute_reply": "2025-08-19T18:34:03.620995Z"
    },
    "papermill": {
     "duration": 10.61966,
     "end_time": "2025-08-19T18:34:03.623760",
     "exception": false,
     "start_time": "2025-08-19T18:33:53.004100",
     "status": "completed"
    },
    "tags": []
   },
   "outputs": [
    {
     "name": "stdout",
     "output_type": "stream",
     "text": [
      "Loading SIAB data from cache: data/siab_cached.csv.gz\n"
     ]
    },
    {
     "name": "stdout",
     "output_type": "stream",
     "text": [
      "(643690, 164)\n"
     ]
    }
   ],
   "source": [
    "from pathlib import Path\n",
    "import pandas as pd\n",
    "\n",
    "# File paths\n",
    "raw_file = Path(\"data/raw/siab.csv\")\n",
    "cache_file = Path(\"data/siab_cached.csv.gz\")\n",
    "\n",
    "# Ensure cache directory exists\n",
    "cache_file.parent.mkdir(parents=True, exist_ok=True)\n",
    "\n",
    "# Load with simple caching\n",
    "if cache_file.exists():\n",
    "    print(f\"Loading SIAB data from cache: {cache_file}\")\n",
    "    siab = pd.read_csv(cache_file, compression='gzip')\n",
    "else:\n",
    "    print(f\"Cache not found. Reading raw SIAB data: {raw_file}\")\n",
    "    siab = pd.read_csv(raw_file)\n",
    "    siab.to_csv(cache_file, index=False, compression='gzip')\n",
    "    print(f\"Cached SIAB data to: {cache_file}\")\n",
    "\n",
    "print(siab.shape)"
   ]
  },
  {
   "cell_type": "code",
   "execution_count": 10,
   "id": "058d2abb",
   "metadata": {
    "execution": {
     "iopub.execute_input": "2025-08-19T18:34:03.661111Z",
     "iopub.status.busy": "2025-08-19T18:34:03.660587Z",
     "iopub.status.idle": "2025-08-19T18:34:03.918058Z",
     "shell.execute_reply": "2025-08-19T18:34:03.917191Z"
    },
    "papermill": {
     "duration": 0.284318,
     "end_time": "2025-08-19T18:34:03.920846",
     "exception": false,
     "start_time": "2025-08-19T18:34:03.636528",
     "status": "completed"
    },
    "tags": []
   },
   "outputs": [
    {
     "data": {
      "text/html": [
       "<div>\n",
       "<style scoped>\n",
       "    .dataframe tbody tr th:only-of-type {\n",
       "        vertical-align: middle;\n",
       "    }\n",
       "\n",
       "    .dataframe tbody tr th {\n",
       "        vertical-align: top;\n",
       "    }\n",
       "\n",
       "    .dataframe thead th {\n",
       "        text-align: right;\n",
       "    }\n",
       "</style>\n",
       "<table border=\"1\" class=\"dataframe\">\n",
       "  <thead>\n",
       "    <tr style=\"text-align: right;\">\n",
       "      <th></th>\n",
       "      <th>persnr</th>\n",
       "      <th>year</th>\n",
       "      <th>nrEntry</th>\n",
       "      <th>ltue</th>\n",
       "      <th>employed_before</th>\n",
       "      <th>receipt_leh_before</th>\n",
       "      <th>receipt_lhg_before</th>\n",
       "      <th>se_before</th>\n",
       "      <th>ASU_notue_seeking_before</th>\n",
       "      <th>ASU_other_before</th>\n",
       "      <th>...</th>\n",
       "      <th>minijob_tot_dur_byage</th>\n",
       "      <th>ft_tot_dur_byage</th>\n",
       "      <th>befrist_tot_dur_byage</th>\n",
       "      <th>leih_tot_dur_byage</th>\n",
       "      <th>LHG_tot_dur_byage</th>\n",
       "      <th>LEH_tot_dur_byage</th>\n",
       "      <th>almp_tot_dur_byage</th>\n",
       "      <th>almp_aw_tot_dur_byage</th>\n",
       "      <th>se_tot_dur_byage</th>\n",
       "      <th>seeking1_tot_dur_byage</th>\n",
       "    </tr>\n",
       "  </thead>\n",
       "  <tbody>\n",
       "    <tr>\n",
       "      <th>0</th>\n",
       "      <td>7</td>\n",
       "      <td>2015</td>\n",
       "      <td>1</td>\n",
       "      <td>0</td>\n",
       "      <td>1</td>\n",
       "      <td>0</td>\n",
       "      <td>0</td>\n",
       "      <td>0</td>\n",
       "      <td>1</td>\n",
       "      <td>0</td>\n",
       "      <td>...</td>\n",
       "      <td>0.000000</td>\n",
       "      <td>0.000000</td>\n",
       "      <td>15.043478</td>\n",
       "      <td>0.000000</td>\n",
       "      <td>0.000000</td>\n",
       "      <td>0.000000</td>\n",
       "      <td>0.000000</td>\n",
       "      <td>0.000000</td>\n",
       "      <td>0.000000</td>\n",
       "      <td>0.000000</td>\n",
       "    </tr>\n",
       "    <tr>\n",
       "      <th>1</th>\n",
       "      <td>18</td>\n",
       "      <td>2010</td>\n",
       "      <td>1</td>\n",
       "      <td>1</td>\n",
       "      <td>0</td>\n",
       "      <td>0</td>\n",
       "      <td>0</td>\n",
       "      <td>0</td>\n",
       "      <td>0</td>\n",
       "      <td>0</td>\n",
       "      <td>...</td>\n",
       "      <td>0.000000</td>\n",
       "      <td>0.000000</td>\n",
       "      <td>0.000000</td>\n",
       "      <td>0.000000</td>\n",
       "      <td>0.000000</td>\n",
       "      <td>0.000000</td>\n",
       "      <td>0.000000</td>\n",
       "      <td>0.000000</td>\n",
       "      <td>0.000000</td>\n",
       "      <td>0.000000</td>\n",
       "    </tr>\n",
       "    <tr>\n",
       "      <th>2</th>\n",
       "      <td>18</td>\n",
       "      <td>2011</td>\n",
       "      <td>2</td>\n",
       "      <td>0</td>\n",
       "      <td>1</td>\n",
       "      <td>0</td>\n",
       "      <td>1</td>\n",
       "      <td>0</td>\n",
       "      <td>1</td>\n",
       "      <td>0</td>\n",
       "      <td>...</td>\n",
       "      <td>2.714286</td>\n",
       "      <td>2.714286</td>\n",
       "      <td>0.000000</td>\n",
       "      <td>0.000000</td>\n",
       "      <td>10.775510</td>\n",
       "      <td>0.000000</td>\n",
       "      <td>8.367347</td>\n",
       "      <td>0.000000</td>\n",
       "      <td>0.000000</td>\n",
       "      <td>9.836735</td>\n",
       "    </tr>\n",
       "    <tr>\n",
       "      <th>3</th>\n",
       "      <td>18</td>\n",
       "      <td>2012</td>\n",
       "      <td>3</td>\n",
       "      <td>0</td>\n",
       "      <td>1</td>\n",
       "      <td>0</td>\n",
       "      <td>1</td>\n",
       "      <td>0</td>\n",
       "      <td>1</td>\n",
       "      <td>0</td>\n",
       "      <td>...</td>\n",
       "      <td>4.200000</td>\n",
       "      <td>4.200000</td>\n",
       "      <td>0.000000</td>\n",
       "      <td>0.000000</td>\n",
       "      <td>12.100000</td>\n",
       "      <td>0.000000</td>\n",
       "      <td>9.400000</td>\n",
       "      <td>0.000000</td>\n",
       "      <td>0.000000</td>\n",
       "      <td>9.960000</td>\n",
       "    </tr>\n",
       "    <tr>\n",
       "      <th>4</th>\n",
       "      <td>18</td>\n",
       "      <td>2012</td>\n",
       "      <td>4</td>\n",
       "      <td>0</td>\n",
       "      <td>1</td>\n",
       "      <td>0</td>\n",
       "      <td>1</td>\n",
       "      <td>0</td>\n",
       "      <td>1</td>\n",
       "      <td>0</td>\n",
       "      <td>...</td>\n",
       "      <td>5.460000</td>\n",
       "      <td>5.460000</td>\n",
       "      <td>0.000000</td>\n",
       "      <td>0.000000</td>\n",
       "      <td>13.360000</td>\n",
       "      <td>0.000000</td>\n",
       "      <td>10.320000</td>\n",
       "      <td>0.000000</td>\n",
       "      <td>0.000000</td>\n",
       "      <td>10.280000</td>\n",
       "    </tr>\n",
       "    <tr>\n",
       "      <th>...</th>\n",
       "      <td>...</td>\n",
       "      <td>...</td>\n",
       "      <td>...</td>\n",
       "      <td>...</td>\n",
       "      <td>...</td>\n",
       "      <td>...</td>\n",
       "      <td>...</td>\n",
       "      <td>...</td>\n",
       "      <td>...</td>\n",
       "      <td>...</td>\n",
       "      <td>...</td>\n",
       "      <td>...</td>\n",
       "      <td>...</td>\n",
       "      <td>...</td>\n",
       "      <td>...</td>\n",
       "      <td>...</td>\n",
       "      <td>...</td>\n",
       "      <td>...</td>\n",
       "      <td>...</td>\n",
       "      <td>...</td>\n",
       "      <td>...</td>\n",
       "    </tr>\n",
       "    <tr>\n",
       "      <th>643685</th>\n",
       "      <td>1827860</td>\n",
       "      <td>2013</td>\n",
       "      <td>1</td>\n",
       "      <td>0</td>\n",
       "      <td>0</td>\n",
       "      <td>0</td>\n",
       "      <td>1</td>\n",
       "      <td>0</td>\n",
       "      <td>0</td>\n",
       "      <td>1</td>\n",
       "      <td>...</td>\n",
       "      <td>0.000000</td>\n",
       "      <td>0.000000</td>\n",
       "      <td>0.000000</td>\n",
       "      <td>0.000000</td>\n",
       "      <td>0.612903</td>\n",
       "      <td>0.000000</td>\n",
       "      <td>0.000000</td>\n",
       "      <td>0.000000</td>\n",
       "      <td>0.000000</td>\n",
       "      <td>0.000000</td>\n",
       "    </tr>\n",
       "    <tr>\n",
       "      <th>643686</th>\n",
       "      <td>1827860</td>\n",
       "      <td>2015</td>\n",
       "      <td>2</td>\n",
       "      <td>1</td>\n",
       "      <td>0</td>\n",
       "      <td>0</td>\n",
       "      <td>1</td>\n",
       "      <td>0</td>\n",
       "      <td>1</td>\n",
       "      <td>0</td>\n",
       "      <td>...</td>\n",
       "      <td>0.000000</td>\n",
       "      <td>0.000000</td>\n",
       "      <td>0.212121</td>\n",
       "      <td>0.212121</td>\n",
       "      <td>17.363636</td>\n",
       "      <td>0.000000</td>\n",
       "      <td>8.909091</td>\n",
       "      <td>0.000000</td>\n",
       "      <td>0.000000</td>\n",
       "      <td>7.121212</td>\n",
       "    </tr>\n",
       "    <tr>\n",
       "      <th>643687</th>\n",
       "      <td>1827860</td>\n",
       "      <td>2016</td>\n",
       "      <td>3</td>\n",
       "      <td>1</td>\n",
       "      <td>0</td>\n",
       "      <td>0</td>\n",
       "      <td>1</td>\n",
       "      <td>1</td>\n",
       "      <td>0</td>\n",
       "      <td>1</td>\n",
       "      <td>...</td>\n",
       "      <td>0.000000</td>\n",
       "      <td>0.000000</td>\n",
       "      <td>0.294118</td>\n",
       "      <td>0.205882</td>\n",
       "      <td>34.705882</td>\n",
       "      <td>0.000000</td>\n",
       "      <td>10.352941</td>\n",
       "      <td>1.705882</td>\n",
       "      <td>1.705882</td>\n",
       "      <td>23.911765</td>\n",
       "    </tr>\n",
       "    <tr>\n",
       "      <th>643688</th>\n",
       "      <td>1827869</td>\n",
       "      <td>2013</td>\n",
       "      <td>1</td>\n",
       "      <td>1</td>\n",
       "      <td>1</td>\n",
       "      <td>0</td>\n",
       "      <td>0</td>\n",
       "      <td>0</td>\n",
       "      <td>1</td>\n",
       "      <td>0</td>\n",
       "      <td>...</td>\n",
       "      <td>0.000000</td>\n",
       "      <td>0.000000</td>\n",
       "      <td>0.000000</td>\n",
       "      <td>0.000000</td>\n",
       "      <td>0.000000</td>\n",
       "      <td>0.525424</td>\n",
       "      <td>0.000000</td>\n",
       "      <td>0.000000</td>\n",
       "      <td>0.000000</td>\n",
       "      <td>0.000000</td>\n",
       "    </tr>\n",
       "    <tr>\n",
       "      <th>643689</th>\n",
       "      <td>1827869</td>\n",
       "      <td>2014</td>\n",
       "      <td>2</td>\n",
       "      <td>0</td>\n",
       "      <td>0</td>\n",
       "      <td>1</td>\n",
       "      <td>0</td>\n",
       "      <td>0</td>\n",
       "      <td>1</td>\n",
       "      <td>0</td>\n",
       "      <td>...</td>\n",
       "      <td>0.000000</td>\n",
       "      <td>0.666667</td>\n",
       "      <td>0.666667</td>\n",
       "      <td>0.000000</td>\n",
       "      <td>0.000000</td>\n",
       "      <td>8.950000</td>\n",
       "      <td>1.033333</td>\n",
       "      <td>0.083333</td>\n",
       "      <td>0.083333</td>\n",
       "      <td>8.133333</td>\n",
       "    </tr>\n",
       "  </tbody>\n",
       "</table>\n",
       "<p>643690 rows × 164 columns</p>\n",
       "</div>"
      ],
      "text/plain": [
       "         persnr  year  nrEntry  ltue  employed_before  receipt_leh_before  \\\n",
       "0             7  2015        1     0                1                   0   \n",
       "1            18  2010        1     1                0                   0   \n",
       "2            18  2011        2     0                1                   0   \n",
       "3            18  2012        3     0                1                   0   \n",
       "4            18  2012        4     0                1                   0   \n",
       "...         ...   ...      ...   ...              ...                 ...   \n",
       "643685  1827860  2013        1     0                0                   0   \n",
       "643686  1827860  2015        2     1                0                   0   \n",
       "643687  1827860  2016        3     1                0                   0   \n",
       "643688  1827869  2013        1     1                1                   0   \n",
       "643689  1827869  2014        2     0                0                   1   \n",
       "\n",
       "        receipt_lhg_before  se_before  ASU_notue_seeking_before  \\\n",
       "0                        0          0                         1   \n",
       "1                        0          0                         0   \n",
       "2                        1          0                         1   \n",
       "3                        1          0                         1   \n",
       "4                        1          0                         1   \n",
       "...                    ...        ...                       ...   \n",
       "643685                   1          0                         0   \n",
       "643686                   1          0                         1   \n",
       "643687                   1          1                         0   \n",
       "643688                   0          0                         1   \n",
       "643689                   0          0                         1   \n",
       "\n",
       "        ASU_other_before  ...  minijob_tot_dur_byage  ft_tot_dur_byage  \\\n",
       "0                      0  ...               0.000000          0.000000   \n",
       "1                      0  ...               0.000000          0.000000   \n",
       "2                      0  ...               2.714286          2.714286   \n",
       "3                      0  ...               4.200000          4.200000   \n",
       "4                      0  ...               5.460000          5.460000   \n",
       "...                  ...  ...                    ...               ...   \n",
       "643685                 1  ...               0.000000          0.000000   \n",
       "643686                 0  ...               0.000000          0.000000   \n",
       "643687                 1  ...               0.000000          0.000000   \n",
       "643688                 0  ...               0.000000          0.000000   \n",
       "643689                 0  ...               0.000000          0.666667   \n",
       "\n",
       "        befrist_tot_dur_byage  leih_tot_dur_byage  LHG_tot_dur_byage  \\\n",
       "0                   15.043478            0.000000           0.000000   \n",
       "1                    0.000000            0.000000           0.000000   \n",
       "2                    0.000000            0.000000          10.775510   \n",
       "3                    0.000000            0.000000          12.100000   \n",
       "4                    0.000000            0.000000          13.360000   \n",
       "...                       ...                 ...                ...   \n",
       "643685               0.000000            0.000000           0.612903   \n",
       "643686               0.212121            0.212121          17.363636   \n",
       "643687               0.294118            0.205882          34.705882   \n",
       "643688               0.000000            0.000000           0.000000   \n",
       "643689               0.666667            0.000000           0.000000   \n",
       "\n",
       "        LEH_tot_dur_byage  almp_tot_dur_byage  almp_aw_tot_dur_byage  \\\n",
       "0                0.000000            0.000000               0.000000   \n",
       "1                0.000000            0.000000               0.000000   \n",
       "2                0.000000            8.367347               0.000000   \n",
       "3                0.000000            9.400000               0.000000   \n",
       "4                0.000000           10.320000               0.000000   \n",
       "...                   ...                 ...                    ...   \n",
       "643685           0.000000            0.000000               0.000000   \n",
       "643686           0.000000            8.909091               0.000000   \n",
       "643687           0.000000           10.352941               1.705882   \n",
       "643688           0.525424            0.000000               0.000000   \n",
       "643689           8.950000            1.033333               0.083333   \n",
       "\n",
       "        se_tot_dur_byage  seeking1_tot_dur_byage  \n",
       "0               0.000000                0.000000  \n",
       "1               0.000000                0.000000  \n",
       "2               0.000000                9.836735  \n",
       "3               0.000000                9.960000  \n",
       "4               0.000000               10.280000  \n",
       "...                  ...                     ...  \n",
       "643685          0.000000                0.000000  \n",
       "643686          0.000000                7.121212  \n",
       "643687          1.705882               23.911765  \n",
       "643688          0.000000                0.000000  \n",
       "643689          0.083333                8.133333  \n",
       "\n",
       "[643690 rows x 164 columns]"
      ]
     },
     "execution_count": 10,
     "metadata": {},
     "output_type": "execute_result"
    }
   ],
   "source": [
    "siab"
   ]
  },
  {
   "cell_type": "markdown",
   "id": "1f87e805",
   "metadata": {
    "papermill": {
     "duration": 0.032522,
     "end_time": "2025-08-19T18:34:03.976262",
     "exception": false,
     "start_time": "2025-08-19T18:34:03.943740",
     "status": "completed"
    },
    "tags": []
   },
   "source": [
    "# Splitting Data and Setting Training Data Size"
   ]
  },
  {
   "cell_type": "code",
   "execution_count": 11,
   "id": "910ae358",
   "metadata": {
    "execution": {
     "iopub.execute_input": "2025-08-19T18:34:04.011964Z",
     "iopub.status.busy": "2025-08-19T18:34:04.010555Z",
     "iopub.status.idle": "2025-08-19T18:34:04.796367Z",
     "shell.execute_reply": "2025-08-19T18:34:04.795545Z"
    },
    "papermill": {
     "duration": 0.810355,
     "end_time": "2025-08-19T18:34:04.797826",
     "exception": false,
     "start_time": "2025-08-19T18:34:03.987471",
     "status": "completed"
    },
    "tags": []
   },
   "outputs": [],
   "source": [
    "from fairness_multiverse.universe import sample_by_year_size\n",
    "\n",
    "siab_train = sample_by_year_size(siab,\n",
    "                               training_year=universe[\"training_year\"],\n",
    "                               training_size=universe[\"training_size\"])"
   ]
  },
  {
   "cell_type": "code",
   "execution_count": 12,
   "id": "919c8ff5",
   "metadata": {
    "execution": {
     "iopub.execute_input": "2025-08-19T18:34:04.827749Z",
     "iopub.status.busy": "2025-08-19T18:34:04.827272Z",
     "iopub.status.idle": "2025-08-19T18:34:04.833659Z",
     "shell.execute_reply": "2025-08-19T18:34:04.833069Z"
    },
    "papermill": {
     "duration": 0.027092,
     "end_time": "2025-08-19T18:34:04.836815",
     "exception": false,
     "start_time": "2025-08-19T18:34:04.809723",
     "status": "completed"
    },
    "tags": []
   },
   "outputs": [
    {
     "data": {
      "text/plain": [
       "(5000, 164)"
      ]
     },
     "execution_count": 12,
     "metadata": {},
     "output_type": "execute_result"
    }
   ],
   "source": [
    "siab_train.shape"
   ]
  },
  {
   "cell_type": "code",
   "execution_count": 13,
   "id": "feb13bf4",
   "metadata": {
    "execution": {
     "iopub.execute_input": "2025-08-19T18:34:04.870871Z",
     "iopub.status.busy": "2025-08-19T18:34:04.869838Z",
     "iopub.status.idle": "2025-08-19T18:34:04.885331Z",
     "shell.execute_reply": "2025-08-19T18:34:04.884043Z"
    },
    "papermill": {
     "duration": 0.031239,
     "end_time": "2025-08-19T18:34:04.888389",
     "exception": false,
     "start_time": "2025-08-19T18:34:04.857150",
     "status": "completed"
    },
    "tags": []
   },
   "outputs": [
    {
     "data": {
      "text/plain": [
       "year\n",
       "2012    1667\n",
       "2013    1667\n",
       "2014    1666\n",
       "dtype: int64"
      ]
     },
     "metadata": {},
     "output_type": "display_data"
    }
   ],
   "source": [
    "display(siab_train.groupby(\"year\").size())"
   ]
  },
  {
   "cell_type": "code",
   "execution_count": 14,
   "id": "0997782f",
   "metadata": {
    "execution": {
     "iopub.execute_input": "2025-08-19T18:34:04.924661Z",
     "iopub.status.busy": "2025-08-19T18:34:04.923692Z",
     "iopub.status.idle": "2025-08-19T18:34:05.248527Z",
     "shell.execute_reply": "2025-08-19T18:34:05.247364Z"
    },
    "papermill": {
     "duration": 0.340626,
     "end_time": "2025-08-19T18:34:05.251219",
     "exception": false,
     "start_time": "2025-08-19T18:34:04.910593",
     "status": "completed"
    },
    "tags": []
   },
   "outputs": [],
   "source": [
    "#siab_train = siab_s[siab_s.year < 2015]\n",
    "siab_calib = siab[siab.year == 2015]\n",
    "siab_test = siab[siab.year == 2016]"
   ]
  },
  {
   "cell_type": "code",
   "execution_count": 15,
   "id": "2c1e4012",
   "metadata": {
    "execution": {
     "iopub.execute_input": "2025-08-19T18:34:05.304414Z",
     "iopub.status.busy": "2025-08-19T18:34:05.303260Z",
     "iopub.status.idle": "2025-08-19T18:34:05.313243Z",
     "shell.execute_reply": "2025-08-19T18:34:05.311583Z"
    },
    "papermill": {
     "duration": 0.040053,
     "end_time": "2025-08-19T18:34:05.316297",
     "exception": false,
     "start_time": "2025-08-19T18:34:05.276244",
     "status": "completed"
    },
    "tags": []
   },
   "outputs": [],
   "source": [
    "#siab_calib.shape"
   ]
  },
  {
   "cell_type": "code",
   "execution_count": 16,
   "id": "f66b54ca",
   "metadata": {
    "execution": {
     "iopub.execute_input": "2025-08-19T18:34:05.354203Z",
     "iopub.status.busy": "2025-08-19T18:34:05.353759Z",
     "iopub.status.idle": "2025-08-19T18:34:05.358401Z",
     "shell.execute_reply": "2025-08-19T18:34:05.357805Z"
    },
    "papermill": {
     "duration": 0.029828,
     "end_time": "2025-08-19T18:34:05.360085",
     "exception": false,
     "start_time": "2025-08-19T18:34:05.330257",
     "status": "completed"
    },
    "tags": []
   },
   "outputs": [],
   "source": [
    "#siab_test.shape"
   ]
  },
  {
   "cell_type": "code",
   "execution_count": 17,
   "id": "27e4384d",
   "metadata": {
    "execution": {
     "iopub.execute_input": "2025-08-19T18:34:05.381961Z",
     "iopub.status.busy": "2025-08-19T18:34:05.381610Z",
     "iopub.status.idle": "2025-08-19T18:34:05.398208Z",
     "shell.execute_reply": "2025-08-19T18:34:05.397538Z"
    },
    "papermill": {
     "duration": 0.029203,
     "end_time": "2025-08-19T18:34:05.399865",
     "exception": false,
     "start_time": "2025-08-19T18:34:05.370662",
     "status": "completed"
    },
    "tags": []
   },
   "outputs": [],
   "source": [
    "X_train = siab_train.iloc[:,4:164]\n",
    "y_train = siab_train.iloc[:, [3]]"
   ]
  },
  {
   "cell_type": "code",
   "execution_count": 18,
   "id": "08ee8389",
   "metadata": {
    "execution": {
     "iopub.execute_input": "2025-08-19T18:34:05.430245Z",
     "iopub.status.busy": "2025-08-19T18:34:05.429907Z",
     "iopub.status.idle": "2025-08-19T18:34:05.494663Z",
     "shell.execute_reply": "2025-08-19T18:34:05.492281Z"
    },
    "papermill": {
     "duration": 0.07984,
     "end_time": "2025-08-19T18:34:05.496406",
     "exception": false,
     "start_time": "2025-08-19T18:34:05.416566",
     "status": "completed"
    },
    "tags": []
   },
   "outputs": [],
   "source": [
    "X_calib = siab_calib.iloc[:,4:164]\n",
    "y_calib = siab_calib.iloc[:, [3]]"
   ]
  },
  {
   "cell_type": "code",
   "execution_count": 19,
   "id": "b7ff42e0",
   "metadata": {
    "execution": {
     "iopub.execute_input": "2025-08-19T18:34:05.523976Z",
     "iopub.status.busy": "2025-08-19T18:34:05.523302Z",
     "iopub.status.idle": "2025-08-19T18:34:05.625492Z",
     "shell.execute_reply": "2025-08-19T18:34:05.624559Z"
    },
    "papermill": {
     "duration": 0.116773,
     "end_time": "2025-08-19T18:34:05.627316",
     "exception": false,
     "start_time": "2025-08-19T18:34:05.510543",
     "status": "completed"
    },
    "tags": []
   },
   "outputs": [],
   "source": [
    "X_test = siab_test.iloc[:,4:164]\n",
    "y_true = siab_test.iloc[:, [3]]"
   ]
  },
  {
   "cell_type": "code",
   "execution_count": 20,
   "id": "0275101e",
   "metadata": {
    "execution": {
     "iopub.execute_input": "2025-08-19T18:34:05.653000Z",
     "iopub.status.busy": "2025-08-19T18:34:05.652133Z",
     "iopub.status.idle": "2025-08-19T18:34:05.780635Z",
     "shell.execute_reply": "2025-08-19T18:34:05.776778Z"
    },
    "papermill": {
     "duration": 0.143636,
     "end_time": "2025-08-19T18:34:05.783730",
     "exception": false,
     "start_time": "2025-08-19T18:34:05.640094",
     "status": "completed"
    },
    "tags": []
   },
   "outputs": [],
   "source": [
    "# Auxiliary data needed downstream in the pipeline\n",
    "\n",
    "org_train = X_train.copy()\n",
    "org_test = X_test.copy()\n",
    "org_calib = X_calib.copy()"
   ]
  },
  {
   "cell_type": "markdown",
   "id": "b461e618",
   "metadata": {
    "papermill": {
     "duration": 0.012475,
     "end_time": "2025-08-19T18:34:05.819876",
     "exception": false,
     "start_time": "2025-08-19T18:34:05.807401",
     "status": "completed"
    },
    "tags": []
   },
   "source": [
    "# Preprocessing Data"
   ]
  },
  {
   "cell_type": "code",
   "execution_count": 21,
   "id": "78e74c4b",
   "metadata": {
    "execution": {
     "iopub.execute_input": "2025-08-19T18:34:05.842770Z",
     "iopub.status.busy": "2025-08-19T18:34:05.841630Z",
     "iopub.status.idle": "2025-08-19T18:34:05.851635Z",
     "shell.execute_reply": "2025-08-19T18:34:05.850036Z"
    },
    "papermill": {
     "duration": 0.023297,
     "end_time": "2025-08-19T18:34:05.853209",
     "exception": false,
     "start_time": "2025-08-19T18:34:05.829912",
     "status": "completed"
    },
    "tags": []
   },
   "outputs": [],
   "source": [
    "# EXCLUDE PROTECTED FEATURES\n",
    "# --------------------------\n",
    "\n",
    "excluded_features = universe[\"exclude_features\"].split(\"-\")\n",
    "excluded_features_dictionary = {\n",
    "    \"nationality\": [\"maxdeutsch1\", \"maxdeutsch.Missing.\"],\n",
    "    \"sex\": [\"frau1\"],\n",
    "    \"age\": [\"age\"],\n",
    "}"
   ]
  },
  {
   "cell_type": "code",
   "execution_count": 22,
   "id": "f8e63555",
   "metadata": {
    "execution": {
     "iopub.execute_input": "2025-08-19T18:34:05.878247Z",
     "iopub.status.busy": "2025-08-19T18:34:05.877322Z",
     "iopub.status.idle": "2025-08-19T18:34:05.886376Z",
     "shell.execute_reply": "2025-08-19T18:34:05.884683Z"
    },
    "papermill": {
     "duration": 0.022227,
     "end_time": "2025-08-19T18:34:05.888028",
     "exception": false,
     "start_time": "2025-08-19T18:34:05.865801",
     "status": "completed"
    },
    "tags": []
   },
   "outputs": [],
   "source": [
    "excluded_features_columns = [\n",
    "    excluded_features_dictionary[f] for f in excluded_features if len(f) > 0 and f != \"none\"\n",
    "]"
   ]
  },
  {
   "cell_type": "code",
   "execution_count": 23,
   "id": "da781f7c",
   "metadata": {
    "execution": {
     "iopub.execute_input": "2025-08-19T18:34:05.913190Z",
     "iopub.status.busy": "2025-08-19T18:34:05.912222Z",
     "iopub.status.idle": "2025-08-19T18:34:05.920958Z",
     "shell.execute_reply": "2025-08-19T18:34:05.919439Z"
    },
    "papermill": {
     "duration": 0.022057,
     "end_time": "2025-08-19T18:34:05.922472",
     "exception": false,
     "start_time": "2025-08-19T18:34:05.900415",
     "status": "completed"
    },
    "tags": []
   },
   "outputs": [],
   "source": [
    "from fairness_multiverse.universe import flatten_once\n",
    "\n",
    "excluded_features_columns = flatten_once(excluded_features_columns)"
   ]
  },
  {
   "cell_type": "code",
   "execution_count": 24,
   "id": "37fef0f0",
   "metadata": {
    "execution": {
     "iopub.execute_input": "2025-08-19T18:34:05.948175Z",
     "iopub.status.busy": "2025-08-19T18:34:05.947244Z",
     "iopub.status.idle": "2025-08-19T18:34:05.970621Z",
     "shell.execute_reply": "2025-08-19T18:34:05.969511Z"
    },
    "papermill": {
     "duration": 0.040462,
     "end_time": "2025-08-19T18:34:05.974960",
     "exception": false,
     "start_time": "2025-08-19T18:34:05.934498",
     "status": "completed"
    },
    "tags": []
   },
   "outputs": [
    {
     "name": "stdout",
     "output_type": "stream",
     "text": [
      "Dropping features: ['age']\n"
     ]
    }
   ],
   "source": [
    "if len(excluded_features_columns) > 0:\n",
    "    print(f\"Dropping features: {excluded_features_columns}\")\n",
    "    X_train.drop(excluded_features_columns, axis=1, inplace=True)"
   ]
  },
  {
   "cell_type": "code",
   "execution_count": 25,
   "id": "d029e3e9",
   "metadata": {
    "execution": {
     "iopub.execute_input": "2025-08-19T18:34:06.007326Z",
     "iopub.status.busy": "2025-08-19T18:34:06.006325Z",
     "iopub.status.idle": "2025-08-19T18:34:06.081391Z",
     "shell.execute_reply": "2025-08-19T18:34:06.078289Z"
    },
    "papermill": {
     "duration": 0.091601,
     "end_time": "2025-08-19T18:34:06.084549",
     "exception": false,
     "start_time": "2025-08-19T18:34:05.992948",
     "status": "completed"
    },
    "tags": []
   },
   "outputs": [
    {
     "name": "stdout",
     "output_type": "stream",
     "text": [
      "Dropping features: ['age']\n"
     ]
    }
   ],
   "source": [
    "if len(excluded_features_columns) > 0:\n",
    "    print(f\"Dropping features: {excluded_features_columns}\")\n",
    "    X_test.drop(excluded_features_columns, axis=1, inplace=True)"
   ]
  },
  {
   "cell_type": "code",
   "execution_count": 26,
   "id": "01d571f0",
   "metadata": {
    "execution": {
     "iopub.execute_input": "2025-08-19T18:34:06.116908Z",
     "iopub.status.busy": "2025-08-19T18:34:06.116177Z",
     "iopub.status.idle": "2025-08-19T18:34:06.173334Z",
     "shell.execute_reply": "2025-08-19T18:34:06.172611Z"
    },
    "papermill": {
     "duration": 0.070312,
     "end_time": "2025-08-19T18:34:06.174540",
     "exception": false,
     "start_time": "2025-08-19T18:34:06.104228",
     "status": "completed"
    },
    "tags": []
   },
   "outputs": [
    {
     "name": "stdout",
     "output_type": "stream",
     "text": [
      "Dropping features: ['age']\n"
     ]
    }
   ],
   "source": [
    "if len(excluded_features_columns) > 0:\n",
    "    print(f\"Dropping features: {excluded_features_columns}\")\n",
    "    X_calib.drop(excluded_features_columns, axis=1, inplace=True)"
   ]
  },
  {
   "cell_type": "code",
   "execution_count": 27,
   "id": "3037356e",
   "metadata": {
    "execution": {
     "iopub.execute_input": "2025-08-19T18:34:06.197842Z",
     "iopub.status.busy": "2025-08-19T18:34:06.197075Z",
     "iopub.status.idle": "2025-08-19T18:34:06.203509Z",
     "shell.execute_reply": "2025-08-19T18:34:06.202320Z"
    },
    "papermill": {
     "duration": 0.019489,
     "end_time": "2025-08-19T18:34:06.204887",
     "exception": false,
     "start_time": "2025-08-19T18:34:06.185398",
     "status": "completed"
    },
    "tags": []
   },
   "outputs": [],
   "source": [
    "# EXCLUDE CERTAIN SUBGROUPS\n",
    "# -------------------------\n",
    "\n",
    "mode = universe.get(\"exclude_subgroups\", \"keep-all\") # Defaults to \"keep-all\" if the key is missing."
   ]
  },
  {
   "cell_type": "code",
   "execution_count": 28,
   "id": "9d1e63fd",
   "metadata": {
    "execution": {
     "iopub.execute_input": "2025-08-19T18:34:06.228367Z",
     "iopub.status.busy": "2025-08-19T18:34:06.228008Z",
     "iopub.status.idle": "2025-08-19T18:34:06.233310Z",
     "shell.execute_reply": "2025-08-19T18:34:06.232524Z"
    },
    "papermill": {
     "duration": 0.017652,
     "end_time": "2025-08-19T18:34:06.234483",
     "exception": false,
     "start_time": "2025-08-19T18:34:06.216831",
     "status": "completed"
    },
    "tags": []
   },
   "outputs": [],
   "source": [
    "if mode == \"keep-all\":\n",
    "    keep_mask = pd.Series(True, index=org_train.index)\n",
    "\n",
    "elif mode == \"drop-non-german\":\n",
    "    keep_mask = (org_train[\"maxdeutsch1\"] == 1) & (org_train[\"maxdeutsch.Missing.\"] == 0)\n",
    "\n",
    "else:\n",
    "    raise ValueError(f\"Unsupported mode for exclude_subgroups: {mode}\")"
   ]
  },
  {
   "cell_type": "code",
   "execution_count": 29,
   "id": "d3b65474",
   "metadata": {
    "execution": {
     "iopub.execute_input": "2025-08-19T18:34:06.256278Z",
     "iopub.status.busy": "2025-08-19T18:34:06.255954Z",
     "iopub.status.idle": "2025-08-19T18:34:06.261020Z",
     "shell.execute_reply": "2025-08-19T18:34:06.260280Z"
    },
    "papermill": {
     "duration": 0.017463,
     "end_time": "2025-08-19T18:34:06.262394",
     "exception": false,
     "start_time": "2025-08-19T18:34:06.244931",
     "status": "completed"
    },
    "tags": []
   },
   "outputs": [],
   "source": [
    "n_drop = (~keep_mask).sum() # Calculates how many rows are set to be dropped\n",
    "if n_drop > 0:\n",
    "    pct = n_drop / len(keep_mask) * 100\n",
    "    print(f\"Dropping {n_drop} rows ({pct:.2f}%) where mode='{mode}'\")"
   ]
  },
  {
   "cell_type": "code",
   "execution_count": 30,
   "id": "f44389b3",
   "metadata": {
    "execution": {
     "iopub.execute_input": "2025-08-19T18:34:06.284642Z",
     "iopub.status.busy": "2025-08-19T18:34:06.284268Z",
     "iopub.status.idle": "2025-08-19T18:34:06.291508Z",
     "shell.execute_reply": "2025-08-19T18:34:06.290770Z"
    },
    "papermill": {
     "duration": 0.019701,
     "end_time": "2025-08-19T18:34:06.292710",
     "exception": false,
     "start_time": "2025-08-19T18:34:06.273009",
     "status": "completed"
    },
    "tags": []
   },
   "outputs": [],
   "source": [
    "X_train = X_train[keep_mask]"
   ]
  },
  {
   "cell_type": "code",
   "execution_count": 31,
   "id": "ceca8c2a",
   "metadata": {
    "execution": {
     "iopub.execute_input": "2025-08-19T18:34:06.314908Z",
     "iopub.status.busy": "2025-08-19T18:34:06.314553Z",
     "iopub.status.idle": "2025-08-19T18:34:06.319403Z",
     "shell.execute_reply": "2025-08-19T18:34:06.318720Z"
    },
    "papermill": {
     "duration": 0.017379,
     "end_time": "2025-08-19T18:34:06.320689",
     "exception": false,
     "start_time": "2025-08-19T18:34:06.303310",
     "status": "completed"
    },
    "tags": []
   },
   "outputs": [],
   "source": [
    "y_train = y_train[keep_mask]"
   ]
  },
  {
   "cell_type": "markdown",
   "id": "04d31e2f",
   "metadata": {
    "papermill": {
     "duration": 0.010371,
     "end_time": "2025-08-19T18:34:06.341726",
     "exception": false,
     "start_time": "2025-08-19T18:34:06.331355",
     "status": "completed"
    },
    "tags": []
   },
   "source": [
    "# Model Training"
   ]
  },
  {
   "cell_type": "code",
   "execution_count": 32,
   "id": "db991733",
   "metadata": {
    "execution": {
     "iopub.execute_input": "2025-08-19T18:34:06.363695Z",
     "iopub.status.busy": "2025-08-19T18:34:06.363316Z",
     "iopub.status.idle": "2025-08-19T18:34:06.463335Z",
     "shell.execute_reply": "2025-08-19T18:34:06.462549Z"
    },
    "papermill": {
     "duration": 0.113037,
     "end_time": "2025-08-19T18:34:06.465100",
     "exception": false,
     "start_time": "2025-08-19T18:34:06.352063",
     "status": "completed"
    },
    "tags": []
   },
   "outputs": [],
   "source": [
    "from sklearn.linear_model import LogisticRegression\n",
    "from sklearn.ensemble import GradientBoostingClassifier, RandomForestClassifier\n",
    "\n",
    "if (universe[\"model\"] == \"logreg\"):\n",
    "    model = LogisticRegression() #penalty=\"none\", solver=\"newton-cg\", max_iter=1)\n",
    "elif (universe[\"model\"] == \"penalized_logreg\"):\n",
    "    model = LogisticRegression(penalty=\"l2\", C=0.1) #, solver=\"newton-cg\", max_iter=1)\n",
    "elif (universe[\"model\"] == \"rf\"):\n",
    "    model = RandomForestClassifier() # n_estimators=100, n_jobs=-1\n",
    "elif (universe[\"model\"] == \"gbm\"):\n",
    "    model = GradientBoostingClassifier()\n",
    "elif (universe[\"model\"] == \"elasticnet\"):\n",
    "    model = LogisticRegression(penalty = 'elasticnet', solver = 'saga', l1_ratio = 0.5) # max_iter=5000\n",
    "else:\n",
    "    raise \"Unsupported universe.model\""
   ]
  },
  {
   "cell_type": "code",
   "execution_count": 33,
   "id": "a4b5cd25",
   "metadata": {
    "execution": {
     "iopub.execute_input": "2025-08-19T18:34:06.489675Z",
     "iopub.status.busy": "2025-08-19T18:34:06.489301Z",
     "iopub.status.idle": "2025-08-19T18:34:06.494589Z",
     "shell.execute_reply": "2025-08-19T18:34:06.493557Z"
    },
    "papermill": {
     "duration": 0.020755,
     "end_time": "2025-08-19T18:34:06.498456",
     "exception": false,
     "start_time": "2025-08-19T18:34:06.477701",
     "status": "completed"
    },
    "tags": []
   },
   "outputs": [],
   "source": [
    "from sklearn.pipeline import Pipeline\n",
    "from sklearn.preprocessing import StandardScaler\n",
    "\n",
    "model = Pipeline([\n",
    "    #(\"continuous_processor\", continuous_processor),\n",
    "    #(\"categorical_preprocessor\", categorical_preprocessor),\n",
    "    (\"scale\", StandardScaler() if universe[\"scale\"] == \"scale\" else None), \n",
    "    (\"model\", model),\n",
    "])"
   ]
  },
  {
   "cell_type": "code",
   "execution_count": 34,
   "id": "283a904d",
   "metadata": {
    "execution": {
     "iopub.execute_input": "2025-08-19T18:34:06.543553Z",
     "iopub.status.busy": "2025-08-19T18:34:06.542824Z",
     "iopub.status.idle": "2025-08-19T18:34:10.986608Z",
     "shell.execute_reply": "2025-08-19T18:34:10.985710Z"
    },
    "papermill": {
     "duration": 4.460179,
     "end_time": "2025-08-19T18:34:10.987963",
     "exception": false,
     "start_time": "2025-08-19T18:34:06.527784",
     "status": "completed"
    },
    "tags": []
   },
   "outputs": [
    {
     "data": {
      "text/html": [
       "<style>#sk-container-id-1 {color: black;background-color: white;}#sk-container-id-1 pre{padding: 0;}#sk-container-id-1 div.sk-toggleable {background-color: white;}#sk-container-id-1 label.sk-toggleable__label {cursor: pointer;display: block;width: 100%;margin-bottom: 0;padding: 0.3em;box-sizing: border-box;text-align: center;}#sk-container-id-1 label.sk-toggleable__label-arrow:before {content: \"▸\";float: left;margin-right: 0.25em;color: #696969;}#sk-container-id-1 label.sk-toggleable__label-arrow:hover:before {color: black;}#sk-container-id-1 div.sk-estimator:hover label.sk-toggleable__label-arrow:before {color: black;}#sk-container-id-1 div.sk-toggleable__content {max-height: 0;max-width: 0;overflow: hidden;text-align: left;background-color: #f0f8ff;}#sk-container-id-1 div.sk-toggleable__content pre {margin: 0.2em;color: black;border-radius: 0.25em;background-color: #f0f8ff;}#sk-container-id-1 input.sk-toggleable__control:checked~div.sk-toggleable__content {max-height: 200px;max-width: 100%;overflow: auto;}#sk-container-id-1 input.sk-toggleable__control:checked~label.sk-toggleable__label-arrow:before {content: \"▾\";}#sk-container-id-1 div.sk-estimator input.sk-toggleable__control:checked~label.sk-toggleable__label {background-color: #d4ebff;}#sk-container-id-1 div.sk-label input.sk-toggleable__control:checked~label.sk-toggleable__label {background-color: #d4ebff;}#sk-container-id-1 input.sk-hidden--visually {border: 0;clip: rect(1px 1px 1px 1px);clip: rect(1px, 1px, 1px, 1px);height: 1px;margin: -1px;overflow: hidden;padding: 0;position: absolute;width: 1px;}#sk-container-id-1 div.sk-estimator {font-family: monospace;background-color: #f0f8ff;border: 1px dotted black;border-radius: 0.25em;box-sizing: border-box;margin-bottom: 0.5em;}#sk-container-id-1 div.sk-estimator:hover {background-color: #d4ebff;}#sk-container-id-1 div.sk-parallel-item::after {content: \"\";width: 100%;border-bottom: 1px solid gray;flex-grow: 1;}#sk-container-id-1 div.sk-label:hover label.sk-toggleable__label {background-color: #d4ebff;}#sk-container-id-1 div.sk-serial::before {content: \"\";position: absolute;border-left: 1px solid gray;box-sizing: border-box;top: 0;bottom: 0;left: 50%;z-index: 0;}#sk-container-id-1 div.sk-serial {display: flex;flex-direction: column;align-items: center;background-color: white;padding-right: 0.2em;padding-left: 0.2em;position: relative;}#sk-container-id-1 div.sk-item {position: relative;z-index: 1;}#sk-container-id-1 div.sk-parallel {display: flex;align-items: stretch;justify-content: center;background-color: white;position: relative;}#sk-container-id-1 div.sk-item::before, #sk-container-id-1 div.sk-parallel-item::before {content: \"\";position: absolute;border-left: 1px solid gray;box-sizing: border-box;top: 0;bottom: 0;left: 50%;z-index: -1;}#sk-container-id-1 div.sk-parallel-item {display: flex;flex-direction: column;z-index: 1;position: relative;background-color: white;}#sk-container-id-1 div.sk-parallel-item:first-child::after {align-self: flex-end;width: 50%;}#sk-container-id-1 div.sk-parallel-item:last-child::after {align-self: flex-start;width: 50%;}#sk-container-id-1 div.sk-parallel-item:only-child::after {width: 0;}#sk-container-id-1 div.sk-dashed-wrapped {border: 1px dashed gray;margin: 0 0.4em 0.5em 0.4em;box-sizing: border-box;padding-bottom: 0.4em;background-color: white;}#sk-container-id-1 div.sk-label label {font-family: monospace;font-weight: bold;display: inline-block;line-height: 1.2em;}#sk-container-id-1 div.sk-label-container {text-align: center;}#sk-container-id-1 div.sk-container {/* jupyter's `normalize.less` sets `[hidden] { display: none; }` but bootstrap.min.css set `[hidden] { display: none !important; }` so we also need the `!important` here to be able to override the default hidden behavior on the sphinx rendered scikit-learn.org. See: https://github.com/scikit-learn/scikit-learn/issues/21755 */display: inline-block !important;position: relative;}#sk-container-id-1 div.sk-text-repr-fallback {display: none;}</style><div id=\"sk-container-id-1\" class=\"sk-top-container\"><div class=\"sk-text-repr-fallback\"><pre>Pipeline(steps=[(&#x27;scale&#x27;, StandardScaler()),\n",
       "                (&#x27;model&#x27;, GradientBoostingClassifier())])</pre><b>In a Jupyter environment, please rerun this cell to show the HTML representation or trust the notebook. <br />On GitHub, the HTML representation is unable to render, please try loading this page with nbviewer.org.</b></div><div class=\"sk-container\" hidden><div class=\"sk-item sk-dashed-wrapped\"><div class=\"sk-label-container\"><div class=\"sk-label sk-toggleable\"><input class=\"sk-toggleable__control sk-hidden--visually\" id=\"sk-estimator-id-1\" type=\"checkbox\" ><label for=\"sk-estimator-id-1\" class=\"sk-toggleable__label sk-toggleable__label-arrow\">Pipeline</label><div class=\"sk-toggleable__content\"><pre>Pipeline(steps=[(&#x27;scale&#x27;, StandardScaler()),\n",
       "                (&#x27;model&#x27;, GradientBoostingClassifier())])</pre></div></div></div><div class=\"sk-serial\"><div class=\"sk-item\"><div class=\"sk-estimator sk-toggleable\"><input class=\"sk-toggleable__control sk-hidden--visually\" id=\"sk-estimator-id-2\" type=\"checkbox\" ><label for=\"sk-estimator-id-2\" class=\"sk-toggleable__label sk-toggleable__label-arrow\">StandardScaler</label><div class=\"sk-toggleable__content\"><pre>StandardScaler()</pre></div></div></div><div class=\"sk-item\"><div class=\"sk-estimator sk-toggleable\"><input class=\"sk-toggleable__control sk-hidden--visually\" id=\"sk-estimator-id-3\" type=\"checkbox\" ><label for=\"sk-estimator-id-3\" class=\"sk-toggleable__label sk-toggleable__label-arrow\">GradientBoostingClassifier</label><div class=\"sk-toggleable__content\"><pre>GradientBoostingClassifier()</pre></div></div></div></div></div></div></div>"
      ],
      "text/plain": [
       "Pipeline(steps=[('scale', StandardScaler()),\n",
       "                ('model', GradientBoostingClassifier())])"
      ]
     },
     "execution_count": 34,
     "metadata": {},
     "output_type": "execute_result"
    }
   ],
   "source": [
    "model.fit(X_train, y_train.values.ravel())"
   ]
  },
  {
   "cell_type": "code",
   "execution_count": 35,
   "id": "6e15e313",
   "metadata": {
    "execution": {
     "iopub.execute_input": "2025-08-19T18:34:11.012675Z",
     "iopub.status.busy": "2025-08-19T18:34:11.012237Z",
     "iopub.status.idle": "2025-08-19T18:34:11.649677Z",
     "shell.execute_reply": "2025-08-19T18:34:11.649017Z"
    },
    "papermill": {
     "duration": 0.650622,
     "end_time": "2025-08-19T18:34:11.650761",
     "exception": false,
     "start_time": "2025-08-19T18:34:11.000139",
     "status": "completed"
    },
    "tags": []
   },
   "outputs": [
    {
     "data": {
      "text/plain": [
       "0.8618994537955634"
      ]
     },
     "execution_count": 35,
     "metadata": {},
     "output_type": "execute_result"
    }
   ],
   "source": [
    "from fairness_multiverse.universe import predict_w_threshold\n",
    "\n",
    "probs_test = model.predict_proba(X_test)\n",
    "\n",
    "'''\n",
    "Below code returns a boolean array (or binary 0/1 array depending on how it’s used) where each element \n",
    "is True if the probability of class 1 is greater than or equal to the threshold, and False otherwise.\n",
    "'''\n",
    "y_pred_default = predict_w_threshold(probs_test, 0.5)\n",
    "\n",
    "from sklearn.metrics import accuracy_score\n",
    "\n",
    "# Naive prediction\n",
    "accuracy_score(y_true = y_true, y_pred = y_pred_default)"
   ]
  },
  {
   "cell_type": "code",
   "execution_count": 36,
   "id": "6f14067c",
   "metadata": {
    "execution": {
     "iopub.execute_input": "2025-08-19T18:34:11.674868Z",
     "iopub.status.busy": "2025-08-19T18:34:11.674528Z",
     "iopub.status.idle": "2025-08-19T18:34:12.241414Z",
     "shell.execute_reply": "2025-08-19T18:34:12.240398Z"
    },
    "papermill": {
     "duration": 0.580328,
     "end_time": "2025-08-19T18:34:12.242752",
     "exception": false,
     "start_time": "2025-08-19T18:34:11.662424",
     "status": "completed"
    },
    "tags": []
   },
   "outputs": [
    {
     "data": {
      "text/plain": [
       "array([0, 0, 0, ..., 0, 0, 0])"
      ]
     },
     "execution_count": 36,
     "metadata": {},
     "output_type": "execute_result"
    }
   ],
   "source": [
    "model.predict(X_test)"
   ]
  },
  {
   "cell_type": "markdown",
   "id": "3759920c",
   "metadata": {
    "papermill": {
     "duration": 0.021911,
     "end_time": "2025-08-19T18:34:12.290672",
     "exception": false,
     "start_time": "2025-08-19T18:34:12.268761",
     "status": "completed"
    },
    "tags": []
   },
   "source": [
    "# Conformal Prediction"
   ]
  },
  {
   "cell_type": "code",
   "execution_count": 37,
   "id": "14b27f59",
   "metadata": {
    "execution": {
     "iopub.execute_input": "2025-08-19T18:34:12.316116Z",
     "iopub.status.busy": "2025-08-19T18:34:12.315239Z",
     "iopub.status.idle": "2025-08-19T18:34:12.321695Z",
     "shell.execute_reply": "2025-08-19T18:34:12.320684Z"
    },
    "papermill": {
     "duration": 0.020409,
     "end_time": "2025-08-19T18:34:12.322861",
     "exception": false,
     "start_time": "2025-08-19T18:34:12.302452",
     "status": "completed"
    },
    "tags": []
   },
   "outputs": [],
   "source": [
    "# Miscoverage level for conformal prediction (10% allowed error rate => 90% target coverage)\n",
    "alpha = 0.1"
   ]
  },
  {
   "cell_type": "code",
   "execution_count": 38,
   "id": "59102472",
   "metadata": {
    "execution": {
     "iopub.execute_input": "2025-08-19T18:34:12.354933Z",
     "iopub.status.busy": "2025-08-19T18:34:12.353356Z",
     "iopub.status.idle": "2025-08-19T18:34:13.074432Z",
     "shell.execute_reply": "2025-08-19T18:34:13.073207Z"
    },
    "papermill": {
     "duration": 0.736296,
     "end_time": "2025-08-19T18:34:13.076104",
     "exception": false,
     "start_time": "2025-08-19T18:34:12.339808",
     "status": "completed"
    },
    "tags": []
   },
   "outputs": [],
   "source": [
    "probs_calib = model.predict_proba(X_calib)"
   ]
  },
  {
   "cell_type": "code",
   "execution_count": 39,
   "id": "a792d4dd",
   "metadata": {
    "execution": {
     "iopub.execute_input": "2025-08-19T18:34:13.102501Z",
     "iopub.status.busy": "2025-08-19T18:34:13.100218Z",
     "iopub.status.idle": "2025-08-19T18:34:13.109519Z",
     "shell.execute_reply": "2025-08-19T18:34:13.107757Z"
    },
    "papermill": {
     "duration": 0.023071,
     "end_time": "2025-08-19T18:34:13.110869",
     "exception": false,
     "start_time": "2025-08-19T18:34:13.087798",
     "status": "completed"
    },
    "tags": []
   },
   "outputs": [],
   "source": [
    "y_calib = y_calib.values.ravel().astype(int)"
   ]
  },
  {
   "cell_type": "code",
   "execution_count": 40,
   "id": "650fd033",
   "metadata": {
    "execution": {
     "iopub.execute_input": "2025-08-19T18:34:13.139520Z",
     "iopub.status.busy": "2025-08-19T18:34:13.138700Z",
     "iopub.status.idle": "2025-08-19T18:34:13.148896Z",
     "shell.execute_reply": "2025-08-19T18:34:13.147326Z"
    },
    "papermill": {
     "duration": 0.024822,
     "end_time": "2025-08-19T18:34:13.150134",
     "exception": false,
     "start_time": "2025-08-19T18:34:13.125312",
     "status": "completed"
    },
    "tags": []
   },
   "outputs": [],
   "source": [
    "from fairness_multiverse.conformal import compute_nc_scores\n",
    "\n",
    "# Compute nonconformity scores on calibration set (1 - probability of true class)\n",
    "nc_scores = compute_nc_scores(probs_calib, y_calib)"
   ]
  },
  {
   "cell_type": "code",
   "execution_count": 41,
   "id": "28ada44c",
   "metadata": {
    "execution": {
     "iopub.execute_input": "2025-08-19T18:34:13.176446Z",
     "iopub.status.busy": "2025-08-19T18:34:13.175455Z",
     "iopub.status.idle": "2025-08-19T18:34:13.181620Z",
     "shell.execute_reply": "2025-08-19T18:34:13.180967Z"
    },
    "papermill": {
     "duration": 0.020319,
     "end_time": "2025-08-19T18:34:13.183053",
     "exception": false,
     "start_time": "2025-08-19T18:34:13.162734",
     "status": "completed"
    },
    "tags": []
   },
   "outputs": [],
   "source": [
    "from fairness_multiverse.conformal import find_threshold\n",
    "\n",
    "# Find conformal threshold q_hat for the given alpha (split conformal method)\n",
    "q_hat = find_threshold(nc_scores, alpha)"
   ]
  },
  {
   "cell_type": "code",
   "execution_count": 42,
   "id": "df56469e",
   "metadata": {
    "execution": {
     "iopub.execute_input": "2025-08-19T18:34:13.208137Z",
     "iopub.status.busy": "2025-08-19T18:34:13.207899Z",
     "iopub.status.idle": "2025-08-19T18:34:13.213531Z",
     "shell.execute_reply": "2025-08-19T18:34:13.212755Z"
    },
    "papermill": {
     "duration": 0.018854,
     "end_time": "2025-08-19T18:34:13.214856",
     "exception": false,
     "start_time": "2025-08-19T18:34:13.196002",
     "status": "completed"
    },
    "tags": []
   },
   "outputs": [
    {
     "data": {
      "text/plain": [
       "0.7088011543745274"
      ]
     },
     "execution_count": 42,
     "metadata": {},
     "output_type": "execute_result"
    }
   ],
   "source": [
    "q_hat"
   ]
  },
  {
   "cell_type": "code",
   "execution_count": 43,
   "id": "aa1f5faa",
   "metadata": {
    "execution": {
     "iopub.execute_input": "2025-08-19T18:34:13.238701Z",
     "iopub.status.busy": "2025-08-19T18:34:13.238347Z",
     "iopub.status.idle": "2025-08-19T18:34:14.259707Z",
     "shell.execute_reply": "2025-08-19T18:34:14.258539Z"
    },
    "papermill": {
     "duration": 1.035298,
     "end_time": "2025-08-19T18:34:14.261544",
     "exception": false,
     "start_time": "2025-08-19T18:34:13.226246",
     "status": "completed"
    },
    "tags": []
   },
   "outputs": [],
   "source": [
    "from fairness_multiverse.conformal import predict_conformal_sets\n",
    "\n",
    "# Generate prediction sets for each test example\n",
    "pred_sets = predict_conformal_sets(model, X_test, q_hat)"
   ]
  },
  {
   "cell_type": "code",
   "execution_count": 44,
   "id": "97f67a6b",
   "metadata": {
    "execution": {
     "iopub.execute_input": "2025-08-19T18:34:14.302707Z",
     "iopub.status.busy": "2025-08-19T18:34:14.301768Z",
     "iopub.status.idle": "2025-08-19T18:34:14.309661Z",
     "shell.execute_reply": "2025-08-19T18:34:14.308394Z"
    },
    "papermill": {
     "duration": 0.024365,
     "end_time": "2025-08-19T18:34:14.311601",
     "exception": false,
     "start_time": "2025-08-19T18:34:14.287236",
     "status": "completed"
    },
    "tags": []
   },
   "outputs": [],
   "source": [
    "y_true = y_true.squeeze()"
   ]
  },
  {
   "cell_type": "code",
   "execution_count": 45,
   "id": "e700e9a7",
   "metadata": {
    "execution": {
     "iopub.execute_input": "2025-08-19T18:34:14.341010Z",
     "iopub.status.busy": "2025-08-19T18:34:14.340083Z",
     "iopub.status.idle": "2025-08-19T18:34:14.849220Z",
     "shell.execute_reply": "2025-08-19T18:34:14.847600Z"
    },
    "papermill": {
     "duration": 0.524476,
     "end_time": "2025-08-19T18:34:14.850811",
     "exception": false,
     "start_time": "2025-08-19T18:34:14.326335",
     "status": "completed"
    },
    "tags": []
   },
   "outputs": [],
   "source": [
    "from fairness_multiverse.conformal import evaluate_sets\n",
    "\n",
    "# Evaluate coverage and average set size on test data\n",
    "metrics = evaluate_sets(pred_sets, y_true)"
   ]
  },
  {
   "cell_type": "markdown",
   "id": "efbacec0",
   "metadata": {
    "papermill": {
     "duration": 0.011431,
     "end_time": "2025-08-19T18:34:14.888136",
     "exception": false,
     "start_time": "2025-08-19T18:34:14.876705",
     "status": "completed"
    },
    "tags": []
   },
   "source": [
    "# CP Metrics"
   ]
  },
  {
   "cell_type": "code",
   "execution_count": 46,
   "id": "9de55fb1",
   "metadata": {
    "execution": {
     "iopub.execute_input": "2025-08-19T18:34:14.912432Z",
     "iopub.status.busy": "2025-08-19T18:34:14.911987Z",
     "iopub.status.idle": "2025-08-19T18:34:14.919401Z",
     "shell.execute_reply": "2025-08-19T18:34:14.918603Z"
    },
    "papermill": {
     "duration": 0.021164,
     "end_time": "2025-08-19T18:34:14.920643",
     "exception": false,
     "start_time": "2025-08-19T18:34:14.899479",
     "status": "completed"
    },
    "tags": []
   },
   "outputs": [
    {
     "data": {
      "text/plain": [
       "{'coverage': 0.9101660907368186, 'avg_size': 1.1315015048489578}"
      ]
     },
     "execution_count": 46,
     "metadata": {},
     "output_type": "execute_result"
    }
   ],
   "source": [
    "metrics"
   ]
  },
  {
   "cell_type": "code",
   "execution_count": 47,
   "id": "64c340a1",
   "metadata": {
    "execution": {
     "iopub.execute_input": "2025-08-19T18:34:14.945631Z",
     "iopub.status.busy": "2025-08-19T18:34:14.945269Z",
     "iopub.status.idle": "2025-08-19T18:34:14.965116Z",
     "shell.execute_reply": "2025-08-19T18:34:14.949547Z"
    },
    "papermill": {
     "duration": 0.033562,
     "end_time": "2025-08-19T18:34:14.966546",
     "exception": false,
     "start_time": "2025-08-19T18:34:14.932984",
     "status": "completed"
    },
    "tags": []
   },
   "outputs": [],
   "source": [
    "example_universe = universe.copy()\n",
    "universe_training_year = example_universe.get(\"training_year\")\n",
    "universe_training_size = example_universe.get(\"training_size\")\n",
    "universe_scale = example_universe.get(\"scale\")\n",
    "universe_model = example_universe.get(\"model\")\n",
    "universe_exclude_features = example_universe.get(\"exclude_features\")\n",
    "universe_exclude_subgroups = example_universe.get(\"exclude_subgroups\")"
   ]
  },
  {
   "cell_type": "code",
   "execution_count": 48,
   "id": "dbb53cb4",
   "metadata": {
    "execution": {
     "iopub.execute_input": "2025-08-19T18:34:14.998524Z",
     "iopub.status.busy": "2025-08-19T18:34:14.998144Z",
     "iopub.status.idle": "2025-08-19T18:34:15.003195Z",
     "shell.execute_reply": "2025-08-19T18:34:15.002473Z"
    },
    "papermill": {
     "duration": 0.019545,
     "end_time": "2025-08-19T18:34:15.004433",
     "exception": false,
     "start_time": "2025-08-19T18:34:14.984888",
     "status": "completed"
    },
    "tags": []
   },
   "outputs": [],
   "source": [
    "cp_metrics_dict = {\n",
    "    \"universe_id\": [universe_id],\n",
    "    \"universe_training_year\": [universe_training_year],\n",
    "    \"universe_training_size\": [universe_training_size],\n",
    "    \"universe_scale\": [universe_scale],\n",
    "    \"universe_model\": [universe_model],\n",
    "    \"universe_exclude_features\": [universe_exclude_features],\n",
    "    \"universe_exclude_subgroups\": [universe_exclude_subgroups],\n",
    "    \"q_hat\": [q_hat],\n",
    "    \"coverage\": [metrics[\"coverage\"]],\n",
    "    \"avg_size\": [metrics[\"avg_size\"]],\n",
    "}"
   ]
  },
  {
   "cell_type": "code",
   "execution_count": 49,
   "id": "0d70d4b2",
   "metadata": {
    "execution": {
     "iopub.execute_input": "2025-08-19T18:34:15.034471Z",
     "iopub.status.busy": "2025-08-19T18:34:15.034095Z",
     "iopub.status.idle": "2025-08-19T18:34:15.039925Z",
     "shell.execute_reply": "2025-08-19T18:34:15.039228Z"
    },
    "papermill": {
     "duration": 0.021293,
     "end_time": "2025-08-19T18:34:15.041062",
     "exception": false,
     "start_time": "2025-08-19T18:34:15.019769",
     "status": "completed"
    },
    "tags": []
   },
   "outputs": [],
   "source": [
    "cp_metrics_df = pd.DataFrame(cp_metrics_dict)"
   ]
  },
  {
   "cell_type": "code",
   "execution_count": 50,
   "id": "b494403c",
   "metadata": {
    "execution": {
     "iopub.execute_input": "2025-08-19T18:34:15.067137Z",
     "iopub.status.busy": "2025-08-19T18:34:15.066492Z",
     "iopub.status.idle": "2025-08-19T18:34:15.088270Z",
     "shell.execute_reply": "2025-08-19T18:34:15.087372Z"
    },
    "papermill": {
     "duration": 0.037679,
     "end_time": "2025-08-19T18:34:15.091412",
     "exception": false,
     "start_time": "2025-08-19T18:34:15.053733",
     "status": "completed"
    },
    "tags": []
   },
   "outputs": [
    {
     "data": {
      "text/html": [
       "<div>\n",
       "<style scoped>\n",
       "    .dataframe tbody tr th:only-of-type {\n",
       "        vertical-align: middle;\n",
       "    }\n",
       "\n",
       "    .dataframe tbody tr th {\n",
       "        vertical-align: top;\n",
       "    }\n",
       "\n",
       "    .dataframe thead th {\n",
       "        text-align: right;\n",
       "    }\n",
       "</style>\n",
       "<table border=\"1\" class=\"dataframe\">\n",
       "  <thead>\n",
       "    <tr style=\"text-align: right;\">\n",
       "      <th></th>\n",
       "      <th>universe_id</th>\n",
       "      <th>universe_training_year</th>\n",
       "      <th>universe_training_size</th>\n",
       "      <th>universe_scale</th>\n",
       "      <th>universe_model</th>\n",
       "      <th>universe_exclude_features</th>\n",
       "      <th>universe_exclude_subgroups</th>\n",
       "      <th>q_hat</th>\n",
       "      <th>coverage</th>\n",
       "      <th>avg_size</th>\n",
       "    </tr>\n",
       "  </thead>\n",
       "  <tbody>\n",
       "    <tr>\n",
       "      <th>0</th>\n",
       "      <td>3d58e587564eb346a04702fae52e4b3d</td>\n",
       "      <td>2012_14</td>\n",
       "      <td>5k</td>\n",
       "      <td>scale</td>\n",
       "      <td>gbm</td>\n",
       "      <td>age</td>\n",
       "      <td>keep-all</td>\n",
       "      <td>0.708801</td>\n",
       "      <td>0.910166</td>\n",
       "      <td>1.131502</td>\n",
       "    </tr>\n",
       "  </tbody>\n",
       "</table>\n",
       "</div>"
      ],
      "text/plain": [
       "                        universe_id universe_training_year  \\\n",
       "0  3d58e587564eb346a04702fae52e4b3d                2012_14   \n",
       "\n",
       "  universe_training_size universe_scale universe_model  \\\n",
       "0                     5k          scale            gbm   \n",
       "\n",
       "  universe_exclude_features universe_exclude_subgroups     q_hat  coverage  \\\n",
       "0                       age                   keep-all  0.708801  0.910166   \n",
       "\n",
       "   avg_size  \n",
       "0  1.131502  "
      ]
     },
     "execution_count": 50,
     "metadata": {},
     "output_type": "execute_result"
    }
   ],
   "source": [
    "cp_metrics_df"
   ]
  },
  {
   "cell_type": "markdown",
   "id": "ed608b0b",
   "metadata": {
    "papermill": {
     "duration": 0.012508,
     "end_time": "2025-08-19T18:34:15.116343",
     "exception": false,
     "start_time": "2025-08-19T18:34:15.103835",
     "status": "completed"
    },
    "tags": []
   },
   "source": [
    "Conditional coverage & looking at subgroups"
   ]
  },
  {
   "cell_type": "code",
   "execution_count": 51,
   "id": "8968c366",
   "metadata": {
    "execution": {
     "iopub.execute_input": "2025-08-19T18:34:15.142327Z",
     "iopub.status.busy": "2025-08-19T18:34:15.141505Z",
     "iopub.status.idle": "2025-08-19T18:34:15.432632Z",
     "shell.execute_reply": "2025-08-19T18:34:15.431622Z"
    },
    "papermill": {
     "duration": 0.305941,
     "end_time": "2025-08-19T18:34:15.434082",
     "exception": false,
     "start_time": "2025-08-19T18:34:15.128141",
     "status": "completed"
    },
    "tags": []
   },
   "outputs": [],
   "source": [
    "from fairness_multiverse.conformal import build_cp_groups\n",
    "\n",
    "cp_groups_df = build_cp_groups(pred_sets, y_true, X_test.index, org_test)"
   ]
  },
  {
   "cell_type": "code",
   "execution_count": 52,
   "id": "292ddabf",
   "metadata": {
    "execution": {
     "iopub.execute_input": "2025-08-19T18:34:15.462357Z",
     "iopub.status.busy": "2025-08-19T18:34:15.460735Z",
     "iopub.status.idle": "2025-08-19T18:34:16.349496Z",
     "shell.execute_reply": "2025-08-19T18:34:16.336946Z"
    },
    "papermill": {
     "duration": 0.906529,
     "end_time": "2025-08-19T18:34:16.353322",
     "exception": false,
     "start_time": "2025-08-19T18:34:15.446793",
     "status": "completed"
    },
    "tags": []
   },
   "outputs": [],
   "source": [
    "# Define covered = 1 if true_label is in the predicted set\n",
    "cp_groups_df['covered'] = cp_groups_df.apply(\n",
    "    lambda r: int(r['true_label'] in r['pred_set']),\n",
    "    axis=1\n",
    ")"
   ]
  },
  {
   "cell_type": "code",
   "execution_count": 53,
   "id": "3a261692",
   "metadata": {
    "execution": {
     "iopub.execute_input": "2025-08-19T18:34:16.393992Z",
     "iopub.status.busy": "2025-08-19T18:34:16.393531Z",
     "iopub.status.idle": "2025-08-19T18:34:16.407180Z",
     "shell.execute_reply": "2025-08-19T18:34:16.406430Z"
    },
    "papermill": {
     "duration": 0.030902,
     "end_time": "2025-08-19T18:34:16.409626",
     "exception": false,
     "start_time": "2025-08-19T18:34:16.378724",
     "status": "completed"
    },
    "tags": []
   },
   "outputs": [],
   "source": [
    "subgroups = ['frau1','nongerman','nongerman_male','nongerman_female']\n",
    "\n",
    "# Conditional coverage for subgroup==1\n",
    "cond_coverage = {\n",
    "    g: cp_groups_df.loc[cp_groups_df[g]==1, 'covered'].mean()\n",
    "    for g in subgroups\n",
    "}"
   ]
  },
  {
   "cell_type": "code",
   "execution_count": 54,
   "id": "894fd600",
   "metadata": {
    "execution": {
     "iopub.execute_input": "2025-08-19T18:34:16.453988Z",
     "iopub.status.busy": "2025-08-19T18:34:16.452703Z",
     "iopub.status.idle": "2025-08-19T18:34:16.465488Z",
     "shell.execute_reply": "2025-08-19T18:34:16.464171Z"
    },
    "papermill": {
     "duration": 0.030019,
     "end_time": "2025-08-19T18:34:16.466978",
     "exception": false,
     "start_time": "2025-08-19T18:34:16.436959",
     "status": "completed"
    },
    "tags": []
   },
   "outputs": [
    {
     "data": {
      "text/plain": [
       "{'frau1': 0.9034640787168082,\n",
       " 'nongerman': 0.9058552742379161,\n",
       " 'nongerman_male': 0.9242547059353328,\n",
       " 'nongerman_female': 0.8754098360655738}"
      ]
     },
     "execution_count": 54,
     "metadata": {},
     "output_type": "execute_result"
    }
   ],
   "source": [
    "cond_coverage"
   ]
  },
  {
   "cell_type": "code",
   "execution_count": 55,
   "id": "942895c7",
   "metadata": {
    "execution": {
     "iopub.execute_input": "2025-08-19T18:34:16.498846Z",
     "iopub.status.busy": "2025-08-19T18:34:16.497403Z",
     "iopub.status.idle": "2025-08-19T18:34:16.509399Z",
     "shell.execute_reply": "2025-08-19T18:34:16.508024Z"
    },
    "papermill": {
     "duration": 0.027098,
     "end_time": "2025-08-19T18:34:16.510824",
     "exception": false,
     "start_time": "2025-08-19T18:34:16.483726",
     "status": "completed"
    },
    "tags": []
   },
   "outputs": [],
   "source": [
    "for subgroup, cov in cond_coverage.items():\n",
    "    cp_metrics_df[f\"cov_{subgroup}\"] = cov"
   ]
  },
  {
   "cell_type": "code",
   "execution_count": 56,
   "id": "3970120f",
   "metadata": {
    "execution": {
     "iopub.execute_input": "2025-08-19T18:34:16.541498Z",
     "iopub.status.busy": "2025-08-19T18:34:16.540304Z",
     "iopub.status.idle": "2025-08-19T18:34:16.567684Z",
     "shell.execute_reply": "2025-08-19T18:34:16.566851Z"
    },
    "papermill": {
     "duration": 0.042683,
     "end_time": "2025-08-19T18:34:16.569293",
     "exception": false,
     "start_time": "2025-08-19T18:34:16.526610",
     "status": "completed"
    },
    "tags": []
   },
   "outputs": [
    {
     "data": {
      "text/html": [
       "<div>\n",
       "<style scoped>\n",
       "    .dataframe tbody tr th:only-of-type {\n",
       "        vertical-align: middle;\n",
       "    }\n",
       "\n",
       "    .dataframe tbody tr th {\n",
       "        vertical-align: top;\n",
       "    }\n",
       "\n",
       "    .dataframe thead th {\n",
       "        text-align: right;\n",
       "    }\n",
       "</style>\n",
       "<table border=\"1\" class=\"dataframe\">\n",
       "  <thead>\n",
       "    <tr style=\"text-align: right;\">\n",
       "      <th></th>\n",
       "      <th>universe_id</th>\n",
       "      <th>universe_training_year</th>\n",
       "      <th>universe_training_size</th>\n",
       "      <th>universe_scale</th>\n",
       "      <th>universe_model</th>\n",
       "      <th>universe_exclude_features</th>\n",
       "      <th>universe_exclude_subgroups</th>\n",
       "      <th>q_hat</th>\n",
       "      <th>coverage</th>\n",
       "      <th>avg_size</th>\n",
       "      <th>cov_frau1</th>\n",
       "      <th>cov_nongerman</th>\n",
       "      <th>cov_nongerman_male</th>\n",
       "      <th>cov_nongerman_female</th>\n",
       "    </tr>\n",
       "  </thead>\n",
       "  <tbody>\n",
       "    <tr>\n",
       "      <th>0</th>\n",
       "      <td>3d58e587564eb346a04702fae52e4b3d</td>\n",
       "      <td>2012_14</td>\n",
       "      <td>5k</td>\n",
       "      <td>scale</td>\n",
       "      <td>gbm</td>\n",
       "      <td>age</td>\n",
       "      <td>keep-all</td>\n",
       "      <td>0.708801</td>\n",
       "      <td>0.910166</td>\n",
       "      <td>1.131502</td>\n",
       "      <td>0.903464</td>\n",
       "      <td>0.905855</td>\n",
       "      <td>0.924255</td>\n",
       "      <td>0.87541</td>\n",
       "    </tr>\n",
       "  </tbody>\n",
       "</table>\n",
       "</div>"
      ],
      "text/plain": [
       "                        universe_id universe_training_year  \\\n",
       "0  3d58e587564eb346a04702fae52e4b3d                2012_14   \n",
       "\n",
       "  universe_training_size universe_scale universe_model  \\\n",
       "0                     5k          scale            gbm   \n",
       "\n",
       "  universe_exclude_features universe_exclude_subgroups     q_hat  coverage  \\\n",
       "0                       age                   keep-all  0.708801  0.910166   \n",
       "\n",
       "   avg_size  cov_frau1  cov_nongerman  cov_nongerman_male  \\\n",
       "0  1.131502   0.903464       0.905855            0.924255   \n",
       "\n",
       "   cov_nongerman_female  \n",
       "0               0.87541  "
      ]
     },
     "execution_count": 56,
     "metadata": {},
     "output_type": "execute_result"
    }
   ],
   "source": [
    "cp_metrics_df"
   ]
  },
  {
   "cell_type": "markdown",
   "id": "3fc519cc",
   "metadata": {
    "papermill": {
     "duration": 0.012884,
     "end_time": "2025-08-19T18:34:16.604019",
     "exception": false,
     "start_time": "2025-08-19T18:34:16.591135",
     "status": "completed"
    },
    "tags": []
   },
   "source": [
    "# (Fairness) Metrics"
   ]
  },
  {
   "cell_type": "code",
   "execution_count": 57,
   "id": "a2e5e155",
   "metadata": {
    "execution": {
     "iopub.execute_input": "2025-08-19T18:34:16.631021Z",
     "iopub.status.busy": "2025-08-19T18:34:16.629963Z",
     "iopub.status.idle": "2025-08-19T18:34:16.663738Z",
     "shell.execute_reply": "2025-08-19T18:34:16.662876Z"
    },
    "papermill": {
     "duration": 0.04965,
     "end_time": "2025-08-19T18:34:16.665802",
     "exception": false,
     "start_time": "2025-08-19T18:34:16.616152",
     "status": "completed"
    },
    "tags": []
   },
   "outputs": [],
   "source": [
    "colname_to_bin = \"maxdeutsch1\"\n",
    "majority_value = org_train[colname_to_bin].mode()[0]\n",
    "\n",
    "org_test[\"majmin\"] = np.where(org_test[colname_to_bin] == majority_value, \"majority\", \"minority\")"
   ]
  },
  {
   "cell_type": "code",
   "execution_count": 58,
   "id": "17e3e4d5",
   "metadata": {
    "execution": {
     "iopub.execute_input": "2025-08-19T18:34:16.705213Z",
     "iopub.status.busy": "2025-08-19T18:34:16.704216Z",
     "iopub.status.idle": "2025-08-19T18:34:18.499469Z",
     "shell.execute_reply": "2025-08-19T18:34:18.498107Z"
    },
    "papermill": {
     "duration": 1.811975,
     "end_time": "2025-08-19T18:34:18.501260",
     "exception": false,
     "start_time": "2025-08-19T18:34:16.689285",
     "status": "completed"
    },
    "tags": []
   },
   "outputs": [],
   "source": [
    "example_universe = universe.copy()\n",
    "example_universe[\"cutoff\"] = example_universe[\"cutoff\"][0]\n",
    "example_universe[\"eval_fairness_grouping\"] = example_universe[\"eval_fairness_grouping\"][0]\n",
    "fairness_dict, metric_frame = universe_analysis.compute_metrics(\n",
    "    example_universe,\n",
    "    y_pred_prob=probs_test,\n",
    "    y_test=y_true,\n",
    "    org_test=org_test,\n",
    ")"
   ]
  },
  {
   "cell_type": "markdown",
   "id": "1fb7a0e9",
   "metadata": {
    "papermill": {
     "duration": 0.018995,
     "end_time": "2025-08-19T18:34:18.542688",
     "exception": false,
     "start_time": "2025-08-19T18:34:18.523693",
     "status": "completed"
    },
    "tags": []
   },
   "source": [
    "# Overall"
   ]
  },
  {
   "cell_type": "markdown",
   "id": "be1784b1",
   "metadata": {
    "papermill": {
     "duration": 0.013611,
     "end_time": "2025-08-19T18:34:18.569840",
     "exception": false,
     "start_time": "2025-08-19T18:34:18.556229",
     "status": "completed"
    },
    "tags": []
   },
   "source": [
    "Main fairness target: Equalized Odds. Seems to be a better fit than equal opportunity, since we're not only interested in Y = 1. Seems to be a better fit than demographic parity, since we also care about accuracy, not just equal distribution of preds.\n",
    "\n",
    "Pick column for computation of fairness metrics\n",
    "\n",
    "Performance\n",
    "Overall performance measures, most interesting in relation to the measures split by group below"
   ]
  },
  {
   "cell_type": "code",
   "execution_count": 59,
   "id": "b7672bee",
   "metadata": {
    "execution": {
     "iopub.execute_input": "2025-08-19T18:34:18.599568Z",
     "iopub.status.busy": "2025-08-19T18:34:18.598191Z",
     "iopub.status.idle": "2025-08-19T18:34:18.613675Z",
     "shell.execute_reply": "2025-08-19T18:34:18.612458Z"
    },
    "papermill": {
     "duration": 0.032909,
     "end_time": "2025-08-19T18:34:18.615114",
     "exception": false,
     "start_time": "2025-08-19T18:34:18.582205",
     "status": "completed"
    },
    "tags": []
   },
   "outputs": [
    {
     "data": {
      "text/plain": [
       "accuracy                   0.223754\n",
       "balanced accuracy          0.547240\n",
       "f1                         0.245103\n",
       "precision                  0.140019\n",
       "false positive rate        0.887880\n",
       "false negative rate        0.017640\n",
       "selection rate             0.900000\n",
       "count                  89710.000000\n",
       "dtype: float64"
      ]
     },
     "execution_count": 59,
     "metadata": {},
     "output_type": "execute_result"
    }
   ],
   "source": [
    "metric_frame.overall"
   ]
  },
  {
   "cell_type": "markdown",
   "id": "d93333c9",
   "metadata": {
    "papermill": {
     "duration": 0.013154,
     "end_time": "2025-08-19T18:34:18.648925",
     "exception": false,
     "start_time": "2025-08-19T18:34:18.635771",
     "status": "completed"
    },
    "tags": []
   },
   "source": [
    "By Group"
   ]
  },
  {
   "cell_type": "code",
   "execution_count": 60,
   "id": "52256966",
   "metadata": {
    "execution": {
     "iopub.execute_input": "2025-08-19T18:34:18.679809Z",
     "iopub.status.busy": "2025-08-19T18:34:18.678778Z",
     "iopub.status.idle": "2025-08-19T18:34:18.702208Z",
     "shell.execute_reply": "2025-08-19T18:34:18.701162Z"
    },
    "papermill": {
     "duration": 0.042499,
     "end_time": "2025-08-19T18:34:18.703806",
     "exception": false,
     "start_time": "2025-08-19T18:34:18.661307",
     "status": "completed"
    },
    "tags": []
   },
   "outputs": [
    {
     "data": {
      "text/html": [
       "<div>\n",
       "<style scoped>\n",
       "    .dataframe tbody tr th:only-of-type {\n",
       "        vertical-align: middle;\n",
       "    }\n",
       "\n",
       "    .dataframe tbody tr th {\n",
       "        vertical-align: top;\n",
       "    }\n",
       "\n",
       "    .dataframe thead th {\n",
       "        text-align: right;\n",
       "    }\n",
       "</style>\n",
       "<table border=\"1\" class=\"dataframe\">\n",
       "  <thead>\n",
       "    <tr style=\"text-align: right;\">\n",
       "      <th></th>\n",
       "      <th>accuracy</th>\n",
       "      <th>balanced accuracy</th>\n",
       "      <th>f1</th>\n",
       "      <th>precision</th>\n",
       "      <th>false positive rate</th>\n",
       "      <th>false negative rate</th>\n",
       "      <th>selection rate</th>\n",
       "      <th>count</th>\n",
       "    </tr>\n",
       "    <tr>\n",
       "      <th>majmin</th>\n",
       "      <th></th>\n",
       "      <th></th>\n",
       "      <th></th>\n",
       "      <th></th>\n",
       "      <th></th>\n",
       "      <th></th>\n",
       "      <th></th>\n",
       "      <th></th>\n",
       "    </tr>\n",
       "  </thead>\n",
       "  <tbody>\n",
       "    <tr>\n",
       "      <th>majority</th>\n",
       "      <td>0.243198</td>\n",
       "      <td>0.555962</td>\n",
       "      <td>0.255172</td>\n",
       "      <td>0.146659</td>\n",
       "      <td>0.869149</td>\n",
       "      <td>0.018928</td>\n",
       "      <td>0.883938</td>\n",
       "      <td>69170.0</td>\n",
       "    </tr>\n",
       "    <tr>\n",
       "      <th>minority</th>\n",
       "      <td>0.158277</td>\n",
       "      <td>0.518787</td>\n",
       "      <td>0.212884</td>\n",
       "      <td>0.119304</td>\n",
       "      <td>0.949758</td>\n",
       "      <td>0.012669</td>\n",
       "      <td>0.954090</td>\n",
       "      <td>20540.0</td>\n",
       "    </tr>\n",
       "  </tbody>\n",
       "</table>\n",
       "</div>"
      ],
      "text/plain": [
       "          accuracy  balanced accuracy        f1  precision  \\\n",
       "majmin                                                       \n",
       "majority  0.243198           0.555962  0.255172   0.146659   \n",
       "minority  0.158277           0.518787  0.212884   0.119304   \n",
       "\n",
       "          false positive rate  false negative rate  selection rate    count  \n",
       "majmin                                                                       \n",
       "majority             0.869149             0.018928        0.883938  69170.0  \n",
       "minority             0.949758             0.012669        0.954090  20540.0  "
      ]
     },
     "execution_count": 60,
     "metadata": {},
     "output_type": "execute_result"
    }
   ],
   "source": [
    "metric_frame.by_group"
   ]
  },
  {
   "cell_type": "code",
   "execution_count": 61,
   "id": "6e6c20ae",
   "metadata": {
    "execution": {
     "iopub.execute_input": "2025-08-19T18:34:18.738198Z",
     "iopub.status.busy": "2025-08-19T18:34:18.736856Z",
     "iopub.status.idle": "2025-08-19T18:34:20.543826Z",
     "shell.execute_reply": "2025-08-19T18:34:20.542708Z"
    },
    "papermill": {
     "duration": 1.830244,
     "end_time": "2025-08-19T18:34:20.547791",
     "exception": false,
     "start_time": "2025-08-19T18:34:18.717547",
     "status": "completed"
    },
    "tags": []
   },
   "outputs": [
    {
     "data": {
      "text/plain": [
       "array([[<Axes: title={'center': 'accuracy'}, xlabel='majmin'>,\n",
       "        <Axes: title={'center': 'balanced accuracy'}, xlabel='majmin'>,\n",
       "        <Axes: title={'center': 'f1'}, xlabel='majmin'>],\n",
       "       [<Axes: title={'center': 'precision'}, xlabel='majmin'>,\n",
       "        <Axes: title={'center': 'false positive rate'}, xlabel='majmin'>,\n",
       "        <Axes: title={'center': 'false negative rate'}, xlabel='majmin'>],\n",
       "       [<Axes: title={'center': 'selection rate'}, xlabel='majmin'>,\n",
       "        <Axes: title={'center': 'count'}, xlabel='majmin'>,\n",
       "        <Axes: xlabel='majmin'>]], dtype=object)"
      ]
     },
     "execution_count": 61,
     "metadata": {},
     "output_type": "execute_result"
    },
    {
     "data": {
      "image/png": "[encoded data removed]",
      "text/plain": [
       "<Figure size 1200x800 with 9 Axes>"
      ]
     },
     "metadata": {},
     "output_type": "display_data"
    }
   ],
   "source": [
    "# In a graphic\n",
    "metric_frame.by_group.plot.bar(\n",
    "    subplots=True,\n",
    "    layout=[3, 3],\n",
    "    legend=False,\n",
    "    figsize=[12, 8],\n",
    "    title=\"Show all metrics\",\n",
    ")"
   ]
  },
  {
   "cell_type": "markdown",
   "id": "b2e433ae",
   "metadata": {
    "papermill": {
     "duration": 0.026142,
     "end_time": "2025-08-19T18:34:20.609284",
     "exception": false,
     "start_time": "2025-08-19T18:34:20.583142",
     "status": "completed"
    },
    "tags": []
   },
   "source": [
    "# Final Output"
   ]
  },
  {
   "cell_type": "code",
   "execution_count": 62,
   "id": "3871301e",
   "metadata": {
    "execution": {
     "iopub.execute_input": "2025-08-19T18:34:20.638911Z",
     "iopub.status.busy": "2025-08-19T18:34:20.638103Z",
     "iopub.status.idle": "2025-08-19T18:34:20.646982Z",
     "shell.execute_reply": "2025-08-19T18:34:20.646274Z"
    },
    "papermill": {
     "duration": 0.025446,
     "end_time": "2025-08-19T18:34:20.648675",
     "exception": false,
     "start_time": "2025-08-19T18:34:20.623229",
     "status": "completed"
    },
    "tags": []
   },
   "outputs": [
    {
     "data": {
      "text/plain": [
       "4"
      ]
     },
     "execution_count": 62,
     "metadata": {},
     "output_type": "execute_result"
    }
   ],
   "source": [
    "sub_universes = universe_analysis.generate_sub_universes()\n",
    "len(sub_universes)"
   ]
  },
  {
   "cell_type": "code",
   "execution_count": 63,
   "id": "d9cfdaca",
   "metadata": {
    "execution": {
     "iopub.execute_input": "2025-08-19T18:34:20.677741Z",
     "iopub.status.busy": "2025-08-19T18:34:20.677384Z",
     "iopub.status.idle": "2025-08-19T18:34:20.683538Z",
     "shell.execute_reply": "2025-08-19T18:34:20.682856Z"
    },
    "papermill": {
     "duration": 0.02237,
     "end_time": "2025-08-19T18:34:20.684956",
     "exception": false,
     "start_time": "2025-08-19T18:34:20.662586",
     "status": "completed"
    },
    "tags": []
   },
   "outputs": [],
   "source": [
    "def filter_sub_universe_data(sub_universe, org_test):\n",
    "    # Keep all rows — no filtering\n",
    "    keep_rows_mask = np.ones(org_test.shape[0], dtype=bool)\n",
    "\n",
    "    print(f\"[INFO] Keeping all rows: {keep_rows_mask.sum()} rows retained.\")\n",
    "    return keep_rows_mask"
   ]
  },
  {
   "cell_type": "code",
   "execution_count": 64,
   "id": "2bc31ac1",
   "metadata": {
    "execution": {
     "iopub.execute_input": "2025-08-19T18:34:20.714226Z",
     "iopub.status.busy": "2025-08-19T18:34:20.713874Z",
     "iopub.status.idle": "2025-08-19T18:34:27.394172Z",
     "shell.execute_reply": "2025-08-19T18:34:27.393096Z"
    },
    "papermill": {
     "duration": 6.69624,
     "end_time": "2025-08-19T18:34:27.395530",
     "exception": false,
     "start_time": "2025-08-19T18:34:20.699290",
     "status": "completed"
    },
    "tags": []
   },
   "outputs": [
    {
     "name": "stdout",
     "output_type": "stream",
     "text": [
      "Stopping execution_time clock.\n",
      "[INFO] Keeping all rows: 89710 rows retained.\n"
     ]
    },
    {
     "name": "stdout",
     "output_type": "stream",
     "text": [
      "[INFO] Keeping all rows: 89710 rows retained.\n"
     ]
    },
    {
     "name": "stdout",
     "output_type": "stream",
     "text": [
      "[INFO] Keeping all rows: 89710 rows retained.\n"
     ]
    },
    {
     "name": "stdout",
     "output_type": "stream",
     "text": [
      "[INFO] Keeping all rows: 89710 rows retained.\n"
     ]
    },
    {
     "data": {
      "text/html": [
       "<div>\n",
       "<style scoped>\n",
       "    .dataframe tbody tr th:only-of-type {\n",
       "        vertical-align: middle;\n",
       "    }\n",
       "\n",
       "    .dataframe tbody tr th {\n",
       "        vertical-align: top;\n",
       "    }\n",
       "\n",
       "    .dataframe thead th {\n",
       "        text-align: right;\n",
       "    }\n",
       "</style>\n",
       "<table border=\"1\" class=\"dataframe\">\n",
       "  <thead>\n",
       "    <tr style=\"text-align: right;\">\n",
       "      <th></th>\n",
       "      <th>run_no</th>\n",
       "      <th>universe_id</th>\n",
       "      <th>universe_settings</th>\n",
       "      <th>execution_time</th>\n",
       "      <th>test_size_n</th>\n",
       "      <th>test_size_frac</th>\n",
       "      <th>fair_main_equalized_odds_difference</th>\n",
       "      <th>fair_main_equalized_odds_ratio</th>\n",
       "      <th>fair_main_demographic_parity_difference</th>\n",
       "      <th>fair_main_demographic_parity_ratio</th>\n",
       "      <th>...</th>\n",
       "      <th>perf_grp_precision_0</th>\n",
       "      <th>perf_grp_precision_1</th>\n",
       "      <th>perf_grp_false positive rate_0</th>\n",
       "      <th>perf_grp_false positive rate_1</th>\n",
       "      <th>perf_grp_false negative rate_0</th>\n",
       "      <th>perf_grp_false negative rate_1</th>\n",
       "      <th>perf_grp_selection rate_0</th>\n",
       "      <th>perf_grp_selection rate_1</th>\n",
       "      <th>perf_grp_count_0</th>\n",
       "      <th>perf_grp_count_1</th>\n",
       "    </tr>\n",
       "  </thead>\n",
       "  <tbody>\n",
       "    <tr>\n",
       "      <th>0</th>\n",
       "      <td>3</td>\n",
       "      <td>3d58e587564eb346a04702fae52e4b3d</td>\n",
       "      <td>{\"cutoff\": \"quantile_0.1\", \"eval_fairness_grou...</td>\n",
       "      <td>27.85245</td>\n",
       "      <td>89710</td>\n",
       "      <td>1.0</td>\n",
       "      <td>0.080609</td>\n",
       "      <td>0.915127</td>\n",
       "      <td>0.070151</td>\n",
       "      <td>0.926473</td>\n",
       "      <td>...</td>\n",
       "      <td>NaN</td>\n",
       "      <td>NaN</td>\n",
       "      <td>NaN</td>\n",
       "      <td>NaN</td>\n",
       "      <td>NaN</td>\n",
       "      <td>NaN</td>\n",
       "      <td>NaN</td>\n",
       "      <td>NaN</td>\n",
       "      <td>NaN</td>\n",
       "      <td>NaN</td>\n",
       "    </tr>\n",
       "    <tr>\n",
       "      <th>0</th>\n",
       "      <td>3</td>\n",
       "      <td>3d58e587564eb346a04702fae52e4b3d</td>\n",
       "      <td>{\"cutoff\": \"quantile_0.1\", \"eval_fairness_grou...</td>\n",
       "      <td>27.85245</td>\n",
       "      <td>89710</td>\n",
       "      <td>1.0</td>\n",
       "      <td>0.080609</td>\n",
       "      <td>0.915127</td>\n",
       "      <td>0.070151</td>\n",
       "      <td>0.926473</td>\n",
       "      <td>...</td>\n",
       "      <td>0.119304</td>\n",
       "      <td>0.146659</td>\n",
       "      <td>0.949758</td>\n",
       "      <td>0.869149</td>\n",
       "      <td>0.012669</td>\n",
       "      <td>0.018928</td>\n",
       "      <td>0.954090</td>\n",
       "      <td>0.883938</td>\n",
       "      <td>20540.0</td>\n",
       "      <td>69170.0</td>\n",
       "    </tr>\n",
       "    <tr>\n",
       "      <th>0</th>\n",
       "      <td>3</td>\n",
       "      <td>3d58e587564eb346a04702fae52e4b3d</td>\n",
       "      <td>{\"cutoff\": \"quantile_0.25\", \"eval_fairness_gro...</td>\n",
       "      <td>27.85245</td>\n",
       "      <td>89710</td>\n",
       "      <td>1.0</td>\n",
       "      <td>0.151825</td>\n",
       "      <td>0.818954</td>\n",
       "      <td>0.131596</td>\n",
       "      <td>0.845446</td>\n",
       "      <td>...</td>\n",
       "      <td>NaN</td>\n",
       "      <td>NaN</td>\n",
       "      <td>NaN</td>\n",
       "      <td>NaN</td>\n",
       "      <td>NaN</td>\n",
       "      <td>NaN</td>\n",
       "      <td>NaN</td>\n",
       "      <td>NaN</td>\n",
       "      <td>NaN</td>\n",
       "      <td>NaN</td>\n",
       "    </tr>\n",
       "    <tr>\n",
       "      <th>0</th>\n",
       "      <td>3</td>\n",
       "      <td>3d58e587564eb346a04702fae52e4b3d</td>\n",
       "      <td>{\"cutoff\": \"quantile_0.25\", \"eval_fairness_gro...</td>\n",
       "      <td>27.85245</td>\n",
       "      <td>89710</td>\n",
       "      <td>1.0</td>\n",
       "      <td>0.151825</td>\n",
       "      <td>0.818954</td>\n",
       "      <td>0.131596</td>\n",
       "      <td>0.845446</td>\n",
       "      <td>...</td>\n",
       "      <td>0.128652</td>\n",
       "      <td>0.172032</td>\n",
       "      <td>0.838598</td>\n",
       "      <td>0.686773</td>\n",
       "      <td>0.049831</td>\n",
       "      <td>0.062801</td>\n",
       "      <td>0.851461</td>\n",
       "      <td>0.719864</td>\n",
       "      <td>20540.0</td>\n",
       "      <td>69170.0</td>\n",
       "    </tr>\n",
       "  </tbody>\n",
       "</table>\n",
       "<p>4 rows × 50 columns</p>\n",
       "</div>"
      ],
      "text/plain": [
       "  run_no                       universe_id  \\\n",
       "0      3  3d58e587564eb346a04702fae52e4b3d   \n",
       "0      3  3d58e587564eb346a04702fae52e4b3d   \n",
       "0      3  3d58e587564eb346a04702fae52e4b3d   \n",
       "0      3  3d58e587564eb346a04702fae52e4b3d   \n",
       "\n",
       "                                   universe_settings  execution_time  \\\n",
       "0  {\"cutoff\": \"quantile_0.1\", \"eval_fairness_grou...        27.85245   \n",
       "0  {\"cutoff\": \"quantile_0.1\", \"eval_fairness_grou...        27.85245   \n",
       "0  {\"cutoff\": \"quantile_0.25\", \"eval_fairness_gro...        27.85245   \n",
       "0  {\"cutoff\": \"quantile_0.25\", \"eval_fairness_gro...        27.85245   \n",
       "\n",
       "   test_size_n  test_size_frac  fair_main_equalized_odds_difference  \\\n",
       "0        89710             1.0                             0.080609   \n",
       "0        89710             1.0                             0.080609   \n",
       "0        89710             1.0                             0.151825   \n",
       "0        89710             1.0                             0.151825   \n",
       "\n",
       "   fair_main_equalized_odds_ratio  fair_main_demographic_parity_difference  \\\n",
       "0                        0.915127                                 0.070151   \n",
       "0                        0.915127                                 0.070151   \n",
       "0                        0.818954                                 0.131596   \n",
       "0                        0.818954                                 0.131596   \n",
       "\n",
       "   fair_main_demographic_parity_ratio  ...  perf_grp_precision_0  \\\n",
       "0                            0.926473  ...                   NaN   \n",
       "0                            0.926473  ...              0.119304   \n",
       "0                            0.845446  ...                   NaN   \n",
       "0                            0.845446  ...              0.128652   \n",
       "\n",
       "   perf_grp_precision_1  perf_grp_false positive rate_0  \\\n",
       "0                   NaN                             NaN   \n",
       "0              0.146659                        0.949758   \n",
       "0                   NaN                             NaN   \n",
       "0              0.172032                        0.838598   \n",
       "\n",
       "   perf_grp_false positive rate_1  perf_grp_false negative rate_0  \\\n",
       "0                             NaN                             NaN   \n",
       "0                        0.869149                        0.012669   \n",
       "0                             NaN                             NaN   \n",
       "0                        0.686773                        0.049831   \n",
       "\n",
       "   perf_grp_false negative rate_1  perf_grp_selection rate_0  \\\n",
       "0                             NaN                        NaN   \n",
       "0                        0.018928                   0.954090   \n",
       "0                             NaN                        NaN   \n",
       "0                        0.062801                   0.851461   \n",
       "\n",
       "   perf_grp_selection rate_1  perf_grp_count_0  perf_grp_count_1  \n",
       "0                        NaN               NaN               NaN  \n",
       "0                   0.883938           20540.0           69170.0  \n",
       "0                        NaN               NaN               NaN  \n",
       "0                   0.719864           20540.0           69170.0  \n",
       "\n",
       "[4 rows x 50 columns]"
      ]
     },
     "execution_count": 64,
     "metadata": {},
     "output_type": "execute_result"
    }
   ],
   "source": [
    "final_output = universe_analysis.generate_final_output(\n",
    "    y_pred_prob=probs_test,\n",
    "    y_test=y_true,\n",
    "    org_test=org_test,\n",
    "    filter_data=filter_sub_universe_data,\n",
    "    cp_metrics_df=cp_metrics_df,\n",
    "    save=True,\n",
    ")\n",
    "final_output"
   ]
  },
  {
   "cell_type": "code",
   "execution_count": null,
   "id": "8b80a1ff",
   "metadata": {
    "papermill": {
     "duration": 0.026709,
     "end_time": "2025-08-19T18:34:27.443072",
     "exception": false,
     "start_time": "2025-08-19T18:34:27.416363",
     "status": "completed"
    },
    "tags": []
   },
   "outputs": [],
   "source": []
  },
  {
   "cell_type": "code",
   "execution_count": null,
   "id": "275c9fad",
   "metadata": {
    "papermill": {
     "duration": 0.014185,
     "end_time": "2025-08-19T18:34:27.472047",
     "exception": false,
     "start_time": "2025-08-19T18:34:27.457862",
     "status": "completed"
    },
    "tags": []
   },
   "outputs": [],
   "source": []
  }
 ],
 "metadata": {
  "celltoolbar": "Tags",
  "kernelspec": {
   "display_name": "Python (CMA Fairness)",
   "language": "python",
   "name": "cma_fair_env"
  },
  "language_info": {
   "codemirror_mode": {
    "name": "ipython",
    "version": 3
   },
   "file_extension": ".py",
   "mimetype": "text/x-python",
   "name": "python",
   "nbconvert_exporter": "python",
   "pygments_lexer": "ipython3",
   "version": "3.10.12"
  },
  "papermill": {
   "default_parameters": {},
   "duration": 38.089945,
   "end_time": "2025-08-19T18:34:28.206795",
   "environment_variables": {},
   "exception": null,
   "input_path": "universe_analysis.ipynb",
   "output_path": "output/runs/3/notebooks/m_3-3d58e587564eb346a04702fae52e4b3d.ipynb",
   "parameters": {
    "output_dir": "output",
    "run_no": "3",
    "seed": "2023",
    "universe": "{\"cutoff\": [\"quantile_0.1\", \"quantile_0.25\"], \"eval_fairness_grouping\": [\"majority-minority\", \"nationality-all\"], \"exclude_features\": \"age\", \"exclude_subgroups\": \"keep-all\", \"model\": \"gbm\", \"scale\": \"scale\", \"training_size\": \"5k\", \"training_year\": \"2012_14\"}",
    "universe_id": "3d58e587564eb346a04702fae52e4b3d"
   },
   "start_time": "2025-08-19T18:33:50.116850",
   "version": "2.6.0"
  }
 },
 "nbformat": 4,
 "nbformat_minor": 5
}