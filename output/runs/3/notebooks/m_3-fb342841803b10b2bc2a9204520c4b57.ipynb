{
 "cells": [
  {
   "cell_type": "markdown",
   "id": "ef23dbb3",
   "metadata": {
    "papermill": {
     "duration": 0.010753,
     "end_time": "2025-08-19T18:49:50.826880",
     "exception": false,
     "start_time": "2025-08-19T18:49:50.816127",
     "status": "completed"
    },
    "tags": []
   },
   "source": [
    "# Setup"
   ]
  },
  {
   "cell_type": "code",
   "execution_count": 1,
   "id": "0bc8e7dc",
   "metadata": {
    "execution": {
     "iopub.execute_input": "2025-08-19T18:49:50.846269Z",
     "iopub.status.busy": "2025-08-19T18:49:50.845806Z",
     "iopub.status.idle": "2025-08-19T18:49:50.855196Z",
     "shell.execute_reply": "2025-08-19T18:49:50.854388Z"
    },
    "papermill": {
     "duration": 0.027245,
     "end_time": "2025-08-19T18:49:50.863121",
     "exception": false,
     "start_time": "2025-08-19T18:49:50.835876",
     "status": "completed"
    },
    "tags": []
   },
   "outputs": [
    {
     "name": "stdout",
     "output_type": "stream",
     "text": [
      "/dss/dsshome1/0C/ra93lal2/cma/CMA_Fairness_v2\n"
     ]
    },
    {
     "name": "stderr",
     "output_type": "stream",
     "text": [
      "/dss/dsshome1/0C/ra93lal2/.local/share/virtualenvs/CMA_Fairness_v2-3j10GkSs/lib/python3.10/site-packages/IPython/core/magics/osm.py:393: UserWarning: This is now an optional IPython functionality, using bookmarks requires you to install the `pickleshare` library.\n",
      "  bkms = self.shell.db.get('bookmarks', {})\n",
      "/dss/dsshome1/0C/ra93lal2/.local/share/virtualenvs/CMA_Fairness_v2-3j10GkSs/lib/python3.10/site-packages/IPython/core/magics/osm.py:417: UserWarning: This is now an optional IPython functionality, setting dhist requires you to install the `pickleshare` library.\n",
      "  self.shell.db['dhist'] = compress_dhist(dhist)[-100:]\n"
     ]
    }
   ],
   "source": [
    "%cd ~/cma/CMA_Fairness_v2"
   ]
  },
  {
   "cell_type": "markdown",
   "id": "9d235661",
   "metadata": {
    "papermill": {
     "duration": 0.008837,
     "end_time": "2025-08-19T18:49:50.882223",
     "exception": false,
     "start_time": "2025-08-19T18:49:50.873386",
     "status": "completed"
    },
    "tags": []
   },
   "source": [
    "The following cell holds the definition of our parameters, these values can be overriden by rendering the with e.g. the following command:\n",
    "\n",
    "papermill -p alpha 0.2 -p ratio 0.3 universe_analysis.ipynb output/test_run.ipynb"
   ]
  },
  {
   "cell_type": "code",
   "execution_count": 2,
   "id": "4a789d8e",
   "metadata": {
    "execution": {
     "iopub.execute_input": "2025-08-19T18:49:50.901110Z",
     "iopub.status.busy": "2025-08-19T18:49:50.900814Z",
     "iopub.status.idle": "2025-08-19T18:49:50.905542Z",
     "shell.execute_reply": "2025-08-19T18:49:50.904886Z"
    },
    "papermill": {
     "duration": 0.015779,
     "end_time": "2025-08-19T18:49:50.906835",
     "exception": false,
     "start_time": "2025-08-19T18:49:50.891056",
     "status": "completed"
    },
    "tags": []
   },
   "outputs": [
    {
     "name": "stdout",
     "output_type": "stream",
     "text": [
      "Current working directory: /dss/dsshome1/0C/ra93lal2/cma/CMA_Fairness_v2\n"
     ]
    }
   ],
   "source": [
    "import os\n",
    "print(\"Current working directory:\", os.getcwd())"
   ]
  },
  {
   "cell_type": "code",
   "execution_count": 3,
   "id": "4132aaed",
   "metadata": {
    "execution": {
     "iopub.execute_input": "2025-08-19T18:49:50.926774Z",
     "iopub.status.busy": "2025-08-19T18:49:50.926500Z",
     "iopub.status.idle": "2025-08-19T18:49:50.939085Z",
     "shell.execute_reply": "2025-08-19T18:49:50.938232Z"
    },
    "papermill": {
     "duration": 0.024588,
     "end_time": "2025-08-19T18:49:50.940709",
     "exception": false,
     "start_time": "2025-08-19T18:49:50.916121",
     "status": "completed"
    },
    "tags": [
     "parameters"
    ]
   },
   "outputs": [],
   "source": [
    "run_no = 0\n",
    "universe_id = \"test\"\n",
    "universe = {\n",
    "    \"training_size\": \"5k\", # \"25k\", \"5k\", \"1k\"\n",
    "    \"training_year\": \"2012_14\", # \"2014\", \"2012_14\", \"2010_14\"\n",
    "    \"scale\": \"scale\", # \"scale\", \"do-not-scale\",\n",
    "    \"model\": \"elasticnet\", # \"logreg\", \"penalized_logreg\", \"rf\", \"gbm\", \"elasticnet\"\n",
    "    \"cutoff\": [\"quantile_0.15\", \"quantile_0.30\"],\n",
    "    \"exclude_features\": \"age\", # \"none\", \"nationality\", \"sex\", \"nationality-sex\", \"age\"\n",
    "    \"exclude_subgroups\": \"drop-non-german\", # \"keep-all\", \"drop-non-german\"\n",
    "    \"eval_fairness_grouping\": [\"majority-minority\", \"nationality-all\"]\n",
    "}\n",
    "\n",
    "output_dir=\"./output\"\n",
    "seed=0"
   ]
  },
  {
   "cell_type": "code",
   "execution_count": 4,
   "id": "74662fc6",
   "metadata": {
    "execution": {
     "iopub.execute_input": "2025-08-19T18:49:50.963524Z",
     "iopub.status.busy": "2025-08-19T18:49:50.963266Z",
     "iopub.status.idle": "2025-08-19T18:49:50.969497Z",
     "shell.execute_reply": "2025-08-19T18:49:50.968029Z"
    },
    "papermill": {
     "duration": 0.018628,
     "end_time": "2025-08-19T18:49:50.971032",
     "exception": false,
     "start_time": "2025-08-19T18:49:50.952404",
     "status": "completed"
    },
    "tags": [
     "injected-parameters"
    ]
   },
   "outputs": [],
   "source": [
    "# Parameters\n",
    "universe_id = \"fb342841803b10b2bc2a9204520c4b57\"\n",
    "run_no = \"3\"\n",
    "universe = \"{\\\"cutoff\\\": [\\\"quantile_0.1\\\", \\\"quantile_0.25\\\"], \\\"eval_fairness_grouping\\\": [\\\"majority-minority\\\", \\\"nationality-all\\\"], \\\"exclude_features\\\": \\\"nationality-sex\\\", \\\"exclude_subgroups\\\": \\\"drop-non-german\\\", \\\"model\\\": \\\"penalized_logreg\\\", \\\"scale\\\": \\\"scale\\\", \\\"training_size\\\": \\\"1k\\\", \\\"training_year\\\": \\\"2014\\\"}\"\n",
    "output_dir = \"output\"\n",
    "seed = \"2023\"\n"
   ]
  },
  {
   "cell_type": "code",
   "execution_count": 5,
   "id": "a5d7941f",
   "metadata": {
    "execution": {
     "iopub.execute_input": "2025-08-19T18:49:50.991912Z",
     "iopub.status.busy": "2025-08-19T18:49:50.991661Z",
     "iopub.status.idle": "2025-08-19T18:49:50.997610Z",
     "shell.execute_reply": "2025-08-19T18:49:50.996399Z"
    },
    "papermill": {
     "duration": 0.017801,
     "end_time": "2025-08-19T18:49:50.999229",
     "exception": false,
     "start_time": "2025-08-19T18:49:50.981428",
     "status": "completed"
    },
    "tags": []
   },
   "outputs": [],
   "source": [
    "import json\n",
    "if isinstance(universe, str):\n",
    "    universe = json.loads(universe)"
   ]
  },
  {
   "cell_type": "code",
   "execution_count": 6,
   "id": "7076ccb1",
   "metadata": {
    "execution": {
     "iopub.execute_input": "2025-08-19T18:49:51.019210Z",
     "iopub.status.busy": "2025-08-19T18:49:51.018886Z",
     "iopub.status.idle": "2025-08-19T18:49:51.060032Z",
     "shell.execute_reply": "2025-08-19T18:49:51.059200Z"
    },
    "papermill": {
     "duration": 0.053057,
     "end_time": "2025-08-19T18:49:51.061639",
     "exception": false,
     "start_time": "2025-08-19T18:49:51.008582",
     "status": "completed"
    },
    "tags": []
   },
   "outputs": [],
   "source": [
    "# Auto-reload the custom package\n",
    "%load_ext autoreload\n",
    "%autoreload 1\n",
    "%aimport fairness_multiverse"
   ]
  },
  {
   "cell_type": "code",
   "execution_count": 7,
   "id": "94c8eb93",
   "metadata": {
    "execution": {
     "iopub.execute_input": "2025-08-19T18:49:51.081999Z",
     "iopub.status.busy": "2025-08-19T18:49:51.081603Z",
     "iopub.status.idle": "2025-08-19T18:49:52.769104Z",
     "shell.execute_reply": "2025-08-19T18:49:52.767299Z"
    },
    "papermill": {
     "duration": 1.699353,
     "end_time": "2025-08-19T18:49:52.770533",
     "exception": false,
     "start_time": "2025-08-19T18:49:51.071180",
     "status": "completed"
    },
    "tags": []
   },
   "outputs": [],
   "source": [
    "from fairness_multiverse.universe import UniverseAnalysis\n",
    "\n",
    "universe_analysis = UniverseAnalysis(\n",
    "    run_no = run_no,\n",
    "    universe_id = universe_id,\n",
    "    universe = universe,\n",
    "    output_dir=output_dir,\n",
    ")"
   ]
  },
  {
   "cell_type": "code",
   "execution_count": 8,
   "id": "2a6381cf",
   "metadata": {
    "execution": {
     "iopub.execute_input": "2025-08-19T18:49:52.791046Z",
     "iopub.status.busy": "2025-08-19T18:49:52.790087Z",
     "iopub.status.idle": "2025-08-19T18:49:52.799070Z",
     "shell.execute_reply": "2025-08-19T18:49:52.797962Z"
    },
    "papermill": {
     "duration": 0.020886,
     "end_time": "2025-08-19T18:49:52.800526",
     "exception": false,
     "start_time": "2025-08-19T18:49:52.779640",
     "status": "completed"
    },
    "tags": []
   },
   "outputs": [
    {
     "name": "stdout",
     "output_type": "stream",
     "text": [
      "Using Seed: 2023\n"
     ]
    }
   ],
   "source": [
    "import numpy as np\n",
    "parsed_seed = int(seed)\n",
    "np.random.seed(parsed_seed)\n",
    "print(f\"Using Seed: {parsed_seed}\")"
   ]
  },
  {
   "cell_type": "markdown",
   "id": "b6e958b4",
   "metadata": {
    "papermill": {
     "duration": 0.008825,
     "end_time": "2025-08-19T18:49:52.818765",
     "exception": false,
     "start_time": "2025-08-19T18:49:52.809940",
     "status": "completed"
    },
    "tags": []
   },
   "source": [
    "# Loading Data"
   ]
  },
  {
   "cell_type": "code",
   "execution_count": 9,
   "id": "98701482",
   "metadata": {
    "execution": {
     "iopub.execute_input": "2025-08-19T18:49:52.842190Z",
     "iopub.status.busy": "2025-08-19T18:49:52.841064Z",
     "iopub.status.idle": "2025-08-19T18:50:03.073460Z",
     "shell.execute_reply": "2025-08-19T18:50:03.072038Z"
    },
    "papermill": {
     "duration": 10.24767,
     "end_time": "2025-08-19T18:50:03.075383",
     "exception": false,
     "start_time": "2025-08-19T18:49:52.827713",
     "status": "completed"
    },
    "tags": []
   },
   "outputs": [
    {
     "name": "stdout",
     "output_type": "stream",
     "text": [
      "Loading SIAB data from cache: data/siab_cached.csv.gz\n"
     ]
    },
    {
     "name": "stdout",
     "output_type": "stream",
     "text": [
      "(643690, 164)\n"
     ]
    }
   ],
   "source": [
    "from pathlib import Path\n",
    "import pandas as pd\n",
    "\n",
    "# File paths\n",
    "raw_file = Path(\"data/raw/siab.csv\")\n",
    "cache_file = Path(\"data/siab_cached.csv.gz\")\n",
    "\n",
    "# Ensure cache directory exists\n",
    "cache_file.parent.mkdir(parents=True, exist_ok=True)\n",
    "\n",
    "# Load with simple caching\n",
    "if cache_file.exists():\n",
    "    print(f\"Loading SIAB data from cache: {cache_file}\")\n",
    "    siab = pd.read_csv(cache_file, compression='gzip')\n",
    "else:\n",
    "    print(f\"Cache not found. Reading raw SIAB data: {raw_file}\")\n",
    "    siab = pd.read_csv(raw_file)\n",
    "    siab.to_csv(cache_file, index=False, compression='gzip')\n",
    "    print(f\"Cached SIAB data to: {cache_file}\")\n",
    "\n",
    "print(siab.shape)"
   ]
  },
  {
   "cell_type": "code",
   "execution_count": 10,
   "id": "058d2abb",
   "metadata": {
    "execution": {
     "iopub.execute_input": "2025-08-19T18:50:03.099228Z",
     "iopub.status.busy": "2025-08-19T18:50:03.098495Z",
     "iopub.status.idle": "2025-08-19T18:50:03.229008Z",
     "shell.execute_reply": "2025-08-19T18:50:03.228247Z"
    },
    "papermill": {
     "duration": 0.144348,
     "end_time": "2025-08-19T18:50:03.231765",
     "exception": false,
     "start_time": "2025-08-19T18:50:03.087417",
     "status": "completed"
    },
    "tags": []
   },
   "outputs": [
    {
     "data": {
      "text/html": [
       "<div>\n",
       "<style scoped>\n",
       "    .dataframe tbody tr th:only-of-type {\n",
       "        vertical-align: middle;\n",
       "    }\n",
       "\n",
       "    .dataframe tbody tr th {\n",
       "        vertical-align: top;\n",
       "    }\n",
       "\n",
       "    .dataframe thead th {\n",
       "        text-align: right;\n",
       "    }\n",
       "</style>\n",
       "<table border=\"1\" class=\"dataframe\">\n",
       "  <thead>\n",
       "    <tr style=\"text-align: right;\">\n",
       "      <th></th>\n",
       "      <th>persnr</th>\n",
       "      <th>year</th>\n",
       "      <th>nrEntry</th>\n",
       "      <th>ltue</th>\n",
       "      <th>employed_before</th>\n",
       "      <th>receipt_leh_before</th>\n",
       "      <th>receipt_lhg_before</th>\n",
       "      <th>se_before</th>\n",
       "      <th>ASU_notue_seeking_before</th>\n",
       "      <th>ASU_other_before</th>\n",
       "      <th>...</th>\n",
       "      <th>minijob_tot_dur_byage</th>\n",
       "      <th>ft_tot_dur_byage</th>\n",
       "      <th>befrist_tot_dur_byage</th>\n",
       "      <th>leih_tot_dur_byage</th>\n",
       "      <th>LHG_tot_dur_byage</th>\n",
       "      <th>LEH_tot_dur_byage</th>\n",
       "      <th>almp_tot_dur_byage</th>\n",
       "      <th>almp_aw_tot_dur_byage</th>\n",
       "      <th>se_tot_dur_byage</th>\n",
       "      <th>seeking1_tot_dur_byage</th>\n",
       "    </tr>\n",
       "  </thead>\n",
       "  <tbody>\n",
       "    <tr>\n",
       "      <th>0</th>\n",
       "      <td>7</td>\n",
       "      <td>2015</td>\n",
       "      <td>1</td>\n",
       "      <td>0</td>\n",
       "      <td>1</td>\n",
       "      <td>0</td>\n",
       "      <td>0</td>\n",
       "      <td>0</td>\n",
       "      <td>1</td>\n",
       "      <td>0</td>\n",
       "      <td>...</td>\n",
       "      <td>0.000000</td>\n",
       "      <td>0.000000</td>\n",
       "      <td>15.043478</td>\n",
       "      <td>0.000000</td>\n",
       "      <td>0.000000</td>\n",
       "      <td>0.000000</td>\n",
       "      <td>0.000000</td>\n",
       "      <td>0.000000</td>\n",
       "      <td>0.000000</td>\n",
       "      <td>0.000000</td>\n",
       "    </tr>\n",
       "    <tr>\n",
       "      <th>1</th>\n",
       "      <td>18</td>\n",
       "      <td>2010</td>\n",
       "      <td>1</td>\n",
       "      <td>1</td>\n",
       "      <td>0</td>\n",
       "      <td>0</td>\n",
       "      <td>0</td>\n",
       "      <td>0</td>\n",
       "      <td>0</td>\n",
       "      <td>0</td>\n",
       "      <td>...</td>\n",
       "      <td>0.000000</td>\n",
       "      <td>0.000000</td>\n",
       "      <td>0.000000</td>\n",
       "      <td>0.000000</td>\n",
       "      <td>0.000000</td>\n",
       "      <td>0.000000</td>\n",
       "      <td>0.000000</td>\n",
       "      <td>0.000000</td>\n",
       "      <td>0.000000</td>\n",
       "      <td>0.000000</td>\n",
       "    </tr>\n",
       "    <tr>\n",
       "      <th>2</th>\n",
       "      <td>18</td>\n",
       "      <td>2011</td>\n",
       "      <td>2</td>\n",
       "      <td>0</td>\n",
       "      <td>1</td>\n",
       "      <td>0</td>\n",
       "      <td>1</td>\n",
       "      <td>0</td>\n",
       "      <td>1</td>\n",
       "      <td>0</td>\n",
       "      <td>...</td>\n",
       "      <td>2.714286</td>\n",
       "      <td>2.714286</td>\n",
       "      <td>0.000000</td>\n",
       "      <td>0.000000</td>\n",
       "      <td>10.775510</td>\n",
       "      <td>0.000000</td>\n",
       "      <td>8.367347</td>\n",
       "      <td>0.000000</td>\n",
       "      <td>0.000000</td>\n",
       "      <td>9.836735</td>\n",
       "    </tr>\n",
       "    <tr>\n",
       "      <th>3</th>\n",
       "      <td>18</td>\n",
       "      <td>2012</td>\n",
       "      <td>3</td>\n",
       "      <td>0</td>\n",
       "      <td>1</td>\n",
       "      <td>0</td>\n",
       "      <td>1</td>\n",
       "      <td>0</td>\n",
       "      <td>1</td>\n",
       "      <td>0</td>\n",
       "      <td>...</td>\n",
       "      <td>4.200000</td>\n",
       "      <td>4.200000</td>\n",
       "      <td>0.000000</td>\n",
       "      <td>0.000000</td>\n",
       "      <td>12.100000</td>\n",
       "      <td>0.000000</td>\n",
       "      <td>9.400000</td>\n",
       "      <td>0.000000</td>\n",
       "      <td>0.000000</td>\n",
       "      <td>9.960000</td>\n",
       "    </tr>\n",
       "    <tr>\n",
       "      <th>4</th>\n",
       "      <td>18</td>\n",
       "      <td>2012</td>\n",
       "      <td>4</td>\n",
       "      <td>0</td>\n",
       "      <td>1</td>\n",
       "      <td>0</td>\n",
       "      <td>1</td>\n",
       "      <td>0</td>\n",
       "      <td>1</td>\n",
       "      <td>0</td>\n",
       "      <td>...</td>\n",
       "      <td>5.460000</td>\n",
       "      <td>5.460000</td>\n",
       "      <td>0.000000</td>\n",
       "      <td>0.000000</td>\n",
       "      <td>13.360000</td>\n",
       "      <td>0.000000</td>\n",
       "      <td>10.320000</td>\n",
       "      <td>0.000000</td>\n",
       "      <td>0.000000</td>\n",
       "      <td>10.280000</td>\n",
       "    </tr>\n",
       "    <tr>\n",
       "      <th>...</th>\n",
       "      <td>...</td>\n",
       "      <td>...</td>\n",
       "      <td>...</td>\n",
       "      <td>...</td>\n",
       "      <td>...</td>\n",
       "      <td>...</td>\n",
       "      <td>...</td>\n",
       "      <td>...</td>\n",
       "      <td>...</td>\n",
       "      <td>...</td>\n",
       "      <td>...</td>\n",
       "      <td>...</td>\n",
       "      <td>...</td>\n",
       "      <td>...</td>\n",
       "      <td>...</td>\n",
       "      <td>...</td>\n",
       "      <td>...</td>\n",
       "      <td>...</td>\n",
       "      <td>...</td>\n",
       "      <td>...</td>\n",
       "      <td>...</td>\n",
       "    </tr>\n",
       "    <tr>\n",
       "      <th>643685</th>\n",
       "      <td>1827860</td>\n",
       "      <td>2013</td>\n",
       "      <td>1</td>\n",
       "      <td>0</td>\n",
       "      <td>0</td>\n",
       "      <td>0</td>\n",
       "      <td>1</td>\n",
       "      <td>0</td>\n",
       "      <td>0</td>\n",
       "      <td>1</td>\n",
       "      <td>...</td>\n",
       "      <td>0.000000</td>\n",
       "      <td>0.000000</td>\n",
       "      <td>0.000000</td>\n",
       "      <td>0.000000</td>\n",
       "      <td>0.612903</td>\n",
       "      <td>0.000000</td>\n",
       "      <td>0.000000</td>\n",
       "      <td>0.000000</td>\n",
       "      <td>0.000000</td>\n",
       "      <td>0.000000</td>\n",
       "    </tr>\n",
       "    <tr>\n",
       "      <th>643686</th>\n",
       "      <td>1827860</td>\n",
       "      <td>2015</td>\n",
       "      <td>2</td>\n",
       "      <td>1</td>\n",
       "      <td>0</td>\n",
       "      <td>0</td>\n",
       "      <td>1</td>\n",
       "      <td>0</td>\n",
       "      <td>1</td>\n",
       "      <td>0</td>\n",
       "      <td>...</td>\n",
       "      <td>0.000000</td>\n",
       "      <td>0.000000</td>\n",
       "      <td>0.212121</td>\n",
       "      <td>0.212121</td>\n",
       "      <td>17.363636</td>\n",
       "      <td>0.000000</td>\n",
       "      <td>8.909091</td>\n",
       "      <td>0.000000</td>\n",
       "      <td>0.000000</td>\n",
       "      <td>7.121212</td>\n",
       "    </tr>\n",
       "    <tr>\n",
       "      <th>643687</th>\n",
       "      <td>1827860</td>\n",
       "      <td>2016</td>\n",
       "      <td>3</td>\n",
       "      <td>1</td>\n",
       "      <td>0</td>\n",
       "      <td>0</td>\n",
       "      <td>1</td>\n",
       "      <td>1</td>\n",
       "      <td>0</td>\n",
       "      <td>1</td>\n",
       "      <td>...</td>\n",
       "      <td>0.000000</td>\n",
       "      <td>0.000000</td>\n",
       "      <td>0.294118</td>\n",
       "      <td>0.205882</td>\n",
       "      <td>34.705882</td>\n",
       "      <td>0.000000</td>\n",
       "      <td>10.352941</td>\n",
       "      <td>1.705882</td>\n",
       "      <td>1.705882</td>\n",
       "      <td>23.911765</td>\n",
       "    </tr>\n",
       "    <tr>\n",
       "      <th>643688</th>\n",
       "      <td>1827869</td>\n",
       "      <td>2013</td>\n",
       "      <td>1</td>\n",
       "      <td>1</td>\n",
       "      <td>1</td>\n",
       "      <td>0</td>\n",
       "      <td>0</td>\n",
       "      <td>0</td>\n",
       "      <td>1</td>\n",
       "      <td>0</td>\n",
       "      <td>...</td>\n",
       "      <td>0.000000</td>\n",
       "      <td>0.000000</td>\n",
       "      <td>0.000000</td>\n",
       "      <td>0.000000</td>\n",
       "      <td>0.000000</td>\n",
       "      <td>0.525424</td>\n",
       "      <td>0.000000</td>\n",
       "      <td>0.000000</td>\n",
       "      <td>0.000000</td>\n",
       "      <td>0.000000</td>\n",
       "    </tr>\n",
       "    <tr>\n",
       "      <th>643689</th>\n",
       "      <td>1827869</td>\n",
       "      <td>2014</td>\n",
       "      <td>2</td>\n",
       "      <td>0</td>\n",
       "      <td>0</td>\n",
       "      <td>1</td>\n",
       "      <td>0</td>\n",
       "      <td>0</td>\n",
       "      <td>1</td>\n",
       "      <td>0</td>\n",
       "      <td>...</td>\n",
       "      <td>0.000000</td>\n",
       "      <td>0.666667</td>\n",
       "      <td>0.666667</td>\n",
       "      <td>0.000000</td>\n",
       "      <td>0.000000</td>\n",
       "      <td>8.950000</td>\n",
       "      <td>1.033333</td>\n",
       "      <td>0.083333</td>\n",
       "      <td>0.083333</td>\n",
       "      <td>8.133333</td>\n",
       "    </tr>\n",
       "  </tbody>\n",
       "</table>\n",
       "<p>643690 rows × 164 columns</p>\n",
       "</div>"
      ],
      "text/plain": [
       "         persnr  year  nrEntry  ltue  employed_before  receipt_leh_before  \\\n",
       "0             7  2015        1     0                1                   0   \n",
       "1            18  2010        1     1                0                   0   \n",
       "2            18  2011        2     0                1                   0   \n",
       "3            18  2012        3     0                1                   0   \n",
       "4            18  2012        4     0                1                   0   \n",
       "...         ...   ...      ...   ...              ...                 ...   \n",
       "643685  1827860  2013        1     0                0                   0   \n",
       "643686  1827860  2015        2     1                0                   0   \n",
       "643687  1827860  2016        3     1                0                   0   \n",
       "643688  1827869  2013        1     1                1                   0   \n",
       "643689  1827869  2014        2     0                0                   1   \n",
       "\n",
       "        receipt_lhg_before  se_before  ASU_notue_seeking_before  \\\n",
       "0                        0          0                         1   \n",
       "1                        0          0                         0   \n",
       "2                        1          0                         1   \n",
       "3                        1          0                         1   \n",
       "4                        1          0                         1   \n",
       "...                    ...        ...                       ...   \n",
       "643685                   1          0                         0   \n",
       "643686                   1          0                         1   \n",
       "643687                   1          1                         0   \n",
       "643688                   0          0                         1   \n",
       "643689                   0          0                         1   \n",
       "\n",
       "        ASU_other_before  ...  minijob_tot_dur_byage  ft_tot_dur_byage  \\\n",
       "0                      0  ...               0.000000          0.000000   \n",
       "1                      0  ...               0.000000          0.000000   \n",
       "2                      0  ...               2.714286          2.714286   \n",
       "3                      0  ...               4.200000          4.200000   \n",
       "4                      0  ...               5.460000          5.460000   \n",
       "...                  ...  ...                    ...               ...   \n",
       "643685                 1  ...               0.000000          0.000000   \n",
       "643686                 0  ...               0.000000          0.000000   \n",
       "643687                 1  ...               0.000000          0.000000   \n",
       "643688                 0  ...               0.000000          0.000000   \n",
       "643689                 0  ...               0.000000          0.666667   \n",
       "\n",
       "        befrist_tot_dur_byage  leih_tot_dur_byage  LHG_tot_dur_byage  \\\n",
       "0                   15.043478            0.000000           0.000000   \n",
       "1                    0.000000            0.000000           0.000000   \n",
       "2                    0.000000            0.000000          10.775510   \n",
       "3                    0.000000            0.000000          12.100000   \n",
       "4                    0.000000            0.000000          13.360000   \n",
       "...                       ...                 ...                ...   \n",
       "643685               0.000000            0.000000           0.612903   \n",
       "643686               0.212121            0.212121          17.363636   \n",
       "643687               0.294118            0.205882          34.705882   \n",
       "643688               0.000000            0.000000           0.000000   \n",
       "643689               0.666667            0.000000           0.000000   \n",
       "\n",
       "        LEH_tot_dur_byage  almp_tot_dur_byage  almp_aw_tot_dur_byage  \\\n",
       "0                0.000000            0.000000               0.000000   \n",
       "1                0.000000            0.000000               0.000000   \n",
       "2                0.000000            8.367347               0.000000   \n",
       "3                0.000000            9.400000               0.000000   \n",
       "4                0.000000           10.320000               0.000000   \n",
       "...                   ...                 ...                    ...   \n",
       "643685           0.000000            0.000000               0.000000   \n",
       "643686           0.000000            8.909091               0.000000   \n",
       "643687           0.000000           10.352941               1.705882   \n",
       "643688           0.525424            0.000000               0.000000   \n",
       "643689           8.950000            1.033333               0.083333   \n",
       "\n",
       "        se_tot_dur_byage  seeking1_tot_dur_byage  \n",
       "0               0.000000                0.000000  \n",
       "1               0.000000                0.000000  \n",
       "2               0.000000                9.836735  \n",
       "3               0.000000                9.960000  \n",
       "4               0.000000               10.280000  \n",
       "...                  ...                     ...  \n",
       "643685          0.000000                0.000000  \n",
       "643686          0.000000                7.121212  \n",
       "643687          1.705882               23.911765  \n",
       "643688          0.000000                0.000000  \n",
       "643689          0.083333                8.133333  \n",
       "\n",
       "[643690 rows x 164 columns]"
      ]
     },
     "execution_count": 10,
     "metadata": {},
     "output_type": "execute_result"
    }
   ],
   "source": [
    "siab"
   ]
  },
  {
   "cell_type": "markdown",
   "id": "1f87e805",
   "metadata": {
    "papermill": {
     "duration": 0.011988,
     "end_time": "2025-08-19T18:50:03.266418",
     "exception": false,
     "start_time": "2025-08-19T18:50:03.254430",
     "status": "completed"
    },
    "tags": []
   },
   "source": [
    "# Splitting Data and Setting Training Data Size"
   ]
  },
  {
   "cell_type": "code",
   "execution_count": 11,
   "id": "910ae358",
   "metadata": {
    "execution": {
     "iopub.execute_input": "2025-08-19T18:50:03.298131Z",
     "iopub.status.busy": "2025-08-19T18:50:03.297806Z",
     "iopub.status.idle": "2025-08-19T18:50:03.688228Z",
     "shell.execute_reply": "2025-08-19T18:50:03.687444Z"
    },
    "papermill": {
     "duration": 0.413604,
     "end_time": "2025-08-19T18:50:03.689604",
     "exception": false,
     "start_time": "2025-08-19T18:50:03.276000",
     "status": "completed"
    },
    "tags": []
   },
   "outputs": [],
   "source": [
    "from fairness_multiverse.universe import sample_by_year_size\n",
    "\n",
    "siab_train = sample_by_year_size(siab,\n",
    "                               training_year=universe[\"training_year\"],\n",
    "                               training_size=universe[\"training_size\"])"
   ]
  },
  {
   "cell_type": "code",
   "execution_count": 12,
   "id": "919c8ff5",
   "metadata": {
    "execution": {
     "iopub.execute_input": "2025-08-19T18:50:03.724882Z",
     "iopub.status.busy": "2025-08-19T18:50:03.723746Z",
     "iopub.status.idle": "2025-08-19T18:50:03.735868Z",
     "shell.execute_reply": "2025-08-19T18:50:03.734224Z"
    },
    "papermill": {
     "duration": 0.035162,
     "end_time": "2025-08-19T18:50:03.737233",
     "exception": false,
     "start_time": "2025-08-19T18:50:03.702071",
     "status": "completed"
    },
    "tags": []
   },
   "outputs": [
    {
     "data": {
      "text/plain": [
       "(1000, 164)"
      ]
     },
     "execution_count": 12,
     "metadata": {},
     "output_type": "execute_result"
    }
   ],
   "source": [
    "siab_train.shape"
   ]
  },
  {
   "cell_type": "code",
   "execution_count": 13,
   "id": "feb13bf4",
   "metadata": {
    "execution": {
     "iopub.execute_input": "2025-08-19T18:50:03.761060Z",
     "iopub.status.busy": "2025-08-19T18:50:03.759493Z",
     "iopub.status.idle": "2025-08-19T18:50:03.775744Z",
     "shell.execute_reply": "2025-08-19T18:50:03.774233Z"
    },
    "papermill": {
     "duration": 0.029346,
     "end_time": "2025-08-19T18:50:03.777386",
     "exception": false,
     "start_time": "2025-08-19T18:50:03.748040",
     "status": "completed"
    },
    "tags": []
   },
   "outputs": [
    {
     "data": {
      "text/plain": [
       "year\n",
       "2014    1000\n",
       "dtype: int64"
      ]
     },
     "metadata": {},
     "output_type": "display_data"
    }
   ],
   "source": [
    "display(siab_train.groupby(\"year\").size())"
   ]
  },
  {
   "cell_type": "code",
   "execution_count": 14,
   "id": "0997782f",
   "metadata": {
    "execution": {
     "iopub.execute_input": "2025-08-19T18:50:03.807282Z",
     "iopub.status.busy": "2025-08-19T18:50:03.806103Z",
     "iopub.status.idle": "2025-08-19T18:50:04.101734Z",
     "shell.execute_reply": "2025-08-19T18:50:04.100914Z"
    },
    "papermill": {
     "duration": 0.310247,
     "end_time": "2025-08-19T18:50:04.103472",
     "exception": false,
     "start_time": "2025-08-19T18:50:03.793225",
     "status": "completed"
    },
    "tags": []
   },
   "outputs": [],
   "source": [
    "#siab_train = siab_s[siab_s.year < 2015]\n",
    "siab_calib = siab[siab.year == 2015]\n",
    "siab_test = siab[siab.year == 2016]"
   ]
  },
  {
   "cell_type": "code",
   "execution_count": 15,
   "id": "2c1e4012",
   "metadata": {
    "execution": {
     "iopub.execute_input": "2025-08-19T18:50:04.126012Z",
     "iopub.status.busy": "2025-08-19T18:50:04.125373Z",
     "iopub.status.idle": "2025-08-19T18:50:04.131207Z",
     "shell.execute_reply": "2025-08-19T18:50:04.130263Z"
    },
    "papermill": {
     "duration": 0.029886,
     "end_time": "2025-08-19T18:50:04.143762",
     "exception": false,
     "start_time": "2025-08-19T18:50:04.113876",
     "status": "completed"
    },
    "tags": []
   },
   "outputs": [],
   "source": [
    "#siab_calib.shape"
   ]
  },
  {
   "cell_type": "code",
   "execution_count": 16,
   "id": "f66b54ca",
   "metadata": {
    "execution": {
     "iopub.execute_input": "2025-08-19T18:50:04.173713Z",
     "iopub.status.busy": "2025-08-19T18:50:04.172758Z",
     "iopub.status.idle": "2025-08-19T18:50:04.179688Z",
     "shell.execute_reply": "2025-08-19T18:50:04.178415Z"
    },
    "papermill": {
     "duration": 0.020596,
     "end_time": "2025-08-19T18:50:04.181383",
     "exception": false,
     "start_time": "2025-08-19T18:50:04.160787",
     "status": "completed"
    },
    "tags": []
   },
   "outputs": [],
   "source": [
    "#siab_test.shape"
   ]
  },
  {
   "cell_type": "code",
   "execution_count": 17,
   "id": "27e4384d",
   "metadata": {
    "execution": {
     "iopub.execute_input": "2025-08-19T18:50:04.205982Z",
     "iopub.status.busy": "2025-08-19T18:50:04.205089Z",
     "iopub.status.idle": "2025-08-19T18:50:04.223818Z",
     "shell.execute_reply": "2025-08-19T18:50:04.222468Z"
    },
    "papermill": {
     "duration": 0.031839,
     "end_time": "2025-08-19T18:50:04.225790",
     "exception": false,
     "start_time": "2025-08-19T18:50:04.193951",
     "status": "completed"
    },
    "tags": []
   },
   "outputs": [],
   "source": [
    "X_train = siab_train.iloc[:,4:164]\n",
    "y_train = siab_train.iloc[:, [3]]"
   ]
  },
  {
   "cell_type": "code",
   "execution_count": 18,
   "id": "08ee8389",
   "metadata": {
    "execution": {
     "iopub.execute_input": "2025-08-19T18:50:04.253805Z",
     "iopub.status.busy": "2025-08-19T18:50:04.252785Z",
     "iopub.status.idle": "2025-08-19T18:50:04.321543Z",
     "shell.execute_reply": "2025-08-19T18:50:04.320344Z"
    },
    "papermill": {
     "duration": 0.084116,
     "end_time": "2025-08-19T18:50:04.324652",
     "exception": false,
     "start_time": "2025-08-19T18:50:04.240536",
     "status": "completed"
    },
    "tags": []
   },
   "outputs": [],
   "source": [
    "X_calib = siab_calib.iloc[:,4:164]\n",
    "y_calib = siab_calib.iloc[:, [3]]"
   ]
  },
  {
   "cell_type": "code",
   "execution_count": 19,
   "id": "b7ff42e0",
   "metadata": {
    "execution": {
     "iopub.execute_input": "2025-08-19T18:50:04.379288Z",
     "iopub.status.busy": "2025-08-19T18:50:04.378284Z",
     "iopub.status.idle": "2025-08-19T18:50:04.479453Z",
     "shell.execute_reply": "2025-08-19T18:50:04.477699Z"
    },
    "papermill": {
     "duration": 0.129568,
     "end_time": "2025-08-19T18:50:04.481393",
     "exception": false,
     "start_time": "2025-08-19T18:50:04.351825",
     "status": "completed"
    },
    "tags": []
   },
   "outputs": [],
   "source": [
    "X_test = siab_test.iloc[:,4:164]\n",
    "y_true = siab_test.iloc[:, [3]]"
   ]
  },
  {
   "cell_type": "code",
   "execution_count": 20,
   "id": "0275101e",
   "metadata": {
    "execution": {
     "iopub.execute_input": "2025-08-19T18:50:04.504104Z",
     "iopub.status.busy": "2025-08-19T18:50:04.503739Z",
     "iopub.status.idle": "2025-08-19T18:50:04.649674Z",
     "shell.execute_reply": "2025-08-19T18:50:04.648568Z"
    },
    "papermill": {
     "duration": 0.158857,
     "end_time": "2025-08-19T18:50:04.652018",
     "exception": false,
     "start_time": "2025-08-19T18:50:04.493161",
     "status": "completed"
    },
    "tags": []
   },
   "outputs": [],
   "source": [
    "# Auxiliary data needed downstream in the pipeline\n",
    "\n",
    "org_train = X_train.copy()\n",
    "org_test = X_test.copy()\n",
    "org_calib = X_calib.copy()"
   ]
  },
  {
   "cell_type": "markdown",
   "id": "b461e618",
   "metadata": {
    "papermill": {
     "duration": 0.009998,
     "end_time": "2025-08-19T18:50:04.672624",
     "exception": false,
     "start_time": "2025-08-19T18:50:04.662626",
     "status": "completed"
    },
    "tags": []
   },
   "source": [
    "# Preprocessing Data"
   ]
  },
  {
   "cell_type": "code",
   "execution_count": 21,
   "id": "78e74c4b",
   "metadata": {
    "execution": {
     "iopub.execute_input": "2025-08-19T18:50:04.693505Z",
     "iopub.status.busy": "2025-08-19T18:50:04.693244Z",
     "iopub.status.idle": "2025-08-19T18:50:04.699428Z",
     "shell.execute_reply": "2025-08-19T18:50:04.698465Z"
    },
    "papermill": {
     "duration": 0.019617,
     "end_time": "2025-08-19T18:50:04.702068",
     "exception": false,
     "start_time": "2025-08-19T18:50:04.682451",
     "status": "completed"
    },
    "tags": []
   },
   "outputs": [],
   "source": [
    "# EXCLUDE PROTECTED FEATURES\n",
    "# --------------------------\n",
    "\n",
    "excluded_features = universe[\"exclude_features\"].split(\"-\")\n",
    "excluded_features_dictionary = {\n",
    "    \"nationality\": [\"maxdeutsch1\", \"maxdeutsch.Missing.\"],\n",
    "    \"sex\": [\"frau1\"],\n",
    "    \"age\": [\"age\"],\n",
    "}"
   ]
  },
  {
   "cell_type": "code",
   "execution_count": 22,
   "id": "f8e63555",
   "metadata": {
    "execution": {
     "iopub.execute_input": "2025-08-19T18:50:04.738515Z",
     "iopub.status.busy": "2025-08-19T18:50:04.737316Z",
     "iopub.status.idle": "2025-08-19T18:50:04.771623Z",
     "shell.execute_reply": "2025-08-19T18:50:04.769969Z"
    },
    "papermill": {
     "duration": 0.049746,
     "end_time": "2025-08-19T18:50:04.773522",
     "exception": false,
     "start_time": "2025-08-19T18:50:04.723776",
     "status": "completed"
    },
    "tags": []
   },
   "outputs": [],
   "source": [
    "excluded_features_columns = [\n",
    "    excluded_features_dictionary[f] for f in excluded_features if len(f) > 0 and f != \"none\"\n",
    "]"
   ]
  },
  {
   "cell_type": "code",
   "execution_count": 23,
   "id": "da781f7c",
   "metadata": {
    "execution": {
     "iopub.execute_input": "2025-08-19T18:50:04.808087Z",
     "iopub.status.busy": "2025-08-19T18:50:04.807059Z",
     "iopub.status.idle": "2025-08-19T18:50:04.845462Z",
     "shell.execute_reply": "2025-08-19T18:50:04.843795Z"
    },
    "papermill": {
     "duration": 0.056943,
     "end_time": "2025-08-19T18:50:04.848413",
     "exception": false,
     "start_time": "2025-08-19T18:50:04.791470",
     "status": "completed"
    },
    "tags": []
   },
   "outputs": [],
   "source": [
    "from fairness_multiverse.universe import flatten_once\n",
    "\n",
    "excluded_features_columns = flatten_once(excluded_features_columns)"
   ]
  },
  {
   "cell_type": "code",
   "execution_count": 24,
   "id": "37fef0f0",
   "metadata": {
    "execution": {
     "iopub.execute_input": "2025-08-19T18:50:04.886569Z",
     "iopub.status.busy": "2025-08-19T18:50:04.885867Z",
     "iopub.status.idle": "2025-08-19T18:50:04.905165Z",
     "shell.execute_reply": "2025-08-19T18:50:04.903498Z"
    },
    "papermill": {
     "duration": 0.034563,
     "end_time": "2025-08-19T18:50:04.906875",
     "exception": false,
     "start_time": "2025-08-19T18:50:04.872312",
     "status": "completed"
    },
    "tags": []
   },
   "outputs": [
    {
     "name": "stdout",
     "output_type": "stream",
     "text": [
      "Dropping features: ['maxdeutsch1', 'maxdeutsch.Missing.', 'frau1']\n"
     ]
    }
   ],
   "source": [
    "if len(excluded_features_columns) > 0:\n",
    "    print(f\"Dropping features: {excluded_features_columns}\")\n",
    "    X_train.drop(excluded_features_columns, axis=1, inplace=True)"
   ]
  },
  {
   "cell_type": "code",
   "execution_count": 25,
   "id": "d029e3e9",
   "metadata": {
    "execution": {
     "iopub.execute_input": "2025-08-19T18:50:04.938173Z",
     "iopub.status.busy": "2025-08-19T18:50:04.937185Z",
     "iopub.status.idle": "2025-08-19T18:50:05.841571Z",
     "shell.execute_reply": "2025-08-19T18:50:05.840891Z"
    },
    "papermill": {
     "duration": 0.91924,
     "end_time": "2025-08-19T18:50:05.842907",
     "exception": false,
     "start_time": "2025-08-19T18:50:04.923667",
     "status": "completed"
    },
    "tags": []
   },
   "outputs": [
    {
     "name": "stdout",
     "output_type": "stream",
     "text": [
      "Dropping features: ['maxdeutsch1', 'maxdeutsch.Missing.', 'frau1']\n"
     ]
    }
   ],
   "source": [
    "if len(excluded_features_columns) > 0:\n",
    "    print(f\"Dropping features: {excluded_features_columns}\")\n",
    "    X_test.drop(excluded_features_columns, axis=1, inplace=True)"
   ]
  },
  {
   "cell_type": "code",
   "execution_count": 26,
   "id": "01d571f0",
   "metadata": {
    "execution": {
     "iopub.execute_input": "2025-08-19T18:50:05.884222Z",
     "iopub.status.busy": "2025-08-19T18:50:05.883202Z",
     "iopub.status.idle": "2025-08-19T18:50:06.114256Z",
     "shell.execute_reply": "2025-08-19T18:50:06.113669Z"
    },
    "papermill": {
     "duration": 0.259049,
     "end_time": "2025-08-19T18:50:06.115416",
     "exception": false,
     "start_time": "2025-08-19T18:50:05.856367",
     "status": "completed"
    },
    "tags": []
   },
   "outputs": [
    {
     "name": "stdout",
     "output_type": "stream",
     "text": [
      "Dropping features: ['maxdeutsch1', 'maxdeutsch.Missing.', 'frau1']\n"
     ]
    }
   ],
   "source": [
    "if len(excluded_features_columns) > 0:\n",
    "    print(f\"Dropping features: {excluded_features_columns}\")\n",
    "    X_calib.drop(excluded_features_columns, axis=1, inplace=True)"
   ]
  },
  {
   "cell_type": "code",
   "execution_count": 27,
   "id": "3037356e",
   "metadata": {
    "execution": {
     "iopub.execute_input": "2025-08-19T18:50:06.141602Z",
     "iopub.status.busy": "2025-08-19T18:50:06.140713Z",
     "iopub.status.idle": "2025-08-19T18:50:06.148222Z",
     "shell.execute_reply": "2025-08-19T18:50:06.146833Z"
    },
    "papermill": {
     "duration": 0.022228,
     "end_time": "2025-08-19T18:50:06.149852",
     "exception": false,
     "start_time": "2025-08-19T18:50:06.127624",
     "status": "completed"
    },
    "tags": []
   },
   "outputs": [],
   "source": [
    "# EXCLUDE CERTAIN SUBGROUPS\n",
    "# -------------------------\n",
    "\n",
    "mode = universe.get(\"exclude_subgroups\", \"keep-all\") # Defaults to \"keep-all\" if the key is missing."
   ]
  },
  {
   "cell_type": "code",
   "execution_count": 28,
   "id": "9d1e63fd",
   "metadata": {
    "execution": {
     "iopub.execute_input": "2025-08-19T18:50:06.177788Z",
     "iopub.status.busy": "2025-08-19T18:50:06.176658Z",
     "iopub.status.idle": "2025-08-19T18:50:06.194214Z",
     "shell.execute_reply": "2025-08-19T18:50:06.192650Z"
    },
    "papermill": {
     "duration": 0.03595,
     "end_time": "2025-08-19T18:50:06.199789",
     "exception": false,
     "start_time": "2025-08-19T18:50:06.163839",
     "status": "completed"
    },
    "tags": []
   },
   "outputs": [],
   "source": [
    "if mode == \"keep-all\":\n",
    "    keep_mask = pd.Series(True, index=org_train.index)\n",
    "\n",
    "elif mode == \"drop-non-german\":\n",
    "    keep_mask = (org_train[\"maxdeutsch1\"] == 1) & (org_train[\"maxdeutsch.Missing.\"] == 0)\n",
    "\n",
    "else:\n",
    "    raise ValueError(f\"Unsupported mode for exclude_subgroups: {mode}\")"
   ]
  },
  {
   "cell_type": "code",
   "execution_count": 29,
   "id": "d3b65474",
   "metadata": {
    "execution": {
     "iopub.execute_input": "2025-08-19T18:50:06.233656Z",
     "iopub.status.busy": "2025-08-19T18:50:06.233379Z",
     "iopub.status.idle": "2025-08-19T18:50:06.240109Z",
     "shell.execute_reply": "2025-08-19T18:50:06.239317Z"
    },
    "papermill": {
     "duration": 0.02068,
     "end_time": "2025-08-19T18:50:06.241499",
     "exception": false,
     "start_time": "2025-08-19T18:50:06.220819",
     "status": "completed"
    },
    "tags": []
   },
   "outputs": [
    {
     "name": "stdout",
     "output_type": "stream",
     "text": [
      "Dropping 147 rows (14.70%) where mode='drop-non-german'\n"
     ]
    }
   ],
   "source": [
    "n_drop = (~keep_mask).sum() # Calculates how many rows are set to be dropped\n",
    "if n_drop > 0:\n",
    "    pct = n_drop / len(keep_mask) * 100\n",
    "    print(f\"Dropping {n_drop} rows ({pct:.2f}%) where mode='{mode}'\")"
   ]
  },
  {
   "cell_type": "code",
   "execution_count": 30,
   "id": "f44389b3",
   "metadata": {
    "execution": {
     "iopub.execute_input": "2025-08-19T18:50:06.263748Z",
     "iopub.status.busy": "2025-08-19T18:50:06.263351Z",
     "iopub.status.idle": "2025-08-19T18:50:06.375418Z",
     "shell.execute_reply": "2025-08-19T18:50:06.373990Z"
    },
    "papermill": {
     "duration": 0.127727,
     "end_time": "2025-08-19T18:50:06.379743",
     "exception": false,
     "start_time": "2025-08-19T18:50:06.252016",
     "status": "completed"
    },
    "tags": []
   },
   "outputs": [],
   "source": [
    "X_train = X_train[keep_mask]"
   ]
  },
  {
   "cell_type": "code",
   "execution_count": 31,
   "id": "ceca8c2a",
   "metadata": {
    "execution": {
     "iopub.execute_input": "2025-08-19T18:50:06.422315Z",
     "iopub.status.busy": "2025-08-19T18:50:06.422011Z",
     "iopub.status.idle": "2025-08-19T18:50:06.427876Z",
     "shell.execute_reply": "2025-08-19T18:50:06.427082Z"
    },
    "papermill": {
     "duration": 0.021232,
     "end_time": "2025-08-19T18:50:06.429385",
     "exception": false,
     "start_time": "2025-08-19T18:50:06.408153",
     "status": "completed"
    },
    "tags": []
   },
   "outputs": [],
   "source": [
    "y_train = y_train[keep_mask]"
   ]
  },
  {
   "cell_type": "markdown",
   "id": "04d31e2f",
   "metadata": {
    "papermill": {
     "duration": 0.010591,
     "end_time": "2025-08-19T18:50:06.450480",
     "exception": false,
     "start_time": "2025-08-19T18:50:06.439889",
     "status": "completed"
    },
    "tags": []
   },
   "source": [
    "# Model Training"
   ]
  },
  {
   "cell_type": "code",
   "execution_count": 32,
   "id": "db991733",
   "metadata": {
    "execution": {
     "iopub.execute_input": "2025-08-19T18:50:06.472698Z",
     "iopub.status.busy": "2025-08-19T18:50:06.472371Z",
     "iopub.status.idle": "2025-08-19T18:50:06.571770Z",
     "shell.execute_reply": "2025-08-19T18:50:06.570378Z"
    },
    "papermill": {
     "duration": 0.112626,
     "end_time": "2025-08-19T18:50:06.573632",
     "exception": false,
     "start_time": "2025-08-19T18:50:06.461006",
     "status": "completed"
    },
    "tags": []
   },
   "outputs": [],
   "source": [
    "from sklearn.linear_model import LogisticRegression\n",
    "from sklearn.ensemble import GradientBoostingClassifier, RandomForestClassifier\n",
    "\n",
    "if (universe[\"model\"] == \"logreg\"):\n",
    "    model = LogisticRegression() #penalty=\"none\", solver=\"newton-cg\", max_iter=1)\n",
    "elif (universe[\"model\"] == \"penalized_logreg\"):\n",
    "    model = LogisticRegression(penalty=\"l2\", C=0.1) #, solver=\"newton-cg\", max_iter=1)\n",
    "elif (universe[\"model\"] == \"rf\"):\n",
    "    model = RandomForestClassifier() # n_estimators=100, n_jobs=-1\n",
    "elif (universe[\"model\"] == \"gbm\"):\n",
    "    model = GradientBoostingClassifier()\n",
    "elif (universe[\"model\"] == \"elasticnet\"):\n",
    "    model = LogisticRegression(penalty = 'elasticnet', solver = 'saga', l1_ratio = 0.5) # max_iter=5000\n",
    "else:\n",
    "    raise \"Unsupported universe.model\""
   ]
  },
  {
   "cell_type": "code",
   "execution_count": 33,
   "id": "a4b5cd25",
   "metadata": {
    "execution": {
     "iopub.execute_input": "2025-08-19T18:50:06.615348Z",
     "iopub.status.busy": "2025-08-19T18:50:06.614358Z",
     "iopub.status.idle": "2025-08-19T18:50:06.810578Z",
     "shell.execute_reply": "2025-08-19T18:50:06.808546Z"
    },
    "papermill": {
     "duration": 0.214707,
     "end_time": "2025-08-19T18:50:06.814383",
     "exception": false,
     "start_time": "2025-08-19T18:50:06.599676",
     "status": "completed"
    },
    "tags": []
   },
   "outputs": [],
   "source": [
    "from sklearn.pipeline import Pipeline\n",
    "from sklearn.preprocessing import StandardScaler\n",
    "\n",
    "model = Pipeline([\n",
    "    #(\"continuous_processor\", continuous_processor),\n",
    "    #(\"categorical_preprocessor\", categorical_preprocessor),\n",
    "    (\"scale\", StandardScaler() if universe[\"scale\"] == \"scale\" else None), \n",
    "    (\"model\", model),\n",
    "])"
   ]
  },
  {
   "cell_type": "code",
   "execution_count": 34,
   "id": "283a904d",
   "metadata": {
    "execution": {
     "iopub.execute_input": "2025-08-19T18:50:06.858476Z",
     "iopub.status.busy": "2025-08-19T18:50:06.857220Z",
     "iopub.status.idle": "2025-08-19T18:50:06.927641Z",
     "shell.execute_reply": "2025-08-19T18:50:06.926639Z"
    },
    "papermill": {
     "duration": 0.088997,
     "end_time": "2025-08-19T18:50:06.931309",
     "exception": false,
     "start_time": "2025-08-19T18:50:06.842312",
     "status": "completed"
    },
    "tags": []
   },
   "outputs": [
    {
     "data": {
      "text/html": [
       "<style>#sk-container-id-1 {color: black;background-color: white;}#sk-container-id-1 pre{padding: 0;}#sk-container-id-1 div.sk-toggleable {background-color: white;}#sk-container-id-1 label.sk-toggleable__label {cursor: pointer;display: block;width: 100%;margin-bottom: 0;padding: 0.3em;box-sizing: border-box;text-align: center;}#sk-container-id-1 label.sk-toggleable__label-arrow:before {content: \"▸\";float: left;margin-right: 0.25em;color: #696969;}#sk-container-id-1 label.sk-toggleable__label-arrow:hover:before {color: black;}#sk-container-id-1 div.sk-estimator:hover label.sk-toggleable__label-arrow:before {color: black;}#sk-container-id-1 div.sk-toggleable__content {max-height: 0;max-width: 0;overflow: hidden;text-align: left;background-color: #f0f8ff;}#sk-container-id-1 div.sk-toggleable__content pre {margin: 0.2em;color: black;border-radius: 0.25em;background-color: #f0f8ff;}#sk-container-id-1 input.sk-toggleable__control:checked~div.sk-toggleable__content {max-height: 200px;max-width: 100%;overflow: auto;}#sk-container-id-1 input.sk-toggleable__control:checked~label.sk-toggleable__label-arrow:before {content: \"▾\";}#sk-container-id-1 div.sk-estimator input.sk-toggleable__control:checked~label.sk-toggleable__label {background-color: #d4ebff;}#sk-container-id-1 div.sk-label input.sk-toggleable__control:checked~label.sk-toggleable__label {background-color: #d4ebff;}#sk-container-id-1 input.sk-hidden--visually {border: 0;clip: rect(1px 1px 1px 1px);clip: rect(1px, 1px, 1px, 1px);height: 1px;margin: -1px;overflow: hidden;padding: 0;position: absolute;width: 1px;}#sk-container-id-1 div.sk-estimator {font-family: monospace;background-color: #f0f8ff;border: 1px dotted black;border-radius: 0.25em;box-sizing: border-box;margin-bottom: 0.5em;}#sk-container-id-1 div.sk-estimator:hover {background-color: #d4ebff;}#sk-container-id-1 div.sk-parallel-item::after {content: \"\";width: 100%;border-bottom: 1px solid gray;flex-grow: 1;}#sk-container-id-1 div.sk-label:hover label.sk-toggleable__label {background-color: #d4ebff;}#sk-container-id-1 div.sk-serial::before {content: \"\";position: absolute;border-left: 1px solid gray;box-sizing: border-box;top: 0;bottom: 0;left: 50%;z-index: 0;}#sk-container-id-1 div.sk-serial {display: flex;flex-direction: column;align-items: center;background-color: white;padding-right: 0.2em;padding-left: 0.2em;position: relative;}#sk-container-id-1 div.sk-item {position: relative;z-index: 1;}#sk-container-id-1 div.sk-parallel {display: flex;align-items: stretch;justify-content: center;background-color: white;position: relative;}#sk-container-id-1 div.sk-item::before, #sk-container-id-1 div.sk-parallel-item::before {content: \"\";position: absolute;border-left: 1px solid gray;box-sizing: border-box;top: 0;bottom: 0;left: 50%;z-index: -1;}#sk-container-id-1 div.sk-parallel-item {display: flex;flex-direction: column;z-index: 1;position: relative;background-color: white;}#sk-container-id-1 div.sk-parallel-item:first-child::after {align-self: flex-end;width: 50%;}#sk-container-id-1 div.sk-parallel-item:last-child::after {align-self: flex-start;width: 50%;}#sk-container-id-1 div.sk-parallel-item:only-child::after {width: 0;}#sk-container-id-1 div.sk-dashed-wrapped {border: 1px dashed gray;margin: 0 0.4em 0.5em 0.4em;box-sizing: border-box;padding-bottom: 0.4em;background-color: white;}#sk-container-id-1 div.sk-label label {font-family: monospace;font-weight: bold;display: inline-block;line-height: 1.2em;}#sk-container-id-1 div.sk-label-container {text-align: center;}#sk-container-id-1 div.sk-container {/* jupyter's `normalize.less` sets `[hidden] { display: none; }` but bootstrap.min.css set `[hidden] { display: none !important; }` so we also need the `!important` here to be able to override the default hidden behavior on the sphinx rendered scikit-learn.org. See: https://github.com/scikit-learn/scikit-learn/issues/21755 */display: inline-block !important;position: relative;}#sk-container-id-1 div.sk-text-repr-fallback {display: none;}</style><div id=\"sk-container-id-1\" class=\"sk-top-container\"><div class=\"sk-text-repr-fallback\"><pre>Pipeline(steps=[(&#x27;scale&#x27;, StandardScaler()),\n",
       "                (&#x27;model&#x27;, LogisticRegression(C=0.1))])</pre><b>In a Jupyter environment, please rerun this cell to show the HTML representation or trust the notebook. <br />On GitHub, the HTML representation is unable to render, please try loading this page with nbviewer.org.</b></div><div class=\"sk-container\" hidden><div class=\"sk-item sk-dashed-wrapped\"><div class=\"sk-label-container\"><div class=\"sk-label sk-toggleable\"><input class=\"sk-toggleable__control sk-hidden--visually\" id=\"sk-estimator-id-1\" type=\"checkbox\" ><label for=\"sk-estimator-id-1\" class=\"sk-toggleable__label sk-toggleable__label-arrow\">Pipeline</label><div class=\"sk-toggleable__content\"><pre>Pipeline(steps=[(&#x27;scale&#x27;, StandardScaler()),\n",
       "                (&#x27;model&#x27;, LogisticRegression(C=0.1))])</pre></div></div></div><div class=\"sk-serial\"><div class=\"sk-item\"><div class=\"sk-estimator sk-toggleable\"><input class=\"sk-toggleable__control sk-hidden--visually\" id=\"sk-estimator-id-2\" type=\"checkbox\" ><label for=\"sk-estimator-id-2\" class=\"sk-toggleable__label sk-toggleable__label-arrow\">StandardScaler</label><div class=\"sk-toggleable__content\"><pre>StandardScaler()</pre></div></div></div><div class=\"sk-item\"><div class=\"sk-estimator sk-toggleable\"><input class=\"sk-toggleable__control sk-hidden--visually\" id=\"sk-estimator-id-3\" type=\"checkbox\" ><label for=\"sk-estimator-id-3\" class=\"sk-toggleable__label sk-toggleable__label-arrow\">LogisticRegression</label><div class=\"sk-toggleable__content\"><pre>LogisticRegression(C=0.1)</pre></div></div></div></div></div></div></div>"
      ],
      "text/plain": [
       "Pipeline(steps=[('scale', StandardScaler()),\n",
       "                ('model', LogisticRegression(C=0.1))])"
      ]
     },
     "execution_count": 34,
     "metadata": {},
     "output_type": "execute_result"
    }
   ],
   "source": [
    "model.fit(X_train, y_train.values.ravel())"
   ]
  },
  {
   "cell_type": "code",
   "execution_count": 35,
   "id": "6e15e313",
   "metadata": {
    "execution": {
     "iopub.execute_input": "2025-08-19T18:50:06.971884Z",
     "iopub.status.busy": "2025-08-19T18:50:06.971186Z",
     "iopub.status.idle": "2025-08-19T18:50:07.179829Z",
     "shell.execute_reply": "2025-08-19T18:50:07.179014Z"
    },
    "papermill": {
     "duration": 0.228927,
     "end_time": "2025-08-19T18:50:07.184892",
     "exception": false,
     "start_time": "2025-08-19T18:50:06.955965",
     "status": "completed"
    },
    "tags": []
   },
   "outputs": [
    {
     "data": {
      "text/plain": [
       "0.8272544866793"
      ]
     },
     "execution_count": 35,
     "metadata": {},
     "output_type": "execute_result"
    }
   ],
   "source": [
    "from fairness_multiverse.universe import predict_w_threshold\n",
    "\n",
    "probs_test = model.predict_proba(X_test)\n",
    "\n",
    "'''\n",
    "Below code returns a boolean array (or binary 0/1 array depending on how it’s used) where each element \n",
    "is True if the probability of class 1 is greater than or equal to the threshold, and False otherwise.\n",
    "'''\n",
    "y_pred_default = predict_w_threshold(probs_test, 0.5)\n",
    "\n",
    "from sklearn.metrics import accuracy_score\n",
    "\n",
    "# Naive prediction\n",
    "accuracy_score(y_true = y_true, y_pred = y_pred_default)"
   ]
  },
  {
   "cell_type": "code",
   "execution_count": 36,
   "id": "6f14067c",
   "metadata": {
    "execution": {
     "iopub.execute_input": "2025-08-19T18:50:07.223404Z",
     "iopub.status.busy": "2025-08-19T18:50:07.222579Z",
     "iopub.status.idle": "2025-08-19T18:50:07.418718Z",
     "shell.execute_reply": "2025-08-19T18:50:07.417550Z"
    },
    "papermill": {
     "duration": 0.215072,
     "end_time": "2025-08-19T18:50:07.422020",
     "exception": false,
     "start_time": "2025-08-19T18:50:07.206948",
     "status": "completed"
    },
    "tags": []
   },
   "outputs": [
    {
     "data": {
      "text/plain": [
       "array([0, 0, 0, ..., 0, 0, 0])"
      ]
     },
     "execution_count": 36,
     "metadata": {},
     "output_type": "execute_result"
    }
   ],
   "source": [
    "model.predict(X_test)"
   ]
  },
  {
   "cell_type": "markdown",
   "id": "3759920c",
   "metadata": {
    "papermill": {
     "duration": 0.012373,
     "end_time": "2025-08-19T18:50:07.458540",
     "exception": false,
     "start_time": "2025-08-19T18:50:07.446167",
     "status": "completed"
    },
    "tags": []
   },
   "source": [
    "# Conformal Prediction"
   ]
  },
  {
   "cell_type": "code",
   "execution_count": 37,
   "id": "14b27f59",
   "metadata": {
    "execution": {
     "iopub.execute_input": "2025-08-19T18:50:07.483584Z",
     "iopub.status.busy": "2025-08-19T18:50:07.482491Z",
     "iopub.status.idle": "2025-08-19T18:50:07.495641Z",
     "shell.execute_reply": "2025-08-19T18:50:07.494353Z"
    },
    "papermill": {
     "duration": 0.028129,
     "end_time": "2025-08-19T18:50:07.497669",
     "exception": false,
     "start_time": "2025-08-19T18:50:07.469540",
     "status": "completed"
    },
    "tags": []
   },
   "outputs": [],
   "source": [
    "# Miscoverage level for conformal prediction (10% allowed error rate => 90% target coverage)\n",
    "alpha = 0.1"
   ]
  },
  {
   "cell_type": "code",
   "execution_count": 38,
   "id": "59102472",
   "metadata": {
    "execution": {
     "iopub.execute_input": "2025-08-19T18:50:07.525271Z",
     "iopub.status.busy": "2025-08-19T18:50:07.524284Z",
     "iopub.status.idle": "2025-08-19T18:50:07.746928Z",
     "shell.execute_reply": "2025-08-19T18:50:07.746240Z"
    },
    "papermill": {
     "duration": 0.237224,
     "end_time": "2025-08-19T18:50:07.748589",
     "exception": false,
     "start_time": "2025-08-19T18:50:07.511365",
     "status": "completed"
    },
    "tags": []
   },
   "outputs": [],
   "source": [
    "probs_calib = model.predict_proba(X_calib)"
   ]
  },
  {
   "cell_type": "code",
   "execution_count": 39,
   "id": "a792d4dd",
   "metadata": {
    "execution": {
     "iopub.execute_input": "2025-08-19T18:50:07.780397Z",
     "iopub.status.busy": "2025-08-19T18:50:07.779503Z",
     "iopub.status.idle": "2025-08-19T18:50:07.788042Z",
     "shell.execute_reply": "2025-08-19T18:50:07.786692Z"
    },
    "papermill": {
     "duration": 0.022944,
     "end_time": "2025-08-19T18:50:07.789415",
     "exception": false,
     "start_time": "2025-08-19T18:50:07.766471",
     "status": "completed"
    },
    "tags": []
   },
   "outputs": [],
   "source": [
    "y_calib = y_calib.values.ravel().astype(int)"
   ]
  },
  {
   "cell_type": "code",
   "execution_count": 40,
   "id": "650fd033",
   "metadata": {
    "execution": {
     "iopub.execute_input": "2025-08-19T18:50:07.818848Z",
     "iopub.status.busy": "2025-08-19T18:50:07.817800Z",
     "iopub.status.idle": "2025-08-19T18:50:07.898507Z",
     "shell.execute_reply": "2025-08-19T18:50:07.896751Z"
    },
    "papermill": {
     "duration": 0.09843,
     "end_time": "2025-08-19T18:50:07.901757",
     "exception": false,
     "start_time": "2025-08-19T18:50:07.803327",
     "status": "completed"
    },
    "tags": []
   },
   "outputs": [],
   "source": [
    "from fairness_multiverse.conformal import compute_nc_scores\n",
    "\n",
    "# Compute nonconformity scores on calibration set (1 - probability of true class)\n",
    "nc_scores = compute_nc_scores(probs_calib, y_calib)"
   ]
  },
  {
   "cell_type": "code",
   "execution_count": 41,
   "id": "28ada44c",
   "metadata": {
    "execution": {
     "iopub.execute_input": "2025-08-19T18:50:07.941683Z",
     "iopub.status.busy": "2025-08-19T18:50:07.940454Z",
     "iopub.status.idle": "2025-08-19T18:50:07.982305Z",
     "shell.execute_reply": "2025-08-19T18:50:07.980552Z"
    },
    "papermill": {
     "duration": 0.059065,
     "end_time": "2025-08-19T18:50:07.985417",
     "exception": false,
     "start_time": "2025-08-19T18:50:07.926352",
     "status": "completed"
    },
    "tags": []
   },
   "outputs": [],
   "source": [
    "from fairness_multiverse.conformal import find_threshold\n",
    "\n",
    "# Find conformal threshold q_hat for the given alpha (split conformal method)\n",
    "q_hat = find_threshold(nc_scores, alpha)"
   ]
  },
  {
   "cell_type": "code",
   "execution_count": 42,
   "id": "df56469e",
   "metadata": {
    "execution": {
     "iopub.execute_input": "2025-08-19T18:50:08.026990Z",
     "iopub.status.busy": "2025-08-19T18:50:08.025821Z",
     "iopub.status.idle": "2025-08-19T18:50:08.041118Z",
     "shell.execute_reply": "2025-08-19T18:50:08.039264Z"
    },
    "papermill": {
     "duration": 0.031967,
     "end_time": "2025-08-19T18:50:08.043391",
     "exception": false,
     "start_time": "2025-08-19T18:50:08.011424",
     "status": "completed"
    },
    "tags": []
   },
   "outputs": [
    {
     "data": {
      "text/plain": [
       "0.7635237675281568"
      ]
     },
     "execution_count": 42,
     "metadata": {},
     "output_type": "execute_result"
    }
   ],
   "source": [
    "q_hat"
   ]
  },
  {
   "cell_type": "code",
   "execution_count": 43,
   "id": "aa1f5faa",
   "metadata": {
    "execution": {
     "iopub.execute_input": "2025-08-19T18:50:08.075681Z",
     "iopub.status.busy": "2025-08-19T18:50:08.074980Z",
     "iopub.status.idle": "2025-08-19T18:50:08.743144Z",
     "shell.execute_reply": "2025-08-19T18:50:08.742131Z"
    },
    "papermill": {
     "duration": 0.683093,
     "end_time": "2025-08-19T18:50:08.744661",
     "exception": false,
     "start_time": "2025-08-19T18:50:08.061568",
     "status": "completed"
    },
    "tags": []
   },
   "outputs": [],
   "source": [
    "from fairness_multiverse.conformal import predict_conformal_sets\n",
    "\n",
    "# Generate prediction sets for each test example\n",
    "pred_sets = predict_conformal_sets(model, X_test, q_hat)"
   ]
  },
  {
   "cell_type": "code",
   "execution_count": 44,
   "id": "97f67a6b",
   "metadata": {
    "execution": {
     "iopub.execute_input": "2025-08-19T18:50:08.778167Z",
     "iopub.status.busy": "2025-08-19T18:50:08.776794Z",
     "iopub.status.idle": "2025-08-19T18:50:08.786152Z",
     "shell.execute_reply": "2025-08-19T18:50:08.784985Z"
    },
    "papermill": {
     "duration": 0.026993,
     "end_time": "2025-08-19T18:50:08.787691",
     "exception": false,
     "start_time": "2025-08-19T18:50:08.760698",
     "status": "completed"
    },
    "tags": []
   },
   "outputs": [],
   "source": [
    "y_true = y_true.squeeze()"
   ]
  },
  {
   "cell_type": "code",
   "execution_count": 45,
   "id": "e700e9a7",
   "metadata": {
    "execution": {
     "iopub.execute_input": "2025-08-19T18:50:08.823384Z",
     "iopub.status.busy": "2025-08-19T18:50:08.822336Z",
     "iopub.status.idle": "2025-08-19T18:50:09.337211Z",
     "shell.execute_reply": "2025-08-19T18:50:09.335988Z"
    },
    "papermill": {
     "duration": 0.530135,
     "end_time": "2025-08-19T18:50:09.338694",
     "exception": false,
     "start_time": "2025-08-19T18:50:08.808559",
     "status": "completed"
    },
    "tags": []
   },
   "outputs": [],
   "source": [
    "from fairness_multiverse.conformal import evaluate_sets\n",
    "\n",
    "# Evaluate coverage and average set size on test data\n",
    "metrics = evaluate_sets(pred_sets, y_true)"
   ]
  },
  {
   "cell_type": "markdown",
   "id": "efbacec0",
   "metadata": {
    "papermill": {
     "duration": 0.017934,
     "end_time": "2025-08-19T18:50:09.370613",
     "exception": false,
     "start_time": "2025-08-19T18:50:09.352679",
     "status": "completed"
    },
    "tags": []
   },
   "source": [
    "# CP Metrics"
   ]
  },
  {
   "cell_type": "code",
   "execution_count": 46,
   "id": "9de55fb1",
   "metadata": {
    "execution": {
     "iopub.execute_input": "2025-08-19T18:50:09.396674Z",
     "iopub.status.busy": "2025-08-19T18:50:09.396192Z",
     "iopub.status.idle": "2025-08-19T18:50:09.402530Z",
     "shell.execute_reply": "2025-08-19T18:50:09.401945Z"
    },
    "papermill": {
     "duration": 0.021897,
     "end_time": "2025-08-19T18:50:09.405395",
     "exception": false,
     "start_time": "2025-08-19T18:50:09.383498",
     "status": "completed"
    },
    "tags": []
   },
   "outputs": [
    {
     "data": {
      "text/plain": [
       "{'coverage': 0.9084940363393156, 'avg_size': 1.2126295842158066}"
      ]
     },
     "execution_count": 46,
     "metadata": {},
     "output_type": "execute_result"
    }
   ],
   "source": [
    "metrics"
   ]
  },
  {
   "cell_type": "code",
   "execution_count": 47,
   "id": "64c340a1",
   "metadata": {
    "execution": {
     "iopub.execute_input": "2025-08-19T18:50:09.430103Z",
     "iopub.status.busy": "2025-08-19T18:50:09.429733Z",
     "iopub.status.idle": "2025-08-19T18:50:09.434570Z",
     "shell.execute_reply": "2025-08-19T18:50:09.433977Z"
    },
    "papermill": {
     "duration": 0.018728,
     "end_time": "2025-08-19T18:50:09.436105",
     "exception": false,
     "start_time": "2025-08-19T18:50:09.417377",
     "status": "completed"
    },
    "tags": []
   },
   "outputs": [],
   "source": [
    "example_universe = universe.copy()\n",
    "universe_training_year = example_universe.get(\"training_year\")\n",
    "universe_training_size = example_universe.get(\"training_size\")\n",
    "universe_scale = example_universe.get(\"scale\")\n",
    "universe_model = example_universe.get(\"model\")\n",
    "universe_exclude_features = example_universe.get(\"exclude_features\")\n",
    "universe_exclude_subgroups = example_universe.get(\"exclude_subgroups\")"
   ]
  },
  {
   "cell_type": "code",
   "execution_count": 48,
   "id": "dbb53cb4",
   "metadata": {
    "execution": {
     "iopub.execute_input": "2025-08-19T18:50:09.460886Z",
     "iopub.status.busy": "2025-08-19T18:50:09.460510Z",
     "iopub.status.idle": "2025-08-19T18:50:09.465214Z",
     "shell.execute_reply": "2025-08-19T18:50:09.464623Z"
    },
    "papermill": {
     "duration": 0.018709,
     "end_time": "2025-08-19T18:50:09.466706",
     "exception": false,
     "start_time": "2025-08-19T18:50:09.447997",
     "status": "completed"
    },
    "tags": []
   },
   "outputs": [],
   "source": [
    "cp_metrics_dict = {\n",
    "    \"universe_id\": [universe_id],\n",
    "    \"universe_training_year\": [universe_training_year],\n",
    "    \"universe_training_size\": [universe_training_size],\n",
    "    \"universe_scale\": [universe_scale],\n",
    "    \"universe_model\": [universe_model],\n",
    "    \"universe_exclude_features\": [universe_exclude_features],\n",
    "    \"universe_exclude_subgroups\": [universe_exclude_subgroups],\n",
    "    \"q_hat\": [q_hat],\n",
    "    \"coverage\": [metrics[\"coverage\"]],\n",
    "    \"avg_size\": [metrics[\"avg_size\"]],\n",
    "}"
   ]
  },
  {
   "cell_type": "code",
   "execution_count": 49,
   "id": "0d70d4b2",
   "metadata": {
    "execution": {
     "iopub.execute_input": "2025-08-19T18:50:09.491113Z",
     "iopub.status.busy": "2025-08-19T18:50:09.490756Z",
     "iopub.status.idle": "2025-08-19T18:50:09.496426Z",
     "shell.execute_reply": "2025-08-19T18:50:09.495823Z"
    },
    "papermill": {
     "duration": 0.019512,
     "end_time": "2025-08-19T18:50:09.497985",
     "exception": false,
     "start_time": "2025-08-19T18:50:09.478473",
     "status": "completed"
    },
    "tags": []
   },
   "outputs": [],
   "source": [
    "cp_metrics_df = pd.DataFrame(cp_metrics_dict)"
   ]
  },
  {
   "cell_type": "code",
   "execution_count": 50,
   "id": "b494403c",
   "metadata": {
    "execution": {
     "iopub.execute_input": "2025-08-19T18:50:09.522623Z",
     "iopub.status.busy": "2025-08-19T18:50:09.522260Z",
     "iopub.status.idle": "2025-08-19T18:50:09.536131Z",
     "shell.execute_reply": "2025-08-19T18:50:09.535426Z"
    },
    "papermill": {
     "duration": 0.027824,
     "end_time": "2025-08-19T18:50:09.537624",
     "exception": false,
     "start_time": "2025-08-19T18:50:09.509800",
     "status": "completed"
    },
    "tags": []
   },
   "outputs": [
    {
     "data": {
      "text/html": [
       "<div>\n",
       "<style scoped>\n",
       "    .dataframe tbody tr th:only-of-type {\n",
       "        vertical-align: middle;\n",
       "    }\n",
       "\n",
       "    .dataframe tbody tr th {\n",
       "        vertical-align: top;\n",
       "    }\n",
       "\n",
       "    .dataframe thead th {\n",
       "        text-align: right;\n",
       "    }\n",
       "</style>\n",
       "<table border=\"1\" class=\"dataframe\">\n",
       "  <thead>\n",
       "    <tr style=\"text-align: right;\">\n",
       "      <th></th>\n",
       "      <th>universe_id</th>\n",
       "      <th>universe_training_year</th>\n",
       "      <th>universe_training_size</th>\n",
       "      <th>universe_scale</th>\n",
       "      <th>universe_model</th>\n",
       "      <th>universe_exclude_features</th>\n",
       "      <th>universe_exclude_subgroups</th>\n",
       "      <th>q_hat</th>\n",
       "      <th>coverage</th>\n",
       "      <th>avg_size</th>\n",
       "    </tr>\n",
       "  </thead>\n",
       "  <tbody>\n",
       "    <tr>\n",
       "      <th>0</th>\n",
       "      <td>fb342841803b10b2bc2a9204520c4b57</td>\n",
       "      <td>2014</td>\n",
       "      <td>1k</td>\n",
       "      <td>scale</td>\n",
       "      <td>penalized_logreg</td>\n",
       "      <td>nationality-sex</td>\n",
       "      <td>drop-non-german</td>\n",
       "      <td>0.763524</td>\n",
       "      <td>0.908494</td>\n",
       "      <td>1.21263</td>\n",
       "    </tr>\n",
       "  </tbody>\n",
       "</table>\n",
       "</div>"
      ],
      "text/plain": [
       "                        universe_id universe_training_year  \\\n",
       "0  fb342841803b10b2bc2a9204520c4b57                   2014   \n",
       "\n",
       "  universe_training_size universe_scale    universe_model  \\\n",
       "0                     1k          scale  penalized_logreg   \n",
       "\n",
       "  universe_exclude_features universe_exclude_subgroups     q_hat  coverage  \\\n",
       "0           nationality-sex            drop-non-german  0.763524  0.908494   \n",
       "\n",
       "   avg_size  \n",
       "0   1.21263  "
      ]
     },
     "execution_count": 50,
     "metadata": {},
     "output_type": "execute_result"
    }
   ],
   "source": [
    "cp_metrics_df"
   ]
  },
  {
   "cell_type": "markdown",
   "id": "ed608b0b",
   "metadata": {
    "papermill": {
     "duration": 0.011702,
     "end_time": "2025-08-19T18:50:09.563249",
     "exception": false,
     "start_time": "2025-08-19T18:50:09.551547",
     "status": "completed"
    },
    "tags": []
   },
   "source": [
    "Conditional coverage & looking at subgroups"
   ]
  },
  {
   "cell_type": "code",
   "execution_count": 51,
   "id": "8968c366",
   "metadata": {
    "execution": {
     "iopub.execute_input": "2025-08-19T18:50:09.588222Z",
     "iopub.status.busy": "2025-08-19T18:50:09.587826Z",
     "iopub.status.idle": "2025-08-19T18:50:09.847964Z",
     "shell.execute_reply": "2025-08-19T18:50:09.847258Z"
    },
    "papermill": {
     "duration": 0.274475,
     "end_time": "2025-08-19T18:50:09.849505",
     "exception": false,
     "start_time": "2025-08-19T18:50:09.575030",
     "status": "completed"
    },
    "tags": []
   },
   "outputs": [],
   "source": [
    "from fairness_multiverse.conformal import build_cp_groups\n",
    "\n",
    "cp_groups_df = build_cp_groups(pred_sets, y_true, X_test.index, org_test)"
   ]
  },
  {
   "cell_type": "code",
   "execution_count": 52,
   "id": "292ddabf",
   "metadata": {
    "execution": {
     "iopub.execute_input": "2025-08-19T18:50:09.876076Z",
     "iopub.status.busy": "2025-08-19T18:50:09.875078Z",
     "iopub.status.idle": "2025-08-19T18:50:10.815632Z",
     "shell.execute_reply": "2025-08-19T18:50:10.814477Z"
    },
    "papermill": {
     "duration": 0.955958,
     "end_time": "2025-08-19T18:50:10.817744",
     "exception": false,
     "start_time": "2025-08-19T18:50:09.861786",
     "status": "completed"
    },
    "tags": []
   },
   "outputs": [],
   "source": [
    "# Define covered = 1 if true_label is in the predicted set\n",
    "cp_groups_df['covered'] = cp_groups_df.apply(\n",
    "    lambda r: int(r['true_label'] in r['pred_set']),\n",
    "    axis=1\n",
    ")"
   ]
  },
  {
   "cell_type": "code",
   "execution_count": 53,
   "id": "3a261692",
   "metadata": {
    "execution": {
     "iopub.execute_input": "2025-08-19T18:50:10.848707Z",
     "iopub.status.busy": "2025-08-19T18:50:10.846287Z",
     "iopub.status.idle": "2025-08-19T18:50:10.885098Z",
     "shell.execute_reply": "2025-08-19T18:50:10.884155Z"
    },
    "papermill": {
     "duration": 0.056682,
     "end_time": "2025-08-19T18:50:10.886794",
     "exception": false,
     "start_time": "2025-08-19T18:50:10.830112",
     "status": "completed"
    },
    "tags": []
   },
   "outputs": [],
   "source": [
    "subgroups = ['frau1','nongerman','nongerman_male','nongerman_female']\n",
    "\n",
    "# Conditional coverage for subgroup==1\n",
    "cond_coverage = {\n",
    "    g: cp_groups_df.loc[cp_groups_df[g]==1, 'covered'].mean()\n",
    "    for g in subgroups\n",
    "}"
   ]
  },
  {
   "cell_type": "code",
   "execution_count": 54,
   "id": "894fd600",
   "metadata": {
    "execution": {
     "iopub.execute_input": "2025-08-19T18:50:10.920257Z",
     "iopub.status.busy": "2025-08-19T18:50:10.918711Z",
     "iopub.status.idle": "2025-08-19T18:50:10.938800Z",
     "shell.execute_reply": "2025-08-19T18:50:10.937593Z"
    },
    "papermill": {
     "duration": 0.037569,
     "end_time": "2025-08-19T18:50:10.940522",
     "exception": false,
     "start_time": "2025-08-19T18:50:10.902953",
     "status": "completed"
    },
    "tags": []
   },
   "outputs": [
    {
     "data": {
      "text/plain": [
       "{'frau1': 0.904434559913735,\n",
       " 'nongerman': 0.9051254701622411,\n",
       " 'nongerman_male': 0.9237143114473566,\n",
       " 'nongerman_female': 0.8743666169895679}"
      ]
     },
     "execution_count": 54,
     "metadata": {},
     "output_type": "execute_result"
    }
   ],
   "source": [
    "cond_coverage"
   ]
  },
  {
   "cell_type": "code",
   "execution_count": 55,
   "id": "942895c7",
   "metadata": {
    "execution": {
     "iopub.execute_input": "2025-08-19T18:50:10.978217Z",
     "iopub.status.busy": "2025-08-19T18:50:10.977185Z",
     "iopub.status.idle": "2025-08-19T18:50:10.986008Z",
     "shell.execute_reply": "2025-08-19T18:50:10.985117Z"
    },
    "papermill": {
     "duration": 0.023632,
     "end_time": "2025-08-19T18:50:10.987319",
     "exception": false,
     "start_time": "2025-08-19T18:50:10.963687",
     "status": "completed"
    },
    "tags": []
   },
   "outputs": [],
   "source": [
    "for subgroup, cov in cond_coverage.items():\n",
    "    cp_metrics_df[f\"cov_{subgroup}\"] = cov"
   ]
  },
  {
   "cell_type": "code",
   "execution_count": 56,
   "id": "3970120f",
   "metadata": {
    "execution": {
     "iopub.execute_input": "2025-08-19T18:50:11.019138Z",
     "iopub.status.busy": "2025-08-19T18:50:11.017581Z",
     "iopub.status.idle": "2025-08-19T18:50:11.057288Z",
     "shell.execute_reply": "2025-08-19T18:50:11.056221Z"
    },
    "papermill": {
     "duration": 0.058657,
     "end_time": "2025-08-19T18:50:11.060189",
     "exception": false,
     "start_time": "2025-08-19T18:50:11.001532",
     "status": "completed"
    },
    "tags": []
   },
   "outputs": [
    {
     "data": {
      "text/html": [
       "<div>\n",
       "<style scoped>\n",
       "    .dataframe tbody tr th:only-of-type {\n",
       "        vertical-align: middle;\n",
       "    }\n",
       "\n",
       "    .dataframe tbody tr th {\n",
       "        vertical-align: top;\n",
       "    }\n",
       "\n",
       "    .dataframe thead th {\n",
       "        text-align: right;\n",
       "    }\n",
       "</style>\n",
       "<table border=\"1\" class=\"dataframe\">\n",
       "  <thead>\n",
       "    <tr style=\"text-align: right;\">\n",
       "      <th></th>\n",
       "      <th>universe_id</th>\n",
       "      <th>universe_training_year</th>\n",
       "      <th>universe_training_size</th>\n",
       "      <th>universe_scale</th>\n",
       "      <th>universe_model</th>\n",
       "      <th>universe_exclude_features</th>\n",
       "      <th>universe_exclude_subgroups</th>\n",
       "      <th>q_hat</th>\n",
       "      <th>coverage</th>\n",
       "      <th>avg_size</th>\n",
       "      <th>cov_frau1</th>\n",
       "      <th>cov_nongerman</th>\n",
       "      <th>cov_nongerman_male</th>\n",
       "      <th>cov_nongerman_female</th>\n",
       "    </tr>\n",
       "  </thead>\n",
       "  <tbody>\n",
       "    <tr>\n",
       "      <th>0</th>\n",
       "      <td>fb342841803b10b2bc2a9204520c4b57</td>\n",
       "      <td>2014</td>\n",
       "      <td>1k</td>\n",
       "      <td>scale</td>\n",
       "      <td>penalized_logreg</td>\n",
       "      <td>nationality-sex</td>\n",
       "      <td>drop-non-german</td>\n",
       "      <td>0.763524</td>\n",
       "      <td>0.908494</td>\n",
       "      <td>1.21263</td>\n",
       "      <td>0.904435</td>\n",
       "      <td>0.905125</td>\n",
       "      <td>0.923714</td>\n",
       "      <td>0.874367</td>\n",
       "    </tr>\n",
       "  </tbody>\n",
       "</table>\n",
       "</div>"
      ],
      "text/plain": [
       "                        universe_id universe_training_year  \\\n",
       "0  fb342841803b10b2bc2a9204520c4b57                   2014   \n",
       "\n",
       "  universe_training_size universe_scale    universe_model  \\\n",
       "0                     1k          scale  penalized_logreg   \n",
       "\n",
       "  universe_exclude_features universe_exclude_subgroups     q_hat  coverage  \\\n",
       "0           nationality-sex            drop-non-german  0.763524  0.908494   \n",
       "\n",
       "   avg_size  cov_frau1  cov_nongerman  cov_nongerman_male  \\\n",
       "0   1.21263   0.904435       0.905125            0.923714   \n",
       "\n",
       "   cov_nongerman_female  \n",
       "0              0.874367  "
      ]
     },
     "execution_count": 56,
     "metadata": {},
     "output_type": "execute_result"
    }
   ],
   "source": [
    "cp_metrics_df"
   ]
  },
  {
   "cell_type": "markdown",
   "id": "3fc519cc",
   "metadata": {
    "papermill": {
     "duration": 0.012292,
     "end_time": "2025-08-19T18:50:11.096431",
     "exception": false,
     "start_time": "2025-08-19T18:50:11.084139",
     "status": "completed"
    },
    "tags": []
   },
   "source": [
    "# (Fairness) Metrics"
   ]
  },
  {
   "cell_type": "code",
   "execution_count": 57,
   "id": "a2e5e155",
   "metadata": {
    "execution": {
     "iopub.execute_input": "2025-08-19T18:50:11.128593Z",
     "iopub.status.busy": "2025-08-19T18:50:11.127152Z",
     "iopub.status.idle": "2025-08-19T18:50:11.164549Z",
     "shell.execute_reply": "2025-08-19T18:50:11.163609Z"
    },
    "papermill": {
     "duration": 0.054516,
     "end_time": "2025-08-19T18:50:11.167250",
     "exception": false,
     "start_time": "2025-08-19T18:50:11.112734",
     "status": "completed"
    },
    "tags": []
   },
   "outputs": [],
   "source": [
    "colname_to_bin = \"maxdeutsch1\"\n",
    "majority_value = org_train[colname_to_bin].mode()[0]\n",
    "\n",
    "org_test[\"majmin\"] = np.where(org_test[colname_to_bin] == majority_value, \"majority\", \"minority\")"
   ]
  },
  {
   "cell_type": "code",
   "execution_count": 58,
   "id": "17e3e4d5",
   "metadata": {
    "execution": {
     "iopub.execute_input": "2025-08-19T18:50:11.209425Z",
     "iopub.status.busy": "2025-08-19T18:50:11.208103Z",
     "iopub.status.idle": "2025-08-19T18:50:13.028244Z",
     "shell.execute_reply": "2025-08-19T18:50:13.026958Z"
    },
    "papermill": {
     "duration": 1.83648,
     "end_time": "2025-08-19T18:50:13.029845",
     "exception": false,
     "start_time": "2025-08-19T18:50:11.193365",
     "status": "completed"
    },
    "tags": []
   },
   "outputs": [],
   "source": [
    "example_universe = universe.copy()\n",
    "example_universe[\"cutoff\"] = example_universe[\"cutoff\"][0]\n",
    "example_universe[\"eval_fairness_grouping\"] = example_universe[\"eval_fairness_grouping\"][0]\n",
    "fairness_dict, metric_frame = universe_analysis.compute_metrics(\n",
    "    example_universe,\n",
    "    y_pred_prob=probs_test,\n",
    "    y_test=y_true,\n",
    "    org_test=org_test,\n",
    ")"
   ]
  },
  {
   "cell_type": "markdown",
   "id": "1fb7a0e9",
   "metadata": {
    "papermill": {
     "duration": 0.02745,
     "end_time": "2025-08-19T18:50:13.071289",
     "exception": false,
     "start_time": "2025-08-19T18:50:13.043839",
     "status": "completed"
    },
    "tags": []
   },
   "source": [
    "# Overall"
   ]
  },
  {
   "cell_type": "markdown",
   "id": "be1784b1",
   "metadata": {
    "papermill": {
     "duration": 0.012602,
     "end_time": "2025-08-19T18:50:13.097579",
     "exception": false,
     "start_time": "2025-08-19T18:50:13.084977",
     "status": "completed"
    },
    "tags": []
   },
   "source": [
    "Main fairness target: Equalized Odds. Seems to be a better fit than equal opportunity, since we're not only interested in Y = 1. Seems to be a better fit than demographic parity, since we also care about accuracy, not just equal distribution of preds.\n",
    "\n",
    "Pick column for computation of fairness metrics\n",
    "\n",
    "Performance\n",
    "Overall performance measures, most interesting in relation to the measures split by group below"
   ]
  },
  {
   "cell_type": "code",
   "execution_count": 59,
   "id": "b7672bee",
   "metadata": {
    "execution": {
     "iopub.execute_input": "2025-08-19T18:50:13.126273Z",
     "iopub.status.busy": "2025-08-19T18:50:13.125412Z",
     "iopub.status.idle": "2025-08-19T18:50:13.135810Z",
     "shell.execute_reply": "2025-08-19T18:50:13.135142Z"
    },
    "papermill": {
     "duration": 0.027137,
     "end_time": "2025-08-19T18:50:13.137133",
     "exception": false,
     "start_time": "2025-08-19T18:50:13.109996",
     "status": "completed"
    },
    "tags": []
   },
   "outputs": [
    {
     "data": {
      "text/plain": [
       "accuracy                   0.219485\n",
       "balanced accuracy          0.537714\n",
       "f1                         0.240959\n",
       "precision                  0.137652\n",
       "false positive rate        0.890335\n",
       "false negative rate        0.034237\n",
       "selection rate             0.900011\n",
       "count                  89710.000000\n",
       "dtype: float64"
      ]
     },
     "execution_count": 59,
     "metadata": {},
     "output_type": "execute_result"
    }
   ],
   "source": [
    "metric_frame.overall"
   ]
  },
  {
   "cell_type": "markdown",
   "id": "d93333c9",
   "metadata": {
    "papermill": {
     "duration": 0.012578,
     "end_time": "2025-08-19T18:50:13.167015",
     "exception": false,
     "start_time": "2025-08-19T18:50:13.154437",
     "status": "completed"
    },
    "tags": []
   },
   "source": [
    "By Group"
   ]
  },
  {
   "cell_type": "code",
   "execution_count": 60,
   "id": "52256966",
   "metadata": {
    "execution": {
     "iopub.execute_input": "2025-08-19T18:50:13.193658Z",
     "iopub.status.busy": "2025-08-19T18:50:13.193240Z",
     "iopub.status.idle": "2025-08-19T18:50:13.207729Z",
     "shell.execute_reply": "2025-08-19T18:50:13.206640Z"
    },
    "papermill": {
     "duration": 0.029691,
     "end_time": "2025-08-19T18:50:13.209208",
     "exception": false,
     "start_time": "2025-08-19T18:50:13.179517",
     "status": "completed"
    },
    "tags": []
   },
   "outputs": [
    {
     "data": {
      "text/html": [
       "<div>\n",
       "<style scoped>\n",
       "    .dataframe tbody tr th:only-of-type {\n",
       "        vertical-align: middle;\n",
       "    }\n",
       "\n",
       "    .dataframe tbody tr th {\n",
       "        vertical-align: top;\n",
       "    }\n",
       "\n",
       "    .dataframe thead th {\n",
       "        text-align: right;\n",
       "    }\n",
       "</style>\n",
       "<table border=\"1\" class=\"dataframe\">\n",
       "  <thead>\n",
       "    <tr style=\"text-align: right;\">\n",
       "      <th></th>\n",
       "      <th>accuracy</th>\n",
       "      <th>balanced accuracy</th>\n",
       "      <th>f1</th>\n",
       "      <th>precision</th>\n",
       "      <th>false positive rate</th>\n",
       "      <th>false negative rate</th>\n",
       "      <th>selection rate</th>\n",
       "      <th>count</th>\n",
       "    </tr>\n",
       "    <tr>\n",
       "      <th>majmin</th>\n",
       "      <th></th>\n",
       "      <th></th>\n",
       "      <th></th>\n",
       "      <th></th>\n",
       "      <th></th>\n",
       "      <th></th>\n",
       "      <th></th>\n",
       "      <th></th>\n",
       "    </tr>\n",
       "  </thead>\n",
       "  <tbody>\n",
       "    <tr>\n",
       "      <th>majority</th>\n",
       "      <td>0.235073</td>\n",
       "      <td>0.543722</td>\n",
       "      <td>0.249695</td>\n",
       "      <td>0.143439</td>\n",
       "      <td>0.875795</td>\n",
       "      <td>0.036761</td>\n",
       "      <td>0.887350</td>\n",
       "      <td>69170.0</td>\n",
       "    </tr>\n",
       "    <tr>\n",
       "      <th>minority</th>\n",
       "      <td>0.166991</td>\n",
       "      <td>0.518570</td>\n",
       "      <td>0.212609</td>\n",
       "      <td>0.119306</td>\n",
       "      <td>0.938367</td>\n",
       "      <td>0.024493</td>\n",
       "      <td>0.942648</td>\n",
       "      <td>20540.0</td>\n",
       "    </tr>\n",
       "  </tbody>\n",
       "</table>\n",
       "</div>"
      ],
      "text/plain": [
       "          accuracy  balanced accuracy        f1  precision  \\\n",
       "majmin                                                       \n",
       "majority  0.235073           0.543722  0.249695   0.143439   \n",
       "minority  0.166991           0.518570  0.212609   0.119306   \n",
       "\n",
       "          false positive rate  false negative rate  selection rate    count  \n",
       "majmin                                                                       \n",
       "majority             0.875795             0.036761        0.887350  69170.0  \n",
       "minority             0.938367             0.024493        0.942648  20540.0  "
      ]
     },
     "execution_count": 60,
     "metadata": {},
     "output_type": "execute_result"
    }
   ],
   "source": [
    "metric_frame.by_group"
   ]
  },
  {
   "cell_type": "code",
   "execution_count": 61,
   "id": "6e6c20ae",
   "metadata": {
    "execution": {
     "iopub.execute_input": "2025-08-19T18:50:13.241778Z",
     "iopub.status.busy": "2025-08-19T18:50:13.240580Z",
     "iopub.status.idle": "2025-08-19T18:50:15.067699Z",
     "shell.execute_reply": "2025-08-19T18:50:15.066603Z"
    },
    "papermill": {
     "duration": 1.843109,
     "end_time": "2025-08-19T18:50:15.069060",
     "exception": false,
     "start_time": "2025-08-19T18:50:13.225951",
     "status": "completed"
    },
    "tags": []
   },
   "outputs": [
    {
     "data": {
      "text/plain": [
       "array([[<Axes: title={'center': 'accuracy'}, xlabel='majmin'>,\n",
       "        <Axes: title={'center': 'balanced accuracy'}, xlabel='majmin'>,\n",
       "        <Axes: title={'center': 'f1'}, xlabel='majmin'>],\n",
       "       [<Axes: title={'center': 'precision'}, xlabel='majmin'>,\n",
       "        <Axes: title={'center': 'false positive rate'}, xlabel='majmin'>,\n",
       "        <Axes: title={'center': 'false negative rate'}, xlabel='majmin'>],\n",
       "       [<Axes: title={'center': 'selection rate'}, xlabel='majmin'>,\n",
       "        <Axes: title={'center': 'count'}, xlabel='majmin'>,\n",
       "        <Axes: xlabel='majmin'>]], dtype=object)"
      ]
     },
     "execution_count": 61,
     "metadata": {},
     "output_type": "execute_result"
    },
    {
     "data": {
      "image/png": "[encoded data removed]",
      "text/plain": [
       "<Figure size 1200x800 with 9 Axes>"
      ]
     },
     "metadata": {},
     "output_type": "display_data"
    }
   ],
   "source": [
    "# In a graphic\n",
    "metric_frame.by_group.plot.bar(\n",
    "    subplots=True,\n",
    "    layout=[3, 3],\n",
    "    legend=False,\n",
    "    figsize=[12, 8],\n",
    "    title=\"Show all metrics\",\n",
    ")"
   ]
  },
  {
   "cell_type": "markdown",
   "id": "b2e433ae",
   "metadata": {
    "papermill": {
     "duration": 0.01402,
     "end_time": "2025-08-19T18:50:15.098097",
     "exception": false,
     "start_time": "2025-08-19T18:50:15.084077",
     "status": "completed"
    },
    "tags": []
   },
   "source": [
    "# Final Output"
   ]
  },
  {
   "cell_type": "code",
   "execution_count": 62,
   "id": "3871301e",
   "metadata": {
    "execution": {
     "iopub.execute_input": "2025-08-19T18:50:15.127960Z",
     "iopub.status.busy": "2025-08-19T18:50:15.127198Z",
     "iopub.status.idle": "2025-08-19T18:50:15.138214Z",
     "shell.execute_reply": "2025-08-19T18:50:15.137139Z"
    },
    "papermill": {
     "duration": 0.027605,
     "end_time": "2025-08-19T18:50:15.139660",
     "exception": false,
     "start_time": "2025-08-19T18:50:15.112055",
     "status": "completed"
    },
    "tags": []
   },
   "outputs": [
    {
     "data": {
      "text/plain": [
       "4"
      ]
     },
     "execution_count": 62,
     "metadata": {},
     "output_type": "execute_result"
    }
   ],
   "source": [
    "sub_universes = universe_analysis.generate_sub_universes()\n",
    "len(sub_universes)"
   ]
  },
  {
   "cell_type": "code",
   "execution_count": 63,
   "id": "d9cfdaca",
   "metadata": {
    "execution": {
     "iopub.execute_input": "2025-08-19T18:50:15.174605Z",
     "iopub.status.busy": "2025-08-19T18:50:15.173594Z",
     "iopub.status.idle": "2025-08-19T18:50:15.181780Z",
     "shell.execute_reply": "2025-08-19T18:50:15.180565Z"
    },
    "papermill": {
     "duration": 0.024901,
     "end_time": "2025-08-19T18:50:15.183074",
     "exception": false,
     "start_time": "2025-08-19T18:50:15.158173",
     "status": "completed"
    },
    "tags": []
   },
   "outputs": [],
   "source": [
    "def filter_sub_universe_data(sub_universe, org_test):\n",
    "    # Keep all rows — no filtering\n",
    "    keep_rows_mask = np.ones(org_test.shape[0], dtype=bool)\n",
    "\n",
    "    print(f\"[INFO] Keeping all rows: {keep_rows_mask.sum()} rows retained.\")\n",
    "    return keep_rows_mask"
   ]
  },
  {
   "cell_type": "code",
   "execution_count": 64,
   "id": "2bc31ac1",
   "metadata": {
    "execution": {
     "iopub.execute_input": "2025-08-19T18:50:15.216898Z",
     "iopub.status.busy": "2025-08-19T18:50:15.215685Z",
     "iopub.status.idle": "2025-08-19T18:50:21.937510Z",
     "shell.execute_reply": "2025-08-19T18:50:21.936524Z"
    },
    "papermill": {
     "duration": 6.73947,
     "end_time": "2025-08-19T18:50:21.939506",
     "exception": false,
     "start_time": "2025-08-19T18:50:15.200036",
     "status": "completed"
    },
    "tags": []
   },
   "outputs": [
    {
     "name": "stdout",
     "output_type": "stream",
     "text": [
      "Stopping execution_time clock.\n",
      "[INFO] Keeping all rows: 89710 rows retained.\n"
     ]
    },
    {
     "name": "stdout",
     "output_type": "stream",
     "text": [
      "[INFO] Keeping all rows: 89710 rows retained.\n"
     ]
    },
    {
     "name": "stdout",
     "output_type": "stream",
     "text": [
      "[INFO] Keeping all rows: 89710 rows retained.\n"
     ]
    },
    {
     "name": "stdout",
     "output_type": "stream",
     "text": [
      "[INFO] Keeping all rows: 89710 rows retained.\n"
     ]
    },
    {
     "data": {
      "text/html": [
       "<div>\n",
       "<style scoped>\n",
       "    .dataframe tbody tr th:only-of-type {\n",
       "        vertical-align: middle;\n",
       "    }\n",
       "\n",
       "    .dataframe tbody tr th {\n",
       "        vertical-align: top;\n",
       "    }\n",
       "\n",
       "    .dataframe thead th {\n",
       "        text-align: right;\n",
       "    }\n",
       "</style>\n",
       "<table border=\"1\" class=\"dataframe\">\n",
       "  <thead>\n",
       "    <tr style=\"text-align: right;\">\n",
       "      <th></th>\n",
       "      <th>run_no</th>\n",
       "      <th>universe_id</th>\n",
       "      <th>universe_settings</th>\n",
       "      <th>execution_time</th>\n",
       "      <th>test_size_n</th>\n",
       "      <th>test_size_frac</th>\n",
       "      <th>fair_main_equalized_odds_difference</th>\n",
       "      <th>fair_main_equalized_odds_ratio</th>\n",
       "      <th>fair_main_demographic_parity_difference</th>\n",
       "      <th>fair_main_demographic_parity_ratio</th>\n",
       "      <th>...</th>\n",
       "      <th>perf_grp_precision_0</th>\n",
       "      <th>perf_grp_precision_1</th>\n",
       "      <th>perf_grp_false positive rate_0</th>\n",
       "      <th>perf_grp_false positive rate_1</th>\n",
       "      <th>perf_grp_false negative rate_0</th>\n",
       "      <th>perf_grp_false negative rate_1</th>\n",
       "      <th>perf_grp_selection rate_0</th>\n",
       "      <th>perf_grp_selection rate_1</th>\n",
       "      <th>perf_grp_count_0</th>\n",
       "      <th>perf_grp_count_1</th>\n",
       "    </tr>\n",
       "  </thead>\n",
       "  <tbody>\n",
       "    <tr>\n",
       "      <th>0</th>\n",
       "      <td>3</td>\n",
       "      <td>fb342841803b10b2bc2a9204520c4b57</td>\n",
       "      <td>{\"cutoff\": \"quantile_0.1\", \"eval_fairness_grou...</td>\n",
       "      <td>22.516818</td>\n",
       "      <td>89710</td>\n",
       "      <td>1.0</td>\n",
       "      <td>0.062571</td>\n",
       "      <td>0.933319</td>\n",
       "      <td>0.055298</td>\n",
       "      <td>0.941337</td>\n",
       "      <td>...</td>\n",
       "      <td>NaN</td>\n",
       "      <td>NaN</td>\n",
       "      <td>NaN</td>\n",
       "      <td>NaN</td>\n",
       "      <td>NaN</td>\n",
       "      <td>NaN</td>\n",
       "      <td>NaN</td>\n",
       "      <td>NaN</td>\n",
       "      <td>NaN</td>\n",
       "      <td>NaN</td>\n",
       "    </tr>\n",
       "    <tr>\n",
       "      <th>0</th>\n",
       "      <td>3</td>\n",
       "      <td>fb342841803b10b2bc2a9204520c4b57</td>\n",
       "      <td>{\"cutoff\": \"quantile_0.1\", \"eval_fairness_grou...</td>\n",
       "      <td>22.516818</td>\n",
       "      <td>89710</td>\n",
       "      <td>1.0</td>\n",
       "      <td>0.062571</td>\n",
       "      <td>0.933319</td>\n",
       "      <td>0.055298</td>\n",
       "      <td>0.941337</td>\n",
       "      <td>...</td>\n",
       "      <td>0.119306</td>\n",
       "      <td>0.143439</td>\n",
       "      <td>0.938367</td>\n",
       "      <td>0.875795</td>\n",
       "      <td>0.024493</td>\n",
       "      <td>0.036761</td>\n",
       "      <td>0.942648</td>\n",
       "      <td>0.887350</td>\n",
       "      <td>20540.0</td>\n",
       "      <td>69170.0</td>\n",
       "    </tr>\n",
       "    <tr>\n",
       "      <th>0</th>\n",
       "      <td>3</td>\n",
       "      <td>fb342841803b10b2bc2a9204520c4b57</td>\n",
       "      <td>{\"cutoff\": \"quantile_0.25\", \"eval_fairness_gro...</td>\n",
       "      <td>22.516818</td>\n",
       "      <td>89710</td>\n",
       "      <td>1.0</td>\n",
       "      <td>0.037473</td>\n",
       "      <td>0.950479</td>\n",
       "      <td>0.028990</td>\n",
       "      <td>0.962465</td>\n",
       "      <td>...</td>\n",
       "      <td>NaN</td>\n",
       "      <td>NaN</td>\n",
       "      <td>NaN</td>\n",
       "      <td>NaN</td>\n",
       "      <td>NaN</td>\n",
       "      <td>NaN</td>\n",
       "      <td>NaN</td>\n",
       "      <td>NaN</td>\n",
       "      <td>NaN</td>\n",
       "      <td>NaN</td>\n",
       "    </tr>\n",
       "    <tr>\n",
       "      <th>0</th>\n",
       "      <td>3</td>\n",
       "      <td>fb342841803b10b2bc2a9204520c4b57</td>\n",
       "      <td>{\"cutoff\": \"quantile_0.25\", \"eval_fairness_gro...</td>\n",
       "      <td>22.516818</td>\n",
       "      <td>89710</td>\n",
       "      <td>1.0</td>\n",
       "      <td>0.037473</td>\n",
       "      <td>0.950479</td>\n",
       "      <td>0.028990</td>\n",
       "      <td>0.962465</td>\n",
       "      <td>...</td>\n",
       "      <td>0.133195</td>\n",
       "      <td>0.160294</td>\n",
       "      <td>0.756714</td>\n",
       "      <td>0.719240</td>\n",
       "      <td>0.107686</td>\n",
       "      <td>0.098249</td>\n",
       "      <td>0.772347</td>\n",
       "      <td>0.743357</td>\n",
       "      <td>20540.0</td>\n",
       "      <td>69170.0</td>\n",
       "    </tr>\n",
       "  </tbody>\n",
       "</table>\n",
       "<p>4 rows × 50 columns</p>\n",
       "</div>"
      ],
      "text/plain": [
       "  run_no                       universe_id  \\\n",
       "0      3  fb342841803b10b2bc2a9204520c4b57   \n",
       "0      3  fb342841803b10b2bc2a9204520c4b57   \n",
       "0      3  fb342841803b10b2bc2a9204520c4b57   \n",
       "0      3  fb342841803b10b2bc2a9204520c4b57   \n",
       "\n",
       "                                   universe_settings  execution_time  \\\n",
       "0  {\"cutoff\": \"quantile_0.1\", \"eval_fairness_grou...       22.516818   \n",
       "0  {\"cutoff\": \"quantile_0.1\", \"eval_fairness_grou...       22.516818   \n",
       "0  {\"cutoff\": \"quantile_0.25\", \"eval_fairness_gro...       22.516818   \n",
       "0  {\"cutoff\": \"quantile_0.25\", \"eval_fairness_gro...       22.516818   \n",
       "\n",
       "   test_size_n  test_size_frac  fair_main_equalized_odds_difference  \\\n",
       "0        89710             1.0                             0.062571   \n",
       "0        89710             1.0                             0.062571   \n",
       "0        89710             1.0                             0.037473   \n",
       "0        89710             1.0                             0.037473   \n",
       "\n",
       "   fair_main_equalized_odds_ratio  fair_main_demographic_parity_difference  \\\n",
       "0                        0.933319                                 0.055298   \n",
       "0                        0.933319                                 0.055298   \n",
       "0                        0.950479                                 0.028990   \n",
       "0                        0.950479                                 0.028990   \n",
       "\n",
       "   fair_main_demographic_parity_ratio  ...  perf_grp_precision_0  \\\n",
       "0                            0.941337  ...                   NaN   \n",
       "0                            0.941337  ...              0.119306   \n",
       "0                            0.962465  ...                   NaN   \n",
       "0                            0.962465  ...              0.133195   \n",
       "\n",
       "   perf_grp_precision_1  perf_grp_false positive rate_0  \\\n",
       "0                   NaN                             NaN   \n",
       "0              0.143439                        0.938367   \n",
       "0                   NaN                             NaN   \n",
       "0              0.160294                        0.756714   \n",
       "\n",
       "   perf_grp_false positive rate_1  perf_grp_false negative rate_0  \\\n",
       "0                             NaN                             NaN   \n",
       "0                        0.875795                        0.024493   \n",
       "0                             NaN                             NaN   \n",
       "0                        0.719240                        0.107686   \n",
       "\n",
       "   perf_grp_false negative rate_1  perf_grp_selection rate_0  \\\n",
       "0                             NaN                        NaN   \n",
       "0                        0.036761                   0.942648   \n",
       "0                             NaN                        NaN   \n",
       "0                        0.098249                   0.772347   \n",
       "\n",
       "   perf_grp_selection rate_1  perf_grp_count_0  perf_grp_count_1  \n",
       "0                        NaN               NaN               NaN  \n",
       "0                   0.887350           20540.0           69170.0  \n",
       "0                        NaN               NaN               NaN  \n",
       "0                   0.743357           20540.0           69170.0  \n",
       "\n",
       "[4 rows x 50 columns]"
      ]
     },
     "execution_count": 64,
     "metadata": {},
     "output_type": "execute_result"
    }
   ],
   "source": [
    "final_output = universe_analysis.generate_final_output(\n",
    "    y_pred_prob=probs_test,\n",
    "    y_test=y_true,\n",
    "    org_test=org_test,\n",
    "    filter_data=filter_sub_universe_data,\n",
    "    cp_metrics_df=cp_metrics_df,\n",
    "    save=True,\n",
    ")\n",
    "final_output"
   ]
  },
  {
   "cell_type": "code",
   "execution_count": null,
   "id": "8b80a1ff",
   "metadata": {
    "papermill": {
     "duration": 0.03227,
     "end_time": "2025-08-19T18:50:22.010574",
     "exception": false,
     "start_time": "2025-08-19T18:50:21.978304",
     "status": "completed"
    },
    "tags": []
   },
   "outputs": [],
   "source": []
  },
  {
   "cell_type": "code",
   "execution_count": null,
   "id": "275c9fad",
   "metadata": {
    "papermill": {
     "duration": 0.031263,
     "end_time": "2025-08-19T18:50:22.073903",
     "exception": false,
     "start_time": "2025-08-19T18:50:22.042640",
     "status": "completed"
    },
    "tags": []
   },
   "outputs": [],
   "source": []
  }
 ],
 "metadata": {
  "celltoolbar": "Tags",
  "kernelspec": {
   "display_name": "Python (CMA Fairness)",
   "language": "python",
   "name": "cma_fair_env"
  },
  "language_info": {
   "codemirror_mode": {
    "name": "ipython",
    "version": 3
   },
   "file_extension": ".py",
   "mimetype": "text/x-python",
   "name": "python",
   "nbconvert_exporter": "python",
   "pygments_lexer": "ipython3",
   "version": "3.10.12"
  },
  "papermill": {
   "default_parameters": {},
   "duration": 33.13888,
   "end_time": "2025-08-19T18:50:23.035624",
   "environment_variables": {},
   "exception": null,
   "input_path": "universe_analysis.ipynb",
   "output_path": "output/runs/3/notebooks/m_3-fb342841803b10b2bc2a9204520c4b57.ipynb",
   "parameters": {
    "output_dir": "output",
    "run_no": "3",
    "seed": "2023",
    "universe": "{\"cutoff\": [\"quantile_0.1\", \"quantile_0.25\"], \"eval_fairness_grouping\": [\"majority-minority\", \"nationality-all\"], \"exclude_features\": \"nationality-sex\", \"exclude_subgroups\": \"drop-non-german\", \"model\": \"penalized_logreg\", \"scale\": \"scale\", \"training_size\": \"1k\", \"training_year\": \"2014\"}",
    "universe_id": "fb342841803b10b2bc2a9204520c4b57"
   },
   "start_time": "2025-08-19T18:49:49.896744",
   "version": "2.6.0"
  }
 },
 "nbformat": 4,
 "nbformat_minor": 5
}