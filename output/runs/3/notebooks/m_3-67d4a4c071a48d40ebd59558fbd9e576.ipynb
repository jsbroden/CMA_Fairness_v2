{
 "cells": [
  {
   "cell_type": "markdown",
   "id": "ef23dbb3",
   "metadata": {
    "papermill": {
     "duration": 0.009024,
     "end_time": "2025-08-19T18:56:46.024663",
     "exception": false,
     "start_time": "2025-08-19T18:56:46.015639",
     "status": "completed"
    },
    "tags": []
   },
   "source": [
    "# Setup"
   ]
  },
  {
   "cell_type": "code",
   "execution_count": 1,
   "id": "0bc8e7dc",
   "metadata": {
    "execution": {
     "iopub.execute_input": "2025-08-19T18:56:46.044192Z",
     "iopub.status.busy": "2025-08-19T18:56:46.043659Z",
     "iopub.status.idle": "2025-08-19T18:56:46.053825Z",
     "shell.execute_reply": "2025-08-19T18:56:46.052990Z"
    },
    "papermill": {
     "duration": 0.021948,
     "end_time": "2025-08-19T18:56:46.055363",
     "exception": false,
     "start_time": "2025-08-19T18:56:46.033415",
     "status": "completed"
    },
    "tags": []
   },
   "outputs": [
    {
     "name": "stdout",
     "output_type": "stream",
     "text": [
      "/dss/dsshome1/0C/ra93lal2/cma/CMA_Fairness_v2\n"
     ]
    },
    {
     "name": "stderr",
     "output_type": "stream",
     "text": [
      "/dss/dsshome1/0C/ra93lal2/.local/share/virtualenvs/CMA_Fairness_v2-3j10GkSs/lib/python3.10/site-packages/IPython/core/magics/osm.py:393: UserWarning: This is now an optional IPython functionality, using bookmarks requires you to install the `pickleshare` library.\n",
      "  bkms = self.shell.db.get('bookmarks', {})\n",
      "/dss/dsshome1/0C/ra93lal2/.local/share/virtualenvs/CMA_Fairness_v2-3j10GkSs/lib/python3.10/site-packages/IPython/core/magics/osm.py:417: UserWarning: This is now an optional IPython functionality, setting dhist requires you to install the `pickleshare` library.\n",
      "  self.shell.db['dhist'] = compress_dhist(dhist)[-100:]\n"
     ]
    }
   ],
   "source": [
    "%cd ~/cma/CMA_Fairness_v2"
   ]
  },
  {
   "cell_type": "markdown",
   "id": "9d235661",
   "metadata": {
    "papermill": {
     "duration": 0.008887,
     "end_time": "2025-08-19T18:56:46.075373",
     "exception": false,
     "start_time": "2025-08-19T18:56:46.066486",
     "status": "completed"
    },
    "tags": []
   },
   "source": [
    "The following cell holds the definition of our parameters, these values can be overriden by rendering the with e.g. the following command:\n",
    "\n",
    "papermill -p alpha 0.2 -p ratio 0.3 universe_analysis.ipynb output/test_run.ipynb"
   ]
  },
  {
   "cell_type": "code",
   "execution_count": 2,
   "id": "4a789d8e",
   "metadata": {
    "execution": {
     "iopub.execute_input": "2025-08-19T18:56:46.094736Z",
     "iopub.status.busy": "2025-08-19T18:56:46.094236Z",
     "iopub.status.idle": "2025-08-19T18:56:46.099087Z",
     "shell.execute_reply": "2025-08-19T18:56:46.098250Z"
    },
    "papermill": {
     "duration": 0.016153,
     "end_time": "2025-08-19T18:56:46.100347",
     "exception": false,
     "start_time": "2025-08-19T18:56:46.084194",
     "status": "completed"
    },
    "tags": []
   },
   "outputs": [
    {
     "name": "stdout",
     "output_type": "stream",
     "text": [
      "Current working directory: /dss/dsshome1/0C/ra93lal2/cma/CMA_Fairness_v2\n"
     ]
    }
   ],
   "source": [
    "import os\n",
    "print(\"Current working directory:\", os.getcwd())"
   ]
  },
  {
   "cell_type": "code",
   "execution_count": 3,
   "id": "4132aaed",
   "metadata": {
    "execution": {
     "iopub.execute_input": "2025-08-19T18:56:46.120148Z",
     "iopub.status.busy": "2025-08-19T18:56:46.119672Z",
     "iopub.status.idle": "2025-08-19T18:56:46.124716Z",
     "shell.execute_reply": "2025-08-19T18:56:46.123901Z"
    },
    "papermill": {
     "duration": 0.016438,
     "end_time": "2025-08-19T18:56:46.125934",
     "exception": false,
     "start_time": "2025-08-19T18:56:46.109496",
     "status": "completed"
    },
    "tags": [
     "parameters"
    ]
   },
   "outputs": [],
   "source": [
    "run_no = 0\n",
    "universe_id = \"test\"\n",
    "universe = {\n",
    "    \"training_size\": \"5k\", # \"25k\", \"5k\", \"1k\"\n",
    "    \"training_year\": \"2012_14\", # \"2014\", \"2012_14\", \"2010_14\"\n",
    "    \"scale\": \"scale\", # \"scale\", \"do-not-scale\",\n",
    "    \"model\": \"elasticnet\", # \"logreg\", \"penalized_logreg\", \"rf\", \"gbm\", \"elasticnet\"\n",
    "    \"cutoff\": [\"quantile_0.15\", \"quantile_0.30\"],\n",
    "    \"exclude_features\": \"age\", # \"none\", \"nationality\", \"sex\", \"nationality-sex\", \"age\"\n",
    "    \"exclude_subgroups\": \"drop-non-german\", # \"keep-all\", \"drop-non-german\"\n",
    "    \"eval_fairness_grouping\": [\"majority-minority\", \"nationality-all\"]\n",
    "}\n",
    "\n",
    "output_dir=\"./output\"\n",
    "seed=0"
   ]
  },
  {
   "cell_type": "code",
   "execution_count": 4,
   "id": "532d0764",
   "metadata": {
    "execution": {
     "iopub.execute_input": "2025-08-19T18:56:46.146871Z",
     "iopub.status.busy": "2025-08-19T18:56:46.145855Z",
     "iopub.status.idle": "2025-08-19T18:56:46.151226Z",
     "shell.execute_reply": "2025-08-19T18:56:46.150167Z"
    },
    "papermill": {
     "duration": 0.017109,
     "end_time": "2025-08-19T18:56:46.152460",
     "exception": false,
     "start_time": "2025-08-19T18:56:46.135351",
     "status": "completed"
    },
    "tags": [
     "injected-parameters"
    ]
   },
   "outputs": [],
   "source": [
    "# Parameters\n",
    "universe_id = \"67d4a4c071a48d40ebd59558fbd9e576\"\n",
    "run_no = \"3\"\n",
    "universe = \"{\\\"cutoff\\\": [\\\"quantile_0.1\\\", \\\"quantile_0.25\\\"], \\\"eval_fairness_grouping\\\": [\\\"majority-minority\\\", \\\"nationality-all\\\"], \\\"exclude_features\\\": \\\"nationality\\\", \\\"exclude_subgroups\\\": \\\"drop-non-german\\\", \\\"model\\\": \\\"logreg\\\", \\\"scale\\\": \\\"scale\\\", \\\"training_size\\\": \\\"1k\\\", \\\"training_year\\\": \\\"2012_14\\\"}\"\n",
    "output_dir = \"output\"\n",
    "seed = \"2023\"\n"
   ]
  },
  {
   "cell_type": "code",
   "execution_count": 5,
   "id": "a5d7941f",
   "metadata": {
    "execution": {
     "iopub.execute_input": "2025-08-19T18:56:46.183140Z",
     "iopub.status.busy": "2025-08-19T18:56:46.182633Z",
     "iopub.status.idle": "2025-08-19T18:56:46.187383Z",
     "shell.execute_reply": "2025-08-19T18:56:46.186583Z"
    },
    "papermill": {
     "duration": 0.023369,
     "end_time": "2025-08-19T18:56:46.190079",
     "exception": false,
     "start_time": "2025-08-19T18:56:46.166710",
     "status": "completed"
    },
    "tags": []
   },
   "outputs": [],
   "source": [
    "import json\n",
    "if isinstance(universe, str):\n",
    "    universe = json.loads(universe)"
   ]
  },
  {
   "cell_type": "code",
   "execution_count": 6,
   "id": "7076ccb1",
   "metadata": {
    "execution": {
     "iopub.execute_input": "2025-08-19T18:56:46.226698Z",
     "iopub.status.busy": "2025-08-19T18:56:46.225551Z",
     "iopub.status.idle": "2025-08-19T18:56:46.283257Z",
     "shell.execute_reply": "2025-08-19T18:56:46.282312Z"
    },
    "papermill": {
     "duration": 0.073768,
     "end_time": "2025-08-19T18:56:46.286228",
     "exception": false,
     "start_time": "2025-08-19T18:56:46.212460",
     "status": "completed"
    },
    "tags": []
   },
   "outputs": [],
   "source": [
    "# Auto-reload the custom package\n",
    "%load_ext autoreload\n",
    "%autoreload 1\n",
    "%aimport fairness_multiverse"
   ]
  },
  {
   "cell_type": "code",
   "execution_count": 7,
   "id": "94c8eb93",
   "metadata": {
    "execution": {
     "iopub.execute_input": "2025-08-19T18:56:46.327131Z",
     "iopub.status.busy": "2025-08-19T18:56:46.325699Z",
     "iopub.status.idle": "2025-08-19T18:56:48.062739Z",
     "shell.execute_reply": "2025-08-19T18:56:48.058077Z"
    },
    "papermill": {
     "duration": 1.755561,
     "end_time": "2025-08-19T18:56:48.065971",
     "exception": false,
     "start_time": "2025-08-19T18:56:46.310410",
     "status": "completed"
    },
    "tags": []
   },
   "outputs": [],
   "source": [
    "from fairness_multiverse.universe import UniverseAnalysis\n",
    "\n",
    "universe_analysis = UniverseAnalysis(\n",
    "    run_no = run_no,\n",
    "    universe_id = universe_id,\n",
    "    universe = universe,\n",
    "    output_dir=output_dir,\n",
    ")"
   ]
  },
  {
   "cell_type": "code",
   "execution_count": 8,
   "id": "2a6381cf",
   "metadata": {
    "execution": {
     "iopub.execute_input": "2025-08-19T18:56:48.105393Z",
     "iopub.status.busy": "2025-08-19T18:56:48.104722Z",
     "iopub.status.idle": "2025-08-19T18:56:48.114892Z",
     "shell.execute_reply": "2025-08-19T18:56:48.113825Z"
    },
    "papermill": {
     "duration": 0.025489,
     "end_time": "2025-08-19T18:56:48.116239",
     "exception": false,
     "start_time": "2025-08-19T18:56:48.090750",
     "status": "completed"
    },
    "tags": []
   },
   "outputs": [
    {
     "name": "stdout",
     "output_type": "stream",
     "text": [
      "Using Seed: 2023\n"
     ]
    }
   ],
   "source": [
    "import numpy as np\n",
    "parsed_seed = int(seed)\n",
    "np.random.seed(parsed_seed)\n",
    "print(f\"Using Seed: {parsed_seed}\")"
   ]
  },
  {
   "cell_type": "markdown",
   "id": "b6e958b4",
   "metadata": {
    "papermill": {
     "duration": 0.00977,
     "end_time": "2025-08-19T18:56:48.135952",
     "exception": false,
     "start_time": "2025-08-19T18:56:48.126182",
     "status": "completed"
    },
    "tags": []
   },
   "source": [
    "# Loading Data"
   ]
  },
  {
   "cell_type": "code",
   "execution_count": 9,
   "id": "98701482",
   "metadata": {
    "execution": {
     "iopub.execute_input": "2025-08-19T18:56:48.158563Z",
     "iopub.status.busy": "2025-08-19T18:56:48.157126Z",
     "iopub.status.idle": "2025-08-19T18:56:58.834959Z",
     "shell.execute_reply": "2025-08-19T18:56:58.833611Z"
    },
    "papermill": {
     "duration": 10.69088,
     "end_time": "2025-08-19T18:56:58.836796",
     "exception": false,
     "start_time": "2025-08-19T18:56:48.145916",
     "status": "completed"
    },
    "tags": []
   },
   "outputs": [
    {
     "name": "stdout",
     "output_type": "stream",
     "text": [
      "Loading SIAB data from cache: data/siab_cached.csv.gz\n"
     ]
    },
    {
     "name": "stdout",
     "output_type": "stream",
     "text": [
      "(643690, 164)\n"
     ]
    }
   ],
   "source": [
    "from pathlib import Path\n",
    "import pandas as pd\n",
    "\n",
    "# File paths\n",
    "raw_file = Path(\"data/raw/siab.csv\")\n",
    "cache_file = Path(\"data/siab_cached.csv.gz\")\n",
    "\n",
    "# Ensure cache directory exists\n",
    "cache_file.parent.mkdir(parents=True, exist_ok=True)\n",
    "\n",
    "# Load with simple caching\n",
    "if cache_file.exists():\n",
    "    print(f\"Loading SIAB data from cache: {cache_file}\")\n",
    "    siab = pd.read_csv(cache_file, compression='gzip')\n",
    "else:\n",
    "    print(f\"Cache not found. Reading raw SIAB data: {raw_file}\")\n",
    "    siab = pd.read_csv(raw_file)\n",
    "    siab.to_csv(cache_file, index=False, compression='gzip')\n",
    "    print(f\"Cached SIAB data to: {cache_file}\")\n",
    "\n",
    "print(siab.shape)"
   ]
  },
  {
   "cell_type": "code",
   "execution_count": 10,
   "id": "058d2abb",
   "metadata": {
    "execution": {
     "iopub.execute_input": "2025-08-19T18:56:58.883376Z",
     "iopub.status.busy": "2025-08-19T18:56:58.882483Z",
     "iopub.status.idle": "2025-08-19T18:56:59.089998Z",
     "shell.execute_reply": "2025-08-19T18:56:59.089099Z"
    },
    "papermill": {
     "duration": 0.243181,
     "end_time": "2025-08-19T18:56:59.092442",
     "exception": false,
     "start_time": "2025-08-19T18:56:58.849261",
     "status": "completed"
    },
    "tags": []
   },
   "outputs": [
    {
     "data": {
      "text/html": [
       "<div>\n",
       "<style scoped>\n",
       "    .dataframe tbody tr th:only-of-type {\n",
       "        vertical-align: middle;\n",
       "    }\n",
       "\n",
       "    .dataframe tbody tr th {\n",
       "        vertical-align: top;\n",
       "    }\n",
       "\n",
       "    .dataframe thead th {\n",
       "        text-align: right;\n",
       "    }\n",
       "</style>\n",
       "<table border=\"1\" class=\"dataframe\">\n",
       "  <thead>\n",
       "    <tr style=\"text-align: right;\">\n",
       "      <th></th>\n",
       "      <th>persnr</th>\n",
       "      <th>year</th>\n",
       "      <th>nrEntry</th>\n",
       "      <th>ltue</th>\n",
       "      <th>employed_before</th>\n",
       "      <th>receipt_leh_before</th>\n",
       "      <th>receipt_lhg_before</th>\n",
       "      <th>se_before</th>\n",
       "      <th>ASU_notue_seeking_before</th>\n",
       "      <th>ASU_other_before</th>\n",
       "      <th>...</th>\n",
       "      <th>minijob_tot_dur_byage</th>\n",
       "      <th>ft_tot_dur_byage</th>\n",
       "      <th>befrist_tot_dur_byage</th>\n",
       "      <th>leih_tot_dur_byage</th>\n",
       "      <th>LHG_tot_dur_byage</th>\n",
       "      <th>LEH_tot_dur_byage</th>\n",
       "      <th>almp_tot_dur_byage</th>\n",
       "      <th>almp_aw_tot_dur_byage</th>\n",
       "      <th>se_tot_dur_byage</th>\n",
       "      <th>seeking1_tot_dur_byage</th>\n",
       "    </tr>\n",
       "  </thead>\n",
       "  <tbody>\n",
       "    <tr>\n",
       "      <th>0</th>\n",
       "      <td>7</td>\n",
       "      <td>2015</td>\n",
       "      <td>1</td>\n",
       "      <td>0</td>\n",
       "      <td>1</td>\n",
       "      <td>0</td>\n",
       "      <td>0</td>\n",
       "      <td>0</td>\n",
       "      <td>1</td>\n",
       "      <td>0</td>\n",
       "      <td>...</td>\n",
       "      <td>0.000000</td>\n",
       "      <td>0.000000</td>\n",
       "      <td>15.043478</td>\n",
       "      <td>0.000000</td>\n",
       "      <td>0.000000</td>\n",
       "      <td>0.000000</td>\n",
       "      <td>0.000000</td>\n",
       "      <td>0.000000</td>\n",
       "      <td>0.000000</td>\n",
       "      <td>0.000000</td>\n",
       "    </tr>\n",
       "    <tr>\n",
       "      <th>1</th>\n",
       "      <td>18</td>\n",
       "      <td>2010</td>\n",
       "      <td>1</td>\n",
       "      <td>1</td>\n",
       "      <td>0</td>\n",
       "      <td>0</td>\n",
       "      <td>0</td>\n",
       "      <td>0</td>\n",
       "      <td>0</td>\n",
       "      <td>0</td>\n",
       "      <td>...</td>\n",
       "      <td>0.000000</td>\n",
       "      <td>0.000000</td>\n",
       "      <td>0.000000</td>\n",
       "      <td>0.000000</td>\n",
       "      <td>0.000000</td>\n",
       "      <td>0.000000</td>\n",
       "      <td>0.000000</td>\n",
       "      <td>0.000000</td>\n",
       "      <td>0.000000</td>\n",
       "      <td>0.000000</td>\n",
       "    </tr>\n",
       "    <tr>\n",
       "      <th>2</th>\n",
       "      <td>18</td>\n",
       "      <td>2011</td>\n",
       "      <td>2</td>\n",
       "      <td>0</td>\n",
       "      <td>1</td>\n",
       "      <td>0</td>\n",
       "      <td>1</td>\n",
       "      <td>0</td>\n",
       "      <td>1</td>\n",
       "      <td>0</td>\n",
       "      <td>...</td>\n",
       "      <td>2.714286</td>\n",
       "      <td>2.714286</td>\n",
       "      <td>0.000000</td>\n",
       "      <td>0.000000</td>\n",
       "      <td>10.775510</td>\n",
       "      <td>0.000000</td>\n",
       "      <td>8.367347</td>\n",
       "      <td>0.000000</td>\n",
       "      <td>0.000000</td>\n",
       "      <td>9.836735</td>\n",
       "    </tr>\n",
       "    <tr>\n",
       "      <th>3</th>\n",
       "      <td>18</td>\n",
       "      <td>2012</td>\n",
       "      <td>3</td>\n",
       "      <td>0</td>\n",
       "      <td>1</td>\n",
       "      <td>0</td>\n",
       "      <td>1</td>\n",
       "      <td>0</td>\n",
       "      <td>1</td>\n",
       "      <td>0</td>\n",
       "      <td>...</td>\n",
       "      <td>4.200000</td>\n",
       "      <td>4.200000</td>\n",
       "      <td>0.000000</td>\n",
       "      <td>0.000000</td>\n",
       "      <td>12.100000</td>\n",
       "      <td>0.000000</td>\n",
       "      <td>9.400000</td>\n",
       "      <td>0.000000</td>\n",
       "      <td>0.000000</td>\n",
       "      <td>9.960000</td>\n",
       "    </tr>\n",
       "    <tr>\n",
       "      <th>4</th>\n",
       "      <td>18</td>\n",
       "      <td>2012</td>\n",
       "      <td>4</td>\n",
       "      <td>0</td>\n",
       "      <td>1</td>\n",
       "      <td>0</td>\n",
       "      <td>1</td>\n",
       "      <td>0</td>\n",
       "      <td>1</td>\n",
       "      <td>0</td>\n",
       "      <td>...</td>\n",
       "      <td>5.460000</td>\n",
       "      <td>5.460000</td>\n",
       "      <td>0.000000</td>\n",
       "      <td>0.000000</td>\n",
       "      <td>13.360000</td>\n",
       "      <td>0.000000</td>\n",
       "      <td>10.320000</td>\n",
       "      <td>0.000000</td>\n",
       "      <td>0.000000</td>\n",
       "      <td>10.280000</td>\n",
       "    </tr>\n",
       "    <tr>\n",
       "      <th>...</th>\n",
       "      <td>...</td>\n",
       "      <td>...</td>\n",
       "      <td>...</td>\n",
       "      <td>...</td>\n",
       "      <td>...</td>\n",
       "      <td>...</td>\n",
       "      <td>...</td>\n",
       "      <td>...</td>\n",
       "      <td>...</td>\n",
       "      <td>...</td>\n",
       "      <td>...</td>\n",
       "      <td>...</td>\n",
       "      <td>...</td>\n",
       "      <td>...</td>\n",
       "      <td>...</td>\n",
       "      <td>...</td>\n",
       "      <td>...</td>\n",
       "      <td>...</td>\n",
       "      <td>...</td>\n",
       "      <td>...</td>\n",
       "      <td>...</td>\n",
       "    </tr>\n",
       "    <tr>\n",
       "      <th>643685</th>\n",
       "      <td>1827860</td>\n",
       "      <td>2013</td>\n",
       "      <td>1</td>\n",
       "      <td>0</td>\n",
       "      <td>0</td>\n",
       "      <td>0</td>\n",
       "      <td>1</td>\n",
       "      <td>0</td>\n",
       "      <td>0</td>\n",
       "      <td>1</td>\n",
       "      <td>...</td>\n",
       "      <td>0.000000</td>\n",
       "      <td>0.000000</td>\n",
       "      <td>0.000000</td>\n",
       "      <td>0.000000</td>\n",
       "      <td>0.612903</td>\n",
       "      <td>0.000000</td>\n",
       "      <td>0.000000</td>\n",
       "      <td>0.000000</td>\n",
       "      <td>0.000000</td>\n",
       "      <td>0.000000</td>\n",
       "    </tr>\n",
       "    <tr>\n",
       "      <th>643686</th>\n",
       "      <td>1827860</td>\n",
       "      <td>2015</td>\n",
       "      <td>2</td>\n",
       "      <td>1</td>\n",
       "      <td>0</td>\n",
       "      <td>0</td>\n",
       "      <td>1</td>\n",
       "      <td>0</td>\n",
       "      <td>1</td>\n",
       "      <td>0</td>\n",
       "      <td>...</td>\n",
       "      <td>0.000000</td>\n",
       "      <td>0.000000</td>\n",
       "      <td>0.212121</td>\n",
       "      <td>0.212121</td>\n",
       "      <td>17.363636</td>\n",
       "      <td>0.000000</td>\n",
       "      <td>8.909091</td>\n",
       "      <td>0.000000</td>\n",
       "      <td>0.000000</td>\n",
       "      <td>7.121212</td>\n",
       "    </tr>\n",
       "    <tr>\n",
       "      <th>643687</th>\n",
       "      <td>1827860</td>\n",
       "      <td>2016</td>\n",
       "      <td>3</td>\n",
       "      <td>1</td>\n",
       "      <td>0</td>\n",
       "      <td>0</td>\n",
       "      <td>1</td>\n",
       "      <td>1</td>\n",
       "      <td>0</td>\n",
       "      <td>1</td>\n",
       "      <td>...</td>\n",
       "      <td>0.000000</td>\n",
       "      <td>0.000000</td>\n",
       "      <td>0.294118</td>\n",
       "      <td>0.205882</td>\n",
       "      <td>34.705882</td>\n",
       "      <td>0.000000</td>\n",
       "      <td>10.352941</td>\n",
       "      <td>1.705882</td>\n",
       "      <td>1.705882</td>\n",
       "      <td>23.911765</td>\n",
       "    </tr>\n",
       "    <tr>\n",
       "      <th>643688</th>\n",
       "      <td>1827869</td>\n",
       "      <td>2013</td>\n",
       "      <td>1</td>\n",
       "      <td>1</td>\n",
       "      <td>1</td>\n",
       "      <td>0</td>\n",
       "      <td>0</td>\n",
       "      <td>0</td>\n",
       "      <td>1</td>\n",
       "      <td>0</td>\n",
       "      <td>...</td>\n",
       "      <td>0.000000</td>\n",
       "      <td>0.000000</td>\n",
       "      <td>0.000000</td>\n",
       "      <td>0.000000</td>\n",
       "      <td>0.000000</td>\n",
       "      <td>0.525424</td>\n",
       "      <td>0.000000</td>\n",
       "      <td>0.000000</td>\n",
       "      <td>0.000000</td>\n",
       "      <td>0.000000</td>\n",
       "    </tr>\n",
       "    <tr>\n",
       "      <th>643689</th>\n",
       "      <td>1827869</td>\n",
       "      <td>2014</td>\n",
       "      <td>2</td>\n",
       "      <td>0</td>\n",
       "      <td>0</td>\n",
       "      <td>1</td>\n",
       "      <td>0</td>\n",
       "      <td>0</td>\n",
       "      <td>1</td>\n",
       "      <td>0</td>\n",
       "      <td>...</td>\n",
       "      <td>0.000000</td>\n",
       "      <td>0.666667</td>\n",
       "      <td>0.666667</td>\n",
       "      <td>0.000000</td>\n",
       "      <td>0.000000</td>\n",
       "      <td>8.950000</td>\n",
       "      <td>1.033333</td>\n",
       "      <td>0.083333</td>\n",
       "      <td>0.083333</td>\n",
       "      <td>8.133333</td>\n",
       "    </tr>\n",
       "  </tbody>\n",
       "</table>\n",
       "<p>643690 rows × 164 columns</p>\n",
       "</div>"
      ],
      "text/plain": [
       "         persnr  year  nrEntry  ltue  employed_before  receipt_leh_before  \\\n",
       "0             7  2015        1     0                1                   0   \n",
       "1            18  2010        1     1                0                   0   \n",
       "2            18  2011        2     0                1                   0   \n",
       "3            18  2012        3     0                1                   0   \n",
       "4            18  2012        4     0                1                   0   \n",
       "...         ...   ...      ...   ...              ...                 ...   \n",
       "643685  1827860  2013        1     0                0                   0   \n",
       "643686  1827860  2015        2     1                0                   0   \n",
       "643687  1827860  2016        3     1                0                   0   \n",
       "643688  1827869  2013        1     1                1                   0   \n",
       "643689  1827869  2014        2     0                0                   1   \n",
       "\n",
       "        receipt_lhg_before  se_before  ASU_notue_seeking_before  \\\n",
       "0                        0          0                         1   \n",
       "1                        0          0                         0   \n",
       "2                        1          0                         1   \n",
       "3                        1          0                         1   \n",
       "4                        1          0                         1   \n",
       "...                    ...        ...                       ...   \n",
       "643685                   1          0                         0   \n",
       "643686                   1          0                         1   \n",
       "643687                   1          1                         0   \n",
       "643688                   0          0                         1   \n",
       "643689                   0          0                         1   \n",
       "\n",
       "        ASU_other_before  ...  minijob_tot_dur_byage  ft_tot_dur_byage  \\\n",
       "0                      0  ...               0.000000          0.000000   \n",
       "1                      0  ...               0.000000          0.000000   \n",
       "2                      0  ...               2.714286          2.714286   \n",
       "3                      0  ...               4.200000          4.200000   \n",
       "4                      0  ...               5.460000          5.460000   \n",
       "...                  ...  ...                    ...               ...   \n",
       "643685                 1  ...               0.000000          0.000000   \n",
       "643686                 0  ...               0.000000          0.000000   \n",
       "643687                 1  ...               0.000000          0.000000   \n",
       "643688                 0  ...               0.000000          0.000000   \n",
       "643689                 0  ...               0.000000          0.666667   \n",
       "\n",
       "        befrist_tot_dur_byage  leih_tot_dur_byage  LHG_tot_dur_byage  \\\n",
       "0                   15.043478            0.000000           0.000000   \n",
       "1                    0.000000            0.000000           0.000000   \n",
       "2                    0.000000            0.000000          10.775510   \n",
       "3                    0.000000            0.000000          12.100000   \n",
       "4                    0.000000            0.000000          13.360000   \n",
       "...                       ...                 ...                ...   \n",
       "643685               0.000000            0.000000           0.612903   \n",
       "643686               0.212121            0.212121          17.363636   \n",
       "643687               0.294118            0.205882          34.705882   \n",
       "643688               0.000000            0.000000           0.000000   \n",
       "643689               0.666667            0.000000           0.000000   \n",
       "\n",
       "        LEH_tot_dur_byage  almp_tot_dur_byage  almp_aw_tot_dur_byage  \\\n",
       "0                0.000000            0.000000               0.000000   \n",
       "1                0.000000            0.000000               0.000000   \n",
       "2                0.000000            8.367347               0.000000   \n",
       "3                0.000000            9.400000               0.000000   \n",
       "4                0.000000           10.320000               0.000000   \n",
       "...                   ...                 ...                    ...   \n",
       "643685           0.000000            0.000000               0.000000   \n",
       "643686           0.000000            8.909091               0.000000   \n",
       "643687           0.000000           10.352941               1.705882   \n",
       "643688           0.525424            0.000000               0.000000   \n",
       "643689           8.950000            1.033333               0.083333   \n",
       "\n",
       "        se_tot_dur_byage  seeking1_tot_dur_byage  \n",
       "0               0.000000                0.000000  \n",
       "1               0.000000                0.000000  \n",
       "2               0.000000                9.836735  \n",
       "3               0.000000                9.960000  \n",
       "4               0.000000               10.280000  \n",
       "...                  ...                     ...  \n",
       "643685          0.000000                0.000000  \n",
       "643686          0.000000                7.121212  \n",
       "643687          1.705882               23.911765  \n",
       "643688          0.000000                0.000000  \n",
       "643689          0.083333                8.133333  \n",
       "\n",
       "[643690 rows x 164 columns]"
      ]
     },
     "execution_count": 10,
     "metadata": {},
     "output_type": "execute_result"
    }
   ],
   "source": [
    "siab"
   ]
  },
  {
   "cell_type": "markdown",
   "id": "1f87e805",
   "metadata": {
    "papermill": {
     "duration": 0.010261,
     "end_time": "2025-08-19T18:56:59.119764",
     "exception": false,
     "start_time": "2025-08-19T18:56:59.109503",
     "status": "completed"
    },
    "tags": []
   },
   "source": [
    "# Splitting Data and Setting Training Data Size"
   ]
  },
  {
   "cell_type": "code",
   "execution_count": 11,
   "id": "910ae358",
   "metadata": {
    "execution": {
     "iopub.execute_input": "2025-08-19T18:56:59.145088Z",
     "iopub.status.busy": "2025-08-19T18:56:59.144014Z",
     "iopub.status.idle": "2025-08-19T18:56:59.795445Z",
     "shell.execute_reply": "2025-08-19T18:56:59.794569Z"
    },
    "papermill": {
     "duration": 0.665897,
     "end_time": "2025-08-19T18:56:59.797341",
     "exception": false,
     "start_time": "2025-08-19T18:56:59.131444",
     "status": "completed"
    },
    "tags": []
   },
   "outputs": [],
   "source": [
    "from fairness_multiverse.universe import sample_by_year_size\n",
    "\n",
    "siab_train = sample_by_year_size(siab,\n",
    "                               training_year=universe[\"training_year\"],\n",
    "                               training_size=universe[\"training_size\"])"
   ]
  },
  {
   "cell_type": "code",
   "execution_count": 12,
   "id": "919c8ff5",
   "metadata": {
    "execution": {
     "iopub.execute_input": "2025-08-19T18:56:59.819916Z",
     "iopub.status.busy": "2025-08-19T18:56:59.819434Z",
     "iopub.status.idle": "2025-08-19T18:56:59.825377Z",
     "shell.execute_reply": "2025-08-19T18:56:59.824592Z"
    },
    "papermill": {
     "duration": 0.021159,
     "end_time": "2025-08-19T18:56:59.829223",
     "exception": false,
     "start_time": "2025-08-19T18:56:59.808064",
     "status": "completed"
    },
    "tags": []
   },
   "outputs": [
    {
     "data": {
      "text/plain": [
       "(1000, 164)"
      ]
     },
     "execution_count": 12,
     "metadata": {},
     "output_type": "execute_result"
    }
   ],
   "source": [
    "siab_train.shape"
   ]
  },
  {
   "cell_type": "code",
   "execution_count": 13,
   "id": "feb13bf4",
   "metadata": {
    "execution": {
     "iopub.execute_input": "2025-08-19T18:56:59.863193Z",
     "iopub.status.busy": "2025-08-19T18:56:59.862102Z",
     "iopub.status.idle": "2025-08-19T18:56:59.878072Z",
     "shell.execute_reply": "2025-08-19T18:56:59.876551Z"
    },
    "papermill": {
     "duration": 0.030164,
     "end_time": "2025-08-19T18:56:59.879644",
     "exception": false,
     "start_time": "2025-08-19T18:56:59.849480",
     "status": "completed"
    },
    "tags": []
   },
   "outputs": [
    {
     "data": {
      "text/plain": [
       "year\n",
       "2012    334\n",
       "2013    333\n",
       "2014    333\n",
       "dtype: int64"
      ]
     },
     "metadata": {},
     "output_type": "display_data"
    }
   ],
   "source": [
    "display(siab_train.groupby(\"year\").size())"
   ]
  },
  {
   "cell_type": "code",
   "execution_count": 14,
   "id": "0997782f",
   "metadata": {
    "execution": {
     "iopub.execute_input": "2025-08-19T18:56:59.908608Z",
     "iopub.status.busy": "2025-08-19T18:56:59.907435Z",
     "iopub.status.idle": "2025-08-19T18:57:00.232330Z",
     "shell.execute_reply": "2025-08-19T18:57:00.230982Z"
    },
    "papermill": {
     "duration": 0.338934,
     "end_time": "2025-08-19T18:57:00.233920",
     "exception": false,
     "start_time": "2025-08-19T18:56:59.894986",
     "status": "completed"
    },
    "tags": []
   },
   "outputs": [],
   "source": [
    "#siab_train = siab_s[siab_s.year < 2015]\n",
    "siab_calib = siab[siab.year == 2015]\n",
    "siab_test = siab[siab.year == 2016]"
   ]
  },
  {
   "cell_type": "code",
   "execution_count": 15,
   "id": "2c1e4012",
   "metadata": {
    "execution": {
     "iopub.execute_input": "2025-08-19T18:57:00.257408Z",
     "iopub.status.busy": "2025-08-19T18:57:00.256257Z",
     "iopub.status.idle": "2025-08-19T18:57:00.264178Z",
     "shell.execute_reply": "2025-08-19T18:57:00.262755Z"
    },
    "papermill": {
     "duration": 0.021441,
     "end_time": "2025-08-19T18:57:00.265848",
     "exception": false,
     "start_time": "2025-08-19T18:57:00.244407",
     "status": "completed"
    },
    "tags": []
   },
   "outputs": [],
   "source": [
    "#siab_calib.shape"
   ]
  },
  {
   "cell_type": "code",
   "execution_count": 16,
   "id": "f66b54ca",
   "metadata": {
    "execution": {
     "iopub.execute_input": "2025-08-19T18:57:00.291624Z",
     "iopub.status.busy": "2025-08-19T18:57:00.290442Z",
     "iopub.status.idle": "2025-08-19T18:57:00.298759Z",
     "shell.execute_reply": "2025-08-19T18:57:00.297012Z"
    },
    "papermill": {
     "duration": 0.02175,
     "end_time": "2025-08-19T18:57:00.300659",
     "exception": false,
     "start_time": "2025-08-19T18:57:00.278909",
     "status": "completed"
    },
    "tags": []
   },
   "outputs": [],
   "source": [
    "#siab_test.shape"
   ]
  },
  {
   "cell_type": "code",
   "execution_count": 17,
   "id": "27e4384d",
   "metadata": {
    "execution": {
     "iopub.execute_input": "2025-08-19T18:57:00.327333Z",
     "iopub.status.busy": "2025-08-19T18:57:00.326163Z",
     "iopub.status.idle": "2025-08-19T18:57:00.339339Z",
     "shell.execute_reply": "2025-08-19T18:57:00.337552Z"
    },
    "papermill": {
     "duration": 0.027484,
     "end_time": "2025-08-19T18:57:00.341290",
     "exception": false,
     "start_time": "2025-08-19T18:57:00.313806",
     "status": "completed"
    },
    "tags": []
   },
   "outputs": [],
   "source": [
    "X_train = siab_train.iloc[:,4:164]\n",
    "y_train = siab_train.iloc[:, [3]]"
   ]
  },
  {
   "cell_type": "code",
   "execution_count": 18,
   "id": "08ee8389",
   "metadata": {
    "execution": {
     "iopub.execute_input": "2025-08-19T18:57:00.371165Z",
     "iopub.status.busy": "2025-08-19T18:57:00.367237Z",
     "iopub.status.idle": "2025-08-19T18:57:00.440532Z",
     "shell.execute_reply": "2025-08-19T18:57:00.439542Z"
    },
    "papermill": {
     "duration": 0.088596,
     "end_time": "2025-08-19T18:57:00.443423",
     "exception": false,
     "start_time": "2025-08-19T18:57:00.354827",
     "status": "completed"
    },
    "tags": []
   },
   "outputs": [],
   "source": [
    "X_calib = siab_calib.iloc[:,4:164]\n",
    "y_calib = siab_calib.iloc[:, [3]]"
   ]
  },
  {
   "cell_type": "code",
   "execution_count": 19,
   "id": "b7ff42e0",
   "metadata": {
    "execution": {
     "iopub.execute_input": "2025-08-19T18:57:00.483532Z",
     "iopub.status.busy": "2025-08-19T18:57:00.482435Z",
     "iopub.status.idle": "2025-08-19T18:57:00.552323Z",
     "shell.execute_reply": "2025-08-19T18:57:00.551566Z"
    },
    "papermill": {
     "duration": 0.087747,
     "end_time": "2025-08-19T18:57:00.555678",
     "exception": false,
     "start_time": "2025-08-19T18:57:00.467931",
     "status": "completed"
    },
    "tags": []
   },
   "outputs": [],
   "source": [
    "X_test = siab_test.iloc[:,4:164]\n",
    "y_true = siab_test.iloc[:, [3]]"
   ]
  },
  {
   "cell_type": "code",
   "execution_count": 20,
   "id": "0275101e",
   "metadata": {
    "execution": {
     "iopub.execute_input": "2025-08-19T18:57:00.595137Z",
     "iopub.status.busy": "2025-08-19T18:57:00.593982Z",
     "iopub.status.idle": "2025-08-19T18:57:00.715697Z",
     "shell.execute_reply": "2025-08-19T18:57:00.714977Z"
    },
    "papermill": {
     "duration": 0.138389,
     "end_time": "2025-08-19T18:57:00.718430",
     "exception": false,
     "start_time": "2025-08-19T18:57:00.580041",
     "status": "completed"
    },
    "tags": []
   },
   "outputs": [],
   "source": [
    "# Auxiliary data needed downstream in the pipeline\n",
    "\n",
    "org_train = X_train.copy()\n",
    "org_test = X_test.copy()\n",
    "org_calib = X_calib.copy()"
   ]
  },
  {
   "cell_type": "markdown",
   "id": "b461e618",
   "metadata": {
    "papermill": {
     "duration": 0.01272,
     "end_time": "2025-08-19T18:57:00.756259",
     "exception": false,
     "start_time": "2025-08-19T18:57:00.743539",
     "status": "completed"
    },
    "tags": []
   },
   "source": [
    "# Preprocessing Data"
   ]
  },
  {
   "cell_type": "code",
   "execution_count": 21,
   "id": "78e74c4b",
   "metadata": {
    "execution": {
     "iopub.execute_input": "2025-08-19T18:57:00.779504Z",
     "iopub.status.busy": "2025-08-19T18:57:00.778282Z",
     "iopub.status.idle": "2025-08-19T18:57:00.788657Z",
     "shell.execute_reply": "2025-08-19T18:57:00.787173Z"
    },
    "papermill": {
     "duration": 0.023867,
     "end_time": "2025-08-19T18:57:00.790333",
     "exception": false,
     "start_time": "2025-08-19T18:57:00.766466",
     "status": "completed"
    },
    "tags": []
   },
   "outputs": [],
   "source": [
    "# EXCLUDE PROTECTED FEATURES\n",
    "# --------------------------\n",
    "\n",
    "excluded_features = universe[\"exclude_features\"].split(\"-\")\n",
    "excluded_features_dictionary = {\n",
    "    \"nationality\": [\"maxdeutsch1\", \"maxdeutsch.Missing.\"],\n",
    "    \"sex\": [\"frau1\"],\n",
    "    \"age\": [\"age\"],\n",
    "}"
   ]
  },
  {
   "cell_type": "code",
   "execution_count": 22,
   "id": "f8e63555",
   "metadata": {
    "execution": {
     "iopub.execute_input": "2025-08-19T18:57:00.829056Z",
     "iopub.status.busy": "2025-08-19T18:57:00.827896Z",
     "iopub.status.idle": "2025-08-19T18:57:00.837217Z",
     "shell.execute_reply": "2025-08-19T18:57:00.835804Z"
    },
    "papermill": {
     "duration": 0.02345,
     "end_time": "2025-08-19T18:57:00.838577",
     "exception": false,
     "start_time": "2025-08-19T18:57:00.815127",
     "status": "completed"
    },
    "tags": []
   },
   "outputs": [],
   "source": [
    "excluded_features_columns = [\n",
    "    excluded_features_dictionary[f] for f in excluded_features if len(f) > 0 and f != \"none\"\n",
    "]"
   ]
  },
  {
   "cell_type": "code",
   "execution_count": 23,
   "id": "da781f7c",
   "metadata": {
    "execution": {
     "iopub.execute_input": "2025-08-19T18:57:00.862303Z",
     "iopub.status.busy": "2025-08-19T18:57:00.861075Z",
     "iopub.status.idle": "2025-08-19T18:57:00.867731Z",
     "shell.execute_reply": "2025-08-19T18:57:00.866803Z"
    },
    "papermill": {
     "duration": 0.022259,
     "end_time": "2025-08-19T18:57:00.871664",
     "exception": false,
     "start_time": "2025-08-19T18:57:00.849405",
     "status": "completed"
    },
    "tags": []
   },
   "outputs": [],
   "source": [
    "from fairness_multiverse.universe import flatten_once\n",
    "\n",
    "excluded_features_columns = flatten_once(excluded_features_columns)"
   ]
  },
  {
   "cell_type": "code",
   "execution_count": 24,
   "id": "37fef0f0",
   "metadata": {
    "execution": {
     "iopub.execute_input": "2025-08-19T18:57:00.903972Z",
     "iopub.status.busy": "2025-08-19T18:57:00.897205Z",
     "iopub.status.idle": "2025-08-19T18:57:00.916144Z",
     "shell.execute_reply": "2025-08-19T18:57:00.915089Z"
    },
    "papermill": {
     "duration": 0.032588,
     "end_time": "2025-08-19T18:57:00.917503",
     "exception": false,
     "start_time": "2025-08-19T18:57:00.884915",
     "status": "completed"
    },
    "tags": []
   },
   "outputs": [
    {
     "name": "stdout",
     "output_type": "stream",
     "text": [
      "Dropping features: ['maxdeutsch1', 'maxdeutsch.Missing.']\n"
     ]
    }
   ],
   "source": [
    "if len(excluded_features_columns) > 0:\n",
    "    print(f\"Dropping features: {excluded_features_columns}\")\n",
    "    X_train.drop(excluded_features_columns, axis=1, inplace=True)"
   ]
  },
  {
   "cell_type": "code",
   "execution_count": 25,
   "id": "d029e3e9",
   "metadata": {
    "execution": {
     "iopub.execute_input": "2025-08-19T18:57:01.013836Z",
     "iopub.status.busy": "2025-08-19T18:57:01.013325Z",
     "iopub.status.idle": "2025-08-19T18:57:01.069002Z",
     "shell.execute_reply": "2025-08-19T18:57:01.067580Z"
    },
    "papermill": {
     "duration": 0.143881,
     "end_time": "2025-08-19T18:57:01.071992",
     "exception": false,
     "start_time": "2025-08-19T18:57:00.928111",
     "status": "completed"
    },
    "tags": []
   },
   "outputs": [
    {
     "name": "stdout",
     "output_type": "stream",
     "text": [
      "Dropping features: ['maxdeutsch1', 'maxdeutsch.Missing.']\n"
     ]
    }
   ],
   "source": [
    "if len(excluded_features_columns) > 0:\n",
    "    print(f\"Dropping features: {excluded_features_columns}\")\n",
    "    X_test.drop(excluded_features_columns, axis=1, inplace=True)"
   ]
  },
  {
   "cell_type": "code",
   "execution_count": 26,
   "id": "01d571f0",
   "metadata": {
    "execution": {
     "iopub.execute_input": "2025-08-19T18:57:01.123048Z",
     "iopub.status.busy": "2025-08-19T18:57:01.121760Z",
     "iopub.status.idle": "2025-08-19T18:57:01.182177Z",
     "shell.execute_reply": "2025-08-19T18:57:01.181486Z"
    },
    "papermill": {
     "duration": 0.090896,
     "end_time": "2025-08-19T18:57:01.184932",
     "exception": false,
     "start_time": "2025-08-19T18:57:01.094036",
     "status": "completed"
    },
    "tags": []
   },
   "outputs": [
    {
     "name": "stdout",
     "output_type": "stream",
     "text": [
      "Dropping features: ['maxdeutsch1', 'maxdeutsch.Missing.']\n"
     ]
    }
   ],
   "source": [
    "if len(excluded_features_columns) > 0:\n",
    "    print(f\"Dropping features: {excluded_features_columns}\")\n",
    "    X_calib.drop(excluded_features_columns, axis=1, inplace=True)"
   ]
  },
  {
   "cell_type": "code",
   "execution_count": 27,
   "id": "3037356e",
   "metadata": {
    "execution": {
     "iopub.execute_input": "2025-08-19T18:57:01.228278Z",
     "iopub.status.busy": "2025-08-19T18:57:01.226605Z",
     "iopub.status.idle": "2025-08-19T18:57:01.235174Z",
     "shell.execute_reply": "2025-08-19T18:57:01.233812Z"
    },
    "papermill": {
     "duration": 0.026249,
     "end_time": "2025-08-19T18:57:01.236619",
     "exception": false,
     "start_time": "2025-08-19T18:57:01.210370",
     "status": "completed"
    },
    "tags": []
   },
   "outputs": [],
   "source": [
    "# EXCLUDE CERTAIN SUBGROUPS\n",
    "# -------------------------\n",
    "\n",
    "mode = universe.get(\"exclude_subgroups\", \"keep-all\") # Defaults to \"keep-all\" if the key is missing."
   ]
  },
  {
   "cell_type": "code",
   "execution_count": 28,
   "id": "9d1e63fd",
   "metadata": {
    "execution": {
     "iopub.execute_input": "2025-08-19T18:57:01.263836Z",
     "iopub.status.busy": "2025-08-19T18:57:01.262677Z",
     "iopub.status.idle": "2025-08-19T18:57:01.275293Z",
     "shell.execute_reply": "2025-08-19T18:57:01.274172Z"
    },
    "papermill": {
     "duration": 0.026967,
     "end_time": "2025-08-19T18:57:01.276972",
     "exception": false,
     "start_time": "2025-08-19T18:57:01.250005",
     "status": "completed"
    },
    "tags": []
   },
   "outputs": [],
   "source": [
    "if mode == \"keep-all\":\n",
    "    keep_mask = pd.Series(True, index=org_train.index)\n",
    "\n",
    "elif mode == \"drop-non-german\":\n",
    "    keep_mask = (org_train[\"maxdeutsch1\"] == 1) & (org_train[\"maxdeutsch.Missing.\"] == 0)\n",
    "\n",
    "else:\n",
    "    raise ValueError(f\"Unsupported mode for exclude_subgroups: {mode}\")"
   ]
  },
  {
   "cell_type": "code",
   "execution_count": 29,
   "id": "d3b65474",
   "metadata": {
    "execution": {
     "iopub.execute_input": "2025-08-19T18:57:01.314915Z",
     "iopub.status.busy": "2025-08-19T18:57:01.313091Z",
     "iopub.status.idle": "2025-08-19T18:57:01.328320Z",
     "shell.execute_reply": "2025-08-19T18:57:01.327099Z"
    },
    "papermill": {
     "duration": 0.036222,
     "end_time": "2025-08-19T18:57:01.332030",
     "exception": false,
     "start_time": "2025-08-19T18:57:01.295808",
     "status": "completed"
    },
    "tags": []
   },
   "outputs": [
    {
     "name": "stdout",
     "output_type": "stream",
     "text": [
      "Dropping 147 rows (14.70%) where mode='drop-non-german'\n"
     ]
    }
   ],
   "source": [
    "n_drop = (~keep_mask).sum() # Calculates how many rows are set to be dropped\n",
    "if n_drop > 0:\n",
    "    pct = n_drop / len(keep_mask) * 100\n",
    "    print(f\"Dropping {n_drop} rows ({pct:.2f}%) where mode='{mode}'\")"
   ]
  },
  {
   "cell_type": "code",
   "execution_count": 30,
   "id": "f44389b3",
   "metadata": {
    "execution": {
     "iopub.execute_input": "2025-08-19T18:57:01.360531Z",
     "iopub.status.busy": "2025-08-19T18:57:01.360050Z",
     "iopub.status.idle": "2025-08-19T18:57:01.365448Z",
     "shell.execute_reply": "2025-08-19T18:57:01.364795Z"
    },
    "papermill": {
     "duration": 0.019751,
     "end_time": "2025-08-19T18:57:01.367194",
     "exception": false,
     "start_time": "2025-08-19T18:57:01.347443",
     "status": "completed"
    },
    "tags": []
   },
   "outputs": [],
   "source": [
    "X_train = X_train[keep_mask]"
   ]
  },
  {
   "cell_type": "code",
   "execution_count": 31,
   "id": "ceca8c2a",
   "metadata": {
    "execution": {
     "iopub.execute_input": "2025-08-19T18:57:01.391916Z",
     "iopub.status.busy": "2025-08-19T18:57:01.391461Z",
     "iopub.status.idle": "2025-08-19T18:57:01.396456Z",
     "shell.execute_reply": "2025-08-19T18:57:01.395831Z"
    },
    "papermill": {
     "duration": 0.019057,
     "end_time": "2025-08-19T18:57:01.398149",
     "exception": false,
     "start_time": "2025-08-19T18:57:01.379092",
     "status": "completed"
    },
    "tags": []
   },
   "outputs": [],
   "source": [
    "y_train = y_train[keep_mask]"
   ]
  },
  {
   "cell_type": "markdown",
   "id": "04d31e2f",
   "metadata": {
    "papermill": {
     "duration": 0.011452,
     "end_time": "2025-08-19T18:57:01.421236",
     "exception": false,
     "start_time": "2025-08-19T18:57:01.409784",
     "status": "completed"
    },
    "tags": []
   },
   "source": [
    "# Model Training"
   ]
  },
  {
   "cell_type": "code",
   "execution_count": 32,
   "id": "db991733",
   "metadata": {
    "execution": {
     "iopub.execute_input": "2025-08-19T18:57:01.445522Z",
     "iopub.status.busy": "2025-08-19T18:57:01.445053Z",
     "iopub.status.idle": "2025-08-19T18:57:01.543753Z",
     "shell.execute_reply": "2025-08-19T18:57:01.543074Z"
    },
    "papermill": {
     "duration": 0.113148,
     "end_time": "2025-08-19T18:57:01.545557",
     "exception": false,
     "start_time": "2025-08-19T18:57:01.432409",
     "status": "completed"
    },
    "tags": []
   },
   "outputs": [],
   "source": [
    "from sklearn.linear_model import LogisticRegression\n",
    "from sklearn.ensemble import GradientBoostingClassifier, RandomForestClassifier\n",
    "\n",
    "if (universe[\"model\"] == \"logreg\"):\n",
    "    model = LogisticRegression() #penalty=\"none\", solver=\"newton-cg\", max_iter=1)\n",
    "elif (universe[\"model\"] == \"penalized_logreg\"):\n",
    "    model = LogisticRegression(penalty=\"l2\", C=0.1) #, solver=\"newton-cg\", max_iter=1)\n",
    "elif (universe[\"model\"] == \"rf\"):\n",
    "    model = RandomForestClassifier() # n_estimators=100, n_jobs=-1\n",
    "elif (universe[\"model\"] == \"gbm\"):\n",
    "    model = GradientBoostingClassifier()\n",
    "elif (universe[\"model\"] == \"elasticnet\"):\n",
    "    model = LogisticRegression(penalty = 'elasticnet', solver = 'saga', l1_ratio = 0.5) # max_iter=5000\n",
    "else:\n",
    "    raise \"Unsupported universe.model\""
   ]
  },
  {
   "cell_type": "code",
   "execution_count": 33,
   "id": "a4b5cd25",
   "metadata": {
    "execution": {
     "iopub.execute_input": "2025-08-19T18:57:01.575016Z",
     "iopub.status.busy": "2025-08-19T18:57:01.569942Z",
     "iopub.status.idle": "2025-08-19T18:57:01.585164Z",
     "shell.execute_reply": "2025-08-19T18:57:01.583656Z"
    },
    "papermill": {
     "duration": 0.029238,
     "end_time": "2025-08-19T18:57:01.586739",
     "exception": false,
     "start_time": "2025-08-19T18:57:01.557501",
     "status": "completed"
    },
    "tags": []
   },
   "outputs": [],
   "source": [
    "from sklearn.pipeline import Pipeline\n",
    "from sklearn.preprocessing import StandardScaler\n",
    "\n",
    "model = Pipeline([\n",
    "    #(\"continuous_processor\", continuous_processor),\n",
    "    #(\"categorical_preprocessor\", categorical_preprocessor),\n",
    "    (\"scale\", StandardScaler() if universe[\"scale\"] == \"scale\" else None), \n",
    "    (\"model\", model),\n",
    "])"
   ]
  },
  {
   "cell_type": "code",
   "execution_count": 34,
   "id": "283a904d",
   "metadata": {
    "execution": {
     "iopub.execute_input": "2025-08-19T18:57:01.611509Z",
     "iopub.status.busy": "2025-08-19T18:57:01.610875Z",
     "iopub.status.idle": "2025-08-19T18:57:01.673020Z",
     "shell.execute_reply": "2025-08-19T18:57:01.671927Z"
    },
    "papermill": {
     "duration": 0.081027,
     "end_time": "2025-08-19T18:57:01.679406",
     "exception": false,
     "start_time": "2025-08-19T18:57:01.598379",
     "status": "completed"
    },
    "tags": []
   },
   "outputs": [
    {
     "name": "stderr",
     "output_type": "stream",
     "text": [
      "/dss/dsshome1/0C/ra93lal2/.local/share/virtualenvs/CMA_Fairness_v2-3j10GkSs/lib/python3.10/site-packages/sklearn/linear_model/_logistic.py:444: ConvergenceWarning: lbfgs failed to converge (status=1):\n",
      "STOP: TOTAL NO. of ITERATIONS REACHED LIMIT.\n",
      "\n",
      "Increase the number of iterations (max_iter) or scale the data as shown in:\n",
      "    https://scikit-learn.org/stable/modules/preprocessing.html\n",
      "Please also refer to the documentation for alternative solver options:\n",
      "    https://scikit-learn.org/stable/modules/linear_model.html#logistic-regression\n",
      "  n_iter_i = _check_optimize_result(\n"
     ]
    },
    {
     "data": {
      "text/html": [
       "<style>#sk-container-id-1 {color: black;background-color: white;}#sk-container-id-1 pre{padding: 0;}#sk-container-id-1 div.sk-toggleable {background-color: white;}#sk-container-id-1 label.sk-toggleable__label {cursor: pointer;display: block;width: 100%;margin-bottom: 0;padding: 0.3em;box-sizing: border-box;text-align: center;}#sk-container-id-1 label.sk-toggleable__label-arrow:before {content: \"▸\";float: left;margin-right: 0.25em;color: #696969;}#sk-container-id-1 label.sk-toggleable__label-arrow:hover:before {color: black;}#sk-container-id-1 div.sk-estimator:hover label.sk-toggleable__label-arrow:before {color: black;}#sk-container-id-1 div.sk-toggleable__content {max-height: 0;max-width: 0;overflow: hidden;text-align: left;background-color: #f0f8ff;}#sk-container-id-1 div.sk-toggleable__content pre {margin: 0.2em;color: black;border-radius: 0.25em;background-color: #f0f8ff;}#sk-container-id-1 input.sk-toggleable__control:checked~div.sk-toggleable__content {max-height: 200px;max-width: 100%;overflow: auto;}#sk-container-id-1 input.sk-toggleable__control:checked~label.sk-toggleable__label-arrow:before {content: \"▾\";}#sk-container-id-1 div.sk-estimator input.sk-toggleable__control:checked~label.sk-toggleable__label {background-color: #d4ebff;}#sk-container-id-1 div.sk-label input.sk-toggleable__control:checked~label.sk-toggleable__label {background-color: #d4ebff;}#sk-container-id-1 input.sk-hidden--visually {border: 0;clip: rect(1px 1px 1px 1px);clip: rect(1px, 1px, 1px, 1px);height: 1px;margin: -1px;overflow: hidden;padding: 0;position: absolute;width: 1px;}#sk-container-id-1 div.sk-estimator {font-family: monospace;background-color: #f0f8ff;border: 1px dotted black;border-radius: 0.25em;box-sizing: border-box;margin-bottom: 0.5em;}#sk-container-id-1 div.sk-estimator:hover {background-color: #d4ebff;}#sk-container-id-1 div.sk-parallel-item::after {content: \"\";width: 100%;border-bottom: 1px solid gray;flex-grow: 1;}#sk-container-id-1 div.sk-label:hover label.sk-toggleable__label {background-color: #d4ebff;}#sk-container-id-1 div.sk-serial::before {content: \"\";position: absolute;border-left: 1px solid gray;box-sizing: border-box;top: 0;bottom: 0;left: 50%;z-index: 0;}#sk-container-id-1 div.sk-serial {display: flex;flex-direction: column;align-items: center;background-color: white;padding-right: 0.2em;padding-left: 0.2em;position: relative;}#sk-container-id-1 div.sk-item {position: relative;z-index: 1;}#sk-container-id-1 div.sk-parallel {display: flex;align-items: stretch;justify-content: center;background-color: white;position: relative;}#sk-container-id-1 div.sk-item::before, #sk-container-id-1 div.sk-parallel-item::before {content: \"\";position: absolute;border-left: 1px solid gray;box-sizing: border-box;top: 0;bottom: 0;left: 50%;z-index: -1;}#sk-container-id-1 div.sk-parallel-item {display: flex;flex-direction: column;z-index: 1;position: relative;background-color: white;}#sk-container-id-1 div.sk-parallel-item:first-child::after {align-self: flex-end;width: 50%;}#sk-container-id-1 div.sk-parallel-item:last-child::after {align-self: flex-start;width: 50%;}#sk-container-id-1 div.sk-parallel-item:only-child::after {width: 0;}#sk-container-id-1 div.sk-dashed-wrapped {border: 1px dashed gray;margin: 0 0.4em 0.5em 0.4em;box-sizing: border-box;padding-bottom: 0.4em;background-color: white;}#sk-container-id-1 div.sk-label label {font-family: monospace;font-weight: bold;display: inline-block;line-height: 1.2em;}#sk-container-id-1 div.sk-label-container {text-align: center;}#sk-container-id-1 div.sk-container {/* jupyter's `normalize.less` sets `[hidden] { display: none; }` but bootstrap.min.css set `[hidden] { display: none !important; }` so we also need the `!important` here to be able to override the default hidden behavior on the sphinx rendered scikit-learn.org. See: https://github.com/scikit-learn/scikit-learn/issues/21755 */display: inline-block !important;position: relative;}#sk-container-id-1 div.sk-text-repr-fallback {display: none;}</style><div id=\"sk-container-id-1\" class=\"sk-top-container\"><div class=\"sk-text-repr-fallback\"><pre>Pipeline(steps=[(&#x27;scale&#x27;, StandardScaler()), (&#x27;model&#x27;, LogisticRegression())])</pre><b>In a Jupyter environment, please rerun this cell to show the HTML representation or trust the notebook. <br />On GitHub, the HTML representation is unable to render, please try loading this page with nbviewer.org.</b></div><div class=\"sk-container\" hidden><div class=\"sk-item sk-dashed-wrapped\"><div class=\"sk-label-container\"><div class=\"sk-label sk-toggleable\"><input class=\"sk-toggleable__control sk-hidden--visually\" id=\"sk-estimator-id-1\" type=\"checkbox\" ><label for=\"sk-estimator-id-1\" class=\"sk-toggleable__label sk-toggleable__label-arrow\">Pipeline</label><div class=\"sk-toggleable__content\"><pre>Pipeline(steps=[(&#x27;scale&#x27;, StandardScaler()), (&#x27;model&#x27;, LogisticRegression())])</pre></div></div></div><div class=\"sk-serial\"><div class=\"sk-item\"><div class=\"sk-estimator sk-toggleable\"><input class=\"sk-toggleable__control sk-hidden--visually\" id=\"sk-estimator-id-2\" type=\"checkbox\" ><label for=\"sk-estimator-id-2\" class=\"sk-toggleable__label sk-toggleable__label-arrow\">StandardScaler</label><div class=\"sk-toggleable__content\"><pre>StandardScaler()</pre></div></div></div><div class=\"sk-item\"><div class=\"sk-estimator sk-toggleable\"><input class=\"sk-toggleable__control sk-hidden--visually\" id=\"sk-estimator-id-3\" type=\"checkbox\" ><label for=\"sk-estimator-id-3\" class=\"sk-toggleable__label sk-toggleable__label-arrow\">LogisticRegression</label><div class=\"sk-toggleable__content\"><pre>LogisticRegression()</pre></div></div></div></div></div></div></div>"
      ],
      "text/plain": [
       "Pipeline(steps=[('scale', StandardScaler()), ('model', LogisticRegression())])"
      ]
     },
     "execution_count": 34,
     "metadata": {},
     "output_type": "execute_result"
    }
   ],
   "source": [
    "model.fit(X_train, y_train.values.ravel())"
   ]
  },
  {
   "cell_type": "code",
   "execution_count": 35,
   "id": "6e15e313",
   "metadata": {
    "execution": {
     "iopub.execute_input": "2025-08-19T18:57:01.714995Z",
     "iopub.status.busy": "2025-08-19T18:57:01.713944Z",
     "iopub.status.idle": "2025-08-19T18:57:01.922898Z",
     "shell.execute_reply": "2025-08-19T18:57:01.918709Z"
    },
    "papermill": {
     "duration": 0.223859,
     "end_time": "2025-08-19T18:57:01.924137",
     "exception": false,
     "start_time": "2025-08-19T18:57:01.700278",
     "status": "completed"
    },
    "tags": []
   },
   "outputs": [
    {
     "data": {
      "text/plain": [
       "0.8166648088284472"
      ]
     },
     "execution_count": 35,
     "metadata": {},
     "output_type": "execute_result"
    }
   ],
   "source": [
    "from fairness_multiverse.universe import predict_w_threshold\n",
    "\n",
    "probs_test = model.predict_proba(X_test)\n",
    "\n",
    "'''\n",
    "Below code returns a boolean array (or binary 0/1 array depending on how it’s used) where each element \n",
    "is True if the probability of class 1 is greater than or equal to the threshold, and False otherwise.\n",
    "'''\n",
    "y_pred_default = predict_w_threshold(probs_test, 0.5)\n",
    "\n",
    "from sklearn.metrics import accuracy_score\n",
    "\n",
    "# Naive prediction\n",
    "accuracy_score(y_true = y_true, y_pred = y_pred_default)"
   ]
  },
  {
   "cell_type": "code",
   "execution_count": 36,
   "id": "6f14067c",
   "metadata": {
    "execution": {
     "iopub.execute_input": "2025-08-19T18:57:01.951585Z",
     "iopub.status.busy": "2025-08-19T18:57:01.951098Z",
     "iopub.status.idle": "2025-08-19T18:57:02.140716Z",
     "shell.execute_reply": "2025-08-19T18:57:02.139959Z"
    },
    "papermill": {
     "duration": 0.20447,
     "end_time": "2025-08-19T18:57:02.142137",
     "exception": false,
     "start_time": "2025-08-19T18:57:01.937667",
     "status": "completed"
    },
    "tags": []
   },
   "outputs": [
    {
     "data": {
      "text/plain": [
       "array([0, 0, 1, ..., 0, 0, 0])"
      ]
     },
     "execution_count": 36,
     "metadata": {},
     "output_type": "execute_result"
    }
   ],
   "source": [
    "model.predict(X_test)"
   ]
  },
  {
   "cell_type": "markdown",
   "id": "3759920c",
   "metadata": {
    "papermill": {
     "duration": 0.011311,
     "end_time": "2025-08-19T18:57:02.167417",
     "exception": false,
     "start_time": "2025-08-19T18:57:02.156106",
     "status": "completed"
    },
    "tags": []
   },
   "source": [
    "# Conformal Prediction"
   ]
  },
  {
   "cell_type": "code",
   "execution_count": 37,
   "id": "14b27f59",
   "metadata": {
    "execution": {
     "iopub.execute_input": "2025-08-19T18:57:02.192763Z",
     "iopub.status.busy": "2025-08-19T18:57:02.191552Z",
     "iopub.status.idle": "2025-08-19T18:57:02.198907Z",
     "shell.execute_reply": "2025-08-19T18:57:02.197531Z"
    },
    "papermill": {
     "duration": 0.021653,
     "end_time": "2025-08-19T18:57:02.200285",
     "exception": false,
     "start_time": "2025-08-19T18:57:02.178632",
     "status": "completed"
    },
    "tags": []
   },
   "outputs": [],
   "source": [
    "# Miscoverage level for conformal prediction (10% allowed error rate => 90% target coverage)\n",
    "alpha = 0.1"
   ]
  },
  {
   "cell_type": "code",
   "execution_count": 38,
   "id": "59102472",
   "metadata": {
    "execution": {
     "iopub.execute_input": "2025-08-19T18:57:02.228125Z",
     "iopub.status.busy": "2025-08-19T18:57:02.226989Z",
     "iopub.status.idle": "2025-08-19T18:57:02.421145Z",
     "shell.execute_reply": "2025-08-19T18:57:02.420087Z"
    },
    "papermill": {
     "duration": 0.208533,
     "end_time": "2025-08-19T18:57:02.422901",
     "exception": false,
     "start_time": "2025-08-19T18:57:02.214368",
     "status": "completed"
    },
    "tags": []
   },
   "outputs": [],
   "source": [
    "probs_calib = model.predict_proba(X_calib)"
   ]
  },
  {
   "cell_type": "code",
   "execution_count": 39,
   "id": "a792d4dd",
   "metadata": {
    "execution": {
     "iopub.execute_input": "2025-08-19T18:57:02.451785Z",
     "iopub.status.busy": "2025-08-19T18:57:02.450714Z",
     "iopub.status.idle": "2025-08-19T18:57:02.456941Z",
     "shell.execute_reply": "2025-08-19T18:57:02.455867Z"
    },
    "papermill": {
     "duration": 0.020697,
     "end_time": "2025-08-19T18:57:02.458410",
     "exception": false,
     "start_time": "2025-08-19T18:57:02.437713",
     "status": "completed"
    },
    "tags": []
   },
   "outputs": [],
   "source": [
    "y_calib = y_calib.values.ravel().astype(int)"
   ]
  },
  {
   "cell_type": "code",
   "execution_count": 40,
   "id": "650fd033",
   "metadata": {
    "execution": {
     "iopub.execute_input": "2025-08-19T18:57:02.491194Z",
     "iopub.status.busy": "2025-08-19T18:57:02.489718Z",
     "iopub.status.idle": "2025-08-19T18:57:02.502114Z",
     "shell.execute_reply": "2025-08-19T18:57:02.500978Z"
    },
    "papermill": {
     "duration": 0.036657,
     "end_time": "2025-08-19T18:57:02.512812",
     "exception": false,
     "start_time": "2025-08-19T18:57:02.476155",
     "status": "completed"
    },
    "tags": []
   },
   "outputs": [],
   "source": [
    "from fairness_multiverse.conformal import compute_nc_scores\n",
    "\n",
    "# Compute nonconformity scores on calibration set (1 - probability of true class)\n",
    "nc_scores = compute_nc_scores(probs_calib, y_calib)"
   ]
  },
  {
   "cell_type": "code",
   "execution_count": 41,
   "id": "28ada44c",
   "metadata": {
    "execution": {
     "iopub.execute_input": "2025-08-19T18:57:02.538623Z",
     "iopub.status.busy": "2025-08-19T18:57:02.538071Z",
     "iopub.status.idle": "2025-08-19T18:57:02.544952Z",
     "shell.execute_reply": "2025-08-19T18:57:02.543986Z"
    },
    "papermill": {
     "duration": 0.021168,
     "end_time": "2025-08-19T18:57:02.546343",
     "exception": false,
     "start_time": "2025-08-19T18:57:02.525175",
     "status": "completed"
    },
    "tags": []
   },
   "outputs": [],
   "source": [
    "from fairness_multiverse.conformal import find_threshold\n",
    "\n",
    "# Find conformal threshold q_hat for the given alpha (split conformal method)\n",
    "q_hat = find_threshold(nc_scores, alpha)"
   ]
  },
  {
   "cell_type": "code",
   "execution_count": 42,
   "id": "df56469e",
   "metadata": {
    "execution": {
     "iopub.execute_input": "2025-08-19T18:57:02.573199Z",
     "iopub.status.busy": "2025-08-19T18:57:02.572512Z",
     "iopub.status.idle": "2025-08-19T18:57:02.579451Z",
     "shell.execute_reply": "2025-08-19T18:57:02.578493Z"
    },
    "papermill": {
     "duration": 0.020737,
     "end_time": "2025-08-19T18:57:02.580743",
     "exception": false,
     "start_time": "2025-08-19T18:57:02.560006",
     "status": "completed"
    },
    "tags": []
   },
   "outputs": [
    {
     "data": {
      "text/plain": [
       "0.8245883956209688"
      ]
     },
     "execution_count": 42,
     "metadata": {},
     "output_type": "execute_result"
    }
   ],
   "source": [
    "q_hat"
   ]
  },
  {
   "cell_type": "code",
   "execution_count": 43,
   "id": "aa1f5faa",
   "metadata": {
    "execution": {
     "iopub.execute_input": "2025-08-19T18:57:02.607474Z",
     "iopub.status.busy": "2025-08-19T18:57:02.606245Z",
     "iopub.status.idle": "2025-08-19T18:57:03.287157Z",
     "shell.execute_reply": "2025-08-19T18:57:03.286108Z"
    },
    "papermill": {
     "duration": 0.69601,
     "end_time": "2025-08-19T18:57:03.289197",
     "exception": false,
     "start_time": "2025-08-19T18:57:02.593187",
     "status": "completed"
    },
    "tags": []
   },
   "outputs": [],
   "source": [
    "from fairness_multiverse.conformal import predict_conformal_sets\n",
    "\n",
    "# Generate prediction sets for each test example\n",
    "pred_sets = predict_conformal_sets(model, X_test, q_hat)"
   ]
  },
  {
   "cell_type": "code",
   "execution_count": 44,
   "id": "97f67a6b",
   "metadata": {
    "execution": {
     "iopub.execute_input": "2025-08-19T18:57:03.319135Z",
     "iopub.status.busy": "2025-08-19T18:57:03.318060Z",
     "iopub.status.idle": "2025-08-19T18:57:03.330046Z",
     "shell.execute_reply": "2025-08-19T18:57:03.328967Z"
    },
    "papermill": {
     "duration": 0.027712,
     "end_time": "2025-08-19T18:57:03.331402",
     "exception": false,
     "start_time": "2025-08-19T18:57:03.303690",
     "status": "completed"
    },
    "tags": []
   },
   "outputs": [],
   "source": [
    "y_true = y_true.squeeze()"
   ]
  },
  {
   "cell_type": "code",
   "execution_count": 45,
   "id": "e700e9a7",
   "metadata": {
    "execution": {
     "iopub.execute_input": "2025-08-19T18:57:03.366409Z",
     "iopub.status.busy": "2025-08-19T18:57:03.363735Z",
     "iopub.status.idle": "2025-08-19T18:57:03.891216Z",
     "shell.execute_reply": "2025-08-19T18:57:03.889959Z"
    },
    "papermill": {
     "duration": 0.546681,
     "end_time": "2025-08-19T18:57:03.893013",
     "exception": false,
     "start_time": "2025-08-19T18:57:03.346332",
     "status": "completed"
    },
    "tags": []
   },
   "outputs": [],
   "source": [
    "from fairness_multiverse.conformal import evaluate_sets\n",
    "\n",
    "# Evaluate coverage and average set size on test data\n",
    "metrics = evaluate_sets(pred_sets, y_true)"
   ]
  },
  {
   "cell_type": "markdown",
   "id": "efbacec0",
   "metadata": {
    "papermill": {
     "duration": 0.023965,
     "end_time": "2025-08-19T18:57:03.936859",
     "exception": false,
     "start_time": "2025-08-19T18:57:03.912894",
     "status": "completed"
    },
    "tags": []
   },
   "source": [
    "# CP Metrics"
   ]
  },
  {
   "cell_type": "code",
   "execution_count": 46,
   "id": "9de55fb1",
   "metadata": {
    "execution": {
     "iopub.execute_input": "2025-08-19T18:57:03.964339Z",
     "iopub.status.busy": "2025-08-19T18:57:03.963967Z",
     "iopub.status.idle": "2025-08-19T18:57:03.971552Z",
     "shell.execute_reply": "2025-08-19T18:57:03.970874Z"
    },
    "papermill": {
     "duration": 0.024053,
     "end_time": "2025-08-19T18:57:03.974634",
     "exception": false,
     "start_time": "2025-08-19T18:57:03.950581",
     "status": "completed"
    },
    "tags": []
   },
   "outputs": [
    {
     "data": {
      "text/plain": [
       "{'coverage': 0.9099320031211682, 'avg_size': 1.2758332404414223}"
      ]
     },
     "execution_count": 46,
     "metadata": {},
     "output_type": "execute_result"
    }
   ],
   "source": [
    "metrics"
   ]
  },
  {
   "cell_type": "code",
   "execution_count": 47,
   "id": "64c340a1",
   "metadata": {
    "execution": {
     "iopub.execute_input": "2025-08-19T18:57:04.013247Z",
     "iopub.status.busy": "2025-08-19T18:57:04.011737Z",
     "iopub.status.idle": "2025-08-19T18:57:04.021885Z",
     "shell.execute_reply": "2025-08-19T18:57:04.020754Z"
    },
    "papermill": {
     "duration": 0.02554,
     "end_time": "2025-08-19T18:57:04.023375",
     "exception": false,
     "start_time": "2025-08-19T18:57:03.997835",
     "status": "completed"
    },
    "tags": []
   },
   "outputs": [],
   "source": [
    "example_universe = universe.copy()\n",
    "universe_training_year = example_universe.get(\"training_year\")\n",
    "universe_training_size = example_universe.get(\"training_size\")\n",
    "universe_scale = example_universe.get(\"scale\")\n",
    "universe_model = example_universe.get(\"model\")\n",
    "universe_exclude_features = example_universe.get(\"exclude_features\")\n",
    "universe_exclude_subgroups = example_universe.get(\"exclude_subgroups\")"
   ]
  },
  {
   "cell_type": "code",
   "execution_count": 48,
   "id": "dbb53cb4",
   "metadata": {
    "execution": {
     "iopub.execute_input": "2025-08-19T18:57:04.054873Z",
     "iopub.status.busy": "2025-08-19T18:57:04.053657Z",
     "iopub.status.idle": "2025-08-19T18:57:04.063768Z",
     "shell.execute_reply": "2025-08-19T18:57:04.062501Z"
    },
    "papermill": {
     "duration": 0.025694,
     "end_time": "2025-08-19T18:57:04.065194",
     "exception": false,
     "start_time": "2025-08-19T18:57:04.039500",
     "status": "completed"
    },
    "tags": []
   },
   "outputs": [],
   "source": [
    "cp_metrics_dict = {\n",
    "    \"universe_id\": [universe_id],\n",
    "    \"universe_training_year\": [universe_training_year],\n",
    "    \"universe_training_size\": [universe_training_size],\n",
    "    \"universe_scale\": [universe_scale],\n",
    "    \"universe_model\": [universe_model],\n",
    "    \"universe_exclude_features\": [universe_exclude_features],\n",
    "    \"universe_exclude_subgroups\": [universe_exclude_subgroups],\n",
    "    \"q_hat\": [q_hat],\n",
    "    \"coverage\": [metrics[\"coverage\"]],\n",
    "    \"avg_size\": [metrics[\"avg_size\"]],\n",
    "}"
   ]
  },
  {
   "cell_type": "code",
   "execution_count": 49,
   "id": "0d70d4b2",
   "metadata": {
    "execution": {
     "iopub.execute_input": "2025-08-19T18:57:04.094791Z",
     "iopub.status.busy": "2025-08-19T18:57:04.093265Z",
     "iopub.status.idle": "2025-08-19T18:57:04.105006Z",
     "shell.execute_reply": "2025-08-19T18:57:04.103830Z"
    },
    "papermill": {
     "duration": 0.026569,
     "end_time": "2025-08-19T18:57:04.106397",
     "exception": false,
     "start_time": "2025-08-19T18:57:04.079828",
     "status": "completed"
    },
    "tags": []
   },
   "outputs": [],
   "source": [
    "cp_metrics_df = pd.DataFrame(cp_metrics_dict)"
   ]
  },
  {
   "cell_type": "code",
   "execution_count": 50,
   "id": "b494403c",
   "metadata": {
    "execution": {
     "iopub.execute_input": "2025-08-19T18:57:04.135731Z",
     "iopub.status.busy": "2025-08-19T18:57:04.134538Z",
     "iopub.status.idle": "2025-08-19T18:57:04.159794Z",
     "shell.execute_reply": "2025-08-19T18:57:04.158839Z"
    },
    "papermill": {
     "duration": 0.040416,
     "end_time": "2025-08-19T18:57:04.161485",
     "exception": false,
     "start_time": "2025-08-19T18:57:04.121069",
     "status": "completed"
    },
    "tags": []
   },
   "outputs": [
    {
     "data": {
      "text/html": [
       "<div>\n",
       "<style scoped>\n",
       "    .dataframe tbody tr th:only-of-type {\n",
       "        vertical-align: middle;\n",
       "    }\n",
       "\n",
       "    .dataframe tbody tr th {\n",
       "        vertical-align: top;\n",
       "    }\n",
       "\n",
       "    .dataframe thead th {\n",
       "        text-align: right;\n",
       "    }\n",
       "</style>\n",
       "<table border=\"1\" class=\"dataframe\">\n",
       "  <thead>\n",
       "    <tr style=\"text-align: right;\">\n",
       "      <th></th>\n",
       "      <th>universe_id</th>\n",
       "      <th>universe_training_year</th>\n",
       "      <th>universe_training_size</th>\n",
       "      <th>universe_scale</th>\n",
       "      <th>universe_model</th>\n",
       "      <th>universe_exclude_features</th>\n",
       "      <th>universe_exclude_subgroups</th>\n",
       "      <th>q_hat</th>\n",
       "      <th>coverage</th>\n",
       "      <th>avg_size</th>\n",
       "    </tr>\n",
       "  </thead>\n",
       "  <tbody>\n",
       "    <tr>\n",
       "      <th>0</th>\n",
       "      <td>67d4a4c071a48d40ebd59558fbd9e576</td>\n",
       "      <td>2012_14</td>\n",
       "      <td>1k</td>\n",
       "      <td>scale</td>\n",
       "      <td>logreg</td>\n",
       "      <td>nationality</td>\n",
       "      <td>drop-non-german</td>\n",
       "      <td>0.824588</td>\n",
       "      <td>0.909932</td>\n",
       "      <td>1.275833</td>\n",
       "    </tr>\n",
       "  </tbody>\n",
       "</table>\n",
       "</div>"
      ],
      "text/plain": [
       "                        universe_id universe_training_year  \\\n",
       "0  67d4a4c071a48d40ebd59558fbd9e576                2012_14   \n",
       "\n",
       "  universe_training_size universe_scale universe_model  \\\n",
       "0                     1k          scale         logreg   \n",
       "\n",
       "  universe_exclude_features universe_exclude_subgroups     q_hat  coverage  \\\n",
       "0               nationality            drop-non-german  0.824588  0.909932   \n",
       "\n",
       "   avg_size  \n",
       "0  1.275833  "
      ]
     },
     "execution_count": 50,
     "metadata": {},
     "output_type": "execute_result"
    }
   ],
   "source": [
    "cp_metrics_df"
   ]
  },
  {
   "cell_type": "markdown",
   "id": "ed608b0b",
   "metadata": {
    "papermill": {
     "duration": 0.012141,
     "end_time": "2025-08-19T18:57:04.191863",
     "exception": false,
     "start_time": "2025-08-19T18:57:04.179722",
     "status": "completed"
    },
    "tags": []
   },
   "source": [
    "Conditional coverage & looking at subgroups"
   ]
  },
  {
   "cell_type": "code",
   "execution_count": 51,
   "id": "8968c366",
   "metadata": {
    "execution": {
     "iopub.execute_input": "2025-08-19T18:57:04.222229Z",
     "iopub.status.busy": "2025-08-19T18:57:04.220666Z",
     "iopub.status.idle": "2025-08-19T18:57:04.521218Z",
     "shell.execute_reply": "2025-08-19T18:57:04.520100Z"
    },
    "papermill": {
     "duration": 0.320832,
     "end_time": "2025-08-19T18:57:04.524640",
     "exception": false,
     "start_time": "2025-08-19T18:57:04.203808",
     "status": "completed"
    },
    "tags": []
   },
   "outputs": [],
   "source": [
    "from fairness_multiverse.conformal import build_cp_groups\n",
    "\n",
    "cp_groups_df = build_cp_groups(pred_sets, y_true, X_test.index, org_test)"
   ]
  },
  {
   "cell_type": "code",
   "execution_count": 52,
   "id": "292ddabf",
   "metadata": {
    "execution": {
     "iopub.execute_input": "2025-08-19T18:57:04.570421Z",
     "iopub.status.busy": "2025-08-19T18:57:04.568593Z",
     "iopub.status.idle": "2025-08-19T18:57:05.464287Z",
     "shell.execute_reply": "2025-08-19T18:57:05.463106Z"
    },
    "papermill": {
     "duration": 0.914139,
     "end_time": "2025-08-19T18:57:05.467250",
     "exception": false,
     "start_time": "2025-08-19T18:57:04.553111",
     "status": "completed"
    },
    "tags": []
   },
   "outputs": [],
   "source": [
    "# Define covered = 1 if true_label is in the predicted set\n",
    "cp_groups_df['covered'] = cp_groups_df.apply(\n",
    "    lambda r: int(r['true_label'] in r['pred_set']),\n",
    "    axis=1\n",
    ")"
   ]
  },
  {
   "cell_type": "code",
   "execution_count": 53,
   "id": "3a261692",
   "metadata": {
    "execution": {
     "iopub.execute_input": "2025-08-19T18:57:05.517561Z",
     "iopub.status.busy": "2025-08-19T18:57:05.515947Z",
     "iopub.status.idle": "2025-08-19T18:57:05.539544Z",
     "shell.execute_reply": "2025-08-19T18:57:05.538650Z"
    },
    "papermill": {
     "duration": 0.044894,
     "end_time": "2025-08-19T18:57:05.541587",
     "exception": false,
     "start_time": "2025-08-19T18:57:05.496693",
     "status": "completed"
    },
    "tags": []
   },
   "outputs": [],
   "source": [
    "subgroups = ['frau1','nongerman','nongerman_male','nongerman_female']\n",
    "\n",
    "# Conditional coverage for subgroup==1\n",
    "cond_coverage = {\n",
    "    g: cp_groups_df.loc[cp_groups_df[g]==1, 'covered'].mean()\n",
    "    for g in subgroups\n",
    "}"
   ]
  },
  {
   "cell_type": "code",
   "execution_count": 54,
   "id": "894fd600",
   "metadata": {
    "execution": {
     "iopub.execute_input": "2025-08-19T18:57:05.583982Z",
     "iopub.status.busy": "2025-08-19T18:57:05.582722Z",
     "iopub.status.idle": "2025-08-19T18:57:05.594276Z",
     "shell.execute_reply": "2025-08-19T18:57:05.592930Z"
    },
    "papermill": {
     "duration": 0.028891,
     "end_time": "2025-08-19T18:57:05.596139",
     "exception": false,
     "start_time": "2025-08-19T18:57:05.567248",
     "status": "completed"
    },
    "tags": []
   },
   "outputs": [
    {
     "data": {
      "text/plain": [
       "{'frau1': 0.9006065507480793,\n",
       " 'nongerman': 0.921630270027508,\n",
       " 'nongerman_male': 0.9400162118346392,\n",
       " 'nongerman_female': 0.8912071535022354}"
      ]
     },
     "execution_count": 54,
     "metadata": {},
     "output_type": "execute_result"
    }
   ],
   "source": [
    "cond_coverage"
   ]
  },
  {
   "cell_type": "code",
   "execution_count": 55,
   "id": "942895c7",
   "metadata": {
    "execution": {
     "iopub.execute_input": "2025-08-19T18:57:05.627871Z",
     "iopub.status.busy": "2025-08-19T18:57:05.626245Z",
     "iopub.status.idle": "2025-08-19T18:57:05.637905Z",
     "shell.execute_reply": "2025-08-19T18:57:05.636858Z"
    },
    "papermill": {
     "duration": 0.027535,
     "end_time": "2025-08-19T18:57:05.639522",
     "exception": false,
     "start_time": "2025-08-19T18:57:05.611987",
     "status": "completed"
    },
    "tags": []
   },
   "outputs": [],
   "source": [
    "for subgroup, cov in cond_coverage.items():\n",
    "    cp_metrics_df[f\"cov_{subgroup}\"] = cov"
   ]
  },
  {
   "cell_type": "code",
   "execution_count": 56,
   "id": "3970120f",
   "metadata": {
    "execution": {
     "iopub.execute_input": "2025-08-19T18:57:05.672899Z",
     "iopub.status.busy": "2025-08-19T18:57:05.671468Z",
     "iopub.status.idle": "2025-08-19T18:57:05.699071Z",
     "shell.execute_reply": "2025-08-19T18:57:05.697865Z"
    },
    "papermill": {
     "duration": 0.043835,
     "end_time": "2025-08-19T18:57:05.701073",
     "exception": false,
     "start_time": "2025-08-19T18:57:05.657238",
     "status": "completed"
    },
    "tags": []
   },
   "outputs": [
    {
     "data": {
      "text/html": [
       "<div>\n",
       "<style scoped>\n",
       "    .dataframe tbody tr th:only-of-type {\n",
       "        vertical-align: middle;\n",
       "    }\n",
       "\n",
       "    .dataframe tbody tr th {\n",
       "        vertical-align: top;\n",
       "    }\n",
       "\n",
       "    .dataframe thead th {\n",
       "        text-align: right;\n",
       "    }\n",
       "</style>\n",
       "<table border=\"1\" class=\"dataframe\">\n",
       "  <thead>\n",
       "    <tr style=\"text-align: right;\">\n",
       "      <th></th>\n",
       "      <th>universe_id</th>\n",
       "      <th>universe_training_year</th>\n",
       "      <th>universe_training_size</th>\n",
       "      <th>universe_scale</th>\n",
       "      <th>universe_model</th>\n",
       "      <th>universe_exclude_features</th>\n",
       "      <th>universe_exclude_subgroups</th>\n",
       "      <th>q_hat</th>\n",
       "      <th>coverage</th>\n",
       "      <th>avg_size</th>\n",
       "      <th>cov_frau1</th>\n",
       "      <th>cov_nongerman</th>\n",
       "      <th>cov_nongerman_male</th>\n",
       "      <th>cov_nongerman_female</th>\n",
       "    </tr>\n",
       "  </thead>\n",
       "  <tbody>\n",
       "    <tr>\n",
       "      <th>0</th>\n",
       "      <td>67d4a4c071a48d40ebd59558fbd9e576</td>\n",
       "      <td>2012_14</td>\n",
       "      <td>1k</td>\n",
       "      <td>scale</td>\n",
       "      <td>logreg</td>\n",
       "      <td>nationality</td>\n",
       "      <td>drop-non-german</td>\n",
       "      <td>0.824588</td>\n",
       "      <td>0.909932</td>\n",
       "      <td>1.275833</td>\n",
       "      <td>0.900607</td>\n",
       "      <td>0.92163</td>\n",
       "      <td>0.940016</td>\n",
       "      <td>0.891207</td>\n",
       "    </tr>\n",
       "  </tbody>\n",
       "</table>\n",
       "</div>"
      ],
      "text/plain": [
       "                        universe_id universe_training_year  \\\n",
       "0  67d4a4c071a48d40ebd59558fbd9e576                2012_14   \n",
       "\n",
       "  universe_training_size universe_scale universe_model  \\\n",
       "0                     1k          scale         logreg   \n",
       "\n",
       "  universe_exclude_features universe_exclude_subgroups     q_hat  coverage  \\\n",
       "0               nationality            drop-non-german  0.824588  0.909932   \n",
       "\n",
       "   avg_size  cov_frau1  cov_nongerman  cov_nongerman_male  \\\n",
       "0  1.275833   0.900607        0.92163            0.940016   \n",
       "\n",
       "   cov_nongerman_female  \n",
       "0              0.891207  "
      ]
     },
     "execution_count": 56,
     "metadata": {},
     "output_type": "execute_result"
    }
   ],
   "source": [
    "cp_metrics_df"
   ]
  },
  {
   "cell_type": "markdown",
   "id": "3fc519cc",
   "metadata": {
    "papermill": {
     "duration": 0.013406,
     "end_time": "2025-08-19T18:57:05.735348",
     "exception": false,
     "start_time": "2025-08-19T18:57:05.721942",
     "status": "completed"
    },
    "tags": []
   },
   "source": [
    "# (Fairness) Metrics"
   ]
  },
  {
   "cell_type": "code",
   "execution_count": 57,
   "id": "a2e5e155",
   "metadata": {
    "execution": {
     "iopub.execute_input": "2025-08-19T18:57:05.764093Z",
     "iopub.status.busy": "2025-08-19T18:57:05.762656Z",
     "iopub.status.idle": "2025-08-19T18:57:05.791202Z",
     "shell.execute_reply": "2025-08-19T18:57:05.790324Z"
    },
    "papermill": {
     "duration": 0.045362,
     "end_time": "2025-08-19T18:57:05.793263",
     "exception": false,
     "start_time": "2025-08-19T18:57:05.747901",
     "status": "completed"
    },
    "tags": []
   },
   "outputs": [],
   "source": [
    "colname_to_bin = \"maxdeutsch1\"\n",
    "majority_value = org_train[colname_to_bin].mode()[0]\n",
    "\n",
    "org_test[\"majmin\"] = np.where(org_test[colname_to_bin] == majority_value, \"majority\", \"minority\")"
   ]
  },
  {
   "cell_type": "code",
   "execution_count": 58,
   "id": "17e3e4d5",
   "metadata": {
    "execution": {
     "iopub.execute_input": "2025-08-19T18:57:05.835544Z",
     "iopub.status.busy": "2025-08-19T18:57:05.834149Z",
     "iopub.status.idle": "2025-08-19T18:57:07.601527Z",
     "shell.execute_reply": "2025-08-19T18:57:07.600372Z"
    },
    "papermill": {
     "duration": 1.784764,
     "end_time": "2025-08-19T18:57:07.603098",
     "exception": false,
     "start_time": "2025-08-19T18:57:05.818334",
     "status": "completed"
    },
    "tags": []
   },
   "outputs": [],
   "source": [
    "example_universe = universe.copy()\n",
    "example_universe[\"cutoff\"] = example_universe[\"cutoff\"][0]\n",
    "example_universe[\"eval_fairness_grouping\"] = example_universe[\"eval_fairness_grouping\"][0]\n",
    "fairness_dict, metric_frame = universe_analysis.compute_metrics(\n",
    "    example_universe,\n",
    "    y_pred_prob=probs_test,\n",
    "    y_test=y_true,\n",
    "    org_test=org_test,\n",
    ")"
   ]
  },
  {
   "cell_type": "markdown",
   "id": "1fb7a0e9",
   "metadata": {
    "papermill": {
     "duration": 0.013265,
     "end_time": "2025-08-19T18:57:07.631956",
     "exception": false,
     "start_time": "2025-08-19T18:57:07.618691",
     "status": "completed"
    },
    "tags": []
   },
   "source": [
    "# Overall"
   ]
  },
  {
   "cell_type": "markdown",
   "id": "be1784b1",
   "metadata": {
    "papermill": {
     "duration": 0.012998,
     "end_time": "2025-08-19T18:57:07.657531",
     "exception": false,
     "start_time": "2025-08-19T18:57:07.644533",
     "status": "completed"
    },
    "tags": []
   },
   "source": [
    "Main fairness target: Equalized Odds. Seems to be a better fit than equal opportunity, since we're not only interested in Y = 1. Seems to be a better fit than demographic parity, since we also care about accuracy, not just equal distribution of preds.\n",
    "\n",
    "Pick column for computation of fairness metrics\n",
    "\n",
    "Performance\n",
    "Overall performance measures, most interesting in relation to the measures split by group below"
   ]
  },
  {
   "cell_type": "code",
   "execution_count": 59,
   "id": "b7672bee",
   "metadata": {
    "execution": {
     "iopub.execute_input": "2025-08-19T18:57:07.687575Z",
     "iopub.status.busy": "2025-08-19T18:57:07.686442Z",
     "iopub.status.idle": "2025-08-19T18:57:07.703627Z",
     "shell.execute_reply": "2025-08-19T18:57:07.702368Z"
    },
    "papermill": {
     "duration": 0.034801,
     "end_time": "2025-08-19T18:57:07.705227",
     "exception": false,
     "start_time": "2025-08-19T18:57:07.670426",
     "status": "completed"
    },
    "tags": []
   },
   "outputs": [
    {
     "data": {
      "text/plain": [
       "accuracy                   0.216776\n",
       "balanced accuracy          0.531640\n",
       "f1                         0.238317\n",
       "precision                  0.136142\n",
       "false positive rate        0.891883\n",
       "false negative rate        0.044838\n",
       "selection rate             0.900000\n",
       "count                  89710.000000\n",
       "dtype: float64"
      ]
     },
     "execution_count": 59,
     "metadata": {},
     "output_type": "execute_result"
    }
   ],
   "source": [
    "metric_frame.overall"
   ]
  },
  {
   "cell_type": "markdown",
   "id": "d93333c9",
   "metadata": {
    "papermill": {
     "duration": 0.013018,
     "end_time": "2025-08-19T18:57:07.737816",
     "exception": false,
     "start_time": "2025-08-19T18:57:07.724798",
     "status": "completed"
    },
    "tags": []
   },
   "source": [
    "By Group"
   ]
  },
  {
   "cell_type": "code",
   "execution_count": 60,
   "id": "52256966",
   "metadata": {
    "execution": {
     "iopub.execute_input": "2025-08-19T18:57:07.766816Z",
     "iopub.status.busy": "2025-08-19T18:57:07.765138Z",
     "iopub.status.idle": "2025-08-19T18:57:07.788707Z",
     "shell.execute_reply": "2025-08-19T18:57:07.787660Z"
    },
    "papermill": {
     "duration": 0.039444,
     "end_time": "2025-08-19T18:57:07.789910",
     "exception": false,
     "start_time": "2025-08-19T18:57:07.750466",
     "status": "completed"
    },
    "tags": []
   },
   "outputs": [
    {
     "data": {
      "text/html": [
       "<div>\n",
       "<style scoped>\n",
       "    .dataframe tbody tr th:only-of-type {\n",
       "        vertical-align: middle;\n",
       "    }\n",
       "\n",
       "    .dataframe tbody tr th {\n",
       "        vertical-align: top;\n",
       "    }\n",
       "\n",
       "    .dataframe thead th {\n",
       "        text-align: right;\n",
       "    }\n",
       "</style>\n",
       "<table border=\"1\" class=\"dataframe\">\n",
       "  <thead>\n",
       "    <tr style=\"text-align: right;\">\n",
       "      <th></th>\n",
       "      <th>accuracy</th>\n",
       "      <th>balanced accuracy</th>\n",
       "      <th>f1</th>\n",
       "      <th>precision</th>\n",
       "      <th>false positive rate</th>\n",
       "      <th>false negative rate</th>\n",
       "      <th>selection rate</th>\n",
       "      <th>count</th>\n",
       "    </tr>\n",
       "    <tr>\n",
       "      <th>majmin</th>\n",
       "      <th></th>\n",
       "      <th></th>\n",
       "      <th></th>\n",
       "      <th></th>\n",
       "      <th></th>\n",
       "      <th></th>\n",
       "      <th></th>\n",
       "      <th></th>\n",
       "    </tr>\n",
       "  </thead>\n",
       "  <tbody>\n",
       "    <tr>\n",
       "      <th>majority</th>\n",
       "      <td>0.232095</td>\n",
       "      <td>0.536580</td>\n",
       "      <td>0.246475</td>\n",
       "      <td>0.141597</td>\n",
       "      <td>0.877278</td>\n",
       "      <td>0.049562</td>\n",
       "      <td>0.886945</td>\n",
       "      <td>69170.0</td>\n",
       "    </tr>\n",
       "    <tr>\n",
       "      <th>minority</th>\n",
       "      <td>0.165190</td>\n",
       "      <td>0.516634</td>\n",
       "      <td>0.211886</td>\n",
       "      <td>0.118882</td>\n",
       "      <td>0.940128</td>\n",
       "      <td>0.026605</td>\n",
       "      <td>0.943963</td>\n",
       "      <td>20540.0</td>\n",
       "    </tr>\n",
       "  </tbody>\n",
       "</table>\n",
       "</div>"
      ],
      "text/plain": [
       "          accuracy  balanced accuracy        f1  precision  \\\n",
       "majmin                                                       \n",
       "majority  0.232095           0.536580  0.246475   0.141597   \n",
       "minority  0.165190           0.516634  0.211886   0.118882   \n",
       "\n",
       "          false positive rate  false negative rate  selection rate    count  \n",
       "majmin                                                                       \n",
       "majority             0.877278             0.049562        0.886945  69170.0  \n",
       "minority             0.940128             0.026605        0.943963  20540.0  "
      ]
     },
     "execution_count": 60,
     "metadata": {},
     "output_type": "execute_result"
    }
   ],
   "source": [
    "metric_frame.by_group"
   ]
  },
  {
   "cell_type": "code",
   "execution_count": 61,
   "id": "6e6c20ae",
   "metadata": {
    "execution": {
     "iopub.execute_input": "2025-08-19T18:57:07.835519Z",
     "iopub.status.busy": "2025-08-19T18:57:07.833525Z",
     "iopub.status.idle": "2025-08-19T18:57:09.715261Z",
     "shell.execute_reply": "2025-08-19T18:57:09.714148Z"
    },
    "papermill": {
     "duration": 1.908785,
     "end_time": "2025-08-19T18:57:09.717535",
     "exception": false,
     "start_time": "2025-08-19T18:57:07.808750",
     "status": "completed"
    },
    "tags": []
   },
   "outputs": [
    {
     "data": {
      "text/plain": [
       "array([[<Axes: title={'center': 'accuracy'}, xlabel='majmin'>,\n",
       "        <Axes: title={'center': 'balanced accuracy'}, xlabel='majmin'>,\n",
       "        <Axes: title={'center': 'f1'}, xlabel='majmin'>],\n",
       "       [<Axes: title={'center': 'precision'}, xlabel='majmin'>,\n",
       "        <Axes: title={'center': 'false positive rate'}, xlabel='majmin'>,\n",
       "        <Axes: title={'center': 'false negative rate'}, xlabel='majmin'>],\n",
       "       [<Axes: title={'center': 'selection rate'}, xlabel='majmin'>,\n",
       "        <Axes: title={'center': 'count'}, xlabel='majmin'>,\n",
       "        <Axes: xlabel='majmin'>]], dtype=object)"
      ]
     },
     "execution_count": 61,
     "metadata": {},
     "output_type": "execute_result"
    },
    {
     "data": {
      "image/png": "[encoded data removed]",
      "text/plain": [
       "<Figure size 1200x800 with 9 Axes>"
      ]
     },
     "metadata": {},
     "output_type": "display_data"
    }
   ],
   "source": [
    "# In a graphic\n",
    "metric_frame.by_group.plot.bar(\n",
    "    subplots=True,\n",
    "    layout=[3, 3],\n",
    "    legend=False,\n",
    "    figsize=[12, 8],\n",
    "    title=\"Show all metrics\",\n",
    ")"
   ]
  },
  {
   "cell_type": "markdown",
   "id": "b2e433ae",
   "metadata": {
    "papermill": {
     "duration": 0.017163,
     "end_time": "2025-08-19T18:57:09.773492",
     "exception": false,
     "start_time": "2025-08-19T18:57:09.756329",
     "status": "completed"
    },
    "tags": []
   },
   "source": [
    "# Final Output"
   ]
  },
  {
   "cell_type": "code",
   "execution_count": 62,
   "id": "3871301e",
   "metadata": {
    "execution": {
     "iopub.execute_input": "2025-08-19T18:57:09.806678Z",
     "iopub.status.busy": "2025-08-19T18:57:09.805695Z",
     "iopub.status.idle": "2025-08-19T18:57:09.816581Z",
     "shell.execute_reply": "2025-08-19T18:57:09.815792Z"
    },
    "papermill": {
     "duration": 0.030103,
     "end_time": "2025-08-19T18:57:09.818786",
     "exception": false,
     "start_time": "2025-08-19T18:57:09.788683",
     "status": "completed"
    },
    "tags": []
   },
   "outputs": [
    {
     "data": {
      "text/plain": [
       "4"
      ]
     },
     "execution_count": 62,
     "metadata": {},
     "output_type": "execute_result"
    }
   ],
   "source": [
    "sub_universes = universe_analysis.generate_sub_universes()\n",
    "len(sub_universes)"
   ]
  },
  {
   "cell_type": "code",
   "execution_count": 63,
   "id": "d9cfdaca",
   "metadata": {
    "execution": {
     "iopub.execute_input": "2025-08-19T18:57:09.880768Z",
     "iopub.status.busy": "2025-08-19T18:57:09.880303Z",
     "iopub.status.idle": "2025-08-19T18:57:09.885508Z",
     "shell.execute_reply": "2025-08-19T18:57:09.884796Z"
    },
    "papermill": {
     "duration": 0.026173,
     "end_time": "2025-08-19T18:57:09.887735",
     "exception": false,
     "start_time": "2025-08-19T18:57:09.861562",
     "status": "completed"
    },
    "tags": []
   },
   "outputs": [],
   "source": [
    "def filter_sub_universe_data(sub_universe, org_test):\n",
    "    # Keep all rows — no filtering\n",
    "    keep_rows_mask = np.ones(org_test.shape[0], dtype=bool)\n",
    "\n",
    "    print(f\"[INFO] Keeping all rows: {keep_rows_mask.sum()} rows retained.\")\n",
    "    return keep_rows_mask"
   ]
  },
  {
   "cell_type": "code",
   "execution_count": 64,
   "id": "2bc31ac1",
   "metadata": {
    "execution": {
     "iopub.execute_input": "2025-08-19T18:57:09.933103Z",
     "iopub.status.busy": "2025-08-19T18:57:09.932549Z",
     "iopub.status.idle": "2025-08-19T18:57:16.888606Z",
     "shell.execute_reply": "2025-08-19T18:57:16.887563Z"
    },
    "papermill": {
     "duration": 6.973296,
     "end_time": "2025-08-19T18:57:16.889931",
     "exception": false,
     "start_time": "2025-08-19T18:57:09.916635",
     "status": "completed"
    },
    "tags": []
   },
   "outputs": [
    {
     "name": "stdout",
     "output_type": "stream",
     "text": [
      "Stopping execution_time clock.\n",
      "[INFO] Keeping all rows: 89710 rows retained.\n"
     ]
    },
    {
     "name": "stdout",
     "output_type": "stream",
     "text": [
      "[INFO] Keeping all rows: 89710 rows retained.\n"
     ]
    },
    {
     "name": "stdout",
     "output_type": "stream",
     "text": [
      "[INFO] Keeping all rows: 89710 rows retained.\n"
     ]
    },
    {
     "name": "stdout",
     "output_type": "stream",
     "text": [
      "[INFO] Keeping all rows: 89710 rows retained.\n"
     ]
    },
    {
     "data": {
      "text/html": [
       "<div>\n",
       "<style scoped>\n",
       "    .dataframe tbody tr th:only-of-type {\n",
       "        vertical-align: middle;\n",
       "    }\n",
       "\n",
       "    .dataframe tbody tr th {\n",
       "        vertical-align: top;\n",
       "    }\n",
       "\n",
       "    .dataframe thead th {\n",
       "        text-align: right;\n",
       "    }\n",
       "</style>\n",
       "<table border=\"1\" class=\"dataframe\">\n",
       "  <thead>\n",
       "    <tr style=\"text-align: right;\">\n",
       "      <th></th>\n",
       "      <th>run_no</th>\n",
       "      <th>universe_id</th>\n",
       "      <th>universe_settings</th>\n",
       "      <th>execution_time</th>\n",
       "      <th>test_size_n</th>\n",
       "      <th>test_size_frac</th>\n",
       "      <th>fair_main_equalized_odds_difference</th>\n",
       "      <th>fair_main_equalized_odds_ratio</th>\n",
       "      <th>fair_main_demographic_parity_difference</th>\n",
       "      <th>fair_main_demographic_parity_ratio</th>\n",
       "      <th>...</th>\n",
       "      <th>perf_grp_precision_0</th>\n",
       "      <th>perf_grp_precision_1</th>\n",
       "      <th>perf_grp_false positive rate_0</th>\n",
       "      <th>perf_grp_false positive rate_1</th>\n",
       "      <th>perf_grp_false negative rate_0</th>\n",
       "      <th>perf_grp_false negative rate_1</th>\n",
       "      <th>perf_grp_selection rate_0</th>\n",
       "      <th>perf_grp_selection rate_1</th>\n",
       "      <th>perf_grp_count_0</th>\n",
       "      <th>perf_grp_count_1</th>\n",
       "    </tr>\n",
       "  </thead>\n",
       "  <tbody>\n",
       "    <tr>\n",
       "      <th>0</th>\n",
       "      <td>3</td>\n",
       "      <td>67d4a4c071a48d40ebd59558fbd9e576</td>\n",
       "      <td>{\"cutoff\": \"quantile_0.1\", \"eval_fairness_grou...</td>\n",
       "      <td>21.97701</td>\n",
       "      <td>89710</td>\n",
       "      <td>1.0</td>\n",
       "      <td>0.062850</td>\n",
       "      <td>0.933148</td>\n",
       "      <td>0.057018</td>\n",
       "      <td>0.939597</td>\n",
       "      <td>...</td>\n",
       "      <td>NaN</td>\n",
       "      <td>NaN</td>\n",
       "      <td>NaN</td>\n",
       "      <td>NaN</td>\n",
       "      <td>NaN</td>\n",
       "      <td>NaN</td>\n",
       "      <td>NaN</td>\n",
       "      <td>NaN</td>\n",
       "      <td>NaN</td>\n",
       "      <td>NaN</td>\n",
       "    </tr>\n",
       "    <tr>\n",
       "      <th>0</th>\n",
       "      <td>3</td>\n",
       "      <td>67d4a4c071a48d40ebd59558fbd9e576</td>\n",
       "      <td>{\"cutoff\": \"quantile_0.1\", \"eval_fairness_grou...</td>\n",
       "      <td>21.97701</td>\n",
       "      <td>89710</td>\n",
       "      <td>1.0</td>\n",
       "      <td>0.062850</td>\n",
       "      <td>0.933148</td>\n",
       "      <td>0.057018</td>\n",
       "      <td>0.939597</td>\n",
       "      <td>...</td>\n",
       "      <td>0.118882</td>\n",
       "      <td>0.141597</td>\n",
       "      <td>0.940128</td>\n",
       "      <td>0.877278</td>\n",
       "      <td>0.026605</td>\n",
       "      <td>0.049562</td>\n",
       "      <td>0.943963</td>\n",
       "      <td>0.886945</td>\n",
       "      <td>20540.0</td>\n",
       "      <td>69170.0</td>\n",
       "    </tr>\n",
       "    <tr>\n",
       "      <th>0</th>\n",
       "      <td>3</td>\n",
       "      <td>67d4a4c071a48d40ebd59558fbd9e576</td>\n",
       "      <td>{\"cutoff\": \"quantile_0.25\", \"eval_fairness_gro...</td>\n",
       "      <td>21.97701</td>\n",
       "      <td>89710</td>\n",
       "      <td>1.0</td>\n",
       "      <td>0.143725</td>\n",
       "      <td>0.829307</td>\n",
       "      <td>0.131660</td>\n",
       "      <td>0.845381</td>\n",
       "      <td>...</td>\n",
       "      <td>NaN</td>\n",
       "      <td>NaN</td>\n",
       "      <td>NaN</td>\n",
       "      <td>NaN</td>\n",
       "      <td>NaN</td>\n",
       "      <td>NaN</td>\n",
       "      <td>NaN</td>\n",
       "      <td>NaN</td>\n",
       "      <td>NaN</td>\n",
       "      <td>NaN</td>\n",
       "    </tr>\n",
       "    <tr>\n",
       "      <th>0</th>\n",
       "      <td>3</td>\n",
       "      <td>67d4a4c071a48d40ebd59558fbd9e576</td>\n",
       "      <td>{\"cutoff\": \"quantile_0.25\", \"eval_fairness_gro...</td>\n",
       "      <td>21.97701</td>\n",
       "      <td>89710</td>\n",
       "      <td>1.0</td>\n",
       "      <td>0.143725</td>\n",
       "      <td>0.829307</td>\n",
       "      <td>0.131660</td>\n",
       "      <td>0.845381</td>\n",
       "      <td>...</td>\n",
       "      <td>0.125157</td>\n",
       "      <td>0.158138</td>\n",
       "      <td>0.842010</td>\n",
       "      <td>0.698284</td>\n",
       "      <td>0.075591</td>\n",
       "      <td>0.138512</td>\n",
       "      <td>0.851509</td>\n",
       "      <td>0.719850</td>\n",
       "      <td>20540.0</td>\n",
       "      <td>69170.0</td>\n",
       "    </tr>\n",
       "  </tbody>\n",
       "</table>\n",
       "<p>4 rows × 50 columns</p>\n",
       "</div>"
      ],
      "text/plain": [
       "  run_no                       universe_id  \\\n",
       "0      3  67d4a4c071a48d40ebd59558fbd9e576   \n",
       "0      3  67d4a4c071a48d40ebd59558fbd9e576   \n",
       "0      3  67d4a4c071a48d40ebd59558fbd9e576   \n",
       "0      3  67d4a4c071a48d40ebd59558fbd9e576   \n",
       "\n",
       "                                   universe_settings  execution_time  \\\n",
       "0  {\"cutoff\": \"quantile_0.1\", \"eval_fairness_grou...        21.97701   \n",
       "0  {\"cutoff\": \"quantile_0.1\", \"eval_fairness_grou...        21.97701   \n",
       "0  {\"cutoff\": \"quantile_0.25\", \"eval_fairness_gro...        21.97701   \n",
       "0  {\"cutoff\": \"quantile_0.25\", \"eval_fairness_gro...        21.97701   \n",
       "\n",
       "   test_size_n  test_size_frac  fair_main_equalized_odds_difference  \\\n",
       "0        89710             1.0                             0.062850   \n",
       "0        89710             1.0                             0.062850   \n",
       "0        89710             1.0                             0.143725   \n",
       "0        89710             1.0                             0.143725   \n",
       "\n",
       "   fair_main_equalized_odds_ratio  fair_main_demographic_parity_difference  \\\n",
       "0                        0.933148                                 0.057018   \n",
       "0                        0.933148                                 0.057018   \n",
       "0                        0.829307                                 0.131660   \n",
       "0                        0.829307                                 0.131660   \n",
       "\n",
       "   fair_main_demographic_parity_ratio  ...  perf_grp_precision_0  \\\n",
       "0                            0.939597  ...                   NaN   \n",
       "0                            0.939597  ...              0.118882   \n",
       "0                            0.845381  ...                   NaN   \n",
       "0                            0.845381  ...              0.125157   \n",
       "\n",
       "   perf_grp_precision_1  perf_grp_false positive rate_0  \\\n",
       "0                   NaN                             NaN   \n",
       "0              0.141597                        0.940128   \n",
       "0                   NaN                             NaN   \n",
       "0              0.158138                        0.842010   \n",
       "\n",
       "   perf_grp_false positive rate_1  perf_grp_false negative rate_0  \\\n",
       "0                             NaN                             NaN   \n",
       "0                        0.877278                        0.026605   \n",
       "0                             NaN                             NaN   \n",
       "0                        0.698284                        0.075591   \n",
       "\n",
       "   perf_grp_false negative rate_1  perf_grp_selection rate_0  \\\n",
       "0                             NaN                        NaN   \n",
       "0                        0.049562                   0.943963   \n",
       "0                             NaN                        NaN   \n",
       "0                        0.138512                   0.851509   \n",
       "\n",
       "   perf_grp_selection rate_1  perf_grp_count_0  perf_grp_count_1  \n",
       "0                        NaN               NaN               NaN  \n",
       "0                   0.886945           20540.0           69170.0  \n",
       "0                        NaN               NaN               NaN  \n",
       "0                   0.719850           20540.0           69170.0  \n",
       "\n",
       "[4 rows x 50 columns]"
      ]
     },
     "execution_count": 64,
     "metadata": {},
     "output_type": "execute_result"
    }
   ],
   "source": [
    "final_output = universe_analysis.generate_final_output(\n",
    "    y_pred_prob=probs_test,\n",
    "    y_test=y_true,\n",
    "    org_test=org_test,\n",
    "    filter_data=filter_sub_universe_data,\n",
    "    cp_metrics_df=cp_metrics_df,\n",
    "    save=True,\n",
    ")\n",
    "final_output"
   ]
  },
  {
   "cell_type": "code",
   "execution_count": null,
   "id": "8b80a1ff",
   "metadata": {
    "papermill": {
     "duration": 0.015973,
     "end_time": "2025-08-19T18:57:16.925488",
     "exception": false,
     "start_time": "2025-08-19T18:57:16.909515",
     "status": "completed"
    },
    "tags": []
   },
   "outputs": [],
   "source": []
  },
  {
   "cell_type": "code",
   "execution_count": null,
   "id": "275c9fad",
   "metadata": {
    "papermill": {
     "duration": 0.02213,
     "end_time": "2025-08-19T18:57:16.971377",
     "exception": false,
     "start_time": "2025-08-19T18:57:16.949247",
     "status": "completed"
    },
    "tags": []
   },
   "outputs": [],
   "source": []
  }
 ],
 "metadata": {
  "celltoolbar": "Tags",
  "kernelspec": {
   "display_name": "Python (CMA Fairness)",
   "language": "python",
   "name": "cma_fair_env"
  },
  "language_info": {
   "codemirror_mode": {
    "name": "ipython",
    "version": 3
   },
   "file_extension": ".py",
   "mimetype": "text/x-python",
   "name": "python",
   "nbconvert_exporter": "python",
   "pygments_lexer": "ipython3",
   "version": "3.10.12"
  },
  "papermill": {
   "default_parameters": {},
   "duration": 32.921542,
   "end_time": "2025-08-19T18:57:17.913231",
   "environment_variables": {},
   "exception": null,
   "input_path": "universe_analysis.ipynb",
   "output_path": "output/runs/3/notebooks/m_3-67d4a4c071a48d40ebd59558fbd9e576.ipynb",
   "parameters": {
    "output_dir": "output",
    "run_no": "3",
    "seed": "2023",
    "universe": "{\"cutoff\": [\"quantile_0.1\", \"quantile_0.25\"], \"eval_fairness_grouping\": [\"majority-minority\", \"nationality-all\"], \"exclude_features\": \"nationality\", \"exclude_subgroups\": \"drop-non-german\", \"model\": \"logreg\", \"scale\": \"scale\", \"training_size\": \"1k\", \"training_year\": \"2012_14\"}",
    "universe_id": "67d4a4c071a48d40ebd59558fbd9e576"
   },
   "start_time": "2025-08-19T18:56:44.991689",
   "version": "2.6.0"
  }
 },
 "nbformat": 4,
 "nbformat_minor": 5
}