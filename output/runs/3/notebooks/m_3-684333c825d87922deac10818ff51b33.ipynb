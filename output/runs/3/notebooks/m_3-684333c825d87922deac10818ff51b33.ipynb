{
 "cells": [
  {
   "cell_type": "markdown",
   "id": "ef23dbb3",
   "metadata": {
    "papermill": {
     "duration": 0.028018,
     "end_time": "2025-08-19T18:59:23.069708",
     "exception": false,
     "start_time": "2025-08-19T18:59:23.041690",
     "status": "completed"
    },
    "tags": []
   },
   "source": [
    "# Setup"
   ]
  },
  {
   "cell_type": "code",
   "execution_count": 1,
   "id": "0bc8e7dc",
   "metadata": {
    "execution": {
     "iopub.execute_input": "2025-08-19T18:59:23.091498Z",
     "iopub.status.busy": "2025-08-19T18:59:23.090940Z",
     "iopub.status.idle": "2025-08-19T18:59:23.101697Z",
     "shell.execute_reply": "2025-08-19T18:59:23.101029Z"
    },
    "papermill": {
     "duration": 0.022537,
     "end_time": "2025-08-19T18:59:23.102922",
     "exception": false,
     "start_time": "2025-08-19T18:59:23.080385",
     "status": "completed"
    },
    "tags": []
   },
   "outputs": [
    {
     "name": "stdout",
     "output_type": "stream",
     "text": [
      "/dss/dsshome1/0C/ra93lal2/cma/CMA_Fairness_v2\n"
     ]
    },
    {
     "name": "stderr",
     "output_type": "stream",
     "text": [
      "/dss/dsshome1/0C/ra93lal2/.local/share/virtualenvs/CMA_Fairness_v2-3j10GkSs/lib/python3.10/site-packages/IPython/core/magics/osm.py:393: UserWarning: This is now an optional IPython functionality, using bookmarks requires you to install the `pickleshare` library.\n",
      "  bkms = self.shell.db.get('bookmarks', {})\n",
      "/dss/dsshome1/0C/ra93lal2/.local/share/virtualenvs/CMA_Fairness_v2-3j10GkSs/lib/python3.10/site-packages/IPython/core/magics/osm.py:417: UserWarning: This is now an optional IPython functionality, setting dhist requires you to install the `pickleshare` library.\n",
      "  self.shell.db['dhist'] = compress_dhist(dhist)[-100:]\n"
     ]
    }
   ],
   "source": [
    "%cd ~/cma/CMA_Fairness_v2"
   ]
  },
  {
   "cell_type": "markdown",
   "id": "9d235661",
   "metadata": {
    "papermill": {
     "duration": 0.009002,
     "end_time": "2025-08-19T18:59:23.121998",
     "exception": false,
     "start_time": "2025-08-19T18:59:23.112996",
     "status": "completed"
    },
    "tags": []
   },
   "source": [
    "The following cell holds the definition of our parameters, these values can be overriden by rendering the with e.g. the following command:\n",
    "\n",
    "papermill -p alpha 0.2 -p ratio 0.3 universe_analysis.ipynb output/test_run.ipynb"
   ]
  },
  {
   "cell_type": "code",
   "execution_count": 2,
   "id": "4a789d8e",
   "metadata": {
    "execution": {
     "iopub.execute_input": "2025-08-19T18:59:23.142044Z",
     "iopub.status.busy": "2025-08-19T18:59:23.141314Z",
     "iopub.status.idle": "2025-08-19T18:59:23.146583Z",
     "shell.execute_reply": "2025-08-19T18:59:23.145742Z"
    },
    "papermill": {
     "duration": 0.017234,
     "end_time": "2025-08-19T18:59:23.148073",
     "exception": false,
     "start_time": "2025-08-19T18:59:23.130839",
     "status": "completed"
    },
    "tags": []
   },
   "outputs": [
    {
     "name": "stdout",
     "output_type": "stream",
     "text": [
      "Current working directory: /dss/dsshome1/0C/ra93lal2/cma/CMA_Fairness_v2\n"
     ]
    }
   ],
   "source": [
    "import os\n",
    "print(\"Current working directory:\", os.getcwd())"
   ]
  },
  {
   "cell_type": "code",
   "execution_count": 3,
   "id": "4132aaed",
   "metadata": {
    "execution": {
     "iopub.execute_input": "2025-08-19T18:59:23.167990Z",
     "iopub.status.busy": "2025-08-19T18:59:23.167603Z",
     "iopub.status.idle": "2025-08-19T18:59:23.172326Z",
     "shell.execute_reply": "2025-08-19T18:59:23.171621Z"
    },
    "papermill": {
     "duration": 0.01612,
     "end_time": "2025-08-19T18:59:23.173515",
     "exception": false,
     "start_time": "2025-08-19T18:59:23.157395",
     "status": "completed"
    },
    "tags": [
     "parameters"
    ]
   },
   "outputs": [],
   "source": [
    "run_no = 0\n",
    "universe_id = \"test\"\n",
    "universe = {\n",
    "    \"training_size\": \"5k\", # \"25k\", \"5k\", \"1k\"\n",
    "    \"training_year\": \"2012_14\", # \"2014\", \"2012_14\", \"2010_14\"\n",
    "    \"scale\": \"scale\", # \"scale\", \"do-not-scale\",\n",
    "    \"model\": \"elasticnet\", # \"logreg\", \"penalized_logreg\", \"rf\", \"gbm\", \"elasticnet\"\n",
    "    \"cutoff\": [\"quantile_0.15\", \"quantile_0.30\"],\n",
    "    \"exclude_features\": \"age\", # \"none\", \"nationality\", \"sex\", \"nationality-sex\", \"age\"\n",
    "    \"exclude_subgroups\": \"drop-non-german\", # \"keep-all\", \"drop-non-german\"\n",
    "    \"eval_fairness_grouping\": [\"majority-minority\", \"nationality-all\"]\n",
    "}\n",
    "\n",
    "output_dir=\"./output\"\n",
    "seed=0"
   ]
  },
  {
   "cell_type": "code",
   "execution_count": 4,
   "id": "cbf62e65",
   "metadata": {
    "execution": {
     "iopub.execute_input": "2025-08-19T18:59:23.193950Z",
     "iopub.status.busy": "2025-08-19T18:59:23.193569Z",
     "iopub.status.idle": "2025-08-19T18:59:23.198609Z",
     "shell.execute_reply": "2025-08-19T18:59:23.197776Z"
    },
    "papermill": {
     "duration": 0.016841,
     "end_time": "2025-08-19T18:59:23.199788",
     "exception": false,
     "start_time": "2025-08-19T18:59:23.182947",
     "status": "completed"
    },
    "tags": [
     "injected-parameters"
    ]
   },
   "outputs": [],
   "source": [
    "# Parameters\n",
    "universe_id = \"684333c825d87922deac10818ff51b33\"\n",
    "run_no = \"3\"\n",
    "universe = \"{\\\"cutoff\\\": [\\\"quantile_0.1\\\", \\\"quantile_0.25\\\"], \\\"eval_fairness_grouping\\\": [\\\"majority-minority\\\", \\\"nationality-all\\\"], \\\"exclude_features\\\": \\\"nationality-sex\\\", \\\"exclude_subgroups\\\": \\\"drop-non-german\\\", \\\"model\\\": \\\"gbm\\\", \\\"scale\\\": \\\"scale\\\", \\\"training_size\\\": \\\"1k\\\", \\\"training_year\\\": \\\"2012_14\\\"}\"\n",
    "output_dir = \"output\"\n",
    "seed = \"2023\"\n"
   ]
  },
  {
   "cell_type": "code",
   "execution_count": 5,
   "id": "a5d7941f",
   "metadata": {
    "execution": {
     "iopub.execute_input": "2025-08-19T18:59:23.220076Z",
     "iopub.status.busy": "2025-08-19T18:59:23.219581Z",
     "iopub.status.idle": "2025-08-19T18:59:23.291951Z",
     "shell.execute_reply": "2025-08-19T18:59:23.290891Z"
    },
    "papermill": {
     "duration": 0.086111,
     "end_time": "2025-08-19T18:59:23.295108",
     "exception": false,
     "start_time": "2025-08-19T18:59:23.208997",
     "status": "completed"
    },
    "tags": []
   },
   "outputs": [],
   "source": [
    "import json\n",
    "if isinstance(universe, str):\n",
    "    universe = json.loads(universe)"
   ]
  },
  {
   "cell_type": "code",
   "execution_count": 6,
   "id": "7076ccb1",
   "metadata": {
    "execution": {
     "iopub.execute_input": "2025-08-19T18:59:23.334914Z",
     "iopub.status.busy": "2025-08-19T18:59:23.334036Z",
     "iopub.status.idle": "2025-08-19T18:59:23.368685Z",
     "shell.execute_reply": "2025-08-19T18:59:23.367920Z"
    },
    "papermill": {
     "duration": 0.050641,
     "end_time": "2025-08-19T18:59:23.370666",
     "exception": false,
     "start_time": "2025-08-19T18:59:23.320025",
     "status": "completed"
    },
    "tags": []
   },
   "outputs": [],
   "source": [
    "# Auto-reload the custom package\n",
    "%load_ext autoreload\n",
    "%autoreload 1\n",
    "%aimport fairness_multiverse"
   ]
  },
  {
   "cell_type": "code",
   "execution_count": 7,
   "id": "94c8eb93",
   "metadata": {
    "execution": {
     "iopub.execute_input": "2025-08-19T18:59:23.396454Z",
     "iopub.status.busy": "2025-08-19T18:59:23.395667Z",
     "iopub.status.idle": "2025-08-19T18:59:25.041042Z",
     "shell.execute_reply": "2025-08-19T18:59:25.039690Z"
    },
    "papermill": {
     "duration": 1.658749,
     "end_time": "2025-08-19T18:59:25.042643",
     "exception": false,
     "start_time": "2025-08-19T18:59:23.383894",
     "status": "completed"
    },
    "tags": []
   },
   "outputs": [],
   "source": [
    "from fairness_multiverse.universe import UniverseAnalysis\n",
    "\n",
    "universe_analysis = UniverseAnalysis(\n",
    "    run_no = run_no,\n",
    "    universe_id = universe_id,\n",
    "    universe = universe,\n",
    "    output_dir=output_dir,\n",
    ")"
   ]
  },
  {
   "cell_type": "code",
   "execution_count": 8,
   "id": "2a6381cf",
   "metadata": {
    "execution": {
     "iopub.execute_input": "2025-08-19T18:59:25.064297Z",
     "iopub.status.busy": "2025-08-19T18:59:25.063410Z",
     "iopub.status.idle": "2025-08-19T18:59:25.072463Z",
     "shell.execute_reply": "2025-08-19T18:59:25.070828Z"
    },
    "papermill": {
     "duration": 0.021652,
     "end_time": "2025-08-19T18:59:25.074211",
     "exception": false,
     "start_time": "2025-08-19T18:59:25.052559",
     "status": "completed"
    },
    "tags": []
   },
   "outputs": [
    {
     "name": "stdout",
     "output_type": "stream",
     "text": [
      "Using Seed: 2023\n"
     ]
    }
   ],
   "source": [
    "import numpy as np\n",
    "parsed_seed = int(seed)\n",
    "np.random.seed(parsed_seed)\n",
    "print(f\"Using Seed: {parsed_seed}\")"
   ]
  },
  {
   "cell_type": "markdown",
   "id": "b6e958b4",
   "metadata": {
    "papermill": {
     "duration": 0.009494,
     "end_time": "2025-08-19T18:59:25.094199",
     "exception": false,
     "start_time": "2025-08-19T18:59:25.084705",
     "status": "completed"
    },
    "tags": []
   },
   "source": [
    "# Loading Data"
   ]
  },
  {
   "cell_type": "code",
   "execution_count": 9,
   "id": "98701482",
   "metadata": {
    "execution": {
     "iopub.execute_input": "2025-08-19T18:59:25.116858Z",
     "iopub.status.busy": "2025-08-19T18:59:25.115567Z",
     "iopub.status.idle": "2025-08-19T18:59:35.362134Z",
     "shell.execute_reply": "2025-08-19T18:59:35.361067Z"
    },
    "papermill": {
     "duration": 10.269873,
     "end_time": "2025-08-19T18:59:35.373584",
     "exception": false,
     "start_time": "2025-08-19T18:59:25.103711",
     "status": "completed"
    },
    "tags": []
   },
   "outputs": [
    {
     "name": "stdout",
     "output_type": "stream",
     "text": [
      "Loading SIAB data from cache: data/siab_cached.csv.gz\n"
     ]
    },
    {
     "name": "stdout",
     "output_type": "stream",
     "text": [
      "(643690, 164)\n"
     ]
    }
   ],
   "source": [
    "from pathlib import Path\n",
    "import pandas as pd\n",
    "\n",
    "# File paths\n",
    "raw_file = Path(\"data/raw/siab.csv\")\n",
    "cache_file = Path(\"data/siab_cached.csv.gz\")\n",
    "\n",
    "# Ensure cache directory exists\n",
    "cache_file.parent.mkdir(parents=True, exist_ok=True)\n",
    "\n",
    "# Load with simple caching\n",
    "if cache_file.exists():\n",
    "    print(f\"Loading SIAB data from cache: {cache_file}\")\n",
    "    siab = pd.read_csv(cache_file, compression='gzip')\n",
    "else:\n",
    "    print(f\"Cache not found. Reading raw SIAB data: {raw_file}\")\n",
    "    siab = pd.read_csv(raw_file)\n",
    "    siab.to_csv(cache_file, index=False, compression='gzip')\n",
    "    print(f\"Cached SIAB data to: {cache_file}\")\n",
    "\n",
    "print(siab.shape)"
   ]
  },
  {
   "cell_type": "code",
   "execution_count": 10,
   "id": "058d2abb",
   "metadata": {
    "execution": {
     "iopub.execute_input": "2025-08-19T18:59:35.398764Z",
     "iopub.status.busy": "2025-08-19T18:59:35.397571Z",
     "iopub.status.idle": "2025-08-19T18:59:35.551620Z",
     "shell.execute_reply": "2025-08-19T18:59:35.550836Z"
    },
    "papermill": {
     "duration": 0.166978,
     "end_time": "2025-08-19T18:59:35.552987",
     "exception": false,
     "start_time": "2025-08-19T18:59:35.386009",
     "status": "completed"
    },
    "tags": []
   },
   "outputs": [
    {
     "data": {
      "text/html": [
       "<div>\n",
       "<style scoped>\n",
       "    .dataframe tbody tr th:only-of-type {\n",
       "        vertical-align: middle;\n",
       "    }\n",
       "\n",
       "    .dataframe tbody tr th {\n",
       "        vertical-align: top;\n",
       "    }\n",
       "\n",
       "    .dataframe thead th {\n",
       "        text-align: right;\n",
       "    }\n",
       "</style>\n",
       "<table border=\"1\" class=\"dataframe\">\n",
       "  <thead>\n",
       "    <tr style=\"text-align: right;\">\n",
       "      <th></th>\n",
       "      <th>persnr</th>\n",
       "      <th>year</th>\n",
       "      <th>nrEntry</th>\n",
       "      <th>ltue</th>\n",
       "      <th>employed_before</th>\n",
       "      <th>receipt_leh_before</th>\n",
       "      <th>receipt_lhg_before</th>\n",
       "      <th>se_before</th>\n",
       "      <th>ASU_notue_seeking_before</th>\n",
       "      <th>ASU_other_before</th>\n",
       "      <th>...</th>\n",
       "      <th>minijob_tot_dur_byage</th>\n",
       "      <th>ft_tot_dur_byage</th>\n",
       "      <th>befrist_tot_dur_byage</th>\n",
       "      <th>leih_tot_dur_byage</th>\n",
       "      <th>LHG_tot_dur_byage</th>\n",
       "      <th>LEH_tot_dur_byage</th>\n",
       "      <th>almp_tot_dur_byage</th>\n",
       "      <th>almp_aw_tot_dur_byage</th>\n",
       "      <th>se_tot_dur_byage</th>\n",
       "      <th>seeking1_tot_dur_byage</th>\n",
       "    </tr>\n",
       "  </thead>\n",
       "  <tbody>\n",
       "    <tr>\n",
       "      <th>0</th>\n",
       "      <td>7</td>\n",
       "      <td>2015</td>\n",
       "      <td>1</td>\n",
       "      <td>0</td>\n",
       "      <td>1</td>\n",
       "      <td>0</td>\n",
       "      <td>0</td>\n",
       "      <td>0</td>\n",
       "      <td>1</td>\n",
       "      <td>0</td>\n",
       "      <td>...</td>\n",
       "      <td>0.000000</td>\n",
       "      <td>0.000000</td>\n",
       "      <td>15.043478</td>\n",
       "      <td>0.000000</td>\n",
       "      <td>0.000000</td>\n",
       "      <td>0.000000</td>\n",
       "      <td>0.000000</td>\n",
       "      <td>0.000000</td>\n",
       "      <td>0.000000</td>\n",
       "      <td>0.000000</td>\n",
       "    </tr>\n",
       "    <tr>\n",
       "      <th>1</th>\n",
       "      <td>18</td>\n",
       "      <td>2010</td>\n",
       "      <td>1</td>\n",
       "      <td>1</td>\n",
       "      <td>0</td>\n",
       "      <td>0</td>\n",
       "      <td>0</td>\n",
       "      <td>0</td>\n",
       "      <td>0</td>\n",
       "      <td>0</td>\n",
       "      <td>...</td>\n",
       "      <td>0.000000</td>\n",
       "      <td>0.000000</td>\n",
       "      <td>0.000000</td>\n",
       "      <td>0.000000</td>\n",
       "      <td>0.000000</td>\n",
       "      <td>0.000000</td>\n",
       "      <td>0.000000</td>\n",
       "      <td>0.000000</td>\n",
       "      <td>0.000000</td>\n",
       "      <td>0.000000</td>\n",
       "    </tr>\n",
       "    <tr>\n",
       "      <th>2</th>\n",
       "      <td>18</td>\n",
       "      <td>2011</td>\n",
       "      <td>2</td>\n",
       "      <td>0</td>\n",
       "      <td>1</td>\n",
       "      <td>0</td>\n",
       "      <td>1</td>\n",
       "      <td>0</td>\n",
       "      <td>1</td>\n",
       "      <td>0</td>\n",
       "      <td>...</td>\n",
       "      <td>2.714286</td>\n",
       "      <td>2.714286</td>\n",
       "      <td>0.000000</td>\n",
       "      <td>0.000000</td>\n",
       "      <td>10.775510</td>\n",
       "      <td>0.000000</td>\n",
       "      <td>8.367347</td>\n",
       "      <td>0.000000</td>\n",
       "      <td>0.000000</td>\n",
       "      <td>9.836735</td>\n",
       "    </tr>\n",
       "    <tr>\n",
       "      <th>3</th>\n",
       "      <td>18</td>\n",
       "      <td>2012</td>\n",
       "      <td>3</td>\n",
       "      <td>0</td>\n",
       "      <td>1</td>\n",
       "      <td>0</td>\n",
       "      <td>1</td>\n",
       "      <td>0</td>\n",
       "      <td>1</td>\n",
       "      <td>0</td>\n",
       "      <td>...</td>\n",
       "      <td>4.200000</td>\n",
       "      <td>4.200000</td>\n",
       "      <td>0.000000</td>\n",
       "      <td>0.000000</td>\n",
       "      <td>12.100000</td>\n",
       "      <td>0.000000</td>\n",
       "      <td>9.400000</td>\n",
       "      <td>0.000000</td>\n",
       "      <td>0.000000</td>\n",
       "      <td>9.960000</td>\n",
       "    </tr>\n",
       "    <tr>\n",
       "      <th>4</th>\n",
       "      <td>18</td>\n",
       "      <td>2012</td>\n",
       "      <td>4</td>\n",
       "      <td>0</td>\n",
       "      <td>1</td>\n",
       "      <td>0</td>\n",
       "      <td>1</td>\n",
       "      <td>0</td>\n",
       "      <td>1</td>\n",
       "      <td>0</td>\n",
       "      <td>...</td>\n",
       "      <td>5.460000</td>\n",
       "      <td>5.460000</td>\n",
       "      <td>0.000000</td>\n",
       "      <td>0.000000</td>\n",
       "      <td>13.360000</td>\n",
       "      <td>0.000000</td>\n",
       "      <td>10.320000</td>\n",
       "      <td>0.000000</td>\n",
       "      <td>0.000000</td>\n",
       "      <td>10.280000</td>\n",
       "    </tr>\n",
       "    <tr>\n",
       "      <th>...</th>\n",
       "      <td>...</td>\n",
       "      <td>...</td>\n",
       "      <td>...</td>\n",
       "      <td>...</td>\n",
       "      <td>...</td>\n",
       "      <td>...</td>\n",
       "      <td>...</td>\n",
       "      <td>...</td>\n",
       "      <td>...</td>\n",
       "      <td>...</td>\n",
       "      <td>...</td>\n",
       "      <td>...</td>\n",
       "      <td>...</td>\n",
       "      <td>...</td>\n",
       "      <td>...</td>\n",
       "      <td>...</td>\n",
       "      <td>...</td>\n",
       "      <td>...</td>\n",
       "      <td>...</td>\n",
       "      <td>...</td>\n",
       "      <td>...</td>\n",
       "    </tr>\n",
       "    <tr>\n",
       "      <th>643685</th>\n",
       "      <td>1827860</td>\n",
       "      <td>2013</td>\n",
       "      <td>1</td>\n",
       "      <td>0</td>\n",
       "      <td>0</td>\n",
       "      <td>0</td>\n",
       "      <td>1</td>\n",
       "      <td>0</td>\n",
       "      <td>0</td>\n",
       "      <td>1</td>\n",
       "      <td>...</td>\n",
       "      <td>0.000000</td>\n",
       "      <td>0.000000</td>\n",
       "      <td>0.000000</td>\n",
       "      <td>0.000000</td>\n",
       "      <td>0.612903</td>\n",
       "      <td>0.000000</td>\n",
       "      <td>0.000000</td>\n",
       "      <td>0.000000</td>\n",
       "      <td>0.000000</td>\n",
       "      <td>0.000000</td>\n",
       "    </tr>\n",
       "    <tr>\n",
       "      <th>643686</th>\n",
       "      <td>1827860</td>\n",
       "      <td>2015</td>\n",
       "      <td>2</td>\n",
       "      <td>1</td>\n",
       "      <td>0</td>\n",
       "      <td>0</td>\n",
       "      <td>1</td>\n",
       "      <td>0</td>\n",
       "      <td>1</td>\n",
       "      <td>0</td>\n",
       "      <td>...</td>\n",
       "      <td>0.000000</td>\n",
       "      <td>0.000000</td>\n",
       "      <td>0.212121</td>\n",
       "      <td>0.212121</td>\n",
       "      <td>17.363636</td>\n",
       "      <td>0.000000</td>\n",
       "      <td>8.909091</td>\n",
       "      <td>0.000000</td>\n",
       "      <td>0.000000</td>\n",
       "      <td>7.121212</td>\n",
       "    </tr>\n",
       "    <tr>\n",
       "      <th>643687</th>\n",
       "      <td>1827860</td>\n",
       "      <td>2016</td>\n",
       "      <td>3</td>\n",
       "      <td>1</td>\n",
       "      <td>0</td>\n",
       "      <td>0</td>\n",
       "      <td>1</td>\n",
       "      <td>1</td>\n",
       "      <td>0</td>\n",
       "      <td>1</td>\n",
       "      <td>...</td>\n",
       "      <td>0.000000</td>\n",
       "      <td>0.000000</td>\n",
       "      <td>0.294118</td>\n",
       "      <td>0.205882</td>\n",
       "      <td>34.705882</td>\n",
       "      <td>0.000000</td>\n",
       "      <td>10.352941</td>\n",
       "      <td>1.705882</td>\n",
       "      <td>1.705882</td>\n",
       "      <td>23.911765</td>\n",
       "    </tr>\n",
       "    <tr>\n",
       "      <th>643688</th>\n",
       "      <td>1827869</td>\n",
       "      <td>2013</td>\n",
       "      <td>1</td>\n",
       "      <td>1</td>\n",
       "      <td>1</td>\n",
       "      <td>0</td>\n",
       "      <td>0</td>\n",
       "      <td>0</td>\n",
       "      <td>1</td>\n",
       "      <td>0</td>\n",
       "      <td>...</td>\n",
       "      <td>0.000000</td>\n",
       "      <td>0.000000</td>\n",
       "      <td>0.000000</td>\n",
       "      <td>0.000000</td>\n",
       "      <td>0.000000</td>\n",
       "      <td>0.525424</td>\n",
       "      <td>0.000000</td>\n",
       "      <td>0.000000</td>\n",
       "      <td>0.000000</td>\n",
       "      <td>0.000000</td>\n",
       "    </tr>\n",
       "    <tr>\n",
       "      <th>643689</th>\n",
       "      <td>1827869</td>\n",
       "      <td>2014</td>\n",
       "      <td>2</td>\n",
       "      <td>0</td>\n",
       "      <td>0</td>\n",
       "      <td>1</td>\n",
       "      <td>0</td>\n",
       "      <td>0</td>\n",
       "      <td>1</td>\n",
       "      <td>0</td>\n",
       "      <td>...</td>\n",
       "      <td>0.000000</td>\n",
       "      <td>0.666667</td>\n",
       "      <td>0.666667</td>\n",
       "      <td>0.000000</td>\n",
       "      <td>0.000000</td>\n",
       "      <td>8.950000</td>\n",
       "      <td>1.033333</td>\n",
       "      <td>0.083333</td>\n",
       "      <td>0.083333</td>\n",
       "      <td>8.133333</td>\n",
       "    </tr>\n",
       "  </tbody>\n",
       "</table>\n",
       "<p>643690 rows × 164 columns</p>\n",
       "</div>"
      ],
      "text/plain": [
       "         persnr  year  nrEntry  ltue  employed_before  receipt_leh_before  \\\n",
       "0             7  2015        1     0                1                   0   \n",
       "1            18  2010        1     1                0                   0   \n",
       "2            18  2011        2     0                1                   0   \n",
       "3            18  2012        3     0                1                   0   \n",
       "4            18  2012        4     0                1                   0   \n",
       "...         ...   ...      ...   ...              ...                 ...   \n",
       "643685  1827860  2013        1     0                0                   0   \n",
       "643686  1827860  2015        2     1                0                   0   \n",
       "643687  1827860  2016        3     1                0                   0   \n",
       "643688  1827869  2013        1     1                1                   0   \n",
       "643689  1827869  2014        2     0                0                   1   \n",
       "\n",
       "        receipt_lhg_before  se_before  ASU_notue_seeking_before  \\\n",
       "0                        0          0                         1   \n",
       "1                        0          0                         0   \n",
       "2                        1          0                         1   \n",
       "3                        1          0                         1   \n",
       "4                        1          0                         1   \n",
       "...                    ...        ...                       ...   \n",
       "643685                   1          0                         0   \n",
       "643686                   1          0                         1   \n",
       "643687                   1          1                         0   \n",
       "643688                   0          0                         1   \n",
       "643689                   0          0                         1   \n",
       "\n",
       "        ASU_other_before  ...  minijob_tot_dur_byage  ft_tot_dur_byage  \\\n",
       "0                      0  ...               0.000000          0.000000   \n",
       "1                      0  ...               0.000000          0.000000   \n",
       "2                      0  ...               2.714286          2.714286   \n",
       "3                      0  ...               4.200000          4.200000   \n",
       "4                      0  ...               5.460000          5.460000   \n",
       "...                  ...  ...                    ...               ...   \n",
       "643685                 1  ...               0.000000          0.000000   \n",
       "643686                 0  ...               0.000000          0.000000   \n",
       "643687                 1  ...               0.000000          0.000000   \n",
       "643688                 0  ...               0.000000          0.000000   \n",
       "643689                 0  ...               0.000000          0.666667   \n",
       "\n",
       "        befrist_tot_dur_byage  leih_tot_dur_byage  LHG_tot_dur_byage  \\\n",
       "0                   15.043478            0.000000           0.000000   \n",
       "1                    0.000000            0.000000           0.000000   \n",
       "2                    0.000000            0.000000          10.775510   \n",
       "3                    0.000000            0.000000          12.100000   \n",
       "4                    0.000000            0.000000          13.360000   \n",
       "...                       ...                 ...                ...   \n",
       "643685               0.000000            0.000000           0.612903   \n",
       "643686               0.212121            0.212121          17.363636   \n",
       "643687               0.294118            0.205882          34.705882   \n",
       "643688               0.000000            0.000000           0.000000   \n",
       "643689               0.666667            0.000000           0.000000   \n",
       "\n",
       "        LEH_tot_dur_byage  almp_tot_dur_byage  almp_aw_tot_dur_byage  \\\n",
       "0                0.000000            0.000000               0.000000   \n",
       "1                0.000000            0.000000               0.000000   \n",
       "2                0.000000            8.367347               0.000000   \n",
       "3                0.000000            9.400000               0.000000   \n",
       "4                0.000000           10.320000               0.000000   \n",
       "...                   ...                 ...                    ...   \n",
       "643685           0.000000            0.000000               0.000000   \n",
       "643686           0.000000            8.909091               0.000000   \n",
       "643687           0.000000           10.352941               1.705882   \n",
       "643688           0.525424            0.000000               0.000000   \n",
       "643689           8.950000            1.033333               0.083333   \n",
       "\n",
       "        se_tot_dur_byage  seeking1_tot_dur_byage  \n",
       "0               0.000000                0.000000  \n",
       "1               0.000000                0.000000  \n",
       "2               0.000000                9.836735  \n",
       "3               0.000000                9.960000  \n",
       "4               0.000000               10.280000  \n",
       "...                  ...                     ...  \n",
       "643685          0.000000                0.000000  \n",
       "643686          0.000000                7.121212  \n",
       "643687          1.705882               23.911765  \n",
       "643688          0.000000                0.000000  \n",
       "643689          0.083333                8.133333  \n",
       "\n",
       "[643690 rows x 164 columns]"
      ]
     },
     "execution_count": 10,
     "metadata": {},
     "output_type": "execute_result"
    }
   ],
   "source": [
    "siab"
   ]
  },
  {
   "cell_type": "markdown",
   "id": "1f87e805",
   "metadata": {
    "papermill": {
     "duration": 0.009559,
     "end_time": "2025-08-19T18:59:35.572501",
     "exception": false,
     "start_time": "2025-08-19T18:59:35.562942",
     "status": "completed"
    },
    "tags": []
   },
   "source": [
    "# Splitting Data and Setting Training Data Size"
   ]
  },
  {
   "cell_type": "code",
   "execution_count": 11,
   "id": "910ae358",
   "metadata": {
    "execution": {
     "iopub.execute_input": "2025-08-19T18:59:35.594267Z",
     "iopub.status.busy": "2025-08-19T18:59:35.593341Z",
     "iopub.status.idle": "2025-08-19T18:59:36.241411Z",
     "shell.execute_reply": "2025-08-19T18:59:36.240519Z"
    },
    "papermill": {
     "duration": 0.662498,
     "end_time": "2025-08-19T18:59:36.244409",
     "exception": false,
     "start_time": "2025-08-19T18:59:35.581911",
     "status": "completed"
    },
    "tags": []
   },
   "outputs": [],
   "source": [
    "from fairness_multiverse.universe import sample_by_year_size\n",
    "\n",
    "siab_train = sample_by_year_size(siab,\n",
    "                               training_year=universe[\"training_year\"],\n",
    "                               training_size=universe[\"training_size\"])"
   ]
  },
  {
   "cell_type": "code",
   "execution_count": 12,
   "id": "919c8ff5",
   "metadata": {
    "execution": {
     "iopub.execute_input": "2025-08-19T18:59:36.291769Z",
     "iopub.status.busy": "2025-08-19T18:59:36.290626Z",
     "iopub.status.idle": "2025-08-19T18:59:36.302103Z",
     "shell.execute_reply": "2025-08-19T18:59:36.301143Z"
    },
    "papermill": {
     "duration": 0.025302,
     "end_time": "2025-08-19T18:59:36.303676",
     "exception": false,
     "start_time": "2025-08-19T18:59:36.278374",
     "status": "completed"
    },
    "tags": []
   },
   "outputs": [
    {
     "data": {
      "text/plain": [
       "(1000, 164)"
      ]
     },
     "execution_count": 12,
     "metadata": {},
     "output_type": "execute_result"
    }
   ],
   "source": [
    "siab_train.shape"
   ]
  },
  {
   "cell_type": "code",
   "execution_count": 13,
   "id": "feb13bf4",
   "metadata": {
    "execution": {
     "iopub.execute_input": "2025-08-19T18:59:36.331565Z",
     "iopub.status.busy": "2025-08-19T18:59:36.330445Z",
     "iopub.status.idle": "2025-08-19T18:59:36.343450Z",
     "shell.execute_reply": "2025-08-19T18:59:36.342436Z"
    },
    "papermill": {
     "duration": 0.0275,
     "end_time": "2025-08-19T18:59:36.345043",
     "exception": false,
     "start_time": "2025-08-19T18:59:36.317543",
     "status": "completed"
    },
    "tags": []
   },
   "outputs": [
    {
     "data": {
      "text/plain": [
       "year\n",
       "2012    334\n",
       "2013    333\n",
       "2014    333\n",
       "dtype: int64"
      ]
     },
     "metadata": {},
     "output_type": "display_data"
    }
   ],
   "source": [
    "display(siab_train.groupby(\"year\").size())"
   ]
  },
  {
   "cell_type": "code",
   "execution_count": 14,
   "id": "0997782f",
   "metadata": {
    "execution": {
     "iopub.execute_input": "2025-08-19T18:59:36.372894Z",
     "iopub.status.busy": "2025-08-19T18:59:36.372436Z",
     "iopub.status.idle": "2025-08-19T18:59:36.671075Z",
     "shell.execute_reply": "2025-08-19T18:59:36.670350Z"
    },
    "papermill": {
     "duration": 0.313259,
     "end_time": "2025-08-19T18:59:36.674077",
     "exception": false,
     "start_time": "2025-08-19T18:59:36.360818",
     "status": "completed"
    },
    "tags": []
   },
   "outputs": [],
   "source": [
    "#siab_train = siab_s[siab_s.year < 2015]\n",
    "siab_calib = siab[siab.year == 2015]\n",
    "siab_test = siab[siab.year == 2016]"
   ]
  },
  {
   "cell_type": "code",
   "execution_count": 15,
   "id": "2c1e4012",
   "metadata": {
    "execution": {
     "iopub.execute_input": "2025-08-19T18:59:36.712245Z",
     "iopub.status.busy": "2025-08-19T18:59:36.711651Z",
     "iopub.status.idle": "2025-08-19T18:59:36.717755Z",
     "shell.execute_reply": "2025-08-19T18:59:36.716544Z"
    },
    "papermill": {
     "duration": 0.022563,
     "end_time": "2025-08-19T18:59:36.719251",
     "exception": false,
     "start_time": "2025-08-19T18:59:36.696688",
     "status": "completed"
    },
    "tags": []
   },
   "outputs": [],
   "source": [
    "#siab_calib.shape"
   ]
  },
  {
   "cell_type": "code",
   "execution_count": 16,
   "id": "f66b54ca",
   "metadata": {
    "execution": {
     "iopub.execute_input": "2025-08-19T18:59:36.741834Z",
     "iopub.status.busy": "2025-08-19T18:59:36.740709Z",
     "iopub.status.idle": "2025-08-19T18:59:36.747266Z",
     "shell.execute_reply": "2025-08-19T18:59:36.746003Z"
    },
    "papermill": {
     "duration": 0.019346,
     "end_time": "2025-08-19T18:59:36.748598",
     "exception": false,
     "start_time": "2025-08-19T18:59:36.729252",
     "status": "completed"
    },
    "tags": []
   },
   "outputs": [],
   "source": [
    "#siab_test.shape"
   ]
  },
  {
   "cell_type": "code",
   "execution_count": 17,
   "id": "27e4384d",
   "metadata": {
    "execution": {
     "iopub.execute_input": "2025-08-19T18:59:36.772603Z",
     "iopub.status.busy": "2025-08-19T18:59:36.771513Z",
     "iopub.status.idle": "2025-08-19T18:59:36.781504Z",
     "shell.execute_reply": "2025-08-19T18:59:36.780297Z"
    },
    "papermill": {
     "duration": 0.023242,
     "end_time": "2025-08-19T18:59:36.782859",
     "exception": false,
     "start_time": "2025-08-19T18:59:36.759617",
     "status": "completed"
    },
    "tags": []
   },
   "outputs": [],
   "source": [
    "X_train = siab_train.iloc[:,4:164]\n",
    "y_train = siab_train.iloc[:, [3]]"
   ]
  },
  {
   "cell_type": "code",
   "execution_count": 18,
   "id": "08ee8389",
   "metadata": {
    "execution": {
     "iopub.execute_input": "2025-08-19T18:59:36.807793Z",
     "iopub.status.busy": "2025-08-19T18:59:36.806689Z",
     "iopub.status.idle": "2025-08-19T18:59:36.867385Z",
     "shell.execute_reply": "2025-08-19T18:59:36.866604Z"
    },
    "papermill": {
     "duration": 0.074689,
     "end_time": "2025-08-19T18:59:36.870094",
     "exception": false,
     "start_time": "2025-08-19T18:59:36.795405",
     "status": "completed"
    },
    "tags": []
   },
   "outputs": [],
   "source": [
    "X_calib = siab_calib.iloc[:,4:164]\n",
    "y_calib = siab_calib.iloc[:, [3]]"
   ]
  },
  {
   "cell_type": "code",
   "execution_count": 19,
   "id": "b7ff42e0",
   "metadata": {
    "execution": {
     "iopub.execute_input": "2025-08-19T18:59:36.910042Z",
     "iopub.status.busy": "2025-08-19T18:59:36.908968Z",
     "iopub.status.idle": "2025-08-19T18:59:36.974247Z",
     "shell.execute_reply": "2025-08-19T18:59:36.973294Z"
    },
    "papermill": {
     "duration": 0.082361,
     "end_time": "2025-08-19T18:59:36.977245",
     "exception": false,
     "start_time": "2025-08-19T18:59:36.894884",
     "status": "completed"
    },
    "tags": []
   },
   "outputs": [],
   "source": [
    "X_test = siab_test.iloc[:,4:164]\n",
    "y_true = siab_test.iloc[:, [3]]"
   ]
  },
  {
   "cell_type": "code",
   "execution_count": 20,
   "id": "0275101e",
   "metadata": {
    "execution": {
     "iopub.execute_input": "2025-08-19T18:59:37.015783Z",
     "iopub.status.busy": "2025-08-19T18:59:37.014700Z",
     "iopub.status.idle": "2025-08-19T18:59:37.131579Z",
     "shell.execute_reply": "2025-08-19T18:59:37.130874Z"
    },
    "papermill": {
     "duration": 0.132961,
     "end_time": "2025-08-19T18:59:37.134307",
     "exception": false,
     "start_time": "2025-08-19T18:59:37.001346",
     "status": "completed"
    },
    "tags": []
   },
   "outputs": [],
   "source": [
    "# Auxiliary data needed downstream in the pipeline\n",
    "\n",
    "org_train = X_train.copy()\n",
    "org_test = X_test.copy()\n",
    "org_calib = X_calib.copy()"
   ]
  },
  {
   "cell_type": "markdown",
   "id": "b461e618",
   "metadata": {
    "papermill": {
     "duration": 0.012321,
     "end_time": "2025-08-19T18:59:37.171262",
     "exception": false,
     "start_time": "2025-08-19T18:59:37.158941",
     "status": "completed"
    },
    "tags": []
   },
   "source": [
    "# Preprocessing Data"
   ]
  },
  {
   "cell_type": "code",
   "execution_count": 21,
   "id": "78e74c4b",
   "metadata": {
    "execution": {
     "iopub.execute_input": "2025-08-19T18:59:37.193789Z",
     "iopub.status.busy": "2025-08-19T18:59:37.192689Z",
     "iopub.status.idle": "2025-08-19T18:59:37.201183Z",
     "shell.execute_reply": "2025-08-19T18:59:37.199908Z"
    },
    "papermill": {
     "duration": 0.021421,
     "end_time": "2025-08-19T18:59:37.202679",
     "exception": false,
     "start_time": "2025-08-19T18:59:37.181258",
     "status": "completed"
    },
    "tags": []
   },
   "outputs": [],
   "source": [
    "# EXCLUDE PROTECTED FEATURES\n",
    "# --------------------------\n",
    "\n",
    "excluded_features = universe[\"exclude_features\"].split(\"-\")\n",
    "excluded_features_dictionary = {\n",
    "    \"nationality\": [\"maxdeutsch1\", \"maxdeutsch.Missing.\"],\n",
    "    \"sex\": [\"frau1\"],\n",
    "    \"age\": [\"age\"],\n",
    "}"
   ]
  },
  {
   "cell_type": "code",
   "execution_count": 22,
   "id": "f8e63555",
   "metadata": {
    "execution": {
     "iopub.execute_input": "2025-08-19T18:59:37.227095Z",
     "iopub.status.busy": "2025-08-19T18:59:37.225994Z",
     "iopub.status.idle": "2025-08-19T18:59:37.233721Z",
     "shell.execute_reply": "2025-08-19T18:59:37.232544Z"
    },
    "papermill": {
     "duration": 0.020878,
     "end_time": "2025-08-19T18:59:37.234971",
     "exception": false,
     "start_time": "2025-08-19T18:59:37.214093",
     "status": "completed"
    },
    "tags": []
   },
   "outputs": [],
   "source": [
    "excluded_features_columns = [\n",
    "    excluded_features_dictionary[f] for f in excluded_features if len(f) > 0 and f != \"none\"\n",
    "]"
   ]
  },
  {
   "cell_type": "code",
   "execution_count": 23,
   "id": "da781f7c",
   "metadata": {
    "execution": {
     "iopub.execute_input": "2025-08-19T18:59:37.259651Z",
     "iopub.status.busy": "2025-08-19T18:59:37.258731Z",
     "iopub.status.idle": "2025-08-19T18:59:37.265647Z",
     "shell.execute_reply": "2025-08-19T18:59:37.264497Z"
    },
    "papermill": {
     "duration": 0.019808,
     "end_time": "2025-08-19T18:59:37.267013",
     "exception": false,
     "start_time": "2025-08-19T18:59:37.247205",
     "status": "completed"
    },
    "tags": []
   },
   "outputs": [],
   "source": [
    "from fairness_multiverse.universe import flatten_once\n",
    "\n",
    "excluded_features_columns = flatten_once(excluded_features_columns)"
   ]
  },
  {
   "cell_type": "code",
   "execution_count": 24,
   "id": "37fef0f0",
   "metadata": {
    "execution": {
     "iopub.execute_input": "2025-08-19T18:59:37.306584Z",
     "iopub.status.busy": "2025-08-19T18:59:37.305211Z",
     "iopub.status.idle": "2025-08-19T18:59:37.317857Z",
     "shell.execute_reply": "2025-08-19T18:59:37.316667Z"
    },
    "papermill": {
     "duration": 0.036851,
     "end_time": "2025-08-19T18:59:37.330218",
     "exception": false,
     "start_time": "2025-08-19T18:59:37.293367",
     "status": "completed"
    },
    "tags": []
   },
   "outputs": [
    {
     "name": "stdout",
     "output_type": "stream",
     "text": [
      "Dropping features: ['maxdeutsch1', 'maxdeutsch.Missing.', 'frau1']\n"
     ]
    }
   ],
   "source": [
    "if len(excluded_features_columns) > 0:\n",
    "    print(f\"Dropping features: {excluded_features_columns}\")\n",
    "    X_train.drop(excluded_features_columns, axis=1, inplace=True)"
   ]
  },
  {
   "cell_type": "code",
   "execution_count": 25,
   "id": "d029e3e9",
   "metadata": {
    "execution": {
     "iopub.execute_input": "2025-08-19T18:59:37.363677Z",
     "iopub.status.busy": "2025-08-19T18:59:37.362441Z",
     "iopub.status.idle": "2025-08-19T18:59:37.425787Z",
     "shell.execute_reply": "2025-08-19T18:59:37.424974Z"
    },
    "papermill": {
     "duration": 0.079761,
     "end_time": "2025-08-19T18:59:37.429784",
     "exception": false,
     "start_time": "2025-08-19T18:59:37.350023",
     "status": "completed"
    },
    "tags": []
   },
   "outputs": [
    {
     "name": "stdout",
     "output_type": "stream",
     "text": [
      "Dropping features: ['maxdeutsch1', 'maxdeutsch.Missing.', 'frau1']\n"
     ]
    }
   ],
   "source": [
    "if len(excluded_features_columns) > 0:\n",
    "    print(f\"Dropping features: {excluded_features_columns}\")\n",
    "    X_test.drop(excluded_features_columns, axis=1, inplace=True)"
   ]
  },
  {
   "cell_type": "code",
   "execution_count": 26,
   "id": "01d571f0",
   "metadata": {
    "execution": {
     "iopub.execute_input": "2025-08-19T18:59:37.465903Z",
     "iopub.status.busy": "2025-08-19T18:59:37.465521Z",
     "iopub.status.idle": "2025-08-19T18:59:37.515756Z",
     "shell.execute_reply": "2025-08-19T18:59:37.515136Z"
    },
    "papermill": {
     "duration": 0.068235,
     "end_time": "2025-08-19T18:59:37.517894",
     "exception": false,
     "start_time": "2025-08-19T18:59:37.449659",
     "status": "completed"
    },
    "tags": []
   },
   "outputs": [
    {
     "name": "stdout",
     "output_type": "stream",
     "text": [
      "Dropping features: ['maxdeutsch1', 'maxdeutsch.Missing.', 'frau1']\n"
     ]
    }
   ],
   "source": [
    "if len(excluded_features_columns) > 0:\n",
    "    print(f\"Dropping features: {excluded_features_columns}\")\n",
    "    X_calib.drop(excluded_features_columns, axis=1, inplace=True)"
   ]
  },
  {
   "cell_type": "code",
   "execution_count": 27,
   "id": "3037356e",
   "metadata": {
    "execution": {
     "iopub.execute_input": "2025-08-19T18:59:37.567842Z",
     "iopub.status.busy": "2025-08-19T18:59:37.566313Z",
     "iopub.status.idle": "2025-08-19T18:59:37.590482Z",
     "shell.execute_reply": "2025-08-19T18:59:37.588897Z"
    },
    "papermill": {
     "duration": 0.038913,
     "end_time": "2025-08-19T18:59:37.592718",
     "exception": false,
     "start_time": "2025-08-19T18:59:37.553805",
     "status": "completed"
    },
    "tags": []
   },
   "outputs": [],
   "source": [
    "# EXCLUDE CERTAIN SUBGROUPS\n",
    "# -------------------------\n",
    "\n",
    "mode = universe.get(\"exclude_subgroups\", \"keep-all\") # Defaults to \"keep-all\" if the key is missing."
   ]
  },
  {
   "cell_type": "code",
   "execution_count": 28,
   "id": "9d1e63fd",
   "metadata": {
    "execution": {
     "iopub.execute_input": "2025-08-19T18:59:37.633874Z",
     "iopub.status.busy": "2025-08-19T18:59:37.632617Z",
     "iopub.status.idle": "2025-08-19T18:59:37.642885Z",
     "shell.execute_reply": "2025-08-19T18:59:37.641477Z"
    },
    "papermill": {
     "duration": 0.046138,
     "end_time": "2025-08-19T18:59:37.653507",
     "exception": false,
     "start_time": "2025-08-19T18:59:37.607369",
     "status": "completed"
    },
    "tags": []
   },
   "outputs": [],
   "source": [
    "if mode == \"keep-all\":\n",
    "    keep_mask = pd.Series(True, index=org_train.index)\n",
    "\n",
    "elif mode == \"drop-non-german\":\n",
    "    keep_mask = (org_train[\"maxdeutsch1\"] == 1) & (org_train[\"maxdeutsch.Missing.\"] == 0)\n",
    "\n",
    "else:\n",
    "    raise ValueError(f\"Unsupported mode for exclude_subgroups: {mode}\")"
   ]
  },
  {
   "cell_type": "code",
   "execution_count": 29,
   "id": "d3b65474",
   "metadata": {
    "execution": {
     "iopub.execute_input": "2025-08-19T18:59:37.685363Z",
     "iopub.status.busy": "2025-08-19T18:59:37.684074Z",
     "iopub.status.idle": "2025-08-19T18:59:37.695202Z",
     "shell.execute_reply": "2025-08-19T18:59:37.694027Z"
    },
    "papermill": {
     "duration": 0.030573,
     "end_time": "2025-08-19T18:59:37.702093",
     "exception": false,
     "start_time": "2025-08-19T18:59:37.671520",
     "status": "completed"
    },
    "tags": []
   },
   "outputs": [
    {
     "name": "stdout",
     "output_type": "stream",
     "text": [
      "Dropping 147 rows (14.70%) where mode='drop-non-german'\n"
     ]
    }
   ],
   "source": [
    "n_drop = (~keep_mask).sum() # Calculates how many rows are set to be dropped\n",
    "if n_drop > 0:\n",
    "    pct = n_drop / len(keep_mask) * 100\n",
    "    print(f\"Dropping {n_drop} rows ({pct:.2f}%) where mode='{mode}'\")"
   ]
  },
  {
   "cell_type": "code",
   "execution_count": 30,
   "id": "f44389b3",
   "metadata": {
    "execution": {
     "iopub.execute_input": "2025-08-19T18:59:37.750893Z",
     "iopub.status.busy": "2025-08-19T18:59:37.750052Z",
     "iopub.status.idle": "2025-08-19T18:59:37.786367Z",
     "shell.execute_reply": "2025-08-19T18:59:37.784951Z"
    },
    "papermill": {
     "duration": 0.054748,
     "end_time": "2025-08-19T18:59:37.789742",
     "exception": false,
     "start_time": "2025-08-19T18:59:37.734994",
     "status": "completed"
    },
    "tags": []
   },
   "outputs": [],
   "source": [
    "X_train = X_train[keep_mask]"
   ]
  },
  {
   "cell_type": "code",
   "execution_count": 31,
   "id": "ceca8c2a",
   "metadata": {
    "execution": {
     "iopub.execute_input": "2025-08-19T18:59:37.823070Z",
     "iopub.status.busy": "2025-08-19T18:59:37.822640Z",
     "iopub.status.idle": "2025-08-19T18:59:37.827280Z",
     "shell.execute_reply": "2025-08-19T18:59:37.826624Z"
    },
    "papermill": {
     "duration": 0.019565,
     "end_time": "2025-08-19T18:59:37.828888",
     "exception": false,
     "start_time": "2025-08-19T18:59:37.809323",
     "status": "completed"
    },
    "tags": []
   },
   "outputs": [],
   "source": [
    "y_train = y_train[keep_mask]"
   ]
  },
  {
   "cell_type": "markdown",
   "id": "04d31e2f",
   "metadata": {
    "papermill": {
     "duration": 0.011041,
     "end_time": "2025-08-19T18:59:37.851136",
     "exception": false,
     "start_time": "2025-08-19T18:59:37.840095",
     "status": "completed"
    },
    "tags": []
   },
   "source": [
    "# Model Training"
   ]
  },
  {
   "cell_type": "code",
   "execution_count": 32,
   "id": "db991733",
   "metadata": {
    "execution": {
     "iopub.execute_input": "2025-08-19T18:59:37.874873Z",
     "iopub.status.busy": "2025-08-19T18:59:37.874454Z",
     "iopub.status.idle": "2025-08-19T18:59:38.015753Z",
     "shell.execute_reply": "2025-08-19T18:59:38.014681Z"
    },
    "papermill": {
     "duration": 0.155219,
     "end_time": "2025-08-19T18:59:38.017381",
     "exception": false,
     "start_time": "2025-08-19T18:59:37.862162",
     "status": "completed"
    },
    "tags": []
   },
   "outputs": [],
   "source": [
    "from sklearn.linear_model import LogisticRegression\n",
    "from sklearn.ensemble import GradientBoostingClassifier, RandomForestClassifier\n",
    "\n",
    "if (universe[\"model\"] == \"logreg\"):\n",
    "    model = LogisticRegression() #penalty=\"none\", solver=\"newton-cg\", max_iter=1)\n",
    "elif (universe[\"model\"] == \"penalized_logreg\"):\n",
    "    model = LogisticRegression(penalty=\"l2\", C=0.1) #, solver=\"newton-cg\", max_iter=1)\n",
    "elif (universe[\"model\"] == \"rf\"):\n",
    "    model = RandomForestClassifier() # n_estimators=100, n_jobs=-1\n",
    "elif (universe[\"model\"] == \"gbm\"):\n",
    "    model = GradientBoostingClassifier()\n",
    "elif (universe[\"model\"] == \"elasticnet\"):\n",
    "    model = LogisticRegression(penalty = 'elasticnet', solver = 'saga', l1_ratio = 0.5) # max_iter=5000\n",
    "else:\n",
    "    raise \"Unsupported universe.model\""
   ]
  },
  {
   "cell_type": "code",
   "execution_count": 33,
   "id": "a4b5cd25",
   "metadata": {
    "execution": {
     "iopub.execute_input": "2025-08-19T18:59:38.056538Z",
     "iopub.status.busy": "2025-08-19T18:59:38.055744Z",
     "iopub.status.idle": "2025-08-19T18:59:38.060877Z",
     "shell.execute_reply": "2025-08-19T18:59:38.060085Z"
    },
    "papermill": {
     "duration": 0.03354,
     "end_time": "2025-08-19T18:59:38.062432",
     "exception": false,
     "start_time": "2025-08-19T18:59:38.028892",
     "status": "completed"
    },
    "tags": []
   },
   "outputs": [],
   "source": [
    "from sklearn.pipeline import Pipeline\n",
    "from sklearn.preprocessing import StandardScaler\n",
    "\n",
    "model = Pipeline([\n",
    "    #(\"continuous_processor\", continuous_processor),\n",
    "    #(\"categorical_preprocessor\", categorical_preprocessor),\n",
    "    (\"scale\", StandardScaler() if universe[\"scale\"] == \"scale\" else None), \n",
    "    (\"model\", model),\n",
    "])"
   ]
  },
  {
   "cell_type": "code",
   "execution_count": 34,
   "id": "283a904d",
   "metadata": {
    "execution": {
     "iopub.execute_input": "2025-08-19T18:59:38.091544Z",
     "iopub.status.busy": "2025-08-19T18:59:38.090450Z",
     "iopub.status.idle": "2025-08-19T18:59:38.922269Z",
     "shell.execute_reply": "2025-08-19T18:59:38.921608Z"
    },
    "papermill": {
     "duration": 0.847722,
     "end_time": "2025-08-19T18:59:38.923837",
     "exception": false,
     "start_time": "2025-08-19T18:59:38.076115",
     "status": "completed"
    },
    "tags": []
   },
   "outputs": [
    {
     "data": {
      "text/html": [
       "<style>#sk-container-id-1 {color: black;background-color: white;}#sk-container-id-1 pre{padding: 0;}#sk-container-id-1 div.sk-toggleable {background-color: white;}#sk-container-id-1 label.sk-toggleable__label {cursor: pointer;display: block;width: 100%;margin-bottom: 0;padding: 0.3em;box-sizing: border-box;text-align: center;}#sk-container-id-1 label.sk-toggleable__label-arrow:before {content: \"▸\";float: left;margin-right: 0.25em;color: #696969;}#sk-container-id-1 label.sk-toggleable__label-arrow:hover:before {color: black;}#sk-container-id-1 div.sk-estimator:hover label.sk-toggleable__label-arrow:before {color: black;}#sk-container-id-1 div.sk-toggleable__content {max-height: 0;max-width: 0;overflow: hidden;text-align: left;background-color: #f0f8ff;}#sk-container-id-1 div.sk-toggleable__content pre {margin: 0.2em;color: black;border-radius: 0.25em;background-color: #f0f8ff;}#sk-container-id-1 input.sk-toggleable__control:checked~div.sk-toggleable__content {max-height: 200px;max-width: 100%;overflow: auto;}#sk-container-id-1 input.sk-toggleable__control:checked~label.sk-toggleable__label-arrow:before {content: \"▾\";}#sk-container-id-1 div.sk-estimator input.sk-toggleable__control:checked~label.sk-toggleable__label {background-color: #d4ebff;}#sk-container-id-1 div.sk-label input.sk-toggleable__control:checked~label.sk-toggleable__label {background-color: #d4ebff;}#sk-container-id-1 input.sk-hidden--visually {border: 0;clip: rect(1px 1px 1px 1px);clip: rect(1px, 1px, 1px, 1px);height: 1px;margin: -1px;overflow: hidden;padding: 0;position: absolute;width: 1px;}#sk-container-id-1 div.sk-estimator {font-family: monospace;background-color: #f0f8ff;border: 1px dotted black;border-radius: 0.25em;box-sizing: border-box;margin-bottom: 0.5em;}#sk-container-id-1 div.sk-estimator:hover {background-color: #d4ebff;}#sk-container-id-1 div.sk-parallel-item::after {content: \"\";width: 100%;border-bottom: 1px solid gray;flex-grow: 1;}#sk-container-id-1 div.sk-label:hover label.sk-toggleable__label {background-color: #d4ebff;}#sk-container-id-1 div.sk-serial::before {content: \"\";position: absolute;border-left: 1px solid gray;box-sizing: border-box;top: 0;bottom: 0;left: 50%;z-index: 0;}#sk-container-id-1 div.sk-serial {display: flex;flex-direction: column;align-items: center;background-color: white;padding-right: 0.2em;padding-left: 0.2em;position: relative;}#sk-container-id-1 div.sk-item {position: relative;z-index: 1;}#sk-container-id-1 div.sk-parallel {display: flex;align-items: stretch;justify-content: center;background-color: white;position: relative;}#sk-container-id-1 div.sk-item::before, #sk-container-id-1 div.sk-parallel-item::before {content: \"\";position: absolute;border-left: 1px solid gray;box-sizing: border-box;top: 0;bottom: 0;left: 50%;z-index: -1;}#sk-container-id-1 div.sk-parallel-item {display: flex;flex-direction: column;z-index: 1;position: relative;background-color: white;}#sk-container-id-1 div.sk-parallel-item:first-child::after {align-self: flex-end;width: 50%;}#sk-container-id-1 div.sk-parallel-item:last-child::after {align-self: flex-start;width: 50%;}#sk-container-id-1 div.sk-parallel-item:only-child::after {width: 0;}#sk-container-id-1 div.sk-dashed-wrapped {border: 1px dashed gray;margin: 0 0.4em 0.5em 0.4em;box-sizing: border-box;padding-bottom: 0.4em;background-color: white;}#sk-container-id-1 div.sk-label label {font-family: monospace;font-weight: bold;display: inline-block;line-height: 1.2em;}#sk-container-id-1 div.sk-label-container {text-align: center;}#sk-container-id-1 div.sk-container {/* jupyter's `normalize.less` sets `[hidden] { display: none; }` but bootstrap.min.css set `[hidden] { display: none !important; }` so we also need the `!important` here to be able to override the default hidden behavior on the sphinx rendered scikit-learn.org. See: https://github.com/scikit-learn/scikit-learn/issues/21755 */display: inline-block !important;position: relative;}#sk-container-id-1 div.sk-text-repr-fallback {display: none;}</style><div id=\"sk-container-id-1\" class=\"sk-top-container\"><div class=\"sk-text-repr-fallback\"><pre>Pipeline(steps=[(&#x27;scale&#x27;, StandardScaler()),\n",
       "                (&#x27;model&#x27;, GradientBoostingClassifier())])</pre><b>In a Jupyter environment, please rerun this cell to show the HTML representation or trust the notebook. <br />On GitHub, the HTML representation is unable to render, please try loading this page with nbviewer.org.</b></div><div class=\"sk-container\" hidden><div class=\"sk-item sk-dashed-wrapped\"><div class=\"sk-label-container\"><div class=\"sk-label sk-toggleable\"><input class=\"sk-toggleable__control sk-hidden--visually\" id=\"sk-estimator-id-1\" type=\"checkbox\" ><label for=\"sk-estimator-id-1\" class=\"sk-toggleable__label sk-toggleable__label-arrow\">Pipeline</label><div class=\"sk-toggleable__content\"><pre>Pipeline(steps=[(&#x27;scale&#x27;, StandardScaler()),\n",
       "                (&#x27;model&#x27;, GradientBoostingClassifier())])</pre></div></div></div><div class=\"sk-serial\"><div class=\"sk-item\"><div class=\"sk-estimator sk-toggleable\"><input class=\"sk-toggleable__control sk-hidden--visually\" id=\"sk-estimator-id-2\" type=\"checkbox\" ><label for=\"sk-estimator-id-2\" class=\"sk-toggleable__label sk-toggleable__label-arrow\">StandardScaler</label><div class=\"sk-toggleable__content\"><pre>StandardScaler()</pre></div></div></div><div class=\"sk-item\"><div class=\"sk-estimator sk-toggleable\"><input class=\"sk-toggleable__control sk-hidden--visually\" id=\"sk-estimator-id-3\" type=\"checkbox\" ><label for=\"sk-estimator-id-3\" class=\"sk-toggleable__label sk-toggleable__label-arrow\">GradientBoostingClassifier</label><div class=\"sk-toggleable__content\"><pre>GradientBoostingClassifier()</pre></div></div></div></div></div></div></div>"
      ],
      "text/plain": [
       "Pipeline(steps=[('scale', StandardScaler()),\n",
       "                ('model', GradientBoostingClassifier())])"
      ]
     },
     "execution_count": 34,
     "metadata": {},
     "output_type": "execute_result"
    }
   ],
   "source": [
    "model.fit(X_train, y_train.values.ravel())"
   ]
  },
  {
   "cell_type": "code",
   "execution_count": 35,
   "id": "6e15e313",
   "metadata": {
    "execution": {
     "iopub.execute_input": "2025-08-19T18:59:38.948770Z",
     "iopub.status.busy": "2025-08-19T18:59:38.948207Z",
     "iopub.status.idle": "2025-08-19T18:59:39.591821Z",
     "shell.execute_reply": "2025-08-19T18:59:39.590849Z"
    },
    "papermill": {
     "duration": 0.657636,
     "end_time": "2025-08-19T18:59:39.593225",
     "exception": false,
     "start_time": "2025-08-19T18:59:38.935589",
     "status": "completed"
    },
    "tags": []
   },
   "outputs": [
    {
     "data": {
      "text/plain": [
       "0.8402073347452904"
      ]
     },
     "execution_count": 35,
     "metadata": {},
     "output_type": "execute_result"
    }
   ],
   "source": [
    "from fairness_multiverse.universe import predict_w_threshold\n",
    "\n",
    "probs_test = model.predict_proba(X_test)\n",
    "\n",
    "'''\n",
    "Below code returns a boolean array (or binary 0/1 array depending on how it’s used) where each element \n",
    "is True if the probability of class 1 is greater than or equal to the threshold, and False otherwise.\n",
    "'''\n",
    "y_pred_default = predict_w_threshold(probs_test, 0.5)\n",
    "\n",
    "from sklearn.metrics import accuracy_score\n",
    "\n",
    "# Naive prediction\n",
    "accuracy_score(y_true = y_true, y_pred = y_pred_default)"
   ]
  },
  {
   "cell_type": "code",
   "execution_count": 36,
   "id": "6f14067c",
   "metadata": {
    "execution": {
     "iopub.execute_input": "2025-08-19T18:59:39.626486Z",
     "iopub.status.busy": "2025-08-19T18:59:39.625307Z",
     "iopub.status.idle": "2025-08-19T18:59:40.250118Z",
     "shell.execute_reply": "2025-08-19T18:59:40.248759Z"
    },
    "papermill": {
     "duration": 0.64488,
     "end_time": "2025-08-19T18:59:40.251694",
     "exception": false,
     "start_time": "2025-08-19T18:59:39.606814",
     "status": "completed"
    },
    "tags": []
   },
   "outputs": [
    {
     "data": {
      "text/plain": [
       "array([0, 0, 0, ..., 0, 0, 0])"
      ]
     },
     "execution_count": 36,
     "metadata": {},
     "output_type": "execute_result"
    }
   ],
   "source": [
    "model.predict(X_test)"
   ]
  },
  {
   "cell_type": "markdown",
   "id": "3759920c",
   "metadata": {
    "papermill": {
     "duration": 0.011399,
     "end_time": "2025-08-19T18:59:40.274821",
     "exception": false,
     "start_time": "2025-08-19T18:59:40.263422",
     "status": "completed"
    },
    "tags": []
   },
   "source": [
    "# Conformal Prediction"
   ]
  },
  {
   "cell_type": "code",
   "execution_count": 37,
   "id": "14b27f59",
   "metadata": {
    "execution": {
     "iopub.execute_input": "2025-08-19T18:59:40.302086Z",
     "iopub.status.busy": "2025-08-19T18:59:40.300399Z",
     "iopub.status.idle": "2025-08-19T18:59:40.309238Z",
     "shell.execute_reply": "2025-08-19T18:59:40.307972Z"
    },
    "papermill": {
     "duration": 0.024628,
     "end_time": "2025-08-19T18:59:40.311008",
     "exception": false,
     "start_time": "2025-08-19T18:59:40.286380",
     "status": "completed"
    },
    "tags": []
   },
   "outputs": [],
   "source": [
    "# Miscoverage level for conformal prediction (10% allowed error rate => 90% target coverage)\n",
    "alpha = 0.1"
   ]
  },
  {
   "cell_type": "code",
   "execution_count": 38,
   "id": "59102472",
   "metadata": {
    "execution": {
     "iopub.execute_input": "2025-08-19T18:59:40.339969Z",
     "iopub.status.busy": "2025-08-19T18:59:40.338655Z",
     "iopub.status.idle": "2025-08-19T18:59:40.908016Z",
     "shell.execute_reply": "2025-08-19T18:59:40.907172Z"
    },
    "papermill": {
     "duration": 0.585429,
     "end_time": "2025-08-19T18:59:40.910525",
     "exception": false,
     "start_time": "2025-08-19T18:59:40.325096",
     "status": "completed"
    },
    "tags": []
   },
   "outputs": [],
   "source": [
    "probs_calib = model.predict_proba(X_calib)"
   ]
  },
  {
   "cell_type": "code",
   "execution_count": 39,
   "id": "a792d4dd",
   "metadata": {
    "execution": {
     "iopub.execute_input": "2025-08-19T18:59:40.948588Z",
     "iopub.status.busy": "2025-08-19T18:59:40.947152Z",
     "iopub.status.idle": "2025-08-19T18:59:40.956726Z",
     "shell.execute_reply": "2025-08-19T18:59:40.955469Z"
    },
    "papermill": {
     "duration": 0.025186,
     "end_time": "2025-08-19T18:59:40.958239",
     "exception": false,
     "start_time": "2025-08-19T18:59:40.933053",
     "status": "completed"
    },
    "tags": []
   },
   "outputs": [],
   "source": [
    "y_calib = y_calib.values.ravel().astype(int)"
   ]
  },
  {
   "cell_type": "code",
   "execution_count": 40,
   "id": "650fd033",
   "metadata": {
    "execution": {
     "iopub.execute_input": "2025-08-19T18:59:40.985803Z",
     "iopub.status.busy": "2025-08-19T18:59:40.984862Z",
     "iopub.status.idle": "2025-08-19T18:59:40.997445Z",
     "shell.execute_reply": "2025-08-19T18:59:40.996212Z"
    },
    "papermill": {
     "duration": 0.026978,
     "end_time": "2025-08-19T18:59:40.998934",
     "exception": false,
     "start_time": "2025-08-19T18:59:40.971956",
     "status": "completed"
    },
    "tags": []
   },
   "outputs": [],
   "source": [
    "from fairness_multiverse.conformal import compute_nc_scores\n",
    "\n",
    "# Compute nonconformity scores on calibration set (1 - probability of true class)\n",
    "nc_scores = compute_nc_scores(probs_calib, y_calib)"
   ]
  },
  {
   "cell_type": "code",
   "execution_count": 41,
   "id": "28ada44c",
   "metadata": {
    "execution": {
     "iopub.execute_input": "2025-08-19T18:59:41.027883Z",
     "iopub.status.busy": "2025-08-19T18:59:41.026457Z",
     "iopub.status.idle": "2025-08-19T18:59:41.037094Z",
     "shell.execute_reply": "2025-08-19T18:59:41.035869Z"
    },
    "papermill": {
     "duration": 0.02565,
     "end_time": "2025-08-19T18:59:41.038716",
     "exception": false,
     "start_time": "2025-08-19T18:59:41.013066",
     "status": "completed"
    },
    "tags": []
   },
   "outputs": [],
   "source": [
    "from fairness_multiverse.conformal import find_threshold\n",
    "\n",
    "# Find conformal threshold q_hat for the given alpha (split conformal method)\n",
    "q_hat = find_threshold(nc_scores, alpha)"
   ]
  },
  {
   "cell_type": "code",
   "execution_count": 42,
   "id": "df56469e",
   "metadata": {
    "execution": {
     "iopub.execute_input": "2025-08-19T18:59:41.066965Z",
     "iopub.status.busy": "2025-08-19T18:59:41.065953Z",
     "iopub.status.idle": "2025-08-19T18:59:41.076171Z",
     "shell.execute_reply": "2025-08-19T18:59:41.074984Z"
    },
    "papermill": {
     "duration": 0.024803,
     "end_time": "2025-08-19T18:59:41.077571",
     "exception": false,
     "start_time": "2025-08-19T18:59:41.052768",
     "status": "completed"
    },
    "tags": []
   },
   "outputs": [
    {
     "data": {
      "text/plain": [
       "0.7828665532899668"
      ]
     },
     "execution_count": 42,
     "metadata": {},
     "output_type": "execute_result"
    }
   ],
   "source": [
    "q_hat"
   ]
  },
  {
   "cell_type": "code",
   "execution_count": 43,
   "id": "aa1f5faa",
   "metadata": {
    "execution": {
     "iopub.execute_input": "2025-08-19T18:59:41.105486Z",
     "iopub.status.busy": "2025-08-19T18:59:41.104565Z",
     "iopub.status.idle": "2025-08-19T18:59:42.170994Z",
     "shell.execute_reply": "2025-08-19T18:59:42.169935Z"
    },
    "papermill": {
     "duration": 1.080894,
     "end_time": "2025-08-19T18:59:42.172659",
     "exception": false,
     "start_time": "2025-08-19T18:59:41.091765",
     "status": "completed"
    },
    "tags": []
   },
   "outputs": [],
   "source": [
    "from fairness_multiverse.conformal import predict_conformal_sets\n",
    "\n",
    "# Generate prediction sets for each test example\n",
    "pred_sets = predict_conformal_sets(model, X_test, q_hat)"
   ]
  },
  {
   "cell_type": "code",
   "execution_count": 44,
   "id": "97f67a6b",
   "metadata": {
    "execution": {
     "iopub.execute_input": "2025-08-19T18:59:42.198950Z",
     "iopub.status.busy": "2025-08-19T18:59:42.197705Z",
     "iopub.status.idle": "2025-08-19T18:59:42.205780Z",
     "shell.execute_reply": "2025-08-19T18:59:42.204721Z"
    },
    "papermill": {
     "duration": 0.022328,
     "end_time": "2025-08-19T18:59:42.207200",
     "exception": false,
     "start_time": "2025-08-19T18:59:42.184872",
     "status": "completed"
    },
    "tags": []
   },
   "outputs": [],
   "source": [
    "y_true = y_true.squeeze()"
   ]
  },
  {
   "cell_type": "code",
   "execution_count": 45,
   "id": "e700e9a7",
   "metadata": {
    "execution": {
     "iopub.execute_input": "2025-08-19T18:59:42.236037Z",
     "iopub.status.busy": "2025-08-19T18:59:42.234675Z",
     "iopub.status.idle": "2025-08-19T18:59:42.749554Z",
     "shell.execute_reply": "2025-08-19T18:59:42.748303Z"
    },
    "papermill": {
     "duration": 0.530948,
     "end_time": "2025-08-19T18:59:42.752442",
     "exception": false,
     "start_time": "2025-08-19T18:59:42.221494",
     "status": "completed"
    },
    "tags": []
   },
   "outputs": [],
   "source": [
    "from fairness_multiverse.conformal import evaluate_sets\n",
    "\n",
    "# Evaluate coverage and average set size on test data\n",
    "metrics = evaluate_sets(pred_sets, y_true)"
   ]
  },
  {
   "cell_type": "markdown",
   "id": "efbacec0",
   "metadata": {
    "papermill": {
     "duration": 0.01297,
     "end_time": "2025-08-19T18:59:42.791403",
     "exception": false,
     "start_time": "2025-08-19T18:59:42.778433",
     "status": "completed"
    },
    "tags": []
   },
   "source": [
    "# CP Metrics"
   ]
  },
  {
   "cell_type": "code",
   "execution_count": 46,
   "id": "9de55fb1",
   "metadata": {
    "execution": {
     "iopub.execute_input": "2025-08-19T18:59:42.817627Z",
     "iopub.status.busy": "2025-08-19T18:59:42.816345Z",
     "iopub.status.idle": "2025-08-19T18:59:42.829816Z",
     "shell.execute_reply": "2025-08-19T18:59:42.828815Z"
    },
    "papermill": {
     "duration": 0.028569,
     "end_time": "2025-08-19T18:59:42.831234",
     "exception": false,
     "start_time": "2025-08-19T18:59:42.802665",
     "status": "completed"
    },
    "tags": []
   },
   "outputs": [
    {
     "data": {
      "text/plain": [
       "{'coverage': 0.9122617322483558, 'avg_size': 1.1849738044811058}"
      ]
     },
     "execution_count": 46,
     "metadata": {},
     "output_type": "execute_result"
    }
   ],
   "source": [
    "metrics"
   ]
  },
  {
   "cell_type": "code",
   "execution_count": 47,
   "id": "64c340a1",
   "metadata": {
    "execution": {
     "iopub.execute_input": "2025-08-19T18:59:42.862434Z",
     "iopub.status.busy": "2025-08-19T18:59:42.861407Z",
     "iopub.status.idle": "2025-08-19T18:59:42.872939Z",
     "shell.execute_reply": "2025-08-19T18:59:42.871340Z"
    },
    "papermill": {
     "duration": 0.026453,
     "end_time": "2025-08-19T18:59:42.874298",
     "exception": false,
     "start_time": "2025-08-19T18:59:42.847845",
     "status": "completed"
    },
    "tags": []
   },
   "outputs": [],
   "source": [
    "example_universe = universe.copy()\n",
    "universe_training_year = example_universe.get(\"training_year\")\n",
    "universe_training_size = example_universe.get(\"training_size\")\n",
    "universe_scale = example_universe.get(\"scale\")\n",
    "universe_model = example_universe.get(\"model\")\n",
    "universe_exclude_features = example_universe.get(\"exclude_features\")\n",
    "universe_exclude_subgroups = example_universe.get(\"exclude_subgroups\")"
   ]
  },
  {
   "cell_type": "code",
   "execution_count": 48,
   "id": "dbb53cb4",
   "metadata": {
    "execution": {
     "iopub.execute_input": "2025-08-19T18:59:42.902594Z",
     "iopub.status.busy": "2025-08-19T18:59:42.901681Z",
     "iopub.status.idle": "2025-08-19T18:59:42.912415Z",
     "shell.execute_reply": "2025-08-19T18:59:42.910789Z"
    },
    "papermill": {
     "duration": 0.025109,
     "end_time": "2025-08-19T18:59:42.913875",
     "exception": false,
     "start_time": "2025-08-19T18:59:42.888766",
     "status": "completed"
    },
    "tags": []
   },
   "outputs": [],
   "source": [
    "cp_metrics_dict = {\n",
    "    \"universe_id\": [universe_id],\n",
    "    \"universe_training_year\": [universe_training_year],\n",
    "    \"universe_training_size\": [universe_training_size],\n",
    "    \"universe_scale\": [universe_scale],\n",
    "    \"universe_model\": [universe_model],\n",
    "    \"universe_exclude_features\": [universe_exclude_features],\n",
    "    \"universe_exclude_subgroups\": [universe_exclude_subgroups],\n",
    "    \"q_hat\": [q_hat],\n",
    "    \"coverage\": [metrics[\"coverage\"]],\n",
    "    \"avg_size\": [metrics[\"avg_size\"]],\n",
    "}"
   ]
  },
  {
   "cell_type": "code",
   "execution_count": 49,
   "id": "0d70d4b2",
   "metadata": {
    "execution": {
     "iopub.execute_input": "2025-08-19T18:59:42.943254Z",
     "iopub.status.busy": "2025-08-19T18:59:42.942022Z",
     "iopub.status.idle": "2025-08-19T18:59:42.955345Z",
     "shell.execute_reply": "2025-08-19T18:59:42.954015Z"
    },
    "papermill": {
     "duration": 0.028127,
     "end_time": "2025-08-19T18:59:42.957078",
     "exception": false,
     "start_time": "2025-08-19T18:59:42.928951",
     "status": "completed"
    },
    "tags": []
   },
   "outputs": [],
   "source": [
    "cp_metrics_df = pd.DataFrame(cp_metrics_dict)"
   ]
  },
  {
   "cell_type": "code",
   "execution_count": 50,
   "id": "b494403c",
   "metadata": {
    "execution": {
     "iopub.execute_input": "2025-08-19T18:59:42.982824Z",
     "iopub.status.busy": "2025-08-19T18:59:42.982030Z",
     "iopub.status.idle": "2025-08-19T18:59:43.026189Z",
     "shell.execute_reply": "2025-08-19T18:59:43.025429Z"
    },
    "papermill": {
     "duration": 0.059998,
     "end_time": "2025-08-19T18:59:43.029092",
     "exception": false,
     "start_time": "2025-08-19T18:59:42.969094",
     "status": "completed"
    },
    "tags": []
   },
   "outputs": [
    {
     "data": {
      "text/html": [
       "<div>\n",
       "<style scoped>\n",
       "    .dataframe tbody tr th:only-of-type {\n",
       "        vertical-align: middle;\n",
       "    }\n",
       "\n",
       "    .dataframe tbody tr th {\n",
       "        vertical-align: top;\n",
       "    }\n",
       "\n",
       "    .dataframe thead th {\n",
       "        text-align: right;\n",
       "    }\n",
       "</style>\n",
       "<table border=\"1\" class=\"dataframe\">\n",
       "  <thead>\n",
       "    <tr style=\"text-align: right;\">\n",
       "      <th></th>\n",
       "      <th>universe_id</th>\n",
       "      <th>universe_training_year</th>\n",
       "      <th>universe_training_size</th>\n",
       "      <th>universe_scale</th>\n",
       "      <th>universe_model</th>\n",
       "      <th>universe_exclude_features</th>\n",
       "      <th>universe_exclude_subgroups</th>\n",
       "      <th>q_hat</th>\n",
       "      <th>coverage</th>\n",
       "      <th>avg_size</th>\n",
       "    </tr>\n",
       "  </thead>\n",
       "  <tbody>\n",
       "    <tr>\n",
       "      <th>0</th>\n",
       "      <td>684333c825d87922deac10818ff51b33</td>\n",
       "      <td>2012_14</td>\n",
       "      <td>1k</td>\n",
       "      <td>scale</td>\n",
       "      <td>gbm</td>\n",
       "      <td>nationality-sex</td>\n",
       "      <td>drop-non-german</td>\n",
       "      <td>0.782867</td>\n",
       "      <td>0.912262</td>\n",
       "      <td>1.184974</td>\n",
       "    </tr>\n",
       "  </tbody>\n",
       "</table>\n",
       "</div>"
      ],
      "text/plain": [
       "                        universe_id universe_training_year  \\\n",
       "0  684333c825d87922deac10818ff51b33                2012_14   \n",
       "\n",
       "  universe_training_size universe_scale universe_model  \\\n",
       "0                     1k          scale            gbm   \n",
       "\n",
       "  universe_exclude_features universe_exclude_subgroups     q_hat  coverage  \\\n",
       "0           nationality-sex            drop-non-german  0.782867  0.912262   \n",
       "\n",
       "   avg_size  \n",
       "0  1.184974  "
      ]
     },
     "execution_count": 50,
     "metadata": {},
     "output_type": "execute_result"
    }
   ],
   "source": [
    "cp_metrics_df"
   ]
  },
  {
   "cell_type": "markdown",
   "id": "ed608b0b",
   "metadata": {
    "papermill": {
     "duration": 0.012296,
     "end_time": "2025-08-19T18:59:43.068863",
     "exception": false,
     "start_time": "2025-08-19T18:59:43.056567",
     "status": "completed"
    },
    "tags": []
   },
   "source": [
    "Conditional coverage & looking at subgroups"
   ]
  },
  {
   "cell_type": "code",
   "execution_count": 51,
   "id": "8968c366",
   "metadata": {
    "execution": {
     "iopub.execute_input": "2025-08-19T18:59:43.093652Z",
     "iopub.status.busy": "2025-08-19T18:59:43.093218Z",
     "iopub.status.idle": "2025-08-19T18:59:43.412945Z",
     "shell.execute_reply": "2025-08-19T18:59:43.411872Z"
    },
    "papermill": {
     "duration": 0.334376,
     "end_time": "2025-08-19T18:59:43.414922",
     "exception": false,
     "start_time": "2025-08-19T18:59:43.080546",
     "status": "completed"
    },
    "tags": []
   },
   "outputs": [],
   "source": [
    "from fairness_multiverse.conformal import build_cp_groups\n",
    "\n",
    "cp_groups_df = build_cp_groups(pred_sets, y_true, X_test.index, org_test)"
   ]
  },
  {
   "cell_type": "code",
   "execution_count": 52,
   "id": "292ddabf",
   "metadata": {
    "execution": {
     "iopub.execute_input": "2025-08-19T18:59:43.444747Z",
     "iopub.status.busy": "2025-08-19T18:59:43.443766Z",
     "iopub.status.idle": "2025-08-19T18:59:44.299341Z",
     "shell.execute_reply": "2025-08-19T18:59:44.298171Z"
    },
    "papermill": {
     "duration": 0.871915,
     "end_time": "2025-08-19T18:59:44.302503",
     "exception": false,
     "start_time": "2025-08-19T18:59:43.430588",
     "status": "completed"
    },
    "tags": []
   },
   "outputs": [],
   "source": [
    "# Define covered = 1 if true_label is in the predicted set\n",
    "cp_groups_df['covered'] = cp_groups_df.apply(\n",
    "    lambda r: int(r['true_label'] in r['pred_set']),\n",
    "    axis=1\n",
    ")"
   ]
  },
  {
   "cell_type": "code",
   "execution_count": 53,
   "id": "3a261692",
   "metadata": {
    "execution": {
     "iopub.execute_input": "2025-08-19T18:59:44.345518Z",
     "iopub.status.busy": "2025-08-19T18:59:44.344145Z",
     "iopub.status.idle": "2025-08-19T18:59:44.366519Z",
     "shell.execute_reply": "2025-08-19T18:59:44.365676Z"
    },
    "papermill": {
     "duration": 0.039729,
     "end_time": "2025-08-19T18:59:44.368580",
     "exception": false,
     "start_time": "2025-08-19T18:59:44.328851",
     "status": "completed"
    },
    "tags": []
   },
   "outputs": [],
   "source": [
    "subgroups = ['frau1','nongerman','nongerman_male','nongerman_female']\n",
    "\n",
    "# Conditional coverage for subgroup==1\n",
    "cond_coverage = {\n",
    "    g: cp_groups_df.loc[cp_groups_df[g]==1, 'covered'].mean()\n",
    "    for g in subgroups\n",
    "}"
   ]
  },
  {
   "cell_type": "code",
   "execution_count": 54,
   "id": "894fd600",
   "metadata": {
    "execution": {
     "iopub.execute_input": "2025-08-19T18:59:44.407927Z",
     "iopub.status.busy": "2025-08-19T18:59:44.406703Z",
     "iopub.status.idle": "2025-08-19T18:59:44.417589Z",
     "shell.execute_reply": "2025-08-19T18:59:44.416263Z"
    },
    "papermill": {
     "duration": 0.027164,
     "end_time": "2025-08-19T18:59:44.419046",
     "exception": false,
     "start_time": "2025-08-19T18:59:44.391882",
     "status": "completed"
    },
    "tags": []
   },
   "outputs": [
    {
     "data": {
      "text/plain": [
       "{'frau1': 0.908019948780159,\n",
       " 'nongerman': 0.9051254701622411,\n",
       " 'nongerman_male': 0.9231739169593803,\n",
       " 'nongerman_female': 0.8752608047690015}"
      ]
     },
     "execution_count": 54,
     "metadata": {},
     "output_type": "execute_result"
    }
   ],
   "source": [
    "cond_coverage"
   ]
  },
  {
   "cell_type": "code",
   "execution_count": 55,
   "id": "942895c7",
   "metadata": {
    "execution": {
     "iopub.execute_input": "2025-08-19T18:59:44.448086Z",
     "iopub.status.busy": "2025-08-19T18:59:44.446956Z",
     "iopub.status.idle": "2025-08-19T18:59:44.462202Z",
     "shell.execute_reply": "2025-08-19T18:59:44.460721Z"
    },
    "papermill": {
     "duration": 0.030368,
     "end_time": "2025-08-19T18:59:44.463878",
     "exception": false,
     "start_time": "2025-08-19T18:59:44.433510",
     "status": "completed"
    },
    "tags": []
   },
   "outputs": [],
   "source": [
    "for subgroup, cov in cond_coverage.items():\n",
    "    cp_metrics_df[f\"cov_{subgroup}\"] = cov"
   ]
  },
  {
   "cell_type": "code",
   "execution_count": 56,
   "id": "3970120f",
   "metadata": {
    "execution": {
     "iopub.execute_input": "2025-08-19T18:59:44.494409Z",
     "iopub.status.busy": "2025-08-19T18:59:44.493379Z",
     "iopub.status.idle": "2025-08-19T18:59:44.518390Z",
     "shell.execute_reply": "2025-08-19T18:59:44.517603Z"
    },
    "papermill": {
     "duration": 0.040813,
     "end_time": "2025-08-19T18:59:44.520297",
     "exception": false,
     "start_time": "2025-08-19T18:59:44.479484",
     "status": "completed"
    },
    "tags": []
   },
   "outputs": [
    {
     "data": {
      "text/html": [
       "<div>\n",
       "<style scoped>\n",
       "    .dataframe tbody tr th:only-of-type {\n",
       "        vertical-align: middle;\n",
       "    }\n",
       "\n",
       "    .dataframe tbody tr th {\n",
       "        vertical-align: top;\n",
       "    }\n",
       "\n",
       "    .dataframe thead th {\n",
       "        text-align: right;\n",
       "    }\n",
       "</style>\n",
       "<table border=\"1\" class=\"dataframe\">\n",
       "  <thead>\n",
       "    <tr style=\"text-align: right;\">\n",
       "      <th></th>\n",
       "      <th>universe_id</th>\n",
       "      <th>universe_training_year</th>\n",
       "      <th>universe_training_size</th>\n",
       "      <th>universe_scale</th>\n",
       "      <th>universe_model</th>\n",
       "      <th>universe_exclude_features</th>\n",
       "      <th>universe_exclude_subgroups</th>\n",
       "      <th>q_hat</th>\n",
       "      <th>coverage</th>\n",
       "      <th>avg_size</th>\n",
       "      <th>cov_frau1</th>\n",
       "      <th>cov_nongerman</th>\n",
       "      <th>cov_nongerman_male</th>\n",
       "      <th>cov_nongerman_female</th>\n",
       "    </tr>\n",
       "  </thead>\n",
       "  <tbody>\n",
       "    <tr>\n",
       "      <th>0</th>\n",
       "      <td>684333c825d87922deac10818ff51b33</td>\n",
       "      <td>2012_14</td>\n",
       "      <td>1k</td>\n",
       "      <td>scale</td>\n",
       "      <td>gbm</td>\n",
       "      <td>nationality-sex</td>\n",
       "      <td>drop-non-german</td>\n",
       "      <td>0.782867</td>\n",
       "      <td>0.912262</td>\n",
       "      <td>1.184974</td>\n",
       "      <td>0.90802</td>\n",
       "      <td>0.905125</td>\n",
       "      <td>0.923174</td>\n",
       "      <td>0.875261</td>\n",
       "    </tr>\n",
       "  </tbody>\n",
       "</table>\n",
       "</div>"
      ],
      "text/plain": [
       "                        universe_id universe_training_year  \\\n",
       "0  684333c825d87922deac10818ff51b33                2012_14   \n",
       "\n",
       "  universe_training_size universe_scale universe_model  \\\n",
       "0                     1k          scale            gbm   \n",
       "\n",
       "  universe_exclude_features universe_exclude_subgroups     q_hat  coverage  \\\n",
       "0           nationality-sex            drop-non-german  0.782867  0.912262   \n",
       "\n",
       "   avg_size  cov_frau1  cov_nongerman  cov_nongerman_male  \\\n",
       "0  1.184974    0.90802       0.905125            0.923174   \n",
       "\n",
       "   cov_nongerman_female  \n",
       "0              0.875261  "
      ]
     },
     "execution_count": 56,
     "metadata": {},
     "output_type": "execute_result"
    }
   ],
   "source": [
    "cp_metrics_df"
   ]
  },
  {
   "cell_type": "markdown",
   "id": "3fc519cc",
   "metadata": {
    "papermill": {
     "duration": 0.017023,
     "end_time": "2025-08-19T18:59:44.558809",
     "exception": false,
     "start_time": "2025-08-19T18:59:44.541786",
     "status": "completed"
    },
    "tags": []
   },
   "source": [
    "# (Fairness) Metrics"
   ]
  },
  {
   "cell_type": "code",
   "execution_count": 57,
   "id": "a2e5e155",
   "metadata": {
    "execution": {
     "iopub.execute_input": "2025-08-19T18:59:44.588667Z",
     "iopub.status.busy": "2025-08-19T18:59:44.587547Z",
     "iopub.status.idle": "2025-08-19T18:59:44.618098Z",
     "shell.execute_reply": "2025-08-19T18:59:44.617350Z"
    },
    "papermill": {
     "duration": 0.047074,
     "end_time": "2025-08-19T18:59:44.620235",
     "exception": false,
     "start_time": "2025-08-19T18:59:44.573161",
     "status": "completed"
    },
    "tags": []
   },
   "outputs": [],
   "source": [
    "colname_to_bin = \"maxdeutsch1\"\n",
    "majority_value = org_train[colname_to_bin].mode()[0]\n",
    "\n",
    "org_test[\"majmin\"] = np.where(org_test[colname_to_bin] == majority_value, \"majority\", \"minority\")"
   ]
  },
  {
   "cell_type": "code",
   "execution_count": 58,
   "id": "17e3e4d5",
   "metadata": {
    "execution": {
     "iopub.execute_input": "2025-08-19T18:59:44.657105Z",
     "iopub.status.busy": "2025-08-19T18:59:44.656373Z",
     "iopub.status.idle": "2025-08-19T18:59:46.405383Z",
     "shell.execute_reply": "2025-08-19T18:59:46.403943Z"
    },
    "papermill": {
     "duration": 1.768773,
     "end_time": "2025-08-19T18:59:46.410479",
     "exception": false,
     "start_time": "2025-08-19T18:59:44.641706",
     "status": "completed"
    },
    "tags": []
   },
   "outputs": [],
   "source": [
    "example_universe = universe.copy()\n",
    "example_universe[\"cutoff\"] = example_universe[\"cutoff\"][0]\n",
    "example_universe[\"eval_fairness_grouping\"] = example_universe[\"eval_fairness_grouping\"][0]\n",
    "fairness_dict, metric_frame = universe_analysis.compute_metrics(\n",
    "    example_universe,\n",
    "    y_pred_prob=probs_test,\n",
    "    y_test=y_true,\n",
    "    org_test=org_test,\n",
    ")"
   ]
  },
  {
   "cell_type": "markdown",
   "id": "1fb7a0e9",
   "metadata": {
    "papermill": {
     "duration": 0.012287,
     "end_time": "2025-08-19T18:59:46.435965",
     "exception": false,
     "start_time": "2025-08-19T18:59:46.423678",
     "status": "completed"
    },
    "tags": []
   },
   "source": [
    "# Overall"
   ]
  },
  {
   "cell_type": "markdown",
   "id": "be1784b1",
   "metadata": {
    "papermill": {
     "duration": 0.012046,
     "end_time": "2025-08-19T18:59:46.460285",
     "exception": false,
     "start_time": "2025-08-19T18:59:46.448239",
     "status": "completed"
    },
    "tags": []
   },
   "source": [
    "Main fairness target: Equalized Odds. Seems to be a better fit than equal opportunity, since we're not only interested in Y = 1. Seems to be a better fit than demographic parity, since we also care about accuracy, not just equal distribution of preds.\n",
    "\n",
    "Pick column for computation of fairness metrics\n",
    "\n",
    "Performance\n",
    "Overall performance measures, most interesting in relation to the measures split by group below"
   ]
  },
  {
   "cell_type": "code",
   "execution_count": 59,
   "id": "b7672bee",
   "metadata": {
    "execution": {
     "iopub.execute_input": "2025-08-19T18:59:46.492385Z",
     "iopub.status.busy": "2025-08-19T18:59:46.492045Z",
     "iopub.status.idle": "2025-08-19T18:59:46.502111Z",
     "shell.execute_reply": "2025-08-19T18:59:46.501010Z"
    },
    "papermill": {
     "duration": 0.038363,
     "end_time": "2025-08-19T18:59:46.511244",
     "exception": false,
     "start_time": "2025-08-19T18:59:46.472881",
     "status": "completed"
    },
    "tags": []
   },
   "outputs": [
    {
     "data": {
      "text/plain": [
       "accuracy                   0.222729\n",
       "balanced accuracy          0.544947\n",
       "f1                         0.244105\n",
       "precision                  0.139449\n",
       "false positive rate        0.888468\n",
       "false negative rate        0.021637\n",
       "selection rate             0.900000\n",
       "count                  89710.000000\n",
       "dtype: float64"
      ]
     },
     "execution_count": 59,
     "metadata": {},
     "output_type": "execute_result"
    }
   ],
   "source": [
    "metric_frame.overall"
   ]
  },
  {
   "cell_type": "markdown",
   "id": "d93333c9",
   "metadata": {
    "papermill": {
     "duration": 0.019422,
     "end_time": "2025-08-19T18:59:46.553167",
     "exception": false,
     "start_time": "2025-08-19T18:59:46.533745",
     "status": "completed"
    },
    "tags": []
   },
   "source": [
    "By Group"
   ]
  },
  {
   "cell_type": "code",
   "execution_count": 60,
   "id": "52256966",
   "metadata": {
    "execution": {
     "iopub.execute_input": "2025-08-19T18:59:46.583773Z",
     "iopub.status.busy": "2025-08-19T18:59:46.583463Z",
     "iopub.status.idle": "2025-08-19T18:59:46.600809Z",
     "shell.execute_reply": "2025-08-19T18:59:46.599540Z"
    },
    "papermill": {
     "duration": 0.039078,
     "end_time": "2025-08-19T18:59:46.605396",
     "exception": false,
     "start_time": "2025-08-19T18:59:46.566318",
     "status": "completed"
    },
    "tags": []
   },
   "outputs": [
    {
     "data": {
      "text/html": [
       "<div>\n",
       "<style scoped>\n",
       "    .dataframe tbody tr th:only-of-type {\n",
       "        vertical-align: middle;\n",
       "    }\n",
       "\n",
       "    .dataframe tbody tr th {\n",
       "        vertical-align: top;\n",
       "    }\n",
       "\n",
       "    .dataframe thead th {\n",
       "        text-align: right;\n",
       "    }\n",
       "</style>\n",
       "<table border=\"1\" class=\"dataframe\">\n",
       "  <thead>\n",
       "    <tr style=\"text-align: right;\">\n",
       "      <th></th>\n",
       "      <th>accuracy</th>\n",
       "      <th>balanced accuracy</th>\n",
       "      <th>f1</th>\n",
       "      <th>precision</th>\n",
       "      <th>false positive rate</th>\n",
       "      <th>false negative rate</th>\n",
       "      <th>selection rate</th>\n",
       "      <th>count</th>\n",
       "    </tr>\n",
       "    <tr>\n",
       "      <th>majmin</th>\n",
       "      <th></th>\n",
       "      <th></th>\n",
       "      <th></th>\n",
       "      <th></th>\n",
       "      <th></th>\n",
       "      <th></th>\n",
       "      <th></th>\n",
       "      <th></th>\n",
       "    </tr>\n",
       "  </thead>\n",
       "  <tbody>\n",
       "    <tr>\n",
       "      <th>majority</th>\n",
       "      <td>0.243820</td>\n",
       "      <td>0.554279</td>\n",
       "      <td>0.254394</td>\n",
       "      <td>0.146252</td>\n",
       "      <td>0.867699</td>\n",
       "      <td>0.023742</td>\n",
       "      <td>0.882044</td>\n",
       "      <td>69170.0</td>\n",
       "    </tr>\n",
       "    <tr>\n",
       "      <th>minority</th>\n",
       "      <td>0.151704</td>\n",
       "      <td>0.514705</td>\n",
       "      <td>0.211441</td>\n",
       "      <td>0.118410</td>\n",
       "      <td>0.957077</td>\n",
       "      <td>0.013514</td>\n",
       "      <td>0.960467</td>\n",
       "      <td>20540.0</td>\n",
       "    </tr>\n",
       "  </tbody>\n",
       "</table>\n",
       "</div>"
      ],
      "text/plain": [
       "          accuracy  balanced accuracy        f1  precision  \\\n",
       "majmin                                                       \n",
       "majority  0.243820           0.554279  0.254394   0.146252   \n",
       "minority  0.151704           0.514705  0.211441   0.118410   \n",
       "\n",
       "          false positive rate  false negative rate  selection rate    count  \n",
       "majmin                                                                       \n",
       "majority             0.867699             0.023742        0.882044  69170.0  \n",
       "minority             0.957077             0.013514        0.960467  20540.0  "
      ]
     },
     "execution_count": 60,
     "metadata": {},
     "output_type": "execute_result"
    }
   ],
   "source": [
    "metric_frame.by_group"
   ]
  },
  {
   "cell_type": "code",
   "execution_count": 61,
   "id": "6e6c20ae",
   "metadata": {
    "execution": {
     "iopub.execute_input": "2025-08-19T18:59:46.644446Z",
     "iopub.status.busy": "2025-08-19T18:59:46.643491Z",
     "iopub.status.idle": "2025-08-19T18:59:48.519048Z",
     "shell.execute_reply": "2025-08-19T18:59:48.518094Z"
    },
    "papermill": {
     "duration": 1.892445,
     "end_time": "2025-08-19T18:59:48.521219",
     "exception": false,
     "start_time": "2025-08-19T18:59:46.628774",
     "status": "completed"
    },
    "tags": []
   },
   "outputs": [
    {
     "data": {
      "text/plain": [
       "array([[<Axes: title={'center': 'accuracy'}, xlabel='majmin'>,\n",
       "        <Axes: title={'center': 'balanced accuracy'}, xlabel='majmin'>,\n",
       "        <Axes: title={'center': 'f1'}, xlabel='majmin'>],\n",
       "       [<Axes: title={'center': 'precision'}, xlabel='majmin'>,\n",
       "        <Axes: title={'center': 'false positive rate'}, xlabel='majmin'>,\n",
       "        <Axes: title={'center': 'false negative rate'}, xlabel='majmin'>],\n",
       "       [<Axes: title={'center': 'selection rate'}, xlabel='majmin'>,\n",
       "        <Axes: title={'center': 'count'}, xlabel='majmin'>,\n",
       "        <Axes: xlabel='majmin'>]], dtype=object)"
      ]
     },
     "execution_count": 61,
     "metadata": {},
     "output_type": "execute_result"
    },
    {
     "data": {
      "image/png": "[encoded data removed]",
      "text/plain": [
       "<Figure size 1200x800 with 9 Axes>"
      ]
     },
     "metadata": {},
     "output_type": "display_data"
    }
   ],
   "source": [
    "# In a graphic\n",
    "metric_frame.by_group.plot.bar(\n",
    "    subplots=True,\n",
    "    layout=[3, 3],\n",
    "    legend=False,\n",
    "    figsize=[12, 8],\n",
    "    title=\"Show all metrics\",\n",
    ")"
   ]
  },
  {
   "cell_type": "markdown",
   "id": "b2e433ae",
   "metadata": {
    "papermill": {
     "duration": 0.01375,
     "end_time": "2025-08-19T18:59:48.555524",
     "exception": false,
     "start_time": "2025-08-19T18:59:48.541774",
     "status": "completed"
    },
    "tags": []
   },
   "source": [
    "# Final Output"
   ]
  },
  {
   "cell_type": "code",
   "execution_count": 62,
   "id": "3871301e",
   "metadata": {
    "execution": {
     "iopub.execute_input": "2025-08-19T18:59:48.586665Z",
     "iopub.status.busy": "2025-08-19T18:59:48.585077Z",
     "iopub.status.idle": "2025-08-19T18:59:48.595937Z",
     "shell.execute_reply": "2025-08-19T18:59:48.595195Z"
    },
    "papermill": {
     "duration": 0.027609,
     "end_time": "2025-08-19T18:59:48.597183",
     "exception": false,
     "start_time": "2025-08-19T18:59:48.569574",
     "status": "completed"
    },
    "tags": []
   },
   "outputs": [
    {
     "data": {
      "text/plain": [
       "4"
      ]
     },
     "execution_count": 62,
     "metadata": {},
     "output_type": "execute_result"
    }
   ],
   "source": [
    "sub_universes = universe_analysis.generate_sub_universes()\n",
    "len(sub_universes)"
   ]
  },
  {
   "cell_type": "code",
   "execution_count": 63,
   "id": "d9cfdaca",
   "metadata": {
    "execution": {
     "iopub.execute_input": "2025-08-19T18:59:48.630735Z",
     "iopub.status.busy": "2025-08-19T18:59:48.629954Z",
     "iopub.status.idle": "2025-08-19T18:59:48.655541Z",
     "shell.execute_reply": "2025-08-19T18:59:48.653989Z"
    },
    "papermill": {
     "duration": 0.043381,
     "end_time": "2025-08-19T18:59:48.658127",
     "exception": false,
     "start_time": "2025-08-19T18:59:48.614746",
     "status": "completed"
    },
    "tags": []
   },
   "outputs": [],
   "source": [
    "def filter_sub_universe_data(sub_universe, org_test):\n",
    "    # Keep all rows — no filtering\n",
    "    keep_rows_mask = np.ones(org_test.shape[0], dtype=bool)\n",
    "\n",
    "    print(f\"[INFO] Keeping all rows: {keep_rows_mask.sum()} rows retained.\")\n",
    "    return keep_rows_mask"
   ]
  },
  {
   "cell_type": "code",
   "execution_count": 64,
   "id": "2bc31ac1",
   "metadata": {
    "execution": {
     "iopub.execute_input": "2025-08-19T18:59:48.702448Z",
     "iopub.status.busy": "2025-08-19T18:59:48.701090Z",
     "iopub.status.idle": "2025-08-19T18:59:55.544184Z",
     "shell.execute_reply": "2025-08-19T18:59:55.543165Z"
    },
    "papermill": {
     "duration": 6.861066,
     "end_time": "2025-08-19T18:59:55.545460",
     "exception": false,
     "start_time": "2025-08-19T18:59:48.684394",
     "status": "completed"
    },
    "tags": []
   },
   "outputs": [
    {
     "name": "stdout",
     "output_type": "stream",
     "text": [
      "Stopping execution_time clock.\n",
      "[INFO] Keeping all rows: 89710 rows retained.\n"
     ]
    },
    {
     "name": "stdout",
     "output_type": "stream",
     "text": [
      "[INFO] Keeping all rows: 89710 rows retained.\n"
     ]
    },
    {
     "name": "stdout",
     "output_type": "stream",
     "text": [
      "[INFO] Keeping all rows: 89710 rows retained.\n"
     ]
    },
    {
     "name": "stdout",
     "output_type": "stream",
     "text": [
      "[INFO] Keeping all rows: 89710 rows retained.\n"
     ]
    },
    {
     "data": {
      "text/html": [
       "<div>\n",
       "<style scoped>\n",
       "    .dataframe tbody tr th:only-of-type {\n",
       "        vertical-align: middle;\n",
       "    }\n",
       "\n",
       "    .dataframe tbody tr th {\n",
       "        vertical-align: top;\n",
       "    }\n",
       "\n",
       "    .dataframe thead th {\n",
       "        text-align: right;\n",
       "    }\n",
       "</style>\n",
       "<table border=\"1\" class=\"dataframe\">\n",
       "  <thead>\n",
       "    <tr style=\"text-align: right;\">\n",
       "      <th></th>\n",
       "      <th>run_no</th>\n",
       "      <th>universe_id</th>\n",
       "      <th>universe_settings</th>\n",
       "      <th>execution_time</th>\n",
       "      <th>test_size_n</th>\n",
       "      <th>test_size_frac</th>\n",
       "      <th>fair_main_equalized_odds_difference</th>\n",
       "      <th>fair_main_equalized_odds_ratio</th>\n",
       "      <th>fair_main_demographic_parity_difference</th>\n",
       "      <th>fair_main_demographic_parity_ratio</th>\n",
       "      <th>...</th>\n",
       "      <th>perf_grp_precision_0</th>\n",
       "      <th>perf_grp_precision_1</th>\n",
       "      <th>perf_grp_false positive rate_0</th>\n",
       "      <th>perf_grp_false positive rate_1</th>\n",
       "      <th>perf_grp_false negative rate_0</th>\n",
       "      <th>perf_grp_false negative rate_1</th>\n",
       "      <th>perf_grp_selection rate_0</th>\n",
       "      <th>perf_grp_selection rate_1</th>\n",
       "      <th>perf_grp_count_0</th>\n",
       "      <th>perf_grp_count_1</th>\n",
       "    </tr>\n",
       "  </thead>\n",
       "  <tbody>\n",
       "    <tr>\n",
       "      <th>0</th>\n",
       "      <td>3</td>\n",
       "      <td>684333c825d87922deac10818ff51b33</td>\n",
       "      <td>{\"cutoff\": \"quantile_0.1\", \"eval_fairness_grou...</td>\n",
       "      <td>23.713896</td>\n",
       "      <td>89710</td>\n",
       "      <td>1.0</td>\n",
       "      <td>0.089377</td>\n",
       "      <td>0.906614</td>\n",
       "      <td>0.078423</td>\n",
       "      <td>0.918349</td>\n",
       "      <td>...</td>\n",
       "      <td>NaN</td>\n",
       "      <td>NaN</td>\n",
       "      <td>NaN</td>\n",
       "      <td>NaN</td>\n",
       "      <td>NaN</td>\n",
       "      <td>NaN</td>\n",
       "      <td>NaN</td>\n",
       "      <td>NaN</td>\n",
       "      <td>NaN</td>\n",
       "      <td>NaN</td>\n",
       "    </tr>\n",
       "    <tr>\n",
       "      <th>0</th>\n",
       "      <td>3</td>\n",
       "      <td>684333c825d87922deac10818ff51b33</td>\n",
       "      <td>{\"cutoff\": \"quantile_0.1\", \"eval_fairness_grou...</td>\n",
       "      <td>23.713896</td>\n",
       "      <td>89710</td>\n",
       "      <td>1.0</td>\n",
       "      <td>0.089377</td>\n",
       "      <td>0.906614</td>\n",
       "      <td>0.078423</td>\n",
       "      <td>0.918349</td>\n",
       "      <td>...</td>\n",
       "      <td>0.118410</td>\n",
       "      <td>0.146252</td>\n",
       "      <td>0.957077</td>\n",
       "      <td>0.867699</td>\n",
       "      <td>0.013514</td>\n",
       "      <td>0.023742</td>\n",
       "      <td>0.960467</td>\n",
       "      <td>0.882044</td>\n",
       "      <td>20540.0</td>\n",
       "      <td>69170.0</td>\n",
       "    </tr>\n",
       "    <tr>\n",
       "      <th>0</th>\n",
       "      <td>3</td>\n",
       "      <td>684333c825d87922deac10818ff51b33</td>\n",
       "      <td>{\"cutoff\": \"quantile_0.25\", \"eval_fairness_gro...</td>\n",
       "      <td>23.713896</td>\n",
       "      <td>89710</td>\n",
       "      <td>1.0</td>\n",
       "      <td>0.096042</td>\n",
       "      <td>0.879653</td>\n",
       "      <td>0.081209</td>\n",
       "      <td>0.900064</td>\n",
       "      <td>...</td>\n",
       "      <td>NaN</td>\n",
       "      <td>NaN</td>\n",
       "      <td>NaN</td>\n",
       "      <td>NaN</td>\n",
       "      <td>NaN</td>\n",
       "      <td>NaN</td>\n",
       "      <td>NaN</td>\n",
       "      <td>NaN</td>\n",
       "      <td>NaN</td>\n",
       "      <td>NaN</td>\n",
       "    </tr>\n",
       "    <tr>\n",
       "      <th>0</th>\n",
       "      <td>3</td>\n",
       "      <td>684333c825d87922deac10818ff51b33</td>\n",
       "      <td>{\"cutoff\": \"quantile_0.25\", \"eval_fairness_gro...</td>\n",
       "      <td>23.713896</td>\n",
       "      <td>89710</td>\n",
       "      <td>1.0</td>\n",
       "      <td>0.096042</td>\n",
       "      <td>0.879653</td>\n",
       "      <td>0.081209</td>\n",
       "      <td>0.900064</td>\n",
       "      <td>...</td>\n",
       "      <td>0.131149</td>\n",
       "      <td>0.167026</td>\n",
       "      <td>0.798041</td>\n",
       "      <td>0.701999</td>\n",
       "      <td>0.075591</td>\n",
       "      <td>0.075492</td>\n",
       "      <td>0.812610</td>\n",
       "      <td>0.731401</td>\n",
       "      <td>20540.0</td>\n",
       "      <td>69170.0</td>\n",
       "    </tr>\n",
       "  </tbody>\n",
       "</table>\n",
       "<p>4 rows × 50 columns</p>\n",
       "</div>"
      ],
      "text/plain": [
       "  run_no                       universe_id  \\\n",
       "0      3  684333c825d87922deac10818ff51b33   \n",
       "0      3  684333c825d87922deac10818ff51b33   \n",
       "0      3  684333c825d87922deac10818ff51b33   \n",
       "0      3  684333c825d87922deac10818ff51b33   \n",
       "\n",
       "                                   universe_settings  execution_time  \\\n",
       "0  {\"cutoff\": \"quantile_0.1\", \"eval_fairness_grou...       23.713896   \n",
       "0  {\"cutoff\": \"quantile_0.1\", \"eval_fairness_grou...       23.713896   \n",
       "0  {\"cutoff\": \"quantile_0.25\", \"eval_fairness_gro...       23.713896   \n",
       "0  {\"cutoff\": \"quantile_0.25\", \"eval_fairness_gro...       23.713896   \n",
       "\n",
       "   test_size_n  test_size_frac  fair_main_equalized_odds_difference  \\\n",
       "0        89710             1.0                             0.089377   \n",
       "0        89710             1.0                             0.089377   \n",
       "0        89710             1.0                             0.096042   \n",
       "0        89710             1.0                             0.096042   \n",
       "\n",
       "   fair_main_equalized_odds_ratio  fair_main_demographic_parity_difference  \\\n",
       "0                        0.906614                                 0.078423   \n",
       "0                        0.906614                                 0.078423   \n",
       "0                        0.879653                                 0.081209   \n",
       "0                        0.879653                                 0.081209   \n",
       "\n",
       "   fair_main_demographic_parity_ratio  ...  perf_grp_precision_0  \\\n",
       "0                            0.918349  ...                   NaN   \n",
       "0                            0.918349  ...              0.118410   \n",
       "0                            0.900064  ...                   NaN   \n",
       "0                            0.900064  ...              0.131149   \n",
       "\n",
       "   perf_grp_precision_1  perf_grp_false positive rate_0  \\\n",
       "0                   NaN                             NaN   \n",
       "0              0.146252                        0.957077   \n",
       "0                   NaN                             NaN   \n",
       "0              0.167026                        0.798041   \n",
       "\n",
       "   perf_grp_false positive rate_1  perf_grp_false negative rate_0  \\\n",
       "0                             NaN                             NaN   \n",
       "0                        0.867699                        0.013514   \n",
       "0                             NaN                             NaN   \n",
       "0                        0.701999                        0.075591   \n",
       "\n",
       "   perf_grp_false negative rate_1  perf_grp_selection rate_0  \\\n",
       "0                             NaN                        NaN   \n",
       "0                        0.023742                   0.960467   \n",
       "0                             NaN                        NaN   \n",
       "0                        0.075492                   0.812610   \n",
       "\n",
       "   perf_grp_selection rate_1  perf_grp_count_0  perf_grp_count_1  \n",
       "0                        NaN               NaN               NaN  \n",
       "0                   0.882044           20540.0           69170.0  \n",
       "0                        NaN               NaN               NaN  \n",
       "0                   0.731401           20540.0           69170.0  \n",
       "\n",
       "[4 rows x 50 columns]"
      ]
     },
     "execution_count": 64,
     "metadata": {},
     "output_type": "execute_result"
    }
   ],
   "source": [
    "final_output = universe_analysis.generate_final_output(\n",
    "    y_pred_prob=probs_test,\n",
    "    y_test=y_true,\n",
    "    org_test=org_test,\n",
    "    filter_data=filter_sub_universe_data,\n",
    "    cp_metrics_df=cp_metrics_df,\n",
    "    save=True,\n",
    ")\n",
    "final_output"
   ]
  },
  {
   "cell_type": "code",
   "execution_count": null,
   "id": "8b80a1ff",
   "metadata": {
    "papermill": {
     "duration": 0.021395,
     "end_time": "2025-08-19T18:59:55.585511",
     "exception": false,
     "start_time": "2025-08-19T18:59:55.564116",
     "status": "completed"
    },
    "tags": []
   },
   "outputs": [],
   "source": []
  },
  {
   "cell_type": "code",
   "execution_count": null,
   "id": "275c9fad",
   "metadata": {
    "papermill": {
     "duration": 0.015417,
     "end_time": "2025-08-19T18:59:55.615648",
     "exception": false,
     "start_time": "2025-08-19T18:59:55.600231",
     "status": "completed"
    },
    "tags": []
   },
   "outputs": [],
   "source": []
  }
 ],
 "metadata": {
  "celltoolbar": "Tags",
  "kernelspec": {
   "display_name": "Python (CMA Fairness)",
   "language": "python",
   "name": "cma_fair_env"
  },
  "language_info": {
   "codemirror_mode": {
    "name": "ipython",
    "version": 3
   },
   "file_extension": ".py",
   "mimetype": "text/x-python",
   "name": "python",
   "nbconvert_exporter": "python",
   "pygments_lexer": "ipython3",
   "version": "3.10.12"
  },
  "papermill": {
   "default_parameters": {},
   "duration": 34.37618,
   "end_time": "2025-08-19T18:59:56.451752",
   "environment_variables": {},
   "exception": null,
   "input_path": "universe_analysis.ipynb",
   "output_path": "output/runs/3/notebooks/m_3-684333c825d87922deac10818ff51b33.ipynb",
   "parameters": {
    "output_dir": "output",
    "run_no": "3",
    "seed": "2023",
    "universe": "{\"cutoff\": [\"quantile_0.1\", \"quantile_0.25\"], \"eval_fairness_grouping\": [\"majority-minority\", \"nationality-all\"], \"exclude_features\": \"nationality-sex\", \"exclude_subgroups\": \"drop-non-german\", \"model\": \"gbm\", \"scale\": \"scale\", \"training_size\": \"1k\", \"training_year\": \"2012_14\"}",
    "universe_id": "684333c825d87922deac10818ff51b33"
   },
   "start_time": "2025-08-19T18:59:22.075572",
   "version": "2.6.0"
  }
 },
 "nbformat": 4,
 "nbformat_minor": 5
}