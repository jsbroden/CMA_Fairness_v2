{
 "cells": [
  {
   "cell_type": "markdown",
   "id": "ef23dbb3",
   "metadata": {
    "papermill": {
     "duration": 0.033895,
     "end_time": "2025-08-19T19:08:07.653251",
     "exception": false,
     "start_time": "2025-08-19T19:08:07.619356",
     "status": "completed"
    },
    "tags": []
   },
   "source": [
    "# Setup"
   ]
  },
  {
   "cell_type": "code",
   "execution_count": 1,
   "id": "0bc8e7dc",
   "metadata": {
    "execution": {
     "iopub.execute_input": "2025-08-19T19:08:07.702812Z",
     "iopub.status.busy": "2025-08-19T19:08:07.702343Z",
     "iopub.status.idle": "2025-08-19T19:08:07.713818Z",
     "shell.execute_reply": "2025-08-19T19:08:07.712977Z"
    },
    "papermill": {
     "duration": 0.046334,
     "end_time": "2025-08-19T19:08:07.715511",
     "exception": false,
     "start_time": "2025-08-19T19:08:07.669177",
     "status": "completed"
    },
    "tags": []
   },
   "outputs": [
    {
     "name": "stdout",
     "output_type": "stream",
     "text": [
      "/dss/dsshome1/0C/ra93lal2/cma/CMA_Fairness_v2\n"
     ]
    },
    {
     "name": "stderr",
     "output_type": "stream",
     "text": [
      "/dss/dsshome1/0C/ra93lal2/.local/share/virtualenvs/CMA_Fairness_v2-3j10GkSs/lib/python3.10/site-packages/IPython/core/magics/osm.py:393: UserWarning: This is now an optional IPython functionality, using bookmarks requires you to install the `pickleshare` library.\n",
      "  bkms = self.shell.db.get('bookmarks', {})\n",
      "/dss/dsshome1/0C/ra93lal2/.local/share/virtualenvs/CMA_Fairness_v2-3j10GkSs/lib/python3.10/site-packages/IPython/core/magics/osm.py:417: UserWarning: This is now an optional IPython functionality, setting dhist requires you to install the `pickleshare` library.\n",
      "  self.shell.db['dhist'] = compress_dhist(dhist)[-100:]\n"
     ]
    }
   ],
   "source": [
    "%cd ~/cma/CMA_Fairness_v2"
   ]
  },
  {
   "cell_type": "markdown",
   "id": "9d235661",
   "metadata": {
    "papermill": {
     "duration": 0.009662,
     "end_time": "2025-08-19T19:08:07.736183",
     "exception": false,
     "start_time": "2025-08-19T19:08:07.726521",
     "status": "completed"
    },
    "tags": []
   },
   "source": [
    "The following cell holds the definition of our parameters, these values can be overriden by rendering the with e.g. the following command:\n",
    "\n",
    "papermill -p alpha 0.2 -p ratio 0.3 universe_analysis.ipynb output/test_run.ipynb"
   ]
  },
  {
   "cell_type": "code",
   "execution_count": 2,
   "id": "4a789d8e",
   "metadata": {
    "execution": {
     "iopub.execute_input": "2025-08-19T19:08:07.756458Z",
     "iopub.status.busy": "2025-08-19T19:08:07.756128Z",
     "iopub.status.idle": "2025-08-19T19:08:07.803425Z",
     "shell.execute_reply": "2025-08-19T19:08:07.801938Z"
    },
    "papermill": {
     "duration": 0.060649,
     "end_time": "2025-08-19T19:08:07.806387",
     "exception": false,
     "start_time": "2025-08-19T19:08:07.745738",
     "status": "completed"
    },
    "tags": []
   },
   "outputs": [
    {
     "name": "stdout",
     "output_type": "stream",
     "text": [
      "Current working directory: /dss/dsshome1/0C/ra93lal2/cma/CMA_Fairness_v2\n"
     ]
    }
   ],
   "source": [
    "import os\n",
    "print(\"Current working directory:\", os.getcwd())"
   ]
  },
  {
   "cell_type": "code",
   "execution_count": 3,
   "id": "4132aaed",
   "metadata": {
    "execution": {
     "iopub.execute_input": "2025-08-19T19:08:07.843398Z",
     "iopub.status.busy": "2025-08-19T19:08:07.842360Z",
     "iopub.status.idle": "2025-08-19T19:08:07.949689Z",
     "shell.execute_reply": "2025-08-19T19:08:07.948426Z"
    },
    "papermill": {
     "duration": 0.124693,
     "end_time": "2025-08-19T19:08:07.953317",
     "exception": false,
     "start_time": "2025-08-19T19:08:07.828624",
     "status": "completed"
    },
    "tags": [
     "parameters"
    ]
   },
   "outputs": [],
   "source": [
    "run_no = 0\n",
    "universe_id = \"test\"\n",
    "universe = {\n",
    "    \"training_size\": \"5k\", # \"25k\", \"5k\", \"1k\"\n",
    "    \"training_year\": \"2012_14\", # \"2014\", \"2012_14\", \"2010_14\"\n",
    "    \"scale\": \"scale\", # \"scale\", \"do-not-scale\",\n",
    "    \"model\": \"elasticnet\", # \"logreg\", \"penalized_logreg\", \"rf\", \"gbm\", \"elasticnet\"\n",
    "    \"cutoff\": [\"quantile_0.15\", \"quantile_0.30\"],\n",
    "    \"exclude_features\": \"age\", # \"none\", \"nationality\", \"sex\", \"nationality-sex\", \"age\"\n",
    "    \"exclude_subgroups\": \"drop-non-german\", # \"keep-all\", \"drop-non-german\"\n",
    "    \"eval_fairness_grouping\": [\"majority-minority\", \"nationality-all\"]\n",
    "}\n",
    "\n",
    "output_dir=\"./output\"\n",
    "seed=0"
   ]
  },
  {
   "cell_type": "code",
   "execution_count": 4,
   "id": "b4f7de89",
   "metadata": {
    "execution": {
     "iopub.execute_input": "2025-08-19T19:08:07.988273Z",
     "iopub.status.busy": "2025-08-19T19:08:07.987827Z",
     "iopub.status.idle": "2025-08-19T19:08:07.992112Z",
     "shell.execute_reply": "2025-08-19T19:08:07.991382Z"
    },
    "papermill": {
     "duration": 0.01813,
     "end_time": "2025-08-19T19:08:07.993551",
     "exception": false,
     "start_time": "2025-08-19T19:08:07.975421",
     "status": "completed"
    },
    "tags": [
     "injected-parameters"
    ]
   },
   "outputs": [],
   "source": [
    "# Parameters\n",
    "universe_id = \"a12232c2d6835fafaa1aff77b66c7783\"\n",
    "run_no = \"3\"\n",
    "universe = \"{\\\"cutoff\\\": [\\\"quantile_0.1\\\", \\\"quantile_0.25\\\"], \\\"eval_fairness_grouping\\\": [\\\"majority-minority\\\", \\\"nationality-all\\\"], \\\"exclude_features\\\": \\\"sex\\\", \\\"exclude_subgroups\\\": \\\"drop-non-german\\\", \\\"model\\\": \\\"elasticnet\\\", \\\"scale\\\": \\\"scale\\\", \\\"training_size\\\": \\\"1k\\\", \\\"training_year\\\": \\\"2010_14\\\"}\"\n",
    "output_dir = \"output\"\n",
    "seed = \"2023\"\n"
   ]
  },
  {
   "cell_type": "code",
   "execution_count": 5,
   "id": "a5d7941f",
   "metadata": {
    "execution": {
     "iopub.execute_input": "2025-08-19T19:08:08.013747Z",
     "iopub.status.busy": "2025-08-19T19:08:08.013452Z",
     "iopub.status.idle": "2025-08-19T19:08:08.086594Z",
     "shell.execute_reply": "2025-08-19T19:08:08.085104Z"
    },
    "papermill": {
     "duration": 0.085818,
     "end_time": "2025-08-19T19:08:08.089319",
     "exception": false,
     "start_time": "2025-08-19T19:08:08.003501",
     "status": "completed"
    },
    "tags": []
   },
   "outputs": [],
   "source": [
    "import json\n",
    "if isinstance(universe, str):\n",
    "    universe = json.loads(universe)"
   ]
  },
  {
   "cell_type": "code",
   "execution_count": 6,
   "id": "7076ccb1",
   "metadata": {
    "execution": {
     "iopub.execute_input": "2025-08-19T19:08:08.117502Z",
     "iopub.status.busy": "2025-08-19T19:08:08.117108Z",
     "iopub.status.idle": "2025-08-19T19:08:08.159679Z",
     "shell.execute_reply": "2025-08-19T19:08:08.158931Z"
    },
    "papermill": {
     "duration": 0.061197,
     "end_time": "2025-08-19T19:08:08.162333",
     "exception": false,
     "start_time": "2025-08-19T19:08:08.101136",
     "status": "completed"
    },
    "tags": []
   },
   "outputs": [],
   "source": [
    "# Auto-reload the custom package\n",
    "%load_ext autoreload\n",
    "%autoreload 1\n",
    "%aimport fairness_multiverse"
   ]
  },
  {
   "cell_type": "code",
   "execution_count": 7,
   "id": "94c8eb93",
   "metadata": {
    "execution": {
     "iopub.execute_input": "2025-08-19T19:08:08.200636Z",
     "iopub.status.busy": "2025-08-19T19:08:08.199613Z",
     "iopub.status.idle": "2025-08-19T19:08:09.756769Z",
     "shell.execute_reply": "2025-08-19T19:08:09.755645Z"
    },
    "papermill": {
     "duration": 1.572203,
     "end_time": "2025-08-19T19:08:09.758673",
     "exception": false,
     "start_time": "2025-08-19T19:08:08.186470",
     "status": "completed"
    },
    "tags": []
   },
   "outputs": [],
   "source": [
    "from fairness_multiverse.universe import UniverseAnalysis\n",
    "\n",
    "universe_analysis = UniverseAnalysis(\n",
    "    run_no = run_no,\n",
    "    universe_id = universe_id,\n",
    "    universe = universe,\n",
    "    output_dir=output_dir,\n",
    ")"
   ]
  },
  {
   "cell_type": "code",
   "execution_count": 8,
   "id": "2a6381cf",
   "metadata": {
    "execution": {
     "iopub.execute_input": "2025-08-19T19:08:09.790114Z",
     "iopub.status.busy": "2025-08-19T19:08:09.789309Z",
     "iopub.status.idle": "2025-08-19T19:08:09.794718Z",
     "shell.execute_reply": "2025-08-19T19:08:09.794021Z"
    },
    "papermill": {
     "duration": 0.027457,
     "end_time": "2025-08-19T19:08:09.798462",
     "exception": false,
     "start_time": "2025-08-19T19:08:09.771005",
     "status": "completed"
    },
    "tags": []
   },
   "outputs": [
    {
     "name": "stdout",
     "output_type": "stream",
     "text": [
      "Using Seed: 2023\n"
     ]
    }
   ],
   "source": [
    "import numpy as np\n",
    "parsed_seed = int(seed)\n",
    "np.random.seed(parsed_seed)\n",
    "print(f\"Using Seed: {parsed_seed}\")"
   ]
  },
  {
   "cell_type": "markdown",
   "id": "b6e958b4",
   "metadata": {
    "papermill": {
     "duration": 0.00901,
     "end_time": "2025-08-19T19:08:09.816406",
     "exception": false,
     "start_time": "2025-08-19T19:08:09.807396",
     "status": "completed"
    },
    "tags": []
   },
   "source": [
    "# Loading Data"
   ]
  },
  {
   "cell_type": "code",
   "execution_count": 9,
   "id": "98701482",
   "metadata": {
    "execution": {
     "iopub.execute_input": "2025-08-19T19:08:09.840262Z",
     "iopub.status.busy": "2025-08-19T19:08:09.839416Z",
     "iopub.status.idle": "2025-08-19T19:08:20.006297Z",
     "shell.execute_reply": "2025-08-19T19:08:20.005294Z"
    },
    "papermill": {
     "duration": 10.182628,
     "end_time": "2025-08-19T19:08:20.007875",
     "exception": false,
     "start_time": "2025-08-19T19:08:09.825247",
     "status": "completed"
    },
    "tags": []
   },
   "outputs": [
    {
     "name": "stdout",
     "output_type": "stream",
     "text": [
      "Loading SIAB data from cache: data/siab_cached.csv.gz\n"
     ]
    },
    {
     "name": "stdout",
     "output_type": "stream",
     "text": [
      "(643690, 164)\n"
     ]
    }
   ],
   "source": [
    "from pathlib import Path\n",
    "import pandas as pd\n",
    "\n",
    "# File paths\n",
    "raw_file = Path(\"data/raw/siab.csv\")\n",
    "cache_file = Path(\"data/siab_cached.csv.gz\")\n",
    "\n",
    "# Ensure cache directory exists\n",
    "cache_file.parent.mkdir(parents=True, exist_ok=True)\n",
    "\n",
    "# Load with simple caching\n",
    "if cache_file.exists():\n",
    "    print(f\"Loading SIAB data from cache: {cache_file}\")\n",
    "    siab = pd.read_csv(cache_file, compression='gzip')\n",
    "else:\n",
    "    print(f\"Cache not found. Reading raw SIAB data: {raw_file}\")\n",
    "    siab = pd.read_csv(raw_file)\n",
    "    siab.to_csv(cache_file, index=False, compression='gzip')\n",
    "    print(f\"Cached SIAB data to: {cache_file}\")\n",
    "\n",
    "print(siab.shape)"
   ]
  },
  {
   "cell_type": "code",
   "execution_count": 10,
   "id": "058d2abb",
   "metadata": {
    "execution": {
     "iopub.execute_input": "2025-08-19T19:08:20.031774Z",
     "iopub.status.busy": "2025-08-19T19:08:20.030666Z",
     "iopub.status.idle": "2025-08-19T19:08:20.154055Z",
     "shell.execute_reply": "2025-08-19T19:08:20.153343Z"
    },
    "papermill": {
     "duration": 0.1369,
     "end_time": "2025-08-19T19:08:20.156787",
     "exception": false,
     "start_time": "2025-08-19T19:08:20.019887",
     "status": "completed"
    },
    "tags": []
   },
   "outputs": [
    {
     "data": {
      "text/html": [
       "<div>\n",
       "<style scoped>\n",
       "    .dataframe tbody tr th:only-of-type {\n",
       "        vertical-align: middle;\n",
       "    }\n",
       "\n",
       "    .dataframe tbody tr th {\n",
       "        vertical-align: top;\n",
       "    }\n",
       "\n",
       "    .dataframe thead th {\n",
       "        text-align: right;\n",
       "    }\n",
       "</style>\n",
       "<table border=\"1\" class=\"dataframe\">\n",
       "  <thead>\n",
       "    <tr style=\"text-align: right;\">\n",
       "      <th></th>\n",
       "      <th>persnr</th>\n",
       "      <th>year</th>\n",
       "      <th>nrEntry</th>\n",
       "      <th>ltue</th>\n",
       "      <th>employed_before</th>\n",
       "      <th>receipt_leh_before</th>\n",
       "      <th>receipt_lhg_before</th>\n",
       "      <th>se_before</th>\n",
       "      <th>ASU_notue_seeking_before</th>\n",
       "      <th>ASU_other_before</th>\n",
       "      <th>...</th>\n",
       "      <th>minijob_tot_dur_byage</th>\n",
       "      <th>ft_tot_dur_byage</th>\n",
       "      <th>befrist_tot_dur_byage</th>\n",
       "      <th>leih_tot_dur_byage</th>\n",
       "      <th>LHG_tot_dur_byage</th>\n",
       "      <th>LEH_tot_dur_byage</th>\n",
       "      <th>almp_tot_dur_byage</th>\n",
       "      <th>almp_aw_tot_dur_byage</th>\n",
       "      <th>se_tot_dur_byage</th>\n",
       "      <th>seeking1_tot_dur_byage</th>\n",
       "    </tr>\n",
       "  </thead>\n",
       "  <tbody>\n",
       "    <tr>\n",
       "      <th>0</th>\n",
       "      <td>7</td>\n",
       "      <td>2015</td>\n",
       "      <td>1</td>\n",
       "      <td>0</td>\n",
       "      <td>1</td>\n",
       "      <td>0</td>\n",
       "      <td>0</td>\n",
       "      <td>0</td>\n",
       "      <td>1</td>\n",
       "      <td>0</td>\n",
       "      <td>...</td>\n",
       "      <td>0.000000</td>\n",
       "      <td>0.000000</td>\n",
       "      <td>15.043478</td>\n",
       "      <td>0.000000</td>\n",
       "      <td>0.000000</td>\n",
       "      <td>0.000000</td>\n",
       "      <td>0.000000</td>\n",
       "      <td>0.000000</td>\n",
       "      <td>0.000000</td>\n",
       "      <td>0.000000</td>\n",
       "    </tr>\n",
       "    <tr>\n",
       "      <th>1</th>\n",
       "      <td>18</td>\n",
       "      <td>2010</td>\n",
       "      <td>1</td>\n",
       "      <td>1</td>\n",
       "      <td>0</td>\n",
       "      <td>0</td>\n",
       "      <td>0</td>\n",
       "      <td>0</td>\n",
       "      <td>0</td>\n",
       "      <td>0</td>\n",
       "      <td>...</td>\n",
       "      <td>0.000000</td>\n",
       "      <td>0.000000</td>\n",
       "      <td>0.000000</td>\n",
       "      <td>0.000000</td>\n",
       "      <td>0.000000</td>\n",
       "      <td>0.000000</td>\n",
       "      <td>0.000000</td>\n",
       "      <td>0.000000</td>\n",
       "      <td>0.000000</td>\n",
       "      <td>0.000000</td>\n",
       "    </tr>\n",
       "    <tr>\n",
       "      <th>2</th>\n",
       "      <td>18</td>\n",
       "      <td>2011</td>\n",
       "      <td>2</td>\n",
       "      <td>0</td>\n",
       "      <td>1</td>\n",
       "      <td>0</td>\n",
       "      <td>1</td>\n",
       "      <td>0</td>\n",
       "      <td>1</td>\n",
       "      <td>0</td>\n",
       "      <td>...</td>\n",
       "      <td>2.714286</td>\n",
       "      <td>2.714286</td>\n",
       "      <td>0.000000</td>\n",
       "      <td>0.000000</td>\n",
       "      <td>10.775510</td>\n",
       "      <td>0.000000</td>\n",
       "      <td>8.367347</td>\n",
       "      <td>0.000000</td>\n",
       "      <td>0.000000</td>\n",
       "      <td>9.836735</td>\n",
       "    </tr>\n",
       "    <tr>\n",
       "      <th>3</th>\n",
       "      <td>18</td>\n",
       "      <td>2012</td>\n",
       "      <td>3</td>\n",
       "      <td>0</td>\n",
       "      <td>1</td>\n",
       "      <td>0</td>\n",
       "      <td>1</td>\n",
       "      <td>0</td>\n",
       "      <td>1</td>\n",
       "      <td>0</td>\n",
       "      <td>...</td>\n",
       "      <td>4.200000</td>\n",
       "      <td>4.200000</td>\n",
       "      <td>0.000000</td>\n",
       "      <td>0.000000</td>\n",
       "      <td>12.100000</td>\n",
       "      <td>0.000000</td>\n",
       "      <td>9.400000</td>\n",
       "      <td>0.000000</td>\n",
       "      <td>0.000000</td>\n",
       "      <td>9.960000</td>\n",
       "    </tr>\n",
       "    <tr>\n",
       "      <th>4</th>\n",
       "      <td>18</td>\n",
       "      <td>2012</td>\n",
       "      <td>4</td>\n",
       "      <td>0</td>\n",
       "      <td>1</td>\n",
       "      <td>0</td>\n",
       "      <td>1</td>\n",
       "      <td>0</td>\n",
       "      <td>1</td>\n",
       "      <td>0</td>\n",
       "      <td>...</td>\n",
       "      <td>5.460000</td>\n",
       "      <td>5.460000</td>\n",
       "      <td>0.000000</td>\n",
       "      <td>0.000000</td>\n",
       "      <td>13.360000</td>\n",
       "      <td>0.000000</td>\n",
       "      <td>10.320000</td>\n",
       "      <td>0.000000</td>\n",
       "      <td>0.000000</td>\n",
       "      <td>10.280000</td>\n",
       "    </tr>\n",
       "    <tr>\n",
       "      <th>...</th>\n",
       "      <td>...</td>\n",
       "      <td>...</td>\n",
       "      <td>...</td>\n",
       "      <td>...</td>\n",
       "      <td>...</td>\n",
       "      <td>...</td>\n",
       "      <td>...</td>\n",
       "      <td>...</td>\n",
       "      <td>...</td>\n",
       "      <td>...</td>\n",
       "      <td>...</td>\n",
       "      <td>...</td>\n",
       "      <td>...</td>\n",
       "      <td>...</td>\n",
       "      <td>...</td>\n",
       "      <td>...</td>\n",
       "      <td>...</td>\n",
       "      <td>...</td>\n",
       "      <td>...</td>\n",
       "      <td>...</td>\n",
       "      <td>...</td>\n",
       "    </tr>\n",
       "    <tr>\n",
       "      <th>643685</th>\n",
       "      <td>1827860</td>\n",
       "      <td>2013</td>\n",
       "      <td>1</td>\n",
       "      <td>0</td>\n",
       "      <td>0</td>\n",
       "      <td>0</td>\n",
       "      <td>1</td>\n",
       "      <td>0</td>\n",
       "      <td>0</td>\n",
       "      <td>1</td>\n",
       "      <td>...</td>\n",
       "      <td>0.000000</td>\n",
       "      <td>0.000000</td>\n",
       "      <td>0.000000</td>\n",
       "      <td>0.000000</td>\n",
       "      <td>0.612903</td>\n",
       "      <td>0.000000</td>\n",
       "      <td>0.000000</td>\n",
       "      <td>0.000000</td>\n",
       "      <td>0.000000</td>\n",
       "      <td>0.000000</td>\n",
       "    </tr>\n",
       "    <tr>\n",
       "      <th>643686</th>\n",
       "      <td>1827860</td>\n",
       "      <td>2015</td>\n",
       "      <td>2</td>\n",
       "      <td>1</td>\n",
       "      <td>0</td>\n",
       "      <td>0</td>\n",
       "      <td>1</td>\n",
       "      <td>0</td>\n",
       "      <td>1</td>\n",
       "      <td>0</td>\n",
       "      <td>...</td>\n",
       "      <td>0.000000</td>\n",
       "      <td>0.000000</td>\n",
       "      <td>0.212121</td>\n",
       "      <td>0.212121</td>\n",
       "      <td>17.363636</td>\n",
       "      <td>0.000000</td>\n",
       "      <td>8.909091</td>\n",
       "      <td>0.000000</td>\n",
       "      <td>0.000000</td>\n",
       "      <td>7.121212</td>\n",
       "    </tr>\n",
       "    <tr>\n",
       "      <th>643687</th>\n",
       "      <td>1827860</td>\n",
       "      <td>2016</td>\n",
       "      <td>3</td>\n",
       "      <td>1</td>\n",
       "      <td>0</td>\n",
       "      <td>0</td>\n",
       "      <td>1</td>\n",
       "      <td>1</td>\n",
       "      <td>0</td>\n",
       "      <td>1</td>\n",
       "      <td>...</td>\n",
       "      <td>0.000000</td>\n",
       "      <td>0.000000</td>\n",
       "      <td>0.294118</td>\n",
       "      <td>0.205882</td>\n",
       "      <td>34.705882</td>\n",
       "      <td>0.000000</td>\n",
       "      <td>10.352941</td>\n",
       "      <td>1.705882</td>\n",
       "      <td>1.705882</td>\n",
       "      <td>23.911765</td>\n",
       "    </tr>\n",
       "    <tr>\n",
       "      <th>643688</th>\n",
       "      <td>1827869</td>\n",
       "      <td>2013</td>\n",
       "      <td>1</td>\n",
       "      <td>1</td>\n",
       "      <td>1</td>\n",
       "      <td>0</td>\n",
       "      <td>0</td>\n",
       "      <td>0</td>\n",
       "      <td>1</td>\n",
       "      <td>0</td>\n",
       "      <td>...</td>\n",
       "      <td>0.000000</td>\n",
       "      <td>0.000000</td>\n",
       "      <td>0.000000</td>\n",
       "      <td>0.000000</td>\n",
       "      <td>0.000000</td>\n",
       "      <td>0.525424</td>\n",
       "      <td>0.000000</td>\n",
       "      <td>0.000000</td>\n",
       "      <td>0.000000</td>\n",
       "      <td>0.000000</td>\n",
       "    </tr>\n",
       "    <tr>\n",
       "      <th>643689</th>\n",
       "      <td>1827869</td>\n",
       "      <td>2014</td>\n",
       "      <td>2</td>\n",
       "      <td>0</td>\n",
       "      <td>0</td>\n",
       "      <td>1</td>\n",
       "      <td>0</td>\n",
       "      <td>0</td>\n",
       "      <td>1</td>\n",
       "      <td>0</td>\n",
       "      <td>...</td>\n",
       "      <td>0.000000</td>\n",
       "      <td>0.666667</td>\n",
       "      <td>0.666667</td>\n",
       "      <td>0.000000</td>\n",
       "      <td>0.000000</td>\n",
       "      <td>8.950000</td>\n",
       "      <td>1.033333</td>\n",
       "      <td>0.083333</td>\n",
       "      <td>0.083333</td>\n",
       "      <td>8.133333</td>\n",
       "    </tr>\n",
       "  </tbody>\n",
       "</table>\n",
       "<p>643690 rows × 164 columns</p>\n",
       "</div>"
      ],
      "text/plain": [
       "         persnr  year  nrEntry  ltue  employed_before  receipt_leh_before  \\\n",
       "0             7  2015        1     0                1                   0   \n",
       "1            18  2010        1     1                0                   0   \n",
       "2            18  2011        2     0                1                   0   \n",
       "3            18  2012        3     0                1                   0   \n",
       "4            18  2012        4     0                1                   0   \n",
       "...         ...   ...      ...   ...              ...                 ...   \n",
       "643685  1827860  2013        1     0                0                   0   \n",
       "643686  1827860  2015        2     1                0                   0   \n",
       "643687  1827860  2016        3     1                0                   0   \n",
       "643688  1827869  2013        1     1                1                   0   \n",
       "643689  1827869  2014        2     0                0                   1   \n",
       "\n",
       "        receipt_lhg_before  se_before  ASU_notue_seeking_before  \\\n",
       "0                        0          0                         1   \n",
       "1                        0          0                         0   \n",
       "2                        1          0                         1   \n",
       "3                        1          0                         1   \n",
       "4                        1          0                         1   \n",
       "...                    ...        ...                       ...   \n",
       "643685                   1          0                         0   \n",
       "643686                   1          0                         1   \n",
       "643687                   1          1                         0   \n",
       "643688                   0          0                         1   \n",
       "643689                   0          0                         1   \n",
       "\n",
       "        ASU_other_before  ...  minijob_tot_dur_byage  ft_tot_dur_byage  \\\n",
       "0                      0  ...               0.000000          0.000000   \n",
       "1                      0  ...               0.000000          0.000000   \n",
       "2                      0  ...               2.714286          2.714286   \n",
       "3                      0  ...               4.200000          4.200000   \n",
       "4                      0  ...               5.460000          5.460000   \n",
       "...                  ...  ...                    ...               ...   \n",
       "643685                 1  ...               0.000000          0.000000   \n",
       "643686                 0  ...               0.000000          0.000000   \n",
       "643687                 1  ...               0.000000          0.000000   \n",
       "643688                 0  ...               0.000000          0.000000   \n",
       "643689                 0  ...               0.000000          0.666667   \n",
       "\n",
       "        befrist_tot_dur_byage  leih_tot_dur_byage  LHG_tot_dur_byage  \\\n",
       "0                   15.043478            0.000000           0.000000   \n",
       "1                    0.000000            0.000000           0.000000   \n",
       "2                    0.000000            0.000000          10.775510   \n",
       "3                    0.000000            0.000000          12.100000   \n",
       "4                    0.000000            0.000000          13.360000   \n",
       "...                       ...                 ...                ...   \n",
       "643685               0.000000            0.000000           0.612903   \n",
       "643686               0.212121            0.212121          17.363636   \n",
       "643687               0.294118            0.205882          34.705882   \n",
       "643688               0.000000            0.000000           0.000000   \n",
       "643689               0.666667            0.000000           0.000000   \n",
       "\n",
       "        LEH_tot_dur_byage  almp_tot_dur_byage  almp_aw_tot_dur_byage  \\\n",
       "0                0.000000            0.000000               0.000000   \n",
       "1                0.000000            0.000000               0.000000   \n",
       "2                0.000000            8.367347               0.000000   \n",
       "3                0.000000            9.400000               0.000000   \n",
       "4                0.000000           10.320000               0.000000   \n",
       "...                   ...                 ...                    ...   \n",
       "643685           0.000000            0.000000               0.000000   \n",
       "643686           0.000000            8.909091               0.000000   \n",
       "643687           0.000000           10.352941               1.705882   \n",
       "643688           0.525424            0.000000               0.000000   \n",
       "643689           8.950000            1.033333               0.083333   \n",
       "\n",
       "        se_tot_dur_byage  seeking1_tot_dur_byage  \n",
       "0               0.000000                0.000000  \n",
       "1               0.000000                0.000000  \n",
       "2               0.000000                9.836735  \n",
       "3               0.000000                9.960000  \n",
       "4               0.000000               10.280000  \n",
       "...                  ...                     ...  \n",
       "643685          0.000000                0.000000  \n",
       "643686          0.000000                7.121212  \n",
       "643687          1.705882               23.911765  \n",
       "643688          0.000000                0.000000  \n",
       "643689          0.083333                8.133333  \n",
       "\n",
       "[643690 rows x 164 columns]"
      ]
     },
     "execution_count": 10,
     "metadata": {},
     "output_type": "execute_result"
    }
   ],
   "source": [
    "siab"
   ]
  },
  {
   "cell_type": "markdown",
   "id": "1f87e805",
   "metadata": {
    "papermill": {
     "duration": 0.011702,
     "end_time": "2025-08-19T19:08:20.190114",
     "exception": false,
     "start_time": "2025-08-19T19:08:20.178412",
     "status": "completed"
    },
    "tags": []
   },
   "source": [
    "# Splitting Data and Setting Training Data Size"
   ]
  },
  {
   "cell_type": "code",
   "execution_count": 11,
   "id": "910ae358",
   "metadata": {
    "execution": {
     "iopub.execute_input": "2025-08-19T19:08:20.211824Z",
     "iopub.status.busy": "2025-08-19T19:08:20.210782Z",
     "iopub.status.idle": "2025-08-19T19:08:21.310696Z",
     "shell.execute_reply": "2025-08-19T19:08:21.309996Z"
    },
    "papermill": {
     "duration": 1.112553,
     "end_time": "2025-08-19T19:08:21.312332",
     "exception": false,
     "start_time": "2025-08-19T19:08:20.199779",
     "status": "completed"
    },
    "tags": []
   },
   "outputs": [],
   "source": [
    "from fairness_multiverse.universe import sample_by_year_size\n",
    "\n",
    "siab_train = sample_by_year_size(siab,\n",
    "                               training_year=universe[\"training_year\"],\n",
    "                               training_size=universe[\"training_size\"])"
   ]
  },
  {
   "cell_type": "code",
   "execution_count": 12,
   "id": "919c8ff5",
   "metadata": {
    "execution": {
     "iopub.execute_input": "2025-08-19T19:08:21.336429Z",
     "iopub.status.busy": "2025-08-19T19:08:21.334104Z",
     "iopub.status.idle": "2025-08-19T19:08:21.344461Z",
     "shell.execute_reply": "2025-08-19T19:08:21.343646Z"
    },
    "papermill": {
     "duration": 0.023311,
     "end_time": "2025-08-19T19:08:21.345761",
     "exception": false,
     "start_time": "2025-08-19T19:08:21.322450",
     "status": "completed"
    },
    "tags": []
   },
   "outputs": [
    {
     "data": {
      "text/plain": [
       "(1000, 164)"
      ]
     },
     "execution_count": 12,
     "metadata": {},
     "output_type": "execute_result"
    }
   ],
   "source": [
    "siab_train.shape"
   ]
  },
  {
   "cell_type": "code",
   "execution_count": 13,
   "id": "feb13bf4",
   "metadata": {
    "execution": {
     "iopub.execute_input": "2025-08-19T19:08:21.371393Z",
     "iopub.status.busy": "2025-08-19T19:08:21.370449Z",
     "iopub.status.idle": "2025-08-19T19:08:21.382017Z",
     "shell.execute_reply": "2025-08-19T19:08:21.380993Z"
    },
    "papermill": {
     "duration": 0.024717,
     "end_time": "2025-08-19T19:08:21.383180",
     "exception": false,
     "start_time": "2025-08-19T19:08:21.358463",
     "status": "completed"
    },
    "tags": []
   },
   "outputs": [
    {
     "data": {
      "text/plain": [
       "year\n",
       "2010    200\n",
       "2011    200\n",
       "2012    200\n",
       "2013    200\n",
       "2014    200\n",
       "dtype: int64"
      ]
     },
     "metadata": {},
     "output_type": "display_data"
    }
   ],
   "source": [
    "display(siab_train.groupby(\"year\").size())"
   ]
  },
  {
   "cell_type": "code",
   "execution_count": 14,
   "id": "0997782f",
   "metadata": {
    "execution": {
     "iopub.execute_input": "2025-08-19T19:08:21.407614Z",
     "iopub.status.busy": "2025-08-19T19:08:21.406797Z",
     "iopub.status.idle": "2025-08-19T19:08:21.666157Z",
     "shell.execute_reply": "2025-08-19T19:08:21.665475Z"
    },
    "papermill": {
     "duration": 0.273297,
     "end_time": "2025-08-19T19:08:21.668984",
     "exception": false,
     "start_time": "2025-08-19T19:08:21.395687",
     "status": "completed"
    },
    "tags": []
   },
   "outputs": [],
   "source": [
    "#siab_train = siab_s[siab_s.year < 2015]\n",
    "siab_calib = siab[siab.year == 2015]\n",
    "siab_test = siab[siab.year == 2016]"
   ]
  },
  {
   "cell_type": "code",
   "execution_count": 15,
   "id": "2c1e4012",
   "metadata": {
    "execution": {
     "iopub.execute_input": "2025-08-19T19:08:21.709175Z",
     "iopub.status.busy": "2025-08-19T19:08:21.705877Z",
     "iopub.status.idle": "2025-08-19T19:08:21.716103Z",
     "shell.execute_reply": "2025-08-19T19:08:21.714459Z"
    },
    "papermill": {
     "duration": 0.025379,
     "end_time": "2025-08-19T19:08:21.717506",
     "exception": false,
     "start_time": "2025-08-19T19:08:21.692127",
     "status": "completed"
    },
    "tags": []
   },
   "outputs": [],
   "source": [
    "#siab_calib.shape"
   ]
  },
  {
   "cell_type": "code",
   "execution_count": 16,
   "id": "f66b54ca",
   "metadata": {
    "execution": {
     "iopub.execute_input": "2025-08-19T19:08:21.743098Z",
     "iopub.status.busy": "2025-08-19T19:08:21.741639Z",
     "iopub.status.idle": "2025-08-19T19:08:21.765753Z",
     "shell.execute_reply": "2025-08-19T19:08:21.764039Z"
    },
    "papermill": {
     "duration": 0.037192,
     "end_time": "2025-08-19T19:08:21.767619",
     "exception": false,
     "start_time": "2025-08-19T19:08:21.730427",
     "status": "completed"
    },
    "tags": []
   },
   "outputs": [],
   "source": [
    "#siab_test.shape"
   ]
  },
  {
   "cell_type": "code",
   "execution_count": 17,
   "id": "27e4384d",
   "metadata": {
    "execution": {
     "iopub.execute_input": "2025-08-19T19:08:21.799383Z",
     "iopub.status.busy": "2025-08-19T19:08:21.798356Z",
     "iopub.status.idle": "2025-08-19T19:08:21.809046Z",
     "shell.execute_reply": "2025-08-19T19:08:21.807659Z"
    },
    "papermill": {
     "duration": 0.024375,
     "end_time": "2025-08-19T19:08:21.810464",
     "exception": false,
     "start_time": "2025-08-19T19:08:21.786089",
     "status": "completed"
    },
    "tags": []
   },
   "outputs": [],
   "source": [
    "X_train = siab_train.iloc[:,4:164]\n",
    "y_train = siab_train.iloc[:, [3]]"
   ]
  },
  {
   "cell_type": "code",
   "execution_count": 18,
   "id": "08ee8389",
   "metadata": {
    "execution": {
     "iopub.execute_input": "2025-08-19T19:08:21.836691Z",
     "iopub.status.busy": "2025-08-19T19:08:21.835516Z",
     "iopub.status.idle": "2025-08-19T19:08:21.891473Z",
     "shell.execute_reply": "2025-08-19T19:08:21.890757Z"
    },
    "papermill": {
     "duration": 0.070763,
     "end_time": "2025-08-19T19:08:21.893937",
     "exception": false,
     "start_time": "2025-08-19T19:08:21.823174",
     "status": "completed"
    },
    "tags": []
   },
   "outputs": [],
   "source": [
    "X_calib = siab_calib.iloc[:,4:164]\n",
    "y_calib = siab_calib.iloc[:, [3]]"
   ]
  },
  {
   "cell_type": "code",
   "execution_count": 19,
   "id": "b7ff42e0",
   "metadata": {
    "execution": {
     "iopub.execute_input": "2025-08-19T19:08:21.934762Z",
     "iopub.status.busy": "2025-08-19T19:08:21.933597Z",
     "iopub.status.idle": "2025-08-19T19:08:22.008330Z",
     "shell.execute_reply": "2025-08-19T19:08:22.007558Z"
    },
    "papermill": {
     "duration": 0.090677,
     "end_time": "2025-08-19T19:08:22.010163",
     "exception": false,
     "start_time": "2025-08-19T19:08:21.919486",
     "status": "completed"
    },
    "tags": []
   },
   "outputs": [],
   "source": [
    "X_test = siab_test.iloc[:,4:164]\n",
    "y_true = siab_test.iloc[:, [3]]"
   ]
  },
  {
   "cell_type": "code",
   "execution_count": 20,
   "id": "0275101e",
   "metadata": {
    "execution": {
     "iopub.execute_input": "2025-08-19T19:08:22.036252Z",
     "iopub.status.busy": "2025-08-19T19:08:22.035500Z",
     "iopub.status.idle": "2025-08-19T19:08:22.150412Z",
     "shell.execute_reply": "2025-08-19T19:08:22.149693Z"
    },
    "papermill": {
     "duration": 0.130059,
     "end_time": "2025-08-19T19:08:22.153188",
     "exception": false,
     "start_time": "2025-08-19T19:08:22.023129",
     "status": "completed"
    },
    "tags": []
   },
   "outputs": [],
   "source": [
    "# Auxiliary data needed downstream in the pipeline\n",
    "\n",
    "org_train = X_train.copy()\n",
    "org_test = X_test.copy()\n",
    "org_calib = X_calib.copy()"
   ]
  },
  {
   "cell_type": "markdown",
   "id": "b461e618",
   "metadata": {
    "papermill": {
     "duration": 0.012228,
     "end_time": "2025-08-19T19:08:22.188459",
     "exception": false,
     "start_time": "2025-08-19T19:08:22.176231",
     "status": "completed"
    },
    "tags": []
   },
   "source": [
    "# Preprocessing Data"
   ]
  },
  {
   "cell_type": "code",
   "execution_count": 21,
   "id": "78e74c4b",
   "metadata": {
    "execution": {
     "iopub.execute_input": "2025-08-19T19:08:22.211891Z",
     "iopub.status.busy": "2025-08-19T19:08:22.210887Z",
     "iopub.status.idle": "2025-08-19T19:08:22.217609Z",
     "shell.execute_reply": "2025-08-19T19:08:22.216625Z"
    },
    "papermill": {
     "duration": 0.02004,
     "end_time": "2025-08-19T19:08:22.218922",
     "exception": false,
     "start_time": "2025-08-19T19:08:22.198882",
     "status": "completed"
    },
    "tags": []
   },
   "outputs": [],
   "source": [
    "# EXCLUDE PROTECTED FEATURES\n",
    "# --------------------------\n",
    "\n",
    "excluded_features = universe[\"exclude_features\"].split(\"-\")\n",
    "excluded_features_dictionary = {\n",
    "    \"nationality\": [\"maxdeutsch1\", \"maxdeutsch.Missing.\"],\n",
    "    \"sex\": [\"frau1\"],\n",
    "    \"age\": [\"age\"],\n",
    "}"
   ]
  },
  {
   "cell_type": "code",
   "execution_count": 22,
   "id": "f8e63555",
   "metadata": {
    "execution": {
     "iopub.execute_input": "2025-08-19T19:08:22.241133Z",
     "iopub.status.busy": "2025-08-19T19:08:22.240725Z",
     "iopub.status.idle": "2025-08-19T19:08:22.245116Z",
     "shell.execute_reply": "2025-08-19T19:08:22.244406Z"
    },
    "papermill": {
     "duration": 0.01965,
     "end_time": "2025-08-19T19:08:22.248975",
     "exception": false,
     "start_time": "2025-08-19T19:08:22.229325",
     "status": "completed"
    },
    "tags": []
   },
   "outputs": [],
   "source": [
    "excluded_features_columns = [\n",
    "    excluded_features_dictionary[f] for f in excluded_features if len(f) > 0 and f != \"none\"\n",
    "]"
   ]
  },
  {
   "cell_type": "code",
   "execution_count": 23,
   "id": "da781f7c",
   "metadata": {
    "execution": {
     "iopub.execute_input": "2025-08-19T19:08:22.273850Z",
     "iopub.status.busy": "2025-08-19T19:08:22.272978Z",
     "iopub.status.idle": "2025-08-19T19:08:22.279463Z",
     "shell.execute_reply": "2025-08-19T19:08:22.278436Z"
    },
    "papermill": {
     "duration": 0.0199,
     "end_time": "2025-08-19T19:08:22.281060",
     "exception": false,
     "start_time": "2025-08-19T19:08:22.261160",
     "status": "completed"
    },
    "tags": []
   },
   "outputs": [],
   "source": [
    "from fairness_multiverse.universe import flatten_once\n",
    "\n",
    "excluded_features_columns = flatten_once(excluded_features_columns)"
   ]
  },
  {
   "cell_type": "code",
   "execution_count": 24,
   "id": "37fef0f0",
   "metadata": {
    "execution": {
     "iopub.execute_input": "2025-08-19T19:08:22.305253Z",
     "iopub.status.busy": "2025-08-19T19:08:22.304214Z",
     "iopub.status.idle": "2025-08-19T19:08:22.315413Z",
     "shell.execute_reply": "2025-08-19T19:08:22.314264Z"
    },
    "papermill": {
     "duration": 0.024912,
     "end_time": "2025-08-19T19:08:22.317074",
     "exception": false,
     "start_time": "2025-08-19T19:08:22.292162",
     "status": "completed"
    },
    "tags": []
   },
   "outputs": [
    {
     "name": "stdout",
     "output_type": "stream",
     "text": [
      "Dropping features: ['frau1']\n"
     ]
    }
   ],
   "source": [
    "if len(excluded_features_columns) > 0:\n",
    "    print(f\"Dropping features: {excluded_features_columns}\")\n",
    "    X_train.drop(excluded_features_columns, axis=1, inplace=True)"
   ]
  },
  {
   "cell_type": "code",
   "execution_count": 25,
   "id": "d029e3e9",
   "metadata": {
    "execution": {
     "iopub.execute_input": "2025-08-19T19:08:22.357126Z",
     "iopub.status.busy": "2025-08-19T19:08:22.341260Z",
     "iopub.status.idle": "2025-08-19T19:08:22.418184Z",
     "shell.execute_reply": "2025-08-19T19:08:22.417111Z"
    },
    "papermill": {
     "duration": 0.093425,
     "end_time": "2025-08-19T19:08:22.422772",
     "exception": false,
     "start_time": "2025-08-19T19:08:22.329347",
     "status": "completed"
    },
    "tags": []
   },
   "outputs": [
    {
     "name": "stdout",
     "output_type": "stream",
     "text": [
      "Dropping features: ['frau1']\n"
     ]
    }
   ],
   "source": [
    "if len(excluded_features_columns) > 0:\n",
    "    print(f\"Dropping features: {excluded_features_columns}\")\n",
    "    X_test.drop(excluded_features_columns, axis=1, inplace=True)"
   ]
  },
  {
   "cell_type": "code",
   "execution_count": 26,
   "id": "01d571f0",
   "metadata": {
    "execution": {
     "iopub.execute_input": "2025-08-19T19:08:22.457784Z",
     "iopub.status.busy": "2025-08-19T19:08:22.456267Z",
     "iopub.status.idle": "2025-08-19T19:08:22.513678Z",
     "shell.execute_reply": "2025-08-19T19:08:22.512613Z"
    },
    "papermill": {
     "duration": 0.073796,
     "end_time": "2025-08-19T19:08:22.517251",
     "exception": false,
     "start_time": "2025-08-19T19:08:22.443455",
     "status": "completed"
    },
    "tags": []
   },
   "outputs": [
    {
     "name": "stdout",
     "output_type": "stream",
     "text": [
      "Dropping features: ['frau1']\n"
     ]
    }
   ],
   "source": [
    "if len(excluded_features_columns) > 0:\n",
    "    print(f\"Dropping features: {excluded_features_columns}\")\n",
    "    X_calib.drop(excluded_features_columns, axis=1, inplace=True)"
   ]
  },
  {
   "cell_type": "code",
   "execution_count": 27,
   "id": "3037356e",
   "metadata": {
    "execution": {
     "iopub.execute_input": "2025-08-19T19:08:22.546172Z",
     "iopub.status.busy": "2025-08-19T19:08:22.545523Z",
     "iopub.status.idle": "2025-08-19T19:08:22.551716Z",
     "shell.execute_reply": "2025-08-19T19:08:22.550579Z"
    },
    "papermill": {
     "duration": 0.019668,
     "end_time": "2025-08-19T19:08:22.553189",
     "exception": false,
     "start_time": "2025-08-19T19:08:22.533521",
     "status": "completed"
    },
    "tags": []
   },
   "outputs": [],
   "source": [
    "# EXCLUDE CERTAIN SUBGROUPS\n",
    "# -------------------------\n",
    "\n",
    "mode = universe.get(\"exclude_subgroups\", \"keep-all\") # Defaults to \"keep-all\" if the key is missing."
   ]
  },
  {
   "cell_type": "code",
   "execution_count": 28,
   "id": "9d1e63fd",
   "metadata": {
    "execution": {
     "iopub.execute_input": "2025-08-19T19:08:22.577016Z",
     "iopub.status.busy": "2025-08-19T19:08:22.576040Z",
     "iopub.status.idle": "2025-08-19T19:08:22.586503Z",
     "shell.execute_reply": "2025-08-19T19:08:22.585357Z"
    },
    "papermill": {
     "duration": 0.024072,
     "end_time": "2025-08-19T19:08:22.588153",
     "exception": false,
     "start_time": "2025-08-19T19:08:22.564081",
     "status": "completed"
    },
    "tags": []
   },
   "outputs": [],
   "source": [
    "if mode == \"keep-all\":\n",
    "    keep_mask = pd.Series(True, index=org_train.index)\n",
    "\n",
    "elif mode == \"drop-non-german\":\n",
    "    keep_mask = (org_train[\"maxdeutsch1\"] == 1) & (org_train[\"maxdeutsch.Missing.\"] == 0)\n",
    "\n",
    "else:\n",
    "    raise ValueError(f\"Unsupported mode for exclude_subgroups: {mode}\")"
   ]
  },
  {
   "cell_type": "code",
   "execution_count": 29,
   "id": "d3b65474",
   "metadata": {
    "execution": {
     "iopub.execute_input": "2025-08-19T19:08:22.613911Z",
     "iopub.status.busy": "2025-08-19T19:08:22.612965Z",
     "iopub.status.idle": "2025-08-19T19:08:22.620664Z",
     "shell.execute_reply": "2025-08-19T19:08:22.619743Z"
    },
    "papermill": {
     "duration": 0.020802,
     "end_time": "2025-08-19T19:08:22.621967",
     "exception": false,
     "start_time": "2025-08-19T19:08:22.601165",
     "status": "completed"
    },
    "tags": []
   },
   "outputs": [
    {
     "name": "stdout",
     "output_type": "stream",
     "text": [
      "Dropping 131 rows (13.10%) where mode='drop-non-german'\n"
     ]
    }
   ],
   "source": [
    "n_drop = (~keep_mask).sum() # Calculates how many rows are set to be dropped\n",
    "if n_drop > 0:\n",
    "    pct = n_drop / len(keep_mask) * 100\n",
    "    print(f\"Dropping {n_drop} rows ({pct:.2f}%) where mode='{mode}'\")"
   ]
  },
  {
   "cell_type": "code",
   "execution_count": 30,
   "id": "f44389b3",
   "metadata": {
    "execution": {
     "iopub.execute_input": "2025-08-19T19:08:22.644802Z",
     "iopub.status.busy": "2025-08-19T19:08:22.644063Z",
     "iopub.status.idle": "2025-08-19T19:08:22.649107Z",
     "shell.execute_reply": "2025-08-19T19:08:22.648455Z"
    },
    "papermill": {
     "duration": 0.017545,
     "end_time": "2025-08-19T19:08:22.650208",
     "exception": false,
     "start_time": "2025-08-19T19:08:22.632663",
     "status": "completed"
    },
    "tags": []
   },
   "outputs": [],
   "source": [
    "X_train = X_train[keep_mask]"
   ]
  },
  {
   "cell_type": "code",
   "execution_count": 31,
   "id": "ceca8c2a",
   "metadata": {
    "execution": {
     "iopub.execute_input": "2025-08-19T19:08:22.673619Z",
     "iopub.status.busy": "2025-08-19T19:08:22.673074Z",
     "iopub.status.idle": "2025-08-19T19:08:22.679416Z",
     "shell.execute_reply": "2025-08-19T19:08:22.678371Z"
    },
    "papermill": {
     "duration": 0.019702,
     "end_time": "2025-08-19T19:08:22.680746",
     "exception": false,
     "start_time": "2025-08-19T19:08:22.661044",
     "status": "completed"
    },
    "tags": []
   },
   "outputs": [],
   "source": [
    "y_train = y_train[keep_mask]"
   ]
  },
  {
   "cell_type": "markdown",
   "id": "04d31e2f",
   "metadata": {
    "papermill": {
     "duration": 0.011097,
     "end_time": "2025-08-19T19:08:22.702656",
     "exception": false,
     "start_time": "2025-08-19T19:08:22.691559",
     "status": "completed"
    },
    "tags": []
   },
   "source": [
    "# Model Training"
   ]
  },
  {
   "cell_type": "code",
   "execution_count": 32,
   "id": "db991733",
   "metadata": {
    "execution": {
     "iopub.execute_input": "2025-08-19T19:08:22.730552Z",
     "iopub.status.busy": "2025-08-19T19:08:22.725868Z",
     "iopub.status.idle": "2025-08-19T19:08:22.836002Z",
     "shell.execute_reply": "2025-08-19T19:08:22.835128Z"
    },
    "papermill": {
     "duration": 0.126297,
     "end_time": "2025-08-19T19:08:22.839538",
     "exception": false,
     "start_time": "2025-08-19T19:08:22.713241",
     "status": "completed"
    },
    "tags": []
   },
   "outputs": [],
   "source": [
    "from sklearn.linear_model import LogisticRegression\n",
    "from sklearn.ensemble import GradientBoostingClassifier, RandomForestClassifier\n",
    "\n",
    "if (universe[\"model\"] == \"logreg\"):\n",
    "    model = LogisticRegression() #penalty=\"none\", solver=\"newton-cg\", max_iter=1)\n",
    "elif (universe[\"model\"] == \"penalized_logreg\"):\n",
    "    model = LogisticRegression(penalty=\"l2\", C=0.1) #, solver=\"newton-cg\", max_iter=1)\n",
    "elif (universe[\"model\"] == \"rf\"):\n",
    "    model = RandomForestClassifier() # n_estimators=100, n_jobs=-1\n",
    "elif (universe[\"model\"] == \"gbm\"):\n",
    "    model = GradientBoostingClassifier()\n",
    "elif (universe[\"model\"] == \"elasticnet\"):\n",
    "    model = LogisticRegression(penalty = 'elasticnet', solver = 'saga', l1_ratio = 0.5) # max_iter=5000\n",
    "else:\n",
    "    raise \"Unsupported universe.model\""
   ]
  },
  {
   "cell_type": "code",
   "execution_count": 33,
   "id": "a4b5cd25",
   "metadata": {
    "execution": {
     "iopub.execute_input": "2025-08-19T19:08:22.898103Z",
     "iopub.status.busy": "2025-08-19T19:08:22.897652Z",
     "iopub.status.idle": "2025-08-19T19:08:22.903373Z",
     "shell.execute_reply": "2025-08-19T19:08:22.902522Z"
    },
    "papermill": {
     "duration": 0.025809,
     "end_time": "2025-08-19T19:08:22.905178",
     "exception": false,
     "start_time": "2025-08-19T19:08:22.879369",
     "status": "completed"
    },
    "tags": []
   },
   "outputs": [],
   "source": [
    "from sklearn.pipeline import Pipeline\n",
    "from sklearn.preprocessing import StandardScaler\n",
    "\n",
    "model = Pipeline([\n",
    "    #(\"continuous_processor\", continuous_processor),\n",
    "    #(\"categorical_preprocessor\", categorical_preprocessor),\n",
    "    (\"scale\", StandardScaler() if universe[\"scale\"] == \"scale\" else None), \n",
    "    (\"model\", model),\n",
    "])"
   ]
  },
  {
   "cell_type": "code",
   "execution_count": 34,
   "id": "283a904d",
   "metadata": {
    "execution": {
     "iopub.execute_input": "2025-08-19T19:08:22.930856Z",
     "iopub.status.busy": "2025-08-19T19:08:22.930438Z",
     "iopub.status.idle": "2025-08-19T19:08:23.162136Z",
     "shell.execute_reply": "2025-08-19T19:08:23.161261Z"
    },
    "papermill": {
     "duration": 0.245994,
     "end_time": "2025-08-19T19:08:23.163442",
     "exception": false,
     "start_time": "2025-08-19T19:08:22.917448",
     "status": "completed"
    },
    "tags": []
   },
   "outputs": [
    {
     "name": "stderr",
     "output_type": "stream",
     "text": [
      "/dss/dsshome1/0C/ra93lal2/.local/share/virtualenvs/CMA_Fairness_v2-3j10GkSs/lib/python3.10/site-packages/sklearn/linear_model/_sag.py:350: ConvergenceWarning: The max_iter was reached which means the coef_ did not converge\n",
      "  warnings.warn(\n"
     ]
    },
    {
     "data": {
      "text/html": [
       "<style>#sk-container-id-1 {color: black;background-color: white;}#sk-container-id-1 pre{padding: 0;}#sk-container-id-1 div.sk-toggleable {background-color: white;}#sk-container-id-1 label.sk-toggleable__label {cursor: pointer;display: block;width: 100%;margin-bottom: 0;padding: 0.3em;box-sizing: border-box;text-align: center;}#sk-container-id-1 label.sk-toggleable__label-arrow:before {content: \"▸\";float: left;margin-right: 0.25em;color: #696969;}#sk-container-id-1 label.sk-toggleable__label-arrow:hover:before {color: black;}#sk-container-id-1 div.sk-estimator:hover label.sk-toggleable__label-arrow:before {color: black;}#sk-container-id-1 div.sk-toggleable__content {max-height: 0;max-width: 0;overflow: hidden;text-align: left;background-color: #f0f8ff;}#sk-container-id-1 div.sk-toggleable__content pre {margin: 0.2em;color: black;border-radius: 0.25em;background-color: #f0f8ff;}#sk-container-id-1 input.sk-toggleable__control:checked~div.sk-toggleable__content {max-height: 200px;max-width: 100%;overflow: auto;}#sk-container-id-1 input.sk-toggleable__control:checked~label.sk-toggleable__label-arrow:before {content: \"▾\";}#sk-container-id-1 div.sk-estimator input.sk-toggleable__control:checked~label.sk-toggleable__label {background-color: #d4ebff;}#sk-container-id-1 div.sk-label input.sk-toggleable__control:checked~label.sk-toggleable__label {background-color: #d4ebff;}#sk-container-id-1 input.sk-hidden--visually {border: 0;clip: rect(1px 1px 1px 1px);clip: rect(1px, 1px, 1px, 1px);height: 1px;margin: -1px;overflow: hidden;padding: 0;position: absolute;width: 1px;}#sk-container-id-1 div.sk-estimator {font-family: monospace;background-color: #f0f8ff;border: 1px dotted black;border-radius: 0.25em;box-sizing: border-box;margin-bottom: 0.5em;}#sk-container-id-1 div.sk-estimator:hover {background-color: #d4ebff;}#sk-container-id-1 div.sk-parallel-item::after {content: \"\";width: 100%;border-bottom: 1px solid gray;flex-grow: 1;}#sk-container-id-1 div.sk-label:hover label.sk-toggleable__label {background-color: #d4ebff;}#sk-container-id-1 div.sk-serial::before {content: \"\";position: absolute;border-left: 1px solid gray;box-sizing: border-box;top: 0;bottom: 0;left: 50%;z-index: 0;}#sk-container-id-1 div.sk-serial {display: flex;flex-direction: column;align-items: center;background-color: white;padding-right: 0.2em;padding-left: 0.2em;position: relative;}#sk-container-id-1 div.sk-item {position: relative;z-index: 1;}#sk-container-id-1 div.sk-parallel {display: flex;align-items: stretch;justify-content: center;background-color: white;position: relative;}#sk-container-id-1 div.sk-item::before, #sk-container-id-1 div.sk-parallel-item::before {content: \"\";position: absolute;border-left: 1px solid gray;box-sizing: border-box;top: 0;bottom: 0;left: 50%;z-index: -1;}#sk-container-id-1 div.sk-parallel-item {display: flex;flex-direction: column;z-index: 1;position: relative;background-color: white;}#sk-container-id-1 div.sk-parallel-item:first-child::after {align-self: flex-end;width: 50%;}#sk-container-id-1 div.sk-parallel-item:last-child::after {align-self: flex-start;width: 50%;}#sk-container-id-1 div.sk-parallel-item:only-child::after {width: 0;}#sk-container-id-1 div.sk-dashed-wrapped {border: 1px dashed gray;margin: 0 0.4em 0.5em 0.4em;box-sizing: border-box;padding-bottom: 0.4em;background-color: white;}#sk-container-id-1 div.sk-label label {font-family: monospace;font-weight: bold;display: inline-block;line-height: 1.2em;}#sk-container-id-1 div.sk-label-container {text-align: center;}#sk-container-id-1 div.sk-container {/* jupyter's `normalize.less` sets `[hidden] { display: none; }` but bootstrap.min.css set `[hidden] { display: none !important; }` so we also need the `!important` here to be able to override the default hidden behavior on the sphinx rendered scikit-learn.org. See: https://github.com/scikit-learn/scikit-learn/issues/21755 */display: inline-block !important;position: relative;}#sk-container-id-1 div.sk-text-repr-fallback {display: none;}</style><div id=\"sk-container-id-1\" class=\"sk-top-container\"><div class=\"sk-text-repr-fallback\"><pre>Pipeline(steps=[(&#x27;scale&#x27;, StandardScaler()),\n",
       "                (&#x27;model&#x27;,\n",
       "                 LogisticRegression(l1_ratio=0.5, penalty=&#x27;elasticnet&#x27;,\n",
       "                                    solver=&#x27;saga&#x27;))])</pre><b>In a Jupyter environment, please rerun this cell to show the HTML representation or trust the notebook. <br />On GitHub, the HTML representation is unable to render, please try loading this page with nbviewer.org.</b></div><div class=\"sk-container\" hidden><div class=\"sk-item sk-dashed-wrapped\"><div class=\"sk-label-container\"><div class=\"sk-label sk-toggleable\"><input class=\"sk-toggleable__control sk-hidden--visually\" id=\"sk-estimator-id-1\" type=\"checkbox\" ><label for=\"sk-estimator-id-1\" class=\"sk-toggleable__label sk-toggleable__label-arrow\">Pipeline</label><div class=\"sk-toggleable__content\"><pre>Pipeline(steps=[(&#x27;scale&#x27;, StandardScaler()),\n",
       "                (&#x27;model&#x27;,\n",
       "                 LogisticRegression(l1_ratio=0.5, penalty=&#x27;elasticnet&#x27;,\n",
       "                                    solver=&#x27;saga&#x27;))])</pre></div></div></div><div class=\"sk-serial\"><div class=\"sk-item\"><div class=\"sk-estimator sk-toggleable\"><input class=\"sk-toggleable__control sk-hidden--visually\" id=\"sk-estimator-id-2\" type=\"checkbox\" ><label for=\"sk-estimator-id-2\" class=\"sk-toggleable__label sk-toggleable__label-arrow\">StandardScaler</label><div class=\"sk-toggleable__content\"><pre>StandardScaler()</pre></div></div></div><div class=\"sk-item\"><div class=\"sk-estimator sk-toggleable\"><input class=\"sk-toggleable__control sk-hidden--visually\" id=\"sk-estimator-id-3\" type=\"checkbox\" ><label for=\"sk-estimator-id-3\" class=\"sk-toggleable__label sk-toggleable__label-arrow\">LogisticRegression</label><div class=\"sk-toggleable__content\"><pre>LogisticRegression(l1_ratio=0.5, penalty=&#x27;elasticnet&#x27;, solver=&#x27;saga&#x27;)</pre></div></div></div></div></div></div></div>"
      ],
      "text/plain": [
       "Pipeline(steps=[('scale', StandardScaler()),\n",
       "                ('model',\n",
       "                 LogisticRegression(l1_ratio=0.5, penalty='elasticnet',\n",
       "                                    solver='saga'))])"
      ]
     },
     "execution_count": 34,
     "metadata": {},
     "output_type": "execute_result"
    }
   ],
   "source": [
    "model.fit(X_train, y_train.values.ravel())"
   ]
  },
  {
   "cell_type": "code",
   "execution_count": 35,
   "id": "6e15e313",
   "metadata": {
    "execution": {
     "iopub.execute_input": "2025-08-19T19:08:23.189985Z",
     "iopub.status.busy": "2025-08-19T19:08:23.189002Z",
     "iopub.status.idle": "2025-08-19T19:08:23.379517Z",
     "shell.execute_reply": "2025-08-19T19:08:23.378681Z"
    },
    "papermill": {
     "duration": 0.204429,
     "end_time": "2025-08-19T19:08:23.381121",
     "exception": false,
     "start_time": "2025-08-19T19:08:23.176692",
     "status": "completed"
    },
    "tags": []
   },
   "outputs": [
    {
     "data": {
      "text/plain": [
       "0.8344331735592465"
      ]
     },
     "execution_count": 35,
     "metadata": {},
     "output_type": "execute_result"
    }
   ],
   "source": [
    "from fairness_multiverse.universe import predict_w_threshold\n",
    "\n",
    "probs_test = model.predict_proba(X_test)\n",
    "\n",
    "'''\n",
    "Below code returns a boolean array (or binary 0/1 array depending on how it’s used) where each element \n",
    "is True if the probability of class 1 is greater than or equal to the threshold, and False otherwise.\n",
    "'''\n",
    "y_pred_default = predict_w_threshold(probs_test, 0.5)\n",
    "\n",
    "from sklearn.metrics import accuracy_score\n",
    "\n",
    "# Naive prediction\n",
    "accuracy_score(y_true = y_true, y_pred = y_pred_default)"
   ]
  },
  {
   "cell_type": "code",
   "execution_count": 36,
   "id": "6f14067c",
   "metadata": {
    "execution": {
     "iopub.execute_input": "2025-08-19T19:08:23.408310Z",
     "iopub.status.busy": "2025-08-19T19:08:23.407218Z",
     "iopub.status.idle": "2025-08-19T19:08:23.594014Z",
     "shell.execute_reply": "2025-08-19T19:08:23.592842Z"
    },
    "papermill": {
     "duration": 0.200314,
     "end_time": "2025-08-19T19:08:23.595480",
     "exception": false,
     "start_time": "2025-08-19T19:08:23.395166",
     "status": "completed"
    },
    "tags": []
   },
   "outputs": [
    {
     "data": {
      "text/plain": [
       "array([0, 0, 0, ..., 0, 0, 0])"
      ]
     },
     "execution_count": 36,
     "metadata": {},
     "output_type": "execute_result"
    }
   ],
   "source": [
    "model.predict(X_test)"
   ]
  },
  {
   "cell_type": "markdown",
   "id": "3759920c",
   "metadata": {
    "papermill": {
     "duration": 0.011711,
     "end_time": "2025-08-19T19:08:23.619351",
     "exception": false,
     "start_time": "2025-08-19T19:08:23.607640",
     "status": "completed"
    },
    "tags": []
   },
   "source": [
    "# Conformal Prediction"
   ]
  },
  {
   "cell_type": "code",
   "execution_count": 37,
   "id": "14b27f59",
   "metadata": {
    "execution": {
     "iopub.execute_input": "2025-08-19T19:08:23.644452Z",
     "iopub.status.busy": "2025-08-19T19:08:23.644032Z",
     "iopub.status.idle": "2025-08-19T19:08:23.649942Z",
     "shell.execute_reply": "2025-08-19T19:08:23.648855Z"
    },
    "papermill": {
     "duration": 0.020177,
     "end_time": "2025-08-19T19:08:23.651277",
     "exception": false,
     "start_time": "2025-08-19T19:08:23.631100",
     "status": "completed"
    },
    "tags": []
   },
   "outputs": [],
   "source": [
    "# Miscoverage level for conformal prediction (10% allowed error rate => 90% target coverage)\n",
    "alpha = 0.1"
   ]
  },
  {
   "cell_type": "code",
   "execution_count": 38,
   "id": "59102472",
   "metadata": {
    "execution": {
     "iopub.execute_input": "2025-08-19T19:08:23.677341Z",
     "iopub.status.busy": "2025-08-19T19:08:23.677033Z",
     "iopub.status.idle": "2025-08-19T19:08:23.850573Z",
     "shell.execute_reply": "2025-08-19T19:08:23.849825Z"
    },
    "papermill": {
     "duration": 0.188474,
     "end_time": "2025-08-19T19:08:23.852390",
     "exception": false,
     "start_time": "2025-08-19T19:08:23.663916",
     "status": "completed"
    },
    "tags": []
   },
   "outputs": [],
   "source": [
    "probs_calib = model.predict_proba(X_calib)"
   ]
  },
  {
   "cell_type": "code",
   "execution_count": 39,
   "id": "a792d4dd",
   "metadata": {
    "execution": {
     "iopub.execute_input": "2025-08-19T19:08:23.880910Z",
     "iopub.status.busy": "2025-08-19T19:08:23.880271Z",
     "iopub.status.idle": "2025-08-19T19:08:23.889293Z",
     "shell.execute_reply": "2025-08-19T19:08:23.886907Z"
    },
    "papermill": {
     "duration": 0.023735,
     "end_time": "2025-08-19T19:08:23.890904",
     "exception": false,
     "start_time": "2025-08-19T19:08:23.867169",
     "status": "completed"
    },
    "tags": []
   },
   "outputs": [],
   "source": [
    "y_calib = y_calib.values.ravel().astype(int)"
   ]
  },
  {
   "cell_type": "code",
   "execution_count": 40,
   "id": "650fd033",
   "metadata": {
    "execution": {
     "iopub.execute_input": "2025-08-19T19:08:23.919314Z",
     "iopub.status.busy": "2025-08-19T19:08:23.918598Z",
     "iopub.status.idle": "2025-08-19T19:08:23.929484Z",
     "shell.execute_reply": "2025-08-19T19:08:23.928177Z"
    },
    "papermill": {
     "duration": 0.026107,
     "end_time": "2025-08-19T19:08:23.931296",
     "exception": false,
     "start_time": "2025-08-19T19:08:23.905189",
     "status": "completed"
    },
    "tags": []
   },
   "outputs": [],
   "source": [
    "from fairness_multiverse.conformal import compute_nc_scores\n",
    "\n",
    "# Compute nonconformity scores on calibration set (1 - probability of true class)\n",
    "nc_scores = compute_nc_scores(probs_calib, y_calib)"
   ]
  },
  {
   "cell_type": "code",
   "execution_count": 41,
   "id": "28ada44c",
   "metadata": {
    "execution": {
     "iopub.execute_input": "2025-08-19T19:08:23.959448Z",
     "iopub.status.busy": "2025-08-19T19:08:23.958891Z",
     "iopub.status.idle": "2025-08-19T19:08:23.976531Z",
     "shell.execute_reply": "2025-08-19T19:08:23.975646Z"
    },
    "papermill": {
     "duration": 0.032535,
     "end_time": "2025-08-19T19:08:23.978179",
     "exception": false,
     "start_time": "2025-08-19T19:08:23.945644",
     "status": "completed"
    },
    "tags": []
   },
   "outputs": [],
   "source": [
    "from fairness_multiverse.conformal import find_threshold\n",
    "\n",
    "# Find conformal threshold q_hat for the given alpha (split conformal method)\n",
    "q_hat = find_threshold(nc_scores, alpha)"
   ]
  },
  {
   "cell_type": "code",
   "execution_count": 42,
   "id": "df56469e",
   "metadata": {
    "execution": {
     "iopub.execute_input": "2025-08-19T19:08:24.009428Z",
     "iopub.status.busy": "2025-08-19T19:08:24.009021Z",
     "iopub.status.idle": "2025-08-19T19:08:24.014875Z",
     "shell.execute_reply": "2025-08-19T19:08:24.014045Z"
    },
    "papermill": {
     "duration": 0.020508,
     "end_time": "2025-08-19T19:08:24.016666",
     "exception": false,
     "start_time": "2025-08-19T19:08:23.996158",
     "status": "completed"
    },
    "tags": []
   },
   "outputs": [
    {
     "data": {
      "text/plain": [
       "0.7521006075585791"
      ]
     },
     "execution_count": 42,
     "metadata": {},
     "output_type": "execute_result"
    }
   ],
   "source": [
    "q_hat"
   ]
  },
  {
   "cell_type": "code",
   "execution_count": 43,
   "id": "aa1f5faa",
   "metadata": {
    "execution": {
     "iopub.execute_input": "2025-08-19T19:08:24.041414Z",
     "iopub.status.busy": "2025-08-19T19:08:24.041123Z",
     "iopub.status.idle": "2025-08-19T19:08:24.649957Z",
     "shell.execute_reply": "2025-08-19T19:08:24.649223Z"
    },
    "papermill": {
     "duration": 0.6239,
     "end_time": "2025-08-19T19:08:24.652779",
     "exception": false,
     "start_time": "2025-08-19T19:08:24.028879",
     "status": "completed"
    },
    "tags": []
   },
   "outputs": [],
   "source": [
    "from fairness_multiverse.conformal import predict_conformal_sets\n",
    "\n",
    "# Generate prediction sets for each test example\n",
    "pred_sets = predict_conformal_sets(model, X_test, q_hat)"
   ]
  },
  {
   "cell_type": "code",
   "execution_count": 44,
   "id": "97f67a6b",
   "metadata": {
    "execution": {
     "iopub.execute_input": "2025-08-19T19:08:24.697063Z",
     "iopub.status.busy": "2025-08-19T19:08:24.695829Z",
     "iopub.status.idle": "2025-08-19T19:08:24.701342Z",
     "shell.execute_reply": "2025-08-19T19:08:24.700629Z"
    },
    "papermill": {
     "duration": 0.021323,
     "end_time": "2025-08-19T19:08:24.702569",
     "exception": false,
     "start_time": "2025-08-19T19:08:24.681246",
     "status": "completed"
    },
    "tags": []
   },
   "outputs": [],
   "source": [
    "y_true = y_true.squeeze()"
   ]
  },
  {
   "cell_type": "code",
   "execution_count": 45,
   "id": "e700e9a7",
   "metadata": {
    "execution": {
     "iopub.execute_input": "2025-08-19T19:08:24.727137Z",
     "iopub.status.busy": "2025-08-19T19:08:24.726717Z",
     "iopub.status.idle": "2025-08-19T19:08:25.219753Z",
     "shell.execute_reply": "2025-08-19T19:08:25.218981Z"
    },
    "papermill": {
     "duration": 0.507137,
     "end_time": "2025-08-19T19:08:25.221393",
     "exception": false,
     "start_time": "2025-08-19T19:08:24.714256",
     "status": "completed"
    },
    "tags": []
   },
   "outputs": [],
   "source": [
    "from fairness_multiverse.conformal import evaluate_sets\n",
    "\n",
    "# Evaluate coverage and average set size on test data\n",
    "metrics = evaluate_sets(pred_sets, y_true)"
   ]
  },
  {
   "cell_type": "markdown",
   "id": "efbacec0",
   "metadata": {
    "papermill": {
     "duration": 0.011362,
     "end_time": "2025-08-19T19:08:25.246674",
     "exception": false,
     "start_time": "2025-08-19T19:08:25.235312",
     "status": "completed"
    },
    "tags": []
   },
   "source": [
    "# CP Metrics"
   ]
  },
  {
   "cell_type": "code",
   "execution_count": 46,
   "id": "9de55fb1",
   "metadata": {
    "execution": {
     "iopub.execute_input": "2025-08-19T19:08:25.285482Z",
     "iopub.status.busy": "2025-08-19T19:08:25.280041Z",
     "iopub.status.idle": "2025-08-19T19:08:25.290077Z",
     "shell.execute_reply": "2025-08-19T19:08:25.289401Z"
    },
    "papermill": {
     "duration": 0.033305,
     "end_time": "2025-08-19T19:08:25.291432",
     "exception": false,
     "start_time": "2025-08-19T19:08:25.258127",
     "status": "completed"
    },
    "tags": []
   },
   "outputs": [
    {
     "data": {
      "text/plain": [
       "{'coverage': 0.911080147140787, 'avg_size': 1.2040798127299075}"
      ]
     },
     "execution_count": 46,
     "metadata": {},
     "output_type": "execute_result"
    }
   ],
   "source": [
    "metrics"
   ]
  },
  {
   "cell_type": "code",
   "execution_count": 47,
   "id": "64c340a1",
   "metadata": {
    "execution": {
     "iopub.execute_input": "2025-08-19T19:08:25.317247Z",
     "iopub.status.busy": "2025-08-19T19:08:25.316837Z",
     "iopub.status.idle": "2025-08-19T19:08:25.323993Z",
     "shell.execute_reply": "2025-08-19T19:08:25.323324Z"
    },
    "papermill": {
     "duration": 0.021604,
     "end_time": "2025-08-19T19:08:25.325366",
     "exception": false,
     "start_time": "2025-08-19T19:08:25.303762",
     "status": "completed"
    },
    "tags": []
   },
   "outputs": [],
   "source": [
    "example_universe = universe.copy()\n",
    "universe_training_year = example_universe.get(\"training_year\")\n",
    "universe_training_size = example_universe.get(\"training_size\")\n",
    "universe_scale = example_universe.get(\"scale\")\n",
    "universe_model = example_universe.get(\"model\")\n",
    "universe_exclude_features = example_universe.get(\"exclude_features\")\n",
    "universe_exclude_subgroups = example_universe.get(\"exclude_subgroups\")"
   ]
  },
  {
   "cell_type": "code",
   "execution_count": 48,
   "id": "dbb53cb4",
   "metadata": {
    "execution": {
     "iopub.execute_input": "2025-08-19T19:08:25.352157Z",
     "iopub.status.busy": "2025-08-19T19:08:25.351821Z",
     "iopub.status.idle": "2025-08-19T19:08:25.358604Z",
     "shell.execute_reply": "2025-08-19T19:08:25.357959Z"
    },
    "papermill": {
     "duration": 0.020804,
     "end_time": "2025-08-19T19:08:25.359769",
     "exception": false,
     "start_time": "2025-08-19T19:08:25.338965",
     "status": "completed"
    },
    "tags": []
   },
   "outputs": [],
   "source": [
    "cp_metrics_dict = {\n",
    "    \"universe_id\": [universe_id],\n",
    "    \"universe_training_year\": [universe_training_year],\n",
    "    \"universe_training_size\": [universe_training_size],\n",
    "    \"universe_scale\": [universe_scale],\n",
    "    \"universe_model\": [universe_model],\n",
    "    \"universe_exclude_features\": [universe_exclude_features],\n",
    "    \"universe_exclude_subgroups\": [universe_exclude_subgroups],\n",
    "    \"q_hat\": [q_hat],\n",
    "    \"coverage\": [metrics[\"coverage\"]],\n",
    "    \"avg_size\": [metrics[\"avg_size\"]],\n",
    "}"
   ]
  },
  {
   "cell_type": "code",
   "execution_count": 49,
   "id": "0d70d4b2",
   "metadata": {
    "execution": {
     "iopub.execute_input": "2025-08-19T19:08:25.386756Z",
     "iopub.status.busy": "2025-08-19T19:08:25.386317Z",
     "iopub.status.idle": "2025-08-19T19:08:25.393795Z",
     "shell.execute_reply": "2025-08-19T19:08:25.393119Z"
    },
    "papermill": {
     "duration": 0.021476,
     "end_time": "2025-08-19T19:08:25.395190",
     "exception": false,
     "start_time": "2025-08-19T19:08:25.373714",
     "status": "completed"
    },
    "tags": []
   },
   "outputs": [],
   "source": [
    "cp_metrics_df = pd.DataFrame(cp_metrics_dict)"
   ]
  },
  {
   "cell_type": "code",
   "execution_count": 50,
   "id": "b494403c",
   "metadata": {
    "execution": {
     "iopub.execute_input": "2025-08-19T19:08:25.423079Z",
     "iopub.status.busy": "2025-08-19T19:08:25.422402Z",
     "iopub.status.idle": "2025-08-19T19:08:25.445783Z",
     "shell.execute_reply": "2025-08-19T19:08:25.444228Z"
    },
    "papermill": {
     "duration": 0.037884,
     "end_time": "2025-08-19T19:08:25.447281",
     "exception": false,
     "start_time": "2025-08-19T19:08:25.409397",
     "status": "completed"
    },
    "tags": []
   },
   "outputs": [
    {
     "data": {
      "text/html": [
       "<div>\n",
       "<style scoped>\n",
       "    .dataframe tbody tr th:only-of-type {\n",
       "        vertical-align: middle;\n",
       "    }\n",
       "\n",
       "    .dataframe tbody tr th {\n",
       "        vertical-align: top;\n",
       "    }\n",
       "\n",
       "    .dataframe thead th {\n",
       "        text-align: right;\n",
       "    }\n",
       "</style>\n",
       "<table border=\"1\" class=\"dataframe\">\n",
       "  <thead>\n",
       "    <tr style=\"text-align: right;\">\n",
       "      <th></th>\n",
       "      <th>universe_id</th>\n",
       "      <th>universe_training_year</th>\n",
       "      <th>universe_training_size</th>\n",
       "      <th>universe_scale</th>\n",
       "      <th>universe_model</th>\n",
       "      <th>universe_exclude_features</th>\n",
       "      <th>universe_exclude_subgroups</th>\n",
       "      <th>q_hat</th>\n",
       "      <th>coverage</th>\n",
       "      <th>avg_size</th>\n",
       "    </tr>\n",
       "  </thead>\n",
       "  <tbody>\n",
       "    <tr>\n",
       "      <th>0</th>\n",
       "      <td>a12232c2d6835fafaa1aff77b66c7783</td>\n",
       "      <td>2010_14</td>\n",
       "      <td>1k</td>\n",
       "      <td>scale</td>\n",
       "      <td>elasticnet</td>\n",
       "      <td>sex</td>\n",
       "      <td>drop-non-german</td>\n",
       "      <td>0.752101</td>\n",
       "      <td>0.91108</td>\n",
       "      <td>1.20408</td>\n",
       "    </tr>\n",
       "  </tbody>\n",
       "</table>\n",
       "</div>"
      ],
      "text/plain": [
       "                        universe_id universe_training_year  \\\n",
       "0  a12232c2d6835fafaa1aff77b66c7783                2010_14   \n",
       "\n",
       "  universe_training_size universe_scale universe_model  \\\n",
       "0                     1k          scale     elasticnet   \n",
       "\n",
       "  universe_exclude_features universe_exclude_subgroups     q_hat  coverage  \\\n",
       "0                       sex            drop-non-german  0.752101   0.91108   \n",
       "\n",
       "   avg_size  \n",
       "0   1.20408  "
      ]
     },
     "execution_count": 50,
     "metadata": {},
     "output_type": "execute_result"
    }
   ],
   "source": [
    "cp_metrics_df"
   ]
  },
  {
   "cell_type": "markdown",
   "id": "ed608b0b",
   "metadata": {
    "papermill": {
     "duration": 0.016101,
     "end_time": "2025-08-19T19:08:25.485754",
     "exception": false,
     "start_time": "2025-08-19T19:08:25.469653",
     "status": "completed"
    },
    "tags": []
   },
   "source": [
    "Conditional coverage & looking at subgroups"
   ]
  },
  {
   "cell_type": "code",
   "execution_count": 51,
   "id": "8968c366",
   "metadata": {
    "execution": {
     "iopub.execute_input": "2025-08-19T19:08:25.512464Z",
     "iopub.status.busy": "2025-08-19T19:08:25.511500Z",
     "iopub.status.idle": "2025-08-19T19:08:25.748188Z",
     "shell.execute_reply": "2025-08-19T19:08:25.747273Z"
    },
    "papermill": {
     "duration": 0.2526,
     "end_time": "2025-08-19T19:08:25.750244",
     "exception": false,
     "start_time": "2025-08-19T19:08:25.497644",
     "status": "completed"
    },
    "tags": []
   },
   "outputs": [],
   "source": [
    "from fairness_multiverse.conformal import build_cp_groups\n",
    "\n",
    "cp_groups_df = build_cp_groups(pred_sets, y_true, X_test.index, org_test)"
   ]
  },
  {
   "cell_type": "code",
   "execution_count": 52,
   "id": "292ddabf",
   "metadata": {
    "execution": {
     "iopub.execute_input": "2025-08-19T19:08:25.777834Z",
     "iopub.status.busy": "2025-08-19T19:08:25.777529Z",
     "iopub.status.idle": "2025-08-19T19:08:26.610289Z",
     "shell.execute_reply": "2025-08-19T19:08:26.609111Z"
    },
    "papermill": {
     "duration": 0.848336,
     "end_time": "2025-08-19T19:08:26.612167",
     "exception": false,
     "start_time": "2025-08-19T19:08:25.763831",
     "status": "completed"
    },
    "tags": []
   },
   "outputs": [],
   "source": [
    "# Define covered = 1 if true_label is in the predicted set\n",
    "cp_groups_df['covered'] = cp_groups_df.apply(\n",
    "    lambda r: int(r['true_label'] in r['pred_set']),\n",
    "    axis=1\n",
    ")"
   ]
  },
  {
   "cell_type": "code",
   "execution_count": 53,
   "id": "3a261692",
   "metadata": {
    "execution": {
     "iopub.execute_input": "2025-08-19T19:08:26.650871Z",
     "iopub.status.busy": "2025-08-19T19:08:26.650145Z",
     "iopub.status.idle": "2025-08-19T19:08:26.671048Z",
     "shell.execute_reply": "2025-08-19T19:08:26.669881Z"
    },
    "papermill": {
     "duration": 0.037452,
     "end_time": "2025-08-19T19:08:26.673084",
     "exception": false,
     "start_time": "2025-08-19T19:08:26.635632",
     "status": "completed"
    },
    "tags": []
   },
   "outputs": [],
   "source": [
    "subgroups = ['frau1','nongerman','nongerman_male','nongerman_female']\n",
    "\n",
    "# Conditional coverage for subgroup==1\n",
    "cond_coverage = {\n",
    "    g: cp_groups_df.loc[cp_groups_df[g]==1, 'covered'].mean()\n",
    "    for g in subgroups\n",
    "}"
   ]
  },
  {
   "cell_type": "code",
   "execution_count": 54,
   "id": "894fd600",
   "metadata": {
    "execution": {
     "iopub.execute_input": "2025-08-19T19:08:26.722388Z",
     "iopub.status.busy": "2025-08-19T19:08:26.721712Z",
     "iopub.status.idle": "2025-08-19T19:08:26.737693Z",
     "shell.execute_reply": "2025-08-19T19:08:26.734212Z"
    },
    "papermill": {
     "duration": 0.047035,
     "end_time": "2025-08-19T19:08:26.739682",
     "exception": false,
     "start_time": "2025-08-19T19:08:26.692647",
     "status": "completed"
    },
    "tags": []
   },
   "outputs": [
    {
     "data": {
      "text/plain": [
       "{'frau1': 0.9099609111740127,\n",
       " 'nongerman': 0.9133778700948745,\n",
       " 'nongerman_male': 0.9287579933351346,\n",
       " 'nongerman_female': 0.8879284649776453}"
      ]
     },
     "execution_count": 54,
     "metadata": {},
     "output_type": "execute_result"
    }
   ],
   "source": [
    "cond_coverage"
   ]
  },
  {
   "cell_type": "code",
   "execution_count": 55,
   "id": "942895c7",
   "metadata": {
    "execution": {
     "iopub.execute_input": "2025-08-19T19:08:26.786242Z",
     "iopub.status.busy": "2025-08-19T19:08:26.785451Z",
     "iopub.status.idle": "2025-08-19T19:08:26.791879Z",
     "shell.execute_reply": "2025-08-19T19:08:26.790931Z"
    },
    "papermill": {
     "duration": 0.02661,
     "end_time": "2025-08-19T19:08:26.793747",
     "exception": false,
     "start_time": "2025-08-19T19:08:26.767137",
     "status": "completed"
    },
    "tags": []
   },
   "outputs": [],
   "source": [
    "for subgroup, cov in cond_coverage.items():\n",
    "    cp_metrics_df[f\"cov_{subgroup}\"] = cov"
   ]
  },
  {
   "cell_type": "code",
   "execution_count": 56,
   "id": "3970120f",
   "metadata": {
    "execution": {
     "iopub.execute_input": "2025-08-19T19:08:26.821100Z",
     "iopub.status.busy": "2025-08-19T19:08:26.820157Z",
     "iopub.status.idle": "2025-08-19T19:08:26.841941Z",
     "shell.execute_reply": "2025-08-19T19:08:26.841216Z"
    },
    "papermill": {
     "duration": 0.03821,
     "end_time": "2025-08-19T19:08:26.844758",
     "exception": false,
     "start_time": "2025-08-19T19:08:26.806548",
     "status": "completed"
    },
    "tags": []
   },
   "outputs": [
    {
     "data": {
      "text/html": [
       "<div>\n",
       "<style scoped>\n",
       "    .dataframe tbody tr th:only-of-type {\n",
       "        vertical-align: middle;\n",
       "    }\n",
       "\n",
       "    .dataframe tbody tr th {\n",
       "        vertical-align: top;\n",
       "    }\n",
       "\n",
       "    .dataframe thead th {\n",
       "        text-align: right;\n",
       "    }\n",
       "</style>\n",
       "<table border=\"1\" class=\"dataframe\">\n",
       "  <thead>\n",
       "    <tr style=\"text-align: right;\">\n",
       "      <th></th>\n",
       "      <th>universe_id</th>\n",
       "      <th>universe_training_year</th>\n",
       "      <th>universe_training_size</th>\n",
       "      <th>universe_scale</th>\n",
       "      <th>universe_model</th>\n",
       "      <th>universe_exclude_features</th>\n",
       "      <th>universe_exclude_subgroups</th>\n",
       "      <th>q_hat</th>\n",
       "      <th>coverage</th>\n",
       "      <th>avg_size</th>\n",
       "      <th>cov_frau1</th>\n",
       "      <th>cov_nongerman</th>\n",
       "      <th>cov_nongerman_male</th>\n",
       "      <th>cov_nongerman_female</th>\n",
       "    </tr>\n",
       "  </thead>\n",
       "  <tbody>\n",
       "    <tr>\n",
       "      <th>0</th>\n",
       "      <td>a12232c2d6835fafaa1aff77b66c7783</td>\n",
       "      <td>2010_14</td>\n",
       "      <td>1k</td>\n",
       "      <td>scale</td>\n",
       "      <td>elasticnet</td>\n",
       "      <td>sex</td>\n",
       "      <td>drop-non-german</td>\n",
       "      <td>0.752101</td>\n",
       "      <td>0.91108</td>\n",
       "      <td>1.20408</td>\n",
       "      <td>0.909961</td>\n",
       "      <td>0.913378</td>\n",
       "      <td>0.928758</td>\n",
       "      <td>0.887928</td>\n",
       "    </tr>\n",
       "  </tbody>\n",
       "</table>\n",
       "</div>"
      ],
      "text/plain": [
       "                        universe_id universe_training_year  \\\n",
       "0  a12232c2d6835fafaa1aff77b66c7783                2010_14   \n",
       "\n",
       "  universe_training_size universe_scale universe_model  \\\n",
       "0                     1k          scale     elasticnet   \n",
       "\n",
       "  universe_exclude_features universe_exclude_subgroups     q_hat  coverage  \\\n",
       "0                       sex            drop-non-german  0.752101   0.91108   \n",
       "\n",
       "   avg_size  cov_frau1  cov_nongerman  cov_nongerman_male  \\\n",
       "0   1.20408   0.909961       0.913378            0.928758   \n",
       "\n",
       "   cov_nongerman_female  \n",
       "0              0.887928  "
      ]
     },
     "execution_count": 56,
     "metadata": {},
     "output_type": "execute_result"
    }
   ],
   "source": [
    "cp_metrics_df"
   ]
  },
  {
   "cell_type": "markdown",
   "id": "3fc519cc",
   "metadata": {
    "papermill": {
     "duration": 0.012635,
     "end_time": "2025-08-19T19:08:26.873633",
     "exception": false,
     "start_time": "2025-08-19T19:08:26.860998",
     "status": "completed"
    },
    "tags": []
   },
   "source": [
    "# (Fairness) Metrics"
   ]
  },
  {
   "cell_type": "code",
   "execution_count": 57,
   "id": "a2e5e155",
   "metadata": {
    "execution": {
     "iopub.execute_input": "2025-08-19T19:08:26.918073Z",
     "iopub.status.busy": "2025-08-19T19:08:26.917603Z",
     "iopub.status.idle": "2025-08-19T19:08:26.932943Z",
     "shell.execute_reply": "2025-08-19T19:08:26.932301Z"
    },
    "papermill": {
     "duration": 0.033749,
     "end_time": "2025-08-19T19:08:26.934031",
     "exception": false,
     "start_time": "2025-08-19T19:08:26.900282",
     "status": "completed"
    },
    "tags": []
   },
   "outputs": [],
   "source": [
    "colname_to_bin = \"maxdeutsch1\"\n",
    "majority_value = org_train[colname_to_bin].mode()[0]\n",
    "\n",
    "org_test[\"majmin\"] = np.where(org_test[colname_to_bin] == majority_value, \"majority\", \"minority\")"
   ]
  },
  {
   "cell_type": "code",
   "execution_count": 58,
   "id": "17e3e4d5",
   "metadata": {
    "execution": {
     "iopub.execute_input": "2025-08-19T19:08:26.987805Z",
     "iopub.status.busy": "2025-08-19T19:08:26.985500Z",
     "iopub.status.idle": "2025-08-19T19:08:28.768033Z",
     "shell.execute_reply": "2025-08-19T19:08:28.766760Z"
    },
    "papermill": {
     "duration": 1.811222,
     "end_time": "2025-08-19T19:08:28.770350",
     "exception": false,
     "start_time": "2025-08-19T19:08:26.959128",
     "status": "completed"
    },
    "tags": []
   },
   "outputs": [],
   "source": [
    "example_universe = universe.copy()\n",
    "example_universe[\"cutoff\"] = example_universe[\"cutoff\"][0]\n",
    "example_universe[\"eval_fairness_grouping\"] = example_universe[\"eval_fairness_grouping\"][0]\n",
    "fairness_dict, metric_frame = universe_analysis.compute_metrics(\n",
    "    example_universe,\n",
    "    y_pred_prob=probs_test,\n",
    "    y_test=y_true,\n",
    "    org_test=org_test,\n",
    ")"
   ]
  },
  {
   "cell_type": "markdown",
   "id": "1fb7a0e9",
   "metadata": {
    "papermill": {
     "duration": 0.014195,
     "end_time": "2025-08-19T19:08:28.805250",
     "exception": false,
     "start_time": "2025-08-19T19:08:28.791055",
     "status": "completed"
    },
    "tags": []
   },
   "source": [
    "# Overall"
   ]
  },
  {
   "cell_type": "markdown",
   "id": "be1784b1",
   "metadata": {
    "papermill": {
     "duration": 0.012381,
     "end_time": "2025-08-19T19:08:28.830771",
     "exception": false,
     "start_time": "2025-08-19T19:08:28.818390",
     "status": "completed"
    },
    "tags": []
   },
   "source": [
    "Main fairness target: Equalized Odds. Seems to be a better fit than equal opportunity, since we're not only interested in Y = 1. Seems to be a better fit than demographic parity, since we also care about accuracy, not just equal distribution of preds.\n",
    "\n",
    "Pick column for computation of fairness metrics\n",
    "\n",
    "Performance\n",
    "Overall performance measures, most interesting in relation to the measures split by group below"
   ]
  },
  {
   "cell_type": "code",
   "execution_count": 59,
   "id": "b7672bee",
   "metadata": {
    "execution": {
     "iopub.execute_input": "2025-08-19T19:08:28.876119Z",
     "iopub.status.busy": "2025-08-19T19:08:28.875658Z",
     "iopub.status.idle": "2025-08-19T19:08:28.884201Z",
     "shell.execute_reply": "2025-08-19T19:08:28.883431Z"
    },
    "papermill": {
     "duration": 0.028472,
     "end_time": "2025-08-19T19:08:28.885750",
     "exception": false,
     "start_time": "2025-08-19T19:08:28.857278",
     "status": "completed"
    },
    "tags": []
   },
   "outputs": [
    {
     "data": {
      "text/plain": [
       "accuracy                   0.219050\n",
       "balanced accuracy          0.536723\n",
       "f1                         0.240528\n",
       "precision                  0.137406\n",
       "false positive rate        0.890578\n",
       "false negative rate        0.035975\n",
       "selection rate             0.900000\n",
       "count                  89710.000000\n",
       "dtype: float64"
      ]
     },
     "execution_count": 59,
     "metadata": {},
     "output_type": "execute_result"
    }
   ],
   "source": [
    "metric_frame.overall"
   ]
  },
  {
   "cell_type": "markdown",
   "id": "d93333c9",
   "metadata": {
    "papermill": {
     "duration": 0.020514,
     "end_time": "2025-08-19T19:08:28.923970",
     "exception": false,
     "start_time": "2025-08-19T19:08:28.903456",
     "status": "completed"
    },
    "tags": []
   },
   "source": [
    "By Group"
   ]
  },
  {
   "cell_type": "code",
   "execution_count": 60,
   "id": "52256966",
   "metadata": {
    "execution": {
     "iopub.execute_input": "2025-08-19T19:08:28.954372Z",
     "iopub.status.busy": "2025-08-19T19:08:28.953975Z",
     "iopub.status.idle": "2025-08-19T19:08:28.966761Z",
     "shell.execute_reply": "2025-08-19T19:08:28.966098Z"
    },
    "papermill": {
     "duration": 0.032327,
     "end_time": "2025-08-19T19:08:28.970930",
     "exception": false,
     "start_time": "2025-08-19T19:08:28.938603",
     "status": "completed"
    },
    "tags": []
   },
   "outputs": [
    {
     "data": {
      "text/html": [
       "<div>\n",
       "<style scoped>\n",
       "    .dataframe tbody tr th:only-of-type {\n",
       "        vertical-align: middle;\n",
       "    }\n",
       "\n",
       "    .dataframe tbody tr th {\n",
       "        vertical-align: top;\n",
       "    }\n",
       "\n",
       "    .dataframe thead th {\n",
       "        text-align: right;\n",
       "    }\n",
       "</style>\n",
       "<table border=\"1\" class=\"dataframe\">\n",
       "  <thead>\n",
       "    <tr style=\"text-align: right;\">\n",
       "      <th></th>\n",
       "      <th>accuracy</th>\n",
       "      <th>balanced accuracy</th>\n",
       "      <th>f1</th>\n",
       "      <th>precision</th>\n",
       "      <th>false positive rate</th>\n",
       "      <th>false negative rate</th>\n",
       "      <th>selection rate</th>\n",
       "      <th>count</th>\n",
       "    </tr>\n",
       "    <tr>\n",
       "      <th>majmin</th>\n",
       "      <th></th>\n",
       "      <th></th>\n",
       "      <th></th>\n",
       "      <th></th>\n",
       "      <th></th>\n",
       "      <th></th>\n",
       "      <th></th>\n",
       "      <th></th>\n",
       "    </tr>\n",
       "  </thead>\n",
       "  <tbody>\n",
       "    <tr>\n",
       "      <th>majority</th>\n",
       "      <td>0.233598</td>\n",
       "      <td>0.541944</td>\n",
       "      <td>0.248909</td>\n",
       "      <td>0.142969</td>\n",
       "      <td>0.877161</td>\n",
       "      <td>0.038950</td>\n",
       "      <td>0.888246</td>\n",
       "      <td>69170.0</td>\n",
       "    </tr>\n",
       "    <tr>\n",
       "      <th>minority</th>\n",
       "      <td>0.170058</td>\n",
       "      <td>0.520303</td>\n",
       "      <td>0.213227</td>\n",
       "      <td>0.119695</td>\n",
       "      <td>0.934900</td>\n",
       "      <td>0.024493</td>\n",
       "      <td>0.939581</td>\n",
       "      <td>20540.0</td>\n",
       "    </tr>\n",
       "  </tbody>\n",
       "</table>\n",
       "</div>"
      ],
      "text/plain": [
       "          accuracy  balanced accuracy        f1  precision  \\\n",
       "majmin                                                       \n",
       "majority  0.233598           0.541944  0.248909   0.142969   \n",
       "minority  0.170058           0.520303  0.213227   0.119695   \n",
       "\n",
       "          false positive rate  false negative rate  selection rate    count  \n",
       "majmin                                                                       \n",
       "majority             0.877161             0.038950        0.888246  69170.0  \n",
       "minority             0.934900             0.024493        0.939581  20540.0  "
      ]
     },
     "execution_count": 60,
     "metadata": {},
     "output_type": "execute_result"
    }
   ],
   "source": [
    "metric_frame.by_group"
   ]
  },
  {
   "cell_type": "code",
   "execution_count": 61,
   "id": "6e6c20ae",
   "metadata": {
    "execution": {
     "iopub.execute_input": "2025-08-19T19:08:29.026621Z",
     "iopub.status.busy": "2025-08-19T19:08:29.025483Z",
     "iopub.status.idle": "2025-08-19T19:08:30.861319Z",
     "shell.execute_reply": "2025-08-19T19:08:30.860348Z"
    },
    "papermill": {
     "duration": 1.854846,
     "end_time": "2025-08-19T19:08:30.862804",
     "exception": false,
     "start_time": "2025-08-19T19:08:29.007958",
     "status": "completed"
    },
    "tags": []
   },
   "outputs": [
    {
     "data": {
      "text/plain": [
       "array([[<Axes: title={'center': 'accuracy'}, xlabel='majmin'>,\n",
       "        <Axes: title={'center': 'balanced accuracy'}, xlabel='majmin'>,\n",
       "        <Axes: title={'center': 'f1'}, xlabel='majmin'>],\n",
       "       [<Axes: title={'center': 'precision'}, xlabel='majmin'>,\n",
       "        <Axes: title={'center': 'false positive rate'}, xlabel='majmin'>,\n",
       "        <Axes: title={'center': 'false negative rate'}, xlabel='majmin'>],\n",
       "       [<Axes: title={'center': 'selection rate'}, xlabel='majmin'>,\n",
       "        <Axes: title={'center': 'count'}, xlabel='majmin'>,\n",
       "        <Axes: xlabel='majmin'>]], dtype=object)"
      ]
     },
     "execution_count": 61,
     "metadata": {},
     "output_type": "execute_result"
    },
    {
     "data": {
      "image/png": "[encoded data removed]",
      "text/plain": [
       "<Figure size 1200x800 with 9 Axes>"
      ]
     },
     "metadata": {},
     "output_type": "display_data"
    }
   ],
   "source": [
    "# In a graphic\n",
    "metric_frame.by_group.plot.bar(\n",
    "    subplots=True,\n",
    "    layout=[3, 3],\n",
    "    legend=False,\n",
    "    figsize=[12, 8],\n",
    "    title=\"Show all metrics\",\n",
    ")"
   ]
  },
  {
   "cell_type": "markdown",
   "id": "b2e433ae",
   "metadata": {
    "papermill": {
     "duration": 0.014335,
     "end_time": "2025-08-19T19:08:30.895199",
     "exception": false,
     "start_time": "2025-08-19T19:08:30.880864",
     "status": "completed"
    },
    "tags": []
   },
   "source": [
    "# Final Output"
   ]
  },
  {
   "cell_type": "code",
   "execution_count": 62,
   "id": "3871301e",
   "metadata": {
    "execution": {
     "iopub.execute_input": "2025-08-19T19:08:30.928061Z",
     "iopub.status.busy": "2025-08-19T19:08:30.925680Z",
     "iopub.status.idle": "2025-08-19T19:08:30.945534Z",
     "shell.execute_reply": "2025-08-19T19:08:30.944108Z"
    },
    "papermill": {
     "duration": 0.038169,
     "end_time": "2025-08-19T19:08:30.947436",
     "exception": false,
     "start_time": "2025-08-19T19:08:30.909267",
     "status": "completed"
    },
    "tags": []
   },
   "outputs": [
    {
     "data": {
      "text/plain": [
       "4"
      ]
     },
     "execution_count": 62,
     "metadata": {},
     "output_type": "execute_result"
    }
   ],
   "source": [
    "sub_universes = universe_analysis.generate_sub_universes()\n",
    "len(sub_universes)"
   ]
  },
  {
   "cell_type": "code",
   "execution_count": 63,
   "id": "d9cfdaca",
   "metadata": {
    "execution": {
     "iopub.execute_input": "2025-08-19T19:08:30.984276Z",
     "iopub.status.busy": "2025-08-19T19:08:30.982970Z",
     "iopub.status.idle": "2025-08-19T19:08:30.993141Z",
     "shell.execute_reply": "2025-08-19T19:08:30.991476Z"
    },
    "papermill": {
     "duration": 0.028419,
     "end_time": "2025-08-19T19:08:30.995162",
     "exception": false,
     "start_time": "2025-08-19T19:08:30.966743",
     "status": "completed"
    },
    "tags": []
   },
   "outputs": [],
   "source": [
    "def filter_sub_universe_data(sub_universe, org_test):\n",
    "    # Keep all rows — no filtering\n",
    "    keep_rows_mask = np.ones(org_test.shape[0], dtype=bool)\n",
    "\n",
    "    print(f\"[INFO] Keeping all rows: {keep_rows_mask.sum()} rows retained.\")\n",
    "    return keep_rows_mask"
   ]
  },
  {
   "cell_type": "code",
   "execution_count": 64,
   "id": "2bc31ac1",
   "metadata": {
    "execution": {
     "iopub.execute_input": "2025-08-19T19:08:31.031028Z",
     "iopub.status.busy": "2025-08-19T19:08:31.029684Z",
     "iopub.status.idle": "2025-08-19T19:08:37.754407Z",
     "shell.execute_reply": "2025-08-19T19:08:37.753190Z"
    },
    "papermill": {
     "duration": 6.743955,
     "end_time": "2025-08-19T19:08:37.756737",
     "exception": false,
     "start_time": "2025-08-19T19:08:31.012782",
     "status": "completed"
    },
    "tags": []
   },
   "outputs": [
    {
     "name": "stdout",
     "output_type": "stream",
     "text": [
      "Stopping execution_time clock.\n",
      "[INFO] Keeping all rows: 89710 rows retained.\n"
     ]
    },
    {
     "name": "stdout",
     "output_type": "stream",
     "text": [
      "[INFO] Keeping all rows: 89710 rows retained.\n"
     ]
    },
    {
     "name": "stdout",
     "output_type": "stream",
     "text": [
      "[INFO] Keeping all rows: 89710 rows retained.\n"
     ]
    },
    {
     "name": "stdout",
     "output_type": "stream",
     "text": [
      "[INFO] Keeping all rows: 89710 rows retained.\n"
     ]
    },
    {
     "data": {
      "text/html": [
       "<div>\n",
       "<style scoped>\n",
       "    .dataframe tbody tr th:only-of-type {\n",
       "        vertical-align: middle;\n",
       "    }\n",
       "\n",
       "    .dataframe tbody tr th {\n",
       "        vertical-align: top;\n",
       "    }\n",
       "\n",
       "    .dataframe thead th {\n",
       "        text-align: right;\n",
       "    }\n",
       "</style>\n",
       "<table border=\"1\" class=\"dataframe\">\n",
       "  <thead>\n",
       "    <tr style=\"text-align: right;\">\n",
       "      <th></th>\n",
       "      <th>run_no</th>\n",
       "      <th>universe_id</th>\n",
       "      <th>universe_settings</th>\n",
       "      <th>execution_time</th>\n",
       "      <th>test_size_n</th>\n",
       "      <th>test_size_frac</th>\n",
       "      <th>fair_main_equalized_odds_difference</th>\n",
       "      <th>fair_main_equalized_odds_ratio</th>\n",
       "      <th>fair_main_demographic_parity_difference</th>\n",
       "      <th>fair_main_demographic_parity_ratio</th>\n",
       "      <th>...</th>\n",
       "      <th>perf_grp_precision_0</th>\n",
       "      <th>perf_grp_precision_1</th>\n",
       "      <th>perf_grp_false positive rate_0</th>\n",
       "      <th>perf_grp_false positive rate_1</th>\n",
       "      <th>perf_grp_false negative rate_0</th>\n",
       "      <th>perf_grp_false negative rate_1</th>\n",
       "      <th>perf_grp_selection rate_0</th>\n",
       "      <th>perf_grp_selection rate_1</th>\n",
       "      <th>perf_grp_count_0</th>\n",
       "      <th>perf_grp_count_1</th>\n",
       "    </tr>\n",
       "  </thead>\n",
       "  <tbody>\n",
       "    <tr>\n",
       "      <th>0</th>\n",
       "      <td>3</td>\n",
       "      <td>a12232c2d6835fafaa1aff77b66c7783</td>\n",
       "      <td>{\"cutoff\": \"quantile_0.1\", \"eval_fairness_grou...</td>\n",
       "      <td>21.330841</td>\n",
       "      <td>89710</td>\n",
       "      <td>1.0</td>\n",
       "      <td>0.057738</td>\n",
       "      <td>0.938241</td>\n",
       "      <td>0.051335</td>\n",
       "      <td>0.945364</td>\n",
       "      <td>...</td>\n",
       "      <td>NaN</td>\n",
       "      <td>NaN</td>\n",
       "      <td>NaN</td>\n",
       "      <td>NaN</td>\n",
       "      <td>NaN</td>\n",
       "      <td>NaN</td>\n",
       "      <td>NaN</td>\n",
       "      <td>NaN</td>\n",
       "      <td>NaN</td>\n",
       "      <td>NaN</td>\n",
       "    </tr>\n",
       "    <tr>\n",
       "      <th>0</th>\n",
       "      <td>3</td>\n",
       "      <td>a12232c2d6835fafaa1aff77b66c7783</td>\n",
       "      <td>{\"cutoff\": \"quantile_0.1\", \"eval_fairness_grou...</td>\n",
       "      <td>21.330841</td>\n",
       "      <td>89710</td>\n",
       "      <td>1.0</td>\n",
       "      <td>0.057738</td>\n",
       "      <td>0.938241</td>\n",
       "      <td>0.051335</td>\n",
       "      <td>0.945364</td>\n",
       "      <td>...</td>\n",
       "      <td>0.119695</td>\n",
       "      <td>0.142969</td>\n",
       "      <td>0.934900</td>\n",
       "      <td>0.877161</td>\n",
       "      <td>0.024493</td>\n",
       "      <td>0.038950</td>\n",
       "      <td>0.939581</td>\n",
       "      <td>0.888246</td>\n",
       "      <td>20540.0</td>\n",
       "      <td>69170.0</td>\n",
       "    </tr>\n",
       "    <tr>\n",
       "      <th>0</th>\n",
       "      <td>3</td>\n",
       "      <td>a12232c2d6835fafaa1aff77b66c7783</td>\n",
       "      <td>{\"cutoff\": \"quantile_0.25\", \"eval_fairness_gro...</td>\n",
       "      <td>21.330841</td>\n",
       "      <td>89710</td>\n",
       "      <td>1.0</td>\n",
       "      <td>0.147319</td>\n",
       "      <td>0.825028</td>\n",
       "      <td>0.132417</td>\n",
       "      <td>0.844598</td>\n",
       "      <td>...</td>\n",
       "      <td>NaN</td>\n",
       "      <td>NaN</td>\n",
       "      <td>NaN</td>\n",
       "      <td>NaN</td>\n",
       "      <td>NaN</td>\n",
       "      <td>NaN</td>\n",
       "      <td>NaN</td>\n",
       "      <td>NaN</td>\n",
       "      <td>NaN</td>\n",
       "      <td>NaN</td>\n",
       "    </tr>\n",
       "    <tr>\n",
       "      <th>0</th>\n",
       "      <td>3</td>\n",
       "      <td>a12232c2d6835fafaa1aff77b66c7783</td>\n",
       "      <td>{\"cutoff\": \"quantile_0.25\", \"eval_fairness_gro...</td>\n",
       "      <td>21.330841</td>\n",
       "      <td>89710</td>\n",
       "      <td>1.0</td>\n",
       "      <td>0.147319</td>\n",
       "      <td>0.825028</td>\n",
       "      <td>0.132417</td>\n",
       "      <td>0.844598</td>\n",
       "      <td>...</td>\n",
       "      <td>0.125814</td>\n",
       "      <td>0.162334</td>\n",
       "      <td>0.841955</td>\n",
       "      <td>0.694636</td>\n",
       "      <td>0.070101</td>\n",
       "      <td>0.115864</td>\n",
       "      <td>0.852093</td>\n",
       "      <td>0.719676</td>\n",
       "      <td>20540.0</td>\n",
       "      <td>69170.0</td>\n",
       "    </tr>\n",
       "  </tbody>\n",
       "</table>\n",
       "<p>4 rows × 50 columns</p>\n",
       "</div>"
      ],
      "text/plain": [
       "  run_no                       universe_id  \\\n",
       "0      3  a12232c2d6835fafaa1aff77b66c7783   \n",
       "0      3  a12232c2d6835fafaa1aff77b66c7783   \n",
       "0      3  a12232c2d6835fafaa1aff77b66c7783   \n",
       "0      3  a12232c2d6835fafaa1aff77b66c7783   \n",
       "\n",
       "                                   universe_settings  execution_time  \\\n",
       "0  {\"cutoff\": \"quantile_0.1\", \"eval_fairness_grou...       21.330841   \n",
       "0  {\"cutoff\": \"quantile_0.1\", \"eval_fairness_grou...       21.330841   \n",
       "0  {\"cutoff\": \"quantile_0.25\", \"eval_fairness_gro...       21.330841   \n",
       "0  {\"cutoff\": \"quantile_0.25\", \"eval_fairness_gro...       21.330841   \n",
       "\n",
       "   test_size_n  test_size_frac  fair_main_equalized_odds_difference  \\\n",
       "0        89710             1.0                             0.057738   \n",
       "0        89710             1.0                             0.057738   \n",
       "0        89710             1.0                             0.147319   \n",
       "0        89710             1.0                             0.147319   \n",
       "\n",
       "   fair_main_equalized_odds_ratio  fair_main_demographic_parity_difference  \\\n",
       "0                        0.938241                                 0.051335   \n",
       "0                        0.938241                                 0.051335   \n",
       "0                        0.825028                                 0.132417   \n",
       "0                        0.825028                                 0.132417   \n",
       "\n",
       "   fair_main_demographic_parity_ratio  ...  perf_grp_precision_0  \\\n",
       "0                            0.945364  ...                   NaN   \n",
       "0                            0.945364  ...              0.119695   \n",
       "0                            0.844598  ...                   NaN   \n",
       "0                            0.844598  ...              0.125814   \n",
       "\n",
       "   perf_grp_precision_1  perf_grp_false positive rate_0  \\\n",
       "0                   NaN                             NaN   \n",
       "0              0.142969                        0.934900   \n",
       "0                   NaN                             NaN   \n",
       "0              0.162334                        0.841955   \n",
       "\n",
       "   perf_grp_false positive rate_1  perf_grp_false negative rate_0  \\\n",
       "0                             NaN                             NaN   \n",
       "0                        0.877161                        0.024493   \n",
       "0                             NaN                             NaN   \n",
       "0                        0.694636                        0.070101   \n",
       "\n",
       "   perf_grp_false negative rate_1  perf_grp_selection rate_0  \\\n",
       "0                             NaN                        NaN   \n",
       "0                        0.038950                   0.939581   \n",
       "0                             NaN                        NaN   \n",
       "0                        0.115864                   0.852093   \n",
       "\n",
       "   perf_grp_selection rate_1  perf_grp_count_0  perf_grp_count_1  \n",
       "0                        NaN               NaN               NaN  \n",
       "0                   0.888246           20540.0           69170.0  \n",
       "0                        NaN               NaN               NaN  \n",
       "0                   0.719676           20540.0           69170.0  \n",
       "\n",
       "[4 rows x 50 columns]"
      ]
     },
     "execution_count": 64,
     "metadata": {},
     "output_type": "execute_result"
    }
   ],
   "source": [
    "final_output = universe_analysis.generate_final_output(\n",
    "    y_pred_prob=probs_test,\n",
    "    y_test=y_true,\n",
    "    org_test=org_test,\n",
    "    filter_data=filter_sub_universe_data,\n",
    "    cp_metrics_df=cp_metrics_df,\n",
    "    save=True,\n",
    ")\n",
    "final_output"
   ]
  },
  {
   "cell_type": "code",
   "execution_count": null,
   "id": "8b80a1ff",
   "metadata": {
    "papermill": {
     "duration": 0.015861,
     "end_time": "2025-08-19T19:08:37.794675",
     "exception": false,
     "start_time": "2025-08-19T19:08:37.778814",
     "status": "completed"
    },
    "tags": []
   },
   "outputs": [],
   "source": []
  },
  {
   "cell_type": "code",
   "execution_count": null,
   "id": "275c9fad",
   "metadata": {
    "papermill": {
     "duration": 0.014996,
     "end_time": "2025-08-19T19:08:37.824862",
     "exception": false,
     "start_time": "2025-08-19T19:08:37.809866",
     "status": "completed"
    },
    "tags": []
   },
   "outputs": [],
   "source": []
  }
 ],
 "metadata": {
  "celltoolbar": "Tags",
  "kernelspec": {
   "display_name": "Python (CMA Fairness)",
   "language": "python",
   "name": "cma_fair_env"
  },
  "language_info": {
   "codemirror_mode": {
    "name": "ipython",
    "version": 3
   },
   "file_extension": ".py",
   "mimetype": "text/x-python",
   "name": "python",
   "nbconvert_exporter": "python",
   "pygments_lexer": "ipython3",
   "version": "3.10.12"
  },
  "papermill": {
   "default_parameters": {},
   "duration": 32.161479,
   "end_time": "2025-08-19T19:08:38.771691",
   "environment_variables": {},
   "exception": null,
   "input_path": "universe_analysis.ipynb",
   "output_path": "output/runs/3/notebooks/m_3-a12232c2d6835fafaa1aff77b66c7783.ipynb",
   "parameters": {
    "output_dir": "output",
    "run_no": "3",
    "seed": "2023",
    "universe": "{\"cutoff\": [\"quantile_0.1\", \"quantile_0.25\"], \"eval_fairness_grouping\": [\"majority-minority\", \"nationality-all\"], \"exclude_features\": \"sex\", \"exclude_subgroups\": \"drop-non-german\", \"model\": \"elasticnet\", \"scale\": \"scale\", \"training_size\": \"1k\", \"training_year\": \"2010_14\"}",
    "universe_id": "a12232c2d6835fafaa1aff77b66c7783"
   },
   "start_time": "2025-08-19T19:08:06.610212",
   "version": "2.6.0"
  }
 },
 "nbformat": 4,
 "nbformat_minor": 5
}