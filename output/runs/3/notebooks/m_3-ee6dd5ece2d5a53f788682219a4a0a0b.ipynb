{
 "cells": [
  {
   "cell_type": "markdown",
   "id": "ef23dbb3",
   "metadata": {
    "papermill": {
     "duration": 0.016826,
     "end_time": "2025-08-19T18:37:17.150851",
     "exception": false,
     "start_time": "2025-08-19T18:37:17.134025",
     "status": "completed"
    },
    "tags": []
   },
   "source": [
    "# Setup"
   ]
  },
  {
   "cell_type": "code",
   "execution_count": 1,
   "id": "0bc8e7dc",
   "metadata": {
    "execution": {
     "iopub.execute_input": "2025-08-19T18:37:17.172623Z",
     "iopub.status.busy": "2025-08-19T18:37:17.172077Z",
     "iopub.status.idle": "2025-08-19T18:37:17.183243Z",
     "shell.execute_reply": "2025-08-19T18:37:17.182326Z"
    },
    "papermill": {
     "duration": 0.023777,
     "end_time": "2025-08-19T18:37:17.185414",
     "exception": false,
     "start_time": "2025-08-19T18:37:17.161637",
     "status": "completed"
    },
    "tags": []
   },
   "outputs": [
    {
     "name": "stdout",
     "output_type": "stream",
     "text": [
      "/dss/dsshome1/0C/ra93lal2/cma/CMA_Fairness_v2\n"
     ]
    },
    {
     "name": "stderr",
     "output_type": "stream",
     "text": [
      "/dss/dsshome1/0C/ra93lal2/.local/share/virtualenvs/CMA_Fairness_v2-3j10GkSs/lib/python3.10/site-packages/IPython/core/magics/osm.py:393: UserWarning: This is now an optional IPython functionality, using bookmarks requires you to install the `pickleshare` library.\n",
      "  bkms = self.shell.db.get('bookmarks', {})\n",
      "/dss/dsshome1/0C/ra93lal2/.local/share/virtualenvs/CMA_Fairness_v2-3j10GkSs/lib/python3.10/site-packages/IPython/core/magics/osm.py:417: UserWarning: This is now an optional IPython functionality, setting dhist requires you to install the `pickleshare` library.\n",
      "  self.shell.db['dhist'] = compress_dhist(dhist)[-100:]\n"
     ]
    }
   ],
   "source": [
    "%cd ~/cma/CMA_Fairness_v2"
   ]
  },
  {
   "cell_type": "markdown",
   "id": "9d235661",
   "metadata": {
    "papermill": {
     "duration": 0.008738,
     "end_time": "2025-08-19T18:37:17.203622",
     "exception": false,
     "start_time": "2025-08-19T18:37:17.194884",
     "status": "completed"
    },
    "tags": []
   },
   "source": [
    "The following cell holds the definition of our parameters, these values can be overriden by rendering the with e.g. the following command:\n",
    "\n",
    "papermill -p alpha 0.2 -p ratio 0.3 universe_analysis.ipynb output/test_run.ipynb"
   ]
  },
  {
   "cell_type": "code",
   "execution_count": 2,
   "id": "4a789d8e",
   "metadata": {
    "execution": {
     "iopub.execute_input": "2025-08-19T18:37:17.222496Z",
     "iopub.status.busy": "2025-08-19T18:37:17.222060Z",
     "iopub.status.idle": "2025-08-19T18:37:17.226840Z",
     "shell.execute_reply": "2025-08-19T18:37:17.225849Z"
    },
    "papermill": {
     "duration": 0.016246,
     "end_time": "2025-08-19T18:37:17.228599",
     "exception": false,
     "start_time": "2025-08-19T18:37:17.212353",
     "status": "completed"
    },
    "tags": []
   },
   "outputs": [
    {
     "name": "stdout",
     "output_type": "stream",
     "text": [
      "Current working directory: /dss/dsshome1/0C/ra93lal2/cma/CMA_Fairness_v2\n"
     ]
    }
   ],
   "source": [
    "import os\n",
    "print(\"Current working directory:\", os.getcwd())"
   ]
  },
  {
   "cell_type": "code",
   "execution_count": 3,
   "id": "4132aaed",
   "metadata": {
    "execution": {
     "iopub.execute_input": "2025-08-19T18:37:17.248453Z",
     "iopub.status.busy": "2025-08-19T18:37:17.248071Z",
     "iopub.status.idle": "2025-08-19T18:37:17.252943Z",
     "shell.execute_reply": "2025-08-19T18:37:17.251966Z"
    },
    "papermill": {
     "duration": 0.017274,
     "end_time": "2025-08-19T18:37:17.255608",
     "exception": false,
     "start_time": "2025-08-19T18:37:17.238334",
     "status": "completed"
    },
    "tags": [
     "parameters"
    ]
   },
   "outputs": [],
   "source": [
    "run_no = 0\n",
    "universe_id = \"test\"\n",
    "universe = {\n",
    "    \"training_size\": \"5k\", # \"25k\", \"5k\", \"1k\"\n",
    "    \"training_year\": \"2012_14\", # \"2014\", \"2012_14\", \"2010_14\"\n",
    "    \"scale\": \"scale\", # \"scale\", \"do-not-scale\",\n",
    "    \"model\": \"elasticnet\", # \"logreg\", \"penalized_logreg\", \"rf\", \"gbm\", \"elasticnet\"\n",
    "    \"cutoff\": [\"quantile_0.15\", \"quantile_0.30\"],\n",
    "    \"exclude_features\": \"age\", # \"none\", \"nationality\", \"sex\", \"nationality-sex\", \"age\"\n",
    "    \"exclude_subgroups\": \"drop-non-german\", # \"keep-all\", \"drop-non-german\"\n",
    "    \"eval_fairness_grouping\": [\"majority-minority\", \"nationality-all\"]\n",
    "}\n",
    "\n",
    "output_dir=\"./output\"\n",
    "seed=0"
   ]
  },
  {
   "cell_type": "code",
   "execution_count": 4,
   "id": "bac5c2be",
   "metadata": {
    "execution": {
     "iopub.execute_input": "2025-08-19T18:37:17.289275Z",
     "iopub.status.busy": "2025-08-19T18:37:17.288263Z",
     "iopub.status.idle": "2025-08-19T18:37:17.297482Z",
     "shell.execute_reply": "2025-08-19T18:37:17.295512Z"
    },
    "papermill": {
     "duration": 0.023511,
     "end_time": "2025-08-19T18:37:17.299207",
     "exception": false,
     "start_time": "2025-08-19T18:37:17.275696",
     "status": "completed"
    },
    "tags": [
     "injected-parameters"
    ]
   },
   "outputs": [],
   "source": [
    "# Parameters\n",
    "universe_id = \"ee6dd5ece2d5a53f788682219a4a0a0b\"\n",
    "run_no = \"3\"\n",
    "universe = \"{\\\"cutoff\\\": [\\\"quantile_0.1\\\", \\\"quantile_0.25\\\"], \\\"eval_fairness_grouping\\\": [\\\"majority-minority\\\", \\\"nationality-all\\\"], \\\"exclude_features\\\": \\\"age\\\", \\\"exclude_subgroups\\\": \\\"keep-all\\\", \\\"model\\\": \\\"rf\\\", \\\"scale\\\": \\\"do-not-scale\\\", \\\"training_size\\\": \\\"5k\\\", \\\"training_year\\\": \\\"2012_14\\\"}\"\n",
    "output_dir = \"output\"\n",
    "seed = \"2023\"\n"
   ]
  },
  {
   "cell_type": "code",
   "execution_count": 5,
   "id": "a5d7941f",
   "metadata": {
    "execution": {
     "iopub.execute_input": "2025-08-19T18:37:17.322704Z",
     "iopub.status.busy": "2025-08-19T18:37:17.321649Z",
     "iopub.status.idle": "2025-08-19T18:37:17.331146Z",
     "shell.execute_reply": "2025-08-19T18:37:17.329169Z"
    },
    "papermill": {
     "duration": 0.022339,
     "end_time": "2025-08-19T18:37:17.332680",
     "exception": false,
     "start_time": "2025-08-19T18:37:17.310341",
     "status": "completed"
    },
    "tags": []
   },
   "outputs": [],
   "source": [
    "import json\n",
    "if isinstance(universe, str):\n",
    "    universe = json.loads(universe)"
   ]
  },
  {
   "cell_type": "code",
   "execution_count": 6,
   "id": "7076ccb1",
   "metadata": {
    "execution": {
     "iopub.execute_input": "2025-08-19T18:37:17.356996Z",
     "iopub.status.busy": "2025-08-19T18:37:17.355203Z",
     "iopub.status.idle": "2025-08-19T18:37:17.409789Z",
     "shell.execute_reply": "2025-08-19T18:37:17.409144Z"
    },
    "papermill": {
     "duration": 0.066678,
     "end_time": "2025-08-19T18:37:17.411245",
     "exception": false,
     "start_time": "2025-08-19T18:37:17.344567",
     "status": "completed"
    },
    "tags": []
   },
   "outputs": [],
   "source": [
    "# Auto-reload the custom package\n",
    "%load_ext autoreload\n",
    "%autoreload 1\n",
    "%aimport fairness_multiverse"
   ]
  },
  {
   "cell_type": "code",
   "execution_count": 7,
   "id": "94c8eb93",
   "metadata": {
    "execution": {
     "iopub.execute_input": "2025-08-19T18:37:17.434540Z",
     "iopub.status.busy": "2025-08-19T18:37:17.434044Z",
     "iopub.status.idle": "2025-08-19T18:37:19.041697Z",
     "shell.execute_reply": "2025-08-19T18:37:19.040603Z"
    },
    "papermill": {
     "duration": 1.620827,
     "end_time": "2025-08-19T18:37:19.044633",
     "exception": false,
     "start_time": "2025-08-19T18:37:17.423806",
     "status": "completed"
    },
    "tags": []
   },
   "outputs": [],
   "source": [
    "from fairness_multiverse.universe import UniverseAnalysis\n",
    "\n",
    "universe_analysis = UniverseAnalysis(\n",
    "    run_no = run_no,\n",
    "    universe_id = universe_id,\n",
    "    universe = universe,\n",
    "    output_dir=output_dir,\n",
    ")"
   ]
  },
  {
   "cell_type": "code",
   "execution_count": 8,
   "id": "2a6381cf",
   "metadata": {
    "execution": {
     "iopub.execute_input": "2025-08-19T18:37:19.080121Z",
     "iopub.status.busy": "2025-08-19T18:37:19.078859Z",
     "iopub.status.idle": "2025-08-19T18:37:19.092364Z",
     "shell.execute_reply": "2025-08-19T18:37:19.090592Z"
    },
    "papermill": {
     "duration": 0.028828,
     "end_time": "2025-08-19T18:37:19.094201",
     "exception": false,
     "start_time": "2025-08-19T18:37:19.065373",
     "status": "completed"
    },
    "tags": []
   },
   "outputs": [
    {
     "name": "stdout",
     "output_type": "stream",
     "text": [
      "Using Seed: 2023\n"
     ]
    }
   ],
   "source": [
    "import numpy as np\n",
    "parsed_seed = int(seed)\n",
    "np.random.seed(parsed_seed)\n",
    "print(f\"Using Seed: {parsed_seed}\")"
   ]
  },
  {
   "cell_type": "markdown",
   "id": "b6e958b4",
   "metadata": {
    "papermill": {
     "duration": 0.009335,
     "end_time": "2025-08-19T18:37:19.115248",
     "exception": false,
     "start_time": "2025-08-19T18:37:19.105913",
     "status": "completed"
    },
    "tags": []
   },
   "source": [
    "# Loading Data"
   ]
  },
  {
   "cell_type": "code",
   "execution_count": 9,
   "id": "98701482",
   "metadata": {
    "execution": {
     "iopub.execute_input": "2025-08-19T18:37:19.153839Z",
     "iopub.status.busy": "2025-08-19T18:37:19.152819Z",
     "iopub.status.idle": "2025-08-19T18:37:29.023060Z",
     "shell.execute_reply": "2025-08-19T18:37:29.018853Z"
    },
    "papermill": {
     "duration": 9.900537,
     "end_time": "2025-08-19T18:37:29.024856",
     "exception": false,
     "start_time": "2025-08-19T18:37:19.124319",
     "status": "completed"
    },
    "tags": []
   },
   "outputs": [
    {
     "name": "stdout",
     "output_type": "stream",
     "text": [
      "Loading SIAB data from cache: data/siab_cached.csv.gz\n"
     ]
    },
    {
     "name": "stdout",
     "output_type": "stream",
     "text": [
      "(643690, 164)\n"
     ]
    }
   ],
   "source": [
    "from pathlib import Path\n",
    "import pandas as pd\n",
    "\n",
    "# File paths\n",
    "raw_file = Path(\"data/raw/siab.csv\")\n",
    "cache_file = Path(\"data/siab_cached.csv.gz\")\n",
    "\n",
    "# Ensure cache directory exists\n",
    "cache_file.parent.mkdir(parents=True, exist_ok=True)\n",
    "\n",
    "# Load with simple caching\n",
    "if cache_file.exists():\n",
    "    print(f\"Loading SIAB data from cache: {cache_file}\")\n",
    "    siab = pd.read_csv(cache_file, compression='gzip')\n",
    "else:\n",
    "    print(f\"Cache not found. Reading raw SIAB data: {raw_file}\")\n",
    "    siab = pd.read_csv(raw_file)\n",
    "    siab.to_csv(cache_file, index=False, compression='gzip')\n",
    "    print(f\"Cached SIAB data to: {cache_file}\")\n",
    "\n",
    "print(siab.shape)"
   ]
  },
  {
   "cell_type": "code",
   "execution_count": 10,
   "id": "058d2abb",
   "metadata": {
    "execution": {
     "iopub.execute_input": "2025-08-19T18:37:29.050969Z",
     "iopub.status.busy": "2025-08-19T18:37:29.050508Z",
     "iopub.status.idle": "2025-08-19T18:37:29.235436Z",
     "shell.execute_reply": "2025-08-19T18:37:29.234662Z"
    },
    "papermill": {
     "duration": 0.197114,
     "end_time": "2025-08-19T18:37:29.236822",
     "exception": false,
     "start_time": "2025-08-19T18:37:29.039708",
     "status": "completed"
    },
    "tags": []
   },
   "outputs": [
    {
     "data": {
      "text/html": [
       "<div>\n",
       "<style scoped>\n",
       "    .dataframe tbody tr th:only-of-type {\n",
       "        vertical-align: middle;\n",
       "    }\n",
       "\n",
       "    .dataframe tbody tr th {\n",
       "        vertical-align: top;\n",
       "    }\n",
       "\n",
       "    .dataframe thead th {\n",
       "        text-align: right;\n",
       "    }\n",
       "</style>\n",
       "<table border=\"1\" class=\"dataframe\">\n",
       "  <thead>\n",
       "    <tr style=\"text-align: right;\">\n",
       "      <th></th>\n",
       "      <th>persnr</th>\n",
       "      <th>year</th>\n",
       "      <th>nrEntry</th>\n",
       "      <th>ltue</th>\n",
       "      <th>employed_before</th>\n",
       "      <th>receipt_leh_before</th>\n",
       "      <th>receipt_lhg_before</th>\n",
       "      <th>se_before</th>\n",
       "      <th>ASU_notue_seeking_before</th>\n",
       "      <th>ASU_other_before</th>\n",
       "      <th>...</th>\n",
       "      <th>minijob_tot_dur_byage</th>\n",
       "      <th>ft_tot_dur_byage</th>\n",
       "      <th>befrist_tot_dur_byage</th>\n",
       "      <th>leih_tot_dur_byage</th>\n",
       "      <th>LHG_tot_dur_byage</th>\n",
       "      <th>LEH_tot_dur_byage</th>\n",
       "      <th>almp_tot_dur_byage</th>\n",
       "      <th>almp_aw_tot_dur_byage</th>\n",
       "      <th>se_tot_dur_byage</th>\n",
       "      <th>seeking1_tot_dur_byage</th>\n",
       "    </tr>\n",
       "  </thead>\n",
       "  <tbody>\n",
       "    <tr>\n",
       "      <th>0</th>\n",
       "      <td>7</td>\n",
       "      <td>2015</td>\n",
       "      <td>1</td>\n",
       "      <td>0</td>\n",
       "      <td>1</td>\n",
       "      <td>0</td>\n",
       "      <td>0</td>\n",
       "      <td>0</td>\n",
       "      <td>1</td>\n",
       "      <td>0</td>\n",
       "      <td>...</td>\n",
       "      <td>0.000000</td>\n",
       "      <td>0.000000</td>\n",
       "      <td>15.043478</td>\n",
       "      <td>0.000000</td>\n",
       "      <td>0.000000</td>\n",
       "      <td>0.000000</td>\n",
       "      <td>0.000000</td>\n",
       "      <td>0.000000</td>\n",
       "      <td>0.000000</td>\n",
       "      <td>0.000000</td>\n",
       "    </tr>\n",
       "    <tr>\n",
       "      <th>1</th>\n",
       "      <td>18</td>\n",
       "      <td>2010</td>\n",
       "      <td>1</td>\n",
       "      <td>1</td>\n",
       "      <td>0</td>\n",
       "      <td>0</td>\n",
       "      <td>0</td>\n",
       "      <td>0</td>\n",
       "      <td>0</td>\n",
       "      <td>0</td>\n",
       "      <td>...</td>\n",
       "      <td>0.000000</td>\n",
       "      <td>0.000000</td>\n",
       "      <td>0.000000</td>\n",
       "      <td>0.000000</td>\n",
       "      <td>0.000000</td>\n",
       "      <td>0.000000</td>\n",
       "      <td>0.000000</td>\n",
       "      <td>0.000000</td>\n",
       "      <td>0.000000</td>\n",
       "      <td>0.000000</td>\n",
       "    </tr>\n",
       "    <tr>\n",
       "      <th>2</th>\n",
       "      <td>18</td>\n",
       "      <td>2011</td>\n",
       "      <td>2</td>\n",
       "      <td>0</td>\n",
       "      <td>1</td>\n",
       "      <td>0</td>\n",
       "      <td>1</td>\n",
       "      <td>0</td>\n",
       "      <td>1</td>\n",
       "      <td>0</td>\n",
       "      <td>...</td>\n",
       "      <td>2.714286</td>\n",
       "      <td>2.714286</td>\n",
       "      <td>0.000000</td>\n",
       "      <td>0.000000</td>\n",
       "      <td>10.775510</td>\n",
       "      <td>0.000000</td>\n",
       "      <td>8.367347</td>\n",
       "      <td>0.000000</td>\n",
       "      <td>0.000000</td>\n",
       "      <td>9.836735</td>\n",
       "    </tr>\n",
       "    <tr>\n",
       "      <th>3</th>\n",
       "      <td>18</td>\n",
       "      <td>2012</td>\n",
       "      <td>3</td>\n",
       "      <td>0</td>\n",
       "      <td>1</td>\n",
       "      <td>0</td>\n",
       "      <td>1</td>\n",
       "      <td>0</td>\n",
       "      <td>1</td>\n",
       "      <td>0</td>\n",
       "      <td>...</td>\n",
       "      <td>4.200000</td>\n",
       "      <td>4.200000</td>\n",
       "      <td>0.000000</td>\n",
       "      <td>0.000000</td>\n",
       "      <td>12.100000</td>\n",
       "      <td>0.000000</td>\n",
       "      <td>9.400000</td>\n",
       "      <td>0.000000</td>\n",
       "      <td>0.000000</td>\n",
       "      <td>9.960000</td>\n",
       "    </tr>\n",
       "    <tr>\n",
       "      <th>4</th>\n",
       "      <td>18</td>\n",
       "      <td>2012</td>\n",
       "      <td>4</td>\n",
       "      <td>0</td>\n",
       "      <td>1</td>\n",
       "      <td>0</td>\n",
       "      <td>1</td>\n",
       "      <td>0</td>\n",
       "      <td>1</td>\n",
       "      <td>0</td>\n",
       "      <td>...</td>\n",
       "      <td>5.460000</td>\n",
       "      <td>5.460000</td>\n",
       "      <td>0.000000</td>\n",
       "      <td>0.000000</td>\n",
       "      <td>13.360000</td>\n",
       "      <td>0.000000</td>\n",
       "      <td>10.320000</td>\n",
       "      <td>0.000000</td>\n",
       "      <td>0.000000</td>\n",
       "      <td>10.280000</td>\n",
       "    </tr>\n",
       "    <tr>\n",
       "      <th>...</th>\n",
       "      <td>...</td>\n",
       "      <td>...</td>\n",
       "      <td>...</td>\n",
       "      <td>...</td>\n",
       "      <td>...</td>\n",
       "      <td>...</td>\n",
       "      <td>...</td>\n",
       "      <td>...</td>\n",
       "      <td>...</td>\n",
       "      <td>...</td>\n",
       "      <td>...</td>\n",
       "      <td>...</td>\n",
       "      <td>...</td>\n",
       "      <td>...</td>\n",
       "      <td>...</td>\n",
       "      <td>...</td>\n",
       "      <td>...</td>\n",
       "      <td>...</td>\n",
       "      <td>...</td>\n",
       "      <td>...</td>\n",
       "      <td>...</td>\n",
       "    </tr>\n",
       "    <tr>\n",
       "      <th>643685</th>\n",
       "      <td>1827860</td>\n",
       "      <td>2013</td>\n",
       "      <td>1</td>\n",
       "      <td>0</td>\n",
       "      <td>0</td>\n",
       "      <td>0</td>\n",
       "      <td>1</td>\n",
       "      <td>0</td>\n",
       "      <td>0</td>\n",
       "      <td>1</td>\n",
       "      <td>...</td>\n",
       "      <td>0.000000</td>\n",
       "      <td>0.000000</td>\n",
       "      <td>0.000000</td>\n",
       "      <td>0.000000</td>\n",
       "      <td>0.612903</td>\n",
       "      <td>0.000000</td>\n",
       "      <td>0.000000</td>\n",
       "      <td>0.000000</td>\n",
       "      <td>0.000000</td>\n",
       "      <td>0.000000</td>\n",
       "    </tr>\n",
       "    <tr>\n",
       "      <th>643686</th>\n",
       "      <td>1827860</td>\n",
       "      <td>2015</td>\n",
       "      <td>2</td>\n",
       "      <td>1</td>\n",
       "      <td>0</td>\n",
       "      <td>0</td>\n",
       "      <td>1</td>\n",
       "      <td>0</td>\n",
       "      <td>1</td>\n",
       "      <td>0</td>\n",
       "      <td>...</td>\n",
       "      <td>0.000000</td>\n",
       "      <td>0.000000</td>\n",
       "      <td>0.212121</td>\n",
       "      <td>0.212121</td>\n",
       "      <td>17.363636</td>\n",
       "      <td>0.000000</td>\n",
       "      <td>8.909091</td>\n",
       "      <td>0.000000</td>\n",
       "      <td>0.000000</td>\n",
       "      <td>7.121212</td>\n",
       "    </tr>\n",
       "    <tr>\n",
       "      <th>643687</th>\n",
       "      <td>1827860</td>\n",
       "      <td>2016</td>\n",
       "      <td>3</td>\n",
       "      <td>1</td>\n",
       "      <td>0</td>\n",
       "      <td>0</td>\n",
       "      <td>1</td>\n",
       "      <td>1</td>\n",
       "      <td>0</td>\n",
       "      <td>1</td>\n",
       "      <td>...</td>\n",
       "      <td>0.000000</td>\n",
       "      <td>0.000000</td>\n",
       "      <td>0.294118</td>\n",
       "      <td>0.205882</td>\n",
       "      <td>34.705882</td>\n",
       "      <td>0.000000</td>\n",
       "      <td>10.352941</td>\n",
       "      <td>1.705882</td>\n",
       "      <td>1.705882</td>\n",
       "      <td>23.911765</td>\n",
       "    </tr>\n",
       "    <tr>\n",
       "      <th>643688</th>\n",
       "      <td>1827869</td>\n",
       "      <td>2013</td>\n",
       "      <td>1</td>\n",
       "      <td>1</td>\n",
       "      <td>1</td>\n",
       "      <td>0</td>\n",
       "      <td>0</td>\n",
       "      <td>0</td>\n",
       "      <td>1</td>\n",
       "      <td>0</td>\n",
       "      <td>...</td>\n",
       "      <td>0.000000</td>\n",
       "      <td>0.000000</td>\n",
       "      <td>0.000000</td>\n",
       "      <td>0.000000</td>\n",
       "      <td>0.000000</td>\n",
       "      <td>0.525424</td>\n",
       "      <td>0.000000</td>\n",
       "      <td>0.000000</td>\n",
       "      <td>0.000000</td>\n",
       "      <td>0.000000</td>\n",
       "    </tr>\n",
       "    <tr>\n",
       "      <th>643689</th>\n",
       "      <td>1827869</td>\n",
       "      <td>2014</td>\n",
       "      <td>2</td>\n",
       "      <td>0</td>\n",
       "      <td>0</td>\n",
       "      <td>1</td>\n",
       "      <td>0</td>\n",
       "      <td>0</td>\n",
       "      <td>1</td>\n",
       "      <td>0</td>\n",
       "      <td>...</td>\n",
       "      <td>0.000000</td>\n",
       "      <td>0.666667</td>\n",
       "      <td>0.666667</td>\n",
       "      <td>0.000000</td>\n",
       "      <td>0.000000</td>\n",
       "      <td>8.950000</td>\n",
       "      <td>1.033333</td>\n",
       "      <td>0.083333</td>\n",
       "      <td>0.083333</td>\n",
       "      <td>8.133333</td>\n",
       "    </tr>\n",
       "  </tbody>\n",
       "</table>\n",
       "<p>643690 rows × 164 columns</p>\n",
       "</div>"
      ],
      "text/plain": [
       "         persnr  year  nrEntry  ltue  employed_before  receipt_leh_before  \\\n",
       "0             7  2015        1     0                1                   0   \n",
       "1            18  2010        1     1                0                   0   \n",
       "2            18  2011        2     0                1                   0   \n",
       "3            18  2012        3     0                1                   0   \n",
       "4            18  2012        4     0                1                   0   \n",
       "...         ...   ...      ...   ...              ...                 ...   \n",
       "643685  1827860  2013        1     0                0                   0   \n",
       "643686  1827860  2015        2     1                0                   0   \n",
       "643687  1827860  2016        3     1                0                   0   \n",
       "643688  1827869  2013        1     1                1                   0   \n",
       "643689  1827869  2014        2     0                0                   1   \n",
       "\n",
       "        receipt_lhg_before  se_before  ASU_notue_seeking_before  \\\n",
       "0                        0          0                         1   \n",
       "1                        0          0                         0   \n",
       "2                        1          0                         1   \n",
       "3                        1          0                         1   \n",
       "4                        1          0                         1   \n",
       "...                    ...        ...                       ...   \n",
       "643685                   1          0                         0   \n",
       "643686                   1          0                         1   \n",
       "643687                   1          1                         0   \n",
       "643688                   0          0                         1   \n",
       "643689                   0          0                         1   \n",
       "\n",
       "        ASU_other_before  ...  minijob_tot_dur_byage  ft_tot_dur_byage  \\\n",
       "0                      0  ...               0.000000          0.000000   \n",
       "1                      0  ...               0.000000          0.000000   \n",
       "2                      0  ...               2.714286          2.714286   \n",
       "3                      0  ...               4.200000          4.200000   \n",
       "4                      0  ...               5.460000          5.460000   \n",
       "...                  ...  ...                    ...               ...   \n",
       "643685                 1  ...               0.000000          0.000000   \n",
       "643686                 0  ...               0.000000          0.000000   \n",
       "643687                 1  ...               0.000000          0.000000   \n",
       "643688                 0  ...               0.000000          0.000000   \n",
       "643689                 0  ...               0.000000          0.666667   \n",
       "\n",
       "        befrist_tot_dur_byage  leih_tot_dur_byage  LHG_tot_dur_byage  \\\n",
       "0                   15.043478            0.000000           0.000000   \n",
       "1                    0.000000            0.000000           0.000000   \n",
       "2                    0.000000            0.000000          10.775510   \n",
       "3                    0.000000            0.000000          12.100000   \n",
       "4                    0.000000            0.000000          13.360000   \n",
       "...                       ...                 ...                ...   \n",
       "643685               0.000000            0.000000           0.612903   \n",
       "643686               0.212121            0.212121          17.363636   \n",
       "643687               0.294118            0.205882          34.705882   \n",
       "643688               0.000000            0.000000           0.000000   \n",
       "643689               0.666667            0.000000           0.000000   \n",
       "\n",
       "        LEH_tot_dur_byage  almp_tot_dur_byage  almp_aw_tot_dur_byage  \\\n",
       "0                0.000000            0.000000               0.000000   \n",
       "1                0.000000            0.000000               0.000000   \n",
       "2                0.000000            8.367347               0.000000   \n",
       "3                0.000000            9.400000               0.000000   \n",
       "4                0.000000           10.320000               0.000000   \n",
       "...                   ...                 ...                    ...   \n",
       "643685           0.000000            0.000000               0.000000   \n",
       "643686           0.000000            8.909091               0.000000   \n",
       "643687           0.000000           10.352941               1.705882   \n",
       "643688           0.525424            0.000000               0.000000   \n",
       "643689           8.950000            1.033333               0.083333   \n",
       "\n",
       "        se_tot_dur_byage  seeking1_tot_dur_byage  \n",
       "0               0.000000                0.000000  \n",
       "1               0.000000                0.000000  \n",
       "2               0.000000                9.836735  \n",
       "3               0.000000                9.960000  \n",
       "4               0.000000               10.280000  \n",
       "...                  ...                     ...  \n",
       "643685          0.000000                0.000000  \n",
       "643686          0.000000                7.121212  \n",
       "643687          1.705882               23.911765  \n",
       "643688          0.000000                0.000000  \n",
       "643689          0.083333                8.133333  \n",
       "\n",
       "[643690 rows x 164 columns]"
      ]
     },
     "execution_count": 10,
     "metadata": {},
     "output_type": "execute_result"
    }
   ],
   "source": [
    "siab"
   ]
  },
  {
   "cell_type": "markdown",
   "id": "1f87e805",
   "metadata": {
    "papermill": {
     "duration": 0.009674,
     "end_time": "2025-08-19T18:37:29.258380",
     "exception": false,
     "start_time": "2025-08-19T18:37:29.248706",
     "status": "completed"
    },
    "tags": []
   },
   "source": [
    "# Splitting Data and Setting Training Data Size"
   ]
  },
  {
   "cell_type": "code",
   "execution_count": 11,
   "id": "910ae358",
   "metadata": {
    "execution": {
     "iopub.execute_input": "2025-08-19T18:37:29.280238Z",
     "iopub.status.busy": "2025-08-19T18:37:29.279074Z",
     "iopub.status.idle": "2025-08-19T18:37:29.957033Z",
     "shell.execute_reply": "2025-08-19T18:37:29.956250Z"
    },
    "papermill": {
     "duration": 0.690513,
     "end_time": "2025-08-19T18:37:29.958470",
     "exception": false,
     "start_time": "2025-08-19T18:37:29.267957",
     "status": "completed"
    },
    "tags": []
   },
   "outputs": [],
   "source": [
    "from fairness_multiverse.universe import sample_by_year_size\n",
    "\n",
    "siab_train = sample_by_year_size(siab,\n",
    "                               training_year=universe[\"training_year\"],\n",
    "                               training_size=universe[\"training_size\"])"
   ]
  },
  {
   "cell_type": "code",
   "execution_count": 12,
   "id": "919c8ff5",
   "metadata": {
    "execution": {
     "iopub.execute_input": "2025-08-19T18:37:29.980090Z",
     "iopub.status.busy": "2025-08-19T18:37:29.979597Z",
     "iopub.status.idle": "2025-08-19T18:37:29.986012Z",
     "shell.execute_reply": "2025-08-19T18:37:29.985296Z"
    },
    "papermill": {
     "duration": 0.018301,
     "end_time": "2025-08-19T18:37:29.987079",
     "exception": false,
     "start_time": "2025-08-19T18:37:29.968778",
     "status": "completed"
    },
    "tags": []
   },
   "outputs": [
    {
     "data": {
      "text/plain": [
       "(5000, 164)"
      ]
     },
     "execution_count": 12,
     "metadata": {},
     "output_type": "execute_result"
    }
   ],
   "source": [
    "siab_train.shape"
   ]
  },
  {
   "cell_type": "code",
   "execution_count": 13,
   "id": "feb13bf4",
   "metadata": {
    "execution": {
     "iopub.execute_input": "2025-08-19T18:37:30.013058Z",
     "iopub.status.busy": "2025-08-19T18:37:30.012592Z",
     "iopub.status.idle": "2025-08-19T18:37:30.024686Z",
     "shell.execute_reply": "2025-08-19T18:37:30.023731Z"
    },
    "papermill": {
     "duration": 0.027103,
     "end_time": "2025-08-19T18:37:30.026568",
     "exception": false,
     "start_time": "2025-08-19T18:37:29.999465",
     "status": "completed"
    },
    "tags": []
   },
   "outputs": [
    {
     "data": {
      "text/plain": [
       "year\n",
       "2012    1667\n",
       "2013    1667\n",
       "2014    1666\n",
       "dtype: int64"
      ]
     },
     "metadata": {},
     "output_type": "display_data"
    }
   ],
   "source": [
    "display(siab_train.groupby(\"year\").size())"
   ]
  },
  {
   "cell_type": "code",
   "execution_count": 14,
   "id": "0997782f",
   "metadata": {
    "execution": {
     "iopub.execute_input": "2025-08-19T18:37:30.051406Z",
     "iopub.status.busy": "2025-08-19T18:37:30.051090Z",
     "iopub.status.idle": "2025-08-19T18:37:30.358603Z",
     "shell.execute_reply": "2025-08-19T18:37:30.356424Z"
    },
    "papermill": {
     "duration": 0.320445,
     "end_time": "2025-08-19T18:37:30.360451",
     "exception": false,
     "start_time": "2025-08-19T18:37:30.040006",
     "status": "completed"
    },
    "tags": []
   },
   "outputs": [],
   "source": [
    "#siab_train = siab_s[siab_s.year < 2015]\n",
    "siab_calib = siab[siab.year == 2015]\n",
    "siab_test = siab[siab.year == 2016]"
   ]
  },
  {
   "cell_type": "code",
   "execution_count": 15,
   "id": "2c1e4012",
   "metadata": {
    "execution": {
     "iopub.execute_input": "2025-08-19T18:37:30.390749Z",
     "iopub.status.busy": "2025-08-19T18:37:30.390378Z",
     "iopub.status.idle": "2025-08-19T18:37:30.397792Z",
     "shell.execute_reply": "2025-08-19T18:37:30.396513Z"
    },
    "papermill": {
     "duration": 0.028531,
     "end_time": "2025-08-19T18:37:30.399896",
     "exception": false,
     "start_time": "2025-08-19T18:37:30.371365",
     "status": "completed"
    },
    "tags": []
   },
   "outputs": [],
   "source": [
    "#siab_calib.shape"
   ]
  },
  {
   "cell_type": "code",
   "execution_count": 16,
   "id": "f66b54ca",
   "metadata": {
    "execution": {
     "iopub.execute_input": "2025-08-19T18:37:30.423872Z",
     "iopub.status.busy": "2025-08-19T18:37:30.423565Z",
     "iopub.status.idle": "2025-08-19T18:37:30.427523Z",
     "shell.execute_reply": "2025-08-19T18:37:30.426796Z"
    },
    "papermill": {
     "duration": 0.016969,
     "end_time": "2025-08-19T18:37:30.428944",
     "exception": false,
     "start_time": "2025-08-19T18:37:30.411975",
     "status": "completed"
    },
    "tags": []
   },
   "outputs": [],
   "source": [
    "#siab_test.shape"
   ]
  },
  {
   "cell_type": "code",
   "execution_count": 17,
   "id": "27e4384d",
   "metadata": {
    "execution": {
     "iopub.execute_input": "2025-08-19T18:37:30.451374Z",
     "iopub.status.busy": "2025-08-19T18:37:30.451072Z",
     "iopub.status.idle": "2025-08-19T18:37:30.465997Z",
     "shell.execute_reply": "2025-08-19T18:37:30.465025Z"
    },
    "papermill": {
     "duration": 0.027903,
     "end_time": "2025-08-19T18:37:30.467365",
     "exception": false,
     "start_time": "2025-08-19T18:37:30.439462",
     "status": "completed"
    },
    "tags": []
   },
   "outputs": [],
   "source": [
    "X_train = siab_train.iloc[:,4:164]\n",
    "y_train = siab_train.iloc[:, [3]]"
   ]
  },
  {
   "cell_type": "code",
   "execution_count": 18,
   "id": "08ee8389",
   "metadata": {
    "execution": {
     "iopub.execute_input": "2025-08-19T18:37:30.489580Z",
     "iopub.status.busy": "2025-08-19T18:37:30.489184Z",
     "iopub.status.idle": "2025-08-19T18:37:30.552872Z",
     "shell.execute_reply": "2025-08-19T18:37:30.552065Z"
    },
    "papermill": {
     "duration": 0.076576,
     "end_time": "2025-08-19T18:37:30.554360",
     "exception": false,
     "start_time": "2025-08-19T18:37:30.477784",
     "status": "completed"
    },
    "tags": []
   },
   "outputs": [],
   "source": [
    "X_calib = siab_calib.iloc[:,4:164]\n",
    "y_calib = siab_calib.iloc[:, [3]]"
   ]
  },
  {
   "cell_type": "code",
   "execution_count": 19,
   "id": "b7ff42e0",
   "metadata": {
    "execution": {
     "iopub.execute_input": "2025-08-19T18:37:30.577009Z",
     "iopub.status.busy": "2025-08-19T18:37:30.576228Z",
     "iopub.status.idle": "2025-08-19T18:37:30.638754Z",
     "shell.execute_reply": "2025-08-19T18:37:30.637950Z"
    },
    "papermill": {
     "duration": 0.076392,
     "end_time": "2025-08-19T18:37:30.641362",
     "exception": false,
     "start_time": "2025-08-19T18:37:30.564970",
     "status": "completed"
    },
    "tags": []
   },
   "outputs": [],
   "source": [
    "X_test = siab_test.iloc[:,4:164]\n",
    "y_true = siab_test.iloc[:, [3]]"
   ]
  },
  {
   "cell_type": "code",
   "execution_count": 20,
   "id": "0275101e",
   "metadata": {
    "execution": {
     "iopub.execute_input": "2025-08-19T18:37:30.681810Z",
     "iopub.status.busy": "2025-08-19T18:37:30.680908Z",
     "iopub.status.idle": "2025-08-19T18:37:30.807948Z",
     "shell.execute_reply": "2025-08-19T18:37:30.807246Z"
    },
    "papermill": {
     "duration": 0.142148,
     "end_time": "2025-08-19T18:37:30.809475",
     "exception": false,
     "start_time": "2025-08-19T18:37:30.667327",
     "status": "completed"
    },
    "tags": []
   },
   "outputs": [],
   "source": [
    "# Auxiliary data needed downstream in the pipeline\n",
    "\n",
    "org_train = X_train.copy()\n",
    "org_test = X_test.copy()\n",
    "org_calib = X_calib.copy()"
   ]
  },
  {
   "cell_type": "markdown",
   "id": "b461e618",
   "metadata": {
    "papermill": {
     "duration": 0.010263,
     "end_time": "2025-08-19T18:37:30.832238",
     "exception": false,
     "start_time": "2025-08-19T18:37:30.821975",
     "status": "completed"
    },
    "tags": []
   },
   "source": [
    "# Preprocessing Data"
   ]
  },
  {
   "cell_type": "code",
   "execution_count": 21,
   "id": "78e74c4b",
   "metadata": {
    "execution": {
     "iopub.execute_input": "2025-08-19T18:37:30.854385Z",
     "iopub.status.busy": "2025-08-19T18:37:30.853990Z",
     "iopub.status.idle": "2025-08-19T18:37:30.858563Z",
     "shell.execute_reply": "2025-08-19T18:37:30.857961Z"
    },
    "papermill": {
     "duration": 0.017006,
     "end_time": "2025-08-19T18:37:30.859536",
     "exception": false,
     "start_time": "2025-08-19T18:37:30.842530",
     "status": "completed"
    },
    "tags": []
   },
   "outputs": [],
   "source": [
    "# EXCLUDE PROTECTED FEATURES\n",
    "# --------------------------\n",
    "\n",
    "excluded_features = universe[\"exclude_features\"].split(\"-\")\n",
    "excluded_features_dictionary = {\n",
    "    \"nationality\": [\"maxdeutsch1\", \"maxdeutsch.Missing.\"],\n",
    "    \"sex\": [\"frau1\"],\n",
    "    \"age\": [\"age\"],\n",
    "}"
   ]
  },
  {
   "cell_type": "code",
   "execution_count": 22,
   "id": "f8e63555",
   "metadata": {
    "execution": {
     "iopub.execute_input": "2025-08-19T18:37:30.881568Z",
     "iopub.status.busy": "2025-08-19T18:37:30.881201Z",
     "iopub.status.idle": "2025-08-19T18:37:30.885486Z",
     "shell.execute_reply": "2025-08-19T18:37:30.884900Z"
    },
    "papermill": {
     "duration": 0.01666,
     "end_time": "2025-08-19T18:37:30.886589",
     "exception": false,
     "start_time": "2025-08-19T18:37:30.869929",
     "status": "completed"
    },
    "tags": []
   },
   "outputs": [],
   "source": [
    "excluded_features_columns = [\n",
    "    excluded_features_dictionary[f] for f in excluded_features if len(f) > 0 and f != \"none\"\n",
    "]"
   ]
  },
  {
   "cell_type": "code",
   "execution_count": 23,
   "id": "da781f7c",
   "metadata": {
    "execution": {
     "iopub.execute_input": "2025-08-19T18:37:30.908685Z",
     "iopub.status.busy": "2025-08-19T18:37:30.908301Z",
     "iopub.status.idle": "2025-08-19T18:37:30.912293Z",
     "shell.execute_reply": "2025-08-19T18:37:30.911701Z"
    },
    "papermill": {
     "duration": 0.016377,
     "end_time": "2025-08-19T18:37:30.913495",
     "exception": false,
     "start_time": "2025-08-19T18:37:30.897118",
     "status": "completed"
    },
    "tags": []
   },
   "outputs": [],
   "source": [
    "from fairness_multiverse.universe import flatten_once\n",
    "\n",
    "excluded_features_columns = flatten_once(excluded_features_columns)"
   ]
  },
  {
   "cell_type": "code",
   "execution_count": 24,
   "id": "37fef0f0",
   "metadata": {
    "execution": {
     "iopub.execute_input": "2025-08-19T18:37:30.935882Z",
     "iopub.status.busy": "2025-08-19T18:37:30.935493Z",
     "iopub.status.idle": "2025-08-19T18:37:30.947138Z",
     "shell.execute_reply": "2025-08-19T18:37:30.946250Z"
    },
    "papermill": {
     "duration": 0.024503,
     "end_time": "2025-08-19T18:37:30.948654",
     "exception": false,
     "start_time": "2025-08-19T18:37:30.924151",
     "status": "completed"
    },
    "tags": []
   },
   "outputs": [
    {
     "name": "stdout",
     "output_type": "stream",
     "text": [
      "Dropping features: ['age']\n"
     ]
    }
   ],
   "source": [
    "if len(excluded_features_columns) > 0:\n",
    "    print(f\"Dropping features: {excluded_features_columns}\")\n",
    "    X_train.drop(excluded_features_columns, axis=1, inplace=True)"
   ]
  },
  {
   "cell_type": "code",
   "execution_count": 25,
   "id": "d029e3e9",
   "metadata": {
    "execution": {
     "iopub.execute_input": "2025-08-19T18:37:30.973526Z",
     "iopub.status.busy": "2025-08-19T18:37:30.972685Z",
     "iopub.status.idle": "2025-08-19T18:37:31.083475Z",
     "shell.execute_reply": "2025-08-19T18:37:31.082364Z"
    },
    "papermill": {
     "duration": 0.124721,
     "end_time": "2025-08-19T18:37:31.085911",
     "exception": false,
     "start_time": "2025-08-19T18:37:30.961190",
     "status": "completed"
    },
    "tags": []
   },
   "outputs": [
    {
     "name": "stdout",
     "output_type": "stream",
     "text": [
      "Dropping features: ['age']\n"
     ]
    }
   ],
   "source": [
    "if len(excluded_features_columns) > 0:\n",
    "    print(f\"Dropping features: {excluded_features_columns}\")\n",
    "    X_test.drop(excluded_features_columns, axis=1, inplace=True)"
   ]
  },
  {
   "cell_type": "code",
   "execution_count": 26,
   "id": "01d571f0",
   "metadata": {
    "execution": {
     "iopub.execute_input": "2025-08-19T18:37:31.112833Z",
     "iopub.status.busy": "2025-08-19T18:37:31.112103Z",
     "iopub.status.idle": "2025-08-19T18:37:31.273850Z",
     "shell.execute_reply": "2025-08-19T18:37:31.273199Z"
    },
    "papermill": {
     "duration": 0.174742,
     "end_time": "2025-08-19T18:37:31.275094",
     "exception": false,
     "start_time": "2025-08-19T18:37:31.100352",
     "status": "completed"
    },
    "tags": []
   },
   "outputs": [
    {
     "name": "stdout",
     "output_type": "stream",
     "text": [
      "Dropping features: ['age']\n"
     ]
    }
   ],
   "source": [
    "if len(excluded_features_columns) > 0:\n",
    "    print(f\"Dropping features: {excluded_features_columns}\")\n",
    "    X_calib.drop(excluded_features_columns, axis=1, inplace=True)"
   ]
  },
  {
   "cell_type": "code",
   "execution_count": 27,
   "id": "3037356e",
   "metadata": {
    "execution": {
     "iopub.execute_input": "2025-08-19T18:37:31.298121Z",
     "iopub.status.busy": "2025-08-19T18:37:31.297807Z",
     "iopub.status.idle": "2025-08-19T18:37:31.302297Z",
     "shell.execute_reply": "2025-08-19T18:37:31.301677Z"
    },
    "papermill": {
     "duration": 0.019436,
     "end_time": "2025-08-19T18:37:31.305516",
     "exception": false,
     "start_time": "2025-08-19T18:37:31.286080",
     "status": "completed"
    },
    "tags": []
   },
   "outputs": [],
   "source": [
    "# EXCLUDE CERTAIN SUBGROUPS\n",
    "# -------------------------\n",
    "\n",
    "mode = universe.get(\"exclude_subgroups\", \"keep-all\") # Defaults to \"keep-all\" if the key is missing."
   ]
  },
  {
   "cell_type": "code",
   "execution_count": 28,
   "id": "9d1e63fd",
   "metadata": {
    "execution": {
     "iopub.execute_input": "2025-08-19T18:37:31.349796Z",
     "iopub.status.busy": "2025-08-19T18:37:31.347792Z",
     "iopub.status.idle": "2025-08-19T18:37:31.360032Z",
     "shell.execute_reply": "2025-08-19T18:37:31.358276Z"
    },
    "papermill": {
     "duration": 0.032541,
     "end_time": "2025-08-19T18:37:31.361757",
     "exception": false,
     "start_time": "2025-08-19T18:37:31.329216",
     "status": "completed"
    },
    "tags": []
   },
   "outputs": [],
   "source": [
    "if mode == \"keep-all\":\n",
    "    keep_mask = pd.Series(True, index=org_train.index)\n",
    "\n",
    "elif mode == \"drop-non-german\":\n",
    "    keep_mask = (org_train[\"maxdeutsch1\"] == 1) & (org_train[\"maxdeutsch.Missing.\"] == 0)\n",
    "\n",
    "else:\n",
    "    raise ValueError(f\"Unsupported mode for exclude_subgroups: {mode}\")"
   ]
  },
  {
   "cell_type": "code",
   "execution_count": 29,
   "id": "d3b65474",
   "metadata": {
    "execution": {
     "iopub.execute_input": "2025-08-19T18:37:31.393050Z",
     "iopub.status.busy": "2025-08-19T18:37:31.391580Z",
     "iopub.status.idle": "2025-08-19T18:37:31.481318Z",
     "shell.execute_reply": "2025-08-19T18:37:31.479574Z"
    },
    "papermill": {
     "duration": 0.107691,
     "end_time": "2025-08-19T18:37:31.483895",
     "exception": false,
     "start_time": "2025-08-19T18:37:31.376204",
     "status": "completed"
    },
    "tags": []
   },
   "outputs": [],
   "source": [
    "n_drop = (~keep_mask).sum() # Calculates how many rows are set to be dropped\n",
    "if n_drop > 0:\n",
    "    pct = n_drop / len(keep_mask) * 100\n",
    "    print(f\"Dropping {n_drop} rows ({pct:.2f}%) where mode='{mode}'\")"
   ]
  },
  {
   "cell_type": "code",
   "execution_count": 30,
   "id": "f44389b3",
   "metadata": {
    "execution": {
     "iopub.execute_input": "2025-08-19T18:37:31.516269Z",
     "iopub.status.busy": "2025-08-19T18:37:31.514366Z",
     "iopub.status.idle": "2025-08-19T18:37:31.526225Z",
     "shell.execute_reply": "2025-08-19T18:37:31.525077Z"
    },
    "papermill": {
     "duration": 0.041027,
     "end_time": "2025-08-19T18:37:31.538959",
     "exception": false,
     "start_time": "2025-08-19T18:37:31.497932",
     "status": "completed"
    },
    "tags": []
   },
   "outputs": [],
   "source": [
    "X_train = X_train[keep_mask]"
   ]
  },
  {
   "cell_type": "code",
   "execution_count": 31,
   "id": "ceca8c2a",
   "metadata": {
    "execution": {
     "iopub.execute_input": "2025-08-19T18:37:31.568319Z",
     "iopub.status.busy": "2025-08-19T18:37:31.566942Z",
     "iopub.status.idle": "2025-08-19T18:37:31.577908Z",
     "shell.execute_reply": "2025-08-19T18:37:31.576011Z"
    },
    "papermill": {
     "duration": 0.028846,
     "end_time": "2025-08-19T18:37:31.579761",
     "exception": false,
     "start_time": "2025-08-19T18:37:31.550915",
     "status": "completed"
    },
    "tags": []
   },
   "outputs": [],
   "source": [
    "y_train = y_train[keep_mask]"
   ]
  },
  {
   "cell_type": "markdown",
   "id": "04d31e2f",
   "metadata": {
    "papermill": {
     "duration": 0.011131,
     "end_time": "2025-08-19T18:37:31.606517",
     "exception": false,
     "start_time": "2025-08-19T18:37:31.595386",
     "status": "completed"
    },
    "tags": []
   },
   "source": [
    "# Model Training"
   ]
  },
  {
   "cell_type": "code",
   "execution_count": 32,
   "id": "db991733",
   "metadata": {
    "execution": {
     "iopub.execute_input": "2025-08-19T18:37:31.633147Z",
     "iopub.status.busy": "2025-08-19T18:37:31.631375Z",
     "iopub.status.idle": "2025-08-19T18:37:31.759282Z",
     "shell.execute_reply": "2025-08-19T18:37:31.758492Z"
    },
    "papermill": {
     "duration": 0.142086,
     "end_time": "2025-08-19T18:37:31.760826",
     "exception": false,
     "start_time": "2025-08-19T18:37:31.618740",
     "status": "completed"
    },
    "tags": []
   },
   "outputs": [],
   "source": [
    "from sklearn.linear_model import LogisticRegression\n",
    "from sklearn.ensemble import GradientBoostingClassifier, RandomForestClassifier\n",
    "\n",
    "if (universe[\"model\"] == \"logreg\"):\n",
    "    model = LogisticRegression() #penalty=\"none\", solver=\"newton-cg\", max_iter=1)\n",
    "elif (universe[\"model\"] == \"penalized_logreg\"):\n",
    "    model = LogisticRegression(penalty=\"l2\", C=0.1) #, solver=\"newton-cg\", max_iter=1)\n",
    "elif (universe[\"model\"] == \"rf\"):\n",
    "    model = RandomForestClassifier() # n_estimators=100, n_jobs=-1\n",
    "elif (universe[\"model\"] == \"gbm\"):\n",
    "    model = GradientBoostingClassifier()\n",
    "elif (universe[\"model\"] == \"elasticnet\"):\n",
    "    model = LogisticRegression(penalty = 'elasticnet', solver = 'saga', l1_ratio = 0.5) # max_iter=5000\n",
    "else:\n",
    "    raise \"Unsupported universe.model\""
   ]
  },
  {
   "cell_type": "code",
   "execution_count": 33,
   "id": "a4b5cd25",
   "metadata": {
    "execution": {
     "iopub.execute_input": "2025-08-19T18:37:31.786578Z",
     "iopub.status.busy": "2025-08-19T18:37:31.785029Z",
     "iopub.status.idle": "2025-08-19T18:37:31.795256Z",
     "shell.execute_reply": "2025-08-19T18:37:31.793926Z"
    },
    "papermill": {
     "duration": 0.024516,
     "end_time": "2025-08-19T18:37:31.796660",
     "exception": false,
     "start_time": "2025-08-19T18:37:31.772144",
     "status": "completed"
    },
    "tags": []
   },
   "outputs": [],
   "source": [
    "from sklearn.pipeline import Pipeline\n",
    "from sklearn.preprocessing import StandardScaler\n",
    "\n",
    "model = Pipeline([\n",
    "    #(\"continuous_processor\", continuous_processor),\n",
    "    #(\"categorical_preprocessor\", categorical_preprocessor),\n",
    "    (\"scale\", StandardScaler() if universe[\"scale\"] == \"scale\" else None), \n",
    "    (\"model\", model),\n",
    "])"
   ]
  },
  {
   "cell_type": "code",
   "execution_count": 34,
   "id": "283a904d",
   "metadata": {
    "execution": {
     "iopub.execute_input": "2025-08-19T18:37:31.824795Z",
     "iopub.status.busy": "2025-08-19T18:37:31.823688Z",
     "iopub.status.idle": "2025-08-19T18:37:33.245408Z",
     "shell.execute_reply": "2025-08-19T18:37:33.244265Z"
    },
    "papermill": {
     "duration": 1.439167,
     "end_time": "2025-08-19T18:37:33.249670",
     "exception": false,
     "start_time": "2025-08-19T18:37:31.810503",
     "status": "completed"
    },
    "tags": []
   },
   "outputs": [
    {
     "data": {
      "text/html": [
       "<style>#sk-container-id-1 {color: black;background-color: white;}#sk-container-id-1 pre{padding: 0;}#sk-container-id-1 div.sk-toggleable {background-color: white;}#sk-container-id-1 label.sk-toggleable__label {cursor: pointer;display: block;width: 100%;margin-bottom: 0;padding: 0.3em;box-sizing: border-box;text-align: center;}#sk-container-id-1 label.sk-toggleable__label-arrow:before {content: \"▸\";float: left;margin-right: 0.25em;color: #696969;}#sk-container-id-1 label.sk-toggleable__label-arrow:hover:before {color: black;}#sk-container-id-1 div.sk-estimator:hover label.sk-toggleable__label-arrow:before {color: black;}#sk-container-id-1 div.sk-toggleable__content {max-height: 0;max-width: 0;overflow: hidden;text-align: left;background-color: #f0f8ff;}#sk-container-id-1 div.sk-toggleable__content pre {margin: 0.2em;color: black;border-radius: 0.25em;background-color: #f0f8ff;}#sk-container-id-1 input.sk-toggleable__control:checked~div.sk-toggleable__content {max-height: 200px;max-width: 100%;overflow: auto;}#sk-container-id-1 input.sk-toggleable__control:checked~label.sk-toggleable__label-arrow:before {content: \"▾\";}#sk-container-id-1 div.sk-estimator input.sk-toggleable__control:checked~label.sk-toggleable__label {background-color: #d4ebff;}#sk-container-id-1 div.sk-label input.sk-toggleable__control:checked~label.sk-toggleable__label {background-color: #d4ebff;}#sk-container-id-1 input.sk-hidden--visually {border: 0;clip: rect(1px 1px 1px 1px);clip: rect(1px, 1px, 1px, 1px);height: 1px;margin: -1px;overflow: hidden;padding: 0;position: absolute;width: 1px;}#sk-container-id-1 div.sk-estimator {font-family: monospace;background-color: #f0f8ff;border: 1px dotted black;border-radius: 0.25em;box-sizing: border-box;margin-bottom: 0.5em;}#sk-container-id-1 div.sk-estimator:hover {background-color: #d4ebff;}#sk-container-id-1 div.sk-parallel-item::after {content: \"\";width: 100%;border-bottom: 1px solid gray;flex-grow: 1;}#sk-container-id-1 div.sk-label:hover label.sk-toggleable__label {background-color: #d4ebff;}#sk-container-id-1 div.sk-serial::before {content: \"\";position: absolute;border-left: 1px solid gray;box-sizing: border-box;top: 0;bottom: 0;left: 50%;z-index: 0;}#sk-container-id-1 div.sk-serial {display: flex;flex-direction: column;align-items: center;background-color: white;padding-right: 0.2em;padding-left: 0.2em;position: relative;}#sk-container-id-1 div.sk-item {position: relative;z-index: 1;}#sk-container-id-1 div.sk-parallel {display: flex;align-items: stretch;justify-content: center;background-color: white;position: relative;}#sk-container-id-1 div.sk-item::before, #sk-container-id-1 div.sk-parallel-item::before {content: \"\";position: absolute;border-left: 1px solid gray;box-sizing: border-box;top: 0;bottom: 0;left: 50%;z-index: -1;}#sk-container-id-1 div.sk-parallel-item {display: flex;flex-direction: column;z-index: 1;position: relative;background-color: white;}#sk-container-id-1 div.sk-parallel-item:first-child::after {align-self: flex-end;width: 50%;}#sk-container-id-1 div.sk-parallel-item:last-child::after {align-self: flex-start;width: 50%;}#sk-container-id-1 div.sk-parallel-item:only-child::after {width: 0;}#sk-container-id-1 div.sk-dashed-wrapped {border: 1px dashed gray;margin: 0 0.4em 0.5em 0.4em;box-sizing: border-box;padding-bottom: 0.4em;background-color: white;}#sk-container-id-1 div.sk-label label {font-family: monospace;font-weight: bold;display: inline-block;line-height: 1.2em;}#sk-container-id-1 div.sk-label-container {text-align: center;}#sk-container-id-1 div.sk-container {/* jupyter's `normalize.less` sets `[hidden] { display: none; }` but bootstrap.min.css set `[hidden] { display: none !important; }` so we also need the `!important` here to be able to override the default hidden behavior on the sphinx rendered scikit-learn.org. See: https://github.com/scikit-learn/scikit-learn/issues/21755 */display: inline-block !important;position: relative;}#sk-container-id-1 div.sk-text-repr-fallback {display: none;}</style><div id=\"sk-container-id-1\" class=\"sk-top-container\"><div class=\"sk-text-repr-fallback\"><pre>Pipeline(steps=[(&#x27;scale&#x27;, None), (&#x27;model&#x27;, RandomForestClassifier())])</pre><b>In a Jupyter environment, please rerun this cell to show the HTML representation or trust the notebook. <br />On GitHub, the HTML representation is unable to render, please try loading this page with nbviewer.org.</b></div><div class=\"sk-container\" hidden><div class=\"sk-item sk-dashed-wrapped\"><div class=\"sk-label-container\"><div class=\"sk-label sk-toggleable\"><input class=\"sk-toggleable__control sk-hidden--visually\" id=\"sk-estimator-id-1\" type=\"checkbox\" ><label for=\"sk-estimator-id-1\" class=\"sk-toggleable__label sk-toggleable__label-arrow\">Pipeline</label><div class=\"sk-toggleable__content\"><pre>Pipeline(steps=[(&#x27;scale&#x27;, None), (&#x27;model&#x27;, RandomForestClassifier())])</pre></div></div></div><div class=\"sk-serial\"><div class=\"sk-item\"><div class=\"sk-estimator sk-toggleable\"><input class=\"sk-toggleable__control sk-hidden--visually\" id=\"sk-estimator-id-2\" type=\"checkbox\" ><label for=\"sk-estimator-id-2\" class=\"sk-toggleable__label sk-toggleable__label-arrow\">None</label><div class=\"sk-toggleable__content\"><pre>None</pre></div></div></div><div class=\"sk-item\"><div class=\"sk-estimator sk-toggleable\"><input class=\"sk-toggleable__control sk-hidden--visually\" id=\"sk-estimator-id-3\" type=\"checkbox\" ><label for=\"sk-estimator-id-3\" class=\"sk-toggleable__label sk-toggleable__label-arrow\">RandomForestClassifier</label><div class=\"sk-toggleable__content\"><pre>RandomForestClassifier()</pre></div></div></div></div></div></div></div>"
      ],
      "text/plain": [
       "Pipeline(steps=[('scale', None), ('model', RandomForestClassifier())])"
      ]
     },
     "execution_count": 34,
     "metadata": {},
     "output_type": "execute_result"
    }
   ],
   "source": [
    "model.fit(X_train, y_train.values.ravel())"
   ]
  },
  {
   "cell_type": "code",
   "execution_count": 35,
   "id": "6e15e313",
   "metadata": {
    "execution": {
     "iopub.execute_input": "2025-08-19T18:37:33.289295Z",
     "iopub.status.busy": "2025-08-19T18:37:33.287534Z",
     "iopub.status.idle": "2025-08-19T18:37:35.467108Z",
     "shell.execute_reply": "2025-08-19T18:37:35.465321Z"
    },
    "papermill": {
     "duration": 2.195909,
     "end_time": "2025-08-19T18:37:35.468609",
     "exception": false,
     "start_time": "2025-08-19T18:37:33.272700",
     "status": "completed"
    },
    "tags": []
   },
   "outputs": [
    {
     "data": {
      "text/plain": [
       "0.868008025861108"
      ]
     },
     "execution_count": 35,
     "metadata": {},
     "output_type": "execute_result"
    }
   ],
   "source": [
    "from fairness_multiverse.universe import predict_w_threshold\n",
    "\n",
    "probs_test = model.predict_proba(X_test)\n",
    "\n",
    "'''\n",
    "Below code returns a boolean array (or binary 0/1 array depending on how it’s used) where each element \n",
    "is True if the probability of class 1 is greater than or equal to the threshold, and False otherwise.\n",
    "'''\n",
    "y_pred_default = predict_w_threshold(probs_test, 0.5)\n",
    "\n",
    "from sklearn.metrics import accuracy_score\n",
    "\n",
    "# Naive prediction\n",
    "accuracy_score(y_true = y_true, y_pred = y_pred_default)"
   ]
  },
  {
   "cell_type": "code",
   "execution_count": 36,
   "id": "6f14067c",
   "metadata": {
    "execution": {
     "iopub.execute_input": "2025-08-19T18:37:35.511688Z",
     "iopub.status.busy": "2025-08-19T18:37:35.510275Z",
     "iopub.status.idle": "2025-08-19T18:37:37.417841Z",
     "shell.execute_reply": "2025-08-19T18:37:37.416402Z"
    },
    "papermill": {
     "duration": 1.937909,
     "end_time": "2025-08-19T18:37:37.419451",
     "exception": false,
     "start_time": "2025-08-19T18:37:35.481542",
     "status": "completed"
    },
    "tags": []
   },
   "outputs": [
    {
     "data": {
      "text/plain": [
       "array([0, 0, 0, ..., 0, 0, 0])"
      ]
     },
     "execution_count": 36,
     "metadata": {},
     "output_type": "execute_result"
    }
   ],
   "source": [
    "model.predict(X_test)"
   ]
  },
  {
   "cell_type": "markdown",
   "id": "3759920c",
   "metadata": {
    "papermill": {
     "duration": 0.011564,
     "end_time": "2025-08-19T18:37:37.445353",
     "exception": false,
     "start_time": "2025-08-19T18:37:37.433789",
     "status": "completed"
    },
    "tags": []
   },
   "source": [
    "# Conformal Prediction"
   ]
  },
  {
   "cell_type": "code",
   "execution_count": 37,
   "id": "14b27f59",
   "metadata": {
    "execution": {
     "iopub.execute_input": "2025-08-19T18:37:37.473025Z",
     "iopub.status.busy": "2025-08-19T18:37:37.471343Z",
     "iopub.status.idle": "2025-08-19T18:37:37.479661Z",
     "shell.execute_reply": "2025-08-19T18:37:37.478617Z"
    },
    "papermill": {
     "duration": 0.02532,
     "end_time": "2025-08-19T18:37:37.482694",
     "exception": false,
     "start_time": "2025-08-19T18:37:37.457374",
     "status": "completed"
    },
    "tags": []
   },
   "outputs": [],
   "source": [
    "# Miscoverage level for conformal prediction (10% allowed error rate => 90% target coverage)\n",
    "alpha = 0.1"
   ]
  },
  {
   "cell_type": "code",
   "execution_count": 38,
   "id": "59102472",
   "metadata": {
    "execution": {
     "iopub.execute_input": "2025-08-19T18:37:37.507880Z",
     "iopub.status.busy": "2025-08-19T18:37:37.506439Z",
     "iopub.status.idle": "2025-08-19T18:37:39.386678Z",
     "shell.execute_reply": "2025-08-19T18:37:39.385420Z"
    },
    "papermill": {
     "duration": 1.894528,
     "end_time": "2025-08-19T18:37:39.388689",
     "exception": false,
     "start_time": "2025-08-19T18:37:37.494161",
     "status": "completed"
    },
    "tags": []
   },
   "outputs": [],
   "source": [
    "probs_calib = model.predict_proba(X_calib)"
   ]
  },
  {
   "cell_type": "code",
   "execution_count": 39,
   "id": "a792d4dd",
   "metadata": {
    "execution": {
     "iopub.execute_input": "2025-08-19T18:37:39.415375Z",
     "iopub.status.busy": "2025-08-19T18:37:39.413931Z",
     "iopub.status.idle": "2025-08-19T18:37:39.425592Z",
     "shell.execute_reply": "2025-08-19T18:37:39.424655Z"
    },
    "papermill": {
     "duration": 0.026465,
     "end_time": "2025-08-19T18:37:39.427090",
     "exception": false,
     "start_time": "2025-08-19T18:37:39.400625",
     "status": "completed"
    },
    "tags": []
   },
   "outputs": [],
   "source": [
    "y_calib = y_calib.values.ravel().astype(int)"
   ]
  },
  {
   "cell_type": "code",
   "execution_count": 40,
   "id": "650fd033",
   "metadata": {
    "execution": {
     "iopub.execute_input": "2025-08-19T18:37:39.455624Z",
     "iopub.status.busy": "2025-08-19T18:37:39.454366Z",
     "iopub.status.idle": "2025-08-19T18:37:39.468280Z",
     "shell.execute_reply": "2025-08-19T18:37:39.467368Z"
    },
    "papermill": {
     "duration": 0.028801,
     "end_time": "2025-08-19T18:37:39.469651",
     "exception": false,
     "start_time": "2025-08-19T18:37:39.440850",
     "status": "completed"
    },
    "tags": []
   },
   "outputs": [],
   "source": [
    "from fairness_multiverse.conformal import compute_nc_scores\n",
    "\n",
    "# Compute nonconformity scores on calibration set (1 - probability of true class)\n",
    "nc_scores = compute_nc_scores(probs_calib, y_calib)"
   ]
  },
  {
   "cell_type": "code",
   "execution_count": 41,
   "id": "28ada44c",
   "metadata": {
    "execution": {
     "iopub.execute_input": "2025-08-19T18:37:39.520757Z",
     "iopub.status.busy": "2025-08-19T18:37:39.520181Z",
     "iopub.status.idle": "2025-08-19T18:37:39.526857Z",
     "shell.execute_reply": "2025-08-19T18:37:39.526154Z"
    },
    "papermill": {
     "duration": 0.046277,
     "end_time": "2025-08-19T18:37:39.530776",
     "exception": false,
     "start_time": "2025-08-19T18:37:39.484499",
     "status": "completed"
    },
    "tags": []
   },
   "outputs": [],
   "source": [
    "from fairness_multiverse.conformal import find_threshold\n",
    "\n",
    "# Find conformal threshold q_hat for the given alpha (split conformal method)\n",
    "q_hat = find_threshold(nc_scores, alpha)"
   ]
  },
  {
   "cell_type": "code",
   "execution_count": 42,
   "id": "df56469e",
   "metadata": {
    "execution": {
     "iopub.execute_input": "2025-08-19T18:37:39.592543Z",
     "iopub.status.busy": "2025-08-19T18:37:39.591986Z",
     "iopub.status.idle": "2025-08-19T18:37:39.598831Z",
     "shell.execute_reply": "2025-08-19T18:37:39.598105Z"
    },
    "papermill": {
     "duration": 0.037462,
     "end_time": "2025-08-19T18:37:39.600285",
     "exception": false,
     "start_time": "2025-08-19T18:37:39.562823",
     "status": "completed"
    },
    "tags": []
   },
   "outputs": [
    {
     "data": {
      "text/plain": [
       "0.6799999999999999"
      ]
     },
     "execution_count": 42,
     "metadata": {},
     "output_type": "execute_result"
    }
   ],
   "source": [
    "q_hat"
   ]
  },
  {
   "cell_type": "code",
   "execution_count": 43,
   "id": "aa1f5faa",
   "metadata": {
    "execution": {
     "iopub.execute_input": "2025-08-19T18:37:39.625493Z",
     "iopub.status.busy": "2025-08-19T18:37:39.625101Z",
     "iopub.status.idle": "2025-08-19T18:37:41.934036Z",
     "shell.execute_reply": "2025-08-19T18:37:41.933222Z"
    },
    "papermill": {
     "duration": 2.323718,
     "end_time": "2025-08-19T18:37:41.936312",
     "exception": false,
     "start_time": "2025-08-19T18:37:39.612594",
     "status": "completed"
    },
    "tags": []
   },
   "outputs": [],
   "source": [
    "from fairness_multiverse.conformal import predict_conformal_sets\n",
    "\n",
    "# Generate prediction sets for each test example\n",
    "pred_sets = predict_conformal_sets(model, X_test, q_hat)"
   ]
  },
  {
   "cell_type": "code",
   "execution_count": 44,
   "id": "97f67a6b",
   "metadata": {
    "execution": {
     "iopub.execute_input": "2025-08-19T18:37:41.984711Z",
     "iopub.status.busy": "2025-08-19T18:37:41.983991Z",
     "iopub.status.idle": "2025-08-19T18:37:41.991161Z",
     "shell.execute_reply": "2025-08-19T18:37:41.989846Z"
    },
    "papermill": {
     "duration": 0.026388,
     "end_time": "2025-08-19T18:37:41.992645",
     "exception": false,
     "start_time": "2025-08-19T18:37:41.966257",
     "status": "completed"
    },
    "tags": []
   },
   "outputs": [],
   "source": [
    "y_true = y_true.squeeze()"
   ]
  },
  {
   "cell_type": "code",
   "execution_count": 45,
   "id": "e700e9a7",
   "metadata": {
    "execution": {
     "iopub.execute_input": "2025-08-19T18:37:42.022800Z",
     "iopub.status.busy": "2025-08-19T18:37:42.022374Z",
     "iopub.status.idle": "2025-08-19T18:37:42.548929Z",
     "shell.execute_reply": "2025-08-19T18:37:42.548162Z"
    },
    "papermill": {
     "duration": 0.544719,
     "end_time": "2025-08-19T18:37:42.550631",
     "exception": false,
     "start_time": "2025-08-19T18:37:42.005912",
     "status": "completed"
    },
    "tags": []
   },
   "outputs": [],
   "source": [
    "from fairness_multiverse.conformal import evaluate_sets\n",
    "\n",
    "# Evaluate coverage and average set size on test data\n",
    "metrics = evaluate_sets(pred_sets, y_true)"
   ]
  },
  {
   "cell_type": "markdown",
   "id": "efbacec0",
   "metadata": {
    "papermill": {
     "duration": 0.011568,
     "end_time": "2025-08-19T18:37:42.574762",
     "exception": false,
     "start_time": "2025-08-19T18:37:42.563194",
     "status": "completed"
    },
    "tags": []
   },
   "source": [
    "# CP Metrics"
   ]
  },
  {
   "cell_type": "code",
   "execution_count": 46,
   "id": "9de55fb1",
   "metadata": {
    "execution": {
     "iopub.execute_input": "2025-08-19T18:37:42.601037Z",
     "iopub.status.busy": "2025-08-19T18:37:42.599807Z",
     "iopub.status.idle": "2025-08-19T18:37:42.610313Z",
     "shell.execute_reply": "2025-08-19T18:37:42.608989Z"
    },
    "papermill": {
     "duration": 0.025878,
     "end_time": "2025-08-19T18:37:42.612093",
     "exception": false,
     "start_time": "2025-08-19T18:37:42.586215",
     "status": "completed"
    },
    "tags": []
   },
   "outputs": [
    {
     "data": {
      "text/plain": [
       "{'coverage': 0.9138891985285922, 'avg_size': 1.146137554341768}"
      ]
     },
     "execution_count": 46,
     "metadata": {},
     "output_type": "execute_result"
    }
   ],
   "source": [
    "metrics"
   ]
  },
  {
   "cell_type": "code",
   "execution_count": 47,
   "id": "64c340a1",
   "metadata": {
    "execution": {
     "iopub.execute_input": "2025-08-19T18:37:42.640252Z",
     "iopub.status.busy": "2025-08-19T18:37:42.639122Z",
     "iopub.status.idle": "2025-08-19T18:37:42.649895Z",
     "shell.execute_reply": "2025-08-19T18:37:42.648493Z"
    },
    "papermill": {
     "duration": 0.02623,
     "end_time": "2025-08-19T18:37:42.651737",
     "exception": false,
     "start_time": "2025-08-19T18:37:42.625507",
     "status": "completed"
    },
    "tags": []
   },
   "outputs": [],
   "source": [
    "example_universe = universe.copy()\n",
    "universe_training_year = example_universe.get(\"training_year\")\n",
    "universe_training_size = example_universe.get(\"training_size\")\n",
    "universe_scale = example_universe.get(\"scale\")\n",
    "universe_model = example_universe.get(\"model\")\n",
    "universe_exclude_features = example_universe.get(\"exclude_features\")\n",
    "universe_exclude_subgroups = example_universe.get(\"exclude_subgroups\")"
   ]
  },
  {
   "cell_type": "code",
   "execution_count": 48,
   "id": "dbb53cb4",
   "metadata": {
    "execution": {
     "iopub.execute_input": "2025-08-19T18:37:42.681311Z",
     "iopub.status.busy": "2025-08-19T18:37:42.680201Z",
     "iopub.status.idle": "2025-08-19T18:37:42.690051Z",
     "shell.execute_reply": "2025-08-19T18:37:42.688822Z"
    },
    "papermill": {
     "duration": 0.02529,
     "end_time": "2025-08-19T18:37:42.692147",
     "exception": false,
     "start_time": "2025-08-19T18:37:42.666857",
     "status": "completed"
    },
    "tags": []
   },
   "outputs": [],
   "source": [
    "cp_metrics_dict = {\n",
    "    \"universe_id\": [universe_id],\n",
    "    \"universe_training_year\": [universe_training_year],\n",
    "    \"universe_training_size\": [universe_training_size],\n",
    "    \"universe_scale\": [universe_scale],\n",
    "    \"universe_model\": [universe_model],\n",
    "    \"universe_exclude_features\": [universe_exclude_features],\n",
    "    \"universe_exclude_subgroups\": [universe_exclude_subgroups],\n",
    "    \"q_hat\": [q_hat],\n",
    "    \"coverage\": [metrics[\"coverage\"]],\n",
    "    \"avg_size\": [metrics[\"avg_size\"]],\n",
    "}"
   ]
  },
  {
   "cell_type": "code",
   "execution_count": 49,
   "id": "0d70d4b2",
   "metadata": {
    "execution": {
     "iopub.execute_input": "2025-08-19T18:37:42.724370Z",
     "iopub.status.busy": "2025-08-19T18:37:42.723254Z",
     "iopub.status.idle": "2025-08-19T18:37:42.732831Z",
     "shell.execute_reply": "2025-08-19T18:37:42.731462Z"
    },
    "papermill": {
     "duration": 0.024894,
     "end_time": "2025-08-19T18:37:42.734517",
     "exception": false,
     "start_time": "2025-08-19T18:37:42.709623",
     "status": "completed"
    },
    "tags": []
   },
   "outputs": [],
   "source": [
    "cp_metrics_df = pd.DataFrame(cp_metrics_dict)"
   ]
  },
  {
   "cell_type": "code",
   "execution_count": 50,
   "id": "b494403c",
   "metadata": {
    "execution": {
     "iopub.execute_input": "2025-08-19T18:37:42.775765Z",
     "iopub.status.busy": "2025-08-19T18:37:42.774822Z",
     "iopub.status.idle": "2025-08-19T18:37:42.790661Z",
     "shell.execute_reply": "2025-08-19T18:37:42.789646Z"
    },
    "papermill": {
     "duration": 0.05224,
     "end_time": "2025-08-19T18:37:42.800770",
     "exception": false,
     "start_time": "2025-08-19T18:37:42.748530",
     "status": "completed"
    },
    "tags": []
   },
   "outputs": [
    {
     "data": {
      "text/html": [
       "<div>\n",
       "<style scoped>\n",
       "    .dataframe tbody tr th:only-of-type {\n",
       "        vertical-align: middle;\n",
       "    }\n",
       "\n",
       "    .dataframe tbody tr th {\n",
       "        vertical-align: top;\n",
       "    }\n",
       "\n",
       "    .dataframe thead th {\n",
       "        text-align: right;\n",
       "    }\n",
       "</style>\n",
       "<table border=\"1\" class=\"dataframe\">\n",
       "  <thead>\n",
       "    <tr style=\"text-align: right;\">\n",
       "      <th></th>\n",
       "      <th>universe_id</th>\n",
       "      <th>universe_training_year</th>\n",
       "      <th>universe_training_size</th>\n",
       "      <th>universe_scale</th>\n",
       "      <th>universe_model</th>\n",
       "      <th>universe_exclude_features</th>\n",
       "      <th>universe_exclude_subgroups</th>\n",
       "      <th>q_hat</th>\n",
       "      <th>coverage</th>\n",
       "      <th>avg_size</th>\n",
       "    </tr>\n",
       "  </thead>\n",
       "  <tbody>\n",
       "    <tr>\n",
       "      <th>0</th>\n",
       "      <td>ee6dd5ece2d5a53f788682219a4a0a0b</td>\n",
       "      <td>2012_14</td>\n",
       "      <td>5k</td>\n",
       "      <td>do-not-scale</td>\n",
       "      <td>rf</td>\n",
       "      <td>age</td>\n",
       "      <td>keep-all</td>\n",
       "      <td>0.68</td>\n",
       "      <td>0.913889</td>\n",
       "      <td>1.146138</td>\n",
       "    </tr>\n",
       "  </tbody>\n",
       "</table>\n",
       "</div>"
      ],
      "text/plain": [
       "                        universe_id universe_training_year  \\\n",
       "0  ee6dd5ece2d5a53f788682219a4a0a0b                2012_14   \n",
       "\n",
       "  universe_training_size universe_scale universe_model  \\\n",
       "0                     5k   do-not-scale             rf   \n",
       "\n",
       "  universe_exclude_features universe_exclude_subgroups  q_hat  coverage  \\\n",
       "0                       age                   keep-all   0.68  0.913889   \n",
       "\n",
       "   avg_size  \n",
       "0  1.146138  "
      ]
     },
     "execution_count": 50,
     "metadata": {},
     "output_type": "execute_result"
    }
   ],
   "source": [
    "cp_metrics_df"
   ]
  },
  {
   "cell_type": "markdown",
   "id": "ed608b0b",
   "metadata": {
    "papermill": {
     "duration": 0.016004,
     "end_time": "2025-08-19T18:37:42.846747",
     "exception": false,
     "start_time": "2025-08-19T18:37:42.830743",
     "status": "completed"
    },
    "tags": []
   },
   "source": [
    "Conditional coverage & looking at subgroups"
   ]
  },
  {
   "cell_type": "code",
   "execution_count": 51,
   "id": "8968c366",
   "metadata": {
    "execution": {
     "iopub.execute_input": "2025-08-19T18:37:42.880513Z",
     "iopub.status.busy": "2025-08-19T18:37:42.878877Z",
     "iopub.status.idle": "2025-08-19T18:37:43.134347Z",
     "shell.execute_reply": "2025-08-19T18:37:43.133569Z"
    },
    "papermill": {
     "duration": 0.272651,
     "end_time": "2025-08-19T18:37:43.137221",
     "exception": false,
     "start_time": "2025-08-19T18:37:42.864570",
     "status": "completed"
    },
    "tags": []
   },
   "outputs": [],
   "source": [
    "from fairness_multiverse.conformal import build_cp_groups\n",
    "\n",
    "cp_groups_df = build_cp_groups(pred_sets, y_true, X_test.index, org_test)"
   ]
  },
  {
   "cell_type": "code",
   "execution_count": 52,
   "id": "292ddabf",
   "metadata": {
    "execution": {
     "iopub.execute_input": "2025-08-19T18:37:43.179477Z",
     "iopub.status.busy": "2025-08-19T18:37:43.178161Z",
     "iopub.status.idle": "2025-08-19T18:37:44.040730Z",
     "shell.execute_reply": "2025-08-19T18:37:44.039623Z"
    },
    "papermill": {
     "duration": 0.880884,
     "end_time": "2025-08-19T18:37:44.044048",
     "exception": false,
     "start_time": "2025-08-19T18:37:43.163164",
     "status": "completed"
    },
    "tags": []
   },
   "outputs": [],
   "source": [
    "# Define covered = 1 if true_label is in the predicted set\n",
    "cp_groups_df['covered'] = cp_groups_df.apply(\n",
    "    lambda r: int(r['true_label'] in r['pred_set']),\n",
    "    axis=1\n",
    ")"
   ]
  },
  {
   "cell_type": "code",
   "execution_count": 53,
   "id": "3a261692",
   "metadata": {
    "execution": {
     "iopub.execute_input": "2025-08-19T18:37:44.109041Z",
     "iopub.status.busy": "2025-08-19T18:37:44.107162Z",
     "iopub.status.idle": "2025-08-19T18:37:44.128317Z",
     "shell.execute_reply": "2025-08-19T18:37:44.127239Z"
    },
    "papermill": {
     "duration": 0.043661,
     "end_time": "2025-08-19T18:37:44.129771",
     "exception": false,
     "start_time": "2025-08-19T18:37:44.086110",
     "status": "completed"
    },
    "tags": []
   },
   "outputs": [],
   "source": [
    "subgroups = ['frau1','nongerman','nongerman_male','nongerman_female']\n",
    "\n",
    "# Conditional coverage for subgroup==1\n",
    "cond_coverage = {\n",
    "    g: cp_groups_df.loc[cp_groups_df[g]==1, 'covered'].mean()\n",
    "    for g in subgroups\n",
    "}"
   ]
  },
  {
   "cell_type": "code",
   "execution_count": 54,
   "id": "894fd600",
   "metadata": {
    "execution": {
     "iopub.execute_input": "2025-08-19T18:37:44.158333Z",
     "iopub.status.busy": "2025-08-19T18:37:44.156545Z",
     "iopub.status.idle": "2025-08-19T18:37:44.167470Z",
     "shell.execute_reply": "2025-08-19T18:37:44.166284Z"
    },
    "papermill": {
     "duration": 0.02679,
     "end_time": "2025-08-19T18:37:44.169512",
     "exception": false,
     "start_time": "2025-08-19T18:37:44.142722",
     "status": "completed"
    },
    "tags": []
   },
   "outputs": [
    {
     "data": {
      "text/plain": [
       "{'frau1': 0.9092060924652918,\n",
       " 'nongerman': 0.9108516252175377,\n",
       " 'nongerman_male': 0.9244348374313248,\n",
       " 'nongerman_female': 0.8883755588673622}"
      ]
     },
     "execution_count": 54,
     "metadata": {},
     "output_type": "execute_result"
    }
   ],
   "source": [
    "cond_coverage"
   ]
  },
  {
   "cell_type": "code",
   "execution_count": 55,
   "id": "942895c7",
   "metadata": {
    "execution": {
     "iopub.execute_input": "2025-08-19T18:37:44.201620Z",
     "iopub.status.busy": "2025-08-19T18:37:44.200961Z",
     "iopub.status.idle": "2025-08-19T18:37:44.212553Z",
     "shell.execute_reply": "2025-08-19T18:37:44.211324Z"
    },
    "papermill": {
     "duration": 0.028671,
     "end_time": "2025-08-19T18:37:44.214774",
     "exception": false,
     "start_time": "2025-08-19T18:37:44.186103",
     "status": "completed"
    },
    "tags": []
   },
   "outputs": [],
   "source": [
    "for subgroup, cov in cond_coverage.items():\n",
    "    cp_metrics_df[f\"cov_{subgroup}\"] = cov"
   ]
  },
  {
   "cell_type": "code",
   "execution_count": 56,
   "id": "3970120f",
   "metadata": {
    "execution": {
     "iopub.execute_input": "2025-08-19T18:37:44.246834Z",
     "iopub.status.busy": "2025-08-19T18:37:44.246161Z",
     "iopub.status.idle": "2025-08-19T18:37:44.273437Z",
     "shell.execute_reply": "2025-08-19T18:37:44.272460Z"
    },
    "papermill": {
     "duration": 0.043244,
     "end_time": "2025-08-19T18:37:44.275551",
     "exception": false,
     "start_time": "2025-08-19T18:37:44.232307",
     "status": "completed"
    },
    "tags": []
   },
   "outputs": [
    {
     "data": {
      "text/html": [
       "<div>\n",
       "<style scoped>\n",
       "    .dataframe tbody tr th:only-of-type {\n",
       "        vertical-align: middle;\n",
       "    }\n",
       "\n",
       "    .dataframe tbody tr th {\n",
       "        vertical-align: top;\n",
       "    }\n",
       "\n",
       "    .dataframe thead th {\n",
       "        text-align: right;\n",
       "    }\n",
       "</style>\n",
       "<table border=\"1\" class=\"dataframe\">\n",
       "  <thead>\n",
       "    <tr style=\"text-align: right;\">\n",
       "      <th></th>\n",
       "      <th>universe_id</th>\n",
       "      <th>universe_training_year</th>\n",
       "      <th>universe_training_size</th>\n",
       "      <th>universe_scale</th>\n",
       "      <th>universe_model</th>\n",
       "      <th>universe_exclude_features</th>\n",
       "      <th>universe_exclude_subgroups</th>\n",
       "      <th>q_hat</th>\n",
       "      <th>coverage</th>\n",
       "      <th>avg_size</th>\n",
       "      <th>cov_frau1</th>\n",
       "      <th>cov_nongerman</th>\n",
       "      <th>cov_nongerman_male</th>\n",
       "      <th>cov_nongerman_female</th>\n",
       "    </tr>\n",
       "  </thead>\n",
       "  <tbody>\n",
       "    <tr>\n",
       "      <th>0</th>\n",
       "      <td>ee6dd5ece2d5a53f788682219a4a0a0b</td>\n",
       "      <td>2012_14</td>\n",
       "      <td>5k</td>\n",
       "      <td>do-not-scale</td>\n",
       "      <td>rf</td>\n",
       "      <td>age</td>\n",
       "      <td>keep-all</td>\n",
       "      <td>0.68</td>\n",
       "      <td>0.913889</td>\n",
       "      <td>1.146138</td>\n",
       "      <td>0.909206</td>\n",
       "      <td>0.910852</td>\n",
       "      <td>0.924435</td>\n",
       "      <td>0.888376</td>\n",
       "    </tr>\n",
       "  </tbody>\n",
       "</table>\n",
       "</div>"
      ],
      "text/plain": [
       "                        universe_id universe_training_year  \\\n",
       "0  ee6dd5ece2d5a53f788682219a4a0a0b                2012_14   \n",
       "\n",
       "  universe_training_size universe_scale universe_model  \\\n",
       "0                     5k   do-not-scale             rf   \n",
       "\n",
       "  universe_exclude_features universe_exclude_subgroups  q_hat  coverage  \\\n",
       "0                       age                   keep-all   0.68  0.913889   \n",
       "\n",
       "   avg_size  cov_frau1  cov_nongerman  cov_nongerman_male  \\\n",
       "0  1.146138   0.909206       0.910852            0.924435   \n",
       "\n",
       "   cov_nongerman_female  \n",
       "0              0.888376  "
      ]
     },
     "execution_count": 56,
     "metadata": {},
     "output_type": "execute_result"
    }
   ],
   "source": [
    "cp_metrics_df"
   ]
  },
  {
   "cell_type": "markdown",
   "id": "3fc519cc",
   "metadata": {
    "papermill": {
     "duration": 0.047313,
     "end_time": "2025-08-19T18:37:44.343873",
     "exception": false,
     "start_time": "2025-08-19T18:37:44.296560",
     "status": "completed"
    },
    "tags": []
   },
   "source": [
    "# (Fairness) Metrics"
   ]
  },
  {
   "cell_type": "code",
   "execution_count": 57,
   "id": "a2e5e155",
   "metadata": {
    "execution": {
     "iopub.execute_input": "2025-08-19T18:37:44.377025Z",
     "iopub.status.busy": "2025-08-19T18:37:44.375780Z",
     "iopub.status.idle": "2025-08-19T18:37:44.401691Z",
     "shell.execute_reply": "2025-08-19T18:37:44.400555Z"
    },
    "papermill": {
     "duration": 0.045346,
     "end_time": "2025-08-19T18:37:44.404545",
     "exception": false,
     "start_time": "2025-08-19T18:37:44.359199",
     "status": "completed"
    },
    "tags": []
   },
   "outputs": [],
   "source": [
    "colname_to_bin = \"maxdeutsch1\"\n",
    "majority_value = org_train[colname_to_bin].mode()[0]\n",
    "\n",
    "org_test[\"majmin\"] = np.where(org_test[colname_to_bin] == majority_value, \"majority\", \"minority\")"
   ]
  },
  {
   "cell_type": "code",
   "execution_count": 58,
   "id": "17e3e4d5",
   "metadata": {
    "execution": {
     "iopub.execute_input": "2025-08-19T18:37:44.442850Z",
     "iopub.status.busy": "2025-08-19T18:37:44.441365Z",
     "iopub.status.idle": "2025-08-19T18:37:46.212437Z",
     "shell.execute_reply": "2025-08-19T18:37:46.211236Z"
    },
    "papermill": {
     "duration": 1.787581,
     "end_time": "2025-08-19T18:37:46.214155",
     "exception": false,
     "start_time": "2025-08-19T18:37:44.426574",
     "status": "completed"
    },
    "tags": []
   },
   "outputs": [],
   "source": [
    "example_universe = universe.copy()\n",
    "example_universe[\"cutoff\"] = example_universe[\"cutoff\"][0]\n",
    "example_universe[\"eval_fairness_grouping\"] = example_universe[\"eval_fairness_grouping\"][0]\n",
    "fairness_dict, metric_frame = universe_analysis.compute_metrics(\n",
    "    example_universe,\n",
    "    y_pred_prob=probs_test,\n",
    "    y_test=y_true,\n",
    "    org_test=org_test,\n",
    ")"
   ]
  },
  {
   "cell_type": "markdown",
   "id": "1fb7a0e9",
   "metadata": {
    "papermill": {
     "duration": 0.015549,
     "end_time": "2025-08-19T18:37:46.251272",
     "exception": false,
     "start_time": "2025-08-19T18:37:46.235723",
     "status": "completed"
    },
    "tags": []
   },
   "source": [
    "# Overall"
   ]
  },
  {
   "cell_type": "markdown",
   "id": "be1784b1",
   "metadata": {
    "papermill": {
     "duration": 0.012381,
     "end_time": "2025-08-19T18:37:46.275884",
     "exception": false,
     "start_time": "2025-08-19T18:37:46.263503",
     "status": "completed"
    },
    "tags": []
   },
   "source": [
    "Main fairness target: Equalized Odds. Seems to be a better fit than equal opportunity, since we're not only interested in Y = 1. Seems to be a better fit than demographic parity, since we also care about accuracy, not just equal distribution of preds.\n",
    "\n",
    "Pick column for computation of fairness metrics\n",
    "\n",
    "Performance\n",
    "Overall performance measures, most interesting in relation to the measures split by group below"
   ]
  },
  {
   "cell_type": "code",
   "execution_count": 59,
   "id": "b7672bee",
   "metadata": {
    "execution": {
     "iopub.execute_input": "2025-08-19T18:37:46.312825Z",
     "iopub.status.busy": "2025-08-19T18:37:46.310595Z",
     "iopub.status.idle": "2025-08-19T18:37:46.336703Z",
     "shell.execute_reply": "2025-08-19T18:37:46.331431Z"
    },
    "papermill": {
     "duration": 0.047949,
     "end_time": "2025-08-19T18:37:46.338708",
     "exception": false,
     "start_time": "2025-08-19T18:37:46.290759",
     "status": "completed"
    },
    "tags": []
   },
   "outputs": [
    {
     "data": {
      "text/plain": [
       "accuracy                   0.207312\n",
       "balanced accuracy          0.535215\n",
       "f1                         0.240110\n",
       "precision                  0.136889\n",
       "false positive rate        0.905846\n",
       "false negative rate        0.023723\n",
       "selection rate             0.914881\n",
       "count                  89710.000000\n",
       "dtype: float64"
      ]
     },
     "execution_count": 59,
     "metadata": {},
     "output_type": "execute_result"
    }
   ],
   "source": [
    "metric_frame.overall"
   ]
  },
  {
   "cell_type": "markdown",
   "id": "d93333c9",
   "metadata": {
    "papermill": {
     "duration": 0.013541,
     "end_time": "2025-08-19T18:37:46.370966",
     "exception": false,
     "start_time": "2025-08-19T18:37:46.357425",
     "status": "completed"
    },
    "tags": []
   },
   "source": [
    "By Group"
   ]
  },
  {
   "cell_type": "code",
   "execution_count": 60,
   "id": "52256966",
   "metadata": {
    "execution": {
     "iopub.execute_input": "2025-08-19T18:37:46.399599Z",
     "iopub.status.busy": "2025-08-19T18:37:46.399047Z",
     "iopub.status.idle": "2025-08-19T18:37:46.415947Z",
     "shell.execute_reply": "2025-08-19T18:37:46.414796Z"
    },
    "papermill": {
     "duration": 0.033415,
     "end_time": "2025-08-19T18:37:46.417627",
     "exception": false,
     "start_time": "2025-08-19T18:37:46.384212",
     "status": "completed"
    },
    "tags": []
   },
   "outputs": [
    {
     "data": {
      "text/html": [
       "<div>\n",
       "<style scoped>\n",
       "    .dataframe tbody tr th:only-of-type {\n",
       "        vertical-align: middle;\n",
       "    }\n",
       "\n",
       "    .dataframe tbody tr th {\n",
       "        vertical-align: top;\n",
       "    }\n",
       "\n",
       "    .dataframe thead th {\n",
       "        text-align: right;\n",
       "    }\n",
       "</style>\n",
       "<table border=\"1\" class=\"dataframe\">\n",
       "  <thead>\n",
       "    <tr style=\"text-align: right;\">\n",
       "      <th></th>\n",
       "      <th>accuracy</th>\n",
       "      <th>balanced accuracy</th>\n",
       "      <th>f1</th>\n",
       "      <th>precision</th>\n",
       "      <th>false positive rate</th>\n",
       "      <th>false negative rate</th>\n",
       "      <th>selection rate</th>\n",
       "      <th>count</th>\n",
       "    </tr>\n",
       "    <tr>\n",
       "      <th>majmin</th>\n",
       "      <th></th>\n",
       "      <th></th>\n",
       "      <th></th>\n",
       "      <th></th>\n",
       "      <th></th>\n",
       "      <th></th>\n",
       "      <th></th>\n",
       "      <th></th>\n",
       "    </tr>\n",
       "  </thead>\n",
       "  <tbody>\n",
       "    <tr>\n",
       "      <th>majority</th>\n",
       "      <td>0.196906</td>\n",
       "      <td>0.532260</td>\n",
       "      <td>0.245368</td>\n",
       "      <td>0.140076</td>\n",
       "      <td>0.923555</td>\n",
       "      <td>0.011926</td>\n",
       "      <td>0.932080</td>\n",
       "      <td>69170.0</td>\n",
       "    </tr>\n",
       "    <tr>\n",
       "      <th>minority</th>\n",
       "      <td>0.242356</td>\n",
       "      <td>0.541698</td>\n",
       "      <td>0.220731</td>\n",
       "      <td>0.125213</td>\n",
       "      <td>0.847348</td>\n",
       "      <td>0.069257</td>\n",
       "      <td>0.856962</td>\n",
       "      <td>20540.0</td>\n",
       "    </tr>\n",
       "  </tbody>\n",
       "</table>\n",
       "</div>"
      ],
      "text/plain": [
       "          accuracy  balanced accuracy        f1  precision  \\\n",
       "majmin                                                       \n",
       "majority  0.196906           0.532260  0.245368   0.140076   \n",
       "minority  0.242356           0.541698  0.220731   0.125213   \n",
       "\n",
       "          false positive rate  false negative rate  selection rate    count  \n",
       "majmin                                                                       \n",
       "majority             0.923555             0.011926        0.932080  69170.0  \n",
       "minority             0.847348             0.069257        0.856962  20540.0  "
      ]
     },
     "execution_count": 60,
     "metadata": {},
     "output_type": "execute_result"
    }
   ],
   "source": [
    "metric_frame.by_group"
   ]
  },
  {
   "cell_type": "code",
   "execution_count": 61,
   "id": "6e6c20ae",
   "metadata": {
    "execution": {
     "iopub.execute_input": "2025-08-19T18:37:46.454105Z",
     "iopub.status.busy": "2025-08-19T18:37:46.453399Z",
     "iopub.status.idle": "2025-08-19T18:37:48.952115Z",
     "shell.execute_reply": "2025-08-19T18:37:48.950855Z"
    },
    "papermill": {
     "duration": 2.519568,
     "end_time": "2025-08-19T18:37:48.954115",
     "exception": false,
     "start_time": "2025-08-19T18:37:46.434547",
     "status": "completed"
    },
    "tags": []
   },
   "outputs": [
    {
     "data": {
      "text/plain": [
       "array([[<Axes: title={'center': 'accuracy'}, xlabel='majmin'>,\n",
       "        <Axes: title={'center': 'balanced accuracy'}, xlabel='majmin'>,\n",
       "        <Axes: title={'center': 'f1'}, xlabel='majmin'>],\n",
       "       [<Axes: title={'center': 'precision'}, xlabel='majmin'>,\n",
       "        <Axes: title={'center': 'false positive rate'}, xlabel='majmin'>,\n",
       "        <Axes: title={'center': 'false negative rate'}, xlabel='majmin'>],\n",
       "       [<Axes: title={'center': 'selection rate'}, xlabel='majmin'>,\n",
       "        <Axes: title={'center': 'count'}, xlabel='majmin'>,\n",
       "        <Axes: xlabel='majmin'>]], dtype=object)"
      ]
     },
     "execution_count": 61,
     "metadata": {},
     "output_type": "execute_result"
    },
    {
     "data": {
      "image/png": "[encoded data removed]",
      "text/plain": [
       "<Figure size 1200x800 with 9 Axes>"
      ]
     },
     "metadata": {},
     "output_type": "display_data"
    }
   ],
   "source": [
    "# In a graphic\n",
    "metric_frame.by_group.plot.bar(\n",
    "    subplots=True,\n",
    "    layout=[3, 3],\n",
    "    legend=False,\n",
    "    figsize=[12, 8],\n",
    "    title=\"Show all metrics\",\n",
    ")"
   ]
  },
  {
   "cell_type": "markdown",
   "id": "b2e433ae",
   "metadata": {
    "papermill": {
     "duration": 0.040924,
     "end_time": "2025-08-19T18:37:49.012935",
     "exception": false,
     "start_time": "2025-08-19T18:37:48.972011",
     "status": "completed"
    },
    "tags": []
   },
   "source": [
    "# Final Output"
   ]
  },
  {
   "cell_type": "code",
   "execution_count": 62,
   "id": "3871301e",
   "metadata": {
    "execution": {
     "iopub.execute_input": "2025-08-19T18:37:49.071774Z",
     "iopub.status.busy": "2025-08-19T18:37:49.070737Z",
     "iopub.status.idle": "2025-08-19T18:37:49.081104Z",
     "shell.execute_reply": "2025-08-19T18:37:49.080391Z"
    },
    "papermill": {
     "duration": 0.041182,
     "end_time": "2025-08-19T18:37:49.082261",
     "exception": false,
     "start_time": "2025-08-19T18:37:49.041079",
     "status": "completed"
    },
    "tags": []
   },
   "outputs": [
    {
     "data": {
      "text/plain": [
       "4"
      ]
     },
     "execution_count": 62,
     "metadata": {},
     "output_type": "execute_result"
    }
   ],
   "source": [
    "sub_universes = universe_analysis.generate_sub_universes()\n",
    "len(sub_universes)"
   ]
  },
  {
   "cell_type": "code",
   "execution_count": 63,
   "id": "d9cfdaca",
   "metadata": {
    "execution": {
     "iopub.execute_input": "2025-08-19T18:37:49.122071Z",
     "iopub.status.busy": "2025-08-19T18:37:49.121598Z",
     "iopub.status.idle": "2025-08-19T18:37:49.140427Z",
     "shell.execute_reply": "2025-08-19T18:37:49.139611Z"
    },
    "papermill": {
     "duration": 0.037992,
     "end_time": "2025-08-19T18:37:49.141833",
     "exception": false,
     "start_time": "2025-08-19T18:37:49.103841",
     "status": "completed"
    },
    "tags": []
   },
   "outputs": [],
   "source": [
    "def filter_sub_universe_data(sub_universe, org_test):\n",
    "    # Keep all rows — no filtering\n",
    "    keep_rows_mask = np.ones(org_test.shape[0], dtype=bool)\n",
    "\n",
    "    print(f\"[INFO] Keeping all rows: {keep_rows_mask.sum()} rows retained.\")\n",
    "    return keep_rows_mask"
   ]
  },
  {
   "cell_type": "code",
   "execution_count": 64,
   "id": "2bc31ac1",
   "metadata": {
    "execution": {
     "iopub.execute_input": "2025-08-19T18:37:49.234446Z",
     "iopub.status.busy": "2025-08-19T18:37:49.233962Z",
     "iopub.status.idle": "2025-08-19T18:37:59.010192Z",
     "shell.execute_reply": "2025-08-19T18:37:59.009247Z"
    },
    "papermill": {
     "duration": 9.826988,
     "end_time": "2025-08-19T18:37:59.011578",
     "exception": false,
     "start_time": "2025-08-19T18:37:49.184590",
     "status": "completed"
    },
    "tags": []
   },
   "outputs": [
    {
     "name": "stdout",
     "output_type": "stream",
     "text": [
      "Stopping execution_time clock.\n",
      "[INFO] Keeping all rows: 89710 rows retained.\n"
     ]
    },
    {
     "name": "stdout",
     "output_type": "stream",
     "text": [
      "[INFO] Keeping all rows: 89710 rows retained.\n"
     ]
    },
    {
     "name": "stdout",
     "output_type": "stream",
     "text": [
      "[INFO] Keeping all rows: 89710 rows retained.\n"
     ]
    },
    {
     "name": "stdout",
     "output_type": "stream",
     "text": [
      "[INFO] Keeping all rows: 89710 rows retained.\n"
     ]
    },
    {
     "data": {
      "text/html": [
       "<div>\n",
       "<style scoped>\n",
       "    .dataframe tbody tr th:only-of-type {\n",
       "        vertical-align: middle;\n",
       "    }\n",
       "\n",
       "    .dataframe tbody tr th {\n",
       "        vertical-align: top;\n",
       "    }\n",
       "\n",
       "    .dataframe thead th {\n",
       "        text-align: right;\n",
       "    }\n",
       "</style>\n",
       "<table border=\"1\" class=\"dataframe\">\n",
       "  <thead>\n",
       "    <tr style=\"text-align: right;\">\n",
       "      <th></th>\n",
       "      <th>run_no</th>\n",
       "      <th>universe_id</th>\n",
       "      <th>universe_settings</th>\n",
       "      <th>execution_time</th>\n",
       "      <th>test_size_n</th>\n",
       "      <th>test_size_frac</th>\n",
       "      <th>fair_main_equalized_odds_difference</th>\n",
       "      <th>fair_main_equalized_odds_ratio</th>\n",
       "      <th>fair_main_demographic_parity_difference</th>\n",
       "      <th>fair_main_demographic_parity_ratio</th>\n",
       "      <th>...</th>\n",
       "      <th>perf_grp_precision_0</th>\n",
       "      <th>perf_grp_precision_1</th>\n",
       "      <th>perf_grp_false positive rate_0</th>\n",
       "      <th>perf_grp_false positive rate_1</th>\n",
       "      <th>perf_grp_false negative rate_0</th>\n",
       "      <th>perf_grp_false negative rate_1</th>\n",
       "      <th>perf_grp_selection rate_0</th>\n",
       "      <th>perf_grp_selection rate_1</th>\n",
       "      <th>perf_grp_count_0</th>\n",
       "      <th>perf_grp_count_1</th>\n",
       "    </tr>\n",
       "  </thead>\n",
       "  <tbody>\n",
       "    <tr>\n",
       "      <th>0</th>\n",
       "      <td>3</td>\n",
       "      <td>ee6dd5ece2d5a53f788682219a4a0a0b</td>\n",
       "      <td>{\"cutoff\": \"quantile_0.1\", \"eval_fairness_grou...</td>\n",
       "      <td>30.257639</td>\n",
       "      <td>89710</td>\n",
       "      <td>1.0</td>\n",
       "      <td>0.076207</td>\n",
       "      <td>0.917485</td>\n",
       "      <td>0.075118</td>\n",
       "      <td>0.919408</td>\n",
       "      <td>...</td>\n",
       "      <td>NaN</td>\n",
       "      <td>NaN</td>\n",
       "      <td>NaN</td>\n",
       "      <td>NaN</td>\n",
       "      <td>NaN</td>\n",
       "      <td>NaN</td>\n",
       "      <td>NaN</td>\n",
       "      <td>NaN</td>\n",
       "      <td>NaN</td>\n",
       "      <td>NaN</td>\n",
       "    </tr>\n",
       "    <tr>\n",
       "      <th>0</th>\n",
       "      <td>3</td>\n",
       "      <td>ee6dd5ece2d5a53f788682219a4a0a0b</td>\n",
       "      <td>{\"cutoff\": \"quantile_0.1\", \"eval_fairness_grou...</td>\n",
       "      <td>30.257639</td>\n",
       "      <td>89710</td>\n",
       "      <td>1.0</td>\n",
       "      <td>0.076207</td>\n",
       "      <td>0.917485</td>\n",
       "      <td>0.075118</td>\n",
       "      <td>0.919408</td>\n",
       "      <td>...</td>\n",
       "      <td>0.125213</td>\n",
       "      <td>0.140076</td>\n",
       "      <td>0.847348</td>\n",
       "      <td>0.923555</td>\n",
       "      <td>0.069257</td>\n",
       "      <td>0.011926</td>\n",
       "      <td>0.856962</td>\n",
       "      <td>0.932080</td>\n",
       "      <td>20540.0</td>\n",
       "      <td>69170.0</td>\n",
       "    </tr>\n",
       "    <tr>\n",
       "      <th>0</th>\n",
       "      <td>3</td>\n",
       "      <td>ee6dd5ece2d5a53f788682219a4a0a0b</td>\n",
       "      <td>{\"cutoff\": \"quantile_0.25\", \"eval_fairness_gro...</td>\n",
       "      <td>30.257639</td>\n",
       "      <td>89710</td>\n",
       "      <td>1.0</td>\n",
       "      <td>0.117919</td>\n",
       "      <td>0.875689</td>\n",
       "      <td>0.093671</td>\n",
       "      <td>0.878588</td>\n",
       "      <td>...</td>\n",
       "      <td>NaN</td>\n",
       "      <td>NaN</td>\n",
       "      <td>NaN</td>\n",
       "      <td>NaN</td>\n",
       "      <td>NaN</td>\n",
       "      <td>NaN</td>\n",
       "      <td>NaN</td>\n",
       "      <td>NaN</td>\n",
       "      <td>NaN</td>\n",
       "      <td>NaN</td>\n",
       "    </tr>\n",
       "    <tr>\n",
       "      <th>0</th>\n",
       "      <td>3</td>\n",
       "      <td>ee6dd5ece2d5a53f788682219a4a0a0b</td>\n",
       "      <td>{\"cutoff\": \"quantile_0.25\", \"eval_fairness_gro...</td>\n",
       "      <td>30.257639</td>\n",
       "      <td>89710</td>\n",
       "      <td>1.0</td>\n",
       "      <td>0.117919</td>\n",
       "      <td>0.875689</td>\n",
       "      <td>0.093671</td>\n",
       "      <td>0.878588</td>\n",
       "      <td>...</td>\n",
       "      <td>0.141277</td>\n",
       "      <td>0.162463</td>\n",
       "      <td>0.657935</td>\n",
       "      <td>0.744561</td>\n",
       "      <td>0.169341</td>\n",
       "      <td>0.051422</td>\n",
       "      <td>0.677848</td>\n",
       "      <td>0.771519</td>\n",
       "      <td>20540.0</td>\n",
       "      <td>69170.0</td>\n",
       "    </tr>\n",
       "  </tbody>\n",
       "</table>\n",
       "<p>4 rows × 50 columns</p>\n",
       "</div>"
      ],
      "text/plain": [
       "  run_no                       universe_id  \\\n",
       "0      3  ee6dd5ece2d5a53f788682219a4a0a0b   \n",
       "0      3  ee6dd5ece2d5a53f788682219a4a0a0b   \n",
       "0      3  ee6dd5ece2d5a53f788682219a4a0a0b   \n",
       "0      3  ee6dd5ece2d5a53f788682219a4a0a0b   \n",
       "\n",
       "                                   universe_settings  execution_time  \\\n",
       "0  {\"cutoff\": \"quantile_0.1\", \"eval_fairness_grou...       30.257639   \n",
       "0  {\"cutoff\": \"quantile_0.1\", \"eval_fairness_grou...       30.257639   \n",
       "0  {\"cutoff\": \"quantile_0.25\", \"eval_fairness_gro...       30.257639   \n",
       "0  {\"cutoff\": \"quantile_0.25\", \"eval_fairness_gro...       30.257639   \n",
       "\n",
       "   test_size_n  test_size_frac  fair_main_equalized_odds_difference  \\\n",
       "0        89710             1.0                             0.076207   \n",
       "0        89710             1.0                             0.076207   \n",
       "0        89710             1.0                             0.117919   \n",
       "0        89710             1.0                             0.117919   \n",
       "\n",
       "   fair_main_equalized_odds_ratio  fair_main_demographic_parity_difference  \\\n",
       "0                        0.917485                                 0.075118   \n",
       "0                        0.917485                                 0.075118   \n",
       "0                        0.875689                                 0.093671   \n",
       "0                        0.875689                                 0.093671   \n",
       "\n",
       "   fair_main_demographic_parity_ratio  ...  perf_grp_precision_0  \\\n",
       "0                            0.919408  ...                   NaN   \n",
       "0                            0.919408  ...              0.125213   \n",
       "0                            0.878588  ...                   NaN   \n",
       "0                            0.878588  ...              0.141277   \n",
       "\n",
       "   perf_grp_precision_1  perf_grp_false positive rate_0  \\\n",
       "0                   NaN                             NaN   \n",
       "0              0.140076                        0.847348   \n",
       "0                   NaN                             NaN   \n",
       "0              0.162463                        0.657935   \n",
       "\n",
       "   perf_grp_false positive rate_1  perf_grp_false negative rate_0  \\\n",
       "0                             NaN                             NaN   \n",
       "0                        0.923555                        0.069257   \n",
       "0                             NaN                             NaN   \n",
       "0                        0.744561                        0.169341   \n",
       "\n",
       "   perf_grp_false negative rate_1  perf_grp_selection rate_0  \\\n",
       "0                             NaN                        NaN   \n",
       "0                        0.011926                   0.856962   \n",
       "0                             NaN                        NaN   \n",
       "0                        0.051422                   0.677848   \n",
       "\n",
       "   perf_grp_selection rate_1  perf_grp_count_0  perf_grp_count_1  \n",
       "0                        NaN               NaN               NaN  \n",
       "0                   0.932080           20540.0           69170.0  \n",
       "0                        NaN               NaN               NaN  \n",
       "0                   0.771519           20540.0           69170.0  \n",
       "\n",
       "[4 rows x 50 columns]"
      ]
     },
     "execution_count": 64,
     "metadata": {},
     "output_type": "execute_result"
    }
   ],
   "source": [
    "final_output = universe_analysis.generate_final_output(\n",
    "    y_pred_prob=probs_test,\n",
    "    y_test=y_true,\n",
    "    org_test=org_test,\n",
    "    filter_data=filter_sub_universe_data,\n",
    "    cp_metrics_df=cp_metrics_df,\n",
    "    save=True,\n",
    ")\n",
    "final_output"
   ]
  },
  {
   "cell_type": "code",
   "execution_count": null,
   "id": "8b80a1ff",
   "metadata": {
    "papermill": {
     "duration": 0.031926,
     "end_time": "2025-08-19T18:37:59.088134",
     "exception": false,
     "start_time": "2025-08-19T18:37:59.056208",
     "status": "completed"
    },
    "tags": []
   },
   "outputs": [],
   "source": []
  },
  {
   "cell_type": "code",
   "execution_count": null,
   "id": "275c9fad",
   "metadata": {
    "papermill": {
     "duration": 0.029869,
     "end_time": "2025-08-19T18:37:59.149817",
     "exception": false,
     "start_time": "2025-08-19T18:37:59.119948",
     "status": "completed"
    },
    "tags": []
   },
   "outputs": [],
   "source": []
  }
 ],
 "metadata": {
  "celltoolbar": "Tags",
  "kernelspec": {
   "display_name": "Python (CMA Fairness)",
   "language": "python",
   "name": "cma_fair_env"
  },
  "language_info": {
   "codemirror_mode": {
    "name": "ipython",
    "version": 3
   },
   "file_extension": ".py",
   "mimetype": "text/x-python",
   "name": "python",
   "nbconvert_exporter": "python",
   "pygments_lexer": "ipython3",
   "version": "3.10.12"
  },
  "papermill": {
   "default_parameters": {},
   "duration": 44.358403,
   "end_time": "2025-08-19T18:38:00.488131",
   "environment_variables": {},
   "exception": null,
   "input_path": "universe_analysis.ipynb",
   "output_path": "output/runs/3/notebooks/m_3-ee6dd5ece2d5a53f788682219a4a0a0b.ipynb",
   "parameters": {
    "output_dir": "output",
    "run_no": "3",
    "seed": "2023",
    "universe": "{\"cutoff\": [\"quantile_0.1\", \"quantile_0.25\"], \"eval_fairness_grouping\": [\"majority-minority\", \"nationality-all\"], \"exclude_features\": \"age\", \"exclude_subgroups\": \"keep-all\", \"model\": \"rf\", \"scale\": \"do-not-scale\", \"training_size\": \"5k\", \"training_year\": \"2012_14\"}",
    "universe_id": "ee6dd5ece2d5a53f788682219a4a0a0b"
   },
   "start_time": "2025-08-19T18:37:16.129728",
   "version": "2.6.0"
  }
 },
 "nbformat": 4,
 "nbformat_minor": 5
}