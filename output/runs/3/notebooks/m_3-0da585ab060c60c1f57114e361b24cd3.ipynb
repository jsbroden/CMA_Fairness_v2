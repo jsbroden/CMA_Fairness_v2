{
 "cells": [
  {
   "cell_type": "markdown",
   "id": "ef23dbb3",
   "metadata": {
    "papermill": {
     "duration": 0.02149,
     "end_time": "2025-08-19T18:54:34.145912",
     "exception": false,
     "start_time": "2025-08-19T18:54:34.124422",
     "status": "completed"
    },
    "tags": []
   },
   "source": [
    "# Setup"
   ]
  },
  {
   "cell_type": "code",
   "execution_count": 1,
   "id": "0bc8e7dc",
   "metadata": {
    "execution": {
     "iopub.execute_input": "2025-08-19T18:54:34.167805Z",
     "iopub.status.busy": "2025-08-19T18:54:34.167333Z",
     "iopub.status.idle": "2025-08-19T18:54:34.177545Z",
     "shell.execute_reply": "2025-08-19T18:54:34.176665Z"
    },
    "papermill": {
     "duration": 0.023975,
     "end_time": "2025-08-19T18:54:34.181510",
     "exception": false,
     "start_time": "2025-08-19T18:54:34.157535",
     "status": "completed"
    },
    "tags": []
   },
   "outputs": [
    {
     "name": "stdout",
     "output_type": "stream",
     "text": [
      "/dss/dsshome1/0C/ra93lal2/cma/CMA_Fairness_v2\n"
     ]
    },
    {
     "name": "stderr",
     "output_type": "stream",
     "text": [
      "/dss/dsshome1/0C/ra93lal2/.local/share/virtualenvs/CMA_Fairness_v2-3j10GkSs/lib/python3.10/site-packages/IPython/core/magics/osm.py:393: UserWarning: This is now an optional IPython functionality, using bookmarks requires you to install the `pickleshare` library.\n",
      "  bkms = self.shell.db.get('bookmarks', {})\n",
      "/dss/dsshome1/0C/ra93lal2/.local/share/virtualenvs/CMA_Fairness_v2-3j10GkSs/lib/python3.10/site-packages/IPython/core/magics/osm.py:417: UserWarning: This is now an optional IPython functionality, setting dhist requires you to install the `pickleshare` library.\n",
      "  self.shell.db['dhist'] = compress_dhist(dhist)[-100:]\n"
     ]
    }
   ],
   "source": [
    "%cd ~/cma/CMA_Fairness_v2"
   ]
  },
  {
   "cell_type": "markdown",
   "id": "9d235661",
   "metadata": {
    "papermill": {
     "duration": 0.010934,
     "end_time": "2025-08-19T18:54:34.212211",
     "exception": false,
     "start_time": "2025-08-19T18:54:34.201277",
     "status": "completed"
    },
    "tags": []
   },
   "source": [
    "The following cell holds the definition of our parameters, these values can be overriden by rendering the with e.g. the following command:\n",
    "\n",
    "papermill -p alpha 0.2 -p ratio 0.3 universe_analysis.ipynb output/test_run.ipynb"
   ]
  },
  {
   "cell_type": "code",
   "execution_count": 2,
   "id": "4a789d8e",
   "metadata": {
    "execution": {
     "iopub.execute_input": "2025-08-19T18:54:34.233198Z",
     "iopub.status.busy": "2025-08-19T18:54:34.232032Z",
     "iopub.status.idle": "2025-08-19T18:54:34.242324Z",
     "shell.execute_reply": "2025-08-19T18:54:34.240629Z"
    },
    "papermill": {
     "duration": 0.022654,
     "end_time": "2025-08-19T18:54:34.244224",
     "exception": false,
     "start_time": "2025-08-19T18:54:34.221570",
     "status": "completed"
    },
    "tags": []
   },
   "outputs": [
    {
     "name": "stdout",
     "output_type": "stream",
     "text": [
      "Current working directory: /dss/dsshome1/0C/ra93lal2/cma/CMA_Fairness_v2\n"
     ]
    }
   ],
   "source": [
    "import os\n",
    "print(\"Current working directory:\", os.getcwd())"
   ]
  },
  {
   "cell_type": "code",
   "execution_count": 3,
   "id": "4132aaed",
   "metadata": {
    "execution": {
     "iopub.execute_input": "2025-08-19T18:54:34.269065Z",
     "iopub.status.busy": "2025-08-19T18:54:34.267976Z",
     "iopub.status.idle": "2025-08-19T18:54:34.279387Z",
     "shell.execute_reply": "2025-08-19T18:54:34.277864Z"
    },
    "papermill": {
     "duration": 0.024538,
     "end_time": "2025-08-19T18:54:34.281050",
     "exception": false,
     "start_time": "2025-08-19T18:54:34.256512",
     "status": "completed"
    },
    "tags": [
     "parameters"
    ]
   },
   "outputs": [],
   "source": [
    "run_no = 0\n",
    "universe_id = \"test\"\n",
    "universe = {\n",
    "    \"training_size\": \"5k\", # \"25k\", \"5k\", \"1k\"\n",
    "    \"training_year\": \"2012_14\", # \"2014\", \"2012_14\", \"2010_14\"\n",
    "    \"scale\": \"scale\", # \"scale\", \"do-not-scale\",\n",
    "    \"model\": \"elasticnet\", # \"logreg\", \"penalized_logreg\", \"rf\", \"gbm\", \"elasticnet\"\n",
    "    \"cutoff\": [\"quantile_0.15\", \"quantile_0.30\"],\n",
    "    \"exclude_features\": \"age\", # \"none\", \"nationality\", \"sex\", \"nationality-sex\", \"age\"\n",
    "    \"exclude_subgroups\": \"drop-non-german\", # \"keep-all\", \"drop-non-german\"\n",
    "    \"eval_fairness_grouping\": [\"majority-minority\", \"nationality-all\"]\n",
    "}\n",
    "\n",
    "output_dir=\"./output\"\n",
    "seed=0"
   ]
  },
  {
   "cell_type": "code",
   "execution_count": 4,
   "id": "897ee3b8",
   "metadata": {
    "execution": {
     "iopub.execute_input": "2025-08-19T18:54:34.304615Z",
     "iopub.status.busy": "2025-08-19T18:54:34.303143Z",
     "iopub.status.idle": "2025-08-19T18:54:34.310487Z",
     "shell.execute_reply": "2025-08-19T18:54:34.309177Z"
    },
    "papermill": {
     "duration": 0.019323,
     "end_time": "2025-08-19T18:54:34.311859",
     "exception": false,
     "start_time": "2025-08-19T18:54:34.292536",
     "status": "completed"
    },
    "tags": [
     "injected-parameters"
    ]
   },
   "outputs": [],
   "source": [
    "# Parameters\n",
    "universe_id = \"0da585ab060c60c1f57114e361b24cd3\"\n",
    "run_no = \"3\"\n",
    "universe = \"{\\\"cutoff\\\": [\\\"quantile_0.1\\\", \\\"quantile_0.25\\\"], \\\"eval_fairness_grouping\\\": [\\\"majority-minority\\\", \\\"nationality-all\\\"], \\\"exclude_features\\\": \\\"nationality-sex\\\", \\\"exclude_subgroups\\\": \\\"keep-all\\\", \\\"model\\\": \\\"rf\\\", \\\"scale\\\": \\\"do-not-scale\\\", \\\"training_size\\\": \\\"1k\\\", \\\"training_year\\\": \\\"2014\\\"}\"\n",
    "output_dir = \"output\"\n",
    "seed = \"2023\"\n"
   ]
  },
  {
   "cell_type": "code",
   "execution_count": 5,
   "id": "a5d7941f",
   "metadata": {
    "execution": {
     "iopub.execute_input": "2025-08-19T18:54:34.335257Z",
     "iopub.status.busy": "2025-08-19T18:54:34.334221Z",
     "iopub.status.idle": "2025-08-19T18:54:34.343166Z",
     "shell.execute_reply": "2025-08-19T18:54:34.341543Z"
    },
    "papermill": {
     "duration": 0.021464,
     "end_time": "2025-08-19T18:54:34.344796",
     "exception": false,
     "start_time": "2025-08-19T18:54:34.323332",
     "status": "completed"
    },
    "tags": []
   },
   "outputs": [],
   "source": [
    "import json\n",
    "if isinstance(universe, str):\n",
    "    universe = json.loads(universe)"
   ]
  },
  {
   "cell_type": "code",
   "execution_count": 6,
   "id": "7076ccb1",
   "metadata": {
    "execution": {
     "iopub.execute_input": "2025-08-19T18:54:34.375076Z",
     "iopub.status.busy": "2025-08-19T18:54:34.372930Z",
     "iopub.status.idle": "2025-08-19T18:54:34.416633Z",
     "shell.execute_reply": "2025-08-19T18:54:34.416008Z"
    },
    "papermill": {
     "duration": 0.061605,
     "end_time": "2025-08-19T18:54:34.418768",
     "exception": false,
     "start_time": "2025-08-19T18:54:34.357163",
     "status": "completed"
    },
    "tags": []
   },
   "outputs": [],
   "source": [
    "# Auto-reload the custom package\n",
    "%load_ext autoreload\n",
    "%autoreload 1\n",
    "%aimport fairness_multiverse"
   ]
  },
  {
   "cell_type": "code",
   "execution_count": 7,
   "id": "94c8eb93",
   "metadata": {
    "execution": {
     "iopub.execute_input": "2025-08-19T18:54:34.455513Z",
     "iopub.status.busy": "2025-08-19T18:54:34.454574Z",
     "iopub.status.idle": "2025-08-19T18:54:36.104216Z",
     "shell.execute_reply": "2025-08-19T18:54:36.103289Z"
    },
    "papermill": {
     "duration": 1.664856,
     "end_time": "2025-08-19T18:54:36.106303",
     "exception": false,
     "start_time": "2025-08-19T18:54:34.441447",
     "status": "completed"
    },
    "tags": []
   },
   "outputs": [],
   "source": [
    "from fairness_multiverse.universe import UniverseAnalysis\n",
    "\n",
    "universe_analysis = UniverseAnalysis(\n",
    "    run_no = run_no,\n",
    "    universe_id = universe_id,\n",
    "    universe = universe,\n",
    "    output_dir=output_dir,\n",
    ")"
   ]
  },
  {
   "cell_type": "code",
   "execution_count": 8,
   "id": "2a6381cf",
   "metadata": {
    "execution": {
     "iopub.execute_input": "2025-08-19T18:54:36.134518Z",
     "iopub.status.busy": "2025-08-19T18:54:36.134120Z",
     "iopub.status.idle": "2025-08-19T18:54:36.140653Z",
     "shell.execute_reply": "2025-08-19T18:54:36.139874Z"
    },
    "papermill": {
     "duration": 0.025278,
     "end_time": "2025-08-19T18:54:36.144058",
     "exception": false,
     "start_time": "2025-08-19T18:54:36.118780",
     "status": "completed"
    },
    "tags": []
   },
   "outputs": [
    {
     "name": "stdout",
     "output_type": "stream",
     "text": [
      "Using Seed: 2023\n"
     ]
    }
   ],
   "source": [
    "import numpy as np\n",
    "parsed_seed = int(seed)\n",
    "np.random.seed(parsed_seed)\n",
    "print(f\"Using Seed: {parsed_seed}\")"
   ]
  },
  {
   "cell_type": "markdown",
   "id": "b6e958b4",
   "metadata": {
    "papermill": {
     "duration": 0.011316,
     "end_time": "2025-08-19T18:54:36.175092",
     "exception": false,
     "start_time": "2025-08-19T18:54:36.163776",
     "status": "completed"
    },
    "tags": []
   },
   "source": [
    "# Loading Data"
   ]
  },
  {
   "cell_type": "code",
   "execution_count": 9,
   "id": "98701482",
   "metadata": {
    "execution": {
     "iopub.execute_input": "2025-08-19T18:54:36.199081Z",
     "iopub.status.busy": "2025-08-19T18:54:36.198367Z",
     "iopub.status.idle": "2025-08-19T18:54:46.223470Z",
     "shell.execute_reply": "2025-08-19T18:54:46.221967Z"
    },
    "papermill": {
     "duration": 10.040647,
     "end_time": "2025-08-19T18:54:46.225332",
     "exception": false,
     "start_time": "2025-08-19T18:54:36.184685",
     "status": "completed"
    },
    "tags": []
   },
   "outputs": [
    {
     "name": "stdout",
     "output_type": "stream",
     "text": [
      "Loading SIAB data from cache: data/siab_cached.csv.gz\n"
     ]
    },
    {
     "name": "stdout",
     "output_type": "stream",
     "text": [
      "(643690, 164)\n"
     ]
    }
   ],
   "source": [
    "from pathlib import Path\n",
    "import pandas as pd\n",
    "\n",
    "# File paths\n",
    "raw_file = Path(\"data/raw/siab.csv\")\n",
    "cache_file = Path(\"data/siab_cached.csv.gz\")\n",
    "\n",
    "# Ensure cache directory exists\n",
    "cache_file.parent.mkdir(parents=True, exist_ok=True)\n",
    "\n",
    "# Load with simple caching\n",
    "if cache_file.exists():\n",
    "    print(f\"Loading SIAB data from cache: {cache_file}\")\n",
    "    siab = pd.read_csv(cache_file, compression='gzip')\n",
    "else:\n",
    "    print(f\"Cache not found. Reading raw SIAB data: {raw_file}\")\n",
    "    siab = pd.read_csv(raw_file)\n",
    "    siab.to_csv(cache_file, index=False, compression='gzip')\n",
    "    print(f\"Cached SIAB data to: {cache_file}\")\n",
    "\n",
    "print(siab.shape)"
   ]
  },
  {
   "cell_type": "code",
   "execution_count": 10,
   "id": "058d2abb",
   "metadata": {
    "execution": {
     "iopub.execute_input": "2025-08-19T18:54:46.256636Z",
     "iopub.status.busy": "2025-08-19T18:54:46.255269Z",
     "iopub.status.idle": "2025-08-19T18:54:46.390984Z",
     "shell.execute_reply": "2025-08-19T18:54:46.390215Z"
    },
    "papermill": {
     "duration": 0.154884,
     "end_time": "2025-08-19T18:54:46.394419",
     "exception": false,
     "start_time": "2025-08-19T18:54:46.239535",
     "status": "completed"
    },
    "tags": []
   },
   "outputs": [
    {
     "data": {
      "text/html": [
       "<div>\n",
       "<style scoped>\n",
       "    .dataframe tbody tr th:only-of-type {\n",
       "        vertical-align: middle;\n",
       "    }\n",
       "\n",
       "    .dataframe tbody tr th {\n",
       "        vertical-align: top;\n",
       "    }\n",
       "\n",
       "    .dataframe thead th {\n",
       "        text-align: right;\n",
       "    }\n",
       "</style>\n",
       "<table border=\"1\" class=\"dataframe\">\n",
       "  <thead>\n",
       "    <tr style=\"text-align: right;\">\n",
       "      <th></th>\n",
       "      <th>persnr</th>\n",
       "      <th>year</th>\n",
       "      <th>nrEntry</th>\n",
       "      <th>ltue</th>\n",
       "      <th>employed_before</th>\n",
       "      <th>receipt_leh_before</th>\n",
       "      <th>receipt_lhg_before</th>\n",
       "      <th>se_before</th>\n",
       "      <th>ASU_notue_seeking_before</th>\n",
       "      <th>ASU_other_before</th>\n",
       "      <th>...</th>\n",
       "      <th>minijob_tot_dur_byage</th>\n",
       "      <th>ft_tot_dur_byage</th>\n",
       "      <th>befrist_tot_dur_byage</th>\n",
       "      <th>leih_tot_dur_byage</th>\n",
       "      <th>LHG_tot_dur_byage</th>\n",
       "      <th>LEH_tot_dur_byage</th>\n",
       "      <th>almp_tot_dur_byage</th>\n",
       "      <th>almp_aw_tot_dur_byage</th>\n",
       "      <th>se_tot_dur_byage</th>\n",
       "      <th>seeking1_tot_dur_byage</th>\n",
       "    </tr>\n",
       "  </thead>\n",
       "  <tbody>\n",
       "    <tr>\n",
       "      <th>0</th>\n",
       "      <td>7</td>\n",
       "      <td>2015</td>\n",
       "      <td>1</td>\n",
       "      <td>0</td>\n",
       "      <td>1</td>\n",
       "      <td>0</td>\n",
       "      <td>0</td>\n",
       "      <td>0</td>\n",
       "      <td>1</td>\n",
       "      <td>0</td>\n",
       "      <td>...</td>\n",
       "      <td>0.000000</td>\n",
       "      <td>0.000000</td>\n",
       "      <td>15.043478</td>\n",
       "      <td>0.000000</td>\n",
       "      <td>0.000000</td>\n",
       "      <td>0.000000</td>\n",
       "      <td>0.000000</td>\n",
       "      <td>0.000000</td>\n",
       "      <td>0.000000</td>\n",
       "      <td>0.000000</td>\n",
       "    </tr>\n",
       "    <tr>\n",
       "      <th>1</th>\n",
       "      <td>18</td>\n",
       "      <td>2010</td>\n",
       "      <td>1</td>\n",
       "      <td>1</td>\n",
       "      <td>0</td>\n",
       "      <td>0</td>\n",
       "      <td>0</td>\n",
       "      <td>0</td>\n",
       "      <td>0</td>\n",
       "      <td>0</td>\n",
       "      <td>...</td>\n",
       "      <td>0.000000</td>\n",
       "      <td>0.000000</td>\n",
       "      <td>0.000000</td>\n",
       "      <td>0.000000</td>\n",
       "      <td>0.000000</td>\n",
       "      <td>0.000000</td>\n",
       "      <td>0.000000</td>\n",
       "      <td>0.000000</td>\n",
       "      <td>0.000000</td>\n",
       "      <td>0.000000</td>\n",
       "    </tr>\n",
       "    <tr>\n",
       "      <th>2</th>\n",
       "      <td>18</td>\n",
       "      <td>2011</td>\n",
       "      <td>2</td>\n",
       "      <td>0</td>\n",
       "      <td>1</td>\n",
       "      <td>0</td>\n",
       "      <td>1</td>\n",
       "      <td>0</td>\n",
       "      <td>1</td>\n",
       "      <td>0</td>\n",
       "      <td>...</td>\n",
       "      <td>2.714286</td>\n",
       "      <td>2.714286</td>\n",
       "      <td>0.000000</td>\n",
       "      <td>0.000000</td>\n",
       "      <td>10.775510</td>\n",
       "      <td>0.000000</td>\n",
       "      <td>8.367347</td>\n",
       "      <td>0.000000</td>\n",
       "      <td>0.000000</td>\n",
       "      <td>9.836735</td>\n",
       "    </tr>\n",
       "    <tr>\n",
       "      <th>3</th>\n",
       "      <td>18</td>\n",
       "      <td>2012</td>\n",
       "      <td>3</td>\n",
       "      <td>0</td>\n",
       "      <td>1</td>\n",
       "      <td>0</td>\n",
       "      <td>1</td>\n",
       "      <td>0</td>\n",
       "      <td>1</td>\n",
       "      <td>0</td>\n",
       "      <td>...</td>\n",
       "      <td>4.200000</td>\n",
       "      <td>4.200000</td>\n",
       "      <td>0.000000</td>\n",
       "      <td>0.000000</td>\n",
       "      <td>12.100000</td>\n",
       "      <td>0.000000</td>\n",
       "      <td>9.400000</td>\n",
       "      <td>0.000000</td>\n",
       "      <td>0.000000</td>\n",
       "      <td>9.960000</td>\n",
       "    </tr>\n",
       "    <tr>\n",
       "      <th>4</th>\n",
       "      <td>18</td>\n",
       "      <td>2012</td>\n",
       "      <td>4</td>\n",
       "      <td>0</td>\n",
       "      <td>1</td>\n",
       "      <td>0</td>\n",
       "      <td>1</td>\n",
       "      <td>0</td>\n",
       "      <td>1</td>\n",
       "      <td>0</td>\n",
       "      <td>...</td>\n",
       "      <td>5.460000</td>\n",
       "      <td>5.460000</td>\n",
       "      <td>0.000000</td>\n",
       "      <td>0.000000</td>\n",
       "      <td>13.360000</td>\n",
       "      <td>0.000000</td>\n",
       "      <td>10.320000</td>\n",
       "      <td>0.000000</td>\n",
       "      <td>0.000000</td>\n",
       "      <td>10.280000</td>\n",
       "    </tr>\n",
       "    <tr>\n",
       "      <th>...</th>\n",
       "      <td>...</td>\n",
       "      <td>...</td>\n",
       "      <td>...</td>\n",
       "      <td>...</td>\n",
       "      <td>...</td>\n",
       "      <td>...</td>\n",
       "      <td>...</td>\n",
       "      <td>...</td>\n",
       "      <td>...</td>\n",
       "      <td>...</td>\n",
       "      <td>...</td>\n",
       "      <td>...</td>\n",
       "      <td>...</td>\n",
       "      <td>...</td>\n",
       "      <td>...</td>\n",
       "      <td>...</td>\n",
       "      <td>...</td>\n",
       "      <td>...</td>\n",
       "      <td>...</td>\n",
       "      <td>...</td>\n",
       "      <td>...</td>\n",
       "    </tr>\n",
       "    <tr>\n",
       "      <th>643685</th>\n",
       "      <td>1827860</td>\n",
       "      <td>2013</td>\n",
       "      <td>1</td>\n",
       "      <td>0</td>\n",
       "      <td>0</td>\n",
       "      <td>0</td>\n",
       "      <td>1</td>\n",
       "      <td>0</td>\n",
       "      <td>0</td>\n",
       "      <td>1</td>\n",
       "      <td>...</td>\n",
       "      <td>0.000000</td>\n",
       "      <td>0.000000</td>\n",
       "      <td>0.000000</td>\n",
       "      <td>0.000000</td>\n",
       "      <td>0.612903</td>\n",
       "      <td>0.000000</td>\n",
       "      <td>0.000000</td>\n",
       "      <td>0.000000</td>\n",
       "      <td>0.000000</td>\n",
       "      <td>0.000000</td>\n",
       "    </tr>\n",
       "    <tr>\n",
       "      <th>643686</th>\n",
       "      <td>1827860</td>\n",
       "      <td>2015</td>\n",
       "      <td>2</td>\n",
       "      <td>1</td>\n",
       "      <td>0</td>\n",
       "      <td>0</td>\n",
       "      <td>1</td>\n",
       "      <td>0</td>\n",
       "      <td>1</td>\n",
       "      <td>0</td>\n",
       "      <td>...</td>\n",
       "      <td>0.000000</td>\n",
       "      <td>0.000000</td>\n",
       "      <td>0.212121</td>\n",
       "      <td>0.212121</td>\n",
       "      <td>17.363636</td>\n",
       "      <td>0.000000</td>\n",
       "      <td>8.909091</td>\n",
       "      <td>0.000000</td>\n",
       "      <td>0.000000</td>\n",
       "      <td>7.121212</td>\n",
       "    </tr>\n",
       "    <tr>\n",
       "      <th>643687</th>\n",
       "      <td>1827860</td>\n",
       "      <td>2016</td>\n",
       "      <td>3</td>\n",
       "      <td>1</td>\n",
       "      <td>0</td>\n",
       "      <td>0</td>\n",
       "      <td>1</td>\n",
       "      <td>1</td>\n",
       "      <td>0</td>\n",
       "      <td>1</td>\n",
       "      <td>...</td>\n",
       "      <td>0.000000</td>\n",
       "      <td>0.000000</td>\n",
       "      <td>0.294118</td>\n",
       "      <td>0.205882</td>\n",
       "      <td>34.705882</td>\n",
       "      <td>0.000000</td>\n",
       "      <td>10.352941</td>\n",
       "      <td>1.705882</td>\n",
       "      <td>1.705882</td>\n",
       "      <td>23.911765</td>\n",
       "    </tr>\n",
       "    <tr>\n",
       "      <th>643688</th>\n",
       "      <td>1827869</td>\n",
       "      <td>2013</td>\n",
       "      <td>1</td>\n",
       "      <td>1</td>\n",
       "      <td>1</td>\n",
       "      <td>0</td>\n",
       "      <td>0</td>\n",
       "      <td>0</td>\n",
       "      <td>1</td>\n",
       "      <td>0</td>\n",
       "      <td>...</td>\n",
       "      <td>0.000000</td>\n",
       "      <td>0.000000</td>\n",
       "      <td>0.000000</td>\n",
       "      <td>0.000000</td>\n",
       "      <td>0.000000</td>\n",
       "      <td>0.525424</td>\n",
       "      <td>0.000000</td>\n",
       "      <td>0.000000</td>\n",
       "      <td>0.000000</td>\n",
       "      <td>0.000000</td>\n",
       "    </tr>\n",
       "    <tr>\n",
       "      <th>643689</th>\n",
       "      <td>1827869</td>\n",
       "      <td>2014</td>\n",
       "      <td>2</td>\n",
       "      <td>0</td>\n",
       "      <td>0</td>\n",
       "      <td>1</td>\n",
       "      <td>0</td>\n",
       "      <td>0</td>\n",
       "      <td>1</td>\n",
       "      <td>0</td>\n",
       "      <td>...</td>\n",
       "      <td>0.000000</td>\n",
       "      <td>0.666667</td>\n",
       "      <td>0.666667</td>\n",
       "      <td>0.000000</td>\n",
       "      <td>0.000000</td>\n",
       "      <td>8.950000</td>\n",
       "      <td>1.033333</td>\n",
       "      <td>0.083333</td>\n",
       "      <td>0.083333</td>\n",
       "      <td>8.133333</td>\n",
       "    </tr>\n",
       "  </tbody>\n",
       "</table>\n",
       "<p>643690 rows × 164 columns</p>\n",
       "</div>"
      ],
      "text/plain": [
       "         persnr  year  nrEntry  ltue  employed_before  receipt_leh_before  \\\n",
       "0             7  2015        1     0                1                   0   \n",
       "1            18  2010        1     1                0                   0   \n",
       "2            18  2011        2     0                1                   0   \n",
       "3            18  2012        3     0                1                   0   \n",
       "4            18  2012        4     0                1                   0   \n",
       "...         ...   ...      ...   ...              ...                 ...   \n",
       "643685  1827860  2013        1     0                0                   0   \n",
       "643686  1827860  2015        2     1                0                   0   \n",
       "643687  1827860  2016        3     1                0                   0   \n",
       "643688  1827869  2013        1     1                1                   0   \n",
       "643689  1827869  2014        2     0                0                   1   \n",
       "\n",
       "        receipt_lhg_before  se_before  ASU_notue_seeking_before  \\\n",
       "0                        0          0                         1   \n",
       "1                        0          0                         0   \n",
       "2                        1          0                         1   \n",
       "3                        1          0                         1   \n",
       "4                        1          0                         1   \n",
       "...                    ...        ...                       ...   \n",
       "643685                   1          0                         0   \n",
       "643686                   1          0                         1   \n",
       "643687                   1          1                         0   \n",
       "643688                   0          0                         1   \n",
       "643689                   0          0                         1   \n",
       "\n",
       "        ASU_other_before  ...  minijob_tot_dur_byage  ft_tot_dur_byage  \\\n",
       "0                      0  ...               0.000000          0.000000   \n",
       "1                      0  ...               0.000000          0.000000   \n",
       "2                      0  ...               2.714286          2.714286   \n",
       "3                      0  ...               4.200000          4.200000   \n",
       "4                      0  ...               5.460000          5.460000   \n",
       "...                  ...  ...                    ...               ...   \n",
       "643685                 1  ...               0.000000          0.000000   \n",
       "643686                 0  ...               0.000000          0.000000   \n",
       "643687                 1  ...               0.000000          0.000000   \n",
       "643688                 0  ...               0.000000          0.000000   \n",
       "643689                 0  ...               0.000000          0.666667   \n",
       "\n",
       "        befrist_tot_dur_byage  leih_tot_dur_byage  LHG_tot_dur_byage  \\\n",
       "0                   15.043478            0.000000           0.000000   \n",
       "1                    0.000000            0.000000           0.000000   \n",
       "2                    0.000000            0.000000          10.775510   \n",
       "3                    0.000000            0.000000          12.100000   \n",
       "4                    0.000000            0.000000          13.360000   \n",
       "...                       ...                 ...                ...   \n",
       "643685               0.000000            0.000000           0.612903   \n",
       "643686               0.212121            0.212121          17.363636   \n",
       "643687               0.294118            0.205882          34.705882   \n",
       "643688               0.000000            0.000000           0.000000   \n",
       "643689               0.666667            0.000000           0.000000   \n",
       "\n",
       "        LEH_tot_dur_byage  almp_tot_dur_byage  almp_aw_tot_dur_byage  \\\n",
       "0                0.000000            0.000000               0.000000   \n",
       "1                0.000000            0.000000               0.000000   \n",
       "2                0.000000            8.367347               0.000000   \n",
       "3                0.000000            9.400000               0.000000   \n",
       "4                0.000000           10.320000               0.000000   \n",
       "...                   ...                 ...                    ...   \n",
       "643685           0.000000            0.000000               0.000000   \n",
       "643686           0.000000            8.909091               0.000000   \n",
       "643687           0.000000           10.352941               1.705882   \n",
       "643688           0.525424            0.000000               0.000000   \n",
       "643689           8.950000            1.033333               0.083333   \n",
       "\n",
       "        se_tot_dur_byage  seeking1_tot_dur_byage  \n",
       "0               0.000000                0.000000  \n",
       "1               0.000000                0.000000  \n",
       "2               0.000000                9.836735  \n",
       "3               0.000000                9.960000  \n",
       "4               0.000000               10.280000  \n",
       "...                  ...                     ...  \n",
       "643685          0.000000                0.000000  \n",
       "643686          0.000000                7.121212  \n",
       "643687          1.705882               23.911765  \n",
       "643688          0.000000                0.000000  \n",
       "643689          0.083333                8.133333  \n",
       "\n",
       "[643690 rows x 164 columns]"
      ]
     },
     "execution_count": 10,
     "metadata": {},
     "output_type": "execute_result"
    }
   ],
   "source": [
    "siab"
   ]
  },
  {
   "cell_type": "markdown",
   "id": "1f87e805",
   "metadata": {
    "papermill": {
     "duration": 0.011877,
     "end_time": "2025-08-19T18:54:46.429676",
     "exception": false,
     "start_time": "2025-08-19T18:54:46.417799",
     "status": "completed"
    },
    "tags": []
   },
   "source": [
    "# Splitting Data and Setting Training Data Size"
   ]
  },
  {
   "cell_type": "code",
   "execution_count": 11,
   "id": "910ae358",
   "metadata": {
    "execution": {
     "iopub.execute_input": "2025-08-19T18:54:46.452390Z",
     "iopub.status.busy": "2025-08-19T18:54:46.450660Z",
     "iopub.status.idle": "2025-08-19T18:54:46.658317Z",
     "shell.execute_reply": "2025-08-19T18:54:46.657441Z"
    },
    "papermill": {
     "duration": 0.22085,
     "end_time": "2025-08-19T18:54:46.659958",
     "exception": false,
     "start_time": "2025-08-19T18:54:46.439108",
     "status": "completed"
    },
    "tags": []
   },
   "outputs": [],
   "source": [
    "from fairness_multiverse.universe import sample_by_year_size\n",
    "\n",
    "siab_train = sample_by_year_size(siab,\n",
    "                               training_year=universe[\"training_year\"],\n",
    "                               training_size=universe[\"training_size\"])"
   ]
  },
  {
   "cell_type": "code",
   "execution_count": 12,
   "id": "919c8ff5",
   "metadata": {
    "execution": {
     "iopub.execute_input": "2025-08-19T18:54:46.687770Z",
     "iopub.status.busy": "2025-08-19T18:54:46.687085Z",
     "iopub.status.idle": "2025-08-19T18:54:46.694215Z",
     "shell.execute_reply": "2025-08-19T18:54:46.693456Z"
    },
    "papermill": {
     "duration": 0.025327,
     "end_time": "2025-08-19T18:54:46.695955",
     "exception": false,
     "start_time": "2025-08-19T18:54:46.670628",
     "status": "completed"
    },
    "tags": []
   },
   "outputs": [
    {
     "data": {
      "text/plain": [
       "(1000, 164)"
      ]
     },
     "execution_count": 12,
     "metadata": {},
     "output_type": "execute_result"
    }
   ],
   "source": [
    "siab_train.shape"
   ]
  },
  {
   "cell_type": "code",
   "execution_count": 13,
   "id": "feb13bf4",
   "metadata": {
    "execution": {
     "iopub.execute_input": "2025-08-19T18:54:46.717210Z",
     "iopub.status.busy": "2025-08-19T18:54:46.716801Z",
     "iopub.status.idle": "2025-08-19T18:54:46.724406Z",
     "shell.execute_reply": "2025-08-19T18:54:46.723783Z"
    },
    "papermill": {
     "duration": 0.022947,
     "end_time": "2025-08-19T18:54:46.729106",
     "exception": false,
     "start_time": "2025-08-19T18:54:46.706159",
     "status": "completed"
    },
    "tags": []
   },
   "outputs": [
    {
     "data": {
      "text/plain": [
       "year\n",
       "2014    1000\n",
       "dtype: int64"
      ]
     },
     "metadata": {},
     "output_type": "display_data"
    }
   ],
   "source": [
    "display(siab_train.groupby(\"year\").size())"
   ]
  },
  {
   "cell_type": "code",
   "execution_count": 14,
   "id": "0997782f",
   "metadata": {
    "execution": {
     "iopub.execute_input": "2025-08-19T18:54:46.768720Z",
     "iopub.status.busy": "2025-08-19T18:54:46.767263Z",
     "iopub.status.idle": "2025-08-19T18:54:47.000446Z",
     "shell.execute_reply": "2025-08-19T18:54:46.999581Z"
    },
    "papermill": {
     "duration": 0.248944,
     "end_time": "2025-08-19T18:54:47.001938",
     "exception": false,
     "start_time": "2025-08-19T18:54:46.752994",
     "status": "completed"
    },
    "tags": []
   },
   "outputs": [],
   "source": [
    "#siab_train = siab_s[siab_s.year < 2015]\n",
    "siab_calib = siab[siab.year == 2015]\n",
    "siab_test = siab[siab.year == 2016]"
   ]
  },
  {
   "cell_type": "code",
   "execution_count": 15,
   "id": "2c1e4012",
   "metadata": {
    "execution": {
     "iopub.execute_input": "2025-08-19T18:54:47.025558Z",
     "iopub.status.busy": "2025-08-19T18:54:47.024545Z",
     "iopub.status.idle": "2025-08-19T18:54:47.030070Z",
     "shell.execute_reply": "2025-08-19T18:54:47.029029Z"
    },
    "papermill": {
     "duration": 0.019082,
     "end_time": "2025-08-19T18:54:47.031268",
     "exception": false,
     "start_time": "2025-08-19T18:54:47.012186",
     "status": "completed"
    },
    "tags": []
   },
   "outputs": [],
   "source": [
    "#siab_calib.shape"
   ]
  },
  {
   "cell_type": "code",
   "execution_count": 16,
   "id": "f66b54ca",
   "metadata": {
    "execution": {
     "iopub.execute_input": "2025-08-19T18:54:47.055585Z",
     "iopub.status.busy": "2025-08-19T18:54:47.054354Z",
     "iopub.status.idle": "2025-08-19T18:54:47.061222Z",
     "shell.execute_reply": "2025-08-19T18:54:47.059902Z"
    },
    "papermill": {
     "duration": 0.019292,
     "end_time": "2025-08-19T18:54:47.062687",
     "exception": false,
     "start_time": "2025-08-19T18:54:47.043395",
     "status": "completed"
    },
    "tags": []
   },
   "outputs": [],
   "source": [
    "#siab_test.shape"
   ]
  },
  {
   "cell_type": "code",
   "execution_count": 17,
   "id": "27e4384d",
   "metadata": {
    "execution": {
     "iopub.execute_input": "2025-08-19T18:54:47.088390Z",
     "iopub.status.busy": "2025-08-19T18:54:47.086989Z",
     "iopub.status.idle": "2025-08-19T18:54:47.097000Z",
     "shell.execute_reply": "2025-08-19T18:54:47.095736Z"
    },
    "papermill": {
     "duration": 0.023429,
     "end_time": "2025-08-19T18:54:47.098475",
     "exception": false,
     "start_time": "2025-08-19T18:54:47.075046",
     "status": "completed"
    },
    "tags": []
   },
   "outputs": [],
   "source": [
    "X_train = siab_train.iloc[:,4:164]\n",
    "y_train = siab_train.iloc[:, [3]]"
   ]
  },
  {
   "cell_type": "code",
   "execution_count": 18,
   "id": "08ee8389",
   "metadata": {
    "execution": {
     "iopub.execute_input": "2025-08-19T18:54:47.125897Z",
     "iopub.status.busy": "2025-08-19T18:54:47.124610Z",
     "iopub.status.idle": "2025-08-19T18:54:47.186655Z",
     "shell.execute_reply": "2025-08-19T18:54:47.185274Z"
    },
    "papermill": {
     "duration": 0.077134,
     "end_time": "2025-08-19T18:54:47.189569",
     "exception": false,
     "start_time": "2025-08-19T18:54:47.112435",
     "status": "completed"
    },
    "tags": []
   },
   "outputs": [],
   "source": [
    "X_calib = siab_calib.iloc[:,4:164]\n",
    "y_calib = siab_calib.iloc[:, [3]]"
   ]
  },
  {
   "cell_type": "code",
   "execution_count": 19,
   "id": "b7ff42e0",
   "metadata": {
    "execution": {
     "iopub.execute_input": "2025-08-19T18:54:47.232067Z",
     "iopub.status.busy": "2025-08-19T18:54:47.230827Z",
     "iopub.status.idle": "2025-08-19T18:54:47.288753Z",
     "shell.execute_reply": "2025-08-19T18:54:47.287516Z"
    },
    "papermill": {
     "duration": 0.077758,
     "end_time": "2025-08-19T18:54:47.292836",
     "exception": false,
     "start_time": "2025-08-19T18:54:47.215078",
     "status": "completed"
    },
    "tags": []
   },
   "outputs": [],
   "source": [
    "X_test = siab_test.iloc[:,4:164]\n",
    "y_true = siab_test.iloc[:, [3]]"
   ]
  },
  {
   "cell_type": "code",
   "execution_count": 20,
   "id": "0275101e",
   "metadata": {
    "execution": {
     "iopub.execute_input": "2025-08-19T18:54:47.327380Z",
     "iopub.status.busy": "2025-08-19T18:54:47.326288Z",
     "iopub.status.idle": "2025-08-19T18:54:47.433778Z",
     "shell.execute_reply": "2025-08-19T18:54:47.432461Z"
    },
    "papermill": {
     "duration": 0.125619,
     "end_time": "2025-08-19T18:54:47.439227",
     "exception": false,
     "start_time": "2025-08-19T18:54:47.313608",
     "status": "completed"
    },
    "tags": []
   },
   "outputs": [],
   "source": [
    "# Auxiliary data needed downstream in the pipeline\n",
    "\n",
    "org_train = X_train.copy()\n",
    "org_test = X_test.copy()\n",
    "org_calib = X_calib.copy()"
   ]
  },
  {
   "cell_type": "markdown",
   "id": "b461e618",
   "metadata": {
    "papermill": {
     "duration": 0.011691,
     "end_time": "2025-08-19T18:54:47.473701",
     "exception": false,
     "start_time": "2025-08-19T18:54:47.462010",
     "status": "completed"
    },
    "tags": []
   },
   "source": [
    "# Preprocessing Data"
   ]
  },
  {
   "cell_type": "code",
   "execution_count": 21,
   "id": "78e74c4b",
   "metadata": {
    "execution": {
     "iopub.execute_input": "2025-08-19T18:54:47.497344Z",
     "iopub.status.busy": "2025-08-19T18:54:47.496249Z",
     "iopub.status.idle": "2025-08-19T18:54:47.505515Z",
     "shell.execute_reply": "2025-08-19T18:54:47.504195Z"
    },
    "papermill": {
     "duration": 0.022877,
     "end_time": "2025-08-19T18:54:47.507025",
     "exception": false,
     "start_time": "2025-08-19T18:54:47.484148",
     "status": "completed"
    },
    "tags": []
   },
   "outputs": [],
   "source": [
    "# EXCLUDE PROTECTED FEATURES\n",
    "# --------------------------\n",
    "\n",
    "excluded_features = universe[\"exclude_features\"].split(\"-\")\n",
    "excluded_features_dictionary = {\n",
    "    \"nationality\": [\"maxdeutsch1\", \"maxdeutsch.Missing.\"],\n",
    "    \"sex\": [\"frau1\"],\n",
    "    \"age\": [\"age\"],\n",
    "}"
   ]
  },
  {
   "cell_type": "code",
   "execution_count": 22,
   "id": "f8e63555",
   "metadata": {
    "execution": {
     "iopub.execute_input": "2025-08-19T18:54:47.532323Z",
     "iopub.status.busy": "2025-08-19T18:54:47.531435Z",
     "iopub.status.idle": "2025-08-19T18:54:47.539101Z",
     "shell.execute_reply": "2025-08-19T18:54:47.537833Z"
    },
    "papermill": {
     "duration": 0.020772,
     "end_time": "2025-08-19T18:54:47.540812",
     "exception": false,
     "start_time": "2025-08-19T18:54:47.520040",
     "status": "completed"
    },
    "tags": []
   },
   "outputs": [],
   "source": [
    "excluded_features_columns = [\n",
    "    excluded_features_dictionary[f] for f in excluded_features if len(f) > 0 and f != \"none\"\n",
    "]"
   ]
  },
  {
   "cell_type": "code",
   "execution_count": 23,
   "id": "da781f7c",
   "metadata": {
    "execution": {
     "iopub.execute_input": "2025-08-19T18:54:47.564859Z",
     "iopub.status.busy": "2025-08-19T18:54:47.563980Z",
     "iopub.status.idle": "2025-08-19T18:54:47.570865Z",
     "shell.execute_reply": "2025-08-19T18:54:47.569718Z"
    },
    "papermill": {
     "duration": 0.019862,
     "end_time": "2025-08-19T18:54:47.572320",
     "exception": false,
     "start_time": "2025-08-19T18:54:47.552458",
     "status": "completed"
    },
    "tags": []
   },
   "outputs": [],
   "source": [
    "from fairness_multiverse.universe import flatten_once\n",
    "\n",
    "excluded_features_columns = flatten_once(excluded_features_columns)"
   ]
  },
  {
   "cell_type": "code",
   "execution_count": 24,
   "id": "37fef0f0",
   "metadata": {
    "execution": {
     "iopub.execute_input": "2025-08-19T18:54:47.595768Z",
     "iopub.status.busy": "2025-08-19T18:54:47.594743Z",
     "iopub.status.idle": "2025-08-19T18:54:47.607209Z",
     "shell.execute_reply": "2025-08-19T18:54:47.605926Z"
    },
    "papermill": {
     "duration": 0.026149,
     "end_time": "2025-08-19T18:54:47.609100",
     "exception": false,
     "start_time": "2025-08-19T18:54:47.582951",
     "status": "completed"
    },
    "tags": []
   },
   "outputs": [
    {
     "name": "stdout",
     "output_type": "stream",
     "text": [
      "Dropping features: ['maxdeutsch1', 'maxdeutsch.Missing.', 'frau1']\n"
     ]
    }
   ],
   "source": [
    "if len(excluded_features_columns) > 0:\n",
    "    print(f\"Dropping features: {excluded_features_columns}\")\n",
    "    X_train.drop(excluded_features_columns, axis=1, inplace=True)"
   ]
  },
  {
   "cell_type": "code",
   "execution_count": 25,
   "id": "d029e3e9",
   "metadata": {
    "execution": {
     "iopub.execute_input": "2025-08-19T18:54:47.636255Z",
     "iopub.status.busy": "2025-08-19T18:54:47.635224Z",
     "iopub.status.idle": "2025-08-19T18:54:47.692137Z",
     "shell.execute_reply": "2025-08-19T18:54:47.691035Z"
    },
    "papermill": {
     "duration": 0.073557,
     "end_time": "2025-08-19T18:54:47.696244",
     "exception": false,
     "start_time": "2025-08-19T18:54:47.622687",
     "status": "completed"
    },
    "tags": []
   },
   "outputs": [
    {
     "name": "stdout",
     "output_type": "stream",
     "text": [
      "Dropping features: ['maxdeutsch1', 'maxdeutsch.Missing.', 'frau1']\n"
     ]
    }
   ],
   "source": [
    "if len(excluded_features_columns) > 0:\n",
    "    print(f\"Dropping features: {excluded_features_columns}\")\n",
    "    X_test.drop(excluded_features_columns, axis=1, inplace=True)"
   ]
  },
  {
   "cell_type": "code",
   "execution_count": 26,
   "id": "01d571f0",
   "metadata": {
    "execution": {
     "iopub.execute_input": "2025-08-19T18:54:47.742038Z",
     "iopub.status.busy": "2025-08-19T18:54:47.741131Z",
     "iopub.status.idle": "2025-08-19T18:54:47.794298Z",
     "shell.execute_reply": "2025-08-19T18:54:47.793434Z"
    },
    "papermill": {
     "duration": 0.066389,
     "end_time": "2025-08-19T18:54:47.795521",
     "exception": false,
     "start_time": "2025-08-19T18:54:47.729132",
     "status": "completed"
    },
    "tags": []
   },
   "outputs": [
    {
     "name": "stdout",
     "output_type": "stream",
     "text": [
      "Dropping features: ['maxdeutsch1', 'maxdeutsch.Missing.', 'frau1']\n"
     ]
    }
   ],
   "source": [
    "if len(excluded_features_columns) > 0:\n",
    "    print(f\"Dropping features: {excluded_features_columns}\")\n",
    "    X_calib.drop(excluded_features_columns, axis=1, inplace=True)"
   ]
  },
  {
   "cell_type": "code",
   "execution_count": 27,
   "id": "3037356e",
   "metadata": {
    "execution": {
     "iopub.execute_input": "2025-08-19T18:54:47.819790Z",
     "iopub.status.busy": "2025-08-19T18:54:47.819042Z",
     "iopub.status.idle": "2025-08-19T18:54:47.824945Z",
     "shell.execute_reply": "2025-08-19T18:54:47.823978Z"
    },
    "papermill": {
     "duration": 0.019152,
     "end_time": "2025-08-19T18:54:47.826480",
     "exception": false,
     "start_time": "2025-08-19T18:54:47.807328",
     "status": "completed"
    },
    "tags": []
   },
   "outputs": [],
   "source": [
    "# EXCLUDE CERTAIN SUBGROUPS\n",
    "# -------------------------\n",
    "\n",
    "mode = universe.get(\"exclude_subgroups\", \"keep-all\") # Defaults to \"keep-all\" if the key is missing."
   ]
  },
  {
   "cell_type": "code",
   "execution_count": 28,
   "id": "9d1e63fd",
   "metadata": {
    "execution": {
     "iopub.execute_input": "2025-08-19T18:54:47.849630Z",
     "iopub.status.busy": "2025-08-19T18:54:47.848780Z",
     "iopub.status.idle": "2025-08-19T18:54:47.869814Z",
     "shell.execute_reply": "2025-08-19T18:54:47.857790Z"
    },
    "papermill": {
     "duration": 0.039171,
     "end_time": "2025-08-19T18:54:47.876061",
     "exception": false,
     "start_time": "2025-08-19T18:54:47.836890",
     "status": "completed"
    },
    "tags": []
   },
   "outputs": [],
   "source": [
    "if mode == \"keep-all\":\n",
    "    keep_mask = pd.Series(True, index=org_train.index)\n",
    "\n",
    "elif mode == \"drop-non-german\":\n",
    "    keep_mask = (org_train[\"maxdeutsch1\"] == 1) & (org_train[\"maxdeutsch.Missing.\"] == 0)\n",
    "\n",
    "else:\n",
    "    raise ValueError(f\"Unsupported mode for exclude_subgroups: {mode}\")"
   ]
  },
  {
   "cell_type": "code",
   "execution_count": 29,
   "id": "d3b65474",
   "metadata": {
    "execution": {
     "iopub.execute_input": "2025-08-19T18:54:47.911207Z",
     "iopub.status.busy": "2025-08-19T18:54:47.910836Z",
     "iopub.status.idle": "2025-08-19T18:54:47.916190Z",
     "shell.execute_reply": "2025-08-19T18:54:47.915485Z"
    },
    "papermill": {
     "duration": 0.019545,
     "end_time": "2025-08-19T18:54:47.917338",
     "exception": false,
     "start_time": "2025-08-19T18:54:47.897793",
     "status": "completed"
    },
    "tags": []
   },
   "outputs": [],
   "source": [
    "n_drop = (~keep_mask).sum() # Calculates how many rows are set to be dropped\n",
    "if n_drop > 0:\n",
    "    pct = n_drop / len(keep_mask) * 100\n",
    "    print(f\"Dropping {n_drop} rows ({pct:.2f}%) where mode='{mode}'\")"
   ]
  },
  {
   "cell_type": "code",
   "execution_count": 30,
   "id": "f44389b3",
   "metadata": {
    "execution": {
     "iopub.execute_input": "2025-08-19T18:54:47.941778Z",
     "iopub.status.busy": "2025-08-19T18:54:47.941380Z",
     "iopub.status.idle": "2025-08-19T18:54:47.949463Z",
     "shell.execute_reply": "2025-08-19T18:54:47.948607Z"
    },
    "papermill": {
     "duration": 0.02319,
     "end_time": "2025-08-19T18:54:47.952020",
     "exception": false,
     "start_time": "2025-08-19T18:54:47.928830",
     "status": "completed"
    },
    "tags": []
   },
   "outputs": [],
   "source": [
    "X_train = X_train[keep_mask]"
   ]
  },
  {
   "cell_type": "code",
   "execution_count": 31,
   "id": "ceca8c2a",
   "metadata": {
    "execution": {
     "iopub.execute_input": "2025-08-19T18:54:47.977620Z",
     "iopub.status.busy": "2025-08-19T18:54:47.977228Z",
     "iopub.status.idle": "2025-08-19T18:54:47.981874Z",
     "shell.execute_reply": "2025-08-19T18:54:47.981263Z"
    },
    "papermill": {
     "duration": 0.017411,
     "end_time": "2025-08-19T18:54:47.983131",
     "exception": false,
     "start_time": "2025-08-19T18:54:47.965720",
     "status": "completed"
    },
    "tags": []
   },
   "outputs": [],
   "source": [
    "y_train = y_train[keep_mask]"
   ]
  },
  {
   "cell_type": "markdown",
   "id": "04d31e2f",
   "metadata": {
    "papermill": {
     "duration": 0.011527,
     "end_time": "2025-08-19T18:54:48.008541",
     "exception": false,
     "start_time": "2025-08-19T18:54:47.997014",
     "status": "completed"
    },
    "tags": []
   },
   "source": [
    "# Model Training"
   ]
  },
  {
   "cell_type": "code",
   "execution_count": 32,
   "id": "db991733",
   "metadata": {
    "execution": {
     "iopub.execute_input": "2025-08-19T18:54:48.031773Z",
     "iopub.status.busy": "2025-08-19T18:54:48.031370Z",
     "iopub.status.idle": "2025-08-19T18:54:48.138596Z",
     "shell.execute_reply": "2025-08-19T18:54:48.137546Z"
    },
    "papermill": {
     "duration": 0.121077,
     "end_time": "2025-08-19T18:54:48.140276",
     "exception": false,
     "start_time": "2025-08-19T18:54:48.019199",
     "status": "completed"
    },
    "tags": []
   },
   "outputs": [],
   "source": [
    "from sklearn.linear_model import LogisticRegression\n",
    "from sklearn.ensemble import GradientBoostingClassifier, RandomForestClassifier\n",
    "\n",
    "if (universe[\"model\"] == \"logreg\"):\n",
    "    model = LogisticRegression() #penalty=\"none\", solver=\"newton-cg\", max_iter=1)\n",
    "elif (universe[\"model\"] == \"penalized_logreg\"):\n",
    "    model = LogisticRegression(penalty=\"l2\", C=0.1) #, solver=\"newton-cg\", max_iter=1)\n",
    "elif (universe[\"model\"] == \"rf\"):\n",
    "    model = RandomForestClassifier() # n_estimators=100, n_jobs=-1\n",
    "elif (universe[\"model\"] == \"gbm\"):\n",
    "    model = GradientBoostingClassifier()\n",
    "elif (universe[\"model\"] == \"elasticnet\"):\n",
    "    model = LogisticRegression(penalty = 'elasticnet', solver = 'saga', l1_ratio = 0.5) # max_iter=5000\n",
    "else:\n",
    "    raise \"Unsupported universe.model\""
   ]
  },
  {
   "cell_type": "code",
   "execution_count": 33,
   "id": "a4b5cd25",
   "metadata": {
    "execution": {
     "iopub.execute_input": "2025-08-19T18:54:48.164878Z",
     "iopub.status.busy": "2025-08-19T18:54:48.164585Z",
     "iopub.status.idle": "2025-08-19T18:54:48.169997Z",
     "shell.execute_reply": "2025-08-19T18:54:48.169029Z"
    },
    "papermill": {
     "duration": 0.021635,
     "end_time": "2025-08-19T18:54:48.174390",
     "exception": false,
     "start_time": "2025-08-19T18:54:48.152755",
     "status": "completed"
    },
    "tags": []
   },
   "outputs": [],
   "source": [
    "from sklearn.pipeline import Pipeline\n",
    "from sklearn.preprocessing import StandardScaler\n",
    "\n",
    "model = Pipeline([\n",
    "    #(\"continuous_processor\", continuous_processor),\n",
    "    #(\"categorical_preprocessor\", categorical_preprocessor),\n",
    "    (\"scale\", StandardScaler() if universe[\"scale\"] == \"scale\" else None), \n",
    "    (\"model\", model),\n",
    "])"
   ]
  },
  {
   "cell_type": "code",
   "execution_count": 34,
   "id": "283a904d",
   "metadata": {
    "execution": {
     "iopub.execute_input": "2025-08-19T18:54:48.210205Z",
     "iopub.status.busy": "2025-08-19T18:54:48.209360Z",
     "iopub.status.idle": "2025-08-19T18:54:48.521947Z",
     "shell.execute_reply": "2025-08-19T18:54:48.520895Z"
    },
    "papermill": {
     "duration": 0.332286,
     "end_time": "2025-08-19T18:54:48.528426",
     "exception": false,
     "start_time": "2025-08-19T18:54:48.196140",
     "status": "completed"
    },
    "tags": []
   },
   "outputs": [
    {
     "data": {
      "text/html": [
       "<style>#sk-container-id-1 {color: black;background-color: white;}#sk-container-id-1 pre{padding: 0;}#sk-container-id-1 div.sk-toggleable {background-color: white;}#sk-container-id-1 label.sk-toggleable__label {cursor: pointer;display: block;width: 100%;margin-bottom: 0;padding: 0.3em;box-sizing: border-box;text-align: center;}#sk-container-id-1 label.sk-toggleable__label-arrow:before {content: \"▸\";float: left;margin-right: 0.25em;color: #696969;}#sk-container-id-1 label.sk-toggleable__label-arrow:hover:before {color: black;}#sk-container-id-1 div.sk-estimator:hover label.sk-toggleable__label-arrow:before {color: black;}#sk-container-id-1 div.sk-toggleable__content {max-height: 0;max-width: 0;overflow: hidden;text-align: left;background-color: #f0f8ff;}#sk-container-id-1 div.sk-toggleable__content pre {margin: 0.2em;color: black;border-radius: 0.25em;background-color: #f0f8ff;}#sk-container-id-1 input.sk-toggleable__control:checked~div.sk-toggleable__content {max-height: 200px;max-width: 100%;overflow: auto;}#sk-container-id-1 input.sk-toggleable__control:checked~label.sk-toggleable__label-arrow:before {content: \"▾\";}#sk-container-id-1 div.sk-estimator input.sk-toggleable__control:checked~label.sk-toggleable__label {background-color: #d4ebff;}#sk-container-id-1 div.sk-label input.sk-toggleable__control:checked~label.sk-toggleable__label {background-color: #d4ebff;}#sk-container-id-1 input.sk-hidden--visually {border: 0;clip: rect(1px 1px 1px 1px);clip: rect(1px, 1px, 1px, 1px);height: 1px;margin: -1px;overflow: hidden;padding: 0;position: absolute;width: 1px;}#sk-container-id-1 div.sk-estimator {font-family: monospace;background-color: #f0f8ff;border: 1px dotted black;border-radius: 0.25em;box-sizing: border-box;margin-bottom: 0.5em;}#sk-container-id-1 div.sk-estimator:hover {background-color: #d4ebff;}#sk-container-id-1 div.sk-parallel-item::after {content: \"\";width: 100%;border-bottom: 1px solid gray;flex-grow: 1;}#sk-container-id-1 div.sk-label:hover label.sk-toggleable__label {background-color: #d4ebff;}#sk-container-id-1 div.sk-serial::before {content: \"\";position: absolute;border-left: 1px solid gray;box-sizing: border-box;top: 0;bottom: 0;left: 50%;z-index: 0;}#sk-container-id-1 div.sk-serial {display: flex;flex-direction: column;align-items: center;background-color: white;padding-right: 0.2em;padding-left: 0.2em;position: relative;}#sk-container-id-1 div.sk-item {position: relative;z-index: 1;}#sk-container-id-1 div.sk-parallel {display: flex;align-items: stretch;justify-content: center;background-color: white;position: relative;}#sk-container-id-1 div.sk-item::before, #sk-container-id-1 div.sk-parallel-item::before {content: \"\";position: absolute;border-left: 1px solid gray;box-sizing: border-box;top: 0;bottom: 0;left: 50%;z-index: -1;}#sk-container-id-1 div.sk-parallel-item {display: flex;flex-direction: column;z-index: 1;position: relative;background-color: white;}#sk-container-id-1 div.sk-parallel-item:first-child::after {align-self: flex-end;width: 50%;}#sk-container-id-1 div.sk-parallel-item:last-child::after {align-self: flex-start;width: 50%;}#sk-container-id-1 div.sk-parallel-item:only-child::after {width: 0;}#sk-container-id-1 div.sk-dashed-wrapped {border: 1px dashed gray;margin: 0 0.4em 0.5em 0.4em;box-sizing: border-box;padding-bottom: 0.4em;background-color: white;}#sk-container-id-1 div.sk-label label {font-family: monospace;font-weight: bold;display: inline-block;line-height: 1.2em;}#sk-container-id-1 div.sk-label-container {text-align: center;}#sk-container-id-1 div.sk-container {/* jupyter's `normalize.less` sets `[hidden] { display: none; }` but bootstrap.min.css set `[hidden] { display: none !important; }` so we also need the `!important` here to be able to override the default hidden behavior on the sphinx rendered scikit-learn.org. See: https://github.com/scikit-learn/scikit-learn/issues/21755 */display: inline-block !important;position: relative;}#sk-container-id-1 div.sk-text-repr-fallback {display: none;}</style><div id=\"sk-container-id-1\" class=\"sk-top-container\"><div class=\"sk-text-repr-fallback\"><pre>Pipeline(steps=[(&#x27;scale&#x27;, None), (&#x27;model&#x27;, RandomForestClassifier())])</pre><b>In a Jupyter environment, please rerun this cell to show the HTML representation or trust the notebook. <br />On GitHub, the HTML representation is unable to render, please try loading this page with nbviewer.org.</b></div><div class=\"sk-container\" hidden><div class=\"sk-item sk-dashed-wrapped\"><div class=\"sk-label-container\"><div class=\"sk-label sk-toggleable\"><input class=\"sk-toggleable__control sk-hidden--visually\" id=\"sk-estimator-id-1\" type=\"checkbox\" ><label for=\"sk-estimator-id-1\" class=\"sk-toggleable__label sk-toggleable__label-arrow\">Pipeline</label><div class=\"sk-toggleable__content\"><pre>Pipeline(steps=[(&#x27;scale&#x27;, None), (&#x27;model&#x27;, RandomForestClassifier())])</pre></div></div></div><div class=\"sk-serial\"><div class=\"sk-item\"><div class=\"sk-estimator sk-toggleable\"><input class=\"sk-toggleable__control sk-hidden--visually\" id=\"sk-estimator-id-2\" type=\"checkbox\" ><label for=\"sk-estimator-id-2\" class=\"sk-toggleable__label sk-toggleable__label-arrow\">None</label><div class=\"sk-toggleable__content\"><pre>None</pre></div></div></div><div class=\"sk-item\"><div class=\"sk-estimator sk-toggleable\"><input class=\"sk-toggleable__control sk-hidden--visually\" id=\"sk-estimator-id-3\" type=\"checkbox\" ><label for=\"sk-estimator-id-3\" class=\"sk-toggleable__label sk-toggleable__label-arrow\">RandomForestClassifier</label><div class=\"sk-toggleable__content\"><pre>RandomForestClassifier()</pre></div></div></div></div></div></div></div>"
      ],
      "text/plain": [
       "Pipeline(steps=[('scale', None), ('model', RandomForestClassifier())])"
      ]
     },
     "execution_count": 34,
     "metadata": {},
     "output_type": "execute_result"
    }
   ],
   "source": [
    "model.fit(X_train, y_train.values.ravel())"
   ]
  },
  {
   "cell_type": "code",
   "execution_count": 35,
   "id": "6e15e313",
   "metadata": {
    "execution": {
     "iopub.execute_input": "2025-08-19T18:54:48.566533Z",
     "iopub.status.busy": "2025-08-19T18:54:48.565585Z",
     "iopub.status.idle": "2025-08-19T18:54:49.818683Z",
     "shell.execute_reply": "2025-08-19T18:54:49.817855Z"
    },
    "papermill": {
     "duration": 1.269014,
     "end_time": "2025-08-19T18:54:49.821835",
     "exception": false,
     "start_time": "2025-08-19T18:54:48.552821",
     "status": "completed"
    },
    "tags": []
   },
   "outputs": [
    {
     "data": {
      "text/plain": [
       "0.8622673057630141"
      ]
     },
     "execution_count": 35,
     "metadata": {},
     "output_type": "execute_result"
    }
   ],
   "source": [
    "from fairness_multiverse.universe import predict_w_threshold\n",
    "\n",
    "probs_test = model.predict_proba(X_test)\n",
    "\n",
    "'''\n",
    "Below code returns a boolean array (or binary 0/1 array depending on how it’s used) where each element \n",
    "is True if the probability of class 1 is greater than or equal to the threshold, and False otherwise.\n",
    "'''\n",
    "y_pred_default = predict_w_threshold(probs_test, 0.5)\n",
    "\n",
    "from sklearn.metrics import accuracy_score\n",
    "\n",
    "# Naive prediction\n",
    "accuracy_score(y_true = y_true, y_pred = y_pred_default)"
   ]
  },
  {
   "cell_type": "code",
   "execution_count": 36,
   "id": "6f14067c",
   "metadata": {
    "execution": {
     "iopub.execute_input": "2025-08-19T18:54:49.865048Z",
     "iopub.status.busy": "2025-08-19T18:54:49.864448Z",
     "iopub.status.idle": "2025-08-19T18:54:51.137895Z",
     "shell.execute_reply": "2025-08-19T18:54:51.136847Z"
    },
    "papermill": {
     "duration": 1.300419,
     "end_time": "2025-08-19T18:54:51.140626",
     "exception": false,
     "start_time": "2025-08-19T18:54:49.840207",
     "status": "completed"
    },
    "tags": []
   },
   "outputs": [
    {
     "data": {
      "text/plain": [
       "array([0, 0, 0, ..., 0, 0, 0])"
      ]
     },
     "execution_count": 36,
     "metadata": {},
     "output_type": "execute_result"
    }
   ],
   "source": [
    "model.predict(X_test)"
   ]
  },
  {
   "cell_type": "markdown",
   "id": "3759920c",
   "metadata": {
    "papermill": {
     "duration": 0.011888,
     "end_time": "2025-08-19T18:54:51.176124",
     "exception": false,
     "start_time": "2025-08-19T18:54:51.164236",
     "status": "completed"
    },
    "tags": []
   },
   "source": [
    "# Conformal Prediction"
   ]
  },
  {
   "cell_type": "code",
   "execution_count": 37,
   "id": "14b27f59",
   "metadata": {
    "execution": {
     "iopub.execute_input": "2025-08-19T18:54:51.200545Z",
     "iopub.status.busy": "2025-08-19T18:54:51.199527Z",
     "iopub.status.idle": "2025-08-19T18:54:51.206572Z",
     "shell.execute_reply": "2025-08-19T18:54:51.205362Z"
    },
    "papermill": {
     "duration": 0.02124,
     "end_time": "2025-08-19T18:54:51.208325",
     "exception": false,
     "start_time": "2025-08-19T18:54:51.187085",
     "status": "completed"
    },
    "tags": []
   },
   "outputs": [],
   "source": [
    "# Miscoverage level for conformal prediction (10% allowed error rate => 90% target coverage)\n",
    "alpha = 0.1"
   ]
  },
  {
   "cell_type": "code",
   "execution_count": 38,
   "id": "59102472",
   "metadata": {
    "execution": {
     "iopub.execute_input": "2025-08-19T18:54:51.234424Z",
     "iopub.status.busy": "2025-08-19T18:54:51.233396Z",
     "iopub.status.idle": "2025-08-19T18:54:52.440737Z",
     "shell.execute_reply": "2025-08-19T18:54:52.439641Z"
    },
    "papermill": {
     "duration": 1.223698,
     "end_time": "2025-08-19T18:54:52.444606",
     "exception": false,
     "start_time": "2025-08-19T18:54:51.220908",
     "status": "completed"
    },
    "tags": []
   },
   "outputs": [],
   "source": [
    "probs_calib = model.predict_proba(X_calib)"
   ]
  },
  {
   "cell_type": "code",
   "execution_count": 39,
   "id": "a792d4dd",
   "metadata": {
    "execution": {
     "iopub.execute_input": "2025-08-19T18:54:52.486509Z",
     "iopub.status.busy": "2025-08-19T18:54:52.485446Z",
     "iopub.status.idle": "2025-08-19T18:54:52.493834Z",
     "shell.execute_reply": "2025-08-19T18:54:52.492501Z"
    },
    "papermill": {
     "duration": 0.02433,
     "end_time": "2025-08-19T18:54:52.495340",
     "exception": false,
     "start_time": "2025-08-19T18:54:52.471010",
     "status": "completed"
    },
    "tags": []
   },
   "outputs": [],
   "source": [
    "y_calib = y_calib.values.ravel().astype(int)"
   ]
  },
  {
   "cell_type": "code",
   "execution_count": 40,
   "id": "650fd033",
   "metadata": {
    "execution": {
     "iopub.execute_input": "2025-08-19T18:54:52.520881Z",
     "iopub.status.busy": "2025-08-19T18:54:52.519936Z",
     "iopub.status.idle": "2025-08-19T18:54:52.532086Z",
     "shell.execute_reply": "2025-08-19T18:54:52.530664Z"
    },
    "papermill": {
     "duration": 0.026705,
     "end_time": "2025-08-19T18:54:52.533843",
     "exception": false,
     "start_time": "2025-08-19T18:54:52.507138",
     "status": "completed"
    },
    "tags": []
   },
   "outputs": [],
   "source": [
    "from fairness_multiverse.conformal import compute_nc_scores\n",
    "\n",
    "# Compute nonconformity scores on calibration set (1 - probability of true class)\n",
    "nc_scores = compute_nc_scores(probs_calib, y_calib)"
   ]
  },
  {
   "cell_type": "code",
   "execution_count": 41,
   "id": "28ada44c",
   "metadata": {
    "execution": {
     "iopub.execute_input": "2025-08-19T18:54:52.592854Z",
     "iopub.status.busy": "2025-08-19T18:54:52.579146Z",
     "iopub.status.idle": "2025-08-19T18:54:52.600134Z",
     "shell.execute_reply": "2025-08-19T18:54:52.598814Z"
    },
    "papermill": {
     "duration": 0.036331,
     "end_time": "2025-08-19T18:54:52.602106",
     "exception": false,
     "start_time": "2025-08-19T18:54:52.565775",
     "status": "completed"
    },
    "tags": []
   },
   "outputs": [],
   "source": [
    "from fairness_multiverse.conformal import find_threshold\n",
    "\n",
    "# Find conformal threshold q_hat for the given alpha (split conformal method)\n",
    "q_hat = find_threshold(nc_scores, alpha)"
   ]
  },
  {
   "cell_type": "code",
   "execution_count": 42,
   "id": "df56469e",
   "metadata": {
    "execution": {
     "iopub.execute_input": "2025-08-19T18:54:52.632965Z",
     "iopub.status.busy": "2025-08-19T18:54:52.632571Z",
     "iopub.status.idle": "2025-08-19T18:54:52.638167Z",
     "shell.execute_reply": "2025-08-19T18:54:52.637418Z"
    },
    "papermill": {
     "duration": 0.019602,
     "end_time": "2025-08-19T18:54:52.639455",
     "exception": false,
     "start_time": "2025-08-19T18:54:52.619853",
     "status": "completed"
    },
    "tags": []
   },
   "outputs": [
    {
     "data": {
      "text/plain": [
       "0.6699999999999999"
      ]
     },
     "execution_count": 42,
     "metadata": {},
     "output_type": "execute_result"
    }
   ],
   "source": [
    "q_hat"
   ]
  },
  {
   "cell_type": "code",
   "execution_count": 43,
   "id": "aa1f5faa",
   "metadata": {
    "execution": {
     "iopub.execute_input": "2025-08-19T18:54:52.664816Z",
     "iopub.status.busy": "2025-08-19T18:54:52.664394Z",
     "iopub.status.idle": "2025-08-19T18:54:54.714314Z",
     "shell.execute_reply": "2025-08-19T18:54:54.713192Z"
    },
    "papermill": {
     "duration": 2.064564,
     "end_time": "2025-08-19T18:54:54.716073",
     "exception": false,
     "start_time": "2025-08-19T18:54:52.651509",
     "status": "completed"
    },
    "tags": []
   },
   "outputs": [],
   "source": [
    "from fairness_multiverse.conformal import predict_conformal_sets\n",
    "\n",
    "# Generate prediction sets for each test example\n",
    "pred_sets = predict_conformal_sets(model, X_test, q_hat)"
   ]
  },
  {
   "cell_type": "code",
   "execution_count": 44,
   "id": "97f67a6b",
   "metadata": {
    "execution": {
     "iopub.execute_input": "2025-08-19T18:54:54.756885Z",
     "iopub.status.busy": "2025-08-19T18:54:54.756369Z",
     "iopub.status.idle": "2025-08-19T18:54:54.762345Z",
     "shell.execute_reply": "2025-08-19T18:54:54.761541Z"
    },
    "papermill": {
     "duration": 0.026342,
     "end_time": "2025-08-19T18:54:54.763592",
     "exception": false,
     "start_time": "2025-08-19T18:54:54.737250",
     "status": "completed"
    },
    "tags": []
   },
   "outputs": [],
   "source": [
    "y_true = y_true.squeeze()"
   ]
  },
  {
   "cell_type": "code",
   "execution_count": 45,
   "id": "e700e9a7",
   "metadata": {
    "execution": {
     "iopub.execute_input": "2025-08-19T18:54:54.789217Z",
     "iopub.status.busy": "2025-08-19T18:54:54.788348Z",
     "iopub.status.idle": "2025-08-19T18:54:55.293263Z",
     "shell.execute_reply": "2025-08-19T18:54:55.291981Z"
    },
    "papermill": {
     "duration": 0.519204,
     "end_time": "2025-08-19T18:54:55.295008",
     "exception": false,
     "start_time": "2025-08-19T18:54:54.775804",
     "status": "completed"
    },
    "tags": []
   },
   "outputs": [],
   "source": [
    "from fairness_multiverse.conformal import evaluate_sets\n",
    "\n",
    "# Evaluate coverage and average set size on test data\n",
    "metrics = evaluate_sets(pred_sets, y_true)"
   ]
  },
  {
   "cell_type": "markdown",
   "id": "efbacec0",
   "metadata": {
    "papermill": {
     "duration": 0.011601,
     "end_time": "2025-08-19T18:54:55.318960",
     "exception": false,
     "start_time": "2025-08-19T18:54:55.307359",
     "status": "completed"
    },
    "tags": []
   },
   "source": [
    "# CP Metrics"
   ]
  },
  {
   "cell_type": "code",
   "execution_count": 46,
   "id": "9de55fb1",
   "metadata": {
    "execution": {
     "iopub.execute_input": "2025-08-19T18:54:55.345552Z",
     "iopub.status.busy": "2025-08-19T18:54:55.344418Z",
     "iopub.status.idle": "2025-08-19T18:54:55.357297Z",
     "shell.execute_reply": "2025-08-19T18:54:55.356222Z"
    },
    "papermill": {
     "duration": 0.028208,
     "end_time": "2025-08-19T18:54:55.358680",
     "exception": false,
     "start_time": "2025-08-19T18:54:55.330472",
     "status": "completed"
    },
    "tags": []
   },
   "outputs": [
    {
     "data": {
      "text/plain": [
       "{'coverage': 0.914000668821759, 'avg_size': 1.151655333853528}"
      ]
     },
     "execution_count": 46,
     "metadata": {},
     "output_type": "execute_result"
    }
   ],
   "source": [
    "metrics"
   ]
  },
  {
   "cell_type": "code",
   "execution_count": 47,
   "id": "64c340a1",
   "metadata": {
    "execution": {
     "iopub.execute_input": "2025-08-19T18:54:55.400344Z",
     "iopub.status.busy": "2025-08-19T18:54:55.398943Z",
     "iopub.status.idle": "2025-08-19T18:54:55.409864Z",
     "shell.execute_reply": "2025-08-19T18:54:55.408303Z"
    },
    "papermill": {
     "duration": 0.040367,
     "end_time": "2025-08-19T18:54:55.411521",
     "exception": false,
     "start_time": "2025-08-19T18:54:55.371154",
     "status": "completed"
    },
    "tags": []
   },
   "outputs": [],
   "source": [
    "example_universe = universe.copy()\n",
    "universe_training_year = example_universe.get(\"training_year\")\n",
    "universe_training_size = example_universe.get(\"training_size\")\n",
    "universe_scale = example_universe.get(\"scale\")\n",
    "universe_model = example_universe.get(\"model\")\n",
    "universe_exclude_features = example_universe.get(\"exclude_features\")\n",
    "universe_exclude_subgroups = example_universe.get(\"exclude_subgroups\")"
   ]
  },
  {
   "cell_type": "code",
   "execution_count": 48,
   "id": "dbb53cb4",
   "metadata": {
    "execution": {
     "iopub.execute_input": "2025-08-19T18:54:55.439747Z",
     "iopub.status.busy": "2025-08-19T18:54:55.438701Z",
     "iopub.status.idle": "2025-08-19T18:54:55.449819Z",
     "shell.execute_reply": "2025-08-19T18:54:55.448299Z"
    },
    "papermill": {
     "duration": 0.026006,
     "end_time": "2025-08-19T18:54:55.451355",
     "exception": false,
     "start_time": "2025-08-19T18:54:55.425349",
     "status": "completed"
    },
    "tags": []
   },
   "outputs": [],
   "source": [
    "cp_metrics_dict = {\n",
    "    \"universe_id\": [universe_id],\n",
    "    \"universe_training_year\": [universe_training_year],\n",
    "    \"universe_training_size\": [universe_training_size],\n",
    "    \"universe_scale\": [universe_scale],\n",
    "    \"universe_model\": [universe_model],\n",
    "    \"universe_exclude_features\": [universe_exclude_features],\n",
    "    \"universe_exclude_subgroups\": [universe_exclude_subgroups],\n",
    "    \"q_hat\": [q_hat],\n",
    "    \"coverage\": [metrics[\"coverage\"]],\n",
    "    \"avg_size\": [metrics[\"avg_size\"]],\n",
    "}"
   ]
  },
  {
   "cell_type": "code",
   "execution_count": 49,
   "id": "0d70d4b2",
   "metadata": {
    "execution": {
     "iopub.execute_input": "2025-08-19T18:54:55.481397Z",
     "iopub.status.busy": "2025-08-19T18:54:55.480357Z",
     "iopub.status.idle": "2025-08-19T18:54:55.492924Z",
     "shell.execute_reply": "2025-08-19T18:54:55.491275Z"
    },
    "papermill": {
     "duration": 0.035604,
     "end_time": "2025-08-19T18:54:55.502504",
     "exception": false,
     "start_time": "2025-08-19T18:54:55.466900",
     "status": "completed"
    },
    "tags": []
   },
   "outputs": [],
   "source": [
    "cp_metrics_df = pd.DataFrame(cp_metrics_dict)"
   ]
  },
  {
   "cell_type": "code",
   "execution_count": 50,
   "id": "b494403c",
   "metadata": {
    "execution": {
     "iopub.execute_input": "2025-08-19T18:54:55.540574Z",
     "iopub.status.busy": "2025-08-19T18:54:55.539301Z",
     "iopub.status.idle": "2025-08-19T18:54:55.563235Z",
     "shell.execute_reply": "2025-08-19T18:54:55.562280Z"
    },
    "papermill": {
     "duration": 0.041226,
     "end_time": "2025-08-19T18:54:55.565336",
     "exception": false,
     "start_time": "2025-08-19T18:54:55.524110",
     "status": "completed"
    },
    "tags": []
   },
   "outputs": [
    {
     "data": {
      "text/html": [
       "<div>\n",
       "<style scoped>\n",
       "    .dataframe tbody tr th:only-of-type {\n",
       "        vertical-align: middle;\n",
       "    }\n",
       "\n",
       "    .dataframe tbody tr th {\n",
       "        vertical-align: top;\n",
       "    }\n",
       "\n",
       "    .dataframe thead th {\n",
       "        text-align: right;\n",
       "    }\n",
       "</style>\n",
       "<table border=\"1\" class=\"dataframe\">\n",
       "  <thead>\n",
       "    <tr style=\"text-align: right;\">\n",
       "      <th></th>\n",
       "      <th>universe_id</th>\n",
       "      <th>universe_training_year</th>\n",
       "      <th>universe_training_size</th>\n",
       "      <th>universe_scale</th>\n",
       "      <th>universe_model</th>\n",
       "      <th>universe_exclude_features</th>\n",
       "      <th>universe_exclude_subgroups</th>\n",
       "      <th>q_hat</th>\n",
       "      <th>coverage</th>\n",
       "      <th>avg_size</th>\n",
       "    </tr>\n",
       "  </thead>\n",
       "  <tbody>\n",
       "    <tr>\n",
       "      <th>0</th>\n",
       "      <td>0da585ab060c60c1f57114e361b24cd3</td>\n",
       "      <td>2014</td>\n",
       "      <td>1k</td>\n",
       "      <td>do-not-scale</td>\n",
       "      <td>rf</td>\n",
       "      <td>nationality-sex</td>\n",
       "      <td>keep-all</td>\n",
       "      <td>0.67</td>\n",
       "      <td>0.914001</td>\n",
       "      <td>1.151655</td>\n",
       "    </tr>\n",
       "  </tbody>\n",
       "</table>\n",
       "</div>"
      ],
      "text/plain": [
       "                        universe_id universe_training_year  \\\n",
       "0  0da585ab060c60c1f57114e361b24cd3                   2014   \n",
       "\n",
       "  universe_training_size universe_scale universe_model  \\\n",
       "0                     1k   do-not-scale             rf   \n",
       "\n",
       "  universe_exclude_features universe_exclude_subgroups  q_hat  coverage  \\\n",
       "0           nationality-sex                   keep-all   0.67  0.914001   \n",
       "\n",
       "   avg_size  \n",
       "0  1.151655  "
      ]
     },
     "execution_count": 50,
     "metadata": {},
     "output_type": "execute_result"
    }
   ],
   "source": [
    "cp_metrics_df"
   ]
  },
  {
   "cell_type": "markdown",
   "id": "ed608b0b",
   "metadata": {
    "papermill": {
     "duration": 0.02977,
     "end_time": "2025-08-19T18:54:55.610862",
     "exception": false,
     "start_time": "2025-08-19T18:54:55.581092",
     "status": "completed"
    },
    "tags": []
   },
   "source": [
    "Conditional coverage & looking at subgroups"
   ]
  },
  {
   "cell_type": "code",
   "execution_count": 51,
   "id": "8968c366",
   "metadata": {
    "execution": {
     "iopub.execute_input": "2025-08-19T18:54:55.639064Z",
     "iopub.status.busy": "2025-08-19T18:54:55.637979Z",
     "iopub.status.idle": "2025-08-19T18:54:55.923656Z",
     "shell.execute_reply": "2025-08-19T18:54:55.922956Z"
    },
    "papermill": {
     "duration": 0.302088,
     "end_time": "2025-08-19T18:54:55.926542",
     "exception": false,
     "start_time": "2025-08-19T18:54:55.624454",
     "status": "completed"
    },
    "tags": []
   },
   "outputs": [],
   "source": [
    "from fairness_multiverse.conformal import build_cp_groups\n",
    "\n",
    "cp_groups_df = build_cp_groups(pred_sets, y_true, X_test.index, org_test)"
   ]
  },
  {
   "cell_type": "code",
   "execution_count": 52,
   "id": "292ddabf",
   "metadata": {
    "execution": {
     "iopub.execute_input": "2025-08-19T18:54:55.970574Z",
     "iopub.status.busy": "2025-08-19T18:54:55.969543Z",
     "iopub.status.idle": "2025-08-19T18:54:56.844873Z",
     "shell.execute_reply": "2025-08-19T18:54:56.843630Z"
    },
    "papermill": {
     "duration": 0.892502,
     "end_time": "2025-08-19T18:54:56.846692",
     "exception": false,
     "start_time": "2025-08-19T18:54:55.954190",
     "status": "completed"
    },
    "tags": []
   },
   "outputs": [],
   "source": [
    "# Define covered = 1 if true_label is in the predicted set\n",
    "cp_groups_df['covered'] = cp_groups_df.apply(\n",
    "    lambda r: int(r['true_label'] in r['pred_set']),\n",
    "    axis=1\n",
    ")"
   ]
  },
  {
   "cell_type": "code",
   "execution_count": 53,
   "id": "3a261692",
   "metadata": {
    "execution": {
     "iopub.execute_input": "2025-08-19T18:54:56.878391Z",
     "iopub.status.busy": "2025-08-19T18:54:56.877336Z",
     "iopub.status.idle": "2025-08-19T18:54:56.901956Z",
     "shell.execute_reply": "2025-08-19T18:54:56.900755Z"
    },
    "papermill": {
     "duration": 0.047416,
     "end_time": "2025-08-19T18:54:56.909565",
     "exception": false,
     "start_time": "2025-08-19T18:54:56.862149",
     "status": "completed"
    },
    "tags": []
   },
   "outputs": [],
   "source": [
    "subgroups = ['frau1','nongerman','nongerman_male','nongerman_female']\n",
    "\n",
    "# Conditional coverage for subgroup==1\n",
    "cond_coverage = {\n",
    "    g: cp_groups_df.loc[cp_groups_df[g]==1, 'covered'].mean()\n",
    "    for g in subgroups\n",
    "}"
   ]
  },
  {
   "cell_type": "code",
   "execution_count": 54,
   "id": "894fd600",
   "metadata": {
    "execution": {
     "iopub.execute_input": "2025-08-19T18:54:56.938920Z",
     "iopub.status.busy": "2025-08-19T18:54:56.937826Z",
     "iopub.status.idle": "2025-08-19T18:54:56.951001Z",
     "shell.execute_reply": "2025-08-19T18:54:56.949341Z"
    },
    "papermill": {
     "duration": 0.029684,
     "end_time": "2025-08-19T18:54:56.952794",
     "exception": false,
     "start_time": "2025-08-19T18:54:56.923110",
     "status": "completed"
    },
    "tags": []
   },
   "outputs": [
    {
     "data": {
      "text/plain": [
       "{'frau1': 0.9101226580401671,\n",
       " 'nongerman': 0.9101779599169146,\n",
       " 'nongerman_male': 0.9258758893992615,\n",
       " 'nongerman_female': 0.8842026825633383}"
      ]
     },
     "execution_count": 54,
     "metadata": {},
     "output_type": "execute_result"
    }
   ],
   "source": [
    "cond_coverage"
   ]
  },
  {
   "cell_type": "code",
   "execution_count": 55,
   "id": "942895c7",
   "metadata": {
    "execution": {
     "iopub.execute_input": "2025-08-19T18:54:56.984828Z",
     "iopub.status.busy": "2025-08-19T18:54:56.983463Z",
     "iopub.status.idle": "2025-08-19T18:54:56.995616Z",
     "shell.execute_reply": "2025-08-19T18:54:56.994311Z"
    },
    "papermill": {
     "duration": 0.028154,
     "end_time": "2025-08-19T18:54:56.997285",
     "exception": false,
     "start_time": "2025-08-19T18:54:56.969131",
     "status": "completed"
    },
    "tags": []
   },
   "outputs": [],
   "source": [
    "for subgroup, cov in cond_coverage.items():\n",
    "    cp_metrics_df[f\"cov_{subgroup}\"] = cov"
   ]
  },
  {
   "cell_type": "code",
   "execution_count": 56,
   "id": "3970120f",
   "metadata": {
    "execution": {
     "iopub.execute_input": "2025-08-19T18:54:57.033280Z",
     "iopub.status.busy": "2025-08-19T18:54:57.031782Z",
     "iopub.status.idle": "2025-08-19T18:54:57.057568Z",
     "shell.execute_reply": "2025-08-19T18:54:57.056736Z"
    },
    "papermill": {
     "duration": 0.047786,
     "end_time": "2025-08-19T18:54:57.064304",
     "exception": false,
     "start_time": "2025-08-19T18:54:57.016518",
     "status": "completed"
    },
    "tags": []
   },
   "outputs": [
    {
     "data": {
      "text/html": [
       "<div>\n",
       "<style scoped>\n",
       "    .dataframe tbody tr th:only-of-type {\n",
       "        vertical-align: middle;\n",
       "    }\n",
       "\n",
       "    .dataframe tbody tr th {\n",
       "        vertical-align: top;\n",
       "    }\n",
       "\n",
       "    .dataframe thead th {\n",
       "        text-align: right;\n",
       "    }\n",
       "</style>\n",
       "<table border=\"1\" class=\"dataframe\">\n",
       "  <thead>\n",
       "    <tr style=\"text-align: right;\">\n",
       "      <th></th>\n",
       "      <th>universe_id</th>\n",
       "      <th>universe_training_year</th>\n",
       "      <th>universe_training_size</th>\n",
       "      <th>universe_scale</th>\n",
       "      <th>universe_model</th>\n",
       "      <th>universe_exclude_features</th>\n",
       "      <th>universe_exclude_subgroups</th>\n",
       "      <th>q_hat</th>\n",
       "      <th>coverage</th>\n",
       "      <th>avg_size</th>\n",
       "      <th>cov_frau1</th>\n",
       "      <th>cov_nongerman</th>\n",
       "      <th>cov_nongerman_male</th>\n",
       "      <th>cov_nongerman_female</th>\n",
       "    </tr>\n",
       "  </thead>\n",
       "  <tbody>\n",
       "    <tr>\n",
       "      <th>0</th>\n",
       "      <td>0da585ab060c60c1f57114e361b24cd3</td>\n",
       "      <td>2014</td>\n",
       "      <td>1k</td>\n",
       "      <td>do-not-scale</td>\n",
       "      <td>rf</td>\n",
       "      <td>nationality-sex</td>\n",
       "      <td>keep-all</td>\n",
       "      <td>0.67</td>\n",
       "      <td>0.914001</td>\n",
       "      <td>1.151655</td>\n",
       "      <td>0.910123</td>\n",
       "      <td>0.910178</td>\n",
       "      <td>0.925876</td>\n",
       "      <td>0.884203</td>\n",
       "    </tr>\n",
       "  </tbody>\n",
       "</table>\n",
       "</div>"
      ],
      "text/plain": [
       "                        universe_id universe_training_year  \\\n",
       "0  0da585ab060c60c1f57114e361b24cd3                   2014   \n",
       "\n",
       "  universe_training_size universe_scale universe_model  \\\n",
       "0                     1k   do-not-scale             rf   \n",
       "\n",
       "  universe_exclude_features universe_exclude_subgroups  q_hat  coverage  \\\n",
       "0           nationality-sex                   keep-all   0.67  0.914001   \n",
       "\n",
       "   avg_size  cov_frau1  cov_nongerman  cov_nongerman_male  \\\n",
       "0  1.151655   0.910123       0.910178            0.925876   \n",
       "\n",
       "   cov_nongerman_female  \n",
       "0              0.884203  "
      ]
     },
     "execution_count": 56,
     "metadata": {},
     "output_type": "execute_result"
    }
   ],
   "source": [
    "cp_metrics_df"
   ]
  },
  {
   "cell_type": "markdown",
   "id": "3fc519cc",
   "metadata": {
    "papermill": {
     "duration": 0.01244,
     "end_time": "2025-08-19T18:54:57.091590",
     "exception": false,
     "start_time": "2025-08-19T18:54:57.079150",
     "status": "completed"
    },
    "tags": []
   },
   "source": [
    "# (Fairness) Metrics"
   ]
  },
  {
   "cell_type": "code",
   "execution_count": 57,
   "id": "a2e5e155",
   "metadata": {
    "execution": {
     "iopub.execute_input": "2025-08-19T18:54:57.120363Z",
     "iopub.status.busy": "2025-08-19T18:54:57.119502Z",
     "iopub.status.idle": "2025-08-19T18:54:57.145653Z",
     "shell.execute_reply": "2025-08-19T18:54:57.144048Z"
    },
    "papermill": {
     "duration": 0.043018,
     "end_time": "2025-08-19T18:54:57.147297",
     "exception": false,
     "start_time": "2025-08-19T18:54:57.104279",
     "status": "completed"
    },
    "tags": []
   },
   "outputs": [],
   "source": [
    "colname_to_bin = \"maxdeutsch1\"\n",
    "majority_value = org_train[colname_to_bin].mode()[0]\n",
    "\n",
    "org_test[\"majmin\"] = np.where(org_test[colname_to_bin] == majority_value, \"majority\", \"minority\")"
   ]
  },
  {
   "cell_type": "code",
   "execution_count": 58,
   "id": "17e3e4d5",
   "metadata": {
    "execution": {
     "iopub.execute_input": "2025-08-19T18:54:57.176392Z",
     "iopub.status.busy": "2025-08-19T18:54:57.176002Z",
     "iopub.status.idle": "2025-08-19T18:54:59.055322Z",
     "shell.execute_reply": "2025-08-19T18:54:59.054010Z"
    },
    "papermill": {
     "duration": 1.895544,
     "end_time": "2025-08-19T18:54:59.057022",
     "exception": false,
     "start_time": "2025-08-19T18:54:57.161478",
     "status": "completed"
    },
    "tags": []
   },
   "outputs": [],
   "source": [
    "example_universe = universe.copy()\n",
    "example_universe[\"cutoff\"] = example_universe[\"cutoff\"][0]\n",
    "example_universe[\"eval_fairness_grouping\"] = example_universe[\"eval_fairness_grouping\"][0]\n",
    "fairness_dict, metric_frame = universe_analysis.compute_metrics(\n",
    "    example_universe,\n",
    "    y_pred_prob=probs_test,\n",
    "    y_test=y_true,\n",
    "    org_test=org_test,\n",
    ")"
   ]
  },
  {
   "cell_type": "markdown",
   "id": "1fb7a0e9",
   "metadata": {
    "papermill": {
     "duration": 0.012454,
     "end_time": "2025-08-19T18:54:59.082884",
     "exception": false,
     "start_time": "2025-08-19T18:54:59.070430",
     "status": "completed"
    },
    "tags": []
   },
   "source": [
    "# Overall"
   ]
  },
  {
   "cell_type": "markdown",
   "id": "be1784b1",
   "metadata": {
    "papermill": {
     "duration": 0.012293,
     "end_time": "2025-08-19T18:54:59.107563",
     "exception": false,
     "start_time": "2025-08-19T18:54:59.095270",
     "status": "completed"
    },
    "tags": []
   },
   "source": [
    "Main fairness target: Equalized Odds. Seems to be a better fit than equal opportunity, since we're not only interested in Y = 1. Seems to be a better fit than demographic parity, since we also care about accuracy, not just equal distribution of preds.\n",
    "\n",
    "Pick column for computation of fairness metrics\n",
    "\n",
    "Performance\n",
    "Overall performance measures, most interesting in relation to the measures split by group below"
   ]
  },
  {
   "cell_type": "code",
   "execution_count": 59,
   "id": "b7672bee",
   "metadata": {
    "execution": {
     "iopub.execute_input": "2025-08-19T18:54:59.148252Z",
     "iopub.status.busy": "2025-08-19T18:54:59.147486Z",
     "iopub.status.idle": "2025-08-19T18:54:59.159746Z",
     "shell.execute_reply": "2025-08-19T18:54:59.158731Z"
    },
    "papermill": {
     "duration": 0.042307,
     "end_time": "2025-08-19T18:54:59.171816",
     "exception": false,
     "start_time": "2025-08-19T18:54:59.129509",
     "status": "completed"
    },
    "tags": []
   },
   "outputs": [
    {
     "data": {
      "text/plain": [
       "accuracy                   0.217189\n",
       "balanced accuracy          0.537138\n",
       "f1                         0.240751\n",
       "precision                  0.137481\n",
       "false positive rate        0.893225\n",
       "false negative rate        0.032499\n",
       "selection rate             0.902753\n",
       "count                  89710.000000\n",
       "dtype: float64"
      ]
     },
     "execution_count": 59,
     "metadata": {},
     "output_type": "execute_result"
    }
   ],
   "source": [
    "metric_frame.overall"
   ]
  },
  {
   "cell_type": "markdown",
   "id": "d93333c9",
   "metadata": {
    "papermill": {
     "duration": 0.014114,
     "end_time": "2025-08-19T18:54:59.214715",
     "exception": false,
     "start_time": "2025-08-19T18:54:59.200601",
     "status": "completed"
    },
    "tags": []
   },
   "source": [
    "By Group"
   ]
  },
  {
   "cell_type": "code",
   "execution_count": 60,
   "id": "52256966",
   "metadata": {
    "execution": {
     "iopub.execute_input": "2025-08-19T18:54:59.269310Z",
     "iopub.status.busy": "2025-08-19T18:54:59.268989Z",
     "iopub.status.idle": "2025-08-19T18:54:59.286623Z",
     "shell.execute_reply": "2025-08-19T18:54:59.285722Z"
    },
    "papermill": {
     "duration": 0.038607,
     "end_time": "2025-08-19T18:54:59.289591",
     "exception": false,
     "start_time": "2025-08-19T18:54:59.250984",
     "status": "completed"
    },
    "tags": []
   },
   "outputs": [
    {
     "data": {
      "text/html": [
       "<div>\n",
       "<style scoped>\n",
       "    .dataframe tbody tr th:only-of-type {\n",
       "        vertical-align: middle;\n",
       "    }\n",
       "\n",
       "    .dataframe tbody tr th {\n",
       "        vertical-align: top;\n",
       "    }\n",
       "\n",
       "    .dataframe thead th {\n",
       "        text-align: right;\n",
       "    }\n",
       "</style>\n",
       "<table border=\"1\" class=\"dataframe\">\n",
       "  <thead>\n",
       "    <tr style=\"text-align: right;\">\n",
       "      <th></th>\n",
       "      <th>accuracy</th>\n",
       "      <th>balanced accuracy</th>\n",
       "      <th>f1</th>\n",
       "      <th>precision</th>\n",
       "      <th>false positive rate</th>\n",
       "      <th>false negative rate</th>\n",
       "      <th>selection rate</th>\n",
       "      <th>count</th>\n",
       "    </tr>\n",
       "    <tr>\n",
       "      <th>majmin</th>\n",
       "      <th></th>\n",
       "      <th></th>\n",
       "      <th></th>\n",
       "      <th></th>\n",
       "      <th></th>\n",
       "      <th></th>\n",
       "      <th></th>\n",
       "      <th></th>\n",
       "    </tr>\n",
       "  </thead>\n",
       "  <tbody>\n",
       "    <tr>\n",
       "      <th>majority</th>\n",
       "      <td>0.210033</td>\n",
       "      <td>0.539359</td>\n",
       "      <td>0.248225</td>\n",
       "      <td>0.141965</td>\n",
       "      <td>0.908263</td>\n",
       "      <td>0.013020</td>\n",
       "      <td>0.918664</td>\n",
       "      <td>69170.0</td>\n",
       "    </tr>\n",
       "    <tr>\n",
       "      <th>minority</th>\n",
       "      <td>0.241285</td>\n",
       "      <td>0.524382</td>\n",
       "      <td>0.213327</td>\n",
       "      <td>0.121144</td>\n",
       "      <td>0.843551</td>\n",
       "      <td>0.107686</td>\n",
       "      <td>0.849172</td>\n",
       "      <td>20540.0</td>\n",
       "    </tr>\n",
       "  </tbody>\n",
       "</table>\n",
       "</div>"
      ],
      "text/plain": [
       "          accuracy  balanced accuracy        f1  precision  \\\n",
       "majmin                                                       \n",
       "majority  0.210033           0.539359  0.248225   0.141965   \n",
       "minority  0.241285           0.524382  0.213327   0.121144   \n",
       "\n",
       "          false positive rate  false negative rate  selection rate    count  \n",
       "majmin                                                                       \n",
       "majority             0.908263             0.013020        0.918664  69170.0  \n",
       "minority             0.843551             0.107686        0.849172  20540.0  "
      ]
     },
     "execution_count": 60,
     "metadata": {},
     "output_type": "execute_result"
    }
   ],
   "source": [
    "metric_frame.by_group"
   ]
  },
  {
   "cell_type": "code",
   "execution_count": 61,
   "id": "6e6c20ae",
   "metadata": {
    "execution": {
     "iopub.execute_input": "2025-08-19T18:54:59.316772Z",
     "iopub.status.busy": "2025-08-19T18:54:59.316429Z",
     "iopub.status.idle": "2025-08-19T18:55:01.199937Z",
     "shell.execute_reply": "2025-08-19T18:55:01.198919Z"
    },
    "papermill": {
     "duration": 1.898794,
     "end_time": "2025-08-19T18:55:01.201473",
     "exception": false,
     "start_time": "2025-08-19T18:54:59.302679",
     "status": "completed"
    },
    "tags": []
   },
   "outputs": [
    {
     "data": {
      "text/plain": [
       "array([[<Axes: title={'center': 'accuracy'}, xlabel='majmin'>,\n",
       "        <Axes: title={'center': 'balanced accuracy'}, xlabel='majmin'>,\n",
       "        <Axes: title={'center': 'f1'}, xlabel='majmin'>],\n",
       "       [<Axes: title={'center': 'precision'}, xlabel='majmin'>,\n",
       "        <Axes: title={'center': 'false positive rate'}, xlabel='majmin'>,\n",
       "        <Axes: title={'center': 'false negative rate'}, xlabel='majmin'>],\n",
       "       [<Axes: title={'center': 'selection rate'}, xlabel='majmin'>,\n",
       "        <Axes: title={'center': 'count'}, xlabel='majmin'>,\n",
       "        <Axes: xlabel='majmin'>]], dtype=object)"
      ]
     },
     "execution_count": 61,
     "metadata": {},
     "output_type": "execute_result"
    },
    {
     "data": {
      "image/png": "[encoded data removed]",
      "text/plain": [
       "<Figure size 1200x800 with 9 Axes>"
      ]
     },
     "metadata": {},
     "output_type": "display_data"
    }
   ],
   "source": [
    "# In a graphic\n",
    "metric_frame.by_group.plot.bar(\n",
    "    subplots=True,\n",
    "    layout=[3, 3],\n",
    "    legend=False,\n",
    "    figsize=[12, 8],\n",
    "    title=\"Show all metrics\",\n",
    ")"
   ]
  },
  {
   "cell_type": "markdown",
   "id": "b2e433ae",
   "metadata": {
    "papermill": {
     "duration": 0.027871,
     "end_time": "2025-08-19T18:55:01.246430",
     "exception": false,
     "start_time": "2025-08-19T18:55:01.218559",
     "status": "completed"
    },
    "tags": []
   },
   "source": [
    "# Final Output"
   ]
  },
  {
   "cell_type": "code",
   "execution_count": 62,
   "id": "3871301e",
   "metadata": {
    "execution": {
     "iopub.execute_input": "2025-08-19T18:55:01.279445Z",
     "iopub.status.busy": "2025-08-19T18:55:01.276897Z",
     "iopub.status.idle": "2025-08-19T18:55:01.299555Z",
     "shell.execute_reply": "2025-08-19T18:55:01.298478Z"
    },
    "papermill": {
     "duration": 0.040847,
     "end_time": "2025-08-19T18:55:01.301295",
     "exception": false,
     "start_time": "2025-08-19T18:55:01.260448",
     "status": "completed"
    },
    "tags": []
   },
   "outputs": [
    {
     "data": {
      "text/plain": [
       "4"
      ]
     },
     "execution_count": 62,
     "metadata": {},
     "output_type": "execute_result"
    }
   ],
   "source": [
    "sub_universes = universe_analysis.generate_sub_universes()\n",
    "len(sub_universes)"
   ]
  },
  {
   "cell_type": "code",
   "execution_count": 63,
   "id": "d9cfdaca",
   "metadata": {
    "execution": {
     "iopub.execute_input": "2025-08-19T18:55:01.336236Z",
     "iopub.status.busy": "2025-08-19T18:55:01.335914Z",
     "iopub.status.idle": "2025-08-19T18:55:01.341670Z",
     "shell.execute_reply": "2025-08-19T18:55:01.340609Z"
    },
    "papermill": {
     "duration": 0.021779,
     "end_time": "2025-08-19T18:55:01.342882",
     "exception": false,
     "start_time": "2025-08-19T18:55:01.321103",
     "status": "completed"
    },
    "tags": []
   },
   "outputs": [],
   "source": [
    "def filter_sub_universe_data(sub_universe, org_test):\n",
    "    # Keep all rows — no filtering\n",
    "    keep_rows_mask = np.ones(org_test.shape[0], dtype=bool)\n",
    "\n",
    "    print(f\"[INFO] Keeping all rows: {keep_rows_mask.sum()} rows retained.\")\n",
    "    return keep_rows_mask"
   ]
  },
  {
   "cell_type": "code",
   "execution_count": 64,
   "id": "2bc31ac1",
   "metadata": {
    "execution": {
     "iopub.execute_input": "2025-08-19T18:55:01.371894Z",
     "iopub.status.busy": "2025-08-19T18:55:01.371586Z",
     "iopub.status.idle": "2025-08-19T18:55:08.273255Z",
     "shell.execute_reply": "2025-08-19T18:55:08.271390Z"
    },
    "papermill": {
     "duration": 6.918438,
     "end_time": "2025-08-19T18:55:08.275210",
     "exception": false,
     "start_time": "2025-08-19T18:55:01.356772",
     "status": "completed"
    },
    "tags": []
   },
   "outputs": [
    {
     "name": "stdout",
     "output_type": "stream",
     "text": [
      "Stopping execution_time clock.\n",
      "[INFO] Keeping all rows: 89710 rows retained.\n"
     ]
    },
    {
     "name": "stdout",
     "output_type": "stream",
     "text": [
      "[INFO] Keeping all rows: 89710 rows retained.\n"
     ]
    },
    {
     "name": "stdout",
     "output_type": "stream",
     "text": [
      "[INFO] Keeping all rows: 89710 rows retained.\n"
     ]
    },
    {
     "name": "stdout",
     "output_type": "stream",
     "text": [
      "[INFO] Keeping all rows: 89710 rows retained.\n"
     ]
    },
    {
     "data": {
      "text/html": [
       "<div>\n",
       "<style scoped>\n",
       "    .dataframe tbody tr th:only-of-type {\n",
       "        vertical-align: middle;\n",
       "    }\n",
       "\n",
       "    .dataframe tbody tr th {\n",
       "        vertical-align: top;\n",
       "    }\n",
       "\n",
       "    .dataframe thead th {\n",
       "        text-align: right;\n",
       "    }\n",
       "</style>\n",
       "<table border=\"1\" class=\"dataframe\">\n",
       "  <thead>\n",
       "    <tr style=\"text-align: right;\">\n",
       "      <th></th>\n",
       "      <th>run_no</th>\n",
       "      <th>universe_id</th>\n",
       "      <th>universe_settings</th>\n",
       "      <th>execution_time</th>\n",
       "      <th>test_size_n</th>\n",
       "      <th>test_size_frac</th>\n",
       "      <th>fair_main_equalized_odds_difference</th>\n",
       "      <th>fair_main_equalized_odds_ratio</th>\n",
       "      <th>fair_main_demographic_parity_difference</th>\n",
       "      <th>fair_main_demographic_parity_ratio</th>\n",
       "      <th>...</th>\n",
       "      <th>perf_grp_precision_0</th>\n",
       "      <th>perf_grp_precision_1</th>\n",
       "      <th>perf_grp_false positive rate_0</th>\n",
       "      <th>perf_grp_false positive rate_1</th>\n",
       "      <th>perf_grp_false negative rate_0</th>\n",
       "      <th>perf_grp_false negative rate_1</th>\n",
       "      <th>perf_grp_selection rate_0</th>\n",
       "      <th>perf_grp_selection rate_1</th>\n",
       "      <th>perf_grp_count_0</th>\n",
       "      <th>perf_grp_count_1</th>\n",
       "    </tr>\n",
       "  </thead>\n",
       "  <tbody>\n",
       "    <tr>\n",
       "      <th>0</th>\n",
       "      <td>3</td>\n",
       "      <td>0da585ab060c60c1f57114e361b24cd3</td>\n",
       "      <td>{\"cutoff\": \"quantile_0.1\", \"eval_fairness_grou...</td>\n",
       "      <td>25.316211</td>\n",
       "      <td>89710</td>\n",
       "      <td>1.0</td>\n",
       "      <td>0.094666</td>\n",
       "      <td>0.904085</td>\n",
       "      <td>0.069492</td>\n",
       "      <td>0.924356</td>\n",
       "      <td>...</td>\n",
       "      <td>NaN</td>\n",
       "      <td>NaN</td>\n",
       "      <td>NaN</td>\n",
       "      <td>NaN</td>\n",
       "      <td>NaN</td>\n",
       "      <td>NaN</td>\n",
       "      <td>NaN</td>\n",
       "      <td>NaN</td>\n",
       "      <td>NaN</td>\n",
       "      <td>NaN</td>\n",
       "    </tr>\n",
       "    <tr>\n",
       "      <th>0</th>\n",
       "      <td>3</td>\n",
       "      <td>0da585ab060c60c1f57114e361b24cd3</td>\n",
       "      <td>{\"cutoff\": \"quantile_0.1\", \"eval_fairness_grou...</td>\n",
       "      <td>25.316211</td>\n",
       "      <td>89710</td>\n",
       "      <td>1.0</td>\n",
       "      <td>0.094666</td>\n",
       "      <td>0.904085</td>\n",
       "      <td>0.069492</td>\n",
       "      <td>0.924356</td>\n",
       "      <td>...</td>\n",
       "      <td>0.121144</td>\n",
       "      <td>0.141965</td>\n",
       "      <td>0.843551</td>\n",
       "      <td>0.908263</td>\n",
       "      <td>0.107686</td>\n",
       "      <td>0.013020</td>\n",
       "      <td>0.849172</td>\n",
       "      <td>0.918664</td>\n",
       "      <td>20540.0</td>\n",
       "      <td>69170.0</td>\n",
       "    </tr>\n",
       "    <tr>\n",
       "      <th>0</th>\n",
       "      <td>3</td>\n",
       "      <td>0da585ab060c60c1f57114e361b24cd3</td>\n",
       "      <td>{\"cutoff\": \"quantile_0.25\", \"eval_fairness_gro...</td>\n",
       "      <td>25.316211</td>\n",
       "      <td>89710</td>\n",
       "      <td>1.0</td>\n",
       "      <td>0.114679</td>\n",
       "      <td>0.879605</td>\n",
       "      <td>0.069444</td>\n",
       "      <td>0.913407</td>\n",
       "      <td>...</td>\n",
       "      <td>NaN</td>\n",
       "      <td>NaN</td>\n",
       "      <td>NaN</td>\n",
       "      <td>NaN</td>\n",
       "      <td>NaN</td>\n",
       "      <td>NaN</td>\n",
       "      <td>NaN</td>\n",
       "      <td>NaN</td>\n",
       "      <td>NaN</td>\n",
       "      <td>NaN</td>\n",
       "    </tr>\n",
       "    <tr>\n",
       "      <th>0</th>\n",
       "      <td>3</td>\n",
       "      <td>0da585ab060c60c1f57114e361b24cd3</td>\n",
       "      <td>{\"cutoff\": \"quantile_0.25\", \"eval_fairness_gro...</td>\n",
       "      <td>25.316211</td>\n",
       "      <td>89710</td>\n",
       "      <td>1.0</td>\n",
       "      <td>0.114679</td>\n",
       "      <td>0.879605</td>\n",
       "      <td>0.069444</td>\n",
       "      <td>0.913407</td>\n",
       "      <td>...</td>\n",
       "      <td>0.131862</td>\n",
       "      <td>0.156944</td>\n",
       "      <td>0.718798</td>\n",
       "      <td>0.779044</td>\n",
       "      <td>0.162162</td>\n",
       "      <td>0.047484</td>\n",
       "      <td>0.732522</td>\n",
       "      <td>0.801966</td>\n",
       "      <td>20540.0</td>\n",
       "      <td>69170.0</td>\n",
       "    </tr>\n",
       "  </tbody>\n",
       "</table>\n",
       "<p>4 rows × 50 columns</p>\n",
       "</div>"
      ],
      "text/plain": [
       "  run_no                       universe_id  \\\n",
       "0      3  0da585ab060c60c1f57114e361b24cd3   \n",
       "0      3  0da585ab060c60c1f57114e361b24cd3   \n",
       "0      3  0da585ab060c60c1f57114e361b24cd3   \n",
       "0      3  0da585ab060c60c1f57114e361b24cd3   \n",
       "\n",
       "                                   universe_settings  execution_time  \\\n",
       "0  {\"cutoff\": \"quantile_0.1\", \"eval_fairness_grou...       25.316211   \n",
       "0  {\"cutoff\": \"quantile_0.1\", \"eval_fairness_grou...       25.316211   \n",
       "0  {\"cutoff\": \"quantile_0.25\", \"eval_fairness_gro...       25.316211   \n",
       "0  {\"cutoff\": \"quantile_0.25\", \"eval_fairness_gro...       25.316211   \n",
       "\n",
       "   test_size_n  test_size_frac  fair_main_equalized_odds_difference  \\\n",
       "0        89710             1.0                             0.094666   \n",
       "0        89710             1.0                             0.094666   \n",
       "0        89710             1.0                             0.114679   \n",
       "0        89710             1.0                             0.114679   \n",
       "\n",
       "   fair_main_equalized_odds_ratio  fair_main_demographic_parity_difference  \\\n",
       "0                        0.904085                                 0.069492   \n",
       "0                        0.904085                                 0.069492   \n",
       "0                        0.879605                                 0.069444   \n",
       "0                        0.879605                                 0.069444   \n",
       "\n",
       "   fair_main_demographic_parity_ratio  ...  perf_grp_precision_0  \\\n",
       "0                            0.924356  ...                   NaN   \n",
       "0                            0.924356  ...              0.121144   \n",
       "0                            0.913407  ...                   NaN   \n",
       "0                            0.913407  ...              0.131862   \n",
       "\n",
       "   perf_grp_precision_1  perf_grp_false positive rate_0  \\\n",
       "0                   NaN                             NaN   \n",
       "0              0.141965                        0.843551   \n",
       "0                   NaN                             NaN   \n",
       "0              0.156944                        0.718798   \n",
       "\n",
       "   perf_grp_false positive rate_1  perf_grp_false negative rate_0  \\\n",
       "0                             NaN                             NaN   \n",
       "0                        0.908263                        0.107686   \n",
       "0                             NaN                             NaN   \n",
       "0                        0.779044                        0.162162   \n",
       "\n",
       "   perf_grp_false negative rate_1  perf_grp_selection rate_0  \\\n",
       "0                             NaN                        NaN   \n",
       "0                        0.013020                   0.849172   \n",
       "0                             NaN                        NaN   \n",
       "0                        0.047484                   0.732522   \n",
       "\n",
       "   perf_grp_selection rate_1  perf_grp_count_0  perf_grp_count_1  \n",
       "0                        NaN               NaN               NaN  \n",
       "0                   0.918664           20540.0           69170.0  \n",
       "0                        NaN               NaN               NaN  \n",
       "0                   0.801966           20540.0           69170.0  \n",
       "\n",
       "[4 rows x 50 columns]"
      ]
     },
     "execution_count": 64,
     "metadata": {},
     "output_type": "execute_result"
    }
   ],
   "source": [
    "final_output = universe_analysis.generate_final_output(\n",
    "    y_pred_prob=probs_test,\n",
    "    y_test=y_true,\n",
    "    org_test=org_test,\n",
    "    filter_data=filter_sub_universe_data,\n",
    "    cp_metrics_df=cp_metrics_df,\n",
    "    save=True,\n",
    ")\n",
    "final_output"
   ]
  },
  {
   "cell_type": "code",
   "execution_count": null,
   "id": "8b80a1ff",
   "metadata": {
    "papermill": {
     "duration": 0.014846,
     "end_time": "2025-08-19T18:55:08.308804",
     "exception": false,
     "start_time": "2025-08-19T18:55:08.293958",
     "status": "completed"
    },
    "tags": []
   },
   "outputs": [],
   "source": []
  },
  {
   "cell_type": "code",
   "execution_count": null,
   "id": "275c9fad",
   "metadata": {
    "papermill": {
     "duration": 0.014939,
     "end_time": "2025-08-19T18:55:08.338659",
     "exception": false,
     "start_time": "2025-08-19T18:55:08.323720",
     "status": "completed"
    },
    "tags": []
   },
   "outputs": [],
   "source": []
  }
 ],
 "metadata": {
  "celltoolbar": "Tags",
  "kernelspec": {
   "display_name": "Python (CMA Fairness)",
   "language": "python",
   "name": "cma_fair_env"
  },
  "language_info": {
   "codemirror_mode": {
    "name": "ipython",
    "version": 3
   },
   "file_extension": ".py",
   "mimetype": "text/x-python",
   "name": "python",
   "nbconvert_exporter": "python",
   "pygments_lexer": "ipython3",
   "version": "3.10.12"
  },
  "papermill": {
   "default_parameters": {},
   "duration": 36.283905,
   "end_time": "2025-08-19T18:55:09.483037",
   "environment_variables": {},
   "exception": null,
   "input_path": "universe_analysis.ipynb",
   "output_path": "output/runs/3/notebooks/m_3-0da585ab060c60c1f57114e361b24cd3.ipynb",
   "parameters": {
    "output_dir": "output",
    "run_no": "3",
    "seed": "2023",
    "universe": "{\"cutoff\": [\"quantile_0.1\", \"quantile_0.25\"], \"eval_fairness_grouping\": [\"majority-minority\", \"nationality-all\"], \"exclude_features\": \"nationality-sex\", \"exclude_subgroups\": \"keep-all\", \"model\": \"rf\", \"scale\": \"do-not-scale\", \"training_size\": \"1k\", \"training_year\": \"2014\"}",
    "universe_id": "0da585ab060c60c1f57114e361b24cd3"
   },
   "start_time": "2025-08-19T18:54:33.199132",
   "version": "2.6.0"
  }
 },
 "nbformat": 4,
 "nbformat_minor": 5
}