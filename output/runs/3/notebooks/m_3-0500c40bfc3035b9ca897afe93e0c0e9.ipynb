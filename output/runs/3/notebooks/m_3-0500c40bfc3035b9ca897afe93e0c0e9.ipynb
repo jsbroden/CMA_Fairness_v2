{
 "cells": [
  {
   "cell_type": "markdown",
   "id": "ef23dbb3",
   "metadata": {
    "papermill": {
     "duration": 0.010312,
     "end_time": "2025-08-19T19:12:04.824186",
     "exception": false,
     "start_time": "2025-08-19T19:12:04.813874",
     "status": "completed"
    },
    "tags": []
   },
   "source": [
    "# Setup"
   ]
  },
  {
   "cell_type": "code",
   "execution_count": 1,
   "id": "0bc8e7dc",
   "metadata": {
    "execution": {
     "iopub.execute_input": "2025-08-19T19:12:04.844357Z",
     "iopub.status.busy": "2025-08-19T19:12:04.843259Z",
     "iopub.status.idle": "2025-08-19T19:12:04.867774Z",
     "shell.execute_reply": "2025-08-19T19:12:04.866124Z"
    },
    "papermill": {
     "duration": 0.03658,
     "end_time": "2025-08-19T19:12:04.869582",
     "exception": false,
     "start_time": "2025-08-19T19:12:04.833002",
     "status": "completed"
    },
    "tags": []
   },
   "outputs": [
    {
     "name": "stdout",
     "output_type": "stream",
     "text": [
      "/dss/dsshome1/0C/ra93lal2/cma/CMA_Fairness_v2\n"
     ]
    },
    {
     "name": "stderr",
     "output_type": "stream",
     "text": [
      "/dss/dsshome1/0C/ra93lal2/.local/share/virtualenvs/CMA_Fairness_v2-3j10GkSs/lib/python3.10/site-packages/IPython/core/magics/osm.py:393: UserWarning: This is now an optional IPython functionality, using bookmarks requires you to install the `pickleshare` library.\n",
      "  bkms = self.shell.db.get('bookmarks', {})\n",
      "/dss/dsshome1/0C/ra93lal2/.local/share/virtualenvs/CMA_Fairness_v2-3j10GkSs/lib/python3.10/site-packages/IPython/core/magics/osm.py:417: UserWarning: This is now an optional IPython functionality, setting dhist requires you to install the `pickleshare` library.\n",
      "  self.shell.db['dhist'] = compress_dhist(dhist)[-100:]\n"
     ]
    }
   ],
   "source": [
    "%cd ~/cma/CMA_Fairness_v2"
   ]
  },
  {
   "cell_type": "markdown",
   "id": "9d235661",
   "metadata": {
    "papermill": {
     "duration": 0.008767,
     "end_time": "2025-08-19T19:12:04.887659",
     "exception": false,
     "start_time": "2025-08-19T19:12:04.878892",
     "status": "completed"
    },
    "tags": []
   },
   "source": [
    "The following cell holds the definition of our parameters, these values can be overriden by rendering the with e.g. the following command:\n",
    "\n",
    "papermill -p alpha 0.2 -p ratio 0.3 universe_analysis.ipynb output/test_run.ipynb"
   ]
  },
  {
   "cell_type": "code",
   "execution_count": 2,
   "id": "4a789d8e",
   "metadata": {
    "execution": {
     "iopub.execute_input": "2025-08-19T19:12:04.908134Z",
     "iopub.status.busy": "2025-08-19T19:12:04.906998Z",
     "iopub.status.idle": "2025-08-19T19:12:04.917450Z",
     "shell.execute_reply": "2025-08-19T19:12:04.915978Z"
    },
    "papermill": {
     "duration": 0.022235,
     "end_time": "2025-08-19T19:12:04.918934",
     "exception": false,
     "start_time": "2025-08-19T19:12:04.896699",
     "status": "completed"
    },
    "tags": []
   },
   "outputs": [
    {
     "name": "stdout",
     "output_type": "stream",
     "text": [
      "Current working directory: /dss/dsshome1/0C/ra93lal2/cma/CMA_Fairness_v2\n"
     ]
    }
   ],
   "source": [
    "import os\n",
    "print(\"Current working directory:\", os.getcwd())"
   ]
  },
  {
   "cell_type": "code",
   "execution_count": 3,
   "id": "4132aaed",
   "metadata": {
    "execution": {
     "iopub.execute_input": "2025-08-19T19:12:04.952971Z",
     "iopub.status.busy": "2025-08-19T19:12:04.951140Z",
     "iopub.status.idle": "2025-08-19T19:12:04.962176Z",
     "shell.execute_reply": "2025-08-19T19:12:04.960922Z"
    },
    "papermill": {
     "duration": 0.02478,
     "end_time": "2025-08-19T19:12:04.963829",
     "exception": false,
     "start_time": "2025-08-19T19:12:04.939049",
     "status": "completed"
    },
    "tags": [
     "parameters"
    ]
   },
   "outputs": [],
   "source": [
    "run_no = 0\n",
    "universe_id = \"test\"\n",
    "universe = {\n",
    "    \"training_size\": \"5k\", # \"25k\", \"5k\", \"1k\"\n",
    "    \"training_year\": \"2012_14\", # \"2014\", \"2012_14\", \"2010_14\"\n",
    "    \"scale\": \"scale\", # \"scale\", \"do-not-scale\",\n",
    "    \"model\": \"elasticnet\", # \"logreg\", \"penalized_logreg\", \"rf\", \"gbm\", \"elasticnet\"\n",
    "    \"cutoff\": [\"quantile_0.15\", \"quantile_0.30\"],\n",
    "    \"exclude_features\": \"age\", # \"none\", \"nationality\", \"sex\", \"nationality-sex\", \"age\"\n",
    "    \"exclude_subgroups\": \"drop-non-german\", # \"keep-all\", \"drop-non-german\"\n",
    "    \"eval_fairness_grouping\": [\"majority-minority\", \"nationality-all\"]\n",
    "}\n",
    "\n",
    "output_dir=\"./output\"\n",
    "seed=0"
   ]
  },
  {
   "cell_type": "code",
   "execution_count": 4,
   "id": "19c8faba",
   "metadata": {
    "execution": {
     "iopub.execute_input": "2025-08-19T19:12:04.985722Z",
     "iopub.status.busy": "2025-08-19T19:12:04.985337Z",
     "iopub.status.idle": "2025-08-19T19:12:04.994141Z",
     "shell.execute_reply": "2025-08-19T19:12:04.990280Z"
    },
    "papermill": {
     "duration": 0.019945,
     "end_time": "2025-08-19T19:12:04.995565",
     "exception": false,
     "start_time": "2025-08-19T19:12:04.975620",
     "status": "completed"
    },
    "tags": [
     "injected-parameters"
    ]
   },
   "outputs": [],
   "source": [
    "# Parameters\n",
    "universe_id = \"0500c40bfc3035b9ca897afe93e0c0e9\"\n",
    "run_no = \"3\"\n",
    "universe = \"{\\\"cutoff\\\": [\\\"quantile_0.1\\\", \\\"quantile_0.25\\\"], \\\"eval_fairness_grouping\\\": [\\\"majority-minority\\\", \\\"nationality-all\\\"], \\\"exclude_features\\\": \\\"nationality\\\", \\\"exclude_subgroups\\\": \\\"drop-non-german\\\", \\\"model\\\": \\\"elasticnet\\\", \\\"scale\\\": \\\"do-not-scale\\\", \\\"training_size\\\": \\\"1k\\\", \\\"training_year\\\": \\\"2010_14\\\"}\"\n",
    "output_dir = \"output\"\n",
    "seed = \"2023\"\n"
   ]
  },
  {
   "cell_type": "code",
   "execution_count": 5,
   "id": "a5d7941f",
   "metadata": {
    "execution": {
     "iopub.execute_input": "2025-08-19T19:12:05.015304Z",
     "iopub.status.busy": "2025-08-19T19:12:05.015022Z",
     "iopub.status.idle": "2025-08-19T19:12:05.021108Z",
     "shell.execute_reply": "2025-08-19T19:12:05.019844Z"
    },
    "papermill": {
     "duration": 0.017171,
     "end_time": "2025-08-19T19:12:05.022646",
     "exception": false,
     "start_time": "2025-08-19T19:12:05.005475",
     "status": "completed"
    },
    "tags": []
   },
   "outputs": [],
   "source": [
    "import json\n",
    "if isinstance(universe, str):\n",
    "    universe = json.loads(universe)"
   ]
  },
  {
   "cell_type": "code",
   "execution_count": 6,
   "id": "7076ccb1",
   "metadata": {
    "execution": {
     "iopub.execute_input": "2025-08-19T19:12:05.041714Z",
     "iopub.status.busy": "2025-08-19T19:12:05.041283Z",
     "iopub.status.idle": "2025-08-19T19:12:05.080936Z",
     "shell.execute_reply": "2025-08-19T19:12:05.077396Z"
    },
    "papermill": {
     "duration": 0.050787,
     "end_time": "2025-08-19T19:12:05.082389",
     "exception": false,
     "start_time": "2025-08-19T19:12:05.031602",
     "status": "completed"
    },
    "tags": []
   },
   "outputs": [],
   "source": [
    "# Auto-reload the custom package\n",
    "%load_ext autoreload\n",
    "%autoreload 1\n",
    "%aimport fairness_multiverse"
   ]
  },
  {
   "cell_type": "code",
   "execution_count": 7,
   "id": "94c8eb93",
   "metadata": {
    "execution": {
     "iopub.execute_input": "2025-08-19T19:12:05.102496Z",
     "iopub.status.busy": "2025-08-19T19:12:05.102031Z",
     "iopub.status.idle": "2025-08-19T19:12:06.652588Z",
     "shell.execute_reply": "2025-08-19T19:12:06.651112Z"
    },
    "papermill": {
     "duration": 1.563494,
     "end_time": "2025-08-19T19:12:06.655637",
     "exception": false,
     "start_time": "2025-08-19T19:12:05.092143",
     "status": "completed"
    },
    "tags": []
   },
   "outputs": [],
   "source": [
    "from fairness_multiverse.universe import UniverseAnalysis\n",
    "\n",
    "universe_analysis = UniverseAnalysis(\n",
    "    run_no = run_no,\n",
    "    universe_id = universe_id,\n",
    "    universe = universe,\n",
    "    output_dir=output_dir,\n",
    ")"
   ]
  },
  {
   "cell_type": "code",
   "execution_count": 8,
   "id": "2a6381cf",
   "metadata": {
    "execution": {
     "iopub.execute_input": "2025-08-19T19:12:06.699331Z",
     "iopub.status.busy": "2025-08-19T19:12:06.697593Z",
     "iopub.status.idle": "2025-08-19T19:12:06.710024Z",
     "shell.execute_reply": "2025-08-19T19:12:06.708672Z"
    },
    "papermill": {
     "duration": 0.02866,
     "end_time": "2025-08-19T19:12:06.711531",
     "exception": false,
     "start_time": "2025-08-19T19:12:06.682871",
     "status": "completed"
    },
    "tags": []
   },
   "outputs": [
    {
     "name": "stdout",
     "output_type": "stream",
     "text": [
      "Using Seed: 2023\n"
     ]
    }
   ],
   "source": [
    "import numpy as np\n",
    "parsed_seed = int(seed)\n",
    "np.random.seed(parsed_seed)\n",
    "print(f\"Using Seed: {parsed_seed}\")"
   ]
  },
  {
   "cell_type": "markdown",
   "id": "b6e958b4",
   "metadata": {
    "papermill": {
     "duration": 0.009019,
     "end_time": "2025-08-19T19:12:06.732713",
     "exception": false,
     "start_time": "2025-08-19T19:12:06.723694",
     "status": "completed"
    },
    "tags": []
   },
   "source": [
    "# Loading Data"
   ]
  },
  {
   "cell_type": "code",
   "execution_count": 9,
   "id": "98701482",
   "metadata": {
    "execution": {
     "iopub.execute_input": "2025-08-19T19:12:06.754508Z",
     "iopub.status.busy": "2025-08-19T19:12:06.752957Z",
     "iopub.status.idle": "2025-08-19T19:12:16.947263Z",
     "shell.execute_reply": "2025-08-19T19:12:16.946057Z"
    },
    "papermill": {
     "duration": 10.206831,
     "end_time": "2025-08-19T19:12:16.948662",
     "exception": false,
     "start_time": "2025-08-19T19:12:06.741831",
     "status": "completed"
    },
    "tags": []
   },
   "outputs": [
    {
     "name": "stdout",
     "output_type": "stream",
     "text": [
      "Loading SIAB data from cache: data/siab_cached.csv.gz\n"
     ]
    },
    {
     "name": "stdout",
     "output_type": "stream",
     "text": [
      "(643690, 164)\n"
     ]
    }
   ],
   "source": [
    "from pathlib import Path\n",
    "import pandas as pd\n",
    "\n",
    "# File paths\n",
    "raw_file = Path(\"data/raw/siab.csv\")\n",
    "cache_file = Path(\"data/siab_cached.csv.gz\")\n",
    "\n",
    "# Ensure cache directory exists\n",
    "cache_file.parent.mkdir(parents=True, exist_ok=True)\n",
    "\n",
    "# Load with simple caching\n",
    "if cache_file.exists():\n",
    "    print(f\"Loading SIAB data from cache: {cache_file}\")\n",
    "    siab = pd.read_csv(cache_file, compression='gzip')\n",
    "else:\n",
    "    print(f\"Cache not found. Reading raw SIAB data: {raw_file}\")\n",
    "    siab = pd.read_csv(raw_file)\n",
    "    siab.to_csv(cache_file, index=False, compression='gzip')\n",
    "    print(f\"Cached SIAB data to: {cache_file}\")\n",
    "\n",
    "print(siab.shape)"
   ]
  },
  {
   "cell_type": "code",
   "execution_count": 10,
   "id": "058d2abb",
   "metadata": {
    "execution": {
     "iopub.execute_input": "2025-08-19T19:12:16.979102Z",
     "iopub.status.busy": "2025-08-19T19:12:16.977979Z",
     "iopub.status.idle": "2025-08-19T19:12:17.169294Z",
     "shell.execute_reply": "2025-08-19T19:12:17.168424Z"
    },
    "papermill": {
     "duration": 0.220622,
     "end_time": "2025-08-19T19:12:17.184585",
     "exception": false,
     "start_time": "2025-08-19T19:12:16.963963",
     "status": "completed"
    },
    "tags": []
   },
   "outputs": [
    {
     "data": {
      "text/html": [
       "<div>\n",
       "<style scoped>\n",
       "    .dataframe tbody tr th:only-of-type {\n",
       "        vertical-align: middle;\n",
       "    }\n",
       "\n",
       "    .dataframe tbody tr th {\n",
       "        vertical-align: top;\n",
       "    }\n",
       "\n",
       "    .dataframe thead th {\n",
       "        text-align: right;\n",
       "    }\n",
       "</style>\n",
       "<table border=\"1\" class=\"dataframe\">\n",
       "  <thead>\n",
       "    <tr style=\"text-align: right;\">\n",
       "      <th></th>\n",
       "      <th>persnr</th>\n",
       "      <th>year</th>\n",
       "      <th>nrEntry</th>\n",
       "      <th>ltue</th>\n",
       "      <th>employed_before</th>\n",
       "      <th>receipt_leh_before</th>\n",
       "      <th>receipt_lhg_before</th>\n",
       "      <th>se_before</th>\n",
       "      <th>ASU_notue_seeking_before</th>\n",
       "      <th>ASU_other_before</th>\n",
       "      <th>...</th>\n",
       "      <th>minijob_tot_dur_byage</th>\n",
       "      <th>ft_tot_dur_byage</th>\n",
       "      <th>befrist_tot_dur_byage</th>\n",
       "      <th>leih_tot_dur_byage</th>\n",
       "      <th>LHG_tot_dur_byage</th>\n",
       "      <th>LEH_tot_dur_byage</th>\n",
       "      <th>almp_tot_dur_byage</th>\n",
       "      <th>almp_aw_tot_dur_byage</th>\n",
       "      <th>se_tot_dur_byage</th>\n",
       "      <th>seeking1_tot_dur_byage</th>\n",
       "    </tr>\n",
       "  </thead>\n",
       "  <tbody>\n",
       "    <tr>\n",
       "      <th>0</th>\n",
       "      <td>7</td>\n",
       "      <td>2015</td>\n",
       "      <td>1</td>\n",
       "      <td>0</td>\n",
       "      <td>1</td>\n",
       "      <td>0</td>\n",
       "      <td>0</td>\n",
       "      <td>0</td>\n",
       "      <td>1</td>\n",
       "      <td>0</td>\n",
       "      <td>...</td>\n",
       "      <td>0.000000</td>\n",
       "      <td>0.000000</td>\n",
       "      <td>15.043478</td>\n",
       "      <td>0.000000</td>\n",
       "      <td>0.000000</td>\n",
       "      <td>0.000000</td>\n",
       "      <td>0.000000</td>\n",
       "      <td>0.000000</td>\n",
       "      <td>0.000000</td>\n",
       "      <td>0.000000</td>\n",
       "    </tr>\n",
       "    <tr>\n",
       "      <th>1</th>\n",
       "      <td>18</td>\n",
       "      <td>2010</td>\n",
       "      <td>1</td>\n",
       "      <td>1</td>\n",
       "      <td>0</td>\n",
       "      <td>0</td>\n",
       "      <td>0</td>\n",
       "      <td>0</td>\n",
       "      <td>0</td>\n",
       "      <td>0</td>\n",
       "      <td>...</td>\n",
       "      <td>0.000000</td>\n",
       "      <td>0.000000</td>\n",
       "      <td>0.000000</td>\n",
       "      <td>0.000000</td>\n",
       "      <td>0.000000</td>\n",
       "      <td>0.000000</td>\n",
       "      <td>0.000000</td>\n",
       "      <td>0.000000</td>\n",
       "      <td>0.000000</td>\n",
       "      <td>0.000000</td>\n",
       "    </tr>\n",
       "    <tr>\n",
       "      <th>2</th>\n",
       "      <td>18</td>\n",
       "      <td>2011</td>\n",
       "      <td>2</td>\n",
       "      <td>0</td>\n",
       "      <td>1</td>\n",
       "      <td>0</td>\n",
       "      <td>1</td>\n",
       "      <td>0</td>\n",
       "      <td>1</td>\n",
       "      <td>0</td>\n",
       "      <td>...</td>\n",
       "      <td>2.714286</td>\n",
       "      <td>2.714286</td>\n",
       "      <td>0.000000</td>\n",
       "      <td>0.000000</td>\n",
       "      <td>10.775510</td>\n",
       "      <td>0.000000</td>\n",
       "      <td>8.367347</td>\n",
       "      <td>0.000000</td>\n",
       "      <td>0.000000</td>\n",
       "      <td>9.836735</td>\n",
       "    </tr>\n",
       "    <tr>\n",
       "      <th>3</th>\n",
       "      <td>18</td>\n",
       "      <td>2012</td>\n",
       "      <td>3</td>\n",
       "      <td>0</td>\n",
       "      <td>1</td>\n",
       "      <td>0</td>\n",
       "      <td>1</td>\n",
       "      <td>0</td>\n",
       "      <td>1</td>\n",
       "      <td>0</td>\n",
       "      <td>...</td>\n",
       "      <td>4.200000</td>\n",
       "      <td>4.200000</td>\n",
       "      <td>0.000000</td>\n",
       "      <td>0.000000</td>\n",
       "      <td>12.100000</td>\n",
       "      <td>0.000000</td>\n",
       "      <td>9.400000</td>\n",
       "      <td>0.000000</td>\n",
       "      <td>0.000000</td>\n",
       "      <td>9.960000</td>\n",
       "    </tr>\n",
       "    <tr>\n",
       "      <th>4</th>\n",
       "      <td>18</td>\n",
       "      <td>2012</td>\n",
       "      <td>4</td>\n",
       "      <td>0</td>\n",
       "      <td>1</td>\n",
       "      <td>0</td>\n",
       "      <td>1</td>\n",
       "      <td>0</td>\n",
       "      <td>1</td>\n",
       "      <td>0</td>\n",
       "      <td>...</td>\n",
       "      <td>5.460000</td>\n",
       "      <td>5.460000</td>\n",
       "      <td>0.000000</td>\n",
       "      <td>0.000000</td>\n",
       "      <td>13.360000</td>\n",
       "      <td>0.000000</td>\n",
       "      <td>10.320000</td>\n",
       "      <td>0.000000</td>\n",
       "      <td>0.000000</td>\n",
       "      <td>10.280000</td>\n",
       "    </tr>\n",
       "    <tr>\n",
       "      <th>...</th>\n",
       "      <td>...</td>\n",
       "      <td>...</td>\n",
       "      <td>...</td>\n",
       "      <td>...</td>\n",
       "      <td>...</td>\n",
       "      <td>...</td>\n",
       "      <td>...</td>\n",
       "      <td>...</td>\n",
       "      <td>...</td>\n",
       "      <td>...</td>\n",
       "      <td>...</td>\n",
       "      <td>...</td>\n",
       "      <td>...</td>\n",
       "      <td>...</td>\n",
       "      <td>...</td>\n",
       "      <td>...</td>\n",
       "      <td>...</td>\n",
       "      <td>...</td>\n",
       "      <td>...</td>\n",
       "      <td>...</td>\n",
       "      <td>...</td>\n",
       "    </tr>\n",
       "    <tr>\n",
       "      <th>643685</th>\n",
       "      <td>1827860</td>\n",
       "      <td>2013</td>\n",
       "      <td>1</td>\n",
       "      <td>0</td>\n",
       "      <td>0</td>\n",
       "      <td>0</td>\n",
       "      <td>1</td>\n",
       "      <td>0</td>\n",
       "      <td>0</td>\n",
       "      <td>1</td>\n",
       "      <td>...</td>\n",
       "      <td>0.000000</td>\n",
       "      <td>0.000000</td>\n",
       "      <td>0.000000</td>\n",
       "      <td>0.000000</td>\n",
       "      <td>0.612903</td>\n",
       "      <td>0.000000</td>\n",
       "      <td>0.000000</td>\n",
       "      <td>0.000000</td>\n",
       "      <td>0.000000</td>\n",
       "      <td>0.000000</td>\n",
       "    </tr>\n",
       "    <tr>\n",
       "      <th>643686</th>\n",
       "      <td>1827860</td>\n",
       "      <td>2015</td>\n",
       "      <td>2</td>\n",
       "      <td>1</td>\n",
       "      <td>0</td>\n",
       "      <td>0</td>\n",
       "      <td>1</td>\n",
       "      <td>0</td>\n",
       "      <td>1</td>\n",
       "      <td>0</td>\n",
       "      <td>...</td>\n",
       "      <td>0.000000</td>\n",
       "      <td>0.000000</td>\n",
       "      <td>0.212121</td>\n",
       "      <td>0.212121</td>\n",
       "      <td>17.363636</td>\n",
       "      <td>0.000000</td>\n",
       "      <td>8.909091</td>\n",
       "      <td>0.000000</td>\n",
       "      <td>0.000000</td>\n",
       "      <td>7.121212</td>\n",
       "    </tr>\n",
       "    <tr>\n",
       "      <th>643687</th>\n",
       "      <td>1827860</td>\n",
       "      <td>2016</td>\n",
       "      <td>3</td>\n",
       "      <td>1</td>\n",
       "      <td>0</td>\n",
       "      <td>0</td>\n",
       "      <td>1</td>\n",
       "      <td>1</td>\n",
       "      <td>0</td>\n",
       "      <td>1</td>\n",
       "      <td>...</td>\n",
       "      <td>0.000000</td>\n",
       "      <td>0.000000</td>\n",
       "      <td>0.294118</td>\n",
       "      <td>0.205882</td>\n",
       "      <td>34.705882</td>\n",
       "      <td>0.000000</td>\n",
       "      <td>10.352941</td>\n",
       "      <td>1.705882</td>\n",
       "      <td>1.705882</td>\n",
       "      <td>23.911765</td>\n",
       "    </tr>\n",
       "    <tr>\n",
       "      <th>643688</th>\n",
       "      <td>1827869</td>\n",
       "      <td>2013</td>\n",
       "      <td>1</td>\n",
       "      <td>1</td>\n",
       "      <td>1</td>\n",
       "      <td>0</td>\n",
       "      <td>0</td>\n",
       "      <td>0</td>\n",
       "      <td>1</td>\n",
       "      <td>0</td>\n",
       "      <td>...</td>\n",
       "      <td>0.000000</td>\n",
       "      <td>0.000000</td>\n",
       "      <td>0.000000</td>\n",
       "      <td>0.000000</td>\n",
       "      <td>0.000000</td>\n",
       "      <td>0.525424</td>\n",
       "      <td>0.000000</td>\n",
       "      <td>0.000000</td>\n",
       "      <td>0.000000</td>\n",
       "      <td>0.000000</td>\n",
       "    </tr>\n",
       "    <tr>\n",
       "      <th>643689</th>\n",
       "      <td>1827869</td>\n",
       "      <td>2014</td>\n",
       "      <td>2</td>\n",
       "      <td>0</td>\n",
       "      <td>0</td>\n",
       "      <td>1</td>\n",
       "      <td>0</td>\n",
       "      <td>0</td>\n",
       "      <td>1</td>\n",
       "      <td>0</td>\n",
       "      <td>...</td>\n",
       "      <td>0.000000</td>\n",
       "      <td>0.666667</td>\n",
       "      <td>0.666667</td>\n",
       "      <td>0.000000</td>\n",
       "      <td>0.000000</td>\n",
       "      <td>8.950000</td>\n",
       "      <td>1.033333</td>\n",
       "      <td>0.083333</td>\n",
       "      <td>0.083333</td>\n",
       "      <td>8.133333</td>\n",
       "    </tr>\n",
       "  </tbody>\n",
       "</table>\n",
       "<p>643690 rows × 164 columns</p>\n",
       "</div>"
      ],
      "text/plain": [
       "         persnr  year  nrEntry  ltue  employed_before  receipt_leh_before  \\\n",
       "0             7  2015        1     0                1                   0   \n",
       "1            18  2010        1     1                0                   0   \n",
       "2            18  2011        2     0                1                   0   \n",
       "3            18  2012        3     0                1                   0   \n",
       "4            18  2012        4     0                1                   0   \n",
       "...         ...   ...      ...   ...              ...                 ...   \n",
       "643685  1827860  2013        1     0                0                   0   \n",
       "643686  1827860  2015        2     1                0                   0   \n",
       "643687  1827860  2016        3     1                0                   0   \n",
       "643688  1827869  2013        1     1                1                   0   \n",
       "643689  1827869  2014        2     0                0                   1   \n",
       "\n",
       "        receipt_lhg_before  se_before  ASU_notue_seeking_before  \\\n",
       "0                        0          0                         1   \n",
       "1                        0          0                         0   \n",
       "2                        1          0                         1   \n",
       "3                        1          0                         1   \n",
       "4                        1          0                         1   \n",
       "...                    ...        ...                       ...   \n",
       "643685                   1          0                         0   \n",
       "643686                   1          0                         1   \n",
       "643687                   1          1                         0   \n",
       "643688                   0          0                         1   \n",
       "643689                   0          0                         1   \n",
       "\n",
       "        ASU_other_before  ...  minijob_tot_dur_byage  ft_tot_dur_byage  \\\n",
       "0                      0  ...               0.000000          0.000000   \n",
       "1                      0  ...               0.000000          0.000000   \n",
       "2                      0  ...               2.714286          2.714286   \n",
       "3                      0  ...               4.200000          4.200000   \n",
       "4                      0  ...               5.460000          5.460000   \n",
       "...                  ...  ...                    ...               ...   \n",
       "643685                 1  ...               0.000000          0.000000   \n",
       "643686                 0  ...               0.000000          0.000000   \n",
       "643687                 1  ...               0.000000          0.000000   \n",
       "643688                 0  ...               0.000000          0.000000   \n",
       "643689                 0  ...               0.000000          0.666667   \n",
       "\n",
       "        befrist_tot_dur_byage  leih_tot_dur_byage  LHG_tot_dur_byage  \\\n",
       "0                   15.043478            0.000000           0.000000   \n",
       "1                    0.000000            0.000000           0.000000   \n",
       "2                    0.000000            0.000000          10.775510   \n",
       "3                    0.000000            0.000000          12.100000   \n",
       "4                    0.000000            0.000000          13.360000   \n",
       "...                       ...                 ...                ...   \n",
       "643685               0.000000            0.000000           0.612903   \n",
       "643686               0.212121            0.212121          17.363636   \n",
       "643687               0.294118            0.205882          34.705882   \n",
       "643688               0.000000            0.000000           0.000000   \n",
       "643689               0.666667            0.000000           0.000000   \n",
       "\n",
       "        LEH_tot_dur_byage  almp_tot_dur_byage  almp_aw_tot_dur_byage  \\\n",
       "0                0.000000            0.000000               0.000000   \n",
       "1                0.000000            0.000000               0.000000   \n",
       "2                0.000000            8.367347               0.000000   \n",
       "3                0.000000            9.400000               0.000000   \n",
       "4                0.000000           10.320000               0.000000   \n",
       "...                   ...                 ...                    ...   \n",
       "643685           0.000000            0.000000               0.000000   \n",
       "643686           0.000000            8.909091               0.000000   \n",
       "643687           0.000000           10.352941               1.705882   \n",
       "643688           0.525424            0.000000               0.000000   \n",
       "643689           8.950000            1.033333               0.083333   \n",
       "\n",
       "        se_tot_dur_byage  seeking1_tot_dur_byage  \n",
       "0               0.000000                0.000000  \n",
       "1               0.000000                0.000000  \n",
       "2               0.000000                9.836735  \n",
       "3               0.000000                9.960000  \n",
       "4               0.000000               10.280000  \n",
       "...                  ...                     ...  \n",
       "643685          0.000000                0.000000  \n",
       "643686          0.000000                7.121212  \n",
       "643687          1.705882               23.911765  \n",
       "643688          0.000000                0.000000  \n",
       "643689          0.083333                8.133333  \n",
       "\n",
       "[643690 rows x 164 columns]"
      ]
     },
     "execution_count": 10,
     "metadata": {},
     "output_type": "execute_result"
    }
   ],
   "source": [
    "siab"
   ]
  },
  {
   "cell_type": "markdown",
   "id": "1f87e805",
   "metadata": {
    "papermill": {
     "duration": 0.010388,
     "end_time": "2025-08-19T19:12:17.211919",
     "exception": false,
     "start_time": "2025-08-19T19:12:17.201531",
     "status": "completed"
    },
    "tags": []
   },
   "source": [
    "# Splitting Data and Setting Training Data Size"
   ]
  },
  {
   "cell_type": "code",
   "execution_count": 11,
   "id": "910ae358",
   "metadata": {
    "execution": {
     "iopub.execute_input": "2025-08-19T19:12:17.240659Z",
     "iopub.status.busy": "2025-08-19T19:12:17.239480Z",
     "iopub.status.idle": "2025-08-19T19:12:18.356691Z",
     "shell.execute_reply": "2025-08-19T19:12:18.355488Z"
    },
    "papermill": {
     "duration": 1.136866,
     "end_time": "2025-08-19T19:12:18.358603",
     "exception": false,
     "start_time": "2025-08-19T19:12:17.221737",
     "status": "completed"
    },
    "tags": []
   },
   "outputs": [],
   "source": [
    "from fairness_multiverse.universe import sample_by_year_size\n",
    "\n",
    "siab_train = sample_by_year_size(siab,\n",
    "                               training_year=universe[\"training_year\"],\n",
    "                               training_size=universe[\"training_size\"])"
   ]
  },
  {
   "cell_type": "code",
   "execution_count": 12,
   "id": "919c8ff5",
   "metadata": {
    "execution": {
     "iopub.execute_input": "2025-08-19T19:12:18.380872Z",
     "iopub.status.busy": "2025-08-19T19:12:18.380419Z",
     "iopub.status.idle": "2025-08-19T19:12:18.387798Z",
     "shell.execute_reply": "2025-08-19T19:12:18.386694Z"
    },
    "papermill": {
     "duration": 0.020038,
     "end_time": "2025-08-19T19:12:18.389291",
     "exception": false,
     "start_time": "2025-08-19T19:12:18.369253",
     "status": "completed"
    },
    "tags": []
   },
   "outputs": [
    {
     "data": {
      "text/plain": [
       "(1000, 164)"
      ]
     },
     "execution_count": 12,
     "metadata": {},
     "output_type": "execute_result"
    }
   ],
   "source": [
    "siab_train.shape"
   ]
  },
  {
   "cell_type": "code",
   "execution_count": 13,
   "id": "feb13bf4",
   "metadata": {
    "execution": {
     "iopub.execute_input": "2025-08-19T19:12:18.413964Z",
     "iopub.status.busy": "2025-08-19T19:12:18.413058Z",
     "iopub.status.idle": "2025-08-19T19:12:18.425131Z",
     "shell.execute_reply": "2025-08-19T19:12:18.423871Z"
    },
    "papermill": {
     "duration": 0.025164,
     "end_time": "2025-08-19T19:12:18.426668",
     "exception": false,
     "start_time": "2025-08-19T19:12:18.401504",
     "status": "completed"
    },
    "tags": []
   },
   "outputs": [
    {
     "data": {
      "text/plain": [
       "year\n",
       "2010    200\n",
       "2011    200\n",
       "2012    200\n",
       "2013    200\n",
       "2014    200\n",
       "dtype: int64"
      ]
     },
     "metadata": {},
     "output_type": "display_data"
    }
   ],
   "source": [
    "display(siab_train.groupby(\"year\").size())"
   ]
  },
  {
   "cell_type": "code",
   "execution_count": 14,
   "id": "0997782f",
   "metadata": {
    "execution": {
     "iopub.execute_input": "2025-08-19T19:12:18.454176Z",
     "iopub.status.busy": "2025-08-19T19:12:18.452699Z",
     "iopub.status.idle": "2025-08-19T19:12:18.714130Z",
     "shell.execute_reply": "2025-08-19T19:12:18.713285Z"
    },
    "papermill": {
     "duration": 0.276311,
     "end_time": "2025-08-19T19:12:18.716633",
     "exception": false,
     "start_time": "2025-08-19T19:12:18.440322",
     "status": "completed"
    },
    "tags": []
   },
   "outputs": [],
   "source": [
    "#siab_train = siab_s[siab_s.year < 2015]\n",
    "siab_calib = siab[siab.year == 2015]\n",
    "siab_test = siab[siab.year == 2016]"
   ]
  },
  {
   "cell_type": "code",
   "execution_count": 15,
   "id": "2c1e4012",
   "metadata": {
    "execution": {
     "iopub.execute_input": "2025-08-19T19:12:18.748137Z",
     "iopub.status.busy": "2025-08-19T19:12:18.747469Z",
     "iopub.status.idle": "2025-08-19T19:12:18.753411Z",
     "shell.execute_reply": "2025-08-19T19:12:18.751662Z"
    },
    "papermill": {
     "duration": 0.020614,
     "end_time": "2025-08-19T19:12:18.755909",
     "exception": false,
     "start_time": "2025-08-19T19:12:18.735295",
     "status": "completed"
    },
    "tags": []
   },
   "outputs": [],
   "source": [
    "#siab_calib.shape"
   ]
  },
  {
   "cell_type": "code",
   "execution_count": 16,
   "id": "f66b54ca",
   "metadata": {
    "execution": {
     "iopub.execute_input": "2025-08-19T19:12:18.800541Z",
     "iopub.status.busy": "2025-08-19T19:12:18.799783Z",
     "iopub.status.idle": "2025-08-19T19:12:18.807909Z",
     "shell.execute_reply": "2025-08-19T19:12:18.806211Z"
    },
    "papermill": {
     "duration": 0.036273,
     "end_time": "2025-08-19T19:12:18.809696",
     "exception": false,
     "start_time": "2025-08-19T19:12:18.773423",
     "status": "completed"
    },
    "tags": []
   },
   "outputs": [],
   "source": [
    "#siab_test.shape"
   ]
  },
  {
   "cell_type": "code",
   "execution_count": 17,
   "id": "27e4384d",
   "metadata": {
    "execution": {
     "iopub.execute_input": "2025-08-19T19:12:18.835072Z",
     "iopub.status.busy": "2025-08-19T19:12:18.833909Z",
     "iopub.status.idle": "2025-08-19T19:12:18.844519Z",
     "shell.execute_reply": "2025-08-19T19:12:18.843242Z"
    },
    "papermill": {
     "duration": 0.027853,
     "end_time": "2025-08-19T19:12:18.848743",
     "exception": false,
     "start_time": "2025-08-19T19:12:18.820890",
     "status": "completed"
    },
    "tags": []
   },
   "outputs": [],
   "source": [
    "X_train = siab_train.iloc[:,4:164]\n",
    "y_train = siab_train.iloc[:, [3]]"
   ]
  },
  {
   "cell_type": "code",
   "execution_count": 18,
   "id": "08ee8389",
   "metadata": {
    "execution": {
     "iopub.execute_input": "2025-08-19T19:12:18.875979Z",
     "iopub.status.busy": "2025-08-19T19:12:18.874793Z",
     "iopub.status.idle": "2025-08-19T19:12:18.936815Z",
     "shell.execute_reply": "2025-08-19T19:12:18.936018Z"
    },
    "papermill": {
     "duration": 0.077371,
     "end_time": "2025-08-19T19:12:18.938656",
     "exception": false,
     "start_time": "2025-08-19T19:12:18.861285",
     "status": "completed"
    },
    "tags": []
   },
   "outputs": [],
   "source": [
    "X_calib = siab_calib.iloc[:,4:164]\n",
    "y_calib = siab_calib.iloc[:, [3]]"
   ]
  },
  {
   "cell_type": "code",
   "execution_count": 19,
   "id": "b7ff42e0",
   "metadata": {
    "execution": {
     "iopub.execute_input": "2025-08-19T19:12:18.967773Z",
     "iopub.status.busy": "2025-08-19T19:12:18.967471Z",
     "iopub.status.idle": "2025-08-19T19:12:19.024730Z",
     "shell.execute_reply": "2025-08-19T19:12:19.023791Z"
    },
    "papermill": {
     "duration": 0.071851,
     "end_time": "2025-08-19T19:12:19.026135",
     "exception": false,
     "start_time": "2025-08-19T19:12:18.954284",
     "status": "completed"
    },
    "tags": []
   },
   "outputs": [],
   "source": [
    "X_test = siab_test.iloc[:,4:164]\n",
    "y_true = siab_test.iloc[:, [3]]"
   ]
  },
  {
   "cell_type": "code",
   "execution_count": 20,
   "id": "0275101e",
   "metadata": {
    "execution": {
     "iopub.execute_input": "2025-08-19T19:12:19.053082Z",
     "iopub.status.busy": "2025-08-19T19:12:19.052166Z",
     "iopub.status.idle": "2025-08-19T19:12:19.249422Z",
     "shell.execute_reply": "2025-08-19T19:12:19.248436Z"
    },
    "papermill": {
     "duration": 0.211896,
     "end_time": "2025-08-19T19:12:19.252527",
     "exception": false,
     "start_time": "2025-08-19T19:12:19.040631",
     "status": "completed"
    },
    "tags": []
   },
   "outputs": [],
   "source": [
    "# Auxiliary data needed downstream in the pipeline\n",
    "\n",
    "org_train = X_train.copy()\n",
    "org_test = X_test.copy()\n",
    "org_calib = X_calib.copy()"
   ]
  },
  {
   "cell_type": "markdown",
   "id": "b461e618",
   "metadata": {
    "papermill": {
     "duration": 0.012397,
     "end_time": "2025-08-19T19:12:19.288261",
     "exception": false,
     "start_time": "2025-08-19T19:12:19.275864",
     "status": "completed"
    },
    "tags": []
   },
   "source": [
    "# Preprocessing Data"
   ]
  },
  {
   "cell_type": "code",
   "execution_count": 21,
   "id": "78e74c4b",
   "metadata": {
    "execution": {
     "iopub.execute_input": "2025-08-19T19:12:19.311643Z",
     "iopub.status.busy": "2025-08-19T19:12:19.311150Z",
     "iopub.status.idle": "2025-08-19T19:12:19.316411Z",
     "shell.execute_reply": "2025-08-19T19:12:19.315554Z"
    },
    "papermill": {
     "duration": 0.018454,
     "end_time": "2025-08-19T19:12:19.317775",
     "exception": false,
     "start_time": "2025-08-19T19:12:19.299321",
     "status": "completed"
    },
    "tags": []
   },
   "outputs": [],
   "source": [
    "# EXCLUDE PROTECTED FEATURES\n",
    "# --------------------------\n",
    "\n",
    "excluded_features = universe[\"exclude_features\"].split(\"-\")\n",
    "excluded_features_dictionary = {\n",
    "    \"nationality\": [\"maxdeutsch1\", \"maxdeutsch.Missing.\"],\n",
    "    \"sex\": [\"frau1\"],\n",
    "    \"age\": [\"age\"],\n",
    "}"
   ]
  },
  {
   "cell_type": "code",
   "execution_count": 22,
   "id": "f8e63555",
   "metadata": {
    "execution": {
     "iopub.execute_input": "2025-08-19T19:12:19.347403Z",
     "iopub.status.busy": "2025-08-19T19:12:19.346249Z",
     "iopub.status.idle": "2025-08-19T19:12:19.353983Z",
     "shell.execute_reply": "2025-08-19T19:12:19.352731Z"
    },
    "papermill": {
     "duration": 0.02555,
     "end_time": "2025-08-19T19:12:19.355997",
     "exception": false,
     "start_time": "2025-08-19T19:12:19.330447",
     "status": "completed"
    },
    "tags": []
   },
   "outputs": [],
   "source": [
    "excluded_features_columns = [\n",
    "    excluded_features_dictionary[f] for f in excluded_features if len(f) > 0 and f != \"none\"\n",
    "]"
   ]
  },
  {
   "cell_type": "code",
   "execution_count": 23,
   "id": "da781f7c",
   "metadata": {
    "execution": {
     "iopub.execute_input": "2025-08-19T19:12:19.381177Z",
     "iopub.status.busy": "2025-08-19T19:12:19.379665Z",
     "iopub.status.idle": "2025-08-19T19:12:19.387832Z",
     "shell.execute_reply": "2025-08-19T19:12:19.386275Z"
    },
    "papermill": {
     "duration": 0.022369,
     "end_time": "2025-08-19T19:12:19.389458",
     "exception": false,
     "start_time": "2025-08-19T19:12:19.367089",
     "status": "completed"
    },
    "tags": []
   },
   "outputs": [],
   "source": [
    "from fairness_multiverse.universe import flatten_once\n",
    "\n",
    "excluded_features_columns = flatten_once(excluded_features_columns)"
   ]
  },
  {
   "cell_type": "code",
   "execution_count": 24,
   "id": "37fef0f0",
   "metadata": {
    "execution": {
     "iopub.execute_input": "2025-08-19T19:12:19.416922Z",
     "iopub.status.busy": "2025-08-19T19:12:19.415500Z",
     "iopub.status.idle": "2025-08-19T19:12:19.429767Z",
     "shell.execute_reply": "2025-08-19T19:12:19.427993Z"
    },
    "papermill": {
     "duration": 0.028548,
     "end_time": "2025-08-19T19:12:19.431488",
     "exception": false,
     "start_time": "2025-08-19T19:12:19.402940",
     "status": "completed"
    },
    "tags": []
   },
   "outputs": [
    {
     "name": "stdout",
     "output_type": "stream",
     "text": [
      "Dropping features: ['maxdeutsch1', 'maxdeutsch.Missing.']\n"
     ]
    }
   ],
   "source": [
    "if len(excluded_features_columns) > 0:\n",
    "    print(f\"Dropping features: {excluded_features_columns}\")\n",
    "    X_train.drop(excluded_features_columns, axis=1, inplace=True)"
   ]
  },
  {
   "cell_type": "code",
   "execution_count": 25,
   "id": "d029e3e9",
   "metadata": {
    "execution": {
     "iopub.execute_input": "2025-08-19T19:12:19.463111Z",
     "iopub.status.busy": "2025-08-19T19:12:19.461554Z",
     "iopub.status.idle": "2025-08-19T19:12:19.530833Z",
     "shell.execute_reply": "2025-08-19T19:12:19.529832Z"
    },
    "papermill": {
     "duration": 0.08571,
     "end_time": "2025-08-19T19:12:19.533543",
     "exception": false,
     "start_time": "2025-08-19T19:12:19.447833",
     "status": "completed"
    },
    "tags": []
   },
   "outputs": [
    {
     "name": "stdout",
     "output_type": "stream",
     "text": [
      "Dropping features: ['maxdeutsch1', 'maxdeutsch.Missing.']\n"
     ]
    }
   ],
   "source": [
    "if len(excluded_features_columns) > 0:\n",
    "    print(f\"Dropping features: {excluded_features_columns}\")\n",
    "    X_test.drop(excluded_features_columns, axis=1, inplace=True)"
   ]
  },
  {
   "cell_type": "code",
   "execution_count": 26,
   "id": "01d571f0",
   "metadata": {
    "execution": {
     "iopub.execute_input": "2025-08-19T19:12:19.572011Z",
     "iopub.status.busy": "2025-08-19T19:12:19.571038Z",
     "iopub.status.idle": "2025-08-19T19:12:19.623430Z",
     "shell.execute_reply": "2025-08-19T19:12:19.622512Z"
    },
    "papermill": {
     "duration": 0.067458,
     "end_time": "2025-08-19T19:12:19.624713",
     "exception": false,
     "start_time": "2025-08-19T19:12:19.557255",
     "status": "completed"
    },
    "tags": []
   },
   "outputs": [
    {
     "name": "stdout",
     "output_type": "stream",
     "text": [
      "Dropping features: ['maxdeutsch1', 'maxdeutsch.Missing.']\n"
     ]
    }
   ],
   "source": [
    "if len(excluded_features_columns) > 0:\n",
    "    print(f\"Dropping features: {excluded_features_columns}\")\n",
    "    X_calib.drop(excluded_features_columns, axis=1, inplace=True)"
   ]
  },
  {
   "cell_type": "code",
   "execution_count": 27,
   "id": "3037356e",
   "metadata": {
    "execution": {
     "iopub.execute_input": "2025-08-19T19:12:19.660269Z",
     "iopub.status.busy": "2025-08-19T19:12:19.659724Z",
     "iopub.status.idle": "2025-08-19T19:12:19.667019Z",
     "shell.execute_reply": "2025-08-19T19:12:19.666150Z"
    },
    "papermill": {
     "duration": 0.027695,
     "end_time": "2025-08-19T19:12:19.668449",
     "exception": false,
     "start_time": "2025-08-19T19:12:19.640754",
     "status": "completed"
    },
    "tags": []
   },
   "outputs": [],
   "source": [
    "# EXCLUDE CERTAIN SUBGROUPS\n",
    "# -------------------------\n",
    "\n",
    "mode = universe.get(\"exclude_subgroups\", \"keep-all\") # Defaults to \"keep-all\" if the key is missing."
   ]
  },
  {
   "cell_type": "code",
   "execution_count": 28,
   "id": "9d1e63fd",
   "metadata": {
    "execution": {
     "iopub.execute_input": "2025-08-19T19:12:19.692849Z",
     "iopub.status.busy": "2025-08-19T19:12:19.692571Z",
     "iopub.status.idle": "2025-08-19T19:12:19.765485Z",
     "shell.execute_reply": "2025-08-19T19:12:19.764203Z"
    },
    "papermill": {
     "duration": 0.087426,
     "end_time": "2025-08-19T19:12:19.768028",
     "exception": false,
     "start_time": "2025-08-19T19:12:19.680602",
     "status": "completed"
    },
    "tags": []
   },
   "outputs": [],
   "source": [
    "if mode == \"keep-all\":\n",
    "    keep_mask = pd.Series(True, index=org_train.index)\n",
    "\n",
    "elif mode == \"drop-non-german\":\n",
    "    keep_mask = (org_train[\"maxdeutsch1\"] == 1) & (org_train[\"maxdeutsch.Missing.\"] == 0)\n",
    "\n",
    "else:\n",
    "    raise ValueError(f\"Unsupported mode for exclude_subgroups: {mode}\")"
   ]
  },
  {
   "cell_type": "code",
   "execution_count": 29,
   "id": "d3b65474",
   "metadata": {
    "execution": {
     "iopub.execute_input": "2025-08-19T19:12:19.801022Z",
     "iopub.status.busy": "2025-08-19T19:12:19.800274Z",
     "iopub.status.idle": "2025-08-19T19:12:19.810897Z",
     "shell.execute_reply": "2025-08-19T19:12:19.809475Z"
    },
    "papermill": {
     "duration": 0.025189,
     "end_time": "2025-08-19T19:12:19.812465",
     "exception": false,
     "start_time": "2025-08-19T19:12:19.787276",
     "status": "completed"
    },
    "tags": []
   },
   "outputs": [
    {
     "name": "stdout",
     "output_type": "stream",
     "text": [
      "Dropping 131 rows (13.10%) where mode='drop-non-german'\n"
     ]
    }
   ],
   "source": [
    "n_drop = (~keep_mask).sum() # Calculates how many rows are set to be dropped\n",
    "if n_drop > 0:\n",
    "    pct = n_drop / len(keep_mask) * 100\n",
    "    print(f\"Dropping {n_drop} rows ({pct:.2f}%) where mode='{mode}'\")"
   ]
  },
  {
   "cell_type": "code",
   "execution_count": 30,
   "id": "f44389b3",
   "metadata": {
    "execution": {
     "iopub.execute_input": "2025-08-19T19:12:19.842495Z",
     "iopub.status.busy": "2025-08-19T19:12:19.841783Z",
     "iopub.status.idle": "2025-08-19T19:12:19.851957Z",
     "shell.execute_reply": "2025-08-19T19:12:19.850527Z"
    },
    "papermill": {
     "duration": 0.025381,
     "end_time": "2025-08-19T19:12:19.853694",
     "exception": false,
     "start_time": "2025-08-19T19:12:19.828313",
     "status": "completed"
    },
    "tags": []
   },
   "outputs": [],
   "source": [
    "X_train = X_train[keep_mask]"
   ]
  },
  {
   "cell_type": "code",
   "execution_count": 31,
   "id": "ceca8c2a",
   "metadata": {
    "execution": {
     "iopub.execute_input": "2025-08-19T19:12:19.899713Z",
     "iopub.status.busy": "2025-08-19T19:12:19.899108Z",
     "iopub.status.idle": "2025-08-19T19:12:19.908607Z",
     "shell.execute_reply": "2025-08-19T19:12:19.906569Z"
    },
    "papermill": {
     "duration": 0.056837,
     "end_time": "2025-08-19T19:12:19.927549",
     "exception": false,
     "start_time": "2025-08-19T19:12:19.870712",
     "status": "completed"
    },
    "tags": []
   },
   "outputs": [],
   "source": [
    "y_train = y_train[keep_mask]"
   ]
  },
  {
   "cell_type": "markdown",
   "id": "04d31e2f",
   "metadata": {
    "papermill": {
     "duration": 0.013253,
     "end_time": "2025-08-19T19:12:19.961245",
     "exception": false,
     "start_time": "2025-08-19T19:12:19.947992",
     "status": "completed"
    },
    "tags": []
   },
   "source": [
    "# Model Training"
   ]
  },
  {
   "cell_type": "code",
   "execution_count": 32,
   "id": "db991733",
   "metadata": {
    "execution": {
     "iopub.execute_input": "2025-08-19T19:12:19.985818Z",
     "iopub.status.busy": "2025-08-19T19:12:19.985489Z",
     "iopub.status.idle": "2025-08-19T19:12:20.136613Z",
     "shell.execute_reply": "2025-08-19T19:12:20.135257Z"
    },
    "papermill": {
     "duration": 0.165916,
     "end_time": "2025-08-19T19:12:20.138645",
     "exception": false,
     "start_time": "2025-08-19T19:12:19.972729",
     "status": "completed"
    },
    "tags": []
   },
   "outputs": [],
   "source": [
    "from sklearn.linear_model import LogisticRegression\n",
    "from sklearn.ensemble import GradientBoostingClassifier, RandomForestClassifier\n",
    "\n",
    "if (universe[\"model\"] == \"logreg\"):\n",
    "    model = LogisticRegression() #penalty=\"none\", solver=\"newton-cg\", max_iter=1)\n",
    "elif (universe[\"model\"] == \"penalized_logreg\"):\n",
    "    model = LogisticRegression(penalty=\"l2\", C=0.1) #, solver=\"newton-cg\", max_iter=1)\n",
    "elif (universe[\"model\"] == \"rf\"):\n",
    "    model = RandomForestClassifier() # n_estimators=100, n_jobs=-1\n",
    "elif (universe[\"model\"] == \"gbm\"):\n",
    "    model = GradientBoostingClassifier()\n",
    "elif (universe[\"model\"] == \"elasticnet\"):\n",
    "    model = LogisticRegression(penalty = 'elasticnet', solver = 'saga', l1_ratio = 0.5) # max_iter=5000\n",
    "else:\n",
    "    raise \"Unsupported universe.model\""
   ]
  },
  {
   "cell_type": "code",
   "execution_count": 33,
   "id": "a4b5cd25",
   "metadata": {
    "execution": {
     "iopub.execute_input": "2025-08-19T19:12:20.169137Z",
     "iopub.status.busy": "2025-08-19T19:12:20.167291Z",
     "iopub.status.idle": "2025-08-19T19:12:20.185833Z",
     "shell.execute_reply": "2025-08-19T19:12:20.184627Z"
    },
    "papermill": {
     "duration": 0.047841,
     "end_time": "2025-08-19T19:12:20.199089",
     "exception": false,
     "start_time": "2025-08-19T19:12:20.151248",
     "status": "completed"
    },
    "tags": []
   },
   "outputs": [],
   "source": [
    "from sklearn.pipeline import Pipeline\n",
    "from sklearn.preprocessing import StandardScaler\n",
    "\n",
    "model = Pipeline([\n",
    "    #(\"continuous_processor\", continuous_processor),\n",
    "    #(\"categorical_preprocessor\", categorical_preprocessor),\n",
    "    (\"scale\", StandardScaler() if universe[\"scale\"] == \"scale\" else None), \n",
    "    (\"model\", model),\n",
    "])"
   ]
  },
  {
   "cell_type": "code",
   "execution_count": 34,
   "id": "283a904d",
   "metadata": {
    "execution": {
     "iopub.execute_input": "2025-08-19T19:12:20.242946Z",
     "iopub.status.busy": "2025-08-19T19:12:20.242600Z",
     "iopub.status.idle": "2025-08-19T19:12:20.477543Z",
     "shell.execute_reply": "2025-08-19T19:12:20.476522Z"
    },
    "papermill": {
     "duration": 0.259923,
     "end_time": "2025-08-19T19:12:20.483851",
     "exception": false,
     "start_time": "2025-08-19T19:12:20.223928",
     "status": "completed"
    },
    "tags": []
   },
   "outputs": [
    {
     "name": "stderr",
     "output_type": "stream",
     "text": [
      "/dss/dsshome1/0C/ra93lal2/.local/share/virtualenvs/CMA_Fairness_v2-3j10GkSs/lib/python3.10/site-packages/sklearn/linear_model/_sag.py:350: ConvergenceWarning: The max_iter was reached which means the coef_ did not converge\n",
      "  warnings.warn(\n"
     ]
    },
    {
     "data": {
      "text/html": [
       "<style>#sk-container-id-1 {color: black;background-color: white;}#sk-container-id-1 pre{padding: 0;}#sk-container-id-1 div.sk-toggleable {background-color: white;}#sk-container-id-1 label.sk-toggleable__label {cursor: pointer;display: block;width: 100%;margin-bottom: 0;padding: 0.3em;box-sizing: border-box;text-align: center;}#sk-container-id-1 label.sk-toggleable__label-arrow:before {content: \"▸\";float: left;margin-right: 0.25em;color: #696969;}#sk-container-id-1 label.sk-toggleable__label-arrow:hover:before {color: black;}#sk-container-id-1 div.sk-estimator:hover label.sk-toggleable__label-arrow:before {color: black;}#sk-container-id-1 div.sk-toggleable__content {max-height: 0;max-width: 0;overflow: hidden;text-align: left;background-color: #f0f8ff;}#sk-container-id-1 div.sk-toggleable__content pre {margin: 0.2em;color: black;border-radius: 0.25em;background-color: #f0f8ff;}#sk-container-id-1 input.sk-toggleable__control:checked~div.sk-toggleable__content {max-height: 200px;max-width: 100%;overflow: auto;}#sk-container-id-1 input.sk-toggleable__control:checked~label.sk-toggleable__label-arrow:before {content: \"▾\";}#sk-container-id-1 div.sk-estimator input.sk-toggleable__control:checked~label.sk-toggleable__label {background-color: #d4ebff;}#sk-container-id-1 div.sk-label input.sk-toggleable__control:checked~label.sk-toggleable__label {background-color: #d4ebff;}#sk-container-id-1 input.sk-hidden--visually {border: 0;clip: rect(1px 1px 1px 1px);clip: rect(1px, 1px, 1px, 1px);height: 1px;margin: -1px;overflow: hidden;padding: 0;position: absolute;width: 1px;}#sk-container-id-1 div.sk-estimator {font-family: monospace;background-color: #f0f8ff;border: 1px dotted black;border-radius: 0.25em;box-sizing: border-box;margin-bottom: 0.5em;}#sk-container-id-1 div.sk-estimator:hover {background-color: #d4ebff;}#sk-container-id-1 div.sk-parallel-item::after {content: \"\";width: 100%;border-bottom: 1px solid gray;flex-grow: 1;}#sk-container-id-1 div.sk-label:hover label.sk-toggleable__label {background-color: #d4ebff;}#sk-container-id-1 div.sk-serial::before {content: \"\";position: absolute;border-left: 1px solid gray;box-sizing: border-box;top: 0;bottom: 0;left: 50%;z-index: 0;}#sk-container-id-1 div.sk-serial {display: flex;flex-direction: column;align-items: center;background-color: white;padding-right: 0.2em;padding-left: 0.2em;position: relative;}#sk-container-id-1 div.sk-item {position: relative;z-index: 1;}#sk-container-id-1 div.sk-parallel {display: flex;align-items: stretch;justify-content: center;background-color: white;position: relative;}#sk-container-id-1 div.sk-item::before, #sk-container-id-1 div.sk-parallel-item::before {content: \"\";position: absolute;border-left: 1px solid gray;box-sizing: border-box;top: 0;bottom: 0;left: 50%;z-index: -1;}#sk-container-id-1 div.sk-parallel-item {display: flex;flex-direction: column;z-index: 1;position: relative;background-color: white;}#sk-container-id-1 div.sk-parallel-item:first-child::after {align-self: flex-end;width: 50%;}#sk-container-id-1 div.sk-parallel-item:last-child::after {align-self: flex-start;width: 50%;}#sk-container-id-1 div.sk-parallel-item:only-child::after {width: 0;}#sk-container-id-1 div.sk-dashed-wrapped {border: 1px dashed gray;margin: 0 0.4em 0.5em 0.4em;box-sizing: border-box;padding-bottom: 0.4em;background-color: white;}#sk-container-id-1 div.sk-label label {font-family: monospace;font-weight: bold;display: inline-block;line-height: 1.2em;}#sk-container-id-1 div.sk-label-container {text-align: center;}#sk-container-id-1 div.sk-container {/* jupyter's `normalize.less` sets `[hidden] { display: none; }` but bootstrap.min.css set `[hidden] { display: none !important; }` so we also need the `!important` here to be able to override the default hidden behavior on the sphinx rendered scikit-learn.org. See: https://github.com/scikit-learn/scikit-learn/issues/21755 */display: inline-block !important;position: relative;}#sk-container-id-1 div.sk-text-repr-fallback {display: none;}</style><div id=\"sk-container-id-1\" class=\"sk-top-container\"><div class=\"sk-text-repr-fallback\"><pre>Pipeline(steps=[(&#x27;scale&#x27;, None),\n",
       "                (&#x27;model&#x27;,\n",
       "                 LogisticRegression(l1_ratio=0.5, penalty=&#x27;elasticnet&#x27;,\n",
       "                                    solver=&#x27;saga&#x27;))])</pre><b>In a Jupyter environment, please rerun this cell to show the HTML representation or trust the notebook. <br />On GitHub, the HTML representation is unable to render, please try loading this page with nbviewer.org.</b></div><div class=\"sk-container\" hidden><div class=\"sk-item sk-dashed-wrapped\"><div class=\"sk-label-container\"><div class=\"sk-label sk-toggleable\"><input class=\"sk-toggleable__control sk-hidden--visually\" id=\"sk-estimator-id-1\" type=\"checkbox\" ><label for=\"sk-estimator-id-1\" class=\"sk-toggleable__label sk-toggleable__label-arrow\">Pipeline</label><div class=\"sk-toggleable__content\"><pre>Pipeline(steps=[(&#x27;scale&#x27;, None),\n",
       "                (&#x27;model&#x27;,\n",
       "                 LogisticRegression(l1_ratio=0.5, penalty=&#x27;elasticnet&#x27;,\n",
       "                                    solver=&#x27;saga&#x27;))])</pre></div></div></div><div class=\"sk-serial\"><div class=\"sk-item\"><div class=\"sk-estimator sk-toggleable\"><input class=\"sk-toggleable__control sk-hidden--visually\" id=\"sk-estimator-id-2\" type=\"checkbox\" ><label for=\"sk-estimator-id-2\" class=\"sk-toggleable__label sk-toggleable__label-arrow\">None</label><div class=\"sk-toggleable__content\"><pre>None</pre></div></div></div><div class=\"sk-item\"><div class=\"sk-estimator sk-toggleable\"><input class=\"sk-toggleable__control sk-hidden--visually\" id=\"sk-estimator-id-3\" type=\"checkbox\" ><label for=\"sk-estimator-id-3\" class=\"sk-toggleable__label sk-toggleable__label-arrow\">LogisticRegression</label><div class=\"sk-toggleable__content\"><pre>LogisticRegression(l1_ratio=0.5, penalty=&#x27;elasticnet&#x27;, solver=&#x27;saga&#x27;)</pre></div></div></div></div></div></div></div>"
      ],
      "text/plain": [
       "Pipeline(steps=[('scale', None),\n",
       "                ('model',\n",
       "                 LogisticRegression(l1_ratio=0.5, penalty='elasticnet',\n",
       "                                    solver='saga'))])"
      ]
     },
     "execution_count": 34,
     "metadata": {},
     "output_type": "execute_result"
    }
   ],
   "source": [
    "model.fit(X_train, y_train.values.ravel())"
   ]
  },
  {
   "cell_type": "code",
   "execution_count": 35,
   "id": "6e15e313",
   "metadata": {
    "execution": {
     "iopub.execute_input": "2025-08-19T19:12:20.527694Z",
     "iopub.status.busy": "2025-08-19T19:12:20.526424Z",
     "iopub.status.idle": "2025-08-19T19:12:20.634003Z",
     "shell.execute_reply": "2025-08-19T19:12:20.633120Z"
    },
    "papermill": {
     "duration": 0.123861,
     "end_time": "2025-08-19T19:12:20.636704",
     "exception": false,
     "start_time": "2025-08-19T19:12:20.512843",
     "status": "completed"
    },
    "tags": []
   },
   "outputs": [
    {
     "data": {
      "text/plain": [
       "0.868152937242225"
      ]
     },
     "execution_count": 35,
     "metadata": {},
     "output_type": "execute_result"
    }
   ],
   "source": [
    "from fairness_multiverse.universe import predict_w_threshold\n",
    "\n",
    "probs_test = model.predict_proba(X_test)\n",
    "\n",
    "'''\n",
    "Below code returns a boolean array (or binary 0/1 array depending on how it’s used) where each element \n",
    "is True if the probability of class 1 is greater than or equal to the threshold, and False otherwise.\n",
    "'''\n",
    "y_pred_default = predict_w_threshold(probs_test, 0.5)\n",
    "\n",
    "from sklearn.metrics import accuracy_score\n",
    "\n",
    "# Naive prediction\n",
    "accuracy_score(y_true = y_true, y_pred = y_pred_default)"
   ]
  },
  {
   "cell_type": "code",
   "execution_count": 36,
   "id": "6f14067c",
   "metadata": {
    "execution": {
     "iopub.execute_input": "2025-08-19T19:12:20.683427Z",
     "iopub.status.busy": "2025-08-19T19:12:20.682134Z",
     "iopub.status.idle": "2025-08-19T19:12:20.779251Z",
     "shell.execute_reply": "2025-08-19T19:12:20.778280Z"
    },
    "papermill": {
     "duration": 0.118758,
     "end_time": "2025-08-19T19:12:20.781945",
     "exception": false,
     "start_time": "2025-08-19T19:12:20.663187",
     "status": "completed"
    },
    "tags": []
   },
   "outputs": [
    {
     "data": {
      "text/plain": [
       "array([0, 0, 0, ..., 0, 0, 0])"
      ]
     },
     "execution_count": 36,
     "metadata": {},
     "output_type": "execute_result"
    }
   ],
   "source": [
    "model.predict(X_test)"
   ]
  },
  {
   "cell_type": "markdown",
   "id": "3759920c",
   "metadata": {
    "papermill": {
     "duration": 0.013171,
     "end_time": "2025-08-19T19:12:20.822135",
     "exception": false,
     "start_time": "2025-08-19T19:12:20.808964",
     "status": "completed"
    },
    "tags": []
   },
   "source": [
    "# Conformal Prediction"
   ]
  },
  {
   "cell_type": "code",
   "execution_count": 37,
   "id": "14b27f59",
   "metadata": {
    "execution": {
     "iopub.execute_input": "2025-08-19T19:12:20.869961Z",
     "iopub.status.busy": "2025-08-19T19:12:20.868352Z",
     "iopub.status.idle": "2025-08-19T19:12:20.876359Z",
     "shell.execute_reply": "2025-08-19T19:12:20.875050Z"
    },
    "papermill": {
     "duration": 0.028992,
     "end_time": "2025-08-19T19:12:20.878248",
     "exception": false,
     "start_time": "2025-08-19T19:12:20.849256",
     "status": "completed"
    },
    "tags": []
   },
   "outputs": [],
   "source": [
    "# Miscoverage level for conformal prediction (10% allowed error rate => 90% target coverage)\n",
    "alpha = 0.1"
   ]
  },
  {
   "cell_type": "code",
   "execution_count": 38,
   "id": "59102472",
   "metadata": {
    "execution": {
     "iopub.execute_input": "2025-08-19T19:12:20.908981Z",
     "iopub.status.busy": "2025-08-19T19:12:20.906560Z",
     "iopub.status.idle": "2025-08-19T19:12:21.020099Z",
     "shell.execute_reply": "2025-08-19T19:12:21.019177Z"
    },
    "papermill": {
     "duration": 0.130222,
     "end_time": "2025-08-19T19:12:21.022174",
     "exception": false,
     "start_time": "2025-08-19T19:12:20.891952",
     "status": "completed"
    },
    "tags": []
   },
   "outputs": [],
   "source": [
    "probs_calib = model.predict_proba(X_calib)"
   ]
  },
  {
   "cell_type": "code",
   "execution_count": 39,
   "id": "a792d4dd",
   "metadata": {
    "execution": {
     "iopub.execute_input": "2025-08-19T19:12:21.059545Z",
     "iopub.status.busy": "2025-08-19T19:12:21.057898Z",
     "iopub.status.idle": "2025-08-19T19:12:21.067767Z",
     "shell.execute_reply": "2025-08-19T19:12:21.066720Z"
    },
    "papermill": {
     "duration": 0.032849,
     "end_time": "2025-08-19T19:12:21.069883",
     "exception": false,
     "start_time": "2025-08-19T19:12:21.037034",
     "status": "completed"
    },
    "tags": []
   },
   "outputs": [],
   "source": [
    "y_calib = y_calib.values.ravel().astype(int)"
   ]
  },
  {
   "cell_type": "code",
   "execution_count": 40,
   "id": "650fd033",
   "metadata": {
    "execution": {
     "iopub.execute_input": "2025-08-19T19:12:21.107269Z",
     "iopub.status.busy": "2025-08-19T19:12:21.106788Z",
     "iopub.status.idle": "2025-08-19T19:12:21.119109Z",
     "shell.execute_reply": "2025-08-19T19:12:21.118149Z"
    },
    "papermill": {
     "duration": 0.029496,
     "end_time": "2025-08-19T19:12:21.121235",
     "exception": false,
     "start_time": "2025-08-19T19:12:21.091739",
     "status": "completed"
    },
    "tags": []
   },
   "outputs": [],
   "source": [
    "from fairness_multiverse.conformal import compute_nc_scores\n",
    "\n",
    "# Compute nonconformity scores on calibration set (1 - probability of true class)\n",
    "nc_scores = compute_nc_scores(probs_calib, y_calib)"
   ]
  },
  {
   "cell_type": "code",
   "execution_count": 41,
   "id": "28ada44c",
   "metadata": {
    "execution": {
     "iopub.execute_input": "2025-08-19T19:12:21.149655Z",
     "iopub.status.busy": "2025-08-19T19:12:21.148878Z",
     "iopub.status.idle": "2025-08-19T19:12:21.154648Z",
     "shell.execute_reply": "2025-08-19T19:12:21.153823Z"
    },
    "papermill": {
     "duration": 0.021377,
     "end_time": "2025-08-19T19:12:21.156202",
     "exception": false,
     "start_time": "2025-08-19T19:12:21.134825",
     "status": "completed"
    },
    "tags": []
   },
   "outputs": [],
   "source": [
    "from fairness_multiverse.conformal import find_threshold\n",
    "\n",
    "# Find conformal threshold q_hat for the given alpha (split conformal method)\n",
    "q_hat = find_threshold(nc_scores, alpha)"
   ]
  },
  {
   "cell_type": "code",
   "execution_count": 42,
   "id": "df56469e",
   "metadata": {
    "execution": {
     "iopub.execute_input": "2025-08-19T19:12:21.188746Z",
     "iopub.status.busy": "2025-08-19T19:12:21.187893Z",
     "iopub.status.idle": "2025-08-19T19:12:21.277316Z",
     "shell.execute_reply": "2025-08-19T19:12:21.275740Z"
    },
    "papermill": {
     "duration": 0.106104,
     "end_time": "2025-08-19T19:12:21.279411",
     "exception": false,
     "start_time": "2025-08-19T19:12:21.173307",
     "status": "completed"
    },
    "tags": []
   },
   "outputs": [
    {
     "data": {
      "text/plain": [
       "0.6957727321617596"
      ]
     },
     "execution_count": 42,
     "metadata": {},
     "output_type": "execute_result"
    }
   ],
   "source": [
    "q_hat"
   ]
  },
  {
   "cell_type": "code",
   "execution_count": 43,
   "id": "aa1f5faa",
   "metadata": {
    "execution": {
     "iopub.execute_input": "2025-08-19T19:12:21.307510Z",
     "iopub.status.busy": "2025-08-19T19:12:21.306200Z",
     "iopub.status.idle": "2025-08-19T19:12:21.940768Z",
     "shell.execute_reply": "2025-08-19T19:12:21.939864Z"
    },
    "papermill": {
     "duration": 0.650201,
     "end_time": "2025-08-19T19:12:21.942834",
     "exception": false,
     "start_time": "2025-08-19T19:12:21.292633",
     "status": "completed"
    },
    "tags": []
   },
   "outputs": [],
   "source": [
    "from fairness_multiverse.conformal import predict_conformal_sets\n",
    "\n",
    "# Generate prediction sets for each test example\n",
    "pred_sets = predict_conformal_sets(model, X_test, q_hat)"
   ]
  },
  {
   "cell_type": "code",
   "execution_count": 44,
   "id": "97f67a6b",
   "metadata": {
    "execution": {
     "iopub.execute_input": "2025-08-19T19:12:21.975130Z",
     "iopub.status.busy": "2025-08-19T19:12:21.974435Z",
     "iopub.status.idle": "2025-08-19T19:12:21.979394Z",
     "shell.execute_reply": "2025-08-19T19:12:21.978618Z"
    },
    "papermill": {
     "duration": 0.02136,
     "end_time": "2025-08-19T19:12:21.980556",
     "exception": false,
     "start_time": "2025-08-19T19:12:21.959196",
     "status": "completed"
    },
    "tags": []
   },
   "outputs": [],
   "source": [
    "y_true = y_true.squeeze()"
   ]
  },
  {
   "cell_type": "code",
   "execution_count": 45,
   "id": "e700e9a7",
   "metadata": {
    "execution": {
     "iopub.execute_input": "2025-08-19T19:12:22.010263Z",
     "iopub.status.busy": "2025-08-19T19:12:22.009087Z",
     "iopub.status.idle": "2025-08-19T19:12:22.609050Z",
     "shell.execute_reply": "2025-08-19T19:12:22.607553Z"
    },
    "papermill": {
     "duration": 0.619363,
     "end_time": "2025-08-19T19:12:22.612186",
     "exception": false,
     "start_time": "2025-08-19T19:12:21.992823",
     "status": "completed"
    },
    "tags": []
   },
   "outputs": [],
   "source": [
    "from fairness_multiverse.conformal import evaluate_sets\n",
    "\n",
    "# Evaluate coverage and average set size on test data\n",
    "metrics = evaluate_sets(pred_sets, y_true)"
   ]
  },
  {
   "cell_type": "markdown",
   "id": "efbacec0",
   "metadata": {
    "papermill": {
     "duration": 0.012891,
     "end_time": "2025-08-19T19:12:22.648764",
     "exception": false,
     "start_time": "2025-08-19T19:12:22.635873",
     "status": "completed"
    },
    "tags": []
   },
   "source": [
    "# CP Metrics"
   ]
  },
  {
   "cell_type": "code",
   "execution_count": 46,
   "id": "9de55fb1",
   "metadata": {
    "execution": {
     "iopub.execute_input": "2025-08-19T19:12:22.676796Z",
     "iopub.status.busy": "2025-08-19T19:12:22.675033Z",
     "iopub.status.idle": "2025-08-19T19:12:22.688511Z",
     "shell.execute_reply": "2025-08-19T19:12:22.687298Z"
    },
    "papermill": {
     "duration": 0.029529,
     "end_time": "2025-08-19T19:12:22.690091",
     "exception": false,
     "start_time": "2025-08-19T19:12:22.660562",
     "status": "completed"
    },
    "tags": []
   },
   "outputs": [
    {
     "data": {
      "text/plain": [
       "{'coverage': 0.9131200535057408, 'avg_size': 1.3289042470181696}"
      ]
     },
     "execution_count": 46,
     "metadata": {},
     "output_type": "execute_result"
    }
   ],
   "source": [
    "metrics"
   ]
  },
  {
   "cell_type": "code",
   "execution_count": 47,
   "id": "64c340a1",
   "metadata": {
    "execution": {
     "iopub.execute_input": "2025-08-19T19:12:22.719751Z",
     "iopub.status.busy": "2025-08-19T19:12:22.719315Z",
     "iopub.status.idle": "2025-08-19T19:12:22.724864Z",
     "shell.execute_reply": "2025-08-19T19:12:22.724030Z"
    },
    "papermill": {
     "duration": 0.021475,
     "end_time": "2025-08-19T19:12:22.727656",
     "exception": false,
     "start_time": "2025-08-19T19:12:22.706181",
     "status": "completed"
    },
    "tags": []
   },
   "outputs": [],
   "source": [
    "example_universe = universe.copy()\n",
    "universe_training_year = example_universe.get(\"training_year\")\n",
    "universe_training_size = example_universe.get(\"training_size\")\n",
    "universe_scale = example_universe.get(\"scale\")\n",
    "universe_model = example_universe.get(\"model\")\n",
    "universe_exclude_features = example_universe.get(\"exclude_features\")\n",
    "universe_exclude_subgroups = example_universe.get(\"exclude_subgroups\")"
   ]
  },
  {
   "cell_type": "code",
   "execution_count": 48,
   "id": "dbb53cb4",
   "metadata": {
    "execution": {
     "iopub.execute_input": "2025-08-19T19:12:22.770862Z",
     "iopub.status.busy": "2025-08-19T19:12:22.770525Z",
     "iopub.status.idle": "2025-08-19T19:12:22.776692Z",
     "shell.execute_reply": "2025-08-19T19:12:22.775876Z"
    },
    "papermill": {
     "duration": 0.022434,
     "end_time": "2025-08-19T19:12:22.779784",
     "exception": false,
     "start_time": "2025-08-19T19:12:22.757350",
     "status": "completed"
    },
    "tags": []
   },
   "outputs": [],
   "source": [
    "cp_metrics_dict = {\n",
    "    \"universe_id\": [universe_id],\n",
    "    \"universe_training_year\": [universe_training_year],\n",
    "    \"universe_training_size\": [universe_training_size],\n",
    "    \"universe_scale\": [universe_scale],\n",
    "    \"universe_model\": [universe_model],\n",
    "    \"universe_exclude_features\": [universe_exclude_features],\n",
    "    \"universe_exclude_subgroups\": [universe_exclude_subgroups],\n",
    "    \"q_hat\": [q_hat],\n",
    "    \"coverage\": [metrics[\"coverage\"]],\n",
    "    \"avg_size\": [metrics[\"avg_size\"]],\n",
    "}"
   ]
  },
  {
   "cell_type": "code",
   "execution_count": 49,
   "id": "0d70d4b2",
   "metadata": {
    "execution": {
     "iopub.execute_input": "2025-08-19T19:12:22.821523Z",
     "iopub.status.busy": "2025-08-19T19:12:22.821012Z",
     "iopub.status.idle": "2025-08-19T19:12:22.847320Z",
     "shell.execute_reply": "2025-08-19T19:12:22.846418Z"
    },
    "papermill": {
     "duration": 0.0433,
     "end_time": "2025-08-19T19:12:22.850665",
     "exception": false,
     "start_time": "2025-08-19T19:12:22.807365",
     "status": "completed"
    },
    "tags": []
   },
   "outputs": [],
   "source": [
    "cp_metrics_df = pd.DataFrame(cp_metrics_dict)"
   ]
  },
  {
   "cell_type": "code",
   "execution_count": 50,
   "id": "b494403c",
   "metadata": {
    "execution": {
     "iopub.execute_input": "2025-08-19T19:12:22.885618Z",
     "iopub.status.busy": "2025-08-19T19:12:22.885146Z",
     "iopub.status.idle": "2025-08-19T19:12:22.898454Z",
     "shell.execute_reply": "2025-08-19T19:12:22.897649Z"
    },
    "papermill": {
     "duration": 0.028852,
     "end_time": "2025-08-19T19:12:22.900007",
     "exception": false,
     "start_time": "2025-08-19T19:12:22.871155",
     "status": "completed"
    },
    "tags": []
   },
   "outputs": [
    {
     "data": {
      "text/html": [
       "<div>\n",
       "<style scoped>\n",
       "    .dataframe tbody tr th:only-of-type {\n",
       "        vertical-align: middle;\n",
       "    }\n",
       "\n",
       "    .dataframe tbody tr th {\n",
       "        vertical-align: top;\n",
       "    }\n",
       "\n",
       "    .dataframe thead th {\n",
       "        text-align: right;\n",
       "    }\n",
       "</style>\n",
       "<table border=\"1\" class=\"dataframe\">\n",
       "  <thead>\n",
       "    <tr style=\"text-align: right;\">\n",
       "      <th></th>\n",
       "      <th>universe_id</th>\n",
       "      <th>universe_training_year</th>\n",
       "      <th>universe_training_size</th>\n",
       "      <th>universe_scale</th>\n",
       "      <th>universe_model</th>\n",
       "      <th>universe_exclude_features</th>\n",
       "      <th>universe_exclude_subgroups</th>\n",
       "      <th>q_hat</th>\n",
       "      <th>coverage</th>\n",
       "      <th>avg_size</th>\n",
       "    </tr>\n",
       "  </thead>\n",
       "  <tbody>\n",
       "    <tr>\n",
       "      <th>0</th>\n",
       "      <td>0500c40bfc3035b9ca897afe93e0c0e9</td>\n",
       "      <td>2010_14</td>\n",
       "      <td>1k</td>\n",
       "      <td>do-not-scale</td>\n",
       "      <td>elasticnet</td>\n",
       "      <td>nationality</td>\n",
       "      <td>drop-non-german</td>\n",
       "      <td>0.695773</td>\n",
       "      <td>0.91312</td>\n",
       "      <td>1.328904</td>\n",
       "    </tr>\n",
       "  </tbody>\n",
       "</table>\n",
       "</div>"
      ],
      "text/plain": [
       "                        universe_id universe_training_year  \\\n",
       "0  0500c40bfc3035b9ca897afe93e0c0e9                2010_14   \n",
       "\n",
       "  universe_training_size universe_scale universe_model  \\\n",
       "0                     1k   do-not-scale     elasticnet   \n",
       "\n",
       "  universe_exclude_features universe_exclude_subgroups     q_hat  coverage  \\\n",
       "0               nationality            drop-non-german  0.695773   0.91312   \n",
       "\n",
       "   avg_size  \n",
       "0  1.328904  "
      ]
     },
     "execution_count": 50,
     "metadata": {},
     "output_type": "execute_result"
    }
   ],
   "source": [
    "cp_metrics_df"
   ]
  },
  {
   "cell_type": "markdown",
   "id": "ed608b0b",
   "metadata": {
    "papermill": {
     "duration": 0.01415,
     "end_time": "2025-08-19T19:12:22.930113",
     "exception": false,
     "start_time": "2025-08-19T19:12:22.915963",
     "status": "completed"
    },
    "tags": []
   },
   "source": [
    "Conditional coverage & looking at subgroups"
   ]
  },
  {
   "cell_type": "code",
   "execution_count": 51,
   "id": "8968c366",
   "metadata": {
    "execution": {
     "iopub.execute_input": "2025-08-19T19:12:22.961242Z",
     "iopub.status.busy": "2025-08-19T19:12:22.960774Z",
     "iopub.status.idle": "2025-08-19T19:12:23.252268Z",
     "shell.execute_reply": "2025-08-19T19:12:23.251006Z"
    },
    "papermill": {
     "duration": 0.309013,
     "end_time": "2025-08-19T19:12:23.254110",
     "exception": false,
     "start_time": "2025-08-19T19:12:22.945097",
     "status": "completed"
    },
    "tags": []
   },
   "outputs": [],
   "source": [
    "from fairness_multiverse.conformal import build_cp_groups\n",
    "\n",
    "cp_groups_df = build_cp_groups(pred_sets, y_true, X_test.index, org_test)"
   ]
  },
  {
   "cell_type": "code",
   "execution_count": 52,
   "id": "292ddabf",
   "metadata": {
    "execution": {
     "iopub.execute_input": "2025-08-19T19:12:23.282438Z",
     "iopub.status.busy": "2025-08-19T19:12:23.281304Z",
     "iopub.status.idle": "2025-08-19T19:12:24.153835Z",
     "shell.execute_reply": "2025-08-19T19:12:24.152295Z"
    },
    "papermill": {
     "duration": 0.889008,
     "end_time": "2025-08-19T19:12:24.156508",
     "exception": false,
     "start_time": "2025-08-19T19:12:23.267500",
     "status": "completed"
    },
    "tags": []
   },
   "outputs": [],
   "source": [
    "# Define covered = 1 if true_label is in the predicted set\n",
    "cp_groups_df['covered'] = cp_groups_df.apply(\n",
    "    lambda r: int(r['true_label'] in r['pred_set']),\n",
    "    axis=1\n",
    ")"
   ]
  },
  {
   "cell_type": "code",
   "execution_count": 53,
   "id": "3a261692",
   "metadata": {
    "execution": {
     "iopub.execute_input": "2025-08-19T19:12:24.191691Z",
     "iopub.status.busy": "2025-08-19T19:12:24.190293Z",
     "iopub.status.idle": "2025-08-19T19:12:24.213471Z",
     "shell.execute_reply": "2025-08-19T19:12:24.212439Z"
    },
    "papermill": {
     "duration": 0.041367,
     "end_time": "2025-08-19T19:12:24.216200",
     "exception": false,
     "start_time": "2025-08-19T19:12:24.174833",
     "status": "completed"
    },
    "tags": []
   },
   "outputs": [],
   "source": [
    "subgroups = ['frau1','nongerman','nongerman_male','nongerman_female']\n",
    "\n",
    "# Conditional coverage for subgroup==1\n",
    "cond_coverage = {\n",
    "    g: cp_groups_df.loc[cp_groups_df[g]==1, 'covered'].mean()\n",
    "    for g in subgroups\n",
    "}"
   ]
  },
  {
   "cell_type": "code",
   "execution_count": 54,
   "id": "894fd600",
   "metadata": {
    "execution": {
     "iopub.execute_input": "2025-08-19T19:12:24.253049Z",
     "iopub.status.busy": "2025-08-19T19:12:24.251803Z",
     "iopub.status.idle": "2025-08-19T19:12:24.265768Z",
     "shell.execute_reply": "2025-08-19T19:12:24.264539Z"
    },
    "papermill": {
     "duration": 0.030478,
     "end_time": "2025-08-19T19:12:24.267381",
     "exception": false,
     "start_time": "2025-08-19T19:12:24.236903",
     "status": "completed"
    },
    "tags": []
   },
   "outputs": [
    {
     "data": {
      "text/plain": [
       "{'frau1': 0.9127645235206902,\n",
       " 'nongerman': 0.972548138999607,\n",
       " 'nongerman_male': 0.9796451409528956,\n",
       " 'nongerman_female': 0.9608047690014904}"
      ]
     },
     "execution_count": 54,
     "metadata": {},
     "output_type": "execute_result"
    }
   ],
   "source": [
    "cond_coverage"
   ]
  },
  {
   "cell_type": "code",
   "execution_count": 55,
   "id": "942895c7",
   "metadata": {
    "execution": {
     "iopub.execute_input": "2025-08-19T19:12:24.301279Z",
     "iopub.status.busy": "2025-08-19T19:12:24.299891Z",
     "iopub.status.idle": "2025-08-19T19:12:24.312125Z",
     "shell.execute_reply": "2025-08-19T19:12:24.311045Z"
    },
    "papermill": {
     "duration": 0.028701,
     "end_time": "2025-08-19T19:12:24.313711",
     "exception": false,
     "start_time": "2025-08-19T19:12:24.285010",
     "status": "completed"
    },
    "tags": []
   },
   "outputs": [],
   "source": [
    "for subgroup, cov in cond_coverage.items():\n",
    "    cp_metrics_df[f\"cov_{subgroup}\"] = cov"
   ]
  },
  {
   "cell_type": "code",
   "execution_count": 56,
   "id": "3970120f",
   "metadata": {
    "execution": {
     "iopub.execute_input": "2025-08-19T19:12:24.344862Z",
     "iopub.status.busy": "2025-08-19T19:12:24.343535Z",
     "iopub.status.idle": "2025-08-19T19:12:24.371767Z",
     "shell.execute_reply": "2025-08-19T19:12:24.370952Z"
    },
    "papermill": {
     "duration": 0.044365,
     "end_time": "2025-08-19T19:12:24.373570",
     "exception": false,
     "start_time": "2025-08-19T19:12:24.329205",
     "status": "completed"
    },
    "tags": []
   },
   "outputs": [
    {
     "data": {
      "text/html": [
       "<div>\n",
       "<style scoped>\n",
       "    .dataframe tbody tr th:only-of-type {\n",
       "        vertical-align: middle;\n",
       "    }\n",
       "\n",
       "    .dataframe tbody tr th {\n",
       "        vertical-align: top;\n",
       "    }\n",
       "\n",
       "    .dataframe thead th {\n",
       "        text-align: right;\n",
       "    }\n",
       "</style>\n",
       "<table border=\"1\" class=\"dataframe\">\n",
       "  <thead>\n",
       "    <tr style=\"text-align: right;\">\n",
       "      <th></th>\n",
       "      <th>universe_id</th>\n",
       "      <th>universe_training_year</th>\n",
       "      <th>universe_training_size</th>\n",
       "      <th>universe_scale</th>\n",
       "      <th>universe_model</th>\n",
       "      <th>universe_exclude_features</th>\n",
       "      <th>universe_exclude_subgroups</th>\n",
       "      <th>q_hat</th>\n",
       "      <th>coverage</th>\n",
       "      <th>avg_size</th>\n",
       "      <th>cov_frau1</th>\n",
       "      <th>cov_nongerman</th>\n",
       "      <th>cov_nongerman_male</th>\n",
       "      <th>cov_nongerman_female</th>\n",
       "    </tr>\n",
       "  </thead>\n",
       "  <tbody>\n",
       "    <tr>\n",
       "      <th>0</th>\n",
       "      <td>0500c40bfc3035b9ca897afe93e0c0e9</td>\n",
       "      <td>2010_14</td>\n",
       "      <td>1k</td>\n",
       "      <td>do-not-scale</td>\n",
       "      <td>elasticnet</td>\n",
       "      <td>nationality</td>\n",
       "      <td>drop-non-german</td>\n",
       "      <td>0.695773</td>\n",
       "      <td>0.91312</td>\n",
       "      <td>1.328904</td>\n",
       "      <td>0.912765</td>\n",
       "      <td>0.972548</td>\n",
       "      <td>0.979645</td>\n",
       "      <td>0.960805</td>\n",
       "    </tr>\n",
       "  </tbody>\n",
       "</table>\n",
       "</div>"
      ],
      "text/plain": [
       "                        universe_id universe_training_year  \\\n",
       "0  0500c40bfc3035b9ca897afe93e0c0e9                2010_14   \n",
       "\n",
       "  universe_training_size universe_scale universe_model  \\\n",
       "0                     1k   do-not-scale     elasticnet   \n",
       "\n",
       "  universe_exclude_features universe_exclude_subgroups     q_hat  coverage  \\\n",
       "0               nationality            drop-non-german  0.695773   0.91312   \n",
       "\n",
       "   avg_size  cov_frau1  cov_nongerman  cov_nongerman_male  \\\n",
       "0  1.328904   0.912765       0.972548            0.979645   \n",
       "\n",
       "   cov_nongerman_female  \n",
       "0              0.960805  "
      ]
     },
     "execution_count": 56,
     "metadata": {},
     "output_type": "execute_result"
    }
   ],
   "source": [
    "cp_metrics_df"
   ]
  },
  {
   "cell_type": "markdown",
   "id": "3fc519cc",
   "metadata": {
    "papermill": {
     "duration": 0.013832,
     "end_time": "2025-08-19T19:12:24.411606",
     "exception": false,
     "start_time": "2025-08-19T19:12:24.397774",
     "status": "completed"
    },
    "tags": []
   },
   "source": [
    "# (Fairness) Metrics"
   ]
  },
  {
   "cell_type": "code",
   "execution_count": 57,
   "id": "a2e5e155",
   "metadata": {
    "execution": {
     "iopub.execute_input": "2025-08-19T19:12:24.440308Z",
     "iopub.status.busy": "2025-08-19T19:12:24.438916Z",
     "iopub.status.idle": "2025-08-19T19:12:24.466220Z",
     "shell.execute_reply": "2025-08-19T19:12:24.465272Z"
    },
    "papermill": {
     "duration": 0.043806,
     "end_time": "2025-08-19T19:12:24.468183",
     "exception": false,
     "start_time": "2025-08-19T19:12:24.424377",
     "status": "completed"
    },
    "tags": []
   },
   "outputs": [],
   "source": [
    "colname_to_bin = \"maxdeutsch1\"\n",
    "majority_value = org_train[colname_to_bin].mode()[0]\n",
    "\n",
    "org_test[\"majmin\"] = np.where(org_test[colname_to_bin] == majority_value, \"majority\", \"minority\")"
   ]
  },
  {
   "cell_type": "code",
   "execution_count": 58,
   "id": "17e3e4d5",
   "metadata": {
    "execution": {
     "iopub.execute_input": "2025-08-19T19:12:24.505898Z",
     "iopub.status.busy": "2025-08-19T19:12:24.505408Z",
     "iopub.status.idle": "2025-08-19T19:12:26.339055Z",
     "shell.execute_reply": "2025-08-19T19:12:26.337650Z"
    },
    "papermill": {
     "duration": 1.851688,
     "end_time": "2025-08-19T19:12:26.342262",
     "exception": false,
     "start_time": "2025-08-19T19:12:24.490574",
     "status": "completed"
    },
    "tags": []
   },
   "outputs": [],
   "source": [
    "example_universe = universe.copy()\n",
    "example_universe[\"cutoff\"] = example_universe[\"cutoff\"][0]\n",
    "example_universe[\"eval_fairness_grouping\"] = example_universe[\"eval_fairness_grouping\"][0]\n",
    "fairness_dict, metric_frame = universe_analysis.compute_metrics(\n",
    "    example_universe,\n",
    "    y_pred_prob=probs_test,\n",
    "    y_test=y_true,\n",
    "    org_test=org_test,\n",
    ")"
   ]
  },
  {
   "cell_type": "markdown",
   "id": "1fb7a0e9",
   "metadata": {
    "papermill": {
     "duration": 0.015322,
     "end_time": "2025-08-19T19:12:26.388304",
     "exception": false,
     "start_time": "2025-08-19T19:12:26.372982",
     "status": "completed"
    },
    "tags": []
   },
   "source": [
    "# Overall"
   ]
  },
  {
   "cell_type": "markdown",
   "id": "be1784b1",
   "metadata": {
    "papermill": {
     "duration": 0.020927,
     "end_time": "2025-08-19T19:12:26.421927",
     "exception": false,
     "start_time": "2025-08-19T19:12:26.401000",
     "status": "completed"
    },
    "tags": []
   },
   "source": [
    "Main fairness target: Equalized Odds. Seems to be a better fit than equal opportunity, since we're not only interested in Y = 1. Seems to be a better fit than demographic parity, since we also care about accuracy, not just equal distribution of preds.\n",
    "\n",
    "Pick column for computation of fairness metrics\n",
    "\n",
    "Performance\n",
    "Overall performance measures, most interesting in relation to the measures split by group below"
   ]
  },
  {
   "cell_type": "code",
   "execution_count": 59,
   "id": "b7672bee",
   "metadata": {
    "execution": {
     "iopub.execute_input": "2025-08-19T19:12:26.456570Z",
     "iopub.status.busy": "2025-08-19T19:12:26.454815Z",
     "iopub.status.idle": "2025-08-19T19:12:26.469693Z",
     "shell.execute_reply": "2025-08-19T19:12:26.468680Z"
    },
    "papermill": {
     "duration": 0.035179,
     "end_time": "2025-08-19T19:12:26.472013",
     "exception": false,
     "start_time": "2025-08-19T19:12:26.436834",
     "status": "completed"
    },
    "tags": []
   },
   "outputs": [
    {
     "data": {
      "text/plain": [
       "accuracy                   0.205406\n",
       "balanced accuracy          0.506220\n",
       "f1                         0.227259\n",
       "precision                  0.129826\n",
       "false positive rate        0.898404\n",
       "false negative rate        0.089155\n",
       "selection rate             0.900000\n",
       "count                  89710.000000\n",
       "dtype: float64"
      ]
     },
     "execution_count": 59,
     "metadata": {},
     "output_type": "execute_result"
    }
   ],
   "source": [
    "metric_frame.overall"
   ]
  },
  {
   "cell_type": "markdown",
   "id": "d93333c9",
   "metadata": {
    "papermill": {
     "duration": 0.012675,
     "end_time": "2025-08-19T19:12:26.501311",
     "exception": false,
     "start_time": "2025-08-19T19:12:26.488636",
     "status": "completed"
    },
    "tags": []
   },
   "source": [
    "By Group"
   ]
  },
  {
   "cell_type": "code",
   "execution_count": 60,
   "id": "52256966",
   "metadata": {
    "execution": {
     "iopub.execute_input": "2025-08-19T19:12:26.529486Z",
     "iopub.status.busy": "2025-08-19T19:12:26.528036Z",
     "iopub.status.idle": "2025-08-19T19:12:26.551670Z",
     "shell.execute_reply": "2025-08-19T19:12:26.550660Z"
    },
    "papermill": {
     "duration": 0.039588,
     "end_time": "2025-08-19T19:12:26.553425",
     "exception": false,
     "start_time": "2025-08-19T19:12:26.513837",
     "status": "completed"
    },
    "tags": []
   },
   "outputs": [
    {
     "data": {
      "text/html": [
       "<div>\n",
       "<style scoped>\n",
       "    .dataframe tbody tr th:only-of-type {\n",
       "        vertical-align: middle;\n",
       "    }\n",
       "\n",
       "    .dataframe tbody tr th {\n",
       "        vertical-align: top;\n",
       "    }\n",
       "\n",
       "    .dataframe thead th {\n",
       "        text-align: right;\n",
       "    }\n",
       "</style>\n",
       "<table border=\"1\" class=\"dataframe\">\n",
       "  <thead>\n",
       "    <tr style=\"text-align: right;\">\n",
       "      <th></th>\n",
       "      <th>accuracy</th>\n",
       "      <th>balanced accuracy</th>\n",
       "      <th>f1</th>\n",
       "      <th>precision</th>\n",
       "      <th>false positive rate</th>\n",
       "      <th>false negative rate</th>\n",
       "      <th>selection rate</th>\n",
       "      <th>count</th>\n",
       "    </tr>\n",
       "    <tr>\n",
       "      <th>majmin</th>\n",
       "      <th></th>\n",
       "      <th></th>\n",
       "      <th></th>\n",
       "      <th></th>\n",
       "      <th></th>\n",
       "      <th></th>\n",
       "      <th></th>\n",
       "      <th></th>\n",
       "    </tr>\n",
       "  </thead>\n",
       "  <tbody>\n",
       "    <tr>\n",
       "      <th>majority</th>\n",
       "      <td>0.225242</td>\n",
       "      <td>0.508934</td>\n",
       "      <td>0.233794</td>\n",
       "      <td>0.134469</td>\n",
       "      <td>0.876662</td>\n",
       "      <td>0.105470</td>\n",
       "      <td>0.879023</td>\n",
       "      <td>69170.0</td>\n",
       "    </tr>\n",
       "    <tr>\n",
       "      <th>minority</th>\n",
       "      <td>0.138608</td>\n",
       "      <td>0.501794</td>\n",
       "      <td>0.206770</td>\n",
       "      <td>0.115664</td>\n",
       "      <td>0.970229</td>\n",
       "      <td>0.026182</td>\n",
       "      <td>0.970643</td>\n",
       "      <td>20540.0</td>\n",
       "    </tr>\n",
       "  </tbody>\n",
       "</table>\n",
       "</div>"
      ],
      "text/plain": [
       "          accuracy  balanced accuracy        f1  precision  \\\n",
       "majmin                                                       \n",
       "majority  0.225242           0.508934  0.233794   0.134469   \n",
       "minority  0.138608           0.501794  0.206770   0.115664   \n",
       "\n",
       "          false positive rate  false negative rate  selection rate    count  \n",
       "majmin                                                                       \n",
       "majority             0.876662             0.105470        0.879023  69170.0  \n",
       "minority             0.970229             0.026182        0.970643  20540.0  "
      ]
     },
     "execution_count": 60,
     "metadata": {},
     "output_type": "execute_result"
    }
   ],
   "source": [
    "metric_frame.by_group"
   ]
  },
  {
   "cell_type": "code",
   "execution_count": 61,
   "id": "6e6c20ae",
   "metadata": {
    "execution": {
     "iopub.execute_input": "2025-08-19T19:12:26.592653Z",
     "iopub.status.busy": "2025-08-19T19:12:26.591288Z",
     "iopub.status.idle": "2025-08-19T19:12:28.414345Z",
     "shell.execute_reply": "2025-08-19T19:12:28.412893Z"
    },
    "papermill": {
     "duration": 1.839333,
     "end_time": "2025-08-19T19:12:28.415882",
     "exception": false,
     "start_time": "2025-08-19T19:12:26.576549",
     "status": "completed"
    },
    "tags": []
   },
   "outputs": [
    {
     "data": {
      "text/plain": [
       "array([[<Axes: title={'center': 'accuracy'}, xlabel='majmin'>,\n",
       "        <Axes: title={'center': 'balanced accuracy'}, xlabel='majmin'>,\n",
       "        <Axes: title={'center': 'f1'}, xlabel='majmin'>],\n",
       "       [<Axes: title={'center': 'precision'}, xlabel='majmin'>,\n",
       "        <Axes: title={'center': 'false positive rate'}, xlabel='majmin'>,\n",
       "        <Axes: title={'center': 'false negative rate'}, xlabel='majmin'>],\n",
       "       [<Axes: title={'center': 'selection rate'}, xlabel='majmin'>,\n",
       "        <Axes: title={'center': 'count'}, xlabel='majmin'>,\n",
       "        <Axes: xlabel='majmin'>]], dtype=object)"
      ]
     },
     "execution_count": 61,
     "metadata": {},
     "output_type": "execute_result"
    },
    {
     "data": {
      "image/png": "[encoded data removed]",
      "text/plain": [
       "<Figure size 1200x800 with 9 Axes>"
      ]
     },
     "metadata": {},
     "output_type": "display_data"
    }
   ],
   "source": [
    "# In a graphic\n",
    "metric_frame.by_group.plot.bar(\n",
    "    subplots=True,\n",
    "    layout=[3, 3],\n",
    "    legend=False,\n",
    "    figsize=[12, 8],\n",
    "    title=\"Show all metrics\",\n",
    ")"
   ]
  },
  {
   "cell_type": "markdown",
   "id": "b2e433ae",
   "metadata": {
    "papermill": {
     "duration": 0.028605,
     "end_time": "2025-08-19T19:12:28.463557",
     "exception": false,
     "start_time": "2025-08-19T19:12:28.434952",
     "status": "completed"
    },
    "tags": []
   },
   "source": [
    "# Final Output"
   ]
  },
  {
   "cell_type": "code",
   "execution_count": 62,
   "id": "3871301e",
   "metadata": {
    "execution": {
     "iopub.execute_input": "2025-08-19T19:12:28.496228Z",
     "iopub.status.busy": "2025-08-19T19:12:28.494019Z",
     "iopub.status.idle": "2025-08-19T19:12:28.512454Z",
     "shell.execute_reply": "2025-08-19T19:12:28.511192Z"
    },
    "papermill": {
     "duration": 0.036447,
     "end_time": "2025-08-19T19:12:28.514183",
     "exception": false,
     "start_time": "2025-08-19T19:12:28.477736",
     "status": "completed"
    },
    "tags": []
   },
   "outputs": [
    {
     "data": {
      "text/plain": [
       "4"
      ]
     },
     "execution_count": 62,
     "metadata": {},
     "output_type": "execute_result"
    }
   ],
   "source": [
    "sub_universes = universe_analysis.generate_sub_universes()\n",
    "len(sub_universes)"
   ]
  },
  {
   "cell_type": "code",
   "execution_count": 63,
   "id": "d9cfdaca",
   "metadata": {
    "execution": {
     "iopub.execute_input": "2025-08-19T19:12:28.550433Z",
     "iopub.status.busy": "2025-08-19T19:12:28.549346Z",
     "iopub.status.idle": "2025-08-19T19:12:28.570567Z",
     "shell.execute_reply": "2025-08-19T19:12:28.569190Z"
    },
    "papermill": {
     "duration": 0.038663,
     "end_time": "2025-08-19T19:12:28.572503",
     "exception": false,
     "start_time": "2025-08-19T19:12:28.533840",
     "status": "completed"
    },
    "tags": []
   },
   "outputs": [],
   "source": [
    "def filter_sub_universe_data(sub_universe, org_test):\n",
    "    # Keep all rows — no filtering\n",
    "    keep_rows_mask = np.ones(org_test.shape[0], dtype=bool)\n",
    "\n",
    "    print(f\"[INFO] Keeping all rows: {keep_rows_mask.sum()} rows retained.\")\n",
    "    return keep_rows_mask"
   ]
  },
  {
   "cell_type": "code",
   "execution_count": 64,
   "id": "2bc31ac1",
   "metadata": {
    "execution": {
     "iopub.execute_input": "2025-08-19T19:12:28.610729Z",
     "iopub.status.busy": "2025-08-19T19:12:28.609661Z",
     "iopub.status.idle": "2025-08-19T19:12:35.256983Z",
     "shell.execute_reply": "2025-08-19T19:12:35.256121Z"
    },
    "papermill": {
     "duration": 6.66417,
     "end_time": "2025-08-19T19:12:35.258331",
     "exception": false,
     "start_time": "2025-08-19T19:12:28.594161",
     "status": "completed"
    },
    "tags": []
   },
   "outputs": [
    {
     "name": "stdout",
     "output_type": "stream",
     "text": [
      "Stopping execution_time clock.\n",
      "[INFO] Keeping all rows: 89710 rows retained.\n"
     ]
    },
    {
     "name": "stdout",
     "output_type": "stream",
     "text": [
      "[INFO] Keeping all rows: 89710 rows retained.\n"
     ]
    },
    {
     "name": "stdout",
     "output_type": "stream",
     "text": [
      "[INFO] Keeping all rows: 89710 rows retained.\n"
     ]
    },
    {
     "name": "stdout",
     "output_type": "stream",
     "text": [
      "[INFO] Keeping all rows: 89710 rows retained.\n"
     ]
    },
    {
     "data": {
      "text/html": [
       "<div>\n",
       "<style scoped>\n",
       "    .dataframe tbody tr th:only-of-type {\n",
       "        vertical-align: middle;\n",
       "    }\n",
       "\n",
       "    .dataframe tbody tr th {\n",
       "        vertical-align: top;\n",
       "    }\n",
       "\n",
       "    .dataframe thead th {\n",
       "        text-align: right;\n",
       "    }\n",
       "</style>\n",
       "<table border=\"1\" class=\"dataframe\">\n",
       "  <thead>\n",
       "    <tr style=\"text-align: right;\">\n",
       "      <th></th>\n",
       "      <th>run_no</th>\n",
       "      <th>universe_id</th>\n",
       "      <th>universe_settings</th>\n",
       "      <th>execution_time</th>\n",
       "      <th>test_size_n</th>\n",
       "      <th>test_size_frac</th>\n",
       "      <th>fair_main_equalized_odds_difference</th>\n",
       "      <th>fair_main_equalized_odds_ratio</th>\n",
       "      <th>fair_main_demographic_parity_difference</th>\n",
       "      <th>fair_main_demographic_parity_ratio</th>\n",
       "      <th>...</th>\n",
       "      <th>perf_grp_precision_0</th>\n",
       "      <th>perf_grp_precision_1</th>\n",
       "      <th>perf_grp_false positive rate_0</th>\n",
       "      <th>perf_grp_false positive rate_1</th>\n",
       "      <th>perf_grp_false negative rate_0</th>\n",
       "      <th>perf_grp_false negative rate_1</th>\n",
       "      <th>perf_grp_selection rate_0</th>\n",
       "      <th>perf_grp_selection rate_1</th>\n",
       "      <th>perf_grp_count_0</th>\n",
       "      <th>perf_grp_count_1</th>\n",
       "    </tr>\n",
       "  </thead>\n",
       "  <tbody>\n",
       "    <tr>\n",
       "      <th>0</th>\n",
       "      <td>3</td>\n",
       "      <td>0500c40bfc3035b9ca897afe93e0c0e9</td>\n",
       "      <td>{\"cutoff\": \"quantile_0.1\", \"eval_fairness_grou...</td>\n",
       "      <td>22.023158</td>\n",
       "      <td>89710</td>\n",
       "      <td>1.0</td>\n",
       "      <td>0.093567</td>\n",
       "      <td>0.903562</td>\n",
       "      <td>0.091620</td>\n",
       "      <td>0.905609</td>\n",
       "      <td>...</td>\n",
       "      <td>NaN</td>\n",
       "      <td>NaN</td>\n",
       "      <td>NaN</td>\n",
       "      <td>NaN</td>\n",
       "      <td>NaN</td>\n",
       "      <td>NaN</td>\n",
       "      <td>NaN</td>\n",
       "      <td>NaN</td>\n",
       "      <td>NaN</td>\n",
       "      <td>NaN</td>\n",
       "    </tr>\n",
       "    <tr>\n",
       "      <th>0</th>\n",
       "      <td>3</td>\n",
       "      <td>0500c40bfc3035b9ca897afe93e0c0e9</td>\n",
       "      <td>{\"cutoff\": \"quantile_0.1\", \"eval_fairness_grou...</td>\n",
       "      <td>22.023158</td>\n",
       "      <td>89710</td>\n",
       "      <td>1.0</td>\n",
       "      <td>0.093567</td>\n",
       "      <td>0.903562</td>\n",
       "      <td>0.091620</td>\n",
       "      <td>0.905609</td>\n",
       "      <td>...</td>\n",
       "      <td>0.115664</td>\n",
       "      <td>0.134469</td>\n",
       "      <td>0.970229</td>\n",
       "      <td>0.876662</td>\n",
       "      <td>0.026182</td>\n",
       "      <td>0.105470</td>\n",
       "      <td>0.970643</td>\n",
       "      <td>0.879023</td>\n",
       "      <td>20540.0</td>\n",
       "      <td>69170.0</td>\n",
       "    </tr>\n",
       "    <tr>\n",
       "      <th>0</th>\n",
       "      <td>3</td>\n",
       "      <td>0500c40bfc3035b9ca897afe93e0c0e9</td>\n",
       "      <td>{\"cutoff\": \"quantile_0.25\", \"eval_fairness_gro...</td>\n",
       "      <td>22.023158</td>\n",
       "      <td>89710</td>\n",
       "      <td>1.0</td>\n",
       "      <td>0.231300</td>\n",
       "      <td>0.749034</td>\n",
       "      <td>0.222332</td>\n",
       "      <td>0.758707</td>\n",
       "      <td>...</td>\n",
       "      <td>NaN</td>\n",
       "      <td>NaN</td>\n",
       "      <td>NaN</td>\n",
       "      <td>NaN</td>\n",
       "      <td>NaN</td>\n",
       "      <td>NaN</td>\n",
       "      <td>NaN</td>\n",
       "      <td>NaN</td>\n",
       "      <td>NaN</td>\n",
       "      <td>NaN</td>\n",
       "    </tr>\n",
       "    <tr>\n",
       "      <th>0</th>\n",
       "      <td>3</td>\n",
       "      <td>0500c40bfc3035b9ca897afe93e0c0e9</td>\n",
       "      <td>{\"cutoff\": \"quantile_0.25\", \"eval_fairness_gro...</td>\n",
       "      <td>22.023158</td>\n",
       "      <td>89710</td>\n",
       "      <td>1.0</td>\n",
       "      <td>0.231300</td>\n",
       "      <td>0.749034</td>\n",
       "      <td>0.222332</td>\n",
       "      <td>0.758707</td>\n",
       "      <td>...</td>\n",
       "      <td>0.115080</td>\n",
       "      <td>0.143002</td>\n",
       "      <td>0.921638</td>\n",
       "      <td>0.690338</td>\n",
       "      <td>0.080236</td>\n",
       "      <td>0.243435</td>\n",
       "      <td>0.921422</td>\n",
       "      <td>0.699089</td>\n",
       "      <td>20540.0</td>\n",
       "      <td>69170.0</td>\n",
       "    </tr>\n",
       "  </tbody>\n",
       "</table>\n",
       "<p>4 rows × 50 columns</p>\n",
       "</div>"
      ],
      "text/plain": [
       "  run_no                       universe_id  \\\n",
       "0      3  0500c40bfc3035b9ca897afe93e0c0e9   \n",
       "0      3  0500c40bfc3035b9ca897afe93e0c0e9   \n",
       "0      3  0500c40bfc3035b9ca897afe93e0c0e9   \n",
       "0      3  0500c40bfc3035b9ca897afe93e0c0e9   \n",
       "\n",
       "                                   universe_settings  execution_time  \\\n",
       "0  {\"cutoff\": \"quantile_0.1\", \"eval_fairness_grou...       22.023158   \n",
       "0  {\"cutoff\": \"quantile_0.1\", \"eval_fairness_grou...       22.023158   \n",
       "0  {\"cutoff\": \"quantile_0.25\", \"eval_fairness_gro...       22.023158   \n",
       "0  {\"cutoff\": \"quantile_0.25\", \"eval_fairness_gro...       22.023158   \n",
       "\n",
       "   test_size_n  test_size_frac  fair_main_equalized_odds_difference  \\\n",
       "0        89710             1.0                             0.093567   \n",
       "0        89710             1.0                             0.093567   \n",
       "0        89710             1.0                             0.231300   \n",
       "0        89710             1.0                             0.231300   \n",
       "\n",
       "   fair_main_equalized_odds_ratio  fair_main_demographic_parity_difference  \\\n",
       "0                        0.903562                                 0.091620   \n",
       "0                        0.903562                                 0.091620   \n",
       "0                        0.749034                                 0.222332   \n",
       "0                        0.749034                                 0.222332   \n",
       "\n",
       "   fair_main_demographic_parity_ratio  ...  perf_grp_precision_0  \\\n",
       "0                            0.905609  ...                   NaN   \n",
       "0                            0.905609  ...              0.115664   \n",
       "0                            0.758707  ...                   NaN   \n",
       "0                            0.758707  ...              0.115080   \n",
       "\n",
       "   perf_grp_precision_1  perf_grp_false positive rate_0  \\\n",
       "0                   NaN                             NaN   \n",
       "0              0.134469                        0.970229   \n",
       "0                   NaN                             NaN   \n",
       "0              0.143002                        0.921638   \n",
       "\n",
       "   perf_grp_false positive rate_1  perf_grp_false negative rate_0  \\\n",
       "0                             NaN                             NaN   \n",
       "0                        0.876662                        0.026182   \n",
       "0                             NaN                             NaN   \n",
       "0                        0.690338                        0.080236   \n",
       "\n",
       "   perf_grp_false negative rate_1  perf_grp_selection rate_0  \\\n",
       "0                             NaN                        NaN   \n",
       "0                        0.105470                   0.970643   \n",
       "0                             NaN                        NaN   \n",
       "0                        0.243435                   0.921422   \n",
       "\n",
       "   perf_grp_selection rate_1  perf_grp_count_0  perf_grp_count_1  \n",
       "0                        NaN               NaN               NaN  \n",
       "0                   0.879023           20540.0           69170.0  \n",
       "0                        NaN               NaN               NaN  \n",
       "0                   0.699089           20540.0           69170.0  \n",
       "\n",
       "[4 rows x 50 columns]"
      ]
     },
     "execution_count": 64,
     "metadata": {},
     "output_type": "execute_result"
    }
   ],
   "source": [
    "final_output = universe_analysis.generate_final_output(\n",
    "    y_pred_prob=probs_test,\n",
    "    y_test=y_true,\n",
    "    org_test=org_test,\n",
    "    filter_data=filter_sub_universe_data,\n",
    "    cp_metrics_df=cp_metrics_df,\n",
    "    save=True,\n",
    ")\n",
    "final_output"
   ]
  },
  {
   "cell_type": "code",
   "execution_count": null,
   "id": "8b80a1ff",
   "metadata": {
    "papermill": {
     "duration": 0.014675,
     "end_time": "2025-08-19T19:12:35.292129",
     "exception": false,
     "start_time": "2025-08-19T19:12:35.277454",
     "status": "completed"
    },
    "tags": []
   },
   "outputs": [],
   "source": []
  },
  {
   "cell_type": "code",
   "execution_count": null,
   "id": "275c9fad",
   "metadata": {
    "papermill": {
     "duration": 0.014894,
     "end_time": "2025-08-19T19:12:35.321436",
     "exception": false,
     "start_time": "2025-08-19T19:12:35.306542",
     "status": "completed"
    },
    "tags": []
   },
   "outputs": [],
   "source": []
  }
 ],
 "metadata": {
  "celltoolbar": "Tags",
  "kernelspec": {
   "display_name": "Python (CMA Fairness)",
   "language": "python",
   "name": "cma_fair_env"
  },
  "language_info": {
   "codemirror_mode": {
    "name": "ipython",
    "version": 3
   },
   "file_extension": ".py",
   "mimetype": "text/x-python",
   "name": "python",
   "nbconvert_exporter": "python",
   "pygments_lexer": "ipython3",
   "version": "3.10.12"
  },
  "papermill": {
   "default_parameters": {},
   "duration": 32.332054,
   "end_time": "2025-08-19T19:12:36.175843",
   "environment_variables": {},
   "exception": null,
   "input_path": "universe_analysis.ipynb",
   "output_path": "output/runs/3/notebooks/m_3-0500c40bfc3035b9ca897afe93e0c0e9.ipynb",
   "parameters": {
    "output_dir": "output",
    "run_no": "3",
    "seed": "2023",
    "universe": "{\"cutoff\": [\"quantile_0.1\", \"quantile_0.25\"], \"eval_fairness_grouping\": [\"majority-minority\", \"nationality-all\"], \"exclude_features\": \"nationality\", \"exclude_subgroups\": \"drop-non-german\", \"model\": \"elasticnet\", \"scale\": \"do-not-scale\", \"training_size\": \"1k\", \"training_year\": \"2010_14\"}",
    "universe_id": "0500c40bfc3035b9ca897afe93e0c0e9"
   },
   "start_time": "2025-08-19T19:12:03.843789",
   "version": "2.6.0"
  }
 },
 "nbformat": 4,
 "nbformat_minor": 5
}