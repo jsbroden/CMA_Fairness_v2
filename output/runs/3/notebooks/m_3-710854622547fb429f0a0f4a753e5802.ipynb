{
 "cells": [
  {
   "cell_type": "markdown",
   "id": "ef23dbb3",
   "metadata": {
    "papermill": {
     "duration": 0.020933,
     "end_time": "2025-08-19T19:00:11.926806",
     "exception": false,
     "start_time": "2025-08-19T19:00:11.905873",
     "status": "completed"
    },
    "tags": []
   },
   "source": [
    "# Setup"
   ]
  },
  {
   "cell_type": "code",
   "execution_count": 1,
   "id": "0bc8e7dc",
   "metadata": {
    "execution": {
     "iopub.execute_input": "2025-08-19T19:00:11.961856Z",
     "iopub.status.busy": "2025-08-19T19:00:11.960413Z",
     "iopub.status.idle": "2025-08-19T19:00:11.981925Z",
     "shell.execute_reply": "2025-08-19T19:00:11.980098Z"
    },
    "papermill": {
     "duration": 0.036785,
     "end_time": "2025-08-19T19:00:11.983875",
     "exception": false,
     "start_time": "2025-08-19T19:00:11.947090",
     "status": "completed"
    },
    "tags": []
   },
   "outputs": [
    {
     "name": "stdout",
     "output_type": "stream",
     "text": [
      "/dss/dsshome1/0C/ra93lal2/cma/CMA_Fairness_v2\n"
     ]
    },
    {
     "name": "stderr",
     "output_type": "stream",
     "text": [
      "/dss/dsshome1/0C/ra93lal2/.local/share/virtualenvs/CMA_Fairness_v2-3j10GkSs/lib/python3.10/site-packages/IPython/core/magics/osm.py:393: UserWarning: This is now an optional IPython functionality, using bookmarks requires you to install the `pickleshare` library.\n",
      "  bkms = self.shell.db.get('bookmarks', {})\n",
      "/dss/dsshome1/0C/ra93lal2/.local/share/virtualenvs/CMA_Fairness_v2-3j10GkSs/lib/python3.10/site-packages/IPython/core/magics/osm.py:417: UserWarning: This is now an optional IPython functionality, setting dhist requires you to install the `pickleshare` library.\n",
      "  self.shell.db['dhist'] = compress_dhist(dhist)[-100:]\n"
     ]
    }
   ],
   "source": [
    "%cd ~/cma/CMA_Fairness_v2"
   ]
  },
  {
   "cell_type": "markdown",
   "id": "9d235661",
   "metadata": {
    "papermill": {
     "duration": 0.011625,
     "end_time": "2025-08-19T19:00:12.019869",
     "exception": false,
     "start_time": "2025-08-19T19:00:12.008244",
     "status": "completed"
    },
    "tags": []
   },
   "source": [
    "The following cell holds the definition of our parameters, these values can be overriden by rendering the with e.g. the following command:\n",
    "\n",
    "papermill -p alpha 0.2 -p ratio 0.3 universe_analysis.ipynb output/test_run.ipynb"
   ]
  },
  {
   "cell_type": "code",
   "execution_count": 2,
   "id": "4a789d8e",
   "metadata": {
    "execution": {
     "iopub.execute_input": "2025-08-19T19:00:12.042515Z",
     "iopub.status.busy": "2025-08-19T19:00:12.041830Z",
     "iopub.status.idle": "2025-08-19T19:00:12.052514Z",
     "shell.execute_reply": "2025-08-19T19:00:12.051335Z"
    },
    "papermill": {
     "duration": 0.023587,
     "end_time": "2025-08-19T19:00:12.053949",
     "exception": false,
     "start_time": "2025-08-19T19:00:12.030362",
     "status": "completed"
    },
    "tags": []
   },
   "outputs": [
    {
     "name": "stdout",
     "output_type": "stream",
     "text": [
      "Current working directory: /dss/dsshome1/0C/ra93lal2/cma/CMA_Fairness_v2\n"
     ]
    }
   ],
   "source": [
    "import os\n",
    "print(\"Current working directory:\", os.getcwd())"
   ]
  },
  {
   "cell_type": "code",
   "execution_count": 3,
   "id": "4132aaed",
   "metadata": {
    "execution": {
     "iopub.execute_input": "2025-08-19T19:00:12.096384Z",
     "iopub.status.busy": "2025-08-19T19:00:12.095669Z",
     "iopub.status.idle": "2025-08-19T19:00:12.110094Z",
     "shell.execute_reply": "2025-08-19T19:00:12.109207Z"
    },
    "papermill": {
     "duration": 0.048704,
     "end_time": "2025-08-19T19:00:12.112017",
     "exception": false,
     "start_time": "2025-08-19T19:00:12.063313",
     "status": "completed"
    },
    "tags": [
     "parameters"
    ]
   },
   "outputs": [],
   "source": [
    "run_no = 0\n",
    "universe_id = \"test\"\n",
    "universe = {\n",
    "    \"training_size\": \"5k\", # \"25k\", \"5k\", \"1k\"\n",
    "    \"training_year\": \"2012_14\", # \"2014\", \"2012_14\", \"2010_14\"\n",
    "    \"scale\": \"scale\", # \"scale\", \"do-not-scale\",\n",
    "    \"model\": \"elasticnet\", # \"logreg\", \"penalized_logreg\", \"rf\", \"gbm\", \"elasticnet\"\n",
    "    \"cutoff\": [\"quantile_0.15\", \"quantile_0.30\"],\n",
    "    \"exclude_features\": \"age\", # \"none\", \"nationality\", \"sex\", \"nationality-sex\", \"age\"\n",
    "    \"exclude_subgroups\": \"drop-non-german\", # \"keep-all\", \"drop-non-german\"\n",
    "    \"eval_fairness_grouping\": [\"majority-minority\", \"nationality-all\"]\n",
    "}\n",
    "\n",
    "output_dir=\"./output\"\n",
    "seed=0"
   ]
  },
  {
   "cell_type": "code",
   "execution_count": 4,
   "id": "edfc73b5",
   "metadata": {
    "execution": {
     "iopub.execute_input": "2025-08-19T19:00:12.133864Z",
     "iopub.status.busy": "2025-08-19T19:00:12.133574Z",
     "iopub.status.idle": "2025-08-19T19:00:12.138461Z",
     "shell.execute_reply": "2025-08-19T19:00:12.137823Z"
    },
    "papermill": {
     "duration": 0.022871,
     "end_time": "2025-08-19T19:00:12.146297",
     "exception": false,
     "start_time": "2025-08-19T19:00:12.123426",
     "status": "completed"
    },
    "tags": [
     "injected-parameters"
    ]
   },
   "outputs": [],
   "source": [
    "# Parameters\n",
    "universe_id = \"710854622547fb429f0a0f4a753e5802\"\n",
    "run_no = \"3\"\n",
    "universe = \"{\\\"cutoff\\\": [\\\"quantile_0.1\\\", \\\"quantile_0.25\\\"], \\\"eval_fairness_grouping\\\": [\\\"majority-minority\\\", \\\"nationality-all\\\"], \\\"exclude_features\\\": \\\"nationality-sex\\\", \\\"exclude_subgroups\\\": \\\"keep-all\\\", \\\"model\\\": \\\"elasticnet\\\", \\\"scale\\\": \\\"scale\\\", \\\"training_size\\\": \\\"1k\\\", \\\"training_year\\\": \\\"2012_14\\\"}\"\n",
    "output_dir = \"output\"\n",
    "seed = \"2023\"\n"
   ]
  },
  {
   "cell_type": "code",
   "execution_count": 5,
   "id": "a5d7941f",
   "metadata": {
    "execution": {
     "iopub.execute_input": "2025-08-19T19:00:12.168275Z",
     "iopub.status.busy": "2025-08-19T19:00:12.167982Z",
     "iopub.status.idle": "2025-08-19T19:00:12.172811Z",
     "shell.execute_reply": "2025-08-19T19:00:12.171883Z"
    },
    "papermill": {
     "duration": 0.016381,
     "end_time": "2025-08-19T19:00:12.174157",
     "exception": false,
     "start_time": "2025-08-19T19:00:12.157776",
     "status": "completed"
    },
    "tags": []
   },
   "outputs": [],
   "source": [
    "import json\n",
    "if isinstance(universe, str):\n",
    "    universe = json.loads(universe)"
   ]
  },
  {
   "cell_type": "code",
   "execution_count": 6,
   "id": "7076ccb1",
   "metadata": {
    "execution": {
     "iopub.execute_input": "2025-08-19T19:00:12.195893Z",
     "iopub.status.busy": "2025-08-19T19:00:12.195478Z",
     "iopub.status.idle": "2025-08-19T19:00:12.238593Z",
     "shell.execute_reply": "2025-08-19T19:00:12.237861Z"
    },
    "papermill": {
     "duration": 0.057873,
     "end_time": "2025-08-19T19:00:12.241493",
     "exception": false,
     "start_time": "2025-08-19T19:00:12.183620",
     "status": "completed"
    },
    "tags": []
   },
   "outputs": [],
   "source": [
    "# Auto-reload the custom package\n",
    "%load_ext autoreload\n",
    "%autoreload 1\n",
    "%aimport fairness_multiverse"
   ]
  },
  {
   "cell_type": "code",
   "execution_count": 7,
   "id": "94c8eb93",
   "metadata": {
    "execution": {
     "iopub.execute_input": "2025-08-19T19:00:12.279530Z",
     "iopub.status.busy": "2025-08-19T19:00:12.279197Z",
     "iopub.status.idle": "2025-08-19T19:00:13.890360Z",
     "shell.execute_reply": "2025-08-19T19:00:13.888761Z"
    },
    "papermill": {
     "duration": 1.628459,
     "end_time": "2025-08-19T19:00:13.892369",
     "exception": false,
     "start_time": "2025-08-19T19:00:12.263910",
     "status": "completed"
    },
    "tags": []
   },
   "outputs": [],
   "source": [
    "from fairness_multiverse.universe import UniverseAnalysis\n",
    "\n",
    "universe_analysis = UniverseAnalysis(\n",
    "    run_no = run_no,\n",
    "    universe_id = universe_id,\n",
    "    universe = universe,\n",
    "    output_dir=output_dir,\n",
    ")"
   ]
  },
  {
   "cell_type": "code",
   "execution_count": 8,
   "id": "2a6381cf",
   "metadata": {
    "execution": {
     "iopub.execute_input": "2025-08-19T19:00:13.918393Z",
     "iopub.status.busy": "2025-08-19T19:00:13.916848Z",
     "iopub.status.idle": "2025-08-19T19:00:13.931354Z",
     "shell.execute_reply": "2025-08-19T19:00:13.929483Z"
    },
    "papermill": {
     "duration": 0.028325,
     "end_time": "2025-08-19T19:00:13.933306",
     "exception": false,
     "start_time": "2025-08-19T19:00:13.904981",
     "status": "completed"
    },
    "tags": []
   },
   "outputs": [
    {
     "name": "stdout",
     "output_type": "stream",
     "text": [
      "Using Seed: 2023\n"
     ]
    }
   ],
   "source": [
    "import numpy as np\n",
    "parsed_seed = int(seed)\n",
    "np.random.seed(parsed_seed)\n",
    "print(f\"Using Seed: {parsed_seed}\")"
   ]
  },
  {
   "cell_type": "markdown",
   "id": "b6e958b4",
   "metadata": {
    "papermill": {
     "duration": 0.009895,
     "end_time": "2025-08-19T19:00:13.955928",
     "exception": false,
     "start_time": "2025-08-19T19:00:13.946033",
     "status": "completed"
    },
    "tags": []
   },
   "source": [
    "# Loading Data"
   ]
  },
  {
   "cell_type": "code",
   "execution_count": 9,
   "id": "98701482",
   "metadata": {
    "execution": {
     "iopub.execute_input": "2025-08-19T19:00:13.977059Z",
     "iopub.status.busy": "2025-08-19T19:00:13.975791Z",
     "iopub.status.idle": "2025-08-19T19:00:24.402735Z",
     "shell.execute_reply": "2025-08-19T19:00:24.401457Z"
    },
    "papermill": {
     "duration": 10.439402,
     "end_time": "2025-08-19T19:00:24.404409",
     "exception": false,
     "start_time": "2025-08-19T19:00:13.965007",
     "status": "completed"
    },
    "tags": []
   },
   "outputs": [
    {
     "name": "stdout",
     "output_type": "stream",
     "text": [
      "Loading SIAB data from cache: data/siab_cached.csv.gz\n"
     ]
    },
    {
     "name": "stdout",
     "output_type": "stream",
     "text": [
      "(643690, 164)\n"
     ]
    }
   ],
   "source": [
    "from pathlib import Path\n",
    "import pandas as pd\n",
    "\n",
    "# File paths\n",
    "raw_file = Path(\"data/raw/siab.csv\")\n",
    "cache_file = Path(\"data/siab_cached.csv.gz\")\n",
    "\n",
    "# Ensure cache directory exists\n",
    "cache_file.parent.mkdir(parents=True, exist_ok=True)\n",
    "\n",
    "# Load with simple caching\n",
    "if cache_file.exists():\n",
    "    print(f\"Loading SIAB data from cache: {cache_file}\")\n",
    "    siab = pd.read_csv(cache_file, compression='gzip')\n",
    "else:\n",
    "    print(f\"Cache not found. Reading raw SIAB data: {raw_file}\")\n",
    "    siab = pd.read_csv(raw_file)\n",
    "    siab.to_csv(cache_file, index=False, compression='gzip')\n",
    "    print(f\"Cached SIAB data to: {cache_file}\")\n",
    "\n",
    "print(siab.shape)"
   ]
  },
  {
   "cell_type": "code",
   "execution_count": 10,
   "id": "058d2abb",
   "metadata": {
    "execution": {
     "iopub.execute_input": "2025-08-19T19:00:24.444552Z",
     "iopub.status.busy": "2025-08-19T19:00:24.443867Z",
     "iopub.status.idle": "2025-08-19T19:00:24.605765Z",
     "shell.execute_reply": "2025-08-19T19:00:24.604718Z"
    },
    "papermill": {
     "duration": 0.18594,
     "end_time": "2025-08-19T19:00:24.609549",
     "exception": false,
     "start_time": "2025-08-19T19:00:24.423609",
     "status": "completed"
    },
    "tags": []
   },
   "outputs": [
    {
     "data": {
      "text/html": [
       "<div>\n",
       "<style scoped>\n",
       "    .dataframe tbody tr th:only-of-type {\n",
       "        vertical-align: middle;\n",
       "    }\n",
       "\n",
       "    .dataframe tbody tr th {\n",
       "        vertical-align: top;\n",
       "    }\n",
       "\n",
       "    .dataframe thead th {\n",
       "        text-align: right;\n",
       "    }\n",
       "</style>\n",
       "<table border=\"1\" class=\"dataframe\">\n",
       "  <thead>\n",
       "    <tr style=\"text-align: right;\">\n",
       "      <th></th>\n",
       "      <th>persnr</th>\n",
       "      <th>year</th>\n",
       "      <th>nrEntry</th>\n",
       "      <th>ltue</th>\n",
       "      <th>employed_before</th>\n",
       "      <th>receipt_leh_before</th>\n",
       "      <th>receipt_lhg_before</th>\n",
       "      <th>se_before</th>\n",
       "      <th>ASU_notue_seeking_before</th>\n",
       "      <th>ASU_other_before</th>\n",
       "      <th>...</th>\n",
       "      <th>minijob_tot_dur_byage</th>\n",
       "      <th>ft_tot_dur_byage</th>\n",
       "      <th>befrist_tot_dur_byage</th>\n",
       "      <th>leih_tot_dur_byage</th>\n",
       "      <th>LHG_tot_dur_byage</th>\n",
       "      <th>LEH_tot_dur_byage</th>\n",
       "      <th>almp_tot_dur_byage</th>\n",
       "      <th>almp_aw_tot_dur_byage</th>\n",
       "      <th>se_tot_dur_byage</th>\n",
       "      <th>seeking1_tot_dur_byage</th>\n",
       "    </tr>\n",
       "  </thead>\n",
       "  <tbody>\n",
       "    <tr>\n",
       "      <th>0</th>\n",
       "      <td>7</td>\n",
       "      <td>2015</td>\n",
       "      <td>1</td>\n",
       "      <td>0</td>\n",
       "      <td>1</td>\n",
       "      <td>0</td>\n",
       "      <td>0</td>\n",
       "      <td>0</td>\n",
       "      <td>1</td>\n",
       "      <td>0</td>\n",
       "      <td>...</td>\n",
       "      <td>0.000000</td>\n",
       "      <td>0.000000</td>\n",
       "      <td>15.043478</td>\n",
       "      <td>0.000000</td>\n",
       "      <td>0.000000</td>\n",
       "      <td>0.000000</td>\n",
       "      <td>0.000000</td>\n",
       "      <td>0.000000</td>\n",
       "      <td>0.000000</td>\n",
       "      <td>0.000000</td>\n",
       "    </tr>\n",
       "    <tr>\n",
       "      <th>1</th>\n",
       "      <td>18</td>\n",
       "      <td>2010</td>\n",
       "      <td>1</td>\n",
       "      <td>1</td>\n",
       "      <td>0</td>\n",
       "      <td>0</td>\n",
       "      <td>0</td>\n",
       "      <td>0</td>\n",
       "      <td>0</td>\n",
       "      <td>0</td>\n",
       "      <td>...</td>\n",
       "      <td>0.000000</td>\n",
       "      <td>0.000000</td>\n",
       "      <td>0.000000</td>\n",
       "      <td>0.000000</td>\n",
       "      <td>0.000000</td>\n",
       "      <td>0.000000</td>\n",
       "      <td>0.000000</td>\n",
       "      <td>0.000000</td>\n",
       "      <td>0.000000</td>\n",
       "      <td>0.000000</td>\n",
       "    </tr>\n",
       "    <tr>\n",
       "      <th>2</th>\n",
       "      <td>18</td>\n",
       "      <td>2011</td>\n",
       "      <td>2</td>\n",
       "      <td>0</td>\n",
       "      <td>1</td>\n",
       "      <td>0</td>\n",
       "      <td>1</td>\n",
       "      <td>0</td>\n",
       "      <td>1</td>\n",
       "      <td>0</td>\n",
       "      <td>...</td>\n",
       "      <td>2.714286</td>\n",
       "      <td>2.714286</td>\n",
       "      <td>0.000000</td>\n",
       "      <td>0.000000</td>\n",
       "      <td>10.775510</td>\n",
       "      <td>0.000000</td>\n",
       "      <td>8.367347</td>\n",
       "      <td>0.000000</td>\n",
       "      <td>0.000000</td>\n",
       "      <td>9.836735</td>\n",
       "    </tr>\n",
       "    <tr>\n",
       "      <th>3</th>\n",
       "      <td>18</td>\n",
       "      <td>2012</td>\n",
       "      <td>3</td>\n",
       "      <td>0</td>\n",
       "      <td>1</td>\n",
       "      <td>0</td>\n",
       "      <td>1</td>\n",
       "      <td>0</td>\n",
       "      <td>1</td>\n",
       "      <td>0</td>\n",
       "      <td>...</td>\n",
       "      <td>4.200000</td>\n",
       "      <td>4.200000</td>\n",
       "      <td>0.000000</td>\n",
       "      <td>0.000000</td>\n",
       "      <td>12.100000</td>\n",
       "      <td>0.000000</td>\n",
       "      <td>9.400000</td>\n",
       "      <td>0.000000</td>\n",
       "      <td>0.000000</td>\n",
       "      <td>9.960000</td>\n",
       "    </tr>\n",
       "    <tr>\n",
       "      <th>4</th>\n",
       "      <td>18</td>\n",
       "      <td>2012</td>\n",
       "      <td>4</td>\n",
       "      <td>0</td>\n",
       "      <td>1</td>\n",
       "      <td>0</td>\n",
       "      <td>1</td>\n",
       "      <td>0</td>\n",
       "      <td>1</td>\n",
       "      <td>0</td>\n",
       "      <td>...</td>\n",
       "      <td>5.460000</td>\n",
       "      <td>5.460000</td>\n",
       "      <td>0.000000</td>\n",
       "      <td>0.000000</td>\n",
       "      <td>13.360000</td>\n",
       "      <td>0.000000</td>\n",
       "      <td>10.320000</td>\n",
       "      <td>0.000000</td>\n",
       "      <td>0.000000</td>\n",
       "      <td>10.280000</td>\n",
       "    </tr>\n",
       "    <tr>\n",
       "      <th>...</th>\n",
       "      <td>...</td>\n",
       "      <td>...</td>\n",
       "      <td>...</td>\n",
       "      <td>...</td>\n",
       "      <td>...</td>\n",
       "      <td>...</td>\n",
       "      <td>...</td>\n",
       "      <td>...</td>\n",
       "      <td>...</td>\n",
       "      <td>...</td>\n",
       "      <td>...</td>\n",
       "      <td>...</td>\n",
       "      <td>...</td>\n",
       "      <td>...</td>\n",
       "      <td>...</td>\n",
       "      <td>...</td>\n",
       "      <td>...</td>\n",
       "      <td>...</td>\n",
       "      <td>...</td>\n",
       "      <td>...</td>\n",
       "      <td>...</td>\n",
       "    </tr>\n",
       "    <tr>\n",
       "      <th>643685</th>\n",
       "      <td>1827860</td>\n",
       "      <td>2013</td>\n",
       "      <td>1</td>\n",
       "      <td>0</td>\n",
       "      <td>0</td>\n",
       "      <td>0</td>\n",
       "      <td>1</td>\n",
       "      <td>0</td>\n",
       "      <td>0</td>\n",
       "      <td>1</td>\n",
       "      <td>...</td>\n",
       "      <td>0.000000</td>\n",
       "      <td>0.000000</td>\n",
       "      <td>0.000000</td>\n",
       "      <td>0.000000</td>\n",
       "      <td>0.612903</td>\n",
       "      <td>0.000000</td>\n",
       "      <td>0.000000</td>\n",
       "      <td>0.000000</td>\n",
       "      <td>0.000000</td>\n",
       "      <td>0.000000</td>\n",
       "    </tr>\n",
       "    <tr>\n",
       "      <th>643686</th>\n",
       "      <td>1827860</td>\n",
       "      <td>2015</td>\n",
       "      <td>2</td>\n",
       "      <td>1</td>\n",
       "      <td>0</td>\n",
       "      <td>0</td>\n",
       "      <td>1</td>\n",
       "      <td>0</td>\n",
       "      <td>1</td>\n",
       "      <td>0</td>\n",
       "      <td>...</td>\n",
       "      <td>0.000000</td>\n",
       "      <td>0.000000</td>\n",
       "      <td>0.212121</td>\n",
       "      <td>0.212121</td>\n",
       "      <td>17.363636</td>\n",
       "      <td>0.000000</td>\n",
       "      <td>8.909091</td>\n",
       "      <td>0.000000</td>\n",
       "      <td>0.000000</td>\n",
       "      <td>7.121212</td>\n",
       "    </tr>\n",
       "    <tr>\n",
       "      <th>643687</th>\n",
       "      <td>1827860</td>\n",
       "      <td>2016</td>\n",
       "      <td>3</td>\n",
       "      <td>1</td>\n",
       "      <td>0</td>\n",
       "      <td>0</td>\n",
       "      <td>1</td>\n",
       "      <td>1</td>\n",
       "      <td>0</td>\n",
       "      <td>1</td>\n",
       "      <td>...</td>\n",
       "      <td>0.000000</td>\n",
       "      <td>0.000000</td>\n",
       "      <td>0.294118</td>\n",
       "      <td>0.205882</td>\n",
       "      <td>34.705882</td>\n",
       "      <td>0.000000</td>\n",
       "      <td>10.352941</td>\n",
       "      <td>1.705882</td>\n",
       "      <td>1.705882</td>\n",
       "      <td>23.911765</td>\n",
       "    </tr>\n",
       "    <tr>\n",
       "      <th>643688</th>\n",
       "      <td>1827869</td>\n",
       "      <td>2013</td>\n",
       "      <td>1</td>\n",
       "      <td>1</td>\n",
       "      <td>1</td>\n",
       "      <td>0</td>\n",
       "      <td>0</td>\n",
       "      <td>0</td>\n",
       "      <td>1</td>\n",
       "      <td>0</td>\n",
       "      <td>...</td>\n",
       "      <td>0.000000</td>\n",
       "      <td>0.000000</td>\n",
       "      <td>0.000000</td>\n",
       "      <td>0.000000</td>\n",
       "      <td>0.000000</td>\n",
       "      <td>0.525424</td>\n",
       "      <td>0.000000</td>\n",
       "      <td>0.000000</td>\n",
       "      <td>0.000000</td>\n",
       "      <td>0.000000</td>\n",
       "    </tr>\n",
       "    <tr>\n",
       "      <th>643689</th>\n",
       "      <td>1827869</td>\n",
       "      <td>2014</td>\n",
       "      <td>2</td>\n",
       "      <td>0</td>\n",
       "      <td>0</td>\n",
       "      <td>1</td>\n",
       "      <td>0</td>\n",
       "      <td>0</td>\n",
       "      <td>1</td>\n",
       "      <td>0</td>\n",
       "      <td>...</td>\n",
       "      <td>0.000000</td>\n",
       "      <td>0.666667</td>\n",
       "      <td>0.666667</td>\n",
       "      <td>0.000000</td>\n",
       "      <td>0.000000</td>\n",
       "      <td>8.950000</td>\n",
       "      <td>1.033333</td>\n",
       "      <td>0.083333</td>\n",
       "      <td>0.083333</td>\n",
       "      <td>8.133333</td>\n",
       "    </tr>\n",
       "  </tbody>\n",
       "</table>\n",
       "<p>643690 rows × 164 columns</p>\n",
       "</div>"
      ],
      "text/plain": [
       "         persnr  year  nrEntry  ltue  employed_before  receipt_leh_before  \\\n",
       "0             7  2015        1     0                1                   0   \n",
       "1            18  2010        1     1                0                   0   \n",
       "2            18  2011        2     0                1                   0   \n",
       "3            18  2012        3     0                1                   0   \n",
       "4            18  2012        4     0                1                   0   \n",
       "...         ...   ...      ...   ...              ...                 ...   \n",
       "643685  1827860  2013        1     0                0                   0   \n",
       "643686  1827860  2015        2     1                0                   0   \n",
       "643687  1827860  2016        3     1                0                   0   \n",
       "643688  1827869  2013        1     1                1                   0   \n",
       "643689  1827869  2014        2     0                0                   1   \n",
       "\n",
       "        receipt_lhg_before  se_before  ASU_notue_seeking_before  \\\n",
       "0                        0          0                         1   \n",
       "1                        0          0                         0   \n",
       "2                        1          0                         1   \n",
       "3                        1          0                         1   \n",
       "4                        1          0                         1   \n",
       "...                    ...        ...                       ...   \n",
       "643685                   1          0                         0   \n",
       "643686                   1          0                         1   \n",
       "643687                   1          1                         0   \n",
       "643688                   0          0                         1   \n",
       "643689                   0          0                         1   \n",
       "\n",
       "        ASU_other_before  ...  minijob_tot_dur_byage  ft_tot_dur_byage  \\\n",
       "0                      0  ...               0.000000          0.000000   \n",
       "1                      0  ...               0.000000          0.000000   \n",
       "2                      0  ...               2.714286          2.714286   \n",
       "3                      0  ...               4.200000          4.200000   \n",
       "4                      0  ...               5.460000          5.460000   \n",
       "...                  ...  ...                    ...               ...   \n",
       "643685                 1  ...               0.000000          0.000000   \n",
       "643686                 0  ...               0.000000          0.000000   \n",
       "643687                 1  ...               0.000000          0.000000   \n",
       "643688                 0  ...               0.000000          0.000000   \n",
       "643689                 0  ...               0.000000          0.666667   \n",
       "\n",
       "        befrist_tot_dur_byage  leih_tot_dur_byage  LHG_tot_dur_byage  \\\n",
       "0                   15.043478            0.000000           0.000000   \n",
       "1                    0.000000            0.000000           0.000000   \n",
       "2                    0.000000            0.000000          10.775510   \n",
       "3                    0.000000            0.000000          12.100000   \n",
       "4                    0.000000            0.000000          13.360000   \n",
       "...                       ...                 ...                ...   \n",
       "643685               0.000000            0.000000           0.612903   \n",
       "643686               0.212121            0.212121          17.363636   \n",
       "643687               0.294118            0.205882          34.705882   \n",
       "643688               0.000000            0.000000           0.000000   \n",
       "643689               0.666667            0.000000           0.000000   \n",
       "\n",
       "        LEH_tot_dur_byage  almp_tot_dur_byage  almp_aw_tot_dur_byage  \\\n",
       "0                0.000000            0.000000               0.000000   \n",
       "1                0.000000            0.000000               0.000000   \n",
       "2                0.000000            8.367347               0.000000   \n",
       "3                0.000000            9.400000               0.000000   \n",
       "4                0.000000           10.320000               0.000000   \n",
       "...                   ...                 ...                    ...   \n",
       "643685           0.000000            0.000000               0.000000   \n",
       "643686           0.000000            8.909091               0.000000   \n",
       "643687           0.000000           10.352941               1.705882   \n",
       "643688           0.525424            0.000000               0.000000   \n",
       "643689           8.950000            1.033333               0.083333   \n",
       "\n",
       "        se_tot_dur_byage  seeking1_tot_dur_byage  \n",
       "0               0.000000                0.000000  \n",
       "1               0.000000                0.000000  \n",
       "2               0.000000                9.836735  \n",
       "3               0.000000                9.960000  \n",
       "4               0.000000               10.280000  \n",
       "...                  ...                     ...  \n",
       "643685          0.000000                0.000000  \n",
       "643686          0.000000                7.121212  \n",
       "643687          1.705882               23.911765  \n",
       "643688          0.000000                0.000000  \n",
       "643689          0.083333                8.133333  \n",
       "\n",
       "[643690 rows x 164 columns]"
      ]
     },
     "execution_count": 10,
     "metadata": {},
     "output_type": "execute_result"
    }
   ],
   "source": [
    "siab"
   ]
  },
  {
   "cell_type": "markdown",
   "id": "1f87e805",
   "metadata": {
    "papermill": {
     "duration": 0.009808,
     "end_time": "2025-08-19T19:00:24.631134",
     "exception": false,
     "start_time": "2025-08-19T19:00:24.621326",
     "status": "completed"
    },
    "tags": []
   },
   "source": [
    "# Splitting Data and Setting Training Data Size"
   ]
  },
  {
   "cell_type": "code",
   "execution_count": 11,
   "id": "910ae358",
   "metadata": {
    "execution": {
     "iopub.execute_input": "2025-08-19T19:00:24.655524Z",
     "iopub.status.busy": "2025-08-19T19:00:24.653742Z",
     "iopub.status.idle": "2025-08-19T19:00:25.354099Z",
     "shell.execute_reply": "2025-08-19T19:00:25.352835Z"
    },
    "papermill": {
     "duration": 0.715097,
     "end_time": "2025-08-19T19:00:25.355895",
     "exception": false,
     "start_time": "2025-08-19T19:00:24.640798",
     "status": "completed"
    },
    "tags": []
   },
   "outputs": [],
   "source": [
    "from fairness_multiverse.universe import sample_by_year_size\n",
    "\n",
    "siab_train = sample_by_year_size(siab,\n",
    "                               training_year=universe[\"training_year\"],\n",
    "                               training_size=universe[\"training_size\"])"
   ]
  },
  {
   "cell_type": "code",
   "execution_count": 12,
   "id": "919c8ff5",
   "metadata": {
    "execution": {
     "iopub.execute_input": "2025-08-19T19:00:25.378834Z",
     "iopub.status.busy": "2025-08-19T19:00:25.377815Z",
     "iopub.status.idle": "2025-08-19T19:00:25.394399Z",
     "shell.execute_reply": "2025-08-19T19:00:25.387699Z"
    },
    "papermill": {
     "duration": 0.02998,
     "end_time": "2025-08-19T19:00:25.396118",
     "exception": false,
     "start_time": "2025-08-19T19:00:25.366138",
     "status": "completed"
    },
    "tags": []
   },
   "outputs": [
    {
     "data": {
      "text/plain": [
       "(1000, 164)"
      ]
     },
     "execution_count": 12,
     "metadata": {},
     "output_type": "execute_result"
    }
   ],
   "source": [
    "siab_train.shape"
   ]
  },
  {
   "cell_type": "code",
   "execution_count": 13,
   "id": "feb13bf4",
   "metadata": {
    "execution": {
     "iopub.execute_input": "2025-08-19T19:00:25.423426Z",
     "iopub.status.busy": "2025-08-19T19:00:25.422648Z",
     "iopub.status.idle": "2025-08-19T19:00:25.442834Z",
     "shell.execute_reply": "2025-08-19T19:00:25.441913Z"
    },
    "papermill": {
     "duration": 0.033933,
     "end_time": "2025-08-19T19:00:25.444842",
     "exception": false,
     "start_time": "2025-08-19T19:00:25.410909",
     "status": "completed"
    },
    "tags": []
   },
   "outputs": [
    {
     "data": {
      "text/plain": [
       "year\n",
       "2012    334\n",
       "2013    333\n",
       "2014    333\n",
       "dtype: int64"
      ]
     },
     "metadata": {},
     "output_type": "display_data"
    }
   ],
   "source": [
    "display(siab_train.groupby(\"year\").size())"
   ]
  },
  {
   "cell_type": "code",
   "execution_count": 14,
   "id": "0997782f",
   "metadata": {
    "execution": {
     "iopub.execute_input": "2025-08-19T19:00:25.474106Z",
     "iopub.status.busy": "2025-08-19T19:00:25.473141Z",
     "iopub.status.idle": "2025-08-19T19:00:25.814895Z",
     "shell.execute_reply": "2025-08-19T19:00:25.814130Z"
    },
    "papermill": {
     "duration": 0.356629,
     "end_time": "2025-08-19T19:00:25.817850",
     "exception": false,
     "start_time": "2025-08-19T19:00:25.461221",
     "status": "completed"
    },
    "tags": []
   },
   "outputs": [],
   "source": [
    "#siab_train = siab_s[siab_s.year < 2015]\n",
    "siab_calib = siab[siab.year == 2015]\n",
    "siab_test = siab[siab.year == 2016]"
   ]
  },
  {
   "cell_type": "code",
   "execution_count": 15,
   "id": "2c1e4012",
   "metadata": {
    "execution": {
     "iopub.execute_input": "2025-08-19T19:00:25.861803Z",
     "iopub.status.busy": "2025-08-19T19:00:25.861086Z",
     "iopub.status.idle": "2025-08-19T19:00:25.866996Z",
     "shell.execute_reply": "2025-08-19T19:00:25.865920Z"
    },
    "papermill": {
     "duration": 0.027596,
     "end_time": "2025-08-19T19:00:25.869250",
     "exception": false,
     "start_time": "2025-08-19T19:00:25.841654",
     "status": "completed"
    },
    "tags": []
   },
   "outputs": [],
   "source": [
    "#siab_calib.shape"
   ]
  },
  {
   "cell_type": "code",
   "execution_count": 16,
   "id": "f66b54ca",
   "metadata": {
    "execution": {
     "iopub.execute_input": "2025-08-19T19:00:25.892266Z",
     "iopub.status.busy": "2025-08-19T19:00:25.891578Z",
     "iopub.status.idle": "2025-08-19T19:00:25.904908Z",
     "shell.execute_reply": "2025-08-19T19:00:25.900339Z"
    },
    "papermill": {
     "duration": 0.027015,
     "end_time": "2025-08-19T19:00:25.906598",
     "exception": false,
     "start_time": "2025-08-19T19:00:25.879583",
     "status": "completed"
    },
    "tags": []
   },
   "outputs": [],
   "source": [
    "#siab_test.shape"
   ]
  },
  {
   "cell_type": "code",
   "execution_count": 17,
   "id": "27e4384d",
   "metadata": {
    "execution": {
     "iopub.execute_input": "2025-08-19T19:00:25.939108Z",
     "iopub.status.busy": "2025-08-19T19:00:25.938652Z",
     "iopub.status.idle": "2025-08-19T19:00:25.946195Z",
     "shell.execute_reply": "2025-08-19T19:00:25.945379Z"
    },
    "papermill": {
     "duration": 0.020438,
     "end_time": "2025-08-19T19:00:25.947722",
     "exception": false,
     "start_time": "2025-08-19T19:00:25.927284",
     "status": "completed"
    },
    "tags": []
   },
   "outputs": [],
   "source": [
    "X_train = siab_train.iloc[:,4:164]\n",
    "y_train = siab_train.iloc[:, [3]]"
   ]
  },
  {
   "cell_type": "code",
   "execution_count": 18,
   "id": "08ee8389",
   "metadata": {
    "execution": {
     "iopub.execute_input": "2025-08-19T19:00:25.970454Z",
     "iopub.status.busy": "2025-08-19T19:00:25.969392Z",
     "iopub.status.idle": "2025-08-19T19:00:26.099815Z",
     "shell.execute_reply": "2025-08-19T19:00:26.098816Z"
    },
    "papermill": {
     "duration": 0.144796,
     "end_time": "2025-08-19T19:00:26.102882",
     "exception": false,
     "start_time": "2025-08-19T19:00:25.958086",
     "status": "completed"
    },
    "tags": []
   },
   "outputs": [],
   "source": [
    "X_calib = siab_calib.iloc[:,4:164]\n",
    "y_calib = siab_calib.iloc[:, [3]]"
   ]
  },
  {
   "cell_type": "code",
   "execution_count": 19,
   "id": "b7ff42e0",
   "metadata": {
    "execution": {
     "iopub.execute_input": "2025-08-19T19:00:26.139084Z",
     "iopub.status.busy": "2025-08-19T19:00:26.138114Z",
     "iopub.status.idle": "2025-08-19T19:00:26.201442Z",
     "shell.execute_reply": "2025-08-19T19:00:26.200459Z"
    },
    "papermill": {
     "duration": 0.080635,
     "end_time": "2025-08-19T19:00:26.204250",
     "exception": false,
     "start_time": "2025-08-19T19:00:26.123615",
     "status": "completed"
    },
    "tags": []
   },
   "outputs": [],
   "source": [
    "X_test = siab_test.iloc[:,4:164]\n",
    "y_true = siab_test.iloc[:, [3]]"
   ]
  },
  {
   "cell_type": "code",
   "execution_count": 20,
   "id": "0275101e",
   "metadata": {
    "execution": {
     "iopub.execute_input": "2025-08-19T19:00:26.244227Z",
     "iopub.status.busy": "2025-08-19T19:00:26.242778Z",
     "iopub.status.idle": "2025-08-19T19:00:26.372901Z",
     "shell.execute_reply": "2025-08-19T19:00:26.371770Z"
    },
    "papermill": {
     "duration": 0.146578,
     "end_time": "2025-08-19T19:00:26.374875",
     "exception": false,
     "start_time": "2025-08-19T19:00:26.228297",
     "status": "completed"
    },
    "tags": []
   },
   "outputs": [],
   "source": [
    "# Auxiliary data needed downstream in the pipeline\n",
    "\n",
    "org_train = X_train.copy()\n",
    "org_test = X_test.copy()\n",
    "org_calib = X_calib.copy()"
   ]
  },
  {
   "cell_type": "markdown",
   "id": "b461e618",
   "metadata": {
    "papermill": {
     "duration": 0.010828,
     "end_time": "2025-08-19T19:00:26.399534",
     "exception": false,
     "start_time": "2025-08-19T19:00:26.388706",
     "status": "completed"
    },
    "tags": []
   },
   "source": [
    "# Preprocessing Data"
   ]
  },
  {
   "cell_type": "code",
   "execution_count": 21,
   "id": "78e74c4b",
   "metadata": {
    "execution": {
     "iopub.execute_input": "2025-08-19T19:00:26.426291Z",
     "iopub.status.busy": "2025-08-19T19:00:26.425031Z",
     "iopub.status.idle": "2025-08-19T19:00:26.434662Z",
     "shell.execute_reply": "2025-08-19T19:00:26.433179Z"
    },
    "papermill": {
     "duration": 0.025046,
     "end_time": "2025-08-19T19:00:26.436541",
     "exception": false,
     "start_time": "2025-08-19T19:00:26.411495",
     "status": "completed"
    },
    "tags": []
   },
   "outputs": [],
   "source": [
    "# EXCLUDE PROTECTED FEATURES\n",
    "# --------------------------\n",
    "\n",
    "excluded_features = universe[\"exclude_features\"].split(\"-\")\n",
    "excluded_features_dictionary = {\n",
    "    \"nationality\": [\"maxdeutsch1\", \"maxdeutsch.Missing.\"],\n",
    "    \"sex\": [\"frau1\"],\n",
    "    \"age\": [\"age\"],\n",
    "}"
   ]
  },
  {
   "cell_type": "code",
   "execution_count": 22,
   "id": "f8e63555",
   "metadata": {
    "execution": {
     "iopub.execute_input": "2025-08-19T19:00:26.464045Z",
     "iopub.status.busy": "2025-08-19T19:00:26.462653Z",
     "iopub.status.idle": "2025-08-19T19:00:26.471210Z",
     "shell.execute_reply": "2025-08-19T19:00:26.469968Z"
    },
    "papermill": {
     "duration": 0.022612,
     "end_time": "2025-08-19T19:00:26.472840",
     "exception": false,
     "start_time": "2025-08-19T19:00:26.450228",
     "status": "completed"
    },
    "tags": []
   },
   "outputs": [],
   "source": [
    "excluded_features_columns = [\n",
    "    excluded_features_dictionary[f] for f in excluded_features if len(f) > 0 and f != \"none\"\n",
    "]"
   ]
  },
  {
   "cell_type": "code",
   "execution_count": 23,
   "id": "da781f7c",
   "metadata": {
    "execution": {
     "iopub.execute_input": "2025-08-19T19:00:26.499713Z",
     "iopub.status.busy": "2025-08-19T19:00:26.497830Z",
     "iopub.status.idle": "2025-08-19T19:00:26.508260Z",
     "shell.execute_reply": "2025-08-19T19:00:26.506803Z"
    },
    "papermill": {
     "duration": 0.024535,
     "end_time": "2025-08-19T19:00:26.510377",
     "exception": false,
     "start_time": "2025-08-19T19:00:26.485842",
     "status": "completed"
    },
    "tags": []
   },
   "outputs": [],
   "source": [
    "from fairness_multiverse.universe import flatten_once\n",
    "\n",
    "excluded_features_columns = flatten_once(excluded_features_columns)"
   ]
  },
  {
   "cell_type": "code",
   "execution_count": 24,
   "id": "37fef0f0",
   "metadata": {
    "execution": {
     "iopub.execute_input": "2025-08-19T19:00:26.534109Z",
     "iopub.status.busy": "2025-08-19T19:00:26.533096Z",
     "iopub.status.idle": "2025-08-19T19:00:26.546301Z",
     "shell.execute_reply": "2025-08-19T19:00:26.545054Z"
    },
    "papermill": {
     "duration": 0.026804,
     "end_time": "2025-08-19T19:00:26.547774",
     "exception": false,
     "start_time": "2025-08-19T19:00:26.520970",
     "status": "completed"
    },
    "tags": []
   },
   "outputs": [
    {
     "name": "stdout",
     "output_type": "stream",
     "text": [
      "Dropping features: ['maxdeutsch1', 'maxdeutsch.Missing.', 'frau1']\n"
     ]
    }
   ],
   "source": [
    "if len(excluded_features_columns) > 0:\n",
    "    print(f\"Dropping features: {excluded_features_columns}\")\n",
    "    X_train.drop(excluded_features_columns, axis=1, inplace=True)"
   ]
  },
  {
   "cell_type": "code",
   "execution_count": 25,
   "id": "d029e3e9",
   "metadata": {
    "execution": {
     "iopub.execute_input": "2025-08-19T19:00:26.571705Z",
     "iopub.status.busy": "2025-08-19T19:00:26.570502Z",
     "iopub.status.idle": "2025-08-19T19:00:26.631079Z",
     "shell.execute_reply": "2025-08-19T19:00:26.629787Z"
    },
    "papermill": {
     "duration": 0.074322,
     "end_time": "2025-08-19T19:00:26.632881",
     "exception": false,
     "start_time": "2025-08-19T19:00:26.558559",
     "status": "completed"
    },
    "tags": []
   },
   "outputs": [
    {
     "name": "stdout",
     "output_type": "stream",
     "text": [
      "Dropping features: ['maxdeutsch1', 'maxdeutsch.Missing.', 'frau1']\n"
     ]
    }
   ],
   "source": [
    "if len(excluded_features_columns) > 0:\n",
    "    print(f\"Dropping features: {excluded_features_columns}\")\n",
    "    X_test.drop(excluded_features_columns, axis=1, inplace=True)"
   ]
  },
  {
   "cell_type": "code",
   "execution_count": 26,
   "id": "01d571f0",
   "metadata": {
    "execution": {
     "iopub.execute_input": "2025-08-19T19:00:26.659690Z",
     "iopub.status.busy": "2025-08-19T19:00:26.658577Z",
     "iopub.status.idle": "2025-08-19T19:00:26.716387Z",
     "shell.execute_reply": "2025-08-19T19:00:26.715653Z"
    },
    "papermill": {
     "duration": 0.074139,
     "end_time": "2025-08-19T19:00:26.719235",
     "exception": false,
     "start_time": "2025-08-19T19:00:26.645096",
     "status": "completed"
    },
    "tags": []
   },
   "outputs": [
    {
     "name": "stdout",
     "output_type": "stream",
     "text": [
      "Dropping features: ['maxdeutsch1', 'maxdeutsch.Missing.', 'frau1']\n"
     ]
    }
   ],
   "source": [
    "if len(excluded_features_columns) > 0:\n",
    "    print(f\"Dropping features: {excluded_features_columns}\")\n",
    "    X_calib.drop(excluded_features_columns, axis=1, inplace=True)"
   ]
  },
  {
   "cell_type": "code",
   "execution_count": 27,
   "id": "3037356e",
   "metadata": {
    "execution": {
     "iopub.execute_input": "2025-08-19T19:00:26.757796Z",
     "iopub.status.busy": "2025-08-19T19:00:26.755662Z",
     "iopub.status.idle": "2025-08-19T19:00:26.765042Z",
     "shell.execute_reply": "2025-08-19T19:00:26.763737Z"
    },
    "papermill": {
     "duration": 0.025093,
     "end_time": "2025-08-19T19:00:26.767124",
     "exception": false,
     "start_time": "2025-08-19T19:00:26.742031",
     "status": "completed"
    },
    "tags": []
   },
   "outputs": [],
   "source": [
    "# EXCLUDE CERTAIN SUBGROUPS\n",
    "# -------------------------\n",
    "\n",
    "mode = universe.get(\"exclude_subgroups\", \"keep-all\") # Defaults to \"keep-all\" if the key is missing."
   ]
  },
  {
   "cell_type": "code",
   "execution_count": 28,
   "id": "9d1e63fd",
   "metadata": {
    "execution": {
     "iopub.execute_input": "2025-08-19T19:00:26.795972Z",
     "iopub.status.busy": "2025-08-19T19:00:26.794306Z",
     "iopub.status.idle": "2025-08-19T19:00:26.805445Z",
     "shell.execute_reply": "2025-08-19T19:00:26.804349Z"
    },
    "papermill": {
     "duration": 0.026332,
     "end_time": "2025-08-19T19:00:26.807081",
     "exception": false,
     "start_time": "2025-08-19T19:00:26.780749",
     "status": "completed"
    },
    "tags": []
   },
   "outputs": [],
   "source": [
    "if mode == \"keep-all\":\n",
    "    keep_mask = pd.Series(True, index=org_train.index)\n",
    "\n",
    "elif mode == \"drop-non-german\":\n",
    "    keep_mask = (org_train[\"maxdeutsch1\"] == 1) & (org_train[\"maxdeutsch.Missing.\"] == 0)\n",
    "\n",
    "else:\n",
    "    raise ValueError(f\"Unsupported mode for exclude_subgroups: {mode}\")"
   ]
  },
  {
   "cell_type": "code",
   "execution_count": 29,
   "id": "d3b65474",
   "metadata": {
    "execution": {
     "iopub.execute_input": "2025-08-19T19:00:26.837487Z",
     "iopub.status.busy": "2025-08-19T19:00:26.836016Z",
     "iopub.status.idle": "2025-08-19T19:00:26.846522Z",
     "shell.execute_reply": "2025-08-19T19:00:26.845308Z"
    },
    "papermill": {
     "duration": 0.027038,
     "end_time": "2025-08-19T19:00:26.848465",
     "exception": false,
     "start_time": "2025-08-19T19:00:26.821427",
     "status": "completed"
    },
    "tags": []
   },
   "outputs": [],
   "source": [
    "n_drop = (~keep_mask).sum() # Calculates how many rows are set to be dropped\n",
    "if n_drop > 0:\n",
    "    pct = n_drop / len(keep_mask) * 100\n",
    "    print(f\"Dropping {n_drop} rows ({pct:.2f}%) where mode='{mode}'\")"
   ]
  },
  {
   "cell_type": "code",
   "execution_count": 30,
   "id": "f44389b3",
   "metadata": {
    "execution": {
     "iopub.execute_input": "2025-08-19T19:00:26.876310Z",
     "iopub.status.busy": "2025-08-19T19:00:26.875050Z",
     "iopub.status.idle": "2025-08-19T19:00:26.884345Z",
     "shell.execute_reply": "2025-08-19T19:00:26.883187Z"
    },
    "papermill": {
     "duration": 0.023631,
     "end_time": "2025-08-19T19:00:26.885737",
     "exception": false,
     "start_time": "2025-08-19T19:00:26.862106",
     "status": "completed"
    },
    "tags": []
   },
   "outputs": [],
   "source": [
    "X_train = X_train[keep_mask]"
   ]
  },
  {
   "cell_type": "code",
   "execution_count": 31,
   "id": "ceca8c2a",
   "metadata": {
    "execution": {
     "iopub.execute_input": "2025-08-19T19:00:26.913248Z",
     "iopub.status.busy": "2025-08-19T19:00:26.911850Z",
     "iopub.status.idle": "2025-08-19T19:00:26.920564Z",
     "shell.execute_reply": "2025-08-19T19:00:26.919250Z"
    },
    "papermill": {
     "duration": 0.022746,
     "end_time": "2025-08-19T19:00:26.921988",
     "exception": false,
     "start_time": "2025-08-19T19:00:26.899242",
     "status": "completed"
    },
    "tags": []
   },
   "outputs": [],
   "source": [
    "y_train = y_train[keep_mask]"
   ]
  },
  {
   "cell_type": "markdown",
   "id": "04d31e2f",
   "metadata": {
    "papermill": {
     "duration": 0.011158,
     "end_time": "2025-08-19T19:00:26.944987",
     "exception": false,
     "start_time": "2025-08-19T19:00:26.933829",
     "status": "completed"
    },
    "tags": []
   },
   "source": [
    "# Model Training"
   ]
  },
  {
   "cell_type": "code",
   "execution_count": 32,
   "id": "db991733",
   "metadata": {
    "execution": {
     "iopub.execute_input": "2025-08-19T19:00:26.969430Z",
     "iopub.status.busy": "2025-08-19T19:00:26.968147Z",
     "iopub.status.idle": "2025-08-19T19:00:27.078174Z",
     "shell.execute_reply": "2025-08-19T19:00:27.077379Z"
    },
    "papermill": {
     "duration": 0.125506,
     "end_time": "2025-08-19T19:00:27.081165",
     "exception": false,
     "start_time": "2025-08-19T19:00:26.955659",
     "status": "completed"
    },
    "tags": []
   },
   "outputs": [],
   "source": [
    "from sklearn.linear_model import LogisticRegression\n",
    "from sklearn.ensemble import GradientBoostingClassifier, RandomForestClassifier\n",
    "\n",
    "if (universe[\"model\"] == \"logreg\"):\n",
    "    model = LogisticRegression() #penalty=\"none\", solver=\"newton-cg\", max_iter=1)\n",
    "elif (universe[\"model\"] == \"penalized_logreg\"):\n",
    "    model = LogisticRegression(penalty=\"l2\", C=0.1) #, solver=\"newton-cg\", max_iter=1)\n",
    "elif (universe[\"model\"] == \"rf\"):\n",
    "    model = RandomForestClassifier() # n_estimators=100, n_jobs=-1\n",
    "elif (universe[\"model\"] == \"gbm\"):\n",
    "    model = GradientBoostingClassifier()\n",
    "elif (universe[\"model\"] == \"elasticnet\"):\n",
    "    model = LogisticRegression(penalty = 'elasticnet', solver = 'saga', l1_ratio = 0.5) # max_iter=5000\n",
    "else:\n",
    "    raise \"Unsupported universe.model\""
   ]
  },
  {
   "cell_type": "code",
   "execution_count": 33,
   "id": "a4b5cd25",
   "metadata": {
    "execution": {
     "iopub.execute_input": "2025-08-19T19:00:27.120341Z",
     "iopub.status.busy": "2025-08-19T19:00:27.119035Z",
     "iopub.status.idle": "2025-08-19T19:00:27.128946Z",
     "shell.execute_reply": "2025-08-19T19:00:27.127565Z"
    },
    "papermill": {
     "duration": 0.026023,
     "end_time": "2025-08-19T19:00:27.130747",
     "exception": false,
     "start_time": "2025-08-19T19:00:27.104724",
     "status": "completed"
    },
    "tags": []
   },
   "outputs": [],
   "source": [
    "from sklearn.pipeline import Pipeline\n",
    "from sklearn.preprocessing import StandardScaler\n",
    "\n",
    "model = Pipeline([\n",
    "    #(\"continuous_processor\", continuous_processor),\n",
    "    #(\"categorical_preprocessor\", categorical_preprocessor),\n",
    "    (\"scale\", StandardScaler() if universe[\"scale\"] == \"scale\" else None), \n",
    "    (\"model\", model),\n",
    "])"
   ]
  },
  {
   "cell_type": "code",
   "execution_count": 34,
   "id": "283a904d",
   "metadata": {
    "execution": {
     "iopub.execute_input": "2025-08-19T19:00:27.158338Z",
     "iopub.status.busy": "2025-08-19T19:00:27.156884Z",
     "iopub.status.idle": "2025-08-19T19:00:27.416435Z",
     "shell.execute_reply": "2025-08-19T19:00:27.415529Z"
    },
    "papermill": {
     "duration": 0.273812,
     "end_time": "2025-08-19T19:00:27.417909",
     "exception": false,
     "start_time": "2025-08-19T19:00:27.144097",
     "status": "completed"
    },
    "tags": []
   },
   "outputs": [
    {
     "name": "stderr",
     "output_type": "stream",
     "text": [
      "/dss/dsshome1/0C/ra93lal2/.local/share/virtualenvs/CMA_Fairness_v2-3j10GkSs/lib/python3.10/site-packages/sklearn/linear_model/_sag.py:350: ConvergenceWarning: The max_iter was reached which means the coef_ did not converge\n",
      "  warnings.warn(\n"
     ]
    },
    {
     "data": {
      "text/html": [
       "<style>#sk-container-id-1 {color: black;background-color: white;}#sk-container-id-1 pre{padding: 0;}#sk-container-id-1 div.sk-toggleable {background-color: white;}#sk-container-id-1 label.sk-toggleable__label {cursor: pointer;display: block;width: 100%;margin-bottom: 0;padding: 0.3em;box-sizing: border-box;text-align: center;}#sk-container-id-1 label.sk-toggleable__label-arrow:before {content: \"▸\";float: left;margin-right: 0.25em;color: #696969;}#sk-container-id-1 label.sk-toggleable__label-arrow:hover:before {color: black;}#sk-container-id-1 div.sk-estimator:hover label.sk-toggleable__label-arrow:before {color: black;}#sk-container-id-1 div.sk-toggleable__content {max-height: 0;max-width: 0;overflow: hidden;text-align: left;background-color: #f0f8ff;}#sk-container-id-1 div.sk-toggleable__content pre {margin: 0.2em;color: black;border-radius: 0.25em;background-color: #f0f8ff;}#sk-container-id-1 input.sk-toggleable__control:checked~div.sk-toggleable__content {max-height: 200px;max-width: 100%;overflow: auto;}#sk-container-id-1 input.sk-toggleable__control:checked~label.sk-toggleable__label-arrow:before {content: \"▾\";}#sk-container-id-1 div.sk-estimator input.sk-toggleable__control:checked~label.sk-toggleable__label {background-color: #d4ebff;}#sk-container-id-1 div.sk-label input.sk-toggleable__control:checked~label.sk-toggleable__label {background-color: #d4ebff;}#sk-container-id-1 input.sk-hidden--visually {border: 0;clip: rect(1px 1px 1px 1px);clip: rect(1px, 1px, 1px, 1px);height: 1px;margin: -1px;overflow: hidden;padding: 0;position: absolute;width: 1px;}#sk-container-id-1 div.sk-estimator {font-family: monospace;background-color: #f0f8ff;border: 1px dotted black;border-radius: 0.25em;box-sizing: border-box;margin-bottom: 0.5em;}#sk-container-id-1 div.sk-estimator:hover {background-color: #d4ebff;}#sk-container-id-1 div.sk-parallel-item::after {content: \"\";width: 100%;border-bottom: 1px solid gray;flex-grow: 1;}#sk-container-id-1 div.sk-label:hover label.sk-toggleable__label {background-color: #d4ebff;}#sk-container-id-1 div.sk-serial::before {content: \"\";position: absolute;border-left: 1px solid gray;box-sizing: border-box;top: 0;bottom: 0;left: 50%;z-index: 0;}#sk-container-id-1 div.sk-serial {display: flex;flex-direction: column;align-items: center;background-color: white;padding-right: 0.2em;padding-left: 0.2em;position: relative;}#sk-container-id-1 div.sk-item {position: relative;z-index: 1;}#sk-container-id-1 div.sk-parallel {display: flex;align-items: stretch;justify-content: center;background-color: white;position: relative;}#sk-container-id-1 div.sk-item::before, #sk-container-id-1 div.sk-parallel-item::before {content: \"\";position: absolute;border-left: 1px solid gray;box-sizing: border-box;top: 0;bottom: 0;left: 50%;z-index: -1;}#sk-container-id-1 div.sk-parallel-item {display: flex;flex-direction: column;z-index: 1;position: relative;background-color: white;}#sk-container-id-1 div.sk-parallel-item:first-child::after {align-self: flex-end;width: 50%;}#sk-container-id-1 div.sk-parallel-item:last-child::after {align-self: flex-start;width: 50%;}#sk-container-id-1 div.sk-parallel-item:only-child::after {width: 0;}#sk-container-id-1 div.sk-dashed-wrapped {border: 1px dashed gray;margin: 0 0.4em 0.5em 0.4em;box-sizing: border-box;padding-bottom: 0.4em;background-color: white;}#sk-container-id-1 div.sk-label label {font-family: monospace;font-weight: bold;display: inline-block;line-height: 1.2em;}#sk-container-id-1 div.sk-label-container {text-align: center;}#sk-container-id-1 div.sk-container {/* jupyter's `normalize.less` sets `[hidden] { display: none; }` but bootstrap.min.css set `[hidden] { display: none !important; }` so we also need the `!important` here to be able to override the default hidden behavior on the sphinx rendered scikit-learn.org. See: https://github.com/scikit-learn/scikit-learn/issues/21755 */display: inline-block !important;position: relative;}#sk-container-id-1 div.sk-text-repr-fallback {display: none;}</style><div id=\"sk-container-id-1\" class=\"sk-top-container\"><div class=\"sk-text-repr-fallback\"><pre>Pipeline(steps=[(&#x27;scale&#x27;, StandardScaler()),\n",
       "                (&#x27;model&#x27;,\n",
       "                 LogisticRegression(l1_ratio=0.5, penalty=&#x27;elasticnet&#x27;,\n",
       "                                    solver=&#x27;saga&#x27;))])</pre><b>In a Jupyter environment, please rerun this cell to show the HTML representation or trust the notebook. <br />On GitHub, the HTML representation is unable to render, please try loading this page with nbviewer.org.</b></div><div class=\"sk-container\" hidden><div class=\"sk-item sk-dashed-wrapped\"><div class=\"sk-label-container\"><div class=\"sk-label sk-toggleable\"><input class=\"sk-toggleable__control sk-hidden--visually\" id=\"sk-estimator-id-1\" type=\"checkbox\" ><label for=\"sk-estimator-id-1\" class=\"sk-toggleable__label sk-toggleable__label-arrow\">Pipeline</label><div class=\"sk-toggleable__content\"><pre>Pipeline(steps=[(&#x27;scale&#x27;, StandardScaler()),\n",
       "                (&#x27;model&#x27;,\n",
       "                 LogisticRegression(l1_ratio=0.5, penalty=&#x27;elasticnet&#x27;,\n",
       "                                    solver=&#x27;saga&#x27;))])</pre></div></div></div><div class=\"sk-serial\"><div class=\"sk-item\"><div class=\"sk-estimator sk-toggleable\"><input class=\"sk-toggleable__control sk-hidden--visually\" id=\"sk-estimator-id-2\" type=\"checkbox\" ><label for=\"sk-estimator-id-2\" class=\"sk-toggleable__label sk-toggleable__label-arrow\">StandardScaler</label><div class=\"sk-toggleable__content\"><pre>StandardScaler()</pre></div></div></div><div class=\"sk-item\"><div class=\"sk-estimator sk-toggleable\"><input class=\"sk-toggleable__control sk-hidden--visually\" id=\"sk-estimator-id-3\" type=\"checkbox\" ><label for=\"sk-estimator-id-3\" class=\"sk-toggleable__label sk-toggleable__label-arrow\">LogisticRegression</label><div class=\"sk-toggleable__content\"><pre>LogisticRegression(l1_ratio=0.5, penalty=&#x27;elasticnet&#x27;, solver=&#x27;saga&#x27;)</pre></div></div></div></div></div></div></div>"
      ],
      "text/plain": [
       "Pipeline(steps=[('scale', StandardScaler()),\n",
       "                ('model',\n",
       "                 LogisticRegression(l1_ratio=0.5, penalty='elasticnet',\n",
       "                                    solver='saga'))])"
      ]
     },
     "execution_count": 34,
     "metadata": {},
     "output_type": "execute_result"
    }
   ],
   "source": [
    "model.fit(X_train, y_train.values.ravel())"
   ]
  },
  {
   "cell_type": "code",
   "execution_count": 35,
   "id": "6e15e313",
   "metadata": {
    "execution": {
     "iopub.execute_input": "2025-08-19T19:00:27.445493Z",
     "iopub.status.busy": "2025-08-19T19:00:27.444674Z",
     "iopub.status.idle": "2025-08-19T19:00:27.641961Z",
     "shell.execute_reply": "2025-08-19T19:00:27.641242Z"
    },
    "papermill": {
     "duration": 0.214831,
     "end_time": "2025-08-19T19:00:27.645745",
     "exception": false,
     "start_time": "2025-08-19T19:00:27.430914",
     "status": "completed"
    },
    "tags": []
   },
   "outputs": [
    {
     "data": {
      "text/plain": [
       "0.8322372087838591"
      ]
     },
     "execution_count": 35,
     "metadata": {},
     "output_type": "execute_result"
    }
   ],
   "source": [
    "from fairness_multiverse.universe import predict_w_threshold\n",
    "\n",
    "probs_test = model.predict_proba(X_test)\n",
    "\n",
    "'''\n",
    "Below code returns a boolean array (or binary 0/1 array depending on how it’s used) where each element \n",
    "is True if the probability of class 1 is greater than or equal to the threshold, and False otherwise.\n",
    "'''\n",
    "y_pred_default = predict_w_threshold(probs_test, 0.5)\n",
    "\n",
    "from sklearn.metrics import accuracy_score\n",
    "\n",
    "# Naive prediction\n",
    "accuracy_score(y_true = y_true, y_pred = y_pred_default)"
   ]
  },
  {
   "cell_type": "code",
   "execution_count": 36,
   "id": "6f14067c",
   "metadata": {
    "execution": {
     "iopub.execute_input": "2025-08-19T19:00:27.687802Z",
     "iopub.status.busy": "2025-08-19T19:00:27.687090Z",
     "iopub.status.idle": "2025-08-19T19:00:27.870758Z",
     "shell.execute_reply": "2025-08-19T19:00:27.869960Z"
    },
    "papermill": {
     "duration": 0.203117,
     "end_time": "2025-08-19T19:00:27.875316",
     "exception": false,
     "start_time": "2025-08-19T19:00:27.672199",
     "status": "completed"
    },
    "tags": []
   },
   "outputs": [
    {
     "data": {
      "text/plain": [
       "array([0, 0, 0, ..., 0, 0, 0])"
      ]
     },
     "execution_count": 36,
     "metadata": {},
     "output_type": "execute_result"
    }
   ],
   "source": [
    "model.predict(X_test)"
   ]
  },
  {
   "cell_type": "markdown",
   "id": "3759920c",
   "metadata": {
    "papermill": {
     "duration": 0.01317,
     "end_time": "2025-08-19T19:00:27.914239",
     "exception": false,
     "start_time": "2025-08-19T19:00:27.901069",
     "status": "completed"
    },
    "tags": []
   },
   "source": [
    "# Conformal Prediction"
   ]
  },
  {
   "cell_type": "code",
   "execution_count": 37,
   "id": "14b27f59",
   "metadata": {
    "execution": {
     "iopub.execute_input": "2025-08-19T19:00:27.941082Z",
     "iopub.status.busy": "2025-08-19T19:00:27.940270Z",
     "iopub.status.idle": "2025-08-19T19:00:27.947397Z",
     "shell.execute_reply": "2025-08-19T19:00:27.946029Z"
    },
    "papermill": {
     "duration": 0.022989,
     "end_time": "2025-08-19T19:00:27.949233",
     "exception": false,
     "start_time": "2025-08-19T19:00:27.926244",
     "status": "completed"
    },
    "tags": []
   },
   "outputs": [],
   "source": [
    "# Miscoverage level for conformal prediction (10% allowed error rate => 90% target coverage)\n",
    "alpha = 0.1"
   ]
  },
  {
   "cell_type": "code",
   "execution_count": 38,
   "id": "59102472",
   "metadata": {
    "execution": {
     "iopub.execute_input": "2025-08-19T19:00:27.986208Z",
     "iopub.status.busy": "2025-08-19T19:00:27.983801Z",
     "iopub.status.idle": "2025-08-19T19:00:28.178090Z",
     "shell.execute_reply": "2025-08-19T19:00:28.176613Z"
    },
    "papermill": {
     "duration": 0.214117,
     "end_time": "2025-08-19T19:00:28.180140",
     "exception": false,
     "start_time": "2025-08-19T19:00:27.966023",
     "status": "completed"
    },
    "tags": []
   },
   "outputs": [],
   "source": [
    "probs_calib = model.predict_proba(X_calib)"
   ]
  },
  {
   "cell_type": "code",
   "execution_count": 39,
   "id": "a792d4dd",
   "metadata": {
    "execution": {
     "iopub.execute_input": "2025-08-19T19:00:28.209185Z",
     "iopub.status.busy": "2025-08-19T19:00:28.208073Z",
     "iopub.status.idle": "2025-08-19T19:00:28.216630Z",
     "shell.execute_reply": "2025-08-19T19:00:28.215532Z"
    },
    "papermill": {
     "duration": 0.023463,
     "end_time": "2025-08-19T19:00:28.217987",
     "exception": false,
     "start_time": "2025-08-19T19:00:28.194524",
     "status": "completed"
    },
    "tags": []
   },
   "outputs": [],
   "source": [
    "y_calib = y_calib.values.ravel().astype(int)"
   ]
  },
  {
   "cell_type": "code",
   "execution_count": 40,
   "id": "650fd033",
   "metadata": {
    "execution": {
     "iopub.execute_input": "2025-08-19T19:00:28.246745Z",
     "iopub.status.busy": "2025-08-19T19:00:28.245814Z",
     "iopub.status.idle": "2025-08-19T19:00:28.258562Z",
     "shell.execute_reply": "2025-08-19T19:00:28.257545Z"
    },
    "papermill": {
     "duration": 0.027016,
     "end_time": "2025-08-19T19:00:28.259971",
     "exception": false,
     "start_time": "2025-08-19T19:00:28.232955",
     "status": "completed"
    },
    "tags": []
   },
   "outputs": [],
   "source": [
    "from fairness_multiverse.conformal import compute_nc_scores\n",
    "\n",
    "# Compute nonconformity scores on calibration set (1 - probability of true class)\n",
    "nc_scores = compute_nc_scores(probs_calib, y_calib)"
   ]
  },
  {
   "cell_type": "code",
   "execution_count": 41,
   "id": "28ada44c",
   "metadata": {
    "execution": {
     "iopub.execute_input": "2025-08-19T19:00:28.289471Z",
     "iopub.status.busy": "2025-08-19T19:00:28.288257Z",
     "iopub.status.idle": "2025-08-19T19:00:28.303000Z",
     "shell.execute_reply": "2025-08-19T19:00:28.301630Z"
    },
    "papermill": {
     "duration": 0.03284,
     "end_time": "2025-08-19T19:00:28.307620",
     "exception": false,
     "start_time": "2025-08-19T19:00:28.274780",
     "status": "completed"
    },
    "tags": []
   },
   "outputs": [],
   "source": [
    "from fairness_multiverse.conformal import find_threshold\n",
    "\n",
    "# Find conformal threshold q_hat for the given alpha (split conformal method)\n",
    "q_hat = find_threshold(nc_scores, alpha)"
   ]
  },
  {
   "cell_type": "code",
   "execution_count": 42,
   "id": "df56469e",
   "metadata": {
    "execution": {
     "iopub.execute_input": "2025-08-19T19:00:28.345837Z",
     "iopub.status.busy": "2025-08-19T19:00:28.345232Z",
     "iopub.status.idle": "2025-08-19T19:00:28.353602Z",
     "shell.execute_reply": "2025-08-19T19:00:28.352578Z"
    },
    "papermill": {
     "duration": 0.02241,
     "end_time": "2025-08-19T19:00:28.355098",
     "exception": false,
     "start_time": "2025-08-19T19:00:28.332688",
     "status": "completed"
    },
    "tags": []
   },
   "outputs": [
    {
     "data": {
      "text/plain": [
       "0.7692845659767162"
      ]
     },
     "execution_count": 42,
     "metadata": {},
     "output_type": "execute_result"
    }
   ],
   "source": [
    "q_hat"
   ]
  },
  {
   "cell_type": "code",
   "execution_count": 43,
   "id": "aa1f5faa",
   "metadata": {
    "execution": {
     "iopub.execute_input": "2025-08-19T19:00:28.383111Z",
     "iopub.status.busy": "2025-08-19T19:00:28.382793Z",
     "iopub.status.idle": "2025-08-19T19:00:29.001679Z",
     "shell.execute_reply": "2025-08-19T19:00:29.000565Z"
    },
    "papermill": {
     "duration": 0.634337,
     "end_time": "2025-08-19T19:00:29.003582",
     "exception": false,
     "start_time": "2025-08-19T19:00:28.369245",
     "status": "completed"
    },
    "tags": []
   },
   "outputs": [],
   "source": [
    "from fairness_multiverse.conformal import predict_conformal_sets\n",
    "\n",
    "# Generate prediction sets for each test example\n",
    "pred_sets = predict_conformal_sets(model, X_test, q_hat)"
   ]
  },
  {
   "cell_type": "code",
   "execution_count": 44,
   "id": "97f67a6b",
   "metadata": {
    "execution": {
     "iopub.execute_input": "2025-08-19T19:00:29.034581Z",
     "iopub.status.busy": "2025-08-19T19:00:29.034111Z",
     "iopub.status.idle": "2025-08-19T19:00:29.043211Z",
     "shell.execute_reply": "2025-08-19T19:00:29.042111Z"
    },
    "papermill": {
     "duration": 0.024333,
     "end_time": "2025-08-19T19:00:29.044752",
     "exception": false,
     "start_time": "2025-08-19T19:00:29.020419",
     "status": "completed"
    },
    "tags": []
   },
   "outputs": [],
   "source": [
    "y_true = y_true.squeeze()"
   ]
  },
  {
   "cell_type": "code",
   "execution_count": 45,
   "id": "e700e9a7",
   "metadata": {
    "execution": {
     "iopub.execute_input": "2025-08-19T19:00:29.072397Z",
     "iopub.status.busy": "2025-08-19T19:00:29.071752Z",
     "iopub.status.idle": "2025-08-19T19:00:29.575953Z",
     "shell.execute_reply": "2025-08-19T19:00:29.574416Z"
    },
    "papermill": {
     "duration": 0.520273,
     "end_time": "2025-08-19T19:00:29.577658",
     "exception": false,
     "start_time": "2025-08-19T19:00:29.057385",
     "status": "completed"
    },
    "tags": []
   },
   "outputs": [],
   "source": [
    "from fairness_multiverse.conformal import evaluate_sets\n",
    "\n",
    "# Evaluate coverage and average set size on test data\n",
    "metrics = evaluate_sets(pred_sets, y_true)"
   ]
  },
  {
   "cell_type": "markdown",
   "id": "efbacec0",
   "metadata": {
    "papermill": {
     "duration": 0.013551,
     "end_time": "2025-08-19T19:00:29.603071",
     "exception": false,
     "start_time": "2025-08-19T19:00:29.589520",
     "status": "completed"
    },
    "tags": []
   },
   "source": [
    "# CP Metrics"
   ]
  },
  {
   "cell_type": "code",
   "execution_count": 46,
   "id": "9de55fb1",
   "metadata": {
    "execution": {
     "iopub.execute_input": "2025-08-19T19:00:29.632842Z",
     "iopub.status.busy": "2025-08-19T19:00:29.631038Z",
     "iopub.status.idle": "2025-08-19T19:00:29.649686Z",
     "shell.execute_reply": "2025-08-19T19:00:29.647811Z"
    },
    "papermill": {
     "duration": 0.036019,
     "end_time": "2025-08-19T19:00:29.651728",
     "exception": false,
     "start_time": "2025-08-19T19:00:29.615709",
     "status": "completed"
    },
    "tags": []
   },
   "outputs": [
    {
     "data": {
      "text/plain": [
       "{'coverage': 0.9088061531601828, 'avg_size': 1.2145468732582767}"
      ]
     },
     "execution_count": 46,
     "metadata": {},
     "output_type": "execute_result"
    }
   ],
   "source": [
    "metrics"
   ]
  },
  {
   "cell_type": "code",
   "execution_count": 47,
   "id": "64c340a1",
   "metadata": {
    "execution": {
     "iopub.execute_input": "2025-08-19T19:00:29.681734Z",
     "iopub.status.busy": "2025-08-19T19:00:29.681228Z",
     "iopub.status.idle": "2025-08-19T19:00:29.687647Z",
     "shell.execute_reply": "2025-08-19T19:00:29.686579Z"
    },
    "papermill": {
     "duration": 0.021304,
     "end_time": "2025-08-19T19:00:29.689251",
     "exception": false,
     "start_time": "2025-08-19T19:00:29.667947",
     "status": "completed"
    },
    "tags": []
   },
   "outputs": [],
   "source": [
    "example_universe = universe.copy()\n",
    "universe_training_year = example_universe.get(\"training_year\")\n",
    "universe_training_size = example_universe.get(\"training_size\")\n",
    "universe_scale = example_universe.get(\"scale\")\n",
    "universe_model = example_universe.get(\"model\")\n",
    "universe_exclude_features = example_universe.get(\"exclude_features\")\n",
    "universe_exclude_subgroups = example_universe.get(\"exclude_subgroups\")"
   ]
  },
  {
   "cell_type": "code",
   "execution_count": 48,
   "id": "dbb53cb4",
   "metadata": {
    "execution": {
     "iopub.execute_input": "2025-08-19T19:00:29.719502Z",
     "iopub.status.busy": "2025-08-19T19:00:29.718059Z",
     "iopub.status.idle": "2025-08-19T19:00:29.727716Z",
     "shell.execute_reply": "2025-08-19T19:00:29.726484Z"
    },
    "papermill": {
     "duration": 0.025323,
     "end_time": "2025-08-19T19:00:29.729343",
     "exception": false,
     "start_time": "2025-08-19T19:00:29.704020",
     "status": "completed"
    },
    "tags": []
   },
   "outputs": [],
   "source": [
    "cp_metrics_dict = {\n",
    "    \"universe_id\": [universe_id],\n",
    "    \"universe_training_year\": [universe_training_year],\n",
    "    \"universe_training_size\": [universe_training_size],\n",
    "    \"universe_scale\": [universe_scale],\n",
    "    \"universe_model\": [universe_model],\n",
    "    \"universe_exclude_features\": [universe_exclude_features],\n",
    "    \"universe_exclude_subgroups\": [universe_exclude_subgroups],\n",
    "    \"q_hat\": [q_hat],\n",
    "    \"coverage\": [metrics[\"coverage\"]],\n",
    "    \"avg_size\": [metrics[\"avg_size\"]],\n",
    "}"
   ]
  },
  {
   "cell_type": "code",
   "execution_count": 49,
   "id": "0d70d4b2",
   "metadata": {
    "execution": {
     "iopub.execute_input": "2025-08-19T19:00:29.779465Z",
     "iopub.status.busy": "2025-08-19T19:00:29.778963Z",
     "iopub.status.idle": "2025-08-19T19:00:29.786996Z",
     "shell.execute_reply": "2025-08-19T19:00:29.785221Z"
    },
    "papermill": {
     "duration": 0.044439,
     "end_time": "2025-08-19T19:00:29.789494",
     "exception": false,
     "start_time": "2025-08-19T19:00:29.745055",
     "status": "completed"
    },
    "tags": []
   },
   "outputs": [],
   "source": [
    "cp_metrics_df = pd.DataFrame(cp_metrics_dict)"
   ]
  },
  {
   "cell_type": "code",
   "execution_count": 50,
   "id": "b494403c",
   "metadata": {
    "execution": {
     "iopub.execute_input": "2025-08-19T19:00:29.818043Z",
     "iopub.status.busy": "2025-08-19T19:00:29.817478Z",
     "iopub.status.idle": "2025-08-19T19:00:29.837749Z",
     "shell.execute_reply": "2025-08-19T19:00:29.836878Z"
    },
    "papermill": {
     "duration": 0.042936,
     "end_time": "2025-08-19T19:00:29.846763",
     "exception": false,
     "start_time": "2025-08-19T19:00:29.803827",
     "status": "completed"
    },
    "tags": []
   },
   "outputs": [
    {
     "data": {
      "text/html": [
       "<div>\n",
       "<style scoped>\n",
       "    .dataframe tbody tr th:only-of-type {\n",
       "        vertical-align: middle;\n",
       "    }\n",
       "\n",
       "    .dataframe tbody tr th {\n",
       "        vertical-align: top;\n",
       "    }\n",
       "\n",
       "    .dataframe thead th {\n",
       "        text-align: right;\n",
       "    }\n",
       "</style>\n",
       "<table border=\"1\" class=\"dataframe\">\n",
       "  <thead>\n",
       "    <tr style=\"text-align: right;\">\n",
       "      <th></th>\n",
       "      <th>universe_id</th>\n",
       "      <th>universe_training_year</th>\n",
       "      <th>universe_training_size</th>\n",
       "      <th>universe_scale</th>\n",
       "      <th>universe_model</th>\n",
       "      <th>universe_exclude_features</th>\n",
       "      <th>universe_exclude_subgroups</th>\n",
       "      <th>q_hat</th>\n",
       "      <th>coverage</th>\n",
       "      <th>avg_size</th>\n",
       "    </tr>\n",
       "  </thead>\n",
       "  <tbody>\n",
       "    <tr>\n",
       "      <th>0</th>\n",
       "      <td>710854622547fb429f0a0f4a753e5802</td>\n",
       "      <td>2012_14</td>\n",
       "      <td>1k</td>\n",
       "      <td>scale</td>\n",
       "      <td>elasticnet</td>\n",
       "      <td>nationality-sex</td>\n",
       "      <td>keep-all</td>\n",
       "      <td>0.769285</td>\n",
       "      <td>0.908806</td>\n",
       "      <td>1.214547</td>\n",
       "    </tr>\n",
       "  </tbody>\n",
       "</table>\n",
       "</div>"
      ],
      "text/plain": [
       "                        universe_id universe_training_year  \\\n",
       "0  710854622547fb429f0a0f4a753e5802                2012_14   \n",
       "\n",
       "  universe_training_size universe_scale universe_model  \\\n",
       "0                     1k          scale     elasticnet   \n",
       "\n",
       "  universe_exclude_features universe_exclude_subgroups     q_hat  coverage  \\\n",
       "0           nationality-sex                   keep-all  0.769285  0.908806   \n",
       "\n",
       "   avg_size  \n",
       "0  1.214547  "
      ]
     },
     "execution_count": 50,
     "metadata": {},
     "output_type": "execute_result"
    }
   ],
   "source": [
    "cp_metrics_df"
   ]
  },
  {
   "cell_type": "markdown",
   "id": "ed608b0b",
   "metadata": {
    "papermill": {
     "duration": 0.012024,
     "end_time": "2025-08-19T19:00:29.878589",
     "exception": false,
     "start_time": "2025-08-19T19:00:29.866565",
     "status": "completed"
    },
    "tags": []
   },
   "source": [
    "Conditional coverage & looking at subgroups"
   ]
  },
  {
   "cell_type": "code",
   "execution_count": 51,
   "id": "8968c366",
   "metadata": {
    "execution": {
     "iopub.execute_input": "2025-08-19T19:00:29.905491Z",
     "iopub.status.busy": "2025-08-19T19:00:29.904170Z",
     "iopub.status.idle": "2025-08-19T19:00:30.367549Z",
     "shell.execute_reply": "2025-08-19T19:00:30.366704Z"
    },
    "papermill": {
     "duration": 0.479965,
     "end_time": "2025-08-19T19:00:30.370277",
     "exception": false,
     "start_time": "2025-08-19T19:00:29.890312",
     "status": "completed"
    },
    "tags": []
   },
   "outputs": [],
   "source": [
    "from fairness_multiverse.conformal import build_cp_groups\n",
    "\n",
    "cp_groups_df = build_cp_groups(pred_sets, y_true, X_test.index, org_test)"
   ]
  },
  {
   "cell_type": "code",
   "execution_count": 52,
   "id": "292ddabf",
   "metadata": {
    "execution": {
     "iopub.execute_input": "2025-08-19T19:00:30.412976Z",
     "iopub.status.busy": "2025-08-19T19:00:30.412204Z",
     "iopub.status.idle": "2025-08-19T19:00:31.358582Z",
     "shell.execute_reply": "2025-08-19T19:00:31.357253Z"
    },
    "papermill": {
     "duration": 0.963363,
     "end_time": "2025-08-19T19:00:31.360347",
     "exception": false,
     "start_time": "2025-08-19T19:00:30.396984",
     "status": "completed"
    },
    "tags": []
   },
   "outputs": [],
   "source": [
    "# Define covered = 1 if true_label is in the predicted set\n",
    "cp_groups_df['covered'] = cp_groups_df.apply(\n",
    "    lambda r: int(r['true_label'] in r['pred_set']),\n",
    "    axis=1\n",
    ")"
   ]
  },
  {
   "cell_type": "code",
   "execution_count": 53,
   "id": "3a261692",
   "metadata": {
    "execution": {
     "iopub.execute_input": "2025-08-19T19:00:31.416738Z",
     "iopub.status.busy": "2025-08-19T19:00:31.412330Z",
     "iopub.status.idle": "2025-08-19T19:00:31.447832Z",
     "shell.execute_reply": "2025-08-19T19:00:31.446822Z"
    },
    "papermill": {
     "duration": 0.075277,
     "end_time": "2025-08-19T19:00:31.453393",
     "exception": false,
     "start_time": "2025-08-19T19:00:31.378116",
     "status": "completed"
    },
    "tags": []
   },
   "outputs": [],
   "source": [
    "subgroups = ['frau1','nongerman','nongerman_male','nongerman_female']\n",
    "\n",
    "# Conditional coverage for subgroup==1\n",
    "cond_coverage = {\n",
    "    g: cp_groups_df.loc[cp_groups_df[g]==1, 'covered'].mean()\n",
    "    for g in subgroups\n",
    "}"
   ]
  },
  {
   "cell_type": "code",
   "execution_count": 54,
   "id": "894fd600",
   "metadata": {
    "execution": {
     "iopub.execute_input": "2025-08-19T19:00:31.532080Z",
     "iopub.status.busy": "2025-08-19T19:00:31.530442Z",
     "iopub.status.idle": "2025-08-19T19:00:31.538453Z",
     "shell.execute_reply": "2025-08-19T19:00:31.537619Z"
    },
    "papermill": {
     "duration": 0.040861,
     "end_time": "2025-08-19T19:00:31.540158",
     "exception": false,
     "start_time": "2025-08-19T19:00:31.499297",
     "status": "completed"
    },
    "tags": []
   },
   "outputs": [
    {
     "data": {
      "text/plain": [
       "{'frau1': 0.9043806442916835,\n",
       " 'nongerman': 0.9125919272441475,\n",
       " 'nongerman_male': 0.9283977303431505,\n",
       " 'nongerman_female': 0.8864381520119226}"
      ]
     },
     "execution_count": 54,
     "metadata": {},
     "output_type": "execute_result"
    }
   ],
   "source": [
    "cond_coverage"
   ]
  },
  {
   "cell_type": "code",
   "execution_count": 55,
   "id": "942895c7",
   "metadata": {
    "execution": {
     "iopub.execute_input": "2025-08-19T19:00:31.575161Z",
     "iopub.status.busy": "2025-08-19T19:00:31.573933Z",
     "iopub.status.idle": "2025-08-19T19:00:31.587591Z",
     "shell.execute_reply": "2025-08-19T19:00:31.586357Z"
    },
    "papermill": {
     "duration": 0.036254,
     "end_time": "2025-08-19T19:00:31.593965",
     "exception": false,
     "start_time": "2025-08-19T19:00:31.557711",
     "status": "completed"
    },
    "tags": []
   },
   "outputs": [],
   "source": [
    "for subgroup, cov in cond_coverage.items():\n",
    "    cp_metrics_df[f\"cov_{subgroup}\"] = cov"
   ]
  },
  {
   "cell_type": "code",
   "execution_count": 56,
   "id": "3970120f",
   "metadata": {
    "execution": {
     "iopub.execute_input": "2025-08-19T19:00:31.637837Z",
     "iopub.status.busy": "2025-08-19T19:00:31.637435Z",
     "iopub.status.idle": "2025-08-19T19:00:31.651741Z",
     "shell.execute_reply": "2025-08-19T19:00:31.651030Z"
    },
    "papermill": {
     "duration": 0.03987,
     "end_time": "2025-08-19T19:00:31.660644",
     "exception": false,
     "start_time": "2025-08-19T19:00:31.620774",
     "status": "completed"
    },
    "tags": []
   },
   "outputs": [
    {
     "data": {
      "text/html": [
       "<div>\n",
       "<style scoped>\n",
       "    .dataframe tbody tr th:only-of-type {\n",
       "        vertical-align: middle;\n",
       "    }\n",
       "\n",
       "    .dataframe tbody tr th {\n",
       "        vertical-align: top;\n",
       "    }\n",
       "\n",
       "    .dataframe thead th {\n",
       "        text-align: right;\n",
       "    }\n",
       "</style>\n",
       "<table border=\"1\" class=\"dataframe\">\n",
       "  <thead>\n",
       "    <tr style=\"text-align: right;\">\n",
       "      <th></th>\n",
       "      <th>universe_id</th>\n",
       "      <th>universe_training_year</th>\n",
       "      <th>universe_training_size</th>\n",
       "      <th>universe_scale</th>\n",
       "      <th>universe_model</th>\n",
       "      <th>universe_exclude_features</th>\n",
       "      <th>universe_exclude_subgroups</th>\n",
       "      <th>q_hat</th>\n",
       "      <th>coverage</th>\n",
       "      <th>avg_size</th>\n",
       "      <th>cov_frau1</th>\n",
       "      <th>cov_nongerman</th>\n",
       "      <th>cov_nongerman_male</th>\n",
       "      <th>cov_nongerman_female</th>\n",
       "    </tr>\n",
       "  </thead>\n",
       "  <tbody>\n",
       "    <tr>\n",
       "      <th>0</th>\n",
       "      <td>710854622547fb429f0a0f4a753e5802</td>\n",
       "      <td>2012_14</td>\n",
       "      <td>1k</td>\n",
       "      <td>scale</td>\n",
       "      <td>elasticnet</td>\n",
       "      <td>nationality-sex</td>\n",
       "      <td>keep-all</td>\n",
       "      <td>0.769285</td>\n",
       "      <td>0.908806</td>\n",
       "      <td>1.214547</td>\n",
       "      <td>0.904381</td>\n",
       "      <td>0.912592</td>\n",
       "      <td>0.928398</td>\n",
       "      <td>0.886438</td>\n",
       "    </tr>\n",
       "  </tbody>\n",
       "</table>\n",
       "</div>"
      ],
      "text/plain": [
       "                        universe_id universe_training_year  \\\n",
       "0  710854622547fb429f0a0f4a753e5802                2012_14   \n",
       "\n",
       "  universe_training_size universe_scale universe_model  \\\n",
       "0                     1k          scale     elasticnet   \n",
       "\n",
       "  universe_exclude_features universe_exclude_subgroups     q_hat  coverage  \\\n",
       "0           nationality-sex                   keep-all  0.769285  0.908806   \n",
       "\n",
       "   avg_size  cov_frau1  cov_nongerman  cov_nongerman_male  \\\n",
       "0  1.214547   0.904381       0.912592            0.928398   \n",
       "\n",
       "   cov_nongerman_female  \n",
       "0              0.886438  "
      ]
     },
     "execution_count": 56,
     "metadata": {},
     "output_type": "execute_result"
    }
   ],
   "source": [
    "cp_metrics_df"
   ]
  },
  {
   "cell_type": "markdown",
   "id": "3fc519cc",
   "metadata": {
    "papermill": {
     "duration": 0.015477,
     "end_time": "2025-08-19T19:00:31.701885",
     "exception": false,
     "start_time": "2025-08-19T19:00:31.686408",
     "status": "completed"
    },
    "tags": []
   },
   "source": [
    "# (Fairness) Metrics"
   ]
  },
  {
   "cell_type": "code",
   "execution_count": 57,
   "id": "a2e5e155",
   "metadata": {
    "execution": {
     "iopub.execute_input": "2025-08-19T19:00:31.738627Z",
     "iopub.status.busy": "2025-08-19T19:00:31.735927Z",
     "iopub.status.idle": "2025-08-19T19:00:31.769084Z",
     "shell.execute_reply": "2025-08-19T19:00:31.768280Z"
    },
    "papermill": {
     "duration": 0.053902,
     "end_time": "2025-08-19T19:00:31.770531",
     "exception": false,
     "start_time": "2025-08-19T19:00:31.716629",
     "status": "completed"
    },
    "tags": []
   },
   "outputs": [],
   "source": [
    "colname_to_bin = \"maxdeutsch1\"\n",
    "majority_value = org_train[colname_to_bin].mode()[0]\n",
    "\n",
    "org_test[\"majmin\"] = np.where(org_test[colname_to_bin] == majority_value, \"majority\", \"minority\")"
   ]
  },
  {
   "cell_type": "code",
   "execution_count": 58,
   "id": "17e3e4d5",
   "metadata": {
    "execution": {
     "iopub.execute_input": "2025-08-19T19:00:31.822166Z",
     "iopub.status.busy": "2025-08-19T19:00:31.821837Z",
     "iopub.status.idle": "2025-08-19T19:00:33.652938Z",
     "shell.execute_reply": "2025-08-19T19:00:33.651185Z"
    },
    "papermill": {
     "duration": 1.867657,
     "end_time": "2025-08-19T19:00:33.656192",
     "exception": false,
     "start_time": "2025-08-19T19:00:31.788535",
     "status": "completed"
    },
    "tags": []
   },
   "outputs": [],
   "source": [
    "example_universe = universe.copy()\n",
    "example_universe[\"cutoff\"] = example_universe[\"cutoff\"][0]\n",
    "example_universe[\"eval_fairness_grouping\"] = example_universe[\"eval_fairness_grouping\"][0]\n",
    "fairness_dict, metric_frame = universe_analysis.compute_metrics(\n",
    "    example_universe,\n",
    "    y_pred_prob=probs_test,\n",
    "    y_test=y_true,\n",
    "    org_test=org_test,\n",
    ")"
   ]
  },
  {
   "cell_type": "markdown",
   "id": "1fb7a0e9",
   "metadata": {
    "papermill": {
     "duration": 0.012677,
     "end_time": "2025-08-19T19:00:33.697657",
     "exception": false,
     "start_time": "2025-08-19T19:00:33.684980",
     "status": "completed"
    },
    "tags": []
   },
   "source": [
    "# Overall"
   ]
  },
  {
   "cell_type": "markdown",
   "id": "be1784b1",
   "metadata": {
    "papermill": {
     "duration": 0.015389,
     "end_time": "2025-08-19T19:00:33.725488",
     "exception": false,
     "start_time": "2025-08-19T19:00:33.710099",
     "status": "completed"
    },
    "tags": []
   },
   "source": [
    "Main fairness target: Equalized Odds. Seems to be a better fit than equal opportunity, since we're not only interested in Y = 1. Seems to be a better fit than demographic parity, since we also care about accuracy, not just equal distribution of preds.\n",
    "\n",
    "Pick column for computation of fairness metrics\n",
    "\n",
    "Performance\n",
    "Overall performance measures, most interesting in relation to the measures split by group below"
   ]
  },
  {
   "cell_type": "code",
   "execution_count": 59,
   "id": "b7672bee",
   "metadata": {
    "execution": {
     "iopub.execute_input": "2025-08-19T19:00:33.755859Z",
     "iopub.status.busy": "2025-08-19T19:00:33.754029Z",
     "iopub.status.idle": "2025-08-19T19:00:33.775513Z",
     "shell.execute_reply": "2025-08-19T19:00:33.773967Z"
    },
    "papermill": {
     "duration": 0.039504,
     "end_time": "2025-08-19T19:00:33.777772",
     "exception": false,
     "start_time": "2025-08-19T19:00:33.738268",
     "status": "completed"
    },
    "tags": []
   },
   "outputs": [
    {
     "data": {
      "text/plain": [
       "accuracy                   0.218738\n",
       "balanced accuracy          0.536026\n",
       "f1                         0.240225\n",
       "precision                  0.137232\n",
       "false positive rate        0.890757\n",
       "false negative rate        0.037192\n",
       "selection rate             0.900000\n",
       "count                  89710.000000\n",
       "dtype: float64"
      ]
     },
     "execution_count": 59,
     "metadata": {},
     "output_type": "execute_result"
    }
   ],
   "source": [
    "metric_frame.overall"
   ]
  },
  {
   "cell_type": "markdown",
   "id": "d93333c9",
   "metadata": {
    "papermill": {
     "duration": 0.012673,
     "end_time": "2025-08-19T19:00:33.808932",
     "exception": false,
     "start_time": "2025-08-19T19:00:33.796259",
     "status": "completed"
    },
    "tags": []
   },
   "source": [
    "By Group"
   ]
  },
  {
   "cell_type": "code",
   "execution_count": 60,
   "id": "52256966",
   "metadata": {
    "execution": {
     "iopub.execute_input": "2025-08-19T19:00:33.839549Z",
     "iopub.status.busy": "2025-08-19T19:00:33.835184Z",
     "iopub.status.idle": "2025-08-19T19:00:33.860647Z",
     "shell.execute_reply": "2025-08-19T19:00:33.859525Z"
    },
    "papermill": {
     "duration": 0.041057,
     "end_time": "2025-08-19T19:00:33.862256",
     "exception": false,
     "start_time": "2025-08-19T19:00:33.821199",
     "status": "completed"
    },
    "tags": []
   },
   "outputs": [
    {
     "data": {
      "text/html": [
       "<div>\n",
       "<style scoped>\n",
       "    .dataframe tbody tr th:only-of-type {\n",
       "        vertical-align: middle;\n",
       "    }\n",
       "\n",
       "    .dataframe tbody tr th {\n",
       "        vertical-align: top;\n",
       "    }\n",
       "\n",
       "    .dataframe thead th {\n",
       "        text-align: right;\n",
       "    }\n",
       "</style>\n",
       "<table border=\"1\" class=\"dataframe\">\n",
       "  <thead>\n",
       "    <tr style=\"text-align: right;\">\n",
       "      <th></th>\n",
       "      <th>accuracy</th>\n",
       "      <th>balanced accuracy</th>\n",
       "      <th>f1</th>\n",
       "      <th>precision</th>\n",
       "      <th>false positive rate</th>\n",
       "      <th>false negative rate</th>\n",
       "      <th>selection rate</th>\n",
       "      <th>count</th>\n",
       "    </tr>\n",
       "    <tr>\n",
       "      <th>majmin</th>\n",
       "      <th></th>\n",
       "      <th></th>\n",
       "      <th></th>\n",
       "      <th></th>\n",
       "      <th></th>\n",
       "      <th></th>\n",
       "      <th></th>\n",
       "      <th></th>\n",
       "    </tr>\n",
       "  </thead>\n",
       "  <tbody>\n",
       "    <tr>\n",
       "      <th>majority</th>\n",
       "      <td>0.238051</td>\n",
       "      <td>0.542562</td>\n",
       "      <td>0.249102</td>\n",
       "      <td>0.143199</td>\n",
       "      <td>0.871331</td>\n",
       "      <td>0.043545</td>\n",
       "      <td>0.882579</td>\n",
       "      <td>69170.0</td>\n",
       "    </tr>\n",
       "    <tr>\n",
       "      <th>minority</th>\n",
       "      <td>0.153700</td>\n",
       "      <td>0.516200</td>\n",
       "      <td>0.211977</td>\n",
       "      <td>0.118734</td>\n",
       "      <td>0.954931</td>\n",
       "      <td>0.012669</td>\n",
       "      <td>0.958666</td>\n",
       "      <td>20540.0</td>\n",
       "    </tr>\n",
       "  </tbody>\n",
       "</table>\n",
       "</div>"
      ],
      "text/plain": [
       "          accuracy  balanced accuracy        f1  precision  \\\n",
       "majmin                                                       \n",
       "majority  0.238051           0.542562  0.249102   0.143199   \n",
       "minority  0.153700           0.516200  0.211977   0.118734   \n",
       "\n",
       "          false positive rate  false negative rate  selection rate    count  \n",
       "majmin                                                                       \n",
       "majority             0.871331             0.043545        0.882579  69170.0  \n",
       "minority             0.954931             0.012669        0.958666  20540.0  "
      ]
     },
     "execution_count": 60,
     "metadata": {},
     "output_type": "execute_result"
    }
   ],
   "source": [
    "metric_frame.by_group"
   ]
  },
  {
   "cell_type": "code",
   "execution_count": 61,
   "id": "6e6c20ae",
   "metadata": {
    "execution": {
     "iopub.execute_input": "2025-08-19T19:00:33.892630Z",
     "iopub.status.busy": "2025-08-19T19:00:33.890941Z",
     "iopub.status.idle": "2025-08-19T19:00:35.974654Z",
     "shell.execute_reply": "2025-08-19T19:00:35.973627Z"
    },
    "papermill": {
     "duration": 2.099269,
     "end_time": "2025-08-19T19:00:35.975965",
     "exception": false,
     "start_time": "2025-08-19T19:00:33.876696",
     "status": "completed"
    },
    "tags": []
   },
   "outputs": [
    {
     "data": {
      "text/plain": [
       "array([[<Axes: title={'center': 'accuracy'}, xlabel='majmin'>,\n",
       "        <Axes: title={'center': 'balanced accuracy'}, xlabel='majmin'>,\n",
       "        <Axes: title={'center': 'f1'}, xlabel='majmin'>],\n",
       "       [<Axes: title={'center': 'precision'}, xlabel='majmin'>,\n",
       "        <Axes: title={'center': 'false positive rate'}, xlabel='majmin'>,\n",
       "        <Axes: title={'center': 'false negative rate'}, xlabel='majmin'>],\n",
       "       [<Axes: title={'center': 'selection rate'}, xlabel='majmin'>,\n",
       "        <Axes: title={'center': 'count'}, xlabel='majmin'>,\n",
       "        <Axes: xlabel='majmin'>]], dtype=object)"
      ]
     },
     "execution_count": 61,
     "metadata": {},
     "output_type": "execute_result"
    },
    {
     "data": {
      "image/png": "[encoded data removed]",
      "text/plain": [
       "<Figure size 1200x800 with 9 Axes>"
      ]
     },
     "metadata": {},
     "output_type": "display_data"
    }
   ],
   "source": [
    "# In a graphic\n",
    "metric_frame.by_group.plot.bar(\n",
    "    subplots=True,\n",
    "    layout=[3, 3],\n",
    "    legend=False,\n",
    "    figsize=[12, 8],\n",
    "    title=\"Show all metrics\",\n",
    ")"
   ]
  },
  {
   "cell_type": "markdown",
   "id": "b2e433ae",
   "metadata": {
    "papermill": {
     "duration": 0.013756,
     "end_time": "2025-08-19T19:00:36.006684",
     "exception": false,
     "start_time": "2025-08-19T19:00:35.992928",
     "status": "completed"
    },
    "tags": []
   },
   "source": [
    "# Final Output"
   ]
  },
  {
   "cell_type": "code",
   "execution_count": 62,
   "id": "3871301e",
   "metadata": {
    "execution": {
     "iopub.execute_input": "2025-08-19T19:00:36.038101Z",
     "iopub.status.busy": "2025-08-19T19:00:36.036267Z",
     "iopub.status.idle": "2025-08-19T19:00:36.054405Z",
     "shell.execute_reply": "2025-08-19T19:00:36.053463Z"
    },
    "papermill": {
     "duration": 0.036,
     "end_time": "2025-08-19T19:00:36.056306",
     "exception": false,
     "start_time": "2025-08-19T19:00:36.020306",
     "status": "completed"
    },
    "tags": []
   },
   "outputs": [
    {
     "data": {
      "text/plain": [
       "4"
      ]
     },
     "execution_count": 62,
     "metadata": {},
     "output_type": "execute_result"
    }
   ],
   "source": [
    "sub_universes = universe_analysis.generate_sub_universes()\n",
    "len(sub_universes)"
   ]
  },
  {
   "cell_type": "code",
   "execution_count": 63,
   "id": "d9cfdaca",
   "metadata": {
    "execution": {
     "iopub.execute_input": "2025-08-19T19:00:36.095480Z",
     "iopub.status.busy": "2025-08-19T19:00:36.094684Z",
     "iopub.status.idle": "2025-08-19T19:00:36.101525Z",
     "shell.execute_reply": "2025-08-19T19:00:36.100412Z"
    },
    "papermill": {
     "duration": 0.023638,
     "end_time": "2025-08-19T19:00:36.103001",
     "exception": false,
     "start_time": "2025-08-19T19:00:36.079363",
     "status": "completed"
    },
    "tags": []
   },
   "outputs": [],
   "source": [
    "def filter_sub_universe_data(sub_universe, org_test):\n",
    "    # Keep all rows — no filtering\n",
    "    keep_rows_mask = np.ones(org_test.shape[0], dtype=bool)\n",
    "\n",
    "    print(f\"[INFO] Keeping all rows: {keep_rows_mask.sum()} rows retained.\")\n",
    "    return keep_rows_mask"
   ]
  },
  {
   "cell_type": "code",
   "execution_count": 64,
   "id": "2bc31ac1",
   "metadata": {
    "execution": {
     "iopub.execute_input": "2025-08-19T19:00:36.135494Z",
     "iopub.status.busy": "2025-08-19T19:00:36.135099Z",
     "iopub.status.idle": "2025-08-19T19:00:42.990650Z",
     "shell.execute_reply": "2025-08-19T19:00:42.989621Z"
    },
    "papermill": {
     "duration": 6.871595,
     "end_time": "2025-08-19T19:00:42.991897",
     "exception": false,
     "start_time": "2025-08-19T19:00:36.120302",
     "status": "completed"
    },
    "tags": []
   },
   "outputs": [
    {
     "name": "stdout",
     "output_type": "stream",
     "text": [
      "Stopping execution_time clock.\n",
      "[INFO] Keeping all rows: 89710 rows retained.\n"
     ]
    },
    {
     "name": "stdout",
     "output_type": "stream",
     "text": [
      "[INFO] Keeping all rows: 89710 rows retained.\n"
     ]
    },
    {
     "name": "stdout",
     "output_type": "stream",
     "text": [
      "[INFO] Keeping all rows: 89710 rows retained.\n"
     ]
    },
    {
     "name": "stdout",
     "output_type": "stream",
     "text": [
      "[INFO] Keeping all rows: 89710 rows retained.\n"
     ]
    },
    {
     "data": {
      "text/html": [
       "<div>\n",
       "<style scoped>\n",
       "    .dataframe tbody tr th:only-of-type {\n",
       "        vertical-align: middle;\n",
       "    }\n",
       "\n",
       "    .dataframe tbody tr th {\n",
       "        vertical-align: top;\n",
       "    }\n",
       "\n",
       "    .dataframe thead th {\n",
       "        text-align: right;\n",
       "    }\n",
       "</style>\n",
       "<table border=\"1\" class=\"dataframe\">\n",
       "  <thead>\n",
       "    <tr style=\"text-align: right;\">\n",
       "      <th></th>\n",
       "      <th>run_no</th>\n",
       "      <th>universe_id</th>\n",
       "      <th>universe_settings</th>\n",
       "      <th>execution_time</th>\n",
       "      <th>test_size_n</th>\n",
       "      <th>test_size_frac</th>\n",
       "      <th>fair_main_equalized_odds_difference</th>\n",
       "      <th>fair_main_equalized_odds_ratio</th>\n",
       "      <th>fair_main_demographic_parity_difference</th>\n",
       "      <th>fair_main_demographic_parity_ratio</th>\n",
       "      <th>...</th>\n",
       "      <th>perf_grp_precision_0</th>\n",
       "      <th>perf_grp_precision_1</th>\n",
       "      <th>perf_grp_false positive rate_0</th>\n",
       "      <th>perf_grp_false positive rate_1</th>\n",
       "      <th>perf_grp_false negative rate_0</th>\n",
       "      <th>perf_grp_false negative rate_1</th>\n",
       "      <th>perf_grp_selection rate_0</th>\n",
       "      <th>perf_grp_selection rate_1</th>\n",
       "      <th>perf_grp_count_0</th>\n",
       "      <th>perf_grp_count_1</th>\n",
       "    </tr>\n",
       "  </thead>\n",
       "  <tbody>\n",
       "    <tr>\n",
       "      <th>0</th>\n",
       "      <td>3</td>\n",
       "      <td>710854622547fb429f0a0f4a753e5802</td>\n",
       "      <td>{\"cutoff\": \"quantile_0.1\", \"eval_fairness_grou...</td>\n",
       "      <td>22.298729</td>\n",
       "      <td>89710</td>\n",
       "      <td>1.0</td>\n",
       "      <td>0.083600</td>\n",
       "      <td>0.912455</td>\n",
       "      <td>0.076087</td>\n",
       "      <td>0.920633</td>\n",
       "      <td>...</td>\n",
       "      <td>NaN</td>\n",
       "      <td>NaN</td>\n",
       "      <td>NaN</td>\n",
       "      <td>NaN</td>\n",
       "      <td>NaN</td>\n",
       "      <td>NaN</td>\n",
       "      <td>NaN</td>\n",
       "      <td>NaN</td>\n",
       "      <td>NaN</td>\n",
       "      <td>NaN</td>\n",
       "    </tr>\n",
       "    <tr>\n",
       "      <th>0</th>\n",
       "      <td>3</td>\n",
       "      <td>710854622547fb429f0a0f4a753e5802</td>\n",
       "      <td>{\"cutoff\": \"quantile_0.1\", \"eval_fairness_grou...</td>\n",
       "      <td>22.298729</td>\n",
       "      <td>89710</td>\n",
       "      <td>1.0</td>\n",
       "      <td>0.083600</td>\n",
       "      <td>0.912455</td>\n",
       "      <td>0.076087</td>\n",
       "      <td>0.920633</td>\n",
       "      <td>...</td>\n",
       "      <td>0.118734</td>\n",
       "      <td>0.143199</td>\n",
       "      <td>0.954931</td>\n",
       "      <td>0.871331</td>\n",
       "      <td>0.012669</td>\n",
       "      <td>0.043545</td>\n",
       "      <td>0.958666</td>\n",
       "      <td>0.882579</td>\n",
       "      <td>20540.0</td>\n",
       "      <td>69170.0</td>\n",
       "    </tr>\n",
       "    <tr>\n",
       "      <th>0</th>\n",
       "      <td>3</td>\n",
       "      <td>710854622547fb429f0a0f4a753e5802</td>\n",
       "      <td>{\"cutoff\": \"quantile_0.25\", \"eval_fairness_gro...</td>\n",
       "      <td>22.298729</td>\n",
       "      <td>89710</td>\n",
       "      <td>1.0</td>\n",
       "      <td>0.158671</td>\n",
       "      <td>0.813651</td>\n",
       "      <td>0.144351</td>\n",
       "      <td>0.832402</td>\n",
       "      <td>...</td>\n",
       "      <td>NaN</td>\n",
       "      <td>NaN</td>\n",
       "      <td>NaN</td>\n",
       "      <td>NaN</td>\n",
       "      <td>NaN</td>\n",
       "      <td>NaN</td>\n",
       "      <td>NaN</td>\n",
       "      <td>NaN</td>\n",
       "      <td>NaN</td>\n",
       "      <td>NaN</td>\n",
       "    </tr>\n",
       "    <tr>\n",
       "      <th>0</th>\n",
       "      <td>3</td>\n",
       "      <td>710854622547fb429f0a0f4a753e5802</td>\n",
       "      <td>{\"cutoff\": \"quantile_0.25\", \"eval_fairness_gro...</td>\n",
       "      <td>22.298729</td>\n",
       "      <td>89710</td>\n",
       "      <td>1.0</td>\n",
       "      <td>0.158671</td>\n",
       "      <td>0.813651</td>\n",
       "      <td>0.144351</td>\n",
       "      <td>0.832402</td>\n",
       "      <td>...</td>\n",
       "      <td>0.125374</td>\n",
       "      <td>0.161360</td>\n",
       "      <td>0.851475</td>\n",
       "      <td>0.692804</td>\n",
       "      <td>0.063345</td>\n",
       "      <td>0.124508</td>\n",
       "      <td>0.861295</td>\n",
       "      <td>0.716944</td>\n",
       "      <td>20540.0</td>\n",
       "      <td>69170.0</td>\n",
       "    </tr>\n",
       "  </tbody>\n",
       "</table>\n",
       "<p>4 rows × 50 columns</p>\n",
       "</div>"
      ],
      "text/plain": [
       "  run_no                       universe_id  \\\n",
       "0      3  710854622547fb429f0a0f4a753e5802   \n",
       "0      3  710854622547fb429f0a0f4a753e5802   \n",
       "0      3  710854622547fb429f0a0f4a753e5802   \n",
       "0      3  710854622547fb429f0a0f4a753e5802   \n",
       "\n",
       "                                   universe_settings  execution_time  \\\n",
       "0  {\"cutoff\": \"quantile_0.1\", \"eval_fairness_grou...       22.298729   \n",
       "0  {\"cutoff\": \"quantile_0.1\", \"eval_fairness_grou...       22.298729   \n",
       "0  {\"cutoff\": \"quantile_0.25\", \"eval_fairness_gro...       22.298729   \n",
       "0  {\"cutoff\": \"quantile_0.25\", \"eval_fairness_gro...       22.298729   \n",
       "\n",
       "   test_size_n  test_size_frac  fair_main_equalized_odds_difference  \\\n",
       "0        89710             1.0                             0.083600   \n",
       "0        89710             1.0                             0.083600   \n",
       "0        89710             1.0                             0.158671   \n",
       "0        89710             1.0                             0.158671   \n",
       "\n",
       "   fair_main_equalized_odds_ratio  fair_main_demographic_parity_difference  \\\n",
       "0                        0.912455                                 0.076087   \n",
       "0                        0.912455                                 0.076087   \n",
       "0                        0.813651                                 0.144351   \n",
       "0                        0.813651                                 0.144351   \n",
       "\n",
       "   fair_main_demographic_parity_ratio  ...  perf_grp_precision_0  \\\n",
       "0                            0.920633  ...                   NaN   \n",
       "0                            0.920633  ...              0.118734   \n",
       "0                            0.832402  ...                   NaN   \n",
       "0                            0.832402  ...              0.125374   \n",
       "\n",
       "   perf_grp_precision_1  perf_grp_false positive rate_0  \\\n",
       "0                   NaN                             NaN   \n",
       "0              0.143199                        0.954931   \n",
       "0                   NaN                             NaN   \n",
       "0              0.161360                        0.851475   \n",
       "\n",
       "   perf_grp_false positive rate_1  perf_grp_false negative rate_0  \\\n",
       "0                             NaN                             NaN   \n",
       "0                        0.871331                        0.012669   \n",
       "0                             NaN                             NaN   \n",
       "0                        0.692804                        0.063345   \n",
       "\n",
       "   perf_grp_false negative rate_1  perf_grp_selection rate_0  \\\n",
       "0                             NaN                        NaN   \n",
       "0                        0.043545                   0.958666   \n",
       "0                             NaN                        NaN   \n",
       "0                        0.124508                   0.861295   \n",
       "\n",
       "   perf_grp_selection rate_1  perf_grp_count_0  perf_grp_count_1  \n",
       "0                        NaN               NaN               NaN  \n",
       "0                   0.882579           20540.0           69170.0  \n",
       "0                        NaN               NaN               NaN  \n",
       "0                   0.716944           20540.0           69170.0  \n",
       "\n",
       "[4 rows x 50 columns]"
      ]
     },
     "execution_count": 64,
     "metadata": {},
     "output_type": "execute_result"
    }
   ],
   "source": [
    "final_output = universe_analysis.generate_final_output(\n",
    "    y_pred_prob=probs_test,\n",
    "    y_test=y_true,\n",
    "    org_test=org_test,\n",
    "    filter_data=filter_sub_universe_data,\n",
    "    cp_metrics_df=cp_metrics_df,\n",
    "    save=True,\n",
    ")\n",
    "final_output"
   ]
  },
  {
   "cell_type": "code",
   "execution_count": null,
   "id": "8b80a1ff",
   "metadata": {
    "papermill": {
     "duration": 0.014564,
     "end_time": "2025-08-19T19:00:43.023816",
     "exception": false,
     "start_time": "2025-08-19T19:00:43.009252",
     "status": "completed"
    },
    "tags": []
   },
   "outputs": [],
   "source": []
  },
  {
   "cell_type": "code",
   "execution_count": null,
   "id": "275c9fad",
   "metadata": {
    "papermill": {
     "duration": 0.014457,
     "end_time": "2025-08-19T19:00:43.054808",
     "exception": false,
     "start_time": "2025-08-19T19:00:43.040351",
     "status": "completed"
    },
    "tags": []
   },
   "outputs": [],
   "source": []
  }
 ],
 "metadata": {
  "celltoolbar": "Tags",
  "kernelspec": {
   "display_name": "Python (CMA Fairness)",
   "language": "python",
   "name": "cma_fair_env"
  },
  "language_info": {
   "codemirror_mode": {
    "name": "ipython",
    "version": 3
   },
   "file_extension": ".py",
   "mimetype": "text/x-python",
   "name": "python",
   "nbconvert_exporter": "python",
   "pygments_lexer": "ipython3",
   "version": "3.10.12"
  },
  "papermill": {
   "default_parameters": {},
   "duration": 33.189033,
   "end_time": "2025-08-19T19:00:43.990969",
   "environment_variables": {},
   "exception": null,
   "input_path": "universe_analysis.ipynb",
   "output_path": "output/runs/3/notebooks/m_3-710854622547fb429f0a0f4a753e5802.ipynb",
   "parameters": {
    "output_dir": "output",
    "run_no": "3",
    "seed": "2023",
    "universe": "{\"cutoff\": [\"quantile_0.1\", \"quantile_0.25\"], \"eval_fairness_grouping\": [\"majority-minority\", \"nationality-all\"], \"exclude_features\": \"nationality-sex\", \"exclude_subgroups\": \"keep-all\", \"model\": \"elasticnet\", \"scale\": \"scale\", \"training_size\": \"1k\", \"training_year\": \"2012_14\"}",
    "universe_id": "710854622547fb429f0a0f4a753e5802"
   },
   "start_time": "2025-08-19T19:00:10.801936",
   "version": "2.6.0"
  }
 },
 "nbformat": 4,
 "nbformat_minor": 5
}