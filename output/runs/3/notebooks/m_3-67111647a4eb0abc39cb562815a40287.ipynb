{
 "cells": [
  {
   "cell_type": "markdown",
   "id": "ef23dbb3",
   "metadata": {
    "papermill": {
     "duration": 0.016573,
     "end_time": "2025-08-19T18:22:08.241839",
     "exception": false,
     "start_time": "2025-08-19T18:22:08.225266",
     "status": "completed"
    },
    "tags": []
   },
   "source": [
    "# Setup"
   ]
  },
  {
   "cell_type": "code",
   "execution_count": 1,
   "id": "0bc8e7dc",
   "metadata": {
    "execution": {
     "iopub.execute_input": "2025-08-19T18:22:08.277682Z",
     "iopub.status.busy": "2025-08-19T18:22:08.277323Z",
     "iopub.status.idle": "2025-08-19T18:22:08.290169Z",
     "shell.execute_reply": "2025-08-19T18:22:08.289282Z"
    },
    "papermill": {
     "duration": 0.027871,
     "end_time": "2025-08-19T18:22:08.291631",
     "exception": false,
     "start_time": "2025-08-19T18:22:08.263760",
     "status": "completed"
    },
    "tags": []
   },
   "outputs": [
    {
     "name": "stdout",
     "output_type": "stream",
     "text": [
      "/dss/dsshome1/0C/ra93lal2/cma/CMA_Fairness_v2\n"
     ]
    },
    {
     "name": "stderr",
     "output_type": "stream",
     "text": [
      "/dss/dsshome1/0C/ra93lal2/.local/share/virtualenvs/CMA_Fairness_v2-3j10GkSs/lib/python3.10/site-packages/IPython/core/magics/osm.py:393: UserWarning: This is now an optional IPython functionality, using bookmarks requires you to install the `pickleshare` library.\n",
      "  bkms = self.shell.db.get('bookmarks', {})\n",
      "/dss/dsshome1/0C/ra93lal2/.local/share/virtualenvs/CMA_Fairness_v2-3j10GkSs/lib/python3.10/site-packages/IPython/core/magics/osm.py:417: UserWarning: This is now an optional IPython functionality, setting dhist requires you to install the `pickleshare` library.\n",
      "  self.shell.db['dhist'] = compress_dhist(dhist)[-100:]\n"
     ]
    }
   ],
   "source": [
    "%cd ~/cma/CMA_Fairness_v2"
   ]
  },
  {
   "cell_type": "markdown",
   "id": "9d235661",
   "metadata": {
    "papermill": {
     "duration": 0.00977,
     "end_time": "2025-08-19T18:22:08.315749",
     "exception": false,
     "start_time": "2025-08-19T18:22:08.305979",
     "status": "completed"
    },
    "tags": []
   },
   "source": [
    "The following cell holds the definition of our parameters, these values can be overriden by rendering the with e.g. the following command:\n",
    "\n",
    "papermill -p alpha 0.2 -p ratio 0.3 universe_analysis.ipynb output/test_run.ipynb"
   ]
  },
  {
   "cell_type": "code",
   "execution_count": 2,
   "id": "4a789d8e",
   "metadata": {
    "execution": {
     "iopub.execute_input": "2025-08-19T18:22:08.336672Z",
     "iopub.status.busy": "2025-08-19T18:22:08.335665Z",
     "iopub.status.idle": "2025-08-19T18:22:08.343650Z",
     "shell.execute_reply": "2025-08-19T18:22:08.342469Z"
    },
    "papermill": {
     "duration": 0.02037,
     "end_time": "2025-08-19T18:22:08.344993",
     "exception": false,
     "start_time": "2025-08-19T18:22:08.324623",
     "status": "completed"
    },
    "tags": []
   },
   "outputs": [
    {
     "name": "stdout",
     "output_type": "stream",
     "text": [
      "Current working directory: /dss/dsshome1/0C/ra93lal2/cma/CMA_Fairness_v2\n"
     ]
    }
   ],
   "source": [
    "import os\n",
    "print(\"Current working directory:\", os.getcwd())"
   ]
  },
  {
   "cell_type": "code",
   "execution_count": 3,
   "id": "4132aaed",
   "metadata": {
    "execution": {
     "iopub.execute_input": "2025-08-19T18:22:08.374435Z",
     "iopub.status.busy": "2025-08-19T18:22:08.373187Z",
     "iopub.status.idle": "2025-08-19T18:22:08.384897Z",
     "shell.execute_reply": "2025-08-19T18:22:08.383182Z"
    },
    "papermill": {
     "duration": 0.030565,
     "end_time": "2025-08-19T18:22:08.387276",
     "exception": false,
     "start_time": "2025-08-19T18:22:08.356711",
     "status": "completed"
    },
    "tags": [
     "parameters"
    ]
   },
   "outputs": [],
   "source": [
    "run_no = 0\n",
    "universe_id = \"test\"\n",
    "universe = {\n",
    "    \"training_size\": \"5k\", # \"25k\", \"5k\", \"1k\"\n",
    "    \"training_year\": \"2012_14\", # \"2014\", \"2012_14\", \"2010_14\"\n",
    "    \"scale\": \"scale\", # \"scale\", \"do-not-scale\",\n",
    "    \"model\": \"elasticnet\", # \"logreg\", \"penalized_logreg\", \"rf\", \"gbm\", \"elasticnet\"\n",
    "    \"cutoff\": [\"quantile_0.15\", \"quantile_0.30\"],\n",
    "    \"exclude_features\": \"age\", # \"none\", \"nationality\", \"sex\", \"nationality-sex\", \"age\"\n",
    "    \"exclude_subgroups\": \"drop-non-german\", # \"keep-all\", \"drop-non-german\"\n",
    "    \"eval_fairness_grouping\": [\"majority-minority\", \"nationality-all\"]\n",
    "}\n",
    "\n",
    "output_dir=\"./output\"\n",
    "seed=0"
   ]
  },
  {
   "cell_type": "code",
   "execution_count": 4,
   "id": "7ccd0cc4",
   "metadata": {
    "execution": {
     "iopub.execute_input": "2025-08-19T18:22:08.418682Z",
     "iopub.status.busy": "2025-08-19T18:22:08.418188Z",
     "iopub.status.idle": "2025-08-19T18:22:08.423726Z",
     "shell.execute_reply": "2025-08-19T18:22:08.422627Z"
    },
    "papermill": {
     "duration": 0.017466,
     "end_time": "2025-08-19T18:22:08.425337",
     "exception": false,
     "start_time": "2025-08-19T18:22:08.407871",
     "status": "completed"
    },
    "tags": [
     "injected-parameters"
    ]
   },
   "outputs": [],
   "source": [
    "# Parameters\n",
    "universe_id = \"67111647a4eb0abc39cb562815a40287\"\n",
    "run_no = \"3\"\n",
    "universe = \"{\\\"cutoff\\\": [\\\"quantile_0.1\\\", \\\"quantile_0.25\\\"], \\\"eval_fairness_grouping\\\": [\\\"majority-minority\\\", \\\"nationality-all\\\"], \\\"exclude_features\\\": \\\"nationality-sex\\\", \\\"exclude_subgroups\\\": \\\"keep-all\\\", \\\"model\\\": \\\"elasticnet\\\", \\\"scale\\\": \\\"do-not-scale\\\", \\\"training_size\\\": \\\"25k\\\", \\\"training_year\\\": \\\"2010_14\\\"}\"\n",
    "output_dir = \"output\"\n",
    "seed = \"2023\"\n"
   ]
  },
  {
   "cell_type": "code",
   "execution_count": 5,
   "id": "a5d7941f",
   "metadata": {
    "execution": {
     "iopub.execute_input": "2025-08-19T18:22:08.444988Z",
     "iopub.status.busy": "2025-08-19T18:22:08.444583Z",
     "iopub.status.idle": "2025-08-19T18:22:08.450514Z",
     "shell.execute_reply": "2025-08-19T18:22:08.449235Z"
    },
    "papermill": {
     "duration": 0.018155,
     "end_time": "2025-08-19T18:22:08.452768",
     "exception": false,
     "start_time": "2025-08-19T18:22:08.434613",
     "status": "completed"
    },
    "tags": []
   },
   "outputs": [],
   "source": [
    "import json\n",
    "if isinstance(universe, str):\n",
    "    universe = json.loads(universe)"
   ]
  },
  {
   "cell_type": "code",
   "execution_count": 6,
   "id": "7076ccb1",
   "metadata": {
    "execution": {
     "iopub.execute_input": "2025-08-19T18:22:08.475746Z",
     "iopub.status.busy": "2025-08-19T18:22:08.474934Z",
     "iopub.status.idle": "2025-08-19T18:22:08.526800Z",
     "shell.execute_reply": "2025-08-19T18:22:08.525503Z"
    },
    "papermill": {
     "duration": 0.065685,
     "end_time": "2025-08-19T18:22:08.528887",
     "exception": false,
     "start_time": "2025-08-19T18:22:08.463202",
     "status": "completed"
    },
    "tags": []
   },
   "outputs": [],
   "source": [
    "# Auto-reload the custom package\n",
    "%load_ext autoreload\n",
    "%autoreload 1\n",
    "%aimport fairness_multiverse"
   ]
  },
  {
   "cell_type": "code",
   "execution_count": 7,
   "id": "94c8eb93",
   "metadata": {
    "execution": {
     "iopub.execute_input": "2025-08-19T18:22:08.553304Z",
     "iopub.status.busy": "2025-08-19T18:22:08.552865Z",
     "iopub.status.idle": "2025-08-19T18:22:10.307774Z",
     "shell.execute_reply": "2025-08-19T18:22:10.305938Z"
    },
    "papermill": {
     "duration": 1.770607,
     "end_time": "2025-08-19T18:22:10.311073",
     "exception": false,
     "start_time": "2025-08-19T18:22:08.540466",
     "status": "completed"
    },
    "tags": []
   },
   "outputs": [],
   "source": [
    "from fairness_multiverse.universe import UniverseAnalysis\n",
    "\n",
    "universe_analysis = UniverseAnalysis(\n",
    "    run_no = run_no,\n",
    "    universe_id = universe_id,\n",
    "    universe = universe,\n",
    "    output_dir=output_dir,\n",
    ")"
   ]
  },
  {
   "cell_type": "code",
   "execution_count": 8,
   "id": "2a6381cf",
   "metadata": {
    "execution": {
     "iopub.execute_input": "2025-08-19T18:22:10.345074Z",
     "iopub.status.busy": "2025-08-19T18:22:10.343882Z",
     "iopub.status.idle": "2025-08-19T18:22:10.357302Z",
     "shell.execute_reply": "2025-08-19T18:22:10.355965Z"
    },
    "papermill": {
     "duration": 0.027828,
     "end_time": "2025-08-19T18:22:10.358924",
     "exception": false,
     "start_time": "2025-08-19T18:22:10.331096",
     "status": "completed"
    },
    "tags": []
   },
   "outputs": [
    {
     "name": "stdout",
     "output_type": "stream",
     "text": [
      "Using Seed: 2023\n"
     ]
    }
   ],
   "source": [
    "import numpy as np\n",
    "parsed_seed = int(seed)\n",
    "np.random.seed(parsed_seed)\n",
    "print(f\"Using Seed: {parsed_seed}\")"
   ]
  },
  {
   "cell_type": "markdown",
   "id": "b6e958b4",
   "metadata": {
    "papermill": {
     "duration": 0.022657,
     "end_time": "2025-08-19T18:22:10.397760",
     "exception": false,
     "start_time": "2025-08-19T18:22:10.375103",
     "status": "completed"
    },
    "tags": []
   },
   "source": [
    "# Loading Data"
   ]
  },
  {
   "cell_type": "code",
   "execution_count": 9,
   "id": "98701482",
   "metadata": {
    "execution": {
     "iopub.execute_input": "2025-08-19T18:22:10.420719Z",
     "iopub.status.busy": "2025-08-19T18:22:10.420239Z",
     "iopub.status.idle": "2025-08-19T18:22:21.680800Z",
     "shell.execute_reply": "2025-08-19T18:22:21.679266Z"
    },
    "papermill": {
     "duration": 11.273165,
     "end_time": "2025-08-19T18:22:21.682822",
     "exception": false,
     "start_time": "2025-08-19T18:22:10.409657",
     "status": "completed"
    },
    "tags": []
   },
   "outputs": [
    {
     "name": "stdout",
     "output_type": "stream",
     "text": [
      "Loading SIAB data from cache: data/siab_cached.csv.gz\n"
     ]
    },
    {
     "name": "stdout",
     "output_type": "stream",
     "text": [
      "(643690, 164)\n"
     ]
    }
   ],
   "source": [
    "from pathlib import Path\n",
    "import pandas as pd\n",
    "\n",
    "# File paths\n",
    "raw_file = Path(\"data/raw/siab.csv\")\n",
    "cache_file = Path(\"data/siab_cached.csv.gz\")\n",
    "\n",
    "# Ensure cache directory exists\n",
    "cache_file.parent.mkdir(parents=True, exist_ok=True)\n",
    "\n",
    "# Load with simple caching\n",
    "if cache_file.exists():\n",
    "    print(f\"Loading SIAB data from cache: {cache_file}\")\n",
    "    siab = pd.read_csv(cache_file, compression='gzip')\n",
    "else:\n",
    "    print(f\"Cache not found. Reading raw SIAB data: {raw_file}\")\n",
    "    siab = pd.read_csv(raw_file)\n",
    "    siab.to_csv(cache_file, index=False, compression='gzip')\n",
    "    print(f\"Cached SIAB data to: {cache_file}\")\n",
    "\n",
    "print(siab.shape)"
   ]
  },
  {
   "cell_type": "code",
   "execution_count": 10,
   "id": "058d2abb",
   "metadata": {
    "execution": {
     "iopub.execute_input": "2025-08-19T18:22:21.711530Z",
     "iopub.status.busy": "2025-08-19T18:22:21.706997Z",
     "iopub.status.idle": "2025-08-19T18:22:22.018454Z",
     "shell.execute_reply": "2025-08-19T18:22:22.017325Z"
    },
    "papermill": {
     "duration": 0.324578,
     "end_time": "2025-08-19T18:22:22.019908",
     "exception": false,
     "start_time": "2025-08-19T18:22:21.695330",
     "status": "completed"
    },
    "tags": []
   },
   "outputs": [
    {
     "data": {
      "text/html": [
       "<div>\n",
       "<style scoped>\n",
       "    .dataframe tbody tr th:only-of-type {\n",
       "        vertical-align: middle;\n",
       "    }\n",
       "\n",
       "    .dataframe tbody tr th {\n",
       "        vertical-align: top;\n",
       "    }\n",
       "\n",
       "    .dataframe thead th {\n",
       "        text-align: right;\n",
       "    }\n",
       "</style>\n",
       "<table border=\"1\" class=\"dataframe\">\n",
       "  <thead>\n",
       "    <tr style=\"text-align: right;\">\n",
       "      <th></th>\n",
       "      <th>persnr</th>\n",
       "      <th>year</th>\n",
       "      <th>nrEntry</th>\n",
       "      <th>ltue</th>\n",
       "      <th>employed_before</th>\n",
       "      <th>receipt_leh_before</th>\n",
       "      <th>receipt_lhg_before</th>\n",
       "      <th>se_before</th>\n",
       "      <th>ASU_notue_seeking_before</th>\n",
       "      <th>ASU_other_before</th>\n",
       "      <th>...</th>\n",
       "      <th>minijob_tot_dur_byage</th>\n",
       "      <th>ft_tot_dur_byage</th>\n",
       "      <th>befrist_tot_dur_byage</th>\n",
       "      <th>leih_tot_dur_byage</th>\n",
       "      <th>LHG_tot_dur_byage</th>\n",
       "      <th>LEH_tot_dur_byage</th>\n",
       "      <th>almp_tot_dur_byage</th>\n",
       "      <th>almp_aw_tot_dur_byage</th>\n",
       "      <th>se_tot_dur_byage</th>\n",
       "      <th>seeking1_tot_dur_byage</th>\n",
       "    </tr>\n",
       "  </thead>\n",
       "  <tbody>\n",
       "    <tr>\n",
       "      <th>0</th>\n",
       "      <td>7</td>\n",
       "      <td>2015</td>\n",
       "      <td>1</td>\n",
       "      <td>0</td>\n",
       "      <td>1</td>\n",
       "      <td>0</td>\n",
       "      <td>0</td>\n",
       "      <td>0</td>\n",
       "      <td>1</td>\n",
       "      <td>0</td>\n",
       "      <td>...</td>\n",
       "      <td>0.000000</td>\n",
       "      <td>0.000000</td>\n",
       "      <td>15.043478</td>\n",
       "      <td>0.000000</td>\n",
       "      <td>0.000000</td>\n",
       "      <td>0.000000</td>\n",
       "      <td>0.000000</td>\n",
       "      <td>0.000000</td>\n",
       "      <td>0.000000</td>\n",
       "      <td>0.000000</td>\n",
       "    </tr>\n",
       "    <tr>\n",
       "      <th>1</th>\n",
       "      <td>18</td>\n",
       "      <td>2010</td>\n",
       "      <td>1</td>\n",
       "      <td>1</td>\n",
       "      <td>0</td>\n",
       "      <td>0</td>\n",
       "      <td>0</td>\n",
       "      <td>0</td>\n",
       "      <td>0</td>\n",
       "      <td>0</td>\n",
       "      <td>...</td>\n",
       "      <td>0.000000</td>\n",
       "      <td>0.000000</td>\n",
       "      <td>0.000000</td>\n",
       "      <td>0.000000</td>\n",
       "      <td>0.000000</td>\n",
       "      <td>0.000000</td>\n",
       "      <td>0.000000</td>\n",
       "      <td>0.000000</td>\n",
       "      <td>0.000000</td>\n",
       "      <td>0.000000</td>\n",
       "    </tr>\n",
       "    <tr>\n",
       "      <th>2</th>\n",
       "      <td>18</td>\n",
       "      <td>2011</td>\n",
       "      <td>2</td>\n",
       "      <td>0</td>\n",
       "      <td>1</td>\n",
       "      <td>0</td>\n",
       "      <td>1</td>\n",
       "      <td>0</td>\n",
       "      <td>1</td>\n",
       "      <td>0</td>\n",
       "      <td>...</td>\n",
       "      <td>2.714286</td>\n",
       "      <td>2.714286</td>\n",
       "      <td>0.000000</td>\n",
       "      <td>0.000000</td>\n",
       "      <td>10.775510</td>\n",
       "      <td>0.000000</td>\n",
       "      <td>8.367347</td>\n",
       "      <td>0.000000</td>\n",
       "      <td>0.000000</td>\n",
       "      <td>9.836735</td>\n",
       "    </tr>\n",
       "    <tr>\n",
       "      <th>3</th>\n",
       "      <td>18</td>\n",
       "      <td>2012</td>\n",
       "      <td>3</td>\n",
       "      <td>0</td>\n",
       "      <td>1</td>\n",
       "      <td>0</td>\n",
       "      <td>1</td>\n",
       "      <td>0</td>\n",
       "      <td>1</td>\n",
       "      <td>0</td>\n",
       "      <td>...</td>\n",
       "      <td>4.200000</td>\n",
       "      <td>4.200000</td>\n",
       "      <td>0.000000</td>\n",
       "      <td>0.000000</td>\n",
       "      <td>12.100000</td>\n",
       "      <td>0.000000</td>\n",
       "      <td>9.400000</td>\n",
       "      <td>0.000000</td>\n",
       "      <td>0.000000</td>\n",
       "      <td>9.960000</td>\n",
       "    </tr>\n",
       "    <tr>\n",
       "      <th>4</th>\n",
       "      <td>18</td>\n",
       "      <td>2012</td>\n",
       "      <td>4</td>\n",
       "      <td>0</td>\n",
       "      <td>1</td>\n",
       "      <td>0</td>\n",
       "      <td>1</td>\n",
       "      <td>0</td>\n",
       "      <td>1</td>\n",
       "      <td>0</td>\n",
       "      <td>...</td>\n",
       "      <td>5.460000</td>\n",
       "      <td>5.460000</td>\n",
       "      <td>0.000000</td>\n",
       "      <td>0.000000</td>\n",
       "      <td>13.360000</td>\n",
       "      <td>0.000000</td>\n",
       "      <td>10.320000</td>\n",
       "      <td>0.000000</td>\n",
       "      <td>0.000000</td>\n",
       "      <td>10.280000</td>\n",
       "    </tr>\n",
       "    <tr>\n",
       "      <th>...</th>\n",
       "      <td>...</td>\n",
       "      <td>...</td>\n",
       "      <td>...</td>\n",
       "      <td>...</td>\n",
       "      <td>...</td>\n",
       "      <td>...</td>\n",
       "      <td>...</td>\n",
       "      <td>...</td>\n",
       "      <td>...</td>\n",
       "      <td>...</td>\n",
       "      <td>...</td>\n",
       "      <td>...</td>\n",
       "      <td>...</td>\n",
       "      <td>...</td>\n",
       "      <td>...</td>\n",
       "      <td>...</td>\n",
       "      <td>...</td>\n",
       "      <td>...</td>\n",
       "      <td>...</td>\n",
       "      <td>...</td>\n",
       "      <td>...</td>\n",
       "    </tr>\n",
       "    <tr>\n",
       "      <th>643685</th>\n",
       "      <td>1827860</td>\n",
       "      <td>2013</td>\n",
       "      <td>1</td>\n",
       "      <td>0</td>\n",
       "      <td>0</td>\n",
       "      <td>0</td>\n",
       "      <td>1</td>\n",
       "      <td>0</td>\n",
       "      <td>0</td>\n",
       "      <td>1</td>\n",
       "      <td>...</td>\n",
       "      <td>0.000000</td>\n",
       "      <td>0.000000</td>\n",
       "      <td>0.000000</td>\n",
       "      <td>0.000000</td>\n",
       "      <td>0.612903</td>\n",
       "      <td>0.000000</td>\n",
       "      <td>0.000000</td>\n",
       "      <td>0.000000</td>\n",
       "      <td>0.000000</td>\n",
       "      <td>0.000000</td>\n",
       "    </tr>\n",
       "    <tr>\n",
       "      <th>643686</th>\n",
       "      <td>1827860</td>\n",
       "      <td>2015</td>\n",
       "      <td>2</td>\n",
       "      <td>1</td>\n",
       "      <td>0</td>\n",
       "      <td>0</td>\n",
       "      <td>1</td>\n",
       "      <td>0</td>\n",
       "      <td>1</td>\n",
       "      <td>0</td>\n",
       "      <td>...</td>\n",
       "      <td>0.000000</td>\n",
       "      <td>0.000000</td>\n",
       "      <td>0.212121</td>\n",
       "      <td>0.212121</td>\n",
       "      <td>17.363636</td>\n",
       "      <td>0.000000</td>\n",
       "      <td>8.909091</td>\n",
       "      <td>0.000000</td>\n",
       "      <td>0.000000</td>\n",
       "      <td>7.121212</td>\n",
       "    </tr>\n",
       "    <tr>\n",
       "      <th>643687</th>\n",
       "      <td>1827860</td>\n",
       "      <td>2016</td>\n",
       "      <td>3</td>\n",
       "      <td>1</td>\n",
       "      <td>0</td>\n",
       "      <td>0</td>\n",
       "      <td>1</td>\n",
       "      <td>1</td>\n",
       "      <td>0</td>\n",
       "      <td>1</td>\n",
       "      <td>...</td>\n",
       "      <td>0.000000</td>\n",
       "      <td>0.000000</td>\n",
       "      <td>0.294118</td>\n",
       "      <td>0.205882</td>\n",
       "      <td>34.705882</td>\n",
       "      <td>0.000000</td>\n",
       "      <td>10.352941</td>\n",
       "      <td>1.705882</td>\n",
       "      <td>1.705882</td>\n",
       "      <td>23.911765</td>\n",
       "    </tr>\n",
       "    <tr>\n",
       "      <th>643688</th>\n",
       "      <td>1827869</td>\n",
       "      <td>2013</td>\n",
       "      <td>1</td>\n",
       "      <td>1</td>\n",
       "      <td>1</td>\n",
       "      <td>0</td>\n",
       "      <td>0</td>\n",
       "      <td>0</td>\n",
       "      <td>1</td>\n",
       "      <td>0</td>\n",
       "      <td>...</td>\n",
       "      <td>0.000000</td>\n",
       "      <td>0.000000</td>\n",
       "      <td>0.000000</td>\n",
       "      <td>0.000000</td>\n",
       "      <td>0.000000</td>\n",
       "      <td>0.525424</td>\n",
       "      <td>0.000000</td>\n",
       "      <td>0.000000</td>\n",
       "      <td>0.000000</td>\n",
       "      <td>0.000000</td>\n",
       "    </tr>\n",
       "    <tr>\n",
       "      <th>643689</th>\n",
       "      <td>1827869</td>\n",
       "      <td>2014</td>\n",
       "      <td>2</td>\n",
       "      <td>0</td>\n",
       "      <td>0</td>\n",
       "      <td>1</td>\n",
       "      <td>0</td>\n",
       "      <td>0</td>\n",
       "      <td>1</td>\n",
       "      <td>0</td>\n",
       "      <td>...</td>\n",
       "      <td>0.000000</td>\n",
       "      <td>0.666667</td>\n",
       "      <td>0.666667</td>\n",
       "      <td>0.000000</td>\n",
       "      <td>0.000000</td>\n",
       "      <td>8.950000</td>\n",
       "      <td>1.033333</td>\n",
       "      <td>0.083333</td>\n",
       "      <td>0.083333</td>\n",
       "      <td>8.133333</td>\n",
       "    </tr>\n",
       "  </tbody>\n",
       "</table>\n",
       "<p>643690 rows × 164 columns</p>\n",
       "</div>"
      ],
      "text/plain": [
       "         persnr  year  nrEntry  ltue  employed_before  receipt_leh_before  \\\n",
       "0             7  2015        1     0                1                   0   \n",
       "1            18  2010        1     1                0                   0   \n",
       "2            18  2011        2     0                1                   0   \n",
       "3            18  2012        3     0                1                   0   \n",
       "4            18  2012        4     0                1                   0   \n",
       "...         ...   ...      ...   ...              ...                 ...   \n",
       "643685  1827860  2013        1     0                0                   0   \n",
       "643686  1827860  2015        2     1                0                   0   \n",
       "643687  1827860  2016        3     1                0                   0   \n",
       "643688  1827869  2013        1     1                1                   0   \n",
       "643689  1827869  2014        2     0                0                   1   \n",
       "\n",
       "        receipt_lhg_before  se_before  ASU_notue_seeking_before  \\\n",
       "0                        0          0                         1   \n",
       "1                        0          0                         0   \n",
       "2                        1          0                         1   \n",
       "3                        1          0                         1   \n",
       "4                        1          0                         1   \n",
       "...                    ...        ...                       ...   \n",
       "643685                   1          0                         0   \n",
       "643686                   1          0                         1   \n",
       "643687                   1          1                         0   \n",
       "643688                   0          0                         1   \n",
       "643689                   0          0                         1   \n",
       "\n",
       "        ASU_other_before  ...  minijob_tot_dur_byage  ft_tot_dur_byage  \\\n",
       "0                      0  ...               0.000000          0.000000   \n",
       "1                      0  ...               0.000000          0.000000   \n",
       "2                      0  ...               2.714286          2.714286   \n",
       "3                      0  ...               4.200000          4.200000   \n",
       "4                      0  ...               5.460000          5.460000   \n",
       "...                  ...  ...                    ...               ...   \n",
       "643685                 1  ...               0.000000          0.000000   \n",
       "643686                 0  ...               0.000000          0.000000   \n",
       "643687                 1  ...               0.000000          0.000000   \n",
       "643688                 0  ...               0.000000          0.000000   \n",
       "643689                 0  ...               0.000000          0.666667   \n",
       "\n",
       "        befrist_tot_dur_byage  leih_tot_dur_byage  LHG_tot_dur_byage  \\\n",
       "0                   15.043478            0.000000           0.000000   \n",
       "1                    0.000000            0.000000           0.000000   \n",
       "2                    0.000000            0.000000          10.775510   \n",
       "3                    0.000000            0.000000          12.100000   \n",
       "4                    0.000000            0.000000          13.360000   \n",
       "...                       ...                 ...                ...   \n",
       "643685               0.000000            0.000000           0.612903   \n",
       "643686               0.212121            0.212121          17.363636   \n",
       "643687               0.294118            0.205882          34.705882   \n",
       "643688               0.000000            0.000000           0.000000   \n",
       "643689               0.666667            0.000000           0.000000   \n",
       "\n",
       "        LEH_tot_dur_byage  almp_tot_dur_byage  almp_aw_tot_dur_byage  \\\n",
       "0                0.000000            0.000000               0.000000   \n",
       "1                0.000000            0.000000               0.000000   \n",
       "2                0.000000            8.367347               0.000000   \n",
       "3                0.000000            9.400000               0.000000   \n",
       "4                0.000000           10.320000               0.000000   \n",
       "...                   ...                 ...                    ...   \n",
       "643685           0.000000            0.000000               0.000000   \n",
       "643686           0.000000            8.909091               0.000000   \n",
       "643687           0.000000           10.352941               1.705882   \n",
       "643688           0.525424            0.000000               0.000000   \n",
       "643689           8.950000            1.033333               0.083333   \n",
       "\n",
       "        se_tot_dur_byage  seeking1_tot_dur_byage  \n",
       "0               0.000000                0.000000  \n",
       "1               0.000000                0.000000  \n",
       "2               0.000000                9.836735  \n",
       "3               0.000000                9.960000  \n",
       "4               0.000000               10.280000  \n",
       "...                  ...                     ...  \n",
       "643685          0.000000                0.000000  \n",
       "643686          0.000000                7.121212  \n",
       "643687          1.705882               23.911765  \n",
       "643688          0.000000                0.000000  \n",
       "643689          0.083333                8.133333  \n",
       "\n",
       "[643690 rows x 164 columns]"
      ]
     },
     "execution_count": 10,
     "metadata": {},
     "output_type": "execute_result"
    }
   ],
   "source": [
    "siab"
   ]
  },
  {
   "cell_type": "markdown",
   "id": "1f87e805",
   "metadata": {
    "papermill": {
     "duration": 0.009791,
     "end_time": "2025-08-19T18:22:22.040661",
     "exception": false,
     "start_time": "2025-08-19T18:22:22.030870",
     "status": "completed"
    },
    "tags": []
   },
   "source": [
    "# Splitting Data and Setting Training Data Size"
   ]
  },
  {
   "cell_type": "code",
   "execution_count": 11,
   "id": "910ae358",
   "metadata": {
    "execution": {
     "iopub.execute_input": "2025-08-19T18:22:22.072764Z",
     "iopub.status.busy": "2025-08-19T18:22:22.072008Z",
     "iopub.status.idle": "2025-08-19T18:22:23.476375Z",
     "shell.execute_reply": "2025-08-19T18:22:23.475632Z"
    },
    "papermill": {
     "duration": 1.427635,
     "end_time": "2025-08-19T18:22:23.477957",
     "exception": false,
     "start_time": "2025-08-19T18:22:22.050322",
     "status": "completed"
    },
    "tags": []
   },
   "outputs": [],
   "source": [
    "from fairness_multiverse.universe import sample_by_year_size\n",
    "\n",
    "siab_train = sample_by_year_size(siab,\n",
    "                               training_year=universe[\"training_year\"],\n",
    "                               training_size=universe[\"training_size\"])"
   ]
  },
  {
   "cell_type": "code",
   "execution_count": 12,
   "id": "919c8ff5",
   "metadata": {
    "execution": {
     "iopub.execute_input": "2025-08-19T18:22:23.501979Z",
     "iopub.status.busy": "2025-08-19T18:22:23.501090Z",
     "iopub.status.idle": "2025-08-19T18:22:23.510672Z",
     "shell.execute_reply": "2025-08-19T18:22:23.509629Z"
    },
    "papermill": {
     "duration": 0.022307,
     "end_time": "2025-08-19T18:22:23.512213",
     "exception": false,
     "start_time": "2025-08-19T18:22:23.489906",
     "status": "completed"
    },
    "tags": []
   },
   "outputs": [
    {
     "data": {
      "text/plain": [
       "(25000, 164)"
      ]
     },
     "execution_count": 12,
     "metadata": {},
     "output_type": "execute_result"
    }
   ],
   "source": [
    "siab_train.shape"
   ]
  },
  {
   "cell_type": "code",
   "execution_count": 13,
   "id": "feb13bf4",
   "metadata": {
    "execution": {
     "iopub.execute_input": "2025-08-19T18:22:23.537415Z",
     "iopub.status.busy": "2025-08-19T18:22:23.536079Z",
     "iopub.status.idle": "2025-08-19T18:22:23.550260Z",
     "shell.execute_reply": "2025-08-19T18:22:23.549369Z"
    },
    "papermill": {
     "duration": 0.02714,
     "end_time": "2025-08-19T18:22:23.551674",
     "exception": false,
     "start_time": "2025-08-19T18:22:23.524534",
     "status": "completed"
    },
    "tags": []
   },
   "outputs": [
    {
     "data": {
      "text/plain": [
       "year\n",
       "2010    5000\n",
       "2011    5000\n",
       "2012    5000\n",
       "2013    5000\n",
       "2014    5000\n",
       "dtype: int64"
      ]
     },
     "metadata": {},
     "output_type": "display_data"
    }
   ],
   "source": [
    "display(siab_train.groupby(\"year\").size())"
   ]
  },
  {
   "cell_type": "code",
   "execution_count": 14,
   "id": "0997782f",
   "metadata": {
    "execution": {
     "iopub.execute_input": "2025-08-19T18:22:23.577237Z",
     "iopub.status.busy": "2025-08-19T18:22:23.576089Z",
     "iopub.status.idle": "2025-08-19T18:22:23.826191Z",
     "shell.execute_reply": "2025-08-19T18:22:23.825446Z"
    },
    "papermill": {
     "duration": 0.264619,
     "end_time": "2025-08-19T18:22:23.829202",
     "exception": false,
     "start_time": "2025-08-19T18:22:23.564583",
     "status": "completed"
    },
    "tags": []
   },
   "outputs": [],
   "source": [
    "#siab_train = siab_s[siab_s.year < 2015]\n",
    "siab_calib = siab[siab.year == 2015]\n",
    "siab_test = siab[siab.year == 2016]"
   ]
  },
  {
   "cell_type": "code",
   "execution_count": 15,
   "id": "2c1e4012",
   "metadata": {
    "execution": {
     "iopub.execute_input": "2025-08-19T18:22:23.872553Z",
     "iopub.status.busy": "2025-08-19T18:22:23.868720Z",
     "iopub.status.idle": "2025-08-19T18:22:23.878081Z",
     "shell.execute_reply": "2025-08-19T18:22:23.876915Z"
    },
    "papermill": {
     "duration": 0.024988,
     "end_time": "2025-08-19T18:22:23.879501",
     "exception": false,
     "start_time": "2025-08-19T18:22:23.854513",
     "status": "completed"
    },
    "tags": []
   },
   "outputs": [],
   "source": [
    "#siab_calib.shape"
   ]
  },
  {
   "cell_type": "code",
   "execution_count": 16,
   "id": "f66b54ca",
   "metadata": {
    "execution": {
     "iopub.execute_input": "2025-08-19T18:22:23.902307Z",
     "iopub.status.busy": "2025-08-19T18:22:23.901408Z",
     "iopub.status.idle": "2025-08-19T18:22:23.907750Z",
     "shell.execute_reply": "2025-08-19T18:22:23.906454Z"
    },
    "papermill": {
     "duration": 0.019323,
     "end_time": "2025-08-19T18:22:23.909280",
     "exception": false,
     "start_time": "2025-08-19T18:22:23.889957",
     "status": "completed"
    },
    "tags": []
   },
   "outputs": [],
   "source": [
    "#siab_test.shape"
   ]
  },
  {
   "cell_type": "code",
   "execution_count": 17,
   "id": "27e4384d",
   "metadata": {
    "execution": {
     "iopub.execute_input": "2025-08-19T18:22:23.932879Z",
     "iopub.status.busy": "2025-08-19T18:22:23.932372Z",
     "iopub.status.idle": "2025-08-19T18:22:23.946348Z",
     "shell.execute_reply": "2025-08-19T18:22:23.945646Z"
    },
    "papermill": {
     "duration": 0.026647,
     "end_time": "2025-08-19T18:22:23.947868",
     "exception": false,
     "start_time": "2025-08-19T18:22:23.921221",
     "status": "completed"
    },
    "tags": []
   },
   "outputs": [],
   "source": [
    "X_train = siab_train.iloc[:,4:164]\n",
    "y_train = siab_train.iloc[:, [3]]"
   ]
  },
  {
   "cell_type": "code",
   "execution_count": 18,
   "id": "08ee8389",
   "metadata": {
    "execution": {
     "iopub.execute_input": "2025-08-19T18:22:23.977451Z",
     "iopub.status.busy": "2025-08-19T18:22:23.976328Z",
     "iopub.status.idle": "2025-08-19T18:22:24.056385Z",
     "shell.execute_reply": "2025-08-19T18:22:24.055703Z"
    },
    "papermill": {
     "duration": 0.097594,
     "end_time": "2025-08-19T18:22:24.060178",
     "exception": false,
     "start_time": "2025-08-19T18:22:23.962584",
     "status": "completed"
    },
    "tags": []
   },
   "outputs": [],
   "source": [
    "X_calib = siab_calib.iloc[:,4:164]\n",
    "y_calib = siab_calib.iloc[:, [3]]"
   ]
  },
  {
   "cell_type": "code",
   "execution_count": 19,
   "id": "b7ff42e0",
   "metadata": {
    "execution": {
     "iopub.execute_input": "2025-08-19T18:22:24.109056Z",
     "iopub.status.busy": "2025-08-19T18:22:24.095846Z",
     "iopub.status.idle": "2025-08-19T18:22:24.160754Z",
     "shell.execute_reply": "2025-08-19T18:22:24.160069Z"
    },
    "papermill": {
     "duration": 0.080165,
     "end_time": "2025-08-19T18:22:24.162785",
     "exception": false,
     "start_time": "2025-08-19T18:22:24.082620",
     "status": "completed"
    },
    "tags": []
   },
   "outputs": [],
   "source": [
    "X_test = siab_test.iloc[:,4:164]\n",
    "y_true = siab_test.iloc[:, [3]]"
   ]
  },
  {
   "cell_type": "code",
   "execution_count": 20,
   "id": "0275101e",
   "metadata": {
    "execution": {
     "iopub.execute_input": "2025-08-19T18:22:24.186463Z",
     "iopub.status.busy": "2025-08-19T18:22:24.185366Z",
     "iopub.status.idle": "2025-08-19T18:22:24.321946Z",
     "shell.execute_reply": "2025-08-19T18:22:24.321281Z"
    },
    "papermill": {
     "duration": 0.149432,
     "end_time": "2025-08-19T18:22:24.323437",
     "exception": false,
     "start_time": "2025-08-19T18:22:24.174005",
     "status": "completed"
    },
    "tags": []
   },
   "outputs": [],
   "source": [
    "# Auxiliary data needed downstream in the pipeline\n",
    "\n",
    "org_train = X_train.copy()\n",
    "org_test = X_test.copy()\n",
    "org_calib = X_calib.copy()"
   ]
  },
  {
   "cell_type": "markdown",
   "id": "b461e618",
   "metadata": {
    "papermill": {
     "duration": 0.015664,
     "end_time": "2025-08-19T18:22:24.350707",
     "exception": false,
     "start_time": "2025-08-19T18:22:24.335043",
     "status": "completed"
    },
    "tags": []
   },
   "source": [
    "# Preprocessing Data"
   ]
  },
  {
   "cell_type": "code",
   "execution_count": 21,
   "id": "78e74c4b",
   "metadata": {
    "execution": {
     "iopub.execute_input": "2025-08-19T18:22:24.373620Z",
     "iopub.status.busy": "2025-08-19T18:22:24.372388Z",
     "iopub.status.idle": "2025-08-19T18:22:24.378213Z",
     "shell.execute_reply": "2025-08-19T18:22:24.377577Z"
    },
    "papermill": {
     "duration": 0.018546,
     "end_time": "2025-08-19T18:22:24.379382",
     "exception": false,
     "start_time": "2025-08-19T18:22:24.360836",
     "status": "completed"
    },
    "tags": []
   },
   "outputs": [],
   "source": [
    "# EXCLUDE PROTECTED FEATURES\n",
    "# --------------------------\n",
    "\n",
    "excluded_features = universe[\"exclude_features\"].split(\"-\")\n",
    "excluded_features_dictionary = {\n",
    "    \"nationality\": [\"maxdeutsch1\", \"maxdeutsch.Missing.\"],\n",
    "    \"sex\": [\"frau1\"],\n",
    "    \"age\": [\"age\"],\n",
    "}"
   ]
  },
  {
   "cell_type": "code",
   "execution_count": 22,
   "id": "f8e63555",
   "metadata": {
    "execution": {
     "iopub.execute_input": "2025-08-19T18:22:24.402953Z",
     "iopub.status.busy": "2025-08-19T18:22:24.402081Z",
     "iopub.status.idle": "2025-08-19T18:22:24.409485Z",
     "shell.execute_reply": "2025-08-19T18:22:24.407994Z"
    },
    "papermill": {
     "duration": 0.020541,
     "end_time": "2025-08-19T18:22:24.411090",
     "exception": false,
     "start_time": "2025-08-19T18:22:24.390549",
     "status": "completed"
    },
    "tags": []
   },
   "outputs": [],
   "source": [
    "excluded_features_columns = [\n",
    "    excluded_features_dictionary[f] for f in excluded_features if len(f) > 0 and f != \"none\"\n",
    "]"
   ]
  },
  {
   "cell_type": "code",
   "execution_count": 23,
   "id": "da781f7c",
   "metadata": {
    "execution": {
     "iopub.execute_input": "2025-08-19T18:22:24.436776Z",
     "iopub.status.busy": "2025-08-19T18:22:24.435399Z",
     "iopub.status.idle": "2025-08-19T18:22:24.444162Z",
     "shell.execute_reply": "2025-08-19T18:22:24.442583Z"
    },
    "papermill": {
     "duration": 0.022076,
     "end_time": "2025-08-19T18:22:24.445669",
     "exception": false,
     "start_time": "2025-08-19T18:22:24.423593",
     "status": "completed"
    },
    "tags": []
   },
   "outputs": [],
   "source": [
    "from fairness_multiverse.universe import flatten_once\n",
    "\n",
    "excluded_features_columns = flatten_once(excluded_features_columns)"
   ]
  },
  {
   "cell_type": "code",
   "execution_count": 24,
   "id": "37fef0f0",
   "metadata": {
    "execution": {
     "iopub.execute_input": "2025-08-19T18:22:24.471532Z",
     "iopub.status.busy": "2025-08-19T18:22:24.470162Z",
     "iopub.status.idle": "2025-08-19T18:22:24.522583Z",
     "shell.execute_reply": "2025-08-19T18:22:24.521994Z"
    },
    "papermill": {
     "duration": 0.067295,
     "end_time": "2025-08-19T18:22:24.525460",
     "exception": false,
     "start_time": "2025-08-19T18:22:24.458165",
     "status": "completed"
    },
    "tags": []
   },
   "outputs": [
    {
     "name": "stdout",
     "output_type": "stream",
     "text": [
      "Dropping features: ['maxdeutsch1', 'maxdeutsch.Missing.', 'frau1']\n"
     ]
    }
   ],
   "source": [
    "if len(excluded_features_columns) > 0:\n",
    "    print(f\"Dropping features: {excluded_features_columns}\")\n",
    "    X_train.drop(excluded_features_columns, axis=1, inplace=True)"
   ]
  },
  {
   "cell_type": "code",
   "execution_count": 25,
   "id": "d029e3e9",
   "metadata": {
    "execution": {
     "iopub.execute_input": "2025-08-19T18:22:24.561514Z",
     "iopub.status.busy": "2025-08-19T18:22:24.560441Z",
     "iopub.status.idle": "2025-08-19T18:22:24.627517Z",
     "shell.execute_reply": "2025-08-19T18:22:24.626812Z"
    },
    "papermill": {
     "duration": 0.082955,
     "end_time": "2025-08-19T18:22:24.630244",
     "exception": false,
     "start_time": "2025-08-19T18:22:24.547289",
     "status": "completed"
    },
    "tags": []
   },
   "outputs": [
    {
     "name": "stdout",
     "output_type": "stream",
     "text": [
      "Dropping features: ['maxdeutsch1', 'maxdeutsch.Missing.', 'frau1']\n"
     ]
    }
   ],
   "source": [
    "if len(excluded_features_columns) > 0:\n",
    "    print(f\"Dropping features: {excluded_features_columns}\")\n",
    "    X_test.drop(excluded_features_columns, axis=1, inplace=True)"
   ]
  },
  {
   "cell_type": "code",
   "execution_count": 26,
   "id": "01d571f0",
   "metadata": {
    "execution": {
     "iopub.execute_input": "2025-08-19T18:22:24.669538Z",
     "iopub.status.busy": "2025-08-19T18:22:24.668142Z",
     "iopub.status.idle": "2025-08-19T18:22:24.746139Z",
     "shell.execute_reply": "2025-08-19T18:22:24.745504Z"
    },
    "papermill": {
     "duration": 0.094452,
     "end_time": "2025-08-19T18:22:24.748774",
     "exception": false,
     "start_time": "2025-08-19T18:22:24.654322",
     "status": "completed"
    },
    "tags": []
   },
   "outputs": [
    {
     "name": "stdout",
     "output_type": "stream",
     "text": [
      "Dropping features: ['maxdeutsch1', 'maxdeutsch.Missing.', 'frau1']\n"
     ]
    }
   ],
   "source": [
    "if len(excluded_features_columns) > 0:\n",
    "    print(f\"Dropping features: {excluded_features_columns}\")\n",
    "    X_calib.drop(excluded_features_columns, axis=1, inplace=True)"
   ]
  },
  {
   "cell_type": "code",
   "execution_count": 27,
   "id": "3037356e",
   "metadata": {
    "execution": {
     "iopub.execute_input": "2025-08-19T18:22:24.790165Z",
     "iopub.status.busy": "2025-08-19T18:22:24.788898Z",
     "iopub.status.idle": "2025-08-19T18:22:24.797802Z",
     "shell.execute_reply": "2025-08-19T18:22:24.795954Z"
    },
    "papermill": {
     "duration": 0.024549,
     "end_time": "2025-08-19T18:22:24.799257",
     "exception": false,
     "start_time": "2025-08-19T18:22:24.774708",
     "status": "completed"
    },
    "tags": []
   },
   "outputs": [],
   "source": [
    "# EXCLUDE CERTAIN SUBGROUPS\n",
    "# -------------------------\n",
    "\n",
    "mode = universe.get(\"exclude_subgroups\", \"keep-all\") # Defaults to \"keep-all\" if the key is missing."
   ]
  },
  {
   "cell_type": "code",
   "execution_count": 28,
   "id": "9d1e63fd",
   "metadata": {
    "execution": {
     "iopub.execute_input": "2025-08-19T18:22:24.825279Z",
     "iopub.status.busy": "2025-08-19T18:22:24.823895Z",
     "iopub.status.idle": "2025-08-19T18:22:24.835595Z",
     "shell.execute_reply": "2025-08-19T18:22:24.833997Z"
    },
    "papermill": {
     "duration": 0.026361,
     "end_time": "2025-08-19T18:22:24.837284",
     "exception": false,
     "start_time": "2025-08-19T18:22:24.810923",
     "status": "completed"
    },
    "tags": []
   },
   "outputs": [],
   "source": [
    "if mode == \"keep-all\":\n",
    "    keep_mask = pd.Series(True, index=org_train.index)\n",
    "\n",
    "elif mode == \"drop-non-german\":\n",
    "    keep_mask = (org_train[\"maxdeutsch1\"] == 1) & (org_train[\"maxdeutsch.Missing.\"] == 0)\n",
    "\n",
    "else:\n",
    "    raise ValueError(f\"Unsupported mode for exclude_subgroups: {mode}\")"
   ]
  },
  {
   "cell_type": "code",
   "execution_count": 29,
   "id": "d3b65474",
   "metadata": {
    "execution": {
     "iopub.execute_input": "2025-08-19T18:22:24.865007Z",
     "iopub.status.busy": "2025-08-19T18:22:24.863621Z",
     "iopub.status.idle": "2025-08-19T18:22:24.874212Z",
     "shell.execute_reply": "2025-08-19T18:22:24.872828Z"
    },
    "papermill": {
     "duration": 0.024819,
     "end_time": "2025-08-19T18:22:24.875796",
     "exception": false,
     "start_time": "2025-08-19T18:22:24.850977",
     "status": "completed"
    },
    "tags": []
   },
   "outputs": [],
   "source": [
    "n_drop = (~keep_mask).sum() # Calculates how many rows are set to be dropped\n",
    "if n_drop > 0:\n",
    "    pct = n_drop / len(keep_mask) * 100\n",
    "    print(f\"Dropping {n_drop} rows ({pct:.2f}%) where mode='{mode}'\")"
   ]
  },
  {
   "cell_type": "code",
   "execution_count": 30,
   "id": "f44389b3",
   "metadata": {
    "execution": {
     "iopub.execute_input": "2025-08-19T18:22:24.902381Z",
     "iopub.status.busy": "2025-08-19T18:22:24.901022Z",
     "iopub.status.idle": "2025-08-19T18:22:24.921635Z",
     "shell.execute_reply": "2025-08-19T18:22:24.920380Z"
    },
    "papermill": {
     "duration": 0.034359,
     "end_time": "2025-08-19T18:22:24.923235",
     "exception": false,
     "start_time": "2025-08-19T18:22:24.888876",
     "status": "completed"
    },
    "tags": []
   },
   "outputs": [],
   "source": [
    "X_train = X_train[keep_mask]"
   ]
  },
  {
   "cell_type": "code",
   "execution_count": 31,
   "id": "ceca8c2a",
   "metadata": {
    "execution": {
     "iopub.execute_input": "2025-08-19T18:22:24.954779Z",
     "iopub.status.busy": "2025-08-19T18:22:24.953651Z",
     "iopub.status.idle": "2025-08-19T18:22:24.964335Z",
     "shell.execute_reply": "2025-08-19T18:22:24.963008Z"
    },
    "papermill": {
     "duration": 0.025576,
     "end_time": "2025-08-19T18:22:24.965738",
     "exception": false,
     "start_time": "2025-08-19T18:22:24.940162",
     "status": "completed"
    },
    "tags": []
   },
   "outputs": [],
   "source": [
    "y_train = y_train[keep_mask]"
   ]
  },
  {
   "cell_type": "markdown",
   "id": "04d31e2f",
   "metadata": {
    "papermill": {
     "duration": 0.01127,
     "end_time": "2025-08-19T18:22:24.990796",
     "exception": false,
     "start_time": "2025-08-19T18:22:24.979526",
     "status": "completed"
    },
    "tags": []
   },
   "source": [
    "# Model Training"
   ]
  },
  {
   "cell_type": "code",
   "execution_count": 32,
   "id": "db991733",
   "metadata": {
    "execution": {
     "iopub.execute_input": "2025-08-19T18:22:25.015070Z",
     "iopub.status.busy": "2025-08-19T18:22:25.013651Z",
     "iopub.status.idle": "2025-08-19T18:22:25.122767Z",
     "shell.execute_reply": "2025-08-19T18:22:25.122097Z"
    },
    "papermill": {
     "duration": 0.124035,
     "end_time": "2025-08-19T18:22:25.125544",
     "exception": false,
     "start_time": "2025-08-19T18:22:25.001509",
     "status": "completed"
    },
    "tags": []
   },
   "outputs": [],
   "source": [
    "from sklearn.linear_model import LogisticRegression\n",
    "from sklearn.ensemble import GradientBoostingClassifier, RandomForestClassifier\n",
    "\n",
    "if (universe[\"model\"] == \"logreg\"):\n",
    "    model = LogisticRegression() #penalty=\"none\", solver=\"newton-cg\", max_iter=1)\n",
    "elif (universe[\"model\"] == \"penalized_logreg\"):\n",
    "    model = LogisticRegression(penalty=\"l2\", C=0.1) #, solver=\"newton-cg\", max_iter=1)\n",
    "elif (universe[\"model\"] == \"rf\"):\n",
    "    model = RandomForestClassifier() # n_estimators=100, n_jobs=-1\n",
    "elif (universe[\"model\"] == \"gbm\"):\n",
    "    model = GradientBoostingClassifier()\n",
    "elif (universe[\"model\"] == \"elasticnet\"):\n",
    "    model = LogisticRegression(penalty = 'elasticnet', solver = 'saga', l1_ratio = 0.5) # max_iter=5000\n",
    "else:\n",
    "    raise \"Unsupported universe.model\""
   ]
  },
  {
   "cell_type": "code",
   "execution_count": 33,
   "id": "a4b5cd25",
   "metadata": {
    "execution": {
     "iopub.execute_input": "2025-08-19T18:22:25.165614Z",
     "iopub.status.busy": "2025-08-19T18:22:25.164343Z",
     "iopub.status.idle": "2025-08-19T18:22:25.174972Z",
     "shell.execute_reply": "2025-08-19T18:22:25.173444Z"
    },
    "papermill": {
     "duration": 0.026368,
     "end_time": "2025-08-19T18:22:25.176419",
     "exception": false,
     "start_time": "2025-08-19T18:22:25.150051",
     "status": "completed"
    },
    "tags": []
   },
   "outputs": [],
   "source": [
    "from sklearn.pipeline import Pipeline\n",
    "from sklearn.preprocessing import StandardScaler\n",
    "\n",
    "model = Pipeline([\n",
    "    #(\"continuous_processor\", continuous_processor),\n",
    "    #(\"categorical_preprocessor\", categorical_preprocessor),\n",
    "    (\"scale\", StandardScaler() if universe[\"scale\"] == \"scale\" else None), \n",
    "    (\"model\", model),\n",
    "])"
   ]
  },
  {
   "cell_type": "code",
   "execution_count": 34,
   "id": "283a904d",
   "metadata": {
    "execution": {
     "iopub.execute_input": "2025-08-19T18:22:25.203502Z",
     "iopub.status.busy": "2025-08-19T18:22:25.202386Z",
     "iopub.status.idle": "2025-08-19T18:22:32.669361Z",
     "shell.execute_reply": "2025-08-19T18:22:32.668460Z"
    },
    "papermill": {
     "duration": 7.480506,
     "end_time": "2025-08-19T18:22:32.670590",
     "exception": false,
     "start_time": "2025-08-19T18:22:25.190084",
     "status": "completed"
    },
    "tags": []
   },
   "outputs": [
    {
     "name": "stderr",
     "output_type": "stream",
     "text": [
      "/dss/dsshome1/0C/ra93lal2/.local/share/virtualenvs/CMA_Fairness_v2-3j10GkSs/lib/python3.10/site-packages/sklearn/linear_model/_sag.py:350: ConvergenceWarning: The max_iter was reached which means the coef_ did not converge\n",
      "  warnings.warn(\n"
     ]
    },
    {
     "data": {
      "text/html": [
       "<style>#sk-container-id-1 {color: black;background-color: white;}#sk-container-id-1 pre{padding: 0;}#sk-container-id-1 div.sk-toggleable {background-color: white;}#sk-container-id-1 label.sk-toggleable__label {cursor: pointer;display: block;width: 100%;margin-bottom: 0;padding: 0.3em;box-sizing: border-box;text-align: center;}#sk-container-id-1 label.sk-toggleable__label-arrow:before {content: \"▸\";float: left;margin-right: 0.25em;color: #696969;}#sk-container-id-1 label.sk-toggleable__label-arrow:hover:before {color: black;}#sk-container-id-1 div.sk-estimator:hover label.sk-toggleable__label-arrow:before {color: black;}#sk-container-id-1 div.sk-toggleable__content {max-height: 0;max-width: 0;overflow: hidden;text-align: left;background-color: #f0f8ff;}#sk-container-id-1 div.sk-toggleable__content pre {margin: 0.2em;color: black;border-radius: 0.25em;background-color: #f0f8ff;}#sk-container-id-1 input.sk-toggleable__control:checked~div.sk-toggleable__content {max-height: 200px;max-width: 100%;overflow: auto;}#sk-container-id-1 input.sk-toggleable__control:checked~label.sk-toggleable__label-arrow:before {content: \"▾\";}#sk-container-id-1 div.sk-estimator input.sk-toggleable__control:checked~label.sk-toggleable__label {background-color: #d4ebff;}#sk-container-id-1 div.sk-label input.sk-toggleable__control:checked~label.sk-toggleable__label {background-color: #d4ebff;}#sk-container-id-1 input.sk-hidden--visually {border: 0;clip: rect(1px 1px 1px 1px);clip: rect(1px, 1px, 1px, 1px);height: 1px;margin: -1px;overflow: hidden;padding: 0;position: absolute;width: 1px;}#sk-container-id-1 div.sk-estimator {font-family: monospace;background-color: #f0f8ff;border: 1px dotted black;border-radius: 0.25em;box-sizing: border-box;margin-bottom: 0.5em;}#sk-container-id-1 div.sk-estimator:hover {background-color: #d4ebff;}#sk-container-id-1 div.sk-parallel-item::after {content: \"\";width: 100%;border-bottom: 1px solid gray;flex-grow: 1;}#sk-container-id-1 div.sk-label:hover label.sk-toggleable__label {background-color: #d4ebff;}#sk-container-id-1 div.sk-serial::before {content: \"\";position: absolute;border-left: 1px solid gray;box-sizing: border-box;top: 0;bottom: 0;left: 50%;z-index: 0;}#sk-container-id-1 div.sk-serial {display: flex;flex-direction: column;align-items: center;background-color: white;padding-right: 0.2em;padding-left: 0.2em;position: relative;}#sk-container-id-1 div.sk-item {position: relative;z-index: 1;}#sk-container-id-1 div.sk-parallel {display: flex;align-items: stretch;justify-content: center;background-color: white;position: relative;}#sk-container-id-1 div.sk-item::before, #sk-container-id-1 div.sk-parallel-item::before {content: \"\";position: absolute;border-left: 1px solid gray;box-sizing: border-box;top: 0;bottom: 0;left: 50%;z-index: -1;}#sk-container-id-1 div.sk-parallel-item {display: flex;flex-direction: column;z-index: 1;position: relative;background-color: white;}#sk-container-id-1 div.sk-parallel-item:first-child::after {align-self: flex-end;width: 50%;}#sk-container-id-1 div.sk-parallel-item:last-child::after {align-self: flex-start;width: 50%;}#sk-container-id-1 div.sk-parallel-item:only-child::after {width: 0;}#sk-container-id-1 div.sk-dashed-wrapped {border: 1px dashed gray;margin: 0 0.4em 0.5em 0.4em;box-sizing: border-box;padding-bottom: 0.4em;background-color: white;}#sk-container-id-1 div.sk-label label {font-family: monospace;font-weight: bold;display: inline-block;line-height: 1.2em;}#sk-container-id-1 div.sk-label-container {text-align: center;}#sk-container-id-1 div.sk-container {/* jupyter's `normalize.less` sets `[hidden] { display: none; }` but bootstrap.min.css set `[hidden] { display: none !important; }` so we also need the `!important` here to be able to override the default hidden behavior on the sphinx rendered scikit-learn.org. See: https://github.com/scikit-learn/scikit-learn/issues/21755 */display: inline-block !important;position: relative;}#sk-container-id-1 div.sk-text-repr-fallback {display: none;}</style><div id=\"sk-container-id-1\" class=\"sk-top-container\"><div class=\"sk-text-repr-fallback\"><pre>Pipeline(steps=[(&#x27;scale&#x27;, None),\n",
       "                (&#x27;model&#x27;,\n",
       "                 LogisticRegression(l1_ratio=0.5, penalty=&#x27;elasticnet&#x27;,\n",
       "                                    solver=&#x27;saga&#x27;))])</pre><b>In a Jupyter environment, please rerun this cell to show the HTML representation or trust the notebook. <br />On GitHub, the HTML representation is unable to render, please try loading this page with nbviewer.org.</b></div><div class=\"sk-container\" hidden><div class=\"sk-item sk-dashed-wrapped\"><div class=\"sk-label-container\"><div class=\"sk-label sk-toggleable\"><input class=\"sk-toggleable__control sk-hidden--visually\" id=\"sk-estimator-id-1\" type=\"checkbox\" ><label for=\"sk-estimator-id-1\" class=\"sk-toggleable__label sk-toggleable__label-arrow\">Pipeline</label><div class=\"sk-toggleable__content\"><pre>Pipeline(steps=[(&#x27;scale&#x27;, None),\n",
       "                (&#x27;model&#x27;,\n",
       "                 LogisticRegression(l1_ratio=0.5, penalty=&#x27;elasticnet&#x27;,\n",
       "                                    solver=&#x27;saga&#x27;))])</pre></div></div></div><div class=\"sk-serial\"><div class=\"sk-item\"><div class=\"sk-estimator sk-toggleable\"><input class=\"sk-toggleable__control sk-hidden--visually\" id=\"sk-estimator-id-2\" type=\"checkbox\" ><label for=\"sk-estimator-id-2\" class=\"sk-toggleable__label sk-toggleable__label-arrow\">None</label><div class=\"sk-toggleable__content\"><pre>None</pre></div></div></div><div class=\"sk-item\"><div class=\"sk-estimator sk-toggleable\"><input class=\"sk-toggleable__control sk-hidden--visually\" id=\"sk-estimator-id-3\" type=\"checkbox\" ><label for=\"sk-estimator-id-3\" class=\"sk-toggleable__label sk-toggleable__label-arrow\">LogisticRegression</label><div class=\"sk-toggleable__content\"><pre>LogisticRegression(l1_ratio=0.5, penalty=&#x27;elasticnet&#x27;, solver=&#x27;saga&#x27;)</pre></div></div></div></div></div></div></div>"
      ],
      "text/plain": [
       "Pipeline(steps=[('scale', None),\n",
       "                ('model',\n",
       "                 LogisticRegression(l1_ratio=0.5, penalty='elasticnet',\n",
       "                                    solver='saga'))])"
      ]
     },
     "execution_count": 34,
     "metadata": {},
     "output_type": "execute_result"
    }
   ],
   "source": [
    "model.fit(X_train, y_train.values.ravel())"
   ]
  },
  {
   "cell_type": "code",
   "execution_count": 35,
   "id": "6e15e313",
   "metadata": {
    "execution": {
     "iopub.execute_input": "2025-08-19T18:22:32.704639Z",
     "iopub.status.busy": "2025-08-19T18:22:32.702930Z",
     "iopub.status.idle": "2025-08-19T18:22:32.817838Z",
     "shell.execute_reply": "2025-08-19T18:22:32.817152Z"
    },
    "papermill": {
     "duration": 0.135825,
     "end_time": "2025-08-19T18:22:32.821186",
     "exception": false,
     "start_time": "2025-08-19T18:22:32.685361",
     "status": "completed"
    },
    "tags": []
   },
   "outputs": [
    {
     "data": {
      "text/plain": [
       "0.8668375877828559"
      ]
     },
     "execution_count": 35,
     "metadata": {},
     "output_type": "execute_result"
    }
   ],
   "source": [
    "from fairness_multiverse.universe import predict_w_threshold\n",
    "\n",
    "probs_test = model.predict_proba(X_test)\n",
    "\n",
    "'''\n",
    "Below code returns a boolean array (or binary 0/1 array depending on how it’s used) where each element \n",
    "is True if the probability of class 1 is greater than or equal to the threshold, and False otherwise.\n",
    "'''\n",
    "y_pred_default = predict_w_threshold(probs_test, 0.5)\n",
    "\n",
    "from sklearn.metrics import accuracy_score\n",
    "\n",
    "# Naive prediction\n",
    "accuracy_score(y_true = y_true, y_pred = y_pred_default)"
   ]
  },
  {
   "cell_type": "code",
   "execution_count": 36,
   "id": "6f14067c",
   "metadata": {
    "execution": {
     "iopub.execute_input": "2025-08-19T18:22:32.871946Z",
     "iopub.status.busy": "2025-08-19T18:22:32.871396Z",
     "iopub.status.idle": "2025-08-19T18:22:32.954706Z",
     "shell.execute_reply": "2025-08-19T18:22:32.953959Z"
    },
    "papermill": {
     "duration": 0.105099,
     "end_time": "2025-08-19T18:22:32.956146",
     "exception": false,
     "start_time": "2025-08-19T18:22:32.851047",
     "status": "completed"
    },
    "tags": []
   },
   "outputs": [
    {
     "data": {
      "text/plain": [
       "array([0, 0, 0, ..., 0, 0, 0])"
      ]
     },
     "execution_count": 36,
     "metadata": {},
     "output_type": "execute_result"
    }
   ],
   "source": [
    "model.predict(X_test)"
   ]
  },
  {
   "cell_type": "markdown",
   "id": "3759920c",
   "metadata": {
    "papermill": {
     "duration": 0.012731,
     "end_time": "2025-08-19T18:22:32.984285",
     "exception": false,
     "start_time": "2025-08-19T18:22:32.971554",
     "status": "completed"
    },
    "tags": []
   },
   "source": [
    "# Conformal Prediction"
   ]
  },
  {
   "cell_type": "code",
   "execution_count": 37,
   "id": "14b27f59",
   "metadata": {
    "execution": {
     "iopub.execute_input": "2025-08-19T18:22:33.009792Z",
     "iopub.status.busy": "2025-08-19T18:22:33.008107Z",
     "iopub.status.idle": "2025-08-19T18:22:33.015431Z",
     "shell.execute_reply": "2025-08-19T18:22:33.014217Z"
    },
    "papermill": {
     "duration": 0.021586,
     "end_time": "2025-08-19T18:22:33.017031",
     "exception": false,
     "start_time": "2025-08-19T18:22:32.995445",
     "status": "completed"
    },
    "tags": []
   },
   "outputs": [],
   "source": [
    "# Miscoverage level for conformal prediction (10% allowed error rate => 90% target coverage)\n",
    "alpha = 0.1"
   ]
  },
  {
   "cell_type": "code",
   "execution_count": 38,
   "id": "59102472",
   "metadata": {
    "execution": {
     "iopub.execute_input": "2025-08-19T18:22:33.053507Z",
     "iopub.status.busy": "2025-08-19T18:22:33.052775Z",
     "iopub.status.idle": "2025-08-19T18:22:33.181064Z",
     "shell.execute_reply": "2025-08-19T18:22:33.180317Z"
    },
    "papermill": {
     "duration": 0.152092,
     "end_time": "2025-08-19T18:22:33.184100",
     "exception": false,
     "start_time": "2025-08-19T18:22:33.032008",
     "status": "completed"
    },
    "tags": []
   },
   "outputs": [],
   "source": [
    "probs_calib = model.predict_proba(X_calib)"
   ]
  },
  {
   "cell_type": "code",
   "execution_count": 39,
   "id": "a792d4dd",
   "metadata": {
    "execution": {
     "iopub.execute_input": "2025-08-19T18:22:33.235142Z",
     "iopub.status.busy": "2025-08-19T18:22:33.233817Z",
     "iopub.status.idle": "2025-08-19T18:22:33.250896Z",
     "shell.execute_reply": "2025-08-19T18:22:33.249575Z"
    },
    "papermill": {
     "duration": 0.041006,
     "end_time": "2025-08-19T18:22:33.252501",
     "exception": false,
     "start_time": "2025-08-19T18:22:33.211495",
     "status": "completed"
    },
    "tags": []
   },
   "outputs": [],
   "source": [
    "y_calib = y_calib.values.ravel().astype(int)"
   ]
  },
  {
   "cell_type": "code",
   "execution_count": 40,
   "id": "650fd033",
   "metadata": {
    "execution": {
     "iopub.execute_input": "2025-08-19T18:22:33.280606Z",
     "iopub.status.busy": "2025-08-19T18:22:33.280105Z",
     "iopub.status.idle": "2025-08-19T18:22:33.288082Z",
     "shell.execute_reply": "2025-08-19T18:22:33.287211Z"
    },
    "papermill": {
     "duration": 0.023291,
     "end_time": "2025-08-19T18:22:33.289859",
     "exception": false,
     "start_time": "2025-08-19T18:22:33.266568",
     "status": "completed"
    },
    "tags": []
   },
   "outputs": [],
   "source": [
    "from fairness_multiverse.conformal import compute_nc_scores\n",
    "\n",
    "# Compute nonconformity scores on calibration set (1 - probability of true class)\n",
    "nc_scores = compute_nc_scores(probs_calib, y_calib)"
   ]
  },
  {
   "cell_type": "code",
   "execution_count": 41,
   "id": "28ada44c",
   "metadata": {
    "execution": {
     "iopub.execute_input": "2025-08-19T18:22:33.315991Z",
     "iopub.status.busy": "2025-08-19T18:22:33.315575Z",
     "iopub.status.idle": "2025-08-19T18:22:33.321333Z",
     "shell.execute_reply": "2025-08-19T18:22:33.320634Z"
    },
    "papermill": {
     "duration": 0.020439,
     "end_time": "2025-08-19T18:22:33.322883",
     "exception": false,
     "start_time": "2025-08-19T18:22:33.302444",
     "status": "completed"
    },
    "tags": []
   },
   "outputs": [],
   "source": [
    "from fairness_multiverse.conformal import find_threshold\n",
    "\n",
    "# Find conformal threshold q_hat for the given alpha (split conformal method)\n",
    "q_hat = find_threshold(nc_scores, alpha)"
   ]
  },
  {
   "cell_type": "code",
   "execution_count": 42,
   "id": "df56469e",
   "metadata": {
    "execution": {
     "iopub.execute_input": "2025-08-19T18:22:33.350713Z",
     "iopub.status.busy": "2025-08-19T18:22:33.350232Z",
     "iopub.status.idle": "2025-08-19T18:22:33.356519Z",
     "shell.execute_reply": "2025-08-19T18:22:33.355752Z"
    },
    "papermill": {
     "duration": 0.021529,
     "end_time": "2025-08-19T18:22:33.357754",
     "exception": false,
     "start_time": "2025-08-19T18:22:33.336225",
     "status": "completed"
    },
    "tags": []
   },
   "outputs": [
    {
     "data": {
      "text/plain": [
       "0.6772600001727529"
      ]
     },
     "execution_count": 42,
     "metadata": {},
     "output_type": "execute_result"
    }
   ],
   "source": [
    "q_hat"
   ]
  },
  {
   "cell_type": "code",
   "execution_count": 43,
   "id": "aa1f5faa",
   "metadata": {
    "execution": {
     "iopub.execute_input": "2025-08-19T18:22:33.400905Z",
     "iopub.status.busy": "2025-08-19T18:22:33.399770Z",
     "iopub.status.idle": "2025-08-19T18:22:33.986225Z",
     "shell.execute_reply": "2025-08-19T18:22:33.985397Z"
    },
    "papermill": {
     "duration": 0.607003,
     "end_time": "2025-08-19T18:22:33.988224",
     "exception": false,
     "start_time": "2025-08-19T18:22:33.381221",
     "status": "completed"
    },
    "tags": []
   },
   "outputs": [],
   "source": [
    "from fairness_multiverse.conformal import predict_conformal_sets\n",
    "\n",
    "# Generate prediction sets for each test example\n",
    "pred_sets = predict_conformal_sets(model, X_test, q_hat)"
   ]
  },
  {
   "cell_type": "code",
   "execution_count": 44,
   "id": "97f67a6b",
   "metadata": {
    "execution": {
     "iopub.execute_input": "2025-08-19T18:22:34.014980Z",
     "iopub.status.busy": "2025-08-19T18:22:34.013710Z",
     "iopub.status.idle": "2025-08-19T18:22:34.021640Z",
     "shell.execute_reply": "2025-08-19T18:22:34.020351Z"
    },
    "papermill": {
     "duration": 0.022377,
     "end_time": "2025-08-19T18:22:34.023127",
     "exception": false,
     "start_time": "2025-08-19T18:22:34.000750",
     "status": "completed"
    },
    "tags": []
   },
   "outputs": [],
   "source": [
    "y_true = y_true.squeeze()"
   ]
  },
  {
   "cell_type": "code",
   "execution_count": 45,
   "id": "e700e9a7",
   "metadata": {
    "execution": {
     "iopub.execute_input": "2025-08-19T18:22:34.051046Z",
     "iopub.status.busy": "2025-08-19T18:22:34.049607Z",
     "iopub.status.idle": "2025-08-19T18:22:34.565234Z",
     "shell.execute_reply": "2025-08-19T18:22:34.563798Z"
    },
    "papermill": {
     "duration": 0.531446,
     "end_time": "2025-08-19T18:22:34.568249",
     "exception": false,
     "start_time": "2025-08-19T18:22:34.036803",
     "status": "completed"
    },
    "tags": []
   },
   "outputs": [],
   "source": [
    "from fairness_multiverse.conformal import evaluate_sets\n",
    "\n",
    "# Evaluate coverage and average set size on test data\n",
    "metrics = evaluate_sets(pred_sets, y_true)"
   ]
  },
  {
   "cell_type": "markdown",
   "id": "efbacec0",
   "metadata": {
    "papermill": {
     "duration": 0.013797,
     "end_time": "2025-08-19T18:22:34.609799",
     "exception": false,
     "start_time": "2025-08-19T18:22:34.596002",
     "status": "completed"
    },
    "tags": []
   },
   "source": [
    "# CP Metrics"
   ]
  },
  {
   "cell_type": "code",
   "execution_count": 46,
   "id": "9de55fb1",
   "metadata": {
    "execution": {
     "iopub.execute_input": "2025-08-19T18:22:34.636932Z",
     "iopub.status.busy": "2025-08-19T18:22:34.635458Z",
     "iopub.status.idle": "2025-08-19T18:22:34.648394Z",
     "shell.execute_reply": "2025-08-19T18:22:34.647238Z"
    },
    "papermill": {
     "duration": 0.033108,
     "end_time": "2025-08-19T18:22:34.654275",
     "exception": false,
     "start_time": "2025-08-19T18:22:34.621167",
     "status": "completed"
    },
    "tags": []
   },
   "outputs": [
    {
     "data": {
      "text/plain": [
       "{'coverage': 0.9135547876490915, 'avg_size': 1.2452346449671163}"
      ]
     },
     "execution_count": 46,
     "metadata": {},
     "output_type": "execute_result"
    }
   ],
   "source": [
    "metrics"
   ]
  },
  {
   "cell_type": "code",
   "execution_count": 47,
   "id": "64c340a1",
   "metadata": {
    "execution": {
     "iopub.execute_input": "2025-08-19T18:22:34.682688Z",
     "iopub.status.busy": "2025-08-19T18:22:34.681326Z",
     "iopub.status.idle": "2025-08-19T18:22:34.691748Z",
     "shell.execute_reply": "2025-08-19T18:22:34.690430Z"
    },
    "papermill": {
     "duration": 0.025751,
     "end_time": "2025-08-19T18:22:34.693443",
     "exception": false,
     "start_time": "2025-08-19T18:22:34.667692",
     "status": "completed"
    },
    "tags": []
   },
   "outputs": [],
   "source": [
    "example_universe = universe.copy()\n",
    "universe_training_year = example_universe.get(\"training_year\")\n",
    "universe_training_size = example_universe.get(\"training_size\")\n",
    "universe_scale = example_universe.get(\"scale\")\n",
    "universe_model = example_universe.get(\"model\")\n",
    "universe_exclude_features = example_universe.get(\"exclude_features\")\n",
    "universe_exclude_subgroups = example_universe.get(\"exclude_subgroups\")"
   ]
  },
  {
   "cell_type": "code",
   "execution_count": 48,
   "id": "dbb53cb4",
   "metadata": {
    "execution": {
     "iopub.execute_input": "2025-08-19T18:22:34.724101Z",
     "iopub.status.busy": "2025-08-19T18:22:34.722777Z",
     "iopub.status.idle": "2025-08-19T18:22:34.732847Z",
     "shell.execute_reply": "2025-08-19T18:22:34.731486Z"
    },
    "papermill": {
     "duration": 0.025367,
     "end_time": "2025-08-19T18:22:34.734981",
     "exception": false,
     "start_time": "2025-08-19T18:22:34.709614",
     "status": "completed"
    },
    "tags": []
   },
   "outputs": [],
   "source": [
    "cp_metrics_dict = {\n",
    "    \"universe_id\": [universe_id],\n",
    "    \"universe_training_year\": [universe_training_year],\n",
    "    \"universe_training_size\": [universe_training_size],\n",
    "    \"universe_scale\": [universe_scale],\n",
    "    \"universe_model\": [universe_model],\n",
    "    \"universe_exclude_features\": [universe_exclude_features],\n",
    "    \"universe_exclude_subgroups\": [universe_exclude_subgroups],\n",
    "    \"q_hat\": [q_hat],\n",
    "    \"coverage\": [metrics[\"coverage\"]],\n",
    "    \"avg_size\": [metrics[\"avg_size\"]],\n",
    "}"
   ]
  },
  {
   "cell_type": "code",
   "execution_count": 49,
   "id": "0d70d4b2",
   "metadata": {
    "execution": {
     "iopub.execute_input": "2025-08-19T18:22:34.765585Z",
     "iopub.status.busy": "2025-08-19T18:22:34.764295Z",
     "iopub.status.idle": "2025-08-19T18:22:34.775900Z",
     "shell.execute_reply": "2025-08-19T18:22:34.774748Z"
    },
    "papermill": {
     "duration": 0.026447,
     "end_time": "2025-08-19T18:22:34.777641",
     "exception": false,
     "start_time": "2025-08-19T18:22:34.751194",
     "status": "completed"
    },
    "tags": []
   },
   "outputs": [],
   "source": [
    "cp_metrics_df = pd.DataFrame(cp_metrics_dict)"
   ]
  },
  {
   "cell_type": "code",
   "execution_count": 50,
   "id": "b494403c",
   "metadata": {
    "execution": {
     "iopub.execute_input": "2025-08-19T18:22:34.808874Z",
     "iopub.status.busy": "2025-08-19T18:22:34.807573Z",
     "iopub.status.idle": "2025-08-19T18:22:34.833687Z",
     "shell.execute_reply": "2025-08-19T18:22:34.832770Z"
    },
    "papermill": {
     "duration": 0.04216,
     "end_time": "2025-08-19T18:22:34.835164",
     "exception": false,
     "start_time": "2025-08-19T18:22:34.793004",
     "status": "completed"
    },
    "tags": []
   },
   "outputs": [
    {
     "data": {
      "text/html": [
       "<div>\n",
       "<style scoped>\n",
       "    .dataframe tbody tr th:only-of-type {\n",
       "        vertical-align: middle;\n",
       "    }\n",
       "\n",
       "    .dataframe tbody tr th {\n",
       "        vertical-align: top;\n",
       "    }\n",
       "\n",
       "    .dataframe thead th {\n",
       "        text-align: right;\n",
       "    }\n",
       "</style>\n",
       "<table border=\"1\" class=\"dataframe\">\n",
       "  <thead>\n",
       "    <tr style=\"text-align: right;\">\n",
       "      <th></th>\n",
       "      <th>universe_id</th>\n",
       "      <th>universe_training_year</th>\n",
       "      <th>universe_training_size</th>\n",
       "      <th>universe_scale</th>\n",
       "      <th>universe_model</th>\n",
       "      <th>universe_exclude_features</th>\n",
       "      <th>universe_exclude_subgroups</th>\n",
       "      <th>q_hat</th>\n",
       "      <th>coverage</th>\n",
       "      <th>avg_size</th>\n",
       "    </tr>\n",
       "  </thead>\n",
       "  <tbody>\n",
       "    <tr>\n",
       "      <th>0</th>\n",
       "      <td>67111647a4eb0abc39cb562815a40287</td>\n",
       "      <td>2010_14</td>\n",
       "      <td>25k</td>\n",
       "      <td>do-not-scale</td>\n",
       "      <td>elasticnet</td>\n",
       "      <td>nationality-sex</td>\n",
       "      <td>keep-all</td>\n",
       "      <td>0.67726</td>\n",
       "      <td>0.913555</td>\n",
       "      <td>1.245235</td>\n",
       "    </tr>\n",
       "  </tbody>\n",
       "</table>\n",
       "</div>"
      ],
      "text/plain": [
       "                        universe_id universe_training_year  \\\n",
       "0  67111647a4eb0abc39cb562815a40287                2010_14   \n",
       "\n",
       "  universe_training_size universe_scale universe_model  \\\n",
       "0                    25k   do-not-scale     elasticnet   \n",
       "\n",
       "  universe_exclude_features universe_exclude_subgroups    q_hat  coverage  \\\n",
       "0           nationality-sex                   keep-all  0.67726  0.913555   \n",
       "\n",
       "   avg_size  \n",
       "0  1.245235  "
      ]
     },
     "execution_count": 50,
     "metadata": {},
     "output_type": "execute_result"
    }
   ],
   "source": [
    "cp_metrics_df"
   ]
  },
  {
   "cell_type": "markdown",
   "id": "ed608b0b",
   "metadata": {
    "papermill": {
     "duration": 0.011664,
     "end_time": "2025-08-19T18:22:34.860968",
     "exception": false,
     "start_time": "2025-08-19T18:22:34.849304",
     "status": "completed"
    },
    "tags": []
   },
   "source": [
    "Conditional coverage & looking at subgroups"
   ]
  },
  {
   "cell_type": "code",
   "execution_count": 51,
   "id": "8968c366",
   "metadata": {
    "execution": {
     "iopub.execute_input": "2025-08-19T18:22:34.885975Z",
     "iopub.status.busy": "2025-08-19T18:22:34.885512Z",
     "iopub.status.idle": "2025-08-19T18:22:35.165032Z",
     "shell.execute_reply": "2025-08-19T18:22:35.164124Z"
    },
    "papermill": {
     "duration": 0.293935,
     "end_time": "2025-08-19T18:22:35.166630",
     "exception": false,
     "start_time": "2025-08-19T18:22:34.872695",
     "status": "completed"
    },
    "tags": []
   },
   "outputs": [],
   "source": [
    "from fairness_multiverse.conformal import build_cp_groups\n",
    "\n",
    "cp_groups_df = build_cp_groups(pred_sets, y_true, X_test.index, org_test)"
   ]
  },
  {
   "cell_type": "code",
   "execution_count": 52,
   "id": "292ddabf",
   "metadata": {
    "execution": {
     "iopub.execute_input": "2025-08-19T18:22:35.192207Z",
     "iopub.status.busy": "2025-08-19T18:22:35.191916Z",
     "iopub.status.idle": "2025-08-19T18:22:36.064441Z",
     "shell.execute_reply": "2025-08-19T18:22:36.063250Z"
    },
    "papermill": {
     "duration": 0.888687,
     "end_time": "2025-08-19T18:22:36.067809",
     "exception": false,
     "start_time": "2025-08-19T18:22:35.179122",
     "status": "completed"
    },
    "tags": []
   },
   "outputs": [],
   "source": [
    "# Define covered = 1 if true_label is in the predicted set\n",
    "cp_groups_df['covered'] = cp_groups_df.apply(\n",
    "    lambda r: int(r['true_label'] in r['pred_set']),\n",
    "    axis=1\n",
    ")"
   ]
  },
  {
   "cell_type": "code",
   "execution_count": 53,
   "id": "3a261692",
   "metadata": {
    "execution": {
     "iopub.execute_input": "2025-08-19T18:22:36.113231Z",
     "iopub.status.busy": "2025-08-19T18:22:36.111827Z",
     "iopub.status.idle": "2025-08-19T18:22:36.135267Z",
     "shell.execute_reply": "2025-08-19T18:22:36.134232Z"
    },
    "papermill": {
     "duration": 0.042061,
     "end_time": "2025-08-19T18:22:36.137300",
     "exception": false,
     "start_time": "2025-08-19T18:22:36.095239",
     "status": "completed"
    },
    "tags": []
   },
   "outputs": [],
   "source": [
    "subgroups = ['frau1','nongerman','nongerman_male','nongerman_female']\n",
    "\n",
    "# Conditional coverage for subgroup==1\n",
    "cond_coverage = {\n",
    "    g: cp_groups_df.loc[cp_groups_df[g]==1, 'covered'].mean()\n",
    "    for g in subgroups\n",
    "}"
   ]
  },
  {
   "cell_type": "code",
   "execution_count": 54,
   "id": "894fd600",
   "metadata": {
    "execution": {
     "iopub.execute_input": "2025-08-19T18:22:36.168794Z",
     "iopub.status.busy": "2025-08-19T18:22:36.167611Z",
     "iopub.status.idle": "2025-08-19T18:22:36.181758Z",
     "shell.execute_reply": "2025-08-19T18:22:36.180708Z"
    },
    "papermill": {
     "duration": 0.029743,
     "end_time": "2025-08-19T18:22:36.183290",
     "exception": false,
     "start_time": "2025-08-19T18:22:36.153547",
     "status": "completed"
    },
    "tags": []
   },
   "outputs": [
    {
     "data": {
      "text/plain": [
       "{'frau1': 0.9120636204340208,\n",
       " 'nongerman': 0.958457306461573,\n",
       " 'nongerman_male': 0.9664955417454743,\n",
       " 'nongerman_female': 0.9451564828614009}"
      ]
     },
     "execution_count": 54,
     "metadata": {},
     "output_type": "execute_result"
    }
   ],
   "source": [
    "cond_coverage"
   ]
  },
  {
   "cell_type": "code",
   "execution_count": 55,
   "id": "942895c7",
   "metadata": {
    "execution": {
     "iopub.execute_input": "2025-08-19T18:22:36.218051Z",
     "iopub.status.busy": "2025-08-19T18:22:36.217237Z",
     "iopub.status.idle": "2025-08-19T18:22:36.229690Z",
     "shell.execute_reply": "2025-08-19T18:22:36.228444Z"
    },
    "papermill": {
     "duration": 0.029596,
     "end_time": "2025-08-19T18:22:36.231476",
     "exception": false,
     "start_time": "2025-08-19T18:22:36.201880",
     "status": "completed"
    },
    "tags": []
   },
   "outputs": [],
   "source": [
    "for subgroup, cov in cond_coverage.items():\n",
    "    cp_metrics_df[f\"cov_{subgroup}\"] = cov"
   ]
  },
  {
   "cell_type": "code",
   "execution_count": 56,
   "id": "3970120f",
   "metadata": {
    "execution": {
     "iopub.execute_input": "2025-08-19T18:22:36.261256Z",
     "iopub.status.busy": "2025-08-19T18:22:36.260169Z",
     "iopub.status.idle": "2025-08-19T18:22:36.285159Z",
     "shell.execute_reply": "2025-08-19T18:22:36.284277Z"
    },
    "papermill": {
     "duration": 0.041172,
     "end_time": "2025-08-19T18:22:36.287078",
     "exception": false,
     "start_time": "2025-08-19T18:22:36.245906",
     "status": "completed"
    },
    "tags": []
   },
   "outputs": [
    {
     "data": {
      "text/html": [
       "<div>\n",
       "<style scoped>\n",
       "    .dataframe tbody tr th:only-of-type {\n",
       "        vertical-align: middle;\n",
       "    }\n",
       "\n",
       "    .dataframe tbody tr th {\n",
       "        vertical-align: top;\n",
       "    }\n",
       "\n",
       "    .dataframe thead th {\n",
       "        text-align: right;\n",
       "    }\n",
       "</style>\n",
       "<table border=\"1\" class=\"dataframe\">\n",
       "  <thead>\n",
       "    <tr style=\"text-align: right;\">\n",
       "      <th></th>\n",
       "      <th>universe_id</th>\n",
       "      <th>universe_training_year</th>\n",
       "      <th>universe_training_size</th>\n",
       "      <th>universe_scale</th>\n",
       "      <th>universe_model</th>\n",
       "      <th>universe_exclude_features</th>\n",
       "      <th>universe_exclude_subgroups</th>\n",
       "      <th>q_hat</th>\n",
       "      <th>coverage</th>\n",
       "      <th>avg_size</th>\n",
       "      <th>cov_frau1</th>\n",
       "      <th>cov_nongerman</th>\n",
       "      <th>cov_nongerman_male</th>\n",
       "      <th>cov_nongerman_female</th>\n",
       "    </tr>\n",
       "  </thead>\n",
       "  <tbody>\n",
       "    <tr>\n",
       "      <th>0</th>\n",
       "      <td>67111647a4eb0abc39cb562815a40287</td>\n",
       "      <td>2010_14</td>\n",
       "      <td>25k</td>\n",
       "      <td>do-not-scale</td>\n",
       "      <td>elasticnet</td>\n",
       "      <td>nationality-sex</td>\n",
       "      <td>keep-all</td>\n",
       "      <td>0.67726</td>\n",
       "      <td>0.913555</td>\n",
       "      <td>1.245235</td>\n",
       "      <td>0.912064</td>\n",
       "      <td>0.958457</td>\n",
       "      <td>0.966496</td>\n",
       "      <td>0.945156</td>\n",
       "    </tr>\n",
       "  </tbody>\n",
       "</table>\n",
       "</div>"
      ],
      "text/plain": [
       "                        universe_id universe_training_year  \\\n",
       "0  67111647a4eb0abc39cb562815a40287                2010_14   \n",
       "\n",
       "  universe_training_size universe_scale universe_model  \\\n",
       "0                    25k   do-not-scale     elasticnet   \n",
       "\n",
       "  universe_exclude_features universe_exclude_subgroups    q_hat  coverage  \\\n",
       "0           nationality-sex                   keep-all  0.67726  0.913555   \n",
       "\n",
       "   avg_size  cov_frau1  cov_nongerman  cov_nongerman_male  \\\n",
       "0  1.245235   0.912064       0.958457            0.966496   \n",
       "\n",
       "   cov_nongerman_female  \n",
       "0              0.945156  "
      ]
     },
     "execution_count": 56,
     "metadata": {},
     "output_type": "execute_result"
    }
   ],
   "source": [
    "cp_metrics_df"
   ]
  },
  {
   "cell_type": "markdown",
   "id": "3fc519cc",
   "metadata": {
    "papermill": {
     "duration": 0.012804,
     "end_time": "2025-08-19T18:22:36.319569",
     "exception": false,
     "start_time": "2025-08-19T18:22:36.306765",
     "status": "completed"
    },
    "tags": []
   },
   "source": [
    "# (Fairness) Metrics"
   ]
  },
  {
   "cell_type": "code",
   "execution_count": 57,
   "id": "a2e5e155",
   "metadata": {
    "execution": {
     "iopub.execute_input": "2025-08-19T18:22:36.347957Z",
     "iopub.status.busy": "2025-08-19T18:22:36.346848Z",
     "iopub.status.idle": "2025-08-19T18:22:36.374824Z",
     "shell.execute_reply": "2025-08-19T18:22:36.374027Z"
    },
    "papermill": {
     "duration": 0.04552,
     "end_time": "2025-08-19T18:22:36.377851",
     "exception": false,
     "start_time": "2025-08-19T18:22:36.332331",
     "status": "completed"
    },
    "tags": []
   },
   "outputs": [],
   "source": [
    "colname_to_bin = \"maxdeutsch1\"\n",
    "majority_value = org_train[colname_to_bin].mode()[0]\n",
    "\n",
    "org_test[\"majmin\"] = np.where(org_test[colname_to_bin] == majority_value, \"majority\", \"minority\")"
   ]
  },
  {
   "cell_type": "code",
   "execution_count": 58,
   "id": "17e3e4d5",
   "metadata": {
    "execution": {
     "iopub.execute_input": "2025-08-19T18:22:36.420443Z",
     "iopub.status.busy": "2025-08-19T18:22:36.416918Z",
     "iopub.status.idle": "2025-08-19T18:22:38.158999Z",
     "shell.execute_reply": "2025-08-19T18:22:38.157751Z"
    },
    "papermill": {
     "duration": 1.760552,
     "end_time": "2025-08-19T18:22:38.162130",
     "exception": false,
     "start_time": "2025-08-19T18:22:36.401578",
     "status": "completed"
    },
    "tags": []
   },
   "outputs": [],
   "source": [
    "example_universe = universe.copy()\n",
    "example_universe[\"cutoff\"] = example_universe[\"cutoff\"][0]\n",
    "example_universe[\"eval_fairness_grouping\"] = example_universe[\"eval_fairness_grouping\"][0]\n",
    "fairness_dict, metric_frame = universe_analysis.compute_metrics(\n",
    "    example_universe,\n",
    "    y_pred_prob=probs_test,\n",
    "    y_test=y_true,\n",
    "    org_test=org_test,\n",
    ")"
   ]
  },
  {
   "cell_type": "markdown",
   "id": "1fb7a0e9",
   "metadata": {
    "papermill": {
     "duration": 0.014323,
     "end_time": "2025-08-19T18:22:38.214764",
     "exception": false,
     "start_time": "2025-08-19T18:22:38.200441",
     "status": "completed"
    },
    "tags": []
   },
   "source": [
    "# Overall"
   ]
  },
  {
   "cell_type": "markdown",
   "id": "be1784b1",
   "metadata": {
    "papermill": {
     "duration": 0.013908,
     "end_time": "2025-08-19T18:22:38.242730",
     "exception": false,
     "start_time": "2025-08-19T18:22:38.228822",
     "status": "completed"
    },
    "tags": []
   },
   "source": [
    "Main fairness target: Equalized Odds. Seems to be a better fit than equal opportunity, since we're not only interested in Y = 1. Seems to be a better fit than demographic parity, since we also care about accuracy, not just equal distribution of preds.\n",
    "\n",
    "Pick column for computation of fairness metrics\n",
    "\n",
    "Performance\n",
    "Overall performance measures, most interesting in relation to the measures split by group below"
   ]
  },
  {
   "cell_type": "code",
   "execution_count": 59,
   "id": "b7672bee",
   "metadata": {
    "execution": {
     "iopub.execute_input": "2025-08-19T18:22:38.272244Z",
     "iopub.status.busy": "2025-08-19T18:22:38.271773Z",
     "iopub.status.idle": "2025-08-19T18:22:38.279628Z",
     "shell.execute_reply": "2025-08-19T18:22:38.278824Z"
    },
    "papermill": {
     "duration": 0.024479,
     "end_time": "2025-08-19T18:22:38.280996",
     "exception": false,
     "start_time": "2025-08-19T18:22:38.256517",
     "status": "completed"
    },
    "tags": []
   },
   "outputs": [
    {
     "data": {
      "text/plain": [
       "accuracy                   0.215795\n",
       "balanced accuracy          0.529446\n",
       "f1                         0.237363\n",
       "precision                  0.135597\n",
       "false positive rate        0.892445\n",
       "false negative rate        0.048662\n",
       "selection rate             0.900000\n",
       "count                  89710.000000\n",
       "dtype: float64"
      ]
     },
     "execution_count": 59,
     "metadata": {},
     "output_type": "execute_result"
    }
   ],
   "source": [
    "metric_frame.overall"
   ]
  },
  {
   "cell_type": "markdown",
   "id": "d93333c9",
   "metadata": {
    "papermill": {
     "duration": 0.014266,
     "end_time": "2025-08-19T18:22:38.331674",
     "exception": false,
     "start_time": "2025-08-19T18:22:38.317408",
     "status": "completed"
    },
    "tags": []
   },
   "source": [
    "By Group"
   ]
  },
  {
   "cell_type": "code",
   "execution_count": 60,
   "id": "52256966",
   "metadata": {
    "execution": {
     "iopub.execute_input": "2025-08-19T18:22:38.361869Z",
     "iopub.status.busy": "2025-08-19T18:22:38.360703Z",
     "iopub.status.idle": "2025-08-19T18:22:38.382503Z",
     "shell.execute_reply": "2025-08-19T18:22:38.381595Z"
    },
    "papermill": {
     "duration": 0.038286,
     "end_time": "2025-08-19T18:22:38.384198",
     "exception": false,
     "start_time": "2025-08-19T18:22:38.345912",
     "status": "completed"
    },
    "tags": []
   },
   "outputs": [
    {
     "data": {
      "text/html": [
       "<div>\n",
       "<style scoped>\n",
       "    .dataframe tbody tr th:only-of-type {\n",
       "        vertical-align: middle;\n",
       "    }\n",
       "\n",
       "    .dataframe tbody tr th {\n",
       "        vertical-align: top;\n",
       "    }\n",
       "\n",
       "    .dataframe thead th {\n",
       "        text-align: right;\n",
       "    }\n",
       "</style>\n",
       "<table border=\"1\" class=\"dataframe\">\n",
       "  <thead>\n",
       "    <tr style=\"text-align: right;\">\n",
       "      <th></th>\n",
       "      <th>accuracy</th>\n",
       "      <th>balanced accuracy</th>\n",
       "      <th>f1</th>\n",
       "      <th>precision</th>\n",
       "      <th>false positive rate</th>\n",
       "      <th>false negative rate</th>\n",
       "      <th>selection rate</th>\n",
       "      <th>count</th>\n",
       "    </tr>\n",
       "    <tr>\n",
       "      <th>majmin</th>\n",
       "      <th></th>\n",
       "      <th></th>\n",
       "      <th></th>\n",
       "      <th></th>\n",
       "      <th></th>\n",
       "      <th></th>\n",
       "      <th></th>\n",
       "      <th></th>\n",
       "    </tr>\n",
       "  </thead>\n",
       "  <tbody>\n",
       "    <tr>\n",
       "      <th>majority</th>\n",
       "      <td>0.237270</td>\n",
       "      <td>0.536779</td>\n",
       "      <td>0.246443</td>\n",
       "      <td>0.141724</td>\n",
       "      <td>0.870315</td>\n",
       "      <td>0.056127</td>\n",
       "      <td>0.880035</td>\n",
       "      <td>69170.0</td>\n",
       "    </tr>\n",
       "    <tr>\n",
       "      <th>minority</th>\n",
       "      <td>0.143476</td>\n",
       "      <td>0.507300</td>\n",
       "      <td>0.208770</td>\n",
       "      <td>0.116827</td>\n",
       "      <td>0.965551</td>\n",
       "      <td>0.019848</td>\n",
       "      <td>0.967235</td>\n",
       "      <td>20540.0</td>\n",
       "    </tr>\n",
       "  </tbody>\n",
       "</table>\n",
       "</div>"
      ],
      "text/plain": [
       "          accuracy  balanced accuracy        f1  precision  \\\n",
       "majmin                                                       \n",
       "majority  0.237270           0.536779  0.246443   0.141724   \n",
       "minority  0.143476           0.507300  0.208770   0.116827   \n",
       "\n",
       "          false positive rate  false negative rate  selection rate    count  \n",
       "majmin                                                                       \n",
       "majority             0.870315             0.056127        0.880035  69170.0  \n",
       "minority             0.965551             0.019848        0.967235  20540.0  "
      ]
     },
     "execution_count": 60,
     "metadata": {},
     "output_type": "execute_result"
    }
   ],
   "source": [
    "metric_frame.by_group"
   ]
  },
  {
   "cell_type": "code",
   "execution_count": 61,
   "id": "6e6c20ae",
   "metadata": {
    "execution": {
     "iopub.execute_input": "2025-08-19T18:22:38.421851Z",
     "iopub.status.busy": "2025-08-19T18:22:38.420809Z",
     "iopub.status.idle": "2025-08-19T18:22:40.219008Z",
     "shell.execute_reply": "2025-08-19T18:22:40.218130Z"
    },
    "papermill": {
     "duration": 1.814667,
     "end_time": "2025-08-19T18:22:40.220379",
     "exception": false,
     "start_time": "2025-08-19T18:22:38.405712",
     "status": "completed"
    },
    "tags": []
   },
   "outputs": [
    {
     "data": {
      "text/plain": [
       "array([[<Axes: title={'center': 'accuracy'}, xlabel='majmin'>,\n",
       "        <Axes: title={'center': 'balanced accuracy'}, xlabel='majmin'>,\n",
       "        <Axes: title={'center': 'f1'}, xlabel='majmin'>],\n",
       "       [<Axes: title={'center': 'precision'}, xlabel='majmin'>,\n",
       "        <Axes: title={'center': 'false positive rate'}, xlabel='majmin'>,\n",
       "        <Axes: title={'center': 'false negative rate'}, xlabel='majmin'>],\n",
       "       [<Axes: title={'center': 'selection rate'}, xlabel='majmin'>,\n",
       "        <Axes: title={'center': 'count'}, xlabel='majmin'>,\n",
       "        <Axes: xlabel='majmin'>]], dtype=object)"
      ]
     },
     "execution_count": 61,
     "metadata": {},
     "output_type": "execute_result"
    },
    {
     "data": {
      "image/png": "[encoded data removed]",
      "text/plain": [
       "<Figure size 1200x800 with 9 Axes>"
      ]
     },
     "metadata": {},
     "output_type": "display_data"
    }
   ],
   "source": [
    "# In a graphic\n",
    "metric_frame.by_group.plot.bar(\n",
    "    subplots=True,\n",
    "    layout=[3, 3],\n",
    "    legend=False,\n",
    "    figsize=[12, 8],\n",
    "    title=\"Show all metrics\",\n",
    ")"
   ]
  },
  {
   "cell_type": "markdown",
   "id": "b2e433ae",
   "metadata": {
    "papermill": {
     "duration": 0.030743,
     "end_time": "2025-08-19T18:22:40.271709",
     "exception": false,
     "start_time": "2025-08-19T18:22:40.240966",
     "status": "completed"
    },
    "tags": []
   },
   "source": [
    "# Final Output"
   ]
  },
  {
   "cell_type": "code",
   "execution_count": 62,
   "id": "3871301e",
   "metadata": {
    "execution": {
     "iopub.execute_input": "2025-08-19T18:22:40.302560Z",
     "iopub.status.busy": "2025-08-19T18:22:40.301702Z",
     "iopub.status.idle": "2025-08-19T18:22:40.312175Z",
     "shell.execute_reply": "2025-08-19T18:22:40.311214Z"
    },
    "papermill": {
     "duration": 0.027401,
     "end_time": "2025-08-19T18:22:40.313658",
     "exception": false,
     "start_time": "2025-08-19T18:22:40.286257",
     "status": "completed"
    },
    "tags": []
   },
   "outputs": [
    {
     "data": {
      "text/plain": [
       "4"
      ]
     },
     "execution_count": 62,
     "metadata": {},
     "output_type": "execute_result"
    }
   ],
   "source": [
    "sub_universes = universe_analysis.generate_sub_universes()\n",
    "len(sub_universes)"
   ]
  },
  {
   "cell_type": "code",
   "execution_count": 63,
   "id": "d9cfdaca",
   "metadata": {
    "execution": {
     "iopub.execute_input": "2025-08-19T18:22:40.348135Z",
     "iopub.status.busy": "2025-08-19T18:22:40.347328Z",
     "iopub.status.idle": "2025-08-19T18:22:40.356617Z",
     "shell.execute_reply": "2025-08-19T18:22:40.355276Z"
    },
    "papermill": {
     "duration": 0.026881,
     "end_time": "2025-08-19T18:22:40.357833",
     "exception": false,
     "start_time": "2025-08-19T18:22:40.330952",
     "status": "completed"
    },
    "tags": []
   },
   "outputs": [],
   "source": [
    "def filter_sub_universe_data(sub_universe, org_test):\n",
    "    # Keep all rows — no filtering\n",
    "    keep_rows_mask = np.ones(org_test.shape[0], dtype=bool)\n",
    "\n",
    "    print(f\"[INFO] Keeping all rows: {keep_rows_mask.sum()} rows retained.\")\n",
    "    return keep_rows_mask"
   ]
  },
  {
   "cell_type": "code",
   "execution_count": 64,
   "id": "2bc31ac1",
   "metadata": {
    "execution": {
     "iopub.execute_input": "2025-08-19T18:22:40.393518Z",
     "iopub.status.busy": "2025-08-19T18:22:40.392316Z",
     "iopub.status.idle": "2025-08-19T18:22:47.106329Z",
     "shell.execute_reply": "2025-08-19T18:22:47.105304Z"
    },
    "papermill": {
     "duration": 6.732061,
     "end_time": "2025-08-19T18:22:47.107818",
     "exception": false,
     "start_time": "2025-08-19T18:22:40.375757",
     "status": "completed"
    },
    "tags": []
   },
   "outputs": [
    {
     "name": "stdout",
     "output_type": "stream",
     "text": [
      "Stopping execution_time clock.\n",
      "[INFO] Keeping all rows: 89710 rows retained.\n"
     ]
    },
    {
     "name": "stdout",
     "output_type": "stream",
     "text": [
      "[INFO] Keeping all rows: 89710 rows retained.\n"
     ]
    },
    {
     "name": "stdout",
     "output_type": "stream",
     "text": [
      "[INFO] Keeping all rows: 89710 rows retained.\n"
     ]
    },
    {
     "name": "stdout",
     "output_type": "stream",
     "text": [
      "[INFO] Keeping all rows: 89710 rows retained.\n"
     ]
    },
    {
     "data": {
      "text/html": [
       "<div>\n",
       "<style scoped>\n",
       "    .dataframe tbody tr th:only-of-type {\n",
       "        vertical-align: middle;\n",
       "    }\n",
       "\n",
       "    .dataframe tbody tr th {\n",
       "        vertical-align: top;\n",
       "    }\n",
       "\n",
       "    .dataframe thead th {\n",
       "        text-align: right;\n",
       "    }\n",
       "</style>\n",
       "<table border=\"1\" class=\"dataframe\">\n",
       "  <thead>\n",
       "    <tr style=\"text-align: right;\">\n",
       "      <th></th>\n",
       "      <th>run_no</th>\n",
       "      <th>universe_id</th>\n",
       "      <th>universe_settings</th>\n",
       "      <th>execution_time</th>\n",
       "      <th>test_size_n</th>\n",
       "      <th>test_size_frac</th>\n",
       "      <th>fair_main_equalized_odds_difference</th>\n",
       "      <th>fair_main_equalized_odds_ratio</th>\n",
       "      <th>fair_main_demographic_parity_difference</th>\n",
       "      <th>fair_main_demographic_parity_ratio</th>\n",
       "      <th>...</th>\n",
       "      <th>perf_grp_precision_0</th>\n",
       "      <th>perf_grp_precision_1</th>\n",
       "      <th>perf_grp_false positive rate_0</th>\n",
       "      <th>perf_grp_false positive rate_1</th>\n",
       "      <th>perf_grp_false negative rate_0</th>\n",
       "      <th>perf_grp_false negative rate_1</th>\n",
       "      <th>perf_grp_selection rate_0</th>\n",
       "      <th>perf_grp_selection rate_1</th>\n",
       "      <th>perf_grp_count_0</th>\n",
       "      <th>perf_grp_count_1</th>\n",
       "    </tr>\n",
       "  </thead>\n",
       "  <tbody>\n",
       "    <tr>\n",
       "      <th>0</th>\n",
       "      <td>3</td>\n",
       "      <td>67111647a4eb0abc39cb562815a40287</td>\n",
       "      <td>{\"cutoff\": \"quantile_0.1\", \"eval_fairness_grou...</td>\n",
       "      <td>30.146689</td>\n",
       "      <td>89710</td>\n",
       "      <td>1.0</td>\n",
       "      <td>0.095237</td>\n",
       "      <td>0.901366</td>\n",
       "      <td>0.087200</td>\n",
       "      <td>0.909846</td>\n",
       "      <td>...</td>\n",
       "      <td>NaN</td>\n",
       "      <td>NaN</td>\n",
       "      <td>NaN</td>\n",
       "      <td>NaN</td>\n",
       "      <td>NaN</td>\n",
       "      <td>NaN</td>\n",
       "      <td>NaN</td>\n",
       "      <td>NaN</td>\n",
       "      <td>NaN</td>\n",
       "      <td>NaN</td>\n",
       "    </tr>\n",
       "    <tr>\n",
       "      <th>0</th>\n",
       "      <td>3</td>\n",
       "      <td>67111647a4eb0abc39cb562815a40287</td>\n",
       "      <td>{\"cutoff\": \"quantile_0.1\", \"eval_fairness_grou...</td>\n",
       "      <td>30.146689</td>\n",
       "      <td>89710</td>\n",
       "      <td>1.0</td>\n",
       "      <td>0.095237</td>\n",
       "      <td>0.901366</td>\n",
       "      <td>0.087200</td>\n",
       "      <td>0.909846</td>\n",
       "      <td>...</td>\n",
       "      <td>0.116827</td>\n",
       "      <td>0.141724</td>\n",
       "      <td>0.965551</td>\n",
       "      <td>0.870315</td>\n",
       "      <td>0.019848</td>\n",
       "      <td>0.056127</td>\n",
       "      <td>0.967235</td>\n",
       "      <td>0.880035</td>\n",
       "      <td>20540.0</td>\n",
       "      <td>69170.0</td>\n",
       "    </tr>\n",
       "    <tr>\n",
       "      <th>0</th>\n",
       "      <td>3</td>\n",
       "      <td>67111647a4eb0abc39cb562815a40287</td>\n",
       "      <td>{\"cutoff\": \"quantile_0.25\", \"eval_fairness_gro...</td>\n",
       "      <td>30.146689</td>\n",
       "      <td>89710</td>\n",
       "      <td>1.0</td>\n",
       "      <td>0.229896</td>\n",
       "      <td>0.747313</td>\n",
       "      <td>0.212545</td>\n",
       "      <td>0.767424</td>\n",
       "      <td>...</td>\n",
       "      <td>NaN</td>\n",
       "      <td>NaN</td>\n",
       "      <td>NaN</td>\n",
       "      <td>NaN</td>\n",
       "      <td>NaN</td>\n",
       "      <td>NaN</td>\n",
       "      <td>NaN</td>\n",
       "      <td>NaN</td>\n",
       "      <td>NaN</td>\n",
       "      <td>NaN</td>\n",
       "    </tr>\n",
       "    <tr>\n",
       "      <th>0</th>\n",
       "      <td>3</td>\n",
       "      <td>67111647a4eb0abc39cb562815a40287</td>\n",
       "      <td>{\"cutoff\": \"quantile_0.25\", \"eval_fairness_gro...</td>\n",
       "      <td>30.146689</td>\n",
       "      <td>89710</td>\n",
       "      <td>1.0</td>\n",
       "      <td>0.229896</td>\n",
       "      <td>0.747313</td>\n",
       "      <td>0.212545</td>\n",
       "      <td>0.767424</td>\n",
       "      <td>...</td>\n",
       "      <td>0.119226</td>\n",
       "      <td>0.158644</td>\n",
       "      <td>0.909806</td>\n",
       "      <td>0.679910</td>\n",
       "      <td>0.054899</td>\n",
       "      <td>0.157987</td>\n",
       "      <td>0.913875</td>\n",
       "      <td>0.701330</td>\n",
       "      <td>20540.0</td>\n",
       "      <td>69170.0</td>\n",
       "    </tr>\n",
       "  </tbody>\n",
       "</table>\n",
       "<p>4 rows × 50 columns</p>\n",
       "</div>"
      ],
      "text/plain": [
       "  run_no                       universe_id  \\\n",
       "0      3  67111647a4eb0abc39cb562815a40287   \n",
       "0      3  67111647a4eb0abc39cb562815a40287   \n",
       "0      3  67111647a4eb0abc39cb562815a40287   \n",
       "0      3  67111647a4eb0abc39cb562815a40287   \n",
       "\n",
       "                                   universe_settings  execution_time  \\\n",
       "0  {\"cutoff\": \"quantile_0.1\", \"eval_fairness_grou...       30.146689   \n",
       "0  {\"cutoff\": \"quantile_0.1\", \"eval_fairness_grou...       30.146689   \n",
       "0  {\"cutoff\": \"quantile_0.25\", \"eval_fairness_gro...       30.146689   \n",
       "0  {\"cutoff\": \"quantile_0.25\", \"eval_fairness_gro...       30.146689   \n",
       "\n",
       "   test_size_n  test_size_frac  fair_main_equalized_odds_difference  \\\n",
       "0        89710             1.0                             0.095237   \n",
       "0        89710             1.0                             0.095237   \n",
       "0        89710             1.0                             0.229896   \n",
       "0        89710             1.0                             0.229896   \n",
       "\n",
       "   fair_main_equalized_odds_ratio  fair_main_demographic_parity_difference  \\\n",
       "0                        0.901366                                 0.087200   \n",
       "0                        0.901366                                 0.087200   \n",
       "0                        0.747313                                 0.212545   \n",
       "0                        0.747313                                 0.212545   \n",
       "\n",
       "   fair_main_demographic_parity_ratio  ...  perf_grp_precision_0  \\\n",
       "0                            0.909846  ...                   NaN   \n",
       "0                            0.909846  ...              0.116827   \n",
       "0                            0.767424  ...                   NaN   \n",
       "0                            0.767424  ...              0.119226   \n",
       "\n",
       "   perf_grp_precision_1  perf_grp_false positive rate_0  \\\n",
       "0                   NaN                             NaN   \n",
       "0              0.141724                        0.965551   \n",
       "0                   NaN                             NaN   \n",
       "0              0.158644                        0.909806   \n",
       "\n",
       "   perf_grp_false positive rate_1  perf_grp_false negative rate_0  \\\n",
       "0                             NaN                             NaN   \n",
       "0                        0.870315                        0.019848   \n",
       "0                             NaN                             NaN   \n",
       "0                        0.679910                        0.054899   \n",
       "\n",
       "   perf_grp_false negative rate_1  perf_grp_selection rate_0  \\\n",
       "0                             NaN                        NaN   \n",
       "0                        0.056127                   0.967235   \n",
       "0                             NaN                        NaN   \n",
       "0                        0.157987                   0.913875   \n",
       "\n",
       "   perf_grp_selection rate_1  perf_grp_count_0  perf_grp_count_1  \n",
       "0                        NaN               NaN               NaN  \n",
       "0                   0.880035           20540.0           69170.0  \n",
       "0                        NaN               NaN               NaN  \n",
       "0                   0.701330           20540.0           69170.0  \n",
       "\n",
       "[4 rows x 50 columns]"
      ]
     },
     "execution_count": 64,
     "metadata": {},
     "output_type": "execute_result"
    }
   ],
   "source": [
    "final_output = universe_analysis.generate_final_output(\n",
    "    y_pred_prob=probs_test,\n",
    "    y_test=y_true,\n",
    "    org_test=org_test,\n",
    "    filter_data=filter_sub_universe_data,\n",
    "    cp_metrics_df=cp_metrics_df,\n",
    "    save=True,\n",
    ")\n",
    "final_output"
   ]
  },
  {
   "cell_type": "code",
   "execution_count": null,
   "id": "8b80a1ff",
   "metadata": {
    "papermill": {
     "duration": 0.015844,
     "end_time": "2025-08-19T18:22:47.144820",
     "exception": false,
     "start_time": "2025-08-19T18:22:47.128976",
     "status": "completed"
    },
    "tags": []
   },
   "outputs": [],
   "source": []
  },
  {
   "cell_type": "code",
   "execution_count": null,
   "id": "275c9fad",
   "metadata": {
    "papermill": {
     "duration": 0.015192,
     "end_time": "2025-08-19T18:22:47.175734",
     "exception": false,
     "start_time": "2025-08-19T18:22:47.160542",
     "status": "completed"
    },
    "tags": []
   },
   "outputs": [],
   "source": []
  }
 ],
 "metadata": {
  "celltoolbar": "Tags",
  "kernelspec": {
   "display_name": "Python (CMA Fairness)",
   "language": "python",
   "name": "cma_fair_env"
  },
  "language_info": {
   "codemirror_mode": {
    "name": "ipython",
    "version": 3
   },
   "file_extension": ".py",
   "mimetype": "text/x-python",
   "name": "python",
   "nbconvert_exporter": "python",
   "pygments_lexer": "ipython3",
   "version": "3.10.12"
  },
  "papermill": {
   "default_parameters": {},
   "duration": 40.868643,
   "end_time": "2025-08-19T18:22:48.015916",
   "environment_variables": {},
   "exception": null,
   "input_path": "universe_analysis.ipynb",
   "output_path": "output/runs/3/notebooks/m_3-67111647a4eb0abc39cb562815a40287.ipynb",
   "parameters": {
    "output_dir": "output",
    "run_no": "3",
    "seed": "2023",
    "universe": "{\"cutoff\": [\"quantile_0.1\", \"quantile_0.25\"], \"eval_fairness_grouping\": [\"majority-minority\", \"nationality-all\"], \"exclude_features\": \"nationality-sex\", \"exclude_subgroups\": \"keep-all\", \"model\": \"elasticnet\", \"scale\": \"do-not-scale\", \"training_size\": \"25k\", \"training_year\": \"2010_14\"}",
    "universe_id": "67111647a4eb0abc39cb562815a40287"
   },
   "start_time": "2025-08-19T18:22:07.147273",
   "version": "2.6.0"
  }
 },
 "nbformat": 4,
 "nbformat_minor": 5
}