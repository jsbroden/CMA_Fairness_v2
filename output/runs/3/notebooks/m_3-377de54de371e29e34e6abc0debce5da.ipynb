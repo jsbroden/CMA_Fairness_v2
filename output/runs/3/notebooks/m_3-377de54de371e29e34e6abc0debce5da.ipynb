{
 "cells": [
  {
   "cell_type": "markdown",
   "id": "ef23dbb3",
   "metadata": {
    "papermill": {
     "duration": 0.011324,
     "end_time": "2025-08-19T18:59:37.324306",
     "exception": false,
     "start_time": "2025-08-19T18:59:37.312982",
     "status": "completed"
    },
    "tags": []
   },
   "source": [
    "# Setup"
   ]
  },
  {
   "cell_type": "code",
   "execution_count": 1,
   "id": "0bc8e7dc",
   "metadata": {
    "execution": {
     "iopub.execute_input": "2025-08-19T18:59:37.343532Z",
     "iopub.status.busy": "2025-08-19T18:59:37.343097Z",
     "iopub.status.idle": "2025-08-19T18:59:37.352466Z",
     "shell.execute_reply": "2025-08-19T18:59:37.351787Z"
    },
    "papermill": {
     "duration": 0.02096,
     "end_time": "2025-08-19T18:59:37.354129",
     "exception": false,
     "start_time": "2025-08-19T18:59:37.333169",
     "status": "completed"
    },
    "tags": []
   },
   "outputs": [
    {
     "name": "stdout",
     "output_type": "stream",
     "text": [
      "/dss/dsshome1/0C/ra93lal2/cma/CMA_Fairness_v2\n"
     ]
    },
    {
     "name": "stderr",
     "output_type": "stream",
     "text": [
      "/dss/dsshome1/0C/ra93lal2/.local/share/virtualenvs/CMA_Fairness_v2-3j10GkSs/lib/python3.10/site-packages/IPython/core/magics/osm.py:393: UserWarning: This is now an optional IPython functionality, using bookmarks requires you to install the `pickleshare` library.\n",
      "  bkms = self.shell.db.get('bookmarks', {})\n",
      "/dss/dsshome1/0C/ra93lal2/.local/share/virtualenvs/CMA_Fairness_v2-3j10GkSs/lib/python3.10/site-packages/IPython/core/magics/osm.py:417: UserWarning: This is now an optional IPython functionality, setting dhist requires you to install the `pickleshare` library.\n",
      "  self.shell.db['dhist'] = compress_dhist(dhist)[-100:]\n"
     ]
    }
   ],
   "source": [
    "%cd ~/cma/CMA_Fairness_v2"
   ]
  },
  {
   "cell_type": "markdown",
   "id": "9d235661",
   "metadata": {
    "papermill": {
     "duration": 0.083559,
     "end_time": "2025-08-19T18:59:37.448364",
     "exception": false,
     "start_time": "2025-08-19T18:59:37.364805",
     "status": "completed"
    },
    "tags": []
   },
   "source": [
    "The following cell holds the definition of our parameters, these values can be overriden by rendering the with e.g. the following command:\n",
    "\n",
    "papermill -p alpha 0.2 -p ratio 0.3 universe_analysis.ipynb output/test_run.ipynb"
   ]
  },
  {
   "cell_type": "code",
   "execution_count": 2,
   "id": "4a789d8e",
   "metadata": {
    "execution": {
     "iopub.execute_input": "2025-08-19T18:59:37.471425Z",
     "iopub.status.busy": "2025-08-19T18:59:37.469054Z",
     "iopub.status.idle": "2025-08-19T18:59:37.491663Z",
     "shell.execute_reply": "2025-08-19T18:59:37.488388Z"
    },
    "papermill": {
     "duration": 0.03671,
     "end_time": "2025-08-19T18:59:37.494075",
     "exception": false,
     "start_time": "2025-08-19T18:59:37.457365",
     "status": "completed"
    },
    "tags": []
   },
   "outputs": [
    {
     "name": "stdout",
     "output_type": "stream",
     "text": [
      "Current working directory: /dss/dsshome1/0C/ra93lal2/cma/CMA_Fairness_v2\n"
     ]
    }
   ],
   "source": [
    "import os\n",
    "print(\"Current working directory:\", os.getcwd())"
   ]
  },
  {
   "cell_type": "code",
   "execution_count": 3,
   "id": "4132aaed",
   "metadata": {
    "execution": {
     "iopub.execute_input": "2025-08-19T18:59:37.523186Z",
     "iopub.status.busy": "2025-08-19T18:59:37.522384Z",
     "iopub.status.idle": "2025-08-19T18:59:37.527775Z",
     "shell.execute_reply": "2025-08-19T18:59:37.526945Z"
    },
    "papermill": {
     "duration": 0.018038,
     "end_time": "2025-08-19T18:59:37.528998",
     "exception": false,
     "start_time": "2025-08-19T18:59:37.510960",
     "status": "completed"
    },
    "tags": [
     "parameters"
    ]
   },
   "outputs": [],
   "source": [
    "run_no = 0\n",
    "universe_id = \"test\"\n",
    "universe = {\n",
    "    \"training_size\": \"5k\", # \"25k\", \"5k\", \"1k\"\n",
    "    \"training_year\": \"2012_14\", # \"2014\", \"2012_14\", \"2010_14\"\n",
    "    \"scale\": \"scale\", # \"scale\", \"do-not-scale\",\n",
    "    \"model\": \"elasticnet\", # \"logreg\", \"penalized_logreg\", \"rf\", \"gbm\", \"elasticnet\"\n",
    "    \"cutoff\": [\"quantile_0.15\", \"quantile_0.30\"],\n",
    "    \"exclude_features\": \"age\", # \"none\", \"nationality\", \"sex\", \"nationality-sex\", \"age\"\n",
    "    \"exclude_subgroups\": \"drop-non-german\", # \"keep-all\", \"drop-non-german\"\n",
    "    \"eval_fairness_grouping\": [\"majority-minority\", \"nationality-all\"]\n",
    "}\n",
    "\n",
    "output_dir=\"./output\"\n",
    "seed=0"
   ]
  },
  {
   "cell_type": "code",
   "execution_count": 4,
   "id": "6e3530a7",
   "metadata": {
    "execution": {
     "iopub.execute_input": "2025-08-19T18:59:37.549544Z",
     "iopub.status.busy": "2025-08-19T18:59:37.549133Z",
     "iopub.status.idle": "2025-08-19T18:59:37.574971Z",
     "shell.execute_reply": "2025-08-19T18:59:37.574148Z"
    },
    "papermill": {
     "duration": 0.038712,
     "end_time": "2025-08-19T18:59:37.577059",
     "exception": false,
     "start_time": "2025-08-19T18:59:37.538347",
     "status": "completed"
    },
    "tags": [
     "injected-parameters"
    ]
   },
   "outputs": [],
   "source": [
    "# Parameters\n",
    "universe_id = \"377de54de371e29e34e6abc0debce5da\"\n",
    "run_no = \"3\"\n",
    "universe = \"{\\\"cutoff\\\": [\\\"quantile_0.1\\\", \\\"quantile_0.25\\\"], \\\"eval_fairness_grouping\\\": [\\\"majority-minority\\\", \\\"nationality-all\\\"], \\\"exclude_features\\\": \\\"age\\\", \\\"exclude_subgroups\\\": \\\"keep-all\\\", \\\"model\\\": \\\"gbm\\\", \\\"scale\\\": \\\"scale\\\", \\\"training_size\\\": \\\"1k\\\", \\\"training_year\\\": \\\"2012_14\\\"}\"\n",
    "output_dir = \"output\"\n",
    "seed = \"2023\"\n"
   ]
  },
  {
   "cell_type": "code",
   "execution_count": 5,
   "id": "a5d7941f",
   "metadata": {
    "execution": {
     "iopub.execute_input": "2025-08-19T18:59:37.606067Z",
     "iopub.status.busy": "2025-08-19T18:59:37.605163Z",
     "iopub.status.idle": "2025-08-19T18:59:37.622182Z",
     "shell.execute_reply": "2025-08-19T18:59:37.621270Z"
    },
    "papermill": {
     "duration": 0.030435,
     "end_time": "2025-08-19T18:59:37.623658",
     "exception": false,
     "start_time": "2025-08-19T18:59:37.593223",
     "status": "completed"
    },
    "tags": []
   },
   "outputs": [],
   "source": [
    "import json\n",
    "if isinstance(universe, str):\n",
    "    universe = json.loads(universe)"
   ]
  },
  {
   "cell_type": "code",
   "execution_count": 6,
   "id": "7076ccb1",
   "metadata": {
    "execution": {
     "iopub.execute_input": "2025-08-19T18:59:37.643629Z",
     "iopub.status.busy": "2025-08-19T18:59:37.643186Z",
     "iopub.status.idle": "2025-08-19T18:59:37.688172Z",
     "shell.execute_reply": "2025-08-19T18:59:37.687145Z"
    },
    "papermill": {
     "duration": 0.056522,
     "end_time": "2025-08-19T18:59:37.689853",
     "exception": false,
     "start_time": "2025-08-19T18:59:37.633331",
     "status": "completed"
    },
    "tags": []
   },
   "outputs": [],
   "source": [
    "# Auto-reload the custom package\n",
    "%load_ext autoreload\n",
    "%autoreload 1\n",
    "%aimport fairness_multiverse"
   ]
  },
  {
   "cell_type": "code",
   "execution_count": 7,
   "id": "94c8eb93",
   "metadata": {
    "execution": {
     "iopub.execute_input": "2025-08-19T18:59:37.716368Z",
     "iopub.status.busy": "2025-08-19T18:59:37.715307Z",
     "iopub.status.idle": "2025-08-19T18:59:39.414972Z",
     "shell.execute_reply": "2025-08-19T18:59:39.414072Z"
    },
    "papermill": {
     "duration": 1.712012,
     "end_time": "2025-08-19T18:59:39.416408",
     "exception": false,
     "start_time": "2025-08-19T18:59:37.704396",
     "status": "completed"
    },
    "tags": []
   },
   "outputs": [],
   "source": [
    "from fairness_multiverse.universe import UniverseAnalysis\n",
    "\n",
    "universe_analysis = UniverseAnalysis(\n",
    "    run_no = run_no,\n",
    "    universe_id = universe_id,\n",
    "    universe = universe,\n",
    "    output_dir=output_dir,\n",
    ")"
   ]
  },
  {
   "cell_type": "code",
   "execution_count": 8,
   "id": "2a6381cf",
   "metadata": {
    "execution": {
     "iopub.execute_input": "2025-08-19T18:59:39.437594Z",
     "iopub.status.busy": "2025-08-19T18:59:39.437076Z",
     "iopub.status.idle": "2025-08-19T18:59:39.442834Z",
     "shell.execute_reply": "2025-08-19T18:59:39.442081Z"
    },
    "papermill": {
     "duration": 0.017891,
     "end_time": "2025-08-19T18:59:39.444061",
     "exception": false,
     "start_time": "2025-08-19T18:59:39.426170",
     "status": "completed"
    },
    "tags": []
   },
   "outputs": [
    {
     "name": "stdout",
     "output_type": "stream",
     "text": [
      "Using Seed: 2023\n"
     ]
    }
   ],
   "source": [
    "import numpy as np\n",
    "parsed_seed = int(seed)\n",
    "np.random.seed(parsed_seed)\n",
    "print(f\"Using Seed: {parsed_seed}\")"
   ]
  },
  {
   "cell_type": "markdown",
   "id": "b6e958b4",
   "metadata": {
    "papermill": {
     "duration": 0.010009,
     "end_time": "2025-08-19T18:59:39.463461",
     "exception": false,
     "start_time": "2025-08-19T18:59:39.453452",
     "status": "completed"
    },
    "tags": []
   },
   "source": [
    "# Loading Data"
   ]
  },
  {
   "cell_type": "code",
   "execution_count": 9,
   "id": "98701482",
   "metadata": {
    "execution": {
     "iopub.execute_input": "2025-08-19T18:59:39.486623Z",
     "iopub.status.busy": "2025-08-19T18:59:39.486131Z",
     "iopub.status.idle": "2025-08-19T18:59:49.535236Z",
     "shell.execute_reply": "2025-08-19T18:59:49.533766Z"
    },
    "papermill": {
     "duration": 10.062103,
     "end_time": "2025-08-19T18:59:49.536958",
     "exception": false,
     "start_time": "2025-08-19T18:59:39.474855",
     "status": "completed"
    },
    "tags": []
   },
   "outputs": [
    {
     "name": "stdout",
     "output_type": "stream",
     "text": [
      "Loading SIAB data from cache: data/siab_cached.csv.gz\n"
     ]
    },
    {
     "name": "stdout",
     "output_type": "stream",
     "text": [
      "(643690, 164)\n"
     ]
    }
   ],
   "source": [
    "from pathlib import Path\n",
    "import pandas as pd\n",
    "\n",
    "# File paths\n",
    "raw_file = Path(\"data/raw/siab.csv\")\n",
    "cache_file = Path(\"data/siab_cached.csv.gz\")\n",
    "\n",
    "# Ensure cache directory exists\n",
    "cache_file.parent.mkdir(parents=True, exist_ok=True)\n",
    "\n",
    "# Load with simple caching\n",
    "if cache_file.exists():\n",
    "    print(f\"Loading SIAB data from cache: {cache_file}\")\n",
    "    siab = pd.read_csv(cache_file, compression='gzip')\n",
    "else:\n",
    "    print(f\"Cache not found. Reading raw SIAB data: {raw_file}\")\n",
    "    siab = pd.read_csv(raw_file)\n",
    "    siab.to_csv(cache_file, index=False, compression='gzip')\n",
    "    print(f\"Cached SIAB data to: {cache_file}\")\n",
    "\n",
    "print(siab.shape)"
   ]
  },
  {
   "cell_type": "code",
   "execution_count": 10,
   "id": "058d2abb",
   "metadata": {
    "execution": {
     "iopub.execute_input": "2025-08-19T18:59:49.561217Z",
     "iopub.status.busy": "2025-08-19T18:59:49.560039Z",
     "iopub.status.idle": "2025-08-19T18:59:49.692738Z",
     "shell.execute_reply": "2025-08-19T18:59:49.691795Z"
    },
    "papermill": {
     "duration": 0.146877,
     "end_time": "2025-08-19T18:59:49.696036",
     "exception": false,
     "start_time": "2025-08-19T18:59:49.549159",
     "status": "completed"
    },
    "tags": []
   },
   "outputs": [
    {
     "data": {
      "text/html": [
       "<div>\n",
       "<style scoped>\n",
       "    .dataframe tbody tr th:only-of-type {\n",
       "        vertical-align: middle;\n",
       "    }\n",
       "\n",
       "    .dataframe tbody tr th {\n",
       "        vertical-align: top;\n",
       "    }\n",
       "\n",
       "    .dataframe thead th {\n",
       "        text-align: right;\n",
       "    }\n",
       "</style>\n",
       "<table border=\"1\" class=\"dataframe\">\n",
       "  <thead>\n",
       "    <tr style=\"text-align: right;\">\n",
       "      <th></th>\n",
       "      <th>persnr</th>\n",
       "      <th>year</th>\n",
       "      <th>nrEntry</th>\n",
       "      <th>ltue</th>\n",
       "      <th>employed_before</th>\n",
       "      <th>receipt_leh_before</th>\n",
       "      <th>receipt_lhg_before</th>\n",
       "      <th>se_before</th>\n",
       "      <th>ASU_notue_seeking_before</th>\n",
       "      <th>ASU_other_before</th>\n",
       "      <th>...</th>\n",
       "      <th>minijob_tot_dur_byage</th>\n",
       "      <th>ft_tot_dur_byage</th>\n",
       "      <th>befrist_tot_dur_byage</th>\n",
       "      <th>leih_tot_dur_byage</th>\n",
       "      <th>LHG_tot_dur_byage</th>\n",
       "      <th>LEH_tot_dur_byage</th>\n",
       "      <th>almp_tot_dur_byage</th>\n",
       "      <th>almp_aw_tot_dur_byage</th>\n",
       "      <th>se_tot_dur_byage</th>\n",
       "      <th>seeking1_tot_dur_byage</th>\n",
       "    </tr>\n",
       "  </thead>\n",
       "  <tbody>\n",
       "    <tr>\n",
       "      <th>0</th>\n",
       "      <td>7</td>\n",
       "      <td>2015</td>\n",
       "      <td>1</td>\n",
       "      <td>0</td>\n",
       "      <td>1</td>\n",
       "      <td>0</td>\n",
       "      <td>0</td>\n",
       "      <td>0</td>\n",
       "      <td>1</td>\n",
       "      <td>0</td>\n",
       "      <td>...</td>\n",
       "      <td>0.000000</td>\n",
       "      <td>0.000000</td>\n",
       "      <td>15.043478</td>\n",
       "      <td>0.000000</td>\n",
       "      <td>0.000000</td>\n",
       "      <td>0.000000</td>\n",
       "      <td>0.000000</td>\n",
       "      <td>0.000000</td>\n",
       "      <td>0.000000</td>\n",
       "      <td>0.000000</td>\n",
       "    </tr>\n",
       "    <tr>\n",
       "      <th>1</th>\n",
       "      <td>18</td>\n",
       "      <td>2010</td>\n",
       "      <td>1</td>\n",
       "      <td>1</td>\n",
       "      <td>0</td>\n",
       "      <td>0</td>\n",
       "      <td>0</td>\n",
       "      <td>0</td>\n",
       "      <td>0</td>\n",
       "      <td>0</td>\n",
       "      <td>...</td>\n",
       "      <td>0.000000</td>\n",
       "      <td>0.000000</td>\n",
       "      <td>0.000000</td>\n",
       "      <td>0.000000</td>\n",
       "      <td>0.000000</td>\n",
       "      <td>0.000000</td>\n",
       "      <td>0.000000</td>\n",
       "      <td>0.000000</td>\n",
       "      <td>0.000000</td>\n",
       "      <td>0.000000</td>\n",
       "    </tr>\n",
       "    <tr>\n",
       "      <th>2</th>\n",
       "      <td>18</td>\n",
       "      <td>2011</td>\n",
       "      <td>2</td>\n",
       "      <td>0</td>\n",
       "      <td>1</td>\n",
       "      <td>0</td>\n",
       "      <td>1</td>\n",
       "      <td>0</td>\n",
       "      <td>1</td>\n",
       "      <td>0</td>\n",
       "      <td>...</td>\n",
       "      <td>2.714286</td>\n",
       "      <td>2.714286</td>\n",
       "      <td>0.000000</td>\n",
       "      <td>0.000000</td>\n",
       "      <td>10.775510</td>\n",
       "      <td>0.000000</td>\n",
       "      <td>8.367347</td>\n",
       "      <td>0.000000</td>\n",
       "      <td>0.000000</td>\n",
       "      <td>9.836735</td>\n",
       "    </tr>\n",
       "    <tr>\n",
       "      <th>3</th>\n",
       "      <td>18</td>\n",
       "      <td>2012</td>\n",
       "      <td>3</td>\n",
       "      <td>0</td>\n",
       "      <td>1</td>\n",
       "      <td>0</td>\n",
       "      <td>1</td>\n",
       "      <td>0</td>\n",
       "      <td>1</td>\n",
       "      <td>0</td>\n",
       "      <td>...</td>\n",
       "      <td>4.200000</td>\n",
       "      <td>4.200000</td>\n",
       "      <td>0.000000</td>\n",
       "      <td>0.000000</td>\n",
       "      <td>12.100000</td>\n",
       "      <td>0.000000</td>\n",
       "      <td>9.400000</td>\n",
       "      <td>0.000000</td>\n",
       "      <td>0.000000</td>\n",
       "      <td>9.960000</td>\n",
       "    </tr>\n",
       "    <tr>\n",
       "      <th>4</th>\n",
       "      <td>18</td>\n",
       "      <td>2012</td>\n",
       "      <td>4</td>\n",
       "      <td>0</td>\n",
       "      <td>1</td>\n",
       "      <td>0</td>\n",
       "      <td>1</td>\n",
       "      <td>0</td>\n",
       "      <td>1</td>\n",
       "      <td>0</td>\n",
       "      <td>...</td>\n",
       "      <td>5.460000</td>\n",
       "      <td>5.460000</td>\n",
       "      <td>0.000000</td>\n",
       "      <td>0.000000</td>\n",
       "      <td>13.360000</td>\n",
       "      <td>0.000000</td>\n",
       "      <td>10.320000</td>\n",
       "      <td>0.000000</td>\n",
       "      <td>0.000000</td>\n",
       "      <td>10.280000</td>\n",
       "    </tr>\n",
       "    <tr>\n",
       "      <th>...</th>\n",
       "      <td>...</td>\n",
       "      <td>...</td>\n",
       "      <td>...</td>\n",
       "      <td>...</td>\n",
       "      <td>...</td>\n",
       "      <td>...</td>\n",
       "      <td>...</td>\n",
       "      <td>...</td>\n",
       "      <td>...</td>\n",
       "      <td>...</td>\n",
       "      <td>...</td>\n",
       "      <td>...</td>\n",
       "      <td>...</td>\n",
       "      <td>...</td>\n",
       "      <td>...</td>\n",
       "      <td>...</td>\n",
       "      <td>...</td>\n",
       "      <td>...</td>\n",
       "      <td>...</td>\n",
       "      <td>...</td>\n",
       "      <td>...</td>\n",
       "    </tr>\n",
       "    <tr>\n",
       "      <th>643685</th>\n",
       "      <td>1827860</td>\n",
       "      <td>2013</td>\n",
       "      <td>1</td>\n",
       "      <td>0</td>\n",
       "      <td>0</td>\n",
       "      <td>0</td>\n",
       "      <td>1</td>\n",
       "      <td>0</td>\n",
       "      <td>0</td>\n",
       "      <td>1</td>\n",
       "      <td>...</td>\n",
       "      <td>0.000000</td>\n",
       "      <td>0.000000</td>\n",
       "      <td>0.000000</td>\n",
       "      <td>0.000000</td>\n",
       "      <td>0.612903</td>\n",
       "      <td>0.000000</td>\n",
       "      <td>0.000000</td>\n",
       "      <td>0.000000</td>\n",
       "      <td>0.000000</td>\n",
       "      <td>0.000000</td>\n",
       "    </tr>\n",
       "    <tr>\n",
       "      <th>643686</th>\n",
       "      <td>1827860</td>\n",
       "      <td>2015</td>\n",
       "      <td>2</td>\n",
       "      <td>1</td>\n",
       "      <td>0</td>\n",
       "      <td>0</td>\n",
       "      <td>1</td>\n",
       "      <td>0</td>\n",
       "      <td>1</td>\n",
       "      <td>0</td>\n",
       "      <td>...</td>\n",
       "      <td>0.000000</td>\n",
       "      <td>0.000000</td>\n",
       "      <td>0.212121</td>\n",
       "      <td>0.212121</td>\n",
       "      <td>17.363636</td>\n",
       "      <td>0.000000</td>\n",
       "      <td>8.909091</td>\n",
       "      <td>0.000000</td>\n",
       "      <td>0.000000</td>\n",
       "      <td>7.121212</td>\n",
       "    </tr>\n",
       "    <tr>\n",
       "      <th>643687</th>\n",
       "      <td>1827860</td>\n",
       "      <td>2016</td>\n",
       "      <td>3</td>\n",
       "      <td>1</td>\n",
       "      <td>0</td>\n",
       "      <td>0</td>\n",
       "      <td>1</td>\n",
       "      <td>1</td>\n",
       "      <td>0</td>\n",
       "      <td>1</td>\n",
       "      <td>...</td>\n",
       "      <td>0.000000</td>\n",
       "      <td>0.000000</td>\n",
       "      <td>0.294118</td>\n",
       "      <td>0.205882</td>\n",
       "      <td>34.705882</td>\n",
       "      <td>0.000000</td>\n",
       "      <td>10.352941</td>\n",
       "      <td>1.705882</td>\n",
       "      <td>1.705882</td>\n",
       "      <td>23.911765</td>\n",
       "    </tr>\n",
       "    <tr>\n",
       "      <th>643688</th>\n",
       "      <td>1827869</td>\n",
       "      <td>2013</td>\n",
       "      <td>1</td>\n",
       "      <td>1</td>\n",
       "      <td>1</td>\n",
       "      <td>0</td>\n",
       "      <td>0</td>\n",
       "      <td>0</td>\n",
       "      <td>1</td>\n",
       "      <td>0</td>\n",
       "      <td>...</td>\n",
       "      <td>0.000000</td>\n",
       "      <td>0.000000</td>\n",
       "      <td>0.000000</td>\n",
       "      <td>0.000000</td>\n",
       "      <td>0.000000</td>\n",
       "      <td>0.525424</td>\n",
       "      <td>0.000000</td>\n",
       "      <td>0.000000</td>\n",
       "      <td>0.000000</td>\n",
       "      <td>0.000000</td>\n",
       "    </tr>\n",
       "    <tr>\n",
       "      <th>643689</th>\n",
       "      <td>1827869</td>\n",
       "      <td>2014</td>\n",
       "      <td>2</td>\n",
       "      <td>0</td>\n",
       "      <td>0</td>\n",
       "      <td>1</td>\n",
       "      <td>0</td>\n",
       "      <td>0</td>\n",
       "      <td>1</td>\n",
       "      <td>0</td>\n",
       "      <td>...</td>\n",
       "      <td>0.000000</td>\n",
       "      <td>0.666667</td>\n",
       "      <td>0.666667</td>\n",
       "      <td>0.000000</td>\n",
       "      <td>0.000000</td>\n",
       "      <td>8.950000</td>\n",
       "      <td>1.033333</td>\n",
       "      <td>0.083333</td>\n",
       "      <td>0.083333</td>\n",
       "      <td>8.133333</td>\n",
       "    </tr>\n",
       "  </tbody>\n",
       "</table>\n",
       "<p>643690 rows × 164 columns</p>\n",
       "</div>"
      ],
      "text/plain": [
       "         persnr  year  nrEntry  ltue  employed_before  receipt_leh_before  \\\n",
       "0             7  2015        1     0                1                   0   \n",
       "1            18  2010        1     1                0                   0   \n",
       "2            18  2011        2     0                1                   0   \n",
       "3            18  2012        3     0                1                   0   \n",
       "4            18  2012        4     0                1                   0   \n",
       "...         ...   ...      ...   ...              ...                 ...   \n",
       "643685  1827860  2013        1     0                0                   0   \n",
       "643686  1827860  2015        2     1                0                   0   \n",
       "643687  1827860  2016        3     1                0                   0   \n",
       "643688  1827869  2013        1     1                1                   0   \n",
       "643689  1827869  2014        2     0                0                   1   \n",
       "\n",
       "        receipt_lhg_before  se_before  ASU_notue_seeking_before  \\\n",
       "0                        0          0                         1   \n",
       "1                        0          0                         0   \n",
       "2                        1          0                         1   \n",
       "3                        1          0                         1   \n",
       "4                        1          0                         1   \n",
       "...                    ...        ...                       ...   \n",
       "643685                   1          0                         0   \n",
       "643686                   1          0                         1   \n",
       "643687                   1          1                         0   \n",
       "643688                   0          0                         1   \n",
       "643689                   0          0                         1   \n",
       "\n",
       "        ASU_other_before  ...  minijob_tot_dur_byage  ft_tot_dur_byage  \\\n",
       "0                      0  ...               0.000000          0.000000   \n",
       "1                      0  ...               0.000000          0.000000   \n",
       "2                      0  ...               2.714286          2.714286   \n",
       "3                      0  ...               4.200000          4.200000   \n",
       "4                      0  ...               5.460000          5.460000   \n",
       "...                  ...  ...                    ...               ...   \n",
       "643685                 1  ...               0.000000          0.000000   \n",
       "643686                 0  ...               0.000000          0.000000   \n",
       "643687                 1  ...               0.000000          0.000000   \n",
       "643688                 0  ...               0.000000          0.000000   \n",
       "643689                 0  ...               0.000000          0.666667   \n",
       "\n",
       "        befrist_tot_dur_byage  leih_tot_dur_byage  LHG_tot_dur_byage  \\\n",
       "0                   15.043478            0.000000           0.000000   \n",
       "1                    0.000000            0.000000           0.000000   \n",
       "2                    0.000000            0.000000          10.775510   \n",
       "3                    0.000000            0.000000          12.100000   \n",
       "4                    0.000000            0.000000          13.360000   \n",
       "...                       ...                 ...                ...   \n",
       "643685               0.000000            0.000000           0.612903   \n",
       "643686               0.212121            0.212121          17.363636   \n",
       "643687               0.294118            0.205882          34.705882   \n",
       "643688               0.000000            0.000000           0.000000   \n",
       "643689               0.666667            0.000000           0.000000   \n",
       "\n",
       "        LEH_tot_dur_byage  almp_tot_dur_byage  almp_aw_tot_dur_byage  \\\n",
       "0                0.000000            0.000000               0.000000   \n",
       "1                0.000000            0.000000               0.000000   \n",
       "2                0.000000            8.367347               0.000000   \n",
       "3                0.000000            9.400000               0.000000   \n",
       "4                0.000000           10.320000               0.000000   \n",
       "...                   ...                 ...                    ...   \n",
       "643685           0.000000            0.000000               0.000000   \n",
       "643686           0.000000            8.909091               0.000000   \n",
       "643687           0.000000           10.352941               1.705882   \n",
       "643688           0.525424            0.000000               0.000000   \n",
       "643689           8.950000            1.033333               0.083333   \n",
       "\n",
       "        se_tot_dur_byage  seeking1_tot_dur_byage  \n",
       "0               0.000000                0.000000  \n",
       "1               0.000000                0.000000  \n",
       "2               0.000000                9.836735  \n",
       "3               0.000000                9.960000  \n",
       "4               0.000000               10.280000  \n",
       "...                  ...                     ...  \n",
       "643685          0.000000                0.000000  \n",
       "643686          0.000000                7.121212  \n",
       "643687          1.705882               23.911765  \n",
       "643688          0.000000                0.000000  \n",
       "643689          0.083333                8.133333  \n",
       "\n",
       "[643690 rows x 164 columns]"
      ]
     },
     "execution_count": 10,
     "metadata": {},
     "output_type": "execute_result"
    }
   ],
   "source": [
    "siab"
   ]
  },
  {
   "cell_type": "markdown",
   "id": "1f87e805",
   "metadata": {
    "papermill": {
     "duration": 0.011736,
     "end_time": "2025-08-19T18:59:49.728633",
     "exception": false,
     "start_time": "2025-08-19T18:59:49.716897",
     "status": "completed"
    },
    "tags": []
   },
   "source": [
    "# Splitting Data and Setting Training Data Size"
   ]
  },
  {
   "cell_type": "code",
   "execution_count": 11,
   "id": "910ae358",
   "metadata": {
    "execution": {
     "iopub.execute_input": "2025-08-19T18:59:49.751773Z",
     "iopub.status.busy": "2025-08-19T18:59:49.750215Z",
     "iopub.status.idle": "2025-08-19T18:59:50.368579Z",
     "shell.execute_reply": "2025-08-19T18:59:50.367698Z"
    },
    "papermill": {
     "duration": 0.631751,
     "end_time": "2025-08-19T18:59:50.370150",
     "exception": false,
     "start_time": "2025-08-19T18:59:49.738399",
     "status": "completed"
    },
    "tags": []
   },
   "outputs": [],
   "source": [
    "from fairness_multiverse.universe import sample_by_year_size\n",
    "\n",
    "siab_train = sample_by_year_size(siab,\n",
    "                               training_year=universe[\"training_year\"],\n",
    "                               training_size=universe[\"training_size\"])"
   ]
  },
  {
   "cell_type": "code",
   "execution_count": 12,
   "id": "919c8ff5",
   "metadata": {
    "execution": {
     "iopub.execute_input": "2025-08-19T18:59:50.392397Z",
     "iopub.status.busy": "2025-08-19T18:59:50.391289Z",
     "iopub.status.idle": "2025-08-19T18:59:50.398801Z",
     "shell.execute_reply": "2025-08-19T18:59:50.397888Z"
    },
    "papermill": {
     "duration": 0.019737,
     "end_time": "2025-08-19T18:59:50.400117",
     "exception": false,
     "start_time": "2025-08-19T18:59:50.380380",
     "status": "completed"
    },
    "tags": []
   },
   "outputs": [
    {
     "data": {
      "text/plain": [
       "(1000, 164)"
      ]
     },
     "execution_count": 12,
     "metadata": {},
     "output_type": "execute_result"
    }
   ],
   "source": [
    "siab_train.shape"
   ]
  },
  {
   "cell_type": "code",
   "execution_count": 13,
   "id": "feb13bf4",
   "metadata": {
    "execution": {
     "iopub.execute_input": "2025-08-19T18:59:50.424542Z",
     "iopub.status.busy": "2025-08-19T18:59:50.423303Z",
     "iopub.status.idle": "2025-08-19T18:59:50.437777Z",
     "shell.execute_reply": "2025-08-19T18:59:50.436428Z"
    },
    "papermill": {
     "duration": 0.027452,
     "end_time": "2025-08-19T18:59:50.439451",
     "exception": false,
     "start_time": "2025-08-19T18:59:50.411999",
     "status": "completed"
    },
    "tags": []
   },
   "outputs": [
    {
     "data": {
      "text/plain": [
       "year\n",
       "2012    334\n",
       "2013    333\n",
       "2014    333\n",
       "dtype: int64"
      ]
     },
     "metadata": {},
     "output_type": "display_data"
    }
   ],
   "source": [
    "display(siab_train.groupby(\"year\").size())"
   ]
  },
  {
   "cell_type": "code",
   "execution_count": 14,
   "id": "0997782f",
   "metadata": {
    "execution": {
     "iopub.execute_input": "2025-08-19T18:59:50.469109Z",
     "iopub.status.busy": "2025-08-19T18:59:50.467536Z",
     "iopub.status.idle": "2025-08-19T18:59:50.742075Z",
     "shell.execute_reply": "2025-08-19T18:59:50.741210Z"
    },
    "papermill": {
     "duration": 0.288559,
     "end_time": "2025-08-19T18:59:50.743560",
     "exception": false,
     "start_time": "2025-08-19T18:59:50.455001",
     "status": "completed"
    },
    "tags": []
   },
   "outputs": [],
   "source": [
    "#siab_train = siab_s[siab_s.year < 2015]\n",
    "siab_calib = siab[siab.year == 2015]\n",
    "siab_test = siab[siab.year == 2016]"
   ]
  },
  {
   "cell_type": "code",
   "execution_count": 15,
   "id": "2c1e4012",
   "metadata": {
    "execution": {
     "iopub.execute_input": "2025-08-19T18:59:50.766076Z",
     "iopub.status.busy": "2025-08-19T18:59:50.765152Z",
     "iopub.status.idle": "2025-08-19T18:59:50.770604Z",
     "shell.execute_reply": "2025-08-19T18:59:50.769653Z"
    },
    "papermill": {
     "duration": 0.017961,
     "end_time": "2025-08-19T18:59:50.771941",
     "exception": false,
     "start_time": "2025-08-19T18:59:50.753980",
     "status": "completed"
    },
    "tags": []
   },
   "outputs": [],
   "source": [
    "#siab_calib.shape"
   ]
  },
  {
   "cell_type": "code",
   "execution_count": 16,
   "id": "f66b54ca",
   "metadata": {
    "execution": {
     "iopub.execute_input": "2025-08-19T18:59:50.810935Z",
     "iopub.status.busy": "2025-08-19T18:59:50.809721Z",
     "iopub.status.idle": "2025-08-19T18:59:50.816845Z",
     "shell.execute_reply": "2025-08-19T18:59:50.815519Z"
    },
    "papermill": {
     "duration": 0.021275,
     "end_time": "2025-08-19T18:59:50.818295",
     "exception": false,
     "start_time": "2025-08-19T18:59:50.797020",
     "status": "completed"
    },
    "tags": []
   },
   "outputs": [],
   "source": [
    "#siab_test.shape"
   ]
  },
  {
   "cell_type": "code",
   "execution_count": 17,
   "id": "27e4384d",
   "metadata": {
    "execution": {
     "iopub.execute_input": "2025-08-19T18:59:50.842599Z",
     "iopub.status.busy": "2025-08-19T18:59:50.841141Z",
     "iopub.status.idle": "2025-08-19T18:59:50.851753Z",
     "shell.execute_reply": "2025-08-19T18:59:50.850369Z"
    },
    "papermill": {
     "duration": 0.023876,
     "end_time": "2025-08-19T18:59:50.853262",
     "exception": false,
     "start_time": "2025-08-19T18:59:50.829386",
     "status": "completed"
    },
    "tags": []
   },
   "outputs": [],
   "source": [
    "X_train = siab_train.iloc[:,4:164]\n",
    "y_train = siab_train.iloc[:, [3]]"
   ]
  },
  {
   "cell_type": "code",
   "execution_count": 18,
   "id": "08ee8389",
   "metadata": {
    "execution": {
     "iopub.execute_input": "2025-08-19T18:59:50.892391Z",
     "iopub.status.busy": "2025-08-19T18:59:50.890811Z",
     "iopub.status.idle": "2025-08-19T18:59:50.945043Z",
     "shell.execute_reply": "2025-08-19T18:59:50.944178Z"
    },
    "papermill": {
     "duration": 0.080339,
     "end_time": "2025-08-19T18:59:50.947671",
     "exception": false,
     "start_time": "2025-08-19T18:59:50.867332",
     "status": "completed"
    },
    "tags": []
   },
   "outputs": [],
   "source": [
    "X_calib = siab_calib.iloc[:,4:164]\n",
    "y_calib = siab_calib.iloc[:, [3]]"
   ]
  },
  {
   "cell_type": "code",
   "execution_count": 19,
   "id": "b7ff42e0",
   "metadata": {
    "execution": {
     "iopub.execute_input": "2025-08-19T18:59:50.986726Z",
     "iopub.status.busy": "2025-08-19T18:59:50.984990Z",
     "iopub.status.idle": "2025-08-19T18:59:51.051919Z",
     "shell.execute_reply": "2025-08-19T18:59:51.050785Z"
    },
    "papermill": {
     "duration": 0.083764,
     "end_time": "2025-08-19T18:59:51.054780",
     "exception": false,
     "start_time": "2025-08-19T18:59:50.971016",
     "status": "completed"
    },
    "tags": []
   },
   "outputs": [],
   "source": [
    "X_test = siab_test.iloc[:,4:164]\n",
    "y_true = siab_test.iloc[:, [3]]"
   ]
  },
  {
   "cell_type": "code",
   "execution_count": 20,
   "id": "0275101e",
   "metadata": {
    "execution": {
     "iopub.execute_input": "2025-08-19T18:59:51.095167Z",
     "iopub.status.busy": "2025-08-19T18:59:51.093850Z",
     "iopub.status.idle": "2025-08-19T18:59:51.204970Z",
     "shell.execute_reply": "2025-08-19T18:59:51.204073Z"
    },
    "papermill": {
     "duration": 0.128361,
     "end_time": "2025-08-19T18:59:51.207878",
     "exception": false,
     "start_time": "2025-08-19T18:59:51.079517",
     "status": "completed"
    },
    "tags": []
   },
   "outputs": [],
   "source": [
    "# Auxiliary data needed downstream in the pipeline\n",
    "\n",
    "org_train = X_train.copy()\n",
    "org_test = X_test.copy()\n",
    "org_calib = X_calib.copy()"
   ]
  },
  {
   "cell_type": "markdown",
   "id": "b461e618",
   "metadata": {
    "papermill": {
     "duration": 0.012854,
     "end_time": "2025-08-19T18:59:51.246402",
     "exception": false,
     "start_time": "2025-08-19T18:59:51.233548",
     "status": "completed"
    },
    "tags": []
   },
   "source": [
    "# Preprocessing Data"
   ]
  },
  {
   "cell_type": "code",
   "execution_count": 21,
   "id": "78e74c4b",
   "metadata": {
    "execution": {
     "iopub.execute_input": "2025-08-19T18:59:51.269953Z",
     "iopub.status.busy": "2025-08-19T18:59:51.268415Z",
     "iopub.status.idle": "2025-08-19T18:59:51.278310Z",
     "shell.execute_reply": "2025-08-19T18:59:51.276854Z"
    },
    "papermill": {
     "duration": 0.023032,
     "end_time": "2025-08-19T18:59:51.279754",
     "exception": false,
     "start_time": "2025-08-19T18:59:51.256722",
     "status": "completed"
    },
    "tags": []
   },
   "outputs": [],
   "source": [
    "# EXCLUDE PROTECTED FEATURES\n",
    "# --------------------------\n",
    "\n",
    "excluded_features = universe[\"exclude_features\"].split(\"-\")\n",
    "excluded_features_dictionary = {\n",
    "    \"nationality\": [\"maxdeutsch1\", \"maxdeutsch.Missing.\"],\n",
    "    \"sex\": [\"frau1\"],\n",
    "    \"age\": [\"age\"],\n",
    "}"
   ]
  },
  {
   "cell_type": "code",
   "execution_count": 22,
   "id": "f8e63555",
   "metadata": {
    "execution": {
     "iopub.execute_input": "2025-08-19T18:59:51.305819Z",
     "iopub.status.busy": "2025-08-19T18:59:51.304585Z",
     "iopub.status.idle": "2025-08-19T18:59:51.351142Z",
     "shell.execute_reply": "2025-08-19T18:59:51.349267Z"
    },
    "papermill": {
     "duration": 0.061641,
     "end_time": "2025-08-19T18:59:51.354412",
     "exception": false,
     "start_time": "2025-08-19T18:59:51.292771",
     "status": "completed"
    },
    "tags": []
   },
   "outputs": [],
   "source": [
    "excluded_features_columns = [\n",
    "    excluded_features_dictionary[f] for f in excluded_features if len(f) > 0 and f != \"none\"\n",
    "]"
   ]
  },
  {
   "cell_type": "code",
   "execution_count": 23,
   "id": "da781f7c",
   "metadata": {
    "execution": {
     "iopub.execute_input": "2025-08-19T18:59:51.392818Z",
     "iopub.status.busy": "2025-08-19T18:59:51.391560Z",
     "iopub.status.idle": "2025-08-19T18:59:51.398831Z",
     "shell.execute_reply": "2025-08-19T18:59:51.397751Z"
    },
    "papermill": {
     "duration": 0.023239,
     "end_time": "2025-08-19T18:59:51.400165",
     "exception": false,
     "start_time": "2025-08-19T18:59:51.376926",
     "status": "completed"
    },
    "tags": []
   },
   "outputs": [],
   "source": [
    "from fairness_multiverse.universe import flatten_once\n",
    "\n",
    "excluded_features_columns = flatten_once(excluded_features_columns)"
   ]
  },
  {
   "cell_type": "code",
   "execution_count": 24,
   "id": "37fef0f0",
   "metadata": {
    "execution": {
     "iopub.execute_input": "2025-08-19T18:59:51.429553Z",
     "iopub.status.busy": "2025-08-19T18:59:51.428598Z",
     "iopub.status.idle": "2025-08-19T18:59:51.442182Z",
     "shell.execute_reply": "2025-08-19T18:59:51.441117Z"
    },
    "papermill": {
     "duration": 0.030332,
     "end_time": "2025-08-19T18:59:51.443582",
     "exception": false,
     "start_time": "2025-08-19T18:59:51.413250",
     "status": "completed"
    },
    "tags": []
   },
   "outputs": [
    {
     "name": "stdout",
     "output_type": "stream",
     "text": [
      "Dropping features: ['age']\n"
     ]
    }
   ],
   "source": [
    "if len(excluded_features_columns) > 0:\n",
    "    print(f\"Dropping features: {excluded_features_columns}\")\n",
    "    X_train.drop(excluded_features_columns, axis=1, inplace=True)"
   ]
  },
  {
   "cell_type": "code",
   "execution_count": 25,
   "id": "d029e3e9",
   "metadata": {
    "execution": {
     "iopub.execute_input": "2025-08-19T18:59:51.471581Z",
     "iopub.status.busy": "2025-08-19T18:59:51.469442Z",
     "iopub.status.idle": "2025-08-19T18:59:51.528103Z",
     "shell.execute_reply": "2025-08-19T18:59:51.527069Z"
    },
    "papermill": {
     "duration": 0.073479,
     "end_time": "2025-08-19T18:59:51.530726",
     "exception": false,
     "start_time": "2025-08-19T18:59:51.457247",
     "status": "completed"
    },
    "tags": []
   },
   "outputs": [
    {
     "name": "stdout",
     "output_type": "stream",
     "text": [
      "Dropping features: ['age']\n"
     ]
    }
   ],
   "source": [
    "if len(excluded_features_columns) > 0:\n",
    "    print(f\"Dropping features: {excluded_features_columns}\")\n",
    "    X_test.drop(excluded_features_columns, axis=1, inplace=True)"
   ]
  },
  {
   "cell_type": "code",
   "execution_count": 26,
   "id": "01d571f0",
   "metadata": {
    "execution": {
     "iopub.execute_input": "2025-08-19T18:59:51.572991Z",
     "iopub.status.busy": "2025-08-19T18:59:51.571394Z",
     "iopub.status.idle": "2025-08-19T18:59:51.627940Z",
     "shell.execute_reply": "2025-08-19T18:59:51.627023Z"
    },
    "papermill": {
     "duration": 0.075452,
     "end_time": "2025-08-19T18:59:51.631432",
     "exception": false,
     "start_time": "2025-08-19T18:59:51.555980",
     "status": "completed"
    },
    "tags": []
   },
   "outputs": [
    {
     "name": "stdout",
     "output_type": "stream",
     "text": [
      "Dropping features: ['age']\n"
     ]
    }
   ],
   "source": [
    "if len(excluded_features_columns) > 0:\n",
    "    print(f\"Dropping features: {excluded_features_columns}\")\n",
    "    X_calib.drop(excluded_features_columns, axis=1, inplace=True)"
   ]
  },
  {
   "cell_type": "code",
   "execution_count": 27,
   "id": "3037356e",
   "metadata": {
    "execution": {
     "iopub.execute_input": "2025-08-19T18:59:51.669725Z",
     "iopub.status.busy": "2025-08-19T18:59:51.668399Z",
     "iopub.status.idle": "2025-08-19T18:59:51.685019Z",
     "shell.execute_reply": "2025-08-19T18:59:51.683166Z"
    },
    "papermill": {
     "duration": 0.031933,
     "end_time": "2025-08-19T18:59:51.686701",
     "exception": false,
     "start_time": "2025-08-19T18:59:51.654768",
     "status": "completed"
    },
    "tags": []
   },
   "outputs": [],
   "source": [
    "# EXCLUDE CERTAIN SUBGROUPS\n",
    "# -------------------------\n",
    "\n",
    "mode = universe.get(\"exclude_subgroups\", \"keep-all\") # Defaults to \"keep-all\" if the key is missing."
   ]
  },
  {
   "cell_type": "code",
   "execution_count": 28,
   "id": "9d1e63fd",
   "metadata": {
    "execution": {
     "iopub.execute_input": "2025-08-19T18:59:51.725901Z",
     "iopub.status.busy": "2025-08-19T18:59:51.723000Z",
     "iopub.status.idle": "2025-08-19T18:59:51.736739Z",
     "shell.execute_reply": "2025-08-19T18:59:51.735728Z"
    },
    "papermill": {
     "duration": 0.034969,
     "end_time": "2025-08-19T18:59:51.738638",
     "exception": false,
     "start_time": "2025-08-19T18:59:51.703669",
     "status": "completed"
    },
    "tags": []
   },
   "outputs": [],
   "source": [
    "if mode == \"keep-all\":\n",
    "    keep_mask = pd.Series(True, index=org_train.index)\n",
    "\n",
    "elif mode == \"drop-non-german\":\n",
    "    keep_mask = (org_train[\"maxdeutsch1\"] == 1) & (org_train[\"maxdeutsch.Missing.\"] == 0)\n",
    "\n",
    "else:\n",
    "    raise ValueError(f\"Unsupported mode for exclude_subgroups: {mode}\")"
   ]
  },
  {
   "cell_type": "code",
   "execution_count": 29,
   "id": "d3b65474",
   "metadata": {
    "execution": {
     "iopub.execute_input": "2025-08-19T18:59:51.769594Z",
     "iopub.status.busy": "2025-08-19T18:59:51.768344Z",
     "iopub.status.idle": "2025-08-19T18:59:51.779797Z",
     "shell.execute_reply": "2025-08-19T18:59:51.778476Z"
    },
    "papermill": {
     "duration": 0.025908,
     "end_time": "2025-08-19T18:59:51.781598",
     "exception": false,
     "start_time": "2025-08-19T18:59:51.755690",
     "status": "completed"
    },
    "tags": []
   },
   "outputs": [],
   "source": [
    "n_drop = (~keep_mask).sum() # Calculates how many rows are set to be dropped\n",
    "if n_drop > 0:\n",
    "    pct = n_drop / len(keep_mask) * 100\n",
    "    print(f\"Dropping {n_drop} rows ({pct:.2f}%) where mode='{mode}'\")"
   ]
  },
  {
   "cell_type": "code",
   "execution_count": 30,
   "id": "f44389b3",
   "metadata": {
    "execution": {
     "iopub.execute_input": "2025-08-19T18:59:51.811343Z",
     "iopub.status.busy": "2025-08-19T18:59:51.809795Z",
     "iopub.status.idle": "2025-08-19T18:59:51.821315Z",
     "shell.execute_reply": "2025-08-19T18:59:51.819606Z"
    },
    "papermill": {
     "duration": 0.025941,
     "end_time": "2025-08-19T18:59:51.823155",
     "exception": false,
     "start_time": "2025-08-19T18:59:51.797214",
     "status": "completed"
    },
    "tags": []
   },
   "outputs": [],
   "source": [
    "X_train = X_train[keep_mask]"
   ]
  },
  {
   "cell_type": "code",
   "execution_count": 31,
   "id": "ceca8c2a",
   "metadata": {
    "execution": {
     "iopub.execute_input": "2025-08-19T18:59:51.855572Z",
     "iopub.status.busy": "2025-08-19T18:59:51.853919Z",
     "iopub.status.idle": "2025-08-19T18:59:51.863979Z",
     "shell.execute_reply": "2025-08-19T18:59:51.862545Z"
    },
    "papermill": {
     "duration": 0.025228,
     "end_time": "2025-08-19T18:59:51.865383",
     "exception": false,
     "start_time": "2025-08-19T18:59:51.840155",
     "status": "completed"
    },
    "tags": []
   },
   "outputs": [],
   "source": [
    "y_train = y_train[keep_mask]"
   ]
  },
  {
   "cell_type": "markdown",
   "id": "04d31e2f",
   "metadata": {
    "papermill": {
     "duration": 0.010563,
     "end_time": "2025-08-19T18:59:51.889299",
     "exception": false,
     "start_time": "2025-08-19T18:59:51.878736",
     "status": "completed"
    },
    "tags": []
   },
   "source": [
    "# Model Training"
   ]
  },
  {
   "cell_type": "code",
   "execution_count": 32,
   "id": "db991733",
   "metadata": {
    "execution": {
     "iopub.execute_input": "2025-08-19T18:59:51.913588Z",
     "iopub.status.busy": "2025-08-19T18:59:51.912038Z",
     "iopub.status.idle": "2025-08-19T18:59:52.022595Z",
     "shell.execute_reply": "2025-08-19T18:59:52.021699Z"
    },
    "papermill": {
     "duration": 0.12564,
     "end_time": "2025-08-19T18:59:52.025416",
     "exception": false,
     "start_time": "2025-08-19T18:59:51.899776",
     "status": "completed"
    },
    "tags": []
   },
   "outputs": [],
   "source": [
    "from sklearn.linear_model import LogisticRegression\n",
    "from sklearn.ensemble import GradientBoostingClassifier, RandomForestClassifier\n",
    "\n",
    "if (universe[\"model\"] == \"logreg\"):\n",
    "    model = LogisticRegression() #penalty=\"none\", solver=\"newton-cg\", max_iter=1)\n",
    "elif (universe[\"model\"] == \"penalized_logreg\"):\n",
    "    model = LogisticRegression(penalty=\"l2\", C=0.1) #, solver=\"newton-cg\", max_iter=1)\n",
    "elif (universe[\"model\"] == \"rf\"):\n",
    "    model = RandomForestClassifier() # n_estimators=100, n_jobs=-1\n",
    "elif (universe[\"model\"] == \"gbm\"):\n",
    "    model = GradientBoostingClassifier()\n",
    "elif (universe[\"model\"] == \"elasticnet\"):\n",
    "    model = LogisticRegression(penalty = 'elasticnet', solver = 'saga', l1_ratio = 0.5) # max_iter=5000\n",
    "else:\n",
    "    raise \"Unsupported universe.model\""
   ]
  },
  {
   "cell_type": "code",
   "execution_count": 33,
   "id": "a4b5cd25",
   "metadata": {
    "execution": {
     "iopub.execute_input": "2025-08-19T18:59:52.067830Z",
     "iopub.status.busy": "2025-08-19T18:59:52.066203Z",
     "iopub.status.idle": "2025-08-19T18:59:52.076734Z",
     "shell.execute_reply": "2025-08-19T18:59:52.075401Z"
    },
    "papermill": {
     "duration": 0.026658,
     "end_time": "2025-08-19T18:59:52.078238",
     "exception": false,
     "start_time": "2025-08-19T18:59:52.051580",
     "status": "completed"
    },
    "tags": []
   },
   "outputs": [],
   "source": [
    "from sklearn.pipeline import Pipeline\n",
    "from sklearn.preprocessing import StandardScaler\n",
    "\n",
    "model = Pipeline([\n",
    "    #(\"continuous_processor\", continuous_processor),\n",
    "    #(\"categorical_preprocessor\", categorical_preprocessor),\n",
    "    (\"scale\", StandardScaler() if universe[\"scale\"] == \"scale\" else None), \n",
    "    (\"model\", model),\n",
    "])"
   ]
  },
  {
   "cell_type": "code",
   "execution_count": 34,
   "id": "283a904d",
   "metadata": {
    "execution": {
     "iopub.execute_input": "2025-08-19T18:59:52.105655Z",
     "iopub.status.busy": "2025-08-19T18:59:52.104087Z",
     "iopub.status.idle": "2025-08-19T18:59:53.037164Z",
     "shell.execute_reply": "2025-08-19T18:59:53.036304Z"
    },
    "papermill": {
     "duration": 0.950222,
     "end_time": "2025-08-19T18:59:53.041966",
     "exception": false,
     "start_time": "2025-08-19T18:59:52.091744",
     "status": "completed"
    },
    "tags": []
   },
   "outputs": [
    {
     "data": {
      "text/html": [
       "<style>#sk-container-id-1 {color: black;background-color: white;}#sk-container-id-1 pre{padding: 0;}#sk-container-id-1 div.sk-toggleable {background-color: white;}#sk-container-id-1 label.sk-toggleable__label {cursor: pointer;display: block;width: 100%;margin-bottom: 0;padding: 0.3em;box-sizing: border-box;text-align: center;}#sk-container-id-1 label.sk-toggleable__label-arrow:before {content: \"▸\";float: left;margin-right: 0.25em;color: #696969;}#sk-container-id-1 label.sk-toggleable__label-arrow:hover:before {color: black;}#sk-container-id-1 div.sk-estimator:hover label.sk-toggleable__label-arrow:before {color: black;}#sk-container-id-1 div.sk-toggleable__content {max-height: 0;max-width: 0;overflow: hidden;text-align: left;background-color: #f0f8ff;}#sk-container-id-1 div.sk-toggleable__content pre {margin: 0.2em;color: black;border-radius: 0.25em;background-color: #f0f8ff;}#sk-container-id-1 input.sk-toggleable__control:checked~div.sk-toggleable__content {max-height: 200px;max-width: 100%;overflow: auto;}#sk-container-id-1 input.sk-toggleable__control:checked~label.sk-toggleable__label-arrow:before {content: \"▾\";}#sk-container-id-1 div.sk-estimator input.sk-toggleable__control:checked~label.sk-toggleable__label {background-color: #d4ebff;}#sk-container-id-1 div.sk-label input.sk-toggleable__control:checked~label.sk-toggleable__label {background-color: #d4ebff;}#sk-container-id-1 input.sk-hidden--visually {border: 0;clip: rect(1px 1px 1px 1px);clip: rect(1px, 1px, 1px, 1px);height: 1px;margin: -1px;overflow: hidden;padding: 0;position: absolute;width: 1px;}#sk-container-id-1 div.sk-estimator {font-family: monospace;background-color: #f0f8ff;border: 1px dotted black;border-radius: 0.25em;box-sizing: border-box;margin-bottom: 0.5em;}#sk-container-id-1 div.sk-estimator:hover {background-color: #d4ebff;}#sk-container-id-1 div.sk-parallel-item::after {content: \"\";width: 100%;border-bottom: 1px solid gray;flex-grow: 1;}#sk-container-id-1 div.sk-label:hover label.sk-toggleable__label {background-color: #d4ebff;}#sk-container-id-1 div.sk-serial::before {content: \"\";position: absolute;border-left: 1px solid gray;box-sizing: border-box;top: 0;bottom: 0;left: 50%;z-index: 0;}#sk-container-id-1 div.sk-serial {display: flex;flex-direction: column;align-items: center;background-color: white;padding-right: 0.2em;padding-left: 0.2em;position: relative;}#sk-container-id-1 div.sk-item {position: relative;z-index: 1;}#sk-container-id-1 div.sk-parallel {display: flex;align-items: stretch;justify-content: center;background-color: white;position: relative;}#sk-container-id-1 div.sk-item::before, #sk-container-id-1 div.sk-parallel-item::before {content: \"\";position: absolute;border-left: 1px solid gray;box-sizing: border-box;top: 0;bottom: 0;left: 50%;z-index: -1;}#sk-container-id-1 div.sk-parallel-item {display: flex;flex-direction: column;z-index: 1;position: relative;background-color: white;}#sk-container-id-1 div.sk-parallel-item:first-child::after {align-self: flex-end;width: 50%;}#sk-container-id-1 div.sk-parallel-item:last-child::after {align-self: flex-start;width: 50%;}#sk-container-id-1 div.sk-parallel-item:only-child::after {width: 0;}#sk-container-id-1 div.sk-dashed-wrapped {border: 1px dashed gray;margin: 0 0.4em 0.5em 0.4em;box-sizing: border-box;padding-bottom: 0.4em;background-color: white;}#sk-container-id-1 div.sk-label label {font-family: monospace;font-weight: bold;display: inline-block;line-height: 1.2em;}#sk-container-id-1 div.sk-label-container {text-align: center;}#sk-container-id-1 div.sk-container {/* jupyter's `normalize.less` sets `[hidden] { display: none; }` but bootstrap.min.css set `[hidden] { display: none !important; }` so we also need the `!important` here to be able to override the default hidden behavior on the sphinx rendered scikit-learn.org. See: https://github.com/scikit-learn/scikit-learn/issues/21755 */display: inline-block !important;position: relative;}#sk-container-id-1 div.sk-text-repr-fallback {display: none;}</style><div id=\"sk-container-id-1\" class=\"sk-top-container\"><div class=\"sk-text-repr-fallback\"><pre>Pipeline(steps=[(&#x27;scale&#x27;, StandardScaler()),\n",
       "                (&#x27;model&#x27;, GradientBoostingClassifier())])</pre><b>In a Jupyter environment, please rerun this cell to show the HTML representation or trust the notebook. <br />On GitHub, the HTML representation is unable to render, please try loading this page with nbviewer.org.</b></div><div class=\"sk-container\" hidden><div class=\"sk-item sk-dashed-wrapped\"><div class=\"sk-label-container\"><div class=\"sk-label sk-toggleable\"><input class=\"sk-toggleable__control sk-hidden--visually\" id=\"sk-estimator-id-1\" type=\"checkbox\" ><label for=\"sk-estimator-id-1\" class=\"sk-toggleable__label sk-toggleable__label-arrow\">Pipeline</label><div class=\"sk-toggleable__content\"><pre>Pipeline(steps=[(&#x27;scale&#x27;, StandardScaler()),\n",
       "                (&#x27;model&#x27;, GradientBoostingClassifier())])</pre></div></div></div><div class=\"sk-serial\"><div class=\"sk-item\"><div class=\"sk-estimator sk-toggleable\"><input class=\"sk-toggleable__control sk-hidden--visually\" id=\"sk-estimator-id-2\" type=\"checkbox\" ><label for=\"sk-estimator-id-2\" class=\"sk-toggleable__label sk-toggleable__label-arrow\">StandardScaler</label><div class=\"sk-toggleable__content\"><pre>StandardScaler()</pre></div></div></div><div class=\"sk-item\"><div class=\"sk-estimator sk-toggleable\"><input class=\"sk-toggleable__control sk-hidden--visually\" id=\"sk-estimator-id-3\" type=\"checkbox\" ><label for=\"sk-estimator-id-3\" class=\"sk-toggleable__label sk-toggleable__label-arrow\">GradientBoostingClassifier</label><div class=\"sk-toggleable__content\"><pre>GradientBoostingClassifier()</pre></div></div></div></div></div></div></div>"
      ],
      "text/plain": [
       "Pipeline(steps=[('scale', StandardScaler()),\n",
       "                ('model', GradientBoostingClassifier())])"
      ]
     },
     "execution_count": 34,
     "metadata": {},
     "output_type": "execute_result"
    }
   ],
   "source": [
    "model.fit(X_train, y_train.values.ravel())"
   ]
  },
  {
   "cell_type": "code",
   "execution_count": 35,
   "id": "6e15e313",
   "metadata": {
    "execution": {
     "iopub.execute_input": "2025-08-19T18:59:53.105415Z",
     "iopub.status.busy": "2025-08-19T18:59:53.103394Z",
     "iopub.status.idle": "2025-08-19T18:59:53.700315Z",
     "shell.execute_reply": "2025-08-19T18:59:53.699534Z"
    },
    "papermill": {
     "duration": 0.638911,
     "end_time": "2025-08-19T18:59:53.704086",
     "exception": false,
     "start_time": "2025-08-19T18:59:53.065175",
     "status": "completed"
    },
    "tags": []
   },
   "outputs": [
    {
     "data": {
      "text/plain": [
       "0.8399621001003232"
      ]
     },
     "execution_count": 35,
     "metadata": {},
     "output_type": "execute_result"
    }
   ],
   "source": [
    "from fairness_multiverse.universe import predict_w_threshold\n",
    "\n",
    "probs_test = model.predict_proba(X_test)\n",
    "\n",
    "'''\n",
    "Below code returns a boolean array (or binary 0/1 array depending on how it’s used) where each element \n",
    "is True if the probability of class 1 is greater than or equal to the threshold, and False otherwise.\n",
    "'''\n",
    "y_pred_default = predict_w_threshold(probs_test, 0.5)\n",
    "\n",
    "from sklearn.metrics import accuracy_score\n",
    "\n",
    "# Naive prediction\n",
    "accuracy_score(y_true = y_true, y_pred = y_pred_default)"
   ]
  },
  {
   "cell_type": "code",
   "execution_count": 36,
   "id": "6f14067c",
   "metadata": {
    "execution": {
     "iopub.execute_input": "2025-08-19T18:59:53.744072Z",
     "iopub.status.busy": "2025-08-19T18:59:53.742814Z",
     "iopub.status.idle": "2025-08-19T18:59:54.365938Z",
     "shell.execute_reply": "2025-08-19T18:59:54.365090Z"
    },
    "papermill": {
     "duration": 0.638944,
     "end_time": "2025-08-19T18:59:54.367611",
     "exception": false,
     "start_time": "2025-08-19T18:59:53.728667",
     "status": "completed"
    },
    "tags": []
   },
   "outputs": [
    {
     "data": {
      "text/plain": [
       "array([0, 0, 0, ..., 0, 0, 0])"
      ]
     },
     "execution_count": 36,
     "metadata": {},
     "output_type": "execute_result"
    }
   ],
   "source": [
    "model.predict(X_test)"
   ]
  },
  {
   "cell_type": "markdown",
   "id": "3759920c",
   "metadata": {
    "papermill": {
     "duration": 0.011055,
     "end_time": "2025-08-19T18:59:54.394868",
     "exception": false,
     "start_time": "2025-08-19T18:59:54.383813",
     "status": "completed"
    },
    "tags": []
   },
   "source": [
    "# Conformal Prediction"
   ]
  },
  {
   "cell_type": "code",
   "execution_count": 37,
   "id": "14b27f59",
   "metadata": {
    "execution": {
     "iopub.execute_input": "2025-08-19T18:59:54.423244Z",
     "iopub.status.busy": "2025-08-19T18:59:54.421835Z",
     "iopub.status.idle": "2025-08-19T18:59:54.429463Z",
     "shell.execute_reply": "2025-08-19T18:59:54.428148Z"
    },
    "papermill": {
     "duration": 0.025266,
     "end_time": "2025-08-19T18:59:54.431001",
     "exception": false,
     "start_time": "2025-08-19T18:59:54.405735",
     "status": "completed"
    },
    "tags": []
   },
   "outputs": [],
   "source": [
    "# Miscoverage level for conformal prediction (10% allowed error rate => 90% target coverage)\n",
    "alpha = 0.1"
   ]
  },
  {
   "cell_type": "code",
   "execution_count": 38,
   "id": "59102472",
   "metadata": {
    "execution": {
     "iopub.execute_input": "2025-08-19T18:59:54.461859Z",
     "iopub.status.busy": "2025-08-19T18:59:54.460858Z",
     "iopub.status.idle": "2025-08-19T18:59:55.017358Z",
     "shell.execute_reply": "2025-08-19T18:59:55.016406Z"
    },
    "papermill": {
     "duration": 0.576977,
     "end_time": "2025-08-19T18:59:55.020874",
     "exception": false,
     "start_time": "2025-08-19T18:59:54.443897",
     "status": "completed"
    },
    "tags": []
   },
   "outputs": [],
   "source": [
    "probs_calib = model.predict_proba(X_calib)"
   ]
  },
  {
   "cell_type": "code",
   "execution_count": 39,
   "id": "a792d4dd",
   "metadata": {
    "execution": {
     "iopub.execute_input": "2025-08-19T18:59:55.062958Z",
     "iopub.status.busy": "2025-08-19T18:59:55.061538Z",
     "iopub.status.idle": "2025-08-19T18:59:55.070667Z",
     "shell.execute_reply": "2025-08-19T18:59:55.069510Z"
    },
    "papermill": {
     "duration": 0.026318,
     "end_time": "2025-08-19T18:59:55.072672",
     "exception": false,
     "start_time": "2025-08-19T18:59:55.046354",
     "status": "completed"
    },
    "tags": []
   },
   "outputs": [],
   "source": [
    "y_calib = y_calib.values.ravel().astype(int)"
   ]
  },
  {
   "cell_type": "code",
   "execution_count": 40,
   "id": "650fd033",
   "metadata": {
    "execution": {
     "iopub.execute_input": "2025-08-19T18:59:55.103393Z",
     "iopub.status.busy": "2025-08-19T18:59:55.102648Z",
     "iopub.status.idle": "2025-08-19T18:59:55.114310Z",
     "shell.execute_reply": "2025-08-19T18:59:55.113032Z"
    },
    "papermill": {
     "duration": 0.02817,
     "end_time": "2025-08-19T18:59:55.116337",
     "exception": false,
     "start_time": "2025-08-19T18:59:55.088167",
     "status": "completed"
    },
    "tags": []
   },
   "outputs": [],
   "source": [
    "from fairness_multiverse.conformal import compute_nc_scores\n",
    "\n",
    "# Compute nonconformity scores on calibration set (1 - probability of true class)\n",
    "nc_scores = compute_nc_scores(probs_calib, y_calib)"
   ]
  },
  {
   "cell_type": "code",
   "execution_count": 41,
   "id": "28ada44c",
   "metadata": {
    "execution": {
     "iopub.execute_input": "2025-08-19T18:59:55.147936Z",
     "iopub.status.busy": "2025-08-19T18:59:55.146759Z",
     "iopub.status.idle": "2025-08-19T18:59:55.157749Z",
     "shell.execute_reply": "2025-08-19T18:59:55.156580Z"
    },
    "papermill": {
     "duration": 0.026465,
     "end_time": "2025-08-19T18:59:55.159351",
     "exception": false,
     "start_time": "2025-08-19T18:59:55.132886",
     "status": "completed"
    },
    "tags": []
   },
   "outputs": [],
   "source": [
    "from fairness_multiverse.conformal import find_threshold\n",
    "\n",
    "# Find conformal threshold q_hat for the given alpha (split conformal method)\n",
    "q_hat = find_threshold(nc_scores, alpha)"
   ]
  },
  {
   "cell_type": "code",
   "execution_count": 42,
   "id": "df56469e",
   "metadata": {
    "execution": {
     "iopub.execute_input": "2025-08-19T18:59:55.186946Z",
     "iopub.status.busy": "2025-08-19T18:59:55.186601Z",
     "iopub.status.idle": "2025-08-19T18:59:55.197167Z",
     "shell.execute_reply": "2025-08-19T18:59:55.196460Z"
    },
    "papermill": {
     "duration": 0.02455,
     "end_time": "2025-08-19T18:59:55.198528",
     "exception": false,
     "start_time": "2025-08-19T18:59:55.173978",
     "status": "completed"
    },
    "tags": []
   },
   "outputs": [
    {
     "data": {
      "text/plain": [
       "0.768698679646418"
      ]
     },
     "execution_count": 42,
     "metadata": {},
     "output_type": "execute_result"
    }
   ],
   "source": [
    "q_hat"
   ]
  },
  {
   "cell_type": "code",
   "execution_count": 43,
   "id": "aa1f5faa",
   "metadata": {
    "execution": {
     "iopub.execute_input": "2025-08-19T18:59:55.223870Z",
     "iopub.status.busy": "2025-08-19T18:59:55.223426Z",
     "iopub.status.idle": "2025-08-19T18:59:56.258214Z",
     "shell.execute_reply": "2025-08-19T18:59:56.255964Z"
    },
    "papermill": {
     "duration": 1.04946,
     "end_time": "2025-08-19T18:59:56.260289",
     "exception": false,
     "start_time": "2025-08-19T18:59:55.210829",
     "status": "completed"
    },
    "tags": []
   },
   "outputs": [],
   "source": [
    "from fairness_multiverse.conformal import predict_conformal_sets\n",
    "\n",
    "# Generate prediction sets for each test example\n",
    "pred_sets = predict_conformal_sets(model, X_test, q_hat)"
   ]
  },
  {
   "cell_type": "code",
   "execution_count": 44,
   "id": "97f67a6b",
   "metadata": {
    "execution": {
     "iopub.execute_input": "2025-08-19T18:59:56.287325Z",
     "iopub.status.busy": "2025-08-19T18:59:56.286832Z",
     "iopub.status.idle": "2025-08-19T18:59:56.291645Z",
     "shell.execute_reply": "2025-08-19T18:59:56.290953Z"
    },
    "papermill": {
     "duration": 0.018476,
     "end_time": "2025-08-19T18:59:56.293018",
     "exception": false,
     "start_time": "2025-08-19T18:59:56.274542",
     "status": "completed"
    },
    "tags": []
   },
   "outputs": [],
   "source": [
    "y_true = y_true.squeeze()"
   ]
  },
  {
   "cell_type": "code",
   "execution_count": 45,
   "id": "e700e9a7",
   "metadata": {
    "execution": {
     "iopub.execute_input": "2025-08-19T18:59:56.320843Z",
     "iopub.status.busy": "2025-08-19T18:59:56.320552Z",
     "iopub.status.idle": "2025-08-19T18:59:56.821682Z",
     "shell.execute_reply": "2025-08-19T18:59:56.820534Z"
    },
    "papermill": {
     "duration": 0.518517,
     "end_time": "2025-08-19T18:59:56.823461",
     "exception": false,
     "start_time": "2025-08-19T18:59:56.304944",
     "status": "completed"
    },
    "tags": []
   },
   "outputs": [],
   "source": [
    "from fairness_multiverse.conformal import evaluate_sets\n",
    "\n",
    "# Evaluate coverage and average set size on test data\n",
    "metrics = evaluate_sets(pred_sets, y_true)"
   ]
  },
  {
   "cell_type": "markdown",
   "id": "efbacec0",
   "metadata": {
    "papermill": {
     "duration": 0.012014,
     "end_time": "2025-08-19T18:59:56.848375",
     "exception": false,
     "start_time": "2025-08-19T18:59:56.836361",
     "status": "completed"
    },
    "tags": []
   },
   "source": [
    "# CP Metrics"
   ]
  },
  {
   "cell_type": "code",
   "execution_count": 46,
   "id": "9de55fb1",
   "metadata": {
    "execution": {
     "iopub.execute_input": "2025-08-19T18:59:56.884120Z",
     "iopub.status.busy": "2025-08-19T18:59:56.882622Z",
     "iopub.status.idle": "2025-08-19T18:59:56.896508Z",
     "shell.execute_reply": "2025-08-19T18:59:56.895111Z"
    },
    "papermill": {
     "duration": 0.030142,
     "end_time": "2025-08-19T18:59:56.898896",
     "exception": false,
     "start_time": "2025-08-19T18:59:56.868754",
     "status": "completed"
    },
    "tags": []
   },
   "outputs": [
    {
     "data": {
      "text/plain": [
       "{'coverage': 0.910366737264519, 'avg_size': 1.1800579645524467}"
      ]
     },
     "execution_count": 46,
     "metadata": {},
     "output_type": "execute_result"
    }
   ],
   "source": [
    "metrics"
   ]
  },
  {
   "cell_type": "code",
   "execution_count": 47,
   "id": "64c340a1",
   "metadata": {
    "execution": {
     "iopub.execute_input": "2025-08-19T18:59:56.927108Z",
     "iopub.status.busy": "2025-08-19T18:59:56.925934Z",
     "iopub.status.idle": "2025-08-19T18:59:56.939812Z",
     "shell.execute_reply": "2025-08-19T18:59:56.938716Z"
    },
    "papermill": {
     "duration": 0.029895,
     "end_time": "2025-08-19T18:59:56.941586",
     "exception": false,
     "start_time": "2025-08-19T18:59:56.911691",
     "status": "completed"
    },
    "tags": []
   },
   "outputs": [],
   "source": [
    "example_universe = universe.copy()\n",
    "universe_training_year = example_universe.get(\"training_year\")\n",
    "universe_training_size = example_universe.get(\"training_size\")\n",
    "universe_scale = example_universe.get(\"scale\")\n",
    "universe_model = example_universe.get(\"model\")\n",
    "universe_exclude_features = example_universe.get(\"exclude_features\")\n",
    "universe_exclude_subgroups = example_universe.get(\"exclude_subgroups\")"
   ]
  },
  {
   "cell_type": "code",
   "execution_count": 48,
   "id": "dbb53cb4",
   "metadata": {
    "execution": {
     "iopub.execute_input": "2025-08-19T18:59:56.974626Z",
     "iopub.status.busy": "2025-08-19T18:59:56.972396Z",
     "iopub.status.idle": "2025-08-19T18:59:56.982939Z",
     "shell.execute_reply": "2025-08-19T18:59:56.981798Z"
    },
    "papermill": {
     "duration": 0.025864,
     "end_time": "2025-08-19T18:59:56.984532",
     "exception": false,
     "start_time": "2025-08-19T18:59:56.958668",
     "status": "completed"
    },
    "tags": []
   },
   "outputs": [],
   "source": [
    "cp_metrics_dict = {\n",
    "    \"universe_id\": [universe_id],\n",
    "    \"universe_training_year\": [universe_training_year],\n",
    "    \"universe_training_size\": [universe_training_size],\n",
    "    \"universe_scale\": [universe_scale],\n",
    "    \"universe_model\": [universe_model],\n",
    "    \"universe_exclude_features\": [universe_exclude_features],\n",
    "    \"universe_exclude_subgroups\": [universe_exclude_subgroups],\n",
    "    \"q_hat\": [q_hat],\n",
    "    \"coverage\": [metrics[\"coverage\"]],\n",
    "    \"avg_size\": [metrics[\"avg_size\"]],\n",
    "}"
   ]
  },
  {
   "cell_type": "code",
   "execution_count": 49,
   "id": "0d70d4b2",
   "metadata": {
    "execution": {
     "iopub.execute_input": "2025-08-19T18:59:57.015315Z",
     "iopub.status.busy": "2025-08-19T18:59:57.014590Z",
     "iopub.status.idle": "2025-08-19T18:59:57.184527Z",
     "shell.execute_reply": "2025-08-19T18:59:57.183171Z"
    },
    "papermill": {
     "duration": 0.187601,
     "end_time": "2025-08-19T18:59:57.188454",
     "exception": false,
     "start_time": "2025-08-19T18:59:57.000853",
     "status": "completed"
    },
    "tags": []
   },
   "outputs": [],
   "source": [
    "cp_metrics_df = pd.DataFrame(cp_metrics_dict)"
   ]
  },
  {
   "cell_type": "code",
   "execution_count": 50,
   "id": "b494403c",
   "metadata": {
    "execution": {
     "iopub.execute_input": "2025-08-19T18:59:57.225692Z",
     "iopub.status.busy": "2025-08-19T18:59:57.224897Z",
     "iopub.status.idle": "2025-08-19T18:59:57.241983Z",
     "shell.execute_reply": "2025-08-19T18:59:57.241164Z"
    },
    "papermill": {
     "duration": 0.03412,
     "end_time": "2025-08-19T18:59:57.244621",
     "exception": false,
     "start_time": "2025-08-19T18:59:57.210501",
     "status": "completed"
    },
    "tags": []
   },
   "outputs": [
    {
     "data": {
      "text/html": [
       "<div>\n",
       "<style scoped>\n",
       "    .dataframe tbody tr th:only-of-type {\n",
       "        vertical-align: middle;\n",
       "    }\n",
       "\n",
       "    .dataframe tbody tr th {\n",
       "        vertical-align: top;\n",
       "    }\n",
       "\n",
       "    .dataframe thead th {\n",
       "        text-align: right;\n",
       "    }\n",
       "</style>\n",
       "<table border=\"1\" class=\"dataframe\">\n",
       "  <thead>\n",
       "    <tr style=\"text-align: right;\">\n",
       "      <th></th>\n",
       "      <th>universe_id</th>\n",
       "      <th>universe_training_year</th>\n",
       "      <th>universe_training_size</th>\n",
       "      <th>universe_scale</th>\n",
       "      <th>universe_model</th>\n",
       "      <th>universe_exclude_features</th>\n",
       "      <th>universe_exclude_subgroups</th>\n",
       "      <th>q_hat</th>\n",
       "      <th>coverage</th>\n",
       "      <th>avg_size</th>\n",
       "    </tr>\n",
       "  </thead>\n",
       "  <tbody>\n",
       "    <tr>\n",
       "      <th>0</th>\n",
       "      <td>377de54de371e29e34e6abc0debce5da</td>\n",
       "      <td>2012_14</td>\n",
       "      <td>1k</td>\n",
       "      <td>scale</td>\n",
       "      <td>gbm</td>\n",
       "      <td>age</td>\n",
       "      <td>keep-all</td>\n",
       "      <td>0.768699</td>\n",
       "      <td>0.910367</td>\n",
       "      <td>1.180058</td>\n",
       "    </tr>\n",
       "  </tbody>\n",
       "</table>\n",
       "</div>"
      ],
      "text/plain": [
       "                        universe_id universe_training_year  \\\n",
       "0  377de54de371e29e34e6abc0debce5da                2012_14   \n",
       "\n",
       "  universe_training_size universe_scale universe_model  \\\n",
       "0                     1k          scale            gbm   \n",
       "\n",
       "  universe_exclude_features universe_exclude_subgroups     q_hat  coverage  \\\n",
       "0                       age                   keep-all  0.768699  0.910367   \n",
       "\n",
       "   avg_size  \n",
       "0  1.180058  "
      ]
     },
     "execution_count": 50,
     "metadata": {},
     "output_type": "execute_result"
    }
   ],
   "source": [
    "cp_metrics_df"
   ]
  },
  {
   "cell_type": "markdown",
   "id": "ed608b0b",
   "metadata": {
    "papermill": {
     "duration": 0.020965,
     "end_time": "2025-08-19T18:59:57.285713",
     "exception": false,
     "start_time": "2025-08-19T18:59:57.264748",
     "status": "completed"
    },
    "tags": []
   },
   "source": [
    "Conditional coverage & looking at subgroups"
   ]
  },
  {
   "cell_type": "code",
   "execution_count": 51,
   "id": "8968c366",
   "metadata": {
    "execution": {
     "iopub.execute_input": "2025-08-19T18:59:57.316525Z",
     "iopub.status.busy": "2025-08-19T18:59:57.315098Z",
     "iopub.status.idle": "2025-08-19T18:59:57.558675Z",
     "shell.execute_reply": "2025-08-19T18:59:57.557743Z"
    },
    "papermill": {
     "duration": 0.259319,
     "end_time": "2025-08-19T18:59:57.560440",
     "exception": false,
     "start_time": "2025-08-19T18:59:57.301121",
     "status": "completed"
    },
    "tags": []
   },
   "outputs": [],
   "source": [
    "from fairness_multiverse.conformal import build_cp_groups\n",
    "\n",
    "cp_groups_df = build_cp_groups(pred_sets, y_true, X_test.index, org_test)"
   ]
  },
  {
   "cell_type": "code",
   "execution_count": 52,
   "id": "292ddabf",
   "metadata": {
    "execution": {
     "iopub.execute_input": "2025-08-19T18:59:57.592306Z",
     "iopub.status.busy": "2025-08-19T18:59:57.591988Z",
     "iopub.status.idle": "2025-08-19T18:59:58.516853Z",
     "shell.execute_reply": "2025-08-19T18:59:58.515541Z"
    },
    "papermill": {
     "duration": 0.944313,
     "end_time": "2025-08-19T18:59:58.518501",
     "exception": false,
     "start_time": "2025-08-19T18:59:57.574188",
     "status": "completed"
    },
    "tags": []
   },
   "outputs": [],
   "source": [
    "# Define covered = 1 if true_label is in the predicted set\n",
    "cp_groups_df['covered'] = cp_groups_df.apply(\n",
    "    lambda r: int(r['true_label'] in r['pred_set']),\n",
    "    axis=1\n",
    ")"
   ]
  },
  {
   "cell_type": "code",
   "execution_count": 53,
   "id": "3a261692",
   "metadata": {
    "execution": {
     "iopub.execute_input": "2025-08-19T18:59:58.552266Z",
     "iopub.status.busy": "2025-08-19T18:59:58.551587Z",
     "iopub.status.idle": "2025-08-19T18:59:58.566559Z",
     "shell.execute_reply": "2025-08-19T18:59:58.565319Z"
    },
    "papermill": {
     "duration": 0.035974,
     "end_time": "2025-08-19T18:59:58.568278",
     "exception": false,
     "start_time": "2025-08-19T18:59:58.532304",
     "status": "completed"
    },
    "tags": []
   },
   "outputs": [],
   "source": [
    "subgroups = ['frau1','nongerman','nongerman_male','nongerman_female']\n",
    "\n",
    "# Conditional coverage for subgroup==1\n",
    "cond_coverage = {\n",
    "    g: cp_groups_df.loc[cp_groups_df[g]==1, 'covered'].mean()\n",
    "    for g in subgroups\n",
    "}"
   ]
  },
  {
   "cell_type": "code",
   "execution_count": 54,
   "id": "894fd600",
   "metadata": {
    "execution": {
     "iopub.execute_input": "2025-08-19T18:59:58.600094Z",
     "iopub.status.busy": "2025-08-19T18:59:58.599098Z",
     "iopub.status.idle": "2025-08-19T18:59:58.605741Z",
     "shell.execute_reply": "2025-08-19T18:59:58.604998Z"
    },
    "papermill": {
     "duration": 0.021098,
     "end_time": "2025-08-19T18:59:58.606926",
     "exception": false,
     "start_time": "2025-08-19T18:59:58.585828",
     "status": "completed"
    },
    "tags": []
   },
   "outputs": [
    {
     "data": {
      "text/plain": [
       "{'frau1': 0.9070494675832322,\n",
       " 'nongerman': 0.9101779599169146,\n",
       " 'nongerman_male': 0.927136809871206,\n",
       " 'nongerman_female': 0.8821162444113264}"
      ]
     },
     "execution_count": 54,
     "metadata": {},
     "output_type": "execute_result"
    }
   ],
   "source": [
    "cond_coverage"
   ]
  },
  {
   "cell_type": "code",
   "execution_count": 55,
   "id": "942895c7",
   "metadata": {
    "execution": {
     "iopub.execute_input": "2025-08-19T18:59:58.634968Z",
     "iopub.status.busy": "2025-08-19T18:59:58.633717Z",
     "iopub.status.idle": "2025-08-19T18:59:58.643755Z",
     "shell.execute_reply": "2025-08-19T18:59:58.642644Z"
    },
    "papermill": {
     "duration": 0.024928,
     "end_time": "2025-08-19T18:59:58.645069",
     "exception": false,
     "start_time": "2025-08-19T18:59:58.620141",
     "status": "completed"
    },
    "tags": []
   },
   "outputs": [],
   "source": [
    "for subgroup, cov in cond_coverage.items():\n",
    "    cp_metrics_df[f\"cov_{subgroup}\"] = cov"
   ]
  },
  {
   "cell_type": "code",
   "execution_count": 56,
   "id": "3970120f",
   "metadata": {
    "execution": {
     "iopub.execute_input": "2025-08-19T18:59:58.675600Z",
     "iopub.status.busy": "2025-08-19T18:59:58.674360Z",
     "iopub.status.idle": "2025-08-19T18:59:58.704082Z",
     "shell.execute_reply": "2025-08-19T18:59:58.703239Z"
    },
    "papermill": {
     "duration": 0.045457,
     "end_time": "2025-08-19T18:59:58.705725",
     "exception": false,
     "start_time": "2025-08-19T18:59:58.660268",
     "status": "completed"
    },
    "tags": []
   },
   "outputs": [
    {
     "data": {
      "text/html": [
       "<div>\n",
       "<style scoped>\n",
       "    .dataframe tbody tr th:only-of-type {\n",
       "        vertical-align: middle;\n",
       "    }\n",
       "\n",
       "    .dataframe tbody tr th {\n",
       "        vertical-align: top;\n",
       "    }\n",
       "\n",
       "    .dataframe thead th {\n",
       "        text-align: right;\n",
       "    }\n",
       "</style>\n",
       "<table border=\"1\" class=\"dataframe\">\n",
       "  <thead>\n",
       "    <tr style=\"text-align: right;\">\n",
       "      <th></th>\n",
       "      <th>universe_id</th>\n",
       "      <th>universe_training_year</th>\n",
       "      <th>universe_training_size</th>\n",
       "      <th>universe_scale</th>\n",
       "      <th>universe_model</th>\n",
       "      <th>universe_exclude_features</th>\n",
       "      <th>universe_exclude_subgroups</th>\n",
       "      <th>q_hat</th>\n",
       "      <th>coverage</th>\n",
       "      <th>avg_size</th>\n",
       "      <th>cov_frau1</th>\n",
       "      <th>cov_nongerman</th>\n",
       "      <th>cov_nongerman_male</th>\n",
       "      <th>cov_nongerman_female</th>\n",
       "    </tr>\n",
       "  </thead>\n",
       "  <tbody>\n",
       "    <tr>\n",
       "      <th>0</th>\n",
       "      <td>377de54de371e29e34e6abc0debce5da</td>\n",
       "      <td>2012_14</td>\n",
       "      <td>1k</td>\n",
       "      <td>scale</td>\n",
       "      <td>gbm</td>\n",
       "      <td>age</td>\n",
       "      <td>keep-all</td>\n",
       "      <td>0.768699</td>\n",
       "      <td>0.910367</td>\n",
       "      <td>1.180058</td>\n",
       "      <td>0.907049</td>\n",
       "      <td>0.910178</td>\n",
       "      <td>0.927137</td>\n",
       "      <td>0.882116</td>\n",
       "    </tr>\n",
       "  </tbody>\n",
       "</table>\n",
       "</div>"
      ],
      "text/plain": [
       "                        universe_id universe_training_year  \\\n",
       "0  377de54de371e29e34e6abc0debce5da                2012_14   \n",
       "\n",
       "  universe_training_size universe_scale universe_model  \\\n",
       "0                     1k          scale            gbm   \n",
       "\n",
       "  universe_exclude_features universe_exclude_subgroups     q_hat  coverage  \\\n",
       "0                       age                   keep-all  0.768699  0.910367   \n",
       "\n",
       "   avg_size  cov_frau1  cov_nongerman  cov_nongerman_male  \\\n",
       "0  1.180058   0.907049       0.910178            0.927137   \n",
       "\n",
       "   cov_nongerman_female  \n",
       "0              0.882116  "
      ]
     },
     "execution_count": 56,
     "metadata": {},
     "output_type": "execute_result"
    }
   ],
   "source": [
    "cp_metrics_df"
   ]
  },
  {
   "cell_type": "markdown",
   "id": "3fc519cc",
   "metadata": {
    "papermill": {
     "duration": 0.012373,
     "end_time": "2025-08-19T18:59:58.732719",
     "exception": false,
     "start_time": "2025-08-19T18:59:58.720346",
     "status": "completed"
    },
    "tags": []
   },
   "source": [
    "# (Fairness) Metrics"
   ]
  },
  {
   "cell_type": "code",
   "execution_count": 57,
   "id": "a2e5e155",
   "metadata": {
    "execution": {
     "iopub.execute_input": "2025-08-19T18:59:58.759908Z",
     "iopub.status.busy": "2025-08-19T18:59:58.759409Z",
     "iopub.status.idle": "2025-08-19T18:59:58.775061Z",
     "shell.execute_reply": "2025-08-19T18:59:58.774351Z"
    },
    "papermill": {
     "duration": 0.031124,
     "end_time": "2025-08-19T18:59:58.776786",
     "exception": false,
     "start_time": "2025-08-19T18:59:58.745662",
     "status": "completed"
    },
    "tags": []
   },
   "outputs": [],
   "source": [
    "colname_to_bin = \"maxdeutsch1\"\n",
    "majority_value = org_train[colname_to_bin].mode()[0]\n",
    "\n",
    "org_test[\"majmin\"] = np.where(org_test[colname_to_bin] == majority_value, \"majority\", \"minority\")"
   ]
  },
  {
   "cell_type": "code",
   "execution_count": 58,
   "id": "17e3e4d5",
   "metadata": {
    "execution": {
     "iopub.execute_input": "2025-08-19T18:59:58.814808Z",
     "iopub.status.busy": "2025-08-19T18:59:58.813368Z",
     "iopub.status.idle": "2025-08-19T19:00:00.591265Z",
     "shell.execute_reply": "2025-08-19T19:00:00.589894Z"
    },
    "papermill": {
     "duration": 1.799305,
     "end_time": "2025-08-19T19:00:00.593901",
     "exception": false,
     "start_time": "2025-08-19T18:59:58.794596",
     "status": "completed"
    },
    "tags": []
   },
   "outputs": [],
   "source": [
    "example_universe = universe.copy()\n",
    "example_universe[\"cutoff\"] = example_universe[\"cutoff\"][0]\n",
    "example_universe[\"eval_fairness_grouping\"] = example_universe[\"eval_fairness_grouping\"][0]\n",
    "fairness_dict, metric_frame = universe_analysis.compute_metrics(\n",
    "    example_universe,\n",
    "    y_pred_prob=probs_test,\n",
    "    y_test=y_true,\n",
    "    org_test=org_test,\n",
    ")"
   ]
  },
  {
   "cell_type": "markdown",
   "id": "1fb7a0e9",
   "metadata": {
    "papermill": {
     "duration": 0.012369,
     "end_time": "2025-08-19T19:00:00.641166",
     "exception": false,
     "start_time": "2025-08-19T19:00:00.628797",
     "status": "completed"
    },
    "tags": []
   },
   "source": [
    "# Overall"
   ]
  },
  {
   "cell_type": "markdown",
   "id": "be1784b1",
   "metadata": {
    "papermill": {
     "duration": 0.012158,
     "end_time": "2025-08-19T19:00:00.670232",
     "exception": false,
     "start_time": "2025-08-19T19:00:00.658074",
     "status": "completed"
    },
    "tags": []
   },
   "source": [
    "Main fairness target: Equalized Odds. Seems to be a better fit than equal opportunity, since we're not only interested in Y = 1. Seems to be a better fit than demographic parity, since we also care about accuracy, not just equal distribution of preds.\n",
    "\n",
    "Pick column for computation of fairness metrics\n",
    "\n",
    "Performance\n",
    "Overall performance measures, most interesting in relation to the measures split by group below"
   ]
  },
  {
   "cell_type": "code",
   "execution_count": 59,
   "id": "b7672bee",
   "metadata": {
    "execution": {
     "iopub.execute_input": "2025-08-19T19:00:00.702924Z",
     "iopub.status.busy": "2025-08-19T19:00:00.701199Z",
     "iopub.status.idle": "2025-08-19T19:00:00.733737Z",
     "shell.execute_reply": "2025-08-19T19:00:00.732763Z"
    },
    "papermill": {
     "duration": 0.049467,
     "end_time": "2025-08-19T19:00:00.735627",
     "exception": false,
     "start_time": "2025-08-19T19:00:00.686160",
     "status": "completed"
    },
    "tags": []
   },
   "outputs": [
    {
     "data": {
      "text/plain": [
       "accuracy                   0.221993\n",
       "balanced accuracy          0.543302\n",
       "f1                         0.243390\n",
       "precision                  0.139041\n",
       "false positive rate        0.888890\n",
       "false negative rate        0.024505\n",
       "selection rate             0.900000\n",
       "count                  89710.000000\n",
       "dtype: float64"
      ]
     },
     "execution_count": 59,
     "metadata": {},
     "output_type": "execute_result"
    }
   ],
   "source": [
    "metric_frame.overall"
   ]
  },
  {
   "cell_type": "markdown",
   "id": "d93333c9",
   "metadata": {
    "papermill": {
     "duration": 0.013855,
     "end_time": "2025-08-19T19:00:00.778191",
     "exception": false,
     "start_time": "2025-08-19T19:00:00.764336",
     "status": "completed"
    },
    "tags": []
   },
   "source": [
    "By Group"
   ]
  },
  {
   "cell_type": "code",
   "execution_count": 60,
   "id": "52256966",
   "metadata": {
    "execution": {
     "iopub.execute_input": "2025-08-19T19:00:00.805502Z",
     "iopub.status.busy": "2025-08-19T19:00:00.805012Z",
     "iopub.status.idle": "2025-08-19T19:00:00.821548Z",
     "shell.execute_reply": "2025-08-19T19:00:00.820798Z"
    },
    "papermill": {
     "duration": 0.031673,
     "end_time": "2025-08-19T19:00:00.822904",
     "exception": false,
     "start_time": "2025-08-19T19:00:00.791231",
     "status": "completed"
    },
    "tags": []
   },
   "outputs": [
    {
     "data": {
      "text/html": [
       "<div>\n",
       "<style scoped>\n",
       "    .dataframe tbody tr th:only-of-type {\n",
       "        vertical-align: middle;\n",
       "    }\n",
       "\n",
       "    .dataframe tbody tr th {\n",
       "        vertical-align: top;\n",
       "    }\n",
       "\n",
       "    .dataframe thead th {\n",
       "        text-align: right;\n",
       "    }\n",
       "</style>\n",
       "<table border=\"1\" class=\"dataframe\">\n",
       "  <thead>\n",
       "    <tr style=\"text-align: right;\">\n",
       "      <th></th>\n",
       "      <th>accuracy</th>\n",
       "      <th>balanced accuracy</th>\n",
       "      <th>f1</th>\n",
       "      <th>precision</th>\n",
       "      <th>false positive rate</th>\n",
       "      <th>false negative rate</th>\n",
       "      <th>selection rate</th>\n",
       "      <th>count</th>\n",
       "    </tr>\n",
       "    <tr>\n",
       "      <th>majmin</th>\n",
       "      <th></th>\n",
       "      <th></th>\n",
       "      <th></th>\n",
       "      <th></th>\n",
       "      <th></th>\n",
       "      <th></th>\n",
       "      <th></th>\n",
       "      <th></th>\n",
       "    </tr>\n",
       "  </thead>\n",
       "  <tbody>\n",
       "    <tr>\n",
       "      <th>majority</th>\n",
       "      <td>0.239381</td>\n",
       "      <td>0.549960</td>\n",
       "      <td>0.252479</td>\n",
       "      <td>0.14508</td>\n",
       "      <td>0.872181</td>\n",
       "      <td>0.027899</td>\n",
       "      <td>0.885384</td>\n",
       "      <td>69170.0</td>\n",
       "    </tr>\n",
       "    <tr>\n",
       "      <th>minority</th>\n",
       "      <td>0.163437</td>\n",
       "      <td>0.522254</td>\n",
       "      <td>0.214132</td>\n",
       "      <td>0.12007</td>\n",
       "      <td>0.944090</td>\n",
       "      <td>0.011402</td>\n",
       "      <td>0.949221</td>\n",
       "      <td>20540.0</td>\n",
       "    </tr>\n",
       "  </tbody>\n",
       "</table>\n",
       "</div>"
      ],
      "text/plain": [
       "          accuracy  balanced accuracy        f1  precision  \\\n",
       "majmin                                                       \n",
       "majority  0.239381           0.549960  0.252479    0.14508   \n",
       "minority  0.163437           0.522254  0.214132    0.12007   \n",
       "\n",
       "          false positive rate  false negative rate  selection rate    count  \n",
       "majmin                                                                       \n",
       "majority             0.872181             0.027899        0.885384  69170.0  \n",
       "minority             0.944090             0.011402        0.949221  20540.0  "
      ]
     },
     "execution_count": 60,
     "metadata": {},
     "output_type": "execute_result"
    }
   ],
   "source": [
    "metric_frame.by_group"
   ]
  },
  {
   "cell_type": "code",
   "execution_count": 61,
   "id": "6e6c20ae",
   "metadata": {
    "execution": {
     "iopub.execute_input": "2025-08-19T19:00:00.855928Z",
     "iopub.status.busy": "2025-08-19T19:00:00.855113Z",
     "iopub.status.idle": "2025-08-19T19:00:02.771595Z",
     "shell.execute_reply": "2025-08-19T19:00:02.770711Z"
    },
    "papermill": {
     "duration": 1.9331,
     "end_time": "2025-08-19T19:00:02.772917",
     "exception": false,
     "start_time": "2025-08-19T19:00:00.839817",
     "status": "completed"
    },
    "tags": []
   },
   "outputs": [
    {
     "data": {
      "text/plain": [
       "array([[<Axes: title={'center': 'accuracy'}, xlabel='majmin'>,\n",
       "        <Axes: title={'center': 'balanced accuracy'}, xlabel='majmin'>,\n",
       "        <Axes: title={'center': 'f1'}, xlabel='majmin'>],\n",
       "       [<Axes: title={'center': 'precision'}, xlabel='majmin'>,\n",
       "        <Axes: title={'center': 'false positive rate'}, xlabel='majmin'>,\n",
       "        <Axes: title={'center': 'false negative rate'}, xlabel='majmin'>],\n",
       "       [<Axes: title={'center': 'selection rate'}, xlabel='majmin'>,\n",
       "        <Axes: title={'center': 'count'}, xlabel='majmin'>,\n",
       "        <Axes: xlabel='majmin'>]], dtype=object)"
      ]
     },
     "execution_count": 61,
     "metadata": {},
     "output_type": "execute_result"
    },
    {
     "data": {
      "image/png": "[encoded data removed]",
      "text/plain": [
       "<Figure size 1200x800 with 9 Axes>"
      ]
     },
     "metadata": {},
     "output_type": "display_data"
    }
   ],
   "source": [
    "# In a graphic\n",
    "metric_frame.by_group.plot.bar(\n",
    "    subplots=True,\n",
    "    layout=[3, 3],\n",
    "    legend=False,\n",
    "    figsize=[12, 8],\n",
    "    title=\"Show all metrics\",\n",
    ")"
   ]
  },
  {
   "cell_type": "markdown",
   "id": "b2e433ae",
   "metadata": {
    "papermill": {
     "duration": 0.030802,
     "end_time": "2025-08-19T19:00:02.832786",
     "exception": false,
     "start_time": "2025-08-19T19:00:02.801984",
     "status": "completed"
    },
    "tags": []
   },
   "source": [
    "# Final Output"
   ]
  },
  {
   "cell_type": "code",
   "execution_count": 62,
   "id": "3871301e",
   "metadata": {
    "execution": {
     "iopub.execute_input": "2025-08-19T19:00:02.864210Z",
     "iopub.status.busy": "2025-08-19T19:00:02.863221Z",
     "iopub.status.idle": "2025-08-19T19:00:02.873425Z",
     "shell.execute_reply": "2025-08-19T19:00:02.872770Z"
    },
    "papermill": {
     "duration": 0.028617,
     "end_time": "2025-08-19T19:00:02.876656",
     "exception": false,
     "start_time": "2025-08-19T19:00:02.848039",
     "status": "completed"
    },
    "tags": []
   },
   "outputs": [
    {
     "data": {
      "text/plain": [
       "4"
      ]
     },
     "execution_count": 62,
     "metadata": {},
     "output_type": "execute_result"
    }
   ],
   "source": [
    "sub_universes = universe_analysis.generate_sub_universes()\n",
    "len(sub_universes)"
   ]
  },
  {
   "cell_type": "code",
   "execution_count": 63,
   "id": "d9cfdaca",
   "metadata": {
    "execution": {
     "iopub.execute_input": "2025-08-19T19:00:02.925798Z",
     "iopub.status.busy": "2025-08-19T19:00:02.925281Z",
     "iopub.status.idle": "2025-08-19T19:00:02.930576Z",
     "shell.execute_reply": "2025-08-19T19:00:02.929724Z"
    },
    "papermill": {
     "duration": 0.024254,
     "end_time": "2025-08-19T19:00:02.931808",
     "exception": false,
     "start_time": "2025-08-19T19:00:02.907554",
     "status": "completed"
    },
    "tags": []
   },
   "outputs": [],
   "source": [
    "def filter_sub_universe_data(sub_universe, org_test):\n",
    "    # Keep all rows — no filtering\n",
    "    keep_rows_mask = np.ones(org_test.shape[0], dtype=bool)\n",
    "\n",
    "    print(f\"[INFO] Keeping all rows: {keep_rows_mask.sum()} rows retained.\")\n",
    "    return keep_rows_mask"
   ]
  },
  {
   "cell_type": "code",
   "execution_count": 64,
   "id": "2bc31ac1",
   "metadata": {
    "execution": {
     "iopub.execute_input": "2025-08-19T19:00:02.963084Z",
     "iopub.status.busy": "2025-08-19T19:00:02.962524Z",
     "iopub.status.idle": "2025-08-19T19:00:09.853381Z",
     "shell.execute_reply": "2025-08-19T19:00:09.852425Z"
    },
    "papermill": {
     "duration": 6.911358,
     "end_time": "2025-08-19T19:00:09.859148",
     "exception": false,
     "start_time": "2025-08-19T19:00:02.947790",
     "status": "completed"
    },
    "tags": []
   },
   "outputs": [
    {
     "name": "stdout",
     "output_type": "stream",
     "text": [
      "Stopping execution_time clock.\n",
      "[INFO] Keeping all rows: 89710 rows retained.\n"
     ]
    },
    {
     "name": "stdout",
     "output_type": "stream",
     "text": [
      "[INFO] Keeping all rows: 89710 rows retained.\n"
     ]
    },
    {
     "name": "stdout",
     "output_type": "stream",
     "text": [
      "[INFO] Keeping all rows: 89710 rows retained.\n"
     ]
    },
    {
     "name": "stdout",
     "output_type": "stream",
     "text": [
      "[INFO] Keeping all rows: 89710 rows retained.\n"
     ]
    },
    {
     "data": {
      "text/html": [
       "<div>\n",
       "<style scoped>\n",
       "    .dataframe tbody tr th:only-of-type {\n",
       "        vertical-align: middle;\n",
       "    }\n",
       "\n",
       "    .dataframe tbody tr th {\n",
       "        vertical-align: top;\n",
       "    }\n",
       "\n",
       "    .dataframe thead th {\n",
       "        text-align: right;\n",
       "    }\n",
       "</style>\n",
       "<table border=\"1\" class=\"dataframe\">\n",
       "  <thead>\n",
       "    <tr style=\"text-align: right;\">\n",
       "      <th></th>\n",
       "      <th>run_no</th>\n",
       "      <th>universe_id</th>\n",
       "      <th>universe_settings</th>\n",
       "      <th>execution_time</th>\n",
       "      <th>test_size_n</th>\n",
       "      <th>test_size_frac</th>\n",
       "      <th>fair_main_equalized_odds_difference</th>\n",
       "      <th>fair_main_equalized_odds_ratio</th>\n",
       "      <th>fair_main_demographic_parity_difference</th>\n",
       "      <th>fair_main_demographic_parity_ratio</th>\n",
       "      <th>...</th>\n",
       "      <th>perf_grp_precision_0</th>\n",
       "      <th>perf_grp_precision_1</th>\n",
       "      <th>perf_grp_false positive rate_0</th>\n",
       "      <th>perf_grp_false positive rate_1</th>\n",
       "      <th>perf_grp_false negative rate_0</th>\n",
       "      <th>perf_grp_false negative rate_1</th>\n",
       "      <th>perf_grp_selection rate_0</th>\n",
       "      <th>perf_grp_selection rate_1</th>\n",
       "      <th>perf_grp_count_0</th>\n",
       "      <th>perf_grp_count_1</th>\n",
       "    </tr>\n",
       "  </thead>\n",
       "  <tbody>\n",
       "    <tr>\n",
       "      <th>0</th>\n",
       "      <td>3</td>\n",
       "      <td>377de54de371e29e34e6abc0debce5da</td>\n",
       "      <td>{\"cutoff\": \"quantile_0.1\", \"eval_fairness_grou...</td>\n",
       "      <td>23.598416</td>\n",
       "      <td>89710</td>\n",
       "      <td>1.0</td>\n",
       "      <td>0.071909</td>\n",
       "      <td>0.923832</td>\n",
       "      <td>0.063837</td>\n",
       "      <td>0.932748</td>\n",
       "      <td>...</td>\n",
       "      <td>NaN</td>\n",
       "      <td>NaN</td>\n",
       "      <td>NaN</td>\n",
       "      <td>NaN</td>\n",
       "      <td>NaN</td>\n",
       "      <td>NaN</td>\n",
       "      <td>NaN</td>\n",
       "      <td>NaN</td>\n",
       "      <td>NaN</td>\n",
       "      <td>NaN</td>\n",
       "    </tr>\n",
       "    <tr>\n",
       "      <th>0</th>\n",
       "      <td>3</td>\n",
       "      <td>377de54de371e29e34e6abc0debce5da</td>\n",
       "      <td>{\"cutoff\": \"quantile_0.1\", \"eval_fairness_grou...</td>\n",
       "      <td>23.598416</td>\n",
       "      <td>89710</td>\n",
       "      <td>1.0</td>\n",
       "      <td>0.071909</td>\n",
       "      <td>0.923832</td>\n",
       "      <td>0.063837</td>\n",
       "      <td>0.932748</td>\n",
       "      <td>...</td>\n",
       "      <td>0.120070</td>\n",
       "      <td>0.145080</td>\n",
       "      <td>0.944090</td>\n",
       "      <td>0.872181</td>\n",
       "      <td>0.011402</td>\n",
       "      <td>0.027899</td>\n",
       "      <td>0.949221</td>\n",
       "      <td>0.885384</td>\n",
       "      <td>20540.0</td>\n",
       "      <td>69170.0</td>\n",
       "    </tr>\n",
       "    <tr>\n",
       "      <th>0</th>\n",
       "      <td>3</td>\n",
       "      <td>377de54de371e29e34e6abc0debce5da</td>\n",
       "      <td>{\"cutoff\": \"quantile_0.25\", \"eval_fairness_gro...</td>\n",
       "      <td>23.598416</td>\n",
       "      <td>89710</td>\n",
       "      <td>1.0</td>\n",
       "      <td>0.141151</td>\n",
       "      <td>0.830850</td>\n",
       "      <td>0.124335</td>\n",
       "      <td>0.853008</td>\n",
       "      <td>...</td>\n",
       "      <td>NaN</td>\n",
       "      <td>NaN</td>\n",
       "      <td>NaN</td>\n",
       "      <td>NaN</td>\n",
       "      <td>NaN</td>\n",
       "      <td>NaN</td>\n",
       "      <td>NaN</td>\n",
       "      <td>NaN</td>\n",
       "      <td>NaN</td>\n",
       "      <td>NaN</td>\n",
       "    </tr>\n",
       "    <tr>\n",
       "      <th>0</th>\n",
       "      <td>3</td>\n",
       "      <td>377de54de371e29e34e6abc0debce5da</td>\n",
       "      <td>{\"cutoff\": \"quantile_0.25\", \"eval_fairness_gro...</td>\n",
       "      <td>23.598416</td>\n",
       "      <td>89710</td>\n",
       "      <td>1.0</td>\n",
       "      <td>0.141151</td>\n",
       "      <td>0.830850</td>\n",
       "      <td>0.124335</td>\n",
       "      <td>0.853008</td>\n",
       "      <td>...</td>\n",
       "      <td>0.127202</td>\n",
       "      <td>0.166066</td>\n",
       "      <td>0.834471</td>\n",
       "      <td>0.693320</td>\n",
       "      <td>0.066723</td>\n",
       "      <td>0.093217</td>\n",
       "      <td>0.845862</td>\n",
       "      <td>0.721527</td>\n",
       "      <td>20540.0</td>\n",
       "      <td>69170.0</td>\n",
       "    </tr>\n",
       "  </tbody>\n",
       "</table>\n",
       "<p>4 rows × 50 columns</p>\n",
       "</div>"
      ],
      "text/plain": [
       "  run_no                       universe_id  \\\n",
       "0      3  377de54de371e29e34e6abc0debce5da   \n",
       "0      3  377de54de371e29e34e6abc0debce5da   \n",
       "0      3  377de54de371e29e34e6abc0debce5da   \n",
       "0      3  377de54de371e29e34e6abc0debce5da   \n",
       "\n",
       "                                   universe_settings  execution_time  \\\n",
       "0  {\"cutoff\": \"quantile_0.1\", \"eval_fairness_grou...       23.598416   \n",
       "0  {\"cutoff\": \"quantile_0.1\", \"eval_fairness_grou...       23.598416   \n",
       "0  {\"cutoff\": \"quantile_0.25\", \"eval_fairness_gro...       23.598416   \n",
       "0  {\"cutoff\": \"quantile_0.25\", \"eval_fairness_gro...       23.598416   \n",
       "\n",
       "   test_size_n  test_size_frac  fair_main_equalized_odds_difference  \\\n",
       "0        89710             1.0                             0.071909   \n",
       "0        89710             1.0                             0.071909   \n",
       "0        89710             1.0                             0.141151   \n",
       "0        89710             1.0                             0.141151   \n",
       "\n",
       "   fair_main_equalized_odds_ratio  fair_main_demographic_parity_difference  \\\n",
       "0                        0.923832                                 0.063837   \n",
       "0                        0.923832                                 0.063837   \n",
       "0                        0.830850                                 0.124335   \n",
       "0                        0.830850                                 0.124335   \n",
       "\n",
       "   fair_main_demographic_parity_ratio  ...  perf_grp_precision_0  \\\n",
       "0                            0.932748  ...                   NaN   \n",
       "0                            0.932748  ...              0.120070   \n",
       "0                            0.853008  ...                   NaN   \n",
       "0                            0.853008  ...              0.127202   \n",
       "\n",
       "   perf_grp_precision_1  perf_grp_false positive rate_0  \\\n",
       "0                   NaN                             NaN   \n",
       "0              0.145080                        0.944090   \n",
       "0                   NaN                             NaN   \n",
       "0              0.166066                        0.834471   \n",
       "\n",
       "   perf_grp_false positive rate_1  perf_grp_false negative rate_0  \\\n",
       "0                             NaN                             NaN   \n",
       "0                        0.872181                        0.011402   \n",
       "0                             NaN                             NaN   \n",
       "0                        0.693320                        0.066723   \n",
       "\n",
       "   perf_grp_false negative rate_1  perf_grp_selection rate_0  \\\n",
       "0                             NaN                        NaN   \n",
       "0                        0.027899                   0.949221   \n",
       "0                             NaN                        NaN   \n",
       "0                        0.093217                   0.845862   \n",
       "\n",
       "   perf_grp_selection rate_1  perf_grp_count_0  perf_grp_count_1  \n",
       "0                        NaN               NaN               NaN  \n",
       "0                   0.885384           20540.0           69170.0  \n",
       "0                        NaN               NaN               NaN  \n",
       "0                   0.721527           20540.0           69170.0  \n",
       "\n",
       "[4 rows x 50 columns]"
      ]
     },
     "execution_count": 64,
     "metadata": {},
     "output_type": "execute_result"
    }
   ],
   "source": [
    "final_output = universe_analysis.generate_final_output(\n",
    "    y_pred_prob=probs_test,\n",
    "    y_test=y_true,\n",
    "    org_test=org_test,\n",
    "    filter_data=filter_sub_universe_data,\n",
    "    cp_metrics_df=cp_metrics_df,\n",
    "    save=True,\n",
    ")\n",
    "final_output"
   ]
  },
  {
   "cell_type": "code",
   "execution_count": null,
   "id": "8b80a1ff",
   "metadata": {
    "papermill": {
     "duration": 0.015142,
     "end_time": "2025-08-19T19:00:09.892606",
     "exception": false,
     "start_time": "2025-08-19T19:00:09.877464",
     "status": "completed"
    },
    "tags": []
   },
   "outputs": [],
   "source": []
  },
  {
   "cell_type": "code",
   "execution_count": null,
   "id": "275c9fad",
   "metadata": {
    "papermill": {
     "duration": 0.014932,
     "end_time": "2025-08-19T19:00:09.922318",
     "exception": false,
     "start_time": "2025-08-19T19:00:09.907386",
     "status": "completed"
    },
    "tags": []
   },
   "outputs": [],
   "source": []
  }
 ],
 "metadata": {
  "celltoolbar": "Tags",
  "kernelspec": {
   "display_name": "Python (CMA Fairness)",
   "language": "python",
   "name": "cma_fair_env"
  },
  "language_info": {
   "codemirror_mode": {
    "name": "ipython",
    "version": 3
   },
   "file_extension": ".py",
   "mimetype": "text/x-python",
   "name": "python",
   "nbconvert_exporter": "python",
   "pygments_lexer": "ipython3",
   "version": "3.10.12"
  },
  "papermill": {
   "default_parameters": {},
   "duration": 34.457654,
   "end_time": "2025-08-19T19:00:10.761244",
   "environment_variables": {},
   "exception": null,
   "input_path": "universe_analysis.ipynb",
   "output_path": "output/runs/3/notebooks/m_3-377de54de371e29e34e6abc0debce5da.ipynb",
   "parameters": {
    "output_dir": "output",
    "run_no": "3",
    "seed": "2023",
    "universe": "{\"cutoff\": [\"quantile_0.1\", \"quantile_0.25\"], \"eval_fairness_grouping\": [\"majority-minority\", \"nationality-all\"], \"exclude_features\": \"age\", \"exclude_subgroups\": \"keep-all\", \"model\": \"gbm\", \"scale\": \"scale\", \"training_size\": \"1k\", \"training_year\": \"2012_14\"}",
    "universe_id": "377de54de371e29e34e6abc0debce5da"
   },
   "start_time": "2025-08-19T18:59:36.303590",
   "version": "2.6.0"
  }
 },
 "nbformat": 4,
 "nbformat_minor": 5
}