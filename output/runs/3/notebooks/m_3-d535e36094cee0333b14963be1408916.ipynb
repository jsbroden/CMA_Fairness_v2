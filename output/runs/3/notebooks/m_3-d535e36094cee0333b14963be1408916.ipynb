{
 "cells": [
  {
   "cell_type": "markdown",
   "id": "ef23dbb3",
   "metadata": {
    "papermill": {
     "duration": 0.022433,
     "end_time": "2025-08-19T18:48:32.970176",
     "exception": false,
     "start_time": "2025-08-19T18:48:32.947743",
     "status": "completed"
    },
    "tags": []
   },
   "source": [
    "# Setup"
   ]
  },
  {
   "cell_type": "code",
   "execution_count": 1,
   "id": "0bc8e7dc",
   "metadata": {
    "execution": {
     "iopub.execute_input": "2025-08-19T18:48:32.993053Z",
     "iopub.status.busy": "2025-08-19T18:48:32.991885Z",
     "iopub.status.idle": "2025-08-19T18:48:33.010236Z",
     "shell.execute_reply": "2025-08-19T18:48:33.009261Z"
    },
    "papermill": {
     "duration": 0.030309,
     "end_time": "2025-08-19T18:48:33.011967",
     "exception": false,
     "start_time": "2025-08-19T18:48:32.981658",
     "status": "completed"
    },
    "tags": []
   },
   "outputs": [
    {
     "name": "stdout",
     "output_type": "stream",
     "text": [
      "/dss/dsshome1/0C/ra93lal2/cma/CMA_Fairness_v2\n"
     ]
    },
    {
     "name": "stderr",
     "output_type": "stream",
     "text": [
      "/dss/dsshome1/0C/ra93lal2/.local/share/virtualenvs/CMA_Fairness_v2-3j10GkSs/lib/python3.10/site-packages/IPython/core/magics/osm.py:393: UserWarning: This is now an optional IPython functionality, using bookmarks requires you to install the `pickleshare` library.\n",
      "  bkms = self.shell.db.get('bookmarks', {})\n",
      "/dss/dsshome1/0C/ra93lal2/.local/share/virtualenvs/CMA_Fairness_v2-3j10GkSs/lib/python3.10/site-packages/IPython/core/magics/osm.py:417: UserWarning: This is now an optional IPython functionality, setting dhist requires you to install the `pickleshare` library.\n",
      "  self.shell.db['dhist'] = compress_dhist(dhist)[-100:]\n"
     ]
    }
   ],
   "source": [
    "%cd ~/cma/CMA_Fairness_v2"
   ]
  },
  {
   "cell_type": "markdown",
   "id": "9d235661",
   "metadata": {
    "papermill": {
     "duration": 0.010041,
     "end_time": "2025-08-19T18:48:33.036459",
     "exception": false,
     "start_time": "2025-08-19T18:48:33.026418",
     "status": "completed"
    },
    "tags": []
   },
   "source": [
    "The following cell holds the definition of our parameters, these values can be overriden by rendering the with e.g. the following command:\n",
    "\n",
    "papermill -p alpha 0.2 -p ratio 0.3 universe_analysis.ipynb output/test_run.ipynb"
   ]
  },
  {
   "cell_type": "code",
   "execution_count": 2,
   "id": "4a789d8e",
   "metadata": {
    "execution": {
     "iopub.execute_input": "2025-08-19T18:48:33.058993Z",
     "iopub.status.busy": "2025-08-19T18:48:33.057712Z",
     "iopub.status.idle": "2025-08-19T18:48:33.069913Z",
     "shell.execute_reply": "2025-08-19T18:48:33.068643Z"
    },
    "papermill": {
     "duration": 0.026165,
     "end_time": "2025-08-19T18:48:33.071129",
     "exception": false,
     "start_time": "2025-08-19T18:48:33.044964",
     "status": "completed"
    },
    "tags": []
   },
   "outputs": [
    {
     "name": "stdout",
     "output_type": "stream",
     "text": [
      "Current working directory: /dss/dsshome1/0C/ra93lal2/cma/CMA_Fairness_v2\n"
     ]
    }
   ],
   "source": [
    "import os\n",
    "print(\"Current working directory:\", os.getcwd())"
   ]
  },
  {
   "cell_type": "code",
   "execution_count": 3,
   "id": "4132aaed",
   "metadata": {
    "execution": {
     "iopub.execute_input": "2025-08-19T18:48:33.094002Z",
     "iopub.status.busy": "2025-08-19T18:48:33.093390Z",
     "iopub.status.idle": "2025-08-19T18:48:33.100400Z",
     "shell.execute_reply": "2025-08-19T18:48:33.099353Z"
    },
    "papermill": {
     "duration": 0.021772,
     "end_time": "2025-08-19T18:48:33.101774",
     "exception": false,
     "start_time": "2025-08-19T18:48:33.080002",
     "status": "completed"
    },
    "tags": [
     "parameters"
    ]
   },
   "outputs": [],
   "source": [
    "run_no = 0\n",
    "universe_id = \"test\"\n",
    "universe = {\n",
    "    \"training_size\": \"5k\", # \"25k\", \"5k\", \"1k\"\n",
    "    \"training_year\": \"2012_14\", # \"2014\", \"2012_14\", \"2010_14\"\n",
    "    \"scale\": \"scale\", # \"scale\", \"do-not-scale\",\n",
    "    \"model\": \"elasticnet\", # \"logreg\", \"penalized_logreg\", \"rf\", \"gbm\", \"elasticnet\"\n",
    "    \"cutoff\": [\"quantile_0.15\", \"quantile_0.30\"],\n",
    "    \"exclude_features\": \"age\", # \"none\", \"nationality\", \"sex\", \"nationality-sex\", \"age\"\n",
    "    \"exclude_subgroups\": \"drop-non-german\", # \"keep-all\", \"drop-non-german\"\n",
    "    \"eval_fairness_grouping\": [\"majority-minority\", \"nationality-all\"]\n",
    "}\n",
    "\n",
    "output_dir=\"./output\"\n",
    "seed=0"
   ]
  },
  {
   "cell_type": "code",
   "execution_count": 4,
   "id": "bace646f",
   "metadata": {
    "execution": {
     "iopub.execute_input": "2025-08-19T18:48:33.124351Z",
     "iopub.status.busy": "2025-08-19T18:48:33.124040Z",
     "iopub.status.idle": "2025-08-19T18:48:33.129713Z",
     "shell.execute_reply": "2025-08-19T18:48:33.128420Z"
    },
    "papermill": {
     "duration": 0.017486,
     "end_time": "2025-08-19T18:48:33.131070",
     "exception": false,
     "start_time": "2025-08-19T18:48:33.113584",
     "status": "completed"
    },
    "tags": [
     "injected-parameters"
    ]
   },
   "outputs": [],
   "source": [
    "# Parameters\n",
    "universe_id = \"d535e36094cee0333b14963be1408916\"\n",
    "run_no = \"3\"\n",
    "universe = \"{\\\"cutoff\\\": [\\\"quantile_0.1\\\", \\\"quantile_0.25\\\"], \\\"eval_fairness_grouping\\\": [\\\"majority-minority\\\", \\\"nationality-all\\\"], \\\"exclude_features\\\": \\\"none\\\", \\\"exclude_subgroups\\\": \\\"keep-all\\\", \\\"model\\\": \\\"logreg\\\", \\\"scale\\\": \\\"scale\\\", \\\"training_size\\\": \\\"1k\\\", \\\"training_year\\\": \\\"2014\\\"}\"\n",
    "output_dir = \"output\"\n",
    "seed = \"2023\"\n"
   ]
  },
  {
   "cell_type": "code",
   "execution_count": 5,
   "id": "a5d7941f",
   "metadata": {
    "execution": {
     "iopub.execute_input": "2025-08-19T18:48:33.153632Z",
     "iopub.status.busy": "2025-08-19T18:48:33.153216Z",
     "iopub.status.idle": "2025-08-19T18:48:33.157405Z",
     "shell.execute_reply": "2025-08-19T18:48:33.156622Z"
    },
    "papermill": {
     "duration": 0.015418,
     "end_time": "2025-08-19T18:48:33.158614",
     "exception": false,
     "start_time": "2025-08-19T18:48:33.143196",
     "status": "completed"
    },
    "tags": []
   },
   "outputs": [],
   "source": [
    "import json\n",
    "if isinstance(universe, str):\n",
    "    universe = json.loads(universe)"
   ]
  },
  {
   "cell_type": "code",
   "execution_count": 6,
   "id": "7076ccb1",
   "metadata": {
    "execution": {
     "iopub.execute_input": "2025-08-19T18:48:33.187735Z",
     "iopub.status.busy": "2025-08-19T18:48:33.187304Z",
     "iopub.status.idle": "2025-08-19T18:48:33.230864Z",
     "shell.execute_reply": "2025-08-19T18:48:33.230021Z"
    },
    "papermill": {
     "duration": 0.064577,
     "end_time": "2025-08-19T18:48:33.232827",
     "exception": false,
     "start_time": "2025-08-19T18:48:33.168250",
     "status": "completed"
    },
    "tags": []
   },
   "outputs": [],
   "source": [
    "# Auto-reload the custom package\n",
    "%load_ext autoreload\n",
    "%autoreload 1\n",
    "%aimport fairness_multiverse"
   ]
  },
  {
   "cell_type": "code",
   "execution_count": 7,
   "id": "94c8eb93",
   "metadata": {
    "execution": {
     "iopub.execute_input": "2025-08-19T18:48:33.268950Z",
     "iopub.status.busy": "2025-08-19T18:48:33.267271Z",
     "iopub.status.idle": "2025-08-19T18:48:34.881644Z",
     "shell.execute_reply": "2025-08-19T18:48:34.880872Z"
    },
    "papermill": {
     "duration": 1.631077,
     "end_time": "2025-08-19T18:48:34.883039",
     "exception": false,
     "start_time": "2025-08-19T18:48:33.251962",
     "status": "completed"
    },
    "tags": []
   },
   "outputs": [],
   "source": [
    "from fairness_multiverse.universe import UniverseAnalysis\n",
    "\n",
    "universe_analysis = UniverseAnalysis(\n",
    "    run_no = run_no,\n",
    "    universe_id = universe_id,\n",
    "    universe = universe,\n",
    "    output_dir=output_dir,\n",
    ")"
   ]
  },
  {
   "cell_type": "code",
   "execution_count": 8,
   "id": "2a6381cf",
   "metadata": {
    "execution": {
     "iopub.execute_input": "2025-08-19T18:48:34.908656Z",
     "iopub.status.busy": "2025-08-19T18:48:34.907951Z",
     "iopub.status.idle": "2025-08-19T18:48:34.913176Z",
     "shell.execute_reply": "2025-08-19T18:48:34.912344Z"
    },
    "papermill": {
     "duration": 0.018441,
     "end_time": "2025-08-19T18:48:34.915196",
     "exception": false,
     "start_time": "2025-08-19T18:48:34.896755",
     "status": "completed"
    },
    "tags": []
   },
   "outputs": [
    {
     "name": "stdout",
     "output_type": "stream",
     "text": [
      "Using Seed: 2023\n"
     ]
    }
   ],
   "source": [
    "import numpy as np\n",
    "parsed_seed = int(seed)\n",
    "np.random.seed(parsed_seed)\n",
    "print(f\"Using Seed: {parsed_seed}\")"
   ]
  },
  {
   "cell_type": "markdown",
   "id": "b6e958b4",
   "metadata": {
    "papermill": {
     "duration": 0.009759,
     "end_time": "2025-08-19T18:48:34.934540",
     "exception": false,
     "start_time": "2025-08-19T18:48:34.924781",
     "status": "completed"
    },
    "tags": []
   },
   "source": [
    "# Loading Data"
   ]
  },
  {
   "cell_type": "code",
   "execution_count": 9,
   "id": "98701482",
   "metadata": {
    "execution": {
     "iopub.execute_input": "2025-08-19T18:48:34.954336Z",
     "iopub.status.busy": "2025-08-19T18:48:34.953931Z",
     "iopub.status.idle": "2025-08-19T18:48:44.735585Z",
     "shell.execute_reply": "2025-08-19T18:48:44.734531Z"
    },
    "papermill": {
     "duration": 9.793184,
     "end_time": "2025-08-19T18:48:44.736945",
     "exception": false,
     "start_time": "2025-08-19T18:48:34.943761",
     "status": "completed"
    },
    "tags": []
   },
   "outputs": [
    {
     "name": "stdout",
     "output_type": "stream",
     "text": [
      "Loading SIAB data from cache: data/siab_cached.csv.gz\n"
     ]
    },
    {
     "name": "stdout",
     "output_type": "stream",
     "text": [
      "(643690, 164)\n"
     ]
    }
   ],
   "source": [
    "from pathlib import Path\n",
    "import pandas as pd\n",
    "\n",
    "# File paths\n",
    "raw_file = Path(\"data/raw/siab.csv\")\n",
    "cache_file = Path(\"data/siab_cached.csv.gz\")\n",
    "\n",
    "# Ensure cache directory exists\n",
    "cache_file.parent.mkdir(parents=True, exist_ok=True)\n",
    "\n",
    "# Load with simple caching\n",
    "if cache_file.exists():\n",
    "    print(f\"Loading SIAB data from cache: {cache_file}\")\n",
    "    siab = pd.read_csv(cache_file, compression='gzip')\n",
    "else:\n",
    "    print(f\"Cache not found. Reading raw SIAB data: {raw_file}\")\n",
    "    siab = pd.read_csv(raw_file)\n",
    "    siab.to_csv(cache_file, index=False, compression='gzip')\n",
    "    print(f\"Cached SIAB data to: {cache_file}\")\n",
    "\n",
    "print(siab.shape)"
   ]
  },
  {
   "cell_type": "code",
   "execution_count": 10,
   "id": "058d2abb",
   "metadata": {
    "execution": {
     "iopub.execute_input": "2025-08-19T18:48:44.780846Z",
     "iopub.status.busy": "2025-08-19T18:48:44.780455Z",
     "iopub.status.idle": "2025-08-19T18:48:44.977465Z",
     "shell.execute_reply": "2025-08-19T18:48:44.976556Z"
    },
    "papermill": {
     "duration": 0.222912,
     "end_time": "2025-08-19T18:48:44.979140",
     "exception": false,
     "start_time": "2025-08-19T18:48:44.756228",
     "status": "completed"
    },
    "tags": []
   },
   "outputs": [
    {
     "data": {
      "text/html": [
       "<div>\n",
       "<style scoped>\n",
       "    .dataframe tbody tr th:only-of-type {\n",
       "        vertical-align: middle;\n",
       "    }\n",
       "\n",
       "    .dataframe tbody tr th {\n",
       "        vertical-align: top;\n",
       "    }\n",
       "\n",
       "    .dataframe thead th {\n",
       "        text-align: right;\n",
       "    }\n",
       "</style>\n",
       "<table border=\"1\" class=\"dataframe\">\n",
       "  <thead>\n",
       "    <tr style=\"text-align: right;\">\n",
       "      <th></th>\n",
       "      <th>persnr</th>\n",
       "      <th>year</th>\n",
       "      <th>nrEntry</th>\n",
       "      <th>ltue</th>\n",
       "      <th>employed_before</th>\n",
       "      <th>receipt_leh_before</th>\n",
       "      <th>receipt_lhg_before</th>\n",
       "      <th>se_before</th>\n",
       "      <th>ASU_notue_seeking_before</th>\n",
       "      <th>ASU_other_before</th>\n",
       "      <th>...</th>\n",
       "      <th>minijob_tot_dur_byage</th>\n",
       "      <th>ft_tot_dur_byage</th>\n",
       "      <th>befrist_tot_dur_byage</th>\n",
       "      <th>leih_tot_dur_byage</th>\n",
       "      <th>LHG_tot_dur_byage</th>\n",
       "      <th>LEH_tot_dur_byage</th>\n",
       "      <th>almp_tot_dur_byage</th>\n",
       "      <th>almp_aw_tot_dur_byage</th>\n",
       "      <th>se_tot_dur_byage</th>\n",
       "      <th>seeking1_tot_dur_byage</th>\n",
       "    </tr>\n",
       "  </thead>\n",
       "  <tbody>\n",
       "    <tr>\n",
       "      <th>0</th>\n",
       "      <td>7</td>\n",
       "      <td>2015</td>\n",
       "      <td>1</td>\n",
       "      <td>0</td>\n",
       "      <td>1</td>\n",
       "      <td>0</td>\n",
       "      <td>0</td>\n",
       "      <td>0</td>\n",
       "      <td>1</td>\n",
       "      <td>0</td>\n",
       "      <td>...</td>\n",
       "      <td>0.000000</td>\n",
       "      <td>0.000000</td>\n",
       "      <td>15.043478</td>\n",
       "      <td>0.000000</td>\n",
       "      <td>0.000000</td>\n",
       "      <td>0.000000</td>\n",
       "      <td>0.000000</td>\n",
       "      <td>0.000000</td>\n",
       "      <td>0.000000</td>\n",
       "      <td>0.000000</td>\n",
       "    </tr>\n",
       "    <tr>\n",
       "      <th>1</th>\n",
       "      <td>18</td>\n",
       "      <td>2010</td>\n",
       "      <td>1</td>\n",
       "      <td>1</td>\n",
       "      <td>0</td>\n",
       "      <td>0</td>\n",
       "      <td>0</td>\n",
       "      <td>0</td>\n",
       "      <td>0</td>\n",
       "      <td>0</td>\n",
       "      <td>...</td>\n",
       "      <td>0.000000</td>\n",
       "      <td>0.000000</td>\n",
       "      <td>0.000000</td>\n",
       "      <td>0.000000</td>\n",
       "      <td>0.000000</td>\n",
       "      <td>0.000000</td>\n",
       "      <td>0.000000</td>\n",
       "      <td>0.000000</td>\n",
       "      <td>0.000000</td>\n",
       "      <td>0.000000</td>\n",
       "    </tr>\n",
       "    <tr>\n",
       "      <th>2</th>\n",
       "      <td>18</td>\n",
       "      <td>2011</td>\n",
       "      <td>2</td>\n",
       "      <td>0</td>\n",
       "      <td>1</td>\n",
       "      <td>0</td>\n",
       "      <td>1</td>\n",
       "      <td>0</td>\n",
       "      <td>1</td>\n",
       "      <td>0</td>\n",
       "      <td>...</td>\n",
       "      <td>2.714286</td>\n",
       "      <td>2.714286</td>\n",
       "      <td>0.000000</td>\n",
       "      <td>0.000000</td>\n",
       "      <td>10.775510</td>\n",
       "      <td>0.000000</td>\n",
       "      <td>8.367347</td>\n",
       "      <td>0.000000</td>\n",
       "      <td>0.000000</td>\n",
       "      <td>9.836735</td>\n",
       "    </tr>\n",
       "    <tr>\n",
       "      <th>3</th>\n",
       "      <td>18</td>\n",
       "      <td>2012</td>\n",
       "      <td>3</td>\n",
       "      <td>0</td>\n",
       "      <td>1</td>\n",
       "      <td>0</td>\n",
       "      <td>1</td>\n",
       "      <td>0</td>\n",
       "      <td>1</td>\n",
       "      <td>0</td>\n",
       "      <td>...</td>\n",
       "      <td>4.200000</td>\n",
       "      <td>4.200000</td>\n",
       "      <td>0.000000</td>\n",
       "      <td>0.000000</td>\n",
       "      <td>12.100000</td>\n",
       "      <td>0.000000</td>\n",
       "      <td>9.400000</td>\n",
       "      <td>0.000000</td>\n",
       "      <td>0.000000</td>\n",
       "      <td>9.960000</td>\n",
       "    </tr>\n",
       "    <tr>\n",
       "      <th>4</th>\n",
       "      <td>18</td>\n",
       "      <td>2012</td>\n",
       "      <td>4</td>\n",
       "      <td>0</td>\n",
       "      <td>1</td>\n",
       "      <td>0</td>\n",
       "      <td>1</td>\n",
       "      <td>0</td>\n",
       "      <td>1</td>\n",
       "      <td>0</td>\n",
       "      <td>...</td>\n",
       "      <td>5.460000</td>\n",
       "      <td>5.460000</td>\n",
       "      <td>0.000000</td>\n",
       "      <td>0.000000</td>\n",
       "      <td>13.360000</td>\n",
       "      <td>0.000000</td>\n",
       "      <td>10.320000</td>\n",
       "      <td>0.000000</td>\n",
       "      <td>0.000000</td>\n",
       "      <td>10.280000</td>\n",
       "    </tr>\n",
       "    <tr>\n",
       "      <th>...</th>\n",
       "      <td>...</td>\n",
       "      <td>...</td>\n",
       "      <td>...</td>\n",
       "      <td>...</td>\n",
       "      <td>...</td>\n",
       "      <td>...</td>\n",
       "      <td>...</td>\n",
       "      <td>...</td>\n",
       "      <td>...</td>\n",
       "      <td>...</td>\n",
       "      <td>...</td>\n",
       "      <td>...</td>\n",
       "      <td>...</td>\n",
       "      <td>...</td>\n",
       "      <td>...</td>\n",
       "      <td>...</td>\n",
       "      <td>...</td>\n",
       "      <td>...</td>\n",
       "      <td>...</td>\n",
       "      <td>...</td>\n",
       "      <td>...</td>\n",
       "    </tr>\n",
       "    <tr>\n",
       "      <th>643685</th>\n",
       "      <td>1827860</td>\n",
       "      <td>2013</td>\n",
       "      <td>1</td>\n",
       "      <td>0</td>\n",
       "      <td>0</td>\n",
       "      <td>0</td>\n",
       "      <td>1</td>\n",
       "      <td>0</td>\n",
       "      <td>0</td>\n",
       "      <td>1</td>\n",
       "      <td>...</td>\n",
       "      <td>0.000000</td>\n",
       "      <td>0.000000</td>\n",
       "      <td>0.000000</td>\n",
       "      <td>0.000000</td>\n",
       "      <td>0.612903</td>\n",
       "      <td>0.000000</td>\n",
       "      <td>0.000000</td>\n",
       "      <td>0.000000</td>\n",
       "      <td>0.000000</td>\n",
       "      <td>0.000000</td>\n",
       "    </tr>\n",
       "    <tr>\n",
       "      <th>643686</th>\n",
       "      <td>1827860</td>\n",
       "      <td>2015</td>\n",
       "      <td>2</td>\n",
       "      <td>1</td>\n",
       "      <td>0</td>\n",
       "      <td>0</td>\n",
       "      <td>1</td>\n",
       "      <td>0</td>\n",
       "      <td>1</td>\n",
       "      <td>0</td>\n",
       "      <td>...</td>\n",
       "      <td>0.000000</td>\n",
       "      <td>0.000000</td>\n",
       "      <td>0.212121</td>\n",
       "      <td>0.212121</td>\n",
       "      <td>17.363636</td>\n",
       "      <td>0.000000</td>\n",
       "      <td>8.909091</td>\n",
       "      <td>0.000000</td>\n",
       "      <td>0.000000</td>\n",
       "      <td>7.121212</td>\n",
       "    </tr>\n",
       "    <tr>\n",
       "      <th>643687</th>\n",
       "      <td>1827860</td>\n",
       "      <td>2016</td>\n",
       "      <td>3</td>\n",
       "      <td>1</td>\n",
       "      <td>0</td>\n",
       "      <td>0</td>\n",
       "      <td>1</td>\n",
       "      <td>1</td>\n",
       "      <td>0</td>\n",
       "      <td>1</td>\n",
       "      <td>...</td>\n",
       "      <td>0.000000</td>\n",
       "      <td>0.000000</td>\n",
       "      <td>0.294118</td>\n",
       "      <td>0.205882</td>\n",
       "      <td>34.705882</td>\n",
       "      <td>0.000000</td>\n",
       "      <td>10.352941</td>\n",
       "      <td>1.705882</td>\n",
       "      <td>1.705882</td>\n",
       "      <td>23.911765</td>\n",
       "    </tr>\n",
       "    <tr>\n",
       "      <th>643688</th>\n",
       "      <td>1827869</td>\n",
       "      <td>2013</td>\n",
       "      <td>1</td>\n",
       "      <td>1</td>\n",
       "      <td>1</td>\n",
       "      <td>0</td>\n",
       "      <td>0</td>\n",
       "      <td>0</td>\n",
       "      <td>1</td>\n",
       "      <td>0</td>\n",
       "      <td>...</td>\n",
       "      <td>0.000000</td>\n",
       "      <td>0.000000</td>\n",
       "      <td>0.000000</td>\n",
       "      <td>0.000000</td>\n",
       "      <td>0.000000</td>\n",
       "      <td>0.525424</td>\n",
       "      <td>0.000000</td>\n",
       "      <td>0.000000</td>\n",
       "      <td>0.000000</td>\n",
       "      <td>0.000000</td>\n",
       "    </tr>\n",
       "    <tr>\n",
       "      <th>643689</th>\n",
       "      <td>1827869</td>\n",
       "      <td>2014</td>\n",
       "      <td>2</td>\n",
       "      <td>0</td>\n",
       "      <td>0</td>\n",
       "      <td>1</td>\n",
       "      <td>0</td>\n",
       "      <td>0</td>\n",
       "      <td>1</td>\n",
       "      <td>0</td>\n",
       "      <td>...</td>\n",
       "      <td>0.000000</td>\n",
       "      <td>0.666667</td>\n",
       "      <td>0.666667</td>\n",
       "      <td>0.000000</td>\n",
       "      <td>0.000000</td>\n",
       "      <td>8.950000</td>\n",
       "      <td>1.033333</td>\n",
       "      <td>0.083333</td>\n",
       "      <td>0.083333</td>\n",
       "      <td>8.133333</td>\n",
       "    </tr>\n",
       "  </tbody>\n",
       "</table>\n",
       "<p>643690 rows × 164 columns</p>\n",
       "</div>"
      ],
      "text/plain": [
       "         persnr  year  nrEntry  ltue  employed_before  receipt_leh_before  \\\n",
       "0             7  2015        1     0                1                   0   \n",
       "1            18  2010        1     1                0                   0   \n",
       "2            18  2011        2     0                1                   0   \n",
       "3            18  2012        3     0                1                   0   \n",
       "4            18  2012        4     0                1                   0   \n",
       "...         ...   ...      ...   ...              ...                 ...   \n",
       "643685  1827860  2013        1     0                0                   0   \n",
       "643686  1827860  2015        2     1                0                   0   \n",
       "643687  1827860  2016        3     1                0                   0   \n",
       "643688  1827869  2013        1     1                1                   0   \n",
       "643689  1827869  2014        2     0                0                   1   \n",
       "\n",
       "        receipt_lhg_before  se_before  ASU_notue_seeking_before  \\\n",
       "0                        0          0                         1   \n",
       "1                        0          0                         0   \n",
       "2                        1          0                         1   \n",
       "3                        1          0                         1   \n",
       "4                        1          0                         1   \n",
       "...                    ...        ...                       ...   \n",
       "643685                   1          0                         0   \n",
       "643686                   1          0                         1   \n",
       "643687                   1          1                         0   \n",
       "643688                   0          0                         1   \n",
       "643689                   0          0                         1   \n",
       "\n",
       "        ASU_other_before  ...  minijob_tot_dur_byage  ft_tot_dur_byage  \\\n",
       "0                      0  ...               0.000000          0.000000   \n",
       "1                      0  ...               0.000000          0.000000   \n",
       "2                      0  ...               2.714286          2.714286   \n",
       "3                      0  ...               4.200000          4.200000   \n",
       "4                      0  ...               5.460000          5.460000   \n",
       "...                  ...  ...                    ...               ...   \n",
       "643685                 1  ...               0.000000          0.000000   \n",
       "643686                 0  ...               0.000000          0.000000   \n",
       "643687                 1  ...               0.000000          0.000000   \n",
       "643688                 0  ...               0.000000          0.000000   \n",
       "643689                 0  ...               0.000000          0.666667   \n",
       "\n",
       "        befrist_tot_dur_byage  leih_tot_dur_byage  LHG_tot_dur_byage  \\\n",
       "0                   15.043478            0.000000           0.000000   \n",
       "1                    0.000000            0.000000           0.000000   \n",
       "2                    0.000000            0.000000          10.775510   \n",
       "3                    0.000000            0.000000          12.100000   \n",
       "4                    0.000000            0.000000          13.360000   \n",
       "...                       ...                 ...                ...   \n",
       "643685               0.000000            0.000000           0.612903   \n",
       "643686               0.212121            0.212121          17.363636   \n",
       "643687               0.294118            0.205882          34.705882   \n",
       "643688               0.000000            0.000000           0.000000   \n",
       "643689               0.666667            0.000000           0.000000   \n",
       "\n",
       "        LEH_tot_dur_byage  almp_tot_dur_byage  almp_aw_tot_dur_byage  \\\n",
       "0                0.000000            0.000000               0.000000   \n",
       "1                0.000000            0.000000               0.000000   \n",
       "2                0.000000            8.367347               0.000000   \n",
       "3                0.000000            9.400000               0.000000   \n",
       "4                0.000000           10.320000               0.000000   \n",
       "...                   ...                 ...                    ...   \n",
       "643685           0.000000            0.000000               0.000000   \n",
       "643686           0.000000            8.909091               0.000000   \n",
       "643687           0.000000           10.352941               1.705882   \n",
       "643688           0.525424            0.000000               0.000000   \n",
       "643689           8.950000            1.033333               0.083333   \n",
       "\n",
       "        se_tot_dur_byage  seeking1_tot_dur_byage  \n",
       "0               0.000000                0.000000  \n",
       "1               0.000000                0.000000  \n",
       "2               0.000000                9.836735  \n",
       "3               0.000000                9.960000  \n",
       "4               0.000000               10.280000  \n",
       "...                  ...                     ...  \n",
       "643685          0.000000                0.000000  \n",
       "643686          0.000000                7.121212  \n",
       "643687          1.705882               23.911765  \n",
       "643688          0.000000                0.000000  \n",
       "643689          0.083333                8.133333  \n",
       "\n",
       "[643690 rows x 164 columns]"
      ]
     },
     "execution_count": 10,
     "metadata": {},
     "output_type": "execute_result"
    }
   ],
   "source": [
    "siab"
   ]
  },
  {
   "cell_type": "markdown",
   "id": "1f87e805",
   "metadata": {
    "papermill": {
     "duration": 0.009898,
     "end_time": "2025-08-19T18:48:45.000868",
     "exception": false,
     "start_time": "2025-08-19T18:48:44.990970",
     "status": "completed"
    },
    "tags": []
   },
   "source": [
    "# Splitting Data and Setting Training Data Size"
   ]
  },
  {
   "cell_type": "code",
   "execution_count": 11,
   "id": "910ae358",
   "metadata": {
    "execution": {
     "iopub.execute_input": "2025-08-19T18:48:45.030303Z",
     "iopub.status.busy": "2025-08-19T18:48:45.029880Z",
     "iopub.status.idle": "2025-08-19T18:48:45.253580Z",
     "shell.execute_reply": "2025-08-19T18:48:45.252797Z"
    },
    "papermill": {
     "duration": 0.244629,
     "end_time": "2025-08-19T18:48:45.255268",
     "exception": false,
     "start_time": "2025-08-19T18:48:45.010639",
     "status": "completed"
    },
    "tags": []
   },
   "outputs": [],
   "source": [
    "from fairness_multiverse.universe import sample_by_year_size\n",
    "\n",
    "siab_train = sample_by_year_size(siab,\n",
    "                               training_year=universe[\"training_year\"],\n",
    "                               training_size=universe[\"training_size\"])"
   ]
  },
  {
   "cell_type": "code",
   "execution_count": 12,
   "id": "919c8ff5",
   "metadata": {
    "execution": {
     "iopub.execute_input": "2025-08-19T18:48:45.276857Z",
     "iopub.status.busy": "2025-08-19T18:48:45.276547Z",
     "iopub.status.idle": "2025-08-19T18:48:45.282438Z",
     "shell.execute_reply": "2025-08-19T18:48:45.281755Z"
    },
    "papermill": {
     "duration": 0.019406,
     "end_time": "2025-08-19T18:48:45.285038",
     "exception": false,
     "start_time": "2025-08-19T18:48:45.265632",
     "status": "completed"
    },
    "tags": []
   },
   "outputs": [
    {
     "data": {
      "text/plain": [
       "(1000, 164)"
      ]
     },
     "execution_count": 12,
     "metadata": {},
     "output_type": "execute_result"
    }
   ],
   "source": [
    "siab_train.shape"
   ]
  },
  {
   "cell_type": "code",
   "execution_count": 13,
   "id": "feb13bf4",
   "metadata": {
    "execution": {
     "iopub.execute_input": "2025-08-19T18:48:45.311330Z",
     "iopub.status.busy": "2025-08-19T18:48:45.310699Z",
     "iopub.status.idle": "2025-08-19T18:48:45.323495Z",
     "shell.execute_reply": "2025-08-19T18:48:45.322440Z"
    },
    "papermill": {
     "duration": 0.026653,
     "end_time": "2025-08-19T18:48:45.325059",
     "exception": false,
     "start_time": "2025-08-19T18:48:45.298406",
     "status": "completed"
    },
    "tags": []
   },
   "outputs": [
    {
     "data": {
      "text/plain": [
       "year\n",
       "2014    1000\n",
       "dtype: int64"
      ]
     },
     "metadata": {},
     "output_type": "display_data"
    }
   ],
   "source": [
    "display(siab_train.groupby(\"year\").size())"
   ]
  },
  {
   "cell_type": "code",
   "execution_count": 14,
   "id": "0997782f",
   "metadata": {
    "execution": {
     "iopub.execute_input": "2025-08-19T18:48:45.366335Z",
     "iopub.status.busy": "2025-08-19T18:48:45.365916Z",
     "iopub.status.idle": "2025-08-19T18:48:45.622726Z",
     "shell.execute_reply": "2025-08-19T18:48:45.621893Z"
    },
    "papermill": {
     "duration": 0.284371,
     "end_time": "2025-08-19T18:48:45.625351",
     "exception": false,
     "start_time": "2025-08-19T18:48:45.340980",
     "status": "completed"
    },
    "tags": []
   },
   "outputs": [],
   "source": [
    "#siab_train = siab_s[siab_s.year < 2015]\n",
    "siab_calib = siab[siab.year == 2015]\n",
    "siab_test = siab[siab.year == 2016]"
   ]
  },
  {
   "cell_type": "code",
   "execution_count": 15,
   "id": "2c1e4012",
   "metadata": {
    "execution": {
     "iopub.execute_input": "2025-08-19T18:48:45.663821Z",
     "iopub.status.busy": "2025-08-19T18:48:45.661644Z",
     "iopub.status.idle": "2025-08-19T18:48:45.670834Z",
     "shell.execute_reply": "2025-08-19T18:48:45.669404Z"
    },
    "papermill": {
     "duration": 0.025736,
     "end_time": "2025-08-19T18:48:45.673084",
     "exception": false,
     "start_time": "2025-08-19T18:48:45.647348",
     "status": "completed"
    },
    "tags": []
   },
   "outputs": [],
   "source": [
    "#siab_calib.shape"
   ]
  },
  {
   "cell_type": "code",
   "execution_count": 16,
   "id": "f66b54ca",
   "metadata": {
    "execution": {
     "iopub.execute_input": "2025-08-19T18:48:45.700393Z",
     "iopub.status.busy": "2025-08-19T18:48:45.699206Z",
     "iopub.status.idle": "2025-08-19T18:48:45.705794Z",
     "shell.execute_reply": "2025-08-19T18:48:45.704903Z"
    },
    "papermill": {
     "duration": 0.02647,
     "end_time": "2025-08-19T18:48:45.712636",
     "exception": false,
     "start_time": "2025-08-19T18:48:45.686166",
     "status": "completed"
    },
    "tags": []
   },
   "outputs": [],
   "source": [
    "#siab_test.shape"
   ]
  },
  {
   "cell_type": "code",
   "execution_count": 17,
   "id": "27e4384d",
   "metadata": {
    "execution": {
     "iopub.execute_input": "2025-08-19T18:48:45.735757Z",
     "iopub.status.busy": "2025-08-19T18:48:45.734789Z",
     "iopub.status.idle": "2025-08-19T18:48:45.744233Z",
     "shell.execute_reply": "2025-08-19T18:48:45.743378Z"
    },
    "papermill": {
     "duration": 0.022343,
     "end_time": "2025-08-19T18:48:45.745570",
     "exception": false,
     "start_time": "2025-08-19T18:48:45.723227",
     "status": "completed"
    },
    "tags": []
   },
   "outputs": [],
   "source": [
    "X_train = siab_train.iloc[:,4:164]\n",
    "y_train = siab_train.iloc[:, [3]]"
   ]
  },
  {
   "cell_type": "code",
   "execution_count": 18,
   "id": "08ee8389",
   "metadata": {
    "execution": {
     "iopub.execute_input": "2025-08-19T18:48:45.771153Z",
     "iopub.status.busy": "2025-08-19T18:48:45.770148Z",
     "iopub.status.idle": "2025-08-19T18:48:45.862092Z",
     "shell.execute_reply": "2025-08-19T18:48:45.861074Z"
    },
    "papermill": {
     "duration": 0.106745,
     "end_time": "2025-08-19T18:48:45.864815",
     "exception": false,
     "start_time": "2025-08-19T18:48:45.758070",
     "status": "completed"
    },
    "tags": []
   },
   "outputs": [],
   "source": [
    "X_calib = siab_calib.iloc[:,4:164]\n",
    "y_calib = siab_calib.iloc[:, [3]]"
   ]
  },
  {
   "cell_type": "code",
   "execution_count": 19,
   "id": "b7ff42e0",
   "metadata": {
    "execution": {
     "iopub.execute_input": "2025-08-19T18:48:45.903384Z",
     "iopub.status.busy": "2025-08-19T18:48:45.902179Z",
     "iopub.status.idle": "2025-08-19T18:48:45.963501Z",
     "shell.execute_reply": "2025-08-19T18:48:45.962687Z"
    },
    "papermill": {
     "duration": 0.077686,
     "end_time": "2025-08-19T18:48:45.966046",
     "exception": false,
     "start_time": "2025-08-19T18:48:45.888360",
     "status": "completed"
    },
    "tags": []
   },
   "outputs": [],
   "source": [
    "X_test = siab_test.iloc[:,4:164]\n",
    "y_true = siab_test.iloc[:, [3]]"
   ]
  },
  {
   "cell_type": "code",
   "execution_count": 20,
   "id": "0275101e",
   "metadata": {
    "execution": {
     "iopub.execute_input": "2025-08-19T18:48:46.005091Z",
     "iopub.status.busy": "2025-08-19T18:48:46.004008Z",
     "iopub.status.idle": "2025-08-19T18:48:46.122687Z",
     "shell.execute_reply": "2025-08-19T18:48:46.121967Z"
    },
    "papermill": {
     "duration": 0.135545,
     "end_time": "2025-08-19T18:48:46.125377",
     "exception": false,
     "start_time": "2025-08-19T18:48:45.989832",
     "status": "completed"
    },
    "tags": []
   },
   "outputs": [],
   "source": [
    "# Auxiliary data needed downstream in the pipeline\n",
    "\n",
    "org_train = X_train.copy()\n",
    "org_test = X_test.copy()\n",
    "org_calib = X_calib.copy()"
   ]
  },
  {
   "cell_type": "markdown",
   "id": "b461e618",
   "metadata": {
    "papermill": {
     "duration": 0.012764,
     "end_time": "2025-08-19T18:48:46.162522",
     "exception": false,
     "start_time": "2025-08-19T18:48:46.149758",
     "status": "completed"
    },
    "tags": []
   },
   "source": [
    "# Preprocessing Data"
   ]
  },
  {
   "cell_type": "code",
   "execution_count": 21,
   "id": "78e74c4b",
   "metadata": {
    "execution": {
     "iopub.execute_input": "2025-08-19T18:48:46.186277Z",
     "iopub.status.busy": "2025-08-19T18:48:46.185180Z",
     "iopub.status.idle": "2025-08-19T18:48:46.194991Z",
     "shell.execute_reply": "2025-08-19T18:48:46.193406Z"
    },
    "papermill": {
     "duration": 0.023372,
     "end_time": "2025-08-19T18:48:46.196504",
     "exception": false,
     "start_time": "2025-08-19T18:48:46.173132",
     "status": "completed"
    },
    "tags": []
   },
   "outputs": [],
   "source": [
    "# EXCLUDE PROTECTED FEATURES\n",
    "# --------------------------\n",
    "\n",
    "excluded_features = universe[\"exclude_features\"].split(\"-\")\n",
    "excluded_features_dictionary = {\n",
    "    \"nationality\": [\"maxdeutsch1\", \"maxdeutsch.Missing.\"],\n",
    "    \"sex\": [\"frau1\"],\n",
    "    \"age\": [\"age\"],\n",
    "}"
   ]
  },
  {
   "cell_type": "code",
   "execution_count": 22,
   "id": "f8e63555",
   "metadata": {
    "execution": {
     "iopub.execute_input": "2025-08-19T18:48:46.228079Z",
     "iopub.status.busy": "2025-08-19T18:48:46.226766Z",
     "iopub.status.idle": "2025-08-19T18:48:46.236796Z",
     "shell.execute_reply": "2025-08-19T18:48:46.235163Z"
    },
    "papermill": {
     "duration": 0.027825,
     "end_time": "2025-08-19T18:48:46.238224",
     "exception": false,
     "start_time": "2025-08-19T18:48:46.210399",
     "status": "completed"
    },
    "tags": []
   },
   "outputs": [],
   "source": [
    "excluded_features_columns = [\n",
    "    excluded_features_dictionary[f] for f in excluded_features if len(f) > 0 and f != \"none\"\n",
    "]"
   ]
  },
  {
   "cell_type": "code",
   "execution_count": 23,
   "id": "da781f7c",
   "metadata": {
    "execution": {
     "iopub.execute_input": "2025-08-19T18:48:46.264965Z",
     "iopub.status.busy": "2025-08-19T18:48:46.264307Z",
     "iopub.status.idle": "2025-08-19T18:48:46.271663Z",
     "shell.execute_reply": "2025-08-19T18:48:46.270563Z"
    },
    "papermill": {
     "duration": 0.020629,
     "end_time": "2025-08-19T18:48:46.272946",
     "exception": false,
     "start_time": "2025-08-19T18:48:46.252317",
     "status": "completed"
    },
    "tags": []
   },
   "outputs": [],
   "source": [
    "from fairness_multiverse.universe import flatten_once\n",
    "\n",
    "excluded_features_columns = flatten_once(excluded_features_columns)"
   ]
  },
  {
   "cell_type": "code",
   "execution_count": 24,
   "id": "37fef0f0",
   "metadata": {
    "execution": {
     "iopub.execute_input": "2025-08-19T18:48:46.297025Z",
     "iopub.status.busy": "2025-08-19T18:48:46.296290Z",
     "iopub.status.idle": "2025-08-19T18:48:46.304978Z",
     "shell.execute_reply": "2025-08-19T18:48:46.303504Z"
    },
    "papermill": {
     "duration": 0.023801,
     "end_time": "2025-08-19T18:48:46.307920",
     "exception": false,
     "start_time": "2025-08-19T18:48:46.284119",
     "status": "completed"
    },
    "tags": []
   },
   "outputs": [],
   "source": [
    "if len(excluded_features_columns) > 0:\n",
    "    print(f\"Dropping features: {excluded_features_columns}\")\n",
    "    X_train.drop(excluded_features_columns, axis=1, inplace=True)"
   ]
  },
  {
   "cell_type": "code",
   "execution_count": 25,
   "id": "d029e3e9",
   "metadata": {
    "execution": {
     "iopub.execute_input": "2025-08-19T18:48:46.332426Z",
     "iopub.status.busy": "2025-08-19T18:48:46.331327Z",
     "iopub.status.idle": "2025-08-19T18:48:46.350050Z",
     "shell.execute_reply": "2025-08-19T18:48:46.348787Z"
    },
    "papermill": {
     "duration": 0.032633,
     "end_time": "2025-08-19T18:48:46.352010",
     "exception": false,
     "start_time": "2025-08-19T18:48:46.319377",
     "status": "completed"
    },
    "tags": []
   },
   "outputs": [],
   "source": [
    "if len(excluded_features_columns) > 0:\n",
    "    print(f\"Dropping features: {excluded_features_columns}\")\n",
    "    X_test.drop(excluded_features_columns, axis=1, inplace=True)"
   ]
  },
  {
   "cell_type": "code",
   "execution_count": 26,
   "id": "01d571f0",
   "metadata": {
    "execution": {
     "iopub.execute_input": "2025-08-19T18:48:46.380928Z",
     "iopub.status.busy": "2025-08-19T18:48:46.380078Z",
     "iopub.status.idle": "2025-08-19T18:48:46.388566Z",
     "shell.execute_reply": "2025-08-19T18:48:46.387290Z"
    },
    "papermill": {
     "duration": 0.023016,
     "end_time": "2025-08-19T18:48:46.390651",
     "exception": false,
     "start_time": "2025-08-19T18:48:46.367635",
     "status": "completed"
    },
    "tags": []
   },
   "outputs": [],
   "source": [
    "if len(excluded_features_columns) > 0:\n",
    "    print(f\"Dropping features: {excluded_features_columns}\")\n",
    "    X_calib.drop(excluded_features_columns, axis=1, inplace=True)"
   ]
  },
  {
   "cell_type": "code",
   "execution_count": 27,
   "id": "3037356e",
   "metadata": {
    "execution": {
     "iopub.execute_input": "2025-08-19T18:48:46.416978Z",
     "iopub.status.busy": "2025-08-19T18:48:46.415733Z",
     "iopub.status.idle": "2025-08-19T18:48:46.423431Z",
     "shell.execute_reply": "2025-08-19T18:48:46.422161Z"
    },
    "papermill": {
     "duration": 0.021188,
     "end_time": "2025-08-19T18:48:46.424818",
     "exception": false,
     "start_time": "2025-08-19T18:48:46.403630",
     "status": "completed"
    },
    "tags": []
   },
   "outputs": [],
   "source": [
    "# EXCLUDE CERTAIN SUBGROUPS\n",
    "# -------------------------\n",
    "\n",
    "mode = universe.get(\"exclude_subgroups\", \"keep-all\") # Defaults to \"keep-all\" if the key is missing."
   ]
  },
  {
   "cell_type": "code",
   "execution_count": 28,
   "id": "9d1e63fd",
   "metadata": {
    "execution": {
     "iopub.execute_input": "2025-08-19T18:48:46.449992Z",
     "iopub.status.busy": "2025-08-19T18:48:46.448681Z",
     "iopub.status.idle": "2025-08-19T18:48:46.460727Z",
     "shell.execute_reply": "2025-08-19T18:48:46.459251Z"
    },
    "papermill": {
     "duration": 0.026371,
     "end_time": "2025-08-19T18:48:46.462233",
     "exception": false,
     "start_time": "2025-08-19T18:48:46.435862",
     "status": "completed"
    },
    "tags": []
   },
   "outputs": [],
   "source": [
    "if mode == \"keep-all\":\n",
    "    keep_mask = pd.Series(True, index=org_train.index)\n",
    "\n",
    "elif mode == \"drop-non-german\":\n",
    "    keep_mask = (org_train[\"maxdeutsch1\"] == 1) & (org_train[\"maxdeutsch.Missing.\"] == 0)\n",
    "\n",
    "else:\n",
    "    raise ValueError(f\"Unsupported mode for exclude_subgroups: {mode}\")"
   ]
  },
  {
   "cell_type": "code",
   "execution_count": 29,
   "id": "d3b65474",
   "metadata": {
    "execution": {
     "iopub.execute_input": "2025-08-19T18:48:46.489316Z",
     "iopub.status.busy": "2025-08-19T18:48:46.488170Z",
     "iopub.status.idle": "2025-08-19T18:48:46.497869Z",
     "shell.execute_reply": "2025-08-19T18:48:46.496649Z"
    },
    "papermill": {
     "duration": 0.02369,
     "end_time": "2025-08-19T18:48:46.499225",
     "exception": false,
     "start_time": "2025-08-19T18:48:46.475535",
     "status": "completed"
    },
    "tags": []
   },
   "outputs": [],
   "source": [
    "n_drop = (~keep_mask).sum() # Calculates how many rows are set to be dropped\n",
    "if n_drop > 0:\n",
    "    pct = n_drop / len(keep_mask) * 100\n",
    "    print(f\"Dropping {n_drop} rows ({pct:.2f}%) where mode='{mode}'\")"
   ]
  },
  {
   "cell_type": "code",
   "execution_count": 30,
   "id": "f44389b3",
   "metadata": {
    "execution": {
     "iopub.execute_input": "2025-08-19T18:48:46.525790Z",
     "iopub.status.busy": "2025-08-19T18:48:46.524689Z",
     "iopub.status.idle": "2025-08-19T18:48:46.536421Z",
     "shell.execute_reply": "2025-08-19T18:48:46.535342Z"
    },
    "papermill": {
     "duration": 0.025685,
     "end_time": "2025-08-19T18:48:46.538090",
     "exception": false,
     "start_time": "2025-08-19T18:48:46.512405",
     "status": "completed"
    },
    "tags": []
   },
   "outputs": [],
   "source": [
    "X_train = X_train[keep_mask]"
   ]
  },
  {
   "cell_type": "code",
   "execution_count": 31,
   "id": "ceca8c2a",
   "metadata": {
    "execution": {
     "iopub.execute_input": "2025-08-19T18:48:46.578295Z",
     "iopub.status.busy": "2025-08-19T18:48:46.577174Z",
     "iopub.status.idle": "2025-08-19T18:48:46.587141Z",
     "shell.execute_reply": "2025-08-19T18:48:46.585006Z"
    },
    "papermill": {
     "duration": 0.034158,
     "end_time": "2025-08-19T18:48:46.589178",
     "exception": false,
     "start_time": "2025-08-19T18:48:46.555020",
     "status": "completed"
    },
    "tags": []
   },
   "outputs": [],
   "source": [
    "y_train = y_train[keep_mask]"
   ]
  },
  {
   "cell_type": "markdown",
   "id": "04d31e2f",
   "metadata": {
    "papermill": {
     "duration": 0.033982,
     "end_time": "2025-08-19T18:48:46.634690",
     "exception": false,
     "start_time": "2025-08-19T18:48:46.600708",
     "status": "completed"
    },
    "tags": []
   },
   "source": [
    "# Model Training"
   ]
  },
  {
   "cell_type": "code",
   "execution_count": 32,
   "id": "db991733",
   "metadata": {
    "execution": {
     "iopub.execute_input": "2025-08-19T18:48:46.688695Z",
     "iopub.status.busy": "2025-08-19T18:48:46.688254Z",
     "iopub.status.idle": "2025-08-19T18:48:46.801194Z",
     "shell.execute_reply": "2025-08-19T18:48:46.800414Z"
    },
    "papermill": {
     "duration": 0.14024,
     "end_time": "2025-08-19T18:48:46.802825",
     "exception": false,
     "start_time": "2025-08-19T18:48:46.662585",
     "status": "completed"
    },
    "tags": []
   },
   "outputs": [],
   "source": [
    "from sklearn.linear_model import LogisticRegression\n",
    "from sklearn.ensemble import GradientBoostingClassifier, RandomForestClassifier\n",
    "\n",
    "if (universe[\"model\"] == \"logreg\"):\n",
    "    model = LogisticRegression() #penalty=\"none\", solver=\"newton-cg\", max_iter=1)\n",
    "elif (universe[\"model\"] == \"penalized_logreg\"):\n",
    "    model = LogisticRegression(penalty=\"l2\", C=0.1) #, solver=\"newton-cg\", max_iter=1)\n",
    "elif (universe[\"model\"] == \"rf\"):\n",
    "    model = RandomForestClassifier() # n_estimators=100, n_jobs=-1\n",
    "elif (universe[\"model\"] == \"gbm\"):\n",
    "    model = GradientBoostingClassifier()\n",
    "elif (universe[\"model\"] == \"elasticnet\"):\n",
    "    model = LogisticRegression(penalty = 'elasticnet', solver = 'saga', l1_ratio = 0.5) # max_iter=5000\n",
    "else:\n",
    "    raise \"Unsupported universe.model\""
   ]
  },
  {
   "cell_type": "code",
   "execution_count": 33,
   "id": "a4b5cd25",
   "metadata": {
    "execution": {
     "iopub.execute_input": "2025-08-19T18:48:46.827727Z",
     "iopub.status.busy": "2025-08-19T18:48:46.827320Z",
     "iopub.status.idle": "2025-08-19T18:48:46.833383Z",
     "shell.execute_reply": "2025-08-19T18:48:46.832580Z"
    },
    "papermill": {
     "duration": 0.019199,
     "end_time": "2025-08-19T18:48:46.834543",
     "exception": false,
     "start_time": "2025-08-19T18:48:46.815344",
     "status": "completed"
    },
    "tags": []
   },
   "outputs": [],
   "source": [
    "from sklearn.pipeline import Pipeline\n",
    "from sklearn.preprocessing import StandardScaler\n",
    "\n",
    "model = Pipeline([\n",
    "    #(\"continuous_processor\", continuous_processor),\n",
    "    #(\"categorical_preprocessor\", categorical_preprocessor),\n",
    "    (\"scale\", StandardScaler() if universe[\"scale\"] == \"scale\" else None), \n",
    "    (\"model\", model),\n",
    "])"
   ]
  },
  {
   "cell_type": "code",
   "execution_count": 34,
   "id": "283a904d",
   "metadata": {
    "execution": {
     "iopub.execute_input": "2025-08-19T18:48:46.861263Z",
     "iopub.status.busy": "2025-08-19T18:48:46.860842Z",
     "iopub.status.idle": "2025-08-19T18:48:47.040502Z",
     "shell.execute_reply": "2025-08-19T18:48:47.039681Z"
    },
    "papermill": {
     "duration": 0.193633,
     "end_time": "2025-08-19T18:48:47.041779",
     "exception": false,
     "start_time": "2025-08-19T18:48:46.848146",
     "status": "completed"
    },
    "tags": []
   },
   "outputs": [
    {
     "name": "stderr",
     "output_type": "stream",
     "text": [
      "/dss/dsshome1/0C/ra93lal2/.local/share/virtualenvs/CMA_Fairness_v2-3j10GkSs/lib/python3.10/site-packages/sklearn/linear_model/_logistic.py:444: ConvergenceWarning: lbfgs failed to converge (status=1):\n",
      "STOP: TOTAL NO. of ITERATIONS REACHED LIMIT.\n",
      "\n",
      "Increase the number of iterations (max_iter) or scale the data as shown in:\n",
      "    https://scikit-learn.org/stable/modules/preprocessing.html\n",
      "Please also refer to the documentation for alternative solver options:\n",
      "    https://scikit-learn.org/stable/modules/linear_model.html#logistic-regression\n",
      "  n_iter_i = _check_optimize_result(\n"
     ]
    },
    {
     "data": {
      "text/html": [
       "<style>#sk-container-id-1 {color: black;background-color: white;}#sk-container-id-1 pre{padding: 0;}#sk-container-id-1 div.sk-toggleable {background-color: white;}#sk-container-id-1 label.sk-toggleable__label {cursor: pointer;display: block;width: 100%;margin-bottom: 0;padding: 0.3em;box-sizing: border-box;text-align: center;}#sk-container-id-1 label.sk-toggleable__label-arrow:before {content: \"▸\";float: left;margin-right: 0.25em;color: #696969;}#sk-container-id-1 label.sk-toggleable__label-arrow:hover:before {color: black;}#sk-container-id-1 div.sk-estimator:hover label.sk-toggleable__label-arrow:before {color: black;}#sk-container-id-1 div.sk-toggleable__content {max-height: 0;max-width: 0;overflow: hidden;text-align: left;background-color: #f0f8ff;}#sk-container-id-1 div.sk-toggleable__content pre {margin: 0.2em;color: black;border-radius: 0.25em;background-color: #f0f8ff;}#sk-container-id-1 input.sk-toggleable__control:checked~div.sk-toggleable__content {max-height: 200px;max-width: 100%;overflow: auto;}#sk-container-id-1 input.sk-toggleable__control:checked~label.sk-toggleable__label-arrow:before {content: \"▾\";}#sk-container-id-1 div.sk-estimator input.sk-toggleable__control:checked~label.sk-toggleable__label {background-color: #d4ebff;}#sk-container-id-1 div.sk-label input.sk-toggleable__control:checked~label.sk-toggleable__label {background-color: #d4ebff;}#sk-container-id-1 input.sk-hidden--visually {border: 0;clip: rect(1px 1px 1px 1px);clip: rect(1px, 1px, 1px, 1px);height: 1px;margin: -1px;overflow: hidden;padding: 0;position: absolute;width: 1px;}#sk-container-id-1 div.sk-estimator {font-family: monospace;background-color: #f0f8ff;border: 1px dotted black;border-radius: 0.25em;box-sizing: border-box;margin-bottom: 0.5em;}#sk-container-id-1 div.sk-estimator:hover {background-color: #d4ebff;}#sk-container-id-1 div.sk-parallel-item::after {content: \"\";width: 100%;border-bottom: 1px solid gray;flex-grow: 1;}#sk-container-id-1 div.sk-label:hover label.sk-toggleable__label {background-color: #d4ebff;}#sk-container-id-1 div.sk-serial::before {content: \"\";position: absolute;border-left: 1px solid gray;box-sizing: border-box;top: 0;bottom: 0;left: 50%;z-index: 0;}#sk-container-id-1 div.sk-serial {display: flex;flex-direction: column;align-items: center;background-color: white;padding-right: 0.2em;padding-left: 0.2em;position: relative;}#sk-container-id-1 div.sk-item {position: relative;z-index: 1;}#sk-container-id-1 div.sk-parallel {display: flex;align-items: stretch;justify-content: center;background-color: white;position: relative;}#sk-container-id-1 div.sk-item::before, #sk-container-id-1 div.sk-parallel-item::before {content: \"\";position: absolute;border-left: 1px solid gray;box-sizing: border-box;top: 0;bottom: 0;left: 50%;z-index: -1;}#sk-container-id-1 div.sk-parallel-item {display: flex;flex-direction: column;z-index: 1;position: relative;background-color: white;}#sk-container-id-1 div.sk-parallel-item:first-child::after {align-self: flex-end;width: 50%;}#sk-container-id-1 div.sk-parallel-item:last-child::after {align-self: flex-start;width: 50%;}#sk-container-id-1 div.sk-parallel-item:only-child::after {width: 0;}#sk-container-id-1 div.sk-dashed-wrapped {border: 1px dashed gray;margin: 0 0.4em 0.5em 0.4em;box-sizing: border-box;padding-bottom: 0.4em;background-color: white;}#sk-container-id-1 div.sk-label label {font-family: monospace;font-weight: bold;display: inline-block;line-height: 1.2em;}#sk-container-id-1 div.sk-label-container {text-align: center;}#sk-container-id-1 div.sk-container {/* jupyter's `normalize.less` sets `[hidden] { display: none; }` but bootstrap.min.css set `[hidden] { display: none !important; }` so we also need the `!important` here to be able to override the default hidden behavior on the sphinx rendered scikit-learn.org. See: https://github.com/scikit-learn/scikit-learn/issues/21755 */display: inline-block !important;position: relative;}#sk-container-id-1 div.sk-text-repr-fallback {display: none;}</style><div id=\"sk-container-id-1\" class=\"sk-top-container\"><div class=\"sk-text-repr-fallback\"><pre>Pipeline(steps=[(&#x27;scale&#x27;, StandardScaler()), (&#x27;model&#x27;, LogisticRegression())])</pre><b>In a Jupyter environment, please rerun this cell to show the HTML representation or trust the notebook. <br />On GitHub, the HTML representation is unable to render, please try loading this page with nbviewer.org.</b></div><div class=\"sk-container\" hidden><div class=\"sk-item sk-dashed-wrapped\"><div class=\"sk-label-container\"><div class=\"sk-label sk-toggleable\"><input class=\"sk-toggleable__control sk-hidden--visually\" id=\"sk-estimator-id-1\" type=\"checkbox\" ><label for=\"sk-estimator-id-1\" class=\"sk-toggleable__label sk-toggleable__label-arrow\">Pipeline</label><div class=\"sk-toggleable__content\"><pre>Pipeline(steps=[(&#x27;scale&#x27;, StandardScaler()), (&#x27;model&#x27;, LogisticRegression())])</pre></div></div></div><div class=\"sk-serial\"><div class=\"sk-item\"><div class=\"sk-estimator sk-toggleable\"><input class=\"sk-toggleable__control sk-hidden--visually\" id=\"sk-estimator-id-2\" type=\"checkbox\" ><label for=\"sk-estimator-id-2\" class=\"sk-toggleable__label sk-toggleable__label-arrow\">StandardScaler</label><div class=\"sk-toggleable__content\"><pre>StandardScaler()</pre></div></div></div><div class=\"sk-item\"><div class=\"sk-estimator sk-toggleable\"><input class=\"sk-toggleable__control sk-hidden--visually\" id=\"sk-estimator-id-3\" type=\"checkbox\" ><label for=\"sk-estimator-id-3\" class=\"sk-toggleable__label sk-toggleable__label-arrow\">LogisticRegression</label><div class=\"sk-toggleable__content\"><pre>LogisticRegression()</pre></div></div></div></div></div></div></div>"
      ],
      "text/plain": [
       "Pipeline(steps=[('scale', StandardScaler()), ('model', LogisticRegression())])"
      ]
     },
     "execution_count": 34,
     "metadata": {},
     "output_type": "execute_result"
    }
   ],
   "source": [
    "model.fit(X_train, y_train.values.ravel())"
   ]
  },
  {
   "cell_type": "code",
   "execution_count": 35,
   "id": "6e15e313",
   "metadata": {
    "execution": {
     "iopub.execute_input": "2025-08-19T18:48:47.087743Z",
     "iopub.status.busy": "2025-08-19T18:48:47.087204Z",
     "iopub.status.idle": "2025-08-19T18:48:47.295086Z",
     "shell.execute_reply": "2025-08-19T18:48:47.294200Z"
    },
    "papermill": {
     "duration": 0.232826,
     "end_time": "2025-08-19T18:48:47.296299",
     "exception": false,
     "start_time": "2025-08-19T18:48:47.063473",
     "status": "completed"
    },
    "tags": []
   },
   "outputs": [
    {
     "data": {
      "text/plain": [
       "0.8172444543529149"
      ]
     },
     "execution_count": 35,
     "metadata": {},
     "output_type": "execute_result"
    }
   ],
   "source": [
    "from fairness_multiverse.universe import predict_w_threshold\n",
    "\n",
    "probs_test = model.predict_proba(X_test)\n",
    "\n",
    "'''\n",
    "Below code returns a boolean array (or binary 0/1 array depending on how it’s used) where each element \n",
    "is True if the probability of class 1 is greater than or equal to the threshold, and False otherwise.\n",
    "'''\n",
    "y_pred_default = predict_w_threshold(probs_test, 0.5)\n",
    "\n",
    "from sklearn.metrics import accuracy_score\n",
    "\n",
    "# Naive prediction\n",
    "accuracy_score(y_true = y_true, y_pred = y_pred_default)"
   ]
  },
  {
   "cell_type": "code",
   "execution_count": 36,
   "id": "6f14067c",
   "metadata": {
    "execution": {
     "iopub.execute_input": "2025-08-19T18:48:47.320881Z",
     "iopub.status.busy": "2025-08-19T18:48:47.320456Z",
     "iopub.status.idle": "2025-08-19T18:48:47.508918Z",
     "shell.execute_reply": "2025-08-19T18:48:47.508085Z"
    },
    "papermill": {
     "duration": 0.203443,
     "end_time": "2025-08-19T18:48:47.511374",
     "exception": false,
     "start_time": "2025-08-19T18:48:47.307931",
     "status": "completed"
    },
    "tags": []
   },
   "outputs": [
    {
     "data": {
      "text/plain": [
       "array([0, 0, 0, ..., 0, 0, 0])"
      ]
     },
     "execution_count": 36,
     "metadata": {},
     "output_type": "execute_result"
    }
   ],
   "source": [
    "model.predict(X_test)"
   ]
  },
  {
   "cell_type": "markdown",
   "id": "3759920c",
   "metadata": {
    "papermill": {
     "duration": 0.0357,
     "end_time": "2025-08-19T18:48:47.571717",
     "exception": false,
     "start_time": "2025-08-19T18:48:47.536017",
     "status": "completed"
    },
    "tags": []
   },
   "source": [
    "# Conformal Prediction"
   ]
  },
  {
   "cell_type": "code",
   "execution_count": 37,
   "id": "14b27f59",
   "metadata": {
    "execution": {
     "iopub.execute_input": "2025-08-19T18:48:47.595732Z",
     "iopub.status.busy": "2025-08-19T18:48:47.595332Z",
     "iopub.status.idle": "2025-08-19T18:48:47.600200Z",
     "shell.execute_reply": "2025-08-19T18:48:47.599374Z"
    },
    "papermill": {
     "duration": 0.018376,
     "end_time": "2025-08-19T18:48:47.601407",
     "exception": false,
     "start_time": "2025-08-19T18:48:47.583031",
     "status": "completed"
    },
    "tags": []
   },
   "outputs": [],
   "source": [
    "# Miscoverage level for conformal prediction (10% allowed error rate => 90% target coverage)\n",
    "alpha = 0.1"
   ]
  },
  {
   "cell_type": "code",
   "execution_count": 38,
   "id": "59102472",
   "metadata": {
    "execution": {
     "iopub.execute_input": "2025-08-19T18:48:47.626201Z",
     "iopub.status.busy": "2025-08-19T18:48:47.625891Z",
     "iopub.status.idle": "2025-08-19T18:48:47.819040Z",
     "shell.execute_reply": "2025-08-19T18:48:47.818244Z"
    },
    "papermill": {
     "duration": 0.207818,
     "end_time": "2025-08-19T18:48:47.820705",
     "exception": false,
     "start_time": "2025-08-19T18:48:47.612887",
     "status": "completed"
    },
    "tags": []
   },
   "outputs": [],
   "source": [
    "probs_calib = model.predict_proba(X_calib)"
   ]
  },
  {
   "cell_type": "code",
   "execution_count": 39,
   "id": "a792d4dd",
   "metadata": {
    "execution": {
     "iopub.execute_input": "2025-08-19T18:48:47.844540Z",
     "iopub.status.busy": "2025-08-19T18:48:47.844029Z",
     "iopub.status.idle": "2025-08-19T18:48:47.853266Z",
     "shell.execute_reply": "2025-08-19T18:48:47.851973Z"
    },
    "papermill": {
     "duration": 0.022536,
     "end_time": "2025-08-19T18:48:47.854598",
     "exception": false,
     "start_time": "2025-08-19T18:48:47.832062",
     "status": "completed"
    },
    "tags": []
   },
   "outputs": [],
   "source": [
    "y_calib = y_calib.values.ravel().astype(int)"
   ]
  },
  {
   "cell_type": "code",
   "execution_count": 40,
   "id": "650fd033",
   "metadata": {
    "execution": {
     "iopub.execute_input": "2025-08-19T18:48:47.896780Z",
     "iopub.status.busy": "2025-08-19T18:48:47.882160Z",
     "iopub.status.idle": "2025-08-19T18:48:47.903260Z",
     "shell.execute_reply": "2025-08-19T18:48:47.902581Z"
    },
    "papermill": {
     "duration": 0.037673,
     "end_time": "2025-08-19T18:48:47.906810",
     "exception": false,
     "start_time": "2025-08-19T18:48:47.869137",
     "status": "completed"
    },
    "tags": []
   },
   "outputs": [],
   "source": [
    "from fairness_multiverse.conformal import compute_nc_scores\n",
    "\n",
    "# Compute nonconformity scores on calibration set (1 - probability of true class)\n",
    "nc_scores = compute_nc_scores(probs_calib, y_calib)"
   ]
  },
  {
   "cell_type": "code",
   "execution_count": 41,
   "id": "28ada44c",
   "metadata": {
    "execution": {
     "iopub.execute_input": "2025-08-19T18:48:47.948288Z",
     "iopub.status.busy": "2025-08-19T18:48:47.947757Z",
     "iopub.status.idle": "2025-08-19T18:48:47.964332Z",
     "shell.execute_reply": "2025-08-19T18:48:47.963389Z"
    },
    "papermill": {
     "duration": 0.03426,
     "end_time": "2025-08-19T18:48:47.965989",
     "exception": false,
     "start_time": "2025-08-19T18:48:47.931729",
     "status": "completed"
    },
    "tags": []
   },
   "outputs": [],
   "source": [
    "from fairness_multiverse.conformal import find_threshold\n",
    "\n",
    "# Find conformal threshold q_hat for the given alpha (split conformal method)\n",
    "q_hat = find_threshold(nc_scores, alpha)"
   ]
  },
  {
   "cell_type": "code",
   "execution_count": 42,
   "id": "df56469e",
   "metadata": {
    "execution": {
     "iopub.execute_input": "2025-08-19T18:48:47.991368Z",
     "iopub.status.busy": "2025-08-19T18:48:47.991004Z",
     "iopub.status.idle": "2025-08-19T18:48:48.060336Z",
     "shell.execute_reply": "2025-08-19T18:48:48.059607Z"
    },
    "papermill": {
     "duration": 0.08268,
     "end_time": "2025-08-19T18:48:48.061663",
     "exception": false,
     "start_time": "2025-08-19T18:48:47.978983",
     "status": "completed"
    },
    "tags": []
   },
   "outputs": [
    {
     "data": {
      "text/plain": [
       "0.8062584725439237"
      ]
     },
     "execution_count": 42,
     "metadata": {},
     "output_type": "execute_result"
    }
   ],
   "source": [
    "q_hat"
   ]
  },
  {
   "cell_type": "code",
   "execution_count": 43,
   "id": "aa1f5faa",
   "metadata": {
    "execution": {
     "iopub.execute_input": "2025-08-19T18:48:48.087039Z",
     "iopub.status.busy": "2025-08-19T18:48:48.086662Z",
     "iopub.status.idle": "2025-08-19T18:48:48.757979Z",
     "shell.execute_reply": "2025-08-19T18:48:48.757001Z"
    },
    "papermill": {
     "duration": 0.685384,
     "end_time": "2025-08-19T18:48:48.759635",
     "exception": false,
     "start_time": "2025-08-19T18:48:48.074251",
     "status": "completed"
    },
    "tags": []
   },
   "outputs": [],
   "source": [
    "from fairness_multiverse.conformal import predict_conformal_sets\n",
    "\n",
    "# Generate prediction sets for each test example\n",
    "pred_sets = predict_conformal_sets(model, X_test, q_hat)"
   ]
  },
  {
   "cell_type": "code",
   "execution_count": 44,
   "id": "97f67a6b",
   "metadata": {
    "execution": {
     "iopub.execute_input": "2025-08-19T18:48:48.784815Z",
     "iopub.status.busy": "2025-08-19T18:48:48.784221Z",
     "iopub.status.idle": "2025-08-19T18:48:48.793901Z",
     "shell.execute_reply": "2025-08-19T18:48:48.789454Z"
    },
    "papermill": {
     "duration": 0.023936,
     "end_time": "2025-08-19T18:48:48.795532",
     "exception": false,
     "start_time": "2025-08-19T18:48:48.771596",
     "status": "completed"
    },
    "tags": []
   },
   "outputs": [],
   "source": [
    "y_true = y_true.squeeze()"
   ]
  },
  {
   "cell_type": "code",
   "execution_count": 45,
   "id": "e700e9a7",
   "metadata": {
    "execution": {
     "iopub.execute_input": "2025-08-19T18:48:48.842061Z",
     "iopub.status.busy": "2025-08-19T18:48:48.841529Z",
     "iopub.status.idle": "2025-08-19T18:48:49.386835Z",
     "shell.execute_reply": "2025-08-19T18:48:49.385582Z"
    },
    "papermill": {
     "duration": 0.576182,
     "end_time": "2025-08-19T18:48:49.388732",
     "exception": false,
     "start_time": "2025-08-19T18:48:48.812550",
     "status": "completed"
    },
    "tags": []
   },
   "outputs": [],
   "source": [
    "from fairness_multiverse.conformal import evaluate_sets\n",
    "\n",
    "# Evaluate coverage and average set size on test data\n",
    "metrics = evaluate_sets(pred_sets, y_true)"
   ]
  },
  {
   "cell_type": "markdown",
   "id": "efbacec0",
   "metadata": {
    "papermill": {
     "duration": 0.011647,
     "end_time": "2025-08-19T18:48:49.412507",
     "exception": false,
     "start_time": "2025-08-19T18:48:49.400860",
     "status": "completed"
    },
    "tags": []
   },
   "source": [
    "# CP Metrics"
   ]
  },
  {
   "cell_type": "code",
   "execution_count": 46,
   "id": "9de55fb1",
   "metadata": {
    "execution": {
     "iopub.execute_input": "2025-08-19T18:48:49.437827Z",
     "iopub.status.busy": "2025-08-19T18:48:49.437116Z",
     "iopub.status.idle": "2025-08-19T18:48:49.447258Z",
     "shell.execute_reply": "2025-08-19T18:48:49.446590Z"
    },
    "papermill": {
     "duration": 0.024686,
     "end_time": "2025-08-19T18:48:49.448608",
     "exception": false,
     "start_time": "2025-08-19T18:48:49.423922",
     "status": "completed"
    },
    "tags": []
   },
   "outputs": [
    {
     "data": {
      "text/plain": [
       "{'coverage': 0.906342659681195, 'avg_size': 1.2407646862111248}"
      ]
     },
     "execution_count": 46,
     "metadata": {},
     "output_type": "execute_result"
    }
   ],
   "source": [
    "metrics"
   ]
  },
  {
   "cell_type": "code",
   "execution_count": 47,
   "id": "64c340a1",
   "metadata": {
    "execution": {
     "iopub.execute_input": "2025-08-19T18:48:49.474678Z",
     "iopub.status.busy": "2025-08-19T18:48:49.474121Z",
     "iopub.status.idle": "2025-08-19T18:48:49.480143Z",
     "shell.execute_reply": "2025-08-19T18:48:49.479239Z"
    },
    "papermill": {
     "duration": 0.020624,
     "end_time": "2025-08-19T18:48:49.481607",
     "exception": false,
     "start_time": "2025-08-19T18:48:49.460983",
     "status": "completed"
    },
    "tags": []
   },
   "outputs": [],
   "source": [
    "example_universe = universe.copy()\n",
    "universe_training_year = example_universe.get(\"training_year\")\n",
    "universe_training_size = example_universe.get(\"training_size\")\n",
    "universe_scale = example_universe.get(\"scale\")\n",
    "universe_model = example_universe.get(\"model\")\n",
    "universe_exclude_features = example_universe.get(\"exclude_features\")\n",
    "universe_exclude_subgroups = example_universe.get(\"exclude_subgroups\")"
   ]
  },
  {
   "cell_type": "code",
   "execution_count": 48,
   "id": "dbb53cb4",
   "metadata": {
    "execution": {
     "iopub.execute_input": "2025-08-19T18:48:49.507804Z",
     "iopub.status.busy": "2025-08-19T18:48:49.507233Z",
     "iopub.status.idle": "2025-08-19T18:48:49.513243Z",
     "shell.execute_reply": "2025-08-19T18:48:49.512341Z"
    },
    "papermill": {
     "duration": 0.020338,
     "end_time": "2025-08-19T18:48:49.514732",
     "exception": false,
     "start_time": "2025-08-19T18:48:49.494394",
     "status": "completed"
    },
    "tags": []
   },
   "outputs": [],
   "source": [
    "cp_metrics_dict = {\n",
    "    \"universe_id\": [universe_id],\n",
    "    \"universe_training_year\": [universe_training_year],\n",
    "    \"universe_training_size\": [universe_training_size],\n",
    "    \"universe_scale\": [universe_scale],\n",
    "    \"universe_model\": [universe_model],\n",
    "    \"universe_exclude_features\": [universe_exclude_features],\n",
    "    \"universe_exclude_subgroups\": [universe_exclude_subgroups],\n",
    "    \"q_hat\": [q_hat],\n",
    "    \"coverage\": [metrics[\"coverage\"]],\n",
    "    \"avg_size\": [metrics[\"avg_size\"]],\n",
    "}"
   ]
  },
  {
   "cell_type": "code",
   "execution_count": 49,
   "id": "0d70d4b2",
   "metadata": {
    "execution": {
     "iopub.execute_input": "2025-08-19T18:48:49.539922Z",
     "iopub.status.busy": "2025-08-19T18:48:49.539540Z",
     "iopub.status.idle": "2025-08-19T18:48:49.546553Z",
     "shell.execute_reply": "2025-08-19T18:48:49.545723Z"
    },
    "papermill": {
     "duration": 0.020682,
     "end_time": "2025-08-19T18:48:49.547814",
     "exception": false,
     "start_time": "2025-08-19T18:48:49.527132",
     "status": "completed"
    },
    "tags": []
   },
   "outputs": [],
   "source": [
    "cp_metrics_df = pd.DataFrame(cp_metrics_dict)"
   ]
  },
  {
   "cell_type": "code",
   "execution_count": 50,
   "id": "b494403c",
   "metadata": {
    "execution": {
     "iopub.execute_input": "2025-08-19T18:48:49.573204Z",
     "iopub.status.busy": "2025-08-19T18:48:49.572749Z",
     "iopub.status.idle": "2025-08-19T18:48:49.585947Z",
     "shell.execute_reply": "2025-08-19T18:48:49.584959Z"
    },
    "papermill": {
     "duration": 0.02747,
     "end_time": "2025-08-19T18:48:49.587706",
     "exception": false,
     "start_time": "2025-08-19T18:48:49.560236",
     "status": "completed"
    },
    "tags": []
   },
   "outputs": [
    {
     "data": {
      "text/html": [
       "<div>\n",
       "<style scoped>\n",
       "    .dataframe tbody tr th:only-of-type {\n",
       "        vertical-align: middle;\n",
       "    }\n",
       "\n",
       "    .dataframe tbody tr th {\n",
       "        vertical-align: top;\n",
       "    }\n",
       "\n",
       "    .dataframe thead th {\n",
       "        text-align: right;\n",
       "    }\n",
       "</style>\n",
       "<table border=\"1\" class=\"dataframe\">\n",
       "  <thead>\n",
       "    <tr style=\"text-align: right;\">\n",
       "      <th></th>\n",
       "      <th>universe_id</th>\n",
       "      <th>universe_training_year</th>\n",
       "      <th>universe_training_size</th>\n",
       "      <th>universe_scale</th>\n",
       "      <th>universe_model</th>\n",
       "      <th>universe_exclude_features</th>\n",
       "      <th>universe_exclude_subgroups</th>\n",
       "      <th>q_hat</th>\n",
       "      <th>coverage</th>\n",
       "      <th>avg_size</th>\n",
       "    </tr>\n",
       "  </thead>\n",
       "  <tbody>\n",
       "    <tr>\n",
       "      <th>0</th>\n",
       "      <td>d535e36094cee0333b14963be1408916</td>\n",
       "      <td>2014</td>\n",
       "      <td>1k</td>\n",
       "      <td>scale</td>\n",
       "      <td>logreg</td>\n",
       "      <td>none</td>\n",
       "      <td>keep-all</td>\n",
       "      <td>0.806258</td>\n",
       "      <td>0.906343</td>\n",
       "      <td>1.240765</td>\n",
       "    </tr>\n",
       "  </tbody>\n",
       "</table>\n",
       "</div>"
      ],
      "text/plain": [
       "                        universe_id universe_training_year  \\\n",
       "0  d535e36094cee0333b14963be1408916                   2014   \n",
       "\n",
       "  universe_training_size universe_scale universe_model  \\\n",
       "0                     1k          scale         logreg   \n",
       "\n",
       "  universe_exclude_features universe_exclude_subgroups     q_hat  coverage  \\\n",
       "0                      none                   keep-all  0.806258  0.906343   \n",
       "\n",
       "   avg_size  \n",
       "0  1.240765  "
      ]
     },
     "execution_count": 50,
     "metadata": {},
     "output_type": "execute_result"
    }
   ],
   "source": [
    "cp_metrics_df"
   ]
  },
  {
   "cell_type": "markdown",
   "id": "ed608b0b",
   "metadata": {
    "papermill": {
     "duration": 0.011568,
     "end_time": "2025-08-19T18:48:49.613236",
     "exception": false,
     "start_time": "2025-08-19T18:48:49.601668",
     "status": "completed"
    },
    "tags": []
   },
   "source": [
    "Conditional coverage & looking at subgroups"
   ]
  },
  {
   "cell_type": "code",
   "execution_count": 51,
   "id": "8968c366",
   "metadata": {
    "execution": {
     "iopub.execute_input": "2025-08-19T18:48:49.639095Z",
     "iopub.status.busy": "2025-08-19T18:48:49.638198Z",
     "iopub.status.idle": "2025-08-19T18:48:49.980332Z",
     "shell.execute_reply": "2025-08-19T18:48:49.979508Z"
    },
    "papermill": {
     "duration": 0.357186,
     "end_time": "2025-08-19T18:48:49.982096",
     "exception": false,
     "start_time": "2025-08-19T18:48:49.624910",
     "status": "completed"
    },
    "tags": []
   },
   "outputs": [],
   "source": [
    "from fairness_multiverse.conformal import build_cp_groups\n",
    "\n",
    "cp_groups_df = build_cp_groups(pred_sets, y_true, X_test.index, org_test)"
   ]
  },
  {
   "cell_type": "code",
   "execution_count": 52,
   "id": "292ddabf",
   "metadata": {
    "execution": {
     "iopub.execute_input": "2025-08-19T18:48:50.012083Z",
     "iopub.status.busy": "2025-08-19T18:48:50.007873Z",
     "iopub.status.idle": "2025-08-19T18:48:50.898155Z",
     "shell.execute_reply": "2025-08-19T18:48:50.896935Z"
    },
    "papermill": {
     "duration": 0.905372,
     "end_time": "2025-08-19T18:48:50.899933",
     "exception": false,
     "start_time": "2025-08-19T18:48:49.994561",
     "status": "completed"
    },
    "tags": []
   },
   "outputs": [],
   "source": [
    "# Define covered = 1 if true_label is in the predicted set\n",
    "cp_groups_df['covered'] = cp_groups_df.apply(\n",
    "    lambda r: int(r['true_label'] in r['pred_set']),\n",
    "    axis=1\n",
    ")"
   ]
  },
  {
   "cell_type": "code",
   "execution_count": 53,
   "id": "3a261692",
   "metadata": {
    "execution": {
     "iopub.execute_input": "2025-08-19T18:48:50.926195Z",
     "iopub.status.busy": "2025-08-19T18:48:50.925868Z",
     "iopub.status.idle": "2025-08-19T18:48:50.938954Z",
     "shell.execute_reply": "2025-08-19T18:48:50.938289Z"
    },
    "papermill": {
     "duration": 0.028156,
     "end_time": "2025-08-19T18:48:50.940944",
     "exception": false,
     "start_time": "2025-08-19T18:48:50.912788",
     "status": "completed"
    },
    "tags": []
   },
   "outputs": [],
   "source": [
    "subgroups = ['frau1','nongerman','nongerman_male','nongerman_female']\n",
    "\n",
    "# Conditional coverage for subgroup==1\n",
    "cond_coverage = {\n",
    "    g: cp_groups_df.loc[cp_groups_df[g]==1, 'covered'].mean()\n",
    "    for g in subgroups\n",
    "}"
   ]
  },
  {
   "cell_type": "code",
   "execution_count": 54,
   "id": "894fd600",
   "metadata": {
    "execution": {
     "iopub.execute_input": "2025-08-19T18:48:50.966770Z",
     "iopub.status.busy": "2025-08-19T18:48:50.966502Z",
     "iopub.status.idle": "2025-08-19T18:48:50.972184Z",
     "shell.execute_reply": "2025-08-19T18:48:50.971579Z"
    },
    "papermill": {
     "duration": 0.020775,
     "end_time": "2025-08-19T18:48:50.974739",
     "exception": false,
     "start_time": "2025-08-19T18:48:50.953964",
     "status": "completed"
    },
    "tags": []
   },
   "outputs": [
    {
     "data": {
      "text/plain": [
       "{'frau1': 0.9048119692680955,\n",
       " 'nongerman': 0.9113007354179532,\n",
       " 'nongerman_male': 0.9283076645951545,\n",
       " 'nongerman_female': 0.8831594634873323}"
      ]
     },
     "execution_count": 54,
     "metadata": {},
     "output_type": "execute_result"
    }
   ],
   "source": [
    "cond_coverage"
   ]
  },
  {
   "cell_type": "code",
   "execution_count": 55,
   "id": "942895c7",
   "metadata": {
    "execution": {
     "iopub.execute_input": "2025-08-19T18:48:51.000211Z",
     "iopub.status.busy": "2025-08-19T18:48:50.999934Z",
     "iopub.status.idle": "2025-08-19T18:48:51.005312Z",
     "shell.execute_reply": "2025-08-19T18:48:51.004652Z"
    },
    "papermill": {
     "duration": 0.019719,
     "end_time": "2025-08-19T18:48:51.007017",
     "exception": false,
     "start_time": "2025-08-19T18:48:50.987298",
     "status": "completed"
    },
    "tags": []
   },
   "outputs": [],
   "source": [
    "for subgroup, cov in cond_coverage.items():\n",
    "    cp_metrics_df[f\"cov_{subgroup}\"] = cov"
   ]
  },
  {
   "cell_type": "code",
   "execution_count": 56,
   "id": "3970120f",
   "metadata": {
    "execution": {
     "iopub.execute_input": "2025-08-19T18:48:51.033531Z",
     "iopub.status.busy": "2025-08-19T18:48:51.033238Z",
     "iopub.status.idle": "2025-08-19T18:48:51.049178Z",
     "shell.execute_reply": "2025-08-19T18:48:51.048437Z"
    },
    "papermill": {
     "duration": 0.031215,
     "end_time": "2025-08-19T18:48:51.051279",
     "exception": false,
     "start_time": "2025-08-19T18:48:51.020064",
     "status": "completed"
    },
    "tags": []
   },
   "outputs": [
    {
     "data": {
      "text/html": [
       "<div>\n",
       "<style scoped>\n",
       "    .dataframe tbody tr th:only-of-type {\n",
       "        vertical-align: middle;\n",
       "    }\n",
       "\n",
       "    .dataframe tbody tr th {\n",
       "        vertical-align: top;\n",
       "    }\n",
       "\n",
       "    .dataframe thead th {\n",
       "        text-align: right;\n",
       "    }\n",
       "</style>\n",
       "<table border=\"1\" class=\"dataframe\">\n",
       "  <thead>\n",
       "    <tr style=\"text-align: right;\">\n",
       "      <th></th>\n",
       "      <th>universe_id</th>\n",
       "      <th>universe_training_year</th>\n",
       "      <th>universe_training_size</th>\n",
       "      <th>universe_scale</th>\n",
       "      <th>universe_model</th>\n",
       "      <th>universe_exclude_features</th>\n",
       "      <th>universe_exclude_subgroups</th>\n",
       "      <th>q_hat</th>\n",
       "      <th>coverage</th>\n",
       "      <th>avg_size</th>\n",
       "      <th>cov_frau1</th>\n",
       "      <th>cov_nongerman</th>\n",
       "      <th>cov_nongerman_male</th>\n",
       "      <th>cov_nongerman_female</th>\n",
       "    </tr>\n",
       "  </thead>\n",
       "  <tbody>\n",
       "    <tr>\n",
       "      <th>0</th>\n",
       "      <td>d535e36094cee0333b14963be1408916</td>\n",
       "      <td>2014</td>\n",
       "      <td>1k</td>\n",
       "      <td>scale</td>\n",
       "      <td>logreg</td>\n",
       "      <td>none</td>\n",
       "      <td>keep-all</td>\n",
       "      <td>0.806258</td>\n",
       "      <td>0.906343</td>\n",
       "      <td>1.240765</td>\n",
       "      <td>0.904812</td>\n",
       "      <td>0.911301</td>\n",
       "      <td>0.928308</td>\n",
       "      <td>0.883159</td>\n",
       "    </tr>\n",
       "  </tbody>\n",
       "</table>\n",
       "</div>"
      ],
      "text/plain": [
       "                        universe_id universe_training_year  \\\n",
       "0  d535e36094cee0333b14963be1408916                   2014   \n",
       "\n",
       "  universe_training_size universe_scale universe_model  \\\n",
       "0                     1k          scale         logreg   \n",
       "\n",
       "  universe_exclude_features universe_exclude_subgroups     q_hat  coverage  \\\n",
       "0                      none                   keep-all  0.806258  0.906343   \n",
       "\n",
       "   avg_size  cov_frau1  cov_nongerman  cov_nongerman_male  \\\n",
       "0  1.240765   0.904812       0.911301            0.928308   \n",
       "\n",
       "   cov_nongerman_female  \n",
       "0              0.883159  "
      ]
     },
     "execution_count": 56,
     "metadata": {},
     "output_type": "execute_result"
    }
   ],
   "source": [
    "cp_metrics_df"
   ]
  },
  {
   "cell_type": "markdown",
   "id": "3fc519cc",
   "metadata": {
    "papermill": {
     "duration": 0.012149,
     "end_time": "2025-08-19T18:48:51.078017",
     "exception": false,
     "start_time": "2025-08-19T18:48:51.065868",
     "status": "completed"
    },
    "tags": []
   },
   "source": [
    "# (Fairness) Metrics"
   ]
  },
  {
   "cell_type": "code",
   "execution_count": 57,
   "id": "a2e5e155",
   "metadata": {
    "execution": {
     "iopub.execute_input": "2025-08-19T18:48:51.103516Z",
     "iopub.status.busy": "2025-08-19T18:48:51.103214Z",
     "iopub.status.idle": "2025-08-19T18:48:51.122293Z",
     "shell.execute_reply": "2025-08-19T18:48:51.121629Z"
    },
    "papermill": {
     "duration": 0.033727,
     "end_time": "2025-08-19T18:48:51.123799",
     "exception": false,
     "start_time": "2025-08-19T18:48:51.090072",
     "status": "completed"
    },
    "tags": []
   },
   "outputs": [],
   "source": [
    "colname_to_bin = \"maxdeutsch1\"\n",
    "majority_value = org_train[colname_to_bin].mode()[0]\n",
    "\n",
    "org_test[\"majmin\"] = np.where(org_test[colname_to_bin] == majority_value, \"majority\", \"minority\")"
   ]
  },
  {
   "cell_type": "code",
   "execution_count": 58,
   "id": "17e3e4d5",
   "metadata": {
    "execution": {
     "iopub.execute_input": "2025-08-19T18:48:51.150688Z",
     "iopub.status.busy": "2025-08-19T18:48:51.150403Z",
     "iopub.status.idle": "2025-08-19T18:48:52.840032Z",
     "shell.execute_reply": "2025-08-19T18:48:52.838780Z"
    },
    "papermill": {
     "duration": 1.704755,
     "end_time": "2025-08-19T18:48:52.841990",
     "exception": false,
     "start_time": "2025-08-19T18:48:51.137235",
     "status": "completed"
    },
    "tags": []
   },
   "outputs": [],
   "source": [
    "example_universe = universe.copy()\n",
    "example_universe[\"cutoff\"] = example_universe[\"cutoff\"][0]\n",
    "example_universe[\"eval_fairness_grouping\"] = example_universe[\"eval_fairness_grouping\"][0]\n",
    "fairness_dict, metric_frame = universe_analysis.compute_metrics(\n",
    "    example_universe,\n",
    "    y_pred_prob=probs_test,\n",
    "    y_test=y_true,\n",
    "    org_test=org_test,\n",
    ")"
   ]
  },
  {
   "cell_type": "markdown",
   "id": "1fb7a0e9",
   "metadata": {
    "papermill": {
     "duration": 0.012118,
     "end_time": "2025-08-19T18:48:52.868825",
     "exception": false,
     "start_time": "2025-08-19T18:48:52.856707",
     "status": "completed"
    },
    "tags": []
   },
   "source": [
    "# Overall"
   ]
  },
  {
   "cell_type": "markdown",
   "id": "be1784b1",
   "metadata": {
    "papermill": {
     "duration": 0.012281,
     "end_time": "2025-08-19T18:48:52.893257",
     "exception": false,
     "start_time": "2025-08-19T18:48:52.880976",
     "status": "completed"
    },
    "tags": []
   },
   "source": [
    "Main fairness target: Equalized Odds. Seems to be a better fit than equal opportunity, since we're not only interested in Y = 1. Seems to be a better fit than demographic parity, since we also care about accuracy, not just equal distribution of preds.\n",
    "\n",
    "Pick column for computation of fairness metrics\n",
    "\n",
    "Performance\n",
    "Overall performance measures, most interesting in relation to the measures split by group below"
   ]
  },
  {
   "cell_type": "code",
   "execution_count": 59,
   "id": "b7672bee",
   "metadata": {
    "execution": {
     "iopub.execute_input": "2025-08-19T18:48:52.919187Z",
     "iopub.status.busy": "2025-08-19T18:48:52.918716Z",
     "iopub.status.idle": "2025-08-19T18:48:52.929024Z",
     "shell.execute_reply": "2025-08-19T18:48:52.927303Z"
    },
    "papermill": {
     "duration": 0.024977,
     "end_time": "2025-08-19T18:48:52.930335",
     "exception": false,
     "start_time": "2025-08-19T18:48:52.905358",
     "status": "completed"
    },
    "tags": []
   },
   "outputs": [
    {
     "data": {
      "text/plain": [
       "accuracy                   0.218092\n",
       "balanced accuracy          0.534580\n",
       "f1                         0.239596\n",
       "precision                  0.136873\n",
       "false positive rate        0.891128\n",
       "false negative rate        0.039712\n",
       "selection rate             0.900000\n",
       "count                  89710.000000\n",
       "dtype: float64"
      ]
     },
     "execution_count": 59,
     "metadata": {},
     "output_type": "execute_result"
    }
   ],
   "source": [
    "metric_frame.overall"
   ]
  },
  {
   "cell_type": "markdown",
   "id": "d93333c9",
   "metadata": {
    "papermill": {
     "duration": 0.01276,
     "end_time": "2025-08-19T18:48:52.956842",
     "exception": false,
     "start_time": "2025-08-19T18:48:52.944082",
     "status": "completed"
    },
    "tags": []
   },
   "source": [
    "By Group"
   ]
  },
  {
   "cell_type": "code",
   "execution_count": 60,
   "id": "52256966",
   "metadata": {
    "execution": {
     "iopub.execute_input": "2025-08-19T18:48:52.982700Z",
     "iopub.status.busy": "2025-08-19T18:48:52.982164Z",
     "iopub.status.idle": "2025-08-19T18:48:52.996557Z",
     "shell.execute_reply": "2025-08-19T18:48:52.995737Z"
    },
    "papermill": {
     "duration": 0.029015,
     "end_time": "2025-08-19T18:48:52.998021",
     "exception": false,
     "start_time": "2025-08-19T18:48:52.969006",
     "status": "completed"
    },
    "tags": []
   },
   "outputs": [
    {
     "data": {
      "text/html": [
       "<div>\n",
       "<style scoped>\n",
       "    .dataframe tbody tr th:only-of-type {\n",
       "        vertical-align: middle;\n",
       "    }\n",
       "\n",
       "    .dataframe tbody tr th {\n",
       "        vertical-align: top;\n",
       "    }\n",
       "\n",
       "    .dataframe thead th {\n",
       "        text-align: right;\n",
       "    }\n",
       "</style>\n",
       "<table border=\"1\" class=\"dataframe\">\n",
       "  <thead>\n",
       "    <tr style=\"text-align: right;\">\n",
       "      <th></th>\n",
       "      <th>accuracy</th>\n",
       "      <th>balanced accuracy</th>\n",
       "      <th>f1</th>\n",
       "      <th>precision</th>\n",
       "      <th>false positive rate</th>\n",
       "      <th>false negative rate</th>\n",
       "      <th>selection rate</th>\n",
       "      <th>count</th>\n",
       "    </tr>\n",
       "    <tr>\n",
       "      <th>majmin</th>\n",
       "      <th></th>\n",
       "      <th></th>\n",
       "      <th></th>\n",
       "      <th></th>\n",
       "      <th></th>\n",
       "      <th></th>\n",
       "      <th></th>\n",
       "      <th></th>\n",
       "    </tr>\n",
       "  </thead>\n",
       "  <tbody>\n",
       "    <tr>\n",
       "      <th>majority</th>\n",
       "      <td>0.233136</td>\n",
       "      <td>0.540194</td>\n",
       "      <td>0.248115</td>\n",
       "      <td>0.142522</td>\n",
       "      <td>0.877161</td>\n",
       "      <td>0.042451</td>\n",
       "      <td>0.887784</td>\n",
       "      <td>69170.0</td>\n",
       "    </tr>\n",
       "    <tr>\n",
       "      <th>minority</th>\n",
       "      <td>0.167429</td>\n",
       "      <td>0.516798</td>\n",
       "      <td>0.211899</td>\n",
       "      <td>0.118928</td>\n",
       "      <td>0.937266</td>\n",
       "      <td>0.029139</td>\n",
       "      <td>0.941139</td>\n",
       "      <td>20540.0</td>\n",
       "    </tr>\n",
       "  </tbody>\n",
       "</table>\n",
       "</div>"
      ],
      "text/plain": [
       "          accuracy  balanced accuracy        f1  precision  \\\n",
       "majmin                                                       \n",
       "majority  0.233136           0.540194  0.248115   0.142522   \n",
       "minority  0.167429           0.516798  0.211899   0.118928   \n",
       "\n",
       "          false positive rate  false negative rate  selection rate    count  \n",
       "majmin                                                                       \n",
       "majority             0.877161             0.042451        0.887784  69170.0  \n",
       "minority             0.937266             0.029139        0.941139  20540.0  "
      ]
     },
     "execution_count": 60,
     "metadata": {},
     "output_type": "execute_result"
    }
   ],
   "source": [
    "metric_frame.by_group"
   ]
  },
  {
   "cell_type": "code",
   "execution_count": 61,
   "id": "6e6c20ae",
   "metadata": {
    "execution": {
     "iopub.execute_input": "2025-08-19T18:48:53.041198Z",
     "iopub.status.busy": "2025-08-19T18:48:53.027198Z",
     "iopub.status.idle": "2025-08-19T18:48:54.856520Z",
     "shell.execute_reply": "2025-08-19T18:48:54.855620Z"
    },
    "papermill": {
     "duration": 1.844258,
     "end_time": "2025-08-19T18:48:54.857866",
     "exception": false,
     "start_time": "2025-08-19T18:48:53.013608",
     "status": "completed"
    },
    "tags": []
   },
   "outputs": [
    {
     "data": {
      "text/plain": [
       "array([[<Axes: title={'center': 'accuracy'}, xlabel='majmin'>,\n",
       "        <Axes: title={'center': 'balanced accuracy'}, xlabel='majmin'>,\n",
       "        <Axes: title={'center': 'f1'}, xlabel='majmin'>],\n",
       "       [<Axes: title={'center': 'precision'}, xlabel='majmin'>,\n",
       "        <Axes: title={'center': 'false positive rate'}, xlabel='majmin'>,\n",
       "        <Axes: title={'center': 'false negative rate'}, xlabel='majmin'>],\n",
       "       [<Axes: title={'center': 'selection rate'}, xlabel='majmin'>,\n",
       "        <Axes: title={'center': 'count'}, xlabel='majmin'>,\n",
       "        <Axes: xlabel='majmin'>]], dtype=object)"
      ]
     },
     "execution_count": 61,
     "metadata": {},
     "output_type": "execute_result"
    },
    {
     "data": {
      "image/png": "[encoded data removed]",
      "text/plain": [
       "<Figure size 1200x800 with 9 Axes>"
      ]
     },
     "metadata": {},
     "output_type": "display_data"
    }
   ],
   "source": [
    "# In a graphic\n",
    "metric_frame.by_group.plot.bar(\n",
    "    subplots=True,\n",
    "    layout=[3, 3],\n",
    "    legend=False,\n",
    "    figsize=[12, 8],\n",
    "    title=\"Show all metrics\",\n",
    ")"
   ]
  },
  {
   "cell_type": "markdown",
   "id": "b2e433ae",
   "metadata": {
    "papermill": {
     "duration": 0.013573,
     "end_time": "2025-08-19T18:48:54.886193",
     "exception": false,
     "start_time": "2025-08-19T18:48:54.872620",
     "status": "completed"
    },
    "tags": []
   },
   "source": [
    "# Final Output"
   ]
  },
  {
   "cell_type": "code",
   "execution_count": 62,
   "id": "3871301e",
   "metadata": {
    "execution": {
     "iopub.execute_input": "2025-08-19T18:48:54.916030Z",
     "iopub.status.busy": "2025-08-19T18:48:54.914654Z",
     "iopub.status.idle": "2025-08-19T18:48:54.925342Z",
     "shell.execute_reply": "2025-08-19T18:48:54.924599Z"
    },
    "papermill": {
     "duration": 0.026837,
     "end_time": "2025-08-19T18:48:54.926585",
     "exception": false,
     "start_time": "2025-08-19T18:48:54.899748",
     "status": "completed"
    },
    "tags": []
   },
   "outputs": [
    {
     "data": {
      "text/plain": [
       "4"
      ]
     },
     "execution_count": 62,
     "metadata": {},
     "output_type": "execute_result"
    }
   ],
   "source": [
    "sub_universes = universe_analysis.generate_sub_universes()\n",
    "len(sub_universes)"
   ]
  },
  {
   "cell_type": "code",
   "execution_count": 63,
   "id": "d9cfdaca",
   "metadata": {
    "execution": {
     "iopub.execute_input": "2025-08-19T18:48:54.955574Z",
     "iopub.status.busy": "2025-08-19T18:48:54.955298Z",
     "iopub.status.idle": "2025-08-19T18:48:54.964245Z",
     "shell.execute_reply": "2025-08-19T18:48:54.963541Z"
    },
    "papermill": {
     "duration": 0.024829,
     "end_time": "2025-08-19T18:48:54.965634",
     "exception": false,
     "start_time": "2025-08-19T18:48:54.940805",
     "status": "completed"
    },
    "tags": []
   },
   "outputs": [],
   "source": [
    "def filter_sub_universe_data(sub_universe, org_test):\n",
    "    # Keep all rows — no filtering\n",
    "    keep_rows_mask = np.ones(org_test.shape[0], dtype=bool)\n",
    "\n",
    "    print(f\"[INFO] Keeping all rows: {keep_rows_mask.sum()} rows retained.\")\n",
    "    return keep_rows_mask"
   ]
  },
  {
   "cell_type": "code",
   "execution_count": 64,
   "id": "2bc31ac1",
   "metadata": {
    "execution": {
     "iopub.execute_input": "2025-08-19T18:48:54.997387Z",
     "iopub.status.busy": "2025-08-19T18:48:54.997038Z",
     "iopub.status.idle": "2025-08-19T18:49:01.745449Z",
     "shell.execute_reply": "2025-08-19T18:49:01.744528Z"
    },
    "papermill": {
     "duration": 6.765279,
     "end_time": "2025-08-19T18:49:01.746761",
     "exception": false,
     "start_time": "2025-08-19T18:48:54.981482",
     "status": "completed"
    },
    "tags": []
   },
   "outputs": [
    {
     "name": "stdout",
     "output_type": "stream",
     "text": [
      "Stopping execution_time clock.\n",
      "[INFO] Keeping all rows: 89710 rows retained.\n"
     ]
    },
    {
     "name": "stdout",
     "output_type": "stream",
     "text": [
      "[INFO] Keeping all rows: 89710 rows retained.\n"
     ]
    },
    {
     "name": "stdout",
     "output_type": "stream",
     "text": [
      "[INFO] Keeping all rows: 89710 rows retained.\n"
     ]
    },
    {
     "name": "stdout",
     "output_type": "stream",
     "text": [
      "[INFO] Keeping all rows: 89710 rows retained.\n"
     ]
    },
    {
     "data": {
      "text/html": [
       "<div>\n",
       "<style scoped>\n",
       "    .dataframe tbody tr th:only-of-type {\n",
       "        vertical-align: middle;\n",
       "    }\n",
       "\n",
       "    .dataframe tbody tr th {\n",
       "        vertical-align: top;\n",
       "    }\n",
       "\n",
       "    .dataframe thead th {\n",
       "        text-align: right;\n",
       "    }\n",
       "</style>\n",
       "<table border=\"1\" class=\"dataframe\">\n",
       "  <thead>\n",
       "    <tr style=\"text-align: right;\">\n",
       "      <th></th>\n",
       "      <th>run_no</th>\n",
       "      <th>universe_id</th>\n",
       "      <th>universe_settings</th>\n",
       "      <th>execution_time</th>\n",
       "      <th>test_size_n</th>\n",
       "      <th>test_size_frac</th>\n",
       "      <th>fair_main_equalized_odds_difference</th>\n",
       "      <th>fair_main_equalized_odds_ratio</th>\n",
       "      <th>fair_main_demographic_parity_difference</th>\n",
       "      <th>fair_main_demographic_parity_ratio</th>\n",
       "      <th>...</th>\n",
       "      <th>perf_grp_precision_0</th>\n",
       "      <th>perf_grp_precision_1</th>\n",
       "      <th>perf_grp_false positive rate_0</th>\n",
       "      <th>perf_grp_false positive rate_1</th>\n",
       "      <th>perf_grp_false negative rate_0</th>\n",
       "      <th>perf_grp_false negative rate_1</th>\n",
       "      <th>perf_grp_selection rate_0</th>\n",
       "      <th>perf_grp_selection rate_1</th>\n",
       "      <th>perf_grp_count_0</th>\n",
       "      <th>perf_grp_count_1</th>\n",
       "    </tr>\n",
       "  </thead>\n",
       "  <tbody>\n",
       "    <tr>\n",
       "      <th>0</th>\n",
       "      <td>3</td>\n",
       "      <td>d535e36094cee0333b14963be1408916</td>\n",
       "      <td>{\"cutoff\": \"quantile_0.1\", \"eval_fairness_grou...</td>\n",
       "      <td>20.164327</td>\n",
       "      <td>89710</td>\n",
       "      <td>1.0</td>\n",
       "      <td>0.060105</td>\n",
       "      <td>0.935872</td>\n",
       "      <td>0.053356</td>\n",
       "      <td>0.943308</td>\n",
       "      <td>...</td>\n",
       "      <td>NaN</td>\n",
       "      <td>NaN</td>\n",
       "      <td>NaN</td>\n",
       "      <td>NaN</td>\n",
       "      <td>NaN</td>\n",
       "      <td>NaN</td>\n",
       "      <td>NaN</td>\n",
       "      <td>NaN</td>\n",
       "      <td>NaN</td>\n",
       "      <td>NaN</td>\n",
       "    </tr>\n",
       "    <tr>\n",
       "      <th>0</th>\n",
       "      <td>3</td>\n",
       "      <td>d535e36094cee0333b14963be1408916</td>\n",
       "      <td>{\"cutoff\": \"quantile_0.1\", \"eval_fairness_grou...</td>\n",
       "      <td>20.164327</td>\n",
       "      <td>89710</td>\n",
       "      <td>1.0</td>\n",
       "      <td>0.060105</td>\n",
       "      <td>0.935872</td>\n",
       "      <td>0.053356</td>\n",
       "      <td>0.943308</td>\n",
       "      <td>...</td>\n",
       "      <td>0.118928</td>\n",
       "      <td>0.142522</td>\n",
       "      <td>0.937266</td>\n",
       "      <td>0.877161</td>\n",
       "      <td>0.029139</td>\n",
       "      <td>0.042451</td>\n",
       "      <td>0.941139</td>\n",
       "      <td>0.887784</td>\n",
       "      <td>20540.0</td>\n",
       "      <td>69170.0</td>\n",
       "    </tr>\n",
       "    <tr>\n",
       "      <th>0</th>\n",
       "      <td>3</td>\n",
       "      <td>d535e36094cee0333b14963be1408916</td>\n",
       "      <td>{\"cutoff\": \"quantile_0.25\", \"eval_fairness_gro...</td>\n",
       "      <td>20.164327</td>\n",
       "      <td>89710</td>\n",
       "      <td>1.0</td>\n",
       "      <td>0.051329</td>\n",
       "      <td>0.933394</td>\n",
       "      <td>0.041429</td>\n",
       "      <td>0.947018</td>\n",
       "      <td>...</td>\n",
       "      <td>NaN</td>\n",
       "      <td>NaN</td>\n",
       "      <td>NaN</td>\n",
       "      <td>NaN</td>\n",
       "      <td>NaN</td>\n",
       "      <td>NaN</td>\n",
       "      <td>NaN</td>\n",
       "      <td>NaN</td>\n",
       "      <td>NaN</td>\n",
       "      <td>NaN</td>\n",
       "    </tr>\n",
       "    <tr>\n",
       "      <th>0</th>\n",
       "      <td>3</td>\n",
       "      <td>d535e36094cee0333b14963be1408916</td>\n",
       "      <td>{\"cutoff\": \"quantile_0.25\", \"eval_fairness_gro...</td>\n",
       "      <td>20.164327</td>\n",
       "      <td>89710</td>\n",
       "      <td>1.0</td>\n",
       "      <td>0.051329</td>\n",
       "      <td>0.933394</td>\n",
       "      <td>0.041429</td>\n",
       "      <td>0.947018</td>\n",
       "      <td>...</td>\n",
       "      <td>0.128074</td>\n",
       "      <td>0.156986</td>\n",
       "      <td>0.770636</td>\n",
       "      <td>0.719307</td>\n",
       "      <td>0.131334</td>\n",
       "      <td>0.120241</td>\n",
       "      <td>0.781938</td>\n",
       "      <td>0.740509</td>\n",
       "      <td>20540.0</td>\n",
       "      <td>69170.0</td>\n",
       "    </tr>\n",
       "  </tbody>\n",
       "</table>\n",
       "<p>4 rows × 50 columns</p>\n",
       "</div>"
      ],
      "text/plain": [
       "  run_no                       universe_id  \\\n",
       "0      3  d535e36094cee0333b14963be1408916   \n",
       "0      3  d535e36094cee0333b14963be1408916   \n",
       "0      3  d535e36094cee0333b14963be1408916   \n",
       "0      3  d535e36094cee0333b14963be1408916   \n",
       "\n",
       "                                   universe_settings  execution_time  \\\n",
       "0  {\"cutoff\": \"quantile_0.1\", \"eval_fairness_grou...       20.164327   \n",
       "0  {\"cutoff\": \"quantile_0.1\", \"eval_fairness_grou...       20.164327   \n",
       "0  {\"cutoff\": \"quantile_0.25\", \"eval_fairness_gro...       20.164327   \n",
       "0  {\"cutoff\": \"quantile_0.25\", \"eval_fairness_gro...       20.164327   \n",
       "\n",
       "   test_size_n  test_size_frac  fair_main_equalized_odds_difference  \\\n",
       "0        89710             1.0                             0.060105   \n",
       "0        89710             1.0                             0.060105   \n",
       "0        89710             1.0                             0.051329   \n",
       "0        89710             1.0                             0.051329   \n",
       "\n",
       "   fair_main_equalized_odds_ratio  fair_main_demographic_parity_difference  \\\n",
       "0                        0.935872                                 0.053356   \n",
       "0                        0.935872                                 0.053356   \n",
       "0                        0.933394                                 0.041429   \n",
       "0                        0.933394                                 0.041429   \n",
       "\n",
       "   fair_main_demographic_parity_ratio  ...  perf_grp_precision_0  \\\n",
       "0                            0.943308  ...                   NaN   \n",
       "0                            0.943308  ...              0.118928   \n",
       "0                            0.947018  ...                   NaN   \n",
       "0                            0.947018  ...              0.128074   \n",
       "\n",
       "   perf_grp_precision_1  perf_grp_false positive rate_0  \\\n",
       "0                   NaN                             NaN   \n",
       "0              0.142522                        0.937266   \n",
       "0                   NaN                             NaN   \n",
       "0              0.156986                        0.770636   \n",
       "\n",
       "   perf_grp_false positive rate_1  perf_grp_false negative rate_0  \\\n",
       "0                             NaN                             NaN   \n",
       "0                        0.877161                        0.029139   \n",
       "0                             NaN                             NaN   \n",
       "0                        0.719307                        0.131334   \n",
       "\n",
       "   perf_grp_false negative rate_1  perf_grp_selection rate_0  \\\n",
       "0                             NaN                        NaN   \n",
       "0                        0.042451                   0.941139   \n",
       "0                             NaN                        NaN   \n",
       "0                        0.120241                   0.781938   \n",
       "\n",
       "   perf_grp_selection rate_1  perf_grp_count_0  perf_grp_count_1  \n",
       "0                        NaN               NaN               NaN  \n",
       "0                   0.887784           20540.0           69170.0  \n",
       "0                        NaN               NaN               NaN  \n",
       "0                   0.740509           20540.0           69170.0  \n",
       "\n",
       "[4 rows x 50 columns]"
      ]
     },
     "execution_count": 64,
     "metadata": {},
     "output_type": "execute_result"
    }
   ],
   "source": [
    "final_output = universe_analysis.generate_final_output(\n",
    "    y_pred_prob=probs_test,\n",
    "    y_test=y_true,\n",
    "    org_test=org_test,\n",
    "    filter_data=filter_sub_universe_data,\n",
    "    cp_metrics_df=cp_metrics_df,\n",
    "    save=True,\n",
    ")\n",
    "final_output"
   ]
  },
  {
   "cell_type": "code",
   "execution_count": null,
   "id": "8b80a1ff",
   "metadata": {
    "papermill": {
     "duration": 0.038157,
     "end_time": "2025-08-19T18:49:01.803406",
     "exception": false,
     "start_time": "2025-08-19T18:49:01.765249",
     "status": "completed"
    },
    "tags": []
   },
   "outputs": [],
   "source": []
  },
  {
   "cell_type": "code",
   "execution_count": null,
   "id": "275c9fad",
   "metadata": {
    "papermill": {
     "duration": 0.014308,
     "end_time": "2025-08-19T18:49:01.850730",
     "exception": false,
     "start_time": "2025-08-19T18:49:01.836422",
     "status": "completed"
    },
    "tags": []
   },
   "outputs": [],
   "source": []
  }
 ],
 "metadata": {
  "celltoolbar": "Tags",
  "kernelspec": {
   "display_name": "Python (CMA Fairness)",
   "language": "python",
   "name": "cma_fair_env"
  },
  "language_info": {
   "codemirror_mode": {
    "name": "ipython",
    "version": 3
   },
   "file_extension": ".py",
   "mimetype": "text/x-python",
   "name": "python",
   "nbconvert_exporter": "python",
   "pygments_lexer": "ipython3",
   "version": "3.10.12"
  },
  "papermill": {
   "default_parameters": {},
   "duration": 30.796164,
   "end_time": "2025-08-19T18:49:02.692137",
   "environment_variables": {},
   "exception": null,
   "input_path": "universe_analysis.ipynb",
   "output_path": "output/runs/3/notebooks/m_3-d535e36094cee0333b14963be1408916.ipynb",
   "parameters": {
    "output_dir": "output",
    "run_no": "3",
    "seed": "2023",
    "universe": "{\"cutoff\": [\"quantile_0.1\", \"quantile_0.25\"], \"eval_fairness_grouping\": [\"majority-minority\", \"nationality-all\"], \"exclude_features\": \"none\", \"exclude_subgroups\": \"keep-all\", \"model\": \"logreg\", \"scale\": \"scale\", \"training_size\": \"1k\", \"training_year\": \"2014\"}",
    "universe_id": "d535e36094cee0333b14963be1408916"
   },
   "start_time": "2025-08-19T18:48:31.895973",
   "version": "2.6.0"
  }
 },
 "nbformat": 4,
 "nbformat_minor": 5
}