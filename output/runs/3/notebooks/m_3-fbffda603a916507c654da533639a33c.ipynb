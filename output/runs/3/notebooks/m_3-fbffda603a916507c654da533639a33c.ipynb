{
 "cells": [
  {
   "cell_type": "markdown",
   "id": "ef23dbb3",
   "metadata": {
    "papermill": {
     "duration": 0.024679,
     "end_time": "2025-08-19T18:22:46.609742",
     "exception": false,
     "start_time": "2025-08-19T18:22:46.585063",
     "status": "completed"
    },
    "tags": []
   },
   "source": [
    "# Setup"
   ]
  },
  {
   "cell_type": "code",
   "execution_count": 1,
   "id": "0bc8e7dc",
   "metadata": {
    "execution": {
     "iopub.execute_input": "2025-08-19T18:22:46.638761Z",
     "iopub.status.busy": "2025-08-19T18:22:46.638287Z",
     "iopub.status.idle": "2025-08-19T18:22:46.647948Z",
     "shell.execute_reply": "2025-08-19T18:22:46.647107Z"
    },
    "papermill": {
     "duration": 0.021438,
     "end_time": "2025-08-19T18:22:46.649578",
     "exception": false,
     "start_time": "2025-08-19T18:22:46.628140",
     "status": "completed"
    },
    "tags": []
   },
   "outputs": [
    {
     "name": "stdout",
     "output_type": "stream",
     "text": [
      "/dss/dsshome1/0C/ra93lal2/cma/CMA_Fairness_v2\n"
     ]
    },
    {
     "name": "stderr",
     "output_type": "stream",
     "text": [
      "/dss/dsshome1/0C/ra93lal2/.local/share/virtualenvs/CMA_Fairness_v2-3j10GkSs/lib/python3.10/site-packages/IPython/core/magics/osm.py:393: UserWarning: This is now an optional IPython functionality, using bookmarks requires you to install the `pickleshare` library.\n",
      "  bkms = self.shell.db.get('bookmarks', {})\n",
      "/dss/dsshome1/0C/ra93lal2/.local/share/virtualenvs/CMA_Fairness_v2-3j10GkSs/lib/python3.10/site-packages/IPython/core/magics/osm.py:417: UserWarning: This is now an optional IPython functionality, setting dhist requires you to install the `pickleshare` library.\n",
      "  self.shell.db['dhist'] = compress_dhist(dhist)[-100:]\n"
     ]
    }
   ],
   "source": [
    "%cd ~/cma/CMA_Fairness_v2"
   ]
  },
  {
   "cell_type": "markdown",
   "id": "9d235661",
   "metadata": {
    "papermill": {
     "duration": 0.00862,
     "end_time": "2025-08-19T18:22:46.666990",
     "exception": false,
     "start_time": "2025-08-19T18:22:46.658370",
     "status": "completed"
    },
    "tags": []
   },
   "source": [
    "The following cell holds the definition of our parameters, these values can be overriden by rendering the with e.g. the following command:\n",
    "\n",
    "papermill -p alpha 0.2 -p ratio 0.3 universe_analysis.ipynb output/test_run.ipynb"
   ]
  },
  {
   "cell_type": "code",
   "execution_count": 2,
   "id": "4a789d8e",
   "metadata": {
    "execution": {
     "iopub.execute_input": "2025-08-19T18:22:46.685554Z",
     "iopub.status.busy": "2025-08-19T18:22:46.685123Z",
     "iopub.status.idle": "2025-08-19T18:22:46.689735Z",
     "shell.execute_reply": "2025-08-19T18:22:46.688901Z"
    },
    "papermill": {
     "duration": 0.015732,
     "end_time": "2025-08-19T18:22:46.691313",
     "exception": false,
     "start_time": "2025-08-19T18:22:46.675581",
     "status": "completed"
    },
    "tags": []
   },
   "outputs": [
    {
     "name": "stdout",
     "output_type": "stream",
     "text": [
      "Current working directory: /dss/dsshome1/0C/ra93lal2/cma/CMA_Fairness_v2\n"
     ]
    }
   ],
   "source": [
    "import os\n",
    "print(\"Current working directory:\", os.getcwd())"
   ]
  },
  {
   "cell_type": "code",
   "execution_count": 3,
   "id": "4132aaed",
   "metadata": {
    "execution": {
     "iopub.execute_input": "2025-08-19T18:22:46.710336Z",
     "iopub.status.busy": "2025-08-19T18:22:46.710071Z",
     "iopub.status.idle": "2025-08-19T18:22:46.714907Z",
     "shell.execute_reply": "2025-08-19T18:22:46.713937Z"
    },
    "papermill": {
     "duration": 0.016532,
     "end_time": "2025-08-19T18:22:46.717021",
     "exception": false,
     "start_time": "2025-08-19T18:22:46.700489",
     "status": "completed"
    },
    "tags": [
     "parameters"
    ]
   },
   "outputs": [],
   "source": [
    "run_no = 0\n",
    "universe_id = \"test\"\n",
    "universe = {\n",
    "    \"training_size\": \"5k\", # \"25k\", \"5k\", \"1k\"\n",
    "    \"training_year\": \"2012_14\", # \"2014\", \"2012_14\", \"2010_14\"\n",
    "    \"scale\": \"scale\", # \"scale\", \"do-not-scale\",\n",
    "    \"model\": \"elasticnet\", # \"logreg\", \"penalized_logreg\", \"rf\", \"gbm\", \"elasticnet\"\n",
    "    \"cutoff\": [\"quantile_0.15\", \"quantile_0.30\"],\n",
    "    \"exclude_features\": \"age\", # \"none\", \"nationality\", \"sex\", \"nationality-sex\", \"age\"\n",
    "    \"exclude_subgroups\": \"drop-non-german\", # \"keep-all\", \"drop-non-german\"\n",
    "    \"eval_fairness_grouping\": [\"majority-minority\", \"nationality-all\"]\n",
    "}\n",
    "\n",
    "output_dir=\"./output\"\n",
    "seed=0"
   ]
  },
  {
   "cell_type": "code",
   "execution_count": 4,
   "id": "bc5d528f",
   "metadata": {
    "execution": {
     "iopub.execute_input": "2025-08-19T18:22:46.751099Z",
     "iopub.status.busy": "2025-08-19T18:22:46.750077Z",
     "iopub.status.idle": "2025-08-19T18:22:46.764679Z",
     "shell.execute_reply": "2025-08-19T18:22:46.763050Z"
    },
    "papermill": {
     "duration": 0.029833,
     "end_time": "2025-08-19T18:22:46.768443",
     "exception": false,
     "start_time": "2025-08-19T18:22:46.738610",
     "status": "completed"
    },
    "tags": [
     "injected-parameters"
    ]
   },
   "outputs": [],
   "source": [
    "# Parameters\n",
    "universe_id = \"fbffda603a916507c654da533639a33c\"\n",
    "run_no = \"3\"\n",
    "universe = \"{\\\"cutoff\\\": [\\\"quantile_0.1\\\", \\\"quantile_0.25\\\"], \\\"eval_fairness_grouping\\\": [\\\"majority-minority\\\", \\\"nationality-all\\\"], \\\"exclude_features\\\": \\\"nationality\\\", \\\"exclude_subgroups\\\": \\\"drop-non-german\\\", \\\"model\\\": \\\"logreg\\\", \\\"scale\\\": \\\"scale\\\", \\\"training_size\\\": \\\"5k\\\", \\\"training_year\\\": \\\"2014\\\"}\"\n",
    "output_dir = \"output\"\n",
    "seed = \"2023\"\n"
   ]
  },
  {
   "cell_type": "code",
   "execution_count": 5,
   "id": "a5d7941f",
   "metadata": {
    "execution": {
     "iopub.execute_input": "2025-08-19T18:22:46.799440Z",
     "iopub.status.busy": "2025-08-19T18:22:46.798979Z",
     "iopub.status.idle": "2025-08-19T18:22:46.802827Z",
     "shell.execute_reply": "2025-08-19T18:22:46.802262Z"
    },
    "papermill": {
     "duration": 0.018132,
     "end_time": "2025-08-19T18:22:46.805405",
     "exception": false,
     "start_time": "2025-08-19T18:22:46.787273",
     "status": "completed"
    },
    "tags": []
   },
   "outputs": [],
   "source": [
    "import json\n",
    "if isinstance(universe, str):\n",
    "    universe = json.loads(universe)"
   ]
  },
  {
   "cell_type": "code",
   "execution_count": 6,
   "id": "7076ccb1",
   "metadata": {
    "execution": {
     "iopub.execute_input": "2025-08-19T18:22:46.840697Z",
     "iopub.status.busy": "2025-08-19T18:22:46.839669Z",
     "iopub.status.idle": "2025-08-19T18:22:46.893649Z",
     "shell.execute_reply": "2025-08-19T18:22:46.893023Z"
    },
    "papermill": {
     "duration": 0.069467,
     "end_time": "2025-08-19T18:22:46.896231",
     "exception": false,
     "start_time": "2025-08-19T18:22:46.826764",
     "status": "completed"
    },
    "tags": []
   },
   "outputs": [],
   "source": [
    "# Auto-reload the custom package\n",
    "%load_ext autoreload\n",
    "%autoreload 1\n",
    "%aimport fairness_multiverse"
   ]
  },
  {
   "cell_type": "code",
   "execution_count": 7,
   "id": "94c8eb93",
   "metadata": {
    "execution": {
     "iopub.execute_input": "2025-08-19T18:22:46.932954Z",
     "iopub.status.busy": "2025-08-19T18:22:46.931925Z",
     "iopub.status.idle": "2025-08-19T18:22:48.453822Z",
     "shell.execute_reply": "2025-08-19T18:22:48.453096Z"
    },
    "papermill": {
     "duration": 1.53672,
     "end_time": "2025-08-19T18:22:48.455420",
     "exception": false,
     "start_time": "2025-08-19T18:22:46.918700",
     "status": "completed"
    },
    "tags": []
   },
   "outputs": [],
   "source": [
    "from fairness_multiverse.universe import UniverseAnalysis\n",
    "\n",
    "universe_analysis = UniverseAnalysis(\n",
    "    run_no = run_no,\n",
    "    universe_id = universe_id,\n",
    "    universe = universe,\n",
    "    output_dir=output_dir,\n",
    ")"
   ]
  },
  {
   "cell_type": "code",
   "execution_count": 8,
   "id": "2a6381cf",
   "metadata": {
    "execution": {
     "iopub.execute_input": "2025-08-19T18:22:48.500379Z",
     "iopub.status.busy": "2025-08-19T18:22:48.498294Z",
     "iopub.status.idle": "2025-08-19T18:22:48.510251Z",
     "shell.execute_reply": "2025-08-19T18:22:48.508717Z"
    },
    "papermill": {
     "duration": 0.036263,
     "end_time": "2025-08-19T18:22:48.513324",
     "exception": false,
     "start_time": "2025-08-19T18:22:48.477061",
     "status": "completed"
    },
    "tags": []
   },
   "outputs": [
    {
     "name": "stdout",
     "output_type": "stream",
     "text": [
      "Using Seed: 2023\n"
     ]
    }
   ],
   "source": [
    "import numpy as np\n",
    "parsed_seed = int(seed)\n",
    "np.random.seed(parsed_seed)\n",
    "print(f\"Using Seed: {parsed_seed}\")"
   ]
  },
  {
   "cell_type": "markdown",
   "id": "b6e958b4",
   "metadata": {
    "papermill": {
     "duration": 0.011405,
     "end_time": "2025-08-19T18:22:48.546037",
     "exception": false,
     "start_time": "2025-08-19T18:22:48.534632",
     "status": "completed"
    },
    "tags": []
   },
   "source": [
    "# Loading Data"
   ]
  },
  {
   "cell_type": "code",
   "execution_count": 9,
   "id": "98701482",
   "metadata": {
    "execution": {
     "iopub.execute_input": "2025-08-19T18:22:48.567093Z",
     "iopub.status.busy": "2025-08-19T18:22:48.566080Z",
     "iopub.status.idle": "2025-08-19T18:22:58.310710Z",
     "shell.execute_reply": "2025-08-19T18:22:58.309709Z"
    },
    "papermill": {
     "duration": 9.75688,
     "end_time": "2025-08-19T18:22:58.312209",
     "exception": false,
     "start_time": "2025-08-19T18:22:48.555329",
     "status": "completed"
    },
    "tags": []
   },
   "outputs": [
    {
     "name": "stdout",
     "output_type": "stream",
     "text": [
      "Loading SIAB data from cache: data/siab_cached.csv.gz\n"
     ]
    },
    {
     "name": "stdout",
     "output_type": "stream",
     "text": [
      "(643690, 164)\n"
     ]
    }
   ],
   "source": [
    "from pathlib import Path\n",
    "import pandas as pd\n",
    "\n",
    "# File paths\n",
    "raw_file = Path(\"data/raw/siab.csv\")\n",
    "cache_file = Path(\"data/siab_cached.csv.gz\")\n",
    "\n",
    "# Ensure cache directory exists\n",
    "cache_file.parent.mkdir(parents=True, exist_ok=True)\n",
    "\n",
    "# Load with simple caching\n",
    "if cache_file.exists():\n",
    "    print(f\"Loading SIAB data from cache: {cache_file}\")\n",
    "    siab = pd.read_csv(cache_file, compression='gzip')\n",
    "else:\n",
    "    print(f\"Cache not found. Reading raw SIAB data: {raw_file}\")\n",
    "    siab = pd.read_csv(raw_file)\n",
    "    siab.to_csv(cache_file, index=False, compression='gzip')\n",
    "    print(f\"Cached SIAB data to: {cache_file}\")\n",
    "\n",
    "print(siab.shape)"
   ]
  },
  {
   "cell_type": "code",
   "execution_count": 10,
   "id": "058d2abb",
   "metadata": {
    "execution": {
     "iopub.execute_input": "2025-08-19T18:22:58.335452Z",
     "iopub.status.busy": "2025-08-19T18:22:58.334864Z",
     "iopub.status.idle": "2025-08-19T18:22:58.459009Z",
     "shell.execute_reply": "2025-08-19T18:22:58.457640Z"
    },
    "papermill": {
     "duration": 0.138115,
     "end_time": "2025-08-19T18:22:58.462559",
     "exception": false,
     "start_time": "2025-08-19T18:22:58.324444",
     "status": "completed"
    },
    "tags": []
   },
   "outputs": [
    {
     "data": {
      "text/html": [
       "<div>\n",
       "<style scoped>\n",
       "    .dataframe tbody tr th:only-of-type {\n",
       "        vertical-align: middle;\n",
       "    }\n",
       "\n",
       "    .dataframe tbody tr th {\n",
       "        vertical-align: top;\n",
       "    }\n",
       "\n",
       "    .dataframe thead th {\n",
       "        text-align: right;\n",
       "    }\n",
       "</style>\n",
       "<table border=\"1\" class=\"dataframe\">\n",
       "  <thead>\n",
       "    <tr style=\"text-align: right;\">\n",
       "      <th></th>\n",
       "      <th>persnr</th>\n",
       "      <th>year</th>\n",
       "      <th>nrEntry</th>\n",
       "      <th>ltue</th>\n",
       "      <th>employed_before</th>\n",
       "      <th>receipt_leh_before</th>\n",
       "      <th>receipt_lhg_before</th>\n",
       "      <th>se_before</th>\n",
       "      <th>ASU_notue_seeking_before</th>\n",
       "      <th>ASU_other_before</th>\n",
       "      <th>...</th>\n",
       "      <th>minijob_tot_dur_byage</th>\n",
       "      <th>ft_tot_dur_byage</th>\n",
       "      <th>befrist_tot_dur_byage</th>\n",
       "      <th>leih_tot_dur_byage</th>\n",
       "      <th>LHG_tot_dur_byage</th>\n",
       "      <th>LEH_tot_dur_byage</th>\n",
       "      <th>almp_tot_dur_byage</th>\n",
       "      <th>almp_aw_tot_dur_byage</th>\n",
       "      <th>se_tot_dur_byage</th>\n",
       "      <th>seeking1_tot_dur_byage</th>\n",
       "    </tr>\n",
       "  </thead>\n",
       "  <tbody>\n",
       "    <tr>\n",
       "      <th>0</th>\n",
       "      <td>7</td>\n",
       "      <td>2015</td>\n",
       "      <td>1</td>\n",
       "      <td>0</td>\n",
       "      <td>1</td>\n",
       "      <td>0</td>\n",
       "      <td>0</td>\n",
       "      <td>0</td>\n",
       "      <td>1</td>\n",
       "      <td>0</td>\n",
       "      <td>...</td>\n",
       "      <td>0.000000</td>\n",
       "      <td>0.000000</td>\n",
       "      <td>15.043478</td>\n",
       "      <td>0.000000</td>\n",
       "      <td>0.000000</td>\n",
       "      <td>0.000000</td>\n",
       "      <td>0.000000</td>\n",
       "      <td>0.000000</td>\n",
       "      <td>0.000000</td>\n",
       "      <td>0.000000</td>\n",
       "    </tr>\n",
       "    <tr>\n",
       "      <th>1</th>\n",
       "      <td>18</td>\n",
       "      <td>2010</td>\n",
       "      <td>1</td>\n",
       "      <td>1</td>\n",
       "      <td>0</td>\n",
       "      <td>0</td>\n",
       "      <td>0</td>\n",
       "      <td>0</td>\n",
       "      <td>0</td>\n",
       "      <td>0</td>\n",
       "      <td>...</td>\n",
       "      <td>0.000000</td>\n",
       "      <td>0.000000</td>\n",
       "      <td>0.000000</td>\n",
       "      <td>0.000000</td>\n",
       "      <td>0.000000</td>\n",
       "      <td>0.000000</td>\n",
       "      <td>0.000000</td>\n",
       "      <td>0.000000</td>\n",
       "      <td>0.000000</td>\n",
       "      <td>0.000000</td>\n",
       "    </tr>\n",
       "    <tr>\n",
       "      <th>2</th>\n",
       "      <td>18</td>\n",
       "      <td>2011</td>\n",
       "      <td>2</td>\n",
       "      <td>0</td>\n",
       "      <td>1</td>\n",
       "      <td>0</td>\n",
       "      <td>1</td>\n",
       "      <td>0</td>\n",
       "      <td>1</td>\n",
       "      <td>0</td>\n",
       "      <td>...</td>\n",
       "      <td>2.714286</td>\n",
       "      <td>2.714286</td>\n",
       "      <td>0.000000</td>\n",
       "      <td>0.000000</td>\n",
       "      <td>10.775510</td>\n",
       "      <td>0.000000</td>\n",
       "      <td>8.367347</td>\n",
       "      <td>0.000000</td>\n",
       "      <td>0.000000</td>\n",
       "      <td>9.836735</td>\n",
       "    </tr>\n",
       "    <tr>\n",
       "      <th>3</th>\n",
       "      <td>18</td>\n",
       "      <td>2012</td>\n",
       "      <td>3</td>\n",
       "      <td>0</td>\n",
       "      <td>1</td>\n",
       "      <td>0</td>\n",
       "      <td>1</td>\n",
       "      <td>0</td>\n",
       "      <td>1</td>\n",
       "      <td>0</td>\n",
       "      <td>...</td>\n",
       "      <td>4.200000</td>\n",
       "      <td>4.200000</td>\n",
       "      <td>0.000000</td>\n",
       "      <td>0.000000</td>\n",
       "      <td>12.100000</td>\n",
       "      <td>0.000000</td>\n",
       "      <td>9.400000</td>\n",
       "      <td>0.000000</td>\n",
       "      <td>0.000000</td>\n",
       "      <td>9.960000</td>\n",
       "    </tr>\n",
       "    <tr>\n",
       "      <th>4</th>\n",
       "      <td>18</td>\n",
       "      <td>2012</td>\n",
       "      <td>4</td>\n",
       "      <td>0</td>\n",
       "      <td>1</td>\n",
       "      <td>0</td>\n",
       "      <td>1</td>\n",
       "      <td>0</td>\n",
       "      <td>1</td>\n",
       "      <td>0</td>\n",
       "      <td>...</td>\n",
       "      <td>5.460000</td>\n",
       "      <td>5.460000</td>\n",
       "      <td>0.000000</td>\n",
       "      <td>0.000000</td>\n",
       "      <td>13.360000</td>\n",
       "      <td>0.000000</td>\n",
       "      <td>10.320000</td>\n",
       "      <td>0.000000</td>\n",
       "      <td>0.000000</td>\n",
       "      <td>10.280000</td>\n",
       "    </tr>\n",
       "    <tr>\n",
       "      <th>...</th>\n",
       "      <td>...</td>\n",
       "      <td>...</td>\n",
       "      <td>...</td>\n",
       "      <td>...</td>\n",
       "      <td>...</td>\n",
       "      <td>...</td>\n",
       "      <td>...</td>\n",
       "      <td>...</td>\n",
       "      <td>...</td>\n",
       "      <td>...</td>\n",
       "      <td>...</td>\n",
       "      <td>...</td>\n",
       "      <td>...</td>\n",
       "      <td>...</td>\n",
       "      <td>...</td>\n",
       "      <td>...</td>\n",
       "      <td>...</td>\n",
       "      <td>...</td>\n",
       "      <td>...</td>\n",
       "      <td>...</td>\n",
       "      <td>...</td>\n",
       "    </tr>\n",
       "    <tr>\n",
       "      <th>643685</th>\n",
       "      <td>1827860</td>\n",
       "      <td>2013</td>\n",
       "      <td>1</td>\n",
       "      <td>0</td>\n",
       "      <td>0</td>\n",
       "      <td>0</td>\n",
       "      <td>1</td>\n",
       "      <td>0</td>\n",
       "      <td>0</td>\n",
       "      <td>1</td>\n",
       "      <td>...</td>\n",
       "      <td>0.000000</td>\n",
       "      <td>0.000000</td>\n",
       "      <td>0.000000</td>\n",
       "      <td>0.000000</td>\n",
       "      <td>0.612903</td>\n",
       "      <td>0.000000</td>\n",
       "      <td>0.000000</td>\n",
       "      <td>0.000000</td>\n",
       "      <td>0.000000</td>\n",
       "      <td>0.000000</td>\n",
       "    </tr>\n",
       "    <tr>\n",
       "      <th>643686</th>\n",
       "      <td>1827860</td>\n",
       "      <td>2015</td>\n",
       "      <td>2</td>\n",
       "      <td>1</td>\n",
       "      <td>0</td>\n",
       "      <td>0</td>\n",
       "      <td>1</td>\n",
       "      <td>0</td>\n",
       "      <td>1</td>\n",
       "      <td>0</td>\n",
       "      <td>...</td>\n",
       "      <td>0.000000</td>\n",
       "      <td>0.000000</td>\n",
       "      <td>0.212121</td>\n",
       "      <td>0.212121</td>\n",
       "      <td>17.363636</td>\n",
       "      <td>0.000000</td>\n",
       "      <td>8.909091</td>\n",
       "      <td>0.000000</td>\n",
       "      <td>0.000000</td>\n",
       "      <td>7.121212</td>\n",
       "    </tr>\n",
       "    <tr>\n",
       "      <th>643687</th>\n",
       "      <td>1827860</td>\n",
       "      <td>2016</td>\n",
       "      <td>3</td>\n",
       "      <td>1</td>\n",
       "      <td>0</td>\n",
       "      <td>0</td>\n",
       "      <td>1</td>\n",
       "      <td>1</td>\n",
       "      <td>0</td>\n",
       "      <td>1</td>\n",
       "      <td>...</td>\n",
       "      <td>0.000000</td>\n",
       "      <td>0.000000</td>\n",
       "      <td>0.294118</td>\n",
       "      <td>0.205882</td>\n",
       "      <td>34.705882</td>\n",
       "      <td>0.000000</td>\n",
       "      <td>10.352941</td>\n",
       "      <td>1.705882</td>\n",
       "      <td>1.705882</td>\n",
       "      <td>23.911765</td>\n",
       "    </tr>\n",
       "    <tr>\n",
       "      <th>643688</th>\n",
       "      <td>1827869</td>\n",
       "      <td>2013</td>\n",
       "      <td>1</td>\n",
       "      <td>1</td>\n",
       "      <td>1</td>\n",
       "      <td>0</td>\n",
       "      <td>0</td>\n",
       "      <td>0</td>\n",
       "      <td>1</td>\n",
       "      <td>0</td>\n",
       "      <td>...</td>\n",
       "      <td>0.000000</td>\n",
       "      <td>0.000000</td>\n",
       "      <td>0.000000</td>\n",
       "      <td>0.000000</td>\n",
       "      <td>0.000000</td>\n",
       "      <td>0.525424</td>\n",
       "      <td>0.000000</td>\n",
       "      <td>0.000000</td>\n",
       "      <td>0.000000</td>\n",
       "      <td>0.000000</td>\n",
       "    </tr>\n",
       "    <tr>\n",
       "      <th>643689</th>\n",
       "      <td>1827869</td>\n",
       "      <td>2014</td>\n",
       "      <td>2</td>\n",
       "      <td>0</td>\n",
       "      <td>0</td>\n",
       "      <td>1</td>\n",
       "      <td>0</td>\n",
       "      <td>0</td>\n",
       "      <td>1</td>\n",
       "      <td>0</td>\n",
       "      <td>...</td>\n",
       "      <td>0.000000</td>\n",
       "      <td>0.666667</td>\n",
       "      <td>0.666667</td>\n",
       "      <td>0.000000</td>\n",
       "      <td>0.000000</td>\n",
       "      <td>8.950000</td>\n",
       "      <td>1.033333</td>\n",
       "      <td>0.083333</td>\n",
       "      <td>0.083333</td>\n",
       "      <td>8.133333</td>\n",
       "    </tr>\n",
       "  </tbody>\n",
       "</table>\n",
       "<p>643690 rows × 164 columns</p>\n",
       "</div>"
      ],
      "text/plain": [
       "         persnr  year  nrEntry  ltue  employed_before  receipt_leh_before  \\\n",
       "0             7  2015        1     0                1                   0   \n",
       "1            18  2010        1     1                0                   0   \n",
       "2            18  2011        2     0                1                   0   \n",
       "3            18  2012        3     0                1                   0   \n",
       "4            18  2012        4     0                1                   0   \n",
       "...         ...   ...      ...   ...              ...                 ...   \n",
       "643685  1827860  2013        1     0                0                   0   \n",
       "643686  1827860  2015        2     1                0                   0   \n",
       "643687  1827860  2016        3     1                0                   0   \n",
       "643688  1827869  2013        1     1                1                   0   \n",
       "643689  1827869  2014        2     0                0                   1   \n",
       "\n",
       "        receipt_lhg_before  se_before  ASU_notue_seeking_before  \\\n",
       "0                        0          0                         1   \n",
       "1                        0          0                         0   \n",
       "2                        1          0                         1   \n",
       "3                        1          0                         1   \n",
       "4                        1          0                         1   \n",
       "...                    ...        ...                       ...   \n",
       "643685                   1          0                         0   \n",
       "643686                   1          0                         1   \n",
       "643687                   1          1                         0   \n",
       "643688                   0          0                         1   \n",
       "643689                   0          0                         1   \n",
       "\n",
       "        ASU_other_before  ...  minijob_tot_dur_byage  ft_tot_dur_byage  \\\n",
       "0                      0  ...               0.000000          0.000000   \n",
       "1                      0  ...               0.000000          0.000000   \n",
       "2                      0  ...               2.714286          2.714286   \n",
       "3                      0  ...               4.200000          4.200000   \n",
       "4                      0  ...               5.460000          5.460000   \n",
       "...                  ...  ...                    ...               ...   \n",
       "643685                 1  ...               0.000000          0.000000   \n",
       "643686                 0  ...               0.000000          0.000000   \n",
       "643687                 1  ...               0.000000          0.000000   \n",
       "643688                 0  ...               0.000000          0.000000   \n",
       "643689                 0  ...               0.000000          0.666667   \n",
       "\n",
       "        befrist_tot_dur_byage  leih_tot_dur_byage  LHG_tot_dur_byage  \\\n",
       "0                   15.043478            0.000000           0.000000   \n",
       "1                    0.000000            0.000000           0.000000   \n",
       "2                    0.000000            0.000000          10.775510   \n",
       "3                    0.000000            0.000000          12.100000   \n",
       "4                    0.000000            0.000000          13.360000   \n",
       "...                       ...                 ...                ...   \n",
       "643685               0.000000            0.000000           0.612903   \n",
       "643686               0.212121            0.212121          17.363636   \n",
       "643687               0.294118            0.205882          34.705882   \n",
       "643688               0.000000            0.000000           0.000000   \n",
       "643689               0.666667            0.000000           0.000000   \n",
       "\n",
       "        LEH_tot_dur_byage  almp_tot_dur_byage  almp_aw_tot_dur_byage  \\\n",
       "0                0.000000            0.000000               0.000000   \n",
       "1                0.000000            0.000000               0.000000   \n",
       "2                0.000000            8.367347               0.000000   \n",
       "3                0.000000            9.400000               0.000000   \n",
       "4                0.000000           10.320000               0.000000   \n",
       "...                   ...                 ...                    ...   \n",
       "643685           0.000000            0.000000               0.000000   \n",
       "643686           0.000000            8.909091               0.000000   \n",
       "643687           0.000000           10.352941               1.705882   \n",
       "643688           0.525424            0.000000               0.000000   \n",
       "643689           8.950000            1.033333               0.083333   \n",
       "\n",
       "        se_tot_dur_byage  seeking1_tot_dur_byage  \n",
       "0               0.000000                0.000000  \n",
       "1               0.000000                0.000000  \n",
       "2               0.000000                9.836735  \n",
       "3               0.000000                9.960000  \n",
       "4               0.000000               10.280000  \n",
       "...                  ...                     ...  \n",
       "643685          0.000000                0.000000  \n",
       "643686          0.000000                7.121212  \n",
       "643687          1.705882               23.911765  \n",
       "643688          0.000000                0.000000  \n",
       "643689          0.083333                8.133333  \n",
       "\n",
       "[643690 rows x 164 columns]"
      ]
     },
     "execution_count": 10,
     "metadata": {},
     "output_type": "execute_result"
    }
   ],
   "source": [
    "siab"
   ]
  },
  {
   "cell_type": "markdown",
   "id": "1f87e805",
   "metadata": {
    "papermill": {
     "duration": 0.01173,
     "end_time": "2025-08-19T18:22:58.499424",
     "exception": false,
     "start_time": "2025-08-19T18:22:58.487694",
     "status": "completed"
    },
    "tags": []
   },
   "source": [
    "# Splitting Data and Setting Training Data Size"
   ]
  },
  {
   "cell_type": "code",
   "execution_count": 11,
   "id": "910ae358",
   "metadata": {
    "execution": {
     "iopub.execute_input": "2025-08-19T18:22:58.521387Z",
     "iopub.status.busy": "2025-08-19T18:22:58.520257Z",
     "iopub.status.idle": "2025-08-19T18:22:58.737454Z",
     "shell.execute_reply": "2025-08-19T18:22:58.736626Z"
    },
    "papermill": {
     "duration": 0.230238,
     "end_time": "2025-08-19T18:22:58.739349",
     "exception": false,
     "start_time": "2025-08-19T18:22:58.509111",
     "status": "completed"
    },
    "tags": []
   },
   "outputs": [],
   "source": [
    "from fairness_multiverse.universe import sample_by_year_size\n",
    "\n",
    "siab_train = sample_by_year_size(siab,\n",
    "                               training_year=universe[\"training_year\"],\n",
    "                               training_size=universe[\"training_size\"])"
   ]
  },
  {
   "cell_type": "code",
   "execution_count": 12,
   "id": "919c8ff5",
   "metadata": {
    "execution": {
     "iopub.execute_input": "2025-08-19T18:22:58.762103Z",
     "iopub.status.busy": "2025-08-19T18:22:58.761495Z",
     "iopub.status.idle": "2025-08-19T18:22:58.768944Z",
     "shell.execute_reply": "2025-08-19T18:22:58.767916Z"
    },
    "papermill": {
     "duration": 0.019328,
     "end_time": "2025-08-19T18:22:58.770191",
     "exception": false,
     "start_time": "2025-08-19T18:22:58.750863",
     "status": "completed"
    },
    "tags": []
   },
   "outputs": [
    {
     "data": {
      "text/plain": [
       "(5000, 164)"
      ]
     },
     "execution_count": 12,
     "metadata": {},
     "output_type": "execute_result"
    }
   ],
   "source": [
    "siab_train.shape"
   ]
  },
  {
   "cell_type": "code",
   "execution_count": 13,
   "id": "feb13bf4",
   "metadata": {
    "execution": {
     "iopub.execute_input": "2025-08-19T18:22:58.793673Z",
     "iopub.status.busy": "2025-08-19T18:22:58.792762Z",
     "iopub.status.idle": "2025-08-19T18:22:58.806937Z",
     "shell.execute_reply": "2025-08-19T18:22:58.805566Z"
    },
    "papermill": {
     "duration": 0.027038,
     "end_time": "2025-08-19T18:22:58.808611",
     "exception": false,
     "start_time": "2025-08-19T18:22:58.781573",
     "status": "completed"
    },
    "tags": []
   },
   "outputs": [
    {
     "data": {
      "text/plain": [
       "year\n",
       "2014    5000\n",
       "dtype: int64"
      ]
     },
     "metadata": {},
     "output_type": "display_data"
    }
   ],
   "source": [
    "display(siab_train.groupby(\"year\").size())"
   ]
  },
  {
   "cell_type": "code",
   "execution_count": 14,
   "id": "0997782f",
   "metadata": {
    "execution": {
     "iopub.execute_input": "2025-08-19T18:22:58.841315Z",
     "iopub.status.busy": "2025-08-19T18:22:58.840327Z",
     "iopub.status.idle": "2025-08-19T18:22:59.070961Z",
     "shell.execute_reply": "2025-08-19T18:22:59.070237Z"
    },
    "papermill": {
     "duration": 0.244314,
     "end_time": "2025-08-19T18:22:59.072604",
     "exception": false,
     "start_time": "2025-08-19T18:22:58.828290",
     "status": "completed"
    },
    "tags": []
   },
   "outputs": [],
   "source": [
    "#siab_train = siab_s[siab_s.year < 2015]\n",
    "siab_calib = siab[siab.year == 2015]\n",
    "siab_test = siab[siab.year == 2016]"
   ]
  },
  {
   "cell_type": "code",
   "execution_count": 15,
   "id": "2c1e4012",
   "metadata": {
    "execution": {
     "iopub.execute_input": "2025-08-19T18:22:59.095766Z",
     "iopub.status.busy": "2025-08-19T18:22:59.095146Z",
     "iopub.status.idle": "2025-08-19T18:22:59.100644Z",
     "shell.execute_reply": "2025-08-19T18:22:59.099881Z"
    },
    "papermill": {
     "duration": 0.018678,
     "end_time": "2025-08-19T18:22:59.101918",
     "exception": false,
     "start_time": "2025-08-19T18:22:59.083240",
     "status": "completed"
    },
    "tags": []
   },
   "outputs": [],
   "source": [
    "#siab_calib.shape"
   ]
  },
  {
   "cell_type": "code",
   "execution_count": 16,
   "id": "f66b54ca",
   "metadata": {
    "execution": {
     "iopub.execute_input": "2025-08-19T18:22:59.125252Z",
     "iopub.status.busy": "2025-08-19T18:22:59.124189Z",
     "iopub.status.idle": "2025-08-19T18:22:59.130667Z",
     "shell.execute_reply": "2025-08-19T18:22:59.129554Z"
    },
    "papermill": {
     "duration": 0.019406,
     "end_time": "2025-08-19T18:22:59.132116",
     "exception": false,
     "start_time": "2025-08-19T18:22:59.112710",
     "status": "completed"
    },
    "tags": []
   },
   "outputs": [],
   "source": [
    "#siab_test.shape"
   ]
  },
  {
   "cell_type": "code",
   "execution_count": 17,
   "id": "27e4384d",
   "metadata": {
    "execution": {
     "iopub.execute_input": "2025-08-19T18:22:59.157133Z",
     "iopub.status.busy": "2025-08-19T18:22:59.156228Z",
     "iopub.status.idle": "2025-08-19T18:22:59.167860Z",
     "shell.execute_reply": "2025-08-19T18:22:59.166508Z"
    },
    "papermill": {
     "duration": 0.025271,
     "end_time": "2025-08-19T18:22:59.169435",
     "exception": false,
     "start_time": "2025-08-19T18:22:59.144164",
     "status": "completed"
    },
    "tags": []
   },
   "outputs": [],
   "source": [
    "X_train = siab_train.iloc[:,4:164]\n",
    "y_train = siab_train.iloc[:, [3]]"
   ]
  },
  {
   "cell_type": "code",
   "execution_count": 18,
   "id": "08ee8389",
   "metadata": {
    "execution": {
     "iopub.execute_input": "2025-08-19T18:22:59.194548Z",
     "iopub.status.busy": "2025-08-19T18:22:59.193498Z",
     "iopub.status.idle": "2025-08-19T18:22:59.250082Z",
     "shell.execute_reply": "2025-08-19T18:22:59.248991Z"
    },
    "papermill": {
     "duration": 0.071821,
     "end_time": "2025-08-19T18:22:59.253328",
     "exception": false,
     "start_time": "2025-08-19T18:22:59.181507",
     "status": "completed"
    },
    "tags": []
   },
   "outputs": [],
   "source": [
    "X_calib = siab_calib.iloc[:,4:164]\n",
    "y_calib = siab_calib.iloc[:, [3]]"
   ]
  },
  {
   "cell_type": "code",
   "execution_count": 19,
   "id": "b7ff42e0",
   "metadata": {
    "execution": {
     "iopub.execute_input": "2025-08-19T18:22:59.290448Z",
     "iopub.status.busy": "2025-08-19T18:22:59.290001Z",
     "iopub.status.idle": "2025-08-19T18:22:59.344600Z",
     "shell.execute_reply": "2025-08-19T18:22:59.343895Z"
    },
    "papermill": {
     "duration": 0.069424,
     "end_time": "2025-08-19T18:22:59.346233",
     "exception": false,
     "start_time": "2025-08-19T18:22:59.276809",
     "status": "completed"
    },
    "tags": []
   },
   "outputs": [],
   "source": [
    "X_test = siab_test.iloc[:,4:164]\n",
    "y_true = siab_test.iloc[:, [3]]"
   ]
  },
  {
   "cell_type": "code",
   "execution_count": 20,
   "id": "0275101e",
   "metadata": {
    "execution": {
     "iopub.execute_input": "2025-08-19T18:22:59.374569Z",
     "iopub.status.busy": "2025-08-19T18:22:59.373626Z",
     "iopub.status.idle": "2025-08-19T18:22:59.531403Z",
     "shell.execute_reply": "2025-08-19T18:22:59.529386Z"
    },
    "papermill": {
     "duration": 0.174202,
     "end_time": "2025-08-19T18:22:59.533804",
     "exception": false,
     "start_time": "2025-08-19T18:22:59.359602",
     "status": "completed"
    },
    "tags": []
   },
   "outputs": [],
   "source": [
    "# Auxiliary data needed downstream in the pipeline\n",
    "\n",
    "org_train = X_train.copy()\n",
    "org_test = X_test.copy()\n",
    "org_calib = X_calib.copy()"
   ]
  },
  {
   "cell_type": "markdown",
   "id": "b461e618",
   "metadata": {
    "papermill": {
     "duration": 0.010949,
     "end_time": "2025-08-19T18:22:59.557383",
     "exception": false,
     "start_time": "2025-08-19T18:22:59.546434",
     "status": "completed"
    },
    "tags": []
   },
   "source": [
    "# Preprocessing Data"
   ]
  },
  {
   "cell_type": "code",
   "execution_count": 21,
   "id": "78e74c4b",
   "metadata": {
    "execution": {
     "iopub.execute_input": "2025-08-19T18:22:59.581731Z",
     "iopub.status.busy": "2025-08-19T18:22:59.580362Z",
     "iopub.status.idle": "2025-08-19T18:22:59.589255Z",
     "shell.execute_reply": "2025-08-19T18:22:59.587753Z"
    },
    "papermill": {
     "duration": 0.022041,
     "end_time": "2025-08-19T18:22:59.591019",
     "exception": false,
     "start_time": "2025-08-19T18:22:59.568978",
     "status": "completed"
    },
    "tags": []
   },
   "outputs": [],
   "source": [
    "# EXCLUDE PROTECTED FEATURES\n",
    "# --------------------------\n",
    "\n",
    "excluded_features = universe[\"exclude_features\"].split(\"-\")\n",
    "excluded_features_dictionary = {\n",
    "    \"nationality\": [\"maxdeutsch1\", \"maxdeutsch.Missing.\"],\n",
    "    \"sex\": [\"frau1\"],\n",
    "    \"age\": [\"age\"],\n",
    "}"
   ]
  },
  {
   "cell_type": "code",
   "execution_count": 22,
   "id": "f8e63555",
   "metadata": {
    "execution": {
     "iopub.execute_input": "2025-08-19T18:22:59.633203Z",
     "iopub.status.busy": "2025-08-19T18:22:59.631740Z",
     "iopub.status.idle": "2025-08-19T18:22:59.641018Z",
     "shell.execute_reply": "2025-08-19T18:22:59.639419Z"
    },
    "papermill": {
     "duration": 0.032825,
     "end_time": "2025-08-19T18:22:59.643636",
     "exception": false,
     "start_time": "2025-08-19T18:22:59.610811",
     "status": "completed"
    },
    "tags": []
   },
   "outputs": [],
   "source": [
    "excluded_features_columns = [\n",
    "    excluded_features_dictionary[f] for f in excluded_features if len(f) > 0 and f != \"none\"\n",
    "]"
   ]
  },
  {
   "cell_type": "code",
   "execution_count": 23,
   "id": "da781f7c",
   "metadata": {
    "execution": {
     "iopub.execute_input": "2025-08-19T18:22:59.675061Z",
     "iopub.status.busy": "2025-08-19T18:22:59.674648Z",
     "iopub.status.idle": "2025-08-19T18:22:59.712432Z",
     "shell.execute_reply": "2025-08-19T18:22:59.711428Z"
    },
    "papermill": {
     "duration": 0.053108,
     "end_time": "2025-08-19T18:22:59.715307",
     "exception": false,
     "start_time": "2025-08-19T18:22:59.662199",
     "status": "completed"
    },
    "tags": []
   },
   "outputs": [],
   "source": [
    "from fairness_multiverse.universe import flatten_once\n",
    "\n",
    "excluded_features_columns = flatten_once(excluded_features_columns)"
   ]
  },
  {
   "cell_type": "code",
   "execution_count": 24,
   "id": "37fef0f0",
   "metadata": {
    "execution": {
     "iopub.execute_input": "2025-08-19T18:22:59.751885Z",
     "iopub.status.busy": "2025-08-19T18:22:59.751472Z",
     "iopub.status.idle": "2025-08-19T18:22:59.760182Z",
     "shell.execute_reply": "2025-08-19T18:22:59.759334Z"
    },
    "papermill": {
     "duration": 0.022669,
     "end_time": "2025-08-19T18:22:59.761497",
     "exception": false,
     "start_time": "2025-08-19T18:22:59.738828",
     "status": "completed"
    },
    "tags": []
   },
   "outputs": [
    {
     "name": "stdout",
     "output_type": "stream",
     "text": [
      "Dropping features: ['maxdeutsch1', 'maxdeutsch.Missing.']\n"
     ]
    }
   ],
   "source": [
    "if len(excluded_features_columns) > 0:\n",
    "    print(f\"Dropping features: {excluded_features_columns}\")\n",
    "    X_train.drop(excluded_features_columns, axis=1, inplace=True)"
   ]
  },
  {
   "cell_type": "code",
   "execution_count": 25,
   "id": "d029e3e9",
   "metadata": {
    "execution": {
     "iopub.execute_input": "2025-08-19T18:22:59.787160Z",
     "iopub.status.busy": "2025-08-19T18:22:59.786481Z",
     "iopub.status.idle": "2025-08-19T18:22:59.914479Z",
     "shell.execute_reply": "2025-08-19T18:22:59.913053Z"
    },
    "papermill": {
     "duration": 0.142287,
     "end_time": "2025-08-19T18:22:59.916918",
     "exception": false,
     "start_time": "2025-08-19T18:22:59.774631",
     "status": "completed"
    },
    "tags": []
   },
   "outputs": [
    {
     "name": "stdout",
     "output_type": "stream",
     "text": [
      "Dropping features: ['maxdeutsch1', 'maxdeutsch.Missing.']\n"
     ]
    }
   ],
   "source": [
    "if len(excluded_features_columns) > 0:\n",
    "    print(f\"Dropping features: {excluded_features_columns}\")\n",
    "    X_test.drop(excluded_features_columns, axis=1, inplace=True)"
   ]
  },
  {
   "cell_type": "code",
   "execution_count": 26,
   "id": "01d571f0",
   "metadata": {
    "execution": {
     "iopub.execute_input": "2025-08-19T18:22:59.940945Z",
     "iopub.status.busy": "2025-08-19T18:22:59.940633Z",
     "iopub.status.idle": "2025-08-19T18:22:59.995621Z",
     "shell.execute_reply": "2025-08-19T18:22:59.994745Z"
    },
    "papermill": {
     "duration": 0.069436,
     "end_time": "2025-08-19T18:22:59.997972",
     "exception": false,
     "start_time": "2025-08-19T18:22:59.928536",
     "status": "completed"
    },
    "tags": []
   },
   "outputs": [
    {
     "name": "stdout",
     "output_type": "stream",
     "text": [
      "Dropping features: ['maxdeutsch1', 'maxdeutsch.Missing.']\n"
     ]
    }
   ],
   "source": [
    "if len(excluded_features_columns) > 0:\n",
    "    print(f\"Dropping features: {excluded_features_columns}\")\n",
    "    X_calib.drop(excluded_features_columns, axis=1, inplace=True)"
   ]
  },
  {
   "cell_type": "code",
   "execution_count": 27,
   "id": "3037356e",
   "metadata": {
    "execution": {
     "iopub.execute_input": "2025-08-19T18:23:00.029893Z",
     "iopub.status.busy": "2025-08-19T18:23:00.028782Z",
     "iopub.status.idle": "2025-08-19T18:23:00.037132Z",
     "shell.execute_reply": "2025-08-19T18:23:00.035097Z"
    },
    "papermill": {
     "duration": 0.033899,
     "end_time": "2025-08-19T18:23:00.049900",
     "exception": false,
     "start_time": "2025-08-19T18:23:00.016001",
     "status": "completed"
    },
    "tags": []
   },
   "outputs": [],
   "source": [
    "# EXCLUDE CERTAIN SUBGROUPS\n",
    "# -------------------------\n",
    "\n",
    "mode = universe.get(\"exclude_subgroups\", \"keep-all\") # Defaults to \"keep-all\" if the key is missing."
   ]
  },
  {
   "cell_type": "code",
   "execution_count": 28,
   "id": "9d1e63fd",
   "metadata": {
    "execution": {
     "iopub.execute_input": "2025-08-19T18:23:00.098342Z",
     "iopub.status.busy": "2025-08-19T18:23:00.097371Z",
     "iopub.status.idle": "2025-08-19T18:23:00.108641Z",
     "shell.execute_reply": "2025-08-19T18:23:00.107284Z"
    },
    "papermill": {
     "duration": 0.042646,
     "end_time": "2025-08-19T18:23:00.110490",
     "exception": false,
     "start_time": "2025-08-19T18:23:00.067844",
     "status": "completed"
    },
    "tags": []
   },
   "outputs": [],
   "source": [
    "if mode == \"keep-all\":\n",
    "    keep_mask = pd.Series(True, index=org_train.index)\n",
    "\n",
    "elif mode == \"drop-non-german\":\n",
    "    keep_mask = (org_train[\"maxdeutsch1\"] == 1) & (org_train[\"maxdeutsch.Missing.\"] == 0)\n",
    "\n",
    "else:\n",
    "    raise ValueError(f\"Unsupported mode for exclude_subgroups: {mode}\")"
   ]
  },
  {
   "cell_type": "code",
   "execution_count": 29,
   "id": "d3b65474",
   "metadata": {
    "execution": {
     "iopub.execute_input": "2025-08-19T18:23:00.148421Z",
     "iopub.status.busy": "2025-08-19T18:23:00.147870Z",
     "iopub.status.idle": "2025-08-19T18:23:00.155043Z",
     "shell.execute_reply": "2025-08-19T18:23:00.154160Z"
    },
    "papermill": {
     "duration": 0.021641,
     "end_time": "2025-08-19T18:23:00.156371",
     "exception": false,
     "start_time": "2025-08-19T18:23:00.134730",
     "status": "completed"
    },
    "tags": []
   },
   "outputs": [
    {
     "name": "stdout",
     "output_type": "stream",
     "text": [
      "Dropping 741 rows (14.82%) where mode='drop-non-german'\n"
     ]
    }
   ],
   "source": [
    "n_drop = (~keep_mask).sum() # Calculates how many rows are set to be dropped\n",
    "if n_drop > 0:\n",
    "    pct = n_drop / len(keep_mask) * 100\n",
    "    print(f\"Dropping {n_drop} rows ({pct:.2f}%) where mode='{mode}'\")"
   ]
  },
  {
   "cell_type": "code",
   "execution_count": 30,
   "id": "f44389b3",
   "metadata": {
    "execution": {
     "iopub.execute_input": "2025-08-19T18:23:00.193324Z",
     "iopub.status.busy": "2025-08-19T18:23:00.192885Z",
     "iopub.status.idle": "2025-08-19T18:23:00.199997Z",
     "shell.execute_reply": "2025-08-19T18:23:00.199074Z"
    },
    "papermill": {
     "duration": 0.033872,
     "end_time": "2025-08-19T18:23:00.201958",
     "exception": false,
     "start_time": "2025-08-19T18:23:00.168086",
     "status": "completed"
    },
    "tags": []
   },
   "outputs": [],
   "source": [
    "X_train = X_train[keep_mask]"
   ]
  },
  {
   "cell_type": "code",
   "execution_count": 31,
   "id": "ceca8c2a",
   "metadata": {
    "execution": {
     "iopub.execute_input": "2025-08-19T18:23:00.252666Z",
     "iopub.status.busy": "2025-08-19T18:23:00.252188Z",
     "iopub.status.idle": "2025-08-19T18:23:00.257370Z",
     "shell.execute_reply": "2025-08-19T18:23:00.256655Z"
    },
    "papermill": {
     "duration": 0.029478,
     "end_time": "2025-08-19T18:23:00.264258",
     "exception": false,
     "start_time": "2025-08-19T18:23:00.234780",
     "status": "completed"
    },
    "tags": []
   },
   "outputs": [],
   "source": [
    "y_train = y_train[keep_mask]"
   ]
  },
  {
   "cell_type": "markdown",
   "id": "04d31e2f",
   "metadata": {
    "papermill": {
     "duration": 0.012028,
     "end_time": "2025-08-19T18:23:00.288898",
     "exception": false,
     "start_time": "2025-08-19T18:23:00.276870",
     "status": "completed"
    },
    "tags": []
   },
   "source": [
    "# Model Training"
   ]
  },
  {
   "cell_type": "code",
   "execution_count": 32,
   "id": "db991733",
   "metadata": {
    "execution": {
     "iopub.execute_input": "2025-08-19T18:23:00.313807Z",
     "iopub.status.busy": "2025-08-19T18:23:00.311704Z",
     "iopub.status.idle": "2025-08-19T18:23:00.425738Z",
     "shell.execute_reply": "2025-08-19T18:23:00.419953Z"
    },
    "papermill": {
     "duration": 0.12831,
     "end_time": "2025-08-19T18:23:00.427711",
     "exception": false,
     "start_time": "2025-08-19T18:23:00.299401",
     "status": "completed"
    },
    "tags": []
   },
   "outputs": [],
   "source": [
    "from sklearn.linear_model import LogisticRegression\n",
    "from sklearn.ensemble import GradientBoostingClassifier, RandomForestClassifier\n",
    "\n",
    "if (universe[\"model\"] == \"logreg\"):\n",
    "    model = LogisticRegression() #penalty=\"none\", solver=\"newton-cg\", max_iter=1)\n",
    "elif (universe[\"model\"] == \"penalized_logreg\"):\n",
    "    model = LogisticRegression(penalty=\"l2\", C=0.1) #, solver=\"newton-cg\", max_iter=1)\n",
    "elif (universe[\"model\"] == \"rf\"):\n",
    "    model = RandomForestClassifier() # n_estimators=100, n_jobs=-1\n",
    "elif (universe[\"model\"] == \"gbm\"):\n",
    "    model = GradientBoostingClassifier()\n",
    "elif (universe[\"model\"] == \"elasticnet\"):\n",
    "    model = LogisticRegression(penalty = 'elasticnet', solver = 'saga', l1_ratio = 0.5) # max_iter=5000\n",
    "else:\n",
    "    raise \"Unsupported universe.model\""
   ]
  },
  {
   "cell_type": "code",
   "execution_count": 33,
   "id": "a4b5cd25",
   "metadata": {
    "execution": {
     "iopub.execute_input": "2025-08-19T18:23:00.469123Z",
     "iopub.status.busy": "2025-08-19T18:23:00.453280Z",
     "iopub.status.idle": "2025-08-19T18:23:00.478430Z",
     "shell.execute_reply": "2025-08-19T18:23:00.476532Z"
    },
    "papermill": {
     "duration": 0.040761,
     "end_time": "2025-08-19T18:23:00.480347",
     "exception": false,
     "start_time": "2025-08-19T18:23:00.439586",
     "status": "completed"
    },
    "tags": []
   },
   "outputs": [],
   "source": [
    "from sklearn.pipeline import Pipeline\n",
    "from sklearn.preprocessing import StandardScaler\n",
    "\n",
    "model = Pipeline([\n",
    "    #(\"continuous_processor\", continuous_processor),\n",
    "    #(\"categorical_preprocessor\", categorical_preprocessor),\n",
    "    (\"scale\", StandardScaler() if universe[\"scale\"] == \"scale\" else None), \n",
    "    (\"model\", model),\n",
    "])"
   ]
  },
  {
   "cell_type": "code",
   "execution_count": 34,
   "id": "283a904d",
   "metadata": {
    "execution": {
     "iopub.execute_input": "2025-08-19T18:23:00.515770Z",
     "iopub.status.busy": "2025-08-19T18:23:00.515361Z",
     "iopub.status.idle": "2025-08-19T18:23:00.655676Z",
     "shell.execute_reply": "2025-08-19T18:23:00.654304Z"
    },
    "papermill": {
     "duration": 0.15582,
     "end_time": "2025-08-19T18:23:00.657118",
     "exception": false,
     "start_time": "2025-08-19T18:23:00.501298",
     "status": "completed"
    },
    "tags": []
   },
   "outputs": [
    {
     "name": "stderr",
     "output_type": "stream",
     "text": [
      "/dss/dsshome1/0C/ra93lal2/.local/share/virtualenvs/CMA_Fairness_v2-3j10GkSs/lib/python3.10/site-packages/sklearn/linear_model/_logistic.py:444: ConvergenceWarning: lbfgs failed to converge (status=1):\n",
      "STOP: TOTAL NO. of ITERATIONS REACHED LIMIT.\n",
      "\n",
      "Increase the number of iterations (max_iter) or scale the data as shown in:\n",
      "    https://scikit-learn.org/stable/modules/preprocessing.html\n",
      "Please also refer to the documentation for alternative solver options:\n",
      "    https://scikit-learn.org/stable/modules/linear_model.html#logistic-regression\n",
      "  n_iter_i = _check_optimize_result(\n"
     ]
    },
    {
     "data": {
      "text/html": [
       "<style>#sk-container-id-1 {color: black;background-color: white;}#sk-container-id-1 pre{padding: 0;}#sk-container-id-1 div.sk-toggleable {background-color: white;}#sk-container-id-1 label.sk-toggleable__label {cursor: pointer;display: block;width: 100%;margin-bottom: 0;padding: 0.3em;box-sizing: border-box;text-align: center;}#sk-container-id-1 label.sk-toggleable__label-arrow:before {content: \"▸\";float: left;margin-right: 0.25em;color: #696969;}#sk-container-id-1 label.sk-toggleable__label-arrow:hover:before {color: black;}#sk-container-id-1 div.sk-estimator:hover label.sk-toggleable__label-arrow:before {color: black;}#sk-container-id-1 div.sk-toggleable__content {max-height: 0;max-width: 0;overflow: hidden;text-align: left;background-color: #f0f8ff;}#sk-container-id-1 div.sk-toggleable__content pre {margin: 0.2em;color: black;border-radius: 0.25em;background-color: #f0f8ff;}#sk-container-id-1 input.sk-toggleable__control:checked~div.sk-toggleable__content {max-height: 200px;max-width: 100%;overflow: auto;}#sk-container-id-1 input.sk-toggleable__control:checked~label.sk-toggleable__label-arrow:before {content: \"▾\";}#sk-container-id-1 div.sk-estimator input.sk-toggleable__control:checked~label.sk-toggleable__label {background-color: #d4ebff;}#sk-container-id-1 div.sk-label input.sk-toggleable__control:checked~label.sk-toggleable__label {background-color: #d4ebff;}#sk-container-id-1 input.sk-hidden--visually {border: 0;clip: rect(1px 1px 1px 1px);clip: rect(1px, 1px, 1px, 1px);height: 1px;margin: -1px;overflow: hidden;padding: 0;position: absolute;width: 1px;}#sk-container-id-1 div.sk-estimator {font-family: monospace;background-color: #f0f8ff;border: 1px dotted black;border-radius: 0.25em;box-sizing: border-box;margin-bottom: 0.5em;}#sk-container-id-1 div.sk-estimator:hover {background-color: #d4ebff;}#sk-container-id-1 div.sk-parallel-item::after {content: \"\";width: 100%;border-bottom: 1px solid gray;flex-grow: 1;}#sk-container-id-1 div.sk-label:hover label.sk-toggleable__label {background-color: #d4ebff;}#sk-container-id-1 div.sk-serial::before {content: \"\";position: absolute;border-left: 1px solid gray;box-sizing: border-box;top: 0;bottom: 0;left: 50%;z-index: 0;}#sk-container-id-1 div.sk-serial {display: flex;flex-direction: column;align-items: center;background-color: white;padding-right: 0.2em;padding-left: 0.2em;position: relative;}#sk-container-id-1 div.sk-item {position: relative;z-index: 1;}#sk-container-id-1 div.sk-parallel {display: flex;align-items: stretch;justify-content: center;background-color: white;position: relative;}#sk-container-id-1 div.sk-item::before, #sk-container-id-1 div.sk-parallel-item::before {content: \"\";position: absolute;border-left: 1px solid gray;box-sizing: border-box;top: 0;bottom: 0;left: 50%;z-index: -1;}#sk-container-id-1 div.sk-parallel-item {display: flex;flex-direction: column;z-index: 1;position: relative;background-color: white;}#sk-container-id-1 div.sk-parallel-item:first-child::after {align-self: flex-end;width: 50%;}#sk-container-id-1 div.sk-parallel-item:last-child::after {align-self: flex-start;width: 50%;}#sk-container-id-1 div.sk-parallel-item:only-child::after {width: 0;}#sk-container-id-1 div.sk-dashed-wrapped {border: 1px dashed gray;margin: 0 0.4em 0.5em 0.4em;box-sizing: border-box;padding-bottom: 0.4em;background-color: white;}#sk-container-id-1 div.sk-label label {font-family: monospace;font-weight: bold;display: inline-block;line-height: 1.2em;}#sk-container-id-1 div.sk-label-container {text-align: center;}#sk-container-id-1 div.sk-container {/* jupyter's `normalize.less` sets `[hidden] { display: none; }` but bootstrap.min.css set `[hidden] { display: none !important; }` so we also need the `!important` here to be able to override the default hidden behavior on the sphinx rendered scikit-learn.org. See: https://github.com/scikit-learn/scikit-learn/issues/21755 */display: inline-block !important;position: relative;}#sk-container-id-1 div.sk-text-repr-fallback {display: none;}</style><div id=\"sk-container-id-1\" class=\"sk-top-container\"><div class=\"sk-text-repr-fallback\"><pre>Pipeline(steps=[(&#x27;scale&#x27;, StandardScaler()), (&#x27;model&#x27;, LogisticRegression())])</pre><b>In a Jupyter environment, please rerun this cell to show the HTML representation or trust the notebook. <br />On GitHub, the HTML representation is unable to render, please try loading this page with nbviewer.org.</b></div><div class=\"sk-container\" hidden><div class=\"sk-item sk-dashed-wrapped\"><div class=\"sk-label-container\"><div class=\"sk-label sk-toggleable\"><input class=\"sk-toggleable__control sk-hidden--visually\" id=\"sk-estimator-id-1\" type=\"checkbox\" ><label for=\"sk-estimator-id-1\" class=\"sk-toggleable__label sk-toggleable__label-arrow\">Pipeline</label><div class=\"sk-toggleable__content\"><pre>Pipeline(steps=[(&#x27;scale&#x27;, StandardScaler()), (&#x27;model&#x27;, LogisticRegression())])</pre></div></div></div><div class=\"sk-serial\"><div class=\"sk-item\"><div class=\"sk-estimator sk-toggleable\"><input class=\"sk-toggleable__control sk-hidden--visually\" id=\"sk-estimator-id-2\" type=\"checkbox\" ><label for=\"sk-estimator-id-2\" class=\"sk-toggleable__label sk-toggleable__label-arrow\">StandardScaler</label><div class=\"sk-toggleable__content\"><pre>StandardScaler()</pre></div></div></div><div class=\"sk-item\"><div class=\"sk-estimator sk-toggleable\"><input class=\"sk-toggleable__control sk-hidden--visually\" id=\"sk-estimator-id-3\" type=\"checkbox\" ><label for=\"sk-estimator-id-3\" class=\"sk-toggleable__label sk-toggleable__label-arrow\">LogisticRegression</label><div class=\"sk-toggleable__content\"><pre>LogisticRegression()</pre></div></div></div></div></div></div></div>"
      ],
      "text/plain": [
       "Pipeline(steps=[('scale', StandardScaler()), ('model', LogisticRegression())])"
      ]
     },
     "execution_count": 34,
     "metadata": {},
     "output_type": "execute_result"
    }
   ],
   "source": [
    "model.fit(X_train, y_train.values.ravel())"
   ]
  },
  {
   "cell_type": "code",
   "execution_count": 35,
   "id": "6e15e313",
   "metadata": {
    "execution": {
     "iopub.execute_input": "2025-08-19T18:23:00.684996Z",
     "iopub.status.busy": "2025-08-19T18:23:00.684554Z",
     "iopub.status.idle": "2025-08-19T18:23:00.880547Z",
     "shell.execute_reply": "2025-08-19T18:23:00.879498Z"
    },
    "papermill": {
     "duration": 0.210225,
     "end_time": "2025-08-19T18:23:00.881993",
     "exception": false,
     "start_time": "2025-08-19T18:23:00.671768",
     "status": "completed"
    },
    "tags": []
   },
   "outputs": [
    {
     "data": {
      "text/plain": [
       "0.8556905584661688"
      ]
     },
     "execution_count": 35,
     "metadata": {},
     "output_type": "execute_result"
    }
   ],
   "source": [
    "from fairness_multiverse.universe import predict_w_threshold\n",
    "\n",
    "probs_test = model.predict_proba(X_test)\n",
    "\n",
    "'''\n",
    "Below code returns a boolean array (or binary 0/1 array depending on how it’s used) where each element \n",
    "is True if the probability of class 1 is greater than or equal to the threshold, and False otherwise.\n",
    "'''\n",
    "y_pred_default = predict_w_threshold(probs_test, 0.5)\n",
    "\n",
    "from sklearn.metrics import accuracy_score\n",
    "\n",
    "# Naive prediction\n",
    "accuracy_score(y_true = y_true, y_pred = y_pred_default)"
   ]
  },
  {
   "cell_type": "code",
   "execution_count": 36,
   "id": "6f14067c",
   "metadata": {
    "execution": {
     "iopub.execute_input": "2025-08-19T18:23:00.950590Z",
     "iopub.status.busy": "2025-08-19T18:23:00.937743Z",
     "iopub.status.idle": "2025-08-19T18:23:01.172912Z",
     "shell.execute_reply": "2025-08-19T18:23:01.171520Z"
    },
    "papermill": {
     "duration": 0.278413,
     "end_time": "2025-08-19T18:23:01.175979",
     "exception": false,
     "start_time": "2025-08-19T18:23:00.897566",
     "status": "completed"
    },
    "tags": []
   },
   "outputs": [
    {
     "data": {
      "text/plain": [
       "array([0, 0, 0, ..., 0, 0, 0])"
      ]
     },
     "execution_count": 36,
     "metadata": {},
     "output_type": "execute_result"
    }
   ],
   "source": [
    "model.predict(X_test)"
   ]
  },
  {
   "cell_type": "markdown",
   "id": "3759920c",
   "metadata": {
    "papermill": {
     "duration": 0.012007,
     "end_time": "2025-08-19T18:23:01.209353",
     "exception": false,
     "start_time": "2025-08-19T18:23:01.197346",
     "status": "completed"
    },
    "tags": []
   },
   "source": [
    "# Conformal Prediction"
   ]
  },
  {
   "cell_type": "code",
   "execution_count": 37,
   "id": "14b27f59",
   "metadata": {
    "execution": {
     "iopub.execute_input": "2025-08-19T18:23:01.234589Z",
     "iopub.status.busy": "2025-08-19T18:23:01.234156Z",
     "iopub.status.idle": "2025-08-19T18:23:01.238949Z",
     "shell.execute_reply": "2025-08-19T18:23:01.238129Z"
    },
    "papermill": {
     "duration": 0.019121,
     "end_time": "2025-08-19T18:23:01.240305",
     "exception": false,
     "start_time": "2025-08-19T18:23:01.221184",
     "status": "completed"
    },
    "tags": []
   },
   "outputs": [],
   "source": [
    "# Miscoverage level for conformal prediction (10% allowed error rate => 90% target coverage)\n",
    "alpha = 0.1"
   ]
  },
  {
   "cell_type": "code",
   "execution_count": 38,
   "id": "59102472",
   "metadata": {
    "execution": {
     "iopub.execute_input": "2025-08-19T18:23:01.265921Z",
     "iopub.status.busy": "2025-08-19T18:23:01.265586Z",
     "iopub.status.idle": "2025-08-19T18:23:01.437051Z",
     "shell.execute_reply": "2025-08-19T18:23:01.436152Z"
    },
    "papermill": {
     "duration": 0.185716,
     "end_time": "2025-08-19T18:23:01.438709",
     "exception": false,
     "start_time": "2025-08-19T18:23:01.252993",
     "status": "completed"
    },
    "tags": []
   },
   "outputs": [],
   "source": [
    "probs_calib = model.predict_proba(X_calib)"
   ]
  },
  {
   "cell_type": "code",
   "execution_count": 39,
   "id": "a792d4dd",
   "metadata": {
    "execution": {
     "iopub.execute_input": "2025-08-19T18:23:01.471002Z",
     "iopub.status.busy": "2025-08-19T18:23:01.464746Z",
     "iopub.status.idle": "2025-08-19T18:23:01.479980Z",
     "shell.execute_reply": "2025-08-19T18:23:01.479105Z"
    },
    "papermill": {
     "duration": 0.030731,
     "end_time": "2025-08-19T18:23:01.481609",
     "exception": false,
     "start_time": "2025-08-19T18:23:01.450878",
     "status": "completed"
    },
    "tags": []
   },
   "outputs": [],
   "source": [
    "y_calib = y_calib.values.ravel().astype(int)"
   ]
  },
  {
   "cell_type": "code",
   "execution_count": 40,
   "id": "650fd033",
   "metadata": {
    "execution": {
     "iopub.execute_input": "2025-08-19T18:23:01.510196Z",
     "iopub.status.busy": "2025-08-19T18:23:01.509283Z",
     "iopub.status.idle": "2025-08-19T18:23:01.520523Z",
     "shell.execute_reply": "2025-08-19T18:23:01.519430Z"
    },
    "papermill": {
     "duration": 0.026812,
     "end_time": "2025-08-19T18:23:01.522528",
     "exception": false,
     "start_time": "2025-08-19T18:23:01.495716",
     "status": "completed"
    },
    "tags": []
   },
   "outputs": [],
   "source": [
    "from fairness_multiverse.conformal import compute_nc_scores\n",
    "\n",
    "# Compute nonconformity scores on calibration set (1 - probability of true class)\n",
    "nc_scores = compute_nc_scores(probs_calib, y_calib)"
   ]
  },
  {
   "cell_type": "code",
   "execution_count": 41,
   "id": "28ada44c",
   "metadata": {
    "execution": {
     "iopub.execute_input": "2025-08-19T18:23:01.562180Z",
     "iopub.status.busy": "2025-08-19T18:23:01.560913Z",
     "iopub.status.idle": "2025-08-19T18:23:01.572099Z",
     "shell.execute_reply": "2025-08-19T18:23:01.570963Z"
    },
    "papermill": {
     "duration": 0.035506,
     "end_time": "2025-08-19T18:23:01.574187",
     "exception": false,
     "start_time": "2025-08-19T18:23:01.538681",
     "status": "completed"
    },
    "tags": []
   },
   "outputs": [],
   "source": [
    "from fairness_multiverse.conformal import find_threshold\n",
    "\n",
    "# Find conformal threshold q_hat for the given alpha (split conformal method)\n",
    "q_hat = find_threshold(nc_scores, alpha)"
   ]
  },
  {
   "cell_type": "code",
   "execution_count": 42,
   "id": "df56469e",
   "metadata": {
    "execution": {
     "iopub.execute_input": "2025-08-19T18:23:01.628011Z",
     "iopub.status.busy": "2025-08-19T18:23:01.627134Z",
     "iopub.status.idle": "2025-08-19T18:23:01.634428Z",
     "shell.execute_reply": "2025-08-19T18:23:01.633522Z"
    },
    "papermill": {
     "duration": 0.050042,
     "end_time": "2025-08-19T18:23:01.652584",
     "exception": false,
     "start_time": "2025-08-19T18:23:01.602542",
     "status": "completed"
    },
    "tags": []
   },
   "outputs": [
    {
     "data": {
      "text/plain": [
       "0.6920192977128858"
      ]
     },
     "execution_count": 42,
     "metadata": {},
     "output_type": "execute_result"
    }
   ],
   "source": [
    "q_hat"
   ]
  },
  {
   "cell_type": "code",
   "execution_count": 43,
   "id": "aa1f5faa",
   "metadata": {
    "execution": {
     "iopub.execute_input": "2025-08-19T18:23:01.679592Z",
     "iopub.status.busy": "2025-08-19T18:23:01.678132Z",
     "iopub.status.idle": "2025-08-19T18:23:02.423098Z",
     "shell.execute_reply": "2025-08-19T18:23:02.421369Z"
    },
    "papermill": {
     "duration": 0.760346,
     "end_time": "2025-08-19T18:23:02.425157",
     "exception": false,
     "start_time": "2025-08-19T18:23:01.664811",
     "status": "completed"
    },
    "tags": []
   },
   "outputs": [],
   "source": [
    "from fairness_multiverse.conformal import predict_conformal_sets\n",
    "\n",
    "# Generate prediction sets for each test example\n",
    "pred_sets = predict_conformal_sets(model, X_test, q_hat)"
   ]
  },
  {
   "cell_type": "code",
   "execution_count": 44,
   "id": "97f67a6b",
   "metadata": {
    "execution": {
     "iopub.execute_input": "2025-08-19T18:23:02.457431Z",
     "iopub.status.busy": "2025-08-19T18:23:02.454958Z",
     "iopub.status.idle": "2025-08-19T18:23:02.482862Z",
     "shell.execute_reply": "2025-08-19T18:23:02.470605Z"
    },
    "papermill": {
     "duration": 0.045879,
     "end_time": "2025-08-19T18:23:02.484993",
     "exception": false,
     "start_time": "2025-08-19T18:23:02.439114",
     "status": "completed"
    },
    "tags": []
   },
   "outputs": [],
   "source": [
    "y_true = y_true.squeeze()"
   ]
  },
  {
   "cell_type": "code",
   "execution_count": 45,
   "id": "e700e9a7",
   "metadata": {
    "execution": {
     "iopub.execute_input": "2025-08-19T18:23:02.542762Z",
     "iopub.status.busy": "2025-08-19T18:23:02.542197Z",
     "iopub.status.idle": "2025-08-19T18:23:03.138663Z",
     "shell.execute_reply": "2025-08-19T18:23:03.133796Z"
    },
    "papermill": {
     "duration": 0.628921,
     "end_time": "2025-08-19T18:23:03.140816",
     "exception": false,
     "start_time": "2025-08-19T18:23:02.511895",
     "status": "completed"
    },
    "tags": []
   },
   "outputs": [],
   "source": [
    "from fairness_multiverse.conformal import evaluate_sets\n",
    "\n",
    "# Evaluate coverage and average set size on test data\n",
    "metrics = evaluate_sets(pred_sets, y_true)"
   ]
  },
  {
   "cell_type": "markdown",
   "id": "efbacec0",
   "metadata": {
    "papermill": {
     "duration": 0.04165,
     "end_time": "2025-08-19T18:23:03.198474",
     "exception": false,
     "start_time": "2025-08-19T18:23:03.156824",
     "status": "completed"
    },
    "tags": []
   },
   "source": [
    "# CP Metrics"
   ]
  },
  {
   "cell_type": "code",
   "execution_count": 46,
   "id": "9de55fb1",
   "metadata": {
    "execution": {
     "iopub.execute_input": "2025-08-19T18:23:03.225912Z",
     "iopub.status.busy": "2025-08-19T18:23:03.225202Z",
     "iopub.status.idle": "2025-08-19T18:23:03.241198Z",
     "shell.execute_reply": "2025-08-19T18:23:03.240389Z"
    },
    "papermill": {
     "duration": 0.034958,
     "end_time": "2025-08-19T18:23:03.245104",
     "exception": false,
     "start_time": "2025-08-19T18:23:03.210146",
     "status": "completed"
    },
    "tags": []
   },
   "outputs": [
    {
     "data": {
      "text/plain": [
       "{'coverage': 0.9099877382677516, 'avg_size': 1.137977928881953}"
      ]
     },
     "execution_count": 46,
     "metadata": {},
     "output_type": "execute_result"
    }
   ],
   "source": [
    "metrics"
   ]
  },
  {
   "cell_type": "code",
   "execution_count": 47,
   "id": "64c340a1",
   "metadata": {
    "execution": {
     "iopub.execute_input": "2025-08-19T18:23:03.270827Z",
     "iopub.status.busy": "2025-08-19T18:23:03.270415Z",
     "iopub.status.idle": "2025-08-19T18:23:03.275967Z",
     "shell.execute_reply": "2025-08-19T18:23:03.275247Z"
    },
    "papermill": {
     "duration": 0.01946,
     "end_time": "2025-08-19T18:23:03.277145",
     "exception": false,
     "start_time": "2025-08-19T18:23:03.257685",
     "status": "completed"
    },
    "tags": []
   },
   "outputs": [],
   "source": [
    "example_universe = universe.copy()\n",
    "universe_training_year = example_universe.get(\"training_year\")\n",
    "universe_training_size = example_universe.get(\"training_size\")\n",
    "universe_scale = example_universe.get(\"scale\")\n",
    "universe_model = example_universe.get(\"model\")\n",
    "universe_exclude_features = example_universe.get(\"exclude_features\")\n",
    "universe_exclude_subgroups = example_universe.get(\"exclude_subgroups\")"
   ]
  },
  {
   "cell_type": "code",
   "execution_count": 48,
   "id": "dbb53cb4",
   "metadata": {
    "execution": {
     "iopub.execute_input": "2025-08-19T18:23:03.306864Z",
     "iopub.status.busy": "2025-08-19T18:23:03.306052Z",
     "iopub.status.idle": "2025-08-19T18:23:03.312365Z",
     "shell.execute_reply": "2025-08-19T18:23:03.311428Z"
    },
    "papermill": {
     "duration": 0.02149,
     "end_time": "2025-08-19T18:23:03.313693",
     "exception": false,
     "start_time": "2025-08-19T18:23:03.292203",
     "status": "completed"
    },
    "tags": []
   },
   "outputs": [],
   "source": [
    "cp_metrics_dict = {\n",
    "    \"universe_id\": [universe_id],\n",
    "    \"universe_training_year\": [universe_training_year],\n",
    "    \"universe_training_size\": [universe_training_size],\n",
    "    \"universe_scale\": [universe_scale],\n",
    "    \"universe_model\": [universe_model],\n",
    "    \"universe_exclude_features\": [universe_exclude_features],\n",
    "    \"universe_exclude_subgroups\": [universe_exclude_subgroups],\n",
    "    \"q_hat\": [q_hat],\n",
    "    \"coverage\": [metrics[\"coverage\"]],\n",
    "    \"avg_size\": [metrics[\"avg_size\"]],\n",
    "}"
   ]
  },
  {
   "cell_type": "code",
   "execution_count": 49,
   "id": "0d70d4b2",
   "metadata": {
    "execution": {
     "iopub.execute_input": "2025-08-19T18:23:03.341466Z",
     "iopub.status.busy": "2025-08-19T18:23:03.341118Z",
     "iopub.status.idle": "2025-08-19T18:23:03.348359Z",
     "shell.execute_reply": "2025-08-19T18:23:03.347705Z"
    },
    "papermill": {
     "duration": 0.022678,
     "end_time": "2025-08-19T18:23:03.349758",
     "exception": false,
     "start_time": "2025-08-19T18:23:03.327080",
     "status": "completed"
    },
    "tags": []
   },
   "outputs": [],
   "source": [
    "cp_metrics_df = pd.DataFrame(cp_metrics_dict)"
   ]
  },
  {
   "cell_type": "code",
   "execution_count": 50,
   "id": "b494403c",
   "metadata": {
    "execution": {
     "iopub.execute_input": "2025-08-19T18:23:03.379332Z",
     "iopub.status.busy": "2025-08-19T18:23:03.378946Z",
     "iopub.status.idle": "2025-08-19T18:23:03.393602Z",
     "shell.execute_reply": "2025-08-19T18:23:03.392872Z"
    },
    "papermill": {
     "duration": 0.030646,
     "end_time": "2025-08-19T18:23:03.395001",
     "exception": false,
     "start_time": "2025-08-19T18:23:03.364355",
     "status": "completed"
    },
    "tags": []
   },
   "outputs": [
    {
     "data": {
      "text/html": [
       "<div>\n",
       "<style scoped>\n",
       "    .dataframe tbody tr th:only-of-type {\n",
       "        vertical-align: middle;\n",
       "    }\n",
       "\n",
       "    .dataframe tbody tr th {\n",
       "        vertical-align: top;\n",
       "    }\n",
       "\n",
       "    .dataframe thead th {\n",
       "        text-align: right;\n",
       "    }\n",
       "</style>\n",
       "<table border=\"1\" class=\"dataframe\">\n",
       "  <thead>\n",
       "    <tr style=\"text-align: right;\">\n",
       "      <th></th>\n",
       "      <th>universe_id</th>\n",
       "      <th>universe_training_year</th>\n",
       "      <th>universe_training_size</th>\n",
       "      <th>universe_scale</th>\n",
       "      <th>universe_model</th>\n",
       "      <th>universe_exclude_features</th>\n",
       "      <th>universe_exclude_subgroups</th>\n",
       "      <th>q_hat</th>\n",
       "      <th>coverage</th>\n",
       "      <th>avg_size</th>\n",
       "    </tr>\n",
       "  </thead>\n",
       "  <tbody>\n",
       "    <tr>\n",
       "      <th>0</th>\n",
       "      <td>fbffda603a916507c654da533639a33c</td>\n",
       "      <td>2014</td>\n",
       "      <td>5k</td>\n",
       "      <td>scale</td>\n",
       "      <td>logreg</td>\n",
       "      <td>nationality</td>\n",
       "      <td>drop-non-german</td>\n",
       "      <td>0.692019</td>\n",
       "      <td>0.909988</td>\n",
       "      <td>1.137978</td>\n",
       "    </tr>\n",
       "  </tbody>\n",
       "</table>\n",
       "</div>"
      ],
      "text/plain": [
       "                        universe_id universe_training_year  \\\n",
       "0  fbffda603a916507c654da533639a33c                   2014   \n",
       "\n",
       "  universe_training_size universe_scale universe_model  \\\n",
       "0                     5k          scale         logreg   \n",
       "\n",
       "  universe_exclude_features universe_exclude_subgroups     q_hat  coverage  \\\n",
       "0               nationality            drop-non-german  0.692019  0.909988   \n",
       "\n",
       "   avg_size  \n",
       "0  1.137978  "
      ]
     },
     "execution_count": 50,
     "metadata": {},
     "output_type": "execute_result"
    }
   ],
   "source": [
    "cp_metrics_df"
   ]
  },
  {
   "cell_type": "markdown",
   "id": "ed608b0b",
   "metadata": {
    "papermill": {
     "duration": 0.019769,
     "end_time": "2025-08-19T18:23:03.433196",
     "exception": false,
     "start_time": "2025-08-19T18:23:03.413427",
     "status": "completed"
    },
    "tags": []
   },
   "source": [
    "Conditional coverage & looking at subgroups"
   ]
  },
  {
   "cell_type": "code",
   "execution_count": 51,
   "id": "8968c366",
   "metadata": {
    "execution": {
     "iopub.execute_input": "2025-08-19T18:23:03.480655Z",
     "iopub.status.busy": "2025-08-19T18:23:03.480230Z",
     "iopub.status.idle": "2025-08-19T18:23:03.795704Z",
     "shell.execute_reply": "2025-08-19T18:23:03.794910Z"
    },
    "papermill": {
     "duration": 0.336601,
     "end_time": "2025-08-19T18:23:03.798999",
     "exception": false,
     "start_time": "2025-08-19T18:23:03.462398",
     "status": "completed"
    },
    "tags": []
   },
   "outputs": [],
   "source": [
    "from fairness_multiverse.conformal import build_cp_groups\n",
    "\n",
    "cp_groups_df = build_cp_groups(pred_sets, y_true, X_test.index, org_test)"
   ]
  },
  {
   "cell_type": "code",
   "execution_count": 52,
   "id": "292ddabf",
   "metadata": {
    "execution": {
     "iopub.execute_input": "2025-08-19T18:23:03.846016Z",
     "iopub.status.busy": "2025-08-19T18:23:03.845013Z",
     "iopub.status.idle": "2025-08-19T18:23:04.760233Z",
     "shell.execute_reply": "2025-08-19T18:23:04.758993Z"
    },
    "papermill": {
     "duration": 0.932855,
     "end_time": "2025-08-19T18:23:04.762128",
     "exception": false,
     "start_time": "2025-08-19T18:23:03.829273",
     "status": "completed"
    },
    "tags": []
   },
   "outputs": [],
   "source": [
    "# Define covered = 1 if true_label is in the predicted set\n",
    "cp_groups_df['covered'] = cp_groups_df.apply(\n",
    "    lambda r: int(r['true_label'] in r['pred_set']),\n",
    "    axis=1\n",
    ")"
   ]
  },
  {
   "cell_type": "code",
   "execution_count": 53,
   "id": "3a261692",
   "metadata": {
    "execution": {
     "iopub.execute_input": "2025-08-19T18:23:04.789569Z",
     "iopub.status.busy": "2025-08-19T18:23:04.789211Z",
     "iopub.status.idle": "2025-08-19T18:23:04.801876Z",
     "shell.execute_reply": "2025-08-19T18:23:04.801169Z"
    },
    "papermill": {
     "duration": 0.029427,
     "end_time": "2025-08-19T18:23:04.804823",
     "exception": false,
     "start_time": "2025-08-19T18:23:04.775396",
     "status": "completed"
    },
    "tags": []
   },
   "outputs": [],
   "source": [
    "subgroups = ['frau1','nongerman','nongerman_male','nongerman_female']\n",
    "\n",
    "# Conditional coverage for subgroup==1\n",
    "cond_coverage = {\n",
    "    g: cp_groups_df.loc[cp_groups_df[g]==1, 'covered'].mean()\n",
    "    for g in subgroups\n",
    "}"
   ]
  },
  {
   "cell_type": "code",
   "execution_count": 54,
   "id": "894fd600",
   "metadata": {
    "execution": {
     "iopub.execute_input": "2025-08-19T18:23:04.845855Z",
     "iopub.status.busy": "2025-08-19T18:23:04.844663Z",
     "iopub.status.idle": "2025-08-19T18:23:04.855714Z",
     "shell.execute_reply": "2025-08-19T18:23:04.854492Z"
    },
    "papermill": {
     "duration": 0.027079,
     "end_time": "2025-08-19T18:23:04.857233",
     "exception": false,
     "start_time": "2025-08-19T18:23:04.830154",
     "status": "completed"
    },
    "tags": []
   },
   "outputs": [
    {
     "data": {
      "text/plain": [
       "{'frau1': 0.9067798894729748,\n",
       " 'nongerman': 0.9075955762645259,\n",
       " 'nongerman_male': 0.9266864811312258,\n",
       " 'nongerman_female': 0.8760059612518629}"
      ]
     },
     "execution_count": 54,
     "metadata": {},
     "output_type": "execute_result"
    }
   ],
   "source": [
    "cond_coverage"
   ]
  },
  {
   "cell_type": "code",
   "execution_count": 55,
   "id": "942895c7",
   "metadata": {
    "execution": {
     "iopub.execute_input": "2025-08-19T18:23:04.886921Z",
     "iopub.status.busy": "2025-08-19T18:23:04.885630Z",
     "iopub.status.idle": "2025-08-19T18:23:04.898368Z",
     "shell.execute_reply": "2025-08-19T18:23:04.897149Z"
    },
    "papermill": {
     "duration": 0.028056,
     "end_time": "2025-08-19T18:23:04.900010",
     "exception": false,
     "start_time": "2025-08-19T18:23:04.871954",
     "status": "completed"
    },
    "tags": []
   },
   "outputs": [],
   "source": [
    "for subgroup, cov in cond_coverage.items():\n",
    "    cp_metrics_df[f\"cov_{subgroup}\"] = cov"
   ]
  },
  {
   "cell_type": "code",
   "execution_count": 56,
   "id": "3970120f",
   "metadata": {
    "execution": {
     "iopub.execute_input": "2025-08-19T18:23:04.935400Z",
     "iopub.status.busy": "2025-08-19T18:23:04.934204Z",
     "iopub.status.idle": "2025-08-19T18:23:04.961423Z",
     "shell.execute_reply": "2025-08-19T18:23:04.960387Z"
    },
    "papermill": {
     "duration": 0.043917,
     "end_time": "2025-08-19T18:23:04.963144",
     "exception": false,
     "start_time": "2025-08-19T18:23:04.919227",
     "status": "completed"
    },
    "tags": []
   },
   "outputs": [
    {
     "data": {
      "text/html": [
       "<div>\n",
       "<style scoped>\n",
       "    .dataframe tbody tr th:only-of-type {\n",
       "        vertical-align: middle;\n",
       "    }\n",
       "\n",
       "    .dataframe tbody tr th {\n",
       "        vertical-align: top;\n",
       "    }\n",
       "\n",
       "    .dataframe thead th {\n",
       "        text-align: right;\n",
       "    }\n",
       "</style>\n",
       "<table border=\"1\" class=\"dataframe\">\n",
       "  <thead>\n",
       "    <tr style=\"text-align: right;\">\n",
       "      <th></th>\n",
       "      <th>universe_id</th>\n",
       "      <th>universe_training_year</th>\n",
       "      <th>universe_training_size</th>\n",
       "      <th>universe_scale</th>\n",
       "      <th>universe_model</th>\n",
       "      <th>universe_exclude_features</th>\n",
       "      <th>universe_exclude_subgroups</th>\n",
       "      <th>q_hat</th>\n",
       "      <th>coverage</th>\n",
       "      <th>avg_size</th>\n",
       "      <th>cov_frau1</th>\n",
       "      <th>cov_nongerman</th>\n",
       "      <th>cov_nongerman_male</th>\n",
       "      <th>cov_nongerman_female</th>\n",
       "    </tr>\n",
       "  </thead>\n",
       "  <tbody>\n",
       "    <tr>\n",
       "      <th>0</th>\n",
       "      <td>fbffda603a916507c654da533639a33c</td>\n",
       "      <td>2014</td>\n",
       "      <td>5k</td>\n",
       "      <td>scale</td>\n",
       "      <td>logreg</td>\n",
       "      <td>nationality</td>\n",
       "      <td>drop-non-german</td>\n",
       "      <td>0.692019</td>\n",
       "      <td>0.909988</td>\n",
       "      <td>1.137978</td>\n",
       "      <td>0.90678</td>\n",
       "      <td>0.907596</td>\n",
       "      <td>0.926686</td>\n",
       "      <td>0.876006</td>\n",
       "    </tr>\n",
       "  </tbody>\n",
       "</table>\n",
       "</div>"
      ],
      "text/plain": [
       "                        universe_id universe_training_year  \\\n",
       "0  fbffda603a916507c654da533639a33c                   2014   \n",
       "\n",
       "  universe_training_size universe_scale universe_model  \\\n",
       "0                     5k          scale         logreg   \n",
       "\n",
       "  universe_exclude_features universe_exclude_subgroups     q_hat  coverage  \\\n",
       "0               nationality            drop-non-german  0.692019  0.909988   \n",
       "\n",
       "   avg_size  cov_frau1  cov_nongerman  cov_nongerman_male  \\\n",
       "0  1.137978    0.90678       0.907596            0.926686   \n",
       "\n",
       "   cov_nongerman_female  \n",
       "0              0.876006  "
      ]
     },
     "execution_count": 56,
     "metadata": {},
     "output_type": "execute_result"
    }
   ],
   "source": [
    "cp_metrics_df"
   ]
  },
  {
   "cell_type": "markdown",
   "id": "3fc519cc",
   "metadata": {
    "papermill": {
     "duration": 0.013136,
     "end_time": "2025-08-19T18:23:05.000239",
     "exception": false,
     "start_time": "2025-08-19T18:23:04.987103",
     "status": "completed"
    },
    "tags": []
   },
   "source": [
    "# (Fairness) Metrics"
   ]
  },
  {
   "cell_type": "code",
   "execution_count": 57,
   "id": "a2e5e155",
   "metadata": {
    "execution": {
     "iopub.execute_input": "2025-08-19T18:23:05.027823Z",
     "iopub.status.busy": "2025-08-19T18:23:05.026429Z",
     "iopub.status.idle": "2025-08-19T18:23:05.055481Z",
     "shell.execute_reply": "2025-08-19T18:23:05.054519Z"
    },
    "papermill": {
     "duration": 0.045116,
     "end_time": "2025-08-19T18:23:05.057827",
     "exception": false,
     "start_time": "2025-08-19T18:23:05.012711",
     "status": "completed"
    },
    "tags": []
   },
   "outputs": [],
   "source": [
    "colname_to_bin = \"maxdeutsch1\"\n",
    "majority_value = org_train[colname_to_bin].mode()[0]\n",
    "\n",
    "org_test[\"majmin\"] = np.where(org_test[colname_to_bin] == majority_value, \"majority\", \"minority\")"
   ]
  },
  {
   "cell_type": "code",
   "execution_count": 58,
   "id": "17e3e4d5",
   "metadata": {
    "execution": {
     "iopub.execute_input": "2025-08-19T18:23:05.099064Z",
     "iopub.status.busy": "2025-08-19T18:23:05.097865Z",
     "iopub.status.idle": "2025-08-19T18:23:06.855125Z",
     "shell.execute_reply": "2025-08-19T18:23:06.853817Z"
    },
    "papermill": {
     "duration": 1.77475,
     "end_time": "2025-08-19T18:23:06.856834",
     "exception": false,
     "start_time": "2025-08-19T18:23:05.082084",
     "status": "completed"
    },
    "tags": []
   },
   "outputs": [],
   "source": [
    "example_universe = universe.copy()\n",
    "example_universe[\"cutoff\"] = example_universe[\"cutoff\"][0]\n",
    "example_universe[\"eval_fairness_grouping\"] = example_universe[\"eval_fairness_grouping\"][0]\n",
    "fairness_dict, metric_frame = universe_analysis.compute_metrics(\n",
    "    example_universe,\n",
    "    y_pred_prob=probs_test,\n",
    "    y_test=y_true,\n",
    "    org_test=org_test,\n",
    ")"
   ]
  },
  {
   "cell_type": "markdown",
   "id": "1fb7a0e9",
   "metadata": {
    "papermill": {
     "duration": 0.026214,
     "end_time": "2025-08-19T18:23:06.902088",
     "exception": false,
     "start_time": "2025-08-19T18:23:06.875874",
     "status": "completed"
    },
    "tags": []
   },
   "source": [
    "# Overall"
   ]
  },
  {
   "cell_type": "markdown",
   "id": "be1784b1",
   "metadata": {
    "papermill": {
     "duration": 0.012268,
     "end_time": "2025-08-19T18:23:06.927689",
     "exception": false,
     "start_time": "2025-08-19T18:23:06.915421",
     "status": "completed"
    },
    "tags": []
   },
   "source": [
    "Main fairness target: Equalized Odds. Seems to be a better fit than equal opportunity, since we're not only interested in Y = 1. Seems to be a better fit than demographic parity, since we also care about accuracy, not just equal distribution of preds.\n",
    "\n",
    "Pick column for computation of fairness metrics\n",
    "\n",
    "Performance\n",
    "Overall performance measures, most interesting in relation to the measures split by group below"
   ]
  },
  {
   "cell_type": "code",
   "execution_count": 59,
   "id": "b7672bee",
   "metadata": {
    "execution": {
     "iopub.execute_input": "2025-08-19T18:23:06.956131Z",
     "iopub.status.busy": "2025-08-19T18:23:06.954448Z",
     "iopub.status.idle": "2025-08-19T18:23:06.970998Z",
     "shell.execute_reply": "2025-08-19T18:23:06.970046Z"
    },
    "papermill": {
     "duration": 0.032665,
     "end_time": "2025-08-19T18:23:06.972601",
     "exception": false,
     "start_time": "2025-08-19T18:23:06.939936",
     "status": "completed"
    },
    "tags": []
   },
   "outputs": [
    {
     "data": {
      "text/plain": [
       "accuracy                   0.223487\n",
       "balanced accuracy          0.546642\n",
       "f1                         0.244843\n",
       "precision                  0.139870\n",
       "false positive rate        0.888034\n",
       "false negative rate        0.018683\n",
       "selection rate             0.900000\n",
       "count                  89710.000000\n",
       "dtype: float64"
      ]
     },
     "execution_count": 59,
     "metadata": {},
     "output_type": "execute_result"
    }
   ],
   "source": [
    "metric_frame.overall"
   ]
  },
  {
   "cell_type": "markdown",
   "id": "d93333c9",
   "metadata": {
    "papermill": {
     "duration": 0.013239,
     "end_time": "2025-08-19T18:23:07.005124",
     "exception": false,
     "start_time": "2025-08-19T18:23:06.991885",
     "status": "completed"
    },
    "tags": []
   },
   "source": [
    "By Group"
   ]
  },
  {
   "cell_type": "code",
   "execution_count": 60,
   "id": "52256966",
   "metadata": {
    "execution": {
     "iopub.execute_input": "2025-08-19T18:23:07.033825Z",
     "iopub.status.busy": "2025-08-19T18:23:07.031954Z",
     "iopub.status.idle": "2025-08-19T18:23:07.056511Z",
     "shell.execute_reply": "2025-08-19T18:23:07.055615Z"
    },
    "papermill": {
     "duration": 0.04054,
     "end_time": "2025-08-19T18:23:07.058140",
     "exception": false,
     "start_time": "2025-08-19T18:23:07.017600",
     "status": "completed"
    },
    "tags": []
   },
   "outputs": [
    {
     "data": {
      "text/html": [
       "<div>\n",
       "<style scoped>\n",
       "    .dataframe tbody tr th:only-of-type {\n",
       "        vertical-align: middle;\n",
       "    }\n",
       "\n",
       "    .dataframe tbody tr th {\n",
       "        vertical-align: top;\n",
       "    }\n",
       "\n",
       "    .dataframe thead th {\n",
       "        text-align: right;\n",
       "    }\n",
       "</style>\n",
       "<table border=\"1\" class=\"dataframe\">\n",
       "  <thead>\n",
       "    <tr style=\"text-align: right;\">\n",
       "      <th></th>\n",
       "      <th>accuracy</th>\n",
       "      <th>balanced accuracy</th>\n",
       "      <th>f1</th>\n",
       "      <th>precision</th>\n",
       "      <th>false positive rate</th>\n",
       "      <th>false negative rate</th>\n",
       "      <th>selection rate</th>\n",
       "      <th>count</th>\n",
       "    </tr>\n",
       "    <tr>\n",
       "      <th>majmin</th>\n",
       "      <th></th>\n",
       "      <th></th>\n",
       "      <th></th>\n",
       "      <th></th>\n",
       "      <th></th>\n",
       "      <th></th>\n",
       "      <th></th>\n",
       "      <th></th>\n",
       "    </tr>\n",
       "  </thead>\n",
       "  <tbody>\n",
       "    <tr>\n",
       "      <th>majority</th>\n",
       "      <td>0.235290</td>\n",
       "      <td>0.552101</td>\n",
       "      <td>0.253518</td>\n",
       "      <td>0.145531</td>\n",
       "      <td>0.878511</td>\n",
       "      <td>0.017287</td>\n",
       "      <td>0.892280</td>\n",
       "      <td>69170.0</td>\n",
       "    </tr>\n",
       "    <tr>\n",
       "      <th>minority</th>\n",
       "      <td>0.183739</td>\n",
       "      <td>0.528219</td>\n",
       "      <td>0.216102</td>\n",
       "      <td>0.121504</td>\n",
       "      <td>0.919492</td>\n",
       "      <td>0.024071</td>\n",
       "      <td>0.925998</td>\n",
       "      <td>20540.0</td>\n",
       "    </tr>\n",
       "  </tbody>\n",
       "</table>\n",
       "</div>"
      ],
      "text/plain": [
       "          accuracy  balanced accuracy        f1  precision  \\\n",
       "majmin                                                       \n",
       "majority  0.235290           0.552101  0.253518   0.145531   \n",
       "minority  0.183739           0.528219  0.216102   0.121504   \n",
       "\n",
       "          false positive rate  false negative rate  selection rate    count  \n",
       "majmin                                                                       \n",
       "majority             0.878511             0.017287        0.892280  69170.0  \n",
       "minority             0.919492             0.024071        0.925998  20540.0  "
      ]
     },
     "execution_count": 60,
     "metadata": {},
     "output_type": "execute_result"
    }
   ],
   "source": [
    "metric_frame.by_group"
   ]
  },
  {
   "cell_type": "code",
   "execution_count": 61,
   "id": "6e6c20ae",
   "metadata": {
    "execution": {
     "iopub.execute_input": "2025-08-19T18:23:07.094104Z",
     "iopub.status.busy": "2025-08-19T18:23:07.092798Z",
     "iopub.status.idle": "2025-08-19T18:23:08.921346Z",
     "shell.execute_reply": "2025-08-19T18:23:08.919168Z"
    },
    "papermill": {
     "duration": 1.846979,
     "end_time": "2025-08-19T18:23:08.924928",
     "exception": false,
     "start_time": "2025-08-19T18:23:07.077949",
     "status": "completed"
    },
    "tags": []
   },
   "outputs": [
    {
     "data": {
      "text/plain": [
       "array([[<Axes: title={'center': 'accuracy'}, xlabel='majmin'>,\n",
       "        <Axes: title={'center': 'balanced accuracy'}, xlabel='majmin'>,\n",
       "        <Axes: title={'center': 'f1'}, xlabel='majmin'>],\n",
       "       [<Axes: title={'center': 'precision'}, xlabel='majmin'>,\n",
       "        <Axes: title={'center': 'false positive rate'}, xlabel='majmin'>,\n",
       "        <Axes: title={'center': 'false negative rate'}, xlabel='majmin'>],\n",
       "       [<Axes: title={'center': 'selection rate'}, xlabel='majmin'>,\n",
       "        <Axes: title={'center': 'count'}, xlabel='majmin'>,\n",
       "        <Axes: xlabel='majmin'>]], dtype=object)"
      ]
     },
     "execution_count": 61,
     "metadata": {},
     "output_type": "execute_result"
    },
    {
     "data": {
      "image/png": "[encoded data removed]",
      "text/plain": [
       "<Figure size 1200x800 with 9 Axes>"
      ]
     },
     "metadata": {},
     "output_type": "display_data"
    }
   ],
   "source": [
    "# In a graphic\n",
    "metric_frame.by_group.plot.bar(\n",
    "    subplots=True,\n",
    "    layout=[3, 3],\n",
    "    legend=False,\n",
    "    figsize=[12, 8],\n",
    "    title=\"Show all metrics\",\n",
    ")"
   ]
  },
  {
   "cell_type": "markdown",
   "id": "b2e433ae",
   "metadata": {
    "papermill": {
     "duration": 0.013674,
     "end_time": "2025-08-19T18:23:08.953355",
     "exception": false,
     "start_time": "2025-08-19T18:23:08.939681",
     "status": "completed"
    },
    "tags": []
   },
   "source": [
    "# Final Output"
   ]
  },
  {
   "cell_type": "code",
   "execution_count": 62,
   "id": "3871301e",
   "metadata": {
    "execution": {
     "iopub.execute_input": "2025-08-19T18:23:08.985604Z",
     "iopub.status.busy": "2025-08-19T18:23:08.983072Z",
     "iopub.status.idle": "2025-08-19T18:23:09.001637Z",
     "shell.execute_reply": "2025-08-19T18:23:09.000647Z"
    },
    "papermill": {
     "duration": 0.0361,
     "end_time": "2025-08-19T18:23:09.003086",
     "exception": false,
     "start_time": "2025-08-19T18:23:08.966986",
     "status": "completed"
    },
    "tags": []
   },
   "outputs": [
    {
     "data": {
      "text/plain": [
       "4"
      ]
     },
     "execution_count": 62,
     "metadata": {},
     "output_type": "execute_result"
    }
   ],
   "source": [
    "sub_universes = universe_analysis.generate_sub_universes()\n",
    "len(sub_universes)"
   ]
  },
  {
   "cell_type": "code",
   "execution_count": 63,
   "id": "d9cfdaca",
   "metadata": {
    "execution": {
     "iopub.execute_input": "2025-08-19T18:23:09.041475Z",
     "iopub.status.busy": "2025-08-19T18:23:09.040271Z",
     "iopub.status.idle": "2025-08-19T18:23:09.052121Z",
     "shell.execute_reply": "2025-08-19T18:23:09.049762Z"
    },
    "papermill": {
     "duration": 0.029608,
     "end_time": "2025-08-19T18:23:09.053902",
     "exception": false,
     "start_time": "2025-08-19T18:23:09.024294",
     "status": "completed"
    },
    "tags": []
   },
   "outputs": [],
   "source": [
    "def filter_sub_universe_data(sub_universe, org_test):\n",
    "    # Keep all rows — no filtering\n",
    "    keep_rows_mask = np.ones(org_test.shape[0], dtype=bool)\n",
    "\n",
    "    print(f\"[INFO] Keeping all rows: {keep_rows_mask.sum()} rows retained.\")\n",
    "    return keep_rows_mask"
   ]
  },
  {
   "cell_type": "code",
   "execution_count": 64,
   "id": "2bc31ac1",
   "metadata": {
    "execution": {
     "iopub.execute_input": "2025-08-19T18:23:09.092798Z",
     "iopub.status.busy": "2025-08-19T18:23:09.090096Z",
     "iopub.status.idle": "2025-08-19T18:23:15.731108Z",
     "shell.execute_reply": "2025-08-19T18:23:15.730100Z"
    },
    "papermill": {
     "duration": 6.65842,
     "end_time": "2025-08-19T18:23:15.732616",
     "exception": false,
     "start_time": "2025-08-19T18:23:09.074196",
     "status": "completed"
    },
    "tags": []
   },
   "outputs": [
    {
     "name": "stdout",
     "output_type": "stream",
     "text": [
      "Stopping execution_time clock.\n",
      "[INFO] Keeping all rows: 89710 rows retained.\n"
     ]
    },
    {
     "name": "stdout",
     "output_type": "stream",
     "text": [
      "[INFO] Keeping all rows: 89710 rows retained.\n"
     ]
    },
    {
     "name": "stdout",
     "output_type": "stream",
     "text": [
      "[INFO] Keeping all rows: 89710 rows retained.\n"
     ]
    },
    {
     "name": "stdout",
     "output_type": "stream",
     "text": [
      "[INFO] Keeping all rows: 89710 rows retained.\n"
     ]
    },
    {
     "data": {
      "text/html": [
       "<div>\n",
       "<style scoped>\n",
       "    .dataframe tbody tr th:only-of-type {\n",
       "        vertical-align: middle;\n",
       "    }\n",
       "\n",
       "    .dataframe tbody tr th {\n",
       "        vertical-align: top;\n",
       "    }\n",
       "\n",
       "    .dataframe thead th {\n",
       "        text-align: right;\n",
       "    }\n",
       "</style>\n",
       "<table border=\"1\" class=\"dataframe\">\n",
       "  <thead>\n",
       "    <tr style=\"text-align: right;\">\n",
       "      <th></th>\n",
       "      <th>run_no</th>\n",
       "      <th>universe_id</th>\n",
       "      <th>universe_settings</th>\n",
       "      <th>execution_time</th>\n",
       "      <th>test_size_n</th>\n",
       "      <th>test_size_frac</th>\n",
       "      <th>fair_main_equalized_odds_difference</th>\n",
       "      <th>fair_main_equalized_odds_ratio</th>\n",
       "      <th>fair_main_demographic_parity_difference</th>\n",
       "      <th>fair_main_demographic_parity_ratio</th>\n",
       "      <th>...</th>\n",
       "      <th>perf_grp_precision_0</th>\n",
       "      <th>perf_grp_precision_1</th>\n",
       "      <th>perf_grp_false positive rate_0</th>\n",
       "      <th>perf_grp_false positive rate_1</th>\n",
       "      <th>perf_grp_false negative rate_0</th>\n",
       "      <th>perf_grp_false negative rate_1</th>\n",
       "      <th>perf_grp_selection rate_0</th>\n",
       "      <th>perf_grp_selection rate_1</th>\n",
       "      <th>perf_grp_count_0</th>\n",
       "      <th>perf_grp_count_1</th>\n",
       "    </tr>\n",
       "  </thead>\n",
       "  <tbody>\n",
       "    <tr>\n",
       "      <th>0</th>\n",
       "      <td>3</td>\n",
       "      <td>fbffda603a916507c654da533639a33c</td>\n",
       "      <td>{\"cutoff\": \"quantile_0.1\", \"eval_fairness_grou...</td>\n",
       "      <td>20.694073</td>\n",
       "      <td>89710</td>\n",
       "      <td>1.0</td>\n",
       "      <td>0.040981</td>\n",
       "      <td>0.955431</td>\n",
       "      <td>0.033718</td>\n",
       "      <td>0.963587</td>\n",
       "      <td>...</td>\n",
       "      <td>NaN</td>\n",
       "      <td>NaN</td>\n",
       "      <td>NaN</td>\n",
       "      <td>NaN</td>\n",
       "      <td>NaN</td>\n",
       "      <td>NaN</td>\n",
       "      <td>NaN</td>\n",
       "      <td>NaN</td>\n",
       "      <td>NaN</td>\n",
       "      <td>NaN</td>\n",
       "    </tr>\n",
       "    <tr>\n",
       "      <th>0</th>\n",
       "      <td>3</td>\n",
       "      <td>fbffda603a916507c654da533639a33c</td>\n",
       "      <td>{\"cutoff\": \"quantile_0.1\", \"eval_fairness_grou...</td>\n",
       "      <td>20.694073</td>\n",
       "      <td>89710</td>\n",
       "      <td>1.0</td>\n",
       "      <td>0.040981</td>\n",
       "      <td>0.955431</td>\n",
       "      <td>0.033718</td>\n",
       "      <td>0.963587</td>\n",
       "      <td>...</td>\n",
       "      <td>0.121504</td>\n",
       "      <td>0.145531</td>\n",
       "      <td>0.919492</td>\n",
       "      <td>0.878511</td>\n",
       "      <td>0.024071</td>\n",
       "      <td>0.017287</td>\n",
       "      <td>0.925998</td>\n",
       "      <td>0.892280</td>\n",
       "      <td>20540.0</td>\n",
       "      <td>69170.0</td>\n",
       "    </tr>\n",
       "    <tr>\n",
       "      <th>0</th>\n",
       "      <td>3</td>\n",
       "      <td>fbffda603a916507c654da533639a33c</td>\n",
       "      <td>{\"cutoff\": \"quantile_0.25\", \"eval_fairness_gro...</td>\n",
       "      <td>20.694073</td>\n",
       "      <td>89710</td>\n",
       "      <td>1.0</td>\n",
       "      <td>0.106101</td>\n",
       "      <td>0.868212</td>\n",
       "      <td>0.087965</td>\n",
       "      <td>0.892440</td>\n",
       "      <td>...</td>\n",
       "      <td>NaN</td>\n",
       "      <td>NaN</td>\n",
       "      <td>NaN</td>\n",
       "      <td>NaN</td>\n",
       "      <td>NaN</td>\n",
       "      <td>NaN</td>\n",
       "      <td>NaN</td>\n",
       "      <td>NaN</td>\n",
       "      <td>NaN</td>\n",
       "      <td>NaN</td>\n",
       "    </tr>\n",
       "    <tr>\n",
       "      <th>0</th>\n",
       "      <td>3</td>\n",
       "      <td>fbffda603a916507c654da533639a33c</td>\n",
       "      <td>{\"cutoff\": \"quantile_0.25\", \"eval_fairness_gro...</td>\n",
       "      <td>20.694073</td>\n",
       "      <td>89710</td>\n",
       "      <td>1.0</td>\n",
       "      <td>0.106101</td>\n",
       "      <td>0.868212</td>\n",
       "      <td>0.087965</td>\n",
       "      <td>0.892440</td>\n",
       "      <td>...</td>\n",
       "      <td>0.129063</td>\n",
       "      <td>0.168846</td>\n",
       "      <td>0.805085</td>\n",
       "      <td>0.698984</td>\n",
       "      <td>0.084459</td>\n",
       "      <td>0.067396</td>\n",
       "      <td>0.817819</td>\n",
       "      <td>0.729854</td>\n",
       "      <td>20540.0</td>\n",
       "      <td>69170.0</td>\n",
       "    </tr>\n",
       "  </tbody>\n",
       "</table>\n",
       "<p>4 rows × 50 columns</p>\n",
       "</div>"
      ],
      "text/plain": [
       "  run_no                       universe_id  \\\n",
       "0      3  fbffda603a916507c654da533639a33c   \n",
       "0      3  fbffda603a916507c654da533639a33c   \n",
       "0      3  fbffda603a916507c654da533639a33c   \n",
       "0      3  fbffda603a916507c654da533639a33c   \n",
       "\n",
       "                                   universe_settings  execution_time  \\\n",
       "0  {\"cutoff\": \"quantile_0.1\", \"eval_fairness_grou...       20.694073   \n",
       "0  {\"cutoff\": \"quantile_0.1\", \"eval_fairness_grou...       20.694073   \n",
       "0  {\"cutoff\": \"quantile_0.25\", \"eval_fairness_gro...       20.694073   \n",
       "0  {\"cutoff\": \"quantile_0.25\", \"eval_fairness_gro...       20.694073   \n",
       "\n",
       "   test_size_n  test_size_frac  fair_main_equalized_odds_difference  \\\n",
       "0        89710             1.0                             0.040981   \n",
       "0        89710             1.0                             0.040981   \n",
       "0        89710             1.0                             0.106101   \n",
       "0        89710             1.0                             0.106101   \n",
       "\n",
       "   fair_main_equalized_odds_ratio  fair_main_demographic_parity_difference  \\\n",
       "0                        0.955431                                 0.033718   \n",
       "0                        0.955431                                 0.033718   \n",
       "0                        0.868212                                 0.087965   \n",
       "0                        0.868212                                 0.087965   \n",
       "\n",
       "   fair_main_demographic_parity_ratio  ...  perf_grp_precision_0  \\\n",
       "0                            0.963587  ...                   NaN   \n",
       "0                            0.963587  ...              0.121504   \n",
       "0                            0.892440  ...                   NaN   \n",
       "0                            0.892440  ...              0.129063   \n",
       "\n",
       "   perf_grp_precision_1  perf_grp_false positive rate_0  \\\n",
       "0                   NaN                             NaN   \n",
       "0              0.145531                        0.919492   \n",
       "0                   NaN                             NaN   \n",
       "0              0.168846                        0.805085   \n",
       "\n",
       "   perf_grp_false positive rate_1  perf_grp_false negative rate_0  \\\n",
       "0                             NaN                             NaN   \n",
       "0                        0.878511                        0.024071   \n",
       "0                             NaN                             NaN   \n",
       "0                        0.698984                        0.084459   \n",
       "\n",
       "   perf_grp_false negative rate_1  perf_grp_selection rate_0  \\\n",
       "0                             NaN                        NaN   \n",
       "0                        0.017287                   0.925998   \n",
       "0                             NaN                        NaN   \n",
       "0                        0.067396                   0.817819   \n",
       "\n",
       "   perf_grp_selection rate_1  perf_grp_count_0  perf_grp_count_1  \n",
       "0                        NaN               NaN               NaN  \n",
       "0                   0.892280           20540.0           69170.0  \n",
       "0                        NaN               NaN               NaN  \n",
       "0                   0.729854           20540.0           69170.0  \n",
       "\n",
       "[4 rows x 50 columns]"
      ]
     },
     "execution_count": 64,
     "metadata": {},
     "output_type": "execute_result"
    }
   ],
   "source": [
    "final_output = universe_analysis.generate_final_output(\n",
    "    y_pred_prob=probs_test,\n",
    "    y_test=y_true,\n",
    "    org_test=org_test,\n",
    "    filter_data=filter_sub_universe_data,\n",
    "    cp_metrics_df=cp_metrics_df,\n",
    "    save=True,\n",
    ")\n",
    "final_output"
   ]
  },
  {
   "cell_type": "code",
   "execution_count": null,
   "id": "8b80a1ff",
   "metadata": {
    "papermill": {
     "duration": 0.014573,
     "end_time": "2025-08-19T18:23:15.767688",
     "exception": false,
     "start_time": "2025-08-19T18:23:15.753115",
     "status": "completed"
    },
    "tags": []
   },
   "outputs": [],
   "source": []
  },
  {
   "cell_type": "code",
   "execution_count": null,
   "id": "275c9fad",
   "metadata": {
    "papermill": {
     "duration": 0.014618,
     "end_time": "2025-08-19T18:23:15.796805",
     "exception": false,
     "start_time": "2025-08-19T18:23:15.782187",
     "status": "completed"
    },
    "tags": []
   },
   "outputs": [],
   "source": []
  }
 ],
 "metadata": {
  "celltoolbar": "Tags",
  "kernelspec": {
   "display_name": "Python (CMA Fairness)",
   "language": "python",
   "name": "cma_fair_env"
  },
  "language_info": {
   "codemirror_mode": {
    "name": "ipython",
    "version": 3
   },
   "file_extension": ".py",
   "mimetype": "text/x-python",
   "name": "python",
   "nbconvert_exporter": "python",
   "pygments_lexer": "ipython3",
   "version": "3.10.12"
  },
  "papermill": {
   "default_parameters": {},
   "duration": 31.157283,
   "end_time": "2025-08-19T18:23:16.737056",
   "environment_variables": {},
   "exception": null,
   "input_path": "universe_analysis.ipynb",
   "output_path": "output/runs/3/notebooks/m_3-fbffda603a916507c654da533639a33c.ipynb",
   "parameters": {
    "output_dir": "output",
    "run_no": "3",
    "seed": "2023",
    "universe": "{\"cutoff\": [\"quantile_0.1\", \"quantile_0.25\"], \"eval_fairness_grouping\": [\"majority-minority\", \"nationality-all\"], \"exclude_features\": \"nationality\", \"exclude_subgroups\": \"drop-non-german\", \"model\": \"logreg\", \"scale\": \"scale\", \"training_size\": \"5k\", \"training_year\": \"2014\"}",
    "universe_id": "fbffda603a916507c654da533639a33c"
   },
   "start_time": "2025-08-19T18:22:45.579773",
   "version": "2.6.0"
  }
 },
 "nbformat": 4,
 "nbformat_minor": 5
}