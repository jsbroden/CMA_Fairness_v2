{
 "cells": [
  {
   "cell_type": "markdown",
   "id": "ef23dbb3",
   "metadata": {
    "papermill": {
     "duration": 0.009379,
     "end_time": "2025-08-19T18:29:28.607090",
     "exception": false,
     "start_time": "2025-08-19T18:29:28.597711",
     "status": "completed"
    },
    "tags": []
   },
   "source": [
    "# Setup"
   ]
  },
  {
   "cell_type": "code",
   "execution_count": 1,
   "id": "0bc8e7dc",
   "metadata": {
    "execution": {
     "iopub.execute_input": "2025-08-19T18:29:28.628150Z",
     "iopub.status.busy": "2025-08-19T18:29:28.626486Z",
     "iopub.status.idle": "2025-08-19T18:29:28.648729Z",
     "shell.execute_reply": "2025-08-19T18:29:28.647763Z"
    },
    "papermill": {
     "duration": 0.033807,
     "end_time": "2025-08-19T18:29:28.650080",
     "exception": false,
     "start_time": "2025-08-19T18:29:28.616273",
     "status": "completed"
    },
    "tags": []
   },
   "outputs": [
    {
     "name": "stdout",
     "output_type": "stream",
     "text": [
      "/dss/dsshome1/0C/ra93lal2/cma/CMA_Fairness_v2\n"
     ]
    },
    {
     "name": "stderr",
     "output_type": "stream",
     "text": [
      "/dss/dsshome1/0C/ra93lal2/.local/share/virtualenvs/CMA_Fairness_v2-3j10GkSs/lib/python3.10/site-packages/IPython/core/magics/osm.py:393: UserWarning: This is now an optional IPython functionality, using bookmarks requires you to install the `pickleshare` library.\n",
      "  bkms = self.shell.db.get('bookmarks', {})\n",
      "/dss/dsshome1/0C/ra93lal2/.local/share/virtualenvs/CMA_Fairness_v2-3j10GkSs/lib/python3.10/site-packages/IPython/core/magics/osm.py:417: UserWarning: This is now an optional IPython functionality, setting dhist requires you to install the `pickleshare` library.\n",
      "  self.shell.db['dhist'] = compress_dhist(dhist)[-100:]\n"
     ]
    }
   ],
   "source": [
    "%cd ~/cma/CMA_Fairness_v2"
   ]
  },
  {
   "cell_type": "markdown",
   "id": "9d235661",
   "metadata": {
    "papermill": {
     "duration": 0.010441,
     "end_time": "2025-08-19T18:29:28.676059",
     "exception": false,
     "start_time": "2025-08-19T18:29:28.665618",
     "status": "completed"
    },
    "tags": []
   },
   "source": [
    "The following cell holds the definition of our parameters, these values can be overriden by rendering the with e.g. the following command:\n",
    "\n",
    "papermill -p alpha 0.2 -p ratio 0.3 universe_analysis.ipynb output/test_run.ipynb"
   ]
  },
  {
   "cell_type": "code",
   "execution_count": 2,
   "id": "4a789d8e",
   "metadata": {
    "execution": {
     "iopub.execute_input": "2025-08-19T18:29:28.695190Z",
     "iopub.status.busy": "2025-08-19T18:29:28.694486Z",
     "iopub.status.idle": "2025-08-19T18:29:28.698495Z",
     "shell.execute_reply": "2025-08-19T18:29:28.697928Z"
    },
    "papermill": {
     "duration": 0.014556,
     "end_time": "2025-08-19T18:29:28.699549",
     "exception": false,
     "start_time": "2025-08-19T18:29:28.684993",
     "status": "completed"
    },
    "tags": []
   },
   "outputs": [
    {
     "name": "stdout",
     "output_type": "stream",
     "text": [
      "Current working directory: /dss/dsshome1/0C/ra93lal2/cma/CMA_Fairness_v2\n"
     ]
    }
   ],
   "source": [
    "import os\n",
    "print(\"Current working directory:\", os.getcwd())"
   ]
  },
  {
   "cell_type": "code",
   "execution_count": 3,
   "id": "4132aaed",
   "metadata": {
    "execution": {
     "iopub.execute_input": "2025-08-19T18:29:28.718624Z",
     "iopub.status.busy": "2025-08-19T18:29:28.718110Z",
     "iopub.status.idle": "2025-08-19T18:29:28.730297Z",
     "shell.execute_reply": "2025-08-19T18:29:28.729570Z"
    },
    "papermill": {
     "duration": 0.023168,
     "end_time": "2025-08-19T18:29:28.731420",
     "exception": false,
     "start_time": "2025-08-19T18:29:28.708252",
     "status": "completed"
    },
    "tags": [
     "parameters"
    ]
   },
   "outputs": [],
   "source": [
    "run_no = 0\n",
    "universe_id = \"test\"\n",
    "universe = {\n",
    "    \"training_size\": \"5k\", # \"25k\", \"5k\", \"1k\"\n",
    "    \"training_year\": \"2012_14\", # \"2014\", \"2012_14\", \"2010_14\"\n",
    "    \"scale\": \"scale\", # \"scale\", \"do-not-scale\",\n",
    "    \"model\": \"elasticnet\", # \"logreg\", \"penalized_logreg\", \"rf\", \"gbm\", \"elasticnet\"\n",
    "    \"cutoff\": [\"quantile_0.15\", \"quantile_0.30\"],\n",
    "    \"exclude_features\": \"age\", # \"none\", \"nationality\", \"sex\", \"nationality-sex\", \"age\"\n",
    "    \"exclude_subgroups\": \"drop-non-german\", # \"keep-all\", \"drop-non-german\"\n",
    "    \"eval_fairness_grouping\": [\"majority-minority\", \"nationality-all\"]\n",
    "}\n",
    "\n",
    "output_dir=\"./output\"\n",
    "seed=0"
   ]
  },
  {
   "cell_type": "code",
   "execution_count": 4,
   "id": "503b7e03",
   "metadata": {
    "execution": {
     "iopub.execute_input": "2025-08-19T18:29:28.753999Z",
     "iopub.status.busy": "2025-08-19T18:29:28.753338Z",
     "iopub.status.idle": "2025-08-19T18:29:28.757322Z",
     "shell.execute_reply": "2025-08-19T18:29:28.756733Z"
    },
    "papermill": {
     "duration": 0.015283,
     "end_time": "2025-08-19T18:29:28.758324",
     "exception": false,
     "start_time": "2025-08-19T18:29:28.743041",
     "status": "completed"
    },
    "tags": [
     "injected-parameters"
    ]
   },
   "outputs": [],
   "source": [
    "# Parameters\n",
    "universe_id = \"4f66e61b28678a84d868466e7309c159\"\n",
    "run_no = \"3\"\n",
    "universe = \"{\\\"cutoff\\\": [\\\"quantile_0.1\\\", \\\"quantile_0.25\\\"], \\\"eval_fairness_grouping\\\": [\\\"majority-minority\\\", \\\"nationality-all\\\"], \\\"exclude_features\\\": \\\"nationality\\\", \\\"exclude_subgroups\\\": \\\"drop-non-german\\\", \\\"model\\\": \\\"gbm\\\", \\\"scale\\\": \\\"do-not-scale\\\", \\\"training_size\\\": \\\"5k\\\", \\\"training_year\\\": \\\"2014\\\"}\"\n",
    "output_dir = \"output\"\n",
    "seed = \"2023\"\n"
   ]
  },
  {
   "cell_type": "code",
   "execution_count": 5,
   "id": "a5d7941f",
   "metadata": {
    "execution": {
     "iopub.execute_input": "2025-08-19T18:29:28.777404Z",
     "iopub.status.busy": "2025-08-19T18:29:28.776972Z",
     "iopub.status.idle": "2025-08-19T18:29:28.791028Z",
     "shell.execute_reply": "2025-08-19T18:29:28.790304Z"
    },
    "papermill": {
     "duration": 0.024878,
     "end_time": "2025-08-19T18:29:28.792205",
     "exception": false,
     "start_time": "2025-08-19T18:29:28.767327",
     "status": "completed"
    },
    "tags": []
   },
   "outputs": [],
   "source": [
    "import json\n",
    "if isinstance(universe, str):\n",
    "    universe = json.loads(universe)"
   ]
  },
  {
   "cell_type": "code",
   "execution_count": 6,
   "id": "7076ccb1",
   "metadata": {
    "execution": {
     "iopub.execute_input": "2025-08-19T18:29:28.816773Z",
     "iopub.status.busy": "2025-08-19T18:29:28.816257Z",
     "iopub.status.idle": "2025-08-19T18:29:28.884513Z",
     "shell.execute_reply": "2025-08-19T18:29:28.883639Z"
    },
    "papermill": {
     "duration": 0.081787,
     "end_time": "2025-08-19T18:29:28.887302",
     "exception": false,
     "start_time": "2025-08-19T18:29:28.805515",
     "status": "completed"
    },
    "tags": []
   },
   "outputs": [],
   "source": [
    "# Auto-reload the custom package\n",
    "%load_ext autoreload\n",
    "%autoreload 1\n",
    "%aimport fairness_multiverse"
   ]
  },
  {
   "cell_type": "code",
   "execution_count": 7,
   "id": "94c8eb93",
   "metadata": {
    "execution": {
     "iopub.execute_input": "2025-08-19T18:29:28.928777Z",
     "iopub.status.busy": "2025-08-19T18:29:28.927580Z",
     "iopub.status.idle": "2025-08-19T18:29:30.553204Z",
     "shell.execute_reply": "2025-08-19T18:29:30.552141Z"
    },
    "papermill": {
     "duration": 1.638491,
     "end_time": "2025-08-19T18:29:30.554803",
     "exception": false,
     "start_time": "2025-08-19T18:29:28.916312",
     "status": "completed"
    },
    "tags": []
   },
   "outputs": [],
   "source": [
    "from fairness_multiverse.universe import UniverseAnalysis\n",
    "\n",
    "universe_analysis = UniverseAnalysis(\n",
    "    run_no = run_no,\n",
    "    universe_id = universe_id,\n",
    "    universe = universe,\n",
    "    output_dir=output_dir,\n",
    ")"
   ]
  },
  {
   "cell_type": "code",
   "execution_count": 8,
   "id": "2a6381cf",
   "metadata": {
    "execution": {
     "iopub.execute_input": "2025-08-19T18:29:30.575419Z",
     "iopub.status.busy": "2025-08-19T18:29:30.574868Z",
     "iopub.status.idle": "2025-08-19T18:29:30.581567Z",
     "shell.execute_reply": "2025-08-19T18:29:30.580702Z"
    },
    "papermill": {
     "duration": 0.018215,
     "end_time": "2025-08-19T18:29:30.582807",
     "exception": false,
     "start_time": "2025-08-19T18:29:30.564592",
     "status": "completed"
    },
    "tags": []
   },
   "outputs": [
    {
     "name": "stdout",
     "output_type": "stream",
     "text": [
      "Using Seed: 2023\n"
     ]
    }
   ],
   "source": [
    "import numpy as np\n",
    "parsed_seed = int(seed)\n",
    "np.random.seed(parsed_seed)\n",
    "print(f\"Using Seed: {parsed_seed}\")"
   ]
  },
  {
   "cell_type": "markdown",
   "id": "b6e958b4",
   "metadata": {
    "papermill": {
     "duration": 0.009084,
     "end_time": "2025-08-19T18:29:30.602153",
     "exception": false,
     "start_time": "2025-08-19T18:29:30.593069",
     "status": "completed"
    },
    "tags": []
   },
   "source": [
    "# Loading Data"
   ]
  },
  {
   "cell_type": "code",
   "execution_count": 9,
   "id": "98701482",
   "metadata": {
    "execution": {
     "iopub.execute_input": "2025-08-19T18:29:30.621587Z",
     "iopub.status.busy": "2025-08-19T18:29:30.621189Z",
     "iopub.status.idle": "2025-08-19T18:29:41.005065Z",
     "shell.execute_reply": "2025-08-19T18:29:41.003887Z"
    },
    "papermill": {
     "duration": 10.395333,
     "end_time": "2025-08-19T18:29:41.006497",
     "exception": false,
     "start_time": "2025-08-19T18:29:30.611164",
     "status": "completed"
    },
    "tags": []
   },
   "outputs": [
    {
     "name": "stdout",
     "output_type": "stream",
     "text": [
      "Loading SIAB data from cache: data/siab_cached.csv.gz\n"
     ]
    },
    {
     "name": "stdout",
     "output_type": "stream",
     "text": [
      "(643690, 164)\n"
     ]
    }
   ],
   "source": [
    "from pathlib import Path\n",
    "import pandas as pd\n",
    "\n",
    "# File paths\n",
    "raw_file = Path(\"data/raw/siab.csv\")\n",
    "cache_file = Path(\"data/siab_cached.csv.gz\")\n",
    "\n",
    "# Ensure cache directory exists\n",
    "cache_file.parent.mkdir(parents=True, exist_ok=True)\n",
    "\n",
    "# Load with simple caching\n",
    "if cache_file.exists():\n",
    "    print(f\"Loading SIAB data from cache: {cache_file}\")\n",
    "    siab = pd.read_csv(cache_file, compression='gzip')\n",
    "else:\n",
    "    print(f\"Cache not found. Reading raw SIAB data: {raw_file}\")\n",
    "    siab = pd.read_csv(raw_file)\n",
    "    siab.to_csv(cache_file, index=False, compression='gzip')\n",
    "    print(f\"Cached SIAB data to: {cache_file}\")\n",
    "\n",
    "print(siab.shape)"
   ]
  },
  {
   "cell_type": "code",
   "execution_count": 10,
   "id": "058d2abb",
   "metadata": {
    "execution": {
     "iopub.execute_input": "2025-08-19T18:29:41.032781Z",
     "iopub.status.busy": "2025-08-19T18:29:41.031173Z",
     "iopub.status.idle": "2025-08-19T18:29:41.197309Z",
     "shell.execute_reply": "2025-08-19T18:29:41.196520Z"
    },
    "papermill": {
     "duration": 0.179757,
     "end_time": "2025-08-19T18:29:41.198689",
     "exception": false,
     "start_time": "2025-08-19T18:29:41.018932",
     "status": "completed"
    },
    "tags": []
   },
   "outputs": [
    {
     "data": {
      "text/html": [
       "<div>\n",
       "<style scoped>\n",
       "    .dataframe tbody tr th:only-of-type {\n",
       "        vertical-align: middle;\n",
       "    }\n",
       "\n",
       "    .dataframe tbody tr th {\n",
       "        vertical-align: top;\n",
       "    }\n",
       "\n",
       "    .dataframe thead th {\n",
       "        text-align: right;\n",
       "    }\n",
       "</style>\n",
       "<table border=\"1\" class=\"dataframe\">\n",
       "  <thead>\n",
       "    <tr style=\"text-align: right;\">\n",
       "      <th></th>\n",
       "      <th>persnr</th>\n",
       "      <th>year</th>\n",
       "      <th>nrEntry</th>\n",
       "      <th>ltue</th>\n",
       "      <th>employed_before</th>\n",
       "      <th>receipt_leh_before</th>\n",
       "      <th>receipt_lhg_before</th>\n",
       "      <th>se_before</th>\n",
       "      <th>ASU_notue_seeking_before</th>\n",
       "      <th>ASU_other_before</th>\n",
       "      <th>...</th>\n",
       "      <th>minijob_tot_dur_byage</th>\n",
       "      <th>ft_tot_dur_byage</th>\n",
       "      <th>befrist_tot_dur_byage</th>\n",
       "      <th>leih_tot_dur_byage</th>\n",
       "      <th>LHG_tot_dur_byage</th>\n",
       "      <th>LEH_tot_dur_byage</th>\n",
       "      <th>almp_tot_dur_byage</th>\n",
       "      <th>almp_aw_tot_dur_byage</th>\n",
       "      <th>se_tot_dur_byage</th>\n",
       "      <th>seeking1_tot_dur_byage</th>\n",
       "    </tr>\n",
       "  </thead>\n",
       "  <tbody>\n",
       "    <tr>\n",
       "      <th>0</th>\n",
       "      <td>7</td>\n",
       "      <td>2015</td>\n",
       "      <td>1</td>\n",
       "      <td>0</td>\n",
       "      <td>1</td>\n",
       "      <td>0</td>\n",
       "      <td>0</td>\n",
       "      <td>0</td>\n",
       "      <td>1</td>\n",
       "      <td>0</td>\n",
       "      <td>...</td>\n",
       "      <td>0.000000</td>\n",
       "      <td>0.000000</td>\n",
       "      <td>15.043478</td>\n",
       "      <td>0.000000</td>\n",
       "      <td>0.000000</td>\n",
       "      <td>0.000000</td>\n",
       "      <td>0.000000</td>\n",
       "      <td>0.000000</td>\n",
       "      <td>0.000000</td>\n",
       "      <td>0.000000</td>\n",
       "    </tr>\n",
       "    <tr>\n",
       "      <th>1</th>\n",
       "      <td>18</td>\n",
       "      <td>2010</td>\n",
       "      <td>1</td>\n",
       "      <td>1</td>\n",
       "      <td>0</td>\n",
       "      <td>0</td>\n",
       "      <td>0</td>\n",
       "      <td>0</td>\n",
       "      <td>0</td>\n",
       "      <td>0</td>\n",
       "      <td>...</td>\n",
       "      <td>0.000000</td>\n",
       "      <td>0.000000</td>\n",
       "      <td>0.000000</td>\n",
       "      <td>0.000000</td>\n",
       "      <td>0.000000</td>\n",
       "      <td>0.000000</td>\n",
       "      <td>0.000000</td>\n",
       "      <td>0.000000</td>\n",
       "      <td>0.000000</td>\n",
       "      <td>0.000000</td>\n",
       "    </tr>\n",
       "    <tr>\n",
       "      <th>2</th>\n",
       "      <td>18</td>\n",
       "      <td>2011</td>\n",
       "      <td>2</td>\n",
       "      <td>0</td>\n",
       "      <td>1</td>\n",
       "      <td>0</td>\n",
       "      <td>1</td>\n",
       "      <td>0</td>\n",
       "      <td>1</td>\n",
       "      <td>0</td>\n",
       "      <td>...</td>\n",
       "      <td>2.714286</td>\n",
       "      <td>2.714286</td>\n",
       "      <td>0.000000</td>\n",
       "      <td>0.000000</td>\n",
       "      <td>10.775510</td>\n",
       "      <td>0.000000</td>\n",
       "      <td>8.367347</td>\n",
       "      <td>0.000000</td>\n",
       "      <td>0.000000</td>\n",
       "      <td>9.836735</td>\n",
       "    </tr>\n",
       "    <tr>\n",
       "      <th>3</th>\n",
       "      <td>18</td>\n",
       "      <td>2012</td>\n",
       "      <td>3</td>\n",
       "      <td>0</td>\n",
       "      <td>1</td>\n",
       "      <td>0</td>\n",
       "      <td>1</td>\n",
       "      <td>0</td>\n",
       "      <td>1</td>\n",
       "      <td>0</td>\n",
       "      <td>...</td>\n",
       "      <td>4.200000</td>\n",
       "      <td>4.200000</td>\n",
       "      <td>0.000000</td>\n",
       "      <td>0.000000</td>\n",
       "      <td>12.100000</td>\n",
       "      <td>0.000000</td>\n",
       "      <td>9.400000</td>\n",
       "      <td>0.000000</td>\n",
       "      <td>0.000000</td>\n",
       "      <td>9.960000</td>\n",
       "    </tr>\n",
       "    <tr>\n",
       "      <th>4</th>\n",
       "      <td>18</td>\n",
       "      <td>2012</td>\n",
       "      <td>4</td>\n",
       "      <td>0</td>\n",
       "      <td>1</td>\n",
       "      <td>0</td>\n",
       "      <td>1</td>\n",
       "      <td>0</td>\n",
       "      <td>1</td>\n",
       "      <td>0</td>\n",
       "      <td>...</td>\n",
       "      <td>5.460000</td>\n",
       "      <td>5.460000</td>\n",
       "      <td>0.000000</td>\n",
       "      <td>0.000000</td>\n",
       "      <td>13.360000</td>\n",
       "      <td>0.000000</td>\n",
       "      <td>10.320000</td>\n",
       "      <td>0.000000</td>\n",
       "      <td>0.000000</td>\n",
       "      <td>10.280000</td>\n",
       "    </tr>\n",
       "    <tr>\n",
       "      <th>...</th>\n",
       "      <td>...</td>\n",
       "      <td>...</td>\n",
       "      <td>...</td>\n",
       "      <td>...</td>\n",
       "      <td>...</td>\n",
       "      <td>...</td>\n",
       "      <td>...</td>\n",
       "      <td>...</td>\n",
       "      <td>...</td>\n",
       "      <td>...</td>\n",
       "      <td>...</td>\n",
       "      <td>...</td>\n",
       "      <td>...</td>\n",
       "      <td>...</td>\n",
       "      <td>...</td>\n",
       "      <td>...</td>\n",
       "      <td>...</td>\n",
       "      <td>...</td>\n",
       "      <td>...</td>\n",
       "      <td>...</td>\n",
       "      <td>...</td>\n",
       "    </tr>\n",
       "    <tr>\n",
       "      <th>643685</th>\n",
       "      <td>1827860</td>\n",
       "      <td>2013</td>\n",
       "      <td>1</td>\n",
       "      <td>0</td>\n",
       "      <td>0</td>\n",
       "      <td>0</td>\n",
       "      <td>1</td>\n",
       "      <td>0</td>\n",
       "      <td>0</td>\n",
       "      <td>1</td>\n",
       "      <td>...</td>\n",
       "      <td>0.000000</td>\n",
       "      <td>0.000000</td>\n",
       "      <td>0.000000</td>\n",
       "      <td>0.000000</td>\n",
       "      <td>0.612903</td>\n",
       "      <td>0.000000</td>\n",
       "      <td>0.000000</td>\n",
       "      <td>0.000000</td>\n",
       "      <td>0.000000</td>\n",
       "      <td>0.000000</td>\n",
       "    </tr>\n",
       "    <tr>\n",
       "      <th>643686</th>\n",
       "      <td>1827860</td>\n",
       "      <td>2015</td>\n",
       "      <td>2</td>\n",
       "      <td>1</td>\n",
       "      <td>0</td>\n",
       "      <td>0</td>\n",
       "      <td>1</td>\n",
       "      <td>0</td>\n",
       "      <td>1</td>\n",
       "      <td>0</td>\n",
       "      <td>...</td>\n",
       "      <td>0.000000</td>\n",
       "      <td>0.000000</td>\n",
       "      <td>0.212121</td>\n",
       "      <td>0.212121</td>\n",
       "      <td>17.363636</td>\n",
       "      <td>0.000000</td>\n",
       "      <td>8.909091</td>\n",
       "      <td>0.000000</td>\n",
       "      <td>0.000000</td>\n",
       "      <td>7.121212</td>\n",
       "    </tr>\n",
       "    <tr>\n",
       "      <th>643687</th>\n",
       "      <td>1827860</td>\n",
       "      <td>2016</td>\n",
       "      <td>3</td>\n",
       "      <td>1</td>\n",
       "      <td>0</td>\n",
       "      <td>0</td>\n",
       "      <td>1</td>\n",
       "      <td>1</td>\n",
       "      <td>0</td>\n",
       "      <td>1</td>\n",
       "      <td>...</td>\n",
       "      <td>0.000000</td>\n",
       "      <td>0.000000</td>\n",
       "      <td>0.294118</td>\n",
       "      <td>0.205882</td>\n",
       "      <td>34.705882</td>\n",
       "      <td>0.000000</td>\n",
       "      <td>10.352941</td>\n",
       "      <td>1.705882</td>\n",
       "      <td>1.705882</td>\n",
       "      <td>23.911765</td>\n",
       "    </tr>\n",
       "    <tr>\n",
       "      <th>643688</th>\n",
       "      <td>1827869</td>\n",
       "      <td>2013</td>\n",
       "      <td>1</td>\n",
       "      <td>1</td>\n",
       "      <td>1</td>\n",
       "      <td>0</td>\n",
       "      <td>0</td>\n",
       "      <td>0</td>\n",
       "      <td>1</td>\n",
       "      <td>0</td>\n",
       "      <td>...</td>\n",
       "      <td>0.000000</td>\n",
       "      <td>0.000000</td>\n",
       "      <td>0.000000</td>\n",
       "      <td>0.000000</td>\n",
       "      <td>0.000000</td>\n",
       "      <td>0.525424</td>\n",
       "      <td>0.000000</td>\n",
       "      <td>0.000000</td>\n",
       "      <td>0.000000</td>\n",
       "      <td>0.000000</td>\n",
       "    </tr>\n",
       "    <tr>\n",
       "      <th>643689</th>\n",
       "      <td>1827869</td>\n",
       "      <td>2014</td>\n",
       "      <td>2</td>\n",
       "      <td>0</td>\n",
       "      <td>0</td>\n",
       "      <td>1</td>\n",
       "      <td>0</td>\n",
       "      <td>0</td>\n",
       "      <td>1</td>\n",
       "      <td>0</td>\n",
       "      <td>...</td>\n",
       "      <td>0.000000</td>\n",
       "      <td>0.666667</td>\n",
       "      <td>0.666667</td>\n",
       "      <td>0.000000</td>\n",
       "      <td>0.000000</td>\n",
       "      <td>8.950000</td>\n",
       "      <td>1.033333</td>\n",
       "      <td>0.083333</td>\n",
       "      <td>0.083333</td>\n",
       "      <td>8.133333</td>\n",
       "    </tr>\n",
       "  </tbody>\n",
       "</table>\n",
       "<p>643690 rows × 164 columns</p>\n",
       "</div>"
      ],
      "text/plain": [
       "         persnr  year  nrEntry  ltue  employed_before  receipt_leh_before  \\\n",
       "0             7  2015        1     0                1                   0   \n",
       "1            18  2010        1     1                0                   0   \n",
       "2            18  2011        2     0                1                   0   \n",
       "3            18  2012        3     0                1                   0   \n",
       "4            18  2012        4     0                1                   0   \n",
       "...         ...   ...      ...   ...              ...                 ...   \n",
       "643685  1827860  2013        1     0                0                   0   \n",
       "643686  1827860  2015        2     1                0                   0   \n",
       "643687  1827860  2016        3     1                0                   0   \n",
       "643688  1827869  2013        1     1                1                   0   \n",
       "643689  1827869  2014        2     0                0                   1   \n",
       "\n",
       "        receipt_lhg_before  se_before  ASU_notue_seeking_before  \\\n",
       "0                        0          0                         1   \n",
       "1                        0          0                         0   \n",
       "2                        1          0                         1   \n",
       "3                        1          0                         1   \n",
       "4                        1          0                         1   \n",
       "...                    ...        ...                       ...   \n",
       "643685                   1          0                         0   \n",
       "643686                   1          0                         1   \n",
       "643687                   1          1                         0   \n",
       "643688                   0          0                         1   \n",
       "643689                   0          0                         1   \n",
       "\n",
       "        ASU_other_before  ...  minijob_tot_dur_byage  ft_tot_dur_byage  \\\n",
       "0                      0  ...               0.000000          0.000000   \n",
       "1                      0  ...               0.000000          0.000000   \n",
       "2                      0  ...               2.714286          2.714286   \n",
       "3                      0  ...               4.200000          4.200000   \n",
       "4                      0  ...               5.460000          5.460000   \n",
       "...                  ...  ...                    ...               ...   \n",
       "643685                 1  ...               0.000000          0.000000   \n",
       "643686                 0  ...               0.000000          0.000000   \n",
       "643687                 1  ...               0.000000          0.000000   \n",
       "643688                 0  ...               0.000000          0.000000   \n",
       "643689                 0  ...               0.000000          0.666667   \n",
       "\n",
       "        befrist_tot_dur_byage  leih_tot_dur_byage  LHG_tot_dur_byage  \\\n",
       "0                   15.043478            0.000000           0.000000   \n",
       "1                    0.000000            0.000000           0.000000   \n",
       "2                    0.000000            0.000000          10.775510   \n",
       "3                    0.000000            0.000000          12.100000   \n",
       "4                    0.000000            0.000000          13.360000   \n",
       "...                       ...                 ...                ...   \n",
       "643685               0.000000            0.000000           0.612903   \n",
       "643686               0.212121            0.212121          17.363636   \n",
       "643687               0.294118            0.205882          34.705882   \n",
       "643688               0.000000            0.000000           0.000000   \n",
       "643689               0.666667            0.000000           0.000000   \n",
       "\n",
       "        LEH_tot_dur_byage  almp_tot_dur_byage  almp_aw_tot_dur_byage  \\\n",
       "0                0.000000            0.000000               0.000000   \n",
       "1                0.000000            0.000000               0.000000   \n",
       "2                0.000000            8.367347               0.000000   \n",
       "3                0.000000            9.400000               0.000000   \n",
       "4                0.000000           10.320000               0.000000   \n",
       "...                   ...                 ...                    ...   \n",
       "643685           0.000000            0.000000               0.000000   \n",
       "643686           0.000000            8.909091               0.000000   \n",
       "643687           0.000000           10.352941               1.705882   \n",
       "643688           0.525424            0.000000               0.000000   \n",
       "643689           8.950000            1.033333               0.083333   \n",
       "\n",
       "        se_tot_dur_byage  seeking1_tot_dur_byage  \n",
       "0               0.000000                0.000000  \n",
       "1               0.000000                0.000000  \n",
       "2               0.000000                9.836735  \n",
       "3               0.000000                9.960000  \n",
       "4               0.000000               10.280000  \n",
       "...                  ...                     ...  \n",
       "643685          0.000000                0.000000  \n",
       "643686          0.000000                7.121212  \n",
       "643687          1.705882               23.911765  \n",
       "643688          0.000000                0.000000  \n",
       "643689          0.083333                8.133333  \n",
       "\n",
       "[643690 rows x 164 columns]"
      ]
     },
     "execution_count": 10,
     "metadata": {},
     "output_type": "execute_result"
    }
   ],
   "source": [
    "siab"
   ]
  },
  {
   "cell_type": "markdown",
   "id": "1f87e805",
   "metadata": {
    "papermill": {
     "duration": 0.009548,
     "end_time": "2025-08-19T18:29:41.218125",
     "exception": false,
     "start_time": "2025-08-19T18:29:41.208577",
     "status": "completed"
    },
    "tags": []
   },
   "source": [
    "# Splitting Data and Setting Training Data Size"
   ]
  },
  {
   "cell_type": "code",
   "execution_count": 11,
   "id": "910ae358",
   "metadata": {
    "execution": {
     "iopub.execute_input": "2025-08-19T18:29:41.241447Z",
     "iopub.status.busy": "2025-08-19T18:29:41.240042Z",
     "iopub.status.idle": "2025-08-19T18:29:41.504158Z",
     "shell.execute_reply": "2025-08-19T18:29:41.503414Z"
    },
    "papermill": {
     "duration": 0.278333,
     "end_time": "2025-08-19T18:29:41.506939",
     "exception": false,
     "start_time": "2025-08-19T18:29:41.228606",
     "status": "completed"
    },
    "tags": []
   },
   "outputs": [],
   "source": [
    "from fairness_multiverse.universe import sample_by_year_size\n",
    "\n",
    "siab_train = sample_by_year_size(siab,\n",
    "                               training_year=universe[\"training_year\"],\n",
    "                               training_size=universe[\"training_size\"])"
   ]
  },
  {
   "cell_type": "code",
   "execution_count": 12,
   "id": "919c8ff5",
   "metadata": {
    "execution": {
     "iopub.execute_input": "2025-08-19T18:29:41.564825Z",
     "iopub.status.busy": "2025-08-19T18:29:41.563410Z",
     "iopub.status.idle": "2025-08-19T18:29:41.578842Z",
     "shell.execute_reply": "2025-08-19T18:29:41.576810Z"
    },
    "papermill": {
     "duration": 0.038432,
     "end_time": "2025-08-19T18:29:41.581209",
     "exception": false,
     "start_time": "2025-08-19T18:29:41.542777",
     "status": "completed"
    },
    "tags": []
   },
   "outputs": [
    {
     "data": {
      "text/plain": [
       "(5000, 164)"
      ]
     },
     "execution_count": 12,
     "metadata": {},
     "output_type": "execute_result"
    }
   ],
   "source": [
    "siab_train.shape"
   ]
  },
  {
   "cell_type": "code",
   "execution_count": 13,
   "id": "feb13bf4",
   "metadata": {
    "execution": {
     "iopub.execute_input": "2025-08-19T18:29:41.609066Z",
     "iopub.status.busy": "2025-08-19T18:29:41.607726Z",
     "iopub.status.idle": "2025-08-19T18:29:41.626004Z",
     "shell.execute_reply": "2025-08-19T18:29:41.624565Z"
    },
    "papermill": {
     "duration": 0.031497,
     "end_time": "2025-08-19T18:29:41.627481",
     "exception": false,
     "start_time": "2025-08-19T18:29:41.595984",
     "status": "completed"
    },
    "tags": []
   },
   "outputs": [
    {
     "data": {
      "text/plain": [
       "year\n",
       "2014    5000\n",
       "dtype: int64"
      ]
     },
     "metadata": {},
     "output_type": "display_data"
    }
   ],
   "source": [
    "display(siab_train.groupby(\"year\").size())"
   ]
  },
  {
   "cell_type": "code",
   "execution_count": 14,
   "id": "0997782f",
   "metadata": {
    "execution": {
     "iopub.execute_input": "2025-08-19T18:29:41.650716Z",
     "iopub.status.busy": "2025-08-19T18:29:41.649452Z",
     "iopub.status.idle": "2025-08-19T18:29:41.914217Z",
     "shell.execute_reply": "2025-08-19T18:29:41.913447Z"
    },
    "papermill": {
     "duration": 0.279327,
     "end_time": "2025-08-19T18:29:41.917176",
     "exception": false,
     "start_time": "2025-08-19T18:29:41.637849",
     "status": "completed"
    },
    "tags": []
   },
   "outputs": [],
   "source": [
    "#siab_train = siab_s[siab_s.year < 2015]\n",
    "siab_calib = siab[siab.year == 2015]\n",
    "siab_test = siab[siab.year == 2016]"
   ]
  },
  {
   "cell_type": "code",
   "execution_count": 15,
   "id": "2c1e4012",
   "metadata": {
    "execution": {
     "iopub.execute_input": "2025-08-19T18:29:41.956394Z",
     "iopub.status.busy": "2025-08-19T18:29:41.955054Z",
     "iopub.status.idle": "2025-08-19T18:29:41.962177Z",
     "shell.execute_reply": "2025-08-19T18:29:41.960774Z"
    },
    "papermill": {
     "duration": 0.022454,
     "end_time": "2025-08-19T18:29:41.963577",
     "exception": false,
     "start_time": "2025-08-19T18:29:41.941123",
     "status": "completed"
    },
    "tags": []
   },
   "outputs": [],
   "source": [
    "#siab_calib.shape"
   ]
  },
  {
   "cell_type": "code",
   "execution_count": 16,
   "id": "f66b54ca",
   "metadata": {
    "execution": {
     "iopub.execute_input": "2025-08-19T18:29:41.986064Z",
     "iopub.status.busy": "2025-08-19T18:29:41.984851Z",
     "iopub.status.idle": "2025-08-19T18:29:41.991501Z",
     "shell.execute_reply": "2025-08-19T18:29:41.990282Z"
    },
    "papermill": {
     "duration": 0.01942,
     "end_time": "2025-08-19T18:29:41.992936",
     "exception": false,
     "start_time": "2025-08-19T18:29:41.973516",
     "status": "completed"
    },
    "tags": []
   },
   "outputs": [],
   "source": [
    "#siab_test.shape"
   ]
  },
  {
   "cell_type": "code",
   "execution_count": 17,
   "id": "27e4384d",
   "metadata": {
    "execution": {
     "iopub.execute_input": "2025-08-19T18:29:42.033105Z",
     "iopub.status.busy": "2025-08-19T18:29:42.031863Z",
     "iopub.status.idle": "2025-08-19T18:29:42.043579Z",
     "shell.execute_reply": "2025-08-19T18:29:42.042325Z"
    },
    "papermill": {
     "duration": 0.039959,
     "end_time": "2025-08-19T18:29:42.045395",
     "exception": false,
     "start_time": "2025-08-19T18:29:42.005436",
     "status": "completed"
    },
    "tags": []
   },
   "outputs": [],
   "source": [
    "X_train = siab_train.iloc[:,4:164]\n",
    "y_train = siab_train.iloc[:, [3]]"
   ]
  },
  {
   "cell_type": "code",
   "execution_count": 18,
   "id": "08ee8389",
   "metadata": {
    "execution": {
     "iopub.execute_input": "2025-08-19T18:29:42.079272Z",
     "iopub.status.busy": "2025-08-19T18:29:42.077817Z",
     "iopub.status.idle": "2025-08-19T18:29:42.136699Z",
     "shell.execute_reply": "2025-08-19T18:29:42.135875Z"
    },
    "papermill": {
     "duration": 0.076717,
     "end_time": "2025-08-19T18:29:42.141054",
     "exception": false,
     "start_time": "2025-08-19T18:29:42.064337",
     "status": "completed"
    },
    "tags": []
   },
   "outputs": [],
   "source": [
    "X_calib = siab_calib.iloc[:,4:164]\n",
    "y_calib = siab_calib.iloc[:, [3]]"
   ]
  },
  {
   "cell_type": "code",
   "execution_count": 19,
   "id": "b7ff42e0",
   "metadata": {
    "execution": {
     "iopub.execute_input": "2025-08-19T18:29:42.186669Z",
     "iopub.status.busy": "2025-08-19T18:29:42.185657Z",
     "iopub.status.idle": "2025-08-19T18:29:42.244253Z",
     "shell.execute_reply": "2025-08-19T18:29:42.243464Z"
    },
    "papermill": {
     "duration": 0.071492,
     "end_time": "2025-08-19T18:29:42.245517",
     "exception": false,
     "start_time": "2025-08-19T18:29:42.174025",
     "status": "completed"
    },
    "tags": []
   },
   "outputs": [],
   "source": [
    "X_test = siab_test.iloc[:,4:164]\n",
    "y_true = siab_test.iloc[:, [3]]"
   ]
  },
  {
   "cell_type": "code",
   "execution_count": 20,
   "id": "0275101e",
   "metadata": {
    "execution": {
     "iopub.execute_input": "2025-08-19T18:29:42.267937Z",
     "iopub.status.busy": "2025-08-19T18:29:42.267494Z",
     "iopub.status.idle": "2025-08-19T18:29:42.378447Z",
     "shell.execute_reply": "2025-08-19T18:29:42.377704Z"
    },
    "papermill": {
     "duration": 0.125203,
     "end_time": "2025-08-19T18:29:42.381278",
     "exception": false,
     "start_time": "2025-08-19T18:29:42.256075",
     "status": "completed"
    },
    "tags": []
   },
   "outputs": [],
   "source": [
    "# Auxiliary data needed downstream in the pipeline\n",
    "\n",
    "org_train = X_train.copy()\n",
    "org_test = X_test.copy()\n",
    "org_calib = X_calib.copy()"
   ]
  },
  {
   "cell_type": "markdown",
   "id": "b461e618",
   "metadata": {
    "papermill": {
     "duration": 0.012477,
     "end_time": "2025-08-19T18:29:42.418609",
     "exception": false,
     "start_time": "2025-08-19T18:29:42.406132",
     "status": "completed"
    },
    "tags": []
   },
   "source": [
    "# Preprocessing Data"
   ]
  },
  {
   "cell_type": "code",
   "execution_count": 21,
   "id": "78e74c4b",
   "metadata": {
    "execution": {
     "iopub.execute_input": "2025-08-19T18:29:42.442596Z",
     "iopub.status.busy": "2025-08-19T18:29:42.442031Z",
     "iopub.status.idle": "2025-08-19T18:29:42.448591Z",
     "shell.execute_reply": "2025-08-19T18:29:42.447552Z"
    },
    "papermill": {
     "duration": 0.019361,
     "end_time": "2025-08-19T18:29:42.449782",
     "exception": false,
     "start_time": "2025-08-19T18:29:42.430421",
     "status": "completed"
    },
    "tags": []
   },
   "outputs": [],
   "source": [
    "# EXCLUDE PROTECTED FEATURES\n",
    "# --------------------------\n",
    "\n",
    "excluded_features = universe[\"exclude_features\"].split(\"-\")\n",
    "excluded_features_dictionary = {\n",
    "    \"nationality\": [\"maxdeutsch1\", \"maxdeutsch.Missing.\"],\n",
    "    \"sex\": [\"frau1\"],\n",
    "    \"age\": [\"age\"],\n",
    "}"
   ]
  },
  {
   "cell_type": "code",
   "execution_count": 22,
   "id": "f8e63555",
   "metadata": {
    "execution": {
     "iopub.execute_input": "2025-08-19T18:29:42.473222Z",
     "iopub.status.busy": "2025-08-19T18:29:42.472104Z",
     "iopub.status.idle": "2025-08-19T18:29:42.478683Z",
     "shell.execute_reply": "2025-08-19T18:29:42.477532Z"
    },
    "papermill": {
     "duration": 0.019673,
     "end_time": "2025-08-19T18:29:42.479984",
     "exception": false,
     "start_time": "2025-08-19T18:29:42.460311",
     "status": "completed"
    },
    "tags": []
   },
   "outputs": [],
   "source": [
    "excluded_features_columns = [\n",
    "    excluded_features_dictionary[f] for f in excluded_features if len(f) > 0 and f != \"none\"\n",
    "]"
   ]
  },
  {
   "cell_type": "code",
   "execution_count": 23,
   "id": "da781f7c",
   "metadata": {
    "execution": {
     "iopub.execute_input": "2025-08-19T18:29:42.503935Z",
     "iopub.status.busy": "2025-08-19T18:29:42.502720Z",
     "iopub.status.idle": "2025-08-19T18:29:42.510250Z",
     "shell.execute_reply": "2025-08-19T18:29:42.508973Z"
    },
    "papermill": {
     "duration": 0.020956,
     "end_time": "2025-08-19T18:29:42.511713",
     "exception": false,
     "start_time": "2025-08-19T18:29:42.490757",
     "status": "completed"
    },
    "tags": []
   },
   "outputs": [],
   "source": [
    "from fairness_multiverse.universe import flatten_once\n",
    "\n",
    "excluded_features_columns = flatten_once(excluded_features_columns)"
   ]
  },
  {
   "cell_type": "code",
   "execution_count": 24,
   "id": "37fef0f0",
   "metadata": {
    "execution": {
     "iopub.execute_input": "2025-08-19T18:29:42.537645Z",
     "iopub.status.busy": "2025-08-19T18:29:42.536280Z",
     "iopub.status.idle": "2025-08-19T18:29:42.556068Z",
     "shell.execute_reply": "2025-08-19T18:29:42.554959Z"
    },
    "papermill": {
     "duration": 0.033903,
     "end_time": "2025-08-19T18:29:42.557863",
     "exception": false,
     "start_time": "2025-08-19T18:29:42.523960",
     "status": "completed"
    },
    "tags": []
   },
   "outputs": [
    {
     "name": "stdout",
     "output_type": "stream",
     "text": [
      "Dropping features: ['maxdeutsch1', 'maxdeutsch.Missing.']\n"
     ]
    }
   ],
   "source": [
    "if len(excluded_features_columns) > 0:\n",
    "    print(f\"Dropping features: {excluded_features_columns}\")\n",
    "    X_train.drop(excluded_features_columns, axis=1, inplace=True)"
   ]
  },
  {
   "cell_type": "code",
   "execution_count": 25,
   "id": "d029e3e9",
   "metadata": {
    "execution": {
     "iopub.execute_input": "2025-08-19T18:29:42.587459Z",
     "iopub.status.busy": "2025-08-19T18:29:42.586201Z",
     "iopub.status.idle": "2025-08-19T18:29:42.643033Z",
     "shell.execute_reply": "2025-08-19T18:29:42.642236Z"
    },
    "papermill": {
     "duration": 0.071615,
     "end_time": "2025-08-19T18:29:42.645660",
     "exception": false,
     "start_time": "2025-08-19T18:29:42.574045",
     "status": "completed"
    },
    "tags": []
   },
   "outputs": [
    {
     "name": "stdout",
     "output_type": "stream",
     "text": [
      "Dropping features: ['maxdeutsch1', 'maxdeutsch.Missing.']\n"
     ]
    }
   ],
   "source": [
    "if len(excluded_features_columns) > 0:\n",
    "    print(f\"Dropping features: {excluded_features_columns}\")\n",
    "    X_test.drop(excluded_features_columns, axis=1, inplace=True)"
   ]
  },
  {
   "cell_type": "code",
   "execution_count": 26,
   "id": "01d571f0",
   "metadata": {
    "execution": {
     "iopub.execute_input": "2025-08-19T18:29:42.685687Z",
     "iopub.status.busy": "2025-08-19T18:29:42.684252Z",
     "iopub.status.idle": "2025-08-19T18:29:42.738427Z",
     "shell.execute_reply": "2025-08-19T18:29:42.737638Z"
    },
    "papermill": {
     "duration": 0.072093,
     "end_time": "2025-08-19T18:29:42.741629",
     "exception": false,
     "start_time": "2025-08-19T18:29:42.669536",
     "status": "completed"
    },
    "tags": []
   },
   "outputs": [
    {
     "name": "stdout",
     "output_type": "stream",
     "text": [
      "Dropping features: ['maxdeutsch1', 'maxdeutsch.Missing.']\n"
     ]
    }
   ],
   "source": [
    "if len(excluded_features_columns) > 0:\n",
    "    print(f\"Dropping features: {excluded_features_columns}\")\n",
    "    X_calib.drop(excluded_features_columns, axis=1, inplace=True)"
   ]
  },
  {
   "cell_type": "code",
   "execution_count": 27,
   "id": "3037356e",
   "metadata": {
    "execution": {
     "iopub.execute_input": "2025-08-19T18:29:42.780981Z",
     "iopub.status.busy": "2025-08-19T18:29:42.776793Z",
     "iopub.status.idle": "2025-08-19T18:29:42.784386Z",
     "shell.execute_reply": "2025-08-19T18:29:42.783822Z"
    },
    "papermill": {
     "duration": 0.021889,
     "end_time": "2025-08-19T18:29:42.785389",
     "exception": false,
     "start_time": "2025-08-19T18:29:42.763500",
     "status": "completed"
    },
    "tags": []
   },
   "outputs": [],
   "source": [
    "# EXCLUDE CERTAIN SUBGROUPS\n",
    "# -------------------------\n",
    "\n",
    "mode = universe.get(\"exclude_subgroups\", \"keep-all\") # Defaults to \"keep-all\" if the key is missing."
   ]
  },
  {
   "cell_type": "code",
   "execution_count": 28,
   "id": "9d1e63fd",
   "metadata": {
    "execution": {
     "iopub.execute_input": "2025-08-19T18:29:42.810300Z",
     "iopub.status.busy": "2025-08-19T18:29:42.809649Z",
     "iopub.status.idle": "2025-08-19T18:29:42.816454Z",
     "shell.execute_reply": "2025-08-19T18:29:42.815752Z"
    },
    "papermill": {
     "duration": 0.01947,
     "end_time": "2025-08-19T18:29:42.817525",
     "exception": false,
     "start_time": "2025-08-19T18:29:42.798055",
     "status": "completed"
    },
    "tags": []
   },
   "outputs": [],
   "source": [
    "if mode == \"keep-all\":\n",
    "    keep_mask = pd.Series(True, index=org_train.index)\n",
    "\n",
    "elif mode == \"drop-non-german\":\n",
    "    keep_mask = (org_train[\"maxdeutsch1\"] == 1) & (org_train[\"maxdeutsch.Missing.\"] == 0)\n",
    "\n",
    "else:\n",
    "    raise ValueError(f\"Unsupported mode for exclude_subgroups: {mode}\")"
   ]
  },
  {
   "cell_type": "code",
   "execution_count": 29,
   "id": "d3b65474",
   "metadata": {
    "execution": {
     "iopub.execute_input": "2025-08-19T18:29:42.847638Z",
     "iopub.status.busy": "2025-08-19T18:29:42.846586Z",
     "iopub.status.idle": "2025-08-19T18:29:42.858858Z",
     "shell.execute_reply": "2025-08-19T18:29:42.857639Z"
    },
    "papermill": {
     "duration": 0.030168,
     "end_time": "2025-08-19T18:29:42.861017",
     "exception": false,
     "start_time": "2025-08-19T18:29:42.830849",
     "status": "completed"
    },
    "tags": []
   },
   "outputs": [
    {
     "name": "stdout",
     "output_type": "stream",
     "text": [
      "Dropping 741 rows (14.82%) where mode='drop-non-german'\n"
     ]
    }
   ],
   "source": [
    "n_drop = (~keep_mask).sum() # Calculates how many rows are set to be dropped\n",
    "if n_drop > 0:\n",
    "    pct = n_drop / len(keep_mask) * 100\n",
    "    print(f\"Dropping {n_drop} rows ({pct:.2f}%) where mode='{mode}'\")"
   ]
  },
  {
   "cell_type": "code",
   "execution_count": 30,
   "id": "f44389b3",
   "metadata": {
    "execution": {
     "iopub.execute_input": "2025-08-19T18:29:42.886235Z",
     "iopub.status.busy": "2025-08-19T18:29:42.885913Z",
     "iopub.status.idle": "2025-08-19T18:29:42.901559Z",
     "shell.execute_reply": "2025-08-19T18:29:42.900113Z"
    },
    "papermill": {
     "duration": 0.028629,
     "end_time": "2025-08-19T18:29:42.902974",
     "exception": false,
     "start_time": "2025-08-19T18:29:42.874345",
     "status": "completed"
    },
    "tags": []
   },
   "outputs": [],
   "source": [
    "X_train = X_train[keep_mask]"
   ]
  },
  {
   "cell_type": "code",
   "execution_count": 31,
   "id": "ceca8c2a",
   "metadata": {
    "execution": {
     "iopub.execute_input": "2025-08-19T18:29:42.925260Z",
     "iopub.status.busy": "2025-08-19T18:29:42.924989Z",
     "iopub.status.idle": "2025-08-19T18:29:42.930622Z",
     "shell.execute_reply": "2025-08-19T18:29:42.929823Z"
    },
    "papermill": {
     "duration": 0.018343,
     "end_time": "2025-08-19T18:29:42.931922",
     "exception": false,
     "start_time": "2025-08-19T18:29:42.913579",
     "status": "completed"
    },
    "tags": []
   },
   "outputs": [],
   "source": [
    "y_train = y_train[keep_mask]"
   ]
  },
  {
   "cell_type": "markdown",
   "id": "04d31e2f",
   "metadata": {
    "papermill": {
     "duration": 0.010448,
     "end_time": "2025-08-19T18:29:42.952951",
     "exception": false,
     "start_time": "2025-08-19T18:29:42.942503",
     "status": "completed"
    },
    "tags": []
   },
   "source": [
    "# Model Training"
   ]
  },
  {
   "cell_type": "code",
   "execution_count": 32,
   "id": "db991733",
   "metadata": {
    "execution": {
     "iopub.execute_input": "2025-08-19T18:29:42.975461Z",
     "iopub.status.busy": "2025-08-19T18:29:42.975108Z",
     "iopub.status.idle": "2025-08-19T18:29:43.086953Z",
     "shell.execute_reply": "2025-08-19T18:29:43.085692Z"
    },
    "papermill": {
     "duration": 0.125437,
     "end_time": "2025-08-19T18:29:43.088874",
     "exception": false,
     "start_time": "2025-08-19T18:29:42.963437",
     "status": "completed"
    },
    "tags": []
   },
   "outputs": [],
   "source": [
    "from sklearn.linear_model import LogisticRegression\n",
    "from sklearn.ensemble import GradientBoostingClassifier, RandomForestClassifier\n",
    "\n",
    "if (universe[\"model\"] == \"logreg\"):\n",
    "    model = LogisticRegression() #penalty=\"none\", solver=\"newton-cg\", max_iter=1)\n",
    "elif (universe[\"model\"] == \"penalized_logreg\"):\n",
    "    model = LogisticRegression(penalty=\"l2\", C=0.1) #, solver=\"newton-cg\", max_iter=1)\n",
    "elif (universe[\"model\"] == \"rf\"):\n",
    "    model = RandomForestClassifier() # n_estimators=100, n_jobs=-1\n",
    "elif (universe[\"model\"] == \"gbm\"):\n",
    "    model = GradientBoostingClassifier()\n",
    "elif (universe[\"model\"] == \"elasticnet\"):\n",
    "    model = LogisticRegression(penalty = 'elasticnet', solver = 'saga', l1_ratio = 0.5) # max_iter=5000\n",
    "else:\n",
    "    raise \"Unsupported universe.model\""
   ]
  },
  {
   "cell_type": "code",
   "execution_count": 33,
   "id": "a4b5cd25",
   "metadata": {
    "execution": {
     "iopub.execute_input": "2025-08-19T18:29:43.114084Z",
     "iopub.status.busy": "2025-08-19T18:29:43.113201Z",
     "iopub.status.idle": "2025-08-19T18:29:43.120674Z",
     "shell.execute_reply": "2025-08-19T18:29:43.119588Z"
    },
    "papermill": {
     "duration": 0.022131,
     "end_time": "2025-08-19T18:29:43.122365",
     "exception": false,
     "start_time": "2025-08-19T18:29:43.100234",
     "status": "completed"
    },
    "tags": []
   },
   "outputs": [],
   "source": [
    "from sklearn.pipeline import Pipeline\n",
    "from sklearn.preprocessing import StandardScaler\n",
    "\n",
    "model = Pipeline([\n",
    "    #(\"continuous_processor\", continuous_processor),\n",
    "    #(\"categorical_preprocessor\", categorical_preprocessor),\n",
    "    (\"scale\", StandardScaler() if universe[\"scale\"] == \"scale\" else None), \n",
    "    (\"model\", model),\n",
    "])"
   ]
  },
  {
   "cell_type": "code",
   "execution_count": 34,
   "id": "283a904d",
   "metadata": {
    "execution": {
     "iopub.execute_input": "2025-08-19T18:29:43.151028Z",
     "iopub.status.busy": "2025-08-19T18:29:43.149714Z",
     "iopub.status.idle": "2025-08-19T18:29:47.026274Z",
     "shell.execute_reply": "2025-08-19T18:29:47.025283Z"
    },
    "papermill": {
     "duration": 3.890967,
     "end_time": "2025-08-19T18:29:47.027578",
     "exception": false,
     "start_time": "2025-08-19T18:29:43.136611",
     "status": "completed"
    },
    "tags": []
   },
   "outputs": [
    {
     "data": {
      "text/html": [
       "<style>#sk-container-id-1 {color: black;background-color: white;}#sk-container-id-1 pre{padding: 0;}#sk-container-id-1 div.sk-toggleable {background-color: white;}#sk-container-id-1 label.sk-toggleable__label {cursor: pointer;display: block;width: 100%;margin-bottom: 0;padding: 0.3em;box-sizing: border-box;text-align: center;}#sk-container-id-1 label.sk-toggleable__label-arrow:before {content: \"▸\";float: left;margin-right: 0.25em;color: #696969;}#sk-container-id-1 label.sk-toggleable__label-arrow:hover:before {color: black;}#sk-container-id-1 div.sk-estimator:hover label.sk-toggleable__label-arrow:before {color: black;}#sk-container-id-1 div.sk-toggleable__content {max-height: 0;max-width: 0;overflow: hidden;text-align: left;background-color: #f0f8ff;}#sk-container-id-1 div.sk-toggleable__content pre {margin: 0.2em;color: black;border-radius: 0.25em;background-color: #f0f8ff;}#sk-container-id-1 input.sk-toggleable__control:checked~div.sk-toggleable__content {max-height: 200px;max-width: 100%;overflow: auto;}#sk-container-id-1 input.sk-toggleable__control:checked~label.sk-toggleable__label-arrow:before {content: \"▾\";}#sk-container-id-1 div.sk-estimator input.sk-toggleable__control:checked~label.sk-toggleable__label {background-color: #d4ebff;}#sk-container-id-1 div.sk-label input.sk-toggleable__control:checked~label.sk-toggleable__label {background-color: #d4ebff;}#sk-container-id-1 input.sk-hidden--visually {border: 0;clip: rect(1px 1px 1px 1px);clip: rect(1px, 1px, 1px, 1px);height: 1px;margin: -1px;overflow: hidden;padding: 0;position: absolute;width: 1px;}#sk-container-id-1 div.sk-estimator {font-family: monospace;background-color: #f0f8ff;border: 1px dotted black;border-radius: 0.25em;box-sizing: border-box;margin-bottom: 0.5em;}#sk-container-id-1 div.sk-estimator:hover {background-color: #d4ebff;}#sk-container-id-1 div.sk-parallel-item::after {content: \"\";width: 100%;border-bottom: 1px solid gray;flex-grow: 1;}#sk-container-id-1 div.sk-label:hover label.sk-toggleable__label {background-color: #d4ebff;}#sk-container-id-1 div.sk-serial::before {content: \"\";position: absolute;border-left: 1px solid gray;box-sizing: border-box;top: 0;bottom: 0;left: 50%;z-index: 0;}#sk-container-id-1 div.sk-serial {display: flex;flex-direction: column;align-items: center;background-color: white;padding-right: 0.2em;padding-left: 0.2em;position: relative;}#sk-container-id-1 div.sk-item {position: relative;z-index: 1;}#sk-container-id-1 div.sk-parallel {display: flex;align-items: stretch;justify-content: center;background-color: white;position: relative;}#sk-container-id-1 div.sk-item::before, #sk-container-id-1 div.sk-parallel-item::before {content: \"\";position: absolute;border-left: 1px solid gray;box-sizing: border-box;top: 0;bottom: 0;left: 50%;z-index: -1;}#sk-container-id-1 div.sk-parallel-item {display: flex;flex-direction: column;z-index: 1;position: relative;background-color: white;}#sk-container-id-1 div.sk-parallel-item:first-child::after {align-self: flex-end;width: 50%;}#sk-container-id-1 div.sk-parallel-item:last-child::after {align-self: flex-start;width: 50%;}#sk-container-id-1 div.sk-parallel-item:only-child::after {width: 0;}#sk-container-id-1 div.sk-dashed-wrapped {border: 1px dashed gray;margin: 0 0.4em 0.5em 0.4em;box-sizing: border-box;padding-bottom: 0.4em;background-color: white;}#sk-container-id-1 div.sk-label label {font-family: monospace;font-weight: bold;display: inline-block;line-height: 1.2em;}#sk-container-id-1 div.sk-label-container {text-align: center;}#sk-container-id-1 div.sk-container {/* jupyter's `normalize.less` sets `[hidden] { display: none; }` but bootstrap.min.css set `[hidden] { display: none !important; }` so we also need the `!important` here to be able to override the default hidden behavior on the sphinx rendered scikit-learn.org. See: https://github.com/scikit-learn/scikit-learn/issues/21755 */display: inline-block !important;position: relative;}#sk-container-id-1 div.sk-text-repr-fallback {display: none;}</style><div id=\"sk-container-id-1\" class=\"sk-top-container\"><div class=\"sk-text-repr-fallback\"><pre>Pipeline(steps=[(&#x27;scale&#x27;, None), (&#x27;model&#x27;, GradientBoostingClassifier())])</pre><b>In a Jupyter environment, please rerun this cell to show the HTML representation or trust the notebook. <br />On GitHub, the HTML representation is unable to render, please try loading this page with nbviewer.org.</b></div><div class=\"sk-container\" hidden><div class=\"sk-item sk-dashed-wrapped\"><div class=\"sk-label-container\"><div class=\"sk-label sk-toggleable\"><input class=\"sk-toggleable__control sk-hidden--visually\" id=\"sk-estimator-id-1\" type=\"checkbox\" ><label for=\"sk-estimator-id-1\" class=\"sk-toggleable__label sk-toggleable__label-arrow\">Pipeline</label><div class=\"sk-toggleable__content\"><pre>Pipeline(steps=[(&#x27;scale&#x27;, None), (&#x27;model&#x27;, GradientBoostingClassifier())])</pre></div></div></div><div class=\"sk-serial\"><div class=\"sk-item\"><div class=\"sk-estimator sk-toggleable\"><input class=\"sk-toggleable__control sk-hidden--visually\" id=\"sk-estimator-id-2\" type=\"checkbox\" ><label for=\"sk-estimator-id-2\" class=\"sk-toggleable__label sk-toggleable__label-arrow\">None</label><div class=\"sk-toggleable__content\"><pre>None</pre></div></div></div><div class=\"sk-item\"><div class=\"sk-estimator sk-toggleable\"><input class=\"sk-toggleable__control sk-hidden--visually\" id=\"sk-estimator-id-3\" type=\"checkbox\" ><label for=\"sk-estimator-id-3\" class=\"sk-toggleable__label sk-toggleable__label-arrow\">GradientBoostingClassifier</label><div class=\"sk-toggleable__content\"><pre>GradientBoostingClassifier()</pre></div></div></div></div></div></div></div>"
      ],
      "text/plain": [
       "Pipeline(steps=[('scale', None), ('model', GradientBoostingClassifier())])"
      ]
     },
     "execution_count": 34,
     "metadata": {},
     "output_type": "execute_result"
    }
   ],
   "source": [
    "model.fit(X_train, y_train.values.ravel())"
   ]
  },
  {
   "cell_type": "code",
   "execution_count": 35,
   "id": "6e15e313",
   "metadata": {
    "execution": {
     "iopub.execute_input": "2025-08-19T18:29:47.064922Z",
     "iopub.status.busy": "2025-08-19T18:29:47.054320Z",
     "iopub.status.idle": "2025-08-19T18:29:47.583455Z",
     "shell.execute_reply": "2025-08-19T18:29:47.582505Z"
    },
    "papermill": {
     "duration": 0.543327,
     "end_time": "2025-08-19T18:29:47.584792",
     "exception": false,
     "start_time": "2025-08-19T18:29:47.041465",
     "status": "completed"
    },
    "tags": []
   },
   "outputs": [
    {
     "data": {
      "text/plain": [
       "0.8646416230074685"
      ]
     },
     "execution_count": 35,
     "metadata": {},
     "output_type": "execute_result"
    }
   ],
   "source": [
    "from fairness_multiverse.universe import predict_w_threshold\n",
    "\n",
    "probs_test = model.predict_proba(X_test)\n",
    "\n",
    "'''\n",
    "Below code returns a boolean array (or binary 0/1 array depending on how it’s used) where each element \n",
    "is True if the probability of class 1 is greater than or equal to the threshold, and False otherwise.\n",
    "'''\n",
    "y_pred_default = predict_w_threshold(probs_test, 0.5)\n",
    "\n",
    "from sklearn.metrics import accuracy_score\n",
    "\n",
    "# Naive prediction\n",
    "accuracy_score(y_true = y_true, y_pred = y_pred_default)"
   ]
  },
  {
   "cell_type": "code",
   "execution_count": 36,
   "id": "6f14067c",
   "metadata": {
    "execution": {
     "iopub.execute_input": "2025-08-19T18:29:47.609924Z",
     "iopub.status.busy": "2025-08-19T18:29:47.608887Z",
     "iopub.status.idle": "2025-08-19T18:29:48.111417Z",
     "shell.execute_reply": "2025-08-19T18:29:48.110597Z"
    },
    "papermill": {
     "duration": 0.518587,
     "end_time": "2025-08-19T18:29:48.114663",
     "exception": false,
     "start_time": "2025-08-19T18:29:47.596076",
     "status": "completed"
    },
    "tags": []
   },
   "outputs": [
    {
     "data": {
      "text/plain": [
       "array([0, 0, 0, ..., 0, 0, 0])"
      ]
     },
     "execution_count": 36,
     "metadata": {},
     "output_type": "execute_result"
    }
   ],
   "source": [
    "model.predict(X_test)"
   ]
  },
  {
   "cell_type": "markdown",
   "id": "3759920c",
   "metadata": {
    "papermill": {
     "duration": 0.012903,
     "end_time": "2025-08-19T18:29:48.153037",
     "exception": false,
     "start_time": "2025-08-19T18:29:48.140134",
     "status": "completed"
    },
    "tags": []
   },
   "source": [
    "# Conformal Prediction"
   ]
  },
  {
   "cell_type": "code",
   "execution_count": 37,
   "id": "14b27f59",
   "metadata": {
    "execution": {
     "iopub.execute_input": "2025-08-19T18:29:48.178433Z",
     "iopub.status.busy": "2025-08-19T18:29:48.177701Z",
     "iopub.status.idle": "2025-08-19T18:29:48.185663Z",
     "shell.execute_reply": "2025-08-19T18:29:48.184389Z"
    },
    "papermill": {
     "duration": 0.023366,
     "end_time": "2025-08-19T18:29:48.187502",
     "exception": false,
     "start_time": "2025-08-19T18:29:48.164136",
     "status": "completed"
    },
    "tags": []
   },
   "outputs": [],
   "source": [
    "# Miscoverage level for conformal prediction (10% allowed error rate => 90% target coverage)\n",
    "alpha = 0.1"
   ]
  },
  {
   "cell_type": "code",
   "execution_count": 38,
   "id": "59102472",
   "metadata": {
    "execution": {
     "iopub.execute_input": "2025-08-19T18:29:48.217603Z",
     "iopub.status.busy": "2025-08-19T18:29:48.216375Z",
     "iopub.status.idle": "2025-08-19T18:29:48.716813Z",
     "shell.execute_reply": "2025-08-19T18:29:48.716025Z"
    },
    "papermill": {
     "duration": 0.517015,
     "end_time": "2025-08-19T18:29:48.719801",
     "exception": false,
     "start_time": "2025-08-19T18:29:48.202786",
     "status": "completed"
    },
    "tags": []
   },
   "outputs": [],
   "source": [
    "probs_calib = model.predict_proba(X_calib)"
   ]
  },
  {
   "cell_type": "code",
   "execution_count": 39,
   "id": "a792d4dd",
   "metadata": {
    "execution": {
     "iopub.execute_input": "2025-08-19T18:29:48.764843Z",
     "iopub.status.busy": "2025-08-19T18:29:48.763374Z",
     "iopub.status.idle": "2025-08-19T18:29:48.771182Z",
     "shell.execute_reply": "2025-08-19T18:29:48.770119Z"
    },
    "papermill": {
     "duration": 0.023882,
     "end_time": "2025-08-19T18:29:48.772648",
     "exception": false,
     "start_time": "2025-08-19T18:29:48.748766",
     "status": "completed"
    },
    "tags": []
   },
   "outputs": [],
   "source": [
    "y_calib = y_calib.values.ravel().astype(int)"
   ]
  },
  {
   "cell_type": "code",
   "execution_count": 40,
   "id": "650fd033",
   "metadata": {
    "execution": {
     "iopub.execute_input": "2025-08-19T18:29:48.798871Z",
     "iopub.status.busy": "2025-08-19T18:29:48.797330Z",
     "iopub.status.idle": "2025-08-19T18:29:48.806611Z",
     "shell.execute_reply": "2025-08-19T18:29:48.805803Z"
    },
    "papermill": {
     "duration": 0.024847,
     "end_time": "2025-08-19T18:29:48.809346",
     "exception": false,
     "start_time": "2025-08-19T18:29:48.784499",
     "status": "completed"
    },
    "tags": []
   },
   "outputs": [],
   "source": [
    "from fairness_multiverse.conformal import compute_nc_scores\n",
    "\n",
    "# Compute nonconformity scores on calibration set (1 - probability of true class)\n",
    "nc_scores = compute_nc_scores(probs_calib, y_calib)"
   ]
  },
  {
   "cell_type": "code",
   "execution_count": 41,
   "id": "28ada44c",
   "metadata": {
    "execution": {
     "iopub.execute_input": "2025-08-19T18:29:48.837506Z",
     "iopub.status.busy": "2025-08-19T18:29:48.836936Z",
     "iopub.status.idle": "2025-08-19T18:29:48.843302Z",
     "shell.execute_reply": "2025-08-19T18:29:48.842142Z"
    },
    "papermill": {
     "duration": 0.020642,
     "end_time": "2025-08-19T18:29:48.844789",
     "exception": false,
     "start_time": "2025-08-19T18:29:48.824147",
     "status": "completed"
    },
    "tags": []
   },
   "outputs": [],
   "source": [
    "from fairness_multiverse.conformal import find_threshold\n",
    "\n",
    "# Find conformal threshold q_hat for the given alpha (split conformal method)\n",
    "q_hat = find_threshold(nc_scores, alpha)"
   ]
  },
  {
   "cell_type": "code",
   "execution_count": 42,
   "id": "df56469e",
   "metadata": {
    "execution": {
     "iopub.execute_input": "2025-08-19T18:29:48.871994Z",
     "iopub.status.busy": "2025-08-19T18:29:48.870687Z",
     "iopub.status.idle": "2025-08-19T18:29:48.878427Z",
     "shell.execute_reply": "2025-08-19T18:29:48.877468Z"
    },
    "papermill": {
     "duration": 0.022425,
     "end_time": "2025-08-19T18:29:48.879921",
     "exception": false,
     "start_time": "2025-08-19T18:29:48.857496",
     "status": "completed"
    },
    "tags": []
   },
   "outputs": [
    {
     "data": {
      "text/plain": [
       "0.6861817271750564"
      ]
     },
     "execution_count": 42,
     "metadata": {},
     "output_type": "execute_result"
    }
   ],
   "source": [
    "q_hat"
   ]
  },
  {
   "cell_type": "code",
   "execution_count": 43,
   "id": "aa1f5faa",
   "metadata": {
    "execution": {
     "iopub.execute_input": "2025-08-19T18:29:48.906698Z",
     "iopub.status.busy": "2025-08-19T18:29:48.905994Z",
     "iopub.status.idle": "2025-08-19T18:29:49.872242Z",
     "shell.execute_reply": "2025-08-19T18:29:49.871445Z"
    },
    "papermill": {
     "duration": 0.982748,
     "end_time": "2025-08-19T18:29:49.875276",
     "exception": false,
     "start_time": "2025-08-19T18:29:48.892528",
     "status": "completed"
    },
    "tags": []
   },
   "outputs": [],
   "source": [
    "from fairness_multiverse.conformal import predict_conformal_sets\n",
    "\n",
    "# Generate prediction sets for each test example\n",
    "pred_sets = predict_conformal_sets(model, X_test, q_hat)"
   ]
  },
  {
   "cell_type": "code",
   "execution_count": 44,
   "id": "97f67a6b",
   "metadata": {
    "execution": {
     "iopub.execute_input": "2025-08-19T18:29:49.930505Z",
     "iopub.status.busy": "2025-08-19T18:29:49.929533Z",
     "iopub.status.idle": "2025-08-19T18:29:49.935993Z",
     "shell.execute_reply": "2025-08-19T18:29:49.935029Z"
    },
    "papermill": {
     "duration": 0.03727,
     "end_time": "2025-08-19T18:29:49.938268",
     "exception": false,
     "start_time": "2025-08-19T18:29:49.900998",
     "status": "completed"
    },
    "tags": []
   },
   "outputs": [],
   "source": [
    "y_true = y_true.squeeze()"
   ]
  },
  {
   "cell_type": "code",
   "execution_count": 45,
   "id": "e700e9a7",
   "metadata": {
    "execution": {
     "iopub.execute_input": "2025-08-19T18:29:49.971956Z",
     "iopub.status.busy": "2025-08-19T18:29:49.971543Z",
     "iopub.status.idle": "2025-08-19T18:29:50.468211Z",
     "shell.execute_reply": "2025-08-19T18:29:50.467338Z"
    },
    "papermill": {
     "duration": 0.513294,
     "end_time": "2025-08-19T18:29:50.471098",
     "exception": false,
     "start_time": "2025-08-19T18:29:49.957804",
     "status": "completed"
    },
    "tags": []
   },
   "outputs": [],
   "source": [
    "from fairness_multiverse.conformal import evaluate_sets\n",
    "\n",
    "# Evaluate coverage and average set size on test data\n",
    "metrics = evaluate_sets(pred_sets, y_true)"
   ]
  },
  {
   "cell_type": "markdown",
   "id": "efbacec0",
   "metadata": {
    "papermill": {
     "duration": 0.012594,
     "end_time": "2025-08-19T18:29:50.508769",
     "exception": false,
     "start_time": "2025-08-19T18:29:50.496175",
     "status": "completed"
    },
    "tags": []
   },
   "source": [
    "# CP Metrics"
   ]
  },
  {
   "cell_type": "code",
   "execution_count": 46,
   "id": "9de55fb1",
   "metadata": {
    "execution": {
     "iopub.execute_input": "2025-08-19T18:29:50.535191Z",
     "iopub.status.busy": "2025-08-19T18:29:50.534225Z",
     "iopub.status.idle": "2025-08-19T18:29:50.546697Z",
     "shell.execute_reply": "2025-08-19T18:29:50.545615Z"
    },
    "papermill": {
     "duration": 0.02802,
     "end_time": "2025-08-19T18:29:50.548321",
     "exception": false,
     "start_time": "2025-08-19T18:29:50.520301",
     "status": "completed"
    },
    "tags": []
   },
   "outputs": [
    {
     "data": {
      "text/plain": [
       "{'coverage': 0.9113253817857541, 'avg_size': 1.125682755545647}"
      ]
     },
     "execution_count": 46,
     "metadata": {},
     "output_type": "execute_result"
    }
   ],
   "source": [
    "metrics"
   ]
  },
  {
   "cell_type": "code",
   "execution_count": 47,
   "id": "64c340a1",
   "metadata": {
    "execution": {
     "iopub.execute_input": "2025-08-19T18:29:50.582217Z",
     "iopub.status.busy": "2025-08-19T18:29:50.581280Z",
     "iopub.status.idle": "2025-08-19T18:29:50.595743Z",
     "shell.execute_reply": "2025-08-19T18:29:50.594303Z"
    },
    "papermill": {
     "duration": 0.031611,
     "end_time": "2025-08-19T18:29:50.598033",
     "exception": false,
     "start_time": "2025-08-19T18:29:50.566422",
     "status": "completed"
    },
    "tags": []
   },
   "outputs": [],
   "source": [
    "example_universe = universe.copy()\n",
    "universe_training_year = example_universe.get(\"training_year\")\n",
    "universe_training_size = example_universe.get(\"training_size\")\n",
    "universe_scale = example_universe.get(\"scale\")\n",
    "universe_model = example_universe.get(\"model\")\n",
    "universe_exclude_features = example_universe.get(\"exclude_features\")\n",
    "universe_exclude_subgroups = example_universe.get(\"exclude_subgroups\")"
   ]
  },
  {
   "cell_type": "code",
   "execution_count": 48,
   "id": "dbb53cb4",
   "metadata": {
    "execution": {
     "iopub.execute_input": "2025-08-19T18:29:50.631727Z",
     "iopub.status.busy": "2025-08-19T18:29:50.630963Z",
     "iopub.status.idle": "2025-08-19T18:29:50.641233Z",
     "shell.execute_reply": "2025-08-19T18:29:50.639960Z"
    },
    "papermill": {
     "duration": 0.026981,
     "end_time": "2025-08-19T18:29:50.643104",
     "exception": false,
     "start_time": "2025-08-19T18:29:50.616123",
     "status": "completed"
    },
    "tags": []
   },
   "outputs": [],
   "source": [
    "cp_metrics_dict = {\n",
    "    \"universe_id\": [universe_id],\n",
    "    \"universe_training_year\": [universe_training_year],\n",
    "    \"universe_training_size\": [universe_training_size],\n",
    "    \"universe_scale\": [universe_scale],\n",
    "    \"universe_model\": [universe_model],\n",
    "    \"universe_exclude_features\": [universe_exclude_features],\n",
    "    \"universe_exclude_subgroups\": [universe_exclude_subgroups],\n",
    "    \"q_hat\": [q_hat],\n",
    "    \"coverage\": [metrics[\"coverage\"]],\n",
    "    \"avg_size\": [metrics[\"avg_size\"]],\n",
    "}"
   ]
  },
  {
   "cell_type": "code",
   "execution_count": 49,
   "id": "0d70d4b2",
   "metadata": {
    "execution": {
     "iopub.execute_input": "2025-08-19T18:29:50.673134Z",
     "iopub.status.busy": "2025-08-19T18:29:50.672380Z",
     "iopub.status.idle": "2025-08-19T18:29:50.683193Z",
     "shell.execute_reply": "2025-08-19T18:29:50.681476Z"
    },
    "papermill": {
     "duration": 0.026851,
     "end_time": "2025-08-19T18:29:50.684977",
     "exception": false,
     "start_time": "2025-08-19T18:29:50.658126",
     "status": "completed"
    },
    "tags": []
   },
   "outputs": [],
   "source": [
    "cp_metrics_df = pd.DataFrame(cp_metrics_dict)"
   ]
  },
  {
   "cell_type": "code",
   "execution_count": 50,
   "id": "b494403c",
   "metadata": {
    "execution": {
     "iopub.execute_input": "2025-08-19T18:29:50.716398Z",
     "iopub.status.busy": "2025-08-19T18:29:50.715718Z",
     "iopub.status.idle": "2025-08-19T18:29:50.738895Z",
     "shell.execute_reply": "2025-08-19T18:29:50.738070Z"
    },
    "papermill": {
     "duration": 0.038418,
     "end_time": "2025-08-19T18:29:50.740150",
     "exception": false,
     "start_time": "2025-08-19T18:29:50.701732",
     "status": "completed"
    },
    "tags": []
   },
   "outputs": [
    {
     "data": {
      "text/html": [
       "<div>\n",
       "<style scoped>\n",
       "    .dataframe tbody tr th:only-of-type {\n",
       "        vertical-align: middle;\n",
       "    }\n",
       "\n",
       "    .dataframe tbody tr th {\n",
       "        vertical-align: top;\n",
       "    }\n",
       "\n",
       "    .dataframe thead th {\n",
       "        text-align: right;\n",
       "    }\n",
       "</style>\n",
       "<table border=\"1\" class=\"dataframe\">\n",
       "  <thead>\n",
       "    <tr style=\"text-align: right;\">\n",
       "      <th></th>\n",
       "      <th>universe_id</th>\n",
       "      <th>universe_training_year</th>\n",
       "      <th>universe_training_size</th>\n",
       "      <th>universe_scale</th>\n",
       "      <th>universe_model</th>\n",
       "      <th>universe_exclude_features</th>\n",
       "      <th>universe_exclude_subgroups</th>\n",
       "      <th>q_hat</th>\n",
       "      <th>coverage</th>\n",
       "      <th>avg_size</th>\n",
       "    </tr>\n",
       "  </thead>\n",
       "  <tbody>\n",
       "    <tr>\n",
       "      <th>0</th>\n",
       "      <td>4f66e61b28678a84d868466e7309c159</td>\n",
       "      <td>2014</td>\n",
       "      <td>5k</td>\n",
       "      <td>do-not-scale</td>\n",
       "      <td>gbm</td>\n",
       "      <td>nationality</td>\n",
       "      <td>drop-non-german</td>\n",
       "      <td>0.686182</td>\n",
       "      <td>0.911325</td>\n",
       "      <td>1.125683</td>\n",
       "    </tr>\n",
       "  </tbody>\n",
       "</table>\n",
       "</div>"
      ],
      "text/plain": [
       "                        universe_id universe_training_year  \\\n",
       "0  4f66e61b28678a84d868466e7309c159                   2014   \n",
       "\n",
       "  universe_training_size universe_scale universe_model  \\\n",
       "0                     5k   do-not-scale            gbm   \n",
       "\n",
       "  universe_exclude_features universe_exclude_subgroups     q_hat  coverage  \\\n",
       "0               nationality            drop-non-german  0.686182  0.911325   \n",
       "\n",
       "   avg_size  \n",
       "0  1.125683  "
      ]
     },
     "execution_count": 50,
     "metadata": {},
     "output_type": "execute_result"
    }
   ],
   "source": [
    "cp_metrics_df"
   ]
  },
  {
   "cell_type": "markdown",
   "id": "ed608b0b",
   "metadata": {
    "papermill": {
     "duration": 0.012168,
     "end_time": "2025-08-19T18:29:50.767233",
     "exception": false,
     "start_time": "2025-08-19T18:29:50.755065",
     "status": "completed"
    },
    "tags": []
   },
   "source": [
    "Conditional coverage & looking at subgroups"
   ]
  },
  {
   "cell_type": "code",
   "execution_count": 51,
   "id": "8968c366",
   "metadata": {
    "execution": {
     "iopub.execute_input": "2025-08-19T18:29:50.792682Z",
     "iopub.status.busy": "2025-08-19T18:29:50.792337Z",
     "iopub.status.idle": "2025-08-19T18:29:51.039044Z",
     "shell.execute_reply": "2025-08-19T18:29:51.038262Z"
    },
    "papermill": {
     "duration": 0.261794,
     "end_time": "2025-08-19T18:29:51.040879",
     "exception": false,
     "start_time": "2025-08-19T18:29:50.779085",
     "status": "completed"
    },
    "tags": []
   },
   "outputs": [],
   "source": [
    "from fairness_multiverse.conformal import build_cp_groups\n",
    "\n",
    "cp_groups_df = build_cp_groups(pred_sets, y_true, X_test.index, org_test)"
   ]
  },
  {
   "cell_type": "code",
   "execution_count": 52,
   "id": "292ddabf",
   "metadata": {
    "execution": {
     "iopub.execute_input": "2025-08-19T18:29:51.073313Z",
     "iopub.status.busy": "2025-08-19T18:29:51.072981Z",
     "iopub.status.idle": "2025-08-19T18:29:51.908960Z",
     "shell.execute_reply": "2025-08-19T18:29:51.908130Z"
    },
    "papermill": {
     "duration": 0.852866,
     "end_time": "2025-08-19T18:29:51.911817",
     "exception": false,
     "start_time": "2025-08-19T18:29:51.058951",
     "status": "completed"
    },
    "tags": []
   },
   "outputs": [],
   "source": [
    "# Define covered = 1 if true_label is in the predicted set\n",
    "cp_groups_df['covered'] = cp_groups_df.apply(\n",
    "    lambda r: int(r['true_label'] in r['pred_set']),\n",
    "    axis=1\n",
    ")"
   ]
  },
  {
   "cell_type": "code",
   "execution_count": 53,
   "id": "3a261692",
   "metadata": {
    "execution": {
     "iopub.execute_input": "2025-08-19T18:29:51.955979Z",
     "iopub.status.busy": "2025-08-19T18:29:51.954530Z",
     "iopub.status.idle": "2025-08-19T18:29:51.975210Z",
     "shell.execute_reply": "2025-08-19T18:29:51.974147Z"
    },
    "papermill": {
     "duration": 0.038559,
     "end_time": "2025-08-19T18:29:51.977567",
     "exception": false,
     "start_time": "2025-08-19T18:29:51.939008",
     "status": "completed"
    },
    "tags": []
   },
   "outputs": [],
   "source": [
    "subgroups = ['frau1','nongerman','nongerman_male','nongerman_female']\n",
    "\n",
    "# Conditional coverage for subgroup==1\n",
    "cond_coverage = {\n",
    "    g: cp_groups_df.loc[cp_groups_df[g]==1, 'covered'].mean()\n",
    "    for g in subgroups\n",
    "}"
   ]
  },
  {
   "cell_type": "code",
   "execution_count": 54,
   "id": "894fd600",
   "metadata": {
    "execution": {
     "iopub.execute_input": "2025-08-19T18:29:52.011334Z",
     "iopub.status.busy": "2025-08-19T18:29:52.010084Z",
     "iopub.status.idle": "2025-08-19T18:29:52.020339Z",
     "shell.execute_reply": "2025-08-19T18:29:52.019110Z"
    },
    "papermill": {
     "duration": 0.025601,
     "end_time": "2025-08-19T18:29:52.021800",
     "exception": false,
     "start_time": "2025-08-19T18:29:51.996199",
     "status": "completed"
    },
    "tags": []
   },
   "outputs": [
    {
     "data": {
      "text/plain": [
       "{'frau1': 0.9099609111740127,\n",
       " 'nongerman': 0.909111323190928,\n",
       " 'nongerman_male': 0.924705034675313,\n",
       " 'nongerman_female': 0.8833084947839046}"
      ]
     },
     "execution_count": 54,
     "metadata": {},
     "output_type": "execute_result"
    }
   ],
   "source": [
    "cond_coverage"
   ]
  },
  {
   "cell_type": "code",
   "execution_count": 55,
   "id": "942895c7",
   "metadata": {
    "execution": {
     "iopub.execute_input": "2025-08-19T18:29:52.051058Z",
     "iopub.status.busy": "2025-08-19T18:29:52.049761Z",
     "iopub.status.idle": "2025-08-19T18:29:52.060805Z",
     "shell.execute_reply": "2025-08-19T18:29:52.059547Z"
    },
    "papermill": {
     "duration": 0.026358,
     "end_time": "2025-08-19T18:29:52.062234",
     "exception": false,
     "start_time": "2025-08-19T18:29:52.035876",
     "status": "completed"
    },
    "tags": []
   },
   "outputs": [],
   "source": [
    "for subgroup, cov in cond_coverage.items():\n",
    "    cp_metrics_df[f\"cov_{subgroup}\"] = cov"
   ]
  },
  {
   "cell_type": "code",
   "execution_count": 56,
   "id": "3970120f",
   "metadata": {
    "execution": {
     "iopub.execute_input": "2025-08-19T18:29:52.095270Z",
     "iopub.status.busy": "2025-08-19T18:29:52.093847Z",
     "iopub.status.idle": "2025-08-19T18:29:52.119639Z",
     "shell.execute_reply": "2025-08-19T18:29:52.118721Z"
    },
    "papermill": {
     "duration": 0.042435,
     "end_time": "2025-08-19T18:29:52.121772",
     "exception": false,
     "start_time": "2025-08-19T18:29:52.079337",
     "status": "completed"
    },
    "tags": []
   },
   "outputs": [
    {
     "data": {
      "text/html": [
       "<div>\n",
       "<style scoped>\n",
       "    .dataframe tbody tr th:only-of-type {\n",
       "        vertical-align: middle;\n",
       "    }\n",
       "\n",
       "    .dataframe tbody tr th {\n",
       "        vertical-align: top;\n",
       "    }\n",
       "\n",
       "    .dataframe thead th {\n",
       "        text-align: right;\n",
       "    }\n",
       "</style>\n",
       "<table border=\"1\" class=\"dataframe\">\n",
       "  <thead>\n",
       "    <tr style=\"text-align: right;\">\n",
       "      <th></th>\n",
       "      <th>universe_id</th>\n",
       "      <th>universe_training_year</th>\n",
       "      <th>universe_training_size</th>\n",
       "      <th>universe_scale</th>\n",
       "      <th>universe_model</th>\n",
       "      <th>universe_exclude_features</th>\n",
       "      <th>universe_exclude_subgroups</th>\n",
       "      <th>q_hat</th>\n",
       "      <th>coverage</th>\n",
       "      <th>avg_size</th>\n",
       "      <th>cov_frau1</th>\n",
       "      <th>cov_nongerman</th>\n",
       "      <th>cov_nongerman_male</th>\n",
       "      <th>cov_nongerman_female</th>\n",
       "    </tr>\n",
       "  </thead>\n",
       "  <tbody>\n",
       "    <tr>\n",
       "      <th>0</th>\n",
       "      <td>4f66e61b28678a84d868466e7309c159</td>\n",
       "      <td>2014</td>\n",
       "      <td>5k</td>\n",
       "      <td>do-not-scale</td>\n",
       "      <td>gbm</td>\n",
       "      <td>nationality</td>\n",
       "      <td>drop-non-german</td>\n",
       "      <td>0.686182</td>\n",
       "      <td>0.911325</td>\n",
       "      <td>1.125683</td>\n",
       "      <td>0.909961</td>\n",
       "      <td>0.909111</td>\n",
       "      <td>0.924705</td>\n",
       "      <td>0.883308</td>\n",
       "    </tr>\n",
       "  </tbody>\n",
       "</table>\n",
       "</div>"
      ],
      "text/plain": [
       "                        universe_id universe_training_year  \\\n",
       "0  4f66e61b28678a84d868466e7309c159                   2014   \n",
       "\n",
       "  universe_training_size universe_scale universe_model  \\\n",
       "0                     5k   do-not-scale            gbm   \n",
       "\n",
       "  universe_exclude_features universe_exclude_subgroups     q_hat  coverage  \\\n",
       "0               nationality            drop-non-german  0.686182  0.911325   \n",
       "\n",
       "   avg_size  cov_frau1  cov_nongerman  cov_nongerman_male  \\\n",
       "0  1.125683   0.909961       0.909111            0.924705   \n",
       "\n",
       "   cov_nongerman_female  \n",
       "0              0.883308  "
      ]
     },
     "execution_count": 56,
     "metadata": {},
     "output_type": "execute_result"
    }
   ],
   "source": [
    "cp_metrics_df"
   ]
  },
  {
   "cell_type": "markdown",
   "id": "3fc519cc",
   "metadata": {
    "papermill": {
     "duration": 0.012722,
     "end_time": "2025-08-19T18:29:52.153361",
     "exception": false,
     "start_time": "2025-08-19T18:29:52.140639",
     "status": "completed"
    },
    "tags": []
   },
   "source": [
    "# (Fairness) Metrics"
   ]
  },
  {
   "cell_type": "code",
   "execution_count": 57,
   "id": "a2e5e155",
   "metadata": {
    "execution": {
     "iopub.execute_input": "2025-08-19T18:29:52.181356Z",
     "iopub.status.busy": "2025-08-19T18:29:52.179957Z",
     "iopub.status.idle": "2025-08-19T18:29:52.211291Z",
     "shell.execute_reply": "2025-08-19T18:29:52.209981Z"
    },
    "papermill": {
     "duration": 0.048118,
     "end_time": "2025-08-19T18:29:52.213951",
     "exception": false,
     "start_time": "2025-08-19T18:29:52.165833",
     "status": "completed"
    },
    "tags": []
   },
   "outputs": [],
   "source": [
    "colname_to_bin = \"maxdeutsch1\"\n",
    "majority_value = org_train[colname_to_bin].mode()[0]\n",
    "\n",
    "org_test[\"majmin\"] = np.where(org_test[colname_to_bin] == majority_value, \"majority\", \"minority\")"
   ]
  },
  {
   "cell_type": "code",
   "execution_count": 58,
   "id": "17e3e4d5",
   "metadata": {
    "execution": {
     "iopub.execute_input": "2025-08-19T18:29:52.251369Z",
     "iopub.status.busy": "2025-08-19T18:29:52.249872Z",
     "iopub.status.idle": "2025-08-19T18:29:53.984426Z",
     "shell.execute_reply": "2025-08-19T18:29:53.983366Z"
    },
    "papermill": {
     "duration": 1.751284,
     "end_time": "2025-08-19T18:29:53.985968",
     "exception": false,
     "start_time": "2025-08-19T18:29:52.234684",
     "status": "completed"
    },
    "tags": []
   },
   "outputs": [],
   "source": [
    "example_universe = universe.copy()\n",
    "example_universe[\"cutoff\"] = example_universe[\"cutoff\"][0]\n",
    "example_universe[\"eval_fairness_grouping\"] = example_universe[\"eval_fairness_grouping\"][0]\n",
    "fairness_dict, metric_frame = universe_analysis.compute_metrics(\n",
    "    example_universe,\n",
    "    y_pred_prob=probs_test,\n",
    "    y_test=y_true,\n",
    "    org_test=org_test,\n",
    ")"
   ]
  },
  {
   "cell_type": "markdown",
   "id": "1fb7a0e9",
   "metadata": {
    "papermill": {
     "duration": 0.012335,
     "end_time": "2025-08-19T18:29:54.011175",
     "exception": false,
     "start_time": "2025-08-19T18:29:53.998840",
     "status": "completed"
    },
    "tags": []
   },
   "source": [
    "# Overall"
   ]
  },
  {
   "cell_type": "markdown",
   "id": "be1784b1",
   "metadata": {
    "papermill": {
     "duration": 0.012485,
     "end_time": "2025-08-19T18:29:54.035891",
     "exception": false,
     "start_time": "2025-08-19T18:29:54.023406",
     "status": "completed"
    },
    "tags": []
   },
   "source": [
    "Main fairness target: Equalized Odds. Seems to be a better fit than equal opportunity, since we're not only interested in Y = 1. Seems to be a better fit than demographic parity, since we also care about accuracy, not just equal distribution of preds.\n",
    "\n",
    "Pick column for computation of fairness metrics\n",
    "\n",
    "Performance\n",
    "Overall performance measures, most interesting in relation to the measures split by group below"
   ]
  },
  {
   "cell_type": "code",
   "execution_count": 59,
   "id": "b7672bee",
   "metadata": {
    "execution": {
     "iopub.execute_input": "2025-08-19T18:29:54.061923Z",
     "iopub.status.busy": "2025-08-19T18:29:54.061499Z",
     "iopub.status.idle": "2025-08-19T18:29:54.068927Z",
     "shell.execute_reply": "2025-08-19T18:29:54.068040Z"
    },
    "papermill": {
     "duration": 0.021698,
     "end_time": "2025-08-19T18:29:54.069964",
     "exception": false,
     "start_time": "2025-08-19T18:29:54.048266",
     "status": "completed"
    },
    "tags": []
   },
   "outputs": [
    {
     "data": {
      "text/plain": [
       "accuracy                   0.224490\n",
       "balanced accuracy          0.548922\n",
       "f1                         0.245835\n",
       "precision                  0.140437\n",
       "false positive rate        0.887471\n",
       "false negative rate        0.014685\n",
       "selection rate             0.900022\n",
       "count                  89710.000000\n",
       "dtype: float64"
      ]
     },
     "execution_count": 59,
     "metadata": {},
     "output_type": "execute_result"
    }
   ],
   "source": [
    "metric_frame.overall"
   ]
  },
  {
   "cell_type": "markdown",
   "id": "d93333c9",
   "metadata": {
    "papermill": {
     "duration": 0.012092,
     "end_time": "2025-08-19T18:29:54.097033",
     "exception": false,
     "start_time": "2025-08-19T18:29:54.084941",
     "status": "completed"
    },
    "tags": []
   },
   "source": [
    "By Group"
   ]
  },
  {
   "cell_type": "code",
   "execution_count": 60,
   "id": "52256966",
   "metadata": {
    "execution": {
     "iopub.execute_input": "2025-08-19T18:29:54.123183Z",
     "iopub.status.busy": "2025-08-19T18:29:54.122753Z",
     "iopub.status.idle": "2025-08-19T18:29:54.140048Z",
     "shell.execute_reply": "2025-08-19T18:29:54.139435Z"
    },
    "papermill": {
     "duration": 0.031989,
     "end_time": "2025-08-19T18:29:54.141469",
     "exception": false,
     "start_time": "2025-08-19T18:29:54.109480",
     "status": "completed"
    },
    "tags": []
   },
   "outputs": [
    {
     "data": {
      "text/html": [
       "<div>\n",
       "<style scoped>\n",
       "    .dataframe tbody tr th:only-of-type {\n",
       "        vertical-align: middle;\n",
       "    }\n",
       "\n",
       "    .dataframe tbody tr th {\n",
       "        vertical-align: top;\n",
       "    }\n",
       "\n",
       "    .dataframe thead th {\n",
       "        text-align: right;\n",
       "    }\n",
       "</style>\n",
       "<table border=\"1\" class=\"dataframe\">\n",
       "  <thead>\n",
       "    <tr style=\"text-align: right;\">\n",
       "      <th></th>\n",
       "      <th>accuracy</th>\n",
       "      <th>balanced accuracy</th>\n",
       "      <th>f1</th>\n",
       "      <th>precision</th>\n",
       "      <th>false positive rate</th>\n",
       "      <th>false negative rate</th>\n",
       "      <th>selection rate</th>\n",
       "      <th>count</th>\n",
       "    </tr>\n",
       "    <tr>\n",
       "      <th>majmin</th>\n",
       "      <th></th>\n",
       "      <th></th>\n",
       "      <th></th>\n",
       "      <th></th>\n",
       "      <th></th>\n",
       "      <th></th>\n",
       "      <th></th>\n",
       "      <th></th>\n",
       "    </tr>\n",
       "  </thead>\n",
       "  <tbody>\n",
       "    <tr>\n",
       "      <th>majority</th>\n",
       "      <td>0.244615</td>\n",
       "      <td>0.557705</td>\n",
       "      <td>0.255952</td>\n",
       "      <td>0.147125</td>\n",
       "      <td>0.867849</td>\n",
       "      <td>0.016740</td>\n",
       "      <td>0.883100</td>\n",
       "      <td>69170.0</td>\n",
       "    </tr>\n",
       "    <tr>\n",
       "      <th>minority</th>\n",
       "      <td>0.156719</td>\n",
       "      <td>0.520477</td>\n",
       "      <td>0.213575</td>\n",
       "      <td>0.119652</td>\n",
       "      <td>0.952289</td>\n",
       "      <td>0.006757</td>\n",
       "      <td>0.957011</td>\n",
       "      <td>20540.0</td>\n",
       "    </tr>\n",
       "  </tbody>\n",
       "</table>\n",
       "</div>"
      ],
      "text/plain": [
       "          accuracy  balanced accuracy        f1  precision  \\\n",
       "majmin                                                       \n",
       "majority  0.244615           0.557705  0.255952   0.147125   \n",
       "minority  0.156719           0.520477  0.213575   0.119652   \n",
       "\n",
       "          false positive rate  false negative rate  selection rate    count  \n",
       "majmin                                                                       \n",
       "majority             0.867849             0.016740        0.883100  69170.0  \n",
       "minority             0.952289             0.006757        0.957011  20540.0  "
      ]
     },
     "execution_count": 60,
     "metadata": {},
     "output_type": "execute_result"
    }
   ],
   "source": [
    "metric_frame.by_group"
   ]
  },
  {
   "cell_type": "code",
   "execution_count": 61,
   "id": "6e6c20ae",
   "metadata": {
    "execution": {
     "iopub.execute_input": "2025-08-19T18:29:54.174063Z",
     "iopub.status.busy": "2025-08-19T18:29:54.172901Z",
     "iopub.status.idle": "2025-08-19T18:29:56.058974Z",
     "shell.execute_reply": "2025-08-19T18:29:56.058200Z"
    },
    "papermill": {
     "duration": 1.901475,
     "end_time": "2025-08-19T18:29:56.060378",
     "exception": false,
     "start_time": "2025-08-19T18:29:54.158903",
     "status": "completed"
    },
    "tags": []
   },
   "outputs": [
    {
     "data": {
      "text/plain": [
       "array([[<Axes: title={'center': 'accuracy'}, xlabel='majmin'>,\n",
       "        <Axes: title={'center': 'balanced accuracy'}, xlabel='majmin'>,\n",
       "        <Axes: title={'center': 'f1'}, xlabel='majmin'>],\n",
       "       [<Axes: title={'center': 'precision'}, xlabel='majmin'>,\n",
       "        <Axes: title={'center': 'false positive rate'}, xlabel='majmin'>,\n",
       "        <Axes: title={'center': 'false negative rate'}, xlabel='majmin'>],\n",
       "       [<Axes: title={'center': 'selection rate'}, xlabel='majmin'>,\n",
       "        <Axes: title={'center': 'count'}, xlabel='majmin'>,\n",
       "        <Axes: xlabel='majmin'>]], dtype=object)"
      ]
     },
     "execution_count": 61,
     "metadata": {},
     "output_type": "execute_result"
    },
    {
     "data": {
      "image/png": "[encoded data removed]",
      "text/plain": [
       "<Figure size 1200x800 with 9 Axes>"
      ]
     },
     "metadata": {},
     "output_type": "display_data"
    }
   ],
   "source": [
    "# In a graphic\n",
    "metric_frame.by_group.plot.bar(\n",
    "    subplots=True,\n",
    "    layout=[3, 3],\n",
    "    legend=False,\n",
    "    figsize=[12, 8],\n",
    "    title=\"Show all metrics\",\n",
    ")"
   ]
  },
  {
   "cell_type": "markdown",
   "id": "b2e433ae",
   "metadata": {
    "papermill": {
     "duration": 0.01445,
     "end_time": "2025-08-19T18:29:56.092930",
     "exception": false,
     "start_time": "2025-08-19T18:29:56.078480",
     "status": "completed"
    },
    "tags": []
   },
   "source": [
    "# Final Output"
   ]
  },
  {
   "cell_type": "code",
   "execution_count": 62,
   "id": "3871301e",
   "metadata": {
    "execution": {
     "iopub.execute_input": "2025-08-19T18:29:56.126386Z",
     "iopub.status.busy": "2025-08-19T18:29:56.124821Z",
     "iopub.status.idle": "2025-08-19T18:29:56.136441Z",
     "shell.execute_reply": "2025-08-19T18:29:56.135775Z"
    },
    "papermill": {
     "duration": 0.030987,
     "end_time": "2025-08-19T18:29:56.139656",
     "exception": false,
     "start_time": "2025-08-19T18:29:56.108669",
     "status": "completed"
    },
    "tags": []
   },
   "outputs": [
    {
     "data": {
      "text/plain": [
       "4"
      ]
     },
     "execution_count": 62,
     "metadata": {},
     "output_type": "execute_result"
    }
   ],
   "source": [
    "sub_universes = universe_analysis.generate_sub_universes()\n",
    "len(sub_universes)"
   ]
  },
  {
   "cell_type": "code",
   "execution_count": 63,
   "id": "d9cfdaca",
   "metadata": {
    "execution": {
     "iopub.execute_input": "2025-08-19T18:29:56.170693Z",
     "iopub.status.busy": "2025-08-19T18:29:56.170203Z",
     "iopub.status.idle": "2025-08-19T18:29:56.214699Z",
     "shell.execute_reply": "2025-08-19T18:29:56.213251Z"
    },
    "papermill": {
     "duration": 0.062309,
     "end_time": "2025-08-19T18:29:56.217795",
     "exception": false,
     "start_time": "2025-08-19T18:29:56.155486",
     "status": "completed"
    },
    "tags": []
   },
   "outputs": [],
   "source": [
    "def filter_sub_universe_data(sub_universe, org_test):\n",
    "    # Keep all rows — no filtering\n",
    "    keep_rows_mask = np.ones(org_test.shape[0], dtype=bool)\n",
    "\n",
    "    print(f\"[INFO] Keeping all rows: {keep_rows_mask.sum()} rows retained.\")\n",
    "    return keep_rows_mask"
   ]
  },
  {
   "cell_type": "code",
   "execution_count": 64,
   "id": "2bc31ac1",
   "metadata": {
    "execution": {
     "iopub.execute_input": "2025-08-19T18:29:56.256297Z",
     "iopub.status.busy": "2025-08-19T18:29:56.255942Z",
     "iopub.status.idle": "2025-08-19T18:30:03.610119Z",
     "shell.execute_reply": "2025-08-19T18:30:03.608714Z"
    },
    "papermill": {
     "duration": 7.370966,
     "end_time": "2025-08-19T18:30:03.611609",
     "exception": false,
     "start_time": "2025-08-19T18:29:56.240643",
     "status": "completed"
    },
    "tags": []
   },
   "outputs": [
    {
     "name": "stdout",
     "output_type": "stream",
     "text": [
      "Stopping execution_time clock.\n",
      "[INFO] Keeping all rows: 89710 rows retained.\n"
     ]
    },
    {
     "name": "stdout",
     "output_type": "stream",
     "text": [
      "[INFO] Keeping all rows: 89710 rows retained.\n"
     ]
    },
    {
     "name": "stdout",
     "output_type": "stream",
     "text": [
      "[INFO] Keeping all rows: 89710 rows retained.\n"
     ]
    },
    {
     "name": "stdout",
     "output_type": "stream",
     "text": [
      "[INFO] Keeping all rows: 89710 rows retained.\n"
     ]
    },
    {
     "data": {
      "text/html": [
       "<div>\n",
       "<style scoped>\n",
       "    .dataframe tbody tr th:only-of-type {\n",
       "        vertical-align: middle;\n",
       "    }\n",
       "\n",
       "    .dataframe tbody tr th {\n",
       "        vertical-align: top;\n",
       "    }\n",
       "\n",
       "    .dataframe thead th {\n",
       "        text-align: right;\n",
       "    }\n",
       "</style>\n",
       "<table border=\"1\" class=\"dataframe\">\n",
       "  <thead>\n",
       "    <tr style=\"text-align: right;\">\n",
       "      <th></th>\n",
       "      <th>run_no</th>\n",
       "      <th>universe_id</th>\n",
       "      <th>universe_settings</th>\n",
       "      <th>execution_time</th>\n",
       "      <th>test_size_n</th>\n",
       "      <th>test_size_frac</th>\n",
       "      <th>fair_main_equalized_odds_difference</th>\n",
       "      <th>fair_main_equalized_odds_ratio</th>\n",
       "      <th>fair_main_demographic_parity_difference</th>\n",
       "      <th>fair_main_demographic_parity_ratio</th>\n",
       "      <th>...</th>\n",
       "      <th>perf_grp_precision_0</th>\n",
       "      <th>perf_grp_precision_1</th>\n",
       "      <th>perf_grp_false positive rate_0</th>\n",
       "      <th>perf_grp_false positive rate_1</th>\n",
       "      <th>perf_grp_false negative rate_0</th>\n",
       "      <th>perf_grp_false negative rate_1</th>\n",
       "      <th>perf_grp_selection rate_0</th>\n",
       "      <th>perf_grp_selection rate_1</th>\n",
       "      <th>perf_grp_count_0</th>\n",
       "      <th>perf_grp_count_1</th>\n",
       "    </tr>\n",
       "  </thead>\n",
       "  <tbody>\n",
       "    <tr>\n",
       "      <th>0</th>\n",
       "      <td>3</td>\n",
       "      <td>4f66e61b28678a84d868466e7309c159</td>\n",
       "      <td>{\"cutoff\": \"quantile_0.1\", \"eval_fairness_grou...</td>\n",
       "      <td>25.752123</td>\n",
       "      <td>89710</td>\n",
       "      <td>1.0</td>\n",
       "      <td>0.084440</td>\n",
       "      <td>0.911330</td>\n",
       "      <td>0.073911</td>\n",
       "      <td>0.922769</td>\n",
       "      <td>...</td>\n",
       "      <td>NaN</td>\n",
       "      <td>NaN</td>\n",
       "      <td>NaN</td>\n",
       "      <td>NaN</td>\n",
       "      <td>NaN</td>\n",
       "      <td>NaN</td>\n",
       "      <td>NaN</td>\n",
       "      <td>NaN</td>\n",
       "      <td>NaN</td>\n",
       "      <td>NaN</td>\n",
       "    </tr>\n",
       "    <tr>\n",
       "      <th>0</th>\n",
       "      <td>3</td>\n",
       "      <td>4f66e61b28678a84d868466e7309c159</td>\n",
       "      <td>{\"cutoff\": \"quantile_0.1\", \"eval_fairness_grou...</td>\n",
       "      <td>25.752123</td>\n",
       "      <td>89710</td>\n",
       "      <td>1.0</td>\n",
       "      <td>0.084440</td>\n",
       "      <td>0.911330</td>\n",
       "      <td>0.073911</td>\n",
       "      <td>0.922769</td>\n",
       "      <td>...</td>\n",
       "      <td>0.119652</td>\n",
       "      <td>0.147125</td>\n",
       "      <td>0.952289</td>\n",
       "      <td>0.867849</td>\n",
       "      <td>0.006757</td>\n",
       "      <td>0.016740</td>\n",
       "      <td>0.957011</td>\n",
       "      <td>0.883100</td>\n",
       "      <td>20540.0</td>\n",
       "      <td>69170.0</td>\n",
       "    </tr>\n",
       "    <tr>\n",
       "      <th>0</th>\n",
       "      <td>3</td>\n",
       "      <td>4f66e61b28678a84d868466e7309c159</td>\n",
       "      <td>{\"cutoff\": \"quantile_0.25\", \"eval_fairness_gro...</td>\n",
       "      <td>25.752123</td>\n",
       "      <td>89710</td>\n",
       "      <td>1.0</td>\n",
       "      <td>0.152364</td>\n",
       "      <td>0.819225</td>\n",
       "      <td>0.132636</td>\n",
       "      <td>0.845067</td>\n",
       "      <td>...</td>\n",
       "      <td>NaN</td>\n",
       "      <td>NaN</td>\n",
       "      <td>NaN</td>\n",
       "      <td>NaN</td>\n",
       "      <td>NaN</td>\n",
       "      <td>NaN</td>\n",
       "      <td>NaN</td>\n",
       "      <td>NaN</td>\n",
       "      <td>NaN</td>\n",
       "      <td>NaN</td>\n",
       "    </tr>\n",
       "    <tr>\n",
       "      <th>0</th>\n",
       "      <td>3</td>\n",
       "      <td>4f66e61b28678a84d868466e7309c159</td>\n",
       "      <td>{\"cutoff\": \"quantile_0.25\", \"eval_fairness_gro...</td>\n",
       "      <td>25.752123</td>\n",
       "      <td>89710</td>\n",
       "      <td>1.0</td>\n",
       "      <td>0.152364</td>\n",
       "      <td>0.819225</td>\n",
       "      <td>0.132636</td>\n",
       "      <td>0.845067</td>\n",
       "      <td>...</td>\n",
       "      <td>0.128981</td>\n",
       "      <td>0.171699</td>\n",
       "      <td>0.842835</td>\n",
       "      <td>0.690471</td>\n",
       "      <td>0.042230</td>\n",
       "      <td>0.059956</td>\n",
       "      <td>0.856086</td>\n",
       "      <td>0.723449</td>\n",
       "      <td>20540.0</td>\n",
       "      <td>69170.0</td>\n",
       "    </tr>\n",
       "  </tbody>\n",
       "</table>\n",
       "<p>4 rows × 50 columns</p>\n",
       "</div>"
      ],
      "text/plain": [
       "  run_no                       universe_id  \\\n",
       "0      3  4f66e61b28678a84d868466e7309c159   \n",
       "0      3  4f66e61b28678a84d868466e7309c159   \n",
       "0      3  4f66e61b28678a84d868466e7309c159   \n",
       "0      3  4f66e61b28678a84d868466e7309c159   \n",
       "\n",
       "                                   universe_settings  execution_time  \\\n",
       "0  {\"cutoff\": \"quantile_0.1\", \"eval_fairness_grou...       25.752123   \n",
       "0  {\"cutoff\": \"quantile_0.1\", \"eval_fairness_grou...       25.752123   \n",
       "0  {\"cutoff\": \"quantile_0.25\", \"eval_fairness_gro...       25.752123   \n",
       "0  {\"cutoff\": \"quantile_0.25\", \"eval_fairness_gro...       25.752123   \n",
       "\n",
       "   test_size_n  test_size_frac  fair_main_equalized_odds_difference  \\\n",
       "0        89710             1.0                             0.084440   \n",
       "0        89710             1.0                             0.084440   \n",
       "0        89710             1.0                             0.152364   \n",
       "0        89710             1.0                             0.152364   \n",
       "\n",
       "   fair_main_equalized_odds_ratio  fair_main_demographic_parity_difference  \\\n",
       "0                        0.911330                                 0.073911   \n",
       "0                        0.911330                                 0.073911   \n",
       "0                        0.819225                                 0.132636   \n",
       "0                        0.819225                                 0.132636   \n",
       "\n",
       "   fair_main_demographic_parity_ratio  ...  perf_grp_precision_0  \\\n",
       "0                            0.922769  ...                   NaN   \n",
       "0                            0.922769  ...              0.119652   \n",
       "0                            0.845067  ...                   NaN   \n",
       "0                            0.845067  ...              0.128981   \n",
       "\n",
       "   perf_grp_precision_1  perf_grp_false positive rate_0  \\\n",
       "0                   NaN                             NaN   \n",
       "0              0.147125                        0.952289   \n",
       "0                   NaN                             NaN   \n",
       "0              0.171699                        0.842835   \n",
       "\n",
       "   perf_grp_false positive rate_1  perf_grp_false negative rate_0  \\\n",
       "0                             NaN                             NaN   \n",
       "0                        0.867849                        0.006757   \n",
       "0                             NaN                             NaN   \n",
       "0                        0.690471                        0.042230   \n",
       "\n",
       "   perf_grp_false negative rate_1  perf_grp_selection rate_0  \\\n",
       "0                             NaN                        NaN   \n",
       "0                        0.016740                   0.957011   \n",
       "0                             NaN                        NaN   \n",
       "0                        0.059956                   0.856086   \n",
       "\n",
       "   perf_grp_selection rate_1  perf_grp_count_0  perf_grp_count_1  \n",
       "0                        NaN               NaN               NaN  \n",
       "0                   0.883100           20540.0           69170.0  \n",
       "0                        NaN               NaN               NaN  \n",
       "0                   0.723449           20540.0           69170.0  \n",
       "\n",
       "[4 rows x 50 columns]"
      ]
     },
     "execution_count": 64,
     "metadata": {},
     "output_type": "execute_result"
    }
   ],
   "source": [
    "final_output = universe_analysis.generate_final_output(\n",
    "    y_pred_prob=probs_test,\n",
    "    y_test=y_true,\n",
    "    org_test=org_test,\n",
    "    filter_data=filter_sub_universe_data,\n",
    "    cp_metrics_df=cp_metrics_df,\n",
    "    save=True,\n",
    ")\n",
    "final_output"
   ]
  },
  {
   "cell_type": "code",
   "execution_count": null,
   "id": "8b80a1ff",
   "metadata": {
    "papermill": {
     "duration": 0.014758,
     "end_time": "2025-08-19T18:30:03.643946",
     "exception": false,
     "start_time": "2025-08-19T18:30:03.629188",
     "status": "completed"
    },
    "tags": []
   },
   "outputs": [],
   "source": []
  },
  {
   "cell_type": "code",
   "execution_count": null,
   "id": "275c9fad",
   "metadata": {
    "papermill": {
     "duration": 0.014179,
     "end_time": "2025-08-19T18:30:03.672453",
     "exception": false,
     "start_time": "2025-08-19T18:30:03.658274",
     "status": "completed"
    },
    "tags": []
   },
   "outputs": [],
   "source": []
  }
 ],
 "metadata": {
  "celltoolbar": "Tags",
  "kernelspec": {
   "display_name": "Python (CMA Fairness)",
   "language": "python",
   "name": "cma_fair_env"
  },
  "language_info": {
   "codemirror_mode": {
    "name": "ipython",
    "version": 3
   },
   "file_extension": ".py",
   "mimetype": "text/x-python",
   "name": "python",
   "nbconvert_exporter": "python",
   "pygments_lexer": "ipython3",
   "version": "3.10.12"
  },
  "papermill": {
   "default_parameters": {},
   "duration": 36.870867,
   "end_time": "2025-08-19T18:30:04.519800",
   "environment_variables": {},
   "exception": null,
   "input_path": "universe_analysis.ipynb",
   "output_path": "output/runs/3/notebooks/m_3-4f66e61b28678a84d868466e7309c159.ipynb",
   "parameters": {
    "output_dir": "output",
    "run_no": "3",
    "seed": "2023",
    "universe": "{\"cutoff\": [\"quantile_0.1\", \"quantile_0.25\"], \"eval_fairness_grouping\": [\"majority-minority\", \"nationality-all\"], \"exclude_features\": \"nationality\", \"exclude_subgroups\": \"drop-non-german\", \"model\": \"gbm\", \"scale\": \"do-not-scale\", \"training_size\": \"5k\", \"training_year\": \"2014\"}",
    "universe_id": "4f66e61b28678a84d868466e7309c159"
   },
   "start_time": "2025-08-19T18:29:27.648933",
   "version": "2.6.0"
  }
 },
 "nbformat": 4,
 "nbformat_minor": 5
}