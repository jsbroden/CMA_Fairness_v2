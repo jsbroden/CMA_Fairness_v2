{
 "cells": [
  {
   "cell_type": "markdown",
   "id": "ef23dbb3",
   "metadata": {
    "papermill": {
     "duration": 0.024827,
     "end_time": "2025-08-19T17:53:11.196563",
     "exception": false,
     "start_time": "2025-08-19T17:53:11.171736",
     "status": "completed"
    },
    "tags": []
   },
   "source": [
    "# Setup"
   ]
  },
  {
   "cell_type": "code",
   "execution_count": 1,
   "id": "0bc8e7dc",
   "metadata": {
    "execution": {
     "iopub.execute_input": "2025-08-19T17:53:11.217758Z",
     "iopub.status.busy": "2025-08-19T17:53:11.217416Z",
     "iopub.status.idle": "2025-08-19T17:53:11.230857Z",
     "shell.execute_reply": "2025-08-19T17:53:11.229886Z"
    },
    "papermill": {
     "duration": 0.025291,
     "end_time": "2025-08-19T17:53:11.232806",
     "exception": false,
     "start_time": "2025-08-19T17:53:11.207515",
     "status": "completed"
    },
    "tags": []
   },
   "outputs": [
    {
     "name": "stdout",
     "output_type": "stream",
     "text": [
      "/dss/dsshome1/0C/ra93lal2/cma/CMA_Fairness_v2\n"
     ]
    },
    {
     "name": "stderr",
     "output_type": "stream",
     "text": [
      "/dss/dsshome1/0C/ra93lal2/.local/share/virtualenvs/CMA_Fairness_v2-3j10GkSs/lib/python3.10/site-packages/IPython/core/magics/osm.py:393: UserWarning: This is now an optional IPython functionality, using bookmarks requires you to install the `pickleshare` library.\n",
      "  bkms = self.shell.db.get('bookmarks', {})\n",
      "/dss/dsshome1/0C/ra93lal2/.local/share/virtualenvs/CMA_Fairness_v2-3j10GkSs/lib/python3.10/site-packages/IPython/core/magics/osm.py:417: UserWarning: This is now an optional IPython functionality, setting dhist requires you to install the `pickleshare` library.\n",
      "  self.shell.db['dhist'] = compress_dhist(dhist)[-100:]\n"
     ]
    }
   ],
   "source": [
    "%cd ~/cma/CMA_Fairness_v2"
   ]
  },
  {
   "cell_type": "markdown",
   "id": "9d235661",
   "metadata": {
    "papermill": {
     "duration": 0.011244,
     "end_time": "2025-08-19T17:53:11.255536",
     "exception": false,
     "start_time": "2025-08-19T17:53:11.244292",
     "status": "completed"
    },
    "tags": []
   },
   "source": [
    "The following cell holds the definition of our parameters, these values can be overriden by rendering the with e.g. the following command:\n",
    "\n",
    "papermill -p alpha 0.2 -p ratio 0.3 universe_analysis.ipynb output/test_run.ipynb"
   ]
  },
  {
   "cell_type": "code",
   "execution_count": 2,
   "id": "4a789d8e",
   "metadata": {
    "execution": {
     "iopub.execute_input": "2025-08-19T17:53:11.280726Z",
     "iopub.status.busy": "2025-08-19T17:53:11.280317Z",
     "iopub.status.idle": "2025-08-19T17:53:11.284245Z",
     "shell.execute_reply": "2025-08-19T17:53:11.283606Z"
    },
    "papermill": {
     "duration": 0.016006,
     "end_time": "2025-08-19T17:53:11.285406",
     "exception": false,
     "start_time": "2025-08-19T17:53:11.269400",
     "status": "completed"
    },
    "tags": []
   },
   "outputs": [
    {
     "name": "stdout",
     "output_type": "stream",
     "text": [
      "Current working directory: /dss/dsshome1/0C/ra93lal2/cma/CMA_Fairness_v2\n"
     ]
    }
   ],
   "source": [
    "import os\n",
    "print(\"Current working directory:\", os.getcwd())"
   ]
  },
  {
   "cell_type": "code",
   "execution_count": 3,
   "id": "4132aaed",
   "metadata": {
    "execution": {
     "iopub.execute_input": "2025-08-19T17:53:11.304740Z",
     "iopub.status.busy": "2025-08-19T17:53:11.304200Z",
     "iopub.status.idle": "2025-08-19T17:53:11.311290Z",
     "shell.execute_reply": "2025-08-19T17:53:11.310234Z"
    },
    "papermill": {
     "duration": 0.018291,
     "end_time": "2025-08-19T17:53:11.312637",
     "exception": false,
     "start_time": "2025-08-19T17:53:11.294346",
     "status": "completed"
    },
    "tags": [
     "parameters"
    ]
   },
   "outputs": [],
   "source": [
    "run_no = 0\n",
    "universe_id = \"test\"\n",
    "universe = {\n",
    "    \"training_size\": \"5k\", # \"25k\", \"5k\", \"1k\"\n",
    "    \"training_year\": \"2012_14\", # \"2014\", \"2012_14\", \"2010_14\"\n",
    "    \"scale\": \"scale\", # \"scale\", \"do-not-scale\",\n",
    "    \"model\": \"elasticnet\", # \"logreg\", \"penalized_logreg\", \"rf\", \"gbm\", \"elasticnet\"\n",
    "    \"cutoff\": [\"quantile_0.15\", \"quantile_0.30\"],\n",
    "    \"exclude_features\": \"age\", # \"none\", \"nationality\", \"sex\", \"nationality-sex\", \"age\"\n",
    "    \"exclude_subgroups\": \"drop-non-german\", # \"keep-all\", \"drop-non-german\"\n",
    "    \"eval_fairness_grouping\": [\"majority-minority\", \"nationality-all\"]\n",
    "}\n",
    "\n",
    "output_dir=\"./output\"\n",
    "seed=0"
   ]
  },
  {
   "cell_type": "code",
   "execution_count": 4,
   "id": "167dd42e",
   "metadata": {
    "execution": {
     "iopub.execute_input": "2025-08-19T17:53:11.334199Z",
     "iopub.status.busy": "2025-08-19T17:53:11.333501Z",
     "iopub.status.idle": "2025-08-19T17:53:11.360643Z",
     "shell.execute_reply": "2025-08-19T17:53:11.358168Z"
    },
    "papermill": {
     "duration": 0.041564,
     "end_time": "2025-08-19T17:53:11.362838",
     "exception": false,
     "start_time": "2025-08-19T17:53:11.321274",
     "status": "completed"
    },
    "tags": [
     "injected-parameters"
    ]
   },
   "outputs": [],
   "source": [
    "# Parameters\n",
    "universe_id = \"fe2fc8ae174c4630204dacd3b251d2fa\"\n",
    "run_no = \"3\"\n",
    "universe = \"{\\\"cutoff\\\": [\\\"quantile_0.1\\\", \\\"quantile_0.25\\\"], \\\"eval_fairness_grouping\\\": [\\\"majority-minority\\\", \\\"nationality-all\\\"], \\\"exclude_features\\\": \\\"nationality-sex\\\", \\\"exclude_subgroups\\\": \\\"keep-all\\\", \\\"model\\\": \\\"logreg\\\", \\\"scale\\\": \\\"scale\\\", \\\"training_size\\\": \\\"25k\\\", \\\"training_year\\\": \\\"2014\\\"}\"\n",
    "output_dir = \"output\"\n",
    "seed = \"2023\"\n"
   ]
  },
  {
   "cell_type": "code",
   "execution_count": 5,
   "id": "a5d7941f",
   "metadata": {
    "execution": {
     "iopub.execute_input": "2025-08-19T17:53:11.385528Z",
     "iopub.status.busy": "2025-08-19T17:53:11.384071Z",
     "iopub.status.idle": "2025-08-19T17:53:11.391091Z",
     "shell.execute_reply": "2025-08-19T17:53:11.389599Z"
    },
    "papermill": {
     "duration": 0.020225,
     "end_time": "2025-08-19T17:53:11.393233",
     "exception": false,
     "start_time": "2025-08-19T17:53:11.373008",
     "status": "completed"
    },
    "tags": []
   },
   "outputs": [],
   "source": [
    "import json\n",
    "if isinstance(universe, str):\n",
    "    universe = json.loads(universe)"
   ]
  },
  {
   "cell_type": "code",
   "execution_count": 6,
   "id": "7076ccb1",
   "metadata": {
    "execution": {
     "iopub.execute_input": "2025-08-19T17:53:11.416769Z",
     "iopub.status.busy": "2025-08-19T17:53:11.415220Z",
     "iopub.status.idle": "2025-08-19T17:53:11.869138Z",
     "shell.execute_reply": "2025-08-19T17:53:11.868304Z"
    },
    "papermill": {
     "duration": 0.466008,
     "end_time": "2025-08-19T17:53:11.870840",
     "exception": false,
     "start_time": "2025-08-19T17:53:11.404832",
     "status": "completed"
    },
    "tags": []
   },
   "outputs": [],
   "source": [
    "# Auto-reload the custom package\n",
    "%load_ext autoreload\n",
    "%autoreload 1\n",
    "%aimport fairness_multiverse"
   ]
  },
  {
   "cell_type": "code",
   "execution_count": 7,
   "id": "94c8eb93",
   "metadata": {
    "execution": {
     "iopub.execute_input": "2025-08-19T17:53:11.892333Z",
     "iopub.status.busy": "2025-08-19T17:53:11.891666Z",
     "iopub.status.idle": "2025-08-19T17:53:13.485784Z",
     "shell.execute_reply": "2025-08-19T17:53:13.485021Z"
    },
    "papermill": {
     "duration": 1.607009,
     "end_time": "2025-08-19T17:53:13.487513",
     "exception": false,
     "start_time": "2025-08-19T17:53:11.880504",
     "status": "completed"
    },
    "tags": []
   },
   "outputs": [],
   "source": [
    "from fairness_multiverse.universe import UniverseAnalysis\n",
    "\n",
    "universe_analysis = UniverseAnalysis(\n",
    "    run_no = run_no,\n",
    "    universe_id = universe_id,\n",
    "    universe = universe,\n",
    "    output_dir=output_dir,\n",
    ")"
   ]
  },
  {
   "cell_type": "code",
   "execution_count": 8,
   "id": "2a6381cf",
   "metadata": {
    "execution": {
     "iopub.execute_input": "2025-08-19T17:53:13.509836Z",
     "iopub.status.busy": "2025-08-19T17:53:13.509411Z",
     "iopub.status.idle": "2025-08-19T17:53:13.520971Z",
     "shell.execute_reply": "2025-08-19T17:53:13.520274Z"
    },
    "papermill": {
     "duration": 0.024022,
     "end_time": "2025-08-19T17:53:13.522137",
     "exception": false,
     "start_time": "2025-08-19T17:53:13.498115",
     "status": "completed"
    },
    "tags": []
   },
   "outputs": [
    {
     "name": "stdout",
     "output_type": "stream",
     "text": [
      "Using Seed: 2023\n"
     ]
    }
   ],
   "source": [
    "import numpy as np\n",
    "parsed_seed = int(seed)\n",
    "np.random.seed(parsed_seed)\n",
    "print(f\"Using Seed: {parsed_seed}\")"
   ]
  },
  {
   "cell_type": "markdown",
   "id": "b6e958b4",
   "metadata": {
    "papermill": {
     "duration": 0.009206,
     "end_time": "2025-08-19T17:53:13.540879",
     "exception": false,
     "start_time": "2025-08-19T17:53:13.531673",
     "status": "completed"
    },
    "tags": []
   },
   "source": [
    "# Loading Data"
   ]
  },
  {
   "cell_type": "code",
   "execution_count": 9,
   "id": "98701482",
   "metadata": {
    "execution": {
     "iopub.execute_input": "2025-08-19T17:53:13.560096Z",
     "iopub.status.busy": "2025-08-19T17:53:13.559697Z",
     "iopub.status.idle": "2025-08-19T17:53:24.289433Z",
     "shell.execute_reply": "2025-08-19T17:53:24.288442Z"
    },
    "papermill": {
     "duration": 10.741165,
     "end_time": "2025-08-19T17:53:24.290949",
     "exception": false,
     "start_time": "2025-08-19T17:53:13.549784",
     "status": "completed"
    },
    "tags": []
   },
   "outputs": [
    {
     "name": "stdout",
     "output_type": "stream",
     "text": [
      "Loading SIAB data from cache: data/siab_cached.csv.gz\n"
     ]
    },
    {
     "name": "stdout",
     "output_type": "stream",
     "text": [
      "(643690, 164)\n"
     ]
    }
   ],
   "source": [
    "from pathlib import Path\n",
    "import pandas as pd\n",
    "\n",
    "# File paths\n",
    "raw_file = Path(\"data/raw/siab.csv\")\n",
    "cache_file = Path(\"data/siab_cached.csv.gz\")\n",
    "\n",
    "# Ensure cache directory exists\n",
    "cache_file.parent.mkdir(parents=True, exist_ok=True)\n",
    "\n",
    "# Load with simple caching\n",
    "if cache_file.exists():\n",
    "    print(f\"Loading SIAB data from cache: {cache_file}\")\n",
    "    siab = pd.read_csv(cache_file, compression='gzip')\n",
    "else:\n",
    "    print(f\"Cache not found. Reading raw SIAB data: {raw_file}\")\n",
    "    siab = pd.read_csv(raw_file)\n",
    "    siab.to_csv(cache_file, index=False, compression='gzip')\n",
    "    print(f\"Cached SIAB data to: {cache_file}\")\n",
    "\n",
    "print(siab.shape)"
   ]
  },
  {
   "cell_type": "code",
   "execution_count": 10,
   "id": "058d2abb",
   "metadata": {
    "execution": {
     "iopub.execute_input": "2025-08-19T17:53:24.346993Z",
     "iopub.status.busy": "2025-08-19T17:53:24.346560Z",
     "iopub.status.idle": "2025-08-19T17:53:24.517542Z",
     "shell.execute_reply": "2025-08-19T17:53:24.516808Z"
    },
    "papermill": {
     "duration": 0.214561,
     "end_time": "2025-08-19T17:53:24.522596",
     "exception": false,
     "start_time": "2025-08-19T17:53:24.308035",
     "status": "completed"
    },
    "tags": []
   },
   "outputs": [
    {
     "data": {
      "text/html": [
       "<div>\n",
       "<style scoped>\n",
       "    .dataframe tbody tr th:only-of-type {\n",
       "        vertical-align: middle;\n",
       "    }\n",
       "\n",
       "    .dataframe tbody tr th {\n",
       "        vertical-align: top;\n",
       "    }\n",
       "\n",
       "    .dataframe thead th {\n",
       "        text-align: right;\n",
       "    }\n",
       "</style>\n",
       "<table border=\"1\" class=\"dataframe\">\n",
       "  <thead>\n",
       "    <tr style=\"text-align: right;\">\n",
       "      <th></th>\n",
       "      <th>persnr</th>\n",
       "      <th>year</th>\n",
       "      <th>nrEntry</th>\n",
       "      <th>ltue</th>\n",
       "      <th>employed_before</th>\n",
       "      <th>receipt_leh_before</th>\n",
       "      <th>receipt_lhg_before</th>\n",
       "      <th>se_before</th>\n",
       "      <th>ASU_notue_seeking_before</th>\n",
       "      <th>ASU_other_before</th>\n",
       "      <th>...</th>\n",
       "      <th>minijob_tot_dur_byage</th>\n",
       "      <th>ft_tot_dur_byage</th>\n",
       "      <th>befrist_tot_dur_byage</th>\n",
       "      <th>leih_tot_dur_byage</th>\n",
       "      <th>LHG_tot_dur_byage</th>\n",
       "      <th>LEH_tot_dur_byage</th>\n",
       "      <th>almp_tot_dur_byage</th>\n",
       "      <th>almp_aw_tot_dur_byage</th>\n",
       "      <th>se_tot_dur_byage</th>\n",
       "      <th>seeking1_tot_dur_byage</th>\n",
       "    </tr>\n",
       "  </thead>\n",
       "  <tbody>\n",
       "    <tr>\n",
       "      <th>0</th>\n",
       "      <td>7</td>\n",
       "      <td>2015</td>\n",
       "      <td>1</td>\n",
       "      <td>0</td>\n",
       "      <td>1</td>\n",
       "      <td>0</td>\n",
       "      <td>0</td>\n",
       "      <td>0</td>\n",
       "      <td>1</td>\n",
       "      <td>0</td>\n",
       "      <td>...</td>\n",
       "      <td>0.000000</td>\n",
       "      <td>0.000000</td>\n",
       "      <td>15.043478</td>\n",
       "      <td>0.000000</td>\n",
       "      <td>0.000000</td>\n",
       "      <td>0.000000</td>\n",
       "      <td>0.000000</td>\n",
       "      <td>0.000000</td>\n",
       "      <td>0.000000</td>\n",
       "      <td>0.000000</td>\n",
       "    </tr>\n",
       "    <tr>\n",
       "      <th>1</th>\n",
       "      <td>18</td>\n",
       "      <td>2010</td>\n",
       "      <td>1</td>\n",
       "      <td>1</td>\n",
       "      <td>0</td>\n",
       "      <td>0</td>\n",
       "      <td>0</td>\n",
       "      <td>0</td>\n",
       "      <td>0</td>\n",
       "      <td>0</td>\n",
       "      <td>...</td>\n",
       "      <td>0.000000</td>\n",
       "      <td>0.000000</td>\n",
       "      <td>0.000000</td>\n",
       "      <td>0.000000</td>\n",
       "      <td>0.000000</td>\n",
       "      <td>0.000000</td>\n",
       "      <td>0.000000</td>\n",
       "      <td>0.000000</td>\n",
       "      <td>0.000000</td>\n",
       "      <td>0.000000</td>\n",
       "    </tr>\n",
       "    <tr>\n",
       "      <th>2</th>\n",
       "      <td>18</td>\n",
       "      <td>2011</td>\n",
       "      <td>2</td>\n",
       "      <td>0</td>\n",
       "      <td>1</td>\n",
       "      <td>0</td>\n",
       "      <td>1</td>\n",
       "      <td>0</td>\n",
       "      <td>1</td>\n",
       "      <td>0</td>\n",
       "      <td>...</td>\n",
       "      <td>2.714286</td>\n",
       "      <td>2.714286</td>\n",
       "      <td>0.000000</td>\n",
       "      <td>0.000000</td>\n",
       "      <td>10.775510</td>\n",
       "      <td>0.000000</td>\n",
       "      <td>8.367347</td>\n",
       "      <td>0.000000</td>\n",
       "      <td>0.000000</td>\n",
       "      <td>9.836735</td>\n",
       "    </tr>\n",
       "    <tr>\n",
       "      <th>3</th>\n",
       "      <td>18</td>\n",
       "      <td>2012</td>\n",
       "      <td>3</td>\n",
       "      <td>0</td>\n",
       "      <td>1</td>\n",
       "      <td>0</td>\n",
       "      <td>1</td>\n",
       "      <td>0</td>\n",
       "      <td>1</td>\n",
       "      <td>0</td>\n",
       "      <td>...</td>\n",
       "      <td>4.200000</td>\n",
       "      <td>4.200000</td>\n",
       "      <td>0.000000</td>\n",
       "      <td>0.000000</td>\n",
       "      <td>12.100000</td>\n",
       "      <td>0.000000</td>\n",
       "      <td>9.400000</td>\n",
       "      <td>0.000000</td>\n",
       "      <td>0.000000</td>\n",
       "      <td>9.960000</td>\n",
       "    </tr>\n",
       "    <tr>\n",
       "      <th>4</th>\n",
       "      <td>18</td>\n",
       "      <td>2012</td>\n",
       "      <td>4</td>\n",
       "      <td>0</td>\n",
       "      <td>1</td>\n",
       "      <td>0</td>\n",
       "      <td>1</td>\n",
       "      <td>0</td>\n",
       "      <td>1</td>\n",
       "      <td>0</td>\n",
       "      <td>...</td>\n",
       "      <td>5.460000</td>\n",
       "      <td>5.460000</td>\n",
       "      <td>0.000000</td>\n",
       "      <td>0.000000</td>\n",
       "      <td>13.360000</td>\n",
       "      <td>0.000000</td>\n",
       "      <td>10.320000</td>\n",
       "      <td>0.000000</td>\n",
       "      <td>0.000000</td>\n",
       "      <td>10.280000</td>\n",
       "    </tr>\n",
       "    <tr>\n",
       "      <th>...</th>\n",
       "      <td>...</td>\n",
       "      <td>...</td>\n",
       "      <td>...</td>\n",
       "      <td>...</td>\n",
       "      <td>...</td>\n",
       "      <td>...</td>\n",
       "      <td>...</td>\n",
       "      <td>...</td>\n",
       "      <td>...</td>\n",
       "      <td>...</td>\n",
       "      <td>...</td>\n",
       "      <td>...</td>\n",
       "      <td>...</td>\n",
       "      <td>...</td>\n",
       "      <td>...</td>\n",
       "      <td>...</td>\n",
       "      <td>...</td>\n",
       "      <td>...</td>\n",
       "      <td>...</td>\n",
       "      <td>...</td>\n",
       "      <td>...</td>\n",
       "    </tr>\n",
       "    <tr>\n",
       "      <th>643685</th>\n",
       "      <td>1827860</td>\n",
       "      <td>2013</td>\n",
       "      <td>1</td>\n",
       "      <td>0</td>\n",
       "      <td>0</td>\n",
       "      <td>0</td>\n",
       "      <td>1</td>\n",
       "      <td>0</td>\n",
       "      <td>0</td>\n",
       "      <td>1</td>\n",
       "      <td>...</td>\n",
       "      <td>0.000000</td>\n",
       "      <td>0.000000</td>\n",
       "      <td>0.000000</td>\n",
       "      <td>0.000000</td>\n",
       "      <td>0.612903</td>\n",
       "      <td>0.000000</td>\n",
       "      <td>0.000000</td>\n",
       "      <td>0.000000</td>\n",
       "      <td>0.000000</td>\n",
       "      <td>0.000000</td>\n",
       "    </tr>\n",
       "    <tr>\n",
       "      <th>643686</th>\n",
       "      <td>1827860</td>\n",
       "      <td>2015</td>\n",
       "      <td>2</td>\n",
       "      <td>1</td>\n",
       "      <td>0</td>\n",
       "      <td>0</td>\n",
       "      <td>1</td>\n",
       "      <td>0</td>\n",
       "      <td>1</td>\n",
       "      <td>0</td>\n",
       "      <td>...</td>\n",
       "      <td>0.000000</td>\n",
       "      <td>0.000000</td>\n",
       "      <td>0.212121</td>\n",
       "      <td>0.212121</td>\n",
       "      <td>17.363636</td>\n",
       "      <td>0.000000</td>\n",
       "      <td>8.909091</td>\n",
       "      <td>0.000000</td>\n",
       "      <td>0.000000</td>\n",
       "      <td>7.121212</td>\n",
       "    </tr>\n",
       "    <tr>\n",
       "      <th>643687</th>\n",
       "      <td>1827860</td>\n",
       "      <td>2016</td>\n",
       "      <td>3</td>\n",
       "      <td>1</td>\n",
       "      <td>0</td>\n",
       "      <td>0</td>\n",
       "      <td>1</td>\n",
       "      <td>1</td>\n",
       "      <td>0</td>\n",
       "      <td>1</td>\n",
       "      <td>...</td>\n",
       "      <td>0.000000</td>\n",
       "      <td>0.000000</td>\n",
       "      <td>0.294118</td>\n",
       "      <td>0.205882</td>\n",
       "      <td>34.705882</td>\n",
       "      <td>0.000000</td>\n",
       "      <td>10.352941</td>\n",
       "      <td>1.705882</td>\n",
       "      <td>1.705882</td>\n",
       "      <td>23.911765</td>\n",
       "    </tr>\n",
       "    <tr>\n",
       "      <th>643688</th>\n",
       "      <td>1827869</td>\n",
       "      <td>2013</td>\n",
       "      <td>1</td>\n",
       "      <td>1</td>\n",
       "      <td>1</td>\n",
       "      <td>0</td>\n",
       "      <td>0</td>\n",
       "      <td>0</td>\n",
       "      <td>1</td>\n",
       "      <td>0</td>\n",
       "      <td>...</td>\n",
       "      <td>0.000000</td>\n",
       "      <td>0.000000</td>\n",
       "      <td>0.000000</td>\n",
       "      <td>0.000000</td>\n",
       "      <td>0.000000</td>\n",
       "      <td>0.525424</td>\n",
       "      <td>0.000000</td>\n",
       "      <td>0.000000</td>\n",
       "      <td>0.000000</td>\n",
       "      <td>0.000000</td>\n",
       "    </tr>\n",
       "    <tr>\n",
       "      <th>643689</th>\n",
       "      <td>1827869</td>\n",
       "      <td>2014</td>\n",
       "      <td>2</td>\n",
       "      <td>0</td>\n",
       "      <td>0</td>\n",
       "      <td>1</td>\n",
       "      <td>0</td>\n",
       "      <td>0</td>\n",
       "      <td>1</td>\n",
       "      <td>0</td>\n",
       "      <td>...</td>\n",
       "      <td>0.000000</td>\n",
       "      <td>0.666667</td>\n",
       "      <td>0.666667</td>\n",
       "      <td>0.000000</td>\n",
       "      <td>0.000000</td>\n",
       "      <td>8.950000</td>\n",
       "      <td>1.033333</td>\n",
       "      <td>0.083333</td>\n",
       "      <td>0.083333</td>\n",
       "      <td>8.133333</td>\n",
       "    </tr>\n",
       "  </tbody>\n",
       "</table>\n",
       "<p>643690 rows × 164 columns</p>\n",
       "</div>"
      ],
      "text/plain": [
       "         persnr  year  nrEntry  ltue  employed_before  receipt_leh_before  \\\n",
       "0             7  2015        1     0                1                   0   \n",
       "1            18  2010        1     1                0                   0   \n",
       "2            18  2011        2     0                1                   0   \n",
       "3            18  2012        3     0                1                   0   \n",
       "4            18  2012        4     0                1                   0   \n",
       "...         ...   ...      ...   ...              ...                 ...   \n",
       "643685  1827860  2013        1     0                0                   0   \n",
       "643686  1827860  2015        2     1                0                   0   \n",
       "643687  1827860  2016        3     1                0                   0   \n",
       "643688  1827869  2013        1     1                1                   0   \n",
       "643689  1827869  2014        2     0                0                   1   \n",
       "\n",
       "        receipt_lhg_before  se_before  ASU_notue_seeking_before  \\\n",
       "0                        0          0                         1   \n",
       "1                        0          0                         0   \n",
       "2                        1          0                         1   \n",
       "3                        1          0                         1   \n",
       "4                        1          0                         1   \n",
       "...                    ...        ...                       ...   \n",
       "643685                   1          0                         0   \n",
       "643686                   1          0                         1   \n",
       "643687                   1          1                         0   \n",
       "643688                   0          0                         1   \n",
       "643689                   0          0                         1   \n",
       "\n",
       "        ASU_other_before  ...  minijob_tot_dur_byage  ft_tot_dur_byage  \\\n",
       "0                      0  ...               0.000000          0.000000   \n",
       "1                      0  ...               0.000000          0.000000   \n",
       "2                      0  ...               2.714286          2.714286   \n",
       "3                      0  ...               4.200000          4.200000   \n",
       "4                      0  ...               5.460000          5.460000   \n",
       "...                  ...  ...                    ...               ...   \n",
       "643685                 1  ...               0.000000          0.000000   \n",
       "643686                 0  ...               0.000000          0.000000   \n",
       "643687                 1  ...               0.000000          0.000000   \n",
       "643688                 0  ...               0.000000          0.000000   \n",
       "643689                 0  ...               0.000000          0.666667   \n",
       "\n",
       "        befrist_tot_dur_byage  leih_tot_dur_byage  LHG_tot_dur_byage  \\\n",
       "0                   15.043478            0.000000           0.000000   \n",
       "1                    0.000000            0.000000           0.000000   \n",
       "2                    0.000000            0.000000          10.775510   \n",
       "3                    0.000000            0.000000          12.100000   \n",
       "4                    0.000000            0.000000          13.360000   \n",
       "...                       ...                 ...                ...   \n",
       "643685               0.000000            0.000000           0.612903   \n",
       "643686               0.212121            0.212121          17.363636   \n",
       "643687               0.294118            0.205882          34.705882   \n",
       "643688               0.000000            0.000000           0.000000   \n",
       "643689               0.666667            0.000000           0.000000   \n",
       "\n",
       "        LEH_tot_dur_byage  almp_tot_dur_byage  almp_aw_tot_dur_byage  \\\n",
       "0                0.000000            0.000000               0.000000   \n",
       "1                0.000000            0.000000               0.000000   \n",
       "2                0.000000            8.367347               0.000000   \n",
       "3                0.000000            9.400000               0.000000   \n",
       "4                0.000000           10.320000               0.000000   \n",
       "...                   ...                 ...                    ...   \n",
       "643685           0.000000            0.000000               0.000000   \n",
       "643686           0.000000            8.909091               0.000000   \n",
       "643687           0.000000           10.352941               1.705882   \n",
       "643688           0.525424            0.000000               0.000000   \n",
       "643689           8.950000            1.033333               0.083333   \n",
       "\n",
       "        se_tot_dur_byage  seeking1_tot_dur_byage  \n",
       "0               0.000000                0.000000  \n",
       "1               0.000000                0.000000  \n",
       "2               0.000000                9.836735  \n",
       "3               0.000000                9.960000  \n",
       "4               0.000000               10.280000  \n",
       "...                  ...                     ...  \n",
       "643685          0.000000                0.000000  \n",
       "643686          0.000000                7.121212  \n",
       "643687          1.705882               23.911765  \n",
       "643688          0.000000                0.000000  \n",
       "643689          0.083333                8.133333  \n",
       "\n",
       "[643690 rows x 164 columns]"
      ]
     },
     "execution_count": 10,
     "metadata": {},
     "output_type": "execute_result"
    }
   ],
   "source": [
    "siab"
   ]
  },
  {
   "cell_type": "markdown",
   "id": "1f87e805",
   "metadata": {
    "papermill": {
     "duration": 0.010985,
     "end_time": "2025-08-19T17:53:24.554153",
     "exception": false,
     "start_time": "2025-08-19T17:53:24.543168",
     "status": "completed"
    },
    "tags": []
   },
   "source": [
    "# Splitting Data and Setting Training Data Size"
   ]
  },
  {
   "cell_type": "code",
   "execution_count": 11,
   "id": "910ae358",
   "metadata": {
    "execution": {
     "iopub.execute_input": "2025-08-19T17:53:24.588622Z",
     "iopub.status.busy": "2025-08-19T17:53:24.585680Z",
     "iopub.status.idle": "2025-08-19T17:53:24.932209Z",
     "shell.execute_reply": "2025-08-19T17:53:24.931288Z"
    },
    "papermill": {
     "duration": 0.361873,
     "end_time": "2025-08-19T17:53:24.935494",
     "exception": false,
     "start_time": "2025-08-19T17:53:24.573621",
     "status": "completed"
    },
    "tags": []
   },
   "outputs": [],
   "source": [
    "from fairness_multiverse.universe import sample_by_year_size\n",
    "\n",
    "siab_train = sample_by_year_size(siab,\n",
    "                               training_year=universe[\"training_year\"],\n",
    "                               training_size=universe[\"training_size\"])"
   ]
  },
  {
   "cell_type": "code",
   "execution_count": 12,
   "id": "919c8ff5",
   "metadata": {
    "execution": {
     "iopub.execute_input": "2025-08-19T17:53:24.975911Z",
     "iopub.status.busy": "2025-08-19T17:53:24.975026Z",
     "iopub.status.idle": "2025-08-19T17:53:24.984247Z",
     "shell.execute_reply": "2025-08-19T17:53:24.983087Z"
    },
    "papermill": {
     "duration": 0.026288,
     "end_time": "2025-08-19T17:53:24.986854",
     "exception": false,
     "start_time": "2025-08-19T17:53:24.960566",
     "status": "completed"
    },
    "tags": []
   },
   "outputs": [
    {
     "data": {
      "text/plain": [
       "(25000, 164)"
      ]
     },
     "execution_count": 12,
     "metadata": {},
     "output_type": "execute_result"
    }
   ],
   "source": [
    "siab_train.shape"
   ]
  },
  {
   "cell_type": "code",
   "execution_count": 13,
   "id": "feb13bf4",
   "metadata": {
    "execution": {
     "iopub.execute_input": "2025-08-19T17:53:25.030138Z",
     "iopub.status.busy": "2025-08-19T17:53:25.029229Z",
     "iopub.status.idle": "2025-08-19T17:53:25.040724Z",
     "shell.execute_reply": "2025-08-19T17:53:25.039983Z"
    },
    "papermill": {
     "duration": 0.036283,
     "end_time": "2025-08-19T17:53:25.042938",
     "exception": false,
     "start_time": "2025-08-19T17:53:25.006655",
     "status": "completed"
    },
    "tags": []
   },
   "outputs": [
    {
     "data": {
      "text/plain": [
       "year\n",
       "2014    25000\n",
       "dtype: int64"
      ]
     },
     "metadata": {},
     "output_type": "display_data"
    }
   ],
   "source": [
    "display(siab_train.groupby(\"year\").size())"
   ]
  },
  {
   "cell_type": "code",
   "execution_count": 14,
   "id": "0997782f",
   "metadata": {
    "execution": {
     "iopub.execute_input": "2025-08-19T17:53:25.065375Z",
     "iopub.status.busy": "2025-08-19T17:53:25.064560Z",
     "iopub.status.idle": "2025-08-19T17:53:25.356634Z",
     "shell.execute_reply": "2025-08-19T17:53:25.355493Z"
    },
    "papermill": {
     "duration": 0.306742,
     "end_time": "2025-08-19T17:53:25.359874",
     "exception": false,
     "start_time": "2025-08-19T17:53:25.053132",
     "status": "completed"
    },
    "tags": []
   },
   "outputs": [],
   "source": [
    "#siab_train = siab_s[siab_s.year < 2015]\n",
    "siab_calib = siab[siab.year == 2015]\n",
    "siab_test = siab[siab.year == 2016]"
   ]
  },
  {
   "cell_type": "code",
   "execution_count": 15,
   "id": "2c1e4012",
   "metadata": {
    "execution": {
     "iopub.execute_input": "2025-08-19T17:53:25.400109Z",
     "iopub.status.busy": "2025-08-19T17:53:25.399769Z",
     "iopub.status.idle": "2025-08-19T17:53:25.406013Z",
     "shell.execute_reply": "2025-08-19T17:53:25.404916Z"
    },
    "papermill": {
     "duration": 0.021824,
     "end_time": "2025-08-19T17:53:25.407452",
     "exception": false,
     "start_time": "2025-08-19T17:53:25.385628",
     "status": "completed"
    },
    "tags": []
   },
   "outputs": [],
   "source": [
    "#siab_calib.shape"
   ]
  },
  {
   "cell_type": "code",
   "execution_count": 16,
   "id": "f66b54ca",
   "metadata": {
    "execution": {
     "iopub.execute_input": "2025-08-19T17:53:25.429905Z",
     "iopub.status.busy": "2025-08-19T17:53:25.429358Z",
     "iopub.status.idle": "2025-08-19T17:53:25.434581Z",
     "shell.execute_reply": "2025-08-19T17:53:25.433699Z"
    },
    "papermill": {
     "duration": 0.017537,
     "end_time": "2025-08-19T17:53:25.435815",
     "exception": false,
     "start_time": "2025-08-19T17:53:25.418278",
     "status": "completed"
    },
    "tags": []
   },
   "outputs": [],
   "source": [
    "#siab_test.shape"
   ]
  },
  {
   "cell_type": "code",
   "execution_count": 17,
   "id": "27e4384d",
   "metadata": {
    "execution": {
     "iopub.execute_input": "2025-08-19T17:53:25.458071Z",
     "iopub.status.busy": "2025-08-19T17:53:25.457186Z",
     "iopub.status.idle": "2025-08-19T17:53:25.515912Z",
     "shell.execute_reply": "2025-08-19T17:53:25.514392Z"
    },
    "papermill": {
     "duration": 0.073291,
     "end_time": "2025-08-19T17:53:25.519428",
     "exception": false,
     "start_time": "2025-08-19T17:53:25.446137",
     "status": "completed"
    },
    "tags": []
   },
   "outputs": [],
   "source": [
    "X_train = siab_train.iloc[:,4:164]\n",
    "y_train = siab_train.iloc[:, [3]]"
   ]
  },
  {
   "cell_type": "code",
   "execution_count": 18,
   "id": "08ee8389",
   "metadata": {
    "execution": {
     "iopub.execute_input": "2025-08-19T17:53:25.544584Z",
     "iopub.status.busy": "2025-08-19T17:53:25.543450Z",
     "iopub.status.idle": "2025-08-19T17:53:25.631018Z",
     "shell.execute_reply": "2025-08-19T17:53:25.630247Z"
    },
    "papermill": {
     "duration": 0.102765,
     "end_time": "2025-08-19T17:53:25.632772",
     "exception": false,
     "start_time": "2025-08-19T17:53:25.530007",
     "status": "completed"
    },
    "tags": []
   },
   "outputs": [],
   "source": [
    "X_calib = siab_calib.iloc[:,4:164]\n",
    "y_calib = siab_calib.iloc[:, [3]]"
   ]
  },
  {
   "cell_type": "code",
   "execution_count": 19,
   "id": "b7ff42e0",
   "metadata": {
    "execution": {
     "iopub.execute_input": "2025-08-19T17:53:25.656265Z",
     "iopub.status.busy": "2025-08-19T17:53:25.655623Z",
     "iopub.status.idle": "2025-08-19T17:53:25.716650Z",
     "shell.execute_reply": "2025-08-19T17:53:25.715906Z"
    },
    "papermill": {
     "duration": 0.075973,
     "end_time": "2025-08-19T17:53:25.719872",
     "exception": false,
     "start_time": "2025-08-19T17:53:25.643899",
     "status": "completed"
    },
    "tags": []
   },
   "outputs": [],
   "source": [
    "X_test = siab_test.iloc[:,4:164]\n",
    "y_true = siab_test.iloc[:, [3]]"
   ]
  },
  {
   "cell_type": "code",
   "execution_count": 20,
   "id": "0275101e",
   "metadata": {
    "execution": {
     "iopub.execute_input": "2025-08-19T17:53:25.773596Z",
     "iopub.status.busy": "2025-08-19T17:53:25.773315Z",
     "iopub.status.idle": "2025-08-19T17:53:25.890429Z",
     "shell.execute_reply": "2025-08-19T17:53:25.889361Z"
    },
    "papermill": {
     "duration": 0.141772,
     "end_time": "2025-08-19T17:53:25.893098",
     "exception": false,
     "start_time": "2025-08-19T17:53:25.751326",
     "status": "completed"
    },
    "tags": []
   },
   "outputs": [],
   "source": [
    "# Auxiliary data needed downstream in the pipeline\n",
    "\n",
    "org_train = X_train.copy()\n",
    "org_test = X_test.copy()\n",
    "org_calib = X_calib.copy()"
   ]
  },
  {
   "cell_type": "markdown",
   "id": "b461e618",
   "metadata": {
    "papermill": {
     "duration": 0.133519,
     "end_time": "2025-08-19T17:53:26.040315",
     "exception": false,
     "start_time": "2025-08-19T17:53:25.906796",
     "status": "completed"
    },
    "tags": []
   },
   "source": [
    "# Preprocessing Data"
   ]
  },
  {
   "cell_type": "code",
   "execution_count": 21,
   "id": "78e74c4b",
   "metadata": {
    "execution": {
     "iopub.execute_input": "2025-08-19T17:53:26.063302Z",
     "iopub.status.busy": "2025-08-19T17:53:26.062512Z",
     "iopub.status.idle": "2025-08-19T17:53:26.067413Z",
     "shell.execute_reply": "2025-08-19T17:53:26.066791Z"
    },
    "papermill": {
     "duration": 0.018426,
     "end_time": "2025-08-19T17:53:26.069595",
     "exception": false,
     "start_time": "2025-08-19T17:53:26.051169",
     "status": "completed"
    },
    "tags": []
   },
   "outputs": [],
   "source": [
    "# EXCLUDE PROTECTED FEATURES\n",
    "# --------------------------\n",
    "\n",
    "excluded_features = universe[\"exclude_features\"].split(\"-\")\n",
    "excluded_features_dictionary = {\n",
    "    \"nationality\": [\"maxdeutsch1\", \"maxdeutsch.Missing.\"],\n",
    "    \"sex\": [\"frau1\"],\n",
    "    \"age\": [\"age\"],\n",
    "}"
   ]
  },
  {
   "cell_type": "code",
   "execution_count": 22,
   "id": "f8e63555",
   "metadata": {
    "execution": {
     "iopub.execute_input": "2025-08-19T17:53:26.095447Z",
     "iopub.status.busy": "2025-08-19T17:53:26.094795Z",
     "iopub.status.idle": "2025-08-19T17:53:26.099941Z",
     "shell.execute_reply": "2025-08-19T17:53:26.099106Z"
    },
    "papermill": {
     "duration": 0.017973,
     "end_time": "2025-08-19T17:53:26.101432",
     "exception": false,
     "start_time": "2025-08-19T17:53:26.083459",
     "status": "completed"
    },
    "tags": []
   },
   "outputs": [],
   "source": [
    "excluded_features_columns = [\n",
    "    excluded_features_dictionary[f] for f in excluded_features if len(f) > 0 and f != \"none\"\n",
    "]"
   ]
  },
  {
   "cell_type": "code",
   "execution_count": 23,
   "id": "da781f7c",
   "metadata": {
    "execution": {
     "iopub.execute_input": "2025-08-19T17:53:26.146099Z",
     "iopub.status.busy": "2025-08-19T17:53:26.145519Z",
     "iopub.status.idle": "2025-08-19T17:53:26.151514Z",
     "shell.execute_reply": "2025-08-19T17:53:26.150522Z"
    },
    "papermill": {
     "duration": 0.036682,
     "end_time": "2025-08-19T17:53:26.154131",
     "exception": false,
     "start_time": "2025-08-19T17:53:26.117449",
     "status": "completed"
    },
    "tags": []
   },
   "outputs": [],
   "source": [
    "from fairness_multiverse.universe import flatten_once\n",
    "\n",
    "excluded_features_columns = flatten_once(excluded_features_columns)"
   ]
  },
  {
   "cell_type": "code",
   "execution_count": 24,
   "id": "37fef0f0",
   "metadata": {
    "execution": {
     "iopub.execute_input": "2025-08-19T17:53:26.193850Z",
     "iopub.status.busy": "2025-08-19T17:53:26.193531Z",
     "iopub.status.idle": "2025-08-19T17:53:26.221259Z",
     "shell.execute_reply": "2025-08-19T17:53:26.220590Z"
    },
    "papermill": {
     "duration": 0.052825,
     "end_time": "2025-08-19T17:53:26.222391",
     "exception": false,
     "start_time": "2025-08-19T17:53:26.169566",
     "status": "completed"
    },
    "tags": []
   },
   "outputs": [
    {
     "name": "stdout",
     "output_type": "stream",
     "text": [
      "Dropping features: ['maxdeutsch1', 'maxdeutsch.Missing.', 'frau1']\n"
     ]
    }
   ],
   "source": [
    "if len(excluded_features_columns) > 0:\n",
    "    print(f\"Dropping features: {excluded_features_columns}\")\n",
    "    X_train.drop(excluded_features_columns, axis=1, inplace=True)"
   ]
  },
  {
   "cell_type": "code",
   "execution_count": 25,
   "id": "d029e3e9",
   "metadata": {
    "execution": {
     "iopub.execute_input": "2025-08-19T17:53:26.246385Z",
     "iopub.status.busy": "2025-08-19T17:53:26.245198Z",
     "iopub.status.idle": "2025-08-19T17:53:26.349471Z",
     "shell.execute_reply": "2025-08-19T17:53:26.348427Z"
    },
    "papermill": {
     "duration": 0.118843,
     "end_time": "2025-08-19T17:53:26.352153",
     "exception": false,
     "start_time": "2025-08-19T17:53:26.233310",
     "status": "completed"
    },
    "tags": []
   },
   "outputs": [
    {
     "name": "stdout",
     "output_type": "stream",
     "text": [
      "Dropping features: ['maxdeutsch1', 'maxdeutsch.Missing.', 'frau1']\n"
     ]
    }
   ],
   "source": [
    "if len(excluded_features_columns) > 0:\n",
    "    print(f\"Dropping features: {excluded_features_columns}\")\n",
    "    X_test.drop(excluded_features_columns, axis=1, inplace=True)"
   ]
  },
  {
   "cell_type": "code",
   "execution_count": 26,
   "id": "01d571f0",
   "metadata": {
    "execution": {
     "iopub.execute_input": "2025-08-19T17:53:26.393824Z",
     "iopub.status.busy": "2025-08-19T17:53:26.392746Z",
     "iopub.status.idle": "2025-08-19T17:53:26.458498Z",
     "shell.execute_reply": "2025-08-19T17:53:26.457819Z"
    },
    "papermill": {
     "duration": 0.084772,
     "end_time": "2025-08-19T17:53:26.461898",
     "exception": false,
     "start_time": "2025-08-19T17:53:26.377126",
     "status": "completed"
    },
    "tags": []
   },
   "outputs": [
    {
     "name": "stdout",
     "output_type": "stream",
     "text": [
      "Dropping features: ['maxdeutsch1', 'maxdeutsch.Missing.', 'frau1']\n"
     ]
    }
   ],
   "source": [
    "if len(excluded_features_columns) > 0:\n",
    "    print(f\"Dropping features: {excluded_features_columns}\")\n",
    "    X_calib.drop(excluded_features_columns, axis=1, inplace=True)"
   ]
  },
  {
   "cell_type": "code",
   "execution_count": 27,
   "id": "3037356e",
   "metadata": {
    "execution": {
     "iopub.execute_input": "2025-08-19T17:53:26.501861Z",
     "iopub.status.busy": "2025-08-19T17:53:26.501370Z",
     "iopub.status.idle": "2025-08-19T17:53:26.507280Z",
     "shell.execute_reply": "2025-08-19T17:53:26.506084Z"
    },
    "papermill": {
     "duration": 0.028176,
     "end_time": "2025-08-19T17:53:26.509349",
     "exception": false,
     "start_time": "2025-08-19T17:53:26.481173",
     "status": "completed"
    },
    "tags": []
   },
   "outputs": [],
   "source": [
    "# EXCLUDE CERTAIN SUBGROUPS\n",
    "# -------------------------\n",
    "\n",
    "mode = universe.get(\"exclude_subgroups\", \"keep-all\") # Defaults to \"keep-all\" if the key is missing."
   ]
  },
  {
   "cell_type": "code",
   "execution_count": 28,
   "id": "9d1e63fd",
   "metadata": {
    "execution": {
     "iopub.execute_input": "2025-08-19T17:53:26.542306Z",
     "iopub.status.busy": "2025-08-19T17:53:26.541601Z",
     "iopub.status.idle": "2025-08-19T17:53:26.630645Z",
     "shell.execute_reply": "2025-08-19T17:53:26.629854Z"
    },
    "papermill": {
     "duration": 0.111146,
     "end_time": "2025-08-19T17:53:26.639169",
     "exception": false,
     "start_time": "2025-08-19T17:53:26.528023",
     "status": "completed"
    },
    "tags": []
   },
   "outputs": [],
   "source": [
    "if mode == \"keep-all\":\n",
    "    keep_mask = pd.Series(True, index=org_train.index)\n",
    "\n",
    "elif mode == \"drop-non-german\":\n",
    "    keep_mask = (org_train[\"maxdeutsch1\"] == 1) & (org_train[\"maxdeutsch.Missing.\"] == 0)\n",
    "\n",
    "else:\n",
    "    raise ValueError(f\"Unsupported mode for exclude_subgroups: {mode}\")"
   ]
  },
  {
   "cell_type": "code",
   "execution_count": 29,
   "id": "d3b65474",
   "metadata": {
    "execution": {
     "iopub.execute_input": "2025-08-19T17:53:26.682179Z",
     "iopub.status.busy": "2025-08-19T17:53:26.681464Z",
     "iopub.status.idle": "2025-08-19T17:53:26.692607Z",
     "shell.execute_reply": "2025-08-19T17:53:26.691169Z"
    },
    "papermill": {
     "duration": 0.032053,
     "end_time": "2025-08-19T17:53:26.694770",
     "exception": false,
     "start_time": "2025-08-19T17:53:26.662717",
     "status": "completed"
    },
    "tags": []
   },
   "outputs": [],
   "source": [
    "n_drop = (~keep_mask).sum() # Calculates how many rows are set to be dropped\n",
    "if n_drop > 0:\n",
    "    pct = n_drop / len(keep_mask) * 100\n",
    "    print(f\"Dropping {n_drop} rows ({pct:.2f}%) where mode='{mode}'\")"
   ]
  },
  {
   "cell_type": "code",
   "execution_count": 30,
   "id": "f44389b3",
   "metadata": {
    "execution": {
     "iopub.execute_input": "2025-08-19T17:53:26.750913Z",
     "iopub.status.busy": "2025-08-19T17:53:26.750531Z",
     "iopub.status.idle": "2025-08-19T17:53:26.797864Z",
     "shell.execute_reply": "2025-08-19T17:53:26.793435Z"
    },
    "papermill": {
     "duration": 0.080517,
     "end_time": "2025-08-19T17:53:26.801520",
     "exception": false,
     "start_time": "2025-08-19T17:53:26.721003",
     "status": "completed"
    },
    "tags": []
   },
   "outputs": [],
   "source": [
    "X_train = X_train[keep_mask]"
   ]
  },
  {
   "cell_type": "code",
   "execution_count": 31,
   "id": "ceca8c2a",
   "metadata": {
    "execution": {
     "iopub.execute_input": "2025-08-19T17:53:26.844854Z",
     "iopub.status.busy": "2025-08-19T17:53:26.843524Z",
     "iopub.status.idle": "2025-08-19T17:53:26.873852Z",
     "shell.execute_reply": "2025-08-19T17:53:26.873039Z"
    },
    "papermill": {
     "duration": 0.05706,
     "end_time": "2025-08-19T17:53:26.875697",
     "exception": false,
     "start_time": "2025-08-19T17:53:26.818637",
     "status": "completed"
    },
    "tags": []
   },
   "outputs": [],
   "source": [
    "y_train = y_train[keep_mask]"
   ]
  },
  {
   "cell_type": "markdown",
   "id": "04d31e2f",
   "metadata": {
    "papermill": {
     "duration": 0.017057,
     "end_time": "2025-08-19T17:53:26.907774",
     "exception": false,
     "start_time": "2025-08-19T17:53:26.890717",
     "status": "completed"
    },
    "tags": []
   },
   "source": [
    "# Model Training"
   ]
  },
  {
   "cell_type": "code",
   "execution_count": 32,
   "id": "db991733",
   "metadata": {
    "execution": {
     "iopub.execute_input": "2025-08-19T17:53:26.940492Z",
     "iopub.status.busy": "2025-08-19T17:53:26.940026Z",
     "iopub.status.idle": "2025-08-19T17:53:27.124520Z",
     "shell.execute_reply": "2025-08-19T17:53:27.123830Z"
    },
    "papermill": {
     "duration": 0.208642,
     "end_time": "2025-08-19T17:53:27.127363",
     "exception": false,
     "start_time": "2025-08-19T17:53:26.918721",
     "status": "completed"
    },
    "tags": []
   },
   "outputs": [],
   "source": [
    "from sklearn.linear_model import LogisticRegression\n",
    "from sklearn.ensemble import GradientBoostingClassifier, RandomForestClassifier\n",
    "\n",
    "if (universe[\"model\"] == \"logreg\"):\n",
    "    model = LogisticRegression() #penalty=\"none\", solver=\"newton-cg\", max_iter=1)\n",
    "elif (universe[\"model\"] == \"penalized_logreg\"):\n",
    "    model = LogisticRegression(penalty=\"l2\", C=0.1) #, solver=\"newton-cg\", max_iter=1)\n",
    "elif (universe[\"model\"] == \"rf\"):\n",
    "    model = RandomForestClassifier() # n_estimators=100, n_jobs=-1\n",
    "elif (universe[\"model\"] == \"gbm\"):\n",
    "    model = GradientBoostingClassifier()\n",
    "elif (universe[\"model\"] == \"elasticnet\"):\n",
    "    model = LogisticRegression(penalty = 'elasticnet', solver = 'saga', l1_ratio = 0.5) # max_iter=5000\n",
    "else:\n",
    "    raise \"Unsupported universe.model\""
   ]
  },
  {
   "cell_type": "code",
   "execution_count": 33,
   "id": "a4b5cd25",
   "metadata": {
    "execution": {
     "iopub.execute_input": "2025-08-19T17:53:27.169946Z",
     "iopub.status.busy": "2025-08-19T17:53:27.168545Z",
     "iopub.status.idle": "2025-08-19T17:53:27.179634Z",
     "shell.execute_reply": "2025-08-19T17:53:27.177957Z"
    },
    "papermill": {
     "duration": 0.031091,
     "end_time": "2025-08-19T17:53:27.181879",
     "exception": false,
     "start_time": "2025-08-19T17:53:27.150788",
     "status": "completed"
    },
    "tags": []
   },
   "outputs": [],
   "source": [
    "from sklearn.pipeline import Pipeline\n",
    "from sklearn.preprocessing import StandardScaler\n",
    "\n",
    "model = Pipeline([\n",
    "    #(\"continuous_processor\", continuous_processor),\n",
    "    #(\"categorical_preprocessor\", categorical_preprocessor),\n",
    "    (\"scale\", StandardScaler() if universe[\"scale\"] == \"scale\" else None), \n",
    "    (\"model\", model),\n",
    "])"
   ]
  },
  {
   "cell_type": "code",
   "execution_count": 34,
   "id": "283a904d",
   "metadata": {
    "execution": {
     "iopub.execute_input": "2025-08-19T17:53:27.222740Z",
     "iopub.status.busy": "2025-08-19T17:53:27.222223Z",
     "iopub.status.idle": "2025-08-19T17:53:28.268529Z",
     "shell.execute_reply": "2025-08-19T17:53:28.267860Z"
    },
    "papermill": {
     "duration": 1.07192,
     "end_time": "2025-08-19T17:53:28.269718",
     "exception": false,
     "start_time": "2025-08-19T17:53:27.197798",
     "status": "completed"
    },
    "tags": []
   },
   "outputs": [
    {
     "name": "stderr",
     "output_type": "stream",
     "text": [
      "/dss/dsshome1/0C/ra93lal2/.local/share/virtualenvs/CMA_Fairness_v2-3j10GkSs/lib/python3.10/site-packages/sklearn/linear_model/_logistic.py:444: ConvergenceWarning: lbfgs failed to converge (status=1):\n",
      "STOP: TOTAL NO. of ITERATIONS REACHED LIMIT.\n",
      "\n",
      "Increase the number of iterations (max_iter) or scale the data as shown in:\n",
      "    https://scikit-learn.org/stable/modules/preprocessing.html\n",
      "Please also refer to the documentation for alternative solver options:\n",
      "    https://scikit-learn.org/stable/modules/linear_model.html#logistic-regression\n",
      "  n_iter_i = _check_optimize_result(\n"
     ]
    },
    {
     "data": {
      "text/html": [
       "<style>#sk-container-id-1 {color: black;background-color: white;}#sk-container-id-1 pre{padding: 0;}#sk-container-id-1 div.sk-toggleable {background-color: white;}#sk-container-id-1 label.sk-toggleable__label {cursor: pointer;display: block;width: 100%;margin-bottom: 0;padding: 0.3em;box-sizing: border-box;text-align: center;}#sk-container-id-1 label.sk-toggleable__label-arrow:before {content: \"▸\";float: left;margin-right: 0.25em;color: #696969;}#sk-container-id-1 label.sk-toggleable__label-arrow:hover:before {color: black;}#sk-container-id-1 div.sk-estimator:hover label.sk-toggleable__label-arrow:before {color: black;}#sk-container-id-1 div.sk-toggleable__content {max-height: 0;max-width: 0;overflow: hidden;text-align: left;background-color: #f0f8ff;}#sk-container-id-1 div.sk-toggleable__content pre {margin: 0.2em;color: black;border-radius: 0.25em;background-color: #f0f8ff;}#sk-container-id-1 input.sk-toggleable__control:checked~div.sk-toggleable__content {max-height: 200px;max-width: 100%;overflow: auto;}#sk-container-id-1 input.sk-toggleable__control:checked~label.sk-toggleable__label-arrow:before {content: \"▾\";}#sk-container-id-1 div.sk-estimator input.sk-toggleable__control:checked~label.sk-toggleable__label {background-color: #d4ebff;}#sk-container-id-1 div.sk-label input.sk-toggleable__control:checked~label.sk-toggleable__label {background-color: #d4ebff;}#sk-container-id-1 input.sk-hidden--visually {border: 0;clip: rect(1px 1px 1px 1px);clip: rect(1px, 1px, 1px, 1px);height: 1px;margin: -1px;overflow: hidden;padding: 0;position: absolute;width: 1px;}#sk-container-id-1 div.sk-estimator {font-family: monospace;background-color: #f0f8ff;border: 1px dotted black;border-radius: 0.25em;box-sizing: border-box;margin-bottom: 0.5em;}#sk-container-id-1 div.sk-estimator:hover {background-color: #d4ebff;}#sk-container-id-1 div.sk-parallel-item::after {content: \"\";width: 100%;border-bottom: 1px solid gray;flex-grow: 1;}#sk-container-id-1 div.sk-label:hover label.sk-toggleable__label {background-color: #d4ebff;}#sk-container-id-1 div.sk-serial::before {content: \"\";position: absolute;border-left: 1px solid gray;box-sizing: border-box;top: 0;bottom: 0;left: 50%;z-index: 0;}#sk-container-id-1 div.sk-serial {display: flex;flex-direction: column;align-items: center;background-color: white;padding-right: 0.2em;padding-left: 0.2em;position: relative;}#sk-container-id-1 div.sk-item {position: relative;z-index: 1;}#sk-container-id-1 div.sk-parallel {display: flex;align-items: stretch;justify-content: center;background-color: white;position: relative;}#sk-container-id-1 div.sk-item::before, #sk-container-id-1 div.sk-parallel-item::before {content: \"\";position: absolute;border-left: 1px solid gray;box-sizing: border-box;top: 0;bottom: 0;left: 50%;z-index: -1;}#sk-container-id-1 div.sk-parallel-item {display: flex;flex-direction: column;z-index: 1;position: relative;background-color: white;}#sk-container-id-1 div.sk-parallel-item:first-child::after {align-self: flex-end;width: 50%;}#sk-container-id-1 div.sk-parallel-item:last-child::after {align-self: flex-start;width: 50%;}#sk-container-id-1 div.sk-parallel-item:only-child::after {width: 0;}#sk-container-id-1 div.sk-dashed-wrapped {border: 1px dashed gray;margin: 0 0.4em 0.5em 0.4em;box-sizing: border-box;padding-bottom: 0.4em;background-color: white;}#sk-container-id-1 div.sk-label label {font-family: monospace;font-weight: bold;display: inline-block;line-height: 1.2em;}#sk-container-id-1 div.sk-label-container {text-align: center;}#sk-container-id-1 div.sk-container {/* jupyter's `normalize.less` sets `[hidden] { display: none; }` but bootstrap.min.css set `[hidden] { display: none !important; }` so we also need the `!important` here to be able to override the default hidden behavior on the sphinx rendered scikit-learn.org. See: https://github.com/scikit-learn/scikit-learn/issues/21755 */display: inline-block !important;position: relative;}#sk-container-id-1 div.sk-text-repr-fallback {display: none;}</style><div id=\"sk-container-id-1\" class=\"sk-top-container\"><div class=\"sk-text-repr-fallback\"><pre>Pipeline(steps=[(&#x27;scale&#x27;, StandardScaler()), (&#x27;model&#x27;, LogisticRegression())])</pre><b>In a Jupyter environment, please rerun this cell to show the HTML representation or trust the notebook. <br />On GitHub, the HTML representation is unable to render, please try loading this page with nbviewer.org.</b></div><div class=\"sk-container\" hidden><div class=\"sk-item sk-dashed-wrapped\"><div class=\"sk-label-container\"><div class=\"sk-label sk-toggleable\"><input class=\"sk-toggleable__control sk-hidden--visually\" id=\"sk-estimator-id-1\" type=\"checkbox\" ><label for=\"sk-estimator-id-1\" class=\"sk-toggleable__label sk-toggleable__label-arrow\">Pipeline</label><div class=\"sk-toggleable__content\"><pre>Pipeline(steps=[(&#x27;scale&#x27;, StandardScaler()), (&#x27;model&#x27;, LogisticRegression())])</pre></div></div></div><div class=\"sk-serial\"><div class=\"sk-item\"><div class=\"sk-estimator sk-toggleable\"><input class=\"sk-toggleable__control sk-hidden--visually\" id=\"sk-estimator-id-2\" type=\"checkbox\" ><label for=\"sk-estimator-id-2\" class=\"sk-toggleable__label sk-toggleable__label-arrow\">StandardScaler</label><div class=\"sk-toggleable__content\"><pre>StandardScaler()</pre></div></div></div><div class=\"sk-item\"><div class=\"sk-estimator sk-toggleable\"><input class=\"sk-toggleable__control sk-hidden--visually\" id=\"sk-estimator-id-3\" type=\"checkbox\" ><label for=\"sk-estimator-id-3\" class=\"sk-toggleable__label sk-toggleable__label-arrow\">LogisticRegression</label><div class=\"sk-toggleable__content\"><pre>LogisticRegression()</pre></div></div></div></div></div></div></div>"
      ],
      "text/plain": [
       "Pipeline(steps=[('scale', StandardScaler()), ('model', LogisticRegression())])"
      ]
     },
     "execution_count": 34,
     "metadata": {},
     "output_type": "execute_result"
    }
   ],
   "source": [
    "model.fit(X_train, y_train.values.ravel())"
   ]
  },
  {
   "cell_type": "code",
   "execution_count": 35,
   "id": "6e15e313",
   "metadata": {
    "execution": {
     "iopub.execute_input": "2025-08-19T17:53:28.306870Z",
     "iopub.status.busy": "2025-08-19T17:53:28.305788Z",
     "iopub.status.idle": "2025-08-19T17:53:28.513662Z",
     "shell.execute_reply": "2025-08-19T17:53:28.512771Z"
    },
    "papermill": {
     "duration": 0.232224,
     "end_time": "2025-08-19T17:53:28.515319",
     "exception": false,
     "start_time": "2025-08-19T17:53:28.283095",
     "status": "completed"
    },
    "tags": []
   },
   "outputs": [
    {
     "data": {
      "text/plain": [
       "0.8652992977371531"
      ]
     },
     "execution_count": 35,
     "metadata": {},
     "output_type": "execute_result"
    }
   ],
   "source": [
    "from fairness_multiverse.universe import predict_w_threshold\n",
    "\n",
    "probs_test = model.predict_proba(X_test)\n",
    "\n",
    "'''\n",
    "Below code returns a boolean array (or binary 0/1 array depending on how it’s used) where each element \n",
    "is True if the probability of class 1 is greater than or equal to the threshold, and False otherwise.\n",
    "'''\n",
    "y_pred_default = predict_w_threshold(probs_test, 0.5)\n",
    "\n",
    "from sklearn.metrics import accuracy_score\n",
    "\n",
    "# Naive prediction\n",
    "accuracy_score(y_true = y_true, y_pred = y_pred_default)"
   ]
  },
  {
   "cell_type": "code",
   "execution_count": 36,
   "id": "6f14067c",
   "metadata": {
    "execution": {
     "iopub.execute_input": "2025-08-19T17:53:28.548352Z",
     "iopub.status.busy": "2025-08-19T17:53:28.547897Z",
     "iopub.status.idle": "2025-08-19T17:53:28.731011Z",
     "shell.execute_reply": "2025-08-19T17:53:28.729938Z"
    },
    "papermill": {
     "duration": 0.205371,
     "end_time": "2025-08-19T17:53:28.732729",
     "exception": false,
     "start_time": "2025-08-19T17:53:28.527358",
     "status": "completed"
    },
    "tags": []
   },
   "outputs": [
    {
     "data": {
      "text/plain": [
       "array([0, 0, 0, ..., 0, 0, 0])"
      ]
     },
     "execution_count": 36,
     "metadata": {},
     "output_type": "execute_result"
    }
   ],
   "source": [
    "model.predict(X_test)"
   ]
  },
  {
   "cell_type": "markdown",
   "id": "3759920c",
   "metadata": {
    "papermill": {
     "duration": 0.022563,
     "end_time": "2025-08-19T17:53:28.768916",
     "exception": false,
     "start_time": "2025-08-19T17:53:28.746353",
     "status": "completed"
    },
    "tags": []
   },
   "source": [
    "# Conformal Prediction"
   ]
  },
  {
   "cell_type": "code",
   "execution_count": 37,
   "id": "14b27f59",
   "metadata": {
    "execution": {
     "iopub.execute_input": "2025-08-19T17:53:28.802715Z",
     "iopub.status.busy": "2025-08-19T17:53:28.802272Z",
     "iopub.status.idle": "2025-08-19T17:53:28.807446Z",
     "shell.execute_reply": "2025-08-19T17:53:28.806664Z"
    },
    "papermill": {
     "duration": 0.025347,
     "end_time": "2025-08-19T17:53:28.814095",
     "exception": false,
     "start_time": "2025-08-19T17:53:28.788748",
     "status": "completed"
    },
    "tags": []
   },
   "outputs": [],
   "source": [
    "# Miscoverage level for conformal prediction (10% allowed error rate => 90% target coverage)\n",
    "alpha = 0.1"
   ]
  },
  {
   "cell_type": "code",
   "execution_count": 38,
   "id": "59102472",
   "metadata": {
    "execution": {
     "iopub.execute_input": "2025-08-19T17:53:28.852991Z",
     "iopub.status.busy": "2025-08-19T17:53:28.852520Z",
     "iopub.status.idle": "2025-08-19T17:53:29.030396Z",
     "shell.execute_reply": "2025-08-19T17:53:29.029602Z"
    },
    "papermill": {
     "duration": 0.193642,
     "end_time": "2025-08-19T17:53:29.031996",
     "exception": false,
     "start_time": "2025-08-19T17:53:28.838354",
     "status": "completed"
    },
    "tags": []
   },
   "outputs": [],
   "source": [
    "probs_calib = model.predict_proba(X_calib)"
   ]
  },
  {
   "cell_type": "code",
   "execution_count": 39,
   "id": "a792d4dd",
   "metadata": {
    "execution": {
     "iopub.execute_input": "2025-08-19T17:53:29.104384Z",
     "iopub.status.busy": "2025-08-19T17:53:29.103351Z",
     "iopub.status.idle": "2025-08-19T17:53:29.113520Z",
     "shell.execute_reply": "2025-08-19T17:53:29.111856Z"
    },
    "papermill": {
     "duration": 0.057011,
     "end_time": "2025-08-19T17:53:29.115473",
     "exception": false,
     "start_time": "2025-08-19T17:53:29.058462",
     "status": "completed"
    },
    "tags": []
   },
   "outputs": [],
   "source": [
    "y_calib = y_calib.values.ravel().astype(int)"
   ]
  },
  {
   "cell_type": "code",
   "execution_count": 40,
   "id": "650fd033",
   "metadata": {
    "execution": {
     "iopub.execute_input": "2025-08-19T17:53:29.158320Z",
     "iopub.status.busy": "2025-08-19T17:53:29.157849Z",
     "iopub.status.idle": "2025-08-19T17:53:29.164576Z",
     "shell.execute_reply": "2025-08-19T17:53:29.163934Z"
    },
    "papermill": {
     "duration": 0.041167,
     "end_time": "2025-08-19T17:53:29.169972",
     "exception": false,
     "start_time": "2025-08-19T17:53:29.128805",
     "status": "completed"
    },
    "tags": []
   },
   "outputs": [],
   "source": [
    "from fairness_multiverse.conformal import compute_nc_scores\n",
    "\n",
    "# Compute nonconformity scores on calibration set (1 - probability of true class)\n",
    "nc_scores = compute_nc_scores(probs_calib, y_calib)"
   ]
  },
  {
   "cell_type": "code",
   "execution_count": 41,
   "id": "28ada44c",
   "metadata": {
    "execution": {
     "iopub.execute_input": "2025-08-19T17:53:29.202207Z",
     "iopub.status.busy": "2025-08-19T17:53:29.201882Z",
     "iopub.status.idle": "2025-08-19T17:53:29.233023Z",
     "shell.execute_reply": "2025-08-19T17:53:29.232059Z"
    },
    "papermill": {
     "duration": 0.046248,
     "end_time": "2025-08-19T17:53:29.234928",
     "exception": false,
     "start_time": "2025-08-19T17:53:29.188680",
     "status": "completed"
    },
    "tags": []
   },
   "outputs": [],
   "source": [
    "from fairness_multiverse.conformal import find_threshold\n",
    "\n",
    "# Find conformal threshold q_hat for the given alpha (split conformal method)\n",
    "q_hat = find_threshold(nc_scores, alpha)"
   ]
  },
  {
   "cell_type": "code",
   "execution_count": 42,
   "id": "df56469e",
   "metadata": {
    "execution": {
     "iopub.execute_input": "2025-08-19T17:53:29.277750Z",
     "iopub.status.busy": "2025-08-19T17:53:29.277248Z",
     "iopub.status.idle": "2025-08-19T17:53:29.282843Z",
     "shell.execute_reply": "2025-08-19T17:53:29.282167Z"
    },
    "papermill": {
     "duration": 0.029516,
     "end_time": "2025-08-19T17:53:29.287612",
     "exception": false,
     "start_time": "2025-08-19T17:53:29.258096",
     "status": "completed"
    },
    "tags": []
   },
   "outputs": [
    {
     "data": {
      "text/plain": [
       "0.6759452049925573"
      ]
     },
     "execution_count": 42,
     "metadata": {},
     "output_type": "execute_result"
    }
   ],
   "source": [
    "q_hat"
   ]
  },
  {
   "cell_type": "code",
   "execution_count": 43,
   "id": "aa1f5faa",
   "metadata": {
    "execution": {
     "iopub.execute_input": "2025-08-19T17:53:29.313746Z",
     "iopub.status.busy": "2025-08-19T17:53:29.313417Z",
     "iopub.status.idle": "2025-08-19T17:53:29.954441Z",
     "shell.execute_reply": "2025-08-19T17:53:29.953290Z"
    },
    "papermill": {
     "duration": 0.655084,
     "end_time": "2025-08-19T17:53:29.956072",
     "exception": false,
     "start_time": "2025-08-19T17:53:29.300988",
     "status": "completed"
    },
    "tags": []
   },
   "outputs": [],
   "source": [
    "from fairness_multiverse.conformal import predict_conformal_sets\n",
    "\n",
    "# Generate prediction sets for each test example\n",
    "pred_sets = predict_conformal_sets(model, X_test, q_hat)"
   ]
  },
  {
   "cell_type": "code",
   "execution_count": 44,
   "id": "97f67a6b",
   "metadata": {
    "execution": {
     "iopub.execute_input": "2025-08-19T17:53:29.985247Z",
     "iopub.status.busy": "2025-08-19T17:53:29.984810Z",
     "iopub.status.idle": "2025-08-19T17:53:29.990562Z",
     "shell.execute_reply": "2025-08-19T17:53:29.989889Z"
    },
    "papermill": {
     "duration": 0.025265,
     "end_time": "2025-08-19T17:53:29.994087",
     "exception": false,
     "start_time": "2025-08-19T17:53:29.968822",
     "status": "completed"
    },
    "tags": []
   },
   "outputs": [],
   "source": [
    "y_true = y_true.squeeze()"
   ]
  },
  {
   "cell_type": "code",
   "execution_count": 45,
   "id": "e700e9a7",
   "metadata": {
    "execution": {
     "iopub.execute_input": "2025-08-19T17:53:30.021417Z",
     "iopub.status.busy": "2025-08-19T17:53:30.021035Z",
     "iopub.status.idle": "2025-08-19T17:53:30.557287Z",
     "shell.execute_reply": "2025-08-19T17:53:30.555772Z"
    },
    "papermill": {
     "duration": 0.550627,
     "end_time": "2025-08-19T17:53:30.558902",
     "exception": false,
     "start_time": "2025-08-19T17:53:30.008275",
     "status": "completed"
    },
    "tags": []
   },
   "outputs": [],
   "source": [
    "from fairness_multiverse.conformal import evaluate_sets\n",
    "\n",
    "# Evaluate coverage and average set size on test data\n",
    "metrics = evaluate_sets(pred_sets, y_true)"
   ]
  },
  {
   "cell_type": "markdown",
   "id": "efbacec0",
   "metadata": {
    "papermill": {
     "duration": 0.011332,
     "end_time": "2025-08-19T17:53:30.581952",
     "exception": false,
     "start_time": "2025-08-19T17:53:30.570620",
     "status": "completed"
    },
    "tags": []
   },
   "source": [
    "# CP Metrics"
   ]
  },
  {
   "cell_type": "code",
   "execution_count": 46,
   "id": "9de55fb1",
   "metadata": {
    "execution": {
     "iopub.execute_input": "2025-08-19T17:53:30.606040Z",
     "iopub.status.busy": "2025-08-19T17:53:30.605586Z",
     "iopub.status.idle": "2025-08-19T17:53:30.612323Z",
     "shell.execute_reply": "2025-08-19T17:53:30.611574Z"
    },
    "papermill": {
     "duration": 0.020416,
     "end_time": "2025-08-19T17:53:30.613586",
     "exception": false,
     "start_time": "2025-08-19T17:53:30.593170",
     "status": "completed"
    },
    "tags": []
   },
   "outputs": [
    {
     "data": {
      "text/plain": [
       "{'coverage': 0.9126407312451231, 'avg_size': 1.1256047263404303}"
      ]
     },
     "execution_count": 46,
     "metadata": {},
     "output_type": "execute_result"
    }
   ],
   "source": [
    "metrics"
   ]
  },
  {
   "cell_type": "code",
   "execution_count": 47,
   "id": "64c340a1",
   "metadata": {
    "execution": {
     "iopub.execute_input": "2025-08-19T17:53:30.637546Z",
     "iopub.status.busy": "2025-08-19T17:53:30.637178Z",
     "iopub.status.idle": "2025-08-19T17:53:30.642256Z",
     "shell.execute_reply": "2025-08-19T17:53:30.641563Z"
    },
    "papermill": {
     "duration": 0.018573,
     "end_time": "2025-08-19T17:53:30.643553",
     "exception": false,
     "start_time": "2025-08-19T17:53:30.624980",
     "status": "completed"
    },
    "tags": []
   },
   "outputs": [],
   "source": [
    "example_universe = universe.copy()\n",
    "universe_training_year = example_universe.get(\"training_year\")\n",
    "universe_training_size = example_universe.get(\"training_size\")\n",
    "universe_scale = example_universe.get(\"scale\")\n",
    "universe_model = example_universe.get(\"model\")\n",
    "universe_exclude_features = example_universe.get(\"exclude_features\")\n",
    "universe_exclude_subgroups = example_universe.get(\"exclude_subgroups\")"
   ]
  },
  {
   "cell_type": "code",
   "execution_count": 48,
   "id": "dbb53cb4",
   "metadata": {
    "execution": {
     "iopub.execute_input": "2025-08-19T17:53:30.673653Z",
     "iopub.status.busy": "2025-08-19T17:53:30.673265Z",
     "iopub.status.idle": "2025-08-19T17:53:30.678149Z",
     "shell.execute_reply": "2025-08-19T17:53:30.677464Z"
    },
    "papermill": {
     "duration": 0.024339,
     "end_time": "2025-08-19T17:53:30.679331",
     "exception": false,
     "start_time": "2025-08-19T17:53:30.654992",
     "status": "completed"
    },
    "tags": []
   },
   "outputs": [],
   "source": [
    "cp_metrics_dict = {\n",
    "    \"universe_id\": [universe_id],\n",
    "    \"universe_training_year\": [universe_training_year],\n",
    "    \"universe_training_size\": [universe_training_size],\n",
    "    \"universe_scale\": [universe_scale],\n",
    "    \"universe_model\": [universe_model],\n",
    "    \"universe_exclude_features\": [universe_exclude_features],\n",
    "    \"universe_exclude_subgroups\": [universe_exclude_subgroups],\n",
    "    \"q_hat\": [q_hat],\n",
    "    \"coverage\": [metrics[\"coverage\"]],\n",
    "    \"avg_size\": [metrics[\"avg_size\"]],\n",
    "}"
   ]
  },
  {
   "cell_type": "code",
   "execution_count": 49,
   "id": "0d70d4b2",
   "metadata": {
    "execution": {
     "iopub.execute_input": "2025-08-19T17:53:30.706474Z",
     "iopub.status.busy": "2025-08-19T17:53:30.706092Z",
     "iopub.status.idle": "2025-08-19T17:53:30.712068Z",
     "shell.execute_reply": "2025-08-19T17:53:30.711408Z"
    },
    "papermill": {
     "duration": 0.020093,
     "end_time": "2025-08-19T17:53:30.713403",
     "exception": false,
     "start_time": "2025-08-19T17:53:30.693310",
     "status": "completed"
    },
    "tags": []
   },
   "outputs": [],
   "source": [
    "cp_metrics_df = pd.DataFrame(cp_metrics_dict)"
   ]
  },
  {
   "cell_type": "code",
   "execution_count": 50,
   "id": "b494403c",
   "metadata": {
    "execution": {
     "iopub.execute_input": "2025-08-19T17:53:30.738862Z",
     "iopub.status.busy": "2025-08-19T17:53:30.738236Z",
     "iopub.status.idle": "2025-08-19T17:53:30.750867Z",
     "shell.execute_reply": "2025-08-19T17:53:30.750056Z"
    },
    "papermill": {
     "duration": 0.027214,
     "end_time": "2025-08-19T17:53:30.752756",
     "exception": false,
     "start_time": "2025-08-19T17:53:30.725542",
     "status": "completed"
    },
    "tags": []
   },
   "outputs": [
    {
     "data": {
      "text/html": [
       "<div>\n",
       "<style scoped>\n",
       "    .dataframe tbody tr th:only-of-type {\n",
       "        vertical-align: middle;\n",
       "    }\n",
       "\n",
       "    .dataframe tbody tr th {\n",
       "        vertical-align: top;\n",
       "    }\n",
       "\n",
       "    .dataframe thead th {\n",
       "        text-align: right;\n",
       "    }\n",
       "</style>\n",
       "<table border=\"1\" class=\"dataframe\">\n",
       "  <thead>\n",
       "    <tr style=\"text-align: right;\">\n",
       "      <th></th>\n",
       "      <th>universe_id</th>\n",
       "      <th>universe_training_year</th>\n",
       "      <th>universe_training_size</th>\n",
       "      <th>universe_scale</th>\n",
       "      <th>universe_model</th>\n",
       "      <th>universe_exclude_features</th>\n",
       "      <th>universe_exclude_subgroups</th>\n",
       "      <th>q_hat</th>\n",
       "      <th>coverage</th>\n",
       "      <th>avg_size</th>\n",
       "    </tr>\n",
       "  </thead>\n",
       "  <tbody>\n",
       "    <tr>\n",
       "      <th>0</th>\n",
       "      <td>fe2fc8ae174c4630204dacd3b251d2fa</td>\n",
       "      <td>2014</td>\n",
       "      <td>25k</td>\n",
       "      <td>scale</td>\n",
       "      <td>logreg</td>\n",
       "      <td>nationality-sex</td>\n",
       "      <td>keep-all</td>\n",
       "      <td>0.675945</td>\n",
       "      <td>0.912641</td>\n",
       "      <td>1.125605</td>\n",
       "    </tr>\n",
       "  </tbody>\n",
       "</table>\n",
       "</div>"
      ],
      "text/plain": [
       "                        universe_id universe_training_year  \\\n",
       "0  fe2fc8ae174c4630204dacd3b251d2fa                   2014   \n",
       "\n",
       "  universe_training_size universe_scale universe_model  \\\n",
       "0                    25k          scale         logreg   \n",
       "\n",
       "  universe_exclude_features universe_exclude_subgroups     q_hat  coverage  \\\n",
       "0           nationality-sex                   keep-all  0.675945  0.912641   \n",
       "\n",
       "   avg_size  \n",
       "0  1.125605  "
      ]
     },
     "execution_count": 50,
     "metadata": {},
     "output_type": "execute_result"
    }
   ],
   "source": [
    "cp_metrics_df"
   ]
  },
  {
   "cell_type": "markdown",
   "id": "ed608b0b",
   "metadata": {
    "papermill": {
     "duration": 0.012428,
     "end_time": "2025-08-19T17:53:30.778633",
     "exception": false,
     "start_time": "2025-08-19T17:53:30.766205",
     "status": "completed"
    },
    "tags": []
   },
   "source": [
    "Conditional coverage & looking at subgroups"
   ]
  },
  {
   "cell_type": "code",
   "execution_count": 51,
   "id": "8968c366",
   "metadata": {
    "execution": {
     "iopub.execute_input": "2025-08-19T17:53:30.803123Z",
     "iopub.status.busy": "2025-08-19T17:53:30.802596Z",
     "iopub.status.idle": "2025-08-19T17:53:31.093428Z",
     "shell.execute_reply": "2025-08-19T17:53:31.092539Z"
    },
    "papermill": {
     "duration": 0.304534,
     "end_time": "2025-08-19T17:53:31.094860",
     "exception": false,
     "start_time": "2025-08-19T17:53:30.790326",
     "status": "completed"
    },
    "tags": []
   },
   "outputs": [],
   "source": [
    "from fairness_multiverse.conformal import build_cp_groups\n",
    "\n",
    "cp_groups_df = build_cp_groups(pred_sets, y_true, X_test.index, org_test)"
   ]
  },
  {
   "cell_type": "code",
   "execution_count": 52,
   "id": "292ddabf",
   "metadata": {
    "execution": {
     "iopub.execute_input": "2025-08-19T17:53:31.134818Z",
     "iopub.status.busy": "2025-08-19T17:53:31.134327Z",
     "iopub.status.idle": "2025-08-19T17:53:32.033159Z",
     "shell.execute_reply": "2025-08-19T17:53:32.031930Z"
    },
    "papermill": {
     "duration": 0.916314,
     "end_time": "2025-08-19T17:53:32.034696",
     "exception": false,
     "start_time": "2025-08-19T17:53:31.118382",
     "status": "completed"
    },
    "tags": []
   },
   "outputs": [],
   "source": [
    "# Define covered = 1 if true_label is in the predicted set\n",
    "cp_groups_df['covered'] = cp_groups_df.apply(\n",
    "    lambda r: int(r['true_label'] in r['pred_set']),\n",
    "    axis=1\n",
    ")"
   ]
  },
  {
   "cell_type": "code",
   "execution_count": 53,
   "id": "3a261692",
   "metadata": {
    "execution": {
     "iopub.execute_input": "2025-08-19T17:53:32.070424Z",
     "iopub.status.busy": "2025-08-19T17:53:32.069345Z",
     "iopub.status.idle": "2025-08-19T17:53:32.081989Z",
     "shell.execute_reply": "2025-08-19T17:53:32.081379Z"
    },
    "papermill": {
     "duration": 0.03539,
     "end_time": "2025-08-19T17:53:32.083283",
     "exception": false,
     "start_time": "2025-08-19T17:53:32.047893",
     "status": "completed"
    },
    "tags": []
   },
   "outputs": [],
   "source": [
    "subgroups = ['frau1','nongerman','nongerman_male','nongerman_female']\n",
    "\n",
    "# Conditional coverage for subgroup==1\n",
    "cond_coverage = {\n",
    "    g: cp_groups_df.loc[cp_groups_df[g]==1, 'covered'].mean()\n",
    "    for g in subgroups\n",
    "}"
   ]
  },
  {
   "cell_type": "code",
   "execution_count": 54,
   "id": "894fd600",
   "metadata": {
    "execution": {
     "iopub.execute_input": "2025-08-19T17:53:32.124595Z",
     "iopub.status.busy": "2025-08-19T17:53:32.124158Z",
     "iopub.status.idle": "2025-08-19T17:53:32.129968Z",
     "shell.execute_reply": "2025-08-19T17:53:32.129372Z"
    },
    "papermill": {
     "duration": 0.031116,
     "end_time": "2025-08-19T17:53:32.132580",
     "exception": false,
     "start_time": "2025-08-19T17:53:32.101464",
     "status": "completed"
    },
    "tags": []
   },
   "outputs": [
    {
     "data": {
      "text/plain": [
       "{'frau1': 0.9125488610324841,\n",
       " 'nongerman': 0.9127042047942514,\n",
       " 'nongerman_male': 0.9274070071151941,\n",
       " 'nongerman_female': 0.8883755588673622}"
      ]
     },
     "execution_count": 54,
     "metadata": {},
     "output_type": "execute_result"
    }
   ],
   "source": [
    "cond_coverage"
   ]
  },
  {
   "cell_type": "code",
   "execution_count": 55,
   "id": "942895c7",
   "metadata": {
    "execution": {
     "iopub.execute_input": "2025-08-19T17:53:32.160165Z",
     "iopub.status.busy": "2025-08-19T17:53:32.159614Z",
     "iopub.status.idle": "2025-08-19T17:53:32.222588Z",
     "shell.execute_reply": "2025-08-19T17:53:32.221907Z"
    },
    "papermill": {
     "duration": 0.077943,
     "end_time": "2025-08-19T17:53:32.224334",
     "exception": false,
     "start_time": "2025-08-19T17:53:32.146391",
     "status": "completed"
    },
    "tags": []
   },
   "outputs": [],
   "source": [
    "for subgroup, cov in cond_coverage.items():\n",
    "    cp_metrics_df[f\"cov_{subgroup}\"] = cov"
   ]
  },
  {
   "cell_type": "code",
   "execution_count": 56,
   "id": "3970120f",
   "metadata": {
    "execution": {
     "iopub.execute_input": "2025-08-19T17:53:32.252844Z",
     "iopub.status.busy": "2025-08-19T17:53:32.252548Z",
     "iopub.status.idle": "2025-08-19T17:53:32.267917Z",
     "shell.execute_reply": "2025-08-19T17:53:32.267213Z"
    },
    "papermill": {
     "duration": 0.029828,
     "end_time": "2025-08-19T17:53:32.269372",
     "exception": false,
     "start_time": "2025-08-19T17:53:32.239544",
     "status": "completed"
    },
    "tags": []
   },
   "outputs": [
    {
     "data": {
      "text/html": [
       "<div>\n",
       "<style scoped>\n",
       "    .dataframe tbody tr th:only-of-type {\n",
       "        vertical-align: middle;\n",
       "    }\n",
       "\n",
       "    .dataframe tbody tr th {\n",
       "        vertical-align: top;\n",
       "    }\n",
       "\n",
       "    .dataframe thead th {\n",
       "        text-align: right;\n",
       "    }\n",
       "</style>\n",
       "<table border=\"1\" class=\"dataframe\">\n",
       "  <thead>\n",
       "    <tr style=\"text-align: right;\">\n",
       "      <th></th>\n",
       "      <th>universe_id</th>\n",
       "      <th>universe_training_year</th>\n",
       "      <th>universe_training_size</th>\n",
       "      <th>universe_scale</th>\n",
       "      <th>universe_model</th>\n",
       "      <th>universe_exclude_features</th>\n",
       "      <th>universe_exclude_subgroups</th>\n",
       "      <th>q_hat</th>\n",
       "      <th>coverage</th>\n",
       "      <th>avg_size</th>\n",
       "      <th>cov_frau1</th>\n",
       "      <th>cov_nongerman</th>\n",
       "      <th>cov_nongerman_male</th>\n",
       "      <th>cov_nongerman_female</th>\n",
       "    </tr>\n",
       "  </thead>\n",
       "  <tbody>\n",
       "    <tr>\n",
       "      <th>0</th>\n",
       "      <td>fe2fc8ae174c4630204dacd3b251d2fa</td>\n",
       "      <td>2014</td>\n",
       "      <td>25k</td>\n",
       "      <td>scale</td>\n",
       "      <td>logreg</td>\n",
       "      <td>nationality-sex</td>\n",
       "      <td>keep-all</td>\n",
       "      <td>0.675945</td>\n",
       "      <td>0.912641</td>\n",
       "      <td>1.125605</td>\n",
       "      <td>0.912549</td>\n",
       "      <td>0.912704</td>\n",
       "      <td>0.927407</td>\n",
       "      <td>0.888376</td>\n",
       "    </tr>\n",
       "  </tbody>\n",
       "</table>\n",
       "</div>"
      ],
      "text/plain": [
       "                        universe_id universe_training_year  \\\n",
       "0  fe2fc8ae174c4630204dacd3b251d2fa                   2014   \n",
       "\n",
       "  universe_training_size universe_scale universe_model  \\\n",
       "0                    25k          scale         logreg   \n",
       "\n",
       "  universe_exclude_features universe_exclude_subgroups     q_hat  coverage  \\\n",
       "0           nationality-sex                   keep-all  0.675945  0.912641   \n",
       "\n",
       "   avg_size  cov_frau1  cov_nongerman  cov_nongerman_male  \\\n",
       "0  1.125605   0.912549       0.912704            0.927407   \n",
       "\n",
       "   cov_nongerman_female  \n",
       "0              0.888376  "
      ]
     },
     "execution_count": 56,
     "metadata": {},
     "output_type": "execute_result"
    }
   ],
   "source": [
    "cp_metrics_df"
   ]
  },
  {
   "cell_type": "markdown",
   "id": "3fc519cc",
   "metadata": {
    "papermill": {
     "duration": 0.012875,
     "end_time": "2025-08-19T17:53:32.299704",
     "exception": false,
     "start_time": "2025-08-19T17:53:32.286829",
     "status": "completed"
    },
    "tags": []
   },
   "source": [
    "# (Fairness) Metrics"
   ]
  },
  {
   "cell_type": "code",
   "execution_count": 57,
   "id": "a2e5e155",
   "metadata": {
    "execution": {
     "iopub.execute_input": "2025-08-19T17:53:32.327746Z",
     "iopub.status.busy": "2025-08-19T17:53:32.326095Z",
     "iopub.status.idle": "2025-08-19T17:53:32.359857Z",
     "shell.execute_reply": "2025-08-19T17:53:32.359080Z"
    },
    "papermill": {
     "duration": 0.050169,
     "end_time": "2025-08-19T17:53:32.361975",
     "exception": false,
     "start_time": "2025-08-19T17:53:32.311806",
     "status": "completed"
    },
    "tags": []
   },
   "outputs": [],
   "source": [
    "colname_to_bin = \"maxdeutsch1\"\n",
    "majority_value = org_train[colname_to_bin].mode()[0]\n",
    "\n",
    "org_test[\"majmin\"] = np.where(org_test[colname_to_bin] == majority_value, \"majority\", \"minority\")"
   ]
  },
  {
   "cell_type": "code",
   "execution_count": 58,
   "id": "17e3e4d5",
   "metadata": {
    "execution": {
     "iopub.execute_input": "2025-08-19T17:53:32.402830Z",
     "iopub.status.busy": "2025-08-19T17:53:32.401557Z",
     "iopub.status.idle": "2025-08-19T17:53:34.199411Z",
     "shell.execute_reply": "2025-08-19T17:53:34.198130Z"
    },
    "papermill": {
     "duration": 1.818299,
     "end_time": "2025-08-19T17:53:34.204883",
     "exception": false,
     "start_time": "2025-08-19T17:53:32.386584",
     "status": "completed"
    },
    "tags": []
   },
   "outputs": [],
   "source": [
    "example_universe = universe.copy()\n",
    "example_universe[\"cutoff\"] = example_universe[\"cutoff\"][0]\n",
    "example_universe[\"eval_fairness_grouping\"] = example_universe[\"eval_fairness_grouping\"][0]\n",
    "fairness_dict, metric_frame = universe_analysis.compute_metrics(\n",
    "    example_universe,\n",
    "    y_pred_prob=probs_test,\n",
    "    y_test=y_true,\n",
    "    org_test=org_test,\n",
    ")"
   ]
  },
  {
   "cell_type": "markdown",
   "id": "1fb7a0e9",
   "metadata": {
    "papermill": {
     "duration": 0.012001,
     "end_time": "2025-08-19T17:53:34.229583",
     "exception": false,
     "start_time": "2025-08-19T17:53:34.217582",
     "status": "completed"
    },
    "tags": []
   },
   "source": [
    "# Overall"
   ]
  },
  {
   "cell_type": "markdown",
   "id": "be1784b1",
   "metadata": {
    "papermill": {
     "duration": 0.012054,
     "end_time": "2025-08-19T17:53:34.253703",
     "exception": false,
     "start_time": "2025-08-19T17:53:34.241649",
     "status": "completed"
    },
    "tags": []
   },
   "source": [
    "Main fairness target: Equalized Odds. Seems to be a better fit than equal opportunity, since we're not only interested in Y = 1. Seems to be a better fit than demographic parity, since we also care about accuracy, not just equal distribution of preds.\n",
    "\n",
    "Pick column for computation of fairness metrics\n",
    "\n",
    "Performance\n",
    "Overall performance measures, most interesting in relation to the measures split by group below"
   ]
  },
  {
   "cell_type": "code",
   "execution_count": 59,
   "id": "b7672bee",
   "metadata": {
    "execution": {
     "iopub.execute_input": "2025-08-19T17:53:34.279590Z",
     "iopub.status.busy": "2025-08-19T17:53:34.279118Z",
     "iopub.status.idle": "2025-08-19T17:53:34.287279Z",
     "shell.execute_reply": "2025-08-19T17:53:34.286516Z"
    },
    "papermill": {
     "duration": 0.022803,
     "end_time": "2025-08-19T17:53:34.288743",
     "exception": false,
     "start_time": "2025-08-19T17:53:34.265940",
     "status": "completed"
    },
    "tags": []
   },
   "outputs": [
    {
     "data": {
      "text/plain": [
       "accuracy                   0.225493\n",
       "balanced accuracy          0.551128\n",
       "f1                         0.246794\n",
       "precision                  0.140985\n",
       "false positive rate        0.886883\n",
       "false negative rate        0.010862\n",
       "selection rate             0.900000\n",
       "count                  89710.000000\n",
       "dtype: float64"
      ]
     },
     "execution_count": 59,
     "metadata": {},
     "output_type": "execute_result"
    }
   ],
   "source": [
    "metric_frame.overall"
   ]
  },
  {
   "cell_type": "markdown",
   "id": "d93333c9",
   "metadata": {
    "papermill": {
     "duration": 0.012424,
     "end_time": "2025-08-19T17:53:34.316744",
     "exception": false,
     "start_time": "2025-08-19T17:53:34.304320",
     "status": "completed"
    },
    "tags": []
   },
   "source": [
    "By Group"
   ]
  },
  {
   "cell_type": "code",
   "execution_count": 60,
   "id": "52256966",
   "metadata": {
    "execution": {
     "iopub.execute_input": "2025-08-19T17:53:34.342779Z",
     "iopub.status.busy": "2025-08-19T17:53:34.342340Z",
     "iopub.status.idle": "2025-08-19T17:53:34.362654Z",
     "shell.execute_reply": "2025-08-19T17:53:34.361791Z"
    },
    "papermill": {
     "duration": 0.035609,
     "end_time": "2025-08-19T17:53:34.364350",
     "exception": false,
     "start_time": "2025-08-19T17:53:34.328741",
     "status": "completed"
    },
    "tags": []
   },
   "outputs": [
    {
     "data": {
      "text/html": [
       "<div>\n",
       "<style scoped>\n",
       "    .dataframe tbody tr th:only-of-type {\n",
       "        vertical-align: middle;\n",
       "    }\n",
       "\n",
       "    .dataframe tbody tr th {\n",
       "        vertical-align: top;\n",
       "    }\n",
       "\n",
       "    .dataframe thead th {\n",
       "        text-align: right;\n",
       "    }\n",
       "</style>\n",
       "<table border=\"1\" class=\"dataframe\">\n",
       "  <thead>\n",
       "    <tr style=\"text-align: right;\">\n",
       "      <th></th>\n",
       "      <th>accuracy</th>\n",
       "      <th>balanced accuracy</th>\n",
       "      <th>f1</th>\n",
       "      <th>precision</th>\n",
       "      <th>false positive rate</th>\n",
       "      <th>false negative rate</th>\n",
       "      <th>selection rate</th>\n",
       "      <th>count</th>\n",
       "    </tr>\n",
       "    <tr>\n",
       "      <th>majmin</th>\n",
       "      <th></th>\n",
       "      <th></th>\n",
       "      <th></th>\n",
       "      <th></th>\n",
       "      <th></th>\n",
       "      <th></th>\n",
       "      <th></th>\n",
       "      <th></th>\n",
       "    </tr>\n",
       "  </thead>\n",
       "  <tbody>\n",
       "    <tr>\n",
       "      <th>majority</th>\n",
       "      <td>0.247188</td>\n",
       "      <td>0.561136</td>\n",
       "      <td>0.257493</td>\n",
       "      <td>0.148041</td>\n",
       "      <td>0.865584</td>\n",
       "      <td>0.012144</td>\n",
       "      <td>0.881741</td>\n",
       "      <td>69170.0</td>\n",
       "    </tr>\n",
       "    <tr>\n",
       "      <th>minority</th>\n",
       "      <td>0.152434</td>\n",
       "      <td>0.518423</td>\n",
       "      <td>0.212868</td>\n",
       "      <td>0.119196</td>\n",
       "      <td>0.957242</td>\n",
       "      <td>0.005912</td>\n",
       "      <td>0.961490</td>\n",
       "      <td>20540.0</td>\n",
       "    </tr>\n",
       "  </tbody>\n",
       "</table>\n",
       "</div>"
      ],
      "text/plain": [
       "          accuracy  balanced accuracy        f1  precision  \\\n",
       "majmin                                                       \n",
       "majority  0.247188           0.561136  0.257493   0.148041   \n",
       "minority  0.152434           0.518423  0.212868   0.119196   \n",
       "\n",
       "          false positive rate  false negative rate  selection rate    count  \n",
       "majmin                                                                       \n",
       "majority             0.865584             0.012144        0.881741  69170.0  \n",
       "minority             0.957242             0.005912        0.961490  20540.0  "
      ]
     },
     "execution_count": 60,
     "metadata": {},
     "output_type": "execute_result"
    }
   ],
   "source": [
    "metric_frame.by_group"
   ]
  },
  {
   "cell_type": "code",
   "execution_count": 61,
   "id": "6e6c20ae",
   "metadata": {
    "execution": {
     "iopub.execute_input": "2025-08-19T17:53:34.393429Z",
     "iopub.status.busy": "2025-08-19T17:53:34.393042Z",
     "iopub.status.idle": "2025-08-19T17:53:36.233744Z",
     "shell.execute_reply": "2025-08-19T17:53:36.232496Z"
    },
    "papermill": {
     "duration": 1.85567,
     "end_time": "2025-08-19T17:53:36.235219",
     "exception": false,
     "start_time": "2025-08-19T17:53:34.379549",
     "status": "completed"
    },
    "tags": []
   },
   "outputs": [
    {
     "data": {
      "text/plain": [
       "array([[<Axes: title={'center': 'accuracy'}, xlabel='majmin'>,\n",
       "        <Axes: title={'center': 'balanced accuracy'}, xlabel='majmin'>,\n",
       "        <Axes: title={'center': 'f1'}, xlabel='majmin'>],\n",
       "       [<Axes: title={'center': 'precision'}, xlabel='majmin'>,\n",
       "        <Axes: title={'center': 'false positive rate'}, xlabel='majmin'>,\n",
       "        <Axes: title={'center': 'false negative rate'}, xlabel='majmin'>],\n",
       "       [<Axes: title={'center': 'selection rate'}, xlabel='majmin'>,\n",
       "        <Axes: title={'center': 'count'}, xlabel='majmin'>,\n",
       "        <Axes: xlabel='majmin'>]], dtype=object)"
      ]
     },
     "execution_count": 61,
     "metadata": {},
     "output_type": "execute_result"
    },
    {
     "data": {
      "image/png": "[encoded data removed]",
      "text/plain": [
       "<Figure size 1200x800 with 9 Axes>"
      ]
     },
     "metadata": {},
     "output_type": "display_data"
    }
   ],
   "source": [
    "# In a graphic\n",
    "metric_frame.by_group.plot.bar(\n",
    "    subplots=True,\n",
    "    layout=[3, 3],\n",
    "    legend=False,\n",
    "    figsize=[12, 8],\n",
    "    title=\"Show all metrics\",\n",
    ")"
   ]
  },
  {
   "cell_type": "markdown",
   "id": "b2e433ae",
   "metadata": {
    "papermill": {
     "duration": 0.013974,
     "end_time": "2025-08-19T17:53:36.263973",
     "exception": false,
     "start_time": "2025-08-19T17:53:36.249999",
     "status": "completed"
    },
    "tags": []
   },
   "source": [
    "# Final Output"
   ]
  },
  {
   "cell_type": "code",
   "execution_count": 62,
   "id": "3871301e",
   "metadata": {
    "execution": {
     "iopub.execute_input": "2025-08-19T17:53:36.292663Z",
     "iopub.status.busy": "2025-08-19T17:53:36.291824Z",
     "iopub.status.idle": "2025-08-19T17:53:36.301449Z",
     "shell.execute_reply": "2025-08-19T17:53:36.300790Z"
    },
    "papermill": {
     "duration": 0.025338,
     "end_time": "2025-08-19T17:53:36.302664",
     "exception": false,
     "start_time": "2025-08-19T17:53:36.277326",
     "status": "completed"
    },
    "tags": []
   },
   "outputs": [
    {
     "data": {
      "text/plain": [
       "4"
      ]
     },
     "execution_count": 62,
     "metadata": {},
     "output_type": "execute_result"
    }
   ],
   "source": [
    "sub_universes = universe_analysis.generate_sub_universes()\n",
    "len(sub_universes)"
   ]
  },
  {
   "cell_type": "code",
   "execution_count": 63,
   "id": "d9cfdaca",
   "metadata": {
    "execution": {
     "iopub.execute_input": "2025-08-19T17:53:36.351525Z",
     "iopub.status.busy": "2025-08-19T17:53:36.350229Z",
     "iopub.status.idle": "2025-08-19T17:53:36.358936Z",
     "shell.execute_reply": "2025-08-19T17:53:36.357869Z"
    },
    "papermill": {
     "duration": 0.026287,
     "end_time": "2025-08-19T17:53:36.360301",
     "exception": false,
     "start_time": "2025-08-19T17:53:36.334014",
     "status": "completed"
    },
    "tags": []
   },
   "outputs": [],
   "source": [
    "def filter_sub_universe_data(sub_universe, org_test):\n",
    "    # Keep all rows — no filtering\n",
    "    keep_rows_mask = np.ones(org_test.shape[0], dtype=bool)\n",
    "\n",
    "    print(f\"[INFO] Keeping all rows: {keep_rows_mask.sum()} rows retained.\")\n",
    "    return keep_rows_mask"
   ]
  },
  {
   "cell_type": "code",
   "execution_count": 64,
   "id": "2bc31ac1",
   "metadata": {
    "execution": {
     "iopub.execute_input": "2025-08-19T17:53:36.398966Z",
     "iopub.status.busy": "2025-08-19T17:53:36.397604Z",
     "iopub.status.idle": "2025-08-19T17:53:42.985990Z",
     "shell.execute_reply": "2025-08-19T17:53:42.985142Z"
    },
    "papermill": {
     "duration": 6.608011,
     "end_time": "2025-08-19T17:53:42.987359",
     "exception": false,
     "start_time": "2025-08-19T17:53:36.379348",
     "status": "completed"
    },
    "tags": []
   },
   "outputs": [
    {
     "name": "stdout",
     "output_type": "stream",
     "text": [
      "Stopping execution_time clock.\n",
      "[INFO] Keeping all rows: 89710 rows retained.\n"
     ]
    },
    {
     "name": "stdout",
     "output_type": "stream",
     "text": [
      "[INFO] Keeping all rows: 89710 rows retained.\n"
     ]
    },
    {
     "name": "stdout",
     "output_type": "stream",
     "text": [
      "[INFO] Keeping all rows: 89710 rows retained.\n"
     ]
    },
    {
     "name": "stdout",
     "output_type": "stream",
     "text": [
      "[INFO] Keeping all rows: 89710 rows retained.\n"
     ]
    },
    {
     "data": {
      "text/html": [
       "<div>\n",
       "<style scoped>\n",
       "    .dataframe tbody tr th:only-of-type {\n",
       "        vertical-align: middle;\n",
       "    }\n",
       "\n",
       "    .dataframe tbody tr th {\n",
       "        vertical-align: top;\n",
       "    }\n",
       "\n",
       "    .dataframe thead th {\n",
       "        text-align: right;\n",
       "    }\n",
       "</style>\n",
       "<table border=\"1\" class=\"dataframe\">\n",
       "  <thead>\n",
       "    <tr style=\"text-align: right;\">\n",
       "      <th></th>\n",
       "      <th>run_no</th>\n",
       "      <th>universe_id</th>\n",
       "      <th>universe_settings</th>\n",
       "      <th>execution_time</th>\n",
       "      <th>test_size_n</th>\n",
       "      <th>test_size_frac</th>\n",
       "      <th>fair_main_equalized_odds_difference</th>\n",
       "      <th>fair_main_equalized_odds_ratio</th>\n",
       "      <th>fair_main_demographic_parity_difference</th>\n",
       "      <th>fair_main_demographic_parity_ratio</th>\n",
       "      <th>...</th>\n",
       "      <th>perf_grp_precision_0</th>\n",
       "      <th>perf_grp_precision_1</th>\n",
       "      <th>perf_grp_false positive rate_0</th>\n",
       "      <th>perf_grp_false positive rate_1</th>\n",
       "      <th>perf_grp_false negative rate_0</th>\n",
       "      <th>perf_grp_false negative rate_1</th>\n",
       "      <th>perf_grp_selection rate_0</th>\n",
       "      <th>perf_grp_selection rate_1</th>\n",
       "      <th>perf_grp_count_0</th>\n",
       "      <th>perf_grp_count_1</th>\n",
       "    </tr>\n",
       "  </thead>\n",
       "  <tbody>\n",
       "    <tr>\n",
       "      <th>0</th>\n",
       "      <td>3</td>\n",
       "      <td>fe2fc8ae174c4630204dacd3b251d2fa</td>\n",
       "      <td>{\"cutoff\": \"quantile_0.1\", \"eval_fairness_grou...</td>\n",
       "      <td>22.984244</td>\n",
       "      <td>89710</td>\n",
       "      <td>1.0</td>\n",
       "      <td>0.091658</td>\n",
       "      <td>0.904248</td>\n",
       "      <td>0.079749</td>\n",
       "      <td>0.917057</td>\n",
       "      <td>...</td>\n",
       "      <td>NaN</td>\n",
       "      <td>NaN</td>\n",
       "      <td>NaN</td>\n",
       "      <td>NaN</td>\n",
       "      <td>NaN</td>\n",
       "      <td>NaN</td>\n",
       "      <td>NaN</td>\n",
       "      <td>NaN</td>\n",
       "      <td>NaN</td>\n",
       "      <td>NaN</td>\n",
       "    </tr>\n",
       "    <tr>\n",
       "      <th>0</th>\n",
       "      <td>3</td>\n",
       "      <td>fe2fc8ae174c4630204dacd3b251d2fa</td>\n",
       "      <td>{\"cutoff\": \"quantile_0.1\", \"eval_fairness_grou...</td>\n",
       "      <td>22.984244</td>\n",
       "      <td>89710</td>\n",
       "      <td>1.0</td>\n",
       "      <td>0.091658</td>\n",
       "      <td>0.904248</td>\n",
       "      <td>0.079749</td>\n",
       "      <td>0.917057</td>\n",
       "      <td>...</td>\n",
       "      <td>0.119196</td>\n",
       "      <td>0.148041</td>\n",
       "      <td>0.957242</td>\n",
       "      <td>0.865584</td>\n",
       "      <td>0.005912</td>\n",
       "      <td>0.012144</td>\n",
       "      <td>0.961490</td>\n",
       "      <td>0.881741</td>\n",
       "      <td>20540.0</td>\n",
       "      <td>69170.0</td>\n",
       "    </tr>\n",
       "    <tr>\n",
       "      <th>0</th>\n",
       "      <td>3</td>\n",
       "      <td>fe2fc8ae174c4630204dacd3b251d2fa</td>\n",
       "      <td>{\"cutoff\": \"quantile_0.25\", \"eval_fairness_gro...</td>\n",
       "      <td>22.984244</td>\n",
       "      <td>89710</td>\n",
       "      <td>1.0</td>\n",
       "      <td>0.169885</td>\n",
       "      <td>0.800275</td>\n",
       "      <td>0.147445</td>\n",
       "      <td>0.829283</td>\n",
       "      <td>...</td>\n",
       "      <td>NaN</td>\n",
       "      <td>NaN</td>\n",
       "      <td>NaN</td>\n",
       "      <td>NaN</td>\n",
       "      <td>NaN</td>\n",
       "      <td>NaN</td>\n",
       "      <td>NaN</td>\n",
       "      <td>NaN</td>\n",
       "      <td>NaN</td>\n",
       "      <td>NaN</td>\n",
       "    </tr>\n",
       "    <tr>\n",
       "      <th>0</th>\n",
       "      <td>3</td>\n",
       "      <td>fe2fc8ae174c4630204dacd3b251d2fa</td>\n",
       "      <td>{\"cutoff\": \"quantile_0.25\", \"eval_fairness_gro...</td>\n",
       "      <td>22.984244</td>\n",
       "      <td>89710</td>\n",
       "      <td>1.0</td>\n",
       "      <td>0.169885</td>\n",
       "      <td>0.800275</td>\n",
       "      <td>0.147445</td>\n",
       "      <td>0.829283</td>\n",
       "      <td>...</td>\n",
       "      <td>0.128692</td>\n",
       "      <td>0.175185</td>\n",
       "      <td>0.850594</td>\n",
       "      <td>0.680710</td>\n",
       "      <td>0.035895</td>\n",
       "      <td>0.050438</td>\n",
       "      <td>0.863681</td>\n",
       "      <td>0.716235</td>\n",
       "      <td>20540.0</td>\n",
       "      <td>69170.0</td>\n",
       "    </tr>\n",
       "  </tbody>\n",
       "</table>\n",
       "<p>4 rows × 50 columns</p>\n",
       "</div>"
      ],
      "text/plain": [
       "  run_no                       universe_id  \\\n",
       "0      3  fe2fc8ae174c4630204dacd3b251d2fa   \n",
       "0      3  fe2fc8ae174c4630204dacd3b251d2fa   \n",
       "0      3  fe2fc8ae174c4630204dacd3b251d2fa   \n",
       "0      3  fe2fc8ae174c4630204dacd3b251d2fa   \n",
       "\n",
       "                                   universe_settings  execution_time  \\\n",
       "0  {\"cutoff\": \"quantile_0.1\", \"eval_fairness_grou...       22.984244   \n",
       "0  {\"cutoff\": \"quantile_0.1\", \"eval_fairness_grou...       22.984244   \n",
       "0  {\"cutoff\": \"quantile_0.25\", \"eval_fairness_gro...       22.984244   \n",
       "0  {\"cutoff\": \"quantile_0.25\", \"eval_fairness_gro...       22.984244   \n",
       "\n",
       "   test_size_n  test_size_frac  fair_main_equalized_odds_difference  \\\n",
       "0        89710             1.0                             0.091658   \n",
       "0        89710             1.0                             0.091658   \n",
       "0        89710             1.0                             0.169885   \n",
       "0        89710             1.0                             0.169885   \n",
       "\n",
       "   fair_main_equalized_odds_ratio  fair_main_demographic_parity_difference  \\\n",
       "0                        0.904248                                 0.079749   \n",
       "0                        0.904248                                 0.079749   \n",
       "0                        0.800275                                 0.147445   \n",
       "0                        0.800275                                 0.147445   \n",
       "\n",
       "   fair_main_demographic_parity_ratio  ...  perf_grp_precision_0  \\\n",
       "0                            0.917057  ...                   NaN   \n",
       "0                            0.917057  ...              0.119196   \n",
       "0                            0.829283  ...                   NaN   \n",
       "0                            0.829283  ...              0.128692   \n",
       "\n",
       "   perf_grp_precision_1  perf_grp_false positive rate_0  \\\n",
       "0                   NaN                             NaN   \n",
       "0              0.148041                        0.957242   \n",
       "0                   NaN                             NaN   \n",
       "0              0.175185                        0.850594   \n",
       "\n",
       "   perf_grp_false positive rate_1  perf_grp_false negative rate_0  \\\n",
       "0                             NaN                             NaN   \n",
       "0                        0.865584                        0.005912   \n",
       "0                             NaN                             NaN   \n",
       "0                        0.680710                        0.035895   \n",
       "\n",
       "   perf_grp_false negative rate_1  perf_grp_selection rate_0  \\\n",
       "0                             NaN                        NaN   \n",
       "0                        0.012144                   0.961490   \n",
       "0                             NaN                        NaN   \n",
       "0                        0.050438                   0.863681   \n",
       "\n",
       "   perf_grp_selection rate_1  perf_grp_count_0  perf_grp_count_1  \n",
       "0                        NaN               NaN               NaN  \n",
       "0                   0.881741           20540.0           69170.0  \n",
       "0                        NaN               NaN               NaN  \n",
       "0                   0.716235           20540.0           69170.0  \n",
       "\n",
       "[4 rows x 50 columns]"
      ]
     },
     "execution_count": 64,
     "metadata": {},
     "output_type": "execute_result"
    }
   ],
   "source": [
    "final_output = universe_analysis.generate_final_output(\n",
    "    y_pred_prob=probs_test,\n",
    "    y_test=y_true,\n",
    "    org_test=org_test,\n",
    "    filter_data=filter_sub_universe_data,\n",
    "    cp_metrics_df=cp_metrics_df,\n",
    "    save=True,\n",
    ")\n",
    "final_output"
   ]
  },
  {
   "cell_type": "code",
   "execution_count": null,
   "id": "8b80a1ff",
   "metadata": {
    "papermill": {
     "duration": 0.029392,
     "end_time": "2025-08-19T17:53:43.038409",
     "exception": false,
     "start_time": "2025-08-19T17:53:43.009017",
     "status": "completed"
    },
    "tags": []
   },
   "outputs": [],
   "source": []
  },
  {
   "cell_type": "code",
   "execution_count": null,
   "id": "275c9fad",
   "metadata": {
    "papermill": {
     "duration": 0.014364,
     "end_time": "2025-08-19T17:53:43.068280",
     "exception": false,
     "start_time": "2025-08-19T17:53:43.053916",
     "status": "completed"
    },
    "tags": []
   },
   "outputs": [],
   "source": []
  }
 ],
 "metadata": {
  "celltoolbar": "Tags",
  "kernelspec": {
   "display_name": "Python (CMA Fairness)",
   "language": "python",
   "name": "cma_fair_env"
  },
  "language_info": {
   "codemirror_mode": {
    "name": "ipython",
    "version": 3
   },
   "file_extension": ".py",
   "mimetype": "text/x-python",
   "name": "python",
   "nbconvert_exporter": "python",
   "pygments_lexer": "ipython3",
   "version": "3.10.12"
  },
  "papermill": {
   "default_parameters": {},
   "duration": 33.94012,
   "end_time": "2025-08-19T17:53:43.803502",
   "environment_variables": {},
   "exception": null,
   "input_path": "universe_analysis.ipynb",
   "output_path": "output/runs/3/notebooks/m_3-fe2fc8ae174c4630204dacd3b251d2fa.ipynb",
   "parameters": {
    "output_dir": "output",
    "run_no": "3",
    "seed": "2023",
    "universe": "{\"cutoff\": [\"quantile_0.1\", \"quantile_0.25\"], \"eval_fairness_grouping\": [\"majority-minority\", \"nationality-all\"], \"exclude_features\": \"nationality-sex\", \"exclude_subgroups\": \"keep-all\", \"model\": \"logreg\", \"scale\": \"scale\", \"training_size\": \"25k\", \"training_year\": \"2014\"}",
    "universe_id": "fe2fc8ae174c4630204dacd3b251d2fa"
   },
   "start_time": "2025-08-19T17:53:09.863382",
   "version": "2.6.0"
  }
 },
 "nbformat": 4,
 "nbformat_minor": 5
}