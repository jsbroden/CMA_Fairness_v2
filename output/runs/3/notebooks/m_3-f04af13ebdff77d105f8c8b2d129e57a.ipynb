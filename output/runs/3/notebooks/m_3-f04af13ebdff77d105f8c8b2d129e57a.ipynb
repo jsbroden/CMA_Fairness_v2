{
 "cells": [
  {
   "cell_type": "markdown",
   "id": "ef23dbb3",
   "metadata": {
    "papermill": {
     "duration": 0.024202,
     "end_time": "2025-08-19T18:58:08.772173",
     "exception": false,
     "start_time": "2025-08-19T18:58:08.747971",
     "status": "completed"
    },
    "tags": []
   },
   "source": [
    "# Setup"
   ]
  },
  {
   "cell_type": "code",
   "execution_count": 1,
   "id": "0bc8e7dc",
   "metadata": {
    "execution": {
     "iopub.execute_input": "2025-08-19T18:58:08.793657Z",
     "iopub.status.busy": "2025-08-19T18:58:08.793183Z",
     "iopub.status.idle": "2025-08-19T18:58:08.803694Z",
     "shell.execute_reply": "2025-08-19T18:58:08.802596Z"
    },
    "papermill": {
     "duration": 0.022162,
     "end_time": "2025-08-19T18:58:08.805640",
     "exception": false,
     "start_time": "2025-08-19T18:58:08.783478",
     "status": "completed"
    },
    "tags": []
   },
   "outputs": [
    {
     "name": "stdout",
     "output_type": "stream",
     "text": [
      "/dss/dsshome1/0C/ra93lal2/cma/CMA_Fairness_v2\n"
     ]
    },
    {
     "name": "stderr",
     "output_type": "stream",
     "text": [
      "/dss/dsshome1/0C/ra93lal2/.local/share/virtualenvs/CMA_Fairness_v2-3j10GkSs/lib/python3.10/site-packages/IPython/core/magics/osm.py:393: UserWarning: This is now an optional IPython functionality, using bookmarks requires you to install the `pickleshare` library.\n",
      "  bkms = self.shell.db.get('bookmarks', {})\n",
      "/dss/dsshome1/0C/ra93lal2/.local/share/virtualenvs/CMA_Fairness_v2-3j10GkSs/lib/python3.10/site-packages/IPython/core/magics/osm.py:417: UserWarning: This is now an optional IPython functionality, setting dhist requires you to install the `pickleshare` library.\n",
      "  self.shell.db['dhist'] = compress_dhist(dhist)[-100:]\n"
     ]
    }
   ],
   "source": [
    "%cd ~/cma/CMA_Fairness_v2"
   ]
  },
  {
   "cell_type": "markdown",
   "id": "9d235661",
   "metadata": {
    "papermill": {
     "duration": 0.008919,
     "end_time": "2025-08-19T18:58:08.824399",
     "exception": false,
     "start_time": "2025-08-19T18:58:08.815480",
     "status": "completed"
    },
    "tags": []
   },
   "source": [
    "The following cell holds the definition of our parameters, these values can be overriden by rendering the with e.g. the following command:\n",
    "\n",
    "papermill -p alpha 0.2 -p ratio 0.3 universe_analysis.ipynb output/test_run.ipynb"
   ]
  },
  {
   "cell_type": "code",
   "execution_count": 2,
   "id": "4a789d8e",
   "metadata": {
    "execution": {
     "iopub.execute_input": "2025-08-19T18:58:08.843914Z",
     "iopub.status.busy": "2025-08-19T18:58:08.843603Z",
     "iopub.status.idle": "2025-08-19T18:58:08.851279Z",
     "shell.execute_reply": "2025-08-19T18:58:08.849563Z"
    },
    "papermill": {
     "duration": 0.021368,
     "end_time": "2025-08-19T18:58:08.854791",
     "exception": false,
     "start_time": "2025-08-19T18:58:08.833423",
     "status": "completed"
    },
    "tags": []
   },
   "outputs": [
    {
     "name": "stdout",
     "output_type": "stream",
     "text": [
      "Current working directory: /dss/dsshome1/0C/ra93lal2/cma/CMA_Fairness_v2\n"
     ]
    }
   ],
   "source": [
    "import os\n",
    "print(\"Current working directory:\", os.getcwd())"
   ]
  },
  {
   "cell_type": "code",
   "execution_count": 3,
   "id": "4132aaed",
   "metadata": {
    "execution": {
     "iopub.execute_input": "2025-08-19T18:58:08.876381Z",
     "iopub.status.busy": "2025-08-19T18:58:08.874904Z",
     "iopub.status.idle": "2025-08-19T18:58:08.882296Z",
     "shell.execute_reply": "2025-08-19T18:58:08.881231Z"
    },
    "papermill": {
     "duration": 0.019368,
     "end_time": "2025-08-19T18:58:08.883701",
     "exception": false,
     "start_time": "2025-08-19T18:58:08.864333",
     "status": "completed"
    },
    "tags": [
     "parameters"
    ]
   },
   "outputs": [],
   "source": [
    "run_no = 0\n",
    "universe_id = \"test\"\n",
    "universe = {\n",
    "    \"training_size\": \"5k\", # \"25k\", \"5k\", \"1k\"\n",
    "    \"training_year\": \"2012_14\", # \"2014\", \"2012_14\", \"2010_14\"\n",
    "    \"scale\": \"scale\", # \"scale\", \"do-not-scale\",\n",
    "    \"model\": \"elasticnet\", # \"logreg\", \"penalized_logreg\", \"rf\", \"gbm\", \"elasticnet\"\n",
    "    \"cutoff\": [\"quantile_0.15\", \"quantile_0.30\"],\n",
    "    \"exclude_features\": \"age\", # \"none\", \"nationality\", \"sex\", \"nationality-sex\", \"age\"\n",
    "    \"exclude_subgroups\": \"drop-non-german\", # \"keep-all\", \"drop-non-german\"\n",
    "    \"eval_fairness_grouping\": [\"majority-minority\", \"nationality-all\"]\n",
    "}\n",
    "\n",
    "output_dir=\"./output\"\n",
    "seed=0"
   ]
  },
  {
   "cell_type": "code",
   "execution_count": 4,
   "id": "ddbb9598",
   "metadata": {
    "execution": {
     "iopub.execute_input": "2025-08-19T18:58:08.908015Z",
     "iopub.status.busy": "2025-08-19T18:58:08.906888Z",
     "iopub.status.idle": "2025-08-19T18:58:08.915863Z",
     "shell.execute_reply": "2025-08-19T18:58:08.914195Z"
    },
    "papermill": {
     "duration": 0.022279,
     "end_time": "2025-08-19T18:58:08.917598",
     "exception": false,
     "start_time": "2025-08-19T18:58:08.895319",
     "status": "completed"
    },
    "tags": [
     "injected-parameters"
    ]
   },
   "outputs": [],
   "source": [
    "# Parameters\n",
    "universe_id = \"f04af13ebdff77d105f8c8b2d129e57a\"\n",
    "run_no = \"3\"\n",
    "universe = \"{\\\"cutoff\\\": [\\\"quantile_0.1\\\", \\\"quantile_0.25\\\"], \\\"eval_fairness_grouping\\\": [\\\"majority-minority\\\", \\\"nationality-all\\\"], \\\"exclude_features\\\": \\\"nationality\\\", \\\"exclude_subgroups\\\": \\\"keep-all\\\", \\\"model\\\": \\\"rf\\\", \\\"scale\\\": \\\"scale\\\", \\\"training_size\\\": \\\"1k\\\", \\\"training_year\\\": \\\"2012_14\\\"}\"\n",
    "output_dir = \"output\"\n",
    "seed = \"2023\"\n"
   ]
  },
  {
   "cell_type": "code",
   "execution_count": 5,
   "id": "a5d7941f",
   "metadata": {
    "execution": {
     "iopub.execute_input": "2025-08-19T18:58:08.944025Z",
     "iopub.status.busy": "2025-08-19T18:58:08.942318Z",
     "iopub.status.idle": "2025-08-19T18:58:08.950906Z",
     "shell.execute_reply": "2025-08-19T18:58:08.949284Z"
    },
    "papermill": {
     "duration": 0.021999,
     "end_time": "2025-08-19T18:58:08.952323",
     "exception": false,
     "start_time": "2025-08-19T18:58:08.930324",
     "status": "completed"
    },
    "tags": []
   },
   "outputs": [],
   "source": [
    "import json\n",
    "if isinstance(universe, str):\n",
    "    universe = json.loads(universe)"
   ]
  },
  {
   "cell_type": "code",
   "execution_count": 6,
   "id": "7076ccb1",
   "metadata": {
    "execution": {
     "iopub.execute_input": "2025-08-19T18:58:08.976204Z",
     "iopub.status.busy": "2025-08-19T18:58:08.975110Z",
     "iopub.status.idle": "2025-08-19T18:58:09.027294Z",
     "shell.execute_reply": "2025-08-19T18:58:09.026653Z"
    },
    "papermill": {
     "duration": 0.064484,
     "end_time": "2025-08-19T18:58:09.028657",
     "exception": false,
     "start_time": "2025-08-19T18:58:08.964173",
     "status": "completed"
    },
    "tags": []
   },
   "outputs": [],
   "source": [
    "# Auto-reload the custom package\n",
    "%load_ext autoreload\n",
    "%autoreload 1\n",
    "%aimport fairness_multiverse"
   ]
  },
  {
   "cell_type": "code",
   "execution_count": 7,
   "id": "94c8eb93",
   "metadata": {
    "execution": {
     "iopub.execute_input": "2025-08-19T18:58:09.050214Z",
     "iopub.status.busy": "2025-08-19T18:58:09.048361Z",
     "iopub.status.idle": "2025-08-19T18:58:10.658738Z",
     "shell.execute_reply": "2025-08-19T18:58:10.657746Z"
    },
    "papermill": {
     "duration": 1.622501,
     "end_time": "2025-08-19T18:58:10.660635",
     "exception": false,
     "start_time": "2025-08-19T18:58:09.038134",
     "status": "completed"
    },
    "tags": []
   },
   "outputs": [],
   "source": [
    "from fairness_multiverse.universe import UniverseAnalysis\n",
    "\n",
    "universe_analysis = UniverseAnalysis(\n",
    "    run_no = run_no,\n",
    "    universe_id = universe_id,\n",
    "    universe = universe,\n",
    "    output_dir=output_dir,\n",
    ")"
   ]
  },
  {
   "cell_type": "code",
   "execution_count": 8,
   "id": "2a6381cf",
   "metadata": {
    "execution": {
     "iopub.execute_input": "2025-08-19T18:58:10.686319Z",
     "iopub.status.busy": "2025-08-19T18:58:10.685292Z",
     "iopub.status.idle": "2025-08-19T18:58:10.695383Z",
     "shell.execute_reply": "2025-08-19T18:58:10.694050Z"
    },
    "papermill": {
     "duration": 0.024498,
     "end_time": "2025-08-19T18:58:10.697088",
     "exception": false,
     "start_time": "2025-08-19T18:58:10.672590",
     "status": "completed"
    },
    "tags": []
   },
   "outputs": [
    {
     "name": "stdout",
     "output_type": "stream",
     "text": [
      "Using Seed: 2023\n"
     ]
    }
   ],
   "source": [
    "import numpy as np\n",
    "parsed_seed = int(seed)\n",
    "np.random.seed(parsed_seed)\n",
    "print(f\"Using Seed: {parsed_seed}\")"
   ]
  },
  {
   "cell_type": "markdown",
   "id": "b6e958b4",
   "metadata": {
    "papermill": {
     "duration": 0.009375,
     "end_time": "2025-08-19T18:58:10.719682",
     "exception": false,
     "start_time": "2025-08-19T18:58:10.710307",
     "status": "completed"
    },
    "tags": []
   },
   "source": [
    "# Loading Data"
   ]
  },
  {
   "cell_type": "code",
   "execution_count": 9,
   "id": "98701482",
   "metadata": {
    "execution": {
     "iopub.execute_input": "2025-08-19T18:58:10.761463Z",
     "iopub.status.busy": "2025-08-19T18:58:10.754999Z",
     "iopub.status.idle": "2025-08-19T18:58:21.050343Z",
     "shell.execute_reply": "2025-08-19T18:58:21.049269Z"
    },
    "papermill": {
     "duration": 10.322677,
     "end_time": "2025-08-19T18:58:21.051732",
     "exception": false,
     "start_time": "2025-08-19T18:58:10.729055",
     "status": "completed"
    },
    "tags": []
   },
   "outputs": [
    {
     "name": "stdout",
     "output_type": "stream",
     "text": [
      "Loading SIAB data from cache: data/siab_cached.csv.gz\n"
     ]
    },
    {
     "name": "stdout",
     "output_type": "stream",
     "text": [
      "(643690, 164)\n"
     ]
    }
   ],
   "source": [
    "from pathlib import Path\n",
    "import pandas as pd\n",
    "\n",
    "# File paths\n",
    "raw_file = Path(\"data/raw/siab.csv\")\n",
    "cache_file = Path(\"data/siab_cached.csv.gz\")\n",
    "\n",
    "# Ensure cache directory exists\n",
    "cache_file.parent.mkdir(parents=True, exist_ok=True)\n",
    "\n",
    "# Load with simple caching\n",
    "if cache_file.exists():\n",
    "    print(f\"Loading SIAB data from cache: {cache_file}\")\n",
    "    siab = pd.read_csv(cache_file, compression='gzip')\n",
    "else:\n",
    "    print(f\"Cache not found. Reading raw SIAB data: {raw_file}\")\n",
    "    siab = pd.read_csv(raw_file)\n",
    "    siab.to_csv(cache_file, index=False, compression='gzip')\n",
    "    print(f\"Cached SIAB data to: {cache_file}\")\n",
    "\n",
    "print(siab.shape)"
   ]
  },
  {
   "cell_type": "code",
   "execution_count": 10,
   "id": "058d2abb",
   "metadata": {
    "execution": {
     "iopub.execute_input": "2025-08-19T18:58:21.076147Z",
     "iopub.status.busy": "2025-08-19T18:58:21.075586Z",
     "iopub.status.idle": "2025-08-19T18:58:21.205334Z",
     "shell.execute_reply": "2025-08-19T18:58:21.204451Z"
    },
    "papermill": {
     "duration": 0.14365,
     "end_time": "2025-08-19T18:58:21.208051",
     "exception": false,
     "start_time": "2025-08-19T18:58:21.064401",
     "status": "completed"
    },
    "tags": []
   },
   "outputs": [
    {
     "data": {
      "text/html": [
       "<div>\n",
       "<style scoped>\n",
       "    .dataframe tbody tr th:only-of-type {\n",
       "        vertical-align: middle;\n",
       "    }\n",
       "\n",
       "    .dataframe tbody tr th {\n",
       "        vertical-align: top;\n",
       "    }\n",
       "\n",
       "    .dataframe thead th {\n",
       "        text-align: right;\n",
       "    }\n",
       "</style>\n",
       "<table border=\"1\" class=\"dataframe\">\n",
       "  <thead>\n",
       "    <tr style=\"text-align: right;\">\n",
       "      <th></th>\n",
       "      <th>persnr</th>\n",
       "      <th>year</th>\n",
       "      <th>nrEntry</th>\n",
       "      <th>ltue</th>\n",
       "      <th>employed_before</th>\n",
       "      <th>receipt_leh_before</th>\n",
       "      <th>receipt_lhg_before</th>\n",
       "      <th>se_before</th>\n",
       "      <th>ASU_notue_seeking_before</th>\n",
       "      <th>ASU_other_before</th>\n",
       "      <th>...</th>\n",
       "      <th>minijob_tot_dur_byage</th>\n",
       "      <th>ft_tot_dur_byage</th>\n",
       "      <th>befrist_tot_dur_byage</th>\n",
       "      <th>leih_tot_dur_byage</th>\n",
       "      <th>LHG_tot_dur_byage</th>\n",
       "      <th>LEH_tot_dur_byage</th>\n",
       "      <th>almp_tot_dur_byage</th>\n",
       "      <th>almp_aw_tot_dur_byage</th>\n",
       "      <th>se_tot_dur_byage</th>\n",
       "      <th>seeking1_tot_dur_byage</th>\n",
       "    </tr>\n",
       "  </thead>\n",
       "  <tbody>\n",
       "    <tr>\n",
       "      <th>0</th>\n",
       "      <td>7</td>\n",
       "      <td>2015</td>\n",
       "      <td>1</td>\n",
       "      <td>0</td>\n",
       "      <td>1</td>\n",
       "      <td>0</td>\n",
       "      <td>0</td>\n",
       "      <td>0</td>\n",
       "      <td>1</td>\n",
       "      <td>0</td>\n",
       "      <td>...</td>\n",
       "      <td>0.000000</td>\n",
       "      <td>0.000000</td>\n",
       "      <td>15.043478</td>\n",
       "      <td>0.000000</td>\n",
       "      <td>0.000000</td>\n",
       "      <td>0.000000</td>\n",
       "      <td>0.000000</td>\n",
       "      <td>0.000000</td>\n",
       "      <td>0.000000</td>\n",
       "      <td>0.000000</td>\n",
       "    </tr>\n",
       "    <tr>\n",
       "      <th>1</th>\n",
       "      <td>18</td>\n",
       "      <td>2010</td>\n",
       "      <td>1</td>\n",
       "      <td>1</td>\n",
       "      <td>0</td>\n",
       "      <td>0</td>\n",
       "      <td>0</td>\n",
       "      <td>0</td>\n",
       "      <td>0</td>\n",
       "      <td>0</td>\n",
       "      <td>...</td>\n",
       "      <td>0.000000</td>\n",
       "      <td>0.000000</td>\n",
       "      <td>0.000000</td>\n",
       "      <td>0.000000</td>\n",
       "      <td>0.000000</td>\n",
       "      <td>0.000000</td>\n",
       "      <td>0.000000</td>\n",
       "      <td>0.000000</td>\n",
       "      <td>0.000000</td>\n",
       "      <td>0.000000</td>\n",
       "    </tr>\n",
       "    <tr>\n",
       "      <th>2</th>\n",
       "      <td>18</td>\n",
       "      <td>2011</td>\n",
       "      <td>2</td>\n",
       "      <td>0</td>\n",
       "      <td>1</td>\n",
       "      <td>0</td>\n",
       "      <td>1</td>\n",
       "      <td>0</td>\n",
       "      <td>1</td>\n",
       "      <td>0</td>\n",
       "      <td>...</td>\n",
       "      <td>2.714286</td>\n",
       "      <td>2.714286</td>\n",
       "      <td>0.000000</td>\n",
       "      <td>0.000000</td>\n",
       "      <td>10.775510</td>\n",
       "      <td>0.000000</td>\n",
       "      <td>8.367347</td>\n",
       "      <td>0.000000</td>\n",
       "      <td>0.000000</td>\n",
       "      <td>9.836735</td>\n",
       "    </tr>\n",
       "    <tr>\n",
       "      <th>3</th>\n",
       "      <td>18</td>\n",
       "      <td>2012</td>\n",
       "      <td>3</td>\n",
       "      <td>0</td>\n",
       "      <td>1</td>\n",
       "      <td>0</td>\n",
       "      <td>1</td>\n",
       "      <td>0</td>\n",
       "      <td>1</td>\n",
       "      <td>0</td>\n",
       "      <td>...</td>\n",
       "      <td>4.200000</td>\n",
       "      <td>4.200000</td>\n",
       "      <td>0.000000</td>\n",
       "      <td>0.000000</td>\n",
       "      <td>12.100000</td>\n",
       "      <td>0.000000</td>\n",
       "      <td>9.400000</td>\n",
       "      <td>0.000000</td>\n",
       "      <td>0.000000</td>\n",
       "      <td>9.960000</td>\n",
       "    </tr>\n",
       "    <tr>\n",
       "      <th>4</th>\n",
       "      <td>18</td>\n",
       "      <td>2012</td>\n",
       "      <td>4</td>\n",
       "      <td>0</td>\n",
       "      <td>1</td>\n",
       "      <td>0</td>\n",
       "      <td>1</td>\n",
       "      <td>0</td>\n",
       "      <td>1</td>\n",
       "      <td>0</td>\n",
       "      <td>...</td>\n",
       "      <td>5.460000</td>\n",
       "      <td>5.460000</td>\n",
       "      <td>0.000000</td>\n",
       "      <td>0.000000</td>\n",
       "      <td>13.360000</td>\n",
       "      <td>0.000000</td>\n",
       "      <td>10.320000</td>\n",
       "      <td>0.000000</td>\n",
       "      <td>0.000000</td>\n",
       "      <td>10.280000</td>\n",
       "    </tr>\n",
       "    <tr>\n",
       "      <th>...</th>\n",
       "      <td>...</td>\n",
       "      <td>...</td>\n",
       "      <td>...</td>\n",
       "      <td>...</td>\n",
       "      <td>...</td>\n",
       "      <td>...</td>\n",
       "      <td>...</td>\n",
       "      <td>...</td>\n",
       "      <td>...</td>\n",
       "      <td>...</td>\n",
       "      <td>...</td>\n",
       "      <td>...</td>\n",
       "      <td>...</td>\n",
       "      <td>...</td>\n",
       "      <td>...</td>\n",
       "      <td>...</td>\n",
       "      <td>...</td>\n",
       "      <td>...</td>\n",
       "      <td>...</td>\n",
       "      <td>...</td>\n",
       "      <td>...</td>\n",
       "    </tr>\n",
       "    <tr>\n",
       "      <th>643685</th>\n",
       "      <td>1827860</td>\n",
       "      <td>2013</td>\n",
       "      <td>1</td>\n",
       "      <td>0</td>\n",
       "      <td>0</td>\n",
       "      <td>0</td>\n",
       "      <td>1</td>\n",
       "      <td>0</td>\n",
       "      <td>0</td>\n",
       "      <td>1</td>\n",
       "      <td>...</td>\n",
       "      <td>0.000000</td>\n",
       "      <td>0.000000</td>\n",
       "      <td>0.000000</td>\n",
       "      <td>0.000000</td>\n",
       "      <td>0.612903</td>\n",
       "      <td>0.000000</td>\n",
       "      <td>0.000000</td>\n",
       "      <td>0.000000</td>\n",
       "      <td>0.000000</td>\n",
       "      <td>0.000000</td>\n",
       "    </tr>\n",
       "    <tr>\n",
       "      <th>643686</th>\n",
       "      <td>1827860</td>\n",
       "      <td>2015</td>\n",
       "      <td>2</td>\n",
       "      <td>1</td>\n",
       "      <td>0</td>\n",
       "      <td>0</td>\n",
       "      <td>1</td>\n",
       "      <td>0</td>\n",
       "      <td>1</td>\n",
       "      <td>0</td>\n",
       "      <td>...</td>\n",
       "      <td>0.000000</td>\n",
       "      <td>0.000000</td>\n",
       "      <td>0.212121</td>\n",
       "      <td>0.212121</td>\n",
       "      <td>17.363636</td>\n",
       "      <td>0.000000</td>\n",
       "      <td>8.909091</td>\n",
       "      <td>0.000000</td>\n",
       "      <td>0.000000</td>\n",
       "      <td>7.121212</td>\n",
       "    </tr>\n",
       "    <tr>\n",
       "      <th>643687</th>\n",
       "      <td>1827860</td>\n",
       "      <td>2016</td>\n",
       "      <td>3</td>\n",
       "      <td>1</td>\n",
       "      <td>0</td>\n",
       "      <td>0</td>\n",
       "      <td>1</td>\n",
       "      <td>1</td>\n",
       "      <td>0</td>\n",
       "      <td>1</td>\n",
       "      <td>...</td>\n",
       "      <td>0.000000</td>\n",
       "      <td>0.000000</td>\n",
       "      <td>0.294118</td>\n",
       "      <td>0.205882</td>\n",
       "      <td>34.705882</td>\n",
       "      <td>0.000000</td>\n",
       "      <td>10.352941</td>\n",
       "      <td>1.705882</td>\n",
       "      <td>1.705882</td>\n",
       "      <td>23.911765</td>\n",
       "    </tr>\n",
       "    <tr>\n",
       "      <th>643688</th>\n",
       "      <td>1827869</td>\n",
       "      <td>2013</td>\n",
       "      <td>1</td>\n",
       "      <td>1</td>\n",
       "      <td>1</td>\n",
       "      <td>0</td>\n",
       "      <td>0</td>\n",
       "      <td>0</td>\n",
       "      <td>1</td>\n",
       "      <td>0</td>\n",
       "      <td>...</td>\n",
       "      <td>0.000000</td>\n",
       "      <td>0.000000</td>\n",
       "      <td>0.000000</td>\n",
       "      <td>0.000000</td>\n",
       "      <td>0.000000</td>\n",
       "      <td>0.525424</td>\n",
       "      <td>0.000000</td>\n",
       "      <td>0.000000</td>\n",
       "      <td>0.000000</td>\n",
       "      <td>0.000000</td>\n",
       "    </tr>\n",
       "    <tr>\n",
       "      <th>643689</th>\n",
       "      <td>1827869</td>\n",
       "      <td>2014</td>\n",
       "      <td>2</td>\n",
       "      <td>0</td>\n",
       "      <td>0</td>\n",
       "      <td>1</td>\n",
       "      <td>0</td>\n",
       "      <td>0</td>\n",
       "      <td>1</td>\n",
       "      <td>0</td>\n",
       "      <td>...</td>\n",
       "      <td>0.000000</td>\n",
       "      <td>0.666667</td>\n",
       "      <td>0.666667</td>\n",
       "      <td>0.000000</td>\n",
       "      <td>0.000000</td>\n",
       "      <td>8.950000</td>\n",
       "      <td>1.033333</td>\n",
       "      <td>0.083333</td>\n",
       "      <td>0.083333</td>\n",
       "      <td>8.133333</td>\n",
       "    </tr>\n",
       "  </tbody>\n",
       "</table>\n",
       "<p>643690 rows × 164 columns</p>\n",
       "</div>"
      ],
      "text/plain": [
       "         persnr  year  nrEntry  ltue  employed_before  receipt_leh_before  \\\n",
       "0             7  2015        1     0                1                   0   \n",
       "1            18  2010        1     1                0                   0   \n",
       "2            18  2011        2     0                1                   0   \n",
       "3            18  2012        3     0                1                   0   \n",
       "4            18  2012        4     0                1                   0   \n",
       "...         ...   ...      ...   ...              ...                 ...   \n",
       "643685  1827860  2013        1     0                0                   0   \n",
       "643686  1827860  2015        2     1                0                   0   \n",
       "643687  1827860  2016        3     1                0                   0   \n",
       "643688  1827869  2013        1     1                1                   0   \n",
       "643689  1827869  2014        2     0                0                   1   \n",
       "\n",
       "        receipt_lhg_before  se_before  ASU_notue_seeking_before  \\\n",
       "0                        0          0                         1   \n",
       "1                        0          0                         0   \n",
       "2                        1          0                         1   \n",
       "3                        1          0                         1   \n",
       "4                        1          0                         1   \n",
       "...                    ...        ...                       ...   \n",
       "643685                   1          0                         0   \n",
       "643686                   1          0                         1   \n",
       "643687                   1          1                         0   \n",
       "643688                   0          0                         1   \n",
       "643689                   0          0                         1   \n",
       "\n",
       "        ASU_other_before  ...  minijob_tot_dur_byage  ft_tot_dur_byage  \\\n",
       "0                      0  ...               0.000000          0.000000   \n",
       "1                      0  ...               0.000000          0.000000   \n",
       "2                      0  ...               2.714286          2.714286   \n",
       "3                      0  ...               4.200000          4.200000   \n",
       "4                      0  ...               5.460000          5.460000   \n",
       "...                  ...  ...                    ...               ...   \n",
       "643685                 1  ...               0.000000          0.000000   \n",
       "643686                 0  ...               0.000000          0.000000   \n",
       "643687                 1  ...               0.000000          0.000000   \n",
       "643688                 0  ...               0.000000          0.000000   \n",
       "643689                 0  ...               0.000000          0.666667   \n",
       "\n",
       "        befrist_tot_dur_byage  leih_tot_dur_byage  LHG_tot_dur_byage  \\\n",
       "0                   15.043478            0.000000           0.000000   \n",
       "1                    0.000000            0.000000           0.000000   \n",
       "2                    0.000000            0.000000          10.775510   \n",
       "3                    0.000000            0.000000          12.100000   \n",
       "4                    0.000000            0.000000          13.360000   \n",
       "...                       ...                 ...                ...   \n",
       "643685               0.000000            0.000000           0.612903   \n",
       "643686               0.212121            0.212121          17.363636   \n",
       "643687               0.294118            0.205882          34.705882   \n",
       "643688               0.000000            0.000000           0.000000   \n",
       "643689               0.666667            0.000000           0.000000   \n",
       "\n",
       "        LEH_tot_dur_byage  almp_tot_dur_byage  almp_aw_tot_dur_byage  \\\n",
       "0                0.000000            0.000000               0.000000   \n",
       "1                0.000000            0.000000               0.000000   \n",
       "2                0.000000            8.367347               0.000000   \n",
       "3                0.000000            9.400000               0.000000   \n",
       "4                0.000000           10.320000               0.000000   \n",
       "...                   ...                 ...                    ...   \n",
       "643685           0.000000            0.000000               0.000000   \n",
       "643686           0.000000            8.909091               0.000000   \n",
       "643687           0.000000           10.352941               1.705882   \n",
       "643688           0.525424            0.000000               0.000000   \n",
       "643689           8.950000            1.033333               0.083333   \n",
       "\n",
       "        se_tot_dur_byage  seeking1_tot_dur_byage  \n",
       "0               0.000000                0.000000  \n",
       "1               0.000000                0.000000  \n",
       "2               0.000000                9.836735  \n",
       "3               0.000000                9.960000  \n",
       "4               0.000000               10.280000  \n",
       "...                  ...                     ...  \n",
       "643685          0.000000                0.000000  \n",
       "643686          0.000000                7.121212  \n",
       "643687          1.705882               23.911765  \n",
       "643688          0.000000                0.000000  \n",
       "643689          0.083333                8.133333  \n",
       "\n",
       "[643690 rows x 164 columns]"
      ]
     },
     "execution_count": 10,
     "metadata": {},
     "output_type": "execute_result"
    }
   ],
   "source": [
    "siab"
   ]
  },
  {
   "cell_type": "markdown",
   "id": "1f87e805",
   "metadata": {
    "papermill": {
     "duration": 0.009807,
     "end_time": "2025-08-19T18:58:21.229643",
     "exception": false,
     "start_time": "2025-08-19T18:58:21.219836",
     "status": "completed"
    },
    "tags": []
   },
   "source": [
    "# Splitting Data and Setting Training Data Size"
   ]
  },
  {
   "cell_type": "code",
   "execution_count": 11,
   "id": "910ae358",
   "metadata": {
    "execution": {
     "iopub.execute_input": "2025-08-19T18:58:21.250559Z",
     "iopub.status.busy": "2025-08-19T18:58:21.250069Z",
     "iopub.status.idle": "2025-08-19T18:58:21.873110Z",
     "shell.execute_reply": "2025-08-19T18:58:21.871951Z"
    },
    "papermill": {
     "duration": 0.636896,
     "end_time": "2025-08-19T18:58:21.876212",
     "exception": false,
     "start_time": "2025-08-19T18:58:21.239316",
     "status": "completed"
    },
    "tags": []
   },
   "outputs": [],
   "source": [
    "from fairness_multiverse.universe import sample_by_year_size\n",
    "\n",
    "siab_train = sample_by_year_size(siab,\n",
    "                               training_year=universe[\"training_year\"],\n",
    "                               training_size=universe[\"training_size\"])"
   ]
  },
  {
   "cell_type": "code",
   "execution_count": 12,
   "id": "919c8ff5",
   "metadata": {
    "execution": {
     "iopub.execute_input": "2025-08-19T18:58:21.924084Z",
     "iopub.status.busy": "2025-08-19T18:58:21.923505Z",
     "iopub.status.idle": "2025-08-19T18:58:21.930905Z",
     "shell.execute_reply": "2025-08-19T18:58:21.930077Z"
    },
    "papermill": {
     "duration": 0.033576,
     "end_time": "2025-08-19T18:58:21.934181",
     "exception": false,
     "start_time": "2025-08-19T18:58:21.900605",
     "status": "completed"
    },
    "tags": []
   },
   "outputs": [
    {
     "data": {
      "text/plain": [
       "(1000, 164)"
      ]
     },
     "execution_count": 12,
     "metadata": {},
     "output_type": "execute_result"
    }
   ],
   "source": [
    "siab_train.shape"
   ]
  },
  {
   "cell_type": "code",
   "execution_count": 13,
   "id": "feb13bf4",
   "metadata": {
    "execution": {
     "iopub.execute_input": "2025-08-19T18:58:21.983214Z",
     "iopub.status.busy": "2025-08-19T18:58:21.981906Z",
     "iopub.status.idle": "2025-08-19T18:58:21.996802Z",
     "shell.execute_reply": "2025-08-19T18:58:21.995649Z"
    },
    "papermill": {
     "duration": 0.043014,
     "end_time": "2025-08-19T18:58:21.998196",
     "exception": false,
     "start_time": "2025-08-19T18:58:21.955182",
     "status": "completed"
    },
    "tags": []
   },
   "outputs": [
    {
     "data": {
      "text/plain": [
       "year\n",
       "2012    334\n",
       "2013    333\n",
       "2014    333\n",
       "dtype: int64"
      ]
     },
     "metadata": {},
     "output_type": "display_data"
    }
   ],
   "source": [
    "display(siab_train.groupby(\"year\").size())"
   ]
  },
  {
   "cell_type": "code",
   "execution_count": 14,
   "id": "0997782f",
   "metadata": {
    "execution": {
     "iopub.execute_input": "2025-08-19T18:58:22.021400Z",
     "iopub.status.busy": "2025-08-19T18:58:22.020528Z",
     "iopub.status.idle": "2025-08-19T18:58:22.284948Z",
     "shell.execute_reply": "2025-08-19T18:58:22.283795Z"
    },
    "papermill": {
     "duration": 0.277673,
     "end_time": "2025-08-19T18:58:22.286739",
     "exception": false,
     "start_time": "2025-08-19T18:58:22.009066",
     "status": "completed"
    },
    "tags": []
   },
   "outputs": [],
   "source": [
    "#siab_train = siab_s[siab_s.year < 2015]\n",
    "siab_calib = siab[siab.year == 2015]\n",
    "siab_test = siab[siab.year == 2016]"
   ]
  },
  {
   "cell_type": "code",
   "execution_count": 15,
   "id": "2c1e4012",
   "metadata": {
    "execution": {
     "iopub.execute_input": "2025-08-19T18:58:22.335430Z",
     "iopub.status.busy": "2025-08-19T18:58:22.333976Z",
     "iopub.status.idle": "2025-08-19T18:58:22.340719Z",
     "shell.execute_reply": "2025-08-19T18:58:22.339750Z"
    },
    "papermill": {
     "duration": 0.032815,
     "end_time": "2025-08-19T18:58:22.342500",
     "exception": false,
     "start_time": "2025-08-19T18:58:22.309685",
     "status": "completed"
    },
    "tags": []
   },
   "outputs": [],
   "source": [
    "#siab_calib.shape"
   ]
  },
  {
   "cell_type": "code",
   "execution_count": 16,
   "id": "f66b54ca",
   "metadata": {
    "execution": {
     "iopub.execute_input": "2025-08-19T18:58:22.392562Z",
     "iopub.status.busy": "2025-08-19T18:58:22.391783Z",
     "iopub.status.idle": "2025-08-19T18:58:22.399697Z",
     "shell.execute_reply": "2025-08-19T18:58:22.398414Z"
    },
    "papermill": {
     "duration": 0.044555,
     "end_time": "2025-08-19T18:58:22.401544",
     "exception": false,
     "start_time": "2025-08-19T18:58:22.356989",
     "status": "completed"
    },
    "tags": []
   },
   "outputs": [],
   "source": [
    "#siab_test.shape"
   ]
  },
  {
   "cell_type": "code",
   "execution_count": 17,
   "id": "27e4384d",
   "metadata": {
    "execution": {
     "iopub.execute_input": "2025-08-19T18:58:22.456846Z",
     "iopub.status.busy": "2025-08-19T18:58:22.455222Z",
     "iopub.status.idle": "2025-08-19T18:58:22.466108Z",
     "shell.execute_reply": "2025-08-19T18:58:22.464733Z"
    },
    "papermill": {
     "duration": 0.045946,
     "end_time": "2025-08-19T18:58:22.467843",
     "exception": false,
     "start_time": "2025-08-19T18:58:22.421897",
     "status": "completed"
    },
    "tags": []
   },
   "outputs": [],
   "source": [
    "X_train = siab_train.iloc[:,4:164]\n",
    "y_train = siab_train.iloc[:, [3]]"
   ]
  },
  {
   "cell_type": "code",
   "execution_count": 18,
   "id": "08ee8389",
   "metadata": {
    "execution": {
     "iopub.execute_input": "2025-08-19T18:58:22.495037Z",
     "iopub.status.busy": "2025-08-19T18:58:22.493870Z",
     "iopub.status.idle": "2025-08-19T18:58:22.568130Z",
     "shell.execute_reply": "2025-08-19T18:58:22.567066Z"
    },
    "papermill": {
     "duration": 0.089322,
     "end_time": "2025-08-19T18:58:22.570977",
     "exception": false,
     "start_time": "2025-08-19T18:58:22.481655",
     "status": "completed"
    },
    "tags": []
   },
   "outputs": [],
   "source": [
    "X_calib = siab_calib.iloc[:,4:164]\n",
    "y_calib = siab_calib.iloc[:, [3]]"
   ]
  },
  {
   "cell_type": "code",
   "execution_count": 19,
   "id": "b7ff42e0",
   "metadata": {
    "execution": {
     "iopub.execute_input": "2025-08-19T18:58:22.624744Z",
     "iopub.status.busy": "2025-08-19T18:58:22.622997Z",
     "iopub.status.idle": "2025-08-19T18:58:22.689347Z",
     "shell.execute_reply": "2025-08-19T18:58:22.688372Z"
    },
    "papermill": {
     "duration": 0.082633,
     "end_time": "2025-08-19T18:58:22.691025",
     "exception": false,
     "start_time": "2025-08-19T18:58:22.608392",
     "status": "completed"
    },
    "tags": []
   },
   "outputs": [],
   "source": [
    "X_test = siab_test.iloc[:,4:164]\n",
    "y_true = siab_test.iloc[:, [3]]"
   ]
  },
  {
   "cell_type": "code",
   "execution_count": 20,
   "id": "0275101e",
   "metadata": {
    "execution": {
     "iopub.execute_input": "2025-08-19T18:58:22.727449Z",
     "iopub.status.busy": "2025-08-19T18:58:22.726336Z",
     "iopub.status.idle": "2025-08-19T18:58:22.871392Z",
     "shell.execute_reply": "2025-08-19T18:58:22.870424Z"
    },
    "papermill": {
     "duration": 0.160506,
     "end_time": "2025-08-19T18:58:22.873115",
     "exception": false,
     "start_time": "2025-08-19T18:58:22.712609",
     "status": "completed"
    },
    "tags": []
   },
   "outputs": [],
   "source": [
    "# Auxiliary data needed downstream in the pipeline\n",
    "\n",
    "org_train = X_train.copy()\n",
    "org_test = X_test.copy()\n",
    "org_calib = X_calib.copy()"
   ]
  },
  {
   "cell_type": "markdown",
   "id": "b461e618",
   "metadata": {
    "papermill": {
     "duration": 0.020159,
     "end_time": "2025-08-19T18:58:22.917227",
     "exception": false,
     "start_time": "2025-08-19T18:58:22.897068",
     "status": "completed"
    },
    "tags": []
   },
   "source": [
    "# Preprocessing Data"
   ]
  },
  {
   "cell_type": "code",
   "execution_count": 21,
   "id": "78e74c4b",
   "metadata": {
    "execution": {
     "iopub.execute_input": "2025-08-19T18:58:22.950196Z",
     "iopub.status.busy": "2025-08-19T18:58:22.949654Z",
     "iopub.status.idle": "2025-08-19T18:58:22.955842Z",
     "shell.execute_reply": "2025-08-19T18:58:22.954942Z"
    },
    "papermill": {
     "duration": 0.023717,
     "end_time": "2025-08-19T18:58:22.957356",
     "exception": false,
     "start_time": "2025-08-19T18:58:22.933639",
     "status": "completed"
    },
    "tags": []
   },
   "outputs": [],
   "source": [
    "# EXCLUDE PROTECTED FEATURES\n",
    "# --------------------------\n",
    "\n",
    "excluded_features = universe[\"exclude_features\"].split(\"-\")\n",
    "excluded_features_dictionary = {\n",
    "    \"nationality\": [\"maxdeutsch1\", \"maxdeutsch.Missing.\"],\n",
    "    \"sex\": [\"frau1\"],\n",
    "    \"age\": [\"age\"],\n",
    "}"
   ]
  },
  {
   "cell_type": "code",
   "execution_count": 22,
   "id": "f8e63555",
   "metadata": {
    "execution": {
     "iopub.execute_input": "2025-08-19T18:58:22.983525Z",
     "iopub.status.busy": "2025-08-19T18:58:22.983205Z",
     "iopub.status.idle": "2025-08-19T18:58:22.988126Z",
     "shell.execute_reply": "2025-08-19T18:58:22.987331Z"
    },
    "papermill": {
     "duration": 0.023006,
     "end_time": "2025-08-19T18:58:22.991128",
     "exception": false,
     "start_time": "2025-08-19T18:58:22.968122",
     "status": "completed"
    },
    "tags": []
   },
   "outputs": [],
   "source": [
    "excluded_features_columns = [\n",
    "    excluded_features_dictionary[f] for f in excluded_features if len(f) > 0 and f != \"none\"\n",
    "]"
   ]
  },
  {
   "cell_type": "code",
   "execution_count": 23,
   "id": "da781f7c",
   "metadata": {
    "execution": {
     "iopub.execute_input": "2025-08-19T18:58:23.051161Z",
     "iopub.status.busy": "2025-08-19T18:58:23.050552Z",
     "iopub.status.idle": "2025-08-19T18:58:23.057095Z",
     "shell.execute_reply": "2025-08-19T18:58:23.056280Z"
    },
    "papermill": {
     "duration": 0.035025,
     "end_time": "2025-08-19T18:58:23.060641",
     "exception": false,
     "start_time": "2025-08-19T18:58:23.025616",
     "status": "completed"
    },
    "tags": []
   },
   "outputs": [],
   "source": [
    "from fairness_multiverse.universe import flatten_once\n",
    "\n",
    "excluded_features_columns = flatten_once(excluded_features_columns)"
   ]
  },
  {
   "cell_type": "code",
   "execution_count": 24,
   "id": "37fef0f0",
   "metadata": {
    "execution": {
     "iopub.execute_input": "2025-08-19T18:58:23.098351Z",
     "iopub.status.busy": "2025-08-19T18:58:23.097900Z",
     "iopub.status.idle": "2025-08-19T18:58:23.105639Z",
     "shell.execute_reply": "2025-08-19T18:58:23.104772Z"
    },
    "papermill": {
     "duration": 0.022375,
     "end_time": "2025-08-19T18:58:23.107117",
     "exception": false,
     "start_time": "2025-08-19T18:58:23.084742",
     "status": "completed"
    },
    "tags": []
   },
   "outputs": [
    {
     "name": "stdout",
     "output_type": "stream",
     "text": [
      "Dropping features: ['maxdeutsch1', 'maxdeutsch.Missing.']\n"
     ]
    }
   ],
   "source": [
    "if len(excluded_features_columns) > 0:\n",
    "    print(f\"Dropping features: {excluded_features_columns}\")\n",
    "    X_train.drop(excluded_features_columns, axis=1, inplace=True)"
   ]
  },
  {
   "cell_type": "code",
   "execution_count": 25,
   "id": "d029e3e9",
   "metadata": {
    "execution": {
     "iopub.execute_input": "2025-08-19T18:58:23.134564Z",
     "iopub.status.busy": "2025-08-19T18:58:23.134092Z",
     "iopub.status.idle": "2025-08-19T18:58:23.202720Z",
     "shell.execute_reply": "2025-08-19T18:58:23.201726Z"
    },
    "papermill": {
     "duration": 0.085303,
     "end_time": "2025-08-19T18:58:23.204002",
     "exception": false,
     "start_time": "2025-08-19T18:58:23.118699",
     "status": "completed"
    },
    "tags": []
   },
   "outputs": [
    {
     "name": "stdout",
     "output_type": "stream",
     "text": [
      "Dropping features: ['maxdeutsch1', 'maxdeutsch.Missing.']\n"
     ]
    }
   ],
   "source": [
    "if len(excluded_features_columns) > 0:\n",
    "    print(f\"Dropping features: {excluded_features_columns}\")\n",
    "    X_test.drop(excluded_features_columns, axis=1, inplace=True)"
   ]
  },
  {
   "cell_type": "code",
   "execution_count": 26,
   "id": "01d571f0",
   "metadata": {
    "execution": {
     "iopub.execute_input": "2025-08-19T18:58:23.228709Z",
     "iopub.status.busy": "2025-08-19T18:58:23.227797Z",
     "iopub.status.idle": "2025-08-19T18:58:23.278165Z",
     "shell.execute_reply": "2025-08-19T18:58:23.277278Z"
    },
    "papermill": {
     "duration": 0.071113,
     "end_time": "2025-08-19T18:58:23.286472",
     "exception": false,
     "start_time": "2025-08-19T18:58:23.215359",
     "status": "completed"
    },
    "tags": []
   },
   "outputs": [
    {
     "name": "stdout",
     "output_type": "stream",
     "text": [
      "Dropping features: ['maxdeutsch1', 'maxdeutsch.Missing.']\n"
     ]
    }
   ],
   "source": [
    "if len(excluded_features_columns) > 0:\n",
    "    print(f\"Dropping features: {excluded_features_columns}\")\n",
    "    X_calib.drop(excluded_features_columns, axis=1, inplace=True)"
   ]
  },
  {
   "cell_type": "code",
   "execution_count": 27,
   "id": "3037356e",
   "metadata": {
    "execution": {
     "iopub.execute_input": "2025-08-19T18:58:23.326533Z",
     "iopub.status.busy": "2025-08-19T18:58:23.326215Z",
     "iopub.status.idle": "2025-08-19T18:58:23.332140Z",
     "shell.execute_reply": "2025-08-19T18:58:23.331039Z"
    },
    "papermill": {
     "duration": 0.022024,
     "end_time": "2025-08-19T18:58:23.334159",
     "exception": false,
     "start_time": "2025-08-19T18:58:23.312135",
     "status": "completed"
    },
    "tags": []
   },
   "outputs": [],
   "source": [
    "# EXCLUDE CERTAIN SUBGROUPS\n",
    "# -------------------------\n",
    "\n",
    "mode = universe.get(\"exclude_subgroups\", \"keep-all\") # Defaults to \"keep-all\" if the key is missing."
   ]
  },
  {
   "cell_type": "code",
   "execution_count": 28,
   "id": "9d1e63fd",
   "metadata": {
    "execution": {
     "iopub.execute_input": "2025-08-19T18:58:23.362334Z",
     "iopub.status.busy": "2025-08-19T18:58:23.361555Z",
     "iopub.status.idle": "2025-08-19T18:58:23.371149Z",
     "shell.execute_reply": "2025-08-19T18:58:23.369825Z"
    },
    "papermill": {
     "duration": 0.023548,
     "end_time": "2025-08-19T18:58:23.372809",
     "exception": false,
     "start_time": "2025-08-19T18:58:23.349261",
     "status": "completed"
    },
    "tags": []
   },
   "outputs": [],
   "source": [
    "if mode == \"keep-all\":\n",
    "    keep_mask = pd.Series(True, index=org_train.index)\n",
    "\n",
    "elif mode == \"drop-non-german\":\n",
    "    keep_mask = (org_train[\"maxdeutsch1\"] == 1) & (org_train[\"maxdeutsch.Missing.\"] == 0)\n",
    "\n",
    "else:\n",
    "    raise ValueError(f\"Unsupported mode for exclude_subgroups: {mode}\")"
   ]
  },
  {
   "cell_type": "code",
   "execution_count": 29,
   "id": "d3b65474",
   "metadata": {
    "execution": {
     "iopub.execute_input": "2025-08-19T18:58:23.400818Z",
     "iopub.status.busy": "2025-08-19T18:58:23.399448Z",
     "iopub.status.idle": "2025-08-19T18:58:23.410064Z",
     "shell.execute_reply": "2025-08-19T18:58:23.408895Z"
    },
    "papermill": {
     "duration": 0.026217,
     "end_time": "2025-08-19T18:58:23.412963",
     "exception": false,
     "start_time": "2025-08-19T18:58:23.386746",
     "status": "completed"
    },
    "tags": []
   },
   "outputs": [],
   "source": [
    "n_drop = (~keep_mask).sum() # Calculates how many rows are set to be dropped\n",
    "if n_drop > 0:\n",
    "    pct = n_drop / len(keep_mask) * 100\n",
    "    print(f\"Dropping {n_drop} rows ({pct:.2f}%) where mode='{mode}'\")"
   ]
  },
  {
   "cell_type": "code",
   "execution_count": 30,
   "id": "f44389b3",
   "metadata": {
    "execution": {
     "iopub.execute_input": "2025-08-19T18:58:23.452945Z",
     "iopub.status.busy": "2025-08-19T18:58:23.451361Z",
     "iopub.status.idle": "2025-08-19T18:58:23.461107Z",
     "shell.execute_reply": "2025-08-19T18:58:23.459806Z"
    },
    "papermill": {
     "duration": 0.0259,
     "end_time": "2025-08-19T18:58:23.462812",
     "exception": false,
     "start_time": "2025-08-19T18:58:23.436912",
     "status": "completed"
    },
    "tags": []
   },
   "outputs": [],
   "source": [
    "X_train = X_train[keep_mask]"
   ]
  },
  {
   "cell_type": "code",
   "execution_count": 31,
   "id": "ceca8c2a",
   "metadata": {
    "execution": {
     "iopub.execute_input": "2025-08-19T18:58:23.491133Z",
     "iopub.status.busy": "2025-08-19T18:58:23.489851Z",
     "iopub.status.idle": "2025-08-19T18:58:23.498947Z",
     "shell.execute_reply": "2025-08-19T18:58:23.497512Z"
    },
    "papermill": {
     "duration": 0.02368,
     "end_time": "2025-08-19T18:58:23.500759",
     "exception": false,
     "start_time": "2025-08-19T18:58:23.477079",
     "status": "completed"
    },
    "tags": []
   },
   "outputs": [],
   "source": [
    "y_train = y_train[keep_mask]"
   ]
  },
  {
   "cell_type": "markdown",
   "id": "04d31e2f",
   "metadata": {
    "papermill": {
     "duration": 0.010693,
     "end_time": "2025-08-19T18:58:23.525055",
     "exception": false,
     "start_time": "2025-08-19T18:58:23.514362",
     "status": "completed"
    },
    "tags": []
   },
   "source": [
    "# Model Training"
   ]
  },
  {
   "cell_type": "code",
   "execution_count": 32,
   "id": "db991733",
   "metadata": {
    "execution": {
     "iopub.execute_input": "2025-08-19T18:58:23.549620Z",
     "iopub.status.busy": "2025-08-19T18:58:23.548095Z",
     "iopub.status.idle": "2025-08-19T18:58:23.663264Z",
     "shell.execute_reply": "2025-08-19T18:58:23.661990Z"
    },
    "papermill": {
     "duration": 0.129382,
     "end_time": "2025-08-19T18:58:23.665083",
     "exception": false,
     "start_time": "2025-08-19T18:58:23.535701",
     "status": "completed"
    },
    "tags": []
   },
   "outputs": [],
   "source": [
    "from sklearn.linear_model import LogisticRegression\n",
    "from sklearn.ensemble import GradientBoostingClassifier, RandomForestClassifier\n",
    "\n",
    "if (universe[\"model\"] == \"logreg\"):\n",
    "    model = LogisticRegression() #penalty=\"none\", solver=\"newton-cg\", max_iter=1)\n",
    "elif (universe[\"model\"] == \"penalized_logreg\"):\n",
    "    model = LogisticRegression(penalty=\"l2\", C=0.1) #, solver=\"newton-cg\", max_iter=1)\n",
    "elif (universe[\"model\"] == \"rf\"):\n",
    "    model = RandomForestClassifier() # n_estimators=100, n_jobs=-1\n",
    "elif (universe[\"model\"] == \"gbm\"):\n",
    "    model = GradientBoostingClassifier()\n",
    "elif (universe[\"model\"] == \"elasticnet\"):\n",
    "    model = LogisticRegression(penalty = 'elasticnet', solver = 'saga', l1_ratio = 0.5) # max_iter=5000\n",
    "else:\n",
    "    raise \"Unsupported universe.model\""
   ]
  },
  {
   "cell_type": "code",
   "execution_count": 33,
   "id": "a4b5cd25",
   "metadata": {
    "execution": {
     "iopub.execute_input": "2025-08-19T18:58:23.689579Z",
     "iopub.status.busy": "2025-08-19T18:58:23.688584Z",
     "iopub.status.idle": "2025-08-19T18:58:23.696281Z",
     "shell.execute_reply": "2025-08-19T18:58:23.694862Z"
    },
    "papermill": {
     "duration": 0.021603,
     "end_time": "2025-08-19T18:58:23.698035",
     "exception": false,
     "start_time": "2025-08-19T18:58:23.676432",
     "status": "completed"
    },
    "tags": []
   },
   "outputs": [],
   "source": [
    "from sklearn.pipeline import Pipeline\n",
    "from sklearn.preprocessing import StandardScaler\n",
    "\n",
    "model = Pipeline([\n",
    "    #(\"continuous_processor\", continuous_processor),\n",
    "    #(\"categorical_preprocessor\", categorical_preprocessor),\n",
    "    (\"scale\", StandardScaler() if universe[\"scale\"] == \"scale\" else None), \n",
    "    (\"model\", model),\n",
    "])"
   ]
  },
  {
   "cell_type": "code",
   "execution_count": 34,
   "id": "283a904d",
   "metadata": {
    "execution": {
     "iopub.execute_input": "2025-08-19T18:58:23.724154Z",
     "iopub.status.busy": "2025-08-19T18:58:23.722891Z",
     "iopub.status.idle": "2025-08-19T18:58:24.061578Z",
     "shell.execute_reply": "2025-08-19T18:58:24.058968Z"
    },
    "papermill": {
     "duration": 0.353979,
     "end_time": "2025-08-19T18:58:24.064194",
     "exception": false,
     "start_time": "2025-08-19T18:58:23.710215",
     "status": "completed"
    },
    "tags": []
   },
   "outputs": [
    {
     "data": {
      "text/html": [
       "<style>#sk-container-id-1 {color: black;background-color: white;}#sk-container-id-1 pre{padding: 0;}#sk-container-id-1 div.sk-toggleable {background-color: white;}#sk-container-id-1 label.sk-toggleable__label {cursor: pointer;display: block;width: 100%;margin-bottom: 0;padding: 0.3em;box-sizing: border-box;text-align: center;}#sk-container-id-1 label.sk-toggleable__label-arrow:before {content: \"▸\";float: left;margin-right: 0.25em;color: #696969;}#sk-container-id-1 label.sk-toggleable__label-arrow:hover:before {color: black;}#sk-container-id-1 div.sk-estimator:hover label.sk-toggleable__label-arrow:before {color: black;}#sk-container-id-1 div.sk-toggleable__content {max-height: 0;max-width: 0;overflow: hidden;text-align: left;background-color: #f0f8ff;}#sk-container-id-1 div.sk-toggleable__content pre {margin: 0.2em;color: black;border-radius: 0.25em;background-color: #f0f8ff;}#sk-container-id-1 input.sk-toggleable__control:checked~div.sk-toggleable__content {max-height: 200px;max-width: 100%;overflow: auto;}#sk-container-id-1 input.sk-toggleable__control:checked~label.sk-toggleable__label-arrow:before {content: \"▾\";}#sk-container-id-1 div.sk-estimator input.sk-toggleable__control:checked~label.sk-toggleable__label {background-color: #d4ebff;}#sk-container-id-1 div.sk-label input.sk-toggleable__control:checked~label.sk-toggleable__label {background-color: #d4ebff;}#sk-container-id-1 input.sk-hidden--visually {border: 0;clip: rect(1px 1px 1px 1px);clip: rect(1px, 1px, 1px, 1px);height: 1px;margin: -1px;overflow: hidden;padding: 0;position: absolute;width: 1px;}#sk-container-id-1 div.sk-estimator {font-family: monospace;background-color: #f0f8ff;border: 1px dotted black;border-radius: 0.25em;box-sizing: border-box;margin-bottom: 0.5em;}#sk-container-id-1 div.sk-estimator:hover {background-color: #d4ebff;}#sk-container-id-1 div.sk-parallel-item::after {content: \"\";width: 100%;border-bottom: 1px solid gray;flex-grow: 1;}#sk-container-id-1 div.sk-label:hover label.sk-toggleable__label {background-color: #d4ebff;}#sk-container-id-1 div.sk-serial::before {content: \"\";position: absolute;border-left: 1px solid gray;box-sizing: border-box;top: 0;bottom: 0;left: 50%;z-index: 0;}#sk-container-id-1 div.sk-serial {display: flex;flex-direction: column;align-items: center;background-color: white;padding-right: 0.2em;padding-left: 0.2em;position: relative;}#sk-container-id-1 div.sk-item {position: relative;z-index: 1;}#sk-container-id-1 div.sk-parallel {display: flex;align-items: stretch;justify-content: center;background-color: white;position: relative;}#sk-container-id-1 div.sk-item::before, #sk-container-id-1 div.sk-parallel-item::before {content: \"\";position: absolute;border-left: 1px solid gray;box-sizing: border-box;top: 0;bottom: 0;left: 50%;z-index: -1;}#sk-container-id-1 div.sk-parallel-item {display: flex;flex-direction: column;z-index: 1;position: relative;background-color: white;}#sk-container-id-1 div.sk-parallel-item:first-child::after {align-self: flex-end;width: 50%;}#sk-container-id-1 div.sk-parallel-item:last-child::after {align-self: flex-start;width: 50%;}#sk-container-id-1 div.sk-parallel-item:only-child::after {width: 0;}#sk-container-id-1 div.sk-dashed-wrapped {border: 1px dashed gray;margin: 0 0.4em 0.5em 0.4em;box-sizing: border-box;padding-bottom: 0.4em;background-color: white;}#sk-container-id-1 div.sk-label label {font-family: monospace;font-weight: bold;display: inline-block;line-height: 1.2em;}#sk-container-id-1 div.sk-label-container {text-align: center;}#sk-container-id-1 div.sk-container {/* jupyter's `normalize.less` sets `[hidden] { display: none; }` but bootstrap.min.css set `[hidden] { display: none !important; }` so we also need the `!important` here to be able to override the default hidden behavior on the sphinx rendered scikit-learn.org. See: https://github.com/scikit-learn/scikit-learn/issues/21755 */display: inline-block !important;position: relative;}#sk-container-id-1 div.sk-text-repr-fallback {display: none;}</style><div id=\"sk-container-id-1\" class=\"sk-top-container\"><div class=\"sk-text-repr-fallback\"><pre>Pipeline(steps=[(&#x27;scale&#x27;, StandardScaler()),\n",
       "                (&#x27;model&#x27;, RandomForestClassifier())])</pre><b>In a Jupyter environment, please rerun this cell to show the HTML representation or trust the notebook. <br />On GitHub, the HTML representation is unable to render, please try loading this page with nbviewer.org.</b></div><div class=\"sk-container\" hidden><div class=\"sk-item sk-dashed-wrapped\"><div class=\"sk-label-container\"><div class=\"sk-label sk-toggleable\"><input class=\"sk-toggleable__control sk-hidden--visually\" id=\"sk-estimator-id-1\" type=\"checkbox\" ><label for=\"sk-estimator-id-1\" class=\"sk-toggleable__label sk-toggleable__label-arrow\">Pipeline</label><div class=\"sk-toggleable__content\"><pre>Pipeline(steps=[(&#x27;scale&#x27;, StandardScaler()),\n",
       "                (&#x27;model&#x27;, RandomForestClassifier())])</pre></div></div></div><div class=\"sk-serial\"><div class=\"sk-item\"><div class=\"sk-estimator sk-toggleable\"><input class=\"sk-toggleable__control sk-hidden--visually\" id=\"sk-estimator-id-2\" type=\"checkbox\" ><label for=\"sk-estimator-id-2\" class=\"sk-toggleable__label sk-toggleable__label-arrow\">StandardScaler</label><div class=\"sk-toggleable__content\"><pre>StandardScaler()</pre></div></div></div><div class=\"sk-item\"><div class=\"sk-estimator sk-toggleable\"><input class=\"sk-toggleable__control sk-hidden--visually\" id=\"sk-estimator-id-3\" type=\"checkbox\" ><label for=\"sk-estimator-id-3\" class=\"sk-toggleable__label sk-toggleable__label-arrow\">RandomForestClassifier</label><div class=\"sk-toggleable__content\"><pre>RandomForestClassifier()</pre></div></div></div></div></div></div></div>"
      ],
      "text/plain": [
       "Pipeline(steps=[('scale', StandardScaler()),\n",
       "                ('model', RandomForestClassifier())])"
      ]
     },
     "execution_count": 34,
     "metadata": {},
     "output_type": "execute_result"
    }
   ],
   "source": [
    "model.fit(X_train, y_train.values.ravel())"
   ]
  },
  {
   "cell_type": "code",
   "execution_count": 35,
   "id": "6e15e313",
   "metadata": {
    "execution": {
     "iopub.execute_input": "2025-08-19T18:58:24.104926Z",
     "iopub.status.busy": "2025-08-19T18:58:24.103884Z",
     "iopub.status.idle": "2025-08-19T18:58:25.584827Z",
     "shell.execute_reply": "2025-08-19T18:58:25.582963Z"
    },
    "papermill": {
     "duration": 1.497186,
     "end_time": "2025-08-19T18:58:25.586367",
     "exception": false,
     "start_time": "2025-08-19T18:58:24.089181",
     "status": "completed"
    },
    "tags": []
   },
   "outputs": [
    {
     "data": {
      "text/plain": [
       "0.8610857206554453"
      ]
     },
     "execution_count": 35,
     "metadata": {},
     "output_type": "execute_result"
    }
   ],
   "source": [
    "from fairness_multiverse.universe import predict_w_threshold\n",
    "\n",
    "probs_test = model.predict_proba(X_test)\n",
    "\n",
    "'''\n",
    "Below code returns a boolean array (or binary 0/1 array depending on how it’s used) where each element \n",
    "is True if the probability of class 1 is greater than or equal to the threshold, and False otherwise.\n",
    "'''\n",
    "y_pred_default = predict_w_threshold(probs_test, 0.5)\n",
    "\n",
    "from sklearn.metrics import accuracy_score\n",
    "\n",
    "# Naive prediction\n",
    "accuracy_score(y_true = y_true, y_pred = y_pred_default)"
   ]
  },
  {
   "cell_type": "code",
   "execution_count": 36,
   "id": "6f14067c",
   "metadata": {
    "execution": {
     "iopub.execute_input": "2025-08-19T18:58:25.611207Z",
     "iopub.status.busy": "2025-08-19T18:58:25.610462Z",
     "iopub.status.idle": "2025-08-19T18:58:27.104108Z",
     "shell.execute_reply": "2025-08-19T18:58:27.102974Z"
    },
    "papermill": {
     "duration": 1.507559,
     "end_time": "2025-08-19T18:58:27.105481",
     "exception": false,
     "start_time": "2025-08-19T18:58:25.597922",
     "status": "completed"
    },
    "tags": []
   },
   "outputs": [
    {
     "data": {
      "text/plain": [
       "array([0, 0, 0, ..., 0, 0, 0])"
      ]
     },
     "execution_count": 36,
     "metadata": {},
     "output_type": "execute_result"
    }
   ],
   "source": [
    "model.predict(X_test)"
   ]
  },
  {
   "cell_type": "markdown",
   "id": "3759920c",
   "metadata": {
    "papermill": {
     "duration": 0.011345,
     "end_time": "2025-08-19T18:58:27.128858",
     "exception": false,
     "start_time": "2025-08-19T18:58:27.117513",
     "status": "completed"
    },
    "tags": []
   },
   "source": [
    "# Conformal Prediction"
   ]
  },
  {
   "cell_type": "code",
   "execution_count": 37,
   "id": "14b27f59",
   "metadata": {
    "execution": {
     "iopub.execute_input": "2025-08-19T18:58:27.160705Z",
     "iopub.status.busy": "2025-08-19T18:58:27.154215Z",
     "iopub.status.idle": "2025-08-19T18:58:27.165007Z",
     "shell.execute_reply": "2025-08-19T18:58:27.164376Z"
    },
    "papermill": {
     "duration": 0.025994,
     "end_time": "2025-08-19T18:58:27.166297",
     "exception": false,
     "start_time": "2025-08-19T18:58:27.140303",
     "status": "completed"
    },
    "tags": []
   },
   "outputs": [],
   "source": [
    "# Miscoverage level for conformal prediction (10% allowed error rate => 90% target coverage)\n",
    "alpha = 0.1"
   ]
  },
  {
   "cell_type": "code",
   "execution_count": 38,
   "id": "59102472",
   "metadata": {
    "execution": {
     "iopub.execute_input": "2025-08-19T18:58:27.196907Z",
     "iopub.status.busy": "2025-08-19T18:58:27.195971Z",
     "iopub.status.idle": "2025-08-19T18:58:28.602282Z",
     "shell.execute_reply": "2025-08-19T18:58:28.601055Z"
    },
    "papermill": {
     "duration": 1.422531,
     "end_time": "2025-08-19T18:58:28.605257",
     "exception": false,
     "start_time": "2025-08-19T18:58:27.182726",
     "status": "completed"
    },
    "tags": []
   },
   "outputs": [],
   "source": [
    "probs_calib = model.predict_proba(X_calib)"
   ]
  },
  {
   "cell_type": "code",
   "execution_count": 39,
   "id": "a792d4dd",
   "metadata": {
    "execution": {
     "iopub.execute_input": "2025-08-19T18:58:28.649128Z",
     "iopub.status.busy": "2025-08-19T18:58:28.646874Z",
     "iopub.status.idle": "2025-08-19T18:58:28.658089Z",
     "shell.execute_reply": "2025-08-19T18:58:28.656710Z"
    },
    "papermill": {
     "duration": 0.028109,
     "end_time": "2025-08-19T18:58:28.659576",
     "exception": false,
     "start_time": "2025-08-19T18:58:28.631467",
     "status": "completed"
    },
    "tags": []
   },
   "outputs": [],
   "source": [
    "y_calib = y_calib.values.ravel().astype(int)"
   ]
  },
  {
   "cell_type": "code",
   "execution_count": 40,
   "id": "650fd033",
   "metadata": {
    "execution": {
     "iopub.execute_input": "2025-08-19T18:58:28.688079Z",
     "iopub.status.busy": "2025-08-19T18:58:28.687553Z",
     "iopub.status.idle": "2025-08-19T18:58:28.700576Z",
     "shell.execute_reply": "2025-08-19T18:58:28.699186Z"
    },
    "papermill": {
     "duration": 0.029806,
     "end_time": "2025-08-19T18:58:28.703666",
     "exception": false,
     "start_time": "2025-08-19T18:58:28.673860",
     "status": "completed"
    },
    "tags": []
   },
   "outputs": [],
   "source": [
    "from fairness_multiverse.conformal import compute_nc_scores\n",
    "\n",
    "# Compute nonconformity scores on calibration set (1 - probability of true class)\n",
    "nc_scores = compute_nc_scores(probs_calib, y_calib)"
   ]
  },
  {
   "cell_type": "code",
   "execution_count": 41,
   "id": "28ada44c",
   "metadata": {
    "execution": {
     "iopub.execute_input": "2025-08-19T18:58:28.745261Z",
     "iopub.status.busy": "2025-08-19T18:58:28.744460Z",
     "iopub.status.idle": "2025-08-19T18:58:28.755375Z",
     "shell.execute_reply": "2025-08-19T18:58:28.754295Z"
    },
    "papermill": {
     "duration": 0.027223,
     "end_time": "2025-08-19T18:58:28.756800",
     "exception": false,
     "start_time": "2025-08-19T18:58:28.729577",
     "status": "completed"
    },
    "tags": []
   },
   "outputs": [],
   "source": [
    "from fairness_multiverse.conformal import find_threshold\n",
    "\n",
    "# Find conformal threshold q_hat for the given alpha (split conformal method)\n",
    "q_hat = find_threshold(nc_scores, alpha)"
   ]
  },
  {
   "cell_type": "code",
   "execution_count": 42,
   "id": "df56469e",
   "metadata": {
    "execution": {
     "iopub.execute_input": "2025-08-19T18:58:28.785375Z",
     "iopub.status.busy": "2025-08-19T18:58:28.785019Z",
     "iopub.status.idle": "2025-08-19T18:58:28.792870Z",
     "shell.execute_reply": "2025-08-19T18:58:28.792170Z"
    },
    "papermill": {
     "duration": 0.021966,
     "end_time": "2025-08-19T18:58:28.794078",
     "exception": false,
     "start_time": "2025-08-19T18:58:28.772112",
     "status": "completed"
    },
    "tags": []
   },
   "outputs": [
    {
     "data": {
      "text/plain": [
       "0.6699999999999999"
      ]
     },
     "execution_count": 42,
     "metadata": {},
     "output_type": "execute_result"
    }
   ],
   "source": [
    "q_hat"
   ]
  },
  {
   "cell_type": "code",
   "execution_count": 43,
   "id": "aa1f5faa",
   "metadata": {
    "execution": {
     "iopub.execute_input": "2025-08-19T18:58:28.820426Z",
     "iopub.status.busy": "2025-08-19T18:58:28.819632Z",
     "iopub.status.idle": "2025-08-19T18:58:30.802519Z",
     "shell.execute_reply": "2025-08-19T18:58:30.801311Z"
    },
    "papermill": {
     "duration": 1.998285,
     "end_time": "2025-08-19T18:58:30.804210",
     "exception": false,
     "start_time": "2025-08-19T18:58:28.805925",
     "status": "completed"
    },
    "tags": []
   },
   "outputs": [],
   "source": [
    "from fairness_multiverse.conformal import predict_conformal_sets\n",
    "\n",
    "# Generate prediction sets for each test example\n",
    "pred_sets = predict_conformal_sets(model, X_test, q_hat)"
   ]
  },
  {
   "cell_type": "code",
   "execution_count": 44,
   "id": "97f67a6b",
   "metadata": {
    "execution": {
     "iopub.execute_input": "2025-08-19T18:58:30.831555Z",
     "iopub.status.busy": "2025-08-19T18:58:30.830139Z",
     "iopub.status.idle": "2025-08-19T18:58:30.840224Z",
     "shell.execute_reply": "2025-08-19T18:58:30.839194Z"
    },
    "papermill": {
     "duration": 0.025184,
     "end_time": "2025-08-19T18:58:30.841598",
     "exception": false,
     "start_time": "2025-08-19T18:58:30.816414",
     "status": "completed"
    },
    "tags": []
   },
   "outputs": [],
   "source": [
    "y_true = y_true.squeeze()"
   ]
  },
  {
   "cell_type": "code",
   "execution_count": 45,
   "id": "e700e9a7",
   "metadata": {
    "execution": {
     "iopub.execute_input": "2025-08-19T18:58:30.871034Z",
     "iopub.status.busy": "2025-08-19T18:58:30.869637Z",
     "iopub.status.idle": "2025-08-19T18:58:31.393485Z",
     "shell.execute_reply": "2025-08-19T18:58:31.392188Z"
    },
    "papermill": {
     "duration": 0.539054,
     "end_time": "2025-08-19T18:58:31.395169",
     "exception": false,
     "start_time": "2025-08-19T18:58:30.856115",
     "status": "completed"
    },
    "tags": []
   },
   "outputs": [],
   "source": [
    "from fairness_multiverse.conformal import evaluate_sets\n",
    "\n",
    "# Evaluate coverage and average set size on test data\n",
    "metrics = evaluate_sets(pred_sets, y_true)"
   ]
  },
  {
   "cell_type": "markdown",
   "id": "efbacec0",
   "metadata": {
    "papermill": {
     "duration": 0.016798,
     "end_time": "2025-08-19T18:58:31.426130",
     "exception": false,
     "start_time": "2025-08-19T18:58:31.409332",
     "status": "completed"
    },
    "tags": []
   },
   "source": [
    "# CP Metrics"
   ]
  },
  {
   "cell_type": "code",
   "execution_count": 46,
   "id": "9de55fb1",
   "metadata": {
    "execution": {
     "iopub.execute_input": "2025-08-19T18:58:31.451713Z",
     "iopub.status.busy": "2025-08-19T18:58:31.451143Z",
     "iopub.status.idle": "2025-08-19T18:58:31.458628Z",
     "shell.execute_reply": "2025-08-19T18:58:31.457936Z"
    },
    "papermill": {
     "duration": 0.022367,
     "end_time": "2025-08-19T18:58:31.460557",
     "exception": false,
     "start_time": "2025-08-19T18:58:31.438190",
     "status": "completed"
    },
    "tags": []
   },
   "outputs": [
    {
     "data": {
      "text/plain": [
       "{'coverage': 0.9166313677404971, 'avg_size': 1.1583212573849069}"
      ]
     },
     "execution_count": 46,
     "metadata": {},
     "output_type": "execute_result"
    }
   ],
   "source": [
    "metrics"
   ]
  },
  {
   "cell_type": "code",
   "execution_count": 47,
   "id": "64c340a1",
   "metadata": {
    "execution": {
     "iopub.execute_input": "2025-08-19T18:58:31.485740Z",
     "iopub.status.busy": "2025-08-19T18:58:31.485289Z",
     "iopub.status.idle": "2025-08-19T18:58:31.490629Z",
     "shell.execute_reply": "2025-08-19T18:58:31.489906Z"
    },
    "papermill": {
     "duration": 0.01939,
     "end_time": "2025-08-19T18:58:31.491998",
     "exception": false,
     "start_time": "2025-08-19T18:58:31.472608",
     "status": "completed"
    },
    "tags": []
   },
   "outputs": [],
   "source": [
    "example_universe = universe.copy()\n",
    "universe_training_year = example_universe.get(\"training_year\")\n",
    "universe_training_size = example_universe.get(\"training_size\")\n",
    "universe_scale = example_universe.get(\"scale\")\n",
    "universe_model = example_universe.get(\"model\")\n",
    "universe_exclude_features = example_universe.get(\"exclude_features\")\n",
    "universe_exclude_subgroups = example_universe.get(\"exclude_subgroups\")"
   ]
  },
  {
   "cell_type": "code",
   "execution_count": 48,
   "id": "dbb53cb4",
   "metadata": {
    "execution": {
     "iopub.execute_input": "2025-08-19T18:58:31.517309Z",
     "iopub.status.busy": "2025-08-19T18:58:31.516853Z",
     "iopub.status.idle": "2025-08-19T18:58:31.522104Z",
     "shell.execute_reply": "2025-08-19T18:58:31.521400Z"
    },
    "papermill": {
     "duration": 0.019474,
     "end_time": "2025-08-19T18:58:31.523496",
     "exception": false,
     "start_time": "2025-08-19T18:58:31.504022",
     "status": "completed"
    },
    "tags": []
   },
   "outputs": [],
   "source": [
    "cp_metrics_dict = {\n",
    "    \"universe_id\": [universe_id],\n",
    "    \"universe_training_year\": [universe_training_year],\n",
    "    \"universe_training_size\": [universe_training_size],\n",
    "    \"universe_scale\": [universe_scale],\n",
    "    \"universe_model\": [universe_model],\n",
    "    \"universe_exclude_features\": [universe_exclude_features],\n",
    "    \"universe_exclude_subgroups\": [universe_exclude_subgroups],\n",
    "    \"q_hat\": [q_hat],\n",
    "    \"coverage\": [metrics[\"coverage\"]],\n",
    "    \"avg_size\": [metrics[\"avg_size\"]],\n",
    "}"
   ]
  },
  {
   "cell_type": "code",
   "execution_count": 49,
   "id": "0d70d4b2",
   "metadata": {
    "execution": {
     "iopub.execute_input": "2025-08-19T18:58:31.548777Z",
     "iopub.status.busy": "2025-08-19T18:58:31.548324Z",
     "iopub.status.idle": "2025-08-19T18:58:31.554687Z",
     "shell.execute_reply": "2025-08-19T18:58:31.553948Z"
    },
    "papermill": {
     "duration": 0.020519,
     "end_time": "2025-08-19T18:58:31.556086",
     "exception": false,
     "start_time": "2025-08-19T18:58:31.535567",
     "status": "completed"
    },
    "tags": []
   },
   "outputs": [],
   "source": [
    "cp_metrics_df = pd.DataFrame(cp_metrics_dict)"
   ]
  },
  {
   "cell_type": "code",
   "execution_count": 50,
   "id": "b494403c",
   "metadata": {
    "execution": {
     "iopub.execute_input": "2025-08-19T18:58:31.581542Z",
     "iopub.status.busy": "2025-08-19T18:58:31.581093Z",
     "iopub.status.idle": "2025-08-19T18:58:31.596179Z",
     "shell.execute_reply": "2025-08-19T18:58:31.595427Z"
    },
    "papermill": {
     "duration": 0.029656,
     "end_time": "2025-08-19T18:58:31.597742",
     "exception": false,
     "start_time": "2025-08-19T18:58:31.568086",
     "status": "completed"
    },
    "tags": []
   },
   "outputs": [
    {
     "data": {
      "text/html": [
       "<div>\n",
       "<style scoped>\n",
       "    .dataframe tbody tr th:only-of-type {\n",
       "        vertical-align: middle;\n",
       "    }\n",
       "\n",
       "    .dataframe tbody tr th {\n",
       "        vertical-align: top;\n",
       "    }\n",
       "\n",
       "    .dataframe thead th {\n",
       "        text-align: right;\n",
       "    }\n",
       "</style>\n",
       "<table border=\"1\" class=\"dataframe\">\n",
       "  <thead>\n",
       "    <tr style=\"text-align: right;\">\n",
       "      <th></th>\n",
       "      <th>universe_id</th>\n",
       "      <th>universe_training_year</th>\n",
       "      <th>universe_training_size</th>\n",
       "      <th>universe_scale</th>\n",
       "      <th>universe_model</th>\n",
       "      <th>universe_exclude_features</th>\n",
       "      <th>universe_exclude_subgroups</th>\n",
       "      <th>q_hat</th>\n",
       "      <th>coverage</th>\n",
       "      <th>avg_size</th>\n",
       "    </tr>\n",
       "  </thead>\n",
       "  <tbody>\n",
       "    <tr>\n",
       "      <th>0</th>\n",
       "      <td>f04af13ebdff77d105f8c8b2d129e57a</td>\n",
       "      <td>2012_14</td>\n",
       "      <td>1k</td>\n",
       "      <td>scale</td>\n",
       "      <td>rf</td>\n",
       "      <td>nationality</td>\n",
       "      <td>keep-all</td>\n",
       "      <td>0.67</td>\n",
       "      <td>0.916631</td>\n",
       "      <td>1.158321</td>\n",
       "    </tr>\n",
       "  </tbody>\n",
       "</table>\n",
       "</div>"
      ],
      "text/plain": [
       "                        universe_id universe_training_year  \\\n",
       "0  f04af13ebdff77d105f8c8b2d129e57a                2012_14   \n",
       "\n",
       "  universe_training_size universe_scale universe_model  \\\n",
       "0                     1k          scale             rf   \n",
       "\n",
       "  universe_exclude_features universe_exclude_subgroups  q_hat  coverage  \\\n",
       "0               nationality                   keep-all   0.67  0.916631   \n",
       "\n",
       "   avg_size  \n",
       "0  1.158321  "
      ]
     },
     "execution_count": 50,
     "metadata": {},
     "output_type": "execute_result"
    }
   ],
   "source": [
    "cp_metrics_df"
   ]
  },
  {
   "cell_type": "markdown",
   "id": "ed608b0b",
   "metadata": {
    "papermill": {
     "duration": 0.012091,
     "end_time": "2025-08-19T18:58:31.623820",
     "exception": false,
     "start_time": "2025-08-19T18:58:31.611729",
     "status": "completed"
    },
    "tags": []
   },
   "source": [
    "Conditional coverage & looking at subgroups"
   ]
  },
  {
   "cell_type": "code",
   "execution_count": 51,
   "id": "8968c366",
   "metadata": {
    "execution": {
     "iopub.execute_input": "2025-08-19T18:58:31.649695Z",
     "iopub.status.busy": "2025-08-19T18:58:31.649223Z",
     "iopub.status.idle": "2025-08-19T18:58:31.916685Z",
     "shell.execute_reply": "2025-08-19T18:58:31.915801Z"
    },
    "papermill": {
     "duration": 0.282281,
     "end_time": "2025-08-19T18:58:31.918251",
     "exception": false,
     "start_time": "2025-08-19T18:58:31.635970",
     "status": "completed"
    },
    "tags": []
   },
   "outputs": [],
   "source": [
    "from fairness_multiverse.conformal import build_cp_groups\n",
    "\n",
    "cp_groups_df = build_cp_groups(pred_sets, y_true, X_test.index, org_test)"
   ]
  },
  {
   "cell_type": "code",
   "execution_count": 52,
   "id": "292ddabf",
   "metadata": {
    "execution": {
     "iopub.execute_input": "2025-08-19T18:58:31.948789Z",
     "iopub.status.busy": "2025-08-19T18:58:31.948229Z",
     "iopub.status.idle": "2025-08-19T18:58:32.804439Z",
     "shell.execute_reply": "2025-08-19T18:58:32.803192Z"
    },
    "papermill": {
     "duration": 0.875463,
     "end_time": "2025-08-19T18:58:32.806415",
     "exception": false,
     "start_time": "2025-08-19T18:58:31.930952",
     "status": "completed"
    },
    "tags": []
   },
   "outputs": [],
   "source": [
    "# Define covered = 1 if true_label is in the predicted set\n",
    "cp_groups_df['covered'] = cp_groups_df.apply(\n",
    "    lambda r: int(r['true_label'] in r['pred_set']),\n",
    "    axis=1\n",
    ")"
   ]
  },
  {
   "cell_type": "code",
   "execution_count": 53,
   "id": "3a261692",
   "metadata": {
    "execution": {
     "iopub.execute_input": "2025-08-19T18:58:32.835308Z",
     "iopub.status.busy": "2025-08-19T18:58:32.834952Z",
     "iopub.status.idle": "2025-08-19T18:58:32.847645Z",
     "shell.execute_reply": "2025-08-19T18:58:32.846888Z"
    },
    "papermill": {
     "duration": 0.028528,
     "end_time": "2025-08-19T18:58:32.849551",
     "exception": false,
     "start_time": "2025-08-19T18:58:32.821023",
     "status": "completed"
    },
    "tags": []
   },
   "outputs": [],
   "source": [
    "subgroups = ['frau1','nongerman','nongerman_male','nongerman_female']\n",
    "\n",
    "# Conditional coverage for subgroup==1\n",
    "cond_coverage = {\n",
    "    g: cp_groups_df.loc[cp_groups_df[g]==1, 'covered'].mean()\n",
    "    for g in subgroups\n",
    "}"
   ]
  },
  {
   "cell_type": "code",
   "execution_count": 54,
   "id": "894fd600",
   "metadata": {
    "execution": {
     "iopub.execute_input": "2025-08-19T18:58:32.890413Z",
     "iopub.status.busy": "2025-08-19T18:58:32.889796Z",
     "iopub.status.idle": "2025-08-19T18:58:32.900648Z",
     "shell.execute_reply": "2025-08-19T18:58:32.899393Z"
    },
    "papermill": {
     "duration": 0.034098,
     "end_time": "2025-08-19T18:58:32.903365",
     "exception": false,
     "start_time": "2025-08-19T18:58:32.869267",
     "status": "completed"
    },
    "tags": []
   },
   "outputs": [
    {
     "data": {
      "text/plain": [
       "{'frau1': 0.9154872624342903,\n",
       " 'nongerman': 0.9087744905406164,\n",
       " 'nongerman_male': 0.9249752319193011,\n",
       " 'nongerman_female': 0.8819672131147541}"
      ]
     },
     "execution_count": 54,
     "metadata": {},
     "output_type": "execute_result"
    }
   ],
   "source": [
    "cond_coverage"
   ]
  },
  {
   "cell_type": "code",
   "execution_count": 55,
   "id": "942895c7",
   "metadata": {
    "execution": {
     "iopub.execute_input": "2025-08-19T18:58:32.936207Z",
     "iopub.status.busy": "2025-08-19T18:58:32.934912Z",
     "iopub.status.idle": "2025-08-19T18:58:32.945939Z",
     "shell.execute_reply": "2025-08-19T18:58:32.944768Z"
    },
    "papermill": {
     "duration": 0.027131,
     "end_time": "2025-08-19T18:58:32.947665",
     "exception": false,
     "start_time": "2025-08-19T18:58:32.920534",
     "status": "completed"
    },
    "tags": []
   },
   "outputs": [],
   "source": [
    "for subgroup, cov in cond_coverage.items():\n",
    "    cp_metrics_df[f\"cov_{subgroup}\"] = cov"
   ]
  },
  {
   "cell_type": "code",
   "execution_count": 56,
   "id": "3970120f",
   "metadata": {
    "execution": {
     "iopub.execute_input": "2025-08-19T18:58:32.983039Z",
     "iopub.status.busy": "2025-08-19T18:58:32.981725Z",
     "iopub.status.idle": "2025-08-19T18:58:33.006615Z",
     "shell.execute_reply": "2025-08-19T18:58:33.005816Z"
    },
    "papermill": {
     "duration": 0.042581,
     "end_time": "2025-08-19T18:58:33.008462",
     "exception": false,
     "start_time": "2025-08-19T18:58:32.965881",
     "status": "completed"
    },
    "tags": []
   },
   "outputs": [
    {
     "data": {
      "text/html": [
       "<div>\n",
       "<style scoped>\n",
       "    .dataframe tbody tr th:only-of-type {\n",
       "        vertical-align: middle;\n",
       "    }\n",
       "\n",
       "    .dataframe tbody tr th {\n",
       "        vertical-align: top;\n",
       "    }\n",
       "\n",
       "    .dataframe thead th {\n",
       "        text-align: right;\n",
       "    }\n",
       "</style>\n",
       "<table border=\"1\" class=\"dataframe\">\n",
       "  <thead>\n",
       "    <tr style=\"text-align: right;\">\n",
       "      <th></th>\n",
       "      <th>universe_id</th>\n",
       "      <th>universe_training_year</th>\n",
       "      <th>universe_training_size</th>\n",
       "      <th>universe_scale</th>\n",
       "      <th>universe_model</th>\n",
       "      <th>universe_exclude_features</th>\n",
       "      <th>universe_exclude_subgroups</th>\n",
       "      <th>q_hat</th>\n",
       "      <th>coverage</th>\n",
       "      <th>avg_size</th>\n",
       "      <th>cov_frau1</th>\n",
       "      <th>cov_nongerman</th>\n",
       "      <th>cov_nongerman_male</th>\n",
       "      <th>cov_nongerman_female</th>\n",
       "    </tr>\n",
       "  </thead>\n",
       "  <tbody>\n",
       "    <tr>\n",
       "      <th>0</th>\n",
       "      <td>f04af13ebdff77d105f8c8b2d129e57a</td>\n",
       "      <td>2012_14</td>\n",
       "      <td>1k</td>\n",
       "      <td>scale</td>\n",
       "      <td>rf</td>\n",
       "      <td>nationality</td>\n",
       "      <td>keep-all</td>\n",
       "      <td>0.67</td>\n",
       "      <td>0.916631</td>\n",
       "      <td>1.158321</td>\n",
       "      <td>0.915487</td>\n",
       "      <td>0.908774</td>\n",
       "      <td>0.924975</td>\n",
       "      <td>0.881967</td>\n",
       "    </tr>\n",
       "  </tbody>\n",
       "</table>\n",
       "</div>"
      ],
      "text/plain": [
       "                        universe_id universe_training_year  \\\n",
       "0  f04af13ebdff77d105f8c8b2d129e57a                2012_14   \n",
       "\n",
       "  universe_training_size universe_scale universe_model  \\\n",
       "0                     1k          scale             rf   \n",
       "\n",
       "  universe_exclude_features universe_exclude_subgroups  q_hat  coverage  \\\n",
       "0               nationality                   keep-all   0.67  0.916631   \n",
       "\n",
       "   avg_size  cov_frau1  cov_nongerman  cov_nongerman_male  \\\n",
       "0  1.158321   0.915487       0.908774            0.924975   \n",
       "\n",
       "   cov_nongerman_female  \n",
       "0              0.881967  "
      ]
     },
     "execution_count": 56,
     "metadata": {},
     "output_type": "execute_result"
    }
   ],
   "source": [
    "cp_metrics_df"
   ]
  },
  {
   "cell_type": "markdown",
   "id": "3fc519cc",
   "metadata": {
    "papermill": {
     "duration": 0.013173,
     "end_time": "2025-08-19T18:58:33.042242",
     "exception": false,
     "start_time": "2025-08-19T18:58:33.029069",
     "status": "completed"
    },
    "tags": []
   },
   "source": [
    "# (Fairness) Metrics"
   ]
  },
  {
   "cell_type": "code",
   "execution_count": 57,
   "id": "a2e5e155",
   "metadata": {
    "execution": {
     "iopub.execute_input": "2025-08-19T18:58:33.069976Z",
     "iopub.status.busy": "2025-08-19T18:58:33.068677Z",
     "iopub.status.idle": "2025-08-19T18:58:33.097494Z",
     "shell.execute_reply": "2025-08-19T18:58:33.096648Z"
    },
    "papermill": {
     "duration": 0.045116,
     "end_time": "2025-08-19T18:58:33.099685",
     "exception": false,
     "start_time": "2025-08-19T18:58:33.054569",
     "status": "completed"
    },
    "tags": []
   },
   "outputs": [],
   "source": [
    "colname_to_bin = \"maxdeutsch1\"\n",
    "majority_value = org_train[colname_to_bin].mode()[0]\n",
    "\n",
    "org_test[\"majmin\"] = np.where(org_test[colname_to_bin] == majority_value, \"majority\", \"minority\")"
   ]
  },
  {
   "cell_type": "code",
   "execution_count": 58,
   "id": "17e3e4d5",
   "metadata": {
    "execution": {
     "iopub.execute_input": "2025-08-19T18:58:33.147110Z",
     "iopub.status.busy": "2025-08-19T18:58:33.145732Z",
     "iopub.status.idle": "2025-08-19T18:58:34.942881Z",
     "shell.execute_reply": "2025-08-19T18:58:34.941592Z"
    },
    "papermill": {
     "duration": 1.813994,
     "end_time": "2025-08-19T18:58:34.944852",
     "exception": false,
     "start_time": "2025-08-19T18:58:33.130858",
     "status": "completed"
    },
    "tags": []
   },
   "outputs": [],
   "source": [
    "example_universe = universe.copy()\n",
    "example_universe[\"cutoff\"] = example_universe[\"cutoff\"][0]\n",
    "example_universe[\"eval_fairness_grouping\"] = example_universe[\"eval_fairness_grouping\"][0]\n",
    "fairness_dict, metric_frame = universe_analysis.compute_metrics(\n",
    "    example_universe,\n",
    "    y_pred_prob=probs_test,\n",
    "    y_test=y_true,\n",
    "    org_test=org_test,\n",
    ")"
   ]
  },
  {
   "cell_type": "markdown",
   "id": "1fb7a0e9",
   "metadata": {
    "papermill": {
     "duration": 0.012759,
     "end_time": "2025-08-19T18:58:34.973177",
     "exception": false,
     "start_time": "2025-08-19T18:58:34.960418",
     "status": "completed"
    },
    "tags": []
   },
   "source": [
    "# Overall"
   ]
  },
  {
   "cell_type": "markdown",
   "id": "be1784b1",
   "metadata": {
    "papermill": {
     "duration": 0.012425,
     "end_time": "2025-08-19T18:58:34.998302",
     "exception": false,
     "start_time": "2025-08-19T18:58:34.985877",
     "status": "completed"
    },
    "tags": []
   },
   "source": [
    "Main fairness target: Equalized Odds. Seems to be a better fit than equal opportunity, since we're not only interested in Y = 1. Seems to be a better fit than demographic parity, since we also care about accuracy, not just equal distribution of preds.\n",
    "\n",
    "Pick column for computation of fairness metrics\n",
    "\n",
    "Performance\n",
    "Overall performance measures, most interesting in relation to the measures split by group below"
   ]
  },
  {
   "cell_type": "code",
   "execution_count": 59,
   "id": "b7672bee",
   "metadata": {
    "execution": {
     "iopub.execute_input": "2025-08-19T18:58:35.025047Z",
     "iopub.status.busy": "2025-08-19T18:58:35.024697Z",
     "iopub.status.idle": "2025-08-19T18:58:35.033999Z",
     "shell.execute_reply": "2025-08-19T18:58:35.033201Z"
    },
    "papermill": {
     "duration": 0.025365,
     "end_time": "2025-08-19T18:58:35.036071",
     "exception": false,
     "start_time": "2025-08-19T18:58:35.010706",
     "status": "completed"
    },
    "tags": []
   },
   "outputs": [
    {
     "data": {
      "text/plain": [
       "accuracy                   0.195842\n",
       "balanced accuracy          0.531415\n",
       "f1                         0.238706\n",
       "precision                  0.135851\n",
       "false positive rate        0.919964\n",
       "false negative rate        0.017205\n",
       "selection rate             0.928024\n",
       "count                  89710.000000\n",
       "dtype: float64"
      ]
     },
     "execution_count": 59,
     "metadata": {},
     "output_type": "execute_result"
    }
   ],
   "source": [
    "metric_frame.overall"
   ]
  },
  {
   "cell_type": "markdown",
   "id": "d93333c9",
   "metadata": {
    "papermill": {
     "duration": 0.012647,
     "end_time": "2025-08-19T18:58:35.063998",
     "exception": false,
     "start_time": "2025-08-19T18:58:35.051351",
     "status": "completed"
    },
    "tags": []
   },
   "source": [
    "By Group"
   ]
  },
  {
   "cell_type": "code",
   "execution_count": 60,
   "id": "52256966",
   "metadata": {
    "execution": {
     "iopub.execute_input": "2025-08-19T18:58:35.090982Z",
     "iopub.status.busy": "2025-08-19T18:58:35.090656Z",
     "iopub.status.idle": "2025-08-19T18:58:35.106073Z",
     "shell.execute_reply": "2025-08-19T18:58:35.105242Z"
    },
    "papermill": {
     "duration": 0.030618,
     "end_time": "2025-08-19T18:58:35.107569",
     "exception": false,
     "start_time": "2025-08-19T18:58:35.076951",
     "status": "completed"
    },
    "tags": []
   },
   "outputs": [
    {
     "data": {
      "text/html": [
       "<div>\n",
       "<style scoped>\n",
       "    .dataframe tbody tr th:only-of-type {\n",
       "        vertical-align: middle;\n",
       "    }\n",
       "\n",
       "    .dataframe tbody tr th {\n",
       "        vertical-align: top;\n",
       "    }\n",
       "\n",
       "    .dataframe thead th {\n",
       "        text-align: right;\n",
       "    }\n",
       "</style>\n",
       "<table border=\"1\" class=\"dataframe\">\n",
       "  <thead>\n",
       "    <tr style=\"text-align: right;\">\n",
       "      <th></th>\n",
       "      <th>accuracy</th>\n",
       "      <th>balanced accuracy</th>\n",
       "      <th>f1</th>\n",
       "      <th>precision</th>\n",
       "      <th>false positive rate</th>\n",
       "      <th>false negative rate</th>\n",
       "      <th>selection rate</th>\n",
       "      <th>count</th>\n",
       "    </tr>\n",
       "    <tr>\n",
       "      <th>majmin</th>\n",
       "      <th></th>\n",
       "      <th></th>\n",
       "      <th></th>\n",
       "      <th></th>\n",
       "      <th></th>\n",
       "      <th></th>\n",
       "      <th></th>\n",
       "      <th></th>\n",
       "    </tr>\n",
       "  </thead>\n",
       "  <tbody>\n",
       "    <tr>\n",
       "      <th>majority</th>\n",
       "      <td>0.201460</td>\n",
       "      <td>0.535347</td>\n",
       "      <td>0.246628</td>\n",
       "      <td>0.140876</td>\n",
       "      <td>0.918474</td>\n",
       "      <td>0.010832</td>\n",
       "      <td>0.927816</td>\n",
       "      <td>69170.0</td>\n",
       "    </tr>\n",
       "    <tr>\n",
       "      <th>minority</th>\n",
       "      <td>0.176923</td>\n",
       "      <td>0.516654</td>\n",
       "      <td>0.211621</td>\n",
       "      <td>0.118945</td>\n",
       "      <td>0.924884</td>\n",
       "      <td>0.041807</td>\n",
       "      <td>0.928724</td>\n",
       "      <td>20540.0</td>\n",
       "    </tr>\n",
       "  </tbody>\n",
       "</table>\n",
       "</div>"
      ],
      "text/plain": [
       "          accuracy  balanced accuracy        f1  precision  \\\n",
       "majmin                                                       \n",
       "majority  0.201460           0.535347  0.246628   0.140876   \n",
       "minority  0.176923           0.516654  0.211621   0.118945   \n",
       "\n",
       "          false positive rate  false negative rate  selection rate    count  \n",
       "majmin                                                                       \n",
       "majority             0.918474             0.010832        0.927816  69170.0  \n",
       "minority             0.924884             0.041807        0.928724  20540.0  "
      ]
     },
     "execution_count": 60,
     "metadata": {},
     "output_type": "execute_result"
    }
   ],
   "source": [
    "metric_frame.by_group"
   ]
  },
  {
   "cell_type": "code",
   "execution_count": 61,
   "id": "6e6c20ae",
   "metadata": {
    "execution": {
     "iopub.execute_input": "2025-08-19T18:58:35.137276Z",
     "iopub.status.busy": "2025-08-19T18:58:35.136808Z",
     "iopub.status.idle": "2025-08-19T18:58:36.948816Z",
     "shell.execute_reply": "2025-08-19T18:58:36.947223Z"
    },
    "papermill": {
     "duration": 1.827222,
     "end_time": "2025-08-19T18:58:36.950189",
     "exception": false,
     "start_time": "2025-08-19T18:58:35.122967",
     "status": "completed"
    },
    "tags": []
   },
   "outputs": [
    {
     "data": {
      "text/plain": [
       "array([[<Axes: title={'center': 'accuracy'}, xlabel='majmin'>,\n",
       "        <Axes: title={'center': 'balanced accuracy'}, xlabel='majmin'>,\n",
       "        <Axes: title={'center': 'f1'}, xlabel='majmin'>],\n",
       "       [<Axes: title={'center': 'precision'}, xlabel='majmin'>,\n",
       "        <Axes: title={'center': 'false positive rate'}, xlabel='majmin'>,\n",
       "        <Axes: title={'center': 'false negative rate'}, xlabel='majmin'>],\n",
       "       [<Axes: title={'center': 'selection rate'}, xlabel='majmin'>,\n",
       "        <Axes: title={'center': 'count'}, xlabel='majmin'>,\n",
       "        <Axes: xlabel='majmin'>]], dtype=object)"
      ]
     },
     "execution_count": 61,
     "metadata": {},
     "output_type": "execute_result"
    },
    {
     "data": {
      "image/png": "[encoded data removed]",
      "text/plain": [
       "<Figure size 1200x800 with 9 Axes>"
      ]
     },
     "metadata": {},
     "output_type": "display_data"
    }
   ],
   "source": [
    "# In a graphic\n",
    "metric_frame.by_group.plot.bar(\n",
    "    subplots=True,\n",
    "    layout=[3, 3],\n",
    "    legend=False,\n",
    "    figsize=[12, 8],\n",
    "    title=\"Show all metrics\",\n",
    ")"
   ]
  },
  {
   "cell_type": "markdown",
   "id": "b2e433ae",
   "metadata": {
    "papermill": {
     "duration": 0.022685,
     "end_time": "2025-08-19T18:58:36.991127",
     "exception": false,
     "start_time": "2025-08-19T18:58:36.968442",
     "status": "completed"
    },
    "tags": []
   },
   "source": [
    "# Final Output"
   ]
  },
  {
   "cell_type": "code",
   "execution_count": 62,
   "id": "3871301e",
   "metadata": {
    "execution": {
     "iopub.execute_input": "2025-08-19T18:58:37.027119Z",
     "iopub.status.busy": "2025-08-19T18:58:37.024455Z",
     "iopub.status.idle": "2025-08-19T18:58:37.044581Z",
     "shell.execute_reply": "2025-08-19T18:58:37.043482Z"
    },
    "papermill": {
     "duration": 0.040772,
     "end_time": "2025-08-19T18:58:37.046350",
     "exception": false,
     "start_time": "2025-08-19T18:58:37.005578",
     "status": "completed"
    },
    "tags": []
   },
   "outputs": [
    {
     "data": {
      "text/plain": [
       "4"
      ]
     },
     "execution_count": 62,
     "metadata": {},
     "output_type": "execute_result"
    }
   ],
   "source": [
    "sub_universes = universe_analysis.generate_sub_universes()\n",
    "len(sub_universes)"
   ]
  },
  {
   "cell_type": "code",
   "execution_count": 63,
   "id": "d9cfdaca",
   "metadata": {
    "execution": {
     "iopub.execute_input": "2025-08-19T18:58:37.083338Z",
     "iopub.status.busy": "2025-08-19T18:58:37.082747Z",
     "iopub.status.idle": "2025-08-19T18:58:37.089061Z",
     "shell.execute_reply": "2025-08-19T18:58:37.087673Z"
    },
    "papermill": {
     "duration": 0.022873,
     "end_time": "2025-08-19T18:58:37.090339",
     "exception": false,
     "start_time": "2025-08-19T18:58:37.067466",
     "status": "completed"
    },
    "tags": []
   },
   "outputs": [],
   "source": [
    "def filter_sub_universe_data(sub_universe, org_test):\n",
    "    # Keep all rows — no filtering\n",
    "    keep_rows_mask = np.ones(org_test.shape[0], dtype=bool)\n",
    "\n",
    "    print(f\"[INFO] Keeping all rows: {keep_rows_mask.sum()} rows retained.\")\n",
    "    return keep_rows_mask"
   ]
  },
  {
   "cell_type": "code",
   "execution_count": 64,
   "id": "2bc31ac1",
   "metadata": {
    "execution": {
     "iopub.execute_input": "2025-08-19T18:58:37.123408Z",
     "iopub.status.busy": "2025-08-19T18:58:37.122034Z",
     "iopub.status.idle": "2025-08-19T18:58:44.015285Z",
     "shell.execute_reply": "2025-08-19T18:58:44.014233Z"
    },
    "papermill": {
     "duration": 6.912008,
     "end_time": "2025-08-19T18:58:44.018440",
     "exception": false,
     "start_time": "2025-08-19T18:58:37.106432",
     "status": "completed"
    },
    "tags": []
   },
   "outputs": [
    {
     "name": "stdout",
     "output_type": "stream",
     "text": [
      "Stopping execution_time clock.\n",
      "[INFO] Keeping all rows: 89710 rows retained.\n"
     ]
    },
    {
     "name": "stdout",
     "output_type": "stream",
     "text": [
      "[INFO] Keeping all rows: 89710 rows retained.\n"
     ]
    },
    {
     "name": "stdout",
     "output_type": "stream",
     "text": [
      "[INFO] Keeping all rows: 89710 rows retained.\n"
     ]
    },
    {
     "name": "stdout",
     "output_type": "stream",
     "text": [
      "[INFO] Keeping all rows: 89710 rows retained.\n"
     ]
    },
    {
     "data": {
      "text/html": [
       "<div>\n",
       "<style scoped>\n",
       "    .dataframe tbody tr th:only-of-type {\n",
       "        vertical-align: middle;\n",
       "    }\n",
       "\n",
       "    .dataframe tbody tr th {\n",
       "        vertical-align: top;\n",
       "    }\n",
       "\n",
       "    .dataframe thead th {\n",
       "        text-align: right;\n",
       "    }\n",
       "</style>\n",
       "<table border=\"1\" class=\"dataframe\">\n",
       "  <thead>\n",
       "    <tr style=\"text-align: right;\">\n",
       "      <th></th>\n",
       "      <th>run_no</th>\n",
       "      <th>universe_id</th>\n",
       "      <th>universe_settings</th>\n",
       "      <th>execution_time</th>\n",
       "      <th>test_size_n</th>\n",
       "      <th>test_size_frac</th>\n",
       "      <th>fair_main_equalized_odds_difference</th>\n",
       "      <th>fair_main_equalized_odds_ratio</th>\n",
       "      <th>fair_main_demographic_parity_difference</th>\n",
       "      <th>fair_main_demographic_parity_ratio</th>\n",
       "      <th>...</th>\n",
       "      <th>perf_grp_precision_0</th>\n",
       "      <th>perf_grp_precision_1</th>\n",
       "      <th>perf_grp_false positive rate_0</th>\n",
       "      <th>perf_grp_false positive rate_1</th>\n",
       "      <th>perf_grp_false negative rate_0</th>\n",
       "      <th>perf_grp_false negative rate_1</th>\n",
       "      <th>perf_grp_selection rate_0</th>\n",
       "      <th>perf_grp_selection rate_1</th>\n",
       "      <th>perf_grp_count_0</th>\n",
       "      <th>perf_grp_count_1</th>\n",
       "    </tr>\n",
       "  </thead>\n",
       "  <tbody>\n",
       "    <tr>\n",
       "      <th>0</th>\n",
       "      <td>3</td>\n",
       "      <td>f04af13ebdff77d105f8c8b2d129e57a</td>\n",
       "      <td>{\"cutoff\": \"quantile_0.1\", \"eval_fairness_grou...</td>\n",
       "      <td>26.525912</td>\n",
       "      <td>89710</td>\n",
       "      <td>1.0</td>\n",
       "      <td>0.030976</td>\n",
       "      <td>0.968685</td>\n",
       "      <td>0.000909</td>\n",
       "      <td>0.999021</td>\n",
       "      <td>...</td>\n",
       "      <td>NaN</td>\n",
       "      <td>NaN</td>\n",
       "      <td>NaN</td>\n",
       "      <td>NaN</td>\n",
       "      <td>NaN</td>\n",
       "      <td>NaN</td>\n",
       "      <td>NaN</td>\n",
       "      <td>NaN</td>\n",
       "      <td>NaN</td>\n",
       "      <td>NaN</td>\n",
       "    </tr>\n",
       "    <tr>\n",
       "      <th>0</th>\n",
       "      <td>3</td>\n",
       "      <td>f04af13ebdff77d105f8c8b2d129e57a</td>\n",
       "      <td>{\"cutoff\": \"quantile_0.1\", \"eval_fairness_grou...</td>\n",
       "      <td>26.525912</td>\n",
       "      <td>89710</td>\n",
       "      <td>1.0</td>\n",
       "      <td>0.030976</td>\n",
       "      <td>0.968685</td>\n",
       "      <td>0.000909</td>\n",
       "      <td>0.999021</td>\n",
       "      <td>...</td>\n",
       "      <td>0.118945</td>\n",
       "      <td>0.140876</td>\n",
       "      <td>0.924884</td>\n",
       "      <td>0.918474</td>\n",
       "      <td>0.041807</td>\n",
       "      <td>0.010832</td>\n",
       "      <td>0.928724</td>\n",
       "      <td>0.927816</td>\n",
       "      <td>20540.0</td>\n",
       "      <td>69170.0</td>\n",
       "    </tr>\n",
       "    <tr>\n",
       "      <th>0</th>\n",
       "      <td>3</td>\n",
       "      <td>f04af13ebdff77d105f8c8b2d129e57a</td>\n",
       "      <td>{\"cutoff\": \"quantile_0.25\", \"eval_fairness_gro...</td>\n",
       "      <td>26.525912</td>\n",
       "      <td>89710</td>\n",
       "      <td>1.0</td>\n",
       "      <td>0.094931</td>\n",
       "      <td>0.899366</td>\n",
       "      <td>0.019981</td>\n",
       "      <td>0.974260</td>\n",
       "      <td>...</td>\n",
       "      <td>NaN</td>\n",
       "      <td>NaN</td>\n",
       "      <td>NaN</td>\n",
       "      <td>NaN</td>\n",
       "      <td>NaN</td>\n",
       "      <td>NaN</td>\n",
       "      <td>NaN</td>\n",
       "      <td>NaN</td>\n",
       "      <td>NaN</td>\n",
       "      <td>NaN</td>\n",
       "    </tr>\n",
       "    <tr>\n",
       "      <th>0</th>\n",
       "      <td>3</td>\n",
       "      <td>f04af13ebdff77d105f8c8b2d129e57a</td>\n",
       "      <td>{\"cutoff\": \"quantile_0.25\", \"eval_fairness_gro...</td>\n",
       "      <td>26.525912</td>\n",
       "      <td>89710</td>\n",
       "      <td>1.0</td>\n",
       "      <td>0.094931</td>\n",
       "      <td>0.899366</td>\n",
       "      <td>0.019981</td>\n",
       "      <td>0.974260</td>\n",
       "      <td>...</td>\n",
       "      <td>0.129329</td>\n",
       "      <td>0.160577</td>\n",
       "      <td>0.744277</td>\n",
       "      <td>0.750825</td>\n",
       "      <td>0.151605</td>\n",
       "      <td>0.056674</td>\n",
       "      <td>0.756280</td>\n",
       "      <td>0.776261</td>\n",
       "      <td>20540.0</td>\n",
       "      <td>69170.0</td>\n",
       "    </tr>\n",
       "  </tbody>\n",
       "</table>\n",
       "<p>4 rows × 50 columns</p>\n",
       "</div>"
      ],
      "text/plain": [
       "  run_no                       universe_id  \\\n",
       "0      3  f04af13ebdff77d105f8c8b2d129e57a   \n",
       "0      3  f04af13ebdff77d105f8c8b2d129e57a   \n",
       "0      3  f04af13ebdff77d105f8c8b2d129e57a   \n",
       "0      3  f04af13ebdff77d105f8c8b2d129e57a   \n",
       "\n",
       "                                   universe_settings  execution_time  \\\n",
       "0  {\"cutoff\": \"quantile_0.1\", \"eval_fairness_grou...       26.525912   \n",
       "0  {\"cutoff\": \"quantile_0.1\", \"eval_fairness_grou...       26.525912   \n",
       "0  {\"cutoff\": \"quantile_0.25\", \"eval_fairness_gro...       26.525912   \n",
       "0  {\"cutoff\": \"quantile_0.25\", \"eval_fairness_gro...       26.525912   \n",
       "\n",
       "   test_size_n  test_size_frac  fair_main_equalized_odds_difference  \\\n",
       "0        89710             1.0                             0.030976   \n",
       "0        89710             1.0                             0.030976   \n",
       "0        89710             1.0                             0.094931   \n",
       "0        89710             1.0                             0.094931   \n",
       "\n",
       "   fair_main_equalized_odds_ratio  fair_main_demographic_parity_difference  \\\n",
       "0                        0.968685                                 0.000909   \n",
       "0                        0.968685                                 0.000909   \n",
       "0                        0.899366                                 0.019981   \n",
       "0                        0.899366                                 0.019981   \n",
       "\n",
       "   fair_main_demographic_parity_ratio  ...  perf_grp_precision_0  \\\n",
       "0                            0.999021  ...                   NaN   \n",
       "0                            0.999021  ...              0.118945   \n",
       "0                            0.974260  ...                   NaN   \n",
       "0                            0.974260  ...              0.129329   \n",
       "\n",
       "   perf_grp_precision_1  perf_grp_false positive rate_0  \\\n",
       "0                   NaN                             NaN   \n",
       "0              0.140876                        0.924884   \n",
       "0                   NaN                             NaN   \n",
       "0              0.160577                        0.744277   \n",
       "\n",
       "   perf_grp_false positive rate_1  perf_grp_false negative rate_0  \\\n",
       "0                             NaN                             NaN   \n",
       "0                        0.918474                        0.041807   \n",
       "0                             NaN                             NaN   \n",
       "0                        0.750825                        0.151605   \n",
       "\n",
       "   perf_grp_false negative rate_1  perf_grp_selection rate_0  \\\n",
       "0                             NaN                        NaN   \n",
       "0                        0.010832                   0.928724   \n",
       "0                             NaN                        NaN   \n",
       "0                        0.056674                   0.756280   \n",
       "\n",
       "   perf_grp_selection rate_1  perf_grp_count_0  perf_grp_count_1  \n",
       "0                        NaN               NaN               NaN  \n",
       "0                   0.927816           20540.0           69170.0  \n",
       "0                        NaN               NaN               NaN  \n",
       "0                   0.776261           20540.0           69170.0  \n",
       "\n",
       "[4 rows x 50 columns]"
      ]
     },
     "execution_count": 64,
     "metadata": {},
     "output_type": "execute_result"
    }
   ],
   "source": [
    "final_output = universe_analysis.generate_final_output(\n",
    "    y_pred_prob=probs_test,\n",
    "    y_test=y_true,\n",
    "    org_test=org_test,\n",
    "    filter_data=filter_sub_universe_data,\n",
    "    cp_metrics_df=cp_metrics_df,\n",
    "    save=True,\n",
    ")\n",
    "final_output"
   ]
  },
  {
   "cell_type": "code",
   "execution_count": null,
   "id": "8b80a1ff",
   "metadata": {
    "papermill": {
     "duration": 0.015754,
     "end_time": "2025-08-19T18:58:44.066087",
     "exception": false,
     "start_time": "2025-08-19T18:58:44.050333",
     "status": "completed"
    },
    "tags": []
   },
   "outputs": [],
   "source": []
  },
  {
   "cell_type": "code",
   "execution_count": null,
   "id": "275c9fad",
   "metadata": {
    "papermill": {
     "duration": 0.01478,
     "end_time": "2025-08-19T18:58:44.095582",
     "exception": false,
     "start_time": "2025-08-19T18:58:44.080802",
     "status": "completed"
    },
    "tags": []
   },
   "outputs": [],
   "source": []
  }
 ],
 "metadata": {
  "celltoolbar": "Tags",
  "kernelspec": {
   "display_name": "Python (CMA Fairness)",
   "language": "python",
   "name": "cma_fair_env"
  },
  "language_info": {
   "codemirror_mode": {
    "name": "ipython",
    "version": 3
   },
   "file_extension": ".py",
   "mimetype": "text/x-python",
   "name": "python",
   "nbconvert_exporter": "python",
   "pygments_lexer": "ipython3",
   "version": "3.10.12"
  },
  "papermill": {
   "default_parameters": {},
   "duration": 37.275974,
   "end_time": "2025-08-19T18:58:45.044020",
   "environment_variables": {},
   "exception": null,
   "input_path": "universe_analysis.ipynb",
   "output_path": "output/runs/3/notebooks/m_3-f04af13ebdff77d105f8c8b2d129e57a.ipynb",
   "parameters": {
    "output_dir": "output",
    "run_no": "3",
    "seed": "2023",
    "universe": "{\"cutoff\": [\"quantile_0.1\", \"quantile_0.25\"], \"eval_fairness_grouping\": [\"majority-minority\", \"nationality-all\"], \"exclude_features\": \"nationality\", \"exclude_subgroups\": \"keep-all\", \"model\": \"rf\", \"scale\": \"scale\", \"training_size\": \"1k\", \"training_year\": \"2012_14\"}",
    "universe_id": "f04af13ebdff77d105f8c8b2d129e57a"
   },
   "start_time": "2025-08-19T18:58:07.768046",
   "version": "2.6.0"
  }
 },
 "nbformat": 4,
 "nbformat_minor": 5
}