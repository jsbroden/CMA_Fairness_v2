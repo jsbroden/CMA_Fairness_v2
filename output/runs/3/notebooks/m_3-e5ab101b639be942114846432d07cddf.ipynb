{
 "cells": [
  {
   "cell_type": "markdown",
   "id": "ef23dbb3",
   "metadata": {
    "papermill": {
     "duration": 0.026873,
     "end_time": "2025-08-19T18:32:29.242840",
     "exception": false,
     "start_time": "2025-08-19T18:32:29.215967",
     "status": "completed"
    },
    "tags": []
   },
   "source": [
    "# Setup"
   ]
  },
  {
   "cell_type": "code",
   "execution_count": 1,
   "id": "0bc8e7dc",
   "metadata": {
    "execution": {
     "iopub.execute_input": "2025-08-19T18:32:29.277779Z",
     "iopub.status.busy": "2025-08-19T18:32:29.277182Z",
     "iopub.status.idle": "2025-08-19T18:32:29.289721Z",
     "shell.execute_reply": "2025-08-19T18:32:29.288871Z"
    },
    "papermill": {
     "duration": 0.038919,
     "end_time": "2025-08-19T18:32:29.292148",
     "exception": false,
     "start_time": "2025-08-19T18:32:29.253229",
     "status": "completed"
    },
    "tags": []
   },
   "outputs": [
    {
     "name": "stdout",
     "output_type": "stream",
     "text": [
      "/dss/dsshome1/0C/ra93lal2/cma/CMA_Fairness_v2\n"
     ]
    },
    {
     "name": "stderr",
     "output_type": "stream",
     "text": [
      "/dss/dsshome1/0C/ra93lal2/.local/share/virtualenvs/CMA_Fairness_v2-3j10GkSs/lib/python3.10/site-packages/IPython/core/magics/osm.py:393: UserWarning: This is now an optional IPython functionality, using bookmarks requires you to install the `pickleshare` library.\n",
      "  bkms = self.shell.db.get('bookmarks', {})\n",
      "/dss/dsshome1/0C/ra93lal2/.local/share/virtualenvs/CMA_Fairness_v2-3j10GkSs/lib/python3.10/site-packages/IPython/core/magics/osm.py:417: UserWarning: This is now an optional IPython functionality, setting dhist requires you to install the `pickleshare` library.\n",
      "  self.shell.db['dhist'] = compress_dhist(dhist)[-100:]\n"
     ]
    }
   ],
   "source": [
    "%cd ~/cma/CMA_Fairness_v2"
   ]
  },
  {
   "cell_type": "markdown",
   "id": "9d235661",
   "metadata": {
    "papermill": {
     "duration": 0.009977,
     "end_time": "2025-08-19T18:32:29.316523",
     "exception": false,
     "start_time": "2025-08-19T18:32:29.306546",
     "status": "completed"
    },
    "tags": []
   },
   "source": [
    "The following cell holds the definition of our parameters, these values can be overriden by rendering the with e.g. the following command:\n",
    "\n",
    "papermill -p alpha 0.2 -p ratio 0.3 universe_analysis.ipynb output/test_run.ipynb"
   ]
  },
  {
   "cell_type": "code",
   "execution_count": 2,
   "id": "4a789d8e",
   "metadata": {
    "execution": {
     "iopub.execute_input": "2025-08-19T18:32:29.335075Z",
     "iopub.status.busy": "2025-08-19T18:32:29.334762Z",
     "iopub.status.idle": "2025-08-19T18:32:29.340576Z",
     "shell.execute_reply": "2025-08-19T18:32:29.339613Z"
    },
    "papermill": {
     "duration": 0.016875,
     "end_time": "2025-08-19T18:32:29.342025",
     "exception": false,
     "start_time": "2025-08-19T18:32:29.325150",
     "status": "completed"
    },
    "tags": []
   },
   "outputs": [
    {
     "name": "stdout",
     "output_type": "stream",
     "text": [
      "Current working directory: /dss/dsshome1/0C/ra93lal2/cma/CMA_Fairness_v2\n"
     ]
    }
   ],
   "source": [
    "import os\n",
    "print(\"Current working directory:\", os.getcwd())"
   ]
  },
  {
   "cell_type": "code",
   "execution_count": 3,
   "id": "4132aaed",
   "metadata": {
    "execution": {
     "iopub.execute_input": "2025-08-19T18:32:29.361492Z",
     "iopub.status.busy": "2025-08-19T18:32:29.361225Z",
     "iopub.status.idle": "2025-08-19T18:32:29.375116Z",
     "shell.execute_reply": "2025-08-19T18:32:29.374536Z"
    },
    "papermill": {
     "duration": 0.025412,
     "end_time": "2025-08-19T18:32:29.376583",
     "exception": false,
     "start_time": "2025-08-19T18:32:29.351171",
     "status": "completed"
    },
    "tags": [
     "parameters"
    ]
   },
   "outputs": [],
   "source": [
    "run_no = 0\n",
    "universe_id = \"test\"\n",
    "universe = {\n",
    "    \"training_size\": \"5k\", # \"25k\", \"5k\", \"1k\"\n",
    "    \"training_year\": \"2012_14\", # \"2014\", \"2012_14\", \"2010_14\"\n",
    "    \"scale\": \"scale\", # \"scale\", \"do-not-scale\",\n",
    "    \"model\": \"elasticnet\", # \"logreg\", \"penalized_logreg\", \"rf\", \"gbm\", \"elasticnet\"\n",
    "    \"cutoff\": [\"quantile_0.15\", \"quantile_0.30\"],\n",
    "    \"exclude_features\": \"age\", # \"none\", \"nationality\", \"sex\", \"nationality-sex\", \"age\"\n",
    "    \"exclude_subgroups\": \"drop-non-german\", # \"keep-all\", \"drop-non-german\"\n",
    "    \"eval_fairness_grouping\": [\"majority-minority\", \"nationality-all\"]\n",
    "}\n",
    "\n",
    "output_dir=\"./output\"\n",
    "seed=0"
   ]
  },
  {
   "cell_type": "code",
   "execution_count": 4,
   "id": "c6ac2076",
   "metadata": {
    "execution": {
     "iopub.execute_input": "2025-08-19T18:32:29.400599Z",
     "iopub.status.busy": "2025-08-19T18:32:29.399526Z",
     "iopub.status.idle": "2025-08-19T18:32:29.407278Z",
     "shell.execute_reply": "2025-08-19T18:32:29.405921Z"
    },
    "papermill": {
     "duration": 0.019755,
     "end_time": "2025-08-19T18:32:29.408710",
     "exception": false,
     "start_time": "2025-08-19T18:32:29.388955",
     "status": "completed"
    },
    "tags": [
     "injected-parameters"
    ]
   },
   "outputs": [],
   "source": [
    "# Parameters\n",
    "universe_id = \"e5ab101b639be942114846432d07cddf\"\n",
    "run_no = \"3\"\n",
    "universe = \"{\\\"cutoff\\\": [\\\"quantile_0.1\\\", \\\"quantile_0.25\\\"], \\\"eval_fairness_grouping\\\": [\\\"majority-minority\\\", \\\"nationality-all\\\"], \\\"exclude_features\\\": \\\"none\\\", \\\"exclude_subgroups\\\": \\\"keep-all\\\", \\\"model\\\": \\\"rf\\\", \\\"scale\\\": \\\"scale\\\", \\\"training_size\\\": \\\"5k\\\", \\\"training_year\\\": \\\"2012_14\\\"}\"\n",
    "output_dir = \"output\"\n",
    "seed = \"2023\"\n"
   ]
  },
  {
   "cell_type": "code",
   "execution_count": 5,
   "id": "a5d7941f",
   "metadata": {
    "execution": {
     "iopub.execute_input": "2025-08-19T18:32:29.434048Z",
     "iopub.status.busy": "2025-08-19T18:32:29.431981Z",
     "iopub.status.idle": "2025-08-19T18:32:29.441153Z",
     "shell.execute_reply": "2025-08-19T18:32:29.439428Z"
    },
    "papermill": {
     "duration": 0.022379,
     "end_time": "2025-08-19T18:32:29.442807",
     "exception": false,
     "start_time": "2025-08-19T18:32:29.420428",
     "status": "completed"
    },
    "tags": []
   },
   "outputs": [],
   "source": [
    "import json\n",
    "if isinstance(universe, str):\n",
    "    universe = json.loads(universe)"
   ]
  },
  {
   "cell_type": "code",
   "execution_count": 6,
   "id": "7076ccb1",
   "metadata": {
    "execution": {
     "iopub.execute_input": "2025-08-19T18:32:29.467670Z",
     "iopub.status.busy": "2025-08-19T18:32:29.466431Z",
     "iopub.status.idle": "2025-08-19T18:32:29.519959Z",
     "shell.execute_reply": "2025-08-19T18:32:29.519329Z"
    },
    "papermill": {
     "duration": 0.068067,
     "end_time": "2025-08-19T18:32:29.522922",
     "exception": false,
     "start_time": "2025-08-19T18:32:29.454855",
     "status": "completed"
    },
    "tags": []
   },
   "outputs": [],
   "source": [
    "# Auto-reload the custom package\n",
    "%load_ext autoreload\n",
    "%autoreload 1\n",
    "%aimport fairness_multiverse"
   ]
  },
  {
   "cell_type": "code",
   "execution_count": 7,
   "id": "94c8eb93",
   "metadata": {
    "execution": {
     "iopub.execute_input": "2025-08-19T18:32:29.560822Z",
     "iopub.status.busy": "2025-08-19T18:32:29.559668Z",
     "iopub.status.idle": "2025-08-19T18:32:31.206280Z",
     "shell.execute_reply": "2025-08-19T18:32:31.204770Z"
    },
    "papermill": {
     "duration": 1.661904,
     "end_time": "2025-08-19T18:32:31.208141",
     "exception": false,
     "start_time": "2025-08-19T18:32:29.546237",
     "status": "completed"
    },
    "tags": []
   },
   "outputs": [],
   "source": [
    "from fairness_multiverse.universe import UniverseAnalysis\n",
    "\n",
    "universe_analysis = UniverseAnalysis(\n",
    "    run_no = run_no,\n",
    "    universe_id = universe_id,\n",
    "    universe = universe,\n",
    "    output_dir=output_dir,\n",
    ")"
   ]
  },
  {
   "cell_type": "code",
   "execution_count": 8,
   "id": "2a6381cf",
   "metadata": {
    "execution": {
     "iopub.execute_input": "2025-08-19T18:32:31.237532Z",
     "iopub.status.busy": "2025-08-19T18:32:31.237124Z",
     "iopub.status.idle": "2025-08-19T18:32:31.244908Z",
     "shell.execute_reply": "2025-08-19T18:32:31.243965Z"
    },
    "papermill": {
     "duration": 0.02942,
     "end_time": "2025-08-19T18:32:31.250136",
     "exception": false,
     "start_time": "2025-08-19T18:32:31.220716",
     "status": "completed"
    },
    "tags": []
   },
   "outputs": [
    {
     "name": "stdout",
     "output_type": "stream",
     "text": [
      "Using Seed: 2023\n"
     ]
    }
   ],
   "source": [
    "import numpy as np\n",
    "parsed_seed = int(seed)\n",
    "np.random.seed(parsed_seed)\n",
    "print(f\"Using Seed: {parsed_seed}\")"
   ]
  },
  {
   "cell_type": "markdown",
   "id": "b6e958b4",
   "metadata": {
    "papermill": {
     "duration": 0.00905,
     "end_time": "2025-08-19T18:32:31.269313",
     "exception": false,
     "start_time": "2025-08-19T18:32:31.260263",
     "status": "completed"
    },
    "tags": []
   },
   "source": [
    "# Loading Data"
   ]
  },
  {
   "cell_type": "code",
   "execution_count": 9,
   "id": "98701482",
   "metadata": {
    "execution": {
     "iopub.execute_input": "2025-08-19T18:32:31.289369Z",
     "iopub.status.busy": "2025-08-19T18:32:31.288965Z",
     "iopub.status.idle": "2025-08-19T18:32:41.135597Z",
     "shell.execute_reply": "2025-08-19T18:32:41.134209Z"
    },
    "papermill": {
     "duration": 9.859477,
     "end_time": "2025-08-19T18:32:41.138010",
     "exception": false,
     "start_time": "2025-08-19T18:32:31.278533",
     "status": "completed"
    },
    "tags": []
   },
   "outputs": [
    {
     "name": "stdout",
     "output_type": "stream",
     "text": [
      "Loading SIAB data from cache: data/siab_cached.csv.gz\n"
     ]
    },
    {
     "name": "stdout",
     "output_type": "stream",
     "text": [
      "(643690, 164)\n"
     ]
    }
   ],
   "source": [
    "from pathlib import Path\n",
    "import pandas as pd\n",
    "\n",
    "# File paths\n",
    "raw_file = Path(\"data/raw/siab.csv\")\n",
    "cache_file = Path(\"data/siab_cached.csv.gz\")\n",
    "\n",
    "# Ensure cache directory exists\n",
    "cache_file.parent.mkdir(parents=True, exist_ok=True)\n",
    "\n",
    "# Load with simple caching\n",
    "if cache_file.exists():\n",
    "    print(f\"Loading SIAB data from cache: {cache_file}\")\n",
    "    siab = pd.read_csv(cache_file, compression='gzip')\n",
    "else:\n",
    "    print(f\"Cache not found. Reading raw SIAB data: {raw_file}\")\n",
    "    siab = pd.read_csv(raw_file)\n",
    "    siab.to_csv(cache_file, index=False, compression='gzip')\n",
    "    print(f\"Cached SIAB data to: {cache_file}\")\n",
    "\n",
    "print(siab.shape)"
   ]
  },
  {
   "cell_type": "code",
   "execution_count": 10,
   "id": "058d2abb",
   "metadata": {
    "execution": {
     "iopub.execute_input": "2025-08-19T18:32:41.178462Z",
     "iopub.status.busy": "2025-08-19T18:32:41.177891Z",
     "iopub.status.idle": "2025-08-19T18:32:41.304432Z",
     "shell.execute_reply": "2025-08-19T18:32:41.303259Z"
    },
    "papermill": {
     "duration": 0.149272,
     "end_time": "2025-08-19T18:32:41.305827",
     "exception": false,
     "start_time": "2025-08-19T18:32:41.156555",
     "status": "completed"
    },
    "tags": []
   },
   "outputs": [
    {
     "data": {
      "text/html": [
       "<div>\n",
       "<style scoped>\n",
       "    .dataframe tbody tr th:only-of-type {\n",
       "        vertical-align: middle;\n",
       "    }\n",
       "\n",
       "    .dataframe tbody tr th {\n",
       "        vertical-align: top;\n",
       "    }\n",
       "\n",
       "    .dataframe thead th {\n",
       "        text-align: right;\n",
       "    }\n",
       "</style>\n",
       "<table border=\"1\" class=\"dataframe\">\n",
       "  <thead>\n",
       "    <tr style=\"text-align: right;\">\n",
       "      <th></th>\n",
       "      <th>persnr</th>\n",
       "      <th>year</th>\n",
       "      <th>nrEntry</th>\n",
       "      <th>ltue</th>\n",
       "      <th>employed_before</th>\n",
       "      <th>receipt_leh_before</th>\n",
       "      <th>receipt_lhg_before</th>\n",
       "      <th>se_before</th>\n",
       "      <th>ASU_notue_seeking_before</th>\n",
       "      <th>ASU_other_before</th>\n",
       "      <th>...</th>\n",
       "      <th>minijob_tot_dur_byage</th>\n",
       "      <th>ft_tot_dur_byage</th>\n",
       "      <th>befrist_tot_dur_byage</th>\n",
       "      <th>leih_tot_dur_byage</th>\n",
       "      <th>LHG_tot_dur_byage</th>\n",
       "      <th>LEH_tot_dur_byage</th>\n",
       "      <th>almp_tot_dur_byage</th>\n",
       "      <th>almp_aw_tot_dur_byage</th>\n",
       "      <th>se_tot_dur_byage</th>\n",
       "      <th>seeking1_tot_dur_byage</th>\n",
       "    </tr>\n",
       "  </thead>\n",
       "  <tbody>\n",
       "    <tr>\n",
       "      <th>0</th>\n",
       "      <td>7</td>\n",
       "      <td>2015</td>\n",
       "      <td>1</td>\n",
       "      <td>0</td>\n",
       "      <td>1</td>\n",
       "      <td>0</td>\n",
       "      <td>0</td>\n",
       "      <td>0</td>\n",
       "      <td>1</td>\n",
       "      <td>0</td>\n",
       "      <td>...</td>\n",
       "      <td>0.000000</td>\n",
       "      <td>0.000000</td>\n",
       "      <td>15.043478</td>\n",
       "      <td>0.000000</td>\n",
       "      <td>0.000000</td>\n",
       "      <td>0.000000</td>\n",
       "      <td>0.000000</td>\n",
       "      <td>0.000000</td>\n",
       "      <td>0.000000</td>\n",
       "      <td>0.000000</td>\n",
       "    </tr>\n",
       "    <tr>\n",
       "      <th>1</th>\n",
       "      <td>18</td>\n",
       "      <td>2010</td>\n",
       "      <td>1</td>\n",
       "      <td>1</td>\n",
       "      <td>0</td>\n",
       "      <td>0</td>\n",
       "      <td>0</td>\n",
       "      <td>0</td>\n",
       "      <td>0</td>\n",
       "      <td>0</td>\n",
       "      <td>...</td>\n",
       "      <td>0.000000</td>\n",
       "      <td>0.000000</td>\n",
       "      <td>0.000000</td>\n",
       "      <td>0.000000</td>\n",
       "      <td>0.000000</td>\n",
       "      <td>0.000000</td>\n",
       "      <td>0.000000</td>\n",
       "      <td>0.000000</td>\n",
       "      <td>0.000000</td>\n",
       "      <td>0.000000</td>\n",
       "    </tr>\n",
       "    <tr>\n",
       "      <th>2</th>\n",
       "      <td>18</td>\n",
       "      <td>2011</td>\n",
       "      <td>2</td>\n",
       "      <td>0</td>\n",
       "      <td>1</td>\n",
       "      <td>0</td>\n",
       "      <td>1</td>\n",
       "      <td>0</td>\n",
       "      <td>1</td>\n",
       "      <td>0</td>\n",
       "      <td>...</td>\n",
       "      <td>2.714286</td>\n",
       "      <td>2.714286</td>\n",
       "      <td>0.000000</td>\n",
       "      <td>0.000000</td>\n",
       "      <td>10.775510</td>\n",
       "      <td>0.000000</td>\n",
       "      <td>8.367347</td>\n",
       "      <td>0.000000</td>\n",
       "      <td>0.000000</td>\n",
       "      <td>9.836735</td>\n",
       "    </tr>\n",
       "    <tr>\n",
       "      <th>3</th>\n",
       "      <td>18</td>\n",
       "      <td>2012</td>\n",
       "      <td>3</td>\n",
       "      <td>0</td>\n",
       "      <td>1</td>\n",
       "      <td>0</td>\n",
       "      <td>1</td>\n",
       "      <td>0</td>\n",
       "      <td>1</td>\n",
       "      <td>0</td>\n",
       "      <td>...</td>\n",
       "      <td>4.200000</td>\n",
       "      <td>4.200000</td>\n",
       "      <td>0.000000</td>\n",
       "      <td>0.000000</td>\n",
       "      <td>12.100000</td>\n",
       "      <td>0.000000</td>\n",
       "      <td>9.400000</td>\n",
       "      <td>0.000000</td>\n",
       "      <td>0.000000</td>\n",
       "      <td>9.960000</td>\n",
       "    </tr>\n",
       "    <tr>\n",
       "      <th>4</th>\n",
       "      <td>18</td>\n",
       "      <td>2012</td>\n",
       "      <td>4</td>\n",
       "      <td>0</td>\n",
       "      <td>1</td>\n",
       "      <td>0</td>\n",
       "      <td>1</td>\n",
       "      <td>0</td>\n",
       "      <td>1</td>\n",
       "      <td>0</td>\n",
       "      <td>...</td>\n",
       "      <td>5.460000</td>\n",
       "      <td>5.460000</td>\n",
       "      <td>0.000000</td>\n",
       "      <td>0.000000</td>\n",
       "      <td>13.360000</td>\n",
       "      <td>0.000000</td>\n",
       "      <td>10.320000</td>\n",
       "      <td>0.000000</td>\n",
       "      <td>0.000000</td>\n",
       "      <td>10.280000</td>\n",
       "    </tr>\n",
       "    <tr>\n",
       "      <th>...</th>\n",
       "      <td>...</td>\n",
       "      <td>...</td>\n",
       "      <td>...</td>\n",
       "      <td>...</td>\n",
       "      <td>...</td>\n",
       "      <td>...</td>\n",
       "      <td>...</td>\n",
       "      <td>...</td>\n",
       "      <td>...</td>\n",
       "      <td>...</td>\n",
       "      <td>...</td>\n",
       "      <td>...</td>\n",
       "      <td>...</td>\n",
       "      <td>...</td>\n",
       "      <td>...</td>\n",
       "      <td>...</td>\n",
       "      <td>...</td>\n",
       "      <td>...</td>\n",
       "      <td>...</td>\n",
       "      <td>...</td>\n",
       "      <td>...</td>\n",
       "    </tr>\n",
       "    <tr>\n",
       "      <th>643685</th>\n",
       "      <td>1827860</td>\n",
       "      <td>2013</td>\n",
       "      <td>1</td>\n",
       "      <td>0</td>\n",
       "      <td>0</td>\n",
       "      <td>0</td>\n",
       "      <td>1</td>\n",
       "      <td>0</td>\n",
       "      <td>0</td>\n",
       "      <td>1</td>\n",
       "      <td>...</td>\n",
       "      <td>0.000000</td>\n",
       "      <td>0.000000</td>\n",
       "      <td>0.000000</td>\n",
       "      <td>0.000000</td>\n",
       "      <td>0.612903</td>\n",
       "      <td>0.000000</td>\n",
       "      <td>0.000000</td>\n",
       "      <td>0.000000</td>\n",
       "      <td>0.000000</td>\n",
       "      <td>0.000000</td>\n",
       "    </tr>\n",
       "    <tr>\n",
       "      <th>643686</th>\n",
       "      <td>1827860</td>\n",
       "      <td>2015</td>\n",
       "      <td>2</td>\n",
       "      <td>1</td>\n",
       "      <td>0</td>\n",
       "      <td>0</td>\n",
       "      <td>1</td>\n",
       "      <td>0</td>\n",
       "      <td>1</td>\n",
       "      <td>0</td>\n",
       "      <td>...</td>\n",
       "      <td>0.000000</td>\n",
       "      <td>0.000000</td>\n",
       "      <td>0.212121</td>\n",
       "      <td>0.212121</td>\n",
       "      <td>17.363636</td>\n",
       "      <td>0.000000</td>\n",
       "      <td>8.909091</td>\n",
       "      <td>0.000000</td>\n",
       "      <td>0.000000</td>\n",
       "      <td>7.121212</td>\n",
       "    </tr>\n",
       "    <tr>\n",
       "      <th>643687</th>\n",
       "      <td>1827860</td>\n",
       "      <td>2016</td>\n",
       "      <td>3</td>\n",
       "      <td>1</td>\n",
       "      <td>0</td>\n",
       "      <td>0</td>\n",
       "      <td>1</td>\n",
       "      <td>1</td>\n",
       "      <td>0</td>\n",
       "      <td>1</td>\n",
       "      <td>...</td>\n",
       "      <td>0.000000</td>\n",
       "      <td>0.000000</td>\n",
       "      <td>0.294118</td>\n",
       "      <td>0.205882</td>\n",
       "      <td>34.705882</td>\n",
       "      <td>0.000000</td>\n",
       "      <td>10.352941</td>\n",
       "      <td>1.705882</td>\n",
       "      <td>1.705882</td>\n",
       "      <td>23.911765</td>\n",
       "    </tr>\n",
       "    <tr>\n",
       "      <th>643688</th>\n",
       "      <td>1827869</td>\n",
       "      <td>2013</td>\n",
       "      <td>1</td>\n",
       "      <td>1</td>\n",
       "      <td>1</td>\n",
       "      <td>0</td>\n",
       "      <td>0</td>\n",
       "      <td>0</td>\n",
       "      <td>1</td>\n",
       "      <td>0</td>\n",
       "      <td>...</td>\n",
       "      <td>0.000000</td>\n",
       "      <td>0.000000</td>\n",
       "      <td>0.000000</td>\n",
       "      <td>0.000000</td>\n",
       "      <td>0.000000</td>\n",
       "      <td>0.525424</td>\n",
       "      <td>0.000000</td>\n",
       "      <td>0.000000</td>\n",
       "      <td>0.000000</td>\n",
       "      <td>0.000000</td>\n",
       "    </tr>\n",
       "    <tr>\n",
       "      <th>643689</th>\n",
       "      <td>1827869</td>\n",
       "      <td>2014</td>\n",
       "      <td>2</td>\n",
       "      <td>0</td>\n",
       "      <td>0</td>\n",
       "      <td>1</td>\n",
       "      <td>0</td>\n",
       "      <td>0</td>\n",
       "      <td>1</td>\n",
       "      <td>0</td>\n",
       "      <td>...</td>\n",
       "      <td>0.000000</td>\n",
       "      <td>0.666667</td>\n",
       "      <td>0.666667</td>\n",
       "      <td>0.000000</td>\n",
       "      <td>0.000000</td>\n",
       "      <td>8.950000</td>\n",
       "      <td>1.033333</td>\n",
       "      <td>0.083333</td>\n",
       "      <td>0.083333</td>\n",
       "      <td>8.133333</td>\n",
       "    </tr>\n",
       "  </tbody>\n",
       "</table>\n",
       "<p>643690 rows × 164 columns</p>\n",
       "</div>"
      ],
      "text/plain": [
       "         persnr  year  nrEntry  ltue  employed_before  receipt_leh_before  \\\n",
       "0             7  2015        1     0                1                   0   \n",
       "1            18  2010        1     1                0                   0   \n",
       "2            18  2011        2     0                1                   0   \n",
       "3            18  2012        3     0                1                   0   \n",
       "4            18  2012        4     0                1                   0   \n",
       "...         ...   ...      ...   ...              ...                 ...   \n",
       "643685  1827860  2013        1     0                0                   0   \n",
       "643686  1827860  2015        2     1                0                   0   \n",
       "643687  1827860  2016        3     1                0                   0   \n",
       "643688  1827869  2013        1     1                1                   0   \n",
       "643689  1827869  2014        2     0                0                   1   \n",
       "\n",
       "        receipt_lhg_before  se_before  ASU_notue_seeking_before  \\\n",
       "0                        0          0                         1   \n",
       "1                        0          0                         0   \n",
       "2                        1          0                         1   \n",
       "3                        1          0                         1   \n",
       "4                        1          0                         1   \n",
       "...                    ...        ...                       ...   \n",
       "643685                   1          0                         0   \n",
       "643686                   1          0                         1   \n",
       "643687                   1          1                         0   \n",
       "643688                   0          0                         1   \n",
       "643689                   0          0                         1   \n",
       "\n",
       "        ASU_other_before  ...  minijob_tot_dur_byage  ft_tot_dur_byage  \\\n",
       "0                      0  ...               0.000000          0.000000   \n",
       "1                      0  ...               0.000000          0.000000   \n",
       "2                      0  ...               2.714286          2.714286   \n",
       "3                      0  ...               4.200000          4.200000   \n",
       "4                      0  ...               5.460000          5.460000   \n",
       "...                  ...  ...                    ...               ...   \n",
       "643685                 1  ...               0.000000          0.000000   \n",
       "643686                 0  ...               0.000000          0.000000   \n",
       "643687                 1  ...               0.000000          0.000000   \n",
       "643688                 0  ...               0.000000          0.000000   \n",
       "643689                 0  ...               0.000000          0.666667   \n",
       "\n",
       "        befrist_tot_dur_byage  leih_tot_dur_byage  LHG_tot_dur_byage  \\\n",
       "0                   15.043478            0.000000           0.000000   \n",
       "1                    0.000000            0.000000           0.000000   \n",
       "2                    0.000000            0.000000          10.775510   \n",
       "3                    0.000000            0.000000          12.100000   \n",
       "4                    0.000000            0.000000          13.360000   \n",
       "...                       ...                 ...                ...   \n",
       "643685               0.000000            0.000000           0.612903   \n",
       "643686               0.212121            0.212121          17.363636   \n",
       "643687               0.294118            0.205882          34.705882   \n",
       "643688               0.000000            0.000000           0.000000   \n",
       "643689               0.666667            0.000000           0.000000   \n",
       "\n",
       "        LEH_tot_dur_byage  almp_tot_dur_byage  almp_aw_tot_dur_byage  \\\n",
       "0                0.000000            0.000000               0.000000   \n",
       "1                0.000000            0.000000               0.000000   \n",
       "2                0.000000            8.367347               0.000000   \n",
       "3                0.000000            9.400000               0.000000   \n",
       "4                0.000000           10.320000               0.000000   \n",
       "...                   ...                 ...                    ...   \n",
       "643685           0.000000            0.000000               0.000000   \n",
       "643686           0.000000            8.909091               0.000000   \n",
       "643687           0.000000           10.352941               1.705882   \n",
       "643688           0.525424            0.000000               0.000000   \n",
       "643689           8.950000            1.033333               0.083333   \n",
       "\n",
       "        se_tot_dur_byage  seeking1_tot_dur_byage  \n",
       "0               0.000000                0.000000  \n",
       "1               0.000000                0.000000  \n",
       "2               0.000000                9.836735  \n",
       "3               0.000000                9.960000  \n",
       "4               0.000000               10.280000  \n",
       "...                  ...                     ...  \n",
       "643685          0.000000                0.000000  \n",
       "643686          0.000000                7.121212  \n",
       "643687          1.705882               23.911765  \n",
       "643688          0.000000                0.000000  \n",
       "643689          0.083333                8.133333  \n",
       "\n",
       "[643690 rows x 164 columns]"
      ]
     },
     "execution_count": 10,
     "metadata": {},
     "output_type": "execute_result"
    }
   ],
   "source": [
    "siab"
   ]
  },
  {
   "cell_type": "markdown",
   "id": "1f87e805",
   "metadata": {
    "papermill": {
     "duration": 0.009839,
     "end_time": "2025-08-19T18:32:41.327669",
     "exception": false,
     "start_time": "2025-08-19T18:32:41.317830",
     "status": "completed"
    },
    "tags": []
   },
   "source": [
    "# Splitting Data and Setting Training Data Size"
   ]
  },
  {
   "cell_type": "code",
   "execution_count": 11,
   "id": "910ae358",
   "metadata": {
    "execution": {
     "iopub.execute_input": "2025-08-19T18:32:41.348722Z",
     "iopub.status.busy": "2025-08-19T18:32:41.348267Z",
     "iopub.status.idle": "2025-08-19T18:32:42.065633Z",
     "shell.execute_reply": "2025-08-19T18:32:42.064685Z"
    },
    "papermill": {
     "duration": 0.730659,
     "end_time": "2025-08-19T18:32:42.068070",
     "exception": false,
     "start_time": "2025-08-19T18:32:41.337411",
     "status": "completed"
    },
    "tags": []
   },
   "outputs": [],
   "source": [
    "from fairness_multiverse.universe import sample_by_year_size\n",
    "\n",
    "siab_train = sample_by_year_size(siab,\n",
    "                               training_year=universe[\"training_year\"],\n",
    "                               training_size=universe[\"training_size\"])"
   ]
  },
  {
   "cell_type": "code",
   "execution_count": 12,
   "id": "919c8ff5",
   "metadata": {
    "execution": {
     "iopub.execute_input": "2025-08-19T18:32:42.103291Z",
     "iopub.status.busy": "2025-08-19T18:32:42.102819Z",
     "iopub.status.idle": "2025-08-19T18:32:42.109732Z",
     "shell.execute_reply": "2025-08-19T18:32:42.108799Z"
    },
    "papermill": {
     "duration": 0.026356,
     "end_time": "2025-08-19T18:32:42.111638",
     "exception": false,
     "start_time": "2025-08-19T18:32:42.085282",
     "status": "completed"
    },
    "tags": []
   },
   "outputs": [
    {
     "data": {
      "text/plain": [
       "(5000, 164)"
      ]
     },
     "execution_count": 12,
     "metadata": {},
     "output_type": "execute_result"
    }
   ],
   "source": [
    "siab_train.shape"
   ]
  },
  {
   "cell_type": "code",
   "execution_count": 13,
   "id": "feb13bf4",
   "metadata": {
    "execution": {
     "iopub.execute_input": "2025-08-19T18:32:42.133771Z",
     "iopub.status.busy": "2025-08-19T18:32:42.133348Z",
     "iopub.status.idle": "2025-08-19T18:32:42.142982Z",
     "shell.execute_reply": "2025-08-19T18:32:42.141961Z"
    },
    "papermill": {
     "duration": 0.022627,
     "end_time": "2025-08-19T18:32:42.144656",
     "exception": false,
     "start_time": "2025-08-19T18:32:42.122029",
     "status": "completed"
    },
    "tags": []
   },
   "outputs": [
    {
     "data": {
      "text/plain": [
       "year\n",
       "2012    1667\n",
       "2013    1667\n",
       "2014    1666\n",
       "dtype: int64"
      ]
     },
     "metadata": {},
     "output_type": "display_data"
    }
   ],
   "source": [
    "display(siab_train.groupby(\"year\").size())"
   ]
  },
  {
   "cell_type": "code",
   "execution_count": 14,
   "id": "0997782f",
   "metadata": {
    "execution": {
     "iopub.execute_input": "2025-08-19T18:32:42.167222Z",
     "iopub.status.busy": "2025-08-19T18:32:42.166701Z",
     "iopub.status.idle": "2025-08-19T18:32:42.426378Z",
     "shell.execute_reply": "2025-08-19T18:32:42.425079Z"
    },
    "papermill": {
     "duration": 0.273476,
     "end_time": "2025-08-19T18:32:42.428659",
     "exception": false,
     "start_time": "2025-08-19T18:32:42.155183",
     "status": "completed"
    },
    "tags": []
   },
   "outputs": [],
   "source": [
    "#siab_train = siab_s[siab_s.year < 2015]\n",
    "siab_calib = siab[siab.year == 2015]\n",
    "siab_test = siab[siab.year == 2016]"
   ]
  },
  {
   "cell_type": "code",
   "execution_count": 15,
   "id": "2c1e4012",
   "metadata": {
    "execution": {
     "iopub.execute_input": "2025-08-19T18:32:42.451918Z",
     "iopub.status.busy": "2025-08-19T18:32:42.451487Z",
     "iopub.status.idle": "2025-08-19T18:32:42.459370Z",
     "shell.execute_reply": "2025-08-19T18:32:42.456353Z"
    },
    "papermill": {
     "duration": 0.021867,
     "end_time": "2025-08-19T18:32:42.461457",
     "exception": false,
     "start_time": "2025-08-19T18:32:42.439590",
     "status": "completed"
    },
    "tags": []
   },
   "outputs": [],
   "source": [
    "#siab_calib.shape"
   ]
  },
  {
   "cell_type": "code",
   "execution_count": 16,
   "id": "f66b54ca",
   "metadata": {
    "execution": {
     "iopub.execute_input": "2025-08-19T18:32:42.485268Z",
     "iopub.status.busy": "2025-08-19T18:32:42.484641Z",
     "iopub.status.idle": "2025-08-19T18:32:42.493443Z",
     "shell.execute_reply": "2025-08-19T18:32:42.492041Z"
    },
    "papermill": {
     "duration": 0.023376,
     "end_time": "2025-08-19T18:32:42.495663",
     "exception": false,
     "start_time": "2025-08-19T18:32:42.472287",
     "status": "completed"
    },
    "tags": []
   },
   "outputs": [],
   "source": [
    "#siab_test.shape"
   ]
  },
  {
   "cell_type": "code",
   "execution_count": 17,
   "id": "27e4384d",
   "metadata": {
    "execution": {
     "iopub.execute_input": "2025-08-19T18:32:42.519971Z",
     "iopub.status.busy": "2025-08-19T18:32:42.519540Z",
     "iopub.status.idle": "2025-08-19T18:32:42.528116Z",
     "shell.execute_reply": "2025-08-19T18:32:42.526941Z"
    },
    "papermill": {
     "duration": 0.022065,
     "end_time": "2025-08-19T18:32:42.529598",
     "exception": false,
     "start_time": "2025-08-19T18:32:42.507533",
     "status": "completed"
    },
    "tags": []
   },
   "outputs": [],
   "source": [
    "X_train = siab_train.iloc[:,4:164]\n",
    "y_train = siab_train.iloc[:, [3]]"
   ]
  },
  {
   "cell_type": "code",
   "execution_count": 18,
   "id": "08ee8389",
   "metadata": {
    "execution": {
     "iopub.execute_input": "2025-08-19T18:32:42.564844Z",
     "iopub.status.busy": "2025-08-19T18:32:42.564401Z",
     "iopub.status.idle": "2025-08-19T18:32:42.615301Z",
     "shell.execute_reply": "2025-08-19T18:32:42.614395Z"
    },
    "papermill": {
     "duration": 0.076602,
     "end_time": "2025-08-19T18:32:42.616760",
     "exception": false,
     "start_time": "2025-08-19T18:32:42.540158",
     "status": "completed"
    },
    "tags": []
   },
   "outputs": [],
   "source": [
    "X_calib = siab_calib.iloc[:,4:164]\n",
    "y_calib = siab_calib.iloc[:, [3]]"
   ]
  },
  {
   "cell_type": "code",
   "execution_count": 19,
   "id": "b7ff42e0",
   "metadata": {
    "execution": {
     "iopub.execute_input": "2025-08-19T18:32:42.639979Z",
     "iopub.status.busy": "2025-08-19T18:32:42.638692Z",
     "iopub.status.idle": "2025-08-19T18:32:42.703789Z",
     "shell.execute_reply": "2025-08-19T18:32:42.702990Z"
    },
    "papermill": {
     "duration": 0.078965,
     "end_time": "2025-08-19T18:32:42.706163",
     "exception": false,
     "start_time": "2025-08-19T18:32:42.627198",
     "status": "completed"
    },
    "tags": []
   },
   "outputs": [],
   "source": [
    "X_test = siab_test.iloc[:,4:164]\n",
    "y_true = siab_test.iloc[:, [3]]"
   ]
  },
  {
   "cell_type": "code",
   "execution_count": 20,
   "id": "0275101e",
   "metadata": {
    "execution": {
     "iopub.execute_input": "2025-08-19T18:32:42.734579Z",
     "iopub.status.busy": "2025-08-19T18:32:42.733172Z",
     "iopub.status.idle": "2025-08-19T18:32:42.849615Z",
     "shell.execute_reply": "2025-08-19T18:32:42.848865Z"
    },
    "papermill": {
     "duration": 0.131801,
     "end_time": "2025-08-19T18:32:42.852332",
     "exception": false,
     "start_time": "2025-08-19T18:32:42.720531",
     "status": "completed"
    },
    "tags": []
   },
   "outputs": [],
   "source": [
    "# Auxiliary data needed downstream in the pipeline\n",
    "\n",
    "org_train = X_train.copy()\n",
    "org_test = X_test.copy()\n",
    "org_calib = X_calib.copy()"
   ]
  },
  {
   "cell_type": "markdown",
   "id": "b461e618",
   "metadata": {
    "papermill": {
     "duration": 0.013142,
     "end_time": "2025-08-19T18:32:42.890250",
     "exception": false,
     "start_time": "2025-08-19T18:32:42.877108",
     "status": "completed"
    },
    "tags": []
   },
   "source": [
    "# Preprocessing Data"
   ]
  },
  {
   "cell_type": "code",
   "execution_count": 21,
   "id": "78e74c4b",
   "metadata": {
    "execution": {
     "iopub.execute_input": "2025-08-19T18:32:42.914910Z",
     "iopub.status.busy": "2025-08-19T18:32:42.913659Z",
     "iopub.status.idle": "2025-08-19T18:32:42.924700Z",
     "shell.execute_reply": "2025-08-19T18:32:42.922835Z"
    },
    "papermill": {
     "duration": 0.025836,
     "end_time": "2025-08-19T18:32:42.926615",
     "exception": false,
     "start_time": "2025-08-19T18:32:42.900779",
     "status": "completed"
    },
    "tags": []
   },
   "outputs": [],
   "source": [
    "# EXCLUDE PROTECTED FEATURES\n",
    "# --------------------------\n",
    "\n",
    "excluded_features = universe[\"exclude_features\"].split(\"-\")\n",
    "excluded_features_dictionary = {\n",
    "    \"nationality\": [\"maxdeutsch1\", \"maxdeutsch.Missing.\"],\n",
    "    \"sex\": [\"frau1\"],\n",
    "    \"age\": [\"age\"],\n",
    "}"
   ]
  },
  {
   "cell_type": "code",
   "execution_count": 22,
   "id": "f8e63555",
   "metadata": {
    "execution": {
     "iopub.execute_input": "2025-08-19T18:32:42.958263Z",
     "iopub.status.busy": "2025-08-19T18:32:42.956973Z",
     "iopub.status.idle": "2025-08-19T18:32:42.967541Z",
     "shell.execute_reply": "2025-08-19T18:32:42.965849Z"
    },
    "papermill": {
     "duration": 0.026085,
     "end_time": "2025-08-19T18:32:42.969067",
     "exception": false,
     "start_time": "2025-08-19T18:32:42.942982",
     "status": "completed"
    },
    "tags": []
   },
   "outputs": [],
   "source": [
    "excluded_features_columns = [\n",
    "    excluded_features_dictionary[f] for f in excluded_features if len(f) > 0 and f != \"none\"\n",
    "]"
   ]
  },
  {
   "cell_type": "code",
   "execution_count": 23,
   "id": "da781f7c",
   "metadata": {
    "execution": {
     "iopub.execute_input": "2025-08-19T18:32:43.006472Z",
     "iopub.status.busy": "2025-08-19T18:32:43.004939Z",
     "iopub.status.idle": "2025-08-19T18:32:43.010898Z",
     "shell.execute_reply": "2025-08-19T18:32:43.010084Z"
    },
    "papermill": {
     "duration": 0.029768,
     "end_time": "2025-08-19T18:32:43.012509",
     "exception": false,
     "start_time": "2025-08-19T18:32:42.982741",
     "status": "completed"
    },
    "tags": []
   },
   "outputs": [],
   "source": [
    "from fairness_multiverse.universe import flatten_once\n",
    "\n",
    "excluded_features_columns = flatten_once(excluded_features_columns)"
   ]
  },
  {
   "cell_type": "code",
   "execution_count": 24,
   "id": "37fef0f0",
   "metadata": {
    "execution": {
     "iopub.execute_input": "2025-08-19T18:32:43.038164Z",
     "iopub.status.busy": "2025-08-19T18:32:43.037380Z",
     "iopub.status.idle": "2025-08-19T18:32:43.044149Z",
     "shell.execute_reply": "2025-08-19T18:32:43.043547Z"
    },
    "papermill": {
     "duration": 0.025047,
     "end_time": "2025-08-19T18:32:43.049515",
     "exception": false,
     "start_time": "2025-08-19T18:32:43.024468",
     "status": "completed"
    },
    "tags": []
   },
   "outputs": [],
   "source": [
    "if len(excluded_features_columns) > 0:\n",
    "    print(f\"Dropping features: {excluded_features_columns}\")\n",
    "    X_train.drop(excluded_features_columns, axis=1, inplace=True)"
   ]
  },
  {
   "cell_type": "code",
   "execution_count": 25,
   "id": "d029e3e9",
   "metadata": {
    "execution": {
     "iopub.execute_input": "2025-08-19T18:32:43.073462Z",
     "iopub.status.busy": "2025-08-19T18:32:43.073060Z",
     "iopub.status.idle": "2025-08-19T18:32:43.079587Z",
     "shell.execute_reply": "2025-08-19T18:32:43.078765Z"
    },
    "papermill": {
     "duration": 0.0204,
     "end_time": "2025-08-19T18:32:43.080986",
     "exception": false,
     "start_time": "2025-08-19T18:32:43.060586",
     "status": "completed"
    },
    "tags": []
   },
   "outputs": [],
   "source": [
    "if len(excluded_features_columns) > 0:\n",
    "    print(f\"Dropping features: {excluded_features_columns}\")\n",
    "    X_test.drop(excluded_features_columns, axis=1, inplace=True)"
   ]
  },
  {
   "cell_type": "code",
   "execution_count": 26,
   "id": "01d571f0",
   "metadata": {
    "execution": {
     "iopub.execute_input": "2025-08-19T18:32:43.103502Z",
     "iopub.status.busy": "2025-08-19T18:32:43.103085Z",
     "iopub.status.idle": "2025-08-19T18:32:43.107625Z",
     "shell.execute_reply": "2025-08-19T18:32:43.106974Z"
    },
    "papermill": {
     "duration": 0.017523,
     "end_time": "2025-08-19T18:32:43.109188",
     "exception": false,
     "start_time": "2025-08-19T18:32:43.091665",
     "status": "completed"
    },
    "tags": []
   },
   "outputs": [],
   "source": [
    "if len(excluded_features_columns) > 0:\n",
    "    print(f\"Dropping features: {excluded_features_columns}\")\n",
    "    X_calib.drop(excluded_features_columns, axis=1, inplace=True)"
   ]
  },
  {
   "cell_type": "code",
   "execution_count": 27,
   "id": "3037356e",
   "metadata": {
    "execution": {
     "iopub.execute_input": "2025-08-19T18:32:43.131505Z",
     "iopub.status.busy": "2025-08-19T18:32:43.131119Z",
     "iopub.status.idle": "2025-08-19T18:32:43.141970Z",
     "shell.execute_reply": "2025-08-19T18:32:43.141288Z"
    },
    "papermill": {
     "duration": 0.02386,
     "end_time": "2025-08-19T18:32:43.143542",
     "exception": false,
     "start_time": "2025-08-19T18:32:43.119682",
     "status": "completed"
    },
    "tags": []
   },
   "outputs": [],
   "source": [
    "# EXCLUDE CERTAIN SUBGROUPS\n",
    "# -------------------------\n",
    "\n",
    "mode = universe.get(\"exclude_subgroups\", \"keep-all\") # Defaults to \"keep-all\" if the key is missing."
   ]
  },
  {
   "cell_type": "code",
   "execution_count": 28,
   "id": "9d1e63fd",
   "metadata": {
    "execution": {
     "iopub.execute_input": "2025-08-19T18:32:43.167548Z",
     "iopub.status.busy": "2025-08-19T18:32:43.167202Z",
     "iopub.status.idle": "2025-08-19T18:32:43.172795Z",
     "shell.execute_reply": "2025-08-19T18:32:43.172054Z"
    },
    "papermill": {
     "duration": 0.018089,
     "end_time": "2025-08-19T18:32:43.174127",
     "exception": false,
     "start_time": "2025-08-19T18:32:43.156038",
     "status": "completed"
    },
    "tags": []
   },
   "outputs": [],
   "source": [
    "if mode == \"keep-all\":\n",
    "    keep_mask = pd.Series(True, index=org_train.index)\n",
    "\n",
    "elif mode == \"drop-non-german\":\n",
    "    keep_mask = (org_train[\"maxdeutsch1\"] == 1) & (org_train[\"maxdeutsch.Missing.\"] == 0)\n",
    "\n",
    "else:\n",
    "    raise ValueError(f\"Unsupported mode for exclude_subgroups: {mode}\")"
   ]
  },
  {
   "cell_type": "code",
   "execution_count": 29,
   "id": "d3b65474",
   "metadata": {
    "execution": {
     "iopub.execute_input": "2025-08-19T18:32:43.197935Z",
     "iopub.status.busy": "2025-08-19T18:32:43.197521Z",
     "iopub.status.idle": "2025-08-19T18:32:43.203572Z",
     "shell.execute_reply": "2025-08-19T18:32:43.202650Z"
    },
    "papermill": {
     "duration": 0.020211,
     "end_time": "2025-08-19T18:32:43.205068",
     "exception": false,
     "start_time": "2025-08-19T18:32:43.184857",
     "status": "completed"
    },
    "tags": []
   },
   "outputs": [],
   "source": [
    "n_drop = (~keep_mask).sum() # Calculates how many rows are set to be dropped\n",
    "if n_drop > 0:\n",
    "    pct = n_drop / len(keep_mask) * 100\n",
    "    print(f\"Dropping {n_drop} rows ({pct:.2f}%) where mode='{mode}'\")"
   ]
  },
  {
   "cell_type": "code",
   "execution_count": 30,
   "id": "f44389b3",
   "metadata": {
    "execution": {
     "iopub.execute_input": "2025-08-19T18:32:43.228998Z",
     "iopub.status.busy": "2025-08-19T18:32:43.228608Z",
     "iopub.status.idle": "2025-08-19T18:32:43.237065Z",
     "shell.execute_reply": "2025-08-19T18:32:43.236194Z"
    },
    "papermill": {
     "duration": 0.021305,
     "end_time": "2025-08-19T18:32:43.238524",
     "exception": false,
     "start_time": "2025-08-19T18:32:43.217219",
     "status": "completed"
    },
    "tags": []
   },
   "outputs": [],
   "source": [
    "X_train = X_train[keep_mask]"
   ]
  },
  {
   "cell_type": "code",
   "execution_count": 31,
   "id": "ceca8c2a",
   "metadata": {
    "execution": {
     "iopub.execute_input": "2025-08-19T18:32:43.281060Z",
     "iopub.status.busy": "2025-08-19T18:32:43.280605Z",
     "iopub.status.idle": "2025-08-19T18:32:43.286891Z",
     "shell.execute_reply": "2025-08-19T18:32:43.285869Z"
    },
    "papermill": {
     "duration": 0.025701,
     "end_time": "2025-08-19T18:32:43.288547",
     "exception": false,
     "start_time": "2025-08-19T18:32:43.262846",
     "status": "completed"
    },
    "tags": []
   },
   "outputs": [],
   "source": [
    "y_train = y_train[keep_mask]"
   ]
  },
  {
   "cell_type": "markdown",
   "id": "04d31e2f",
   "metadata": {
    "papermill": {
     "duration": 0.010879,
     "end_time": "2025-08-19T18:32:43.310673",
     "exception": false,
     "start_time": "2025-08-19T18:32:43.299794",
     "status": "completed"
    },
    "tags": []
   },
   "source": [
    "# Model Training"
   ]
  },
  {
   "cell_type": "code",
   "execution_count": 32,
   "id": "db991733",
   "metadata": {
    "execution": {
     "iopub.execute_input": "2025-08-19T18:32:43.333063Z",
     "iopub.status.busy": "2025-08-19T18:32:43.332669Z",
     "iopub.status.idle": "2025-08-19T18:32:43.471599Z",
     "shell.execute_reply": "2025-08-19T18:32:43.470422Z"
    },
    "papermill": {
     "duration": 0.152099,
     "end_time": "2025-08-19T18:32:43.473298",
     "exception": false,
     "start_time": "2025-08-19T18:32:43.321199",
     "status": "completed"
    },
    "tags": []
   },
   "outputs": [],
   "source": [
    "from sklearn.linear_model import LogisticRegression\n",
    "from sklearn.ensemble import GradientBoostingClassifier, RandomForestClassifier\n",
    "\n",
    "if (universe[\"model\"] == \"logreg\"):\n",
    "    model = LogisticRegression() #penalty=\"none\", solver=\"newton-cg\", max_iter=1)\n",
    "elif (universe[\"model\"] == \"penalized_logreg\"):\n",
    "    model = LogisticRegression(penalty=\"l2\", C=0.1) #, solver=\"newton-cg\", max_iter=1)\n",
    "elif (universe[\"model\"] == \"rf\"):\n",
    "    model = RandomForestClassifier() # n_estimators=100, n_jobs=-1\n",
    "elif (universe[\"model\"] == \"gbm\"):\n",
    "    model = GradientBoostingClassifier()\n",
    "elif (universe[\"model\"] == \"elasticnet\"):\n",
    "    model = LogisticRegression(penalty = 'elasticnet', solver = 'saga', l1_ratio = 0.5) # max_iter=5000\n",
    "else:\n",
    "    raise \"Unsupported universe.model\""
   ]
  },
  {
   "cell_type": "code",
   "execution_count": 33,
   "id": "a4b5cd25",
   "metadata": {
    "execution": {
     "iopub.execute_input": "2025-08-19T18:32:43.496624Z",
     "iopub.status.busy": "2025-08-19T18:32:43.495653Z",
     "iopub.status.idle": "2025-08-19T18:32:43.502895Z",
     "shell.execute_reply": "2025-08-19T18:32:43.501564Z"
    },
    "papermill": {
     "duration": 0.020485,
     "end_time": "2025-08-19T18:32:43.504584",
     "exception": false,
     "start_time": "2025-08-19T18:32:43.484099",
     "status": "completed"
    },
    "tags": []
   },
   "outputs": [],
   "source": [
    "from sklearn.pipeline import Pipeline\n",
    "from sklearn.preprocessing import StandardScaler\n",
    "\n",
    "model = Pipeline([\n",
    "    #(\"continuous_processor\", continuous_processor),\n",
    "    #(\"categorical_preprocessor\", categorical_preprocessor),\n",
    "    (\"scale\", StandardScaler() if universe[\"scale\"] == \"scale\" else None), \n",
    "    (\"model\", model),\n",
    "])"
   ]
  },
  {
   "cell_type": "code",
   "execution_count": 34,
   "id": "283a904d",
   "metadata": {
    "execution": {
     "iopub.execute_input": "2025-08-19T18:32:43.531792Z",
     "iopub.status.busy": "2025-08-19T18:32:43.530052Z",
     "iopub.status.idle": "2025-08-19T18:32:44.903845Z",
     "shell.execute_reply": "2025-08-19T18:32:44.902207Z"
    },
    "papermill": {
     "duration": 1.395391,
     "end_time": "2025-08-19T18:32:44.913357",
     "exception": false,
     "start_time": "2025-08-19T18:32:43.517966",
     "status": "completed"
    },
    "tags": []
   },
   "outputs": [
    {
     "data": {
      "text/html": [
       "<style>#sk-container-id-1 {color: black;background-color: white;}#sk-container-id-1 pre{padding: 0;}#sk-container-id-1 div.sk-toggleable {background-color: white;}#sk-container-id-1 label.sk-toggleable__label {cursor: pointer;display: block;width: 100%;margin-bottom: 0;padding: 0.3em;box-sizing: border-box;text-align: center;}#sk-container-id-1 label.sk-toggleable__label-arrow:before {content: \"▸\";float: left;margin-right: 0.25em;color: #696969;}#sk-container-id-1 label.sk-toggleable__label-arrow:hover:before {color: black;}#sk-container-id-1 div.sk-estimator:hover label.sk-toggleable__label-arrow:before {color: black;}#sk-container-id-1 div.sk-toggleable__content {max-height: 0;max-width: 0;overflow: hidden;text-align: left;background-color: #f0f8ff;}#sk-container-id-1 div.sk-toggleable__content pre {margin: 0.2em;color: black;border-radius: 0.25em;background-color: #f0f8ff;}#sk-container-id-1 input.sk-toggleable__control:checked~div.sk-toggleable__content {max-height: 200px;max-width: 100%;overflow: auto;}#sk-container-id-1 input.sk-toggleable__control:checked~label.sk-toggleable__label-arrow:before {content: \"▾\";}#sk-container-id-1 div.sk-estimator input.sk-toggleable__control:checked~label.sk-toggleable__label {background-color: #d4ebff;}#sk-container-id-1 div.sk-label input.sk-toggleable__control:checked~label.sk-toggleable__label {background-color: #d4ebff;}#sk-container-id-1 input.sk-hidden--visually {border: 0;clip: rect(1px 1px 1px 1px);clip: rect(1px, 1px, 1px, 1px);height: 1px;margin: -1px;overflow: hidden;padding: 0;position: absolute;width: 1px;}#sk-container-id-1 div.sk-estimator {font-family: monospace;background-color: #f0f8ff;border: 1px dotted black;border-radius: 0.25em;box-sizing: border-box;margin-bottom: 0.5em;}#sk-container-id-1 div.sk-estimator:hover {background-color: #d4ebff;}#sk-container-id-1 div.sk-parallel-item::after {content: \"\";width: 100%;border-bottom: 1px solid gray;flex-grow: 1;}#sk-container-id-1 div.sk-label:hover label.sk-toggleable__label {background-color: #d4ebff;}#sk-container-id-1 div.sk-serial::before {content: \"\";position: absolute;border-left: 1px solid gray;box-sizing: border-box;top: 0;bottom: 0;left: 50%;z-index: 0;}#sk-container-id-1 div.sk-serial {display: flex;flex-direction: column;align-items: center;background-color: white;padding-right: 0.2em;padding-left: 0.2em;position: relative;}#sk-container-id-1 div.sk-item {position: relative;z-index: 1;}#sk-container-id-1 div.sk-parallel {display: flex;align-items: stretch;justify-content: center;background-color: white;position: relative;}#sk-container-id-1 div.sk-item::before, #sk-container-id-1 div.sk-parallel-item::before {content: \"\";position: absolute;border-left: 1px solid gray;box-sizing: border-box;top: 0;bottom: 0;left: 50%;z-index: -1;}#sk-container-id-1 div.sk-parallel-item {display: flex;flex-direction: column;z-index: 1;position: relative;background-color: white;}#sk-container-id-1 div.sk-parallel-item:first-child::after {align-self: flex-end;width: 50%;}#sk-container-id-1 div.sk-parallel-item:last-child::after {align-self: flex-start;width: 50%;}#sk-container-id-1 div.sk-parallel-item:only-child::after {width: 0;}#sk-container-id-1 div.sk-dashed-wrapped {border: 1px dashed gray;margin: 0 0.4em 0.5em 0.4em;box-sizing: border-box;padding-bottom: 0.4em;background-color: white;}#sk-container-id-1 div.sk-label label {font-family: monospace;font-weight: bold;display: inline-block;line-height: 1.2em;}#sk-container-id-1 div.sk-label-container {text-align: center;}#sk-container-id-1 div.sk-container {/* jupyter's `normalize.less` sets `[hidden] { display: none; }` but bootstrap.min.css set `[hidden] { display: none !important; }` so we also need the `!important` here to be able to override the default hidden behavior on the sphinx rendered scikit-learn.org. See: https://github.com/scikit-learn/scikit-learn/issues/21755 */display: inline-block !important;position: relative;}#sk-container-id-1 div.sk-text-repr-fallback {display: none;}</style><div id=\"sk-container-id-1\" class=\"sk-top-container\"><div class=\"sk-text-repr-fallback\"><pre>Pipeline(steps=[(&#x27;scale&#x27;, StandardScaler()),\n",
       "                (&#x27;model&#x27;, RandomForestClassifier())])</pre><b>In a Jupyter environment, please rerun this cell to show the HTML representation or trust the notebook. <br />On GitHub, the HTML representation is unable to render, please try loading this page with nbviewer.org.</b></div><div class=\"sk-container\" hidden><div class=\"sk-item sk-dashed-wrapped\"><div class=\"sk-label-container\"><div class=\"sk-label sk-toggleable\"><input class=\"sk-toggleable__control sk-hidden--visually\" id=\"sk-estimator-id-1\" type=\"checkbox\" ><label for=\"sk-estimator-id-1\" class=\"sk-toggleable__label sk-toggleable__label-arrow\">Pipeline</label><div class=\"sk-toggleable__content\"><pre>Pipeline(steps=[(&#x27;scale&#x27;, StandardScaler()),\n",
       "                (&#x27;model&#x27;, RandomForestClassifier())])</pre></div></div></div><div class=\"sk-serial\"><div class=\"sk-item\"><div class=\"sk-estimator sk-toggleable\"><input class=\"sk-toggleable__control sk-hidden--visually\" id=\"sk-estimator-id-2\" type=\"checkbox\" ><label for=\"sk-estimator-id-2\" class=\"sk-toggleable__label sk-toggleable__label-arrow\">StandardScaler</label><div class=\"sk-toggleable__content\"><pre>StandardScaler()</pre></div></div></div><div class=\"sk-item\"><div class=\"sk-estimator sk-toggleable\"><input class=\"sk-toggleable__control sk-hidden--visually\" id=\"sk-estimator-id-3\" type=\"checkbox\" ><label for=\"sk-estimator-id-3\" class=\"sk-toggleable__label sk-toggleable__label-arrow\">RandomForestClassifier</label><div class=\"sk-toggleable__content\"><pre>RandomForestClassifier()</pre></div></div></div></div></div></div></div>"
      ],
      "text/plain": [
       "Pipeline(steps=[('scale', StandardScaler()),\n",
       "                ('model', RandomForestClassifier())])"
      ]
     },
     "execution_count": 34,
     "metadata": {},
     "output_type": "execute_result"
    }
   ],
   "source": [
    "model.fit(X_train, y_train.values.ravel())"
   ]
  },
  {
   "cell_type": "code",
   "execution_count": 35,
   "id": "6e15e313",
   "metadata": {
    "execution": {
     "iopub.execute_input": "2025-08-19T18:32:44.946733Z",
     "iopub.status.busy": "2025-08-19T18:32:44.945640Z",
     "iopub.status.idle": "2025-08-19T18:32:47.362852Z",
     "shell.execute_reply": "2025-08-19T18:32:47.361603Z"
    },
    "papermill": {
     "duration": 2.437904,
     "end_time": "2025-08-19T18:32:47.364407",
     "exception": false,
     "start_time": "2025-08-19T18:32:44.926503",
     "status": "completed"
    },
    "tags": []
   },
   "outputs": [
    {
     "data": {
      "text/plain": [
       "0.8668152937242225"
      ]
     },
     "execution_count": 35,
     "metadata": {},
     "output_type": "execute_result"
    }
   ],
   "source": [
    "from fairness_multiverse.universe import predict_w_threshold\n",
    "\n",
    "probs_test = model.predict_proba(X_test)\n",
    "\n",
    "'''\n",
    "Below code returns a boolean array (or binary 0/1 array depending on how it’s used) where each element \n",
    "is True if the probability of class 1 is greater than or equal to the threshold, and False otherwise.\n",
    "'''\n",
    "y_pred_default = predict_w_threshold(probs_test, 0.5)\n",
    "\n",
    "from sklearn.metrics import accuracy_score\n",
    "\n",
    "# Naive prediction\n",
    "accuracy_score(y_true = y_true, y_pred = y_pred_default)"
   ]
  },
  {
   "cell_type": "code",
   "execution_count": 36,
   "id": "6f14067c",
   "metadata": {
    "execution": {
     "iopub.execute_input": "2025-08-19T18:32:47.395642Z",
     "iopub.status.busy": "2025-08-19T18:32:47.394745Z",
     "iopub.status.idle": "2025-08-19T18:32:49.424328Z",
     "shell.execute_reply": "2025-08-19T18:32:49.422520Z"
    },
    "papermill": {
     "duration": 2.049091,
     "end_time": "2025-08-19T18:32:49.427073",
     "exception": false,
     "start_time": "2025-08-19T18:32:47.377982",
     "status": "completed"
    },
    "tags": []
   },
   "outputs": [
    {
     "data": {
      "text/plain": [
       "array([0, 0, 0, ..., 0, 0, 0])"
      ]
     },
     "execution_count": 36,
     "metadata": {},
     "output_type": "execute_result"
    }
   ],
   "source": [
    "model.predict(X_test)"
   ]
  },
  {
   "cell_type": "markdown",
   "id": "3759920c",
   "metadata": {
    "papermill": {
     "duration": 0.0129,
     "end_time": "2025-08-19T18:32:49.464908",
     "exception": false,
     "start_time": "2025-08-19T18:32:49.452008",
     "status": "completed"
    },
    "tags": []
   },
   "source": [
    "# Conformal Prediction"
   ]
  },
  {
   "cell_type": "code",
   "execution_count": 37,
   "id": "14b27f59",
   "metadata": {
    "execution": {
     "iopub.execute_input": "2025-08-19T18:32:49.494474Z",
     "iopub.status.busy": "2025-08-19T18:32:49.492875Z",
     "iopub.status.idle": "2025-08-19T18:32:49.504029Z",
     "shell.execute_reply": "2025-08-19T18:32:49.502482Z"
    },
    "papermill": {
     "duration": 0.030104,
     "end_time": "2025-08-19T18:32:49.506082",
     "exception": false,
     "start_time": "2025-08-19T18:32:49.475978",
     "status": "completed"
    },
    "tags": []
   },
   "outputs": [],
   "source": [
    "# Miscoverage level for conformal prediction (10% allowed error rate => 90% target coverage)\n",
    "alpha = 0.1"
   ]
  },
  {
   "cell_type": "code",
   "execution_count": 38,
   "id": "59102472",
   "metadata": {
    "execution": {
     "iopub.execute_input": "2025-08-19T18:32:49.543164Z",
     "iopub.status.busy": "2025-08-19T18:32:49.542707Z",
     "iopub.status.idle": "2025-08-19T18:32:52.012927Z",
     "shell.execute_reply": "2025-08-19T18:32:52.011535Z"
    },
    "papermill": {
     "duration": 2.489047,
     "end_time": "2025-08-19T18:32:52.014815",
     "exception": false,
     "start_time": "2025-08-19T18:32:49.525768",
     "status": "completed"
    },
    "tags": []
   },
   "outputs": [],
   "source": [
    "probs_calib = model.predict_proba(X_calib)"
   ]
  },
  {
   "cell_type": "code",
   "execution_count": 39,
   "id": "a792d4dd",
   "metadata": {
    "execution": {
     "iopub.execute_input": "2025-08-19T18:32:52.041347Z",
     "iopub.status.busy": "2025-08-19T18:32:52.040432Z",
     "iopub.status.idle": "2025-08-19T18:32:52.052595Z",
     "shell.execute_reply": "2025-08-19T18:32:52.051329Z"
    },
    "papermill": {
     "duration": 0.028135,
     "end_time": "2025-08-19T18:32:52.054544",
     "exception": false,
     "start_time": "2025-08-19T18:32:52.026409",
     "status": "completed"
    },
    "tags": []
   },
   "outputs": [],
   "source": [
    "y_calib = y_calib.values.ravel().astype(int)"
   ]
  },
  {
   "cell_type": "code",
   "execution_count": 40,
   "id": "650fd033",
   "metadata": {
    "execution": {
     "iopub.execute_input": "2025-08-19T18:32:52.081915Z",
     "iopub.status.busy": "2025-08-19T18:32:52.081012Z",
     "iopub.status.idle": "2025-08-19T18:32:52.100102Z",
     "shell.execute_reply": "2025-08-19T18:32:52.098533Z"
    },
    "papermill": {
     "duration": 0.033997,
     "end_time": "2025-08-19T18:32:52.102210",
     "exception": false,
     "start_time": "2025-08-19T18:32:52.068213",
     "status": "completed"
    },
    "tags": []
   },
   "outputs": [],
   "source": [
    "from fairness_multiverse.conformal import compute_nc_scores\n",
    "\n",
    "# Compute nonconformity scores on calibration set (1 - probability of true class)\n",
    "nc_scores = compute_nc_scores(probs_calib, y_calib)"
   ]
  },
  {
   "cell_type": "code",
   "execution_count": 41,
   "id": "28ada44c",
   "metadata": {
    "execution": {
     "iopub.execute_input": "2025-08-19T18:32:52.129537Z",
     "iopub.status.busy": "2025-08-19T18:32:52.128805Z",
     "iopub.status.idle": "2025-08-19T18:32:52.140313Z",
     "shell.execute_reply": "2025-08-19T18:32:52.139540Z"
    },
    "papermill": {
     "duration": 0.028584,
     "end_time": "2025-08-19T18:32:52.144172",
     "exception": false,
     "start_time": "2025-08-19T18:32:52.115588",
     "status": "completed"
    },
    "tags": []
   },
   "outputs": [],
   "source": [
    "from fairness_multiverse.conformal import find_threshold\n",
    "\n",
    "# Find conformal threshold q_hat for the given alpha (split conformal method)\n",
    "q_hat = find_threshold(nc_scores, alpha)"
   ]
  },
  {
   "cell_type": "code",
   "execution_count": 42,
   "id": "df56469e",
   "metadata": {
    "execution": {
     "iopub.execute_input": "2025-08-19T18:32:52.183074Z",
     "iopub.status.busy": "2025-08-19T18:32:52.182654Z",
     "iopub.status.idle": "2025-08-19T18:32:52.189066Z",
     "shell.execute_reply": "2025-08-19T18:32:52.188316Z"
    },
    "papermill": {
     "duration": 0.021021,
     "end_time": "2025-08-19T18:32:52.191620",
     "exception": false,
     "start_time": "2025-08-19T18:32:52.170599",
     "status": "completed"
    },
    "tags": []
   },
   "outputs": [
    {
     "data": {
      "text/plain": [
       "0.6799999999999999"
      ]
     },
     "execution_count": 42,
     "metadata": {},
     "output_type": "execute_result"
    }
   ],
   "source": [
    "q_hat"
   ]
  },
  {
   "cell_type": "code",
   "execution_count": 43,
   "id": "aa1f5faa",
   "metadata": {
    "execution": {
     "iopub.execute_input": "2025-08-19T18:32:52.215954Z",
     "iopub.status.busy": "2025-08-19T18:32:52.215515Z",
     "iopub.status.idle": "2025-08-19T18:32:54.659831Z",
     "shell.execute_reply": "2025-08-19T18:32:54.658595Z"
    },
    "papermill": {
     "duration": 2.458188,
     "end_time": "2025-08-19T18:32:54.661601",
     "exception": false,
     "start_time": "2025-08-19T18:32:52.203413",
     "status": "completed"
    },
    "tags": []
   },
   "outputs": [],
   "source": [
    "from fairness_multiverse.conformal import predict_conformal_sets\n",
    "\n",
    "# Generate prediction sets for each test example\n",
    "pred_sets = predict_conformal_sets(model, X_test, q_hat)"
   ]
  },
  {
   "cell_type": "code",
   "execution_count": 44,
   "id": "97f67a6b",
   "metadata": {
    "execution": {
     "iopub.execute_input": "2025-08-19T18:32:54.686567Z",
     "iopub.status.busy": "2025-08-19T18:32:54.685539Z",
     "iopub.status.idle": "2025-08-19T18:32:54.692670Z",
     "shell.execute_reply": "2025-08-19T18:32:54.691161Z"
    },
    "papermill": {
     "duration": 0.020632,
     "end_time": "2025-08-19T18:32:54.694011",
     "exception": false,
     "start_time": "2025-08-19T18:32:54.673379",
     "status": "completed"
    },
    "tags": []
   },
   "outputs": [],
   "source": [
    "y_true = y_true.squeeze()"
   ]
  },
  {
   "cell_type": "code",
   "execution_count": 45,
   "id": "e700e9a7",
   "metadata": {
    "execution": {
     "iopub.execute_input": "2025-08-19T18:32:54.717933Z",
     "iopub.status.busy": "2025-08-19T18:32:54.717555Z",
     "iopub.status.idle": "2025-08-19T18:32:55.204446Z",
     "shell.execute_reply": "2025-08-19T18:32:55.203236Z"
    },
    "papermill": {
     "duration": 0.500291,
     "end_time": "2025-08-19T18:32:55.205940",
     "exception": false,
     "start_time": "2025-08-19T18:32:54.705649",
     "status": "completed"
    },
    "tags": []
   },
   "outputs": [],
   "source": [
    "from fairness_multiverse.conformal import evaluate_sets\n",
    "\n",
    "# Evaluate coverage and average set size on test data\n",
    "metrics = evaluate_sets(pred_sets, y_true)"
   ]
  },
  {
   "cell_type": "markdown",
   "id": "efbacec0",
   "metadata": {
    "papermill": {
     "duration": 0.011154,
     "end_time": "2025-08-19T18:32:55.228645",
     "exception": false,
     "start_time": "2025-08-19T18:32:55.217491",
     "status": "completed"
    },
    "tags": []
   },
   "source": [
    "# CP Metrics"
   ]
  },
  {
   "cell_type": "code",
   "execution_count": 46,
   "id": "9de55fb1",
   "metadata": {
    "execution": {
     "iopub.execute_input": "2025-08-19T18:32:55.252953Z",
     "iopub.status.busy": "2025-08-19T18:32:55.252459Z",
     "iopub.status.idle": "2025-08-19T18:32:55.260648Z",
     "shell.execute_reply": "2025-08-19T18:32:55.259990Z"
    },
    "papermill": {
     "duration": 0.022836,
     "end_time": "2025-08-19T18:32:55.262581",
     "exception": false,
     "start_time": "2025-08-19T18:32:55.239745",
     "status": "completed"
    },
    "tags": []
   },
   "outputs": [
    {
     "data": {
      "text/plain": [
       "{'coverage': 0.915070783636161, 'avg_size': 1.1461264073124513}"
      ]
     },
     "execution_count": 46,
     "metadata": {},
     "output_type": "execute_result"
    }
   ],
   "source": [
    "metrics"
   ]
  },
  {
   "cell_type": "code",
   "execution_count": 47,
   "id": "64c340a1",
   "metadata": {
    "execution": {
     "iopub.execute_input": "2025-08-19T18:32:55.286551Z",
     "iopub.status.busy": "2025-08-19T18:32:55.286196Z",
     "iopub.status.idle": "2025-08-19T18:32:55.291381Z",
     "shell.execute_reply": "2025-08-19T18:32:55.290697Z"
    },
    "papermill": {
     "duration": 0.020712,
     "end_time": "2025-08-19T18:32:55.294541",
     "exception": false,
     "start_time": "2025-08-19T18:32:55.273829",
     "status": "completed"
    },
    "tags": []
   },
   "outputs": [],
   "source": [
    "example_universe = universe.copy()\n",
    "universe_training_year = example_universe.get(\"training_year\")\n",
    "universe_training_size = example_universe.get(\"training_size\")\n",
    "universe_scale = example_universe.get(\"scale\")\n",
    "universe_model = example_universe.get(\"model\")\n",
    "universe_exclude_features = example_universe.get(\"exclude_features\")\n",
    "universe_exclude_subgroups = example_universe.get(\"exclude_subgroups\")"
   ]
  },
  {
   "cell_type": "code",
   "execution_count": 48,
   "id": "dbb53cb4",
   "metadata": {
    "execution": {
     "iopub.execute_input": "2025-08-19T18:32:55.332232Z",
     "iopub.status.busy": "2025-08-19T18:32:55.331026Z",
     "iopub.status.idle": "2025-08-19T18:32:55.340749Z",
     "shell.execute_reply": "2025-08-19T18:32:55.339515Z"
    },
    "papermill": {
     "duration": 0.027075,
     "end_time": "2025-08-19T18:32:55.344375",
     "exception": false,
     "start_time": "2025-08-19T18:32:55.317300",
     "status": "completed"
    },
    "tags": []
   },
   "outputs": [],
   "source": [
    "cp_metrics_dict = {\n",
    "    \"universe_id\": [universe_id],\n",
    "    \"universe_training_year\": [universe_training_year],\n",
    "    \"universe_training_size\": [universe_training_size],\n",
    "    \"universe_scale\": [universe_scale],\n",
    "    \"universe_model\": [universe_model],\n",
    "    \"universe_exclude_features\": [universe_exclude_features],\n",
    "    \"universe_exclude_subgroups\": [universe_exclude_subgroups],\n",
    "    \"q_hat\": [q_hat],\n",
    "    \"coverage\": [metrics[\"coverage\"]],\n",
    "    \"avg_size\": [metrics[\"avg_size\"]],\n",
    "}"
   ]
  },
  {
   "cell_type": "code",
   "execution_count": 49,
   "id": "0d70d4b2",
   "metadata": {
    "execution": {
     "iopub.execute_input": "2025-08-19T18:32:55.373275Z",
     "iopub.status.busy": "2025-08-19T18:32:55.371765Z",
     "iopub.status.idle": "2025-08-19T18:32:55.383667Z",
     "shell.execute_reply": "2025-08-19T18:32:55.382410Z"
    },
    "papermill": {
     "duration": 0.034199,
     "end_time": "2025-08-19T18:32:55.391959",
     "exception": false,
     "start_time": "2025-08-19T18:32:55.357760",
     "status": "completed"
    },
    "tags": []
   },
   "outputs": [],
   "source": [
    "cp_metrics_df = pd.DataFrame(cp_metrics_dict)"
   ]
  },
  {
   "cell_type": "code",
   "execution_count": 50,
   "id": "b494403c",
   "metadata": {
    "execution": {
     "iopub.execute_input": "2025-08-19T18:32:55.419780Z",
     "iopub.status.busy": "2025-08-19T18:32:55.418618Z",
     "iopub.status.idle": "2025-08-19T18:32:55.470110Z",
     "shell.execute_reply": "2025-08-19T18:32:55.468995Z"
    },
    "papermill": {
     "duration": 0.068655,
     "end_time": "2025-08-19T18:32:55.472743",
     "exception": false,
     "start_time": "2025-08-19T18:32:55.404088",
     "status": "completed"
    },
    "tags": []
   },
   "outputs": [
    {
     "data": {
      "text/html": [
       "<div>\n",
       "<style scoped>\n",
       "    .dataframe tbody tr th:only-of-type {\n",
       "        vertical-align: middle;\n",
       "    }\n",
       "\n",
       "    .dataframe tbody tr th {\n",
       "        vertical-align: top;\n",
       "    }\n",
       "\n",
       "    .dataframe thead th {\n",
       "        text-align: right;\n",
       "    }\n",
       "</style>\n",
       "<table border=\"1\" class=\"dataframe\">\n",
       "  <thead>\n",
       "    <tr style=\"text-align: right;\">\n",
       "      <th></th>\n",
       "      <th>universe_id</th>\n",
       "      <th>universe_training_year</th>\n",
       "      <th>universe_training_size</th>\n",
       "      <th>universe_scale</th>\n",
       "      <th>universe_model</th>\n",
       "      <th>universe_exclude_features</th>\n",
       "      <th>universe_exclude_subgroups</th>\n",
       "      <th>q_hat</th>\n",
       "      <th>coverage</th>\n",
       "      <th>avg_size</th>\n",
       "    </tr>\n",
       "  </thead>\n",
       "  <tbody>\n",
       "    <tr>\n",
       "      <th>0</th>\n",
       "      <td>e5ab101b639be942114846432d07cddf</td>\n",
       "      <td>2012_14</td>\n",
       "      <td>5k</td>\n",
       "      <td>scale</td>\n",
       "      <td>rf</td>\n",
       "      <td>none</td>\n",
       "      <td>keep-all</td>\n",
       "      <td>0.68</td>\n",
       "      <td>0.915071</td>\n",
       "      <td>1.146126</td>\n",
       "    </tr>\n",
       "  </tbody>\n",
       "</table>\n",
       "</div>"
      ],
      "text/plain": [
       "                        universe_id universe_training_year  \\\n",
       "0  e5ab101b639be942114846432d07cddf                2012_14   \n",
       "\n",
       "  universe_training_size universe_scale universe_model  \\\n",
       "0                     5k          scale             rf   \n",
       "\n",
       "  universe_exclude_features universe_exclude_subgroups  q_hat  coverage  \\\n",
       "0                      none                   keep-all   0.68  0.915071   \n",
       "\n",
       "   avg_size  \n",
       "0  1.146126  "
      ]
     },
     "execution_count": 50,
     "metadata": {},
     "output_type": "execute_result"
    }
   ],
   "source": [
    "cp_metrics_df"
   ]
  },
  {
   "cell_type": "markdown",
   "id": "ed608b0b",
   "metadata": {
    "papermill": {
     "duration": 0.013208,
     "end_time": "2025-08-19T18:32:55.511465",
     "exception": false,
     "start_time": "2025-08-19T18:32:55.498257",
     "status": "completed"
    },
    "tags": []
   },
   "source": [
    "Conditional coverage & looking at subgroups"
   ]
  },
  {
   "cell_type": "code",
   "execution_count": 51,
   "id": "8968c366",
   "metadata": {
    "execution": {
     "iopub.execute_input": "2025-08-19T18:32:55.537983Z",
     "iopub.status.busy": "2025-08-19T18:32:55.536958Z",
     "iopub.status.idle": "2025-08-19T18:32:55.843319Z",
     "shell.execute_reply": "2025-08-19T18:32:55.842547Z"
    },
    "papermill": {
     "duration": 0.322748,
     "end_time": "2025-08-19T18:32:55.846086",
     "exception": false,
     "start_time": "2025-08-19T18:32:55.523338",
     "status": "completed"
    },
    "tags": []
   },
   "outputs": [],
   "source": [
    "from fairness_multiverse.conformal import build_cp_groups\n",
    "\n",
    "cp_groups_df = build_cp_groups(pred_sets, y_true, X_test.index, org_test)"
   ]
  },
  {
   "cell_type": "code",
   "execution_count": 52,
   "id": "292ddabf",
   "metadata": {
    "execution": {
     "iopub.execute_input": "2025-08-19T18:32:55.889485Z",
     "iopub.status.busy": "2025-08-19T18:32:55.888911Z",
     "iopub.status.idle": "2025-08-19T18:32:56.759459Z",
     "shell.execute_reply": "2025-08-19T18:32:56.758100Z"
    },
    "papermill": {
     "duration": 0.887254,
     "end_time": "2025-08-19T18:32:56.761368",
     "exception": false,
     "start_time": "2025-08-19T18:32:55.874114",
     "status": "completed"
    },
    "tags": []
   },
   "outputs": [],
   "source": [
    "# Define covered = 1 if true_label is in the predicted set\n",
    "cp_groups_df['covered'] = cp_groups_df.apply(\n",
    "    lambda r: int(r['true_label'] in r['pred_set']),\n",
    "    axis=1\n",
    ")"
   ]
  },
  {
   "cell_type": "code",
   "execution_count": 53,
   "id": "3a261692",
   "metadata": {
    "execution": {
     "iopub.execute_input": "2025-08-19T18:32:56.791668Z",
     "iopub.status.busy": "2025-08-19T18:32:56.790557Z",
     "iopub.status.idle": "2025-08-19T18:32:56.822356Z",
     "shell.execute_reply": "2025-08-19T18:32:56.821163Z"
    },
    "papermill": {
     "duration": 0.050949,
     "end_time": "2025-08-19T18:32:56.825130",
     "exception": false,
     "start_time": "2025-08-19T18:32:56.774181",
     "status": "completed"
    },
    "tags": []
   },
   "outputs": [],
   "source": [
    "subgroups = ['frau1','nongerman','nongerman_male','nongerman_female']\n",
    "\n",
    "# Conditional coverage for subgroup==1\n",
    "cond_coverage = {\n",
    "    g: cp_groups_df.loc[cp_groups_df[g]==1, 'covered'].mean()\n",
    "    for g in subgroups\n",
    "}"
   ]
  },
  {
   "cell_type": "code",
   "execution_count": 54,
   "id": "894fd600",
   "metadata": {
    "execution": {
     "iopub.execute_input": "2025-08-19T18:32:56.867009Z",
     "iopub.status.busy": "2025-08-19T18:32:56.865546Z",
     "iopub.status.idle": "2025-08-19T18:32:56.962284Z",
     "shell.execute_reply": "2025-08-19T18:32:56.960932Z"
    },
    "papermill": {
     "duration": 0.112425,
     "end_time": "2025-08-19T18:32:56.963810",
     "exception": false,
     "start_time": "2025-08-19T18:32:56.851385",
     "status": "completed"
    },
    "tags": []
   },
   "outputs": [
    {
     "data": {
      "text/plain": [
       "{'frau1': 0.9096643752527295,\n",
       " 'nongerman': 0.9070903272890586,\n",
       " 'nongerman_male': 0.924885166171305,\n",
       " 'nongerman_female': 0.877645305514158}"
      ]
     },
     "execution_count": 54,
     "metadata": {},
     "output_type": "execute_result"
    }
   ],
   "source": [
    "cond_coverage"
   ]
  },
  {
   "cell_type": "code",
   "execution_count": 55,
   "id": "942895c7",
   "metadata": {
    "execution": {
     "iopub.execute_input": "2025-08-19T18:32:56.991817Z",
     "iopub.status.busy": "2025-08-19T18:32:56.990739Z",
     "iopub.status.idle": "2025-08-19T18:32:56.999791Z",
     "shell.execute_reply": "2025-08-19T18:32:56.998934Z"
    },
    "papermill": {
     "duration": 0.024248,
     "end_time": "2025-08-19T18:32:57.001118",
     "exception": false,
     "start_time": "2025-08-19T18:32:56.976870",
     "status": "completed"
    },
    "tags": []
   },
   "outputs": [],
   "source": [
    "for subgroup, cov in cond_coverage.items():\n",
    "    cp_metrics_df[f\"cov_{subgroup}\"] = cov"
   ]
  },
  {
   "cell_type": "code",
   "execution_count": 56,
   "id": "3970120f",
   "metadata": {
    "execution": {
     "iopub.execute_input": "2025-08-19T18:32:57.056334Z",
     "iopub.status.busy": "2025-08-19T18:32:57.055845Z",
     "iopub.status.idle": "2025-08-19T18:32:57.081167Z",
     "shell.execute_reply": "2025-08-19T18:32:57.079993Z"
    },
    "papermill": {
     "duration": 0.068599,
     "end_time": "2025-08-19T18:32:57.090472",
     "exception": false,
     "start_time": "2025-08-19T18:32:57.021873",
     "status": "completed"
    },
    "tags": []
   },
   "outputs": [
    {
     "data": {
      "text/html": [
       "<div>\n",
       "<style scoped>\n",
       "    .dataframe tbody tr th:only-of-type {\n",
       "        vertical-align: middle;\n",
       "    }\n",
       "\n",
       "    .dataframe tbody tr th {\n",
       "        vertical-align: top;\n",
       "    }\n",
       "\n",
       "    .dataframe thead th {\n",
       "        text-align: right;\n",
       "    }\n",
       "</style>\n",
       "<table border=\"1\" class=\"dataframe\">\n",
       "  <thead>\n",
       "    <tr style=\"text-align: right;\">\n",
       "      <th></th>\n",
       "      <th>universe_id</th>\n",
       "      <th>universe_training_year</th>\n",
       "      <th>universe_training_size</th>\n",
       "      <th>universe_scale</th>\n",
       "      <th>universe_model</th>\n",
       "      <th>universe_exclude_features</th>\n",
       "      <th>universe_exclude_subgroups</th>\n",
       "      <th>q_hat</th>\n",
       "      <th>coverage</th>\n",
       "      <th>avg_size</th>\n",
       "      <th>cov_frau1</th>\n",
       "      <th>cov_nongerman</th>\n",
       "      <th>cov_nongerman_male</th>\n",
       "      <th>cov_nongerman_female</th>\n",
       "    </tr>\n",
       "  </thead>\n",
       "  <tbody>\n",
       "    <tr>\n",
       "      <th>0</th>\n",
       "      <td>e5ab101b639be942114846432d07cddf</td>\n",
       "      <td>2012_14</td>\n",
       "      <td>5k</td>\n",
       "      <td>scale</td>\n",
       "      <td>rf</td>\n",
       "      <td>none</td>\n",
       "      <td>keep-all</td>\n",
       "      <td>0.68</td>\n",
       "      <td>0.915071</td>\n",
       "      <td>1.146126</td>\n",
       "      <td>0.909664</td>\n",
       "      <td>0.90709</td>\n",
       "      <td>0.924885</td>\n",
       "      <td>0.877645</td>\n",
       "    </tr>\n",
       "  </tbody>\n",
       "</table>\n",
       "</div>"
      ],
      "text/plain": [
       "                        universe_id universe_training_year  \\\n",
       "0  e5ab101b639be942114846432d07cddf                2012_14   \n",
       "\n",
       "  universe_training_size universe_scale universe_model  \\\n",
       "0                     5k          scale             rf   \n",
       "\n",
       "  universe_exclude_features universe_exclude_subgroups  q_hat  coverage  \\\n",
       "0                      none                   keep-all   0.68  0.915071   \n",
       "\n",
       "   avg_size  cov_frau1  cov_nongerman  cov_nongerman_male  \\\n",
       "0  1.146126   0.909664        0.90709            0.924885   \n",
       "\n",
       "   cov_nongerman_female  \n",
       "0              0.877645  "
      ]
     },
     "execution_count": 56,
     "metadata": {},
     "output_type": "execute_result"
    }
   ],
   "source": [
    "cp_metrics_df"
   ]
  },
  {
   "cell_type": "markdown",
   "id": "3fc519cc",
   "metadata": {
    "papermill": {
     "duration": 0.012195,
     "end_time": "2025-08-19T18:32:57.122485",
     "exception": false,
     "start_time": "2025-08-19T18:32:57.110290",
     "status": "completed"
    },
    "tags": []
   },
   "source": [
    "# (Fairness) Metrics"
   ]
  },
  {
   "cell_type": "code",
   "execution_count": 57,
   "id": "a2e5e155",
   "metadata": {
    "execution": {
     "iopub.execute_input": "2025-08-19T18:32:57.147972Z",
     "iopub.status.busy": "2025-08-19T18:32:57.147572Z",
     "iopub.status.idle": "2025-08-19T18:32:57.164738Z",
     "shell.execute_reply": "2025-08-19T18:32:57.163446Z"
    },
    "papermill": {
     "duration": 0.03144,
     "end_time": "2025-08-19T18:32:57.166009",
     "exception": false,
     "start_time": "2025-08-19T18:32:57.134569",
     "status": "completed"
    },
    "tags": []
   },
   "outputs": [],
   "source": [
    "colname_to_bin = \"maxdeutsch1\"\n",
    "majority_value = org_train[colname_to_bin].mode()[0]\n",
    "\n",
    "org_test[\"majmin\"] = np.where(org_test[colname_to_bin] == majority_value, \"majority\", \"minority\")"
   ]
  },
  {
   "cell_type": "code",
   "execution_count": 58,
   "id": "17e3e4d5",
   "metadata": {
    "execution": {
     "iopub.execute_input": "2025-08-19T18:32:57.198209Z",
     "iopub.status.busy": "2025-08-19T18:32:57.197796Z",
     "iopub.status.idle": "2025-08-19T18:32:58.907303Z",
     "shell.execute_reply": "2025-08-19T18:32:58.905962Z"
    },
    "papermill": {
     "duration": 1.728627,
     "end_time": "2025-08-19T18:32:58.909269",
     "exception": false,
     "start_time": "2025-08-19T18:32:57.180642",
     "status": "completed"
    },
    "tags": []
   },
   "outputs": [],
   "source": [
    "example_universe = universe.copy()\n",
    "example_universe[\"cutoff\"] = example_universe[\"cutoff\"][0]\n",
    "example_universe[\"eval_fairness_grouping\"] = example_universe[\"eval_fairness_grouping\"][0]\n",
    "fairness_dict, metric_frame = universe_analysis.compute_metrics(\n",
    "    example_universe,\n",
    "    y_pred_prob=probs_test,\n",
    "    y_test=y_true,\n",
    "    org_test=org_test,\n",
    ")"
   ]
  },
  {
   "cell_type": "markdown",
   "id": "1fb7a0e9",
   "metadata": {
    "papermill": {
     "duration": 0.012313,
     "end_time": "2025-08-19T18:32:58.934549",
     "exception": false,
     "start_time": "2025-08-19T18:32:58.922236",
     "status": "completed"
    },
    "tags": []
   },
   "source": [
    "# Overall"
   ]
  },
  {
   "cell_type": "markdown",
   "id": "be1784b1",
   "metadata": {
    "papermill": {
     "duration": 0.012153,
     "end_time": "2025-08-19T18:32:58.958703",
     "exception": false,
     "start_time": "2025-08-19T18:32:58.946550",
     "status": "completed"
    },
    "tags": []
   },
   "source": [
    "Main fairness target: Equalized Odds. Seems to be a better fit than equal opportunity, since we're not only interested in Y = 1. Seems to be a better fit than demographic parity, since we also care about accuracy, not just equal distribution of preds.\n",
    "\n",
    "Pick column for computation of fairness metrics\n",
    "\n",
    "Performance\n",
    "Overall performance measures, most interesting in relation to the measures split by group below"
   ]
  },
  {
   "cell_type": "code",
   "execution_count": 59,
   "id": "b7672bee",
   "metadata": {
    "execution": {
     "iopub.execute_input": "2025-08-19T18:32:58.984292Z",
     "iopub.status.busy": "2025-08-19T18:32:58.983933Z",
     "iopub.status.idle": "2025-08-19T18:32:58.992912Z",
     "shell.execute_reply": "2025-08-19T18:32:58.991908Z"
    },
    "papermill": {
     "duration": 0.024132,
     "end_time": "2025-08-19T18:32:58.994781",
     "exception": false,
     "start_time": "2025-08-19T18:32:58.970649",
     "status": "completed"
    },
    "tags": []
   },
   "outputs": [
    {
     "data": {
      "text/plain": [
       "accuracy                   0.203199\n",
       "balanced accuracy          0.536525\n",
       "f1                         0.240767\n",
       "precision                  0.137147\n",
       "false positive rate        0.911831\n",
       "false negative rate        0.015120\n",
       "selection rate             0.921202\n",
       "count                  89710.000000\n",
       "dtype: float64"
      ]
     },
     "execution_count": 59,
     "metadata": {},
     "output_type": "execute_result"
    }
   ],
   "source": [
    "metric_frame.overall"
   ]
  },
  {
   "cell_type": "markdown",
   "id": "d93333c9",
   "metadata": {
    "papermill": {
     "duration": 0.012056,
     "end_time": "2025-08-19T18:32:59.021246",
     "exception": false,
     "start_time": "2025-08-19T18:32:59.009190",
     "status": "completed"
    },
    "tags": []
   },
   "source": [
    "By Group"
   ]
  },
  {
   "cell_type": "code",
   "execution_count": 60,
   "id": "52256966",
   "metadata": {
    "execution": {
     "iopub.execute_input": "2025-08-19T18:32:59.046958Z",
     "iopub.status.busy": "2025-08-19T18:32:59.046540Z",
     "iopub.status.idle": "2025-08-19T18:32:59.061549Z",
     "shell.execute_reply": "2025-08-19T18:32:59.060646Z"
    },
    "papermill": {
     "duration": 0.030094,
     "end_time": "2025-08-19T18:32:59.063351",
     "exception": false,
     "start_time": "2025-08-19T18:32:59.033257",
     "status": "completed"
    },
    "tags": []
   },
   "outputs": [
    {
     "data": {
      "text/html": [
       "<div>\n",
       "<style scoped>\n",
       "    .dataframe tbody tr th:only-of-type {\n",
       "        vertical-align: middle;\n",
       "    }\n",
       "\n",
       "    .dataframe tbody tr th {\n",
       "        vertical-align: top;\n",
       "    }\n",
       "\n",
       "    .dataframe thead th {\n",
       "        text-align: right;\n",
       "    }\n",
       "</style>\n",
       "<table border=\"1\" class=\"dataframe\">\n",
       "  <thead>\n",
       "    <tr style=\"text-align: right;\">\n",
       "      <th></th>\n",
       "      <th>accuracy</th>\n",
       "      <th>balanced accuracy</th>\n",
       "      <th>f1</th>\n",
       "      <th>precision</th>\n",
       "      <th>false positive rate</th>\n",
       "      <th>false negative rate</th>\n",
       "      <th>selection rate</th>\n",
       "      <th>count</th>\n",
       "    </tr>\n",
       "    <tr>\n",
       "      <th>majmin</th>\n",
       "      <th></th>\n",
       "      <th></th>\n",
       "      <th></th>\n",
       "      <th></th>\n",
       "      <th></th>\n",
       "      <th></th>\n",
       "      <th></th>\n",
       "      <th></th>\n",
       "    </tr>\n",
       "  </thead>\n",
       "  <tbody>\n",
       "    <tr>\n",
       "      <th>majority</th>\n",
       "      <td>0.202660</td>\n",
       "      <td>0.536595</td>\n",
       "      <td>0.247154</td>\n",
       "      <td>0.141193</td>\n",
       "      <td>0.917291</td>\n",
       "      <td>0.009519</td>\n",
       "      <td>0.926963</td>\n",
       "      <td>69170.0</td>\n",
       "    </tr>\n",
       "    <tr>\n",
       "      <th>minority</th>\n",
       "      <td>0.205015</td>\n",
       "      <td>0.534734</td>\n",
       "      <td>0.218372</td>\n",
       "      <td>0.123144</td>\n",
       "      <td>0.893793</td>\n",
       "      <td>0.036740</td>\n",
       "      <td>0.901801</td>\n",
       "      <td>20540.0</td>\n",
       "    </tr>\n",
       "  </tbody>\n",
       "</table>\n",
       "</div>"
      ],
      "text/plain": [
       "          accuracy  balanced accuracy        f1  precision  \\\n",
       "majmin                                                       \n",
       "majority  0.202660           0.536595  0.247154   0.141193   \n",
       "minority  0.205015           0.534734  0.218372   0.123144   \n",
       "\n",
       "          false positive rate  false negative rate  selection rate    count  \n",
       "majmin                                                                       \n",
       "majority             0.917291             0.009519        0.926963  69170.0  \n",
       "minority             0.893793             0.036740        0.901801  20540.0  "
      ]
     },
     "execution_count": 60,
     "metadata": {},
     "output_type": "execute_result"
    }
   ],
   "source": [
    "metric_frame.by_group"
   ]
  },
  {
   "cell_type": "code",
   "execution_count": 61,
   "id": "6e6c20ae",
   "metadata": {
    "execution": {
     "iopub.execute_input": "2025-08-19T18:32:59.091747Z",
     "iopub.status.busy": "2025-08-19T18:32:59.091347Z",
     "iopub.status.idle": "2025-08-19T18:33:01.104968Z",
     "shell.execute_reply": "2025-08-19T18:33:01.104057Z"
    },
    "papermill": {
     "duration": 2.028373,
     "end_time": "2025-08-19T18:33:01.106533",
     "exception": false,
     "start_time": "2025-08-19T18:32:59.078160",
     "status": "completed"
    },
    "tags": []
   },
   "outputs": [
    {
     "data": {
      "text/plain": [
       "array([[<Axes: title={'center': 'accuracy'}, xlabel='majmin'>,\n",
       "        <Axes: title={'center': 'balanced accuracy'}, xlabel='majmin'>,\n",
       "        <Axes: title={'center': 'f1'}, xlabel='majmin'>],\n",
       "       [<Axes: title={'center': 'precision'}, xlabel='majmin'>,\n",
       "        <Axes: title={'center': 'false positive rate'}, xlabel='majmin'>,\n",
       "        <Axes: title={'center': 'false negative rate'}, xlabel='majmin'>],\n",
       "       [<Axes: title={'center': 'selection rate'}, xlabel='majmin'>,\n",
       "        <Axes: title={'center': 'count'}, xlabel='majmin'>,\n",
       "        <Axes: xlabel='majmin'>]], dtype=object)"
      ]
     },
     "execution_count": 61,
     "metadata": {},
     "output_type": "execute_result"
    },
    {
     "data": {
      "image/png": "[encoded data removed]",
      "text/plain": [
       "<Figure size 1200x800 with 9 Axes>"
      ]
     },
     "metadata": {},
     "output_type": "display_data"
    }
   ],
   "source": [
    "# In a graphic\n",
    "metric_frame.by_group.plot.bar(\n",
    "    subplots=True,\n",
    "    layout=[3, 3],\n",
    "    legend=False,\n",
    "    figsize=[12, 8],\n",
    "    title=\"Show all metrics\",\n",
    ")"
   ]
  },
  {
   "cell_type": "markdown",
   "id": "b2e433ae",
   "metadata": {
    "papermill": {
     "duration": 0.013516,
     "end_time": "2025-08-19T18:33:01.136593",
     "exception": false,
     "start_time": "2025-08-19T18:33:01.123077",
     "status": "completed"
    },
    "tags": []
   },
   "source": [
    "# Final Output"
   ]
  },
  {
   "cell_type": "code",
   "execution_count": 62,
   "id": "3871301e",
   "metadata": {
    "execution": {
     "iopub.execute_input": "2025-08-19T18:33:01.165676Z",
     "iopub.status.busy": "2025-08-19T18:33:01.164866Z",
     "iopub.status.idle": "2025-08-19T18:33:01.174706Z",
     "shell.execute_reply": "2025-08-19T18:33:01.174123Z"
    },
    "papermill": {
     "duration": 0.025752,
     "end_time": "2025-08-19T18:33:01.175783",
     "exception": false,
     "start_time": "2025-08-19T18:33:01.150031",
     "status": "completed"
    },
    "tags": []
   },
   "outputs": [
    {
     "data": {
      "text/plain": [
       "4"
      ]
     },
     "execution_count": 62,
     "metadata": {},
     "output_type": "execute_result"
    }
   ],
   "source": [
    "sub_universes = universe_analysis.generate_sub_universes()\n",
    "len(sub_universes)"
   ]
  },
  {
   "cell_type": "code",
   "execution_count": 63,
   "id": "d9cfdaca",
   "metadata": {
    "execution": {
     "iopub.execute_input": "2025-08-19T18:33:01.212233Z",
     "iopub.status.busy": "2025-08-19T18:33:01.210161Z",
     "iopub.status.idle": "2025-08-19T18:33:01.217891Z",
     "shell.execute_reply": "2025-08-19T18:33:01.216521Z"
    },
    "papermill": {
     "duration": 0.024739,
     "end_time": "2025-08-19T18:33:01.219301",
     "exception": false,
     "start_time": "2025-08-19T18:33:01.194562",
     "status": "completed"
    },
    "tags": []
   },
   "outputs": [],
   "source": [
    "def filter_sub_universe_data(sub_universe, org_test):\n",
    "    # Keep all rows — no filtering\n",
    "    keep_rows_mask = np.ones(org_test.shape[0], dtype=bool)\n",
    "\n",
    "    print(f\"[INFO] Keeping all rows: {keep_rows_mask.sum()} rows retained.\")\n",
    "    return keep_rows_mask"
   ]
  },
  {
   "cell_type": "code",
   "execution_count": 64,
   "id": "2bc31ac1",
   "metadata": {
    "execution": {
     "iopub.execute_input": "2025-08-19T18:33:01.252207Z",
     "iopub.status.busy": "2025-08-19T18:33:01.251601Z",
     "iopub.status.idle": "2025-08-19T18:33:08.076839Z",
     "shell.execute_reply": "2025-08-19T18:33:08.075857Z"
    },
    "papermill": {
     "duration": 6.844724,
     "end_time": "2025-08-19T18:33:08.080291",
     "exception": false,
     "start_time": "2025-08-19T18:33:01.235567",
     "status": "completed"
    },
    "tags": []
   },
   "outputs": [
    {
     "name": "stdout",
     "output_type": "stream",
     "text": [
      "Stopping execution_time clock.\n",
      "[INFO] Keeping all rows: 89710 rows retained.\n"
     ]
    },
    {
     "name": "stdout",
     "output_type": "stream",
     "text": [
      "[INFO] Keeping all rows: 89710 rows retained.\n"
     ]
    },
    {
     "name": "stdout",
     "output_type": "stream",
     "text": [
      "[INFO] Keeping all rows: 89710 rows retained.\n"
     ]
    },
    {
     "name": "stdout",
     "output_type": "stream",
     "text": [
      "[INFO] Keeping all rows: 89710 rows retained.\n"
     ]
    },
    {
     "data": {
      "text/html": [
       "<div>\n",
       "<style scoped>\n",
       "    .dataframe tbody tr th:only-of-type {\n",
       "        vertical-align: middle;\n",
       "    }\n",
       "\n",
       "    .dataframe tbody tr th {\n",
       "        vertical-align: top;\n",
       "    }\n",
       "\n",
       "    .dataframe thead th {\n",
       "        text-align: right;\n",
       "    }\n",
       "</style>\n",
       "<table border=\"1\" class=\"dataframe\">\n",
       "  <thead>\n",
       "    <tr style=\"text-align: right;\">\n",
       "      <th></th>\n",
       "      <th>run_no</th>\n",
       "      <th>universe_id</th>\n",
       "      <th>universe_settings</th>\n",
       "      <th>execution_time</th>\n",
       "      <th>test_size_n</th>\n",
       "      <th>test_size_frac</th>\n",
       "      <th>fair_main_equalized_odds_difference</th>\n",
       "      <th>fair_main_equalized_odds_ratio</th>\n",
       "      <th>fair_main_demographic_parity_difference</th>\n",
       "      <th>fair_main_demographic_parity_ratio</th>\n",
       "      <th>...</th>\n",
       "      <th>perf_grp_precision_0</th>\n",
       "      <th>perf_grp_precision_1</th>\n",
       "      <th>perf_grp_false positive rate_0</th>\n",
       "      <th>perf_grp_false positive rate_1</th>\n",
       "      <th>perf_grp_false negative rate_0</th>\n",
       "      <th>perf_grp_false negative rate_1</th>\n",
       "      <th>perf_grp_selection rate_0</th>\n",
       "      <th>perf_grp_selection rate_1</th>\n",
       "      <th>perf_grp_count_0</th>\n",
       "      <th>perf_grp_count_1</th>\n",
       "    </tr>\n",
       "  </thead>\n",
       "  <tbody>\n",
       "    <tr>\n",
       "      <th>0</th>\n",
       "      <td>3</td>\n",
       "      <td>e5ab101b639be942114846432d07cddf</td>\n",
       "      <td>{\"cutoff\": \"quantile_0.1\", \"eval_fairness_grou...</td>\n",
       "      <td>30.122279</td>\n",
       "      <td>89710</td>\n",
       "      <td>1.0</td>\n",
       "      <td>0.027221</td>\n",
       "      <td>0.972517</td>\n",
       "      <td>0.025161</td>\n",
       "      <td>0.972856</td>\n",
       "      <td>...</td>\n",
       "      <td>NaN</td>\n",
       "      <td>NaN</td>\n",
       "      <td>NaN</td>\n",
       "      <td>NaN</td>\n",
       "      <td>NaN</td>\n",
       "      <td>NaN</td>\n",
       "      <td>NaN</td>\n",
       "      <td>NaN</td>\n",
       "      <td>NaN</td>\n",
       "      <td>NaN</td>\n",
       "    </tr>\n",
       "    <tr>\n",
       "      <th>0</th>\n",
       "      <td>3</td>\n",
       "      <td>e5ab101b639be942114846432d07cddf</td>\n",
       "      <td>{\"cutoff\": \"quantile_0.1\", \"eval_fairness_grou...</td>\n",
       "      <td>30.122279</td>\n",
       "      <td>89710</td>\n",
       "      <td>1.0</td>\n",
       "      <td>0.027221</td>\n",
       "      <td>0.972517</td>\n",
       "      <td>0.025161</td>\n",
       "      <td>0.972856</td>\n",
       "      <td>...</td>\n",
       "      <td>0.123144</td>\n",
       "      <td>0.141193</td>\n",
       "      <td>0.893793</td>\n",
       "      <td>0.917291</td>\n",
       "      <td>0.036740</td>\n",
       "      <td>0.009519</td>\n",
       "      <td>0.901801</td>\n",
       "      <td>0.926963</td>\n",
       "      <td>20540.0</td>\n",
       "      <td>69170.0</td>\n",
       "    </tr>\n",
       "    <tr>\n",
       "      <th>0</th>\n",
       "      <td>3</td>\n",
       "      <td>e5ab101b639be942114846432d07cddf</td>\n",
       "      <td>{\"cutoff\": \"quantile_0.25\", \"eval_fairness_gro...</td>\n",
       "      <td>30.122279</td>\n",
       "      <td>89710</td>\n",
       "      <td>1.0</td>\n",
       "      <td>0.091831</td>\n",
       "      <td>0.903158</td>\n",
       "      <td>0.063577</td>\n",
       "      <td>0.916843</td>\n",
       "      <td>...</td>\n",
       "      <td>NaN</td>\n",
       "      <td>NaN</td>\n",
       "      <td>NaN</td>\n",
       "      <td>NaN</td>\n",
       "      <td>NaN</td>\n",
       "      <td>NaN</td>\n",
       "      <td>NaN</td>\n",
       "      <td>NaN</td>\n",
       "      <td>NaN</td>\n",
       "      <td>NaN</td>\n",
       "    </tr>\n",
       "    <tr>\n",
       "      <th>0</th>\n",
       "      <td>3</td>\n",
       "      <td>e5ab101b639be942114846432d07cddf</td>\n",
       "      <td>{\"cutoff\": \"quantile_0.25\", \"eval_fairness_gro...</td>\n",
       "      <td>30.122279</td>\n",
       "      <td>89710</td>\n",
       "      <td>1.0</td>\n",
       "      <td>0.091831</td>\n",
       "      <td>0.903158</td>\n",
       "      <td>0.063577</td>\n",
       "      <td>0.916843</td>\n",
       "      <td>...</td>\n",
       "      <td>0.140853</td>\n",
       "      <td>0.163887</td>\n",
       "      <td>0.680718</td>\n",
       "      <td>0.736582</td>\n",
       "      <td>0.143581</td>\n",
       "      <td>0.051751</td>\n",
       "      <td>0.700974</td>\n",
       "      <td>0.764551</td>\n",
       "      <td>20540.0</td>\n",
       "      <td>69170.0</td>\n",
       "    </tr>\n",
       "  </tbody>\n",
       "</table>\n",
       "<p>4 rows × 50 columns</p>\n",
       "</div>"
      ],
      "text/plain": [
       "  run_no                       universe_id  \\\n",
       "0      3  e5ab101b639be942114846432d07cddf   \n",
       "0      3  e5ab101b639be942114846432d07cddf   \n",
       "0      3  e5ab101b639be942114846432d07cddf   \n",
       "0      3  e5ab101b639be942114846432d07cddf   \n",
       "\n",
       "                                   universe_settings  execution_time  \\\n",
       "0  {\"cutoff\": \"quantile_0.1\", \"eval_fairness_grou...       30.122279   \n",
       "0  {\"cutoff\": \"quantile_0.1\", \"eval_fairness_grou...       30.122279   \n",
       "0  {\"cutoff\": \"quantile_0.25\", \"eval_fairness_gro...       30.122279   \n",
       "0  {\"cutoff\": \"quantile_0.25\", \"eval_fairness_gro...       30.122279   \n",
       "\n",
       "   test_size_n  test_size_frac  fair_main_equalized_odds_difference  \\\n",
       "0        89710             1.0                             0.027221   \n",
       "0        89710             1.0                             0.027221   \n",
       "0        89710             1.0                             0.091831   \n",
       "0        89710             1.0                             0.091831   \n",
       "\n",
       "   fair_main_equalized_odds_ratio  fair_main_demographic_parity_difference  \\\n",
       "0                        0.972517                                 0.025161   \n",
       "0                        0.972517                                 0.025161   \n",
       "0                        0.903158                                 0.063577   \n",
       "0                        0.903158                                 0.063577   \n",
       "\n",
       "   fair_main_demographic_parity_ratio  ...  perf_grp_precision_0  \\\n",
       "0                            0.972856  ...                   NaN   \n",
       "0                            0.972856  ...              0.123144   \n",
       "0                            0.916843  ...                   NaN   \n",
       "0                            0.916843  ...              0.140853   \n",
       "\n",
       "   perf_grp_precision_1  perf_grp_false positive rate_0  \\\n",
       "0                   NaN                             NaN   \n",
       "0              0.141193                        0.893793   \n",
       "0                   NaN                             NaN   \n",
       "0              0.163887                        0.680718   \n",
       "\n",
       "   perf_grp_false positive rate_1  perf_grp_false negative rate_0  \\\n",
       "0                             NaN                             NaN   \n",
       "0                        0.917291                        0.036740   \n",
       "0                             NaN                             NaN   \n",
       "0                        0.736582                        0.143581   \n",
       "\n",
       "   perf_grp_false negative rate_1  perf_grp_selection rate_0  \\\n",
       "0                             NaN                        NaN   \n",
       "0                        0.009519                   0.901801   \n",
       "0                             NaN                        NaN   \n",
       "0                        0.051751                   0.700974   \n",
       "\n",
       "   perf_grp_selection rate_1  perf_grp_count_0  perf_grp_count_1  \n",
       "0                        NaN               NaN               NaN  \n",
       "0                   0.926963           20540.0           69170.0  \n",
       "0                        NaN               NaN               NaN  \n",
       "0                   0.764551           20540.0           69170.0  \n",
       "\n",
       "[4 rows x 50 columns]"
      ]
     },
     "execution_count": 64,
     "metadata": {},
     "output_type": "execute_result"
    }
   ],
   "source": [
    "final_output = universe_analysis.generate_final_output(\n",
    "    y_pred_prob=probs_test,\n",
    "    y_test=y_true,\n",
    "    org_test=org_test,\n",
    "    filter_data=filter_sub_universe_data,\n",
    "    cp_metrics_df=cp_metrics_df,\n",
    "    save=True,\n",
    ")\n",
    "final_output"
   ]
  },
  {
   "cell_type": "code",
   "execution_count": null,
   "id": "8b80a1ff",
   "metadata": {
    "papermill": {
     "duration": 0.026508,
     "end_time": "2025-08-19T18:33:08.150502",
     "exception": false,
     "start_time": "2025-08-19T18:33:08.123994",
     "status": "completed"
    },
    "tags": []
   },
   "outputs": [],
   "source": []
  },
  {
   "cell_type": "code",
   "execution_count": null,
   "id": "275c9fad",
   "metadata": {
    "papermill": {
     "duration": 0.015029,
     "end_time": "2025-08-19T18:33:08.195259",
     "exception": false,
     "start_time": "2025-08-19T18:33:08.180230",
     "status": "completed"
    },
    "tags": []
   },
   "outputs": [],
   "source": []
  }
 ],
 "metadata": {
  "celltoolbar": "Tags",
  "kernelspec": {
   "display_name": "Python (CMA Fairness)",
   "language": "python",
   "name": "cma_fair_env"
  },
  "language_info": {
   "codemirror_mode": {
    "name": "ipython",
    "version": 3
   },
   "file_extension": ".py",
   "mimetype": "text/x-python",
   "name": "python",
   "nbconvert_exporter": "python",
   "pygments_lexer": "ipython3",
   "version": "3.10.12"
  },
  "papermill": {
   "default_parameters": {},
   "duration": 40.880083,
   "end_time": "2025-08-19T18:33:09.034801",
   "environment_variables": {},
   "exception": null,
   "input_path": "universe_analysis.ipynb",
   "output_path": "output/runs/3/notebooks/m_3-e5ab101b639be942114846432d07cddf.ipynb",
   "parameters": {
    "output_dir": "output",
    "run_no": "3",
    "seed": "2023",
    "universe": "{\"cutoff\": [\"quantile_0.1\", \"quantile_0.25\"], \"eval_fairness_grouping\": [\"majority-minority\", \"nationality-all\"], \"exclude_features\": \"none\", \"exclude_subgroups\": \"keep-all\", \"model\": \"rf\", \"scale\": \"scale\", \"training_size\": \"5k\", \"training_year\": \"2012_14\"}",
    "universe_id": "e5ab101b639be942114846432d07cddf"
   },
   "start_time": "2025-08-19T18:32:28.154718",
   "version": "2.6.0"
  }
 },
 "nbformat": 4,
 "nbformat_minor": 5
}