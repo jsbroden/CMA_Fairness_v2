{
 "cells": [
  {
   "cell_type": "markdown",
   "id": "ef23dbb3",
   "metadata": {
    "papermill": {
     "duration": 0.01142,
     "end_time": "2025-08-19T19:05:10.410858",
     "exception": false,
     "start_time": "2025-08-19T19:05:10.399438",
     "status": "completed"
    },
    "tags": []
   },
   "source": [
    "# Setup"
   ]
  },
  {
   "cell_type": "code",
   "execution_count": 1,
   "id": "0bc8e7dc",
   "metadata": {
    "execution": {
     "iopub.execute_input": "2025-08-19T19:05:10.440675Z",
     "iopub.status.busy": "2025-08-19T19:05:10.439742Z",
     "iopub.status.idle": "2025-08-19T19:05:10.457876Z",
     "shell.execute_reply": "2025-08-19T19:05:10.456520Z"
    },
    "papermill": {
     "duration": 0.036652,
     "end_time": "2025-08-19T19:05:10.460977",
     "exception": false,
     "start_time": "2025-08-19T19:05:10.424325",
     "status": "completed"
    },
    "tags": []
   },
   "outputs": [
    {
     "name": "stdout",
     "output_type": "stream",
     "text": [
      "/dss/dsshome1/0C/ra93lal2/cma/CMA_Fairness_v2\n"
     ]
    },
    {
     "name": "stderr",
     "output_type": "stream",
     "text": [
      "/dss/dsshome1/0C/ra93lal2/.local/share/virtualenvs/CMA_Fairness_v2-3j10GkSs/lib/python3.10/site-packages/IPython/core/magics/osm.py:393: UserWarning: This is now an optional IPython functionality, using bookmarks requires you to install the `pickleshare` library.\n",
      "  bkms = self.shell.db.get('bookmarks', {})\n",
      "/dss/dsshome1/0C/ra93lal2/.local/share/virtualenvs/CMA_Fairness_v2-3j10GkSs/lib/python3.10/site-packages/IPython/core/magics/osm.py:417: UserWarning: This is now an optional IPython functionality, setting dhist requires you to install the `pickleshare` library.\n",
      "  self.shell.db['dhist'] = compress_dhist(dhist)[-100:]\n"
     ]
    }
   ],
   "source": [
    "%cd ~/cma/CMA_Fairness_v2"
   ]
  },
  {
   "cell_type": "markdown",
   "id": "9d235661",
   "metadata": {
    "papermill": {
     "duration": 0.010438,
     "end_time": "2025-08-19T19:05:10.488964",
     "exception": false,
     "start_time": "2025-08-19T19:05:10.478526",
     "status": "completed"
    },
    "tags": []
   },
   "source": [
    "The following cell holds the definition of our parameters, these values can be overriden by rendering the with e.g. the following command:\n",
    "\n",
    "papermill -p alpha 0.2 -p ratio 0.3 universe_analysis.ipynb output/test_run.ipynb"
   ]
  },
  {
   "cell_type": "code",
   "execution_count": 2,
   "id": "4a789d8e",
   "metadata": {
    "execution": {
     "iopub.execute_input": "2025-08-19T19:05:10.508864Z",
     "iopub.status.busy": "2025-08-19T19:05:10.508085Z",
     "iopub.status.idle": "2025-08-19T19:05:10.512725Z",
     "shell.execute_reply": "2025-08-19T19:05:10.511941Z"
    },
    "papermill": {
     "duration": 0.016793,
     "end_time": "2025-08-19T19:05:10.514611",
     "exception": false,
     "start_time": "2025-08-19T19:05:10.497818",
     "status": "completed"
    },
    "tags": []
   },
   "outputs": [
    {
     "name": "stdout",
     "output_type": "stream",
     "text": [
      "Current working directory: /dss/dsshome1/0C/ra93lal2/cma/CMA_Fairness_v2\n"
     ]
    }
   ],
   "source": [
    "import os\n",
    "print(\"Current working directory:\", os.getcwd())"
   ]
  },
  {
   "cell_type": "code",
   "execution_count": 3,
   "id": "4132aaed",
   "metadata": {
    "execution": {
     "iopub.execute_input": "2025-08-19T19:05:10.536845Z",
     "iopub.status.busy": "2025-08-19T19:05:10.536449Z",
     "iopub.status.idle": "2025-08-19T19:05:10.541676Z",
     "shell.execute_reply": "2025-08-19T19:05:10.540634Z"
    },
    "papermill": {
     "duration": 0.018075,
     "end_time": "2025-08-19T19:05:10.543277",
     "exception": false,
     "start_time": "2025-08-19T19:05:10.525202",
     "status": "completed"
    },
    "tags": [
     "parameters"
    ]
   },
   "outputs": [],
   "source": [
    "run_no = 0\n",
    "universe_id = \"test\"\n",
    "universe = {\n",
    "    \"training_size\": \"5k\", # \"25k\", \"5k\", \"1k\"\n",
    "    \"training_year\": \"2012_14\", # \"2014\", \"2012_14\", \"2010_14\"\n",
    "    \"scale\": \"scale\", # \"scale\", \"do-not-scale\",\n",
    "    \"model\": \"elasticnet\", # \"logreg\", \"penalized_logreg\", \"rf\", \"gbm\", \"elasticnet\"\n",
    "    \"cutoff\": [\"quantile_0.15\", \"quantile_0.30\"],\n",
    "    \"exclude_features\": \"age\", # \"none\", \"nationality\", \"sex\", \"nationality-sex\", \"age\"\n",
    "    \"exclude_subgroups\": \"drop-non-german\", # \"keep-all\", \"drop-non-german\"\n",
    "    \"eval_fairness_grouping\": [\"majority-minority\", \"nationality-all\"]\n",
    "}\n",
    "\n",
    "output_dir=\"./output\"\n",
    "seed=0"
   ]
  },
  {
   "cell_type": "code",
   "execution_count": 4,
   "id": "5861d368",
   "metadata": {
    "execution": {
     "iopub.execute_input": "2025-08-19T19:05:10.563612Z",
     "iopub.status.busy": "2025-08-19T19:05:10.562911Z",
     "iopub.status.idle": "2025-08-19T19:05:10.616612Z",
     "shell.execute_reply": "2025-08-19T19:05:10.615139Z"
    },
    "papermill": {
     "duration": 0.067384,
     "end_time": "2025-08-19T19:05:10.620135",
     "exception": false,
     "start_time": "2025-08-19T19:05:10.552751",
     "status": "completed"
    },
    "tags": [
     "injected-parameters"
    ]
   },
   "outputs": [],
   "source": [
    "# Parameters\n",
    "universe_id = \"1f6a1f3252941349178aca208d5f5ea4\"\n",
    "run_no = \"3\"\n",
    "universe = \"{\\\"cutoff\\\": [\\\"quantile_0.1\\\", \\\"quantile_0.25\\\"], \\\"eval_fairness_grouping\\\": [\\\"majority-minority\\\", \\\"nationality-all\\\"], \\\"exclude_features\\\": \\\"age\\\", \\\"exclude_subgroups\\\": \\\"drop-non-german\\\", \\\"model\\\": \\\"logreg\\\", \\\"scale\\\": \\\"scale\\\", \\\"training_size\\\": \\\"1k\\\", \\\"training_year\\\": \\\"2010_14\\\"}\"\n",
    "output_dir = \"output\"\n",
    "seed = \"2023\"\n"
   ]
  },
  {
   "cell_type": "code",
   "execution_count": 5,
   "id": "a5d7941f",
   "metadata": {
    "execution": {
     "iopub.execute_input": "2025-08-19T19:05:10.652434Z",
     "iopub.status.busy": "2025-08-19T19:05:10.651859Z",
     "iopub.status.idle": "2025-08-19T19:05:10.715528Z",
     "shell.execute_reply": "2025-08-19T19:05:10.714009Z"
    },
    "papermill": {
     "duration": 0.07922,
     "end_time": "2025-08-19T19:05:10.719157",
     "exception": false,
     "start_time": "2025-08-19T19:05:10.639937",
     "status": "completed"
    },
    "tags": []
   },
   "outputs": [],
   "source": [
    "import json\n",
    "if isinstance(universe, str):\n",
    "    universe = json.loads(universe)"
   ]
  },
  {
   "cell_type": "code",
   "execution_count": 6,
   "id": "7076ccb1",
   "metadata": {
    "execution": {
     "iopub.execute_input": "2025-08-19T19:05:10.752521Z",
     "iopub.status.busy": "2025-08-19T19:05:10.751964Z",
     "iopub.status.idle": "2025-08-19T19:05:10.788052Z",
     "shell.execute_reply": "2025-08-19T19:05:10.787297Z"
    },
    "papermill": {
     "duration": 0.051841,
     "end_time": "2025-08-19T19:05:10.790785",
     "exception": false,
     "start_time": "2025-08-19T19:05:10.738944",
     "status": "completed"
    },
    "tags": []
   },
   "outputs": [],
   "source": [
    "# Auto-reload the custom package\n",
    "%load_ext autoreload\n",
    "%autoreload 1\n",
    "%aimport fairness_multiverse"
   ]
  },
  {
   "cell_type": "code",
   "execution_count": 7,
   "id": "94c8eb93",
   "metadata": {
    "execution": {
     "iopub.execute_input": "2025-08-19T19:05:10.838445Z",
     "iopub.status.busy": "2025-08-19T19:05:10.838024Z",
     "iopub.status.idle": "2025-08-19T19:05:12.496958Z",
     "shell.execute_reply": "2025-08-19T19:05:12.496167Z"
    },
    "papermill": {
     "duration": 1.682443,
     "end_time": "2025-08-19T19:05:12.498466",
     "exception": false,
     "start_time": "2025-08-19T19:05:10.816023",
     "status": "completed"
    },
    "tags": []
   },
   "outputs": [],
   "source": [
    "from fairness_multiverse.universe import UniverseAnalysis\n",
    "\n",
    "universe_analysis = UniverseAnalysis(\n",
    "    run_no = run_no,\n",
    "    universe_id = universe_id,\n",
    "    universe = universe,\n",
    "    output_dir=output_dir,\n",
    ")"
   ]
  },
  {
   "cell_type": "code",
   "execution_count": 8,
   "id": "2a6381cf",
   "metadata": {
    "execution": {
     "iopub.execute_input": "2025-08-19T19:05:12.521136Z",
     "iopub.status.busy": "2025-08-19T19:05:12.519921Z",
     "iopub.status.idle": "2025-08-19T19:05:12.529947Z",
     "shell.execute_reply": "2025-08-19T19:05:12.528643Z"
    },
    "papermill": {
     "duration": 0.022218,
     "end_time": "2025-08-19T19:05:12.531852",
     "exception": false,
     "start_time": "2025-08-19T19:05:12.509634",
     "status": "completed"
    },
    "tags": []
   },
   "outputs": [
    {
     "name": "stdout",
     "output_type": "stream",
     "text": [
      "Using Seed: 2023\n"
     ]
    }
   ],
   "source": [
    "import numpy as np\n",
    "parsed_seed = int(seed)\n",
    "np.random.seed(parsed_seed)\n",
    "print(f\"Using Seed: {parsed_seed}\")"
   ]
  },
  {
   "cell_type": "markdown",
   "id": "b6e958b4",
   "metadata": {
    "papermill": {
     "duration": 0.011434,
     "end_time": "2025-08-19T19:05:12.556018",
     "exception": false,
     "start_time": "2025-08-19T19:05:12.544584",
     "status": "completed"
    },
    "tags": []
   },
   "source": [
    "# Loading Data"
   ]
  },
  {
   "cell_type": "code",
   "execution_count": 9,
   "id": "98701482",
   "metadata": {
    "execution": {
     "iopub.execute_input": "2025-08-19T19:05:12.580187Z",
     "iopub.status.busy": "2025-08-19T19:05:12.579015Z",
     "iopub.status.idle": "2025-08-19T19:05:23.442598Z",
     "shell.execute_reply": "2025-08-19T19:05:23.441281Z"
    },
    "papermill": {
     "duration": 10.876319,
     "end_time": "2025-08-19T19:05:23.444501",
     "exception": false,
     "start_time": "2025-08-19T19:05:12.568182",
     "status": "completed"
    },
    "tags": []
   },
   "outputs": [
    {
     "name": "stdout",
     "output_type": "stream",
     "text": [
      "Loading SIAB data from cache: data/siab_cached.csv.gz\n"
     ]
    },
    {
     "name": "stdout",
     "output_type": "stream",
     "text": [
      "(643690, 164)\n"
     ]
    }
   ],
   "source": [
    "from pathlib import Path\n",
    "import pandas as pd\n",
    "\n",
    "# File paths\n",
    "raw_file = Path(\"data/raw/siab.csv\")\n",
    "cache_file = Path(\"data/siab_cached.csv.gz\")\n",
    "\n",
    "# Ensure cache directory exists\n",
    "cache_file.parent.mkdir(parents=True, exist_ok=True)\n",
    "\n",
    "# Load with simple caching\n",
    "if cache_file.exists():\n",
    "    print(f\"Loading SIAB data from cache: {cache_file}\")\n",
    "    siab = pd.read_csv(cache_file, compression='gzip')\n",
    "else:\n",
    "    print(f\"Cache not found. Reading raw SIAB data: {raw_file}\")\n",
    "    siab = pd.read_csv(raw_file)\n",
    "    siab.to_csv(cache_file, index=False, compression='gzip')\n",
    "    print(f\"Cached SIAB data to: {cache_file}\")\n",
    "\n",
    "print(siab.shape)"
   ]
  },
  {
   "cell_type": "code",
   "execution_count": 10,
   "id": "058d2abb",
   "metadata": {
    "execution": {
     "iopub.execute_input": "2025-08-19T19:05:23.486952Z",
     "iopub.status.busy": "2025-08-19T19:05:23.485179Z",
     "iopub.status.idle": "2025-08-19T19:05:23.820047Z",
     "shell.execute_reply": "2025-08-19T19:05:23.818082Z"
    },
    "papermill": {
     "duration": 0.358356,
     "end_time": "2025-08-19T19:05:23.822022",
     "exception": false,
     "start_time": "2025-08-19T19:05:23.463666",
     "status": "completed"
    },
    "tags": []
   },
   "outputs": [
    {
     "data": {
      "text/html": [
       "<div>\n",
       "<style scoped>\n",
       "    .dataframe tbody tr th:only-of-type {\n",
       "        vertical-align: middle;\n",
       "    }\n",
       "\n",
       "    .dataframe tbody tr th {\n",
       "        vertical-align: top;\n",
       "    }\n",
       "\n",
       "    .dataframe thead th {\n",
       "        text-align: right;\n",
       "    }\n",
       "</style>\n",
       "<table border=\"1\" class=\"dataframe\">\n",
       "  <thead>\n",
       "    <tr style=\"text-align: right;\">\n",
       "      <th></th>\n",
       "      <th>persnr</th>\n",
       "      <th>year</th>\n",
       "      <th>nrEntry</th>\n",
       "      <th>ltue</th>\n",
       "      <th>employed_before</th>\n",
       "      <th>receipt_leh_before</th>\n",
       "      <th>receipt_lhg_before</th>\n",
       "      <th>se_before</th>\n",
       "      <th>ASU_notue_seeking_before</th>\n",
       "      <th>ASU_other_before</th>\n",
       "      <th>...</th>\n",
       "      <th>minijob_tot_dur_byage</th>\n",
       "      <th>ft_tot_dur_byage</th>\n",
       "      <th>befrist_tot_dur_byage</th>\n",
       "      <th>leih_tot_dur_byage</th>\n",
       "      <th>LHG_tot_dur_byage</th>\n",
       "      <th>LEH_tot_dur_byage</th>\n",
       "      <th>almp_tot_dur_byage</th>\n",
       "      <th>almp_aw_tot_dur_byage</th>\n",
       "      <th>se_tot_dur_byage</th>\n",
       "      <th>seeking1_tot_dur_byage</th>\n",
       "    </tr>\n",
       "  </thead>\n",
       "  <tbody>\n",
       "    <tr>\n",
       "      <th>0</th>\n",
       "      <td>7</td>\n",
       "      <td>2015</td>\n",
       "      <td>1</td>\n",
       "      <td>0</td>\n",
       "      <td>1</td>\n",
       "      <td>0</td>\n",
       "      <td>0</td>\n",
       "      <td>0</td>\n",
       "      <td>1</td>\n",
       "      <td>0</td>\n",
       "      <td>...</td>\n",
       "      <td>0.000000</td>\n",
       "      <td>0.000000</td>\n",
       "      <td>15.043478</td>\n",
       "      <td>0.000000</td>\n",
       "      <td>0.000000</td>\n",
       "      <td>0.000000</td>\n",
       "      <td>0.000000</td>\n",
       "      <td>0.000000</td>\n",
       "      <td>0.000000</td>\n",
       "      <td>0.000000</td>\n",
       "    </tr>\n",
       "    <tr>\n",
       "      <th>1</th>\n",
       "      <td>18</td>\n",
       "      <td>2010</td>\n",
       "      <td>1</td>\n",
       "      <td>1</td>\n",
       "      <td>0</td>\n",
       "      <td>0</td>\n",
       "      <td>0</td>\n",
       "      <td>0</td>\n",
       "      <td>0</td>\n",
       "      <td>0</td>\n",
       "      <td>...</td>\n",
       "      <td>0.000000</td>\n",
       "      <td>0.000000</td>\n",
       "      <td>0.000000</td>\n",
       "      <td>0.000000</td>\n",
       "      <td>0.000000</td>\n",
       "      <td>0.000000</td>\n",
       "      <td>0.000000</td>\n",
       "      <td>0.000000</td>\n",
       "      <td>0.000000</td>\n",
       "      <td>0.000000</td>\n",
       "    </tr>\n",
       "    <tr>\n",
       "      <th>2</th>\n",
       "      <td>18</td>\n",
       "      <td>2011</td>\n",
       "      <td>2</td>\n",
       "      <td>0</td>\n",
       "      <td>1</td>\n",
       "      <td>0</td>\n",
       "      <td>1</td>\n",
       "      <td>0</td>\n",
       "      <td>1</td>\n",
       "      <td>0</td>\n",
       "      <td>...</td>\n",
       "      <td>2.714286</td>\n",
       "      <td>2.714286</td>\n",
       "      <td>0.000000</td>\n",
       "      <td>0.000000</td>\n",
       "      <td>10.775510</td>\n",
       "      <td>0.000000</td>\n",
       "      <td>8.367347</td>\n",
       "      <td>0.000000</td>\n",
       "      <td>0.000000</td>\n",
       "      <td>9.836735</td>\n",
       "    </tr>\n",
       "    <tr>\n",
       "      <th>3</th>\n",
       "      <td>18</td>\n",
       "      <td>2012</td>\n",
       "      <td>3</td>\n",
       "      <td>0</td>\n",
       "      <td>1</td>\n",
       "      <td>0</td>\n",
       "      <td>1</td>\n",
       "      <td>0</td>\n",
       "      <td>1</td>\n",
       "      <td>0</td>\n",
       "      <td>...</td>\n",
       "      <td>4.200000</td>\n",
       "      <td>4.200000</td>\n",
       "      <td>0.000000</td>\n",
       "      <td>0.000000</td>\n",
       "      <td>12.100000</td>\n",
       "      <td>0.000000</td>\n",
       "      <td>9.400000</td>\n",
       "      <td>0.000000</td>\n",
       "      <td>0.000000</td>\n",
       "      <td>9.960000</td>\n",
       "    </tr>\n",
       "    <tr>\n",
       "      <th>4</th>\n",
       "      <td>18</td>\n",
       "      <td>2012</td>\n",
       "      <td>4</td>\n",
       "      <td>0</td>\n",
       "      <td>1</td>\n",
       "      <td>0</td>\n",
       "      <td>1</td>\n",
       "      <td>0</td>\n",
       "      <td>1</td>\n",
       "      <td>0</td>\n",
       "      <td>...</td>\n",
       "      <td>5.460000</td>\n",
       "      <td>5.460000</td>\n",
       "      <td>0.000000</td>\n",
       "      <td>0.000000</td>\n",
       "      <td>13.360000</td>\n",
       "      <td>0.000000</td>\n",
       "      <td>10.320000</td>\n",
       "      <td>0.000000</td>\n",
       "      <td>0.000000</td>\n",
       "      <td>10.280000</td>\n",
       "    </tr>\n",
       "    <tr>\n",
       "      <th>...</th>\n",
       "      <td>...</td>\n",
       "      <td>...</td>\n",
       "      <td>...</td>\n",
       "      <td>...</td>\n",
       "      <td>...</td>\n",
       "      <td>...</td>\n",
       "      <td>...</td>\n",
       "      <td>...</td>\n",
       "      <td>...</td>\n",
       "      <td>...</td>\n",
       "      <td>...</td>\n",
       "      <td>...</td>\n",
       "      <td>...</td>\n",
       "      <td>...</td>\n",
       "      <td>...</td>\n",
       "      <td>...</td>\n",
       "      <td>...</td>\n",
       "      <td>...</td>\n",
       "      <td>...</td>\n",
       "      <td>...</td>\n",
       "      <td>...</td>\n",
       "    </tr>\n",
       "    <tr>\n",
       "      <th>643685</th>\n",
       "      <td>1827860</td>\n",
       "      <td>2013</td>\n",
       "      <td>1</td>\n",
       "      <td>0</td>\n",
       "      <td>0</td>\n",
       "      <td>0</td>\n",
       "      <td>1</td>\n",
       "      <td>0</td>\n",
       "      <td>0</td>\n",
       "      <td>1</td>\n",
       "      <td>...</td>\n",
       "      <td>0.000000</td>\n",
       "      <td>0.000000</td>\n",
       "      <td>0.000000</td>\n",
       "      <td>0.000000</td>\n",
       "      <td>0.612903</td>\n",
       "      <td>0.000000</td>\n",
       "      <td>0.000000</td>\n",
       "      <td>0.000000</td>\n",
       "      <td>0.000000</td>\n",
       "      <td>0.000000</td>\n",
       "    </tr>\n",
       "    <tr>\n",
       "      <th>643686</th>\n",
       "      <td>1827860</td>\n",
       "      <td>2015</td>\n",
       "      <td>2</td>\n",
       "      <td>1</td>\n",
       "      <td>0</td>\n",
       "      <td>0</td>\n",
       "      <td>1</td>\n",
       "      <td>0</td>\n",
       "      <td>1</td>\n",
       "      <td>0</td>\n",
       "      <td>...</td>\n",
       "      <td>0.000000</td>\n",
       "      <td>0.000000</td>\n",
       "      <td>0.212121</td>\n",
       "      <td>0.212121</td>\n",
       "      <td>17.363636</td>\n",
       "      <td>0.000000</td>\n",
       "      <td>8.909091</td>\n",
       "      <td>0.000000</td>\n",
       "      <td>0.000000</td>\n",
       "      <td>7.121212</td>\n",
       "    </tr>\n",
       "    <tr>\n",
       "      <th>643687</th>\n",
       "      <td>1827860</td>\n",
       "      <td>2016</td>\n",
       "      <td>3</td>\n",
       "      <td>1</td>\n",
       "      <td>0</td>\n",
       "      <td>0</td>\n",
       "      <td>1</td>\n",
       "      <td>1</td>\n",
       "      <td>0</td>\n",
       "      <td>1</td>\n",
       "      <td>...</td>\n",
       "      <td>0.000000</td>\n",
       "      <td>0.000000</td>\n",
       "      <td>0.294118</td>\n",
       "      <td>0.205882</td>\n",
       "      <td>34.705882</td>\n",
       "      <td>0.000000</td>\n",
       "      <td>10.352941</td>\n",
       "      <td>1.705882</td>\n",
       "      <td>1.705882</td>\n",
       "      <td>23.911765</td>\n",
       "    </tr>\n",
       "    <tr>\n",
       "      <th>643688</th>\n",
       "      <td>1827869</td>\n",
       "      <td>2013</td>\n",
       "      <td>1</td>\n",
       "      <td>1</td>\n",
       "      <td>1</td>\n",
       "      <td>0</td>\n",
       "      <td>0</td>\n",
       "      <td>0</td>\n",
       "      <td>1</td>\n",
       "      <td>0</td>\n",
       "      <td>...</td>\n",
       "      <td>0.000000</td>\n",
       "      <td>0.000000</td>\n",
       "      <td>0.000000</td>\n",
       "      <td>0.000000</td>\n",
       "      <td>0.000000</td>\n",
       "      <td>0.525424</td>\n",
       "      <td>0.000000</td>\n",
       "      <td>0.000000</td>\n",
       "      <td>0.000000</td>\n",
       "      <td>0.000000</td>\n",
       "    </tr>\n",
       "    <tr>\n",
       "      <th>643689</th>\n",
       "      <td>1827869</td>\n",
       "      <td>2014</td>\n",
       "      <td>2</td>\n",
       "      <td>0</td>\n",
       "      <td>0</td>\n",
       "      <td>1</td>\n",
       "      <td>0</td>\n",
       "      <td>0</td>\n",
       "      <td>1</td>\n",
       "      <td>0</td>\n",
       "      <td>...</td>\n",
       "      <td>0.000000</td>\n",
       "      <td>0.666667</td>\n",
       "      <td>0.666667</td>\n",
       "      <td>0.000000</td>\n",
       "      <td>0.000000</td>\n",
       "      <td>8.950000</td>\n",
       "      <td>1.033333</td>\n",
       "      <td>0.083333</td>\n",
       "      <td>0.083333</td>\n",
       "      <td>8.133333</td>\n",
       "    </tr>\n",
       "  </tbody>\n",
       "</table>\n",
       "<p>643690 rows × 164 columns</p>\n",
       "</div>"
      ],
      "text/plain": [
       "         persnr  year  nrEntry  ltue  employed_before  receipt_leh_before  \\\n",
       "0             7  2015        1     0                1                   0   \n",
       "1            18  2010        1     1                0                   0   \n",
       "2            18  2011        2     0                1                   0   \n",
       "3            18  2012        3     0                1                   0   \n",
       "4            18  2012        4     0                1                   0   \n",
       "...         ...   ...      ...   ...              ...                 ...   \n",
       "643685  1827860  2013        1     0                0                   0   \n",
       "643686  1827860  2015        2     1                0                   0   \n",
       "643687  1827860  2016        3     1                0                   0   \n",
       "643688  1827869  2013        1     1                1                   0   \n",
       "643689  1827869  2014        2     0                0                   1   \n",
       "\n",
       "        receipt_lhg_before  se_before  ASU_notue_seeking_before  \\\n",
       "0                        0          0                         1   \n",
       "1                        0          0                         0   \n",
       "2                        1          0                         1   \n",
       "3                        1          0                         1   \n",
       "4                        1          0                         1   \n",
       "...                    ...        ...                       ...   \n",
       "643685                   1          0                         0   \n",
       "643686                   1          0                         1   \n",
       "643687                   1          1                         0   \n",
       "643688                   0          0                         1   \n",
       "643689                   0          0                         1   \n",
       "\n",
       "        ASU_other_before  ...  minijob_tot_dur_byage  ft_tot_dur_byage  \\\n",
       "0                      0  ...               0.000000          0.000000   \n",
       "1                      0  ...               0.000000          0.000000   \n",
       "2                      0  ...               2.714286          2.714286   \n",
       "3                      0  ...               4.200000          4.200000   \n",
       "4                      0  ...               5.460000          5.460000   \n",
       "...                  ...  ...                    ...               ...   \n",
       "643685                 1  ...               0.000000          0.000000   \n",
       "643686                 0  ...               0.000000          0.000000   \n",
       "643687                 1  ...               0.000000          0.000000   \n",
       "643688                 0  ...               0.000000          0.000000   \n",
       "643689                 0  ...               0.000000          0.666667   \n",
       "\n",
       "        befrist_tot_dur_byage  leih_tot_dur_byage  LHG_tot_dur_byage  \\\n",
       "0                   15.043478            0.000000           0.000000   \n",
       "1                    0.000000            0.000000           0.000000   \n",
       "2                    0.000000            0.000000          10.775510   \n",
       "3                    0.000000            0.000000          12.100000   \n",
       "4                    0.000000            0.000000          13.360000   \n",
       "...                       ...                 ...                ...   \n",
       "643685               0.000000            0.000000           0.612903   \n",
       "643686               0.212121            0.212121          17.363636   \n",
       "643687               0.294118            0.205882          34.705882   \n",
       "643688               0.000000            0.000000           0.000000   \n",
       "643689               0.666667            0.000000           0.000000   \n",
       "\n",
       "        LEH_tot_dur_byage  almp_tot_dur_byage  almp_aw_tot_dur_byage  \\\n",
       "0                0.000000            0.000000               0.000000   \n",
       "1                0.000000            0.000000               0.000000   \n",
       "2                0.000000            8.367347               0.000000   \n",
       "3                0.000000            9.400000               0.000000   \n",
       "4                0.000000           10.320000               0.000000   \n",
       "...                   ...                 ...                    ...   \n",
       "643685           0.000000            0.000000               0.000000   \n",
       "643686           0.000000            8.909091               0.000000   \n",
       "643687           0.000000           10.352941               1.705882   \n",
       "643688           0.525424            0.000000               0.000000   \n",
       "643689           8.950000            1.033333               0.083333   \n",
       "\n",
       "        se_tot_dur_byage  seeking1_tot_dur_byage  \n",
       "0               0.000000                0.000000  \n",
       "1               0.000000                0.000000  \n",
       "2               0.000000                9.836735  \n",
       "3               0.000000                9.960000  \n",
       "4               0.000000               10.280000  \n",
       "...                  ...                     ...  \n",
       "643685          0.000000                0.000000  \n",
       "643686          0.000000                7.121212  \n",
       "643687          1.705882               23.911765  \n",
       "643688          0.000000                0.000000  \n",
       "643689          0.083333                8.133333  \n",
       "\n",
       "[643690 rows x 164 columns]"
      ]
     },
     "execution_count": 10,
     "metadata": {},
     "output_type": "execute_result"
    }
   ],
   "source": [
    "siab"
   ]
  },
  {
   "cell_type": "markdown",
   "id": "1f87e805",
   "metadata": {
    "papermill": {
     "duration": 0.024671,
     "end_time": "2025-08-19T19:05:23.866180",
     "exception": false,
     "start_time": "2025-08-19T19:05:23.841509",
     "status": "completed"
    },
    "tags": []
   },
   "source": [
    "# Splitting Data and Setting Training Data Size"
   ]
  },
  {
   "cell_type": "code",
   "execution_count": 11,
   "id": "910ae358",
   "metadata": {
    "execution": {
     "iopub.execute_input": "2025-08-19T19:05:23.890854Z",
     "iopub.status.busy": "2025-08-19T19:05:23.890316Z",
     "iopub.status.idle": "2025-08-19T19:05:25.059016Z",
     "shell.execute_reply": "2025-08-19T19:05:25.058223Z"
    },
    "papermill": {
     "duration": 1.182821,
     "end_time": "2025-08-19T19:05:25.062000",
     "exception": false,
     "start_time": "2025-08-19T19:05:23.879179",
     "status": "completed"
    },
    "tags": []
   },
   "outputs": [],
   "source": [
    "from fairness_multiverse.universe import sample_by_year_size\n",
    "\n",
    "siab_train = sample_by_year_size(siab,\n",
    "                               training_year=universe[\"training_year\"],\n",
    "                               training_size=universe[\"training_size\"])"
   ]
  },
  {
   "cell_type": "code",
   "execution_count": 12,
   "id": "919c8ff5",
   "metadata": {
    "execution": {
     "iopub.execute_input": "2025-08-19T19:05:25.099678Z",
     "iopub.status.busy": "2025-08-19T19:05:25.098909Z",
     "iopub.status.idle": "2025-08-19T19:05:25.110180Z",
     "shell.execute_reply": "2025-08-19T19:05:25.108774Z"
    },
    "papermill": {
     "duration": 0.027156,
     "end_time": "2025-08-19T19:05:25.111885",
     "exception": false,
     "start_time": "2025-08-19T19:05:25.084729",
     "status": "completed"
    },
    "tags": []
   },
   "outputs": [
    {
     "data": {
      "text/plain": [
       "(1000, 164)"
      ]
     },
     "execution_count": 12,
     "metadata": {},
     "output_type": "execute_result"
    }
   ],
   "source": [
    "siab_train.shape"
   ]
  },
  {
   "cell_type": "code",
   "execution_count": 13,
   "id": "feb13bf4",
   "metadata": {
    "execution": {
     "iopub.execute_input": "2025-08-19T19:05:25.139159Z",
     "iopub.status.busy": "2025-08-19T19:05:25.137972Z",
     "iopub.status.idle": "2025-08-19T19:05:25.153968Z",
     "shell.execute_reply": "2025-08-19T19:05:25.152674Z"
    },
    "papermill": {
     "duration": 0.030623,
     "end_time": "2025-08-19T19:05:25.155771",
     "exception": false,
     "start_time": "2025-08-19T19:05:25.125148",
     "status": "completed"
    },
    "tags": []
   },
   "outputs": [
    {
     "data": {
      "text/plain": [
       "year\n",
       "2010    200\n",
       "2011    200\n",
       "2012    200\n",
       "2013    200\n",
       "2014    200\n",
       "dtype: int64"
      ]
     },
     "metadata": {},
     "output_type": "display_data"
    }
   ],
   "source": [
    "display(siab_train.groupby(\"year\").size())"
   ]
  },
  {
   "cell_type": "code",
   "execution_count": 14,
   "id": "0997782f",
   "metadata": {
    "execution": {
     "iopub.execute_input": "2025-08-19T19:05:25.184205Z",
     "iopub.status.busy": "2025-08-19T19:05:25.183052Z",
     "iopub.status.idle": "2025-08-19T19:05:25.617144Z",
     "shell.execute_reply": "2025-08-19T19:05:25.615358Z"
    },
    "papermill": {
     "duration": 0.449264,
     "end_time": "2025-08-19T19:05:25.619108",
     "exception": false,
     "start_time": "2025-08-19T19:05:25.169844",
     "status": "completed"
    },
    "tags": []
   },
   "outputs": [],
   "source": [
    "#siab_train = siab_s[siab_s.year < 2015]\n",
    "siab_calib = siab[siab.year == 2015]\n",
    "siab_test = siab[siab.year == 2016]"
   ]
  },
  {
   "cell_type": "code",
   "execution_count": 15,
   "id": "2c1e4012",
   "metadata": {
    "execution": {
     "iopub.execute_input": "2025-08-19T19:05:25.652090Z",
     "iopub.status.busy": "2025-08-19T19:05:25.651423Z",
     "iopub.status.idle": "2025-08-19T19:05:25.658314Z",
     "shell.execute_reply": "2025-08-19T19:05:25.657496Z"
    },
    "papermill": {
     "duration": 0.026657,
     "end_time": "2025-08-19T19:05:25.659878",
     "exception": false,
     "start_time": "2025-08-19T19:05:25.633221",
     "status": "completed"
    },
    "tags": []
   },
   "outputs": [],
   "source": [
    "#siab_calib.shape"
   ]
  },
  {
   "cell_type": "code",
   "execution_count": 16,
   "id": "f66b54ca",
   "metadata": {
    "execution": {
     "iopub.execute_input": "2025-08-19T19:05:25.689581Z",
     "iopub.status.busy": "2025-08-19T19:05:25.688274Z",
     "iopub.status.idle": "2025-08-19T19:05:25.694879Z",
     "shell.execute_reply": "2025-08-19T19:05:25.693766Z"
    },
    "papermill": {
     "duration": 0.020737,
     "end_time": "2025-08-19T19:05:25.696248",
     "exception": false,
     "start_time": "2025-08-19T19:05:25.675511",
     "status": "completed"
    },
    "tags": []
   },
   "outputs": [],
   "source": [
    "#siab_test.shape"
   ]
  },
  {
   "cell_type": "code",
   "execution_count": 17,
   "id": "27e4384d",
   "metadata": {
    "execution": {
     "iopub.execute_input": "2025-08-19T19:05:25.720986Z",
     "iopub.status.busy": "2025-08-19T19:05:25.719706Z",
     "iopub.status.idle": "2025-08-19T19:05:25.770771Z",
     "shell.execute_reply": "2025-08-19T19:05:25.769840Z"
    },
    "papermill": {
     "duration": 0.066009,
     "end_time": "2025-08-19T19:05:25.773534",
     "exception": false,
     "start_time": "2025-08-19T19:05:25.707525",
     "status": "completed"
    },
    "tags": []
   },
   "outputs": [],
   "source": [
    "X_train = siab_train.iloc[:,4:164]\n",
    "y_train = siab_train.iloc[:, [3]]"
   ]
  },
  {
   "cell_type": "code",
   "execution_count": 18,
   "id": "08ee8389",
   "metadata": {
    "execution": {
     "iopub.execute_input": "2025-08-19T19:05:25.809912Z",
     "iopub.status.busy": "2025-08-19T19:05:25.808534Z",
     "iopub.status.idle": "2025-08-19T19:05:25.971556Z",
     "shell.execute_reply": "2025-08-19T19:05:25.970631Z"
    },
    "papermill": {
     "duration": 0.177824,
     "end_time": "2025-08-19T19:05:25.973159",
     "exception": false,
     "start_time": "2025-08-19T19:05:25.795335",
     "status": "completed"
    },
    "tags": []
   },
   "outputs": [],
   "source": [
    "X_calib = siab_calib.iloc[:,4:164]\n",
    "y_calib = siab_calib.iloc[:, [3]]"
   ]
  },
  {
   "cell_type": "code",
   "execution_count": 19,
   "id": "b7ff42e0",
   "metadata": {
    "execution": {
     "iopub.execute_input": "2025-08-19T19:05:26.001962Z",
     "iopub.status.busy": "2025-08-19T19:05:26.001354Z",
     "iopub.status.idle": "2025-08-19T19:05:26.081191Z",
     "shell.execute_reply": "2025-08-19T19:05:26.080302Z"
    },
    "papermill": {
     "duration": 0.098174,
     "end_time": "2025-08-19T19:05:26.082820",
     "exception": false,
     "start_time": "2025-08-19T19:05:25.984646",
     "status": "completed"
    },
    "tags": []
   },
   "outputs": [],
   "source": [
    "X_test = siab_test.iloc[:,4:164]\n",
    "y_true = siab_test.iloc[:, [3]]"
   ]
  },
  {
   "cell_type": "code",
   "execution_count": 20,
   "id": "0275101e",
   "metadata": {
    "execution": {
     "iopub.execute_input": "2025-08-19T19:05:26.106171Z",
     "iopub.status.busy": "2025-08-19T19:05:26.105839Z",
     "iopub.status.idle": "2025-08-19T19:05:26.225506Z",
     "shell.execute_reply": "2025-08-19T19:05:26.224634Z"
    },
    "papermill": {
     "duration": 0.133204,
     "end_time": "2025-08-19T19:05:26.227191",
     "exception": false,
     "start_time": "2025-08-19T19:05:26.093987",
     "status": "completed"
    },
    "tags": []
   },
   "outputs": [],
   "source": [
    "# Auxiliary data needed downstream in the pipeline\n",
    "\n",
    "org_train = X_train.copy()\n",
    "org_test = X_test.copy()\n",
    "org_calib = X_calib.copy()"
   ]
  },
  {
   "cell_type": "markdown",
   "id": "b461e618",
   "metadata": {
    "papermill": {
     "duration": 0.026844,
     "end_time": "2025-08-19T19:05:26.265163",
     "exception": false,
     "start_time": "2025-08-19T19:05:26.238319",
     "status": "completed"
    },
    "tags": []
   },
   "source": [
    "# Preprocessing Data"
   ]
  },
  {
   "cell_type": "code",
   "execution_count": 21,
   "id": "78e74c4b",
   "metadata": {
    "execution": {
     "iopub.execute_input": "2025-08-19T19:05:26.293452Z",
     "iopub.status.busy": "2025-08-19T19:05:26.292756Z",
     "iopub.status.idle": "2025-08-19T19:05:26.302118Z",
     "shell.execute_reply": "2025-08-19T19:05:26.300549Z"
    },
    "papermill": {
     "duration": 0.024154,
     "end_time": "2025-08-19T19:05:26.304946",
     "exception": false,
     "start_time": "2025-08-19T19:05:26.280792",
     "status": "completed"
    },
    "tags": []
   },
   "outputs": [],
   "source": [
    "# EXCLUDE PROTECTED FEATURES\n",
    "# --------------------------\n",
    "\n",
    "excluded_features = universe[\"exclude_features\"].split(\"-\")\n",
    "excluded_features_dictionary = {\n",
    "    \"nationality\": [\"maxdeutsch1\", \"maxdeutsch.Missing.\"],\n",
    "    \"sex\": [\"frau1\"],\n",
    "    \"age\": [\"age\"],\n",
    "}"
   ]
  },
  {
   "cell_type": "code",
   "execution_count": 22,
   "id": "f8e63555",
   "metadata": {
    "execution": {
     "iopub.execute_input": "2025-08-19T19:05:26.334809Z",
     "iopub.status.busy": "2025-08-19T19:05:26.332715Z",
     "iopub.status.idle": "2025-08-19T19:05:26.361566Z",
     "shell.execute_reply": "2025-08-19T19:05:26.360564Z"
    },
    "papermill": {
     "duration": 0.04415,
     "end_time": "2025-08-19T19:05:26.363297",
     "exception": false,
     "start_time": "2025-08-19T19:05:26.319147",
     "status": "completed"
    },
    "tags": []
   },
   "outputs": [],
   "source": [
    "excluded_features_columns = [\n",
    "    excluded_features_dictionary[f] for f in excluded_features if len(f) > 0 and f != \"none\"\n",
    "]"
   ]
  },
  {
   "cell_type": "code",
   "execution_count": 23,
   "id": "da781f7c",
   "metadata": {
    "execution": {
     "iopub.execute_input": "2025-08-19T19:05:26.390246Z",
     "iopub.status.busy": "2025-08-19T19:05:26.389735Z",
     "iopub.status.idle": "2025-08-19T19:05:26.396438Z",
     "shell.execute_reply": "2025-08-19T19:05:26.395373Z"
    },
    "papermill": {
     "duration": 0.020494,
     "end_time": "2025-08-19T19:05:26.398020",
     "exception": false,
     "start_time": "2025-08-19T19:05:26.377526",
     "status": "completed"
    },
    "tags": []
   },
   "outputs": [],
   "source": [
    "from fairness_multiverse.universe import flatten_once\n",
    "\n",
    "excluded_features_columns = flatten_once(excluded_features_columns)"
   ]
  },
  {
   "cell_type": "code",
   "execution_count": 24,
   "id": "37fef0f0",
   "metadata": {
    "execution": {
     "iopub.execute_input": "2025-08-19T19:05:26.432395Z",
     "iopub.status.busy": "2025-08-19T19:05:26.423449Z",
     "iopub.status.idle": "2025-08-19T19:05:26.458317Z",
     "shell.execute_reply": "2025-08-19T19:05:26.455282Z"
    },
    "papermill": {
     "duration": 0.051157,
     "end_time": "2025-08-19T19:05:26.462256",
     "exception": false,
     "start_time": "2025-08-19T19:05:26.411099",
     "status": "completed"
    },
    "tags": []
   },
   "outputs": [
    {
     "name": "stdout",
     "output_type": "stream",
     "text": [
      "Dropping features: ['age']\n"
     ]
    }
   ],
   "source": [
    "if len(excluded_features_columns) > 0:\n",
    "    print(f\"Dropping features: {excluded_features_columns}\")\n",
    "    X_train.drop(excluded_features_columns, axis=1, inplace=True)"
   ]
  },
  {
   "cell_type": "code",
   "execution_count": 25,
   "id": "d029e3e9",
   "metadata": {
    "execution": {
     "iopub.execute_input": "2025-08-19T19:05:26.498719Z",
     "iopub.status.busy": "2025-08-19T19:05:26.498363Z",
     "iopub.status.idle": "2025-08-19T19:05:26.568618Z",
     "shell.execute_reply": "2025-08-19T19:05:26.567596Z"
    },
    "papermill": {
     "duration": 0.085204,
     "end_time": "2025-08-19T19:05:26.570116",
     "exception": false,
     "start_time": "2025-08-19T19:05:26.484912",
     "status": "completed"
    },
    "tags": []
   },
   "outputs": [
    {
     "name": "stdout",
     "output_type": "stream",
     "text": [
      "Dropping features: ['age']\n"
     ]
    }
   ],
   "source": [
    "if len(excluded_features_columns) > 0:\n",
    "    print(f\"Dropping features: {excluded_features_columns}\")\n",
    "    X_test.drop(excluded_features_columns, axis=1, inplace=True)"
   ]
  },
  {
   "cell_type": "code",
   "execution_count": 26,
   "id": "01d571f0",
   "metadata": {
    "execution": {
     "iopub.execute_input": "2025-08-19T19:05:26.600406Z",
     "iopub.status.busy": "2025-08-19T19:05:26.598925Z",
     "iopub.status.idle": "2025-08-19T19:05:26.691385Z",
     "shell.execute_reply": "2025-08-19T19:05:26.690400Z"
    },
    "papermill": {
     "duration": 0.106188,
     "end_time": "2025-08-19T19:05:26.692808",
     "exception": false,
     "start_time": "2025-08-19T19:05:26.586620",
     "status": "completed"
    },
    "tags": []
   },
   "outputs": [
    {
     "name": "stdout",
     "output_type": "stream",
     "text": [
      "Dropping features: ['age']\n"
     ]
    }
   ],
   "source": [
    "if len(excluded_features_columns) > 0:\n",
    "    print(f\"Dropping features: {excluded_features_columns}\")\n",
    "    X_calib.drop(excluded_features_columns, axis=1, inplace=True)"
   ]
  },
  {
   "cell_type": "code",
   "execution_count": 27,
   "id": "3037356e",
   "metadata": {
    "execution": {
     "iopub.execute_input": "2025-08-19T19:05:26.717977Z",
     "iopub.status.busy": "2025-08-19T19:05:26.716776Z",
     "iopub.status.idle": "2025-08-19T19:05:26.724440Z",
     "shell.execute_reply": "2025-08-19T19:05:26.723145Z"
    },
    "papermill": {
     "duration": 0.021563,
     "end_time": "2025-08-19T19:05:26.725987",
     "exception": false,
     "start_time": "2025-08-19T19:05:26.704424",
     "status": "completed"
    },
    "tags": []
   },
   "outputs": [],
   "source": [
    "# EXCLUDE CERTAIN SUBGROUPS\n",
    "# -------------------------\n",
    "\n",
    "mode = universe.get(\"exclude_subgroups\", \"keep-all\") # Defaults to \"keep-all\" if the key is missing."
   ]
  },
  {
   "cell_type": "code",
   "execution_count": 28,
   "id": "9d1e63fd",
   "metadata": {
    "execution": {
     "iopub.execute_input": "2025-08-19T19:05:26.756131Z",
     "iopub.status.busy": "2025-08-19T19:05:26.751025Z",
     "iopub.status.idle": "2025-08-19T19:05:26.766835Z",
     "shell.execute_reply": "2025-08-19T19:05:26.765525Z"
    },
    "papermill": {
     "duration": 0.030847,
     "end_time": "2025-08-19T19:05:26.768638",
     "exception": false,
     "start_time": "2025-08-19T19:05:26.737791",
     "status": "completed"
    },
    "tags": []
   },
   "outputs": [],
   "source": [
    "if mode == \"keep-all\":\n",
    "    keep_mask = pd.Series(True, index=org_train.index)\n",
    "\n",
    "elif mode == \"drop-non-german\":\n",
    "    keep_mask = (org_train[\"maxdeutsch1\"] == 1) & (org_train[\"maxdeutsch.Missing.\"] == 0)\n",
    "\n",
    "else:\n",
    "    raise ValueError(f\"Unsupported mode for exclude_subgroups: {mode}\")"
   ]
  },
  {
   "cell_type": "code",
   "execution_count": 29,
   "id": "d3b65474",
   "metadata": {
    "execution": {
     "iopub.execute_input": "2025-08-19T19:05:26.806313Z",
     "iopub.status.busy": "2025-08-19T19:05:26.805803Z",
     "iopub.status.idle": "2025-08-19T19:05:26.813030Z",
     "shell.execute_reply": "2025-08-19T19:05:26.812162Z"
    },
    "papermill": {
     "duration": 0.032547,
     "end_time": "2025-08-19T19:05:26.814656",
     "exception": false,
     "start_time": "2025-08-19T19:05:26.782109",
     "status": "completed"
    },
    "tags": []
   },
   "outputs": [
    {
     "name": "stdout",
     "output_type": "stream",
     "text": [
      "Dropping 131 rows (13.10%) where mode='drop-non-german'\n"
     ]
    }
   ],
   "source": [
    "n_drop = (~keep_mask).sum() # Calculates how many rows are set to be dropped\n",
    "if n_drop > 0:\n",
    "    pct = n_drop / len(keep_mask) * 100\n",
    "    print(f\"Dropping {n_drop} rows ({pct:.2f}%) where mode='{mode}'\")"
   ]
  },
  {
   "cell_type": "code",
   "execution_count": 30,
   "id": "f44389b3",
   "metadata": {
    "execution": {
     "iopub.execute_input": "2025-08-19T19:05:26.840238Z",
     "iopub.status.busy": "2025-08-19T19:05:26.839924Z",
     "iopub.status.idle": "2025-08-19T19:05:26.846330Z",
     "shell.execute_reply": "2025-08-19T19:05:26.845454Z"
    },
    "papermill": {
     "duration": 0.027802,
     "end_time": "2025-08-19T19:05:26.854349",
     "exception": false,
     "start_time": "2025-08-19T19:05:26.826547",
     "status": "completed"
    },
    "tags": []
   },
   "outputs": [],
   "source": [
    "X_train = X_train[keep_mask]"
   ]
  },
  {
   "cell_type": "code",
   "execution_count": 31,
   "id": "ceca8c2a",
   "metadata": {
    "execution": {
     "iopub.execute_input": "2025-08-19T19:05:26.881839Z",
     "iopub.status.busy": "2025-08-19T19:05:26.881380Z",
     "iopub.status.idle": "2025-08-19T19:05:26.887097Z",
     "shell.execute_reply": "2025-08-19T19:05:26.886196Z"
    },
    "papermill": {
     "duration": 0.020793,
     "end_time": "2025-08-19T19:05:26.888717",
     "exception": false,
     "start_time": "2025-08-19T19:05:26.867924",
     "status": "completed"
    },
    "tags": []
   },
   "outputs": [],
   "source": [
    "y_train = y_train[keep_mask]"
   ]
  },
  {
   "cell_type": "markdown",
   "id": "04d31e2f",
   "metadata": {
    "papermill": {
     "duration": 0.017097,
     "end_time": "2025-08-19T19:05:26.917688",
     "exception": false,
     "start_time": "2025-08-19T19:05:26.900591",
     "status": "completed"
    },
    "tags": []
   },
   "source": [
    "# Model Training"
   ]
  },
  {
   "cell_type": "code",
   "execution_count": 32,
   "id": "db991733",
   "metadata": {
    "execution": {
     "iopub.execute_input": "2025-08-19T19:05:26.942854Z",
     "iopub.status.busy": "2025-08-19T19:05:26.942348Z",
     "iopub.status.idle": "2025-08-19T19:05:27.042931Z",
     "shell.execute_reply": "2025-08-19T19:05:27.042035Z"
    },
    "papermill": {
     "duration": 0.116786,
     "end_time": "2025-08-19T19:05:27.046186",
     "exception": false,
     "start_time": "2025-08-19T19:05:26.929400",
     "status": "completed"
    },
    "tags": []
   },
   "outputs": [],
   "source": [
    "from sklearn.linear_model import LogisticRegression\n",
    "from sklearn.ensemble import GradientBoostingClassifier, RandomForestClassifier\n",
    "\n",
    "if (universe[\"model\"] == \"logreg\"):\n",
    "    model = LogisticRegression() #penalty=\"none\", solver=\"newton-cg\", max_iter=1)\n",
    "elif (universe[\"model\"] == \"penalized_logreg\"):\n",
    "    model = LogisticRegression(penalty=\"l2\", C=0.1) #, solver=\"newton-cg\", max_iter=1)\n",
    "elif (universe[\"model\"] == \"rf\"):\n",
    "    model = RandomForestClassifier() # n_estimators=100, n_jobs=-1\n",
    "elif (universe[\"model\"] == \"gbm\"):\n",
    "    model = GradientBoostingClassifier()\n",
    "elif (universe[\"model\"] == \"elasticnet\"):\n",
    "    model = LogisticRegression(penalty = 'elasticnet', solver = 'saga', l1_ratio = 0.5) # max_iter=5000\n",
    "else:\n",
    "    raise \"Unsupported universe.model\""
   ]
  },
  {
   "cell_type": "code",
   "execution_count": 33,
   "id": "a4b5cd25",
   "metadata": {
    "execution": {
     "iopub.execute_input": "2025-08-19T19:05:27.085160Z",
     "iopub.status.busy": "2025-08-19T19:05:27.072622Z",
     "iopub.status.idle": "2025-08-19T19:05:27.090115Z",
     "shell.execute_reply": "2025-08-19T19:05:27.089340Z"
    },
    "papermill": {
     "duration": 0.040958,
     "end_time": "2025-08-19T19:05:27.100933",
     "exception": false,
     "start_time": "2025-08-19T19:05:27.059975",
     "status": "completed"
    },
    "tags": []
   },
   "outputs": [],
   "source": [
    "from sklearn.pipeline import Pipeline\n",
    "from sklearn.preprocessing import StandardScaler\n",
    "\n",
    "model = Pipeline([\n",
    "    #(\"continuous_processor\", continuous_processor),\n",
    "    #(\"categorical_preprocessor\", categorical_preprocessor),\n",
    "    (\"scale\", StandardScaler() if universe[\"scale\"] == \"scale\" else None), \n",
    "    (\"model\", model),\n",
    "])"
   ]
  },
  {
   "cell_type": "code",
   "execution_count": 34,
   "id": "283a904d",
   "metadata": {
    "execution": {
     "iopub.execute_input": "2025-08-19T19:05:27.134126Z",
     "iopub.status.busy": "2025-08-19T19:05:27.133792Z",
     "iopub.status.idle": "2025-08-19T19:05:27.209115Z",
     "shell.execute_reply": "2025-08-19T19:05:27.206785Z"
    },
    "papermill": {
     "duration": 0.093974,
     "end_time": "2025-08-19T19:05:27.211599",
     "exception": false,
     "start_time": "2025-08-19T19:05:27.117625",
     "status": "completed"
    },
    "tags": []
   },
   "outputs": [
    {
     "name": "stderr",
     "output_type": "stream",
     "text": [
      "/dss/dsshome1/0C/ra93lal2/.local/share/virtualenvs/CMA_Fairness_v2-3j10GkSs/lib/python3.10/site-packages/sklearn/linear_model/_logistic.py:444: ConvergenceWarning: lbfgs failed to converge (status=1):\n",
      "STOP: TOTAL NO. of ITERATIONS REACHED LIMIT.\n",
      "\n",
      "Increase the number of iterations (max_iter) or scale the data as shown in:\n",
      "    https://scikit-learn.org/stable/modules/preprocessing.html\n",
      "Please also refer to the documentation for alternative solver options:\n",
      "    https://scikit-learn.org/stable/modules/linear_model.html#logistic-regression\n",
      "  n_iter_i = _check_optimize_result(\n"
     ]
    },
    {
     "data": {
      "text/html": [
       "<style>#sk-container-id-1 {color: black;background-color: white;}#sk-container-id-1 pre{padding: 0;}#sk-container-id-1 div.sk-toggleable {background-color: white;}#sk-container-id-1 label.sk-toggleable__label {cursor: pointer;display: block;width: 100%;margin-bottom: 0;padding: 0.3em;box-sizing: border-box;text-align: center;}#sk-container-id-1 label.sk-toggleable__label-arrow:before {content: \"▸\";float: left;margin-right: 0.25em;color: #696969;}#sk-container-id-1 label.sk-toggleable__label-arrow:hover:before {color: black;}#sk-container-id-1 div.sk-estimator:hover label.sk-toggleable__label-arrow:before {color: black;}#sk-container-id-1 div.sk-toggleable__content {max-height: 0;max-width: 0;overflow: hidden;text-align: left;background-color: #f0f8ff;}#sk-container-id-1 div.sk-toggleable__content pre {margin: 0.2em;color: black;border-radius: 0.25em;background-color: #f0f8ff;}#sk-container-id-1 input.sk-toggleable__control:checked~div.sk-toggleable__content {max-height: 200px;max-width: 100%;overflow: auto;}#sk-container-id-1 input.sk-toggleable__control:checked~label.sk-toggleable__label-arrow:before {content: \"▾\";}#sk-container-id-1 div.sk-estimator input.sk-toggleable__control:checked~label.sk-toggleable__label {background-color: #d4ebff;}#sk-container-id-1 div.sk-label input.sk-toggleable__control:checked~label.sk-toggleable__label {background-color: #d4ebff;}#sk-container-id-1 input.sk-hidden--visually {border: 0;clip: rect(1px 1px 1px 1px);clip: rect(1px, 1px, 1px, 1px);height: 1px;margin: -1px;overflow: hidden;padding: 0;position: absolute;width: 1px;}#sk-container-id-1 div.sk-estimator {font-family: monospace;background-color: #f0f8ff;border: 1px dotted black;border-radius: 0.25em;box-sizing: border-box;margin-bottom: 0.5em;}#sk-container-id-1 div.sk-estimator:hover {background-color: #d4ebff;}#sk-container-id-1 div.sk-parallel-item::after {content: \"\";width: 100%;border-bottom: 1px solid gray;flex-grow: 1;}#sk-container-id-1 div.sk-label:hover label.sk-toggleable__label {background-color: #d4ebff;}#sk-container-id-1 div.sk-serial::before {content: \"\";position: absolute;border-left: 1px solid gray;box-sizing: border-box;top: 0;bottom: 0;left: 50%;z-index: 0;}#sk-container-id-1 div.sk-serial {display: flex;flex-direction: column;align-items: center;background-color: white;padding-right: 0.2em;padding-left: 0.2em;position: relative;}#sk-container-id-1 div.sk-item {position: relative;z-index: 1;}#sk-container-id-1 div.sk-parallel {display: flex;align-items: stretch;justify-content: center;background-color: white;position: relative;}#sk-container-id-1 div.sk-item::before, #sk-container-id-1 div.sk-parallel-item::before {content: \"\";position: absolute;border-left: 1px solid gray;box-sizing: border-box;top: 0;bottom: 0;left: 50%;z-index: -1;}#sk-container-id-1 div.sk-parallel-item {display: flex;flex-direction: column;z-index: 1;position: relative;background-color: white;}#sk-container-id-1 div.sk-parallel-item:first-child::after {align-self: flex-end;width: 50%;}#sk-container-id-1 div.sk-parallel-item:last-child::after {align-self: flex-start;width: 50%;}#sk-container-id-1 div.sk-parallel-item:only-child::after {width: 0;}#sk-container-id-1 div.sk-dashed-wrapped {border: 1px dashed gray;margin: 0 0.4em 0.5em 0.4em;box-sizing: border-box;padding-bottom: 0.4em;background-color: white;}#sk-container-id-1 div.sk-label label {font-family: monospace;font-weight: bold;display: inline-block;line-height: 1.2em;}#sk-container-id-1 div.sk-label-container {text-align: center;}#sk-container-id-1 div.sk-container {/* jupyter's `normalize.less` sets `[hidden] { display: none; }` but bootstrap.min.css set `[hidden] { display: none !important; }` so we also need the `!important` here to be able to override the default hidden behavior on the sphinx rendered scikit-learn.org. See: https://github.com/scikit-learn/scikit-learn/issues/21755 */display: inline-block !important;position: relative;}#sk-container-id-1 div.sk-text-repr-fallback {display: none;}</style><div id=\"sk-container-id-1\" class=\"sk-top-container\"><div class=\"sk-text-repr-fallback\"><pre>Pipeline(steps=[(&#x27;scale&#x27;, StandardScaler()), (&#x27;model&#x27;, LogisticRegression())])</pre><b>In a Jupyter environment, please rerun this cell to show the HTML representation or trust the notebook. <br />On GitHub, the HTML representation is unable to render, please try loading this page with nbviewer.org.</b></div><div class=\"sk-container\" hidden><div class=\"sk-item sk-dashed-wrapped\"><div class=\"sk-label-container\"><div class=\"sk-label sk-toggleable\"><input class=\"sk-toggleable__control sk-hidden--visually\" id=\"sk-estimator-id-1\" type=\"checkbox\" ><label for=\"sk-estimator-id-1\" class=\"sk-toggleable__label sk-toggleable__label-arrow\">Pipeline</label><div class=\"sk-toggleable__content\"><pre>Pipeline(steps=[(&#x27;scale&#x27;, StandardScaler()), (&#x27;model&#x27;, LogisticRegression())])</pre></div></div></div><div class=\"sk-serial\"><div class=\"sk-item\"><div class=\"sk-estimator sk-toggleable\"><input class=\"sk-toggleable__control sk-hidden--visually\" id=\"sk-estimator-id-2\" type=\"checkbox\" ><label for=\"sk-estimator-id-2\" class=\"sk-toggleable__label sk-toggleable__label-arrow\">StandardScaler</label><div class=\"sk-toggleable__content\"><pre>StandardScaler()</pre></div></div></div><div class=\"sk-item\"><div class=\"sk-estimator sk-toggleable\"><input class=\"sk-toggleable__control sk-hidden--visually\" id=\"sk-estimator-id-3\" type=\"checkbox\" ><label for=\"sk-estimator-id-3\" class=\"sk-toggleable__label sk-toggleable__label-arrow\">LogisticRegression</label><div class=\"sk-toggleable__content\"><pre>LogisticRegression()</pre></div></div></div></div></div></div></div>"
      ],
      "text/plain": [
       "Pipeline(steps=[('scale', StandardScaler()), ('model', LogisticRegression())])"
      ]
     },
     "execution_count": 34,
     "metadata": {},
     "output_type": "execute_result"
    }
   ],
   "source": [
    "model.fit(X_train, y_train.values.ravel())"
   ]
  },
  {
   "cell_type": "code",
   "execution_count": 35,
   "id": "6e15e313",
   "metadata": {
    "execution": {
     "iopub.execute_input": "2025-08-19T19:05:27.242251Z",
     "iopub.status.busy": "2025-08-19T19:05:27.241356Z",
     "iopub.status.idle": "2025-08-19T19:05:27.516947Z",
     "shell.execute_reply": "2025-08-19T19:05:27.516178Z"
    },
    "papermill": {
     "duration": 0.29396,
     "end_time": "2025-08-19T19:05:27.519864",
     "exception": false,
     "start_time": "2025-08-19T19:05:27.225904",
     "status": "completed"
    },
    "tags": []
   },
   "outputs": [
    {
     "data": {
      "text/plain": [
       "0.8197971240664363"
      ]
     },
     "execution_count": 35,
     "metadata": {},
     "output_type": "execute_result"
    }
   ],
   "source": [
    "from fairness_multiverse.universe import predict_w_threshold\n",
    "\n",
    "probs_test = model.predict_proba(X_test)\n",
    "\n",
    "'''\n",
    "Below code returns a boolean array (or binary 0/1 array depending on how it’s used) where each element \n",
    "is True if the probability of class 1 is greater than or equal to the threshold, and False otherwise.\n",
    "'''\n",
    "y_pred_default = predict_w_threshold(probs_test, 0.5)\n",
    "\n",
    "from sklearn.metrics import accuracy_score\n",
    "\n",
    "# Naive prediction\n",
    "accuracy_score(y_true = y_true, y_pred = y_pred_default)"
   ]
  },
  {
   "cell_type": "code",
   "execution_count": 36,
   "id": "6f14067c",
   "metadata": {
    "execution": {
     "iopub.execute_input": "2025-08-19T19:05:27.562445Z",
     "iopub.status.busy": "2025-08-19T19:05:27.561229Z",
     "iopub.status.idle": "2025-08-19T19:05:27.749050Z",
     "shell.execute_reply": "2025-08-19T19:05:27.748302Z"
    },
    "papermill": {
     "duration": 0.206734,
     "end_time": "2025-08-19T19:05:27.751737",
     "exception": false,
     "start_time": "2025-08-19T19:05:27.545003",
     "status": "completed"
    },
    "tags": []
   },
   "outputs": [
    {
     "data": {
      "text/plain": [
       "array([0, 0, 0, ..., 0, 0, 0])"
      ]
     },
     "execution_count": 36,
     "metadata": {},
     "output_type": "execute_result"
    }
   ],
   "source": [
    "model.predict(X_test)"
   ]
  },
  {
   "cell_type": "markdown",
   "id": "3759920c",
   "metadata": {
    "papermill": {
     "duration": 0.01307,
     "end_time": "2025-08-19T19:05:27.790389",
     "exception": false,
     "start_time": "2025-08-19T19:05:27.777319",
     "status": "completed"
    },
    "tags": []
   },
   "source": [
    "# Conformal Prediction"
   ]
  },
  {
   "cell_type": "code",
   "execution_count": 37,
   "id": "14b27f59",
   "metadata": {
    "execution": {
     "iopub.execute_input": "2025-08-19T19:05:27.816575Z",
     "iopub.status.busy": "2025-08-19T19:05:27.815970Z",
     "iopub.status.idle": "2025-08-19T19:05:27.821021Z",
     "shell.execute_reply": "2025-08-19T19:05:27.820314Z"
    },
    "papermill": {
     "duration": 0.019947,
     "end_time": "2025-08-19T19:05:27.822156",
     "exception": false,
     "start_time": "2025-08-19T19:05:27.802209",
     "status": "completed"
    },
    "tags": []
   },
   "outputs": [],
   "source": [
    "# Miscoverage level for conformal prediction (10% allowed error rate => 90% target coverage)\n",
    "alpha = 0.1"
   ]
  },
  {
   "cell_type": "code",
   "execution_count": 38,
   "id": "59102472",
   "metadata": {
    "execution": {
     "iopub.execute_input": "2025-08-19T19:05:27.849103Z",
     "iopub.status.busy": "2025-08-19T19:05:27.848622Z",
     "iopub.status.idle": "2025-08-19T19:05:28.076607Z",
     "shell.execute_reply": "2025-08-19T19:05:28.075391Z"
    },
    "papermill": {
     "duration": 0.244768,
     "end_time": "2025-08-19T19:05:28.079982",
     "exception": false,
     "start_time": "2025-08-19T19:05:27.835214",
     "status": "completed"
    },
    "tags": []
   },
   "outputs": [],
   "source": [
    "probs_calib = model.predict_proba(X_calib)"
   ]
  },
  {
   "cell_type": "code",
   "execution_count": 39,
   "id": "a792d4dd",
   "metadata": {
    "execution": {
     "iopub.execute_input": "2025-08-19T19:05:28.124916Z",
     "iopub.status.busy": "2025-08-19T19:05:28.123279Z",
     "iopub.status.idle": "2025-08-19T19:05:28.134516Z",
     "shell.execute_reply": "2025-08-19T19:05:28.133251Z"
    },
    "papermill": {
     "duration": 0.028419,
     "end_time": "2025-08-19T19:05:28.135991",
     "exception": false,
     "start_time": "2025-08-19T19:05:28.107572",
     "status": "completed"
    },
    "tags": []
   },
   "outputs": [],
   "source": [
    "y_calib = y_calib.values.ravel().astype(int)"
   ]
  },
  {
   "cell_type": "code",
   "execution_count": 40,
   "id": "650fd033",
   "metadata": {
    "execution": {
     "iopub.execute_input": "2025-08-19T19:05:28.166361Z",
     "iopub.status.busy": "2025-08-19T19:05:28.165145Z",
     "iopub.status.idle": "2025-08-19T19:05:28.178355Z",
     "shell.execute_reply": "2025-08-19T19:05:28.177261Z"
    },
    "papermill": {
     "duration": 0.028162,
     "end_time": "2025-08-19T19:05:28.179897",
     "exception": false,
     "start_time": "2025-08-19T19:05:28.151735",
     "status": "completed"
    },
    "tags": []
   },
   "outputs": [],
   "source": [
    "from fairness_multiverse.conformal import compute_nc_scores\n",
    "\n",
    "# Compute nonconformity scores on calibration set (1 - probability of true class)\n",
    "nc_scores = compute_nc_scores(probs_calib, y_calib)"
   ]
  },
  {
   "cell_type": "code",
   "execution_count": 41,
   "id": "28ada44c",
   "metadata": {
    "execution": {
     "iopub.execute_input": "2025-08-19T19:05:28.220430Z",
     "iopub.status.busy": "2025-08-19T19:05:28.219309Z",
     "iopub.status.idle": "2025-08-19T19:05:28.231501Z",
     "shell.execute_reply": "2025-08-19T19:05:28.230209Z"
    },
    "papermill": {
     "duration": 0.037788,
     "end_time": "2025-08-19T19:05:28.233022",
     "exception": false,
     "start_time": "2025-08-19T19:05:28.195234",
     "status": "completed"
    },
    "tags": []
   },
   "outputs": [],
   "source": [
    "from fairness_multiverse.conformal import find_threshold\n",
    "\n",
    "# Find conformal threshold q_hat for the given alpha (split conformal method)\n",
    "q_hat = find_threshold(nc_scores, alpha)"
   ]
  },
  {
   "cell_type": "code",
   "execution_count": 42,
   "id": "df56469e",
   "metadata": {
    "execution": {
     "iopub.execute_input": "2025-08-19T19:05:28.264577Z",
     "iopub.status.busy": "2025-08-19T19:05:28.263630Z",
     "iopub.status.idle": "2025-08-19T19:05:28.272667Z",
     "shell.execute_reply": "2025-08-19T19:05:28.271539Z"
    },
    "papermill": {
     "duration": 0.024513,
     "end_time": "2025-08-19T19:05:28.273778",
     "exception": false,
     "start_time": "2025-08-19T19:05:28.249265",
     "status": "completed"
    },
    "tags": []
   },
   "outputs": [
    {
     "data": {
      "text/plain": [
       "0.790311082846381"
      ]
     },
     "execution_count": 42,
     "metadata": {},
     "output_type": "execute_result"
    }
   ],
   "source": [
    "q_hat"
   ]
  },
  {
   "cell_type": "code",
   "execution_count": 43,
   "id": "aa1f5faa",
   "metadata": {
    "execution": {
     "iopub.execute_input": "2025-08-19T19:05:28.303451Z",
     "iopub.status.busy": "2025-08-19T19:05:28.302254Z",
     "iopub.status.idle": "2025-08-19T19:05:29.028364Z",
     "shell.execute_reply": "2025-08-19T19:05:29.027311Z"
    },
    "papermill": {
     "duration": 0.741287,
     "end_time": "2025-08-19T19:05:29.029895",
     "exception": false,
     "start_time": "2025-08-19T19:05:28.288608",
     "status": "completed"
    },
    "tags": []
   },
   "outputs": [],
   "source": [
    "from fairness_multiverse.conformal import predict_conformal_sets\n",
    "\n",
    "# Generate prediction sets for each test example\n",
    "pred_sets = predict_conformal_sets(model, X_test, q_hat)"
   ]
  },
  {
   "cell_type": "code",
   "execution_count": 44,
   "id": "97f67a6b",
   "metadata": {
    "execution": {
     "iopub.execute_input": "2025-08-19T19:05:29.076380Z",
     "iopub.status.busy": "2025-08-19T19:05:29.074282Z",
     "iopub.status.idle": "2025-08-19T19:05:29.087586Z",
     "shell.execute_reply": "2025-08-19T19:05:29.086228Z"
    },
    "papermill": {
     "duration": 0.044383,
     "end_time": "2025-08-19T19:05:29.089650",
     "exception": false,
     "start_time": "2025-08-19T19:05:29.045267",
     "status": "completed"
    },
    "tags": []
   },
   "outputs": [],
   "source": [
    "y_true = y_true.squeeze()"
   ]
  },
  {
   "cell_type": "code",
   "execution_count": 45,
   "id": "e700e9a7",
   "metadata": {
    "execution": {
     "iopub.execute_input": "2025-08-19T19:05:29.123116Z",
     "iopub.status.busy": "2025-08-19T19:05:29.121903Z",
     "iopub.status.idle": "2025-08-19T19:05:29.664728Z",
     "shell.execute_reply": "2025-08-19T19:05:29.663455Z"
    },
    "papermill": {
     "duration": 0.559328,
     "end_time": "2025-08-19T19:05:29.667568",
     "exception": false,
     "start_time": "2025-08-19T19:05:29.108240",
     "status": "completed"
    },
    "tags": []
   },
   "outputs": [],
   "source": [
    "from fairness_multiverse.conformal import evaluate_sets\n",
    "\n",
    "# Evaluate coverage and average set size on test data\n",
    "metrics = evaluate_sets(pred_sets, y_true)"
   ]
  },
  {
   "cell_type": "markdown",
   "id": "efbacec0",
   "metadata": {
    "papermill": {
     "duration": 0.014559,
     "end_time": "2025-08-19T19:05:29.709497",
     "exception": false,
     "start_time": "2025-08-19T19:05:29.694938",
     "status": "completed"
    },
    "tags": []
   },
   "source": [
    "# CP Metrics"
   ]
  },
  {
   "cell_type": "code",
   "execution_count": 46,
   "id": "9de55fb1",
   "metadata": {
    "execution": {
     "iopub.execute_input": "2025-08-19T19:05:29.755165Z",
     "iopub.status.busy": "2025-08-19T19:05:29.754316Z",
     "iopub.status.idle": "2025-08-19T19:05:29.766689Z",
     "shell.execute_reply": "2025-08-19T19:05:29.765180Z"
    },
    "papermill": {
     "duration": 0.043146,
     "end_time": "2025-08-19T19:05:29.768349",
     "exception": false,
     "start_time": "2025-08-19T19:05:29.725203",
     "status": "completed"
    },
    "tags": []
   },
   "outputs": [
    {
     "data": {
      "text/plain": [
       "{'coverage': 0.9088953293947163, 'avg_size': 1.237409430386802}"
      ]
     },
     "execution_count": 46,
     "metadata": {},
     "output_type": "execute_result"
    }
   ],
   "source": [
    "metrics"
   ]
  },
  {
   "cell_type": "code",
   "execution_count": 47,
   "id": "64c340a1",
   "metadata": {
    "execution": {
     "iopub.execute_input": "2025-08-19T19:05:29.800900Z",
     "iopub.status.busy": "2025-08-19T19:05:29.800459Z",
     "iopub.status.idle": "2025-08-19T19:05:29.806045Z",
     "shell.execute_reply": "2025-08-19T19:05:29.805419Z"
    },
    "papermill": {
     "duration": 0.020239,
     "end_time": "2025-08-19T19:05:29.807148",
     "exception": false,
     "start_time": "2025-08-19T19:05:29.786909",
     "status": "completed"
    },
    "tags": []
   },
   "outputs": [],
   "source": [
    "example_universe = universe.copy()\n",
    "universe_training_year = example_universe.get(\"training_year\")\n",
    "universe_training_size = example_universe.get(\"training_size\")\n",
    "universe_scale = example_universe.get(\"scale\")\n",
    "universe_model = example_universe.get(\"model\")\n",
    "universe_exclude_features = example_universe.get(\"exclude_features\")\n",
    "universe_exclude_subgroups = example_universe.get(\"exclude_subgroups\")"
   ]
  },
  {
   "cell_type": "code",
   "execution_count": 48,
   "id": "dbb53cb4",
   "metadata": {
    "execution": {
     "iopub.execute_input": "2025-08-19T19:05:29.835378Z",
     "iopub.status.busy": "2025-08-19T19:05:29.834662Z",
     "iopub.status.idle": "2025-08-19T19:05:29.844317Z",
     "shell.execute_reply": "2025-08-19T19:05:29.842523Z"
    },
    "papermill": {
     "duration": 0.025208,
     "end_time": "2025-08-19T19:05:29.845714",
     "exception": false,
     "start_time": "2025-08-19T19:05:29.820506",
     "status": "completed"
    },
    "tags": []
   },
   "outputs": [],
   "source": [
    "cp_metrics_dict = {\n",
    "    \"universe_id\": [universe_id],\n",
    "    \"universe_training_year\": [universe_training_year],\n",
    "    \"universe_training_size\": [universe_training_size],\n",
    "    \"universe_scale\": [universe_scale],\n",
    "    \"universe_model\": [universe_model],\n",
    "    \"universe_exclude_features\": [universe_exclude_features],\n",
    "    \"universe_exclude_subgroups\": [universe_exclude_subgroups],\n",
    "    \"q_hat\": [q_hat],\n",
    "    \"coverage\": [metrics[\"coverage\"]],\n",
    "    \"avg_size\": [metrics[\"avg_size\"]],\n",
    "}"
   ]
  },
  {
   "cell_type": "code",
   "execution_count": 49,
   "id": "0d70d4b2",
   "metadata": {
    "execution": {
     "iopub.execute_input": "2025-08-19T19:05:29.889582Z",
     "iopub.status.busy": "2025-08-19T19:05:29.889281Z",
     "iopub.status.idle": "2025-08-19T19:05:29.899653Z",
     "shell.execute_reply": "2025-08-19T19:05:29.896318Z"
    },
    "papermill": {
     "duration": 0.038821,
     "end_time": "2025-08-19T19:05:29.901148",
     "exception": false,
     "start_time": "2025-08-19T19:05:29.862327",
     "status": "completed"
    },
    "tags": []
   },
   "outputs": [],
   "source": [
    "cp_metrics_df = pd.DataFrame(cp_metrics_dict)"
   ]
  },
  {
   "cell_type": "code",
   "execution_count": 50,
   "id": "b494403c",
   "metadata": {
    "execution": {
     "iopub.execute_input": "2025-08-19T19:05:29.930031Z",
     "iopub.status.busy": "2025-08-19T19:05:29.928770Z",
     "iopub.status.idle": "2025-08-19T19:05:29.954006Z",
     "shell.execute_reply": "2025-08-19T19:05:29.953173Z"
    },
    "papermill": {
     "duration": 0.040959,
     "end_time": "2025-08-19T19:05:29.955740",
     "exception": false,
     "start_time": "2025-08-19T19:05:29.914781",
     "status": "completed"
    },
    "tags": []
   },
   "outputs": [
    {
     "data": {
      "text/html": [
       "<div>\n",
       "<style scoped>\n",
       "    .dataframe tbody tr th:only-of-type {\n",
       "        vertical-align: middle;\n",
       "    }\n",
       "\n",
       "    .dataframe tbody tr th {\n",
       "        vertical-align: top;\n",
       "    }\n",
       "\n",
       "    .dataframe thead th {\n",
       "        text-align: right;\n",
       "    }\n",
       "</style>\n",
       "<table border=\"1\" class=\"dataframe\">\n",
       "  <thead>\n",
       "    <tr style=\"text-align: right;\">\n",
       "      <th></th>\n",
       "      <th>universe_id</th>\n",
       "      <th>universe_training_year</th>\n",
       "      <th>universe_training_size</th>\n",
       "      <th>universe_scale</th>\n",
       "      <th>universe_model</th>\n",
       "      <th>universe_exclude_features</th>\n",
       "      <th>universe_exclude_subgroups</th>\n",
       "      <th>q_hat</th>\n",
       "      <th>coverage</th>\n",
       "      <th>avg_size</th>\n",
       "    </tr>\n",
       "  </thead>\n",
       "  <tbody>\n",
       "    <tr>\n",
       "      <th>0</th>\n",
       "      <td>1f6a1f3252941349178aca208d5f5ea4</td>\n",
       "      <td>2010_14</td>\n",
       "      <td>1k</td>\n",
       "      <td>scale</td>\n",
       "      <td>logreg</td>\n",
       "      <td>age</td>\n",
       "      <td>drop-non-german</td>\n",
       "      <td>0.790311</td>\n",
       "      <td>0.908895</td>\n",
       "      <td>1.237409</td>\n",
       "    </tr>\n",
       "  </tbody>\n",
       "</table>\n",
       "</div>"
      ],
      "text/plain": [
       "                        universe_id universe_training_year  \\\n",
       "0  1f6a1f3252941349178aca208d5f5ea4                2010_14   \n",
       "\n",
       "  universe_training_size universe_scale universe_model  \\\n",
       "0                     1k          scale         logreg   \n",
       "\n",
       "  universe_exclude_features universe_exclude_subgroups     q_hat  coverage  \\\n",
       "0                       age            drop-non-german  0.790311  0.908895   \n",
       "\n",
       "   avg_size  \n",
       "0  1.237409  "
      ]
     },
     "execution_count": 50,
     "metadata": {},
     "output_type": "execute_result"
    }
   ],
   "source": [
    "cp_metrics_df"
   ]
  },
  {
   "cell_type": "markdown",
   "id": "ed608b0b",
   "metadata": {
    "papermill": {
     "duration": 0.012982,
     "end_time": "2025-08-19T19:05:29.989649",
     "exception": false,
     "start_time": "2025-08-19T19:05:29.976667",
     "status": "completed"
    },
    "tags": []
   },
   "source": [
    "Conditional coverage & looking at subgroups"
   ]
  },
  {
   "cell_type": "code",
   "execution_count": 51,
   "id": "8968c366",
   "metadata": {
    "execution": {
     "iopub.execute_input": "2025-08-19T19:05:30.024653Z",
     "iopub.status.busy": "2025-08-19T19:05:30.018265Z",
     "iopub.status.idle": "2025-08-19T19:05:30.345958Z",
     "shell.execute_reply": "2025-08-19T19:05:30.344963Z"
    },
    "papermill": {
     "duration": 0.343408,
     "end_time": "2025-08-19T19:05:30.347619",
     "exception": false,
     "start_time": "2025-08-19T19:05:30.004211",
     "status": "completed"
    },
    "tags": []
   },
   "outputs": [],
   "source": [
    "from fairness_multiverse.conformal import build_cp_groups\n",
    "\n",
    "cp_groups_df = build_cp_groups(pred_sets, y_true, X_test.index, org_test)"
   ]
  },
  {
   "cell_type": "code",
   "execution_count": 52,
   "id": "292ddabf",
   "metadata": {
    "execution": {
     "iopub.execute_input": "2025-08-19T19:05:30.375131Z",
     "iopub.status.busy": "2025-08-19T19:05:30.374705Z",
     "iopub.status.idle": "2025-08-19T19:05:31.278519Z",
     "shell.execute_reply": "2025-08-19T19:05:31.277241Z"
    },
    "papermill": {
     "duration": 0.919418,
     "end_time": "2025-08-19T19:05:31.280290",
     "exception": false,
     "start_time": "2025-08-19T19:05:30.360872",
     "status": "completed"
    },
    "tags": []
   },
   "outputs": [],
   "source": [
    "# Define covered = 1 if true_label is in the predicted set\n",
    "cp_groups_df['covered'] = cp_groups_df.apply(\n",
    "    lambda r: int(r['true_label'] in r['pred_set']),\n",
    "    axis=1\n",
    ")"
   ]
  },
  {
   "cell_type": "code",
   "execution_count": 53,
   "id": "3a261692",
   "metadata": {
    "execution": {
     "iopub.execute_input": "2025-08-19T19:05:31.330042Z",
     "iopub.status.busy": "2025-08-19T19:05:31.329543Z",
     "iopub.status.idle": "2025-08-19T19:05:31.344242Z",
     "shell.execute_reply": "2025-08-19T19:05:31.343176Z"
    },
    "papermill": {
     "duration": 0.04647,
     "end_time": "2025-08-19T19:05:31.347309",
     "exception": false,
     "start_time": "2025-08-19T19:05:31.300839",
     "status": "completed"
    },
    "tags": []
   },
   "outputs": [],
   "source": [
    "subgroups = ['frau1','nongerman','nongerman_male','nongerman_female']\n",
    "\n",
    "# Conditional coverage for subgroup==1\n",
    "cond_coverage = {\n",
    "    g: cp_groups_df.loc[cp_groups_df[g]==1, 'covered'].mean()\n",
    "    for g in subgroups\n",
    "}"
   ]
  },
  {
   "cell_type": "code",
   "execution_count": 54,
   "id": "894fd600",
   "metadata": {
    "execution": {
     "iopub.execute_input": "2025-08-19T19:05:31.390453Z",
     "iopub.status.busy": "2025-08-19T19:05:31.389213Z",
     "iopub.status.idle": "2025-08-19T19:05:31.401642Z",
     "shell.execute_reply": "2025-08-19T19:05:31.400400Z"
    },
    "papermill": {
     "duration": 0.02964,
     "end_time": "2025-08-19T19:05:31.403326",
     "exception": false,
     "start_time": "2025-08-19T19:05:31.373686",
     "status": "completed"
    },
    "tags": []
   },
   "outputs": [
    {
     "data": {
      "text/plain": [
       "{'frau1': 0.9083164847014422,\n",
       " 'nongerman': 0.9094481558412395,\n",
       " 'nongerman_male': 0.9245249031793209,\n",
       " 'nongerman_female': 0.8845007451564829}"
      ]
     },
     "execution_count": 54,
     "metadata": {},
     "output_type": "execute_result"
    }
   ],
   "source": [
    "cond_coverage"
   ]
  },
  {
   "cell_type": "code",
   "execution_count": 55,
   "id": "942895c7",
   "metadata": {
    "execution": {
     "iopub.execute_input": "2025-08-19T19:05:31.434677Z",
     "iopub.status.busy": "2025-08-19T19:05:31.433647Z",
     "iopub.status.idle": "2025-08-19T19:05:31.446593Z",
     "shell.execute_reply": "2025-08-19T19:05:31.445408Z"
    },
    "papermill": {
     "duration": 0.029499,
     "end_time": "2025-08-19T19:05:31.448727",
     "exception": false,
     "start_time": "2025-08-19T19:05:31.419228",
     "status": "completed"
    },
    "tags": []
   },
   "outputs": [],
   "source": [
    "for subgroup, cov in cond_coverage.items():\n",
    "    cp_metrics_df[f\"cov_{subgroup}\"] = cov"
   ]
  },
  {
   "cell_type": "code",
   "execution_count": 56,
   "id": "3970120f",
   "metadata": {
    "execution": {
     "iopub.execute_input": "2025-08-19T19:05:31.489057Z",
     "iopub.status.busy": "2025-08-19T19:05:31.480376Z",
     "iopub.status.idle": "2025-08-19T19:05:31.505130Z",
     "shell.execute_reply": "2025-08-19T19:05:31.504392Z"
    },
    "papermill": {
     "duration": 0.042444,
     "end_time": "2025-08-19T19:05:31.506732",
     "exception": false,
     "start_time": "2025-08-19T19:05:31.464288",
     "status": "completed"
    },
    "tags": []
   },
   "outputs": [
    {
     "data": {
      "text/html": [
       "<div>\n",
       "<style scoped>\n",
       "    .dataframe tbody tr th:only-of-type {\n",
       "        vertical-align: middle;\n",
       "    }\n",
       "\n",
       "    .dataframe tbody tr th {\n",
       "        vertical-align: top;\n",
       "    }\n",
       "\n",
       "    .dataframe thead th {\n",
       "        text-align: right;\n",
       "    }\n",
       "</style>\n",
       "<table border=\"1\" class=\"dataframe\">\n",
       "  <thead>\n",
       "    <tr style=\"text-align: right;\">\n",
       "      <th></th>\n",
       "      <th>universe_id</th>\n",
       "      <th>universe_training_year</th>\n",
       "      <th>universe_training_size</th>\n",
       "      <th>universe_scale</th>\n",
       "      <th>universe_model</th>\n",
       "      <th>universe_exclude_features</th>\n",
       "      <th>universe_exclude_subgroups</th>\n",
       "      <th>q_hat</th>\n",
       "      <th>coverage</th>\n",
       "      <th>avg_size</th>\n",
       "      <th>cov_frau1</th>\n",
       "      <th>cov_nongerman</th>\n",
       "      <th>cov_nongerman_male</th>\n",
       "      <th>cov_nongerman_female</th>\n",
       "    </tr>\n",
       "  </thead>\n",
       "  <tbody>\n",
       "    <tr>\n",
       "      <th>0</th>\n",
       "      <td>1f6a1f3252941349178aca208d5f5ea4</td>\n",
       "      <td>2010_14</td>\n",
       "      <td>1k</td>\n",
       "      <td>scale</td>\n",
       "      <td>logreg</td>\n",
       "      <td>age</td>\n",
       "      <td>drop-non-german</td>\n",
       "      <td>0.790311</td>\n",
       "      <td>0.908895</td>\n",
       "      <td>1.237409</td>\n",
       "      <td>0.908316</td>\n",
       "      <td>0.909448</td>\n",
       "      <td>0.924525</td>\n",
       "      <td>0.884501</td>\n",
       "    </tr>\n",
       "  </tbody>\n",
       "</table>\n",
       "</div>"
      ],
      "text/plain": [
       "                        universe_id universe_training_year  \\\n",
       "0  1f6a1f3252941349178aca208d5f5ea4                2010_14   \n",
       "\n",
       "  universe_training_size universe_scale universe_model  \\\n",
       "0                     1k          scale         logreg   \n",
       "\n",
       "  universe_exclude_features universe_exclude_subgroups     q_hat  coverage  \\\n",
       "0                       age            drop-non-german  0.790311  0.908895   \n",
       "\n",
       "   avg_size  cov_frau1  cov_nongerman  cov_nongerman_male  \\\n",
       "0  1.237409   0.908316       0.909448            0.924525   \n",
       "\n",
       "   cov_nongerman_female  \n",
       "0              0.884501  "
      ]
     },
     "execution_count": 56,
     "metadata": {},
     "output_type": "execute_result"
    }
   ],
   "source": [
    "cp_metrics_df"
   ]
  },
  {
   "cell_type": "markdown",
   "id": "3fc519cc",
   "metadata": {
    "papermill": {
     "duration": 0.021827,
     "end_time": "2025-08-19T19:05:31.557928",
     "exception": false,
     "start_time": "2025-08-19T19:05:31.536101",
     "status": "completed"
    },
    "tags": []
   },
   "source": [
    "# (Fairness) Metrics"
   ]
  },
  {
   "cell_type": "code",
   "execution_count": 57,
   "id": "a2e5e155",
   "metadata": {
    "execution": {
     "iopub.execute_input": "2025-08-19T19:05:31.589502Z",
     "iopub.status.busy": "2025-08-19T19:05:31.589096Z",
     "iopub.status.idle": "2025-08-19T19:05:31.604796Z",
     "shell.execute_reply": "2025-08-19T19:05:31.604087Z"
    },
    "papermill": {
     "duration": 0.032815,
     "end_time": "2025-08-19T19:05:31.605965",
     "exception": false,
     "start_time": "2025-08-19T19:05:31.573150",
     "status": "completed"
    },
    "tags": []
   },
   "outputs": [],
   "source": [
    "colname_to_bin = \"maxdeutsch1\"\n",
    "majority_value = org_train[colname_to_bin].mode()[0]\n",
    "\n",
    "org_test[\"majmin\"] = np.where(org_test[colname_to_bin] == majority_value, \"majority\", \"minority\")"
   ]
  },
  {
   "cell_type": "code",
   "execution_count": 58,
   "id": "17e3e4d5",
   "metadata": {
    "execution": {
     "iopub.execute_input": "2025-08-19T19:05:31.644067Z",
     "iopub.status.busy": "2025-08-19T19:05:31.643483Z",
     "iopub.status.idle": "2025-08-19T19:05:33.450231Z",
     "shell.execute_reply": "2025-08-19T19:05:33.448882Z"
    },
    "papermill": {
     "duration": 1.831644,
     "end_time": "2025-08-19T19:05:33.452252",
     "exception": false,
     "start_time": "2025-08-19T19:05:31.620608",
     "status": "completed"
    },
    "tags": []
   },
   "outputs": [],
   "source": [
    "example_universe = universe.copy()\n",
    "example_universe[\"cutoff\"] = example_universe[\"cutoff\"][0]\n",
    "example_universe[\"eval_fairness_grouping\"] = example_universe[\"eval_fairness_grouping\"][0]\n",
    "fairness_dict, metric_frame = universe_analysis.compute_metrics(\n",
    "    example_universe,\n",
    "    y_pred_prob=probs_test,\n",
    "    y_test=y_true,\n",
    "    org_test=org_test,\n",
    ")"
   ]
  },
  {
   "cell_type": "markdown",
   "id": "1fb7a0e9",
   "metadata": {
    "papermill": {
     "duration": 0.012832,
     "end_time": "2025-08-19T19:05:33.495318",
     "exception": false,
     "start_time": "2025-08-19T19:05:33.482486",
     "status": "completed"
    },
    "tags": []
   },
   "source": [
    "# Overall"
   ]
  },
  {
   "cell_type": "markdown",
   "id": "be1784b1",
   "metadata": {
    "papermill": {
     "duration": 0.012379,
     "end_time": "2025-08-19T19:05:33.520249",
     "exception": false,
     "start_time": "2025-08-19T19:05:33.507870",
     "status": "completed"
    },
    "tags": []
   },
   "source": [
    "Main fairness target: Equalized Odds. Seems to be a better fit than equal opportunity, since we're not only interested in Y = 1. Seems to be a better fit than demographic parity, since we also care about accuracy, not just equal distribution of preds.\n",
    "\n",
    "Pick column for computation of fairness metrics\n",
    "\n",
    "Performance\n",
    "Overall performance measures, most interesting in relation to the measures split by group below"
   ]
  },
  {
   "cell_type": "code",
   "execution_count": 59,
   "id": "b7672bee",
   "metadata": {
    "execution": {
     "iopub.execute_input": "2025-08-19T19:05:33.548948Z",
     "iopub.status.busy": "2025-08-19T19:05:33.548079Z",
     "iopub.status.idle": "2025-08-19T19:05:33.563273Z",
     "shell.execute_reply": "2025-08-19T19:05:33.562080Z"
    },
    "papermill": {
     "duration": 0.032885,
     "end_time": "2025-08-19T19:05:33.565477",
     "exception": false,
     "start_time": "2025-08-19T19:05:33.532592",
     "status": "completed"
    },
    "tags": []
   },
   "outputs": [
    {
     "data": {
      "text/plain": [
       "accuracy                   0.217824\n",
       "balanced accuracy          0.533982\n",
       "f1                         0.239336\n",
       "precision                  0.136725\n",
       "false positive rate        0.891282\n",
       "false negative rate        0.040754\n",
       "selection rate             0.900000\n",
       "count                  89710.000000\n",
       "dtype: float64"
      ]
     },
     "execution_count": 59,
     "metadata": {},
     "output_type": "execute_result"
    }
   ],
   "source": [
    "metric_frame.overall"
   ]
  },
  {
   "cell_type": "markdown",
   "id": "d93333c9",
   "metadata": {
    "papermill": {
     "duration": 0.012743,
     "end_time": "2025-08-19T19:05:33.597720",
     "exception": false,
     "start_time": "2025-08-19T19:05:33.584977",
     "status": "completed"
    },
    "tags": []
   },
   "source": [
    "By Group"
   ]
  },
  {
   "cell_type": "code",
   "execution_count": 60,
   "id": "52256966",
   "metadata": {
    "execution": {
     "iopub.execute_input": "2025-08-19T19:05:33.625907Z",
     "iopub.status.busy": "2025-08-19T19:05:33.625161Z",
     "iopub.status.idle": "2025-08-19T19:05:33.647311Z",
     "shell.execute_reply": "2025-08-19T19:05:33.646453Z"
    },
    "papermill": {
     "duration": 0.038728,
     "end_time": "2025-08-19T19:05:33.649040",
     "exception": false,
     "start_time": "2025-08-19T19:05:33.610312",
     "status": "completed"
    },
    "tags": []
   },
   "outputs": [
    {
     "data": {
      "text/html": [
       "<div>\n",
       "<style scoped>\n",
       "    .dataframe tbody tr th:only-of-type {\n",
       "        vertical-align: middle;\n",
       "    }\n",
       "\n",
       "    .dataframe tbody tr th {\n",
       "        vertical-align: top;\n",
       "    }\n",
       "\n",
       "    .dataframe thead th {\n",
       "        text-align: right;\n",
       "    }\n",
       "</style>\n",
       "<table border=\"1\" class=\"dataframe\">\n",
       "  <thead>\n",
       "    <tr style=\"text-align: right;\">\n",
       "      <th></th>\n",
       "      <th>accuracy</th>\n",
       "      <th>balanced accuracy</th>\n",
       "      <th>f1</th>\n",
       "      <th>precision</th>\n",
       "      <th>false positive rate</th>\n",
       "      <th>false negative rate</th>\n",
       "      <th>selection rate</th>\n",
       "      <th>count</th>\n",
       "    </tr>\n",
       "    <tr>\n",
       "      <th>majmin</th>\n",
       "      <th></th>\n",
       "      <th></th>\n",
       "      <th></th>\n",
       "      <th></th>\n",
       "      <th></th>\n",
       "      <th></th>\n",
       "      <th></th>\n",
       "      <th></th>\n",
       "    </tr>\n",
       "  </thead>\n",
       "  <tbody>\n",
       "    <tr>\n",
       "      <th>majority</th>\n",
       "      <td>0.231170</td>\n",
       "      <td>0.537948</td>\n",
       "      <td>0.247126</td>\n",
       "      <td>0.141928</td>\n",
       "      <td>0.879027</td>\n",
       "      <td>0.045077</td>\n",
       "      <td>0.889056</td>\n",
       "      <td>69170.0</td>\n",
       "    </tr>\n",
       "    <tr>\n",
       "      <th>minority</th>\n",
       "      <td>0.172882</td>\n",
       "      <td>0.522083</td>\n",
       "      <td>0.213873</td>\n",
       "      <td>0.120096</td>\n",
       "      <td>0.931763</td>\n",
       "      <td>0.024071</td>\n",
       "      <td>0.936855</td>\n",
       "      <td>20540.0</td>\n",
       "    </tr>\n",
       "  </tbody>\n",
       "</table>\n",
       "</div>"
      ],
      "text/plain": [
       "          accuracy  balanced accuracy        f1  precision  \\\n",
       "majmin                                                       \n",
       "majority  0.231170           0.537948  0.247126   0.141928   \n",
       "minority  0.172882           0.522083  0.213873   0.120096   \n",
       "\n",
       "          false positive rate  false negative rate  selection rate    count  \n",
       "majmin                                                                       \n",
       "majority             0.879027             0.045077        0.889056  69170.0  \n",
       "minority             0.931763             0.024071        0.936855  20540.0  "
      ]
     },
     "execution_count": 60,
     "metadata": {},
     "output_type": "execute_result"
    }
   ],
   "source": [
    "metric_frame.by_group"
   ]
  },
  {
   "cell_type": "code",
   "execution_count": 61,
   "id": "6e6c20ae",
   "metadata": {
    "execution": {
     "iopub.execute_input": "2025-08-19T19:05:33.684856Z",
     "iopub.status.busy": "2025-08-19T19:05:33.684072Z",
     "iopub.status.idle": "2025-08-19T19:05:35.655442Z",
     "shell.execute_reply": "2025-08-19T19:05:35.654391Z"
    },
    "papermill": {
     "duration": 1.988167,
     "end_time": "2025-08-19T19:05:35.656983",
     "exception": false,
     "start_time": "2025-08-19T19:05:33.668816",
     "status": "completed"
    },
    "tags": []
   },
   "outputs": [
    {
     "data": {
      "text/plain": [
       "array([[<Axes: title={'center': 'accuracy'}, xlabel='majmin'>,\n",
       "        <Axes: title={'center': 'balanced accuracy'}, xlabel='majmin'>,\n",
       "        <Axes: title={'center': 'f1'}, xlabel='majmin'>],\n",
       "       [<Axes: title={'center': 'precision'}, xlabel='majmin'>,\n",
       "        <Axes: title={'center': 'false positive rate'}, xlabel='majmin'>,\n",
       "        <Axes: title={'center': 'false negative rate'}, xlabel='majmin'>],\n",
       "       [<Axes: title={'center': 'selection rate'}, xlabel='majmin'>,\n",
       "        <Axes: title={'center': 'count'}, xlabel='majmin'>,\n",
       "        <Axes: xlabel='majmin'>]], dtype=object)"
      ]
     },
     "execution_count": 61,
     "metadata": {},
     "output_type": "execute_result"
    },
    {
     "data": {
      "image/png": "[encoded data removed]",
      "text/plain": [
       "<Figure size 1200x800 with 9 Axes>"
      ]
     },
     "metadata": {},
     "output_type": "display_data"
    }
   ],
   "source": [
    "# In a graphic\n",
    "metric_frame.by_group.plot.bar(\n",
    "    subplots=True,\n",
    "    layout=[3, 3],\n",
    "    legend=False,\n",
    "    figsize=[12, 8],\n",
    "    title=\"Show all metrics\",\n",
    ")"
   ]
  },
  {
   "cell_type": "markdown",
   "id": "b2e433ae",
   "metadata": {
    "papermill": {
     "duration": 0.013702,
     "end_time": "2025-08-19T19:05:35.689620",
     "exception": false,
     "start_time": "2025-08-19T19:05:35.675918",
     "status": "completed"
    },
    "tags": []
   },
   "source": [
    "# Final Output"
   ]
  },
  {
   "cell_type": "code",
   "execution_count": 62,
   "id": "3871301e",
   "metadata": {
    "execution": {
     "iopub.execute_input": "2025-08-19T19:05:35.720208Z",
     "iopub.status.busy": "2025-08-19T19:05:35.718828Z",
     "iopub.status.idle": "2025-08-19T19:05:35.730554Z",
     "shell.execute_reply": "2025-08-19T19:05:35.729706Z"
    },
    "papermill": {
     "duration": 0.034752,
     "end_time": "2025-08-19T19:05:35.738074",
     "exception": false,
     "start_time": "2025-08-19T19:05:35.703322",
     "status": "completed"
    },
    "tags": []
   },
   "outputs": [
    {
     "data": {
      "text/plain": [
       "4"
      ]
     },
     "execution_count": 62,
     "metadata": {},
     "output_type": "execute_result"
    }
   ],
   "source": [
    "sub_universes = universe_analysis.generate_sub_universes()\n",
    "len(sub_universes)"
   ]
  },
  {
   "cell_type": "code",
   "execution_count": 63,
   "id": "d9cfdaca",
   "metadata": {
    "execution": {
     "iopub.execute_input": "2025-08-19T19:05:35.769464Z",
     "iopub.status.busy": "2025-08-19T19:05:35.768008Z",
     "iopub.status.idle": "2025-08-19T19:05:35.778143Z",
     "shell.execute_reply": "2025-08-19T19:05:35.776446Z"
    },
    "papermill": {
     "duration": 0.027278,
     "end_time": "2025-08-19T19:05:35.779728",
     "exception": false,
     "start_time": "2025-08-19T19:05:35.752450",
     "status": "completed"
    },
    "tags": []
   },
   "outputs": [],
   "source": [
    "def filter_sub_universe_data(sub_universe, org_test):\n",
    "    # Keep all rows — no filtering\n",
    "    keep_rows_mask = np.ones(org_test.shape[0], dtype=bool)\n",
    "\n",
    "    print(f\"[INFO] Keeping all rows: {keep_rows_mask.sum()} rows retained.\")\n",
    "    return keep_rows_mask"
   ]
  },
  {
   "cell_type": "code",
   "execution_count": 64,
   "id": "2bc31ac1",
   "metadata": {
    "execution": {
     "iopub.execute_input": "2025-08-19T19:05:35.814237Z",
     "iopub.status.busy": "2025-08-19T19:05:35.813088Z",
     "iopub.status.idle": "2025-08-19T19:05:42.765390Z",
     "shell.execute_reply": "2025-08-19T19:05:42.764228Z"
    },
    "papermill": {
     "duration": 6.968894,
     "end_time": "2025-08-19T19:05:42.766781",
     "exception": false,
     "start_time": "2025-08-19T19:05:35.797887",
     "status": "completed"
    },
    "tags": []
   },
   "outputs": [
    {
     "name": "stdout",
     "output_type": "stream",
     "text": [
      "Stopping execution_time clock.\n",
      "[INFO] Keeping all rows: 89710 rows retained.\n"
     ]
    },
    {
     "name": "stdout",
     "output_type": "stream",
     "text": [
      "[INFO] Keeping all rows: 89710 rows retained.\n"
     ]
    },
    {
     "name": "stdout",
     "output_type": "stream",
     "text": [
      "[INFO] Keeping all rows: 89710 rows retained.\n"
     ]
    },
    {
     "name": "stdout",
     "output_type": "stream",
     "text": [
      "[INFO] Keeping all rows: 89710 rows retained.\n"
     ]
    },
    {
     "data": {
      "text/html": [
       "<div>\n",
       "<style scoped>\n",
       "    .dataframe tbody tr th:only-of-type {\n",
       "        vertical-align: middle;\n",
       "    }\n",
       "\n",
       "    .dataframe tbody tr th {\n",
       "        vertical-align: top;\n",
       "    }\n",
       "\n",
       "    .dataframe thead th {\n",
       "        text-align: right;\n",
       "    }\n",
       "</style>\n",
       "<table border=\"1\" class=\"dataframe\">\n",
       "  <thead>\n",
       "    <tr style=\"text-align: right;\">\n",
       "      <th></th>\n",
       "      <th>run_no</th>\n",
       "      <th>universe_id</th>\n",
       "      <th>universe_settings</th>\n",
       "      <th>execution_time</th>\n",
       "      <th>test_size_n</th>\n",
       "      <th>test_size_frac</th>\n",
       "      <th>fair_main_equalized_odds_difference</th>\n",
       "      <th>fair_main_equalized_odds_ratio</th>\n",
       "      <th>fair_main_demographic_parity_difference</th>\n",
       "      <th>fair_main_demographic_parity_ratio</th>\n",
       "      <th>...</th>\n",
       "      <th>perf_grp_precision_0</th>\n",
       "      <th>perf_grp_precision_1</th>\n",
       "      <th>perf_grp_false positive rate_0</th>\n",
       "      <th>perf_grp_false positive rate_1</th>\n",
       "      <th>perf_grp_false negative rate_0</th>\n",
       "      <th>perf_grp_false negative rate_1</th>\n",
       "      <th>perf_grp_selection rate_0</th>\n",
       "      <th>perf_grp_selection rate_1</th>\n",
       "      <th>perf_grp_count_0</th>\n",
       "      <th>perf_grp_count_1</th>\n",
       "    </tr>\n",
       "  </thead>\n",
       "  <tbody>\n",
       "    <tr>\n",
       "      <th>0</th>\n",
       "      <td>3</td>\n",
       "      <td>1f6a1f3252941349178aca208d5f5ea4</td>\n",
       "      <td>{\"cutoff\": \"quantile_0.1\", \"eval_fairness_grou...</td>\n",
       "      <td>23.367055</td>\n",
       "      <td>89710</td>\n",
       "      <td>1.0</td>\n",
       "      <td>0.052736</td>\n",
       "      <td>0.943402</td>\n",
       "      <td>0.047799</td>\n",
       "      <td>0.948979</td>\n",
       "      <td>...</td>\n",
       "      <td>NaN</td>\n",
       "      <td>NaN</td>\n",
       "      <td>NaN</td>\n",
       "      <td>NaN</td>\n",
       "      <td>NaN</td>\n",
       "      <td>NaN</td>\n",
       "      <td>NaN</td>\n",
       "      <td>NaN</td>\n",
       "      <td>NaN</td>\n",
       "      <td>NaN</td>\n",
       "    </tr>\n",
       "    <tr>\n",
       "      <th>0</th>\n",
       "      <td>3</td>\n",
       "      <td>1f6a1f3252941349178aca208d5f5ea4</td>\n",
       "      <td>{\"cutoff\": \"quantile_0.1\", \"eval_fairness_grou...</td>\n",
       "      <td>23.367055</td>\n",
       "      <td>89710</td>\n",
       "      <td>1.0</td>\n",
       "      <td>0.052736</td>\n",
       "      <td>0.943402</td>\n",
       "      <td>0.047799</td>\n",
       "      <td>0.948979</td>\n",
       "      <td>...</td>\n",
       "      <td>0.120096</td>\n",
       "      <td>0.141928</td>\n",
       "      <td>0.931763</td>\n",
       "      <td>0.879027</td>\n",
       "      <td>0.024071</td>\n",
       "      <td>0.045077</td>\n",
       "      <td>0.936855</td>\n",
       "      <td>0.889056</td>\n",
       "      <td>20540.0</td>\n",
       "      <td>69170.0</td>\n",
       "    </tr>\n",
       "    <tr>\n",
       "      <th>0</th>\n",
       "      <td>3</td>\n",
       "      <td>1f6a1f3252941349178aca208d5f5ea4</td>\n",
       "      <td>{\"cutoff\": \"quantile_0.25\", \"eval_fairness_gro...</td>\n",
       "      <td>23.367055</td>\n",
       "      <td>89710</td>\n",
       "      <td>1.0</td>\n",
       "      <td>0.136486</td>\n",
       "      <td>0.836688</td>\n",
       "      <td>0.123640</td>\n",
       "      <td>0.853736</td>\n",
       "      <td>...</td>\n",
       "      <td>NaN</td>\n",
       "      <td>NaN</td>\n",
       "      <td>NaN</td>\n",
       "      <td>NaN</td>\n",
       "      <td>NaN</td>\n",
       "      <td>NaN</td>\n",
       "      <td>NaN</td>\n",
       "      <td>NaN</td>\n",
       "      <td>NaN</td>\n",
       "      <td>NaN</td>\n",
       "    </tr>\n",
       "    <tr>\n",
       "      <th>0</th>\n",
       "      <td>3</td>\n",
       "      <td>1f6a1f3252941349178aca208d5f5ea4</td>\n",
       "      <td>{\"cutoff\": \"quantile_0.25\", \"eval_fairness_gro...</td>\n",
       "      <td>23.367055</td>\n",
       "      <td>89710</td>\n",
       "      <td>1.0</td>\n",
       "      <td>0.136486</td>\n",
       "      <td>0.836688</td>\n",
       "      <td>0.123640</td>\n",
       "      <td>0.853736</td>\n",
       "      <td>...</td>\n",
       "      <td>0.125324</td>\n",
       "      <td>0.159118</td>\n",
       "      <td>0.835736</td>\n",
       "      <td>0.699250</td>\n",
       "      <td>0.081081</td>\n",
       "      <td>0.130963</td>\n",
       "      <td>0.845326</td>\n",
       "      <td>0.721686</td>\n",
       "      <td>20540.0</td>\n",
       "      <td>69170.0</td>\n",
       "    </tr>\n",
       "  </tbody>\n",
       "</table>\n",
       "<p>4 rows × 50 columns</p>\n",
       "</div>"
      ],
      "text/plain": [
       "  run_no                       universe_id  \\\n",
       "0      3  1f6a1f3252941349178aca208d5f5ea4   \n",
       "0      3  1f6a1f3252941349178aca208d5f5ea4   \n",
       "0      3  1f6a1f3252941349178aca208d5f5ea4   \n",
       "0      3  1f6a1f3252941349178aca208d5f5ea4   \n",
       "\n",
       "                                   universe_settings  execution_time  \\\n",
       "0  {\"cutoff\": \"quantile_0.1\", \"eval_fairness_grou...       23.367055   \n",
       "0  {\"cutoff\": \"quantile_0.1\", \"eval_fairness_grou...       23.367055   \n",
       "0  {\"cutoff\": \"quantile_0.25\", \"eval_fairness_gro...       23.367055   \n",
       "0  {\"cutoff\": \"quantile_0.25\", \"eval_fairness_gro...       23.367055   \n",
       "\n",
       "   test_size_n  test_size_frac  fair_main_equalized_odds_difference  \\\n",
       "0        89710             1.0                             0.052736   \n",
       "0        89710             1.0                             0.052736   \n",
       "0        89710             1.0                             0.136486   \n",
       "0        89710             1.0                             0.136486   \n",
       "\n",
       "   fair_main_equalized_odds_ratio  fair_main_demographic_parity_difference  \\\n",
       "0                        0.943402                                 0.047799   \n",
       "0                        0.943402                                 0.047799   \n",
       "0                        0.836688                                 0.123640   \n",
       "0                        0.836688                                 0.123640   \n",
       "\n",
       "   fair_main_demographic_parity_ratio  ...  perf_grp_precision_0  \\\n",
       "0                            0.948979  ...                   NaN   \n",
       "0                            0.948979  ...              0.120096   \n",
       "0                            0.853736  ...                   NaN   \n",
       "0                            0.853736  ...              0.125324   \n",
       "\n",
       "   perf_grp_precision_1  perf_grp_false positive rate_0  \\\n",
       "0                   NaN                             NaN   \n",
       "0              0.141928                        0.931763   \n",
       "0                   NaN                             NaN   \n",
       "0              0.159118                        0.835736   \n",
       "\n",
       "   perf_grp_false positive rate_1  perf_grp_false negative rate_0  \\\n",
       "0                             NaN                             NaN   \n",
       "0                        0.879027                        0.024071   \n",
       "0                             NaN                             NaN   \n",
       "0                        0.699250                        0.081081   \n",
       "\n",
       "   perf_grp_false negative rate_1  perf_grp_selection rate_0  \\\n",
       "0                             NaN                        NaN   \n",
       "0                        0.045077                   0.936855   \n",
       "0                             NaN                        NaN   \n",
       "0                        0.130963                   0.845326   \n",
       "\n",
       "   perf_grp_selection rate_1  perf_grp_count_0  perf_grp_count_1  \n",
       "0                        NaN               NaN               NaN  \n",
       "0                   0.889056           20540.0           69170.0  \n",
       "0                        NaN               NaN               NaN  \n",
       "0                   0.721686           20540.0           69170.0  \n",
       "\n",
       "[4 rows x 50 columns]"
      ]
     },
     "execution_count": 64,
     "metadata": {},
     "output_type": "execute_result"
    }
   ],
   "source": [
    "final_output = universe_analysis.generate_final_output(\n",
    "    y_pred_prob=probs_test,\n",
    "    y_test=y_true,\n",
    "    org_test=org_test,\n",
    "    filter_data=filter_sub_universe_data,\n",
    "    cp_metrics_df=cp_metrics_df,\n",
    "    save=True,\n",
    ")\n",
    "final_output"
   ]
  },
  {
   "cell_type": "code",
   "execution_count": null,
   "id": "8b80a1ff",
   "metadata": {
    "papermill": {
     "duration": 0.016022,
     "end_time": "2025-08-19T19:05:42.819970",
     "exception": false,
     "start_time": "2025-08-19T19:05:42.803948",
     "status": "completed"
    },
    "tags": []
   },
   "outputs": [],
   "source": []
  },
  {
   "cell_type": "code",
   "execution_count": null,
   "id": "275c9fad",
   "metadata": {
    "papermill": {
     "duration": 0.014784,
     "end_time": "2025-08-19T19:05:42.849950",
     "exception": false,
     "start_time": "2025-08-19T19:05:42.835166",
     "status": "completed"
    },
    "tags": []
   },
   "outputs": [],
   "source": []
  }
 ],
 "metadata": {
  "celltoolbar": "Tags",
  "kernelspec": {
   "display_name": "Python (CMA Fairness)",
   "language": "python",
   "name": "cma_fair_env"
  },
  "language_info": {
   "codemirror_mode": {
    "name": "ipython",
    "version": 3
   },
   "file_extension": ".py",
   "mimetype": "text/x-python",
   "name": "python",
   "nbconvert_exporter": "python",
   "pygments_lexer": "ipython3",
   "version": "3.10.12"
  },
  "papermill": {
   "default_parameters": {},
   "duration": 34.405814,
   "end_time": "2025-08-19T19:05:43.891650",
   "environment_variables": {},
   "exception": null,
   "input_path": "universe_analysis.ipynb",
   "output_path": "output/runs/3/notebooks/m_3-1f6a1f3252941349178aca208d5f5ea4.ipynb",
   "parameters": {
    "output_dir": "output",
    "run_no": "3",
    "seed": "2023",
    "universe": "{\"cutoff\": [\"quantile_0.1\", \"quantile_0.25\"], \"eval_fairness_grouping\": [\"majority-minority\", \"nationality-all\"], \"exclude_features\": \"age\", \"exclude_subgroups\": \"drop-non-german\", \"model\": \"logreg\", \"scale\": \"scale\", \"training_size\": \"1k\", \"training_year\": \"2010_14\"}",
    "universe_id": "1f6a1f3252941349178aca208d5f5ea4"
   },
   "start_time": "2025-08-19T19:05:09.485836",
   "version": "2.6.0"
  }
 },
 "nbformat": 4,
 "nbformat_minor": 5
}