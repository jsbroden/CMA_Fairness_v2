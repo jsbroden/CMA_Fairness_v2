{
 "cells": [
  {
   "cell_type": "markdown",
   "id": "ef23dbb3",
   "metadata": {
    "papermill": {
     "duration": 0.009874,
     "end_time": "2025-08-19T18:45:00.206488",
     "exception": false,
     "start_time": "2025-08-19T18:45:00.196614",
     "status": "completed"
    },
    "tags": []
   },
   "source": [
    "# Setup"
   ]
  },
  {
   "cell_type": "code",
   "execution_count": 1,
   "id": "0bc8e7dc",
   "metadata": {
    "execution": {
     "iopub.execute_input": "2025-08-19T18:45:00.227826Z",
     "iopub.status.busy": "2025-08-19T18:45:00.226005Z",
     "iopub.status.idle": "2025-08-19T18:45:00.244992Z",
     "shell.execute_reply": "2025-08-19T18:45:00.243865Z"
    },
    "papermill": {
     "duration": 0.031133,
     "end_time": "2025-08-19T18:45:00.246574",
     "exception": false,
     "start_time": "2025-08-19T18:45:00.215441",
     "status": "completed"
    },
    "tags": []
   },
   "outputs": [
    {
     "name": "stdout",
     "output_type": "stream",
     "text": [
      "/dss/dsshome1/0C/ra93lal2/cma/CMA_Fairness_v2\n"
     ]
    },
    {
     "name": "stderr",
     "output_type": "stream",
     "text": [
      "/dss/dsshome1/0C/ra93lal2/.local/share/virtualenvs/CMA_Fairness_v2-3j10GkSs/lib/python3.10/site-packages/IPython/core/magics/osm.py:393: UserWarning: This is now an optional IPython functionality, using bookmarks requires you to install the `pickleshare` library.\n",
      "  bkms = self.shell.db.get('bookmarks', {})\n",
      "/dss/dsshome1/0C/ra93lal2/.local/share/virtualenvs/CMA_Fairness_v2-3j10GkSs/lib/python3.10/site-packages/IPython/core/magics/osm.py:417: UserWarning: This is now an optional IPython functionality, setting dhist requires you to install the `pickleshare` library.\n",
      "  self.shell.db['dhist'] = compress_dhist(dhist)[-100:]\n"
     ]
    }
   ],
   "source": [
    "%cd ~/cma/CMA_Fairness_v2"
   ]
  },
  {
   "cell_type": "markdown",
   "id": "9d235661",
   "metadata": {
    "papermill": {
     "duration": 0.009937,
     "end_time": "2025-08-19T18:45:00.271462",
     "exception": false,
     "start_time": "2025-08-19T18:45:00.261525",
     "status": "completed"
    },
    "tags": []
   },
   "source": [
    "The following cell holds the definition of our parameters, these values can be overriden by rendering the with e.g. the following command:\n",
    "\n",
    "papermill -p alpha 0.2 -p ratio 0.3 universe_analysis.ipynb output/test_run.ipynb"
   ]
  },
  {
   "cell_type": "code",
   "execution_count": 2,
   "id": "4a789d8e",
   "metadata": {
    "execution": {
     "iopub.execute_input": "2025-08-19T18:45:00.294295Z",
     "iopub.status.busy": "2025-08-19T18:45:00.290513Z",
     "iopub.status.idle": "2025-08-19T18:45:00.307637Z",
     "shell.execute_reply": "2025-08-19T18:45:00.306394Z"
    },
    "papermill": {
     "duration": 0.029295,
     "end_time": "2025-08-19T18:45:00.309390",
     "exception": false,
     "start_time": "2025-08-19T18:45:00.280095",
     "status": "completed"
    },
    "tags": []
   },
   "outputs": [
    {
     "name": "stdout",
     "output_type": "stream",
     "text": [
      "Current working directory: /dss/dsshome1/0C/ra93lal2/cma/CMA_Fairness_v2\n"
     ]
    }
   ],
   "source": [
    "import os\n",
    "print(\"Current working directory:\", os.getcwd())"
   ]
  },
  {
   "cell_type": "code",
   "execution_count": 3,
   "id": "4132aaed",
   "metadata": {
    "execution": {
     "iopub.execute_input": "2025-08-19T18:45:00.335306Z",
     "iopub.status.busy": "2025-08-19T18:45:00.335000Z",
     "iopub.status.idle": "2025-08-19T18:45:00.340930Z",
     "shell.execute_reply": "2025-08-19T18:45:00.339844Z"
    },
    "papermill": {
     "duration": 0.018365,
     "end_time": "2025-08-19T18:45:00.342096",
     "exception": false,
     "start_time": "2025-08-19T18:45:00.323731",
     "status": "completed"
    },
    "tags": [
     "parameters"
    ]
   },
   "outputs": [],
   "source": [
    "run_no = 0\n",
    "universe_id = \"test\"\n",
    "universe = {\n",
    "    \"training_size\": \"5k\", # \"25k\", \"5k\", \"1k\"\n",
    "    \"training_year\": \"2012_14\", # \"2014\", \"2012_14\", \"2010_14\"\n",
    "    \"scale\": \"scale\", # \"scale\", \"do-not-scale\",\n",
    "    \"model\": \"elasticnet\", # \"logreg\", \"penalized_logreg\", \"rf\", \"gbm\", \"elasticnet\"\n",
    "    \"cutoff\": [\"quantile_0.15\", \"quantile_0.30\"],\n",
    "    \"exclude_features\": \"age\", # \"none\", \"nationality\", \"sex\", \"nationality-sex\", \"age\"\n",
    "    \"exclude_subgroups\": \"drop-non-german\", # \"keep-all\", \"drop-non-german\"\n",
    "    \"eval_fairness_grouping\": [\"majority-minority\", \"nationality-all\"]\n",
    "}\n",
    "\n",
    "output_dir=\"./output\"\n",
    "seed=0"
   ]
  },
  {
   "cell_type": "code",
   "execution_count": 4,
   "id": "e65df08a",
   "metadata": {
    "execution": {
     "iopub.execute_input": "2025-08-19T18:45:00.361198Z",
     "iopub.status.busy": "2025-08-19T18:45:00.360884Z",
     "iopub.status.idle": "2025-08-19T18:45:00.365950Z",
     "shell.execute_reply": "2025-08-19T18:45:00.364934Z"
    },
    "papermill": {
     "duration": 0.016048,
     "end_time": "2025-08-19T18:45:00.367217",
     "exception": false,
     "start_time": "2025-08-19T18:45:00.351169",
     "status": "completed"
    },
    "tags": [
     "injected-parameters"
    ]
   },
   "outputs": [],
   "source": [
    "# Parameters\n",
    "universe_id = \"925ac49ed280ef0f645870fa2279e56c\"\n",
    "run_no = \"3\"\n",
    "universe = \"{\\\"cutoff\\\": [\\\"quantile_0.1\\\", \\\"quantile_0.25\\\"], \\\"eval_fairness_grouping\\\": [\\\"majority-minority\\\", \\\"nationality-all\\\"], \\\"exclude_features\\\": \\\"age\\\", \\\"exclude_subgroups\\\": \\\"drop-non-german\\\", \\\"model\\\": \\\"logreg\\\", \\\"scale\\\": \\\"do-not-scale\\\", \\\"training_size\\\": \\\"5k\\\", \\\"training_year\\\": \\\"2010_14\\\"}\"\n",
    "output_dir = \"output\"\n",
    "seed = \"2023\"\n"
   ]
  },
  {
   "cell_type": "code",
   "execution_count": 5,
   "id": "a5d7941f",
   "metadata": {
    "execution": {
     "iopub.execute_input": "2025-08-19T18:45:00.388466Z",
     "iopub.status.busy": "2025-08-19T18:45:00.388174Z",
     "iopub.status.idle": "2025-08-19T18:45:00.392136Z",
     "shell.execute_reply": "2025-08-19T18:45:00.391454Z"
    },
    "papermill": {
     "duration": 0.017298,
     "end_time": "2025-08-19T18:45:00.395472",
     "exception": false,
     "start_time": "2025-08-19T18:45:00.378174",
     "status": "completed"
    },
    "tags": []
   },
   "outputs": [],
   "source": [
    "import json\n",
    "if isinstance(universe, str):\n",
    "    universe = json.loads(universe)"
   ]
  },
  {
   "cell_type": "code",
   "execution_count": 6,
   "id": "7076ccb1",
   "metadata": {
    "execution": {
     "iopub.execute_input": "2025-08-19T18:45:00.421785Z",
     "iopub.status.busy": "2025-08-19T18:45:00.420865Z",
     "iopub.status.idle": "2025-08-19T18:45:00.479802Z",
     "shell.execute_reply": "2025-08-19T18:45:00.478843Z"
    },
    "papermill": {
     "duration": 0.072666,
     "end_time": "2025-08-19T18:45:00.482687",
     "exception": false,
     "start_time": "2025-08-19T18:45:00.410021",
     "status": "completed"
    },
    "tags": []
   },
   "outputs": [],
   "source": [
    "# Auto-reload the custom package\n",
    "%load_ext autoreload\n",
    "%autoreload 1\n",
    "%aimport fairness_multiverse"
   ]
  },
  {
   "cell_type": "code",
   "execution_count": 7,
   "id": "94c8eb93",
   "metadata": {
    "execution": {
     "iopub.execute_input": "2025-08-19T18:45:00.517019Z",
     "iopub.status.busy": "2025-08-19T18:45:00.515930Z",
     "iopub.status.idle": "2025-08-19T18:45:02.099708Z",
     "shell.execute_reply": "2025-08-19T18:45:02.098907Z"
    },
    "papermill": {
     "duration": 1.599865,
     "end_time": "2025-08-19T18:45:02.101375",
     "exception": false,
     "start_time": "2025-08-19T18:45:00.501510",
     "status": "completed"
    },
    "tags": []
   },
   "outputs": [],
   "source": [
    "from fairness_multiverse.universe import UniverseAnalysis\n",
    "\n",
    "universe_analysis = UniverseAnalysis(\n",
    "    run_no = run_no,\n",
    "    universe_id = universe_id,\n",
    "    universe = universe,\n",
    "    output_dir=output_dir,\n",
    ")"
   ]
  },
  {
   "cell_type": "code",
   "execution_count": 8,
   "id": "2a6381cf",
   "metadata": {
    "execution": {
     "iopub.execute_input": "2025-08-19T18:45:02.122966Z",
     "iopub.status.busy": "2025-08-19T18:45:02.122483Z",
     "iopub.status.idle": "2025-08-19T18:45:02.127694Z",
     "shell.execute_reply": "2025-08-19T18:45:02.126982Z"
    },
    "papermill": {
     "duration": 0.021639,
     "end_time": "2025-08-19T18:45:02.133707",
     "exception": false,
     "start_time": "2025-08-19T18:45:02.112068",
     "status": "completed"
    },
    "tags": []
   },
   "outputs": [
    {
     "name": "stdout",
     "output_type": "stream",
     "text": [
      "Using Seed: 2023\n"
     ]
    }
   ],
   "source": [
    "import numpy as np\n",
    "parsed_seed = int(seed)\n",
    "np.random.seed(parsed_seed)\n",
    "print(f\"Using Seed: {parsed_seed}\")"
   ]
  },
  {
   "cell_type": "markdown",
   "id": "b6e958b4",
   "metadata": {
    "papermill": {
     "duration": 0.011055,
     "end_time": "2025-08-19T18:45:02.164060",
     "exception": false,
     "start_time": "2025-08-19T18:45:02.153005",
     "status": "completed"
    },
    "tags": []
   },
   "source": [
    "# Loading Data"
   ]
  },
  {
   "cell_type": "code",
   "execution_count": 9,
   "id": "98701482",
   "metadata": {
    "execution": {
     "iopub.execute_input": "2025-08-19T18:45:02.185764Z",
     "iopub.status.busy": "2025-08-19T18:45:02.184604Z",
     "iopub.status.idle": "2025-08-19T18:45:12.284227Z",
     "shell.execute_reply": "2025-08-19T18:45:12.281338Z"
    },
    "papermill": {
     "duration": 10.112532,
     "end_time": "2025-08-19T18:45:12.285861",
     "exception": false,
     "start_time": "2025-08-19T18:45:02.173329",
     "status": "completed"
    },
    "tags": []
   },
   "outputs": [
    {
     "name": "stdout",
     "output_type": "stream",
     "text": [
      "Loading SIAB data from cache: data/siab_cached.csv.gz\n"
     ]
    },
    {
     "name": "stdout",
     "output_type": "stream",
     "text": [
      "(643690, 164)\n"
     ]
    }
   ],
   "source": [
    "from pathlib import Path\n",
    "import pandas as pd\n",
    "\n",
    "# File paths\n",
    "raw_file = Path(\"data/raw/siab.csv\")\n",
    "cache_file = Path(\"data/siab_cached.csv.gz\")\n",
    "\n",
    "# Ensure cache directory exists\n",
    "cache_file.parent.mkdir(parents=True, exist_ok=True)\n",
    "\n",
    "# Load with simple caching\n",
    "if cache_file.exists():\n",
    "    print(f\"Loading SIAB data from cache: {cache_file}\")\n",
    "    siab = pd.read_csv(cache_file, compression='gzip')\n",
    "else:\n",
    "    print(f\"Cache not found. Reading raw SIAB data: {raw_file}\")\n",
    "    siab = pd.read_csv(raw_file)\n",
    "    siab.to_csv(cache_file, index=False, compression='gzip')\n",
    "    print(f\"Cached SIAB data to: {cache_file}\")\n",
    "\n",
    "print(siab.shape)"
   ]
  },
  {
   "cell_type": "code",
   "execution_count": 10,
   "id": "058d2abb",
   "metadata": {
    "execution": {
     "iopub.execute_input": "2025-08-19T18:45:12.310166Z",
     "iopub.status.busy": "2025-08-19T18:45:12.309484Z",
     "iopub.status.idle": "2025-08-19T18:45:12.436216Z",
     "shell.execute_reply": "2025-08-19T18:45:12.435494Z"
    },
    "papermill": {
     "duration": 0.141978,
     "end_time": "2025-08-19T18:45:12.440193",
     "exception": false,
     "start_time": "2025-08-19T18:45:12.298215",
     "status": "completed"
    },
    "tags": []
   },
   "outputs": [
    {
     "data": {
      "text/html": [
       "<div>\n",
       "<style scoped>\n",
       "    .dataframe tbody tr th:only-of-type {\n",
       "        vertical-align: middle;\n",
       "    }\n",
       "\n",
       "    .dataframe tbody tr th {\n",
       "        vertical-align: top;\n",
       "    }\n",
       "\n",
       "    .dataframe thead th {\n",
       "        text-align: right;\n",
       "    }\n",
       "</style>\n",
       "<table border=\"1\" class=\"dataframe\">\n",
       "  <thead>\n",
       "    <tr style=\"text-align: right;\">\n",
       "      <th></th>\n",
       "      <th>persnr</th>\n",
       "      <th>year</th>\n",
       "      <th>nrEntry</th>\n",
       "      <th>ltue</th>\n",
       "      <th>employed_before</th>\n",
       "      <th>receipt_leh_before</th>\n",
       "      <th>receipt_lhg_before</th>\n",
       "      <th>se_before</th>\n",
       "      <th>ASU_notue_seeking_before</th>\n",
       "      <th>ASU_other_before</th>\n",
       "      <th>...</th>\n",
       "      <th>minijob_tot_dur_byage</th>\n",
       "      <th>ft_tot_dur_byage</th>\n",
       "      <th>befrist_tot_dur_byage</th>\n",
       "      <th>leih_tot_dur_byage</th>\n",
       "      <th>LHG_tot_dur_byage</th>\n",
       "      <th>LEH_tot_dur_byage</th>\n",
       "      <th>almp_tot_dur_byage</th>\n",
       "      <th>almp_aw_tot_dur_byage</th>\n",
       "      <th>se_tot_dur_byage</th>\n",
       "      <th>seeking1_tot_dur_byage</th>\n",
       "    </tr>\n",
       "  </thead>\n",
       "  <tbody>\n",
       "    <tr>\n",
       "      <th>0</th>\n",
       "      <td>7</td>\n",
       "      <td>2015</td>\n",
       "      <td>1</td>\n",
       "      <td>0</td>\n",
       "      <td>1</td>\n",
       "      <td>0</td>\n",
       "      <td>0</td>\n",
       "      <td>0</td>\n",
       "      <td>1</td>\n",
       "      <td>0</td>\n",
       "      <td>...</td>\n",
       "      <td>0.000000</td>\n",
       "      <td>0.000000</td>\n",
       "      <td>15.043478</td>\n",
       "      <td>0.000000</td>\n",
       "      <td>0.000000</td>\n",
       "      <td>0.000000</td>\n",
       "      <td>0.000000</td>\n",
       "      <td>0.000000</td>\n",
       "      <td>0.000000</td>\n",
       "      <td>0.000000</td>\n",
       "    </tr>\n",
       "    <tr>\n",
       "      <th>1</th>\n",
       "      <td>18</td>\n",
       "      <td>2010</td>\n",
       "      <td>1</td>\n",
       "      <td>1</td>\n",
       "      <td>0</td>\n",
       "      <td>0</td>\n",
       "      <td>0</td>\n",
       "      <td>0</td>\n",
       "      <td>0</td>\n",
       "      <td>0</td>\n",
       "      <td>...</td>\n",
       "      <td>0.000000</td>\n",
       "      <td>0.000000</td>\n",
       "      <td>0.000000</td>\n",
       "      <td>0.000000</td>\n",
       "      <td>0.000000</td>\n",
       "      <td>0.000000</td>\n",
       "      <td>0.000000</td>\n",
       "      <td>0.000000</td>\n",
       "      <td>0.000000</td>\n",
       "      <td>0.000000</td>\n",
       "    </tr>\n",
       "    <tr>\n",
       "      <th>2</th>\n",
       "      <td>18</td>\n",
       "      <td>2011</td>\n",
       "      <td>2</td>\n",
       "      <td>0</td>\n",
       "      <td>1</td>\n",
       "      <td>0</td>\n",
       "      <td>1</td>\n",
       "      <td>0</td>\n",
       "      <td>1</td>\n",
       "      <td>0</td>\n",
       "      <td>...</td>\n",
       "      <td>2.714286</td>\n",
       "      <td>2.714286</td>\n",
       "      <td>0.000000</td>\n",
       "      <td>0.000000</td>\n",
       "      <td>10.775510</td>\n",
       "      <td>0.000000</td>\n",
       "      <td>8.367347</td>\n",
       "      <td>0.000000</td>\n",
       "      <td>0.000000</td>\n",
       "      <td>9.836735</td>\n",
       "    </tr>\n",
       "    <tr>\n",
       "      <th>3</th>\n",
       "      <td>18</td>\n",
       "      <td>2012</td>\n",
       "      <td>3</td>\n",
       "      <td>0</td>\n",
       "      <td>1</td>\n",
       "      <td>0</td>\n",
       "      <td>1</td>\n",
       "      <td>0</td>\n",
       "      <td>1</td>\n",
       "      <td>0</td>\n",
       "      <td>...</td>\n",
       "      <td>4.200000</td>\n",
       "      <td>4.200000</td>\n",
       "      <td>0.000000</td>\n",
       "      <td>0.000000</td>\n",
       "      <td>12.100000</td>\n",
       "      <td>0.000000</td>\n",
       "      <td>9.400000</td>\n",
       "      <td>0.000000</td>\n",
       "      <td>0.000000</td>\n",
       "      <td>9.960000</td>\n",
       "    </tr>\n",
       "    <tr>\n",
       "      <th>4</th>\n",
       "      <td>18</td>\n",
       "      <td>2012</td>\n",
       "      <td>4</td>\n",
       "      <td>0</td>\n",
       "      <td>1</td>\n",
       "      <td>0</td>\n",
       "      <td>1</td>\n",
       "      <td>0</td>\n",
       "      <td>1</td>\n",
       "      <td>0</td>\n",
       "      <td>...</td>\n",
       "      <td>5.460000</td>\n",
       "      <td>5.460000</td>\n",
       "      <td>0.000000</td>\n",
       "      <td>0.000000</td>\n",
       "      <td>13.360000</td>\n",
       "      <td>0.000000</td>\n",
       "      <td>10.320000</td>\n",
       "      <td>0.000000</td>\n",
       "      <td>0.000000</td>\n",
       "      <td>10.280000</td>\n",
       "    </tr>\n",
       "    <tr>\n",
       "      <th>...</th>\n",
       "      <td>...</td>\n",
       "      <td>...</td>\n",
       "      <td>...</td>\n",
       "      <td>...</td>\n",
       "      <td>...</td>\n",
       "      <td>...</td>\n",
       "      <td>...</td>\n",
       "      <td>...</td>\n",
       "      <td>...</td>\n",
       "      <td>...</td>\n",
       "      <td>...</td>\n",
       "      <td>...</td>\n",
       "      <td>...</td>\n",
       "      <td>...</td>\n",
       "      <td>...</td>\n",
       "      <td>...</td>\n",
       "      <td>...</td>\n",
       "      <td>...</td>\n",
       "      <td>...</td>\n",
       "      <td>...</td>\n",
       "      <td>...</td>\n",
       "    </tr>\n",
       "    <tr>\n",
       "      <th>643685</th>\n",
       "      <td>1827860</td>\n",
       "      <td>2013</td>\n",
       "      <td>1</td>\n",
       "      <td>0</td>\n",
       "      <td>0</td>\n",
       "      <td>0</td>\n",
       "      <td>1</td>\n",
       "      <td>0</td>\n",
       "      <td>0</td>\n",
       "      <td>1</td>\n",
       "      <td>...</td>\n",
       "      <td>0.000000</td>\n",
       "      <td>0.000000</td>\n",
       "      <td>0.000000</td>\n",
       "      <td>0.000000</td>\n",
       "      <td>0.612903</td>\n",
       "      <td>0.000000</td>\n",
       "      <td>0.000000</td>\n",
       "      <td>0.000000</td>\n",
       "      <td>0.000000</td>\n",
       "      <td>0.000000</td>\n",
       "    </tr>\n",
       "    <tr>\n",
       "      <th>643686</th>\n",
       "      <td>1827860</td>\n",
       "      <td>2015</td>\n",
       "      <td>2</td>\n",
       "      <td>1</td>\n",
       "      <td>0</td>\n",
       "      <td>0</td>\n",
       "      <td>1</td>\n",
       "      <td>0</td>\n",
       "      <td>1</td>\n",
       "      <td>0</td>\n",
       "      <td>...</td>\n",
       "      <td>0.000000</td>\n",
       "      <td>0.000000</td>\n",
       "      <td>0.212121</td>\n",
       "      <td>0.212121</td>\n",
       "      <td>17.363636</td>\n",
       "      <td>0.000000</td>\n",
       "      <td>8.909091</td>\n",
       "      <td>0.000000</td>\n",
       "      <td>0.000000</td>\n",
       "      <td>7.121212</td>\n",
       "    </tr>\n",
       "    <tr>\n",
       "      <th>643687</th>\n",
       "      <td>1827860</td>\n",
       "      <td>2016</td>\n",
       "      <td>3</td>\n",
       "      <td>1</td>\n",
       "      <td>0</td>\n",
       "      <td>0</td>\n",
       "      <td>1</td>\n",
       "      <td>1</td>\n",
       "      <td>0</td>\n",
       "      <td>1</td>\n",
       "      <td>...</td>\n",
       "      <td>0.000000</td>\n",
       "      <td>0.000000</td>\n",
       "      <td>0.294118</td>\n",
       "      <td>0.205882</td>\n",
       "      <td>34.705882</td>\n",
       "      <td>0.000000</td>\n",
       "      <td>10.352941</td>\n",
       "      <td>1.705882</td>\n",
       "      <td>1.705882</td>\n",
       "      <td>23.911765</td>\n",
       "    </tr>\n",
       "    <tr>\n",
       "      <th>643688</th>\n",
       "      <td>1827869</td>\n",
       "      <td>2013</td>\n",
       "      <td>1</td>\n",
       "      <td>1</td>\n",
       "      <td>1</td>\n",
       "      <td>0</td>\n",
       "      <td>0</td>\n",
       "      <td>0</td>\n",
       "      <td>1</td>\n",
       "      <td>0</td>\n",
       "      <td>...</td>\n",
       "      <td>0.000000</td>\n",
       "      <td>0.000000</td>\n",
       "      <td>0.000000</td>\n",
       "      <td>0.000000</td>\n",
       "      <td>0.000000</td>\n",
       "      <td>0.525424</td>\n",
       "      <td>0.000000</td>\n",
       "      <td>0.000000</td>\n",
       "      <td>0.000000</td>\n",
       "      <td>0.000000</td>\n",
       "    </tr>\n",
       "    <tr>\n",
       "      <th>643689</th>\n",
       "      <td>1827869</td>\n",
       "      <td>2014</td>\n",
       "      <td>2</td>\n",
       "      <td>0</td>\n",
       "      <td>0</td>\n",
       "      <td>1</td>\n",
       "      <td>0</td>\n",
       "      <td>0</td>\n",
       "      <td>1</td>\n",
       "      <td>0</td>\n",
       "      <td>...</td>\n",
       "      <td>0.000000</td>\n",
       "      <td>0.666667</td>\n",
       "      <td>0.666667</td>\n",
       "      <td>0.000000</td>\n",
       "      <td>0.000000</td>\n",
       "      <td>8.950000</td>\n",
       "      <td>1.033333</td>\n",
       "      <td>0.083333</td>\n",
       "      <td>0.083333</td>\n",
       "      <td>8.133333</td>\n",
       "    </tr>\n",
       "  </tbody>\n",
       "</table>\n",
       "<p>643690 rows × 164 columns</p>\n",
       "</div>"
      ],
      "text/plain": [
       "         persnr  year  nrEntry  ltue  employed_before  receipt_leh_before  \\\n",
       "0             7  2015        1     0                1                   0   \n",
       "1            18  2010        1     1                0                   0   \n",
       "2            18  2011        2     0                1                   0   \n",
       "3            18  2012        3     0                1                   0   \n",
       "4            18  2012        4     0                1                   0   \n",
       "...         ...   ...      ...   ...              ...                 ...   \n",
       "643685  1827860  2013        1     0                0                   0   \n",
       "643686  1827860  2015        2     1                0                   0   \n",
       "643687  1827860  2016        3     1                0                   0   \n",
       "643688  1827869  2013        1     1                1                   0   \n",
       "643689  1827869  2014        2     0                0                   1   \n",
       "\n",
       "        receipt_lhg_before  se_before  ASU_notue_seeking_before  \\\n",
       "0                        0          0                         1   \n",
       "1                        0          0                         0   \n",
       "2                        1          0                         1   \n",
       "3                        1          0                         1   \n",
       "4                        1          0                         1   \n",
       "...                    ...        ...                       ...   \n",
       "643685                   1          0                         0   \n",
       "643686                   1          0                         1   \n",
       "643687                   1          1                         0   \n",
       "643688                   0          0                         1   \n",
       "643689                   0          0                         1   \n",
       "\n",
       "        ASU_other_before  ...  minijob_tot_dur_byage  ft_tot_dur_byage  \\\n",
       "0                      0  ...               0.000000          0.000000   \n",
       "1                      0  ...               0.000000          0.000000   \n",
       "2                      0  ...               2.714286          2.714286   \n",
       "3                      0  ...               4.200000          4.200000   \n",
       "4                      0  ...               5.460000          5.460000   \n",
       "...                  ...  ...                    ...               ...   \n",
       "643685                 1  ...               0.000000          0.000000   \n",
       "643686                 0  ...               0.000000          0.000000   \n",
       "643687                 1  ...               0.000000          0.000000   \n",
       "643688                 0  ...               0.000000          0.000000   \n",
       "643689                 0  ...               0.000000          0.666667   \n",
       "\n",
       "        befrist_tot_dur_byage  leih_tot_dur_byage  LHG_tot_dur_byage  \\\n",
       "0                   15.043478            0.000000           0.000000   \n",
       "1                    0.000000            0.000000           0.000000   \n",
       "2                    0.000000            0.000000          10.775510   \n",
       "3                    0.000000            0.000000          12.100000   \n",
       "4                    0.000000            0.000000          13.360000   \n",
       "...                       ...                 ...                ...   \n",
       "643685               0.000000            0.000000           0.612903   \n",
       "643686               0.212121            0.212121          17.363636   \n",
       "643687               0.294118            0.205882          34.705882   \n",
       "643688               0.000000            0.000000           0.000000   \n",
       "643689               0.666667            0.000000           0.000000   \n",
       "\n",
       "        LEH_tot_dur_byage  almp_tot_dur_byage  almp_aw_tot_dur_byage  \\\n",
       "0                0.000000            0.000000               0.000000   \n",
       "1                0.000000            0.000000               0.000000   \n",
       "2                0.000000            8.367347               0.000000   \n",
       "3                0.000000            9.400000               0.000000   \n",
       "4                0.000000           10.320000               0.000000   \n",
       "...                   ...                 ...                    ...   \n",
       "643685           0.000000            0.000000               0.000000   \n",
       "643686           0.000000            8.909091               0.000000   \n",
       "643687           0.000000           10.352941               1.705882   \n",
       "643688           0.525424            0.000000               0.000000   \n",
       "643689           8.950000            1.033333               0.083333   \n",
       "\n",
       "        se_tot_dur_byage  seeking1_tot_dur_byage  \n",
       "0               0.000000                0.000000  \n",
       "1               0.000000                0.000000  \n",
       "2               0.000000                9.836735  \n",
       "3               0.000000                9.960000  \n",
       "4               0.000000               10.280000  \n",
       "...                  ...                     ...  \n",
       "643685          0.000000                0.000000  \n",
       "643686          0.000000                7.121212  \n",
       "643687          1.705882               23.911765  \n",
       "643688          0.000000                0.000000  \n",
       "643689          0.083333                8.133333  \n",
       "\n",
       "[643690 rows x 164 columns]"
      ]
     },
     "execution_count": 10,
     "metadata": {},
     "output_type": "execute_result"
    }
   ],
   "source": [
    "siab"
   ]
  },
  {
   "cell_type": "markdown",
   "id": "1f87e805",
   "metadata": {
    "papermill": {
     "duration": 0.011562,
     "end_time": "2025-08-19T18:45:12.473552",
     "exception": false,
     "start_time": "2025-08-19T18:45:12.461990",
     "status": "completed"
    },
    "tags": []
   },
   "source": [
    "# Splitting Data and Setting Training Data Size"
   ]
  },
  {
   "cell_type": "code",
   "execution_count": 11,
   "id": "910ae358",
   "metadata": {
    "execution": {
     "iopub.execute_input": "2025-08-19T18:45:12.494837Z",
     "iopub.status.busy": "2025-08-19T18:45:12.494202Z",
     "iopub.status.idle": "2025-08-19T18:45:13.537982Z",
     "shell.execute_reply": "2025-08-19T18:45:13.537099Z"
    },
    "papermill": {
     "duration": 1.057793,
     "end_time": "2025-08-19T18:45:13.541095",
     "exception": false,
     "start_time": "2025-08-19T18:45:12.483302",
     "status": "completed"
    },
    "tags": []
   },
   "outputs": [],
   "source": [
    "from fairness_multiverse.universe import sample_by_year_size\n",
    "\n",
    "siab_train = sample_by_year_size(siab,\n",
    "                               training_year=universe[\"training_year\"],\n",
    "                               training_size=universe[\"training_size\"])"
   ]
  },
  {
   "cell_type": "code",
   "execution_count": 12,
   "id": "919c8ff5",
   "metadata": {
    "execution": {
     "iopub.execute_input": "2025-08-19T18:45:13.577558Z",
     "iopub.status.busy": "2025-08-19T18:45:13.576827Z",
     "iopub.status.idle": "2025-08-19T18:45:13.588901Z",
     "shell.execute_reply": "2025-08-19T18:45:13.587639Z"
    },
    "papermill": {
     "duration": 0.02711,
     "end_time": "2025-08-19T18:45:13.590300",
     "exception": false,
     "start_time": "2025-08-19T18:45:13.563190",
     "status": "completed"
    },
    "tags": []
   },
   "outputs": [
    {
     "data": {
      "text/plain": [
       "(5000, 164)"
      ]
     },
     "execution_count": 12,
     "metadata": {},
     "output_type": "execute_result"
    }
   ],
   "source": [
    "siab_train.shape"
   ]
  },
  {
   "cell_type": "code",
   "execution_count": 13,
   "id": "feb13bf4",
   "metadata": {
    "execution": {
     "iopub.execute_input": "2025-08-19T18:45:13.614835Z",
     "iopub.status.busy": "2025-08-19T18:45:13.613698Z",
     "iopub.status.idle": "2025-08-19T18:45:13.629261Z",
     "shell.execute_reply": "2025-08-19T18:45:13.628182Z"
    },
    "papermill": {
     "duration": 0.029512,
     "end_time": "2025-08-19T18:45:13.632082",
     "exception": false,
     "start_time": "2025-08-19T18:45:13.602570",
     "status": "completed"
    },
    "tags": []
   },
   "outputs": [
    {
     "data": {
      "text/plain": [
       "year\n",
       "2010    1000\n",
       "2011    1000\n",
       "2012    1000\n",
       "2013    1000\n",
       "2014    1000\n",
       "dtype: int64"
      ]
     },
     "metadata": {},
     "output_type": "display_data"
    }
   ],
   "source": [
    "display(siab_train.groupby(\"year\").size())"
   ]
  },
  {
   "cell_type": "code",
   "execution_count": 14,
   "id": "0997782f",
   "metadata": {
    "execution": {
     "iopub.execute_input": "2025-08-19T18:45:13.660826Z",
     "iopub.status.busy": "2025-08-19T18:45:13.659369Z",
     "iopub.status.idle": "2025-08-19T18:45:13.903982Z",
     "shell.execute_reply": "2025-08-19T18:45:13.903283Z"
    },
    "papermill": {
     "duration": 0.25842,
     "end_time": "2025-08-19T18:45:13.905997",
     "exception": false,
     "start_time": "2025-08-19T18:45:13.647577",
     "status": "completed"
    },
    "tags": []
   },
   "outputs": [],
   "source": [
    "#siab_train = siab_s[siab_s.year < 2015]\n",
    "siab_calib = siab[siab.year == 2015]\n",
    "siab_test = siab[siab.year == 2016]"
   ]
  },
  {
   "cell_type": "code",
   "execution_count": 15,
   "id": "2c1e4012",
   "metadata": {
    "execution": {
     "iopub.execute_input": "2025-08-19T18:45:13.937317Z",
     "iopub.status.busy": "2025-08-19T18:45:13.936531Z",
     "iopub.status.idle": "2025-08-19T18:45:14.113147Z",
     "shell.execute_reply": "2025-08-19T18:45:14.112135Z"
    },
    "papermill": {
     "duration": 0.191528,
     "end_time": "2025-08-19T18:45:14.115042",
     "exception": false,
     "start_time": "2025-08-19T18:45:13.923514",
     "status": "completed"
    },
    "tags": []
   },
   "outputs": [],
   "source": [
    "#siab_calib.shape"
   ]
  },
  {
   "cell_type": "code",
   "execution_count": 16,
   "id": "f66b54ca",
   "metadata": {
    "execution": {
     "iopub.execute_input": "2025-08-19T18:45:14.144562Z",
     "iopub.status.busy": "2025-08-19T18:45:14.143469Z",
     "iopub.status.idle": "2025-08-19T18:45:14.150729Z",
     "shell.execute_reply": "2025-08-19T18:45:14.149442Z"
    },
    "papermill": {
     "duration": 0.028768,
     "end_time": "2025-08-19T18:45:14.154837",
     "exception": false,
     "start_time": "2025-08-19T18:45:14.126069",
     "status": "completed"
    },
    "tags": []
   },
   "outputs": [],
   "source": [
    "#siab_test.shape"
   ]
  },
  {
   "cell_type": "code",
   "execution_count": 17,
   "id": "27e4384d",
   "metadata": {
    "execution": {
     "iopub.execute_input": "2025-08-19T18:45:14.185962Z",
     "iopub.status.busy": "2025-08-19T18:45:14.185604Z",
     "iopub.status.idle": "2025-08-19T18:45:14.201076Z",
     "shell.execute_reply": "2025-08-19T18:45:14.199631Z"
    },
    "papermill": {
     "duration": 0.02936,
     "end_time": "2025-08-19T18:45:14.202936",
     "exception": false,
     "start_time": "2025-08-19T18:45:14.173576",
     "status": "completed"
    },
    "tags": []
   },
   "outputs": [],
   "source": [
    "X_train = siab_train.iloc[:,4:164]\n",
    "y_train = siab_train.iloc[:, [3]]"
   ]
  },
  {
   "cell_type": "code",
   "execution_count": 18,
   "id": "08ee8389",
   "metadata": {
    "execution": {
     "iopub.execute_input": "2025-08-19T18:45:14.227548Z",
     "iopub.status.busy": "2025-08-19T18:45:14.227153Z",
     "iopub.status.idle": "2025-08-19T18:45:14.343980Z",
     "shell.execute_reply": "2025-08-19T18:45:14.343254Z"
    },
    "papermill": {
     "duration": 0.129754,
     "end_time": "2025-08-19T18:45:14.345624",
     "exception": false,
     "start_time": "2025-08-19T18:45:14.215870",
     "status": "completed"
    },
    "tags": []
   },
   "outputs": [],
   "source": [
    "X_calib = siab_calib.iloc[:,4:164]\n",
    "y_calib = siab_calib.iloc[:, [3]]"
   ]
  },
  {
   "cell_type": "code",
   "execution_count": 19,
   "id": "b7ff42e0",
   "metadata": {
    "execution": {
     "iopub.execute_input": "2025-08-19T18:45:14.369748Z",
     "iopub.status.busy": "2025-08-19T18:45:14.368071Z",
     "iopub.status.idle": "2025-08-19T18:45:14.424090Z",
     "shell.execute_reply": "2025-08-19T18:45:14.423349Z"
    },
    "papermill": {
     "duration": 0.069078,
     "end_time": "2025-08-19T18:45:14.425579",
     "exception": false,
     "start_time": "2025-08-19T18:45:14.356501",
     "status": "completed"
    },
    "tags": []
   },
   "outputs": [],
   "source": [
    "X_test = siab_test.iloc[:,4:164]\n",
    "y_true = siab_test.iloc[:, [3]]"
   ]
  },
  {
   "cell_type": "code",
   "execution_count": 20,
   "id": "0275101e",
   "metadata": {
    "execution": {
     "iopub.execute_input": "2025-08-19T18:45:14.473004Z",
     "iopub.status.busy": "2025-08-19T18:45:14.472594Z",
     "iopub.status.idle": "2025-08-19T18:45:14.584898Z",
     "shell.execute_reply": "2025-08-19T18:45:14.583852Z"
    },
    "papermill": {
     "duration": 0.147585,
     "end_time": "2025-08-19T18:45:14.586662",
     "exception": false,
     "start_time": "2025-08-19T18:45:14.439077",
     "status": "completed"
    },
    "tags": []
   },
   "outputs": [],
   "source": [
    "# Auxiliary data needed downstream in the pipeline\n",
    "\n",
    "org_train = X_train.copy()\n",
    "org_test = X_test.copy()\n",
    "org_calib = X_calib.copy()"
   ]
  },
  {
   "cell_type": "markdown",
   "id": "b461e618",
   "metadata": {
    "papermill": {
     "duration": 0.011008,
     "end_time": "2025-08-19T18:45:14.608952",
     "exception": false,
     "start_time": "2025-08-19T18:45:14.597944",
     "status": "completed"
    },
    "tags": []
   },
   "source": [
    "# Preprocessing Data"
   ]
  },
  {
   "cell_type": "code",
   "execution_count": 21,
   "id": "78e74c4b",
   "metadata": {
    "execution": {
     "iopub.execute_input": "2025-08-19T18:45:14.632983Z",
     "iopub.status.busy": "2025-08-19T18:45:14.631897Z",
     "iopub.status.idle": "2025-08-19T18:45:14.643081Z",
     "shell.execute_reply": "2025-08-19T18:45:14.641375Z"
    },
    "papermill": {
     "duration": 0.025525,
     "end_time": "2025-08-19T18:45:14.645250",
     "exception": false,
     "start_time": "2025-08-19T18:45:14.619725",
     "status": "completed"
    },
    "tags": []
   },
   "outputs": [],
   "source": [
    "# EXCLUDE PROTECTED FEATURES\n",
    "# --------------------------\n",
    "\n",
    "excluded_features = universe[\"exclude_features\"].split(\"-\")\n",
    "excluded_features_dictionary = {\n",
    "    \"nationality\": [\"maxdeutsch1\", \"maxdeutsch.Missing.\"],\n",
    "    \"sex\": [\"frau1\"],\n",
    "    \"age\": [\"age\"],\n",
    "}"
   ]
  },
  {
   "cell_type": "code",
   "execution_count": 22,
   "id": "f8e63555",
   "metadata": {
    "execution": {
     "iopub.execute_input": "2025-08-19T18:45:14.669458Z",
     "iopub.status.busy": "2025-08-19T18:45:14.668978Z",
     "iopub.status.idle": "2025-08-19T18:45:14.674312Z",
     "shell.execute_reply": "2025-08-19T18:45:14.673458Z"
    },
    "papermill": {
     "duration": 0.018101,
     "end_time": "2025-08-19T18:45:14.675589",
     "exception": false,
     "start_time": "2025-08-19T18:45:14.657488",
     "status": "completed"
    },
    "tags": []
   },
   "outputs": [],
   "source": [
    "excluded_features_columns = [\n",
    "    excluded_features_dictionary[f] for f in excluded_features if len(f) > 0 and f != \"none\"\n",
    "]"
   ]
  },
  {
   "cell_type": "code",
   "execution_count": 23,
   "id": "da781f7c",
   "metadata": {
    "execution": {
     "iopub.execute_input": "2025-08-19T18:45:14.697963Z",
     "iopub.status.busy": "2025-08-19T18:45:14.697445Z",
     "iopub.status.idle": "2025-08-19T18:45:14.701970Z",
     "shell.execute_reply": "2025-08-19T18:45:14.701245Z"
    },
    "papermill": {
     "duration": 0.01731,
     "end_time": "2025-08-19T18:45:14.703246",
     "exception": false,
     "start_time": "2025-08-19T18:45:14.685936",
     "status": "completed"
    },
    "tags": []
   },
   "outputs": [],
   "source": [
    "from fairness_multiverse.universe import flatten_once\n",
    "\n",
    "excluded_features_columns = flatten_once(excluded_features_columns)"
   ]
  },
  {
   "cell_type": "code",
   "execution_count": 24,
   "id": "37fef0f0",
   "metadata": {
    "execution": {
     "iopub.execute_input": "2025-08-19T18:45:14.725220Z",
     "iopub.status.busy": "2025-08-19T18:45:14.724543Z",
     "iopub.status.idle": "2025-08-19T18:45:14.732644Z",
     "shell.execute_reply": "2025-08-19T18:45:14.731886Z"
    },
    "papermill": {
     "duration": 0.020521,
     "end_time": "2025-08-19T18:45:14.734024",
     "exception": false,
     "start_time": "2025-08-19T18:45:14.713503",
     "status": "completed"
    },
    "tags": []
   },
   "outputs": [
    {
     "name": "stdout",
     "output_type": "stream",
     "text": [
      "Dropping features: ['age']\n"
     ]
    }
   ],
   "source": [
    "if len(excluded_features_columns) > 0:\n",
    "    print(f\"Dropping features: {excluded_features_columns}\")\n",
    "    X_train.drop(excluded_features_columns, axis=1, inplace=True)"
   ]
  },
  {
   "cell_type": "code",
   "execution_count": 25,
   "id": "d029e3e9",
   "metadata": {
    "execution": {
     "iopub.execute_input": "2025-08-19T18:45:14.757887Z",
     "iopub.status.busy": "2025-08-19T18:45:14.757519Z",
     "iopub.status.idle": "2025-08-19T18:45:14.876030Z",
     "shell.execute_reply": "2025-08-19T18:45:14.875259Z"
    },
    "papermill": {
     "duration": 0.131266,
     "end_time": "2025-08-19T18:45:14.877370",
     "exception": false,
     "start_time": "2025-08-19T18:45:14.746104",
     "status": "completed"
    },
    "tags": []
   },
   "outputs": [
    {
     "name": "stdout",
     "output_type": "stream",
     "text": [
      "Dropping features: ['age']\n"
     ]
    }
   ],
   "source": [
    "if len(excluded_features_columns) > 0:\n",
    "    print(f\"Dropping features: {excluded_features_columns}\")\n",
    "    X_test.drop(excluded_features_columns, axis=1, inplace=True)"
   ]
  },
  {
   "cell_type": "code",
   "execution_count": 26,
   "id": "01d571f0",
   "metadata": {
    "execution": {
     "iopub.execute_input": "2025-08-19T18:45:14.901142Z",
     "iopub.status.busy": "2025-08-19T18:45:14.900303Z",
     "iopub.status.idle": "2025-08-19T18:45:14.953606Z",
     "shell.execute_reply": "2025-08-19T18:45:14.952934Z"
    },
    "papermill": {
     "duration": 0.068479,
     "end_time": "2025-08-19T18:45:14.957072",
     "exception": false,
     "start_time": "2025-08-19T18:45:14.888593",
     "status": "completed"
    },
    "tags": []
   },
   "outputs": [
    {
     "name": "stdout",
     "output_type": "stream",
     "text": [
      "Dropping features: ['age']\n"
     ]
    }
   ],
   "source": [
    "if len(excluded_features_columns) > 0:\n",
    "    print(f\"Dropping features: {excluded_features_columns}\")\n",
    "    X_calib.drop(excluded_features_columns, axis=1, inplace=True)"
   ]
  },
  {
   "cell_type": "code",
   "execution_count": 27,
   "id": "3037356e",
   "metadata": {
    "execution": {
     "iopub.execute_input": "2025-08-19T18:45:14.995203Z",
     "iopub.status.busy": "2025-08-19T18:45:14.994265Z",
     "iopub.status.idle": "2025-08-19T18:45:15.001304Z",
     "shell.execute_reply": "2025-08-19T18:45:15.000078Z"
    },
    "papermill": {
     "duration": 0.022612,
     "end_time": "2025-08-19T18:45:15.002883",
     "exception": false,
     "start_time": "2025-08-19T18:45:14.980271",
     "status": "completed"
    },
    "tags": []
   },
   "outputs": [],
   "source": [
    "# EXCLUDE CERTAIN SUBGROUPS\n",
    "# -------------------------\n",
    "\n",
    "mode = universe.get(\"exclude_subgroups\", \"keep-all\") # Defaults to \"keep-all\" if the key is missing."
   ]
  },
  {
   "cell_type": "code",
   "execution_count": 28,
   "id": "9d1e63fd",
   "metadata": {
    "execution": {
     "iopub.execute_input": "2025-08-19T18:45:15.054204Z",
     "iopub.status.busy": "2025-08-19T18:45:15.052875Z",
     "iopub.status.idle": "2025-08-19T18:45:15.061622Z",
     "shell.execute_reply": "2025-08-19T18:45:15.060693Z"
    },
    "papermill": {
     "duration": 0.034076,
     "end_time": "2025-08-19T18:45:15.063252",
     "exception": false,
     "start_time": "2025-08-19T18:45:15.029176",
     "status": "completed"
    },
    "tags": []
   },
   "outputs": [],
   "source": [
    "if mode == \"keep-all\":\n",
    "    keep_mask = pd.Series(True, index=org_train.index)\n",
    "\n",
    "elif mode == \"drop-non-german\":\n",
    "    keep_mask = (org_train[\"maxdeutsch1\"] == 1) & (org_train[\"maxdeutsch.Missing.\"] == 0)\n",
    "\n",
    "else:\n",
    "    raise ValueError(f\"Unsupported mode for exclude_subgroups: {mode}\")"
   ]
  },
  {
   "cell_type": "code",
   "execution_count": 29,
   "id": "d3b65474",
   "metadata": {
    "execution": {
     "iopub.execute_input": "2025-08-19T18:45:15.113458Z",
     "iopub.status.busy": "2025-08-19T18:45:15.112156Z",
     "iopub.status.idle": "2025-08-19T18:45:15.122823Z",
     "shell.execute_reply": "2025-08-19T18:45:15.121464Z"
    },
    "papermill": {
     "duration": 0.035797,
     "end_time": "2025-08-19T18:45:15.124373",
     "exception": false,
     "start_time": "2025-08-19T18:45:15.088576",
     "status": "completed"
    },
    "tags": []
   },
   "outputs": [
    {
     "name": "stdout",
     "output_type": "stream",
     "text": [
      "Dropping 657 rows (13.14%) where mode='drop-non-german'\n"
     ]
    }
   ],
   "source": [
    "n_drop = (~keep_mask).sum() # Calculates how many rows are set to be dropped\n",
    "if n_drop > 0:\n",
    "    pct = n_drop / len(keep_mask) * 100\n",
    "    print(f\"Dropping {n_drop} rows ({pct:.2f}%) where mode='{mode}'\")"
   ]
  },
  {
   "cell_type": "code",
   "execution_count": 30,
   "id": "f44389b3",
   "metadata": {
    "execution": {
     "iopub.execute_input": "2025-08-19T18:45:15.168303Z",
     "iopub.status.busy": "2025-08-19T18:45:15.167634Z",
     "iopub.status.idle": "2025-08-19T18:45:15.178881Z",
     "shell.execute_reply": "2025-08-19T18:45:15.177868Z"
    },
    "papermill": {
     "duration": 0.044698,
     "end_time": "2025-08-19T18:45:15.180400",
     "exception": false,
     "start_time": "2025-08-19T18:45:15.135702",
     "status": "completed"
    },
    "tags": []
   },
   "outputs": [],
   "source": [
    "X_train = X_train[keep_mask]"
   ]
  },
  {
   "cell_type": "code",
   "execution_count": 31,
   "id": "ceca8c2a",
   "metadata": {
    "execution": {
     "iopub.execute_input": "2025-08-19T18:45:15.222868Z",
     "iopub.status.busy": "2025-08-19T18:45:15.221987Z",
     "iopub.status.idle": "2025-08-19T18:45:15.229694Z",
     "shell.execute_reply": "2025-08-19T18:45:15.228453Z"
    },
    "papermill": {
     "duration": 0.031981,
     "end_time": "2025-08-19T18:45:15.231078",
     "exception": false,
     "start_time": "2025-08-19T18:45:15.199097",
     "status": "completed"
    },
    "tags": []
   },
   "outputs": [],
   "source": [
    "y_train = y_train[keep_mask]"
   ]
  },
  {
   "cell_type": "markdown",
   "id": "04d31e2f",
   "metadata": {
    "papermill": {
     "duration": 0.020994,
     "end_time": "2025-08-19T18:45:15.263343",
     "exception": false,
     "start_time": "2025-08-19T18:45:15.242349",
     "status": "completed"
    },
    "tags": []
   },
   "source": [
    "# Model Training"
   ]
  },
  {
   "cell_type": "code",
   "execution_count": 32,
   "id": "db991733",
   "metadata": {
    "execution": {
     "iopub.execute_input": "2025-08-19T18:45:15.287272Z",
     "iopub.status.busy": "2025-08-19T18:45:15.286366Z",
     "iopub.status.idle": "2025-08-19T18:45:15.392822Z",
     "shell.execute_reply": "2025-08-19T18:45:15.392086Z"
    },
    "papermill": {
     "duration": 0.120562,
     "end_time": "2025-08-19T18:45:15.394573",
     "exception": false,
     "start_time": "2025-08-19T18:45:15.274011",
     "status": "completed"
    },
    "tags": []
   },
   "outputs": [],
   "source": [
    "from sklearn.linear_model import LogisticRegression\n",
    "from sklearn.ensemble import GradientBoostingClassifier, RandomForestClassifier\n",
    "\n",
    "if (universe[\"model\"] == \"logreg\"):\n",
    "    model = LogisticRegression() #penalty=\"none\", solver=\"newton-cg\", max_iter=1)\n",
    "elif (universe[\"model\"] == \"penalized_logreg\"):\n",
    "    model = LogisticRegression(penalty=\"l2\", C=0.1) #, solver=\"newton-cg\", max_iter=1)\n",
    "elif (universe[\"model\"] == \"rf\"):\n",
    "    model = RandomForestClassifier() # n_estimators=100, n_jobs=-1\n",
    "elif (universe[\"model\"] == \"gbm\"):\n",
    "    model = GradientBoostingClassifier()\n",
    "elif (universe[\"model\"] == \"elasticnet\"):\n",
    "    model = LogisticRegression(penalty = 'elasticnet', solver = 'saga', l1_ratio = 0.5) # max_iter=5000\n",
    "else:\n",
    "    raise \"Unsupported universe.model\""
   ]
  },
  {
   "cell_type": "code",
   "execution_count": 33,
   "id": "a4b5cd25",
   "metadata": {
    "execution": {
     "iopub.execute_input": "2025-08-19T18:45:15.429543Z",
     "iopub.status.busy": "2025-08-19T18:45:15.428696Z",
     "iopub.status.idle": "2025-08-19T18:45:15.437455Z",
     "shell.execute_reply": "2025-08-19T18:45:15.435947Z"
    },
    "papermill": {
     "duration": 0.028618,
     "end_time": "2025-08-19T18:45:15.439267",
     "exception": false,
     "start_time": "2025-08-19T18:45:15.410649",
     "status": "completed"
    },
    "tags": []
   },
   "outputs": [],
   "source": [
    "from sklearn.pipeline import Pipeline\n",
    "from sklearn.preprocessing import StandardScaler\n",
    "\n",
    "model = Pipeline([\n",
    "    #(\"continuous_processor\", continuous_processor),\n",
    "    #(\"categorical_preprocessor\", categorical_preprocessor),\n",
    "    (\"scale\", StandardScaler() if universe[\"scale\"] == \"scale\" else None), \n",
    "    (\"model\", model),\n",
    "])"
   ]
  },
  {
   "cell_type": "code",
   "execution_count": 34,
   "id": "283a904d",
   "metadata": {
    "execution": {
     "iopub.execute_input": "2025-08-19T18:45:15.468733Z",
     "iopub.status.busy": "2025-08-19T18:45:15.467927Z",
     "iopub.status.idle": "2025-08-19T18:45:15.615224Z",
     "shell.execute_reply": "2025-08-19T18:45:15.614592Z"
    },
    "papermill": {
     "duration": 0.162104,
     "end_time": "2025-08-19T18:45:15.617782",
     "exception": false,
     "start_time": "2025-08-19T18:45:15.455678",
     "status": "completed"
    },
    "tags": []
   },
   "outputs": [
    {
     "name": "stderr",
     "output_type": "stream",
     "text": [
      "/dss/dsshome1/0C/ra93lal2/.local/share/virtualenvs/CMA_Fairness_v2-3j10GkSs/lib/python3.10/site-packages/sklearn/linear_model/_logistic.py:444: ConvergenceWarning: lbfgs failed to converge (status=1):\n",
      "STOP: TOTAL NO. of ITERATIONS REACHED LIMIT.\n",
      "\n",
      "Increase the number of iterations (max_iter) or scale the data as shown in:\n",
      "    https://scikit-learn.org/stable/modules/preprocessing.html\n",
      "Please also refer to the documentation for alternative solver options:\n",
      "    https://scikit-learn.org/stable/modules/linear_model.html#logistic-regression\n",
      "  n_iter_i = _check_optimize_result(\n"
     ]
    },
    {
     "data": {
      "text/html": [
       "<style>#sk-container-id-1 {color: black;background-color: white;}#sk-container-id-1 pre{padding: 0;}#sk-container-id-1 div.sk-toggleable {background-color: white;}#sk-container-id-1 label.sk-toggleable__label {cursor: pointer;display: block;width: 100%;margin-bottom: 0;padding: 0.3em;box-sizing: border-box;text-align: center;}#sk-container-id-1 label.sk-toggleable__label-arrow:before {content: \"▸\";float: left;margin-right: 0.25em;color: #696969;}#sk-container-id-1 label.sk-toggleable__label-arrow:hover:before {color: black;}#sk-container-id-1 div.sk-estimator:hover label.sk-toggleable__label-arrow:before {color: black;}#sk-container-id-1 div.sk-toggleable__content {max-height: 0;max-width: 0;overflow: hidden;text-align: left;background-color: #f0f8ff;}#sk-container-id-1 div.sk-toggleable__content pre {margin: 0.2em;color: black;border-radius: 0.25em;background-color: #f0f8ff;}#sk-container-id-1 input.sk-toggleable__control:checked~div.sk-toggleable__content {max-height: 200px;max-width: 100%;overflow: auto;}#sk-container-id-1 input.sk-toggleable__control:checked~label.sk-toggleable__label-arrow:before {content: \"▾\";}#sk-container-id-1 div.sk-estimator input.sk-toggleable__control:checked~label.sk-toggleable__label {background-color: #d4ebff;}#sk-container-id-1 div.sk-label input.sk-toggleable__control:checked~label.sk-toggleable__label {background-color: #d4ebff;}#sk-container-id-1 input.sk-hidden--visually {border: 0;clip: rect(1px 1px 1px 1px);clip: rect(1px, 1px, 1px, 1px);height: 1px;margin: -1px;overflow: hidden;padding: 0;position: absolute;width: 1px;}#sk-container-id-1 div.sk-estimator {font-family: monospace;background-color: #f0f8ff;border: 1px dotted black;border-radius: 0.25em;box-sizing: border-box;margin-bottom: 0.5em;}#sk-container-id-1 div.sk-estimator:hover {background-color: #d4ebff;}#sk-container-id-1 div.sk-parallel-item::after {content: \"\";width: 100%;border-bottom: 1px solid gray;flex-grow: 1;}#sk-container-id-1 div.sk-label:hover label.sk-toggleable__label {background-color: #d4ebff;}#sk-container-id-1 div.sk-serial::before {content: \"\";position: absolute;border-left: 1px solid gray;box-sizing: border-box;top: 0;bottom: 0;left: 50%;z-index: 0;}#sk-container-id-1 div.sk-serial {display: flex;flex-direction: column;align-items: center;background-color: white;padding-right: 0.2em;padding-left: 0.2em;position: relative;}#sk-container-id-1 div.sk-item {position: relative;z-index: 1;}#sk-container-id-1 div.sk-parallel {display: flex;align-items: stretch;justify-content: center;background-color: white;position: relative;}#sk-container-id-1 div.sk-item::before, #sk-container-id-1 div.sk-parallel-item::before {content: \"\";position: absolute;border-left: 1px solid gray;box-sizing: border-box;top: 0;bottom: 0;left: 50%;z-index: -1;}#sk-container-id-1 div.sk-parallel-item {display: flex;flex-direction: column;z-index: 1;position: relative;background-color: white;}#sk-container-id-1 div.sk-parallel-item:first-child::after {align-self: flex-end;width: 50%;}#sk-container-id-1 div.sk-parallel-item:last-child::after {align-self: flex-start;width: 50%;}#sk-container-id-1 div.sk-parallel-item:only-child::after {width: 0;}#sk-container-id-1 div.sk-dashed-wrapped {border: 1px dashed gray;margin: 0 0.4em 0.5em 0.4em;box-sizing: border-box;padding-bottom: 0.4em;background-color: white;}#sk-container-id-1 div.sk-label label {font-family: monospace;font-weight: bold;display: inline-block;line-height: 1.2em;}#sk-container-id-1 div.sk-label-container {text-align: center;}#sk-container-id-1 div.sk-container {/* jupyter's `normalize.less` sets `[hidden] { display: none; }` but bootstrap.min.css set `[hidden] { display: none !important; }` so we also need the `!important` here to be able to override the default hidden behavior on the sphinx rendered scikit-learn.org. See: https://github.com/scikit-learn/scikit-learn/issues/21755 */display: inline-block !important;position: relative;}#sk-container-id-1 div.sk-text-repr-fallback {display: none;}</style><div id=\"sk-container-id-1\" class=\"sk-top-container\"><div class=\"sk-text-repr-fallback\"><pre>Pipeline(steps=[(&#x27;scale&#x27;, None), (&#x27;model&#x27;, LogisticRegression())])</pre><b>In a Jupyter environment, please rerun this cell to show the HTML representation or trust the notebook. <br />On GitHub, the HTML representation is unable to render, please try loading this page with nbviewer.org.</b></div><div class=\"sk-container\" hidden><div class=\"sk-item sk-dashed-wrapped\"><div class=\"sk-label-container\"><div class=\"sk-label sk-toggleable\"><input class=\"sk-toggleable__control sk-hidden--visually\" id=\"sk-estimator-id-1\" type=\"checkbox\" ><label for=\"sk-estimator-id-1\" class=\"sk-toggleable__label sk-toggleable__label-arrow\">Pipeline</label><div class=\"sk-toggleable__content\"><pre>Pipeline(steps=[(&#x27;scale&#x27;, None), (&#x27;model&#x27;, LogisticRegression())])</pre></div></div></div><div class=\"sk-serial\"><div class=\"sk-item\"><div class=\"sk-estimator sk-toggleable\"><input class=\"sk-toggleable__control sk-hidden--visually\" id=\"sk-estimator-id-2\" type=\"checkbox\" ><label for=\"sk-estimator-id-2\" class=\"sk-toggleable__label sk-toggleable__label-arrow\">None</label><div class=\"sk-toggleable__content\"><pre>None</pre></div></div></div><div class=\"sk-item\"><div class=\"sk-estimator sk-toggleable\"><input class=\"sk-toggleable__control sk-hidden--visually\" id=\"sk-estimator-id-3\" type=\"checkbox\" ><label for=\"sk-estimator-id-3\" class=\"sk-toggleable__label sk-toggleable__label-arrow\">LogisticRegression</label><div class=\"sk-toggleable__content\"><pre>LogisticRegression()</pre></div></div></div></div></div></div></div>"
      ],
      "text/plain": [
       "Pipeline(steps=[('scale', None), ('model', LogisticRegression())])"
      ]
     },
     "execution_count": 34,
     "metadata": {},
     "output_type": "execute_result"
    }
   ],
   "source": [
    "model.fit(X_train, y_train.values.ravel())"
   ]
  },
  {
   "cell_type": "code",
   "execution_count": 35,
   "id": "6e15e313",
   "metadata": {
    "execution": {
     "iopub.execute_input": "2025-08-19T18:45:15.667258Z",
     "iopub.status.busy": "2025-08-19T18:45:15.665766Z",
     "iopub.status.idle": "2025-08-19T18:45:15.775658Z",
     "shell.execute_reply": "2025-08-19T18:45:15.775003Z"
    },
    "papermill": {
     "duration": 0.141749,
     "end_time": "2025-08-19T18:45:15.778260",
     "exception": false,
     "start_time": "2025-08-19T18:45:15.636511",
     "status": "completed"
    },
    "tags": []
   },
   "outputs": [
    {
     "data": {
      "text/plain": [
       "0.8599041355478765"
      ]
     },
     "execution_count": 35,
     "metadata": {},
     "output_type": "execute_result"
    }
   ],
   "source": [
    "from fairness_multiverse.universe import predict_w_threshold\n",
    "\n",
    "probs_test = model.predict_proba(X_test)\n",
    "\n",
    "'''\n",
    "Below code returns a boolean array (or binary 0/1 array depending on how it’s used) where each element \n",
    "is True if the probability of class 1 is greater than or equal to the threshold, and False otherwise.\n",
    "'''\n",
    "y_pred_default = predict_w_threshold(probs_test, 0.5)\n",
    "\n",
    "from sklearn.metrics import accuracy_score\n",
    "\n",
    "# Naive prediction\n",
    "accuracy_score(y_true = y_true, y_pred = y_pred_default)"
   ]
  },
  {
   "cell_type": "code",
   "execution_count": 36,
   "id": "6f14067c",
   "metadata": {
    "execution": {
     "iopub.execute_input": "2025-08-19T18:45:15.811403Z",
     "iopub.status.busy": "2025-08-19T18:45:15.806844Z",
     "iopub.status.idle": "2025-08-19T18:45:15.901386Z",
     "shell.execute_reply": "2025-08-19T18:45:15.900659Z"
    },
    "papermill": {
     "duration": 0.108471,
     "end_time": "2025-08-19T18:45:15.902679",
     "exception": false,
     "start_time": "2025-08-19T18:45:15.794208",
     "status": "completed"
    },
    "tags": []
   },
   "outputs": [
    {
     "data": {
      "text/plain": [
       "array([0, 0, 0, ..., 0, 0, 0])"
      ]
     },
     "execution_count": 36,
     "metadata": {},
     "output_type": "execute_result"
    }
   ],
   "source": [
    "model.predict(X_test)"
   ]
  },
  {
   "cell_type": "markdown",
   "id": "3759920c",
   "metadata": {
    "papermill": {
     "duration": 0.011131,
     "end_time": "2025-08-19T18:45:15.925480",
     "exception": false,
     "start_time": "2025-08-19T18:45:15.914349",
     "status": "completed"
    },
    "tags": []
   },
   "source": [
    "# Conformal Prediction"
   ]
  },
  {
   "cell_type": "code",
   "execution_count": 37,
   "id": "14b27f59",
   "metadata": {
    "execution": {
     "iopub.execute_input": "2025-08-19T18:45:15.950204Z",
     "iopub.status.busy": "2025-08-19T18:45:15.949065Z",
     "iopub.status.idle": "2025-08-19T18:45:15.956028Z",
     "shell.execute_reply": "2025-08-19T18:45:15.954787Z"
    },
    "papermill": {
     "duration": 0.022874,
     "end_time": "2025-08-19T18:45:15.959289",
     "exception": false,
     "start_time": "2025-08-19T18:45:15.936415",
     "status": "completed"
    },
    "tags": []
   },
   "outputs": [],
   "source": [
    "# Miscoverage level for conformal prediction (10% allowed error rate => 90% target coverage)\n",
    "alpha = 0.1"
   ]
  },
  {
   "cell_type": "code",
   "execution_count": 38,
   "id": "59102472",
   "metadata": {
    "execution": {
     "iopub.execute_input": "2025-08-19T18:45:15.994552Z",
     "iopub.status.busy": "2025-08-19T18:45:15.993600Z",
     "iopub.status.idle": "2025-08-19T18:45:16.089661Z",
     "shell.execute_reply": "2025-08-19T18:45:16.088877Z"
    },
    "papermill": {
     "duration": 0.112108,
     "end_time": "2025-08-19T18:45:16.092605",
     "exception": false,
     "start_time": "2025-08-19T18:45:15.980497",
     "status": "completed"
    },
    "tags": []
   },
   "outputs": [],
   "source": [
    "probs_calib = model.predict_proba(X_calib)"
   ]
  },
  {
   "cell_type": "code",
   "execution_count": 39,
   "id": "a792d4dd",
   "metadata": {
    "execution": {
     "iopub.execute_input": "2025-08-19T18:45:16.135066Z",
     "iopub.status.busy": "2025-08-19T18:45:16.133947Z",
     "iopub.status.idle": "2025-08-19T18:45:16.142211Z",
     "shell.execute_reply": "2025-08-19T18:45:16.141049Z"
    },
    "papermill": {
     "duration": 0.024463,
     "end_time": "2025-08-19T18:45:16.143527",
     "exception": false,
     "start_time": "2025-08-19T18:45:16.119064",
     "status": "completed"
    },
    "tags": []
   },
   "outputs": [],
   "source": [
    "y_calib = y_calib.values.ravel().astype(int)"
   ]
  },
  {
   "cell_type": "code",
   "execution_count": 40,
   "id": "650fd033",
   "metadata": {
    "execution": {
     "iopub.execute_input": "2025-08-19T18:45:16.171981Z",
     "iopub.status.busy": "2025-08-19T18:45:16.170816Z",
     "iopub.status.idle": "2025-08-19T18:45:16.181624Z",
     "shell.execute_reply": "2025-08-19T18:45:16.180385Z"
    },
    "papermill": {
     "duration": 0.025194,
     "end_time": "2025-08-19T18:45:16.183048",
     "exception": false,
     "start_time": "2025-08-19T18:45:16.157854",
     "status": "completed"
    },
    "tags": []
   },
   "outputs": [],
   "source": [
    "from fairness_multiverse.conformal import compute_nc_scores\n",
    "\n",
    "# Compute nonconformity scores on calibration set (1 - probability of true class)\n",
    "nc_scores = compute_nc_scores(probs_calib, y_calib)"
   ]
  },
  {
   "cell_type": "code",
   "execution_count": 41,
   "id": "28ada44c",
   "metadata": {
    "execution": {
     "iopub.execute_input": "2025-08-19T18:45:16.212436Z",
     "iopub.status.busy": "2025-08-19T18:45:16.211307Z",
     "iopub.status.idle": "2025-08-19T18:45:16.221074Z",
     "shell.execute_reply": "2025-08-19T18:45:16.219849Z"
    },
    "papermill": {
     "duration": 0.024234,
     "end_time": "2025-08-19T18:45:16.222664",
     "exception": false,
     "start_time": "2025-08-19T18:45:16.198430",
     "status": "completed"
    },
    "tags": []
   },
   "outputs": [],
   "source": [
    "from fairness_multiverse.conformal import find_threshold\n",
    "\n",
    "# Find conformal threshold q_hat for the given alpha (split conformal method)\n",
    "q_hat = find_threshold(nc_scores, alpha)"
   ]
  },
  {
   "cell_type": "code",
   "execution_count": 42,
   "id": "df56469e",
   "metadata": {
    "execution": {
     "iopub.execute_input": "2025-08-19T18:45:16.268658Z",
     "iopub.status.busy": "2025-08-19T18:45:16.267434Z",
     "iopub.status.idle": "2025-08-19T18:45:16.288918Z",
     "shell.execute_reply": "2025-08-19T18:45:16.288248Z"
    },
    "papermill": {
     "duration": 0.043618,
     "end_time": "2025-08-19T18:45:16.296333",
     "exception": false,
     "start_time": "2025-08-19T18:45:16.252715",
     "status": "completed"
    },
    "tags": []
   },
   "outputs": [
    {
     "data": {
      "text/plain": [
       "0.6701557737132251"
      ]
     },
     "execution_count": 42,
     "metadata": {},
     "output_type": "execute_result"
    }
   ],
   "source": [
    "q_hat"
   ]
  },
  {
   "cell_type": "code",
   "execution_count": 43,
   "id": "aa1f5faa",
   "metadata": {
    "execution": {
     "iopub.execute_input": "2025-08-19T18:45:16.333987Z",
     "iopub.status.busy": "2025-08-19T18:45:16.333511Z",
     "iopub.status.idle": "2025-08-19T18:45:16.897124Z",
     "shell.execute_reply": "2025-08-19T18:45:16.895788Z"
    },
    "papermill": {
     "duration": 0.577723,
     "end_time": "2025-08-19T18:45:16.898664",
     "exception": false,
     "start_time": "2025-08-19T18:45:16.320941",
     "status": "completed"
    },
    "tags": []
   },
   "outputs": [],
   "source": [
    "from fairness_multiverse.conformal import predict_conformal_sets\n",
    "\n",
    "# Generate prediction sets for each test example\n",
    "pred_sets = predict_conformal_sets(model, X_test, q_hat)"
   ]
  },
  {
   "cell_type": "code",
   "execution_count": 44,
   "id": "97f67a6b",
   "metadata": {
    "execution": {
     "iopub.execute_input": "2025-08-19T18:45:16.948893Z",
     "iopub.status.busy": "2025-08-19T18:45:16.947467Z",
     "iopub.status.idle": "2025-08-19T18:45:16.959443Z",
     "shell.execute_reply": "2025-08-19T18:45:16.957483Z"
    },
    "papermill": {
     "duration": 0.036397,
     "end_time": "2025-08-19T18:45:16.961055",
     "exception": false,
     "start_time": "2025-08-19T18:45:16.924658",
     "status": "completed"
    },
    "tags": []
   },
   "outputs": [],
   "source": [
    "y_true = y_true.squeeze()"
   ]
  },
  {
   "cell_type": "code",
   "execution_count": 45,
   "id": "e700e9a7",
   "metadata": {
    "execution": {
     "iopub.execute_input": "2025-08-19T18:45:16.993107Z",
     "iopub.status.busy": "2025-08-19T18:45:16.988351Z",
     "iopub.status.idle": "2025-08-19T18:45:17.512927Z",
     "shell.execute_reply": "2025-08-19T18:45:17.511651Z"
    },
    "papermill": {
     "duration": 0.541778,
     "end_time": "2025-08-19T18:45:17.515811",
     "exception": false,
     "start_time": "2025-08-19T18:45:16.974033",
     "status": "completed"
    },
    "tags": []
   },
   "outputs": [],
   "source": [
    "from fairness_multiverse.conformal import evaluate_sets\n",
    "\n",
    "# Evaluate coverage and average set size on test data\n",
    "metrics = evaluate_sets(pred_sets, y_true)"
   ]
  },
  {
   "cell_type": "markdown",
   "id": "efbacec0",
   "metadata": {
    "papermill": {
     "duration": 0.013445,
     "end_time": "2025-08-19T18:45:17.556714",
     "exception": false,
     "start_time": "2025-08-19T18:45:17.543269",
     "status": "completed"
    },
    "tags": []
   },
   "source": [
    "# CP Metrics"
   ]
  },
  {
   "cell_type": "code",
   "execution_count": 46,
   "id": "9de55fb1",
   "metadata": {
    "execution": {
     "iopub.execute_input": "2025-08-19T18:45:17.583600Z",
     "iopub.status.busy": "2025-08-19T18:45:17.582003Z",
     "iopub.status.idle": "2025-08-19T18:45:17.594859Z",
     "shell.execute_reply": "2025-08-19T18:45:17.593856Z"
    },
    "papermill": {
     "duration": 0.028359,
     "end_time": "2025-08-19T18:45:17.596419",
     "exception": false,
     "start_time": "2025-08-19T18:45:17.568060",
     "status": "completed"
    },
    "tags": []
   },
   "outputs": [
    {
     "data": {
      "text/plain": [
       "{'coverage': 0.913822316352692, 'avg_size': 1.2539627689220822}"
      ]
     },
     "execution_count": 46,
     "metadata": {},
     "output_type": "execute_result"
    }
   ],
   "source": [
    "metrics"
   ]
  },
  {
   "cell_type": "code",
   "execution_count": 47,
   "id": "64c340a1",
   "metadata": {
    "execution": {
     "iopub.execute_input": "2025-08-19T18:45:17.627331Z",
     "iopub.status.busy": "2025-08-19T18:45:17.626143Z",
     "iopub.status.idle": "2025-08-19T18:45:17.636323Z",
     "shell.execute_reply": "2025-08-19T18:45:17.635098Z"
    },
    "papermill": {
     "duration": 0.025066,
     "end_time": "2025-08-19T18:45:17.637935",
     "exception": false,
     "start_time": "2025-08-19T18:45:17.612869",
     "status": "completed"
    },
    "tags": []
   },
   "outputs": [],
   "source": [
    "example_universe = universe.copy()\n",
    "universe_training_year = example_universe.get(\"training_year\")\n",
    "universe_training_size = example_universe.get(\"training_size\")\n",
    "universe_scale = example_universe.get(\"scale\")\n",
    "universe_model = example_universe.get(\"model\")\n",
    "universe_exclude_features = example_universe.get(\"exclude_features\")\n",
    "universe_exclude_subgroups = example_universe.get(\"exclude_subgroups\")"
   ]
  },
  {
   "cell_type": "code",
   "execution_count": 48,
   "id": "dbb53cb4",
   "metadata": {
    "execution": {
     "iopub.execute_input": "2025-08-19T18:45:17.671295Z",
     "iopub.status.busy": "2025-08-19T18:45:17.670222Z",
     "iopub.status.idle": "2025-08-19T18:45:17.680201Z",
     "shell.execute_reply": "2025-08-19T18:45:17.678967Z"
    },
    "papermill": {
     "duration": 0.026322,
     "end_time": "2025-08-19T18:45:17.681574",
     "exception": false,
     "start_time": "2025-08-19T18:45:17.655252",
     "status": "completed"
    },
    "tags": []
   },
   "outputs": [],
   "source": [
    "cp_metrics_dict = {\n",
    "    \"universe_id\": [universe_id],\n",
    "    \"universe_training_year\": [universe_training_year],\n",
    "    \"universe_training_size\": [universe_training_size],\n",
    "    \"universe_scale\": [universe_scale],\n",
    "    \"universe_model\": [universe_model],\n",
    "    \"universe_exclude_features\": [universe_exclude_features],\n",
    "    \"universe_exclude_subgroups\": [universe_exclude_subgroups],\n",
    "    \"q_hat\": [q_hat],\n",
    "    \"coverage\": [metrics[\"coverage\"]],\n",
    "    \"avg_size\": [metrics[\"avg_size\"]],\n",
    "}"
   ]
  },
  {
   "cell_type": "code",
   "execution_count": 49,
   "id": "0d70d4b2",
   "metadata": {
    "execution": {
     "iopub.execute_input": "2025-08-19T18:45:17.720078Z",
     "iopub.status.busy": "2025-08-19T18:45:17.719094Z",
     "iopub.status.idle": "2025-08-19T18:45:17.730276Z",
     "shell.execute_reply": "2025-08-19T18:45:17.728807Z"
    },
    "papermill": {
     "duration": 0.036079,
     "end_time": "2025-08-19T18:45:17.732293",
     "exception": false,
     "start_time": "2025-08-19T18:45:17.696214",
     "status": "completed"
    },
    "tags": []
   },
   "outputs": [],
   "source": [
    "cp_metrics_df = pd.DataFrame(cp_metrics_dict)"
   ]
  },
  {
   "cell_type": "code",
   "execution_count": 50,
   "id": "b494403c",
   "metadata": {
    "execution": {
     "iopub.execute_input": "2025-08-19T18:45:17.761347Z",
     "iopub.status.busy": "2025-08-19T18:45:17.760929Z",
     "iopub.status.idle": "2025-08-19T18:45:17.778569Z",
     "shell.execute_reply": "2025-08-19T18:45:17.777823Z"
    },
    "papermill": {
     "duration": 0.032487,
     "end_time": "2025-08-19T18:45:17.780199",
     "exception": false,
     "start_time": "2025-08-19T18:45:17.747712",
     "status": "completed"
    },
    "tags": []
   },
   "outputs": [
    {
     "data": {
      "text/html": [
       "<div>\n",
       "<style scoped>\n",
       "    .dataframe tbody tr th:only-of-type {\n",
       "        vertical-align: middle;\n",
       "    }\n",
       "\n",
       "    .dataframe tbody tr th {\n",
       "        vertical-align: top;\n",
       "    }\n",
       "\n",
       "    .dataframe thead th {\n",
       "        text-align: right;\n",
       "    }\n",
       "</style>\n",
       "<table border=\"1\" class=\"dataframe\">\n",
       "  <thead>\n",
       "    <tr style=\"text-align: right;\">\n",
       "      <th></th>\n",
       "      <th>universe_id</th>\n",
       "      <th>universe_training_year</th>\n",
       "      <th>universe_training_size</th>\n",
       "      <th>universe_scale</th>\n",
       "      <th>universe_model</th>\n",
       "      <th>universe_exclude_features</th>\n",
       "      <th>universe_exclude_subgroups</th>\n",
       "      <th>q_hat</th>\n",
       "      <th>coverage</th>\n",
       "      <th>avg_size</th>\n",
       "    </tr>\n",
       "  </thead>\n",
       "  <tbody>\n",
       "    <tr>\n",
       "      <th>0</th>\n",
       "      <td>925ac49ed280ef0f645870fa2279e56c</td>\n",
       "      <td>2010_14</td>\n",
       "      <td>5k</td>\n",
       "      <td>do-not-scale</td>\n",
       "      <td>logreg</td>\n",
       "      <td>age</td>\n",
       "      <td>drop-non-german</td>\n",
       "      <td>0.670156</td>\n",
       "      <td>0.913822</td>\n",
       "      <td>1.253963</td>\n",
       "    </tr>\n",
       "  </tbody>\n",
       "</table>\n",
       "</div>"
      ],
      "text/plain": [
       "                        universe_id universe_training_year  \\\n",
       "0  925ac49ed280ef0f645870fa2279e56c                2010_14   \n",
       "\n",
       "  universe_training_size universe_scale universe_model  \\\n",
       "0                     5k   do-not-scale         logreg   \n",
       "\n",
       "  universe_exclude_features universe_exclude_subgroups     q_hat  coverage  \\\n",
       "0                       age            drop-non-german  0.670156  0.913822   \n",
       "\n",
       "   avg_size  \n",
       "0  1.253963  "
      ]
     },
     "execution_count": 50,
     "metadata": {},
     "output_type": "execute_result"
    }
   ],
   "source": [
    "cp_metrics_df"
   ]
  },
  {
   "cell_type": "markdown",
   "id": "ed608b0b",
   "metadata": {
    "papermill": {
     "duration": 0.012132,
     "end_time": "2025-08-19T18:45:17.806688",
     "exception": false,
     "start_time": "2025-08-19T18:45:17.794556",
     "status": "completed"
    },
    "tags": []
   },
   "source": [
    "Conditional coverage & looking at subgroups"
   ]
  },
  {
   "cell_type": "code",
   "execution_count": 51,
   "id": "8968c366",
   "metadata": {
    "execution": {
     "iopub.execute_input": "2025-08-19T18:45:17.831821Z",
     "iopub.status.busy": "2025-08-19T18:45:17.831422Z",
     "iopub.status.idle": "2025-08-19T18:45:18.104616Z",
     "shell.execute_reply": "2025-08-19T18:45:18.103753Z"
    },
    "papermill": {
     "duration": 0.287729,
     "end_time": "2025-08-19T18:45:18.106307",
     "exception": false,
     "start_time": "2025-08-19T18:45:17.818578",
     "status": "completed"
    },
    "tags": []
   },
   "outputs": [],
   "source": [
    "from fairness_multiverse.conformal import build_cp_groups\n",
    "\n",
    "cp_groups_df = build_cp_groups(pred_sets, y_true, X_test.index, org_test)"
   ]
  },
  {
   "cell_type": "code",
   "execution_count": 52,
   "id": "292ddabf",
   "metadata": {
    "execution": {
     "iopub.execute_input": "2025-08-19T18:45:18.134364Z",
     "iopub.status.busy": "2025-08-19T18:45:18.133625Z",
     "iopub.status.idle": "2025-08-19T18:45:19.000439Z",
     "shell.execute_reply": "2025-08-19T18:45:18.999267Z"
    },
    "papermill": {
     "duration": 0.884226,
     "end_time": "2025-08-19T18:45:19.003605",
     "exception": false,
     "start_time": "2025-08-19T18:45:18.119379",
     "status": "completed"
    },
    "tags": []
   },
   "outputs": [],
   "source": [
    "# Define covered = 1 if true_label is in the predicted set\n",
    "cp_groups_df['covered'] = cp_groups_df.apply(\n",
    "    lambda r: int(r['true_label'] in r['pred_set']),\n",
    "    axis=1\n",
    ")"
   ]
  },
  {
   "cell_type": "code",
   "execution_count": 53,
   "id": "3a261692",
   "metadata": {
    "execution": {
     "iopub.execute_input": "2025-08-19T18:45:19.047147Z",
     "iopub.status.busy": "2025-08-19T18:45:19.046331Z",
     "iopub.status.idle": "2025-08-19T18:45:19.070326Z",
     "shell.execute_reply": "2025-08-19T18:45:19.069518Z"
    },
    "papermill": {
     "duration": 0.042015,
     "end_time": "2025-08-19T18:45:19.072265",
     "exception": false,
     "start_time": "2025-08-19T18:45:19.030250",
     "status": "completed"
    },
    "tags": []
   },
   "outputs": [],
   "source": [
    "subgroups = ['frau1','nongerman','nongerman_male','nongerman_female']\n",
    "\n",
    "# Conditional coverage for subgroup==1\n",
    "cond_coverage = {\n",
    "    g: cp_groups_df.loc[cp_groups_df[g]==1, 'covered'].mean()\n",
    "    for g in subgroups\n",
    "}"
   ]
  },
  {
   "cell_type": "code",
   "execution_count": 54,
   "id": "894fd600",
   "metadata": {
    "execution": {
     "iopub.execute_input": "2025-08-19T18:45:19.112273Z",
     "iopub.status.busy": "2025-08-19T18:45:19.111605Z",
     "iopub.status.idle": "2025-08-19T18:45:19.123271Z",
     "shell.execute_reply": "2025-08-19T18:45:19.122055Z"
    },
    "papermill": {
     "duration": 0.028278,
     "end_time": "2025-08-19T18:45:19.124859",
     "exception": false,
     "start_time": "2025-08-19T18:45:19.096581",
     "status": "completed"
    },
    "tags": []
   },
   "outputs": [
    {
     "data": {
      "text/plain": [
       "{'frau1': 0.9147324437255695,\n",
       " 'nongerman': 0.9654185145680121,\n",
       " 'nongerman_male': 0.9699180401693236,\n",
       " 'nongerman_female': 0.957973174366617}"
      ]
     },
     "execution_count": 54,
     "metadata": {},
     "output_type": "execute_result"
    }
   ],
   "source": [
    "cond_coverage"
   ]
  },
  {
   "cell_type": "code",
   "execution_count": 55,
   "id": "942895c7",
   "metadata": {
    "execution": {
     "iopub.execute_input": "2025-08-19T18:45:19.156320Z",
     "iopub.status.busy": "2025-08-19T18:45:19.155646Z",
     "iopub.status.idle": "2025-08-19T18:45:19.167808Z",
     "shell.execute_reply": "2025-08-19T18:45:19.166715Z"
    },
    "papermill": {
     "duration": 0.028338,
     "end_time": "2025-08-19T18:45:19.169429",
     "exception": false,
     "start_time": "2025-08-19T18:45:19.141091",
     "status": "completed"
    },
    "tags": []
   },
   "outputs": [],
   "source": [
    "for subgroup, cov in cond_coverage.items():\n",
    "    cp_metrics_df[f\"cov_{subgroup}\"] = cov"
   ]
  },
  {
   "cell_type": "code",
   "execution_count": 56,
   "id": "3970120f",
   "metadata": {
    "execution": {
     "iopub.execute_input": "2025-08-19T18:45:19.200258Z",
     "iopub.status.busy": "2025-08-19T18:45:19.199612Z",
     "iopub.status.idle": "2025-08-19T18:45:19.225969Z",
     "shell.execute_reply": "2025-08-19T18:45:19.224857Z"
    },
    "papermill": {
     "duration": 0.042478,
     "end_time": "2025-08-19T18:45:19.227830",
     "exception": false,
     "start_time": "2025-08-19T18:45:19.185352",
     "status": "completed"
    },
    "tags": []
   },
   "outputs": [
    {
     "data": {
      "text/html": [
       "<div>\n",
       "<style scoped>\n",
       "    .dataframe tbody tr th:only-of-type {\n",
       "        vertical-align: middle;\n",
       "    }\n",
       "\n",
       "    .dataframe tbody tr th {\n",
       "        vertical-align: top;\n",
       "    }\n",
       "\n",
       "    .dataframe thead th {\n",
       "        text-align: right;\n",
       "    }\n",
       "</style>\n",
       "<table border=\"1\" class=\"dataframe\">\n",
       "  <thead>\n",
       "    <tr style=\"text-align: right;\">\n",
       "      <th></th>\n",
       "      <th>universe_id</th>\n",
       "      <th>universe_training_year</th>\n",
       "      <th>universe_training_size</th>\n",
       "      <th>universe_scale</th>\n",
       "      <th>universe_model</th>\n",
       "      <th>universe_exclude_features</th>\n",
       "      <th>universe_exclude_subgroups</th>\n",
       "      <th>q_hat</th>\n",
       "      <th>coverage</th>\n",
       "      <th>avg_size</th>\n",
       "      <th>cov_frau1</th>\n",
       "      <th>cov_nongerman</th>\n",
       "      <th>cov_nongerman_male</th>\n",
       "      <th>cov_nongerman_female</th>\n",
       "    </tr>\n",
       "  </thead>\n",
       "  <tbody>\n",
       "    <tr>\n",
       "      <th>0</th>\n",
       "      <td>925ac49ed280ef0f645870fa2279e56c</td>\n",
       "      <td>2010_14</td>\n",
       "      <td>5k</td>\n",
       "      <td>do-not-scale</td>\n",
       "      <td>logreg</td>\n",
       "      <td>age</td>\n",
       "      <td>drop-non-german</td>\n",
       "      <td>0.670156</td>\n",
       "      <td>0.913822</td>\n",
       "      <td>1.253963</td>\n",
       "      <td>0.914732</td>\n",
       "      <td>0.965419</td>\n",
       "      <td>0.969918</td>\n",
       "      <td>0.957973</td>\n",
       "    </tr>\n",
       "  </tbody>\n",
       "</table>\n",
       "</div>"
      ],
      "text/plain": [
       "                        universe_id universe_training_year  \\\n",
       "0  925ac49ed280ef0f645870fa2279e56c                2010_14   \n",
       "\n",
       "  universe_training_size universe_scale universe_model  \\\n",
       "0                     5k   do-not-scale         logreg   \n",
       "\n",
       "  universe_exclude_features universe_exclude_subgroups     q_hat  coverage  \\\n",
       "0                       age            drop-non-german  0.670156  0.913822   \n",
       "\n",
       "   avg_size  cov_frau1  cov_nongerman  cov_nongerman_male  \\\n",
       "0  1.253963   0.914732       0.965419            0.969918   \n",
       "\n",
       "   cov_nongerman_female  \n",
       "0              0.957973  "
      ]
     },
     "execution_count": 56,
     "metadata": {},
     "output_type": "execute_result"
    }
   ],
   "source": [
    "cp_metrics_df"
   ]
  },
  {
   "cell_type": "markdown",
   "id": "3fc519cc",
   "metadata": {
    "papermill": {
     "duration": 0.013547,
     "end_time": "2025-08-19T18:45:19.265582",
     "exception": false,
     "start_time": "2025-08-19T18:45:19.252035",
     "status": "completed"
    },
    "tags": []
   },
   "source": [
    "# (Fairness) Metrics"
   ]
  },
  {
   "cell_type": "code",
   "execution_count": 57,
   "id": "a2e5e155",
   "metadata": {
    "execution": {
     "iopub.execute_input": "2025-08-19T18:45:19.302484Z",
     "iopub.status.busy": "2025-08-19T18:45:19.301471Z",
     "iopub.status.idle": "2025-08-19T18:45:19.321318Z",
     "shell.execute_reply": "2025-08-19T18:45:19.320423Z"
    },
    "papermill": {
     "duration": 0.045361,
     "end_time": "2025-08-19T18:45:19.323301",
     "exception": false,
     "start_time": "2025-08-19T18:45:19.277940",
     "status": "completed"
    },
    "tags": []
   },
   "outputs": [],
   "source": [
    "colname_to_bin = \"maxdeutsch1\"\n",
    "majority_value = org_train[colname_to_bin].mode()[0]\n",
    "\n",
    "org_test[\"majmin\"] = np.where(org_test[colname_to_bin] == majority_value, \"majority\", \"minority\")"
   ]
  },
  {
   "cell_type": "code",
   "execution_count": 58,
   "id": "17e3e4d5",
   "metadata": {
    "execution": {
     "iopub.execute_input": "2025-08-19T18:45:19.363315Z",
     "iopub.status.busy": "2025-08-19T18:45:19.362166Z",
     "iopub.status.idle": "2025-08-19T18:45:21.103227Z",
     "shell.execute_reply": "2025-08-19T18:45:21.101974Z"
    },
    "papermill": {
     "duration": 1.757774,
     "end_time": "2025-08-19T18:45:21.105081",
     "exception": false,
     "start_time": "2025-08-19T18:45:19.347307",
     "status": "completed"
    },
    "tags": []
   },
   "outputs": [],
   "source": [
    "example_universe = universe.copy()\n",
    "example_universe[\"cutoff\"] = example_universe[\"cutoff\"][0]\n",
    "example_universe[\"eval_fairness_grouping\"] = example_universe[\"eval_fairness_grouping\"][0]\n",
    "fairness_dict, metric_frame = universe_analysis.compute_metrics(\n",
    "    example_universe,\n",
    "    y_pred_prob=probs_test,\n",
    "    y_test=y_true,\n",
    "    org_test=org_test,\n",
    ")"
   ]
  },
  {
   "cell_type": "markdown",
   "id": "1fb7a0e9",
   "metadata": {
    "papermill": {
     "duration": 0.012488,
     "end_time": "2025-08-19T18:45:21.131030",
     "exception": false,
     "start_time": "2025-08-19T18:45:21.118542",
     "status": "completed"
    },
    "tags": []
   },
   "source": [
    "# Overall"
   ]
  },
  {
   "cell_type": "markdown",
   "id": "be1784b1",
   "metadata": {
    "papermill": {
     "duration": 0.012302,
     "end_time": "2025-08-19T18:45:21.155703",
     "exception": false,
     "start_time": "2025-08-19T18:45:21.143401",
     "status": "completed"
    },
    "tags": []
   },
   "source": [
    "Main fairness target: Equalized Odds. Seems to be a better fit than equal opportunity, since we're not only interested in Y = 1. Seems to be a better fit than demographic parity, since we also care about accuracy, not just equal distribution of preds.\n",
    "\n",
    "Pick column for computation of fairness metrics\n",
    "\n",
    "Performance\n",
    "Overall performance measures, most interesting in relation to the measures split by group below"
   ]
  },
  {
   "cell_type": "code",
   "execution_count": 59,
   "id": "b7672bee",
   "metadata": {
    "execution": {
     "iopub.execute_input": "2025-08-19T18:45:21.184034Z",
     "iopub.status.busy": "2025-08-19T18:45:21.183254Z",
     "iopub.status.idle": "2025-08-19T18:45:21.200087Z",
     "shell.execute_reply": "2025-08-19T18:45:21.198804Z"
    },
    "papermill": {
     "duration": 0.033906,
     "end_time": "2025-08-19T18:45:21.201901",
     "exception": false,
     "start_time": "2025-08-19T18:45:21.167995",
     "status": "completed"
    },
    "tags": []
   },
   "outputs": [
    {
     "data": {
      "text/plain": [
       "accuracy                   0.217133\n",
       "balanced accuracy          0.532437\n",
       "f1                         0.238664\n",
       "precision                  0.136341\n",
       "false positive rate        0.891678\n",
       "false negative rate        0.043448\n",
       "selection rate             0.900000\n",
       "count                  89710.000000\n",
       "dtype: float64"
      ]
     },
     "execution_count": 59,
     "metadata": {},
     "output_type": "execute_result"
    }
   ],
   "source": [
    "metric_frame.overall"
   ]
  },
  {
   "cell_type": "markdown",
   "id": "d93333c9",
   "metadata": {
    "papermill": {
     "duration": 0.01275,
     "end_time": "2025-08-19T18:45:21.234902",
     "exception": false,
     "start_time": "2025-08-19T18:45:21.222152",
     "status": "completed"
    },
    "tags": []
   },
   "source": [
    "By Group"
   ]
  },
  {
   "cell_type": "code",
   "execution_count": 60,
   "id": "52256966",
   "metadata": {
    "execution": {
     "iopub.execute_input": "2025-08-19T18:45:21.262680Z",
     "iopub.status.busy": "2025-08-19T18:45:21.262002Z",
     "iopub.status.idle": "2025-08-19T18:45:21.284903Z",
     "shell.execute_reply": "2025-08-19T18:45:21.284087Z"
    },
    "papermill": {
     "duration": 0.039133,
     "end_time": "2025-08-19T18:45:21.286582",
     "exception": false,
     "start_time": "2025-08-19T18:45:21.247449",
     "status": "completed"
    },
    "tags": []
   },
   "outputs": [
    {
     "data": {
      "text/html": [
       "<div>\n",
       "<style scoped>\n",
       "    .dataframe tbody tr th:only-of-type {\n",
       "        vertical-align: middle;\n",
       "    }\n",
       "\n",
       "    .dataframe tbody tr th {\n",
       "        vertical-align: top;\n",
       "    }\n",
       "\n",
       "    .dataframe thead th {\n",
       "        text-align: right;\n",
       "    }\n",
       "</style>\n",
       "<table border=\"1\" class=\"dataframe\">\n",
       "  <thead>\n",
       "    <tr style=\"text-align: right;\">\n",
       "      <th></th>\n",
       "      <th>accuracy</th>\n",
       "      <th>balanced accuracy</th>\n",
       "      <th>f1</th>\n",
       "      <th>precision</th>\n",
       "      <th>false positive rate</th>\n",
       "      <th>false negative rate</th>\n",
       "      <th>selection rate</th>\n",
       "      <th>count</th>\n",
       "    </tr>\n",
       "    <tr>\n",
       "      <th>majmin</th>\n",
       "      <th></th>\n",
       "      <th></th>\n",
       "      <th></th>\n",
       "      <th></th>\n",
       "      <th></th>\n",
       "      <th></th>\n",
       "      <th></th>\n",
       "      <th></th>\n",
       "    </tr>\n",
       "  </thead>\n",
       "  <tbody>\n",
       "    <tr>\n",
       "      <th>majority</th>\n",
       "      <td>0.238846</td>\n",
       "      <td>0.540006</td>\n",
       "      <td>0.247904</td>\n",
       "      <td>0.142566</td>\n",
       "      <td>0.869332</td>\n",
       "      <td>0.050656</td>\n",
       "      <td>0.879905</td>\n",
       "      <td>69170.0</td>\n",
       "    </tr>\n",
       "    <tr>\n",
       "      <th>minority</th>\n",
       "      <td>0.144012</td>\n",
       "      <td>0.509439</td>\n",
       "      <td>0.209585</td>\n",
       "      <td>0.117277</td>\n",
       "      <td>0.965496</td>\n",
       "      <td>0.015625</td>\n",
       "      <td>0.967673</td>\n",
       "      <td>20540.0</td>\n",
       "    </tr>\n",
       "  </tbody>\n",
       "</table>\n",
       "</div>"
      ],
      "text/plain": [
       "          accuracy  balanced accuracy        f1  precision  \\\n",
       "majmin                                                       \n",
       "majority  0.238846           0.540006  0.247904   0.142566   \n",
       "minority  0.144012           0.509439  0.209585   0.117277   \n",
       "\n",
       "          false positive rate  false negative rate  selection rate    count  \n",
       "majmin                                                                       \n",
       "majority             0.869332             0.050656        0.879905  69170.0  \n",
       "minority             0.965496             0.015625        0.967673  20540.0  "
      ]
     },
     "execution_count": 60,
     "metadata": {},
     "output_type": "execute_result"
    }
   ],
   "source": [
    "metric_frame.by_group"
   ]
  },
  {
   "cell_type": "code",
   "execution_count": 61,
   "id": "6e6c20ae",
   "metadata": {
    "execution": {
     "iopub.execute_input": "2025-08-19T18:45:21.337717Z",
     "iopub.status.busy": "2025-08-19T18:45:21.337414Z",
     "iopub.status.idle": "2025-08-19T18:45:23.194653Z",
     "shell.execute_reply": "2025-08-19T18:45:23.193706Z"
    },
    "papermill": {
     "duration": 1.877539,
     "end_time": "2025-08-19T18:45:23.196186",
     "exception": false,
     "start_time": "2025-08-19T18:45:21.318647",
     "status": "completed"
    },
    "tags": []
   },
   "outputs": [
    {
     "data": {
      "text/plain": [
       "array([[<Axes: title={'center': 'accuracy'}, xlabel='majmin'>,\n",
       "        <Axes: title={'center': 'balanced accuracy'}, xlabel='majmin'>,\n",
       "        <Axes: title={'center': 'f1'}, xlabel='majmin'>],\n",
       "       [<Axes: title={'center': 'precision'}, xlabel='majmin'>,\n",
       "        <Axes: title={'center': 'false positive rate'}, xlabel='majmin'>,\n",
       "        <Axes: title={'center': 'false negative rate'}, xlabel='majmin'>],\n",
       "       [<Axes: title={'center': 'selection rate'}, xlabel='majmin'>,\n",
       "        <Axes: title={'center': 'count'}, xlabel='majmin'>,\n",
       "        <Axes: xlabel='majmin'>]], dtype=object)"
      ]
     },
     "execution_count": 61,
     "metadata": {},
     "output_type": "execute_result"
    },
    {
     "data": {
      "image/png": "[encoded data removed]",
      "text/plain": [
       "<Figure size 1200x800 with 9 Axes>"
      ]
     },
     "metadata": {},
     "output_type": "display_data"
    }
   ],
   "source": [
    "# In a graphic\n",
    "metric_frame.by_group.plot.bar(\n",
    "    subplots=True,\n",
    "    layout=[3, 3],\n",
    "    legend=False,\n",
    "    figsize=[12, 8],\n",
    "    title=\"Show all metrics\",\n",
    ")"
   ]
  },
  {
   "cell_type": "markdown",
   "id": "b2e433ae",
   "metadata": {
    "papermill": {
     "duration": 0.013888,
     "end_time": "2025-08-19T18:45:23.225327",
     "exception": false,
     "start_time": "2025-08-19T18:45:23.211439",
     "status": "completed"
    },
    "tags": []
   },
   "source": [
    "# Final Output"
   ]
  },
  {
   "cell_type": "code",
   "execution_count": 62,
   "id": "3871301e",
   "metadata": {
    "execution": {
     "iopub.execute_input": "2025-08-19T18:45:23.259301Z",
     "iopub.status.busy": "2025-08-19T18:45:23.257524Z",
     "iopub.status.idle": "2025-08-19T18:45:23.278417Z",
     "shell.execute_reply": "2025-08-19T18:45:23.277342Z"
    },
    "papermill": {
     "duration": 0.04043,
     "end_time": "2025-08-19T18:45:23.280302",
     "exception": false,
     "start_time": "2025-08-19T18:45:23.239872",
     "status": "completed"
    },
    "tags": []
   },
   "outputs": [
    {
     "data": {
      "text/plain": [
       "4"
      ]
     },
     "execution_count": 62,
     "metadata": {},
     "output_type": "execute_result"
    }
   ],
   "source": [
    "sub_universes = universe_analysis.generate_sub_universes()\n",
    "len(sub_universes)"
   ]
  },
  {
   "cell_type": "code",
   "execution_count": 63,
   "id": "d9cfdaca",
   "metadata": {
    "execution": {
     "iopub.execute_input": "2025-08-19T18:45:23.323039Z",
     "iopub.status.busy": "2025-08-19T18:45:23.322301Z",
     "iopub.status.idle": "2025-08-19T18:45:23.332054Z",
     "shell.execute_reply": "2025-08-19T18:45:23.330384Z"
    },
    "papermill": {
     "duration": 0.027596,
     "end_time": "2025-08-19T18:45:23.333335",
     "exception": false,
     "start_time": "2025-08-19T18:45:23.305739",
     "status": "completed"
    },
    "tags": []
   },
   "outputs": [],
   "source": [
    "def filter_sub_universe_data(sub_universe, org_test):\n",
    "    # Keep all rows — no filtering\n",
    "    keep_rows_mask = np.ones(org_test.shape[0], dtype=bool)\n",
    "\n",
    "    print(f\"[INFO] Keeping all rows: {keep_rows_mask.sum()} rows retained.\")\n",
    "    return keep_rows_mask"
   ]
  },
  {
   "cell_type": "code",
   "execution_count": 64,
   "id": "2bc31ac1",
   "metadata": {
    "execution": {
     "iopub.execute_input": "2025-08-19T18:45:23.366400Z",
     "iopub.status.busy": "2025-08-19T18:45:23.365744Z",
     "iopub.status.idle": "2025-08-19T18:45:30.145126Z",
     "shell.execute_reply": "2025-08-19T18:45:30.143876Z"
    },
    "papermill": {
     "duration": 6.796364,
     "end_time": "2025-08-19T18:45:30.146597",
     "exception": false,
     "start_time": "2025-08-19T18:45:23.350233",
     "status": "completed"
    },
    "tags": []
   },
   "outputs": [
    {
     "name": "stdout",
     "output_type": "stream",
     "text": [
      "Stopping execution_time clock.\n",
      "[INFO] Keeping all rows: 89710 rows retained.\n"
     ]
    },
    {
     "name": "stdout",
     "output_type": "stream",
     "text": [
      "[INFO] Keeping all rows: 89710 rows retained.\n"
     ]
    },
    {
     "name": "stdout",
     "output_type": "stream",
     "text": [
      "[INFO] Keeping all rows: 89710 rows retained.\n"
     ]
    },
    {
     "name": "stdout",
     "output_type": "stream",
     "text": [
      "[INFO] Keeping all rows: 89710 rows retained.\n"
     ]
    },
    {
     "data": {
      "text/html": [
       "<div>\n",
       "<style scoped>\n",
       "    .dataframe tbody tr th:only-of-type {\n",
       "        vertical-align: middle;\n",
       "    }\n",
       "\n",
       "    .dataframe tbody tr th {\n",
       "        vertical-align: top;\n",
       "    }\n",
       "\n",
       "    .dataframe thead th {\n",
       "        text-align: right;\n",
       "    }\n",
       "</style>\n",
       "<table border=\"1\" class=\"dataframe\">\n",
       "  <thead>\n",
       "    <tr style=\"text-align: right;\">\n",
       "      <th></th>\n",
       "      <th>run_no</th>\n",
       "      <th>universe_id</th>\n",
       "      <th>universe_settings</th>\n",
       "      <th>execution_time</th>\n",
       "      <th>test_size_n</th>\n",
       "      <th>test_size_frac</th>\n",
       "      <th>fair_main_equalized_odds_difference</th>\n",
       "      <th>fair_main_equalized_odds_ratio</th>\n",
       "      <th>fair_main_demographic_parity_difference</th>\n",
       "      <th>fair_main_demographic_parity_ratio</th>\n",
       "      <th>...</th>\n",
       "      <th>perf_grp_precision_0</th>\n",
       "      <th>perf_grp_precision_1</th>\n",
       "      <th>perf_grp_false positive rate_0</th>\n",
       "      <th>perf_grp_false positive rate_1</th>\n",
       "      <th>perf_grp_false negative rate_0</th>\n",
       "      <th>perf_grp_false negative rate_1</th>\n",
       "      <th>perf_grp_selection rate_0</th>\n",
       "      <th>perf_grp_selection rate_1</th>\n",
       "      <th>perf_grp_count_0</th>\n",
       "      <th>perf_grp_count_1</th>\n",
       "    </tr>\n",
       "  </thead>\n",
       "  <tbody>\n",
       "    <tr>\n",
       "      <th>0</th>\n",
       "      <td>3</td>\n",
       "      <td>925ac49ed280ef0f645870fa2279e56c</td>\n",
       "      <td>{\"cutoff\": \"quantile_0.1\", \"eval_fairness_grou...</td>\n",
       "      <td>21.316523</td>\n",
       "      <td>89710</td>\n",
       "      <td>1.0</td>\n",
       "      <td>0.096164</td>\n",
       "      <td>0.900399</td>\n",
       "      <td>0.087768</td>\n",
       "      <td>0.909300</td>\n",
       "      <td>...</td>\n",
       "      <td>NaN</td>\n",
       "      <td>NaN</td>\n",
       "      <td>NaN</td>\n",
       "      <td>NaN</td>\n",
       "      <td>NaN</td>\n",
       "      <td>NaN</td>\n",
       "      <td>NaN</td>\n",
       "      <td>NaN</td>\n",
       "      <td>NaN</td>\n",
       "      <td>NaN</td>\n",
       "    </tr>\n",
       "    <tr>\n",
       "      <th>0</th>\n",
       "      <td>3</td>\n",
       "      <td>925ac49ed280ef0f645870fa2279e56c</td>\n",
       "      <td>{\"cutoff\": \"quantile_0.1\", \"eval_fairness_grou...</td>\n",
       "      <td>21.316523</td>\n",
       "      <td>89710</td>\n",
       "      <td>1.0</td>\n",
       "      <td>0.096164</td>\n",
       "      <td>0.900399</td>\n",
       "      <td>0.087768</td>\n",
       "      <td>0.909300</td>\n",
       "      <td>...</td>\n",
       "      <td>0.117277</td>\n",
       "      <td>0.142566</td>\n",
       "      <td>0.965496</td>\n",
       "      <td>0.869332</td>\n",
       "      <td>0.015625</td>\n",
       "      <td>0.050656</td>\n",
       "      <td>0.967673</td>\n",
       "      <td>0.879905</td>\n",
       "      <td>20540.0</td>\n",
       "      <td>69170.0</td>\n",
       "    </tr>\n",
       "    <tr>\n",
       "      <th>0</th>\n",
       "      <td>3</td>\n",
       "      <td>925ac49ed280ef0f645870fa2279e56c</td>\n",
       "      <td>{\"cutoff\": \"quantile_0.25\", \"eval_fairness_gro...</td>\n",
       "      <td>21.316523</td>\n",
       "      <td>89710</td>\n",
       "      <td>1.0</td>\n",
       "      <td>0.230726</td>\n",
       "      <td>0.746340</td>\n",
       "      <td>0.212356</td>\n",
       "      <td>0.767594</td>\n",
       "      <td>...</td>\n",
       "      <td>NaN</td>\n",
       "      <td>NaN</td>\n",
       "      <td>NaN</td>\n",
       "      <td>NaN</td>\n",
       "      <td>NaN</td>\n",
       "      <td>NaN</td>\n",
       "      <td>NaN</td>\n",
       "      <td>NaN</td>\n",
       "      <td>NaN</td>\n",
       "      <td>NaN</td>\n",
       "    </tr>\n",
       "    <tr>\n",
       "      <th>0</th>\n",
       "      <td>3</td>\n",
       "      <td>925ac49ed280ef0f645870fa2279e56c</td>\n",
       "      <td>{\"cutoff\": \"quantile_0.25\", \"eval_fairness_gro...</td>\n",
       "      <td>21.316523</td>\n",
       "      <td>89710</td>\n",
       "      <td>1.0</td>\n",
       "      <td>0.230726</td>\n",
       "      <td>0.746340</td>\n",
       "      <td>0.212356</td>\n",
       "      <td>0.767594</td>\n",
       "      <td>...</td>\n",
       "      <td>0.119299</td>\n",
       "      <td>0.159995</td>\n",
       "      <td>0.909586</td>\n",
       "      <td>0.678861</td>\n",
       "      <td>0.054476</td>\n",
       "      <td>0.150766</td>\n",
       "      <td>0.913729</td>\n",
       "      <td>0.701373</td>\n",
       "      <td>20540.0</td>\n",
       "      <td>69170.0</td>\n",
       "    </tr>\n",
       "  </tbody>\n",
       "</table>\n",
       "<p>4 rows × 50 columns</p>\n",
       "</div>"
      ],
      "text/plain": [
       "  run_no                       universe_id  \\\n",
       "0      3  925ac49ed280ef0f645870fa2279e56c   \n",
       "0      3  925ac49ed280ef0f645870fa2279e56c   \n",
       "0      3  925ac49ed280ef0f645870fa2279e56c   \n",
       "0      3  925ac49ed280ef0f645870fa2279e56c   \n",
       "\n",
       "                                   universe_settings  execution_time  \\\n",
       "0  {\"cutoff\": \"quantile_0.1\", \"eval_fairness_grou...       21.316523   \n",
       "0  {\"cutoff\": \"quantile_0.1\", \"eval_fairness_grou...       21.316523   \n",
       "0  {\"cutoff\": \"quantile_0.25\", \"eval_fairness_gro...       21.316523   \n",
       "0  {\"cutoff\": \"quantile_0.25\", \"eval_fairness_gro...       21.316523   \n",
       "\n",
       "   test_size_n  test_size_frac  fair_main_equalized_odds_difference  \\\n",
       "0        89710             1.0                             0.096164   \n",
       "0        89710             1.0                             0.096164   \n",
       "0        89710             1.0                             0.230726   \n",
       "0        89710             1.0                             0.230726   \n",
       "\n",
       "   fair_main_equalized_odds_ratio  fair_main_demographic_parity_difference  \\\n",
       "0                        0.900399                                 0.087768   \n",
       "0                        0.900399                                 0.087768   \n",
       "0                        0.746340                                 0.212356   \n",
       "0                        0.746340                                 0.212356   \n",
       "\n",
       "   fair_main_demographic_parity_ratio  ...  perf_grp_precision_0  \\\n",
       "0                            0.909300  ...                   NaN   \n",
       "0                            0.909300  ...              0.117277   \n",
       "0                            0.767594  ...                   NaN   \n",
       "0                            0.767594  ...              0.119299   \n",
       "\n",
       "   perf_grp_precision_1  perf_grp_false positive rate_0  \\\n",
       "0                   NaN                             NaN   \n",
       "0              0.142566                        0.965496   \n",
       "0                   NaN                             NaN   \n",
       "0              0.159995                        0.909586   \n",
       "\n",
       "   perf_grp_false positive rate_1  perf_grp_false negative rate_0  \\\n",
       "0                             NaN                             NaN   \n",
       "0                        0.869332                        0.015625   \n",
       "0                             NaN                             NaN   \n",
       "0                        0.678861                        0.054476   \n",
       "\n",
       "   perf_grp_false negative rate_1  perf_grp_selection rate_0  \\\n",
       "0                             NaN                        NaN   \n",
       "0                        0.050656                   0.967673   \n",
       "0                             NaN                        NaN   \n",
       "0                        0.150766                   0.913729   \n",
       "\n",
       "   perf_grp_selection rate_1  perf_grp_count_0  perf_grp_count_1  \n",
       "0                        NaN               NaN               NaN  \n",
       "0                   0.879905           20540.0           69170.0  \n",
       "0                        NaN               NaN               NaN  \n",
       "0                   0.701373           20540.0           69170.0  \n",
       "\n",
       "[4 rows x 50 columns]"
      ]
     },
     "execution_count": 64,
     "metadata": {},
     "output_type": "execute_result"
    }
   ],
   "source": [
    "final_output = universe_analysis.generate_final_output(\n",
    "    y_pred_prob=probs_test,\n",
    "    y_test=y_true,\n",
    "    org_test=org_test,\n",
    "    filter_data=filter_sub_universe_data,\n",
    "    cp_metrics_df=cp_metrics_df,\n",
    "    save=True,\n",
    ")\n",
    "final_output"
   ]
  },
  {
   "cell_type": "code",
   "execution_count": null,
   "id": "8b80a1ff",
   "metadata": {
    "papermill": {
     "duration": 0.01517,
     "end_time": "2025-08-19T18:45:30.179511",
     "exception": false,
     "start_time": "2025-08-19T18:45:30.164341",
     "status": "completed"
    },
    "tags": []
   },
   "outputs": [],
   "source": []
  },
  {
   "cell_type": "code",
   "execution_count": null,
   "id": "275c9fad",
   "metadata": {
    "papermill": {
     "duration": 0.014059,
     "end_time": "2025-08-19T18:45:30.207772",
     "exception": false,
     "start_time": "2025-08-19T18:45:30.193713",
     "status": "completed"
    },
    "tags": []
   },
   "outputs": [],
   "source": []
  }
 ],
 "metadata": {
  "celltoolbar": "Tags",
  "kernelspec": {
   "display_name": "Python (CMA Fairness)",
   "language": "python",
   "name": "cma_fair_env"
  },
  "language_info": {
   "codemirror_mode": {
    "name": "ipython",
    "version": 3
   },
   "file_extension": ".py",
   "mimetype": "text/x-python",
   "name": "python",
   "nbconvert_exporter": "python",
   "pygments_lexer": "ipython3",
   "version": "3.10.12"
  },
  "papermill": {
   "default_parameters": {},
   "duration": 31.778083,
   "end_time": "2025-08-19T18:45:31.052790",
   "environment_variables": {},
   "exception": null,
   "input_path": "universe_analysis.ipynb",
   "output_path": "output/runs/3/notebooks/m_3-925ac49ed280ef0f645870fa2279e56c.ipynb",
   "parameters": {
    "output_dir": "output",
    "run_no": "3",
    "seed": "2023",
    "universe": "{\"cutoff\": [\"quantile_0.1\", \"quantile_0.25\"], \"eval_fairness_grouping\": [\"majority-minority\", \"nationality-all\"], \"exclude_features\": \"age\", \"exclude_subgroups\": \"drop-non-german\", \"model\": \"logreg\", \"scale\": \"do-not-scale\", \"training_size\": \"5k\", \"training_year\": \"2010_14\"}",
    "universe_id": "925ac49ed280ef0f645870fa2279e56c"
   },
   "start_time": "2025-08-19T18:44:59.274707",
   "version": "2.6.0"
  }
 },
 "nbformat": 4,
 "nbformat_minor": 5
}