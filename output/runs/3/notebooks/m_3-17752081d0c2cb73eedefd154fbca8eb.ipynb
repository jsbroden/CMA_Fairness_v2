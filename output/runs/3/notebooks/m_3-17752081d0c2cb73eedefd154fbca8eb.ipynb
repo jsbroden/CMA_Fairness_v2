{
 "cells": [
  {
   "cell_type": "markdown",
   "id": "ef23dbb3",
   "metadata": {
    "papermill": {
     "duration": 0.023156,
     "end_time": "2025-08-19T18:49:19.095904",
     "exception": false,
     "start_time": "2025-08-19T18:49:19.072748",
     "status": "completed"
    },
    "tags": []
   },
   "source": [
    "# Setup"
   ]
  },
  {
   "cell_type": "code",
   "execution_count": 1,
   "id": "0bc8e7dc",
   "metadata": {
    "execution": {
     "iopub.execute_input": "2025-08-19T18:49:19.123559Z",
     "iopub.status.busy": "2025-08-19T18:49:19.123070Z",
     "iopub.status.idle": "2025-08-19T18:49:19.132733Z",
     "shell.execute_reply": "2025-08-19T18:49:19.132001Z"
    },
    "papermill": {
     "duration": 0.02165,
     "end_time": "2025-08-19T18:49:19.134793",
     "exception": false,
     "start_time": "2025-08-19T18:49:19.113143",
     "status": "completed"
    },
    "tags": []
   },
   "outputs": [
    {
     "name": "stdout",
     "output_type": "stream",
     "text": [
      "/dss/dsshome1/0C/ra93lal2/cma/CMA_Fairness_v2\n"
     ]
    },
    {
     "name": "stderr",
     "output_type": "stream",
     "text": [
      "/dss/dsshome1/0C/ra93lal2/.local/share/virtualenvs/CMA_Fairness_v2-3j10GkSs/lib/python3.10/site-packages/IPython/core/magics/osm.py:393: UserWarning: This is now an optional IPython functionality, using bookmarks requires you to install the `pickleshare` library.\n",
      "  bkms = self.shell.db.get('bookmarks', {})\n",
      "/dss/dsshome1/0C/ra93lal2/.local/share/virtualenvs/CMA_Fairness_v2-3j10GkSs/lib/python3.10/site-packages/IPython/core/magics/osm.py:417: UserWarning: This is now an optional IPython functionality, setting dhist requires you to install the `pickleshare` library.\n",
      "  self.shell.db['dhist'] = compress_dhist(dhist)[-100:]\n"
     ]
    }
   ],
   "source": [
    "%cd ~/cma/CMA_Fairness_v2"
   ]
  },
  {
   "cell_type": "markdown",
   "id": "9d235661",
   "metadata": {
    "papermill": {
     "duration": 0.009076,
     "end_time": "2025-08-19T18:49:19.159895",
     "exception": false,
     "start_time": "2025-08-19T18:49:19.150819",
     "status": "completed"
    },
    "tags": []
   },
   "source": [
    "The following cell holds the definition of our parameters, these values can be overriden by rendering the with e.g. the following command:\n",
    "\n",
    "papermill -p alpha 0.2 -p ratio 0.3 universe_analysis.ipynb output/test_run.ipynb"
   ]
  },
  {
   "cell_type": "code",
   "execution_count": 2,
   "id": "4a789d8e",
   "metadata": {
    "execution": {
     "iopub.execute_input": "2025-08-19T18:49:19.181465Z",
     "iopub.status.busy": "2025-08-19T18:49:19.180717Z",
     "iopub.status.idle": "2025-08-19T18:49:19.188114Z",
     "shell.execute_reply": "2025-08-19T18:49:19.186764Z"
    },
    "papermill": {
     "duration": 0.021845,
     "end_time": "2025-08-19T18:49:19.191201",
     "exception": false,
     "start_time": "2025-08-19T18:49:19.169356",
     "status": "completed"
    },
    "tags": []
   },
   "outputs": [
    {
     "name": "stdout",
     "output_type": "stream",
     "text": [
      "Current working directory: /dss/dsshome1/0C/ra93lal2/cma/CMA_Fairness_v2\n"
     ]
    }
   ],
   "source": [
    "import os\n",
    "print(\"Current working directory:\", os.getcwd())"
   ]
  },
  {
   "cell_type": "code",
   "execution_count": 3,
   "id": "4132aaed",
   "metadata": {
    "execution": {
     "iopub.execute_input": "2025-08-19T18:49:19.226711Z",
     "iopub.status.busy": "2025-08-19T18:49:19.225598Z",
     "iopub.status.idle": "2025-08-19T18:49:19.236100Z",
     "shell.execute_reply": "2025-08-19T18:49:19.234406Z"
    },
    "papermill": {
     "duration": 0.040353,
     "end_time": "2025-08-19T18:49:19.252805",
     "exception": false,
     "start_time": "2025-08-19T18:49:19.212452",
     "status": "completed"
    },
    "tags": [
     "parameters"
    ]
   },
   "outputs": [],
   "source": [
    "run_no = 0\n",
    "universe_id = \"test\"\n",
    "universe = {\n",
    "    \"training_size\": \"5k\", # \"25k\", \"5k\", \"1k\"\n",
    "    \"training_year\": \"2012_14\", # \"2014\", \"2012_14\", \"2010_14\"\n",
    "    \"scale\": \"scale\", # \"scale\", \"do-not-scale\",\n",
    "    \"model\": \"elasticnet\", # \"logreg\", \"penalized_logreg\", \"rf\", \"gbm\", \"elasticnet\"\n",
    "    \"cutoff\": [\"quantile_0.15\", \"quantile_0.30\"],\n",
    "    \"exclude_features\": \"age\", # \"none\", \"nationality\", \"sex\", \"nationality-sex\", \"age\"\n",
    "    \"exclude_subgroups\": \"drop-non-german\", # \"keep-all\", \"drop-non-german\"\n",
    "    \"eval_fairness_grouping\": [\"majority-minority\", \"nationality-all\"]\n",
    "}\n",
    "\n",
    "output_dir=\"./output\"\n",
    "seed=0"
   ]
  },
  {
   "cell_type": "code",
   "execution_count": 4,
   "id": "bbb37811",
   "metadata": {
    "execution": {
     "iopub.execute_input": "2025-08-19T18:49:19.274770Z",
     "iopub.status.busy": "2025-08-19T18:49:19.273533Z",
     "iopub.status.idle": "2025-08-19T18:49:19.282757Z",
     "shell.execute_reply": "2025-08-19T18:49:19.281244Z"
    },
    "papermill": {
     "duration": 0.021977,
     "end_time": "2025-08-19T18:49:19.284617",
     "exception": false,
     "start_time": "2025-08-19T18:49:19.262640",
     "status": "completed"
    },
    "tags": [
     "injected-parameters"
    ]
   },
   "outputs": [],
   "source": [
    "# Parameters\n",
    "universe_id = \"17752081d0c2cb73eedefd154fbca8eb\"\n",
    "run_no = \"3\"\n",
    "universe = \"{\\\"cutoff\\\": [\\\"quantile_0.1\\\", \\\"quantile_0.25\\\"], \\\"eval_fairness_grouping\\\": [\\\"majority-minority\\\", \\\"nationality-all\\\"], \\\"exclude_features\\\": \\\"none\\\", \\\"exclude_subgroups\\\": \\\"drop-non-german\\\", \\\"model\\\": \\\"penalized_logreg\\\", \\\"scale\\\": \\\"scale\\\", \\\"training_size\\\": \\\"1k\\\", \\\"training_year\\\": \\\"2014\\\"}\"\n",
    "output_dir = \"output\"\n",
    "seed = \"2023\"\n"
   ]
  },
  {
   "cell_type": "code",
   "execution_count": 5,
   "id": "a5d7941f",
   "metadata": {
    "execution": {
     "iopub.execute_input": "2025-08-19T18:49:19.312622Z",
     "iopub.status.busy": "2025-08-19T18:49:19.311435Z",
     "iopub.status.idle": "2025-08-19T18:49:19.375167Z",
     "shell.execute_reply": "2025-08-19T18:49:19.374453Z"
    },
    "papermill": {
     "duration": 0.079159,
     "end_time": "2025-08-19T18:49:19.377635",
     "exception": false,
     "start_time": "2025-08-19T18:49:19.298476",
     "status": "completed"
    },
    "tags": []
   },
   "outputs": [],
   "source": [
    "import json\n",
    "if isinstance(universe, str):\n",
    "    universe = json.loads(universe)"
   ]
  },
  {
   "cell_type": "code",
   "execution_count": 6,
   "id": "7076ccb1",
   "metadata": {
    "execution": {
     "iopub.execute_input": "2025-08-19T18:49:19.401225Z",
     "iopub.status.busy": "2025-08-19T18:49:19.400808Z",
     "iopub.status.idle": "2025-08-19T18:49:19.468207Z",
     "shell.execute_reply": "2025-08-19T18:49:19.467145Z"
    },
    "papermill": {
     "duration": 0.079487,
     "end_time": "2025-08-19T18:49:19.470027",
     "exception": false,
     "start_time": "2025-08-19T18:49:19.390540",
     "status": "completed"
    },
    "tags": []
   },
   "outputs": [],
   "source": [
    "# Auto-reload the custom package\n",
    "%load_ext autoreload\n",
    "%autoreload 1\n",
    "%aimport fairness_multiverse"
   ]
  },
  {
   "cell_type": "code",
   "execution_count": 7,
   "id": "94c8eb93",
   "metadata": {
    "execution": {
     "iopub.execute_input": "2025-08-19T18:49:19.492572Z",
     "iopub.status.busy": "2025-08-19T18:49:19.491800Z",
     "iopub.status.idle": "2025-08-19T18:49:21.180976Z",
     "shell.execute_reply": "2025-08-19T18:49:21.180078Z"
    },
    "papermill": {
     "duration": 1.70217,
     "end_time": "2025-08-19T18:49:21.182733",
     "exception": false,
     "start_time": "2025-08-19T18:49:19.480563",
     "status": "completed"
    },
    "tags": []
   },
   "outputs": [],
   "source": [
    "from fairness_multiverse.universe import UniverseAnalysis\n",
    "\n",
    "universe_analysis = UniverseAnalysis(\n",
    "    run_no = run_no,\n",
    "    universe_id = universe_id,\n",
    "    universe = universe,\n",
    "    output_dir=output_dir,\n",
    ")"
   ]
  },
  {
   "cell_type": "code",
   "execution_count": 8,
   "id": "2a6381cf",
   "metadata": {
    "execution": {
     "iopub.execute_input": "2025-08-19T18:49:21.203799Z",
     "iopub.status.busy": "2025-08-19T18:49:21.203402Z",
     "iopub.status.idle": "2025-08-19T18:49:21.210420Z",
     "shell.execute_reply": "2025-08-19T18:49:21.209404Z"
    },
    "papermill": {
     "duration": 0.018802,
     "end_time": "2025-08-19T18:49:21.211643",
     "exception": false,
     "start_time": "2025-08-19T18:49:21.192841",
     "status": "completed"
    },
    "tags": []
   },
   "outputs": [
    {
     "name": "stdout",
     "output_type": "stream",
     "text": [
      "Using Seed: 2023\n"
     ]
    }
   ],
   "source": [
    "import numpy as np\n",
    "parsed_seed = int(seed)\n",
    "np.random.seed(parsed_seed)\n",
    "print(f\"Using Seed: {parsed_seed}\")"
   ]
  },
  {
   "cell_type": "markdown",
   "id": "b6e958b4",
   "metadata": {
    "papermill": {
     "duration": 0.020699,
     "end_time": "2025-08-19T18:49:21.243012",
     "exception": false,
     "start_time": "2025-08-19T18:49:21.222313",
     "status": "completed"
    },
    "tags": []
   },
   "source": [
    "# Loading Data"
   ]
  },
  {
   "cell_type": "code",
   "execution_count": 9,
   "id": "98701482",
   "metadata": {
    "execution": {
     "iopub.execute_input": "2025-08-19T18:49:21.269765Z",
     "iopub.status.busy": "2025-08-19T18:49:21.269395Z",
     "iopub.status.idle": "2025-08-19T18:49:31.988189Z",
     "shell.execute_reply": "2025-08-19T18:49:31.986647Z"
    },
    "papermill": {
     "duration": 10.732129,
     "end_time": "2025-08-19T18:49:31.989999",
     "exception": false,
     "start_time": "2025-08-19T18:49:21.257870",
     "status": "completed"
    },
    "tags": []
   },
   "outputs": [
    {
     "name": "stdout",
     "output_type": "stream",
     "text": [
      "Loading SIAB data from cache: data/siab_cached.csv.gz\n"
     ]
    },
    {
     "name": "stdout",
     "output_type": "stream",
     "text": [
      "(643690, 164)\n"
     ]
    }
   ],
   "source": [
    "from pathlib import Path\n",
    "import pandas as pd\n",
    "\n",
    "# File paths\n",
    "raw_file = Path(\"data/raw/siab.csv\")\n",
    "cache_file = Path(\"data/siab_cached.csv.gz\")\n",
    "\n",
    "# Ensure cache directory exists\n",
    "cache_file.parent.mkdir(parents=True, exist_ok=True)\n",
    "\n",
    "# Load with simple caching\n",
    "if cache_file.exists():\n",
    "    print(f\"Loading SIAB data from cache: {cache_file}\")\n",
    "    siab = pd.read_csv(cache_file, compression='gzip')\n",
    "else:\n",
    "    print(f\"Cache not found. Reading raw SIAB data: {raw_file}\")\n",
    "    siab = pd.read_csv(raw_file)\n",
    "    siab.to_csv(cache_file, index=False, compression='gzip')\n",
    "    print(f\"Cached SIAB data to: {cache_file}\")\n",
    "\n",
    "print(siab.shape)"
   ]
  },
  {
   "cell_type": "code",
   "execution_count": 10,
   "id": "058d2abb",
   "metadata": {
    "execution": {
     "iopub.execute_input": "2025-08-19T18:49:32.013789Z",
     "iopub.status.busy": "2025-08-19T18:49:32.013261Z",
     "iopub.status.idle": "2025-08-19T18:49:32.220553Z",
     "shell.execute_reply": "2025-08-19T18:49:32.219320Z"
    },
    "papermill": {
     "duration": 0.220393,
     "end_time": "2025-08-19T18:49:32.222890",
     "exception": false,
     "start_time": "2025-08-19T18:49:32.002497",
     "status": "completed"
    },
    "tags": []
   },
   "outputs": [
    {
     "data": {
      "text/html": [
       "<div>\n",
       "<style scoped>\n",
       "    .dataframe tbody tr th:only-of-type {\n",
       "        vertical-align: middle;\n",
       "    }\n",
       "\n",
       "    .dataframe tbody tr th {\n",
       "        vertical-align: top;\n",
       "    }\n",
       "\n",
       "    .dataframe thead th {\n",
       "        text-align: right;\n",
       "    }\n",
       "</style>\n",
       "<table border=\"1\" class=\"dataframe\">\n",
       "  <thead>\n",
       "    <tr style=\"text-align: right;\">\n",
       "      <th></th>\n",
       "      <th>persnr</th>\n",
       "      <th>year</th>\n",
       "      <th>nrEntry</th>\n",
       "      <th>ltue</th>\n",
       "      <th>employed_before</th>\n",
       "      <th>receipt_leh_before</th>\n",
       "      <th>receipt_lhg_before</th>\n",
       "      <th>se_before</th>\n",
       "      <th>ASU_notue_seeking_before</th>\n",
       "      <th>ASU_other_before</th>\n",
       "      <th>...</th>\n",
       "      <th>minijob_tot_dur_byage</th>\n",
       "      <th>ft_tot_dur_byage</th>\n",
       "      <th>befrist_tot_dur_byage</th>\n",
       "      <th>leih_tot_dur_byage</th>\n",
       "      <th>LHG_tot_dur_byage</th>\n",
       "      <th>LEH_tot_dur_byage</th>\n",
       "      <th>almp_tot_dur_byage</th>\n",
       "      <th>almp_aw_tot_dur_byage</th>\n",
       "      <th>se_tot_dur_byage</th>\n",
       "      <th>seeking1_tot_dur_byage</th>\n",
       "    </tr>\n",
       "  </thead>\n",
       "  <tbody>\n",
       "    <tr>\n",
       "      <th>0</th>\n",
       "      <td>7</td>\n",
       "      <td>2015</td>\n",
       "      <td>1</td>\n",
       "      <td>0</td>\n",
       "      <td>1</td>\n",
       "      <td>0</td>\n",
       "      <td>0</td>\n",
       "      <td>0</td>\n",
       "      <td>1</td>\n",
       "      <td>0</td>\n",
       "      <td>...</td>\n",
       "      <td>0.000000</td>\n",
       "      <td>0.000000</td>\n",
       "      <td>15.043478</td>\n",
       "      <td>0.000000</td>\n",
       "      <td>0.000000</td>\n",
       "      <td>0.000000</td>\n",
       "      <td>0.000000</td>\n",
       "      <td>0.000000</td>\n",
       "      <td>0.000000</td>\n",
       "      <td>0.000000</td>\n",
       "    </tr>\n",
       "    <tr>\n",
       "      <th>1</th>\n",
       "      <td>18</td>\n",
       "      <td>2010</td>\n",
       "      <td>1</td>\n",
       "      <td>1</td>\n",
       "      <td>0</td>\n",
       "      <td>0</td>\n",
       "      <td>0</td>\n",
       "      <td>0</td>\n",
       "      <td>0</td>\n",
       "      <td>0</td>\n",
       "      <td>...</td>\n",
       "      <td>0.000000</td>\n",
       "      <td>0.000000</td>\n",
       "      <td>0.000000</td>\n",
       "      <td>0.000000</td>\n",
       "      <td>0.000000</td>\n",
       "      <td>0.000000</td>\n",
       "      <td>0.000000</td>\n",
       "      <td>0.000000</td>\n",
       "      <td>0.000000</td>\n",
       "      <td>0.000000</td>\n",
       "    </tr>\n",
       "    <tr>\n",
       "      <th>2</th>\n",
       "      <td>18</td>\n",
       "      <td>2011</td>\n",
       "      <td>2</td>\n",
       "      <td>0</td>\n",
       "      <td>1</td>\n",
       "      <td>0</td>\n",
       "      <td>1</td>\n",
       "      <td>0</td>\n",
       "      <td>1</td>\n",
       "      <td>0</td>\n",
       "      <td>...</td>\n",
       "      <td>2.714286</td>\n",
       "      <td>2.714286</td>\n",
       "      <td>0.000000</td>\n",
       "      <td>0.000000</td>\n",
       "      <td>10.775510</td>\n",
       "      <td>0.000000</td>\n",
       "      <td>8.367347</td>\n",
       "      <td>0.000000</td>\n",
       "      <td>0.000000</td>\n",
       "      <td>9.836735</td>\n",
       "    </tr>\n",
       "    <tr>\n",
       "      <th>3</th>\n",
       "      <td>18</td>\n",
       "      <td>2012</td>\n",
       "      <td>3</td>\n",
       "      <td>0</td>\n",
       "      <td>1</td>\n",
       "      <td>0</td>\n",
       "      <td>1</td>\n",
       "      <td>0</td>\n",
       "      <td>1</td>\n",
       "      <td>0</td>\n",
       "      <td>...</td>\n",
       "      <td>4.200000</td>\n",
       "      <td>4.200000</td>\n",
       "      <td>0.000000</td>\n",
       "      <td>0.000000</td>\n",
       "      <td>12.100000</td>\n",
       "      <td>0.000000</td>\n",
       "      <td>9.400000</td>\n",
       "      <td>0.000000</td>\n",
       "      <td>0.000000</td>\n",
       "      <td>9.960000</td>\n",
       "    </tr>\n",
       "    <tr>\n",
       "      <th>4</th>\n",
       "      <td>18</td>\n",
       "      <td>2012</td>\n",
       "      <td>4</td>\n",
       "      <td>0</td>\n",
       "      <td>1</td>\n",
       "      <td>0</td>\n",
       "      <td>1</td>\n",
       "      <td>0</td>\n",
       "      <td>1</td>\n",
       "      <td>0</td>\n",
       "      <td>...</td>\n",
       "      <td>5.460000</td>\n",
       "      <td>5.460000</td>\n",
       "      <td>0.000000</td>\n",
       "      <td>0.000000</td>\n",
       "      <td>13.360000</td>\n",
       "      <td>0.000000</td>\n",
       "      <td>10.320000</td>\n",
       "      <td>0.000000</td>\n",
       "      <td>0.000000</td>\n",
       "      <td>10.280000</td>\n",
       "    </tr>\n",
       "    <tr>\n",
       "      <th>...</th>\n",
       "      <td>...</td>\n",
       "      <td>...</td>\n",
       "      <td>...</td>\n",
       "      <td>...</td>\n",
       "      <td>...</td>\n",
       "      <td>...</td>\n",
       "      <td>...</td>\n",
       "      <td>...</td>\n",
       "      <td>...</td>\n",
       "      <td>...</td>\n",
       "      <td>...</td>\n",
       "      <td>...</td>\n",
       "      <td>...</td>\n",
       "      <td>...</td>\n",
       "      <td>...</td>\n",
       "      <td>...</td>\n",
       "      <td>...</td>\n",
       "      <td>...</td>\n",
       "      <td>...</td>\n",
       "      <td>...</td>\n",
       "      <td>...</td>\n",
       "    </tr>\n",
       "    <tr>\n",
       "      <th>643685</th>\n",
       "      <td>1827860</td>\n",
       "      <td>2013</td>\n",
       "      <td>1</td>\n",
       "      <td>0</td>\n",
       "      <td>0</td>\n",
       "      <td>0</td>\n",
       "      <td>1</td>\n",
       "      <td>0</td>\n",
       "      <td>0</td>\n",
       "      <td>1</td>\n",
       "      <td>...</td>\n",
       "      <td>0.000000</td>\n",
       "      <td>0.000000</td>\n",
       "      <td>0.000000</td>\n",
       "      <td>0.000000</td>\n",
       "      <td>0.612903</td>\n",
       "      <td>0.000000</td>\n",
       "      <td>0.000000</td>\n",
       "      <td>0.000000</td>\n",
       "      <td>0.000000</td>\n",
       "      <td>0.000000</td>\n",
       "    </tr>\n",
       "    <tr>\n",
       "      <th>643686</th>\n",
       "      <td>1827860</td>\n",
       "      <td>2015</td>\n",
       "      <td>2</td>\n",
       "      <td>1</td>\n",
       "      <td>0</td>\n",
       "      <td>0</td>\n",
       "      <td>1</td>\n",
       "      <td>0</td>\n",
       "      <td>1</td>\n",
       "      <td>0</td>\n",
       "      <td>...</td>\n",
       "      <td>0.000000</td>\n",
       "      <td>0.000000</td>\n",
       "      <td>0.212121</td>\n",
       "      <td>0.212121</td>\n",
       "      <td>17.363636</td>\n",
       "      <td>0.000000</td>\n",
       "      <td>8.909091</td>\n",
       "      <td>0.000000</td>\n",
       "      <td>0.000000</td>\n",
       "      <td>7.121212</td>\n",
       "    </tr>\n",
       "    <tr>\n",
       "      <th>643687</th>\n",
       "      <td>1827860</td>\n",
       "      <td>2016</td>\n",
       "      <td>3</td>\n",
       "      <td>1</td>\n",
       "      <td>0</td>\n",
       "      <td>0</td>\n",
       "      <td>1</td>\n",
       "      <td>1</td>\n",
       "      <td>0</td>\n",
       "      <td>1</td>\n",
       "      <td>...</td>\n",
       "      <td>0.000000</td>\n",
       "      <td>0.000000</td>\n",
       "      <td>0.294118</td>\n",
       "      <td>0.205882</td>\n",
       "      <td>34.705882</td>\n",
       "      <td>0.000000</td>\n",
       "      <td>10.352941</td>\n",
       "      <td>1.705882</td>\n",
       "      <td>1.705882</td>\n",
       "      <td>23.911765</td>\n",
       "    </tr>\n",
       "    <tr>\n",
       "      <th>643688</th>\n",
       "      <td>1827869</td>\n",
       "      <td>2013</td>\n",
       "      <td>1</td>\n",
       "      <td>1</td>\n",
       "      <td>1</td>\n",
       "      <td>0</td>\n",
       "      <td>0</td>\n",
       "      <td>0</td>\n",
       "      <td>1</td>\n",
       "      <td>0</td>\n",
       "      <td>...</td>\n",
       "      <td>0.000000</td>\n",
       "      <td>0.000000</td>\n",
       "      <td>0.000000</td>\n",
       "      <td>0.000000</td>\n",
       "      <td>0.000000</td>\n",
       "      <td>0.525424</td>\n",
       "      <td>0.000000</td>\n",
       "      <td>0.000000</td>\n",
       "      <td>0.000000</td>\n",
       "      <td>0.000000</td>\n",
       "    </tr>\n",
       "    <tr>\n",
       "      <th>643689</th>\n",
       "      <td>1827869</td>\n",
       "      <td>2014</td>\n",
       "      <td>2</td>\n",
       "      <td>0</td>\n",
       "      <td>0</td>\n",
       "      <td>1</td>\n",
       "      <td>0</td>\n",
       "      <td>0</td>\n",
       "      <td>1</td>\n",
       "      <td>0</td>\n",
       "      <td>...</td>\n",
       "      <td>0.000000</td>\n",
       "      <td>0.666667</td>\n",
       "      <td>0.666667</td>\n",
       "      <td>0.000000</td>\n",
       "      <td>0.000000</td>\n",
       "      <td>8.950000</td>\n",
       "      <td>1.033333</td>\n",
       "      <td>0.083333</td>\n",
       "      <td>0.083333</td>\n",
       "      <td>8.133333</td>\n",
       "    </tr>\n",
       "  </tbody>\n",
       "</table>\n",
       "<p>643690 rows × 164 columns</p>\n",
       "</div>"
      ],
      "text/plain": [
       "         persnr  year  nrEntry  ltue  employed_before  receipt_leh_before  \\\n",
       "0             7  2015        1     0                1                   0   \n",
       "1            18  2010        1     1                0                   0   \n",
       "2            18  2011        2     0                1                   0   \n",
       "3            18  2012        3     0                1                   0   \n",
       "4            18  2012        4     0                1                   0   \n",
       "...         ...   ...      ...   ...              ...                 ...   \n",
       "643685  1827860  2013        1     0                0                   0   \n",
       "643686  1827860  2015        2     1                0                   0   \n",
       "643687  1827860  2016        3     1                0                   0   \n",
       "643688  1827869  2013        1     1                1                   0   \n",
       "643689  1827869  2014        2     0                0                   1   \n",
       "\n",
       "        receipt_lhg_before  se_before  ASU_notue_seeking_before  \\\n",
       "0                        0          0                         1   \n",
       "1                        0          0                         0   \n",
       "2                        1          0                         1   \n",
       "3                        1          0                         1   \n",
       "4                        1          0                         1   \n",
       "...                    ...        ...                       ...   \n",
       "643685                   1          0                         0   \n",
       "643686                   1          0                         1   \n",
       "643687                   1          1                         0   \n",
       "643688                   0          0                         1   \n",
       "643689                   0          0                         1   \n",
       "\n",
       "        ASU_other_before  ...  minijob_tot_dur_byage  ft_tot_dur_byage  \\\n",
       "0                      0  ...               0.000000          0.000000   \n",
       "1                      0  ...               0.000000          0.000000   \n",
       "2                      0  ...               2.714286          2.714286   \n",
       "3                      0  ...               4.200000          4.200000   \n",
       "4                      0  ...               5.460000          5.460000   \n",
       "...                  ...  ...                    ...               ...   \n",
       "643685                 1  ...               0.000000          0.000000   \n",
       "643686                 0  ...               0.000000          0.000000   \n",
       "643687                 1  ...               0.000000          0.000000   \n",
       "643688                 0  ...               0.000000          0.000000   \n",
       "643689                 0  ...               0.000000          0.666667   \n",
       "\n",
       "        befrist_tot_dur_byage  leih_tot_dur_byage  LHG_tot_dur_byage  \\\n",
       "0                   15.043478            0.000000           0.000000   \n",
       "1                    0.000000            0.000000           0.000000   \n",
       "2                    0.000000            0.000000          10.775510   \n",
       "3                    0.000000            0.000000          12.100000   \n",
       "4                    0.000000            0.000000          13.360000   \n",
       "...                       ...                 ...                ...   \n",
       "643685               0.000000            0.000000           0.612903   \n",
       "643686               0.212121            0.212121          17.363636   \n",
       "643687               0.294118            0.205882          34.705882   \n",
       "643688               0.000000            0.000000           0.000000   \n",
       "643689               0.666667            0.000000           0.000000   \n",
       "\n",
       "        LEH_tot_dur_byage  almp_tot_dur_byage  almp_aw_tot_dur_byage  \\\n",
       "0                0.000000            0.000000               0.000000   \n",
       "1                0.000000            0.000000               0.000000   \n",
       "2                0.000000            8.367347               0.000000   \n",
       "3                0.000000            9.400000               0.000000   \n",
       "4                0.000000           10.320000               0.000000   \n",
       "...                   ...                 ...                    ...   \n",
       "643685           0.000000            0.000000               0.000000   \n",
       "643686           0.000000            8.909091               0.000000   \n",
       "643687           0.000000           10.352941               1.705882   \n",
       "643688           0.525424            0.000000               0.000000   \n",
       "643689           8.950000            1.033333               0.083333   \n",
       "\n",
       "        se_tot_dur_byage  seeking1_tot_dur_byage  \n",
       "0               0.000000                0.000000  \n",
       "1               0.000000                0.000000  \n",
       "2               0.000000                9.836735  \n",
       "3               0.000000                9.960000  \n",
       "4               0.000000               10.280000  \n",
       "...                  ...                     ...  \n",
       "643685          0.000000                0.000000  \n",
       "643686          0.000000                7.121212  \n",
       "643687          1.705882               23.911765  \n",
       "643688          0.000000                0.000000  \n",
       "643689          0.083333                8.133333  \n",
       "\n",
       "[643690 rows x 164 columns]"
      ]
     },
     "execution_count": 10,
     "metadata": {},
     "output_type": "execute_result"
    }
   ],
   "source": [
    "siab"
   ]
  },
  {
   "cell_type": "markdown",
   "id": "1f87e805",
   "metadata": {
    "papermill": {
     "duration": 0.009774,
     "end_time": "2025-08-19T18:49:32.244556",
     "exception": false,
     "start_time": "2025-08-19T18:49:32.234782",
     "status": "completed"
    },
    "tags": []
   },
   "source": [
    "# Splitting Data and Setting Training Data Size"
   ]
  },
  {
   "cell_type": "code",
   "execution_count": 11,
   "id": "910ae358",
   "metadata": {
    "execution": {
     "iopub.execute_input": "2025-08-19T18:49:32.265364Z",
     "iopub.status.busy": "2025-08-19T18:49:32.265039Z",
     "iopub.status.idle": "2025-08-19T18:49:32.527154Z",
     "shell.execute_reply": "2025-08-19T18:49:32.526390Z"
    },
    "papermill": {
     "duration": 0.27564,
     "end_time": "2025-08-19T18:49:32.529908",
     "exception": false,
     "start_time": "2025-08-19T18:49:32.254268",
     "status": "completed"
    },
    "tags": []
   },
   "outputs": [],
   "source": [
    "from fairness_multiverse.universe import sample_by_year_size\n",
    "\n",
    "siab_train = sample_by_year_size(siab,\n",
    "                               training_year=universe[\"training_year\"],\n",
    "                               training_size=universe[\"training_size\"])"
   ]
  },
  {
   "cell_type": "code",
   "execution_count": 12,
   "id": "919c8ff5",
   "metadata": {
    "execution": {
     "iopub.execute_input": "2025-08-19T18:49:32.567118Z",
     "iopub.status.busy": "2025-08-19T18:49:32.566217Z",
     "iopub.status.idle": "2025-08-19T18:49:32.573501Z",
     "shell.execute_reply": "2025-08-19T18:49:32.572601Z"
    },
    "papermill": {
     "duration": 0.025388,
     "end_time": "2025-08-19T18:49:32.574695",
     "exception": false,
     "start_time": "2025-08-19T18:49:32.549307",
     "status": "completed"
    },
    "tags": []
   },
   "outputs": [
    {
     "data": {
      "text/plain": [
       "(1000, 164)"
      ]
     },
     "execution_count": 12,
     "metadata": {},
     "output_type": "execute_result"
    }
   ],
   "source": [
    "siab_train.shape"
   ]
  },
  {
   "cell_type": "code",
   "execution_count": 13,
   "id": "feb13bf4",
   "metadata": {
    "execution": {
     "iopub.execute_input": "2025-08-19T18:49:32.600036Z",
     "iopub.status.busy": "2025-08-19T18:49:32.598847Z",
     "iopub.status.idle": "2025-08-19T18:49:32.621732Z",
     "shell.execute_reply": "2025-08-19T18:49:32.620625Z"
    },
    "papermill": {
     "duration": 0.036824,
     "end_time": "2025-08-19T18:49:32.623526",
     "exception": false,
     "start_time": "2025-08-19T18:49:32.586702",
     "status": "completed"
    },
    "tags": []
   },
   "outputs": [
    {
     "data": {
      "text/plain": [
       "year\n",
       "2014    1000\n",
       "dtype: int64"
      ]
     },
     "metadata": {},
     "output_type": "display_data"
    }
   ],
   "source": [
    "display(siab_train.groupby(\"year\").size())"
   ]
  },
  {
   "cell_type": "code",
   "execution_count": 14,
   "id": "0997782f",
   "metadata": {
    "execution": {
     "iopub.execute_input": "2025-08-19T18:49:32.647771Z",
     "iopub.status.busy": "2025-08-19T18:49:32.646707Z",
     "iopub.status.idle": "2025-08-19T18:49:32.921964Z",
     "shell.execute_reply": "2025-08-19T18:49:32.921273Z"
    },
    "papermill": {
     "duration": 0.290041,
     "end_time": "2025-08-19T18:49:32.924820",
     "exception": false,
     "start_time": "2025-08-19T18:49:32.634779",
     "status": "completed"
    },
    "tags": []
   },
   "outputs": [],
   "source": [
    "#siab_train = siab_s[siab_s.year < 2015]\n",
    "siab_calib = siab[siab.year == 2015]\n",
    "siab_test = siab[siab.year == 2016]"
   ]
  },
  {
   "cell_type": "code",
   "execution_count": 15,
   "id": "2c1e4012",
   "metadata": {
    "execution": {
     "iopub.execute_input": "2025-08-19T18:49:32.968563Z",
     "iopub.status.busy": "2025-08-19T18:49:32.967388Z",
     "iopub.status.idle": "2025-08-19T18:49:32.974138Z",
     "shell.execute_reply": "2025-08-19T18:49:32.972937Z"
    },
    "papermill": {
     "duration": 0.02173,
     "end_time": "2025-08-19T18:49:32.975419",
     "exception": false,
     "start_time": "2025-08-19T18:49:32.953689",
     "status": "completed"
    },
    "tags": []
   },
   "outputs": [],
   "source": [
    "#siab_calib.shape"
   ]
  },
  {
   "cell_type": "code",
   "execution_count": 16,
   "id": "f66b54ca",
   "metadata": {
    "execution": {
     "iopub.execute_input": "2025-08-19T18:49:33.001093Z",
     "iopub.status.busy": "2025-08-19T18:49:33.000623Z",
     "iopub.status.idle": "2025-08-19T18:49:33.005187Z",
     "shell.execute_reply": "2025-08-19T18:49:33.004498Z"
    },
    "papermill": {
     "duration": 0.019507,
     "end_time": "2025-08-19T18:49:33.006837",
     "exception": false,
     "start_time": "2025-08-19T18:49:32.987330",
     "status": "completed"
    },
    "tags": []
   },
   "outputs": [],
   "source": [
    "#siab_test.shape"
   ]
  },
  {
   "cell_type": "code",
   "execution_count": 17,
   "id": "27e4384d",
   "metadata": {
    "execution": {
     "iopub.execute_input": "2025-08-19T18:49:33.031367Z",
     "iopub.status.busy": "2025-08-19T18:49:33.030566Z",
     "iopub.status.idle": "2025-08-19T18:49:33.038335Z",
     "shell.execute_reply": "2025-08-19T18:49:33.036985Z"
    },
    "papermill": {
     "duration": 0.023155,
     "end_time": "2025-08-19T18:49:33.040990",
     "exception": false,
     "start_time": "2025-08-19T18:49:33.017835",
     "status": "completed"
    },
    "tags": []
   },
   "outputs": [],
   "source": [
    "X_train = siab_train.iloc[:,4:164]\n",
    "y_train = siab_train.iloc[:, [3]]"
   ]
  },
  {
   "cell_type": "code",
   "execution_count": 18,
   "id": "08ee8389",
   "metadata": {
    "execution": {
     "iopub.execute_input": "2025-08-19T18:49:33.065706Z",
     "iopub.status.busy": "2025-08-19T18:49:33.065263Z",
     "iopub.status.idle": "2025-08-19T18:49:33.120244Z",
     "shell.execute_reply": "2025-08-19T18:49:33.119257Z"
    },
    "papermill": {
     "duration": 0.067694,
     "end_time": "2025-08-19T18:49:33.121685",
     "exception": false,
     "start_time": "2025-08-19T18:49:33.053991",
     "status": "completed"
    },
    "tags": []
   },
   "outputs": [],
   "source": [
    "X_calib = siab_calib.iloc[:,4:164]\n",
    "y_calib = siab_calib.iloc[:, [3]]"
   ]
  },
  {
   "cell_type": "code",
   "execution_count": 19,
   "id": "b7ff42e0",
   "metadata": {
    "execution": {
     "iopub.execute_input": "2025-08-19T18:49:33.149406Z",
     "iopub.status.busy": "2025-08-19T18:49:33.145369Z",
     "iopub.status.idle": "2025-08-19T18:49:33.216661Z",
     "shell.execute_reply": "2025-08-19T18:49:33.215668Z"
    },
    "papermill": {
     "duration": 0.08513,
     "end_time": "2025-08-19T18:49:33.218797",
     "exception": false,
     "start_time": "2025-08-19T18:49:33.133667",
     "status": "completed"
    },
    "tags": []
   },
   "outputs": [],
   "source": [
    "X_test = siab_test.iloc[:,4:164]\n",
    "y_true = siab_test.iloc[:, [3]]"
   ]
  },
  {
   "cell_type": "code",
   "execution_count": 20,
   "id": "0275101e",
   "metadata": {
    "execution": {
     "iopub.execute_input": "2025-08-19T18:49:33.244409Z",
     "iopub.status.busy": "2025-08-19T18:49:33.243436Z",
     "iopub.status.idle": "2025-08-19T18:49:33.351801Z",
     "shell.execute_reply": "2025-08-19T18:49:33.350640Z"
    },
    "papermill": {
     "duration": 0.121843,
     "end_time": "2025-08-19T18:49:33.353383",
     "exception": false,
     "start_time": "2025-08-19T18:49:33.231540",
     "status": "completed"
    },
    "tags": []
   },
   "outputs": [],
   "source": [
    "# Auxiliary data needed downstream in the pipeline\n",
    "\n",
    "org_train = X_train.copy()\n",
    "org_test = X_test.copy()\n",
    "org_calib = X_calib.copy()"
   ]
  },
  {
   "cell_type": "markdown",
   "id": "b461e618",
   "metadata": {
    "papermill": {
     "duration": 0.01436,
     "end_time": "2025-08-19T18:49:33.378974",
     "exception": false,
     "start_time": "2025-08-19T18:49:33.364614",
     "status": "completed"
    },
    "tags": []
   },
   "source": [
    "# Preprocessing Data"
   ]
  },
  {
   "cell_type": "code",
   "execution_count": 21,
   "id": "78e74c4b",
   "metadata": {
    "execution": {
     "iopub.execute_input": "2025-08-19T18:49:33.424037Z",
     "iopub.status.busy": "2025-08-19T18:49:33.422800Z",
     "iopub.status.idle": "2025-08-19T18:49:33.432808Z",
     "shell.execute_reply": "2025-08-19T18:49:33.431132Z"
    },
    "papermill": {
     "duration": 0.038059,
     "end_time": "2025-08-19T18:49:33.435989",
     "exception": false,
     "start_time": "2025-08-19T18:49:33.397930",
     "status": "completed"
    },
    "tags": []
   },
   "outputs": [],
   "source": [
    "# EXCLUDE PROTECTED FEATURES\n",
    "# --------------------------\n",
    "\n",
    "excluded_features = universe[\"exclude_features\"].split(\"-\")\n",
    "excluded_features_dictionary = {\n",
    "    \"nationality\": [\"maxdeutsch1\", \"maxdeutsch.Missing.\"],\n",
    "    \"sex\": [\"frau1\"],\n",
    "    \"age\": [\"age\"],\n",
    "}"
   ]
  },
  {
   "cell_type": "code",
   "execution_count": 22,
   "id": "f8e63555",
   "metadata": {
    "execution": {
     "iopub.execute_input": "2025-08-19T18:49:33.492261Z",
     "iopub.status.busy": "2025-08-19T18:49:33.491657Z",
     "iopub.status.idle": "2025-08-19T18:49:33.498576Z",
     "shell.execute_reply": "2025-08-19T18:49:33.497567Z"
    },
    "papermill": {
     "duration": 0.041317,
     "end_time": "2025-08-19T18:49:33.500651",
     "exception": false,
     "start_time": "2025-08-19T18:49:33.459334",
     "status": "completed"
    },
    "tags": []
   },
   "outputs": [],
   "source": [
    "excluded_features_columns = [\n",
    "    excluded_features_dictionary[f] for f in excluded_features if len(f) > 0 and f != \"none\"\n",
    "]"
   ]
  },
  {
   "cell_type": "code",
   "execution_count": 23,
   "id": "da781f7c",
   "metadata": {
    "execution": {
     "iopub.execute_input": "2025-08-19T18:49:33.540864Z",
     "iopub.status.busy": "2025-08-19T18:49:33.540344Z",
     "iopub.status.idle": "2025-08-19T18:49:33.546590Z",
     "shell.execute_reply": "2025-08-19T18:49:33.545671Z"
    },
    "papermill": {
     "duration": 0.023782,
     "end_time": "2025-08-19T18:49:33.548366",
     "exception": false,
     "start_time": "2025-08-19T18:49:33.524584",
     "status": "completed"
    },
    "tags": []
   },
   "outputs": [],
   "source": [
    "from fairness_multiverse.universe import flatten_once\n",
    "\n",
    "excluded_features_columns = flatten_once(excluded_features_columns)"
   ]
  },
  {
   "cell_type": "code",
   "execution_count": 24,
   "id": "37fef0f0",
   "metadata": {
    "execution": {
     "iopub.execute_input": "2025-08-19T18:49:33.572788Z",
     "iopub.status.busy": "2025-08-19T18:49:33.572306Z",
     "iopub.status.idle": "2025-08-19T18:49:33.578476Z",
     "shell.execute_reply": "2025-08-19T18:49:33.577309Z"
    },
    "papermill": {
     "duration": 0.020092,
     "end_time": "2025-08-19T18:49:33.579835",
     "exception": false,
     "start_time": "2025-08-19T18:49:33.559743",
     "status": "completed"
    },
    "tags": []
   },
   "outputs": [],
   "source": [
    "if len(excluded_features_columns) > 0:\n",
    "    print(f\"Dropping features: {excluded_features_columns}\")\n",
    "    X_train.drop(excluded_features_columns, axis=1, inplace=True)"
   ]
  },
  {
   "cell_type": "code",
   "execution_count": 25,
   "id": "d029e3e9",
   "metadata": {
    "execution": {
     "iopub.execute_input": "2025-08-19T18:49:33.611705Z",
     "iopub.status.busy": "2025-08-19T18:49:33.611273Z",
     "iopub.status.idle": "2025-08-19T18:49:33.647787Z",
     "shell.execute_reply": "2025-08-19T18:49:33.646592Z"
    },
    "papermill": {
     "duration": 0.053276,
     "end_time": "2025-08-19T18:49:33.650965",
     "exception": false,
     "start_time": "2025-08-19T18:49:33.597689",
     "status": "completed"
    },
    "tags": []
   },
   "outputs": [],
   "source": [
    "if len(excluded_features_columns) > 0:\n",
    "    print(f\"Dropping features: {excluded_features_columns}\")\n",
    "    X_test.drop(excluded_features_columns, axis=1, inplace=True)"
   ]
  },
  {
   "cell_type": "code",
   "execution_count": 26,
   "id": "01d571f0",
   "metadata": {
    "execution": {
     "iopub.execute_input": "2025-08-19T18:49:33.695320Z",
     "iopub.status.busy": "2025-08-19T18:49:33.694688Z",
     "iopub.status.idle": "2025-08-19T18:49:33.700336Z",
     "shell.execute_reply": "2025-08-19T18:49:33.699263Z"
    },
    "papermill": {
     "duration": 0.0213,
     "end_time": "2025-08-19T18:49:33.701858",
     "exception": false,
     "start_time": "2025-08-19T18:49:33.680558",
     "status": "completed"
    },
    "tags": []
   },
   "outputs": [],
   "source": [
    "if len(excluded_features_columns) > 0:\n",
    "    print(f\"Dropping features: {excluded_features_columns}\")\n",
    "    X_calib.drop(excluded_features_columns, axis=1, inplace=True)"
   ]
  },
  {
   "cell_type": "code",
   "execution_count": 27,
   "id": "3037356e",
   "metadata": {
    "execution": {
     "iopub.execute_input": "2025-08-19T18:49:33.726290Z",
     "iopub.status.busy": "2025-08-19T18:49:33.725310Z",
     "iopub.status.idle": "2025-08-19T18:49:33.733164Z",
     "shell.execute_reply": "2025-08-19T18:49:33.731080Z"
    },
    "papermill": {
     "duration": 0.021573,
     "end_time": "2025-08-19T18:49:33.734642",
     "exception": false,
     "start_time": "2025-08-19T18:49:33.713069",
     "status": "completed"
    },
    "tags": []
   },
   "outputs": [],
   "source": [
    "# EXCLUDE CERTAIN SUBGROUPS\n",
    "# -------------------------\n",
    "\n",
    "mode = universe.get(\"exclude_subgroups\", \"keep-all\") # Defaults to \"keep-all\" if the key is missing."
   ]
  },
  {
   "cell_type": "code",
   "execution_count": 28,
   "id": "9d1e63fd",
   "metadata": {
    "execution": {
     "iopub.execute_input": "2025-08-19T18:49:33.759021Z",
     "iopub.status.busy": "2025-08-19T18:49:33.758333Z",
     "iopub.status.idle": "2025-08-19T18:49:33.767495Z",
     "shell.execute_reply": "2025-08-19T18:49:33.766143Z"
    },
    "papermill": {
     "duration": 0.023687,
     "end_time": "2025-08-19T18:49:33.769378",
     "exception": false,
     "start_time": "2025-08-19T18:49:33.745691",
     "status": "completed"
    },
    "tags": []
   },
   "outputs": [],
   "source": [
    "if mode == \"keep-all\":\n",
    "    keep_mask = pd.Series(True, index=org_train.index)\n",
    "\n",
    "elif mode == \"drop-non-german\":\n",
    "    keep_mask = (org_train[\"maxdeutsch1\"] == 1) & (org_train[\"maxdeutsch.Missing.\"] == 0)\n",
    "\n",
    "else:\n",
    "    raise ValueError(f\"Unsupported mode for exclude_subgroups: {mode}\")"
   ]
  },
  {
   "cell_type": "code",
   "execution_count": 29,
   "id": "d3b65474",
   "metadata": {
    "execution": {
     "iopub.execute_input": "2025-08-19T18:49:33.793029Z",
     "iopub.status.busy": "2025-08-19T18:49:33.792165Z",
     "iopub.status.idle": "2025-08-19T18:49:33.801480Z",
     "shell.execute_reply": "2025-08-19T18:49:33.800149Z"
    },
    "papermill": {
     "duration": 0.022298,
     "end_time": "2025-08-19T18:49:33.802837",
     "exception": false,
     "start_time": "2025-08-19T18:49:33.780539",
     "status": "completed"
    },
    "tags": []
   },
   "outputs": [
    {
     "name": "stdout",
     "output_type": "stream",
     "text": [
      "Dropping 147 rows (14.70%) where mode='drop-non-german'\n"
     ]
    }
   ],
   "source": [
    "n_drop = (~keep_mask).sum() # Calculates how many rows are set to be dropped\n",
    "if n_drop > 0:\n",
    "    pct = n_drop / len(keep_mask) * 100\n",
    "    print(f\"Dropping {n_drop} rows ({pct:.2f}%) where mode='{mode}'\")"
   ]
  },
  {
   "cell_type": "code",
   "execution_count": 30,
   "id": "f44389b3",
   "metadata": {
    "execution": {
     "iopub.execute_input": "2025-08-19T18:49:33.827028Z",
     "iopub.status.busy": "2025-08-19T18:49:33.826423Z",
     "iopub.status.idle": "2025-08-19T18:49:33.834251Z",
     "shell.execute_reply": "2025-08-19T18:49:33.833194Z"
    },
    "papermill": {
     "duration": 0.021383,
     "end_time": "2025-08-19T18:49:33.835638",
     "exception": false,
     "start_time": "2025-08-19T18:49:33.814255",
     "status": "completed"
    },
    "tags": []
   },
   "outputs": [],
   "source": [
    "X_train = X_train[keep_mask]"
   ]
  },
  {
   "cell_type": "code",
   "execution_count": 31,
   "id": "ceca8c2a",
   "metadata": {
    "execution": {
     "iopub.execute_input": "2025-08-19T18:49:33.861109Z",
     "iopub.status.busy": "2025-08-19T18:49:33.860377Z",
     "iopub.status.idle": "2025-08-19T18:49:33.866288Z",
     "shell.execute_reply": "2025-08-19T18:49:33.865351Z"
    },
    "papermill": {
     "duration": 0.018881,
     "end_time": "2025-08-19T18:49:33.867615",
     "exception": false,
     "start_time": "2025-08-19T18:49:33.848734",
     "status": "completed"
    },
    "tags": []
   },
   "outputs": [],
   "source": [
    "y_train = y_train[keep_mask]"
   ]
  },
  {
   "cell_type": "markdown",
   "id": "04d31e2f",
   "metadata": {
    "papermill": {
     "duration": 0.010457,
     "end_time": "2025-08-19T18:49:33.889896",
     "exception": false,
     "start_time": "2025-08-19T18:49:33.879439",
     "status": "completed"
    },
    "tags": []
   },
   "source": [
    "# Model Training"
   ]
  },
  {
   "cell_type": "code",
   "execution_count": 32,
   "id": "db991733",
   "metadata": {
    "execution": {
     "iopub.execute_input": "2025-08-19T18:49:33.913362Z",
     "iopub.status.busy": "2025-08-19T18:49:33.912402Z",
     "iopub.status.idle": "2025-08-19T18:49:34.032714Z",
     "shell.execute_reply": "2025-08-19T18:49:34.031781Z"
    },
    "papermill": {
     "duration": 0.133917,
     "end_time": "2025-08-19T18:49:34.034481",
     "exception": false,
     "start_time": "2025-08-19T18:49:33.900564",
     "status": "completed"
    },
    "tags": []
   },
   "outputs": [],
   "source": [
    "from sklearn.linear_model import LogisticRegression\n",
    "from sklearn.ensemble import GradientBoostingClassifier, RandomForestClassifier\n",
    "\n",
    "if (universe[\"model\"] == \"logreg\"):\n",
    "    model = LogisticRegression() #penalty=\"none\", solver=\"newton-cg\", max_iter=1)\n",
    "elif (universe[\"model\"] == \"penalized_logreg\"):\n",
    "    model = LogisticRegression(penalty=\"l2\", C=0.1) #, solver=\"newton-cg\", max_iter=1)\n",
    "elif (universe[\"model\"] == \"rf\"):\n",
    "    model = RandomForestClassifier() # n_estimators=100, n_jobs=-1\n",
    "elif (universe[\"model\"] == \"gbm\"):\n",
    "    model = GradientBoostingClassifier()\n",
    "elif (universe[\"model\"] == \"elasticnet\"):\n",
    "    model = LogisticRegression(penalty = 'elasticnet', solver = 'saga', l1_ratio = 0.5) # max_iter=5000\n",
    "else:\n",
    "    raise \"Unsupported universe.model\""
   ]
  },
  {
   "cell_type": "code",
   "execution_count": 33,
   "id": "a4b5cd25",
   "metadata": {
    "execution": {
     "iopub.execute_input": "2025-08-19T18:49:34.058344Z",
     "iopub.status.busy": "2025-08-19T18:49:34.057483Z",
     "iopub.status.idle": "2025-08-19T18:49:34.066590Z",
     "shell.execute_reply": "2025-08-19T18:49:34.065100Z"
    },
    "papermill": {
     "duration": 0.022489,
     "end_time": "2025-08-19T18:49:34.068159",
     "exception": false,
     "start_time": "2025-08-19T18:49:34.045670",
     "status": "completed"
    },
    "tags": []
   },
   "outputs": [],
   "source": [
    "from sklearn.pipeline import Pipeline\n",
    "from sklearn.preprocessing import StandardScaler\n",
    "\n",
    "model = Pipeline([\n",
    "    #(\"continuous_processor\", continuous_processor),\n",
    "    #(\"categorical_preprocessor\", categorical_preprocessor),\n",
    "    (\"scale\", StandardScaler() if universe[\"scale\"] == \"scale\" else None), \n",
    "    (\"model\", model),\n",
    "])"
   ]
  },
  {
   "cell_type": "code",
   "execution_count": 34,
   "id": "283a904d",
   "metadata": {
    "execution": {
     "iopub.execute_input": "2025-08-19T18:49:34.094904Z",
     "iopub.status.busy": "2025-08-19T18:49:34.093581Z",
     "iopub.status.idle": "2025-08-19T18:49:34.152738Z",
     "shell.execute_reply": "2025-08-19T18:49:34.151564Z"
    },
    "papermill": {
     "duration": 0.07272,
     "end_time": "2025-08-19T18:49:34.154085",
     "exception": false,
     "start_time": "2025-08-19T18:49:34.081365",
     "status": "completed"
    },
    "tags": []
   },
   "outputs": [
    {
     "data": {
      "text/html": [
       "<style>#sk-container-id-1 {color: black;background-color: white;}#sk-container-id-1 pre{padding: 0;}#sk-container-id-1 div.sk-toggleable {background-color: white;}#sk-container-id-1 label.sk-toggleable__label {cursor: pointer;display: block;width: 100%;margin-bottom: 0;padding: 0.3em;box-sizing: border-box;text-align: center;}#sk-container-id-1 label.sk-toggleable__label-arrow:before {content: \"▸\";float: left;margin-right: 0.25em;color: #696969;}#sk-container-id-1 label.sk-toggleable__label-arrow:hover:before {color: black;}#sk-container-id-1 div.sk-estimator:hover label.sk-toggleable__label-arrow:before {color: black;}#sk-container-id-1 div.sk-toggleable__content {max-height: 0;max-width: 0;overflow: hidden;text-align: left;background-color: #f0f8ff;}#sk-container-id-1 div.sk-toggleable__content pre {margin: 0.2em;color: black;border-radius: 0.25em;background-color: #f0f8ff;}#sk-container-id-1 input.sk-toggleable__control:checked~div.sk-toggleable__content {max-height: 200px;max-width: 100%;overflow: auto;}#sk-container-id-1 input.sk-toggleable__control:checked~label.sk-toggleable__label-arrow:before {content: \"▾\";}#sk-container-id-1 div.sk-estimator input.sk-toggleable__control:checked~label.sk-toggleable__label {background-color: #d4ebff;}#sk-container-id-1 div.sk-label input.sk-toggleable__control:checked~label.sk-toggleable__label {background-color: #d4ebff;}#sk-container-id-1 input.sk-hidden--visually {border: 0;clip: rect(1px 1px 1px 1px);clip: rect(1px, 1px, 1px, 1px);height: 1px;margin: -1px;overflow: hidden;padding: 0;position: absolute;width: 1px;}#sk-container-id-1 div.sk-estimator {font-family: monospace;background-color: #f0f8ff;border: 1px dotted black;border-radius: 0.25em;box-sizing: border-box;margin-bottom: 0.5em;}#sk-container-id-1 div.sk-estimator:hover {background-color: #d4ebff;}#sk-container-id-1 div.sk-parallel-item::after {content: \"\";width: 100%;border-bottom: 1px solid gray;flex-grow: 1;}#sk-container-id-1 div.sk-label:hover label.sk-toggleable__label {background-color: #d4ebff;}#sk-container-id-1 div.sk-serial::before {content: \"\";position: absolute;border-left: 1px solid gray;box-sizing: border-box;top: 0;bottom: 0;left: 50%;z-index: 0;}#sk-container-id-1 div.sk-serial {display: flex;flex-direction: column;align-items: center;background-color: white;padding-right: 0.2em;padding-left: 0.2em;position: relative;}#sk-container-id-1 div.sk-item {position: relative;z-index: 1;}#sk-container-id-1 div.sk-parallel {display: flex;align-items: stretch;justify-content: center;background-color: white;position: relative;}#sk-container-id-1 div.sk-item::before, #sk-container-id-1 div.sk-parallel-item::before {content: \"\";position: absolute;border-left: 1px solid gray;box-sizing: border-box;top: 0;bottom: 0;left: 50%;z-index: -1;}#sk-container-id-1 div.sk-parallel-item {display: flex;flex-direction: column;z-index: 1;position: relative;background-color: white;}#sk-container-id-1 div.sk-parallel-item:first-child::after {align-self: flex-end;width: 50%;}#sk-container-id-1 div.sk-parallel-item:last-child::after {align-self: flex-start;width: 50%;}#sk-container-id-1 div.sk-parallel-item:only-child::after {width: 0;}#sk-container-id-1 div.sk-dashed-wrapped {border: 1px dashed gray;margin: 0 0.4em 0.5em 0.4em;box-sizing: border-box;padding-bottom: 0.4em;background-color: white;}#sk-container-id-1 div.sk-label label {font-family: monospace;font-weight: bold;display: inline-block;line-height: 1.2em;}#sk-container-id-1 div.sk-label-container {text-align: center;}#sk-container-id-1 div.sk-container {/* jupyter's `normalize.less` sets `[hidden] { display: none; }` but bootstrap.min.css set `[hidden] { display: none !important; }` so we also need the `!important` here to be able to override the default hidden behavior on the sphinx rendered scikit-learn.org. See: https://github.com/scikit-learn/scikit-learn/issues/21755 */display: inline-block !important;position: relative;}#sk-container-id-1 div.sk-text-repr-fallback {display: none;}</style><div id=\"sk-container-id-1\" class=\"sk-top-container\"><div class=\"sk-text-repr-fallback\"><pre>Pipeline(steps=[(&#x27;scale&#x27;, StandardScaler()),\n",
       "                (&#x27;model&#x27;, LogisticRegression(C=0.1))])</pre><b>In a Jupyter environment, please rerun this cell to show the HTML representation or trust the notebook. <br />On GitHub, the HTML representation is unable to render, please try loading this page with nbviewer.org.</b></div><div class=\"sk-container\" hidden><div class=\"sk-item sk-dashed-wrapped\"><div class=\"sk-label-container\"><div class=\"sk-label sk-toggleable\"><input class=\"sk-toggleable__control sk-hidden--visually\" id=\"sk-estimator-id-1\" type=\"checkbox\" ><label for=\"sk-estimator-id-1\" class=\"sk-toggleable__label sk-toggleable__label-arrow\">Pipeline</label><div class=\"sk-toggleable__content\"><pre>Pipeline(steps=[(&#x27;scale&#x27;, StandardScaler()),\n",
       "                (&#x27;model&#x27;, LogisticRegression(C=0.1))])</pre></div></div></div><div class=\"sk-serial\"><div class=\"sk-item\"><div class=\"sk-estimator sk-toggleable\"><input class=\"sk-toggleable__control sk-hidden--visually\" id=\"sk-estimator-id-2\" type=\"checkbox\" ><label for=\"sk-estimator-id-2\" class=\"sk-toggleable__label sk-toggleable__label-arrow\">StandardScaler</label><div class=\"sk-toggleable__content\"><pre>StandardScaler()</pre></div></div></div><div class=\"sk-item\"><div class=\"sk-estimator sk-toggleable\"><input class=\"sk-toggleable__control sk-hidden--visually\" id=\"sk-estimator-id-3\" type=\"checkbox\" ><label for=\"sk-estimator-id-3\" class=\"sk-toggleable__label sk-toggleable__label-arrow\">LogisticRegression</label><div class=\"sk-toggleable__content\"><pre>LogisticRegression(C=0.1)</pre></div></div></div></div></div></div></div>"
      ],
      "text/plain": [
       "Pipeline(steps=[('scale', StandardScaler()),\n",
       "                ('model', LogisticRegression(C=0.1))])"
      ]
     },
     "execution_count": 34,
     "metadata": {},
     "output_type": "execute_result"
    }
   ],
   "source": [
    "model.fit(X_train, y_train.values.ravel())"
   ]
  },
  {
   "cell_type": "code",
   "execution_count": 35,
   "id": "6e15e313",
   "metadata": {
    "execution": {
     "iopub.execute_input": "2025-08-19T18:49:34.177608Z",
     "iopub.status.busy": "2025-08-19T18:49:34.177171Z",
     "iopub.status.idle": "2025-08-19T18:49:34.358723Z",
     "shell.execute_reply": "2025-08-19T18:49:34.357963Z"
    },
    "papermill": {
     "duration": 0.194571,
     "end_time": "2025-08-19T18:49:34.360075",
     "exception": false,
     "start_time": "2025-08-19T18:49:34.165504",
     "status": "completed"
    },
    "tags": []
   },
   "outputs": [
    {
     "data": {
      "text/plain": [
       "0.8269423698584327"
      ]
     },
     "execution_count": 35,
     "metadata": {},
     "output_type": "execute_result"
    }
   ],
   "source": [
    "from fairness_multiverse.universe import predict_w_threshold\n",
    "\n",
    "probs_test = model.predict_proba(X_test)\n",
    "\n",
    "'''\n",
    "Below code returns a boolean array (or binary 0/1 array depending on how it’s used) where each element \n",
    "is True if the probability of class 1 is greater than or equal to the threshold, and False otherwise.\n",
    "'''\n",
    "y_pred_default = predict_w_threshold(probs_test, 0.5)\n",
    "\n",
    "from sklearn.metrics import accuracy_score\n",
    "\n",
    "# Naive prediction\n",
    "accuracy_score(y_true = y_true, y_pred = y_pred_default)"
   ]
  },
  {
   "cell_type": "code",
   "execution_count": 36,
   "id": "6f14067c",
   "metadata": {
    "execution": {
     "iopub.execute_input": "2025-08-19T18:49:34.409823Z",
     "iopub.status.busy": "2025-08-19T18:49:34.408150Z",
     "iopub.status.idle": "2025-08-19T18:49:34.612369Z",
     "shell.execute_reply": "2025-08-19T18:49:34.611320Z"
    },
    "papermill": {
     "duration": 0.242864,
     "end_time": "2025-08-19T18:49:34.614538",
     "exception": false,
     "start_time": "2025-08-19T18:49:34.371674",
     "status": "completed"
    },
    "tags": []
   },
   "outputs": [
    {
     "data": {
      "text/plain": [
       "array([0, 0, 0, ..., 0, 0, 0])"
      ]
     },
     "execution_count": 36,
     "metadata": {},
     "output_type": "execute_result"
    }
   ],
   "source": [
    "model.predict(X_test)"
   ]
  },
  {
   "cell_type": "markdown",
   "id": "3759920c",
   "metadata": {
    "papermill": {
     "duration": 0.011802,
     "end_time": "2025-08-19T18:49:34.643411",
     "exception": false,
     "start_time": "2025-08-19T18:49:34.631609",
     "status": "completed"
    },
    "tags": []
   },
   "source": [
    "# Conformal Prediction"
   ]
  },
  {
   "cell_type": "code",
   "execution_count": 37,
   "id": "14b27f59",
   "metadata": {
    "execution": {
     "iopub.execute_input": "2025-08-19T18:49:34.673254Z",
     "iopub.status.busy": "2025-08-19T18:49:34.671831Z",
     "iopub.status.idle": "2025-08-19T18:49:34.679287Z",
     "shell.execute_reply": "2025-08-19T18:49:34.677995Z"
    },
    "papermill": {
     "duration": 0.032709,
     "end_time": "2025-08-19T18:49:34.691496",
     "exception": false,
     "start_time": "2025-08-19T18:49:34.658787",
     "status": "completed"
    },
    "tags": []
   },
   "outputs": [],
   "source": [
    "# Miscoverage level for conformal prediction (10% allowed error rate => 90% target coverage)\n",
    "alpha = 0.1"
   ]
  },
  {
   "cell_type": "code",
   "execution_count": 38,
   "id": "59102472",
   "metadata": {
    "execution": {
     "iopub.execute_input": "2025-08-19T18:49:34.717329Z",
     "iopub.status.busy": "2025-08-19T18:49:34.716664Z",
     "iopub.status.idle": "2025-08-19T18:49:34.930800Z",
     "shell.execute_reply": "2025-08-19T18:49:34.929892Z"
    },
    "papermill": {
     "duration": 0.22925,
     "end_time": "2025-08-19T18:49:34.932574",
     "exception": false,
     "start_time": "2025-08-19T18:49:34.703324",
     "status": "completed"
    },
    "tags": []
   },
   "outputs": [],
   "source": [
    "probs_calib = model.predict_proba(X_calib)"
   ]
  },
  {
   "cell_type": "code",
   "execution_count": 39,
   "id": "a792d4dd",
   "metadata": {
    "execution": {
     "iopub.execute_input": "2025-08-19T18:49:34.985620Z",
     "iopub.status.busy": "2025-08-19T18:49:34.983636Z",
     "iopub.status.idle": "2025-08-19T18:49:34.992836Z",
     "shell.execute_reply": "2025-08-19T18:49:34.991131Z"
    },
    "papermill": {
     "duration": 0.03726,
     "end_time": "2025-08-19T18:49:34.994384",
     "exception": false,
     "start_time": "2025-08-19T18:49:34.957124",
     "status": "completed"
    },
    "tags": []
   },
   "outputs": [],
   "source": [
    "y_calib = y_calib.values.ravel().astype(int)"
   ]
  },
  {
   "cell_type": "code",
   "execution_count": 40,
   "id": "650fd033",
   "metadata": {
    "execution": {
     "iopub.execute_input": "2025-08-19T18:49:35.021073Z",
     "iopub.status.busy": "2025-08-19T18:49:35.019705Z",
     "iopub.status.idle": "2025-08-19T18:49:35.029040Z",
     "shell.execute_reply": "2025-08-19T18:49:35.027979Z"
    },
    "papermill": {
     "duration": 0.023941,
     "end_time": "2025-08-19T18:49:35.030500",
     "exception": false,
     "start_time": "2025-08-19T18:49:35.006559",
     "status": "completed"
    },
    "tags": []
   },
   "outputs": [],
   "source": [
    "from fairness_multiverse.conformal import compute_nc_scores\n",
    "\n",
    "# Compute nonconformity scores on calibration set (1 - probability of true class)\n",
    "nc_scores = compute_nc_scores(probs_calib, y_calib)"
   ]
  },
  {
   "cell_type": "code",
   "execution_count": 41,
   "id": "28ada44c",
   "metadata": {
    "execution": {
     "iopub.execute_input": "2025-08-19T18:49:35.056280Z",
     "iopub.status.busy": "2025-08-19T18:49:35.055000Z",
     "iopub.status.idle": "2025-08-19T18:49:35.073128Z",
     "shell.execute_reply": "2025-08-19T18:49:35.072064Z"
    },
    "papermill": {
     "duration": 0.032505,
     "end_time": "2025-08-19T18:49:35.074862",
     "exception": false,
     "start_time": "2025-08-19T18:49:35.042357",
     "status": "completed"
    },
    "tags": []
   },
   "outputs": [],
   "source": [
    "from fairness_multiverse.conformal import find_threshold\n",
    "\n",
    "# Find conformal threshold q_hat for the given alpha (split conformal method)\n",
    "q_hat = find_threshold(nc_scores, alpha)"
   ]
  },
  {
   "cell_type": "code",
   "execution_count": 42,
   "id": "df56469e",
   "metadata": {
    "execution": {
     "iopub.execute_input": "2025-08-19T18:49:35.103825Z",
     "iopub.status.busy": "2025-08-19T18:49:35.103356Z",
     "iopub.status.idle": "2025-08-19T18:49:35.109982Z",
     "shell.execute_reply": "2025-08-19T18:49:35.109026Z"
    },
    "papermill": {
     "duration": 0.020139,
     "end_time": "2025-08-19T18:49:35.111224",
     "exception": false,
     "start_time": "2025-08-19T18:49:35.091085",
     "status": "completed"
    },
    "tags": []
   },
   "outputs": [
    {
     "data": {
      "text/plain": [
       "0.7696733111835323"
      ]
     },
     "execution_count": 42,
     "metadata": {},
     "output_type": "execute_result"
    }
   ],
   "source": [
    "q_hat"
   ]
  },
  {
   "cell_type": "code",
   "execution_count": 43,
   "id": "aa1f5faa",
   "metadata": {
    "execution": {
     "iopub.execute_input": "2025-08-19T18:49:35.136509Z",
     "iopub.status.busy": "2025-08-19T18:49:35.136050Z",
     "iopub.status.idle": "2025-08-19T18:49:35.826597Z",
     "shell.execute_reply": "2025-08-19T18:49:35.825278Z"
    },
    "papermill": {
     "duration": 0.705075,
     "end_time": "2025-08-19T18:49:35.828507",
     "exception": false,
     "start_time": "2025-08-19T18:49:35.123432",
     "status": "completed"
    },
    "tags": []
   },
   "outputs": [],
   "source": [
    "from fairness_multiverse.conformal import predict_conformal_sets\n",
    "\n",
    "# Generate prediction sets for each test example\n",
    "pred_sets = predict_conformal_sets(model, X_test, q_hat)"
   ]
  },
  {
   "cell_type": "code",
   "execution_count": 44,
   "id": "97f67a6b",
   "metadata": {
    "execution": {
     "iopub.execute_input": "2025-08-19T18:49:35.853983Z",
     "iopub.status.busy": "2025-08-19T18:49:35.852835Z",
     "iopub.status.idle": "2025-08-19T18:49:35.860281Z",
     "shell.execute_reply": "2025-08-19T18:49:35.858895Z"
    },
    "papermill": {
     "duration": 0.021537,
     "end_time": "2025-08-19T18:49:35.861890",
     "exception": false,
     "start_time": "2025-08-19T18:49:35.840353",
     "status": "completed"
    },
    "tags": []
   },
   "outputs": [],
   "source": [
    "y_true = y_true.squeeze()"
   ]
  },
  {
   "cell_type": "code",
   "execution_count": 45,
   "id": "e700e9a7",
   "metadata": {
    "execution": {
     "iopub.execute_input": "2025-08-19T18:49:35.887915Z",
     "iopub.status.busy": "2025-08-19T18:49:35.886530Z",
     "iopub.status.idle": "2025-08-19T18:49:36.404834Z",
     "shell.execute_reply": "2025-08-19T18:49:36.403077Z"
    },
    "papermill": {
     "duration": 0.533092,
     "end_time": "2025-08-19T18:49:36.406784",
     "exception": false,
     "start_time": "2025-08-19T18:49:35.873692",
     "status": "completed"
    },
    "tags": []
   },
   "outputs": [],
   "source": [
    "from fairness_multiverse.conformal import evaluate_sets\n",
    "\n",
    "# Evaluate coverage and average set size on test data\n",
    "metrics = evaluate_sets(pred_sets, y_true)"
   ]
  },
  {
   "cell_type": "markdown",
   "id": "efbacec0",
   "metadata": {
    "papermill": {
     "duration": 0.011124,
     "end_time": "2025-08-19T18:49:36.429832",
     "exception": false,
     "start_time": "2025-08-19T18:49:36.418708",
     "status": "completed"
    },
    "tags": []
   },
   "source": [
    "# CP Metrics"
   ]
  },
  {
   "cell_type": "code",
   "execution_count": 46,
   "id": "9de55fb1",
   "metadata": {
    "execution": {
     "iopub.execute_input": "2025-08-19T18:49:36.455815Z",
     "iopub.status.busy": "2025-08-19T18:49:36.454318Z",
     "iopub.status.idle": "2025-08-19T18:49:36.467951Z",
     "shell.execute_reply": "2025-08-19T18:49:36.466579Z"
    },
    "papermill": {
     "duration": 0.028661,
     "end_time": "2025-08-19T18:49:36.469529",
     "exception": false,
     "start_time": "2025-08-19T18:49:36.440868",
     "status": "completed"
    },
    "tags": []
   },
   "outputs": [
    {
     "data": {
      "text/plain": [
       "{'coverage': 0.9090848288930999, 'avg_size': 1.2160071340987626}"
      ]
     },
     "execution_count": 46,
     "metadata": {},
     "output_type": "execute_result"
    }
   ],
   "source": [
    "metrics"
   ]
  },
  {
   "cell_type": "code",
   "execution_count": 47,
   "id": "64c340a1",
   "metadata": {
    "execution": {
     "iopub.execute_input": "2025-08-19T18:49:36.500685Z",
     "iopub.status.busy": "2025-08-19T18:49:36.499490Z",
     "iopub.status.idle": "2025-08-19T18:49:36.509492Z",
     "shell.execute_reply": "2025-08-19T18:49:36.508199Z"
    },
    "papermill": {
     "duration": 0.025363,
     "end_time": "2025-08-19T18:49:36.510936",
     "exception": false,
     "start_time": "2025-08-19T18:49:36.485573",
     "status": "completed"
    },
    "tags": []
   },
   "outputs": [],
   "source": [
    "example_universe = universe.copy()\n",
    "universe_training_year = example_universe.get(\"training_year\")\n",
    "universe_training_size = example_universe.get(\"training_size\")\n",
    "universe_scale = example_universe.get(\"scale\")\n",
    "universe_model = example_universe.get(\"model\")\n",
    "universe_exclude_features = example_universe.get(\"exclude_features\")\n",
    "universe_exclude_subgroups = example_universe.get(\"exclude_subgroups\")"
   ]
  },
  {
   "cell_type": "code",
   "execution_count": 48,
   "id": "dbb53cb4",
   "metadata": {
    "execution": {
     "iopub.execute_input": "2025-08-19T18:49:36.538964Z",
     "iopub.status.busy": "2025-08-19T18:49:36.537726Z",
     "iopub.status.idle": "2025-08-19T18:49:36.547720Z",
     "shell.execute_reply": "2025-08-19T18:49:36.546284Z"
    },
    "papermill": {
     "duration": 0.024509,
     "end_time": "2025-08-19T18:49:36.549407",
     "exception": false,
     "start_time": "2025-08-19T18:49:36.524898",
     "status": "completed"
    },
    "tags": []
   },
   "outputs": [],
   "source": [
    "cp_metrics_dict = {\n",
    "    \"universe_id\": [universe_id],\n",
    "    \"universe_training_year\": [universe_training_year],\n",
    "    \"universe_training_size\": [universe_training_size],\n",
    "    \"universe_scale\": [universe_scale],\n",
    "    \"universe_model\": [universe_model],\n",
    "    \"universe_exclude_features\": [universe_exclude_features],\n",
    "    \"universe_exclude_subgroups\": [universe_exclude_subgroups],\n",
    "    \"q_hat\": [q_hat],\n",
    "    \"coverage\": [metrics[\"coverage\"]],\n",
    "    \"avg_size\": [metrics[\"avg_size\"]],\n",
    "}"
   ]
  },
  {
   "cell_type": "code",
   "execution_count": 49,
   "id": "0d70d4b2",
   "metadata": {
    "execution": {
     "iopub.execute_input": "2025-08-19T18:49:36.592319Z",
     "iopub.status.busy": "2025-08-19T18:49:36.579324Z",
     "iopub.status.idle": "2025-08-19T18:49:36.598198Z",
     "shell.execute_reply": "2025-08-19T18:49:36.597370Z"
    },
    "papermill": {
     "duration": 0.035732,
     "end_time": "2025-08-19T18:49:36.601669",
     "exception": false,
     "start_time": "2025-08-19T18:49:36.565937",
     "status": "completed"
    },
    "tags": []
   },
   "outputs": [],
   "source": [
    "cp_metrics_df = pd.DataFrame(cp_metrics_dict)"
   ]
  },
  {
   "cell_type": "code",
   "execution_count": 50,
   "id": "b494403c",
   "metadata": {
    "execution": {
     "iopub.execute_input": "2025-08-19T18:49:36.628461Z",
     "iopub.status.busy": "2025-08-19T18:49:36.627967Z",
     "iopub.status.idle": "2025-08-19T18:49:36.652129Z",
     "shell.execute_reply": "2025-08-19T18:49:36.651212Z"
    },
    "papermill": {
     "duration": 0.038563,
     "end_time": "2025-08-19T18:49:36.654004",
     "exception": false,
     "start_time": "2025-08-19T18:49:36.615441",
     "status": "completed"
    },
    "tags": []
   },
   "outputs": [
    {
     "data": {
      "text/html": [
       "<div>\n",
       "<style scoped>\n",
       "    .dataframe tbody tr th:only-of-type {\n",
       "        vertical-align: middle;\n",
       "    }\n",
       "\n",
       "    .dataframe tbody tr th {\n",
       "        vertical-align: top;\n",
       "    }\n",
       "\n",
       "    .dataframe thead th {\n",
       "        text-align: right;\n",
       "    }\n",
       "</style>\n",
       "<table border=\"1\" class=\"dataframe\">\n",
       "  <thead>\n",
       "    <tr style=\"text-align: right;\">\n",
       "      <th></th>\n",
       "      <th>universe_id</th>\n",
       "      <th>universe_training_year</th>\n",
       "      <th>universe_training_size</th>\n",
       "      <th>universe_scale</th>\n",
       "      <th>universe_model</th>\n",
       "      <th>universe_exclude_features</th>\n",
       "      <th>universe_exclude_subgroups</th>\n",
       "      <th>q_hat</th>\n",
       "      <th>coverage</th>\n",
       "      <th>avg_size</th>\n",
       "    </tr>\n",
       "  </thead>\n",
       "  <tbody>\n",
       "    <tr>\n",
       "      <th>0</th>\n",
       "      <td>17752081d0c2cb73eedefd154fbca8eb</td>\n",
       "      <td>2014</td>\n",
       "      <td>1k</td>\n",
       "      <td>scale</td>\n",
       "      <td>penalized_logreg</td>\n",
       "      <td>none</td>\n",
       "      <td>drop-non-german</td>\n",
       "      <td>0.769673</td>\n",
       "      <td>0.909085</td>\n",
       "      <td>1.216007</td>\n",
       "    </tr>\n",
       "  </tbody>\n",
       "</table>\n",
       "</div>"
      ],
      "text/plain": [
       "                        universe_id universe_training_year  \\\n",
       "0  17752081d0c2cb73eedefd154fbca8eb                   2014   \n",
       "\n",
       "  universe_training_size universe_scale    universe_model  \\\n",
       "0                     1k          scale  penalized_logreg   \n",
       "\n",
       "  universe_exclude_features universe_exclude_subgroups     q_hat  coverage  \\\n",
       "0                      none            drop-non-german  0.769673  0.909085   \n",
       "\n",
       "   avg_size  \n",
       "0  1.216007  "
      ]
     },
     "execution_count": 50,
     "metadata": {},
     "output_type": "execute_result"
    }
   ],
   "source": [
    "cp_metrics_df"
   ]
  },
  {
   "cell_type": "markdown",
   "id": "ed608b0b",
   "metadata": {
    "papermill": {
     "duration": 0.013647,
     "end_time": "2025-08-19T18:49:36.690548",
     "exception": false,
     "start_time": "2025-08-19T18:49:36.676901",
     "status": "completed"
    },
    "tags": []
   },
   "source": [
    "Conditional coverage & looking at subgroups"
   ]
  },
  {
   "cell_type": "code",
   "execution_count": 51,
   "id": "8968c366",
   "metadata": {
    "execution": {
     "iopub.execute_input": "2025-08-19T18:49:36.715787Z",
     "iopub.status.busy": "2025-08-19T18:49:36.715471Z",
     "iopub.status.idle": "2025-08-19T18:49:37.027983Z",
     "shell.execute_reply": "2025-08-19T18:49:37.026931Z"
    },
    "papermill": {
     "duration": 0.327021,
     "end_time": "2025-08-19T18:49:37.029699",
     "exception": false,
     "start_time": "2025-08-19T18:49:36.702678",
     "status": "completed"
    },
    "tags": []
   },
   "outputs": [],
   "source": [
    "from fairness_multiverse.conformal import build_cp_groups\n",
    "\n",
    "cp_groups_df = build_cp_groups(pred_sets, y_true, X_test.index, org_test)"
   ]
  },
  {
   "cell_type": "code",
   "execution_count": 52,
   "id": "292ddabf",
   "metadata": {
    "execution": {
     "iopub.execute_input": "2025-08-19T18:49:37.056067Z",
     "iopub.status.busy": "2025-08-19T18:49:37.055606Z",
     "iopub.status.idle": "2025-08-19T18:49:37.934890Z",
     "shell.execute_reply": "2025-08-19T18:49:37.933597Z"
    },
    "papermill": {
     "duration": 0.894328,
     "end_time": "2025-08-19T18:49:37.936868",
     "exception": false,
     "start_time": "2025-08-19T18:49:37.042540",
     "status": "completed"
    },
    "tags": []
   },
   "outputs": [],
   "source": [
    "# Define covered = 1 if true_label is in the predicted set\n",
    "cp_groups_df['covered'] = cp_groups_df.apply(\n",
    "    lambda r: int(r['true_label'] in r['pred_set']),\n",
    "    axis=1\n",
    ")"
   ]
  },
  {
   "cell_type": "code",
   "execution_count": 53,
   "id": "3a261692",
   "metadata": {
    "execution": {
     "iopub.execute_input": "2025-08-19T18:49:37.962662Z",
     "iopub.status.busy": "2025-08-19T18:49:37.962117Z",
     "iopub.status.idle": "2025-08-19T18:49:37.975768Z",
     "shell.execute_reply": "2025-08-19T18:49:37.974577Z"
    },
    "papermill": {
     "duration": 0.028069,
     "end_time": "2025-08-19T18:49:37.977224",
     "exception": false,
     "start_time": "2025-08-19T18:49:37.949155",
     "status": "completed"
    },
    "tags": []
   },
   "outputs": [],
   "source": [
    "subgroups = ['frau1','nongerman','nongerman_male','nongerman_female']\n",
    "\n",
    "# Conditional coverage for subgroup==1\n",
    "cond_coverage = {\n",
    "    g: cp_groups_df.loc[cp_groups_df[g]==1, 'covered'].mean()\n",
    "    for g in subgroups\n",
    "}"
   ]
  },
  {
   "cell_type": "code",
   "execution_count": 54,
   "id": "894fd600",
   "metadata": {
    "execution": {
     "iopub.execute_input": "2025-08-19T18:49:38.003386Z",
     "iopub.status.busy": "2025-08-19T18:49:38.002268Z",
     "iopub.status.idle": "2025-08-19T18:49:38.013884Z",
     "shell.execute_reply": "2025-08-19T18:49:38.012303Z"
    },
    "papermill": {
     "duration": 0.026412,
     "end_time": "2025-08-19T18:49:38.015699",
     "exception": false,
     "start_time": "2025-08-19T18:49:37.989287",
     "status": "completed"
    },
    "tags": []
   },
   "outputs": [
    {
     "data": {
      "text/plain": [
       "{'frau1': 0.9047310958350182,\n",
       " 'nongerman': 0.9057429966878122,\n",
       " 'nongerman_male': 0.924795100423309,\n",
       " 'nongerman_female': 0.8742175856929956}"
      ]
     },
     "execution_count": 54,
     "metadata": {},
     "output_type": "execute_result"
    }
   ],
   "source": [
    "cond_coverage"
   ]
  },
  {
   "cell_type": "code",
   "execution_count": 55,
   "id": "942895c7",
   "metadata": {
    "execution": {
     "iopub.execute_input": "2025-08-19T18:49:38.053400Z",
     "iopub.status.busy": "2025-08-19T18:49:38.051946Z",
     "iopub.status.idle": "2025-08-19T18:49:38.064279Z",
     "shell.execute_reply": "2025-08-19T18:49:38.062887Z"
    },
    "papermill": {
     "duration": 0.033662,
     "end_time": "2025-08-19T18:49:38.066082",
     "exception": false,
     "start_time": "2025-08-19T18:49:38.032420",
     "status": "completed"
    },
    "tags": []
   },
   "outputs": [],
   "source": [
    "for subgroup, cov in cond_coverage.items():\n",
    "    cp_metrics_df[f\"cov_{subgroup}\"] = cov"
   ]
  },
  {
   "cell_type": "code",
   "execution_count": 56,
   "id": "3970120f",
   "metadata": {
    "execution": {
     "iopub.execute_input": "2025-08-19T18:49:38.098583Z",
     "iopub.status.busy": "2025-08-19T18:49:38.097253Z",
     "iopub.status.idle": "2025-08-19T18:49:38.123565Z",
     "shell.execute_reply": "2025-08-19T18:49:38.122548Z"
    },
    "papermill": {
     "duration": 0.045524,
     "end_time": "2025-08-19T18:49:38.128775",
     "exception": false,
     "start_time": "2025-08-19T18:49:38.083251",
     "status": "completed"
    },
    "tags": []
   },
   "outputs": [
    {
     "data": {
      "text/html": [
       "<div>\n",
       "<style scoped>\n",
       "    .dataframe tbody tr th:only-of-type {\n",
       "        vertical-align: middle;\n",
       "    }\n",
       "\n",
       "    .dataframe tbody tr th {\n",
       "        vertical-align: top;\n",
       "    }\n",
       "\n",
       "    .dataframe thead th {\n",
       "        text-align: right;\n",
       "    }\n",
       "</style>\n",
       "<table border=\"1\" class=\"dataframe\">\n",
       "  <thead>\n",
       "    <tr style=\"text-align: right;\">\n",
       "      <th></th>\n",
       "      <th>universe_id</th>\n",
       "      <th>universe_training_year</th>\n",
       "      <th>universe_training_size</th>\n",
       "      <th>universe_scale</th>\n",
       "      <th>universe_model</th>\n",
       "      <th>universe_exclude_features</th>\n",
       "      <th>universe_exclude_subgroups</th>\n",
       "      <th>q_hat</th>\n",
       "      <th>coverage</th>\n",
       "      <th>avg_size</th>\n",
       "      <th>cov_frau1</th>\n",
       "      <th>cov_nongerman</th>\n",
       "      <th>cov_nongerman_male</th>\n",
       "      <th>cov_nongerman_female</th>\n",
       "    </tr>\n",
       "  </thead>\n",
       "  <tbody>\n",
       "    <tr>\n",
       "      <th>0</th>\n",
       "      <td>17752081d0c2cb73eedefd154fbca8eb</td>\n",
       "      <td>2014</td>\n",
       "      <td>1k</td>\n",
       "      <td>scale</td>\n",
       "      <td>penalized_logreg</td>\n",
       "      <td>none</td>\n",
       "      <td>drop-non-german</td>\n",
       "      <td>0.769673</td>\n",
       "      <td>0.909085</td>\n",
       "      <td>1.216007</td>\n",
       "      <td>0.904731</td>\n",
       "      <td>0.905743</td>\n",
       "      <td>0.924795</td>\n",
       "      <td>0.874218</td>\n",
       "    </tr>\n",
       "  </tbody>\n",
       "</table>\n",
       "</div>"
      ],
      "text/plain": [
       "                        universe_id universe_training_year  \\\n",
       "0  17752081d0c2cb73eedefd154fbca8eb                   2014   \n",
       "\n",
       "  universe_training_size universe_scale    universe_model  \\\n",
       "0                     1k          scale  penalized_logreg   \n",
       "\n",
       "  universe_exclude_features universe_exclude_subgroups     q_hat  coverage  \\\n",
       "0                      none            drop-non-german  0.769673  0.909085   \n",
       "\n",
       "   avg_size  cov_frau1  cov_nongerman  cov_nongerman_male  \\\n",
       "0  1.216007   0.904731       0.905743            0.924795   \n",
       "\n",
       "   cov_nongerman_female  \n",
       "0              0.874218  "
      ]
     },
     "execution_count": 56,
     "metadata": {},
     "output_type": "execute_result"
    }
   ],
   "source": [
    "cp_metrics_df"
   ]
  },
  {
   "cell_type": "markdown",
   "id": "3fc519cc",
   "metadata": {
    "papermill": {
     "duration": 0.013587,
     "end_time": "2025-08-19T18:49:38.167033",
     "exception": false,
     "start_time": "2025-08-19T18:49:38.153446",
     "status": "completed"
    },
    "tags": []
   },
   "source": [
    "# (Fairness) Metrics"
   ]
  },
  {
   "cell_type": "code",
   "execution_count": 57,
   "id": "a2e5e155",
   "metadata": {
    "execution": {
     "iopub.execute_input": "2025-08-19T18:49:38.193755Z",
     "iopub.status.busy": "2025-08-19T18:49:38.192670Z",
     "iopub.status.idle": "2025-08-19T18:49:38.231855Z",
     "shell.execute_reply": "2025-08-19T18:49:38.231012Z"
    },
    "papermill": {
     "duration": 0.055551,
     "end_time": "2025-08-19T18:49:38.234673",
     "exception": false,
     "start_time": "2025-08-19T18:49:38.179122",
     "status": "completed"
    },
    "tags": []
   },
   "outputs": [],
   "source": [
    "colname_to_bin = \"maxdeutsch1\"\n",
    "majority_value = org_train[colname_to_bin].mode()[0]\n",
    "\n",
    "org_test[\"majmin\"] = np.where(org_test[colname_to_bin] == majority_value, \"majority\", \"minority\")"
   ]
  },
  {
   "cell_type": "code",
   "execution_count": 58,
   "id": "17e3e4d5",
   "metadata": {
    "execution": {
     "iopub.execute_input": "2025-08-19T18:49:38.276829Z",
     "iopub.status.busy": "2025-08-19T18:49:38.276511Z",
     "iopub.status.idle": "2025-08-19T18:49:40.127027Z",
     "shell.execute_reply": "2025-08-19T18:49:40.125421Z"
    },
    "papermill": {
     "duration": 1.867171,
     "end_time": "2025-08-19T18:49:40.129198",
     "exception": false,
     "start_time": "2025-08-19T18:49:38.262027",
     "status": "completed"
    },
    "tags": []
   },
   "outputs": [],
   "source": [
    "example_universe = universe.copy()\n",
    "example_universe[\"cutoff\"] = example_universe[\"cutoff\"][0]\n",
    "example_universe[\"eval_fairness_grouping\"] = example_universe[\"eval_fairness_grouping\"][0]\n",
    "fairness_dict, metric_frame = universe_analysis.compute_metrics(\n",
    "    example_universe,\n",
    "    y_pred_prob=probs_test,\n",
    "    y_test=y_true,\n",
    "    org_test=org_test,\n",
    ")"
   ]
  },
  {
   "cell_type": "markdown",
   "id": "1fb7a0e9",
   "metadata": {
    "papermill": {
     "duration": 0.012182,
     "end_time": "2025-08-19T18:49:40.154115",
     "exception": false,
     "start_time": "2025-08-19T18:49:40.141933",
     "status": "completed"
    },
    "tags": []
   },
   "source": [
    "# Overall"
   ]
  },
  {
   "cell_type": "markdown",
   "id": "be1784b1",
   "metadata": {
    "papermill": {
     "duration": 0.011861,
     "end_time": "2025-08-19T18:49:40.178000",
     "exception": false,
     "start_time": "2025-08-19T18:49:40.166139",
     "status": "completed"
    },
    "tags": []
   },
   "source": [
    "Main fairness target: Equalized Odds. Seems to be a better fit than equal opportunity, since we're not only interested in Y = 1. Seems to be a better fit than demographic parity, since we also care about accuracy, not just equal distribution of preds.\n",
    "\n",
    "Pick column for computation of fairness metrics\n",
    "\n",
    "Performance\n",
    "Overall performance measures, most interesting in relation to the measures split by group below"
   ]
  },
  {
   "cell_type": "code",
   "execution_count": 59,
   "id": "b7672bee",
   "metadata": {
    "execution": {
     "iopub.execute_input": "2025-08-19T18:49:40.203926Z",
     "iopub.status.busy": "2025-08-19T18:49:40.203325Z",
     "iopub.status.idle": "2025-08-19T18:49:40.214352Z",
     "shell.execute_reply": "2025-08-19T18:49:40.213010Z"
    },
    "papermill": {
     "duration": 0.026269,
     "end_time": "2025-08-19T18:49:40.216139",
     "exception": false,
     "start_time": "2025-08-19T18:49:40.189870",
     "status": "completed"
    },
    "tags": []
   },
   "outputs": [
    {
     "data": {
      "text/plain": [
       "accuracy                   0.219808\n",
       "balanced accuracy          0.538418\n",
       "f1                         0.241265\n",
       "precision                  0.137827\n",
       "false positive rate        0.890143\n",
       "false negative rate        0.033021\n",
       "selection rate             0.900000\n",
       "count                  89710.000000\n",
       "dtype: float64"
      ]
     },
     "execution_count": 59,
     "metadata": {},
     "output_type": "execute_result"
    }
   ],
   "source": [
    "metric_frame.overall"
   ]
  },
  {
   "cell_type": "markdown",
   "id": "d93333c9",
   "metadata": {
    "papermill": {
     "duration": 0.012368,
     "end_time": "2025-08-19T18:49:40.244211",
     "exception": false,
     "start_time": "2025-08-19T18:49:40.231843",
     "status": "completed"
    },
    "tags": []
   },
   "source": [
    "By Group"
   ]
  },
  {
   "cell_type": "code",
   "execution_count": 60,
   "id": "52256966",
   "metadata": {
    "execution": {
     "iopub.execute_input": "2025-08-19T18:49:40.272539Z",
     "iopub.status.busy": "2025-08-19T18:49:40.270848Z",
     "iopub.status.idle": "2025-08-19T18:49:40.295237Z",
     "shell.execute_reply": "2025-08-19T18:49:40.294127Z"
    },
    "papermill": {
     "duration": 0.040341,
     "end_time": "2025-08-19T18:49:40.297196",
     "exception": false,
     "start_time": "2025-08-19T18:49:40.256855",
     "status": "completed"
    },
    "tags": []
   },
   "outputs": [
    {
     "data": {
      "text/html": [
       "<div>\n",
       "<style scoped>\n",
       "    .dataframe tbody tr th:only-of-type {\n",
       "        vertical-align: middle;\n",
       "    }\n",
       "\n",
       "    .dataframe tbody tr th {\n",
       "        vertical-align: top;\n",
       "    }\n",
       "\n",
       "    .dataframe thead th {\n",
       "        text-align: right;\n",
       "    }\n",
       "</style>\n",
       "<table border=\"1\" class=\"dataframe\">\n",
       "  <thead>\n",
       "    <tr style=\"text-align: right;\">\n",
       "      <th></th>\n",
       "      <th>accuracy</th>\n",
       "      <th>balanced accuracy</th>\n",
       "      <th>f1</th>\n",
       "      <th>precision</th>\n",
       "      <th>false positive rate</th>\n",
       "      <th>false negative rate</th>\n",
       "      <th>selection rate</th>\n",
       "      <th>count</th>\n",
       "    </tr>\n",
       "    <tr>\n",
       "      <th>majmin</th>\n",
       "      <th></th>\n",
       "      <th></th>\n",
       "      <th></th>\n",
       "      <th></th>\n",
       "      <th></th>\n",
       "      <th></th>\n",
       "      <th></th>\n",
       "      <th></th>\n",
       "    </tr>\n",
       "  </thead>\n",
       "  <tbody>\n",
       "    <tr>\n",
       "      <th>majority</th>\n",
       "      <td>0.236504</td>\n",
       "      <td>0.544824</td>\n",
       "      <td>0.250174</td>\n",
       "      <td>0.143741</td>\n",
       "      <td>0.874246</td>\n",
       "      <td>0.036105</td>\n",
       "      <td>0.886092</td>\n",
       "      <td>69170.0</td>\n",
       "    </tr>\n",
       "    <tr>\n",
       "      <th>minority</th>\n",
       "      <td>0.163583</td>\n",
       "      <td>0.518113</td>\n",
       "      <td>0.212505</td>\n",
       "      <td>0.119190</td>\n",
       "      <td>0.942659</td>\n",
       "      <td>0.021115</td>\n",
       "      <td>0.946835</td>\n",
       "      <td>20540.0</td>\n",
       "    </tr>\n",
       "  </tbody>\n",
       "</table>\n",
       "</div>"
      ],
      "text/plain": [
       "          accuracy  balanced accuracy        f1  precision  \\\n",
       "majmin                                                       \n",
       "majority  0.236504           0.544824  0.250174   0.143741   \n",
       "minority  0.163583           0.518113  0.212505   0.119190   \n",
       "\n",
       "          false positive rate  false negative rate  selection rate    count  \n",
       "majmin                                                                       \n",
       "majority             0.874246             0.036105        0.886092  69170.0  \n",
       "minority             0.942659             0.021115        0.946835  20540.0  "
      ]
     },
     "execution_count": 60,
     "metadata": {},
     "output_type": "execute_result"
    }
   ],
   "source": [
    "metric_frame.by_group"
   ]
  },
  {
   "cell_type": "code",
   "execution_count": 61,
   "id": "6e6c20ae",
   "metadata": {
    "execution": {
     "iopub.execute_input": "2025-08-19T18:49:40.327161Z",
     "iopub.status.busy": "2025-08-19T18:49:40.325769Z",
     "iopub.status.idle": "2025-08-19T18:49:42.161313Z",
     "shell.execute_reply": "2025-08-19T18:49:42.159916Z"
    },
    "papermill": {
     "duration": 1.85079,
     "end_time": "2025-08-19T18:49:42.162752",
     "exception": false,
     "start_time": "2025-08-19T18:49:40.311962",
     "status": "completed"
    },
    "tags": []
   },
   "outputs": [
    {
     "data": {
      "text/plain": [
       "array([[<Axes: title={'center': 'accuracy'}, xlabel='majmin'>,\n",
       "        <Axes: title={'center': 'balanced accuracy'}, xlabel='majmin'>,\n",
       "        <Axes: title={'center': 'f1'}, xlabel='majmin'>],\n",
       "       [<Axes: title={'center': 'precision'}, xlabel='majmin'>,\n",
       "        <Axes: title={'center': 'false positive rate'}, xlabel='majmin'>,\n",
       "        <Axes: title={'center': 'false negative rate'}, xlabel='majmin'>],\n",
       "       [<Axes: title={'center': 'selection rate'}, xlabel='majmin'>,\n",
       "        <Axes: title={'center': 'count'}, xlabel='majmin'>,\n",
       "        <Axes: xlabel='majmin'>]], dtype=object)"
      ]
     },
     "execution_count": 61,
     "metadata": {},
     "output_type": "execute_result"
    },
    {
     "data": {
      "image/png": "[encoded data removed]",
      "text/plain": [
       "<Figure size 1200x800 with 9 Axes>"
      ]
     },
     "metadata": {},
     "output_type": "display_data"
    }
   ],
   "source": [
    "# In a graphic\n",
    "metric_frame.by_group.plot.bar(\n",
    "    subplots=True,\n",
    "    layout=[3, 3],\n",
    "    legend=False,\n",
    "    figsize=[12, 8],\n",
    "    title=\"Show all metrics\",\n",
    ")"
   ]
  },
  {
   "cell_type": "markdown",
   "id": "b2e433ae",
   "metadata": {
    "papermill": {
     "duration": 0.013542,
     "end_time": "2025-08-19T18:49:42.190673",
     "exception": false,
     "start_time": "2025-08-19T18:49:42.177131",
     "status": "completed"
    },
    "tags": []
   },
   "source": [
    "# Final Output"
   ]
  },
  {
   "cell_type": "code",
   "execution_count": 62,
   "id": "3871301e",
   "metadata": {
    "execution": {
     "iopub.execute_input": "2025-08-19T18:49:42.222056Z",
     "iopub.status.busy": "2025-08-19T18:49:42.219999Z",
     "iopub.status.idle": "2025-08-19T18:49:42.241992Z",
     "shell.execute_reply": "2025-08-19T18:49:42.240950Z"
    },
    "papermill": {
     "duration": 0.039587,
     "end_time": "2025-08-19T18:49:42.243752",
     "exception": false,
     "start_time": "2025-08-19T18:49:42.204165",
     "status": "completed"
    },
    "tags": []
   },
   "outputs": [
    {
     "data": {
      "text/plain": [
       "4"
      ]
     },
     "execution_count": 62,
     "metadata": {},
     "output_type": "execute_result"
    }
   ],
   "source": [
    "sub_universes = universe_analysis.generate_sub_universes()\n",
    "len(sub_universes)"
   ]
  },
  {
   "cell_type": "code",
   "execution_count": 63,
   "id": "d9cfdaca",
   "metadata": {
    "execution": {
     "iopub.execute_input": "2025-08-19T18:49:42.281923Z",
     "iopub.status.busy": "2025-08-19T18:49:42.280370Z",
     "iopub.status.idle": "2025-08-19T18:49:42.290019Z",
     "shell.execute_reply": "2025-08-19T18:49:42.288996Z"
    },
    "papermill": {
     "duration": 0.031845,
     "end_time": "2025-08-19T18:49:42.296329",
     "exception": false,
     "start_time": "2025-08-19T18:49:42.264484",
     "status": "completed"
    },
    "tags": []
   },
   "outputs": [],
   "source": [
    "def filter_sub_universe_data(sub_universe, org_test):\n",
    "    # Keep all rows — no filtering\n",
    "    keep_rows_mask = np.ones(org_test.shape[0], dtype=bool)\n",
    "\n",
    "    print(f\"[INFO] Keeping all rows: {keep_rows_mask.sum()} rows retained.\")\n",
    "    return keep_rows_mask"
   ]
  },
  {
   "cell_type": "code",
   "execution_count": 64,
   "id": "2bc31ac1",
   "metadata": {
    "execution": {
     "iopub.execute_input": "2025-08-19T18:49:42.327210Z",
     "iopub.status.busy": "2025-08-19T18:49:42.325895Z",
     "iopub.status.idle": "2025-08-19T18:49:48.947305Z",
     "shell.execute_reply": "2025-08-19T18:49:48.946312Z"
    },
    "papermill": {
     "duration": 6.638106,
     "end_time": "2025-08-19T18:49:48.948663",
     "exception": false,
     "start_time": "2025-08-19T18:49:42.310557",
     "status": "completed"
    },
    "tags": []
   },
   "outputs": [
    {
     "name": "stdout",
     "output_type": "stream",
     "text": [
      "Stopping execution_time clock.\n",
      "[INFO] Keeping all rows: 89710 rows retained.\n"
     ]
    },
    {
     "name": "stdout",
     "output_type": "stream",
     "text": [
      "[INFO] Keeping all rows: 89710 rows retained.\n"
     ]
    },
    {
     "name": "stdout",
     "output_type": "stream",
     "text": [
      "[INFO] Keeping all rows: 89710 rows retained.\n"
     ]
    },
    {
     "name": "stdout",
     "output_type": "stream",
     "text": [
      "[INFO] Keeping all rows: 89710 rows retained.\n"
     ]
    },
    {
     "data": {
      "text/html": [
       "<div>\n",
       "<style scoped>\n",
       "    .dataframe tbody tr th:only-of-type {\n",
       "        vertical-align: middle;\n",
       "    }\n",
       "\n",
       "    .dataframe tbody tr th {\n",
       "        vertical-align: top;\n",
       "    }\n",
       "\n",
       "    .dataframe thead th {\n",
       "        text-align: right;\n",
       "    }\n",
       "</style>\n",
       "<table border=\"1\" class=\"dataframe\">\n",
       "  <thead>\n",
       "    <tr style=\"text-align: right;\">\n",
       "      <th></th>\n",
       "      <th>run_no</th>\n",
       "      <th>universe_id</th>\n",
       "      <th>universe_settings</th>\n",
       "      <th>execution_time</th>\n",
       "      <th>test_size_n</th>\n",
       "      <th>test_size_frac</th>\n",
       "      <th>fair_main_equalized_odds_difference</th>\n",
       "      <th>fair_main_equalized_odds_ratio</th>\n",
       "      <th>fair_main_demographic_parity_difference</th>\n",
       "      <th>fair_main_demographic_parity_ratio</th>\n",
       "      <th>...</th>\n",
       "      <th>perf_grp_precision_0</th>\n",
       "      <th>perf_grp_precision_1</th>\n",
       "      <th>perf_grp_false positive rate_0</th>\n",
       "      <th>perf_grp_false positive rate_1</th>\n",
       "      <th>perf_grp_false negative rate_0</th>\n",
       "      <th>perf_grp_false negative rate_1</th>\n",
       "      <th>perf_grp_selection rate_0</th>\n",
       "      <th>perf_grp_selection rate_1</th>\n",
       "      <th>perf_grp_count_0</th>\n",
       "      <th>perf_grp_count_1</th>\n",
       "    </tr>\n",
       "  </thead>\n",
       "  <tbody>\n",
       "    <tr>\n",
       "      <th>0</th>\n",
       "      <td>3</td>\n",
       "      <td>17752081d0c2cb73eedefd154fbca8eb</td>\n",
       "      <td>{\"cutoff\": \"quantile_0.1\", \"eval_fairness_grou...</td>\n",
       "      <td>21.221632</td>\n",
       "      <td>89710</td>\n",
       "      <td>1.0</td>\n",
       "      <td>0.068413</td>\n",
       "      <td>0.927426</td>\n",
       "      <td>0.060743</td>\n",
       "      <td>0.935846</td>\n",
       "      <td>...</td>\n",
       "      <td>NaN</td>\n",
       "      <td>NaN</td>\n",
       "      <td>NaN</td>\n",
       "      <td>NaN</td>\n",
       "      <td>NaN</td>\n",
       "      <td>NaN</td>\n",
       "      <td>NaN</td>\n",
       "      <td>NaN</td>\n",
       "      <td>NaN</td>\n",
       "      <td>NaN</td>\n",
       "    </tr>\n",
       "    <tr>\n",
       "      <th>0</th>\n",
       "      <td>3</td>\n",
       "      <td>17752081d0c2cb73eedefd154fbca8eb</td>\n",
       "      <td>{\"cutoff\": \"quantile_0.1\", \"eval_fairness_grou...</td>\n",
       "      <td>21.221632</td>\n",
       "      <td>89710</td>\n",
       "      <td>1.0</td>\n",
       "      <td>0.068413</td>\n",
       "      <td>0.927426</td>\n",
       "      <td>0.060743</td>\n",
       "      <td>0.935846</td>\n",
       "      <td>...</td>\n",
       "      <td>0.119190</td>\n",
       "      <td>0.143741</td>\n",
       "      <td>0.942659</td>\n",
       "      <td>0.874246</td>\n",
       "      <td>0.021115</td>\n",
       "      <td>0.036105</td>\n",
       "      <td>0.946835</td>\n",
       "      <td>0.886092</td>\n",
       "      <td>20540.0</td>\n",
       "      <td>69170.0</td>\n",
       "    </tr>\n",
       "    <tr>\n",
       "      <th>0</th>\n",
       "      <td>3</td>\n",
       "      <td>17752081d0c2cb73eedefd154fbca8eb</td>\n",
       "      <td>{\"cutoff\": \"quantile_0.25\", \"eval_fairness_gro...</td>\n",
       "      <td>21.221632</td>\n",
       "      <td>89710</td>\n",
       "      <td>1.0</td>\n",
       "      <td>0.063305</td>\n",
       "      <td>0.918523</td>\n",
       "      <td>0.052037</td>\n",
       "      <td>0.934140</td>\n",
       "      <td>...</td>\n",
       "      <td>NaN</td>\n",
       "      <td>NaN</td>\n",
       "      <td>NaN</td>\n",
       "      <td>NaN</td>\n",
       "      <td>NaN</td>\n",
       "      <td>NaN</td>\n",
       "      <td>NaN</td>\n",
       "      <td>NaN</td>\n",
       "      <td>NaN</td>\n",
       "      <td>NaN</td>\n",
       "    </tr>\n",
       "    <tr>\n",
       "      <th>0</th>\n",
       "      <td>3</td>\n",
       "      <td>17752081d0c2cb73eedefd154fbca8eb</td>\n",
       "      <td>{\"cutoff\": \"quantile_0.25\", \"eval_fairness_gro...</td>\n",
       "      <td>21.221632</td>\n",
       "      <td>89710</td>\n",
       "      <td>1.0</td>\n",
       "      <td>0.063305</td>\n",
       "      <td>0.918523</td>\n",
       "      <td>0.052037</td>\n",
       "      <td>0.934140</td>\n",
       "      <td>...</td>\n",
       "      <td>0.130014</td>\n",
       "      <td>0.160852</td>\n",
       "      <td>0.776965</td>\n",
       "      <td>0.713660</td>\n",
       "      <td>0.108953</td>\n",
       "      <td>0.101532</td>\n",
       "      <td>0.790117</td>\n",
       "      <td>0.738080</td>\n",
       "      <td>20540.0</td>\n",
       "      <td>69170.0</td>\n",
       "    </tr>\n",
       "  </tbody>\n",
       "</table>\n",
       "<p>4 rows × 50 columns</p>\n",
       "</div>"
      ],
      "text/plain": [
       "  run_no                       universe_id  \\\n",
       "0      3  17752081d0c2cb73eedefd154fbca8eb   \n",
       "0      3  17752081d0c2cb73eedefd154fbca8eb   \n",
       "0      3  17752081d0c2cb73eedefd154fbca8eb   \n",
       "0      3  17752081d0c2cb73eedefd154fbca8eb   \n",
       "\n",
       "                                   universe_settings  execution_time  \\\n",
       "0  {\"cutoff\": \"quantile_0.1\", \"eval_fairness_grou...       21.221632   \n",
       "0  {\"cutoff\": \"quantile_0.1\", \"eval_fairness_grou...       21.221632   \n",
       "0  {\"cutoff\": \"quantile_0.25\", \"eval_fairness_gro...       21.221632   \n",
       "0  {\"cutoff\": \"quantile_0.25\", \"eval_fairness_gro...       21.221632   \n",
       "\n",
       "   test_size_n  test_size_frac  fair_main_equalized_odds_difference  \\\n",
       "0        89710             1.0                             0.068413   \n",
       "0        89710             1.0                             0.068413   \n",
       "0        89710             1.0                             0.063305   \n",
       "0        89710             1.0                             0.063305   \n",
       "\n",
       "   fair_main_equalized_odds_ratio  fair_main_demographic_parity_difference  \\\n",
       "0                        0.927426                                 0.060743   \n",
       "0                        0.927426                                 0.060743   \n",
       "0                        0.918523                                 0.052037   \n",
       "0                        0.918523                                 0.052037   \n",
       "\n",
       "   fair_main_demographic_parity_ratio  ...  perf_grp_precision_0  \\\n",
       "0                            0.935846  ...                   NaN   \n",
       "0                            0.935846  ...              0.119190   \n",
       "0                            0.934140  ...                   NaN   \n",
       "0                            0.934140  ...              0.130014   \n",
       "\n",
       "   perf_grp_precision_1  perf_grp_false positive rate_0  \\\n",
       "0                   NaN                             NaN   \n",
       "0              0.143741                        0.942659   \n",
       "0                   NaN                             NaN   \n",
       "0              0.160852                        0.776965   \n",
       "\n",
       "   perf_grp_false positive rate_1  perf_grp_false negative rate_0  \\\n",
       "0                             NaN                             NaN   \n",
       "0                        0.874246                        0.021115   \n",
       "0                             NaN                             NaN   \n",
       "0                        0.713660                        0.108953   \n",
       "\n",
       "   perf_grp_false negative rate_1  perf_grp_selection rate_0  \\\n",
       "0                             NaN                        NaN   \n",
       "0                        0.036105                   0.946835   \n",
       "0                             NaN                        NaN   \n",
       "0                        0.101532                   0.790117   \n",
       "\n",
       "   perf_grp_selection rate_1  perf_grp_count_0  perf_grp_count_1  \n",
       "0                        NaN               NaN               NaN  \n",
       "0                   0.886092           20540.0           69170.0  \n",
       "0                        NaN               NaN               NaN  \n",
       "0                   0.738080           20540.0           69170.0  \n",
       "\n",
       "[4 rows x 50 columns]"
      ]
     },
     "execution_count": 64,
     "metadata": {},
     "output_type": "execute_result"
    }
   ],
   "source": [
    "final_output = universe_analysis.generate_final_output(\n",
    "    y_pred_prob=probs_test,\n",
    "    y_test=y_true,\n",
    "    org_test=org_test,\n",
    "    filter_data=filter_sub_universe_data,\n",
    "    cp_metrics_df=cp_metrics_df,\n",
    "    save=True,\n",
    ")\n",
    "final_output"
   ]
  },
  {
   "cell_type": "code",
   "execution_count": null,
   "id": "8b80a1ff",
   "metadata": {
    "papermill": {
     "duration": 0.014188,
     "end_time": "2025-08-19T18:49:48.980202",
     "exception": false,
     "start_time": "2025-08-19T18:49:48.966014",
     "status": "completed"
    },
    "tags": []
   },
   "outputs": [],
   "source": []
  },
  {
   "cell_type": "code",
   "execution_count": null,
   "id": "275c9fad",
   "metadata": {
    "papermill": {
     "duration": 0.016601,
     "end_time": "2025-08-19T18:49:49.012120",
     "exception": false,
     "start_time": "2025-08-19T18:49:48.995519",
     "status": "completed"
    },
    "tags": []
   },
   "outputs": [],
   "source": []
  }
 ],
 "metadata": {
  "celltoolbar": "Tags",
  "kernelspec": {
   "display_name": "Python (CMA Fairness)",
   "language": "python",
   "name": "cma_fair_env"
  },
  "language_info": {
   "codemirror_mode": {
    "name": "ipython",
    "version": 3
   },
   "file_extension": ".py",
   "mimetype": "text/x-python",
   "name": "python",
   "nbconvert_exporter": "python",
   "pygments_lexer": "ipython3",
   "version": "3.10.12"
  },
  "papermill": {
   "default_parameters": {},
   "duration": 31.779226,
   "end_time": "2025-08-19T18:49:49.849282",
   "environment_variables": {},
   "exception": null,
   "input_path": "universe_analysis.ipynb",
   "output_path": "output/runs/3/notebooks/m_3-17752081d0c2cb73eedefd154fbca8eb.ipynb",
   "parameters": {
    "output_dir": "output",
    "run_no": "3",
    "seed": "2023",
    "universe": "{\"cutoff\": [\"quantile_0.1\", \"quantile_0.25\"], \"eval_fairness_grouping\": [\"majority-minority\", \"nationality-all\"], \"exclude_features\": \"none\", \"exclude_subgroups\": \"drop-non-german\", \"model\": \"penalized_logreg\", \"scale\": \"scale\", \"training_size\": \"1k\", \"training_year\": \"2014\"}",
    "universe_id": "17752081d0c2cb73eedefd154fbca8eb"
   },
   "start_time": "2025-08-19T18:49:18.070056",
   "version": "2.6.0"
  }
 },
 "nbformat": 4,
 "nbformat_minor": 5
}