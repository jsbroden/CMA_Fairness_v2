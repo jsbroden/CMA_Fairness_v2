{
 "cells": [
  {
   "cell_type": "markdown",
   "id": "ef23dbb3",
   "metadata": {
    "papermill": {
     "duration": 0.022815,
     "end_time": "2025-08-19T18:45:22.407420",
     "exception": false,
     "start_time": "2025-08-19T18:45:22.384605",
     "status": "completed"
    },
    "tags": []
   },
   "source": [
    "# Setup"
   ]
  },
  {
   "cell_type": "code",
   "execution_count": 1,
   "id": "0bc8e7dc",
   "metadata": {
    "execution": {
     "iopub.execute_input": "2025-08-19T18:45:22.431742Z",
     "iopub.status.busy": "2025-08-19T18:45:22.430861Z",
     "iopub.status.idle": "2025-08-19T18:45:22.449827Z",
     "shell.execute_reply": "2025-08-19T18:45:22.448569Z"
    },
    "papermill": {
     "duration": 0.03308,
     "end_time": "2025-08-19T18:45:22.452705",
     "exception": false,
     "start_time": "2025-08-19T18:45:22.419625",
     "status": "completed"
    },
    "tags": []
   },
   "outputs": [
    {
     "name": "stdout",
     "output_type": "stream",
     "text": [
      "/dss/dsshome1/0C/ra93lal2/cma/CMA_Fairness_v2\n"
     ]
    },
    {
     "name": "stderr",
     "output_type": "stream",
     "text": [
      "/dss/dsshome1/0C/ra93lal2/.local/share/virtualenvs/CMA_Fairness_v2-3j10GkSs/lib/python3.10/site-packages/IPython/core/magics/osm.py:393: UserWarning: This is now an optional IPython functionality, using bookmarks requires you to install the `pickleshare` library.\n",
      "  bkms = self.shell.db.get('bookmarks', {})\n",
      "/dss/dsshome1/0C/ra93lal2/.local/share/virtualenvs/CMA_Fairness_v2-3j10GkSs/lib/python3.10/site-packages/IPython/core/magics/osm.py:417: UserWarning: This is now an optional IPython functionality, setting dhist requires you to install the `pickleshare` library.\n",
      "  self.shell.db['dhist'] = compress_dhist(dhist)[-100:]\n"
     ]
    }
   ],
   "source": [
    "%cd ~/cma/CMA_Fairness_v2"
   ]
  },
  {
   "cell_type": "markdown",
   "id": "9d235661",
   "metadata": {
    "papermill": {
     "duration": 0.008697,
     "end_time": "2025-08-19T18:45:22.472055",
     "exception": false,
     "start_time": "2025-08-19T18:45:22.463358",
     "status": "completed"
    },
    "tags": []
   },
   "source": [
    "The following cell holds the definition of our parameters, these values can be overriden by rendering the with e.g. the following command:\n",
    "\n",
    "papermill -p alpha 0.2 -p ratio 0.3 universe_analysis.ipynb output/test_run.ipynb"
   ]
  },
  {
   "cell_type": "code",
   "execution_count": 2,
   "id": "4a789d8e",
   "metadata": {
    "execution": {
     "iopub.execute_input": "2025-08-19T18:45:22.491749Z",
     "iopub.status.busy": "2025-08-19T18:45:22.491053Z",
     "iopub.status.idle": "2025-08-19T18:45:22.497884Z",
     "shell.execute_reply": "2025-08-19T18:45:22.496710Z"
    },
    "papermill": {
     "duration": 0.018858,
     "end_time": "2025-08-19T18:45:22.499398",
     "exception": false,
     "start_time": "2025-08-19T18:45:22.480540",
     "status": "completed"
    },
    "tags": []
   },
   "outputs": [
    {
     "name": "stdout",
     "output_type": "stream",
     "text": [
      "Current working directory: /dss/dsshome1/0C/ra93lal2/cma/CMA_Fairness_v2\n"
     ]
    }
   ],
   "source": [
    "import os\n",
    "print(\"Current working directory:\", os.getcwd())"
   ]
  },
  {
   "cell_type": "code",
   "execution_count": 3,
   "id": "4132aaed",
   "metadata": {
    "execution": {
     "iopub.execute_input": "2025-08-19T18:45:22.521665Z",
     "iopub.status.busy": "2025-08-19T18:45:22.520974Z",
     "iopub.status.idle": "2025-08-19T18:45:22.529746Z",
     "shell.execute_reply": "2025-08-19T18:45:22.528558Z"
    },
    "papermill": {
     "duration": 0.021259,
     "end_time": "2025-08-19T18:45:22.531537",
     "exception": false,
     "start_time": "2025-08-19T18:45:22.510278",
     "status": "completed"
    },
    "tags": [
     "parameters"
    ]
   },
   "outputs": [],
   "source": [
    "run_no = 0\n",
    "universe_id = \"test\"\n",
    "universe = {\n",
    "    \"training_size\": \"5k\", # \"25k\", \"5k\", \"1k\"\n",
    "    \"training_year\": \"2012_14\", # \"2014\", \"2012_14\", \"2010_14\"\n",
    "    \"scale\": \"scale\", # \"scale\", \"do-not-scale\",\n",
    "    \"model\": \"elasticnet\", # \"logreg\", \"penalized_logreg\", \"rf\", \"gbm\", \"elasticnet\"\n",
    "    \"cutoff\": [\"quantile_0.15\", \"quantile_0.30\"],\n",
    "    \"exclude_features\": \"age\", # \"none\", \"nationality\", \"sex\", \"nationality-sex\", \"age\"\n",
    "    \"exclude_subgroups\": \"drop-non-german\", # \"keep-all\", \"drop-non-german\"\n",
    "    \"eval_fairness_grouping\": [\"majority-minority\", \"nationality-all\"]\n",
    "}\n",
    "\n",
    "output_dir=\"./output\"\n",
    "seed=0"
   ]
  },
  {
   "cell_type": "code",
   "execution_count": 4,
   "id": "e62c7caa",
   "metadata": {
    "execution": {
     "iopub.execute_input": "2025-08-19T18:45:22.554177Z",
     "iopub.status.busy": "2025-08-19T18:45:22.553502Z",
     "iopub.status.idle": "2025-08-19T18:45:22.560816Z",
     "shell.execute_reply": "2025-08-19T18:45:22.559620Z"
    },
    "papermill": {
     "duration": 0.019953,
     "end_time": "2025-08-19T18:45:22.562561",
     "exception": false,
     "start_time": "2025-08-19T18:45:22.542608",
     "status": "completed"
    },
    "tags": [
     "injected-parameters"
    ]
   },
   "outputs": [],
   "source": [
    "# Parameters\n",
    "universe_id = \"459c4f54fcb65a7a1bbb90d958ca9788\"\n",
    "run_no = \"3\"\n",
    "universe = \"{\\\"cutoff\\\": [\\\"quantile_0.1\\\", \\\"quantile_0.25\\\"], \\\"eval_fairness_grouping\\\": [\\\"majority-minority\\\", \\\"nationality-all\\\"], \\\"exclude_features\\\": \\\"nationality\\\", \\\"exclude_subgroups\\\": \\\"keep-all\\\", \\\"model\\\": \\\"penalized_logreg\\\", \\\"scale\\\": \\\"do-not-scale\\\", \\\"training_size\\\": \\\"5k\\\", \\\"training_year\\\": \\\"2010_14\\\"}\"\n",
    "output_dir = \"output\"\n",
    "seed = \"2023\"\n"
   ]
  },
  {
   "cell_type": "code",
   "execution_count": 5,
   "id": "a5d7941f",
   "metadata": {
    "execution": {
     "iopub.execute_input": "2025-08-19T18:45:22.584733Z",
     "iopub.status.busy": "2025-08-19T18:45:22.583982Z",
     "iopub.status.idle": "2025-08-19T18:45:22.590731Z",
     "shell.execute_reply": "2025-08-19T18:45:22.589553Z"
    },
    "papermill": {
     "duration": 0.019219,
     "end_time": "2025-08-19T18:45:22.592384",
     "exception": false,
     "start_time": "2025-08-19T18:45:22.573165",
     "status": "completed"
    },
    "tags": []
   },
   "outputs": [],
   "source": [
    "import json\n",
    "if isinstance(universe, str):\n",
    "    universe = json.loads(universe)"
   ]
  },
  {
   "cell_type": "code",
   "execution_count": 6,
   "id": "7076ccb1",
   "metadata": {
    "execution": {
     "iopub.execute_input": "2025-08-19T18:45:22.614558Z",
     "iopub.status.busy": "2025-08-19T18:45:22.613869Z",
     "iopub.status.idle": "2025-08-19T18:45:22.660777Z",
     "shell.execute_reply": "2025-08-19T18:45:22.659842Z"
    },
    "papermill": {
     "duration": 0.060422,
     "end_time": "2025-08-19T18:45:22.663597",
     "exception": false,
     "start_time": "2025-08-19T18:45:22.603175",
     "status": "completed"
    },
    "tags": []
   },
   "outputs": [],
   "source": [
    "# Auto-reload the custom package\n",
    "%load_ext autoreload\n",
    "%autoreload 1\n",
    "%aimport fairness_multiverse"
   ]
  },
  {
   "cell_type": "code",
   "execution_count": 7,
   "id": "94c8eb93",
   "metadata": {
    "execution": {
     "iopub.execute_input": "2025-08-19T18:45:22.701216Z",
     "iopub.status.busy": "2025-08-19T18:45:22.699748Z",
     "iopub.status.idle": "2025-08-19T18:45:24.437423Z",
     "shell.execute_reply": "2025-08-19T18:45:24.434557Z"
    },
    "papermill": {
     "duration": 1.753523,
     "end_time": "2025-08-19T18:45:24.439519",
     "exception": false,
     "start_time": "2025-08-19T18:45:22.685996",
     "status": "completed"
    },
    "tags": []
   },
   "outputs": [],
   "source": [
    "from fairness_multiverse.universe import UniverseAnalysis\n",
    "\n",
    "universe_analysis = UniverseAnalysis(\n",
    "    run_no = run_no,\n",
    "    universe_id = universe_id,\n",
    "    universe = universe,\n",
    "    output_dir=output_dir,\n",
    ")"
   ]
  },
  {
   "cell_type": "code",
   "execution_count": 8,
   "id": "2a6381cf",
   "metadata": {
    "execution": {
     "iopub.execute_input": "2025-08-19T18:45:24.462240Z",
     "iopub.status.busy": "2025-08-19T18:45:24.460621Z",
     "iopub.status.idle": "2025-08-19T18:45:24.470550Z",
     "shell.execute_reply": "2025-08-19T18:45:24.469171Z"
    },
    "papermill": {
     "duration": 0.022854,
     "end_time": "2025-08-19T18:45:24.472096",
     "exception": false,
     "start_time": "2025-08-19T18:45:24.449242",
     "status": "completed"
    },
    "tags": []
   },
   "outputs": [
    {
     "name": "stdout",
     "output_type": "stream",
     "text": [
      "Using Seed: 2023\n"
     ]
    }
   ],
   "source": [
    "import numpy as np\n",
    "parsed_seed = int(seed)\n",
    "np.random.seed(parsed_seed)\n",
    "print(f\"Using Seed: {parsed_seed}\")"
   ]
  },
  {
   "cell_type": "markdown",
   "id": "b6e958b4",
   "metadata": {
    "papermill": {
     "duration": 0.009001,
     "end_time": "2025-08-19T18:45:24.492947",
     "exception": false,
     "start_time": "2025-08-19T18:45:24.483946",
     "status": "completed"
    },
    "tags": []
   },
   "source": [
    "# Loading Data"
   ]
  },
  {
   "cell_type": "code",
   "execution_count": 9,
   "id": "98701482",
   "metadata": {
    "execution": {
     "iopub.execute_input": "2025-08-19T18:45:24.513814Z",
     "iopub.status.busy": "2025-08-19T18:45:24.512413Z",
     "iopub.status.idle": "2025-08-19T18:45:35.290313Z",
     "shell.execute_reply": "2025-08-19T18:45:35.289210Z"
    },
    "papermill": {
     "duration": 10.789885,
     "end_time": "2025-08-19T18:45:35.291721",
     "exception": false,
     "start_time": "2025-08-19T18:45:24.501836",
     "status": "completed"
    },
    "tags": []
   },
   "outputs": [
    {
     "name": "stdout",
     "output_type": "stream",
     "text": [
      "Loading SIAB data from cache: data/siab_cached.csv.gz\n"
     ]
    },
    {
     "name": "stdout",
     "output_type": "stream",
     "text": [
      "(643690, 164)\n"
     ]
    }
   ],
   "source": [
    "from pathlib import Path\n",
    "import pandas as pd\n",
    "\n",
    "# File paths\n",
    "raw_file = Path(\"data/raw/siab.csv\")\n",
    "cache_file = Path(\"data/siab_cached.csv.gz\")\n",
    "\n",
    "# Ensure cache directory exists\n",
    "cache_file.parent.mkdir(parents=True, exist_ok=True)\n",
    "\n",
    "# Load with simple caching\n",
    "if cache_file.exists():\n",
    "    print(f\"Loading SIAB data from cache: {cache_file}\")\n",
    "    siab = pd.read_csv(cache_file, compression='gzip')\n",
    "else:\n",
    "    print(f\"Cache not found. Reading raw SIAB data: {raw_file}\")\n",
    "    siab = pd.read_csv(raw_file)\n",
    "    siab.to_csv(cache_file, index=False, compression='gzip')\n",
    "    print(f\"Cached SIAB data to: {cache_file}\")\n",
    "\n",
    "print(siab.shape)"
   ]
  },
  {
   "cell_type": "code",
   "execution_count": 10,
   "id": "058d2abb",
   "metadata": {
    "execution": {
     "iopub.execute_input": "2025-08-19T18:45:35.317081Z",
     "iopub.status.busy": "2025-08-19T18:45:35.315737Z",
     "iopub.status.idle": "2025-08-19T18:45:35.448269Z",
     "shell.execute_reply": "2025-08-19T18:45:35.447498Z"
    },
    "papermill": {
     "duration": 0.147483,
     "end_time": "2025-08-19T18:45:35.451976",
     "exception": false,
     "start_time": "2025-08-19T18:45:35.304493",
     "status": "completed"
    },
    "tags": []
   },
   "outputs": [
    {
     "data": {
      "text/html": [
       "<div>\n",
       "<style scoped>\n",
       "    .dataframe tbody tr th:only-of-type {\n",
       "        vertical-align: middle;\n",
       "    }\n",
       "\n",
       "    .dataframe tbody tr th {\n",
       "        vertical-align: top;\n",
       "    }\n",
       "\n",
       "    .dataframe thead th {\n",
       "        text-align: right;\n",
       "    }\n",
       "</style>\n",
       "<table border=\"1\" class=\"dataframe\">\n",
       "  <thead>\n",
       "    <tr style=\"text-align: right;\">\n",
       "      <th></th>\n",
       "      <th>persnr</th>\n",
       "      <th>year</th>\n",
       "      <th>nrEntry</th>\n",
       "      <th>ltue</th>\n",
       "      <th>employed_before</th>\n",
       "      <th>receipt_leh_before</th>\n",
       "      <th>receipt_lhg_before</th>\n",
       "      <th>se_before</th>\n",
       "      <th>ASU_notue_seeking_before</th>\n",
       "      <th>ASU_other_before</th>\n",
       "      <th>...</th>\n",
       "      <th>minijob_tot_dur_byage</th>\n",
       "      <th>ft_tot_dur_byage</th>\n",
       "      <th>befrist_tot_dur_byage</th>\n",
       "      <th>leih_tot_dur_byage</th>\n",
       "      <th>LHG_tot_dur_byage</th>\n",
       "      <th>LEH_tot_dur_byage</th>\n",
       "      <th>almp_tot_dur_byage</th>\n",
       "      <th>almp_aw_tot_dur_byage</th>\n",
       "      <th>se_tot_dur_byage</th>\n",
       "      <th>seeking1_tot_dur_byage</th>\n",
       "    </tr>\n",
       "  </thead>\n",
       "  <tbody>\n",
       "    <tr>\n",
       "      <th>0</th>\n",
       "      <td>7</td>\n",
       "      <td>2015</td>\n",
       "      <td>1</td>\n",
       "      <td>0</td>\n",
       "      <td>1</td>\n",
       "      <td>0</td>\n",
       "      <td>0</td>\n",
       "      <td>0</td>\n",
       "      <td>1</td>\n",
       "      <td>0</td>\n",
       "      <td>...</td>\n",
       "      <td>0.000000</td>\n",
       "      <td>0.000000</td>\n",
       "      <td>15.043478</td>\n",
       "      <td>0.000000</td>\n",
       "      <td>0.000000</td>\n",
       "      <td>0.000000</td>\n",
       "      <td>0.000000</td>\n",
       "      <td>0.000000</td>\n",
       "      <td>0.000000</td>\n",
       "      <td>0.000000</td>\n",
       "    </tr>\n",
       "    <tr>\n",
       "      <th>1</th>\n",
       "      <td>18</td>\n",
       "      <td>2010</td>\n",
       "      <td>1</td>\n",
       "      <td>1</td>\n",
       "      <td>0</td>\n",
       "      <td>0</td>\n",
       "      <td>0</td>\n",
       "      <td>0</td>\n",
       "      <td>0</td>\n",
       "      <td>0</td>\n",
       "      <td>...</td>\n",
       "      <td>0.000000</td>\n",
       "      <td>0.000000</td>\n",
       "      <td>0.000000</td>\n",
       "      <td>0.000000</td>\n",
       "      <td>0.000000</td>\n",
       "      <td>0.000000</td>\n",
       "      <td>0.000000</td>\n",
       "      <td>0.000000</td>\n",
       "      <td>0.000000</td>\n",
       "      <td>0.000000</td>\n",
       "    </tr>\n",
       "    <tr>\n",
       "      <th>2</th>\n",
       "      <td>18</td>\n",
       "      <td>2011</td>\n",
       "      <td>2</td>\n",
       "      <td>0</td>\n",
       "      <td>1</td>\n",
       "      <td>0</td>\n",
       "      <td>1</td>\n",
       "      <td>0</td>\n",
       "      <td>1</td>\n",
       "      <td>0</td>\n",
       "      <td>...</td>\n",
       "      <td>2.714286</td>\n",
       "      <td>2.714286</td>\n",
       "      <td>0.000000</td>\n",
       "      <td>0.000000</td>\n",
       "      <td>10.775510</td>\n",
       "      <td>0.000000</td>\n",
       "      <td>8.367347</td>\n",
       "      <td>0.000000</td>\n",
       "      <td>0.000000</td>\n",
       "      <td>9.836735</td>\n",
       "    </tr>\n",
       "    <tr>\n",
       "      <th>3</th>\n",
       "      <td>18</td>\n",
       "      <td>2012</td>\n",
       "      <td>3</td>\n",
       "      <td>0</td>\n",
       "      <td>1</td>\n",
       "      <td>0</td>\n",
       "      <td>1</td>\n",
       "      <td>0</td>\n",
       "      <td>1</td>\n",
       "      <td>0</td>\n",
       "      <td>...</td>\n",
       "      <td>4.200000</td>\n",
       "      <td>4.200000</td>\n",
       "      <td>0.000000</td>\n",
       "      <td>0.000000</td>\n",
       "      <td>12.100000</td>\n",
       "      <td>0.000000</td>\n",
       "      <td>9.400000</td>\n",
       "      <td>0.000000</td>\n",
       "      <td>0.000000</td>\n",
       "      <td>9.960000</td>\n",
       "    </tr>\n",
       "    <tr>\n",
       "      <th>4</th>\n",
       "      <td>18</td>\n",
       "      <td>2012</td>\n",
       "      <td>4</td>\n",
       "      <td>0</td>\n",
       "      <td>1</td>\n",
       "      <td>0</td>\n",
       "      <td>1</td>\n",
       "      <td>0</td>\n",
       "      <td>1</td>\n",
       "      <td>0</td>\n",
       "      <td>...</td>\n",
       "      <td>5.460000</td>\n",
       "      <td>5.460000</td>\n",
       "      <td>0.000000</td>\n",
       "      <td>0.000000</td>\n",
       "      <td>13.360000</td>\n",
       "      <td>0.000000</td>\n",
       "      <td>10.320000</td>\n",
       "      <td>0.000000</td>\n",
       "      <td>0.000000</td>\n",
       "      <td>10.280000</td>\n",
       "    </tr>\n",
       "    <tr>\n",
       "      <th>...</th>\n",
       "      <td>...</td>\n",
       "      <td>...</td>\n",
       "      <td>...</td>\n",
       "      <td>...</td>\n",
       "      <td>...</td>\n",
       "      <td>...</td>\n",
       "      <td>...</td>\n",
       "      <td>...</td>\n",
       "      <td>...</td>\n",
       "      <td>...</td>\n",
       "      <td>...</td>\n",
       "      <td>...</td>\n",
       "      <td>...</td>\n",
       "      <td>...</td>\n",
       "      <td>...</td>\n",
       "      <td>...</td>\n",
       "      <td>...</td>\n",
       "      <td>...</td>\n",
       "      <td>...</td>\n",
       "      <td>...</td>\n",
       "      <td>...</td>\n",
       "    </tr>\n",
       "    <tr>\n",
       "      <th>643685</th>\n",
       "      <td>1827860</td>\n",
       "      <td>2013</td>\n",
       "      <td>1</td>\n",
       "      <td>0</td>\n",
       "      <td>0</td>\n",
       "      <td>0</td>\n",
       "      <td>1</td>\n",
       "      <td>0</td>\n",
       "      <td>0</td>\n",
       "      <td>1</td>\n",
       "      <td>...</td>\n",
       "      <td>0.000000</td>\n",
       "      <td>0.000000</td>\n",
       "      <td>0.000000</td>\n",
       "      <td>0.000000</td>\n",
       "      <td>0.612903</td>\n",
       "      <td>0.000000</td>\n",
       "      <td>0.000000</td>\n",
       "      <td>0.000000</td>\n",
       "      <td>0.000000</td>\n",
       "      <td>0.000000</td>\n",
       "    </tr>\n",
       "    <tr>\n",
       "      <th>643686</th>\n",
       "      <td>1827860</td>\n",
       "      <td>2015</td>\n",
       "      <td>2</td>\n",
       "      <td>1</td>\n",
       "      <td>0</td>\n",
       "      <td>0</td>\n",
       "      <td>1</td>\n",
       "      <td>0</td>\n",
       "      <td>1</td>\n",
       "      <td>0</td>\n",
       "      <td>...</td>\n",
       "      <td>0.000000</td>\n",
       "      <td>0.000000</td>\n",
       "      <td>0.212121</td>\n",
       "      <td>0.212121</td>\n",
       "      <td>17.363636</td>\n",
       "      <td>0.000000</td>\n",
       "      <td>8.909091</td>\n",
       "      <td>0.000000</td>\n",
       "      <td>0.000000</td>\n",
       "      <td>7.121212</td>\n",
       "    </tr>\n",
       "    <tr>\n",
       "      <th>643687</th>\n",
       "      <td>1827860</td>\n",
       "      <td>2016</td>\n",
       "      <td>3</td>\n",
       "      <td>1</td>\n",
       "      <td>0</td>\n",
       "      <td>0</td>\n",
       "      <td>1</td>\n",
       "      <td>1</td>\n",
       "      <td>0</td>\n",
       "      <td>1</td>\n",
       "      <td>...</td>\n",
       "      <td>0.000000</td>\n",
       "      <td>0.000000</td>\n",
       "      <td>0.294118</td>\n",
       "      <td>0.205882</td>\n",
       "      <td>34.705882</td>\n",
       "      <td>0.000000</td>\n",
       "      <td>10.352941</td>\n",
       "      <td>1.705882</td>\n",
       "      <td>1.705882</td>\n",
       "      <td>23.911765</td>\n",
       "    </tr>\n",
       "    <tr>\n",
       "      <th>643688</th>\n",
       "      <td>1827869</td>\n",
       "      <td>2013</td>\n",
       "      <td>1</td>\n",
       "      <td>1</td>\n",
       "      <td>1</td>\n",
       "      <td>0</td>\n",
       "      <td>0</td>\n",
       "      <td>0</td>\n",
       "      <td>1</td>\n",
       "      <td>0</td>\n",
       "      <td>...</td>\n",
       "      <td>0.000000</td>\n",
       "      <td>0.000000</td>\n",
       "      <td>0.000000</td>\n",
       "      <td>0.000000</td>\n",
       "      <td>0.000000</td>\n",
       "      <td>0.525424</td>\n",
       "      <td>0.000000</td>\n",
       "      <td>0.000000</td>\n",
       "      <td>0.000000</td>\n",
       "      <td>0.000000</td>\n",
       "    </tr>\n",
       "    <tr>\n",
       "      <th>643689</th>\n",
       "      <td>1827869</td>\n",
       "      <td>2014</td>\n",
       "      <td>2</td>\n",
       "      <td>0</td>\n",
       "      <td>0</td>\n",
       "      <td>1</td>\n",
       "      <td>0</td>\n",
       "      <td>0</td>\n",
       "      <td>1</td>\n",
       "      <td>0</td>\n",
       "      <td>...</td>\n",
       "      <td>0.000000</td>\n",
       "      <td>0.666667</td>\n",
       "      <td>0.666667</td>\n",
       "      <td>0.000000</td>\n",
       "      <td>0.000000</td>\n",
       "      <td>8.950000</td>\n",
       "      <td>1.033333</td>\n",
       "      <td>0.083333</td>\n",
       "      <td>0.083333</td>\n",
       "      <td>8.133333</td>\n",
       "    </tr>\n",
       "  </tbody>\n",
       "</table>\n",
       "<p>643690 rows × 164 columns</p>\n",
       "</div>"
      ],
      "text/plain": [
       "         persnr  year  nrEntry  ltue  employed_before  receipt_leh_before  \\\n",
       "0             7  2015        1     0                1                   0   \n",
       "1            18  2010        1     1                0                   0   \n",
       "2            18  2011        2     0                1                   0   \n",
       "3            18  2012        3     0                1                   0   \n",
       "4            18  2012        4     0                1                   0   \n",
       "...         ...   ...      ...   ...              ...                 ...   \n",
       "643685  1827860  2013        1     0                0                   0   \n",
       "643686  1827860  2015        2     1                0                   0   \n",
       "643687  1827860  2016        3     1                0                   0   \n",
       "643688  1827869  2013        1     1                1                   0   \n",
       "643689  1827869  2014        2     0                0                   1   \n",
       "\n",
       "        receipt_lhg_before  se_before  ASU_notue_seeking_before  \\\n",
       "0                        0          0                         1   \n",
       "1                        0          0                         0   \n",
       "2                        1          0                         1   \n",
       "3                        1          0                         1   \n",
       "4                        1          0                         1   \n",
       "...                    ...        ...                       ...   \n",
       "643685                   1          0                         0   \n",
       "643686                   1          0                         1   \n",
       "643687                   1          1                         0   \n",
       "643688                   0          0                         1   \n",
       "643689                   0          0                         1   \n",
       "\n",
       "        ASU_other_before  ...  minijob_tot_dur_byage  ft_tot_dur_byage  \\\n",
       "0                      0  ...               0.000000          0.000000   \n",
       "1                      0  ...               0.000000          0.000000   \n",
       "2                      0  ...               2.714286          2.714286   \n",
       "3                      0  ...               4.200000          4.200000   \n",
       "4                      0  ...               5.460000          5.460000   \n",
       "...                  ...  ...                    ...               ...   \n",
       "643685                 1  ...               0.000000          0.000000   \n",
       "643686                 0  ...               0.000000          0.000000   \n",
       "643687                 1  ...               0.000000          0.000000   \n",
       "643688                 0  ...               0.000000          0.000000   \n",
       "643689                 0  ...               0.000000          0.666667   \n",
       "\n",
       "        befrist_tot_dur_byage  leih_tot_dur_byage  LHG_tot_dur_byage  \\\n",
       "0                   15.043478            0.000000           0.000000   \n",
       "1                    0.000000            0.000000           0.000000   \n",
       "2                    0.000000            0.000000          10.775510   \n",
       "3                    0.000000            0.000000          12.100000   \n",
       "4                    0.000000            0.000000          13.360000   \n",
       "...                       ...                 ...                ...   \n",
       "643685               0.000000            0.000000           0.612903   \n",
       "643686               0.212121            0.212121          17.363636   \n",
       "643687               0.294118            0.205882          34.705882   \n",
       "643688               0.000000            0.000000           0.000000   \n",
       "643689               0.666667            0.000000           0.000000   \n",
       "\n",
       "        LEH_tot_dur_byage  almp_tot_dur_byage  almp_aw_tot_dur_byage  \\\n",
       "0                0.000000            0.000000               0.000000   \n",
       "1                0.000000            0.000000               0.000000   \n",
       "2                0.000000            8.367347               0.000000   \n",
       "3                0.000000            9.400000               0.000000   \n",
       "4                0.000000           10.320000               0.000000   \n",
       "...                   ...                 ...                    ...   \n",
       "643685           0.000000            0.000000               0.000000   \n",
       "643686           0.000000            8.909091               0.000000   \n",
       "643687           0.000000           10.352941               1.705882   \n",
       "643688           0.525424            0.000000               0.000000   \n",
       "643689           8.950000            1.033333               0.083333   \n",
       "\n",
       "        se_tot_dur_byage  seeking1_tot_dur_byage  \n",
       "0               0.000000                0.000000  \n",
       "1               0.000000                0.000000  \n",
       "2               0.000000                9.836735  \n",
       "3               0.000000                9.960000  \n",
       "4               0.000000               10.280000  \n",
       "...                  ...                     ...  \n",
       "643685          0.000000                0.000000  \n",
       "643686          0.000000                7.121212  \n",
       "643687          1.705882               23.911765  \n",
       "643688          0.000000                0.000000  \n",
       "643689          0.083333                8.133333  \n",
       "\n",
       "[643690 rows x 164 columns]"
      ]
     },
     "execution_count": 10,
     "metadata": {},
     "output_type": "execute_result"
    }
   ],
   "source": [
    "siab"
   ]
  },
  {
   "cell_type": "markdown",
   "id": "1f87e805",
   "metadata": {
    "papermill": {
     "duration": 0.01183,
     "end_time": "2025-08-19T18:45:35.488059",
     "exception": false,
     "start_time": "2025-08-19T18:45:35.476229",
     "status": "completed"
    },
    "tags": []
   },
   "source": [
    "# Splitting Data and Setting Training Data Size"
   ]
  },
  {
   "cell_type": "code",
   "execution_count": 11,
   "id": "910ae358",
   "metadata": {
    "execution": {
     "iopub.execute_input": "2025-08-19T18:45:35.510202Z",
     "iopub.status.busy": "2025-08-19T18:45:35.508777Z",
     "iopub.status.idle": "2025-08-19T18:45:36.571363Z",
     "shell.execute_reply": "2025-08-19T18:45:36.570584Z"
    },
    "papermill": {
     "duration": 1.07559,
     "end_time": "2025-08-19T18:45:36.573111",
     "exception": false,
     "start_time": "2025-08-19T18:45:35.497521",
     "status": "completed"
    },
    "tags": []
   },
   "outputs": [],
   "source": [
    "from fairness_multiverse.universe import sample_by_year_size\n",
    "\n",
    "siab_train = sample_by_year_size(siab,\n",
    "                               training_year=universe[\"training_year\"],\n",
    "                               training_size=universe[\"training_size\"])"
   ]
  },
  {
   "cell_type": "code",
   "execution_count": 12,
   "id": "919c8ff5",
   "metadata": {
    "execution": {
     "iopub.execute_input": "2025-08-19T18:45:36.596021Z",
     "iopub.status.busy": "2025-08-19T18:45:36.594814Z",
     "iopub.status.idle": "2025-08-19T18:45:36.602641Z",
     "shell.execute_reply": "2025-08-19T18:45:36.601590Z"
    },
    "papermill": {
     "duration": 0.020379,
     "end_time": "2025-08-19T18:45:36.604099",
     "exception": false,
     "start_time": "2025-08-19T18:45:36.583720",
     "status": "completed"
    },
    "tags": []
   },
   "outputs": [
    {
     "data": {
      "text/plain": [
       "(5000, 164)"
      ]
     },
     "execution_count": 12,
     "metadata": {},
     "output_type": "execute_result"
    }
   ],
   "source": [
    "siab_train.shape"
   ]
  },
  {
   "cell_type": "code",
   "execution_count": 13,
   "id": "feb13bf4",
   "metadata": {
    "execution": {
     "iopub.execute_input": "2025-08-19T18:45:36.628591Z",
     "iopub.status.busy": "2025-08-19T18:45:36.627241Z",
     "iopub.status.idle": "2025-08-19T18:45:36.641378Z",
     "shell.execute_reply": "2025-08-19T18:45:36.640331Z"
    },
    "papermill": {
     "duration": 0.026919,
     "end_time": "2025-08-19T18:45:36.642861",
     "exception": false,
     "start_time": "2025-08-19T18:45:36.615942",
     "status": "completed"
    },
    "tags": []
   },
   "outputs": [
    {
     "data": {
      "text/plain": [
       "year\n",
       "2010    1000\n",
       "2011    1000\n",
       "2012    1000\n",
       "2013    1000\n",
       "2014    1000\n",
       "dtype: int64"
      ]
     },
     "metadata": {},
     "output_type": "display_data"
    }
   ],
   "source": [
    "display(siab_train.groupby(\"year\").size())"
   ]
  },
  {
   "cell_type": "code",
   "execution_count": 14,
   "id": "0997782f",
   "metadata": {
    "execution": {
     "iopub.execute_input": "2025-08-19T18:45:36.671147Z",
     "iopub.status.busy": "2025-08-19T18:45:36.669974Z",
     "iopub.status.idle": "2025-08-19T18:45:36.938985Z",
     "shell.execute_reply": "2025-08-19T18:45:36.938144Z"
    },
    "papermill": {
     "duration": 0.284228,
     "end_time": "2025-08-19T18:45:36.941930",
     "exception": false,
     "start_time": "2025-08-19T18:45:36.657702",
     "status": "completed"
    },
    "tags": []
   },
   "outputs": [],
   "source": [
    "#siab_train = siab_s[siab_s.year < 2015]\n",
    "siab_calib = siab[siab.year == 2015]\n",
    "siab_test = siab[siab.year == 2016]"
   ]
  },
  {
   "cell_type": "code",
   "execution_count": 15,
   "id": "2c1e4012",
   "metadata": {
    "execution": {
     "iopub.execute_input": "2025-08-19T18:45:36.979189Z",
     "iopub.status.busy": "2025-08-19T18:45:36.978050Z",
     "iopub.status.idle": "2025-08-19T18:45:36.984599Z",
     "shell.execute_reply": "2025-08-19T18:45:36.983352Z"
    },
    "papermill": {
     "duration": 0.021456,
     "end_time": "2025-08-19T18:45:36.986011",
     "exception": false,
     "start_time": "2025-08-19T18:45:36.964555",
     "status": "completed"
    },
    "tags": []
   },
   "outputs": [],
   "source": [
    "#siab_calib.shape"
   ]
  },
  {
   "cell_type": "code",
   "execution_count": 16,
   "id": "f66b54ca",
   "metadata": {
    "execution": {
     "iopub.execute_input": "2025-08-19T18:45:37.009734Z",
     "iopub.status.busy": "2025-08-19T18:45:37.008304Z",
     "iopub.status.idle": "2025-08-19T18:45:37.015275Z",
     "shell.execute_reply": "2025-08-19T18:45:37.014054Z"
    },
    "papermill": {
     "duration": 0.020144,
     "end_time": "2025-08-19T18:45:37.016700",
     "exception": false,
     "start_time": "2025-08-19T18:45:36.996556",
     "status": "completed"
    },
    "tags": []
   },
   "outputs": [],
   "source": [
    "#siab_test.shape"
   ]
  },
  {
   "cell_type": "code",
   "execution_count": 17,
   "id": "27e4384d",
   "metadata": {
    "execution": {
     "iopub.execute_input": "2025-08-19T18:45:37.041694Z",
     "iopub.status.busy": "2025-08-19T18:45:37.040361Z",
     "iopub.status.idle": "2025-08-19T18:45:37.052887Z",
     "shell.execute_reply": "2025-08-19T18:45:37.051615Z"
    },
    "papermill": {
     "duration": 0.026407,
     "end_time": "2025-08-19T18:45:37.054452",
     "exception": false,
     "start_time": "2025-08-19T18:45:37.028045",
     "status": "completed"
    },
    "tags": []
   },
   "outputs": [],
   "source": [
    "X_train = siab_train.iloc[:,4:164]\n",
    "y_train = siab_train.iloc[:, [3]]"
   ]
  },
  {
   "cell_type": "code",
   "execution_count": 18,
   "id": "08ee8389",
   "metadata": {
    "execution": {
     "iopub.execute_input": "2025-08-19T18:45:37.079722Z",
     "iopub.status.busy": "2025-08-19T18:45:37.078357Z",
     "iopub.status.idle": "2025-08-19T18:45:37.140706Z",
     "shell.execute_reply": "2025-08-19T18:45:37.139828Z"
    },
    "papermill": {
     "duration": 0.076835,
     "end_time": "2025-08-19T18:45:37.143542",
     "exception": false,
     "start_time": "2025-08-19T18:45:37.066707",
     "status": "completed"
    },
    "tags": []
   },
   "outputs": [],
   "source": [
    "X_calib = siab_calib.iloc[:,4:164]\n",
    "y_calib = siab_calib.iloc[:, [3]]"
   ]
  },
  {
   "cell_type": "code",
   "execution_count": 19,
   "id": "b7ff42e0",
   "metadata": {
    "execution": {
     "iopub.execute_input": "2025-08-19T18:45:37.181107Z",
     "iopub.status.busy": "2025-08-19T18:45:37.180106Z",
     "iopub.status.idle": "2025-08-19T18:45:37.238420Z",
     "shell.execute_reply": "2025-08-19T18:45:37.237622Z"
    },
    "papermill": {
     "duration": 0.074653,
     "end_time": "2025-08-19T18:45:37.241093",
     "exception": false,
     "start_time": "2025-08-19T18:45:37.166440",
     "status": "completed"
    },
    "tags": []
   },
   "outputs": [],
   "source": [
    "X_test = siab_test.iloc[:,4:164]\n",
    "y_true = siab_test.iloc[:, [3]]"
   ]
  },
  {
   "cell_type": "code",
   "execution_count": 20,
   "id": "0275101e",
   "metadata": {
    "execution": {
     "iopub.execute_input": "2025-08-19T18:45:37.280905Z",
     "iopub.status.busy": "2025-08-19T18:45:37.279655Z",
     "iopub.status.idle": "2025-08-19T18:45:37.394667Z",
     "shell.execute_reply": "2025-08-19T18:45:37.393894Z"
    },
    "papermill": {
     "duration": 0.132155,
     "end_time": "2025-08-19T18:45:37.397675",
     "exception": false,
     "start_time": "2025-08-19T18:45:37.265520",
     "status": "completed"
    },
    "tags": []
   },
   "outputs": [],
   "source": [
    "# Auxiliary data needed downstream in the pipeline\n",
    "\n",
    "org_train = X_train.copy()\n",
    "org_test = X_test.copy()\n",
    "org_calib = X_calib.copy()"
   ]
  },
  {
   "cell_type": "markdown",
   "id": "b461e618",
   "metadata": {
    "papermill": {
     "duration": 0.011917,
     "end_time": "2025-08-19T18:45:37.432685",
     "exception": false,
     "start_time": "2025-08-19T18:45:37.420768",
     "status": "completed"
    },
    "tags": []
   },
   "source": [
    "# Preprocessing Data"
   ]
  },
  {
   "cell_type": "code",
   "execution_count": 21,
   "id": "78e74c4b",
   "metadata": {
    "execution": {
     "iopub.execute_input": "2025-08-19T18:45:37.455710Z",
     "iopub.status.busy": "2025-08-19T18:45:37.454336Z",
     "iopub.status.idle": "2025-08-19T18:45:37.463214Z",
     "shell.execute_reply": "2025-08-19T18:45:37.461958Z"
    },
    "papermill": {
     "duration": 0.021966,
     "end_time": "2025-08-19T18:45:37.464717",
     "exception": false,
     "start_time": "2025-08-19T18:45:37.442751",
     "status": "completed"
    },
    "tags": []
   },
   "outputs": [],
   "source": [
    "# EXCLUDE PROTECTED FEATURES\n",
    "# --------------------------\n",
    "\n",
    "excluded_features = universe[\"exclude_features\"].split(\"-\")\n",
    "excluded_features_dictionary = {\n",
    "    \"nationality\": [\"maxdeutsch1\", \"maxdeutsch.Missing.\"],\n",
    "    \"sex\": [\"frau1\"],\n",
    "    \"age\": [\"age\"],\n",
    "}"
   ]
  },
  {
   "cell_type": "code",
   "execution_count": 22,
   "id": "f8e63555",
   "metadata": {
    "execution": {
     "iopub.execute_input": "2025-08-19T18:45:37.490672Z",
     "iopub.status.busy": "2025-08-19T18:45:37.489384Z",
     "iopub.status.idle": "2025-08-19T18:45:37.497559Z",
     "shell.execute_reply": "2025-08-19T18:45:37.496293Z"
    },
    "papermill": {
     "duration": 0.021402,
     "end_time": "2025-08-19T18:45:37.499138",
     "exception": false,
     "start_time": "2025-08-19T18:45:37.477736",
     "status": "completed"
    },
    "tags": []
   },
   "outputs": [],
   "source": [
    "excluded_features_columns = [\n",
    "    excluded_features_dictionary[f] for f in excluded_features if len(f) > 0 and f != \"none\"\n",
    "]"
   ]
  },
  {
   "cell_type": "code",
   "execution_count": 23,
   "id": "da781f7c",
   "metadata": {
    "execution": {
     "iopub.execute_input": "2025-08-19T18:45:37.524162Z",
     "iopub.status.busy": "2025-08-19T18:45:37.522882Z",
     "iopub.status.idle": "2025-08-19T18:45:37.530634Z",
     "shell.execute_reply": "2025-08-19T18:45:37.529425Z"
    },
    "papermill": {
     "duration": 0.021012,
     "end_time": "2025-08-19T18:45:37.531911",
     "exception": false,
     "start_time": "2025-08-19T18:45:37.510899",
     "status": "completed"
    },
    "tags": []
   },
   "outputs": [],
   "source": [
    "from fairness_multiverse.universe import flatten_once\n",
    "\n",
    "excluded_features_columns = flatten_once(excluded_features_columns)"
   ]
  },
  {
   "cell_type": "code",
   "execution_count": 24,
   "id": "37fef0f0",
   "metadata": {
    "execution": {
     "iopub.execute_input": "2025-08-19T18:45:37.556854Z",
     "iopub.status.busy": "2025-08-19T18:45:37.555377Z",
     "iopub.status.idle": "2025-08-19T18:45:37.572041Z",
     "shell.execute_reply": "2025-08-19T18:45:37.571082Z"
    },
    "papermill": {
     "duration": 0.030129,
     "end_time": "2025-08-19T18:45:37.573512",
     "exception": false,
     "start_time": "2025-08-19T18:45:37.543383",
     "status": "completed"
    },
    "tags": []
   },
   "outputs": [
    {
     "name": "stdout",
     "output_type": "stream",
     "text": [
      "Dropping features: ['maxdeutsch1', 'maxdeutsch.Missing.']\n"
     ]
    }
   ],
   "source": [
    "if len(excluded_features_columns) > 0:\n",
    "    print(f\"Dropping features: {excluded_features_columns}\")\n",
    "    X_train.drop(excluded_features_columns, axis=1, inplace=True)"
   ]
  },
  {
   "cell_type": "code",
   "execution_count": 25,
   "id": "d029e3e9",
   "metadata": {
    "execution": {
     "iopub.execute_input": "2025-08-19T18:45:37.604540Z",
     "iopub.status.busy": "2025-08-19T18:45:37.603189Z",
     "iopub.status.idle": "2025-08-19T18:45:37.666791Z",
     "shell.execute_reply": "2025-08-19T18:45:37.665999Z"
    },
    "papermill": {
     "duration": 0.080364,
     "end_time": "2025-08-19T18:45:37.670215",
     "exception": false,
     "start_time": "2025-08-19T18:45:37.589851",
     "status": "completed"
    },
    "tags": []
   },
   "outputs": [
    {
     "name": "stdout",
     "output_type": "stream",
     "text": [
      "Dropping features: ['maxdeutsch1', 'maxdeutsch.Missing.']\n"
     ]
    }
   ],
   "source": [
    "if len(excluded_features_columns) > 0:\n",
    "    print(f\"Dropping features: {excluded_features_columns}\")\n",
    "    X_test.drop(excluded_features_columns, axis=1, inplace=True)"
   ]
  },
  {
   "cell_type": "code",
   "execution_count": 26,
   "id": "01d571f0",
   "metadata": {
    "execution": {
     "iopub.execute_input": "2025-08-19T18:45:37.707488Z",
     "iopub.status.busy": "2025-08-19T18:45:37.706240Z",
     "iopub.status.idle": "2025-08-19T18:45:37.761270Z",
     "shell.execute_reply": "2025-08-19T18:45:37.760563Z"
    },
    "papermill": {
     "duration": 0.071684,
     "end_time": "2025-08-19T18:45:37.764312",
     "exception": false,
     "start_time": "2025-08-19T18:45:37.692628",
     "status": "completed"
    },
    "tags": []
   },
   "outputs": [
    {
     "name": "stdout",
     "output_type": "stream",
     "text": [
      "Dropping features: ['maxdeutsch1', 'maxdeutsch.Missing.']\n"
     ]
    }
   ],
   "source": [
    "if len(excluded_features_columns) > 0:\n",
    "    print(f\"Dropping features: {excluded_features_columns}\")\n",
    "    X_calib.drop(excluded_features_columns, axis=1, inplace=True)"
   ]
  },
  {
   "cell_type": "code",
   "execution_count": 27,
   "id": "3037356e",
   "metadata": {
    "execution": {
     "iopub.execute_input": "2025-08-19T18:45:37.968591Z",
     "iopub.status.busy": "2025-08-19T18:45:37.967206Z",
     "iopub.status.idle": "2025-08-19T18:45:37.974835Z",
     "shell.execute_reply": "2025-08-19T18:45:37.973592Z"
    },
    "papermill": {
     "duration": 0.187618,
     "end_time": "2025-08-19T18:45:37.976412",
     "exception": false,
     "start_time": "2025-08-19T18:45:37.788794",
     "status": "completed"
    },
    "tags": []
   },
   "outputs": [],
   "source": [
    "# EXCLUDE CERTAIN SUBGROUPS\n",
    "# -------------------------\n",
    "\n",
    "mode = universe.get(\"exclude_subgroups\", \"keep-all\") # Defaults to \"keep-all\" if the key is missing."
   ]
  },
  {
   "cell_type": "code",
   "execution_count": 28,
   "id": "9d1e63fd",
   "metadata": {
    "execution": {
     "iopub.execute_input": "2025-08-19T18:45:38.003774Z",
     "iopub.status.busy": "2025-08-19T18:45:38.002301Z",
     "iopub.status.idle": "2025-08-19T18:45:38.012795Z",
     "shell.execute_reply": "2025-08-19T18:45:38.011487Z"
    },
    "papermill": {
     "duration": 0.025107,
     "end_time": "2025-08-19T18:45:38.014559",
     "exception": false,
     "start_time": "2025-08-19T18:45:37.989452",
     "status": "completed"
    },
    "tags": []
   },
   "outputs": [],
   "source": [
    "if mode == \"keep-all\":\n",
    "    keep_mask = pd.Series(True, index=org_train.index)\n",
    "\n",
    "elif mode == \"drop-non-german\":\n",
    "    keep_mask = (org_train[\"maxdeutsch1\"] == 1) & (org_train[\"maxdeutsch.Missing.\"] == 0)\n",
    "\n",
    "else:\n",
    "    raise ValueError(f\"Unsupported mode for exclude_subgroups: {mode}\")"
   ]
  },
  {
   "cell_type": "code",
   "execution_count": 29,
   "id": "d3b65474",
   "metadata": {
    "execution": {
     "iopub.execute_input": "2025-08-19T18:45:38.040341Z",
     "iopub.status.busy": "2025-08-19T18:45:38.039149Z",
     "iopub.status.idle": "2025-08-19T18:45:38.048894Z",
     "shell.execute_reply": "2025-08-19T18:45:38.047663Z"
    },
    "papermill": {
     "duration": 0.023464,
     "end_time": "2025-08-19T18:45:38.050345",
     "exception": false,
     "start_time": "2025-08-19T18:45:38.026881",
     "status": "completed"
    },
    "tags": []
   },
   "outputs": [],
   "source": [
    "n_drop = (~keep_mask).sum() # Calculates how many rows are set to be dropped\n",
    "if n_drop > 0:\n",
    "    pct = n_drop / len(keep_mask) * 100\n",
    "    print(f\"Dropping {n_drop} rows ({pct:.2f}%) where mode='{mode}'\")"
   ]
  },
  {
   "cell_type": "code",
   "execution_count": 30,
   "id": "f44389b3",
   "metadata": {
    "execution": {
     "iopub.execute_input": "2025-08-19T18:45:38.077198Z",
     "iopub.status.busy": "2025-08-19T18:45:38.075750Z",
     "iopub.status.idle": "2025-08-19T18:45:38.092909Z",
     "shell.execute_reply": "2025-08-19T18:45:38.091816Z"
    },
    "papermill": {
     "duration": 0.03088,
     "end_time": "2025-08-19T18:45:38.094597",
     "exception": false,
     "start_time": "2025-08-19T18:45:38.063717",
     "status": "completed"
    },
    "tags": []
   },
   "outputs": [],
   "source": [
    "X_train = X_train[keep_mask]"
   ]
  },
  {
   "cell_type": "code",
   "execution_count": 31,
   "id": "ceca8c2a",
   "metadata": {
    "execution": {
     "iopub.execute_input": "2025-08-19T18:45:38.118828Z",
     "iopub.status.busy": "2025-08-19T18:45:38.117510Z",
     "iopub.status.idle": "2025-08-19T18:45:38.126128Z",
     "shell.execute_reply": "2025-08-19T18:45:38.124914Z"
    },
    "papermill": {
     "duration": 0.022157,
     "end_time": "2025-08-19T18:45:38.127593",
     "exception": false,
     "start_time": "2025-08-19T18:45:38.105436",
     "status": "completed"
    },
    "tags": []
   },
   "outputs": [],
   "source": [
    "y_train = y_train[keep_mask]"
   ]
  },
  {
   "cell_type": "markdown",
   "id": "04d31e2f",
   "metadata": {
    "papermill": {
     "duration": 0.010787,
     "end_time": "2025-08-19T18:45:38.151075",
     "exception": false,
     "start_time": "2025-08-19T18:45:38.140288",
     "status": "completed"
    },
    "tags": []
   },
   "source": [
    "# Model Training"
   ]
  },
  {
   "cell_type": "code",
   "execution_count": 32,
   "id": "db991733",
   "metadata": {
    "execution": {
     "iopub.execute_input": "2025-08-19T18:45:38.175878Z",
     "iopub.status.busy": "2025-08-19T18:45:38.174505Z",
     "iopub.status.idle": "2025-08-19T18:45:38.286804Z",
     "shell.execute_reply": "2025-08-19T18:45:38.286048Z"
    },
    "papermill": {
     "duration": 0.128119,
     "end_time": "2025-08-19T18:45:38.289768",
     "exception": false,
     "start_time": "2025-08-19T18:45:38.161649",
     "status": "completed"
    },
    "tags": []
   },
   "outputs": [],
   "source": [
    "from sklearn.linear_model import LogisticRegression\n",
    "from sklearn.ensemble import GradientBoostingClassifier, RandomForestClassifier\n",
    "\n",
    "if (universe[\"model\"] == \"logreg\"):\n",
    "    model = LogisticRegression() #penalty=\"none\", solver=\"newton-cg\", max_iter=1)\n",
    "elif (universe[\"model\"] == \"penalized_logreg\"):\n",
    "    model = LogisticRegression(penalty=\"l2\", C=0.1) #, solver=\"newton-cg\", max_iter=1)\n",
    "elif (universe[\"model\"] == \"rf\"):\n",
    "    model = RandomForestClassifier() # n_estimators=100, n_jobs=-1\n",
    "elif (universe[\"model\"] == \"gbm\"):\n",
    "    model = GradientBoostingClassifier()\n",
    "elif (universe[\"model\"] == \"elasticnet\"):\n",
    "    model = LogisticRegression(penalty = 'elasticnet', solver = 'saga', l1_ratio = 0.5) # max_iter=5000\n",
    "else:\n",
    "    raise \"Unsupported universe.model\""
   ]
  },
  {
   "cell_type": "code",
   "execution_count": 33,
   "id": "a4b5cd25",
   "metadata": {
    "execution": {
     "iopub.execute_input": "2025-08-19T18:45:38.330865Z",
     "iopub.status.busy": "2025-08-19T18:45:38.329816Z",
     "iopub.status.idle": "2025-08-19T18:45:38.339220Z",
     "shell.execute_reply": "2025-08-19T18:45:38.337909Z"
    },
    "papermill": {
     "duration": 0.025544,
     "end_time": "2025-08-19T18:45:38.340820",
     "exception": false,
     "start_time": "2025-08-19T18:45:38.315276",
     "status": "completed"
    },
    "tags": []
   },
   "outputs": [],
   "source": [
    "from sklearn.pipeline import Pipeline\n",
    "from sklearn.preprocessing import StandardScaler\n",
    "\n",
    "model = Pipeline([\n",
    "    #(\"continuous_processor\", continuous_processor),\n",
    "    #(\"categorical_preprocessor\", categorical_preprocessor),\n",
    "    (\"scale\", StandardScaler() if universe[\"scale\"] == \"scale\" else None), \n",
    "    (\"model\", model),\n",
    "])"
   ]
  },
  {
   "cell_type": "code",
   "execution_count": 34,
   "id": "283a904d",
   "metadata": {
    "execution": {
     "iopub.execute_input": "2025-08-19T18:45:38.365423Z",
     "iopub.status.busy": "2025-08-19T18:45:38.364058Z",
     "iopub.status.idle": "2025-08-19T18:45:38.523575Z",
     "shell.execute_reply": "2025-08-19T18:45:38.522856Z"
    },
    "papermill": {
     "duration": 0.177226,
     "end_time": "2025-08-19T18:45:38.529062",
     "exception": false,
     "start_time": "2025-08-19T18:45:38.351836",
     "status": "completed"
    },
    "tags": []
   },
   "outputs": [
    {
     "name": "stderr",
     "output_type": "stream",
     "text": [
      "/dss/dsshome1/0C/ra93lal2/.local/share/virtualenvs/CMA_Fairness_v2-3j10GkSs/lib/python3.10/site-packages/sklearn/linear_model/_logistic.py:444: ConvergenceWarning: lbfgs failed to converge (status=1):\n",
      "STOP: TOTAL NO. of ITERATIONS REACHED LIMIT.\n",
      "\n",
      "Increase the number of iterations (max_iter) or scale the data as shown in:\n",
      "    https://scikit-learn.org/stable/modules/preprocessing.html\n",
      "Please also refer to the documentation for alternative solver options:\n",
      "    https://scikit-learn.org/stable/modules/linear_model.html#logistic-regression\n",
      "  n_iter_i = _check_optimize_result(\n"
     ]
    },
    {
     "data": {
      "text/html": [
       "<style>#sk-container-id-1 {color: black;background-color: white;}#sk-container-id-1 pre{padding: 0;}#sk-container-id-1 div.sk-toggleable {background-color: white;}#sk-container-id-1 label.sk-toggleable__label {cursor: pointer;display: block;width: 100%;margin-bottom: 0;padding: 0.3em;box-sizing: border-box;text-align: center;}#sk-container-id-1 label.sk-toggleable__label-arrow:before {content: \"▸\";float: left;margin-right: 0.25em;color: #696969;}#sk-container-id-1 label.sk-toggleable__label-arrow:hover:before {color: black;}#sk-container-id-1 div.sk-estimator:hover label.sk-toggleable__label-arrow:before {color: black;}#sk-container-id-1 div.sk-toggleable__content {max-height: 0;max-width: 0;overflow: hidden;text-align: left;background-color: #f0f8ff;}#sk-container-id-1 div.sk-toggleable__content pre {margin: 0.2em;color: black;border-radius: 0.25em;background-color: #f0f8ff;}#sk-container-id-1 input.sk-toggleable__control:checked~div.sk-toggleable__content {max-height: 200px;max-width: 100%;overflow: auto;}#sk-container-id-1 input.sk-toggleable__control:checked~label.sk-toggleable__label-arrow:before {content: \"▾\";}#sk-container-id-1 div.sk-estimator input.sk-toggleable__control:checked~label.sk-toggleable__label {background-color: #d4ebff;}#sk-container-id-1 div.sk-label input.sk-toggleable__control:checked~label.sk-toggleable__label {background-color: #d4ebff;}#sk-container-id-1 input.sk-hidden--visually {border: 0;clip: rect(1px 1px 1px 1px);clip: rect(1px, 1px, 1px, 1px);height: 1px;margin: -1px;overflow: hidden;padding: 0;position: absolute;width: 1px;}#sk-container-id-1 div.sk-estimator {font-family: monospace;background-color: #f0f8ff;border: 1px dotted black;border-radius: 0.25em;box-sizing: border-box;margin-bottom: 0.5em;}#sk-container-id-1 div.sk-estimator:hover {background-color: #d4ebff;}#sk-container-id-1 div.sk-parallel-item::after {content: \"\";width: 100%;border-bottom: 1px solid gray;flex-grow: 1;}#sk-container-id-1 div.sk-label:hover label.sk-toggleable__label {background-color: #d4ebff;}#sk-container-id-1 div.sk-serial::before {content: \"\";position: absolute;border-left: 1px solid gray;box-sizing: border-box;top: 0;bottom: 0;left: 50%;z-index: 0;}#sk-container-id-1 div.sk-serial {display: flex;flex-direction: column;align-items: center;background-color: white;padding-right: 0.2em;padding-left: 0.2em;position: relative;}#sk-container-id-1 div.sk-item {position: relative;z-index: 1;}#sk-container-id-1 div.sk-parallel {display: flex;align-items: stretch;justify-content: center;background-color: white;position: relative;}#sk-container-id-1 div.sk-item::before, #sk-container-id-1 div.sk-parallel-item::before {content: \"\";position: absolute;border-left: 1px solid gray;box-sizing: border-box;top: 0;bottom: 0;left: 50%;z-index: -1;}#sk-container-id-1 div.sk-parallel-item {display: flex;flex-direction: column;z-index: 1;position: relative;background-color: white;}#sk-container-id-1 div.sk-parallel-item:first-child::after {align-self: flex-end;width: 50%;}#sk-container-id-1 div.sk-parallel-item:last-child::after {align-self: flex-start;width: 50%;}#sk-container-id-1 div.sk-parallel-item:only-child::after {width: 0;}#sk-container-id-1 div.sk-dashed-wrapped {border: 1px dashed gray;margin: 0 0.4em 0.5em 0.4em;box-sizing: border-box;padding-bottom: 0.4em;background-color: white;}#sk-container-id-1 div.sk-label label {font-family: monospace;font-weight: bold;display: inline-block;line-height: 1.2em;}#sk-container-id-1 div.sk-label-container {text-align: center;}#sk-container-id-1 div.sk-container {/* jupyter's `normalize.less` sets `[hidden] { display: none; }` but bootstrap.min.css set `[hidden] { display: none !important; }` so we also need the `!important` here to be able to override the default hidden behavior on the sphinx rendered scikit-learn.org. See: https://github.com/scikit-learn/scikit-learn/issues/21755 */display: inline-block !important;position: relative;}#sk-container-id-1 div.sk-text-repr-fallback {display: none;}</style><div id=\"sk-container-id-1\" class=\"sk-top-container\"><div class=\"sk-text-repr-fallback\"><pre>Pipeline(steps=[(&#x27;scale&#x27;, None), (&#x27;model&#x27;, LogisticRegression(C=0.1))])</pre><b>In a Jupyter environment, please rerun this cell to show the HTML representation or trust the notebook. <br />On GitHub, the HTML representation is unable to render, please try loading this page with nbviewer.org.</b></div><div class=\"sk-container\" hidden><div class=\"sk-item sk-dashed-wrapped\"><div class=\"sk-label-container\"><div class=\"sk-label sk-toggleable\"><input class=\"sk-toggleable__control sk-hidden--visually\" id=\"sk-estimator-id-1\" type=\"checkbox\" ><label for=\"sk-estimator-id-1\" class=\"sk-toggleable__label sk-toggleable__label-arrow\">Pipeline</label><div class=\"sk-toggleable__content\"><pre>Pipeline(steps=[(&#x27;scale&#x27;, None), (&#x27;model&#x27;, LogisticRegression(C=0.1))])</pre></div></div></div><div class=\"sk-serial\"><div class=\"sk-item\"><div class=\"sk-estimator sk-toggleable\"><input class=\"sk-toggleable__control sk-hidden--visually\" id=\"sk-estimator-id-2\" type=\"checkbox\" ><label for=\"sk-estimator-id-2\" class=\"sk-toggleable__label sk-toggleable__label-arrow\">None</label><div class=\"sk-toggleable__content\"><pre>None</pre></div></div></div><div class=\"sk-item\"><div class=\"sk-estimator sk-toggleable\"><input class=\"sk-toggleable__control sk-hidden--visually\" id=\"sk-estimator-id-3\" type=\"checkbox\" ><label for=\"sk-estimator-id-3\" class=\"sk-toggleable__label sk-toggleable__label-arrow\">LogisticRegression</label><div class=\"sk-toggleable__content\"><pre>LogisticRegression(C=0.1)</pre></div></div></div></div></div></div></div>"
      ],
      "text/plain": [
       "Pipeline(steps=[('scale', None), ('model', LogisticRegression(C=0.1))])"
      ]
     },
     "execution_count": 34,
     "metadata": {},
     "output_type": "execute_result"
    }
   ],
   "source": [
    "model.fit(X_train, y_train.values.ravel())"
   ]
  },
  {
   "cell_type": "code",
   "execution_count": 35,
   "id": "6e15e313",
   "metadata": {
    "execution": {
     "iopub.execute_input": "2025-08-19T18:45:38.566428Z",
     "iopub.status.busy": "2025-08-19T18:45:38.565007Z",
     "iopub.status.idle": "2025-08-19T18:45:38.669495Z",
     "shell.execute_reply": "2025-08-19T18:45:38.668775Z"
    },
    "papermill": {
     "duration": 0.121587,
     "end_time": "2025-08-19T18:45:38.672754",
     "exception": false,
     "start_time": "2025-08-19T18:45:38.551167",
     "status": "completed"
    },
    "tags": []
   },
   "outputs": [
    {
     "data": {
      "text/plain": [
       "0.8631813621669825"
      ]
     },
     "execution_count": 35,
     "metadata": {},
     "output_type": "execute_result"
    }
   ],
   "source": [
    "from fairness_multiverse.universe import predict_w_threshold\n",
    "\n",
    "probs_test = model.predict_proba(X_test)\n",
    "\n",
    "'''\n",
    "Below code returns a boolean array (or binary 0/1 array depending on how it’s used) where each element \n",
    "is True if the probability of class 1 is greater than or equal to the threshold, and False otherwise.\n",
    "'''\n",
    "y_pred_default = predict_w_threshold(probs_test, 0.5)\n",
    "\n",
    "from sklearn.metrics import accuracy_score\n",
    "\n",
    "# Naive prediction\n",
    "accuracy_score(y_true = y_true, y_pred = y_pred_default)"
   ]
  },
  {
   "cell_type": "code",
   "execution_count": 36,
   "id": "6f14067c",
   "metadata": {
    "execution": {
     "iopub.execute_input": "2025-08-19T18:45:38.710301Z",
     "iopub.status.busy": "2025-08-19T18:45:38.708794Z",
     "iopub.status.idle": "2025-08-19T18:45:38.801892Z",
     "shell.execute_reply": "2025-08-19T18:45:38.801151Z"
    },
    "papermill": {
     "duration": 0.107819,
     "end_time": "2025-08-19T18:45:38.803387",
     "exception": false,
     "start_time": "2025-08-19T18:45:38.695568",
     "status": "completed"
    },
    "tags": []
   },
   "outputs": [
    {
     "data": {
      "text/plain": [
       "array([0, 0, 0, ..., 0, 0, 0])"
      ]
     },
     "execution_count": 36,
     "metadata": {},
     "output_type": "execute_result"
    }
   ],
   "source": [
    "model.predict(X_test)"
   ]
  },
  {
   "cell_type": "markdown",
   "id": "3759920c",
   "metadata": {
    "papermill": {
     "duration": 0.011737,
     "end_time": "2025-08-19T18:45:38.833239",
     "exception": false,
     "start_time": "2025-08-19T18:45:38.821502",
     "status": "completed"
    },
    "tags": []
   },
   "source": [
    "# Conformal Prediction"
   ]
  },
  {
   "cell_type": "code",
   "execution_count": 37,
   "id": "14b27f59",
   "metadata": {
    "execution": {
     "iopub.execute_input": "2025-08-19T18:45:38.859002Z",
     "iopub.status.busy": "2025-08-19T18:45:38.857708Z",
     "iopub.status.idle": "2025-08-19T18:45:38.865128Z",
     "shell.execute_reply": "2025-08-19T18:45:38.863852Z"
    },
    "papermill": {
     "duration": 0.022038,
     "end_time": "2025-08-19T18:45:38.866606",
     "exception": false,
     "start_time": "2025-08-19T18:45:38.844568",
     "status": "completed"
    },
    "tags": []
   },
   "outputs": [],
   "source": [
    "# Miscoverage level for conformal prediction (10% allowed error rate => 90% target coverage)\n",
    "alpha = 0.1"
   ]
  },
  {
   "cell_type": "code",
   "execution_count": 38,
   "id": "59102472",
   "metadata": {
    "execution": {
     "iopub.execute_input": "2025-08-19T18:45:38.895011Z",
     "iopub.status.busy": "2025-08-19T18:45:38.893607Z",
     "iopub.status.idle": "2025-08-19T18:45:38.983218Z",
     "shell.execute_reply": "2025-08-19T18:45:38.982433Z"
    },
    "papermill": {
     "duration": 0.105495,
     "end_time": "2025-08-19T18:45:38.986205",
     "exception": false,
     "start_time": "2025-08-19T18:45:38.880710",
     "status": "completed"
    },
    "tags": []
   },
   "outputs": [],
   "source": [
    "probs_calib = model.predict_proba(X_calib)"
   ]
  },
  {
   "cell_type": "code",
   "execution_count": 39,
   "id": "a792d4dd",
   "metadata": {
    "execution": {
     "iopub.execute_input": "2025-08-19T18:45:39.029725Z",
     "iopub.status.busy": "2025-08-19T18:45:39.028263Z",
     "iopub.status.idle": "2025-08-19T18:45:39.036378Z",
     "shell.execute_reply": "2025-08-19T18:45:39.035109Z"
    },
    "papermill": {
     "duration": 0.024798,
     "end_time": "2025-08-19T18:45:39.037930",
     "exception": false,
     "start_time": "2025-08-19T18:45:39.013132",
     "status": "completed"
    },
    "tags": []
   },
   "outputs": [],
   "source": [
    "y_calib = y_calib.values.ravel().astype(int)"
   ]
  },
  {
   "cell_type": "code",
   "execution_count": 40,
   "id": "650fd033",
   "metadata": {
    "execution": {
     "iopub.execute_input": "2025-08-19T18:45:39.066620Z",
     "iopub.status.busy": "2025-08-19T18:45:39.065414Z",
     "iopub.status.idle": "2025-08-19T18:45:39.076544Z",
     "shell.execute_reply": "2025-08-19T18:45:39.075493Z"
    },
    "papermill": {
     "duration": 0.025742,
     "end_time": "2025-08-19T18:45:39.078050",
     "exception": false,
     "start_time": "2025-08-19T18:45:39.052308",
     "status": "completed"
    },
    "tags": []
   },
   "outputs": [],
   "source": [
    "from fairness_multiverse.conformal import compute_nc_scores\n",
    "\n",
    "# Compute nonconformity scores on calibration set (1 - probability of true class)\n",
    "nc_scores = compute_nc_scores(probs_calib, y_calib)"
   ]
  },
  {
   "cell_type": "code",
   "execution_count": 41,
   "id": "28ada44c",
   "metadata": {
    "execution": {
     "iopub.execute_input": "2025-08-19T18:45:39.107787Z",
     "iopub.status.busy": "2025-08-19T18:45:39.106406Z",
     "iopub.status.idle": "2025-08-19T18:45:39.116205Z",
     "shell.execute_reply": "2025-08-19T18:45:39.115043Z"
    },
    "papermill": {
     "duration": 0.024407,
     "end_time": "2025-08-19T18:45:39.117627",
     "exception": false,
     "start_time": "2025-08-19T18:45:39.093220",
     "status": "completed"
    },
    "tags": []
   },
   "outputs": [],
   "source": [
    "from fairness_multiverse.conformal import find_threshold\n",
    "\n",
    "# Find conformal threshold q_hat for the given alpha (split conformal method)\n",
    "q_hat = find_threshold(nc_scores, alpha)"
   ]
  },
  {
   "cell_type": "code",
   "execution_count": 42,
   "id": "df56469e",
   "metadata": {
    "execution": {
     "iopub.execute_input": "2025-08-19T18:45:39.146486Z",
     "iopub.status.busy": "2025-08-19T18:45:39.144993Z",
     "iopub.status.idle": "2025-08-19T18:45:39.155027Z",
     "shell.execute_reply": "2025-08-19T18:45:39.153846Z"
    },
    "papermill": {
     "duration": 0.025089,
     "end_time": "2025-08-19T18:45:39.156785",
     "exception": false,
     "start_time": "2025-08-19T18:45:39.131696",
     "status": "completed"
    },
    "tags": []
   },
   "outputs": [
    {
     "data": {
      "text/plain": [
       "0.684316319458523"
      ]
     },
     "execution_count": 42,
     "metadata": {},
     "output_type": "execute_result"
    }
   ],
   "source": [
    "q_hat"
   ]
  },
  {
   "cell_type": "code",
   "execution_count": 43,
   "id": "aa1f5faa",
   "metadata": {
    "execution": {
     "iopub.execute_input": "2025-08-19T18:45:39.183461Z",
     "iopub.status.busy": "2025-08-19T18:45:39.182224Z",
     "iopub.status.idle": "2025-08-19T18:45:39.707836Z",
     "shell.execute_reply": "2025-08-19T18:45:39.707035Z"
    },
    "papermill": {
     "duration": 0.541471,
     "end_time": "2025-08-19T18:45:39.710836",
     "exception": false,
     "start_time": "2025-08-19T18:45:39.169365",
     "status": "completed"
    },
    "tags": []
   },
   "outputs": [],
   "source": [
    "from fairness_multiverse.conformal import predict_conformal_sets\n",
    "\n",
    "# Generate prediction sets for each test example\n",
    "pred_sets = predict_conformal_sets(model, X_test, q_hat)"
   ]
  },
  {
   "cell_type": "code",
   "execution_count": 44,
   "id": "97f67a6b",
   "metadata": {
    "execution": {
     "iopub.execute_input": "2025-08-19T18:45:39.751309Z",
     "iopub.status.busy": "2025-08-19T18:45:39.750060Z",
     "iopub.status.idle": "2025-08-19T18:45:39.758040Z",
     "shell.execute_reply": "2025-08-19T18:45:39.756803Z"
    },
    "papermill": {
     "duration": 0.023879,
     "end_time": "2025-08-19T18:45:39.759713",
     "exception": false,
     "start_time": "2025-08-19T18:45:39.735834",
     "status": "completed"
    },
    "tags": []
   },
   "outputs": [],
   "source": [
    "y_true = y_true.squeeze()"
   ]
  },
  {
   "cell_type": "code",
   "execution_count": 45,
   "id": "e700e9a7",
   "metadata": {
    "execution": {
     "iopub.execute_input": "2025-08-19T18:45:39.788243Z",
     "iopub.status.busy": "2025-08-19T18:45:39.786480Z",
     "iopub.status.idle": "2025-08-19T18:45:40.279549Z",
     "shell.execute_reply": "2025-08-19T18:45:40.278757Z"
    },
    "papermill": {
     "duration": 0.50768,
     "end_time": "2025-08-19T18:45:40.281123",
     "exception": false,
     "start_time": "2025-08-19T18:45:39.773443",
     "status": "completed"
    },
    "tags": []
   },
   "outputs": [],
   "source": [
    "from fairness_multiverse.conformal import evaluate_sets\n",
    "\n",
    "# Evaluate coverage and average set size on test data\n",
    "metrics = evaluate_sets(pred_sets, y_true)"
   ]
  },
  {
   "cell_type": "markdown",
   "id": "efbacec0",
   "metadata": {
    "papermill": {
     "duration": 0.012017,
     "end_time": "2025-08-19T18:45:40.305410",
     "exception": false,
     "start_time": "2025-08-19T18:45:40.293393",
     "status": "completed"
    },
    "tags": []
   },
   "source": [
    "# CP Metrics"
   ]
  },
  {
   "cell_type": "code",
   "execution_count": 46,
   "id": "9de55fb1",
   "metadata": {
    "execution": {
     "iopub.execute_input": "2025-08-19T18:45:40.330884Z",
     "iopub.status.busy": "2025-08-19T18:45:40.330389Z",
     "iopub.status.idle": "2025-08-19T18:45:40.336282Z",
     "shell.execute_reply": "2025-08-19T18:45:40.335587Z"
    },
    "papermill": {
     "duration": 0.02174,
     "end_time": "2025-08-19T18:45:40.339096",
     "exception": false,
     "start_time": "2025-08-19T18:45:40.317356",
     "status": "completed"
    },
    "tags": []
   },
   "outputs": [
    {
     "data": {
      "text/plain": [
       "{'coverage': 0.9122171441310891, 'avg_size': 1.2151376658120612}"
      ]
     },
     "execution_count": 46,
     "metadata": {},
     "output_type": "execute_result"
    }
   ],
   "source": [
    "metrics"
   ]
  },
  {
   "cell_type": "code",
   "execution_count": 47,
   "id": "64c340a1",
   "metadata": {
    "execution": {
     "iopub.execute_input": "2025-08-19T18:45:40.381389Z",
     "iopub.status.busy": "2025-08-19T18:45:40.380873Z",
     "iopub.status.idle": "2025-08-19T18:45:40.387105Z",
     "shell.execute_reply": "2025-08-19T18:45:40.386380Z"
    },
    "papermill": {
     "duration": 0.023418,
     "end_time": "2025-08-19T18:45:40.389701",
     "exception": false,
     "start_time": "2025-08-19T18:45:40.366283",
     "status": "completed"
    },
    "tags": []
   },
   "outputs": [],
   "source": [
    "example_universe = universe.copy()\n",
    "universe_training_year = example_universe.get(\"training_year\")\n",
    "universe_training_size = example_universe.get(\"training_size\")\n",
    "universe_scale = example_universe.get(\"scale\")\n",
    "universe_model = example_universe.get(\"model\")\n",
    "universe_exclude_features = example_universe.get(\"exclude_features\")\n",
    "universe_exclude_subgroups = example_universe.get(\"exclude_subgroups\")"
   ]
  },
  {
   "cell_type": "code",
   "execution_count": 48,
   "id": "dbb53cb4",
   "metadata": {
    "execution": {
     "iopub.execute_input": "2025-08-19T18:45:40.427589Z",
     "iopub.status.busy": "2025-08-19T18:45:40.427088Z",
     "iopub.status.idle": "2025-08-19T18:45:40.432386Z",
     "shell.execute_reply": "2025-08-19T18:45:40.431682Z"
    },
    "papermill": {
     "duration": 0.020072,
     "end_time": "2025-08-19T18:45:40.433606",
     "exception": false,
     "start_time": "2025-08-19T18:45:40.413534",
     "status": "completed"
    },
    "tags": []
   },
   "outputs": [],
   "source": [
    "cp_metrics_dict = {\n",
    "    \"universe_id\": [universe_id],\n",
    "    \"universe_training_year\": [universe_training_year],\n",
    "    \"universe_training_size\": [universe_training_size],\n",
    "    \"universe_scale\": [universe_scale],\n",
    "    \"universe_model\": [universe_model],\n",
    "    \"universe_exclude_features\": [universe_exclude_features],\n",
    "    \"universe_exclude_subgroups\": [universe_exclude_subgroups],\n",
    "    \"q_hat\": [q_hat],\n",
    "    \"coverage\": [metrics[\"coverage\"]],\n",
    "    \"avg_size\": [metrics[\"avg_size\"]],\n",
    "}"
   ]
  },
  {
   "cell_type": "code",
   "execution_count": 49,
   "id": "0d70d4b2",
   "metadata": {
    "execution": {
     "iopub.execute_input": "2025-08-19T18:45:40.459500Z",
     "iopub.status.busy": "2025-08-19T18:45:40.459030Z",
     "iopub.status.idle": "2025-08-19T18:45:40.464310Z",
     "shell.execute_reply": "2025-08-19T18:45:40.463607Z"
    },
    "papermill": {
     "duration": 0.019256,
     "end_time": "2025-08-19T18:45:40.465615",
     "exception": false,
     "start_time": "2025-08-19T18:45:40.446359",
     "status": "completed"
    },
    "tags": []
   },
   "outputs": [],
   "source": [
    "cp_metrics_df = pd.DataFrame(cp_metrics_dict)"
   ]
  },
  {
   "cell_type": "code",
   "execution_count": 50,
   "id": "b494403c",
   "metadata": {
    "execution": {
     "iopub.execute_input": "2025-08-19T18:45:40.491898Z",
     "iopub.status.busy": "2025-08-19T18:45:40.491414Z",
     "iopub.status.idle": "2025-08-19T18:45:40.503617Z",
     "shell.execute_reply": "2025-08-19T18:45:40.502870Z"
    },
    "papermill": {
     "duration": 0.026497,
     "end_time": "2025-08-19T18:45:40.504794",
     "exception": false,
     "start_time": "2025-08-19T18:45:40.478297",
     "status": "completed"
    },
    "tags": []
   },
   "outputs": [
    {
     "data": {
      "text/html": [
       "<div>\n",
       "<style scoped>\n",
       "    .dataframe tbody tr th:only-of-type {\n",
       "        vertical-align: middle;\n",
       "    }\n",
       "\n",
       "    .dataframe tbody tr th {\n",
       "        vertical-align: top;\n",
       "    }\n",
       "\n",
       "    .dataframe thead th {\n",
       "        text-align: right;\n",
       "    }\n",
       "</style>\n",
       "<table border=\"1\" class=\"dataframe\">\n",
       "  <thead>\n",
       "    <tr style=\"text-align: right;\">\n",
       "      <th></th>\n",
       "      <th>universe_id</th>\n",
       "      <th>universe_training_year</th>\n",
       "      <th>universe_training_size</th>\n",
       "      <th>universe_scale</th>\n",
       "      <th>universe_model</th>\n",
       "      <th>universe_exclude_features</th>\n",
       "      <th>universe_exclude_subgroups</th>\n",
       "      <th>q_hat</th>\n",
       "      <th>coverage</th>\n",
       "      <th>avg_size</th>\n",
       "    </tr>\n",
       "  </thead>\n",
       "  <tbody>\n",
       "    <tr>\n",
       "      <th>0</th>\n",
       "      <td>459c4f54fcb65a7a1bbb90d958ca9788</td>\n",
       "      <td>2010_14</td>\n",
       "      <td>5k</td>\n",
       "      <td>do-not-scale</td>\n",
       "      <td>penalized_logreg</td>\n",
       "      <td>nationality</td>\n",
       "      <td>keep-all</td>\n",
       "      <td>0.684316</td>\n",
       "      <td>0.912217</td>\n",
       "      <td>1.215138</td>\n",
       "    </tr>\n",
       "  </tbody>\n",
       "</table>\n",
       "</div>"
      ],
      "text/plain": [
       "                        universe_id universe_training_year  \\\n",
       "0  459c4f54fcb65a7a1bbb90d958ca9788                2010_14   \n",
       "\n",
       "  universe_training_size universe_scale    universe_model  \\\n",
       "0                     5k   do-not-scale  penalized_logreg   \n",
       "\n",
       "  universe_exclude_features universe_exclude_subgroups     q_hat  coverage  \\\n",
       "0               nationality                   keep-all  0.684316  0.912217   \n",
       "\n",
       "   avg_size  \n",
       "0  1.215138  "
      ]
     },
     "execution_count": 50,
     "metadata": {},
     "output_type": "execute_result"
    }
   ],
   "source": [
    "cp_metrics_df"
   ]
  },
  {
   "cell_type": "markdown",
   "id": "ed608b0b",
   "metadata": {
    "papermill": {
     "duration": 0.011945,
     "end_time": "2025-08-19T18:45:40.531784",
     "exception": false,
     "start_time": "2025-08-19T18:45:40.519839",
     "status": "completed"
    },
    "tags": []
   },
   "source": [
    "Conditional coverage & looking at subgroups"
   ]
  },
  {
   "cell_type": "code",
   "execution_count": 51,
   "id": "8968c366",
   "metadata": {
    "execution": {
     "iopub.execute_input": "2025-08-19T18:45:40.558857Z",
     "iopub.status.busy": "2025-08-19T18:45:40.557359Z",
     "iopub.status.idle": "2025-08-19T18:45:40.795948Z",
     "shell.execute_reply": "2025-08-19T18:45:40.795166Z"
    },
    "papermill": {
     "duration": 0.255392,
     "end_time": "2025-08-19T18:45:40.799021",
     "exception": false,
     "start_time": "2025-08-19T18:45:40.543629",
     "status": "completed"
    },
    "tags": []
   },
   "outputs": [],
   "source": [
    "from fairness_multiverse.conformal import build_cp_groups\n",
    "\n",
    "cp_groups_df = build_cp_groups(pred_sets, y_true, X_test.index, org_test)"
   ]
  },
  {
   "cell_type": "code",
   "execution_count": 52,
   "id": "292ddabf",
   "metadata": {
    "execution": {
     "iopub.execute_input": "2025-08-19T18:45:40.842704Z",
     "iopub.status.busy": "2025-08-19T18:45:40.841277Z",
     "iopub.status.idle": "2025-08-19T18:45:41.717047Z",
     "shell.execute_reply": "2025-08-19T18:45:41.716244Z"
    },
    "papermill": {
     "duration": 0.894307,
     "end_time": "2025-08-19T18:45:41.720033",
     "exception": false,
     "start_time": "2025-08-19T18:45:40.825726",
     "status": "completed"
    },
    "tags": []
   },
   "outputs": [],
   "source": [
    "# Define covered = 1 if true_label is in the predicted set\n",
    "cp_groups_df['covered'] = cp_groups_df.apply(\n",
    "    lambda r: int(r['true_label'] in r['pred_set']),\n",
    "    axis=1\n",
    ")"
   ]
  },
  {
   "cell_type": "code",
   "execution_count": 53,
   "id": "3a261692",
   "metadata": {
    "execution": {
     "iopub.execute_input": "2025-08-19T18:45:41.802230Z",
     "iopub.status.busy": "2025-08-19T18:45:41.801606Z",
     "iopub.status.idle": "2025-08-19T18:45:41.812773Z",
     "shell.execute_reply": "2025-08-19T18:45:41.812010Z"
    },
    "papermill": {
     "duration": 0.063999,
     "end_time": "2025-08-19T18:45:41.816644",
     "exception": false,
     "start_time": "2025-08-19T18:45:41.752645",
     "status": "completed"
    },
    "tags": []
   },
   "outputs": [],
   "source": [
    "subgroups = ['frau1','nongerman','nongerman_male','nongerman_female']\n",
    "\n",
    "# Conditional coverage for subgroup==1\n",
    "cond_coverage = {\n",
    "    g: cp_groups_df.loc[cp_groups_df[g]==1, 'covered'].mean()\n",
    "    for g in subgroups\n",
    "}"
   ]
  },
  {
   "cell_type": "code",
   "execution_count": 54,
   "id": "894fd600",
   "metadata": {
    "execution": {
     "iopub.execute_input": "2025-08-19T18:45:41.855296Z",
     "iopub.status.busy": "2025-08-19T18:45:41.853795Z",
     "iopub.status.idle": "2025-08-19T18:45:41.864454Z",
     "shell.execute_reply": "2025-08-19T18:45:41.863247Z"
    },
    "papermill": {
     "duration": 0.028284,
     "end_time": "2025-08-19T18:45:41.868109",
     "exception": false,
     "start_time": "2025-08-19T18:45:41.839825",
     "status": "completed"
    },
    "tags": []
   },
   "outputs": [
    {
     "data": {
      "text/plain": [
       "{'frau1': 0.9119557891899178,\n",
       " 'nongerman': 0.9389210127435019,\n",
       " 'nongerman_male': 0.9493830496262271,\n",
       " 'nongerman_female': 0.9216095380029806}"
      ]
     },
     "execution_count": 54,
     "metadata": {},
     "output_type": "execute_result"
    }
   ],
   "source": [
    "cond_coverage"
   ]
  },
  {
   "cell_type": "code",
   "execution_count": 55,
   "id": "942895c7",
   "metadata": {
    "execution": {
     "iopub.execute_input": "2025-08-19T18:45:41.897239Z",
     "iopub.status.busy": "2025-08-19T18:45:41.895771Z",
     "iopub.status.idle": "2025-08-19T18:45:41.907054Z",
     "shell.execute_reply": "2025-08-19T18:45:41.905811Z"
    },
    "papermill": {
     "duration": 0.026801,
     "end_time": "2025-08-19T18:45:41.908566",
     "exception": false,
     "start_time": "2025-08-19T18:45:41.881765",
     "status": "completed"
    },
    "tags": []
   },
   "outputs": [],
   "source": [
    "for subgroup, cov in cond_coverage.items():\n",
    "    cp_metrics_df[f\"cov_{subgroup}\"] = cov"
   ]
  },
  {
   "cell_type": "code",
   "execution_count": 56,
   "id": "3970120f",
   "metadata": {
    "execution": {
     "iopub.execute_input": "2025-08-19T18:45:41.940259Z",
     "iopub.status.busy": "2025-08-19T18:45:41.938737Z",
     "iopub.status.idle": "2025-08-19T18:45:41.978817Z",
     "shell.execute_reply": "2025-08-19T18:45:41.978064Z"
    },
    "papermill": {
     "duration": 0.058162,
     "end_time": "2025-08-19T18:45:41.983041",
     "exception": false,
     "start_time": "2025-08-19T18:45:41.924879",
     "status": "completed"
    },
    "tags": []
   },
   "outputs": [
    {
     "data": {
      "text/html": [
       "<div>\n",
       "<style scoped>\n",
       "    .dataframe tbody tr th:only-of-type {\n",
       "        vertical-align: middle;\n",
       "    }\n",
       "\n",
       "    .dataframe tbody tr th {\n",
       "        vertical-align: top;\n",
       "    }\n",
       "\n",
       "    .dataframe thead th {\n",
       "        text-align: right;\n",
       "    }\n",
       "</style>\n",
       "<table border=\"1\" class=\"dataframe\">\n",
       "  <thead>\n",
       "    <tr style=\"text-align: right;\">\n",
       "      <th></th>\n",
       "      <th>universe_id</th>\n",
       "      <th>universe_training_year</th>\n",
       "      <th>universe_training_size</th>\n",
       "      <th>universe_scale</th>\n",
       "      <th>universe_model</th>\n",
       "      <th>universe_exclude_features</th>\n",
       "      <th>universe_exclude_subgroups</th>\n",
       "      <th>q_hat</th>\n",
       "      <th>coverage</th>\n",
       "      <th>avg_size</th>\n",
       "      <th>cov_frau1</th>\n",
       "      <th>cov_nongerman</th>\n",
       "      <th>cov_nongerman_male</th>\n",
       "      <th>cov_nongerman_female</th>\n",
       "    </tr>\n",
       "  </thead>\n",
       "  <tbody>\n",
       "    <tr>\n",
       "      <th>0</th>\n",
       "      <td>459c4f54fcb65a7a1bbb90d958ca9788</td>\n",
       "      <td>2010_14</td>\n",
       "      <td>5k</td>\n",
       "      <td>do-not-scale</td>\n",
       "      <td>penalized_logreg</td>\n",
       "      <td>nationality</td>\n",
       "      <td>keep-all</td>\n",
       "      <td>0.684316</td>\n",
       "      <td>0.912217</td>\n",
       "      <td>1.215138</td>\n",
       "      <td>0.911956</td>\n",
       "      <td>0.938921</td>\n",
       "      <td>0.949383</td>\n",
       "      <td>0.92161</td>\n",
       "    </tr>\n",
       "  </tbody>\n",
       "</table>\n",
       "</div>"
      ],
      "text/plain": [
       "                        universe_id universe_training_year  \\\n",
       "0  459c4f54fcb65a7a1bbb90d958ca9788                2010_14   \n",
       "\n",
       "  universe_training_size universe_scale    universe_model  \\\n",
       "0                     5k   do-not-scale  penalized_logreg   \n",
       "\n",
       "  universe_exclude_features universe_exclude_subgroups     q_hat  coverage  \\\n",
       "0               nationality                   keep-all  0.684316  0.912217   \n",
       "\n",
       "   avg_size  cov_frau1  cov_nongerman  cov_nongerman_male  \\\n",
       "0  1.215138   0.911956       0.938921            0.949383   \n",
       "\n",
       "   cov_nongerman_female  \n",
       "0               0.92161  "
      ]
     },
     "execution_count": 56,
     "metadata": {},
     "output_type": "execute_result"
    }
   ],
   "source": [
    "cp_metrics_df"
   ]
  },
  {
   "cell_type": "markdown",
   "id": "3fc519cc",
   "metadata": {
    "papermill": {
     "duration": 0.012828,
     "end_time": "2025-08-19T18:45:42.017483",
     "exception": false,
     "start_time": "2025-08-19T18:45:42.004655",
     "status": "completed"
    },
    "tags": []
   },
   "source": [
    "# (Fairness) Metrics"
   ]
  },
  {
   "cell_type": "code",
   "execution_count": 57,
   "id": "a2e5e155",
   "metadata": {
    "execution": {
     "iopub.execute_input": "2025-08-19T18:45:42.045862Z",
     "iopub.status.busy": "2025-08-19T18:45:42.044602Z",
     "iopub.status.idle": "2025-08-19T18:45:42.072302Z",
     "shell.execute_reply": "2025-08-19T18:45:42.071359Z"
    },
    "papermill": {
     "duration": 0.044387,
     "end_time": "2025-08-19T18:45:42.074844",
     "exception": false,
     "start_time": "2025-08-19T18:45:42.030457",
     "status": "completed"
    },
    "tags": []
   },
   "outputs": [],
   "source": [
    "colname_to_bin = \"maxdeutsch1\"\n",
    "majority_value = org_train[colname_to_bin].mode()[0]\n",
    "\n",
    "org_test[\"majmin\"] = np.where(org_test[colname_to_bin] == majority_value, \"majority\", \"minority\")"
   ]
  },
  {
   "cell_type": "code",
   "execution_count": 58,
   "id": "17e3e4d5",
   "metadata": {
    "execution": {
     "iopub.execute_input": "2025-08-19T18:45:42.117356Z",
     "iopub.status.busy": "2025-08-19T18:45:42.114249Z",
     "iopub.status.idle": "2025-08-19T18:45:43.877154Z",
     "shell.execute_reply": "2025-08-19T18:45:43.876259Z"
    },
    "papermill": {
     "duration": 1.780225,
     "end_time": "2025-08-19T18:45:43.878804",
     "exception": false,
     "start_time": "2025-08-19T18:45:42.098579",
     "status": "completed"
    },
    "tags": []
   },
   "outputs": [],
   "source": [
    "example_universe = universe.copy()\n",
    "example_universe[\"cutoff\"] = example_universe[\"cutoff\"][0]\n",
    "example_universe[\"eval_fairness_grouping\"] = example_universe[\"eval_fairness_grouping\"][0]\n",
    "fairness_dict, metric_frame = universe_analysis.compute_metrics(\n",
    "    example_universe,\n",
    "    y_pred_prob=probs_test,\n",
    "    y_test=y_true,\n",
    "    org_test=org_test,\n",
    ")"
   ]
  },
  {
   "cell_type": "markdown",
   "id": "1fb7a0e9",
   "metadata": {
    "papermill": {
     "duration": 0.02635,
     "end_time": "2025-08-19T18:45:43.927000",
     "exception": false,
     "start_time": "2025-08-19T18:45:43.900650",
     "status": "completed"
    },
    "tags": []
   },
   "source": [
    "# Overall"
   ]
  },
  {
   "cell_type": "markdown",
   "id": "be1784b1",
   "metadata": {
    "papermill": {
     "duration": 0.012623,
     "end_time": "2025-08-19T18:45:43.953443",
     "exception": false,
     "start_time": "2025-08-19T18:45:43.940820",
     "status": "completed"
    },
    "tags": []
   },
   "source": [
    "Main fairness target: Equalized Odds. Seems to be a better fit than equal opportunity, since we're not only interested in Y = 1. Seems to be a better fit than demographic parity, since we also care about accuracy, not just equal distribution of preds.\n",
    "\n",
    "Pick column for computation of fairness metrics\n",
    "\n",
    "Performance\n",
    "Overall performance measures, most interesting in relation to the measures split by group below"
   ]
  },
  {
   "cell_type": "code",
   "execution_count": 59,
   "id": "b7672bee",
   "metadata": {
    "execution": {
     "iopub.execute_input": "2025-08-19T18:45:43.984651Z",
     "iopub.status.busy": "2025-08-19T18:45:43.983183Z",
     "iopub.status.idle": "2025-08-19T18:45:43.996565Z",
     "shell.execute_reply": "2025-08-19T18:45:43.994935Z"
    },
    "papermill": {
     "duration": 0.032667,
     "end_time": "2025-08-19T18:45:43.998363",
     "exception": false,
     "start_time": "2025-08-19T18:45:43.965696",
     "status": "completed"
    },
    "tags": []
   },
   "outputs": [
    {
     "data": {
      "text/plain": [
       "accuracy                   0.217668\n",
       "balanced accuracy          0.533633\n",
       "f1                         0.239184\n",
       "precision                  0.136638\n",
       "false positive rate        0.891371\n",
       "false negative rate        0.041363\n",
       "selection rate             0.900000\n",
       "count                  89710.000000\n",
       "dtype: float64"
      ]
     },
     "execution_count": 59,
     "metadata": {},
     "output_type": "execute_result"
    }
   ],
   "source": [
    "metric_frame.overall"
   ]
  },
  {
   "cell_type": "markdown",
   "id": "d93333c9",
   "metadata": {
    "papermill": {
     "duration": 0.017927,
     "end_time": "2025-08-19T18:45:44.034295",
     "exception": false,
     "start_time": "2025-08-19T18:45:44.016368",
     "status": "completed"
    },
    "tags": []
   },
   "source": [
    "By Group"
   ]
  },
  {
   "cell_type": "code",
   "execution_count": 60,
   "id": "52256966",
   "metadata": {
    "execution": {
     "iopub.execute_input": "2025-08-19T18:45:44.078606Z",
     "iopub.status.busy": "2025-08-19T18:45:44.077335Z",
     "iopub.status.idle": "2025-08-19T18:45:44.102977Z",
     "shell.execute_reply": "2025-08-19T18:45:44.101985Z"
    },
    "papermill": {
     "duration": 0.058222,
     "end_time": "2025-08-19T18:45:44.104953",
     "exception": false,
     "start_time": "2025-08-19T18:45:44.046731",
     "status": "completed"
    },
    "tags": []
   },
   "outputs": [
    {
     "data": {
      "text/html": [
       "<div>\n",
       "<style scoped>\n",
       "    .dataframe tbody tr th:only-of-type {\n",
       "        vertical-align: middle;\n",
       "    }\n",
       "\n",
       "    .dataframe tbody tr th {\n",
       "        vertical-align: top;\n",
       "    }\n",
       "\n",
       "    .dataframe thead th {\n",
       "        text-align: right;\n",
       "    }\n",
       "</style>\n",
       "<table border=\"1\" class=\"dataframe\">\n",
       "  <thead>\n",
       "    <tr style=\"text-align: right;\">\n",
       "      <th></th>\n",
       "      <th>accuracy</th>\n",
       "      <th>balanced accuracy</th>\n",
       "      <th>f1</th>\n",
       "      <th>precision</th>\n",
       "      <th>false positive rate</th>\n",
       "      <th>false negative rate</th>\n",
       "      <th>selection rate</th>\n",
       "      <th>count</th>\n",
       "    </tr>\n",
       "    <tr>\n",
       "      <th>majmin</th>\n",
       "      <th></th>\n",
       "      <th></th>\n",
       "      <th></th>\n",
       "      <th></th>\n",
       "      <th></th>\n",
       "      <th></th>\n",
       "      <th></th>\n",
       "      <th></th>\n",
       "    </tr>\n",
       "  </thead>\n",
       "  <tbody>\n",
       "    <tr>\n",
       "      <th>majority</th>\n",
       "      <td>0.239555</td>\n",
       "      <td>0.541341</td>\n",
       "      <td>0.248507</td>\n",
       "      <td>0.142916</td>\n",
       "      <td>0.868849</td>\n",
       "      <td>0.048468</td>\n",
       "      <td>0.879774</td>\n",
       "      <td>69170.0</td>\n",
       "    </tr>\n",
       "    <tr>\n",
       "      <th>minority</th>\n",
       "      <td>0.143963</td>\n",
       "      <td>0.510146</td>\n",
       "      <td>0.209859</td>\n",
       "      <td>0.117425</td>\n",
       "      <td>0.965772</td>\n",
       "      <td>0.013936</td>\n",
       "      <td>0.968111</td>\n",
       "      <td>20540.0</td>\n",
       "    </tr>\n",
       "  </tbody>\n",
       "</table>\n",
       "</div>"
      ],
      "text/plain": [
       "          accuracy  balanced accuracy        f1  precision  \\\n",
       "majmin                                                       \n",
       "majority  0.239555           0.541341  0.248507   0.142916   \n",
       "minority  0.143963           0.510146  0.209859   0.117425   \n",
       "\n",
       "          false positive rate  false negative rate  selection rate    count  \n",
       "majmin                                                                       \n",
       "majority             0.868849             0.048468        0.879774  69170.0  \n",
       "minority             0.965772             0.013936        0.968111  20540.0  "
      ]
     },
     "execution_count": 60,
     "metadata": {},
     "output_type": "execute_result"
    }
   ],
   "source": [
    "metric_frame.by_group"
   ]
  },
  {
   "cell_type": "code",
   "execution_count": 61,
   "id": "6e6c20ae",
   "metadata": {
    "execution": {
     "iopub.execute_input": "2025-08-19T18:45:44.143804Z",
     "iopub.status.busy": "2025-08-19T18:45:44.142477Z",
     "iopub.status.idle": "2025-08-19T18:45:46.069382Z",
     "shell.execute_reply": "2025-08-19T18:45:46.068395Z"
    },
    "papermill": {
     "duration": 1.943139,
     "end_time": "2025-08-19T18:45:46.070666",
     "exception": false,
     "start_time": "2025-08-19T18:45:44.127527",
     "status": "completed"
    },
    "tags": []
   },
   "outputs": [
    {
     "data": {
      "text/plain": [
       "array([[<Axes: title={'center': 'accuracy'}, xlabel='majmin'>,\n",
       "        <Axes: title={'center': 'balanced accuracy'}, xlabel='majmin'>,\n",
       "        <Axes: title={'center': 'f1'}, xlabel='majmin'>],\n",
       "       [<Axes: title={'center': 'precision'}, xlabel='majmin'>,\n",
       "        <Axes: title={'center': 'false positive rate'}, xlabel='majmin'>,\n",
       "        <Axes: title={'center': 'false negative rate'}, xlabel='majmin'>],\n",
       "       [<Axes: title={'center': 'selection rate'}, xlabel='majmin'>,\n",
       "        <Axes: title={'center': 'count'}, xlabel='majmin'>,\n",
       "        <Axes: xlabel='majmin'>]], dtype=object)"
      ]
     },
     "execution_count": 61,
     "metadata": {},
     "output_type": "execute_result"
    },
    {
     "data": {
      "image/png": "[encoded data removed]",
      "text/plain": [
       "<Figure size 1200x800 with 9 Axes>"
      ]
     },
     "metadata": {},
     "output_type": "display_data"
    }
   ],
   "source": [
    "# In a graphic\n",
    "metric_frame.by_group.plot.bar(\n",
    "    subplots=True,\n",
    "    layout=[3, 3],\n",
    "    legend=False,\n",
    "    figsize=[12, 8],\n",
    "    title=\"Show all metrics\",\n",
    ")"
   ]
  },
  {
   "cell_type": "markdown",
   "id": "b2e433ae",
   "metadata": {
    "papermill": {
     "duration": 0.016764,
     "end_time": "2025-08-19T18:45:46.125513",
     "exception": false,
     "start_time": "2025-08-19T18:45:46.108749",
     "status": "completed"
    },
    "tags": []
   },
   "source": [
    "# Final Output"
   ]
  },
  {
   "cell_type": "code",
   "execution_count": 62,
   "id": "3871301e",
   "metadata": {
    "execution": {
     "iopub.execute_input": "2025-08-19T18:45:46.183650Z",
     "iopub.status.busy": "2025-08-19T18:45:46.182566Z",
     "iopub.status.idle": "2025-08-19T18:45:46.192892Z",
     "shell.execute_reply": "2025-08-19T18:45:46.191741Z"
    },
    "papermill": {
     "duration": 0.044394,
     "end_time": "2025-08-19T18:45:46.198475",
     "exception": false,
     "start_time": "2025-08-19T18:45:46.154081",
     "status": "completed"
    },
    "tags": []
   },
   "outputs": [
    {
     "data": {
      "text/plain": [
       "4"
      ]
     },
     "execution_count": 62,
     "metadata": {},
     "output_type": "execute_result"
    }
   ],
   "source": [
    "sub_universes = universe_analysis.generate_sub_universes()\n",
    "len(sub_universes)"
   ]
  },
  {
   "cell_type": "code",
   "execution_count": 63,
   "id": "d9cfdaca",
   "metadata": {
    "execution": {
     "iopub.execute_input": "2025-08-19T18:45:46.233916Z",
     "iopub.status.busy": "2025-08-19T18:45:46.230663Z",
     "iopub.status.idle": "2025-08-19T18:45:46.243609Z",
     "shell.execute_reply": "2025-08-19T18:45:46.242499Z"
    },
    "papermill": {
     "duration": 0.032152,
     "end_time": "2025-08-19T18:45:46.245468",
     "exception": false,
     "start_time": "2025-08-19T18:45:46.213316",
     "status": "completed"
    },
    "tags": []
   },
   "outputs": [],
   "source": [
    "def filter_sub_universe_data(sub_universe, org_test):\n",
    "    # Keep all rows — no filtering\n",
    "    keep_rows_mask = np.ones(org_test.shape[0], dtype=bool)\n",
    "\n",
    "    print(f\"[INFO] Keeping all rows: {keep_rows_mask.sum()} rows retained.\")\n",
    "    return keep_rows_mask"
   ]
  },
  {
   "cell_type": "code",
   "execution_count": 64,
   "id": "2bc31ac1",
   "metadata": {
    "execution": {
     "iopub.execute_input": "2025-08-19T18:45:46.278792Z",
     "iopub.status.busy": "2025-08-19T18:45:46.278257Z",
     "iopub.status.idle": "2025-08-19T18:45:52.982918Z",
     "shell.execute_reply": "2025-08-19T18:45:52.981985Z"
    },
    "papermill": {
     "duration": 6.724299,
     "end_time": "2025-08-19T18:45:52.986539",
     "exception": false,
     "start_time": "2025-08-19T18:45:46.262240",
     "status": "completed"
    },
    "tags": []
   },
   "outputs": [
    {
     "name": "stdout",
     "output_type": "stream",
     "text": [
      "Stopping execution_time clock.\n",
      "[INFO] Keeping all rows: 89710 rows retained.\n"
     ]
    },
    {
     "name": "stdout",
     "output_type": "stream",
     "text": [
      "[INFO] Keeping all rows: 89710 rows retained.\n"
     ]
    },
    {
     "name": "stdout",
     "output_type": "stream",
     "text": [
      "[INFO] Keeping all rows: 89710 rows retained.\n"
     ]
    },
    {
     "name": "stdout",
     "output_type": "stream",
     "text": [
      "[INFO] Keeping all rows: 89710 rows retained.\n"
     ]
    },
    {
     "data": {
      "text/html": [
       "<div>\n",
       "<style scoped>\n",
       "    .dataframe tbody tr th:only-of-type {\n",
       "        vertical-align: middle;\n",
       "    }\n",
       "\n",
       "    .dataframe tbody tr th {\n",
       "        vertical-align: top;\n",
       "    }\n",
       "\n",
       "    .dataframe thead th {\n",
       "        text-align: right;\n",
       "    }\n",
       "</style>\n",
       "<table border=\"1\" class=\"dataframe\">\n",
       "  <thead>\n",
       "    <tr style=\"text-align: right;\">\n",
       "      <th></th>\n",
       "      <th>run_no</th>\n",
       "      <th>universe_id</th>\n",
       "      <th>universe_settings</th>\n",
       "      <th>execution_time</th>\n",
       "      <th>test_size_n</th>\n",
       "      <th>test_size_frac</th>\n",
       "      <th>fair_main_equalized_odds_difference</th>\n",
       "      <th>fair_main_equalized_odds_ratio</th>\n",
       "      <th>fair_main_demographic_parity_difference</th>\n",
       "      <th>fair_main_demographic_parity_ratio</th>\n",
       "      <th>...</th>\n",
       "      <th>perf_grp_precision_0</th>\n",
       "      <th>perf_grp_precision_1</th>\n",
       "      <th>perf_grp_false positive rate_0</th>\n",
       "      <th>perf_grp_false positive rate_1</th>\n",
       "      <th>perf_grp_false negative rate_0</th>\n",
       "      <th>perf_grp_false negative rate_1</th>\n",
       "      <th>perf_grp_selection rate_0</th>\n",
       "      <th>perf_grp_selection rate_1</th>\n",
       "      <th>perf_grp_count_0</th>\n",
       "      <th>perf_grp_count_1</th>\n",
       "    </tr>\n",
       "  </thead>\n",
       "  <tbody>\n",
       "    <tr>\n",
       "      <th>0</th>\n",
       "      <td>3</td>\n",
       "      <td>459c4f54fcb65a7a1bbb90d958ca9788</td>\n",
       "      <td>{\"cutoff\": \"quantile_0.1\", \"eval_fairness_grou...</td>\n",
       "      <td>21.893446</td>\n",
       "      <td>89710</td>\n",
       "      <td>1.0</td>\n",
       "      <td>0.096923</td>\n",
       "      <td>0.899642</td>\n",
       "      <td>0.088337</td>\n",
       "      <td>0.908754</td>\n",
       "      <td>...</td>\n",
       "      <td>NaN</td>\n",
       "      <td>NaN</td>\n",
       "      <td>NaN</td>\n",
       "      <td>NaN</td>\n",
       "      <td>NaN</td>\n",
       "      <td>NaN</td>\n",
       "      <td>NaN</td>\n",
       "      <td>NaN</td>\n",
       "      <td>NaN</td>\n",
       "      <td>NaN</td>\n",
       "    </tr>\n",
       "    <tr>\n",
       "      <th>0</th>\n",
       "      <td>3</td>\n",
       "      <td>459c4f54fcb65a7a1bbb90d958ca9788</td>\n",
       "      <td>{\"cutoff\": \"quantile_0.1\", \"eval_fairness_grou...</td>\n",
       "      <td>21.893446</td>\n",
       "      <td>89710</td>\n",
       "      <td>1.0</td>\n",
       "      <td>0.096923</td>\n",
       "      <td>0.899642</td>\n",
       "      <td>0.088337</td>\n",
       "      <td>0.908754</td>\n",
       "      <td>...</td>\n",
       "      <td>0.117425</td>\n",
       "      <td>0.142916</td>\n",
       "      <td>0.965772</td>\n",
       "      <td>0.868849</td>\n",
       "      <td>0.013936</td>\n",
       "      <td>0.048468</td>\n",
       "      <td>0.968111</td>\n",
       "      <td>0.879774</td>\n",
       "      <td>20540.0</td>\n",
       "      <td>69170.0</td>\n",
       "    </tr>\n",
       "    <tr>\n",
       "      <th>0</th>\n",
       "      <td>3</td>\n",
       "      <td>459c4f54fcb65a7a1bbb90d958ca9788</td>\n",
       "      <td>{\"cutoff\": \"quantile_0.25\", \"eval_fairness_gro...</td>\n",
       "      <td>21.893446</td>\n",
       "      <td>89710</td>\n",
       "      <td>1.0</td>\n",
       "      <td>0.221678</td>\n",
       "      <td>0.753875</td>\n",
       "      <td>0.203200</td>\n",
       "      <td>0.775883</td>\n",
       "      <td>...</td>\n",
       "      <td>NaN</td>\n",
       "      <td>NaN</td>\n",
       "      <td>NaN</td>\n",
       "      <td>NaN</td>\n",
       "      <td>NaN</td>\n",
       "      <td>NaN</td>\n",
       "      <td>NaN</td>\n",
       "      <td>NaN</td>\n",
       "      <td>NaN</td>\n",
       "      <td>NaN</td>\n",
       "    </tr>\n",
       "    <tr>\n",
       "      <th>0</th>\n",
       "      <td>3</td>\n",
       "      <td>459c4f54fcb65a7a1bbb90d958ca9788</td>\n",
       "      <td>{\"cutoff\": \"quantile_0.25\", \"eval_fairness_gro...</td>\n",
       "      <td>21.893446</td>\n",
       "      <td>89710</td>\n",
       "      <td>1.0</td>\n",
       "      <td>0.221678</td>\n",
       "      <td>0.753875</td>\n",
       "      <td>0.203200</td>\n",
       "      <td>0.775883</td>\n",
       "      <td>...</td>\n",
       "      <td>0.121141</td>\n",
       "      <td>0.162334</td>\n",
       "      <td>0.900671</td>\n",
       "      <td>0.678994</td>\n",
       "      <td>0.047297</td>\n",
       "      <td>0.135777</td>\n",
       "      <td>0.906670</td>\n",
       "      <td>0.703470</td>\n",
       "      <td>20540.0</td>\n",
       "      <td>69170.0</td>\n",
       "    </tr>\n",
       "  </tbody>\n",
       "</table>\n",
       "<p>4 rows × 50 columns</p>\n",
       "</div>"
      ],
      "text/plain": [
       "  run_no                       universe_id  \\\n",
       "0      3  459c4f54fcb65a7a1bbb90d958ca9788   \n",
       "0      3  459c4f54fcb65a7a1bbb90d958ca9788   \n",
       "0      3  459c4f54fcb65a7a1bbb90d958ca9788   \n",
       "0      3  459c4f54fcb65a7a1bbb90d958ca9788   \n",
       "\n",
       "                                   universe_settings  execution_time  \\\n",
       "0  {\"cutoff\": \"quantile_0.1\", \"eval_fairness_grou...       21.893446   \n",
       "0  {\"cutoff\": \"quantile_0.1\", \"eval_fairness_grou...       21.893446   \n",
       "0  {\"cutoff\": \"quantile_0.25\", \"eval_fairness_gro...       21.893446   \n",
       "0  {\"cutoff\": \"quantile_0.25\", \"eval_fairness_gro...       21.893446   \n",
       "\n",
       "   test_size_n  test_size_frac  fair_main_equalized_odds_difference  \\\n",
       "0        89710             1.0                             0.096923   \n",
       "0        89710             1.0                             0.096923   \n",
       "0        89710             1.0                             0.221678   \n",
       "0        89710             1.0                             0.221678   \n",
       "\n",
       "   fair_main_equalized_odds_ratio  fair_main_demographic_parity_difference  \\\n",
       "0                        0.899642                                 0.088337   \n",
       "0                        0.899642                                 0.088337   \n",
       "0                        0.753875                                 0.203200   \n",
       "0                        0.753875                                 0.203200   \n",
       "\n",
       "   fair_main_demographic_parity_ratio  ...  perf_grp_precision_0  \\\n",
       "0                            0.908754  ...                   NaN   \n",
       "0                            0.908754  ...              0.117425   \n",
       "0                            0.775883  ...                   NaN   \n",
       "0                            0.775883  ...              0.121141   \n",
       "\n",
       "   perf_grp_precision_1  perf_grp_false positive rate_0  \\\n",
       "0                   NaN                             NaN   \n",
       "0              0.142916                        0.965772   \n",
       "0                   NaN                             NaN   \n",
       "0              0.162334                        0.900671   \n",
       "\n",
       "   perf_grp_false positive rate_1  perf_grp_false negative rate_0  \\\n",
       "0                             NaN                             NaN   \n",
       "0                        0.868849                        0.013936   \n",
       "0                             NaN                             NaN   \n",
       "0                        0.678994                        0.047297   \n",
       "\n",
       "   perf_grp_false negative rate_1  perf_grp_selection rate_0  \\\n",
       "0                             NaN                        NaN   \n",
       "0                        0.048468                   0.968111   \n",
       "0                             NaN                        NaN   \n",
       "0                        0.135777                   0.906670   \n",
       "\n",
       "   perf_grp_selection rate_1  perf_grp_count_0  perf_grp_count_1  \n",
       "0                        NaN               NaN               NaN  \n",
       "0                   0.879774           20540.0           69170.0  \n",
       "0                        NaN               NaN               NaN  \n",
       "0                   0.703470           20540.0           69170.0  \n",
       "\n",
       "[4 rows x 50 columns]"
      ]
     },
     "execution_count": 64,
     "metadata": {},
     "output_type": "execute_result"
    }
   ],
   "source": [
    "final_output = universe_analysis.generate_final_output(\n",
    "    y_pred_prob=probs_test,\n",
    "    y_test=y_true,\n",
    "    org_test=org_test,\n",
    "    filter_data=filter_sub_universe_data,\n",
    "    cp_metrics_df=cp_metrics_df,\n",
    "    save=True,\n",
    ")\n",
    "final_output"
   ]
  },
  {
   "cell_type": "code",
   "execution_count": null,
   "id": "8b80a1ff",
   "metadata": {
    "papermill": {
     "duration": 0.014931,
     "end_time": "2025-08-19T18:45:53.033033",
     "exception": false,
     "start_time": "2025-08-19T18:45:53.018102",
     "status": "completed"
    },
    "tags": []
   },
   "outputs": [],
   "source": []
  },
  {
   "cell_type": "code",
   "execution_count": null,
   "id": "275c9fad",
   "metadata": {
    "papermill": {
     "duration": 0.01466,
     "end_time": "2025-08-19T18:45:53.062303",
     "exception": false,
     "start_time": "2025-08-19T18:45:53.047643",
     "status": "completed"
    },
    "tags": []
   },
   "outputs": [],
   "source": []
  }
 ],
 "metadata": {
  "celltoolbar": "Tags",
  "kernelspec": {
   "display_name": "Python (CMA Fairness)",
   "language": "python",
   "name": "cma_fair_env"
  },
  "language_info": {
   "codemirror_mode": {
    "name": "ipython",
    "version": 3
   },
   "file_extension": ".py",
   "mimetype": "text/x-python",
   "name": "python",
   "nbconvert_exporter": "python",
   "pygments_lexer": "ipython3",
   "version": "3.10.12"
  },
  "papermill": {
   "default_parameters": {},
   "duration": 32.4946,
   "end_time": "2025-08-19T18:45:53.905002",
   "environment_variables": {},
   "exception": null,
   "input_path": "universe_analysis.ipynb",
   "output_path": "output/runs/3/notebooks/m_3-459c4f54fcb65a7a1bbb90d958ca9788.ipynb",
   "parameters": {
    "output_dir": "output",
    "run_no": "3",
    "seed": "2023",
    "universe": "{\"cutoff\": [\"quantile_0.1\", \"quantile_0.25\"], \"eval_fairness_grouping\": [\"majority-minority\", \"nationality-all\"], \"exclude_features\": \"nationality\", \"exclude_subgroups\": \"keep-all\", \"model\": \"penalized_logreg\", \"scale\": \"do-not-scale\", \"training_size\": \"5k\", \"training_year\": \"2010_14\"}",
    "universe_id": "459c4f54fcb65a7a1bbb90d958ca9788"
   },
   "start_time": "2025-08-19T18:45:21.410402",
   "version": "2.6.0"
  }
 },
 "nbformat": 4,
 "nbformat_minor": 5
}