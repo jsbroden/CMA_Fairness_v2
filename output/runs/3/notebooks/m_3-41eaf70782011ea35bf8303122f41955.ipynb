{
 "cells": [
  {
   "cell_type": "code",
   "execution_count": 1,
   "id": "f159f837-637b-42ba-96b5-ec9a68c44524",
   "metadata": {
    "execution": {
     "iopub.execute_input": "2025-07-22T09:19:18.497302Z",
     "iopub.status.busy": "2025-07-22T09:19:18.496738Z",
     "iopub.status.idle": "2025-07-22T09:19:18.511714Z",
     "shell.execute_reply": "2025-07-22T09:19:18.510704Z"
    },
    "papermill": {
     "duration": 0.036731,
     "end_time": "2025-07-22T09:19:18.513564",
     "exception": false,
     "start_time": "2025-07-22T09:19:18.476833",
     "status": "completed"
    },
    "tags": []
   },
   "outputs": [
    {
     "name": "stdout",
     "output_type": "stream",
     "text": [
      "/dss/dsshome1/0C/ra93lal2/cma/CMA_Fairness_v2\n"
     ]
    },
    {
     "name": "stderr",
     "output_type": "stream",
     "text": [
      "/dss/dsshome1/0C/ra93lal2/.local/share/virtualenvs/CMA_Fairness_v2-3j10GkSs/lib/python3.10/site-packages/IPython/core/magics/osm.py:393: UserWarning: This is now an optional IPython functionality, using bookmarks requires you to install the `pickleshare` library.\n",
      "  bkms = self.shell.db.get('bookmarks', {})\n",
      "/dss/dsshome1/0C/ra93lal2/.local/share/virtualenvs/CMA_Fairness_v2-3j10GkSs/lib/python3.10/site-packages/IPython/core/magics/osm.py:417: UserWarning: This is now an optional IPython functionality, setting dhist requires you to install the `pickleshare` library.\n",
      "  self.shell.db['dhist'] = compress_dhist(dhist)[-100:]\n"
     ]
    }
   ],
   "source": [
    "%cd ~/cma/CMA_Fairness_v2"
   ]
  },
  {
   "cell_type": "markdown",
   "id": "de2603b9",
   "metadata": {
    "papermill": {
     "duration": 0.014132,
     "end_time": "2025-07-22T09:19:18.544205",
     "exception": false,
     "start_time": "2025-07-22T09:19:18.530073",
     "status": "completed"
    },
    "tags": []
   },
   "source": [
    "The following cell holds the definition of our parameters, these values can be overriden by rendering the with e.g. the following command:\n",
    "\n",
    "papermill -p alpha 0.2 -p ratio 0.3 universe_analysis.ipynb output/test_run.ipynb"
   ]
  },
  {
   "cell_type": "code",
   "execution_count": 2,
   "id": "a80968a0-40bb-4fa9-85ef-2d5eefb01975",
   "metadata": {
    "execution": {
     "iopub.execute_input": "2025-07-22T09:19:18.578440Z",
     "iopub.status.busy": "2025-07-22T09:19:18.577685Z",
     "iopub.status.idle": "2025-07-22T09:19:18.583917Z",
     "shell.execute_reply": "2025-07-22T09:19:18.582889Z"
    },
    "papermill": {
     "duration": 0.025518,
     "end_time": "2025-07-22T09:19:18.585654",
     "exception": false,
     "start_time": "2025-07-22T09:19:18.560136",
     "status": "completed"
    },
    "tags": []
   },
   "outputs": [
    {
     "name": "stdout",
     "output_type": "stream",
     "text": [
      "Current working directory: /dss/dsshome1/0C/ra93lal2/cma/CMA_Fairness_v2\n"
     ]
    }
   ],
   "source": [
    "import os\n",
    "print(\"Current working directory:\", os.getcwd())"
   ]
  },
  {
   "cell_type": "code",
   "execution_count": 3,
   "id": "2dce4c03",
   "metadata": {
    "execution": {
     "iopub.execute_input": "2025-07-22T09:19:18.619117Z",
     "iopub.status.busy": "2025-07-22T09:19:18.618437Z",
     "iopub.status.idle": "2025-07-22T09:19:18.625394Z",
     "shell.execute_reply": "2025-07-22T09:19:18.624210Z"
    },
    "papermill": {
     "duration": 0.025939,
     "end_time": "2025-07-22T09:19:18.627405",
     "exception": false,
     "start_time": "2025-07-22T09:19:18.601466",
     "status": "completed"
    },
    "tags": [
     "parameters"
    ]
   },
   "outputs": [],
   "source": [
    "run_no = 0\n",
    "universe_id = \"test\"\n",
    "universe = {\n",
    "    #\"scale\": \"scale\", # \"scale\", \"do-not-scale\",\n",
    "    #\"encode_categorical\": \"one-hot\", # \"ordinal\", \"one-hot\"\n",
    "    \"model\": \"elasticnet\", # \"logreg\", \"penalized_logreg\", \"rf\", \"gbm\", \"elasticnet\"\n",
    "    \"cutoff\": [\"quantile_0.15\", \"quantile_0.30\"],\n",
    "    \"exclude_features\": \"nationality-sex\", # \"none\", \"nationality\", \"sex\", \"nationality-sex\"\n",
    "    \"exclude_subgroups\": \"keep-all\", # \"keep-all\", \"drop-non-german\"\n",
    "    \"eval_fairness_grouping\": [\"majority-minority\", \"nationality-all\"]\n",
    "}\n",
    "\n",
    "output_dir=\"./output\"\n",
    "seed=0"
   ]
  },
  {
   "cell_type": "code",
   "execution_count": 4,
   "id": "b0f917b4",
   "metadata": {
    "execution": {
     "iopub.execute_input": "2025-07-22T09:19:18.662751Z",
     "iopub.status.busy": "2025-07-22T09:19:18.662396Z",
     "iopub.status.idle": "2025-07-22T09:19:18.667744Z",
     "shell.execute_reply": "2025-07-22T09:19:18.666598Z"
    },
    "papermill": {
     "duration": 0.023911,
     "end_time": "2025-07-22T09:19:18.669533",
     "exception": false,
     "start_time": "2025-07-22T09:19:18.645622",
     "status": "completed"
    },
    "tags": [
     "injected-parameters"
    ]
   },
   "outputs": [],
   "source": [
    "# Parameters\n",
    "universe_id = \"41eaf70782011ea35bf8303122f41955\"\n",
    "run_no = \"3\"\n",
    "universe = \"{\\\"cutoff\\\": [\\\"quantile_0.1\\\", \\\"quantile_0.25\\\"], \\\"eval_fairness_grouping\\\": [\\\"majority-minority\\\", \\\"nationality-all\\\"], \\\"exclude_features\\\": \\\"none\\\", \\\"exclude_subgroups\\\": \\\"drop-non-german\\\", \\\"model\\\": \\\"elasticnet\\\", \\\"scale\\\": \\\"do-not-scale\\\"}\"\n",
    "output_dir = \"output\"\n",
    "seed = \"2023\"\n"
   ]
  },
  {
   "cell_type": "code",
   "execution_count": 5,
   "id": "1650acaf",
   "metadata": {
    "execution": {
     "iopub.execute_input": "2025-07-22T09:19:18.706558Z",
     "iopub.status.busy": "2025-07-22T09:19:18.705720Z",
     "iopub.status.idle": "2025-07-22T09:19:18.711263Z",
     "shell.execute_reply": "2025-07-22T09:19:18.710253Z"
    },
    "papermill": {
     "duration": 0.025697,
     "end_time": "2025-07-22T09:19:18.713160",
     "exception": false,
     "start_time": "2025-07-22T09:19:18.687463",
     "status": "completed"
    },
    "tags": []
   },
   "outputs": [],
   "source": [
    "import json\n",
    "# Parse universe into dict if it is passed as a string\n",
    "if isinstance(universe, str):\n",
    "    universe = json.loads(universe)"
   ]
  },
  {
   "cell_type": "code",
   "execution_count": 6,
   "id": "16620c48",
   "metadata": {
    "execution": {
     "iopub.execute_input": "2025-07-22T09:19:18.749282Z",
     "iopub.status.busy": "2025-07-22T09:19:18.748308Z",
     "iopub.status.idle": "2025-07-22T09:19:18.795269Z",
     "shell.execute_reply": "2025-07-22T09:19:18.794422Z"
    },
    "papermill": {
     "duration": 0.06567,
     "end_time": "2025-07-22T09:19:18.797090",
     "exception": false,
     "start_time": "2025-07-22T09:19:18.731420",
     "status": "completed"
    },
    "tags": []
   },
   "outputs": [],
   "source": [
    "# Auto-reload the custom package\n",
    "%load_ext autoreload\n",
    "%autoreload 1\n",
    "%aimport fairness_multiverse"
   ]
  },
  {
   "cell_type": "code",
   "execution_count": 7,
   "id": "01c5c9f3",
   "metadata": {
    "execution": {
     "iopub.execute_input": "2025-07-22T09:19:18.834784Z",
     "iopub.status.busy": "2025-07-22T09:19:18.834338Z",
     "iopub.status.idle": "2025-07-22T09:19:20.872225Z",
     "shell.execute_reply": "2025-07-22T09:19:20.871201Z"
    },
    "papermill": {
     "duration": 2.056878,
     "end_time": "2025-07-22T09:19:20.874247",
     "exception": false,
     "start_time": "2025-07-22T09:19:18.817369",
     "status": "completed"
    },
    "tags": []
   },
   "outputs": [],
   "source": [
    "from fairness_multiverse.universe import UniverseAnalysis\n",
    "\n",
    "universe_analysis = UniverseAnalysis(\n",
    "    run_no = run_no,\n",
    "    universe_id = universe_id,\n",
    "    universe = universe,\n",
    "    output_dir=output_dir,\n",
    ")"
   ]
  },
  {
   "cell_type": "code",
   "execution_count": 8,
   "id": "106241f5",
   "metadata": {
    "execution": {
     "iopub.execute_input": "2025-07-22T09:19:20.911972Z",
     "iopub.status.busy": "2025-07-22T09:19:20.911278Z",
     "iopub.status.idle": "2025-07-22T09:19:20.917888Z",
     "shell.execute_reply": "2025-07-22T09:19:20.916758Z"
    },
    "papermill": {
     "duration": 0.026455,
     "end_time": "2025-07-22T09:19:20.919612",
     "exception": false,
     "start_time": "2025-07-22T09:19:20.893157",
     "status": "completed"
    },
    "tags": []
   },
   "outputs": [
    {
     "name": "stdout",
     "output_type": "stream",
     "text": [
      "Using Seed: 2023\n"
     ]
    }
   ],
   "source": [
    "import numpy as np\n",
    "parsed_seed = int(seed)\n",
    "np.random.seed(parsed_seed)\n",
    "print(f\"Using Seed: {parsed_seed}\")"
   ]
  },
  {
   "cell_type": "markdown",
   "id": "e0ebdc57",
   "metadata": {
    "papermill": {
     "duration": 0.015211,
     "end_time": "2025-07-22T09:19:20.951413",
     "exception": false,
     "start_time": "2025-07-22T09:19:20.936202",
     "status": "completed"
    },
    "tags": []
   },
   "source": [
    "# Loading Data"
   ]
  },
  {
   "cell_type": "markdown",
   "id": "681925a3",
   "metadata": {
    "papermill": {
     "duration": 0.015369,
     "end_time": "2025-07-22T09:19:20.981630",
     "exception": false,
     "start_time": "2025-07-22T09:19:20.966261",
     "status": "completed"
    },
    "tags": []
   },
   "source": [
    "Load siab_train, siab_test, siab_calib and/or \n",
    "load siab_train_features, siab_train_labels"
   ]
  },
  {
   "cell_type": "code",
   "execution_count": 9,
   "id": "f0496b8a",
   "metadata": {
    "execution": {
     "iopub.execute_input": "2025-07-22T09:19:21.014075Z",
     "iopub.status.busy": "2025-07-22T09:19:21.013401Z",
     "iopub.status.idle": "2025-07-22T09:19:21.019365Z",
     "shell.execute_reply": "2025-07-22T09:19:21.018311Z"
    },
    "papermill": {
     "duration": 0.024089,
     "end_time": "2025-07-22T09:19:21.021087",
     "exception": false,
     "start_time": "2025-07-22T09:19:20.996998",
     "status": "completed"
    },
    "tags": []
   },
   "outputs": [],
   "source": [
    "# Do I need to load siab? Delete this cell?\n",
    "\n",
    "#from pathlib import Path\n",
    "#import pandas as pd\n",
    "#\n",
    "## File paths\n",
    "#raw_file = Path(\"data/raw/siab.csv\")\n",
    "#cache_file = Path(\"data/siab_cached.csv.gz\")\n",
    "#\n",
    "## Ensure cache directory exists\n",
    "#cache_file.parent.mkdir(parents=True, exist_ok=True)\n",
    "#\n",
    "## Load with simple caching\n",
    "#if cache_file.exists():\n",
    "#    print(f\"Loading SIAB data from cache: {cache_file}\")\n",
    "#    siab = pd.read_csv(cache_file, compression='gzip')\n",
    "#else:\n",
    "#    print(f\"Cache not found. Reading raw SIAB data: {raw_file}\")\n",
    "#    siab = pd.read_csv(raw_file)\n",
    "#    siab.to_csv(cache_file, index=False, compression='gzip')\n",
    "#    print(f\"Cached SIAB data to: {cache_file}\")\n",
    "#\n",
    "## Now use `siab` DataFrame as needed\n",
    "#print(siab.shape)\n"
   ]
  },
  {
   "cell_type": "code",
   "execution_count": 10,
   "id": "a0edb063",
   "metadata": {
    "execution": {
     "iopub.execute_input": "2025-07-22T09:19:21.055342Z",
     "iopub.status.busy": "2025-07-22T09:19:21.054699Z",
     "iopub.status.idle": "2025-07-22T09:19:21.471980Z",
     "shell.execute_reply": "2025-07-22T09:19:21.471034Z"
    },
    "papermill": {
     "duration": 0.435245,
     "end_time": "2025-07-22T09:19:21.473780",
     "exception": false,
     "start_time": "2025-07-22T09:19:21.038535",
     "status": "completed"
    },
    "tags": []
   },
   "outputs": [],
   "source": [
    "import pandas as pd\n",
    "\n",
    "X_train = pd.read_csv(\"./data/X_train.csv\")\n",
    "y_train = pd.read_csv(\"./data/y_train.csv\")"
   ]
  },
  {
   "cell_type": "code",
   "execution_count": 11,
   "id": "63d08085",
   "metadata": {
    "execution": {
     "iopub.execute_input": "2025-07-22T09:19:21.506960Z",
     "iopub.status.busy": "2025-07-22T09:19:21.506328Z",
     "iopub.status.idle": "2025-07-22T09:19:22.882175Z",
     "shell.execute_reply": "2025-07-22T09:19:22.881293Z"
    },
    "papermill": {
     "duration": 1.393939,
     "end_time": "2025-07-22T09:19:22.883933",
     "exception": false,
     "start_time": "2025-07-22T09:19:21.489994",
     "status": "completed"
    },
    "tags": []
   },
   "outputs": [],
   "source": [
    "X_test = pd.read_csv(\"./data/X_test.csv\")\n",
    "y_true = pd.read_csv(\"./data/y_test.csv\")"
   ]
  },
  {
   "cell_type": "code",
   "execution_count": 12,
   "id": "98a8d0fa-1d3d-4ed8-bb2c-281470e24add",
   "metadata": {
    "execution": {
     "iopub.execute_input": "2025-07-22T09:19:22.919463Z",
     "iopub.status.busy": "2025-07-22T09:19:22.918806Z",
     "iopub.status.idle": "2025-07-22T09:19:24.219854Z",
     "shell.execute_reply": "2025-07-22T09:19:24.218751Z"
    },
    "papermill": {
     "duration": 1.321774,
     "end_time": "2025-07-22T09:19:24.221975",
     "exception": false,
     "start_time": "2025-07-22T09:19:22.900201",
     "status": "completed"
    },
    "tags": []
   },
   "outputs": [],
   "source": [
    "# Calibration data for conformal\n",
    "X_calib = pd.read_csv(\"./data/X_calib.csv\")\n",
    "y_calib = pd.read_csv(\"./data/y_calib.csv\")"
   ]
  },
  {
   "cell_type": "code",
   "execution_count": 13,
   "id": "e6c733c5",
   "metadata": {
    "execution": {
     "iopub.execute_input": "2025-07-22T09:19:24.262268Z",
     "iopub.status.busy": "2025-07-22T09:19:24.261579Z",
     "iopub.status.idle": "2025-07-22T09:19:24.383719Z",
     "shell.execute_reply": "2025-07-22T09:19:24.382717Z"
    },
    "papermill": {
     "duration": 0.144831,
     "end_time": "2025-07-22T09:19:24.385946",
     "exception": false,
     "start_time": "2025-07-22T09:19:24.241115",
     "status": "completed"
    },
    "tags": []
   },
   "outputs": [],
   "source": [
    "# Auxiliary data needed downstream in the pipeline\n",
    "\n",
    "org_train = X_train.copy()\n",
    "org_test = X_test.copy()\n",
    "org_calib = X_calib.copy()"
   ]
  },
  {
   "cell_type": "markdown",
   "id": "0a4a1b33",
   "metadata": {
    "papermill": {
     "duration": 0.018339,
     "end_time": "2025-07-22T09:19:24.439139",
     "exception": false,
     "start_time": "2025-07-22T09:19:24.420800",
     "status": "completed"
    },
    "tags": []
   },
   "source": [
    "# Preprocessing Data"
   ]
  },
  {
   "cell_type": "code",
   "execution_count": 14,
   "id": "ca879031",
   "metadata": {
    "execution": {
     "iopub.execute_input": "2025-07-22T09:19:24.479167Z",
     "iopub.status.busy": "2025-07-22T09:19:24.478710Z",
     "iopub.status.idle": "2025-07-22T09:19:24.484889Z",
     "shell.execute_reply": "2025-07-22T09:19:24.483818Z"
    },
    "papermill": {
     "duration": 0.027273,
     "end_time": "2025-07-22T09:19:24.486674",
     "exception": false,
     "start_time": "2025-07-22T09:19:24.459401",
     "status": "completed"
    },
    "tags": []
   },
   "outputs": [],
   "source": [
    "# EXCLUDE PROTECTED FEATURES\n",
    "# ----------------------\n",
    "# \"exclude_features\": \"none\", # \"nationality\", \"sex\", \"nationality-sex\"\n",
    "\n",
    "excluded_features = universe[\"exclude_features\"].split(\"-\") # split, e.g.: \"nationality-sex\" -> [\"nationality\", \"sex\"]\n",
    "excluded_features_dictionary = {\n",
    "    \"nationality\": [\"maxdeutsch1\", \"maxdeutsch.Missing.\"],\n",
    "    \"sex\": [\"frau1\"],\n",
    "}\n"
   ]
  },
  {
   "cell_type": "code",
   "execution_count": 15,
   "id": "b745ac60",
   "metadata": {
    "execution": {
     "iopub.execute_input": "2025-07-22T09:19:24.526429Z",
     "iopub.status.busy": "2025-07-22T09:19:24.525963Z",
     "iopub.status.idle": "2025-07-22T09:19:24.531872Z",
     "shell.execute_reply": "2025-07-22T09:19:24.530789Z"
    },
    "papermill": {
     "duration": 0.027078,
     "end_time": "2025-07-22T09:19:24.533620",
     "exception": false,
     "start_time": "2025-07-22T09:19:24.506542",
     "status": "completed"
    },
    "tags": []
   },
   "outputs": [],
   "source": [
    "# Code nice names to column names\n",
    "\n",
    "excluded_features_columns = [\n",
    "    excluded_features_dictionary[f] for f in excluded_features if len(f) > 0 and f != \"none\"\n",
    "]"
   ]
  },
  {
   "cell_type": "code",
   "execution_count": 16,
   "id": "f84f73a2",
   "metadata": {
    "execution": {
     "iopub.execute_input": "2025-07-22T09:19:24.573337Z",
     "iopub.status.busy": "2025-07-22T09:19:24.572836Z",
     "iopub.status.idle": "2025-07-22T09:19:24.579497Z",
     "shell.execute_reply": "2025-07-22T09:19:24.578445Z"
    },
    "papermill": {
     "duration": 0.027968,
     "end_time": "2025-07-22T09:19:24.581411",
     "exception": false,
     "start_time": "2025-07-22T09:19:24.553443",
     "status": "completed"
    },
    "tags": []
   },
   "outputs": [],
   "source": [
    "from utils import flatten_once\n",
    "\n",
    "excluded_features_columns = flatten_once(excluded_features_columns)"
   ]
  },
  {
   "cell_type": "code",
   "execution_count": 17,
   "id": "884dea22",
   "metadata": {
    "execution": {
     "iopub.execute_input": "2025-07-22T09:19:24.622929Z",
     "iopub.status.busy": "2025-07-22T09:19:24.622437Z",
     "iopub.status.idle": "2025-07-22T09:19:24.628984Z",
     "shell.execute_reply": "2025-07-22T09:19:24.627853Z"
    },
    "papermill": {
     "duration": 0.02961,
     "end_time": "2025-07-22T09:19:24.630718",
     "exception": false,
     "start_time": "2025-07-22T09:19:24.601108",
     "status": "completed"
    },
    "tags": []
   },
   "outputs": [],
   "source": [
    "if len(excluded_features_columns) > 0:\n",
    "    print(f\"Dropping features: {excluded_features_columns}\")\n",
    "    X_train.drop(excluded_features_columns, axis=1, inplace=True)"
   ]
  },
  {
   "cell_type": "code",
   "execution_count": 18,
   "id": "95ab8b16",
   "metadata": {
    "execution": {
     "iopub.execute_input": "2025-07-22T09:19:24.671953Z",
     "iopub.status.busy": "2025-07-22T09:19:24.671471Z",
     "iopub.status.idle": "2025-07-22T09:19:24.677519Z",
     "shell.execute_reply": "2025-07-22T09:19:24.676357Z"
    },
    "papermill": {
     "duration": 0.028753,
     "end_time": "2025-07-22T09:19:24.679542",
     "exception": false,
     "start_time": "2025-07-22T09:19:24.650789",
     "status": "completed"
    },
    "tags": []
   },
   "outputs": [],
   "source": [
    "if len(excluded_features_columns) > 0:\n",
    "    print(f\"Dropping features: {excluded_features_columns}\")\n",
    "    X_test.drop(excluded_features_columns, axis=1, inplace=True)"
   ]
  },
  {
   "cell_type": "code",
   "execution_count": 19,
   "id": "1853aaf5-fb9f-46cb-a2b5-8ea4ae2237e4",
   "metadata": {
    "execution": {
     "iopub.execute_input": "2025-07-22T09:19:24.720928Z",
     "iopub.status.busy": "2025-07-22T09:19:24.720175Z",
     "iopub.status.idle": "2025-07-22T09:19:24.726509Z",
     "shell.execute_reply": "2025-07-22T09:19:24.725455Z"
    },
    "papermill": {
     "duration": 0.0291,
     "end_time": "2025-07-22T09:19:24.728661",
     "exception": false,
     "start_time": "2025-07-22T09:19:24.699561",
     "status": "completed"
    },
    "tags": []
   },
   "outputs": [],
   "source": [
    "if len(excluded_features_columns) > 0:\n",
    "    print(f\"Dropping features: {excluded_features_columns}\")\n",
    "    X_calib.drop(excluded_features_columns, axis=1, inplace=True)"
   ]
  },
  {
   "cell_type": "code",
   "execution_count": 20,
   "id": "76c4dc6d",
   "metadata": {
    "execution": {
     "iopub.execute_input": "2025-07-22T09:19:24.763254Z",
     "iopub.status.busy": "2025-07-22T09:19:24.762823Z",
     "iopub.status.idle": "2025-07-22T09:19:24.768666Z",
     "shell.execute_reply": "2025-07-22T09:19:24.767610Z"
    },
    "papermill": {
     "duration": 0.025041,
     "end_time": "2025-07-22T09:19:24.770609",
     "exception": false,
     "start_time": "2025-07-22T09:19:24.745568",
     "status": "completed"
    },
    "tags": []
   },
   "outputs": [],
   "source": [
    "# EXCLUDE CERTAIN SUBGROUPS\n",
    "# ----------------------\n",
    "\n",
    "mode = universe.get(\"exclude_subgroups\", \"keep-all\") \n",
    "# Fetches the exclude_subgroups setting from the universe dict.\n",
    "# Defaults to \"keep-all\" if the key is missing."
   ]
  },
  {
   "cell_type": "code",
   "execution_count": 21,
   "id": "21994072",
   "metadata": {
    "execution": {
     "iopub.execute_input": "2025-07-22T09:19:24.813016Z",
     "iopub.status.busy": "2025-07-22T09:19:24.812219Z",
     "iopub.status.idle": "2025-07-22T09:19:24.820246Z",
     "shell.execute_reply": "2025-07-22T09:19:24.819235Z"
    },
    "papermill": {
     "duration": 0.031268,
     "end_time": "2025-07-22T09:19:24.822060",
     "exception": false,
     "start_time": "2025-07-22T09:19:24.790792",
     "status": "completed"
    },
    "tags": []
   },
   "outputs": [],
   "source": [
    "if mode == \"keep-all\":\n",
    "    keep_mask = pd.Series(True, index=org_train.index)\n",
    "\n",
    "# org_train contains the original feature columns from features_org (in Simson)\n",
    "# features_org contains unprocessed features, for me X_train at beginning ???\n",
    "# For keep-all, creates a boolean Series (keep_mask) of all True, so no rows are removed.\n",
    "\n",
    "elif mode == \"drop-non-german\":\n",
    "    keep_mask = org_train[\"maxdeutsch1\"] == 1 # ??? what about missing values?\n",
    "\n",
    "else:\n",
    "    raise ValueError(f\"Unsupported mode for exclude_subgroups: {mode}\")\n"
   ]
  },
  {
   "cell_type": "code",
   "execution_count": 22,
   "id": "71651440",
   "metadata": {
    "execution": {
     "iopub.execute_input": "2025-07-22T09:19:24.858326Z",
     "iopub.status.busy": "2025-07-22T09:19:24.857741Z",
     "iopub.status.idle": "2025-07-22T09:19:24.866074Z",
     "shell.execute_reply": "2025-07-22T09:19:24.864814Z"
    },
    "papermill": {
     "duration": 0.02826,
     "end_time": "2025-07-22T09:19:24.867604",
     "exception": false,
     "start_time": "2025-07-22T09:19:24.839344",
     "status": "completed"
    },
    "tags": []
   },
   "outputs": [
    {
     "name": "stdout",
     "output_type": "stream",
     "text": [
      "Dropping 3312 rows (13.25%) where mode='drop-non-german'\n"
     ]
    }
   ],
   "source": [
    "n_drop = (~keep_mask).sum() # Calculates how many rows are set to be dropped\n",
    "if n_drop > 0:\n",
    "    pct = n_drop / len(keep_mask) * 100\n",
    "    print(f\"Dropping {n_drop} rows ({pct:.2f}%) where mode='{mode}'\")"
   ]
  },
  {
   "cell_type": "code",
   "execution_count": 23,
   "id": "5fb8eee5",
   "metadata": {
    "execution": {
     "iopub.execute_input": "2025-07-22T09:19:24.903901Z",
     "iopub.status.busy": "2025-07-22T09:19:24.903325Z",
     "iopub.status.idle": "2025-07-22T09:19:24.929028Z",
     "shell.execute_reply": "2025-07-22T09:19:24.927945Z"
    },
    "papermill": {
     "duration": 0.04586,
     "end_time": "2025-07-22T09:19:24.930856",
     "exception": false,
     "start_time": "2025-07-22T09:19:24.884996",
     "status": "completed"
    },
    "tags": []
   },
   "outputs": [],
   "source": [
    "X_train = X_train[keep_mask]"
   ]
  },
  {
   "cell_type": "code",
   "execution_count": 24,
   "id": "b202bb3a",
   "metadata": {
    "execution": {
     "iopub.execute_input": "2025-07-22T09:19:24.968694Z",
     "iopub.status.busy": "2025-07-22T09:19:24.967945Z",
     "iopub.status.idle": "2025-07-22T09:19:24.975078Z",
     "shell.execute_reply": "2025-07-22T09:19:24.974145Z"
    },
    "papermill": {
     "duration": 0.028187,
     "end_time": "2025-07-22T09:19:24.976777",
     "exception": false,
     "start_time": "2025-07-22T09:19:24.948590",
     "status": "completed"
    },
    "tags": []
   },
   "outputs": [],
   "source": [
    "y_train = y_train[keep_mask]"
   ]
  },
  {
   "cell_type": "markdown",
   "id": "493e2ac3",
   "metadata": {
    "papermill": {
     "duration": 0.015559,
     "end_time": "2025-07-22T09:19:25.009534",
     "exception": false,
     "start_time": "2025-07-22T09:19:24.993975",
     "status": "completed"
    },
    "tags": []
   },
   "source": [
    "# Model Training"
   ]
  },
  {
   "cell_type": "code",
   "execution_count": 25,
   "id": "679e1268",
   "metadata": {
    "execution": {
     "iopub.execute_input": "2025-07-22T09:19:25.046124Z",
     "iopub.status.busy": "2025-07-22T09:19:25.045446Z",
     "iopub.status.idle": "2025-07-22T09:19:25.155114Z",
     "shell.execute_reply": "2025-07-22T09:19:25.154191Z"
    },
    "papermill": {
     "duration": 0.13017,
     "end_time": "2025-07-22T09:19:25.157450",
     "exception": false,
     "start_time": "2025-07-22T09:19:25.027280",
     "status": "completed"
    },
    "tags": []
   },
   "outputs": [],
   "source": [
    "from sklearn.linear_model import LogisticRegression\n",
    "from sklearn.ensemble import GradientBoostingClassifier, RandomForestClassifier\n",
    "\n",
    "if (universe[\"model\"] == \"logreg\"):\n",
    "    model = LogisticRegression() #penalty=\"none\") #, solver=\"newton-cg\", max_iter=1) # include random_state=19 ?\n",
    "elif (universe[\"model\"] == \"penalized_logreg\"):\n",
    "    model = LogisticRegression(penalty=\"l2\", C=1.0) #, solver=\"newton-cg\", max_iter=1)\n",
    "elif (universe[\"model\"] == \"rf\"):\n",
    "    model = RandomForestClassifier(n_estimators=100, n_jobs=-1)\n",
    "elif (universe[\"model\"] == \"gbm\"):\n",
    "    model = GradientBoostingClassifier()\n",
    "elif (universe[\"model\"] == \"elasticnet\"):\n",
    "    model = LogisticRegression(penalty = 'elasticnet', solver = 'saga', l1_ratio = 0.5, max_iter=5000) # which solver to use?\n",
    "else:\n",
    "    raise \"Unsupported universe.model\""
   ]
  },
  {
   "cell_type": "code",
   "execution_count": 26,
   "id": "0cc8f744",
   "metadata": {
    "execution": {
     "iopub.execute_input": "2025-07-22T09:19:25.195858Z",
     "iopub.status.busy": "2025-07-22T09:19:25.195346Z",
     "iopub.status.idle": "2025-07-22T09:19:25.202119Z",
     "shell.execute_reply": "2025-07-22T09:19:25.201060Z"
    },
    "papermill": {
     "duration": 0.027295,
     "end_time": "2025-07-22T09:19:25.203740",
     "exception": false,
     "start_time": "2025-07-22T09:19:25.176445",
     "status": "completed"
    },
    "tags": []
   },
   "outputs": [],
   "source": [
    "import numpy as np\n",
    "from sklearn.pipeline import Pipeline\n",
    "from sklearn.preprocessing import StandardScaler\n",
    "\n",
    "model = Pipeline([\n",
    "    #(\"continuous_processor\", continuous_processor),\n",
    "    #(\"categorical_preprocessor\", categorical_preprocessor),\n",
    "    (\"scale\", StandardScaler() if universe[\"scale\"] == \"scale\" else None),\n",
    "    (\"model\", model),\n",
    "])"
   ]
  },
  {
   "cell_type": "code",
   "execution_count": 27,
   "id": "9442c04d",
   "metadata": {
    "execution": {
     "iopub.execute_input": "2025-07-22T09:19:25.241748Z",
     "iopub.status.busy": "2025-07-22T09:19:25.241057Z",
     "iopub.status.idle": "2025-07-22T09:22:37.439476Z",
     "shell.execute_reply": "2025-07-22T09:22:37.438433Z"
    },
    "papermill": {
     "duration": 192.230654,
     "end_time": "2025-07-22T09:22:37.452427",
     "exception": false,
     "start_time": "2025-07-22T09:19:25.221773",
     "status": "completed"
    },
    "tags": []
   },
   "outputs": [
    {
     "data": {
      "text/html": [
       "<style>#sk-container-id-1 {color: black;background-color: white;}#sk-container-id-1 pre{padding: 0;}#sk-container-id-1 div.sk-toggleable {background-color: white;}#sk-container-id-1 label.sk-toggleable__label {cursor: pointer;display: block;width: 100%;margin-bottom: 0;padding: 0.3em;box-sizing: border-box;text-align: center;}#sk-container-id-1 label.sk-toggleable__label-arrow:before {content: \"▸\";float: left;margin-right: 0.25em;color: #696969;}#sk-container-id-1 label.sk-toggleable__label-arrow:hover:before {color: black;}#sk-container-id-1 div.sk-estimator:hover label.sk-toggleable__label-arrow:before {color: black;}#sk-container-id-1 div.sk-toggleable__content {max-height: 0;max-width: 0;overflow: hidden;text-align: left;background-color: #f0f8ff;}#sk-container-id-1 div.sk-toggleable__content pre {margin: 0.2em;color: black;border-radius: 0.25em;background-color: #f0f8ff;}#sk-container-id-1 input.sk-toggleable__control:checked~div.sk-toggleable__content {max-height: 200px;max-width: 100%;overflow: auto;}#sk-container-id-1 input.sk-toggleable__control:checked~label.sk-toggleable__label-arrow:before {content: \"▾\";}#sk-container-id-1 div.sk-estimator input.sk-toggleable__control:checked~label.sk-toggleable__label {background-color: #d4ebff;}#sk-container-id-1 div.sk-label input.sk-toggleable__control:checked~label.sk-toggleable__label {background-color: #d4ebff;}#sk-container-id-1 input.sk-hidden--visually {border: 0;clip: rect(1px 1px 1px 1px);clip: rect(1px, 1px, 1px, 1px);height: 1px;margin: -1px;overflow: hidden;padding: 0;position: absolute;width: 1px;}#sk-container-id-1 div.sk-estimator {font-family: monospace;background-color: #f0f8ff;border: 1px dotted black;border-radius: 0.25em;box-sizing: border-box;margin-bottom: 0.5em;}#sk-container-id-1 div.sk-estimator:hover {background-color: #d4ebff;}#sk-container-id-1 div.sk-parallel-item::after {content: \"\";width: 100%;border-bottom: 1px solid gray;flex-grow: 1;}#sk-container-id-1 div.sk-label:hover label.sk-toggleable__label {background-color: #d4ebff;}#sk-container-id-1 div.sk-serial::before {content: \"\";position: absolute;border-left: 1px solid gray;box-sizing: border-box;top: 0;bottom: 0;left: 50%;z-index: 0;}#sk-container-id-1 div.sk-serial {display: flex;flex-direction: column;align-items: center;background-color: white;padding-right: 0.2em;padding-left: 0.2em;position: relative;}#sk-container-id-1 div.sk-item {position: relative;z-index: 1;}#sk-container-id-1 div.sk-parallel {display: flex;align-items: stretch;justify-content: center;background-color: white;position: relative;}#sk-container-id-1 div.sk-item::before, #sk-container-id-1 div.sk-parallel-item::before {content: \"\";position: absolute;border-left: 1px solid gray;box-sizing: border-box;top: 0;bottom: 0;left: 50%;z-index: -1;}#sk-container-id-1 div.sk-parallel-item {display: flex;flex-direction: column;z-index: 1;position: relative;background-color: white;}#sk-container-id-1 div.sk-parallel-item:first-child::after {align-self: flex-end;width: 50%;}#sk-container-id-1 div.sk-parallel-item:last-child::after {align-self: flex-start;width: 50%;}#sk-container-id-1 div.sk-parallel-item:only-child::after {width: 0;}#sk-container-id-1 div.sk-dashed-wrapped {border: 1px dashed gray;margin: 0 0.4em 0.5em 0.4em;box-sizing: border-box;padding-bottom: 0.4em;background-color: white;}#sk-container-id-1 div.sk-label label {font-family: monospace;font-weight: bold;display: inline-block;line-height: 1.2em;}#sk-container-id-1 div.sk-label-container {text-align: center;}#sk-container-id-1 div.sk-container {/* jupyter's `normalize.less` sets `[hidden] { display: none; }` but bootstrap.min.css set `[hidden] { display: none !important; }` so we also need the `!important` here to be able to override the default hidden behavior on the sphinx rendered scikit-learn.org. See: https://github.com/scikit-learn/scikit-learn/issues/21755 */display: inline-block !important;position: relative;}#sk-container-id-1 div.sk-text-repr-fallback {display: none;}</style><div id=\"sk-container-id-1\" class=\"sk-top-container\"><div class=\"sk-text-repr-fallback\"><pre>Pipeline(steps=[(&#x27;scale&#x27;, None),\n",
       "                (&#x27;model&#x27;,\n",
       "                 LogisticRegression(l1_ratio=0.5, max_iter=5000,\n",
       "                                    penalty=&#x27;elasticnet&#x27;, solver=&#x27;saga&#x27;))])</pre><b>In a Jupyter environment, please rerun this cell to show the HTML representation or trust the notebook. <br />On GitHub, the HTML representation is unable to render, please try loading this page with nbviewer.org.</b></div><div class=\"sk-container\" hidden><div class=\"sk-item sk-dashed-wrapped\"><div class=\"sk-label-container\"><div class=\"sk-label sk-toggleable\"><input class=\"sk-toggleable__control sk-hidden--visually\" id=\"sk-estimator-id-1\" type=\"checkbox\" ><label for=\"sk-estimator-id-1\" class=\"sk-toggleable__label sk-toggleable__label-arrow\">Pipeline</label><div class=\"sk-toggleable__content\"><pre>Pipeline(steps=[(&#x27;scale&#x27;, None),\n",
       "                (&#x27;model&#x27;,\n",
       "                 LogisticRegression(l1_ratio=0.5, max_iter=5000,\n",
       "                                    penalty=&#x27;elasticnet&#x27;, solver=&#x27;saga&#x27;))])</pre></div></div></div><div class=\"sk-serial\"><div class=\"sk-item\"><div class=\"sk-estimator sk-toggleable\"><input class=\"sk-toggleable__control sk-hidden--visually\" id=\"sk-estimator-id-2\" type=\"checkbox\" ><label for=\"sk-estimator-id-2\" class=\"sk-toggleable__label sk-toggleable__label-arrow\">None</label><div class=\"sk-toggleable__content\"><pre>None</pre></div></div></div><div class=\"sk-item\"><div class=\"sk-estimator sk-toggleable\"><input class=\"sk-toggleable__control sk-hidden--visually\" id=\"sk-estimator-id-3\" type=\"checkbox\" ><label for=\"sk-estimator-id-3\" class=\"sk-toggleable__label sk-toggleable__label-arrow\">LogisticRegression</label><div class=\"sk-toggleable__content\"><pre>LogisticRegression(l1_ratio=0.5, max_iter=5000, penalty=&#x27;elasticnet&#x27;,\n",
       "                   solver=&#x27;saga&#x27;)</pre></div></div></div></div></div></div></div>"
      ],
      "text/plain": [
       "Pipeline(steps=[('scale', None),\n",
       "                ('model',\n",
       "                 LogisticRegression(l1_ratio=0.5, max_iter=5000,\n",
       "                                    penalty='elasticnet', solver='saga'))])"
      ]
     },
     "execution_count": 27,
     "metadata": {},
     "output_type": "execute_result"
    }
   ],
   "source": [
    "model.fit(X_train, y_train.values.ravel())"
   ]
  },
  {
   "cell_type": "code",
   "execution_count": 28,
   "id": "af59f8c0",
   "metadata": {
    "execution": {
     "iopub.execute_input": "2025-07-22T09:22:37.472309Z",
     "iopub.status.busy": "2025-07-22T09:22:37.471912Z",
     "iopub.status.idle": "2025-07-22T09:22:37.477245Z",
     "shell.execute_reply": "2025-07-22T09:22:37.476509Z"
    },
    "papermill": {
     "duration": 0.016974,
     "end_time": "2025-07-22T09:22:37.478658",
     "exception": false,
     "start_time": "2025-07-22T09:22:37.461684",
     "status": "completed"
    },
    "tags": []
   },
   "outputs": [],
   "source": [
    "from fairness_multiverse.universe import predict_w_threshold"
   ]
  },
  {
   "cell_type": "code",
   "execution_count": 29,
   "id": "a7cf2e16",
   "metadata": {
    "execution": {
     "iopub.execute_input": "2025-07-22T09:22:37.513070Z",
     "iopub.status.busy": "2025-07-22T09:22:37.512723Z",
     "iopub.status.idle": "2025-07-22T09:22:37.599263Z",
     "shell.execute_reply": "2025-07-22T09:22:37.598502Z"
    },
    "papermill": {
     "duration": 0.104959,
     "end_time": "2025-07-22T09:22:37.600759",
     "exception": false,
     "start_time": "2025-07-22T09:22:37.495800",
     "status": "completed"
    },
    "tags": []
   },
   "outputs": [
    {
     "data": {
      "text/plain": [
       "0.8483558131757887"
      ]
     },
     "execution_count": 29,
     "metadata": {},
     "output_type": "execute_result"
    }
   ],
   "source": [
    "probs_test = model.predict_proba(X_test)\n",
    "\n",
    "'''\n",
    "Below code returns a boolean array (or binary 0/1 array depending on how it’s used) where each element \n",
    "is True if the probability of class 1 is greater than or equal to the threshold, and False otherwise.\n",
    "'''\n",
    "y_pred_default = predict_w_threshold(probs_test, 0.5)\n",
    "\n",
    "from sklearn.metrics import accuracy_score\n",
    "\n",
    "# Naive prediction\n",
    "accuracy_score(y_true = y_true, y_pred = y_pred_default)"
   ]
  },
  {
   "cell_type": "code",
   "execution_count": 30,
   "id": "081964c3",
   "metadata": {
    "execution": {
     "iopub.execute_input": "2025-07-22T09:22:37.635304Z",
     "iopub.status.busy": "2025-07-22T09:22:37.634964Z",
     "iopub.status.idle": "2025-07-22T09:22:37.710777Z",
     "shell.execute_reply": "2025-07-22T09:22:37.710032Z"
    },
    "papermill": {
     "duration": 0.094235,
     "end_time": "2025-07-22T09:22:37.712213",
     "exception": false,
     "start_time": "2025-07-22T09:22:37.617978",
     "status": "completed"
    },
    "tags": []
   },
   "outputs": [
    {
     "data": {
      "text/plain": [
       "array([0, 0, 0, ..., 0, 0, 0])"
      ]
     },
     "execution_count": 30,
     "metadata": {},
     "output_type": "execute_result"
    }
   ],
   "source": [
    "model.predict(X_test)"
   ]
  },
  {
   "cell_type": "markdown",
   "id": "56c9705b",
   "metadata": {
    "papermill": {
     "duration": 0.016203,
     "end_time": "2025-07-22T09:22:37.745683",
     "exception": false,
     "start_time": "2025-07-22T09:22:37.729480",
     "status": "completed"
    },
    "tags": []
   },
   "source": [
    "# Conformal Prediction"
   ]
  },
  {
   "cell_type": "code",
   "execution_count": 31,
   "id": "160ec6ff",
   "metadata": {
    "execution": {
     "iopub.execute_input": "2025-07-22T09:22:37.779734Z",
     "iopub.status.busy": "2025-07-22T09:22:37.779201Z",
     "iopub.status.idle": "2025-07-22T09:22:37.783324Z",
     "shell.execute_reply": "2025-07-22T09:22:37.782598Z"
    },
    "papermill": {
     "duration": 0.023028,
     "end_time": "2025-07-22T09:22:37.784845",
     "exception": false,
     "start_time": "2025-07-22T09:22:37.761817",
     "status": "completed"
    },
    "tags": []
   },
   "outputs": [],
   "source": [
    "# Miscoverage level for conformal prediction (10% allowed error rate => 90% target coverage)\n",
    "alpha = 0.1"
   ]
  },
  {
   "cell_type": "code",
   "execution_count": 32,
   "id": "eadf4555-3dd3-440e-8e35-f82a4ad9f855",
   "metadata": {
    "execution": {
     "iopub.execute_input": "2025-07-22T09:22:37.820451Z",
     "iopub.status.busy": "2025-07-22T09:22:37.819779Z",
     "iopub.status.idle": "2025-07-22T09:22:37.893962Z",
     "shell.execute_reply": "2025-07-22T09:22:37.893207Z"
    },
    "papermill": {
     "duration": 0.09289,
     "end_time": "2025-07-22T09:22:37.895409",
     "exception": false,
     "start_time": "2025-07-22T09:22:37.802519",
     "status": "completed"
    },
    "tags": []
   },
   "outputs": [],
   "source": [
    "probs_calib = model.predict_proba(X_calib)"
   ]
  },
  {
   "cell_type": "code",
   "execution_count": 33,
   "id": "2ed93547-6d5d-4983-9b36-1ecb300da49a",
   "metadata": {
    "execution": {
     "iopub.execute_input": "2025-07-22T09:22:37.916047Z",
     "iopub.status.busy": "2025-07-22T09:22:37.915672Z",
     "iopub.status.idle": "2025-07-22T09:22:37.920964Z",
     "shell.execute_reply": "2025-07-22T09:22:37.920025Z"
    },
    "papermill": {
     "duration": 0.016905,
     "end_time": "2025-07-22T09:22:37.922435",
     "exception": false,
     "start_time": "2025-07-22T09:22:37.905530",
     "status": "completed"
    },
    "tags": []
   },
   "outputs": [],
   "source": [
    "y_calib = y_calib.values.ravel().astype(int)"
   ]
  },
  {
   "cell_type": "code",
   "execution_count": 34,
   "id": "65d1320d-f588-4b38-9072-62af1ae97f7d",
   "metadata": {
    "execution": {
     "iopub.execute_input": "2025-07-22T09:22:37.943500Z",
     "iopub.status.busy": "2025-07-22T09:22:37.943155Z",
     "iopub.status.idle": "2025-07-22T09:22:37.950886Z",
     "shell.execute_reply": "2025-07-22T09:22:37.950065Z"
    },
    "papermill": {
     "duration": 0.019238,
     "end_time": "2025-07-22T09:22:37.952071",
     "exception": false,
     "start_time": "2025-07-22T09:22:37.932833",
     "status": "completed"
    },
    "tags": []
   },
   "outputs": [],
   "source": [
    "from fairness_multiverse.conformal import compute_nc_scores\n",
    "\n",
    "# Compute nonconformity scores on calibration set (1 - probability of true class)\n",
    "nc_scores = compute_nc_scores(probs_calib, y_calib)"
   ]
  },
  {
   "cell_type": "code",
   "execution_count": 35,
   "id": "df3b8ca3-53b7-43d5-9667-7c85da7aeda2",
   "metadata": {
    "execution": {
     "iopub.execute_input": "2025-07-22T09:22:37.972718Z",
     "iopub.status.busy": "2025-07-22T09:22:37.972373Z",
     "iopub.status.idle": "2025-07-22T09:22:37.977487Z",
     "shell.execute_reply": "2025-07-22T09:22:37.976753Z"
    },
    "papermill": {
     "duration": 0.016627,
     "end_time": "2025-07-22T09:22:37.978869",
     "exception": false,
     "start_time": "2025-07-22T09:22:37.962242",
     "status": "completed"
    },
    "tags": []
   },
   "outputs": [],
   "source": [
    "from fairness_multiverse.conformal import find_threshold\n",
    "\n",
    "# Find conformal threshold q_hat for the given alpha (split conformal method)\n",
    "q_hat = find_threshold(nc_scores, alpha)"
   ]
  },
  {
   "cell_type": "code",
   "execution_count": 36,
   "id": "4d29e6c1-0ef6-4aa4-b8fe-4fe79b0d033a",
   "metadata": {
    "execution": {
     "iopub.execute_input": "2025-07-22T09:22:37.999986Z",
     "iopub.status.busy": "2025-07-22T09:22:37.999635Z",
     "iopub.status.idle": "2025-07-22T09:22:38.006073Z",
     "shell.execute_reply": "2025-07-22T09:22:38.005172Z"
    },
    "papermill": {
     "duration": 0.01797,
     "end_time": "2025-07-22T09:22:38.007381",
     "exception": false,
     "start_time": "2025-07-22T09:22:37.989411",
     "status": "completed"
    },
    "tags": []
   },
   "outputs": [
    {
     "data": {
      "text/plain": [
       "0.6897556201651468"
      ]
     },
     "execution_count": 36,
     "metadata": {},
     "output_type": "execute_result"
    }
   ],
   "source": [
    "q_hat"
   ]
  },
  {
   "cell_type": "code",
   "execution_count": 37,
   "id": "92460794-cdac-4be2-ba28-f28c0515a6fb",
   "metadata": {
    "execution": {
     "iopub.execute_input": "2025-07-22T09:22:38.028095Z",
     "iopub.status.busy": "2025-07-22T09:22:38.027790Z",
     "iopub.status.idle": "2025-07-22T09:22:38.535218Z",
     "shell.execute_reply": "2025-07-22T09:22:38.534448Z"
    },
    "papermill": {
     "duration": 0.519168,
     "end_time": "2025-07-22T09:22:38.536741",
     "exception": false,
     "start_time": "2025-07-22T09:22:38.017573",
     "status": "completed"
    },
    "tags": []
   },
   "outputs": [],
   "source": [
    "from fairness_multiverse.conformal import predict_conformal_sets\n",
    "\n",
    "# Generate prediction sets for each test example\n",
    "pred_sets = predict_conformal_sets(model, X_test, q_hat)"
   ]
  },
  {
   "cell_type": "code",
   "execution_count": 38,
   "id": "d90c9a65-e6db-4f5d-80cd-e68fb7e46829",
   "metadata": {
    "execution": {
     "iopub.execute_input": "2025-07-22T09:22:38.557990Z",
     "iopub.status.busy": "2025-07-22T09:22:38.557628Z",
     "iopub.status.idle": "2025-07-22T09:22:38.562860Z",
     "shell.execute_reply": "2025-07-22T09:22:38.562105Z"
    },
    "papermill": {
     "duration": 0.017376,
     "end_time": "2025-07-22T09:22:38.564424",
     "exception": false,
     "start_time": "2025-07-22T09:22:38.547048",
     "status": "completed"
    },
    "tags": []
   },
   "outputs": [],
   "source": [
    "y_true = y_true.squeeze()"
   ]
  },
  {
   "cell_type": "code",
   "execution_count": 39,
   "id": "3a58a54a-1e68-46b9-927a-df01f18aebc8",
   "metadata": {
    "execution": {
     "iopub.execute_input": "2025-07-22T09:22:38.600960Z",
     "iopub.status.busy": "2025-07-22T09:22:38.600565Z",
     "iopub.status.idle": "2025-07-22T09:22:39.077175Z",
     "shell.execute_reply": "2025-07-22T09:22:39.076371Z"
    },
    "papermill": {
     "duration": 0.496173,
     "end_time": "2025-07-22T09:22:39.078868",
     "exception": false,
     "start_time": "2025-07-22T09:22:38.582695",
     "status": "completed"
    },
    "tags": []
   },
   "outputs": [],
   "source": [
    "from fairness_multiverse.conformal import evaluate_sets\n",
    "\n",
    "# Evaluate coverage and average set size on test data\n",
    "metrics = evaluate_sets(pred_sets, y_true)"
   ]
  },
  {
   "cell_type": "code",
   "execution_count": 40,
   "id": "5ce0a5cb-201f-45a0-ade5-94c7f0bd6095",
   "metadata": {
    "execution": {
     "iopub.execute_input": "2025-07-22T09:22:39.115126Z",
     "iopub.status.busy": "2025-07-22T09:22:39.114786Z",
     "iopub.status.idle": "2025-07-22T09:22:39.120325Z",
     "shell.execute_reply": "2025-07-22T09:22:39.119529Z"
    },
    "papermill": {
     "duration": 0.024669,
     "end_time": "2025-07-22T09:22:39.121621",
     "exception": false,
     "start_time": "2025-07-22T09:22:39.096952",
     "status": "completed"
    },
    "tags": []
   },
   "outputs": [
    {
     "data": {
      "text/plain": [
       "{'coverage': 0.9062088953293947, 'avg_size': 1.1343217032660795}"
      ]
     },
     "execution_count": 40,
     "metadata": {},
     "output_type": "execute_result"
    }
   ],
   "source": [
    "metrics"
   ]
  },
  {
   "cell_type": "code",
   "execution_count": 41,
   "id": "9b9a838d-31c9-430b-ae14-12baee460d17",
   "metadata": {
    "execution": {
     "iopub.execute_input": "2025-07-22T09:22:39.143399Z",
     "iopub.status.busy": "2025-07-22T09:22:39.143073Z",
     "iopub.status.idle": "2025-07-22T09:22:39.147608Z",
     "shell.execute_reply": "2025-07-22T09:22:39.146820Z"
    },
    "papermill": {
     "duration": 0.01671,
     "end_time": "2025-07-22T09:22:39.149095",
     "exception": false,
     "start_time": "2025-07-22T09:22:39.132385",
     "status": "completed"
    },
    "tags": []
   },
   "outputs": [],
   "source": [
    "example_universe = universe.copy()\n",
    "universe_model = example_universe.get(\"model\")\n",
    "universe_exclude_features = example_universe.get(\"exclude_features\")\n",
    "universe_exclude_subgroups = example_universe.get(\"exclude_subgroups\")"
   ]
  },
  {
   "cell_type": "code",
   "execution_count": 42,
   "id": "f4b6a8ac-9dc0-4245-8a91-5b3b5999c4f9",
   "metadata": {
    "execution": {
     "iopub.execute_input": "2025-07-22T09:22:39.170430Z",
     "iopub.status.busy": "2025-07-22T09:22:39.170138Z",
     "iopub.status.idle": "2025-07-22T09:22:39.175092Z",
     "shell.execute_reply": "2025-07-22T09:22:39.174372Z"
    },
    "papermill": {
     "duration": 0.016878,
     "end_time": "2025-07-22T09:22:39.176450",
     "exception": false,
     "start_time": "2025-07-22T09:22:39.159572",
     "status": "completed"
    },
    "tags": []
   },
   "outputs": [],
   "source": [
    "cp_metrics_dict = {\n",
    "    \"universe_id\": [universe_id],\n",
    "    \"universe_model\": [universe_model],\n",
    "    \"universe_exclude_features\": [universe_exclude_features],\n",
    "    \"universe_exclude_subgroups\": [universe_exclude_subgroups],\n",
    "    \"q_hat\": [q_hat],\n",
    "    \"coverage\": [metrics[\"coverage\"]],\n",
    "    \"avg_size\": [metrics[\"avg_size\"]],\n",
    "}"
   ]
  },
  {
   "cell_type": "code",
   "execution_count": 43,
   "id": "908acbb1-0371-4915-85ca-3fa520d2efe2",
   "metadata": {
    "execution": {
     "iopub.execute_input": "2025-07-22T09:22:39.197684Z",
     "iopub.status.busy": "2025-07-22T09:22:39.197393Z",
     "iopub.status.idle": "2025-07-22T09:22:39.203640Z",
     "shell.execute_reply": "2025-07-22T09:22:39.202916Z"
    },
    "papermill": {
     "duration": 0.018144,
     "end_time": "2025-07-22T09:22:39.205018",
     "exception": false,
     "start_time": "2025-07-22T09:22:39.186874",
     "status": "completed"
    },
    "tags": []
   },
   "outputs": [
    {
     "data": {
      "text/plain": [
       "{'universe_id': ['41eaf70782011ea35bf8303122f41955'],\n",
       " 'universe_model': ['elasticnet'],\n",
       " 'universe_exclude_features': ['none'],\n",
       " 'universe_exclude_subgroups': ['drop-non-german'],\n",
       " 'q_hat': [0.6897556201651468],\n",
       " 'coverage': [0.9062088953293947],\n",
       " 'avg_size': [1.1343217032660795]}"
      ]
     },
     "execution_count": 43,
     "metadata": {},
     "output_type": "execute_result"
    }
   ],
   "source": [
    "cp_metrics_dict"
   ]
  },
  {
   "cell_type": "code",
   "execution_count": 44,
   "id": "33007efc-14e9-4ec6-97ac-56a455c82265",
   "metadata": {
    "execution": {
     "iopub.execute_input": "2025-07-22T09:22:39.226854Z",
     "iopub.status.busy": "2025-07-22T09:22:39.226508Z",
     "iopub.status.idle": "2025-07-22T09:22:39.232139Z",
     "shell.execute_reply": "2025-07-22T09:22:39.231302Z"
    },
    "papermill": {
     "duration": 0.017745,
     "end_time": "2025-07-22T09:22:39.233424",
     "exception": false,
     "start_time": "2025-07-22T09:22:39.215679",
     "status": "completed"
    },
    "tags": []
   },
   "outputs": [],
   "source": [
    "cp_metrics_df = pd.DataFrame(cp_metrics_dict)"
   ]
  },
  {
   "cell_type": "code",
   "execution_count": 45,
   "id": "db12611b-57b2-4910-b9d0-355adfd6e7bf",
   "metadata": {
    "execution": {
     "iopub.execute_input": "2025-07-22T09:22:39.255400Z",
     "iopub.status.busy": "2025-07-22T09:22:39.255044Z",
     "iopub.status.idle": "2025-07-22T09:22:39.270631Z",
     "shell.execute_reply": "2025-07-22T09:22:39.269823Z"
    },
    "papermill": {
     "duration": 0.027595,
     "end_time": "2025-07-22T09:22:39.271969",
     "exception": false,
     "start_time": "2025-07-22T09:22:39.244374",
     "status": "completed"
    },
    "tags": []
   },
   "outputs": [
    {
     "data": {
      "text/html": [
       "<div>\n",
       "<style scoped>\n",
       "    .dataframe tbody tr th:only-of-type {\n",
       "        vertical-align: middle;\n",
       "    }\n",
       "\n",
       "    .dataframe tbody tr th {\n",
       "        vertical-align: top;\n",
       "    }\n",
       "\n",
       "    .dataframe thead th {\n",
       "        text-align: right;\n",
       "    }\n",
       "</style>\n",
       "<table border=\"1\" class=\"dataframe\">\n",
       "  <thead>\n",
       "    <tr style=\"text-align: right;\">\n",
       "      <th></th>\n",
       "      <th>universe_id</th>\n",
       "      <th>universe_model</th>\n",
       "      <th>universe_exclude_features</th>\n",
       "      <th>universe_exclude_subgroups</th>\n",
       "      <th>q_hat</th>\n",
       "      <th>coverage</th>\n",
       "      <th>avg_size</th>\n",
       "    </tr>\n",
       "  </thead>\n",
       "  <tbody>\n",
       "    <tr>\n",
       "      <th>0</th>\n",
       "      <td>41eaf70782011ea35bf8303122f41955</td>\n",
       "      <td>elasticnet</td>\n",
       "      <td>none</td>\n",
       "      <td>drop-non-german</td>\n",
       "      <td>0.689756</td>\n",
       "      <td>0.906209</td>\n",
       "      <td>1.134322</td>\n",
       "    </tr>\n",
       "  </tbody>\n",
       "</table>\n",
       "</div>"
      ],
      "text/plain": [
       "                        universe_id universe_model universe_exclude_features  \\\n",
       "0  41eaf70782011ea35bf8303122f41955     elasticnet                      none   \n",
       "\n",
       "  universe_exclude_subgroups     q_hat  coverage  avg_size  \n",
       "0            drop-non-german  0.689756  0.906209  1.134322  "
      ]
     },
     "execution_count": 45,
     "metadata": {},
     "output_type": "execute_result"
    }
   ],
   "source": [
    "cp_metrics_df"
   ]
  },
  {
   "cell_type": "code",
   "execution_count": 46,
   "id": "b7fbde55-a0a1-47e4-9af6-fe4a17fa8c61",
   "metadata": {
    "execution": {
     "iopub.execute_input": "2025-07-22T09:22:39.293890Z",
     "iopub.status.busy": "2025-07-22T09:22:39.293441Z",
     "iopub.status.idle": "2025-07-22T09:22:39.297292Z",
     "shell.execute_reply": "2025-07-22T09:22:39.296538Z"
    },
    "papermill": {
     "duration": 0.01604,
     "end_time": "2025-07-22T09:22:39.298571",
     "exception": false,
     "start_time": "2025-07-22T09:22:39.282531",
     "status": "completed"
    },
    "tags": []
   },
   "outputs": [],
   "source": [
    "# Conditional Coverage & looking at subgroups"
   ]
  },
  {
   "cell_type": "code",
   "execution_count": 47,
   "id": "027ae886-68dd-4141-96c7-805a5450e1ef",
   "metadata": {
    "execution": {
     "iopub.execute_input": "2025-07-22T09:22:39.321130Z",
     "iopub.status.busy": "2025-07-22T09:22:39.320627Z",
     "iopub.status.idle": "2025-07-22T09:22:39.502659Z",
     "shell.execute_reply": "2025-07-22T09:22:39.501912Z"
    },
    "papermill": {
     "duration": 0.194635,
     "end_time": "2025-07-22T09:22:39.504366",
     "exception": false,
     "start_time": "2025-07-22T09:22:39.309731",
     "status": "completed"
    },
    "tags": []
   },
   "outputs": [],
   "source": [
    "from fairness_multiverse.conformal import build_cp_groups\n",
    "\n",
    "cp_groups_df = build_cp_groups(pred_sets, y_true, X_test.index, org_test)\n",
    "#needs universe_id and setting"
   ]
  },
  {
   "cell_type": "code",
   "execution_count": 48,
   "id": "c3b92545-903e-4839-89af-0f057907d7d6",
   "metadata": {
    "execution": {
     "iopub.execute_input": "2025-07-22T09:22:39.542775Z",
     "iopub.status.busy": "2025-07-22T09:22:39.542253Z",
     "iopub.status.idle": "2025-07-22T09:22:40.439358Z",
     "shell.execute_reply": "2025-07-22T09:22:40.438575Z"
    },
    "papermill": {
     "duration": 0.917834,
     "end_time": "2025-07-22T09:22:40.441209",
     "exception": false,
     "start_time": "2025-07-22T09:22:39.523375",
     "status": "completed"
    },
    "tags": []
   },
   "outputs": [],
   "source": [
    "# Define covered = 1 if true_label is in the predicted set\n",
    "cp_groups_df['covered'] = cp_groups_df.apply(\n",
    "    lambda r: int(r['true_label'] in r['pred_set']),\n",
    "    axis=1\n",
    ")"
   ]
  },
  {
   "cell_type": "code",
   "execution_count": 49,
   "id": "338ff529-1a6b-4b87-a931-8e4788d52aad",
   "metadata": {
    "execution": {
     "iopub.execute_input": "2025-07-22T09:22:40.481429Z",
     "iopub.status.busy": "2025-07-22T09:22:40.481092Z",
     "iopub.status.idle": "2025-07-22T09:22:40.485790Z",
     "shell.execute_reply": "2025-07-22T09:22:40.485048Z"
    },
    "papermill": {
     "duration": 0.025817,
     "end_time": "2025-07-22T09:22:40.487228",
     "exception": false,
     "start_time": "2025-07-22T09:22:40.461411",
     "status": "completed"
    },
    "tags": []
   },
   "outputs": [],
   "source": [
    "#cp_groups_df"
   ]
  },
  {
   "cell_type": "code",
   "execution_count": 50,
   "id": "90032e27-66df-4540-9169-4e89cfbaa758",
   "metadata": {
    "execution": {
     "iopub.execute_input": "2025-07-22T09:22:40.510888Z",
     "iopub.status.busy": "2025-07-22T09:22:40.510528Z",
     "iopub.status.idle": "2025-07-22T09:22:40.519694Z",
     "shell.execute_reply": "2025-07-22T09:22:40.519015Z"
    },
    "papermill": {
     "duration": 0.022249,
     "end_time": "2025-07-22T09:22:40.521123",
     "exception": false,
     "start_time": "2025-07-22T09:22:40.498874",
     "status": "completed"
    },
    "tags": []
   },
   "outputs": [],
   "source": [
    "subgroups = ['frau1','nongerman','nongerman_male','nongerman_female']\n",
    "\n",
    "# Conditional coverage for subgroup==1\n",
    "cond_coverage = {\n",
    "    g: cp_groups_df.loc[cp_groups_df[g]==1, 'covered'].mean()\n",
    "    for g in subgroups\n",
    "}"
   ]
  },
  {
   "cell_type": "code",
   "execution_count": 51,
   "id": "1e348fb1-b9c3-45bc-ba23-f016827a7e0d",
   "metadata": {
    "execution": {
     "iopub.execute_input": "2025-07-22T09:22:40.561046Z",
     "iopub.status.busy": "2025-07-22T09:22:40.560658Z",
     "iopub.status.idle": "2025-07-22T09:22:40.566365Z",
     "shell.execute_reply": "2025-07-22T09:22:40.565633Z"
    },
    "papermill": {
     "duration": 0.026963,
     "end_time": "2025-07-22T09:22:40.567911",
     "exception": false,
     "start_time": "2025-07-22T09:22:40.540948",
     "status": "completed"
    },
    "tags": []
   },
   "outputs": [
    {
     "data": {
      "text/plain": [
       "{'frau1': 0.9052702520555331,\n",
       " 'nongerman': 0.9073148823892663,\n",
       " 'nongerman_male': 0.922183193731424,\n",
       " 'nongerman_female': 0.8827123695976155}"
      ]
     },
     "execution_count": 51,
     "metadata": {},
     "output_type": "execute_result"
    }
   ],
   "source": [
    "cond_coverage"
   ]
  },
  {
   "cell_type": "code",
   "execution_count": 52,
   "id": "f5093324-c3dd-4d63-bc4c-8d945e5c8bbb",
   "metadata": {
    "execution": {
     "iopub.execute_input": "2025-07-22T09:22:40.608247Z",
     "iopub.status.busy": "2025-07-22T09:22:40.607559Z",
     "iopub.status.idle": "2025-07-22T09:22:40.613165Z",
     "shell.execute_reply": "2025-07-22T09:22:40.612385Z"
    },
    "papermill": {
     "duration": 0.027164,
     "end_time": "2025-07-22T09:22:40.614814",
     "exception": false,
     "start_time": "2025-07-22T09:22:40.587650",
     "status": "completed"
    },
    "tags": []
   },
   "outputs": [],
   "source": [
    "for subgroup, cov in cond_coverage.items():\n",
    "    cp_metrics_df[f\"cov_{subgroup}\"] = cov"
   ]
  },
  {
   "cell_type": "code",
   "execution_count": 53,
   "id": "6e872e10-dbe5-49e8-b554-5030c98ff75d",
   "metadata": {
    "execution": {
     "iopub.execute_input": "2025-07-22T09:22:40.654995Z",
     "iopub.status.busy": "2025-07-22T09:22:40.654663Z",
     "iopub.status.idle": "2025-07-22T09:22:40.666609Z",
     "shell.execute_reply": "2025-07-22T09:22:40.665830Z"
    },
    "papermill": {
     "duration": 0.03346,
     "end_time": "2025-07-22T09:22:40.668179",
     "exception": false,
     "start_time": "2025-07-22T09:22:40.634719",
     "status": "completed"
    },
    "tags": []
   },
   "outputs": [
    {
     "data": {
      "text/html": [
       "<div>\n",
       "<style scoped>\n",
       "    .dataframe tbody tr th:only-of-type {\n",
       "        vertical-align: middle;\n",
       "    }\n",
       "\n",
       "    .dataframe tbody tr th {\n",
       "        vertical-align: top;\n",
       "    }\n",
       "\n",
       "    .dataframe thead th {\n",
       "        text-align: right;\n",
       "    }\n",
       "</style>\n",
       "<table border=\"1\" class=\"dataframe\">\n",
       "  <thead>\n",
       "    <tr style=\"text-align: right;\">\n",
       "      <th></th>\n",
       "      <th>universe_id</th>\n",
       "      <th>universe_model</th>\n",
       "      <th>universe_exclude_features</th>\n",
       "      <th>universe_exclude_subgroups</th>\n",
       "      <th>q_hat</th>\n",
       "      <th>coverage</th>\n",
       "      <th>avg_size</th>\n",
       "      <th>cov_frau1</th>\n",
       "      <th>cov_nongerman</th>\n",
       "      <th>cov_nongerman_male</th>\n",
       "      <th>cov_nongerman_female</th>\n",
       "    </tr>\n",
       "  </thead>\n",
       "  <tbody>\n",
       "    <tr>\n",
       "      <th>0</th>\n",
       "      <td>41eaf70782011ea35bf8303122f41955</td>\n",
       "      <td>elasticnet</td>\n",
       "      <td>none</td>\n",
       "      <td>drop-non-german</td>\n",
       "      <td>0.689756</td>\n",
       "      <td>0.906209</td>\n",
       "      <td>1.134322</td>\n",
       "      <td>0.90527</td>\n",
       "      <td>0.907315</td>\n",
       "      <td>0.922183</td>\n",
       "      <td>0.882712</td>\n",
       "    </tr>\n",
       "  </tbody>\n",
       "</table>\n",
       "</div>"
      ],
      "text/plain": [
       "                        universe_id universe_model universe_exclude_features  \\\n",
       "0  41eaf70782011ea35bf8303122f41955     elasticnet                      none   \n",
       "\n",
       "  universe_exclude_subgroups     q_hat  coverage  avg_size  cov_frau1  \\\n",
       "0            drop-non-german  0.689756  0.906209  1.134322    0.90527   \n",
       "\n",
       "   cov_nongerman  cov_nongerman_male  cov_nongerman_female  \n",
       "0       0.907315            0.922183              0.882712  "
      ]
     },
     "execution_count": 53,
     "metadata": {},
     "output_type": "execute_result"
    }
   ],
   "source": [
    "cp_metrics_df"
   ]
  },
  {
   "cell_type": "markdown",
   "id": "33774451",
   "metadata": {
    "papermill": {
     "duration": 0.0193,
     "end_time": "2025-07-22T09:22:40.707933",
     "exception": false,
     "start_time": "2025-07-22T09:22:40.688633",
     "status": "completed"
    },
    "tags": []
   },
   "source": [
    "# (Fairness) Metrics"
   ]
  },
  {
   "cell_type": "code",
   "execution_count": 54,
   "id": "debc5d62",
   "metadata": {
    "execution": {
     "iopub.execute_input": "2025-07-22T09:22:40.747526Z",
     "iopub.status.busy": "2025-07-22T09:22:40.747165Z",
     "iopub.status.idle": "2025-07-22T09:22:40.767555Z",
     "shell.execute_reply": "2025-07-22T09:22:40.766796Z"
    },
    "papermill": {
     "duration": 0.041823,
     "end_time": "2025-07-22T09:22:40.768865",
     "exception": false,
     "start_time": "2025-07-22T09:22:40.727042",
     "status": "completed"
    },
    "tags": []
   },
   "outputs": [],
   "source": [
    "# do I need to include maxdeutsch1.missing?\n",
    "\n",
    "import numpy as np\n",
    "\n",
    "colname_to_bin = \"maxdeutsch1\"\n",
    "majority_value = org_train[colname_to_bin].mode()[0]\n",
    "\n",
    "org_test[\"majmin\"] = np.where(org_test[colname_to_bin] == majority_value, \"majority\", \"minority\")"
   ]
  },
  {
   "cell_type": "code",
   "execution_count": 55,
   "id": "06a50de5",
   "metadata": {
    "execution": {
     "iopub.execute_input": "2025-07-22T09:22:40.793085Z",
     "iopub.status.busy": "2025-07-22T09:22:40.792745Z",
     "iopub.status.idle": "2025-07-22T09:22:43.746451Z",
     "shell.execute_reply": "2025-07-22T09:22:43.745588Z"
    },
    "papermill": {
     "duration": 2.967148,
     "end_time": "2025-07-22T09:22:43.748196",
     "exception": false,
     "start_time": "2025-07-22T09:22:40.781048",
     "status": "completed"
    },
    "tags": []
   },
   "outputs": [],
   "source": [
    "example_universe = universe.copy()\n",
    "example_universe[\"cutoff\"] = example_universe[\"cutoff\"][0]\n",
    "example_universe[\"eval_fairness_grouping\"] = example_universe[\"eval_fairness_grouping\"][0]\n",
    "fairness_dict, metric_frame = universe_analysis.compute_metrics(\n",
    "    example_universe,\n",
    "    y_pred_prob=probs_test,\n",
    "    y_test=y_true,\n",
    "    org_test=org_test,\n",
    ")"
   ]
  },
  {
   "cell_type": "markdown",
   "id": "f95d4e02",
   "metadata": {
    "papermill": {
     "duration": 0.019057,
     "end_time": "2025-07-22T09:22:43.787142",
     "exception": false,
     "start_time": "2025-07-22T09:22:43.768085",
     "status": "completed"
    },
    "tags": []
   },
   "source": [
    "# Overall"
   ]
  },
  {
   "cell_type": "markdown",
   "id": "bdee4871",
   "metadata": {
    "papermill": {
     "duration": 0.019076,
     "end_time": "2025-07-22T09:22:43.825262",
     "exception": false,
     "start_time": "2025-07-22T09:22:43.806186",
     "status": "completed"
    },
    "tags": []
   },
   "source": [
    "Fairness\n",
    "Main fairness target: Equalized Odds. Seems to be a better fit than equal opportunity, since we're not only interested in Y = 1. Seems to be a better fit than demographic parity, since we also care about accuracy, not just equal distribution of preds.\n",
    "\n",
    "Pick column for computation of fairness metrics\n",
    "\n",
    "Performance\n",
    "Overall performance measures, most interesting in relation to the measures split by group below"
   ]
  },
  {
   "cell_type": "code",
   "execution_count": 56,
   "id": "c4e067c6",
   "metadata": {
    "execution": {
     "iopub.execute_input": "2025-07-22T09:22:43.865183Z",
     "iopub.status.busy": "2025-07-22T09:22:43.864706Z",
     "iopub.status.idle": "2025-07-22T09:22:43.872711Z",
     "shell.execute_reply": "2025-07-22T09:22:43.871824Z"
    },
    "papermill": {
     "duration": 0.029961,
     "end_time": "2025-07-22T09:22:43.874426",
     "exception": false,
     "start_time": "2025-07-22T09:22:43.844465",
     "status": "completed"
    },
    "tags": []
   },
   "outputs": [
    {
     "data": {
      "text/plain": [
       "accuracy                   0.220901\n",
       "balanced accuracy          0.540860\n",
       "f1                         0.242328\n",
       "precision                  0.138434\n",
       "false positive rate        0.889517\n",
       "false negative rate        0.028763\n",
       "selection rate             0.900000\n",
       "count                  89710.000000\n",
       "dtype: float64"
      ]
     },
     "execution_count": 56,
     "metadata": {},
     "output_type": "execute_result"
    }
   ],
   "source": [
    "metric_frame.overall"
   ]
  },
  {
   "cell_type": "markdown",
   "id": "e968fe9d",
   "metadata": {
    "papermill": {
     "duration": 0.019489,
     "end_time": "2025-07-22T09:22:43.914352",
     "exception": false,
     "start_time": "2025-07-22T09:22:43.894863",
     "status": "completed"
    },
    "tags": []
   },
   "source": [
    "By Group"
   ]
  },
  {
   "cell_type": "code",
   "execution_count": 57,
   "id": "ec325bce",
   "metadata": {
    "execution": {
     "iopub.execute_input": "2025-07-22T09:22:43.954998Z",
     "iopub.status.busy": "2025-07-22T09:22:43.954529Z",
     "iopub.status.idle": "2025-07-22T09:22:43.969805Z",
     "shell.execute_reply": "2025-07-22T09:22:43.968930Z"
    },
    "papermill": {
     "duration": 0.037727,
     "end_time": "2025-07-22T09:22:43.971472",
     "exception": false,
     "start_time": "2025-07-22T09:22:43.933745",
     "status": "completed"
    },
    "tags": []
   },
   "outputs": [
    {
     "data": {
      "text/html": [
       "<div>\n",
       "<style scoped>\n",
       "    .dataframe tbody tr th:only-of-type {\n",
       "        vertical-align: middle;\n",
       "    }\n",
       "\n",
       "    .dataframe tbody tr th {\n",
       "        vertical-align: top;\n",
       "    }\n",
       "\n",
       "    .dataframe thead th {\n",
       "        text-align: right;\n",
       "    }\n",
       "</style>\n",
       "<table border=\"1\" class=\"dataframe\">\n",
       "  <thead>\n",
       "    <tr style=\"text-align: right;\">\n",
       "      <th></th>\n",
       "      <th>accuracy</th>\n",
       "      <th>balanced accuracy</th>\n",
       "      <th>f1</th>\n",
       "      <th>precision</th>\n",
       "      <th>false positive rate</th>\n",
       "      <th>false negative rate</th>\n",
       "      <th>selection rate</th>\n",
       "      <th>count</th>\n",
       "    </tr>\n",
       "    <tr>\n",
       "      <th>majmin</th>\n",
       "      <th></th>\n",
       "      <th></th>\n",
       "      <th></th>\n",
       "      <th></th>\n",
       "      <th></th>\n",
       "      <th></th>\n",
       "      <th></th>\n",
       "      <th></th>\n",
       "    </tr>\n",
       "  </thead>\n",
       "  <tbody>\n",
       "    <tr>\n",
       "      <th>majority</th>\n",
       "      <td>0.242735</td>\n",
       "      <td>0.549852</td>\n",
       "      <td>0.252376</td>\n",
       "      <td>0.145120</td>\n",
       "      <td>0.867583</td>\n",
       "      <td>0.032713</td>\n",
       "      <td>0.880758</td>\n",
       "      <td>69170.0</td>\n",
       "    </tr>\n",
       "    <tr>\n",
       "      <th>minority</th>\n",
       "      <td>0.147371</td>\n",
       "      <td>0.512256</td>\n",
       "      <td>0.210593</td>\n",
       "      <td>0.117879</td>\n",
       "      <td>0.961974</td>\n",
       "      <td>0.013514</td>\n",
       "      <td>0.964800</td>\n",
       "      <td>20540.0</td>\n",
       "    </tr>\n",
       "  </tbody>\n",
       "</table>\n",
       "</div>"
      ],
      "text/plain": [
       "          accuracy  balanced accuracy        f1  precision  \\\n",
       "majmin                                                       \n",
       "majority  0.242735           0.549852  0.252376   0.145120   \n",
       "minority  0.147371           0.512256  0.210593   0.117879   \n",
       "\n",
       "          false positive rate  false negative rate  selection rate    count  \n",
       "majmin                                                                       \n",
       "majority             0.867583             0.032713        0.880758  69170.0  \n",
       "minority             0.961974             0.013514        0.964800  20540.0  "
      ]
     },
     "execution_count": 57,
     "metadata": {},
     "output_type": "execute_result"
    }
   ],
   "source": [
    "metric_frame.by_group"
   ]
  },
  {
   "cell_type": "code",
   "execution_count": 58,
   "id": "a9ddbe63",
   "metadata": {
    "execution": {
     "iopub.execute_input": "2025-07-22T09:22:44.014354Z",
     "iopub.status.busy": "2025-07-22T09:22:44.013905Z",
     "iopub.status.idle": "2025-07-22T09:22:46.278916Z",
     "shell.execute_reply": "2025-07-22T09:22:46.278095Z"
    },
    "papermill": {
     "duration": 2.287674,
     "end_time": "2025-07-22T09:22:46.280404",
     "exception": false,
     "start_time": "2025-07-22T09:22:43.992730",
     "status": "completed"
    },
    "tags": []
   },
   "outputs": [
    {
     "data": {
      "text/plain": [
       "array([[<Axes: title={'center': 'accuracy'}, xlabel='majmin'>,\n",
       "        <Axes: title={'center': 'balanced accuracy'}, xlabel='majmin'>,\n",
       "        <Axes: title={'center': 'f1'}, xlabel='majmin'>],\n",
       "       [<Axes: title={'center': 'precision'}, xlabel='majmin'>,\n",
       "        <Axes: title={'center': 'false positive rate'}, xlabel='majmin'>,\n",
       "        <Axes: title={'center': 'false negative rate'}, xlabel='majmin'>],\n",
       "       [<Axes: title={'center': 'selection rate'}, xlabel='majmin'>,\n",
       "        <Axes: title={'center': 'count'}, xlabel='majmin'>,\n",
       "        <Axes: xlabel='majmin'>]], dtype=object)"
      ]
     },
     "execution_count": 58,
     "metadata": {},
     "output_type": "execute_result"
    },
    {
     "data": {
      "image/png": "[encoded data removed]",
      "text/plain": [
       "<Figure size 1200x800 with 9 Axes>"
      ]
     },
     "metadata": {},
     "output_type": "display_data"
    }
   ],
   "source": [
    "# In a graphic\n",
    "metric_frame.by_group.plot.bar(\n",
    "    subplots=True,\n",
    "    layout=[3, 3],\n",
    "    legend=False,\n",
    "    figsize=[12, 8],\n",
    "    title=\"Show all metrics\",\n",
    ")"
   ]
  },
  {
   "cell_type": "markdown",
   "id": "f57a0bac",
   "metadata": {
    "papermill": {
     "duration": 0.020962,
     "end_time": "2025-07-22T09:22:46.323308",
     "exception": false,
     "start_time": "2025-07-22T09:22:46.302346",
     "status": "completed"
    },
    "tags": []
   },
   "source": [
    "# Final Output"
   ]
  },
  {
   "cell_type": "code",
   "execution_count": 59,
   "id": "96d280a3",
   "metadata": {
    "execution": {
     "iopub.execute_input": "2025-07-22T09:22:46.367748Z",
     "iopub.status.busy": "2025-07-22T09:22:46.367153Z",
     "iopub.status.idle": "2025-07-22T09:22:46.374662Z",
     "shell.execute_reply": "2025-07-22T09:22:46.373757Z"
    },
    "papermill": {
     "duration": 0.031371,
     "end_time": "2025-07-22T09:22:46.376295",
     "exception": false,
     "start_time": "2025-07-22T09:22:46.344924",
     "status": "completed"
    },
    "tags": []
   },
   "outputs": [
    {
     "data": {
      "text/plain": [
       "4"
      ]
     },
     "execution_count": 59,
     "metadata": {},
     "output_type": "execute_result"
    }
   ],
   "source": [
    "sub_universes = universe_analysis.generate_sub_universes()\n",
    "len(sub_universes)"
   ]
  },
  {
   "cell_type": "code",
   "execution_count": 60,
   "id": "92adf7ba",
   "metadata": {
    "execution": {
     "iopub.execute_input": "2025-07-22T09:22:46.421715Z",
     "iopub.status.busy": "2025-07-22T09:22:46.420903Z",
     "iopub.status.idle": "2025-07-22T09:22:46.426782Z",
     "shell.execute_reply": "2025-07-22T09:22:46.425941Z"
    },
    "papermill": {
     "duration": 0.029692,
     "end_time": "2025-07-22T09:22:46.428250",
     "exception": false,
     "start_time": "2025-07-22T09:22:46.398558",
     "status": "completed"
    },
    "tags": []
   },
   "outputs": [],
   "source": [
    "def filter_sub_universe_data(sub_universe, org_test):\n",
    "    # Keep all rows — no filtering\n",
    "    keep_rows_mask = np.ones(org_test.shape[0], dtype=bool)\n",
    "\n",
    "    print(f\"[INFO] Keeping all rows: {keep_rows_mask.sum()} rows retained.\")\n",
    "    return keep_rows_mask"
   ]
  },
  {
   "cell_type": "code",
   "execution_count": 61,
   "id": "4a759155",
   "metadata": {
    "execution": {
     "iopub.execute_input": "2025-07-22T09:22:46.473946Z",
     "iopub.status.busy": "2025-07-22T09:22:46.473492Z",
     "iopub.status.idle": "2025-07-22T09:22:54.889002Z",
     "shell.execute_reply": "2025-07-22T09:22:54.888209Z"
    },
    "papermill": {
     "duration": 8.439389,
     "end_time": "2025-07-22T09:22:54.890241",
     "exception": false,
     "start_time": "2025-07-22T09:22:46.450852",
     "status": "completed"
    },
    "tags": []
   },
   "outputs": [
    {
     "name": "stdout",
     "output_type": "stream",
     "text": [
      "Stopping execution_time clock.\n",
      "[INFO] Keeping all rows: 89710 rows retained.\n"
     ]
    },
    {
     "name": "stdout",
     "output_type": "stream",
     "text": [
      "[INFO] Keeping all rows: 89710 rows retained.\n"
     ]
    },
    {
     "name": "stdout",
     "output_type": "stream",
     "text": [
      "[INFO] Keeping all rows: 89710 rows retained.\n"
     ]
    },
    {
     "name": "stdout",
     "output_type": "stream",
     "text": [
      "[INFO] Keeping all rows: 89710 rows retained.\n"
     ]
    },
    {
     "data": {
      "text/html": [
       "<div>\n",
       "<style scoped>\n",
       "    .dataframe tbody tr th:only-of-type {\n",
       "        vertical-align: middle;\n",
       "    }\n",
       "\n",
       "    .dataframe tbody tr th {\n",
       "        vertical-align: top;\n",
       "    }\n",
       "\n",
       "    .dataframe thead th {\n",
       "        text-align: right;\n",
       "    }\n",
       "</style>\n",
       "<table border=\"1\" class=\"dataframe\">\n",
       "  <thead>\n",
       "    <tr style=\"text-align: right;\">\n",
       "      <th></th>\n",
       "      <th>run_no</th>\n",
       "      <th>universe_id</th>\n",
       "      <th>universe_settings</th>\n",
       "      <th>execution_time</th>\n",
       "      <th>test_size_n</th>\n",
       "      <th>test_size_frac</th>\n",
       "      <th>fair_main_equalized_odds_difference</th>\n",
       "      <th>fair_main_equalized_odds_ratio</th>\n",
       "      <th>fair_main_demographic_parity_difference</th>\n",
       "      <th>fair_main_demographic_parity_ratio</th>\n",
       "      <th>...</th>\n",
       "      <th>perf_grp_precision_0</th>\n",
       "      <th>perf_grp_precision_1</th>\n",
       "      <th>perf_grp_false positive rate_0</th>\n",
       "      <th>perf_grp_false positive rate_1</th>\n",
       "      <th>perf_grp_false negative rate_0</th>\n",
       "      <th>perf_grp_false negative rate_1</th>\n",
       "      <th>perf_grp_selection rate_0</th>\n",
       "      <th>perf_grp_selection rate_1</th>\n",
       "      <th>perf_grp_count_0</th>\n",
       "      <th>perf_grp_count_1</th>\n",
       "    </tr>\n",
       "  </thead>\n",
       "  <tbody>\n",
       "    <tr>\n",
       "      <th>0</th>\n",
       "      <td>3</td>\n",
       "      <td>41eaf70782011ea35bf8303122f41955</td>\n",
       "      <td>{\"cutoff\": \"quantile_0.1\", \"eval_fairness_grou...</td>\n",
       "      <td>205.664818</td>\n",
       "      <td>89710</td>\n",
       "      <td>1.0</td>\n",
       "      <td>0.094392</td>\n",
       "      <td>0.901877</td>\n",
       "      <td>0.084043</td>\n",
       "      <td>0.912891</td>\n",
       "      <td>...</td>\n",
       "      <td>NaN</td>\n",
       "      <td>NaN</td>\n",
       "      <td>NaN</td>\n",
       "      <td>NaN</td>\n",
       "      <td>NaN</td>\n",
       "      <td>NaN</td>\n",
       "      <td>NaN</td>\n",
       "      <td>NaN</td>\n",
       "      <td>NaN</td>\n",
       "      <td>NaN</td>\n",
       "    </tr>\n",
       "    <tr>\n",
       "      <th>0</th>\n",
       "      <td>3</td>\n",
       "      <td>41eaf70782011ea35bf8303122f41955</td>\n",
       "      <td>{\"cutoff\": \"quantile_0.1\", \"eval_fairness_grou...</td>\n",
       "      <td>205.664818</td>\n",
       "      <td>89710</td>\n",
       "      <td>1.0</td>\n",
       "      <td>0.094392</td>\n",
       "      <td>0.901877</td>\n",
       "      <td>0.084043</td>\n",
       "      <td>0.912891</td>\n",
       "      <td>...</td>\n",
       "      <td>0.117879</td>\n",
       "      <td>0.145120</td>\n",
       "      <td>0.961974</td>\n",
       "      <td>0.867583</td>\n",
       "      <td>0.013514</td>\n",
       "      <td>0.032713</td>\n",
       "      <td>0.964800</td>\n",
       "      <td>0.880758</td>\n",
       "      <td>20540.0</td>\n",
       "      <td>69170.0</td>\n",
       "    </tr>\n",
       "    <tr>\n",
       "      <th>0</th>\n",
       "      <td>3</td>\n",
       "      <td>41eaf70782011ea35bf8303122f41955</td>\n",
       "      <td>{\"cutoff\": \"quantile_0.25\", \"eval_fairness_gro...</td>\n",
       "      <td>205.664818</td>\n",
       "      <td>89710</td>\n",
       "      <td>1.0</td>\n",
       "      <td>0.208653</td>\n",
       "      <td>0.764743</td>\n",
       "      <td>0.185773</td>\n",
       "      <td>0.792022</td>\n",
       "      <td>...</td>\n",
       "      <td>NaN</td>\n",
       "      <td>NaN</td>\n",
       "      <td>NaN</td>\n",
       "      <td>NaN</td>\n",
       "      <td>NaN</td>\n",
       "      <td>NaN</td>\n",
       "      <td>NaN</td>\n",
       "      <td>NaN</td>\n",
       "      <td>NaN</td>\n",
       "      <td>NaN</td>\n",
       "    </tr>\n",
       "    <tr>\n",
       "      <th>0</th>\n",
       "      <td>3</td>\n",
       "      <td>41eaf70782011ea35bf8303122f41955</td>\n",
       "      <td>{\"cutoff\": \"quantile_0.25\", \"eval_fairness_gro...</td>\n",
       "      <td>205.664818</td>\n",
       "      <td>89710</td>\n",
       "      <td>1.0</td>\n",
       "      <td>0.208653</td>\n",
       "      <td>0.764743</td>\n",
       "      <td>0.185773</td>\n",
       "      <td>0.792022</td>\n",
       "      <td>...</td>\n",
       "      <td>0.121546</td>\n",
       "      <td>0.167957</td>\n",
       "      <td>0.886914</td>\n",
       "      <td>0.678261</td>\n",
       "      <td>0.058277</td>\n",
       "      <td>0.100766</td>\n",
       "      <td>0.893233</td>\n",
       "      <td>0.707460</td>\n",
       "      <td>20540.0</td>\n",
       "      <td>69170.0</td>\n",
       "    </tr>\n",
       "  </tbody>\n",
       "</table>\n",
       "<p>4 rows × 50 columns</p>\n",
       "</div>"
      ],
      "text/plain": [
       "  run_no                       universe_id  \\\n",
       "0      3  41eaf70782011ea35bf8303122f41955   \n",
       "0      3  41eaf70782011ea35bf8303122f41955   \n",
       "0      3  41eaf70782011ea35bf8303122f41955   \n",
       "0      3  41eaf70782011ea35bf8303122f41955   \n",
       "\n",
       "                                   universe_settings  execution_time  \\\n",
       "0  {\"cutoff\": \"quantile_0.1\", \"eval_fairness_grou...      205.664818   \n",
       "0  {\"cutoff\": \"quantile_0.1\", \"eval_fairness_grou...      205.664818   \n",
       "0  {\"cutoff\": \"quantile_0.25\", \"eval_fairness_gro...      205.664818   \n",
       "0  {\"cutoff\": \"quantile_0.25\", \"eval_fairness_gro...      205.664818   \n",
       "\n",
       "   test_size_n  test_size_frac  fair_main_equalized_odds_difference  \\\n",
       "0        89710             1.0                             0.094392   \n",
       "0        89710             1.0                             0.094392   \n",
       "0        89710             1.0                             0.208653   \n",
       "0        89710             1.0                             0.208653   \n",
       "\n",
       "   fair_main_equalized_odds_ratio  fair_main_demographic_parity_difference  \\\n",
       "0                        0.901877                                 0.084043   \n",
       "0                        0.901877                                 0.084043   \n",
       "0                        0.764743                                 0.185773   \n",
       "0                        0.764743                                 0.185773   \n",
       "\n",
       "   fair_main_demographic_parity_ratio  ...  perf_grp_precision_0  \\\n",
       "0                            0.912891  ...                   NaN   \n",
       "0                            0.912891  ...              0.117879   \n",
       "0                            0.792022  ...                   NaN   \n",
       "0                            0.792022  ...              0.121546   \n",
       "\n",
       "   perf_grp_precision_1  perf_grp_false positive rate_0  \\\n",
       "0                   NaN                             NaN   \n",
       "0              0.145120                        0.961974   \n",
       "0                   NaN                             NaN   \n",
       "0              0.167957                        0.886914   \n",
       "\n",
       "   perf_grp_false positive rate_1  perf_grp_false negative rate_0  \\\n",
       "0                             NaN                             NaN   \n",
       "0                        0.867583                        0.013514   \n",
       "0                             NaN                             NaN   \n",
       "0                        0.678261                        0.058277   \n",
       "\n",
       "   perf_grp_false negative rate_1  perf_grp_selection rate_0  \\\n",
       "0                             NaN                        NaN   \n",
       "0                        0.032713                   0.964800   \n",
       "0                             NaN                        NaN   \n",
       "0                        0.100766                   0.893233   \n",
       "\n",
       "   perf_grp_selection rate_1  perf_grp_count_0  perf_grp_count_1  \n",
       "0                        NaN               NaN               NaN  \n",
       "0                   0.880758           20540.0           69170.0  \n",
       "0                        NaN               NaN               NaN  \n",
       "0                   0.707460           20540.0           69170.0  \n",
       "\n",
       "[4 rows x 50 columns]"
      ]
     },
     "execution_count": 61,
     "metadata": {},
     "output_type": "execute_result"
    }
   ],
   "source": [
    "final_output = universe_analysis.generate_final_output(\n",
    "    y_pred_prob=probs_test,\n",
    "    y_test=y_true,\n",
    "    org_test=org_test,\n",
    "    filter_data=filter_sub_universe_data,\n",
    "    cp_metrics_df=cp_metrics_df,\n",
    "    save=True,\n",
    ")\n",
    "final_output"
   ]
  },
  {
   "cell_type": "code",
   "execution_count": null,
   "id": "721ff514-cb11-46f8-b6fc-50392f74b5cb",
   "metadata": {
    "papermill": {
     "duration": 0.012607,
     "end_time": "2025-07-22T09:22:54.919008",
     "exception": false,
     "start_time": "2025-07-22T09:22:54.906401",
     "status": "completed"
    },
    "tags": []
   },
   "outputs": [],
   "source": []
  }
 ],
 "metadata": {
  "celltoolbar": "Tags",
  "kernelspec": {
   "display_name": "Python (CMA Fairness)",
   "language": "python",
   "name": "cma_fair_env"
  },
  "language_info": {
   "codemirror_mode": {
    "name": "ipython",
    "version": 3
   },
   "file_extension": ".py",
   "mimetype": "text/x-python",
   "name": "python",
   "nbconvert_exporter": "python",
   "pygments_lexer": "ipython3",
   "version": "3.10.12"
  },
  "papermill": {
   "default_parameters": {},
   "duration": 218.34481,
   "end_time": "2025-07-22T09:22:55.548959",
   "environment_variables": {},
   "exception": null,
   "input_path": "universe_analysis.ipynb",
   "output_path": "output/runs/3/notebooks/m_3-41eaf70782011ea35bf8303122f41955.ipynb",
   "parameters": {
    "output_dir": "output",
    "run_no": "3",
    "seed": "2023",
    "universe": "{\"cutoff\": [\"quantile_0.1\", \"quantile_0.25\"], \"eval_fairness_grouping\": [\"majority-minority\", \"nationality-all\"], \"exclude_features\": \"none\", \"exclude_subgroups\": \"drop-non-german\", \"model\": \"elasticnet\", \"scale\": \"do-not-scale\"}",
    "universe_id": "41eaf70782011ea35bf8303122f41955"
   },
   "start_time": "2025-07-22T09:19:17.204149",
   "version": "2.6.0"
  }
 },
 "nbformat": 4,
 "nbformat_minor": 5
}