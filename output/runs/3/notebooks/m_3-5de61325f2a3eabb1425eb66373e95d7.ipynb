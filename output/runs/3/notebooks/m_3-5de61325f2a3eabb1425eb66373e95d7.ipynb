{
 "cells": [
  {
   "cell_type": "markdown",
   "id": "ef23dbb3",
   "metadata": {
    "papermill": {
     "duration": 0.022304,
     "end_time": "2025-08-19T18:32:23.404378",
     "exception": false,
     "start_time": "2025-08-19T18:32:23.382074",
     "status": "completed"
    },
    "tags": []
   },
   "source": [
    "# Setup"
   ]
  },
  {
   "cell_type": "code",
   "execution_count": 1,
   "id": "0bc8e7dc",
   "metadata": {
    "execution": {
     "iopub.execute_input": "2025-08-19T18:32:23.427388Z",
     "iopub.status.busy": "2025-08-19T18:32:23.426166Z",
     "iopub.status.idle": "2025-08-19T18:32:23.444030Z",
     "shell.execute_reply": "2025-08-19T18:32:23.443026Z"
    },
    "papermill": {
     "duration": 0.029973,
     "end_time": "2025-08-19T18:32:23.446036",
     "exception": false,
     "start_time": "2025-08-19T18:32:23.416063",
     "status": "completed"
    },
    "tags": []
   },
   "outputs": [
    {
     "name": "stdout",
     "output_type": "stream",
     "text": [
      "/dss/dsshome1/0C/ra93lal2/cma/CMA_Fairness_v2\n"
     ]
    },
    {
     "name": "stderr",
     "output_type": "stream",
     "text": [
      "/dss/dsshome1/0C/ra93lal2/.local/share/virtualenvs/CMA_Fairness_v2-3j10GkSs/lib/python3.10/site-packages/IPython/core/magics/osm.py:393: UserWarning: This is now an optional IPython functionality, using bookmarks requires you to install the `pickleshare` library.\n",
      "  bkms = self.shell.db.get('bookmarks', {})\n",
      "/dss/dsshome1/0C/ra93lal2/.local/share/virtualenvs/CMA_Fairness_v2-3j10GkSs/lib/python3.10/site-packages/IPython/core/magics/osm.py:417: UserWarning: This is now an optional IPython functionality, setting dhist requires you to install the `pickleshare` library.\n",
      "  self.shell.db['dhist'] = compress_dhist(dhist)[-100:]\n"
     ]
    }
   ],
   "source": [
    "%cd ~/cma/CMA_Fairness_v2"
   ]
  },
  {
   "cell_type": "markdown",
   "id": "9d235661",
   "metadata": {
    "papermill": {
     "duration": 0.009645,
     "end_time": "2025-08-19T18:32:23.470220",
     "exception": false,
     "start_time": "2025-08-19T18:32:23.460575",
     "status": "completed"
    },
    "tags": []
   },
   "source": [
    "The following cell holds the definition of our parameters, these values can be overriden by rendering the with e.g. the following command:\n",
    "\n",
    "papermill -p alpha 0.2 -p ratio 0.3 universe_analysis.ipynb output/test_run.ipynb"
   ]
  },
  {
   "cell_type": "code",
   "execution_count": 2,
   "id": "4a789d8e",
   "metadata": {
    "execution": {
     "iopub.execute_input": "2025-08-19T18:32:23.490222Z",
     "iopub.status.busy": "2025-08-19T18:32:23.489168Z",
     "iopub.status.idle": "2025-08-19T18:32:23.496129Z",
     "shell.execute_reply": "2025-08-19T18:32:23.494992Z"
    },
    "papermill": {
     "duration": 0.018451,
     "end_time": "2025-08-19T18:32:23.497628",
     "exception": false,
     "start_time": "2025-08-19T18:32:23.479177",
     "status": "completed"
    },
    "tags": []
   },
   "outputs": [
    {
     "name": "stdout",
     "output_type": "stream",
     "text": [
      "Current working directory: /dss/dsshome1/0C/ra93lal2/cma/CMA_Fairness_v2\n"
     ]
    }
   ],
   "source": [
    "import os\n",
    "print(\"Current working directory:\", os.getcwd())"
   ]
  },
  {
   "cell_type": "code",
   "execution_count": 3,
   "id": "4132aaed",
   "metadata": {
    "execution": {
     "iopub.execute_input": "2025-08-19T18:32:23.517618Z",
     "iopub.status.busy": "2025-08-19T18:32:23.516752Z",
     "iopub.status.idle": "2025-08-19T18:32:23.525167Z",
     "shell.execute_reply": "2025-08-19T18:32:23.524006Z"
    },
    "papermill": {
     "duration": 0.019809,
     "end_time": "2025-08-19T18:32:23.526660",
     "exception": false,
     "start_time": "2025-08-19T18:32:23.506851",
     "status": "completed"
    },
    "tags": [
     "parameters"
    ]
   },
   "outputs": [],
   "source": [
    "run_no = 0\n",
    "universe_id = \"test\"\n",
    "universe = {\n",
    "    \"training_size\": \"5k\", # \"25k\", \"5k\", \"1k\"\n",
    "    \"training_year\": \"2012_14\", # \"2014\", \"2012_14\", \"2010_14\"\n",
    "    \"scale\": \"scale\", # \"scale\", \"do-not-scale\",\n",
    "    \"model\": \"elasticnet\", # \"logreg\", \"penalized_logreg\", \"rf\", \"gbm\", \"elasticnet\"\n",
    "    \"cutoff\": [\"quantile_0.15\", \"quantile_0.30\"],\n",
    "    \"exclude_features\": \"age\", # \"none\", \"nationality\", \"sex\", \"nationality-sex\", \"age\"\n",
    "    \"exclude_subgroups\": \"drop-non-german\", # \"keep-all\", \"drop-non-german\"\n",
    "    \"eval_fairness_grouping\": [\"majority-minority\", \"nationality-all\"]\n",
    "}\n",
    "\n",
    "output_dir=\"./output\"\n",
    "seed=0"
   ]
  },
  {
   "cell_type": "code",
   "execution_count": 4,
   "id": "a48d95f4",
   "metadata": {
    "execution": {
     "iopub.execute_input": "2025-08-19T18:32:23.549142Z",
     "iopub.status.busy": "2025-08-19T18:32:23.548259Z",
     "iopub.status.idle": "2025-08-19T18:32:23.555483Z",
     "shell.execute_reply": "2025-08-19T18:32:23.554170Z"
    },
    "papermill": {
     "duration": 0.018838,
     "end_time": "2025-08-19T18:32:23.556974",
     "exception": false,
     "start_time": "2025-08-19T18:32:23.538136",
     "status": "completed"
    },
    "tags": [
     "injected-parameters"
    ]
   },
   "outputs": [],
   "source": [
    "# Parameters\n",
    "universe_id = \"5de61325f2a3eabb1425eb66373e95d7\"\n",
    "run_no = \"3\"\n",
    "universe = \"{\\\"cutoff\\\": [\\\"quantile_0.1\\\", \\\"quantile_0.25\\\"], \\\"eval_fairness_grouping\\\": [\\\"majority-minority\\\", \\\"nationality-all\\\"], \\\"exclude_features\\\": \\\"age\\\", \\\"exclude_subgroups\\\": \\\"drop-non-german\\\", \\\"model\\\": \\\"penalized_logreg\\\", \\\"scale\\\": \\\"scale\\\", \\\"training_size\\\": \\\"5k\\\", \\\"training_year\\\": \\\"2012_14\\\"}\"\n",
    "output_dir = \"output\"\n",
    "seed = \"2023\"\n"
   ]
  },
  {
   "cell_type": "code",
   "execution_count": 5,
   "id": "a5d7941f",
   "metadata": {
    "execution": {
     "iopub.execute_input": "2025-08-19T18:32:23.579258Z",
     "iopub.status.busy": "2025-08-19T18:32:23.578374Z",
     "iopub.status.idle": "2025-08-19T18:32:23.584750Z",
     "shell.execute_reply": "2025-08-19T18:32:23.583590Z"
    },
    "papermill": {
     "duration": 0.018046,
     "end_time": "2025-08-19T18:32:23.586432",
     "exception": false,
     "start_time": "2025-08-19T18:32:23.568386",
     "status": "completed"
    },
    "tags": []
   },
   "outputs": [],
   "source": [
    "import json\n",
    "if isinstance(universe, str):\n",
    "    universe = json.loads(universe)"
   ]
  },
  {
   "cell_type": "code",
   "execution_count": 6,
   "id": "7076ccb1",
   "metadata": {
    "execution": {
     "iopub.execute_input": "2025-08-19T18:32:23.609583Z",
     "iopub.status.busy": "2025-08-19T18:32:23.608461Z",
     "iopub.status.idle": "2025-08-19T18:32:23.658320Z",
     "shell.execute_reply": "2025-08-19T18:32:23.657682Z"
    },
    "papermill": {
     "duration": 0.062811,
     "end_time": "2025-08-19T18:32:23.660998",
     "exception": false,
     "start_time": "2025-08-19T18:32:23.598187",
     "status": "completed"
    },
    "tags": []
   },
   "outputs": [],
   "source": [
    "# Auto-reload the custom package\n",
    "%load_ext autoreload\n",
    "%autoreload 1\n",
    "%aimport fairness_multiverse"
   ]
  },
  {
   "cell_type": "code",
   "execution_count": 7,
   "id": "94c8eb93",
   "metadata": {
    "execution": {
     "iopub.execute_input": "2025-08-19T18:32:23.700615Z",
     "iopub.status.busy": "2025-08-19T18:32:23.699475Z",
     "iopub.status.idle": "2025-08-19T18:32:25.128524Z",
     "shell.execute_reply": "2025-08-19T18:32:25.127761Z"
    },
    "papermill": {
     "duration": 1.446194,
     "end_time": "2025-08-19T18:32:25.131626",
     "exception": false,
     "start_time": "2025-08-19T18:32:23.685432",
     "status": "completed"
    },
    "tags": []
   },
   "outputs": [],
   "source": [
    "from fairness_multiverse.universe import UniverseAnalysis\n",
    "\n",
    "universe_analysis = UniverseAnalysis(\n",
    "    run_no = run_no,\n",
    "    universe_id = universe_id,\n",
    "    universe = universe,\n",
    "    output_dir=output_dir,\n",
    ")"
   ]
  },
  {
   "cell_type": "code",
   "execution_count": 8,
   "id": "2a6381cf",
   "metadata": {
    "execution": {
     "iopub.execute_input": "2025-08-19T18:32:25.168076Z",
     "iopub.status.busy": "2025-08-19T18:32:25.166955Z",
     "iopub.status.idle": "2025-08-19T18:32:25.174773Z",
     "shell.execute_reply": "2025-08-19T18:32:25.173671Z"
    },
    "papermill": {
     "duration": 0.02195,
     "end_time": "2025-08-19T18:32:25.176281",
     "exception": false,
     "start_time": "2025-08-19T18:32:25.154331",
     "status": "completed"
    },
    "tags": []
   },
   "outputs": [
    {
     "name": "stdout",
     "output_type": "stream",
     "text": [
      "Using Seed: 2023\n"
     ]
    }
   ],
   "source": [
    "import numpy as np\n",
    "parsed_seed = int(seed)\n",
    "np.random.seed(parsed_seed)\n",
    "print(f\"Using Seed: {parsed_seed}\")"
   ]
  },
  {
   "cell_type": "markdown",
   "id": "b6e958b4",
   "metadata": {
    "papermill": {
     "duration": 0.009183,
     "end_time": "2025-08-19T18:32:25.195064",
     "exception": false,
     "start_time": "2025-08-19T18:32:25.185881",
     "status": "completed"
    },
    "tags": []
   },
   "source": [
    "# Loading Data"
   ]
  },
  {
   "cell_type": "code",
   "execution_count": 9,
   "id": "98701482",
   "metadata": {
    "execution": {
     "iopub.execute_input": "2025-08-19T18:32:25.215247Z",
     "iopub.status.busy": "2025-08-19T18:32:25.214308Z",
     "iopub.status.idle": "2025-08-19T18:32:35.165882Z",
     "shell.execute_reply": "2025-08-19T18:32:35.164882Z"
    },
    "papermill": {
     "duration": 9.963354,
     "end_time": "2025-08-19T18:32:35.167352",
     "exception": false,
     "start_time": "2025-08-19T18:32:25.203998",
     "status": "completed"
    },
    "tags": []
   },
   "outputs": [
    {
     "name": "stdout",
     "output_type": "stream",
     "text": [
      "Loading SIAB data from cache: data/siab_cached.csv.gz\n"
     ]
    },
    {
     "name": "stdout",
     "output_type": "stream",
     "text": [
      "(643690, 164)\n"
     ]
    }
   ],
   "source": [
    "from pathlib import Path\n",
    "import pandas as pd\n",
    "\n",
    "# File paths\n",
    "raw_file = Path(\"data/raw/siab.csv\")\n",
    "cache_file = Path(\"data/siab_cached.csv.gz\")\n",
    "\n",
    "# Ensure cache directory exists\n",
    "cache_file.parent.mkdir(parents=True, exist_ok=True)\n",
    "\n",
    "# Load with simple caching\n",
    "if cache_file.exists():\n",
    "    print(f\"Loading SIAB data from cache: {cache_file}\")\n",
    "    siab = pd.read_csv(cache_file, compression='gzip')\n",
    "else:\n",
    "    print(f\"Cache not found. Reading raw SIAB data: {raw_file}\")\n",
    "    siab = pd.read_csv(raw_file)\n",
    "    siab.to_csv(cache_file, index=False, compression='gzip')\n",
    "    print(f\"Cached SIAB data to: {cache_file}\")\n",
    "\n",
    "print(siab.shape)"
   ]
  },
  {
   "cell_type": "code",
   "execution_count": 10,
   "id": "058d2abb",
   "metadata": {
    "execution": {
     "iopub.execute_input": "2025-08-19T18:32:35.194563Z",
     "iopub.status.busy": "2025-08-19T18:32:35.194231Z",
     "iopub.status.idle": "2025-08-19T18:32:35.376056Z",
     "shell.execute_reply": "2025-08-19T18:32:35.375137Z"
    },
    "papermill": {
     "duration": 0.197398,
     "end_time": "2025-08-19T18:32:35.377503",
     "exception": false,
     "start_time": "2025-08-19T18:32:35.180105",
     "status": "completed"
    },
    "tags": []
   },
   "outputs": [
    {
     "data": {
      "text/html": [
       "<div>\n",
       "<style scoped>\n",
       "    .dataframe tbody tr th:only-of-type {\n",
       "        vertical-align: middle;\n",
       "    }\n",
       "\n",
       "    .dataframe tbody tr th {\n",
       "        vertical-align: top;\n",
       "    }\n",
       "\n",
       "    .dataframe thead th {\n",
       "        text-align: right;\n",
       "    }\n",
       "</style>\n",
       "<table border=\"1\" class=\"dataframe\">\n",
       "  <thead>\n",
       "    <tr style=\"text-align: right;\">\n",
       "      <th></th>\n",
       "      <th>persnr</th>\n",
       "      <th>year</th>\n",
       "      <th>nrEntry</th>\n",
       "      <th>ltue</th>\n",
       "      <th>employed_before</th>\n",
       "      <th>receipt_leh_before</th>\n",
       "      <th>receipt_lhg_before</th>\n",
       "      <th>se_before</th>\n",
       "      <th>ASU_notue_seeking_before</th>\n",
       "      <th>ASU_other_before</th>\n",
       "      <th>...</th>\n",
       "      <th>minijob_tot_dur_byage</th>\n",
       "      <th>ft_tot_dur_byage</th>\n",
       "      <th>befrist_tot_dur_byage</th>\n",
       "      <th>leih_tot_dur_byage</th>\n",
       "      <th>LHG_tot_dur_byage</th>\n",
       "      <th>LEH_tot_dur_byage</th>\n",
       "      <th>almp_tot_dur_byage</th>\n",
       "      <th>almp_aw_tot_dur_byage</th>\n",
       "      <th>se_tot_dur_byage</th>\n",
       "      <th>seeking1_tot_dur_byage</th>\n",
       "    </tr>\n",
       "  </thead>\n",
       "  <tbody>\n",
       "    <tr>\n",
       "      <th>0</th>\n",
       "      <td>7</td>\n",
       "      <td>2015</td>\n",
       "      <td>1</td>\n",
       "      <td>0</td>\n",
       "      <td>1</td>\n",
       "      <td>0</td>\n",
       "      <td>0</td>\n",
       "      <td>0</td>\n",
       "      <td>1</td>\n",
       "      <td>0</td>\n",
       "      <td>...</td>\n",
       "      <td>0.000000</td>\n",
       "      <td>0.000000</td>\n",
       "      <td>15.043478</td>\n",
       "      <td>0.000000</td>\n",
       "      <td>0.000000</td>\n",
       "      <td>0.000000</td>\n",
       "      <td>0.000000</td>\n",
       "      <td>0.000000</td>\n",
       "      <td>0.000000</td>\n",
       "      <td>0.000000</td>\n",
       "    </tr>\n",
       "    <tr>\n",
       "      <th>1</th>\n",
       "      <td>18</td>\n",
       "      <td>2010</td>\n",
       "      <td>1</td>\n",
       "      <td>1</td>\n",
       "      <td>0</td>\n",
       "      <td>0</td>\n",
       "      <td>0</td>\n",
       "      <td>0</td>\n",
       "      <td>0</td>\n",
       "      <td>0</td>\n",
       "      <td>...</td>\n",
       "      <td>0.000000</td>\n",
       "      <td>0.000000</td>\n",
       "      <td>0.000000</td>\n",
       "      <td>0.000000</td>\n",
       "      <td>0.000000</td>\n",
       "      <td>0.000000</td>\n",
       "      <td>0.000000</td>\n",
       "      <td>0.000000</td>\n",
       "      <td>0.000000</td>\n",
       "      <td>0.000000</td>\n",
       "    </tr>\n",
       "    <tr>\n",
       "      <th>2</th>\n",
       "      <td>18</td>\n",
       "      <td>2011</td>\n",
       "      <td>2</td>\n",
       "      <td>0</td>\n",
       "      <td>1</td>\n",
       "      <td>0</td>\n",
       "      <td>1</td>\n",
       "      <td>0</td>\n",
       "      <td>1</td>\n",
       "      <td>0</td>\n",
       "      <td>...</td>\n",
       "      <td>2.714286</td>\n",
       "      <td>2.714286</td>\n",
       "      <td>0.000000</td>\n",
       "      <td>0.000000</td>\n",
       "      <td>10.775510</td>\n",
       "      <td>0.000000</td>\n",
       "      <td>8.367347</td>\n",
       "      <td>0.000000</td>\n",
       "      <td>0.000000</td>\n",
       "      <td>9.836735</td>\n",
       "    </tr>\n",
       "    <tr>\n",
       "      <th>3</th>\n",
       "      <td>18</td>\n",
       "      <td>2012</td>\n",
       "      <td>3</td>\n",
       "      <td>0</td>\n",
       "      <td>1</td>\n",
       "      <td>0</td>\n",
       "      <td>1</td>\n",
       "      <td>0</td>\n",
       "      <td>1</td>\n",
       "      <td>0</td>\n",
       "      <td>...</td>\n",
       "      <td>4.200000</td>\n",
       "      <td>4.200000</td>\n",
       "      <td>0.000000</td>\n",
       "      <td>0.000000</td>\n",
       "      <td>12.100000</td>\n",
       "      <td>0.000000</td>\n",
       "      <td>9.400000</td>\n",
       "      <td>0.000000</td>\n",
       "      <td>0.000000</td>\n",
       "      <td>9.960000</td>\n",
       "    </tr>\n",
       "    <tr>\n",
       "      <th>4</th>\n",
       "      <td>18</td>\n",
       "      <td>2012</td>\n",
       "      <td>4</td>\n",
       "      <td>0</td>\n",
       "      <td>1</td>\n",
       "      <td>0</td>\n",
       "      <td>1</td>\n",
       "      <td>0</td>\n",
       "      <td>1</td>\n",
       "      <td>0</td>\n",
       "      <td>...</td>\n",
       "      <td>5.460000</td>\n",
       "      <td>5.460000</td>\n",
       "      <td>0.000000</td>\n",
       "      <td>0.000000</td>\n",
       "      <td>13.360000</td>\n",
       "      <td>0.000000</td>\n",
       "      <td>10.320000</td>\n",
       "      <td>0.000000</td>\n",
       "      <td>0.000000</td>\n",
       "      <td>10.280000</td>\n",
       "    </tr>\n",
       "    <tr>\n",
       "      <th>...</th>\n",
       "      <td>...</td>\n",
       "      <td>...</td>\n",
       "      <td>...</td>\n",
       "      <td>...</td>\n",
       "      <td>...</td>\n",
       "      <td>...</td>\n",
       "      <td>...</td>\n",
       "      <td>...</td>\n",
       "      <td>...</td>\n",
       "      <td>...</td>\n",
       "      <td>...</td>\n",
       "      <td>...</td>\n",
       "      <td>...</td>\n",
       "      <td>...</td>\n",
       "      <td>...</td>\n",
       "      <td>...</td>\n",
       "      <td>...</td>\n",
       "      <td>...</td>\n",
       "      <td>...</td>\n",
       "      <td>...</td>\n",
       "      <td>...</td>\n",
       "    </tr>\n",
       "    <tr>\n",
       "      <th>643685</th>\n",
       "      <td>1827860</td>\n",
       "      <td>2013</td>\n",
       "      <td>1</td>\n",
       "      <td>0</td>\n",
       "      <td>0</td>\n",
       "      <td>0</td>\n",
       "      <td>1</td>\n",
       "      <td>0</td>\n",
       "      <td>0</td>\n",
       "      <td>1</td>\n",
       "      <td>...</td>\n",
       "      <td>0.000000</td>\n",
       "      <td>0.000000</td>\n",
       "      <td>0.000000</td>\n",
       "      <td>0.000000</td>\n",
       "      <td>0.612903</td>\n",
       "      <td>0.000000</td>\n",
       "      <td>0.000000</td>\n",
       "      <td>0.000000</td>\n",
       "      <td>0.000000</td>\n",
       "      <td>0.000000</td>\n",
       "    </tr>\n",
       "    <tr>\n",
       "      <th>643686</th>\n",
       "      <td>1827860</td>\n",
       "      <td>2015</td>\n",
       "      <td>2</td>\n",
       "      <td>1</td>\n",
       "      <td>0</td>\n",
       "      <td>0</td>\n",
       "      <td>1</td>\n",
       "      <td>0</td>\n",
       "      <td>1</td>\n",
       "      <td>0</td>\n",
       "      <td>...</td>\n",
       "      <td>0.000000</td>\n",
       "      <td>0.000000</td>\n",
       "      <td>0.212121</td>\n",
       "      <td>0.212121</td>\n",
       "      <td>17.363636</td>\n",
       "      <td>0.000000</td>\n",
       "      <td>8.909091</td>\n",
       "      <td>0.000000</td>\n",
       "      <td>0.000000</td>\n",
       "      <td>7.121212</td>\n",
       "    </tr>\n",
       "    <tr>\n",
       "      <th>643687</th>\n",
       "      <td>1827860</td>\n",
       "      <td>2016</td>\n",
       "      <td>3</td>\n",
       "      <td>1</td>\n",
       "      <td>0</td>\n",
       "      <td>0</td>\n",
       "      <td>1</td>\n",
       "      <td>1</td>\n",
       "      <td>0</td>\n",
       "      <td>1</td>\n",
       "      <td>...</td>\n",
       "      <td>0.000000</td>\n",
       "      <td>0.000000</td>\n",
       "      <td>0.294118</td>\n",
       "      <td>0.205882</td>\n",
       "      <td>34.705882</td>\n",
       "      <td>0.000000</td>\n",
       "      <td>10.352941</td>\n",
       "      <td>1.705882</td>\n",
       "      <td>1.705882</td>\n",
       "      <td>23.911765</td>\n",
       "    </tr>\n",
       "    <tr>\n",
       "      <th>643688</th>\n",
       "      <td>1827869</td>\n",
       "      <td>2013</td>\n",
       "      <td>1</td>\n",
       "      <td>1</td>\n",
       "      <td>1</td>\n",
       "      <td>0</td>\n",
       "      <td>0</td>\n",
       "      <td>0</td>\n",
       "      <td>1</td>\n",
       "      <td>0</td>\n",
       "      <td>...</td>\n",
       "      <td>0.000000</td>\n",
       "      <td>0.000000</td>\n",
       "      <td>0.000000</td>\n",
       "      <td>0.000000</td>\n",
       "      <td>0.000000</td>\n",
       "      <td>0.525424</td>\n",
       "      <td>0.000000</td>\n",
       "      <td>0.000000</td>\n",
       "      <td>0.000000</td>\n",
       "      <td>0.000000</td>\n",
       "    </tr>\n",
       "    <tr>\n",
       "      <th>643689</th>\n",
       "      <td>1827869</td>\n",
       "      <td>2014</td>\n",
       "      <td>2</td>\n",
       "      <td>0</td>\n",
       "      <td>0</td>\n",
       "      <td>1</td>\n",
       "      <td>0</td>\n",
       "      <td>0</td>\n",
       "      <td>1</td>\n",
       "      <td>0</td>\n",
       "      <td>...</td>\n",
       "      <td>0.000000</td>\n",
       "      <td>0.666667</td>\n",
       "      <td>0.666667</td>\n",
       "      <td>0.000000</td>\n",
       "      <td>0.000000</td>\n",
       "      <td>8.950000</td>\n",
       "      <td>1.033333</td>\n",
       "      <td>0.083333</td>\n",
       "      <td>0.083333</td>\n",
       "      <td>8.133333</td>\n",
       "    </tr>\n",
       "  </tbody>\n",
       "</table>\n",
       "<p>643690 rows × 164 columns</p>\n",
       "</div>"
      ],
      "text/plain": [
       "         persnr  year  nrEntry  ltue  employed_before  receipt_leh_before  \\\n",
       "0             7  2015        1     0                1                   0   \n",
       "1            18  2010        1     1                0                   0   \n",
       "2            18  2011        2     0                1                   0   \n",
       "3            18  2012        3     0                1                   0   \n",
       "4            18  2012        4     0                1                   0   \n",
       "...         ...   ...      ...   ...              ...                 ...   \n",
       "643685  1827860  2013        1     0                0                   0   \n",
       "643686  1827860  2015        2     1                0                   0   \n",
       "643687  1827860  2016        3     1                0                   0   \n",
       "643688  1827869  2013        1     1                1                   0   \n",
       "643689  1827869  2014        2     0                0                   1   \n",
       "\n",
       "        receipt_lhg_before  se_before  ASU_notue_seeking_before  \\\n",
       "0                        0          0                         1   \n",
       "1                        0          0                         0   \n",
       "2                        1          0                         1   \n",
       "3                        1          0                         1   \n",
       "4                        1          0                         1   \n",
       "...                    ...        ...                       ...   \n",
       "643685                   1          0                         0   \n",
       "643686                   1          0                         1   \n",
       "643687                   1          1                         0   \n",
       "643688                   0          0                         1   \n",
       "643689                   0          0                         1   \n",
       "\n",
       "        ASU_other_before  ...  minijob_tot_dur_byage  ft_tot_dur_byage  \\\n",
       "0                      0  ...               0.000000          0.000000   \n",
       "1                      0  ...               0.000000          0.000000   \n",
       "2                      0  ...               2.714286          2.714286   \n",
       "3                      0  ...               4.200000          4.200000   \n",
       "4                      0  ...               5.460000          5.460000   \n",
       "...                  ...  ...                    ...               ...   \n",
       "643685                 1  ...               0.000000          0.000000   \n",
       "643686                 0  ...               0.000000          0.000000   \n",
       "643687                 1  ...               0.000000          0.000000   \n",
       "643688                 0  ...               0.000000          0.000000   \n",
       "643689                 0  ...               0.000000          0.666667   \n",
       "\n",
       "        befrist_tot_dur_byage  leih_tot_dur_byage  LHG_tot_dur_byage  \\\n",
       "0                   15.043478            0.000000           0.000000   \n",
       "1                    0.000000            0.000000           0.000000   \n",
       "2                    0.000000            0.000000          10.775510   \n",
       "3                    0.000000            0.000000          12.100000   \n",
       "4                    0.000000            0.000000          13.360000   \n",
       "...                       ...                 ...                ...   \n",
       "643685               0.000000            0.000000           0.612903   \n",
       "643686               0.212121            0.212121          17.363636   \n",
       "643687               0.294118            0.205882          34.705882   \n",
       "643688               0.000000            0.000000           0.000000   \n",
       "643689               0.666667            0.000000           0.000000   \n",
       "\n",
       "        LEH_tot_dur_byage  almp_tot_dur_byage  almp_aw_tot_dur_byage  \\\n",
       "0                0.000000            0.000000               0.000000   \n",
       "1                0.000000            0.000000               0.000000   \n",
       "2                0.000000            8.367347               0.000000   \n",
       "3                0.000000            9.400000               0.000000   \n",
       "4                0.000000           10.320000               0.000000   \n",
       "...                   ...                 ...                    ...   \n",
       "643685           0.000000            0.000000               0.000000   \n",
       "643686           0.000000            8.909091               0.000000   \n",
       "643687           0.000000           10.352941               1.705882   \n",
       "643688           0.525424            0.000000               0.000000   \n",
       "643689           8.950000            1.033333               0.083333   \n",
       "\n",
       "        se_tot_dur_byage  seeking1_tot_dur_byage  \n",
       "0               0.000000                0.000000  \n",
       "1               0.000000                0.000000  \n",
       "2               0.000000                9.836735  \n",
       "3               0.000000                9.960000  \n",
       "4               0.000000               10.280000  \n",
       "...                  ...                     ...  \n",
       "643685          0.000000                0.000000  \n",
       "643686          0.000000                7.121212  \n",
       "643687          1.705882               23.911765  \n",
       "643688          0.000000                0.000000  \n",
       "643689          0.083333                8.133333  \n",
       "\n",
       "[643690 rows x 164 columns]"
      ]
     },
     "execution_count": 10,
     "metadata": {},
     "output_type": "execute_result"
    }
   ],
   "source": [
    "siab"
   ]
  },
  {
   "cell_type": "markdown",
   "id": "1f87e805",
   "metadata": {
    "papermill": {
     "duration": 0.009915,
     "end_time": "2025-08-19T18:32:35.398488",
     "exception": false,
     "start_time": "2025-08-19T18:32:35.388573",
     "status": "completed"
    },
    "tags": []
   },
   "source": [
    "# Splitting Data and Setting Training Data Size"
   ]
  },
  {
   "cell_type": "code",
   "execution_count": 11,
   "id": "910ae358",
   "metadata": {
    "execution": {
     "iopub.execute_input": "2025-08-19T18:32:35.421098Z",
     "iopub.status.busy": "2025-08-19T18:32:35.420304Z",
     "iopub.status.idle": "2025-08-19T18:32:36.096015Z",
     "shell.execute_reply": "2025-08-19T18:32:36.095087Z"
    },
    "papermill": {
     "duration": 0.690663,
     "end_time": "2025-08-19T18:32:36.098879",
     "exception": false,
     "start_time": "2025-08-19T18:32:35.408216",
     "status": "completed"
    },
    "tags": []
   },
   "outputs": [],
   "source": [
    "from fairness_multiverse.universe import sample_by_year_size\n",
    "\n",
    "siab_train = sample_by_year_size(siab,\n",
    "                               training_year=universe[\"training_year\"],\n",
    "                               training_size=universe[\"training_size\"])"
   ]
  },
  {
   "cell_type": "code",
   "execution_count": 12,
   "id": "919c8ff5",
   "metadata": {
    "execution": {
     "iopub.execute_input": "2025-08-19T18:32:36.136283Z",
     "iopub.status.busy": "2025-08-19T18:32:36.135670Z",
     "iopub.status.idle": "2025-08-19T18:32:36.148704Z",
     "shell.execute_reply": "2025-08-19T18:32:36.147338Z"
    },
    "papermill": {
     "duration": 0.028621,
     "end_time": "2025-08-19T18:32:36.150216",
     "exception": false,
     "start_time": "2025-08-19T18:32:36.121595",
     "status": "completed"
    },
    "tags": []
   },
   "outputs": [
    {
     "data": {
      "text/plain": [
       "(5000, 164)"
      ]
     },
     "execution_count": 12,
     "metadata": {},
     "output_type": "execute_result"
    }
   ],
   "source": [
    "siab_train.shape"
   ]
  },
  {
   "cell_type": "code",
   "execution_count": 13,
   "id": "feb13bf4",
   "metadata": {
    "execution": {
     "iopub.execute_input": "2025-08-19T18:32:36.177258Z",
     "iopub.status.busy": "2025-08-19T18:32:36.176580Z",
     "iopub.status.idle": "2025-08-19T18:32:36.191310Z",
     "shell.execute_reply": "2025-08-19T18:32:36.190269Z"
    },
    "papermill": {
     "duration": 0.029047,
     "end_time": "2025-08-19T18:32:36.192892",
     "exception": false,
     "start_time": "2025-08-19T18:32:36.163845",
     "status": "completed"
    },
    "tags": []
   },
   "outputs": [
    {
     "data": {
      "text/plain": [
       "year\n",
       "2012    1667\n",
       "2013    1667\n",
       "2014    1666\n",
       "dtype: int64"
      ]
     },
     "metadata": {},
     "output_type": "display_data"
    }
   ],
   "source": [
    "display(siab_train.groupby(\"year\").size())"
   ]
  },
  {
   "cell_type": "code",
   "execution_count": 14,
   "id": "0997782f",
   "metadata": {
    "execution": {
     "iopub.execute_input": "2025-08-19T18:32:36.220996Z",
     "iopub.status.busy": "2025-08-19T18:32:36.220258Z",
     "iopub.status.idle": "2025-08-19T18:32:36.529380Z",
     "shell.execute_reply": "2025-08-19T18:32:36.528573Z"
    },
    "papermill": {
     "duration": 0.324511,
     "end_time": "2025-08-19T18:32:36.532190",
     "exception": false,
     "start_time": "2025-08-19T18:32:36.207679",
     "status": "completed"
    },
    "tags": []
   },
   "outputs": [],
   "source": [
    "#siab_train = siab_s[siab_s.year < 2015]\n",
    "siab_calib = siab[siab.year == 2015]\n",
    "siab_test = siab[siab.year == 2016]"
   ]
  },
  {
   "cell_type": "code",
   "execution_count": 15,
   "id": "2c1e4012",
   "metadata": {
    "execution": {
     "iopub.execute_input": "2025-08-19T18:32:36.569852Z",
     "iopub.status.busy": "2025-08-19T18:32:36.569250Z",
     "iopub.status.idle": "2025-08-19T18:32:36.576119Z",
     "shell.execute_reply": "2025-08-19T18:32:36.574870Z"
    },
    "papermill": {
     "duration": 0.022879,
     "end_time": "2025-08-19T18:32:36.578129",
     "exception": false,
     "start_time": "2025-08-19T18:32:36.555250",
     "status": "completed"
    },
    "tags": []
   },
   "outputs": [],
   "source": [
    "#siab_calib.shape"
   ]
  },
  {
   "cell_type": "code",
   "execution_count": 16,
   "id": "f66b54ca",
   "metadata": {
    "execution": {
     "iopub.execute_input": "2025-08-19T18:32:36.603746Z",
     "iopub.status.busy": "2025-08-19T18:32:36.603030Z",
     "iopub.status.idle": "2025-08-19T18:32:36.610129Z",
     "shell.execute_reply": "2025-08-19T18:32:36.608930Z"
    },
    "papermill": {
     "duration": 0.021359,
     "end_time": "2025-08-19T18:32:36.612171",
     "exception": false,
     "start_time": "2025-08-19T18:32:36.590812",
     "status": "completed"
    },
    "tags": []
   },
   "outputs": [],
   "source": [
    "#siab_test.shape"
   ]
  },
  {
   "cell_type": "code",
   "execution_count": 17,
   "id": "27e4384d",
   "metadata": {
    "execution": {
     "iopub.execute_input": "2025-08-19T18:32:36.637532Z",
     "iopub.status.busy": "2025-08-19T18:32:36.636862Z",
     "iopub.status.idle": "2025-08-19T18:32:36.649737Z",
     "shell.execute_reply": "2025-08-19T18:32:36.648037Z"
    },
    "papermill": {
     "duration": 0.0267,
     "end_time": "2025-08-19T18:32:36.651547",
     "exception": false,
     "start_time": "2025-08-19T18:32:36.624847",
     "status": "completed"
    },
    "tags": []
   },
   "outputs": [],
   "source": [
    "X_train = siab_train.iloc[:,4:164]\n",
    "y_train = siab_train.iloc[:, [3]]"
   ]
  },
  {
   "cell_type": "code",
   "execution_count": 18,
   "id": "08ee8389",
   "metadata": {
    "execution": {
     "iopub.execute_input": "2025-08-19T18:32:36.680918Z",
     "iopub.status.busy": "2025-08-19T18:32:36.680198Z",
     "iopub.status.idle": "2025-08-19T18:32:36.741277Z",
     "shell.execute_reply": "2025-08-19T18:32:36.740421Z"
    },
    "papermill": {
     "duration": 0.076648,
     "end_time": "2025-08-19T18:32:36.743757",
     "exception": false,
     "start_time": "2025-08-19T18:32:36.667109",
     "status": "completed"
    },
    "tags": []
   },
   "outputs": [],
   "source": [
    "X_calib = siab_calib.iloc[:,4:164]\n",
    "y_calib = siab_calib.iloc[:, [3]]"
   ]
  },
  {
   "cell_type": "code",
   "execution_count": 19,
   "id": "b7ff42e0",
   "metadata": {
    "execution": {
     "iopub.execute_input": "2025-08-19T18:32:36.781657Z",
     "iopub.status.busy": "2025-08-19T18:32:36.781065Z",
     "iopub.status.idle": "2025-08-19T18:32:36.842734Z",
     "shell.execute_reply": "2025-08-19T18:32:36.841920Z"
    },
    "papermill": {
     "duration": 0.078307,
     "end_time": "2025-08-19T18:32:36.845168",
     "exception": false,
     "start_time": "2025-08-19T18:32:36.766861",
     "status": "completed"
    },
    "tags": []
   },
   "outputs": [],
   "source": [
    "X_test = siab_test.iloc[:,4:164]\n",
    "y_true = siab_test.iloc[:, [3]]"
   ]
  },
  {
   "cell_type": "code",
   "execution_count": 20,
   "id": "0275101e",
   "metadata": {
    "execution": {
     "iopub.execute_input": "2025-08-19T18:32:36.883622Z",
     "iopub.status.busy": "2025-08-19T18:32:36.882994Z",
     "iopub.status.idle": "2025-08-19T18:32:37.007066Z",
     "shell.execute_reply": "2025-08-19T18:32:37.006310Z"
    },
    "papermill": {
     "duration": 0.140765,
     "end_time": "2025-08-19T18:32:37.009776",
     "exception": false,
     "start_time": "2025-08-19T18:32:36.869011",
     "status": "completed"
    },
    "tags": []
   },
   "outputs": [],
   "source": [
    "# Auxiliary data needed downstream in the pipeline\n",
    "\n",
    "org_train = X_train.copy()\n",
    "org_test = X_test.copy()\n",
    "org_calib = X_calib.copy()"
   ]
  },
  {
   "cell_type": "markdown",
   "id": "b461e618",
   "metadata": {
    "papermill": {
     "duration": 0.012819,
     "end_time": "2025-08-19T18:32:37.047183",
     "exception": false,
     "start_time": "2025-08-19T18:32:37.034364",
     "status": "completed"
    },
    "tags": []
   },
   "source": [
    "# Preprocessing Data"
   ]
  },
  {
   "cell_type": "code",
   "execution_count": 21,
   "id": "78e74c4b",
   "metadata": {
    "execution": {
     "iopub.execute_input": "2025-08-19T18:32:37.070334Z",
     "iopub.status.busy": "2025-08-19T18:32:37.069626Z",
     "iopub.status.idle": "2025-08-19T18:32:37.078639Z",
     "shell.execute_reply": "2025-08-19T18:32:37.077613Z"
    },
    "papermill": {
     "duration": 0.024748,
     "end_time": "2025-08-19T18:32:37.082082",
     "exception": false,
     "start_time": "2025-08-19T18:32:37.057334",
     "status": "completed"
    },
    "tags": []
   },
   "outputs": [],
   "source": [
    "# EXCLUDE PROTECTED FEATURES\n",
    "# --------------------------\n",
    "\n",
    "excluded_features = universe[\"exclude_features\"].split(\"-\")\n",
    "excluded_features_dictionary = {\n",
    "    \"nationality\": [\"maxdeutsch1\", \"maxdeutsch.Missing.\"],\n",
    "    \"sex\": [\"frau1\"],\n",
    "    \"age\": [\"age\"],\n",
    "}"
   ]
  },
  {
   "cell_type": "code",
   "execution_count": 22,
   "id": "f8e63555",
   "metadata": {
    "execution": {
     "iopub.execute_input": "2025-08-19T18:32:37.108307Z",
     "iopub.status.busy": "2025-08-19T18:32:37.107816Z",
     "iopub.status.idle": "2025-08-19T18:32:37.114388Z",
     "shell.execute_reply": "2025-08-19T18:32:37.113433Z"
    },
    "papermill": {
     "duration": 0.02046,
     "end_time": "2025-08-19T18:32:37.115921",
     "exception": false,
     "start_time": "2025-08-19T18:32:37.095461",
     "status": "completed"
    },
    "tags": []
   },
   "outputs": [],
   "source": [
    "excluded_features_columns = [\n",
    "    excluded_features_dictionary[f] for f in excluded_features if len(f) > 0 and f != \"none\"\n",
    "]"
   ]
  },
  {
   "cell_type": "code",
   "execution_count": 23,
   "id": "da781f7c",
   "metadata": {
    "execution": {
     "iopub.execute_input": "2025-08-19T18:32:37.164380Z",
     "iopub.status.busy": "2025-08-19T18:32:37.163283Z",
     "iopub.status.idle": "2025-08-19T18:32:37.170954Z",
     "shell.execute_reply": "2025-08-19T18:32:37.169762Z"
    },
    "papermill": {
     "duration": 0.047052,
     "end_time": "2025-08-19T18:32:37.176376",
     "exception": false,
     "start_time": "2025-08-19T18:32:37.129324",
     "status": "completed"
    },
    "tags": []
   },
   "outputs": [],
   "source": [
    "from fairness_multiverse.universe import flatten_once\n",
    "\n",
    "excluded_features_columns = flatten_once(excluded_features_columns)"
   ]
  },
  {
   "cell_type": "code",
   "execution_count": 24,
   "id": "37fef0f0",
   "metadata": {
    "execution": {
     "iopub.execute_input": "2025-08-19T18:32:37.206688Z",
     "iopub.status.busy": "2025-08-19T18:32:37.206277Z",
     "iopub.status.idle": "2025-08-19T18:32:37.217396Z",
     "shell.execute_reply": "2025-08-19T18:32:37.216669Z"
    },
    "papermill": {
     "duration": 0.024963,
     "end_time": "2025-08-19T18:32:37.219351",
     "exception": false,
     "start_time": "2025-08-19T18:32:37.194388",
     "status": "completed"
    },
    "tags": []
   },
   "outputs": [
    {
     "name": "stdout",
     "output_type": "stream",
     "text": [
      "Dropping features: ['age']\n"
     ]
    }
   ],
   "source": [
    "if len(excluded_features_columns) > 0:\n",
    "    print(f\"Dropping features: {excluded_features_columns}\")\n",
    "    X_train.drop(excluded_features_columns, axis=1, inplace=True)"
   ]
  },
  {
   "cell_type": "code",
   "execution_count": 25,
   "id": "d029e3e9",
   "metadata": {
    "execution": {
     "iopub.execute_input": "2025-08-19T18:32:37.265567Z",
     "iopub.status.busy": "2025-08-19T18:32:37.263697Z",
     "iopub.status.idle": "2025-08-19T18:32:37.335953Z",
     "shell.execute_reply": "2025-08-19T18:32:37.335162Z"
    },
    "papermill": {
     "duration": 0.104797,
     "end_time": "2025-08-19T18:32:37.338476",
     "exception": false,
     "start_time": "2025-08-19T18:32:37.233679",
     "status": "completed"
    },
    "tags": []
   },
   "outputs": [
    {
     "name": "stdout",
     "output_type": "stream",
     "text": [
      "Dropping features: ['age']\n"
     ]
    }
   ],
   "source": [
    "if len(excluded_features_columns) > 0:\n",
    "    print(f\"Dropping features: {excluded_features_columns}\")\n",
    "    X_test.drop(excluded_features_columns, axis=1, inplace=True)"
   ]
  },
  {
   "cell_type": "code",
   "execution_count": 26,
   "id": "01d571f0",
   "metadata": {
    "execution": {
     "iopub.execute_input": "2025-08-19T18:32:37.378217Z",
     "iopub.status.busy": "2025-08-19T18:32:37.377627Z",
     "iopub.status.idle": "2025-08-19T18:32:37.434429Z",
     "shell.execute_reply": "2025-08-19T18:32:37.433535Z"
    },
    "papermill": {
     "duration": 0.07389,
     "end_time": "2025-08-19T18:32:37.436962",
     "exception": false,
     "start_time": "2025-08-19T18:32:37.363072",
     "status": "completed"
    },
    "tags": []
   },
   "outputs": [
    {
     "name": "stdout",
     "output_type": "stream",
     "text": [
      "Dropping features: ['age']\n"
     ]
    }
   ],
   "source": [
    "if len(excluded_features_columns) > 0:\n",
    "    print(f\"Dropping features: {excluded_features_columns}\")\n",
    "    X_calib.drop(excluded_features_columns, axis=1, inplace=True)"
   ]
  },
  {
   "cell_type": "code",
   "execution_count": 27,
   "id": "3037356e",
   "metadata": {
    "execution": {
     "iopub.execute_input": "2025-08-19T18:32:37.478883Z",
     "iopub.status.busy": "2025-08-19T18:32:37.478189Z",
     "iopub.status.idle": "2025-08-19T18:32:37.486252Z",
     "shell.execute_reply": "2025-08-19T18:32:37.484969Z"
    },
    "papermill": {
     "duration": 0.024795,
     "end_time": "2025-08-19T18:32:37.487966",
     "exception": false,
     "start_time": "2025-08-19T18:32:37.463171",
     "status": "completed"
    },
    "tags": []
   },
   "outputs": [],
   "source": [
    "# EXCLUDE CERTAIN SUBGROUPS\n",
    "# -------------------------\n",
    "\n",
    "mode = universe.get(\"exclude_subgroups\", \"keep-all\") # Defaults to \"keep-all\" if the key is missing."
   ]
  },
  {
   "cell_type": "code",
   "execution_count": 28,
   "id": "9d1e63fd",
   "metadata": {
    "execution": {
     "iopub.execute_input": "2025-08-19T18:32:37.514869Z",
     "iopub.status.busy": "2025-08-19T18:32:37.514181Z",
     "iopub.status.idle": "2025-08-19T18:32:37.525269Z",
     "shell.execute_reply": "2025-08-19T18:32:37.524152Z"
    },
    "papermill": {
     "duration": 0.02529,
     "end_time": "2025-08-19T18:32:37.526807",
     "exception": false,
     "start_time": "2025-08-19T18:32:37.501517",
     "status": "completed"
    },
    "tags": []
   },
   "outputs": [],
   "source": [
    "if mode == \"keep-all\":\n",
    "    keep_mask = pd.Series(True, index=org_train.index)\n",
    "\n",
    "elif mode == \"drop-non-german\":\n",
    "    keep_mask = (org_train[\"maxdeutsch1\"] == 1) & (org_train[\"maxdeutsch.Missing.\"] == 0)\n",
    "\n",
    "else:\n",
    "    raise ValueError(f\"Unsupported mode for exclude_subgroups: {mode}\")"
   ]
  },
  {
   "cell_type": "code",
   "execution_count": 29,
   "id": "d3b65474",
   "metadata": {
    "execution": {
     "iopub.execute_input": "2025-08-19T18:32:37.557457Z",
     "iopub.status.busy": "2025-08-19T18:32:37.556771Z",
     "iopub.status.idle": "2025-08-19T18:32:37.567632Z",
     "shell.execute_reply": "2025-08-19T18:32:37.566287Z"
    },
    "papermill": {
     "duration": 0.02637,
     "end_time": "2025-08-19T18:32:37.569415",
     "exception": false,
     "start_time": "2025-08-19T18:32:37.543045",
     "status": "completed"
    },
    "tags": []
   },
   "outputs": [
    {
     "name": "stdout",
     "output_type": "stream",
     "text": [
      "Dropping 665 rows (13.30%) where mode='drop-non-german'\n"
     ]
    }
   ],
   "source": [
    "n_drop = (~keep_mask).sum() # Calculates how many rows are set to be dropped\n",
    "if n_drop > 0:\n",
    "    pct = n_drop / len(keep_mask) * 100\n",
    "    print(f\"Dropping {n_drop} rows ({pct:.2f}%) where mode='{mode}'\")"
   ]
  },
  {
   "cell_type": "code",
   "execution_count": 30,
   "id": "f44389b3",
   "metadata": {
    "execution": {
     "iopub.execute_input": "2025-08-19T18:32:37.600568Z",
     "iopub.status.busy": "2025-08-19T18:32:37.599834Z",
     "iopub.status.idle": "2025-08-19T18:32:37.617865Z",
     "shell.execute_reply": "2025-08-19T18:32:37.616819Z"
    },
    "papermill": {
     "duration": 0.033577,
     "end_time": "2025-08-19T18:32:37.619493",
     "exception": false,
     "start_time": "2025-08-19T18:32:37.585916",
     "status": "completed"
    },
    "tags": []
   },
   "outputs": [],
   "source": [
    "X_train = X_train[keep_mask]"
   ]
  },
  {
   "cell_type": "code",
   "execution_count": 31,
   "id": "ceca8c2a",
   "metadata": {
    "execution": {
     "iopub.execute_input": "2025-08-19T18:32:37.651420Z",
     "iopub.status.busy": "2025-08-19T18:32:37.650716Z",
     "iopub.status.idle": "2025-08-19T18:32:37.659577Z",
     "shell.execute_reply": "2025-08-19T18:32:37.658199Z"
    },
    "papermill": {
     "duration": 0.024417,
     "end_time": "2025-08-19T18:32:37.661017",
     "exception": false,
     "start_time": "2025-08-19T18:32:37.636600",
     "status": "completed"
    },
    "tags": []
   },
   "outputs": [],
   "source": [
    "y_train = y_train[keep_mask]"
   ]
  },
  {
   "cell_type": "markdown",
   "id": "04d31e2f",
   "metadata": {
    "papermill": {
     "duration": 0.010879,
     "end_time": "2025-08-19T18:32:37.685481",
     "exception": false,
     "start_time": "2025-08-19T18:32:37.674602",
     "status": "completed"
    },
    "tags": []
   },
   "source": [
    "# Model Training"
   ]
  },
  {
   "cell_type": "code",
   "execution_count": 32,
   "id": "db991733",
   "metadata": {
    "execution": {
     "iopub.execute_input": "2025-08-19T18:32:37.709936Z",
     "iopub.status.busy": "2025-08-19T18:32:37.709243Z",
     "iopub.status.idle": "2025-08-19T18:32:37.812762Z",
     "shell.execute_reply": "2025-08-19T18:32:37.811966Z"
    },
    "papermill": {
     "duration": 0.118959,
     "end_time": "2025-08-19T18:32:37.815481",
     "exception": false,
     "start_time": "2025-08-19T18:32:37.696522",
     "status": "completed"
    },
    "tags": []
   },
   "outputs": [],
   "source": [
    "from sklearn.linear_model import LogisticRegression\n",
    "from sklearn.ensemble import GradientBoostingClassifier, RandomForestClassifier\n",
    "\n",
    "if (universe[\"model\"] == \"logreg\"):\n",
    "    model = LogisticRegression() #penalty=\"none\", solver=\"newton-cg\", max_iter=1)\n",
    "elif (universe[\"model\"] == \"penalized_logreg\"):\n",
    "    model = LogisticRegression(penalty=\"l2\", C=0.1) #, solver=\"newton-cg\", max_iter=1)\n",
    "elif (universe[\"model\"] == \"rf\"):\n",
    "    model = RandomForestClassifier() # n_estimators=100, n_jobs=-1\n",
    "elif (universe[\"model\"] == \"gbm\"):\n",
    "    model = GradientBoostingClassifier()\n",
    "elif (universe[\"model\"] == \"elasticnet\"):\n",
    "    model = LogisticRegression(penalty = 'elasticnet', solver = 'saga', l1_ratio = 0.5) # max_iter=5000\n",
    "else:\n",
    "    raise \"Unsupported universe.model\""
   ]
  },
  {
   "cell_type": "code",
   "execution_count": 33,
   "id": "a4b5cd25",
   "metadata": {
    "execution": {
     "iopub.execute_input": "2025-08-19T18:32:37.855269Z",
     "iopub.status.busy": "2025-08-19T18:32:37.854647Z",
     "iopub.status.idle": "2025-08-19T18:32:37.864320Z",
     "shell.execute_reply": "2025-08-19T18:32:37.863065Z"
    },
    "papermill": {
     "duration": 0.025346,
     "end_time": "2025-08-19T18:32:37.865787",
     "exception": false,
     "start_time": "2025-08-19T18:32:37.840441",
     "status": "completed"
    },
    "tags": []
   },
   "outputs": [],
   "source": [
    "from sklearn.pipeline import Pipeline\n",
    "from sklearn.preprocessing import StandardScaler\n",
    "\n",
    "model = Pipeline([\n",
    "    #(\"continuous_processor\", continuous_processor),\n",
    "    #(\"categorical_preprocessor\", categorical_preprocessor),\n",
    "    (\"scale\", StandardScaler() if universe[\"scale\"] == \"scale\" else None), \n",
    "    (\"model\", model),\n",
    "])"
   ]
  },
  {
   "cell_type": "code",
   "execution_count": 34,
   "id": "283a904d",
   "metadata": {
    "execution": {
     "iopub.execute_input": "2025-08-19T18:32:37.894286Z",
     "iopub.status.busy": "2025-08-19T18:32:37.893598Z",
     "iopub.status.idle": "2025-08-19T18:32:38.011431Z",
     "shell.execute_reply": "2025-08-19T18:32:38.010721Z"
    },
    "papermill": {
     "duration": 0.134075,
     "end_time": "2025-08-19T18:32:38.014813",
     "exception": false,
     "start_time": "2025-08-19T18:32:37.880738",
     "status": "completed"
    },
    "tags": []
   },
   "outputs": [
    {
     "data": {
      "text/html": [
       "<style>#sk-container-id-1 {color: black;background-color: white;}#sk-container-id-1 pre{padding: 0;}#sk-container-id-1 div.sk-toggleable {background-color: white;}#sk-container-id-1 label.sk-toggleable__label {cursor: pointer;display: block;width: 100%;margin-bottom: 0;padding: 0.3em;box-sizing: border-box;text-align: center;}#sk-container-id-1 label.sk-toggleable__label-arrow:before {content: \"▸\";float: left;margin-right: 0.25em;color: #696969;}#sk-container-id-1 label.sk-toggleable__label-arrow:hover:before {color: black;}#sk-container-id-1 div.sk-estimator:hover label.sk-toggleable__label-arrow:before {color: black;}#sk-container-id-1 div.sk-toggleable__content {max-height: 0;max-width: 0;overflow: hidden;text-align: left;background-color: #f0f8ff;}#sk-container-id-1 div.sk-toggleable__content pre {margin: 0.2em;color: black;border-radius: 0.25em;background-color: #f0f8ff;}#sk-container-id-1 input.sk-toggleable__control:checked~div.sk-toggleable__content {max-height: 200px;max-width: 100%;overflow: auto;}#sk-container-id-1 input.sk-toggleable__control:checked~label.sk-toggleable__label-arrow:before {content: \"▾\";}#sk-container-id-1 div.sk-estimator input.sk-toggleable__control:checked~label.sk-toggleable__label {background-color: #d4ebff;}#sk-container-id-1 div.sk-label input.sk-toggleable__control:checked~label.sk-toggleable__label {background-color: #d4ebff;}#sk-container-id-1 input.sk-hidden--visually {border: 0;clip: rect(1px 1px 1px 1px);clip: rect(1px, 1px, 1px, 1px);height: 1px;margin: -1px;overflow: hidden;padding: 0;position: absolute;width: 1px;}#sk-container-id-1 div.sk-estimator {font-family: monospace;background-color: #f0f8ff;border: 1px dotted black;border-radius: 0.25em;box-sizing: border-box;margin-bottom: 0.5em;}#sk-container-id-1 div.sk-estimator:hover {background-color: #d4ebff;}#sk-container-id-1 div.sk-parallel-item::after {content: \"\";width: 100%;border-bottom: 1px solid gray;flex-grow: 1;}#sk-container-id-1 div.sk-label:hover label.sk-toggleable__label {background-color: #d4ebff;}#sk-container-id-1 div.sk-serial::before {content: \"\";position: absolute;border-left: 1px solid gray;box-sizing: border-box;top: 0;bottom: 0;left: 50%;z-index: 0;}#sk-container-id-1 div.sk-serial {display: flex;flex-direction: column;align-items: center;background-color: white;padding-right: 0.2em;padding-left: 0.2em;position: relative;}#sk-container-id-1 div.sk-item {position: relative;z-index: 1;}#sk-container-id-1 div.sk-parallel {display: flex;align-items: stretch;justify-content: center;background-color: white;position: relative;}#sk-container-id-1 div.sk-item::before, #sk-container-id-1 div.sk-parallel-item::before {content: \"\";position: absolute;border-left: 1px solid gray;box-sizing: border-box;top: 0;bottom: 0;left: 50%;z-index: -1;}#sk-container-id-1 div.sk-parallel-item {display: flex;flex-direction: column;z-index: 1;position: relative;background-color: white;}#sk-container-id-1 div.sk-parallel-item:first-child::after {align-self: flex-end;width: 50%;}#sk-container-id-1 div.sk-parallel-item:last-child::after {align-self: flex-start;width: 50%;}#sk-container-id-1 div.sk-parallel-item:only-child::after {width: 0;}#sk-container-id-1 div.sk-dashed-wrapped {border: 1px dashed gray;margin: 0 0.4em 0.5em 0.4em;box-sizing: border-box;padding-bottom: 0.4em;background-color: white;}#sk-container-id-1 div.sk-label label {font-family: monospace;font-weight: bold;display: inline-block;line-height: 1.2em;}#sk-container-id-1 div.sk-label-container {text-align: center;}#sk-container-id-1 div.sk-container {/* jupyter's `normalize.less` sets `[hidden] { display: none; }` but bootstrap.min.css set `[hidden] { display: none !important; }` so we also need the `!important` here to be able to override the default hidden behavior on the sphinx rendered scikit-learn.org. See: https://github.com/scikit-learn/scikit-learn/issues/21755 */display: inline-block !important;position: relative;}#sk-container-id-1 div.sk-text-repr-fallback {display: none;}</style><div id=\"sk-container-id-1\" class=\"sk-top-container\"><div class=\"sk-text-repr-fallback\"><pre>Pipeline(steps=[(&#x27;scale&#x27;, StandardScaler()),\n",
       "                (&#x27;model&#x27;, LogisticRegression(C=0.1))])</pre><b>In a Jupyter environment, please rerun this cell to show the HTML representation or trust the notebook. <br />On GitHub, the HTML representation is unable to render, please try loading this page with nbviewer.org.</b></div><div class=\"sk-container\" hidden><div class=\"sk-item sk-dashed-wrapped\"><div class=\"sk-label-container\"><div class=\"sk-label sk-toggleable\"><input class=\"sk-toggleable__control sk-hidden--visually\" id=\"sk-estimator-id-1\" type=\"checkbox\" ><label for=\"sk-estimator-id-1\" class=\"sk-toggleable__label sk-toggleable__label-arrow\">Pipeline</label><div class=\"sk-toggleable__content\"><pre>Pipeline(steps=[(&#x27;scale&#x27;, StandardScaler()),\n",
       "                (&#x27;model&#x27;, LogisticRegression(C=0.1))])</pre></div></div></div><div class=\"sk-serial\"><div class=\"sk-item\"><div class=\"sk-estimator sk-toggleable\"><input class=\"sk-toggleable__control sk-hidden--visually\" id=\"sk-estimator-id-2\" type=\"checkbox\" ><label for=\"sk-estimator-id-2\" class=\"sk-toggleable__label sk-toggleable__label-arrow\">StandardScaler</label><div class=\"sk-toggleable__content\"><pre>StandardScaler()</pre></div></div></div><div class=\"sk-item\"><div class=\"sk-estimator sk-toggleable\"><input class=\"sk-toggleable__control sk-hidden--visually\" id=\"sk-estimator-id-3\" type=\"checkbox\" ><label for=\"sk-estimator-id-3\" class=\"sk-toggleable__label sk-toggleable__label-arrow\">LogisticRegression</label><div class=\"sk-toggleable__content\"><pre>LogisticRegression(C=0.1)</pre></div></div></div></div></div></div></div>"
      ],
      "text/plain": [
       "Pipeline(steps=[('scale', StandardScaler()),\n",
       "                ('model', LogisticRegression(C=0.1))])"
      ]
     },
     "execution_count": 34,
     "metadata": {},
     "output_type": "execute_result"
    }
   ],
   "source": [
    "model.fit(X_train, y_train.values.ravel())"
   ]
  },
  {
   "cell_type": "code",
   "execution_count": 35,
   "id": "6e15e313",
   "metadata": {
    "execution": {
     "iopub.execute_input": "2025-08-19T18:32:38.056454Z",
     "iopub.status.busy": "2025-08-19T18:32:38.055767Z",
     "iopub.status.idle": "2025-08-19T18:32:38.271998Z",
     "shell.execute_reply": "2025-08-19T18:32:38.271084Z"
    },
    "papermill": {
     "duration": 0.233954,
     "end_time": "2025-08-19T18:32:38.274761",
     "exception": false,
     "start_time": "2025-08-19T18:32:38.040807",
     "status": "completed"
    },
    "tags": []
   },
   "outputs": [
    {
     "data": {
      "text/plain": [
       "0.8572399955411882"
      ]
     },
     "execution_count": 35,
     "metadata": {},
     "output_type": "execute_result"
    }
   ],
   "source": [
    "from fairness_multiverse.universe import predict_w_threshold\n",
    "\n",
    "probs_test = model.predict_proba(X_test)\n",
    "\n",
    "'''\n",
    "Below code returns a boolean array (or binary 0/1 array depending on how it’s used) where each element \n",
    "is True if the probability of class 1 is greater than or equal to the threshold, and False otherwise.\n",
    "'''\n",
    "y_pred_default = predict_w_threshold(probs_test, 0.5)\n",
    "\n",
    "from sklearn.metrics import accuracy_score\n",
    "\n",
    "# Naive prediction\n",
    "accuracy_score(y_true = y_true, y_pred = y_pred_default)"
   ]
  },
  {
   "cell_type": "code",
   "execution_count": 36,
   "id": "6f14067c",
   "metadata": {
    "execution": {
     "iopub.execute_input": "2025-08-19T18:32:38.317496Z",
     "iopub.status.busy": "2025-08-19T18:32:38.316694Z",
     "iopub.status.idle": "2025-08-19T18:32:38.507023Z",
     "shell.execute_reply": "2025-08-19T18:32:38.506206Z"
    },
    "papermill": {
     "duration": 0.211672,
     "end_time": "2025-08-19T18:32:38.509877",
     "exception": false,
     "start_time": "2025-08-19T18:32:38.298205",
     "status": "completed"
    },
    "tags": []
   },
   "outputs": [
    {
     "data": {
      "text/plain": [
       "array([0, 0, 0, ..., 0, 0, 0])"
      ]
     },
     "execution_count": 36,
     "metadata": {},
     "output_type": "execute_result"
    }
   ],
   "source": [
    "model.predict(X_test)"
   ]
  },
  {
   "cell_type": "markdown",
   "id": "3759920c",
   "metadata": {
    "papermill": {
     "duration": 0.01368,
     "end_time": "2025-08-19T18:32:38.549869",
     "exception": false,
     "start_time": "2025-08-19T18:32:38.536189",
     "status": "completed"
    },
    "tags": []
   },
   "source": [
    "# Conformal Prediction"
   ]
  },
  {
   "cell_type": "code",
   "execution_count": 37,
   "id": "14b27f59",
   "metadata": {
    "execution": {
     "iopub.execute_input": "2025-08-19T18:32:38.575374Z",
     "iopub.status.busy": "2025-08-19T18:32:38.574646Z",
     "iopub.status.idle": "2025-08-19T18:32:38.582535Z",
     "shell.execute_reply": "2025-08-19T18:32:38.581284Z"
    },
    "papermill": {
     "duration": 0.023051,
     "end_time": "2025-08-19T18:32:38.584223",
     "exception": false,
     "start_time": "2025-08-19T18:32:38.561172",
     "status": "completed"
    },
    "tags": []
   },
   "outputs": [],
   "source": [
    "# Miscoverage level for conformal prediction (10% allowed error rate => 90% target coverage)\n",
    "alpha = 0.1"
   ]
  },
  {
   "cell_type": "code",
   "execution_count": 38,
   "id": "59102472",
   "metadata": {
    "execution": {
     "iopub.execute_input": "2025-08-19T18:32:38.616368Z",
     "iopub.status.busy": "2025-08-19T18:32:38.615664Z",
     "iopub.status.idle": "2025-08-19T18:32:38.804329Z",
     "shell.execute_reply": "2025-08-19T18:32:38.803518Z"
    },
    "papermill": {
     "duration": 0.206983,
     "end_time": "2025-08-19T18:32:38.807282",
     "exception": false,
     "start_time": "2025-08-19T18:32:38.600299",
     "status": "completed"
    },
    "tags": []
   },
   "outputs": [],
   "source": [
    "probs_calib = model.predict_proba(X_calib)"
   ]
  },
  {
   "cell_type": "code",
   "execution_count": 39,
   "id": "a792d4dd",
   "metadata": {
    "execution": {
     "iopub.execute_input": "2025-08-19T18:32:38.847915Z",
     "iopub.status.busy": "2025-08-19T18:32:38.847220Z",
     "iopub.status.idle": "2025-08-19T18:32:38.857235Z",
     "shell.execute_reply": "2025-08-19T18:32:38.856171Z"
    },
    "papermill": {
     "duration": 0.026361,
     "end_time": "2025-08-19T18:32:38.858794",
     "exception": false,
     "start_time": "2025-08-19T18:32:38.832433",
     "status": "completed"
    },
    "tags": []
   },
   "outputs": [],
   "source": [
    "y_calib = y_calib.values.ravel().astype(int)"
   ]
  },
  {
   "cell_type": "code",
   "execution_count": 40,
   "id": "650fd033",
   "metadata": {
    "execution": {
     "iopub.execute_input": "2025-08-19T18:32:38.888358Z",
     "iopub.status.busy": "2025-08-19T18:32:38.887664Z",
     "iopub.status.idle": "2025-08-19T18:32:38.900267Z",
     "shell.execute_reply": "2025-08-19T18:32:38.899171Z"
    },
    "papermill": {
     "duration": 0.028091,
     "end_time": "2025-08-19T18:32:38.901909",
     "exception": false,
     "start_time": "2025-08-19T18:32:38.873818",
     "status": "completed"
    },
    "tags": []
   },
   "outputs": [],
   "source": [
    "from fairness_multiverse.conformal import compute_nc_scores\n",
    "\n",
    "# Compute nonconformity scores on calibration set (1 - probability of true class)\n",
    "nc_scores = compute_nc_scores(probs_calib, y_calib)"
   ]
  },
  {
   "cell_type": "code",
   "execution_count": 41,
   "id": "28ada44c",
   "metadata": {
    "execution": {
     "iopub.execute_input": "2025-08-19T18:32:38.935116Z",
     "iopub.status.busy": "2025-08-19T18:32:38.934405Z",
     "iopub.status.idle": "2025-08-19T18:32:38.946002Z",
     "shell.execute_reply": "2025-08-19T18:32:38.944646Z"
    },
    "papermill": {
     "duration": 0.02785,
     "end_time": "2025-08-19T18:32:38.947582",
     "exception": false,
     "start_time": "2025-08-19T18:32:38.919732",
     "status": "completed"
    },
    "tags": []
   },
   "outputs": [],
   "source": [
    "from fairness_multiverse.conformal import find_threshold\n",
    "\n",
    "# Find conformal threshold q_hat for the given alpha (split conformal method)\n",
    "q_hat = find_threshold(nc_scores, alpha)"
   ]
  },
  {
   "cell_type": "code",
   "execution_count": 42,
   "id": "df56469e",
   "metadata": {
    "execution": {
     "iopub.execute_input": "2025-08-19T18:32:38.982177Z",
     "iopub.status.busy": "2025-08-19T18:32:38.981498Z",
     "iopub.status.idle": "2025-08-19T18:32:38.987820Z",
     "shell.execute_reply": "2025-08-19T18:32:38.987211Z"
    },
    "papermill": {
     "duration": 0.027407,
     "end_time": "2025-08-19T18:32:38.989098",
     "exception": false,
     "start_time": "2025-08-19T18:32:38.961691",
     "status": "completed"
    },
    "tags": []
   },
   "outputs": [
    {
     "data": {
      "text/plain": [
       "0.7005786000790749"
      ]
     },
     "execution_count": 42,
     "metadata": {},
     "output_type": "execute_result"
    }
   ],
   "source": [
    "q_hat"
   ]
  },
  {
   "cell_type": "code",
   "execution_count": 43,
   "id": "aa1f5faa",
   "metadata": {
    "execution": {
     "iopub.execute_input": "2025-08-19T18:32:39.030370Z",
     "iopub.status.busy": "2025-08-19T18:32:39.029319Z",
     "iopub.status.idle": "2025-08-19T18:32:39.640953Z",
     "shell.execute_reply": "2025-08-19T18:32:39.640064Z"
    },
    "papermill": {
     "duration": 0.640903,
     "end_time": "2025-08-19T18:32:39.644041",
     "exception": false,
     "start_time": "2025-08-19T18:32:39.003138",
     "status": "completed"
    },
    "tags": []
   },
   "outputs": [],
   "source": [
    "from fairness_multiverse.conformal import predict_conformal_sets\n",
    "\n",
    "# Generate prediction sets for each test example\n",
    "pred_sets = predict_conformal_sets(model, X_test, q_hat)"
   ]
  },
  {
   "cell_type": "code",
   "execution_count": 44,
   "id": "97f67a6b",
   "metadata": {
    "execution": {
     "iopub.execute_input": "2025-08-19T18:32:39.696896Z",
     "iopub.status.busy": "2025-08-19T18:32:39.695936Z",
     "iopub.status.idle": "2025-08-19T18:32:39.707311Z",
     "shell.execute_reply": "2025-08-19T18:32:39.705460Z"
    },
    "papermill": {
     "duration": 0.034468,
     "end_time": "2025-08-19T18:32:39.711807",
     "exception": false,
     "start_time": "2025-08-19T18:32:39.677339",
     "status": "completed"
    },
    "tags": []
   },
   "outputs": [],
   "source": [
    "y_true = y_true.squeeze()"
   ]
  },
  {
   "cell_type": "code",
   "execution_count": 45,
   "id": "e700e9a7",
   "metadata": {
    "execution": {
     "iopub.execute_input": "2025-08-19T18:32:39.747337Z",
     "iopub.status.busy": "2025-08-19T18:32:39.746388Z",
     "iopub.status.idle": "2025-08-19T18:32:40.251552Z",
     "shell.execute_reply": "2025-08-19T18:32:40.249970Z"
    },
    "papermill": {
     "duration": 0.522709,
     "end_time": "2025-08-19T18:32:40.255626",
     "exception": false,
     "start_time": "2025-08-19T18:32:39.732917",
     "status": "completed"
    },
    "tags": []
   },
   "outputs": [],
   "source": [
    "from fairness_multiverse.conformal import evaluate_sets\n",
    "\n",
    "# Evaluate coverage and average set size on test data\n",
    "metrics = evaluate_sets(pred_sets, y_true)"
   ]
  },
  {
   "cell_type": "markdown",
   "id": "efbacec0",
   "metadata": {
    "papermill": {
     "duration": 0.012631,
     "end_time": "2025-08-19T18:32:40.291983",
     "exception": false,
     "start_time": "2025-08-19T18:32:40.279352",
     "status": "completed"
    },
    "tags": []
   },
   "source": [
    "# CP Metrics"
   ]
  },
  {
   "cell_type": "code",
   "execution_count": 46,
   "id": "9de55fb1",
   "metadata": {
    "execution": {
     "iopub.execute_input": "2025-08-19T18:32:40.320385Z",
     "iopub.status.busy": "2025-08-19T18:32:40.318936Z",
     "iopub.status.idle": "2025-08-19T18:32:40.335965Z",
     "shell.execute_reply": "2025-08-19T18:32:40.334846Z"
    },
    "papermill": {
     "duration": 0.03401,
     "end_time": "2025-08-19T18:32:40.337824",
     "exception": false,
     "start_time": "2025-08-19T18:32:40.303814",
     "status": "completed"
    },
    "tags": []
   },
   "outputs": [
    {
     "data": {
      "text/plain": [
       "{'coverage': 0.9113922639616542, 'avg_size': 1.1376100769145023}"
      ]
     },
     "execution_count": 46,
     "metadata": {},
     "output_type": "execute_result"
    }
   ],
   "source": [
    "metrics"
   ]
  },
  {
   "cell_type": "code",
   "execution_count": 47,
   "id": "64c340a1",
   "metadata": {
    "execution": {
     "iopub.execute_input": "2025-08-19T18:32:40.368686Z",
     "iopub.status.busy": "2025-08-19T18:32:40.367712Z",
     "iopub.status.idle": "2025-08-19T18:32:40.377471Z",
     "shell.execute_reply": "2025-08-19T18:32:40.376264Z"
    },
    "papermill": {
     "duration": 0.024774,
     "end_time": "2025-08-19T18:32:40.379086",
     "exception": false,
     "start_time": "2025-08-19T18:32:40.354312",
     "status": "completed"
    },
    "tags": []
   },
   "outputs": [],
   "source": [
    "example_universe = universe.copy()\n",
    "universe_training_year = example_universe.get(\"training_year\")\n",
    "universe_training_size = example_universe.get(\"training_size\")\n",
    "universe_scale = example_universe.get(\"scale\")\n",
    "universe_model = example_universe.get(\"model\")\n",
    "universe_exclude_features = example_universe.get(\"exclude_features\")\n",
    "universe_exclude_subgroups = example_universe.get(\"exclude_subgroups\")"
   ]
  },
  {
   "cell_type": "code",
   "execution_count": 48,
   "id": "dbb53cb4",
   "metadata": {
    "execution": {
     "iopub.execute_input": "2025-08-19T18:32:40.407183Z",
     "iopub.status.busy": "2025-08-19T18:32:40.406252Z",
     "iopub.status.idle": "2025-08-19T18:32:40.416365Z",
     "shell.execute_reply": "2025-08-19T18:32:40.415127Z"
    },
    "papermill": {
     "duration": 0.025218,
     "end_time": "2025-08-19T18:32:40.418209",
     "exception": false,
     "start_time": "2025-08-19T18:32:40.392991",
     "status": "completed"
    },
    "tags": []
   },
   "outputs": [],
   "source": [
    "cp_metrics_dict = {\n",
    "    \"universe_id\": [universe_id],\n",
    "    \"universe_training_year\": [universe_training_year],\n",
    "    \"universe_training_size\": [universe_training_size],\n",
    "    \"universe_scale\": [universe_scale],\n",
    "    \"universe_model\": [universe_model],\n",
    "    \"universe_exclude_features\": [universe_exclude_features],\n",
    "    \"universe_exclude_subgroups\": [universe_exclude_subgroups],\n",
    "    \"q_hat\": [q_hat],\n",
    "    \"coverage\": [metrics[\"coverage\"]],\n",
    "    \"avg_size\": [metrics[\"avg_size\"]],\n",
    "}"
   ]
  },
  {
   "cell_type": "code",
   "execution_count": 49,
   "id": "0d70d4b2",
   "metadata": {
    "execution": {
     "iopub.execute_input": "2025-08-19T18:32:40.446285Z",
     "iopub.status.busy": "2025-08-19T18:32:40.445373Z",
     "iopub.status.idle": "2025-08-19T18:32:40.457434Z",
     "shell.execute_reply": "2025-08-19T18:32:40.456089Z"
    },
    "papermill": {
     "duration": 0.027313,
     "end_time": "2025-08-19T18:32:40.459365",
     "exception": false,
     "start_time": "2025-08-19T18:32:40.432052",
     "status": "completed"
    },
    "tags": []
   },
   "outputs": [],
   "source": [
    "cp_metrics_df = pd.DataFrame(cp_metrics_dict)"
   ]
  },
  {
   "cell_type": "code",
   "execution_count": 50,
   "id": "b494403c",
   "metadata": {
    "execution": {
     "iopub.execute_input": "2025-08-19T18:32:40.489456Z",
     "iopub.status.busy": "2025-08-19T18:32:40.488538Z",
     "iopub.status.idle": "2025-08-19T18:32:40.513735Z",
     "shell.execute_reply": "2025-08-19T18:32:40.512399Z"
    },
    "papermill": {
     "duration": 0.041011,
     "end_time": "2025-08-19T18:32:40.516233",
     "exception": false,
     "start_time": "2025-08-19T18:32:40.475222",
     "status": "completed"
    },
    "tags": []
   },
   "outputs": [
    {
     "data": {
      "text/html": [
       "<div>\n",
       "<style scoped>\n",
       "    .dataframe tbody tr th:only-of-type {\n",
       "        vertical-align: middle;\n",
       "    }\n",
       "\n",
       "    .dataframe tbody tr th {\n",
       "        vertical-align: top;\n",
       "    }\n",
       "\n",
       "    .dataframe thead th {\n",
       "        text-align: right;\n",
       "    }\n",
       "</style>\n",
       "<table border=\"1\" class=\"dataframe\">\n",
       "  <thead>\n",
       "    <tr style=\"text-align: right;\">\n",
       "      <th></th>\n",
       "      <th>universe_id</th>\n",
       "      <th>universe_training_year</th>\n",
       "      <th>universe_training_size</th>\n",
       "      <th>universe_scale</th>\n",
       "      <th>universe_model</th>\n",
       "      <th>universe_exclude_features</th>\n",
       "      <th>universe_exclude_subgroups</th>\n",
       "      <th>q_hat</th>\n",
       "      <th>coverage</th>\n",
       "      <th>avg_size</th>\n",
       "    </tr>\n",
       "  </thead>\n",
       "  <tbody>\n",
       "    <tr>\n",
       "      <th>0</th>\n",
       "      <td>5de61325f2a3eabb1425eb66373e95d7</td>\n",
       "      <td>2012_14</td>\n",
       "      <td>5k</td>\n",
       "      <td>scale</td>\n",
       "      <td>penalized_logreg</td>\n",
       "      <td>age</td>\n",
       "      <td>drop-non-german</td>\n",
       "      <td>0.700579</td>\n",
       "      <td>0.911392</td>\n",
       "      <td>1.13761</td>\n",
       "    </tr>\n",
       "  </tbody>\n",
       "</table>\n",
       "</div>"
      ],
      "text/plain": [
       "                        universe_id universe_training_year  \\\n",
       "0  5de61325f2a3eabb1425eb66373e95d7                2012_14   \n",
       "\n",
       "  universe_training_size universe_scale    universe_model  \\\n",
       "0                     5k          scale  penalized_logreg   \n",
       "\n",
       "  universe_exclude_features universe_exclude_subgroups     q_hat  coverage  \\\n",
       "0                       age            drop-non-german  0.700579  0.911392   \n",
       "\n",
       "   avg_size  \n",
       "0   1.13761  "
      ]
     },
     "execution_count": 50,
     "metadata": {},
     "output_type": "execute_result"
    }
   ],
   "source": [
    "cp_metrics_df"
   ]
  },
  {
   "cell_type": "markdown",
   "id": "ed608b0b",
   "metadata": {
    "papermill": {
     "duration": 0.012103,
     "end_time": "2025-08-19T18:32:40.546902",
     "exception": false,
     "start_time": "2025-08-19T18:32:40.534799",
     "status": "completed"
    },
    "tags": []
   },
   "source": [
    "Conditional coverage & looking at subgroups"
   ]
  },
  {
   "cell_type": "code",
   "execution_count": 51,
   "id": "8968c366",
   "metadata": {
    "execution": {
     "iopub.execute_input": "2025-08-19T18:32:40.573273Z",
     "iopub.status.busy": "2025-08-19T18:32:40.572287Z",
     "iopub.status.idle": "2025-08-19T18:32:40.855585Z",
     "shell.execute_reply": "2025-08-19T18:32:40.854461Z"
    },
    "papermill": {
     "duration": 0.300195,
     "end_time": "2025-08-19T18:32:40.858987",
     "exception": false,
     "start_time": "2025-08-19T18:32:40.558792",
     "status": "completed"
    },
    "tags": []
   },
   "outputs": [],
   "source": [
    "from fairness_multiverse.conformal import build_cp_groups\n",
    "\n",
    "cp_groups_df = build_cp_groups(pred_sets, y_true, X_test.index, org_test)"
   ]
  },
  {
   "cell_type": "code",
   "execution_count": 52,
   "id": "292ddabf",
   "metadata": {
    "execution": {
     "iopub.execute_input": "2025-08-19T18:32:40.899635Z",
     "iopub.status.busy": "2025-08-19T18:32:40.898670Z",
     "iopub.status.idle": "2025-08-19T18:32:41.769689Z",
     "shell.execute_reply": "2025-08-19T18:32:41.768002Z"
    },
    "papermill": {
     "duration": 0.887199,
     "end_time": "2025-08-19T18:32:41.771335",
     "exception": false,
     "start_time": "2025-08-19T18:32:40.884136",
     "status": "completed"
    },
    "tags": []
   },
   "outputs": [],
   "source": [
    "# Define covered = 1 if true_label is in the predicted set\n",
    "cp_groups_df['covered'] = cp_groups_df.apply(\n",
    "    lambda r: int(r['true_label'] in r['pred_set']),\n",
    "    axis=1\n",
    ")"
   ]
  },
  {
   "cell_type": "code",
   "execution_count": 53,
   "id": "3a261692",
   "metadata": {
    "execution": {
     "iopub.execute_input": "2025-08-19T18:32:41.805600Z",
     "iopub.status.busy": "2025-08-19T18:32:41.805167Z",
     "iopub.status.idle": "2025-08-19T18:32:41.818133Z",
     "shell.execute_reply": "2025-08-19T18:32:41.816977Z"
    },
    "papermill": {
     "duration": 0.035445,
     "end_time": "2025-08-19T18:32:41.820610",
     "exception": false,
     "start_time": "2025-08-19T18:32:41.785165",
     "status": "completed"
    },
    "tags": []
   },
   "outputs": [],
   "source": [
    "subgroups = ['frau1','nongerman','nongerman_male','nongerman_female']\n",
    "\n",
    "# Conditional coverage for subgroup==1\n",
    "cond_coverage = {\n",
    "    g: cp_groups_df.loc[cp_groups_df[g]==1, 'covered'].mean()\n",
    "    for g in subgroups\n",
    "}"
   ]
  },
  {
   "cell_type": "code",
   "execution_count": 54,
   "id": "894fd600",
   "metadata": {
    "execution": {
     "iopub.execute_input": "2025-08-19T18:32:41.881886Z",
     "iopub.status.busy": "2025-08-19T18:32:41.880755Z",
     "iopub.status.idle": "2025-08-19T18:32:41.901692Z",
     "shell.execute_reply": "2025-08-19T18:32:41.899046Z"
    },
    "papermill": {
     "duration": 0.044402,
     "end_time": "2025-08-19T18:32:41.905796",
     "exception": false,
     "start_time": "2025-08-19T18:32:41.861394",
     "status": "completed"
    },
    "tags": []
   },
   "outputs": [
    {
     "data": {
      "text/plain": [
       "{'frau1': 0.9045693489688638,\n",
       " 'nongerman': 0.9052938864873968,\n",
       " 'nongerman_male': 0.924885166171305,\n",
       " 'nongerman_female': 0.872876304023845}"
      ]
     },
     "execution_count": 54,
     "metadata": {},
     "output_type": "execute_result"
    }
   ],
   "source": [
    "cond_coverage"
   ]
  },
  {
   "cell_type": "code",
   "execution_count": 55,
   "id": "942895c7",
   "metadata": {
    "execution": {
     "iopub.execute_input": "2025-08-19T18:32:41.940989Z",
     "iopub.status.busy": "2025-08-19T18:32:41.940543Z",
     "iopub.status.idle": "2025-08-19T18:32:41.947356Z",
     "shell.execute_reply": "2025-08-19T18:32:41.946496Z"
    },
    "papermill": {
     "duration": 0.022462,
     "end_time": "2025-08-19T18:32:41.948937",
     "exception": false,
     "start_time": "2025-08-19T18:32:41.926475",
     "status": "completed"
    },
    "tags": []
   },
   "outputs": [],
   "source": [
    "for subgroup, cov in cond_coverage.items():\n",
    "    cp_metrics_df[f\"cov_{subgroup}\"] = cov"
   ]
  },
  {
   "cell_type": "code",
   "execution_count": 56,
   "id": "3970120f",
   "metadata": {
    "execution": {
     "iopub.execute_input": "2025-08-19T18:32:41.977081Z",
     "iopub.status.busy": "2025-08-19T18:32:41.976633Z",
     "iopub.status.idle": "2025-08-19T18:32:41.992078Z",
     "shell.execute_reply": "2025-08-19T18:32:41.991336Z"
    },
    "papermill": {
     "duration": 0.030957,
     "end_time": "2025-08-19T18:32:41.993361",
     "exception": false,
     "start_time": "2025-08-19T18:32:41.962404",
     "status": "completed"
    },
    "tags": []
   },
   "outputs": [
    {
     "data": {
      "text/html": [
       "<div>\n",
       "<style scoped>\n",
       "    .dataframe tbody tr th:only-of-type {\n",
       "        vertical-align: middle;\n",
       "    }\n",
       "\n",
       "    .dataframe tbody tr th {\n",
       "        vertical-align: top;\n",
       "    }\n",
       "\n",
       "    .dataframe thead th {\n",
       "        text-align: right;\n",
       "    }\n",
       "</style>\n",
       "<table border=\"1\" class=\"dataframe\">\n",
       "  <thead>\n",
       "    <tr style=\"text-align: right;\">\n",
       "      <th></th>\n",
       "      <th>universe_id</th>\n",
       "      <th>universe_training_year</th>\n",
       "      <th>universe_training_size</th>\n",
       "      <th>universe_scale</th>\n",
       "      <th>universe_model</th>\n",
       "      <th>universe_exclude_features</th>\n",
       "      <th>universe_exclude_subgroups</th>\n",
       "      <th>q_hat</th>\n",
       "      <th>coverage</th>\n",
       "      <th>avg_size</th>\n",
       "      <th>cov_frau1</th>\n",
       "      <th>cov_nongerman</th>\n",
       "      <th>cov_nongerman_male</th>\n",
       "      <th>cov_nongerman_female</th>\n",
       "    </tr>\n",
       "  </thead>\n",
       "  <tbody>\n",
       "    <tr>\n",
       "      <th>0</th>\n",
       "      <td>5de61325f2a3eabb1425eb66373e95d7</td>\n",
       "      <td>2012_14</td>\n",
       "      <td>5k</td>\n",
       "      <td>scale</td>\n",
       "      <td>penalized_logreg</td>\n",
       "      <td>age</td>\n",
       "      <td>drop-non-german</td>\n",
       "      <td>0.700579</td>\n",
       "      <td>0.911392</td>\n",
       "      <td>1.13761</td>\n",
       "      <td>0.904569</td>\n",
       "      <td>0.905294</td>\n",
       "      <td>0.924885</td>\n",
       "      <td>0.872876</td>\n",
       "    </tr>\n",
       "  </tbody>\n",
       "</table>\n",
       "</div>"
      ],
      "text/plain": [
       "                        universe_id universe_training_year  \\\n",
       "0  5de61325f2a3eabb1425eb66373e95d7                2012_14   \n",
       "\n",
       "  universe_training_size universe_scale    universe_model  \\\n",
       "0                     5k          scale  penalized_logreg   \n",
       "\n",
       "  universe_exclude_features universe_exclude_subgroups     q_hat  coverage  \\\n",
       "0                       age            drop-non-german  0.700579  0.911392   \n",
       "\n",
       "   avg_size  cov_frau1  cov_nongerman  cov_nongerman_male  \\\n",
       "0   1.13761   0.904569       0.905294            0.924885   \n",
       "\n",
       "   cov_nongerman_female  \n",
       "0              0.872876  "
      ]
     },
     "execution_count": 56,
     "metadata": {},
     "output_type": "execute_result"
    }
   ],
   "source": [
    "cp_metrics_df"
   ]
  },
  {
   "cell_type": "markdown",
   "id": "3fc519cc",
   "metadata": {
    "papermill": {
     "duration": 0.012653,
     "end_time": "2025-08-19T18:32:42.019879",
     "exception": false,
     "start_time": "2025-08-19T18:32:42.007226",
     "status": "completed"
    },
    "tags": []
   },
   "source": [
    "# (Fairness) Metrics"
   ]
  },
  {
   "cell_type": "code",
   "execution_count": 57,
   "id": "a2e5e155",
   "metadata": {
    "execution": {
     "iopub.execute_input": "2025-08-19T18:32:42.047926Z",
     "iopub.status.busy": "2025-08-19T18:32:42.046613Z",
     "iopub.status.idle": "2025-08-19T18:32:42.077671Z",
     "shell.execute_reply": "2025-08-19T18:32:42.076784Z"
    },
    "papermill": {
     "duration": 0.053126,
     "end_time": "2025-08-19T18:32:42.085457",
     "exception": false,
     "start_time": "2025-08-19T18:32:42.032331",
     "status": "completed"
    },
    "tags": []
   },
   "outputs": [],
   "source": [
    "colname_to_bin = \"maxdeutsch1\"\n",
    "majority_value = org_train[colname_to_bin].mode()[0]\n",
    "\n",
    "org_test[\"majmin\"] = np.where(org_test[colname_to_bin] == majority_value, \"majority\", \"minority\")"
   ]
  },
  {
   "cell_type": "code",
   "execution_count": 58,
   "id": "17e3e4d5",
   "metadata": {
    "execution": {
     "iopub.execute_input": "2025-08-19T18:32:42.117602Z",
     "iopub.status.busy": "2025-08-19T18:32:42.116435Z",
     "iopub.status.idle": "2025-08-19T18:32:43.923378Z",
     "shell.execute_reply": "2025-08-19T18:32:43.922205Z"
    },
    "papermill": {
     "duration": 1.826934,
     "end_time": "2025-08-19T18:32:43.925923",
     "exception": false,
     "start_time": "2025-08-19T18:32:42.098989",
     "status": "completed"
    },
    "tags": []
   },
   "outputs": [],
   "source": [
    "example_universe = universe.copy()\n",
    "example_universe[\"cutoff\"] = example_universe[\"cutoff\"][0]\n",
    "example_universe[\"eval_fairness_grouping\"] = example_universe[\"eval_fairness_grouping\"][0]\n",
    "fairness_dict, metric_frame = universe_analysis.compute_metrics(\n",
    "    example_universe,\n",
    "    y_pred_prob=probs_test,\n",
    "    y_test=y_true,\n",
    "    org_test=org_test,\n",
    ")"
   ]
  },
  {
   "cell_type": "markdown",
   "id": "1fb7a0e9",
   "metadata": {
    "papermill": {
     "duration": 0.02275,
     "end_time": "2025-08-19T18:32:43.990014",
     "exception": false,
     "start_time": "2025-08-19T18:32:43.967264",
     "status": "completed"
    },
    "tags": []
   },
   "source": [
    "# Overall"
   ]
  },
  {
   "cell_type": "markdown",
   "id": "be1784b1",
   "metadata": {
    "papermill": {
     "duration": 0.014483,
     "end_time": "2025-08-19T18:32:44.027898",
     "exception": false,
     "start_time": "2025-08-19T18:32:44.013415",
     "status": "completed"
    },
    "tags": []
   },
   "source": [
    "Main fairness target: Equalized Odds. Seems to be a better fit than equal opportunity, since we're not only interested in Y = 1. Seems to be a better fit than demographic parity, since we also care about accuracy, not just equal distribution of preds.\n",
    "\n",
    "Pick column for computation of fairness metrics\n",
    "\n",
    "Performance\n",
    "Overall performance measures, most interesting in relation to the measures split by group below"
   ]
  },
  {
   "cell_type": "code",
   "execution_count": 59,
   "id": "b7672bee",
   "metadata": {
    "execution": {
     "iopub.execute_input": "2025-08-19T18:32:44.056143Z",
     "iopub.status.busy": "2025-08-19T18:32:44.055065Z",
     "iopub.status.idle": "2025-08-19T18:32:44.066493Z",
     "shell.execute_reply": "2025-08-19T18:32:44.065606Z"
    },
    "papermill": {
     "duration": 0.027586,
     "end_time": "2025-08-19T18:32:44.068007",
     "exception": false,
     "start_time": "2025-08-19T18:32:44.040421",
     "status": "completed"
    },
    "tags": []
   },
   "outputs": [
    {
     "data": {
      "text/plain": [
       "accuracy                   0.223598\n",
       "balanced accuracy          0.546891\n",
       "f1                         0.244951\n",
       "precision                  0.139932\n",
       "false positive rate        0.887970\n",
       "false negative rate        0.018248\n",
       "selection rate             0.900000\n",
       "count                  89710.000000\n",
       "dtype: float64"
      ]
     },
     "execution_count": 59,
     "metadata": {},
     "output_type": "execute_result"
    }
   ],
   "source": [
    "metric_frame.overall"
   ]
  },
  {
   "cell_type": "markdown",
   "id": "d93333c9",
   "metadata": {
    "papermill": {
     "duration": 0.013046,
     "end_time": "2025-08-19T18:32:44.093825",
     "exception": false,
     "start_time": "2025-08-19T18:32:44.080779",
     "status": "completed"
    },
    "tags": []
   },
   "source": [
    "By Group"
   ]
  },
  {
   "cell_type": "code",
   "execution_count": 60,
   "id": "52256966",
   "metadata": {
    "execution": {
     "iopub.execute_input": "2025-08-19T18:32:44.124469Z",
     "iopub.status.busy": "2025-08-19T18:32:44.123210Z",
     "iopub.status.idle": "2025-08-19T18:32:44.147711Z",
     "shell.execute_reply": "2025-08-19T18:32:44.146534Z"
    },
    "papermill": {
     "duration": 0.043167,
     "end_time": "2025-08-19T18:32:44.150498",
     "exception": false,
     "start_time": "2025-08-19T18:32:44.107331",
     "status": "completed"
    },
    "tags": []
   },
   "outputs": [
    {
     "data": {
      "text/html": [
       "<div>\n",
       "<style scoped>\n",
       "    .dataframe tbody tr th:only-of-type {\n",
       "        vertical-align: middle;\n",
       "    }\n",
       "\n",
       "    .dataframe tbody tr th {\n",
       "        vertical-align: top;\n",
       "    }\n",
       "\n",
       "    .dataframe thead th {\n",
       "        text-align: right;\n",
       "    }\n",
       "</style>\n",
       "<table border=\"1\" class=\"dataframe\">\n",
       "  <thead>\n",
       "    <tr style=\"text-align: right;\">\n",
       "      <th></th>\n",
       "      <th>accuracy</th>\n",
       "      <th>balanced accuracy</th>\n",
       "      <th>f1</th>\n",
       "      <th>precision</th>\n",
       "      <th>false positive rate</th>\n",
       "      <th>false negative rate</th>\n",
       "      <th>selection rate</th>\n",
       "      <th>count</th>\n",
       "    </tr>\n",
       "    <tr>\n",
       "      <th>majmin</th>\n",
       "      <th></th>\n",
       "      <th></th>\n",
       "      <th></th>\n",
       "      <th></th>\n",
       "      <th></th>\n",
       "      <th></th>\n",
       "      <th></th>\n",
       "      <th></th>\n",
       "    </tr>\n",
       "  </thead>\n",
       "  <tbody>\n",
       "    <tr>\n",
       "      <th>majority</th>\n",
       "      <td>0.240278</td>\n",
       "      <td>0.554140</td>\n",
       "      <td>0.254377</td>\n",
       "      <td>0.146141</td>\n",
       "      <td>0.872464</td>\n",
       "      <td>0.019256</td>\n",
       "      <td>0.886772</td>\n",
       "      <td>69170.0</td>\n",
       "    </tr>\n",
       "    <tr>\n",
       "      <th>minority</th>\n",
       "      <td>0.167429</td>\n",
       "      <td>0.523225</td>\n",
       "      <td>0.214433</td>\n",
       "      <td>0.120303</td>\n",
       "      <td>0.939192</td>\n",
       "      <td>0.014358</td>\n",
       "      <td>0.944547</td>\n",
       "      <td>20540.0</td>\n",
       "    </tr>\n",
       "  </tbody>\n",
       "</table>\n",
       "</div>"
      ],
      "text/plain": [
       "          accuracy  balanced accuracy        f1  precision  \\\n",
       "majmin                                                       \n",
       "majority  0.240278           0.554140  0.254377   0.146141   \n",
       "minority  0.167429           0.523225  0.214433   0.120303   \n",
       "\n",
       "          false positive rate  false negative rate  selection rate    count  \n",
       "majmin                                                                       \n",
       "majority             0.872464             0.019256        0.886772  69170.0  \n",
       "minority             0.939192             0.014358        0.944547  20540.0  "
      ]
     },
     "execution_count": 60,
     "metadata": {},
     "output_type": "execute_result"
    }
   ],
   "source": [
    "metric_frame.by_group"
   ]
  },
  {
   "cell_type": "code",
   "execution_count": 61,
   "id": "6e6c20ae",
   "metadata": {
    "execution": {
     "iopub.execute_input": "2025-08-19T18:32:44.190282Z",
     "iopub.status.busy": "2025-08-19T18:32:44.189873Z",
     "iopub.status.idle": "2025-08-19T18:32:46.233836Z",
     "shell.execute_reply": "2025-08-19T18:32:46.232964Z"
    },
    "papermill": {
     "duration": 2.061585,
     "end_time": "2025-08-19T18:32:46.235174",
     "exception": false,
     "start_time": "2025-08-19T18:32:44.173589",
     "status": "completed"
    },
    "tags": []
   },
   "outputs": [
    {
     "data": {
      "text/plain": [
       "array([[<Axes: title={'center': 'accuracy'}, xlabel='majmin'>,\n",
       "        <Axes: title={'center': 'balanced accuracy'}, xlabel='majmin'>,\n",
       "        <Axes: title={'center': 'f1'}, xlabel='majmin'>],\n",
       "       [<Axes: title={'center': 'precision'}, xlabel='majmin'>,\n",
       "        <Axes: title={'center': 'false positive rate'}, xlabel='majmin'>,\n",
       "        <Axes: title={'center': 'false negative rate'}, xlabel='majmin'>],\n",
       "       [<Axes: title={'center': 'selection rate'}, xlabel='majmin'>,\n",
       "        <Axes: title={'center': 'count'}, xlabel='majmin'>,\n",
       "        <Axes: xlabel='majmin'>]], dtype=object)"
      ]
     },
     "execution_count": 61,
     "metadata": {},
     "output_type": "execute_result"
    },
    {
     "data": {
      "image/png": "[encoded data removed]",
      "text/plain": [
       "<Figure size 1200x800 with 9 Axes>"
      ]
     },
     "metadata": {},
     "output_type": "display_data"
    }
   ],
   "source": [
    "# In a graphic\n",
    "metric_frame.by_group.plot.bar(\n",
    "    subplots=True,\n",
    "    layout=[3, 3],\n",
    "    legend=False,\n",
    "    figsize=[12, 8],\n",
    "    title=\"Show all metrics\",\n",
    ")"
   ]
  },
  {
   "cell_type": "markdown",
   "id": "b2e433ae",
   "metadata": {
    "papermill": {
     "duration": 0.014058,
     "end_time": "2025-08-19T18:32:46.267629",
     "exception": false,
     "start_time": "2025-08-19T18:32:46.253571",
     "status": "completed"
    },
    "tags": []
   },
   "source": [
    "# Final Output"
   ]
  },
  {
   "cell_type": "code",
   "execution_count": 62,
   "id": "3871301e",
   "metadata": {
    "execution": {
     "iopub.execute_input": "2025-08-19T18:32:46.302928Z",
     "iopub.status.busy": "2025-08-19T18:32:46.300862Z",
     "iopub.status.idle": "2025-08-19T18:32:46.320346Z",
     "shell.execute_reply": "2025-08-19T18:32:46.319153Z"
    },
    "papermill": {
     "duration": 0.040923,
     "end_time": "2025-08-19T18:32:46.322214",
     "exception": false,
     "start_time": "2025-08-19T18:32:46.281291",
     "status": "completed"
    },
    "tags": []
   },
   "outputs": [
    {
     "data": {
      "text/plain": [
       "4"
      ]
     },
     "execution_count": 62,
     "metadata": {},
     "output_type": "execute_result"
    }
   ],
   "source": [
    "sub_universes = universe_analysis.generate_sub_universes()\n",
    "len(sub_universes)"
   ]
  },
  {
   "cell_type": "code",
   "execution_count": 63,
   "id": "d9cfdaca",
   "metadata": {
    "execution": {
     "iopub.execute_input": "2025-08-19T18:32:46.357743Z",
     "iopub.status.busy": "2025-08-19T18:32:46.356620Z",
     "iopub.status.idle": "2025-08-19T18:32:46.366761Z",
     "shell.execute_reply": "2025-08-19T18:32:46.364863Z"
    },
    "papermill": {
     "duration": 0.028361,
     "end_time": "2025-08-19T18:32:46.368522",
     "exception": false,
     "start_time": "2025-08-19T18:32:46.340161",
     "status": "completed"
    },
    "tags": []
   },
   "outputs": [],
   "source": [
    "def filter_sub_universe_data(sub_universe, org_test):\n",
    "    # Keep all rows — no filtering\n",
    "    keep_rows_mask = np.ones(org_test.shape[0], dtype=bool)\n",
    "\n",
    "    print(f\"[INFO] Keeping all rows: {keep_rows_mask.sum()} rows retained.\")\n",
    "    return keep_rows_mask"
   ]
  },
  {
   "cell_type": "code",
   "execution_count": 64,
   "id": "2bc31ac1",
   "metadata": {
    "execution": {
     "iopub.execute_input": "2025-08-19T18:32:46.402429Z",
     "iopub.status.busy": "2025-08-19T18:32:46.401464Z",
     "iopub.status.idle": "2025-08-19T18:32:53.215554Z",
     "shell.execute_reply": "2025-08-19T18:32:53.214469Z"
    },
    "papermill": {
     "duration": 6.832039,
     "end_time": "2025-08-19T18:32:53.218305",
     "exception": false,
     "start_time": "2025-08-19T18:32:46.386266",
     "status": "completed"
    },
    "tags": []
   },
   "outputs": [
    {
     "name": "stdout",
     "output_type": "stream",
     "text": [
      "Stopping execution_time clock.\n",
      "[INFO] Keeping all rows: 89710 rows retained.\n"
     ]
    },
    {
     "name": "stdout",
     "output_type": "stream",
     "text": [
      "[INFO] Keeping all rows: 89710 rows retained.\n"
     ]
    },
    {
     "name": "stdout",
     "output_type": "stream",
     "text": [
      "[INFO] Keeping all rows: 89710 rows retained.\n"
     ]
    },
    {
     "name": "stdout",
     "output_type": "stream",
     "text": [
      "[INFO] Keeping all rows: 89710 rows retained.\n"
     ]
    },
    {
     "data": {
      "text/html": [
       "<div>\n",
       "<style scoped>\n",
       "    .dataframe tbody tr th:only-of-type {\n",
       "        vertical-align: middle;\n",
       "    }\n",
       "\n",
       "    .dataframe tbody tr th {\n",
       "        vertical-align: top;\n",
       "    }\n",
       "\n",
       "    .dataframe thead th {\n",
       "        text-align: right;\n",
       "    }\n",
       "</style>\n",
       "<table border=\"1\" class=\"dataframe\">\n",
       "  <thead>\n",
       "    <tr style=\"text-align: right;\">\n",
       "      <th></th>\n",
       "      <th>run_no</th>\n",
       "      <th>universe_id</th>\n",
       "      <th>universe_settings</th>\n",
       "      <th>execution_time</th>\n",
       "      <th>test_size_n</th>\n",
       "      <th>test_size_frac</th>\n",
       "      <th>fair_main_equalized_odds_difference</th>\n",
       "      <th>fair_main_equalized_odds_ratio</th>\n",
       "      <th>fair_main_demographic_parity_difference</th>\n",
       "      <th>fair_main_demographic_parity_ratio</th>\n",
       "      <th>...</th>\n",
       "      <th>perf_grp_precision_0</th>\n",
       "      <th>perf_grp_precision_1</th>\n",
       "      <th>perf_grp_false positive rate_0</th>\n",
       "      <th>perf_grp_false positive rate_1</th>\n",
       "      <th>perf_grp_false negative rate_0</th>\n",
       "      <th>perf_grp_false negative rate_1</th>\n",
       "      <th>perf_grp_selection rate_0</th>\n",
       "      <th>perf_grp_selection rate_1</th>\n",
       "      <th>perf_grp_count_0</th>\n",
       "      <th>perf_grp_count_1</th>\n",
       "    </tr>\n",
       "  </thead>\n",
       "  <tbody>\n",
       "    <tr>\n",
       "      <th>0</th>\n",
       "      <td>3</td>\n",
       "      <td>5de61325f2a3eabb1425eb66373e95d7</td>\n",
       "      <td>{\"cutoff\": \"quantile_0.1\", \"eval_fairness_grou...</td>\n",
       "      <td>21.32211</td>\n",
       "      <td>89710</td>\n",
       "      <td>1.0</td>\n",
       "      <td>0.066728</td>\n",
       "      <td>0.928951</td>\n",
       "      <td>0.057776</td>\n",
       "      <td>0.938833</td>\n",
       "      <td>...</td>\n",
       "      <td>NaN</td>\n",
       "      <td>NaN</td>\n",
       "      <td>NaN</td>\n",
       "      <td>NaN</td>\n",
       "      <td>NaN</td>\n",
       "      <td>NaN</td>\n",
       "      <td>NaN</td>\n",
       "      <td>NaN</td>\n",
       "      <td>NaN</td>\n",
       "      <td>NaN</td>\n",
       "    </tr>\n",
       "    <tr>\n",
       "      <th>0</th>\n",
       "      <td>3</td>\n",
       "      <td>5de61325f2a3eabb1425eb66373e95d7</td>\n",
       "      <td>{\"cutoff\": \"quantile_0.1\", \"eval_fairness_grou...</td>\n",
       "      <td>21.32211</td>\n",
       "      <td>89710</td>\n",
       "      <td>1.0</td>\n",
       "      <td>0.066728</td>\n",
       "      <td>0.928951</td>\n",
       "      <td>0.057776</td>\n",
       "      <td>0.938833</td>\n",
       "      <td>...</td>\n",
       "      <td>0.120303</td>\n",
       "      <td>0.146141</td>\n",
       "      <td>0.939192</td>\n",
       "      <td>0.872464</td>\n",
       "      <td>0.014358</td>\n",
       "      <td>0.019256</td>\n",
       "      <td>0.944547</td>\n",
       "      <td>0.886772</td>\n",
       "      <td>20540.0</td>\n",
       "      <td>69170.0</td>\n",
       "    </tr>\n",
       "    <tr>\n",
       "      <th>0</th>\n",
       "      <td>3</td>\n",
       "      <td>5de61325f2a3eabb1425eb66373e95d7</td>\n",
       "      <td>{\"cutoff\": \"quantile_0.25\", \"eval_fairness_gro...</td>\n",
       "      <td>21.32211</td>\n",
       "      <td>89710</td>\n",
       "      <td>1.0</td>\n",
       "      <td>0.132213</td>\n",
       "      <td>0.839625</td>\n",
       "      <td>0.113222</td>\n",
       "      <td>0.864776</td>\n",
       "      <td>...</td>\n",
       "      <td>NaN</td>\n",
       "      <td>NaN</td>\n",
       "      <td>NaN</td>\n",
       "      <td>NaN</td>\n",
       "      <td>NaN</td>\n",
       "      <td>NaN</td>\n",
       "      <td>NaN</td>\n",
       "      <td>NaN</td>\n",
       "      <td>NaN</td>\n",
       "      <td>NaN</td>\n",
       "    </tr>\n",
       "    <tr>\n",
       "      <th>0</th>\n",
       "      <td>3</td>\n",
       "      <td>5de61325f2a3eabb1425eb66373e95d7</td>\n",
       "      <td>{\"cutoff\": \"quantile_0.25\", \"eval_fairness_gro...</td>\n",
       "      <td>21.32211</td>\n",
       "      <td>89710</td>\n",
       "      <td>1.0</td>\n",
       "      <td>0.132213</td>\n",
       "      <td>0.839625</td>\n",
       "      <td>0.113222</td>\n",
       "      <td>0.864776</td>\n",
       "      <td>...</td>\n",
       "      <td>0.128910</td>\n",
       "      <td>0.170354</td>\n",
       "      <td>0.824400</td>\n",
       "      <td>0.692187</td>\n",
       "      <td>0.063767</td>\n",
       "      <td>0.066521</td>\n",
       "      <td>0.837293</td>\n",
       "      <td>0.724071</td>\n",
       "      <td>20540.0</td>\n",
       "      <td>69170.0</td>\n",
       "    </tr>\n",
       "  </tbody>\n",
       "</table>\n",
       "<p>4 rows × 50 columns</p>\n",
       "</div>"
      ],
      "text/plain": [
       "  run_no                       universe_id  \\\n",
       "0      3  5de61325f2a3eabb1425eb66373e95d7   \n",
       "0      3  5de61325f2a3eabb1425eb66373e95d7   \n",
       "0      3  5de61325f2a3eabb1425eb66373e95d7   \n",
       "0      3  5de61325f2a3eabb1425eb66373e95d7   \n",
       "\n",
       "                                   universe_settings  execution_time  \\\n",
       "0  {\"cutoff\": \"quantile_0.1\", \"eval_fairness_grou...        21.32211   \n",
       "0  {\"cutoff\": \"quantile_0.1\", \"eval_fairness_grou...        21.32211   \n",
       "0  {\"cutoff\": \"quantile_0.25\", \"eval_fairness_gro...        21.32211   \n",
       "0  {\"cutoff\": \"quantile_0.25\", \"eval_fairness_gro...        21.32211   \n",
       "\n",
       "   test_size_n  test_size_frac  fair_main_equalized_odds_difference  \\\n",
       "0        89710             1.0                             0.066728   \n",
       "0        89710             1.0                             0.066728   \n",
       "0        89710             1.0                             0.132213   \n",
       "0        89710             1.0                             0.132213   \n",
       "\n",
       "   fair_main_equalized_odds_ratio  fair_main_demographic_parity_difference  \\\n",
       "0                        0.928951                                 0.057776   \n",
       "0                        0.928951                                 0.057776   \n",
       "0                        0.839625                                 0.113222   \n",
       "0                        0.839625                                 0.113222   \n",
       "\n",
       "   fair_main_demographic_parity_ratio  ...  perf_grp_precision_0  \\\n",
       "0                            0.938833  ...                   NaN   \n",
       "0                            0.938833  ...              0.120303   \n",
       "0                            0.864776  ...                   NaN   \n",
       "0                            0.864776  ...              0.128910   \n",
       "\n",
       "   perf_grp_precision_1  perf_grp_false positive rate_0  \\\n",
       "0                   NaN                             NaN   \n",
       "0              0.146141                        0.939192   \n",
       "0                   NaN                             NaN   \n",
       "0              0.170354                        0.824400   \n",
       "\n",
       "   perf_grp_false positive rate_1  perf_grp_false negative rate_0  \\\n",
       "0                             NaN                             NaN   \n",
       "0                        0.872464                        0.014358   \n",
       "0                             NaN                             NaN   \n",
       "0                        0.692187                        0.063767   \n",
       "\n",
       "   perf_grp_false negative rate_1  perf_grp_selection rate_0  \\\n",
       "0                             NaN                        NaN   \n",
       "0                        0.019256                   0.944547   \n",
       "0                             NaN                        NaN   \n",
       "0                        0.066521                   0.837293   \n",
       "\n",
       "   perf_grp_selection rate_1  perf_grp_count_0  perf_grp_count_1  \n",
       "0                        NaN               NaN               NaN  \n",
       "0                   0.886772           20540.0           69170.0  \n",
       "0                        NaN               NaN               NaN  \n",
       "0                   0.724071           20540.0           69170.0  \n",
       "\n",
       "[4 rows x 50 columns]"
      ]
     },
     "execution_count": 64,
     "metadata": {},
     "output_type": "execute_result"
    }
   ],
   "source": [
    "final_output = universe_analysis.generate_final_output(\n",
    "    y_pred_prob=probs_test,\n",
    "    y_test=y_true,\n",
    "    org_test=org_test,\n",
    "    filter_data=filter_sub_universe_data,\n",
    "    cp_metrics_df=cp_metrics_df,\n",
    "    save=True,\n",
    ")\n",
    "final_output"
   ]
  },
  {
   "cell_type": "code",
   "execution_count": null,
   "id": "8b80a1ff",
   "metadata": {
    "papermill": {
     "duration": 0.032522,
     "end_time": "2025-08-19T18:32:53.299761",
     "exception": false,
     "start_time": "2025-08-19T18:32:53.267239",
     "status": "completed"
    },
    "tags": []
   },
   "outputs": [],
   "source": []
  },
  {
   "cell_type": "code",
   "execution_count": null,
   "id": "275c9fad",
   "metadata": {
    "papermill": {
     "duration": 0.01455,
     "end_time": "2025-08-19T18:32:53.329938",
     "exception": false,
     "start_time": "2025-08-19T18:32:53.315388",
     "status": "completed"
    },
    "tags": []
   },
   "outputs": [],
   "source": []
  }
 ],
 "metadata": {
  "celltoolbar": "Tags",
  "kernelspec": {
   "display_name": "Python (CMA Fairness)",
   "language": "python",
   "name": "cma_fair_env"
  },
  "language_info": {
   "codemirror_mode": {
    "name": "ipython",
    "version": 3
   },
   "file_extension": ".py",
   "mimetype": "text/x-python",
   "name": "python",
   "nbconvert_exporter": "python",
   "pygments_lexer": "ipython3",
   "version": "3.10.12"
  },
  "papermill": {
   "default_parameters": {},
   "duration": 31.703871,
   "end_time": "2025-08-19T18:32:54.164648",
   "environment_variables": {},
   "exception": null,
   "input_path": "universe_analysis.ipynb",
   "output_path": "output/runs/3/notebooks/m_3-5de61325f2a3eabb1425eb66373e95d7.ipynb",
   "parameters": {
    "output_dir": "output",
    "run_no": "3",
    "seed": "2023",
    "universe": "{\"cutoff\": [\"quantile_0.1\", \"quantile_0.25\"], \"eval_fairness_grouping\": [\"majority-minority\", \"nationality-all\"], \"exclude_features\": \"age\", \"exclude_subgroups\": \"drop-non-german\", \"model\": \"penalized_logreg\", \"scale\": \"scale\", \"training_size\": \"5k\", \"training_year\": \"2012_14\"}",
    "universe_id": "5de61325f2a3eabb1425eb66373e95d7"
   },
   "start_time": "2025-08-19T18:32:22.460777",
   "version": "2.6.0"
  }
 },
 "nbformat": 4,
 "nbformat_minor": 5
}