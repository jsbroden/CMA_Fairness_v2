{
 "cells": [
  {
   "cell_type": "markdown",
   "id": "ef23dbb3",
   "metadata": {
    "papermill": {
     "duration": 0.022007,
     "end_time": "2025-08-19T18:36:37.403465",
     "exception": false,
     "start_time": "2025-08-19T18:36:37.381458",
     "status": "completed"
    },
    "tags": []
   },
   "source": [
    "# Setup"
   ]
  },
  {
   "cell_type": "code",
   "execution_count": 1,
   "id": "0bc8e7dc",
   "metadata": {
    "execution": {
     "iopub.execute_input": "2025-08-19T18:36:37.426876Z",
     "iopub.status.busy": "2025-08-19T18:36:37.426371Z",
     "iopub.status.idle": "2025-08-19T18:36:37.436327Z",
     "shell.execute_reply": "2025-08-19T18:36:37.435525Z"
    },
    "papermill": {
     "duration": 0.023592,
     "end_time": "2025-08-19T18:36:37.439357",
     "exception": false,
     "start_time": "2025-08-19T18:36:37.415765",
     "status": "completed"
    },
    "tags": []
   },
   "outputs": [
    {
     "name": "stdout",
     "output_type": "stream",
     "text": [
      "/dss/dsshome1/0C/ra93lal2/cma/CMA_Fairness_v2\n"
     ]
    },
    {
     "name": "stderr",
     "output_type": "stream",
     "text": [
      "/dss/dsshome1/0C/ra93lal2/.local/share/virtualenvs/CMA_Fairness_v2-3j10GkSs/lib/python3.10/site-packages/IPython/core/magics/osm.py:393: UserWarning: This is now an optional IPython functionality, using bookmarks requires you to install the `pickleshare` library.\n",
      "  bkms = self.shell.db.get('bookmarks', {})\n",
      "/dss/dsshome1/0C/ra93lal2/.local/share/virtualenvs/CMA_Fairness_v2-3j10GkSs/lib/python3.10/site-packages/IPython/core/magics/osm.py:417: UserWarning: This is now an optional IPython functionality, setting dhist requires you to install the `pickleshare` library.\n",
      "  self.shell.db['dhist'] = compress_dhist(dhist)[-100:]\n"
     ]
    }
   ],
   "source": [
    "%cd ~/cma/CMA_Fairness_v2"
   ]
  },
  {
   "cell_type": "markdown",
   "id": "9d235661",
   "metadata": {
    "papermill": {
     "duration": 0.022527,
     "end_time": "2025-08-19T18:36:37.474791",
     "exception": false,
     "start_time": "2025-08-19T18:36:37.452264",
     "status": "completed"
    },
    "tags": []
   },
   "source": [
    "The following cell holds the definition of our parameters, these values can be overriden by rendering the with e.g. the following command:\n",
    "\n",
    "papermill -p alpha 0.2 -p ratio 0.3 universe_analysis.ipynb output/test_run.ipynb"
   ]
  },
  {
   "cell_type": "code",
   "execution_count": 2,
   "id": "4a789d8e",
   "metadata": {
    "execution": {
     "iopub.execute_input": "2025-08-19T18:36:37.494741Z",
     "iopub.status.busy": "2025-08-19T18:36:37.494239Z",
     "iopub.status.idle": "2025-08-19T18:36:37.500033Z",
     "shell.execute_reply": "2025-08-19T18:36:37.498769Z"
    },
    "papermill": {
     "duration": 0.018903,
     "end_time": "2025-08-19T18:36:37.502899",
     "exception": false,
     "start_time": "2025-08-19T18:36:37.483996",
     "status": "completed"
    },
    "tags": []
   },
   "outputs": [
    {
     "name": "stdout",
     "output_type": "stream",
     "text": [
      "Current working directory: /dss/dsshome1/0C/ra93lal2/cma/CMA_Fairness_v2\n"
     ]
    }
   ],
   "source": [
    "import os\n",
    "print(\"Current working directory:\", os.getcwd())"
   ]
  },
  {
   "cell_type": "code",
   "execution_count": 3,
   "id": "4132aaed",
   "metadata": {
    "execution": {
     "iopub.execute_input": "2025-08-19T18:36:37.523163Z",
     "iopub.status.busy": "2025-08-19T18:36:37.522709Z",
     "iopub.status.idle": "2025-08-19T18:36:37.528415Z",
     "shell.execute_reply": "2025-08-19T18:36:37.527495Z"
    },
    "papermill": {
     "duration": 0.017627,
     "end_time": "2025-08-19T18:36:37.529875",
     "exception": false,
     "start_time": "2025-08-19T18:36:37.512248",
     "status": "completed"
    },
    "tags": [
     "parameters"
    ]
   },
   "outputs": [],
   "source": [
    "run_no = 0\n",
    "universe_id = \"test\"\n",
    "universe = {\n",
    "    \"training_size\": \"5k\", # \"25k\", \"5k\", \"1k\"\n",
    "    \"training_year\": \"2012_14\", # \"2014\", \"2012_14\", \"2010_14\"\n",
    "    \"scale\": \"scale\", # \"scale\", \"do-not-scale\",\n",
    "    \"model\": \"elasticnet\", # \"logreg\", \"penalized_logreg\", \"rf\", \"gbm\", \"elasticnet\"\n",
    "    \"cutoff\": [\"quantile_0.15\", \"quantile_0.30\"],\n",
    "    \"exclude_features\": \"age\", # \"none\", \"nationality\", \"sex\", \"nationality-sex\", \"age\"\n",
    "    \"exclude_subgroups\": \"drop-non-german\", # \"keep-all\", \"drop-non-german\"\n",
    "    \"eval_fairness_grouping\": [\"majority-minority\", \"nationality-all\"]\n",
    "}\n",
    "\n",
    "output_dir=\"./output\"\n",
    "seed=0"
   ]
  },
  {
   "cell_type": "code",
   "execution_count": 4,
   "id": "4129480d",
   "metadata": {
    "execution": {
     "iopub.execute_input": "2025-08-19T18:36:37.549717Z",
     "iopub.status.busy": "2025-08-19T18:36:37.549304Z",
     "iopub.status.idle": "2025-08-19T18:36:37.553749Z",
     "shell.execute_reply": "2025-08-19T18:36:37.552962Z"
    },
    "papermill": {
     "duration": 0.016194,
     "end_time": "2025-08-19T18:36:37.555252",
     "exception": false,
     "start_time": "2025-08-19T18:36:37.539058",
     "status": "completed"
    },
    "tags": [
     "injected-parameters"
    ]
   },
   "outputs": [],
   "source": [
    "# Parameters\n",
    "universe_id = \"c2bb59cfada70f73cca271f17d37baa8\"\n",
    "run_no = \"3\"\n",
    "universe = \"{\\\"cutoff\\\": [\\\"quantile_0.1\\\", \\\"quantile_0.25\\\"], \\\"eval_fairness_grouping\\\": [\\\"majority-minority\\\", \\\"nationality-all\\\"], \\\"exclude_features\\\": \\\"none\\\", \\\"exclude_subgroups\\\": \\\"drop-non-german\\\", \\\"model\\\": \\\"rf\\\", \\\"scale\\\": \\\"do-not-scale\\\", \\\"training_size\\\": \\\"5k\\\", \\\"training_year\\\": \\\"2012_14\\\"}\"\n",
    "output_dir = \"output\"\n",
    "seed = \"2023\"\n"
   ]
  },
  {
   "cell_type": "code",
   "execution_count": 5,
   "id": "a5d7941f",
   "metadata": {
    "execution": {
     "iopub.execute_input": "2025-08-19T18:36:37.574793Z",
     "iopub.status.busy": "2025-08-19T18:36:37.574375Z",
     "iopub.status.idle": "2025-08-19T18:36:37.578861Z",
     "shell.execute_reply": "2025-08-19T18:36:37.578045Z"
    },
    "papermill": {
     "duration": 0.015686,
     "end_time": "2025-08-19T18:36:37.580115",
     "exception": false,
     "start_time": "2025-08-19T18:36:37.564429",
     "status": "completed"
    },
    "tags": []
   },
   "outputs": [],
   "source": [
    "import json\n",
    "if isinstance(universe, str):\n",
    "    universe = json.loads(universe)"
   ]
  },
  {
   "cell_type": "code",
   "execution_count": 6,
   "id": "7076ccb1",
   "metadata": {
    "execution": {
     "iopub.execute_input": "2025-08-19T18:36:37.599641Z",
     "iopub.status.busy": "2025-08-19T18:36:37.599362Z",
     "iopub.status.idle": "2025-08-19T18:36:37.649761Z",
     "shell.execute_reply": "2025-08-19T18:36:37.648776Z"
    },
    "papermill": {
     "duration": 0.062417,
     "end_time": "2025-08-19T18:36:37.651592",
     "exception": false,
     "start_time": "2025-08-19T18:36:37.589175",
     "status": "completed"
    },
    "tags": []
   },
   "outputs": [],
   "source": [
    "# Auto-reload the custom package\n",
    "%load_ext autoreload\n",
    "%autoreload 1\n",
    "%aimport fairness_multiverse"
   ]
  },
  {
   "cell_type": "code",
   "execution_count": 7,
   "id": "94c8eb93",
   "metadata": {
    "execution": {
     "iopub.execute_input": "2025-08-19T18:36:37.673471Z",
     "iopub.status.busy": "2025-08-19T18:36:37.672544Z",
     "iopub.status.idle": "2025-08-19T18:36:39.283387Z",
     "shell.execute_reply": "2025-08-19T18:36:39.282240Z"
    },
    "papermill": {
     "duration": 1.62249,
     "end_time": "2025-08-19T18:36:39.285043",
     "exception": false,
     "start_time": "2025-08-19T18:36:37.662553",
     "status": "completed"
    },
    "tags": []
   },
   "outputs": [],
   "source": [
    "from fairness_multiverse.universe import UniverseAnalysis\n",
    "\n",
    "universe_analysis = UniverseAnalysis(\n",
    "    run_no = run_no,\n",
    "    universe_id = universe_id,\n",
    "    universe = universe,\n",
    "    output_dir=output_dir,\n",
    ")"
   ]
  },
  {
   "cell_type": "code",
   "execution_count": 8,
   "id": "2a6381cf",
   "metadata": {
    "execution": {
     "iopub.execute_input": "2025-08-19T18:36:39.306994Z",
     "iopub.status.busy": "2025-08-19T18:36:39.306351Z",
     "iopub.status.idle": "2025-08-19T18:36:39.314913Z",
     "shell.execute_reply": "2025-08-19T18:36:39.314046Z"
    },
    "papermill": {
     "duration": 0.021289,
     "end_time": "2025-08-19T18:36:39.316371",
     "exception": false,
     "start_time": "2025-08-19T18:36:39.295082",
     "status": "completed"
    },
    "tags": []
   },
   "outputs": [
    {
     "name": "stdout",
     "output_type": "stream",
     "text": [
      "Using Seed: 2023\n"
     ]
    }
   ],
   "source": [
    "import numpy as np\n",
    "parsed_seed = int(seed)\n",
    "np.random.seed(parsed_seed)\n",
    "print(f\"Using Seed: {parsed_seed}\")"
   ]
  },
  {
   "cell_type": "markdown",
   "id": "b6e958b4",
   "metadata": {
    "papermill": {
     "duration": 0.00914,
     "end_time": "2025-08-19T18:36:39.335476",
     "exception": false,
     "start_time": "2025-08-19T18:36:39.326336",
     "status": "completed"
    },
    "tags": []
   },
   "source": [
    "# Loading Data"
   ]
  },
  {
   "cell_type": "code",
   "execution_count": 9,
   "id": "98701482",
   "metadata": {
    "execution": {
     "iopub.execute_input": "2025-08-19T18:36:39.356095Z",
     "iopub.status.busy": "2025-08-19T18:36:39.355592Z",
     "iopub.status.idle": "2025-08-19T18:36:49.080310Z",
     "shell.execute_reply": "2025-08-19T18:36:49.079316Z"
    },
    "papermill": {
     "duration": 9.736369,
     "end_time": "2025-08-19T18:36:49.081743",
     "exception": false,
     "start_time": "2025-08-19T18:36:39.345374",
     "status": "completed"
    },
    "tags": []
   },
   "outputs": [
    {
     "name": "stdout",
     "output_type": "stream",
     "text": [
      "Loading SIAB data from cache: data/siab_cached.csv.gz\n"
     ]
    },
    {
     "name": "stdout",
     "output_type": "stream",
     "text": [
      "(643690, 164)\n"
     ]
    }
   ],
   "source": [
    "from pathlib import Path\n",
    "import pandas as pd\n",
    "\n",
    "# File paths\n",
    "raw_file = Path(\"data/raw/siab.csv\")\n",
    "cache_file = Path(\"data/siab_cached.csv.gz\")\n",
    "\n",
    "# Ensure cache directory exists\n",
    "cache_file.parent.mkdir(parents=True, exist_ok=True)\n",
    "\n",
    "# Load with simple caching\n",
    "if cache_file.exists():\n",
    "    print(f\"Loading SIAB data from cache: {cache_file}\")\n",
    "    siab = pd.read_csv(cache_file, compression='gzip')\n",
    "else:\n",
    "    print(f\"Cache not found. Reading raw SIAB data: {raw_file}\")\n",
    "    siab = pd.read_csv(raw_file)\n",
    "    siab.to_csv(cache_file, index=False, compression='gzip')\n",
    "    print(f\"Cached SIAB data to: {cache_file}\")\n",
    "\n",
    "print(siab.shape)"
   ]
  },
  {
   "cell_type": "code",
   "execution_count": 10,
   "id": "058d2abb",
   "metadata": {
    "execution": {
     "iopub.execute_input": "2025-08-19T18:36:49.107148Z",
     "iopub.status.busy": "2025-08-19T18:36:49.106426Z",
     "iopub.status.idle": "2025-08-19T18:36:49.287911Z",
     "shell.execute_reply": "2025-08-19T18:36:49.287163Z"
    },
    "papermill": {
     "duration": 0.194312,
     "end_time": "2025-08-19T18:36:49.289223",
     "exception": false,
     "start_time": "2025-08-19T18:36:49.094911",
     "status": "completed"
    },
    "tags": []
   },
   "outputs": [
    {
     "data": {
      "text/html": [
       "<div>\n",
       "<style scoped>\n",
       "    .dataframe tbody tr th:only-of-type {\n",
       "        vertical-align: middle;\n",
       "    }\n",
       "\n",
       "    .dataframe tbody tr th {\n",
       "        vertical-align: top;\n",
       "    }\n",
       "\n",
       "    .dataframe thead th {\n",
       "        text-align: right;\n",
       "    }\n",
       "</style>\n",
       "<table border=\"1\" class=\"dataframe\">\n",
       "  <thead>\n",
       "    <tr style=\"text-align: right;\">\n",
       "      <th></th>\n",
       "      <th>persnr</th>\n",
       "      <th>year</th>\n",
       "      <th>nrEntry</th>\n",
       "      <th>ltue</th>\n",
       "      <th>employed_before</th>\n",
       "      <th>receipt_leh_before</th>\n",
       "      <th>receipt_lhg_before</th>\n",
       "      <th>se_before</th>\n",
       "      <th>ASU_notue_seeking_before</th>\n",
       "      <th>ASU_other_before</th>\n",
       "      <th>...</th>\n",
       "      <th>minijob_tot_dur_byage</th>\n",
       "      <th>ft_tot_dur_byage</th>\n",
       "      <th>befrist_tot_dur_byage</th>\n",
       "      <th>leih_tot_dur_byage</th>\n",
       "      <th>LHG_tot_dur_byage</th>\n",
       "      <th>LEH_tot_dur_byage</th>\n",
       "      <th>almp_tot_dur_byage</th>\n",
       "      <th>almp_aw_tot_dur_byage</th>\n",
       "      <th>se_tot_dur_byage</th>\n",
       "      <th>seeking1_tot_dur_byage</th>\n",
       "    </tr>\n",
       "  </thead>\n",
       "  <tbody>\n",
       "    <tr>\n",
       "      <th>0</th>\n",
       "      <td>7</td>\n",
       "      <td>2015</td>\n",
       "      <td>1</td>\n",
       "      <td>0</td>\n",
       "      <td>1</td>\n",
       "      <td>0</td>\n",
       "      <td>0</td>\n",
       "      <td>0</td>\n",
       "      <td>1</td>\n",
       "      <td>0</td>\n",
       "      <td>...</td>\n",
       "      <td>0.000000</td>\n",
       "      <td>0.000000</td>\n",
       "      <td>15.043478</td>\n",
       "      <td>0.000000</td>\n",
       "      <td>0.000000</td>\n",
       "      <td>0.000000</td>\n",
       "      <td>0.000000</td>\n",
       "      <td>0.000000</td>\n",
       "      <td>0.000000</td>\n",
       "      <td>0.000000</td>\n",
       "    </tr>\n",
       "    <tr>\n",
       "      <th>1</th>\n",
       "      <td>18</td>\n",
       "      <td>2010</td>\n",
       "      <td>1</td>\n",
       "      <td>1</td>\n",
       "      <td>0</td>\n",
       "      <td>0</td>\n",
       "      <td>0</td>\n",
       "      <td>0</td>\n",
       "      <td>0</td>\n",
       "      <td>0</td>\n",
       "      <td>...</td>\n",
       "      <td>0.000000</td>\n",
       "      <td>0.000000</td>\n",
       "      <td>0.000000</td>\n",
       "      <td>0.000000</td>\n",
       "      <td>0.000000</td>\n",
       "      <td>0.000000</td>\n",
       "      <td>0.000000</td>\n",
       "      <td>0.000000</td>\n",
       "      <td>0.000000</td>\n",
       "      <td>0.000000</td>\n",
       "    </tr>\n",
       "    <tr>\n",
       "      <th>2</th>\n",
       "      <td>18</td>\n",
       "      <td>2011</td>\n",
       "      <td>2</td>\n",
       "      <td>0</td>\n",
       "      <td>1</td>\n",
       "      <td>0</td>\n",
       "      <td>1</td>\n",
       "      <td>0</td>\n",
       "      <td>1</td>\n",
       "      <td>0</td>\n",
       "      <td>...</td>\n",
       "      <td>2.714286</td>\n",
       "      <td>2.714286</td>\n",
       "      <td>0.000000</td>\n",
       "      <td>0.000000</td>\n",
       "      <td>10.775510</td>\n",
       "      <td>0.000000</td>\n",
       "      <td>8.367347</td>\n",
       "      <td>0.000000</td>\n",
       "      <td>0.000000</td>\n",
       "      <td>9.836735</td>\n",
       "    </tr>\n",
       "    <tr>\n",
       "      <th>3</th>\n",
       "      <td>18</td>\n",
       "      <td>2012</td>\n",
       "      <td>3</td>\n",
       "      <td>0</td>\n",
       "      <td>1</td>\n",
       "      <td>0</td>\n",
       "      <td>1</td>\n",
       "      <td>0</td>\n",
       "      <td>1</td>\n",
       "      <td>0</td>\n",
       "      <td>...</td>\n",
       "      <td>4.200000</td>\n",
       "      <td>4.200000</td>\n",
       "      <td>0.000000</td>\n",
       "      <td>0.000000</td>\n",
       "      <td>12.100000</td>\n",
       "      <td>0.000000</td>\n",
       "      <td>9.400000</td>\n",
       "      <td>0.000000</td>\n",
       "      <td>0.000000</td>\n",
       "      <td>9.960000</td>\n",
       "    </tr>\n",
       "    <tr>\n",
       "      <th>4</th>\n",
       "      <td>18</td>\n",
       "      <td>2012</td>\n",
       "      <td>4</td>\n",
       "      <td>0</td>\n",
       "      <td>1</td>\n",
       "      <td>0</td>\n",
       "      <td>1</td>\n",
       "      <td>0</td>\n",
       "      <td>1</td>\n",
       "      <td>0</td>\n",
       "      <td>...</td>\n",
       "      <td>5.460000</td>\n",
       "      <td>5.460000</td>\n",
       "      <td>0.000000</td>\n",
       "      <td>0.000000</td>\n",
       "      <td>13.360000</td>\n",
       "      <td>0.000000</td>\n",
       "      <td>10.320000</td>\n",
       "      <td>0.000000</td>\n",
       "      <td>0.000000</td>\n",
       "      <td>10.280000</td>\n",
       "    </tr>\n",
       "    <tr>\n",
       "      <th>...</th>\n",
       "      <td>...</td>\n",
       "      <td>...</td>\n",
       "      <td>...</td>\n",
       "      <td>...</td>\n",
       "      <td>...</td>\n",
       "      <td>...</td>\n",
       "      <td>...</td>\n",
       "      <td>...</td>\n",
       "      <td>...</td>\n",
       "      <td>...</td>\n",
       "      <td>...</td>\n",
       "      <td>...</td>\n",
       "      <td>...</td>\n",
       "      <td>...</td>\n",
       "      <td>...</td>\n",
       "      <td>...</td>\n",
       "      <td>...</td>\n",
       "      <td>...</td>\n",
       "      <td>...</td>\n",
       "      <td>...</td>\n",
       "      <td>...</td>\n",
       "    </tr>\n",
       "    <tr>\n",
       "      <th>643685</th>\n",
       "      <td>1827860</td>\n",
       "      <td>2013</td>\n",
       "      <td>1</td>\n",
       "      <td>0</td>\n",
       "      <td>0</td>\n",
       "      <td>0</td>\n",
       "      <td>1</td>\n",
       "      <td>0</td>\n",
       "      <td>0</td>\n",
       "      <td>1</td>\n",
       "      <td>...</td>\n",
       "      <td>0.000000</td>\n",
       "      <td>0.000000</td>\n",
       "      <td>0.000000</td>\n",
       "      <td>0.000000</td>\n",
       "      <td>0.612903</td>\n",
       "      <td>0.000000</td>\n",
       "      <td>0.000000</td>\n",
       "      <td>0.000000</td>\n",
       "      <td>0.000000</td>\n",
       "      <td>0.000000</td>\n",
       "    </tr>\n",
       "    <tr>\n",
       "      <th>643686</th>\n",
       "      <td>1827860</td>\n",
       "      <td>2015</td>\n",
       "      <td>2</td>\n",
       "      <td>1</td>\n",
       "      <td>0</td>\n",
       "      <td>0</td>\n",
       "      <td>1</td>\n",
       "      <td>0</td>\n",
       "      <td>1</td>\n",
       "      <td>0</td>\n",
       "      <td>...</td>\n",
       "      <td>0.000000</td>\n",
       "      <td>0.000000</td>\n",
       "      <td>0.212121</td>\n",
       "      <td>0.212121</td>\n",
       "      <td>17.363636</td>\n",
       "      <td>0.000000</td>\n",
       "      <td>8.909091</td>\n",
       "      <td>0.000000</td>\n",
       "      <td>0.000000</td>\n",
       "      <td>7.121212</td>\n",
       "    </tr>\n",
       "    <tr>\n",
       "      <th>643687</th>\n",
       "      <td>1827860</td>\n",
       "      <td>2016</td>\n",
       "      <td>3</td>\n",
       "      <td>1</td>\n",
       "      <td>0</td>\n",
       "      <td>0</td>\n",
       "      <td>1</td>\n",
       "      <td>1</td>\n",
       "      <td>0</td>\n",
       "      <td>1</td>\n",
       "      <td>...</td>\n",
       "      <td>0.000000</td>\n",
       "      <td>0.000000</td>\n",
       "      <td>0.294118</td>\n",
       "      <td>0.205882</td>\n",
       "      <td>34.705882</td>\n",
       "      <td>0.000000</td>\n",
       "      <td>10.352941</td>\n",
       "      <td>1.705882</td>\n",
       "      <td>1.705882</td>\n",
       "      <td>23.911765</td>\n",
       "    </tr>\n",
       "    <tr>\n",
       "      <th>643688</th>\n",
       "      <td>1827869</td>\n",
       "      <td>2013</td>\n",
       "      <td>1</td>\n",
       "      <td>1</td>\n",
       "      <td>1</td>\n",
       "      <td>0</td>\n",
       "      <td>0</td>\n",
       "      <td>0</td>\n",
       "      <td>1</td>\n",
       "      <td>0</td>\n",
       "      <td>...</td>\n",
       "      <td>0.000000</td>\n",
       "      <td>0.000000</td>\n",
       "      <td>0.000000</td>\n",
       "      <td>0.000000</td>\n",
       "      <td>0.000000</td>\n",
       "      <td>0.525424</td>\n",
       "      <td>0.000000</td>\n",
       "      <td>0.000000</td>\n",
       "      <td>0.000000</td>\n",
       "      <td>0.000000</td>\n",
       "    </tr>\n",
       "    <tr>\n",
       "      <th>643689</th>\n",
       "      <td>1827869</td>\n",
       "      <td>2014</td>\n",
       "      <td>2</td>\n",
       "      <td>0</td>\n",
       "      <td>0</td>\n",
       "      <td>1</td>\n",
       "      <td>0</td>\n",
       "      <td>0</td>\n",
       "      <td>1</td>\n",
       "      <td>0</td>\n",
       "      <td>...</td>\n",
       "      <td>0.000000</td>\n",
       "      <td>0.666667</td>\n",
       "      <td>0.666667</td>\n",
       "      <td>0.000000</td>\n",
       "      <td>0.000000</td>\n",
       "      <td>8.950000</td>\n",
       "      <td>1.033333</td>\n",
       "      <td>0.083333</td>\n",
       "      <td>0.083333</td>\n",
       "      <td>8.133333</td>\n",
       "    </tr>\n",
       "  </tbody>\n",
       "</table>\n",
       "<p>643690 rows × 164 columns</p>\n",
       "</div>"
      ],
      "text/plain": [
       "         persnr  year  nrEntry  ltue  employed_before  receipt_leh_before  \\\n",
       "0             7  2015        1     0                1                   0   \n",
       "1            18  2010        1     1                0                   0   \n",
       "2            18  2011        2     0                1                   0   \n",
       "3            18  2012        3     0                1                   0   \n",
       "4            18  2012        4     0                1                   0   \n",
       "...         ...   ...      ...   ...              ...                 ...   \n",
       "643685  1827860  2013        1     0                0                   0   \n",
       "643686  1827860  2015        2     1                0                   0   \n",
       "643687  1827860  2016        3     1                0                   0   \n",
       "643688  1827869  2013        1     1                1                   0   \n",
       "643689  1827869  2014        2     0                0                   1   \n",
       "\n",
       "        receipt_lhg_before  se_before  ASU_notue_seeking_before  \\\n",
       "0                        0          0                         1   \n",
       "1                        0          0                         0   \n",
       "2                        1          0                         1   \n",
       "3                        1          0                         1   \n",
       "4                        1          0                         1   \n",
       "...                    ...        ...                       ...   \n",
       "643685                   1          0                         0   \n",
       "643686                   1          0                         1   \n",
       "643687                   1          1                         0   \n",
       "643688                   0          0                         1   \n",
       "643689                   0          0                         1   \n",
       "\n",
       "        ASU_other_before  ...  minijob_tot_dur_byage  ft_tot_dur_byage  \\\n",
       "0                      0  ...               0.000000          0.000000   \n",
       "1                      0  ...               0.000000          0.000000   \n",
       "2                      0  ...               2.714286          2.714286   \n",
       "3                      0  ...               4.200000          4.200000   \n",
       "4                      0  ...               5.460000          5.460000   \n",
       "...                  ...  ...                    ...               ...   \n",
       "643685                 1  ...               0.000000          0.000000   \n",
       "643686                 0  ...               0.000000          0.000000   \n",
       "643687                 1  ...               0.000000          0.000000   \n",
       "643688                 0  ...               0.000000          0.000000   \n",
       "643689                 0  ...               0.000000          0.666667   \n",
       "\n",
       "        befrist_tot_dur_byage  leih_tot_dur_byage  LHG_tot_dur_byage  \\\n",
       "0                   15.043478            0.000000           0.000000   \n",
       "1                    0.000000            0.000000           0.000000   \n",
       "2                    0.000000            0.000000          10.775510   \n",
       "3                    0.000000            0.000000          12.100000   \n",
       "4                    0.000000            0.000000          13.360000   \n",
       "...                       ...                 ...                ...   \n",
       "643685               0.000000            0.000000           0.612903   \n",
       "643686               0.212121            0.212121          17.363636   \n",
       "643687               0.294118            0.205882          34.705882   \n",
       "643688               0.000000            0.000000           0.000000   \n",
       "643689               0.666667            0.000000           0.000000   \n",
       "\n",
       "        LEH_tot_dur_byage  almp_tot_dur_byage  almp_aw_tot_dur_byage  \\\n",
       "0                0.000000            0.000000               0.000000   \n",
       "1                0.000000            0.000000               0.000000   \n",
       "2                0.000000            8.367347               0.000000   \n",
       "3                0.000000            9.400000               0.000000   \n",
       "4                0.000000           10.320000               0.000000   \n",
       "...                   ...                 ...                    ...   \n",
       "643685           0.000000            0.000000               0.000000   \n",
       "643686           0.000000            8.909091               0.000000   \n",
       "643687           0.000000           10.352941               1.705882   \n",
       "643688           0.525424            0.000000               0.000000   \n",
       "643689           8.950000            1.033333               0.083333   \n",
       "\n",
       "        se_tot_dur_byage  seeking1_tot_dur_byage  \n",
       "0               0.000000                0.000000  \n",
       "1               0.000000                0.000000  \n",
       "2               0.000000                9.836735  \n",
       "3               0.000000                9.960000  \n",
       "4               0.000000               10.280000  \n",
       "...                  ...                     ...  \n",
       "643685          0.000000                0.000000  \n",
       "643686          0.000000                7.121212  \n",
       "643687          1.705882               23.911765  \n",
       "643688          0.000000                0.000000  \n",
       "643689          0.083333                8.133333  \n",
       "\n",
       "[643690 rows x 164 columns]"
      ]
     },
     "execution_count": 10,
     "metadata": {},
     "output_type": "execute_result"
    }
   ],
   "source": [
    "siab"
   ]
  },
  {
   "cell_type": "markdown",
   "id": "1f87e805",
   "metadata": {
    "papermill": {
     "duration": 0.009974,
     "end_time": "2025-08-19T18:36:49.309864",
     "exception": false,
     "start_time": "2025-08-19T18:36:49.299890",
     "status": "completed"
    },
    "tags": []
   },
   "source": [
    "# Splitting Data and Setting Training Data Size"
   ]
  },
  {
   "cell_type": "code",
   "execution_count": 11,
   "id": "910ae358",
   "metadata": {
    "execution": {
     "iopub.execute_input": "2025-08-19T18:36:49.331975Z",
     "iopub.status.busy": "2025-08-19T18:36:49.330765Z",
     "iopub.status.idle": "2025-08-19T18:36:50.001032Z",
     "shell.execute_reply": "2025-08-19T18:36:49.995151Z"
    },
    "papermill": {
     "duration": 0.68325,
     "end_time": "2025-08-19T18:36:50.002862",
     "exception": false,
     "start_time": "2025-08-19T18:36:49.319612",
     "status": "completed"
    },
    "tags": []
   },
   "outputs": [],
   "source": [
    "from fairness_multiverse.universe import sample_by_year_size\n",
    "\n",
    "siab_train = sample_by_year_size(siab,\n",
    "                               training_year=universe[\"training_year\"],\n",
    "                               training_size=universe[\"training_size\"])"
   ]
  },
  {
   "cell_type": "code",
   "execution_count": 12,
   "id": "919c8ff5",
   "metadata": {
    "execution": {
     "iopub.execute_input": "2025-08-19T18:36:50.025574Z",
     "iopub.status.busy": "2025-08-19T18:36:50.024923Z",
     "iopub.status.idle": "2025-08-19T18:36:50.035172Z",
     "shell.execute_reply": "2025-08-19T18:36:50.033781Z"
    },
    "papermill": {
     "duration": 0.023377,
     "end_time": "2025-08-19T18:36:50.036873",
     "exception": false,
     "start_time": "2025-08-19T18:36:50.013496",
     "status": "completed"
    },
    "tags": []
   },
   "outputs": [
    {
     "data": {
      "text/plain": [
       "(5000, 164)"
      ]
     },
     "execution_count": 12,
     "metadata": {},
     "output_type": "execute_result"
    }
   ],
   "source": [
    "siab_train.shape"
   ]
  },
  {
   "cell_type": "code",
   "execution_count": 13,
   "id": "feb13bf4",
   "metadata": {
    "execution": {
     "iopub.execute_input": "2025-08-19T18:36:50.063709Z",
     "iopub.status.busy": "2025-08-19T18:36:50.062200Z",
     "iopub.status.idle": "2025-08-19T18:36:50.072763Z",
     "shell.execute_reply": "2025-08-19T18:36:50.071959Z"
    },
    "papermill": {
     "duration": 0.024156,
     "end_time": "2025-08-19T18:36:50.074178",
     "exception": false,
     "start_time": "2025-08-19T18:36:50.050022",
     "status": "completed"
    },
    "tags": []
   },
   "outputs": [
    {
     "data": {
      "text/plain": [
       "year\n",
       "2012    1667\n",
       "2013    1667\n",
       "2014    1666\n",
       "dtype: int64"
      ]
     },
     "metadata": {},
     "output_type": "display_data"
    }
   ],
   "source": [
    "display(siab_train.groupby(\"year\").size())"
   ]
  },
  {
   "cell_type": "code",
   "execution_count": 14,
   "id": "0997782f",
   "metadata": {
    "execution": {
     "iopub.execute_input": "2025-08-19T18:36:50.096012Z",
     "iopub.status.busy": "2025-08-19T18:36:50.095726Z",
     "iopub.status.idle": "2025-08-19T18:36:50.464594Z",
     "shell.execute_reply": "2025-08-19T18:36:50.463885Z"
    },
    "papermill": {
     "duration": 0.382822,
     "end_time": "2025-08-19T18:36:50.467500",
     "exception": false,
     "start_time": "2025-08-19T18:36:50.084678",
     "status": "completed"
    },
    "tags": []
   },
   "outputs": [],
   "source": [
    "#siab_train = siab_s[siab_s.year < 2015]\n",
    "siab_calib = siab[siab.year == 2015]\n",
    "siab_test = siab[siab.year == 2016]"
   ]
  },
  {
   "cell_type": "code",
   "execution_count": 15,
   "id": "2c1e4012",
   "metadata": {
    "execution": {
     "iopub.execute_input": "2025-08-19T18:36:50.506825Z",
     "iopub.status.busy": "2025-08-19T18:36:50.506212Z",
     "iopub.status.idle": "2025-08-19T18:36:50.516976Z",
     "shell.execute_reply": "2025-08-19T18:36:50.515960Z"
    },
    "papermill": {
     "duration": 0.026647,
     "end_time": "2025-08-19T18:36:50.518744",
     "exception": false,
     "start_time": "2025-08-19T18:36:50.492097",
     "status": "completed"
    },
    "tags": []
   },
   "outputs": [],
   "source": [
    "#siab_calib.shape"
   ]
  },
  {
   "cell_type": "code",
   "execution_count": 16,
   "id": "f66b54ca",
   "metadata": {
    "execution": {
     "iopub.execute_input": "2025-08-19T18:36:50.562777Z",
     "iopub.status.busy": "2025-08-19T18:36:50.562025Z",
     "iopub.status.idle": "2025-08-19T18:36:50.566993Z",
     "shell.execute_reply": "2025-08-19T18:36:50.566321Z"
    },
    "papermill": {
     "duration": 0.02034,
     "end_time": "2025-08-19T18:36:50.568955",
     "exception": false,
     "start_time": "2025-08-19T18:36:50.548615",
     "status": "completed"
    },
    "tags": []
   },
   "outputs": [],
   "source": [
    "#siab_test.shape"
   ]
  },
  {
   "cell_type": "code",
   "execution_count": 17,
   "id": "27e4384d",
   "metadata": {
    "execution": {
     "iopub.execute_input": "2025-08-19T18:36:50.596720Z",
     "iopub.status.busy": "2025-08-19T18:36:50.595654Z",
     "iopub.status.idle": "2025-08-19T18:36:50.607639Z",
     "shell.execute_reply": "2025-08-19T18:36:50.606554Z"
    },
    "papermill": {
     "duration": 0.02608,
     "end_time": "2025-08-19T18:36:50.609256",
     "exception": false,
     "start_time": "2025-08-19T18:36:50.583176",
     "status": "completed"
    },
    "tags": []
   },
   "outputs": [],
   "source": [
    "X_train = siab_train.iloc[:,4:164]\n",
    "y_train = siab_train.iloc[:, [3]]"
   ]
  },
  {
   "cell_type": "code",
   "execution_count": 18,
   "id": "08ee8389",
   "metadata": {
    "execution": {
     "iopub.execute_input": "2025-08-19T18:36:50.646481Z",
     "iopub.status.busy": "2025-08-19T18:36:50.646135Z",
     "iopub.status.idle": "2025-08-19T18:36:50.732548Z",
     "shell.execute_reply": "2025-08-19T18:36:50.731736Z"
    },
    "papermill": {
     "duration": 0.100915,
     "end_time": "2025-08-19T18:36:50.734544",
     "exception": false,
     "start_time": "2025-08-19T18:36:50.633629",
     "status": "completed"
    },
    "tags": []
   },
   "outputs": [],
   "source": [
    "X_calib = siab_calib.iloc[:,4:164]\n",
    "y_calib = siab_calib.iloc[:, [3]]"
   ]
  },
  {
   "cell_type": "code",
   "execution_count": 19,
   "id": "b7ff42e0",
   "metadata": {
    "execution": {
     "iopub.execute_input": "2025-08-19T18:36:50.760603Z",
     "iopub.status.busy": "2025-08-19T18:36:50.760220Z",
     "iopub.status.idle": "2025-08-19T18:36:50.810528Z",
     "shell.execute_reply": "2025-08-19T18:36:50.809741Z"
    },
    "papermill": {
     "duration": 0.064104,
     "end_time": "2025-08-19T18:36:50.811944",
     "exception": false,
     "start_time": "2025-08-19T18:36:50.747840",
     "status": "completed"
    },
    "tags": []
   },
   "outputs": [],
   "source": [
    "X_test = siab_test.iloc[:,4:164]\n",
    "y_true = siab_test.iloc[:, [3]]"
   ]
  },
  {
   "cell_type": "code",
   "execution_count": 20,
   "id": "0275101e",
   "metadata": {
    "execution": {
     "iopub.execute_input": "2025-08-19T18:36:50.841444Z",
     "iopub.status.busy": "2025-08-19T18:36:50.841025Z",
     "iopub.status.idle": "2025-08-19T18:36:51.039268Z",
     "shell.execute_reply": "2025-08-19T18:36:51.037850Z"
    },
    "papermill": {
     "duration": 0.215332,
     "end_time": "2025-08-19T18:36:51.041229",
     "exception": false,
     "start_time": "2025-08-19T18:36:50.825897",
     "status": "completed"
    },
    "tags": []
   },
   "outputs": [],
   "source": [
    "# Auxiliary data needed downstream in the pipeline\n",
    "\n",
    "org_train = X_train.copy()\n",
    "org_test = X_test.copy()\n",
    "org_calib = X_calib.copy()"
   ]
  },
  {
   "cell_type": "markdown",
   "id": "b461e618",
   "metadata": {
    "papermill": {
     "duration": 0.01116,
     "end_time": "2025-08-19T18:36:51.063329",
     "exception": false,
     "start_time": "2025-08-19T18:36:51.052169",
     "status": "completed"
    },
    "tags": []
   },
   "source": [
    "# Preprocessing Data"
   ]
  },
  {
   "cell_type": "code",
   "execution_count": 21,
   "id": "78e74c4b",
   "metadata": {
    "execution": {
     "iopub.execute_input": "2025-08-19T18:36:51.086217Z",
     "iopub.status.busy": "2025-08-19T18:36:51.085233Z",
     "iopub.status.idle": "2025-08-19T18:36:51.091670Z",
     "shell.execute_reply": "2025-08-19T18:36:51.090920Z"
    },
    "papermill": {
     "duration": 0.019328,
     "end_time": "2025-08-19T18:36:51.093023",
     "exception": false,
     "start_time": "2025-08-19T18:36:51.073695",
     "status": "completed"
    },
    "tags": []
   },
   "outputs": [],
   "source": [
    "# EXCLUDE PROTECTED FEATURES\n",
    "# --------------------------\n",
    "\n",
    "excluded_features = universe[\"exclude_features\"].split(\"-\")\n",
    "excluded_features_dictionary = {\n",
    "    \"nationality\": [\"maxdeutsch1\", \"maxdeutsch.Missing.\"],\n",
    "    \"sex\": [\"frau1\"],\n",
    "    \"age\": [\"age\"],\n",
    "}"
   ]
  },
  {
   "cell_type": "code",
   "execution_count": 22,
   "id": "f8e63555",
   "metadata": {
    "execution": {
     "iopub.execute_input": "2025-08-19T18:36:51.115279Z",
     "iopub.status.busy": "2025-08-19T18:36:51.114889Z",
     "iopub.status.idle": "2025-08-19T18:36:51.190381Z",
     "shell.execute_reply": "2025-08-19T18:36:51.188037Z"
    },
    "papermill": {
     "duration": 0.089559,
     "end_time": "2025-08-19T18:36:51.192757",
     "exception": false,
     "start_time": "2025-08-19T18:36:51.103198",
     "status": "completed"
    },
    "tags": []
   },
   "outputs": [],
   "source": [
    "excluded_features_columns = [\n",
    "    excluded_features_dictionary[f] for f in excluded_features if len(f) > 0 and f != \"none\"\n",
    "]"
   ]
  },
  {
   "cell_type": "code",
   "execution_count": 23,
   "id": "da781f7c",
   "metadata": {
    "execution": {
     "iopub.execute_input": "2025-08-19T18:36:51.224191Z",
     "iopub.status.busy": "2025-08-19T18:36:51.222854Z",
     "iopub.status.idle": "2025-08-19T18:36:51.231650Z",
     "shell.execute_reply": "2025-08-19T18:36:51.230014Z"
    },
    "papermill": {
     "duration": 0.023546,
     "end_time": "2025-08-19T18:36:51.233240",
     "exception": false,
     "start_time": "2025-08-19T18:36:51.209694",
     "status": "completed"
    },
    "tags": []
   },
   "outputs": [],
   "source": [
    "from fairness_multiverse.universe import flatten_once\n",
    "\n",
    "excluded_features_columns = flatten_once(excluded_features_columns)"
   ]
  },
  {
   "cell_type": "code",
   "execution_count": 24,
   "id": "37fef0f0",
   "metadata": {
    "execution": {
     "iopub.execute_input": "2025-08-19T18:36:51.260023Z",
     "iopub.status.busy": "2025-08-19T18:36:51.258679Z",
     "iopub.status.idle": "2025-08-19T18:36:51.271934Z",
     "shell.execute_reply": "2025-08-19T18:36:51.266752Z"
    },
    "papermill": {
     "duration": 0.026885,
     "end_time": "2025-08-19T18:36:51.273568",
     "exception": false,
     "start_time": "2025-08-19T18:36:51.246683",
     "status": "completed"
    },
    "tags": []
   },
   "outputs": [],
   "source": [
    "if len(excluded_features_columns) > 0:\n",
    "    print(f\"Dropping features: {excluded_features_columns}\")\n",
    "    X_train.drop(excluded_features_columns, axis=1, inplace=True)"
   ]
  },
  {
   "cell_type": "code",
   "execution_count": 25,
   "id": "d029e3e9",
   "metadata": {
    "execution": {
     "iopub.execute_input": "2025-08-19T18:36:51.306108Z",
     "iopub.status.busy": "2025-08-19T18:36:51.303873Z",
     "iopub.status.idle": "2025-08-19T18:36:51.314062Z",
     "shell.execute_reply": "2025-08-19T18:36:51.312868Z"
    },
    "papermill": {
     "duration": 0.026769,
     "end_time": "2025-08-19T18:36:51.315828",
     "exception": false,
     "start_time": "2025-08-19T18:36:51.289059",
     "status": "completed"
    },
    "tags": []
   },
   "outputs": [],
   "source": [
    "if len(excluded_features_columns) > 0:\n",
    "    print(f\"Dropping features: {excluded_features_columns}\")\n",
    "    X_test.drop(excluded_features_columns, axis=1, inplace=True)"
   ]
  },
  {
   "cell_type": "code",
   "execution_count": 26,
   "id": "01d571f0",
   "metadata": {
    "execution": {
     "iopub.execute_input": "2025-08-19T18:36:51.368874Z",
     "iopub.status.busy": "2025-08-19T18:36:51.368202Z",
     "iopub.status.idle": "2025-08-19T18:36:51.377432Z",
     "shell.execute_reply": "2025-08-19T18:36:51.375225Z"
    },
    "papermill": {
     "duration": 0.02635,
     "end_time": "2025-08-19T18:36:51.379233",
     "exception": false,
     "start_time": "2025-08-19T18:36:51.352883",
     "status": "completed"
    },
    "tags": []
   },
   "outputs": [],
   "source": [
    "if len(excluded_features_columns) > 0:\n",
    "    print(f\"Dropping features: {excluded_features_columns}\")\n",
    "    X_calib.drop(excluded_features_columns, axis=1, inplace=True)"
   ]
  },
  {
   "cell_type": "code",
   "execution_count": 27,
   "id": "3037356e",
   "metadata": {
    "execution": {
     "iopub.execute_input": "2025-08-19T18:36:51.407871Z",
     "iopub.status.busy": "2025-08-19T18:36:51.406826Z",
     "iopub.status.idle": "2025-08-19T18:36:51.415497Z",
     "shell.execute_reply": "2025-08-19T18:36:51.414221Z"
    },
    "papermill": {
     "duration": 0.021963,
     "end_time": "2025-08-19T18:36:51.416897",
     "exception": false,
     "start_time": "2025-08-19T18:36:51.394934",
     "status": "completed"
    },
    "tags": []
   },
   "outputs": [],
   "source": [
    "# EXCLUDE CERTAIN SUBGROUPS\n",
    "# -------------------------\n",
    "\n",
    "mode = universe.get(\"exclude_subgroups\", \"keep-all\") # Defaults to \"keep-all\" if the key is missing."
   ]
  },
  {
   "cell_type": "code",
   "execution_count": 28,
   "id": "9d1e63fd",
   "metadata": {
    "execution": {
     "iopub.execute_input": "2025-08-19T18:36:51.441831Z",
     "iopub.status.busy": "2025-08-19T18:36:51.440782Z",
     "iopub.status.idle": "2025-08-19T18:36:51.451919Z",
     "shell.execute_reply": "2025-08-19T18:36:51.450332Z"
    },
    "papermill": {
     "duration": 0.026781,
     "end_time": "2025-08-19T18:36:51.455165",
     "exception": false,
     "start_time": "2025-08-19T18:36:51.428384",
     "status": "completed"
    },
    "tags": []
   },
   "outputs": [],
   "source": [
    "if mode == \"keep-all\":\n",
    "    keep_mask = pd.Series(True, index=org_train.index)\n",
    "\n",
    "elif mode == \"drop-non-german\":\n",
    "    keep_mask = (org_train[\"maxdeutsch1\"] == 1) & (org_train[\"maxdeutsch.Missing.\"] == 0)\n",
    "\n",
    "else:\n",
    "    raise ValueError(f\"Unsupported mode for exclude_subgroups: {mode}\")"
   ]
  },
  {
   "cell_type": "code",
   "execution_count": 29,
   "id": "d3b65474",
   "metadata": {
    "execution": {
     "iopub.execute_input": "2025-08-19T18:36:51.492837Z",
     "iopub.status.busy": "2025-08-19T18:36:51.491761Z",
     "iopub.status.idle": "2025-08-19T18:36:51.503445Z",
     "shell.execute_reply": "2025-08-19T18:36:51.501904Z"
    },
    "papermill": {
     "duration": 0.027154,
     "end_time": "2025-08-19T18:36:51.505047",
     "exception": false,
     "start_time": "2025-08-19T18:36:51.477893",
     "status": "completed"
    },
    "tags": []
   },
   "outputs": [
    {
     "name": "stdout",
     "output_type": "stream",
     "text": [
      "Dropping 665 rows (13.30%) where mode='drop-non-german'\n"
     ]
    }
   ],
   "source": [
    "n_drop = (~keep_mask).sum() # Calculates how many rows are set to be dropped\n",
    "if n_drop > 0:\n",
    "    pct = n_drop / len(keep_mask) * 100\n",
    "    print(f\"Dropping {n_drop} rows ({pct:.2f}%) where mode='{mode}'\")"
   ]
  },
  {
   "cell_type": "code",
   "execution_count": 30,
   "id": "f44389b3",
   "metadata": {
    "execution": {
     "iopub.execute_input": "2025-08-19T18:36:51.572666Z",
     "iopub.status.busy": "2025-08-19T18:36:51.571458Z",
     "iopub.status.idle": "2025-08-19T18:36:51.584860Z",
     "shell.execute_reply": "2025-08-19T18:36:51.583291Z"
    },
    "papermill": {
     "duration": 0.049895,
     "end_time": "2025-08-19T18:36:51.588575",
     "exception": false,
     "start_time": "2025-08-19T18:36:51.538680",
     "status": "completed"
    },
    "tags": []
   },
   "outputs": [],
   "source": [
    "X_train = X_train[keep_mask]"
   ]
  },
  {
   "cell_type": "code",
   "execution_count": 31,
   "id": "ceca8c2a",
   "metadata": {
    "execution": {
     "iopub.execute_input": "2025-08-19T18:36:51.653748Z",
     "iopub.status.busy": "2025-08-19T18:36:51.652191Z",
     "iopub.status.idle": "2025-08-19T18:36:51.672555Z",
     "shell.execute_reply": "2025-08-19T18:36:51.661193Z"
    },
    "papermill": {
     "duration": 0.04666,
     "end_time": "2025-08-19T18:36:51.674388",
     "exception": false,
     "start_time": "2025-08-19T18:36:51.627728",
     "status": "completed"
    },
    "tags": []
   },
   "outputs": [],
   "source": [
    "y_train = y_train[keep_mask]"
   ]
  },
  {
   "cell_type": "markdown",
   "id": "04d31e2f",
   "metadata": {
    "papermill": {
     "duration": 0.010752,
     "end_time": "2025-08-19T18:36:51.698586",
     "exception": false,
     "start_time": "2025-08-19T18:36:51.687834",
     "status": "completed"
    },
    "tags": []
   },
   "source": [
    "# Model Training"
   ]
  },
  {
   "cell_type": "code",
   "execution_count": 32,
   "id": "db991733",
   "metadata": {
    "execution": {
     "iopub.execute_input": "2025-08-19T18:36:51.735104Z",
     "iopub.status.busy": "2025-08-19T18:36:51.734355Z",
     "iopub.status.idle": "2025-08-19T18:36:51.835330Z",
     "shell.execute_reply": "2025-08-19T18:36:51.834307Z"
    },
    "papermill": {
     "duration": 0.121413,
     "end_time": "2025-08-19T18:36:51.837332",
     "exception": false,
     "start_time": "2025-08-19T18:36:51.715919",
     "status": "completed"
    },
    "tags": []
   },
   "outputs": [],
   "source": [
    "from sklearn.linear_model import LogisticRegression\n",
    "from sklearn.ensemble import GradientBoostingClassifier, RandomForestClassifier\n",
    "\n",
    "if (universe[\"model\"] == \"logreg\"):\n",
    "    model = LogisticRegression() #penalty=\"none\", solver=\"newton-cg\", max_iter=1)\n",
    "elif (universe[\"model\"] == \"penalized_logreg\"):\n",
    "    model = LogisticRegression(penalty=\"l2\", C=0.1) #, solver=\"newton-cg\", max_iter=1)\n",
    "elif (universe[\"model\"] == \"rf\"):\n",
    "    model = RandomForestClassifier() # n_estimators=100, n_jobs=-1\n",
    "elif (universe[\"model\"] == \"gbm\"):\n",
    "    model = GradientBoostingClassifier()\n",
    "elif (universe[\"model\"] == \"elasticnet\"):\n",
    "    model = LogisticRegression(penalty = 'elasticnet', solver = 'saga', l1_ratio = 0.5) # max_iter=5000\n",
    "else:\n",
    "    raise \"Unsupported universe.model\""
   ]
  },
  {
   "cell_type": "code",
   "execution_count": 33,
   "id": "a4b5cd25",
   "metadata": {
    "execution": {
     "iopub.execute_input": "2025-08-19T18:36:51.873406Z",
     "iopub.status.busy": "2025-08-19T18:36:51.862141Z",
     "iopub.status.idle": "2025-08-19T18:36:51.878907Z",
     "shell.execute_reply": "2025-08-19T18:36:51.877960Z"
    },
    "papermill": {
     "duration": 0.032897,
     "end_time": "2025-08-19T18:36:51.882196",
     "exception": false,
     "start_time": "2025-08-19T18:36:51.849299",
     "status": "completed"
    },
    "tags": []
   },
   "outputs": [],
   "source": [
    "from sklearn.pipeline import Pipeline\n",
    "from sklearn.preprocessing import StandardScaler\n",
    "\n",
    "model = Pipeline([\n",
    "    #(\"continuous_processor\", continuous_processor),\n",
    "    #(\"categorical_preprocessor\", categorical_preprocessor),\n",
    "    (\"scale\", StandardScaler() if universe[\"scale\"] == \"scale\" else None), \n",
    "    (\"model\", model),\n",
    "])"
   ]
  },
  {
   "cell_type": "code",
   "execution_count": 34,
   "id": "283a904d",
   "metadata": {
    "execution": {
     "iopub.execute_input": "2025-08-19T18:36:51.912420Z",
     "iopub.status.busy": "2025-08-19T18:36:51.912019Z",
     "iopub.status.idle": "2025-08-19T18:36:53.012581Z",
     "shell.execute_reply": "2025-08-19T18:36:53.011192Z"
    },
    "papermill": {
     "duration": 1.118294,
     "end_time": "2025-08-19T18:36:53.014213",
     "exception": false,
     "start_time": "2025-08-19T18:36:51.895919",
     "status": "completed"
    },
    "tags": []
   },
   "outputs": [
    {
     "data": {
      "text/html": [
       "<style>#sk-container-id-1 {color: black;background-color: white;}#sk-container-id-1 pre{padding: 0;}#sk-container-id-1 div.sk-toggleable {background-color: white;}#sk-container-id-1 label.sk-toggleable__label {cursor: pointer;display: block;width: 100%;margin-bottom: 0;padding: 0.3em;box-sizing: border-box;text-align: center;}#sk-container-id-1 label.sk-toggleable__label-arrow:before {content: \"▸\";float: left;margin-right: 0.25em;color: #696969;}#sk-container-id-1 label.sk-toggleable__label-arrow:hover:before {color: black;}#sk-container-id-1 div.sk-estimator:hover label.sk-toggleable__label-arrow:before {color: black;}#sk-container-id-1 div.sk-toggleable__content {max-height: 0;max-width: 0;overflow: hidden;text-align: left;background-color: #f0f8ff;}#sk-container-id-1 div.sk-toggleable__content pre {margin: 0.2em;color: black;border-radius: 0.25em;background-color: #f0f8ff;}#sk-container-id-1 input.sk-toggleable__control:checked~div.sk-toggleable__content {max-height: 200px;max-width: 100%;overflow: auto;}#sk-container-id-1 input.sk-toggleable__control:checked~label.sk-toggleable__label-arrow:before {content: \"▾\";}#sk-container-id-1 div.sk-estimator input.sk-toggleable__control:checked~label.sk-toggleable__label {background-color: #d4ebff;}#sk-container-id-1 div.sk-label input.sk-toggleable__control:checked~label.sk-toggleable__label {background-color: #d4ebff;}#sk-container-id-1 input.sk-hidden--visually {border: 0;clip: rect(1px 1px 1px 1px);clip: rect(1px, 1px, 1px, 1px);height: 1px;margin: -1px;overflow: hidden;padding: 0;position: absolute;width: 1px;}#sk-container-id-1 div.sk-estimator {font-family: monospace;background-color: #f0f8ff;border: 1px dotted black;border-radius: 0.25em;box-sizing: border-box;margin-bottom: 0.5em;}#sk-container-id-1 div.sk-estimator:hover {background-color: #d4ebff;}#sk-container-id-1 div.sk-parallel-item::after {content: \"\";width: 100%;border-bottom: 1px solid gray;flex-grow: 1;}#sk-container-id-1 div.sk-label:hover label.sk-toggleable__label {background-color: #d4ebff;}#sk-container-id-1 div.sk-serial::before {content: \"\";position: absolute;border-left: 1px solid gray;box-sizing: border-box;top: 0;bottom: 0;left: 50%;z-index: 0;}#sk-container-id-1 div.sk-serial {display: flex;flex-direction: column;align-items: center;background-color: white;padding-right: 0.2em;padding-left: 0.2em;position: relative;}#sk-container-id-1 div.sk-item {position: relative;z-index: 1;}#sk-container-id-1 div.sk-parallel {display: flex;align-items: stretch;justify-content: center;background-color: white;position: relative;}#sk-container-id-1 div.sk-item::before, #sk-container-id-1 div.sk-parallel-item::before {content: \"\";position: absolute;border-left: 1px solid gray;box-sizing: border-box;top: 0;bottom: 0;left: 50%;z-index: -1;}#sk-container-id-1 div.sk-parallel-item {display: flex;flex-direction: column;z-index: 1;position: relative;background-color: white;}#sk-container-id-1 div.sk-parallel-item:first-child::after {align-self: flex-end;width: 50%;}#sk-container-id-1 div.sk-parallel-item:last-child::after {align-self: flex-start;width: 50%;}#sk-container-id-1 div.sk-parallel-item:only-child::after {width: 0;}#sk-container-id-1 div.sk-dashed-wrapped {border: 1px dashed gray;margin: 0 0.4em 0.5em 0.4em;box-sizing: border-box;padding-bottom: 0.4em;background-color: white;}#sk-container-id-1 div.sk-label label {font-family: monospace;font-weight: bold;display: inline-block;line-height: 1.2em;}#sk-container-id-1 div.sk-label-container {text-align: center;}#sk-container-id-1 div.sk-container {/* jupyter's `normalize.less` sets `[hidden] { display: none; }` but bootstrap.min.css set `[hidden] { display: none !important; }` so we also need the `!important` here to be able to override the default hidden behavior on the sphinx rendered scikit-learn.org. See: https://github.com/scikit-learn/scikit-learn/issues/21755 */display: inline-block !important;position: relative;}#sk-container-id-1 div.sk-text-repr-fallback {display: none;}</style><div id=\"sk-container-id-1\" class=\"sk-top-container\"><div class=\"sk-text-repr-fallback\"><pre>Pipeline(steps=[(&#x27;scale&#x27;, None), (&#x27;model&#x27;, RandomForestClassifier())])</pre><b>In a Jupyter environment, please rerun this cell to show the HTML representation or trust the notebook. <br />On GitHub, the HTML representation is unable to render, please try loading this page with nbviewer.org.</b></div><div class=\"sk-container\" hidden><div class=\"sk-item sk-dashed-wrapped\"><div class=\"sk-label-container\"><div class=\"sk-label sk-toggleable\"><input class=\"sk-toggleable__control sk-hidden--visually\" id=\"sk-estimator-id-1\" type=\"checkbox\" ><label for=\"sk-estimator-id-1\" class=\"sk-toggleable__label sk-toggleable__label-arrow\">Pipeline</label><div class=\"sk-toggleable__content\"><pre>Pipeline(steps=[(&#x27;scale&#x27;, None), (&#x27;model&#x27;, RandomForestClassifier())])</pre></div></div></div><div class=\"sk-serial\"><div class=\"sk-item\"><div class=\"sk-estimator sk-toggleable\"><input class=\"sk-toggleable__control sk-hidden--visually\" id=\"sk-estimator-id-2\" type=\"checkbox\" ><label for=\"sk-estimator-id-2\" class=\"sk-toggleable__label sk-toggleable__label-arrow\">None</label><div class=\"sk-toggleable__content\"><pre>None</pre></div></div></div><div class=\"sk-item\"><div class=\"sk-estimator sk-toggleable\"><input class=\"sk-toggleable__control sk-hidden--visually\" id=\"sk-estimator-id-3\" type=\"checkbox\" ><label for=\"sk-estimator-id-3\" class=\"sk-toggleable__label sk-toggleable__label-arrow\">RandomForestClassifier</label><div class=\"sk-toggleable__content\"><pre>RandomForestClassifier()</pre></div></div></div></div></div></div></div>"
      ],
      "text/plain": [
       "Pipeline(steps=[('scale', None), ('model', RandomForestClassifier())])"
      ]
     },
     "execution_count": 34,
     "metadata": {},
     "output_type": "execute_result"
    }
   ],
   "source": [
    "model.fit(X_train, y_train.values.ravel())"
   ]
  },
  {
   "cell_type": "code",
   "execution_count": 35,
   "id": "6e15e313",
   "metadata": {
    "execution": {
     "iopub.execute_input": "2025-08-19T18:36:53.039824Z",
     "iopub.status.busy": "2025-08-19T18:36:53.038795Z",
     "iopub.status.idle": "2025-08-19T18:36:54.686414Z",
     "shell.execute_reply": "2025-08-19T18:36:54.685178Z"
    },
    "papermill": {
     "duration": 1.661523,
     "end_time": "2025-08-19T18:36:54.687911",
     "exception": false,
     "start_time": "2025-08-19T18:36:53.026388",
     "status": "completed"
    },
    "tags": []
   },
   "outputs": [
    {
     "data": {
      "text/plain": [
       "0.8635826552223832"
      ]
     },
     "execution_count": 35,
     "metadata": {},
     "output_type": "execute_result"
    }
   ],
   "source": [
    "from fairness_multiverse.universe import predict_w_threshold\n",
    "\n",
    "probs_test = model.predict_proba(X_test)\n",
    "\n",
    "'''\n",
    "Below code returns a boolean array (or binary 0/1 array depending on how it’s used) where each element \n",
    "is True if the probability of class 1 is greater than or equal to the threshold, and False otherwise.\n",
    "'''\n",
    "y_pred_default = predict_w_threshold(probs_test, 0.5)\n",
    "\n",
    "from sklearn.metrics import accuracy_score\n",
    "\n",
    "# Naive prediction\n",
    "accuracy_score(y_true = y_true, y_pred = y_pred_default)"
   ]
  },
  {
   "cell_type": "code",
   "execution_count": 36,
   "id": "6f14067c",
   "metadata": {
    "execution": {
     "iopub.execute_input": "2025-08-19T18:36:54.741025Z",
     "iopub.status.busy": "2025-08-19T18:36:54.739861Z",
     "iopub.status.idle": "2025-08-19T18:36:56.376028Z",
     "shell.execute_reply": "2025-08-19T18:36:56.374945Z"
    },
    "papermill": {
     "duration": 1.664481,
     "end_time": "2025-08-19T18:36:56.377587",
     "exception": false,
     "start_time": "2025-08-19T18:36:54.713106",
     "status": "completed"
    },
    "tags": []
   },
   "outputs": [
    {
     "data": {
      "text/plain": [
       "array([0, 0, 0, ..., 0, 0, 0])"
      ]
     },
     "execution_count": 36,
     "metadata": {},
     "output_type": "execute_result"
    }
   ],
   "source": [
    "model.predict(X_test)"
   ]
  },
  {
   "cell_type": "markdown",
   "id": "3759920c",
   "metadata": {
    "papermill": {
     "duration": 0.024955,
     "end_time": "2025-08-19T18:36:56.418036",
     "exception": false,
     "start_time": "2025-08-19T18:36:56.393081",
     "status": "completed"
    },
    "tags": []
   },
   "source": [
    "# Conformal Prediction"
   ]
  },
  {
   "cell_type": "code",
   "execution_count": 37,
   "id": "14b27f59",
   "metadata": {
    "execution": {
     "iopub.execute_input": "2025-08-19T18:36:56.445425Z",
     "iopub.status.busy": "2025-08-19T18:36:56.444286Z",
     "iopub.status.idle": "2025-08-19T18:36:56.451753Z",
     "shell.execute_reply": "2025-08-19T18:36:56.450614Z"
    },
    "papermill": {
     "duration": 0.022194,
     "end_time": "2025-08-19T18:36:56.453203",
     "exception": false,
     "start_time": "2025-08-19T18:36:56.431009",
     "status": "completed"
    },
    "tags": []
   },
   "outputs": [],
   "source": [
    "# Miscoverage level for conformal prediction (10% allowed error rate => 90% target coverage)\n",
    "alpha = 0.1"
   ]
  },
  {
   "cell_type": "code",
   "execution_count": 38,
   "id": "59102472",
   "metadata": {
    "execution": {
     "iopub.execute_input": "2025-08-19T18:36:56.482848Z",
     "iopub.status.busy": "2025-08-19T18:36:56.480943Z",
     "iopub.status.idle": "2025-08-19T18:36:58.116416Z",
     "shell.execute_reply": "2025-08-19T18:36:58.114967Z"
    },
    "papermill": {
     "duration": 1.651284,
     "end_time": "2025-08-19T18:36:58.118158",
     "exception": false,
     "start_time": "2025-08-19T18:36:56.466874",
     "status": "completed"
    },
    "tags": []
   },
   "outputs": [],
   "source": [
    "probs_calib = model.predict_proba(X_calib)"
   ]
  },
  {
   "cell_type": "code",
   "execution_count": 39,
   "id": "a792d4dd",
   "metadata": {
    "execution": {
     "iopub.execute_input": "2025-08-19T18:36:58.165466Z",
     "iopub.status.busy": "2025-08-19T18:36:58.164936Z",
     "iopub.status.idle": "2025-08-19T18:36:58.170966Z",
     "shell.execute_reply": "2025-08-19T18:36:58.170174Z"
    },
    "papermill": {
     "duration": 0.035992,
     "end_time": "2025-08-19T18:36:58.172426",
     "exception": false,
     "start_time": "2025-08-19T18:36:58.136434",
     "status": "completed"
    },
    "tags": []
   },
   "outputs": [],
   "source": [
    "y_calib = y_calib.values.ravel().astype(int)"
   ]
  },
  {
   "cell_type": "code",
   "execution_count": 40,
   "id": "650fd033",
   "metadata": {
    "execution": {
     "iopub.execute_input": "2025-08-19T18:36:58.199264Z",
     "iopub.status.busy": "2025-08-19T18:36:58.198513Z",
     "iopub.status.idle": "2025-08-19T18:36:58.208618Z",
     "shell.execute_reply": "2025-08-19T18:36:58.207603Z"
    },
    "papermill": {
     "duration": 0.023761,
     "end_time": "2025-08-19T18:36:58.209939",
     "exception": false,
     "start_time": "2025-08-19T18:36:58.186178",
     "status": "completed"
    },
    "tags": []
   },
   "outputs": [],
   "source": [
    "from fairness_multiverse.conformal import compute_nc_scores\n",
    "\n",
    "# Compute nonconformity scores on calibration set (1 - probability of true class)\n",
    "nc_scores = compute_nc_scores(probs_calib, y_calib)"
   ]
  },
  {
   "cell_type": "code",
   "execution_count": 41,
   "id": "28ada44c",
   "metadata": {
    "execution": {
     "iopub.execute_input": "2025-08-19T18:36:58.237402Z",
     "iopub.status.busy": "2025-08-19T18:36:58.236526Z",
     "iopub.status.idle": "2025-08-19T18:36:58.247162Z",
     "shell.execute_reply": "2025-08-19T18:36:58.245960Z"
    },
    "papermill": {
     "duration": 0.02483,
     "end_time": "2025-08-19T18:36:58.248627",
     "exception": false,
     "start_time": "2025-08-19T18:36:58.223797",
     "status": "completed"
    },
    "tags": []
   },
   "outputs": [],
   "source": [
    "from fairness_multiverse.conformal import find_threshold\n",
    "\n",
    "# Find conformal threshold q_hat for the given alpha (split conformal method)\n",
    "q_hat = find_threshold(nc_scores, alpha)"
   ]
  },
  {
   "cell_type": "code",
   "execution_count": 42,
   "id": "df56469e",
   "metadata": {
    "execution": {
     "iopub.execute_input": "2025-08-19T18:36:58.275968Z",
     "iopub.status.busy": "2025-08-19T18:36:58.274966Z",
     "iopub.status.idle": "2025-08-19T18:36:58.285214Z",
     "shell.execute_reply": "2025-08-19T18:36:58.283954Z"
    },
    "papermill": {
     "duration": 0.024292,
     "end_time": "2025-08-19T18:36:58.286729",
     "exception": false,
     "start_time": "2025-08-19T18:36:58.262437",
     "status": "completed"
    },
    "tags": []
   },
   "outputs": [
    {
     "data": {
      "text/plain": [
       "0.6799999999999999"
      ]
     },
     "execution_count": 42,
     "metadata": {},
     "output_type": "execute_result"
    }
   ],
   "source": [
    "q_hat"
   ]
  },
  {
   "cell_type": "code",
   "execution_count": 43,
   "id": "aa1f5faa",
   "metadata": {
    "execution": {
     "iopub.execute_input": "2025-08-19T18:36:58.312864Z",
     "iopub.status.busy": "2025-08-19T18:36:58.311860Z",
     "iopub.status.idle": "2025-08-19T18:37:00.390304Z",
     "shell.execute_reply": "2025-08-19T18:37:00.389467Z"
    },
    "papermill": {
     "duration": 2.092841,
     "end_time": "2025-08-19T18:37:00.392045",
     "exception": false,
     "start_time": "2025-08-19T18:36:58.299204",
     "status": "completed"
    },
    "tags": []
   },
   "outputs": [],
   "source": [
    "from fairness_multiverse.conformal import predict_conformal_sets\n",
    "\n",
    "# Generate prediction sets for each test example\n",
    "pred_sets = predict_conformal_sets(model, X_test, q_hat)"
   ]
  },
  {
   "cell_type": "code",
   "execution_count": 44,
   "id": "97f67a6b",
   "metadata": {
    "execution": {
     "iopub.execute_input": "2025-08-19T18:37:00.436052Z",
     "iopub.status.busy": "2025-08-19T18:37:00.435618Z",
     "iopub.status.idle": "2025-08-19T18:37:00.440352Z",
     "shell.execute_reply": "2025-08-19T18:37:00.439695Z"
    },
    "papermill": {
     "duration": 0.027891,
     "end_time": "2025-08-19T18:37:00.443234",
     "exception": false,
     "start_time": "2025-08-19T18:37:00.415343",
     "status": "completed"
    },
    "tags": []
   },
   "outputs": [],
   "source": [
    "y_true = y_true.squeeze()"
   ]
  },
  {
   "cell_type": "code",
   "execution_count": 45,
   "id": "e700e9a7",
   "metadata": {
    "execution": {
     "iopub.execute_input": "2025-08-19T18:37:00.482456Z",
     "iopub.status.busy": "2025-08-19T18:37:00.481200Z",
     "iopub.status.idle": "2025-08-19T18:37:00.996413Z",
     "shell.execute_reply": "2025-08-19T18:37:00.995228Z"
    },
    "papermill": {
     "duration": 0.532048,
     "end_time": "2025-08-19T18:37:00.999329",
     "exception": false,
     "start_time": "2025-08-19T18:37:00.467281",
     "status": "completed"
    },
    "tags": []
   },
   "outputs": [],
   "source": [
    "from fairness_multiverse.conformal import evaluate_sets\n",
    "\n",
    "# Evaluate coverage and average set size on test data\n",
    "metrics = evaluate_sets(pred_sets, y_true)"
   ]
  },
  {
   "cell_type": "markdown",
   "id": "efbacec0",
   "metadata": {
    "papermill": {
     "duration": 0.013677,
     "end_time": "2025-08-19T18:37:01.039707",
     "exception": false,
     "start_time": "2025-08-19T18:37:01.026030",
     "status": "completed"
    },
    "tags": []
   },
   "source": [
    "# CP Metrics"
   ]
  },
  {
   "cell_type": "code",
   "execution_count": 46,
   "id": "9de55fb1",
   "metadata": {
    "execution": {
     "iopub.execute_input": "2025-08-19T18:37:01.066617Z",
     "iopub.status.busy": "2025-08-19T18:37:01.065401Z",
     "iopub.status.idle": "2025-08-19T18:37:01.080524Z",
     "shell.execute_reply": "2025-08-19T18:37:01.078858Z"
    },
    "papermill": {
     "duration": 0.030749,
     "end_time": "2025-08-19T18:37:01.082078",
     "exception": false,
     "start_time": "2025-08-19T18:37:01.051329",
     "status": "completed"
    },
    "tags": []
   },
   "outputs": [
    {
     "data": {
      "text/plain": [
       "{'coverage': 0.9133764351800245, 'avg_size': 1.1469512874818861}"
      ]
     },
     "execution_count": 46,
     "metadata": {},
     "output_type": "execute_result"
    }
   ],
   "source": [
    "metrics"
   ]
  },
  {
   "cell_type": "code",
   "execution_count": 47,
   "id": "64c340a1",
   "metadata": {
    "execution": {
     "iopub.execute_input": "2025-08-19T18:37:01.114846Z",
     "iopub.status.busy": "2025-08-19T18:37:01.113698Z",
     "iopub.status.idle": "2025-08-19T18:37:01.124924Z",
     "shell.execute_reply": "2025-08-19T18:37:01.123387Z"
    },
    "papermill": {
     "duration": 0.026929,
     "end_time": "2025-08-19T18:37:01.126484",
     "exception": false,
     "start_time": "2025-08-19T18:37:01.099555",
     "status": "completed"
    },
    "tags": []
   },
   "outputs": [],
   "source": [
    "example_universe = universe.copy()\n",
    "universe_training_year = example_universe.get(\"training_year\")\n",
    "universe_training_size = example_universe.get(\"training_size\")\n",
    "universe_scale = example_universe.get(\"scale\")\n",
    "universe_model = example_universe.get(\"model\")\n",
    "universe_exclude_features = example_universe.get(\"exclude_features\")\n",
    "universe_exclude_subgroups = example_universe.get(\"exclude_subgroups\")"
   ]
  },
  {
   "cell_type": "code",
   "execution_count": 48,
   "id": "dbb53cb4",
   "metadata": {
    "execution": {
     "iopub.execute_input": "2025-08-19T18:37:01.155674Z",
     "iopub.status.busy": "2025-08-19T18:37:01.154679Z",
     "iopub.status.idle": "2025-08-19T18:37:01.165499Z",
     "shell.execute_reply": "2025-08-19T18:37:01.163854Z"
    },
    "papermill": {
     "duration": 0.025729,
     "end_time": "2025-08-19T18:37:01.167065",
     "exception": false,
     "start_time": "2025-08-19T18:37:01.141336",
     "status": "completed"
    },
    "tags": []
   },
   "outputs": [],
   "source": [
    "cp_metrics_dict = {\n",
    "    \"universe_id\": [universe_id],\n",
    "    \"universe_training_year\": [universe_training_year],\n",
    "    \"universe_training_size\": [universe_training_size],\n",
    "    \"universe_scale\": [universe_scale],\n",
    "    \"universe_model\": [universe_model],\n",
    "    \"universe_exclude_features\": [universe_exclude_features],\n",
    "    \"universe_exclude_subgroups\": [universe_exclude_subgroups],\n",
    "    \"q_hat\": [q_hat],\n",
    "    \"coverage\": [metrics[\"coverage\"]],\n",
    "    \"avg_size\": [metrics[\"avg_size\"]],\n",
    "}"
   ]
  },
  {
   "cell_type": "code",
   "execution_count": 49,
   "id": "0d70d4b2",
   "metadata": {
    "execution": {
     "iopub.execute_input": "2025-08-19T18:37:01.196273Z",
     "iopub.status.busy": "2025-08-19T18:37:01.195267Z",
     "iopub.status.idle": "2025-08-19T18:37:01.207937Z",
     "shell.execute_reply": "2025-08-19T18:37:01.206294Z"
    },
    "papermill": {
     "duration": 0.027804,
     "end_time": "2025-08-19T18:37:01.209648",
     "exception": false,
     "start_time": "2025-08-19T18:37:01.181844",
     "status": "completed"
    },
    "tags": []
   },
   "outputs": [],
   "source": [
    "cp_metrics_df = pd.DataFrame(cp_metrics_dict)"
   ]
  },
  {
   "cell_type": "code",
   "execution_count": 50,
   "id": "b494403c",
   "metadata": {
    "execution": {
     "iopub.execute_input": "2025-08-19T18:37:01.239839Z",
     "iopub.status.busy": "2025-08-19T18:37:01.238809Z",
     "iopub.status.idle": "2025-08-19T18:37:01.263120Z",
     "shell.execute_reply": "2025-08-19T18:37:01.262334Z"
    },
    "papermill": {
     "duration": 0.039846,
     "end_time": "2025-08-19T18:37:01.264908",
     "exception": false,
     "start_time": "2025-08-19T18:37:01.225062",
     "status": "completed"
    },
    "tags": []
   },
   "outputs": [
    {
     "data": {
      "text/html": [
       "<div>\n",
       "<style scoped>\n",
       "    .dataframe tbody tr th:only-of-type {\n",
       "        vertical-align: middle;\n",
       "    }\n",
       "\n",
       "    .dataframe tbody tr th {\n",
       "        vertical-align: top;\n",
       "    }\n",
       "\n",
       "    .dataframe thead th {\n",
       "        text-align: right;\n",
       "    }\n",
       "</style>\n",
       "<table border=\"1\" class=\"dataframe\">\n",
       "  <thead>\n",
       "    <tr style=\"text-align: right;\">\n",
       "      <th></th>\n",
       "      <th>universe_id</th>\n",
       "      <th>universe_training_year</th>\n",
       "      <th>universe_training_size</th>\n",
       "      <th>universe_scale</th>\n",
       "      <th>universe_model</th>\n",
       "      <th>universe_exclude_features</th>\n",
       "      <th>universe_exclude_subgroups</th>\n",
       "      <th>q_hat</th>\n",
       "      <th>coverage</th>\n",
       "      <th>avg_size</th>\n",
       "    </tr>\n",
       "  </thead>\n",
       "  <tbody>\n",
       "    <tr>\n",
       "      <th>0</th>\n",
       "      <td>c2bb59cfada70f73cca271f17d37baa8</td>\n",
       "      <td>2012_14</td>\n",
       "      <td>5k</td>\n",
       "      <td>do-not-scale</td>\n",
       "      <td>rf</td>\n",
       "      <td>none</td>\n",
       "      <td>drop-non-german</td>\n",
       "      <td>0.68</td>\n",
       "      <td>0.913376</td>\n",
       "      <td>1.146951</td>\n",
       "    </tr>\n",
       "  </tbody>\n",
       "</table>\n",
       "</div>"
      ],
      "text/plain": [
       "                        universe_id universe_training_year  \\\n",
       "0  c2bb59cfada70f73cca271f17d37baa8                2012_14   \n",
       "\n",
       "  universe_training_size universe_scale universe_model  \\\n",
       "0                     5k   do-not-scale             rf   \n",
       "\n",
       "  universe_exclude_features universe_exclude_subgroups  q_hat  coverage  \\\n",
       "0                      none            drop-non-german   0.68  0.913376   \n",
       "\n",
       "   avg_size  \n",
       "0  1.146951  "
      ]
     },
     "execution_count": 50,
     "metadata": {},
     "output_type": "execute_result"
    }
   ],
   "source": [
    "cp_metrics_df"
   ]
  },
  {
   "cell_type": "markdown",
   "id": "ed608b0b",
   "metadata": {
    "papermill": {
     "duration": 0.012659,
     "end_time": "2025-08-19T18:37:01.300828",
     "exception": false,
     "start_time": "2025-08-19T18:37:01.288169",
     "status": "completed"
    },
    "tags": []
   },
   "source": [
    "Conditional coverage & looking at subgroups"
   ]
  },
  {
   "cell_type": "code",
   "execution_count": 51,
   "id": "8968c366",
   "metadata": {
    "execution": {
     "iopub.execute_input": "2025-08-19T18:37:01.327581Z",
     "iopub.status.busy": "2025-08-19T18:37:01.326534Z",
     "iopub.status.idle": "2025-08-19T18:37:01.595251Z",
     "shell.execute_reply": "2025-08-19T18:37:01.594486Z"
    },
    "papermill": {
     "duration": 0.285124,
     "end_time": "2025-08-19T18:37:01.598060",
     "exception": false,
     "start_time": "2025-08-19T18:37:01.312936",
     "status": "completed"
    },
    "tags": []
   },
   "outputs": [],
   "source": [
    "from fairness_multiverse.conformal import build_cp_groups\n",
    "\n",
    "cp_groups_df = build_cp_groups(pred_sets, y_true, X_test.index, org_test)"
   ]
  },
  {
   "cell_type": "code",
   "execution_count": 52,
   "id": "292ddabf",
   "metadata": {
    "execution": {
     "iopub.execute_input": "2025-08-19T18:37:01.646465Z",
     "iopub.status.busy": "2025-08-19T18:37:01.645428Z",
     "iopub.status.idle": "2025-08-19T18:37:02.515899Z",
     "shell.execute_reply": "2025-08-19T18:37:02.514712Z"
    },
    "papermill": {
     "duration": 0.889193,
     "end_time": "2025-08-19T18:37:02.517634",
     "exception": false,
     "start_time": "2025-08-19T18:37:01.628441",
     "status": "completed"
    },
    "tags": []
   },
   "outputs": [],
   "source": [
    "# Define covered = 1 if true_label is in the predicted set\n",
    "cp_groups_df['covered'] = cp_groups_df.apply(\n",
    "    lambda r: int(r['true_label'] in r['pred_set']),\n",
    "    axis=1\n",
    ")"
   ]
  },
  {
   "cell_type": "code",
   "execution_count": 53,
   "id": "3a261692",
   "metadata": {
    "execution": {
     "iopub.execute_input": "2025-08-19T18:37:02.550365Z",
     "iopub.status.busy": "2025-08-19T18:37:02.549892Z",
     "iopub.status.idle": "2025-08-19T18:37:02.562679Z",
     "shell.execute_reply": "2025-08-19T18:37:02.561991Z"
    },
    "papermill": {
     "duration": 0.03336,
     "end_time": "2025-08-19T18:37:02.564864",
     "exception": false,
     "start_time": "2025-08-19T18:37:02.531504",
     "status": "completed"
    },
    "tags": []
   },
   "outputs": [],
   "source": [
    "subgroups = ['frau1','nongerman','nongerman_male','nongerman_female']\n",
    "\n",
    "# Conditional coverage for subgroup==1\n",
    "cond_coverage = {\n",
    "    g: cp_groups_df.loc[cp_groups_df[g]==1, 'covered'].mean()\n",
    "    for g in subgroups\n",
    "}"
   ]
  },
  {
   "cell_type": "code",
   "execution_count": 54,
   "id": "894fd600",
   "metadata": {
    "execution": {
     "iopub.execute_input": "2025-08-19T18:37:02.591103Z",
     "iopub.status.busy": "2025-08-19T18:37:02.590725Z",
     "iopub.status.idle": "2025-08-19T18:37:02.596663Z",
     "shell.execute_reply": "2025-08-19T18:37:02.595996Z"
    },
    "papermill": {
     "duration": 0.021098,
     "end_time": "2025-08-19T18:37:02.598965",
     "exception": false,
     "start_time": "2025-08-19T18:37:02.577867",
     "status": "completed"
    },
    "tags": []
   },
   "outputs": [
    {
     "data": {
      "text/plain": [
       "{'frau1': 0.9073729613155411,\n",
       " 'nongerman': 0.9096165721663954,\n",
       " 'nongerman_male': 0.9306493740430515,\n",
       " 'nongerman_female': 0.8748137108792846}"
      ]
     },
     "execution_count": 54,
     "metadata": {},
     "output_type": "execute_result"
    }
   ],
   "source": [
    "cond_coverage"
   ]
  },
  {
   "cell_type": "code",
   "execution_count": 55,
   "id": "942895c7",
   "metadata": {
    "execution": {
     "iopub.execute_input": "2025-08-19T18:37:02.626334Z",
     "iopub.status.busy": "2025-08-19T18:37:02.625739Z",
     "iopub.status.idle": "2025-08-19T18:37:02.634944Z",
     "shell.execute_reply": "2025-08-19T18:37:02.633881Z"
    },
    "papermill": {
     "duration": 0.023735,
     "end_time": "2025-08-19T18:37:02.636356",
     "exception": false,
     "start_time": "2025-08-19T18:37:02.612621",
     "status": "completed"
    },
    "tags": []
   },
   "outputs": [],
   "source": [
    "for subgroup, cov in cond_coverage.items():\n",
    "    cp_metrics_df[f\"cov_{subgroup}\"] = cov"
   ]
  },
  {
   "cell_type": "code",
   "execution_count": 56,
   "id": "3970120f",
   "metadata": {
    "execution": {
     "iopub.execute_input": "2025-08-19T18:37:02.678877Z",
     "iopub.status.busy": "2025-08-19T18:37:02.677793Z",
     "iopub.status.idle": "2025-08-19T18:37:02.705145Z",
     "shell.execute_reply": "2025-08-19T18:37:02.704268Z"
    },
    "papermill": {
     "duration": 0.056155,
     "end_time": "2025-08-19T18:37:02.706654",
     "exception": false,
     "start_time": "2025-08-19T18:37:02.650499",
     "status": "completed"
    },
    "tags": []
   },
   "outputs": [
    {
     "data": {
      "text/html": [
       "<div>\n",
       "<style scoped>\n",
       "    .dataframe tbody tr th:only-of-type {\n",
       "        vertical-align: middle;\n",
       "    }\n",
       "\n",
       "    .dataframe tbody tr th {\n",
       "        vertical-align: top;\n",
       "    }\n",
       "\n",
       "    .dataframe thead th {\n",
       "        text-align: right;\n",
       "    }\n",
       "</style>\n",
       "<table border=\"1\" class=\"dataframe\">\n",
       "  <thead>\n",
       "    <tr style=\"text-align: right;\">\n",
       "      <th></th>\n",
       "      <th>universe_id</th>\n",
       "      <th>universe_training_year</th>\n",
       "      <th>universe_training_size</th>\n",
       "      <th>universe_scale</th>\n",
       "      <th>universe_model</th>\n",
       "      <th>universe_exclude_features</th>\n",
       "      <th>universe_exclude_subgroups</th>\n",
       "      <th>q_hat</th>\n",
       "      <th>coverage</th>\n",
       "      <th>avg_size</th>\n",
       "      <th>cov_frau1</th>\n",
       "      <th>cov_nongerman</th>\n",
       "      <th>cov_nongerman_male</th>\n",
       "      <th>cov_nongerman_female</th>\n",
       "    </tr>\n",
       "  </thead>\n",
       "  <tbody>\n",
       "    <tr>\n",
       "      <th>0</th>\n",
       "      <td>c2bb59cfada70f73cca271f17d37baa8</td>\n",
       "      <td>2012_14</td>\n",
       "      <td>5k</td>\n",
       "      <td>do-not-scale</td>\n",
       "      <td>rf</td>\n",
       "      <td>none</td>\n",
       "      <td>drop-non-german</td>\n",
       "      <td>0.68</td>\n",
       "      <td>0.913376</td>\n",
       "      <td>1.146951</td>\n",
       "      <td>0.907373</td>\n",
       "      <td>0.909617</td>\n",
       "      <td>0.930649</td>\n",
       "      <td>0.874814</td>\n",
       "    </tr>\n",
       "  </tbody>\n",
       "</table>\n",
       "</div>"
      ],
      "text/plain": [
       "                        universe_id universe_training_year  \\\n",
       "0  c2bb59cfada70f73cca271f17d37baa8                2012_14   \n",
       "\n",
       "  universe_training_size universe_scale universe_model  \\\n",
       "0                     5k   do-not-scale             rf   \n",
       "\n",
       "  universe_exclude_features universe_exclude_subgroups  q_hat  coverage  \\\n",
       "0                      none            drop-non-german   0.68  0.913376   \n",
       "\n",
       "   avg_size  cov_frau1  cov_nongerman  cov_nongerman_male  \\\n",
       "0  1.146951   0.907373       0.909617            0.930649   \n",
       "\n",
       "   cov_nongerman_female  \n",
       "0              0.874814  "
      ]
     },
     "execution_count": 56,
     "metadata": {},
     "output_type": "execute_result"
    }
   ],
   "source": [
    "cp_metrics_df"
   ]
  },
  {
   "cell_type": "markdown",
   "id": "3fc519cc",
   "metadata": {
    "papermill": {
     "duration": 0.014196,
     "end_time": "2025-08-19T18:37:02.736036",
     "exception": false,
     "start_time": "2025-08-19T18:37:02.721840",
     "status": "completed"
    },
    "tags": []
   },
   "source": [
    "# (Fairness) Metrics"
   ]
  },
  {
   "cell_type": "code",
   "execution_count": 57,
   "id": "a2e5e155",
   "metadata": {
    "execution": {
     "iopub.execute_input": "2025-08-19T18:37:02.762841Z",
     "iopub.status.busy": "2025-08-19T18:37:02.762499Z",
     "iopub.status.idle": "2025-08-19T18:37:02.777275Z",
     "shell.execute_reply": "2025-08-19T18:37:02.776569Z"
    },
    "papermill": {
     "duration": 0.030433,
     "end_time": "2025-08-19T18:37:02.778843",
     "exception": false,
     "start_time": "2025-08-19T18:37:02.748410",
     "status": "completed"
    },
    "tags": []
   },
   "outputs": [],
   "source": [
    "colname_to_bin = \"maxdeutsch1\"\n",
    "majority_value = org_train[colname_to_bin].mode()[0]\n",
    "\n",
    "org_test[\"majmin\"] = np.where(org_test[colname_to_bin] == majority_value, \"majority\", \"minority\")"
   ]
  },
  {
   "cell_type": "code",
   "execution_count": 58,
   "id": "17e3e4d5",
   "metadata": {
    "execution": {
     "iopub.execute_input": "2025-08-19T18:37:02.825166Z",
     "iopub.status.busy": "2025-08-19T18:37:02.824429Z",
     "iopub.status.idle": "2025-08-19T18:37:04.548382Z",
     "shell.execute_reply": "2025-08-19T18:37:04.546985Z"
    },
    "papermill": {
     "duration": 1.750757,
     "end_time": "2025-08-19T18:37:04.550584",
     "exception": false,
     "start_time": "2025-08-19T18:37:02.799827",
     "status": "completed"
    },
    "tags": []
   },
   "outputs": [],
   "source": [
    "example_universe = universe.copy()\n",
    "example_universe[\"cutoff\"] = example_universe[\"cutoff\"][0]\n",
    "example_universe[\"eval_fairness_grouping\"] = example_universe[\"eval_fairness_grouping\"][0]\n",
    "fairness_dict, metric_frame = universe_analysis.compute_metrics(\n",
    "    example_universe,\n",
    "    y_pred_prob=probs_test,\n",
    "    y_test=y_true,\n",
    "    org_test=org_test,\n",
    ")"
   ]
  },
  {
   "cell_type": "markdown",
   "id": "1fb7a0e9",
   "metadata": {
    "papermill": {
     "duration": 0.019505,
     "end_time": "2025-08-19T18:37:04.585294",
     "exception": false,
     "start_time": "2025-08-19T18:37:04.565789",
     "status": "completed"
    },
    "tags": []
   },
   "source": [
    "# Overall"
   ]
  },
  {
   "cell_type": "markdown",
   "id": "be1784b1",
   "metadata": {
    "papermill": {
     "duration": 0.014182,
     "end_time": "2025-08-19T18:37:04.627596",
     "exception": false,
     "start_time": "2025-08-19T18:37:04.613414",
     "status": "completed"
    },
    "tags": []
   },
   "source": [
    "Main fairness target: Equalized Odds. Seems to be a better fit than equal opportunity, since we're not only interested in Y = 1. Seems to be a better fit than demographic parity, since we also care about accuracy, not just equal distribution of preds.\n",
    "\n",
    "Pick column for computation of fairness metrics\n",
    "\n",
    "Performance\n",
    "Overall performance measures, most interesting in relation to the measures split by group below"
   ]
  },
  {
   "cell_type": "code",
   "execution_count": 59,
   "id": "b7672bee",
   "metadata": {
    "execution": {
     "iopub.execute_input": "2025-08-19T18:37:04.654339Z",
     "iopub.status.busy": "2025-08-19T18:37:04.653993Z",
     "iopub.status.idle": "2025-08-19T18:37:04.662208Z",
     "shell.execute_reply": "2025-08-19T18:37:04.661443Z"
    },
    "papermill": {
     "duration": 0.023783,
     "end_time": "2025-08-19T18:37:04.663985",
     "exception": false,
     "start_time": "2025-08-19T18:37:04.640202",
     "status": "completed"
    },
    "tags": []
   },
   "outputs": [
    {
     "data": {
      "text/plain": [
       "accuracy                   0.196946\n",
       "balanced accuracy          0.533456\n",
       "f1                         0.239566\n",
       "precision                  0.136345\n",
       "false positive rate        0.919184\n",
       "false negative rate        0.013903\n",
       "selection rate             0.927767\n",
       "count                  89710.000000\n",
       "dtype: float64"
      ]
     },
     "execution_count": 59,
     "metadata": {},
     "output_type": "execute_result"
    }
   ],
   "source": [
    "metric_frame.overall"
   ]
  },
  {
   "cell_type": "markdown",
   "id": "d93333c9",
   "metadata": {
    "papermill": {
     "duration": 0.012621,
     "end_time": "2025-08-19T18:37:04.691371",
     "exception": false,
     "start_time": "2025-08-19T18:37:04.678750",
     "status": "completed"
    },
    "tags": []
   },
   "source": [
    "By Group"
   ]
  },
  {
   "cell_type": "code",
   "execution_count": 60,
   "id": "52256966",
   "metadata": {
    "execution": {
     "iopub.execute_input": "2025-08-19T18:37:04.718015Z",
     "iopub.status.busy": "2025-08-19T18:37:04.717702Z",
     "iopub.status.idle": "2025-08-19T18:37:04.734233Z",
     "shell.execute_reply": "2025-08-19T18:37:04.733471Z"
    },
    "papermill": {
     "duration": 0.031476,
     "end_time": "2025-08-19T18:37:04.735514",
     "exception": false,
     "start_time": "2025-08-19T18:37:04.704038",
     "status": "completed"
    },
    "tags": []
   },
   "outputs": [
    {
     "data": {
      "text/html": [
       "<div>\n",
       "<style scoped>\n",
       "    .dataframe tbody tr th:only-of-type {\n",
       "        vertical-align: middle;\n",
       "    }\n",
       "\n",
       "    .dataframe tbody tr th {\n",
       "        vertical-align: top;\n",
       "    }\n",
       "\n",
       "    .dataframe thead th {\n",
       "        text-align: right;\n",
       "    }\n",
       "</style>\n",
       "<table border=\"1\" class=\"dataframe\">\n",
       "  <thead>\n",
       "    <tr style=\"text-align: right;\">\n",
       "      <th></th>\n",
       "      <th>accuracy</th>\n",
       "      <th>balanced accuracy</th>\n",
       "      <th>f1</th>\n",
       "      <th>precision</th>\n",
       "      <th>false positive rate</th>\n",
       "      <th>false negative rate</th>\n",
       "      <th>selection rate</th>\n",
       "      <th>count</th>\n",
       "    </tr>\n",
       "    <tr>\n",
       "      <th>majmin</th>\n",
       "      <th></th>\n",
       "      <th></th>\n",
       "      <th></th>\n",
       "      <th></th>\n",
       "      <th></th>\n",
       "      <th></th>\n",
       "      <th></th>\n",
       "      <th></th>\n",
       "    </tr>\n",
       "  </thead>\n",
       "  <tbody>\n",
       "    <tr>\n",
       "      <th>majority</th>\n",
       "      <td>0.203875</td>\n",
       "      <td>0.535996</td>\n",
       "      <td>0.246861</td>\n",
       "      <td>0.141064</td>\n",
       "      <td>0.915426</td>\n",
       "      <td>0.012582</td>\n",
       "      <td>0.924939</td>\n",
       "      <td>69170.0</td>\n",
       "    </tr>\n",
       "    <tr>\n",
       "      <th>minority</th>\n",
       "      <td>0.173612</td>\n",
       "      <td>0.524699</td>\n",
       "      <td>0.214894</td>\n",
       "      <td>0.120663</td>\n",
       "      <td>0.931598</td>\n",
       "      <td>0.019003</td>\n",
       "      <td>0.937293</td>\n",
       "      <td>20540.0</td>\n",
       "    </tr>\n",
       "  </tbody>\n",
       "</table>\n",
       "</div>"
      ],
      "text/plain": [
       "          accuracy  balanced accuracy        f1  precision  \\\n",
       "majmin                                                       \n",
       "majority  0.203875           0.535996  0.246861   0.141064   \n",
       "minority  0.173612           0.524699  0.214894   0.120663   \n",
       "\n",
       "          false positive rate  false negative rate  selection rate    count  \n",
       "majmin                                                                       \n",
       "majority             0.915426             0.012582        0.924939  69170.0  \n",
       "minority             0.931598             0.019003        0.937293  20540.0  "
      ]
     },
     "execution_count": 60,
     "metadata": {},
     "output_type": "execute_result"
    }
   ],
   "source": [
    "metric_frame.by_group"
   ]
  },
  {
   "cell_type": "code",
   "execution_count": 61,
   "id": "6e6c20ae",
   "metadata": {
    "execution": {
     "iopub.execute_input": "2025-08-19T18:37:04.768838Z",
     "iopub.status.busy": "2025-08-19T18:37:04.763084Z",
     "iopub.status.idle": "2025-08-19T18:37:06.627653Z",
     "shell.execute_reply": "2025-08-19T18:37:06.626597Z"
    },
    "papermill": {
     "duration": 1.879873,
     "end_time": "2025-08-19T18:37:06.629026",
     "exception": false,
     "start_time": "2025-08-19T18:37:04.749153",
     "status": "completed"
    },
    "tags": []
   },
   "outputs": [
    {
     "data": {
      "text/plain": [
       "array([[<Axes: title={'center': 'accuracy'}, xlabel='majmin'>,\n",
       "        <Axes: title={'center': 'balanced accuracy'}, xlabel='majmin'>,\n",
       "        <Axes: title={'center': 'f1'}, xlabel='majmin'>],\n",
       "       [<Axes: title={'center': 'precision'}, xlabel='majmin'>,\n",
       "        <Axes: title={'center': 'false positive rate'}, xlabel='majmin'>,\n",
       "        <Axes: title={'center': 'false negative rate'}, xlabel='majmin'>],\n",
       "       [<Axes: title={'center': 'selection rate'}, xlabel='majmin'>,\n",
       "        <Axes: title={'center': 'count'}, xlabel='majmin'>,\n",
       "        <Axes: xlabel='majmin'>]], dtype=object)"
      ]
     },
     "execution_count": 61,
     "metadata": {},
     "output_type": "execute_result"
    },
    {
     "data": {
      "image/png": "[encoded data removed]",
      "text/plain": [
       "<Figure size 1200x800 with 9 Axes>"
      ]
     },
     "metadata": {},
     "output_type": "display_data"
    }
   ],
   "source": [
    "# In a graphic\n",
    "metric_frame.by_group.plot.bar(\n",
    "    subplots=True,\n",
    "    layout=[3, 3],\n",
    "    legend=False,\n",
    "    figsize=[12, 8],\n",
    "    title=\"Show all metrics\",\n",
    ")"
   ]
  },
  {
   "cell_type": "markdown",
   "id": "b2e433ae",
   "metadata": {
    "papermill": {
     "duration": 0.013706,
     "end_time": "2025-08-19T18:37:06.659822",
     "exception": false,
     "start_time": "2025-08-19T18:37:06.646116",
     "status": "completed"
    },
    "tags": []
   },
   "source": [
    "# Final Output"
   ]
  },
  {
   "cell_type": "code",
   "execution_count": 62,
   "id": "3871301e",
   "metadata": {
    "execution": {
     "iopub.execute_input": "2025-08-19T18:37:06.692257Z",
     "iopub.status.busy": "2025-08-19T18:37:06.689875Z",
     "iopub.status.idle": "2025-08-19T18:37:06.708768Z",
     "shell.execute_reply": "2025-08-19T18:37:06.707533Z"
    },
    "papermill": {
     "duration": 0.03683,
     "end_time": "2025-08-19T18:37:06.710228",
     "exception": false,
     "start_time": "2025-08-19T18:37:06.673398",
     "status": "completed"
    },
    "tags": []
   },
   "outputs": [
    {
     "data": {
      "text/plain": [
       "4"
      ]
     },
     "execution_count": 62,
     "metadata": {},
     "output_type": "execute_result"
    }
   ],
   "source": [
    "sub_universes = universe_analysis.generate_sub_universes()\n",
    "len(sub_universes)"
   ]
  },
  {
   "cell_type": "code",
   "execution_count": 63,
   "id": "d9cfdaca",
   "metadata": {
    "execution": {
     "iopub.execute_input": "2025-08-19T18:37:06.750214Z",
     "iopub.status.busy": "2025-08-19T18:37:06.746849Z",
     "iopub.status.idle": "2025-08-19T18:37:06.755837Z",
     "shell.execute_reply": "2025-08-19T18:37:06.754987Z"
    },
    "papermill": {
     "duration": 0.026077,
     "end_time": "2025-08-19T18:37:06.757023",
     "exception": false,
     "start_time": "2025-08-19T18:37:06.730946",
     "status": "completed"
    },
    "tags": []
   },
   "outputs": [],
   "source": [
    "def filter_sub_universe_data(sub_universe, org_test):\n",
    "    # Keep all rows — no filtering\n",
    "    keep_rows_mask = np.ones(org_test.shape[0], dtype=bool)\n",
    "\n",
    "    print(f\"[INFO] Keeping all rows: {keep_rows_mask.sum()} rows retained.\")\n",
    "    return keep_rows_mask"
   ]
  },
  {
   "cell_type": "code",
   "execution_count": 64,
   "id": "2bc31ac1",
   "metadata": {
    "execution": {
     "iopub.execute_input": "2025-08-19T18:37:06.791198Z",
     "iopub.status.busy": "2025-08-19T18:37:06.790178Z",
     "iopub.status.idle": "2025-08-19T18:37:13.480459Z",
     "shell.execute_reply": "2025-08-19T18:37:13.479165Z"
    },
    "papermill": {
     "duration": 6.708659,
     "end_time": "2025-08-19T18:37:13.481971",
     "exception": false,
     "start_time": "2025-08-19T18:37:06.773312",
     "status": "completed"
    },
    "tags": []
   },
   "outputs": [
    {
     "name": "stdout",
     "output_type": "stream",
     "text": [
      "Stopping execution_time clock.\n",
      "[INFO] Keeping all rows: 89710 rows retained.\n"
     ]
    },
    {
     "name": "stdout",
     "output_type": "stream",
     "text": [
      "[INFO] Keeping all rows: 89710 rows retained.\n"
     ]
    },
    {
     "name": "stdout",
     "output_type": "stream",
     "text": [
      "[INFO] Keeping all rows: 89710 rows retained.\n"
     ]
    },
    {
     "name": "stdout",
     "output_type": "stream",
     "text": [
      "[INFO] Keeping all rows: 89710 rows retained.\n"
     ]
    },
    {
     "data": {
      "text/html": [
       "<div>\n",
       "<style scoped>\n",
       "    .dataframe tbody tr th:only-of-type {\n",
       "        vertical-align: middle;\n",
       "    }\n",
       "\n",
       "    .dataframe tbody tr th {\n",
       "        vertical-align: top;\n",
       "    }\n",
       "\n",
       "    .dataframe thead th {\n",
       "        text-align: right;\n",
       "    }\n",
       "</style>\n",
       "<table border=\"1\" class=\"dataframe\">\n",
       "  <thead>\n",
       "    <tr style=\"text-align: right;\">\n",
       "      <th></th>\n",
       "      <th>run_no</th>\n",
       "      <th>universe_id</th>\n",
       "      <th>universe_settings</th>\n",
       "      <th>execution_time</th>\n",
       "      <th>test_size_n</th>\n",
       "      <th>test_size_frac</th>\n",
       "      <th>fair_main_equalized_odds_difference</th>\n",
       "      <th>fair_main_equalized_odds_ratio</th>\n",
       "      <th>fair_main_demographic_parity_difference</th>\n",
       "      <th>fair_main_demographic_parity_ratio</th>\n",
       "      <th>...</th>\n",
       "      <th>perf_grp_precision_0</th>\n",
       "      <th>perf_grp_precision_1</th>\n",
       "      <th>perf_grp_false positive rate_0</th>\n",
       "      <th>perf_grp_false positive rate_1</th>\n",
       "      <th>perf_grp_false negative rate_0</th>\n",
       "      <th>perf_grp_false negative rate_1</th>\n",
       "      <th>perf_grp_selection rate_0</th>\n",
       "      <th>perf_grp_selection rate_1</th>\n",
       "      <th>perf_grp_count_0</th>\n",
       "      <th>perf_grp_count_1</th>\n",
       "    </tr>\n",
       "  </thead>\n",
       "  <tbody>\n",
       "    <tr>\n",
       "      <th>0</th>\n",
       "      <td>3</td>\n",
       "      <td>c2bb59cfada70f73cca271f17d37baa8</td>\n",
       "      <td>{\"cutoff\": \"quantile_0.1\", \"eval_fairness_grou...</td>\n",
       "      <td>27.565096</td>\n",
       "      <td>89710</td>\n",
       "      <td>1.0</td>\n",
       "      <td>0.016172</td>\n",
       "      <td>0.98264</td>\n",
       "      <td>0.012355</td>\n",
       "      <td>0.986819</td>\n",
       "      <td>...</td>\n",
       "      <td>NaN</td>\n",
       "      <td>NaN</td>\n",
       "      <td>NaN</td>\n",
       "      <td>NaN</td>\n",
       "      <td>NaN</td>\n",
       "      <td>NaN</td>\n",
       "      <td>NaN</td>\n",
       "      <td>NaN</td>\n",
       "      <td>NaN</td>\n",
       "      <td>NaN</td>\n",
       "    </tr>\n",
       "    <tr>\n",
       "      <th>0</th>\n",
       "      <td>3</td>\n",
       "      <td>c2bb59cfada70f73cca271f17d37baa8</td>\n",
       "      <td>{\"cutoff\": \"quantile_0.1\", \"eval_fairness_grou...</td>\n",
       "      <td>27.565096</td>\n",
       "      <td>89710</td>\n",
       "      <td>1.0</td>\n",
       "      <td>0.016172</td>\n",
       "      <td>0.98264</td>\n",
       "      <td>0.012355</td>\n",
       "      <td>0.986819</td>\n",
       "      <td>...</td>\n",
       "      <td>0.120663</td>\n",
       "      <td>0.141064</td>\n",
       "      <td>0.931598</td>\n",
       "      <td>0.915426</td>\n",
       "      <td>0.019003</td>\n",
       "      <td>0.012582</td>\n",
       "      <td>0.937293</td>\n",
       "      <td>0.924939</td>\n",
       "      <td>20540.0</td>\n",
       "      <td>69170.0</td>\n",
       "    </tr>\n",
       "    <tr>\n",
       "      <th>0</th>\n",
       "      <td>3</td>\n",
       "      <td>c2bb59cfada70f73cca271f17d37baa8</td>\n",
       "      <td>{\"cutoff\": \"quantile_0.25\", \"eval_fairness_gro...</td>\n",
       "      <td>27.565096</td>\n",
       "      <td>89710</td>\n",
       "      <td>1.0</td>\n",
       "      <td>0.044255</td>\n",
       "      <td>0.95097</td>\n",
       "      <td>0.024685</td>\n",
       "      <td>0.968516</td>\n",
       "      <td>...</td>\n",
       "      <td>NaN</td>\n",
       "      <td>NaN</td>\n",
       "      <td>NaN</td>\n",
       "      <td>NaN</td>\n",
       "      <td>NaN</td>\n",
       "      <td>NaN</td>\n",
       "      <td>NaN</td>\n",
       "      <td>NaN</td>\n",
       "      <td>NaN</td>\n",
       "      <td>NaN</td>\n",
       "    </tr>\n",
       "    <tr>\n",
       "      <th>0</th>\n",
       "      <td>3</td>\n",
       "      <td>c2bb59cfada70f73cca271f17d37baa8</td>\n",
       "      <td>{\"cutoff\": \"quantile_0.25\", \"eval_fairness_gro...</td>\n",
       "      <td>27.565096</td>\n",
       "      <td>89710</td>\n",
       "      <td>1.0</td>\n",
       "      <td>0.044255</td>\n",
       "      <td>0.95097</td>\n",
       "      <td>0.024685</td>\n",
       "      <td>0.968516</td>\n",
       "      <td>...</td>\n",
       "      <td>0.132203</td>\n",
       "      <td>0.164154</td>\n",
       "      <td>0.769040</td>\n",
       "      <td>0.731334</td>\n",
       "      <td>0.100929</td>\n",
       "      <td>0.056674</td>\n",
       "      <td>0.784031</td>\n",
       "      <td>0.759347</td>\n",
       "      <td>20540.0</td>\n",
       "      <td>69170.0</td>\n",
       "    </tr>\n",
       "  </tbody>\n",
       "</table>\n",
       "<p>4 rows × 50 columns</p>\n",
       "</div>"
      ],
      "text/plain": [
       "  run_no                       universe_id  \\\n",
       "0      3  c2bb59cfada70f73cca271f17d37baa8   \n",
       "0      3  c2bb59cfada70f73cca271f17d37baa8   \n",
       "0      3  c2bb59cfada70f73cca271f17d37baa8   \n",
       "0      3  c2bb59cfada70f73cca271f17d37baa8   \n",
       "\n",
       "                                   universe_settings  execution_time  \\\n",
       "0  {\"cutoff\": \"quantile_0.1\", \"eval_fairness_grou...       27.565096   \n",
       "0  {\"cutoff\": \"quantile_0.1\", \"eval_fairness_grou...       27.565096   \n",
       "0  {\"cutoff\": \"quantile_0.25\", \"eval_fairness_gro...       27.565096   \n",
       "0  {\"cutoff\": \"quantile_0.25\", \"eval_fairness_gro...       27.565096   \n",
       "\n",
       "   test_size_n  test_size_frac  fair_main_equalized_odds_difference  \\\n",
       "0        89710             1.0                             0.016172   \n",
       "0        89710             1.0                             0.016172   \n",
       "0        89710             1.0                             0.044255   \n",
       "0        89710             1.0                             0.044255   \n",
       "\n",
       "   fair_main_equalized_odds_ratio  fair_main_demographic_parity_difference  \\\n",
       "0                         0.98264                                 0.012355   \n",
       "0                         0.98264                                 0.012355   \n",
       "0                         0.95097                                 0.024685   \n",
       "0                         0.95097                                 0.024685   \n",
       "\n",
       "   fair_main_demographic_parity_ratio  ...  perf_grp_precision_0  \\\n",
       "0                            0.986819  ...                   NaN   \n",
       "0                            0.986819  ...              0.120663   \n",
       "0                            0.968516  ...                   NaN   \n",
       "0                            0.968516  ...              0.132203   \n",
       "\n",
       "   perf_grp_precision_1  perf_grp_false positive rate_0  \\\n",
       "0                   NaN                             NaN   \n",
       "0              0.141064                        0.931598   \n",
       "0                   NaN                             NaN   \n",
       "0              0.164154                        0.769040   \n",
       "\n",
       "   perf_grp_false positive rate_1  perf_grp_false negative rate_0  \\\n",
       "0                             NaN                             NaN   \n",
       "0                        0.915426                        0.019003   \n",
       "0                             NaN                             NaN   \n",
       "0                        0.731334                        0.100929   \n",
       "\n",
       "   perf_grp_false negative rate_1  perf_grp_selection rate_0  \\\n",
       "0                             NaN                        NaN   \n",
       "0                        0.012582                   0.937293   \n",
       "0                             NaN                        NaN   \n",
       "0                        0.056674                   0.784031   \n",
       "\n",
       "   perf_grp_selection rate_1  perf_grp_count_0  perf_grp_count_1  \n",
       "0                        NaN               NaN               NaN  \n",
       "0                   0.924939           20540.0           69170.0  \n",
       "0                        NaN               NaN               NaN  \n",
       "0                   0.759347           20540.0           69170.0  \n",
       "\n",
       "[4 rows x 50 columns]"
      ]
     },
     "execution_count": 64,
     "metadata": {},
     "output_type": "execute_result"
    }
   ],
   "source": [
    "final_output = universe_analysis.generate_final_output(\n",
    "    y_pred_prob=probs_test,\n",
    "    y_test=y_true,\n",
    "    org_test=org_test,\n",
    "    filter_data=filter_sub_universe_data,\n",
    "    cp_metrics_df=cp_metrics_df,\n",
    "    save=True,\n",
    ")\n",
    "final_output"
   ]
  },
  {
   "cell_type": "code",
   "execution_count": null,
   "id": "8b80a1ff",
   "metadata": {
    "papermill": {
     "duration": 0.028293,
     "end_time": "2025-08-19T18:37:13.538847",
     "exception": false,
     "start_time": "2025-08-19T18:37:13.510554",
     "status": "completed"
    },
    "tags": []
   },
   "outputs": [],
   "source": []
  },
  {
   "cell_type": "code",
   "execution_count": null,
   "id": "275c9fad",
   "metadata": {
    "papermill": {
     "duration": 0.014104,
     "end_time": "2025-08-19T18:37:13.568007",
     "exception": false,
     "start_time": "2025-08-19T18:37:13.553903",
     "status": "completed"
    },
    "tags": []
   },
   "outputs": [],
   "source": []
  }
 ],
 "metadata": {
  "celltoolbar": "Tags",
  "kernelspec": {
   "display_name": "Python (CMA Fairness)",
   "language": "python",
   "name": "cma_fair_env"
  },
  "language_info": {
   "codemirror_mode": {
    "name": "ipython",
    "version": 3
   },
   "file_extension": ".py",
   "mimetype": "text/x-python",
   "name": "python",
   "nbconvert_exporter": "python",
   "pygments_lexer": "ipython3",
   "version": "3.10.12"
  },
  "papermill": {
   "default_parameters": {},
   "duration": 38.061477,
   "end_time": "2025-08-19T18:37:14.404202",
   "environment_variables": {},
   "exception": null,
   "input_path": "universe_analysis.ipynb",
   "output_path": "output/runs/3/notebooks/m_3-c2bb59cfada70f73cca271f17d37baa8.ipynb",
   "parameters": {
    "output_dir": "output",
    "run_no": "3",
    "seed": "2023",
    "universe": "{\"cutoff\": [\"quantile_0.1\", \"quantile_0.25\"], \"eval_fairness_grouping\": [\"majority-minority\", \"nationality-all\"], \"exclude_features\": \"none\", \"exclude_subgroups\": \"drop-non-german\", \"model\": \"rf\", \"scale\": \"do-not-scale\", \"training_size\": \"5k\", \"training_year\": \"2012_14\"}",
    "universe_id": "c2bb59cfada70f73cca271f17d37baa8"
   },
   "start_time": "2025-08-19T18:36:36.342725",
   "version": "2.6.0"
  }
 },
 "nbformat": 4,
 "nbformat_minor": 5
}