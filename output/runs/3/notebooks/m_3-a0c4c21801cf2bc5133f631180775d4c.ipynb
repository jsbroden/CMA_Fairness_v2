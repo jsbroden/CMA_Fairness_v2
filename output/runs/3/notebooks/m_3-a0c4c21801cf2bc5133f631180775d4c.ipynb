{
 "cells": [
  {
   "cell_type": "markdown",
   "id": "ef23dbb3",
   "metadata": {
    "papermill": {
     "duration": 0.009702,
     "end_time": "2025-08-19T19:10:57.772730",
     "exception": false,
     "start_time": "2025-08-19T19:10:57.763028",
     "status": "completed"
    },
    "tags": []
   },
   "source": [
    "# Setup"
   ]
  },
  {
   "cell_type": "code",
   "execution_count": 1,
   "id": "0bc8e7dc",
   "metadata": {
    "execution": {
     "iopub.execute_input": "2025-08-19T19:10:57.792188Z",
     "iopub.status.busy": "2025-08-19T19:10:57.791503Z",
     "iopub.status.idle": "2025-08-19T19:10:57.813025Z",
     "shell.execute_reply": "2025-08-19T19:10:57.810702Z"
    },
    "papermill": {
     "duration": 0.033933,
     "end_time": "2025-08-19T19:10:57.815349",
     "exception": false,
     "start_time": "2025-08-19T19:10:57.781416",
     "status": "completed"
    },
    "tags": []
   },
   "outputs": [
    {
     "name": "stdout",
     "output_type": "stream",
     "text": [
      "/dss/dsshome1/0C/ra93lal2/cma/CMA_Fairness_v2\n"
     ]
    },
    {
     "name": "stderr",
     "output_type": "stream",
     "text": [
      "/dss/dsshome1/0C/ra93lal2/.local/share/virtualenvs/CMA_Fairness_v2-3j10GkSs/lib/python3.10/site-packages/IPython/core/magics/osm.py:393: UserWarning: This is now an optional IPython functionality, using bookmarks requires you to install the `pickleshare` library.\n",
      "  bkms = self.shell.db.get('bookmarks', {})\n",
      "/dss/dsshome1/0C/ra93lal2/.local/share/virtualenvs/CMA_Fairness_v2-3j10GkSs/lib/python3.10/site-packages/IPython/core/magics/osm.py:417: UserWarning: This is now an optional IPython functionality, setting dhist requires you to install the `pickleshare` library.\n",
      "  self.shell.db['dhist'] = compress_dhist(dhist)[-100:]\n"
     ]
    }
   ],
   "source": [
    "%cd ~/cma/CMA_Fairness_v2"
   ]
  },
  {
   "cell_type": "markdown",
   "id": "9d235661",
   "metadata": {
    "papermill": {
     "duration": 0.025838,
     "end_time": "2025-08-19T19:10:57.856872",
     "exception": false,
     "start_time": "2025-08-19T19:10:57.831034",
     "status": "completed"
    },
    "tags": []
   },
   "source": [
    "The following cell holds the definition of our parameters, these values can be overriden by rendering the with e.g. the following command:\n",
    "\n",
    "papermill -p alpha 0.2 -p ratio 0.3 universe_analysis.ipynb output/test_run.ipynb"
   ]
  },
  {
   "cell_type": "code",
   "execution_count": 2,
   "id": "4a789d8e",
   "metadata": {
    "execution": {
     "iopub.execute_input": "2025-08-19T19:10:57.876413Z",
     "iopub.status.busy": "2025-08-19T19:10:57.876061Z",
     "iopub.status.idle": "2025-08-19T19:10:57.882522Z",
     "shell.execute_reply": "2025-08-19T19:10:57.881202Z"
    },
    "papermill": {
     "duration": 0.018426,
     "end_time": "2025-08-19T19:10:57.884359",
     "exception": false,
     "start_time": "2025-08-19T19:10:57.865933",
     "status": "completed"
    },
    "tags": []
   },
   "outputs": [
    {
     "name": "stdout",
     "output_type": "stream",
     "text": [
      "Current working directory: /dss/dsshome1/0C/ra93lal2/cma/CMA_Fairness_v2\n"
     ]
    }
   ],
   "source": [
    "import os\n",
    "print(\"Current working directory:\", os.getcwd())"
   ]
  },
  {
   "cell_type": "code",
   "execution_count": 3,
   "id": "4132aaed",
   "metadata": {
    "execution": {
     "iopub.execute_input": "2025-08-19T19:10:57.905451Z",
     "iopub.status.busy": "2025-08-19T19:10:57.905137Z",
     "iopub.status.idle": "2025-08-19T19:10:57.910792Z",
     "shell.execute_reply": "2025-08-19T19:10:57.909655Z"
    },
    "papermill": {
     "duration": 0.018401,
     "end_time": "2025-08-19T19:10:57.913353",
     "exception": false,
     "start_time": "2025-08-19T19:10:57.894952",
     "status": "completed"
    },
    "tags": [
     "parameters"
    ]
   },
   "outputs": [],
   "source": [
    "run_no = 0\n",
    "universe_id = \"test\"\n",
    "universe = {\n",
    "    \"training_size\": \"5k\", # \"25k\", \"5k\", \"1k\"\n",
    "    \"training_year\": \"2012_14\", # \"2014\", \"2012_14\", \"2010_14\"\n",
    "    \"scale\": \"scale\", # \"scale\", \"do-not-scale\",\n",
    "    \"model\": \"elasticnet\", # \"logreg\", \"penalized_logreg\", \"rf\", \"gbm\", \"elasticnet\"\n",
    "    \"cutoff\": [\"quantile_0.15\", \"quantile_0.30\"],\n",
    "    \"exclude_features\": \"age\", # \"none\", \"nationality\", \"sex\", \"nationality-sex\", \"age\"\n",
    "    \"exclude_subgroups\": \"drop-non-german\", # \"keep-all\", \"drop-non-german\"\n",
    "    \"eval_fairness_grouping\": [\"majority-minority\", \"nationality-all\"]\n",
    "}\n",
    "\n",
    "output_dir=\"./output\"\n",
    "seed=0"
   ]
  },
  {
   "cell_type": "code",
   "execution_count": 4,
   "id": "8b0b949d",
   "metadata": {
    "execution": {
     "iopub.execute_input": "2025-08-19T19:10:57.932594Z",
     "iopub.status.busy": "2025-08-19T19:10:57.932267Z",
     "iopub.status.idle": "2025-08-19T19:10:57.936969Z",
     "shell.execute_reply": "2025-08-19T19:10:57.936077Z"
    },
    "papermill": {
     "duration": 0.015918,
     "end_time": "2025-08-19T19:10:57.938395",
     "exception": false,
     "start_time": "2025-08-19T19:10:57.922477",
     "status": "completed"
    },
    "tags": [
     "injected-parameters"
    ]
   },
   "outputs": [],
   "source": [
    "# Parameters\n",
    "universe_id = \"a0c4c21801cf2bc5133f631180775d4c\"\n",
    "run_no = \"3\"\n",
    "universe = \"{\\\"cutoff\\\": [\\\"quantile_0.1\\\", \\\"quantile_0.25\\\"], \\\"eval_fairness_grouping\\\": [\\\"majority-minority\\\", \\\"nationality-all\\\"], \\\"exclude_features\\\": \\\"nationality\\\", \\\"exclude_subgroups\\\": \\\"keep-all\\\", \\\"model\\\": \\\"gbm\\\", \\\"scale\\\": \\\"do-not-scale\\\", \\\"training_size\\\": \\\"1k\\\", \\\"training_year\\\": \\\"2010_14\\\"}\"\n",
    "output_dir = \"output\"\n",
    "seed = \"2023\"\n"
   ]
  },
  {
   "cell_type": "code",
   "execution_count": 5,
   "id": "a5d7941f",
   "metadata": {
    "execution": {
     "iopub.execute_input": "2025-08-19T19:10:57.958013Z",
     "iopub.status.busy": "2025-08-19T19:10:57.957672Z",
     "iopub.status.idle": "2025-08-19T19:10:57.962591Z",
     "shell.execute_reply": "2025-08-19T19:10:57.961389Z"
    },
    "papermill": {
     "duration": 0.016499,
     "end_time": "2025-08-19T19:10:57.964142",
     "exception": false,
     "start_time": "2025-08-19T19:10:57.947643",
     "status": "completed"
    },
    "tags": []
   },
   "outputs": [],
   "source": [
    "import json\n",
    "if isinstance(universe, str):\n",
    "    universe = json.loads(universe)"
   ]
  },
  {
   "cell_type": "code",
   "execution_count": 6,
   "id": "7076ccb1",
   "metadata": {
    "execution": {
     "iopub.execute_input": "2025-08-19T19:10:57.983878Z",
     "iopub.status.busy": "2025-08-19T19:10:57.983338Z",
     "iopub.status.idle": "2025-08-19T19:10:58.022041Z",
     "shell.execute_reply": "2025-08-19T19:10:58.021144Z"
    },
    "papermill": {
     "duration": 0.050118,
     "end_time": "2025-08-19T19:10:58.023568",
     "exception": false,
     "start_time": "2025-08-19T19:10:57.973450",
     "status": "completed"
    },
    "tags": []
   },
   "outputs": [],
   "source": [
    "# Auto-reload the custom package\n",
    "%load_ext autoreload\n",
    "%autoreload 1\n",
    "%aimport fairness_multiverse"
   ]
  },
  {
   "cell_type": "code",
   "execution_count": 7,
   "id": "94c8eb93",
   "metadata": {
    "execution": {
     "iopub.execute_input": "2025-08-19T19:10:58.043920Z",
     "iopub.status.busy": "2025-08-19T19:10:58.043442Z",
     "iopub.status.idle": "2025-08-19T19:10:59.695233Z",
     "shell.execute_reply": "2025-08-19T19:10:59.692213Z"
    },
    "papermill": {
     "duration": 1.664515,
     "end_time": "2025-08-19T19:10:59.697666",
     "exception": false,
     "start_time": "2025-08-19T19:10:58.033151",
     "status": "completed"
    },
    "tags": []
   },
   "outputs": [],
   "source": [
    "from fairness_multiverse.universe import UniverseAnalysis\n",
    "\n",
    "universe_analysis = UniverseAnalysis(\n",
    "    run_no = run_no,\n",
    "    universe_id = universe_id,\n",
    "    universe = universe,\n",
    "    output_dir=output_dir,\n",
    ")"
   ]
  },
  {
   "cell_type": "code",
   "execution_count": 8,
   "id": "2a6381cf",
   "metadata": {
    "execution": {
     "iopub.execute_input": "2025-08-19T19:10:59.742503Z",
     "iopub.status.busy": "2025-08-19T19:10:59.741779Z",
     "iopub.status.idle": "2025-08-19T19:10:59.751461Z",
     "shell.execute_reply": "2025-08-19T19:10:59.750284Z"
    },
    "papermill": {
     "duration": 0.04114,
     "end_time": "2025-08-19T19:10:59.758331",
     "exception": false,
     "start_time": "2025-08-19T19:10:59.717191",
     "status": "completed"
    },
    "tags": []
   },
   "outputs": [
    {
     "name": "stdout",
     "output_type": "stream",
     "text": [
      "Using Seed: 2023\n"
     ]
    }
   ],
   "source": [
    "import numpy as np\n",
    "parsed_seed = int(seed)\n",
    "np.random.seed(parsed_seed)\n",
    "print(f\"Using Seed: {parsed_seed}\")"
   ]
  },
  {
   "cell_type": "markdown",
   "id": "b6e958b4",
   "metadata": {
    "papermill": {
     "duration": 0.010309,
     "end_time": "2025-08-19T19:10:59.785919",
     "exception": false,
     "start_time": "2025-08-19T19:10:59.775610",
     "status": "completed"
    },
    "tags": []
   },
   "source": [
    "# Loading Data"
   ]
  },
  {
   "cell_type": "code",
   "execution_count": 9,
   "id": "98701482",
   "metadata": {
    "execution": {
     "iopub.execute_input": "2025-08-19T19:10:59.808190Z",
     "iopub.status.busy": "2025-08-19T19:10:59.806907Z",
     "iopub.status.idle": "2025-08-19T19:11:10.247729Z",
     "shell.execute_reply": "2025-08-19T19:11:10.246606Z"
    },
    "papermill": {
     "duration": 10.453784,
     "end_time": "2025-08-19T19:11:10.249260",
     "exception": false,
     "start_time": "2025-08-19T19:10:59.795476",
     "status": "completed"
    },
    "tags": []
   },
   "outputs": [
    {
     "name": "stdout",
     "output_type": "stream",
     "text": [
      "Loading SIAB data from cache: data/siab_cached.csv.gz\n"
     ]
    },
    {
     "name": "stdout",
     "output_type": "stream",
     "text": [
      "(643690, 164)\n"
     ]
    }
   ],
   "source": [
    "from pathlib import Path\n",
    "import pandas as pd\n",
    "\n",
    "# File paths\n",
    "raw_file = Path(\"data/raw/siab.csv\")\n",
    "cache_file = Path(\"data/siab_cached.csv.gz\")\n",
    "\n",
    "# Ensure cache directory exists\n",
    "cache_file.parent.mkdir(parents=True, exist_ok=True)\n",
    "\n",
    "# Load with simple caching\n",
    "if cache_file.exists():\n",
    "    print(f\"Loading SIAB data from cache: {cache_file}\")\n",
    "    siab = pd.read_csv(cache_file, compression='gzip')\n",
    "else:\n",
    "    print(f\"Cache not found. Reading raw SIAB data: {raw_file}\")\n",
    "    siab = pd.read_csv(raw_file)\n",
    "    siab.to_csv(cache_file, index=False, compression='gzip')\n",
    "    print(f\"Cached SIAB data to: {cache_file}\")\n",
    "\n",
    "print(siab.shape)"
   ]
  },
  {
   "cell_type": "code",
   "execution_count": 10,
   "id": "058d2abb",
   "metadata": {
    "execution": {
     "iopub.execute_input": "2025-08-19T19:11:10.275018Z",
     "iopub.status.busy": "2025-08-19T19:11:10.273398Z",
     "iopub.status.idle": "2025-08-19T19:11:10.478359Z",
     "shell.execute_reply": "2025-08-19T19:11:10.477667Z"
    },
    "papermill": {
     "duration": 0.217027,
     "end_time": "2025-08-19T19:11:10.479634",
     "exception": false,
     "start_time": "2025-08-19T19:11:10.262607",
     "status": "completed"
    },
    "tags": []
   },
   "outputs": [
    {
     "data": {
      "text/html": [
       "<div>\n",
       "<style scoped>\n",
       "    .dataframe tbody tr th:only-of-type {\n",
       "        vertical-align: middle;\n",
       "    }\n",
       "\n",
       "    .dataframe tbody tr th {\n",
       "        vertical-align: top;\n",
       "    }\n",
       "\n",
       "    .dataframe thead th {\n",
       "        text-align: right;\n",
       "    }\n",
       "</style>\n",
       "<table border=\"1\" class=\"dataframe\">\n",
       "  <thead>\n",
       "    <tr style=\"text-align: right;\">\n",
       "      <th></th>\n",
       "      <th>persnr</th>\n",
       "      <th>year</th>\n",
       "      <th>nrEntry</th>\n",
       "      <th>ltue</th>\n",
       "      <th>employed_before</th>\n",
       "      <th>receipt_leh_before</th>\n",
       "      <th>receipt_lhg_before</th>\n",
       "      <th>se_before</th>\n",
       "      <th>ASU_notue_seeking_before</th>\n",
       "      <th>ASU_other_before</th>\n",
       "      <th>...</th>\n",
       "      <th>minijob_tot_dur_byage</th>\n",
       "      <th>ft_tot_dur_byage</th>\n",
       "      <th>befrist_tot_dur_byage</th>\n",
       "      <th>leih_tot_dur_byage</th>\n",
       "      <th>LHG_tot_dur_byage</th>\n",
       "      <th>LEH_tot_dur_byage</th>\n",
       "      <th>almp_tot_dur_byage</th>\n",
       "      <th>almp_aw_tot_dur_byage</th>\n",
       "      <th>se_tot_dur_byage</th>\n",
       "      <th>seeking1_tot_dur_byage</th>\n",
       "    </tr>\n",
       "  </thead>\n",
       "  <tbody>\n",
       "    <tr>\n",
       "      <th>0</th>\n",
       "      <td>7</td>\n",
       "      <td>2015</td>\n",
       "      <td>1</td>\n",
       "      <td>0</td>\n",
       "      <td>1</td>\n",
       "      <td>0</td>\n",
       "      <td>0</td>\n",
       "      <td>0</td>\n",
       "      <td>1</td>\n",
       "      <td>0</td>\n",
       "      <td>...</td>\n",
       "      <td>0.000000</td>\n",
       "      <td>0.000000</td>\n",
       "      <td>15.043478</td>\n",
       "      <td>0.000000</td>\n",
       "      <td>0.000000</td>\n",
       "      <td>0.000000</td>\n",
       "      <td>0.000000</td>\n",
       "      <td>0.000000</td>\n",
       "      <td>0.000000</td>\n",
       "      <td>0.000000</td>\n",
       "    </tr>\n",
       "    <tr>\n",
       "      <th>1</th>\n",
       "      <td>18</td>\n",
       "      <td>2010</td>\n",
       "      <td>1</td>\n",
       "      <td>1</td>\n",
       "      <td>0</td>\n",
       "      <td>0</td>\n",
       "      <td>0</td>\n",
       "      <td>0</td>\n",
       "      <td>0</td>\n",
       "      <td>0</td>\n",
       "      <td>...</td>\n",
       "      <td>0.000000</td>\n",
       "      <td>0.000000</td>\n",
       "      <td>0.000000</td>\n",
       "      <td>0.000000</td>\n",
       "      <td>0.000000</td>\n",
       "      <td>0.000000</td>\n",
       "      <td>0.000000</td>\n",
       "      <td>0.000000</td>\n",
       "      <td>0.000000</td>\n",
       "      <td>0.000000</td>\n",
       "    </tr>\n",
       "    <tr>\n",
       "      <th>2</th>\n",
       "      <td>18</td>\n",
       "      <td>2011</td>\n",
       "      <td>2</td>\n",
       "      <td>0</td>\n",
       "      <td>1</td>\n",
       "      <td>0</td>\n",
       "      <td>1</td>\n",
       "      <td>0</td>\n",
       "      <td>1</td>\n",
       "      <td>0</td>\n",
       "      <td>...</td>\n",
       "      <td>2.714286</td>\n",
       "      <td>2.714286</td>\n",
       "      <td>0.000000</td>\n",
       "      <td>0.000000</td>\n",
       "      <td>10.775510</td>\n",
       "      <td>0.000000</td>\n",
       "      <td>8.367347</td>\n",
       "      <td>0.000000</td>\n",
       "      <td>0.000000</td>\n",
       "      <td>9.836735</td>\n",
       "    </tr>\n",
       "    <tr>\n",
       "      <th>3</th>\n",
       "      <td>18</td>\n",
       "      <td>2012</td>\n",
       "      <td>3</td>\n",
       "      <td>0</td>\n",
       "      <td>1</td>\n",
       "      <td>0</td>\n",
       "      <td>1</td>\n",
       "      <td>0</td>\n",
       "      <td>1</td>\n",
       "      <td>0</td>\n",
       "      <td>...</td>\n",
       "      <td>4.200000</td>\n",
       "      <td>4.200000</td>\n",
       "      <td>0.000000</td>\n",
       "      <td>0.000000</td>\n",
       "      <td>12.100000</td>\n",
       "      <td>0.000000</td>\n",
       "      <td>9.400000</td>\n",
       "      <td>0.000000</td>\n",
       "      <td>0.000000</td>\n",
       "      <td>9.960000</td>\n",
       "    </tr>\n",
       "    <tr>\n",
       "      <th>4</th>\n",
       "      <td>18</td>\n",
       "      <td>2012</td>\n",
       "      <td>4</td>\n",
       "      <td>0</td>\n",
       "      <td>1</td>\n",
       "      <td>0</td>\n",
       "      <td>1</td>\n",
       "      <td>0</td>\n",
       "      <td>1</td>\n",
       "      <td>0</td>\n",
       "      <td>...</td>\n",
       "      <td>5.460000</td>\n",
       "      <td>5.460000</td>\n",
       "      <td>0.000000</td>\n",
       "      <td>0.000000</td>\n",
       "      <td>13.360000</td>\n",
       "      <td>0.000000</td>\n",
       "      <td>10.320000</td>\n",
       "      <td>0.000000</td>\n",
       "      <td>0.000000</td>\n",
       "      <td>10.280000</td>\n",
       "    </tr>\n",
       "    <tr>\n",
       "      <th>...</th>\n",
       "      <td>...</td>\n",
       "      <td>...</td>\n",
       "      <td>...</td>\n",
       "      <td>...</td>\n",
       "      <td>...</td>\n",
       "      <td>...</td>\n",
       "      <td>...</td>\n",
       "      <td>...</td>\n",
       "      <td>...</td>\n",
       "      <td>...</td>\n",
       "      <td>...</td>\n",
       "      <td>...</td>\n",
       "      <td>...</td>\n",
       "      <td>...</td>\n",
       "      <td>...</td>\n",
       "      <td>...</td>\n",
       "      <td>...</td>\n",
       "      <td>...</td>\n",
       "      <td>...</td>\n",
       "      <td>...</td>\n",
       "      <td>...</td>\n",
       "    </tr>\n",
       "    <tr>\n",
       "      <th>643685</th>\n",
       "      <td>1827860</td>\n",
       "      <td>2013</td>\n",
       "      <td>1</td>\n",
       "      <td>0</td>\n",
       "      <td>0</td>\n",
       "      <td>0</td>\n",
       "      <td>1</td>\n",
       "      <td>0</td>\n",
       "      <td>0</td>\n",
       "      <td>1</td>\n",
       "      <td>...</td>\n",
       "      <td>0.000000</td>\n",
       "      <td>0.000000</td>\n",
       "      <td>0.000000</td>\n",
       "      <td>0.000000</td>\n",
       "      <td>0.612903</td>\n",
       "      <td>0.000000</td>\n",
       "      <td>0.000000</td>\n",
       "      <td>0.000000</td>\n",
       "      <td>0.000000</td>\n",
       "      <td>0.000000</td>\n",
       "    </tr>\n",
       "    <tr>\n",
       "      <th>643686</th>\n",
       "      <td>1827860</td>\n",
       "      <td>2015</td>\n",
       "      <td>2</td>\n",
       "      <td>1</td>\n",
       "      <td>0</td>\n",
       "      <td>0</td>\n",
       "      <td>1</td>\n",
       "      <td>0</td>\n",
       "      <td>1</td>\n",
       "      <td>0</td>\n",
       "      <td>...</td>\n",
       "      <td>0.000000</td>\n",
       "      <td>0.000000</td>\n",
       "      <td>0.212121</td>\n",
       "      <td>0.212121</td>\n",
       "      <td>17.363636</td>\n",
       "      <td>0.000000</td>\n",
       "      <td>8.909091</td>\n",
       "      <td>0.000000</td>\n",
       "      <td>0.000000</td>\n",
       "      <td>7.121212</td>\n",
       "    </tr>\n",
       "    <tr>\n",
       "      <th>643687</th>\n",
       "      <td>1827860</td>\n",
       "      <td>2016</td>\n",
       "      <td>3</td>\n",
       "      <td>1</td>\n",
       "      <td>0</td>\n",
       "      <td>0</td>\n",
       "      <td>1</td>\n",
       "      <td>1</td>\n",
       "      <td>0</td>\n",
       "      <td>1</td>\n",
       "      <td>...</td>\n",
       "      <td>0.000000</td>\n",
       "      <td>0.000000</td>\n",
       "      <td>0.294118</td>\n",
       "      <td>0.205882</td>\n",
       "      <td>34.705882</td>\n",
       "      <td>0.000000</td>\n",
       "      <td>10.352941</td>\n",
       "      <td>1.705882</td>\n",
       "      <td>1.705882</td>\n",
       "      <td>23.911765</td>\n",
       "    </tr>\n",
       "    <tr>\n",
       "      <th>643688</th>\n",
       "      <td>1827869</td>\n",
       "      <td>2013</td>\n",
       "      <td>1</td>\n",
       "      <td>1</td>\n",
       "      <td>1</td>\n",
       "      <td>0</td>\n",
       "      <td>0</td>\n",
       "      <td>0</td>\n",
       "      <td>1</td>\n",
       "      <td>0</td>\n",
       "      <td>...</td>\n",
       "      <td>0.000000</td>\n",
       "      <td>0.000000</td>\n",
       "      <td>0.000000</td>\n",
       "      <td>0.000000</td>\n",
       "      <td>0.000000</td>\n",
       "      <td>0.525424</td>\n",
       "      <td>0.000000</td>\n",
       "      <td>0.000000</td>\n",
       "      <td>0.000000</td>\n",
       "      <td>0.000000</td>\n",
       "    </tr>\n",
       "    <tr>\n",
       "      <th>643689</th>\n",
       "      <td>1827869</td>\n",
       "      <td>2014</td>\n",
       "      <td>2</td>\n",
       "      <td>0</td>\n",
       "      <td>0</td>\n",
       "      <td>1</td>\n",
       "      <td>0</td>\n",
       "      <td>0</td>\n",
       "      <td>1</td>\n",
       "      <td>0</td>\n",
       "      <td>...</td>\n",
       "      <td>0.000000</td>\n",
       "      <td>0.666667</td>\n",
       "      <td>0.666667</td>\n",
       "      <td>0.000000</td>\n",
       "      <td>0.000000</td>\n",
       "      <td>8.950000</td>\n",
       "      <td>1.033333</td>\n",
       "      <td>0.083333</td>\n",
       "      <td>0.083333</td>\n",
       "      <td>8.133333</td>\n",
       "    </tr>\n",
       "  </tbody>\n",
       "</table>\n",
       "<p>643690 rows × 164 columns</p>\n",
       "</div>"
      ],
      "text/plain": [
       "         persnr  year  nrEntry  ltue  employed_before  receipt_leh_before  \\\n",
       "0             7  2015        1     0                1                   0   \n",
       "1            18  2010        1     1                0                   0   \n",
       "2            18  2011        2     0                1                   0   \n",
       "3            18  2012        3     0                1                   0   \n",
       "4            18  2012        4     0                1                   0   \n",
       "...         ...   ...      ...   ...              ...                 ...   \n",
       "643685  1827860  2013        1     0                0                   0   \n",
       "643686  1827860  2015        2     1                0                   0   \n",
       "643687  1827860  2016        3     1                0                   0   \n",
       "643688  1827869  2013        1     1                1                   0   \n",
       "643689  1827869  2014        2     0                0                   1   \n",
       "\n",
       "        receipt_lhg_before  se_before  ASU_notue_seeking_before  \\\n",
       "0                        0          0                         1   \n",
       "1                        0          0                         0   \n",
       "2                        1          0                         1   \n",
       "3                        1          0                         1   \n",
       "4                        1          0                         1   \n",
       "...                    ...        ...                       ...   \n",
       "643685                   1          0                         0   \n",
       "643686                   1          0                         1   \n",
       "643687                   1          1                         0   \n",
       "643688                   0          0                         1   \n",
       "643689                   0          0                         1   \n",
       "\n",
       "        ASU_other_before  ...  minijob_tot_dur_byage  ft_tot_dur_byage  \\\n",
       "0                      0  ...               0.000000          0.000000   \n",
       "1                      0  ...               0.000000          0.000000   \n",
       "2                      0  ...               2.714286          2.714286   \n",
       "3                      0  ...               4.200000          4.200000   \n",
       "4                      0  ...               5.460000          5.460000   \n",
       "...                  ...  ...                    ...               ...   \n",
       "643685                 1  ...               0.000000          0.000000   \n",
       "643686                 0  ...               0.000000          0.000000   \n",
       "643687                 1  ...               0.000000          0.000000   \n",
       "643688                 0  ...               0.000000          0.000000   \n",
       "643689                 0  ...               0.000000          0.666667   \n",
       "\n",
       "        befrist_tot_dur_byage  leih_tot_dur_byage  LHG_tot_dur_byage  \\\n",
       "0                   15.043478            0.000000           0.000000   \n",
       "1                    0.000000            0.000000           0.000000   \n",
       "2                    0.000000            0.000000          10.775510   \n",
       "3                    0.000000            0.000000          12.100000   \n",
       "4                    0.000000            0.000000          13.360000   \n",
       "...                       ...                 ...                ...   \n",
       "643685               0.000000            0.000000           0.612903   \n",
       "643686               0.212121            0.212121          17.363636   \n",
       "643687               0.294118            0.205882          34.705882   \n",
       "643688               0.000000            0.000000           0.000000   \n",
       "643689               0.666667            0.000000           0.000000   \n",
       "\n",
       "        LEH_tot_dur_byage  almp_tot_dur_byage  almp_aw_tot_dur_byage  \\\n",
       "0                0.000000            0.000000               0.000000   \n",
       "1                0.000000            0.000000               0.000000   \n",
       "2                0.000000            8.367347               0.000000   \n",
       "3                0.000000            9.400000               0.000000   \n",
       "4                0.000000           10.320000               0.000000   \n",
       "...                   ...                 ...                    ...   \n",
       "643685           0.000000            0.000000               0.000000   \n",
       "643686           0.000000            8.909091               0.000000   \n",
       "643687           0.000000           10.352941               1.705882   \n",
       "643688           0.525424            0.000000               0.000000   \n",
       "643689           8.950000            1.033333               0.083333   \n",
       "\n",
       "        se_tot_dur_byage  seeking1_tot_dur_byage  \n",
       "0               0.000000                0.000000  \n",
       "1               0.000000                0.000000  \n",
       "2               0.000000                9.836735  \n",
       "3               0.000000                9.960000  \n",
       "4               0.000000               10.280000  \n",
       "...                  ...                     ...  \n",
       "643685          0.000000                0.000000  \n",
       "643686          0.000000                7.121212  \n",
       "643687          1.705882               23.911765  \n",
       "643688          0.000000                0.000000  \n",
       "643689          0.083333                8.133333  \n",
       "\n",
       "[643690 rows x 164 columns]"
      ]
     },
     "execution_count": 10,
     "metadata": {},
     "output_type": "execute_result"
    }
   ],
   "source": [
    "siab"
   ]
  },
  {
   "cell_type": "markdown",
   "id": "1f87e805",
   "metadata": {
    "papermill": {
     "duration": 0.010544,
     "end_time": "2025-08-19T19:11:10.502960",
     "exception": false,
     "start_time": "2025-08-19T19:11:10.492416",
     "status": "completed"
    },
    "tags": []
   },
   "source": [
    "# Splitting Data and Setting Training Data Size"
   ]
  },
  {
   "cell_type": "code",
   "execution_count": 11,
   "id": "910ae358",
   "metadata": {
    "execution": {
     "iopub.execute_input": "2025-08-19T19:11:10.524678Z",
     "iopub.status.busy": "2025-08-19T19:11:10.524109Z",
     "iopub.status.idle": "2025-08-19T19:11:11.589187Z",
     "shell.execute_reply": "2025-08-19T19:11:11.588506Z"
    },
    "papermill": {
     "duration": 1.078399,
     "end_time": "2025-08-19T19:11:11.591822",
     "exception": false,
     "start_time": "2025-08-19T19:11:10.513423",
     "status": "completed"
    },
    "tags": []
   },
   "outputs": [],
   "source": [
    "from fairness_multiverse.universe import sample_by_year_size\n",
    "\n",
    "siab_train = sample_by_year_size(siab,\n",
    "                               training_year=universe[\"training_year\"],\n",
    "                               training_size=universe[\"training_size\"])"
   ]
  },
  {
   "cell_type": "code",
   "execution_count": 12,
   "id": "919c8ff5",
   "metadata": {
    "execution": {
     "iopub.execute_input": "2025-08-19T19:11:11.647484Z",
     "iopub.status.busy": "2025-08-19T19:11:11.646948Z",
     "iopub.status.idle": "2025-08-19T19:11:11.652794Z",
     "shell.execute_reply": "2025-08-19T19:11:11.652169Z"
    },
    "papermill": {
     "duration": 0.026746,
     "end_time": "2025-08-19T19:11:11.657927",
     "exception": false,
     "start_time": "2025-08-19T19:11:11.631181",
     "status": "completed"
    },
    "tags": []
   },
   "outputs": [
    {
     "data": {
      "text/plain": [
       "(1000, 164)"
      ]
     },
     "execution_count": 12,
     "metadata": {},
     "output_type": "execute_result"
    }
   ],
   "source": [
    "siab_train.shape"
   ]
  },
  {
   "cell_type": "code",
   "execution_count": 13,
   "id": "feb13bf4",
   "metadata": {
    "execution": {
     "iopub.execute_input": "2025-08-19T19:11:11.678762Z",
     "iopub.status.busy": "2025-08-19T19:11:11.678331Z",
     "iopub.status.idle": "2025-08-19T19:11:11.685604Z",
     "shell.execute_reply": "2025-08-19T19:11:11.684999Z"
    },
    "papermill": {
     "duration": 0.01981,
     "end_time": "2025-08-19T19:11:11.687668",
     "exception": false,
     "start_time": "2025-08-19T19:11:11.667858",
     "status": "completed"
    },
    "tags": []
   },
   "outputs": [
    {
     "data": {
      "text/plain": [
       "year\n",
       "2010    200\n",
       "2011    200\n",
       "2012    200\n",
       "2013    200\n",
       "2014    200\n",
       "dtype: int64"
      ]
     },
     "metadata": {},
     "output_type": "display_data"
    }
   ],
   "source": [
    "display(siab_train.groupby(\"year\").size())"
   ]
  },
  {
   "cell_type": "code",
   "execution_count": 14,
   "id": "0997782f",
   "metadata": {
    "execution": {
     "iopub.execute_input": "2025-08-19T19:11:11.709401Z",
     "iopub.status.busy": "2025-08-19T19:11:11.708973Z",
     "iopub.status.idle": "2025-08-19T19:11:11.986200Z",
     "shell.execute_reply": "2025-08-19T19:11:11.985529Z"
    },
    "papermill": {
     "duration": 0.289398,
     "end_time": "2025-08-19T19:11:11.987690",
     "exception": false,
     "start_time": "2025-08-19T19:11:11.698292",
     "status": "completed"
    },
    "tags": []
   },
   "outputs": [],
   "source": [
    "#siab_train = siab_s[siab_s.year < 2015]\n",
    "siab_calib = siab[siab.year == 2015]\n",
    "siab_test = siab[siab.year == 2016]"
   ]
  },
  {
   "cell_type": "code",
   "execution_count": 15,
   "id": "2c1e4012",
   "metadata": {
    "execution": {
     "iopub.execute_input": "2025-08-19T19:11:12.009967Z",
     "iopub.status.busy": "2025-08-19T19:11:12.009431Z",
     "iopub.status.idle": "2025-08-19T19:11:12.014579Z",
     "shell.execute_reply": "2025-08-19T19:11:12.013797Z"
    },
    "papermill": {
     "duration": 0.017571,
     "end_time": "2025-08-19T19:11:12.015727",
     "exception": false,
     "start_time": "2025-08-19T19:11:11.998156",
     "status": "completed"
    },
    "tags": []
   },
   "outputs": [],
   "source": [
    "#siab_calib.shape"
   ]
  },
  {
   "cell_type": "code",
   "execution_count": 16,
   "id": "f66b54ca",
   "metadata": {
    "execution": {
     "iopub.execute_input": "2025-08-19T19:11:12.037996Z",
     "iopub.status.busy": "2025-08-19T19:11:12.037590Z",
     "iopub.status.idle": "2025-08-19T19:11:12.208142Z",
     "shell.execute_reply": "2025-08-19T19:11:12.207356Z"
    },
    "papermill": {
     "duration": 0.183275,
     "end_time": "2025-08-19T19:11:12.209662",
     "exception": false,
     "start_time": "2025-08-19T19:11:12.026387",
     "status": "completed"
    },
    "tags": []
   },
   "outputs": [],
   "source": [
    "#siab_test.shape"
   ]
  },
  {
   "cell_type": "code",
   "execution_count": 17,
   "id": "27e4384d",
   "metadata": {
    "execution": {
     "iopub.execute_input": "2025-08-19T19:11:12.248162Z",
     "iopub.status.busy": "2025-08-19T19:11:12.247202Z",
     "iopub.status.idle": "2025-08-19T19:11:12.254748Z",
     "shell.execute_reply": "2025-08-19T19:11:12.253814Z"
    },
    "papermill": {
     "duration": 0.035315,
     "end_time": "2025-08-19T19:11:12.256700",
     "exception": false,
     "start_time": "2025-08-19T19:11:12.221385",
     "status": "completed"
    },
    "tags": []
   },
   "outputs": [],
   "source": [
    "X_train = siab_train.iloc[:,4:164]\n",
    "y_train = siab_train.iloc[:, [3]]"
   ]
  },
  {
   "cell_type": "code",
   "execution_count": 18,
   "id": "08ee8389",
   "metadata": {
    "execution": {
     "iopub.execute_input": "2025-08-19T19:11:12.286983Z",
     "iopub.status.busy": "2025-08-19T19:11:12.285665Z",
     "iopub.status.idle": "2025-08-19T19:11:12.343866Z",
     "shell.execute_reply": "2025-08-19T19:11:12.343045Z"
    },
    "papermill": {
     "duration": 0.072799,
     "end_time": "2025-08-19T19:11:12.346496",
     "exception": false,
     "start_time": "2025-08-19T19:11:12.273697",
     "status": "completed"
    },
    "tags": []
   },
   "outputs": [],
   "source": [
    "X_calib = siab_calib.iloc[:,4:164]\n",
    "y_calib = siab_calib.iloc[:, [3]]"
   ]
  },
  {
   "cell_type": "code",
   "execution_count": 19,
   "id": "b7ff42e0",
   "metadata": {
    "execution": {
     "iopub.execute_input": "2025-08-19T19:11:12.384059Z",
     "iopub.status.busy": "2025-08-19T19:11:12.382734Z",
     "iopub.status.idle": "2025-08-19T19:11:12.444657Z",
     "shell.execute_reply": "2025-08-19T19:11:12.443827Z"
    },
    "papermill": {
     "duration": 0.077779,
     "end_time": "2025-08-19T19:11:12.446946",
     "exception": false,
     "start_time": "2025-08-19T19:11:12.369167",
     "status": "completed"
    },
    "tags": []
   },
   "outputs": [],
   "source": [
    "X_test = siab_test.iloc[:,4:164]\n",
    "y_true = siab_test.iloc[:, [3]]"
   ]
  },
  {
   "cell_type": "code",
   "execution_count": 20,
   "id": "0275101e",
   "metadata": {
    "execution": {
     "iopub.execute_input": "2025-08-19T19:11:12.485626Z",
     "iopub.status.busy": "2025-08-19T19:11:12.484202Z",
     "iopub.status.idle": "2025-08-19T19:11:12.602452Z",
     "shell.execute_reply": "2025-08-19T19:11:12.601687Z"
    },
    "papermill": {
     "duration": 0.13456,
     "end_time": "2025-08-19T19:11:12.605172",
     "exception": false,
     "start_time": "2025-08-19T19:11:12.470612",
     "status": "completed"
    },
    "tags": []
   },
   "outputs": [],
   "source": [
    "# Auxiliary data needed downstream in the pipeline\n",
    "\n",
    "org_train = X_train.copy()\n",
    "org_test = X_test.copy()\n",
    "org_calib = X_calib.copy()"
   ]
  },
  {
   "cell_type": "markdown",
   "id": "b461e618",
   "metadata": {
    "papermill": {
     "duration": 0.01252,
     "end_time": "2025-08-19T19:11:12.642273",
     "exception": false,
     "start_time": "2025-08-19T19:11:12.629753",
     "status": "completed"
    },
    "tags": []
   },
   "source": [
    "# Preprocessing Data"
   ]
  },
  {
   "cell_type": "code",
   "execution_count": 21,
   "id": "78e74c4b",
   "metadata": {
    "execution": {
     "iopub.execute_input": "2025-08-19T19:11:12.666384Z",
     "iopub.status.busy": "2025-08-19T19:11:12.665812Z",
     "iopub.status.idle": "2025-08-19T19:11:12.671149Z",
     "shell.execute_reply": "2025-08-19T19:11:12.670442Z"
    },
    "papermill": {
     "duration": 0.017609,
     "end_time": "2025-08-19T19:11:12.672217",
     "exception": false,
     "start_time": "2025-08-19T19:11:12.654608",
     "status": "completed"
    },
    "tags": []
   },
   "outputs": [],
   "source": [
    "# EXCLUDE PROTECTED FEATURES\n",
    "# --------------------------\n",
    "\n",
    "excluded_features = universe[\"exclude_features\"].split(\"-\")\n",
    "excluded_features_dictionary = {\n",
    "    \"nationality\": [\"maxdeutsch1\", \"maxdeutsch.Missing.\"],\n",
    "    \"sex\": [\"frau1\"],\n",
    "    \"age\": [\"age\"],\n",
    "}"
   ]
  },
  {
   "cell_type": "code",
   "execution_count": 22,
   "id": "f8e63555",
   "metadata": {
    "execution": {
     "iopub.execute_input": "2025-08-19T19:11:12.699371Z",
     "iopub.status.busy": "2025-08-19T19:11:12.698208Z",
     "iopub.status.idle": "2025-08-19T19:11:12.706175Z",
     "shell.execute_reply": "2025-08-19T19:11:12.705045Z"
    },
    "papermill": {
     "duration": 0.024811,
     "end_time": "2025-08-19T19:11:12.707612",
     "exception": false,
     "start_time": "2025-08-19T19:11:12.682801",
     "status": "completed"
    },
    "tags": []
   },
   "outputs": [],
   "source": [
    "excluded_features_columns = [\n",
    "    excluded_features_dictionary[f] for f in excluded_features if len(f) > 0 and f != \"none\"\n",
    "]"
   ]
  },
  {
   "cell_type": "code",
   "execution_count": 23,
   "id": "da781f7c",
   "metadata": {
    "execution": {
     "iopub.execute_input": "2025-08-19T19:11:12.733701Z",
     "iopub.status.busy": "2025-08-19T19:11:12.732555Z",
     "iopub.status.idle": "2025-08-19T19:11:12.740398Z",
     "shell.execute_reply": "2025-08-19T19:11:12.739236Z"
    },
    "papermill": {
     "duration": 0.021251,
     "end_time": "2025-08-19T19:11:12.742051",
     "exception": false,
     "start_time": "2025-08-19T19:11:12.720800",
     "status": "completed"
    },
    "tags": []
   },
   "outputs": [],
   "source": [
    "from fairness_multiverse.universe import flatten_once\n",
    "\n",
    "excluded_features_columns = flatten_once(excluded_features_columns)"
   ]
  },
  {
   "cell_type": "code",
   "execution_count": 24,
   "id": "37fef0f0",
   "metadata": {
    "execution": {
     "iopub.execute_input": "2025-08-19T19:11:12.769181Z",
     "iopub.status.busy": "2025-08-19T19:11:12.767726Z",
     "iopub.status.idle": "2025-08-19T19:11:12.780700Z",
     "shell.execute_reply": "2025-08-19T19:11:12.779620Z"
    },
    "papermill": {
     "duration": 0.027009,
     "end_time": "2025-08-19T19:11:12.782139",
     "exception": false,
     "start_time": "2025-08-19T19:11:12.755130",
     "status": "completed"
    },
    "tags": []
   },
   "outputs": [
    {
     "name": "stdout",
     "output_type": "stream",
     "text": [
      "Dropping features: ['maxdeutsch1', 'maxdeutsch.Missing.']\n"
     ]
    }
   ],
   "source": [
    "if len(excluded_features_columns) > 0:\n",
    "    print(f\"Dropping features: {excluded_features_columns}\")\n",
    "    X_train.drop(excluded_features_columns, axis=1, inplace=True)"
   ]
  },
  {
   "cell_type": "code",
   "execution_count": 25,
   "id": "d029e3e9",
   "metadata": {
    "execution": {
     "iopub.execute_input": "2025-08-19T19:11:12.809025Z",
     "iopub.status.busy": "2025-08-19T19:11:12.807556Z",
     "iopub.status.idle": "2025-08-19T19:11:12.871520Z",
     "shell.execute_reply": "2025-08-19T19:11:12.870758Z"
    },
    "papermill": {
     "duration": 0.078839,
     "end_time": "2025-08-19T19:11:12.873989",
     "exception": false,
     "start_time": "2025-08-19T19:11:12.795150",
     "status": "completed"
    },
    "tags": []
   },
   "outputs": [
    {
     "name": "stdout",
     "output_type": "stream",
     "text": [
      "Dropping features: ['maxdeutsch1', 'maxdeutsch.Missing.']\n"
     ]
    }
   ],
   "source": [
    "if len(excluded_features_columns) > 0:\n",
    "    print(f\"Dropping features: {excluded_features_columns}\")\n",
    "    X_test.drop(excluded_features_columns, axis=1, inplace=True)"
   ]
  },
  {
   "cell_type": "code",
   "execution_count": 26,
   "id": "01d571f0",
   "metadata": {
    "execution": {
     "iopub.execute_input": "2025-08-19T19:11:12.911775Z",
     "iopub.status.busy": "2025-08-19T19:11:12.910195Z",
     "iopub.status.idle": "2025-08-19T19:11:12.965669Z",
     "shell.execute_reply": "2025-08-19T19:11:12.964968Z"
    },
    "papermill": {
     "duration": 0.071458,
     "end_time": "2025-08-19T19:11:12.968007",
     "exception": false,
     "start_time": "2025-08-19T19:11:12.896549",
     "status": "completed"
    },
    "tags": []
   },
   "outputs": [
    {
     "name": "stdout",
     "output_type": "stream",
     "text": [
      "Dropping features: ['maxdeutsch1', 'maxdeutsch.Missing.']\n"
     ]
    }
   ],
   "source": [
    "if len(excluded_features_columns) > 0:\n",
    "    print(f\"Dropping features: {excluded_features_columns}\")\n",
    "    X_calib.drop(excluded_features_columns, axis=1, inplace=True)"
   ]
  },
  {
   "cell_type": "code",
   "execution_count": 27,
   "id": "3037356e",
   "metadata": {
    "execution": {
     "iopub.execute_input": "2025-08-19T19:11:13.011774Z",
     "iopub.status.busy": "2025-08-19T19:11:13.010121Z",
     "iopub.status.idle": "2025-08-19T19:11:13.018182Z",
     "shell.execute_reply": "2025-08-19T19:11:13.016970Z"
    },
    "papermill": {
     "duration": 0.024426,
     "end_time": "2025-08-19T19:11:13.019776",
     "exception": false,
     "start_time": "2025-08-19T19:11:12.995350",
     "status": "completed"
    },
    "tags": []
   },
   "outputs": [],
   "source": [
    "# EXCLUDE CERTAIN SUBGROUPS\n",
    "# -------------------------\n",
    "\n",
    "mode = universe.get(\"exclude_subgroups\", \"keep-all\") # Defaults to \"keep-all\" if the key is missing."
   ]
  },
  {
   "cell_type": "code",
   "execution_count": 28,
   "id": "9d1e63fd",
   "metadata": {
    "execution": {
     "iopub.execute_input": "2025-08-19T19:11:13.048762Z",
     "iopub.status.busy": "2025-08-19T19:11:13.047591Z",
     "iopub.status.idle": "2025-08-19T19:11:13.058108Z",
     "shell.execute_reply": "2025-08-19T19:11:13.056900Z"
    },
    "papermill": {
     "duration": 0.024282,
     "end_time": "2025-08-19T19:11:13.059793",
     "exception": false,
     "start_time": "2025-08-19T19:11:13.035511",
     "status": "completed"
    },
    "tags": []
   },
   "outputs": [],
   "source": [
    "if mode == \"keep-all\":\n",
    "    keep_mask = pd.Series(True, index=org_train.index)\n",
    "\n",
    "elif mode == \"drop-non-german\":\n",
    "    keep_mask = (org_train[\"maxdeutsch1\"] == 1) & (org_train[\"maxdeutsch.Missing.\"] == 0)\n",
    "\n",
    "else:\n",
    "    raise ValueError(f\"Unsupported mode for exclude_subgroups: {mode}\")"
   ]
  },
  {
   "cell_type": "code",
   "execution_count": 29,
   "id": "d3b65474",
   "metadata": {
    "execution": {
     "iopub.execute_input": "2025-08-19T19:11:13.105042Z",
     "iopub.status.busy": "2025-08-19T19:11:13.090170Z",
     "iopub.status.idle": "2025-08-19T19:11:13.110544Z",
     "shell.execute_reply": "2025-08-19T19:11:13.109775Z"
    },
    "papermill": {
     "duration": 0.035485,
     "end_time": "2025-08-19T19:11:13.112382",
     "exception": false,
     "start_time": "2025-08-19T19:11:13.076897",
     "status": "completed"
    },
    "tags": []
   },
   "outputs": [],
   "source": [
    "n_drop = (~keep_mask).sum() # Calculates how many rows are set to be dropped\n",
    "if n_drop > 0:\n",
    "    pct = n_drop / len(keep_mask) * 100\n",
    "    print(f\"Dropping {n_drop} rows ({pct:.2f}%) where mode='{mode}'\")"
   ]
  },
  {
   "cell_type": "code",
   "execution_count": 30,
   "id": "f44389b3",
   "metadata": {
    "execution": {
     "iopub.execute_input": "2025-08-19T19:11:13.158385Z",
     "iopub.status.busy": "2025-08-19T19:11:13.157668Z",
     "iopub.status.idle": "2025-08-19T19:11:13.167196Z",
     "shell.execute_reply": "2025-08-19T19:11:13.165920Z"
    },
    "papermill": {
     "duration": 0.032917,
     "end_time": "2025-08-19T19:11:13.169014",
     "exception": false,
     "start_time": "2025-08-19T19:11:13.136097",
     "status": "completed"
    },
    "tags": []
   },
   "outputs": [],
   "source": [
    "X_train = X_train[keep_mask]"
   ]
  },
  {
   "cell_type": "code",
   "execution_count": 31,
   "id": "ceca8c2a",
   "metadata": {
    "execution": {
     "iopub.execute_input": "2025-08-19T19:11:13.199568Z",
     "iopub.status.busy": "2025-08-19T19:11:13.198298Z",
     "iopub.status.idle": "2025-08-19T19:11:13.206404Z",
     "shell.execute_reply": "2025-08-19T19:11:13.205204Z"
    },
    "papermill": {
     "duration": 0.023555,
     "end_time": "2025-08-19T19:11:13.207989",
     "exception": false,
     "start_time": "2025-08-19T19:11:13.184434",
     "status": "completed"
    },
    "tags": []
   },
   "outputs": [],
   "source": [
    "y_train = y_train[keep_mask]"
   ]
  },
  {
   "cell_type": "markdown",
   "id": "04d31e2f",
   "metadata": {
    "papermill": {
     "duration": 0.014537,
     "end_time": "2025-08-19T19:11:13.236277",
     "exception": false,
     "start_time": "2025-08-19T19:11:13.221740",
     "status": "completed"
    },
    "tags": []
   },
   "source": [
    "# Model Training"
   ]
  },
  {
   "cell_type": "code",
   "execution_count": 32,
   "id": "db991733",
   "metadata": {
    "execution": {
     "iopub.execute_input": "2025-08-19T19:11:13.264069Z",
     "iopub.status.busy": "2025-08-19T19:11:13.263369Z",
     "iopub.status.idle": "2025-08-19T19:11:13.367654Z",
     "shell.execute_reply": "2025-08-19T19:11:13.366649Z"
    },
    "papermill": {
     "duration": 0.120926,
     "end_time": "2025-08-19T19:11:13.370502",
     "exception": false,
     "start_time": "2025-08-19T19:11:13.249576",
     "status": "completed"
    },
    "tags": []
   },
   "outputs": [],
   "source": [
    "from sklearn.linear_model import LogisticRegression\n",
    "from sklearn.ensemble import GradientBoostingClassifier, RandomForestClassifier\n",
    "\n",
    "if (universe[\"model\"] == \"logreg\"):\n",
    "    model = LogisticRegression() #penalty=\"none\", solver=\"newton-cg\", max_iter=1)\n",
    "elif (universe[\"model\"] == \"penalized_logreg\"):\n",
    "    model = LogisticRegression(penalty=\"l2\", C=0.1) #, solver=\"newton-cg\", max_iter=1)\n",
    "elif (universe[\"model\"] == \"rf\"):\n",
    "    model = RandomForestClassifier() # n_estimators=100, n_jobs=-1\n",
    "elif (universe[\"model\"] == \"gbm\"):\n",
    "    model = GradientBoostingClassifier()\n",
    "elif (universe[\"model\"] == \"elasticnet\"):\n",
    "    model = LogisticRegression(penalty = 'elasticnet', solver = 'saga', l1_ratio = 0.5) # max_iter=5000\n",
    "else:\n",
    "    raise \"Unsupported universe.model\""
   ]
  },
  {
   "cell_type": "code",
   "execution_count": 33,
   "id": "a4b5cd25",
   "metadata": {
    "execution": {
     "iopub.execute_input": "2025-08-19T19:11:13.402946Z",
     "iopub.status.busy": "2025-08-19T19:11:13.401493Z",
     "iopub.status.idle": "2025-08-19T19:11:13.410815Z",
     "shell.execute_reply": "2025-08-19T19:11:13.409687Z"
    },
    "papermill": {
     "duration": 0.023337,
     "end_time": "2025-08-19T19:11:13.412348",
     "exception": false,
     "start_time": "2025-08-19T19:11:13.389011",
     "status": "completed"
    },
    "tags": []
   },
   "outputs": [],
   "source": [
    "from sklearn.pipeline import Pipeline\n",
    "from sklearn.preprocessing import StandardScaler\n",
    "\n",
    "model = Pipeline([\n",
    "    #(\"continuous_processor\", continuous_processor),\n",
    "    #(\"categorical_preprocessor\", categorical_preprocessor),\n",
    "    (\"scale\", StandardScaler() if universe[\"scale\"] == \"scale\" else None), \n",
    "    (\"model\", model),\n",
    "])"
   ]
  },
  {
   "cell_type": "code",
   "execution_count": 34,
   "id": "283a904d",
   "metadata": {
    "execution": {
     "iopub.execute_input": "2025-08-19T19:11:13.445833Z",
     "iopub.status.busy": "2025-08-19T19:11:13.444426Z",
     "iopub.status.idle": "2025-08-19T19:11:14.356867Z",
     "shell.execute_reply": "2025-08-19T19:11:14.356131Z"
    },
    "papermill": {
     "duration": 0.927362,
     "end_time": "2025-08-19T19:11:14.358129",
     "exception": false,
     "start_time": "2025-08-19T19:11:13.430767",
     "status": "completed"
    },
    "tags": []
   },
   "outputs": [
    {
     "data": {
      "text/html": [
       "<style>#sk-container-id-1 {color: black;background-color: white;}#sk-container-id-1 pre{padding: 0;}#sk-container-id-1 div.sk-toggleable {background-color: white;}#sk-container-id-1 label.sk-toggleable__label {cursor: pointer;display: block;width: 100%;margin-bottom: 0;padding: 0.3em;box-sizing: border-box;text-align: center;}#sk-container-id-1 label.sk-toggleable__label-arrow:before {content: \"▸\";float: left;margin-right: 0.25em;color: #696969;}#sk-container-id-1 label.sk-toggleable__label-arrow:hover:before {color: black;}#sk-container-id-1 div.sk-estimator:hover label.sk-toggleable__label-arrow:before {color: black;}#sk-container-id-1 div.sk-toggleable__content {max-height: 0;max-width: 0;overflow: hidden;text-align: left;background-color: #f0f8ff;}#sk-container-id-1 div.sk-toggleable__content pre {margin: 0.2em;color: black;border-radius: 0.25em;background-color: #f0f8ff;}#sk-container-id-1 input.sk-toggleable__control:checked~div.sk-toggleable__content {max-height: 200px;max-width: 100%;overflow: auto;}#sk-container-id-1 input.sk-toggleable__control:checked~label.sk-toggleable__label-arrow:before {content: \"▾\";}#sk-container-id-1 div.sk-estimator input.sk-toggleable__control:checked~label.sk-toggleable__label {background-color: #d4ebff;}#sk-container-id-1 div.sk-label input.sk-toggleable__control:checked~label.sk-toggleable__label {background-color: #d4ebff;}#sk-container-id-1 input.sk-hidden--visually {border: 0;clip: rect(1px 1px 1px 1px);clip: rect(1px, 1px, 1px, 1px);height: 1px;margin: -1px;overflow: hidden;padding: 0;position: absolute;width: 1px;}#sk-container-id-1 div.sk-estimator {font-family: monospace;background-color: #f0f8ff;border: 1px dotted black;border-radius: 0.25em;box-sizing: border-box;margin-bottom: 0.5em;}#sk-container-id-1 div.sk-estimator:hover {background-color: #d4ebff;}#sk-container-id-1 div.sk-parallel-item::after {content: \"\";width: 100%;border-bottom: 1px solid gray;flex-grow: 1;}#sk-container-id-1 div.sk-label:hover label.sk-toggleable__label {background-color: #d4ebff;}#sk-container-id-1 div.sk-serial::before {content: \"\";position: absolute;border-left: 1px solid gray;box-sizing: border-box;top: 0;bottom: 0;left: 50%;z-index: 0;}#sk-container-id-1 div.sk-serial {display: flex;flex-direction: column;align-items: center;background-color: white;padding-right: 0.2em;padding-left: 0.2em;position: relative;}#sk-container-id-1 div.sk-item {position: relative;z-index: 1;}#sk-container-id-1 div.sk-parallel {display: flex;align-items: stretch;justify-content: center;background-color: white;position: relative;}#sk-container-id-1 div.sk-item::before, #sk-container-id-1 div.sk-parallel-item::before {content: \"\";position: absolute;border-left: 1px solid gray;box-sizing: border-box;top: 0;bottom: 0;left: 50%;z-index: -1;}#sk-container-id-1 div.sk-parallel-item {display: flex;flex-direction: column;z-index: 1;position: relative;background-color: white;}#sk-container-id-1 div.sk-parallel-item:first-child::after {align-self: flex-end;width: 50%;}#sk-container-id-1 div.sk-parallel-item:last-child::after {align-self: flex-start;width: 50%;}#sk-container-id-1 div.sk-parallel-item:only-child::after {width: 0;}#sk-container-id-1 div.sk-dashed-wrapped {border: 1px dashed gray;margin: 0 0.4em 0.5em 0.4em;box-sizing: border-box;padding-bottom: 0.4em;background-color: white;}#sk-container-id-1 div.sk-label label {font-family: monospace;font-weight: bold;display: inline-block;line-height: 1.2em;}#sk-container-id-1 div.sk-label-container {text-align: center;}#sk-container-id-1 div.sk-container {/* jupyter's `normalize.less` sets `[hidden] { display: none; }` but bootstrap.min.css set `[hidden] { display: none !important; }` so we also need the `!important` here to be able to override the default hidden behavior on the sphinx rendered scikit-learn.org. See: https://github.com/scikit-learn/scikit-learn/issues/21755 */display: inline-block !important;position: relative;}#sk-container-id-1 div.sk-text-repr-fallback {display: none;}</style><div id=\"sk-container-id-1\" class=\"sk-top-container\"><div class=\"sk-text-repr-fallback\"><pre>Pipeline(steps=[(&#x27;scale&#x27;, None), (&#x27;model&#x27;, GradientBoostingClassifier())])</pre><b>In a Jupyter environment, please rerun this cell to show the HTML representation or trust the notebook. <br />On GitHub, the HTML representation is unable to render, please try loading this page with nbviewer.org.</b></div><div class=\"sk-container\" hidden><div class=\"sk-item sk-dashed-wrapped\"><div class=\"sk-label-container\"><div class=\"sk-label sk-toggleable\"><input class=\"sk-toggleable__control sk-hidden--visually\" id=\"sk-estimator-id-1\" type=\"checkbox\" ><label for=\"sk-estimator-id-1\" class=\"sk-toggleable__label sk-toggleable__label-arrow\">Pipeline</label><div class=\"sk-toggleable__content\"><pre>Pipeline(steps=[(&#x27;scale&#x27;, None), (&#x27;model&#x27;, GradientBoostingClassifier())])</pre></div></div></div><div class=\"sk-serial\"><div class=\"sk-item\"><div class=\"sk-estimator sk-toggleable\"><input class=\"sk-toggleable__control sk-hidden--visually\" id=\"sk-estimator-id-2\" type=\"checkbox\" ><label for=\"sk-estimator-id-2\" class=\"sk-toggleable__label sk-toggleable__label-arrow\">None</label><div class=\"sk-toggleable__content\"><pre>None</pre></div></div></div><div class=\"sk-item\"><div class=\"sk-estimator sk-toggleable\"><input class=\"sk-toggleable__control sk-hidden--visually\" id=\"sk-estimator-id-3\" type=\"checkbox\" ><label for=\"sk-estimator-id-3\" class=\"sk-toggleable__label sk-toggleable__label-arrow\">GradientBoostingClassifier</label><div class=\"sk-toggleable__content\"><pre>GradientBoostingClassifier()</pre></div></div></div></div></div></div></div>"
      ],
      "text/plain": [
       "Pipeline(steps=[('scale', None), ('model', GradientBoostingClassifier())])"
      ]
     },
     "execution_count": 34,
     "metadata": {},
     "output_type": "execute_result"
    }
   ],
   "source": [
    "model.fit(X_train, y_train.values.ravel())"
   ]
  },
  {
   "cell_type": "code",
   "execution_count": 35,
   "id": "6e15e313",
   "metadata": {
    "execution": {
     "iopub.execute_input": "2025-08-19T19:11:14.383687Z",
     "iopub.status.busy": "2025-08-19T19:11:14.382248Z",
     "iopub.status.idle": "2025-08-19T19:11:14.906403Z",
     "shell.execute_reply": "2025-08-19T19:11:14.905483Z"
    },
    "papermill": {
     "duration": 0.539903,
     "end_time": "2025-08-19T19:11:14.909474",
     "exception": false,
     "start_time": "2025-08-19T19:11:14.369571",
     "status": "completed"
    },
    "tags": []
   },
   "outputs": [
    {
     "data": {
      "text/plain": [
       "0.8304536840931892"
      ]
     },
     "execution_count": 35,
     "metadata": {},
     "output_type": "execute_result"
    }
   ],
   "source": [
    "from fairness_multiverse.universe import predict_w_threshold\n",
    "\n",
    "probs_test = model.predict_proba(X_test)\n",
    "\n",
    "'''\n",
    "Below code returns a boolean array (or binary 0/1 array depending on how it’s used) where each element \n",
    "is True if the probability of class 1 is greater than or equal to the threshold, and False otherwise.\n",
    "'''\n",
    "y_pred_default = predict_w_threshold(probs_test, 0.5)\n",
    "\n",
    "from sklearn.metrics import accuracy_score\n",
    "\n",
    "# Naive prediction\n",
    "accuracy_score(y_true = y_true, y_pred = y_pred_default)"
   ]
  },
  {
   "cell_type": "code",
   "execution_count": 36,
   "id": "6f14067c",
   "metadata": {
    "execution": {
     "iopub.execute_input": "2025-08-19T19:11:14.951017Z",
     "iopub.status.busy": "2025-08-19T19:11:14.949393Z",
     "iopub.status.idle": "2025-08-19T19:11:15.460968Z",
     "shell.execute_reply": "2025-08-19T19:11:15.460100Z"
    },
    "papermill": {
     "duration": 0.528428,
     "end_time": "2025-08-19T19:11:15.462629",
     "exception": false,
     "start_time": "2025-08-19T19:11:14.934201",
     "status": "completed"
    },
    "tags": []
   },
   "outputs": [
    {
     "data": {
      "text/plain": [
       "array([0, 0, 0, ..., 1, 0, 0])"
      ]
     },
     "execution_count": 36,
     "metadata": {},
     "output_type": "execute_result"
    }
   ],
   "source": [
    "model.predict(X_test)"
   ]
  },
  {
   "cell_type": "markdown",
   "id": "3759920c",
   "metadata": {
    "papermill": {
     "duration": 0.010951,
     "end_time": "2025-08-19T19:11:15.486739",
     "exception": false,
     "start_time": "2025-08-19T19:11:15.475788",
     "status": "completed"
    },
    "tags": []
   },
   "source": [
    "# Conformal Prediction"
   ]
  },
  {
   "cell_type": "code",
   "execution_count": 37,
   "id": "14b27f59",
   "metadata": {
    "execution": {
     "iopub.execute_input": "2025-08-19T19:11:15.512314Z",
     "iopub.status.busy": "2025-08-19T19:11:15.510965Z",
     "iopub.status.idle": "2025-08-19T19:11:15.518481Z",
     "shell.execute_reply": "2025-08-19T19:11:15.517268Z"
    },
    "papermill": {
     "duration": 0.028696,
     "end_time": "2025-08-19T19:11:15.526920",
     "exception": false,
     "start_time": "2025-08-19T19:11:15.498224",
     "status": "completed"
    },
    "tags": []
   },
   "outputs": [],
   "source": [
    "# Miscoverage level for conformal prediction (10% allowed error rate => 90% target coverage)\n",
    "alpha = 0.1"
   ]
  },
  {
   "cell_type": "code",
   "execution_count": 38,
   "id": "59102472",
   "metadata": {
    "execution": {
     "iopub.execute_input": "2025-08-19T19:11:15.551327Z",
     "iopub.status.busy": "2025-08-19T19:11:15.550236Z",
     "iopub.status.idle": "2025-08-19T19:11:16.033690Z",
     "shell.execute_reply": "2025-08-19T19:11:16.032554Z"
    },
    "papermill": {
     "duration": 0.49721,
     "end_time": "2025-08-19T19:11:16.035263",
     "exception": false,
     "start_time": "2025-08-19T19:11:15.538053",
     "status": "completed"
    },
    "tags": []
   },
   "outputs": [],
   "source": [
    "probs_calib = model.predict_proba(X_calib)"
   ]
  },
  {
   "cell_type": "code",
   "execution_count": 39,
   "id": "a792d4dd",
   "metadata": {
    "execution": {
     "iopub.execute_input": "2025-08-19T19:11:16.068710Z",
     "iopub.status.busy": "2025-08-19T19:11:16.068068Z",
     "iopub.status.idle": "2025-08-19T19:11:16.075185Z",
     "shell.execute_reply": "2025-08-19T19:11:16.074183Z"
    },
    "papermill": {
     "duration": 0.027408,
     "end_time": "2025-08-19T19:11:16.076550",
     "exception": false,
     "start_time": "2025-08-19T19:11:16.049142",
     "status": "completed"
    },
    "tags": []
   },
   "outputs": [],
   "source": [
    "y_calib = y_calib.values.ravel().astype(int)"
   ]
  },
  {
   "cell_type": "code",
   "execution_count": 40,
   "id": "650fd033",
   "metadata": {
    "execution": {
     "iopub.execute_input": "2025-08-19T19:11:16.101371Z",
     "iopub.status.busy": "2025-08-19T19:11:16.101097Z",
     "iopub.status.idle": "2025-08-19T19:11:16.109646Z",
     "shell.execute_reply": "2025-08-19T19:11:16.108993Z"
    },
    "papermill": {
     "duration": 0.022528,
     "end_time": "2025-08-19T19:11:16.110927",
     "exception": false,
     "start_time": "2025-08-19T19:11:16.088399",
     "status": "completed"
    },
    "tags": []
   },
   "outputs": [],
   "source": [
    "from fairness_multiverse.conformal import compute_nc_scores\n",
    "\n",
    "# Compute nonconformity scores on calibration set (1 - probability of true class)\n",
    "nc_scores = compute_nc_scores(probs_calib, y_calib)"
   ]
  },
  {
   "cell_type": "code",
   "execution_count": 41,
   "id": "28ada44c",
   "metadata": {
    "execution": {
     "iopub.execute_input": "2025-08-19T19:11:16.135296Z",
     "iopub.status.busy": "2025-08-19T19:11:16.134842Z",
     "iopub.status.idle": "2025-08-19T19:11:16.140603Z",
     "shell.execute_reply": "2025-08-19T19:11:16.139813Z"
    },
    "papermill": {
     "duration": 0.019791,
     "end_time": "2025-08-19T19:11:16.142170",
     "exception": false,
     "start_time": "2025-08-19T19:11:16.122379",
     "status": "completed"
    },
    "tags": []
   },
   "outputs": [],
   "source": [
    "from fairness_multiverse.conformal import find_threshold\n",
    "\n",
    "# Find conformal threshold q_hat for the given alpha (split conformal method)\n",
    "q_hat = find_threshold(nc_scores, alpha)"
   ]
  },
  {
   "cell_type": "code",
   "execution_count": 42,
   "id": "df56469e",
   "metadata": {
    "execution": {
     "iopub.execute_input": "2025-08-19T19:11:16.181867Z",
     "iopub.status.busy": "2025-08-19T19:11:16.180451Z",
     "iopub.status.idle": "2025-08-19T19:11:16.187976Z",
     "shell.execute_reply": "2025-08-19T19:11:16.187297Z"
    },
    "papermill": {
     "duration": 0.022472,
     "end_time": "2025-08-19T19:11:16.189169",
     "exception": false,
     "start_time": "2025-08-19T19:11:16.166697",
     "status": "completed"
    },
    "tags": []
   },
   "outputs": [
    {
     "data": {
      "text/plain": [
       "0.7593369842495312"
      ]
     },
     "execution_count": 42,
     "metadata": {},
     "output_type": "execute_result"
    }
   ],
   "source": [
    "q_hat"
   ]
  },
  {
   "cell_type": "code",
   "execution_count": 43,
   "id": "aa1f5faa",
   "metadata": {
    "execution": {
     "iopub.execute_input": "2025-08-19T19:11:16.233538Z",
     "iopub.status.busy": "2025-08-19T19:11:16.232995Z",
     "iopub.status.idle": "2025-08-19T19:11:17.219985Z",
     "shell.execute_reply": "2025-08-19T19:11:17.218969Z"
    },
    "papermill": {
     "duration": 1.021347,
     "end_time": "2025-08-19T19:11:17.222801",
     "exception": false,
     "start_time": "2025-08-19T19:11:16.201454",
     "status": "completed"
    },
    "tags": []
   },
   "outputs": [],
   "source": [
    "from fairness_multiverse.conformal import predict_conformal_sets\n",
    "\n",
    "# Generate prediction sets for each test example\n",
    "pred_sets = predict_conformal_sets(model, X_test, q_hat)"
   ]
  },
  {
   "cell_type": "code",
   "execution_count": 44,
   "id": "97f67a6b",
   "metadata": {
    "execution": {
     "iopub.execute_input": "2025-08-19T19:11:17.266870Z",
     "iopub.status.busy": "2025-08-19T19:11:17.264978Z",
     "iopub.status.idle": "2025-08-19T19:11:17.275073Z",
     "shell.execute_reply": "2025-08-19T19:11:17.273807Z"
    },
    "papermill": {
     "duration": 0.026482,
     "end_time": "2025-08-19T19:11:17.276346",
     "exception": false,
     "start_time": "2025-08-19T19:11:17.249864",
     "status": "completed"
    },
    "tags": []
   },
   "outputs": [],
   "source": [
    "y_true = y_true.squeeze()"
   ]
  },
  {
   "cell_type": "code",
   "execution_count": 45,
   "id": "e700e9a7",
   "metadata": {
    "execution": {
     "iopub.execute_input": "2025-08-19T19:11:17.306405Z",
     "iopub.status.busy": "2025-08-19T19:11:17.305135Z",
     "iopub.status.idle": "2025-08-19T19:11:17.826626Z",
     "shell.execute_reply": "2025-08-19T19:11:17.825394Z"
    },
    "papermill": {
     "duration": 0.537121,
     "end_time": "2025-08-19T19:11:17.828243",
     "exception": false,
     "start_time": "2025-08-19T19:11:17.291122",
     "status": "completed"
    },
    "tags": []
   },
   "outputs": [],
   "source": [
    "from fairness_multiverse.conformal import evaluate_sets\n",
    "\n",
    "# Evaluate coverage and average set size on test data\n",
    "metrics = evaluate_sets(pred_sets, y_true)"
   ]
  },
  {
   "cell_type": "markdown",
   "id": "efbacec0",
   "metadata": {
    "papermill": {
     "duration": 0.011467,
     "end_time": "2025-08-19T19:11:17.851898",
     "exception": false,
     "start_time": "2025-08-19T19:11:17.840431",
     "status": "completed"
    },
    "tags": []
   },
   "source": [
    "# CP Metrics"
   ]
  },
  {
   "cell_type": "code",
   "execution_count": 46,
   "id": "9de55fb1",
   "metadata": {
    "execution": {
     "iopub.execute_input": "2025-08-19T19:11:17.879982Z",
     "iopub.status.busy": "2025-08-19T19:11:17.878675Z",
     "iopub.status.idle": "2025-08-19T19:11:17.891677Z",
     "shell.execute_reply": "2025-08-19T19:11:17.890525Z"
    },
    "papermill": {
     "duration": 0.034203,
     "end_time": "2025-08-19T19:11:17.897476",
     "exception": false,
     "start_time": "2025-08-19T19:11:17.863273",
     "status": "completed"
    },
    "tags": []
   },
   "outputs": [
    {
     "data": {
      "text/plain": [
       "{'coverage': 0.909653327388251, 'avg_size': 1.186500947497492}"
      ]
     },
     "execution_count": 46,
     "metadata": {},
     "output_type": "execute_result"
    }
   ],
   "source": [
    "metrics"
   ]
  },
  {
   "cell_type": "code",
   "execution_count": 47,
   "id": "64c340a1",
   "metadata": {
    "execution": {
     "iopub.execute_input": "2025-08-19T19:11:17.941592Z",
     "iopub.status.busy": "2025-08-19T19:11:17.941102Z",
     "iopub.status.idle": "2025-08-19T19:11:17.946770Z",
     "shell.execute_reply": "2025-08-19T19:11:17.946093Z"
    },
    "papermill": {
     "duration": 0.023285,
     "end_time": "2025-08-19T19:11:17.948069",
     "exception": false,
     "start_time": "2025-08-19T19:11:17.924784",
     "status": "completed"
    },
    "tags": []
   },
   "outputs": [],
   "source": [
    "example_universe = universe.copy()\n",
    "universe_training_year = example_universe.get(\"training_year\")\n",
    "universe_training_size = example_universe.get(\"training_size\")\n",
    "universe_scale = example_universe.get(\"scale\")\n",
    "universe_model = example_universe.get(\"model\")\n",
    "universe_exclude_features = example_universe.get(\"exclude_features\")\n",
    "universe_exclude_subgroups = example_universe.get(\"exclude_subgroups\")"
   ]
  },
  {
   "cell_type": "code",
   "execution_count": 48,
   "id": "dbb53cb4",
   "metadata": {
    "execution": {
     "iopub.execute_input": "2025-08-19T19:11:17.972984Z",
     "iopub.status.busy": "2025-08-19T19:11:17.972258Z",
     "iopub.status.idle": "2025-08-19T19:11:17.982148Z",
     "shell.execute_reply": "2025-08-19T19:11:17.981488Z"
    },
    "papermill": {
     "duration": 0.023761,
     "end_time": "2025-08-19T19:11:17.983533",
     "exception": false,
     "start_time": "2025-08-19T19:11:17.959772",
     "status": "completed"
    },
    "tags": []
   },
   "outputs": [],
   "source": [
    "cp_metrics_dict = {\n",
    "    \"universe_id\": [universe_id],\n",
    "    \"universe_training_year\": [universe_training_year],\n",
    "    \"universe_training_size\": [universe_training_size],\n",
    "    \"universe_scale\": [universe_scale],\n",
    "    \"universe_model\": [universe_model],\n",
    "    \"universe_exclude_features\": [universe_exclude_features],\n",
    "    \"universe_exclude_subgroups\": [universe_exclude_subgroups],\n",
    "    \"q_hat\": [q_hat],\n",
    "    \"coverage\": [metrics[\"coverage\"]],\n",
    "    \"avg_size\": [metrics[\"avg_size\"]],\n",
    "}"
   ]
  },
  {
   "cell_type": "code",
   "execution_count": 49,
   "id": "0d70d4b2",
   "metadata": {
    "execution": {
     "iopub.execute_input": "2025-08-19T19:11:18.009208Z",
     "iopub.status.busy": "2025-08-19T19:11:18.008697Z",
     "iopub.status.idle": "2025-08-19T19:11:18.014877Z",
     "shell.execute_reply": "2025-08-19T19:11:18.014164Z"
    },
    "papermill": {
     "duration": 0.020693,
     "end_time": "2025-08-19T19:11:18.016596",
     "exception": false,
     "start_time": "2025-08-19T19:11:17.995903",
     "status": "completed"
    },
    "tags": []
   },
   "outputs": [],
   "source": [
    "cp_metrics_df = pd.DataFrame(cp_metrics_dict)"
   ]
  },
  {
   "cell_type": "code",
   "execution_count": 50,
   "id": "b494403c",
   "metadata": {
    "execution": {
     "iopub.execute_input": "2025-08-19T19:11:18.049010Z",
     "iopub.status.busy": "2025-08-19T19:11:18.048097Z",
     "iopub.status.idle": "2025-08-19T19:11:18.069476Z",
     "shell.execute_reply": "2025-08-19T19:11:18.068690Z"
    },
    "papermill": {
     "duration": 0.03611,
     "end_time": "2025-08-19T19:11:18.071085",
     "exception": false,
     "start_time": "2025-08-19T19:11:18.034975",
     "status": "completed"
    },
    "tags": []
   },
   "outputs": [
    {
     "data": {
      "text/html": [
       "<div>\n",
       "<style scoped>\n",
       "    .dataframe tbody tr th:only-of-type {\n",
       "        vertical-align: middle;\n",
       "    }\n",
       "\n",
       "    .dataframe tbody tr th {\n",
       "        vertical-align: top;\n",
       "    }\n",
       "\n",
       "    .dataframe thead th {\n",
       "        text-align: right;\n",
       "    }\n",
       "</style>\n",
       "<table border=\"1\" class=\"dataframe\">\n",
       "  <thead>\n",
       "    <tr style=\"text-align: right;\">\n",
       "      <th></th>\n",
       "      <th>universe_id</th>\n",
       "      <th>universe_training_year</th>\n",
       "      <th>universe_training_size</th>\n",
       "      <th>universe_scale</th>\n",
       "      <th>universe_model</th>\n",
       "      <th>universe_exclude_features</th>\n",
       "      <th>universe_exclude_subgroups</th>\n",
       "      <th>q_hat</th>\n",
       "      <th>coverage</th>\n",
       "      <th>avg_size</th>\n",
       "    </tr>\n",
       "  </thead>\n",
       "  <tbody>\n",
       "    <tr>\n",
       "      <th>0</th>\n",
       "      <td>a0c4c21801cf2bc5133f631180775d4c</td>\n",
       "      <td>2010_14</td>\n",
       "      <td>1k</td>\n",
       "      <td>do-not-scale</td>\n",
       "      <td>gbm</td>\n",
       "      <td>nationality</td>\n",
       "      <td>keep-all</td>\n",
       "      <td>0.759337</td>\n",
       "      <td>0.909653</td>\n",
       "      <td>1.186501</td>\n",
       "    </tr>\n",
       "  </tbody>\n",
       "</table>\n",
       "</div>"
      ],
      "text/plain": [
       "                        universe_id universe_training_year  \\\n",
       "0  a0c4c21801cf2bc5133f631180775d4c                2010_14   \n",
       "\n",
       "  universe_training_size universe_scale universe_model  \\\n",
       "0                     1k   do-not-scale            gbm   \n",
       "\n",
       "  universe_exclude_features universe_exclude_subgroups     q_hat  coverage  \\\n",
       "0               nationality                   keep-all  0.759337  0.909653   \n",
       "\n",
       "   avg_size  \n",
       "0  1.186501  "
      ]
     },
     "execution_count": 50,
     "metadata": {},
     "output_type": "execute_result"
    }
   ],
   "source": [
    "cp_metrics_df"
   ]
  },
  {
   "cell_type": "markdown",
   "id": "ed608b0b",
   "metadata": {
    "papermill": {
     "duration": 0.012423,
     "end_time": "2025-08-19T19:11:18.102422",
     "exception": false,
     "start_time": "2025-08-19T19:11:18.089999",
     "status": "completed"
    },
    "tags": []
   },
   "source": [
    "Conditional coverage & looking at subgroups"
   ]
  },
  {
   "cell_type": "code",
   "execution_count": 51,
   "id": "8968c366",
   "metadata": {
    "execution": {
     "iopub.execute_input": "2025-08-19T19:11:18.128873Z",
     "iopub.status.busy": "2025-08-19T19:11:18.127545Z",
     "iopub.status.idle": "2025-08-19T19:11:18.429603Z",
     "shell.execute_reply": "2025-08-19T19:11:18.428704Z"
    },
    "papermill": {
     "duration": 0.318139,
     "end_time": "2025-08-19T19:11:18.432369",
     "exception": false,
     "start_time": "2025-08-19T19:11:18.114230",
     "status": "completed"
    },
    "tags": []
   },
   "outputs": [],
   "source": [
    "from fairness_multiverse.conformal import build_cp_groups\n",
    "\n",
    "cp_groups_df = build_cp_groups(pred_sets, y_true, X_test.index, org_test)"
   ]
  },
  {
   "cell_type": "code",
   "execution_count": 52,
   "id": "292ddabf",
   "metadata": {
    "execution": {
     "iopub.execute_input": "2025-08-19T19:11:18.473953Z",
     "iopub.status.busy": "2025-08-19T19:11:18.472608Z",
     "iopub.status.idle": "2025-08-19T19:11:19.342945Z",
     "shell.execute_reply": "2025-08-19T19:11:19.341743Z"
    },
    "papermill": {
     "duration": 0.88803,
     "end_time": "2025-08-19T19:11:19.345834",
     "exception": false,
     "start_time": "2025-08-19T19:11:18.457804",
     "status": "completed"
    },
    "tags": []
   },
   "outputs": [],
   "source": [
    "# Define covered = 1 if true_label is in the predicted set\n",
    "cp_groups_df['covered'] = cp_groups_df.apply(\n",
    "    lambda r: int(r['true_label'] in r['pred_set']),\n",
    "    axis=1\n",
    ")"
   ]
  },
  {
   "cell_type": "code",
   "execution_count": 53,
   "id": "3a261692",
   "metadata": {
    "execution": {
     "iopub.execute_input": "2025-08-19T19:11:19.391472Z",
     "iopub.status.busy": "2025-08-19T19:11:19.389999Z",
     "iopub.status.idle": "2025-08-19T19:11:19.413509Z",
     "shell.execute_reply": "2025-08-19T19:11:19.412544Z"
    },
    "papermill": {
     "duration": 0.041484,
     "end_time": "2025-08-19T19:11:19.415170",
     "exception": false,
     "start_time": "2025-08-19T19:11:19.373686",
     "status": "completed"
    },
    "tags": []
   },
   "outputs": [],
   "source": [
    "subgroups = ['frau1','nongerman','nongerman_male','nongerman_female']\n",
    "\n",
    "# Conditional coverage for subgroup==1\n",
    "cond_coverage = {\n",
    "    g: cp_groups_df.loc[cp_groups_df[g]==1, 'covered'].mean()\n",
    "    for g in subgroups\n",
    "}"
   ]
  },
  {
   "cell_type": "code",
   "execution_count": 54,
   "id": "894fd600",
   "metadata": {
    "execution": {
     "iopub.execute_input": "2025-08-19T19:11:19.452339Z",
     "iopub.status.busy": "2025-08-19T19:11:19.451364Z",
     "iopub.status.idle": "2025-08-19T19:11:19.462067Z",
     "shell.execute_reply": "2025-08-19T19:11:19.460840Z"
    },
    "papermill": {
     "duration": 0.026211,
     "end_time": "2025-08-19T19:11:19.463495",
     "exception": false,
     "start_time": "2025-08-19T19:11:19.437284",
     "status": "completed"
    },
    "tags": []
   },
   "outputs": [
    {
     "data": {
      "text/plain": [
       "{'frau1': 0.9079660331581075,\n",
       " 'nongerman': 0.9095604333913434,\n",
       " 'nongerman_male': 0.9266864811312258,\n",
       " 'nongerman_female': 0.8812220566318927}"
      ]
     },
     "execution_count": 54,
     "metadata": {},
     "output_type": "execute_result"
    }
   ],
   "source": [
    "cond_coverage"
   ]
  },
  {
   "cell_type": "code",
   "execution_count": 55,
   "id": "942895c7",
   "metadata": {
    "execution": {
     "iopub.execute_input": "2025-08-19T19:11:19.493584Z",
     "iopub.status.busy": "2025-08-19T19:11:19.492426Z",
     "iopub.status.idle": "2025-08-19T19:11:19.503103Z",
     "shell.execute_reply": "2025-08-19T19:11:19.502118Z"
    },
    "papermill": {
     "duration": 0.025764,
     "end_time": "2025-08-19T19:11:19.504521",
     "exception": false,
     "start_time": "2025-08-19T19:11:19.478757",
     "status": "completed"
    },
    "tags": []
   },
   "outputs": [],
   "source": [
    "for subgroup, cov in cond_coverage.items():\n",
    "    cp_metrics_df[f\"cov_{subgroup}\"] = cov"
   ]
  },
  {
   "cell_type": "code",
   "execution_count": 56,
   "id": "3970120f",
   "metadata": {
    "execution": {
     "iopub.execute_input": "2025-08-19T19:11:19.534621Z",
     "iopub.status.busy": "2025-08-19T19:11:19.533611Z",
     "iopub.status.idle": "2025-08-19T19:11:19.558046Z",
     "shell.execute_reply": "2025-08-19T19:11:19.557259Z"
    },
    "papermill": {
     "duration": 0.039852,
     "end_time": "2025-08-19T19:11:19.559669",
     "exception": false,
     "start_time": "2025-08-19T19:11:19.519817",
     "status": "completed"
    },
    "tags": []
   },
   "outputs": [
    {
     "data": {
      "text/html": [
       "<div>\n",
       "<style scoped>\n",
       "    .dataframe tbody tr th:only-of-type {\n",
       "        vertical-align: middle;\n",
       "    }\n",
       "\n",
       "    .dataframe tbody tr th {\n",
       "        vertical-align: top;\n",
       "    }\n",
       "\n",
       "    .dataframe thead th {\n",
       "        text-align: right;\n",
       "    }\n",
       "</style>\n",
       "<table border=\"1\" class=\"dataframe\">\n",
       "  <thead>\n",
       "    <tr style=\"text-align: right;\">\n",
       "      <th></th>\n",
       "      <th>universe_id</th>\n",
       "      <th>universe_training_year</th>\n",
       "      <th>universe_training_size</th>\n",
       "      <th>universe_scale</th>\n",
       "      <th>universe_model</th>\n",
       "      <th>universe_exclude_features</th>\n",
       "      <th>universe_exclude_subgroups</th>\n",
       "      <th>q_hat</th>\n",
       "      <th>coverage</th>\n",
       "      <th>avg_size</th>\n",
       "      <th>cov_frau1</th>\n",
       "      <th>cov_nongerman</th>\n",
       "      <th>cov_nongerman_male</th>\n",
       "      <th>cov_nongerman_female</th>\n",
       "    </tr>\n",
       "  </thead>\n",
       "  <tbody>\n",
       "    <tr>\n",
       "      <th>0</th>\n",
       "      <td>a0c4c21801cf2bc5133f631180775d4c</td>\n",
       "      <td>2010_14</td>\n",
       "      <td>1k</td>\n",
       "      <td>do-not-scale</td>\n",
       "      <td>gbm</td>\n",
       "      <td>nationality</td>\n",
       "      <td>keep-all</td>\n",
       "      <td>0.759337</td>\n",
       "      <td>0.909653</td>\n",
       "      <td>1.186501</td>\n",
       "      <td>0.907966</td>\n",
       "      <td>0.90956</td>\n",
       "      <td>0.926686</td>\n",
       "      <td>0.881222</td>\n",
       "    </tr>\n",
       "  </tbody>\n",
       "</table>\n",
       "</div>"
      ],
      "text/plain": [
       "                        universe_id universe_training_year  \\\n",
       "0  a0c4c21801cf2bc5133f631180775d4c                2010_14   \n",
       "\n",
       "  universe_training_size universe_scale universe_model  \\\n",
       "0                     1k   do-not-scale            gbm   \n",
       "\n",
       "  universe_exclude_features universe_exclude_subgroups     q_hat  coverage  \\\n",
       "0               nationality                   keep-all  0.759337  0.909653   \n",
       "\n",
       "   avg_size  cov_frau1  cov_nongerman  cov_nongerman_male  \\\n",
       "0  1.186501   0.907966        0.90956            0.926686   \n",
       "\n",
       "   cov_nongerman_female  \n",
       "0              0.881222  "
      ]
     },
     "execution_count": 56,
     "metadata": {},
     "output_type": "execute_result"
    }
   ],
   "source": [
    "cp_metrics_df"
   ]
  },
  {
   "cell_type": "markdown",
   "id": "3fc519cc",
   "metadata": {
    "papermill": {
     "duration": 0.012741,
     "end_time": "2025-08-19T19:11:19.593125",
     "exception": false,
     "start_time": "2025-08-19T19:11:19.580384",
     "status": "completed"
    },
    "tags": []
   },
   "source": [
    "# (Fairness) Metrics"
   ]
  },
  {
   "cell_type": "code",
   "execution_count": 57,
   "id": "a2e5e155",
   "metadata": {
    "execution": {
     "iopub.execute_input": "2025-08-19T19:11:19.640151Z",
     "iopub.status.busy": "2025-08-19T19:11:19.639674Z",
     "iopub.status.idle": "2025-08-19T19:11:19.671818Z",
     "shell.execute_reply": "2025-08-19T19:11:19.671061Z"
    },
    "papermill": {
     "duration": 0.071037,
     "end_time": "2025-08-19T19:11:19.684077",
     "exception": false,
     "start_time": "2025-08-19T19:11:19.613040",
     "status": "completed"
    },
    "tags": []
   },
   "outputs": [],
   "source": [
    "colname_to_bin = \"maxdeutsch1\"\n",
    "majority_value = org_train[colname_to_bin].mode()[0]\n",
    "\n",
    "org_test[\"majmin\"] = np.where(org_test[colname_to_bin] == majority_value, \"majority\", \"minority\")"
   ]
  },
  {
   "cell_type": "code",
   "execution_count": 58,
   "id": "17e3e4d5",
   "metadata": {
    "execution": {
     "iopub.execute_input": "2025-08-19T19:11:19.723383Z",
     "iopub.status.busy": "2025-08-19T19:11:19.722987Z",
     "iopub.status.idle": "2025-08-19T19:11:21.442077Z",
     "shell.execute_reply": "2025-08-19T19:11:21.440894Z"
    },
    "papermill": {
     "duration": 1.735284,
     "end_time": "2025-08-19T19:11:21.445008",
     "exception": false,
     "start_time": "2025-08-19T19:11:19.709724",
     "status": "completed"
    },
    "tags": []
   },
   "outputs": [],
   "source": [
    "example_universe = universe.copy()\n",
    "example_universe[\"cutoff\"] = example_universe[\"cutoff\"][0]\n",
    "example_universe[\"eval_fairness_grouping\"] = example_universe[\"eval_fairness_grouping\"][0]\n",
    "fairness_dict, metric_frame = universe_analysis.compute_metrics(\n",
    "    example_universe,\n",
    "    y_pred_prob=probs_test,\n",
    "    y_test=y_true,\n",
    "    org_test=org_test,\n",
    ")"
   ]
  },
  {
   "cell_type": "markdown",
   "id": "1fb7a0e9",
   "metadata": {
    "papermill": {
     "duration": 0.013694,
     "end_time": "2025-08-19T19:11:21.485464",
     "exception": false,
     "start_time": "2025-08-19T19:11:21.471770",
     "status": "completed"
    },
    "tags": []
   },
   "source": [
    "# Overall"
   ]
  },
  {
   "cell_type": "markdown",
   "id": "be1784b1",
   "metadata": {
    "papermill": {
     "duration": 0.012589,
     "end_time": "2025-08-19T19:11:21.510492",
     "exception": false,
     "start_time": "2025-08-19T19:11:21.497903",
     "status": "completed"
    },
    "tags": []
   },
   "source": [
    "Main fairness target: Equalized Odds. Seems to be a better fit than equal opportunity, since we're not only interested in Y = 1. Seems to be a better fit than demographic parity, since we also care about accuracy, not just equal distribution of preds.\n",
    "\n",
    "Pick column for computation of fairness metrics\n",
    "\n",
    "Performance\n",
    "Overall performance measures, most interesting in relation to the measures split by group below"
   ]
  },
  {
   "cell_type": "code",
   "execution_count": 59,
   "id": "b7672bee",
   "metadata": {
    "execution": {
     "iopub.execute_input": "2025-08-19T19:11:21.543553Z",
     "iopub.status.busy": "2025-08-19T19:11:21.542333Z",
     "iopub.status.idle": "2025-08-19T19:11:21.559440Z",
     "shell.execute_reply": "2025-08-19T19:11:21.558301Z"
    },
    "papermill": {
     "duration": 0.035172,
     "end_time": "2025-08-19T19:11:21.561194",
     "exception": false,
     "start_time": "2025-08-19T19:11:21.526022",
     "status": "completed"
    },
    "tags": []
   },
   "outputs": [
    {
     "data": {
      "text/plain": [
       "accuracy                   0.222484\n",
       "balanced accuracy          0.544399\n",
       "f1                         0.243867\n",
       "precision                  0.139313\n",
       "false positive rate        0.888609\n",
       "false negative rate        0.022593\n",
       "selection rate             0.900000\n",
       "count                  89710.000000\n",
       "dtype: float64"
      ]
     },
     "execution_count": 59,
     "metadata": {},
     "output_type": "execute_result"
    }
   ],
   "source": [
    "metric_frame.overall"
   ]
  },
  {
   "cell_type": "markdown",
   "id": "d93333c9",
   "metadata": {
    "papermill": {
     "duration": 0.012743,
     "end_time": "2025-08-19T19:11:21.591654",
     "exception": false,
     "start_time": "2025-08-19T19:11:21.578911",
     "status": "completed"
    },
    "tags": []
   },
   "source": [
    "By Group"
   ]
  },
  {
   "cell_type": "code",
   "execution_count": 60,
   "id": "52256966",
   "metadata": {
    "execution": {
     "iopub.execute_input": "2025-08-19T19:11:21.632818Z",
     "iopub.status.busy": "2025-08-19T19:11:21.619311Z",
     "iopub.status.idle": "2025-08-19T19:11:21.649912Z",
     "shell.execute_reply": "2025-08-19T19:11:21.649254Z"
    },
    "papermill": {
     "duration": 0.046751,
     "end_time": "2025-08-19T19:11:21.652046",
     "exception": false,
     "start_time": "2025-08-19T19:11:21.605295",
     "status": "completed"
    },
    "tags": []
   },
   "outputs": [
    {
     "data": {
      "text/html": [
       "<div>\n",
       "<style scoped>\n",
       "    .dataframe tbody tr th:only-of-type {\n",
       "        vertical-align: middle;\n",
       "    }\n",
       "\n",
       "    .dataframe tbody tr th {\n",
       "        vertical-align: top;\n",
       "    }\n",
       "\n",
       "    .dataframe thead th {\n",
       "        text-align: right;\n",
       "    }\n",
       "</style>\n",
       "<table border=\"1\" class=\"dataframe\">\n",
       "  <thead>\n",
       "    <tr style=\"text-align: right;\">\n",
       "      <th></th>\n",
       "      <th>accuracy</th>\n",
       "      <th>balanced accuracy</th>\n",
       "      <th>f1</th>\n",
       "      <th>precision</th>\n",
       "      <th>false positive rate</th>\n",
       "      <th>false negative rate</th>\n",
       "      <th>selection rate</th>\n",
       "      <th>count</th>\n",
       "    </tr>\n",
       "    <tr>\n",
       "      <th>majmin</th>\n",
       "      <th></th>\n",
       "      <th></th>\n",
       "      <th></th>\n",
       "      <th></th>\n",
       "      <th></th>\n",
       "      <th></th>\n",
       "      <th></th>\n",
       "      <th></th>\n",
       "    </tr>\n",
       "  </thead>\n",
       "  <tbody>\n",
       "    <tr>\n",
       "      <th>majority</th>\n",
       "      <td>0.237140</td>\n",
       "      <td>0.55057</td>\n",
       "      <td>0.252793</td>\n",
       "      <td>0.145188</td>\n",
       "      <td>0.875446</td>\n",
       "      <td>0.023414</td>\n",
       "      <td>0.888810</td>\n",
       "      <td>69170.0</td>\n",
       "    </tr>\n",
       "    <tr>\n",
       "      <th>minority</th>\n",
       "      <td>0.173126</td>\n",
       "      <td>0.52424</td>\n",
       "      <td>0.214722</td>\n",
       "      <td>0.120561</td>\n",
       "      <td>0.932093</td>\n",
       "      <td>0.019426</td>\n",
       "      <td>0.937683</td>\n",
       "      <td>20540.0</td>\n",
       "    </tr>\n",
       "  </tbody>\n",
       "</table>\n",
       "</div>"
      ],
      "text/plain": [
       "          accuracy  balanced accuracy        f1  precision  \\\n",
       "majmin                                                       \n",
       "majority  0.237140            0.55057  0.252793   0.145188   \n",
       "minority  0.173126            0.52424  0.214722   0.120561   \n",
       "\n",
       "          false positive rate  false negative rate  selection rate    count  \n",
       "majmin                                                                       \n",
       "majority             0.875446             0.023414        0.888810  69170.0  \n",
       "minority             0.932093             0.019426        0.937683  20540.0  "
      ]
     },
     "execution_count": 60,
     "metadata": {},
     "output_type": "execute_result"
    }
   ],
   "source": [
    "metric_frame.by_group"
   ]
  },
  {
   "cell_type": "code",
   "execution_count": 61,
   "id": "6e6c20ae",
   "metadata": {
    "execution": {
     "iopub.execute_input": "2025-08-19T19:11:21.690481Z",
     "iopub.status.busy": "2025-08-19T19:11:21.690078Z",
     "iopub.status.idle": "2025-08-19T19:11:23.620500Z",
     "shell.execute_reply": "2025-08-19T19:11:23.619590Z"
    },
    "papermill": {
     "duration": 1.947891,
     "end_time": "2025-08-19T19:11:23.623864",
     "exception": false,
     "start_time": "2025-08-19T19:11:21.675973",
     "status": "completed"
    },
    "tags": []
   },
   "outputs": [
    {
     "data": {
      "text/plain": [
       "array([[<Axes: title={'center': 'accuracy'}, xlabel='majmin'>,\n",
       "        <Axes: title={'center': 'balanced accuracy'}, xlabel='majmin'>,\n",
       "        <Axes: title={'center': 'f1'}, xlabel='majmin'>],\n",
       "       [<Axes: title={'center': 'precision'}, xlabel='majmin'>,\n",
       "        <Axes: title={'center': 'false positive rate'}, xlabel='majmin'>,\n",
       "        <Axes: title={'center': 'false negative rate'}, xlabel='majmin'>],\n",
       "       [<Axes: title={'center': 'selection rate'}, xlabel='majmin'>,\n",
       "        <Axes: title={'center': 'count'}, xlabel='majmin'>,\n",
       "        <Axes: xlabel='majmin'>]], dtype=object)"
      ]
     },
     "execution_count": 61,
     "metadata": {},
     "output_type": "execute_result"
    },
    {
     "data": {
      "image/png": "[encoded data removed]",
      "text/plain": [
       "<Figure size 1200x800 with 9 Axes>"
      ]
     },
     "metadata": {},
     "output_type": "display_data"
    }
   ],
   "source": [
    "# In a graphic\n",
    "metric_frame.by_group.plot.bar(\n",
    "    subplots=True,\n",
    "    layout=[3, 3],\n",
    "    legend=False,\n",
    "    figsize=[12, 8],\n",
    "    title=\"Show all metrics\",\n",
    ")"
   ]
  },
  {
   "cell_type": "markdown",
   "id": "b2e433ae",
   "metadata": {
    "papermill": {
     "duration": 0.01429,
     "end_time": "2025-08-19T19:11:23.662262",
     "exception": false,
     "start_time": "2025-08-19T19:11:23.647972",
     "status": "completed"
    },
    "tags": []
   },
   "source": [
    "# Final Output"
   ]
  },
  {
   "cell_type": "code",
   "execution_count": 62,
   "id": "3871301e",
   "metadata": {
    "execution": {
     "iopub.execute_input": "2025-08-19T19:11:23.695386Z",
     "iopub.status.busy": "2025-08-19T19:11:23.692941Z",
     "iopub.status.idle": "2025-08-19T19:11:23.713716Z",
     "shell.execute_reply": "2025-08-19T19:11:23.711441Z"
    },
    "papermill": {
     "duration": 0.052909,
     "end_time": "2025-08-19T19:11:23.729364",
     "exception": false,
     "start_time": "2025-08-19T19:11:23.676455",
     "status": "completed"
    },
    "tags": []
   },
   "outputs": [
    {
     "data": {
      "text/plain": [
       "4"
      ]
     },
     "execution_count": 62,
     "metadata": {},
     "output_type": "execute_result"
    }
   ],
   "source": [
    "sub_universes = universe_analysis.generate_sub_universes()\n",
    "len(sub_universes)"
   ]
  },
  {
   "cell_type": "code",
   "execution_count": 63,
   "id": "d9cfdaca",
   "metadata": {
    "execution": {
     "iopub.execute_input": "2025-08-19T19:11:23.760735Z",
     "iopub.status.busy": "2025-08-19T19:11:23.760139Z",
     "iopub.status.idle": "2025-08-19T19:11:23.765125Z",
     "shell.execute_reply": "2025-08-19T19:11:23.764413Z"
    },
    "papermill": {
     "duration": 0.021429,
     "end_time": "2025-08-19T19:11:23.766378",
     "exception": false,
     "start_time": "2025-08-19T19:11:23.744949",
     "status": "completed"
    },
    "tags": []
   },
   "outputs": [],
   "source": [
    "def filter_sub_universe_data(sub_universe, org_test):\n",
    "    # Keep all rows — no filtering\n",
    "    keep_rows_mask = np.ones(org_test.shape[0], dtype=bool)\n",
    "\n",
    "    print(f\"[INFO] Keeping all rows: {keep_rows_mask.sum()} rows retained.\")\n",
    "    return keep_rows_mask"
   ]
  },
  {
   "cell_type": "code",
   "execution_count": 64,
   "id": "2bc31ac1",
   "metadata": {
    "execution": {
     "iopub.execute_input": "2025-08-19T19:11:23.796749Z",
     "iopub.status.busy": "2025-08-19T19:11:23.796087Z",
     "iopub.status.idle": "2025-08-19T19:11:30.696098Z",
     "shell.execute_reply": "2025-08-19T19:11:30.695241Z"
    },
    "papermill": {
     "duration": 6.917049,
     "end_time": "2025-08-19T19:11:30.697622",
     "exception": false,
     "start_time": "2025-08-19T19:11:23.780573",
     "status": "completed"
    },
    "tags": []
   },
   "outputs": [
    {
     "name": "stdout",
     "output_type": "stream",
     "text": [
      "Stopping execution_time clock.\n",
      "[INFO] Keeping all rows: 89710 rows retained.\n"
     ]
    },
    {
     "name": "stdout",
     "output_type": "stream",
     "text": [
      "[INFO] Keeping all rows: 89710 rows retained.\n"
     ]
    },
    {
     "name": "stdout",
     "output_type": "stream",
     "text": [
      "[INFO] Keeping all rows: 89710 rows retained.\n"
     ]
    },
    {
     "name": "stdout",
     "output_type": "stream",
     "text": [
      "[INFO] Keeping all rows: 89710 rows retained.\n"
     ]
    },
    {
     "data": {
      "text/html": [
       "<div>\n",
       "<style scoped>\n",
       "    .dataframe tbody tr th:only-of-type {\n",
       "        vertical-align: middle;\n",
       "    }\n",
       "\n",
       "    .dataframe tbody tr th {\n",
       "        vertical-align: top;\n",
       "    }\n",
       "\n",
       "    .dataframe thead th {\n",
       "        text-align: right;\n",
       "    }\n",
       "</style>\n",
       "<table border=\"1\" class=\"dataframe\">\n",
       "  <thead>\n",
       "    <tr style=\"text-align: right;\">\n",
       "      <th></th>\n",
       "      <th>run_no</th>\n",
       "      <th>universe_id</th>\n",
       "      <th>universe_settings</th>\n",
       "      <th>execution_time</th>\n",
       "      <th>test_size_n</th>\n",
       "      <th>test_size_frac</th>\n",
       "      <th>fair_main_equalized_odds_difference</th>\n",
       "      <th>fair_main_equalized_odds_ratio</th>\n",
       "      <th>fair_main_demographic_parity_difference</th>\n",
       "      <th>fair_main_demographic_parity_ratio</th>\n",
       "      <th>...</th>\n",
       "      <th>perf_grp_precision_0</th>\n",
       "      <th>perf_grp_precision_1</th>\n",
       "      <th>perf_grp_false positive rate_0</th>\n",
       "      <th>perf_grp_false positive rate_1</th>\n",
       "      <th>perf_grp_false negative rate_0</th>\n",
       "      <th>perf_grp_false negative rate_1</th>\n",
       "      <th>perf_grp_selection rate_0</th>\n",
       "      <th>perf_grp_selection rate_1</th>\n",
       "      <th>perf_grp_count_0</th>\n",
       "      <th>perf_grp_count_1</th>\n",
       "    </tr>\n",
       "  </thead>\n",
       "  <tbody>\n",
       "    <tr>\n",
       "      <th>0</th>\n",
       "      <td>3</td>\n",
       "      <td>a0c4c21801cf2bc5133f631180775d4c</td>\n",
       "      <td>{\"cutoff\": \"quantile_0.1\", \"eval_fairness_grou...</td>\n",
       "      <td>24.168141</td>\n",
       "      <td>89710</td>\n",
       "      <td>1.0</td>\n",
       "      <td>0.056648</td>\n",
       "      <td>0.939225</td>\n",
       "      <td>0.048872</td>\n",
       "      <td>0.94788</td>\n",
       "      <td>...</td>\n",
       "      <td>NaN</td>\n",
       "      <td>NaN</td>\n",
       "      <td>NaN</td>\n",
       "      <td>NaN</td>\n",
       "      <td>NaN</td>\n",
       "      <td>NaN</td>\n",
       "      <td>NaN</td>\n",
       "      <td>NaN</td>\n",
       "      <td>NaN</td>\n",
       "      <td>NaN</td>\n",
       "    </tr>\n",
       "    <tr>\n",
       "      <th>0</th>\n",
       "      <td>3</td>\n",
       "      <td>a0c4c21801cf2bc5133f631180775d4c</td>\n",
       "      <td>{\"cutoff\": \"quantile_0.1\", \"eval_fairness_grou...</td>\n",
       "      <td>24.168141</td>\n",
       "      <td>89710</td>\n",
       "      <td>1.0</td>\n",
       "      <td>0.056648</td>\n",
       "      <td>0.939225</td>\n",
       "      <td>0.048872</td>\n",
       "      <td>0.94788</td>\n",
       "      <td>...</td>\n",
       "      <td>0.120561</td>\n",
       "      <td>0.145188</td>\n",
       "      <td>0.932093</td>\n",
       "      <td>0.875446</td>\n",
       "      <td>0.019426</td>\n",
       "      <td>0.023414</td>\n",
       "      <td>0.937683</td>\n",
       "      <td>0.888810</td>\n",
       "      <td>20540.0</td>\n",
       "      <td>69170.0</td>\n",
       "    </tr>\n",
       "    <tr>\n",
       "      <th>0</th>\n",
       "      <td>3</td>\n",
       "      <td>a0c4c21801cf2bc5133f631180775d4c</td>\n",
       "      <td>{\"cutoff\": \"quantile_0.25\", \"eval_fairness_gro...</td>\n",
       "      <td>24.168141</td>\n",
       "      <td>89710</td>\n",
       "      <td>1.0</td>\n",
       "      <td>0.137866</td>\n",
       "      <td>0.833877</td>\n",
       "      <td>0.120105</td>\n",
       "      <td>0.85746</td>\n",
       "      <td>...</td>\n",
       "      <td>NaN</td>\n",
       "      <td>NaN</td>\n",
       "      <td>NaN</td>\n",
       "      <td>NaN</td>\n",
       "      <td>NaN</td>\n",
       "      <td>NaN</td>\n",
       "      <td>NaN</td>\n",
       "      <td>NaN</td>\n",
       "      <td>NaN</td>\n",
       "      <td>NaN</td>\n",
       "    </tr>\n",
       "    <tr>\n",
       "      <th>0</th>\n",
       "      <td>3</td>\n",
       "      <td>a0c4c21801cf2bc5133f631180775d4c</td>\n",
       "      <td>{\"cutoff\": \"quantile_0.25\", \"eval_fairness_gro...</td>\n",
       "      <td>24.168141</td>\n",
       "      <td>89710</td>\n",
       "      <td>1.0</td>\n",
       "      <td>0.137866</td>\n",
       "      <td>0.833877</td>\n",
       "      <td>0.120105</td>\n",
       "      <td>0.85746</td>\n",
       "      <td>...</td>\n",
       "      <td>0.128618</td>\n",
       "      <td>0.168724</td>\n",
       "      <td>0.829903</td>\n",
       "      <td>0.692037</td>\n",
       "      <td>0.059966</td>\n",
       "      <td>0.077462</td>\n",
       "      <td>0.842600</td>\n",
       "      <td>0.722495</td>\n",
       "      <td>20540.0</td>\n",
       "      <td>69170.0</td>\n",
       "    </tr>\n",
       "  </tbody>\n",
       "</table>\n",
       "<p>4 rows × 50 columns</p>\n",
       "</div>"
      ],
      "text/plain": [
       "  run_no                       universe_id  \\\n",
       "0      3  a0c4c21801cf2bc5133f631180775d4c   \n",
       "0      3  a0c4c21801cf2bc5133f631180775d4c   \n",
       "0      3  a0c4c21801cf2bc5133f631180775d4c   \n",
       "0      3  a0c4c21801cf2bc5133f631180775d4c   \n",
       "\n",
       "                                   universe_settings  execution_time  \\\n",
       "0  {\"cutoff\": \"quantile_0.1\", \"eval_fairness_grou...       24.168141   \n",
       "0  {\"cutoff\": \"quantile_0.1\", \"eval_fairness_grou...       24.168141   \n",
       "0  {\"cutoff\": \"quantile_0.25\", \"eval_fairness_gro...       24.168141   \n",
       "0  {\"cutoff\": \"quantile_0.25\", \"eval_fairness_gro...       24.168141   \n",
       "\n",
       "   test_size_n  test_size_frac  fair_main_equalized_odds_difference  \\\n",
       "0        89710             1.0                             0.056648   \n",
       "0        89710             1.0                             0.056648   \n",
       "0        89710             1.0                             0.137866   \n",
       "0        89710             1.0                             0.137866   \n",
       "\n",
       "   fair_main_equalized_odds_ratio  fair_main_demographic_parity_difference  \\\n",
       "0                        0.939225                                 0.048872   \n",
       "0                        0.939225                                 0.048872   \n",
       "0                        0.833877                                 0.120105   \n",
       "0                        0.833877                                 0.120105   \n",
       "\n",
       "   fair_main_demographic_parity_ratio  ...  perf_grp_precision_0  \\\n",
       "0                             0.94788  ...                   NaN   \n",
       "0                             0.94788  ...              0.120561   \n",
       "0                             0.85746  ...                   NaN   \n",
       "0                             0.85746  ...              0.128618   \n",
       "\n",
       "   perf_grp_precision_1  perf_grp_false positive rate_0  \\\n",
       "0                   NaN                             NaN   \n",
       "0              0.145188                        0.932093   \n",
       "0                   NaN                             NaN   \n",
       "0              0.168724                        0.829903   \n",
       "\n",
       "   perf_grp_false positive rate_1  perf_grp_false negative rate_0  \\\n",
       "0                             NaN                             NaN   \n",
       "0                        0.875446                        0.019426   \n",
       "0                             NaN                             NaN   \n",
       "0                        0.692037                        0.059966   \n",
       "\n",
       "   perf_grp_false negative rate_1  perf_grp_selection rate_0  \\\n",
       "0                             NaN                        NaN   \n",
       "0                        0.023414                   0.937683   \n",
       "0                             NaN                        NaN   \n",
       "0                        0.077462                   0.842600   \n",
       "\n",
       "   perf_grp_selection rate_1  perf_grp_count_0  perf_grp_count_1  \n",
       "0                        NaN               NaN               NaN  \n",
       "0                   0.888810           20540.0           69170.0  \n",
       "0                        NaN               NaN               NaN  \n",
       "0                   0.722495           20540.0           69170.0  \n",
       "\n",
       "[4 rows x 50 columns]"
      ]
     },
     "execution_count": 64,
     "metadata": {},
     "output_type": "execute_result"
    }
   ],
   "source": [
    "final_output = universe_analysis.generate_final_output(\n",
    "    y_pred_prob=probs_test,\n",
    "    y_test=y_true,\n",
    "    org_test=org_test,\n",
    "    filter_data=filter_sub_universe_data,\n",
    "    cp_metrics_df=cp_metrics_df,\n",
    "    save=True,\n",
    ")\n",
    "final_output"
   ]
  },
  {
   "cell_type": "code",
   "execution_count": null,
   "id": "8b80a1ff",
   "metadata": {
    "papermill": {
     "duration": 0.014741,
     "end_time": "2025-08-19T19:11:30.731471",
     "exception": false,
     "start_time": "2025-08-19T19:11:30.716730",
     "status": "completed"
    },
    "tags": []
   },
   "outputs": [],
   "source": []
  },
  {
   "cell_type": "code",
   "execution_count": null,
   "id": "275c9fad",
   "metadata": {
    "papermill": {
     "duration": 0.014689,
     "end_time": "2025-08-19T19:11:30.761006",
     "exception": false,
     "start_time": "2025-08-19T19:11:30.746317",
     "status": "completed"
    },
    "tags": []
   },
   "outputs": [],
   "source": []
  }
 ],
 "metadata": {
  "celltoolbar": "Tags",
  "kernelspec": {
   "display_name": "Python (CMA Fairness)",
   "language": "python",
   "name": "cma_fair_env"
  },
  "language_info": {
   "codemirror_mode": {
    "name": "ipython",
    "version": 3
   },
   "file_extension": ".py",
   "mimetype": "text/x-python",
   "name": "python",
   "nbconvert_exporter": "python",
   "pygments_lexer": "ipython3",
   "version": "3.10.12"
  },
  "papermill": {
   "default_parameters": {},
   "duration": 34.840889,
   "end_time": "2025-08-19T19:11:31.603773",
   "environment_variables": {},
   "exception": null,
   "input_path": "universe_analysis.ipynb",
   "output_path": "output/runs/3/notebooks/m_3-a0c4c21801cf2bc5133f631180775d4c.ipynb",
   "parameters": {
    "output_dir": "output",
    "run_no": "3",
    "seed": "2023",
    "universe": "{\"cutoff\": [\"quantile_0.1\", \"quantile_0.25\"], \"eval_fairness_grouping\": [\"majority-minority\", \"nationality-all\"], \"exclude_features\": \"nationality\", \"exclude_subgroups\": \"keep-all\", \"model\": \"gbm\", \"scale\": \"do-not-scale\", \"training_size\": \"1k\", \"training_year\": \"2010_14\"}",
    "universe_id": "a0c4c21801cf2bc5133f631180775d4c"
   },
   "start_time": "2025-08-19T19:10:56.762884",
   "version": "2.6.0"
  }
 },
 "nbformat": 4,
 "nbformat_minor": 5
}