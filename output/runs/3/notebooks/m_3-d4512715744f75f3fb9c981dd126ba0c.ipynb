{
 "cells": [
  {
   "cell_type": "markdown",
   "id": "ef23dbb3",
   "metadata": {
    "papermill": {
     "duration": 0.009138,
     "end_time": "2025-08-19T18:35:34.908601",
     "exception": false,
     "start_time": "2025-08-19T18:35:34.899463",
     "status": "completed"
    },
    "tags": []
   },
   "source": [
    "# Setup"
   ]
  },
  {
   "cell_type": "code",
   "execution_count": 1,
   "id": "0bc8e7dc",
   "metadata": {
    "execution": {
     "iopub.execute_input": "2025-08-19T18:35:34.930461Z",
     "iopub.status.busy": "2025-08-19T18:35:34.928210Z",
     "iopub.status.idle": "2025-08-19T18:35:34.949894Z",
     "shell.execute_reply": "2025-08-19T18:35:34.948762Z"
    },
    "papermill": {
     "duration": 0.033708,
     "end_time": "2025-08-19T18:35:34.951024",
     "exception": false,
     "start_time": "2025-08-19T18:35:34.917316",
     "status": "completed"
    },
    "tags": []
   },
   "outputs": [
    {
     "name": "stdout",
     "output_type": "stream",
     "text": [
      "/dss/dsshome1/0C/ra93lal2/cma/CMA_Fairness_v2\n"
     ]
    },
    {
     "name": "stderr",
     "output_type": "stream",
     "text": [
      "/dss/dsshome1/0C/ra93lal2/.local/share/virtualenvs/CMA_Fairness_v2-3j10GkSs/lib/python3.10/site-packages/IPython/core/magics/osm.py:393: UserWarning: This is now an optional IPython functionality, using bookmarks requires you to install the `pickleshare` library.\n",
      "  bkms = self.shell.db.get('bookmarks', {})\n",
      "/dss/dsshome1/0C/ra93lal2/.local/share/virtualenvs/CMA_Fairness_v2-3j10GkSs/lib/python3.10/site-packages/IPython/core/magics/osm.py:417: UserWarning: This is now an optional IPython functionality, setting dhist requires you to install the `pickleshare` library.\n",
      "  self.shell.db['dhist'] = compress_dhist(dhist)[-100:]\n"
     ]
    }
   ],
   "source": [
    "%cd ~/cma/CMA_Fairness_v2"
   ]
  },
  {
   "cell_type": "markdown",
   "id": "9d235661",
   "metadata": {
    "papermill": {
     "duration": 0.008834,
     "end_time": "2025-08-19T18:35:34.968562",
     "exception": false,
     "start_time": "2025-08-19T18:35:34.959728",
     "status": "completed"
    },
    "tags": []
   },
   "source": [
    "The following cell holds the definition of our parameters, these values can be overriden by rendering the with e.g. the following command:\n",
    "\n",
    "papermill -p alpha 0.2 -p ratio 0.3 universe_analysis.ipynb output/test_run.ipynb"
   ]
  },
  {
   "cell_type": "code",
   "execution_count": 2,
   "id": "4a789d8e",
   "metadata": {
    "execution": {
     "iopub.execute_input": "2025-08-19T18:35:34.986904Z",
     "iopub.status.busy": "2025-08-19T18:35:34.986424Z",
     "iopub.status.idle": "2025-08-19T18:35:34.994854Z",
     "shell.execute_reply": "2025-08-19T18:35:34.993559Z"
    },
    "papermill": {
     "duration": 0.019228,
     "end_time": "2025-08-19T18:35:34.996232",
     "exception": false,
     "start_time": "2025-08-19T18:35:34.977004",
     "status": "completed"
    },
    "tags": []
   },
   "outputs": [
    {
     "name": "stdout",
     "output_type": "stream",
     "text": [
      "Current working directory: /dss/dsshome1/0C/ra93lal2/cma/CMA_Fairness_v2\n"
     ]
    }
   ],
   "source": [
    "import os\n",
    "print(\"Current working directory:\", os.getcwd())"
   ]
  },
  {
   "cell_type": "code",
   "execution_count": 3,
   "id": "4132aaed",
   "metadata": {
    "execution": {
     "iopub.execute_input": "2025-08-19T18:35:35.019821Z",
     "iopub.status.busy": "2025-08-19T18:35:35.019013Z",
     "iopub.status.idle": "2025-08-19T18:35:35.027834Z",
     "shell.execute_reply": "2025-08-19T18:35:35.026548Z"
    },
    "papermill": {
     "duration": 0.021933,
     "end_time": "2025-08-19T18:35:35.029782",
     "exception": false,
     "start_time": "2025-08-19T18:35:35.007849",
     "status": "completed"
    },
    "tags": [
     "parameters"
    ]
   },
   "outputs": [],
   "source": [
    "run_no = 0\n",
    "universe_id = \"test\"\n",
    "universe = {\n",
    "    \"training_size\": \"5k\", # \"25k\", \"5k\", \"1k\"\n",
    "    \"training_year\": \"2012_14\", # \"2014\", \"2012_14\", \"2010_14\"\n",
    "    \"scale\": \"scale\", # \"scale\", \"do-not-scale\",\n",
    "    \"model\": \"elasticnet\", # \"logreg\", \"penalized_logreg\", \"rf\", \"gbm\", \"elasticnet\"\n",
    "    \"cutoff\": [\"quantile_0.15\", \"quantile_0.30\"],\n",
    "    \"exclude_features\": \"age\", # \"none\", \"nationality\", \"sex\", \"nationality-sex\", \"age\"\n",
    "    \"exclude_subgroups\": \"drop-non-german\", # \"keep-all\", \"drop-non-german\"\n",
    "    \"eval_fairness_grouping\": [\"majority-minority\", \"nationality-all\"]\n",
    "}\n",
    "\n",
    "output_dir=\"./output\"\n",
    "seed=0"
   ]
  },
  {
   "cell_type": "code",
   "execution_count": 4,
   "id": "ade4a634",
   "metadata": {
    "execution": {
     "iopub.execute_input": "2025-08-19T18:35:35.059464Z",
     "iopub.status.busy": "2025-08-19T18:35:35.058959Z",
     "iopub.status.idle": "2025-08-19T18:35:35.064368Z",
     "shell.execute_reply": "2025-08-19T18:35:35.063331Z"
    },
    "papermill": {
     "duration": 0.024607,
     "end_time": "2025-08-19T18:35:35.065701",
     "exception": false,
     "start_time": "2025-08-19T18:35:35.041094",
     "status": "completed"
    },
    "tags": [
     "injected-parameters"
    ]
   },
   "outputs": [],
   "source": [
    "# Parameters\n",
    "universe_id = \"d4512715744f75f3fb9c981dd126ba0c\"\n",
    "run_no = \"3\"\n",
    "universe = \"{\\\"cutoff\\\": [\\\"quantile_0.1\\\", \\\"quantile_0.25\\\"], \\\"eval_fairness_grouping\\\": [\\\"majority-minority\\\", \\\"nationality-all\\\"], \\\"exclude_features\\\": \\\"age\\\", \\\"exclude_subgroups\\\": \\\"drop-non-german\\\", \\\"model\\\": \\\"logreg\\\", \\\"scale\\\": \\\"do-not-scale\\\", \\\"training_size\\\": \\\"5k\\\", \\\"training_year\\\": \\\"2012_14\\\"}\"\n",
    "output_dir = \"output\"\n",
    "seed = \"2023\"\n"
   ]
  },
  {
   "cell_type": "code",
   "execution_count": 5,
   "id": "a5d7941f",
   "metadata": {
    "execution": {
     "iopub.execute_input": "2025-08-19T18:35:35.086643Z",
     "iopub.status.busy": "2025-08-19T18:35:35.086248Z",
     "iopub.status.idle": "2025-08-19T18:35:35.097187Z",
     "shell.execute_reply": "2025-08-19T18:35:35.092436Z"
    },
    "papermill": {
     "duration": 0.024058,
     "end_time": "2025-08-19T18:35:35.100511",
     "exception": false,
     "start_time": "2025-08-19T18:35:35.076453",
     "status": "completed"
    },
    "tags": []
   },
   "outputs": [],
   "source": [
    "import json\n",
    "if isinstance(universe, str):\n",
    "    universe = json.loads(universe)"
   ]
  },
  {
   "cell_type": "code",
   "execution_count": 6,
   "id": "7076ccb1",
   "metadata": {
    "execution": {
     "iopub.execute_input": "2025-08-19T18:35:35.121720Z",
     "iopub.status.busy": "2025-08-19T18:35:35.121312Z",
     "iopub.status.idle": "2025-08-19T18:35:35.162040Z",
     "shell.execute_reply": "2025-08-19T18:35:35.160607Z"
    },
    "papermill": {
     "duration": 0.052552,
     "end_time": "2025-08-19T18:35:35.164130",
     "exception": false,
     "start_time": "2025-08-19T18:35:35.111578",
     "status": "completed"
    },
    "tags": []
   },
   "outputs": [],
   "source": [
    "# Auto-reload the custom package\n",
    "%load_ext autoreload\n",
    "%autoreload 1\n",
    "%aimport fairness_multiverse"
   ]
  },
  {
   "cell_type": "code",
   "execution_count": 7,
   "id": "94c8eb93",
   "metadata": {
    "execution": {
     "iopub.execute_input": "2025-08-19T18:35:35.186596Z",
     "iopub.status.busy": "2025-08-19T18:35:35.185852Z",
     "iopub.status.idle": "2025-08-19T18:35:36.895538Z",
     "shell.execute_reply": "2025-08-19T18:35:36.893855Z"
    },
    "papermill": {
     "duration": 1.721697,
     "end_time": "2025-08-19T18:35:36.897208",
     "exception": false,
     "start_time": "2025-08-19T18:35:35.175511",
     "status": "completed"
    },
    "tags": []
   },
   "outputs": [],
   "source": [
    "from fairness_multiverse.universe import UniverseAnalysis\n",
    "\n",
    "universe_analysis = UniverseAnalysis(\n",
    "    run_no = run_no,\n",
    "    universe_id = universe_id,\n",
    "    universe = universe,\n",
    "    output_dir=output_dir,\n",
    ")"
   ]
  },
  {
   "cell_type": "code",
   "execution_count": 8,
   "id": "2a6381cf",
   "metadata": {
    "execution": {
     "iopub.execute_input": "2025-08-19T18:35:36.927370Z",
     "iopub.status.busy": "2025-08-19T18:35:36.926142Z",
     "iopub.status.idle": "2025-08-19T18:35:36.946428Z",
     "shell.execute_reply": "2025-08-19T18:35:36.945524Z"
    },
    "papermill": {
     "duration": 0.041497,
     "end_time": "2025-08-19T18:35:36.948146",
     "exception": false,
     "start_time": "2025-08-19T18:35:36.906649",
     "status": "completed"
    },
    "tags": []
   },
   "outputs": [
    {
     "name": "stdout",
     "output_type": "stream",
     "text": [
      "Using Seed: 2023\n"
     ]
    }
   ],
   "source": [
    "import numpy as np\n",
    "parsed_seed = int(seed)\n",
    "np.random.seed(parsed_seed)\n",
    "print(f\"Using Seed: {parsed_seed}\")"
   ]
  },
  {
   "cell_type": "markdown",
   "id": "b6e958b4",
   "metadata": {
    "papermill": {
     "duration": 0.009518,
     "end_time": "2025-08-19T18:35:36.969262",
     "exception": false,
     "start_time": "2025-08-19T18:35:36.959744",
     "status": "completed"
    },
    "tags": []
   },
   "source": [
    "# Loading Data"
   ]
  },
  {
   "cell_type": "code",
   "execution_count": 9,
   "id": "98701482",
   "metadata": {
    "execution": {
     "iopub.execute_input": "2025-08-19T18:35:36.988976Z",
     "iopub.status.busy": "2025-08-19T18:35:36.988548Z",
     "iopub.status.idle": "2025-08-19T18:35:47.111304Z",
     "shell.execute_reply": "2025-08-19T18:35:47.110377Z"
    },
    "papermill": {
     "duration": 10.135993,
     "end_time": "2025-08-19T18:35:47.114372",
     "exception": false,
     "start_time": "2025-08-19T18:35:36.978379",
     "status": "completed"
    },
    "tags": []
   },
   "outputs": [
    {
     "name": "stdout",
     "output_type": "stream",
     "text": [
      "Loading SIAB data from cache: data/siab_cached.csv.gz\n"
     ]
    },
    {
     "name": "stdout",
     "output_type": "stream",
     "text": [
      "(643690, 164)\n"
     ]
    }
   ],
   "source": [
    "from pathlib import Path\n",
    "import pandas as pd\n",
    "\n",
    "# File paths\n",
    "raw_file = Path(\"data/raw/siab.csv\")\n",
    "cache_file = Path(\"data/siab_cached.csv.gz\")\n",
    "\n",
    "# Ensure cache directory exists\n",
    "cache_file.parent.mkdir(parents=True, exist_ok=True)\n",
    "\n",
    "# Load with simple caching\n",
    "if cache_file.exists():\n",
    "    print(f\"Loading SIAB data from cache: {cache_file}\")\n",
    "    siab = pd.read_csv(cache_file, compression='gzip')\n",
    "else:\n",
    "    print(f\"Cache not found. Reading raw SIAB data: {raw_file}\")\n",
    "    siab = pd.read_csv(raw_file)\n",
    "    siab.to_csv(cache_file, index=False, compression='gzip')\n",
    "    print(f\"Cached SIAB data to: {cache_file}\")\n",
    "\n",
    "print(siab.shape)"
   ]
  },
  {
   "cell_type": "code",
   "execution_count": 10,
   "id": "058d2abb",
   "metadata": {
    "execution": {
     "iopub.execute_input": "2025-08-19T18:35:47.162157Z",
     "iopub.status.busy": "2025-08-19T18:35:47.160641Z",
     "iopub.status.idle": "2025-08-19T18:35:47.385773Z",
     "shell.execute_reply": "2025-08-19T18:35:47.384943Z"
    },
    "papermill": {
     "duration": 0.25008,
     "end_time": "2025-08-19T18:35:47.387413",
     "exception": false,
     "start_time": "2025-08-19T18:35:47.137333",
     "status": "completed"
    },
    "tags": []
   },
   "outputs": [
    {
     "data": {
      "text/html": [
       "<div>\n",
       "<style scoped>\n",
       "    .dataframe tbody tr th:only-of-type {\n",
       "        vertical-align: middle;\n",
       "    }\n",
       "\n",
       "    .dataframe tbody tr th {\n",
       "        vertical-align: top;\n",
       "    }\n",
       "\n",
       "    .dataframe thead th {\n",
       "        text-align: right;\n",
       "    }\n",
       "</style>\n",
       "<table border=\"1\" class=\"dataframe\">\n",
       "  <thead>\n",
       "    <tr style=\"text-align: right;\">\n",
       "      <th></th>\n",
       "      <th>persnr</th>\n",
       "      <th>year</th>\n",
       "      <th>nrEntry</th>\n",
       "      <th>ltue</th>\n",
       "      <th>employed_before</th>\n",
       "      <th>receipt_leh_before</th>\n",
       "      <th>receipt_lhg_before</th>\n",
       "      <th>se_before</th>\n",
       "      <th>ASU_notue_seeking_before</th>\n",
       "      <th>ASU_other_before</th>\n",
       "      <th>...</th>\n",
       "      <th>minijob_tot_dur_byage</th>\n",
       "      <th>ft_tot_dur_byage</th>\n",
       "      <th>befrist_tot_dur_byage</th>\n",
       "      <th>leih_tot_dur_byage</th>\n",
       "      <th>LHG_tot_dur_byage</th>\n",
       "      <th>LEH_tot_dur_byage</th>\n",
       "      <th>almp_tot_dur_byage</th>\n",
       "      <th>almp_aw_tot_dur_byage</th>\n",
       "      <th>se_tot_dur_byage</th>\n",
       "      <th>seeking1_tot_dur_byage</th>\n",
       "    </tr>\n",
       "  </thead>\n",
       "  <tbody>\n",
       "    <tr>\n",
       "      <th>0</th>\n",
       "      <td>7</td>\n",
       "      <td>2015</td>\n",
       "      <td>1</td>\n",
       "      <td>0</td>\n",
       "      <td>1</td>\n",
       "      <td>0</td>\n",
       "      <td>0</td>\n",
       "      <td>0</td>\n",
       "      <td>1</td>\n",
       "      <td>0</td>\n",
       "      <td>...</td>\n",
       "      <td>0.000000</td>\n",
       "      <td>0.000000</td>\n",
       "      <td>15.043478</td>\n",
       "      <td>0.000000</td>\n",
       "      <td>0.000000</td>\n",
       "      <td>0.000000</td>\n",
       "      <td>0.000000</td>\n",
       "      <td>0.000000</td>\n",
       "      <td>0.000000</td>\n",
       "      <td>0.000000</td>\n",
       "    </tr>\n",
       "    <tr>\n",
       "      <th>1</th>\n",
       "      <td>18</td>\n",
       "      <td>2010</td>\n",
       "      <td>1</td>\n",
       "      <td>1</td>\n",
       "      <td>0</td>\n",
       "      <td>0</td>\n",
       "      <td>0</td>\n",
       "      <td>0</td>\n",
       "      <td>0</td>\n",
       "      <td>0</td>\n",
       "      <td>...</td>\n",
       "      <td>0.000000</td>\n",
       "      <td>0.000000</td>\n",
       "      <td>0.000000</td>\n",
       "      <td>0.000000</td>\n",
       "      <td>0.000000</td>\n",
       "      <td>0.000000</td>\n",
       "      <td>0.000000</td>\n",
       "      <td>0.000000</td>\n",
       "      <td>0.000000</td>\n",
       "      <td>0.000000</td>\n",
       "    </tr>\n",
       "    <tr>\n",
       "      <th>2</th>\n",
       "      <td>18</td>\n",
       "      <td>2011</td>\n",
       "      <td>2</td>\n",
       "      <td>0</td>\n",
       "      <td>1</td>\n",
       "      <td>0</td>\n",
       "      <td>1</td>\n",
       "      <td>0</td>\n",
       "      <td>1</td>\n",
       "      <td>0</td>\n",
       "      <td>...</td>\n",
       "      <td>2.714286</td>\n",
       "      <td>2.714286</td>\n",
       "      <td>0.000000</td>\n",
       "      <td>0.000000</td>\n",
       "      <td>10.775510</td>\n",
       "      <td>0.000000</td>\n",
       "      <td>8.367347</td>\n",
       "      <td>0.000000</td>\n",
       "      <td>0.000000</td>\n",
       "      <td>9.836735</td>\n",
       "    </tr>\n",
       "    <tr>\n",
       "      <th>3</th>\n",
       "      <td>18</td>\n",
       "      <td>2012</td>\n",
       "      <td>3</td>\n",
       "      <td>0</td>\n",
       "      <td>1</td>\n",
       "      <td>0</td>\n",
       "      <td>1</td>\n",
       "      <td>0</td>\n",
       "      <td>1</td>\n",
       "      <td>0</td>\n",
       "      <td>...</td>\n",
       "      <td>4.200000</td>\n",
       "      <td>4.200000</td>\n",
       "      <td>0.000000</td>\n",
       "      <td>0.000000</td>\n",
       "      <td>12.100000</td>\n",
       "      <td>0.000000</td>\n",
       "      <td>9.400000</td>\n",
       "      <td>0.000000</td>\n",
       "      <td>0.000000</td>\n",
       "      <td>9.960000</td>\n",
       "    </tr>\n",
       "    <tr>\n",
       "      <th>4</th>\n",
       "      <td>18</td>\n",
       "      <td>2012</td>\n",
       "      <td>4</td>\n",
       "      <td>0</td>\n",
       "      <td>1</td>\n",
       "      <td>0</td>\n",
       "      <td>1</td>\n",
       "      <td>0</td>\n",
       "      <td>1</td>\n",
       "      <td>0</td>\n",
       "      <td>...</td>\n",
       "      <td>5.460000</td>\n",
       "      <td>5.460000</td>\n",
       "      <td>0.000000</td>\n",
       "      <td>0.000000</td>\n",
       "      <td>13.360000</td>\n",
       "      <td>0.000000</td>\n",
       "      <td>10.320000</td>\n",
       "      <td>0.000000</td>\n",
       "      <td>0.000000</td>\n",
       "      <td>10.280000</td>\n",
       "    </tr>\n",
       "    <tr>\n",
       "      <th>...</th>\n",
       "      <td>...</td>\n",
       "      <td>...</td>\n",
       "      <td>...</td>\n",
       "      <td>...</td>\n",
       "      <td>...</td>\n",
       "      <td>...</td>\n",
       "      <td>...</td>\n",
       "      <td>...</td>\n",
       "      <td>...</td>\n",
       "      <td>...</td>\n",
       "      <td>...</td>\n",
       "      <td>...</td>\n",
       "      <td>...</td>\n",
       "      <td>...</td>\n",
       "      <td>...</td>\n",
       "      <td>...</td>\n",
       "      <td>...</td>\n",
       "      <td>...</td>\n",
       "      <td>...</td>\n",
       "      <td>...</td>\n",
       "      <td>...</td>\n",
       "    </tr>\n",
       "    <tr>\n",
       "      <th>643685</th>\n",
       "      <td>1827860</td>\n",
       "      <td>2013</td>\n",
       "      <td>1</td>\n",
       "      <td>0</td>\n",
       "      <td>0</td>\n",
       "      <td>0</td>\n",
       "      <td>1</td>\n",
       "      <td>0</td>\n",
       "      <td>0</td>\n",
       "      <td>1</td>\n",
       "      <td>...</td>\n",
       "      <td>0.000000</td>\n",
       "      <td>0.000000</td>\n",
       "      <td>0.000000</td>\n",
       "      <td>0.000000</td>\n",
       "      <td>0.612903</td>\n",
       "      <td>0.000000</td>\n",
       "      <td>0.000000</td>\n",
       "      <td>0.000000</td>\n",
       "      <td>0.000000</td>\n",
       "      <td>0.000000</td>\n",
       "    </tr>\n",
       "    <tr>\n",
       "      <th>643686</th>\n",
       "      <td>1827860</td>\n",
       "      <td>2015</td>\n",
       "      <td>2</td>\n",
       "      <td>1</td>\n",
       "      <td>0</td>\n",
       "      <td>0</td>\n",
       "      <td>1</td>\n",
       "      <td>0</td>\n",
       "      <td>1</td>\n",
       "      <td>0</td>\n",
       "      <td>...</td>\n",
       "      <td>0.000000</td>\n",
       "      <td>0.000000</td>\n",
       "      <td>0.212121</td>\n",
       "      <td>0.212121</td>\n",
       "      <td>17.363636</td>\n",
       "      <td>0.000000</td>\n",
       "      <td>8.909091</td>\n",
       "      <td>0.000000</td>\n",
       "      <td>0.000000</td>\n",
       "      <td>7.121212</td>\n",
       "    </tr>\n",
       "    <tr>\n",
       "      <th>643687</th>\n",
       "      <td>1827860</td>\n",
       "      <td>2016</td>\n",
       "      <td>3</td>\n",
       "      <td>1</td>\n",
       "      <td>0</td>\n",
       "      <td>0</td>\n",
       "      <td>1</td>\n",
       "      <td>1</td>\n",
       "      <td>0</td>\n",
       "      <td>1</td>\n",
       "      <td>...</td>\n",
       "      <td>0.000000</td>\n",
       "      <td>0.000000</td>\n",
       "      <td>0.294118</td>\n",
       "      <td>0.205882</td>\n",
       "      <td>34.705882</td>\n",
       "      <td>0.000000</td>\n",
       "      <td>10.352941</td>\n",
       "      <td>1.705882</td>\n",
       "      <td>1.705882</td>\n",
       "      <td>23.911765</td>\n",
       "    </tr>\n",
       "    <tr>\n",
       "      <th>643688</th>\n",
       "      <td>1827869</td>\n",
       "      <td>2013</td>\n",
       "      <td>1</td>\n",
       "      <td>1</td>\n",
       "      <td>1</td>\n",
       "      <td>0</td>\n",
       "      <td>0</td>\n",
       "      <td>0</td>\n",
       "      <td>1</td>\n",
       "      <td>0</td>\n",
       "      <td>...</td>\n",
       "      <td>0.000000</td>\n",
       "      <td>0.000000</td>\n",
       "      <td>0.000000</td>\n",
       "      <td>0.000000</td>\n",
       "      <td>0.000000</td>\n",
       "      <td>0.525424</td>\n",
       "      <td>0.000000</td>\n",
       "      <td>0.000000</td>\n",
       "      <td>0.000000</td>\n",
       "      <td>0.000000</td>\n",
       "    </tr>\n",
       "    <tr>\n",
       "      <th>643689</th>\n",
       "      <td>1827869</td>\n",
       "      <td>2014</td>\n",
       "      <td>2</td>\n",
       "      <td>0</td>\n",
       "      <td>0</td>\n",
       "      <td>1</td>\n",
       "      <td>0</td>\n",
       "      <td>0</td>\n",
       "      <td>1</td>\n",
       "      <td>0</td>\n",
       "      <td>...</td>\n",
       "      <td>0.000000</td>\n",
       "      <td>0.666667</td>\n",
       "      <td>0.666667</td>\n",
       "      <td>0.000000</td>\n",
       "      <td>0.000000</td>\n",
       "      <td>8.950000</td>\n",
       "      <td>1.033333</td>\n",
       "      <td>0.083333</td>\n",
       "      <td>0.083333</td>\n",
       "      <td>8.133333</td>\n",
       "    </tr>\n",
       "  </tbody>\n",
       "</table>\n",
       "<p>643690 rows × 164 columns</p>\n",
       "</div>"
      ],
      "text/plain": [
       "         persnr  year  nrEntry  ltue  employed_before  receipt_leh_before  \\\n",
       "0             7  2015        1     0                1                   0   \n",
       "1            18  2010        1     1                0                   0   \n",
       "2            18  2011        2     0                1                   0   \n",
       "3            18  2012        3     0                1                   0   \n",
       "4            18  2012        4     0                1                   0   \n",
       "...         ...   ...      ...   ...              ...                 ...   \n",
       "643685  1827860  2013        1     0                0                   0   \n",
       "643686  1827860  2015        2     1                0                   0   \n",
       "643687  1827860  2016        3     1                0                   0   \n",
       "643688  1827869  2013        1     1                1                   0   \n",
       "643689  1827869  2014        2     0                0                   1   \n",
       "\n",
       "        receipt_lhg_before  se_before  ASU_notue_seeking_before  \\\n",
       "0                        0          0                         1   \n",
       "1                        0          0                         0   \n",
       "2                        1          0                         1   \n",
       "3                        1          0                         1   \n",
       "4                        1          0                         1   \n",
       "...                    ...        ...                       ...   \n",
       "643685                   1          0                         0   \n",
       "643686                   1          0                         1   \n",
       "643687                   1          1                         0   \n",
       "643688                   0          0                         1   \n",
       "643689                   0          0                         1   \n",
       "\n",
       "        ASU_other_before  ...  minijob_tot_dur_byage  ft_tot_dur_byage  \\\n",
       "0                      0  ...               0.000000          0.000000   \n",
       "1                      0  ...               0.000000          0.000000   \n",
       "2                      0  ...               2.714286          2.714286   \n",
       "3                      0  ...               4.200000          4.200000   \n",
       "4                      0  ...               5.460000          5.460000   \n",
       "...                  ...  ...                    ...               ...   \n",
       "643685                 1  ...               0.000000          0.000000   \n",
       "643686                 0  ...               0.000000          0.000000   \n",
       "643687                 1  ...               0.000000          0.000000   \n",
       "643688                 0  ...               0.000000          0.000000   \n",
       "643689                 0  ...               0.000000          0.666667   \n",
       "\n",
       "        befrist_tot_dur_byage  leih_tot_dur_byage  LHG_tot_dur_byage  \\\n",
       "0                   15.043478            0.000000           0.000000   \n",
       "1                    0.000000            0.000000           0.000000   \n",
       "2                    0.000000            0.000000          10.775510   \n",
       "3                    0.000000            0.000000          12.100000   \n",
       "4                    0.000000            0.000000          13.360000   \n",
       "...                       ...                 ...                ...   \n",
       "643685               0.000000            0.000000           0.612903   \n",
       "643686               0.212121            0.212121          17.363636   \n",
       "643687               0.294118            0.205882          34.705882   \n",
       "643688               0.000000            0.000000           0.000000   \n",
       "643689               0.666667            0.000000           0.000000   \n",
       "\n",
       "        LEH_tot_dur_byage  almp_tot_dur_byage  almp_aw_tot_dur_byage  \\\n",
       "0                0.000000            0.000000               0.000000   \n",
       "1                0.000000            0.000000               0.000000   \n",
       "2                0.000000            8.367347               0.000000   \n",
       "3                0.000000            9.400000               0.000000   \n",
       "4                0.000000           10.320000               0.000000   \n",
       "...                   ...                 ...                    ...   \n",
       "643685           0.000000            0.000000               0.000000   \n",
       "643686           0.000000            8.909091               0.000000   \n",
       "643687           0.000000           10.352941               1.705882   \n",
       "643688           0.525424            0.000000               0.000000   \n",
       "643689           8.950000            1.033333               0.083333   \n",
       "\n",
       "        se_tot_dur_byage  seeking1_tot_dur_byage  \n",
       "0               0.000000                0.000000  \n",
       "1               0.000000                0.000000  \n",
       "2               0.000000                9.836735  \n",
       "3               0.000000                9.960000  \n",
       "4               0.000000               10.280000  \n",
       "...                  ...                     ...  \n",
       "643685          0.000000                0.000000  \n",
       "643686          0.000000                7.121212  \n",
       "643687          1.705882               23.911765  \n",
       "643688          0.000000                0.000000  \n",
       "643689          0.083333                8.133333  \n",
       "\n",
       "[643690 rows x 164 columns]"
      ]
     },
     "execution_count": 10,
     "metadata": {},
     "output_type": "execute_result"
    }
   ],
   "source": [
    "siab"
   ]
  },
  {
   "cell_type": "markdown",
   "id": "1f87e805",
   "metadata": {
    "papermill": {
     "duration": 0.010131,
     "end_time": "2025-08-19T18:35:47.413742",
     "exception": false,
     "start_time": "2025-08-19T18:35:47.403611",
     "status": "completed"
    },
    "tags": []
   },
   "source": [
    "# Splitting Data and Setting Training Data Size"
   ]
  },
  {
   "cell_type": "code",
   "execution_count": 11,
   "id": "910ae358",
   "metadata": {
    "execution": {
     "iopub.execute_input": "2025-08-19T18:35:47.448123Z",
     "iopub.status.busy": "2025-08-19T18:35:47.447231Z",
     "iopub.status.idle": "2025-08-19T18:35:48.190710Z",
     "shell.execute_reply": "2025-08-19T18:35:48.189942Z"
    },
    "papermill": {
     "duration": 0.76885,
     "end_time": "2025-08-19T18:35:48.192597",
     "exception": false,
     "start_time": "2025-08-19T18:35:47.423747",
     "status": "completed"
    },
    "tags": []
   },
   "outputs": [],
   "source": [
    "from fairness_multiverse.universe import sample_by_year_size\n",
    "\n",
    "siab_train = sample_by_year_size(siab,\n",
    "                               training_year=universe[\"training_year\"],\n",
    "                               training_size=universe[\"training_size\"])"
   ]
  },
  {
   "cell_type": "code",
   "execution_count": 12,
   "id": "919c8ff5",
   "metadata": {
    "execution": {
     "iopub.execute_input": "2025-08-19T18:35:48.233480Z",
     "iopub.status.busy": "2025-08-19T18:35:48.233089Z",
     "iopub.status.idle": "2025-08-19T18:35:48.240965Z",
     "shell.execute_reply": "2025-08-19T18:35:48.239969Z"
    },
    "papermill": {
     "duration": 0.036984,
     "end_time": "2025-08-19T18:35:48.242454",
     "exception": false,
     "start_time": "2025-08-19T18:35:48.205470",
     "status": "completed"
    },
    "tags": []
   },
   "outputs": [
    {
     "data": {
      "text/plain": [
       "(5000, 164)"
      ]
     },
     "execution_count": 12,
     "metadata": {},
     "output_type": "execute_result"
    }
   ],
   "source": [
    "siab_train.shape"
   ]
  },
  {
   "cell_type": "code",
   "execution_count": 13,
   "id": "feb13bf4",
   "metadata": {
    "execution": {
     "iopub.execute_input": "2025-08-19T18:35:48.264989Z",
     "iopub.status.busy": "2025-08-19T18:35:48.264373Z",
     "iopub.status.idle": "2025-08-19T18:35:48.274406Z",
     "shell.execute_reply": "2025-08-19T18:35:48.273432Z"
    },
    "papermill": {
     "duration": 0.034317,
     "end_time": "2025-08-19T18:35:48.287975",
     "exception": false,
     "start_time": "2025-08-19T18:35:48.253658",
     "status": "completed"
    },
    "tags": []
   },
   "outputs": [
    {
     "data": {
      "text/plain": [
       "year\n",
       "2012    1667\n",
       "2013    1667\n",
       "2014    1666\n",
       "dtype: int64"
      ]
     },
     "metadata": {},
     "output_type": "display_data"
    }
   ],
   "source": [
    "display(siab_train.groupby(\"year\").size())"
   ]
  },
  {
   "cell_type": "code",
   "execution_count": 14,
   "id": "0997782f",
   "metadata": {
    "execution": {
     "iopub.execute_input": "2025-08-19T18:35:48.309808Z",
     "iopub.status.busy": "2025-08-19T18:35:48.309531Z",
     "iopub.status.idle": "2025-08-19T18:35:48.824986Z",
     "shell.execute_reply": "2025-08-19T18:35:48.823484Z"
    },
    "papermill": {
     "duration": 0.52797,
     "end_time": "2025-08-19T18:35:48.826589",
     "exception": false,
     "start_time": "2025-08-19T18:35:48.298619",
     "status": "completed"
    },
    "tags": []
   },
   "outputs": [],
   "source": [
    "#siab_train = siab_s[siab_s.year < 2015]\n",
    "siab_calib = siab[siab.year == 2015]\n",
    "siab_test = siab[siab.year == 2016]"
   ]
  },
  {
   "cell_type": "code",
   "execution_count": 15,
   "id": "2c1e4012",
   "metadata": {
    "execution": {
     "iopub.execute_input": "2025-08-19T18:35:48.853788Z",
     "iopub.status.busy": "2025-08-19T18:35:48.851520Z",
     "iopub.status.idle": "2025-08-19T18:35:48.863769Z",
     "shell.execute_reply": "2025-08-19T18:35:48.862660Z"
    },
    "papermill": {
     "duration": 0.026208,
     "end_time": "2025-08-19T18:35:48.865538",
     "exception": false,
     "start_time": "2025-08-19T18:35:48.839330",
     "status": "completed"
    },
    "tags": []
   },
   "outputs": [],
   "source": [
    "#siab_calib.shape"
   ]
  },
  {
   "cell_type": "code",
   "execution_count": 16,
   "id": "f66b54ca",
   "metadata": {
    "execution": {
     "iopub.execute_input": "2025-08-19T18:35:48.891934Z",
     "iopub.status.busy": "2025-08-19T18:35:48.891576Z",
     "iopub.status.idle": "2025-08-19T18:35:48.895853Z",
     "shell.execute_reply": "2025-08-19T18:35:48.894971Z"
    },
    "papermill": {
     "duration": 0.016967,
     "end_time": "2025-08-19T18:35:48.897076",
     "exception": false,
     "start_time": "2025-08-19T18:35:48.880109",
     "status": "completed"
    },
    "tags": []
   },
   "outputs": [],
   "source": [
    "#siab_test.shape"
   ]
  },
  {
   "cell_type": "code",
   "execution_count": 17,
   "id": "27e4384d",
   "metadata": {
    "execution": {
     "iopub.execute_input": "2025-08-19T18:35:48.920407Z",
     "iopub.status.busy": "2025-08-19T18:35:48.919841Z",
     "iopub.status.idle": "2025-08-19T18:35:48.938417Z",
     "shell.execute_reply": "2025-08-19T18:35:48.937729Z"
    },
    "papermill": {
     "duration": 0.030944,
     "end_time": "2025-08-19T18:35:48.939907",
     "exception": false,
     "start_time": "2025-08-19T18:35:48.908963",
     "status": "completed"
    },
    "tags": []
   },
   "outputs": [],
   "source": [
    "X_train = siab_train.iloc[:,4:164]\n",
    "y_train = siab_train.iloc[:, [3]]"
   ]
  },
  {
   "cell_type": "code",
   "execution_count": 18,
   "id": "08ee8389",
   "metadata": {
    "execution": {
     "iopub.execute_input": "2025-08-19T18:35:48.972516Z",
     "iopub.status.busy": "2025-08-19T18:35:48.972163Z",
     "iopub.status.idle": "2025-08-19T18:35:49.089239Z",
     "shell.execute_reply": "2025-08-19T18:35:49.088438Z"
    },
    "papermill": {
     "duration": 0.134446,
     "end_time": "2025-08-19T18:35:49.090690",
     "exception": false,
     "start_time": "2025-08-19T18:35:48.956244",
     "status": "completed"
    },
    "tags": []
   },
   "outputs": [],
   "source": [
    "X_calib = siab_calib.iloc[:,4:164]\n",
    "y_calib = siab_calib.iloc[:, [3]]"
   ]
  },
  {
   "cell_type": "code",
   "execution_count": 19,
   "id": "b7ff42e0",
   "metadata": {
    "execution": {
     "iopub.execute_input": "2025-08-19T18:35:49.113082Z",
     "iopub.status.busy": "2025-08-19T18:35:49.112182Z",
     "iopub.status.idle": "2025-08-19T18:35:49.181406Z",
     "shell.execute_reply": "2025-08-19T18:35:49.179701Z"
    },
    "papermill": {
     "duration": 0.081631,
     "end_time": "2025-08-19T18:35:49.182795",
     "exception": false,
     "start_time": "2025-08-19T18:35:49.101164",
     "status": "completed"
    },
    "tags": []
   },
   "outputs": [],
   "source": [
    "X_test = siab_test.iloc[:,4:164]\n",
    "y_true = siab_test.iloc[:, [3]]"
   ]
  },
  {
   "cell_type": "code",
   "execution_count": 20,
   "id": "0275101e",
   "metadata": {
    "execution": {
     "iopub.execute_input": "2025-08-19T18:35:49.207819Z",
     "iopub.status.busy": "2025-08-19T18:35:49.206620Z",
     "iopub.status.idle": "2025-08-19T18:35:49.375923Z",
     "shell.execute_reply": "2025-08-19T18:35:49.375101Z"
    },
    "papermill": {
     "duration": 0.183452,
     "end_time": "2025-08-19T18:35:49.377662",
     "exception": false,
     "start_time": "2025-08-19T18:35:49.194210",
     "status": "completed"
    },
    "tags": []
   },
   "outputs": [],
   "source": [
    "# Auxiliary data needed downstream in the pipeline\n",
    "\n",
    "org_train = X_train.copy()\n",
    "org_test = X_test.copy()\n",
    "org_calib = X_calib.copy()"
   ]
  },
  {
   "cell_type": "markdown",
   "id": "b461e618",
   "metadata": {
    "papermill": {
     "duration": 0.011723,
     "end_time": "2025-08-19T18:35:49.404914",
     "exception": false,
     "start_time": "2025-08-19T18:35:49.393191",
     "status": "completed"
    },
    "tags": []
   },
   "source": [
    "# Preprocessing Data"
   ]
  },
  {
   "cell_type": "code",
   "execution_count": 21,
   "id": "78e74c4b",
   "metadata": {
    "execution": {
     "iopub.execute_input": "2025-08-19T18:35:49.428070Z",
     "iopub.status.busy": "2025-08-19T18:35:49.427630Z",
     "iopub.status.idle": "2025-08-19T18:35:49.432784Z",
     "shell.execute_reply": "2025-08-19T18:35:49.432081Z"
    },
    "papermill": {
     "duration": 0.018776,
     "end_time": "2025-08-19T18:35:49.434212",
     "exception": false,
     "start_time": "2025-08-19T18:35:49.415436",
     "status": "completed"
    },
    "tags": []
   },
   "outputs": [],
   "source": [
    "# EXCLUDE PROTECTED FEATURES\n",
    "# --------------------------\n",
    "\n",
    "excluded_features = universe[\"exclude_features\"].split(\"-\")\n",
    "excluded_features_dictionary = {\n",
    "    \"nationality\": [\"maxdeutsch1\", \"maxdeutsch.Missing.\"],\n",
    "    \"sex\": [\"frau1\"],\n",
    "    \"age\": [\"age\"],\n",
    "}"
   ]
  },
  {
   "cell_type": "code",
   "execution_count": 22,
   "id": "f8e63555",
   "metadata": {
    "execution": {
     "iopub.execute_input": "2025-08-19T18:35:49.456847Z",
     "iopub.status.busy": "2025-08-19T18:35:49.456435Z",
     "iopub.status.idle": "2025-08-19T18:35:49.461828Z",
     "shell.execute_reply": "2025-08-19T18:35:49.461015Z"
    },
    "papermill": {
     "duration": 0.018085,
     "end_time": "2025-08-19T18:35:49.463150",
     "exception": false,
     "start_time": "2025-08-19T18:35:49.445065",
     "status": "completed"
    },
    "tags": []
   },
   "outputs": [],
   "source": [
    "excluded_features_columns = [\n",
    "    excluded_features_dictionary[f] for f in excluded_features if len(f) > 0 and f != \"none\"\n",
    "]"
   ]
  },
  {
   "cell_type": "code",
   "execution_count": 23,
   "id": "da781f7c",
   "metadata": {
    "execution": {
     "iopub.execute_input": "2025-08-19T18:35:49.485011Z",
     "iopub.status.busy": "2025-08-19T18:35:49.484660Z",
     "iopub.status.idle": "2025-08-19T18:35:49.489051Z",
     "shell.execute_reply": "2025-08-19T18:35:49.488282Z"
    },
    "papermill": {
     "duration": 0.016622,
     "end_time": "2025-08-19T18:35:49.490332",
     "exception": false,
     "start_time": "2025-08-19T18:35:49.473710",
     "status": "completed"
    },
    "tags": []
   },
   "outputs": [],
   "source": [
    "from fairness_multiverse.universe import flatten_once\n",
    "\n",
    "excluded_features_columns = flatten_once(excluded_features_columns)"
   ]
  },
  {
   "cell_type": "code",
   "execution_count": 24,
   "id": "37fef0f0",
   "metadata": {
    "execution": {
     "iopub.execute_input": "2025-08-19T18:35:49.512599Z",
     "iopub.status.busy": "2025-08-19T18:35:49.512142Z",
     "iopub.status.idle": "2025-08-19T18:35:49.525852Z",
     "shell.execute_reply": "2025-08-19T18:35:49.525087Z"
    },
    "papermill": {
     "duration": 0.026918,
     "end_time": "2025-08-19T18:35:49.527529",
     "exception": false,
     "start_time": "2025-08-19T18:35:49.500611",
     "status": "completed"
    },
    "tags": []
   },
   "outputs": [
    {
     "name": "stdout",
     "output_type": "stream",
     "text": [
      "Dropping features: ['age']\n"
     ]
    }
   ],
   "source": [
    "if len(excluded_features_columns) > 0:\n",
    "    print(f\"Dropping features: {excluded_features_columns}\")\n",
    "    X_train.drop(excluded_features_columns, axis=1, inplace=True)"
   ]
  },
  {
   "cell_type": "code",
   "execution_count": 25,
   "id": "d029e3e9",
   "metadata": {
    "execution": {
     "iopub.execute_input": "2025-08-19T18:35:49.552330Z",
     "iopub.status.busy": "2025-08-19T18:35:49.551914Z",
     "iopub.status.idle": "2025-08-19T18:35:49.630791Z",
     "shell.execute_reply": "2025-08-19T18:35:49.630023Z"
    },
    "papermill": {
     "duration": 0.093131,
     "end_time": "2025-08-19T18:35:49.633355",
     "exception": false,
     "start_time": "2025-08-19T18:35:49.540224",
     "status": "completed"
    },
    "tags": []
   },
   "outputs": [
    {
     "name": "stdout",
     "output_type": "stream",
     "text": [
      "Dropping features: ['age']\n"
     ]
    }
   ],
   "source": [
    "if len(excluded_features_columns) > 0:\n",
    "    print(f\"Dropping features: {excluded_features_columns}\")\n",
    "    X_test.drop(excluded_features_columns, axis=1, inplace=True)"
   ]
  },
  {
   "cell_type": "code",
   "execution_count": 26,
   "id": "01d571f0",
   "metadata": {
    "execution": {
     "iopub.execute_input": "2025-08-19T18:35:49.657828Z",
     "iopub.status.busy": "2025-08-19T18:35:49.657437Z",
     "iopub.status.idle": "2025-08-19T18:35:49.705905Z",
     "shell.execute_reply": "2025-08-19T18:35:49.705303Z"
    },
    "papermill": {
     "duration": 0.064333,
     "end_time": "2025-08-19T18:35:49.710163",
     "exception": false,
     "start_time": "2025-08-19T18:35:49.645830",
     "status": "completed"
    },
    "tags": []
   },
   "outputs": [
    {
     "name": "stdout",
     "output_type": "stream",
     "text": [
      "Dropping features: ['age']\n"
     ]
    }
   ],
   "source": [
    "if len(excluded_features_columns) > 0:\n",
    "    print(f\"Dropping features: {excluded_features_columns}\")\n",
    "    X_calib.drop(excluded_features_columns, axis=1, inplace=True)"
   ]
  },
  {
   "cell_type": "code",
   "execution_count": 27,
   "id": "3037356e",
   "metadata": {
    "execution": {
     "iopub.execute_input": "2025-08-19T18:35:49.747850Z",
     "iopub.status.busy": "2025-08-19T18:35:49.746569Z",
     "iopub.status.idle": "2025-08-19T18:35:49.754904Z",
     "shell.execute_reply": "2025-08-19T18:35:49.753075Z"
    },
    "papermill": {
     "duration": 0.02329,
     "end_time": "2025-08-19T18:35:49.756439",
     "exception": false,
     "start_time": "2025-08-19T18:35:49.733149",
     "status": "completed"
    },
    "tags": []
   },
   "outputs": [],
   "source": [
    "# EXCLUDE CERTAIN SUBGROUPS\n",
    "# -------------------------\n",
    "\n",
    "mode = universe.get(\"exclude_subgroups\", \"keep-all\") # Defaults to \"keep-all\" if the key is missing."
   ]
  },
  {
   "cell_type": "code",
   "execution_count": 28,
   "id": "9d1e63fd",
   "metadata": {
    "execution": {
     "iopub.execute_input": "2025-08-19T18:35:49.783498Z",
     "iopub.status.busy": "2025-08-19T18:35:49.782068Z",
     "iopub.status.idle": "2025-08-19T18:35:49.793851Z",
     "shell.execute_reply": "2025-08-19T18:35:49.792572Z"
    },
    "papermill": {
     "duration": 0.047339,
     "end_time": "2025-08-19T18:35:49.816462",
     "exception": false,
     "start_time": "2025-08-19T18:35:49.769123",
     "status": "completed"
    },
    "tags": []
   },
   "outputs": [],
   "source": [
    "if mode == \"keep-all\":\n",
    "    keep_mask = pd.Series(True, index=org_train.index)\n",
    "\n",
    "elif mode == \"drop-non-german\":\n",
    "    keep_mask = (org_train[\"maxdeutsch1\"] == 1) & (org_train[\"maxdeutsch.Missing.\"] == 0)\n",
    "\n",
    "else:\n",
    "    raise ValueError(f\"Unsupported mode for exclude_subgroups: {mode}\")"
   ]
  },
  {
   "cell_type": "code",
   "execution_count": 29,
   "id": "d3b65474",
   "metadata": {
    "execution": {
     "iopub.execute_input": "2025-08-19T18:35:49.839263Z",
     "iopub.status.busy": "2025-08-19T18:35:49.838591Z",
     "iopub.status.idle": "2025-08-19T18:35:49.845132Z",
     "shell.execute_reply": "2025-08-19T18:35:49.844351Z"
    },
    "papermill": {
     "duration": 0.019303,
     "end_time": "2025-08-19T18:35:49.846288",
     "exception": false,
     "start_time": "2025-08-19T18:35:49.826985",
     "status": "completed"
    },
    "tags": []
   },
   "outputs": [
    {
     "name": "stdout",
     "output_type": "stream",
     "text": [
      "Dropping 665 rows (13.30%) where mode='drop-non-german'\n"
     ]
    }
   ],
   "source": [
    "n_drop = (~keep_mask).sum() # Calculates how many rows are set to be dropped\n",
    "if n_drop > 0:\n",
    "    pct = n_drop / len(keep_mask) * 100\n",
    "    print(f\"Dropping {n_drop} rows ({pct:.2f}%) where mode='{mode}'\")"
   ]
  },
  {
   "cell_type": "code",
   "execution_count": 30,
   "id": "f44389b3",
   "metadata": {
    "execution": {
     "iopub.execute_input": "2025-08-19T18:35:49.869826Z",
     "iopub.status.busy": "2025-08-19T18:35:49.869308Z",
     "iopub.status.idle": "2025-08-19T18:35:49.883989Z",
     "shell.execute_reply": "2025-08-19T18:35:49.883076Z"
    },
    "papermill": {
     "duration": 0.029621,
     "end_time": "2025-08-19T18:35:49.886476",
     "exception": false,
     "start_time": "2025-08-19T18:35:49.856855",
     "status": "completed"
    },
    "tags": []
   },
   "outputs": [],
   "source": [
    "X_train = X_train[keep_mask]"
   ]
  },
  {
   "cell_type": "code",
   "execution_count": 31,
   "id": "ceca8c2a",
   "metadata": {
    "execution": {
     "iopub.execute_input": "2025-08-19T18:35:49.938376Z",
     "iopub.status.busy": "2025-08-19T18:35:49.937337Z",
     "iopub.status.idle": "2025-08-19T18:35:49.945665Z",
     "shell.execute_reply": "2025-08-19T18:35:49.944317Z"
    },
    "papermill": {
     "duration": 0.032058,
     "end_time": "2025-08-19T18:35:49.947313",
     "exception": false,
     "start_time": "2025-08-19T18:35:49.915255",
     "status": "completed"
    },
    "tags": []
   },
   "outputs": [],
   "source": [
    "y_train = y_train[keep_mask]"
   ]
  },
  {
   "cell_type": "markdown",
   "id": "04d31e2f",
   "metadata": {
    "papermill": {
     "duration": 0.010791,
     "end_time": "2025-08-19T18:35:49.970588",
     "exception": false,
     "start_time": "2025-08-19T18:35:49.959797",
     "status": "completed"
    },
    "tags": []
   },
   "source": [
    "# Model Training"
   ]
  },
  {
   "cell_type": "code",
   "execution_count": 32,
   "id": "db991733",
   "metadata": {
    "execution": {
     "iopub.execute_input": "2025-08-19T18:35:49.993528Z",
     "iopub.status.busy": "2025-08-19T18:35:49.992738Z",
     "iopub.status.idle": "2025-08-19T18:35:50.153588Z",
     "shell.execute_reply": "2025-08-19T18:35:50.152721Z"
    },
    "papermill": {
     "duration": 0.174245,
     "end_time": "2025-08-19T18:35:50.155332",
     "exception": false,
     "start_time": "2025-08-19T18:35:49.981087",
     "status": "completed"
    },
    "tags": []
   },
   "outputs": [],
   "source": [
    "from sklearn.linear_model import LogisticRegression\n",
    "from sklearn.ensemble import GradientBoostingClassifier, RandomForestClassifier\n",
    "\n",
    "if (universe[\"model\"] == \"logreg\"):\n",
    "    model = LogisticRegression() #penalty=\"none\", solver=\"newton-cg\", max_iter=1)\n",
    "elif (universe[\"model\"] == \"penalized_logreg\"):\n",
    "    model = LogisticRegression(penalty=\"l2\", C=0.1) #, solver=\"newton-cg\", max_iter=1)\n",
    "elif (universe[\"model\"] == \"rf\"):\n",
    "    model = RandomForestClassifier() # n_estimators=100, n_jobs=-1\n",
    "elif (universe[\"model\"] == \"gbm\"):\n",
    "    model = GradientBoostingClassifier()\n",
    "elif (universe[\"model\"] == \"elasticnet\"):\n",
    "    model = LogisticRegression(penalty = 'elasticnet', solver = 'saga', l1_ratio = 0.5) # max_iter=5000\n",
    "else:\n",
    "    raise \"Unsupported universe.model\""
   ]
  },
  {
   "cell_type": "code",
   "execution_count": 33,
   "id": "a4b5cd25",
   "metadata": {
    "execution": {
     "iopub.execute_input": "2025-08-19T18:35:50.198711Z",
     "iopub.status.busy": "2025-08-19T18:35:50.198334Z",
     "iopub.status.idle": "2025-08-19T18:35:50.202997Z",
     "shell.execute_reply": "2025-08-19T18:35:50.202375Z"
    },
    "papermill": {
     "duration": 0.027338,
     "end_time": "2025-08-19T18:35:50.204443",
     "exception": false,
     "start_time": "2025-08-19T18:35:50.177105",
     "status": "completed"
    },
    "tags": []
   },
   "outputs": [],
   "source": [
    "from sklearn.pipeline import Pipeline\n",
    "from sklearn.preprocessing import StandardScaler\n",
    "\n",
    "model = Pipeline([\n",
    "    #(\"continuous_processor\", continuous_processor),\n",
    "    #(\"categorical_preprocessor\", categorical_preprocessor),\n",
    "    (\"scale\", StandardScaler() if universe[\"scale\"] == \"scale\" else None), \n",
    "    (\"model\", model),\n",
    "])"
   ]
  },
  {
   "cell_type": "code",
   "execution_count": 34,
   "id": "283a904d",
   "metadata": {
    "execution": {
     "iopub.execute_input": "2025-08-19T18:35:50.231316Z",
     "iopub.status.busy": "2025-08-19T18:35:50.231072Z",
     "iopub.status.idle": "2025-08-19T18:35:50.365480Z",
     "shell.execute_reply": "2025-08-19T18:35:50.364790Z"
    },
    "papermill": {
     "duration": 0.14752,
     "end_time": "2025-08-19T18:35:50.366646",
     "exception": false,
     "start_time": "2025-08-19T18:35:50.219126",
     "status": "completed"
    },
    "tags": []
   },
   "outputs": [
    {
     "name": "stderr",
     "output_type": "stream",
     "text": [
      "/dss/dsshome1/0C/ra93lal2/.local/share/virtualenvs/CMA_Fairness_v2-3j10GkSs/lib/python3.10/site-packages/sklearn/linear_model/_logistic.py:444: ConvergenceWarning: lbfgs failed to converge (status=1):\n",
      "STOP: TOTAL NO. of ITERATIONS REACHED LIMIT.\n",
      "\n",
      "Increase the number of iterations (max_iter) or scale the data as shown in:\n",
      "    https://scikit-learn.org/stable/modules/preprocessing.html\n",
      "Please also refer to the documentation for alternative solver options:\n",
      "    https://scikit-learn.org/stable/modules/linear_model.html#logistic-regression\n",
      "  n_iter_i = _check_optimize_result(\n"
     ]
    },
    {
     "data": {
      "text/html": [
       "<style>#sk-container-id-1 {color: black;background-color: white;}#sk-container-id-1 pre{padding: 0;}#sk-container-id-1 div.sk-toggleable {background-color: white;}#sk-container-id-1 label.sk-toggleable__label {cursor: pointer;display: block;width: 100%;margin-bottom: 0;padding: 0.3em;box-sizing: border-box;text-align: center;}#sk-container-id-1 label.sk-toggleable__label-arrow:before {content: \"▸\";float: left;margin-right: 0.25em;color: #696969;}#sk-container-id-1 label.sk-toggleable__label-arrow:hover:before {color: black;}#sk-container-id-1 div.sk-estimator:hover label.sk-toggleable__label-arrow:before {color: black;}#sk-container-id-1 div.sk-toggleable__content {max-height: 0;max-width: 0;overflow: hidden;text-align: left;background-color: #f0f8ff;}#sk-container-id-1 div.sk-toggleable__content pre {margin: 0.2em;color: black;border-radius: 0.25em;background-color: #f0f8ff;}#sk-container-id-1 input.sk-toggleable__control:checked~div.sk-toggleable__content {max-height: 200px;max-width: 100%;overflow: auto;}#sk-container-id-1 input.sk-toggleable__control:checked~label.sk-toggleable__label-arrow:before {content: \"▾\";}#sk-container-id-1 div.sk-estimator input.sk-toggleable__control:checked~label.sk-toggleable__label {background-color: #d4ebff;}#sk-container-id-1 div.sk-label input.sk-toggleable__control:checked~label.sk-toggleable__label {background-color: #d4ebff;}#sk-container-id-1 input.sk-hidden--visually {border: 0;clip: rect(1px 1px 1px 1px);clip: rect(1px, 1px, 1px, 1px);height: 1px;margin: -1px;overflow: hidden;padding: 0;position: absolute;width: 1px;}#sk-container-id-1 div.sk-estimator {font-family: monospace;background-color: #f0f8ff;border: 1px dotted black;border-radius: 0.25em;box-sizing: border-box;margin-bottom: 0.5em;}#sk-container-id-1 div.sk-estimator:hover {background-color: #d4ebff;}#sk-container-id-1 div.sk-parallel-item::after {content: \"\";width: 100%;border-bottom: 1px solid gray;flex-grow: 1;}#sk-container-id-1 div.sk-label:hover label.sk-toggleable__label {background-color: #d4ebff;}#sk-container-id-1 div.sk-serial::before {content: \"\";position: absolute;border-left: 1px solid gray;box-sizing: border-box;top: 0;bottom: 0;left: 50%;z-index: 0;}#sk-container-id-1 div.sk-serial {display: flex;flex-direction: column;align-items: center;background-color: white;padding-right: 0.2em;padding-left: 0.2em;position: relative;}#sk-container-id-1 div.sk-item {position: relative;z-index: 1;}#sk-container-id-1 div.sk-parallel {display: flex;align-items: stretch;justify-content: center;background-color: white;position: relative;}#sk-container-id-1 div.sk-item::before, #sk-container-id-1 div.sk-parallel-item::before {content: \"\";position: absolute;border-left: 1px solid gray;box-sizing: border-box;top: 0;bottom: 0;left: 50%;z-index: -1;}#sk-container-id-1 div.sk-parallel-item {display: flex;flex-direction: column;z-index: 1;position: relative;background-color: white;}#sk-container-id-1 div.sk-parallel-item:first-child::after {align-self: flex-end;width: 50%;}#sk-container-id-1 div.sk-parallel-item:last-child::after {align-self: flex-start;width: 50%;}#sk-container-id-1 div.sk-parallel-item:only-child::after {width: 0;}#sk-container-id-1 div.sk-dashed-wrapped {border: 1px dashed gray;margin: 0 0.4em 0.5em 0.4em;box-sizing: border-box;padding-bottom: 0.4em;background-color: white;}#sk-container-id-1 div.sk-label label {font-family: monospace;font-weight: bold;display: inline-block;line-height: 1.2em;}#sk-container-id-1 div.sk-label-container {text-align: center;}#sk-container-id-1 div.sk-container {/* jupyter's `normalize.less` sets `[hidden] { display: none; }` but bootstrap.min.css set `[hidden] { display: none !important; }` so we also need the `!important` here to be able to override the default hidden behavior on the sphinx rendered scikit-learn.org. See: https://github.com/scikit-learn/scikit-learn/issues/21755 */display: inline-block !important;position: relative;}#sk-container-id-1 div.sk-text-repr-fallback {display: none;}</style><div id=\"sk-container-id-1\" class=\"sk-top-container\"><div class=\"sk-text-repr-fallback\"><pre>Pipeline(steps=[(&#x27;scale&#x27;, None), (&#x27;model&#x27;, LogisticRegression())])</pre><b>In a Jupyter environment, please rerun this cell to show the HTML representation or trust the notebook. <br />On GitHub, the HTML representation is unable to render, please try loading this page with nbviewer.org.</b></div><div class=\"sk-container\" hidden><div class=\"sk-item sk-dashed-wrapped\"><div class=\"sk-label-container\"><div class=\"sk-label sk-toggleable\"><input class=\"sk-toggleable__control sk-hidden--visually\" id=\"sk-estimator-id-1\" type=\"checkbox\" ><label for=\"sk-estimator-id-1\" class=\"sk-toggleable__label sk-toggleable__label-arrow\">Pipeline</label><div class=\"sk-toggleable__content\"><pre>Pipeline(steps=[(&#x27;scale&#x27;, None), (&#x27;model&#x27;, LogisticRegression())])</pre></div></div></div><div class=\"sk-serial\"><div class=\"sk-item\"><div class=\"sk-estimator sk-toggleable\"><input class=\"sk-toggleable__control sk-hidden--visually\" id=\"sk-estimator-id-2\" type=\"checkbox\" ><label for=\"sk-estimator-id-2\" class=\"sk-toggleable__label sk-toggleable__label-arrow\">None</label><div class=\"sk-toggleable__content\"><pre>None</pre></div></div></div><div class=\"sk-item\"><div class=\"sk-estimator sk-toggleable\"><input class=\"sk-toggleable__control sk-hidden--visually\" id=\"sk-estimator-id-3\" type=\"checkbox\" ><label for=\"sk-estimator-id-3\" class=\"sk-toggleable__label sk-toggleable__label-arrow\">LogisticRegression</label><div class=\"sk-toggleable__content\"><pre>LogisticRegression()</pre></div></div></div></div></div></div></div>"
      ],
      "text/plain": [
       "Pipeline(steps=[('scale', None), ('model', LogisticRegression())])"
      ]
     },
     "execution_count": 34,
     "metadata": {},
     "output_type": "execute_result"
    }
   ],
   "source": [
    "model.fit(X_train, y_train.values.ravel())"
   ]
  },
  {
   "cell_type": "code",
   "execution_count": 35,
   "id": "6e15e313",
   "metadata": {
    "execution": {
     "iopub.execute_input": "2025-08-19T18:35:50.390736Z",
     "iopub.status.busy": "2025-08-19T18:35:50.390190Z",
     "iopub.status.idle": "2025-08-19T18:35:50.495607Z",
     "shell.execute_reply": "2025-08-19T18:35:50.494975Z"
    },
    "papermill": {
     "duration": 0.120195,
     "end_time": "2025-08-19T18:35:50.498303",
     "exception": false,
     "start_time": "2025-08-19T18:35:50.378108",
     "status": "completed"
    },
    "tags": []
   },
   "outputs": [
    {
     "data": {
      "text/plain": [
       "0.8575409653327388"
      ]
     },
     "execution_count": 35,
     "metadata": {},
     "output_type": "execute_result"
    }
   ],
   "source": [
    "from fairness_multiverse.universe import predict_w_threshold\n",
    "\n",
    "probs_test = model.predict_proba(X_test)\n",
    "\n",
    "'''\n",
    "Below code returns a boolean array (or binary 0/1 array depending on how it’s used) where each element \n",
    "is True if the probability of class 1 is greater than or equal to the threshold, and False otherwise.\n",
    "'''\n",
    "y_pred_default = predict_w_threshold(probs_test, 0.5)\n",
    "\n",
    "from sklearn.metrics import accuracy_score\n",
    "\n",
    "# Naive prediction\n",
    "accuracy_score(y_true = y_true, y_pred = y_pred_default)"
   ]
  },
  {
   "cell_type": "code",
   "execution_count": 36,
   "id": "6f14067c",
   "metadata": {
    "execution": {
     "iopub.execute_input": "2025-08-19T18:35:50.547554Z",
     "iopub.status.busy": "2025-08-19T18:35:50.546428Z",
     "iopub.status.idle": "2025-08-19T18:35:50.686157Z",
     "shell.execute_reply": "2025-08-19T18:35:50.685102Z"
    },
    "papermill": {
     "duration": 0.153842,
     "end_time": "2025-08-19T18:35:50.687526",
     "exception": false,
     "start_time": "2025-08-19T18:35:50.533684",
     "status": "completed"
    },
    "tags": []
   },
   "outputs": [
    {
     "data": {
      "text/plain": [
       "array([0, 0, 0, ..., 0, 0, 0])"
      ]
     },
     "execution_count": 36,
     "metadata": {},
     "output_type": "execute_result"
    }
   ],
   "source": [
    "model.predict(X_test)"
   ]
  },
  {
   "cell_type": "markdown",
   "id": "3759920c",
   "metadata": {
    "papermill": {
     "duration": 0.011087,
     "end_time": "2025-08-19T18:35:50.710421",
     "exception": false,
     "start_time": "2025-08-19T18:35:50.699334",
     "status": "completed"
    },
    "tags": []
   },
   "source": [
    "# Conformal Prediction"
   ]
  },
  {
   "cell_type": "code",
   "execution_count": 37,
   "id": "14b27f59",
   "metadata": {
    "execution": {
     "iopub.execute_input": "2025-08-19T18:35:50.734408Z",
     "iopub.status.busy": "2025-08-19T18:35:50.734093Z",
     "iopub.status.idle": "2025-08-19T18:35:50.739785Z",
     "shell.execute_reply": "2025-08-19T18:35:50.738467Z"
    },
    "papermill": {
     "duration": 0.019908,
     "end_time": "2025-08-19T18:35:50.741398",
     "exception": false,
     "start_time": "2025-08-19T18:35:50.721490",
     "status": "completed"
    },
    "tags": []
   },
   "outputs": [],
   "source": [
    "# Miscoverage level for conformal prediction (10% allowed error rate => 90% target coverage)\n",
    "alpha = 0.1"
   ]
  },
  {
   "cell_type": "code",
   "execution_count": 38,
   "id": "59102472",
   "metadata": {
    "execution": {
     "iopub.execute_input": "2025-08-19T18:35:50.778937Z",
     "iopub.status.busy": "2025-08-19T18:35:50.777925Z",
     "iopub.status.idle": "2025-08-19T18:35:50.877204Z",
     "shell.execute_reply": "2025-08-19T18:35:50.875818Z"
    },
    "papermill": {
     "duration": 0.115495,
     "end_time": "2025-08-19T18:35:50.878800",
     "exception": false,
     "start_time": "2025-08-19T18:35:50.763305",
     "status": "completed"
    },
    "tags": []
   },
   "outputs": [],
   "source": [
    "probs_calib = model.predict_proba(X_calib)"
   ]
  },
  {
   "cell_type": "code",
   "execution_count": 39,
   "id": "a792d4dd",
   "metadata": {
    "execution": {
     "iopub.execute_input": "2025-08-19T18:35:50.904225Z",
     "iopub.status.busy": "2025-08-19T18:35:50.903355Z",
     "iopub.status.idle": "2025-08-19T18:35:50.936292Z",
     "shell.execute_reply": "2025-08-19T18:35:50.934911Z"
    },
    "papermill": {
     "duration": 0.048733,
     "end_time": "2025-08-19T18:35:50.939283",
     "exception": false,
     "start_time": "2025-08-19T18:35:50.890550",
     "status": "completed"
    },
    "tags": []
   },
   "outputs": [],
   "source": [
    "y_calib = y_calib.values.ravel().astype(int)"
   ]
  },
  {
   "cell_type": "code",
   "execution_count": 40,
   "id": "650fd033",
   "metadata": {
    "execution": {
     "iopub.execute_input": "2025-08-19T18:35:50.981657Z",
     "iopub.status.busy": "2025-08-19T18:35:50.980465Z",
     "iopub.status.idle": "2025-08-19T18:35:50.996254Z",
     "shell.execute_reply": "2025-08-19T18:35:50.994572Z"
    },
    "papermill": {
     "duration": 0.032596,
     "end_time": "2025-08-19T18:35:50.998183",
     "exception": false,
     "start_time": "2025-08-19T18:35:50.965587",
     "status": "completed"
    },
    "tags": []
   },
   "outputs": [],
   "source": [
    "from fairness_multiverse.conformal import compute_nc_scores\n",
    "\n",
    "# Compute nonconformity scores on calibration set (1 - probability of true class)\n",
    "nc_scores = compute_nc_scores(probs_calib, y_calib)"
   ]
  },
  {
   "cell_type": "code",
   "execution_count": 41,
   "id": "28ada44c",
   "metadata": {
    "execution": {
     "iopub.execute_input": "2025-08-19T18:35:51.028636Z",
     "iopub.status.busy": "2025-08-19T18:35:51.027501Z",
     "iopub.status.idle": "2025-08-19T18:35:51.038192Z",
     "shell.execute_reply": "2025-08-19T18:35:51.036825Z"
    },
    "papermill": {
     "duration": 0.02551,
     "end_time": "2025-08-19T18:35:51.039933",
     "exception": false,
     "start_time": "2025-08-19T18:35:51.014423",
     "status": "completed"
    },
    "tags": []
   },
   "outputs": [],
   "source": [
    "from fairness_multiverse.conformal import find_threshold\n",
    "\n",
    "# Find conformal threshold q_hat for the given alpha (split conformal method)\n",
    "q_hat = find_threshold(nc_scores, alpha)"
   ]
  },
  {
   "cell_type": "code",
   "execution_count": 42,
   "id": "df56469e",
   "metadata": {
    "execution": {
     "iopub.execute_input": "2025-08-19T18:35:51.070814Z",
     "iopub.status.busy": "2025-08-19T18:35:51.069607Z",
     "iopub.status.idle": "2025-08-19T18:35:51.080080Z",
     "shell.execute_reply": "2025-08-19T18:35:51.078542Z"
    },
    "papermill": {
     "duration": 0.025539,
     "end_time": "2025-08-19T18:35:51.081651",
     "exception": false,
     "start_time": "2025-08-19T18:35:51.056112",
     "status": "completed"
    },
    "tags": []
   },
   "outputs": [
    {
     "data": {
      "text/plain": [
       "0.6562317464858116"
      ]
     },
     "execution_count": 42,
     "metadata": {},
     "output_type": "execute_result"
    }
   ],
   "source": [
    "q_hat"
   ]
  },
  {
   "cell_type": "code",
   "execution_count": 43,
   "id": "aa1f5faa",
   "metadata": {
    "execution": {
     "iopub.execute_input": "2025-08-19T18:35:51.112504Z",
     "iopub.status.busy": "2025-08-19T18:35:51.111269Z",
     "iopub.status.idle": "2025-08-19T18:35:51.681900Z",
     "shell.execute_reply": "2025-08-19T18:35:51.680807Z"
    },
    "papermill": {
     "duration": 0.587443,
     "end_time": "2025-08-19T18:35:51.683578",
     "exception": false,
     "start_time": "2025-08-19T18:35:51.096135",
     "status": "completed"
    },
    "tags": []
   },
   "outputs": [],
   "source": [
    "from fairness_multiverse.conformal import predict_conformal_sets\n",
    "\n",
    "# Generate prediction sets for each test example\n",
    "pred_sets = predict_conformal_sets(model, X_test, q_hat)"
   ]
  },
  {
   "cell_type": "code",
   "execution_count": 44,
   "id": "97f67a6b",
   "metadata": {
    "execution": {
     "iopub.execute_input": "2025-08-19T18:35:51.721759Z",
     "iopub.status.busy": "2025-08-19T18:35:51.721281Z",
     "iopub.status.idle": "2025-08-19T18:35:51.726526Z",
     "shell.execute_reply": "2025-08-19T18:35:51.725797Z"
    },
    "papermill": {
     "duration": 0.026661,
     "end_time": "2025-08-19T18:35:51.727862",
     "exception": false,
     "start_time": "2025-08-19T18:35:51.701201",
     "status": "completed"
    },
    "tags": []
   },
   "outputs": [],
   "source": [
    "y_true = y_true.squeeze()"
   ]
  },
  {
   "cell_type": "code",
   "execution_count": 45,
   "id": "e700e9a7",
   "metadata": {
    "execution": {
     "iopub.execute_input": "2025-08-19T18:35:51.751973Z",
     "iopub.status.busy": "2025-08-19T18:35:51.751537Z",
     "iopub.status.idle": "2025-08-19T18:35:52.258810Z",
     "shell.execute_reply": "2025-08-19T18:35:52.257219Z"
    },
    "papermill": {
     "duration": 0.521815,
     "end_time": "2025-08-19T18:35:52.261180",
     "exception": false,
     "start_time": "2025-08-19T18:35:51.739365",
     "status": "completed"
    },
    "tags": []
   },
   "outputs": [],
   "source": [
    "from fairness_multiverse.conformal import evaluate_sets\n",
    "\n",
    "# Evaluate coverage and average set size on test data\n",
    "metrics = evaluate_sets(pred_sets, y_true)"
   ]
  },
  {
   "cell_type": "markdown",
   "id": "efbacec0",
   "metadata": {
    "papermill": {
     "duration": 0.011153,
     "end_time": "2025-08-19T18:35:52.284397",
     "exception": false,
     "start_time": "2025-08-19T18:35:52.273244",
     "status": "completed"
    },
    "tags": []
   },
   "source": [
    "# CP Metrics"
   ]
  },
  {
   "cell_type": "code",
   "execution_count": 46,
   "id": "9de55fb1",
   "metadata": {
    "execution": {
     "iopub.execute_input": "2025-08-19T18:35:52.308345Z",
     "iopub.status.busy": "2025-08-19T18:35:52.307903Z",
     "iopub.status.idle": "2025-08-19T18:35:52.316844Z",
     "shell.execute_reply": "2025-08-19T18:35:52.315658Z"
    },
    "papermill": {
     "duration": 0.022384,
     "end_time": "2025-08-19T18:35:52.318000",
     "exception": false,
     "start_time": "2025-08-19T18:35:52.295616",
     "status": "completed"
    },
    "tags": []
   },
   "outputs": [
    {
     "data": {
      "text/plain": [
       "{'coverage': 0.9128190837141902, 'avg_size': 1.2504626017166425}"
      ]
     },
     "execution_count": 46,
     "metadata": {},
     "output_type": "execute_result"
    }
   ],
   "source": [
    "metrics"
   ]
  },
  {
   "cell_type": "code",
   "execution_count": 47,
   "id": "64c340a1",
   "metadata": {
    "execution": {
     "iopub.execute_input": "2025-08-19T18:35:52.342180Z",
     "iopub.status.busy": "2025-08-19T18:35:52.341807Z",
     "iopub.status.idle": "2025-08-19T18:35:52.347936Z",
     "shell.execute_reply": "2025-08-19T18:35:52.347134Z"
    },
    "papermill": {
     "duration": 0.019716,
     "end_time": "2025-08-19T18:35:52.349212",
     "exception": false,
     "start_time": "2025-08-19T18:35:52.329496",
     "status": "completed"
    },
    "tags": []
   },
   "outputs": [],
   "source": [
    "example_universe = universe.copy()\n",
    "universe_training_year = example_universe.get(\"training_year\")\n",
    "universe_training_size = example_universe.get(\"training_size\")\n",
    "universe_scale = example_universe.get(\"scale\")\n",
    "universe_model = example_universe.get(\"model\")\n",
    "universe_exclude_features = example_universe.get(\"exclude_features\")\n",
    "universe_exclude_subgroups = example_universe.get(\"exclude_subgroups\")"
   ]
  },
  {
   "cell_type": "code",
   "execution_count": 48,
   "id": "dbb53cb4",
   "metadata": {
    "execution": {
     "iopub.execute_input": "2025-08-19T18:35:52.373028Z",
     "iopub.status.busy": "2025-08-19T18:35:52.372693Z",
     "iopub.status.idle": "2025-08-19T18:35:52.378526Z",
     "shell.execute_reply": "2025-08-19T18:35:52.377725Z"
    },
    "papermill": {
     "duration": 0.019274,
     "end_time": "2025-08-19T18:35:52.379886",
     "exception": false,
     "start_time": "2025-08-19T18:35:52.360612",
     "status": "completed"
    },
    "tags": []
   },
   "outputs": [],
   "source": [
    "cp_metrics_dict = {\n",
    "    \"universe_id\": [universe_id],\n",
    "    \"universe_training_year\": [universe_training_year],\n",
    "    \"universe_training_size\": [universe_training_size],\n",
    "    \"universe_scale\": [universe_scale],\n",
    "    \"universe_model\": [universe_model],\n",
    "    \"universe_exclude_features\": [universe_exclude_features],\n",
    "    \"universe_exclude_subgroups\": [universe_exclude_subgroups],\n",
    "    \"q_hat\": [q_hat],\n",
    "    \"coverage\": [metrics[\"coverage\"]],\n",
    "    \"avg_size\": [metrics[\"avg_size\"]],\n",
    "}"
   ]
  },
  {
   "cell_type": "code",
   "execution_count": 49,
   "id": "0d70d4b2",
   "metadata": {
    "execution": {
     "iopub.execute_input": "2025-08-19T18:35:52.403664Z",
     "iopub.status.busy": "2025-08-19T18:35:52.403346Z",
     "iopub.status.idle": "2025-08-19T18:35:52.413023Z",
     "shell.execute_reply": "2025-08-19T18:35:52.411382Z"
    },
    "papermill": {
     "duration": 0.025236,
     "end_time": "2025-08-19T18:35:52.416526",
     "exception": false,
     "start_time": "2025-08-19T18:35:52.391290",
     "status": "completed"
    },
    "tags": []
   },
   "outputs": [],
   "source": [
    "cp_metrics_df = pd.DataFrame(cp_metrics_dict)"
   ]
  },
  {
   "cell_type": "code",
   "execution_count": 50,
   "id": "b494403c",
   "metadata": {
    "execution": {
     "iopub.execute_input": "2025-08-19T18:35:52.452469Z",
     "iopub.status.busy": "2025-08-19T18:35:52.451512Z",
     "iopub.status.idle": "2025-08-19T18:35:52.475137Z",
     "shell.execute_reply": "2025-08-19T18:35:52.474026Z"
    },
    "papermill": {
     "duration": 0.038876,
     "end_time": "2025-08-19T18:35:52.477132",
     "exception": false,
     "start_time": "2025-08-19T18:35:52.438256",
     "status": "completed"
    },
    "tags": []
   },
   "outputs": [
    {
     "data": {
      "text/html": [
       "<div>\n",
       "<style scoped>\n",
       "    .dataframe tbody tr th:only-of-type {\n",
       "        vertical-align: middle;\n",
       "    }\n",
       "\n",
       "    .dataframe tbody tr th {\n",
       "        vertical-align: top;\n",
       "    }\n",
       "\n",
       "    .dataframe thead th {\n",
       "        text-align: right;\n",
       "    }\n",
       "</style>\n",
       "<table border=\"1\" class=\"dataframe\">\n",
       "  <thead>\n",
       "    <tr style=\"text-align: right;\">\n",
       "      <th></th>\n",
       "      <th>universe_id</th>\n",
       "      <th>universe_training_year</th>\n",
       "      <th>universe_training_size</th>\n",
       "      <th>universe_scale</th>\n",
       "      <th>universe_model</th>\n",
       "      <th>universe_exclude_features</th>\n",
       "      <th>universe_exclude_subgroups</th>\n",
       "      <th>q_hat</th>\n",
       "      <th>coverage</th>\n",
       "      <th>avg_size</th>\n",
       "    </tr>\n",
       "  </thead>\n",
       "  <tbody>\n",
       "    <tr>\n",
       "      <th>0</th>\n",
       "      <td>d4512715744f75f3fb9c981dd126ba0c</td>\n",
       "      <td>2012_14</td>\n",
       "      <td>5k</td>\n",
       "      <td>do-not-scale</td>\n",
       "      <td>logreg</td>\n",
       "      <td>age</td>\n",
       "      <td>drop-non-german</td>\n",
       "      <td>0.656232</td>\n",
       "      <td>0.912819</td>\n",
       "      <td>1.250463</td>\n",
       "    </tr>\n",
       "  </tbody>\n",
       "</table>\n",
       "</div>"
      ],
      "text/plain": [
       "                        universe_id universe_training_year  \\\n",
       "0  d4512715744f75f3fb9c981dd126ba0c                2012_14   \n",
       "\n",
       "  universe_training_size universe_scale universe_model  \\\n",
       "0                     5k   do-not-scale         logreg   \n",
       "\n",
       "  universe_exclude_features universe_exclude_subgroups     q_hat  coverage  \\\n",
       "0                       age            drop-non-german  0.656232  0.912819   \n",
       "\n",
       "   avg_size  \n",
       "0  1.250463  "
      ]
     },
     "execution_count": 50,
     "metadata": {},
     "output_type": "execute_result"
    }
   ],
   "source": [
    "cp_metrics_df"
   ]
  },
  {
   "cell_type": "markdown",
   "id": "ed608b0b",
   "metadata": {
    "papermill": {
     "duration": 0.012301,
     "end_time": "2025-08-19T18:35:52.508134",
     "exception": false,
     "start_time": "2025-08-19T18:35:52.495833",
     "status": "completed"
    },
    "tags": []
   },
   "source": [
    "Conditional coverage & looking at subgroups"
   ]
  },
  {
   "cell_type": "code",
   "execution_count": 51,
   "id": "8968c366",
   "metadata": {
    "execution": {
     "iopub.execute_input": "2025-08-19T18:35:52.533925Z",
     "iopub.status.busy": "2025-08-19T18:35:52.532802Z",
     "iopub.status.idle": "2025-08-19T18:35:52.810251Z",
     "shell.execute_reply": "2025-08-19T18:35:52.809317Z"
    },
    "papermill": {
     "duration": 0.292592,
     "end_time": "2025-08-19T18:35:52.812300",
     "exception": false,
     "start_time": "2025-08-19T18:35:52.519708",
     "status": "completed"
    },
    "tags": []
   },
   "outputs": [],
   "source": [
    "from fairness_multiverse.conformal import build_cp_groups\n",
    "\n",
    "cp_groups_df = build_cp_groups(pred_sets, y_true, X_test.index, org_test)"
   ]
  },
  {
   "cell_type": "code",
   "execution_count": 52,
   "id": "292ddabf",
   "metadata": {
    "execution": {
     "iopub.execute_input": "2025-08-19T18:35:52.841312Z",
     "iopub.status.busy": "2025-08-19T18:35:52.840940Z",
     "iopub.status.idle": "2025-08-19T18:35:53.699883Z",
     "shell.execute_reply": "2025-08-19T18:35:53.698620Z"
    },
    "papermill": {
     "duration": 0.876765,
     "end_time": "2025-08-19T18:35:53.701717",
     "exception": false,
     "start_time": "2025-08-19T18:35:52.824952",
     "status": "completed"
    },
    "tags": []
   },
   "outputs": [],
   "source": [
    "# Define covered = 1 if true_label is in the predicted set\n",
    "cp_groups_df['covered'] = cp_groups_df.apply(\n",
    "    lambda r: int(r['true_label'] in r['pred_set']),\n",
    "    axis=1\n",
    ")"
   ]
  },
  {
   "cell_type": "code",
   "execution_count": 53,
   "id": "3a261692",
   "metadata": {
    "execution": {
     "iopub.execute_input": "2025-08-19T18:35:53.732709Z",
     "iopub.status.busy": "2025-08-19T18:35:53.731570Z",
     "iopub.status.idle": "2025-08-19T18:35:53.752552Z",
     "shell.execute_reply": "2025-08-19T18:35:53.751532Z"
    },
    "papermill": {
     "duration": 0.036441,
     "end_time": "2025-08-19T18:35:53.754490",
     "exception": false,
     "start_time": "2025-08-19T18:35:53.718049",
     "status": "completed"
    },
    "tags": []
   },
   "outputs": [],
   "source": [
    "subgroups = ['frau1','nongerman','nongerman_male','nongerman_female']\n",
    "\n",
    "# Conditional coverage for subgroup==1\n",
    "cond_coverage = {\n",
    "    g: cp_groups_df.loc[cp_groups_df[g]==1, 'covered'].mean()\n",
    "    for g in subgroups\n",
    "}"
   ]
  },
  {
   "cell_type": "code",
   "execution_count": 54,
   "id": "894fd600",
   "metadata": {
    "execution": {
     "iopub.execute_input": "2025-08-19T18:35:53.787515Z",
     "iopub.status.busy": "2025-08-19T18:35:53.786094Z",
     "iopub.status.idle": "2025-08-19T18:35:53.798359Z",
     "shell.execute_reply": "2025-08-19T18:35:53.796916Z"
    },
    "papermill": {
     "duration": 0.027486,
     "end_time": "2025-08-19T18:35:53.799860",
     "exception": false,
     "start_time": "2025-08-19T18:35:53.772374",
     "status": "completed"
    },
    "tags": []
   },
   "outputs": [
    {
     "data": {
      "text/plain": [
       "{'frau1': 0.9110661814260682,\n",
       " 'nongerman': 0.9608712737888059,\n",
       " 'nongerman_male': 0.9678465279654147,\n",
       " 'nongerman_female': 0.9493293591654247}"
      ]
     },
     "execution_count": 54,
     "metadata": {},
     "output_type": "execute_result"
    }
   ],
   "source": [
    "cond_coverage"
   ]
  },
  {
   "cell_type": "code",
   "execution_count": 55,
   "id": "942895c7",
   "metadata": {
    "execution": {
     "iopub.execute_input": "2025-08-19T18:35:53.830616Z",
     "iopub.status.busy": "2025-08-19T18:35:53.829632Z",
     "iopub.status.idle": "2025-08-19T18:35:53.842077Z",
     "shell.execute_reply": "2025-08-19T18:35:53.840403Z"
    },
    "papermill": {
     "duration": 0.027263,
     "end_time": "2025-08-19T18:35:53.843590",
     "exception": false,
     "start_time": "2025-08-19T18:35:53.816327",
     "status": "completed"
    },
    "tags": []
   },
   "outputs": [],
   "source": [
    "for subgroup, cov in cond_coverage.items():\n",
    "    cp_metrics_df[f\"cov_{subgroup}\"] = cov"
   ]
  },
  {
   "cell_type": "code",
   "execution_count": 56,
   "id": "3970120f",
   "metadata": {
    "execution": {
     "iopub.execute_input": "2025-08-19T18:35:53.873180Z",
     "iopub.status.busy": "2025-08-19T18:35:53.871969Z",
     "iopub.status.idle": "2025-08-19T18:35:53.897345Z",
     "shell.execute_reply": "2025-08-19T18:35:53.896606Z"
    },
    "papermill": {
     "duration": 0.040479,
     "end_time": "2025-08-19T18:35:53.898997",
     "exception": false,
     "start_time": "2025-08-19T18:35:53.858518",
     "status": "completed"
    },
    "tags": []
   },
   "outputs": [
    {
     "data": {
      "text/html": [
       "<div>\n",
       "<style scoped>\n",
       "    .dataframe tbody tr th:only-of-type {\n",
       "        vertical-align: middle;\n",
       "    }\n",
       "\n",
       "    .dataframe tbody tr th {\n",
       "        vertical-align: top;\n",
       "    }\n",
       "\n",
       "    .dataframe thead th {\n",
       "        text-align: right;\n",
       "    }\n",
       "</style>\n",
       "<table border=\"1\" class=\"dataframe\">\n",
       "  <thead>\n",
       "    <tr style=\"text-align: right;\">\n",
       "      <th></th>\n",
       "      <th>universe_id</th>\n",
       "      <th>universe_training_year</th>\n",
       "      <th>universe_training_size</th>\n",
       "      <th>universe_scale</th>\n",
       "      <th>universe_model</th>\n",
       "      <th>universe_exclude_features</th>\n",
       "      <th>universe_exclude_subgroups</th>\n",
       "      <th>q_hat</th>\n",
       "      <th>coverage</th>\n",
       "      <th>avg_size</th>\n",
       "      <th>cov_frau1</th>\n",
       "      <th>cov_nongerman</th>\n",
       "      <th>cov_nongerman_male</th>\n",
       "      <th>cov_nongerman_female</th>\n",
       "    </tr>\n",
       "  </thead>\n",
       "  <tbody>\n",
       "    <tr>\n",
       "      <th>0</th>\n",
       "      <td>d4512715744f75f3fb9c981dd126ba0c</td>\n",
       "      <td>2012_14</td>\n",
       "      <td>5k</td>\n",
       "      <td>do-not-scale</td>\n",
       "      <td>logreg</td>\n",
       "      <td>age</td>\n",
       "      <td>drop-non-german</td>\n",
       "      <td>0.656232</td>\n",
       "      <td>0.912819</td>\n",
       "      <td>1.250463</td>\n",
       "      <td>0.911066</td>\n",
       "      <td>0.960871</td>\n",
       "      <td>0.967847</td>\n",
       "      <td>0.949329</td>\n",
       "    </tr>\n",
       "  </tbody>\n",
       "</table>\n",
       "</div>"
      ],
      "text/plain": [
       "                        universe_id universe_training_year  \\\n",
       "0  d4512715744f75f3fb9c981dd126ba0c                2012_14   \n",
       "\n",
       "  universe_training_size universe_scale universe_model  \\\n",
       "0                     5k   do-not-scale         logreg   \n",
       "\n",
       "  universe_exclude_features universe_exclude_subgroups     q_hat  coverage  \\\n",
       "0                       age            drop-non-german  0.656232  0.912819   \n",
       "\n",
       "   avg_size  cov_frau1  cov_nongerman  cov_nongerman_male  \\\n",
       "0  1.250463   0.911066       0.960871            0.967847   \n",
       "\n",
       "   cov_nongerman_female  \n",
       "0              0.949329  "
      ]
     },
     "execution_count": 56,
     "metadata": {},
     "output_type": "execute_result"
    }
   ],
   "source": [
    "cp_metrics_df"
   ]
  },
  {
   "cell_type": "markdown",
   "id": "3fc519cc",
   "metadata": {
    "papermill": {
     "duration": 0.01249,
     "end_time": "2025-08-19T18:35:53.930513",
     "exception": false,
     "start_time": "2025-08-19T18:35:53.918023",
     "status": "completed"
    },
    "tags": []
   },
   "source": [
    "# (Fairness) Metrics"
   ]
  },
  {
   "cell_type": "code",
   "execution_count": 57,
   "id": "a2e5e155",
   "metadata": {
    "execution": {
     "iopub.execute_input": "2025-08-19T18:35:53.957272Z",
     "iopub.status.busy": "2025-08-19T18:35:53.956231Z",
     "iopub.status.idle": "2025-08-19T18:35:53.982031Z",
     "shell.execute_reply": "2025-08-19T18:35:53.981145Z"
    },
    "papermill": {
     "duration": 0.041053,
     "end_time": "2025-08-19T18:35:53.983878",
     "exception": false,
     "start_time": "2025-08-19T18:35:53.942825",
     "status": "completed"
    },
    "tags": []
   },
   "outputs": [],
   "source": [
    "colname_to_bin = \"maxdeutsch1\"\n",
    "majority_value = org_train[colname_to_bin].mode()[0]\n",
    "\n",
    "org_test[\"majmin\"] = np.where(org_test[colname_to_bin] == majority_value, \"majority\", \"minority\")"
   ]
  },
  {
   "cell_type": "code",
   "execution_count": 58,
   "id": "17e3e4d5",
   "metadata": {
    "execution": {
     "iopub.execute_input": "2025-08-19T18:35:54.024158Z",
     "iopub.status.busy": "2025-08-19T18:35:54.022889Z",
     "iopub.status.idle": "2025-08-19T18:35:55.729934Z",
     "shell.execute_reply": "2025-08-19T18:35:55.728626Z"
    },
    "papermill": {
     "duration": 1.723419,
     "end_time": "2025-08-19T18:35:55.731486",
     "exception": false,
     "start_time": "2025-08-19T18:35:54.008067",
     "status": "completed"
    },
    "tags": []
   },
   "outputs": [],
   "source": [
    "example_universe = universe.copy()\n",
    "example_universe[\"cutoff\"] = example_universe[\"cutoff\"][0]\n",
    "example_universe[\"eval_fairness_grouping\"] = example_universe[\"eval_fairness_grouping\"][0]\n",
    "fairness_dict, metric_frame = universe_analysis.compute_metrics(\n",
    "    example_universe,\n",
    "    y_pred_prob=probs_test,\n",
    "    y_test=y_true,\n",
    "    org_test=org_test,\n",
    ")"
   ]
  },
  {
   "cell_type": "markdown",
   "id": "1fb7a0e9",
   "metadata": {
    "papermill": {
     "duration": 0.012193,
     "end_time": "2025-08-19T18:35:55.756378",
     "exception": false,
     "start_time": "2025-08-19T18:35:55.744185",
     "status": "completed"
    },
    "tags": []
   },
   "source": [
    "# Overall"
   ]
  },
  {
   "cell_type": "markdown",
   "id": "be1784b1",
   "metadata": {
    "papermill": {
     "duration": 0.012055,
     "end_time": "2025-08-19T18:35:55.780620",
     "exception": false,
     "start_time": "2025-08-19T18:35:55.768565",
     "status": "completed"
    },
    "tags": []
   },
   "source": [
    "Main fairness target: Equalized Odds. Seems to be a better fit than equal opportunity, since we're not only interested in Y = 1. Seems to be a better fit than demographic parity, since we also care about accuracy, not just equal distribution of preds.\n",
    "\n",
    "Pick column for computation of fairness metrics\n",
    "\n",
    "Performance\n",
    "Overall performance measures, most interesting in relation to the measures split by group below"
   ]
  },
  {
   "cell_type": "code",
   "execution_count": 59,
   "id": "b7672bee",
   "metadata": {
    "execution": {
     "iopub.execute_input": "2025-08-19T18:35:55.812945Z",
     "iopub.status.busy": "2025-08-19T18:35:55.811192Z",
     "iopub.status.idle": "2025-08-19T18:35:55.823989Z",
     "shell.execute_reply": "2025-08-19T18:35:55.823019Z"
    },
    "papermill": {
     "duration": 0.032733,
     "end_time": "2025-08-19T18:35:55.825383",
     "exception": false,
     "start_time": "2025-08-19T18:35:55.792650",
     "status": "completed"
    },
    "tags": []
   },
   "outputs": [
    {
     "data": {
      "text/plain": [
       "accuracy                   0.217401\n",
       "balanced accuracy          0.533035\n",
       "f1                         0.238924\n",
       "precision                  0.136489\n",
       "false positive rate        0.891525\n",
       "false negative rate        0.042405\n",
       "selection rate             0.900000\n",
       "count                  89710.000000\n",
       "dtype: float64"
      ]
     },
     "execution_count": 59,
     "metadata": {},
     "output_type": "execute_result"
    }
   ],
   "source": [
    "metric_frame.overall"
   ]
  },
  {
   "cell_type": "markdown",
   "id": "d93333c9",
   "metadata": {
    "papermill": {
     "duration": 0.013195,
     "end_time": "2025-08-19T18:35:55.861041",
     "exception": false,
     "start_time": "2025-08-19T18:35:55.847846",
     "status": "completed"
    },
    "tags": []
   },
   "source": [
    "By Group"
   ]
  },
  {
   "cell_type": "code",
   "execution_count": 60,
   "id": "52256966",
   "metadata": {
    "execution": {
     "iopub.execute_input": "2025-08-19T18:35:55.888645Z",
     "iopub.status.busy": "2025-08-19T18:35:55.887586Z",
     "iopub.status.idle": "2025-08-19T18:35:55.909818Z",
     "shell.execute_reply": "2025-08-19T18:35:55.908971Z"
    },
    "papermill": {
     "duration": 0.037749,
     "end_time": "2025-08-19T18:35:55.911195",
     "exception": false,
     "start_time": "2025-08-19T18:35:55.873446",
     "status": "completed"
    },
    "tags": []
   },
   "outputs": [
    {
     "data": {
      "text/html": [
       "<div>\n",
       "<style scoped>\n",
       "    .dataframe tbody tr th:only-of-type {\n",
       "        vertical-align: middle;\n",
       "    }\n",
       "\n",
       "    .dataframe tbody tr th {\n",
       "        vertical-align: top;\n",
       "    }\n",
       "\n",
       "    .dataframe thead th {\n",
       "        text-align: right;\n",
       "    }\n",
       "</style>\n",
       "<table border=\"1\" class=\"dataframe\">\n",
       "  <thead>\n",
       "    <tr style=\"text-align: right;\">\n",
       "      <th></th>\n",
       "      <th>accuracy</th>\n",
       "      <th>balanced accuracy</th>\n",
       "      <th>f1</th>\n",
       "      <th>precision</th>\n",
       "      <th>false positive rate</th>\n",
       "      <th>false negative rate</th>\n",
       "      <th>selection rate</th>\n",
       "      <th>count</th>\n",
       "    </tr>\n",
       "    <tr>\n",
       "      <th>majmin</th>\n",
       "      <th></th>\n",
       "      <th></th>\n",
       "      <th></th>\n",
       "      <th></th>\n",
       "      <th></th>\n",
       "      <th></th>\n",
       "      <th></th>\n",
       "      <th></th>\n",
       "    </tr>\n",
       "  </thead>\n",
       "  <tbody>\n",
       "    <tr>\n",
       "      <th>majority</th>\n",
       "      <td>0.239670</td>\n",
       "      <td>0.541130</td>\n",
       "      <td>0.248407</td>\n",
       "      <td>0.142864</td>\n",
       "      <td>0.868616</td>\n",
       "      <td>0.049125</td>\n",
       "      <td>0.879485</td>\n",
       "      <td>69170.0</td>\n",
       "    </tr>\n",
       "    <tr>\n",
       "      <th>minority</th>\n",
       "      <td>0.142405</td>\n",
       "      <td>0.508164</td>\n",
       "      <td>0.209132</td>\n",
       "      <td>0.117006</td>\n",
       "      <td>0.967202</td>\n",
       "      <td>0.016470</td>\n",
       "      <td>0.969085</td>\n",
       "      <td>20540.0</td>\n",
       "    </tr>\n",
       "  </tbody>\n",
       "</table>\n",
       "</div>"
      ],
      "text/plain": [
       "          accuracy  balanced accuracy        f1  precision  \\\n",
       "majmin                                                       \n",
       "majority  0.239670           0.541130  0.248407   0.142864   \n",
       "minority  0.142405           0.508164  0.209132   0.117006   \n",
       "\n",
       "          false positive rate  false negative rate  selection rate    count  \n",
       "majmin                                                                       \n",
       "majority             0.868616             0.049125        0.879485  69170.0  \n",
       "minority             0.967202             0.016470        0.969085  20540.0  "
      ]
     },
     "execution_count": 60,
     "metadata": {},
     "output_type": "execute_result"
    }
   ],
   "source": [
    "metric_frame.by_group"
   ]
  },
  {
   "cell_type": "code",
   "execution_count": 61,
   "id": "6e6c20ae",
   "metadata": {
    "execution": {
     "iopub.execute_input": "2025-08-19T18:35:55.947226Z",
     "iopub.status.busy": "2025-08-19T18:35:55.946127Z",
     "iopub.status.idle": "2025-08-19T18:35:57.779619Z",
     "shell.execute_reply": "2025-08-19T18:35:57.778560Z"
    },
    "papermill": {
     "duration": 1.85023,
     "end_time": "2025-08-19T18:35:57.781352",
     "exception": false,
     "start_time": "2025-08-19T18:35:55.931122",
     "status": "completed"
    },
    "tags": []
   },
   "outputs": [
    {
     "data": {
      "text/plain": [
       "array([[<Axes: title={'center': 'accuracy'}, xlabel='majmin'>,\n",
       "        <Axes: title={'center': 'balanced accuracy'}, xlabel='majmin'>,\n",
       "        <Axes: title={'center': 'f1'}, xlabel='majmin'>],\n",
       "       [<Axes: title={'center': 'precision'}, xlabel='majmin'>,\n",
       "        <Axes: title={'center': 'false positive rate'}, xlabel='majmin'>,\n",
       "        <Axes: title={'center': 'false negative rate'}, xlabel='majmin'>],\n",
       "       [<Axes: title={'center': 'selection rate'}, xlabel='majmin'>,\n",
       "        <Axes: title={'center': 'count'}, xlabel='majmin'>,\n",
       "        <Axes: xlabel='majmin'>]], dtype=object)"
      ]
     },
     "execution_count": 61,
     "metadata": {},
     "output_type": "execute_result"
    },
    {
     "data": {
      "image/png": "[encoded data removed]",
      "text/plain": [
       "<Figure size 1200x800 with 9 Axes>"
      ]
     },
     "metadata": {},
     "output_type": "display_data"
    }
   ],
   "source": [
    "# In a graphic\n",
    "metric_frame.by_group.plot.bar(\n",
    "    subplots=True,\n",
    "    layout=[3, 3],\n",
    "    legend=False,\n",
    "    figsize=[12, 8],\n",
    "    title=\"Show all metrics\",\n",
    ")"
   ]
  },
  {
   "cell_type": "markdown",
   "id": "b2e433ae",
   "metadata": {
    "papermill": {
     "duration": 0.015285,
     "end_time": "2025-08-19T18:35:57.812079",
     "exception": false,
     "start_time": "2025-08-19T18:35:57.796794",
     "status": "completed"
    },
    "tags": []
   },
   "source": [
    "# Final Output"
   ]
  },
  {
   "cell_type": "code",
   "execution_count": 62,
   "id": "3871301e",
   "metadata": {
    "execution": {
     "iopub.execute_input": "2025-08-19T18:35:57.843352Z",
     "iopub.status.busy": "2025-08-19T18:35:57.841358Z",
     "iopub.status.idle": "2025-08-19T18:35:57.859492Z",
     "shell.execute_reply": "2025-08-19T18:35:57.858472Z"
    },
    "papermill": {
     "duration": 0.035435,
     "end_time": "2025-08-19T18:35:57.861199",
     "exception": false,
     "start_time": "2025-08-19T18:35:57.825764",
     "status": "completed"
    },
    "tags": []
   },
   "outputs": [
    {
     "data": {
      "text/plain": [
       "4"
      ]
     },
     "execution_count": 62,
     "metadata": {},
     "output_type": "execute_result"
    }
   ],
   "source": [
    "sub_universes = universe_analysis.generate_sub_universes()\n",
    "len(sub_universes)"
   ]
  },
  {
   "cell_type": "code",
   "execution_count": 63,
   "id": "d9cfdaca",
   "metadata": {
    "execution": {
     "iopub.execute_input": "2025-08-19T18:35:57.899195Z",
     "iopub.status.busy": "2025-08-19T18:35:57.898235Z",
     "iopub.status.idle": "2025-08-19T18:35:57.908538Z",
     "shell.execute_reply": "2025-08-19T18:35:57.906852Z"
    },
    "papermill": {
     "duration": 0.027811,
     "end_time": "2025-08-19T18:35:57.910266",
     "exception": false,
     "start_time": "2025-08-19T18:35:57.882455",
     "status": "completed"
    },
    "tags": []
   },
   "outputs": [],
   "source": [
    "def filter_sub_universe_data(sub_universe, org_test):\n",
    "    # Keep all rows — no filtering\n",
    "    keep_rows_mask = np.ones(org_test.shape[0], dtype=bool)\n",
    "\n",
    "    print(f\"[INFO] Keeping all rows: {keep_rows_mask.sum()} rows retained.\")\n",
    "    return keep_rows_mask"
   ]
  },
  {
   "cell_type": "code",
   "execution_count": 64,
   "id": "2bc31ac1",
   "metadata": {
    "execution": {
     "iopub.execute_input": "2025-08-19T18:35:57.945376Z",
     "iopub.status.busy": "2025-08-19T18:35:57.943268Z",
     "iopub.status.idle": "2025-08-19T18:36:04.456034Z",
     "shell.execute_reply": "2025-08-19T18:36:04.454996Z"
    },
    "papermill": {
     "duration": 6.531098,
     "end_time": "2025-08-19T18:36:04.458406",
     "exception": false,
     "start_time": "2025-08-19T18:35:57.927308",
     "status": "completed"
    },
    "tags": []
   },
   "outputs": [
    {
     "name": "stdout",
     "output_type": "stream",
     "text": [
      "Stopping execution_time clock.\n",
      "[INFO] Keeping all rows: 89710 rows retained.\n"
     ]
    },
    {
     "name": "stdout",
     "output_type": "stream",
     "text": [
      "[INFO] Keeping all rows: 89710 rows retained.\n"
     ]
    },
    {
     "name": "stdout",
     "output_type": "stream",
     "text": [
      "[INFO] Keeping all rows: 89710 rows retained.\n"
     ]
    },
    {
     "name": "stdout",
     "output_type": "stream",
     "text": [
      "[INFO] Keeping all rows: 89710 rows retained.\n"
     ]
    },
    {
     "data": {
      "text/html": [
       "<div>\n",
       "<style scoped>\n",
       "    .dataframe tbody tr th:only-of-type {\n",
       "        vertical-align: middle;\n",
       "    }\n",
       "\n",
       "    .dataframe tbody tr th {\n",
       "        vertical-align: top;\n",
       "    }\n",
       "\n",
       "    .dataframe thead th {\n",
       "        text-align: right;\n",
       "    }\n",
       "</style>\n",
       "<table border=\"1\" class=\"dataframe\">\n",
       "  <thead>\n",
       "    <tr style=\"text-align: right;\">\n",
       "      <th></th>\n",
       "      <th>run_no</th>\n",
       "      <th>universe_id</th>\n",
       "      <th>universe_settings</th>\n",
       "      <th>execution_time</th>\n",
       "      <th>test_size_n</th>\n",
       "      <th>test_size_frac</th>\n",
       "      <th>fair_main_equalized_odds_difference</th>\n",
       "      <th>fair_main_equalized_odds_ratio</th>\n",
       "      <th>fair_main_demographic_parity_difference</th>\n",
       "      <th>fair_main_demographic_parity_ratio</th>\n",
       "      <th>...</th>\n",
       "      <th>perf_grp_precision_0</th>\n",
       "      <th>perf_grp_precision_1</th>\n",
       "      <th>perf_grp_false positive rate_0</th>\n",
       "      <th>perf_grp_false positive rate_1</th>\n",
       "      <th>perf_grp_false negative rate_0</th>\n",
       "      <th>perf_grp_false negative rate_1</th>\n",
       "      <th>perf_grp_selection rate_0</th>\n",
       "      <th>perf_grp_selection rate_1</th>\n",
       "      <th>perf_grp_count_0</th>\n",
       "      <th>perf_grp_count_1</th>\n",
       "    </tr>\n",
       "  </thead>\n",
       "  <tbody>\n",
       "    <tr>\n",
       "      <th>0</th>\n",
       "      <td>3</td>\n",
       "      <td>d4512715744f75f3fb9c981dd126ba0c</td>\n",
       "      <td>{\"cutoff\": \"quantile_0.1\", \"eval_fairness_grou...</td>\n",
       "      <td>21.117492</td>\n",
       "      <td>89710</td>\n",
       "      <td>1.0</td>\n",
       "      <td>0.098587</td>\n",
       "      <td>0.898070</td>\n",
       "      <td>0.089599</td>\n",
       "      <td>0.907542</td>\n",
       "      <td>...</td>\n",
       "      <td>NaN</td>\n",
       "      <td>NaN</td>\n",
       "      <td>NaN</td>\n",
       "      <td>NaN</td>\n",
       "      <td>NaN</td>\n",
       "      <td>NaN</td>\n",
       "      <td>NaN</td>\n",
       "      <td>NaN</td>\n",
       "      <td>NaN</td>\n",
       "      <td>NaN</td>\n",
       "    </tr>\n",
       "    <tr>\n",
       "      <th>0</th>\n",
       "      <td>3</td>\n",
       "      <td>d4512715744f75f3fb9c981dd126ba0c</td>\n",
       "      <td>{\"cutoff\": \"quantile_0.1\", \"eval_fairness_grou...</td>\n",
       "      <td>21.117492</td>\n",
       "      <td>89710</td>\n",
       "      <td>1.0</td>\n",
       "      <td>0.098587</td>\n",
       "      <td>0.898070</td>\n",
       "      <td>0.089599</td>\n",
       "      <td>0.907542</td>\n",
       "      <td>...</td>\n",
       "      <td>0.117006</td>\n",
       "      <td>0.142864</td>\n",
       "      <td>0.967202</td>\n",
       "      <td>0.868616</td>\n",
       "      <td>0.016470</td>\n",
       "      <td>0.049125</td>\n",
       "      <td>0.969085</td>\n",
       "      <td>0.879485</td>\n",
       "      <td>20540.0</td>\n",
       "      <td>69170.0</td>\n",
       "    </tr>\n",
       "    <tr>\n",
       "      <th>0</th>\n",
       "      <td>3</td>\n",
       "      <td>d4512715744f75f3fb9c981dd126ba0c</td>\n",
       "      <td>{\"cutoff\": \"quantile_0.25\", \"eval_fairness_gro...</td>\n",
       "      <td>21.117492</td>\n",
       "      <td>89710</td>\n",
       "      <td>1.0</td>\n",
       "      <td>0.231130</td>\n",
       "      <td>0.746111</td>\n",
       "      <td>0.213240</td>\n",
       "      <td>0.766801</td>\n",
       "      <td>...</td>\n",
       "      <td>NaN</td>\n",
       "      <td>NaN</td>\n",
       "      <td>NaN</td>\n",
       "      <td>NaN</td>\n",
       "      <td>NaN</td>\n",
       "      <td>NaN</td>\n",
       "      <td>NaN</td>\n",
       "      <td>NaN</td>\n",
       "      <td>NaN</td>\n",
       "      <td>NaN</td>\n",
       "    </tr>\n",
       "    <tr>\n",
       "      <th>0</th>\n",
       "      <td>3</td>\n",
       "      <td>d4512715744f75f3fb9c981dd126ba0c</td>\n",
       "      <td>{\"cutoff\": \"quantile_0.25\", \"eval_fairness_gro...</td>\n",
       "      <td>21.117492</td>\n",
       "      <td>89710</td>\n",
       "      <td>1.0</td>\n",
       "      <td>0.231130</td>\n",
       "      <td>0.746111</td>\n",
       "      <td>0.213240</td>\n",
       "      <td>0.766801</td>\n",
       "      <td>...</td>\n",
       "      <td>0.119210</td>\n",
       "      <td>0.159299</td>\n",
       "      <td>0.910357</td>\n",
       "      <td>0.679227</td>\n",
       "      <td>0.054476</td>\n",
       "      <td>0.154705</td>\n",
       "      <td>0.914411</td>\n",
       "      <td>0.701171</td>\n",
       "      <td>20540.0</td>\n",
       "      <td>69170.0</td>\n",
       "    </tr>\n",
       "  </tbody>\n",
       "</table>\n",
       "<p>4 rows × 50 columns</p>\n",
       "</div>"
      ],
      "text/plain": [
       "  run_no                       universe_id  \\\n",
       "0      3  d4512715744f75f3fb9c981dd126ba0c   \n",
       "0      3  d4512715744f75f3fb9c981dd126ba0c   \n",
       "0      3  d4512715744f75f3fb9c981dd126ba0c   \n",
       "0      3  d4512715744f75f3fb9c981dd126ba0c   \n",
       "\n",
       "                                   universe_settings  execution_time  \\\n",
       "0  {\"cutoff\": \"quantile_0.1\", \"eval_fairness_grou...       21.117492   \n",
       "0  {\"cutoff\": \"quantile_0.1\", \"eval_fairness_grou...       21.117492   \n",
       "0  {\"cutoff\": \"quantile_0.25\", \"eval_fairness_gro...       21.117492   \n",
       "0  {\"cutoff\": \"quantile_0.25\", \"eval_fairness_gro...       21.117492   \n",
       "\n",
       "   test_size_n  test_size_frac  fair_main_equalized_odds_difference  \\\n",
       "0        89710             1.0                             0.098587   \n",
       "0        89710             1.0                             0.098587   \n",
       "0        89710             1.0                             0.231130   \n",
       "0        89710             1.0                             0.231130   \n",
       "\n",
       "   fair_main_equalized_odds_ratio  fair_main_demographic_parity_difference  \\\n",
       "0                        0.898070                                 0.089599   \n",
       "0                        0.898070                                 0.089599   \n",
       "0                        0.746111                                 0.213240   \n",
       "0                        0.746111                                 0.213240   \n",
       "\n",
       "   fair_main_demographic_parity_ratio  ...  perf_grp_precision_0  \\\n",
       "0                            0.907542  ...                   NaN   \n",
       "0                            0.907542  ...              0.117006   \n",
       "0                            0.766801  ...                   NaN   \n",
       "0                            0.766801  ...              0.119210   \n",
       "\n",
       "   perf_grp_precision_1  perf_grp_false positive rate_0  \\\n",
       "0                   NaN                             NaN   \n",
       "0              0.142864                        0.967202   \n",
       "0                   NaN                             NaN   \n",
       "0              0.159299                        0.910357   \n",
       "\n",
       "   perf_grp_false positive rate_1  perf_grp_false negative rate_0  \\\n",
       "0                             NaN                             NaN   \n",
       "0                        0.868616                        0.016470   \n",
       "0                             NaN                             NaN   \n",
       "0                        0.679227                        0.054476   \n",
       "\n",
       "   perf_grp_false negative rate_1  perf_grp_selection rate_0  \\\n",
       "0                             NaN                        NaN   \n",
       "0                        0.049125                   0.969085   \n",
       "0                             NaN                        NaN   \n",
       "0                        0.154705                   0.914411   \n",
       "\n",
       "   perf_grp_selection rate_1  perf_grp_count_0  perf_grp_count_1  \n",
       "0                        NaN               NaN               NaN  \n",
       "0                   0.879485           20540.0           69170.0  \n",
       "0                        NaN               NaN               NaN  \n",
       "0                   0.701171           20540.0           69170.0  \n",
       "\n",
       "[4 rows x 50 columns]"
      ]
     },
     "execution_count": 64,
     "metadata": {},
     "output_type": "execute_result"
    }
   ],
   "source": [
    "final_output = universe_analysis.generate_final_output(\n",
    "    y_pred_prob=probs_test,\n",
    "    y_test=y_true,\n",
    "    org_test=org_test,\n",
    "    filter_data=filter_sub_universe_data,\n",
    "    cp_metrics_df=cp_metrics_df,\n",
    "    save=True,\n",
    ")\n",
    "final_output"
   ]
  },
  {
   "cell_type": "code",
   "execution_count": null,
   "id": "8b80a1ff",
   "metadata": {
    "papermill": {
     "duration": 0.01557,
     "end_time": "2025-08-19T18:36:04.506973",
     "exception": false,
     "start_time": "2025-08-19T18:36:04.491403",
     "status": "completed"
    },
    "tags": []
   },
   "outputs": [],
   "source": []
  },
  {
   "cell_type": "code",
   "execution_count": null,
   "id": "275c9fad",
   "metadata": {
    "papermill": {
     "duration": 0.014724,
     "end_time": "2025-08-19T18:36:04.537090",
     "exception": false,
     "start_time": "2025-08-19T18:36:04.522366",
     "status": "completed"
    },
    "tags": []
   },
   "outputs": [],
   "source": []
  }
 ],
 "metadata": {
  "celltoolbar": "Tags",
  "kernelspec": {
   "display_name": "Python (CMA Fairness)",
   "language": "python",
   "name": "cma_fair_env"
  },
  "language_info": {
   "codemirror_mode": {
    "name": "ipython",
    "version": 3
   },
   "file_extension": ".py",
   "mimetype": "text/x-python",
   "name": "python",
   "nbconvert_exporter": "python",
   "pygments_lexer": "ipython3",
   "version": "3.10.12"
  },
  "papermill": {
   "default_parameters": {},
   "duration": 31.476868,
   "end_time": "2025-08-19T18:36:05.374827",
   "environment_variables": {},
   "exception": null,
   "input_path": "universe_analysis.ipynb",
   "output_path": "output/runs/3/notebooks/m_3-d4512715744f75f3fb9c981dd126ba0c.ipynb",
   "parameters": {
    "output_dir": "output",
    "run_no": "3",
    "seed": "2023",
    "universe": "{\"cutoff\": [\"quantile_0.1\", \"quantile_0.25\"], \"eval_fairness_grouping\": [\"majority-minority\", \"nationality-all\"], \"exclude_features\": \"age\", \"exclude_subgroups\": \"drop-non-german\", \"model\": \"logreg\", \"scale\": \"do-not-scale\", \"training_size\": \"5k\", \"training_year\": \"2012_14\"}",
    "universe_id": "d4512715744f75f3fb9c981dd126ba0c"
   },
   "start_time": "2025-08-19T18:35:33.897959",
   "version": "2.6.0"
  }
 },
 "nbformat": 4,
 "nbformat_minor": 5
}