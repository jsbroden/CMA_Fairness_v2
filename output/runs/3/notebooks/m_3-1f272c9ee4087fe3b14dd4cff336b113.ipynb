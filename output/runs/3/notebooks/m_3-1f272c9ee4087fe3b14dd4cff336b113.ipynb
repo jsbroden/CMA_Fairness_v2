{
 "cells": [
  {
   "cell_type": "markdown",
   "id": "ef23dbb3",
   "metadata": {
    "papermill": {
     "duration": 0.100626,
     "end_time": "2025-08-19T19:07:31.436242",
     "exception": false,
     "start_time": "2025-08-19T19:07:31.335616",
     "status": "completed"
    },
    "tags": []
   },
   "source": [
    "# Setup"
   ]
  },
  {
   "cell_type": "code",
   "execution_count": 1,
   "id": "0bc8e7dc",
   "metadata": {
    "execution": {
     "iopub.execute_input": "2025-08-19T19:07:31.456692Z",
     "iopub.status.busy": "2025-08-19T19:07:31.455963Z",
     "iopub.status.idle": "2025-08-19T19:07:31.468455Z",
     "shell.execute_reply": "2025-08-19T19:07:31.467651Z"
    },
    "papermill": {
     "duration": 0.024778,
     "end_time": "2025-08-19T19:07:31.469987",
     "exception": false,
     "start_time": "2025-08-19T19:07:31.445209",
     "status": "completed"
    },
    "tags": []
   },
   "outputs": [
    {
     "name": "stdout",
     "output_type": "stream",
     "text": [
      "/dss/dsshome1/0C/ra93lal2/cma/CMA_Fairness_v2\n"
     ]
    },
    {
     "name": "stderr",
     "output_type": "stream",
     "text": [
      "/dss/dsshome1/0C/ra93lal2/.local/share/virtualenvs/CMA_Fairness_v2-3j10GkSs/lib/python3.10/site-packages/IPython/core/magics/osm.py:393: UserWarning: This is now an optional IPython functionality, using bookmarks requires you to install the `pickleshare` library.\n",
      "  bkms = self.shell.db.get('bookmarks', {})\n",
      "/dss/dsshome1/0C/ra93lal2/.local/share/virtualenvs/CMA_Fairness_v2-3j10GkSs/lib/python3.10/site-packages/IPython/core/magics/osm.py:417: UserWarning: This is now an optional IPython functionality, setting dhist requires you to install the `pickleshare` library.\n",
      "  self.shell.db['dhist'] = compress_dhist(dhist)[-100:]\n"
     ]
    }
   ],
   "source": [
    "%cd ~/cma/CMA_Fairness_v2"
   ]
  },
  {
   "cell_type": "markdown",
   "id": "9d235661",
   "metadata": {
    "papermill": {
     "duration": 0.009282,
     "end_time": "2025-08-19T19:07:31.488384",
     "exception": false,
     "start_time": "2025-08-19T19:07:31.479102",
     "status": "completed"
    },
    "tags": []
   },
   "source": [
    "The following cell holds the definition of our parameters, these values can be overriden by rendering the with e.g. the following command:\n",
    "\n",
    "papermill -p alpha 0.2 -p ratio 0.3 universe_analysis.ipynb output/test_run.ipynb"
   ]
  },
  {
   "cell_type": "code",
   "execution_count": 2,
   "id": "4a789d8e",
   "metadata": {
    "execution": {
     "iopub.execute_input": "2025-08-19T19:07:31.508598Z",
     "iopub.status.busy": "2025-08-19T19:07:31.507857Z",
     "iopub.status.idle": "2025-08-19T19:07:31.512772Z",
     "shell.execute_reply": "2025-08-19T19:07:31.511913Z"
    },
    "papermill": {
     "duration": 0.016946,
     "end_time": "2025-08-19T19:07:31.514084",
     "exception": false,
     "start_time": "2025-08-19T19:07:31.497138",
     "status": "completed"
    },
    "tags": []
   },
   "outputs": [
    {
     "name": "stdout",
     "output_type": "stream",
     "text": [
      "Current working directory: /dss/dsshome1/0C/ra93lal2/cma/CMA_Fairness_v2\n"
     ]
    }
   ],
   "source": [
    "import os\n",
    "print(\"Current working directory:\", os.getcwd())"
   ]
  },
  {
   "cell_type": "code",
   "execution_count": 3,
   "id": "4132aaed",
   "metadata": {
    "execution": {
     "iopub.execute_input": "2025-08-19T19:07:31.533653Z",
     "iopub.status.busy": "2025-08-19T19:07:31.533250Z",
     "iopub.status.idle": "2025-08-19T19:07:31.539245Z",
     "shell.execute_reply": "2025-08-19T19:07:31.538272Z"
    },
    "papermill": {
     "duration": 0.01915,
     "end_time": "2025-08-19T19:07:31.542139",
     "exception": false,
     "start_time": "2025-08-19T19:07:31.522989",
     "status": "completed"
    },
    "tags": [
     "parameters"
    ]
   },
   "outputs": [],
   "source": [
    "run_no = 0\n",
    "universe_id = \"test\"\n",
    "universe = {\n",
    "    \"training_size\": \"5k\", # \"25k\", \"5k\", \"1k\"\n",
    "    \"training_year\": \"2012_14\", # \"2014\", \"2012_14\", \"2010_14\"\n",
    "    \"scale\": \"scale\", # \"scale\", \"do-not-scale\",\n",
    "    \"model\": \"elasticnet\", # \"logreg\", \"penalized_logreg\", \"rf\", \"gbm\", \"elasticnet\"\n",
    "    \"cutoff\": [\"quantile_0.15\", \"quantile_0.30\"],\n",
    "    \"exclude_features\": \"age\", # \"none\", \"nationality\", \"sex\", \"nationality-sex\", \"age\"\n",
    "    \"exclude_subgroups\": \"drop-non-german\", # \"keep-all\", \"drop-non-german\"\n",
    "    \"eval_fairness_grouping\": [\"majority-minority\", \"nationality-all\"]\n",
    "}\n",
    "\n",
    "output_dir=\"./output\"\n",
    "seed=0"
   ]
  },
  {
   "cell_type": "code",
   "execution_count": 4,
   "id": "5e6bb0f8",
   "metadata": {
    "execution": {
     "iopub.execute_input": "2025-08-19T19:07:31.561641Z",
     "iopub.status.busy": "2025-08-19T19:07:31.561190Z",
     "iopub.status.idle": "2025-08-19T19:07:31.565930Z",
     "shell.execute_reply": "2025-08-19T19:07:31.565111Z"
    },
    "papermill": {
     "duration": 0.016061,
     "end_time": "2025-08-19T19:07:31.567250",
     "exception": false,
     "start_time": "2025-08-19T19:07:31.551189",
     "status": "completed"
    },
    "tags": [
     "injected-parameters"
    ]
   },
   "outputs": [],
   "source": [
    "# Parameters\n",
    "universe_id = \"1f272c9ee4087fe3b14dd4cff336b113\"\n",
    "run_no = \"3\"\n",
    "universe = \"{\\\"cutoff\\\": [\\\"quantile_0.1\\\", \\\"quantile_0.25\\\"], \\\"eval_fairness_grouping\\\": [\\\"majority-minority\\\", \\\"nationality-all\\\"], \\\"exclude_features\\\": \\\"age\\\", \\\"exclude_subgroups\\\": \\\"keep-all\\\", \\\"model\\\": \\\"gbm\\\", \\\"scale\\\": \\\"scale\\\", \\\"training_size\\\": \\\"1k\\\", \\\"training_year\\\": \\\"2010_14\\\"}\"\n",
    "output_dir = \"output\"\n",
    "seed = \"2023\"\n"
   ]
  },
  {
   "cell_type": "code",
   "execution_count": 5,
   "id": "a5d7941f",
   "metadata": {
    "execution": {
     "iopub.execute_input": "2025-08-19T19:07:31.586701Z",
     "iopub.status.busy": "2025-08-19T19:07:31.586252Z",
     "iopub.status.idle": "2025-08-19T19:07:31.590543Z",
     "shell.execute_reply": "2025-08-19T19:07:31.589764Z"
    },
    "papermill": {
     "duration": 0.015572,
     "end_time": "2025-08-19T19:07:31.591927",
     "exception": false,
     "start_time": "2025-08-19T19:07:31.576355",
     "status": "completed"
    },
    "tags": []
   },
   "outputs": [],
   "source": [
    "import json\n",
    "if isinstance(universe, str):\n",
    "    universe = json.loads(universe)"
   ]
  },
  {
   "cell_type": "code",
   "execution_count": 6,
   "id": "7076ccb1",
   "metadata": {
    "execution": {
     "iopub.execute_input": "2025-08-19T19:07:31.611726Z",
     "iopub.status.busy": "2025-08-19T19:07:31.610886Z",
     "iopub.status.idle": "2025-08-19T19:07:31.646814Z",
     "shell.execute_reply": "2025-08-19T19:07:31.645892Z"
    },
    "papermill": {
     "duration": 0.053691,
     "end_time": "2025-08-19T19:07:31.654478",
     "exception": false,
     "start_time": "2025-08-19T19:07:31.600787",
     "status": "completed"
    },
    "tags": []
   },
   "outputs": [],
   "source": [
    "# Auto-reload the custom package\n",
    "%load_ext autoreload\n",
    "%autoreload 1\n",
    "%aimport fairness_multiverse"
   ]
  },
  {
   "cell_type": "code",
   "execution_count": 7,
   "id": "94c8eb93",
   "metadata": {
    "execution": {
     "iopub.execute_input": "2025-08-19T19:07:31.680252Z",
     "iopub.status.busy": "2025-08-19T19:07:31.679792Z",
     "iopub.status.idle": "2025-08-19T19:07:33.432413Z",
     "shell.execute_reply": "2025-08-19T19:07:33.431061Z"
    },
    "papermill": {
     "duration": 1.766416,
     "end_time": "2025-08-19T19:07:33.434491",
     "exception": false,
     "start_time": "2025-08-19T19:07:31.668075",
     "status": "completed"
    },
    "tags": []
   },
   "outputs": [],
   "source": [
    "from fairness_multiverse.universe import UniverseAnalysis\n",
    "\n",
    "universe_analysis = UniverseAnalysis(\n",
    "    run_no = run_no,\n",
    "    universe_id = universe_id,\n",
    "    universe = universe,\n",
    "    output_dir=output_dir,\n",
    ")"
   ]
  },
  {
   "cell_type": "code",
   "execution_count": 8,
   "id": "2a6381cf",
   "metadata": {
    "execution": {
     "iopub.execute_input": "2025-08-19T19:07:33.465515Z",
     "iopub.status.busy": "2025-08-19T19:07:33.464961Z",
     "iopub.status.idle": "2025-08-19T19:07:33.472741Z",
     "shell.execute_reply": "2025-08-19T19:07:33.472031Z"
    },
    "papermill": {
     "duration": 0.028855,
     "end_time": "2025-08-19T19:07:33.475271",
     "exception": false,
     "start_time": "2025-08-19T19:07:33.446416",
     "status": "completed"
    },
    "tags": []
   },
   "outputs": [
    {
     "name": "stdout",
     "output_type": "stream",
     "text": [
      "Using Seed: 2023\n"
     ]
    }
   ],
   "source": [
    "import numpy as np\n",
    "parsed_seed = int(seed)\n",
    "np.random.seed(parsed_seed)\n",
    "print(f\"Using Seed: {parsed_seed}\")"
   ]
  },
  {
   "cell_type": "markdown",
   "id": "b6e958b4",
   "metadata": {
    "papermill": {
     "duration": 0.010447,
     "end_time": "2025-08-19T19:07:33.495543",
     "exception": false,
     "start_time": "2025-08-19T19:07:33.485096",
     "status": "completed"
    },
    "tags": []
   },
   "source": [
    "# Loading Data"
   ]
  },
  {
   "cell_type": "code",
   "execution_count": 9,
   "id": "98701482",
   "metadata": {
    "execution": {
     "iopub.execute_input": "2025-08-19T19:07:33.515941Z",
     "iopub.status.busy": "2025-08-19T19:07:33.515418Z",
     "iopub.status.idle": "2025-08-19T19:07:43.539501Z",
     "shell.execute_reply": "2025-08-19T19:07:43.538202Z"
    },
    "papermill": {
     "duration": 10.036453,
     "end_time": "2025-08-19T19:07:43.541135",
     "exception": false,
     "start_time": "2025-08-19T19:07:33.504682",
     "status": "completed"
    },
    "tags": []
   },
   "outputs": [
    {
     "name": "stdout",
     "output_type": "stream",
     "text": [
      "Loading SIAB data from cache: data/siab_cached.csv.gz\n"
     ]
    },
    {
     "name": "stdout",
     "output_type": "stream",
     "text": [
      "(643690, 164)\n"
     ]
    }
   ],
   "source": [
    "from pathlib import Path\n",
    "import pandas as pd\n",
    "\n",
    "# File paths\n",
    "raw_file = Path(\"data/raw/siab.csv\")\n",
    "cache_file = Path(\"data/siab_cached.csv.gz\")\n",
    "\n",
    "# Ensure cache directory exists\n",
    "cache_file.parent.mkdir(parents=True, exist_ok=True)\n",
    "\n",
    "# Load with simple caching\n",
    "if cache_file.exists():\n",
    "    print(f\"Loading SIAB data from cache: {cache_file}\")\n",
    "    siab = pd.read_csv(cache_file, compression='gzip')\n",
    "else:\n",
    "    print(f\"Cache not found. Reading raw SIAB data: {raw_file}\")\n",
    "    siab = pd.read_csv(raw_file)\n",
    "    siab.to_csv(cache_file, index=False, compression='gzip')\n",
    "    print(f\"Cached SIAB data to: {cache_file}\")\n",
    "\n",
    "print(siab.shape)"
   ]
  },
  {
   "cell_type": "code",
   "execution_count": 10,
   "id": "058d2abb",
   "metadata": {
    "execution": {
     "iopub.execute_input": "2025-08-19T19:07:43.579327Z",
     "iopub.status.busy": "2025-08-19T19:07:43.578700Z",
     "iopub.status.idle": "2025-08-19T19:07:43.779749Z",
     "shell.execute_reply": "2025-08-19T19:07:43.779043Z"
    },
    "papermill": {
     "duration": 0.221113,
     "end_time": "2025-08-19T19:07:43.781073",
     "exception": false,
     "start_time": "2025-08-19T19:07:43.559960",
     "status": "completed"
    },
    "tags": []
   },
   "outputs": [
    {
     "data": {
      "text/html": [
       "<div>\n",
       "<style scoped>\n",
       "    .dataframe tbody tr th:only-of-type {\n",
       "        vertical-align: middle;\n",
       "    }\n",
       "\n",
       "    .dataframe tbody tr th {\n",
       "        vertical-align: top;\n",
       "    }\n",
       "\n",
       "    .dataframe thead th {\n",
       "        text-align: right;\n",
       "    }\n",
       "</style>\n",
       "<table border=\"1\" class=\"dataframe\">\n",
       "  <thead>\n",
       "    <tr style=\"text-align: right;\">\n",
       "      <th></th>\n",
       "      <th>persnr</th>\n",
       "      <th>year</th>\n",
       "      <th>nrEntry</th>\n",
       "      <th>ltue</th>\n",
       "      <th>employed_before</th>\n",
       "      <th>receipt_leh_before</th>\n",
       "      <th>receipt_lhg_before</th>\n",
       "      <th>se_before</th>\n",
       "      <th>ASU_notue_seeking_before</th>\n",
       "      <th>ASU_other_before</th>\n",
       "      <th>...</th>\n",
       "      <th>minijob_tot_dur_byage</th>\n",
       "      <th>ft_tot_dur_byage</th>\n",
       "      <th>befrist_tot_dur_byage</th>\n",
       "      <th>leih_tot_dur_byage</th>\n",
       "      <th>LHG_tot_dur_byage</th>\n",
       "      <th>LEH_tot_dur_byage</th>\n",
       "      <th>almp_tot_dur_byage</th>\n",
       "      <th>almp_aw_tot_dur_byage</th>\n",
       "      <th>se_tot_dur_byage</th>\n",
       "      <th>seeking1_tot_dur_byage</th>\n",
       "    </tr>\n",
       "  </thead>\n",
       "  <tbody>\n",
       "    <tr>\n",
       "      <th>0</th>\n",
       "      <td>7</td>\n",
       "      <td>2015</td>\n",
       "      <td>1</td>\n",
       "      <td>0</td>\n",
       "      <td>1</td>\n",
       "      <td>0</td>\n",
       "      <td>0</td>\n",
       "      <td>0</td>\n",
       "      <td>1</td>\n",
       "      <td>0</td>\n",
       "      <td>...</td>\n",
       "      <td>0.000000</td>\n",
       "      <td>0.000000</td>\n",
       "      <td>15.043478</td>\n",
       "      <td>0.000000</td>\n",
       "      <td>0.000000</td>\n",
       "      <td>0.000000</td>\n",
       "      <td>0.000000</td>\n",
       "      <td>0.000000</td>\n",
       "      <td>0.000000</td>\n",
       "      <td>0.000000</td>\n",
       "    </tr>\n",
       "    <tr>\n",
       "      <th>1</th>\n",
       "      <td>18</td>\n",
       "      <td>2010</td>\n",
       "      <td>1</td>\n",
       "      <td>1</td>\n",
       "      <td>0</td>\n",
       "      <td>0</td>\n",
       "      <td>0</td>\n",
       "      <td>0</td>\n",
       "      <td>0</td>\n",
       "      <td>0</td>\n",
       "      <td>...</td>\n",
       "      <td>0.000000</td>\n",
       "      <td>0.000000</td>\n",
       "      <td>0.000000</td>\n",
       "      <td>0.000000</td>\n",
       "      <td>0.000000</td>\n",
       "      <td>0.000000</td>\n",
       "      <td>0.000000</td>\n",
       "      <td>0.000000</td>\n",
       "      <td>0.000000</td>\n",
       "      <td>0.000000</td>\n",
       "    </tr>\n",
       "    <tr>\n",
       "      <th>2</th>\n",
       "      <td>18</td>\n",
       "      <td>2011</td>\n",
       "      <td>2</td>\n",
       "      <td>0</td>\n",
       "      <td>1</td>\n",
       "      <td>0</td>\n",
       "      <td>1</td>\n",
       "      <td>0</td>\n",
       "      <td>1</td>\n",
       "      <td>0</td>\n",
       "      <td>...</td>\n",
       "      <td>2.714286</td>\n",
       "      <td>2.714286</td>\n",
       "      <td>0.000000</td>\n",
       "      <td>0.000000</td>\n",
       "      <td>10.775510</td>\n",
       "      <td>0.000000</td>\n",
       "      <td>8.367347</td>\n",
       "      <td>0.000000</td>\n",
       "      <td>0.000000</td>\n",
       "      <td>9.836735</td>\n",
       "    </tr>\n",
       "    <tr>\n",
       "      <th>3</th>\n",
       "      <td>18</td>\n",
       "      <td>2012</td>\n",
       "      <td>3</td>\n",
       "      <td>0</td>\n",
       "      <td>1</td>\n",
       "      <td>0</td>\n",
       "      <td>1</td>\n",
       "      <td>0</td>\n",
       "      <td>1</td>\n",
       "      <td>0</td>\n",
       "      <td>...</td>\n",
       "      <td>4.200000</td>\n",
       "      <td>4.200000</td>\n",
       "      <td>0.000000</td>\n",
       "      <td>0.000000</td>\n",
       "      <td>12.100000</td>\n",
       "      <td>0.000000</td>\n",
       "      <td>9.400000</td>\n",
       "      <td>0.000000</td>\n",
       "      <td>0.000000</td>\n",
       "      <td>9.960000</td>\n",
       "    </tr>\n",
       "    <tr>\n",
       "      <th>4</th>\n",
       "      <td>18</td>\n",
       "      <td>2012</td>\n",
       "      <td>4</td>\n",
       "      <td>0</td>\n",
       "      <td>1</td>\n",
       "      <td>0</td>\n",
       "      <td>1</td>\n",
       "      <td>0</td>\n",
       "      <td>1</td>\n",
       "      <td>0</td>\n",
       "      <td>...</td>\n",
       "      <td>5.460000</td>\n",
       "      <td>5.460000</td>\n",
       "      <td>0.000000</td>\n",
       "      <td>0.000000</td>\n",
       "      <td>13.360000</td>\n",
       "      <td>0.000000</td>\n",
       "      <td>10.320000</td>\n",
       "      <td>0.000000</td>\n",
       "      <td>0.000000</td>\n",
       "      <td>10.280000</td>\n",
       "    </tr>\n",
       "    <tr>\n",
       "      <th>...</th>\n",
       "      <td>...</td>\n",
       "      <td>...</td>\n",
       "      <td>...</td>\n",
       "      <td>...</td>\n",
       "      <td>...</td>\n",
       "      <td>...</td>\n",
       "      <td>...</td>\n",
       "      <td>...</td>\n",
       "      <td>...</td>\n",
       "      <td>...</td>\n",
       "      <td>...</td>\n",
       "      <td>...</td>\n",
       "      <td>...</td>\n",
       "      <td>...</td>\n",
       "      <td>...</td>\n",
       "      <td>...</td>\n",
       "      <td>...</td>\n",
       "      <td>...</td>\n",
       "      <td>...</td>\n",
       "      <td>...</td>\n",
       "      <td>...</td>\n",
       "    </tr>\n",
       "    <tr>\n",
       "      <th>643685</th>\n",
       "      <td>1827860</td>\n",
       "      <td>2013</td>\n",
       "      <td>1</td>\n",
       "      <td>0</td>\n",
       "      <td>0</td>\n",
       "      <td>0</td>\n",
       "      <td>1</td>\n",
       "      <td>0</td>\n",
       "      <td>0</td>\n",
       "      <td>1</td>\n",
       "      <td>...</td>\n",
       "      <td>0.000000</td>\n",
       "      <td>0.000000</td>\n",
       "      <td>0.000000</td>\n",
       "      <td>0.000000</td>\n",
       "      <td>0.612903</td>\n",
       "      <td>0.000000</td>\n",
       "      <td>0.000000</td>\n",
       "      <td>0.000000</td>\n",
       "      <td>0.000000</td>\n",
       "      <td>0.000000</td>\n",
       "    </tr>\n",
       "    <tr>\n",
       "      <th>643686</th>\n",
       "      <td>1827860</td>\n",
       "      <td>2015</td>\n",
       "      <td>2</td>\n",
       "      <td>1</td>\n",
       "      <td>0</td>\n",
       "      <td>0</td>\n",
       "      <td>1</td>\n",
       "      <td>0</td>\n",
       "      <td>1</td>\n",
       "      <td>0</td>\n",
       "      <td>...</td>\n",
       "      <td>0.000000</td>\n",
       "      <td>0.000000</td>\n",
       "      <td>0.212121</td>\n",
       "      <td>0.212121</td>\n",
       "      <td>17.363636</td>\n",
       "      <td>0.000000</td>\n",
       "      <td>8.909091</td>\n",
       "      <td>0.000000</td>\n",
       "      <td>0.000000</td>\n",
       "      <td>7.121212</td>\n",
       "    </tr>\n",
       "    <tr>\n",
       "      <th>643687</th>\n",
       "      <td>1827860</td>\n",
       "      <td>2016</td>\n",
       "      <td>3</td>\n",
       "      <td>1</td>\n",
       "      <td>0</td>\n",
       "      <td>0</td>\n",
       "      <td>1</td>\n",
       "      <td>1</td>\n",
       "      <td>0</td>\n",
       "      <td>1</td>\n",
       "      <td>...</td>\n",
       "      <td>0.000000</td>\n",
       "      <td>0.000000</td>\n",
       "      <td>0.294118</td>\n",
       "      <td>0.205882</td>\n",
       "      <td>34.705882</td>\n",
       "      <td>0.000000</td>\n",
       "      <td>10.352941</td>\n",
       "      <td>1.705882</td>\n",
       "      <td>1.705882</td>\n",
       "      <td>23.911765</td>\n",
       "    </tr>\n",
       "    <tr>\n",
       "      <th>643688</th>\n",
       "      <td>1827869</td>\n",
       "      <td>2013</td>\n",
       "      <td>1</td>\n",
       "      <td>1</td>\n",
       "      <td>1</td>\n",
       "      <td>0</td>\n",
       "      <td>0</td>\n",
       "      <td>0</td>\n",
       "      <td>1</td>\n",
       "      <td>0</td>\n",
       "      <td>...</td>\n",
       "      <td>0.000000</td>\n",
       "      <td>0.000000</td>\n",
       "      <td>0.000000</td>\n",
       "      <td>0.000000</td>\n",
       "      <td>0.000000</td>\n",
       "      <td>0.525424</td>\n",
       "      <td>0.000000</td>\n",
       "      <td>0.000000</td>\n",
       "      <td>0.000000</td>\n",
       "      <td>0.000000</td>\n",
       "    </tr>\n",
       "    <tr>\n",
       "      <th>643689</th>\n",
       "      <td>1827869</td>\n",
       "      <td>2014</td>\n",
       "      <td>2</td>\n",
       "      <td>0</td>\n",
       "      <td>0</td>\n",
       "      <td>1</td>\n",
       "      <td>0</td>\n",
       "      <td>0</td>\n",
       "      <td>1</td>\n",
       "      <td>0</td>\n",
       "      <td>...</td>\n",
       "      <td>0.000000</td>\n",
       "      <td>0.666667</td>\n",
       "      <td>0.666667</td>\n",
       "      <td>0.000000</td>\n",
       "      <td>0.000000</td>\n",
       "      <td>8.950000</td>\n",
       "      <td>1.033333</td>\n",
       "      <td>0.083333</td>\n",
       "      <td>0.083333</td>\n",
       "      <td>8.133333</td>\n",
       "    </tr>\n",
       "  </tbody>\n",
       "</table>\n",
       "<p>643690 rows × 164 columns</p>\n",
       "</div>"
      ],
      "text/plain": [
       "         persnr  year  nrEntry  ltue  employed_before  receipt_leh_before  \\\n",
       "0             7  2015        1     0                1                   0   \n",
       "1            18  2010        1     1                0                   0   \n",
       "2            18  2011        2     0                1                   0   \n",
       "3            18  2012        3     0                1                   0   \n",
       "4            18  2012        4     0                1                   0   \n",
       "...         ...   ...      ...   ...              ...                 ...   \n",
       "643685  1827860  2013        1     0                0                   0   \n",
       "643686  1827860  2015        2     1                0                   0   \n",
       "643687  1827860  2016        3     1                0                   0   \n",
       "643688  1827869  2013        1     1                1                   0   \n",
       "643689  1827869  2014        2     0                0                   1   \n",
       "\n",
       "        receipt_lhg_before  se_before  ASU_notue_seeking_before  \\\n",
       "0                        0          0                         1   \n",
       "1                        0          0                         0   \n",
       "2                        1          0                         1   \n",
       "3                        1          0                         1   \n",
       "4                        1          0                         1   \n",
       "...                    ...        ...                       ...   \n",
       "643685                   1          0                         0   \n",
       "643686                   1          0                         1   \n",
       "643687                   1          1                         0   \n",
       "643688                   0          0                         1   \n",
       "643689                   0          0                         1   \n",
       "\n",
       "        ASU_other_before  ...  minijob_tot_dur_byage  ft_tot_dur_byage  \\\n",
       "0                      0  ...               0.000000          0.000000   \n",
       "1                      0  ...               0.000000          0.000000   \n",
       "2                      0  ...               2.714286          2.714286   \n",
       "3                      0  ...               4.200000          4.200000   \n",
       "4                      0  ...               5.460000          5.460000   \n",
       "...                  ...  ...                    ...               ...   \n",
       "643685                 1  ...               0.000000          0.000000   \n",
       "643686                 0  ...               0.000000          0.000000   \n",
       "643687                 1  ...               0.000000          0.000000   \n",
       "643688                 0  ...               0.000000          0.000000   \n",
       "643689                 0  ...               0.000000          0.666667   \n",
       "\n",
       "        befrist_tot_dur_byage  leih_tot_dur_byage  LHG_tot_dur_byage  \\\n",
       "0                   15.043478            0.000000           0.000000   \n",
       "1                    0.000000            0.000000           0.000000   \n",
       "2                    0.000000            0.000000          10.775510   \n",
       "3                    0.000000            0.000000          12.100000   \n",
       "4                    0.000000            0.000000          13.360000   \n",
       "...                       ...                 ...                ...   \n",
       "643685               0.000000            0.000000           0.612903   \n",
       "643686               0.212121            0.212121          17.363636   \n",
       "643687               0.294118            0.205882          34.705882   \n",
       "643688               0.000000            0.000000           0.000000   \n",
       "643689               0.666667            0.000000           0.000000   \n",
       "\n",
       "        LEH_tot_dur_byage  almp_tot_dur_byage  almp_aw_tot_dur_byage  \\\n",
       "0                0.000000            0.000000               0.000000   \n",
       "1                0.000000            0.000000               0.000000   \n",
       "2                0.000000            8.367347               0.000000   \n",
       "3                0.000000            9.400000               0.000000   \n",
       "4                0.000000           10.320000               0.000000   \n",
       "...                   ...                 ...                    ...   \n",
       "643685           0.000000            0.000000               0.000000   \n",
       "643686           0.000000            8.909091               0.000000   \n",
       "643687           0.000000           10.352941               1.705882   \n",
       "643688           0.525424            0.000000               0.000000   \n",
       "643689           8.950000            1.033333               0.083333   \n",
       "\n",
       "        se_tot_dur_byage  seeking1_tot_dur_byage  \n",
       "0               0.000000                0.000000  \n",
       "1               0.000000                0.000000  \n",
       "2               0.000000                9.836735  \n",
       "3               0.000000                9.960000  \n",
       "4               0.000000               10.280000  \n",
       "...                  ...                     ...  \n",
       "643685          0.000000                0.000000  \n",
       "643686          0.000000                7.121212  \n",
       "643687          1.705882               23.911765  \n",
       "643688          0.000000                0.000000  \n",
       "643689          0.083333                8.133333  \n",
       "\n",
       "[643690 rows x 164 columns]"
      ]
     },
     "execution_count": 10,
     "metadata": {},
     "output_type": "execute_result"
    }
   ],
   "source": [
    "siab"
   ]
  },
  {
   "cell_type": "markdown",
   "id": "1f87e805",
   "metadata": {
    "papermill": {
     "duration": 0.012292,
     "end_time": "2025-08-19T19:07:43.806433",
     "exception": false,
     "start_time": "2025-08-19T19:07:43.794141",
     "status": "completed"
    },
    "tags": []
   },
   "source": [
    "# Splitting Data and Setting Training Data Size"
   ]
  },
  {
   "cell_type": "code",
   "execution_count": 11,
   "id": "910ae358",
   "metadata": {
    "execution": {
     "iopub.execute_input": "2025-08-19T19:07:43.829496Z",
     "iopub.status.busy": "2025-08-19T19:07:43.829005Z",
     "iopub.status.idle": "2025-08-19T19:07:44.874282Z",
     "shell.execute_reply": "2025-08-19T19:07:44.873597Z"
    },
    "papermill": {
     "duration": 1.059994,
     "end_time": "2025-08-19T19:07:44.877174",
     "exception": false,
     "start_time": "2025-08-19T19:07:43.817180",
     "status": "completed"
    },
    "tags": []
   },
   "outputs": [],
   "source": [
    "from fairness_multiverse.universe import sample_by_year_size\n",
    "\n",
    "siab_train = sample_by_year_size(siab,\n",
    "                               training_year=universe[\"training_year\"],\n",
    "                               training_size=universe[\"training_size\"])"
   ]
  },
  {
   "cell_type": "code",
   "execution_count": 12,
   "id": "919c8ff5",
   "metadata": {
    "execution": {
     "iopub.execute_input": "2025-08-19T19:07:44.916531Z",
     "iopub.status.busy": "2025-08-19T19:07:44.915302Z",
     "iopub.status.idle": "2025-08-19T19:07:44.929070Z",
     "shell.execute_reply": "2025-08-19T19:07:44.927390Z"
    },
    "papermill": {
     "duration": 0.030603,
     "end_time": "2025-08-19T19:07:44.931442",
     "exception": false,
     "start_time": "2025-08-19T19:07:44.900839",
     "status": "completed"
    },
    "tags": []
   },
   "outputs": [
    {
     "data": {
      "text/plain": [
       "(1000, 164)"
      ]
     },
     "execution_count": 12,
     "metadata": {},
     "output_type": "execute_result"
    }
   ],
   "source": [
    "siab_train.shape"
   ]
  },
  {
   "cell_type": "code",
   "execution_count": 13,
   "id": "feb13bf4",
   "metadata": {
    "execution": {
     "iopub.execute_input": "2025-08-19T19:07:44.960259Z",
     "iopub.status.busy": "2025-08-19T19:07:44.959044Z",
     "iopub.status.idle": "2025-08-19T19:07:44.975024Z",
     "shell.execute_reply": "2025-08-19T19:07:44.973839Z"
    },
    "papermill": {
     "duration": 0.031006,
     "end_time": "2025-08-19T19:07:44.977147",
     "exception": false,
     "start_time": "2025-08-19T19:07:44.946141",
     "status": "completed"
    },
    "tags": []
   },
   "outputs": [
    {
     "data": {
      "text/plain": [
       "year\n",
       "2010    200\n",
       "2011    200\n",
       "2012    200\n",
       "2013    200\n",
       "2014    200\n",
       "dtype: int64"
      ]
     },
     "metadata": {},
     "output_type": "display_data"
    }
   ],
   "source": [
    "display(siab_train.groupby(\"year\").size())"
   ]
  },
  {
   "cell_type": "code",
   "execution_count": 14,
   "id": "0997782f",
   "metadata": {
    "execution": {
     "iopub.execute_input": "2025-08-19T19:07:45.009255Z",
     "iopub.status.busy": "2025-08-19T19:07:45.007874Z",
     "iopub.status.idle": "2025-08-19T19:07:45.400575Z",
     "shell.execute_reply": "2025-08-19T19:07:45.399832Z"
    },
    "papermill": {
     "duration": 0.410325,
     "end_time": "2025-08-19T19:07:45.403501",
     "exception": false,
     "start_time": "2025-08-19T19:07:44.993176",
     "status": "completed"
    },
    "tags": []
   },
   "outputs": [],
   "source": [
    "#siab_train = siab_s[siab_s.year < 2015]\n",
    "siab_calib = siab[siab.year == 2015]\n",
    "siab_test = siab[siab.year == 2016]"
   ]
  },
  {
   "cell_type": "code",
   "execution_count": 15,
   "id": "2c1e4012",
   "metadata": {
    "execution": {
     "iopub.execute_input": "2025-08-19T19:07:45.444208Z",
     "iopub.status.busy": "2025-08-19T19:07:45.443005Z",
     "iopub.status.idle": "2025-08-19T19:07:45.453118Z",
     "shell.execute_reply": "2025-08-19T19:07:45.451018Z"
    },
    "papermill": {
     "duration": 0.027237,
     "end_time": "2025-08-19T19:07:45.455304",
     "exception": false,
     "start_time": "2025-08-19T19:07:45.428067",
     "status": "completed"
    },
    "tags": []
   },
   "outputs": [],
   "source": [
    "#siab_calib.shape"
   ]
  },
  {
   "cell_type": "code",
   "execution_count": 16,
   "id": "f66b54ca",
   "metadata": {
    "execution": {
     "iopub.execute_input": "2025-08-19T19:07:45.485224Z",
     "iopub.status.busy": "2025-08-19T19:07:45.483709Z",
     "iopub.status.idle": "2025-08-19T19:07:45.493218Z",
     "shell.execute_reply": "2025-08-19T19:07:45.491324Z"
    },
    "papermill": {
     "duration": 0.024267,
     "end_time": "2025-08-19T19:07:45.494955",
     "exception": false,
     "start_time": "2025-08-19T19:07:45.470688",
     "status": "completed"
    },
    "tags": []
   },
   "outputs": [],
   "source": [
    "#siab_test.shape"
   ]
  },
  {
   "cell_type": "code",
   "execution_count": 17,
   "id": "27e4384d",
   "metadata": {
    "execution": {
     "iopub.execute_input": "2025-08-19T19:07:45.543497Z",
     "iopub.status.busy": "2025-08-19T19:07:45.542913Z",
     "iopub.status.idle": "2025-08-19T19:07:45.549833Z",
     "shell.execute_reply": "2025-08-19T19:07:45.549041Z"
    },
    "papermill": {
     "duration": 0.035636,
     "end_time": "2025-08-19T19:07:45.551422",
     "exception": false,
     "start_time": "2025-08-19T19:07:45.515786",
     "status": "completed"
    },
    "tags": []
   },
   "outputs": [],
   "source": [
    "X_train = siab_train.iloc[:,4:164]\n",
    "y_train = siab_train.iloc[:, [3]]"
   ]
  },
  {
   "cell_type": "code",
   "execution_count": 18,
   "id": "08ee8389",
   "metadata": {
    "execution": {
     "iopub.execute_input": "2025-08-19T19:07:45.588219Z",
     "iopub.status.busy": "2025-08-19T19:07:45.587668Z",
     "iopub.status.idle": "2025-08-19T19:07:45.640332Z",
     "shell.execute_reply": "2025-08-19T19:07:45.639067Z"
    },
    "papermill": {
     "duration": 0.074298,
     "end_time": "2025-08-19T19:07:45.643619",
     "exception": false,
     "start_time": "2025-08-19T19:07:45.569321",
     "status": "completed"
    },
    "tags": []
   },
   "outputs": [],
   "source": [
    "X_calib = siab_calib.iloc[:,4:164]\n",
    "y_calib = siab_calib.iloc[:, [3]]"
   ]
  },
  {
   "cell_type": "code",
   "execution_count": 19,
   "id": "b7ff42e0",
   "metadata": {
    "execution": {
     "iopub.execute_input": "2025-08-19T19:07:45.675543Z",
     "iopub.status.busy": "2025-08-19T19:07:45.672424Z",
     "iopub.status.idle": "2025-08-19T19:07:45.738685Z",
     "shell.execute_reply": "2025-08-19T19:07:45.737990Z"
    },
    "papermill": {
     "duration": 0.081424,
     "end_time": "2025-08-19T19:07:45.740420",
     "exception": false,
     "start_time": "2025-08-19T19:07:45.658996",
     "status": "completed"
    },
    "tags": []
   },
   "outputs": [],
   "source": [
    "X_test = siab_test.iloc[:,4:164]\n",
    "y_true = siab_test.iloc[:, [3]]"
   ]
  },
  {
   "cell_type": "code",
   "execution_count": 20,
   "id": "0275101e",
   "metadata": {
    "execution": {
     "iopub.execute_input": "2025-08-19T19:07:45.765306Z",
     "iopub.status.busy": "2025-08-19T19:07:45.764520Z",
     "iopub.status.idle": "2025-08-19T19:07:45.948815Z",
     "shell.execute_reply": "2025-08-19T19:07:45.947568Z"
    },
    "papermill": {
     "duration": 0.200457,
     "end_time": "2025-08-19T19:07:45.952015",
     "exception": false,
     "start_time": "2025-08-19T19:07:45.751558",
     "status": "completed"
    },
    "tags": []
   },
   "outputs": [],
   "source": [
    "# Auxiliary data needed downstream in the pipeline\n",
    "\n",
    "org_train = X_train.copy()\n",
    "org_test = X_test.copy()\n",
    "org_calib = X_calib.copy()"
   ]
  },
  {
   "cell_type": "markdown",
   "id": "b461e618",
   "metadata": {
    "papermill": {
     "duration": 0.010677,
     "end_time": "2025-08-19T19:07:45.989782",
     "exception": false,
     "start_time": "2025-08-19T19:07:45.979105",
     "status": "completed"
    },
    "tags": []
   },
   "source": [
    "# Preprocessing Data"
   ]
  },
  {
   "cell_type": "code",
   "execution_count": 21,
   "id": "78e74c4b",
   "metadata": {
    "execution": {
     "iopub.execute_input": "2025-08-19T19:07:46.013492Z",
     "iopub.status.busy": "2025-08-19T19:07:46.013095Z",
     "iopub.status.idle": "2025-08-19T19:07:46.019069Z",
     "shell.execute_reply": "2025-08-19T19:07:46.018129Z"
    },
    "papermill": {
     "duration": 0.019736,
     "end_time": "2025-08-19T19:07:46.020466",
     "exception": false,
     "start_time": "2025-08-19T19:07:46.000730",
     "status": "completed"
    },
    "tags": []
   },
   "outputs": [],
   "source": [
    "# EXCLUDE PROTECTED FEATURES\n",
    "# --------------------------\n",
    "\n",
    "excluded_features = universe[\"exclude_features\"].split(\"-\")\n",
    "excluded_features_dictionary = {\n",
    "    \"nationality\": [\"maxdeutsch1\", \"maxdeutsch.Missing.\"],\n",
    "    \"sex\": [\"frau1\"],\n",
    "    \"age\": [\"age\"],\n",
    "}"
   ]
  },
  {
   "cell_type": "code",
   "execution_count": 22,
   "id": "f8e63555",
   "metadata": {
    "execution": {
     "iopub.execute_input": "2025-08-19T19:07:46.044383Z",
     "iopub.status.busy": "2025-08-19T19:07:46.043978Z",
     "iopub.status.idle": "2025-08-19T19:07:46.049186Z",
     "shell.execute_reply": "2025-08-19T19:07:46.048348Z"
    },
    "papermill": {
     "duration": 0.018892,
     "end_time": "2025-08-19T19:07:46.050524",
     "exception": false,
     "start_time": "2025-08-19T19:07:46.031632",
     "status": "completed"
    },
    "tags": []
   },
   "outputs": [],
   "source": [
    "excluded_features_columns = [\n",
    "    excluded_features_dictionary[f] for f in excluded_features if len(f) > 0 and f != \"none\"\n",
    "]"
   ]
  },
  {
   "cell_type": "code",
   "execution_count": 23,
   "id": "da781f7c",
   "metadata": {
    "execution": {
     "iopub.execute_input": "2025-08-19T19:07:46.073711Z",
     "iopub.status.busy": "2025-08-19T19:07:46.073235Z",
     "iopub.status.idle": "2025-08-19T19:07:46.082780Z",
     "shell.execute_reply": "2025-08-19T19:07:46.081658Z"
    },
    "papermill": {
     "duration": 0.023673,
     "end_time": "2025-08-19T19:07:46.084566",
     "exception": false,
     "start_time": "2025-08-19T19:07:46.060893",
     "status": "completed"
    },
    "tags": []
   },
   "outputs": [],
   "source": [
    "from fairness_multiverse.universe import flatten_once\n",
    "\n",
    "excluded_features_columns = flatten_once(excluded_features_columns)"
   ]
  },
  {
   "cell_type": "code",
   "execution_count": 24,
   "id": "37fef0f0",
   "metadata": {
    "execution": {
     "iopub.execute_input": "2025-08-19T19:07:46.116715Z",
     "iopub.status.busy": "2025-08-19T19:07:46.115966Z",
     "iopub.status.idle": "2025-08-19T19:07:46.154024Z",
     "shell.execute_reply": "2025-08-19T19:07:46.151917Z"
    },
    "papermill": {
     "duration": 0.058897,
     "end_time": "2025-08-19T19:07:46.156615",
     "exception": false,
     "start_time": "2025-08-19T19:07:46.097718",
     "status": "completed"
    },
    "tags": []
   },
   "outputs": [
    {
     "name": "stdout",
     "output_type": "stream",
     "text": [
      "Dropping features: ['age']\n"
     ]
    }
   ],
   "source": [
    "if len(excluded_features_columns) > 0:\n",
    "    print(f\"Dropping features: {excluded_features_columns}\")\n",
    "    X_train.drop(excluded_features_columns, axis=1, inplace=True)"
   ]
  },
  {
   "cell_type": "code",
   "execution_count": 25,
   "id": "d029e3e9",
   "metadata": {
    "execution": {
     "iopub.execute_input": "2025-08-19T19:07:46.180894Z",
     "iopub.status.busy": "2025-08-19T19:07:46.180451Z",
     "iopub.status.idle": "2025-08-19T19:07:46.423553Z",
     "shell.execute_reply": "2025-08-19T19:07:46.420819Z"
    },
    "papermill": {
     "duration": 0.257925,
     "end_time": "2025-08-19T19:07:46.426225",
     "exception": false,
     "start_time": "2025-08-19T19:07:46.168300",
     "status": "completed"
    },
    "tags": []
   },
   "outputs": [
    {
     "name": "stdout",
     "output_type": "stream",
     "text": [
      "Dropping features: ['age']\n"
     ]
    }
   ],
   "source": [
    "if len(excluded_features_columns) > 0:\n",
    "    print(f\"Dropping features: {excluded_features_columns}\")\n",
    "    X_test.drop(excluded_features_columns, axis=1, inplace=True)"
   ]
  },
  {
   "cell_type": "code",
   "execution_count": 26,
   "id": "01d571f0",
   "metadata": {
    "execution": {
     "iopub.execute_input": "2025-08-19T19:07:46.455701Z",
     "iopub.status.busy": "2025-08-19T19:07:46.455028Z",
     "iopub.status.idle": "2025-08-19T19:07:46.536914Z",
     "shell.execute_reply": "2025-08-19T19:07:46.535880Z"
    },
    "papermill": {
     "duration": 0.096207,
     "end_time": "2025-08-19T19:07:46.538295",
     "exception": false,
     "start_time": "2025-08-19T19:07:46.442088",
     "status": "completed"
    },
    "tags": []
   },
   "outputs": [
    {
     "name": "stdout",
     "output_type": "stream",
     "text": [
      "Dropping features: ['age']\n"
     ]
    }
   ],
   "source": [
    "if len(excluded_features_columns) > 0:\n",
    "    print(f\"Dropping features: {excluded_features_columns}\")\n",
    "    X_calib.drop(excluded_features_columns, axis=1, inplace=True)"
   ]
  },
  {
   "cell_type": "code",
   "execution_count": 27,
   "id": "3037356e",
   "metadata": {
    "execution": {
     "iopub.execute_input": "2025-08-19T19:07:46.566802Z",
     "iopub.status.busy": "2025-08-19T19:07:46.566313Z",
     "iopub.status.idle": "2025-08-19T19:07:46.573390Z",
     "shell.execute_reply": "2025-08-19T19:07:46.571988Z"
    },
    "papermill": {
     "duration": 0.021704,
     "end_time": "2025-08-19T19:07:46.574791",
     "exception": false,
     "start_time": "2025-08-19T19:07:46.553087",
     "status": "completed"
    },
    "tags": []
   },
   "outputs": [],
   "source": [
    "# EXCLUDE CERTAIN SUBGROUPS\n",
    "# -------------------------\n",
    "\n",
    "mode = universe.get(\"exclude_subgroups\", \"keep-all\") # Defaults to \"keep-all\" if the key is missing."
   ]
  },
  {
   "cell_type": "code",
   "execution_count": 28,
   "id": "9d1e63fd",
   "metadata": {
    "execution": {
     "iopub.execute_input": "2025-08-19T19:07:46.605416Z",
     "iopub.status.busy": "2025-08-19T19:07:46.604231Z",
     "iopub.status.idle": "2025-08-19T19:07:46.696645Z",
     "shell.execute_reply": "2025-08-19T19:07:46.695425Z"
    },
    "papermill": {
     "duration": 0.111013,
     "end_time": "2025-08-19T19:07:46.701449",
     "exception": false,
     "start_time": "2025-08-19T19:07:46.590436",
     "status": "completed"
    },
    "tags": []
   },
   "outputs": [],
   "source": [
    "if mode == \"keep-all\":\n",
    "    keep_mask = pd.Series(True, index=org_train.index)\n",
    "\n",
    "elif mode == \"drop-non-german\":\n",
    "    keep_mask = (org_train[\"maxdeutsch1\"] == 1) & (org_train[\"maxdeutsch.Missing.\"] == 0)\n",
    "\n",
    "else:\n",
    "    raise ValueError(f\"Unsupported mode for exclude_subgroups: {mode}\")"
   ]
  },
  {
   "cell_type": "code",
   "execution_count": 29,
   "id": "d3b65474",
   "metadata": {
    "execution": {
     "iopub.execute_input": "2025-08-19T19:07:46.736141Z",
     "iopub.status.busy": "2025-08-19T19:07:46.735622Z",
     "iopub.status.idle": "2025-08-19T19:07:46.743455Z",
     "shell.execute_reply": "2025-08-19T19:07:46.742094Z"
    },
    "papermill": {
     "duration": 0.023743,
     "end_time": "2025-08-19T19:07:46.746376",
     "exception": false,
     "start_time": "2025-08-19T19:07:46.722633",
     "status": "completed"
    },
    "tags": []
   },
   "outputs": [],
   "source": [
    "n_drop = (~keep_mask).sum() # Calculates how many rows are set to be dropped\n",
    "if n_drop > 0:\n",
    "    pct = n_drop / len(keep_mask) * 100\n",
    "    print(f\"Dropping {n_drop} rows ({pct:.2f}%) where mode='{mode}'\")"
   ]
  },
  {
   "cell_type": "code",
   "execution_count": 30,
   "id": "f44389b3",
   "metadata": {
    "execution": {
     "iopub.execute_input": "2025-08-19T19:07:46.787502Z",
     "iopub.status.busy": "2025-08-19T19:07:46.787005Z",
     "iopub.status.idle": "2025-08-19T19:07:46.803732Z",
     "shell.execute_reply": "2025-08-19T19:07:46.802505Z"
    },
    "papermill": {
     "duration": 0.03557,
     "end_time": "2025-08-19T19:07:46.809603",
     "exception": false,
     "start_time": "2025-08-19T19:07:46.774033",
     "status": "completed"
    },
    "tags": []
   },
   "outputs": [],
   "source": [
    "X_train = X_train[keep_mask]"
   ]
  },
  {
   "cell_type": "code",
   "execution_count": 31,
   "id": "ceca8c2a",
   "metadata": {
    "execution": {
     "iopub.execute_input": "2025-08-19T19:07:46.836122Z",
     "iopub.status.busy": "2025-08-19T19:07:46.835648Z",
     "iopub.status.idle": "2025-08-19T19:07:46.844952Z",
     "shell.execute_reply": "2025-08-19T19:07:46.843537Z"
    },
    "papermill": {
     "duration": 0.022839,
     "end_time": "2025-08-19T19:07:46.846246",
     "exception": false,
     "start_time": "2025-08-19T19:07:46.823407",
     "status": "completed"
    },
    "tags": []
   },
   "outputs": [],
   "source": [
    "y_train = y_train[keep_mask]"
   ]
  },
  {
   "cell_type": "markdown",
   "id": "04d31e2f",
   "metadata": {
    "papermill": {
     "duration": 0.011097,
     "end_time": "2025-08-19T19:07:46.872057",
     "exception": false,
     "start_time": "2025-08-19T19:07:46.860960",
     "status": "completed"
    },
    "tags": []
   },
   "source": [
    "# Model Training"
   ]
  },
  {
   "cell_type": "code",
   "execution_count": 32,
   "id": "db991733",
   "metadata": {
    "execution": {
     "iopub.execute_input": "2025-08-19T19:07:46.896284Z",
     "iopub.status.busy": "2025-08-19T19:07:46.895256Z",
     "iopub.status.idle": "2025-08-19T19:07:47.025867Z",
     "shell.execute_reply": "2025-08-19T19:07:47.025060Z"
    },
    "papermill": {
     "duration": 0.145888,
     "end_time": "2025-08-19T19:07:47.028642",
     "exception": false,
     "start_time": "2025-08-19T19:07:46.882754",
     "status": "completed"
    },
    "tags": []
   },
   "outputs": [],
   "source": [
    "from sklearn.linear_model import LogisticRegression\n",
    "from sklearn.ensemble import GradientBoostingClassifier, RandomForestClassifier\n",
    "\n",
    "if (universe[\"model\"] == \"logreg\"):\n",
    "    model = LogisticRegression() #penalty=\"none\", solver=\"newton-cg\", max_iter=1)\n",
    "elif (universe[\"model\"] == \"penalized_logreg\"):\n",
    "    model = LogisticRegression(penalty=\"l2\", C=0.1) #, solver=\"newton-cg\", max_iter=1)\n",
    "elif (universe[\"model\"] == \"rf\"):\n",
    "    model = RandomForestClassifier() # n_estimators=100, n_jobs=-1\n",
    "elif (universe[\"model\"] == \"gbm\"):\n",
    "    model = GradientBoostingClassifier()\n",
    "elif (universe[\"model\"] == \"elasticnet\"):\n",
    "    model = LogisticRegression(penalty = 'elasticnet', solver = 'saga', l1_ratio = 0.5) # max_iter=5000\n",
    "else:\n",
    "    raise \"Unsupported universe.model\""
   ]
  },
  {
   "cell_type": "code",
   "execution_count": 33,
   "id": "a4b5cd25",
   "metadata": {
    "execution": {
     "iopub.execute_input": "2025-08-19T19:07:47.071978Z",
     "iopub.status.busy": "2025-08-19T19:07:47.071067Z",
     "iopub.status.idle": "2025-08-19T19:07:47.083843Z",
     "shell.execute_reply": "2025-08-19T19:07:47.082398Z"
    },
    "papermill": {
     "duration": 0.028991,
     "end_time": "2025-08-19T19:07:47.085833",
     "exception": false,
     "start_time": "2025-08-19T19:07:47.056842",
     "status": "completed"
    },
    "tags": []
   },
   "outputs": [],
   "source": [
    "from sklearn.pipeline import Pipeline\n",
    "from sklearn.preprocessing import StandardScaler\n",
    "\n",
    "model = Pipeline([\n",
    "    #(\"continuous_processor\", continuous_processor),\n",
    "    #(\"categorical_preprocessor\", categorical_preprocessor),\n",
    "    (\"scale\", StandardScaler() if universe[\"scale\"] == \"scale\" else None), \n",
    "    (\"model\", model),\n",
    "])"
   ]
  },
  {
   "cell_type": "code",
   "execution_count": 34,
   "id": "283a904d",
   "metadata": {
    "execution": {
     "iopub.execute_input": "2025-08-19T19:07:47.122609Z",
     "iopub.status.busy": "2025-08-19T19:07:47.122112Z",
     "iopub.status.idle": "2025-08-19T19:07:48.214655Z",
     "shell.execute_reply": "2025-08-19T19:07:48.213571Z"
    },
    "papermill": {
     "duration": 1.115905,
     "end_time": "2025-08-19T19:07:48.216020",
     "exception": false,
     "start_time": "2025-08-19T19:07:47.100115",
     "status": "completed"
    },
    "tags": []
   },
   "outputs": [
    {
     "data": {
      "text/html": [
       "<style>#sk-container-id-1 {color: black;background-color: white;}#sk-container-id-1 pre{padding: 0;}#sk-container-id-1 div.sk-toggleable {background-color: white;}#sk-container-id-1 label.sk-toggleable__label {cursor: pointer;display: block;width: 100%;margin-bottom: 0;padding: 0.3em;box-sizing: border-box;text-align: center;}#sk-container-id-1 label.sk-toggleable__label-arrow:before {content: \"▸\";float: left;margin-right: 0.25em;color: #696969;}#sk-container-id-1 label.sk-toggleable__label-arrow:hover:before {color: black;}#sk-container-id-1 div.sk-estimator:hover label.sk-toggleable__label-arrow:before {color: black;}#sk-container-id-1 div.sk-toggleable__content {max-height: 0;max-width: 0;overflow: hidden;text-align: left;background-color: #f0f8ff;}#sk-container-id-1 div.sk-toggleable__content pre {margin: 0.2em;color: black;border-radius: 0.25em;background-color: #f0f8ff;}#sk-container-id-1 input.sk-toggleable__control:checked~div.sk-toggleable__content {max-height: 200px;max-width: 100%;overflow: auto;}#sk-container-id-1 input.sk-toggleable__control:checked~label.sk-toggleable__label-arrow:before {content: \"▾\";}#sk-container-id-1 div.sk-estimator input.sk-toggleable__control:checked~label.sk-toggleable__label {background-color: #d4ebff;}#sk-container-id-1 div.sk-label input.sk-toggleable__control:checked~label.sk-toggleable__label {background-color: #d4ebff;}#sk-container-id-1 input.sk-hidden--visually {border: 0;clip: rect(1px 1px 1px 1px);clip: rect(1px, 1px, 1px, 1px);height: 1px;margin: -1px;overflow: hidden;padding: 0;position: absolute;width: 1px;}#sk-container-id-1 div.sk-estimator {font-family: monospace;background-color: #f0f8ff;border: 1px dotted black;border-radius: 0.25em;box-sizing: border-box;margin-bottom: 0.5em;}#sk-container-id-1 div.sk-estimator:hover {background-color: #d4ebff;}#sk-container-id-1 div.sk-parallel-item::after {content: \"\";width: 100%;border-bottom: 1px solid gray;flex-grow: 1;}#sk-container-id-1 div.sk-label:hover label.sk-toggleable__label {background-color: #d4ebff;}#sk-container-id-1 div.sk-serial::before {content: \"\";position: absolute;border-left: 1px solid gray;box-sizing: border-box;top: 0;bottom: 0;left: 50%;z-index: 0;}#sk-container-id-1 div.sk-serial {display: flex;flex-direction: column;align-items: center;background-color: white;padding-right: 0.2em;padding-left: 0.2em;position: relative;}#sk-container-id-1 div.sk-item {position: relative;z-index: 1;}#sk-container-id-1 div.sk-parallel {display: flex;align-items: stretch;justify-content: center;background-color: white;position: relative;}#sk-container-id-1 div.sk-item::before, #sk-container-id-1 div.sk-parallel-item::before {content: \"\";position: absolute;border-left: 1px solid gray;box-sizing: border-box;top: 0;bottom: 0;left: 50%;z-index: -1;}#sk-container-id-1 div.sk-parallel-item {display: flex;flex-direction: column;z-index: 1;position: relative;background-color: white;}#sk-container-id-1 div.sk-parallel-item:first-child::after {align-self: flex-end;width: 50%;}#sk-container-id-1 div.sk-parallel-item:last-child::after {align-self: flex-start;width: 50%;}#sk-container-id-1 div.sk-parallel-item:only-child::after {width: 0;}#sk-container-id-1 div.sk-dashed-wrapped {border: 1px dashed gray;margin: 0 0.4em 0.5em 0.4em;box-sizing: border-box;padding-bottom: 0.4em;background-color: white;}#sk-container-id-1 div.sk-label label {font-family: monospace;font-weight: bold;display: inline-block;line-height: 1.2em;}#sk-container-id-1 div.sk-label-container {text-align: center;}#sk-container-id-1 div.sk-container {/* jupyter's `normalize.less` sets `[hidden] { display: none; }` but bootstrap.min.css set `[hidden] { display: none !important; }` so we also need the `!important` here to be able to override the default hidden behavior on the sphinx rendered scikit-learn.org. See: https://github.com/scikit-learn/scikit-learn/issues/21755 */display: inline-block !important;position: relative;}#sk-container-id-1 div.sk-text-repr-fallback {display: none;}</style><div id=\"sk-container-id-1\" class=\"sk-top-container\"><div class=\"sk-text-repr-fallback\"><pre>Pipeline(steps=[(&#x27;scale&#x27;, StandardScaler()),\n",
       "                (&#x27;model&#x27;, GradientBoostingClassifier())])</pre><b>In a Jupyter environment, please rerun this cell to show the HTML representation or trust the notebook. <br />On GitHub, the HTML representation is unable to render, please try loading this page with nbviewer.org.</b></div><div class=\"sk-container\" hidden><div class=\"sk-item sk-dashed-wrapped\"><div class=\"sk-label-container\"><div class=\"sk-label sk-toggleable\"><input class=\"sk-toggleable__control sk-hidden--visually\" id=\"sk-estimator-id-1\" type=\"checkbox\" ><label for=\"sk-estimator-id-1\" class=\"sk-toggleable__label sk-toggleable__label-arrow\">Pipeline</label><div class=\"sk-toggleable__content\"><pre>Pipeline(steps=[(&#x27;scale&#x27;, StandardScaler()),\n",
       "                (&#x27;model&#x27;, GradientBoostingClassifier())])</pre></div></div></div><div class=\"sk-serial\"><div class=\"sk-item\"><div class=\"sk-estimator sk-toggleable\"><input class=\"sk-toggleable__control sk-hidden--visually\" id=\"sk-estimator-id-2\" type=\"checkbox\" ><label for=\"sk-estimator-id-2\" class=\"sk-toggleable__label sk-toggleable__label-arrow\">StandardScaler</label><div class=\"sk-toggleable__content\"><pre>StandardScaler()</pre></div></div></div><div class=\"sk-item\"><div class=\"sk-estimator sk-toggleable\"><input class=\"sk-toggleable__control sk-hidden--visually\" id=\"sk-estimator-id-3\" type=\"checkbox\" ><label for=\"sk-estimator-id-3\" class=\"sk-toggleable__label sk-toggleable__label-arrow\">GradientBoostingClassifier</label><div class=\"sk-toggleable__content\"><pre>GradientBoostingClassifier()</pre></div></div></div></div></div></div></div>"
      ],
      "text/plain": [
       "Pipeline(steps=[('scale', StandardScaler()),\n",
       "                ('model', GradientBoostingClassifier())])"
      ]
     },
     "execution_count": 34,
     "metadata": {},
     "output_type": "execute_result"
    }
   ],
   "source": [
    "model.fit(X_train, y_train.values.ravel())"
   ]
  },
  {
   "cell_type": "code",
   "execution_count": 35,
   "id": "6e15e313",
   "metadata": {
    "execution": {
     "iopub.execute_input": "2025-08-19T19:07:48.242016Z",
     "iopub.status.busy": "2025-08-19T19:07:48.240834Z",
     "iopub.status.idle": "2025-08-19T19:07:48.907958Z",
     "shell.execute_reply": "2025-08-19T19:07:48.906032Z"
    },
    "papermill": {
     "duration": 0.682546,
     "end_time": "2025-08-19T19:07:48.910446",
     "exception": false,
     "start_time": "2025-08-19T19:07:48.227900",
     "status": "completed"
    },
    "tags": []
   },
   "outputs": [
    {
     "data": {
      "text/plain": [
       "0.8318582097870917"
      ]
     },
     "execution_count": 35,
     "metadata": {},
     "output_type": "execute_result"
    }
   ],
   "source": [
    "from fairness_multiverse.universe import predict_w_threshold\n",
    "\n",
    "probs_test = model.predict_proba(X_test)\n",
    "\n",
    "'''\n",
    "Below code returns a boolean array (or binary 0/1 array depending on how it’s used) where each element \n",
    "is True if the probability of class 1 is greater than or equal to the threshold, and False otherwise.\n",
    "'''\n",
    "y_pred_default = predict_w_threshold(probs_test, 0.5)\n",
    "\n",
    "from sklearn.metrics import accuracy_score\n",
    "\n",
    "# Naive prediction\n",
    "accuracy_score(y_true = y_true, y_pred = y_pred_default)"
   ]
  },
  {
   "cell_type": "code",
   "execution_count": 36,
   "id": "6f14067c",
   "metadata": {
    "execution": {
     "iopub.execute_input": "2025-08-19T19:07:48.953468Z",
     "iopub.status.busy": "2025-08-19T19:07:48.952853Z",
     "iopub.status.idle": "2025-08-19T19:07:49.606832Z",
     "shell.execute_reply": "2025-08-19T19:07:49.605580Z"
    },
    "papermill": {
     "duration": 0.671675,
     "end_time": "2025-08-19T19:07:49.608490",
     "exception": false,
     "start_time": "2025-08-19T19:07:48.936815",
     "status": "completed"
    },
    "tags": []
   },
   "outputs": [
    {
     "data": {
      "text/plain": [
       "array([0, 0, 0, ..., 0, 0, 0])"
      ]
     },
     "execution_count": 36,
     "metadata": {},
     "output_type": "execute_result"
    }
   ],
   "source": [
    "model.predict(X_test)"
   ]
  },
  {
   "cell_type": "markdown",
   "id": "3759920c",
   "metadata": {
    "papermill": {
     "duration": 0.01449,
     "end_time": "2025-08-19T19:07:49.635697",
     "exception": false,
     "start_time": "2025-08-19T19:07:49.621207",
     "status": "completed"
    },
    "tags": []
   },
   "source": [
    "# Conformal Prediction"
   ]
  },
  {
   "cell_type": "code",
   "execution_count": 37,
   "id": "14b27f59",
   "metadata": {
    "execution": {
     "iopub.execute_input": "2025-08-19T19:07:49.661127Z",
     "iopub.status.busy": "2025-08-19T19:07:49.660709Z",
     "iopub.status.idle": "2025-08-19T19:07:49.666791Z",
     "shell.execute_reply": "2025-08-19T19:07:49.665980Z"
    },
    "papermill": {
     "duration": 0.021874,
     "end_time": "2025-08-19T19:07:49.669271",
     "exception": false,
     "start_time": "2025-08-19T19:07:49.647397",
     "status": "completed"
    },
    "tags": []
   },
   "outputs": [],
   "source": [
    "# Miscoverage level for conformal prediction (10% allowed error rate => 90% target coverage)\n",
    "alpha = 0.1"
   ]
  },
  {
   "cell_type": "code",
   "execution_count": 38,
   "id": "59102472",
   "metadata": {
    "execution": {
     "iopub.execute_input": "2025-08-19T19:07:49.710070Z",
     "iopub.status.busy": "2025-08-19T19:07:49.708890Z",
     "iopub.status.idle": "2025-08-19T19:07:50.362398Z",
     "shell.execute_reply": "2025-08-19T19:07:50.361248Z"
    },
    "papermill": {
     "duration": 0.671192,
     "end_time": "2025-08-19T19:07:50.364410",
     "exception": false,
     "start_time": "2025-08-19T19:07:49.693218",
     "status": "completed"
    },
    "tags": []
   },
   "outputs": [],
   "source": [
    "probs_calib = model.predict_proba(X_calib)"
   ]
  },
  {
   "cell_type": "code",
   "execution_count": 39,
   "id": "a792d4dd",
   "metadata": {
    "execution": {
     "iopub.execute_input": "2025-08-19T19:07:50.394413Z",
     "iopub.status.busy": "2025-08-19T19:07:50.392616Z",
     "iopub.status.idle": "2025-08-19T19:07:50.401824Z",
     "shell.execute_reply": "2025-08-19T19:07:50.400692Z"
    },
    "papermill": {
     "duration": 0.024334,
     "end_time": "2025-08-19T19:07:50.403532",
     "exception": false,
     "start_time": "2025-08-19T19:07:50.379198",
     "status": "completed"
    },
    "tags": []
   },
   "outputs": [],
   "source": [
    "y_calib = y_calib.values.ravel().astype(int)"
   ]
  },
  {
   "cell_type": "code",
   "execution_count": 40,
   "id": "650fd033",
   "metadata": {
    "execution": {
     "iopub.execute_input": "2025-08-19T19:07:50.441251Z",
     "iopub.status.busy": "2025-08-19T19:07:50.438307Z",
     "iopub.status.idle": "2025-08-19T19:07:50.460276Z",
     "shell.execute_reply": "2025-08-19T19:07:50.458945Z"
    },
    "papermill": {
     "duration": 0.047388,
     "end_time": "2025-08-19T19:07:50.467094",
     "exception": false,
     "start_time": "2025-08-19T19:07:50.419706",
     "status": "completed"
    },
    "tags": []
   },
   "outputs": [],
   "source": [
    "from fairness_multiverse.conformal import compute_nc_scores\n",
    "\n",
    "# Compute nonconformity scores on calibration set (1 - probability of true class)\n",
    "nc_scores = compute_nc_scores(probs_calib, y_calib)"
   ]
  },
  {
   "cell_type": "code",
   "execution_count": 41,
   "id": "28ada44c",
   "metadata": {
    "execution": {
     "iopub.execute_input": "2025-08-19T19:07:50.502565Z",
     "iopub.status.busy": "2025-08-19T19:07:50.502115Z",
     "iopub.status.idle": "2025-08-19T19:07:50.511495Z",
     "shell.execute_reply": "2025-08-19T19:07:50.510005Z"
    },
    "papermill": {
     "duration": 0.026096,
     "end_time": "2025-08-19T19:07:50.513151",
     "exception": false,
     "start_time": "2025-08-19T19:07:50.487055",
     "status": "completed"
    },
    "tags": []
   },
   "outputs": [],
   "source": [
    "from fairness_multiverse.conformal import find_threshold\n",
    "\n",
    "# Find conformal threshold q_hat for the given alpha (split conformal method)\n",
    "q_hat = find_threshold(nc_scores, alpha)"
   ]
  },
  {
   "cell_type": "code",
   "execution_count": 42,
   "id": "df56469e",
   "metadata": {
    "execution": {
     "iopub.execute_input": "2025-08-19T19:07:50.545209Z",
     "iopub.status.busy": "2025-08-19T19:07:50.544440Z",
     "iopub.status.idle": "2025-08-19T19:07:50.556043Z",
     "shell.execute_reply": "2025-08-19T19:07:50.554745Z"
    },
    "papermill": {
     "duration": 0.029318,
     "end_time": "2025-08-19T19:07:50.558119",
     "exception": false,
     "start_time": "2025-08-19T19:07:50.528801",
     "status": "completed"
    },
    "tags": []
   },
   "outputs": [
    {
     "data": {
      "text/plain": [
       "0.7631647331592086"
      ]
     },
     "execution_count": 42,
     "metadata": {},
     "output_type": "execute_result"
    }
   ],
   "source": [
    "q_hat"
   ]
  },
  {
   "cell_type": "code",
   "execution_count": 43,
   "id": "aa1f5faa",
   "metadata": {
    "execution": {
     "iopub.execute_input": "2025-08-19T19:07:50.590298Z",
     "iopub.status.busy": "2025-08-19T19:07:50.589105Z",
     "iopub.status.idle": "2025-08-19T19:07:51.943898Z",
     "shell.execute_reply": "2025-08-19T19:07:51.942022Z"
    },
    "papermill": {
     "duration": 1.371342,
     "end_time": "2025-08-19T19:07:51.946127",
     "exception": false,
     "start_time": "2025-08-19T19:07:50.574785",
     "status": "completed"
    },
    "tags": []
   },
   "outputs": [],
   "source": [
    "from fairness_multiverse.conformal import predict_conformal_sets\n",
    "\n",
    "# Generate prediction sets for each test example\n",
    "pred_sets = predict_conformal_sets(model, X_test, q_hat)"
   ]
  },
  {
   "cell_type": "code",
   "execution_count": 44,
   "id": "97f67a6b",
   "metadata": {
    "execution": {
     "iopub.execute_input": "2025-08-19T19:07:51.976381Z",
     "iopub.status.busy": "2025-08-19T19:07:51.974385Z",
     "iopub.status.idle": "2025-08-19T19:07:51.991488Z",
     "shell.execute_reply": "2025-08-19T19:07:51.990186Z"
    },
    "papermill": {
     "duration": 0.034174,
     "end_time": "2025-08-19T19:07:51.993207",
     "exception": false,
     "start_time": "2025-08-19T19:07:51.959033",
     "status": "completed"
    },
    "tags": []
   },
   "outputs": [],
   "source": [
    "y_true = y_true.squeeze()"
   ]
  },
  {
   "cell_type": "code",
   "execution_count": 45,
   "id": "e700e9a7",
   "metadata": {
    "execution": {
     "iopub.execute_input": "2025-08-19T19:07:52.028253Z",
     "iopub.status.busy": "2025-08-19T19:07:52.026422Z",
     "iopub.status.idle": "2025-08-19T19:07:52.658073Z",
     "shell.execute_reply": "2025-08-19T19:07:52.656252Z"
    },
    "papermill": {
     "duration": 0.648194,
     "end_time": "2025-08-19T19:07:52.660090",
     "exception": false,
     "start_time": "2025-08-19T19:07:52.011896",
     "status": "completed"
    },
    "tags": []
   },
   "outputs": [],
   "source": [
    "from fairness_multiverse.conformal import evaluate_sets\n",
    "\n",
    "# Evaluate coverage and average set size on test data\n",
    "metrics = evaluate_sets(pred_sets, y_true)"
   ]
  },
  {
   "cell_type": "markdown",
   "id": "efbacec0",
   "metadata": {
    "papermill": {
     "duration": 0.013171,
     "end_time": "2025-08-19T19:07:52.693751",
     "exception": false,
     "start_time": "2025-08-19T19:07:52.680580",
     "status": "completed"
    },
    "tags": []
   },
   "source": [
    "# CP Metrics"
   ]
  },
  {
   "cell_type": "code",
   "execution_count": 46,
   "id": "9de55fb1",
   "metadata": {
    "execution": {
     "iopub.execute_input": "2025-08-19T19:07:52.759719Z",
     "iopub.status.busy": "2025-08-19T19:07:52.759183Z",
     "iopub.status.idle": "2025-08-19T19:07:52.778770Z",
     "shell.execute_reply": "2025-08-19T19:07:52.777751Z"
    },
    "papermill": {
     "duration": 0.047233,
     "end_time": "2025-08-19T19:07:52.780464",
     "exception": false,
     "start_time": "2025-08-19T19:07:52.733231",
     "status": "completed"
    },
    "tags": []
   },
   "outputs": [
    {
     "data": {
      "text/plain": [
       "{'coverage': 0.9112139114925872, 'avg_size': 1.1942481328725894}"
      ]
     },
     "execution_count": 46,
     "metadata": {},
     "output_type": "execute_result"
    }
   ],
   "source": [
    "metrics"
   ]
  },
  {
   "cell_type": "code",
   "execution_count": 47,
   "id": "64c340a1",
   "metadata": {
    "execution": {
     "iopub.execute_input": "2025-08-19T19:07:52.812160Z",
     "iopub.status.busy": "2025-08-19T19:07:52.810780Z",
     "iopub.status.idle": "2025-08-19T19:07:52.817619Z",
     "shell.execute_reply": "2025-08-19T19:07:52.816781Z"
    },
    "papermill": {
     "duration": 0.021309,
     "end_time": "2025-08-19T19:07:52.819039",
     "exception": false,
     "start_time": "2025-08-19T19:07:52.797730",
     "status": "completed"
    },
    "tags": []
   },
   "outputs": [],
   "source": [
    "example_universe = universe.copy()\n",
    "universe_training_year = example_universe.get(\"training_year\")\n",
    "universe_training_size = example_universe.get(\"training_size\")\n",
    "universe_scale = example_universe.get(\"scale\")\n",
    "universe_model = example_universe.get(\"model\")\n",
    "universe_exclude_features = example_universe.get(\"exclude_features\")\n",
    "universe_exclude_subgroups = example_universe.get(\"exclude_subgroups\")"
   ]
  },
  {
   "cell_type": "code",
   "execution_count": 48,
   "id": "dbb53cb4",
   "metadata": {
    "execution": {
     "iopub.execute_input": "2025-08-19T19:07:52.846650Z",
     "iopub.status.busy": "2025-08-19T19:07:52.845868Z",
     "iopub.status.idle": "2025-08-19T19:07:52.852062Z",
     "shell.execute_reply": "2025-08-19T19:07:52.851112Z"
    },
    "papermill": {
     "duration": 0.021838,
     "end_time": "2025-08-19T19:07:52.853335",
     "exception": false,
     "start_time": "2025-08-19T19:07:52.831497",
     "status": "completed"
    },
    "tags": []
   },
   "outputs": [],
   "source": [
    "cp_metrics_dict = {\n",
    "    \"universe_id\": [universe_id],\n",
    "    \"universe_training_year\": [universe_training_year],\n",
    "    \"universe_training_size\": [universe_training_size],\n",
    "    \"universe_scale\": [universe_scale],\n",
    "    \"universe_model\": [universe_model],\n",
    "    \"universe_exclude_features\": [universe_exclude_features],\n",
    "    \"universe_exclude_subgroups\": [universe_exclude_subgroups],\n",
    "    \"q_hat\": [q_hat],\n",
    "    \"coverage\": [metrics[\"coverage\"]],\n",
    "    \"avg_size\": [metrics[\"avg_size\"]],\n",
    "}"
   ]
  },
  {
   "cell_type": "code",
   "execution_count": 49,
   "id": "0d70d4b2",
   "metadata": {
    "execution": {
     "iopub.execute_input": "2025-08-19T19:07:52.883205Z",
     "iopub.status.busy": "2025-08-19T19:07:52.882861Z",
     "iopub.status.idle": "2025-08-19T19:07:52.890517Z",
     "shell.execute_reply": "2025-08-19T19:07:52.889675Z"
    },
    "papermill": {
     "duration": 0.023687,
     "end_time": "2025-08-19T19:07:52.891973",
     "exception": false,
     "start_time": "2025-08-19T19:07:52.868286",
     "status": "completed"
    },
    "tags": []
   },
   "outputs": [],
   "source": [
    "cp_metrics_df = pd.DataFrame(cp_metrics_dict)"
   ]
  },
  {
   "cell_type": "code",
   "execution_count": 50,
   "id": "b494403c",
   "metadata": {
    "execution": {
     "iopub.execute_input": "2025-08-19T19:07:52.917408Z",
     "iopub.status.busy": "2025-08-19T19:07:52.917123Z",
     "iopub.status.idle": "2025-08-19T19:07:52.934774Z",
     "shell.execute_reply": "2025-08-19T19:07:52.933328Z"
    },
    "papermill": {
     "duration": 0.033074,
     "end_time": "2025-08-19T19:07:52.937578",
     "exception": false,
     "start_time": "2025-08-19T19:07:52.904504",
     "status": "completed"
    },
    "tags": []
   },
   "outputs": [
    {
     "data": {
      "text/html": [
       "<div>\n",
       "<style scoped>\n",
       "    .dataframe tbody tr th:only-of-type {\n",
       "        vertical-align: middle;\n",
       "    }\n",
       "\n",
       "    .dataframe tbody tr th {\n",
       "        vertical-align: top;\n",
       "    }\n",
       "\n",
       "    .dataframe thead th {\n",
       "        text-align: right;\n",
       "    }\n",
       "</style>\n",
       "<table border=\"1\" class=\"dataframe\">\n",
       "  <thead>\n",
       "    <tr style=\"text-align: right;\">\n",
       "      <th></th>\n",
       "      <th>universe_id</th>\n",
       "      <th>universe_training_year</th>\n",
       "      <th>universe_training_size</th>\n",
       "      <th>universe_scale</th>\n",
       "      <th>universe_model</th>\n",
       "      <th>universe_exclude_features</th>\n",
       "      <th>universe_exclude_subgroups</th>\n",
       "      <th>q_hat</th>\n",
       "      <th>coverage</th>\n",
       "      <th>avg_size</th>\n",
       "    </tr>\n",
       "  </thead>\n",
       "  <tbody>\n",
       "    <tr>\n",
       "      <th>0</th>\n",
       "      <td>1f272c9ee4087fe3b14dd4cff336b113</td>\n",
       "      <td>2010_14</td>\n",
       "      <td>1k</td>\n",
       "      <td>scale</td>\n",
       "      <td>gbm</td>\n",
       "      <td>age</td>\n",
       "      <td>keep-all</td>\n",
       "      <td>0.763165</td>\n",
       "      <td>0.911214</td>\n",
       "      <td>1.194248</td>\n",
       "    </tr>\n",
       "  </tbody>\n",
       "</table>\n",
       "</div>"
      ],
      "text/plain": [
       "                        universe_id universe_training_year  \\\n",
       "0  1f272c9ee4087fe3b14dd4cff336b113                2010_14   \n",
       "\n",
       "  universe_training_size universe_scale universe_model  \\\n",
       "0                     1k          scale            gbm   \n",
       "\n",
       "  universe_exclude_features universe_exclude_subgroups     q_hat  coverage  \\\n",
       "0                       age                   keep-all  0.763165  0.911214   \n",
       "\n",
       "   avg_size  \n",
       "0  1.194248  "
      ]
     },
     "execution_count": 50,
     "metadata": {},
     "output_type": "execute_result"
    }
   ],
   "source": [
    "cp_metrics_df"
   ]
  },
  {
   "cell_type": "markdown",
   "id": "ed608b0b",
   "metadata": {
    "papermill": {
     "duration": 0.012005,
     "end_time": "2025-08-19T19:07:52.962134",
     "exception": false,
     "start_time": "2025-08-19T19:07:52.950129",
     "status": "completed"
    },
    "tags": []
   },
   "source": [
    "Conditional coverage & looking at subgroups"
   ]
  },
  {
   "cell_type": "code",
   "execution_count": 51,
   "id": "8968c366",
   "metadata": {
    "execution": {
     "iopub.execute_input": "2025-08-19T19:07:52.990540Z",
     "iopub.status.busy": "2025-08-19T19:07:52.989000Z",
     "iopub.status.idle": "2025-08-19T19:07:53.313932Z",
     "shell.execute_reply": "2025-08-19T19:07:53.312586Z"
    },
    "papermill": {
     "duration": 0.342006,
     "end_time": "2025-08-19T19:07:53.316076",
     "exception": false,
     "start_time": "2025-08-19T19:07:52.974070",
     "status": "completed"
    },
    "tags": []
   },
   "outputs": [],
   "source": [
    "from fairness_multiverse.conformal import build_cp_groups\n",
    "\n",
    "cp_groups_df = build_cp_groups(pred_sets, y_true, X_test.index, org_test)"
   ]
  },
  {
   "cell_type": "code",
   "execution_count": 52,
   "id": "292ddabf",
   "metadata": {
    "execution": {
     "iopub.execute_input": "2025-08-19T19:07:53.353267Z",
     "iopub.status.busy": "2025-08-19T19:07:53.351656Z",
     "iopub.status.idle": "2025-08-19T19:07:54.237172Z",
     "shell.execute_reply": "2025-08-19T19:07:54.235786Z"
    },
    "papermill": {
     "duration": 0.902225,
     "end_time": "2025-08-19T19:07:54.238859",
     "exception": false,
     "start_time": "2025-08-19T19:07:53.336634",
     "status": "completed"
    },
    "tags": []
   },
   "outputs": [],
   "source": [
    "# Define covered = 1 if true_label is in the predicted set\n",
    "cp_groups_df['covered'] = cp_groups_df.apply(\n",
    "    lambda r: int(r['true_label'] in r['pred_set']),\n",
    "    axis=1\n",
    ")"
   ]
  },
  {
   "cell_type": "code",
   "execution_count": 53,
   "id": "3a261692",
   "metadata": {
    "execution": {
     "iopub.execute_input": "2025-08-19T19:07:54.265832Z",
     "iopub.status.busy": "2025-08-19T19:07:54.265213Z",
     "iopub.status.idle": "2025-08-19T19:07:54.286769Z",
     "shell.execute_reply": "2025-08-19T19:07:54.284867Z"
    },
    "papermill": {
     "duration": 0.036667,
     "end_time": "2025-08-19T19:07:54.288187",
     "exception": false,
     "start_time": "2025-08-19T19:07:54.251520",
     "status": "completed"
    },
    "tags": []
   },
   "outputs": [],
   "source": [
    "subgroups = ['frau1','nongerman','nongerman_male','nongerman_female']\n",
    "\n",
    "# Conditional coverage for subgroup==1\n",
    "cond_coverage = {\n",
    "    g: cp_groups_df.loc[cp_groups_df[g]==1, 'covered'].mean()\n",
    "    for g in subgroups\n",
    "}"
   ]
  },
  {
   "cell_type": "code",
   "execution_count": 54,
   "id": "894fd600",
   "metadata": {
    "execution": {
     "iopub.execute_input": "2025-08-19T19:07:54.315000Z",
     "iopub.status.busy": "2025-08-19T19:07:54.314413Z",
     "iopub.status.idle": "2025-08-19T19:07:54.336352Z",
     "shell.execute_reply": "2025-08-19T19:07:54.335468Z"
    },
    "papermill": {
     "duration": 0.037314,
     "end_time": "2025-08-19T19:07:54.338133",
     "exception": false,
     "start_time": "2025-08-19T19:07:54.300819",
     "status": "completed"
    },
    "tags": []
   },
   "outputs": [
    {
     "data": {
      "text/plain": [
       "{'frau1': 0.9092869658983691,\n",
       " 'nongerman': 0.9060798293381238,\n",
       " 'nongerman_male': 0.9237143114473566,\n",
       " 'nongerman_female': 0.8769001490312965}"
      ]
     },
     "execution_count": 54,
     "metadata": {},
     "output_type": "execute_result"
    }
   ],
   "source": [
    "cond_coverage"
   ]
  },
  {
   "cell_type": "code",
   "execution_count": 55,
   "id": "942895c7",
   "metadata": {
    "execution": {
     "iopub.execute_input": "2025-08-19T19:07:54.377969Z",
     "iopub.status.busy": "2025-08-19T19:07:54.377619Z",
     "iopub.status.idle": "2025-08-19T19:07:54.383961Z",
     "shell.execute_reply": "2025-08-19T19:07:54.383168Z"
    },
    "papermill": {
     "duration": 0.023428,
     "end_time": "2025-08-19T19:07:54.386625",
     "exception": false,
     "start_time": "2025-08-19T19:07:54.363197",
     "status": "completed"
    },
    "tags": []
   },
   "outputs": [],
   "source": [
    "for subgroup, cov in cond_coverage.items():\n",
    "    cp_metrics_df[f\"cov_{subgroup}\"] = cov"
   ]
  },
  {
   "cell_type": "code",
   "execution_count": 56,
   "id": "3970120f",
   "metadata": {
    "execution": {
     "iopub.execute_input": "2025-08-19T19:07:54.415500Z",
     "iopub.status.busy": "2025-08-19T19:07:54.414887Z",
     "iopub.status.idle": "2025-08-19T19:07:54.608749Z",
     "shell.execute_reply": "2025-08-19T19:07:54.607549Z"
    },
    "papermill": {
     "duration": 0.210201,
     "end_time": "2025-08-19T19:07:54.610832",
     "exception": false,
     "start_time": "2025-08-19T19:07:54.400631",
     "status": "completed"
    },
    "tags": []
   },
   "outputs": [
    {
     "data": {
      "text/html": [
       "<div>\n",
       "<style scoped>\n",
       "    .dataframe tbody tr th:only-of-type {\n",
       "        vertical-align: middle;\n",
       "    }\n",
       "\n",
       "    .dataframe tbody tr th {\n",
       "        vertical-align: top;\n",
       "    }\n",
       "\n",
       "    .dataframe thead th {\n",
       "        text-align: right;\n",
       "    }\n",
       "</style>\n",
       "<table border=\"1\" class=\"dataframe\">\n",
       "  <thead>\n",
       "    <tr style=\"text-align: right;\">\n",
       "      <th></th>\n",
       "      <th>universe_id</th>\n",
       "      <th>universe_training_year</th>\n",
       "      <th>universe_training_size</th>\n",
       "      <th>universe_scale</th>\n",
       "      <th>universe_model</th>\n",
       "      <th>universe_exclude_features</th>\n",
       "      <th>universe_exclude_subgroups</th>\n",
       "      <th>q_hat</th>\n",
       "      <th>coverage</th>\n",
       "      <th>avg_size</th>\n",
       "      <th>cov_frau1</th>\n",
       "      <th>cov_nongerman</th>\n",
       "      <th>cov_nongerman_male</th>\n",
       "      <th>cov_nongerman_female</th>\n",
       "    </tr>\n",
       "  </thead>\n",
       "  <tbody>\n",
       "    <tr>\n",
       "      <th>0</th>\n",
       "      <td>1f272c9ee4087fe3b14dd4cff336b113</td>\n",
       "      <td>2010_14</td>\n",
       "      <td>1k</td>\n",
       "      <td>scale</td>\n",
       "      <td>gbm</td>\n",
       "      <td>age</td>\n",
       "      <td>keep-all</td>\n",
       "      <td>0.763165</td>\n",
       "      <td>0.911214</td>\n",
       "      <td>1.194248</td>\n",
       "      <td>0.909287</td>\n",
       "      <td>0.90608</td>\n",
       "      <td>0.923714</td>\n",
       "      <td>0.8769</td>\n",
       "    </tr>\n",
       "  </tbody>\n",
       "</table>\n",
       "</div>"
      ],
      "text/plain": [
       "                        universe_id universe_training_year  \\\n",
       "0  1f272c9ee4087fe3b14dd4cff336b113                2010_14   \n",
       "\n",
       "  universe_training_size universe_scale universe_model  \\\n",
       "0                     1k          scale            gbm   \n",
       "\n",
       "  universe_exclude_features universe_exclude_subgroups     q_hat  coverage  \\\n",
       "0                       age                   keep-all  0.763165  0.911214   \n",
       "\n",
       "   avg_size  cov_frau1  cov_nongerman  cov_nongerman_male  \\\n",
       "0  1.194248   0.909287        0.90608            0.923714   \n",
       "\n",
       "   cov_nongerman_female  \n",
       "0                0.8769  "
      ]
     },
     "execution_count": 56,
     "metadata": {},
     "output_type": "execute_result"
    }
   ],
   "source": [
    "cp_metrics_df"
   ]
  },
  {
   "cell_type": "markdown",
   "id": "3fc519cc",
   "metadata": {
    "papermill": {
     "duration": 0.012721,
     "end_time": "2025-08-19T19:07:54.639120",
     "exception": false,
     "start_time": "2025-08-19T19:07:54.626399",
     "status": "completed"
    },
    "tags": []
   },
   "source": [
    "# (Fairness) Metrics"
   ]
  },
  {
   "cell_type": "code",
   "execution_count": 57,
   "id": "a2e5e155",
   "metadata": {
    "execution": {
     "iopub.execute_input": "2025-08-19T19:07:54.667259Z",
     "iopub.status.busy": "2025-08-19T19:07:54.666940Z",
     "iopub.status.idle": "2025-08-19T19:07:54.706768Z",
     "shell.execute_reply": "2025-08-19T19:07:54.704679Z"
    },
    "papermill": {
     "duration": 0.057111,
     "end_time": "2025-08-19T19:07:54.709951",
     "exception": false,
     "start_time": "2025-08-19T19:07:54.652840",
     "status": "completed"
    },
    "tags": []
   },
   "outputs": [],
   "source": [
    "colname_to_bin = \"maxdeutsch1\"\n",
    "majority_value = org_train[colname_to_bin].mode()[0]\n",
    "\n",
    "org_test[\"majmin\"] = np.where(org_test[colname_to_bin] == majority_value, \"majority\", \"minority\")"
   ]
  },
  {
   "cell_type": "code",
   "execution_count": 58,
   "id": "17e3e4d5",
   "metadata": {
    "execution": {
     "iopub.execute_input": "2025-08-19T19:07:54.764320Z",
     "iopub.status.busy": "2025-08-19T19:07:54.763159Z",
     "iopub.status.idle": "2025-08-19T19:07:56.559885Z",
     "shell.execute_reply": "2025-08-19T19:07:56.558368Z"
    },
    "papermill": {
     "duration": 1.825319,
     "end_time": "2025-08-19T19:07:56.563740",
     "exception": false,
     "start_time": "2025-08-19T19:07:54.738421",
     "status": "completed"
    },
    "tags": []
   },
   "outputs": [],
   "source": [
    "example_universe = universe.copy()\n",
    "example_universe[\"cutoff\"] = example_universe[\"cutoff\"][0]\n",
    "example_universe[\"eval_fairness_grouping\"] = example_universe[\"eval_fairness_grouping\"][0]\n",
    "fairness_dict, metric_frame = universe_analysis.compute_metrics(\n",
    "    example_universe,\n",
    "    y_pred_prob=probs_test,\n",
    "    y_test=y_true,\n",
    "    org_test=org_test,\n",
    ")"
   ]
  },
  {
   "cell_type": "markdown",
   "id": "1fb7a0e9",
   "metadata": {
    "papermill": {
     "duration": 0.013094,
     "end_time": "2025-08-19T19:07:56.612995",
     "exception": false,
     "start_time": "2025-08-19T19:07:56.599901",
     "status": "completed"
    },
    "tags": []
   },
   "source": [
    "# Overall"
   ]
  },
  {
   "cell_type": "markdown",
   "id": "be1784b1",
   "metadata": {
    "papermill": {
     "duration": 0.013332,
     "end_time": "2025-08-19T19:07:56.639321",
     "exception": false,
     "start_time": "2025-08-19T19:07:56.625989",
     "status": "completed"
    },
    "tags": []
   },
   "source": [
    "Main fairness target: Equalized Odds. Seems to be a better fit than equal opportunity, since we're not only interested in Y = 1. Seems to be a better fit than demographic parity, since we also care about accuracy, not just equal distribution of preds.\n",
    "\n",
    "Pick column for computation of fairness metrics\n",
    "\n",
    "Performance\n",
    "Overall performance measures, most interesting in relation to the measures split by group below"
   ]
  },
  {
   "cell_type": "code",
   "execution_count": 59,
   "id": "b7672bee",
   "metadata": {
    "execution": {
     "iopub.execute_input": "2025-08-19T19:07:56.666493Z",
     "iopub.status.busy": "2025-08-19T19:07:56.666155Z",
     "iopub.status.idle": "2025-08-19T19:07:56.674363Z",
     "shell.execute_reply": "2025-08-19T19:07:56.673552Z"
    },
    "papermill": {
     "duration": 0.023226,
     "end_time": "2025-08-19T19:07:56.675550",
     "exception": false,
     "start_time": "2025-08-19T19:07:56.652324",
     "status": "completed"
    },
    "tags": []
   },
   "outputs": [
    {
     "data": {
      "text/plain": [
       "accuracy                   0.221124\n",
       "balanced accuracy          0.541359\n",
       "f1                         0.242544\n",
       "precision                  0.138558\n",
       "false positive rate        0.889389\n",
       "false negative rate        0.027894\n",
       "selection rate             0.900000\n",
       "count                  89710.000000\n",
       "dtype: float64"
      ]
     },
     "execution_count": 59,
     "metadata": {},
     "output_type": "execute_result"
    }
   ],
   "source": [
    "metric_frame.overall"
   ]
  },
  {
   "cell_type": "markdown",
   "id": "d93333c9",
   "metadata": {
    "papermill": {
     "duration": 0.012505,
     "end_time": "2025-08-19T19:07:56.702223",
     "exception": false,
     "start_time": "2025-08-19T19:07:56.689718",
     "status": "completed"
    },
    "tags": []
   },
   "source": [
    "By Group"
   ]
  },
  {
   "cell_type": "code",
   "execution_count": 60,
   "id": "52256966",
   "metadata": {
    "execution": {
     "iopub.execute_input": "2025-08-19T19:07:56.742150Z",
     "iopub.status.busy": "2025-08-19T19:07:56.741460Z",
     "iopub.status.idle": "2025-08-19T19:07:56.771791Z",
     "shell.execute_reply": "2025-08-19T19:07:56.771021Z"
    },
    "papermill": {
     "duration": 0.058693,
     "end_time": "2025-08-19T19:07:56.773470",
     "exception": false,
     "start_time": "2025-08-19T19:07:56.714777",
     "status": "completed"
    },
    "tags": []
   },
   "outputs": [
    {
     "data": {
      "text/html": [
       "<div>\n",
       "<style scoped>\n",
       "    .dataframe tbody tr th:only-of-type {\n",
       "        vertical-align: middle;\n",
       "    }\n",
       "\n",
       "    .dataframe tbody tr th {\n",
       "        vertical-align: top;\n",
       "    }\n",
       "\n",
       "    .dataframe thead th {\n",
       "        text-align: right;\n",
       "    }\n",
       "</style>\n",
       "<table border=\"1\" class=\"dataframe\">\n",
       "  <thead>\n",
       "    <tr style=\"text-align: right;\">\n",
       "      <th></th>\n",
       "      <th>accuracy</th>\n",
       "      <th>balanced accuracy</th>\n",
       "      <th>f1</th>\n",
       "      <th>precision</th>\n",
       "      <th>false positive rate</th>\n",
       "      <th>false negative rate</th>\n",
       "      <th>selection rate</th>\n",
       "      <th>count</th>\n",
       "    </tr>\n",
       "    <tr>\n",
       "      <th>majmin</th>\n",
       "      <th></th>\n",
       "      <th></th>\n",
       "      <th></th>\n",
       "      <th></th>\n",
       "      <th></th>\n",
       "      <th></th>\n",
       "      <th></th>\n",
       "      <th></th>\n",
       "    </tr>\n",
       "  </thead>\n",
       "  <tbody>\n",
       "    <tr>\n",
       "      <th>majority</th>\n",
       "      <td>0.226919</td>\n",
       "      <td>0.542873</td>\n",
       "      <td>0.249467</td>\n",
       "      <td>0.143089</td>\n",
       "      <td>0.886573</td>\n",
       "      <td>0.027681</td>\n",
       "      <td>0.897904</td>\n",
       "      <td>69170.0</td>\n",
       "    </tr>\n",
       "    <tr>\n",
       "      <th>minority</th>\n",
       "      <td>0.201607</td>\n",
       "      <td>0.536297</td>\n",
       "      <td>0.219058</td>\n",
       "      <td>0.123450</td>\n",
       "      <td>0.898690</td>\n",
       "      <td>0.028716</td>\n",
       "      <td>0.907059</td>\n",
       "      <td>20540.0</td>\n",
       "    </tr>\n",
       "  </tbody>\n",
       "</table>\n",
       "</div>"
      ],
      "text/plain": [
       "          accuracy  balanced accuracy        f1  precision  \\\n",
       "majmin                                                       \n",
       "majority  0.226919           0.542873  0.249467   0.143089   \n",
       "minority  0.201607           0.536297  0.219058   0.123450   \n",
       "\n",
       "          false positive rate  false negative rate  selection rate    count  \n",
       "majmin                                                                       \n",
       "majority             0.886573             0.027681        0.897904  69170.0  \n",
       "minority             0.898690             0.028716        0.907059  20540.0  "
      ]
     },
     "execution_count": 60,
     "metadata": {},
     "output_type": "execute_result"
    }
   ],
   "source": [
    "metric_frame.by_group"
   ]
  },
  {
   "cell_type": "code",
   "execution_count": 61,
   "id": "6e6c20ae",
   "metadata": {
    "execution": {
     "iopub.execute_input": "2025-08-19T19:07:56.801380Z",
     "iopub.status.busy": "2025-08-19T19:07:56.801122Z",
     "iopub.status.idle": "2025-08-19T19:07:58.585181Z",
     "shell.execute_reply": "2025-08-19T19:07:58.584214Z"
    },
    "papermill": {
     "duration": 1.798733,
     "end_time": "2025-08-19T19:07:58.586394",
     "exception": false,
     "start_time": "2025-08-19T19:07:56.787661",
     "status": "completed"
    },
    "tags": []
   },
   "outputs": [
    {
     "data": {
      "text/plain": [
       "array([[<Axes: title={'center': 'accuracy'}, xlabel='majmin'>,\n",
       "        <Axes: title={'center': 'balanced accuracy'}, xlabel='majmin'>,\n",
       "        <Axes: title={'center': 'f1'}, xlabel='majmin'>],\n",
       "       [<Axes: title={'center': 'precision'}, xlabel='majmin'>,\n",
       "        <Axes: title={'center': 'false positive rate'}, xlabel='majmin'>,\n",
       "        <Axes: title={'center': 'false negative rate'}, xlabel='majmin'>],\n",
       "       [<Axes: title={'center': 'selection rate'}, xlabel='majmin'>,\n",
       "        <Axes: title={'center': 'count'}, xlabel='majmin'>,\n",
       "        <Axes: xlabel='majmin'>]], dtype=object)"
      ]
     },
     "execution_count": 61,
     "metadata": {},
     "output_type": "execute_result"
    },
    {
     "data": {
      "image/png": "[encoded data removed]",
      "text/plain": [
       "<Figure size 1200x800 with 9 Axes>"
      ]
     },
     "metadata": {},
     "output_type": "display_data"
    }
   ],
   "source": [
    "# In a graphic\n",
    "metric_frame.by_group.plot.bar(\n",
    "    subplots=True,\n",
    "    layout=[3, 3],\n",
    "    legend=False,\n",
    "    figsize=[12, 8],\n",
    "    title=\"Show all metrics\",\n",
    ")"
   ]
  },
  {
   "cell_type": "markdown",
   "id": "b2e433ae",
   "metadata": {
    "papermill": {
     "duration": 0.029835,
     "end_time": "2025-08-19T19:07:58.638679",
     "exception": false,
     "start_time": "2025-08-19T19:07:58.608844",
     "status": "completed"
    },
    "tags": []
   },
   "source": [
    "# Final Output"
   ]
  },
  {
   "cell_type": "code",
   "execution_count": 62,
   "id": "3871301e",
   "metadata": {
    "execution": {
     "iopub.execute_input": "2025-08-19T19:07:58.669819Z",
     "iopub.status.busy": "2025-08-19T19:07:58.668992Z",
     "iopub.status.idle": "2025-08-19T19:07:58.678250Z",
     "shell.execute_reply": "2025-08-19T19:07:58.677548Z"
    },
    "papermill": {
     "duration": 0.027464,
     "end_time": "2025-08-19T19:07:58.680816",
     "exception": false,
     "start_time": "2025-08-19T19:07:58.653352",
     "status": "completed"
    },
    "tags": []
   },
   "outputs": [
    {
     "data": {
      "text/plain": [
       "4"
      ]
     },
     "execution_count": 62,
     "metadata": {},
     "output_type": "execute_result"
    }
   ],
   "source": [
    "sub_universes = universe_analysis.generate_sub_universes()\n",
    "len(sub_universes)"
   ]
  },
  {
   "cell_type": "code",
   "execution_count": 63,
   "id": "d9cfdaca",
   "metadata": {
    "execution": {
     "iopub.execute_input": "2025-08-19T19:07:58.710606Z",
     "iopub.status.busy": "2025-08-19T19:07:58.710222Z",
     "iopub.status.idle": "2025-08-19T19:07:58.715290Z",
     "shell.execute_reply": "2025-08-19T19:07:58.714461Z"
    },
    "papermill": {
     "duration": 0.021396,
     "end_time": "2025-08-19T19:07:58.716740",
     "exception": false,
     "start_time": "2025-08-19T19:07:58.695344",
     "status": "completed"
    },
    "tags": []
   },
   "outputs": [],
   "source": [
    "def filter_sub_universe_data(sub_universe, org_test):\n",
    "    # Keep all rows — no filtering\n",
    "    keep_rows_mask = np.ones(org_test.shape[0], dtype=bool)\n",
    "\n",
    "    print(f\"[INFO] Keeping all rows: {keep_rows_mask.sum()} rows retained.\")\n",
    "    return keep_rows_mask"
   ]
  },
  {
   "cell_type": "code",
   "execution_count": 64,
   "id": "2bc31ac1",
   "metadata": {
    "execution": {
     "iopub.execute_input": "2025-08-19T19:07:58.746603Z",
     "iopub.status.busy": "2025-08-19T19:07:58.746212Z",
     "iopub.status.idle": "2025-08-19T19:08:05.520964Z",
     "shell.execute_reply": "2025-08-19T19:08:05.520018Z"
    },
    "papermill": {
     "duration": 6.791372,
     "end_time": "2025-08-19T19:08:05.522504",
     "exception": false,
     "start_time": "2025-08-19T19:07:58.731132",
     "status": "completed"
    },
    "tags": []
   },
   "outputs": [
    {
     "name": "stdout",
     "output_type": "stream",
     "text": [
      "Stopping execution_time clock.\n",
      "[INFO] Keeping all rows: 89710 rows retained.\n"
     ]
    },
    {
     "name": "stdout",
     "output_type": "stream",
     "text": [
      "[INFO] Keeping all rows: 89710 rows retained.\n"
     ]
    },
    {
     "name": "stdout",
     "output_type": "stream",
     "text": [
      "[INFO] Keeping all rows: 89710 rows retained.\n"
     ]
    },
    {
     "name": "stdout",
     "output_type": "stream",
     "text": [
      "[INFO] Keeping all rows: 89710 rows retained.\n"
     ]
    },
    {
     "data": {
      "text/html": [
       "<div>\n",
       "<style scoped>\n",
       "    .dataframe tbody tr th:only-of-type {\n",
       "        vertical-align: middle;\n",
       "    }\n",
       "\n",
       "    .dataframe tbody tr th {\n",
       "        vertical-align: top;\n",
       "    }\n",
       "\n",
       "    .dataframe thead th {\n",
       "        text-align: right;\n",
       "    }\n",
       "</style>\n",
       "<table border=\"1\" class=\"dataframe\">\n",
       "  <thead>\n",
       "    <tr style=\"text-align: right;\">\n",
       "      <th></th>\n",
       "      <th>run_no</th>\n",
       "      <th>universe_id</th>\n",
       "      <th>universe_settings</th>\n",
       "      <th>execution_time</th>\n",
       "      <th>test_size_n</th>\n",
       "      <th>test_size_frac</th>\n",
       "      <th>fair_main_equalized_odds_difference</th>\n",
       "      <th>fair_main_equalized_odds_ratio</th>\n",
       "      <th>fair_main_demographic_parity_difference</th>\n",
       "      <th>fair_main_demographic_parity_ratio</th>\n",
       "      <th>...</th>\n",
       "      <th>perf_grp_precision_0</th>\n",
       "      <th>perf_grp_precision_1</th>\n",
       "      <th>perf_grp_false positive rate_0</th>\n",
       "      <th>perf_grp_false positive rate_1</th>\n",
       "      <th>perf_grp_false negative rate_0</th>\n",
       "      <th>perf_grp_false negative rate_1</th>\n",
       "      <th>perf_grp_selection rate_0</th>\n",
       "      <th>perf_grp_selection rate_1</th>\n",
       "      <th>perf_grp_count_0</th>\n",
       "      <th>perf_grp_count_1</th>\n",
       "    </tr>\n",
       "  </thead>\n",
       "  <tbody>\n",
       "    <tr>\n",
       "      <th>0</th>\n",
       "      <td>3</td>\n",
       "      <td>1f272c9ee4087fe3b14dd4cff336b113</td>\n",
       "      <td>{\"cutoff\": \"quantile_0.1\", \"eval_fairness_grou...</td>\n",
       "      <td>25.365417</td>\n",
       "      <td>89710</td>\n",
       "      <td>1.0</td>\n",
       "      <td>0.012117</td>\n",
       "      <td>0.986517</td>\n",
       "      <td>0.009156</td>\n",
       "      <td>0.989906</td>\n",
       "      <td>...</td>\n",
       "      <td>NaN</td>\n",
       "      <td>NaN</td>\n",
       "      <td>NaN</td>\n",
       "      <td>NaN</td>\n",
       "      <td>NaN</td>\n",
       "      <td>NaN</td>\n",
       "      <td>NaN</td>\n",
       "      <td>NaN</td>\n",
       "      <td>NaN</td>\n",
       "      <td>NaN</td>\n",
       "    </tr>\n",
       "    <tr>\n",
       "      <th>0</th>\n",
       "      <td>3</td>\n",
       "      <td>1f272c9ee4087fe3b14dd4cff336b113</td>\n",
       "      <td>{\"cutoff\": \"quantile_0.1\", \"eval_fairness_grou...</td>\n",
       "      <td>25.365417</td>\n",
       "      <td>89710</td>\n",
       "      <td>1.0</td>\n",
       "      <td>0.012117</td>\n",
       "      <td>0.986517</td>\n",
       "      <td>0.009156</td>\n",
       "      <td>0.989906</td>\n",
       "      <td>...</td>\n",
       "      <td>0.12345</td>\n",
       "      <td>0.143089</td>\n",
       "      <td>0.898690</td>\n",
       "      <td>0.886573</td>\n",
       "      <td>0.028716</td>\n",
       "      <td>0.027681</td>\n",
       "      <td>0.907059</td>\n",
       "      <td>0.897904</td>\n",
       "      <td>20540.0</td>\n",
       "      <td>69170.0</td>\n",
       "    </tr>\n",
       "    <tr>\n",
       "      <th>0</th>\n",
       "      <td>3</td>\n",
       "      <td>1f272c9ee4087fe3b14dd4cff336b113</td>\n",
       "      <td>{\"cutoff\": \"quantile_0.25\", \"eval_fairness_gro...</td>\n",
       "      <td>25.365417</td>\n",
       "      <td>89710</td>\n",
       "      <td>1.0</td>\n",
       "      <td>0.096546</td>\n",
       "      <td>0.879412</td>\n",
       "      <td>0.082827</td>\n",
       "      <td>0.898238</td>\n",
       "      <td>...</td>\n",
       "      <td>NaN</td>\n",
       "      <td>NaN</td>\n",
       "      <td>NaN</td>\n",
       "      <td>NaN</td>\n",
       "      <td>NaN</td>\n",
       "      <td>NaN</td>\n",
       "      <td>NaN</td>\n",
       "      <td>NaN</td>\n",
       "      <td>NaN</td>\n",
       "      <td>NaN</td>\n",
       "    </tr>\n",
       "    <tr>\n",
       "      <th>0</th>\n",
       "      <td>3</td>\n",
       "      <td>1f272c9ee4087fe3b14dd4cff336b113</td>\n",
       "      <td>{\"cutoff\": \"quantile_0.25\", \"eval_fairness_gro...</td>\n",
       "      <td>25.365417</td>\n",
       "      <td>89710</td>\n",
       "      <td>1.0</td>\n",
       "      <td>0.096546</td>\n",
       "      <td>0.879412</td>\n",
       "      <td>0.082827</td>\n",
       "      <td>0.898238</td>\n",
       "      <td>...</td>\n",
       "      <td>0.12974</td>\n",
       "      <td>0.164208</td>\n",
       "      <td>0.800627</td>\n",
       "      <td>0.704081</td>\n",
       "      <td>0.084037</td>\n",
       "      <td>0.091466</td>\n",
       "      <td>0.813924</td>\n",
       "      <td>0.731097</td>\n",
       "      <td>20540.0</td>\n",
       "      <td>69170.0</td>\n",
       "    </tr>\n",
       "  </tbody>\n",
       "</table>\n",
       "<p>4 rows × 50 columns</p>\n",
       "</div>"
      ],
      "text/plain": [
       "  run_no                       universe_id  \\\n",
       "0      3  1f272c9ee4087fe3b14dd4cff336b113   \n",
       "0      3  1f272c9ee4087fe3b14dd4cff336b113   \n",
       "0      3  1f272c9ee4087fe3b14dd4cff336b113   \n",
       "0      3  1f272c9ee4087fe3b14dd4cff336b113   \n",
       "\n",
       "                                   universe_settings  execution_time  \\\n",
       "0  {\"cutoff\": \"quantile_0.1\", \"eval_fairness_grou...       25.365417   \n",
       "0  {\"cutoff\": \"quantile_0.1\", \"eval_fairness_grou...       25.365417   \n",
       "0  {\"cutoff\": \"quantile_0.25\", \"eval_fairness_gro...       25.365417   \n",
       "0  {\"cutoff\": \"quantile_0.25\", \"eval_fairness_gro...       25.365417   \n",
       "\n",
       "   test_size_n  test_size_frac  fair_main_equalized_odds_difference  \\\n",
       "0        89710             1.0                             0.012117   \n",
       "0        89710             1.0                             0.012117   \n",
       "0        89710             1.0                             0.096546   \n",
       "0        89710             1.0                             0.096546   \n",
       "\n",
       "   fair_main_equalized_odds_ratio  fair_main_demographic_parity_difference  \\\n",
       "0                        0.986517                                 0.009156   \n",
       "0                        0.986517                                 0.009156   \n",
       "0                        0.879412                                 0.082827   \n",
       "0                        0.879412                                 0.082827   \n",
       "\n",
       "   fair_main_demographic_parity_ratio  ...  perf_grp_precision_0  \\\n",
       "0                            0.989906  ...                   NaN   \n",
       "0                            0.989906  ...               0.12345   \n",
       "0                            0.898238  ...                   NaN   \n",
       "0                            0.898238  ...               0.12974   \n",
       "\n",
       "   perf_grp_precision_1  perf_grp_false positive rate_0  \\\n",
       "0                   NaN                             NaN   \n",
       "0              0.143089                        0.898690   \n",
       "0                   NaN                             NaN   \n",
       "0              0.164208                        0.800627   \n",
       "\n",
       "   perf_grp_false positive rate_1  perf_grp_false negative rate_0  \\\n",
       "0                             NaN                             NaN   \n",
       "0                        0.886573                        0.028716   \n",
       "0                             NaN                             NaN   \n",
       "0                        0.704081                        0.084037   \n",
       "\n",
       "   perf_grp_false negative rate_1  perf_grp_selection rate_0  \\\n",
       "0                             NaN                        NaN   \n",
       "0                        0.027681                   0.907059   \n",
       "0                             NaN                        NaN   \n",
       "0                        0.091466                   0.813924   \n",
       "\n",
       "   perf_grp_selection rate_1  perf_grp_count_0  perf_grp_count_1  \n",
       "0                        NaN               NaN               NaN  \n",
       "0                   0.897904           20540.0           69170.0  \n",
       "0                        NaN               NaN               NaN  \n",
       "0                   0.731097           20540.0           69170.0  \n",
       "\n",
       "[4 rows x 50 columns]"
      ]
     },
     "execution_count": 64,
     "metadata": {},
     "output_type": "execute_result"
    }
   ],
   "source": [
    "final_output = universe_analysis.generate_final_output(\n",
    "    y_pred_prob=probs_test,\n",
    "    y_test=y_true,\n",
    "    org_test=org_test,\n",
    "    filter_data=filter_sub_universe_data,\n",
    "    cp_metrics_df=cp_metrics_df,\n",
    "    save=True,\n",
    ")\n",
    "final_output"
   ]
  },
  {
   "cell_type": "code",
   "execution_count": null,
   "id": "8b80a1ff",
   "metadata": {
    "papermill": {
     "duration": 0.017503,
     "end_time": "2025-08-19T19:08:05.559002",
     "exception": false,
     "start_time": "2025-08-19T19:08:05.541499",
     "status": "completed"
    },
    "tags": []
   },
   "outputs": [],
   "source": []
  },
  {
   "cell_type": "code",
   "execution_count": null,
   "id": "275c9fad",
   "metadata": {
    "papermill": {
     "duration": 0.019716,
     "end_time": "2025-08-19T19:08:05.593105",
     "exception": false,
     "start_time": "2025-08-19T19:08:05.573389",
     "status": "completed"
    },
    "tags": []
   },
   "outputs": [],
   "source": []
  }
 ],
 "metadata": {
  "celltoolbar": "Tags",
  "kernelspec": {
   "display_name": "Python (CMA Fairness)",
   "language": "python",
   "name": "cma_fair_env"
  },
  "language_info": {
   "codemirror_mode": {
    "name": "ipython",
    "version": 3
   },
   "file_extension": ".py",
   "mimetype": "text/x-python",
   "name": "python",
   "nbconvert_exporter": "python",
   "pygments_lexer": "ipython3",
   "version": "3.10.12"
  },
  "papermill": {
   "default_parameters": {},
   "duration": 36.272803,
   "end_time": "2025-08-19T19:08:06.556098",
   "environment_variables": {},
   "exception": null,
   "input_path": "universe_analysis.ipynb",
   "output_path": "output/runs/3/notebooks/m_3-1f272c9ee4087fe3b14dd4cff336b113.ipynb",
   "parameters": {
    "output_dir": "output",
    "run_no": "3",
    "seed": "2023",
    "universe": "{\"cutoff\": [\"quantile_0.1\", \"quantile_0.25\"], \"eval_fairness_grouping\": [\"majority-minority\", \"nationality-all\"], \"exclude_features\": \"age\", \"exclude_subgroups\": \"keep-all\", \"model\": \"gbm\", \"scale\": \"scale\", \"training_size\": \"1k\", \"training_year\": \"2010_14\"}",
    "universe_id": "1f272c9ee4087fe3b14dd4cff336b113"
   },
   "start_time": "2025-08-19T19:07:30.283295",
   "version": "2.6.0"
  }
 },
 "nbformat": 4,
 "nbformat_minor": 5
}