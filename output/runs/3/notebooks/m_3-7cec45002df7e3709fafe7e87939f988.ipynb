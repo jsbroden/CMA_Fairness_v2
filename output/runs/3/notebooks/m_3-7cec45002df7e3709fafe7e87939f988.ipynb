{
 "cells": [
  {
   "cell_type": "markdown",
   "id": "ef23dbb3",
   "metadata": {
    "papermill": {
     "duration": 0.009254,
     "end_time": "2025-08-19T19:05:47.263966",
     "exception": false,
     "start_time": "2025-08-19T19:05:47.254712",
     "status": "completed"
    },
    "tags": []
   },
   "source": [
    "# Setup"
   ]
  },
  {
   "cell_type": "code",
   "execution_count": 1,
   "id": "0bc8e7dc",
   "metadata": {
    "execution": {
     "iopub.execute_input": "2025-08-19T19:05:47.282762Z",
     "iopub.status.busy": "2025-08-19T19:05:47.282276Z",
     "iopub.status.idle": "2025-08-19T19:05:47.292781Z",
     "shell.execute_reply": "2025-08-19T19:05:47.291964Z"
    },
    "papermill": {
     "duration": 0.024452,
     "end_time": "2025-08-19T19:05:47.297139",
     "exception": false,
     "start_time": "2025-08-19T19:05:47.272687",
     "status": "completed"
    },
    "tags": []
   },
   "outputs": [
    {
     "name": "stdout",
     "output_type": "stream",
     "text": [
      "/dss/dsshome1/0C/ra93lal2/cma/CMA_Fairness_v2\n"
     ]
    },
    {
     "name": "stderr",
     "output_type": "stream",
     "text": [
      "/dss/dsshome1/0C/ra93lal2/.local/share/virtualenvs/CMA_Fairness_v2-3j10GkSs/lib/python3.10/site-packages/IPython/core/magics/osm.py:393: UserWarning: This is now an optional IPython functionality, using bookmarks requires you to install the `pickleshare` library.\n",
      "  bkms = self.shell.db.get('bookmarks', {})\n",
      "/dss/dsshome1/0C/ra93lal2/.local/share/virtualenvs/CMA_Fairness_v2-3j10GkSs/lib/python3.10/site-packages/IPython/core/magics/osm.py:417: UserWarning: This is now an optional IPython functionality, setting dhist requires you to install the `pickleshare` library.\n",
      "  self.shell.db['dhist'] = compress_dhist(dhist)[-100:]\n"
     ]
    }
   ],
   "source": [
    "%cd ~/cma/CMA_Fairness_v2"
   ]
  },
  {
   "cell_type": "markdown",
   "id": "9d235661",
   "metadata": {
    "papermill": {
     "duration": 0.011134,
     "end_time": "2025-08-19T19:05:47.327163",
     "exception": false,
     "start_time": "2025-08-19T19:05:47.316029",
     "status": "completed"
    },
    "tags": []
   },
   "source": [
    "The following cell holds the definition of our parameters, these values can be overriden by rendering the with e.g. the following command:\n",
    "\n",
    "papermill -p alpha 0.2 -p ratio 0.3 universe_analysis.ipynb output/test_run.ipynb"
   ]
  },
  {
   "cell_type": "code",
   "execution_count": 2,
   "id": "4a789d8e",
   "metadata": {
    "execution": {
     "iopub.execute_input": "2025-08-19T19:05:47.349675Z",
     "iopub.status.busy": "2025-08-19T19:05:47.348533Z",
     "iopub.status.idle": "2025-08-19T19:05:47.354024Z",
     "shell.execute_reply": "2025-08-19T19:05:47.353197Z"
    },
    "papermill": {
     "duration": 0.018319,
     "end_time": "2025-08-19T19:05:47.355197",
     "exception": false,
     "start_time": "2025-08-19T19:05:47.336878",
     "status": "completed"
    },
    "tags": []
   },
   "outputs": [
    {
     "name": "stdout",
     "output_type": "stream",
     "text": [
      "Current working directory: /dss/dsshome1/0C/ra93lal2/cma/CMA_Fairness_v2\n"
     ]
    }
   ],
   "source": [
    "import os\n",
    "print(\"Current working directory:\", os.getcwd())"
   ]
  },
  {
   "cell_type": "code",
   "execution_count": 3,
   "id": "4132aaed",
   "metadata": {
    "execution": {
     "iopub.execute_input": "2025-08-19T19:05:47.378535Z",
     "iopub.status.busy": "2025-08-19T19:05:47.377730Z",
     "iopub.status.idle": "2025-08-19T19:05:47.386488Z",
     "shell.execute_reply": "2025-08-19T19:05:47.384924Z"
    },
    "papermill": {
     "duration": 0.022172,
     "end_time": "2025-08-19T19:05:47.388101",
     "exception": false,
     "start_time": "2025-08-19T19:05:47.365929",
     "status": "completed"
    },
    "tags": [
     "parameters"
    ]
   },
   "outputs": [],
   "source": [
    "run_no = 0\n",
    "universe_id = \"test\"\n",
    "universe = {\n",
    "    \"training_size\": \"5k\", # \"25k\", \"5k\", \"1k\"\n",
    "    \"training_year\": \"2012_14\", # \"2014\", \"2012_14\", \"2010_14\"\n",
    "    \"scale\": \"scale\", # \"scale\", \"do-not-scale\",\n",
    "    \"model\": \"elasticnet\", # \"logreg\", \"penalized_logreg\", \"rf\", \"gbm\", \"elasticnet\"\n",
    "    \"cutoff\": [\"quantile_0.15\", \"quantile_0.30\"],\n",
    "    \"exclude_features\": \"age\", # \"none\", \"nationality\", \"sex\", \"nationality-sex\", \"age\"\n",
    "    \"exclude_subgroups\": \"drop-non-german\", # \"keep-all\", \"drop-non-german\"\n",
    "    \"eval_fairness_grouping\": [\"majority-minority\", \"nationality-all\"]\n",
    "}\n",
    "\n",
    "output_dir=\"./output\"\n",
    "seed=0"
   ]
  },
  {
   "cell_type": "code",
   "execution_count": 4,
   "id": "484b31a1",
   "metadata": {
    "execution": {
     "iopub.execute_input": "2025-08-19T19:05:47.433378Z",
     "iopub.status.busy": "2025-08-19T19:05:47.432689Z",
     "iopub.status.idle": "2025-08-19T19:05:47.438598Z",
     "shell.execute_reply": "2025-08-19T19:05:47.437764Z"
    },
    "papermill": {
     "duration": 0.040252,
     "end_time": "2025-08-19T19:05:47.439821",
     "exception": false,
     "start_time": "2025-08-19T19:05:47.399569",
     "status": "completed"
    },
    "tags": [
     "injected-parameters"
    ]
   },
   "outputs": [],
   "source": [
    "# Parameters\n",
    "universe_id = \"7cec45002df7e3709fafe7e87939f988\"\n",
    "run_no = \"3\"\n",
    "universe = \"{\\\"cutoff\\\": [\\\"quantile_0.1\\\", \\\"quantile_0.25\\\"], \\\"eval_fairness_grouping\\\": [\\\"majority-minority\\\", \\\"nationality-all\\\"], \\\"exclude_features\\\": \\\"age\\\", \\\"exclude_subgroups\\\": \\\"keep-all\\\", \\\"model\\\": \\\"penalized_logreg\\\", \\\"scale\\\": \\\"scale\\\", \\\"training_size\\\": \\\"1k\\\", \\\"training_year\\\": \\\"2010_14\\\"}\"\n",
    "output_dir = \"output\"\n",
    "seed = \"2023\"\n"
   ]
  },
  {
   "cell_type": "code",
   "execution_count": 5,
   "id": "a5d7941f",
   "metadata": {
    "execution": {
     "iopub.execute_input": "2025-08-19T19:05:47.459552Z",
     "iopub.status.busy": "2025-08-19T19:05:47.459252Z",
     "iopub.status.idle": "2025-08-19T19:05:47.464160Z",
     "shell.execute_reply": "2025-08-19T19:05:47.462888Z"
    },
    "papermill": {
     "duration": 0.016101,
     "end_time": "2025-08-19T19:05:47.465348",
     "exception": false,
     "start_time": "2025-08-19T19:05:47.449247",
     "status": "completed"
    },
    "tags": []
   },
   "outputs": [],
   "source": [
    "import json\n",
    "if isinstance(universe, str):\n",
    "    universe = json.loads(universe)"
   ]
  },
  {
   "cell_type": "code",
   "execution_count": 6,
   "id": "7076ccb1",
   "metadata": {
    "execution": {
     "iopub.execute_input": "2025-08-19T19:05:47.486074Z",
     "iopub.status.busy": "2025-08-19T19:05:47.485510Z",
     "iopub.status.idle": "2025-08-19T19:05:47.530810Z",
     "shell.execute_reply": "2025-08-19T19:05:47.530120Z"
    },
    "papermill": {
     "duration": 0.05833,
     "end_time": "2025-08-19T19:05:47.533364",
     "exception": false,
     "start_time": "2025-08-19T19:05:47.475034",
     "status": "completed"
    },
    "tags": []
   },
   "outputs": [],
   "source": [
    "# Auto-reload the custom package\n",
    "%load_ext autoreload\n",
    "%autoreload 1\n",
    "%aimport fairness_multiverse"
   ]
  },
  {
   "cell_type": "code",
   "execution_count": 7,
   "id": "94c8eb93",
   "metadata": {
    "execution": {
     "iopub.execute_input": "2025-08-19T19:05:47.574697Z",
     "iopub.status.busy": "2025-08-19T19:05:47.573346Z",
     "iopub.status.idle": "2025-08-19T19:05:49.114462Z",
     "shell.execute_reply": "2025-08-19T19:05:49.113505Z"
    },
    "papermill": {
     "duration": 1.559299,
     "end_time": "2025-08-19T19:05:49.116201",
     "exception": false,
     "start_time": "2025-08-19T19:05:47.556902",
     "status": "completed"
    },
    "tags": []
   },
   "outputs": [],
   "source": [
    "from fairness_multiverse.universe import UniverseAnalysis\n",
    "\n",
    "universe_analysis = UniverseAnalysis(\n",
    "    run_no = run_no,\n",
    "    universe_id = universe_id,\n",
    "    universe = universe,\n",
    "    output_dir=output_dir,\n",
    ")"
   ]
  },
  {
   "cell_type": "code",
   "execution_count": 8,
   "id": "2a6381cf",
   "metadata": {
    "execution": {
     "iopub.execute_input": "2025-08-19T19:05:49.146746Z",
     "iopub.status.busy": "2025-08-19T19:05:49.146376Z",
     "iopub.status.idle": "2025-08-19T19:05:49.152877Z",
     "shell.execute_reply": "2025-08-19T19:05:49.151946Z"
    },
    "papermill": {
     "duration": 0.028877,
     "end_time": "2025-08-19T19:05:49.154730",
     "exception": false,
     "start_time": "2025-08-19T19:05:49.125853",
     "status": "completed"
    },
    "tags": []
   },
   "outputs": [
    {
     "name": "stdout",
     "output_type": "stream",
     "text": [
      "Using Seed: 2023\n"
     ]
    }
   ],
   "source": [
    "import numpy as np\n",
    "parsed_seed = int(seed)\n",
    "np.random.seed(parsed_seed)\n",
    "print(f\"Using Seed: {parsed_seed}\")"
   ]
  },
  {
   "cell_type": "markdown",
   "id": "b6e958b4",
   "metadata": {
    "papermill": {
     "duration": 0.024157,
     "end_time": "2025-08-19T19:05:49.189442",
     "exception": false,
     "start_time": "2025-08-19T19:05:49.165285",
     "status": "completed"
    },
    "tags": []
   },
   "source": [
    "# Loading Data"
   ]
  },
  {
   "cell_type": "code",
   "execution_count": 9,
   "id": "98701482",
   "metadata": {
    "execution": {
     "iopub.execute_input": "2025-08-19T19:05:49.219181Z",
     "iopub.status.busy": "2025-08-19T19:05:49.218861Z",
     "iopub.status.idle": "2025-08-19T19:05:59.481809Z",
     "shell.execute_reply": "2025-08-19T19:05:59.480422Z"
    },
    "papermill": {
     "duration": 10.279717,
     "end_time": "2025-08-19T19:05:59.485133",
     "exception": false,
     "start_time": "2025-08-19T19:05:49.205416",
     "status": "completed"
    },
    "tags": []
   },
   "outputs": [
    {
     "name": "stdout",
     "output_type": "stream",
     "text": [
      "Loading SIAB data from cache: data/siab_cached.csv.gz\n"
     ]
    },
    {
     "name": "stdout",
     "output_type": "stream",
     "text": [
      "(643690, 164)\n"
     ]
    }
   ],
   "source": [
    "from pathlib import Path\n",
    "import pandas as pd\n",
    "\n",
    "# File paths\n",
    "raw_file = Path(\"data/raw/siab.csv\")\n",
    "cache_file = Path(\"data/siab_cached.csv.gz\")\n",
    "\n",
    "# Ensure cache directory exists\n",
    "cache_file.parent.mkdir(parents=True, exist_ok=True)\n",
    "\n",
    "# Load with simple caching\n",
    "if cache_file.exists():\n",
    "    print(f\"Loading SIAB data from cache: {cache_file}\")\n",
    "    siab = pd.read_csv(cache_file, compression='gzip')\n",
    "else:\n",
    "    print(f\"Cache not found. Reading raw SIAB data: {raw_file}\")\n",
    "    siab = pd.read_csv(raw_file)\n",
    "    siab.to_csv(cache_file, index=False, compression='gzip')\n",
    "    print(f\"Cached SIAB data to: {cache_file}\")\n",
    "\n",
    "print(siab.shape)"
   ]
  },
  {
   "cell_type": "code",
   "execution_count": 10,
   "id": "058d2abb",
   "metadata": {
    "execution": {
     "iopub.execute_input": "2025-08-19T19:05:59.524950Z",
     "iopub.status.busy": "2025-08-19T19:05:59.523633Z",
     "iopub.status.idle": "2025-08-19T19:05:59.732355Z",
     "shell.execute_reply": "2025-08-19T19:05:59.731120Z"
    },
    "papermill": {
     "duration": 0.227173,
     "end_time": "2025-08-19T19:05:59.733796",
     "exception": false,
     "start_time": "2025-08-19T19:05:59.506623",
     "status": "completed"
    },
    "tags": []
   },
   "outputs": [
    {
     "data": {
      "text/html": [
       "<div>\n",
       "<style scoped>\n",
       "    .dataframe tbody tr th:only-of-type {\n",
       "        vertical-align: middle;\n",
       "    }\n",
       "\n",
       "    .dataframe tbody tr th {\n",
       "        vertical-align: top;\n",
       "    }\n",
       "\n",
       "    .dataframe thead th {\n",
       "        text-align: right;\n",
       "    }\n",
       "</style>\n",
       "<table border=\"1\" class=\"dataframe\">\n",
       "  <thead>\n",
       "    <tr style=\"text-align: right;\">\n",
       "      <th></th>\n",
       "      <th>persnr</th>\n",
       "      <th>year</th>\n",
       "      <th>nrEntry</th>\n",
       "      <th>ltue</th>\n",
       "      <th>employed_before</th>\n",
       "      <th>receipt_leh_before</th>\n",
       "      <th>receipt_lhg_before</th>\n",
       "      <th>se_before</th>\n",
       "      <th>ASU_notue_seeking_before</th>\n",
       "      <th>ASU_other_before</th>\n",
       "      <th>...</th>\n",
       "      <th>minijob_tot_dur_byage</th>\n",
       "      <th>ft_tot_dur_byage</th>\n",
       "      <th>befrist_tot_dur_byage</th>\n",
       "      <th>leih_tot_dur_byage</th>\n",
       "      <th>LHG_tot_dur_byage</th>\n",
       "      <th>LEH_tot_dur_byage</th>\n",
       "      <th>almp_tot_dur_byage</th>\n",
       "      <th>almp_aw_tot_dur_byage</th>\n",
       "      <th>se_tot_dur_byage</th>\n",
       "      <th>seeking1_tot_dur_byage</th>\n",
       "    </tr>\n",
       "  </thead>\n",
       "  <tbody>\n",
       "    <tr>\n",
       "      <th>0</th>\n",
       "      <td>7</td>\n",
       "      <td>2015</td>\n",
       "      <td>1</td>\n",
       "      <td>0</td>\n",
       "      <td>1</td>\n",
       "      <td>0</td>\n",
       "      <td>0</td>\n",
       "      <td>0</td>\n",
       "      <td>1</td>\n",
       "      <td>0</td>\n",
       "      <td>...</td>\n",
       "      <td>0.000000</td>\n",
       "      <td>0.000000</td>\n",
       "      <td>15.043478</td>\n",
       "      <td>0.000000</td>\n",
       "      <td>0.000000</td>\n",
       "      <td>0.000000</td>\n",
       "      <td>0.000000</td>\n",
       "      <td>0.000000</td>\n",
       "      <td>0.000000</td>\n",
       "      <td>0.000000</td>\n",
       "    </tr>\n",
       "    <tr>\n",
       "      <th>1</th>\n",
       "      <td>18</td>\n",
       "      <td>2010</td>\n",
       "      <td>1</td>\n",
       "      <td>1</td>\n",
       "      <td>0</td>\n",
       "      <td>0</td>\n",
       "      <td>0</td>\n",
       "      <td>0</td>\n",
       "      <td>0</td>\n",
       "      <td>0</td>\n",
       "      <td>...</td>\n",
       "      <td>0.000000</td>\n",
       "      <td>0.000000</td>\n",
       "      <td>0.000000</td>\n",
       "      <td>0.000000</td>\n",
       "      <td>0.000000</td>\n",
       "      <td>0.000000</td>\n",
       "      <td>0.000000</td>\n",
       "      <td>0.000000</td>\n",
       "      <td>0.000000</td>\n",
       "      <td>0.000000</td>\n",
       "    </tr>\n",
       "    <tr>\n",
       "      <th>2</th>\n",
       "      <td>18</td>\n",
       "      <td>2011</td>\n",
       "      <td>2</td>\n",
       "      <td>0</td>\n",
       "      <td>1</td>\n",
       "      <td>0</td>\n",
       "      <td>1</td>\n",
       "      <td>0</td>\n",
       "      <td>1</td>\n",
       "      <td>0</td>\n",
       "      <td>...</td>\n",
       "      <td>2.714286</td>\n",
       "      <td>2.714286</td>\n",
       "      <td>0.000000</td>\n",
       "      <td>0.000000</td>\n",
       "      <td>10.775510</td>\n",
       "      <td>0.000000</td>\n",
       "      <td>8.367347</td>\n",
       "      <td>0.000000</td>\n",
       "      <td>0.000000</td>\n",
       "      <td>9.836735</td>\n",
       "    </tr>\n",
       "    <tr>\n",
       "      <th>3</th>\n",
       "      <td>18</td>\n",
       "      <td>2012</td>\n",
       "      <td>3</td>\n",
       "      <td>0</td>\n",
       "      <td>1</td>\n",
       "      <td>0</td>\n",
       "      <td>1</td>\n",
       "      <td>0</td>\n",
       "      <td>1</td>\n",
       "      <td>0</td>\n",
       "      <td>...</td>\n",
       "      <td>4.200000</td>\n",
       "      <td>4.200000</td>\n",
       "      <td>0.000000</td>\n",
       "      <td>0.000000</td>\n",
       "      <td>12.100000</td>\n",
       "      <td>0.000000</td>\n",
       "      <td>9.400000</td>\n",
       "      <td>0.000000</td>\n",
       "      <td>0.000000</td>\n",
       "      <td>9.960000</td>\n",
       "    </tr>\n",
       "    <tr>\n",
       "      <th>4</th>\n",
       "      <td>18</td>\n",
       "      <td>2012</td>\n",
       "      <td>4</td>\n",
       "      <td>0</td>\n",
       "      <td>1</td>\n",
       "      <td>0</td>\n",
       "      <td>1</td>\n",
       "      <td>0</td>\n",
       "      <td>1</td>\n",
       "      <td>0</td>\n",
       "      <td>...</td>\n",
       "      <td>5.460000</td>\n",
       "      <td>5.460000</td>\n",
       "      <td>0.000000</td>\n",
       "      <td>0.000000</td>\n",
       "      <td>13.360000</td>\n",
       "      <td>0.000000</td>\n",
       "      <td>10.320000</td>\n",
       "      <td>0.000000</td>\n",
       "      <td>0.000000</td>\n",
       "      <td>10.280000</td>\n",
       "    </tr>\n",
       "    <tr>\n",
       "      <th>...</th>\n",
       "      <td>...</td>\n",
       "      <td>...</td>\n",
       "      <td>...</td>\n",
       "      <td>...</td>\n",
       "      <td>...</td>\n",
       "      <td>...</td>\n",
       "      <td>...</td>\n",
       "      <td>...</td>\n",
       "      <td>...</td>\n",
       "      <td>...</td>\n",
       "      <td>...</td>\n",
       "      <td>...</td>\n",
       "      <td>...</td>\n",
       "      <td>...</td>\n",
       "      <td>...</td>\n",
       "      <td>...</td>\n",
       "      <td>...</td>\n",
       "      <td>...</td>\n",
       "      <td>...</td>\n",
       "      <td>...</td>\n",
       "      <td>...</td>\n",
       "    </tr>\n",
       "    <tr>\n",
       "      <th>643685</th>\n",
       "      <td>1827860</td>\n",
       "      <td>2013</td>\n",
       "      <td>1</td>\n",
       "      <td>0</td>\n",
       "      <td>0</td>\n",
       "      <td>0</td>\n",
       "      <td>1</td>\n",
       "      <td>0</td>\n",
       "      <td>0</td>\n",
       "      <td>1</td>\n",
       "      <td>...</td>\n",
       "      <td>0.000000</td>\n",
       "      <td>0.000000</td>\n",
       "      <td>0.000000</td>\n",
       "      <td>0.000000</td>\n",
       "      <td>0.612903</td>\n",
       "      <td>0.000000</td>\n",
       "      <td>0.000000</td>\n",
       "      <td>0.000000</td>\n",
       "      <td>0.000000</td>\n",
       "      <td>0.000000</td>\n",
       "    </tr>\n",
       "    <tr>\n",
       "      <th>643686</th>\n",
       "      <td>1827860</td>\n",
       "      <td>2015</td>\n",
       "      <td>2</td>\n",
       "      <td>1</td>\n",
       "      <td>0</td>\n",
       "      <td>0</td>\n",
       "      <td>1</td>\n",
       "      <td>0</td>\n",
       "      <td>1</td>\n",
       "      <td>0</td>\n",
       "      <td>...</td>\n",
       "      <td>0.000000</td>\n",
       "      <td>0.000000</td>\n",
       "      <td>0.212121</td>\n",
       "      <td>0.212121</td>\n",
       "      <td>17.363636</td>\n",
       "      <td>0.000000</td>\n",
       "      <td>8.909091</td>\n",
       "      <td>0.000000</td>\n",
       "      <td>0.000000</td>\n",
       "      <td>7.121212</td>\n",
       "    </tr>\n",
       "    <tr>\n",
       "      <th>643687</th>\n",
       "      <td>1827860</td>\n",
       "      <td>2016</td>\n",
       "      <td>3</td>\n",
       "      <td>1</td>\n",
       "      <td>0</td>\n",
       "      <td>0</td>\n",
       "      <td>1</td>\n",
       "      <td>1</td>\n",
       "      <td>0</td>\n",
       "      <td>1</td>\n",
       "      <td>...</td>\n",
       "      <td>0.000000</td>\n",
       "      <td>0.000000</td>\n",
       "      <td>0.294118</td>\n",
       "      <td>0.205882</td>\n",
       "      <td>34.705882</td>\n",
       "      <td>0.000000</td>\n",
       "      <td>10.352941</td>\n",
       "      <td>1.705882</td>\n",
       "      <td>1.705882</td>\n",
       "      <td>23.911765</td>\n",
       "    </tr>\n",
       "    <tr>\n",
       "      <th>643688</th>\n",
       "      <td>1827869</td>\n",
       "      <td>2013</td>\n",
       "      <td>1</td>\n",
       "      <td>1</td>\n",
       "      <td>1</td>\n",
       "      <td>0</td>\n",
       "      <td>0</td>\n",
       "      <td>0</td>\n",
       "      <td>1</td>\n",
       "      <td>0</td>\n",
       "      <td>...</td>\n",
       "      <td>0.000000</td>\n",
       "      <td>0.000000</td>\n",
       "      <td>0.000000</td>\n",
       "      <td>0.000000</td>\n",
       "      <td>0.000000</td>\n",
       "      <td>0.525424</td>\n",
       "      <td>0.000000</td>\n",
       "      <td>0.000000</td>\n",
       "      <td>0.000000</td>\n",
       "      <td>0.000000</td>\n",
       "    </tr>\n",
       "    <tr>\n",
       "      <th>643689</th>\n",
       "      <td>1827869</td>\n",
       "      <td>2014</td>\n",
       "      <td>2</td>\n",
       "      <td>0</td>\n",
       "      <td>0</td>\n",
       "      <td>1</td>\n",
       "      <td>0</td>\n",
       "      <td>0</td>\n",
       "      <td>1</td>\n",
       "      <td>0</td>\n",
       "      <td>...</td>\n",
       "      <td>0.000000</td>\n",
       "      <td>0.666667</td>\n",
       "      <td>0.666667</td>\n",
       "      <td>0.000000</td>\n",
       "      <td>0.000000</td>\n",
       "      <td>8.950000</td>\n",
       "      <td>1.033333</td>\n",
       "      <td>0.083333</td>\n",
       "      <td>0.083333</td>\n",
       "      <td>8.133333</td>\n",
       "    </tr>\n",
       "  </tbody>\n",
       "</table>\n",
       "<p>643690 rows × 164 columns</p>\n",
       "</div>"
      ],
      "text/plain": [
       "         persnr  year  nrEntry  ltue  employed_before  receipt_leh_before  \\\n",
       "0             7  2015        1     0                1                   0   \n",
       "1            18  2010        1     1                0                   0   \n",
       "2            18  2011        2     0                1                   0   \n",
       "3            18  2012        3     0                1                   0   \n",
       "4            18  2012        4     0                1                   0   \n",
       "...         ...   ...      ...   ...              ...                 ...   \n",
       "643685  1827860  2013        1     0                0                   0   \n",
       "643686  1827860  2015        2     1                0                   0   \n",
       "643687  1827860  2016        3     1                0                   0   \n",
       "643688  1827869  2013        1     1                1                   0   \n",
       "643689  1827869  2014        2     0                0                   1   \n",
       "\n",
       "        receipt_lhg_before  se_before  ASU_notue_seeking_before  \\\n",
       "0                        0          0                         1   \n",
       "1                        0          0                         0   \n",
       "2                        1          0                         1   \n",
       "3                        1          0                         1   \n",
       "4                        1          0                         1   \n",
       "...                    ...        ...                       ...   \n",
       "643685                   1          0                         0   \n",
       "643686                   1          0                         1   \n",
       "643687                   1          1                         0   \n",
       "643688                   0          0                         1   \n",
       "643689                   0          0                         1   \n",
       "\n",
       "        ASU_other_before  ...  minijob_tot_dur_byage  ft_tot_dur_byage  \\\n",
       "0                      0  ...               0.000000          0.000000   \n",
       "1                      0  ...               0.000000          0.000000   \n",
       "2                      0  ...               2.714286          2.714286   \n",
       "3                      0  ...               4.200000          4.200000   \n",
       "4                      0  ...               5.460000          5.460000   \n",
       "...                  ...  ...                    ...               ...   \n",
       "643685                 1  ...               0.000000          0.000000   \n",
       "643686                 0  ...               0.000000          0.000000   \n",
       "643687                 1  ...               0.000000          0.000000   \n",
       "643688                 0  ...               0.000000          0.000000   \n",
       "643689                 0  ...               0.000000          0.666667   \n",
       "\n",
       "        befrist_tot_dur_byage  leih_tot_dur_byage  LHG_tot_dur_byage  \\\n",
       "0                   15.043478            0.000000           0.000000   \n",
       "1                    0.000000            0.000000           0.000000   \n",
       "2                    0.000000            0.000000          10.775510   \n",
       "3                    0.000000            0.000000          12.100000   \n",
       "4                    0.000000            0.000000          13.360000   \n",
       "...                       ...                 ...                ...   \n",
       "643685               0.000000            0.000000           0.612903   \n",
       "643686               0.212121            0.212121          17.363636   \n",
       "643687               0.294118            0.205882          34.705882   \n",
       "643688               0.000000            0.000000           0.000000   \n",
       "643689               0.666667            0.000000           0.000000   \n",
       "\n",
       "        LEH_tot_dur_byage  almp_tot_dur_byage  almp_aw_tot_dur_byage  \\\n",
       "0                0.000000            0.000000               0.000000   \n",
       "1                0.000000            0.000000               0.000000   \n",
       "2                0.000000            8.367347               0.000000   \n",
       "3                0.000000            9.400000               0.000000   \n",
       "4                0.000000           10.320000               0.000000   \n",
       "...                   ...                 ...                    ...   \n",
       "643685           0.000000            0.000000               0.000000   \n",
       "643686           0.000000            8.909091               0.000000   \n",
       "643687           0.000000           10.352941               1.705882   \n",
       "643688           0.525424            0.000000               0.000000   \n",
       "643689           8.950000            1.033333               0.083333   \n",
       "\n",
       "        se_tot_dur_byage  seeking1_tot_dur_byage  \n",
       "0               0.000000                0.000000  \n",
       "1               0.000000                0.000000  \n",
       "2               0.000000                9.836735  \n",
       "3               0.000000                9.960000  \n",
       "4               0.000000               10.280000  \n",
       "...                  ...                     ...  \n",
       "643685          0.000000                0.000000  \n",
       "643686          0.000000                7.121212  \n",
       "643687          1.705882               23.911765  \n",
       "643688          0.000000                0.000000  \n",
       "643689          0.083333                8.133333  \n",
       "\n",
       "[643690 rows x 164 columns]"
      ]
     },
     "execution_count": 10,
     "metadata": {},
     "output_type": "execute_result"
    }
   ],
   "source": [
    "siab"
   ]
  },
  {
   "cell_type": "markdown",
   "id": "1f87e805",
   "metadata": {
    "papermill": {
     "duration": 0.010238,
     "end_time": "2025-08-19T19:05:59.756626",
     "exception": false,
     "start_time": "2025-08-19T19:05:59.746388",
     "status": "completed"
    },
    "tags": []
   },
   "source": [
    "# Splitting Data and Setting Training Data Size"
   ]
  },
  {
   "cell_type": "code",
   "execution_count": 11,
   "id": "910ae358",
   "metadata": {
    "execution": {
     "iopub.execute_input": "2025-08-19T19:05:59.779386Z",
     "iopub.status.busy": "2025-08-19T19:05:59.778943Z",
     "iopub.status.idle": "2025-08-19T19:06:00.890761Z",
     "shell.execute_reply": "2025-08-19T19:06:00.889658Z"
    },
    "papermill": {
     "duration": 1.126504,
     "end_time": "2025-08-19T19:06:00.894008",
     "exception": false,
     "start_time": "2025-08-19T19:05:59.767504",
     "status": "completed"
    },
    "tags": []
   },
   "outputs": [],
   "source": [
    "from fairness_multiverse.universe import sample_by_year_size\n",
    "\n",
    "siab_train = sample_by_year_size(siab,\n",
    "                               training_year=universe[\"training_year\"],\n",
    "                               training_size=universe[\"training_size\"])"
   ]
  },
  {
   "cell_type": "code",
   "execution_count": 12,
   "id": "919c8ff5",
   "metadata": {
    "execution": {
     "iopub.execute_input": "2025-08-19T19:06:00.933861Z",
     "iopub.status.busy": "2025-08-19T19:06:00.933340Z",
     "iopub.status.idle": "2025-08-19T19:06:00.942225Z",
     "shell.execute_reply": "2025-08-19T19:06:00.940968Z"
    },
    "papermill": {
     "duration": 0.035221,
     "end_time": "2025-08-19T19:06:00.948565",
     "exception": false,
     "start_time": "2025-08-19T19:06:00.913344",
     "status": "completed"
    },
    "tags": []
   },
   "outputs": [
    {
     "data": {
      "text/plain": [
       "(1000, 164)"
      ]
     },
     "execution_count": 12,
     "metadata": {},
     "output_type": "execute_result"
    }
   ],
   "source": [
    "siab_train.shape"
   ]
  },
  {
   "cell_type": "code",
   "execution_count": 13,
   "id": "feb13bf4",
   "metadata": {
    "execution": {
     "iopub.execute_input": "2025-08-19T19:06:00.977878Z",
     "iopub.status.busy": "2025-08-19T19:06:00.976726Z",
     "iopub.status.idle": "2025-08-19T19:06:00.991668Z",
     "shell.execute_reply": "2025-08-19T19:06:00.990467Z"
    },
    "papermill": {
     "duration": 0.030018,
     "end_time": "2025-08-19T19:06:00.993911",
     "exception": false,
     "start_time": "2025-08-19T19:06:00.963893",
     "status": "completed"
    },
    "tags": []
   },
   "outputs": [
    {
     "data": {
      "text/plain": [
       "year\n",
       "2010    200\n",
       "2011    200\n",
       "2012    200\n",
       "2013    200\n",
       "2014    200\n",
       "dtype: int64"
      ]
     },
     "metadata": {},
     "output_type": "display_data"
    }
   ],
   "source": [
    "display(siab_train.groupby(\"year\").size())"
   ]
  },
  {
   "cell_type": "code",
   "execution_count": 14,
   "id": "0997782f",
   "metadata": {
    "execution": {
     "iopub.execute_input": "2025-08-19T19:06:01.047213Z",
     "iopub.status.busy": "2025-08-19T19:06:01.046690Z",
     "iopub.status.idle": "2025-08-19T19:06:01.325604Z",
     "shell.execute_reply": "2025-08-19T19:06:01.324184Z"
    },
    "papermill": {
     "duration": 0.2946,
     "end_time": "2025-08-19T19:06:01.327569",
     "exception": false,
     "start_time": "2025-08-19T19:06:01.032969",
     "status": "completed"
    },
    "tags": []
   },
   "outputs": [],
   "source": [
    "#siab_train = siab_s[siab_s.year < 2015]\n",
    "siab_calib = siab[siab.year == 2015]\n",
    "siab_test = siab[siab.year == 2016]"
   ]
  },
  {
   "cell_type": "code",
   "execution_count": 15,
   "id": "2c1e4012",
   "metadata": {
    "execution": {
     "iopub.execute_input": "2025-08-19T19:06:01.377676Z",
     "iopub.status.busy": "2025-08-19T19:06:01.376731Z",
     "iopub.status.idle": "2025-08-19T19:06:01.385185Z",
     "shell.execute_reply": "2025-08-19T19:06:01.383972Z"
    },
    "papermill": {
     "duration": 0.038806,
     "end_time": "2025-08-19T19:06:01.387994",
     "exception": false,
     "start_time": "2025-08-19T19:06:01.349188",
     "status": "completed"
    },
    "tags": []
   },
   "outputs": [],
   "source": [
    "#siab_calib.shape"
   ]
  },
  {
   "cell_type": "code",
   "execution_count": 16,
   "id": "f66b54ca",
   "metadata": {
    "execution": {
     "iopub.execute_input": "2025-08-19T19:06:01.427107Z",
     "iopub.status.busy": "2025-08-19T19:06:01.426361Z",
     "iopub.status.idle": "2025-08-19T19:06:01.433161Z",
     "shell.execute_reply": "2025-08-19T19:06:01.431731Z"
    },
    "papermill": {
     "duration": 0.023245,
     "end_time": "2025-08-19T19:06:01.434751",
     "exception": false,
     "start_time": "2025-08-19T19:06:01.411506",
     "status": "completed"
    },
    "tags": []
   },
   "outputs": [],
   "source": [
    "#siab_test.shape"
   ]
  },
  {
   "cell_type": "code",
   "execution_count": 17,
   "id": "27e4384d",
   "metadata": {
    "execution": {
     "iopub.execute_input": "2025-08-19T19:06:01.459546Z",
     "iopub.status.busy": "2025-08-19T19:06:01.459038Z",
     "iopub.status.idle": "2025-08-19T19:06:01.468103Z",
     "shell.execute_reply": "2025-08-19T19:06:01.467122Z"
    },
    "papermill": {
     "duration": 0.021905,
     "end_time": "2025-08-19T19:06:01.469505",
     "exception": false,
     "start_time": "2025-08-19T19:06:01.447600",
     "status": "completed"
    },
    "tags": []
   },
   "outputs": [],
   "source": [
    "X_train = siab_train.iloc[:,4:164]\n",
    "y_train = siab_train.iloc[:, [3]]"
   ]
  },
  {
   "cell_type": "code",
   "execution_count": 18,
   "id": "08ee8389",
   "metadata": {
    "execution": {
     "iopub.execute_input": "2025-08-19T19:06:01.494064Z",
     "iopub.status.busy": "2025-08-19T19:06:01.493789Z",
     "iopub.status.idle": "2025-08-19T19:06:01.546055Z",
     "shell.execute_reply": "2025-08-19T19:06:01.545072Z"
    },
    "papermill": {
     "duration": 0.065337,
     "end_time": "2025-08-19T19:06:01.547550",
     "exception": false,
     "start_time": "2025-08-19T19:06:01.482213",
     "status": "completed"
    },
    "tags": []
   },
   "outputs": [],
   "source": [
    "X_calib = siab_calib.iloc[:,4:164]\n",
    "y_calib = siab_calib.iloc[:, [3]]"
   ]
  },
  {
   "cell_type": "code",
   "execution_count": 19,
   "id": "b7ff42e0",
   "metadata": {
    "execution": {
     "iopub.execute_input": "2025-08-19T19:06:01.570152Z",
     "iopub.status.busy": "2025-08-19T19:06:01.569702Z",
     "iopub.status.idle": "2025-08-19T19:06:01.629473Z",
     "shell.execute_reply": "2025-08-19T19:06:01.628322Z"
    },
    "papermill": {
     "duration": 0.072721,
     "end_time": "2025-08-19T19:06:01.630936",
     "exception": false,
     "start_time": "2025-08-19T19:06:01.558215",
     "status": "completed"
    },
    "tags": []
   },
   "outputs": [],
   "source": [
    "X_test = siab_test.iloc[:,4:164]\n",
    "y_true = siab_test.iloc[:, [3]]"
   ]
  },
  {
   "cell_type": "code",
   "execution_count": 20,
   "id": "0275101e",
   "metadata": {
    "execution": {
     "iopub.execute_input": "2025-08-19T19:06:01.655027Z",
     "iopub.status.busy": "2025-08-19T19:06:01.654541Z",
     "iopub.status.idle": "2025-08-19T19:06:01.780685Z",
     "shell.execute_reply": "2025-08-19T19:06:01.779717Z"
    },
    "papermill": {
     "duration": 0.140067,
     "end_time": "2025-08-19T19:06:01.782258",
     "exception": false,
     "start_time": "2025-08-19T19:06:01.642191",
     "status": "completed"
    },
    "tags": []
   },
   "outputs": [],
   "source": [
    "# Auxiliary data needed downstream in the pipeline\n",
    "\n",
    "org_train = X_train.copy()\n",
    "org_test = X_test.copy()\n",
    "org_calib = X_calib.copy()"
   ]
  },
  {
   "cell_type": "markdown",
   "id": "b461e618",
   "metadata": {
    "papermill": {
     "duration": 0.010518,
     "end_time": "2025-08-19T19:06:01.803531",
     "exception": false,
     "start_time": "2025-08-19T19:06:01.793013",
     "status": "completed"
    },
    "tags": []
   },
   "source": [
    "# Preprocessing Data"
   ]
  },
  {
   "cell_type": "code",
   "execution_count": 21,
   "id": "78e74c4b",
   "metadata": {
    "execution": {
     "iopub.execute_input": "2025-08-19T19:06:01.827015Z",
     "iopub.status.busy": "2025-08-19T19:06:01.826300Z",
     "iopub.status.idle": "2025-08-19T19:06:01.849147Z",
     "shell.execute_reply": "2025-08-19T19:06:01.837371Z"
    },
    "papermill": {
     "duration": 0.037015,
     "end_time": "2025-08-19T19:06:01.850559",
     "exception": false,
     "start_time": "2025-08-19T19:06:01.813544",
     "status": "completed"
    },
    "tags": []
   },
   "outputs": [],
   "source": [
    "# EXCLUDE PROTECTED FEATURES\n",
    "# --------------------------\n",
    "\n",
    "excluded_features = universe[\"exclude_features\"].split(\"-\")\n",
    "excluded_features_dictionary = {\n",
    "    \"nationality\": [\"maxdeutsch1\", \"maxdeutsch.Missing.\"],\n",
    "    \"sex\": [\"frau1\"],\n",
    "    \"age\": [\"age\"],\n",
    "}"
   ]
  },
  {
   "cell_type": "code",
   "execution_count": 22,
   "id": "f8e63555",
   "metadata": {
    "execution": {
     "iopub.execute_input": "2025-08-19T19:06:01.887690Z",
     "iopub.status.busy": "2025-08-19T19:06:01.887351Z",
     "iopub.status.idle": "2025-08-19T19:06:01.894650Z",
     "shell.execute_reply": "2025-08-19T19:06:01.893826Z"
    },
    "papermill": {
     "duration": 0.020484,
     "end_time": "2025-08-19T19:06:01.895943",
     "exception": false,
     "start_time": "2025-08-19T19:06:01.875459",
     "status": "completed"
    },
    "tags": []
   },
   "outputs": [],
   "source": [
    "excluded_features_columns = [\n",
    "    excluded_features_dictionary[f] for f in excluded_features if len(f) > 0 and f != \"none\"\n",
    "]"
   ]
  },
  {
   "cell_type": "code",
   "execution_count": 23,
   "id": "da781f7c",
   "metadata": {
    "execution": {
     "iopub.execute_input": "2025-08-19T19:06:01.919138Z",
     "iopub.status.busy": "2025-08-19T19:06:01.918750Z",
     "iopub.status.idle": "2025-08-19T19:06:01.923330Z",
     "shell.execute_reply": "2025-08-19T19:06:01.922447Z"
    },
    "papermill": {
     "duration": 0.017269,
     "end_time": "2025-08-19T19:06:01.924465",
     "exception": false,
     "start_time": "2025-08-19T19:06:01.907196",
     "status": "completed"
    },
    "tags": []
   },
   "outputs": [],
   "source": [
    "from fairness_multiverse.universe import flatten_once\n",
    "\n",
    "excluded_features_columns = flatten_once(excluded_features_columns)"
   ]
  },
  {
   "cell_type": "code",
   "execution_count": 24,
   "id": "37fef0f0",
   "metadata": {
    "execution": {
     "iopub.execute_input": "2025-08-19T19:06:01.946925Z",
     "iopub.status.busy": "2025-08-19T19:06:01.946518Z",
     "iopub.status.idle": "2025-08-19T19:06:01.954910Z",
     "shell.execute_reply": "2025-08-19T19:06:01.953965Z"
    },
    "papermill": {
     "duration": 0.021138,
     "end_time": "2025-08-19T19:06:01.956171",
     "exception": false,
     "start_time": "2025-08-19T19:06:01.935033",
     "status": "completed"
    },
    "tags": []
   },
   "outputs": [
    {
     "name": "stdout",
     "output_type": "stream",
     "text": [
      "Dropping features: ['age']\n"
     ]
    }
   ],
   "source": [
    "if len(excluded_features_columns) > 0:\n",
    "    print(f\"Dropping features: {excluded_features_columns}\")\n",
    "    X_train.drop(excluded_features_columns, axis=1, inplace=True)"
   ]
  },
  {
   "cell_type": "code",
   "execution_count": 25,
   "id": "d029e3e9",
   "metadata": {
    "execution": {
     "iopub.execute_input": "2025-08-19T19:06:01.979725Z",
     "iopub.status.busy": "2025-08-19T19:06:01.979392Z",
     "iopub.status.idle": "2025-08-19T19:06:02.074814Z",
     "shell.execute_reply": "2025-08-19T19:06:02.073833Z"
    },
    "papermill": {
     "duration": 0.108858,
     "end_time": "2025-08-19T19:06:02.076206",
     "exception": false,
     "start_time": "2025-08-19T19:06:01.967348",
     "status": "completed"
    },
    "tags": []
   },
   "outputs": [
    {
     "name": "stdout",
     "output_type": "stream",
     "text": [
      "Dropping features: ['age']\n"
     ]
    }
   ],
   "source": [
    "if len(excluded_features_columns) > 0:\n",
    "    print(f\"Dropping features: {excluded_features_columns}\")\n",
    "    X_test.drop(excluded_features_columns, axis=1, inplace=True)"
   ]
  },
  {
   "cell_type": "code",
   "execution_count": 26,
   "id": "01d571f0",
   "metadata": {
    "execution": {
     "iopub.execute_input": "2025-08-19T19:06:02.102081Z",
     "iopub.status.busy": "2025-08-19T19:06:02.101036Z",
     "iopub.status.idle": "2025-08-19T19:06:02.153830Z",
     "shell.execute_reply": "2025-08-19T19:06:02.152931Z"
    },
    "papermill": {
     "duration": 0.071599,
     "end_time": "2025-08-19T19:06:02.160051",
     "exception": false,
     "start_time": "2025-08-19T19:06:02.088452",
     "status": "completed"
    },
    "tags": []
   },
   "outputs": [
    {
     "name": "stdout",
     "output_type": "stream",
     "text": [
      "Dropping features: ['age']\n"
     ]
    }
   ],
   "source": [
    "if len(excluded_features_columns) > 0:\n",
    "    print(f\"Dropping features: {excluded_features_columns}\")\n",
    "    X_calib.drop(excluded_features_columns, axis=1, inplace=True)"
   ]
  },
  {
   "cell_type": "code",
   "execution_count": 27,
   "id": "3037356e",
   "metadata": {
    "execution": {
     "iopub.execute_input": "2025-08-19T19:06:02.212992Z",
     "iopub.status.busy": "2025-08-19T19:06:02.211641Z",
     "iopub.status.idle": "2025-08-19T19:06:02.220924Z",
     "shell.execute_reply": "2025-08-19T19:06:02.219064Z"
    },
    "papermill": {
     "duration": 0.026239,
     "end_time": "2025-08-19T19:06:02.222935",
     "exception": false,
     "start_time": "2025-08-19T19:06:02.196696",
     "status": "completed"
    },
    "tags": []
   },
   "outputs": [],
   "source": [
    "# EXCLUDE CERTAIN SUBGROUPS\n",
    "# -------------------------\n",
    "\n",
    "mode = universe.get(\"exclude_subgroups\", \"keep-all\") # Defaults to \"keep-all\" if the key is missing."
   ]
  },
  {
   "cell_type": "code",
   "execution_count": 28,
   "id": "9d1e63fd",
   "metadata": {
    "execution": {
     "iopub.execute_input": "2025-08-19T19:06:02.254127Z",
     "iopub.status.busy": "2025-08-19T19:06:02.253197Z",
     "iopub.status.idle": "2025-08-19T19:06:02.264898Z",
     "shell.execute_reply": "2025-08-19T19:06:02.263655Z"
    },
    "papermill": {
     "duration": 0.029807,
     "end_time": "2025-08-19T19:06:02.266882",
     "exception": false,
     "start_time": "2025-08-19T19:06:02.237075",
     "status": "completed"
    },
    "tags": []
   },
   "outputs": [],
   "source": [
    "if mode == \"keep-all\":\n",
    "    keep_mask = pd.Series(True, index=org_train.index)\n",
    "\n",
    "elif mode == \"drop-non-german\":\n",
    "    keep_mask = (org_train[\"maxdeutsch1\"] == 1) & (org_train[\"maxdeutsch.Missing.\"] == 0)\n",
    "\n",
    "else:\n",
    "    raise ValueError(f\"Unsupported mode for exclude_subgroups: {mode}\")"
   ]
  },
  {
   "cell_type": "code",
   "execution_count": 29,
   "id": "d3b65474",
   "metadata": {
    "execution": {
     "iopub.execute_input": "2025-08-19T19:06:02.304817Z",
     "iopub.status.busy": "2025-08-19T19:06:02.303474Z",
     "iopub.status.idle": "2025-08-19T19:06:02.316300Z",
     "shell.execute_reply": "2025-08-19T19:06:02.315169Z"
    },
    "papermill": {
     "duration": 0.03343,
     "end_time": "2025-08-19T19:06:02.318472",
     "exception": false,
     "start_time": "2025-08-19T19:06:02.285042",
     "status": "completed"
    },
    "tags": []
   },
   "outputs": [],
   "source": [
    "n_drop = (~keep_mask).sum() # Calculates how many rows are set to be dropped\n",
    "if n_drop > 0:\n",
    "    pct = n_drop / len(keep_mask) * 100\n",
    "    print(f\"Dropping {n_drop} rows ({pct:.2f}%) where mode='{mode}'\")"
   ]
  },
  {
   "cell_type": "code",
   "execution_count": 30,
   "id": "f44389b3",
   "metadata": {
    "execution": {
     "iopub.execute_input": "2025-08-19T19:06:02.349047Z",
     "iopub.status.busy": "2025-08-19T19:06:02.348316Z",
     "iopub.status.idle": "2025-08-19T19:06:02.361124Z",
     "shell.execute_reply": "2025-08-19T19:06:02.359535Z"
    },
    "papermill": {
     "duration": 0.027027,
     "end_time": "2025-08-19T19:06:02.362870",
     "exception": false,
     "start_time": "2025-08-19T19:06:02.335843",
     "status": "completed"
    },
    "tags": []
   },
   "outputs": [],
   "source": [
    "X_train = X_train[keep_mask]"
   ]
  },
  {
   "cell_type": "code",
   "execution_count": 31,
   "id": "ceca8c2a",
   "metadata": {
    "execution": {
     "iopub.execute_input": "2025-08-19T19:06:02.394055Z",
     "iopub.status.busy": "2025-08-19T19:06:02.393380Z",
     "iopub.status.idle": "2025-08-19T19:06:02.403197Z",
     "shell.execute_reply": "2025-08-19T19:06:02.401789Z"
    },
    "papermill": {
     "duration": 0.025534,
     "end_time": "2025-08-19T19:06:02.405329",
     "exception": false,
     "start_time": "2025-08-19T19:06:02.379795",
     "status": "completed"
    },
    "tags": []
   },
   "outputs": [],
   "source": [
    "y_train = y_train[keep_mask]"
   ]
  },
  {
   "cell_type": "markdown",
   "id": "04d31e2f",
   "metadata": {
    "papermill": {
     "duration": 0.010803,
     "end_time": "2025-08-19T19:06:02.429915",
     "exception": false,
     "start_time": "2025-08-19T19:06:02.419112",
     "status": "completed"
    },
    "tags": []
   },
   "source": [
    "# Model Training"
   ]
  },
  {
   "cell_type": "code",
   "execution_count": 32,
   "id": "db991733",
   "metadata": {
    "execution": {
     "iopub.execute_input": "2025-08-19T19:06:02.454146Z",
     "iopub.status.busy": "2025-08-19T19:06:02.453435Z",
     "iopub.status.idle": "2025-08-19T19:06:02.580173Z",
     "shell.execute_reply": "2025-08-19T19:06:02.579262Z"
    },
    "papermill": {
     "duration": 0.141201,
     "end_time": "2025-08-19T19:06:02.581817",
     "exception": false,
     "start_time": "2025-08-19T19:06:02.440616",
     "status": "completed"
    },
    "tags": []
   },
   "outputs": [],
   "source": [
    "from sklearn.linear_model import LogisticRegression\n",
    "from sklearn.ensemble import GradientBoostingClassifier, RandomForestClassifier\n",
    "\n",
    "if (universe[\"model\"] == \"logreg\"):\n",
    "    model = LogisticRegression() #penalty=\"none\", solver=\"newton-cg\", max_iter=1)\n",
    "elif (universe[\"model\"] == \"penalized_logreg\"):\n",
    "    model = LogisticRegression(penalty=\"l2\", C=0.1) #, solver=\"newton-cg\", max_iter=1)\n",
    "elif (universe[\"model\"] == \"rf\"):\n",
    "    model = RandomForestClassifier() # n_estimators=100, n_jobs=-1\n",
    "elif (universe[\"model\"] == \"gbm\"):\n",
    "    model = GradientBoostingClassifier()\n",
    "elif (universe[\"model\"] == \"elasticnet\"):\n",
    "    model = LogisticRegression(penalty = 'elasticnet', solver = 'saga', l1_ratio = 0.5) # max_iter=5000\n",
    "else:\n",
    "    raise \"Unsupported universe.model\""
   ]
  },
  {
   "cell_type": "code",
   "execution_count": 33,
   "id": "a4b5cd25",
   "metadata": {
    "execution": {
     "iopub.execute_input": "2025-08-19T19:06:02.605780Z",
     "iopub.status.busy": "2025-08-19T19:06:02.605298Z",
     "iopub.status.idle": "2025-08-19T19:06:02.610922Z",
     "shell.execute_reply": "2025-08-19T19:06:02.609944Z"
    },
    "papermill": {
     "duration": 0.018868,
     "end_time": "2025-08-19T19:06:02.612141",
     "exception": false,
     "start_time": "2025-08-19T19:06:02.593273",
     "status": "completed"
    },
    "tags": []
   },
   "outputs": [],
   "source": [
    "from sklearn.pipeline import Pipeline\n",
    "from sklearn.preprocessing import StandardScaler\n",
    "\n",
    "model = Pipeline([\n",
    "    #(\"continuous_processor\", continuous_processor),\n",
    "    #(\"categorical_preprocessor\", categorical_preprocessor),\n",
    "    (\"scale\", StandardScaler() if universe[\"scale\"] == \"scale\" else None), \n",
    "    (\"model\", model),\n",
    "])"
   ]
  },
  {
   "cell_type": "code",
   "execution_count": 34,
   "id": "283a904d",
   "metadata": {
    "execution": {
     "iopub.execute_input": "2025-08-19T19:06:02.635386Z",
     "iopub.status.busy": "2025-08-19T19:06:02.634869Z",
     "iopub.status.idle": "2025-08-19T19:06:02.675842Z",
     "shell.execute_reply": "2025-08-19T19:06:02.674336Z"
    },
    "papermill": {
     "duration": 0.055126,
     "end_time": "2025-08-19T19:06:02.678063",
     "exception": false,
     "start_time": "2025-08-19T19:06:02.622937",
     "status": "completed"
    },
    "tags": []
   },
   "outputs": [
    {
     "data": {
      "text/html": [
       "<style>#sk-container-id-1 {color: black;background-color: white;}#sk-container-id-1 pre{padding: 0;}#sk-container-id-1 div.sk-toggleable {background-color: white;}#sk-container-id-1 label.sk-toggleable__label {cursor: pointer;display: block;width: 100%;margin-bottom: 0;padding: 0.3em;box-sizing: border-box;text-align: center;}#sk-container-id-1 label.sk-toggleable__label-arrow:before {content: \"▸\";float: left;margin-right: 0.25em;color: #696969;}#sk-container-id-1 label.sk-toggleable__label-arrow:hover:before {color: black;}#sk-container-id-1 div.sk-estimator:hover label.sk-toggleable__label-arrow:before {color: black;}#sk-container-id-1 div.sk-toggleable__content {max-height: 0;max-width: 0;overflow: hidden;text-align: left;background-color: #f0f8ff;}#sk-container-id-1 div.sk-toggleable__content pre {margin: 0.2em;color: black;border-radius: 0.25em;background-color: #f0f8ff;}#sk-container-id-1 input.sk-toggleable__control:checked~div.sk-toggleable__content {max-height: 200px;max-width: 100%;overflow: auto;}#sk-container-id-1 input.sk-toggleable__control:checked~label.sk-toggleable__label-arrow:before {content: \"▾\";}#sk-container-id-1 div.sk-estimator input.sk-toggleable__control:checked~label.sk-toggleable__label {background-color: #d4ebff;}#sk-container-id-1 div.sk-label input.sk-toggleable__control:checked~label.sk-toggleable__label {background-color: #d4ebff;}#sk-container-id-1 input.sk-hidden--visually {border: 0;clip: rect(1px 1px 1px 1px);clip: rect(1px, 1px, 1px, 1px);height: 1px;margin: -1px;overflow: hidden;padding: 0;position: absolute;width: 1px;}#sk-container-id-1 div.sk-estimator {font-family: monospace;background-color: #f0f8ff;border: 1px dotted black;border-radius: 0.25em;box-sizing: border-box;margin-bottom: 0.5em;}#sk-container-id-1 div.sk-estimator:hover {background-color: #d4ebff;}#sk-container-id-1 div.sk-parallel-item::after {content: \"\";width: 100%;border-bottom: 1px solid gray;flex-grow: 1;}#sk-container-id-1 div.sk-label:hover label.sk-toggleable__label {background-color: #d4ebff;}#sk-container-id-1 div.sk-serial::before {content: \"\";position: absolute;border-left: 1px solid gray;box-sizing: border-box;top: 0;bottom: 0;left: 50%;z-index: 0;}#sk-container-id-1 div.sk-serial {display: flex;flex-direction: column;align-items: center;background-color: white;padding-right: 0.2em;padding-left: 0.2em;position: relative;}#sk-container-id-1 div.sk-item {position: relative;z-index: 1;}#sk-container-id-1 div.sk-parallel {display: flex;align-items: stretch;justify-content: center;background-color: white;position: relative;}#sk-container-id-1 div.sk-item::before, #sk-container-id-1 div.sk-parallel-item::before {content: \"\";position: absolute;border-left: 1px solid gray;box-sizing: border-box;top: 0;bottom: 0;left: 50%;z-index: -1;}#sk-container-id-1 div.sk-parallel-item {display: flex;flex-direction: column;z-index: 1;position: relative;background-color: white;}#sk-container-id-1 div.sk-parallel-item:first-child::after {align-self: flex-end;width: 50%;}#sk-container-id-1 div.sk-parallel-item:last-child::after {align-self: flex-start;width: 50%;}#sk-container-id-1 div.sk-parallel-item:only-child::after {width: 0;}#sk-container-id-1 div.sk-dashed-wrapped {border: 1px dashed gray;margin: 0 0.4em 0.5em 0.4em;box-sizing: border-box;padding-bottom: 0.4em;background-color: white;}#sk-container-id-1 div.sk-label label {font-family: monospace;font-weight: bold;display: inline-block;line-height: 1.2em;}#sk-container-id-1 div.sk-label-container {text-align: center;}#sk-container-id-1 div.sk-container {/* jupyter's `normalize.less` sets `[hidden] { display: none; }` but bootstrap.min.css set `[hidden] { display: none !important; }` so we also need the `!important` here to be able to override the default hidden behavior on the sphinx rendered scikit-learn.org. See: https://github.com/scikit-learn/scikit-learn/issues/21755 */display: inline-block !important;position: relative;}#sk-container-id-1 div.sk-text-repr-fallback {display: none;}</style><div id=\"sk-container-id-1\" class=\"sk-top-container\"><div class=\"sk-text-repr-fallback\"><pre>Pipeline(steps=[(&#x27;scale&#x27;, StandardScaler()),\n",
       "                (&#x27;model&#x27;, LogisticRegression(C=0.1))])</pre><b>In a Jupyter environment, please rerun this cell to show the HTML representation or trust the notebook. <br />On GitHub, the HTML representation is unable to render, please try loading this page with nbviewer.org.</b></div><div class=\"sk-container\" hidden><div class=\"sk-item sk-dashed-wrapped\"><div class=\"sk-label-container\"><div class=\"sk-label sk-toggleable\"><input class=\"sk-toggleable__control sk-hidden--visually\" id=\"sk-estimator-id-1\" type=\"checkbox\" ><label for=\"sk-estimator-id-1\" class=\"sk-toggleable__label sk-toggleable__label-arrow\">Pipeline</label><div class=\"sk-toggleable__content\"><pre>Pipeline(steps=[(&#x27;scale&#x27;, StandardScaler()),\n",
       "                (&#x27;model&#x27;, LogisticRegression(C=0.1))])</pre></div></div></div><div class=\"sk-serial\"><div class=\"sk-item\"><div class=\"sk-estimator sk-toggleable\"><input class=\"sk-toggleable__control sk-hidden--visually\" id=\"sk-estimator-id-2\" type=\"checkbox\" ><label for=\"sk-estimator-id-2\" class=\"sk-toggleable__label sk-toggleable__label-arrow\">StandardScaler</label><div class=\"sk-toggleable__content\"><pre>StandardScaler()</pre></div></div></div><div class=\"sk-item\"><div class=\"sk-estimator sk-toggleable\"><input class=\"sk-toggleable__control sk-hidden--visually\" id=\"sk-estimator-id-3\" type=\"checkbox\" ><label for=\"sk-estimator-id-3\" class=\"sk-toggleable__label sk-toggleable__label-arrow\">LogisticRegression</label><div class=\"sk-toggleable__content\"><pre>LogisticRegression(C=0.1)</pre></div></div></div></div></div></div></div>"
      ],
      "text/plain": [
       "Pipeline(steps=[('scale', StandardScaler()),\n",
       "                ('model', LogisticRegression(C=0.1))])"
      ]
     },
     "execution_count": 34,
     "metadata": {},
     "output_type": "execute_result"
    }
   ],
   "source": [
    "model.fit(X_train, y_train.values.ravel())"
   ]
  },
  {
   "cell_type": "code",
   "execution_count": 35,
   "id": "6e15e313",
   "metadata": {
    "execution": {
     "iopub.execute_input": "2025-08-19T19:06:02.718672Z",
     "iopub.status.busy": "2025-08-19T19:06:02.717294Z",
     "iopub.status.idle": "2025-08-19T19:06:02.914109Z",
     "shell.execute_reply": "2025-08-19T19:06:02.913273Z"
    },
    "papermill": {
     "duration": 0.213489,
     "end_time": "2025-08-19T19:06:02.916694",
     "exception": false,
     "start_time": "2025-08-19T19:06:02.703205",
     "status": "completed"
    },
    "tags": []
   },
   "outputs": [
    {
     "data": {
      "text/plain": [
       "0.8375320477092855"
      ]
     },
     "execution_count": 35,
     "metadata": {},
     "output_type": "execute_result"
    }
   ],
   "source": [
    "from fairness_multiverse.universe import predict_w_threshold\n",
    "\n",
    "probs_test = model.predict_proba(X_test)\n",
    "\n",
    "'''\n",
    "Below code returns a boolean array (or binary 0/1 array depending on how it’s used) where each element \n",
    "is True if the probability of class 1 is greater than or equal to the threshold, and False otherwise.\n",
    "'''\n",
    "y_pred_default = predict_w_threshold(probs_test, 0.5)\n",
    "\n",
    "from sklearn.metrics import accuracy_score\n",
    "\n",
    "# Naive prediction\n",
    "accuracy_score(y_true = y_true, y_pred = y_pred_default)"
   ]
  },
  {
   "cell_type": "code",
   "execution_count": 36,
   "id": "6f14067c",
   "metadata": {
    "execution": {
     "iopub.execute_input": "2025-08-19T19:06:02.956848Z",
     "iopub.status.busy": "2025-08-19T19:06:02.955593Z",
     "iopub.status.idle": "2025-08-19T19:06:03.141977Z",
     "shell.execute_reply": "2025-08-19T19:06:03.141118Z"
    },
    "papermill": {
     "duration": 0.201973,
     "end_time": "2025-08-19T19:06:03.143340",
     "exception": false,
     "start_time": "2025-08-19T19:06:02.941367",
     "status": "completed"
    },
    "tags": []
   },
   "outputs": [
    {
     "data": {
      "text/plain": [
       "array([0, 0, 0, ..., 0, 0, 0])"
      ]
     },
     "execution_count": 36,
     "metadata": {},
     "output_type": "execute_result"
    }
   ],
   "source": [
    "model.predict(X_test)"
   ]
  },
  {
   "cell_type": "markdown",
   "id": "3759920c",
   "metadata": {
    "papermill": {
     "duration": 0.019047,
     "end_time": "2025-08-19T19:06:03.178610",
     "exception": false,
     "start_time": "2025-08-19T19:06:03.159563",
     "status": "completed"
    },
    "tags": []
   },
   "source": [
    "# Conformal Prediction"
   ]
  },
  {
   "cell_type": "code",
   "execution_count": 37,
   "id": "14b27f59",
   "metadata": {
    "execution": {
     "iopub.execute_input": "2025-08-19T19:06:03.204418Z",
     "iopub.status.busy": "2025-08-19T19:06:03.203268Z",
     "iopub.status.idle": "2025-08-19T19:06:03.210901Z",
     "shell.execute_reply": "2025-08-19T19:06:03.209593Z"
    },
    "papermill": {
     "duration": 0.02233,
     "end_time": "2025-08-19T19:06:03.212406",
     "exception": false,
     "start_time": "2025-08-19T19:06:03.190076",
     "status": "completed"
    },
    "tags": []
   },
   "outputs": [],
   "source": [
    "# Miscoverage level for conformal prediction (10% allowed error rate => 90% target coverage)\n",
    "alpha = 0.1"
   ]
  },
  {
   "cell_type": "code",
   "execution_count": 38,
   "id": "59102472",
   "metadata": {
    "execution": {
     "iopub.execute_input": "2025-08-19T19:06:03.254433Z",
     "iopub.status.busy": "2025-08-19T19:06:03.253397Z",
     "iopub.status.idle": "2025-08-19T19:06:03.428158Z",
     "shell.execute_reply": "2025-08-19T19:06:03.427255Z"
    },
    "papermill": {
     "duration": 0.203156,
     "end_time": "2025-08-19T19:06:03.429812",
     "exception": false,
     "start_time": "2025-08-19T19:06:03.226656",
     "status": "completed"
    },
    "tags": []
   },
   "outputs": [],
   "source": [
    "probs_calib = model.predict_proba(X_calib)"
   ]
  },
  {
   "cell_type": "code",
   "execution_count": 39,
   "id": "a792d4dd",
   "metadata": {
    "execution": {
     "iopub.execute_input": "2025-08-19T19:06:03.460136Z",
     "iopub.status.busy": "2025-08-19T19:06:03.458816Z",
     "iopub.status.idle": "2025-08-19T19:06:03.467707Z",
     "shell.execute_reply": "2025-08-19T19:06:03.466357Z"
    },
    "papermill": {
     "duration": 0.025271,
     "end_time": "2025-08-19T19:06:03.469142",
     "exception": false,
     "start_time": "2025-08-19T19:06:03.443871",
     "status": "completed"
    },
    "tags": []
   },
   "outputs": [],
   "source": [
    "y_calib = y_calib.values.ravel().astype(int)"
   ]
  },
  {
   "cell_type": "code",
   "execution_count": 40,
   "id": "650fd033",
   "metadata": {
    "execution": {
     "iopub.execute_input": "2025-08-19T19:06:03.494968Z",
     "iopub.status.busy": "2025-08-19T19:06:03.494091Z",
     "iopub.status.idle": "2025-08-19T19:06:03.513645Z",
     "shell.execute_reply": "2025-08-19T19:06:03.512515Z"
    },
    "papermill": {
     "duration": 0.034231,
     "end_time": "2025-08-19T19:06:03.515286",
     "exception": false,
     "start_time": "2025-08-19T19:06:03.481055",
     "status": "completed"
    },
    "tags": []
   },
   "outputs": [],
   "source": [
    "from fairness_multiverse.conformal import compute_nc_scores\n",
    "\n",
    "# Compute nonconformity scores on calibration set (1 - probability of true class)\n",
    "nc_scores = compute_nc_scores(probs_calib, y_calib)"
   ]
  },
  {
   "cell_type": "code",
   "execution_count": 41,
   "id": "28ada44c",
   "metadata": {
    "execution": {
     "iopub.execute_input": "2025-08-19T19:06:03.556904Z",
     "iopub.status.busy": "2025-08-19T19:06:03.556130Z",
     "iopub.status.idle": "2025-08-19T19:06:03.566532Z",
     "shell.execute_reply": "2025-08-19T19:06:03.565084Z"
    },
    "papermill": {
     "duration": 0.029572,
     "end_time": "2025-08-19T19:06:03.568113",
     "exception": false,
     "start_time": "2025-08-19T19:06:03.538541",
     "status": "completed"
    },
    "tags": []
   },
   "outputs": [],
   "source": [
    "from fairness_multiverse.conformal import find_threshold\n",
    "\n",
    "# Find conformal threshold q_hat for the given alpha (split conformal method)\n",
    "q_hat = find_threshold(nc_scores, alpha)"
   ]
  },
  {
   "cell_type": "code",
   "execution_count": 42,
   "id": "df56469e",
   "metadata": {
    "execution": {
     "iopub.execute_input": "2025-08-19T19:06:03.599404Z",
     "iopub.status.busy": "2025-08-19T19:06:03.597906Z",
     "iopub.status.idle": "2025-08-19T19:06:03.609662Z",
     "shell.execute_reply": "2025-08-19T19:06:03.608027Z"
    },
    "papermill": {
     "duration": 0.027965,
     "end_time": "2025-08-19T19:06:03.611231",
     "exception": false,
     "start_time": "2025-08-19T19:06:03.583266",
     "status": "completed"
    },
    "tags": []
   },
   "outputs": [
    {
     "data": {
      "text/plain": [
       "0.7326229072918966"
      ]
     },
     "execution_count": 42,
     "metadata": {},
     "output_type": "execute_result"
    }
   ],
   "source": [
    "q_hat"
   ]
  },
  {
   "cell_type": "code",
   "execution_count": 43,
   "id": "aa1f5faa",
   "metadata": {
    "execution": {
     "iopub.execute_input": "2025-08-19T19:06:03.644249Z",
     "iopub.status.busy": "2025-08-19T19:06:03.642610Z",
     "iopub.status.idle": "2025-08-19T19:06:04.293668Z",
     "shell.execute_reply": "2025-08-19T19:06:04.291091Z"
    },
    "papermill": {
     "duration": 0.66793,
     "end_time": "2025-08-19T19:06:04.295744",
     "exception": false,
     "start_time": "2025-08-19T19:06:03.627814",
     "status": "completed"
    },
    "tags": []
   },
   "outputs": [],
   "source": [
    "from fairness_multiverse.conformal import predict_conformal_sets\n",
    "\n",
    "# Generate prediction sets for each test example\n",
    "pred_sets = predict_conformal_sets(model, X_test, q_hat)"
   ]
  },
  {
   "cell_type": "code",
   "execution_count": 44,
   "id": "97f67a6b",
   "metadata": {
    "execution": {
     "iopub.execute_input": "2025-08-19T19:06:04.321663Z",
     "iopub.status.busy": "2025-08-19T19:06:04.321137Z",
     "iopub.status.idle": "2025-08-19T19:06:04.335248Z",
     "shell.execute_reply": "2025-08-19T19:06:04.333284Z"
    },
    "papermill": {
     "duration": 0.029311,
     "end_time": "2025-08-19T19:06:04.336967",
     "exception": false,
     "start_time": "2025-08-19T19:06:04.307656",
     "status": "completed"
    },
    "tags": []
   },
   "outputs": [],
   "source": [
    "y_true = y_true.squeeze()"
   ]
  },
  {
   "cell_type": "code",
   "execution_count": 45,
   "id": "e700e9a7",
   "metadata": {
    "execution": {
     "iopub.execute_input": "2025-08-19T19:06:04.366944Z",
     "iopub.status.busy": "2025-08-19T19:06:04.365607Z",
     "iopub.status.idle": "2025-08-19T19:06:04.900766Z",
     "shell.execute_reply": "2025-08-19T19:06:04.893278Z"
    },
    "papermill": {
     "duration": 0.551545,
     "end_time": "2025-08-19T19:06:04.903003",
     "exception": false,
     "start_time": "2025-08-19T19:06:04.351458",
     "status": "completed"
    },
    "tags": []
   },
   "outputs": [],
   "source": [
    "from fairness_multiverse.conformal import evaluate_sets\n",
    "\n",
    "# Evaluate coverage and average set size on test data\n",
    "metrics = evaluate_sets(pred_sets, y_true)"
   ]
  },
  {
   "cell_type": "markdown",
   "id": "efbacec0",
   "metadata": {
    "papermill": {
     "duration": 0.039466,
     "end_time": "2025-08-19T19:06:04.956191",
     "exception": false,
     "start_time": "2025-08-19T19:06:04.916725",
     "status": "completed"
    },
    "tags": []
   },
   "source": [
    "# CP Metrics"
   ]
  },
  {
   "cell_type": "code",
   "execution_count": 46,
   "id": "9de55fb1",
   "metadata": {
    "execution": {
     "iopub.execute_input": "2025-08-19T19:06:04.991189Z",
     "iopub.status.busy": "2025-08-19T19:06:04.987828Z",
     "iopub.status.idle": "2025-08-19T19:06:05.008890Z",
     "shell.execute_reply": "2025-08-19T19:06:05.007727Z"
    },
    "papermill": {
     "duration": 0.041451,
     "end_time": "2025-08-19T19:06:05.010835",
     "exception": false,
     "start_time": "2025-08-19T19:06:04.969384",
     "status": "completed"
    },
    "tags": []
   },
   "outputs": [
    {
     "data": {
      "text/plain": [
       "{'coverage': 0.9095195630364508, 'avg_size': 1.1946828670159402}"
      ]
     },
     "execution_count": 46,
     "metadata": {},
     "output_type": "execute_result"
    }
   ],
   "source": [
    "metrics"
   ]
  },
  {
   "cell_type": "code",
   "execution_count": 47,
   "id": "64c340a1",
   "metadata": {
    "execution": {
     "iopub.execute_input": "2025-08-19T19:06:05.044058Z",
     "iopub.status.busy": "2025-08-19T19:06:05.041869Z",
     "iopub.status.idle": "2025-08-19T19:06:05.053755Z",
     "shell.execute_reply": "2025-08-19T19:06:05.052513Z"
    },
    "papermill": {
     "duration": 0.028258,
     "end_time": "2025-08-19T19:06:05.055992",
     "exception": false,
     "start_time": "2025-08-19T19:06:05.027734",
     "status": "completed"
    },
    "tags": []
   },
   "outputs": [],
   "source": [
    "example_universe = universe.copy()\n",
    "universe_training_year = example_universe.get(\"training_year\")\n",
    "universe_training_size = example_universe.get(\"training_size\")\n",
    "universe_scale = example_universe.get(\"scale\")\n",
    "universe_model = example_universe.get(\"model\")\n",
    "universe_exclude_features = example_universe.get(\"exclude_features\")\n",
    "universe_exclude_subgroups = example_universe.get(\"exclude_subgroups\")"
   ]
  },
  {
   "cell_type": "code",
   "execution_count": 48,
   "id": "dbb53cb4",
   "metadata": {
    "execution": {
     "iopub.execute_input": "2025-08-19T19:06:05.103267Z",
     "iopub.status.busy": "2025-08-19T19:06:05.102736Z",
     "iopub.status.idle": "2025-08-19T19:06:05.109252Z",
     "shell.execute_reply": "2025-08-19T19:06:05.108268Z"
    },
    "papermill": {
     "duration": 0.04031,
     "end_time": "2025-08-19T19:06:05.111579",
     "exception": false,
     "start_time": "2025-08-19T19:06:05.071269",
     "status": "completed"
    },
    "tags": []
   },
   "outputs": [],
   "source": [
    "cp_metrics_dict = {\n",
    "    \"universe_id\": [universe_id],\n",
    "    \"universe_training_year\": [universe_training_year],\n",
    "    \"universe_training_size\": [universe_training_size],\n",
    "    \"universe_scale\": [universe_scale],\n",
    "    \"universe_model\": [universe_model],\n",
    "    \"universe_exclude_features\": [universe_exclude_features],\n",
    "    \"universe_exclude_subgroups\": [universe_exclude_subgroups],\n",
    "    \"q_hat\": [q_hat],\n",
    "    \"coverage\": [metrics[\"coverage\"]],\n",
    "    \"avg_size\": [metrics[\"avg_size\"]],\n",
    "}"
   ]
  },
  {
   "cell_type": "code",
   "execution_count": 49,
   "id": "0d70d4b2",
   "metadata": {
    "execution": {
     "iopub.execute_input": "2025-08-19T19:06:05.152556Z",
     "iopub.status.busy": "2025-08-19T19:06:05.151276Z",
     "iopub.status.idle": "2025-08-19T19:06:05.166282Z",
     "shell.execute_reply": "2025-08-19T19:06:05.165047Z"
    },
    "papermill": {
     "duration": 0.034915,
     "end_time": "2025-08-19T19:06:05.167891",
     "exception": false,
     "start_time": "2025-08-19T19:06:05.132976",
     "status": "completed"
    },
    "tags": []
   },
   "outputs": [],
   "source": [
    "cp_metrics_df = pd.DataFrame(cp_metrics_dict)"
   ]
  },
  {
   "cell_type": "code",
   "execution_count": 50,
   "id": "b494403c",
   "metadata": {
    "execution": {
     "iopub.execute_input": "2025-08-19T19:06:05.197541Z",
     "iopub.status.busy": "2025-08-19T19:06:05.196372Z",
     "iopub.status.idle": "2025-08-19T19:06:05.227247Z",
     "shell.execute_reply": "2025-08-19T19:06:05.225343Z"
    },
    "papermill": {
     "duration": 0.047346,
     "end_time": "2025-08-19T19:06:05.229975",
     "exception": false,
     "start_time": "2025-08-19T19:06:05.182629",
     "status": "completed"
    },
    "tags": []
   },
   "outputs": [
    {
     "data": {
      "text/html": [
       "<div>\n",
       "<style scoped>\n",
       "    .dataframe tbody tr th:only-of-type {\n",
       "        vertical-align: middle;\n",
       "    }\n",
       "\n",
       "    .dataframe tbody tr th {\n",
       "        vertical-align: top;\n",
       "    }\n",
       "\n",
       "    .dataframe thead th {\n",
       "        text-align: right;\n",
       "    }\n",
       "</style>\n",
       "<table border=\"1\" class=\"dataframe\">\n",
       "  <thead>\n",
       "    <tr style=\"text-align: right;\">\n",
       "      <th></th>\n",
       "      <th>universe_id</th>\n",
       "      <th>universe_training_year</th>\n",
       "      <th>universe_training_size</th>\n",
       "      <th>universe_scale</th>\n",
       "      <th>universe_model</th>\n",
       "      <th>universe_exclude_features</th>\n",
       "      <th>universe_exclude_subgroups</th>\n",
       "      <th>q_hat</th>\n",
       "      <th>coverage</th>\n",
       "      <th>avg_size</th>\n",
       "    </tr>\n",
       "  </thead>\n",
       "  <tbody>\n",
       "    <tr>\n",
       "      <th>0</th>\n",
       "      <td>7cec45002df7e3709fafe7e87939f988</td>\n",
       "      <td>2010_14</td>\n",
       "      <td>1k</td>\n",
       "      <td>scale</td>\n",
       "      <td>penalized_logreg</td>\n",
       "      <td>age</td>\n",
       "      <td>keep-all</td>\n",
       "      <td>0.732623</td>\n",
       "      <td>0.90952</td>\n",
       "      <td>1.194683</td>\n",
       "    </tr>\n",
       "  </tbody>\n",
       "</table>\n",
       "</div>"
      ],
      "text/plain": [
       "                        universe_id universe_training_year  \\\n",
       "0  7cec45002df7e3709fafe7e87939f988                2010_14   \n",
       "\n",
       "  universe_training_size universe_scale    universe_model  \\\n",
       "0                     1k          scale  penalized_logreg   \n",
       "\n",
       "  universe_exclude_features universe_exclude_subgroups     q_hat  coverage  \\\n",
       "0                       age                   keep-all  0.732623   0.90952   \n",
       "\n",
       "   avg_size  \n",
       "0  1.194683  "
      ]
     },
     "execution_count": 50,
     "metadata": {},
     "output_type": "execute_result"
    }
   ],
   "source": [
    "cp_metrics_df"
   ]
  },
  {
   "cell_type": "markdown",
   "id": "ed608b0b",
   "metadata": {
    "papermill": {
     "duration": 0.012177,
     "end_time": "2025-08-19T19:06:05.261433",
     "exception": false,
     "start_time": "2025-08-19T19:06:05.249256",
     "status": "completed"
    },
    "tags": []
   },
   "source": [
    "Conditional coverage & looking at subgroups"
   ]
  },
  {
   "cell_type": "code",
   "execution_count": 51,
   "id": "8968c366",
   "metadata": {
    "execution": {
     "iopub.execute_input": "2025-08-19T19:06:05.288043Z",
     "iopub.status.busy": "2025-08-19T19:06:05.286897Z",
     "iopub.status.idle": "2025-08-19T19:06:05.729923Z",
     "shell.execute_reply": "2025-08-19T19:06:05.728442Z"
    },
    "papermill": {
     "duration": 0.459665,
     "end_time": "2025-08-19T19:06:05.732796",
     "exception": false,
     "start_time": "2025-08-19T19:06:05.273131",
     "status": "completed"
    },
    "tags": []
   },
   "outputs": [],
   "source": [
    "from fairness_multiverse.conformal import build_cp_groups\n",
    "\n",
    "cp_groups_df = build_cp_groups(pred_sets, y_true, X_test.index, org_test)"
   ]
  },
  {
   "cell_type": "code",
   "execution_count": 52,
   "id": "292ddabf",
   "metadata": {
    "execution": {
     "iopub.execute_input": "2025-08-19T19:06:05.760186Z",
     "iopub.status.busy": "2025-08-19T19:06:05.759585Z",
     "iopub.status.idle": "2025-08-19T19:06:06.629112Z",
     "shell.execute_reply": "2025-08-19T19:06:06.627310Z"
    },
    "papermill": {
     "duration": 0.886999,
     "end_time": "2025-08-19T19:06:06.632875",
     "exception": false,
     "start_time": "2025-08-19T19:06:05.745876",
     "status": "completed"
    },
    "tags": []
   },
   "outputs": [],
   "source": [
    "# Define covered = 1 if true_label is in the predicted set\n",
    "cp_groups_df['covered'] = cp_groups_df.apply(\n",
    "    lambda r: int(r['true_label'] in r['pred_set']),\n",
    "    axis=1\n",
    ")"
   ]
  },
  {
   "cell_type": "code",
   "execution_count": 53,
   "id": "3a261692",
   "metadata": {
    "execution": {
     "iopub.execute_input": "2025-08-19T19:06:06.662146Z",
     "iopub.status.busy": "2025-08-19T19:06:06.661591Z",
     "iopub.status.idle": "2025-08-19T19:06:06.676703Z",
     "shell.execute_reply": "2025-08-19T19:06:06.675403Z"
    },
    "papermill": {
     "duration": 0.033975,
     "end_time": "2025-08-19T19:06:06.680739",
     "exception": false,
     "start_time": "2025-08-19T19:06:06.646764",
     "status": "completed"
    },
    "tags": []
   },
   "outputs": [],
   "source": [
    "subgroups = ['frau1','nongerman','nongerman_male','nongerman_female']\n",
    "\n",
    "# Conditional coverage for subgroup==1\n",
    "cond_coverage = {\n",
    "    g: cp_groups_df.loc[cp_groups_df[g]==1, 'covered'].mean()\n",
    "    for g in subgroups\n",
    "}"
   ]
  },
  {
   "cell_type": "code",
   "execution_count": 54,
   "id": "894fd600",
   "metadata": {
    "execution": {
     "iopub.execute_input": "2025-08-19T19:06:06.721934Z",
     "iopub.status.busy": "2025-08-19T19:06:06.720648Z",
     "iopub.status.idle": "2025-08-19T19:06:06.732276Z",
     "shell.execute_reply": "2025-08-19T19:06:06.730885Z"
    },
    "papermill": {
     "duration": 0.028818,
     "end_time": "2025-08-19T19:06:06.734492",
     "exception": false,
     "start_time": "2025-08-19T19:06:06.705674",
     "status": "completed"
    },
    "tags": []
   },
   "outputs": [
    {
     "data": {
      "text/plain": [
       "{'frau1': 0.9106887720717077,\n",
       " 'nongerman': 0.9119182619435244,\n",
       " 'nongerman_male': 0.9254255606592813,\n",
       " 'nongerman_female': 0.8895678092399404}"
      ]
     },
     "execution_count": 54,
     "metadata": {},
     "output_type": "execute_result"
    }
   ],
   "source": [
    "cond_coverage"
   ]
  },
  {
   "cell_type": "code",
   "execution_count": 55,
   "id": "942895c7",
   "metadata": {
    "execution": {
     "iopub.execute_input": "2025-08-19T19:06:06.764998Z",
     "iopub.status.busy": "2025-08-19T19:06:06.763854Z",
     "iopub.status.idle": "2025-08-19T19:06:06.776062Z",
     "shell.execute_reply": "2025-08-19T19:06:06.774644Z"
    },
    "papermill": {
     "duration": 0.02855,
     "end_time": "2025-08-19T19:06:06.778327",
     "exception": false,
     "start_time": "2025-08-19T19:06:06.749777",
     "status": "completed"
    },
    "tags": []
   },
   "outputs": [],
   "source": [
    "for subgroup, cov in cond_coverage.items():\n",
    "    cp_metrics_df[f\"cov_{subgroup}\"] = cov"
   ]
  },
  {
   "cell_type": "code",
   "execution_count": 56,
   "id": "3970120f",
   "metadata": {
    "execution": {
     "iopub.execute_input": "2025-08-19T19:06:06.810252Z",
     "iopub.status.busy": "2025-08-19T19:06:06.809152Z",
     "iopub.status.idle": "2025-08-19T19:06:06.845106Z",
     "shell.execute_reply": "2025-08-19T19:06:06.843402Z"
    },
    "papermill": {
     "duration": 0.054145,
     "end_time": "2025-08-19T19:06:06.849293",
     "exception": false,
     "start_time": "2025-08-19T19:06:06.795148",
     "status": "completed"
    },
    "tags": []
   },
   "outputs": [
    {
     "data": {
      "text/html": [
       "<div>\n",
       "<style scoped>\n",
       "    .dataframe tbody tr th:only-of-type {\n",
       "        vertical-align: middle;\n",
       "    }\n",
       "\n",
       "    .dataframe tbody tr th {\n",
       "        vertical-align: top;\n",
       "    }\n",
       "\n",
       "    .dataframe thead th {\n",
       "        text-align: right;\n",
       "    }\n",
       "</style>\n",
       "<table border=\"1\" class=\"dataframe\">\n",
       "  <thead>\n",
       "    <tr style=\"text-align: right;\">\n",
       "      <th></th>\n",
       "      <th>universe_id</th>\n",
       "      <th>universe_training_year</th>\n",
       "      <th>universe_training_size</th>\n",
       "      <th>universe_scale</th>\n",
       "      <th>universe_model</th>\n",
       "      <th>universe_exclude_features</th>\n",
       "      <th>universe_exclude_subgroups</th>\n",
       "      <th>q_hat</th>\n",
       "      <th>coverage</th>\n",
       "      <th>avg_size</th>\n",
       "      <th>cov_frau1</th>\n",
       "      <th>cov_nongerman</th>\n",
       "      <th>cov_nongerman_male</th>\n",
       "      <th>cov_nongerman_female</th>\n",
       "    </tr>\n",
       "  </thead>\n",
       "  <tbody>\n",
       "    <tr>\n",
       "      <th>0</th>\n",
       "      <td>7cec45002df7e3709fafe7e87939f988</td>\n",
       "      <td>2010_14</td>\n",
       "      <td>1k</td>\n",
       "      <td>scale</td>\n",
       "      <td>penalized_logreg</td>\n",
       "      <td>age</td>\n",
       "      <td>keep-all</td>\n",
       "      <td>0.732623</td>\n",
       "      <td>0.90952</td>\n",
       "      <td>1.194683</td>\n",
       "      <td>0.910689</td>\n",
       "      <td>0.911918</td>\n",
       "      <td>0.925426</td>\n",
       "      <td>0.889568</td>\n",
       "    </tr>\n",
       "  </tbody>\n",
       "</table>\n",
       "</div>"
      ],
      "text/plain": [
       "                        universe_id universe_training_year  \\\n",
       "0  7cec45002df7e3709fafe7e87939f988                2010_14   \n",
       "\n",
       "  universe_training_size universe_scale    universe_model  \\\n",
       "0                     1k          scale  penalized_logreg   \n",
       "\n",
       "  universe_exclude_features universe_exclude_subgroups     q_hat  coverage  \\\n",
       "0                       age                   keep-all  0.732623   0.90952   \n",
       "\n",
       "   avg_size  cov_frau1  cov_nongerman  cov_nongerman_male  \\\n",
       "0  1.194683   0.910689       0.911918            0.925426   \n",
       "\n",
       "   cov_nongerman_female  \n",
       "0              0.889568  "
      ]
     },
     "execution_count": 56,
     "metadata": {},
     "output_type": "execute_result"
    }
   ],
   "source": [
    "cp_metrics_df"
   ]
  },
  {
   "cell_type": "markdown",
   "id": "3fc519cc",
   "metadata": {
    "papermill": {
     "duration": 0.013031,
     "end_time": "2025-08-19T19:06:06.882889",
     "exception": false,
     "start_time": "2025-08-19T19:06:06.869858",
     "status": "completed"
    },
    "tags": []
   },
   "source": [
    "# (Fairness) Metrics"
   ]
  },
  {
   "cell_type": "code",
   "execution_count": 57,
   "id": "a2e5e155",
   "metadata": {
    "execution": {
     "iopub.execute_input": "2025-08-19T19:06:06.912006Z",
     "iopub.status.busy": "2025-08-19T19:06:06.910291Z",
     "iopub.status.idle": "2025-08-19T19:06:06.942119Z",
     "shell.execute_reply": "2025-08-19T19:06:06.941043Z"
    },
    "papermill": {
     "duration": 0.049191,
     "end_time": "2025-08-19T19:06:06.944532",
     "exception": false,
     "start_time": "2025-08-19T19:06:06.895341",
     "status": "completed"
    },
    "tags": []
   },
   "outputs": [],
   "source": [
    "colname_to_bin = \"maxdeutsch1\"\n",
    "majority_value = org_train[colname_to_bin].mode()[0]\n",
    "\n",
    "org_test[\"majmin\"] = np.where(org_test[colname_to_bin] == majority_value, \"majority\", \"minority\")"
   ]
  },
  {
   "cell_type": "code",
   "execution_count": 58,
   "id": "17e3e4d5",
   "metadata": {
    "execution": {
     "iopub.execute_input": "2025-08-19T19:06:06.979563Z",
     "iopub.status.busy": "2025-08-19T19:06:06.978379Z",
     "iopub.status.idle": "2025-08-19T19:06:08.769317Z",
     "shell.execute_reply": "2025-08-19T19:06:08.768164Z"
    },
    "papermill": {
     "duration": 1.806356,
     "end_time": "2025-08-19T19:06:08.770943",
     "exception": false,
     "start_time": "2025-08-19T19:06:06.964587",
     "status": "completed"
    },
    "tags": []
   },
   "outputs": [],
   "source": [
    "example_universe = universe.copy()\n",
    "example_universe[\"cutoff\"] = example_universe[\"cutoff\"][0]\n",
    "example_universe[\"eval_fairness_grouping\"] = example_universe[\"eval_fairness_grouping\"][0]\n",
    "fairness_dict, metric_frame = universe_analysis.compute_metrics(\n",
    "    example_universe,\n",
    "    y_pred_prob=probs_test,\n",
    "    y_test=y_true,\n",
    "    org_test=org_test,\n",
    ")"
   ]
  },
  {
   "cell_type": "markdown",
   "id": "1fb7a0e9",
   "metadata": {
    "papermill": {
     "duration": 0.01933,
     "end_time": "2025-08-19T19:06:08.809298",
     "exception": false,
     "start_time": "2025-08-19T19:06:08.789968",
     "status": "completed"
    },
    "tags": []
   },
   "source": [
    "# Overall"
   ]
  },
  {
   "cell_type": "markdown",
   "id": "be1784b1",
   "metadata": {
    "papermill": {
     "duration": 0.012426,
     "end_time": "2025-08-19T19:06:08.834205",
     "exception": false,
     "start_time": "2025-08-19T19:06:08.821779",
     "status": "completed"
    },
    "tags": []
   },
   "source": [
    "Main fairness target: Equalized Odds. Seems to be a better fit than equal opportunity, since we're not only interested in Y = 1. Seems to be a better fit than demographic parity, since we also care about accuracy, not just equal distribution of preds.\n",
    "\n",
    "Pick column for computation of fairness metrics\n",
    "\n",
    "Performance\n",
    "Overall performance measures, most interesting in relation to the measures split by group below"
   ]
  },
  {
   "cell_type": "code",
   "execution_count": 59,
   "id": "b7672bee",
   "metadata": {
    "execution": {
     "iopub.execute_input": "2025-08-19T19:06:08.870272Z",
     "iopub.status.busy": "2025-08-19T19:06:08.869141Z",
     "iopub.status.idle": "2025-08-19T19:06:08.887550Z",
     "shell.execute_reply": "2025-08-19T19:06:08.886001Z"
    },
    "papermill": {
     "duration": 0.037306,
     "end_time": "2025-08-19T19:06:08.889281",
     "exception": false,
     "start_time": "2025-08-19T19:06:08.851975",
     "status": "completed"
    },
    "tags": []
   },
   "outputs": [
    {
     "data": {
      "text/plain": [
       "accuracy                   0.219764\n",
       "balanced accuracy          0.538318\n",
       "f1                         0.241222\n",
       "precision                  0.137802\n",
       "false positive rate        0.890169\n",
       "false negative rate        0.033194\n",
       "selection rate             0.900000\n",
       "count                  89710.000000\n",
       "dtype: float64"
      ]
     },
     "execution_count": 59,
     "metadata": {},
     "output_type": "execute_result"
    }
   ],
   "source": [
    "metric_frame.overall"
   ]
  },
  {
   "cell_type": "markdown",
   "id": "d93333c9",
   "metadata": {
    "papermill": {
     "duration": 0.029679,
     "end_time": "2025-08-19T19:06:08.935133",
     "exception": false,
     "start_time": "2025-08-19T19:06:08.905454",
     "status": "completed"
    },
    "tags": []
   },
   "source": [
    "By Group"
   ]
  },
  {
   "cell_type": "code",
   "execution_count": 60,
   "id": "52256966",
   "metadata": {
    "execution": {
     "iopub.execute_input": "2025-08-19T19:06:08.964789Z",
     "iopub.status.busy": "2025-08-19T19:06:08.964445Z",
     "iopub.status.idle": "2025-08-19T19:06:08.977674Z",
     "shell.execute_reply": "2025-08-19T19:06:08.976979Z"
    },
    "papermill": {
     "duration": 0.031227,
     "end_time": "2025-08-19T19:06:08.981648",
     "exception": false,
     "start_time": "2025-08-19T19:06:08.950421",
     "status": "completed"
    },
    "tags": []
   },
   "outputs": [
    {
     "data": {
      "text/html": [
       "<div>\n",
       "<style scoped>\n",
       "    .dataframe tbody tr th:only-of-type {\n",
       "        vertical-align: middle;\n",
       "    }\n",
       "\n",
       "    .dataframe tbody tr th {\n",
       "        vertical-align: top;\n",
       "    }\n",
       "\n",
       "    .dataframe thead th {\n",
       "        text-align: right;\n",
       "    }\n",
       "</style>\n",
       "<table border=\"1\" class=\"dataframe\">\n",
       "  <thead>\n",
       "    <tr style=\"text-align: right;\">\n",
       "      <th></th>\n",
       "      <th>accuracy</th>\n",
       "      <th>balanced accuracy</th>\n",
       "      <th>f1</th>\n",
       "      <th>precision</th>\n",
       "      <th>false positive rate</th>\n",
       "      <th>false negative rate</th>\n",
       "      <th>selection rate</th>\n",
       "      <th>count</th>\n",
       "    </tr>\n",
       "    <tr>\n",
       "      <th>majmin</th>\n",
       "      <th></th>\n",
       "      <th></th>\n",
       "      <th></th>\n",
       "      <th></th>\n",
       "      <th></th>\n",
       "      <th></th>\n",
       "      <th></th>\n",
       "      <th></th>\n",
       "    </tr>\n",
       "  </thead>\n",
       "  <tbody>\n",
       "    <tr>\n",
       "      <th>majority</th>\n",
       "      <td>0.235579</td>\n",
       "      <td>0.544152</td>\n",
       "      <td>0.249883</td>\n",
       "      <td>0.143556</td>\n",
       "      <td>0.875262</td>\n",
       "      <td>0.036433</td>\n",
       "      <td>0.886931</td>\n",
       "      <td>69170.0</td>\n",
       "    </tr>\n",
       "    <tr>\n",
       "      <th>minority</th>\n",
       "      <td>0.166504</td>\n",
       "      <td>0.519948</td>\n",
       "      <td>0.213163</td>\n",
       "      <td>0.119598</td>\n",
       "      <td>0.939412</td>\n",
       "      <td>0.020693</td>\n",
       "      <td>0.944012</td>\n",
       "      <td>20540.0</td>\n",
       "    </tr>\n",
       "  </tbody>\n",
       "</table>\n",
       "</div>"
      ],
      "text/plain": [
       "          accuracy  balanced accuracy        f1  precision  \\\n",
       "majmin                                                       \n",
       "majority  0.235579           0.544152  0.249883   0.143556   \n",
       "minority  0.166504           0.519948  0.213163   0.119598   \n",
       "\n",
       "          false positive rate  false negative rate  selection rate    count  \n",
       "majmin                                                                       \n",
       "majority             0.875262             0.036433        0.886931  69170.0  \n",
       "minority             0.939412             0.020693        0.944012  20540.0  "
      ]
     },
     "execution_count": 60,
     "metadata": {},
     "output_type": "execute_result"
    }
   ],
   "source": [
    "metric_frame.by_group"
   ]
  },
  {
   "cell_type": "code",
   "execution_count": 61,
   "id": "6e6c20ae",
   "metadata": {
    "execution": {
     "iopub.execute_input": "2025-08-19T19:06:09.037762Z",
     "iopub.status.busy": "2025-08-19T19:06:09.036344Z",
     "iopub.status.idle": "2025-08-19T19:06:10.868808Z",
     "shell.execute_reply": "2025-08-19T19:06:10.867372Z"
    },
    "papermill": {
     "duration": 1.864786,
     "end_time": "2025-08-19T19:06:10.870694",
     "exception": false,
     "start_time": "2025-08-19T19:06:09.005908",
     "status": "completed"
    },
    "tags": []
   },
   "outputs": [
    {
     "data": {
      "text/plain": [
       "array([[<Axes: title={'center': 'accuracy'}, xlabel='majmin'>,\n",
       "        <Axes: title={'center': 'balanced accuracy'}, xlabel='majmin'>,\n",
       "        <Axes: title={'center': 'f1'}, xlabel='majmin'>],\n",
       "       [<Axes: title={'center': 'precision'}, xlabel='majmin'>,\n",
       "        <Axes: title={'center': 'false positive rate'}, xlabel='majmin'>,\n",
       "        <Axes: title={'center': 'false negative rate'}, xlabel='majmin'>],\n",
       "       [<Axes: title={'center': 'selection rate'}, xlabel='majmin'>,\n",
       "        <Axes: title={'center': 'count'}, xlabel='majmin'>,\n",
       "        <Axes: xlabel='majmin'>]], dtype=object)"
      ]
     },
     "execution_count": 61,
     "metadata": {},
     "output_type": "execute_result"
    },
    {
     "data": {
      "image/png": "[encoded data removed]",
      "text/plain": [
       "<Figure size 1200x800 with 9 Axes>"
      ]
     },
     "metadata": {},
     "output_type": "display_data"
    }
   ],
   "source": [
    "# In a graphic\n",
    "metric_frame.by_group.plot.bar(\n",
    "    subplots=True,\n",
    "    layout=[3, 3],\n",
    "    legend=False,\n",
    "    figsize=[12, 8],\n",
    "    title=\"Show all metrics\",\n",
    ")"
   ]
  },
  {
   "cell_type": "markdown",
   "id": "b2e433ae",
   "metadata": {
    "papermill": {
     "duration": 0.01489,
     "end_time": "2025-08-19T19:06:10.904777",
     "exception": false,
     "start_time": "2025-08-19T19:06:10.889887",
     "status": "completed"
    },
    "tags": []
   },
   "source": [
    "# Final Output"
   ]
  },
  {
   "cell_type": "code",
   "execution_count": 62,
   "id": "3871301e",
   "metadata": {
    "execution": {
     "iopub.execute_input": "2025-08-19T19:06:10.938671Z",
     "iopub.status.busy": "2025-08-19T19:06:10.937435Z",
     "iopub.status.idle": "2025-08-19T19:06:10.950432Z",
     "shell.execute_reply": "2025-08-19T19:06:10.949532Z"
    },
    "papermill": {
     "duration": 0.032625,
     "end_time": "2025-08-19T19:06:10.951773",
     "exception": false,
     "start_time": "2025-08-19T19:06:10.919148",
     "status": "completed"
    },
    "tags": []
   },
   "outputs": [
    {
     "data": {
      "text/plain": [
       "4"
      ]
     },
     "execution_count": 62,
     "metadata": {},
     "output_type": "execute_result"
    }
   ],
   "source": [
    "sub_universes = universe_analysis.generate_sub_universes()\n",
    "len(sub_universes)"
   ]
  },
  {
   "cell_type": "code",
   "execution_count": 63,
   "id": "d9cfdaca",
   "metadata": {
    "execution": {
     "iopub.execute_input": "2025-08-19T19:06:10.992647Z",
     "iopub.status.busy": "2025-08-19T19:06:10.991487Z",
     "iopub.status.idle": "2025-08-19T19:06:11.001410Z",
     "shell.execute_reply": "2025-08-19T19:06:10.999883Z"
    },
    "papermill": {
     "duration": 0.028357,
     "end_time": "2025-08-19T19:06:11.003004",
     "exception": false,
     "start_time": "2025-08-19T19:06:10.974647",
     "status": "completed"
    },
    "tags": []
   },
   "outputs": [],
   "source": [
    "def filter_sub_universe_data(sub_universe, org_test):\n",
    "    # Keep all rows — no filtering\n",
    "    keep_rows_mask = np.ones(org_test.shape[0], dtype=bool)\n",
    "\n",
    "    print(f\"[INFO] Keeping all rows: {keep_rows_mask.sum()} rows retained.\")\n",
    "    return keep_rows_mask"
   ]
  },
  {
   "cell_type": "code",
   "execution_count": 64,
   "id": "2bc31ac1",
   "metadata": {
    "execution": {
     "iopub.execute_input": "2025-08-19T19:06:11.036938Z",
     "iopub.status.busy": "2025-08-19T19:06:11.035636Z",
     "iopub.status.idle": "2025-08-19T19:06:18.029832Z",
     "shell.execute_reply": "2025-08-19T19:06:18.028785Z"
    },
    "papermill": {
     "duration": 7.012952,
     "end_time": "2025-08-19T19:06:18.032791",
     "exception": false,
     "start_time": "2025-08-19T19:06:11.019839",
     "status": "completed"
    },
    "tags": []
   },
   "outputs": [
    {
     "name": "stdout",
     "output_type": "stream",
     "text": [
      "Stopping execution_time clock.\n",
      "[INFO] Keeping all rows: 89710 rows retained.\n"
     ]
    },
    {
     "name": "stdout",
     "output_type": "stream",
     "text": [
      "[INFO] Keeping all rows: 89710 rows retained.\n"
     ]
    },
    {
     "name": "stdout",
     "output_type": "stream",
     "text": [
      "[INFO] Keeping all rows: 89710 rows retained.\n"
     ]
    },
    {
     "name": "stdout",
     "output_type": "stream",
     "text": [
      "[INFO] Keeping all rows: 89710 rows retained.\n"
     ]
    },
    {
     "data": {
      "text/html": [
       "<div>\n",
       "<style scoped>\n",
       "    .dataframe tbody tr th:only-of-type {\n",
       "        vertical-align: middle;\n",
       "    }\n",
       "\n",
       "    .dataframe tbody tr th {\n",
       "        vertical-align: top;\n",
       "    }\n",
       "\n",
       "    .dataframe thead th {\n",
       "        text-align: right;\n",
       "    }\n",
       "</style>\n",
       "<table border=\"1\" class=\"dataframe\">\n",
       "  <thead>\n",
       "    <tr style=\"text-align: right;\">\n",
       "      <th></th>\n",
       "      <th>run_no</th>\n",
       "      <th>universe_id</th>\n",
       "      <th>universe_settings</th>\n",
       "      <th>execution_time</th>\n",
       "      <th>test_size_n</th>\n",
       "      <th>test_size_frac</th>\n",
       "      <th>fair_main_equalized_odds_difference</th>\n",
       "      <th>fair_main_equalized_odds_ratio</th>\n",
       "      <th>fair_main_demographic_parity_difference</th>\n",
       "      <th>fair_main_demographic_parity_ratio</th>\n",
       "      <th>...</th>\n",
       "      <th>perf_grp_precision_0</th>\n",
       "      <th>perf_grp_precision_1</th>\n",
       "      <th>perf_grp_false positive rate_0</th>\n",
       "      <th>perf_grp_false positive rate_1</th>\n",
       "      <th>perf_grp_false negative rate_0</th>\n",
       "      <th>perf_grp_false negative rate_1</th>\n",
       "      <th>perf_grp_selection rate_0</th>\n",
       "      <th>perf_grp_selection rate_1</th>\n",
       "      <th>perf_grp_count_0</th>\n",
       "      <th>perf_grp_count_1</th>\n",
       "    </tr>\n",
       "  </thead>\n",
       "  <tbody>\n",
       "    <tr>\n",
       "      <th>0</th>\n",
       "      <td>3</td>\n",
       "      <td>7cec45002df7e3709fafe7e87939f988</td>\n",
       "      <td>{\"cutoff\": \"quantile_0.1\", \"eval_fairness_grou...</td>\n",
       "      <td>21.973105</td>\n",
       "      <td>89710</td>\n",
       "      <td>1.0</td>\n",
       "      <td>0.064150</td>\n",
       "      <td>0.931713</td>\n",
       "      <td>0.057081</td>\n",
       "      <td>0.939534</td>\n",
       "      <td>...</td>\n",
       "      <td>NaN</td>\n",
       "      <td>NaN</td>\n",
       "      <td>NaN</td>\n",
       "      <td>NaN</td>\n",
       "      <td>NaN</td>\n",
       "      <td>NaN</td>\n",
       "      <td>NaN</td>\n",
       "      <td>NaN</td>\n",
       "      <td>NaN</td>\n",
       "      <td>NaN</td>\n",
       "    </tr>\n",
       "    <tr>\n",
       "      <th>0</th>\n",
       "      <td>3</td>\n",
       "      <td>7cec45002df7e3709fafe7e87939f988</td>\n",
       "      <td>{\"cutoff\": \"quantile_0.1\", \"eval_fairness_grou...</td>\n",
       "      <td>21.973105</td>\n",
       "      <td>89710</td>\n",
       "      <td>1.0</td>\n",
       "      <td>0.064150</td>\n",
       "      <td>0.931713</td>\n",
       "      <td>0.057081</td>\n",
       "      <td>0.939534</td>\n",
       "      <td>...</td>\n",
       "      <td>0.119598</td>\n",
       "      <td>0.143556</td>\n",
       "      <td>0.939412</td>\n",
       "      <td>0.875262</td>\n",
       "      <td>0.020693</td>\n",
       "      <td>0.036433</td>\n",
       "      <td>0.944012</td>\n",
       "      <td>0.886931</td>\n",
       "      <td>20540.0</td>\n",
       "      <td>69170.0</td>\n",
       "    </tr>\n",
       "    <tr>\n",
       "      <th>0</th>\n",
       "      <td>3</td>\n",
       "      <td>7cec45002df7e3709fafe7e87939f988</td>\n",
       "      <td>{\"cutoff\": \"quantile_0.25\", \"eval_fairness_gro...</td>\n",
       "      <td>21.973105</td>\n",
       "      <td>89710</td>\n",
       "      <td>1.0</td>\n",
       "      <td>0.045631</td>\n",
       "      <td>0.947887</td>\n",
       "      <td>0.026780</td>\n",
       "      <td>0.965250</td>\n",
       "      <td>...</td>\n",
       "      <td>NaN</td>\n",
       "      <td>NaN</td>\n",
       "      <td>NaN</td>\n",
       "      <td>NaN</td>\n",
       "      <td>NaN</td>\n",
       "      <td>NaN</td>\n",
       "      <td>NaN</td>\n",
       "      <td>NaN</td>\n",
       "      <td>NaN</td>\n",
       "      <td>NaN</td>\n",
       "    </tr>\n",
       "    <tr>\n",
       "      <th>0</th>\n",
       "      <td>3</td>\n",
       "      <td>7cec45002df7e3709fafe7e87939f988</td>\n",
       "      <td>{\"cutoff\": \"quantile_0.25\", \"eval_fairness_gro...</td>\n",
       "      <td>21.973105</td>\n",
       "      <td>89710</td>\n",
       "      <td>1.0</td>\n",
       "      <td>0.045631</td>\n",
       "      <td>0.947887</td>\n",
       "      <td>0.026780</td>\n",
       "      <td>0.965250</td>\n",
       "      <td>...</td>\n",
       "      <td>0.127551</td>\n",
       "      <td>0.159563</td>\n",
       "      <td>0.759960</td>\n",
       "      <td>0.720356</td>\n",
       "      <td>0.147382</td>\n",
       "      <td>0.101751</td>\n",
       "      <td>0.770643</td>\n",
       "      <td>0.743863</td>\n",
       "      <td>20540.0</td>\n",
       "      <td>69170.0</td>\n",
       "    </tr>\n",
       "  </tbody>\n",
       "</table>\n",
       "<p>4 rows × 50 columns</p>\n",
       "</div>"
      ],
      "text/plain": [
       "  run_no                       universe_id  \\\n",
       "0      3  7cec45002df7e3709fafe7e87939f988   \n",
       "0      3  7cec45002df7e3709fafe7e87939f988   \n",
       "0      3  7cec45002df7e3709fafe7e87939f988   \n",
       "0      3  7cec45002df7e3709fafe7e87939f988   \n",
       "\n",
       "                                   universe_settings  execution_time  \\\n",
       "0  {\"cutoff\": \"quantile_0.1\", \"eval_fairness_grou...       21.973105   \n",
       "0  {\"cutoff\": \"quantile_0.1\", \"eval_fairness_grou...       21.973105   \n",
       "0  {\"cutoff\": \"quantile_0.25\", \"eval_fairness_gro...       21.973105   \n",
       "0  {\"cutoff\": \"quantile_0.25\", \"eval_fairness_gro...       21.973105   \n",
       "\n",
       "   test_size_n  test_size_frac  fair_main_equalized_odds_difference  \\\n",
       "0        89710             1.0                             0.064150   \n",
       "0        89710             1.0                             0.064150   \n",
       "0        89710             1.0                             0.045631   \n",
       "0        89710             1.0                             0.045631   \n",
       "\n",
       "   fair_main_equalized_odds_ratio  fair_main_demographic_parity_difference  \\\n",
       "0                        0.931713                                 0.057081   \n",
       "0                        0.931713                                 0.057081   \n",
       "0                        0.947887                                 0.026780   \n",
       "0                        0.947887                                 0.026780   \n",
       "\n",
       "   fair_main_demographic_parity_ratio  ...  perf_grp_precision_0  \\\n",
       "0                            0.939534  ...                   NaN   \n",
       "0                            0.939534  ...              0.119598   \n",
       "0                            0.965250  ...                   NaN   \n",
       "0                            0.965250  ...              0.127551   \n",
       "\n",
       "   perf_grp_precision_1  perf_grp_false positive rate_0  \\\n",
       "0                   NaN                             NaN   \n",
       "0              0.143556                        0.939412   \n",
       "0                   NaN                             NaN   \n",
       "0              0.159563                        0.759960   \n",
       "\n",
       "   perf_grp_false positive rate_1  perf_grp_false negative rate_0  \\\n",
       "0                             NaN                             NaN   \n",
       "0                        0.875262                        0.020693   \n",
       "0                             NaN                             NaN   \n",
       "0                        0.720356                        0.147382   \n",
       "\n",
       "   perf_grp_false negative rate_1  perf_grp_selection rate_0  \\\n",
       "0                             NaN                        NaN   \n",
       "0                        0.036433                   0.944012   \n",
       "0                             NaN                        NaN   \n",
       "0                        0.101751                   0.770643   \n",
       "\n",
       "   perf_grp_selection rate_1  perf_grp_count_0  perf_grp_count_1  \n",
       "0                        NaN               NaN               NaN  \n",
       "0                   0.886931           20540.0           69170.0  \n",
       "0                        NaN               NaN               NaN  \n",
       "0                   0.743863           20540.0           69170.0  \n",
       "\n",
       "[4 rows x 50 columns]"
      ]
     },
     "execution_count": 64,
     "metadata": {},
     "output_type": "execute_result"
    }
   ],
   "source": [
    "final_output = universe_analysis.generate_final_output(\n",
    "    y_pred_prob=probs_test,\n",
    "    y_test=y_true,\n",
    "    org_test=org_test,\n",
    "    filter_data=filter_sub_universe_data,\n",
    "    cp_metrics_df=cp_metrics_df,\n",
    "    save=True,\n",
    ")\n",
    "final_output"
   ]
  },
  {
   "cell_type": "code",
   "execution_count": null,
   "id": "8b80a1ff",
   "metadata": {
    "papermill": {
     "duration": 0.016206,
     "end_time": "2025-08-19T19:06:18.082327",
     "exception": false,
     "start_time": "2025-08-19T19:06:18.066121",
     "status": "completed"
    },
    "tags": []
   },
   "outputs": [],
   "source": []
  },
  {
   "cell_type": "code",
   "execution_count": null,
   "id": "275c9fad",
   "metadata": {
    "papermill": {
     "duration": 0.014144,
     "end_time": "2025-08-19T19:06:18.111084",
     "exception": false,
     "start_time": "2025-08-19T19:06:18.096940",
     "status": "completed"
    },
    "tags": []
   },
   "outputs": [],
   "source": []
  }
 ],
 "metadata": {
  "celltoolbar": "Tags",
  "kernelspec": {
   "display_name": "Python (CMA Fairness)",
   "language": "python",
   "name": "cma_fair_env"
  },
  "language_info": {
   "codemirror_mode": {
    "name": "ipython",
    "version": 3
   },
   "file_extension": ".py",
   "mimetype": "text/x-python",
   "name": "python",
   "nbconvert_exporter": "python",
   "pygments_lexer": "ipython3",
   "version": "3.10.12"
  },
  "papermill": {
   "default_parameters": {},
   "duration": 32.636891,
   "end_time": "2025-08-19T19:06:18.952593",
   "environment_variables": {},
   "exception": null,
   "input_path": "universe_analysis.ipynb",
   "output_path": "output/runs/3/notebooks/m_3-7cec45002df7e3709fafe7e87939f988.ipynb",
   "parameters": {
    "output_dir": "output",
    "run_no": "3",
    "seed": "2023",
    "universe": "{\"cutoff\": [\"quantile_0.1\", \"quantile_0.25\"], \"eval_fairness_grouping\": [\"majority-minority\", \"nationality-all\"], \"exclude_features\": \"age\", \"exclude_subgroups\": \"keep-all\", \"model\": \"penalized_logreg\", \"scale\": \"scale\", \"training_size\": \"1k\", \"training_year\": \"2010_14\"}",
    "universe_id": "7cec45002df7e3709fafe7e87939f988"
   },
   "start_time": "2025-08-19T19:05:46.315702",
   "version": "2.6.0"
  }
 },
 "nbformat": 4,
 "nbformat_minor": 5
}