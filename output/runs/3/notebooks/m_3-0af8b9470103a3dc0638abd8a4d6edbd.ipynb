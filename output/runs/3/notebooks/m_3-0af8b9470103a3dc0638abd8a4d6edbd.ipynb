{
 "cells": [
  {
   "cell_type": "markdown",
   "id": "ef23dbb3",
   "metadata": {
    "papermill": {
     "duration": 0.009303,
     "end_time": "2025-08-19T18:09:50.684222",
     "exception": false,
     "start_time": "2025-08-19T18:09:50.674919",
     "status": "completed"
    },
    "tags": []
   },
   "source": [
    "# Setup"
   ]
  },
  {
   "cell_type": "code",
   "execution_count": 1,
   "id": "0bc8e7dc",
   "metadata": {
    "execution": {
     "iopub.execute_input": "2025-08-19T18:09:50.704399Z",
     "iopub.status.busy": "2025-08-19T18:09:50.703178Z",
     "iopub.status.idle": "2025-08-19T18:09:50.723091Z",
     "shell.execute_reply": "2025-08-19T18:09:50.722286Z"
    },
    "papermill": {
     "duration": 0.031821,
     "end_time": "2025-08-19T18:09:50.724691",
     "exception": false,
     "start_time": "2025-08-19T18:09:50.692870",
     "status": "completed"
    },
    "tags": []
   },
   "outputs": [
    {
     "name": "stdout",
     "output_type": "stream",
     "text": [
      "/dss/dsshome1/0C/ra93lal2/cma/CMA_Fairness_v2\n"
     ]
    },
    {
     "name": "stderr",
     "output_type": "stream",
     "text": [
      "/dss/dsshome1/0C/ra93lal2/.local/share/virtualenvs/CMA_Fairness_v2-3j10GkSs/lib/python3.10/site-packages/IPython/core/magics/osm.py:393: UserWarning: This is now an optional IPython functionality, using bookmarks requires you to install the `pickleshare` library.\n",
      "  bkms = self.shell.db.get('bookmarks', {})\n",
      "/dss/dsshome1/0C/ra93lal2/.local/share/virtualenvs/CMA_Fairness_v2-3j10GkSs/lib/python3.10/site-packages/IPython/core/magics/osm.py:417: UserWarning: This is now an optional IPython functionality, setting dhist requires you to install the `pickleshare` library.\n",
      "  self.shell.db['dhist'] = compress_dhist(dhist)[-100:]\n"
     ]
    }
   ],
   "source": [
    "%cd ~/cma/CMA_Fairness_v2"
   ]
  },
  {
   "cell_type": "markdown",
   "id": "9d235661",
   "metadata": {
    "papermill": {
     "duration": 0.010029,
     "end_time": "2025-08-19T18:09:50.750174",
     "exception": false,
     "start_time": "2025-08-19T18:09:50.740145",
     "status": "completed"
    },
    "tags": []
   },
   "source": [
    "The following cell holds the definition of our parameters, these values can be overriden by rendering the with e.g. the following command:\n",
    "\n",
    "papermill -p alpha 0.2 -p ratio 0.3 universe_analysis.ipynb output/test_run.ipynb"
   ]
  },
  {
   "cell_type": "code",
   "execution_count": 2,
   "id": "4a789d8e",
   "metadata": {
    "execution": {
     "iopub.execute_input": "2025-08-19T18:09:50.772196Z",
     "iopub.status.busy": "2025-08-19T18:09:50.769341Z",
     "iopub.status.idle": "2025-08-19T18:09:50.779326Z",
     "shell.execute_reply": "2025-08-19T18:09:50.778269Z"
    },
    "papermill": {
     "duration": 0.021569,
     "end_time": "2025-08-19T18:09:50.780683",
     "exception": false,
     "start_time": "2025-08-19T18:09:50.759114",
     "status": "completed"
    },
    "tags": []
   },
   "outputs": [
    {
     "name": "stdout",
     "output_type": "stream",
     "text": [
      "Current working directory: /dss/dsshome1/0C/ra93lal2/cma/CMA_Fairness_v2\n"
     ]
    }
   ],
   "source": [
    "import os\n",
    "print(\"Current working directory:\", os.getcwd())"
   ]
  },
  {
   "cell_type": "code",
   "execution_count": 3,
   "id": "4132aaed",
   "metadata": {
    "execution": {
     "iopub.execute_input": "2025-08-19T18:09:50.809161Z",
     "iopub.status.busy": "2025-08-19T18:09:50.806287Z",
     "iopub.status.idle": "2025-08-19T18:09:50.815176Z",
     "shell.execute_reply": "2025-08-19T18:09:50.814354Z"
    },
    "papermill": {
     "duration": 0.025327,
     "end_time": "2025-08-19T18:09:50.816599",
     "exception": false,
     "start_time": "2025-08-19T18:09:50.791272",
     "status": "completed"
    },
    "tags": [
     "parameters"
    ]
   },
   "outputs": [],
   "source": [
    "run_no = 0\n",
    "universe_id = \"test\"\n",
    "universe = {\n",
    "    \"training_size\": \"5k\", # \"25k\", \"5k\", \"1k\"\n",
    "    \"training_year\": \"2012_14\", # \"2014\", \"2012_14\", \"2010_14\"\n",
    "    \"scale\": \"scale\", # \"scale\", \"do-not-scale\",\n",
    "    \"model\": \"elasticnet\", # \"logreg\", \"penalized_logreg\", \"rf\", \"gbm\", \"elasticnet\"\n",
    "    \"cutoff\": [\"quantile_0.15\", \"quantile_0.30\"],\n",
    "    \"exclude_features\": \"age\", # \"none\", \"nationality\", \"sex\", \"nationality-sex\", \"age\"\n",
    "    \"exclude_subgroups\": \"drop-non-german\", # \"keep-all\", \"drop-non-german\"\n",
    "    \"eval_fairness_grouping\": [\"majority-minority\", \"nationality-all\"]\n",
    "}\n",
    "\n",
    "output_dir=\"./output\"\n",
    "seed=0"
   ]
  },
  {
   "cell_type": "code",
   "execution_count": 4,
   "id": "a1f5e5d6",
   "metadata": {
    "execution": {
     "iopub.execute_input": "2025-08-19T18:09:50.859765Z",
     "iopub.status.busy": "2025-08-19T18:09:50.850357Z",
     "iopub.status.idle": "2025-08-19T18:09:50.864866Z",
     "shell.execute_reply": "2025-08-19T18:09:50.864080Z"
    },
    "papermill": {
     "duration": 0.038294,
     "end_time": "2025-08-19T18:09:50.866641",
     "exception": false,
     "start_time": "2025-08-19T18:09:50.828347",
     "status": "completed"
    },
    "tags": [
     "injected-parameters"
    ]
   },
   "outputs": [],
   "source": [
    "# Parameters\n",
    "universe_id = \"0af8b9470103a3dc0638abd8a4d6edbd\"\n",
    "run_no = \"3\"\n",
    "universe = \"{\\\"cutoff\\\": [\\\"quantile_0.1\\\", \\\"quantile_0.25\\\"], \\\"eval_fairness_grouping\\\": [\\\"majority-minority\\\", \\\"nationality-all\\\"], \\\"exclude_features\\\": \\\"nationality-sex\\\", \\\"exclude_subgroups\\\": \\\"keep-all\\\", \\\"model\\\": \\\"rf\\\", \\\"scale\\\": \\\"do-not-scale\\\", \\\"training_size\\\": \\\"25k\\\", \\\"training_year\\\": \\\"2012_14\\\"}\"\n",
    "output_dir = \"output\"\n",
    "seed = \"2023\"\n"
   ]
  },
  {
   "cell_type": "code",
   "execution_count": 5,
   "id": "a5d7941f",
   "metadata": {
    "execution": {
     "iopub.execute_input": "2025-08-19T18:09:50.893719Z",
     "iopub.status.busy": "2025-08-19T18:09:50.893384Z",
     "iopub.status.idle": "2025-08-19T18:09:50.897802Z",
     "shell.execute_reply": "2025-08-19T18:09:50.897059Z"
    },
    "papermill": {
     "duration": 0.0171,
     "end_time": "2025-08-19T18:09:50.899024",
     "exception": false,
     "start_time": "2025-08-19T18:09:50.881924",
     "status": "completed"
    },
    "tags": []
   },
   "outputs": [],
   "source": [
    "import json\n",
    "if isinstance(universe, str):\n",
    "    universe = json.loads(universe)"
   ]
  },
  {
   "cell_type": "code",
   "execution_count": 6,
   "id": "7076ccb1",
   "metadata": {
    "execution": {
     "iopub.execute_input": "2025-08-19T18:09:50.921229Z",
     "iopub.status.busy": "2025-08-19T18:09:50.920288Z",
     "iopub.status.idle": "2025-08-19T18:09:50.989179Z",
     "shell.execute_reply": "2025-08-19T18:09:50.988309Z"
    },
    "papermill": {
     "duration": 0.082002,
     "end_time": "2025-08-19T18:09:50.990908",
     "exception": false,
     "start_time": "2025-08-19T18:09:50.908906",
     "status": "completed"
    },
    "tags": []
   },
   "outputs": [],
   "source": [
    "# Auto-reload the custom package\n",
    "%load_ext autoreload\n",
    "%autoreload 1\n",
    "%aimport fairness_multiverse"
   ]
  },
  {
   "cell_type": "code",
   "execution_count": 7,
   "id": "94c8eb93",
   "metadata": {
    "execution": {
     "iopub.execute_input": "2025-08-19T18:09:51.013773Z",
     "iopub.status.busy": "2025-08-19T18:09:51.013027Z",
     "iopub.status.idle": "2025-08-19T18:09:52.575834Z",
     "shell.execute_reply": "2025-08-19T18:09:52.574993Z"
    },
    "papermill": {
     "duration": 1.575837,
     "end_time": "2025-08-19T18:09:52.577549",
     "exception": false,
     "start_time": "2025-08-19T18:09:51.001712",
     "status": "completed"
    },
    "tags": []
   },
   "outputs": [],
   "source": [
    "from fairness_multiverse.universe import UniverseAnalysis\n",
    "\n",
    "universe_analysis = UniverseAnalysis(\n",
    "    run_no = run_no,\n",
    "    universe_id = universe_id,\n",
    "    universe = universe,\n",
    "    output_dir=output_dir,\n",
    ")"
   ]
  },
  {
   "cell_type": "code",
   "execution_count": 8,
   "id": "2a6381cf",
   "metadata": {
    "execution": {
     "iopub.execute_input": "2025-08-19T18:09:52.609319Z",
     "iopub.status.busy": "2025-08-19T18:09:52.598233Z",
     "iopub.status.idle": "2025-08-19T18:09:52.614970Z",
     "shell.execute_reply": "2025-08-19T18:09:52.614177Z"
    },
    "papermill": {
     "duration": 0.030576,
     "end_time": "2025-08-19T18:09:52.617817",
     "exception": false,
     "start_time": "2025-08-19T18:09:52.587241",
     "status": "completed"
    },
    "tags": []
   },
   "outputs": [
    {
     "name": "stdout",
     "output_type": "stream",
     "text": [
      "Using Seed: 2023\n"
     ]
    }
   ],
   "source": [
    "import numpy as np\n",
    "parsed_seed = int(seed)\n",
    "np.random.seed(parsed_seed)\n",
    "print(f\"Using Seed: {parsed_seed}\")"
   ]
  },
  {
   "cell_type": "markdown",
   "id": "b6e958b4",
   "metadata": {
    "papermill": {
     "duration": 0.012047,
     "end_time": "2025-08-19T18:09:52.649602",
     "exception": false,
     "start_time": "2025-08-19T18:09:52.637555",
     "status": "completed"
    },
    "tags": []
   },
   "source": [
    "# Loading Data"
   ]
  },
  {
   "cell_type": "code",
   "execution_count": 9,
   "id": "98701482",
   "metadata": {
    "execution": {
     "iopub.execute_input": "2025-08-19T18:09:52.672621Z",
     "iopub.status.busy": "2025-08-19T18:09:52.672104Z",
     "iopub.status.idle": "2025-08-19T18:10:02.925501Z",
     "shell.execute_reply": "2025-08-19T18:10:02.924512Z"
    },
    "papermill": {
     "duration": 10.269537,
     "end_time": "2025-08-19T18:10:02.928527",
     "exception": false,
     "start_time": "2025-08-19T18:09:52.658990",
     "status": "completed"
    },
    "tags": []
   },
   "outputs": [
    {
     "name": "stdout",
     "output_type": "stream",
     "text": [
      "Loading SIAB data from cache: data/siab_cached.csv.gz\n"
     ]
    },
    {
     "name": "stdout",
     "output_type": "stream",
     "text": [
      "(643690, 164)\n"
     ]
    }
   ],
   "source": [
    "from pathlib import Path\n",
    "import pandas as pd\n",
    "\n",
    "# File paths\n",
    "raw_file = Path(\"data/raw/siab.csv\")\n",
    "cache_file = Path(\"data/siab_cached.csv.gz\")\n",
    "\n",
    "# Ensure cache directory exists\n",
    "cache_file.parent.mkdir(parents=True, exist_ok=True)\n",
    "\n",
    "# Load with simple caching\n",
    "if cache_file.exists():\n",
    "    print(f\"Loading SIAB data from cache: {cache_file}\")\n",
    "    siab = pd.read_csv(cache_file, compression='gzip')\n",
    "else:\n",
    "    print(f\"Cache not found. Reading raw SIAB data: {raw_file}\")\n",
    "    siab = pd.read_csv(raw_file)\n",
    "    siab.to_csv(cache_file, index=False, compression='gzip')\n",
    "    print(f\"Cached SIAB data to: {cache_file}\")\n",
    "\n",
    "print(siab.shape)"
   ]
  },
  {
   "cell_type": "code",
   "execution_count": 10,
   "id": "058d2abb",
   "metadata": {
    "execution": {
     "iopub.execute_input": "2025-08-19T18:10:02.970640Z",
     "iopub.status.busy": "2025-08-19T18:10:02.969086Z",
     "iopub.status.idle": "2025-08-19T18:10:03.136285Z",
     "shell.execute_reply": "2025-08-19T18:10:03.135519Z"
    },
    "papermill": {
     "duration": 0.186152,
     "end_time": "2025-08-19T18:10:03.140748",
     "exception": false,
     "start_time": "2025-08-19T18:10:02.954596",
     "status": "completed"
    },
    "tags": []
   },
   "outputs": [
    {
     "data": {
      "text/html": [
       "<div>\n",
       "<style scoped>\n",
       "    .dataframe tbody tr th:only-of-type {\n",
       "        vertical-align: middle;\n",
       "    }\n",
       "\n",
       "    .dataframe tbody tr th {\n",
       "        vertical-align: top;\n",
       "    }\n",
       "\n",
       "    .dataframe thead th {\n",
       "        text-align: right;\n",
       "    }\n",
       "</style>\n",
       "<table border=\"1\" class=\"dataframe\">\n",
       "  <thead>\n",
       "    <tr style=\"text-align: right;\">\n",
       "      <th></th>\n",
       "      <th>persnr</th>\n",
       "      <th>year</th>\n",
       "      <th>nrEntry</th>\n",
       "      <th>ltue</th>\n",
       "      <th>employed_before</th>\n",
       "      <th>receipt_leh_before</th>\n",
       "      <th>receipt_lhg_before</th>\n",
       "      <th>se_before</th>\n",
       "      <th>ASU_notue_seeking_before</th>\n",
       "      <th>ASU_other_before</th>\n",
       "      <th>...</th>\n",
       "      <th>minijob_tot_dur_byage</th>\n",
       "      <th>ft_tot_dur_byage</th>\n",
       "      <th>befrist_tot_dur_byage</th>\n",
       "      <th>leih_tot_dur_byage</th>\n",
       "      <th>LHG_tot_dur_byage</th>\n",
       "      <th>LEH_tot_dur_byage</th>\n",
       "      <th>almp_tot_dur_byage</th>\n",
       "      <th>almp_aw_tot_dur_byage</th>\n",
       "      <th>se_tot_dur_byage</th>\n",
       "      <th>seeking1_tot_dur_byage</th>\n",
       "    </tr>\n",
       "  </thead>\n",
       "  <tbody>\n",
       "    <tr>\n",
       "      <th>0</th>\n",
       "      <td>7</td>\n",
       "      <td>2015</td>\n",
       "      <td>1</td>\n",
       "      <td>0</td>\n",
       "      <td>1</td>\n",
       "      <td>0</td>\n",
       "      <td>0</td>\n",
       "      <td>0</td>\n",
       "      <td>1</td>\n",
       "      <td>0</td>\n",
       "      <td>...</td>\n",
       "      <td>0.000000</td>\n",
       "      <td>0.000000</td>\n",
       "      <td>15.043478</td>\n",
       "      <td>0.000000</td>\n",
       "      <td>0.000000</td>\n",
       "      <td>0.000000</td>\n",
       "      <td>0.000000</td>\n",
       "      <td>0.000000</td>\n",
       "      <td>0.000000</td>\n",
       "      <td>0.000000</td>\n",
       "    </tr>\n",
       "    <tr>\n",
       "      <th>1</th>\n",
       "      <td>18</td>\n",
       "      <td>2010</td>\n",
       "      <td>1</td>\n",
       "      <td>1</td>\n",
       "      <td>0</td>\n",
       "      <td>0</td>\n",
       "      <td>0</td>\n",
       "      <td>0</td>\n",
       "      <td>0</td>\n",
       "      <td>0</td>\n",
       "      <td>...</td>\n",
       "      <td>0.000000</td>\n",
       "      <td>0.000000</td>\n",
       "      <td>0.000000</td>\n",
       "      <td>0.000000</td>\n",
       "      <td>0.000000</td>\n",
       "      <td>0.000000</td>\n",
       "      <td>0.000000</td>\n",
       "      <td>0.000000</td>\n",
       "      <td>0.000000</td>\n",
       "      <td>0.000000</td>\n",
       "    </tr>\n",
       "    <tr>\n",
       "      <th>2</th>\n",
       "      <td>18</td>\n",
       "      <td>2011</td>\n",
       "      <td>2</td>\n",
       "      <td>0</td>\n",
       "      <td>1</td>\n",
       "      <td>0</td>\n",
       "      <td>1</td>\n",
       "      <td>0</td>\n",
       "      <td>1</td>\n",
       "      <td>0</td>\n",
       "      <td>...</td>\n",
       "      <td>2.714286</td>\n",
       "      <td>2.714286</td>\n",
       "      <td>0.000000</td>\n",
       "      <td>0.000000</td>\n",
       "      <td>10.775510</td>\n",
       "      <td>0.000000</td>\n",
       "      <td>8.367347</td>\n",
       "      <td>0.000000</td>\n",
       "      <td>0.000000</td>\n",
       "      <td>9.836735</td>\n",
       "    </tr>\n",
       "    <tr>\n",
       "      <th>3</th>\n",
       "      <td>18</td>\n",
       "      <td>2012</td>\n",
       "      <td>3</td>\n",
       "      <td>0</td>\n",
       "      <td>1</td>\n",
       "      <td>0</td>\n",
       "      <td>1</td>\n",
       "      <td>0</td>\n",
       "      <td>1</td>\n",
       "      <td>0</td>\n",
       "      <td>...</td>\n",
       "      <td>4.200000</td>\n",
       "      <td>4.200000</td>\n",
       "      <td>0.000000</td>\n",
       "      <td>0.000000</td>\n",
       "      <td>12.100000</td>\n",
       "      <td>0.000000</td>\n",
       "      <td>9.400000</td>\n",
       "      <td>0.000000</td>\n",
       "      <td>0.000000</td>\n",
       "      <td>9.960000</td>\n",
       "    </tr>\n",
       "    <tr>\n",
       "      <th>4</th>\n",
       "      <td>18</td>\n",
       "      <td>2012</td>\n",
       "      <td>4</td>\n",
       "      <td>0</td>\n",
       "      <td>1</td>\n",
       "      <td>0</td>\n",
       "      <td>1</td>\n",
       "      <td>0</td>\n",
       "      <td>1</td>\n",
       "      <td>0</td>\n",
       "      <td>...</td>\n",
       "      <td>5.460000</td>\n",
       "      <td>5.460000</td>\n",
       "      <td>0.000000</td>\n",
       "      <td>0.000000</td>\n",
       "      <td>13.360000</td>\n",
       "      <td>0.000000</td>\n",
       "      <td>10.320000</td>\n",
       "      <td>0.000000</td>\n",
       "      <td>0.000000</td>\n",
       "      <td>10.280000</td>\n",
       "    </tr>\n",
       "    <tr>\n",
       "      <th>...</th>\n",
       "      <td>...</td>\n",
       "      <td>...</td>\n",
       "      <td>...</td>\n",
       "      <td>...</td>\n",
       "      <td>...</td>\n",
       "      <td>...</td>\n",
       "      <td>...</td>\n",
       "      <td>...</td>\n",
       "      <td>...</td>\n",
       "      <td>...</td>\n",
       "      <td>...</td>\n",
       "      <td>...</td>\n",
       "      <td>...</td>\n",
       "      <td>...</td>\n",
       "      <td>...</td>\n",
       "      <td>...</td>\n",
       "      <td>...</td>\n",
       "      <td>...</td>\n",
       "      <td>...</td>\n",
       "      <td>...</td>\n",
       "      <td>...</td>\n",
       "    </tr>\n",
       "    <tr>\n",
       "      <th>643685</th>\n",
       "      <td>1827860</td>\n",
       "      <td>2013</td>\n",
       "      <td>1</td>\n",
       "      <td>0</td>\n",
       "      <td>0</td>\n",
       "      <td>0</td>\n",
       "      <td>1</td>\n",
       "      <td>0</td>\n",
       "      <td>0</td>\n",
       "      <td>1</td>\n",
       "      <td>...</td>\n",
       "      <td>0.000000</td>\n",
       "      <td>0.000000</td>\n",
       "      <td>0.000000</td>\n",
       "      <td>0.000000</td>\n",
       "      <td>0.612903</td>\n",
       "      <td>0.000000</td>\n",
       "      <td>0.000000</td>\n",
       "      <td>0.000000</td>\n",
       "      <td>0.000000</td>\n",
       "      <td>0.000000</td>\n",
       "    </tr>\n",
       "    <tr>\n",
       "      <th>643686</th>\n",
       "      <td>1827860</td>\n",
       "      <td>2015</td>\n",
       "      <td>2</td>\n",
       "      <td>1</td>\n",
       "      <td>0</td>\n",
       "      <td>0</td>\n",
       "      <td>1</td>\n",
       "      <td>0</td>\n",
       "      <td>1</td>\n",
       "      <td>0</td>\n",
       "      <td>...</td>\n",
       "      <td>0.000000</td>\n",
       "      <td>0.000000</td>\n",
       "      <td>0.212121</td>\n",
       "      <td>0.212121</td>\n",
       "      <td>17.363636</td>\n",
       "      <td>0.000000</td>\n",
       "      <td>8.909091</td>\n",
       "      <td>0.000000</td>\n",
       "      <td>0.000000</td>\n",
       "      <td>7.121212</td>\n",
       "    </tr>\n",
       "    <tr>\n",
       "      <th>643687</th>\n",
       "      <td>1827860</td>\n",
       "      <td>2016</td>\n",
       "      <td>3</td>\n",
       "      <td>1</td>\n",
       "      <td>0</td>\n",
       "      <td>0</td>\n",
       "      <td>1</td>\n",
       "      <td>1</td>\n",
       "      <td>0</td>\n",
       "      <td>1</td>\n",
       "      <td>...</td>\n",
       "      <td>0.000000</td>\n",
       "      <td>0.000000</td>\n",
       "      <td>0.294118</td>\n",
       "      <td>0.205882</td>\n",
       "      <td>34.705882</td>\n",
       "      <td>0.000000</td>\n",
       "      <td>10.352941</td>\n",
       "      <td>1.705882</td>\n",
       "      <td>1.705882</td>\n",
       "      <td>23.911765</td>\n",
       "    </tr>\n",
       "    <tr>\n",
       "      <th>643688</th>\n",
       "      <td>1827869</td>\n",
       "      <td>2013</td>\n",
       "      <td>1</td>\n",
       "      <td>1</td>\n",
       "      <td>1</td>\n",
       "      <td>0</td>\n",
       "      <td>0</td>\n",
       "      <td>0</td>\n",
       "      <td>1</td>\n",
       "      <td>0</td>\n",
       "      <td>...</td>\n",
       "      <td>0.000000</td>\n",
       "      <td>0.000000</td>\n",
       "      <td>0.000000</td>\n",
       "      <td>0.000000</td>\n",
       "      <td>0.000000</td>\n",
       "      <td>0.525424</td>\n",
       "      <td>0.000000</td>\n",
       "      <td>0.000000</td>\n",
       "      <td>0.000000</td>\n",
       "      <td>0.000000</td>\n",
       "    </tr>\n",
       "    <tr>\n",
       "      <th>643689</th>\n",
       "      <td>1827869</td>\n",
       "      <td>2014</td>\n",
       "      <td>2</td>\n",
       "      <td>0</td>\n",
       "      <td>0</td>\n",
       "      <td>1</td>\n",
       "      <td>0</td>\n",
       "      <td>0</td>\n",
       "      <td>1</td>\n",
       "      <td>0</td>\n",
       "      <td>...</td>\n",
       "      <td>0.000000</td>\n",
       "      <td>0.666667</td>\n",
       "      <td>0.666667</td>\n",
       "      <td>0.000000</td>\n",
       "      <td>0.000000</td>\n",
       "      <td>8.950000</td>\n",
       "      <td>1.033333</td>\n",
       "      <td>0.083333</td>\n",
       "      <td>0.083333</td>\n",
       "      <td>8.133333</td>\n",
       "    </tr>\n",
       "  </tbody>\n",
       "</table>\n",
       "<p>643690 rows × 164 columns</p>\n",
       "</div>"
      ],
      "text/plain": [
       "         persnr  year  nrEntry  ltue  employed_before  receipt_leh_before  \\\n",
       "0             7  2015        1     0                1                   0   \n",
       "1            18  2010        1     1                0                   0   \n",
       "2            18  2011        2     0                1                   0   \n",
       "3            18  2012        3     0                1                   0   \n",
       "4            18  2012        4     0                1                   0   \n",
       "...         ...   ...      ...   ...              ...                 ...   \n",
       "643685  1827860  2013        1     0                0                   0   \n",
       "643686  1827860  2015        2     1                0                   0   \n",
       "643687  1827860  2016        3     1                0                   0   \n",
       "643688  1827869  2013        1     1                1                   0   \n",
       "643689  1827869  2014        2     0                0                   1   \n",
       "\n",
       "        receipt_lhg_before  se_before  ASU_notue_seeking_before  \\\n",
       "0                        0          0                         1   \n",
       "1                        0          0                         0   \n",
       "2                        1          0                         1   \n",
       "3                        1          0                         1   \n",
       "4                        1          0                         1   \n",
       "...                    ...        ...                       ...   \n",
       "643685                   1          0                         0   \n",
       "643686                   1          0                         1   \n",
       "643687                   1          1                         0   \n",
       "643688                   0          0                         1   \n",
       "643689                   0          0                         1   \n",
       "\n",
       "        ASU_other_before  ...  minijob_tot_dur_byage  ft_tot_dur_byage  \\\n",
       "0                      0  ...               0.000000          0.000000   \n",
       "1                      0  ...               0.000000          0.000000   \n",
       "2                      0  ...               2.714286          2.714286   \n",
       "3                      0  ...               4.200000          4.200000   \n",
       "4                      0  ...               5.460000          5.460000   \n",
       "...                  ...  ...                    ...               ...   \n",
       "643685                 1  ...               0.000000          0.000000   \n",
       "643686                 0  ...               0.000000          0.000000   \n",
       "643687                 1  ...               0.000000          0.000000   \n",
       "643688                 0  ...               0.000000          0.000000   \n",
       "643689                 0  ...               0.000000          0.666667   \n",
       "\n",
       "        befrist_tot_dur_byage  leih_tot_dur_byage  LHG_tot_dur_byage  \\\n",
       "0                   15.043478            0.000000           0.000000   \n",
       "1                    0.000000            0.000000           0.000000   \n",
       "2                    0.000000            0.000000          10.775510   \n",
       "3                    0.000000            0.000000          12.100000   \n",
       "4                    0.000000            0.000000          13.360000   \n",
       "...                       ...                 ...                ...   \n",
       "643685               0.000000            0.000000           0.612903   \n",
       "643686               0.212121            0.212121          17.363636   \n",
       "643687               0.294118            0.205882          34.705882   \n",
       "643688               0.000000            0.000000           0.000000   \n",
       "643689               0.666667            0.000000           0.000000   \n",
       "\n",
       "        LEH_tot_dur_byage  almp_tot_dur_byage  almp_aw_tot_dur_byage  \\\n",
       "0                0.000000            0.000000               0.000000   \n",
       "1                0.000000            0.000000               0.000000   \n",
       "2                0.000000            8.367347               0.000000   \n",
       "3                0.000000            9.400000               0.000000   \n",
       "4                0.000000           10.320000               0.000000   \n",
       "...                   ...                 ...                    ...   \n",
       "643685           0.000000            0.000000               0.000000   \n",
       "643686           0.000000            8.909091               0.000000   \n",
       "643687           0.000000           10.352941               1.705882   \n",
       "643688           0.525424            0.000000               0.000000   \n",
       "643689           8.950000            1.033333               0.083333   \n",
       "\n",
       "        se_tot_dur_byage  seeking1_tot_dur_byage  \n",
       "0               0.000000                0.000000  \n",
       "1               0.000000                0.000000  \n",
       "2               0.000000                9.836735  \n",
       "3               0.000000                9.960000  \n",
       "4               0.000000               10.280000  \n",
       "...                  ...                     ...  \n",
       "643685          0.000000                0.000000  \n",
       "643686          0.000000                7.121212  \n",
       "643687          1.705882               23.911765  \n",
       "643688          0.000000                0.000000  \n",
       "643689          0.083333                8.133333  \n",
       "\n",
       "[643690 rows x 164 columns]"
      ]
     },
     "execution_count": 10,
     "metadata": {},
     "output_type": "execute_result"
    }
   ],
   "source": [
    "siab"
   ]
  },
  {
   "cell_type": "markdown",
   "id": "1f87e805",
   "metadata": {
    "papermill": {
     "duration": 0.011769,
     "end_time": "2025-08-19T18:10:03.174818",
     "exception": false,
     "start_time": "2025-08-19T18:10:03.163049",
     "status": "completed"
    },
    "tags": []
   },
   "source": [
    "# Splitting Data and Setting Training Data Size"
   ]
  },
  {
   "cell_type": "code",
   "execution_count": 11,
   "id": "910ae358",
   "metadata": {
    "execution": {
     "iopub.execute_input": "2025-08-19T18:10:03.223576Z",
     "iopub.status.busy": "2025-08-19T18:10:03.222245Z",
     "iopub.status.idle": "2025-08-19T18:10:03.944443Z",
     "shell.execute_reply": "2025-08-19T18:10:03.943686Z"
    },
    "papermill": {
     "duration": 0.762095,
     "end_time": "2025-08-19T18:10:03.946672",
     "exception": false,
     "start_time": "2025-08-19T18:10:03.184577",
     "status": "completed"
    },
    "tags": []
   },
   "outputs": [],
   "source": [
    "from fairness_multiverse.universe import sample_by_year_size\n",
    "\n",
    "siab_train = sample_by_year_size(siab,\n",
    "                               training_year=universe[\"training_year\"],\n",
    "                               training_size=universe[\"training_size\"])"
   ]
  },
  {
   "cell_type": "code",
   "execution_count": 12,
   "id": "919c8ff5",
   "metadata": {
    "execution": {
     "iopub.execute_input": "2025-08-19T18:10:03.971609Z",
     "iopub.status.busy": "2025-08-19T18:10:03.971315Z",
     "iopub.status.idle": "2025-08-19T18:10:03.977176Z",
     "shell.execute_reply": "2025-08-19T18:10:03.976507Z"
    },
    "papermill": {
     "duration": 0.017778,
     "end_time": "2025-08-19T18:10:03.978318",
     "exception": false,
     "start_time": "2025-08-19T18:10:03.960540",
     "status": "completed"
    },
    "tags": []
   },
   "outputs": [
    {
     "data": {
      "text/plain": [
       "(25000, 164)"
      ]
     },
     "execution_count": 12,
     "metadata": {},
     "output_type": "execute_result"
    }
   ],
   "source": [
    "siab_train.shape"
   ]
  },
  {
   "cell_type": "code",
   "execution_count": 13,
   "id": "feb13bf4",
   "metadata": {
    "execution": {
     "iopub.execute_input": "2025-08-19T18:10:03.999198Z",
     "iopub.status.busy": "2025-08-19T18:10:03.998797Z",
     "iopub.status.idle": "2025-08-19T18:10:04.006471Z",
     "shell.execute_reply": "2025-08-19T18:10:04.005815Z"
    },
    "papermill": {
     "duration": 0.019431,
     "end_time": "2025-08-19T18:10:04.007671",
     "exception": false,
     "start_time": "2025-08-19T18:10:03.988240",
     "status": "completed"
    },
    "tags": []
   },
   "outputs": [
    {
     "data": {
      "text/plain": [
       "year\n",
       "2012    8334\n",
       "2013    8333\n",
       "2014    8333\n",
       "dtype: int64"
      ]
     },
     "metadata": {},
     "output_type": "display_data"
    }
   ],
   "source": [
    "display(siab_train.groupby(\"year\").size())"
   ]
  },
  {
   "cell_type": "code",
   "execution_count": 14,
   "id": "0997782f",
   "metadata": {
    "execution": {
     "iopub.execute_input": "2025-08-19T18:10:04.030937Z",
     "iopub.status.busy": "2025-08-19T18:10:04.030080Z",
     "iopub.status.idle": "2025-08-19T18:10:04.310659Z",
     "shell.execute_reply": "2025-08-19T18:10:04.309597Z"
    },
    "papermill": {
     "duration": 0.29546,
     "end_time": "2025-08-19T18:10:04.313797",
     "exception": false,
     "start_time": "2025-08-19T18:10:04.018337",
     "status": "completed"
    },
    "tags": []
   },
   "outputs": [],
   "source": [
    "#siab_train = siab_s[siab_s.year < 2015]\n",
    "siab_calib = siab[siab.year == 2015]\n",
    "siab_test = siab[siab.year == 2016]"
   ]
  },
  {
   "cell_type": "code",
   "execution_count": 15,
   "id": "2c1e4012",
   "metadata": {
    "execution": {
     "iopub.execute_input": "2025-08-19T18:10:04.357642Z",
     "iopub.status.busy": "2025-08-19T18:10:04.357041Z",
     "iopub.status.idle": "2025-08-19T18:10:04.363320Z",
     "shell.execute_reply": "2025-08-19T18:10:04.362048Z"
    },
    "papermill": {
     "duration": 0.019479,
     "end_time": "2025-08-19T18:10:04.364710",
     "exception": false,
     "start_time": "2025-08-19T18:10:04.345231",
     "status": "completed"
    },
    "tags": []
   },
   "outputs": [],
   "source": [
    "#siab_calib.shape"
   ]
  },
  {
   "cell_type": "code",
   "execution_count": 16,
   "id": "f66b54ca",
   "metadata": {
    "execution": {
     "iopub.execute_input": "2025-08-19T18:10:04.387317Z",
     "iopub.status.busy": "2025-08-19T18:10:04.386891Z",
     "iopub.status.idle": "2025-08-19T18:10:04.391277Z",
     "shell.execute_reply": "2025-08-19T18:10:04.390467Z"
    },
    "papermill": {
     "duration": 0.016653,
     "end_time": "2025-08-19T18:10:04.392629",
     "exception": false,
     "start_time": "2025-08-19T18:10:04.375976",
     "status": "completed"
    },
    "tags": []
   },
   "outputs": [],
   "source": [
    "#siab_test.shape"
   ]
  },
  {
   "cell_type": "code",
   "execution_count": 17,
   "id": "27e4384d",
   "metadata": {
    "execution": {
     "iopub.execute_input": "2025-08-19T18:10:04.414391Z",
     "iopub.status.busy": "2025-08-19T18:10:04.413980Z",
     "iopub.status.idle": "2025-08-19T18:10:04.428163Z",
     "shell.execute_reply": "2025-08-19T18:10:04.427040Z"
    },
    "papermill": {
     "duration": 0.026298,
     "end_time": "2025-08-19T18:10:04.429538",
     "exception": false,
     "start_time": "2025-08-19T18:10:04.403240",
     "status": "completed"
    },
    "tags": []
   },
   "outputs": [],
   "source": [
    "X_train = siab_train.iloc[:,4:164]\n",
    "y_train = siab_train.iloc[:, [3]]"
   ]
  },
  {
   "cell_type": "code",
   "execution_count": 18,
   "id": "08ee8389",
   "metadata": {
    "execution": {
     "iopub.execute_input": "2025-08-19T18:10:04.455580Z",
     "iopub.status.busy": "2025-08-19T18:10:04.454724Z",
     "iopub.status.idle": "2025-08-19T18:10:04.505876Z",
     "shell.execute_reply": "2025-08-19T18:10:04.505120Z"
    },
    "papermill": {
     "duration": 0.065756,
     "end_time": "2025-08-19T18:10:04.508975",
     "exception": false,
     "start_time": "2025-08-19T18:10:04.443219",
     "status": "completed"
    },
    "tags": []
   },
   "outputs": [],
   "source": [
    "X_calib = siab_calib.iloc[:,4:164]\n",
    "y_calib = siab_calib.iloc[:, [3]]"
   ]
  },
  {
   "cell_type": "code",
   "execution_count": 19,
   "id": "b7ff42e0",
   "metadata": {
    "execution": {
     "iopub.execute_input": "2025-08-19T18:10:04.576209Z",
     "iopub.status.busy": "2025-08-19T18:10:04.575525Z",
     "iopub.status.idle": "2025-08-19T18:10:04.627088Z",
     "shell.execute_reply": "2025-08-19T18:10:04.626330Z"
    },
    "papermill": {
     "duration": 0.089148,
     "end_time": "2025-08-19T18:10:04.634410",
     "exception": false,
     "start_time": "2025-08-19T18:10:04.545262",
     "status": "completed"
    },
    "tags": []
   },
   "outputs": [],
   "source": [
    "X_test = siab_test.iloc[:,4:164]\n",
    "y_true = siab_test.iloc[:, [3]]"
   ]
  },
  {
   "cell_type": "code",
   "execution_count": 20,
   "id": "0275101e",
   "metadata": {
    "execution": {
     "iopub.execute_input": "2025-08-19T18:10:04.682352Z",
     "iopub.status.busy": "2025-08-19T18:10:04.681859Z",
     "iopub.status.idle": "2025-08-19T18:10:04.789181Z",
     "shell.execute_reply": "2025-08-19T18:10:04.788373Z"
    },
    "papermill": {
     "duration": 0.132373,
     "end_time": "2025-08-19T18:10:04.792342",
     "exception": false,
     "start_time": "2025-08-19T18:10:04.659969",
     "status": "completed"
    },
    "tags": []
   },
   "outputs": [],
   "source": [
    "# Auxiliary data needed downstream in the pipeline\n",
    "\n",
    "org_train = X_train.copy()\n",
    "org_test = X_test.copy()\n",
    "org_calib = X_calib.copy()"
   ]
  },
  {
   "cell_type": "markdown",
   "id": "b461e618",
   "metadata": {
    "papermill": {
     "duration": 0.016797,
     "end_time": "2025-08-19T18:10:04.849123",
     "exception": false,
     "start_time": "2025-08-19T18:10:04.832326",
     "status": "completed"
    },
    "tags": []
   },
   "source": [
    "# Preprocessing Data"
   ]
  },
  {
   "cell_type": "code",
   "execution_count": 21,
   "id": "78e74c4b",
   "metadata": {
    "execution": {
     "iopub.execute_input": "2025-08-19T18:10:04.886562Z",
     "iopub.status.busy": "2025-08-19T18:10:04.885445Z",
     "iopub.status.idle": "2025-08-19T18:10:04.892619Z",
     "shell.execute_reply": "2025-08-19T18:10:04.891783Z"
    },
    "papermill": {
     "duration": 0.020965,
     "end_time": "2025-08-19T18:10:04.894040",
     "exception": false,
     "start_time": "2025-08-19T18:10:04.873075",
     "status": "completed"
    },
    "tags": []
   },
   "outputs": [],
   "source": [
    "# EXCLUDE PROTECTED FEATURES\n",
    "# --------------------------\n",
    "\n",
    "excluded_features = universe[\"exclude_features\"].split(\"-\")\n",
    "excluded_features_dictionary = {\n",
    "    \"nationality\": [\"maxdeutsch1\", \"maxdeutsch.Missing.\"],\n",
    "    \"sex\": [\"frau1\"],\n",
    "    \"age\": [\"age\"],\n",
    "}"
   ]
  },
  {
   "cell_type": "code",
   "execution_count": 22,
   "id": "f8e63555",
   "metadata": {
    "execution": {
     "iopub.execute_input": "2025-08-19T18:10:04.933901Z",
     "iopub.status.busy": "2025-08-19T18:10:04.933022Z",
     "iopub.status.idle": "2025-08-19T18:10:04.939542Z",
     "shell.execute_reply": "2025-08-19T18:10:04.938848Z"
    },
    "papermill": {
     "duration": 0.021443,
     "end_time": "2025-08-19T18:10:04.940809",
     "exception": false,
     "start_time": "2025-08-19T18:10:04.919366",
     "status": "completed"
    },
    "tags": []
   },
   "outputs": [],
   "source": [
    "excluded_features_columns = [\n",
    "    excluded_features_dictionary[f] for f in excluded_features if len(f) > 0 and f != \"none\"\n",
    "]"
   ]
  },
  {
   "cell_type": "code",
   "execution_count": 23,
   "id": "da781f7c",
   "metadata": {
    "execution": {
     "iopub.execute_input": "2025-08-19T18:10:04.962621Z",
     "iopub.status.busy": "2025-08-19T18:10:04.962272Z",
     "iopub.status.idle": "2025-08-19T18:10:04.978327Z",
     "shell.execute_reply": "2025-08-19T18:10:04.977213Z"
    },
    "papermill": {
     "duration": 0.028994,
     "end_time": "2025-08-19T18:10:04.980123",
     "exception": false,
     "start_time": "2025-08-19T18:10:04.951129",
     "status": "completed"
    },
    "tags": []
   },
   "outputs": [],
   "source": [
    "from fairness_multiverse.universe import flatten_once\n",
    "\n",
    "excluded_features_columns = flatten_once(excluded_features_columns)"
   ]
  },
  {
   "cell_type": "code",
   "execution_count": 24,
   "id": "37fef0f0",
   "metadata": {
    "execution": {
     "iopub.execute_input": "2025-08-19T18:10:05.012766Z",
     "iopub.status.busy": "2025-08-19T18:10:05.012265Z",
     "iopub.status.idle": "2025-08-19T18:10:05.046504Z",
     "shell.execute_reply": "2025-08-19T18:10:05.045639Z"
    },
    "papermill": {
     "duration": 0.050124,
     "end_time": "2025-08-19T18:10:05.048927",
     "exception": false,
     "start_time": "2025-08-19T18:10:04.998803",
     "status": "completed"
    },
    "tags": []
   },
   "outputs": [
    {
     "name": "stdout",
     "output_type": "stream",
     "text": [
      "Dropping features: ['maxdeutsch1', 'maxdeutsch.Missing.', 'frau1']\n"
     ]
    }
   ],
   "source": [
    "if len(excluded_features_columns) > 0:\n",
    "    print(f\"Dropping features: {excluded_features_columns}\")\n",
    "    X_train.drop(excluded_features_columns, axis=1, inplace=True)"
   ]
  },
  {
   "cell_type": "code",
   "execution_count": 25,
   "id": "d029e3e9",
   "metadata": {
    "execution": {
     "iopub.execute_input": "2025-08-19T18:10:05.071853Z",
     "iopub.status.busy": "2025-08-19T18:10:05.071400Z",
     "iopub.status.idle": "2025-08-19T18:10:05.136498Z",
     "shell.execute_reply": "2025-08-19T18:10:05.135661Z"
    },
    "papermill": {
     "duration": 0.079418,
     "end_time": "2025-08-19T18:10:05.139231",
     "exception": false,
     "start_time": "2025-08-19T18:10:05.059813",
     "status": "completed"
    },
    "tags": []
   },
   "outputs": [
    {
     "name": "stdout",
     "output_type": "stream",
     "text": [
      "Dropping features: ['maxdeutsch1', 'maxdeutsch.Missing.', 'frau1']\n"
     ]
    }
   ],
   "source": [
    "if len(excluded_features_columns) > 0:\n",
    "    print(f\"Dropping features: {excluded_features_columns}\")\n",
    "    X_test.drop(excluded_features_columns, axis=1, inplace=True)"
   ]
  },
  {
   "cell_type": "code",
   "execution_count": 26,
   "id": "01d571f0",
   "metadata": {
    "execution": {
     "iopub.execute_input": "2025-08-19T18:10:05.178400Z",
     "iopub.status.busy": "2025-08-19T18:10:05.177156Z",
     "iopub.status.idle": "2025-08-19T18:10:05.237153Z",
     "shell.execute_reply": "2025-08-19T18:10:05.236360Z"
    },
    "papermill": {
     "duration": 0.076576,
     "end_time": "2025-08-19T18:10:05.239487",
     "exception": false,
     "start_time": "2025-08-19T18:10:05.162911",
     "status": "completed"
    },
    "tags": []
   },
   "outputs": [
    {
     "name": "stdout",
     "output_type": "stream",
     "text": [
      "Dropping features: ['maxdeutsch1', 'maxdeutsch.Missing.', 'frau1']\n"
     ]
    }
   ],
   "source": [
    "if len(excluded_features_columns) > 0:\n",
    "    print(f\"Dropping features: {excluded_features_columns}\")\n",
    "    X_calib.drop(excluded_features_columns, axis=1, inplace=True)"
   ]
  },
  {
   "cell_type": "code",
   "execution_count": 27,
   "id": "3037356e",
   "metadata": {
    "execution": {
     "iopub.execute_input": "2025-08-19T18:10:05.278927Z",
     "iopub.status.busy": "2025-08-19T18:10:05.277688Z",
     "iopub.status.idle": "2025-08-19T18:10:05.285645Z",
     "shell.execute_reply": "2025-08-19T18:10:05.284365Z"
    },
    "papermill": {
     "duration": 0.023982,
     "end_time": "2025-08-19T18:10:05.287182",
     "exception": false,
     "start_time": "2025-08-19T18:10:05.263200",
     "status": "completed"
    },
    "tags": []
   },
   "outputs": [],
   "source": [
    "# EXCLUDE CERTAIN SUBGROUPS\n",
    "# -------------------------\n",
    "\n",
    "mode = universe.get(\"exclude_subgroups\", \"keep-all\") # Defaults to \"keep-all\" if the key is missing."
   ]
  },
  {
   "cell_type": "code",
   "execution_count": 28,
   "id": "9d1e63fd",
   "metadata": {
    "execution": {
     "iopub.execute_input": "2025-08-19T18:10:05.314522Z",
     "iopub.status.busy": "2025-08-19T18:10:05.313300Z",
     "iopub.status.idle": "2025-08-19T18:10:05.323692Z",
     "shell.execute_reply": "2025-08-19T18:10:05.322480Z"
    },
    "papermill": {
     "duration": 0.024363,
     "end_time": "2025-08-19T18:10:05.325106",
     "exception": false,
     "start_time": "2025-08-19T18:10:05.300743",
     "status": "completed"
    },
    "tags": []
   },
   "outputs": [],
   "source": [
    "if mode == \"keep-all\":\n",
    "    keep_mask = pd.Series(True, index=org_train.index)\n",
    "\n",
    "elif mode == \"drop-non-german\":\n",
    "    keep_mask = (org_train[\"maxdeutsch1\"] == 1) & (org_train[\"maxdeutsch.Missing.\"] == 0)\n",
    "\n",
    "else:\n",
    "    raise ValueError(f\"Unsupported mode for exclude_subgroups: {mode}\")"
   ]
  },
  {
   "cell_type": "code",
   "execution_count": 29,
   "id": "d3b65474",
   "metadata": {
    "execution": {
     "iopub.execute_input": "2025-08-19T18:10:05.351942Z",
     "iopub.status.busy": "2025-08-19T18:10:05.350531Z",
     "iopub.status.idle": "2025-08-19T18:10:05.360793Z",
     "shell.execute_reply": "2025-08-19T18:10:05.359471Z"
    },
    "papermill": {
     "duration": 0.023771,
     "end_time": "2025-08-19T18:10:05.362253",
     "exception": false,
     "start_time": "2025-08-19T18:10:05.338482",
     "status": "completed"
    },
    "tags": []
   },
   "outputs": [],
   "source": [
    "n_drop = (~keep_mask).sum() # Calculates how many rows are set to be dropped\n",
    "if n_drop > 0:\n",
    "    pct = n_drop / len(keep_mask) * 100\n",
    "    print(f\"Dropping {n_drop} rows ({pct:.2f}%) where mode='{mode}'\")"
   ]
  },
  {
   "cell_type": "code",
   "execution_count": 30,
   "id": "f44389b3",
   "metadata": {
    "execution": {
     "iopub.execute_input": "2025-08-19T18:10:05.390204Z",
     "iopub.status.busy": "2025-08-19T18:10:05.389109Z",
     "iopub.status.idle": "2025-08-19T18:10:05.409640Z",
     "shell.execute_reply": "2025-08-19T18:10:05.408796Z"
    },
    "papermill": {
     "duration": 0.034788,
     "end_time": "2025-08-19T18:10:05.411371",
     "exception": false,
     "start_time": "2025-08-19T18:10:05.376583",
     "status": "completed"
    },
    "tags": []
   },
   "outputs": [],
   "source": [
    "X_train = X_train[keep_mask]"
   ]
  },
  {
   "cell_type": "code",
   "execution_count": 31,
   "id": "ceca8c2a",
   "metadata": {
    "execution": {
     "iopub.execute_input": "2025-08-19T18:10:05.448089Z",
     "iopub.status.busy": "2025-08-19T18:10:05.446846Z",
     "iopub.status.idle": "2025-08-19T18:10:05.456967Z",
     "shell.execute_reply": "2025-08-19T18:10:05.455761Z"
    },
    "papermill": {
     "duration": 0.026097,
     "end_time": "2025-08-19T18:10:05.458489",
     "exception": false,
     "start_time": "2025-08-19T18:10:05.432392",
     "status": "completed"
    },
    "tags": []
   },
   "outputs": [],
   "source": [
    "y_train = y_train[keep_mask]"
   ]
  },
  {
   "cell_type": "markdown",
   "id": "04d31e2f",
   "metadata": {
    "papermill": {
     "duration": 0.011661,
     "end_time": "2025-08-19T18:10:05.484033",
     "exception": false,
     "start_time": "2025-08-19T18:10:05.472372",
     "status": "completed"
    },
    "tags": []
   },
   "source": [
    "# Model Training"
   ]
  },
  {
   "cell_type": "code",
   "execution_count": 32,
   "id": "db991733",
   "metadata": {
    "execution": {
     "iopub.execute_input": "2025-08-19T18:10:05.508198Z",
     "iopub.status.busy": "2025-08-19T18:10:05.506751Z",
     "iopub.status.idle": "2025-08-19T18:10:05.625583Z",
     "shell.execute_reply": "2025-08-19T18:10:05.624742Z"
    },
    "papermill": {
     "duration": 0.133305,
     "end_time": "2025-08-19T18:10:05.627922",
     "exception": false,
     "start_time": "2025-08-19T18:10:05.494617",
     "status": "completed"
    },
    "tags": []
   },
   "outputs": [],
   "source": [
    "from sklearn.linear_model import LogisticRegression\n",
    "from sklearn.ensemble import GradientBoostingClassifier, RandomForestClassifier\n",
    "\n",
    "if (universe[\"model\"] == \"logreg\"):\n",
    "    model = LogisticRegression() #penalty=\"none\", solver=\"newton-cg\", max_iter=1)\n",
    "elif (universe[\"model\"] == \"penalized_logreg\"):\n",
    "    model = LogisticRegression(penalty=\"l2\", C=0.1) #, solver=\"newton-cg\", max_iter=1)\n",
    "elif (universe[\"model\"] == \"rf\"):\n",
    "    model = RandomForestClassifier() # n_estimators=100, n_jobs=-1\n",
    "elif (universe[\"model\"] == \"gbm\"):\n",
    "    model = GradientBoostingClassifier()\n",
    "elif (universe[\"model\"] == \"elasticnet\"):\n",
    "    model = LogisticRegression(penalty = 'elasticnet', solver = 'saga', l1_ratio = 0.5) # max_iter=5000\n",
    "else:\n",
    "    raise \"Unsupported universe.model\""
   ]
  },
  {
   "cell_type": "code",
   "execution_count": 33,
   "id": "a4b5cd25",
   "metadata": {
    "execution": {
     "iopub.execute_input": "2025-08-19T18:10:05.656047Z",
     "iopub.status.busy": "2025-08-19T18:10:05.654860Z",
     "iopub.status.idle": "2025-08-19T18:10:05.662395Z",
     "shell.execute_reply": "2025-08-19T18:10:05.661392Z"
    },
    "papermill": {
     "duration": 0.020972,
     "end_time": "2025-08-19T18:10:05.663755",
     "exception": false,
     "start_time": "2025-08-19T18:10:05.642783",
     "status": "completed"
    },
    "tags": []
   },
   "outputs": [],
   "source": [
    "from sklearn.pipeline import Pipeline\n",
    "from sklearn.preprocessing import StandardScaler\n",
    "\n",
    "model = Pipeline([\n",
    "    #(\"continuous_processor\", continuous_processor),\n",
    "    #(\"categorical_preprocessor\", categorical_preprocessor),\n",
    "    (\"scale\", StandardScaler() if universe[\"scale\"] == \"scale\" else None), \n",
    "    (\"model\", model),\n",
    "])"
   ]
  },
  {
   "cell_type": "code",
   "execution_count": 34,
   "id": "283a904d",
   "metadata": {
    "execution": {
     "iopub.execute_input": "2025-08-19T18:10:05.695864Z",
     "iopub.status.busy": "2025-08-19T18:10:05.694827Z",
     "iopub.status.idle": "2025-08-19T18:10:14.111376Z",
     "shell.execute_reply": "2025-08-19T18:10:14.110242Z"
    },
    "papermill": {
     "duration": 8.436866,
     "end_time": "2025-08-19T18:10:14.112826",
     "exception": false,
     "start_time": "2025-08-19T18:10:05.675960",
     "status": "completed"
    },
    "tags": []
   },
   "outputs": [
    {
     "data": {
      "text/html": [
       "<style>#sk-container-id-1 {color: black;background-color: white;}#sk-container-id-1 pre{padding: 0;}#sk-container-id-1 div.sk-toggleable {background-color: white;}#sk-container-id-1 label.sk-toggleable__label {cursor: pointer;display: block;width: 100%;margin-bottom: 0;padding: 0.3em;box-sizing: border-box;text-align: center;}#sk-container-id-1 label.sk-toggleable__label-arrow:before {content: \"▸\";float: left;margin-right: 0.25em;color: #696969;}#sk-container-id-1 label.sk-toggleable__label-arrow:hover:before {color: black;}#sk-container-id-1 div.sk-estimator:hover label.sk-toggleable__label-arrow:before {color: black;}#sk-container-id-1 div.sk-toggleable__content {max-height: 0;max-width: 0;overflow: hidden;text-align: left;background-color: #f0f8ff;}#sk-container-id-1 div.sk-toggleable__content pre {margin: 0.2em;color: black;border-radius: 0.25em;background-color: #f0f8ff;}#sk-container-id-1 input.sk-toggleable__control:checked~div.sk-toggleable__content {max-height: 200px;max-width: 100%;overflow: auto;}#sk-container-id-1 input.sk-toggleable__control:checked~label.sk-toggleable__label-arrow:before {content: \"▾\";}#sk-container-id-1 div.sk-estimator input.sk-toggleable__control:checked~label.sk-toggleable__label {background-color: #d4ebff;}#sk-container-id-1 div.sk-label input.sk-toggleable__control:checked~label.sk-toggleable__label {background-color: #d4ebff;}#sk-container-id-1 input.sk-hidden--visually {border: 0;clip: rect(1px 1px 1px 1px);clip: rect(1px, 1px, 1px, 1px);height: 1px;margin: -1px;overflow: hidden;padding: 0;position: absolute;width: 1px;}#sk-container-id-1 div.sk-estimator {font-family: monospace;background-color: #f0f8ff;border: 1px dotted black;border-radius: 0.25em;box-sizing: border-box;margin-bottom: 0.5em;}#sk-container-id-1 div.sk-estimator:hover {background-color: #d4ebff;}#sk-container-id-1 div.sk-parallel-item::after {content: \"\";width: 100%;border-bottom: 1px solid gray;flex-grow: 1;}#sk-container-id-1 div.sk-label:hover label.sk-toggleable__label {background-color: #d4ebff;}#sk-container-id-1 div.sk-serial::before {content: \"\";position: absolute;border-left: 1px solid gray;box-sizing: border-box;top: 0;bottom: 0;left: 50%;z-index: 0;}#sk-container-id-1 div.sk-serial {display: flex;flex-direction: column;align-items: center;background-color: white;padding-right: 0.2em;padding-left: 0.2em;position: relative;}#sk-container-id-1 div.sk-item {position: relative;z-index: 1;}#sk-container-id-1 div.sk-parallel {display: flex;align-items: stretch;justify-content: center;background-color: white;position: relative;}#sk-container-id-1 div.sk-item::before, #sk-container-id-1 div.sk-parallel-item::before {content: \"\";position: absolute;border-left: 1px solid gray;box-sizing: border-box;top: 0;bottom: 0;left: 50%;z-index: -1;}#sk-container-id-1 div.sk-parallel-item {display: flex;flex-direction: column;z-index: 1;position: relative;background-color: white;}#sk-container-id-1 div.sk-parallel-item:first-child::after {align-self: flex-end;width: 50%;}#sk-container-id-1 div.sk-parallel-item:last-child::after {align-self: flex-start;width: 50%;}#sk-container-id-1 div.sk-parallel-item:only-child::after {width: 0;}#sk-container-id-1 div.sk-dashed-wrapped {border: 1px dashed gray;margin: 0 0.4em 0.5em 0.4em;box-sizing: border-box;padding-bottom: 0.4em;background-color: white;}#sk-container-id-1 div.sk-label label {font-family: monospace;font-weight: bold;display: inline-block;line-height: 1.2em;}#sk-container-id-1 div.sk-label-container {text-align: center;}#sk-container-id-1 div.sk-container {/* jupyter's `normalize.less` sets `[hidden] { display: none; }` but bootstrap.min.css set `[hidden] { display: none !important; }` so we also need the `!important` here to be able to override the default hidden behavior on the sphinx rendered scikit-learn.org. See: https://github.com/scikit-learn/scikit-learn/issues/21755 */display: inline-block !important;position: relative;}#sk-container-id-1 div.sk-text-repr-fallback {display: none;}</style><div id=\"sk-container-id-1\" class=\"sk-top-container\"><div class=\"sk-text-repr-fallback\"><pre>Pipeline(steps=[(&#x27;scale&#x27;, None), (&#x27;model&#x27;, RandomForestClassifier())])</pre><b>In a Jupyter environment, please rerun this cell to show the HTML representation or trust the notebook. <br />On GitHub, the HTML representation is unable to render, please try loading this page with nbviewer.org.</b></div><div class=\"sk-container\" hidden><div class=\"sk-item sk-dashed-wrapped\"><div class=\"sk-label-container\"><div class=\"sk-label sk-toggleable\"><input class=\"sk-toggleable__control sk-hidden--visually\" id=\"sk-estimator-id-1\" type=\"checkbox\" ><label for=\"sk-estimator-id-1\" class=\"sk-toggleable__label sk-toggleable__label-arrow\">Pipeline</label><div class=\"sk-toggleable__content\"><pre>Pipeline(steps=[(&#x27;scale&#x27;, None), (&#x27;model&#x27;, RandomForestClassifier())])</pre></div></div></div><div class=\"sk-serial\"><div class=\"sk-item\"><div class=\"sk-estimator sk-toggleable\"><input class=\"sk-toggleable__control sk-hidden--visually\" id=\"sk-estimator-id-2\" type=\"checkbox\" ><label for=\"sk-estimator-id-2\" class=\"sk-toggleable__label sk-toggleable__label-arrow\">None</label><div class=\"sk-toggleable__content\"><pre>None</pre></div></div></div><div class=\"sk-item\"><div class=\"sk-estimator sk-toggleable\"><input class=\"sk-toggleable__control sk-hidden--visually\" id=\"sk-estimator-id-3\" type=\"checkbox\" ><label for=\"sk-estimator-id-3\" class=\"sk-toggleable__label sk-toggleable__label-arrow\">RandomForestClassifier</label><div class=\"sk-toggleable__content\"><pre>RandomForestClassifier()</pre></div></div></div></div></div></div></div>"
      ],
      "text/plain": [
       "Pipeline(steps=[('scale', None), ('model', RandomForestClassifier())])"
      ]
     },
     "execution_count": 34,
     "metadata": {},
     "output_type": "execute_result"
    }
   ],
   "source": [
    "model.fit(X_train, y_train.values.ravel())"
   ]
  },
  {
   "cell_type": "code",
   "execution_count": 35,
   "id": "6e15e313",
   "metadata": {
    "execution": {
     "iopub.execute_input": "2025-08-19T18:10:14.149997Z",
     "iopub.status.busy": "2025-08-19T18:10:14.149259Z",
     "iopub.status.idle": "2025-08-19T18:10:16.720867Z",
     "shell.execute_reply": "2025-08-19T18:10:16.719765Z"
    },
    "papermill": {
     "duration": 2.592994,
     "end_time": "2025-08-19T18:10:16.722328",
     "exception": false,
     "start_time": "2025-08-19T18:10:14.129334",
     "status": "completed"
    },
    "tags": []
   },
   "outputs": [
    {
     "data": {
      "text/plain": [
       "0.8670270872812396"
      ]
     },
     "execution_count": 35,
     "metadata": {},
     "output_type": "execute_result"
    }
   ],
   "source": [
    "from fairness_multiverse.universe import predict_w_threshold\n",
    "\n",
    "probs_test = model.predict_proba(X_test)\n",
    "\n",
    "'''\n",
    "Below code returns a boolean array (or binary 0/1 array depending on how it’s used) where each element \n",
    "is True if the probability of class 1 is greater than or equal to the threshold, and False otherwise.\n",
    "'''\n",
    "y_pred_default = predict_w_threshold(probs_test, 0.5)\n",
    "\n",
    "from sklearn.metrics import accuracy_score\n",
    "\n",
    "# Naive prediction\n",
    "accuracy_score(y_true = y_true, y_pred = y_pred_default)"
   ]
  },
  {
   "cell_type": "code",
   "execution_count": 36,
   "id": "6f14067c",
   "metadata": {
    "execution": {
     "iopub.execute_input": "2025-08-19T18:10:16.767446Z",
     "iopub.status.busy": "2025-08-19T18:10:16.765834Z",
     "iopub.status.idle": "2025-08-19T18:10:19.207493Z",
     "shell.execute_reply": "2025-08-19T18:10:19.206365Z"
    },
    "papermill": {
     "duration": 2.473167,
     "end_time": "2025-08-19T18:10:19.210417",
     "exception": false,
     "start_time": "2025-08-19T18:10:16.737250",
     "status": "completed"
    },
    "tags": []
   },
   "outputs": [
    {
     "data": {
      "text/plain": [
       "array([0, 0, 0, ..., 0, 0, 0])"
      ]
     },
     "execution_count": 36,
     "metadata": {},
     "output_type": "execute_result"
    }
   ],
   "source": [
    "model.predict(X_test)"
   ]
  },
  {
   "cell_type": "markdown",
   "id": "3759920c",
   "metadata": {
    "papermill": {
     "duration": 0.01264,
     "end_time": "2025-08-19T18:10:19.249472",
     "exception": false,
     "start_time": "2025-08-19T18:10:19.236832",
     "status": "completed"
    },
    "tags": []
   },
   "source": [
    "# Conformal Prediction"
   ]
  },
  {
   "cell_type": "code",
   "execution_count": 37,
   "id": "14b27f59",
   "metadata": {
    "execution": {
     "iopub.execute_input": "2025-08-19T18:10:19.276117Z",
     "iopub.status.busy": "2025-08-19T18:10:19.274731Z",
     "iopub.status.idle": "2025-08-19T18:10:19.283746Z",
     "shell.execute_reply": "2025-08-19T18:10:19.282561Z"
    },
    "papermill": {
     "duration": 0.024387,
     "end_time": "2025-08-19T18:10:19.285304",
     "exception": false,
     "start_time": "2025-08-19T18:10:19.260917",
     "status": "completed"
    },
    "tags": []
   },
   "outputs": [],
   "source": [
    "# Miscoverage level for conformal prediction (10% allowed error rate => 90% target coverage)\n",
    "alpha = 0.1"
   ]
  },
  {
   "cell_type": "code",
   "execution_count": 38,
   "id": "59102472",
   "metadata": {
    "execution": {
     "iopub.execute_input": "2025-08-19T18:10:19.313395Z",
     "iopub.status.busy": "2025-08-19T18:10:19.312248Z",
     "iopub.status.idle": "2025-08-19T18:10:21.658881Z",
     "shell.execute_reply": "2025-08-19T18:10:21.657641Z"
    },
    "papermill": {
     "duration": 2.361602,
     "end_time": "2025-08-19T18:10:21.660682",
     "exception": false,
     "start_time": "2025-08-19T18:10:19.299080",
     "status": "completed"
    },
    "tags": []
   },
   "outputs": [],
   "source": [
    "probs_calib = model.predict_proba(X_calib)"
   ]
  },
  {
   "cell_type": "code",
   "execution_count": 39,
   "id": "a792d4dd",
   "metadata": {
    "execution": {
     "iopub.execute_input": "2025-08-19T18:10:21.688855Z",
     "iopub.status.busy": "2025-08-19T18:10:21.688321Z",
     "iopub.status.idle": "2025-08-19T18:10:21.697184Z",
     "shell.execute_reply": "2025-08-19T18:10:21.696308Z"
    },
    "papermill": {
     "duration": 0.025621,
     "end_time": "2025-08-19T18:10:21.698709",
     "exception": false,
     "start_time": "2025-08-19T18:10:21.673088",
     "status": "completed"
    },
    "tags": []
   },
   "outputs": [],
   "source": [
    "y_calib = y_calib.values.ravel().astype(int)"
   ]
  },
  {
   "cell_type": "code",
   "execution_count": 40,
   "id": "650fd033",
   "metadata": {
    "execution": {
     "iopub.execute_input": "2025-08-19T18:10:21.725777Z",
     "iopub.status.busy": "2025-08-19T18:10:21.725463Z",
     "iopub.status.idle": "2025-08-19T18:10:21.733970Z",
     "shell.execute_reply": "2025-08-19T18:10:21.733196Z"
    },
    "papermill": {
     "duration": 0.025912,
     "end_time": "2025-08-19T18:10:21.738908",
     "exception": false,
     "start_time": "2025-08-19T18:10:21.712996",
     "status": "completed"
    },
    "tags": []
   },
   "outputs": [],
   "source": [
    "from fairness_multiverse.conformal import compute_nc_scores\n",
    "\n",
    "# Compute nonconformity scores on calibration set (1 - probability of true class)\n",
    "nc_scores = compute_nc_scores(probs_calib, y_calib)"
   ]
  },
  {
   "cell_type": "code",
   "execution_count": 41,
   "id": "28ada44c",
   "metadata": {
    "execution": {
     "iopub.execute_input": "2025-08-19T18:10:21.776868Z",
     "iopub.status.busy": "2025-08-19T18:10:21.776551Z",
     "iopub.status.idle": "2025-08-19T18:10:21.782573Z",
     "shell.execute_reply": "2025-08-19T18:10:21.781608Z"
    },
    "papermill": {
     "duration": 0.022677,
     "end_time": "2025-08-19T18:10:21.783986",
     "exception": false,
     "start_time": "2025-08-19T18:10:21.761309",
     "status": "completed"
    },
    "tags": []
   },
   "outputs": [],
   "source": [
    "from fairness_multiverse.conformal import find_threshold\n",
    "\n",
    "# Find conformal threshold q_hat for the given alpha (split conformal method)\n",
    "q_hat = find_threshold(nc_scores, alpha)"
   ]
  },
  {
   "cell_type": "code",
   "execution_count": 42,
   "id": "df56469e",
   "metadata": {
    "execution": {
     "iopub.execute_input": "2025-08-19T18:10:21.812806Z",
     "iopub.status.busy": "2025-08-19T18:10:21.812422Z",
     "iopub.status.idle": "2025-08-19T18:10:21.819771Z",
     "shell.execute_reply": "2025-08-19T18:10:21.818850Z"
    },
    "papermill": {
     "duration": 0.021511,
     "end_time": "2025-08-19T18:10:21.821095",
     "exception": false,
     "start_time": "2025-08-19T18:10:21.799584",
     "status": "completed"
    },
    "tags": []
   },
   "outputs": [
    {
     "data": {
      "text/plain": [
       "0.6599999999999999"
      ]
     },
     "execution_count": 42,
     "metadata": {},
     "output_type": "execute_result"
    }
   ],
   "source": [
    "q_hat"
   ]
  },
  {
   "cell_type": "code",
   "execution_count": 43,
   "id": "aa1f5faa",
   "metadata": {
    "execution": {
     "iopub.execute_input": "2025-08-19T18:10:21.849913Z",
     "iopub.status.busy": "2025-08-19T18:10:21.849098Z",
     "iopub.status.idle": "2025-08-19T18:10:24.672964Z",
     "shell.execute_reply": "2025-08-19T18:10:24.672011Z"
    },
    "papermill": {
     "duration": 2.839507,
     "end_time": "2025-08-19T18:10:24.674850",
     "exception": false,
     "start_time": "2025-08-19T18:10:21.835343",
     "status": "completed"
    },
    "tags": []
   },
   "outputs": [],
   "source": [
    "from fairness_multiverse.conformal import predict_conformal_sets\n",
    "\n",
    "# Generate prediction sets for each test example\n",
    "pred_sets = predict_conformal_sets(model, X_test, q_hat)"
   ]
  },
  {
   "cell_type": "code",
   "execution_count": 44,
   "id": "97f67a6b",
   "metadata": {
    "execution": {
     "iopub.execute_input": "2025-08-19T18:10:24.712318Z",
     "iopub.status.busy": "2025-08-19T18:10:24.711310Z",
     "iopub.status.idle": "2025-08-19T18:10:24.721509Z",
     "shell.execute_reply": "2025-08-19T18:10:24.719900Z"
    },
    "papermill": {
     "duration": 0.027258,
     "end_time": "2025-08-19T18:10:24.723194",
     "exception": false,
     "start_time": "2025-08-19T18:10:24.695936",
     "status": "completed"
    },
    "tags": []
   },
   "outputs": [],
   "source": [
    "y_true = y_true.squeeze()"
   ]
  },
  {
   "cell_type": "code",
   "execution_count": 45,
   "id": "e700e9a7",
   "metadata": {
    "execution": {
     "iopub.execute_input": "2025-08-19T18:10:24.755501Z",
     "iopub.status.busy": "2025-08-19T18:10:24.754488Z",
     "iopub.status.idle": "2025-08-19T18:10:25.257595Z",
     "shell.execute_reply": "2025-08-19T18:10:25.256932Z"
    },
    "papermill": {
     "duration": 0.519518,
     "end_time": "2025-08-19T18:10:25.259684",
     "exception": false,
     "start_time": "2025-08-19T18:10:24.740166",
     "status": "completed"
    },
    "tags": []
   },
   "outputs": [],
   "source": [
    "from fairness_multiverse.conformal import evaluate_sets\n",
    "\n",
    "# Evaluate coverage and average set size on test data\n",
    "metrics = evaluate_sets(pred_sets, y_true)"
   ]
  },
  {
   "cell_type": "markdown",
   "id": "efbacec0",
   "metadata": {
    "papermill": {
     "duration": 0.015075,
     "end_time": "2025-08-19T18:10:25.303925",
     "exception": false,
     "start_time": "2025-08-19T18:10:25.288850",
     "status": "completed"
    },
    "tags": []
   },
   "source": [
    "# CP Metrics"
   ]
  },
  {
   "cell_type": "code",
   "execution_count": 46,
   "id": "9de55fb1",
   "metadata": {
    "execution": {
     "iopub.execute_input": "2025-08-19T18:10:25.328802Z",
     "iopub.status.busy": "2025-08-19T18:10:25.328377Z",
     "iopub.status.idle": "2025-08-19T18:10:25.333667Z",
     "shell.execute_reply": "2025-08-19T18:10:25.333101Z"
    },
    "papermill": {
     "duration": 0.022757,
     "end_time": "2025-08-19T18:10:25.338506",
     "exception": false,
     "start_time": "2025-08-19T18:10:25.315749",
     "status": "completed"
    },
    "tags": []
   },
   "outputs": [
    {
     "data": {
      "text/plain": [
       "{'coverage': 0.9158845167762791, 'avg_size': 1.145033998439416}"
      ]
     },
     "execution_count": 46,
     "metadata": {},
     "output_type": "execute_result"
    }
   ],
   "source": [
    "metrics"
   ]
  },
  {
   "cell_type": "code",
   "execution_count": 47,
   "id": "64c340a1",
   "metadata": {
    "execution": {
     "iopub.execute_input": "2025-08-19T18:10:25.376512Z",
     "iopub.status.busy": "2025-08-19T18:10:25.375510Z",
     "iopub.status.idle": "2025-08-19T18:10:25.386115Z",
     "shell.execute_reply": "2025-08-19T18:10:25.384420Z"
    },
    "papermill": {
     "duration": 0.027813,
     "end_time": "2025-08-19T18:10:25.389084",
     "exception": false,
     "start_time": "2025-08-19T18:10:25.361271",
     "status": "completed"
    },
    "tags": []
   },
   "outputs": [],
   "source": [
    "example_universe = universe.copy()\n",
    "universe_training_year = example_universe.get(\"training_year\")\n",
    "universe_training_size = example_universe.get(\"training_size\")\n",
    "universe_scale = example_universe.get(\"scale\")\n",
    "universe_model = example_universe.get(\"model\")\n",
    "universe_exclude_features = example_universe.get(\"exclude_features\")\n",
    "universe_exclude_subgroups = example_universe.get(\"exclude_subgroups\")"
   ]
  },
  {
   "cell_type": "code",
   "execution_count": 48,
   "id": "dbb53cb4",
   "metadata": {
    "execution": {
     "iopub.execute_input": "2025-08-19T18:10:25.427664Z",
     "iopub.status.busy": "2025-08-19T18:10:25.427242Z",
     "iopub.status.idle": "2025-08-19T18:10:25.432021Z",
     "shell.execute_reply": "2025-08-19T18:10:25.431396Z"
    },
    "papermill": {
     "duration": 0.020495,
     "end_time": "2025-08-19T18:10:25.433516",
     "exception": false,
     "start_time": "2025-08-19T18:10:25.413021",
     "status": "completed"
    },
    "tags": []
   },
   "outputs": [],
   "source": [
    "cp_metrics_dict = {\n",
    "    \"universe_id\": [universe_id],\n",
    "    \"universe_training_year\": [universe_training_year],\n",
    "    \"universe_training_size\": [universe_training_size],\n",
    "    \"universe_scale\": [universe_scale],\n",
    "    \"universe_model\": [universe_model],\n",
    "    \"universe_exclude_features\": [universe_exclude_features],\n",
    "    \"universe_exclude_subgroups\": [universe_exclude_subgroups],\n",
    "    \"q_hat\": [q_hat],\n",
    "    \"coverage\": [metrics[\"coverage\"]],\n",
    "    \"avg_size\": [metrics[\"avg_size\"]],\n",
    "}"
   ]
  },
  {
   "cell_type": "code",
   "execution_count": 49,
   "id": "0d70d4b2",
   "metadata": {
    "execution": {
     "iopub.execute_input": "2025-08-19T18:10:25.458988Z",
     "iopub.status.busy": "2025-08-19T18:10:25.458601Z",
     "iopub.status.idle": "2025-08-19T18:10:25.463479Z",
     "shell.execute_reply": "2025-08-19T18:10:25.462870Z"
    },
    "papermill": {
     "duration": 0.020751,
     "end_time": "2025-08-19T18:10:25.466341",
     "exception": false,
     "start_time": "2025-08-19T18:10:25.445590",
     "status": "completed"
    },
    "tags": []
   },
   "outputs": [],
   "source": [
    "cp_metrics_df = pd.DataFrame(cp_metrics_dict)"
   ]
  },
  {
   "cell_type": "code",
   "execution_count": 50,
   "id": "b494403c",
   "metadata": {
    "execution": {
     "iopub.execute_input": "2025-08-19T18:10:25.508061Z",
     "iopub.status.busy": "2025-08-19T18:10:25.506873Z",
     "iopub.status.idle": "2025-08-19T18:10:25.530195Z",
     "shell.execute_reply": "2025-08-19T18:10:25.529068Z"
    },
    "papermill": {
     "duration": 0.040652,
     "end_time": "2025-08-19T18:10:25.532128",
     "exception": false,
     "start_time": "2025-08-19T18:10:25.491476",
     "status": "completed"
    },
    "tags": []
   },
   "outputs": [
    {
     "data": {
      "text/html": [
       "<div>\n",
       "<style scoped>\n",
       "    .dataframe tbody tr th:only-of-type {\n",
       "        vertical-align: middle;\n",
       "    }\n",
       "\n",
       "    .dataframe tbody tr th {\n",
       "        vertical-align: top;\n",
       "    }\n",
       "\n",
       "    .dataframe thead th {\n",
       "        text-align: right;\n",
       "    }\n",
       "</style>\n",
       "<table border=\"1\" class=\"dataframe\">\n",
       "  <thead>\n",
       "    <tr style=\"text-align: right;\">\n",
       "      <th></th>\n",
       "      <th>universe_id</th>\n",
       "      <th>universe_training_year</th>\n",
       "      <th>universe_training_size</th>\n",
       "      <th>universe_scale</th>\n",
       "      <th>universe_model</th>\n",
       "      <th>universe_exclude_features</th>\n",
       "      <th>universe_exclude_subgroups</th>\n",
       "      <th>q_hat</th>\n",
       "      <th>coverage</th>\n",
       "      <th>avg_size</th>\n",
       "    </tr>\n",
       "  </thead>\n",
       "  <tbody>\n",
       "    <tr>\n",
       "      <th>0</th>\n",
       "      <td>0af8b9470103a3dc0638abd8a4d6edbd</td>\n",
       "      <td>2012_14</td>\n",
       "      <td>25k</td>\n",
       "      <td>do-not-scale</td>\n",
       "      <td>rf</td>\n",
       "      <td>nationality-sex</td>\n",
       "      <td>keep-all</td>\n",
       "      <td>0.66</td>\n",
       "      <td>0.915885</td>\n",
       "      <td>1.145034</td>\n",
       "    </tr>\n",
       "  </tbody>\n",
       "</table>\n",
       "</div>"
      ],
      "text/plain": [
       "                        universe_id universe_training_year  \\\n",
       "0  0af8b9470103a3dc0638abd8a4d6edbd                2012_14   \n",
       "\n",
       "  universe_training_size universe_scale universe_model  \\\n",
       "0                    25k   do-not-scale             rf   \n",
       "\n",
       "  universe_exclude_features universe_exclude_subgroups  q_hat  coverage  \\\n",
       "0           nationality-sex                   keep-all   0.66  0.915885   \n",
       "\n",
       "   avg_size  \n",
       "0  1.145034  "
      ]
     },
     "execution_count": 50,
     "metadata": {},
     "output_type": "execute_result"
    }
   ],
   "source": [
    "cp_metrics_df"
   ]
  },
  {
   "cell_type": "markdown",
   "id": "ed608b0b",
   "metadata": {
    "papermill": {
     "duration": 0.028083,
     "end_time": "2025-08-19T18:10:25.597821",
     "exception": false,
     "start_time": "2025-08-19T18:10:25.569738",
     "status": "completed"
    },
    "tags": []
   },
   "source": [
    "Conditional coverage & looking at subgroups"
   ]
  },
  {
   "cell_type": "code",
   "execution_count": 51,
   "id": "8968c366",
   "metadata": {
    "execution": {
     "iopub.execute_input": "2025-08-19T18:10:25.645360Z",
     "iopub.status.busy": "2025-08-19T18:10:25.644961Z",
     "iopub.status.idle": "2025-08-19T18:10:25.887608Z",
     "shell.execute_reply": "2025-08-19T18:10:25.886902Z"
    },
    "papermill": {
     "duration": 0.278404,
     "end_time": "2025-08-19T18:10:25.890651",
     "exception": false,
     "start_time": "2025-08-19T18:10:25.612247",
     "status": "completed"
    },
    "tags": []
   },
   "outputs": [],
   "source": [
    "from fairness_multiverse.conformal import build_cp_groups\n",
    "\n",
    "cp_groups_df = build_cp_groups(pred_sets, y_true, X_test.index, org_test)"
   ]
  },
  {
   "cell_type": "code",
   "execution_count": 52,
   "id": "292ddabf",
   "metadata": {
    "execution": {
     "iopub.execute_input": "2025-08-19T18:10:25.937196Z",
     "iopub.status.busy": "2025-08-19T18:10:25.935726Z",
     "iopub.status.idle": "2025-08-19T18:10:26.778074Z",
     "shell.execute_reply": "2025-08-19T18:10:26.777003Z"
    },
    "papermill": {
     "duration": 0.858572,
     "end_time": "2025-08-19T18:10:26.779654",
     "exception": false,
     "start_time": "2025-08-19T18:10:25.921082",
     "status": "completed"
    },
    "tags": []
   },
   "outputs": [],
   "source": [
    "# Define covered = 1 if true_label is in the predicted set\n",
    "cp_groups_df['covered'] = cp_groups_df.apply(\n",
    "    lambda r: int(r['true_label'] in r['pred_set']),\n",
    "    axis=1\n",
    ")"
   ]
  },
  {
   "cell_type": "code",
   "execution_count": 53,
   "id": "3a261692",
   "metadata": {
    "execution": {
     "iopub.execute_input": "2025-08-19T18:10:26.813026Z",
     "iopub.status.busy": "2025-08-19T18:10:26.811855Z",
     "iopub.status.idle": "2025-08-19T18:10:26.833046Z",
     "shell.execute_reply": "2025-08-19T18:10:26.831858Z"
    },
    "papermill": {
     "duration": 0.037221,
     "end_time": "2025-08-19T18:10:26.834554",
     "exception": false,
     "start_time": "2025-08-19T18:10:26.797333",
     "status": "completed"
    },
    "tags": []
   },
   "outputs": [],
   "source": [
    "subgroups = ['frau1','nongerman','nongerman_male','nongerman_female']\n",
    "\n",
    "# Conditional coverage for subgroup==1\n",
    "cond_coverage = {\n",
    "    g: cp_groups_df.loc[cp_groups_df[g]==1, 'covered'].mean()\n",
    "    for g in subgroups\n",
    "}"
   ]
  },
  {
   "cell_type": "code",
   "execution_count": 54,
   "id": "894fd600",
   "metadata": {
    "execution": {
     "iopub.execute_input": "2025-08-19T18:10:26.869096Z",
     "iopub.status.busy": "2025-08-19T18:10:26.867891Z",
     "iopub.status.idle": "2025-08-19T18:10:26.879703Z",
     "shell.execute_reply": "2025-08-19T18:10:26.878346Z"
    },
    "papermill": {
     "duration": 0.027586,
     "end_time": "2025-08-19T18:10:26.881260",
     "exception": false,
     "start_time": "2025-08-19T18:10:26.853674",
     "status": "completed"
    },
    "tags": []
   },
   "outputs": [
    {
     "data": {
      "text/plain": [
       "{'frau1': 0.9152446421350586,\n",
       " 'nongerman': 0.9102340986919666,\n",
       " 'nongerman_male': 0.9257858236512654,\n",
       " 'nongerman_female': 0.8845007451564829}"
      ]
     },
     "execution_count": 54,
     "metadata": {},
     "output_type": "execute_result"
    }
   ],
   "source": [
    "cond_coverage"
   ]
  },
  {
   "cell_type": "code",
   "execution_count": 55,
   "id": "942895c7",
   "metadata": {
    "execution": {
     "iopub.execute_input": "2025-08-19T18:10:26.913561Z",
     "iopub.status.busy": "2025-08-19T18:10:26.911462Z",
     "iopub.status.idle": "2025-08-19T18:10:26.920068Z",
     "shell.execute_reply": "2025-08-19T18:10:26.918994Z"
    },
    "papermill": {
     "duration": 0.0239,
     "end_time": "2025-08-19T18:10:26.921296",
     "exception": false,
     "start_time": "2025-08-19T18:10:26.897396",
     "status": "completed"
    },
    "tags": []
   },
   "outputs": [],
   "source": [
    "for subgroup, cov in cond_coverage.items():\n",
    "    cp_metrics_df[f\"cov_{subgroup}\"] = cov"
   ]
  },
  {
   "cell_type": "code",
   "execution_count": 56,
   "id": "3970120f",
   "metadata": {
    "execution": {
     "iopub.execute_input": "2025-08-19T18:10:26.952526Z",
     "iopub.status.busy": "2025-08-19T18:10:26.951779Z",
     "iopub.status.idle": "2025-08-19T18:10:26.980071Z",
     "shell.execute_reply": "2025-08-19T18:10:26.979325Z"
    },
    "papermill": {
     "duration": 0.046444,
     "end_time": "2025-08-19T18:10:26.982346",
     "exception": false,
     "start_time": "2025-08-19T18:10:26.935902",
     "status": "completed"
    },
    "tags": []
   },
   "outputs": [
    {
     "data": {
      "text/html": [
       "<div>\n",
       "<style scoped>\n",
       "    .dataframe tbody tr th:only-of-type {\n",
       "        vertical-align: middle;\n",
       "    }\n",
       "\n",
       "    .dataframe tbody tr th {\n",
       "        vertical-align: top;\n",
       "    }\n",
       "\n",
       "    .dataframe thead th {\n",
       "        text-align: right;\n",
       "    }\n",
       "</style>\n",
       "<table border=\"1\" class=\"dataframe\">\n",
       "  <thead>\n",
       "    <tr style=\"text-align: right;\">\n",
       "      <th></th>\n",
       "      <th>universe_id</th>\n",
       "      <th>universe_training_year</th>\n",
       "      <th>universe_training_size</th>\n",
       "      <th>universe_scale</th>\n",
       "      <th>universe_model</th>\n",
       "      <th>universe_exclude_features</th>\n",
       "      <th>universe_exclude_subgroups</th>\n",
       "      <th>q_hat</th>\n",
       "      <th>coverage</th>\n",
       "      <th>avg_size</th>\n",
       "      <th>cov_frau1</th>\n",
       "      <th>cov_nongerman</th>\n",
       "      <th>cov_nongerman_male</th>\n",
       "      <th>cov_nongerman_female</th>\n",
       "    </tr>\n",
       "  </thead>\n",
       "  <tbody>\n",
       "    <tr>\n",
       "      <th>0</th>\n",
       "      <td>0af8b9470103a3dc0638abd8a4d6edbd</td>\n",
       "      <td>2012_14</td>\n",
       "      <td>25k</td>\n",
       "      <td>do-not-scale</td>\n",
       "      <td>rf</td>\n",
       "      <td>nationality-sex</td>\n",
       "      <td>keep-all</td>\n",
       "      <td>0.66</td>\n",
       "      <td>0.915885</td>\n",
       "      <td>1.145034</td>\n",
       "      <td>0.915245</td>\n",
       "      <td>0.910234</td>\n",
       "      <td>0.925786</td>\n",
       "      <td>0.884501</td>\n",
       "    </tr>\n",
       "  </tbody>\n",
       "</table>\n",
       "</div>"
      ],
      "text/plain": [
       "                        universe_id universe_training_year  \\\n",
       "0  0af8b9470103a3dc0638abd8a4d6edbd                2012_14   \n",
       "\n",
       "  universe_training_size universe_scale universe_model  \\\n",
       "0                    25k   do-not-scale             rf   \n",
       "\n",
       "  universe_exclude_features universe_exclude_subgroups  q_hat  coverage  \\\n",
       "0           nationality-sex                   keep-all   0.66  0.915885   \n",
       "\n",
       "   avg_size  cov_frau1  cov_nongerman  cov_nongerman_male  \\\n",
       "0  1.145034   0.915245       0.910234            0.925786   \n",
       "\n",
       "   cov_nongerman_female  \n",
       "0              0.884501  "
      ]
     },
     "execution_count": 56,
     "metadata": {},
     "output_type": "execute_result"
    }
   ],
   "source": [
    "cp_metrics_df"
   ]
  },
  {
   "cell_type": "markdown",
   "id": "3fc519cc",
   "metadata": {
    "papermill": {
     "duration": 0.012915,
     "end_time": "2025-08-19T18:10:27.019702",
     "exception": false,
     "start_time": "2025-08-19T18:10:27.006787",
     "status": "completed"
    },
    "tags": []
   },
   "source": [
    "# (Fairness) Metrics"
   ]
  },
  {
   "cell_type": "code",
   "execution_count": 57,
   "id": "a2e5e155",
   "metadata": {
    "execution": {
     "iopub.execute_input": "2025-08-19T18:10:27.047436Z",
     "iopub.status.busy": "2025-08-19T18:10:27.046808Z",
     "iopub.status.idle": "2025-08-19T18:10:27.103749Z",
     "shell.execute_reply": "2025-08-19T18:10:27.102966Z"
    },
    "papermill": {
     "duration": 0.078646,
     "end_time": "2025-08-19T18:10:27.110835",
     "exception": false,
     "start_time": "2025-08-19T18:10:27.032189",
     "status": "completed"
    },
    "tags": []
   },
   "outputs": [],
   "source": [
    "colname_to_bin = \"maxdeutsch1\"\n",
    "majority_value = org_train[colname_to_bin].mode()[0]\n",
    "\n",
    "org_test[\"majmin\"] = np.where(org_test[colname_to_bin] == majority_value, \"majority\", \"minority\")"
   ]
  },
  {
   "cell_type": "code",
   "execution_count": 58,
   "id": "17e3e4d5",
   "metadata": {
    "execution": {
     "iopub.execute_input": "2025-08-19T18:10:27.166738Z",
     "iopub.status.busy": "2025-08-19T18:10:27.166406Z",
     "iopub.status.idle": "2025-08-19T18:10:28.888180Z",
     "shell.execute_reply": "2025-08-19T18:10:28.887348Z"
    },
    "papermill": {
     "duration": 1.753932,
     "end_time": "2025-08-19T18:10:28.889662",
     "exception": false,
     "start_time": "2025-08-19T18:10:27.135730",
     "status": "completed"
    },
    "tags": []
   },
   "outputs": [],
   "source": [
    "example_universe = universe.copy()\n",
    "example_universe[\"cutoff\"] = example_universe[\"cutoff\"][0]\n",
    "example_universe[\"eval_fairness_grouping\"] = example_universe[\"eval_fairness_grouping\"][0]\n",
    "fairness_dict, metric_frame = universe_analysis.compute_metrics(\n",
    "    example_universe,\n",
    "    y_pred_prob=probs_test,\n",
    "    y_test=y_true,\n",
    "    org_test=org_test,\n",
    ")"
   ]
  },
  {
   "cell_type": "markdown",
   "id": "1fb7a0e9",
   "metadata": {
    "papermill": {
     "duration": 0.012559,
     "end_time": "2025-08-19T18:10:28.917874",
     "exception": false,
     "start_time": "2025-08-19T18:10:28.905315",
     "status": "completed"
    },
    "tags": []
   },
   "source": [
    "# Overall"
   ]
  },
  {
   "cell_type": "markdown",
   "id": "be1784b1",
   "metadata": {
    "papermill": {
     "duration": 0.012472,
     "end_time": "2025-08-19T18:10:28.942999",
     "exception": false,
     "start_time": "2025-08-19T18:10:28.930527",
     "status": "completed"
    },
    "tags": []
   },
   "source": [
    "Main fairness target: Equalized Odds. Seems to be a better fit than equal opportunity, since we're not only interested in Y = 1. Seems to be a better fit than demographic parity, since we also care about accuracy, not just equal distribution of preds.\n",
    "\n",
    "Pick column for computation of fairness metrics\n",
    "\n",
    "Performance\n",
    "Overall performance measures, most interesting in relation to the measures split by group below"
   ]
  },
  {
   "cell_type": "code",
   "execution_count": 59,
   "id": "b7672bee",
   "metadata": {
    "execution": {
     "iopub.execute_input": "2025-08-19T18:10:28.969449Z",
     "iopub.status.busy": "2025-08-19T18:10:28.969142Z",
     "iopub.status.idle": "2025-08-19T18:10:28.976172Z",
     "shell.execute_reply": "2025-08-19T18:10:28.975385Z"
    },
    "papermill": {
     "duration": 0.021935,
     "end_time": "2025-08-19T18:10:28.977343",
     "exception": false,
     "start_time": "2025-08-19T18:10:28.955408",
     "status": "completed"
    },
    "tags": []
   },
   "outputs": [
    {
     "data": {
      "text/plain": [
       "accuracy                   0.200814\n",
       "balanced accuracy          0.532711\n",
       "f1                         0.239157\n",
       "precision                  0.136214\n",
       "false positive rate        0.913723\n",
       "false negative rate        0.020855\n",
       "selection rate             0.922116\n",
       "count                  89710.000000\n",
       "dtype: float64"
      ]
     },
     "execution_count": 59,
     "metadata": {},
     "output_type": "execute_result"
    }
   ],
   "source": [
    "metric_frame.overall"
   ]
  },
  {
   "cell_type": "markdown",
   "id": "d93333c9",
   "metadata": {
    "papermill": {
     "duration": 0.012921,
     "end_time": "2025-08-19T18:10:29.006027",
     "exception": false,
     "start_time": "2025-08-19T18:10:28.993106",
     "status": "completed"
    },
    "tags": []
   },
   "source": [
    "By Group"
   ]
  },
  {
   "cell_type": "code",
   "execution_count": 60,
   "id": "52256966",
   "metadata": {
    "execution": {
     "iopub.execute_input": "2025-08-19T18:10:29.032448Z",
     "iopub.status.busy": "2025-08-19T18:10:29.032138Z",
     "iopub.status.idle": "2025-08-19T18:10:29.044244Z",
     "shell.execute_reply": "2025-08-19T18:10:29.043527Z"
    },
    "papermill": {
     "duration": 0.027208,
     "end_time": "2025-08-19T18:10:29.045784",
     "exception": false,
     "start_time": "2025-08-19T18:10:29.018576",
     "status": "completed"
    },
    "tags": []
   },
   "outputs": [
    {
     "data": {
      "text/html": [
       "<div>\n",
       "<style scoped>\n",
       "    .dataframe tbody tr th:only-of-type {\n",
       "        vertical-align: middle;\n",
       "    }\n",
       "\n",
       "    .dataframe tbody tr th {\n",
       "        vertical-align: top;\n",
       "    }\n",
       "\n",
       "    .dataframe thead th {\n",
       "        text-align: right;\n",
       "    }\n",
       "</style>\n",
       "<table border=\"1\" class=\"dataframe\">\n",
       "  <thead>\n",
       "    <tr style=\"text-align: right;\">\n",
       "      <th></th>\n",
       "      <th>accuracy</th>\n",
       "      <th>balanced accuracy</th>\n",
       "      <th>f1</th>\n",
       "      <th>precision</th>\n",
       "      <th>false positive rate</th>\n",
       "      <th>false negative rate</th>\n",
       "      <th>selection rate</th>\n",
       "      <th>count</th>\n",
       "    </tr>\n",
       "    <tr>\n",
       "      <th>majmin</th>\n",
       "      <th></th>\n",
       "      <th></th>\n",
       "      <th></th>\n",
       "      <th></th>\n",
       "      <th></th>\n",
       "      <th></th>\n",
       "      <th></th>\n",
       "      <th></th>\n",
       "    </tr>\n",
       "  </thead>\n",
       "  <tbody>\n",
       "    <tr>\n",
       "      <th>majority</th>\n",
       "      <td>0.187480</td>\n",
       "      <td>0.528406</td>\n",
       "      <td>0.243906</td>\n",
       "      <td>0.139051</td>\n",
       "      <td>0.934983</td>\n",
       "      <td>0.008206</td>\n",
       "      <td>0.942490</td>\n",
       "      <td>69170.0</td>\n",
       "    </tr>\n",
       "    <tr>\n",
       "      <th>minority</th>\n",
       "      <td>0.245716</td>\n",
       "      <td>0.543413</td>\n",
       "      <td>0.221418</td>\n",
       "      <td>0.125663</td>\n",
       "      <td>0.843495</td>\n",
       "      <td>0.069679</td>\n",
       "      <td>0.853505</td>\n",
       "      <td>20540.0</td>\n",
       "    </tr>\n",
       "  </tbody>\n",
       "</table>\n",
       "</div>"
      ],
      "text/plain": [
       "          accuracy  balanced accuracy        f1  precision  \\\n",
       "majmin                                                       \n",
       "majority  0.187480           0.528406  0.243906   0.139051   \n",
       "minority  0.245716           0.543413  0.221418   0.125663   \n",
       "\n",
       "          false positive rate  false negative rate  selection rate    count  \n",
       "majmin                                                                       \n",
       "majority             0.934983             0.008206        0.942490  69170.0  \n",
       "minority             0.843495             0.069679        0.853505  20540.0  "
      ]
     },
     "execution_count": 60,
     "metadata": {},
     "output_type": "execute_result"
    }
   ],
   "source": [
    "metric_frame.by_group"
   ]
  },
  {
   "cell_type": "code",
   "execution_count": 61,
   "id": "6e6c20ae",
   "metadata": {
    "execution": {
     "iopub.execute_input": "2025-08-19T18:10:29.077232Z",
     "iopub.status.busy": "2025-08-19T18:10:29.076646Z",
     "iopub.status.idle": "2025-08-19T18:10:30.888226Z",
     "shell.execute_reply": "2025-08-19T18:10:30.887275Z"
    },
    "papermill": {
     "duration": 1.827185,
     "end_time": "2025-08-19T18:10:30.889799",
     "exception": false,
     "start_time": "2025-08-19T18:10:29.062614",
     "status": "completed"
    },
    "tags": []
   },
   "outputs": [
    {
     "data": {
      "text/plain": [
       "array([[<Axes: title={'center': 'accuracy'}, xlabel='majmin'>,\n",
       "        <Axes: title={'center': 'balanced accuracy'}, xlabel='majmin'>,\n",
       "        <Axes: title={'center': 'f1'}, xlabel='majmin'>],\n",
       "       [<Axes: title={'center': 'precision'}, xlabel='majmin'>,\n",
       "        <Axes: title={'center': 'false positive rate'}, xlabel='majmin'>,\n",
       "        <Axes: title={'center': 'false negative rate'}, xlabel='majmin'>],\n",
       "       [<Axes: title={'center': 'selection rate'}, xlabel='majmin'>,\n",
       "        <Axes: title={'center': 'count'}, xlabel='majmin'>,\n",
       "        <Axes: xlabel='majmin'>]], dtype=object)"
      ]
     },
     "execution_count": 61,
     "metadata": {},
     "output_type": "execute_result"
    },
    {
     "data": {
      "image/png": "[encoded data removed]",
      "text/plain": [
       "<Figure size 1200x800 with 9 Axes>"
      ]
     },
     "metadata": {},
     "output_type": "display_data"
    }
   ],
   "source": [
    "# In a graphic\n",
    "metric_frame.by_group.plot.bar(\n",
    "    subplots=True,\n",
    "    layout=[3, 3],\n",
    "    legend=False,\n",
    "    figsize=[12, 8],\n",
    "    title=\"Show all metrics\",\n",
    ")"
   ]
  },
  {
   "cell_type": "markdown",
   "id": "b2e433ae",
   "metadata": {
    "papermill": {
     "duration": 0.026668,
     "end_time": "2025-08-19T18:10:30.932722",
     "exception": false,
     "start_time": "2025-08-19T18:10:30.906054",
     "status": "completed"
    },
    "tags": []
   },
   "source": [
    "# Final Output"
   ]
  },
  {
   "cell_type": "code",
   "execution_count": 62,
   "id": "3871301e",
   "metadata": {
    "execution": {
     "iopub.execute_input": "2025-08-19T18:10:30.964133Z",
     "iopub.status.busy": "2025-08-19T18:10:30.963380Z",
     "iopub.status.idle": "2025-08-19T18:10:30.972094Z",
     "shell.execute_reply": "2025-08-19T18:10:30.971424Z"
    },
    "papermill": {
     "duration": 0.026856,
     "end_time": "2025-08-19T18:10:30.974510",
     "exception": false,
     "start_time": "2025-08-19T18:10:30.947654",
     "status": "completed"
    },
    "tags": []
   },
   "outputs": [
    {
     "data": {
      "text/plain": [
       "4"
      ]
     },
     "execution_count": 62,
     "metadata": {},
     "output_type": "execute_result"
    }
   ],
   "source": [
    "sub_universes = universe_analysis.generate_sub_universes()\n",
    "len(sub_universes)"
   ]
  },
  {
   "cell_type": "code",
   "execution_count": 63,
   "id": "d9cfdaca",
   "metadata": {
    "execution": {
     "iopub.execute_input": "2025-08-19T18:10:31.017195Z",
     "iopub.status.busy": "2025-08-19T18:10:31.016031Z",
     "iopub.status.idle": "2025-08-19T18:10:31.026778Z",
     "shell.execute_reply": "2025-08-19T18:10:31.025566Z"
    },
    "papermill": {
     "duration": 0.029933,
     "end_time": "2025-08-19T18:10:31.029950",
     "exception": false,
     "start_time": "2025-08-19T18:10:31.000017",
     "status": "completed"
    },
    "tags": []
   },
   "outputs": [],
   "source": [
    "def filter_sub_universe_data(sub_universe, org_test):\n",
    "    # Keep all rows — no filtering\n",
    "    keep_rows_mask = np.ones(org_test.shape[0], dtype=bool)\n",
    "\n",
    "    print(f\"[INFO] Keeping all rows: {keep_rows_mask.sum()} rows retained.\")\n",
    "    return keep_rows_mask"
   ]
  },
  {
   "cell_type": "code",
   "execution_count": 64,
   "id": "2bc31ac1",
   "metadata": {
    "execution": {
     "iopub.execute_input": "2025-08-19T18:10:31.075912Z",
     "iopub.status.busy": "2025-08-19T18:10:31.074753Z",
     "iopub.status.idle": "2025-08-19T18:10:37.831348Z",
     "shell.execute_reply": "2025-08-19T18:10:37.829415Z"
    },
    "papermill": {
     "duration": 6.774457,
     "end_time": "2025-08-19T18:10:37.833121",
     "exception": false,
     "start_time": "2025-08-19T18:10:31.058664",
     "status": "completed"
    },
    "tags": []
   },
   "outputs": [
    {
     "name": "stdout",
     "output_type": "stream",
     "text": [
      "Stopping execution_time clock.\n",
      "[INFO] Keeping all rows: 89710 rows retained.\n"
     ]
    },
    {
     "name": "stdout",
     "output_type": "stream",
     "text": [
      "[INFO] Keeping all rows: 89710 rows retained.\n"
     ]
    },
    {
     "name": "stdout",
     "output_type": "stream",
     "text": [
      "[INFO] Keeping all rows: 89710 rows retained.\n"
     ]
    },
    {
     "name": "stdout",
     "output_type": "stream",
     "text": [
      "[INFO] Keeping all rows: 89710 rows retained.\n"
     ]
    },
    {
     "data": {
      "text/html": [
       "<div>\n",
       "<style scoped>\n",
       "    .dataframe tbody tr th:only-of-type {\n",
       "        vertical-align: middle;\n",
       "    }\n",
       "\n",
       "    .dataframe tbody tr th {\n",
       "        vertical-align: top;\n",
       "    }\n",
       "\n",
       "    .dataframe thead th {\n",
       "        text-align: right;\n",
       "    }\n",
       "</style>\n",
       "<table border=\"1\" class=\"dataframe\">\n",
       "  <thead>\n",
       "    <tr style=\"text-align: right;\">\n",
       "      <th></th>\n",
       "      <th>run_no</th>\n",
       "      <th>universe_id</th>\n",
       "      <th>universe_settings</th>\n",
       "      <th>execution_time</th>\n",
       "      <th>test_size_n</th>\n",
       "      <th>test_size_frac</th>\n",
       "      <th>fair_main_equalized_odds_difference</th>\n",
       "      <th>fair_main_equalized_odds_ratio</th>\n",
       "      <th>fair_main_demographic_parity_difference</th>\n",
       "      <th>fair_main_demographic_parity_ratio</th>\n",
       "      <th>...</th>\n",
       "      <th>perf_grp_precision_0</th>\n",
       "      <th>perf_grp_precision_1</th>\n",
       "      <th>perf_grp_false positive rate_0</th>\n",
       "      <th>perf_grp_false positive rate_1</th>\n",
       "      <th>perf_grp_false negative rate_0</th>\n",
       "      <th>perf_grp_false negative rate_1</th>\n",
       "      <th>perf_grp_selection rate_0</th>\n",
       "      <th>perf_grp_selection rate_1</th>\n",
       "      <th>perf_grp_count_0</th>\n",
       "      <th>perf_grp_count_1</th>\n",
       "    </tr>\n",
       "  </thead>\n",
       "  <tbody>\n",
       "    <tr>\n",
       "      <th>0</th>\n",
       "      <td>3</td>\n",
       "      <td>0af8b9470103a3dc0638abd8a4d6edbd</td>\n",
       "      <td>{\"cutoff\": \"quantile_0.1\", \"eval_fairness_grou...</td>\n",
       "      <td>38.550633</td>\n",
       "      <td>89710</td>\n",
       "      <td>1.0</td>\n",
       "      <td>0.091487</td>\n",
       "      <td>0.902151</td>\n",
       "      <td>0.088984</td>\n",
       "      <td>0.905586</td>\n",
       "      <td>...</td>\n",
       "      <td>NaN</td>\n",
       "      <td>NaN</td>\n",
       "      <td>NaN</td>\n",
       "      <td>NaN</td>\n",
       "      <td>NaN</td>\n",
       "      <td>NaN</td>\n",
       "      <td>NaN</td>\n",
       "      <td>NaN</td>\n",
       "      <td>NaN</td>\n",
       "      <td>NaN</td>\n",
       "    </tr>\n",
       "    <tr>\n",
       "      <th>0</th>\n",
       "      <td>3</td>\n",
       "      <td>0af8b9470103a3dc0638abd8a4d6edbd</td>\n",
       "      <td>{\"cutoff\": \"quantile_0.1\", \"eval_fairness_grou...</td>\n",
       "      <td>38.550633</td>\n",
       "      <td>89710</td>\n",
       "      <td>1.0</td>\n",
       "      <td>0.091487</td>\n",
       "      <td>0.902151</td>\n",
       "      <td>0.088984</td>\n",
       "      <td>0.905586</td>\n",
       "      <td>...</td>\n",
       "      <td>0.125663</td>\n",
       "      <td>0.139051</td>\n",
       "      <td>0.843495</td>\n",
       "      <td>0.934983</td>\n",
       "      <td>0.069679</td>\n",
       "      <td>0.008206</td>\n",
       "      <td>0.853505</td>\n",
       "      <td>0.942490</td>\n",
       "      <td>20540.0</td>\n",
       "      <td>69170.0</td>\n",
       "    </tr>\n",
       "    <tr>\n",
       "      <th>0</th>\n",
       "      <td>3</td>\n",
       "      <td>0af8b9470103a3dc0638abd8a4d6edbd</td>\n",
       "      <td>{\"cutoff\": \"quantile_0.25\", \"eval_fairness_gro...</td>\n",
       "      <td>38.550633</td>\n",
       "      <td>89710</td>\n",
       "      <td>1.0</td>\n",
       "      <td>0.102207</td>\n",
       "      <td>0.885964</td>\n",
       "      <td>0.092648</td>\n",
       "      <td>0.883438</td>\n",
       "      <td>...</td>\n",
       "      <td>NaN</td>\n",
       "      <td>NaN</td>\n",
       "      <td>NaN</td>\n",
       "      <td>NaN</td>\n",
       "      <td>NaN</td>\n",
       "      <td>NaN</td>\n",
       "      <td>NaN</td>\n",
       "      <td>NaN</td>\n",
       "      <td>NaN</td>\n",
       "      <td>NaN</td>\n",
       "    </tr>\n",
       "    <tr>\n",
       "      <th>0</th>\n",
       "      <td>3</td>\n",
       "      <td>0af8b9470103a3dc0638abd8a4d6edbd</td>\n",
       "      <td>{\"cutoff\": \"quantile_0.25\", \"eval_fairness_gro...</td>\n",
       "      <td>38.550633</td>\n",
       "      <td>89710</td>\n",
       "      <td>1.0</td>\n",
       "      <td>0.102207</td>\n",
       "      <td>0.885964</td>\n",
       "      <td>0.092648</td>\n",
       "      <td>0.883438</td>\n",
       "      <td>...</td>\n",
       "      <td>0.141025</td>\n",
       "      <td>0.159788</td>\n",
       "      <td>0.681763</td>\n",
       "      <td>0.769515</td>\n",
       "      <td>0.141047</td>\n",
       "      <td>0.038840</td>\n",
       "      <td>0.702191</td>\n",
       "      <td>0.794839</td>\n",
       "      <td>20540.0</td>\n",
       "      <td>69170.0</td>\n",
       "    </tr>\n",
       "  </tbody>\n",
       "</table>\n",
       "<p>4 rows × 50 columns</p>\n",
       "</div>"
      ],
      "text/plain": [
       "  run_no                       universe_id  \\\n",
       "0      3  0af8b9470103a3dc0638abd8a4d6edbd   \n",
       "0      3  0af8b9470103a3dc0638abd8a4d6edbd   \n",
       "0      3  0af8b9470103a3dc0638abd8a4d6edbd   \n",
       "0      3  0af8b9470103a3dc0638abd8a4d6edbd   \n",
       "\n",
       "                                   universe_settings  execution_time  \\\n",
       "0  {\"cutoff\": \"quantile_0.1\", \"eval_fairness_grou...       38.550633   \n",
       "0  {\"cutoff\": \"quantile_0.1\", \"eval_fairness_grou...       38.550633   \n",
       "0  {\"cutoff\": \"quantile_0.25\", \"eval_fairness_gro...       38.550633   \n",
       "0  {\"cutoff\": \"quantile_0.25\", \"eval_fairness_gro...       38.550633   \n",
       "\n",
       "   test_size_n  test_size_frac  fair_main_equalized_odds_difference  \\\n",
       "0        89710             1.0                             0.091487   \n",
       "0        89710             1.0                             0.091487   \n",
       "0        89710             1.0                             0.102207   \n",
       "0        89710             1.0                             0.102207   \n",
       "\n",
       "   fair_main_equalized_odds_ratio  fair_main_demographic_parity_difference  \\\n",
       "0                        0.902151                                 0.088984   \n",
       "0                        0.902151                                 0.088984   \n",
       "0                        0.885964                                 0.092648   \n",
       "0                        0.885964                                 0.092648   \n",
       "\n",
       "   fair_main_demographic_parity_ratio  ...  perf_grp_precision_0  \\\n",
       "0                            0.905586  ...                   NaN   \n",
       "0                            0.905586  ...              0.125663   \n",
       "0                            0.883438  ...                   NaN   \n",
       "0                            0.883438  ...              0.141025   \n",
       "\n",
       "   perf_grp_precision_1  perf_grp_false positive rate_0  \\\n",
       "0                   NaN                             NaN   \n",
       "0              0.139051                        0.843495   \n",
       "0                   NaN                             NaN   \n",
       "0              0.159788                        0.681763   \n",
       "\n",
       "   perf_grp_false positive rate_1  perf_grp_false negative rate_0  \\\n",
       "0                             NaN                             NaN   \n",
       "0                        0.934983                        0.069679   \n",
       "0                             NaN                             NaN   \n",
       "0                        0.769515                        0.141047   \n",
       "\n",
       "   perf_grp_false negative rate_1  perf_grp_selection rate_0  \\\n",
       "0                             NaN                        NaN   \n",
       "0                        0.008206                   0.853505   \n",
       "0                             NaN                        NaN   \n",
       "0                        0.038840                   0.702191   \n",
       "\n",
       "   perf_grp_selection rate_1  perf_grp_count_0  perf_grp_count_1  \n",
       "0                        NaN               NaN               NaN  \n",
       "0                   0.942490           20540.0           69170.0  \n",
       "0                        NaN               NaN               NaN  \n",
       "0                   0.794839           20540.0           69170.0  \n",
       "\n",
       "[4 rows x 50 columns]"
      ]
     },
     "execution_count": 64,
     "metadata": {},
     "output_type": "execute_result"
    }
   ],
   "source": [
    "final_output = universe_analysis.generate_final_output(\n",
    "    y_pred_prob=probs_test,\n",
    "    y_test=y_true,\n",
    "    org_test=org_test,\n",
    "    filter_data=filter_sub_universe_data,\n",
    "    cp_metrics_df=cp_metrics_df,\n",
    "    save=True,\n",
    ")\n",
    "final_output"
   ]
  },
  {
   "cell_type": "code",
   "execution_count": null,
   "id": "8b80a1ff",
   "metadata": {
    "papermill": {
     "duration": 0.014218,
     "end_time": "2025-08-19T18:10:37.865725",
     "exception": false,
     "start_time": "2025-08-19T18:10:37.851507",
     "status": "completed"
    },
    "tags": []
   },
   "outputs": [],
   "source": []
  },
  {
   "cell_type": "code",
   "execution_count": null,
   "id": "275c9fad",
   "metadata": {
    "papermill": {
     "duration": 0.01397,
     "end_time": "2025-08-19T18:10:37.893768",
     "exception": false,
     "start_time": "2025-08-19T18:10:37.879798",
     "status": "completed"
    },
    "tags": []
   },
   "outputs": [],
   "source": []
  }
 ],
 "metadata": {
  "celltoolbar": "Tags",
  "kernelspec": {
   "display_name": "Python (CMA Fairness)",
   "language": "python",
   "name": "cma_fair_env"
  },
  "language_info": {
   "codemirror_mode": {
    "name": "ipython",
    "version": 3
   },
   "file_extension": ".py",
   "mimetype": "text/x-python",
   "name": "python",
   "nbconvert_exporter": "python",
   "pygments_lexer": "ipython3",
   "version": "3.10.12"
  },
  "papermill": {
   "default_parameters": {},
   "duration": 49.037971,
   "end_time": "2025-08-19T18:10:38.732666",
   "environment_variables": {},
   "exception": null,
   "input_path": "universe_analysis.ipynb",
   "output_path": "output/runs/3/notebooks/m_3-0af8b9470103a3dc0638abd8a4d6edbd.ipynb",
   "parameters": {
    "output_dir": "output",
    "run_no": "3",
    "seed": "2023",
    "universe": "{\"cutoff\": [\"quantile_0.1\", \"quantile_0.25\"], \"eval_fairness_grouping\": [\"majority-minority\", \"nationality-all\"], \"exclude_features\": \"nationality-sex\", \"exclude_subgroups\": \"keep-all\", \"model\": \"rf\", \"scale\": \"do-not-scale\", \"training_size\": \"25k\", \"training_year\": \"2012_14\"}",
    "universe_id": "0af8b9470103a3dc0638abd8a4d6edbd"
   },
   "start_time": "2025-08-19T18:09:49.694695",
   "version": "2.6.0"
  }
 },
 "nbformat": 4,
 "nbformat_minor": 5
}