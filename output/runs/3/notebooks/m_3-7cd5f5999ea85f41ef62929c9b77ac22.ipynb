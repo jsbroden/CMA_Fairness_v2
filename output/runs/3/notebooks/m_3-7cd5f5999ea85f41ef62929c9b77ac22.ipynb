{
 "cells": [
  {
   "cell_type": "markdown",
   "id": "ef23dbb3",
   "metadata": {
    "papermill": {
     "duration": 0.015466,
     "end_time": "2025-08-19T18:30:50.906095",
     "exception": false,
     "start_time": "2025-08-19T18:30:50.890629",
     "status": "completed"
    },
    "tags": []
   },
   "source": [
    "# Setup"
   ]
  },
  {
   "cell_type": "code",
   "execution_count": 1,
   "id": "0bc8e7dc",
   "metadata": {
    "execution": {
     "iopub.execute_input": "2025-08-19T18:30:50.925623Z",
     "iopub.status.busy": "2025-08-19T18:30:50.925307Z",
     "iopub.status.idle": "2025-08-19T18:30:50.935107Z",
     "shell.execute_reply": "2025-08-19T18:30:50.934439Z"
    },
    "papermill": {
     "duration": 0.021159,
     "end_time": "2025-08-19T18:30:50.936466",
     "exception": false,
     "start_time": "2025-08-19T18:30:50.915307",
     "status": "completed"
    },
    "tags": []
   },
   "outputs": [
    {
     "name": "stdout",
     "output_type": "stream",
     "text": [
      "/dss/dsshome1/0C/ra93lal2/cma/CMA_Fairness_v2\n"
     ]
    },
    {
     "name": "stderr",
     "output_type": "stream",
     "text": [
      "/dss/dsshome1/0C/ra93lal2/.local/share/virtualenvs/CMA_Fairness_v2-3j10GkSs/lib/python3.10/site-packages/IPython/core/magics/osm.py:393: UserWarning: This is now an optional IPython functionality, using bookmarks requires you to install the `pickleshare` library.\n",
      "  bkms = self.shell.db.get('bookmarks', {})\n",
      "/dss/dsshome1/0C/ra93lal2/.local/share/virtualenvs/CMA_Fairness_v2-3j10GkSs/lib/python3.10/site-packages/IPython/core/magics/osm.py:417: UserWarning: This is now an optional IPython functionality, setting dhist requires you to install the `pickleshare` library.\n",
      "  self.shell.db['dhist'] = compress_dhist(dhist)[-100:]\n"
     ]
    }
   ],
   "source": [
    "%cd ~/cma/CMA_Fairness_v2"
   ]
  },
  {
   "cell_type": "markdown",
   "id": "9d235661",
   "metadata": {
    "papermill": {
     "duration": 0.008954,
     "end_time": "2025-08-19T18:30:50.955358",
     "exception": false,
     "start_time": "2025-08-19T18:30:50.946404",
     "status": "completed"
    },
    "tags": []
   },
   "source": [
    "The following cell holds the definition of our parameters, these values can be overriden by rendering the with e.g. the following command:\n",
    "\n",
    "papermill -p alpha 0.2 -p ratio 0.3 universe_analysis.ipynb output/test_run.ipynb"
   ]
  },
  {
   "cell_type": "code",
   "execution_count": 2,
   "id": "4a789d8e",
   "metadata": {
    "execution": {
     "iopub.execute_input": "2025-08-19T18:30:50.981805Z",
     "iopub.status.busy": "2025-08-19T18:30:50.981516Z",
     "iopub.status.idle": "2025-08-19T18:30:50.986145Z",
     "shell.execute_reply": "2025-08-19T18:30:50.985336Z"
    },
    "papermill": {
     "duration": 0.019005,
     "end_time": "2025-08-19T18:30:50.988251",
     "exception": false,
     "start_time": "2025-08-19T18:30:50.969246",
     "status": "completed"
    },
    "tags": []
   },
   "outputs": [
    {
     "name": "stdout",
     "output_type": "stream",
     "text": [
      "Current working directory: /dss/dsshome1/0C/ra93lal2/cma/CMA_Fairness_v2\n"
     ]
    }
   ],
   "source": [
    "import os\n",
    "print(\"Current working directory:\", os.getcwd())"
   ]
  },
  {
   "cell_type": "code",
   "execution_count": 3,
   "id": "4132aaed",
   "metadata": {
    "execution": {
     "iopub.execute_input": "2025-08-19T18:30:51.008197Z",
     "iopub.status.busy": "2025-08-19T18:30:51.007941Z",
     "iopub.status.idle": "2025-08-19T18:30:51.012340Z",
     "shell.execute_reply": "2025-08-19T18:30:51.011707Z"
    },
    "papermill": {
     "duration": 0.015272,
     "end_time": "2025-08-19T18:30:51.013547",
     "exception": false,
     "start_time": "2025-08-19T18:30:50.998275",
     "status": "completed"
    },
    "tags": [
     "parameters"
    ]
   },
   "outputs": [],
   "source": [
    "run_no = 0\n",
    "universe_id = \"test\"\n",
    "universe = {\n",
    "    \"training_size\": \"5k\", # \"25k\", \"5k\", \"1k\"\n",
    "    \"training_year\": \"2012_14\", # \"2014\", \"2012_14\", \"2010_14\"\n",
    "    \"scale\": \"scale\", # \"scale\", \"do-not-scale\",\n",
    "    \"model\": \"elasticnet\", # \"logreg\", \"penalized_logreg\", \"rf\", \"gbm\", \"elasticnet\"\n",
    "    \"cutoff\": [\"quantile_0.15\", \"quantile_0.30\"],\n",
    "    \"exclude_features\": \"age\", # \"none\", \"nationality\", \"sex\", \"nationality-sex\", \"age\"\n",
    "    \"exclude_subgroups\": \"drop-non-german\", # \"keep-all\", \"drop-non-german\"\n",
    "    \"eval_fairness_grouping\": [\"majority-minority\", \"nationality-all\"]\n",
    "}\n",
    "\n",
    "output_dir=\"./output\"\n",
    "seed=0"
   ]
  },
  {
   "cell_type": "code",
   "execution_count": 4,
   "id": "0fc234c9",
   "metadata": {
    "execution": {
     "iopub.execute_input": "2025-08-19T18:30:51.044947Z",
     "iopub.status.busy": "2025-08-19T18:30:51.044501Z",
     "iopub.status.idle": "2025-08-19T18:30:51.049111Z",
     "shell.execute_reply": "2025-08-19T18:30:51.048333Z"
    },
    "papermill": {
     "duration": 0.022741,
     "end_time": "2025-08-19T18:30:51.050680",
     "exception": false,
     "start_time": "2025-08-19T18:30:51.027939",
     "status": "completed"
    },
    "tags": [
     "injected-parameters"
    ]
   },
   "outputs": [],
   "source": [
    "# Parameters\n",
    "universe_id = \"7cd5f5999ea85f41ef62929c9b77ac22\"\n",
    "run_no = \"3\"\n",
    "universe = \"{\\\"cutoff\\\": [\\\"quantile_0.1\\\", \\\"quantile_0.25\\\"], \\\"eval_fairness_grouping\\\": [\\\"majority-minority\\\", \\\"nationality-all\\\"], \\\"exclude_features\\\": \\\"age\\\", \\\"exclude_subgroups\\\": \\\"drop-non-german\\\", \\\"model\\\": \\\"elasticnet\\\", \\\"scale\\\": \\\"do-not-scale\\\", \\\"training_size\\\": \\\"5k\\\", \\\"training_year\\\": \\\"2014\\\"}\"\n",
    "output_dir = \"output\"\n",
    "seed = \"2023\"\n"
   ]
  },
  {
   "cell_type": "code",
   "execution_count": 5,
   "id": "a5d7941f",
   "metadata": {
    "execution": {
     "iopub.execute_input": "2025-08-19T18:30:51.070880Z",
     "iopub.status.busy": "2025-08-19T18:30:51.070616Z",
     "iopub.status.idle": "2025-08-19T18:30:51.075238Z",
     "shell.execute_reply": "2025-08-19T18:30:51.074567Z"
    },
    "papermill": {
     "duration": 0.0162,
     "end_time": "2025-08-19T18:30:51.076759",
     "exception": false,
     "start_time": "2025-08-19T18:30:51.060559",
     "status": "completed"
    },
    "tags": []
   },
   "outputs": [],
   "source": [
    "import json\n",
    "if isinstance(universe, str):\n",
    "    universe = json.loads(universe)"
   ]
  },
  {
   "cell_type": "code",
   "execution_count": 6,
   "id": "7076ccb1",
   "metadata": {
    "execution": {
     "iopub.execute_input": "2025-08-19T18:30:51.096112Z",
     "iopub.status.busy": "2025-08-19T18:30:51.095739Z",
     "iopub.status.idle": "2025-08-19T18:30:51.134758Z",
     "shell.execute_reply": "2025-08-19T18:30:51.134039Z"
    },
    "papermill": {
     "duration": 0.050198,
     "end_time": "2025-08-19T18:30:51.136169",
     "exception": false,
     "start_time": "2025-08-19T18:30:51.085971",
     "status": "completed"
    },
    "tags": []
   },
   "outputs": [],
   "source": [
    "# Auto-reload the custom package\n",
    "%load_ext autoreload\n",
    "%autoreload 1\n",
    "%aimport fairness_multiverse"
   ]
  },
  {
   "cell_type": "code",
   "execution_count": 7,
   "id": "94c8eb93",
   "metadata": {
    "execution": {
     "iopub.execute_input": "2025-08-19T18:30:51.162450Z",
     "iopub.status.busy": "2025-08-19T18:30:51.160987Z",
     "iopub.status.idle": "2025-08-19T18:30:52.845588Z",
     "shell.execute_reply": "2025-08-19T18:30:52.844711Z"
    },
    "papermill": {
     "duration": 1.704031,
     "end_time": "2025-08-19T18:30:52.849632",
     "exception": false,
     "start_time": "2025-08-19T18:30:51.145601",
     "status": "completed"
    },
    "tags": []
   },
   "outputs": [],
   "source": [
    "from fairness_multiverse.universe import UniverseAnalysis\n",
    "\n",
    "universe_analysis = UniverseAnalysis(\n",
    "    run_no = run_no,\n",
    "    universe_id = universe_id,\n",
    "    universe = universe,\n",
    "    output_dir=output_dir,\n",
    ")"
   ]
  },
  {
   "cell_type": "code",
   "execution_count": 8,
   "id": "2a6381cf",
   "metadata": {
    "execution": {
     "iopub.execute_input": "2025-08-19T18:30:52.874099Z",
     "iopub.status.busy": "2025-08-19T18:30:52.873787Z",
     "iopub.status.idle": "2025-08-19T18:30:52.879344Z",
     "shell.execute_reply": "2025-08-19T18:30:52.878663Z"
    },
    "papermill": {
     "duration": 0.020356,
     "end_time": "2025-08-19T18:30:52.883744",
     "exception": false,
     "start_time": "2025-08-19T18:30:52.863388",
     "status": "completed"
    },
    "tags": []
   },
   "outputs": [
    {
     "name": "stdout",
     "output_type": "stream",
     "text": [
      "Using Seed: 2023\n"
     ]
    }
   ],
   "source": [
    "import numpy as np\n",
    "parsed_seed = int(seed)\n",
    "np.random.seed(parsed_seed)\n",
    "print(f\"Using Seed: {parsed_seed}\")"
   ]
  },
  {
   "cell_type": "markdown",
   "id": "b6e958b4",
   "metadata": {
    "papermill": {
     "duration": 0.019257,
     "end_time": "2025-08-19T18:30:52.913345",
     "exception": false,
     "start_time": "2025-08-19T18:30:52.894088",
     "status": "completed"
    },
    "tags": []
   },
   "source": [
    "# Loading Data"
   ]
  },
  {
   "cell_type": "code",
   "execution_count": 9,
   "id": "98701482",
   "metadata": {
    "execution": {
     "iopub.execute_input": "2025-08-19T18:30:52.935027Z",
     "iopub.status.busy": "2025-08-19T18:30:52.934677Z",
     "iopub.status.idle": "2025-08-19T18:31:03.308431Z",
     "shell.execute_reply": "2025-08-19T18:31:03.306998Z"
    },
    "papermill": {
     "duration": 10.386764,
     "end_time": "2025-08-19T18:31:03.311079",
     "exception": false,
     "start_time": "2025-08-19T18:30:52.924315",
     "status": "completed"
    },
    "tags": []
   },
   "outputs": [
    {
     "name": "stdout",
     "output_type": "stream",
     "text": [
      "Loading SIAB data from cache: data/siab_cached.csv.gz\n"
     ]
    },
    {
     "name": "stdout",
     "output_type": "stream",
     "text": [
      "(643690, 164)\n"
     ]
    }
   ],
   "source": [
    "from pathlib import Path\n",
    "import pandas as pd\n",
    "\n",
    "# File paths\n",
    "raw_file = Path(\"data/raw/siab.csv\")\n",
    "cache_file = Path(\"data/siab_cached.csv.gz\")\n",
    "\n",
    "# Ensure cache directory exists\n",
    "cache_file.parent.mkdir(parents=True, exist_ok=True)\n",
    "\n",
    "# Load with simple caching\n",
    "if cache_file.exists():\n",
    "    print(f\"Loading SIAB data from cache: {cache_file}\")\n",
    "    siab = pd.read_csv(cache_file, compression='gzip')\n",
    "else:\n",
    "    print(f\"Cache not found. Reading raw SIAB data: {raw_file}\")\n",
    "    siab = pd.read_csv(raw_file)\n",
    "    siab.to_csv(cache_file, index=False, compression='gzip')\n",
    "    print(f\"Cached SIAB data to: {cache_file}\")\n",
    "\n",
    "print(siab.shape)"
   ]
  },
  {
   "cell_type": "code",
   "execution_count": 10,
   "id": "058d2abb",
   "metadata": {
    "execution": {
     "iopub.execute_input": "2025-08-19T18:31:03.382245Z",
     "iopub.status.busy": "2025-08-19T18:31:03.380552Z",
     "iopub.status.idle": "2025-08-19T18:31:03.516297Z",
     "shell.execute_reply": "2025-08-19T18:31:03.515355Z"
    },
    "papermill": {
     "duration": 0.168473,
     "end_time": "2025-08-19T18:31:03.517730",
     "exception": false,
     "start_time": "2025-08-19T18:31:03.349257",
     "status": "completed"
    },
    "tags": []
   },
   "outputs": [
    {
     "data": {
      "text/html": [
       "<div>\n",
       "<style scoped>\n",
       "    .dataframe tbody tr th:only-of-type {\n",
       "        vertical-align: middle;\n",
       "    }\n",
       "\n",
       "    .dataframe tbody tr th {\n",
       "        vertical-align: top;\n",
       "    }\n",
       "\n",
       "    .dataframe thead th {\n",
       "        text-align: right;\n",
       "    }\n",
       "</style>\n",
       "<table border=\"1\" class=\"dataframe\">\n",
       "  <thead>\n",
       "    <tr style=\"text-align: right;\">\n",
       "      <th></th>\n",
       "      <th>persnr</th>\n",
       "      <th>year</th>\n",
       "      <th>nrEntry</th>\n",
       "      <th>ltue</th>\n",
       "      <th>employed_before</th>\n",
       "      <th>receipt_leh_before</th>\n",
       "      <th>receipt_lhg_before</th>\n",
       "      <th>se_before</th>\n",
       "      <th>ASU_notue_seeking_before</th>\n",
       "      <th>ASU_other_before</th>\n",
       "      <th>...</th>\n",
       "      <th>minijob_tot_dur_byage</th>\n",
       "      <th>ft_tot_dur_byage</th>\n",
       "      <th>befrist_tot_dur_byage</th>\n",
       "      <th>leih_tot_dur_byage</th>\n",
       "      <th>LHG_tot_dur_byage</th>\n",
       "      <th>LEH_tot_dur_byage</th>\n",
       "      <th>almp_tot_dur_byage</th>\n",
       "      <th>almp_aw_tot_dur_byage</th>\n",
       "      <th>se_tot_dur_byage</th>\n",
       "      <th>seeking1_tot_dur_byage</th>\n",
       "    </tr>\n",
       "  </thead>\n",
       "  <tbody>\n",
       "    <tr>\n",
       "      <th>0</th>\n",
       "      <td>7</td>\n",
       "      <td>2015</td>\n",
       "      <td>1</td>\n",
       "      <td>0</td>\n",
       "      <td>1</td>\n",
       "      <td>0</td>\n",
       "      <td>0</td>\n",
       "      <td>0</td>\n",
       "      <td>1</td>\n",
       "      <td>0</td>\n",
       "      <td>...</td>\n",
       "      <td>0.000000</td>\n",
       "      <td>0.000000</td>\n",
       "      <td>15.043478</td>\n",
       "      <td>0.000000</td>\n",
       "      <td>0.000000</td>\n",
       "      <td>0.000000</td>\n",
       "      <td>0.000000</td>\n",
       "      <td>0.000000</td>\n",
       "      <td>0.000000</td>\n",
       "      <td>0.000000</td>\n",
       "    </tr>\n",
       "    <tr>\n",
       "      <th>1</th>\n",
       "      <td>18</td>\n",
       "      <td>2010</td>\n",
       "      <td>1</td>\n",
       "      <td>1</td>\n",
       "      <td>0</td>\n",
       "      <td>0</td>\n",
       "      <td>0</td>\n",
       "      <td>0</td>\n",
       "      <td>0</td>\n",
       "      <td>0</td>\n",
       "      <td>...</td>\n",
       "      <td>0.000000</td>\n",
       "      <td>0.000000</td>\n",
       "      <td>0.000000</td>\n",
       "      <td>0.000000</td>\n",
       "      <td>0.000000</td>\n",
       "      <td>0.000000</td>\n",
       "      <td>0.000000</td>\n",
       "      <td>0.000000</td>\n",
       "      <td>0.000000</td>\n",
       "      <td>0.000000</td>\n",
       "    </tr>\n",
       "    <tr>\n",
       "      <th>2</th>\n",
       "      <td>18</td>\n",
       "      <td>2011</td>\n",
       "      <td>2</td>\n",
       "      <td>0</td>\n",
       "      <td>1</td>\n",
       "      <td>0</td>\n",
       "      <td>1</td>\n",
       "      <td>0</td>\n",
       "      <td>1</td>\n",
       "      <td>0</td>\n",
       "      <td>...</td>\n",
       "      <td>2.714286</td>\n",
       "      <td>2.714286</td>\n",
       "      <td>0.000000</td>\n",
       "      <td>0.000000</td>\n",
       "      <td>10.775510</td>\n",
       "      <td>0.000000</td>\n",
       "      <td>8.367347</td>\n",
       "      <td>0.000000</td>\n",
       "      <td>0.000000</td>\n",
       "      <td>9.836735</td>\n",
       "    </tr>\n",
       "    <tr>\n",
       "      <th>3</th>\n",
       "      <td>18</td>\n",
       "      <td>2012</td>\n",
       "      <td>3</td>\n",
       "      <td>0</td>\n",
       "      <td>1</td>\n",
       "      <td>0</td>\n",
       "      <td>1</td>\n",
       "      <td>0</td>\n",
       "      <td>1</td>\n",
       "      <td>0</td>\n",
       "      <td>...</td>\n",
       "      <td>4.200000</td>\n",
       "      <td>4.200000</td>\n",
       "      <td>0.000000</td>\n",
       "      <td>0.000000</td>\n",
       "      <td>12.100000</td>\n",
       "      <td>0.000000</td>\n",
       "      <td>9.400000</td>\n",
       "      <td>0.000000</td>\n",
       "      <td>0.000000</td>\n",
       "      <td>9.960000</td>\n",
       "    </tr>\n",
       "    <tr>\n",
       "      <th>4</th>\n",
       "      <td>18</td>\n",
       "      <td>2012</td>\n",
       "      <td>4</td>\n",
       "      <td>0</td>\n",
       "      <td>1</td>\n",
       "      <td>0</td>\n",
       "      <td>1</td>\n",
       "      <td>0</td>\n",
       "      <td>1</td>\n",
       "      <td>0</td>\n",
       "      <td>...</td>\n",
       "      <td>5.460000</td>\n",
       "      <td>5.460000</td>\n",
       "      <td>0.000000</td>\n",
       "      <td>0.000000</td>\n",
       "      <td>13.360000</td>\n",
       "      <td>0.000000</td>\n",
       "      <td>10.320000</td>\n",
       "      <td>0.000000</td>\n",
       "      <td>0.000000</td>\n",
       "      <td>10.280000</td>\n",
       "    </tr>\n",
       "    <tr>\n",
       "      <th>...</th>\n",
       "      <td>...</td>\n",
       "      <td>...</td>\n",
       "      <td>...</td>\n",
       "      <td>...</td>\n",
       "      <td>...</td>\n",
       "      <td>...</td>\n",
       "      <td>...</td>\n",
       "      <td>...</td>\n",
       "      <td>...</td>\n",
       "      <td>...</td>\n",
       "      <td>...</td>\n",
       "      <td>...</td>\n",
       "      <td>...</td>\n",
       "      <td>...</td>\n",
       "      <td>...</td>\n",
       "      <td>...</td>\n",
       "      <td>...</td>\n",
       "      <td>...</td>\n",
       "      <td>...</td>\n",
       "      <td>...</td>\n",
       "      <td>...</td>\n",
       "    </tr>\n",
       "    <tr>\n",
       "      <th>643685</th>\n",
       "      <td>1827860</td>\n",
       "      <td>2013</td>\n",
       "      <td>1</td>\n",
       "      <td>0</td>\n",
       "      <td>0</td>\n",
       "      <td>0</td>\n",
       "      <td>1</td>\n",
       "      <td>0</td>\n",
       "      <td>0</td>\n",
       "      <td>1</td>\n",
       "      <td>...</td>\n",
       "      <td>0.000000</td>\n",
       "      <td>0.000000</td>\n",
       "      <td>0.000000</td>\n",
       "      <td>0.000000</td>\n",
       "      <td>0.612903</td>\n",
       "      <td>0.000000</td>\n",
       "      <td>0.000000</td>\n",
       "      <td>0.000000</td>\n",
       "      <td>0.000000</td>\n",
       "      <td>0.000000</td>\n",
       "    </tr>\n",
       "    <tr>\n",
       "      <th>643686</th>\n",
       "      <td>1827860</td>\n",
       "      <td>2015</td>\n",
       "      <td>2</td>\n",
       "      <td>1</td>\n",
       "      <td>0</td>\n",
       "      <td>0</td>\n",
       "      <td>1</td>\n",
       "      <td>0</td>\n",
       "      <td>1</td>\n",
       "      <td>0</td>\n",
       "      <td>...</td>\n",
       "      <td>0.000000</td>\n",
       "      <td>0.000000</td>\n",
       "      <td>0.212121</td>\n",
       "      <td>0.212121</td>\n",
       "      <td>17.363636</td>\n",
       "      <td>0.000000</td>\n",
       "      <td>8.909091</td>\n",
       "      <td>0.000000</td>\n",
       "      <td>0.000000</td>\n",
       "      <td>7.121212</td>\n",
       "    </tr>\n",
       "    <tr>\n",
       "      <th>643687</th>\n",
       "      <td>1827860</td>\n",
       "      <td>2016</td>\n",
       "      <td>3</td>\n",
       "      <td>1</td>\n",
       "      <td>0</td>\n",
       "      <td>0</td>\n",
       "      <td>1</td>\n",
       "      <td>1</td>\n",
       "      <td>0</td>\n",
       "      <td>1</td>\n",
       "      <td>...</td>\n",
       "      <td>0.000000</td>\n",
       "      <td>0.000000</td>\n",
       "      <td>0.294118</td>\n",
       "      <td>0.205882</td>\n",
       "      <td>34.705882</td>\n",
       "      <td>0.000000</td>\n",
       "      <td>10.352941</td>\n",
       "      <td>1.705882</td>\n",
       "      <td>1.705882</td>\n",
       "      <td>23.911765</td>\n",
       "    </tr>\n",
       "    <tr>\n",
       "      <th>643688</th>\n",
       "      <td>1827869</td>\n",
       "      <td>2013</td>\n",
       "      <td>1</td>\n",
       "      <td>1</td>\n",
       "      <td>1</td>\n",
       "      <td>0</td>\n",
       "      <td>0</td>\n",
       "      <td>0</td>\n",
       "      <td>1</td>\n",
       "      <td>0</td>\n",
       "      <td>...</td>\n",
       "      <td>0.000000</td>\n",
       "      <td>0.000000</td>\n",
       "      <td>0.000000</td>\n",
       "      <td>0.000000</td>\n",
       "      <td>0.000000</td>\n",
       "      <td>0.525424</td>\n",
       "      <td>0.000000</td>\n",
       "      <td>0.000000</td>\n",
       "      <td>0.000000</td>\n",
       "      <td>0.000000</td>\n",
       "    </tr>\n",
       "    <tr>\n",
       "      <th>643689</th>\n",
       "      <td>1827869</td>\n",
       "      <td>2014</td>\n",
       "      <td>2</td>\n",
       "      <td>0</td>\n",
       "      <td>0</td>\n",
       "      <td>1</td>\n",
       "      <td>0</td>\n",
       "      <td>0</td>\n",
       "      <td>1</td>\n",
       "      <td>0</td>\n",
       "      <td>...</td>\n",
       "      <td>0.000000</td>\n",
       "      <td>0.666667</td>\n",
       "      <td>0.666667</td>\n",
       "      <td>0.000000</td>\n",
       "      <td>0.000000</td>\n",
       "      <td>8.950000</td>\n",
       "      <td>1.033333</td>\n",
       "      <td>0.083333</td>\n",
       "      <td>0.083333</td>\n",
       "      <td>8.133333</td>\n",
       "    </tr>\n",
       "  </tbody>\n",
       "</table>\n",
       "<p>643690 rows × 164 columns</p>\n",
       "</div>"
      ],
      "text/plain": [
       "         persnr  year  nrEntry  ltue  employed_before  receipt_leh_before  \\\n",
       "0             7  2015        1     0                1                   0   \n",
       "1            18  2010        1     1                0                   0   \n",
       "2            18  2011        2     0                1                   0   \n",
       "3            18  2012        3     0                1                   0   \n",
       "4            18  2012        4     0                1                   0   \n",
       "...         ...   ...      ...   ...              ...                 ...   \n",
       "643685  1827860  2013        1     0                0                   0   \n",
       "643686  1827860  2015        2     1                0                   0   \n",
       "643687  1827860  2016        3     1                0                   0   \n",
       "643688  1827869  2013        1     1                1                   0   \n",
       "643689  1827869  2014        2     0                0                   1   \n",
       "\n",
       "        receipt_lhg_before  se_before  ASU_notue_seeking_before  \\\n",
       "0                        0          0                         1   \n",
       "1                        0          0                         0   \n",
       "2                        1          0                         1   \n",
       "3                        1          0                         1   \n",
       "4                        1          0                         1   \n",
       "...                    ...        ...                       ...   \n",
       "643685                   1          0                         0   \n",
       "643686                   1          0                         1   \n",
       "643687                   1          1                         0   \n",
       "643688                   0          0                         1   \n",
       "643689                   0          0                         1   \n",
       "\n",
       "        ASU_other_before  ...  minijob_tot_dur_byage  ft_tot_dur_byage  \\\n",
       "0                      0  ...               0.000000          0.000000   \n",
       "1                      0  ...               0.000000          0.000000   \n",
       "2                      0  ...               2.714286          2.714286   \n",
       "3                      0  ...               4.200000          4.200000   \n",
       "4                      0  ...               5.460000          5.460000   \n",
       "...                  ...  ...                    ...               ...   \n",
       "643685                 1  ...               0.000000          0.000000   \n",
       "643686                 0  ...               0.000000          0.000000   \n",
       "643687                 1  ...               0.000000          0.000000   \n",
       "643688                 0  ...               0.000000          0.000000   \n",
       "643689                 0  ...               0.000000          0.666667   \n",
       "\n",
       "        befrist_tot_dur_byage  leih_tot_dur_byage  LHG_tot_dur_byage  \\\n",
       "0                   15.043478            0.000000           0.000000   \n",
       "1                    0.000000            0.000000           0.000000   \n",
       "2                    0.000000            0.000000          10.775510   \n",
       "3                    0.000000            0.000000          12.100000   \n",
       "4                    0.000000            0.000000          13.360000   \n",
       "...                       ...                 ...                ...   \n",
       "643685               0.000000            0.000000           0.612903   \n",
       "643686               0.212121            0.212121          17.363636   \n",
       "643687               0.294118            0.205882          34.705882   \n",
       "643688               0.000000            0.000000           0.000000   \n",
       "643689               0.666667            0.000000           0.000000   \n",
       "\n",
       "        LEH_tot_dur_byage  almp_tot_dur_byage  almp_aw_tot_dur_byage  \\\n",
       "0                0.000000            0.000000               0.000000   \n",
       "1                0.000000            0.000000               0.000000   \n",
       "2                0.000000            8.367347               0.000000   \n",
       "3                0.000000            9.400000               0.000000   \n",
       "4                0.000000           10.320000               0.000000   \n",
       "...                   ...                 ...                    ...   \n",
       "643685           0.000000            0.000000               0.000000   \n",
       "643686           0.000000            8.909091               0.000000   \n",
       "643687           0.000000           10.352941               1.705882   \n",
       "643688           0.525424            0.000000               0.000000   \n",
       "643689           8.950000            1.033333               0.083333   \n",
       "\n",
       "        se_tot_dur_byage  seeking1_tot_dur_byage  \n",
       "0               0.000000                0.000000  \n",
       "1               0.000000                0.000000  \n",
       "2               0.000000                9.836735  \n",
       "3               0.000000                9.960000  \n",
       "4               0.000000               10.280000  \n",
       "...                  ...                     ...  \n",
       "643685          0.000000                0.000000  \n",
       "643686          0.000000                7.121212  \n",
       "643687          1.705882               23.911765  \n",
       "643688          0.000000                0.000000  \n",
       "643689          0.083333                8.133333  \n",
       "\n",
       "[643690 rows x 164 columns]"
      ]
     },
     "execution_count": 10,
     "metadata": {},
     "output_type": "execute_result"
    }
   ],
   "source": [
    "siab"
   ]
  },
  {
   "cell_type": "markdown",
   "id": "1f87e805",
   "metadata": {
    "papermill": {
     "duration": 0.009588,
     "end_time": "2025-08-19T18:31:03.538374",
     "exception": false,
     "start_time": "2025-08-19T18:31:03.528786",
     "status": "completed"
    },
    "tags": []
   },
   "source": [
    "# Splitting Data and Setting Training Data Size"
   ]
  },
  {
   "cell_type": "code",
   "execution_count": 11,
   "id": "910ae358",
   "metadata": {
    "execution": {
     "iopub.execute_input": "2025-08-19T18:31:03.560414Z",
     "iopub.status.busy": "2025-08-19T18:31:03.559137Z",
     "iopub.status.idle": "2025-08-19T18:31:03.800204Z",
     "shell.execute_reply": "2025-08-19T18:31:03.799301Z"
    },
    "papermill": {
     "duration": 0.25524,
     "end_time": "2025-08-19T18:31:03.803383",
     "exception": false,
     "start_time": "2025-08-19T18:31:03.548143",
     "status": "completed"
    },
    "tags": []
   },
   "outputs": [],
   "source": [
    "from fairness_multiverse.universe import sample_by_year_size\n",
    "\n",
    "siab_train = sample_by_year_size(siab,\n",
    "                               training_year=universe[\"training_year\"],\n",
    "                               training_size=universe[\"training_size\"])"
   ]
  },
  {
   "cell_type": "code",
   "execution_count": 12,
   "id": "919c8ff5",
   "metadata": {
    "execution": {
     "iopub.execute_input": "2025-08-19T18:31:03.844602Z",
     "iopub.status.busy": "2025-08-19T18:31:03.843061Z",
     "iopub.status.idle": "2025-08-19T18:31:03.853638Z",
     "shell.execute_reply": "2025-08-19T18:31:03.852232Z"
    },
    "papermill": {
     "duration": 0.026108,
     "end_time": "2025-08-19T18:31:03.855301",
     "exception": false,
     "start_time": "2025-08-19T18:31:03.829193",
     "status": "completed"
    },
    "tags": []
   },
   "outputs": [
    {
     "data": {
      "text/plain": [
       "(5000, 164)"
      ]
     },
     "execution_count": 12,
     "metadata": {},
     "output_type": "execute_result"
    }
   ],
   "source": [
    "siab_train.shape"
   ]
  },
  {
   "cell_type": "code",
   "execution_count": 13,
   "id": "feb13bf4",
   "metadata": {
    "execution": {
     "iopub.execute_input": "2025-08-19T18:31:03.879540Z",
     "iopub.status.busy": "2025-08-19T18:31:03.878328Z",
     "iopub.status.idle": "2025-08-19T18:31:03.893007Z",
     "shell.execute_reply": "2025-08-19T18:31:03.891704Z"
    },
    "papermill": {
     "duration": 0.02801,
     "end_time": "2025-08-19T18:31:03.894950",
     "exception": false,
     "start_time": "2025-08-19T18:31:03.866940",
     "status": "completed"
    },
    "tags": []
   },
   "outputs": [
    {
     "data": {
      "text/plain": [
       "year\n",
       "2014    5000\n",
       "dtype: int64"
      ]
     },
     "metadata": {},
     "output_type": "display_data"
    }
   ],
   "source": [
    "display(siab_train.groupby(\"year\").size())"
   ]
  },
  {
   "cell_type": "code",
   "execution_count": 14,
   "id": "0997782f",
   "metadata": {
    "execution": {
     "iopub.execute_input": "2025-08-19T18:31:03.922068Z",
     "iopub.status.busy": "2025-08-19T18:31:03.920907Z",
     "iopub.status.idle": "2025-08-19T18:31:04.180082Z",
     "shell.execute_reply": "2025-08-19T18:31:04.179191Z"
    },
    "papermill": {
     "duration": 0.272323,
     "end_time": "2025-08-19T18:31:04.181694",
     "exception": false,
     "start_time": "2025-08-19T18:31:03.909371",
     "status": "completed"
    },
    "tags": []
   },
   "outputs": [],
   "source": [
    "#siab_train = siab_s[siab_s.year < 2015]\n",
    "siab_calib = siab[siab.year == 2015]\n",
    "siab_test = siab[siab.year == 2016]"
   ]
  },
  {
   "cell_type": "code",
   "execution_count": 15,
   "id": "2c1e4012",
   "metadata": {
    "execution": {
     "iopub.execute_input": "2025-08-19T18:31:04.227987Z",
     "iopub.status.busy": "2025-08-19T18:31:04.226610Z",
     "iopub.status.idle": "2025-08-19T18:31:04.234010Z",
     "shell.execute_reply": "2025-08-19T18:31:04.232586Z"
    },
    "papermill": {
     "duration": 0.039271,
     "end_time": "2025-08-19T18:31:04.236685",
     "exception": false,
     "start_time": "2025-08-19T18:31:04.197414",
     "status": "completed"
    },
    "tags": []
   },
   "outputs": [],
   "source": [
    "#siab_calib.shape"
   ]
  },
  {
   "cell_type": "code",
   "execution_count": 16,
   "id": "f66b54ca",
   "metadata": {
    "execution": {
     "iopub.execute_input": "2025-08-19T18:31:04.283593Z",
     "iopub.status.busy": "2025-08-19T18:31:04.282836Z",
     "iopub.status.idle": "2025-08-19T18:31:04.290523Z",
     "shell.execute_reply": "2025-08-19T18:31:04.288986Z"
    },
    "papermill": {
     "duration": 0.028748,
     "end_time": "2025-08-19T18:31:04.292812",
     "exception": false,
     "start_time": "2025-08-19T18:31:04.264064",
     "status": "completed"
    },
    "tags": []
   },
   "outputs": [],
   "source": [
    "#siab_test.shape"
   ]
  },
  {
   "cell_type": "code",
   "execution_count": 17,
   "id": "27e4384d",
   "metadata": {
    "execution": {
     "iopub.execute_input": "2025-08-19T18:31:04.317886Z",
     "iopub.status.busy": "2025-08-19T18:31:04.316578Z",
     "iopub.status.idle": "2025-08-19T18:31:04.328790Z",
     "shell.execute_reply": "2025-08-19T18:31:04.327331Z"
    },
    "papermill": {
     "duration": 0.025513,
     "end_time": "2025-08-19T18:31:04.330392",
     "exception": false,
     "start_time": "2025-08-19T18:31:04.304879",
     "status": "completed"
    },
    "tags": []
   },
   "outputs": [],
   "source": [
    "X_train = siab_train.iloc[:,4:164]\n",
    "y_train = siab_train.iloc[:, [3]]"
   ]
  },
  {
   "cell_type": "code",
   "execution_count": 18,
   "id": "08ee8389",
   "metadata": {
    "execution": {
     "iopub.execute_input": "2025-08-19T18:31:04.381080Z",
     "iopub.status.busy": "2025-08-19T18:31:04.380322Z",
     "iopub.status.idle": "2025-08-19T18:31:04.463412Z",
     "shell.execute_reply": "2025-08-19T18:31:04.462390Z"
    },
    "papermill": {
     "duration": 0.104643,
     "end_time": "2025-08-19T18:31:04.466364",
     "exception": false,
     "start_time": "2025-08-19T18:31:04.361721",
     "status": "completed"
    },
    "tags": []
   },
   "outputs": [],
   "source": [
    "X_calib = siab_calib.iloc[:,4:164]\n",
    "y_calib = siab_calib.iloc[:, [3]]"
   ]
  },
  {
   "cell_type": "code",
   "execution_count": 19,
   "id": "b7ff42e0",
   "metadata": {
    "execution": {
     "iopub.execute_input": "2025-08-19T18:31:04.502927Z",
     "iopub.status.busy": "2025-08-19T18:31:04.501529Z",
     "iopub.status.idle": "2025-08-19T18:31:04.558935Z",
     "shell.execute_reply": "2025-08-19T18:31:04.558025Z"
    },
    "papermill": {
     "duration": 0.072854,
     "end_time": "2025-08-19T18:31:04.562063",
     "exception": false,
     "start_time": "2025-08-19T18:31:04.489209",
     "status": "completed"
    },
    "tags": []
   },
   "outputs": [],
   "source": [
    "X_test = siab_test.iloc[:,4:164]\n",
    "y_true = siab_test.iloc[:, [3]]"
   ]
  },
  {
   "cell_type": "code",
   "execution_count": 20,
   "id": "0275101e",
   "metadata": {
    "execution": {
     "iopub.execute_input": "2025-08-19T18:31:04.603286Z",
     "iopub.status.busy": "2025-08-19T18:31:04.601997Z",
     "iopub.status.idle": "2025-08-19T18:31:04.711399Z",
     "shell.execute_reply": "2025-08-19T18:31:04.710481Z"
    },
    "papermill": {
     "duration": 0.125063,
     "end_time": "2025-08-19T18:31:04.713074",
     "exception": false,
     "start_time": "2025-08-19T18:31:04.588011",
     "status": "completed"
    },
    "tags": []
   },
   "outputs": [],
   "source": [
    "# Auxiliary data needed downstream in the pipeline\n",
    "\n",
    "org_train = X_train.copy()\n",
    "org_test = X_test.copy()\n",
    "org_calib = X_calib.copy()"
   ]
  },
  {
   "cell_type": "markdown",
   "id": "b461e618",
   "metadata": {
    "papermill": {
     "duration": 0.010779,
     "end_time": "2025-08-19T18:31:04.734616",
     "exception": false,
     "start_time": "2025-08-19T18:31:04.723837",
     "status": "completed"
    },
    "tags": []
   },
   "source": [
    "# Preprocessing Data"
   ]
  },
  {
   "cell_type": "code",
   "execution_count": 21,
   "id": "78e74c4b",
   "metadata": {
    "execution": {
     "iopub.execute_input": "2025-08-19T18:31:04.758463Z",
     "iopub.status.busy": "2025-08-19T18:31:04.757499Z",
     "iopub.status.idle": "2025-08-19T18:31:04.764379Z",
     "shell.execute_reply": "2025-08-19T18:31:04.763472Z"
    },
    "papermill": {
     "duration": 0.019921,
     "end_time": "2025-08-19T18:31:04.765784",
     "exception": false,
     "start_time": "2025-08-19T18:31:04.745863",
     "status": "completed"
    },
    "tags": []
   },
   "outputs": [],
   "source": [
    "# EXCLUDE PROTECTED FEATURES\n",
    "# --------------------------\n",
    "\n",
    "excluded_features = universe[\"exclude_features\"].split(\"-\")\n",
    "excluded_features_dictionary = {\n",
    "    \"nationality\": [\"maxdeutsch1\", \"maxdeutsch.Missing.\"],\n",
    "    \"sex\": [\"frau1\"],\n",
    "    \"age\": [\"age\"],\n",
    "}"
   ]
  },
  {
   "cell_type": "code",
   "execution_count": 22,
   "id": "f8e63555",
   "metadata": {
    "execution": {
     "iopub.execute_input": "2025-08-19T18:31:04.790909Z",
     "iopub.status.busy": "2025-08-19T18:31:04.790021Z",
     "iopub.status.idle": "2025-08-19T18:31:04.795388Z",
     "shell.execute_reply": "2025-08-19T18:31:04.794370Z"
    },
    "papermill": {
     "duration": 0.019091,
     "end_time": "2025-08-19T18:31:04.797186",
     "exception": false,
     "start_time": "2025-08-19T18:31:04.778095",
     "status": "completed"
    },
    "tags": []
   },
   "outputs": [],
   "source": [
    "excluded_features_columns = [\n",
    "    excluded_features_dictionary[f] for f in excluded_features if len(f) > 0 and f != \"none\"\n",
    "]"
   ]
  },
  {
   "cell_type": "code",
   "execution_count": 23,
   "id": "da781f7c",
   "metadata": {
    "execution": {
     "iopub.execute_input": "2025-08-19T18:31:04.821628Z",
     "iopub.status.busy": "2025-08-19T18:31:04.820685Z",
     "iopub.status.idle": "2025-08-19T18:31:04.827079Z",
     "shell.execute_reply": "2025-08-19T18:31:04.826209Z"
    },
    "papermill": {
     "duration": 0.019713,
     "end_time": "2025-08-19T18:31:04.828418",
     "exception": false,
     "start_time": "2025-08-19T18:31:04.808705",
     "status": "completed"
    },
    "tags": []
   },
   "outputs": [],
   "source": [
    "from fairness_multiverse.universe import flatten_once\n",
    "\n",
    "excluded_features_columns = flatten_once(excluded_features_columns)"
   ]
  },
  {
   "cell_type": "code",
   "execution_count": 24,
   "id": "37fef0f0",
   "metadata": {
    "execution": {
     "iopub.execute_input": "2025-08-19T18:31:04.853388Z",
     "iopub.status.busy": "2025-08-19T18:31:04.852333Z",
     "iopub.status.idle": "2025-08-19T18:31:04.863884Z",
     "shell.execute_reply": "2025-08-19T18:31:04.862626Z"
    },
    "papermill": {
     "duration": 0.024993,
     "end_time": "2025-08-19T18:31:04.865386",
     "exception": false,
     "start_time": "2025-08-19T18:31:04.840393",
     "status": "completed"
    },
    "tags": []
   },
   "outputs": [
    {
     "name": "stdout",
     "output_type": "stream",
     "text": [
      "Dropping features: ['age']\n"
     ]
    }
   ],
   "source": [
    "if len(excluded_features_columns) > 0:\n",
    "    print(f\"Dropping features: {excluded_features_columns}\")\n",
    "    X_train.drop(excluded_features_columns, axis=1, inplace=True)"
   ]
  },
  {
   "cell_type": "code",
   "execution_count": 25,
   "id": "d029e3e9",
   "metadata": {
    "execution": {
     "iopub.execute_input": "2025-08-19T18:31:04.894906Z",
     "iopub.status.busy": "2025-08-19T18:31:04.893517Z",
     "iopub.status.idle": "2025-08-19T18:31:04.952483Z",
     "shell.execute_reply": "2025-08-19T18:31:04.951542Z"
    },
    "papermill": {
     "duration": 0.074487,
     "end_time": "2025-08-19T18:31:04.955681",
     "exception": false,
     "start_time": "2025-08-19T18:31:04.881194",
     "status": "completed"
    },
    "tags": []
   },
   "outputs": [
    {
     "name": "stdout",
     "output_type": "stream",
     "text": [
      "Dropping features: ['age']\n"
     ]
    }
   ],
   "source": [
    "if len(excluded_features_columns) > 0:\n",
    "    print(f\"Dropping features: {excluded_features_columns}\")\n",
    "    X_test.drop(excluded_features_columns, axis=1, inplace=True)"
   ]
  },
  {
   "cell_type": "code",
   "execution_count": 26,
   "id": "01d571f0",
   "metadata": {
    "execution": {
     "iopub.execute_input": "2025-08-19T18:31:04.993951Z",
     "iopub.status.busy": "2025-08-19T18:31:04.992707Z",
     "iopub.status.idle": "2025-08-19T18:31:05.048898Z",
     "shell.execute_reply": "2025-08-19T18:31:05.047918Z"
    },
    "papermill": {
     "duration": 0.072684,
     "end_time": "2025-08-19T18:31:05.051811",
     "exception": false,
     "start_time": "2025-08-19T18:31:04.979127",
     "status": "completed"
    },
    "tags": []
   },
   "outputs": [
    {
     "name": "stdout",
     "output_type": "stream",
     "text": [
      "Dropping features: ['age']\n"
     ]
    }
   ],
   "source": [
    "if len(excluded_features_columns) > 0:\n",
    "    print(f\"Dropping features: {excluded_features_columns}\")\n",
    "    X_calib.drop(excluded_features_columns, axis=1, inplace=True)"
   ]
  },
  {
   "cell_type": "code",
   "execution_count": 27,
   "id": "3037356e",
   "metadata": {
    "execution": {
     "iopub.execute_input": "2025-08-19T18:31:05.090161Z",
     "iopub.status.busy": "2025-08-19T18:31:05.088767Z",
     "iopub.status.idle": "2025-08-19T18:31:05.096935Z",
     "shell.execute_reply": "2025-08-19T18:31:05.095459Z"
    },
    "papermill": {
     "duration": 0.023474,
     "end_time": "2025-08-19T18:31:05.098487",
     "exception": false,
     "start_time": "2025-08-19T18:31:05.075013",
     "status": "completed"
    },
    "tags": []
   },
   "outputs": [],
   "source": [
    "# EXCLUDE CERTAIN SUBGROUPS\n",
    "# -------------------------\n",
    "\n",
    "mode = universe.get(\"exclude_subgroups\", \"keep-all\") # Defaults to \"keep-all\" if the key is missing."
   ]
  },
  {
   "cell_type": "code",
   "execution_count": 28,
   "id": "9d1e63fd",
   "metadata": {
    "execution": {
     "iopub.execute_input": "2025-08-19T18:31:05.137369Z",
     "iopub.status.busy": "2025-08-19T18:31:05.133939Z",
     "iopub.status.idle": "2025-08-19T18:31:05.145335Z",
     "shell.execute_reply": "2025-08-19T18:31:05.144149Z"
    },
    "papermill": {
     "duration": 0.035165,
     "end_time": "2025-08-19T18:31:05.147203",
     "exception": false,
     "start_time": "2025-08-19T18:31:05.112038",
     "status": "completed"
    },
    "tags": []
   },
   "outputs": [],
   "source": [
    "if mode == \"keep-all\":\n",
    "    keep_mask = pd.Series(True, index=org_train.index)\n",
    "\n",
    "elif mode == \"drop-non-german\":\n",
    "    keep_mask = (org_train[\"maxdeutsch1\"] == 1) & (org_train[\"maxdeutsch.Missing.\"] == 0)\n",
    "\n",
    "else:\n",
    "    raise ValueError(f\"Unsupported mode for exclude_subgroups: {mode}\")"
   ]
  },
  {
   "cell_type": "code",
   "execution_count": 29,
   "id": "d3b65474",
   "metadata": {
    "execution": {
     "iopub.execute_input": "2025-08-19T18:31:05.182937Z",
     "iopub.status.busy": "2025-08-19T18:31:05.181944Z",
     "iopub.status.idle": "2025-08-19T18:31:05.189302Z",
     "shell.execute_reply": "2025-08-19T18:31:05.188328Z"
    },
    "papermill": {
     "duration": 0.025508,
     "end_time": "2025-08-19T18:31:05.190674",
     "exception": false,
     "start_time": "2025-08-19T18:31:05.165166",
     "status": "completed"
    },
    "tags": []
   },
   "outputs": [
    {
     "name": "stdout",
     "output_type": "stream",
     "text": [
      "Dropping 741 rows (14.82%) where mode='drop-non-german'\n"
     ]
    }
   ],
   "source": [
    "n_drop = (~keep_mask).sum() # Calculates how many rows are set to be dropped\n",
    "if n_drop > 0:\n",
    "    pct = n_drop / len(keep_mask) * 100\n",
    "    print(f\"Dropping {n_drop} rows ({pct:.2f}%) where mode='{mode}'\")"
   ]
  },
  {
   "cell_type": "code",
   "execution_count": 30,
   "id": "f44389b3",
   "metadata": {
    "execution": {
     "iopub.execute_input": "2025-08-19T18:31:05.216544Z",
     "iopub.status.busy": "2025-08-19T18:31:05.216036Z",
     "iopub.status.idle": "2025-08-19T18:31:05.223533Z",
     "shell.execute_reply": "2025-08-19T18:31:05.222590Z"
    },
    "papermill": {
     "duration": 0.020901,
     "end_time": "2025-08-19T18:31:05.224801",
     "exception": false,
     "start_time": "2025-08-19T18:31:05.203900",
     "status": "completed"
    },
    "tags": []
   },
   "outputs": [],
   "source": [
    "X_train = X_train[keep_mask]"
   ]
  },
  {
   "cell_type": "code",
   "execution_count": 31,
   "id": "ceca8c2a",
   "metadata": {
    "execution": {
     "iopub.execute_input": "2025-08-19T18:31:05.251168Z",
     "iopub.status.busy": "2025-08-19T18:31:05.250653Z",
     "iopub.status.idle": "2025-08-19T18:31:05.256949Z",
     "shell.execute_reply": "2025-08-19T18:31:05.256068Z"
    },
    "papermill": {
     "duration": 0.020598,
     "end_time": "2025-08-19T18:31:05.258114",
     "exception": false,
     "start_time": "2025-08-19T18:31:05.237516",
     "status": "completed"
    },
    "tags": []
   },
   "outputs": [],
   "source": [
    "y_train = y_train[keep_mask]"
   ]
  },
  {
   "cell_type": "markdown",
   "id": "04d31e2f",
   "metadata": {
    "papermill": {
     "duration": 0.010924,
     "end_time": "2025-08-19T18:31:05.279677",
     "exception": false,
     "start_time": "2025-08-19T18:31:05.268753",
     "status": "completed"
    },
    "tags": []
   },
   "source": [
    "# Model Training"
   ]
  },
  {
   "cell_type": "code",
   "execution_count": 32,
   "id": "db991733",
   "metadata": {
    "execution": {
     "iopub.execute_input": "2025-08-19T18:31:05.303708Z",
     "iopub.status.busy": "2025-08-19T18:31:05.303121Z",
     "iopub.status.idle": "2025-08-19T18:31:05.411829Z",
     "shell.execute_reply": "2025-08-19T18:31:05.410952Z"
    },
    "papermill": {
     "duration": 0.122515,
     "end_time": "2025-08-19T18:31:05.413638",
     "exception": false,
     "start_time": "2025-08-19T18:31:05.291123",
     "status": "completed"
    },
    "tags": []
   },
   "outputs": [],
   "source": [
    "from sklearn.linear_model import LogisticRegression\n",
    "from sklearn.ensemble import GradientBoostingClassifier, RandomForestClassifier\n",
    "\n",
    "if (universe[\"model\"] == \"logreg\"):\n",
    "    model = LogisticRegression() #penalty=\"none\", solver=\"newton-cg\", max_iter=1)\n",
    "elif (universe[\"model\"] == \"penalized_logreg\"):\n",
    "    model = LogisticRegression(penalty=\"l2\", C=0.1) #, solver=\"newton-cg\", max_iter=1)\n",
    "elif (universe[\"model\"] == \"rf\"):\n",
    "    model = RandomForestClassifier() # n_estimators=100, n_jobs=-1\n",
    "elif (universe[\"model\"] == \"gbm\"):\n",
    "    model = GradientBoostingClassifier()\n",
    "elif (universe[\"model\"] == \"elasticnet\"):\n",
    "    model = LogisticRegression(penalty = 'elasticnet', solver = 'saga', l1_ratio = 0.5) # max_iter=5000\n",
    "else:\n",
    "    raise \"Unsupported universe.model\""
   ]
  },
  {
   "cell_type": "code",
   "execution_count": 33,
   "id": "a4b5cd25",
   "metadata": {
    "execution": {
     "iopub.execute_input": "2025-08-19T18:31:05.438426Z",
     "iopub.status.busy": "2025-08-19T18:31:05.437449Z",
     "iopub.status.idle": "2025-08-19T18:31:05.445311Z",
     "shell.execute_reply": "2025-08-19T18:31:05.444048Z"
    },
    "papermill": {
     "duration": 0.022002,
     "end_time": "2025-08-19T18:31:05.446856",
     "exception": false,
     "start_time": "2025-08-19T18:31:05.424854",
     "status": "completed"
    },
    "tags": []
   },
   "outputs": [],
   "source": [
    "from sklearn.pipeline import Pipeline\n",
    "from sklearn.preprocessing import StandardScaler\n",
    "\n",
    "model = Pipeline([\n",
    "    #(\"continuous_processor\", continuous_processor),\n",
    "    #(\"categorical_preprocessor\", categorical_preprocessor),\n",
    "    (\"scale\", StandardScaler() if universe[\"scale\"] == \"scale\" else None), \n",
    "    (\"model\", model),\n",
    "])"
   ]
  },
  {
   "cell_type": "code",
   "execution_count": 34,
   "id": "283a904d",
   "metadata": {
    "execution": {
     "iopub.execute_input": "2025-08-19T18:31:05.495840Z",
     "iopub.status.busy": "2025-08-19T18:31:05.494850Z",
     "iopub.status.idle": "2025-08-19T18:31:06.706934Z",
     "shell.execute_reply": "2025-08-19T18:31:06.705809Z"
    },
    "papermill": {
     "duration": 1.233744,
     "end_time": "2025-08-19T18:31:06.708355",
     "exception": false,
     "start_time": "2025-08-19T18:31:05.474611",
     "status": "completed"
    },
    "tags": []
   },
   "outputs": [
    {
     "name": "stderr",
     "output_type": "stream",
     "text": [
      "/dss/dsshome1/0C/ra93lal2/.local/share/virtualenvs/CMA_Fairness_v2-3j10GkSs/lib/python3.10/site-packages/sklearn/linear_model/_sag.py:350: ConvergenceWarning: The max_iter was reached which means the coef_ did not converge\n",
      "  warnings.warn(\n"
     ]
    },
    {
     "data": {
      "text/html": [
       "<style>#sk-container-id-1 {color: black;background-color: white;}#sk-container-id-1 pre{padding: 0;}#sk-container-id-1 div.sk-toggleable {background-color: white;}#sk-container-id-1 label.sk-toggleable__label {cursor: pointer;display: block;width: 100%;margin-bottom: 0;padding: 0.3em;box-sizing: border-box;text-align: center;}#sk-container-id-1 label.sk-toggleable__label-arrow:before {content: \"▸\";float: left;margin-right: 0.25em;color: #696969;}#sk-container-id-1 label.sk-toggleable__label-arrow:hover:before {color: black;}#sk-container-id-1 div.sk-estimator:hover label.sk-toggleable__label-arrow:before {color: black;}#sk-container-id-1 div.sk-toggleable__content {max-height: 0;max-width: 0;overflow: hidden;text-align: left;background-color: #f0f8ff;}#sk-container-id-1 div.sk-toggleable__content pre {margin: 0.2em;color: black;border-radius: 0.25em;background-color: #f0f8ff;}#sk-container-id-1 input.sk-toggleable__control:checked~div.sk-toggleable__content {max-height: 200px;max-width: 100%;overflow: auto;}#sk-container-id-1 input.sk-toggleable__control:checked~label.sk-toggleable__label-arrow:before {content: \"▾\";}#sk-container-id-1 div.sk-estimator input.sk-toggleable__control:checked~label.sk-toggleable__label {background-color: #d4ebff;}#sk-container-id-1 div.sk-label input.sk-toggleable__control:checked~label.sk-toggleable__label {background-color: #d4ebff;}#sk-container-id-1 input.sk-hidden--visually {border: 0;clip: rect(1px 1px 1px 1px);clip: rect(1px, 1px, 1px, 1px);height: 1px;margin: -1px;overflow: hidden;padding: 0;position: absolute;width: 1px;}#sk-container-id-1 div.sk-estimator {font-family: monospace;background-color: #f0f8ff;border: 1px dotted black;border-radius: 0.25em;box-sizing: border-box;margin-bottom: 0.5em;}#sk-container-id-1 div.sk-estimator:hover {background-color: #d4ebff;}#sk-container-id-1 div.sk-parallel-item::after {content: \"\";width: 100%;border-bottom: 1px solid gray;flex-grow: 1;}#sk-container-id-1 div.sk-label:hover label.sk-toggleable__label {background-color: #d4ebff;}#sk-container-id-1 div.sk-serial::before {content: \"\";position: absolute;border-left: 1px solid gray;box-sizing: border-box;top: 0;bottom: 0;left: 50%;z-index: 0;}#sk-container-id-1 div.sk-serial {display: flex;flex-direction: column;align-items: center;background-color: white;padding-right: 0.2em;padding-left: 0.2em;position: relative;}#sk-container-id-1 div.sk-item {position: relative;z-index: 1;}#sk-container-id-1 div.sk-parallel {display: flex;align-items: stretch;justify-content: center;background-color: white;position: relative;}#sk-container-id-1 div.sk-item::before, #sk-container-id-1 div.sk-parallel-item::before {content: \"\";position: absolute;border-left: 1px solid gray;box-sizing: border-box;top: 0;bottom: 0;left: 50%;z-index: -1;}#sk-container-id-1 div.sk-parallel-item {display: flex;flex-direction: column;z-index: 1;position: relative;background-color: white;}#sk-container-id-1 div.sk-parallel-item:first-child::after {align-self: flex-end;width: 50%;}#sk-container-id-1 div.sk-parallel-item:last-child::after {align-self: flex-start;width: 50%;}#sk-container-id-1 div.sk-parallel-item:only-child::after {width: 0;}#sk-container-id-1 div.sk-dashed-wrapped {border: 1px dashed gray;margin: 0 0.4em 0.5em 0.4em;box-sizing: border-box;padding-bottom: 0.4em;background-color: white;}#sk-container-id-1 div.sk-label label {font-family: monospace;font-weight: bold;display: inline-block;line-height: 1.2em;}#sk-container-id-1 div.sk-label-container {text-align: center;}#sk-container-id-1 div.sk-container {/* jupyter's `normalize.less` sets `[hidden] { display: none; }` but bootstrap.min.css set `[hidden] { display: none !important; }` so we also need the `!important` here to be able to override the default hidden behavior on the sphinx rendered scikit-learn.org. See: https://github.com/scikit-learn/scikit-learn/issues/21755 */display: inline-block !important;position: relative;}#sk-container-id-1 div.sk-text-repr-fallback {display: none;}</style><div id=\"sk-container-id-1\" class=\"sk-top-container\"><div class=\"sk-text-repr-fallback\"><pre>Pipeline(steps=[(&#x27;scale&#x27;, None),\n",
       "                (&#x27;model&#x27;,\n",
       "                 LogisticRegression(l1_ratio=0.5, penalty=&#x27;elasticnet&#x27;,\n",
       "                                    solver=&#x27;saga&#x27;))])</pre><b>In a Jupyter environment, please rerun this cell to show the HTML representation or trust the notebook. <br />On GitHub, the HTML representation is unable to render, please try loading this page with nbviewer.org.</b></div><div class=\"sk-container\" hidden><div class=\"sk-item sk-dashed-wrapped\"><div class=\"sk-label-container\"><div class=\"sk-label sk-toggleable\"><input class=\"sk-toggleable__control sk-hidden--visually\" id=\"sk-estimator-id-1\" type=\"checkbox\" ><label for=\"sk-estimator-id-1\" class=\"sk-toggleable__label sk-toggleable__label-arrow\">Pipeline</label><div class=\"sk-toggleable__content\"><pre>Pipeline(steps=[(&#x27;scale&#x27;, None),\n",
       "                (&#x27;model&#x27;,\n",
       "                 LogisticRegression(l1_ratio=0.5, penalty=&#x27;elasticnet&#x27;,\n",
       "                                    solver=&#x27;saga&#x27;))])</pre></div></div></div><div class=\"sk-serial\"><div class=\"sk-item\"><div class=\"sk-estimator sk-toggleable\"><input class=\"sk-toggleable__control sk-hidden--visually\" id=\"sk-estimator-id-2\" type=\"checkbox\" ><label for=\"sk-estimator-id-2\" class=\"sk-toggleable__label sk-toggleable__label-arrow\">None</label><div class=\"sk-toggleable__content\"><pre>None</pre></div></div></div><div class=\"sk-item\"><div class=\"sk-estimator sk-toggleable\"><input class=\"sk-toggleable__control sk-hidden--visually\" id=\"sk-estimator-id-3\" type=\"checkbox\" ><label for=\"sk-estimator-id-3\" class=\"sk-toggleable__label sk-toggleable__label-arrow\">LogisticRegression</label><div class=\"sk-toggleable__content\"><pre>LogisticRegression(l1_ratio=0.5, penalty=&#x27;elasticnet&#x27;, solver=&#x27;saga&#x27;)</pre></div></div></div></div></div></div></div>"
      ],
      "text/plain": [
       "Pipeline(steps=[('scale', None),\n",
       "                ('model',\n",
       "                 LogisticRegression(l1_ratio=0.5, penalty='elasticnet',\n",
       "                                    solver='saga'))])"
      ]
     },
     "execution_count": 34,
     "metadata": {},
     "output_type": "execute_result"
    }
   ],
   "source": [
    "model.fit(X_train, y_train.values.ravel())"
   ]
  },
  {
   "cell_type": "code",
   "execution_count": 35,
   "id": "6e15e313",
   "metadata": {
    "execution": {
     "iopub.execute_input": "2025-08-19T18:31:06.734335Z",
     "iopub.status.busy": "2025-08-19T18:31:06.733093Z",
     "iopub.status.idle": "2025-08-19T18:31:06.837218Z",
     "shell.execute_reply": "2025-08-19T18:31:06.836100Z"
    },
    "papermill": {
     "duration": 0.119288,
     "end_time": "2025-08-19T18:31:06.839893",
     "exception": false,
     "start_time": "2025-08-19T18:31:06.720605",
     "status": "completed"
    },
    "tags": []
   },
   "outputs": [
    {
     "data": {
      "text/plain": [
       "0.8613532493590458"
      ]
     },
     "execution_count": 35,
     "metadata": {},
     "output_type": "execute_result"
    }
   ],
   "source": [
    "from fairness_multiverse.universe import predict_w_threshold\n",
    "\n",
    "probs_test = model.predict_proba(X_test)\n",
    "\n",
    "'''\n",
    "Below code returns a boolean array (or binary 0/1 array depending on how it’s used) where each element \n",
    "is True if the probability of class 1 is greater than or equal to the threshold, and False otherwise.\n",
    "'''\n",
    "y_pred_default = predict_w_threshold(probs_test, 0.5)\n",
    "\n",
    "from sklearn.metrics import accuracy_score\n",
    "\n",
    "# Naive prediction\n",
    "accuracy_score(y_true = y_true, y_pred = y_pred_default)"
   ]
  },
  {
   "cell_type": "code",
   "execution_count": 36,
   "id": "6f14067c",
   "metadata": {
    "execution": {
     "iopub.execute_input": "2025-08-19T18:31:06.894308Z",
     "iopub.status.busy": "2025-08-19T18:31:06.893785Z",
     "iopub.status.idle": "2025-08-19T18:31:06.982436Z",
     "shell.execute_reply": "2025-08-19T18:31:06.981516Z"
    },
    "papermill": {
     "duration": 0.110582,
     "end_time": "2025-08-19T18:31:06.984139",
     "exception": false,
     "start_time": "2025-08-19T18:31:06.873557",
     "status": "completed"
    },
    "tags": []
   },
   "outputs": [
    {
     "data": {
      "text/plain": [
       "array([0, 0, 0, ..., 0, 0, 0])"
      ]
     },
     "execution_count": 36,
     "metadata": {},
     "output_type": "execute_result"
    }
   ],
   "source": [
    "model.predict(X_test)"
   ]
  },
  {
   "cell_type": "markdown",
   "id": "3759920c",
   "metadata": {
    "papermill": {
     "duration": 0.014265,
     "end_time": "2025-08-19T18:31:07.013031",
     "exception": false,
     "start_time": "2025-08-19T18:31:06.998766",
     "status": "completed"
    },
    "tags": []
   },
   "source": [
    "# Conformal Prediction"
   ]
  },
  {
   "cell_type": "code",
   "execution_count": 37,
   "id": "14b27f59",
   "metadata": {
    "execution": {
     "iopub.execute_input": "2025-08-19T18:31:07.050797Z",
     "iopub.status.busy": "2025-08-19T18:31:07.050312Z",
     "iopub.status.idle": "2025-08-19T18:31:07.057603Z",
     "shell.execute_reply": "2025-08-19T18:31:07.056186Z"
    },
    "papermill": {
     "duration": 0.034942,
     "end_time": "2025-08-19T18:31:07.059590",
     "exception": false,
     "start_time": "2025-08-19T18:31:07.024648",
     "status": "completed"
    },
    "tags": []
   },
   "outputs": [],
   "source": [
    "# Miscoverage level for conformal prediction (10% allowed error rate => 90% target coverage)\n",
    "alpha = 0.1"
   ]
  },
  {
   "cell_type": "code",
   "execution_count": 38,
   "id": "59102472",
   "metadata": {
    "execution": {
     "iopub.execute_input": "2025-08-19T18:31:07.102709Z",
     "iopub.status.busy": "2025-08-19T18:31:07.101542Z",
     "iopub.status.idle": "2025-08-19T18:31:07.205983Z",
     "shell.execute_reply": "2025-08-19T18:31:07.203874Z"
    },
    "papermill": {
     "duration": 0.129712,
     "end_time": "2025-08-19T18:31:07.207414",
     "exception": false,
     "start_time": "2025-08-19T18:31:07.077702",
     "status": "completed"
    },
    "tags": []
   },
   "outputs": [],
   "source": [
    "probs_calib = model.predict_proba(X_calib)"
   ]
  },
  {
   "cell_type": "code",
   "execution_count": 39,
   "id": "a792d4dd",
   "metadata": {
    "execution": {
     "iopub.execute_input": "2025-08-19T18:31:07.236033Z",
     "iopub.status.busy": "2025-08-19T18:31:07.232541Z",
     "iopub.status.idle": "2025-08-19T18:31:07.245090Z",
     "shell.execute_reply": "2025-08-19T18:31:07.243258Z"
    },
    "papermill": {
     "duration": 0.027281,
     "end_time": "2025-08-19T18:31:07.246653",
     "exception": false,
     "start_time": "2025-08-19T18:31:07.219372",
     "status": "completed"
    },
    "tags": []
   },
   "outputs": [],
   "source": [
    "y_calib = y_calib.values.ravel().astype(int)"
   ]
  },
  {
   "cell_type": "code",
   "execution_count": 40,
   "id": "650fd033",
   "metadata": {
    "execution": {
     "iopub.execute_input": "2025-08-19T18:31:07.278639Z",
     "iopub.status.busy": "2025-08-19T18:31:07.278147Z",
     "iopub.status.idle": "2025-08-19T18:31:07.285216Z",
     "shell.execute_reply": "2025-08-19T18:31:07.284546Z"
    },
    "papermill": {
     "duration": 0.02334,
     "end_time": "2025-08-19T18:31:07.286591",
     "exception": false,
     "start_time": "2025-08-19T18:31:07.263251",
     "status": "completed"
    },
    "tags": []
   },
   "outputs": [],
   "source": [
    "from fairness_multiverse.conformal import compute_nc_scores\n",
    "\n",
    "# Compute nonconformity scores on calibration set (1 - probability of true class)\n",
    "nc_scores = compute_nc_scores(probs_calib, y_calib)"
   ]
  },
  {
   "cell_type": "code",
   "execution_count": 41,
   "id": "28ada44c",
   "metadata": {
    "execution": {
     "iopub.execute_input": "2025-08-19T18:31:07.312331Z",
     "iopub.status.busy": "2025-08-19T18:31:07.311856Z",
     "iopub.status.idle": "2025-08-19T18:31:07.320015Z",
     "shell.execute_reply": "2025-08-19T18:31:07.318389Z"
    },
    "papermill": {
     "duration": 0.02278,
     "end_time": "2025-08-19T18:31:07.321907",
     "exception": false,
     "start_time": "2025-08-19T18:31:07.299127",
     "status": "completed"
    },
    "tags": []
   },
   "outputs": [],
   "source": [
    "from fairness_multiverse.conformal import find_threshold\n",
    "\n",
    "# Find conformal threshold q_hat for the given alpha (split conformal method)\n",
    "q_hat = find_threshold(nc_scores, alpha)"
   ]
  },
  {
   "cell_type": "code",
   "execution_count": 42,
   "id": "df56469e",
   "metadata": {
    "execution": {
     "iopub.execute_input": "2025-08-19T18:31:07.351452Z",
     "iopub.status.busy": "2025-08-19T18:31:07.350545Z",
     "iopub.status.idle": "2025-08-19T18:31:07.358785Z",
     "shell.execute_reply": "2025-08-19T18:31:07.357607Z"
    },
    "papermill": {
     "duration": 0.029687,
     "end_time": "2025-08-19T18:31:07.366542",
     "exception": false,
     "start_time": "2025-08-19T18:31:07.336855",
     "status": "completed"
    },
    "tags": []
   },
   "outputs": [
    {
     "data": {
      "text/plain": [
       "0.6369976619537158"
      ]
     },
     "execution_count": 42,
     "metadata": {},
     "output_type": "execute_result"
    }
   ],
   "source": [
    "q_hat"
   ]
  },
  {
   "cell_type": "code",
   "execution_count": 43,
   "id": "aa1f5faa",
   "metadata": {
    "execution": {
     "iopub.execute_input": "2025-08-19T18:31:07.398192Z",
     "iopub.status.busy": "2025-08-19T18:31:07.396883Z",
     "iopub.status.idle": "2025-08-19T18:31:08.009849Z",
     "shell.execute_reply": "2025-08-19T18:31:08.008856Z"
    },
    "papermill": {
     "duration": 0.629119,
     "end_time": "2025-08-19T18:31:08.011519",
     "exception": false,
     "start_time": "2025-08-19T18:31:07.382400",
     "status": "completed"
    },
    "tags": []
   },
   "outputs": [],
   "source": [
    "from fairness_multiverse.conformal import predict_conformal_sets\n",
    "\n",
    "# Generate prediction sets for each test example\n",
    "pred_sets = predict_conformal_sets(model, X_test, q_hat)"
   ]
  },
  {
   "cell_type": "code",
   "execution_count": 44,
   "id": "97f67a6b",
   "metadata": {
    "execution": {
     "iopub.execute_input": "2025-08-19T18:31:08.056906Z",
     "iopub.status.busy": "2025-08-19T18:31:08.055522Z",
     "iopub.status.idle": "2025-08-19T18:31:08.065683Z",
     "shell.execute_reply": "2025-08-19T18:31:08.063548Z"
    },
    "papermill": {
     "duration": 0.037586,
     "end_time": "2025-08-19T18:31:08.067498",
     "exception": false,
     "start_time": "2025-08-19T18:31:08.029912",
     "status": "completed"
    },
    "tags": []
   },
   "outputs": [],
   "source": [
    "y_true = y_true.squeeze()"
   ]
  },
  {
   "cell_type": "code",
   "execution_count": 45,
   "id": "e700e9a7",
   "metadata": {
    "execution": {
     "iopub.execute_input": "2025-08-19T18:31:08.119718Z",
     "iopub.status.busy": "2025-08-19T18:31:08.118380Z",
     "iopub.status.idle": "2025-08-19T18:31:08.658032Z",
     "shell.execute_reply": "2025-08-19T18:31:08.657376Z"
    },
    "papermill": {
     "duration": 0.573001,
     "end_time": "2025-08-19T18:31:08.659392",
     "exception": false,
     "start_time": "2025-08-19T18:31:08.086391",
     "status": "completed"
    },
    "tags": []
   },
   "outputs": [],
   "source": [
    "from fairness_multiverse.conformal import evaluate_sets\n",
    "\n",
    "# Evaluate coverage and average set size on test data\n",
    "metrics = evaluate_sets(pred_sets, y_true)"
   ]
  },
  {
   "cell_type": "markdown",
   "id": "efbacec0",
   "metadata": {
    "papermill": {
     "duration": 0.011304,
     "end_time": "2025-08-19T18:31:08.682885",
     "exception": false,
     "start_time": "2025-08-19T18:31:08.671581",
     "status": "completed"
    },
    "tags": []
   },
   "source": [
    "# CP Metrics"
   ]
  },
  {
   "cell_type": "code",
   "execution_count": 46,
   "id": "9de55fb1",
   "metadata": {
    "execution": {
     "iopub.execute_input": "2025-08-19T18:31:08.709514Z",
     "iopub.status.busy": "2025-08-19T18:31:08.708343Z",
     "iopub.status.idle": "2025-08-19T18:31:08.728124Z",
     "shell.execute_reply": "2025-08-19T18:31:08.726856Z"
    },
    "papermill": {
     "duration": 0.035275,
     "end_time": "2025-08-19T18:31:08.730138",
     "exception": false,
     "start_time": "2025-08-19T18:31:08.694863",
     "status": "completed"
    },
    "tags": []
   },
   "outputs": [
    {
     "data": {
      "text/plain": [
       "{'coverage': 0.9120499386913388, 'avg_size': 1.2703043139003456}"
      ]
     },
     "execution_count": 46,
     "metadata": {},
     "output_type": "execute_result"
    }
   ],
   "source": [
    "metrics"
   ]
  },
  {
   "cell_type": "code",
   "execution_count": 47,
   "id": "64c340a1",
   "metadata": {
    "execution": {
     "iopub.execute_input": "2025-08-19T18:31:08.765143Z",
     "iopub.status.busy": "2025-08-19T18:31:08.759059Z",
     "iopub.status.idle": "2025-08-19T18:31:08.770022Z",
     "shell.execute_reply": "2025-08-19T18:31:08.769189Z"
    },
    "papermill": {
     "duration": 0.02512,
     "end_time": "2025-08-19T18:31:08.771887",
     "exception": false,
     "start_time": "2025-08-19T18:31:08.746767",
     "status": "completed"
    },
    "tags": []
   },
   "outputs": [],
   "source": [
    "example_universe = universe.copy()\n",
    "universe_training_year = example_universe.get(\"training_year\")\n",
    "universe_training_size = example_universe.get(\"training_size\")\n",
    "universe_scale = example_universe.get(\"scale\")\n",
    "universe_model = example_universe.get(\"model\")\n",
    "universe_exclude_features = example_universe.get(\"exclude_features\")\n",
    "universe_exclude_subgroups = example_universe.get(\"exclude_subgroups\")"
   ]
  },
  {
   "cell_type": "code",
   "execution_count": 48,
   "id": "dbb53cb4",
   "metadata": {
    "execution": {
     "iopub.execute_input": "2025-08-19T18:31:08.797927Z",
     "iopub.status.busy": "2025-08-19T18:31:08.797498Z",
     "iopub.status.idle": "2025-08-19T18:31:08.802576Z",
     "shell.execute_reply": "2025-08-19T18:31:08.801850Z"
    },
    "papermill": {
     "duration": 0.018953,
     "end_time": "2025-08-19T18:31:08.803948",
     "exception": false,
     "start_time": "2025-08-19T18:31:08.784995",
     "status": "completed"
    },
    "tags": []
   },
   "outputs": [],
   "source": [
    "cp_metrics_dict = {\n",
    "    \"universe_id\": [universe_id],\n",
    "    \"universe_training_year\": [universe_training_year],\n",
    "    \"universe_training_size\": [universe_training_size],\n",
    "    \"universe_scale\": [universe_scale],\n",
    "    \"universe_model\": [universe_model],\n",
    "    \"universe_exclude_features\": [universe_exclude_features],\n",
    "    \"universe_exclude_subgroups\": [universe_exclude_subgroups],\n",
    "    \"q_hat\": [q_hat],\n",
    "    \"coverage\": [metrics[\"coverage\"]],\n",
    "    \"avg_size\": [metrics[\"avg_size\"]],\n",
    "}"
   ]
  },
  {
   "cell_type": "code",
   "execution_count": 49,
   "id": "0d70d4b2",
   "metadata": {
    "execution": {
     "iopub.execute_input": "2025-08-19T18:31:08.829414Z",
     "iopub.status.busy": "2025-08-19T18:31:08.828999Z",
     "iopub.status.idle": "2025-08-19T18:31:08.833568Z",
     "shell.execute_reply": "2025-08-19T18:31:08.832996Z"
    },
    "papermill": {
     "duration": 0.021608,
     "end_time": "2025-08-19T18:31:08.837778",
     "exception": false,
     "start_time": "2025-08-19T18:31:08.816170",
     "status": "completed"
    },
    "tags": []
   },
   "outputs": [],
   "source": [
    "cp_metrics_df = pd.DataFrame(cp_metrics_dict)"
   ]
  },
  {
   "cell_type": "code",
   "execution_count": 50,
   "id": "b494403c",
   "metadata": {
    "execution": {
     "iopub.execute_input": "2025-08-19T18:31:08.863521Z",
     "iopub.status.busy": "2025-08-19T18:31:08.863049Z",
     "iopub.status.idle": "2025-08-19T18:31:08.877466Z",
     "shell.execute_reply": "2025-08-19T18:31:08.875861Z"
    },
    "papermill": {
     "duration": 0.028722,
     "end_time": "2025-08-19T18:31:08.879035",
     "exception": false,
     "start_time": "2025-08-19T18:31:08.850313",
     "status": "completed"
    },
    "tags": []
   },
   "outputs": [
    {
     "data": {
      "text/html": [
       "<div>\n",
       "<style scoped>\n",
       "    .dataframe tbody tr th:only-of-type {\n",
       "        vertical-align: middle;\n",
       "    }\n",
       "\n",
       "    .dataframe tbody tr th {\n",
       "        vertical-align: top;\n",
       "    }\n",
       "\n",
       "    .dataframe thead th {\n",
       "        text-align: right;\n",
       "    }\n",
       "</style>\n",
       "<table border=\"1\" class=\"dataframe\">\n",
       "  <thead>\n",
       "    <tr style=\"text-align: right;\">\n",
       "      <th></th>\n",
       "      <th>universe_id</th>\n",
       "      <th>universe_training_year</th>\n",
       "      <th>universe_training_size</th>\n",
       "      <th>universe_scale</th>\n",
       "      <th>universe_model</th>\n",
       "      <th>universe_exclude_features</th>\n",
       "      <th>universe_exclude_subgroups</th>\n",
       "      <th>q_hat</th>\n",
       "      <th>coverage</th>\n",
       "      <th>avg_size</th>\n",
       "    </tr>\n",
       "  </thead>\n",
       "  <tbody>\n",
       "    <tr>\n",
       "      <th>0</th>\n",
       "      <td>7cd5f5999ea85f41ef62929c9b77ac22</td>\n",
       "      <td>2014</td>\n",
       "      <td>5k</td>\n",
       "      <td>do-not-scale</td>\n",
       "      <td>elasticnet</td>\n",
       "      <td>age</td>\n",
       "      <td>drop-non-german</td>\n",
       "      <td>0.636998</td>\n",
       "      <td>0.91205</td>\n",
       "      <td>1.270304</td>\n",
       "    </tr>\n",
       "  </tbody>\n",
       "</table>\n",
       "</div>"
      ],
      "text/plain": [
       "                        universe_id universe_training_year  \\\n",
       "0  7cd5f5999ea85f41ef62929c9b77ac22                   2014   \n",
       "\n",
       "  universe_training_size universe_scale universe_model  \\\n",
       "0                     5k   do-not-scale     elasticnet   \n",
       "\n",
       "  universe_exclude_features universe_exclude_subgroups     q_hat  coverage  \\\n",
       "0                       age            drop-non-german  0.636998   0.91205   \n",
       "\n",
       "   avg_size  \n",
       "0  1.270304  "
      ]
     },
     "execution_count": 50,
     "metadata": {},
     "output_type": "execute_result"
    }
   ],
   "source": [
    "cp_metrics_df"
   ]
  },
  {
   "cell_type": "markdown",
   "id": "ed608b0b",
   "metadata": {
    "papermill": {
     "duration": 0.012122,
     "end_time": "2025-08-19T18:31:08.906107",
     "exception": false,
     "start_time": "2025-08-19T18:31:08.893985",
     "status": "completed"
    },
    "tags": []
   },
   "source": [
    "Conditional coverage & looking at subgroups"
   ]
  },
  {
   "cell_type": "code",
   "execution_count": 51,
   "id": "8968c366",
   "metadata": {
    "execution": {
     "iopub.execute_input": "2025-08-19T18:31:08.932666Z",
     "iopub.status.busy": "2025-08-19T18:31:08.931313Z",
     "iopub.status.idle": "2025-08-19T18:31:09.193468Z",
     "shell.execute_reply": "2025-08-19T18:31:09.192244Z"
    },
    "papermill": {
     "duration": 0.277361,
     "end_time": "2025-08-19T18:31:09.195176",
     "exception": false,
     "start_time": "2025-08-19T18:31:08.917815",
     "status": "completed"
    },
    "tags": []
   },
   "outputs": [],
   "source": [
    "from fairness_multiverse.conformal import build_cp_groups\n",
    "\n",
    "cp_groups_df = build_cp_groups(pred_sets, y_true, X_test.index, org_test)"
   ]
  },
  {
   "cell_type": "code",
   "execution_count": 52,
   "id": "292ddabf",
   "metadata": {
    "execution": {
     "iopub.execute_input": "2025-08-19T18:31:09.223320Z",
     "iopub.status.busy": "2025-08-19T18:31:09.222341Z",
     "iopub.status.idle": "2025-08-19T18:31:10.110102Z",
     "shell.execute_reply": "2025-08-19T18:31:10.108877Z"
    },
    "papermill": {
     "duration": 0.903751,
     "end_time": "2025-08-19T18:31:10.111968",
     "exception": false,
     "start_time": "2025-08-19T18:31:09.208217",
     "status": "completed"
    },
    "tags": []
   },
   "outputs": [],
   "source": [
    "# Define covered = 1 if true_label is in the predicted set\n",
    "cp_groups_df['covered'] = cp_groups_df.apply(\n",
    "    lambda r: int(r['true_label'] in r['pred_set']),\n",
    "    axis=1\n",
    ")"
   ]
  },
  {
   "cell_type": "code",
   "execution_count": 53,
   "id": "3a261692",
   "metadata": {
    "execution": {
     "iopub.execute_input": "2025-08-19T18:31:10.147146Z",
     "iopub.status.busy": "2025-08-19T18:31:10.145309Z",
     "iopub.status.idle": "2025-08-19T18:31:10.173988Z",
     "shell.execute_reply": "2025-08-19T18:31:10.173120Z"
    },
    "papermill": {
     "duration": 0.052118,
     "end_time": "2025-08-19T18:31:10.177990",
     "exception": false,
     "start_time": "2025-08-19T18:31:10.125872",
     "status": "completed"
    },
    "tags": []
   },
   "outputs": [],
   "source": [
    "subgroups = ['frau1','nongerman','nongerman_male','nongerman_female']\n",
    "\n",
    "# Conditional coverage for subgroup==1\n",
    "cond_coverage = {\n",
    "    g: cp_groups_df.loc[cp_groups_df[g]==1, 'covered'].mean()\n",
    "    for g in subgroups\n",
    "}"
   ]
  },
  {
   "cell_type": "code",
   "execution_count": 54,
   "id": "894fd600",
   "metadata": {
    "execution": {
     "iopub.execute_input": "2025-08-19T18:31:10.212848Z",
     "iopub.status.busy": "2025-08-19T18:31:10.211393Z",
     "iopub.status.idle": "2025-08-19T18:31:10.240907Z",
     "shell.execute_reply": "2025-08-19T18:31:10.224613Z"
    },
    "papermill": {
     "duration": 0.047486,
     "end_time": "2025-08-19T18:31:10.243906",
     "exception": false,
     "start_time": "2025-08-19T18:31:10.196420",
     "status": "completed"
    },
    "tags": []
   },
   "outputs": [
    {
     "data": {
      "text/plain": [
       "{'frau1': 0.9088556409219571,\n",
       " 'nongerman': 0.9627238533655196,\n",
       " 'nongerman_male': 0.9718994866252364,\n",
       " 'nongerman_female': 0.9475409836065574}"
      ]
     },
     "execution_count": 54,
     "metadata": {},
     "output_type": "execute_result"
    }
   ],
   "source": [
    "cond_coverage"
   ]
  },
  {
   "cell_type": "code",
   "execution_count": 55,
   "id": "942895c7",
   "metadata": {
    "execution": {
     "iopub.execute_input": "2025-08-19T18:31:10.289490Z",
     "iopub.status.busy": "2025-08-19T18:31:10.289008Z",
     "iopub.status.idle": "2025-08-19T18:31:10.295378Z",
     "shell.execute_reply": "2025-08-19T18:31:10.294697Z"
    },
    "papermill": {
     "duration": 0.023029,
     "end_time": "2025-08-19T18:31:10.296820",
     "exception": false,
     "start_time": "2025-08-19T18:31:10.273791",
     "status": "completed"
    },
    "tags": []
   },
   "outputs": [],
   "source": [
    "for subgroup, cov in cond_coverage.items():\n",
    "    cp_metrics_df[f\"cov_{subgroup}\"] = cov"
   ]
  },
  {
   "cell_type": "code",
   "execution_count": 56,
   "id": "3970120f",
   "metadata": {
    "execution": {
     "iopub.execute_input": "2025-08-19T18:31:10.344600Z",
     "iopub.status.busy": "2025-08-19T18:31:10.340420Z",
     "iopub.status.idle": "2025-08-19T18:31:10.369221Z",
     "shell.execute_reply": "2025-08-19T18:31:10.368415Z"
    },
    "papermill": {
     "duration": 0.050538,
     "end_time": "2025-08-19T18:31:10.370449",
     "exception": false,
     "start_time": "2025-08-19T18:31:10.319911",
     "status": "completed"
    },
    "tags": []
   },
   "outputs": [
    {
     "data": {
      "text/html": [
       "<div>\n",
       "<style scoped>\n",
       "    .dataframe tbody tr th:only-of-type {\n",
       "        vertical-align: middle;\n",
       "    }\n",
       "\n",
       "    .dataframe tbody tr th {\n",
       "        vertical-align: top;\n",
       "    }\n",
       "\n",
       "    .dataframe thead th {\n",
       "        text-align: right;\n",
       "    }\n",
       "</style>\n",
       "<table border=\"1\" class=\"dataframe\">\n",
       "  <thead>\n",
       "    <tr style=\"text-align: right;\">\n",
       "      <th></th>\n",
       "      <th>universe_id</th>\n",
       "      <th>universe_training_year</th>\n",
       "      <th>universe_training_size</th>\n",
       "      <th>universe_scale</th>\n",
       "      <th>universe_model</th>\n",
       "      <th>universe_exclude_features</th>\n",
       "      <th>universe_exclude_subgroups</th>\n",
       "      <th>q_hat</th>\n",
       "      <th>coverage</th>\n",
       "      <th>avg_size</th>\n",
       "      <th>cov_frau1</th>\n",
       "      <th>cov_nongerman</th>\n",
       "      <th>cov_nongerman_male</th>\n",
       "      <th>cov_nongerman_female</th>\n",
       "    </tr>\n",
       "  </thead>\n",
       "  <tbody>\n",
       "    <tr>\n",
       "      <th>0</th>\n",
       "      <td>7cd5f5999ea85f41ef62929c9b77ac22</td>\n",
       "      <td>2014</td>\n",
       "      <td>5k</td>\n",
       "      <td>do-not-scale</td>\n",
       "      <td>elasticnet</td>\n",
       "      <td>age</td>\n",
       "      <td>drop-non-german</td>\n",
       "      <td>0.636998</td>\n",
       "      <td>0.91205</td>\n",
       "      <td>1.270304</td>\n",
       "      <td>0.908856</td>\n",
       "      <td>0.962724</td>\n",
       "      <td>0.971899</td>\n",
       "      <td>0.947541</td>\n",
       "    </tr>\n",
       "  </tbody>\n",
       "</table>\n",
       "</div>"
      ],
      "text/plain": [
       "                        universe_id universe_training_year  \\\n",
       "0  7cd5f5999ea85f41ef62929c9b77ac22                   2014   \n",
       "\n",
       "  universe_training_size universe_scale universe_model  \\\n",
       "0                     5k   do-not-scale     elasticnet   \n",
       "\n",
       "  universe_exclude_features universe_exclude_subgroups     q_hat  coverage  \\\n",
       "0                       age            drop-non-german  0.636998   0.91205   \n",
       "\n",
       "   avg_size  cov_frau1  cov_nongerman  cov_nongerman_male  \\\n",
       "0  1.270304   0.908856       0.962724            0.971899   \n",
       "\n",
       "   cov_nongerman_female  \n",
       "0              0.947541  "
      ]
     },
     "execution_count": 56,
     "metadata": {},
     "output_type": "execute_result"
    }
   ],
   "source": [
    "cp_metrics_df"
   ]
  },
  {
   "cell_type": "markdown",
   "id": "3fc519cc",
   "metadata": {
    "papermill": {
     "duration": 0.013161,
     "end_time": "2025-08-19T18:31:10.407275",
     "exception": false,
     "start_time": "2025-08-19T18:31:10.394114",
     "status": "completed"
    },
    "tags": []
   },
   "source": [
    "# (Fairness) Metrics"
   ]
  },
  {
   "cell_type": "code",
   "execution_count": 57,
   "id": "a2e5e155",
   "metadata": {
    "execution": {
     "iopub.execute_input": "2025-08-19T18:31:10.434054Z",
     "iopub.status.busy": "2025-08-19T18:31:10.433496Z",
     "iopub.status.idle": "2025-08-19T18:31:10.451777Z",
     "shell.execute_reply": "2025-08-19T18:31:10.450994Z"
    },
    "papermill": {
     "duration": 0.03392,
     "end_time": "2025-08-19T18:31:10.453656",
     "exception": false,
     "start_time": "2025-08-19T18:31:10.419736",
     "status": "completed"
    },
    "tags": []
   },
   "outputs": [],
   "source": [
    "colname_to_bin = \"maxdeutsch1\"\n",
    "majority_value = org_train[colname_to_bin].mode()[0]\n",
    "\n",
    "org_test[\"majmin\"] = np.where(org_test[colname_to_bin] == majority_value, \"majority\", \"minority\")"
   ]
  },
  {
   "cell_type": "code",
   "execution_count": 58,
   "id": "17e3e4d5",
   "metadata": {
    "execution": {
     "iopub.execute_input": "2025-08-19T18:31:10.481197Z",
     "iopub.status.busy": "2025-08-19T18:31:10.480711Z",
     "iopub.status.idle": "2025-08-19T18:31:12.319087Z",
     "shell.execute_reply": "2025-08-19T18:31:12.317848Z"
    },
    "papermill": {
     "duration": 1.853996,
     "end_time": "2025-08-19T18:31:12.320803",
     "exception": false,
     "start_time": "2025-08-19T18:31:10.466807",
     "status": "completed"
    },
    "tags": []
   },
   "outputs": [],
   "source": [
    "example_universe = universe.copy()\n",
    "example_universe[\"cutoff\"] = example_universe[\"cutoff\"][0]\n",
    "example_universe[\"eval_fairness_grouping\"] = example_universe[\"eval_fairness_grouping\"][0]\n",
    "fairness_dict, metric_frame = universe_analysis.compute_metrics(\n",
    "    example_universe,\n",
    "    y_pred_prob=probs_test,\n",
    "    y_test=y_true,\n",
    "    org_test=org_test,\n",
    ")"
   ]
  },
  {
   "cell_type": "markdown",
   "id": "1fb7a0e9",
   "metadata": {
    "papermill": {
     "duration": 0.026571,
     "end_time": "2025-08-19T18:31:12.369731",
     "exception": false,
     "start_time": "2025-08-19T18:31:12.343160",
     "status": "completed"
    },
    "tags": []
   },
   "source": [
    "# Overall"
   ]
  },
  {
   "cell_type": "markdown",
   "id": "be1784b1",
   "metadata": {
    "papermill": {
     "duration": 0.013094,
     "end_time": "2025-08-19T18:31:12.410705",
     "exception": false,
     "start_time": "2025-08-19T18:31:12.397611",
     "status": "completed"
    },
    "tags": []
   },
   "source": [
    "Main fairness target: Equalized Odds. Seems to be a better fit than equal opportunity, since we're not only interested in Y = 1. Seems to be a better fit than demographic parity, since we also care about accuracy, not just equal distribution of preds.\n",
    "\n",
    "Pick column for computation of fairness metrics\n",
    "\n",
    "Performance\n",
    "Overall performance measures, most interesting in relation to the measures split by group below"
   ]
  },
  {
   "cell_type": "code",
   "execution_count": 59,
   "id": "b7672bee",
   "metadata": {
    "execution": {
     "iopub.execute_input": "2025-08-19T18:31:12.440089Z",
     "iopub.status.busy": "2025-08-19T18:31:12.439506Z",
     "iopub.status.idle": "2025-08-19T18:31:12.448280Z",
     "shell.execute_reply": "2025-08-19T18:31:12.447586Z"
    },
    "papermill": {
     "duration": 0.026325,
     "end_time": "2025-08-19T18:31:12.449915",
     "exception": false,
     "start_time": "2025-08-19T18:31:12.423590",
     "status": "completed"
    },
    "tags": []
   },
   "outputs": [
    {
     "data": {
      "text/plain": [
       "accuracy                   0.213165\n",
       "balanced accuracy          0.523565\n",
       "f1                         0.234804\n",
       "precision                  0.134136\n",
       "false positive rate        0.893954\n",
       "false negative rate        0.058916\n",
       "selection rate             0.900000\n",
       "count                  89710.000000\n",
       "dtype: float64"
      ]
     },
     "execution_count": 59,
     "metadata": {},
     "output_type": "execute_result"
    }
   ],
   "source": [
    "metric_frame.overall"
   ]
  },
  {
   "cell_type": "markdown",
   "id": "d93333c9",
   "metadata": {
    "papermill": {
     "duration": 0.013467,
     "end_time": "2025-08-19T18:31:12.487922",
     "exception": false,
     "start_time": "2025-08-19T18:31:12.474455",
     "status": "completed"
    },
    "tags": []
   },
   "source": [
    "By Group"
   ]
  },
  {
   "cell_type": "code",
   "execution_count": 60,
   "id": "52256966",
   "metadata": {
    "execution": {
     "iopub.execute_input": "2025-08-19T18:31:12.515936Z",
     "iopub.status.busy": "2025-08-19T18:31:12.514897Z",
     "iopub.status.idle": "2025-08-19T18:31:12.538117Z",
     "shell.execute_reply": "2025-08-19T18:31:12.537302Z"
    },
    "papermill": {
     "duration": 0.039046,
     "end_time": "2025-08-19T18:31:12.539664",
     "exception": false,
     "start_time": "2025-08-19T18:31:12.500618",
     "status": "completed"
    },
    "tags": []
   },
   "outputs": [
    {
     "data": {
      "text/html": [
       "<div>\n",
       "<style scoped>\n",
       "    .dataframe tbody tr th:only-of-type {\n",
       "        vertical-align: middle;\n",
       "    }\n",
       "\n",
       "    .dataframe tbody tr th {\n",
       "        vertical-align: top;\n",
       "    }\n",
       "\n",
       "    .dataframe thead th {\n",
       "        text-align: right;\n",
       "    }\n",
       "</style>\n",
       "<table border=\"1\" class=\"dataframe\">\n",
       "  <thead>\n",
       "    <tr style=\"text-align: right;\">\n",
       "      <th></th>\n",
       "      <th>accuracy</th>\n",
       "      <th>balanced accuracy</th>\n",
       "      <th>f1</th>\n",
       "      <th>precision</th>\n",
       "      <th>false positive rate</th>\n",
       "      <th>false negative rate</th>\n",
       "      <th>selection rate</th>\n",
       "      <th>count</th>\n",
       "    </tr>\n",
       "    <tr>\n",
       "      <th>majmin</th>\n",
       "      <th></th>\n",
       "      <th></th>\n",
       "      <th></th>\n",
       "      <th></th>\n",
       "      <th></th>\n",
       "      <th></th>\n",
       "      <th></th>\n",
       "      <th></th>\n",
       "    </tr>\n",
       "  </thead>\n",
       "  <tbody>\n",
       "    <tr>\n",
       "      <th>majority</th>\n",
       "      <td>0.233584</td>\n",
       "      <td>0.529925</td>\n",
       "      <td>0.243352</td>\n",
       "      <td>0.139931</td>\n",
       "      <td>0.872864</td>\n",
       "      <td>0.067287</td>\n",
       "      <td>0.880772</td>\n",
       "      <td>69170.0</td>\n",
       "    </tr>\n",
       "    <tr>\n",
       "      <th>minority</th>\n",
       "      <td>0.144401</td>\n",
       "      <td>0.504885</td>\n",
       "      <td>0.207807</td>\n",
       "      <td>0.116320</td>\n",
       "      <td>0.963625</td>\n",
       "      <td>0.026605</td>\n",
       "      <td>0.964752</td>\n",
       "      <td>20540.0</td>\n",
       "    </tr>\n",
       "  </tbody>\n",
       "</table>\n",
       "</div>"
      ],
      "text/plain": [
       "          accuracy  balanced accuracy        f1  precision  \\\n",
       "majmin                                                       \n",
       "majority  0.233584           0.529925  0.243352   0.139931   \n",
       "minority  0.144401           0.504885  0.207807   0.116320   \n",
       "\n",
       "          false positive rate  false negative rate  selection rate    count  \n",
       "majmin                                                                       \n",
       "majority             0.872864             0.067287        0.880772  69170.0  \n",
       "minority             0.963625             0.026605        0.964752  20540.0  "
      ]
     },
     "execution_count": 60,
     "metadata": {},
     "output_type": "execute_result"
    }
   ],
   "source": [
    "metric_frame.by_group"
   ]
  },
  {
   "cell_type": "code",
   "execution_count": 61,
   "id": "6e6c20ae",
   "metadata": {
    "execution": {
     "iopub.execute_input": "2025-08-19T18:31:12.574972Z",
     "iopub.status.busy": "2025-08-19T18:31:12.574209Z",
     "iopub.status.idle": "2025-08-19T18:31:14.440112Z",
     "shell.execute_reply": "2025-08-19T18:31:14.438671Z"
    },
    "papermill": {
     "duration": 1.881896,
     "end_time": "2025-08-19T18:31:14.441624",
     "exception": false,
     "start_time": "2025-08-19T18:31:12.559728",
     "status": "completed"
    },
    "tags": []
   },
   "outputs": [
    {
     "data": {
      "text/plain": [
       "array([[<Axes: title={'center': 'accuracy'}, xlabel='majmin'>,\n",
       "        <Axes: title={'center': 'balanced accuracy'}, xlabel='majmin'>,\n",
       "        <Axes: title={'center': 'f1'}, xlabel='majmin'>],\n",
       "       [<Axes: title={'center': 'precision'}, xlabel='majmin'>,\n",
       "        <Axes: title={'center': 'false positive rate'}, xlabel='majmin'>,\n",
       "        <Axes: title={'center': 'false negative rate'}, xlabel='majmin'>],\n",
       "       [<Axes: title={'center': 'selection rate'}, xlabel='majmin'>,\n",
       "        <Axes: title={'center': 'count'}, xlabel='majmin'>,\n",
       "        <Axes: xlabel='majmin'>]], dtype=object)"
      ]
     },
     "execution_count": 61,
     "metadata": {},
     "output_type": "execute_result"
    },
    {
     "data": {
      "image/png": "[encoded data removed]",
      "text/plain": [
       "<Figure size 1200x800 with 9 Axes>"
      ]
     },
     "metadata": {},
     "output_type": "display_data"
    }
   ],
   "source": [
    "# In a graphic\n",
    "metric_frame.by_group.plot.bar(\n",
    "    subplots=True,\n",
    "    layout=[3, 3],\n",
    "    legend=False,\n",
    "    figsize=[12, 8],\n",
    "    title=\"Show all metrics\",\n",
    ")"
   ]
  },
  {
   "cell_type": "markdown",
   "id": "b2e433ae",
   "metadata": {
    "papermill": {
     "duration": 0.01444,
     "end_time": "2025-08-19T18:31:14.471910",
     "exception": false,
     "start_time": "2025-08-19T18:31:14.457470",
     "status": "completed"
    },
    "tags": []
   },
   "source": [
    "# Final Output"
   ]
  },
  {
   "cell_type": "code",
   "execution_count": 62,
   "id": "3871301e",
   "metadata": {
    "execution": {
     "iopub.execute_input": "2025-08-19T18:31:14.512843Z",
     "iopub.status.busy": "2025-08-19T18:31:14.512091Z",
     "iopub.status.idle": "2025-08-19T18:31:14.522737Z",
     "shell.execute_reply": "2025-08-19T18:31:14.521950Z"
    },
    "papermill": {
     "duration": 0.027361,
     "end_time": "2025-08-19T18:31:14.524095",
     "exception": false,
     "start_time": "2025-08-19T18:31:14.496734",
     "status": "completed"
    },
    "tags": []
   },
   "outputs": [
    {
     "data": {
      "text/plain": [
       "4"
      ]
     },
     "execution_count": 62,
     "metadata": {},
     "output_type": "execute_result"
    }
   ],
   "source": [
    "sub_universes = universe_analysis.generate_sub_universes()\n",
    "len(sub_universes)"
   ]
  },
  {
   "cell_type": "code",
   "execution_count": 63,
   "id": "d9cfdaca",
   "metadata": {
    "execution": {
     "iopub.execute_input": "2025-08-19T18:31:14.577528Z",
     "iopub.status.busy": "2025-08-19T18:31:14.577133Z",
     "iopub.status.idle": "2025-08-19T18:31:14.581945Z",
     "shell.execute_reply": "2025-08-19T18:31:14.581297Z"
    },
    "papermill": {
     "duration": 0.032068,
     "end_time": "2025-08-19T18:31:14.589277",
     "exception": false,
     "start_time": "2025-08-19T18:31:14.557209",
     "status": "completed"
    },
    "tags": []
   },
   "outputs": [],
   "source": [
    "def filter_sub_universe_data(sub_universe, org_test):\n",
    "    # Keep all rows — no filtering\n",
    "    keep_rows_mask = np.ones(org_test.shape[0], dtype=bool)\n",
    "\n",
    "    print(f\"[INFO] Keeping all rows: {keep_rows_mask.sum()} rows retained.\")\n",
    "    return keep_rows_mask"
   ]
  },
  {
   "cell_type": "code",
   "execution_count": 64,
   "id": "2bc31ac1",
   "metadata": {
    "execution": {
     "iopub.execute_input": "2025-08-19T18:31:14.619634Z",
     "iopub.status.busy": "2025-08-19T18:31:14.619343Z",
     "iopub.status.idle": "2025-08-19T18:31:21.449897Z",
     "shell.execute_reply": "2025-08-19T18:31:21.448572Z"
    },
    "papermill": {
     "duration": 6.847346,
     "end_time": "2025-08-19T18:31:21.451713",
     "exception": false,
     "start_time": "2025-08-19T18:31:14.604367",
     "status": "completed"
    },
    "tags": []
   },
   "outputs": [
    {
     "name": "stdout",
     "output_type": "stream",
     "text": [
      "Stopping execution_time clock.\n",
      "[INFO] Keeping all rows: 89710 rows retained.\n"
     ]
    },
    {
     "name": "stdout",
     "output_type": "stream",
     "text": [
      "[INFO] Keeping all rows: 89710 rows retained.\n"
     ]
    },
    {
     "name": "stdout",
     "output_type": "stream",
     "text": [
      "[INFO] Keeping all rows: 89710 rows retained.\n"
     ]
    },
    {
     "name": "stdout",
     "output_type": "stream",
     "text": [
      "[INFO] Keeping all rows: 89710 rows retained.\n"
     ]
    },
    {
     "data": {
      "text/html": [
       "<div>\n",
       "<style scoped>\n",
       "    .dataframe tbody tr th:only-of-type {\n",
       "        vertical-align: middle;\n",
       "    }\n",
       "\n",
       "    .dataframe tbody tr th {\n",
       "        vertical-align: top;\n",
       "    }\n",
       "\n",
       "    .dataframe thead th {\n",
       "        text-align: right;\n",
       "    }\n",
       "</style>\n",
       "<table border=\"1\" class=\"dataframe\">\n",
       "  <thead>\n",
       "    <tr style=\"text-align: right;\">\n",
       "      <th></th>\n",
       "      <th>run_no</th>\n",
       "      <th>universe_id</th>\n",
       "      <th>universe_settings</th>\n",
       "      <th>execution_time</th>\n",
       "      <th>test_size_n</th>\n",
       "      <th>test_size_frac</th>\n",
       "      <th>fair_main_equalized_odds_difference</th>\n",
       "      <th>fair_main_equalized_odds_ratio</th>\n",
       "      <th>fair_main_demographic_parity_difference</th>\n",
       "      <th>fair_main_demographic_parity_ratio</th>\n",
       "      <th>...</th>\n",
       "      <th>perf_grp_precision_0</th>\n",
       "      <th>perf_grp_precision_1</th>\n",
       "      <th>perf_grp_false positive rate_0</th>\n",
       "      <th>perf_grp_false positive rate_1</th>\n",
       "      <th>perf_grp_false negative rate_0</th>\n",
       "      <th>perf_grp_false negative rate_1</th>\n",
       "      <th>perf_grp_selection rate_0</th>\n",
       "      <th>perf_grp_selection rate_1</th>\n",
       "      <th>perf_grp_count_0</th>\n",
       "      <th>perf_grp_count_1</th>\n",
       "    </tr>\n",
       "  </thead>\n",
       "  <tbody>\n",
       "    <tr>\n",
       "      <th>0</th>\n",
       "      <td>3</td>\n",
       "      <td>7cd5f5999ea85f41ef62929c9b77ac22</td>\n",
       "      <td>{\"cutoff\": \"quantile_0.1\", \"eval_fairness_grou...</td>\n",
       "      <td>21.873306</td>\n",
       "      <td>89710</td>\n",
       "      <td>1.0</td>\n",
       "      <td>0.090762</td>\n",
       "      <td>0.905812</td>\n",
       "      <td>0.083980</td>\n",
       "      <td>0.912952</td>\n",
       "      <td>...</td>\n",
       "      <td>NaN</td>\n",
       "      <td>NaN</td>\n",
       "      <td>NaN</td>\n",
       "      <td>NaN</td>\n",
       "      <td>NaN</td>\n",
       "      <td>NaN</td>\n",
       "      <td>NaN</td>\n",
       "      <td>NaN</td>\n",
       "      <td>NaN</td>\n",
       "      <td>NaN</td>\n",
       "    </tr>\n",
       "    <tr>\n",
       "      <th>0</th>\n",
       "      <td>3</td>\n",
       "      <td>7cd5f5999ea85f41ef62929c9b77ac22</td>\n",
       "      <td>{\"cutoff\": \"quantile_0.1\", \"eval_fairness_grou...</td>\n",
       "      <td>21.873306</td>\n",
       "      <td>89710</td>\n",
       "      <td>1.0</td>\n",
       "      <td>0.090762</td>\n",
       "      <td>0.905812</td>\n",
       "      <td>0.083980</td>\n",
       "      <td>0.912952</td>\n",
       "      <td>...</td>\n",
       "      <td>0.116320</td>\n",
       "      <td>0.139931</td>\n",
       "      <td>0.963625</td>\n",
       "      <td>0.872864</td>\n",
       "      <td>0.026605</td>\n",
       "      <td>0.067287</td>\n",
       "      <td>0.964752</td>\n",
       "      <td>0.880772</td>\n",
       "      <td>20540.0</td>\n",
       "      <td>69170.0</td>\n",
       "    </tr>\n",
       "    <tr>\n",
       "      <th>0</th>\n",
       "      <td>3</td>\n",
       "      <td>7cd5f5999ea85f41ef62929c9b77ac22</td>\n",
       "      <td>{\"cutoff\": \"quantile_0.25\", \"eval_fairness_gro...</td>\n",
       "      <td>21.873306</td>\n",
       "      <td>89710</td>\n",
       "      <td>1.0</td>\n",
       "      <td>0.220896</td>\n",
       "      <td>0.756366</td>\n",
       "      <td>0.206484</td>\n",
       "      <td>0.772896</td>\n",
       "      <td>...</td>\n",
       "      <td>NaN</td>\n",
       "      <td>NaN</td>\n",
       "      <td>NaN</td>\n",
       "      <td>NaN</td>\n",
       "      <td>NaN</td>\n",
       "      <td>NaN</td>\n",
       "      <td>NaN</td>\n",
       "      <td>NaN</td>\n",
       "      <td>NaN</td>\n",
       "      <td>NaN</td>\n",
       "    </tr>\n",
       "    <tr>\n",
       "      <th>0</th>\n",
       "      <td>3</td>\n",
       "      <td>7cd5f5999ea85f41ef62929c9b77ac22</td>\n",
       "      <td>{\"cutoff\": \"quantile_0.25\", \"eval_fairness_gro...</td>\n",
       "      <td>21.873306</td>\n",
       "      <td>89710</td>\n",
       "      <td>1.0</td>\n",
       "      <td>0.220896</td>\n",
       "      <td>0.756366</td>\n",
       "      <td>0.206484</td>\n",
       "      <td>0.772896</td>\n",
       "      <td>...</td>\n",
       "      <td>0.117751</td>\n",
       "      <td>0.153064</td>\n",
       "      <td>0.906670</td>\n",
       "      <td>0.685774</td>\n",
       "      <td>0.071368</td>\n",
       "      <td>0.185996</td>\n",
       "      <td>0.909202</td>\n",
       "      <td>0.702718</td>\n",
       "      <td>20540.0</td>\n",
       "      <td>69170.0</td>\n",
       "    </tr>\n",
       "  </tbody>\n",
       "</table>\n",
       "<p>4 rows × 50 columns</p>\n",
       "</div>"
      ],
      "text/plain": [
       "  run_no                       universe_id  \\\n",
       "0      3  7cd5f5999ea85f41ef62929c9b77ac22   \n",
       "0      3  7cd5f5999ea85f41ef62929c9b77ac22   \n",
       "0      3  7cd5f5999ea85f41ef62929c9b77ac22   \n",
       "0      3  7cd5f5999ea85f41ef62929c9b77ac22   \n",
       "\n",
       "                                   universe_settings  execution_time  \\\n",
       "0  {\"cutoff\": \"quantile_0.1\", \"eval_fairness_grou...       21.873306   \n",
       "0  {\"cutoff\": \"quantile_0.1\", \"eval_fairness_grou...       21.873306   \n",
       "0  {\"cutoff\": \"quantile_0.25\", \"eval_fairness_gro...       21.873306   \n",
       "0  {\"cutoff\": \"quantile_0.25\", \"eval_fairness_gro...       21.873306   \n",
       "\n",
       "   test_size_n  test_size_frac  fair_main_equalized_odds_difference  \\\n",
       "0        89710             1.0                             0.090762   \n",
       "0        89710             1.0                             0.090762   \n",
       "0        89710             1.0                             0.220896   \n",
       "0        89710             1.0                             0.220896   \n",
       "\n",
       "   fair_main_equalized_odds_ratio  fair_main_demographic_parity_difference  \\\n",
       "0                        0.905812                                 0.083980   \n",
       "0                        0.905812                                 0.083980   \n",
       "0                        0.756366                                 0.206484   \n",
       "0                        0.756366                                 0.206484   \n",
       "\n",
       "   fair_main_demographic_parity_ratio  ...  perf_grp_precision_0  \\\n",
       "0                            0.912952  ...                   NaN   \n",
       "0                            0.912952  ...              0.116320   \n",
       "0                            0.772896  ...                   NaN   \n",
       "0                            0.772896  ...              0.117751   \n",
       "\n",
       "   perf_grp_precision_1  perf_grp_false positive rate_0  \\\n",
       "0                   NaN                             NaN   \n",
       "0              0.139931                        0.963625   \n",
       "0                   NaN                             NaN   \n",
       "0              0.153064                        0.906670   \n",
       "\n",
       "   perf_grp_false positive rate_1  perf_grp_false negative rate_0  \\\n",
       "0                             NaN                             NaN   \n",
       "0                        0.872864                        0.026605   \n",
       "0                             NaN                             NaN   \n",
       "0                        0.685774                        0.071368   \n",
       "\n",
       "   perf_grp_false negative rate_1  perf_grp_selection rate_0  \\\n",
       "0                             NaN                        NaN   \n",
       "0                        0.067287                   0.964752   \n",
       "0                             NaN                        NaN   \n",
       "0                        0.185996                   0.909202   \n",
       "\n",
       "   perf_grp_selection rate_1  perf_grp_count_0  perf_grp_count_1  \n",
       "0                        NaN               NaN               NaN  \n",
       "0                   0.880772           20540.0           69170.0  \n",
       "0                        NaN               NaN               NaN  \n",
       "0                   0.702718           20540.0           69170.0  \n",
       "\n",
       "[4 rows x 50 columns]"
      ]
     },
     "execution_count": 64,
     "metadata": {},
     "output_type": "execute_result"
    }
   ],
   "source": [
    "final_output = universe_analysis.generate_final_output(\n",
    "    y_pred_prob=probs_test,\n",
    "    y_test=y_true,\n",
    "    org_test=org_test,\n",
    "    filter_data=filter_sub_universe_data,\n",
    "    cp_metrics_df=cp_metrics_df,\n",
    "    save=True,\n",
    ")\n",
    "final_output"
   ]
  },
  {
   "cell_type": "code",
   "execution_count": null,
   "id": "8b80a1ff",
   "metadata": {
    "papermill": {
     "duration": 0.014647,
     "end_time": "2025-08-19T18:31:21.490688",
     "exception": false,
     "start_time": "2025-08-19T18:31:21.476041",
     "status": "completed"
    },
    "tags": []
   },
   "outputs": [],
   "source": []
  },
  {
   "cell_type": "code",
   "execution_count": null,
   "id": "275c9fad",
   "metadata": {
    "papermill": {
     "duration": 0.014383,
     "end_time": "2025-08-19T18:31:21.519693",
     "exception": false,
     "start_time": "2025-08-19T18:31:21.505310",
     "status": "completed"
    },
    "tags": []
   },
   "outputs": [],
   "source": []
  }
 ],
 "metadata": {
  "celltoolbar": "Tags",
  "kernelspec": {
   "display_name": "Python (CMA Fairness)",
   "language": "python",
   "name": "cma_fair_env"
  },
  "language_info": {
   "codemirror_mode": {
    "name": "ipython",
    "version": 3
   },
   "file_extension": ".py",
   "mimetype": "text/x-python",
   "name": "python",
   "nbconvert_exporter": "python",
   "pygments_lexer": "ipython3",
   "version": "3.10.12"
  },
  "papermill": {
   "default_parameters": {},
   "duration": 32.520721,
   "end_time": "2025-08-19T18:31:22.454980",
   "environment_variables": {},
   "exception": null,
   "input_path": "universe_analysis.ipynb",
   "output_path": "output/runs/3/notebooks/m_3-7cd5f5999ea85f41ef62929c9b77ac22.ipynb",
   "parameters": {
    "output_dir": "output",
    "run_no": "3",
    "seed": "2023",
    "universe": "{\"cutoff\": [\"quantile_0.1\", \"quantile_0.25\"], \"eval_fairness_grouping\": [\"majority-minority\", \"nationality-all\"], \"exclude_features\": \"age\", \"exclude_subgroups\": \"drop-non-german\", \"model\": \"elasticnet\", \"scale\": \"do-not-scale\", \"training_size\": \"5k\", \"training_year\": \"2014\"}",
    "universe_id": "7cd5f5999ea85f41ef62929c9b77ac22"
   },
   "start_time": "2025-08-19T18:30:49.934259",
   "version": "2.6.0"
  }
 },
 "nbformat": 4,
 "nbformat_minor": 5
}