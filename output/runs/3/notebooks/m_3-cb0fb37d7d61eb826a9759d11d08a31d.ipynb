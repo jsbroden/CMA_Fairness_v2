{
 "cells": [
  {
   "cell_type": "markdown",
   "id": "ef23dbb3",
   "metadata": {
    "papermill": {
     "duration": 0.009266,
     "end_time": "2025-08-19T18:49:06.354319",
     "exception": false,
     "start_time": "2025-08-19T18:49:06.345053",
     "status": "completed"
    },
    "tags": []
   },
   "source": [
    "# Setup"
   ]
  },
  {
   "cell_type": "code",
   "execution_count": 1,
   "id": "0bc8e7dc",
   "metadata": {
    "execution": {
     "iopub.execute_input": "2025-08-19T18:49:06.372971Z",
     "iopub.status.busy": "2025-08-19T18:49:06.372439Z",
     "iopub.status.idle": "2025-08-19T18:49:06.382632Z",
     "shell.execute_reply": "2025-08-19T18:49:06.381807Z"
    },
    "papermill": {
     "duration": 0.021604,
     "end_time": "2025-08-19T18:49:06.384423",
     "exception": false,
     "start_time": "2025-08-19T18:49:06.362819",
     "status": "completed"
    },
    "tags": []
   },
   "outputs": [
    {
     "name": "stdout",
     "output_type": "stream",
     "text": [
      "/dss/dsshome1/0C/ra93lal2/cma/CMA_Fairness_v2\n"
     ]
    },
    {
     "name": "stderr",
     "output_type": "stream",
     "text": [
      "/dss/dsshome1/0C/ra93lal2/.local/share/virtualenvs/CMA_Fairness_v2-3j10GkSs/lib/python3.10/site-packages/IPython/core/magics/osm.py:393: UserWarning: This is now an optional IPython functionality, using bookmarks requires you to install the `pickleshare` library.\n",
      "  bkms = self.shell.db.get('bookmarks', {})\n",
      "/dss/dsshome1/0C/ra93lal2/.local/share/virtualenvs/CMA_Fairness_v2-3j10GkSs/lib/python3.10/site-packages/IPython/core/magics/osm.py:417: UserWarning: This is now an optional IPython functionality, setting dhist requires you to install the `pickleshare` library.\n",
      "  self.shell.db['dhist'] = compress_dhist(dhist)[-100:]\n"
     ]
    }
   ],
   "source": [
    "%cd ~/cma/CMA_Fairness_v2"
   ]
  },
  {
   "cell_type": "markdown",
   "id": "9d235661",
   "metadata": {
    "papermill": {
     "duration": 0.008929,
     "end_time": "2025-08-19T18:49:06.401933",
     "exception": false,
     "start_time": "2025-08-19T18:49:06.393004",
     "status": "completed"
    },
    "tags": []
   },
   "source": [
    "The following cell holds the definition of our parameters, these values can be overriden by rendering the with e.g. the following command:\n",
    "\n",
    "papermill -p alpha 0.2 -p ratio 0.3 universe_analysis.ipynb output/test_run.ipynb"
   ]
  },
  {
   "cell_type": "code",
   "execution_count": 2,
   "id": "4a789d8e",
   "metadata": {
    "execution": {
     "iopub.execute_input": "2025-08-19T18:49:06.420166Z",
     "iopub.status.busy": "2025-08-19T18:49:06.419797Z",
     "iopub.status.idle": "2025-08-19T18:49:06.424720Z",
     "shell.execute_reply": "2025-08-19T18:49:06.423835Z"
    },
    "papermill": {
     "duration": 0.015792,
     "end_time": "2025-08-19T18:49:06.426173",
     "exception": false,
     "start_time": "2025-08-19T18:49:06.410381",
     "status": "completed"
    },
    "tags": []
   },
   "outputs": [
    {
     "name": "stdout",
     "output_type": "stream",
     "text": [
      "Current working directory: /dss/dsshome1/0C/ra93lal2/cma/CMA_Fairness_v2\n"
     ]
    }
   ],
   "source": [
    "import os\n",
    "print(\"Current working directory:\", os.getcwd())"
   ]
  },
  {
   "cell_type": "code",
   "execution_count": 3,
   "id": "4132aaed",
   "metadata": {
    "execution": {
     "iopub.execute_input": "2025-08-19T18:49:06.444587Z",
     "iopub.status.busy": "2025-08-19T18:49:06.444228Z",
     "iopub.status.idle": "2025-08-19T18:49:06.449233Z",
     "shell.execute_reply": "2025-08-19T18:49:06.448391Z"
    },
    "papermill": {
     "duration": 0.015778,
     "end_time": "2025-08-19T18:49:06.450666",
     "exception": false,
     "start_time": "2025-08-19T18:49:06.434888",
     "status": "completed"
    },
    "tags": [
     "parameters"
    ]
   },
   "outputs": [],
   "source": [
    "run_no = 0\n",
    "universe_id = \"test\"\n",
    "universe = {\n",
    "    \"training_size\": \"5k\", # \"25k\", \"5k\", \"1k\"\n",
    "    \"training_year\": \"2012_14\", # \"2014\", \"2012_14\", \"2010_14\"\n",
    "    \"scale\": \"scale\", # \"scale\", \"do-not-scale\",\n",
    "    \"model\": \"elasticnet\", # \"logreg\", \"penalized_logreg\", \"rf\", \"gbm\", \"elasticnet\"\n",
    "    \"cutoff\": [\"quantile_0.15\", \"quantile_0.30\"],\n",
    "    \"exclude_features\": \"age\", # \"none\", \"nationality\", \"sex\", \"nationality-sex\", \"age\"\n",
    "    \"exclude_subgroups\": \"drop-non-german\", # \"keep-all\", \"drop-non-german\"\n",
    "    \"eval_fairness_grouping\": [\"majority-minority\", \"nationality-all\"]\n",
    "}\n",
    "\n",
    "output_dir=\"./output\"\n",
    "seed=0"
   ]
  },
  {
   "cell_type": "code",
   "execution_count": 4,
   "id": "30f66a65",
   "metadata": {
    "execution": {
     "iopub.execute_input": "2025-08-19T18:49:06.469104Z",
     "iopub.status.busy": "2025-08-19T18:49:06.468760Z",
     "iopub.status.idle": "2025-08-19T18:49:06.473234Z",
     "shell.execute_reply": "2025-08-19T18:49:06.472363Z"
    },
    "papermill": {
     "duration": 0.015335,
     "end_time": "2025-08-19T18:49:06.474658",
     "exception": false,
     "start_time": "2025-08-19T18:49:06.459323",
     "status": "completed"
    },
    "tags": [
     "injected-parameters"
    ]
   },
   "outputs": [],
   "source": [
    "# Parameters\n",
    "universe_id = \"cb0fb37d7d61eb826a9759d11d08a31d\"\n",
    "run_no = \"3\"\n",
    "universe = \"{\\\"cutoff\\\": [\\\"quantile_0.1\\\", \\\"quantile_0.25\\\"], \\\"eval_fairness_grouping\\\": [\\\"majority-minority\\\", \\\"nationality-all\\\"], \\\"exclude_features\\\": \\\"age\\\", \\\"exclude_subgroups\\\": \\\"keep-all\\\", \\\"model\\\": \\\"logreg\\\", \\\"scale\\\": \\\"scale\\\", \\\"training_size\\\": \\\"1k\\\", \\\"training_year\\\": \\\"2014\\\"}\"\n",
    "output_dir = \"output\"\n",
    "seed = \"2023\"\n"
   ]
  },
  {
   "cell_type": "code",
   "execution_count": 5,
   "id": "a5d7941f",
   "metadata": {
    "execution": {
     "iopub.execute_input": "2025-08-19T18:49:06.493591Z",
     "iopub.status.busy": "2025-08-19T18:49:06.493232Z",
     "iopub.status.idle": "2025-08-19T18:49:06.497457Z",
     "shell.execute_reply": "2025-08-19T18:49:06.496646Z"
    },
    "papermill": {
     "duration": 0.015398,
     "end_time": "2025-08-19T18:49:06.498892",
     "exception": false,
     "start_time": "2025-08-19T18:49:06.483494",
     "status": "completed"
    },
    "tags": []
   },
   "outputs": [],
   "source": [
    "import json\n",
    "if isinstance(universe, str):\n",
    "    universe = json.loads(universe)"
   ]
  },
  {
   "cell_type": "code",
   "execution_count": 6,
   "id": "7076ccb1",
   "metadata": {
    "execution": {
     "iopub.execute_input": "2025-08-19T18:49:06.517743Z",
     "iopub.status.busy": "2025-08-19T18:49:06.517389Z",
     "iopub.status.idle": "2025-08-19T18:49:06.552078Z",
     "shell.execute_reply": "2025-08-19T18:49:06.551273Z"
    },
    "papermill": {
     "duration": 0.045716,
     "end_time": "2025-08-19T18:49:06.553486",
     "exception": false,
     "start_time": "2025-08-19T18:49:06.507770",
     "status": "completed"
    },
    "tags": []
   },
   "outputs": [],
   "source": [
    "# Auto-reload the custom package\n",
    "%load_ext autoreload\n",
    "%autoreload 1\n",
    "%aimport fairness_multiverse"
   ]
  },
  {
   "cell_type": "code",
   "execution_count": 7,
   "id": "94c8eb93",
   "metadata": {
    "execution": {
     "iopub.execute_input": "2025-08-19T18:49:06.583287Z",
     "iopub.status.busy": "2025-08-19T18:49:06.582856Z",
     "iopub.status.idle": "2025-08-19T18:49:07.997697Z",
     "shell.execute_reply": "2025-08-19T18:49:07.995466Z"
    },
    "papermill": {
     "duration": 1.430749,
     "end_time": "2025-08-19T18:49:07.999731",
     "exception": false,
     "start_time": "2025-08-19T18:49:06.568982",
     "status": "completed"
    },
    "tags": []
   },
   "outputs": [],
   "source": [
    "from fairness_multiverse.universe import UniverseAnalysis\n",
    "\n",
    "universe_analysis = UniverseAnalysis(\n",
    "    run_no = run_no,\n",
    "    universe_id = universe_id,\n",
    "    universe = universe,\n",
    "    output_dir=output_dir,\n",
    ")"
   ]
  },
  {
   "cell_type": "code",
   "execution_count": 8,
   "id": "2a6381cf",
   "metadata": {
    "execution": {
     "iopub.execute_input": "2025-08-19T18:49:08.023240Z",
     "iopub.status.busy": "2025-08-19T18:49:08.022851Z",
     "iopub.status.idle": "2025-08-19T18:49:08.034317Z",
     "shell.execute_reply": "2025-08-19T18:49:08.033514Z"
    },
    "papermill": {
     "duration": 0.023684,
     "end_time": "2025-08-19T18:49:08.035874",
     "exception": false,
     "start_time": "2025-08-19T18:49:08.012190",
     "status": "completed"
    },
    "tags": []
   },
   "outputs": [
    {
     "name": "stdout",
     "output_type": "stream",
     "text": [
      "Using Seed: 2023\n"
     ]
    }
   ],
   "source": [
    "import numpy as np\n",
    "parsed_seed = int(seed)\n",
    "np.random.seed(parsed_seed)\n",
    "print(f\"Using Seed: {parsed_seed}\")"
   ]
  },
  {
   "cell_type": "markdown",
   "id": "b6e958b4",
   "metadata": {
    "papermill": {
     "duration": 0.008949,
     "end_time": "2025-08-19T18:49:08.054486",
     "exception": false,
     "start_time": "2025-08-19T18:49:08.045537",
     "status": "completed"
    },
    "tags": []
   },
   "source": [
    "# Loading Data"
   ]
  },
  {
   "cell_type": "code",
   "execution_count": 9,
   "id": "98701482",
   "metadata": {
    "execution": {
     "iopub.execute_input": "2025-08-19T18:49:08.073785Z",
     "iopub.status.busy": "2025-08-19T18:49:08.073464Z",
     "iopub.status.idle": "2025-08-19T18:49:18.750327Z",
     "shell.execute_reply": "2025-08-19T18:49:18.749239Z"
    },
    "papermill": {
     "duration": 10.688354,
     "end_time": "2025-08-19T18:49:18.751836",
     "exception": false,
     "start_time": "2025-08-19T18:49:08.063482",
     "status": "completed"
    },
    "tags": []
   },
   "outputs": [
    {
     "name": "stdout",
     "output_type": "stream",
     "text": [
      "Loading SIAB data from cache: data/siab_cached.csv.gz\n"
     ]
    },
    {
     "name": "stdout",
     "output_type": "stream",
     "text": [
      "(643690, 164)\n"
     ]
    }
   ],
   "source": [
    "from pathlib import Path\n",
    "import pandas as pd\n",
    "\n",
    "# File paths\n",
    "raw_file = Path(\"data/raw/siab.csv\")\n",
    "cache_file = Path(\"data/siab_cached.csv.gz\")\n",
    "\n",
    "# Ensure cache directory exists\n",
    "cache_file.parent.mkdir(parents=True, exist_ok=True)\n",
    "\n",
    "# Load with simple caching\n",
    "if cache_file.exists():\n",
    "    print(f\"Loading SIAB data from cache: {cache_file}\")\n",
    "    siab = pd.read_csv(cache_file, compression='gzip')\n",
    "else:\n",
    "    print(f\"Cache not found. Reading raw SIAB data: {raw_file}\")\n",
    "    siab = pd.read_csv(raw_file)\n",
    "    siab.to_csv(cache_file, index=False, compression='gzip')\n",
    "    print(f\"Cached SIAB data to: {cache_file}\")\n",
    "\n",
    "print(siab.shape)"
   ]
  },
  {
   "cell_type": "code",
   "execution_count": 10,
   "id": "058d2abb",
   "metadata": {
    "execution": {
     "iopub.execute_input": "2025-08-19T18:49:18.776943Z",
     "iopub.status.busy": "2025-08-19T18:49:18.776394Z",
     "iopub.status.idle": "2025-08-19T18:49:19.006006Z",
     "shell.execute_reply": "2025-08-19T18:49:19.004979Z"
    },
    "papermill": {
     "duration": 0.243313,
     "end_time": "2025-08-19T18:49:19.008353",
     "exception": false,
     "start_time": "2025-08-19T18:49:18.765040",
     "status": "completed"
    },
    "tags": []
   },
   "outputs": [
    {
     "data": {
      "text/html": [
       "<div>\n",
       "<style scoped>\n",
       "    .dataframe tbody tr th:only-of-type {\n",
       "        vertical-align: middle;\n",
       "    }\n",
       "\n",
       "    .dataframe tbody tr th {\n",
       "        vertical-align: top;\n",
       "    }\n",
       "\n",
       "    .dataframe thead th {\n",
       "        text-align: right;\n",
       "    }\n",
       "</style>\n",
       "<table border=\"1\" class=\"dataframe\">\n",
       "  <thead>\n",
       "    <tr style=\"text-align: right;\">\n",
       "      <th></th>\n",
       "      <th>persnr</th>\n",
       "      <th>year</th>\n",
       "      <th>nrEntry</th>\n",
       "      <th>ltue</th>\n",
       "      <th>employed_before</th>\n",
       "      <th>receipt_leh_before</th>\n",
       "      <th>receipt_lhg_before</th>\n",
       "      <th>se_before</th>\n",
       "      <th>ASU_notue_seeking_before</th>\n",
       "      <th>ASU_other_before</th>\n",
       "      <th>...</th>\n",
       "      <th>minijob_tot_dur_byage</th>\n",
       "      <th>ft_tot_dur_byage</th>\n",
       "      <th>befrist_tot_dur_byage</th>\n",
       "      <th>leih_tot_dur_byage</th>\n",
       "      <th>LHG_tot_dur_byage</th>\n",
       "      <th>LEH_tot_dur_byage</th>\n",
       "      <th>almp_tot_dur_byage</th>\n",
       "      <th>almp_aw_tot_dur_byage</th>\n",
       "      <th>se_tot_dur_byage</th>\n",
       "      <th>seeking1_tot_dur_byage</th>\n",
       "    </tr>\n",
       "  </thead>\n",
       "  <tbody>\n",
       "    <tr>\n",
       "      <th>0</th>\n",
       "      <td>7</td>\n",
       "      <td>2015</td>\n",
       "      <td>1</td>\n",
       "      <td>0</td>\n",
       "      <td>1</td>\n",
       "      <td>0</td>\n",
       "      <td>0</td>\n",
       "      <td>0</td>\n",
       "      <td>1</td>\n",
       "      <td>0</td>\n",
       "      <td>...</td>\n",
       "      <td>0.000000</td>\n",
       "      <td>0.000000</td>\n",
       "      <td>15.043478</td>\n",
       "      <td>0.000000</td>\n",
       "      <td>0.000000</td>\n",
       "      <td>0.000000</td>\n",
       "      <td>0.000000</td>\n",
       "      <td>0.000000</td>\n",
       "      <td>0.000000</td>\n",
       "      <td>0.000000</td>\n",
       "    </tr>\n",
       "    <tr>\n",
       "      <th>1</th>\n",
       "      <td>18</td>\n",
       "      <td>2010</td>\n",
       "      <td>1</td>\n",
       "      <td>1</td>\n",
       "      <td>0</td>\n",
       "      <td>0</td>\n",
       "      <td>0</td>\n",
       "      <td>0</td>\n",
       "      <td>0</td>\n",
       "      <td>0</td>\n",
       "      <td>...</td>\n",
       "      <td>0.000000</td>\n",
       "      <td>0.000000</td>\n",
       "      <td>0.000000</td>\n",
       "      <td>0.000000</td>\n",
       "      <td>0.000000</td>\n",
       "      <td>0.000000</td>\n",
       "      <td>0.000000</td>\n",
       "      <td>0.000000</td>\n",
       "      <td>0.000000</td>\n",
       "      <td>0.000000</td>\n",
       "    </tr>\n",
       "    <tr>\n",
       "      <th>2</th>\n",
       "      <td>18</td>\n",
       "      <td>2011</td>\n",
       "      <td>2</td>\n",
       "      <td>0</td>\n",
       "      <td>1</td>\n",
       "      <td>0</td>\n",
       "      <td>1</td>\n",
       "      <td>0</td>\n",
       "      <td>1</td>\n",
       "      <td>0</td>\n",
       "      <td>...</td>\n",
       "      <td>2.714286</td>\n",
       "      <td>2.714286</td>\n",
       "      <td>0.000000</td>\n",
       "      <td>0.000000</td>\n",
       "      <td>10.775510</td>\n",
       "      <td>0.000000</td>\n",
       "      <td>8.367347</td>\n",
       "      <td>0.000000</td>\n",
       "      <td>0.000000</td>\n",
       "      <td>9.836735</td>\n",
       "    </tr>\n",
       "    <tr>\n",
       "      <th>3</th>\n",
       "      <td>18</td>\n",
       "      <td>2012</td>\n",
       "      <td>3</td>\n",
       "      <td>0</td>\n",
       "      <td>1</td>\n",
       "      <td>0</td>\n",
       "      <td>1</td>\n",
       "      <td>0</td>\n",
       "      <td>1</td>\n",
       "      <td>0</td>\n",
       "      <td>...</td>\n",
       "      <td>4.200000</td>\n",
       "      <td>4.200000</td>\n",
       "      <td>0.000000</td>\n",
       "      <td>0.000000</td>\n",
       "      <td>12.100000</td>\n",
       "      <td>0.000000</td>\n",
       "      <td>9.400000</td>\n",
       "      <td>0.000000</td>\n",
       "      <td>0.000000</td>\n",
       "      <td>9.960000</td>\n",
       "    </tr>\n",
       "    <tr>\n",
       "      <th>4</th>\n",
       "      <td>18</td>\n",
       "      <td>2012</td>\n",
       "      <td>4</td>\n",
       "      <td>0</td>\n",
       "      <td>1</td>\n",
       "      <td>0</td>\n",
       "      <td>1</td>\n",
       "      <td>0</td>\n",
       "      <td>1</td>\n",
       "      <td>0</td>\n",
       "      <td>...</td>\n",
       "      <td>5.460000</td>\n",
       "      <td>5.460000</td>\n",
       "      <td>0.000000</td>\n",
       "      <td>0.000000</td>\n",
       "      <td>13.360000</td>\n",
       "      <td>0.000000</td>\n",
       "      <td>10.320000</td>\n",
       "      <td>0.000000</td>\n",
       "      <td>0.000000</td>\n",
       "      <td>10.280000</td>\n",
       "    </tr>\n",
       "    <tr>\n",
       "      <th>...</th>\n",
       "      <td>...</td>\n",
       "      <td>...</td>\n",
       "      <td>...</td>\n",
       "      <td>...</td>\n",
       "      <td>...</td>\n",
       "      <td>...</td>\n",
       "      <td>...</td>\n",
       "      <td>...</td>\n",
       "      <td>...</td>\n",
       "      <td>...</td>\n",
       "      <td>...</td>\n",
       "      <td>...</td>\n",
       "      <td>...</td>\n",
       "      <td>...</td>\n",
       "      <td>...</td>\n",
       "      <td>...</td>\n",
       "      <td>...</td>\n",
       "      <td>...</td>\n",
       "      <td>...</td>\n",
       "      <td>...</td>\n",
       "      <td>...</td>\n",
       "    </tr>\n",
       "    <tr>\n",
       "      <th>643685</th>\n",
       "      <td>1827860</td>\n",
       "      <td>2013</td>\n",
       "      <td>1</td>\n",
       "      <td>0</td>\n",
       "      <td>0</td>\n",
       "      <td>0</td>\n",
       "      <td>1</td>\n",
       "      <td>0</td>\n",
       "      <td>0</td>\n",
       "      <td>1</td>\n",
       "      <td>...</td>\n",
       "      <td>0.000000</td>\n",
       "      <td>0.000000</td>\n",
       "      <td>0.000000</td>\n",
       "      <td>0.000000</td>\n",
       "      <td>0.612903</td>\n",
       "      <td>0.000000</td>\n",
       "      <td>0.000000</td>\n",
       "      <td>0.000000</td>\n",
       "      <td>0.000000</td>\n",
       "      <td>0.000000</td>\n",
       "    </tr>\n",
       "    <tr>\n",
       "      <th>643686</th>\n",
       "      <td>1827860</td>\n",
       "      <td>2015</td>\n",
       "      <td>2</td>\n",
       "      <td>1</td>\n",
       "      <td>0</td>\n",
       "      <td>0</td>\n",
       "      <td>1</td>\n",
       "      <td>0</td>\n",
       "      <td>1</td>\n",
       "      <td>0</td>\n",
       "      <td>...</td>\n",
       "      <td>0.000000</td>\n",
       "      <td>0.000000</td>\n",
       "      <td>0.212121</td>\n",
       "      <td>0.212121</td>\n",
       "      <td>17.363636</td>\n",
       "      <td>0.000000</td>\n",
       "      <td>8.909091</td>\n",
       "      <td>0.000000</td>\n",
       "      <td>0.000000</td>\n",
       "      <td>7.121212</td>\n",
       "    </tr>\n",
       "    <tr>\n",
       "      <th>643687</th>\n",
       "      <td>1827860</td>\n",
       "      <td>2016</td>\n",
       "      <td>3</td>\n",
       "      <td>1</td>\n",
       "      <td>0</td>\n",
       "      <td>0</td>\n",
       "      <td>1</td>\n",
       "      <td>1</td>\n",
       "      <td>0</td>\n",
       "      <td>1</td>\n",
       "      <td>...</td>\n",
       "      <td>0.000000</td>\n",
       "      <td>0.000000</td>\n",
       "      <td>0.294118</td>\n",
       "      <td>0.205882</td>\n",
       "      <td>34.705882</td>\n",
       "      <td>0.000000</td>\n",
       "      <td>10.352941</td>\n",
       "      <td>1.705882</td>\n",
       "      <td>1.705882</td>\n",
       "      <td>23.911765</td>\n",
       "    </tr>\n",
       "    <tr>\n",
       "      <th>643688</th>\n",
       "      <td>1827869</td>\n",
       "      <td>2013</td>\n",
       "      <td>1</td>\n",
       "      <td>1</td>\n",
       "      <td>1</td>\n",
       "      <td>0</td>\n",
       "      <td>0</td>\n",
       "      <td>0</td>\n",
       "      <td>1</td>\n",
       "      <td>0</td>\n",
       "      <td>...</td>\n",
       "      <td>0.000000</td>\n",
       "      <td>0.000000</td>\n",
       "      <td>0.000000</td>\n",
       "      <td>0.000000</td>\n",
       "      <td>0.000000</td>\n",
       "      <td>0.525424</td>\n",
       "      <td>0.000000</td>\n",
       "      <td>0.000000</td>\n",
       "      <td>0.000000</td>\n",
       "      <td>0.000000</td>\n",
       "    </tr>\n",
       "    <tr>\n",
       "      <th>643689</th>\n",
       "      <td>1827869</td>\n",
       "      <td>2014</td>\n",
       "      <td>2</td>\n",
       "      <td>0</td>\n",
       "      <td>0</td>\n",
       "      <td>1</td>\n",
       "      <td>0</td>\n",
       "      <td>0</td>\n",
       "      <td>1</td>\n",
       "      <td>0</td>\n",
       "      <td>...</td>\n",
       "      <td>0.000000</td>\n",
       "      <td>0.666667</td>\n",
       "      <td>0.666667</td>\n",
       "      <td>0.000000</td>\n",
       "      <td>0.000000</td>\n",
       "      <td>8.950000</td>\n",
       "      <td>1.033333</td>\n",
       "      <td>0.083333</td>\n",
       "      <td>0.083333</td>\n",
       "      <td>8.133333</td>\n",
       "    </tr>\n",
       "  </tbody>\n",
       "</table>\n",
       "<p>643690 rows × 164 columns</p>\n",
       "</div>"
      ],
      "text/plain": [
       "         persnr  year  nrEntry  ltue  employed_before  receipt_leh_before  \\\n",
       "0             7  2015        1     0                1                   0   \n",
       "1            18  2010        1     1                0                   0   \n",
       "2            18  2011        2     0                1                   0   \n",
       "3            18  2012        3     0                1                   0   \n",
       "4            18  2012        4     0                1                   0   \n",
       "...         ...   ...      ...   ...              ...                 ...   \n",
       "643685  1827860  2013        1     0                0                   0   \n",
       "643686  1827860  2015        2     1                0                   0   \n",
       "643687  1827860  2016        3     1                0                   0   \n",
       "643688  1827869  2013        1     1                1                   0   \n",
       "643689  1827869  2014        2     0                0                   1   \n",
       "\n",
       "        receipt_lhg_before  se_before  ASU_notue_seeking_before  \\\n",
       "0                        0          0                         1   \n",
       "1                        0          0                         0   \n",
       "2                        1          0                         1   \n",
       "3                        1          0                         1   \n",
       "4                        1          0                         1   \n",
       "...                    ...        ...                       ...   \n",
       "643685                   1          0                         0   \n",
       "643686                   1          0                         1   \n",
       "643687                   1          1                         0   \n",
       "643688                   0          0                         1   \n",
       "643689                   0          0                         1   \n",
       "\n",
       "        ASU_other_before  ...  minijob_tot_dur_byage  ft_tot_dur_byage  \\\n",
       "0                      0  ...               0.000000          0.000000   \n",
       "1                      0  ...               0.000000          0.000000   \n",
       "2                      0  ...               2.714286          2.714286   \n",
       "3                      0  ...               4.200000          4.200000   \n",
       "4                      0  ...               5.460000          5.460000   \n",
       "...                  ...  ...                    ...               ...   \n",
       "643685                 1  ...               0.000000          0.000000   \n",
       "643686                 0  ...               0.000000          0.000000   \n",
       "643687                 1  ...               0.000000          0.000000   \n",
       "643688                 0  ...               0.000000          0.000000   \n",
       "643689                 0  ...               0.000000          0.666667   \n",
       "\n",
       "        befrist_tot_dur_byage  leih_tot_dur_byage  LHG_tot_dur_byage  \\\n",
       "0                   15.043478            0.000000           0.000000   \n",
       "1                    0.000000            0.000000           0.000000   \n",
       "2                    0.000000            0.000000          10.775510   \n",
       "3                    0.000000            0.000000          12.100000   \n",
       "4                    0.000000            0.000000          13.360000   \n",
       "...                       ...                 ...                ...   \n",
       "643685               0.000000            0.000000           0.612903   \n",
       "643686               0.212121            0.212121          17.363636   \n",
       "643687               0.294118            0.205882          34.705882   \n",
       "643688               0.000000            0.000000           0.000000   \n",
       "643689               0.666667            0.000000           0.000000   \n",
       "\n",
       "        LEH_tot_dur_byage  almp_tot_dur_byage  almp_aw_tot_dur_byage  \\\n",
       "0                0.000000            0.000000               0.000000   \n",
       "1                0.000000            0.000000               0.000000   \n",
       "2                0.000000            8.367347               0.000000   \n",
       "3                0.000000            9.400000               0.000000   \n",
       "4                0.000000           10.320000               0.000000   \n",
       "...                   ...                 ...                    ...   \n",
       "643685           0.000000            0.000000               0.000000   \n",
       "643686           0.000000            8.909091               0.000000   \n",
       "643687           0.000000           10.352941               1.705882   \n",
       "643688           0.525424            0.000000               0.000000   \n",
       "643689           8.950000            1.033333               0.083333   \n",
       "\n",
       "        se_tot_dur_byage  seeking1_tot_dur_byage  \n",
       "0               0.000000                0.000000  \n",
       "1               0.000000                0.000000  \n",
       "2               0.000000                9.836735  \n",
       "3               0.000000                9.960000  \n",
       "4               0.000000               10.280000  \n",
       "...                  ...                     ...  \n",
       "643685          0.000000                0.000000  \n",
       "643686          0.000000                7.121212  \n",
       "643687          1.705882               23.911765  \n",
       "643688          0.000000                0.000000  \n",
       "643689          0.083333                8.133333  \n",
       "\n",
       "[643690 rows x 164 columns]"
      ]
     },
     "execution_count": 10,
     "metadata": {},
     "output_type": "execute_result"
    }
   ],
   "source": [
    "siab"
   ]
  },
  {
   "cell_type": "markdown",
   "id": "1f87e805",
   "metadata": {
    "papermill": {
     "duration": 0.015753,
     "end_time": "2025-08-19T18:49:19.053690",
     "exception": false,
     "start_time": "2025-08-19T18:49:19.037937",
     "status": "completed"
    },
    "tags": []
   },
   "source": [
    "# Splitting Data and Setting Training Data Size"
   ]
  },
  {
   "cell_type": "code",
   "execution_count": 11,
   "id": "910ae358",
   "metadata": {
    "execution": {
     "iopub.execute_input": "2025-08-19T18:49:19.076417Z",
     "iopub.status.busy": "2025-08-19T18:49:19.075440Z",
     "iopub.status.idle": "2025-08-19T18:49:19.366977Z",
     "shell.execute_reply": "2025-08-19T18:49:19.366246Z"
    },
    "papermill": {
     "duration": 0.305252,
     "end_time": "2025-08-19T18:49:19.368609",
     "exception": false,
     "start_time": "2025-08-19T18:49:19.063357",
     "status": "completed"
    },
    "tags": []
   },
   "outputs": [],
   "source": [
    "from fairness_multiverse.universe import sample_by_year_size\n",
    "\n",
    "siab_train = sample_by_year_size(siab,\n",
    "                               training_year=universe[\"training_year\"],\n",
    "                               training_size=universe[\"training_size\"])"
   ]
  },
  {
   "cell_type": "code",
   "execution_count": 12,
   "id": "919c8ff5",
   "metadata": {
    "execution": {
     "iopub.execute_input": "2025-08-19T18:49:19.391591Z",
     "iopub.status.busy": "2025-08-19T18:49:19.390664Z",
     "iopub.status.idle": "2025-08-19T18:49:19.397596Z",
     "shell.execute_reply": "2025-08-19T18:49:19.396717Z"
    },
    "papermill": {
     "duration": 0.018729,
     "end_time": "2025-08-19T18:49:19.398791",
     "exception": false,
     "start_time": "2025-08-19T18:49:19.380062",
     "status": "completed"
    },
    "tags": []
   },
   "outputs": [
    {
     "data": {
      "text/plain": [
       "(1000, 164)"
      ]
     },
     "execution_count": 12,
     "metadata": {},
     "output_type": "execute_result"
    }
   ],
   "source": [
    "siab_train.shape"
   ]
  },
  {
   "cell_type": "code",
   "execution_count": 13,
   "id": "feb13bf4",
   "metadata": {
    "execution": {
     "iopub.execute_input": "2025-08-19T18:49:19.425194Z",
     "iopub.status.busy": "2025-08-19T18:49:19.424331Z",
     "iopub.status.idle": "2025-08-19T18:49:19.593151Z",
     "shell.execute_reply": "2025-08-19T18:49:19.592307Z"
    },
    "papermill": {
     "duration": 0.185739,
     "end_time": "2025-08-19T18:49:19.595928",
     "exception": false,
     "start_time": "2025-08-19T18:49:19.410189",
     "status": "completed"
    },
    "tags": []
   },
   "outputs": [
    {
     "data": {
      "text/plain": [
       "year\n",
       "2014    1000\n",
       "dtype: int64"
      ]
     },
     "metadata": {},
     "output_type": "display_data"
    }
   ],
   "source": [
    "display(siab_train.groupby(\"year\").size())"
   ]
  },
  {
   "cell_type": "code",
   "execution_count": 14,
   "id": "0997782f",
   "metadata": {
    "execution": {
     "iopub.execute_input": "2025-08-19T18:49:19.631881Z",
     "iopub.status.busy": "2025-08-19T18:49:19.630744Z",
     "iopub.status.idle": "2025-08-19T18:49:19.929171Z",
     "shell.execute_reply": "2025-08-19T18:49:19.927506Z"
    },
    "papermill": {
     "duration": 0.31399,
     "end_time": "2025-08-19T18:49:19.931187",
     "exception": false,
     "start_time": "2025-08-19T18:49:19.617197",
     "status": "completed"
    },
    "tags": []
   },
   "outputs": [],
   "source": [
    "#siab_train = siab_s[siab_s.year < 2015]\n",
    "siab_calib = siab[siab.year == 2015]\n",
    "siab_test = siab[siab.year == 2016]"
   ]
  },
  {
   "cell_type": "code",
   "execution_count": 15,
   "id": "2c1e4012",
   "metadata": {
    "execution": {
     "iopub.execute_input": "2025-08-19T18:49:19.993912Z",
     "iopub.status.busy": "2025-08-19T18:49:19.992985Z",
     "iopub.status.idle": "2025-08-19T18:49:19.997684Z",
     "shell.execute_reply": "2025-08-19T18:49:19.997099Z"
    },
    "papermill": {
     "duration": 0.051944,
     "end_time": "2025-08-19T18:49:19.999546",
     "exception": false,
     "start_time": "2025-08-19T18:49:19.947602",
     "status": "completed"
    },
    "tags": []
   },
   "outputs": [],
   "source": [
    "#siab_calib.shape"
   ]
  },
  {
   "cell_type": "code",
   "execution_count": 16,
   "id": "f66b54ca",
   "metadata": {
    "execution": {
     "iopub.execute_input": "2025-08-19T18:49:20.036431Z",
     "iopub.status.busy": "2025-08-19T18:49:20.035351Z",
     "iopub.status.idle": "2025-08-19T18:49:20.043028Z",
     "shell.execute_reply": "2025-08-19T18:49:20.041432Z"
    },
    "papermill": {
     "duration": 0.027523,
     "end_time": "2025-08-19T18:49:20.047387",
     "exception": false,
     "start_time": "2025-08-19T18:49:20.019864",
     "status": "completed"
    },
    "tags": []
   },
   "outputs": [],
   "source": [
    "#siab_test.shape"
   ]
  },
  {
   "cell_type": "code",
   "execution_count": 17,
   "id": "27e4384d",
   "metadata": {
    "execution": {
     "iopub.execute_input": "2025-08-19T18:49:20.069913Z",
     "iopub.status.busy": "2025-08-19T18:49:20.069068Z",
     "iopub.status.idle": "2025-08-19T18:49:20.083362Z",
     "shell.execute_reply": "2025-08-19T18:49:20.081956Z"
    },
    "papermill": {
     "duration": 0.027415,
     "end_time": "2025-08-19T18:49:20.085023",
     "exception": false,
     "start_time": "2025-08-19T18:49:20.057608",
     "status": "completed"
    },
    "tags": []
   },
   "outputs": [],
   "source": [
    "X_train = siab_train.iloc[:,4:164]\n",
    "y_train = siab_train.iloc[:, [3]]"
   ]
  },
  {
   "cell_type": "code",
   "execution_count": 18,
   "id": "08ee8389",
   "metadata": {
    "execution": {
     "iopub.execute_input": "2025-08-19T18:49:20.118462Z",
     "iopub.status.busy": "2025-08-19T18:49:20.117468Z",
     "iopub.status.idle": "2025-08-19T18:49:20.174273Z",
     "shell.execute_reply": "2025-08-19T18:49:20.173630Z"
    },
    "papermill": {
     "duration": 0.077635,
     "end_time": "2025-08-19T18:49:20.178347",
     "exception": false,
     "start_time": "2025-08-19T18:49:20.100712",
     "status": "completed"
    },
    "tags": []
   },
   "outputs": [],
   "source": [
    "X_calib = siab_calib.iloc[:,4:164]\n",
    "y_calib = siab_calib.iloc[:, [3]]"
   ]
  },
  {
   "cell_type": "code",
   "execution_count": 19,
   "id": "b7ff42e0",
   "metadata": {
    "execution": {
     "iopub.execute_input": "2025-08-19T18:49:20.216447Z",
     "iopub.status.busy": "2025-08-19T18:49:20.215866Z",
     "iopub.status.idle": "2025-08-19T18:49:20.292063Z",
     "shell.execute_reply": "2025-08-19T18:49:20.291220Z"
    },
    "papermill": {
     "duration": 0.091211,
     "end_time": "2025-08-19T18:49:20.293683",
     "exception": false,
     "start_time": "2025-08-19T18:49:20.202472",
     "status": "completed"
    },
    "tags": []
   },
   "outputs": [],
   "source": [
    "X_test = siab_test.iloc[:,4:164]\n",
    "y_true = siab_test.iloc[:, [3]]"
   ]
  },
  {
   "cell_type": "code",
   "execution_count": 20,
   "id": "0275101e",
   "metadata": {
    "execution": {
     "iopub.execute_input": "2025-08-19T18:49:20.319368Z",
     "iopub.status.busy": "2025-08-19T18:49:20.319004Z",
     "iopub.status.idle": "2025-08-19T18:49:20.432597Z",
     "shell.execute_reply": "2025-08-19T18:49:20.431842Z"
    },
    "papermill": {
     "duration": 0.125739,
     "end_time": "2025-08-19T18:49:20.433948",
     "exception": false,
     "start_time": "2025-08-19T18:49:20.308209",
     "status": "completed"
    },
    "tags": []
   },
   "outputs": [],
   "source": [
    "# Auxiliary data needed downstream in the pipeline\n",
    "\n",
    "org_train = X_train.copy()\n",
    "org_test = X_test.copy()\n",
    "org_calib = X_calib.copy()"
   ]
  },
  {
   "cell_type": "markdown",
   "id": "b461e618",
   "metadata": {
    "papermill": {
     "duration": 0.009911,
     "end_time": "2025-08-19T18:49:20.454170",
     "exception": false,
     "start_time": "2025-08-19T18:49:20.444259",
     "status": "completed"
    },
    "tags": []
   },
   "source": [
    "# Preprocessing Data"
   ]
  },
  {
   "cell_type": "code",
   "execution_count": 21,
   "id": "78e74c4b",
   "metadata": {
    "execution": {
     "iopub.execute_input": "2025-08-19T18:49:20.475695Z",
     "iopub.status.busy": "2025-08-19T18:49:20.475001Z",
     "iopub.status.idle": "2025-08-19T18:49:20.481309Z",
     "shell.execute_reply": "2025-08-19T18:49:20.480661Z"
    },
    "papermill": {
     "duration": 0.01909,
     "end_time": "2025-08-19T18:49:20.483041",
     "exception": false,
     "start_time": "2025-08-19T18:49:20.463951",
     "status": "completed"
    },
    "tags": []
   },
   "outputs": [],
   "source": [
    "# EXCLUDE PROTECTED FEATURES\n",
    "# --------------------------\n",
    "\n",
    "excluded_features = universe[\"exclude_features\"].split(\"-\")\n",
    "excluded_features_dictionary = {\n",
    "    \"nationality\": [\"maxdeutsch1\", \"maxdeutsch.Missing.\"],\n",
    "    \"sex\": [\"frau1\"],\n",
    "    \"age\": [\"age\"],\n",
    "}"
   ]
  },
  {
   "cell_type": "code",
   "execution_count": 22,
   "id": "f8e63555",
   "metadata": {
    "execution": {
     "iopub.execute_input": "2025-08-19T18:49:20.519923Z",
     "iopub.status.busy": "2025-08-19T18:49:20.519528Z",
     "iopub.status.idle": "2025-08-19T18:49:20.524195Z",
     "shell.execute_reply": "2025-08-19T18:49:20.523502Z"
    },
    "papermill": {
     "duration": 0.023452,
     "end_time": "2025-08-19T18:49:20.525503",
     "exception": false,
     "start_time": "2025-08-19T18:49:20.502051",
     "status": "completed"
    },
    "tags": []
   },
   "outputs": [],
   "source": [
    "excluded_features_columns = [\n",
    "    excluded_features_dictionary[f] for f in excluded_features if len(f) > 0 and f != \"none\"\n",
    "]"
   ]
  },
  {
   "cell_type": "code",
   "execution_count": 23,
   "id": "da781f7c",
   "metadata": {
    "execution": {
     "iopub.execute_input": "2025-08-19T18:49:20.546506Z",
     "iopub.status.busy": "2025-08-19T18:49:20.546187Z",
     "iopub.status.idle": "2025-08-19T18:49:20.550120Z",
     "shell.execute_reply": "2025-08-19T18:49:20.549478Z"
    },
    "papermill": {
     "duration": 0.019404,
     "end_time": "2025-08-19T18:49:20.554994",
     "exception": false,
     "start_time": "2025-08-19T18:49:20.535590",
     "status": "completed"
    },
    "tags": []
   },
   "outputs": [],
   "source": [
    "from fairness_multiverse.universe import flatten_once\n",
    "\n",
    "excluded_features_columns = flatten_once(excluded_features_columns)"
   ]
  },
  {
   "cell_type": "code",
   "execution_count": 24,
   "id": "37fef0f0",
   "metadata": {
    "execution": {
     "iopub.execute_input": "2025-08-19T18:49:20.588279Z",
     "iopub.status.busy": "2025-08-19T18:49:20.587864Z",
     "iopub.status.idle": "2025-08-19T18:49:20.596310Z",
     "shell.execute_reply": "2025-08-19T18:49:20.595547Z"
    },
    "papermill": {
     "duration": 0.022627,
     "end_time": "2025-08-19T18:49:20.597800",
     "exception": false,
     "start_time": "2025-08-19T18:49:20.575173",
     "status": "completed"
    },
    "tags": []
   },
   "outputs": [
    {
     "name": "stdout",
     "output_type": "stream",
     "text": [
      "Dropping features: ['age']\n"
     ]
    }
   ],
   "source": [
    "if len(excluded_features_columns) > 0:\n",
    "    print(f\"Dropping features: {excluded_features_columns}\")\n",
    "    X_train.drop(excluded_features_columns, axis=1, inplace=True)"
   ]
  },
  {
   "cell_type": "code",
   "execution_count": 25,
   "id": "d029e3e9",
   "metadata": {
    "execution": {
     "iopub.execute_input": "2025-08-19T18:49:20.623195Z",
     "iopub.status.busy": "2025-08-19T18:49:20.622782Z",
     "iopub.status.idle": "2025-08-19T18:49:20.679326Z",
     "shell.execute_reply": "2025-08-19T18:49:20.678142Z"
    },
    "papermill": {
     "duration": 0.071819,
     "end_time": "2025-08-19T18:49:20.681878",
     "exception": false,
     "start_time": "2025-08-19T18:49:20.610059",
     "status": "completed"
    },
    "tags": []
   },
   "outputs": [
    {
     "name": "stdout",
     "output_type": "stream",
     "text": [
      "Dropping features: ['age']\n"
     ]
    }
   ],
   "source": [
    "if len(excluded_features_columns) > 0:\n",
    "    print(f\"Dropping features: {excluded_features_columns}\")\n",
    "    X_test.drop(excluded_features_columns, axis=1, inplace=True)"
   ]
  },
  {
   "cell_type": "code",
   "execution_count": 26,
   "id": "01d571f0",
   "metadata": {
    "execution": {
     "iopub.execute_input": "2025-08-19T18:49:20.724784Z",
     "iopub.status.busy": "2025-08-19T18:49:20.723651Z",
     "iopub.status.idle": "2025-08-19T18:49:20.805134Z",
     "shell.execute_reply": "2025-08-19T18:49:20.804433Z"
    },
    "papermill": {
     "duration": 0.100066,
     "end_time": "2025-08-19T18:49:20.807594",
     "exception": false,
     "start_time": "2025-08-19T18:49:20.707528",
     "status": "completed"
    },
    "tags": []
   },
   "outputs": [
    {
     "name": "stdout",
     "output_type": "stream",
     "text": [
      "Dropping features: ['age']\n"
     ]
    }
   ],
   "source": [
    "if len(excluded_features_columns) > 0:\n",
    "    print(f\"Dropping features: {excluded_features_columns}\")\n",
    "    X_calib.drop(excluded_features_columns, axis=1, inplace=True)"
   ]
  },
  {
   "cell_type": "code",
   "execution_count": 27,
   "id": "3037356e",
   "metadata": {
    "execution": {
     "iopub.execute_input": "2025-08-19T18:49:20.846962Z",
     "iopub.status.busy": "2025-08-19T18:49:20.846000Z",
     "iopub.status.idle": "2025-08-19T18:49:20.853386Z",
     "shell.execute_reply": "2025-08-19T18:49:20.852119Z"
    },
    "papermill": {
     "duration": 0.028149,
     "end_time": "2025-08-19T18:49:20.860814",
     "exception": false,
     "start_time": "2025-08-19T18:49:20.832665",
     "status": "completed"
    },
    "tags": []
   },
   "outputs": [],
   "source": [
    "# EXCLUDE CERTAIN SUBGROUPS\n",
    "# -------------------------\n",
    "\n",
    "mode = universe.get(\"exclude_subgroups\", \"keep-all\") # Defaults to \"keep-all\" if the key is missing."
   ]
  },
  {
   "cell_type": "code",
   "execution_count": 28,
   "id": "9d1e63fd",
   "metadata": {
    "execution": {
     "iopub.execute_input": "2025-08-19T18:49:20.891569Z",
     "iopub.status.busy": "2025-08-19T18:49:20.890286Z",
     "iopub.status.idle": "2025-08-19T18:49:20.900751Z",
     "shell.execute_reply": "2025-08-19T18:49:20.899586Z"
    },
    "papermill": {
     "duration": 0.029224,
     "end_time": "2025-08-19T18:49:20.902332",
     "exception": false,
     "start_time": "2025-08-19T18:49:20.873108",
     "status": "completed"
    },
    "tags": []
   },
   "outputs": [],
   "source": [
    "if mode == \"keep-all\":\n",
    "    keep_mask = pd.Series(True, index=org_train.index)\n",
    "\n",
    "elif mode == \"drop-non-german\":\n",
    "    keep_mask = (org_train[\"maxdeutsch1\"] == 1) & (org_train[\"maxdeutsch.Missing.\"] == 0)\n",
    "\n",
    "else:\n",
    "    raise ValueError(f\"Unsupported mode for exclude_subgroups: {mode}\")"
   ]
  },
  {
   "cell_type": "code",
   "execution_count": 29,
   "id": "d3b65474",
   "metadata": {
    "execution": {
     "iopub.execute_input": "2025-08-19T18:49:20.930686Z",
     "iopub.status.busy": "2025-08-19T18:49:20.929695Z",
     "iopub.status.idle": "2025-08-19T18:49:20.939118Z",
     "shell.execute_reply": "2025-08-19T18:49:20.938058Z"
    },
    "papermill": {
     "duration": 0.024307,
     "end_time": "2025-08-19T18:49:20.942057",
     "exception": false,
     "start_time": "2025-08-19T18:49:20.917750",
     "status": "completed"
    },
    "tags": []
   },
   "outputs": [],
   "source": [
    "n_drop = (~keep_mask).sum() # Calculates how many rows are set to be dropped\n",
    "if n_drop > 0:\n",
    "    pct = n_drop / len(keep_mask) * 100\n",
    "    print(f\"Dropping {n_drop} rows ({pct:.2f}%) where mode='{mode}'\")"
   ]
  },
  {
   "cell_type": "code",
   "execution_count": 30,
   "id": "f44389b3",
   "metadata": {
    "execution": {
     "iopub.execute_input": "2025-08-19T18:49:20.971924Z",
     "iopub.status.busy": "2025-08-19T18:49:20.971059Z",
     "iopub.status.idle": "2025-08-19T18:49:20.979047Z",
     "shell.execute_reply": "2025-08-19T18:49:20.977001Z"
    },
    "papermill": {
     "duration": 0.021258,
     "end_time": "2025-08-19T18:49:20.980705",
     "exception": false,
     "start_time": "2025-08-19T18:49:20.959447",
     "status": "completed"
    },
    "tags": []
   },
   "outputs": [],
   "source": [
    "X_train = X_train[keep_mask]"
   ]
  },
  {
   "cell_type": "code",
   "execution_count": 31,
   "id": "ceca8c2a",
   "metadata": {
    "execution": {
     "iopub.execute_input": "2025-08-19T18:49:21.005830Z",
     "iopub.status.busy": "2025-08-19T18:49:21.005485Z",
     "iopub.status.idle": "2025-08-19T18:49:21.010056Z",
     "shell.execute_reply": "2025-08-19T18:49:21.009384Z"
    },
    "papermill": {
     "duration": 0.017417,
     "end_time": "2025-08-19T18:49:21.011169",
     "exception": false,
     "start_time": "2025-08-19T18:49:20.993752",
     "status": "completed"
    },
    "tags": []
   },
   "outputs": [],
   "source": [
    "y_train = y_train[keep_mask]"
   ]
  },
  {
   "cell_type": "markdown",
   "id": "04d31e2f",
   "metadata": {
    "papermill": {
     "duration": 0.020311,
     "end_time": "2025-08-19T18:49:21.042301",
     "exception": false,
     "start_time": "2025-08-19T18:49:21.021990",
     "status": "completed"
    },
    "tags": []
   },
   "source": [
    "# Model Training"
   ]
  },
  {
   "cell_type": "code",
   "execution_count": 32,
   "id": "db991733",
   "metadata": {
    "execution": {
     "iopub.execute_input": "2025-08-19T18:49:21.097471Z",
     "iopub.status.busy": "2025-08-19T18:49:21.096944Z",
     "iopub.status.idle": "2025-08-19T18:49:21.227411Z",
     "shell.execute_reply": "2025-08-19T18:49:21.226577Z"
    },
    "papermill": {
     "duration": 0.16005,
     "end_time": "2025-08-19T18:49:21.229106",
     "exception": false,
     "start_time": "2025-08-19T18:49:21.069056",
     "status": "completed"
    },
    "tags": []
   },
   "outputs": [],
   "source": [
    "from sklearn.linear_model import LogisticRegression\n",
    "from sklearn.ensemble import GradientBoostingClassifier, RandomForestClassifier\n",
    "\n",
    "if (universe[\"model\"] == \"logreg\"):\n",
    "    model = LogisticRegression() #penalty=\"none\", solver=\"newton-cg\", max_iter=1)\n",
    "elif (universe[\"model\"] == \"penalized_logreg\"):\n",
    "    model = LogisticRegression(penalty=\"l2\", C=0.1) #, solver=\"newton-cg\", max_iter=1)\n",
    "elif (universe[\"model\"] == \"rf\"):\n",
    "    model = RandomForestClassifier() # n_estimators=100, n_jobs=-1\n",
    "elif (universe[\"model\"] == \"gbm\"):\n",
    "    model = GradientBoostingClassifier()\n",
    "elif (universe[\"model\"] == \"elasticnet\"):\n",
    "    model = LogisticRegression(penalty = 'elasticnet', solver = 'saga', l1_ratio = 0.5) # max_iter=5000\n",
    "else:\n",
    "    raise \"Unsupported universe.model\""
   ]
  },
  {
   "cell_type": "code",
   "execution_count": 33,
   "id": "a4b5cd25",
   "metadata": {
    "execution": {
     "iopub.execute_input": "2025-08-19T18:49:21.256454Z",
     "iopub.status.busy": "2025-08-19T18:49:21.256032Z",
     "iopub.status.idle": "2025-08-19T18:49:21.261062Z",
     "shell.execute_reply": "2025-08-19T18:49:21.260326Z"
    },
    "papermill": {
     "duration": 0.01917,
     "end_time": "2025-08-19T18:49:21.262396",
     "exception": false,
     "start_time": "2025-08-19T18:49:21.243226",
     "status": "completed"
    },
    "tags": []
   },
   "outputs": [],
   "source": [
    "from sklearn.pipeline import Pipeline\n",
    "from sklearn.preprocessing import StandardScaler\n",
    "\n",
    "model = Pipeline([\n",
    "    #(\"continuous_processor\", continuous_processor),\n",
    "    #(\"categorical_preprocessor\", categorical_preprocessor),\n",
    "    (\"scale\", StandardScaler() if universe[\"scale\"] == \"scale\" else None), \n",
    "    (\"model\", model),\n",
    "])"
   ]
  },
  {
   "cell_type": "code",
   "execution_count": 34,
   "id": "283a904d",
   "metadata": {
    "execution": {
     "iopub.execute_input": "2025-08-19T18:49:21.286423Z",
     "iopub.status.busy": "2025-08-19T18:49:21.286021Z",
     "iopub.status.idle": "2025-08-19T18:49:21.427426Z",
     "shell.execute_reply": "2025-08-19T18:49:21.426741Z"
    },
    "papermill": {
     "duration": 0.155246,
     "end_time": "2025-08-19T18:49:21.428860",
     "exception": false,
     "start_time": "2025-08-19T18:49:21.273614",
     "status": "completed"
    },
    "tags": []
   },
   "outputs": [
    {
     "name": "stderr",
     "output_type": "stream",
     "text": [
      "/dss/dsshome1/0C/ra93lal2/.local/share/virtualenvs/CMA_Fairness_v2-3j10GkSs/lib/python3.10/site-packages/sklearn/linear_model/_logistic.py:444: ConvergenceWarning: lbfgs failed to converge (status=1):\n",
      "STOP: TOTAL NO. of ITERATIONS REACHED LIMIT.\n",
      "\n",
      "Increase the number of iterations (max_iter) or scale the data as shown in:\n",
      "    https://scikit-learn.org/stable/modules/preprocessing.html\n",
      "Please also refer to the documentation for alternative solver options:\n",
      "    https://scikit-learn.org/stable/modules/linear_model.html#logistic-regression\n",
      "  n_iter_i = _check_optimize_result(\n"
     ]
    },
    {
     "data": {
      "text/html": [
       "<style>#sk-container-id-1 {color: black;background-color: white;}#sk-container-id-1 pre{padding: 0;}#sk-container-id-1 div.sk-toggleable {background-color: white;}#sk-container-id-1 label.sk-toggleable__label {cursor: pointer;display: block;width: 100%;margin-bottom: 0;padding: 0.3em;box-sizing: border-box;text-align: center;}#sk-container-id-1 label.sk-toggleable__label-arrow:before {content: \"▸\";float: left;margin-right: 0.25em;color: #696969;}#sk-container-id-1 label.sk-toggleable__label-arrow:hover:before {color: black;}#sk-container-id-1 div.sk-estimator:hover label.sk-toggleable__label-arrow:before {color: black;}#sk-container-id-1 div.sk-toggleable__content {max-height: 0;max-width: 0;overflow: hidden;text-align: left;background-color: #f0f8ff;}#sk-container-id-1 div.sk-toggleable__content pre {margin: 0.2em;color: black;border-radius: 0.25em;background-color: #f0f8ff;}#sk-container-id-1 input.sk-toggleable__control:checked~div.sk-toggleable__content {max-height: 200px;max-width: 100%;overflow: auto;}#sk-container-id-1 input.sk-toggleable__control:checked~label.sk-toggleable__label-arrow:before {content: \"▾\";}#sk-container-id-1 div.sk-estimator input.sk-toggleable__control:checked~label.sk-toggleable__label {background-color: #d4ebff;}#sk-container-id-1 div.sk-label input.sk-toggleable__control:checked~label.sk-toggleable__label {background-color: #d4ebff;}#sk-container-id-1 input.sk-hidden--visually {border: 0;clip: rect(1px 1px 1px 1px);clip: rect(1px, 1px, 1px, 1px);height: 1px;margin: -1px;overflow: hidden;padding: 0;position: absolute;width: 1px;}#sk-container-id-1 div.sk-estimator {font-family: monospace;background-color: #f0f8ff;border: 1px dotted black;border-radius: 0.25em;box-sizing: border-box;margin-bottom: 0.5em;}#sk-container-id-1 div.sk-estimator:hover {background-color: #d4ebff;}#sk-container-id-1 div.sk-parallel-item::after {content: \"\";width: 100%;border-bottom: 1px solid gray;flex-grow: 1;}#sk-container-id-1 div.sk-label:hover label.sk-toggleable__label {background-color: #d4ebff;}#sk-container-id-1 div.sk-serial::before {content: \"\";position: absolute;border-left: 1px solid gray;box-sizing: border-box;top: 0;bottom: 0;left: 50%;z-index: 0;}#sk-container-id-1 div.sk-serial {display: flex;flex-direction: column;align-items: center;background-color: white;padding-right: 0.2em;padding-left: 0.2em;position: relative;}#sk-container-id-1 div.sk-item {position: relative;z-index: 1;}#sk-container-id-1 div.sk-parallel {display: flex;align-items: stretch;justify-content: center;background-color: white;position: relative;}#sk-container-id-1 div.sk-item::before, #sk-container-id-1 div.sk-parallel-item::before {content: \"\";position: absolute;border-left: 1px solid gray;box-sizing: border-box;top: 0;bottom: 0;left: 50%;z-index: -1;}#sk-container-id-1 div.sk-parallel-item {display: flex;flex-direction: column;z-index: 1;position: relative;background-color: white;}#sk-container-id-1 div.sk-parallel-item:first-child::after {align-self: flex-end;width: 50%;}#sk-container-id-1 div.sk-parallel-item:last-child::after {align-self: flex-start;width: 50%;}#sk-container-id-1 div.sk-parallel-item:only-child::after {width: 0;}#sk-container-id-1 div.sk-dashed-wrapped {border: 1px dashed gray;margin: 0 0.4em 0.5em 0.4em;box-sizing: border-box;padding-bottom: 0.4em;background-color: white;}#sk-container-id-1 div.sk-label label {font-family: monospace;font-weight: bold;display: inline-block;line-height: 1.2em;}#sk-container-id-1 div.sk-label-container {text-align: center;}#sk-container-id-1 div.sk-container {/* jupyter's `normalize.less` sets `[hidden] { display: none; }` but bootstrap.min.css set `[hidden] { display: none !important; }` so we also need the `!important` here to be able to override the default hidden behavior on the sphinx rendered scikit-learn.org. See: https://github.com/scikit-learn/scikit-learn/issues/21755 */display: inline-block !important;position: relative;}#sk-container-id-1 div.sk-text-repr-fallback {display: none;}</style><div id=\"sk-container-id-1\" class=\"sk-top-container\"><div class=\"sk-text-repr-fallback\"><pre>Pipeline(steps=[(&#x27;scale&#x27;, StandardScaler()), (&#x27;model&#x27;, LogisticRegression())])</pre><b>In a Jupyter environment, please rerun this cell to show the HTML representation or trust the notebook. <br />On GitHub, the HTML representation is unable to render, please try loading this page with nbviewer.org.</b></div><div class=\"sk-container\" hidden><div class=\"sk-item sk-dashed-wrapped\"><div class=\"sk-label-container\"><div class=\"sk-label sk-toggleable\"><input class=\"sk-toggleable__control sk-hidden--visually\" id=\"sk-estimator-id-1\" type=\"checkbox\" ><label for=\"sk-estimator-id-1\" class=\"sk-toggleable__label sk-toggleable__label-arrow\">Pipeline</label><div class=\"sk-toggleable__content\"><pre>Pipeline(steps=[(&#x27;scale&#x27;, StandardScaler()), (&#x27;model&#x27;, LogisticRegression())])</pre></div></div></div><div class=\"sk-serial\"><div class=\"sk-item\"><div class=\"sk-estimator sk-toggleable\"><input class=\"sk-toggleable__control sk-hidden--visually\" id=\"sk-estimator-id-2\" type=\"checkbox\" ><label for=\"sk-estimator-id-2\" class=\"sk-toggleable__label sk-toggleable__label-arrow\">StandardScaler</label><div class=\"sk-toggleable__content\"><pre>StandardScaler()</pre></div></div></div><div class=\"sk-item\"><div class=\"sk-estimator sk-toggleable\"><input class=\"sk-toggleable__control sk-hidden--visually\" id=\"sk-estimator-id-3\" type=\"checkbox\" ><label for=\"sk-estimator-id-3\" class=\"sk-toggleable__label sk-toggleable__label-arrow\">LogisticRegression</label><div class=\"sk-toggleable__content\"><pre>LogisticRegression()</pre></div></div></div></div></div></div></div>"
      ],
      "text/plain": [
       "Pipeline(steps=[('scale', StandardScaler()), ('model', LogisticRegression())])"
      ]
     },
     "execution_count": 34,
     "metadata": {},
     "output_type": "execute_result"
    }
   ],
   "source": [
    "model.fit(X_train, y_train.values.ravel())"
   ]
  },
  {
   "cell_type": "code",
   "execution_count": 35,
   "id": "6e15e313",
   "metadata": {
    "execution": {
     "iopub.execute_input": "2025-08-19T18:49:21.454617Z",
     "iopub.status.busy": "2025-08-19T18:49:21.453921Z",
     "iopub.status.idle": "2025-08-19T18:49:21.653807Z",
     "shell.execute_reply": "2025-08-19T18:49:21.653081Z"
    },
    "papermill": {
     "duration": 0.213928,
     "end_time": "2025-08-19T18:49:21.655059",
     "exception": false,
     "start_time": "2025-08-19T18:49:21.441131",
     "status": "completed"
    },
    "tags": []
   },
   "outputs": [
    {
     "data": {
      "text/plain": [
       "0.8159736930108126"
      ]
     },
     "execution_count": 35,
     "metadata": {},
     "output_type": "execute_result"
    }
   ],
   "source": [
    "from fairness_multiverse.universe import predict_w_threshold\n",
    "\n",
    "probs_test = model.predict_proba(X_test)\n",
    "\n",
    "'''\n",
    "Below code returns a boolean array (or binary 0/1 array depending on how it’s used) where each element \n",
    "is True if the probability of class 1 is greater than or equal to the threshold, and False otherwise.\n",
    "'''\n",
    "y_pred_default = predict_w_threshold(probs_test, 0.5)\n",
    "\n",
    "from sklearn.metrics import accuracy_score\n",
    "\n",
    "# Naive prediction\n",
    "accuracy_score(y_true = y_true, y_pred = y_pred_default)"
   ]
  },
  {
   "cell_type": "code",
   "execution_count": 36,
   "id": "6f14067c",
   "metadata": {
    "execution": {
     "iopub.execute_input": "2025-08-19T18:49:21.679609Z",
     "iopub.status.busy": "2025-08-19T18:49:21.678655Z",
     "iopub.status.idle": "2025-08-19T18:49:21.876005Z",
     "shell.execute_reply": "2025-08-19T18:49:21.875021Z"
    },
    "papermill": {
     "duration": 0.211083,
     "end_time": "2025-08-19T18:49:21.877455",
     "exception": false,
     "start_time": "2025-08-19T18:49:21.666372",
     "status": "completed"
    },
    "tags": []
   },
   "outputs": [
    {
     "data": {
      "text/plain": [
       "array([0, 0, 0, ..., 0, 0, 0])"
      ]
     },
     "execution_count": 36,
     "metadata": {},
     "output_type": "execute_result"
    }
   ],
   "source": [
    "model.predict(X_test)"
   ]
  },
  {
   "cell_type": "markdown",
   "id": "3759920c",
   "metadata": {
    "papermill": {
     "duration": 0.011068,
     "end_time": "2025-08-19T18:49:21.901628",
     "exception": false,
     "start_time": "2025-08-19T18:49:21.890560",
     "status": "completed"
    },
    "tags": []
   },
   "source": [
    "# Conformal Prediction"
   ]
  },
  {
   "cell_type": "code",
   "execution_count": 37,
   "id": "14b27f59",
   "metadata": {
    "execution": {
     "iopub.execute_input": "2025-08-19T18:49:21.925893Z",
     "iopub.status.busy": "2025-08-19T18:49:21.925074Z",
     "iopub.status.idle": "2025-08-19T18:49:21.930099Z",
     "shell.execute_reply": "2025-08-19T18:49:21.929332Z"
    },
    "papermill": {
     "duration": 0.018501,
     "end_time": "2025-08-19T18:49:21.931237",
     "exception": false,
     "start_time": "2025-08-19T18:49:21.912736",
     "status": "completed"
    },
    "tags": []
   },
   "outputs": [],
   "source": [
    "# Miscoverage level for conformal prediction (10% allowed error rate => 90% target coverage)\n",
    "alpha = 0.1"
   ]
  },
  {
   "cell_type": "code",
   "execution_count": 38,
   "id": "59102472",
   "metadata": {
    "execution": {
     "iopub.execute_input": "2025-08-19T18:49:21.955150Z",
     "iopub.status.busy": "2025-08-19T18:49:21.954324Z",
     "iopub.status.idle": "2025-08-19T18:49:22.140823Z",
     "shell.execute_reply": "2025-08-19T18:49:22.139899Z"
    },
    "papermill": {
     "duration": 0.200061,
     "end_time": "2025-08-19T18:49:22.142546",
     "exception": false,
     "start_time": "2025-08-19T18:49:21.942485",
     "status": "completed"
    },
    "tags": []
   },
   "outputs": [],
   "source": [
    "probs_calib = model.predict_proba(X_calib)"
   ]
  },
  {
   "cell_type": "code",
   "execution_count": 39,
   "id": "a792d4dd",
   "metadata": {
    "execution": {
     "iopub.execute_input": "2025-08-19T18:49:22.186154Z",
     "iopub.status.busy": "2025-08-19T18:49:22.185682Z",
     "iopub.status.idle": "2025-08-19T18:49:22.192058Z",
     "shell.execute_reply": "2025-08-19T18:49:22.191179Z"
    },
    "papermill": {
     "duration": 0.029949,
     "end_time": "2025-08-19T18:49:22.193743",
     "exception": false,
     "start_time": "2025-08-19T18:49:22.163794",
     "status": "completed"
    },
    "tags": []
   },
   "outputs": [],
   "source": [
    "y_calib = y_calib.values.ravel().astype(int)"
   ]
  },
  {
   "cell_type": "code",
   "execution_count": 40,
   "id": "650fd033",
   "metadata": {
    "execution": {
     "iopub.execute_input": "2025-08-19T18:49:22.218916Z",
     "iopub.status.busy": "2025-08-19T18:49:22.218489Z",
     "iopub.status.idle": "2025-08-19T18:49:22.225916Z",
     "shell.execute_reply": "2025-08-19T18:49:22.224944Z"
    },
    "papermill": {
     "duration": 0.021218,
     "end_time": "2025-08-19T18:49:22.227309",
     "exception": false,
     "start_time": "2025-08-19T18:49:22.206091",
     "status": "completed"
    },
    "tags": []
   },
   "outputs": [],
   "source": [
    "from fairness_multiverse.conformal import compute_nc_scores\n",
    "\n",
    "# Compute nonconformity scores on calibration set (1 - probability of true class)\n",
    "nc_scores = compute_nc_scores(probs_calib, y_calib)"
   ]
  },
  {
   "cell_type": "code",
   "execution_count": 41,
   "id": "28ada44c",
   "metadata": {
    "execution": {
     "iopub.execute_input": "2025-08-19T18:49:22.253074Z",
     "iopub.status.busy": "2025-08-19T18:49:22.252751Z",
     "iopub.status.idle": "2025-08-19T18:49:22.259340Z",
     "shell.execute_reply": "2025-08-19T18:49:22.258340Z"
    },
    "papermill": {
     "duration": 0.021296,
     "end_time": "2025-08-19T18:49:22.261171",
     "exception": false,
     "start_time": "2025-08-19T18:49:22.239875",
     "status": "completed"
    },
    "tags": []
   },
   "outputs": [],
   "source": [
    "from fairness_multiverse.conformal import find_threshold\n",
    "\n",
    "# Find conformal threshold q_hat for the given alpha (split conformal method)\n",
    "q_hat = find_threshold(nc_scores, alpha)"
   ]
  },
  {
   "cell_type": "code",
   "execution_count": 42,
   "id": "df56469e",
   "metadata": {
    "execution": {
     "iopub.execute_input": "2025-08-19T18:49:22.287954Z",
     "iopub.status.busy": "2025-08-19T18:49:22.287549Z",
     "iopub.status.idle": "2025-08-19T18:49:22.293233Z",
     "shell.execute_reply": "2025-08-19T18:49:22.292538Z"
    },
    "papermill": {
     "duration": 0.019596,
     "end_time": "2025-08-19T18:49:22.294842",
     "exception": false,
     "start_time": "2025-08-19T18:49:22.275246",
     "status": "completed"
    },
    "tags": []
   },
   "outputs": [
    {
     "data": {
      "text/plain": [
       "0.8082353041063176"
      ]
     },
     "execution_count": 42,
     "metadata": {},
     "output_type": "execute_result"
    }
   ],
   "source": [
    "q_hat"
   ]
  },
  {
   "cell_type": "code",
   "execution_count": 43,
   "id": "aa1f5faa",
   "metadata": {
    "execution": {
     "iopub.execute_input": "2025-08-19T18:49:22.320016Z",
     "iopub.status.busy": "2025-08-19T18:49:22.319604Z",
     "iopub.status.idle": "2025-08-19T18:49:22.946847Z",
     "shell.execute_reply": "2025-08-19T18:49:22.945793Z"
    },
    "papermill": {
     "duration": 0.64288,
     "end_time": "2025-08-19T18:49:22.949902",
     "exception": false,
     "start_time": "2025-08-19T18:49:22.307022",
     "status": "completed"
    },
    "tags": []
   },
   "outputs": [],
   "source": [
    "from fairness_multiverse.conformal import predict_conformal_sets\n",
    "\n",
    "# Generate prediction sets for each test example\n",
    "pred_sets = predict_conformal_sets(model, X_test, q_hat)"
   ]
  },
  {
   "cell_type": "code",
   "execution_count": 44,
   "id": "97f67a6b",
   "metadata": {
    "execution": {
     "iopub.execute_input": "2025-08-19T18:49:22.976211Z",
     "iopub.status.busy": "2025-08-19T18:49:22.975302Z",
     "iopub.status.idle": "2025-08-19T18:49:22.983181Z",
     "shell.execute_reply": "2025-08-19T18:49:22.981667Z"
    },
    "papermill": {
     "duration": 0.022116,
     "end_time": "2025-08-19T18:49:22.984502",
     "exception": false,
     "start_time": "2025-08-19T18:49:22.962386",
     "status": "completed"
    },
    "tags": []
   },
   "outputs": [],
   "source": [
    "y_true = y_true.squeeze()"
   ]
  },
  {
   "cell_type": "code",
   "execution_count": 45,
   "id": "e700e9a7",
   "metadata": {
    "execution": {
     "iopub.execute_input": "2025-08-19T18:49:23.012677Z",
     "iopub.status.busy": "2025-08-19T18:49:23.011952Z",
     "iopub.status.idle": "2025-08-19T18:49:23.519277Z",
     "shell.execute_reply": "2025-08-19T18:49:23.518039Z"
    },
    "papermill": {
     "duration": 0.521917,
     "end_time": "2025-08-19T18:49:23.521093",
     "exception": false,
     "start_time": "2025-08-19T18:49:22.999176",
     "status": "completed"
    },
    "tags": []
   },
   "outputs": [],
   "source": [
    "from fairness_multiverse.conformal import evaluate_sets\n",
    "\n",
    "# Evaluate coverage and average set size on test data\n",
    "metrics = evaluate_sets(pred_sets, y_true)"
   ]
  },
  {
   "cell_type": "markdown",
   "id": "efbacec0",
   "metadata": {
    "papermill": {
     "duration": 0.011497,
     "end_time": "2025-08-19T18:49:23.544902",
     "exception": false,
     "start_time": "2025-08-19T18:49:23.533405",
     "status": "completed"
    },
    "tags": []
   },
   "source": [
    "# CP Metrics"
   ]
  },
  {
   "cell_type": "code",
   "execution_count": 46,
   "id": "9de55fb1",
   "metadata": {
    "execution": {
     "iopub.execute_input": "2025-08-19T18:49:23.577555Z",
     "iopub.status.busy": "2025-08-19T18:49:23.570056Z",
     "iopub.status.idle": "2025-08-19T18:49:23.590041Z",
     "shell.execute_reply": "2025-08-19T18:49:23.589020Z"
    },
    "papermill": {
     "duration": 0.035441,
     "end_time": "2025-08-19T18:49:23.591611",
     "exception": false,
     "start_time": "2025-08-19T18:49:23.556170",
     "status": "completed"
    },
    "tags": []
   },
   "outputs": [
    {
     "data": {
      "text/plain": [
       "{'coverage': 0.9066213354141122, 'avg_size': 1.251053394270427}"
      ]
     },
     "execution_count": 46,
     "metadata": {},
     "output_type": "execute_result"
    }
   ],
   "source": [
    "metrics"
   ]
  },
  {
   "cell_type": "code",
   "execution_count": 47,
   "id": "64c340a1",
   "metadata": {
    "execution": {
     "iopub.execute_input": "2025-08-19T18:49:23.618309Z",
     "iopub.status.busy": "2025-08-19T18:49:23.617108Z",
     "iopub.status.idle": "2025-08-19T18:49:23.633023Z",
     "shell.execute_reply": "2025-08-19T18:49:23.626304Z"
    },
    "papermill": {
     "duration": 0.032647,
     "end_time": "2025-08-19T18:49:23.636351",
     "exception": false,
     "start_time": "2025-08-19T18:49:23.603704",
     "status": "completed"
    },
    "tags": []
   },
   "outputs": [],
   "source": [
    "example_universe = universe.copy()\n",
    "universe_training_year = example_universe.get(\"training_year\")\n",
    "universe_training_size = example_universe.get(\"training_size\")\n",
    "universe_scale = example_universe.get(\"scale\")\n",
    "universe_model = example_universe.get(\"model\")\n",
    "universe_exclude_features = example_universe.get(\"exclude_features\")\n",
    "universe_exclude_subgroups = example_universe.get(\"exclude_subgroups\")"
   ]
  },
  {
   "cell_type": "code",
   "execution_count": 48,
   "id": "dbb53cb4",
   "metadata": {
    "execution": {
     "iopub.execute_input": "2025-08-19T18:49:23.673052Z",
     "iopub.status.busy": "2025-08-19T18:49:23.669330Z",
     "iopub.status.idle": "2025-08-19T18:49:23.687554Z",
     "shell.execute_reply": "2025-08-19T18:49:23.686520Z"
    },
    "papermill": {
     "duration": 0.034809,
     "end_time": "2025-08-19T18:49:23.689047",
     "exception": false,
     "start_time": "2025-08-19T18:49:23.654238",
     "status": "completed"
    },
    "tags": []
   },
   "outputs": [],
   "source": [
    "cp_metrics_dict = {\n",
    "    \"universe_id\": [universe_id],\n",
    "    \"universe_training_year\": [universe_training_year],\n",
    "    \"universe_training_size\": [universe_training_size],\n",
    "    \"universe_scale\": [universe_scale],\n",
    "    \"universe_model\": [universe_model],\n",
    "    \"universe_exclude_features\": [universe_exclude_features],\n",
    "    \"universe_exclude_subgroups\": [universe_exclude_subgroups],\n",
    "    \"q_hat\": [q_hat],\n",
    "    \"coverage\": [metrics[\"coverage\"]],\n",
    "    \"avg_size\": [metrics[\"avg_size\"]],\n",
    "}"
   ]
  },
  {
   "cell_type": "code",
   "execution_count": 49,
   "id": "0d70d4b2",
   "metadata": {
    "execution": {
     "iopub.execute_input": "2025-08-19T18:49:23.723860Z",
     "iopub.status.busy": "2025-08-19T18:49:23.722836Z",
     "iopub.status.idle": "2025-08-19T18:49:23.738270Z",
     "shell.execute_reply": "2025-08-19T18:49:23.736951Z"
    },
    "papermill": {
     "duration": 0.031498,
     "end_time": "2025-08-19T18:49:23.739816",
     "exception": false,
     "start_time": "2025-08-19T18:49:23.708318",
     "status": "completed"
    },
    "tags": []
   },
   "outputs": [],
   "source": [
    "cp_metrics_df = pd.DataFrame(cp_metrics_dict)"
   ]
  },
  {
   "cell_type": "code",
   "execution_count": 50,
   "id": "b494403c",
   "metadata": {
    "execution": {
     "iopub.execute_input": "2025-08-19T18:49:23.785596Z",
     "iopub.status.busy": "2025-08-19T18:49:23.784558Z",
     "iopub.status.idle": "2025-08-19T18:49:23.821064Z",
     "shell.execute_reply": "2025-08-19T18:49:23.820353Z"
    },
    "papermill": {
     "duration": 0.059903,
     "end_time": "2025-08-19T18:49:23.826057",
     "exception": false,
     "start_time": "2025-08-19T18:49:23.766154",
     "status": "completed"
    },
    "tags": []
   },
   "outputs": [
    {
     "data": {
      "text/html": [
       "<div>\n",
       "<style scoped>\n",
       "    .dataframe tbody tr th:only-of-type {\n",
       "        vertical-align: middle;\n",
       "    }\n",
       "\n",
       "    .dataframe tbody tr th {\n",
       "        vertical-align: top;\n",
       "    }\n",
       "\n",
       "    .dataframe thead th {\n",
       "        text-align: right;\n",
       "    }\n",
       "</style>\n",
       "<table border=\"1\" class=\"dataframe\">\n",
       "  <thead>\n",
       "    <tr style=\"text-align: right;\">\n",
       "      <th></th>\n",
       "      <th>universe_id</th>\n",
       "      <th>universe_training_year</th>\n",
       "      <th>universe_training_size</th>\n",
       "      <th>universe_scale</th>\n",
       "      <th>universe_model</th>\n",
       "      <th>universe_exclude_features</th>\n",
       "      <th>universe_exclude_subgroups</th>\n",
       "      <th>q_hat</th>\n",
       "      <th>coverage</th>\n",
       "      <th>avg_size</th>\n",
       "    </tr>\n",
       "  </thead>\n",
       "  <tbody>\n",
       "    <tr>\n",
       "      <th>0</th>\n",
       "      <td>cb0fb37d7d61eb826a9759d11d08a31d</td>\n",
       "      <td>2014</td>\n",
       "      <td>1k</td>\n",
       "      <td>scale</td>\n",
       "      <td>logreg</td>\n",
       "      <td>age</td>\n",
       "      <td>keep-all</td>\n",
       "      <td>0.808235</td>\n",
       "      <td>0.906621</td>\n",
       "      <td>1.251053</td>\n",
       "    </tr>\n",
       "  </tbody>\n",
       "</table>\n",
       "</div>"
      ],
      "text/plain": [
       "                        universe_id universe_training_year  \\\n",
       "0  cb0fb37d7d61eb826a9759d11d08a31d                   2014   \n",
       "\n",
       "  universe_training_size universe_scale universe_model  \\\n",
       "0                     1k          scale         logreg   \n",
       "\n",
       "  universe_exclude_features universe_exclude_subgroups     q_hat  coverage  \\\n",
       "0                       age                   keep-all  0.808235  0.906621   \n",
       "\n",
       "   avg_size  \n",
       "0  1.251053  "
      ]
     },
     "execution_count": 50,
     "metadata": {},
     "output_type": "execute_result"
    }
   ],
   "source": [
    "cp_metrics_df"
   ]
  },
  {
   "cell_type": "markdown",
   "id": "ed608b0b",
   "metadata": {
    "papermill": {
     "duration": 0.011806,
     "end_time": "2025-08-19T18:49:23.855358",
     "exception": false,
     "start_time": "2025-08-19T18:49:23.843552",
     "status": "completed"
    },
    "tags": []
   },
   "source": [
    "Conditional coverage & looking at subgroups"
   ]
  },
  {
   "cell_type": "code",
   "execution_count": 51,
   "id": "8968c366",
   "metadata": {
    "execution": {
     "iopub.execute_input": "2025-08-19T18:49:23.880488Z",
     "iopub.status.busy": "2025-08-19T18:49:23.879882Z",
     "iopub.status.idle": "2025-08-19T18:49:24.160668Z",
     "shell.execute_reply": "2025-08-19T18:49:24.159623Z"
    },
    "papermill": {
     "duration": 0.296376,
     "end_time": "2025-08-19T18:49:24.163397",
     "exception": false,
     "start_time": "2025-08-19T18:49:23.867021",
     "status": "completed"
    },
    "tags": []
   },
   "outputs": [],
   "source": [
    "from fairness_multiverse.conformal import build_cp_groups\n",
    "\n",
    "cp_groups_df = build_cp_groups(pred_sets, y_true, X_test.index, org_test)"
   ]
  },
  {
   "cell_type": "code",
   "execution_count": 52,
   "id": "292ddabf",
   "metadata": {
    "execution": {
     "iopub.execute_input": "2025-08-19T18:49:24.209542Z",
     "iopub.status.busy": "2025-08-19T18:49:24.207685Z",
     "iopub.status.idle": "2025-08-19T18:49:25.067701Z",
     "shell.execute_reply": "2025-08-19T18:49:25.066778Z"
    },
    "papermill": {
     "duration": 0.878882,
     "end_time": "2025-08-19T18:49:25.070390",
     "exception": false,
     "start_time": "2025-08-19T18:49:24.191508",
     "status": "completed"
    },
    "tags": []
   },
   "outputs": [],
   "source": [
    "# Define covered = 1 if true_label is in the predicted set\n",
    "cp_groups_df['covered'] = cp_groups_df.apply(\n",
    "    lambda r: int(r['true_label'] in r['pred_set']),\n",
    "    axis=1\n",
    ")"
   ]
  },
  {
   "cell_type": "code",
   "execution_count": 53,
   "id": "3a261692",
   "metadata": {
    "execution": {
     "iopub.execute_input": "2025-08-19T18:49:25.117268Z",
     "iopub.status.busy": "2025-08-19T18:49:25.115863Z",
     "iopub.status.idle": "2025-08-19T18:49:25.144788Z",
     "shell.execute_reply": "2025-08-19T18:49:25.143019Z"
    },
    "papermill": {
     "duration": 0.056183,
     "end_time": "2025-08-19T18:49:25.152137",
     "exception": false,
     "start_time": "2025-08-19T18:49:25.095954",
     "status": "completed"
    },
    "tags": []
   },
   "outputs": [],
   "source": [
    "subgroups = ['frau1','nongerman','nongerman_male','nongerman_female']\n",
    "\n",
    "# Conditional coverage for subgroup==1\n",
    "cond_coverage = {\n",
    "    g: cp_groups_df.loc[cp_groups_df[g]==1, 'covered'].mean()\n",
    "    for g in subgroups\n",
    "}"
   ]
  },
  {
   "cell_type": "code",
   "execution_count": 54,
   "id": "894fd600",
   "metadata": {
    "execution": {
     "iopub.execute_input": "2025-08-19T18:49:25.203274Z",
     "iopub.status.busy": "2025-08-19T18:49:25.202442Z",
     "iopub.status.idle": "2025-08-19T18:49:25.216197Z",
     "shell.execute_reply": "2025-08-19T18:49:25.214710Z"
    },
    "papermill": {
     "duration": 0.037839,
     "end_time": "2025-08-19T18:49:25.217922",
     "exception": false,
     "start_time": "2025-08-19T18:49:25.180083",
     "status": "completed"
    },
    "tags": []
   },
   "outputs": [
    {
     "data": {
      "text/plain": [
       "{'frau1': 0.9050545895673271,\n",
       " 'nongerman': 0.9119744007185763,\n",
       " 'nongerman_male': 0.9283076645951545,\n",
       " 'nongerman_female': 0.8849478390461997}"
      ]
     },
     "execution_count": 54,
     "metadata": {},
     "output_type": "execute_result"
    }
   ],
   "source": [
    "cond_coverage"
   ]
  },
  {
   "cell_type": "code",
   "execution_count": 55,
   "id": "942895c7",
   "metadata": {
    "execution": {
     "iopub.execute_input": "2025-08-19T18:49:25.253241Z",
     "iopub.status.busy": "2025-08-19T18:49:25.252534Z",
     "iopub.status.idle": "2025-08-19T18:49:25.264631Z",
     "shell.execute_reply": "2025-08-19T18:49:25.263546Z"
    },
    "papermill": {
     "duration": 0.027974,
     "end_time": "2025-08-19T18:49:25.266003",
     "exception": false,
     "start_time": "2025-08-19T18:49:25.238029",
     "status": "completed"
    },
    "tags": []
   },
   "outputs": [],
   "source": [
    "for subgroup, cov in cond_coverage.items():\n",
    "    cp_metrics_df[f\"cov_{subgroup}\"] = cov"
   ]
  },
  {
   "cell_type": "code",
   "execution_count": 56,
   "id": "3970120f",
   "metadata": {
    "execution": {
     "iopub.execute_input": "2025-08-19T18:49:25.293611Z",
     "iopub.status.busy": "2025-08-19T18:49:25.292907Z",
     "iopub.status.idle": "2025-08-19T18:49:25.319043Z",
     "shell.execute_reply": "2025-08-19T18:49:25.318190Z"
    },
    "papermill": {
     "duration": 0.041981,
     "end_time": "2025-08-19T18:49:25.320416",
     "exception": false,
     "start_time": "2025-08-19T18:49:25.278435",
     "status": "completed"
    },
    "tags": []
   },
   "outputs": [
    {
     "data": {
      "text/html": [
       "<div>\n",
       "<style scoped>\n",
       "    .dataframe tbody tr th:only-of-type {\n",
       "        vertical-align: middle;\n",
       "    }\n",
       "\n",
       "    .dataframe tbody tr th {\n",
       "        vertical-align: top;\n",
       "    }\n",
       "\n",
       "    .dataframe thead th {\n",
       "        text-align: right;\n",
       "    }\n",
       "</style>\n",
       "<table border=\"1\" class=\"dataframe\">\n",
       "  <thead>\n",
       "    <tr style=\"text-align: right;\">\n",
       "      <th></th>\n",
       "      <th>universe_id</th>\n",
       "      <th>universe_training_year</th>\n",
       "      <th>universe_training_size</th>\n",
       "      <th>universe_scale</th>\n",
       "      <th>universe_model</th>\n",
       "      <th>universe_exclude_features</th>\n",
       "      <th>universe_exclude_subgroups</th>\n",
       "      <th>q_hat</th>\n",
       "      <th>coverage</th>\n",
       "      <th>avg_size</th>\n",
       "      <th>cov_frau1</th>\n",
       "      <th>cov_nongerman</th>\n",
       "      <th>cov_nongerman_male</th>\n",
       "      <th>cov_nongerman_female</th>\n",
       "    </tr>\n",
       "  </thead>\n",
       "  <tbody>\n",
       "    <tr>\n",
       "      <th>0</th>\n",
       "      <td>cb0fb37d7d61eb826a9759d11d08a31d</td>\n",
       "      <td>2014</td>\n",
       "      <td>1k</td>\n",
       "      <td>scale</td>\n",
       "      <td>logreg</td>\n",
       "      <td>age</td>\n",
       "      <td>keep-all</td>\n",
       "      <td>0.808235</td>\n",
       "      <td>0.906621</td>\n",
       "      <td>1.251053</td>\n",
       "      <td>0.905055</td>\n",
       "      <td>0.911974</td>\n",
       "      <td>0.928308</td>\n",
       "      <td>0.884948</td>\n",
       "    </tr>\n",
       "  </tbody>\n",
       "</table>\n",
       "</div>"
      ],
      "text/plain": [
       "                        universe_id universe_training_year  \\\n",
       "0  cb0fb37d7d61eb826a9759d11d08a31d                   2014   \n",
       "\n",
       "  universe_training_size universe_scale universe_model  \\\n",
       "0                     1k          scale         logreg   \n",
       "\n",
       "  universe_exclude_features universe_exclude_subgroups     q_hat  coverage  \\\n",
       "0                       age                   keep-all  0.808235  0.906621   \n",
       "\n",
       "   avg_size  cov_frau1  cov_nongerman  cov_nongerman_male  \\\n",
       "0  1.251053   0.905055       0.911974            0.928308   \n",
       "\n",
       "   cov_nongerman_female  \n",
       "0              0.884948  "
      ]
     },
     "execution_count": 56,
     "metadata": {},
     "output_type": "execute_result"
    }
   ],
   "source": [
    "cp_metrics_df"
   ]
  },
  {
   "cell_type": "markdown",
   "id": "3fc519cc",
   "metadata": {
    "papermill": {
     "duration": 0.012212,
     "end_time": "2025-08-19T18:49:25.347129",
     "exception": false,
     "start_time": "2025-08-19T18:49:25.334917",
     "status": "completed"
    },
    "tags": []
   },
   "source": [
    "# (Fairness) Metrics"
   ]
  },
  {
   "cell_type": "code",
   "execution_count": 57,
   "id": "a2e5e155",
   "metadata": {
    "execution": {
     "iopub.execute_input": "2025-08-19T18:49:25.374414Z",
     "iopub.status.busy": "2025-08-19T18:49:25.373703Z",
     "iopub.status.idle": "2025-08-19T18:49:25.403227Z",
     "shell.execute_reply": "2025-08-19T18:49:25.402342Z"
    },
    "papermill": {
     "duration": 0.046206,
     "end_time": "2025-08-19T18:49:25.405574",
     "exception": false,
     "start_time": "2025-08-19T18:49:25.359368",
     "status": "completed"
    },
    "tags": []
   },
   "outputs": [],
   "source": [
    "colname_to_bin = \"maxdeutsch1\"\n",
    "majority_value = org_train[colname_to_bin].mode()[0]\n",
    "\n",
    "org_test[\"majmin\"] = np.where(org_test[colname_to_bin] == majority_value, \"majority\", \"minority\")"
   ]
  },
  {
   "cell_type": "code",
   "execution_count": 58,
   "id": "17e3e4d5",
   "metadata": {
    "execution": {
     "iopub.execute_input": "2025-08-19T18:49:25.574961Z",
     "iopub.status.busy": "2025-08-19T18:49:25.574222Z",
     "iopub.status.idle": "2025-08-19T18:49:27.365513Z",
     "shell.execute_reply": "2025-08-19T18:49:27.364229Z"
    },
    "papermill": {
     "duration": 1.808141,
     "end_time": "2025-08-19T18:49:27.367975",
     "exception": false,
     "start_time": "2025-08-19T18:49:25.559834",
     "status": "completed"
    },
    "tags": []
   },
   "outputs": [],
   "source": [
    "example_universe = universe.copy()\n",
    "example_universe[\"cutoff\"] = example_universe[\"cutoff\"][0]\n",
    "example_universe[\"eval_fairness_grouping\"] = example_universe[\"eval_fairness_grouping\"][0]\n",
    "fairness_dict, metric_frame = universe_analysis.compute_metrics(\n",
    "    example_universe,\n",
    "    y_pred_prob=probs_test,\n",
    "    y_test=y_true,\n",
    "    org_test=org_test,\n",
    ")"
   ]
  },
  {
   "cell_type": "markdown",
   "id": "1fb7a0e9",
   "metadata": {
    "papermill": {
     "duration": 0.02868,
     "end_time": "2025-08-19T18:49:27.419573",
     "exception": false,
     "start_time": "2025-08-19T18:49:27.390893",
     "status": "completed"
    },
    "tags": []
   },
   "source": [
    "# Overall"
   ]
  },
  {
   "cell_type": "markdown",
   "id": "be1784b1",
   "metadata": {
    "papermill": {
     "duration": 0.036899,
     "end_time": "2025-08-19T18:49:27.472467",
     "exception": false,
     "start_time": "2025-08-19T18:49:27.435568",
     "status": "completed"
    },
    "tags": []
   },
   "source": [
    "Main fairness target: Equalized Odds. Seems to be a better fit than equal opportunity, since we're not only interested in Y = 1. Seems to be a better fit than demographic parity, since we also care about accuracy, not just equal distribution of preds.\n",
    "\n",
    "Pick column for computation of fairness metrics\n",
    "\n",
    "Performance\n",
    "Overall performance measures, most interesting in relation to the measures split by group below"
   ]
  },
  {
   "cell_type": "code",
   "execution_count": 59,
   "id": "b7672bee",
   "metadata": {
    "execution": {
     "iopub.execute_input": "2025-08-19T18:49:27.504450Z",
     "iopub.status.busy": "2025-08-19T18:49:27.503644Z",
     "iopub.status.idle": "2025-08-19T18:49:27.520266Z",
     "shell.execute_reply": "2025-08-19T18:49:27.519128Z"
    },
    "papermill": {
     "duration": 0.033575,
     "end_time": "2025-08-19T18:49:27.521952",
     "exception": false,
     "start_time": "2025-08-19T18:49:27.488377",
     "status": "completed"
    },
    "tags": []
   },
   "outputs": [
    {
     "data": {
      "text/plain": [
       "accuracy                   0.217289\n",
       "balanced accuracy          0.532786\n",
       "f1                         0.238815\n",
       "precision                  0.136427\n",
       "false positive rate        0.891588\n",
       "false negative rate        0.042840\n",
       "selection rate             0.900000\n",
       "count                  89710.000000\n",
       "dtype: float64"
      ]
     },
     "execution_count": 59,
     "metadata": {},
     "output_type": "execute_result"
    }
   ],
   "source": [
    "metric_frame.overall"
   ]
  },
  {
   "cell_type": "markdown",
   "id": "d93333c9",
   "metadata": {
    "papermill": {
     "duration": 0.013434,
     "end_time": "2025-08-19T18:49:27.555386",
     "exception": false,
     "start_time": "2025-08-19T18:49:27.541952",
     "status": "completed"
    },
    "tags": []
   },
   "source": [
    "By Group"
   ]
  },
  {
   "cell_type": "code",
   "execution_count": 60,
   "id": "52256966",
   "metadata": {
    "execution": {
     "iopub.execute_input": "2025-08-19T18:49:27.583797Z",
     "iopub.status.busy": "2025-08-19T18:49:27.582444Z",
     "iopub.status.idle": "2025-08-19T18:49:27.606979Z",
     "shell.execute_reply": "2025-08-19T18:49:27.606206Z"
    },
    "papermill": {
     "duration": 0.040755,
     "end_time": "2025-08-19T18:49:27.608754",
     "exception": false,
     "start_time": "2025-08-19T18:49:27.567999",
     "status": "completed"
    },
    "tags": []
   },
   "outputs": [
    {
     "data": {
      "text/html": [
       "<div>\n",
       "<style scoped>\n",
       "    .dataframe tbody tr th:only-of-type {\n",
       "        vertical-align: middle;\n",
       "    }\n",
       "\n",
       "    .dataframe tbody tr th {\n",
       "        vertical-align: top;\n",
       "    }\n",
       "\n",
       "    .dataframe thead th {\n",
       "        text-align: right;\n",
       "    }\n",
       "</style>\n",
       "<table border=\"1\" class=\"dataframe\">\n",
       "  <thead>\n",
       "    <tr style=\"text-align: right;\">\n",
       "      <th></th>\n",
       "      <th>accuracy</th>\n",
       "      <th>balanced accuracy</th>\n",
       "      <th>f1</th>\n",
       "      <th>precision</th>\n",
       "      <th>false positive rate</th>\n",
       "      <th>false negative rate</th>\n",
       "      <th>selection rate</th>\n",
       "      <th>count</th>\n",
       "    </tr>\n",
       "    <tr>\n",
       "      <th>majmin</th>\n",
       "      <th></th>\n",
       "      <th></th>\n",
       "      <th></th>\n",
       "      <th></th>\n",
       "      <th></th>\n",
       "      <th></th>\n",
       "      <th></th>\n",
       "      <th></th>\n",
       "    </tr>\n",
       "  </thead>\n",
       "  <tbody>\n",
       "    <tr>\n",
       "      <th>majority</th>\n",
       "      <td>0.233165</td>\n",
       "      <td>0.538912</td>\n",
       "      <td>0.247524</td>\n",
       "      <td>0.14220</td>\n",
       "      <td>0.876662</td>\n",
       "      <td>0.045514</td>\n",
       "      <td>0.886945</td>\n",
       "      <td>69170.0</td>\n",
       "    </tr>\n",
       "    <tr>\n",
       "      <th>minority</th>\n",
       "      <td>0.163827</td>\n",
       "      <td>0.513293</td>\n",
       "      <td>0.210599</td>\n",
       "      <td>0.11816</td>\n",
       "      <td>0.940898</td>\n",
       "      <td>0.032517</td>\n",
       "      <td>0.943963</td>\n",
       "      <td>20540.0</td>\n",
       "    </tr>\n",
       "  </tbody>\n",
       "</table>\n",
       "</div>"
      ],
      "text/plain": [
       "          accuracy  balanced accuracy        f1  precision  \\\n",
       "majmin                                                       \n",
       "majority  0.233165           0.538912  0.247524    0.14220   \n",
       "minority  0.163827           0.513293  0.210599    0.11816   \n",
       "\n",
       "          false positive rate  false negative rate  selection rate    count  \n",
       "majmin                                                                       \n",
       "majority             0.876662             0.045514        0.886945  69170.0  \n",
       "minority             0.940898             0.032517        0.943963  20540.0  "
      ]
     },
     "execution_count": 60,
     "metadata": {},
     "output_type": "execute_result"
    }
   ],
   "source": [
    "metric_frame.by_group"
   ]
  },
  {
   "cell_type": "code",
   "execution_count": 61,
   "id": "6e6c20ae",
   "metadata": {
    "execution": {
     "iopub.execute_input": "2025-08-19T18:49:27.646190Z",
     "iopub.status.busy": "2025-08-19T18:49:27.645055Z",
     "iopub.status.idle": "2025-08-19T18:49:29.439568Z",
     "shell.execute_reply": "2025-08-19T18:49:29.438525Z"
    },
    "papermill": {
     "duration": 1.811864,
     "end_time": "2025-08-19T18:49:29.441023",
     "exception": false,
     "start_time": "2025-08-19T18:49:27.629159",
     "status": "completed"
    },
    "tags": []
   },
   "outputs": [
    {
     "data": {
      "text/plain": [
       "array([[<Axes: title={'center': 'accuracy'}, xlabel='majmin'>,\n",
       "        <Axes: title={'center': 'balanced accuracy'}, xlabel='majmin'>,\n",
       "        <Axes: title={'center': 'f1'}, xlabel='majmin'>],\n",
       "       [<Axes: title={'center': 'precision'}, xlabel='majmin'>,\n",
       "        <Axes: title={'center': 'false positive rate'}, xlabel='majmin'>,\n",
       "        <Axes: title={'center': 'false negative rate'}, xlabel='majmin'>],\n",
       "       [<Axes: title={'center': 'selection rate'}, xlabel='majmin'>,\n",
       "        <Axes: title={'center': 'count'}, xlabel='majmin'>,\n",
       "        <Axes: xlabel='majmin'>]], dtype=object)"
      ]
     },
     "execution_count": 61,
     "metadata": {},
     "output_type": "execute_result"
    },
    {
     "data": {
      "image/png": "[encoded data removed]",
      "text/plain": [
       "<Figure size 1200x800 with 9 Axes>"
      ]
     },
     "metadata": {},
     "output_type": "display_data"
    }
   ],
   "source": [
    "# In a graphic\n",
    "metric_frame.by_group.plot.bar(\n",
    "    subplots=True,\n",
    "    layout=[3, 3],\n",
    "    legend=False,\n",
    "    figsize=[12, 8],\n",
    "    title=\"Show all metrics\",\n",
    ")"
   ]
  },
  {
   "cell_type": "markdown",
   "id": "b2e433ae",
   "metadata": {
    "papermill": {
     "duration": 0.014504,
     "end_time": "2025-08-19T18:49:29.483485",
     "exception": false,
     "start_time": "2025-08-19T18:49:29.468981",
     "status": "completed"
    },
    "tags": []
   },
   "source": [
    "# Final Output"
   ]
  },
  {
   "cell_type": "code",
   "execution_count": 62,
   "id": "3871301e",
   "metadata": {
    "execution": {
     "iopub.execute_input": "2025-08-19T18:49:29.514271Z",
     "iopub.status.busy": "2025-08-19T18:49:29.513390Z",
     "iopub.status.idle": "2025-08-19T18:49:29.522812Z",
     "shell.execute_reply": "2025-08-19T18:49:29.522097Z"
    },
    "papermill": {
     "duration": 0.026519,
     "end_time": "2025-08-19T18:49:29.524274",
     "exception": false,
     "start_time": "2025-08-19T18:49:29.497755",
     "status": "completed"
    },
    "tags": []
   },
   "outputs": [
    {
     "data": {
      "text/plain": [
       "4"
      ]
     },
     "execution_count": 62,
     "metadata": {},
     "output_type": "execute_result"
    }
   ],
   "source": [
    "sub_universes = universe_analysis.generate_sub_universes()\n",
    "len(sub_universes)"
   ]
  },
  {
   "cell_type": "code",
   "execution_count": 63,
   "id": "d9cfdaca",
   "metadata": {
    "execution": {
     "iopub.execute_input": "2025-08-19T18:49:29.557260Z",
     "iopub.status.busy": "2025-08-19T18:49:29.556855Z",
     "iopub.status.idle": "2025-08-19T18:49:29.567843Z",
     "shell.execute_reply": "2025-08-19T18:49:29.567142Z"
    },
    "papermill": {
     "duration": 0.028014,
     "end_time": "2025-08-19T18:49:29.569464",
     "exception": false,
     "start_time": "2025-08-19T18:49:29.541450",
     "status": "completed"
    },
    "tags": []
   },
   "outputs": [],
   "source": [
    "def filter_sub_universe_data(sub_universe, org_test):\n",
    "    # Keep all rows — no filtering\n",
    "    keep_rows_mask = np.ones(org_test.shape[0], dtype=bool)\n",
    "\n",
    "    print(f\"[INFO] Keeping all rows: {keep_rows_mask.sum()} rows retained.\")\n",
    "    return keep_rows_mask"
   ]
  },
  {
   "cell_type": "code",
   "execution_count": 64,
   "id": "2bc31ac1",
   "metadata": {
    "execution": {
     "iopub.execute_input": "2025-08-19T18:49:29.603912Z",
     "iopub.status.busy": "2025-08-19T18:49:29.603055Z",
     "iopub.status.idle": "2025-08-19T18:49:36.503007Z",
     "shell.execute_reply": "2025-08-19T18:49:36.502063Z"
    },
    "papermill": {
     "duration": 6.917149,
     "end_time": "2025-08-19T18:49:36.504537",
     "exception": false,
     "start_time": "2025-08-19T18:49:29.587388",
     "status": "completed"
    },
    "tags": []
   },
   "outputs": [
    {
     "name": "stdout",
     "output_type": "stream",
     "text": [
      "Stopping execution_time clock.\n",
      "[INFO] Keeping all rows: 89710 rows retained.\n"
     ]
    },
    {
     "name": "stdout",
     "output_type": "stream",
     "text": [
      "[INFO] Keeping all rows: 89710 rows retained.\n"
     ]
    },
    {
     "name": "stdout",
     "output_type": "stream",
     "text": [
      "[INFO] Keeping all rows: 89710 rows retained.\n"
     ]
    },
    {
     "name": "stdout",
     "output_type": "stream",
     "text": [
      "[INFO] Keeping all rows: 89710 rows retained.\n"
     ]
    },
    {
     "data": {
      "text/html": [
       "<div>\n",
       "<style scoped>\n",
       "    .dataframe tbody tr th:only-of-type {\n",
       "        vertical-align: middle;\n",
       "    }\n",
       "\n",
       "    .dataframe tbody tr th {\n",
       "        vertical-align: top;\n",
       "    }\n",
       "\n",
       "    .dataframe thead th {\n",
       "        text-align: right;\n",
       "    }\n",
       "</style>\n",
       "<table border=\"1\" class=\"dataframe\">\n",
       "  <thead>\n",
       "    <tr style=\"text-align: right;\">\n",
       "      <th></th>\n",
       "      <th>run_no</th>\n",
       "      <th>universe_id</th>\n",
       "      <th>universe_settings</th>\n",
       "      <th>execution_time</th>\n",
       "      <th>test_size_n</th>\n",
       "      <th>test_size_frac</th>\n",
       "      <th>fair_main_equalized_odds_difference</th>\n",
       "      <th>fair_main_equalized_odds_ratio</th>\n",
       "      <th>fair_main_demographic_parity_difference</th>\n",
       "      <th>fair_main_demographic_parity_ratio</th>\n",
       "      <th>...</th>\n",
       "      <th>perf_grp_precision_0</th>\n",
       "      <th>perf_grp_precision_1</th>\n",
       "      <th>perf_grp_false positive rate_0</th>\n",
       "      <th>perf_grp_false positive rate_1</th>\n",
       "      <th>perf_grp_false negative rate_0</th>\n",
       "      <th>perf_grp_false negative rate_1</th>\n",
       "      <th>perf_grp_selection rate_0</th>\n",
       "      <th>perf_grp_selection rate_1</th>\n",
       "      <th>perf_grp_count_0</th>\n",
       "      <th>perf_grp_count_1</th>\n",
       "    </tr>\n",
       "  </thead>\n",
       "  <tbody>\n",
       "    <tr>\n",
       "      <th>0</th>\n",
       "      <td>3</td>\n",
       "      <td>cb0fb37d7d61eb826a9759d11d08a31d</td>\n",
       "      <td>{\"cutoff\": \"quantile_0.1\", \"eval_fairness_grou...</td>\n",
       "      <td>21.672201</td>\n",
       "      <td>89710</td>\n",
       "      <td>1.0</td>\n",
       "      <td>0.064236</td>\n",
       "      <td>0.931729</td>\n",
       "      <td>0.057018</td>\n",
       "      <td>0.939597</td>\n",
       "      <td>...</td>\n",
       "      <td>NaN</td>\n",
       "      <td>NaN</td>\n",
       "      <td>NaN</td>\n",
       "      <td>NaN</td>\n",
       "      <td>NaN</td>\n",
       "      <td>NaN</td>\n",
       "      <td>NaN</td>\n",
       "      <td>NaN</td>\n",
       "      <td>NaN</td>\n",
       "      <td>NaN</td>\n",
       "    </tr>\n",
       "    <tr>\n",
       "      <th>0</th>\n",
       "      <td>3</td>\n",
       "      <td>cb0fb37d7d61eb826a9759d11d08a31d</td>\n",
       "      <td>{\"cutoff\": \"quantile_0.1\", \"eval_fairness_grou...</td>\n",
       "      <td>21.672201</td>\n",
       "      <td>89710</td>\n",
       "      <td>1.0</td>\n",
       "      <td>0.064236</td>\n",
       "      <td>0.931729</td>\n",
       "      <td>0.057018</td>\n",
       "      <td>0.939597</td>\n",
       "      <td>...</td>\n",
       "      <td>0.118160</td>\n",
       "      <td>0.142200</td>\n",
       "      <td>0.940898</td>\n",
       "      <td>0.876662</td>\n",
       "      <td>0.032517</td>\n",
       "      <td>0.045514</td>\n",
       "      <td>0.943963</td>\n",
       "      <td>0.886945</td>\n",
       "      <td>20540.0</td>\n",
       "      <td>69170.0</td>\n",
       "    </tr>\n",
       "    <tr>\n",
       "      <th>0</th>\n",
       "      <td>3</td>\n",
       "      <td>cb0fb37d7d61eb826a9759d11d08a31d</td>\n",
       "      <td>{\"cutoff\": \"quantile_0.25\", \"eval_fairness_gro...</td>\n",
       "      <td>21.672201</td>\n",
       "      <td>89710</td>\n",
       "      <td>1.0</td>\n",
       "      <td>0.093027</td>\n",
       "      <td>0.884221</td>\n",
       "      <td>0.081209</td>\n",
       "      <td>0.900064</td>\n",
       "      <td>...</td>\n",
       "      <td>NaN</td>\n",
       "      <td>NaN</td>\n",
       "      <td>NaN</td>\n",
       "      <td>NaN</td>\n",
       "      <td>NaN</td>\n",
       "      <td>NaN</td>\n",
       "      <td>NaN</td>\n",
       "      <td>NaN</td>\n",
       "      <td>NaN</td>\n",
       "      <td>NaN</td>\n",
       "    </tr>\n",
       "    <tr>\n",
       "      <th>0</th>\n",
       "      <td>3</td>\n",
       "      <td>cb0fb37d7d61eb826a9759d11d08a31d</td>\n",
       "      <td>{\"cutoff\": \"quantile_0.25\", \"eval_fairness_gro...</td>\n",
       "      <td>21.672201</td>\n",
       "      <td>89710</td>\n",
       "      <td>1.0</td>\n",
       "      <td>0.093027</td>\n",
       "      <td>0.884221</td>\n",
       "      <td>0.081209</td>\n",
       "      <td>0.900064</td>\n",
       "      <td>...</td>\n",
       "      <td>0.125217</td>\n",
       "      <td>0.156984</td>\n",
       "      <td>0.803489</td>\n",
       "      <td>0.710461</td>\n",
       "      <td>0.117399</td>\n",
       "      <td>0.131072</td>\n",
       "      <td>0.812610</td>\n",
       "      <td>0.731401</td>\n",
       "      <td>20540.0</td>\n",
       "      <td>69170.0</td>\n",
       "    </tr>\n",
       "  </tbody>\n",
       "</table>\n",
       "<p>4 rows × 50 columns</p>\n",
       "</div>"
      ],
      "text/plain": [
       "  run_no                       universe_id  \\\n",
       "0      3  cb0fb37d7d61eb826a9759d11d08a31d   \n",
       "0      3  cb0fb37d7d61eb826a9759d11d08a31d   \n",
       "0      3  cb0fb37d7d61eb826a9759d11d08a31d   \n",
       "0      3  cb0fb37d7d61eb826a9759d11d08a31d   \n",
       "\n",
       "                                   universe_settings  execution_time  \\\n",
       "0  {\"cutoff\": \"quantile_0.1\", \"eval_fairness_grou...       21.672201   \n",
       "0  {\"cutoff\": \"quantile_0.1\", \"eval_fairness_grou...       21.672201   \n",
       "0  {\"cutoff\": \"quantile_0.25\", \"eval_fairness_gro...       21.672201   \n",
       "0  {\"cutoff\": \"quantile_0.25\", \"eval_fairness_gro...       21.672201   \n",
       "\n",
       "   test_size_n  test_size_frac  fair_main_equalized_odds_difference  \\\n",
       "0        89710             1.0                             0.064236   \n",
       "0        89710             1.0                             0.064236   \n",
       "0        89710             1.0                             0.093027   \n",
       "0        89710             1.0                             0.093027   \n",
       "\n",
       "   fair_main_equalized_odds_ratio  fair_main_demographic_parity_difference  \\\n",
       "0                        0.931729                                 0.057018   \n",
       "0                        0.931729                                 0.057018   \n",
       "0                        0.884221                                 0.081209   \n",
       "0                        0.884221                                 0.081209   \n",
       "\n",
       "   fair_main_demographic_parity_ratio  ...  perf_grp_precision_0  \\\n",
       "0                            0.939597  ...                   NaN   \n",
       "0                            0.939597  ...              0.118160   \n",
       "0                            0.900064  ...                   NaN   \n",
       "0                            0.900064  ...              0.125217   \n",
       "\n",
       "   perf_grp_precision_1  perf_grp_false positive rate_0  \\\n",
       "0                   NaN                             NaN   \n",
       "0              0.142200                        0.940898   \n",
       "0                   NaN                             NaN   \n",
       "0              0.156984                        0.803489   \n",
       "\n",
       "   perf_grp_false positive rate_1  perf_grp_false negative rate_0  \\\n",
       "0                             NaN                             NaN   \n",
       "0                        0.876662                        0.032517   \n",
       "0                             NaN                             NaN   \n",
       "0                        0.710461                        0.117399   \n",
       "\n",
       "   perf_grp_false negative rate_1  perf_grp_selection rate_0  \\\n",
       "0                             NaN                        NaN   \n",
       "0                        0.045514                   0.943963   \n",
       "0                             NaN                        NaN   \n",
       "0                        0.131072                   0.812610   \n",
       "\n",
       "   perf_grp_selection rate_1  perf_grp_count_0  perf_grp_count_1  \n",
       "0                        NaN               NaN               NaN  \n",
       "0                   0.886945           20540.0           69170.0  \n",
       "0                        NaN               NaN               NaN  \n",
       "0                   0.731401           20540.0           69170.0  \n",
       "\n",
       "[4 rows x 50 columns]"
      ]
     },
     "execution_count": 64,
     "metadata": {},
     "output_type": "execute_result"
    }
   ],
   "source": [
    "final_output = universe_analysis.generate_final_output(\n",
    "    y_pred_prob=probs_test,\n",
    "    y_test=y_true,\n",
    "    org_test=org_test,\n",
    "    filter_data=filter_sub_universe_data,\n",
    "    cp_metrics_df=cp_metrics_df,\n",
    "    save=True,\n",
    ")\n",
    "final_output"
   ]
  },
  {
   "cell_type": "code",
   "execution_count": null,
   "id": "8b80a1ff",
   "metadata": {
    "papermill": {
     "duration": 0.01456,
     "end_time": "2025-08-19T18:49:36.539484",
     "exception": false,
     "start_time": "2025-08-19T18:49:36.524924",
     "status": "completed"
    },
    "tags": []
   },
   "outputs": [],
   "source": []
  },
  {
   "cell_type": "code",
   "execution_count": null,
   "id": "275c9fad",
   "metadata": {
    "papermill": {
     "duration": 0.014391,
     "end_time": "2025-08-19T18:49:36.568327",
     "exception": false,
     "start_time": "2025-08-19T18:49:36.553936",
     "status": "completed"
    },
    "tags": []
   },
   "outputs": [],
   "source": []
  }
 ],
 "metadata": {
  "celltoolbar": "Tags",
  "kernelspec": {
   "display_name": "Python (CMA Fairness)",
   "language": "python",
   "name": "cma_fair_env"
  },
  "language_info": {
   "codemirror_mode": {
    "name": "ipython",
    "version": 3
   },
   "file_extension": ".py",
   "mimetype": "text/x-python",
   "name": "python",
   "nbconvert_exporter": "python",
   "pygments_lexer": "ipython3",
   "version": "3.10.12"
  },
  "papermill": {
   "default_parameters": {},
   "duration": 32.045471,
   "end_time": "2025-08-19T18:49:37.404635",
   "environment_variables": {},
   "exception": null,
   "input_path": "universe_analysis.ipynb",
   "output_path": "output/runs/3/notebooks/m_3-cb0fb37d7d61eb826a9759d11d08a31d.ipynb",
   "parameters": {
    "output_dir": "output",
    "run_no": "3",
    "seed": "2023",
    "universe": "{\"cutoff\": [\"quantile_0.1\", \"quantile_0.25\"], \"eval_fairness_grouping\": [\"majority-minority\", \"nationality-all\"], \"exclude_features\": \"age\", \"exclude_subgroups\": \"keep-all\", \"model\": \"logreg\", \"scale\": \"scale\", \"training_size\": \"1k\", \"training_year\": \"2014\"}",
    "universe_id": "cb0fb37d7d61eb826a9759d11d08a31d"
   },
   "start_time": "2025-08-19T18:49:05.359164",
   "version": "2.6.0"
  }
 },
 "nbformat": 4,
 "nbformat_minor": 5
}