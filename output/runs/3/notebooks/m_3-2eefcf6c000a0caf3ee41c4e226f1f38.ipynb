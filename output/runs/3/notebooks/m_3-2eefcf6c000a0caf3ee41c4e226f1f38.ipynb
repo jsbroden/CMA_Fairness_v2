{
 "cells": [
  {
   "cell_type": "markdown",
   "id": "ef23dbb3",
   "metadata": {
    "papermill": {
     "duration": 0.023381,
     "end_time": "2025-08-19T18:47:33.476541",
     "exception": false,
     "start_time": "2025-08-19T18:47:33.453160",
     "status": "completed"
    },
    "tags": []
   },
   "source": [
    "# Setup"
   ]
  },
  {
   "cell_type": "code",
   "execution_count": 1,
   "id": "0bc8e7dc",
   "metadata": {
    "execution": {
     "iopub.execute_input": "2025-08-19T18:47:33.499171Z",
     "iopub.status.busy": "2025-08-19T18:47:33.498605Z",
     "iopub.status.idle": "2025-08-19T18:47:33.509039Z",
     "shell.execute_reply": "2025-08-19T18:47:33.508099Z"
    },
    "papermill": {
     "duration": 0.024101,
     "end_time": "2025-08-19T18:47:33.512460",
     "exception": false,
     "start_time": "2025-08-19T18:47:33.488359",
     "status": "completed"
    },
    "tags": []
   },
   "outputs": [
    {
     "name": "stdout",
     "output_type": "stream",
     "text": [
      "/dss/dsshome1/0C/ra93lal2/cma/CMA_Fairness_v2\n"
     ]
    },
    {
     "name": "stderr",
     "output_type": "stream",
     "text": [
      "/dss/dsshome1/0C/ra93lal2/.local/share/virtualenvs/CMA_Fairness_v2-3j10GkSs/lib/python3.10/site-packages/IPython/core/magics/osm.py:393: UserWarning: This is now an optional IPython functionality, using bookmarks requires you to install the `pickleshare` library.\n",
      "  bkms = self.shell.db.get('bookmarks', {})\n",
      "/dss/dsshome1/0C/ra93lal2/.local/share/virtualenvs/CMA_Fairness_v2-3j10GkSs/lib/python3.10/site-packages/IPython/core/magics/osm.py:417: UserWarning: This is now an optional IPython functionality, setting dhist requires you to install the `pickleshare` library.\n",
      "  self.shell.db['dhist'] = compress_dhist(dhist)[-100:]\n"
     ]
    }
   ],
   "source": [
    "%cd ~/cma/CMA_Fairness_v2"
   ]
  },
  {
   "cell_type": "markdown",
   "id": "9d235661",
   "metadata": {
    "papermill": {
     "duration": 0.008906,
     "end_time": "2025-08-19T18:47:33.531810",
     "exception": false,
     "start_time": "2025-08-19T18:47:33.522904",
     "status": "completed"
    },
    "tags": []
   },
   "source": [
    "The following cell holds the definition of our parameters, these values can be overriden by rendering the with e.g. the following command:\n",
    "\n",
    "papermill -p alpha 0.2 -p ratio 0.3 universe_analysis.ipynb output/test_run.ipynb"
   ]
  },
  {
   "cell_type": "code",
   "execution_count": 2,
   "id": "4a789d8e",
   "metadata": {
    "execution": {
     "iopub.execute_input": "2025-08-19T18:47:33.552544Z",
     "iopub.status.busy": "2025-08-19T18:47:33.552014Z",
     "iopub.status.idle": "2025-08-19T18:47:33.557113Z",
     "shell.execute_reply": "2025-08-19T18:47:33.556246Z"
    },
    "papermill": {
     "duration": 0.018164,
     "end_time": "2025-08-19T18:47:33.559054",
     "exception": false,
     "start_time": "2025-08-19T18:47:33.540890",
     "status": "completed"
    },
    "tags": []
   },
   "outputs": [
    {
     "name": "stdout",
     "output_type": "stream",
     "text": [
      "Current working directory: /dss/dsshome1/0C/ra93lal2/cma/CMA_Fairness_v2\n"
     ]
    }
   ],
   "source": [
    "import os\n",
    "print(\"Current working directory:\", os.getcwd())"
   ]
  },
  {
   "cell_type": "code",
   "execution_count": 3,
   "id": "4132aaed",
   "metadata": {
    "execution": {
     "iopub.execute_input": "2025-08-19T18:47:33.580031Z",
     "iopub.status.busy": "2025-08-19T18:47:33.579554Z",
     "iopub.status.idle": "2025-08-19T18:47:33.584633Z",
     "shell.execute_reply": "2025-08-19T18:47:33.583865Z"
    },
    "papermill": {
     "duration": 0.016893,
     "end_time": "2025-08-19T18:47:33.586190",
     "exception": false,
     "start_time": "2025-08-19T18:47:33.569297",
     "status": "completed"
    },
    "tags": [
     "parameters"
    ]
   },
   "outputs": [],
   "source": [
    "run_no = 0\n",
    "universe_id = \"test\"\n",
    "universe = {\n",
    "    \"training_size\": \"5k\", # \"25k\", \"5k\", \"1k\"\n",
    "    \"training_year\": \"2012_14\", # \"2014\", \"2012_14\", \"2010_14\"\n",
    "    \"scale\": \"scale\", # \"scale\", \"do-not-scale\",\n",
    "    \"model\": \"elasticnet\", # \"logreg\", \"penalized_logreg\", \"rf\", \"gbm\", \"elasticnet\"\n",
    "    \"cutoff\": [\"quantile_0.15\", \"quantile_0.30\"],\n",
    "    \"exclude_features\": \"age\", # \"none\", \"nationality\", \"sex\", \"nationality-sex\", \"age\"\n",
    "    \"exclude_subgroups\": \"drop-non-german\", # \"keep-all\", \"drop-non-german\"\n",
    "    \"eval_fairness_grouping\": [\"majority-minority\", \"nationality-all\"]\n",
    "}\n",
    "\n",
    "output_dir=\"./output\"\n",
    "seed=0"
   ]
  },
  {
   "cell_type": "code",
   "execution_count": 4,
   "id": "cb281c0c",
   "metadata": {
    "execution": {
     "iopub.execute_input": "2025-08-19T18:47:33.608484Z",
     "iopub.status.busy": "2025-08-19T18:47:33.607945Z",
     "iopub.status.idle": "2025-08-19T18:47:33.613197Z",
     "shell.execute_reply": "2025-08-19T18:47:33.612269Z"
    },
    "papermill": {
     "duration": 0.017632,
     "end_time": "2025-08-19T18:47:33.614593",
     "exception": false,
     "start_time": "2025-08-19T18:47:33.596961",
     "status": "completed"
    },
    "tags": [
     "injected-parameters"
    ]
   },
   "outputs": [],
   "source": [
    "# Parameters\n",
    "universe_id = \"2eefcf6c000a0caf3ee41c4e226f1f38\"\n",
    "run_no = \"3\"\n",
    "universe = \"{\\\"cutoff\\\": [\\\"quantile_0.1\\\", \\\"quantile_0.25\\\"], \\\"eval_fairness_grouping\\\": [\\\"majority-minority\\\", \\\"nationality-all\\\"], \\\"exclude_features\\\": \\\"age\\\", \\\"exclude_subgroups\\\": \\\"keep-all\\\", \\\"model\\\": \\\"gbm\\\", \\\"scale\\\": \\\"do-not-scale\\\", \\\"training_size\\\": \\\"5k\\\", \\\"training_year\\\": \\\"2010_14\\\"}\"\n",
    "output_dir = \"output\"\n",
    "seed = \"2023\"\n"
   ]
  },
  {
   "cell_type": "code",
   "execution_count": 5,
   "id": "a5d7941f",
   "metadata": {
    "execution": {
     "iopub.execute_input": "2025-08-19T18:47:33.635385Z",
     "iopub.status.busy": "2025-08-19T18:47:33.634904Z",
     "iopub.status.idle": "2025-08-19T18:47:33.645403Z",
     "shell.execute_reply": "2025-08-19T18:47:33.644559Z"
    },
    "papermill": {
     "duration": 0.024225,
     "end_time": "2025-08-19T18:47:33.648304",
     "exception": false,
     "start_time": "2025-08-19T18:47:33.624079",
     "status": "completed"
    },
    "tags": []
   },
   "outputs": [],
   "source": [
    "import json\n",
    "if isinstance(universe, str):\n",
    "    universe = json.loads(universe)"
   ]
  },
  {
   "cell_type": "code",
   "execution_count": 6,
   "id": "7076ccb1",
   "metadata": {
    "execution": {
     "iopub.execute_input": "2025-08-19T18:47:33.673068Z",
     "iopub.status.busy": "2025-08-19T18:47:33.671644Z",
     "iopub.status.idle": "2025-08-19T18:47:33.741663Z",
     "shell.execute_reply": "2025-08-19T18:47:33.738607Z"
    },
    "papermill": {
     "duration": 0.083256,
     "end_time": "2025-08-19T18:47:33.743933",
     "exception": false,
     "start_time": "2025-08-19T18:47:33.660677",
     "status": "completed"
    },
    "tags": []
   },
   "outputs": [],
   "source": [
    "# Auto-reload the custom package\n",
    "%load_ext autoreload\n",
    "%autoreload 1\n",
    "%aimport fairness_multiverse"
   ]
  },
  {
   "cell_type": "code",
   "execution_count": 7,
   "id": "94c8eb93",
   "metadata": {
    "execution": {
     "iopub.execute_input": "2025-08-19T18:47:33.764412Z",
     "iopub.status.busy": "2025-08-19T18:47:33.764094Z",
     "iopub.status.idle": "2025-08-19T18:47:35.706143Z",
     "shell.execute_reply": "2025-08-19T18:47:35.705014Z"
    },
    "papermill": {
     "duration": 1.954426,
     "end_time": "2025-08-19T18:47:35.708163",
     "exception": false,
     "start_time": "2025-08-19T18:47:33.753737",
     "status": "completed"
    },
    "tags": []
   },
   "outputs": [],
   "source": [
    "from fairness_multiverse.universe import UniverseAnalysis\n",
    "\n",
    "universe_analysis = UniverseAnalysis(\n",
    "    run_no = run_no,\n",
    "    universe_id = universe_id,\n",
    "    universe = universe,\n",
    "    output_dir=output_dir,\n",
    ")"
   ]
  },
  {
   "cell_type": "code",
   "execution_count": 8,
   "id": "2a6381cf",
   "metadata": {
    "execution": {
     "iopub.execute_input": "2025-08-19T18:47:35.730228Z",
     "iopub.status.busy": "2025-08-19T18:47:35.729946Z",
     "iopub.status.idle": "2025-08-19T18:47:35.735257Z",
     "shell.execute_reply": "2025-08-19T18:47:35.734528Z"
    },
    "papermill": {
     "duration": 0.01921,
     "end_time": "2025-08-19T18:47:35.737032",
     "exception": false,
     "start_time": "2025-08-19T18:47:35.717822",
     "status": "completed"
    },
    "tags": []
   },
   "outputs": [
    {
     "name": "stdout",
     "output_type": "stream",
     "text": [
      "Using Seed: 2023\n"
     ]
    }
   ],
   "source": [
    "import numpy as np\n",
    "parsed_seed = int(seed)\n",
    "np.random.seed(parsed_seed)\n",
    "print(f\"Using Seed: {parsed_seed}\")"
   ]
  },
  {
   "cell_type": "markdown",
   "id": "b6e958b4",
   "metadata": {
    "papermill": {
     "duration": 0.020671,
     "end_time": "2025-08-19T18:47:35.777966",
     "exception": false,
     "start_time": "2025-08-19T18:47:35.757295",
     "status": "completed"
    },
    "tags": []
   },
   "source": [
    "# Loading Data"
   ]
  },
  {
   "cell_type": "code",
   "execution_count": 9,
   "id": "98701482",
   "metadata": {
    "execution": {
     "iopub.execute_input": "2025-08-19T18:47:35.804621Z",
     "iopub.status.busy": "2025-08-19T18:47:35.802986Z",
     "iopub.status.idle": "2025-08-19T18:47:46.451963Z",
     "shell.execute_reply": "2025-08-19T18:47:46.450588Z"
    },
    "papermill": {
     "duration": 10.661212,
     "end_time": "2025-08-19T18:47:46.453305",
     "exception": false,
     "start_time": "2025-08-19T18:47:35.792093",
     "status": "completed"
    },
    "tags": []
   },
   "outputs": [
    {
     "name": "stdout",
     "output_type": "stream",
     "text": [
      "Loading SIAB data from cache: data/siab_cached.csv.gz\n"
     ]
    },
    {
     "name": "stdout",
     "output_type": "stream",
     "text": [
      "(643690, 164)\n"
     ]
    }
   ],
   "source": [
    "from pathlib import Path\n",
    "import pandas as pd\n",
    "\n",
    "# File paths\n",
    "raw_file = Path(\"data/raw/siab.csv\")\n",
    "cache_file = Path(\"data/siab_cached.csv.gz\")\n",
    "\n",
    "# Ensure cache directory exists\n",
    "cache_file.parent.mkdir(parents=True, exist_ok=True)\n",
    "\n",
    "# Load with simple caching\n",
    "if cache_file.exists():\n",
    "    print(f\"Loading SIAB data from cache: {cache_file}\")\n",
    "    siab = pd.read_csv(cache_file, compression='gzip')\n",
    "else:\n",
    "    print(f\"Cache not found. Reading raw SIAB data: {raw_file}\")\n",
    "    siab = pd.read_csv(raw_file)\n",
    "    siab.to_csv(cache_file, index=False, compression='gzip')\n",
    "    print(f\"Cached SIAB data to: {cache_file}\")\n",
    "\n",
    "print(siab.shape)"
   ]
  },
  {
   "cell_type": "code",
   "execution_count": 10,
   "id": "058d2abb",
   "metadata": {
    "execution": {
     "iopub.execute_input": "2025-08-19T18:47:46.478126Z",
     "iopub.status.busy": "2025-08-19T18:47:46.477270Z",
     "iopub.status.idle": "2025-08-19T18:47:46.722547Z",
     "shell.execute_reply": "2025-08-19T18:47:46.721808Z"
    },
    "papermill": {
     "duration": 0.259755,
     "end_time": "2025-08-19T18:47:46.725395",
     "exception": false,
     "start_time": "2025-08-19T18:47:46.465640",
     "status": "completed"
    },
    "tags": []
   },
   "outputs": [
    {
     "data": {
      "text/html": [
       "<div>\n",
       "<style scoped>\n",
       "    .dataframe tbody tr th:only-of-type {\n",
       "        vertical-align: middle;\n",
       "    }\n",
       "\n",
       "    .dataframe tbody tr th {\n",
       "        vertical-align: top;\n",
       "    }\n",
       "\n",
       "    .dataframe thead th {\n",
       "        text-align: right;\n",
       "    }\n",
       "</style>\n",
       "<table border=\"1\" class=\"dataframe\">\n",
       "  <thead>\n",
       "    <tr style=\"text-align: right;\">\n",
       "      <th></th>\n",
       "      <th>persnr</th>\n",
       "      <th>year</th>\n",
       "      <th>nrEntry</th>\n",
       "      <th>ltue</th>\n",
       "      <th>employed_before</th>\n",
       "      <th>receipt_leh_before</th>\n",
       "      <th>receipt_lhg_before</th>\n",
       "      <th>se_before</th>\n",
       "      <th>ASU_notue_seeking_before</th>\n",
       "      <th>ASU_other_before</th>\n",
       "      <th>...</th>\n",
       "      <th>minijob_tot_dur_byage</th>\n",
       "      <th>ft_tot_dur_byage</th>\n",
       "      <th>befrist_tot_dur_byage</th>\n",
       "      <th>leih_tot_dur_byage</th>\n",
       "      <th>LHG_tot_dur_byage</th>\n",
       "      <th>LEH_tot_dur_byage</th>\n",
       "      <th>almp_tot_dur_byage</th>\n",
       "      <th>almp_aw_tot_dur_byage</th>\n",
       "      <th>se_tot_dur_byage</th>\n",
       "      <th>seeking1_tot_dur_byage</th>\n",
       "    </tr>\n",
       "  </thead>\n",
       "  <tbody>\n",
       "    <tr>\n",
       "      <th>0</th>\n",
       "      <td>7</td>\n",
       "      <td>2015</td>\n",
       "      <td>1</td>\n",
       "      <td>0</td>\n",
       "      <td>1</td>\n",
       "      <td>0</td>\n",
       "      <td>0</td>\n",
       "      <td>0</td>\n",
       "      <td>1</td>\n",
       "      <td>0</td>\n",
       "      <td>...</td>\n",
       "      <td>0.000000</td>\n",
       "      <td>0.000000</td>\n",
       "      <td>15.043478</td>\n",
       "      <td>0.000000</td>\n",
       "      <td>0.000000</td>\n",
       "      <td>0.000000</td>\n",
       "      <td>0.000000</td>\n",
       "      <td>0.000000</td>\n",
       "      <td>0.000000</td>\n",
       "      <td>0.000000</td>\n",
       "    </tr>\n",
       "    <tr>\n",
       "      <th>1</th>\n",
       "      <td>18</td>\n",
       "      <td>2010</td>\n",
       "      <td>1</td>\n",
       "      <td>1</td>\n",
       "      <td>0</td>\n",
       "      <td>0</td>\n",
       "      <td>0</td>\n",
       "      <td>0</td>\n",
       "      <td>0</td>\n",
       "      <td>0</td>\n",
       "      <td>...</td>\n",
       "      <td>0.000000</td>\n",
       "      <td>0.000000</td>\n",
       "      <td>0.000000</td>\n",
       "      <td>0.000000</td>\n",
       "      <td>0.000000</td>\n",
       "      <td>0.000000</td>\n",
       "      <td>0.000000</td>\n",
       "      <td>0.000000</td>\n",
       "      <td>0.000000</td>\n",
       "      <td>0.000000</td>\n",
       "    </tr>\n",
       "    <tr>\n",
       "      <th>2</th>\n",
       "      <td>18</td>\n",
       "      <td>2011</td>\n",
       "      <td>2</td>\n",
       "      <td>0</td>\n",
       "      <td>1</td>\n",
       "      <td>0</td>\n",
       "      <td>1</td>\n",
       "      <td>0</td>\n",
       "      <td>1</td>\n",
       "      <td>0</td>\n",
       "      <td>...</td>\n",
       "      <td>2.714286</td>\n",
       "      <td>2.714286</td>\n",
       "      <td>0.000000</td>\n",
       "      <td>0.000000</td>\n",
       "      <td>10.775510</td>\n",
       "      <td>0.000000</td>\n",
       "      <td>8.367347</td>\n",
       "      <td>0.000000</td>\n",
       "      <td>0.000000</td>\n",
       "      <td>9.836735</td>\n",
       "    </tr>\n",
       "    <tr>\n",
       "      <th>3</th>\n",
       "      <td>18</td>\n",
       "      <td>2012</td>\n",
       "      <td>3</td>\n",
       "      <td>0</td>\n",
       "      <td>1</td>\n",
       "      <td>0</td>\n",
       "      <td>1</td>\n",
       "      <td>0</td>\n",
       "      <td>1</td>\n",
       "      <td>0</td>\n",
       "      <td>...</td>\n",
       "      <td>4.200000</td>\n",
       "      <td>4.200000</td>\n",
       "      <td>0.000000</td>\n",
       "      <td>0.000000</td>\n",
       "      <td>12.100000</td>\n",
       "      <td>0.000000</td>\n",
       "      <td>9.400000</td>\n",
       "      <td>0.000000</td>\n",
       "      <td>0.000000</td>\n",
       "      <td>9.960000</td>\n",
       "    </tr>\n",
       "    <tr>\n",
       "      <th>4</th>\n",
       "      <td>18</td>\n",
       "      <td>2012</td>\n",
       "      <td>4</td>\n",
       "      <td>0</td>\n",
       "      <td>1</td>\n",
       "      <td>0</td>\n",
       "      <td>1</td>\n",
       "      <td>0</td>\n",
       "      <td>1</td>\n",
       "      <td>0</td>\n",
       "      <td>...</td>\n",
       "      <td>5.460000</td>\n",
       "      <td>5.460000</td>\n",
       "      <td>0.000000</td>\n",
       "      <td>0.000000</td>\n",
       "      <td>13.360000</td>\n",
       "      <td>0.000000</td>\n",
       "      <td>10.320000</td>\n",
       "      <td>0.000000</td>\n",
       "      <td>0.000000</td>\n",
       "      <td>10.280000</td>\n",
       "    </tr>\n",
       "    <tr>\n",
       "      <th>...</th>\n",
       "      <td>...</td>\n",
       "      <td>...</td>\n",
       "      <td>...</td>\n",
       "      <td>...</td>\n",
       "      <td>...</td>\n",
       "      <td>...</td>\n",
       "      <td>...</td>\n",
       "      <td>...</td>\n",
       "      <td>...</td>\n",
       "      <td>...</td>\n",
       "      <td>...</td>\n",
       "      <td>...</td>\n",
       "      <td>...</td>\n",
       "      <td>...</td>\n",
       "      <td>...</td>\n",
       "      <td>...</td>\n",
       "      <td>...</td>\n",
       "      <td>...</td>\n",
       "      <td>...</td>\n",
       "      <td>...</td>\n",
       "      <td>...</td>\n",
       "    </tr>\n",
       "    <tr>\n",
       "      <th>643685</th>\n",
       "      <td>1827860</td>\n",
       "      <td>2013</td>\n",
       "      <td>1</td>\n",
       "      <td>0</td>\n",
       "      <td>0</td>\n",
       "      <td>0</td>\n",
       "      <td>1</td>\n",
       "      <td>0</td>\n",
       "      <td>0</td>\n",
       "      <td>1</td>\n",
       "      <td>...</td>\n",
       "      <td>0.000000</td>\n",
       "      <td>0.000000</td>\n",
       "      <td>0.000000</td>\n",
       "      <td>0.000000</td>\n",
       "      <td>0.612903</td>\n",
       "      <td>0.000000</td>\n",
       "      <td>0.000000</td>\n",
       "      <td>0.000000</td>\n",
       "      <td>0.000000</td>\n",
       "      <td>0.000000</td>\n",
       "    </tr>\n",
       "    <tr>\n",
       "      <th>643686</th>\n",
       "      <td>1827860</td>\n",
       "      <td>2015</td>\n",
       "      <td>2</td>\n",
       "      <td>1</td>\n",
       "      <td>0</td>\n",
       "      <td>0</td>\n",
       "      <td>1</td>\n",
       "      <td>0</td>\n",
       "      <td>1</td>\n",
       "      <td>0</td>\n",
       "      <td>...</td>\n",
       "      <td>0.000000</td>\n",
       "      <td>0.000000</td>\n",
       "      <td>0.212121</td>\n",
       "      <td>0.212121</td>\n",
       "      <td>17.363636</td>\n",
       "      <td>0.000000</td>\n",
       "      <td>8.909091</td>\n",
       "      <td>0.000000</td>\n",
       "      <td>0.000000</td>\n",
       "      <td>7.121212</td>\n",
       "    </tr>\n",
       "    <tr>\n",
       "      <th>643687</th>\n",
       "      <td>1827860</td>\n",
       "      <td>2016</td>\n",
       "      <td>3</td>\n",
       "      <td>1</td>\n",
       "      <td>0</td>\n",
       "      <td>0</td>\n",
       "      <td>1</td>\n",
       "      <td>1</td>\n",
       "      <td>0</td>\n",
       "      <td>1</td>\n",
       "      <td>...</td>\n",
       "      <td>0.000000</td>\n",
       "      <td>0.000000</td>\n",
       "      <td>0.294118</td>\n",
       "      <td>0.205882</td>\n",
       "      <td>34.705882</td>\n",
       "      <td>0.000000</td>\n",
       "      <td>10.352941</td>\n",
       "      <td>1.705882</td>\n",
       "      <td>1.705882</td>\n",
       "      <td>23.911765</td>\n",
       "    </tr>\n",
       "    <tr>\n",
       "      <th>643688</th>\n",
       "      <td>1827869</td>\n",
       "      <td>2013</td>\n",
       "      <td>1</td>\n",
       "      <td>1</td>\n",
       "      <td>1</td>\n",
       "      <td>0</td>\n",
       "      <td>0</td>\n",
       "      <td>0</td>\n",
       "      <td>1</td>\n",
       "      <td>0</td>\n",
       "      <td>...</td>\n",
       "      <td>0.000000</td>\n",
       "      <td>0.000000</td>\n",
       "      <td>0.000000</td>\n",
       "      <td>0.000000</td>\n",
       "      <td>0.000000</td>\n",
       "      <td>0.525424</td>\n",
       "      <td>0.000000</td>\n",
       "      <td>0.000000</td>\n",
       "      <td>0.000000</td>\n",
       "      <td>0.000000</td>\n",
       "    </tr>\n",
       "    <tr>\n",
       "      <th>643689</th>\n",
       "      <td>1827869</td>\n",
       "      <td>2014</td>\n",
       "      <td>2</td>\n",
       "      <td>0</td>\n",
       "      <td>0</td>\n",
       "      <td>1</td>\n",
       "      <td>0</td>\n",
       "      <td>0</td>\n",
       "      <td>1</td>\n",
       "      <td>0</td>\n",
       "      <td>...</td>\n",
       "      <td>0.000000</td>\n",
       "      <td>0.666667</td>\n",
       "      <td>0.666667</td>\n",
       "      <td>0.000000</td>\n",
       "      <td>0.000000</td>\n",
       "      <td>8.950000</td>\n",
       "      <td>1.033333</td>\n",
       "      <td>0.083333</td>\n",
       "      <td>0.083333</td>\n",
       "      <td>8.133333</td>\n",
       "    </tr>\n",
       "  </tbody>\n",
       "</table>\n",
       "<p>643690 rows × 164 columns</p>\n",
       "</div>"
      ],
      "text/plain": [
       "         persnr  year  nrEntry  ltue  employed_before  receipt_leh_before  \\\n",
       "0             7  2015        1     0                1                   0   \n",
       "1            18  2010        1     1                0                   0   \n",
       "2            18  2011        2     0                1                   0   \n",
       "3            18  2012        3     0                1                   0   \n",
       "4            18  2012        4     0                1                   0   \n",
       "...         ...   ...      ...   ...              ...                 ...   \n",
       "643685  1827860  2013        1     0                0                   0   \n",
       "643686  1827860  2015        2     1                0                   0   \n",
       "643687  1827860  2016        3     1                0                   0   \n",
       "643688  1827869  2013        1     1                1                   0   \n",
       "643689  1827869  2014        2     0                0                   1   \n",
       "\n",
       "        receipt_lhg_before  se_before  ASU_notue_seeking_before  \\\n",
       "0                        0          0                         1   \n",
       "1                        0          0                         0   \n",
       "2                        1          0                         1   \n",
       "3                        1          0                         1   \n",
       "4                        1          0                         1   \n",
       "...                    ...        ...                       ...   \n",
       "643685                   1          0                         0   \n",
       "643686                   1          0                         1   \n",
       "643687                   1          1                         0   \n",
       "643688                   0          0                         1   \n",
       "643689                   0          0                         1   \n",
       "\n",
       "        ASU_other_before  ...  minijob_tot_dur_byage  ft_tot_dur_byage  \\\n",
       "0                      0  ...               0.000000          0.000000   \n",
       "1                      0  ...               0.000000          0.000000   \n",
       "2                      0  ...               2.714286          2.714286   \n",
       "3                      0  ...               4.200000          4.200000   \n",
       "4                      0  ...               5.460000          5.460000   \n",
       "...                  ...  ...                    ...               ...   \n",
       "643685                 1  ...               0.000000          0.000000   \n",
       "643686                 0  ...               0.000000          0.000000   \n",
       "643687                 1  ...               0.000000          0.000000   \n",
       "643688                 0  ...               0.000000          0.000000   \n",
       "643689                 0  ...               0.000000          0.666667   \n",
       "\n",
       "        befrist_tot_dur_byage  leih_tot_dur_byage  LHG_tot_dur_byage  \\\n",
       "0                   15.043478            0.000000           0.000000   \n",
       "1                    0.000000            0.000000           0.000000   \n",
       "2                    0.000000            0.000000          10.775510   \n",
       "3                    0.000000            0.000000          12.100000   \n",
       "4                    0.000000            0.000000          13.360000   \n",
       "...                       ...                 ...                ...   \n",
       "643685               0.000000            0.000000           0.612903   \n",
       "643686               0.212121            0.212121          17.363636   \n",
       "643687               0.294118            0.205882          34.705882   \n",
       "643688               0.000000            0.000000           0.000000   \n",
       "643689               0.666667            0.000000           0.000000   \n",
       "\n",
       "        LEH_tot_dur_byage  almp_tot_dur_byage  almp_aw_tot_dur_byage  \\\n",
       "0                0.000000            0.000000               0.000000   \n",
       "1                0.000000            0.000000               0.000000   \n",
       "2                0.000000            8.367347               0.000000   \n",
       "3                0.000000            9.400000               0.000000   \n",
       "4                0.000000           10.320000               0.000000   \n",
       "...                   ...                 ...                    ...   \n",
       "643685           0.000000            0.000000               0.000000   \n",
       "643686           0.000000            8.909091               0.000000   \n",
       "643687           0.000000           10.352941               1.705882   \n",
       "643688           0.525424            0.000000               0.000000   \n",
       "643689           8.950000            1.033333               0.083333   \n",
       "\n",
       "        se_tot_dur_byage  seeking1_tot_dur_byage  \n",
       "0               0.000000                0.000000  \n",
       "1               0.000000                0.000000  \n",
       "2               0.000000                9.836735  \n",
       "3               0.000000                9.960000  \n",
       "4               0.000000               10.280000  \n",
       "...                  ...                     ...  \n",
       "643685          0.000000                0.000000  \n",
       "643686          0.000000                7.121212  \n",
       "643687          1.705882               23.911765  \n",
       "643688          0.000000                0.000000  \n",
       "643689          0.083333                8.133333  \n",
       "\n",
       "[643690 rows x 164 columns]"
      ]
     },
     "execution_count": 10,
     "metadata": {},
     "output_type": "execute_result"
    }
   ],
   "source": [
    "siab"
   ]
  },
  {
   "cell_type": "markdown",
   "id": "1f87e805",
   "metadata": {
    "papermill": {
     "duration": 0.011996,
     "end_time": "2025-08-19T18:47:46.760405",
     "exception": false,
     "start_time": "2025-08-19T18:47:46.748409",
     "status": "completed"
    },
    "tags": []
   },
   "source": [
    "# Splitting Data and Setting Training Data Size"
   ]
  },
  {
   "cell_type": "code",
   "execution_count": 11,
   "id": "910ae358",
   "metadata": {
    "execution": {
     "iopub.execute_input": "2025-08-19T18:47:46.782684Z",
     "iopub.status.busy": "2025-08-19T18:47:46.781529Z",
     "iopub.status.idle": "2025-08-19T18:47:47.944218Z",
     "shell.execute_reply": "2025-08-19T18:47:47.942857Z"
    },
    "papermill": {
     "duration": 1.175823,
     "end_time": "2025-08-19T18:47:47.945921",
     "exception": false,
     "start_time": "2025-08-19T18:47:46.770098",
     "status": "completed"
    },
    "tags": []
   },
   "outputs": [],
   "source": [
    "from fairness_multiverse.universe import sample_by_year_size\n",
    "\n",
    "siab_train = sample_by_year_size(siab,\n",
    "                               training_year=universe[\"training_year\"],\n",
    "                               training_size=universe[\"training_size\"])"
   ]
  },
  {
   "cell_type": "code",
   "execution_count": 12,
   "id": "919c8ff5",
   "metadata": {
    "execution": {
     "iopub.execute_input": "2025-08-19T18:47:47.991674Z",
     "iopub.status.busy": "2025-08-19T18:47:47.990443Z",
     "iopub.status.idle": "2025-08-19T18:47:48.002637Z",
     "shell.execute_reply": "2025-08-19T18:47:48.001640Z"
    },
    "papermill": {
     "duration": 0.044776,
     "end_time": "2025-08-19T18:47:48.004333",
     "exception": false,
     "start_time": "2025-08-19T18:47:47.959557",
     "status": "completed"
    },
    "tags": []
   },
   "outputs": [
    {
     "data": {
      "text/plain": [
       "(5000, 164)"
      ]
     },
     "execution_count": 12,
     "metadata": {},
     "output_type": "execute_result"
    }
   ],
   "source": [
    "siab_train.shape"
   ]
  },
  {
   "cell_type": "code",
   "execution_count": 13,
   "id": "feb13bf4",
   "metadata": {
    "execution": {
     "iopub.execute_input": "2025-08-19T18:47:48.028385Z",
     "iopub.status.busy": "2025-08-19T18:47:48.027513Z",
     "iopub.status.idle": "2025-08-19T18:47:48.041826Z",
     "shell.execute_reply": "2025-08-19T18:47:48.040832Z"
    },
    "papermill": {
     "duration": 0.027318,
     "end_time": "2025-08-19T18:47:48.043518",
     "exception": false,
     "start_time": "2025-08-19T18:47:48.016200",
     "status": "completed"
    },
    "tags": []
   },
   "outputs": [
    {
     "data": {
      "text/plain": [
       "year\n",
       "2010    1000\n",
       "2011    1000\n",
       "2012    1000\n",
       "2013    1000\n",
       "2014    1000\n",
       "dtype: int64"
      ]
     },
     "metadata": {},
     "output_type": "display_data"
    }
   ],
   "source": [
    "display(siab_train.groupby(\"year\").size())"
   ]
  },
  {
   "cell_type": "code",
   "execution_count": 14,
   "id": "0997782f",
   "metadata": {
    "execution": {
     "iopub.execute_input": "2025-08-19T18:47:48.066787Z",
     "iopub.status.busy": "2025-08-19T18:47:48.066214Z",
     "iopub.status.idle": "2025-08-19T18:47:48.374094Z",
     "shell.execute_reply": "2025-08-19T18:47:48.372942Z"
    },
    "papermill": {
     "duration": 0.320739,
     "end_time": "2025-08-19T18:47:48.376110",
     "exception": false,
     "start_time": "2025-08-19T18:47:48.055371",
     "status": "completed"
    },
    "tags": []
   },
   "outputs": [],
   "source": [
    "#siab_train = siab_s[siab_s.year < 2015]\n",
    "siab_calib = siab[siab.year == 2015]\n",
    "siab_test = siab[siab.year == 2016]"
   ]
  },
  {
   "cell_type": "code",
   "execution_count": 15,
   "id": "2c1e4012",
   "metadata": {
    "execution": {
     "iopub.execute_input": "2025-08-19T18:47:48.398159Z",
     "iopub.status.busy": "2025-08-19T18:47:48.397862Z",
     "iopub.status.idle": "2025-08-19T18:47:48.401641Z",
     "shell.execute_reply": "2025-08-19T18:47:48.401056Z"
    },
    "papermill": {
     "duration": 0.016707,
     "end_time": "2025-08-19T18:47:48.403312",
     "exception": false,
     "start_time": "2025-08-19T18:47:48.386605",
     "status": "completed"
    },
    "tags": []
   },
   "outputs": [],
   "source": [
    "#siab_calib.shape"
   ]
  },
  {
   "cell_type": "code",
   "execution_count": 16,
   "id": "f66b54ca",
   "metadata": {
    "execution": {
     "iopub.execute_input": "2025-08-19T18:47:48.424449Z",
     "iopub.status.busy": "2025-08-19T18:47:48.424196Z",
     "iopub.status.idle": "2025-08-19T18:47:48.427767Z",
     "shell.execute_reply": "2025-08-19T18:47:48.427176Z"
    },
    "papermill": {
     "duration": 0.015948,
     "end_time": "2025-08-19T18:47:48.429302",
     "exception": false,
     "start_time": "2025-08-19T18:47:48.413354",
     "status": "completed"
    },
    "tags": []
   },
   "outputs": [],
   "source": [
    "#siab_test.shape"
   ]
  },
  {
   "cell_type": "code",
   "execution_count": 17,
   "id": "27e4384d",
   "metadata": {
    "execution": {
     "iopub.execute_input": "2025-08-19T18:47:48.450783Z",
     "iopub.status.busy": "2025-08-19T18:47:48.450524Z",
     "iopub.status.idle": "2025-08-19T18:47:48.469851Z",
     "shell.execute_reply": "2025-08-19T18:47:48.469174Z"
    },
    "papermill": {
     "duration": 0.031646,
     "end_time": "2025-08-19T18:47:48.471164",
     "exception": false,
     "start_time": "2025-08-19T18:47:48.439518",
     "status": "completed"
    },
    "tags": []
   },
   "outputs": [],
   "source": [
    "X_train = siab_train.iloc[:,4:164]\n",
    "y_train = siab_train.iloc[:, [3]]"
   ]
  },
  {
   "cell_type": "code",
   "execution_count": 18,
   "id": "08ee8389",
   "metadata": {
    "execution": {
     "iopub.execute_input": "2025-08-19T18:47:48.494436Z",
     "iopub.status.busy": "2025-08-19T18:47:48.494178Z",
     "iopub.status.idle": "2025-08-19T18:47:48.600887Z",
     "shell.execute_reply": "2025-08-19T18:47:48.600050Z"
    },
    "papermill": {
     "duration": 0.119207,
     "end_time": "2025-08-19T18:47:48.602457",
     "exception": false,
     "start_time": "2025-08-19T18:47:48.483250",
     "status": "completed"
    },
    "tags": []
   },
   "outputs": [],
   "source": [
    "X_calib = siab_calib.iloc[:,4:164]\n",
    "y_calib = siab_calib.iloc[:, [3]]"
   ]
  },
  {
   "cell_type": "code",
   "execution_count": 19,
   "id": "b7ff42e0",
   "metadata": {
    "execution": {
     "iopub.execute_input": "2025-08-19T18:47:48.626403Z",
     "iopub.status.busy": "2025-08-19T18:47:48.626113Z",
     "iopub.status.idle": "2025-08-19T18:47:48.683540Z",
     "shell.execute_reply": "2025-08-19T18:47:48.682782Z"
    },
    "papermill": {
     "duration": 0.07065,
     "end_time": "2025-08-19T18:47:48.685226",
     "exception": false,
     "start_time": "2025-08-19T18:47:48.614576",
     "status": "completed"
    },
    "tags": []
   },
   "outputs": [],
   "source": [
    "X_test = siab_test.iloc[:,4:164]\n",
    "y_true = siab_test.iloc[:, [3]]"
   ]
  },
  {
   "cell_type": "code",
   "execution_count": 20,
   "id": "0275101e",
   "metadata": {
    "execution": {
     "iopub.execute_input": "2025-08-19T18:47:48.709088Z",
     "iopub.status.busy": "2025-08-19T18:47:48.708645Z",
     "iopub.status.idle": "2025-08-19T18:47:48.821796Z",
     "shell.execute_reply": "2025-08-19T18:47:48.821082Z"
    },
    "papermill": {
     "duration": 0.126219,
     "end_time": "2025-08-19T18:47:48.823455",
     "exception": false,
     "start_time": "2025-08-19T18:47:48.697236",
     "status": "completed"
    },
    "tags": []
   },
   "outputs": [],
   "source": [
    "# Auxiliary data needed downstream in the pipeline\n",
    "\n",
    "org_train = X_train.copy()\n",
    "org_test = X_test.copy()\n",
    "org_calib = X_calib.copy()"
   ]
  },
  {
   "cell_type": "markdown",
   "id": "b461e618",
   "metadata": {
    "papermill": {
     "duration": 0.010822,
     "end_time": "2025-08-19T18:47:48.871405",
     "exception": false,
     "start_time": "2025-08-19T18:47:48.860583",
     "status": "completed"
    },
    "tags": []
   },
   "source": [
    "# Preprocessing Data"
   ]
  },
  {
   "cell_type": "code",
   "execution_count": 21,
   "id": "78e74c4b",
   "metadata": {
    "execution": {
     "iopub.execute_input": "2025-08-19T18:47:48.895724Z",
     "iopub.status.busy": "2025-08-19T18:47:48.894426Z",
     "iopub.status.idle": "2025-08-19T18:47:48.904097Z",
     "shell.execute_reply": "2025-08-19T18:47:48.902547Z"
    },
    "papermill": {
     "duration": 0.023281,
     "end_time": "2025-08-19T18:47:48.905676",
     "exception": false,
     "start_time": "2025-08-19T18:47:48.882395",
     "status": "completed"
    },
    "tags": []
   },
   "outputs": [],
   "source": [
    "# EXCLUDE PROTECTED FEATURES\n",
    "# --------------------------\n",
    "\n",
    "excluded_features = universe[\"exclude_features\"].split(\"-\")\n",
    "excluded_features_dictionary = {\n",
    "    \"nationality\": [\"maxdeutsch1\", \"maxdeutsch.Missing.\"],\n",
    "    \"sex\": [\"frau1\"],\n",
    "    \"age\": [\"age\"],\n",
    "}"
   ]
  },
  {
   "cell_type": "code",
   "execution_count": 22,
   "id": "f8e63555",
   "metadata": {
    "execution": {
     "iopub.execute_input": "2025-08-19T18:47:48.929613Z",
     "iopub.status.busy": "2025-08-19T18:47:48.928259Z",
     "iopub.status.idle": "2025-08-19T18:47:48.937733Z",
     "shell.execute_reply": "2025-08-19T18:47:48.936141Z"
    },
    "papermill": {
     "duration": 0.023401,
     "end_time": "2025-08-19T18:47:48.939434",
     "exception": false,
     "start_time": "2025-08-19T18:47:48.916033",
     "status": "completed"
    },
    "tags": []
   },
   "outputs": [],
   "source": [
    "excluded_features_columns = [\n",
    "    excluded_features_dictionary[f] for f in excluded_features if len(f) > 0 and f != \"none\"\n",
    "]"
   ]
  },
  {
   "cell_type": "code",
   "execution_count": 23,
   "id": "da781f7c",
   "metadata": {
    "execution": {
     "iopub.execute_input": "2025-08-19T18:47:48.966765Z",
     "iopub.status.busy": "2025-08-19T18:47:48.965734Z",
     "iopub.status.idle": "2025-08-19T18:47:48.973901Z",
     "shell.execute_reply": "2025-08-19T18:47:48.972284Z"
    },
    "papermill": {
     "duration": 0.022787,
     "end_time": "2025-08-19T18:47:48.975304",
     "exception": false,
     "start_time": "2025-08-19T18:47:48.952517",
     "status": "completed"
    },
    "tags": []
   },
   "outputs": [],
   "source": [
    "from fairness_multiverse.universe import flatten_once\n",
    "\n",
    "excluded_features_columns = flatten_once(excluded_features_columns)"
   ]
  },
  {
   "cell_type": "code",
   "execution_count": 24,
   "id": "37fef0f0",
   "metadata": {
    "execution": {
     "iopub.execute_input": "2025-08-19T18:47:49.002278Z",
     "iopub.status.busy": "2025-08-19T18:47:49.001184Z",
     "iopub.status.idle": "2025-08-19T18:47:49.022165Z",
     "shell.execute_reply": "2025-08-19T18:47:49.021363Z"
    },
    "papermill": {
     "duration": 0.035434,
     "end_time": "2025-08-19T18:47:49.023757",
     "exception": false,
     "start_time": "2025-08-19T18:47:48.988323",
     "status": "completed"
    },
    "tags": []
   },
   "outputs": [
    {
     "name": "stdout",
     "output_type": "stream",
     "text": [
      "Dropping features: ['age']\n"
     ]
    }
   ],
   "source": [
    "if len(excluded_features_columns) > 0:\n",
    "    print(f\"Dropping features: {excluded_features_columns}\")\n",
    "    X_train.drop(excluded_features_columns, axis=1, inplace=True)"
   ]
  },
  {
   "cell_type": "code",
   "execution_count": 25,
   "id": "d029e3e9",
   "metadata": {
    "execution": {
     "iopub.execute_input": "2025-08-19T18:47:49.055300Z",
     "iopub.status.busy": "2025-08-19T18:47:49.054238Z",
     "iopub.status.idle": "2025-08-19T18:47:49.117745Z",
     "shell.execute_reply": "2025-08-19T18:47:49.117078Z"
    },
    "papermill": {
     "duration": 0.079129,
     "end_time": "2025-08-19T18:47:49.120339",
     "exception": false,
     "start_time": "2025-08-19T18:47:49.041210",
     "status": "completed"
    },
    "tags": []
   },
   "outputs": [
    {
     "name": "stdout",
     "output_type": "stream",
     "text": [
      "Dropping features: ['age']\n"
     ]
    }
   ],
   "source": [
    "if len(excluded_features_columns) > 0:\n",
    "    print(f\"Dropping features: {excluded_features_columns}\")\n",
    "    X_test.drop(excluded_features_columns, axis=1, inplace=True)"
   ]
  },
  {
   "cell_type": "code",
   "execution_count": 26,
   "id": "01d571f0",
   "metadata": {
    "execution": {
     "iopub.execute_input": "2025-08-19T18:47:49.158840Z",
     "iopub.status.busy": "2025-08-19T18:47:49.157926Z",
     "iopub.status.idle": "2025-08-19T18:47:49.213190Z",
     "shell.execute_reply": "2025-08-19T18:47:49.212561Z"
    },
    "papermill": {
     "duration": 0.071798,
     "end_time": "2025-08-19T18:47:49.215647",
     "exception": false,
     "start_time": "2025-08-19T18:47:49.143849",
     "status": "completed"
    },
    "tags": []
   },
   "outputs": [
    {
     "name": "stdout",
     "output_type": "stream",
     "text": [
      "Dropping features: ['age']\n"
     ]
    }
   ],
   "source": [
    "if len(excluded_features_columns) > 0:\n",
    "    print(f\"Dropping features: {excluded_features_columns}\")\n",
    "    X_calib.drop(excluded_features_columns, axis=1, inplace=True)"
   ]
  },
  {
   "cell_type": "code",
   "execution_count": 27,
   "id": "3037356e",
   "metadata": {
    "execution": {
     "iopub.execute_input": "2025-08-19T18:47:49.253760Z",
     "iopub.status.busy": "2025-08-19T18:47:49.252698Z",
     "iopub.status.idle": "2025-08-19T18:47:49.261133Z",
     "shell.execute_reply": "2025-08-19T18:47:49.259389Z"
    },
    "papermill": {
     "duration": 0.025588,
     "end_time": "2025-08-19T18:47:49.264206",
     "exception": false,
     "start_time": "2025-08-19T18:47:49.238618",
     "status": "completed"
    },
    "tags": []
   },
   "outputs": [],
   "source": [
    "# EXCLUDE CERTAIN SUBGROUPS\n",
    "# -------------------------\n",
    "\n",
    "mode = universe.get(\"exclude_subgroups\", \"keep-all\") # Defaults to \"keep-all\" if the key is missing."
   ]
  },
  {
   "cell_type": "code",
   "execution_count": 28,
   "id": "9d1e63fd",
   "metadata": {
    "execution": {
     "iopub.execute_input": "2025-08-19T18:47:49.291841Z",
     "iopub.status.busy": "2025-08-19T18:47:49.290766Z",
     "iopub.status.idle": "2025-08-19T18:47:49.305012Z",
     "shell.execute_reply": "2025-08-19T18:47:49.302421Z"
    },
    "papermill": {
     "duration": 0.028335,
     "end_time": "2025-08-19T18:47:49.306646",
     "exception": false,
     "start_time": "2025-08-19T18:47:49.278311",
     "status": "completed"
    },
    "tags": []
   },
   "outputs": [],
   "source": [
    "if mode == \"keep-all\":\n",
    "    keep_mask = pd.Series(True, index=org_train.index)\n",
    "\n",
    "elif mode == \"drop-non-german\":\n",
    "    keep_mask = (org_train[\"maxdeutsch1\"] == 1) & (org_train[\"maxdeutsch.Missing.\"] == 0)\n",
    "\n",
    "else:\n",
    "    raise ValueError(f\"Unsupported mode for exclude_subgroups: {mode}\")"
   ]
  },
  {
   "cell_type": "code",
   "execution_count": 29,
   "id": "d3b65474",
   "metadata": {
    "execution": {
     "iopub.execute_input": "2025-08-19T18:47:49.337868Z",
     "iopub.status.busy": "2025-08-19T18:47:49.336718Z",
     "iopub.status.idle": "2025-08-19T18:47:49.347107Z",
     "shell.execute_reply": "2025-08-19T18:47:49.346118Z"
    },
    "papermill": {
     "duration": 0.026902,
     "end_time": "2025-08-19T18:47:49.348598",
     "exception": false,
     "start_time": "2025-08-19T18:47:49.321696",
     "status": "completed"
    },
    "tags": []
   },
   "outputs": [],
   "source": [
    "n_drop = (~keep_mask).sum() # Calculates how many rows are set to be dropped\n",
    "if n_drop > 0:\n",
    "    pct = n_drop / len(keep_mask) * 100\n",
    "    print(f\"Dropping {n_drop} rows ({pct:.2f}%) where mode='{mode}'\")"
   ]
  },
  {
   "cell_type": "code",
   "execution_count": 30,
   "id": "f44389b3",
   "metadata": {
    "execution": {
     "iopub.execute_input": "2025-08-19T18:47:49.380797Z",
     "iopub.status.busy": "2025-08-19T18:47:49.379210Z",
     "iopub.status.idle": "2025-08-19T18:47:49.391200Z",
     "shell.execute_reply": "2025-08-19T18:47:49.390487Z"
    },
    "papermill": {
     "duration": 0.027633,
     "end_time": "2025-08-19T18:47:49.392690",
     "exception": false,
     "start_time": "2025-08-19T18:47:49.365057",
     "status": "completed"
    },
    "tags": []
   },
   "outputs": [],
   "source": [
    "X_train = X_train[keep_mask]"
   ]
  },
  {
   "cell_type": "code",
   "execution_count": 31,
   "id": "ceca8c2a",
   "metadata": {
    "execution": {
     "iopub.execute_input": "2025-08-19T18:47:49.424733Z",
     "iopub.status.busy": "2025-08-19T18:47:49.424348Z",
     "iopub.status.idle": "2025-08-19T18:47:49.429153Z",
     "shell.execute_reply": "2025-08-19T18:47:49.428330Z"
    },
    "papermill": {
     "duration": 0.020051,
     "end_time": "2025-08-19T18:47:49.430963",
     "exception": false,
     "start_time": "2025-08-19T18:47:49.410912",
     "status": "completed"
    },
    "tags": []
   },
   "outputs": [],
   "source": [
    "y_train = y_train[keep_mask]"
   ]
  },
  {
   "cell_type": "markdown",
   "id": "04d31e2f",
   "metadata": {
    "papermill": {
     "duration": 0.01062,
     "end_time": "2025-08-19T18:47:49.453218",
     "exception": false,
     "start_time": "2025-08-19T18:47:49.442598",
     "status": "completed"
    },
    "tags": []
   },
   "source": [
    "# Model Training"
   ]
  },
  {
   "cell_type": "code",
   "execution_count": 32,
   "id": "db991733",
   "metadata": {
    "execution": {
     "iopub.execute_input": "2025-08-19T18:47:49.475904Z",
     "iopub.status.busy": "2025-08-19T18:47:49.475514Z",
     "iopub.status.idle": "2025-08-19T18:47:49.594347Z",
     "shell.execute_reply": "2025-08-19T18:47:49.593600Z"
    },
    "papermill": {
     "duration": 0.131963,
     "end_time": "2025-08-19T18:47:49.595857",
     "exception": false,
     "start_time": "2025-08-19T18:47:49.463894",
     "status": "completed"
    },
    "tags": []
   },
   "outputs": [],
   "source": [
    "from sklearn.linear_model import LogisticRegression\n",
    "from sklearn.ensemble import GradientBoostingClassifier, RandomForestClassifier\n",
    "\n",
    "if (universe[\"model\"] == \"logreg\"):\n",
    "    model = LogisticRegression() #penalty=\"none\", solver=\"newton-cg\", max_iter=1)\n",
    "elif (universe[\"model\"] == \"penalized_logreg\"):\n",
    "    model = LogisticRegression(penalty=\"l2\", C=0.1) #, solver=\"newton-cg\", max_iter=1)\n",
    "elif (universe[\"model\"] == \"rf\"):\n",
    "    model = RandomForestClassifier() # n_estimators=100, n_jobs=-1\n",
    "elif (universe[\"model\"] == \"gbm\"):\n",
    "    model = GradientBoostingClassifier()\n",
    "elif (universe[\"model\"] == \"elasticnet\"):\n",
    "    model = LogisticRegression(penalty = 'elasticnet', solver = 'saga', l1_ratio = 0.5) # max_iter=5000\n",
    "else:\n",
    "    raise \"Unsupported universe.model\""
   ]
  },
  {
   "cell_type": "code",
   "execution_count": 33,
   "id": "a4b5cd25",
   "metadata": {
    "execution": {
     "iopub.execute_input": "2025-08-19T18:47:49.619240Z",
     "iopub.status.busy": "2025-08-19T18:47:49.618861Z",
     "iopub.status.idle": "2025-08-19T18:47:49.623517Z",
     "shell.execute_reply": "2025-08-19T18:47:49.622816Z"
    },
    "papermill": {
     "duration": 0.017678,
     "end_time": "2025-08-19T18:47:49.624844",
     "exception": false,
     "start_time": "2025-08-19T18:47:49.607166",
     "status": "completed"
    },
    "tags": []
   },
   "outputs": [],
   "source": [
    "from sklearn.pipeline import Pipeline\n",
    "from sklearn.preprocessing import StandardScaler\n",
    "\n",
    "model = Pipeline([\n",
    "    #(\"continuous_processor\", continuous_processor),\n",
    "    #(\"categorical_preprocessor\", categorical_preprocessor),\n",
    "    (\"scale\", StandardScaler() if universe[\"scale\"] == \"scale\" else None), \n",
    "    (\"model\", model),\n",
    "])"
   ]
  },
  {
   "cell_type": "code",
   "execution_count": 34,
   "id": "283a904d",
   "metadata": {
    "execution": {
     "iopub.execute_input": "2025-08-19T18:47:49.647386Z",
     "iopub.status.busy": "2025-08-19T18:47:49.647020Z",
     "iopub.status.idle": "2025-08-19T18:47:53.937951Z",
     "shell.execute_reply": "2025-08-19T18:47:53.937039Z"
    },
    "papermill": {
     "duration": 4.310513,
     "end_time": "2025-08-19T18:47:53.946092",
     "exception": false,
     "start_time": "2025-08-19T18:47:49.635579",
     "status": "completed"
    },
    "tags": []
   },
   "outputs": [
    {
     "data": {
      "text/html": [
       "<style>#sk-container-id-1 {color: black;background-color: white;}#sk-container-id-1 pre{padding: 0;}#sk-container-id-1 div.sk-toggleable {background-color: white;}#sk-container-id-1 label.sk-toggleable__label {cursor: pointer;display: block;width: 100%;margin-bottom: 0;padding: 0.3em;box-sizing: border-box;text-align: center;}#sk-container-id-1 label.sk-toggleable__label-arrow:before {content: \"▸\";float: left;margin-right: 0.25em;color: #696969;}#sk-container-id-1 label.sk-toggleable__label-arrow:hover:before {color: black;}#sk-container-id-1 div.sk-estimator:hover label.sk-toggleable__label-arrow:before {color: black;}#sk-container-id-1 div.sk-toggleable__content {max-height: 0;max-width: 0;overflow: hidden;text-align: left;background-color: #f0f8ff;}#sk-container-id-1 div.sk-toggleable__content pre {margin: 0.2em;color: black;border-radius: 0.25em;background-color: #f0f8ff;}#sk-container-id-1 input.sk-toggleable__control:checked~div.sk-toggleable__content {max-height: 200px;max-width: 100%;overflow: auto;}#sk-container-id-1 input.sk-toggleable__control:checked~label.sk-toggleable__label-arrow:before {content: \"▾\";}#sk-container-id-1 div.sk-estimator input.sk-toggleable__control:checked~label.sk-toggleable__label {background-color: #d4ebff;}#sk-container-id-1 div.sk-label input.sk-toggleable__control:checked~label.sk-toggleable__label {background-color: #d4ebff;}#sk-container-id-1 input.sk-hidden--visually {border: 0;clip: rect(1px 1px 1px 1px);clip: rect(1px, 1px, 1px, 1px);height: 1px;margin: -1px;overflow: hidden;padding: 0;position: absolute;width: 1px;}#sk-container-id-1 div.sk-estimator {font-family: monospace;background-color: #f0f8ff;border: 1px dotted black;border-radius: 0.25em;box-sizing: border-box;margin-bottom: 0.5em;}#sk-container-id-1 div.sk-estimator:hover {background-color: #d4ebff;}#sk-container-id-1 div.sk-parallel-item::after {content: \"\";width: 100%;border-bottom: 1px solid gray;flex-grow: 1;}#sk-container-id-1 div.sk-label:hover label.sk-toggleable__label {background-color: #d4ebff;}#sk-container-id-1 div.sk-serial::before {content: \"\";position: absolute;border-left: 1px solid gray;box-sizing: border-box;top: 0;bottom: 0;left: 50%;z-index: 0;}#sk-container-id-1 div.sk-serial {display: flex;flex-direction: column;align-items: center;background-color: white;padding-right: 0.2em;padding-left: 0.2em;position: relative;}#sk-container-id-1 div.sk-item {position: relative;z-index: 1;}#sk-container-id-1 div.sk-parallel {display: flex;align-items: stretch;justify-content: center;background-color: white;position: relative;}#sk-container-id-1 div.sk-item::before, #sk-container-id-1 div.sk-parallel-item::before {content: \"\";position: absolute;border-left: 1px solid gray;box-sizing: border-box;top: 0;bottom: 0;left: 50%;z-index: -1;}#sk-container-id-1 div.sk-parallel-item {display: flex;flex-direction: column;z-index: 1;position: relative;background-color: white;}#sk-container-id-1 div.sk-parallel-item:first-child::after {align-self: flex-end;width: 50%;}#sk-container-id-1 div.sk-parallel-item:last-child::after {align-self: flex-start;width: 50%;}#sk-container-id-1 div.sk-parallel-item:only-child::after {width: 0;}#sk-container-id-1 div.sk-dashed-wrapped {border: 1px dashed gray;margin: 0 0.4em 0.5em 0.4em;box-sizing: border-box;padding-bottom: 0.4em;background-color: white;}#sk-container-id-1 div.sk-label label {font-family: monospace;font-weight: bold;display: inline-block;line-height: 1.2em;}#sk-container-id-1 div.sk-label-container {text-align: center;}#sk-container-id-1 div.sk-container {/* jupyter's `normalize.less` sets `[hidden] { display: none; }` but bootstrap.min.css set `[hidden] { display: none !important; }` so we also need the `!important` here to be able to override the default hidden behavior on the sphinx rendered scikit-learn.org. See: https://github.com/scikit-learn/scikit-learn/issues/21755 */display: inline-block !important;position: relative;}#sk-container-id-1 div.sk-text-repr-fallback {display: none;}</style><div id=\"sk-container-id-1\" class=\"sk-top-container\"><div class=\"sk-text-repr-fallback\"><pre>Pipeline(steps=[(&#x27;scale&#x27;, None), (&#x27;model&#x27;, GradientBoostingClassifier())])</pre><b>In a Jupyter environment, please rerun this cell to show the HTML representation or trust the notebook. <br />On GitHub, the HTML representation is unable to render, please try loading this page with nbviewer.org.</b></div><div class=\"sk-container\" hidden><div class=\"sk-item sk-dashed-wrapped\"><div class=\"sk-label-container\"><div class=\"sk-label sk-toggleable\"><input class=\"sk-toggleable__control sk-hidden--visually\" id=\"sk-estimator-id-1\" type=\"checkbox\" ><label for=\"sk-estimator-id-1\" class=\"sk-toggleable__label sk-toggleable__label-arrow\">Pipeline</label><div class=\"sk-toggleable__content\"><pre>Pipeline(steps=[(&#x27;scale&#x27;, None), (&#x27;model&#x27;, GradientBoostingClassifier())])</pre></div></div></div><div class=\"sk-serial\"><div class=\"sk-item\"><div class=\"sk-estimator sk-toggleable\"><input class=\"sk-toggleable__control sk-hidden--visually\" id=\"sk-estimator-id-2\" type=\"checkbox\" ><label for=\"sk-estimator-id-2\" class=\"sk-toggleable__label sk-toggleable__label-arrow\">None</label><div class=\"sk-toggleable__content\"><pre>None</pre></div></div></div><div class=\"sk-item\"><div class=\"sk-estimator sk-toggleable\"><input class=\"sk-toggleable__control sk-hidden--visually\" id=\"sk-estimator-id-3\" type=\"checkbox\" ><label for=\"sk-estimator-id-3\" class=\"sk-toggleable__label sk-toggleable__label-arrow\">GradientBoostingClassifier</label><div class=\"sk-toggleable__content\"><pre>GradientBoostingClassifier()</pre></div></div></div></div></div></div></div>"
      ],
      "text/plain": [
       "Pipeline(steps=[('scale', None), ('model', GradientBoostingClassifier())])"
      ]
     },
     "execution_count": 34,
     "metadata": {},
     "output_type": "execute_result"
    }
   ],
   "source": [
    "model.fit(X_train, y_train.values.ravel())"
   ]
  },
  {
   "cell_type": "code",
   "execution_count": 35,
   "id": "6e15e313",
   "metadata": {
    "execution": {
     "iopub.execute_input": "2025-08-19T18:47:53.982253Z",
     "iopub.status.busy": "2025-08-19T18:47:53.981062Z",
     "iopub.status.idle": "2025-08-19T18:47:54.511658Z",
     "shell.execute_reply": "2025-08-19T18:47:54.511012Z"
    },
    "papermill": {
     "duration": 0.545594,
     "end_time": "2025-08-19T18:47:54.512962",
     "exception": false,
     "start_time": "2025-08-19T18:47:53.967368",
     "status": "completed"
    },
    "tags": []
   },
   "outputs": [
    {
     "data": {
      "text/plain": [
       "0.8566269089287705"
      ]
     },
     "execution_count": 35,
     "metadata": {},
     "output_type": "execute_result"
    }
   ],
   "source": [
    "from fairness_multiverse.universe import predict_w_threshold\n",
    "\n",
    "probs_test = model.predict_proba(X_test)\n",
    "\n",
    "'''\n",
    "Below code returns a boolean array (or binary 0/1 array depending on how it’s used) where each element \n",
    "is True if the probability of class 1 is greater than or equal to the threshold, and False otherwise.\n",
    "'''\n",
    "y_pred_default = predict_w_threshold(probs_test, 0.5)\n",
    "\n",
    "from sklearn.metrics import accuracy_score\n",
    "\n",
    "# Naive prediction\n",
    "accuracy_score(y_true = y_true, y_pred = y_pred_default)"
   ]
  },
  {
   "cell_type": "code",
   "execution_count": 36,
   "id": "6f14067c",
   "metadata": {
    "execution": {
     "iopub.execute_input": "2025-08-19T18:47:54.541932Z",
     "iopub.status.busy": "2025-08-19T18:47:54.541507Z",
     "iopub.status.idle": "2025-08-19T18:47:55.023038Z",
     "shell.execute_reply": "2025-08-19T18:47:55.022051Z"
    },
    "papermill": {
     "duration": 0.500415,
     "end_time": "2025-08-19T18:47:55.025564",
     "exception": false,
     "start_time": "2025-08-19T18:47:54.525149",
     "status": "completed"
    },
    "tags": []
   },
   "outputs": [
    {
     "data": {
      "text/plain": [
       "array([0, 0, 0, ..., 0, 0, 0])"
      ]
     },
     "execution_count": 36,
     "metadata": {},
     "output_type": "execute_result"
    }
   ],
   "source": [
    "model.predict(X_test)"
   ]
  },
  {
   "cell_type": "markdown",
   "id": "3759920c",
   "metadata": {
    "papermill": {
     "duration": 0.013531,
     "end_time": "2025-08-19T18:47:55.064568",
     "exception": false,
     "start_time": "2025-08-19T18:47:55.051037",
     "status": "completed"
    },
    "tags": []
   },
   "source": [
    "# Conformal Prediction"
   ]
  },
  {
   "cell_type": "code",
   "execution_count": 37,
   "id": "14b27f59",
   "metadata": {
    "execution": {
     "iopub.execute_input": "2025-08-19T18:47:55.124365Z",
     "iopub.status.busy": "2025-08-19T18:47:55.123248Z",
     "iopub.status.idle": "2025-08-19T18:47:55.132506Z",
     "shell.execute_reply": "2025-08-19T18:47:55.130791Z"
    },
    "papermill": {
     "duration": 0.037141,
     "end_time": "2025-08-19T18:47:55.134429",
     "exception": false,
     "start_time": "2025-08-19T18:47:55.097288",
     "status": "completed"
    },
    "tags": []
   },
   "outputs": [],
   "source": [
    "# Miscoverage level for conformal prediction (10% allowed error rate => 90% target coverage)\n",
    "alpha = 0.1"
   ]
  },
  {
   "cell_type": "code",
   "execution_count": 38,
   "id": "59102472",
   "metadata": {
    "execution": {
     "iopub.execute_input": "2025-08-19T18:47:55.169069Z",
     "iopub.status.busy": "2025-08-19T18:47:55.168034Z",
     "iopub.status.idle": "2025-08-19T18:47:55.673719Z",
     "shell.execute_reply": "2025-08-19T18:47:55.672913Z"
    },
    "papermill": {
     "duration": 0.523788,
     "end_time": "2025-08-19T18:47:55.677031",
     "exception": false,
     "start_time": "2025-08-19T18:47:55.153243",
     "status": "completed"
    },
    "tags": []
   },
   "outputs": [],
   "source": [
    "probs_calib = model.predict_proba(X_calib)"
   ]
  },
  {
   "cell_type": "code",
   "execution_count": 39,
   "id": "a792d4dd",
   "metadata": {
    "execution": {
     "iopub.execute_input": "2025-08-19T18:47:55.719011Z",
     "iopub.status.busy": "2025-08-19T18:47:55.717635Z",
     "iopub.status.idle": "2025-08-19T18:47:55.728214Z",
     "shell.execute_reply": "2025-08-19T18:47:55.726594Z"
    },
    "papermill": {
     "duration": 0.027368,
     "end_time": "2025-08-19T18:47:55.729999",
     "exception": false,
     "start_time": "2025-08-19T18:47:55.702631",
     "status": "completed"
    },
    "tags": []
   },
   "outputs": [],
   "source": [
    "y_calib = y_calib.values.ravel().astype(int)"
   ]
  },
  {
   "cell_type": "code",
   "execution_count": 40,
   "id": "650fd033",
   "metadata": {
    "execution": {
     "iopub.execute_input": "2025-08-19T18:47:55.761530Z",
     "iopub.status.busy": "2025-08-19T18:47:55.760464Z",
     "iopub.status.idle": "2025-08-19T18:47:55.773522Z",
     "shell.execute_reply": "2025-08-19T18:47:55.772272Z"
    },
    "papermill": {
     "duration": 0.028512,
     "end_time": "2025-08-19T18:47:55.775174",
     "exception": false,
     "start_time": "2025-08-19T18:47:55.746662",
     "status": "completed"
    },
    "tags": []
   },
   "outputs": [],
   "source": [
    "from fairness_multiverse.conformal import compute_nc_scores\n",
    "\n",
    "# Compute nonconformity scores on calibration set (1 - probability of true class)\n",
    "nc_scores = compute_nc_scores(probs_calib, y_calib)"
   ]
  },
  {
   "cell_type": "code",
   "execution_count": 41,
   "id": "28ada44c",
   "metadata": {
    "execution": {
     "iopub.execute_input": "2025-08-19T18:47:55.810326Z",
     "iopub.status.busy": "2025-08-19T18:47:55.809019Z",
     "iopub.status.idle": "2025-08-19T18:47:55.821184Z",
     "shell.execute_reply": "2025-08-19T18:47:55.819428Z"
    },
    "papermill": {
     "duration": 0.028642,
     "end_time": "2025-08-19T18:47:55.822945",
     "exception": false,
     "start_time": "2025-08-19T18:47:55.794303",
     "status": "completed"
    },
    "tags": []
   },
   "outputs": [],
   "source": [
    "from fairness_multiverse.conformal import find_threshold\n",
    "\n",
    "# Find conformal threshold q_hat for the given alpha (split conformal method)\n",
    "q_hat = find_threshold(nc_scores, alpha)"
   ]
  },
  {
   "cell_type": "code",
   "execution_count": 42,
   "id": "df56469e",
   "metadata": {
    "execution": {
     "iopub.execute_input": "2025-08-19T18:47:55.855839Z",
     "iopub.status.busy": "2025-08-19T18:47:55.855176Z",
     "iopub.status.idle": "2025-08-19T18:47:55.863708Z",
     "shell.execute_reply": "2025-08-19T18:47:55.862782Z"
    },
    "papermill": {
     "duration": 0.023974,
     "end_time": "2025-08-19T18:47:55.865002",
     "exception": false,
     "start_time": "2025-08-19T18:47:55.841028",
     "status": "completed"
    },
    "tags": []
   },
   "outputs": [
    {
     "data": {
      "text/plain": [
       "0.7085321405726477"
      ]
     },
     "execution_count": 42,
     "metadata": {},
     "output_type": "execute_result"
    }
   ],
   "source": [
    "q_hat"
   ]
  },
  {
   "cell_type": "code",
   "execution_count": 43,
   "id": "aa1f5faa",
   "metadata": {
    "execution": {
     "iopub.execute_input": "2025-08-19T18:47:55.890627Z",
     "iopub.status.busy": "2025-08-19T18:47:55.889993Z",
     "iopub.status.idle": "2025-08-19T18:47:56.839915Z",
     "shell.execute_reply": "2025-08-19T18:47:56.839188Z"
    },
    "papermill": {
     "duration": 0.966698,
     "end_time": "2025-08-19T18:47:56.843191",
     "exception": false,
     "start_time": "2025-08-19T18:47:55.876493",
     "status": "completed"
    },
    "tags": []
   },
   "outputs": [],
   "source": [
    "from fairness_multiverse.conformal import predict_conformal_sets\n",
    "\n",
    "# Generate prediction sets for each test example\n",
    "pred_sets = predict_conformal_sets(model, X_test, q_hat)"
   ]
  },
  {
   "cell_type": "code",
   "execution_count": 44,
   "id": "97f67a6b",
   "metadata": {
    "execution": {
     "iopub.execute_input": "2025-08-19T18:47:56.886687Z",
     "iopub.status.busy": "2025-08-19T18:47:56.885268Z",
     "iopub.status.idle": "2025-08-19T18:47:56.894396Z",
     "shell.execute_reply": "2025-08-19T18:47:56.892899Z"
    },
    "papermill": {
     "duration": 0.034884,
     "end_time": "2025-08-19T18:47:56.905354",
     "exception": false,
     "start_time": "2025-08-19T18:47:56.870470",
     "status": "completed"
    },
    "tags": []
   },
   "outputs": [],
   "source": [
    "y_true = y_true.squeeze()"
   ]
  },
  {
   "cell_type": "code",
   "execution_count": 45,
   "id": "e700e9a7",
   "metadata": {
    "execution": {
     "iopub.execute_input": "2025-08-19T18:47:56.935558Z",
     "iopub.status.busy": "2025-08-19T18:47:56.933952Z",
     "iopub.status.idle": "2025-08-19T18:47:57.470111Z",
     "shell.execute_reply": "2025-08-19T18:47:57.468885Z"
    },
    "papermill": {
     "duration": 0.552175,
     "end_time": "2025-08-19T18:47:57.473127",
     "exception": false,
     "start_time": "2025-08-19T18:47:56.920952",
     "status": "completed"
    },
    "tags": []
   },
   "outputs": [],
   "source": [
    "from fairness_multiverse.conformal import evaluate_sets\n",
    "\n",
    "# Evaluate coverage and average set size on test data\n",
    "metrics = evaluate_sets(pred_sets, y_true)"
   ]
  },
  {
   "cell_type": "markdown",
   "id": "efbacec0",
   "metadata": {
    "papermill": {
     "duration": 0.022987,
     "end_time": "2025-08-19T18:47:57.528454",
     "exception": false,
     "start_time": "2025-08-19T18:47:57.505467",
     "status": "completed"
    },
    "tags": []
   },
   "source": [
    "# CP Metrics"
   ]
  },
  {
   "cell_type": "code",
   "execution_count": 46,
   "id": "9de55fb1",
   "metadata": {
    "execution": {
     "iopub.execute_input": "2025-08-19T18:47:57.562247Z",
     "iopub.status.busy": "2025-08-19T18:47:57.561654Z",
     "iopub.status.idle": "2025-08-19T18:47:57.568900Z",
     "shell.execute_reply": "2025-08-19T18:47:57.568309Z"
    },
    "papermill": {
     "duration": 0.029021,
     "end_time": "2025-08-19T18:47:57.572583",
     "exception": false,
     "start_time": "2025-08-19T18:47:57.543562",
     "status": "completed"
    },
    "tags": []
   },
   "outputs": [
    {
     "data": {
      "text/plain": [
       "{'coverage': 0.9113030877271208, 'avg_size': 1.1446104113253819}"
      ]
     },
     "execution_count": 46,
     "metadata": {},
     "output_type": "execute_result"
    }
   ],
   "source": [
    "metrics"
   ]
  },
  {
   "cell_type": "code",
   "execution_count": 47,
   "id": "64c340a1",
   "metadata": {
    "execution": {
     "iopub.execute_input": "2025-08-19T18:47:57.598733Z",
     "iopub.status.busy": "2025-08-19T18:47:57.597703Z",
     "iopub.status.idle": "2025-08-19T18:47:57.607146Z",
     "shell.execute_reply": "2025-08-19T18:47:57.605724Z"
    },
    "papermill": {
     "duration": 0.025285,
     "end_time": "2025-08-19T18:47:57.610139",
     "exception": false,
     "start_time": "2025-08-19T18:47:57.584854",
     "status": "completed"
    },
    "tags": []
   },
   "outputs": [],
   "source": [
    "example_universe = universe.copy()\n",
    "universe_training_year = example_universe.get(\"training_year\")\n",
    "universe_training_size = example_universe.get(\"training_size\")\n",
    "universe_scale = example_universe.get(\"scale\")\n",
    "universe_model = example_universe.get(\"model\")\n",
    "universe_exclude_features = example_universe.get(\"exclude_features\")\n",
    "universe_exclude_subgroups = example_universe.get(\"exclude_subgroups\")"
   ]
  },
  {
   "cell_type": "code",
   "execution_count": 48,
   "id": "dbb53cb4",
   "metadata": {
    "execution": {
     "iopub.execute_input": "2025-08-19T18:47:57.664243Z",
     "iopub.status.busy": "2025-08-19T18:47:57.663118Z",
     "iopub.status.idle": "2025-08-19T18:47:57.673536Z",
     "shell.execute_reply": "2025-08-19T18:47:57.672184Z"
    },
    "papermill": {
     "duration": 0.037952,
     "end_time": "2025-08-19T18:47:57.674875",
     "exception": false,
     "start_time": "2025-08-19T18:47:57.636923",
     "status": "completed"
    },
    "tags": []
   },
   "outputs": [],
   "source": [
    "cp_metrics_dict = {\n",
    "    \"universe_id\": [universe_id],\n",
    "    \"universe_training_year\": [universe_training_year],\n",
    "    \"universe_training_size\": [universe_training_size],\n",
    "    \"universe_scale\": [universe_scale],\n",
    "    \"universe_model\": [universe_model],\n",
    "    \"universe_exclude_features\": [universe_exclude_features],\n",
    "    \"universe_exclude_subgroups\": [universe_exclude_subgroups],\n",
    "    \"q_hat\": [q_hat],\n",
    "    \"coverage\": [metrics[\"coverage\"]],\n",
    "    \"avg_size\": [metrics[\"avg_size\"]],\n",
    "}"
   ]
  },
  {
   "cell_type": "code",
   "execution_count": 49,
   "id": "0d70d4b2",
   "metadata": {
    "execution": {
     "iopub.execute_input": "2025-08-19T18:47:57.708578Z",
     "iopub.status.busy": "2025-08-19T18:47:57.708033Z",
     "iopub.status.idle": "2025-08-19T18:47:57.714730Z",
     "shell.execute_reply": "2025-08-19T18:47:57.713773Z"
    },
    "papermill": {
     "duration": 0.021422,
     "end_time": "2025-08-19T18:47:57.716291",
     "exception": false,
     "start_time": "2025-08-19T18:47:57.694869",
     "status": "completed"
    },
    "tags": []
   },
   "outputs": [],
   "source": [
    "cp_metrics_df = pd.DataFrame(cp_metrics_dict)"
   ]
  },
  {
   "cell_type": "code",
   "execution_count": 50,
   "id": "b494403c",
   "metadata": {
    "execution": {
     "iopub.execute_input": "2025-08-19T18:47:57.744601Z",
     "iopub.status.busy": "2025-08-19T18:47:57.744265Z",
     "iopub.status.idle": "2025-08-19T18:47:57.758339Z",
     "shell.execute_reply": "2025-08-19T18:47:57.757621Z"
    },
    "papermill": {
     "duration": 0.032796,
     "end_time": "2025-08-19T18:47:57.761587",
     "exception": false,
     "start_time": "2025-08-19T18:47:57.728791",
     "status": "completed"
    },
    "tags": []
   },
   "outputs": [
    {
     "data": {
      "text/html": [
       "<div>\n",
       "<style scoped>\n",
       "    .dataframe tbody tr th:only-of-type {\n",
       "        vertical-align: middle;\n",
       "    }\n",
       "\n",
       "    .dataframe tbody tr th {\n",
       "        vertical-align: top;\n",
       "    }\n",
       "\n",
       "    .dataframe thead th {\n",
       "        text-align: right;\n",
       "    }\n",
       "</style>\n",
       "<table border=\"1\" class=\"dataframe\">\n",
       "  <thead>\n",
       "    <tr style=\"text-align: right;\">\n",
       "      <th></th>\n",
       "      <th>universe_id</th>\n",
       "      <th>universe_training_year</th>\n",
       "      <th>universe_training_size</th>\n",
       "      <th>universe_scale</th>\n",
       "      <th>universe_model</th>\n",
       "      <th>universe_exclude_features</th>\n",
       "      <th>universe_exclude_subgroups</th>\n",
       "      <th>q_hat</th>\n",
       "      <th>coverage</th>\n",
       "      <th>avg_size</th>\n",
       "    </tr>\n",
       "  </thead>\n",
       "  <tbody>\n",
       "    <tr>\n",
       "      <th>0</th>\n",
       "      <td>2eefcf6c000a0caf3ee41c4e226f1f38</td>\n",
       "      <td>2010_14</td>\n",
       "      <td>5k</td>\n",
       "      <td>do-not-scale</td>\n",
       "      <td>gbm</td>\n",
       "      <td>age</td>\n",
       "      <td>keep-all</td>\n",
       "      <td>0.708532</td>\n",
       "      <td>0.911303</td>\n",
       "      <td>1.14461</td>\n",
       "    </tr>\n",
       "  </tbody>\n",
       "</table>\n",
       "</div>"
      ],
      "text/plain": [
       "                        universe_id universe_training_year  \\\n",
       "0  2eefcf6c000a0caf3ee41c4e226f1f38                2010_14   \n",
       "\n",
       "  universe_training_size universe_scale universe_model  \\\n",
       "0                     5k   do-not-scale            gbm   \n",
       "\n",
       "  universe_exclude_features universe_exclude_subgroups     q_hat  coverage  \\\n",
       "0                       age                   keep-all  0.708532  0.911303   \n",
       "\n",
       "   avg_size  \n",
       "0   1.14461  "
      ]
     },
     "execution_count": 50,
     "metadata": {},
     "output_type": "execute_result"
    }
   ],
   "source": [
    "cp_metrics_df"
   ]
  },
  {
   "cell_type": "markdown",
   "id": "ed608b0b",
   "metadata": {
    "papermill": {
     "duration": 0.017751,
     "end_time": "2025-08-19T18:47:57.823541",
     "exception": false,
     "start_time": "2025-08-19T18:47:57.805790",
     "status": "completed"
    },
    "tags": []
   },
   "source": [
    "Conditional coverage & looking at subgroups"
   ]
  },
  {
   "cell_type": "code",
   "execution_count": 51,
   "id": "8968c366",
   "metadata": {
    "execution": {
     "iopub.execute_input": "2025-08-19T18:47:57.849273Z",
     "iopub.status.busy": "2025-08-19T18:47:57.848801Z",
     "iopub.status.idle": "2025-08-19T18:47:58.160430Z",
     "shell.execute_reply": "2025-08-19T18:47:58.159419Z"
    },
    "papermill": {
     "duration": 0.326116,
     "end_time": "2025-08-19T18:47:58.161892",
     "exception": false,
     "start_time": "2025-08-19T18:47:57.835776",
     "status": "completed"
    },
    "tags": []
   },
   "outputs": [],
   "source": [
    "from fairness_multiverse.conformal import build_cp_groups\n",
    "\n",
    "cp_groups_df = build_cp_groups(pred_sets, y_true, X_test.index, org_test)"
   ]
  },
  {
   "cell_type": "code",
   "execution_count": 52,
   "id": "292ddabf",
   "metadata": {
    "execution": {
     "iopub.execute_input": "2025-08-19T18:47:58.195198Z",
     "iopub.status.busy": "2025-08-19T18:47:58.194369Z",
     "iopub.status.idle": "2025-08-19T18:47:59.102923Z",
     "shell.execute_reply": "2025-08-19T18:47:59.101758Z"
    },
    "papermill": {
     "duration": 0.924472,
     "end_time": "2025-08-19T18:47:59.104507",
     "exception": false,
     "start_time": "2025-08-19T18:47:58.180035",
     "status": "completed"
    },
    "tags": []
   },
   "outputs": [],
   "source": [
    "# Define covered = 1 if true_label is in the predicted set\n",
    "cp_groups_df['covered'] = cp_groups_df.apply(\n",
    "    lambda r: int(r['true_label'] in r['pred_set']),\n",
    "    axis=1\n",
    ")"
   ]
  },
  {
   "cell_type": "code",
   "execution_count": 53,
   "id": "3a261692",
   "metadata": {
    "execution": {
     "iopub.execute_input": "2025-08-19T18:47:59.130249Z",
     "iopub.status.busy": "2025-08-19T18:47:59.129820Z",
     "iopub.status.idle": "2025-08-19T18:47:59.142336Z",
     "shell.execute_reply": "2025-08-19T18:47:59.141657Z"
    },
    "papermill": {
     "duration": 0.035695,
     "end_time": "2025-08-19T18:47:59.152457",
     "exception": false,
     "start_time": "2025-08-19T18:47:59.116762",
     "status": "completed"
    },
    "tags": []
   },
   "outputs": [],
   "source": [
    "subgroups = ['frau1','nongerman','nongerman_male','nongerman_female']\n",
    "\n",
    "# Conditional coverage for subgroup==1\n",
    "cond_coverage = {\n",
    "    g: cp_groups_df.loc[cp_groups_df[g]==1, 'covered'].mean()\n",
    "    for g in subgroups\n",
    "}"
   ]
  },
  {
   "cell_type": "code",
   "execution_count": 54,
   "id": "894fd600",
   "metadata": {
    "execution": {
     "iopub.execute_input": "2025-08-19T18:47:59.178828Z",
     "iopub.status.busy": "2025-08-19T18:47:59.178386Z",
     "iopub.status.idle": "2025-08-19T18:47:59.184871Z",
     "shell.execute_reply": "2025-08-19T18:47:59.183939Z"
    },
    "papermill": {
     "duration": 0.020874,
     "end_time": "2025-08-19T18:47:59.186219",
     "exception": false,
     "start_time": "2025-08-19T18:47:59.165345",
     "status": "completed"
    },
    "tags": []
   },
   "outputs": [
    {
     "data": {
      "text/plain": [
       "{'frau1': 0.9098261221188839,\n",
       " 'nongerman': 0.9100656823668107,\n",
       " 'nongerman_male': 0.924614968927317,\n",
       " 'nongerman_female': 0.8859910581222057}"
      ]
     },
     "execution_count": 54,
     "metadata": {},
     "output_type": "execute_result"
    }
   ],
   "source": [
    "cond_coverage"
   ]
  },
  {
   "cell_type": "code",
   "execution_count": 55,
   "id": "942895c7",
   "metadata": {
    "execution": {
     "iopub.execute_input": "2025-08-19T18:47:59.212244Z",
     "iopub.status.busy": "2025-08-19T18:47:59.211621Z",
     "iopub.status.idle": "2025-08-19T18:47:59.217499Z",
     "shell.execute_reply": "2025-08-19T18:47:59.216787Z"
    },
    "papermill": {
     "duration": 0.020004,
     "end_time": "2025-08-19T18:47:59.218648",
     "exception": false,
     "start_time": "2025-08-19T18:47:59.198644",
     "status": "completed"
    },
    "tags": []
   },
   "outputs": [],
   "source": [
    "for subgroup, cov in cond_coverage.items():\n",
    "    cp_metrics_df[f\"cov_{subgroup}\"] = cov"
   ]
  },
  {
   "cell_type": "code",
   "execution_count": 56,
   "id": "3970120f",
   "metadata": {
    "execution": {
     "iopub.execute_input": "2025-08-19T18:47:59.244155Z",
     "iopub.status.busy": "2025-08-19T18:47:59.243127Z",
     "iopub.status.idle": "2025-08-19T18:47:59.372078Z",
     "shell.execute_reply": "2025-08-19T18:47:59.371256Z"
    },
    "papermill": {
     "duration": 0.145013,
     "end_time": "2025-08-19T18:47:59.375487",
     "exception": false,
     "start_time": "2025-08-19T18:47:59.230474",
     "status": "completed"
    },
    "tags": []
   },
   "outputs": [
    {
     "data": {
      "text/html": [
       "<div>\n",
       "<style scoped>\n",
       "    .dataframe tbody tr th:only-of-type {\n",
       "        vertical-align: middle;\n",
       "    }\n",
       "\n",
       "    .dataframe tbody tr th {\n",
       "        vertical-align: top;\n",
       "    }\n",
       "\n",
       "    .dataframe thead th {\n",
       "        text-align: right;\n",
       "    }\n",
       "</style>\n",
       "<table border=\"1\" class=\"dataframe\">\n",
       "  <thead>\n",
       "    <tr style=\"text-align: right;\">\n",
       "      <th></th>\n",
       "      <th>universe_id</th>\n",
       "      <th>universe_training_year</th>\n",
       "      <th>universe_training_size</th>\n",
       "      <th>universe_scale</th>\n",
       "      <th>universe_model</th>\n",
       "      <th>universe_exclude_features</th>\n",
       "      <th>universe_exclude_subgroups</th>\n",
       "      <th>q_hat</th>\n",
       "      <th>coverage</th>\n",
       "      <th>avg_size</th>\n",
       "      <th>cov_frau1</th>\n",
       "      <th>cov_nongerman</th>\n",
       "      <th>cov_nongerman_male</th>\n",
       "      <th>cov_nongerman_female</th>\n",
       "    </tr>\n",
       "  </thead>\n",
       "  <tbody>\n",
       "    <tr>\n",
       "      <th>0</th>\n",
       "      <td>2eefcf6c000a0caf3ee41c4e226f1f38</td>\n",
       "      <td>2010_14</td>\n",
       "      <td>5k</td>\n",
       "      <td>do-not-scale</td>\n",
       "      <td>gbm</td>\n",
       "      <td>age</td>\n",
       "      <td>keep-all</td>\n",
       "      <td>0.708532</td>\n",
       "      <td>0.911303</td>\n",
       "      <td>1.14461</td>\n",
       "      <td>0.909826</td>\n",
       "      <td>0.910066</td>\n",
       "      <td>0.924615</td>\n",
       "      <td>0.885991</td>\n",
       "    </tr>\n",
       "  </tbody>\n",
       "</table>\n",
       "</div>"
      ],
      "text/plain": [
       "                        universe_id universe_training_year  \\\n",
       "0  2eefcf6c000a0caf3ee41c4e226f1f38                2010_14   \n",
       "\n",
       "  universe_training_size universe_scale universe_model  \\\n",
       "0                     5k   do-not-scale            gbm   \n",
       "\n",
       "  universe_exclude_features universe_exclude_subgroups     q_hat  coverage  \\\n",
       "0                       age                   keep-all  0.708532  0.911303   \n",
       "\n",
       "   avg_size  cov_frau1  cov_nongerman  cov_nongerman_male  \\\n",
       "0   1.14461   0.909826       0.910066            0.924615   \n",
       "\n",
       "   cov_nongerman_female  \n",
       "0              0.885991  "
      ]
     },
     "execution_count": 56,
     "metadata": {},
     "output_type": "execute_result"
    }
   ],
   "source": [
    "cp_metrics_df"
   ]
  },
  {
   "cell_type": "markdown",
   "id": "3fc519cc",
   "metadata": {
    "papermill": {
     "duration": 0.013327,
     "end_time": "2025-08-19T18:47:59.413725",
     "exception": false,
     "start_time": "2025-08-19T18:47:59.400398",
     "status": "completed"
    },
    "tags": []
   },
   "source": [
    "# (Fairness) Metrics"
   ]
  },
  {
   "cell_type": "code",
   "execution_count": 57,
   "id": "a2e5e155",
   "metadata": {
    "execution": {
     "iopub.execute_input": "2025-08-19T18:47:59.438906Z",
     "iopub.status.busy": "2025-08-19T18:47:59.438513Z",
     "iopub.status.idle": "2025-08-19T18:47:59.453827Z",
     "shell.execute_reply": "2025-08-19T18:47:59.452885Z"
    },
    "papermill": {
     "duration": 0.029903,
     "end_time": "2025-08-19T18:47:59.455567",
     "exception": false,
     "start_time": "2025-08-19T18:47:59.425664",
     "status": "completed"
    },
    "tags": []
   },
   "outputs": [],
   "source": [
    "colname_to_bin = \"maxdeutsch1\"\n",
    "majority_value = org_train[colname_to_bin].mode()[0]\n",
    "\n",
    "org_test[\"majmin\"] = np.where(org_test[colname_to_bin] == majority_value, \"majority\", \"minority\")"
   ]
  },
  {
   "cell_type": "code",
   "execution_count": 58,
   "id": "17e3e4d5",
   "metadata": {
    "execution": {
     "iopub.execute_input": "2025-08-19T18:47:59.495146Z",
     "iopub.status.busy": "2025-08-19T18:47:59.494094Z",
     "iopub.status.idle": "2025-08-19T18:48:01.310676Z",
     "shell.execute_reply": "2025-08-19T18:48:01.309402Z"
    },
    "papermill": {
     "duration": 1.833564,
     "end_time": "2025-08-19T18:48:01.312710",
     "exception": false,
     "start_time": "2025-08-19T18:47:59.479146",
     "status": "completed"
    },
    "tags": []
   },
   "outputs": [],
   "source": [
    "example_universe = universe.copy()\n",
    "example_universe[\"cutoff\"] = example_universe[\"cutoff\"][0]\n",
    "example_universe[\"eval_fairness_grouping\"] = example_universe[\"eval_fairness_grouping\"][0]\n",
    "fairness_dict, metric_frame = universe_analysis.compute_metrics(\n",
    "    example_universe,\n",
    "    y_pred_prob=probs_test,\n",
    "    y_test=y_true,\n",
    "    org_test=org_test,\n",
    ")"
   ]
  },
  {
   "cell_type": "markdown",
   "id": "1fb7a0e9",
   "metadata": {
    "papermill": {
     "duration": 0.012141,
     "end_time": "2025-08-19T18:48:01.341324",
     "exception": false,
     "start_time": "2025-08-19T18:48:01.329183",
     "status": "completed"
    },
    "tags": []
   },
   "source": [
    "# Overall"
   ]
  },
  {
   "cell_type": "markdown",
   "id": "be1784b1",
   "metadata": {
    "papermill": {
     "duration": 0.011903,
     "end_time": "2025-08-19T18:48:01.365112",
     "exception": false,
     "start_time": "2025-08-19T18:48:01.353209",
     "status": "completed"
    },
    "tags": []
   },
   "source": [
    "Main fairness target: Equalized Odds. Seems to be a better fit than equal opportunity, since we're not only interested in Y = 1. Seems to be a better fit than demographic parity, since we also care about accuracy, not just equal distribution of preds.\n",
    "\n",
    "Pick column for computation of fairness metrics\n",
    "\n",
    "Performance\n",
    "Overall performance measures, most interesting in relation to the measures split by group below"
   ]
  },
  {
   "cell_type": "code",
   "execution_count": 59,
   "id": "b7672bee",
   "metadata": {
    "execution": {
     "iopub.execute_input": "2025-08-19T18:48:01.395692Z",
     "iopub.status.busy": "2025-08-19T18:48:01.391226Z",
     "iopub.status.idle": "2025-08-19T18:48:01.409463Z",
     "shell.execute_reply": "2025-08-19T18:48:01.408292Z"
    },
    "papermill": {
     "duration": 0.035572,
     "end_time": "2025-08-19T18:48:01.412593",
     "exception": false,
     "start_time": "2025-08-19T18:48:01.377021",
     "status": "completed"
    },
    "tags": []
   },
   "outputs": [
    {
     "data": {
      "text/plain": [
       "accuracy                   0.224379\n",
       "balanced accuracy          0.548636\n",
       "f1                         0.245710\n",
       "precision                  0.140366\n",
       "false positive rate        0.887522\n",
       "false negative rate        0.015207\n",
       "selection rate             0.900000\n",
       "count                  89710.000000\n",
       "dtype: float64"
      ]
     },
     "execution_count": 59,
     "metadata": {},
     "output_type": "execute_result"
    }
   ],
   "source": [
    "metric_frame.overall"
   ]
  },
  {
   "cell_type": "markdown",
   "id": "d93333c9",
   "metadata": {
    "papermill": {
     "duration": 0.012008,
     "end_time": "2025-08-19T18:48:01.441876",
     "exception": false,
     "start_time": "2025-08-19T18:48:01.429868",
     "status": "completed"
    },
    "tags": []
   },
   "source": [
    "By Group"
   ]
  },
  {
   "cell_type": "code",
   "execution_count": 60,
   "id": "52256966",
   "metadata": {
    "execution": {
     "iopub.execute_input": "2025-08-19T18:48:01.468382Z",
     "iopub.status.busy": "2025-08-19T18:48:01.467398Z",
     "iopub.status.idle": "2025-08-19T18:48:01.490652Z",
     "shell.execute_reply": "2025-08-19T18:48:01.489621Z"
    },
    "papermill": {
     "duration": 0.038483,
     "end_time": "2025-08-19T18:48:01.492344",
     "exception": false,
     "start_time": "2025-08-19T18:48:01.453861",
     "status": "completed"
    },
    "tags": []
   },
   "outputs": [
    {
     "data": {
      "text/html": [
       "<div>\n",
       "<style scoped>\n",
       "    .dataframe tbody tr th:only-of-type {\n",
       "        vertical-align: middle;\n",
       "    }\n",
       "\n",
       "    .dataframe tbody tr th {\n",
       "        vertical-align: top;\n",
       "    }\n",
       "\n",
       "    .dataframe thead th {\n",
       "        text-align: right;\n",
       "    }\n",
       "</style>\n",
       "<table border=\"1\" class=\"dataframe\">\n",
       "  <thead>\n",
       "    <tr style=\"text-align: right;\">\n",
       "      <th></th>\n",
       "      <th>accuracy</th>\n",
       "      <th>balanced accuracy</th>\n",
       "      <th>f1</th>\n",
       "      <th>precision</th>\n",
       "      <th>false positive rate</th>\n",
       "      <th>false negative rate</th>\n",
       "      <th>selection rate</th>\n",
       "      <th>count</th>\n",
       "    </tr>\n",
       "    <tr>\n",
       "      <th>majmin</th>\n",
       "      <th></th>\n",
       "      <th></th>\n",
       "      <th></th>\n",
       "      <th></th>\n",
       "      <th></th>\n",
       "      <th></th>\n",
       "      <th></th>\n",
       "      <th></th>\n",
       "    </tr>\n",
       "  </thead>\n",
       "  <tbody>\n",
       "    <tr>\n",
       "      <th>majority</th>\n",
       "      <td>0.243299</td>\n",
       "      <td>0.557365</td>\n",
       "      <td>0.255812</td>\n",
       "      <td>0.147010</td>\n",
       "      <td>0.869515</td>\n",
       "      <td>0.015755</td>\n",
       "      <td>0.884675</td>\n",
       "      <td>69170.0</td>\n",
       "    </tr>\n",
       "    <tr>\n",
       "      <th>minority</th>\n",
       "      <td>0.160662</td>\n",
       "      <td>0.519951</td>\n",
       "      <td>0.213288</td>\n",
       "      <td>0.119564</td>\n",
       "      <td>0.947006</td>\n",
       "      <td>0.013091</td>\n",
       "      <td>0.951607</td>\n",
       "      <td>20540.0</td>\n",
       "    </tr>\n",
       "  </tbody>\n",
       "</table>\n",
       "</div>"
      ],
      "text/plain": [
       "          accuracy  balanced accuracy        f1  precision  \\\n",
       "majmin                                                       \n",
       "majority  0.243299           0.557365  0.255812   0.147010   \n",
       "minority  0.160662           0.519951  0.213288   0.119564   \n",
       "\n",
       "          false positive rate  false negative rate  selection rate    count  \n",
       "majmin                                                                       \n",
       "majority             0.869515             0.015755        0.884675  69170.0  \n",
       "minority             0.947006             0.013091        0.951607  20540.0  "
      ]
     },
     "execution_count": 60,
     "metadata": {},
     "output_type": "execute_result"
    }
   ],
   "source": [
    "metric_frame.by_group"
   ]
  },
  {
   "cell_type": "code",
   "execution_count": 61,
   "id": "6e6c20ae",
   "metadata": {
    "execution": {
     "iopub.execute_input": "2025-08-19T18:48:01.547180Z",
     "iopub.status.busy": "2025-08-19T18:48:01.545749Z",
     "iopub.status.idle": "2025-08-19T18:48:03.486527Z",
     "shell.execute_reply": "2025-08-19T18:48:03.485456Z"
    },
    "papermill": {
     "duration": 1.95635,
     "end_time": "2025-08-19T18:48:03.487818",
     "exception": false,
     "start_time": "2025-08-19T18:48:01.531468",
     "status": "completed"
    },
    "tags": []
   },
   "outputs": [
    {
     "data": {
      "text/plain": [
       "array([[<Axes: title={'center': 'accuracy'}, xlabel='majmin'>,\n",
       "        <Axes: title={'center': 'balanced accuracy'}, xlabel='majmin'>,\n",
       "        <Axes: title={'center': 'f1'}, xlabel='majmin'>],\n",
       "       [<Axes: title={'center': 'precision'}, xlabel='majmin'>,\n",
       "        <Axes: title={'center': 'false positive rate'}, xlabel='majmin'>,\n",
       "        <Axes: title={'center': 'false negative rate'}, xlabel='majmin'>],\n",
       "       [<Axes: title={'center': 'selection rate'}, xlabel='majmin'>,\n",
       "        <Axes: title={'center': 'count'}, xlabel='majmin'>,\n",
       "        <Axes: xlabel='majmin'>]], dtype=object)"
      ]
     },
     "execution_count": 61,
     "metadata": {},
     "output_type": "execute_result"
    },
    {
     "data": {
      "image/png": "[encoded data removed]",
      "text/plain": [
       "<Figure size 1200x800 with 9 Axes>"
      ]
     },
     "metadata": {},
     "output_type": "display_data"
    }
   ],
   "source": [
    "# In a graphic\n",
    "metric_frame.by_group.plot.bar(\n",
    "    subplots=True,\n",
    "    layout=[3, 3],\n",
    "    legend=False,\n",
    "    figsize=[12, 8],\n",
    "    title=\"Show all metrics\",\n",
    ")"
   ]
  },
  {
   "cell_type": "markdown",
   "id": "b2e433ae",
   "metadata": {
    "papermill": {
     "duration": 0.013353,
     "end_time": "2025-08-19T18:48:03.515594",
     "exception": false,
     "start_time": "2025-08-19T18:48:03.502241",
     "status": "completed"
    },
    "tags": []
   },
   "source": [
    "# Final Output"
   ]
  },
  {
   "cell_type": "code",
   "execution_count": 62,
   "id": "3871301e",
   "metadata": {
    "execution": {
     "iopub.execute_input": "2025-08-19T18:48:03.547437Z",
     "iopub.status.busy": "2025-08-19T18:48:03.544934Z",
     "iopub.status.idle": "2025-08-19T18:48:03.564073Z",
     "shell.execute_reply": "2025-08-19T18:48:03.563113Z"
    },
    "papermill": {
     "duration": 0.036473,
     "end_time": "2025-08-19T18:48:03.565829",
     "exception": false,
     "start_time": "2025-08-19T18:48:03.529356",
     "status": "completed"
    },
    "tags": []
   },
   "outputs": [
    {
     "data": {
      "text/plain": [
       "4"
      ]
     },
     "execution_count": 62,
     "metadata": {},
     "output_type": "execute_result"
    }
   ],
   "source": [
    "sub_universes = universe_analysis.generate_sub_universes()\n",
    "len(sub_universes)"
   ]
  },
  {
   "cell_type": "code",
   "execution_count": 63,
   "id": "d9cfdaca",
   "metadata": {
    "execution": {
     "iopub.execute_input": "2025-08-19T18:48:03.604626Z",
     "iopub.status.busy": "2025-08-19T18:48:03.603236Z",
     "iopub.status.idle": "2025-08-19T18:48:03.613431Z",
     "shell.execute_reply": "2025-08-19T18:48:03.612185Z"
    },
    "papermill": {
     "duration": 0.027472,
     "end_time": "2025-08-19T18:48:03.614954",
     "exception": false,
     "start_time": "2025-08-19T18:48:03.587482",
     "status": "completed"
    },
    "tags": []
   },
   "outputs": [],
   "source": [
    "def filter_sub_universe_data(sub_universe, org_test):\n",
    "    # Keep all rows — no filtering\n",
    "    keep_rows_mask = np.ones(org_test.shape[0], dtype=bool)\n",
    "\n",
    "    print(f\"[INFO] Keeping all rows: {keep_rows_mask.sum()} rows retained.\")\n",
    "    return keep_rows_mask"
   ]
  },
  {
   "cell_type": "code",
   "execution_count": 64,
   "id": "2bc31ac1",
   "metadata": {
    "execution": {
     "iopub.execute_input": "2025-08-19T18:48:03.648399Z",
     "iopub.status.busy": "2025-08-19T18:48:03.647065Z",
     "iopub.status.idle": "2025-08-19T18:48:10.318822Z",
     "shell.execute_reply": "2025-08-19T18:48:10.317820Z"
    },
    "papermill": {
     "duration": 6.688308,
     "end_time": "2025-08-19T18:48:10.320350",
     "exception": false,
     "start_time": "2025-08-19T18:48:03.632042",
     "status": "completed"
    },
    "tags": []
   },
   "outputs": [
    {
     "name": "stdout",
     "output_type": "stream",
     "text": [
      "Stopping execution_time clock.\n",
      "[INFO] Keeping all rows: 89710 rows retained.\n"
     ]
    },
    {
     "name": "stdout",
     "output_type": "stream",
     "text": [
      "[INFO] Keeping all rows: 89710 rows retained.\n"
     ]
    },
    {
     "name": "stdout",
     "output_type": "stream",
     "text": [
      "[INFO] Keeping all rows: 89710 rows retained.\n"
     ]
    },
    {
     "name": "stdout",
     "output_type": "stream",
     "text": [
      "[INFO] Keeping all rows: 89710 rows retained.\n"
     ]
    },
    {
     "data": {
      "text/html": [
       "<div>\n",
       "<style scoped>\n",
       "    .dataframe tbody tr th:only-of-type {\n",
       "        vertical-align: middle;\n",
       "    }\n",
       "\n",
       "    .dataframe tbody tr th {\n",
       "        vertical-align: top;\n",
       "    }\n",
       "\n",
       "    .dataframe thead th {\n",
       "        text-align: right;\n",
       "    }\n",
       "</style>\n",
       "<table border=\"1\" class=\"dataframe\">\n",
       "  <thead>\n",
       "    <tr style=\"text-align: right;\">\n",
       "      <th></th>\n",
       "      <th>run_no</th>\n",
       "      <th>universe_id</th>\n",
       "      <th>universe_settings</th>\n",
       "      <th>execution_time</th>\n",
       "      <th>test_size_n</th>\n",
       "      <th>test_size_frac</th>\n",
       "      <th>fair_main_equalized_odds_difference</th>\n",
       "      <th>fair_main_equalized_odds_ratio</th>\n",
       "      <th>fair_main_demographic_parity_difference</th>\n",
       "      <th>fair_main_demographic_parity_ratio</th>\n",
       "      <th>...</th>\n",
       "      <th>perf_grp_precision_0</th>\n",
       "      <th>perf_grp_precision_1</th>\n",
       "      <th>perf_grp_false positive rate_0</th>\n",
       "      <th>perf_grp_false positive rate_1</th>\n",
       "      <th>perf_grp_false negative rate_0</th>\n",
       "      <th>perf_grp_false negative rate_1</th>\n",
       "      <th>perf_grp_selection rate_0</th>\n",
       "      <th>perf_grp_selection rate_1</th>\n",
       "      <th>perf_grp_count_0</th>\n",
       "      <th>perf_grp_count_1</th>\n",
       "    </tr>\n",
       "  </thead>\n",
       "  <tbody>\n",
       "    <tr>\n",
       "      <th>0</th>\n",
       "      <td>3</td>\n",
       "      <td>2eefcf6c000a0caf3ee41c4e226f1f38</td>\n",
       "      <td>{\"cutoff\": \"quantile_0.1\", \"eval_fairness_grou...</td>\n",
       "      <td>27.996785</td>\n",
       "      <td>89710</td>\n",
       "      <td>1.0</td>\n",
       "      <td>0.077491</td>\n",
       "      <td>0.918173</td>\n",
       "      <td>0.066931</td>\n",
       "      <td>0.929665</td>\n",
       "      <td>...</td>\n",
       "      <td>NaN</td>\n",
       "      <td>NaN</td>\n",
       "      <td>NaN</td>\n",
       "      <td>NaN</td>\n",
       "      <td>NaN</td>\n",
       "      <td>NaN</td>\n",
       "      <td>NaN</td>\n",
       "      <td>NaN</td>\n",
       "      <td>NaN</td>\n",
       "      <td>NaN</td>\n",
       "    </tr>\n",
       "    <tr>\n",
       "      <th>0</th>\n",
       "      <td>3</td>\n",
       "      <td>2eefcf6c000a0caf3ee41c4e226f1f38</td>\n",
       "      <td>{\"cutoff\": \"quantile_0.1\", \"eval_fairness_grou...</td>\n",
       "      <td>27.996785</td>\n",
       "      <td>89710</td>\n",
       "      <td>1.0</td>\n",
       "      <td>0.077491</td>\n",
       "      <td>0.918173</td>\n",
       "      <td>0.066931</td>\n",
       "      <td>0.929665</td>\n",
       "      <td>...</td>\n",
       "      <td>0.119564</td>\n",
       "      <td>0.147010</td>\n",
       "      <td>0.947006</td>\n",
       "      <td>0.869515</td>\n",
       "      <td>0.013091</td>\n",
       "      <td>0.015755</td>\n",
       "      <td>0.951607</td>\n",
       "      <td>0.884675</td>\n",
       "      <td>20540.0</td>\n",
       "      <td>69170.0</td>\n",
       "    </tr>\n",
       "    <tr>\n",
       "      <th>0</th>\n",
       "      <td>3</td>\n",
       "      <td>2eefcf6c000a0caf3ee41c4e226f1f38</td>\n",
       "      <td>{\"cutoff\": \"quantile_0.25\", \"eval_fairness_gro...</td>\n",
       "      <td>27.996785</td>\n",
       "      <td>89710</td>\n",
       "      <td>1.0</td>\n",
       "      <td>0.103795</td>\n",
       "      <td>0.870509</td>\n",
       "      <td>0.087981</td>\n",
       "      <td>0.892439</td>\n",
       "      <td>...</td>\n",
       "      <td>NaN</td>\n",
       "      <td>NaN</td>\n",
       "      <td>NaN</td>\n",
       "      <td>NaN</td>\n",
       "      <td>NaN</td>\n",
       "      <td>NaN</td>\n",
       "      <td>NaN</td>\n",
       "      <td>NaN</td>\n",
       "      <td>NaN</td>\n",
       "      <td>NaN</td>\n",
       "    </tr>\n",
       "    <tr>\n",
       "      <th>0</th>\n",
       "      <td>3</td>\n",
       "      <td>2eefcf6c000a0caf3ee41c4e226f1f38</td>\n",
       "      <td>{\"cutoff\": \"quantile_0.25\", \"eval_fairness_gro...</td>\n",
       "      <td>27.996785</td>\n",
       "      <td>89710</td>\n",
       "      <td>1.0</td>\n",
       "      <td>0.103795</td>\n",
       "      <td>0.870509</td>\n",
       "      <td>0.087981</td>\n",
       "      <td>0.892439</td>\n",
       "      <td>...</td>\n",
       "      <td>0.133028</td>\n",
       "      <td>0.170439</td>\n",
       "      <td>0.801563</td>\n",
       "      <td>0.697768</td>\n",
       "      <td>0.056166</td>\n",
       "      <td>0.058425</td>\n",
       "      <td>0.817965</td>\n",
       "      <td>0.729984</td>\n",
       "      <td>20540.0</td>\n",
       "      <td>69170.0</td>\n",
       "    </tr>\n",
       "  </tbody>\n",
       "</table>\n",
       "<p>4 rows × 50 columns</p>\n",
       "</div>"
      ],
      "text/plain": [
       "  run_no                       universe_id  \\\n",
       "0      3  2eefcf6c000a0caf3ee41c4e226f1f38   \n",
       "0      3  2eefcf6c000a0caf3ee41c4e226f1f38   \n",
       "0      3  2eefcf6c000a0caf3ee41c4e226f1f38   \n",
       "0      3  2eefcf6c000a0caf3ee41c4e226f1f38   \n",
       "\n",
       "                                   universe_settings  execution_time  \\\n",
       "0  {\"cutoff\": \"quantile_0.1\", \"eval_fairness_grou...       27.996785   \n",
       "0  {\"cutoff\": \"quantile_0.1\", \"eval_fairness_grou...       27.996785   \n",
       "0  {\"cutoff\": \"quantile_0.25\", \"eval_fairness_gro...       27.996785   \n",
       "0  {\"cutoff\": \"quantile_0.25\", \"eval_fairness_gro...       27.996785   \n",
       "\n",
       "   test_size_n  test_size_frac  fair_main_equalized_odds_difference  \\\n",
       "0        89710             1.0                             0.077491   \n",
       "0        89710             1.0                             0.077491   \n",
       "0        89710             1.0                             0.103795   \n",
       "0        89710             1.0                             0.103795   \n",
       "\n",
       "   fair_main_equalized_odds_ratio  fair_main_demographic_parity_difference  \\\n",
       "0                        0.918173                                 0.066931   \n",
       "0                        0.918173                                 0.066931   \n",
       "0                        0.870509                                 0.087981   \n",
       "0                        0.870509                                 0.087981   \n",
       "\n",
       "   fair_main_demographic_parity_ratio  ...  perf_grp_precision_0  \\\n",
       "0                            0.929665  ...                   NaN   \n",
       "0                            0.929665  ...              0.119564   \n",
       "0                            0.892439  ...                   NaN   \n",
       "0                            0.892439  ...              0.133028   \n",
       "\n",
       "   perf_grp_precision_1  perf_grp_false positive rate_0  \\\n",
       "0                   NaN                             NaN   \n",
       "0              0.147010                        0.947006   \n",
       "0                   NaN                             NaN   \n",
       "0              0.170439                        0.801563   \n",
       "\n",
       "   perf_grp_false positive rate_1  perf_grp_false negative rate_0  \\\n",
       "0                             NaN                             NaN   \n",
       "0                        0.869515                        0.013091   \n",
       "0                             NaN                             NaN   \n",
       "0                        0.697768                        0.056166   \n",
       "\n",
       "   perf_grp_false negative rate_1  perf_grp_selection rate_0  \\\n",
       "0                             NaN                        NaN   \n",
       "0                        0.015755                   0.951607   \n",
       "0                             NaN                        NaN   \n",
       "0                        0.058425                   0.817965   \n",
       "\n",
       "   perf_grp_selection rate_1  perf_grp_count_0  perf_grp_count_1  \n",
       "0                        NaN               NaN               NaN  \n",
       "0                   0.884675           20540.0           69170.0  \n",
       "0                        NaN               NaN               NaN  \n",
       "0                   0.729984           20540.0           69170.0  \n",
       "\n",
       "[4 rows x 50 columns]"
      ]
     },
     "execution_count": 64,
     "metadata": {},
     "output_type": "execute_result"
    }
   ],
   "source": [
    "final_output = universe_analysis.generate_final_output(\n",
    "    y_pred_prob=probs_test,\n",
    "    y_test=y_true,\n",
    "    org_test=org_test,\n",
    "    filter_data=filter_sub_universe_data,\n",
    "    cp_metrics_df=cp_metrics_df,\n",
    "    save=True,\n",
    ")\n",
    "final_output"
   ]
  },
  {
   "cell_type": "code",
   "execution_count": null,
   "id": "8b80a1ff",
   "metadata": {
    "papermill": {
     "duration": 0.014209,
     "end_time": "2025-08-19T18:48:10.352176",
     "exception": false,
     "start_time": "2025-08-19T18:48:10.337967",
     "status": "completed"
    },
    "tags": []
   },
   "outputs": [],
   "source": []
  },
  {
   "cell_type": "code",
   "execution_count": null,
   "id": "275c9fad",
   "metadata": {
    "papermill": {
     "duration": 0.014218,
     "end_time": "2025-08-19T18:48:10.380765",
     "exception": false,
     "start_time": "2025-08-19T18:48:10.366547",
     "status": "completed"
    },
    "tags": []
   },
   "outputs": [],
   "source": []
  }
 ],
 "metadata": {
  "celltoolbar": "Tags",
  "kernelspec": {
   "display_name": "Python (CMA Fairness)",
   "language": "python",
   "name": "cma_fair_env"
  },
  "language_info": {
   "codemirror_mode": {
    "name": "ipython",
    "version": 3
   },
   "file_extension": ".py",
   "mimetype": "text/x-python",
   "name": "python",
   "nbconvert_exporter": "python",
   "pygments_lexer": "ipython3",
   "version": "3.10.12"
  },
  "papermill": {
   "default_parameters": {},
   "duration": 38.770043,
   "end_time": "2025-08-19T18:48:11.215283",
   "environment_variables": {},
   "exception": null,
   "input_path": "universe_analysis.ipynb",
   "output_path": "output/runs/3/notebooks/m_3-2eefcf6c000a0caf3ee41c4e226f1f38.ipynb",
   "parameters": {
    "output_dir": "output",
    "run_no": "3",
    "seed": "2023",
    "universe": "{\"cutoff\": [\"quantile_0.1\", \"quantile_0.25\"], \"eval_fairness_grouping\": [\"majority-minority\", \"nationality-all\"], \"exclude_features\": \"age\", \"exclude_subgroups\": \"keep-all\", \"model\": \"gbm\", \"scale\": \"do-not-scale\", \"training_size\": \"5k\", \"training_year\": \"2010_14\"}",
    "universe_id": "2eefcf6c000a0caf3ee41c4e226f1f38"
   },
   "start_time": "2025-08-19T18:47:32.445240",
   "version": "2.6.0"
  }
 },
 "nbformat": 4,
 "nbformat_minor": 5
}