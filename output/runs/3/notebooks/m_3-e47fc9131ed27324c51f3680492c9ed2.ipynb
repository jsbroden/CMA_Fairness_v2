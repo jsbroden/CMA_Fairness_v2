{
 "cells": [
  {
   "cell_type": "markdown",
   "id": "ef23dbb3",
   "metadata": {
    "papermill": {
     "duration": 0.017774,
     "end_time": "2025-08-19T18:30:52.861895",
     "exception": false,
     "start_time": "2025-08-19T18:30:52.844121",
     "status": "completed"
    },
    "tags": []
   },
   "source": [
    "# Setup"
   ]
  },
  {
   "cell_type": "code",
   "execution_count": 1,
   "id": "0bc8e7dc",
   "metadata": {
    "execution": {
     "iopub.execute_input": "2025-08-19T18:30:52.893979Z",
     "iopub.status.busy": "2025-08-19T18:30:52.893661Z",
     "iopub.status.idle": "2025-08-19T18:30:52.903407Z",
     "shell.execute_reply": "2025-08-19T18:30:52.902730Z"
    },
    "papermill": {
     "duration": 0.033179,
     "end_time": "2025-08-19T18:30:52.905783",
     "exception": false,
     "start_time": "2025-08-19T18:30:52.872604",
     "status": "completed"
    },
    "tags": []
   },
   "outputs": [
    {
     "name": "stdout",
     "output_type": "stream",
     "text": [
      "/dss/dsshome1/0C/ra93lal2/cma/CMA_Fairness_v2\n"
     ]
    },
    {
     "name": "stderr",
     "output_type": "stream",
     "text": [
      "/dss/dsshome1/0C/ra93lal2/.local/share/virtualenvs/CMA_Fairness_v2-3j10GkSs/lib/python3.10/site-packages/IPython/core/magics/osm.py:393: UserWarning: This is now an optional IPython functionality, using bookmarks requires you to install the `pickleshare` library.\n",
      "  bkms = self.shell.db.get('bookmarks', {})\n",
      "/dss/dsshome1/0C/ra93lal2/.local/share/virtualenvs/CMA_Fairness_v2-3j10GkSs/lib/python3.10/site-packages/IPython/core/magics/osm.py:417: UserWarning: This is now an optional IPython functionality, setting dhist requires you to install the `pickleshare` library.\n",
      "  self.shell.db['dhist'] = compress_dhist(dhist)[-100:]\n"
     ]
    }
   ],
   "source": [
    "%cd ~/cma/CMA_Fairness_v2"
   ]
  },
  {
   "cell_type": "markdown",
   "id": "9d235661",
   "metadata": {
    "papermill": {
     "duration": 0.00922,
     "end_time": "2025-08-19T18:30:52.931251",
     "exception": false,
     "start_time": "2025-08-19T18:30:52.922031",
     "status": "completed"
    },
    "tags": []
   },
   "source": [
    "The following cell holds the definition of our parameters, these values can be overriden by rendering the with e.g. the following command:\n",
    "\n",
    "papermill -p alpha 0.2 -p ratio 0.3 universe_analysis.ipynb output/test_run.ipynb"
   ]
  },
  {
   "cell_type": "code",
   "execution_count": 2,
   "id": "4a789d8e",
   "metadata": {
    "execution": {
     "iopub.execute_input": "2025-08-19T18:30:52.951168Z",
     "iopub.status.busy": "2025-08-19T18:30:52.950046Z",
     "iopub.status.idle": "2025-08-19T18:30:52.957199Z",
     "shell.execute_reply": "2025-08-19T18:30:52.955948Z"
    },
    "papermill": {
     "duration": 0.018794,
     "end_time": "2025-08-19T18:30:52.958597",
     "exception": false,
     "start_time": "2025-08-19T18:30:52.939803",
     "status": "completed"
    },
    "tags": []
   },
   "outputs": [
    {
     "name": "stdout",
     "output_type": "stream",
     "text": [
      "Current working directory: /dss/dsshome1/0C/ra93lal2/cma/CMA_Fairness_v2\n"
     ]
    }
   ],
   "source": [
    "import os\n",
    "print(\"Current working directory:\", os.getcwd())"
   ]
  },
  {
   "cell_type": "code",
   "execution_count": 3,
   "id": "4132aaed",
   "metadata": {
    "execution": {
     "iopub.execute_input": "2025-08-19T18:30:52.981929Z",
     "iopub.status.busy": "2025-08-19T18:30:52.980792Z",
     "iopub.status.idle": "2025-08-19T18:30:52.990454Z",
     "shell.execute_reply": "2025-08-19T18:30:52.989204Z"
    },
    "papermill": {
     "duration": 0.021882,
     "end_time": "2025-08-19T18:30:52.991862",
     "exception": false,
     "start_time": "2025-08-19T18:30:52.969980",
     "status": "completed"
    },
    "tags": [
     "parameters"
    ]
   },
   "outputs": [],
   "source": [
    "run_no = 0\n",
    "universe_id = \"test\"\n",
    "universe = {\n",
    "    \"training_size\": \"5k\", # \"25k\", \"5k\", \"1k\"\n",
    "    \"training_year\": \"2012_14\", # \"2014\", \"2012_14\", \"2010_14\"\n",
    "    \"scale\": \"scale\", # \"scale\", \"do-not-scale\",\n",
    "    \"model\": \"elasticnet\", # \"logreg\", \"penalized_logreg\", \"rf\", \"gbm\", \"elasticnet\"\n",
    "    \"cutoff\": [\"quantile_0.15\", \"quantile_0.30\"],\n",
    "    \"exclude_features\": \"age\", # \"none\", \"nationality\", \"sex\", \"nationality-sex\", \"age\"\n",
    "    \"exclude_subgroups\": \"drop-non-german\", # \"keep-all\", \"drop-non-german\"\n",
    "    \"eval_fairness_grouping\": [\"majority-minority\", \"nationality-all\"]\n",
    "}\n",
    "\n",
    "output_dir=\"./output\"\n",
    "seed=0"
   ]
  },
  {
   "cell_type": "code",
   "execution_count": 4,
   "id": "bc9983fd",
   "metadata": {
    "execution": {
     "iopub.execute_input": "2025-08-19T18:30:53.013979Z",
     "iopub.status.busy": "2025-08-19T18:30:53.013187Z",
     "iopub.status.idle": "2025-08-19T18:30:53.017394Z",
     "shell.execute_reply": "2025-08-19T18:30:53.016686Z"
    },
    "papermill": {
     "duration": 0.015189,
     "end_time": "2025-08-19T18:30:53.018442",
     "exception": false,
     "start_time": "2025-08-19T18:30:53.003253",
     "status": "completed"
    },
    "tags": [
     "injected-parameters"
    ]
   },
   "outputs": [],
   "source": [
    "# Parameters\n",
    "universe_id = \"e47fc9131ed27324c51f3680492c9ed2\"\n",
    "run_no = \"3\"\n",
    "universe = \"{\\\"cutoff\\\": [\\\"quantile_0.1\\\", \\\"quantile_0.25\\\"], \\\"eval_fairness_grouping\\\": [\\\"majority-minority\\\", \\\"nationality-all\\\"], \\\"exclude_features\\\": \\\"nationality\\\", \\\"exclude_subgroups\\\": \\\"keep-all\\\", \\\"model\\\": \\\"logreg\\\", \\\"scale\\\": \\\"scale\\\", \\\"training_size\\\": \\\"5k\\\", \\\"training_year\\\": \\\"2012_14\\\"}\"\n",
    "output_dir = \"output\"\n",
    "seed = \"2023\"\n"
   ]
  },
  {
   "cell_type": "code",
   "execution_count": 5,
   "id": "a5d7941f",
   "metadata": {
    "execution": {
     "iopub.execute_input": "2025-08-19T18:30:53.038394Z",
     "iopub.status.busy": "2025-08-19T18:30:53.037677Z",
     "iopub.status.idle": "2025-08-19T18:30:53.042635Z",
     "shell.execute_reply": "2025-08-19T18:30:53.041743Z"
    },
    "papermill": {
     "duration": 0.016167,
     "end_time": "2025-08-19T18:30:53.043877",
     "exception": false,
     "start_time": "2025-08-19T18:30:53.027710",
     "status": "completed"
    },
    "tags": []
   },
   "outputs": [],
   "source": [
    "import json\n",
    "if isinstance(universe, str):\n",
    "    universe = json.loads(universe)"
   ]
  },
  {
   "cell_type": "code",
   "execution_count": 6,
   "id": "7076ccb1",
   "metadata": {
    "execution": {
     "iopub.execute_input": "2025-08-19T18:30:53.063826Z",
     "iopub.status.busy": "2025-08-19T18:30:53.062872Z",
     "iopub.status.idle": "2025-08-19T18:30:53.112254Z",
     "shell.execute_reply": "2025-08-19T18:30:53.111479Z"
    },
    "papermill": {
     "duration": 0.062015,
     "end_time": "2025-08-19T18:30:53.114850",
     "exception": false,
     "start_time": "2025-08-19T18:30:53.052835",
     "status": "completed"
    },
    "tags": []
   },
   "outputs": [],
   "source": [
    "# Auto-reload the custom package\n",
    "%load_ext autoreload\n",
    "%autoreload 1\n",
    "%aimport fairness_multiverse"
   ]
  },
  {
   "cell_type": "code",
   "execution_count": 7,
   "id": "94c8eb93",
   "metadata": {
    "execution": {
     "iopub.execute_input": "2025-08-19T18:30:53.150250Z",
     "iopub.status.busy": "2025-08-19T18:30:53.149244Z",
     "iopub.status.idle": "2025-08-19T18:30:54.761809Z",
     "shell.execute_reply": "2025-08-19T18:30:54.760261Z"
    },
    "papermill": {
     "duration": 1.627473,
     "end_time": "2025-08-19T18:30:54.763625",
     "exception": false,
     "start_time": "2025-08-19T18:30:53.136152",
     "status": "completed"
    },
    "tags": []
   },
   "outputs": [],
   "source": [
    "from fairness_multiverse.universe import UniverseAnalysis\n",
    "\n",
    "universe_analysis = UniverseAnalysis(\n",
    "    run_no = run_no,\n",
    "    universe_id = universe_id,\n",
    "    universe = universe,\n",
    "    output_dir=output_dir,\n",
    ")"
   ]
  },
  {
   "cell_type": "code",
   "execution_count": 8,
   "id": "2a6381cf",
   "metadata": {
    "execution": {
     "iopub.execute_input": "2025-08-19T18:30:54.785066Z",
     "iopub.status.busy": "2025-08-19T18:30:54.783668Z",
     "iopub.status.idle": "2025-08-19T18:30:54.792866Z",
     "shell.execute_reply": "2025-08-19T18:30:54.791898Z"
    },
    "papermill": {
     "duration": 0.032307,
     "end_time": "2025-08-19T18:30:54.805237",
     "exception": false,
     "start_time": "2025-08-19T18:30:54.772930",
     "status": "completed"
    },
    "tags": []
   },
   "outputs": [
    {
     "name": "stdout",
     "output_type": "stream",
     "text": [
      "Using Seed: 2023\n"
     ]
    }
   ],
   "source": [
    "import numpy as np\n",
    "parsed_seed = int(seed)\n",
    "np.random.seed(parsed_seed)\n",
    "print(f\"Using Seed: {parsed_seed}\")"
   ]
  },
  {
   "cell_type": "markdown",
   "id": "b6e958b4",
   "metadata": {
    "papermill": {
     "duration": 0.011457,
     "end_time": "2025-08-19T18:30:54.825765",
     "exception": false,
     "start_time": "2025-08-19T18:30:54.814308",
     "status": "completed"
    },
    "tags": []
   },
   "source": [
    "# Loading Data"
   ]
  },
  {
   "cell_type": "code",
   "execution_count": 9,
   "id": "98701482",
   "metadata": {
    "execution": {
     "iopub.execute_input": "2025-08-19T18:30:54.863355Z",
     "iopub.status.busy": "2025-08-19T18:30:54.862821Z",
     "iopub.status.idle": "2025-08-19T18:31:05.858779Z",
     "shell.execute_reply": "2025-08-19T18:31:05.857619Z"
    },
    "papermill": {
     "duration": 11.011665,
     "end_time": "2025-08-19T18:31:05.860807",
     "exception": false,
     "start_time": "2025-08-19T18:30:54.849142",
     "status": "completed"
    },
    "tags": []
   },
   "outputs": [
    {
     "name": "stdout",
     "output_type": "stream",
     "text": [
      "Loading SIAB data from cache: data/siab_cached.csv.gz\n"
     ]
    },
    {
     "name": "stdout",
     "output_type": "stream",
     "text": [
      "(643690, 164)\n"
     ]
    }
   ],
   "source": [
    "from pathlib import Path\n",
    "import pandas as pd\n",
    "\n",
    "# File paths\n",
    "raw_file = Path(\"data/raw/siab.csv\")\n",
    "cache_file = Path(\"data/siab_cached.csv.gz\")\n",
    "\n",
    "# Ensure cache directory exists\n",
    "cache_file.parent.mkdir(parents=True, exist_ok=True)\n",
    "\n",
    "# Load with simple caching\n",
    "if cache_file.exists():\n",
    "    print(f\"Loading SIAB data from cache: {cache_file}\")\n",
    "    siab = pd.read_csv(cache_file, compression='gzip')\n",
    "else:\n",
    "    print(f\"Cache not found. Reading raw SIAB data: {raw_file}\")\n",
    "    siab = pd.read_csv(raw_file)\n",
    "    siab.to_csv(cache_file, index=False, compression='gzip')\n",
    "    print(f\"Cached SIAB data to: {cache_file}\")\n",
    "\n",
    "print(siab.shape)"
   ]
  },
  {
   "cell_type": "code",
   "execution_count": 10,
   "id": "058d2abb",
   "metadata": {
    "execution": {
     "iopub.execute_input": "2025-08-19T18:31:05.889009Z",
     "iopub.status.busy": "2025-08-19T18:31:05.887682Z",
     "iopub.status.idle": "2025-08-19T18:31:06.125005Z",
     "shell.execute_reply": "2025-08-19T18:31:06.123824Z"
    },
    "papermill": {
     "duration": 0.251817,
     "end_time": "2025-08-19T18:31:06.126495",
     "exception": false,
     "start_time": "2025-08-19T18:31:05.874678",
     "status": "completed"
    },
    "tags": []
   },
   "outputs": [
    {
     "data": {
      "text/html": [
       "<div>\n",
       "<style scoped>\n",
       "    .dataframe tbody tr th:only-of-type {\n",
       "        vertical-align: middle;\n",
       "    }\n",
       "\n",
       "    .dataframe tbody tr th {\n",
       "        vertical-align: top;\n",
       "    }\n",
       "\n",
       "    .dataframe thead th {\n",
       "        text-align: right;\n",
       "    }\n",
       "</style>\n",
       "<table border=\"1\" class=\"dataframe\">\n",
       "  <thead>\n",
       "    <tr style=\"text-align: right;\">\n",
       "      <th></th>\n",
       "      <th>persnr</th>\n",
       "      <th>year</th>\n",
       "      <th>nrEntry</th>\n",
       "      <th>ltue</th>\n",
       "      <th>employed_before</th>\n",
       "      <th>receipt_leh_before</th>\n",
       "      <th>receipt_lhg_before</th>\n",
       "      <th>se_before</th>\n",
       "      <th>ASU_notue_seeking_before</th>\n",
       "      <th>ASU_other_before</th>\n",
       "      <th>...</th>\n",
       "      <th>minijob_tot_dur_byage</th>\n",
       "      <th>ft_tot_dur_byage</th>\n",
       "      <th>befrist_tot_dur_byage</th>\n",
       "      <th>leih_tot_dur_byage</th>\n",
       "      <th>LHG_tot_dur_byage</th>\n",
       "      <th>LEH_tot_dur_byage</th>\n",
       "      <th>almp_tot_dur_byage</th>\n",
       "      <th>almp_aw_tot_dur_byage</th>\n",
       "      <th>se_tot_dur_byage</th>\n",
       "      <th>seeking1_tot_dur_byage</th>\n",
       "    </tr>\n",
       "  </thead>\n",
       "  <tbody>\n",
       "    <tr>\n",
       "      <th>0</th>\n",
       "      <td>7</td>\n",
       "      <td>2015</td>\n",
       "      <td>1</td>\n",
       "      <td>0</td>\n",
       "      <td>1</td>\n",
       "      <td>0</td>\n",
       "      <td>0</td>\n",
       "      <td>0</td>\n",
       "      <td>1</td>\n",
       "      <td>0</td>\n",
       "      <td>...</td>\n",
       "      <td>0.000000</td>\n",
       "      <td>0.000000</td>\n",
       "      <td>15.043478</td>\n",
       "      <td>0.000000</td>\n",
       "      <td>0.000000</td>\n",
       "      <td>0.000000</td>\n",
       "      <td>0.000000</td>\n",
       "      <td>0.000000</td>\n",
       "      <td>0.000000</td>\n",
       "      <td>0.000000</td>\n",
       "    </tr>\n",
       "    <tr>\n",
       "      <th>1</th>\n",
       "      <td>18</td>\n",
       "      <td>2010</td>\n",
       "      <td>1</td>\n",
       "      <td>1</td>\n",
       "      <td>0</td>\n",
       "      <td>0</td>\n",
       "      <td>0</td>\n",
       "      <td>0</td>\n",
       "      <td>0</td>\n",
       "      <td>0</td>\n",
       "      <td>...</td>\n",
       "      <td>0.000000</td>\n",
       "      <td>0.000000</td>\n",
       "      <td>0.000000</td>\n",
       "      <td>0.000000</td>\n",
       "      <td>0.000000</td>\n",
       "      <td>0.000000</td>\n",
       "      <td>0.000000</td>\n",
       "      <td>0.000000</td>\n",
       "      <td>0.000000</td>\n",
       "      <td>0.000000</td>\n",
       "    </tr>\n",
       "    <tr>\n",
       "      <th>2</th>\n",
       "      <td>18</td>\n",
       "      <td>2011</td>\n",
       "      <td>2</td>\n",
       "      <td>0</td>\n",
       "      <td>1</td>\n",
       "      <td>0</td>\n",
       "      <td>1</td>\n",
       "      <td>0</td>\n",
       "      <td>1</td>\n",
       "      <td>0</td>\n",
       "      <td>...</td>\n",
       "      <td>2.714286</td>\n",
       "      <td>2.714286</td>\n",
       "      <td>0.000000</td>\n",
       "      <td>0.000000</td>\n",
       "      <td>10.775510</td>\n",
       "      <td>0.000000</td>\n",
       "      <td>8.367347</td>\n",
       "      <td>0.000000</td>\n",
       "      <td>0.000000</td>\n",
       "      <td>9.836735</td>\n",
       "    </tr>\n",
       "    <tr>\n",
       "      <th>3</th>\n",
       "      <td>18</td>\n",
       "      <td>2012</td>\n",
       "      <td>3</td>\n",
       "      <td>0</td>\n",
       "      <td>1</td>\n",
       "      <td>0</td>\n",
       "      <td>1</td>\n",
       "      <td>0</td>\n",
       "      <td>1</td>\n",
       "      <td>0</td>\n",
       "      <td>...</td>\n",
       "      <td>4.200000</td>\n",
       "      <td>4.200000</td>\n",
       "      <td>0.000000</td>\n",
       "      <td>0.000000</td>\n",
       "      <td>12.100000</td>\n",
       "      <td>0.000000</td>\n",
       "      <td>9.400000</td>\n",
       "      <td>0.000000</td>\n",
       "      <td>0.000000</td>\n",
       "      <td>9.960000</td>\n",
       "    </tr>\n",
       "    <tr>\n",
       "      <th>4</th>\n",
       "      <td>18</td>\n",
       "      <td>2012</td>\n",
       "      <td>4</td>\n",
       "      <td>0</td>\n",
       "      <td>1</td>\n",
       "      <td>0</td>\n",
       "      <td>1</td>\n",
       "      <td>0</td>\n",
       "      <td>1</td>\n",
       "      <td>0</td>\n",
       "      <td>...</td>\n",
       "      <td>5.460000</td>\n",
       "      <td>5.460000</td>\n",
       "      <td>0.000000</td>\n",
       "      <td>0.000000</td>\n",
       "      <td>13.360000</td>\n",
       "      <td>0.000000</td>\n",
       "      <td>10.320000</td>\n",
       "      <td>0.000000</td>\n",
       "      <td>0.000000</td>\n",
       "      <td>10.280000</td>\n",
       "    </tr>\n",
       "    <tr>\n",
       "      <th>...</th>\n",
       "      <td>...</td>\n",
       "      <td>...</td>\n",
       "      <td>...</td>\n",
       "      <td>...</td>\n",
       "      <td>...</td>\n",
       "      <td>...</td>\n",
       "      <td>...</td>\n",
       "      <td>...</td>\n",
       "      <td>...</td>\n",
       "      <td>...</td>\n",
       "      <td>...</td>\n",
       "      <td>...</td>\n",
       "      <td>...</td>\n",
       "      <td>...</td>\n",
       "      <td>...</td>\n",
       "      <td>...</td>\n",
       "      <td>...</td>\n",
       "      <td>...</td>\n",
       "      <td>...</td>\n",
       "      <td>...</td>\n",
       "      <td>...</td>\n",
       "    </tr>\n",
       "    <tr>\n",
       "      <th>643685</th>\n",
       "      <td>1827860</td>\n",
       "      <td>2013</td>\n",
       "      <td>1</td>\n",
       "      <td>0</td>\n",
       "      <td>0</td>\n",
       "      <td>0</td>\n",
       "      <td>1</td>\n",
       "      <td>0</td>\n",
       "      <td>0</td>\n",
       "      <td>1</td>\n",
       "      <td>...</td>\n",
       "      <td>0.000000</td>\n",
       "      <td>0.000000</td>\n",
       "      <td>0.000000</td>\n",
       "      <td>0.000000</td>\n",
       "      <td>0.612903</td>\n",
       "      <td>0.000000</td>\n",
       "      <td>0.000000</td>\n",
       "      <td>0.000000</td>\n",
       "      <td>0.000000</td>\n",
       "      <td>0.000000</td>\n",
       "    </tr>\n",
       "    <tr>\n",
       "      <th>643686</th>\n",
       "      <td>1827860</td>\n",
       "      <td>2015</td>\n",
       "      <td>2</td>\n",
       "      <td>1</td>\n",
       "      <td>0</td>\n",
       "      <td>0</td>\n",
       "      <td>1</td>\n",
       "      <td>0</td>\n",
       "      <td>1</td>\n",
       "      <td>0</td>\n",
       "      <td>...</td>\n",
       "      <td>0.000000</td>\n",
       "      <td>0.000000</td>\n",
       "      <td>0.212121</td>\n",
       "      <td>0.212121</td>\n",
       "      <td>17.363636</td>\n",
       "      <td>0.000000</td>\n",
       "      <td>8.909091</td>\n",
       "      <td>0.000000</td>\n",
       "      <td>0.000000</td>\n",
       "      <td>7.121212</td>\n",
       "    </tr>\n",
       "    <tr>\n",
       "      <th>643687</th>\n",
       "      <td>1827860</td>\n",
       "      <td>2016</td>\n",
       "      <td>3</td>\n",
       "      <td>1</td>\n",
       "      <td>0</td>\n",
       "      <td>0</td>\n",
       "      <td>1</td>\n",
       "      <td>1</td>\n",
       "      <td>0</td>\n",
       "      <td>1</td>\n",
       "      <td>...</td>\n",
       "      <td>0.000000</td>\n",
       "      <td>0.000000</td>\n",
       "      <td>0.294118</td>\n",
       "      <td>0.205882</td>\n",
       "      <td>34.705882</td>\n",
       "      <td>0.000000</td>\n",
       "      <td>10.352941</td>\n",
       "      <td>1.705882</td>\n",
       "      <td>1.705882</td>\n",
       "      <td>23.911765</td>\n",
       "    </tr>\n",
       "    <tr>\n",
       "      <th>643688</th>\n",
       "      <td>1827869</td>\n",
       "      <td>2013</td>\n",
       "      <td>1</td>\n",
       "      <td>1</td>\n",
       "      <td>1</td>\n",
       "      <td>0</td>\n",
       "      <td>0</td>\n",
       "      <td>0</td>\n",
       "      <td>1</td>\n",
       "      <td>0</td>\n",
       "      <td>...</td>\n",
       "      <td>0.000000</td>\n",
       "      <td>0.000000</td>\n",
       "      <td>0.000000</td>\n",
       "      <td>0.000000</td>\n",
       "      <td>0.000000</td>\n",
       "      <td>0.525424</td>\n",
       "      <td>0.000000</td>\n",
       "      <td>0.000000</td>\n",
       "      <td>0.000000</td>\n",
       "      <td>0.000000</td>\n",
       "    </tr>\n",
       "    <tr>\n",
       "      <th>643689</th>\n",
       "      <td>1827869</td>\n",
       "      <td>2014</td>\n",
       "      <td>2</td>\n",
       "      <td>0</td>\n",
       "      <td>0</td>\n",
       "      <td>1</td>\n",
       "      <td>0</td>\n",
       "      <td>0</td>\n",
       "      <td>1</td>\n",
       "      <td>0</td>\n",
       "      <td>...</td>\n",
       "      <td>0.000000</td>\n",
       "      <td>0.666667</td>\n",
       "      <td>0.666667</td>\n",
       "      <td>0.000000</td>\n",
       "      <td>0.000000</td>\n",
       "      <td>8.950000</td>\n",
       "      <td>1.033333</td>\n",
       "      <td>0.083333</td>\n",
       "      <td>0.083333</td>\n",
       "      <td>8.133333</td>\n",
       "    </tr>\n",
       "  </tbody>\n",
       "</table>\n",
       "<p>643690 rows × 164 columns</p>\n",
       "</div>"
      ],
      "text/plain": [
       "         persnr  year  nrEntry  ltue  employed_before  receipt_leh_before  \\\n",
       "0             7  2015        1     0                1                   0   \n",
       "1            18  2010        1     1                0                   0   \n",
       "2            18  2011        2     0                1                   0   \n",
       "3            18  2012        3     0                1                   0   \n",
       "4            18  2012        4     0                1                   0   \n",
       "...         ...   ...      ...   ...              ...                 ...   \n",
       "643685  1827860  2013        1     0                0                   0   \n",
       "643686  1827860  2015        2     1                0                   0   \n",
       "643687  1827860  2016        3     1                0                   0   \n",
       "643688  1827869  2013        1     1                1                   0   \n",
       "643689  1827869  2014        2     0                0                   1   \n",
       "\n",
       "        receipt_lhg_before  se_before  ASU_notue_seeking_before  \\\n",
       "0                        0          0                         1   \n",
       "1                        0          0                         0   \n",
       "2                        1          0                         1   \n",
       "3                        1          0                         1   \n",
       "4                        1          0                         1   \n",
       "...                    ...        ...                       ...   \n",
       "643685                   1          0                         0   \n",
       "643686                   1          0                         1   \n",
       "643687                   1          1                         0   \n",
       "643688                   0          0                         1   \n",
       "643689                   0          0                         1   \n",
       "\n",
       "        ASU_other_before  ...  minijob_tot_dur_byage  ft_tot_dur_byage  \\\n",
       "0                      0  ...               0.000000          0.000000   \n",
       "1                      0  ...               0.000000          0.000000   \n",
       "2                      0  ...               2.714286          2.714286   \n",
       "3                      0  ...               4.200000          4.200000   \n",
       "4                      0  ...               5.460000          5.460000   \n",
       "...                  ...  ...                    ...               ...   \n",
       "643685                 1  ...               0.000000          0.000000   \n",
       "643686                 0  ...               0.000000          0.000000   \n",
       "643687                 1  ...               0.000000          0.000000   \n",
       "643688                 0  ...               0.000000          0.000000   \n",
       "643689                 0  ...               0.000000          0.666667   \n",
       "\n",
       "        befrist_tot_dur_byage  leih_tot_dur_byage  LHG_tot_dur_byage  \\\n",
       "0                   15.043478            0.000000           0.000000   \n",
       "1                    0.000000            0.000000           0.000000   \n",
       "2                    0.000000            0.000000          10.775510   \n",
       "3                    0.000000            0.000000          12.100000   \n",
       "4                    0.000000            0.000000          13.360000   \n",
       "...                       ...                 ...                ...   \n",
       "643685               0.000000            0.000000           0.612903   \n",
       "643686               0.212121            0.212121          17.363636   \n",
       "643687               0.294118            0.205882          34.705882   \n",
       "643688               0.000000            0.000000           0.000000   \n",
       "643689               0.666667            0.000000           0.000000   \n",
       "\n",
       "        LEH_tot_dur_byage  almp_tot_dur_byage  almp_aw_tot_dur_byage  \\\n",
       "0                0.000000            0.000000               0.000000   \n",
       "1                0.000000            0.000000               0.000000   \n",
       "2                0.000000            8.367347               0.000000   \n",
       "3                0.000000            9.400000               0.000000   \n",
       "4                0.000000           10.320000               0.000000   \n",
       "...                   ...                 ...                    ...   \n",
       "643685           0.000000            0.000000               0.000000   \n",
       "643686           0.000000            8.909091               0.000000   \n",
       "643687           0.000000           10.352941               1.705882   \n",
       "643688           0.525424            0.000000               0.000000   \n",
       "643689           8.950000            1.033333               0.083333   \n",
       "\n",
       "        se_tot_dur_byage  seeking1_tot_dur_byage  \n",
       "0               0.000000                0.000000  \n",
       "1               0.000000                0.000000  \n",
       "2               0.000000                9.836735  \n",
       "3               0.000000                9.960000  \n",
       "4               0.000000               10.280000  \n",
       "...                  ...                     ...  \n",
       "643685          0.000000                0.000000  \n",
       "643686          0.000000                7.121212  \n",
       "643687          1.705882               23.911765  \n",
       "643688          0.000000                0.000000  \n",
       "643689          0.083333                8.133333  \n",
       "\n",
       "[643690 rows x 164 columns]"
      ]
     },
     "execution_count": 10,
     "metadata": {},
     "output_type": "execute_result"
    }
   ],
   "source": [
    "siab"
   ]
  },
  {
   "cell_type": "markdown",
   "id": "1f87e805",
   "metadata": {
    "papermill": {
     "duration": 0.013901,
     "end_time": "2025-08-19T18:31:06.154946",
     "exception": false,
     "start_time": "2025-08-19T18:31:06.141045",
     "status": "completed"
    },
    "tags": []
   },
   "source": [
    "# Splitting Data and Setting Training Data Size"
   ]
  },
  {
   "cell_type": "code",
   "execution_count": 11,
   "id": "910ae358",
   "metadata": {
    "execution": {
     "iopub.execute_input": "2025-08-19T18:31:06.179268Z",
     "iopub.status.busy": "2025-08-19T18:31:06.177631Z",
     "iopub.status.idle": "2025-08-19T18:31:06.935693Z",
     "shell.execute_reply": "2025-08-19T18:31:06.934881Z"
    },
    "papermill": {
     "duration": 0.773347,
     "end_time": "2025-08-19T18:31:06.938539",
     "exception": false,
     "start_time": "2025-08-19T18:31:06.165192",
     "status": "completed"
    },
    "tags": []
   },
   "outputs": [],
   "source": [
    "from fairness_multiverse.universe import sample_by_year_size\n",
    "\n",
    "siab_train = sample_by_year_size(siab,\n",
    "                               training_year=universe[\"training_year\"],\n",
    "                               training_size=universe[\"training_size\"])"
   ]
  },
  {
   "cell_type": "code",
   "execution_count": 12,
   "id": "919c8ff5",
   "metadata": {
    "execution": {
     "iopub.execute_input": "2025-08-19T18:31:07.000411Z",
     "iopub.status.busy": "2025-08-19T18:31:06.999284Z",
     "iopub.status.idle": "2025-08-19T18:31:07.007823Z",
     "shell.execute_reply": "2025-08-19T18:31:07.006905Z"
    },
    "papermill": {
     "duration": 0.034299,
     "end_time": "2025-08-19T18:31:07.011970",
     "exception": false,
     "start_time": "2025-08-19T18:31:06.977671",
     "status": "completed"
    },
    "tags": []
   },
   "outputs": [
    {
     "data": {
      "text/plain": [
       "(5000, 164)"
      ]
     },
     "execution_count": 12,
     "metadata": {},
     "output_type": "execute_result"
    }
   ],
   "source": [
    "siab_train.shape"
   ]
  },
  {
   "cell_type": "code",
   "execution_count": 13,
   "id": "feb13bf4",
   "metadata": {
    "execution": {
     "iopub.execute_input": "2025-08-19T18:31:07.038201Z",
     "iopub.status.busy": "2025-08-19T18:31:07.036588Z",
     "iopub.status.idle": "2025-08-19T18:31:07.052826Z",
     "shell.execute_reply": "2025-08-19T18:31:07.050291Z"
    },
    "papermill": {
     "duration": 0.032463,
     "end_time": "2025-08-19T18:31:07.056715",
     "exception": false,
     "start_time": "2025-08-19T18:31:07.024252",
     "status": "completed"
    },
    "tags": []
   },
   "outputs": [
    {
     "data": {
      "text/plain": [
       "year\n",
       "2012    1667\n",
       "2013    1667\n",
       "2014    1666\n",
       "dtype: int64"
      ]
     },
     "metadata": {},
     "output_type": "display_data"
    }
   ],
   "source": [
    "display(siab_train.groupby(\"year\").size())"
   ]
  },
  {
   "cell_type": "code",
   "execution_count": 14,
   "id": "0997782f",
   "metadata": {
    "execution": {
     "iopub.execute_input": "2025-08-19T18:31:07.083920Z",
     "iopub.status.busy": "2025-08-19T18:31:07.083464Z",
     "iopub.status.idle": "2025-08-19T18:31:07.420674Z",
     "shell.execute_reply": "2025-08-19T18:31:07.419094Z"
    },
    "papermill": {
     "duration": 0.352363,
     "end_time": "2025-08-19T18:31:07.424409",
     "exception": false,
     "start_time": "2025-08-19T18:31:07.072046",
     "status": "completed"
    },
    "tags": []
   },
   "outputs": [],
   "source": [
    "#siab_train = siab_s[siab_s.year < 2015]\n",
    "siab_calib = siab[siab.year == 2015]\n",
    "siab_test = siab[siab.year == 2016]"
   ]
  },
  {
   "cell_type": "code",
   "execution_count": 15,
   "id": "2c1e4012",
   "metadata": {
    "execution": {
     "iopub.execute_input": "2025-08-19T18:31:07.480883Z",
     "iopub.status.busy": "2025-08-19T18:31:07.480244Z",
     "iopub.status.idle": "2025-08-19T18:31:07.485412Z",
     "shell.execute_reply": "2025-08-19T18:31:07.484525Z"
    },
    "papermill": {
     "duration": 0.034866,
     "end_time": "2025-08-19T18:31:07.487314",
     "exception": false,
     "start_time": "2025-08-19T18:31:07.452448",
     "status": "completed"
    },
    "tags": []
   },
   "outputs": [],
   "source": [
    "#siab_calib.shape"
   ]
  },
  {
   "cell_type": "code",
   "execution_count": 16,
   "id": "f66b54ca",
   "metadata": {
    "execution": {
     "iopub.execute_input": "2025-08-19T18:31:07.518995Z",
     "iopub.status.busy": "2025-08-19T18:31:07.518501Z",
     "iopub.status.idle": "2025-08-19T18:31:07.523137Z",
     "shell.execute_reply": "2025-08-19T18:31:07.522344Z"
    },
    "papermill": {
     "duration": 0.0217,
     "end_time": "2025-08-19T18:31:07.524985",
     "exception": false,
     "start_time": "2025-08-19T18:31:07.503285",
     "status": "completed"
    },
    "tags": []
   },
   "outputs": [],
   "source": [
    "#siab_test.shape"
   ]
  },
  {
   "cell_type": "code",
   "execution_count": 17,
   "id": "27e4384d",
   "metadata": {
    "execution": {
     "iopub.execute_input": "2025-08-19T18:31:07.548746Z",
     "iopub.status.busy": "2025-08-19T18:31:07.548259Z",
     "iopub.status.idle": "2025-08-19T18:31:07.560572Z",
     "shell.execute_reply": "2025-08-19T18:31:07.559586Z"
    },
    "papermill": {
     "duration": 0.025956,
     "end_time": "2025-08-19T18:31:07.562548",
     "exception": false,
     "start_time": "2025-08-19T18:31:07.536592",
     "status": "completed"
    },
    "tags": []
   },
   "outputs": [],
   "source": [
    "X_train = siab_train.iloc[:,4:164]\n",
    "y_train = siab_train.iloc[:, [3]]"
   ]
  },
  {
   "cell_type": "code",
   "execution_count": 18,
   "id": "08ee8389",
   "metadata": {
    "execution": {
     "iopub.execute_input": "2025-08-19T18:31:07.589182Z",
     "iopub.status.busy": "2025-08-19T18:31:07.588648Z",
     "iopub.status.idle": "2025-08-19T18:31:07.661335Z",
     "shell.execute_reply": "2025-08-19T18:31:07.659957Z"
    },
    "papermill": {
     "duration": 0.086526,
     "end_time": "2025-08-19T18:31:07.662835",
     "exception": false,
     "start_time": "2025-08-19T18:31:07.576309",
     "status": "completed"
    },
    "tags": []
   },
   "outputs": [],
   "source": [
    "X_calib = siab_calib.iloc[:,4:164]\n",
    "y_calib = siab_calib.iloc[:, [3]]"
   ]
  },
  {
   "cell_type": "code",
   "execution_count": 19,
   "id": "b7ff42e0",
   "metadata": {
    "execution": {
     "iopub.execute_input": "2025-08-19T18:31:07.687443Z",
     "iopub.status.busy": "2025-08-19T18:31:07.686851Z",
     "iopub.status.idle": "2025-08-19T18:31:07.748253Z",
     "shell.execute_reply": "2025-08-19T18:31:07.747148Z"
    },
    "papermill": {
     "duration": 0.075181,
     "end_time": "2025-08-19T18:31:07.750148",
     "exception": false,
     "start_time": "2025-08-19T18:31:07.674967",
     "status": "completed"
    },
    "tags": []
   },
   "outputs": [],
   "source": [
    "X_test = siab_test.iloc[:,4:164]\n",
    "y_true = siab_test.iloc[:, [3]]"
   ]
  },
  {
   "cell_type": "code",
   "execution_count": 20,
   "id": "0275101e",
   "metadata": {
    "execution": {
     "iopub.execute_input": "2025-08-19T18:31:07.773344Z",
     "iopub.status.busy": "2025-08-19T18:31:07.772291Z",
     "iopub.status.idle": "2025-08-19T18:31:07.898528Z",
     "shell.execute_reply": "2025-08-19T18:31:07.897437Z"
    },
    "papermill": {
     "duration": 0.141823,
     "end_time": "2025-08-19T18:31:07.902679",
     "exception": false,
     "start_time": "2025-08-19T18:31:07.760856",
     "status": "completed"
    },
    "tags": []
   },
   "outputs": [],
   "source": [
    "# Auxiliary data needed downstream in the pipeline\n",
    "\n",
    "org_train = X_train.copy()\n",
    "org_test = X_test.copy()\n",
    "org_calib = X_calib.copy()"
   ]
  },
  {
   "cell_type": "markdown",
   "id": "b461e618",
   "metadata": {
    "papermill": {
     "duration": 0.011988,
     "end_time": "2025-08-19T18:31:07.937028",
     "exception": false,
     "start_time": "2025-08-19T18:31:07.925040",
     "status": "completed"
    },
    "tags": []
   },
   "source": [
    "# Preprocessing Data"
   ]
  },
  {
   "cell_type": "code",
   "execution_count": 21,
   "id": "78e74c4b",
   "metadata": {
    "execution": {
     "iopub.execute_input": "2025-08-19T18:31:07.960764Z",
     "iopub.status.busy": "2025-08-19T18:31:07.959262Z",
     "iopub.status.idle": "2025-08-19T18:31:07.969188Z",
     "shell.execute_reply": "2025-08-19T18:31:07.967828Z"
    },
    "papermill": {
     "duration": 0.023569,
     "end_time": "2025-08-19T18:31:07.970653",
     "exception": false,
     "start_time": "2025-08-19T18:31:07.947084",
     "status": "completed"
    },
    "tags": []
   },
   "outputs": [],
   "source": [
    "# EXCLUDE PROTECTED FEATURES\n",
    "# --------------------------\n",
    "\n",
    "excluded_features = universe[\"exclude_features\"].split(\"-\")\n",
    "excluded_features_dictionary = {\n",
    "    \"nationality\": [\"maxdeutsch1\", \"maxdeutsch.Missing.\"],\n",
    "    \"sex\": [\"frau1\"],\n",
    "    \"age\": [\"age\"],\n",
    "}"
   ]
  },
  {
   "cell_type": "code",
   "execution_count": 22,
   "id": "f8e63555",
   "metadata": {
    "execution": {
     "iopub.execute_input": "2025-08-19T18:31:07.996978Z",
     "iopub.status.busy": "2025-08-19T18:31:07.995696Z",
     "iopub.status.idle": "2025-08-19T18:31:08.029838Z",
     "shell.execute_reply": "2025-08-19T18:31:08.004339Z"
    },
    "papermill": {
     "duration": 0.048824,
     "end_time": "2025-08-19T18:31:08.032583",
     "exception": false,
     "start_time": "2025-08-19T18:31:07.983759",
     "status": "completed"
    },
    "tags": []
   },
   "outputs": [],
   "source": [
    "excluded_features_columns = [\n",
    "    excluded_features_dictionary[f] for f in excluded_features if len(f) > 0 and f != \"none\"\n",
    "]"
   ]
  },
  {
   "cell_type": "code",
   "execution_count": 23,
   "id": "da781f7c",
   "metadata": {
    "execution": {
     "iopub.execute_input": "2025-08-19T18:31:08.096591Z",
     "iopub.status.busy": "2025-08-19T18:31:08.096202Z",
     "iopub.status.idle": "2025-08-19T18:31:08.102718Z",
     "shell.execute_reply": "2025-08-19T18:31:08.101444Z"
    },
    "papermill": {
     "duration": 0.049506,
     "end_time": "2025-08-19T18:31:08.104940",
     "exception": false,
     "start_time": "2025-08-19T18:31:08.055434",
     "status": "completed"
    },
    "tags": []
   },
   "outputs": [],
   "source": [
    "from fairness_multiverse.universe import flatten_once\n",
    "\n",
    "excluded_features_columns = flatten_once(excluded_features_columns)"
   ]
  },
  {
   "cell_type": "code",
   "execution_count": 24,
   "id": "37fef0f0",
   "metadata": {
    "execution": {
     "iopub.execute_input": "2025-08-19T18:31:08.138447Z",
     "iopub.status.busy": "2025-08-19T18:31:08.135775Z",
     "iopub.status.idle": "2025-08-19T18:31:08.165771Z",
     "shell.execute_reply": "2025-08-19T18:31:08.164831Z"
    },
    "papermill": {
     "duration": 0.044017,
     "end_time": "2025-08-19T18:31:08.167516",
     "exception": false,
     "start_time": "2025-08-19T18:31:08.123499",
     "status": "completed"
    },
    "tags": []
   },
   "outputs": [
    {
     "name": "stdout",
     "output_type": "stream",
     "text": [
      "Dropping features: ['maxdeutsch1', 'maxdeutsch.Missing.']\n"
     ]
    }
   ],
   "source": [
    "if len(excluded_features_columns) > 0:\n",
    "    print(f\"Dropping features: {excluded_features_columns}\")\n",
    "    X_train.drop(excluded_features_columns, axis=1, inplace=True)"
   ]
  },
  {
   "cell_type": "code",
   "execution_count": 25,
   "id": "d029e3e9",
   "metadata": {
    "execution": {
     "iopub.execute_input": "2025-08-19T18:31:08.193499Z",
     "iopub.status.busy": "2025-08-19T18:31:08.192510Z",
     "iopub.status.idle": "2025-08-19T18:31:08.258200Z",
     "shell.execute_reply": "2025-08-19T18:31:08.257205Z"
    },
    "papermill": {
     "duration": 0.08021,
     "end_time": "2025-08-19T18:31:08.261003",
     "exception": false,
     "start_time": "2025-08-19T18:31:08.180793",
     "status": "completed"
    },
    "tags": []
   },
   "outputs": [
    {
     "name": "stdout",
     "output_type": "stream",
     "text": [
      "Dropping features: ['maxdeutsch1', 'maxdeutsch.Missing.']\n"
     ]
    }
   ],
   "source": [
    "if len(excluded_features_columns) > 0:\n",
    "    print(f\"Dropping features: {excluded_features_columns}\")\n",
    "    X_test.drop(excluded_features_columns, axis=1, inplace=True)"
   ]
  },
  {
   "cell_type": "code",
   "execution_count": 26,
   "id": "01d571f0",
   "metadata": {
    "execution": {
     "iopub.execute_input": "2025-08-19T18:31:08.290681Z",
     "iopub.status.busy": "2025-08-19T18:31:08.290246Z",
     "iopub.status.idle": "2025-08-19T18:31:08.338559Z",
     "shell.execute_reply": "2025-08-19T18:31:08.337205Z"
    },
    "papermill": {
     "duration": 0.06185,
     "end_time": "2025-08-19T18:31:08.340188",
     "exception": false,
     "start_time": "2025-08-19T18:31:08.278338",
     "status": "completed"
    },
    "tags": []
   },
   "outputs": [
    {
     "name": "stdout",
     "output_type": "stream",
     "text": [
      "Dropping features: ['maxdeutsch1', 'maxdeutsch.Missing.']\n"
     ]
    }
   ],
   "source": [
    "if len(excluded_features_columns) > 0:\n",
    "    print(f\"Dropping features: {excluded_features_columns}\")\n",
    "    X_calib.drop(excluded_features_columns, axis=1, inplace=True)"
   ]
  },
  {
   "cell_type": "code",
   "execution_count": 27,
   "id": "3037356e",
   "metadata": {
    "execution": {
     "iopub.execute_input": "2025-08-19T18:31:08.365085Z",
     "iopub.status.busy": "2025-08-19T18:31:08.363629Z",
     "iopub.status.idle": "2025-08-19T18:31:08.371988Z",
     "shell.execute_reply": "2025-08-19T18:31:08.370726Z"
    },
    "papermill": {
     "duration": 0.021961,
     "end_time": "2025-08-19T18:31:08.373546",
     "exception": false,
     "start_time": "2025-08-19T18:31:08.351585",
     "status": "completed"
    },
    "tags": []
   },
   "outputs": [],
   "source": [
    "# EXCLUDE CERTAIN SUBGROUPS\n",
    "# -------------------------\n",
    "\n",
    "mode = universe.get(\"exclude_subgroups\", \"keep-all\") # Defaults to \"keep-all\" if the key is missing."
   ]
  },
  {
   "cell_type": "code",
   "execution_count": 28,
   "id": "9d1e63fd",
   "metadata": {
    "execution": {
     "iopub.execute_input": "2025-08-19T18:31:08.401405Z",
     "iopub.status.busy": "2025-08-19T18:31:08.399988Z",
     "iopub.status.idle": "2025-08-19T18:31:08.412597Z",
     "shell.execute_reply": "2025-08-19T18:31:08.411440Z"
    },
    "papermill": {
     "duration": 0.027083,
     "end_time": "2025-08-19T18:31:08.414170",
     "exception": false,
     "start_time": "2025-08-19T18:31:08.387087",
     "status": "completed"
    },
    "tags": []
   },
   "outputs": [],
   "source": [
    "if mode == \"keep-all\":\n",
    "    keep_mask = pd.Series(True, index=org_train.index)\n",
    "\n",
    "elif mode == \"drop-non-german\":\n",
    "    keep_mask = (org_train[\"maxdeutsch1\"] == 1) & (org_train[\"maxdeutsch.Missing.\"] == 0)\n",
    "\n",
    "else:\n",
    "    raise ValueError(f\"Unsupported mode for exclude_subgroups: {mode}\")"
   ]
  },
  {
   "cell_type": "code",
   "execution_count": 29,
   "id": "d3b65474",
   "metadata": {
    "execution": {
     "iopub.execute_input": "2025-08-19T18:31:08.442207Z",
     "iopub.status.busy": "2025-08-19T18:31:08.440757Z",
     "iopub.status.idle": "2025-08-19T18:31:08.452433Z",
     "shell.execute_reply": "2025-08-19T18:31:08.451228Z"
    },
    "papermill": {
     "duration": 0.026051,
     "end_time": "2025-08-19T18:31:08.454054",
     "exception": false,
     "start_time": "2025-08-19T18:31:08.428003",
     "status": "completed"
    },
    "tags": []
   },
   "outputs": [],
   "source": [
    "n_drop = (~keep_mask).sum() # Calculates how many rows are set to be dropped\n",
    "if n_drop > 0:\n",
    "    pct = n_drop / len(keep_mask) * 100\n",
    "    print(f\"Dropping {n_drop} rows ({pct:.2f}%) where mode='{mode}'\")"
   ]
  },
  {
   "cell_type": "code",
   "execution_count": 30,
   "id": "f44389b3",
   "metadata": {
    "execution": {
     "iopub.execute_input": "2025-08-19T18:31:08.481877Z",
     "iopub.status.busy": "2025-08-19T18:31:08.480349Z",
     "iopub.status.idle": "2025-08-19T18:31:08.517095Z",
     "shell.execute_reply": "2025-08-19T18:31:08.516221Z"
    },
    "papermill": {
     "duration": 0.051581,
     "end_time": "2025-08-19T18:31:08.519096",
     "exception": false,
     "start_time": "2025-08-19T18:31:08.467515",
     "status": "completed"
    },
    "tags": []
   },
   "outputs": [],
   "source": [
    "X_train = X_train[keep_mask]"
   ]
  },
  {
   "cell_type": "code",
   "execution_count": 31,
   "id": "ceca8c2a",
   "metadata": {
    "execution": {
     "iopub.execute_input": "2025-08-19T18:31:08.560035Z",
     "iopub.status.busy": "2025-08-19T18:31:08.558280Z",
     "iopub.status.idle": "2025-08-19T18:31:08.568815Z",
     "shell.execute_reply": "2025-08-19T18:31:08.567377Z"
    },
    "papermill": {
     "duration": 0.026651,
     "end_time": "2025-08-19T18:31:08.570504",
     "exception": false,
     "start_time": "2025-08-19T18:31:08.543853",
     "status": "completed"
    },
    "tags": []
   },
   "outputs": [],
   "source": [
    "y_train = y_train[keep_mask]"
   ]
  },
  {
   "cell_type": "markdown",
   "id": "04d31e2f",
   "metadata": {
    "papermill": {
     "duration": 0.010492,
     "end_time": "2025-08-19T18:31:08.596110",
     "exception": false,
     "start_time": "2025-08-19T18:31:08.585618",
     "status": "completed"
    },
    "tags": []
   },
   "source": [
    "# Model Training"
   ]
  },
  {
   "cell_type": "code",
   "execution_count": 32,
   "id": "db991733",
   "metadata": {
    "execution": {
     "iopub.execute_input": "2025-08-19T18:31:08.620573Z",
     "iopub.status.busy": "2025-08-19T18:31:08.619047Z",
     "iopub.status.idle": "2025-08-19T18:31:08.753143Z",
     "shell.execute_reply": "2025-08-19T18:31:08.752264Z"
    },
    "papermill": {
     "duration": 0.148682,
     "end_time": "2025-08-19T18:31:08.755241",
     "exception": false,
     "start_time": "2025-08-19T18:31:08.606559",
     "status": "completed"
    },
    "tags": []
   },
   "outputs": [],
   "source": [
    "from sklearn.linear_model import LogisticRegression\n",
    "from sklearn.ensemble import GradientBoostingClassifier, RandomForestClassifier\n",
    "\n",
    "if (universe[\"model\"] == \"logreg\"):\n",
    "    model = LogisticRegression() #penalty=\"none\", solver=\"newton-cg\", max_iter=1)\n",
    "elif (universe[\"model\"] == \"penalized_logreg\"):\n",
    "    model = LogisticRegression(penalty=\"l2\", C=0.1) #, solver=\"newton-cg\", max_iter=1)\n",
    "elif (universe[\"model\"] == \"rf\"):\n",
    "    model = RandomForestClassifier() # n_estimators=100, n_jobs=-1\n",
    "elif (universe[\"model\"] == \"gbm\"):\n",
    "    model = GradientBoostingClassifier()\n",
    "elif (universe[\"model\"] == \"elasticnet\"):\n",
    "    model = LogisticRegression(penalty = 'elasticnet', solver = 'saga', l1_ratio = 0.5) # max_iter=5000\n",
    "else:\n",
    "    raise \"Unsupported universe.model\""
   ]
  },
  {
   "cell_type": "code",
   "execution_count": 33,
   "id": "a4b5cd25",
   "metadata": {
    "execution": {
     "iopub.execute_input": "2025-08-19T18:31:08.782981Z",
     "iopub.status.busy": "2025-08-19T18:31:08.782500Z",
     "iopub.status.idle": "2025-08-19T18:31:08.788395Z",
     "shell.execute_reply": "2025-08-19T18:31:08.787595Z"
    },
    "papermill": {
     "duration": 0.025971,
     "end_time": "2025-08-19T18:31:08.793738",
     "exception": false,
     "start_time": "2025-08-19T18:31:08.767767",
     "status": "completed"
    },
    "tags": []
   },
   "outputs": [],
   "source": [
    "from sklearn.pipeline import Pipeline\n",
    "from sklearn.preprocessing import StandardScaler\n",
    "\n",
    "model = Pipeline([\n",
    "    #(\"continuous_processor\", continuous_processor),\n",
    "    #(\"categorical_preprocessor\", categorical_preprocessor),\n",
    "    (\"scale\", StandardScaler() if universe[\"scale\"] == \"scale\" else None), \n",
    "    (\"model\", model),\n",
    "])"
   ]
  },
  {
   "cell_type": "code",
   "execution_count": 34,
   "id": "283a904d",
   "metadata": {
    "execution": {
     "iopub.execute_input": "2025-08-19T18:31:08.822406Z",
     "iopub.status.busy": "2025-08-19T18:31:08.821959Z",
     "iopub.status.idle": "2025-08-19T18:31:09.000385Z",
     "shell.execute_reply": "2025-08-19T18:31:08.999584Z"
    },
    "papermill": {
     "duration": 0.192789,
     "end_time": "2025-08-19T18:31:09.002182",
     "exception": false,
     "start_time": "2025-08-19T18:31:08.809393",
     "status": "completed"
    },
    "tags": []
   },
   "outputs": [
    {
     "name": "stderr",
     "output_type": "stream",
     "text": [
      "/dss/dsshome1/0C/ra93lal2/.local/share/virtualenvs/CMA_Fairness_v2-3j10GkSs/lib/python3.10/site-packages/sklearn/linear_model/_logistic.py:444: ConvergenceWarning: lbfgs failed to converge (status=1):\n",
      "STOP: TOTAL NO. of ITERATIONS REACHED LIMIT.\n",
      "\n",
      "Increase the number of iterations (max_iter) or scale the data as shown in:\n",
      "    https://scikit-learn.org/stable/modules/preprocessing.html\n",
      "Please also refer to the documentation for alternative solver options:\n",
      "    https://scikit-learn.org/stable/modules/linear_model.html#logistic-regression\n",
      "  n_iter_i = _check_optimize_result(\n"
     ]
    },
    {
     "data": {
      "text/html": [
       "<style>#sk-container-id-1 {color: black;background-color: white;}#sk-container-id-1 pre{padding: 0;}#sk-container-id-1 div.sk-toggleable {background-color: white;}#sk-container-id-1 label.sk-toggleable__label {cursor: pointer;display: block;width: 100%;margin-bottom: 0;padding: 0.3em;box-sizing: border-box;text-align: center;}#sk-container-id-1 label.sk-toggleable__label-arrow:before {content: \"▸\";float: left;margin-right: 0.25em;color: #696969;}#sk-container-id-1 label.sk-toggleable__label-arrow:hover:before {color: black;}#sk-container-id-1 div.sk-estimator:hover label.sk-toggleable__label-arrow:before {color: black;}#sk-container-id-1 div.sk-toggleable__content {max-height: 0;max-width: 0;overflow: hidden;text-align: left;background-color: #f0f8ff;}#sk-container-id-1 div.sk-toggleable__content pre {margin: 0.2em;color: black;border-radius: 0.25em;background-color: #f0f8ff;}#sk-container-id-1 input.sk-toggleable__control:checked~div.sk-toggleable__content {max-height: 200px;max-width: 100%;overflow: auto;}#sk-container-id-1 input.sk-toggleable__control:checked~label.sk-toggleable__label-arrow:before {content: \"▾\";}#sk-container-id-1 div.sk-estimator input.sk-toggleable__control:checked~label.sk-toggleable__label {background-color: #d4ebff;}#sk-container-id-1 div.sk-label input.sk-toggleable__control:checked~label.sk-toggleable__label {background-color: #d4ebff;}#sk-container-id-1 input.sk-hidden--visually {border: 0;clip: rect(1px 1px 1px 1px);clip: rect(1px, 1px, 1px, 1px);height: 1px;margin: -1px;overflow: hidden;padding: 0;position: absolute;width: 1px;}#sk-container-id-1 div.sk-estimator {font-family: monospace;background-color: #f0f8ff;border: 1px dotted black;border-radius: 0.25em;box-sizing: border-box;margin-bottom: 0.5em;}#sk-container-id-1 div.sk-estimator:hover {background-color: #d4ebff;}#sk-container-id-1 div.sk-parallel-item::after {content: \"\";width: 100%;border-bottom: 1px solid gray;flex-grow: 1;}#sk-container-id-1 div.sk-label:hover label.sk-toggleable__label {background-color: #d4ebff;}#sk-container-id-1 div.sk-serial::before {content: \"\";position: absolute;border-left: 1px solid gray;box-sizing: border-box;top: 0;bottom: 0;left: 50%;z-index: 0;}#sk-container-id-1 div.sk-serial {display: flex;flex-direction: column;align-items: center;background-color: white;padding-right: 0.2em;padding-left: 0.2em;position: relative;}#sk-container-id-1 div.sk-item {position: relative;z-index: 1;}#sk-container-id-1 div.sk-parallel {display: flex;align-items: stretch;justify-content: center;background-color: white;position: relative;}#sk-container-id-1 div.sk-item::before, #sk-container-id-1 div.sk-parallel-item::before {content: \"\";position: absolute;border-left: 1px solid gray;box-sizing: border-box;top: 0;bottom: 0;left: 50%;z-index: -1;}#sk-container-id-1 div.sk-parallel-item {display: flex;flex-direction: column;z-index: 1;position: relative;background-color: white;}#sk-container-id-1 div.sk-parallel-item:first-child::after {align-self: flex-end;width: 50%;}#sk-container-id-1 div.sk-parallel-item:last-child::after {align-self: flex-start;width: 50%;}#sk-container-id-1 div.sk-parallel-item:only-child::after {width: 0;}#sk-container-id-1 div.sk-dashed-wrapped {border: 1px dashed gray;margin: 0 0.4em 0.5em 0.4em;box-sizing: border-box;padding-bottom: 0.4em;background-color: white;}#sk-container-id-1 div.sk-label label {font-family: monospace;font-weight: bold;display: inline-block;line-height: 1.2em;}#sk-container-id-1 div.sk-label-container {text-align: center;}#sk-container-id-1 div.sk-container {/* jupyter's `normalize.less` sets `[hidden] { display: none; }` but bootstrap.min.css set `[hidden] { display: none !important; }` so we also need the `!important` here to be able to override the default hidden behavior on the sphinx rendered scikit-learn.org. See: https://github.com/scikit-learn/scikit-learn/issues/21755 */display: inline-block !important;position: relative;}#sk-container-id-1 div.sk-text-repr-fallback {display: none;}</style><div id=\"sk-container-id-1\" class=\"sk-top-container\"><div class=\"sk-text-repr-fallback\"><pre>Pipeline(steps=[(&#x27;scale&#x27;, StandardScaler()), (&#x27;model&#x27;, LogisticRegression())])</pre><b>In a Jupyter environment, please rerun this cell to show the HTML representation or trust the notebook. <br />On GitHub, the HTML representation is unable to render, please try loading this page with nbviewer.org.</b></div><div class=\"sk-container\" hidden><div class=\"sk-item sk-dashed-wrapped\"><div class=\"sk-label-container\"><div class=\"sk-label sk-toggleable\"><input class=\"sk-toggleable__control sk-hidden--visually\" id=\"sk-estimator-id-1\" type=\"checkbox\" ><label for=\"sk-estimator-id-1\" class=\"sk-toggleable__label sk-toggleable__label-arrow\">Pipeline</label><div class=\"sk-toggleable__content\"><pre>Pipeline(steps=[(&#x27;scale&#x27;, StandardScaler()), (&#x27;model&#x27;, LogisticRegression())])</pre></div></div></div><div class=\"sk-serial\"><div class=\"sk-item\"><div class=\"sk-estimator sk-toggleable\"><input class=\"sk-toggleable__control sk-hidden--visually\" id=\"sk-estimator-id-2\" type=\"checkbox\" ><label for=\"sk-estimator-id-2\" class=\"sk-toggleable__label sk-toggleable__label-arrow\">StandardScaler</label><div class=\"sk-toggleable__content\"><pre>StandardScaler()</pre></div></div></div><div class=\"sk-item\"><div class=\"sk-estimator sk-toggleable\"><input class=\"sk-toggleable__control sk-hidden--visually\" id=\"sk-estimator-id-3\" type=\"checkbox\" ><label for=\"sk-estimator-id-3\" class=\"sk-toggleable__label sk-toggleable__label-arrow\">LogisticRegression</label><div class=\"sk-toggleable__content\"><pre>LogisticRegression()</pre></div></div></div></div></div></div></div>"
      ],
      "text/plain": [
       "Pipeline(steps=[('scale', StandardScaler()), ('model', LogisticRegression())])"
      ]
     },
     "execution_count": 34,
     "metadata": {},
     "output_type": "execute_result"
    }
   ],
   "source": [
    "model.fit(X_train, y_train.values.ravel())"
   ]
  },
  {
   "cell_type": "code",
   "execution_count": 35,
   "id": "6e15e313",
   "metadata": {
    "execution": {
     "iopub.execute_input": "2025-08-19T18:31:09.039412Z",
     "iopub.status.busy": "2025-08-19T18:31:09.038921Z",
     "iopub.status.idle": "2025-08-19T18:31:09.236885Z",
     "shell.execute_reply": "2025-08-19T18:31:09.236053Z"
    },
    "papermill": {
     "duration": 0.217055,
     "end_time": "2025-08-19T18:31:09.238183",
     "exception": false,
     "start_time": "2025-08-19T18:31:09.021128",
     "status": "completed"
    },
    "tags": []
   },
   "outputs": [
    {
     "data": {
      "text/plain": [
       "0.8571285252480214"
      ]
     },
     "execution_count": 35,
     "metadata": {},
     "output_type": "execute_result"
    }
   ],
   "source": [
    "from fairness_multiverse.universe import predict_w_threshold\n",
    "\n",
    "probs_test = model.predict_proba(X_test)\n",
    "\n",
    "'''\n",
    "Below code returns a boolean array (or binary 0/1 array depending on how it’s used) where each element \n",
    "is True if the probability of class 1 is greater than or equal to the threshold, and False otherwise.\n",
    "'''\n",
    "y_pred_default = predict_w_threshold(probs_test, 0.5)\n",
    "\n",
    "from sklearn.metrics import accuracy_score\n",
    "\n",
    "# Naive prediction\n",
    "accuracy_score(y_true = y_true, y_pred = y_pred_default)"
   ]
  },
  {
   "cell_type": "code",
   "execution_count": 36,
   "id": "6f14067c",
   "metadata": {
    "execution": {
     "iopub.execute_input": "2025-08-19T18:31:09.266427Z",
     "iopub.status.busy": "2025-08-19T18:31:09.265965Z",
     "iopub.status.idle": "2025-08-19T18:31:09.468725Z",
     "shell.execute_reply": "2025-08-19T18:31:09.466617Z"
    },
    "papermill": {
     "duration": 0.220069,
     "end_time": "2025-08-19T18:31:09.472255",
     "exception": false,
     "start_time": "2025-08-19T18:31:09.252186",
     "status": "completed"
    },
    "tags": []
   },
   "outputs": [
    {
     "data": {
      "text/plain": [
       "array([0, 0, 0, ..., 0, 0, 0])"
      ]
     },
     "execution_count": 36,
     "metadata": {},
     "output_type": "execute_result"
    }
   ],
   "source": [
    "model.predict(X_test)"
   ]
  },
  {
   "cell_type": "markdown",
   "id": "3759920c",
   "metadata": {
    "papermill": {
     "duration": 0.011668,
     "end_time": "2025-08-19T18:31:09.497899",
     "exception": false,
     "start_time": "2025-08-19T18:31:09.486231",
     "status": "completed"
    },
    "tags": []
   },
   "source": [
    "# Conformal Prediction"
   ]
  },
  {
   "cell_type": "code",
   "execution_count": 37,
   "id": "14b27f59",
   "metadata": {
    "execution": {
     "iopub.execute_input": "2025-08-19T18:31:09.523186Z",
     "iopub.status.busy": "2025-08-19T18:31:09.522725Z",
     "iopub.status.idle": "2025-08-19T18:31:09.530954Z",
     "shell.execute_reply": "2025-08-19T18:31:09.529711Z"
    },
    "papermill": {
     "duration": 0.026428,
     "end_time": "2025-08-19T18:31:09.535570",
     "exception": false,
     "start_time": "2025-08-19T18:31:09.509142",
     "status": "completed"
    },
    "tags": []
   },
   "outputs": [],
   "source": [
    "# Miscoverage level for conformal prediction (10% allowed error rate => 90% target coverage)\n",
    "alpha = 0.1"
   ]
  },
  {
   "cell_type": "code",
   "execution_count": 38,
   "id": "59102472",
   "metadata": {
    "execution": {
     "iopub.execute_input": "2025-08-19T18:31:09.585950Z",
     "iopub.status.busy": "2025-08-19T18:31:09.585207Z",
     "iopub.status.idle": "2025-08-19T18:31:09.854977Z",
     "shell.execute_reply": "2025-08-19T18:31:09.853991Z"
    },
    "papermill": {
     "duration": 0.298182,
     "end_time": "2025-08-19T18:31:09.856856",
     "exception": false,
     "start_time": "2025-08-19T18:31:09.558674",
     "status": "completed"
    },
    "tags": []
   },
   "outputs": [],
   "source": [
    "probs_calib = model.predict_proba(X_calib)"
   ]
  },
  {
   "cell_type": "code",
   "execution_count": 39,
   "id": "a792d4dd",
   "metadata": {
    "execution": {
     "iopub.execute_input": "2025-08-19T18:31:09.896547Z",
     "iopub.status.busy": "2025-08-19T18:31:09.896061Z",
     "iopub.status.idle": "2025-08-19T18:31:09.901769Z",
     "shell.execute_reply": "2025-08-19T18:31:09.901043Z"
    },
    "papermill": {
     "duration": 0.029442,
     "end_time": "2025-08-19T18:31:09.903629",
     "exception": false,
     "start_time": "2025-08-19T18:31:09.874187",
     "status": "completed"
    },
    "tags": []
   },
   "outputs": [],
   "source": [
    "y_calib = y_calib.values.ravel().astype(int)"
   ]
  },
  {
   "cell_type": "code",
   "execution_count": 40,
   "id": "650fd033",
   "metadata": {
    "execution": {
     "iopub.execute_input": "2025-08-19T18:31:09.937631Z",
     "iopub.status.busy": "2025-08-19T18:31:09.936765Z",
     "iopub.status.idle": "2025-08-19T18:31:09.948621Z",
     "shell.execute_reply": "2025-08-19T18:31:09.947496Z"
    },
    "papermill": {
     "duration": 0.026757,
     "end_time": "2025-08-19T18:31:09.950005",
     "exception": false,
     "start_time": "2025-08-19T18:31:09.923248",
     "status": "completed"
    },
    "tags": []
   },
   "outputs": [],
   "source": [
    "from fairness_multiverse.conformal import compute_nc_scores\n",
    "\n",
    "# Compute nonconformity scores on calibration set (1 - probability of true class)\n",
    "nc_scores = compute_nc_scores(probs_calib, y_calib)"
   ]
  },
  {
   "cell_type": "code",
   "execution_count": 41,
   "id": "28ada44c",
   "metadata": {
    "execution": {
     "iopub.execute_input": "2025-08-19T18:31:09.978046Z",
     "iopub.status.busy": "2025-08-19T18:31:09.976925Z",
     "iopub.status.idle": "2025-08-19T18:31:09.991418Z",
     "shell.execute_reply": "2025-08-19T18:31:09.990110Z"
    },
    "papermill": {
     "duration": 0.028453,
     "end_time": "2025-08-19T18:31:09.992666",
     "exception": false,
     "start_time": "2025-08-19T18:31:09.964213",
     "status": "completed"
    },
    "tags": []
   },
   "outputs": [],
   "source": [
    "from fairness_multiverse.conformal import find_threshold\n",
    "\n",
    "# Find conformal threshold q_hat for the given alpha (split conformal method)\n",
    "q_hat = find_threshold(nc_scores, alpha)"
   ]
  },
  {
   "cell_type": "code",
   "execution_count": 42,
   "id": "df56469e",
   "metadata": {
    "execution": {
     "iopub.execute_input": "2025-08-19T18:31:10.016826Z",
     "iopub.status.busy": "2025-08-19T18:31:10.016091Z",
     "iopub.status.idle": "2025-08-19T18:31:10.021611Z",
     "shell.execute_reply": "2025-08-19T18:31:10.020957Z"
    },
    "papermill": {
     "duration": 0.022525,
     "end_time": "2025-08-19T18:31:10.026642",
     "exception": false,
     "start_time": "2025-08-19T18:31:10.004117",
     "status": "completed"
    },
    "tags": []
   },
   "outputs": [
    {
     "data": {
      "text/plain": [
       "0.6860060596750688"
      ]
     },
     "execution_count": 42,
     "metadata": {},
     "output_type": "execute_result"
    }
   ],
   "source": [
    "q_hat"
   ]
  },
  {
   "cell_type": "code",
   "execution_count": 43,
   "id": "aa1f5faa",
   "metadata": {
    "execution": {
     "iopub.execute_input": "2025-08-19T18:31:10.051771Z",
     "iopub.status.busy": "2025-08-19T18:31:10.050972Z",
     "iopub.status.idle": "2025-08-19T18:31:10.726868Z",
     "shell.execute_reply": "2025-08-19T18:31:10.725432Z"
    },
    "papermill": {
     "duration": 0.690201,
     "end_time": "2025-08-19T18:31:10.728633",
     "exception": false,
     "start_time": "2025-08-19T18:31:10.038432",
     "status": "completed"
    },
    "tags": []
   },
   "outputs": [],
   "source": [
    "from fairness_multiverse.conformal import predict_conformal_sets\n",
    "\n",
    "# Generate prediction sets for each test example\n",
    "pred_sets = predict_conformal_sets(model, X_test, q_hat)"
   ]
  },
  {
   "cell_type": "code",
   "execution_count": 44,
   "id": "97f67a6b",
   "metadata": {
    "execution": {
     "iopub.execute_input": "2025-08-19T18:31:10.757342Z",
     "iopub.status.busy": "2025-08-19T18:31:10.756675Z",
     "iopub.status.idle": "2025-08-19T18:31:10.765328Z",
     "shell.execute_reply": "2025-08-19T18:31:10.764429Z"
    },
    "papermill": {
     "duration": 0.02529,
     "end_time": "2025-08-19T18:31:10.766508",
     "exception": false,
     "start_time": "2025-08-19T18:31:10.741218",
     "status": "completed"
    },
    "tags": []
   },
   "outputs": [],
   "source": [
    "y_true = y_true.squeeze()"
   ]
  },
  {
   "cell_type": "code",
   "execution_count": 45,
   "id": "e700e9a7",
   "metadata": {
    "execution": {
     "iopub.execute_input": "2025-08-19T18:31:10.797569Z",
     "iopub.status.busy": "2025-08-19T18:31:10.797200Z",
     "iopub.status.idle": "2025-08-19T18:31:11.325972Z",
     "shell.execute_reply": "2025-08-19T18:31:11.323893Z"
    },
    "papermill": {
     "duration": 0.545077,
     "end_time": "2025-08-19T18:31:11.327948",
     "exception": false,
     "start_time": "2025-08-19T18:31:10.782871",
     "status": "completed"
    },
    "tags": []
   },
   "outputs": [],
   "source": [
    "from fairness_multiverse.conformal import evaluate_sets\n",
    "\n",
    "# Evaluate coverage and average set size on test data\n",
    "metrics = evaluate_sets(pred_sets, y_true)"
   ]
  },
  {
   "cell_type": "markdown",
   "id": "efbacec0",
   "metadata": {
    "papermill": {
     "duration": 0.011672,
     "end_time": "2025-08-19T18:31:11.351880",
     "exception": false,
     "start_time": "2025-08-19T18:31:11.340208",
     "status": "completed"
    },
    "tags": []
   },
   "source": [
    "# CP Metrics"
   ]
  },
  {
   "cell_type": "code",
   "execution_count": 46,
   "id": "9de55fb1",
   "metadata": {
    "execution": {
     "iopub.execute_input": "2025-08-19T18:31:11.378104Z",
     "iopub.status.busy": "2025-08-19T18:31:11.376365Z",
     "iopub.status.idle": "2025-08-19T18:31:11.385181Z",
     "shell.execute_reply": "2025-08-19T18:31:11.384497Z"
    },
    "papermill": {
     "duration": 0.022854,
     "end_time": "2025-08-19T18:31:11.386357",
     "exception": false,
     "start_time": "2025-08-19T18:31:11.363503",
     "status": "completed"
    },
    "tags": []
   },
   "outputs": [
    {
     "data": {
      "text/plain": [
       "{'coverage': 0.9108126184371865, 'avg_size': 1.137197636829785}"
      ]
     },
     "execution_count": 46,
     "metadata": {},
     "output_type": "execute_result"
    }
   ],
   "source": [
    "metrics"
   ]
  },
  {
   "cell_type": "code",
   "execution_count": 47,
   "id": "64c340a1",
   "metadata": {
    "execution": {
     "iopub.execute_input": "2025-08-19T18:31:11.413654Z",
     "iopub.status.busy": "2025-08-19T18:31:11.413211Z",
     "iopub.status.idle": "2025-08-19T18:31:11.418663Z",
     "shell.execute_reply": "2025-08-19T18:31:11.417982Z"
    },
    "papermill": {
     "duration": 0.023247,
     "end_time": "2025-08-19T18:31:11.423977",
     "exception": false,
     "start_time": "2025-08-19T18:31:11.400730",
     "status": "completed"
    },
    "tags": []
   },
   "outputs": [],
   "source": [
    "example_universe = universe.copy()\n",
    "universe_training_year = example_universe.get(\"training_year\")\n",
    "universe_training_size = example_universe.get(\"training_size\")\n",
    "universe_scale = example_universe.get(\"scale\")\n",
    "universe_model = example_universe.get(\"model\")\n",
    "universe_exclude_features = example_universe.get(\"exclude_features\")\n",
    "universe_exclude_subgroups = example_universe.get(\"exclude_subgroups\")"
   ]
  },
  {
   "cell_type": "code",
   "execution_count": 48,
   "id": "dbb53cb4",
   "metadata": {
    "execution": {
     "iopub.execute_input": "2025-08-19T18:31:11.454000Z",
     "iopub.status.busy": "2025-08-19T18:31:11.453519Z",
     "iopub.status.idle": "2025-08-19T18:31:11.459362Z",
     "shell.execute_reply": "2025-08-19T18:31:11.458571Z"
    },
    "papermill": {
     "duration": 0.019876,
     "end_time": "2025-08-19T18:31:11.460654",
     "exception": false,
     "start_time": "2025-08-19T18:31:11.440778",
     "status": "completed"
    },
    "tags": []
   },
   "outputs": [],
   "source": [
    "cp_metrics_dict = {\n",
    "    \"universe_id\": [universe_id],\n",
    "    \"universe_training_year\": [universe_training_year],\n",
    "    \"universe_training_size\": [universe_training_size],\n",
    "    \"universe_scale\": [universe_scale],\n",
    "    \"universe_model\": [universe_model],\n",
    "    \"universe_exclude_features\": [universe_exclude_features],\n",
    "    \"universe_exclude_subgroups\": [universe_exclude_subgroups],\n",
    "    \"q_hat\": [q_hat],\n",
    "    \"coverage\": [metrics[\"coverage\"]],\n",
    "    \"avg_size\": [metrics[\"avg_size\"]],\n",
    "}"
   ]
  },
  {
   "cell_type": "code",
   "execution_count": 49,
   "id": "0d70d4b2",
   "metadata": {
    "execution": {
     "iopub.execute_input": "2025-08-19T18:31:11.486427Z",
     "iopub.status.busy": "2025-08-19T18:31:11.485956Z",
     "iopub.status.idle": "2025-08-19T18:31:11.495226Z",
     "shell.execute_reply": "2025-08-19T18:31:11.491949Z"
    },
    "papermill": {
     "duration": 0.024164,
     "end_time": "2025-08-19T18:31:11.497125",
     "exception": false,
     "start_time": "2025-08-19T18:31:11.472961",
     "status": "completed"
    },
    "tags": []
   },
   "outputs": [],
   "source": [
    "cp_metrics_df = pd.DataFrame(cp_metrics_dict)"
   ]
  },
  {
   "cell_type": "code",
   "execution_count": 50,
   "id": "b494403c",
   "metadata": {
    "execution": {
     "iopub.execute_input": "2025-08-19T18:31:11.525597Z",
     "iopub.status.busy": "2025-08-19T18:31:11.524561Z",
     "iopub.status.idle": "2025-08-19T18:31:11.542152Z",
     "shell.execute_reply": "2025-08-19T18:31:11.541393Z"
    },
    "papermill": {
     "duration": 0.031938,
     "end_time": "2025-08-19T18:31:11.543484",
     "exception": false,
     "start_time": "2025-08-19T18:31:11.511546",
     "status": "completed"
    },
    "tags": []
   },
   "outputs": [
    {
     "data": {
      "text/html": [
       "<div>\n",
       "<style scoped>\n",
       "    .dataframe tbody tr th:only-of-type {\n",
       "        vertical-align: middle;\n",
       "    }\n",
       "\n",
       "    .dataframe tbody tr th {\n",
       "        vertical-align: top;\n",
       "    }\n",
       "\n",
       "    .dataframe thead th {\n",
       "        text-align: right;\n",
       "    }\n",
       "</style>\n",
       "<table border=\"1\" class=\"dataframe\">\n",
       "  <thead>\n",
       "    <tr style=\"text-align: right;\">\n",
       "      <th></th>\n",
       "      <th>universe_id</th>\n",
       "      <th>universe_training_year</th>\n",
       "      <th>universe_training_size</th>\n",
       "      <th>universe_scale</th>\n",
       "      <th>universe_model</th>\n",
       "      <th>universe_exclude_features</th>\n",
       "      <th>universe_exclude_subgroups</th>\n",
       "      <th>q_hat</th>\n",
       "      <th>coverage</th>\n",
       "      <th>avg_size</th>\n",
       "    </tr>\n",
       "  </thead>\n",
       "  <tbody>\n",
       "    <tr>\n",
       "      <th>0</th>\n",
       "      <td>e47fc9131ed27324c51f3680492c9ed2</td>\n",
       "      <td>2012_14</td>\n",
       "      <td>5k</td>\n",
       "      <td>scale</td>\n",
       "      <td>logreg</td>\n",
       "      <td>nationality</td>\n",
       "      <td>keep-all</td>\n",
       "      <td>0.686006</td>\n",
       "      <td>0.910813</td>\n",
       "      <td>1.137198</td>\n",
       "    </tr>\n",
       "  </tbody>\n",
       "</table>\n",
       "</div>"
      ],
      "text/plain": [
       "                        universe_id universe_training_year  \\\n",
       "0  e47fc9131ed27324c51f3680492c9ed2                2012_14   \n",
       "\n",
       "  universe_training_size universe_scale universe_model  \\\n",
       "0                     5k          scale         logreg   \n",
       "\n",
       "  universe_exclude_features universe_exclude_subgroups     q_hat  coverage  \\\n",
       "0               nationality                   keep-all  0.686006  0.910813   \n",
       "\n",
       "   avg_size  \n",
       "0  1.137198  "
      ]
     },
     "execution_count": 50,
     "metadata": {},
     "output_type": "execute_result"
    }
   ],
   "source": [
    "cp_metrics_df"
   ]
  },
  {
   "cell_type": "markdown",
   "id": "ed608b0b",
   "metadata": {
    "papermill": {
     "duration": 0.012121,
     "end_time": "2025-08-19T18:31:11.571470",
     "exception": false,
     "start_time": "2025-08-19T18:31:11.559349",
     "status": "completed"
    },
    "tags": []
   },
   "source": [
    "Conditional coverage & looking at subgroups"
   ]
  },
  {
   "cell_type": "code",
   "execution_count": 51,
   "id": "8968c366",
   "metadata": {
    "execution": {
     "iopub.execute_input": "2025-08-19T18:31:11.597915Z",
     "iopub.status.busy": "2025-08-19T18:31:11.596715Z",
     "iopub.status.idle": "2025-08-19T18:31:11.982196Z",
     "shell.execute_reply": "2025-08-19T18:31:11.981074Z"
    },
    "papermill": {
     "duration": 0.400918,
     "end_time": "2025-08-19T18:31:11.984112",
     "exception": false,
     "start_time": "2025-08-19T18:31:11.583194",
     "status": "completed"
    },
    "tags": []
   },
   "outputs": [],
   "source": [
    "from fairness_multiverse.conformal import build_cp_groups\n",
    "\n",
    "cp_groups_df = build_cp_groups(pred_sets, y_true, X_test.index, org_test)"
   ]
  },
  {
   "cell_type": "code",
   "execution_count": 52,
   "id": "292ddabf",
   "metadata": {
    "execution": {
     "iopub.execute_input": "2025-08-19T18:31:12.031682Z",
     "iopub.status.busy": "2025-08-19T18:31:12.030540Z",
     "iopub.status.idle": "2025-08-19T18:31:13.026646Z",
     "shell.execute_reply": "2025-08-19T18:31:13.025200Z"
    },
    "papermill": {
     "duration": 1.025876,
     "end_time": "2025-08-19T18:31:13.028506",
     "exception": false,
     "start_time": "2025-08-19T18:31:12.002630",
     "status": "completed"
    },
    "tags": []
   },
   "outputs": [],
   "source": [
    "# Define covered = 1 if true_label is in the predicted set\n",
    "cp_groups_df['covered'] = cp_groups_df.apply(\n",
    "    lambda r: int(r['true_label'] in r['pred_set']),\n",
    "    axis=1\n",
    ")"
   ]
  },
  {
   "cell_type": "code",
   "execution_count": 53,
   "id": "3a261692",
   "metadata": {
    "execution": {
     "iopub.execute_input": "2025-08-19T18:31:13.073098Z",
     "iopub.status.busy": "2025-08-19T18:31:13.056830Z",
     "iopub.status.idle": "2025-08-19T18:31:13.088635Z",
     "shell.execute_reply": "2025-08-19T18:31:13.087823Z"
    },
    "papermill": {
     "duration": 0.048473,
     "end_time": "2025-08-19T18:31:13.091328",
     "exception": false,
     "start_time": "2025-08-19T18:31:13.042855",
     "status": "completed"
    },
    "tags": []
   },
   "outputs": [],
   "source": [
    "subgroups = ['frau1','nongerman','nongerman_male','nongerman_female']\n",
    "\n",
    "# Conditional coverage for subgroup==1\n",
    "cond_coverage = {\n",
    "    g: cp_groups_df.loc[cp_groups_df[g]==1, 'covered'].mean()\n",
    "    for g in subgroups\n",
    "}"
   ]
  },
  {
   "cell_type": "code",
   "execution_count": 54,
   "id": "894fd600",
   "metadata": {
    "execution": {
     "iopub.execute_input": "2025-08-19T18:31:13.157077Z",
     "iopub.status.busy": "2025-08-19T18:31:13.156151Z",
     "iopub.status.idle": "2025-08-19T18:31:13.164523Z",
     "shell.execute_reply": "2025-08-19T18:31:13.163567Z"
    },
    "papermill": {
     "duration": 0.049863,
     "end_time": "2025-08-19T18:31:13.166726",
     "exception": false,
     "start_time": "2025-08-19T18:31:13.116863",
     "status": "completed"
    },
    "tags": []
   },
   "outputs": [
    {
     "data": {
      "text/plain": [
       "{'frau1': 0.9055398301657905,\n",
       " 'nongerman': 0.9107393476674339,\n",
       " 'nongerman_male': 0.9286679275871386,\n",
       " 'nongerman_female': 0.8810730253353204}"
      ]
     },
     "execution_count": 54,
     "metadata": {},
     "output_type": "execute_result"
    }
   ],
   "source": [
    "cond_coverage"
   ]
  },
  {
   "cell_type": "code",
   "execution_count": 55,
   "id": "942895c7",
   "metadata": {
    "execution": {
     "iopub.execute_input": "2025-08-19T18:31:13.212605Z",
     "iopub.status.busy": "2025-08-19T18:31:13.211703Z",
     "iopub.status.idle": "2025-08-19T18:31:13.221378Z",
     "shell.execute_reply": "2025-08-19T18:31:13.220215Z"
    },
    "papermill": {
     "duration": 0.041877,
     "end_time": "2025-08-19T18:31:13.223165",
     "exception": false,
     "start_time": "2025-08-19T18:31:13.181288",
     "status": "completed"
    },
    "tags": []
   },
   "outputs": [],
   "source": [
    "for subgroup, cov in cond_coverage.items():\n",
    "    cp_metrics_df[f\"cov_{subgroup}\"] = cov"
   ]
  },
  {
   "cell_type": "code",
   "execution_count": 56,
   "id": "3970120f",
   "metadata": {
    "execution": {
     "iopub.execute_input": "2025-08-19T18:31:13.258795Z",
     "iopub.status.busy": "2025-08-19T18:31:13.257677Z",
     "iopub.status.idle": "2025-08-19T18:31:13.303712Z",
     "shell.execute_reply": "2025-08-19T18:31:13.302219Z"
    },
    "papermill": {
     "duration": 0.064341,
     "end_time": "2025-08-19T18:31:13.307025",
     "exception": false,
     "start_time": "2025-08-19T18:31:13.242684",
     "status": "completed"
    },
    "tags": []
   },
   "outputs": [
    {
     "data": {
      "text/html": [
       "<div>\n",
       "<style scoped>\n",
       "    .dataframe tbody tr th:only-of-type {\n",
       "        vertical-align: middle;\n",
       "    }\n",
       "\n",
       "    .dataframe tbody tr th {\n",
       "        vertical-align: top;\n",
       "    }\n",
       "\n",
       "    .dataframe thead th {\n",
       "        text-align: right;\n",
       "    }\n",
       "</style>\n",
       "<table border=\"1\" class=\"dataframe\">\n",
       "  <thead>\n",
       "    <tr style=\"text-align: right;\">\n",
       "      <th></th>\n",
       "      <th>universe_id</th>\n",
       "      <th>universe_training_year</th>\n",
       "      <th>universe_training_size</th>\n",
       "      <th>universe_scale</th>\n",
       "      <th>universe_model</th>\n",
       "      <th>universe_exclude_features</th>\n",
       "      <th>universe_exclude_subgroups</th>\n",
       "      <th>q_hat</th>\n",
       "      <th>coverage</th>\n",
       "      <th>avg_size</th>\n",
       "      <th>cov_frau1</th>\n",
       "      <th>cov_nongerman</th>\n",
       "      <th>cov_nongerman_male</th>\n",
       "      <th>cov_nongerman_female</th>\n",
       "    </tr>\n",
       "  </thead>\n",
       "  <tbody>\n",
       "    <tr>\n",
       "      <th>0</th>\n",
       "      <td>e47fc9131ed27324c51f3680492c9ed2</td>\n",
       "      <td>2012_14</td>\n",
       "      <td>5k</td>\n",
       "      <td>scale</td>\n",
       "      <td>logreg</td>\n",
       "      <td>nationality</td>\n",
       "      <td>keep-all</td>\n",
       "      <td>0.686006</td>\n",
       "      <td>0.910813</td>\n",
       "      <td>1.137198</td>\n",
       "      <td>0.90554</td>\n",
       "      <td>0.910739</td>\n",
       "      <td>0.928668</td>\n",
       "      <td>0.881073</td>\n",
       "    </tr>\n",
       "  </tbody>\n",
       "</table>\n",
       "</div>"
      ],
      "text/plain": [
       "                        universe_id universe_training_year  \\\n",
       "0  e47fc9131ed27324c51f3680492c9ed2                2012_14   \n",
       "\n",
       "  universe_training_size universe_scale universe_model  \\\n",
       "0                     5k          scale         logreg   \n",
       "\n",
       "  universe_exclude_features universe_exclude_subgroups     q_hat  coverage  \\\n",
       "0               nationality                   keep-all  0.686006  0.910813   \n",
       "\n",
       "   avg_size  cov_frau1  cov_nongerman  cov_nongerman_male  \\\n",
       "0  1.137198    0.90554       0.910739            0.928668   \n",
       "\n",
       "   cov_nongerman_female  \n",
       "0              0.881073  "
      ]
     },
     "execution_count": 56,
     "metadata": {},
     "output_type": "execute_result"
    }
   ],
   "source": [
    "cp_metrics_df"
   ]
  },
  {
   "cell_type": "markdown",
   "id": "3fc519cc",
   "metadata": {
    "papermill": {
     "duration": 0.026463,
     "end_time": "2025-08-19T18:31:13.367709",
     "exception": false,
     "start_time": "2025-08-19T18:31:13.341246",
     "status": "completed"
    },
    "tags": []
   },
   "source": [
    "# (Fairness) Metrics"
   ]
  },
  {
   "cell_type": "code",
   "execution_count": 57,
   "id": "a2e5e155",
   "metadata": {
    "execution": {
     "iopub.execute_input": "2025-08-19T18:31:13.413483Z",
     "iopub.status.busy": "2025-08-19T18:31:13.412852Z",
     "iopub.status.idle": "2025-08-19T18:31:13.434016Z",
     "shell.execute_reply": "2025-08-19T18:31:13.432992Z"
    },
    "papermill": {
     "duration": 0.038956,
     "end_time": "2025-08-19T18:31:13.435893",
     "exception": false,
     "start_time": "2025-08-19T18:31:13.396937",
     "status": "completed"
    },
    "tags": []
   },
   "outputs": [],
   "source": [
    "colname_to_bin = \"maxdeutsch1\"\n",
    "majority_value = org_train[colname_to_bin].mode()[0]\n",
    "\n",
    "org_test[\"majmin\"] = np.where(org_test[colname_to_bin] == majority_value, \"majority\", \"minority\")"
   ]
  },
  {
   "cell_type": "code",
   "execution_count": 58,
   "id": "17e3e4d5",
   "metadata": {
    "execution": {
     "iopub.execute_input": "2025-08-19T18:31:13.467930Z",
     "iopub.status.busy": "2025-08-19T18:31:13.466723Z",
     "iopub.status.idle": "2025-08-19T18:31:15.445164Z",
     "shell.execute_reply": "2025-08-19T18:31:15.443292Z"
    },
    "papermill": {
     "duration": 1.994143,
     "end_time": "2025-08-19T18:31:15.447083",
     "exception": false,
     "start_time": "2025-08-19T18:31:13.452940",
     "status": "completed"
    },
    "tags": []
   },
   "outputs": [],
   "source": [
    "example_universe = universe.copy()\n",
    "example_universe[\"cutoff\"] = example_universe[\"cutoff\"][0]\n",
    "example_universe[\"eval_fairness_grouping\"] = example_universe[\"eval_fairness_grouping\"][0]\n",
    "fairness_dict, metric_frame = universe_analysis.compute_metrics(\n",
    "    example_universe,\n",
    "    y_pred_prob=probs_test,\n",
    "    y_test=y_true,\n",
    "    org_test=org_test,\n",
    ")"
   ]
  },
  {
   "cell_type": "markdown",
   "id": "1fb7a0e9",
   "metadata": {
    "papermill": {
     "duration": 0.013889,
     "end_time": "2025-08-19T18:31:15.489225",
     "exception": false,
     "start_time": "2025-08-19T18:31:15.475336",
     "status": "completed"
    },
    "tags": []
   },
   "source": [
    "# Overall"
   ]
  },
  {
   "cell_type": "markdown",
   "id": "be1784b1",
   "metadata": {
    "papermill": {
     "duration": 0.012912,
     "end_time": "2025-08-19T18:31:15.514536",
     "exception": false,
     "start_time": "2025-08-19T18:31:15.501624",
     "status": "completed"
    },
    "tags": []
   },
   "source": [
    "Main fairness target: Equalized Odds. Seems to be a better fit than equal opportunity, since we're not only interested in Y = 1. Seems to be a better fit than demographic parity, since we also care about accuracy, not just equal distribution of preds.\n",
    "\n",
    "Pick column for computation of fairness metrics\n",
    "\n",
    "Performance\n",
    "Overall performance measures, most interesting in relation to the measures split by group below"
   ]
  },
  {
   "cell_type": "code",
   "execution_count": 59,
   "id": "b7672bee",
   "metadata": {
    "execution": {
     "iopub.execute_input": "2025-08-19T18:31:15.543681Z",
     "iopub.status.busy": "2025-08-19T18:31:15.542336Z",
     "iopub.status.idle": "2025-08-19T18:31:15.571846Z",
     "shell.execute_reply": "2025-08-19T18:31:15.570636Z"
    },
    "papermill": {
     "duration": 0.046797,
     "end_time": "2025-08-19T18:31:15.573764",
     "exception": false,
     "start_time": "2025-08-19T18:31:15.526967",
     "status": "completed"
    },
    "tags": []
   },
   "outputs": [
    {
     "data": {
      "text/plain": [
       "accuracy                   0.223955\n",
       "balanced accuracy          0.547689\n",
       "f1                         0.245298\n",
       "precision                  0.140131\n",
       "false positive rate        0.887765\n",
       "false negative rate        0.016858\n",
       "selection rate             0.900000\n",
       "count                  89710.000000\n",
       "dtype: float64"
      ]
     },
     "execution_count": 59,
     "metadata": {},
     "output_type": "execute_result"
    }
   ],
   "source": [
    "metric_frame.overall"
   ]
  },
  {
   "cell_type": "markdown",
   "id": "d93333c9",
   "metadata": {
    "papermill": {
     "duration": 0.014201,
     "end_time": "2025-08-19T18:31:15.613951",
     "exception": false,
     "start_time": "2025-08-19T18:31:15.599750",
     "status": "completed"
    },
    "tags": []
   },
   "source": [
    "By Group"
   ]
  },
  {
   "cell_type": "code",
   "execution_count": 60,
   "id": "52256966",
   "metadata": {
    "execution": {
     "iopub.execute_input": "2025-08-19T18:31:15.643029Z",
     "iopub.status.busy": "2025-08-19T18:31:15.641402Z",
     "iopub.status.idle": "2025-08-19T18:31:15.665359Z",
     "shell.execute_reply": "2025-08-19T18:31:15.664563Z"
    },
    "papermill": {
     "duration": 0.040611,
     "end_time": "2025-08-19T18:31:15.667184",
     "exception": false,
     "start_time": "2025-08-19T18:31:15.626573",
     "status": "completed"
    },
    "tags": []
   },
   "outputs": [
    {
     "data": {
      "text/html": [
       "<div>\n",
       "<style scoped>\n",
       "    .dataframe tbody tr th:only-of-type {\n",
       "        vertical-align: middle;\n",
       "    }\n",
       "\n",
       "    .dataframe tbody tr th {\n",
       "        vertical-align: top;\n",
       "    }\n",
       "\n",
       "    .dataframe thead th {\n",
       "        text-align: right;\n",
       "    }\n",
       "</style>\n",
       "<table border=\"1\" class=\"dataframe\">\n",
       "  <thead>\n",
       "    <tr style=\"text-align: right;\">\n",
       "      <th></th>\n",
       "      <th>accuracy</th>\n",
       "      <th>balanced accuracy</th>\n",
       "      <th>f1</th>\n",
       "      <th>precision</th>\n",
       "      <th>false positive rate</th>\n",
       "      <th>false negative rate</th>\n",
       "      <th>selection rate</th>\n",
       "      <th>count</th>\n",
       "    </tr>\n",
       "    <tr>\n",
       "      <th>majmin</th>\n",
       "      <th></th>\n",
       "      <th></th>\n",
       "      <th></th>\n",
       "      <th></th>\n",
       "      <th></th>\n",
       "      <th></th>\n",
       "      <th></th>\n",
       "      <th></th>\n",
       "    </tr>\n",
       "  </thead>\n",
       "  <tbody>\n",
       "    <tr>\n",
       "      <th>majority</th>\n",
       "      <td>0.244210</td>\n",
       "      <td>0.556869</td>\n",
       "      <td>0.255575</td>\n",
       "      <td>0.146908</td>\n",
       "      <td>0.868099</td>\n",
       "      <td>0.018162</td>\n",
       "      <td>0.883129</td>\n",
       "      <td>69170.0</td>\n",
       "    </tr>\n",
       "    <tr>\n",
       "      <th>minority</th>\n",
       "      <td>0.155745</td>\n",
       "      <td>0.517723</td>\n",
       "      <td>0.212524</td>\n",
       "      <td>0.119066</td>\n",
       "      <td>0.952729</td>\n",
       "      <td>0.011824</td>\n",
       "      <td>0.956816</td>\n",
       "      <td>20540.0</td>\n",
       "    </tr>\n",
       "  </tbody>\n",
       "</table>\n",
       "</div>"
      ],
      "text/plain": [
       "          accuracy  balanced accuracy        f1  precision  \\\n",
       "majmin                                                       \n",
       "majority  0.244210           0.556869  0.255575   0.146908   \n",
       "minority  0.155745           0.517723  0.212524   0.119066   \n",
       "\n",
       "          false positive rate  false negative rate  selection rate    count  \n",
       "majmin                                                                       \n",
       "majority             0.868099             0.018162        0.883129  69170.0  \n",
       "minority             0.952729             0.011824        0.956816  20540.0  "
      ]
     },
     "execution_count": 60,
     "metadata": {},
     "output_type": "execute_result"
    }
   ],
   "source": [
    "metric_frame.by_group"
   ]
  },
  {
   "cell_type": "code",
   "execution_count": 61,
   "id": "6e6c20ae",
   "metadata": {
    "execution": {
     "iopub.execute_input": "2025-08-19T18:31:15.706998Z",
     "iopub.status.busy": "2025-08-19T18:31:15.706014Z",
     "iopub.status.idle": "2025-08-19T18:31:17.726709Z",
     "shell.execute_reply": "2025-08-19T18:31:17.724624Z"
    },
    "papermill": {
     "duration": 2.037528,
     "end_time": "2025-08-19T18:31:17.728509",
     "exception": false,
     "start_time": "2025-08-19T18:31:15.690981",
     "status": "completed"
    },
    "tags": []
   },
   "outputs": [
    {
     "data": {
      "text/plain": [
       "array([[<Axes: title={'center': 'accuracy'}, xlabel='majmin'>,\n",
       "        <Axes: title={'center': 'balanced accuracy'}, xlabel='majmin'>,\n",
       "        <Axes: title={'center': 'f1'}, xlabel='majmin'>],\n",
       "       [<Axes: title={'center': 'precision'}, xlabel='majmin'>,\n",
       "        <Axes: title={'center': 'false positive rate'}, xlabel='majmin'>,\n",
       "        <Axes: title={'center': 'false negative rate'}, xlabel='majmin'>],\n",
       "       [<Axes: title={'center': 'selection rate'}, xlabel='majmin'>,\n",
       "        <Axes: title={'center': 'count'}, xlabel='majmin'>,\n",
       "        <Axes: xlabel='majmin'>]], dtype=object)"
      ]
     },
     "execution_count": 61,
     "metadata": {},
     "output_type": "execute_result"
    },
    {
     "data": {
      "image/png": "[encoded data removed]",
      "text/plain": [
       "<Figure size 1200x800 with 9 Axes>"
      ]
     },
     "metadata": {},
     "output_type": "display_data"
    }
   ],
   "source": [
    "# In a graphic\n",
    "metric_frame.by_group.plot.bar(\n",
    "    subplots=True,\n",
    "    layout=[3, 3],\n",
    "    legend=False,\n",
    "    figsize=[12, 8],\n",
    "    title=\"Show all metrics\",\n",
    ")"
   ]
  },
  {
   "cell_type": "markdown",
   "id": "b2e433ae",
   "metadata": {
    "papermill": {
     "duration": 0.023619,
     "end_time": "2025-08-19T18:31:17.768780",
     "exception": false,
     "start_time": "2025-08-19T18:31:17.745161",
     "status": "completed"
    },
    "tags": []
   },
   "source": [
    "# Final Output"
   ]
  },
  {
   "cell_type": "code",
   "execution_count": 62,
   "id": "3871301e",
   "metadata": {
    "execution": {
     "iopub.execute_input": "2025-08-19T18:31:17.799365Z",
     "iopub.status.busy": "2025-08-19T18:31:17.798468Z",
     "iopub.status.idle": "2025-08-19T18:31:17.808919Z",
     "shell.execute_reply": "2025-08-19T18:31:17.807885Z"
    },
    "papermill": {
     "duration": 0.027449,
     "end_time": "2025-08-19T18:31:17.810481",
     "exception": false,
     "start_time": "2025-08-19T18:31:17.783032",
     "status": "completed"
    },
    "tags": []
   },
   "outputs": [
    {
     "data": {
      "text/plain": [
       "4"
      ]
     },
     "execution_count": 62,
     "metadata": {},
     "output_type": "execute_result"
    }
   ],
   "source": [
    "sub_universes = universe_analysis.generate_sub_universes()\n",
    "len(sub_universes)"
   ]
  },
  {
   "cell_type": "code",
   "execution_count": 63,
   "id": "d9cfdaca",
   "metadata": {
    "execution": {
     "iopub.execute_input": "2025-08-19T18:31:17.872055Z",
     "iopub.status.busy": "2025-08-19T18:31:17.870911Z",
     "iopub.status.idle": "2025-08-19T18:31:17.881532Z",
     "shell.execute_reply": "2025-08-19T18:31:17.879805Z"
    },
    "papermill": {
     "duration": 0.045506,
     "end_time": "2025-08-19T18:31:17.883220",
     "exception": false,
     "start_time": "2025-08-19T18:31:17.837714",
     "status": "completed"
    },
    "tags": []
   },
   "outputs": [],
   "source": [
    "def filter_sub_universe_data(sub_universe, org_test):\n",
    "    # Keep all rows — no filtering\n",
    "    keep_rows_mask = np.ones(org_test.shape[0], dtype=bool)\n",
    "\n",
    "    print(f\"[INFO] Keeping all rows: {keep_rows_mask.sum()} rows retained.\")\n",
    "    return keep_rows_mask"
   ]
  },
  {
   "cell_type": "code",
   "execution_count": 64,
   "id": "2bc31ac1",
   "metadata": {
    "execution": {
     "iopub.execute_input": "2025-08-19T18:31:17.949962Z",
     "iopub.status.busy": "2025-08-19T18:31:17.948789Z",
     "iopub.status.idle": "2025-08-19T18:31:24.984598Z",
     "shell.execute_reply": "2025-08-19T18:31:24.983553Z"
    },
    "papermill": {
     "duration": 7.070574,
     "end_time": "2025-08-19T18:31:24.985836",
     "exception": false,
     "start_time": "2025-08-19T18:31:17.915262",
     "status": "completed"
    },
    "tags": []
   },
   "outputs": [
    {
     "name": "stdout",
     "output_type": "stream",
     "text": [
      "Stopping execution_time clock.\n",
      "[INFO] Keeping all rows: 89710 rows retained.\n"
     ]
    },
    {
     "name": "stdout",
     "output_type": "stream",
     "text": [
      "[INFO] Keeping all rows: 89710 rows retained.\n"
     ]
    },
    {
     "name": "stdout",
     "output_type": "stream",
     "text": [
      "[INFO] Keeping all rows: 89710 rows retained.\n"
     ]
    },
    {
     "name": "stdout",
     "output_type": "stream",
     "text": [
      "[INFO] Keeping all rows: 89710 rows retained.\n"
     ]
    },
    {
     "data": {
      "text/html": [
       "<div>\n",
       "<style scoped>\n",
       "    .dataframe tbody tr th:only-of-type {\n",
       "        vertical-align: middle;\n",
       "    }\n",
       "\n",
       "    .dataframe tbody tr th {\n",
       "        vertical-align: top;\n",
       "    }\n",
       "\n",
       "    .dataframe thead th {\n",
       "        text-align: right;\n",
       "    }\n",
       "</style>\n",
       "<table border=\"1\" class=\"dataframe\">\n",
       "  <thead>\n",
       "    <tr style=\"text-align: right;\">\n",
       "      <th></th>\n",
       "      <th>run_no</th>\n",
       "      <th>universe_id</th>\n",
       "      <th>universe_settings</th>\n",
       "      <th>execution_time</th>\n",
       "      <th>test_size_n</th>\n",
       "      <th>test_size_frac</th>\n",
       "      <th>fair_main_equalized_odds_difference</th>\n",
       "      <th>fair_main_equalized_odds_ratio</th>\n",
       "      <th>fair_main_demographic_parity_difference</th>\n",
       "      <th>fair_main_demographic_parity_ratio</th>\n",
       "      <th>...</th>\n",
       "      <th>perf_grp_precision_0</th>\n",
       "      <th>perf_grp_precision_1</th>\n",
       "      <th>perf_grp_false positive rate_0</th>\n",
       "      <th>perf_grp_false positive rate_1</th>\n",
       "      <th>perf_grp_false negative rate_0</th>\n",
       "      <th>perf_grp_false negative rate_1</th>\n",
       "      <th>perf_grp_selection rate_0</th>\n",
       "      <th>perf_grp_selection rate_1</th>\n",
       "      <th>perf_grp_count_0</th>\n",
       "      <th>perf_grp_count_1</th>\n",
       "    </tr>\n",
       "  </thead>\n",
       "  <tbody>\n",
       "    <tr>\n",
       "      <th>0</th>\n",
       "      <td>3</td>\n",
       "      <td>e47fc9131ed27324c51f3680492c9ed2</td>\n",
       "      <td>{\"cutoff\": \"quantile_0.1\", \"eval_fairness_grou...</td>\n",
       "      <td>23.252608</td>\n",
       "      <td>89710</td>\n",
       "      <td>1.0</td>\n",
       "      <td>0.08463</td>\n",
       "      <td>0.911171</td>\n",
       "      <td>0.073687</td>\n",
       "      <td>0.922987</td>\n",
       "      <td>...</td>\n",
       "      <td>NaN</td>\n",
       "      <td>NaN</td>\n",
       "      <td>NaN</td>\n",
       "      <td>NaN</td>\n",
       "      <td>NaN</td>\n",
       "      <td>NaN</td>\n",
       "      <td>NaN</td>\n",
       "      <td>NaN</td>\n",
       "      <td>NaN</td>\n",
       "      <td>NaN</td>\n",
       "    </tr>\n",
       "    <tr>\n",
       "      <th>0</th>\n",
       "      <td>3</td>\n",
       "      <td>e47fc9131ed27324c51f3680492c9ed2</td>\n",
       "      <td>{\"cutoff\": \"quantile_0.1\", \"eval_fairness_grou...</td>\n",
       "      <td>23.252608</td>\n",
       "      <td>89710</td>\n",
       "      <td>1.0</td>\n",
       "      <td>0.08463</td>\n",
       "      <td>0.911171</td>\n",
       "      <td>0.073687</td>\n",
       "      <td>0.922987</td>\n",
       "      <td>...</td>\n",
       "      <td>0.119066</td>\n",
       "      <td>0.146908</td>\n",
       "      <td>0.952729</td>\n",
       "      <td>0.868099</td>\n",
       "      <td>0.011824</td>\n",
       "      <td>0.018162</td>\n",
       "      <td>0.956816</td>\n",
       "      <td>0.883129</td>\n",
       "      <td>20540.0</td>\n",
       "      <td>69170.0</td>\n",
       "    </tr>\n",
       "    <tr>\n",
       "      <th>0</th>\n",
       "      <td>3</td>\n",
       "      <td>e47fc9131ed27324c51f3680492c9ed2</td>\n",
       "      <td>{\"cutoff\": \"quantile_0.25\", \"eval_fairness_gro...</td>\n",
       "      <td>23.252608</td>\n",
       "      <td>89710</td>\n",
       "      <td>1.0</td>\n",
       "      <td>0.16345</td>\n",
       "      <td>0.807254</td>\n",
       "      <td>0.142646</td>\n",
       "      <td>0.834128</td>\n",
       "      <td>...</td>\n",
       "      <td>NaN</td>\n",
       "      <td>NaN</td>\n",
       "      <td>NaN</td>\n",
       "      <td>NaN</td>\n",
       "      <td>NaN</td>\n",
       "      <td>NaN</td>\n",
       "      <td>NaN</td>\n",
       "      <td>NaN</td>\n",
       "      <td>NaN</td>\n",
       "      <td>NaN</td>\n",
       "    </tr>\n",
       "    <tr>\n",
       "      <th>0</th>\n",
       "      <td>3</td>\n",
       "      <td>e47fc9131ed27324c51f3680492c9ed2</td>\n",
       "      <td>{\"cutoff\": \"quantile_0.25\", \"eval_fairness_gro...</td>\n",
       "      <td>23.252608</td>\n",
       "      <td>89710</td>\n",
       "      <td>1.0</td>\n",
       "      <td>0.16345</td>\n",
       "      <td>0.807254</td>\n",
       "      <td>0.142646</td>\n",
       "      <td>0.834128</td>\n",
       "      <td>...</td>\n",
       "      <td>0.127604</td>\n",
       "      <td>0.171792</td>\n",
       "      <td>0.848008</td>\n",
       "      <td>0.684558</td>\n",
       "      <td>0.048142</td>\n",
       "      <td>0.067396</td>\n",
       "      <td>0.859981</td>\n",
       "      <td>0.717334</td>\n",
       "      <td>20540.0</td>\n",
       "      <td>69170.0</td>\n",
       "    </tr>\n",
       "  </tbody>\n",
       "</table>\n",
       "<p>4 rows × 50 columns</p>\n",
       "</div>"
      ],
      "text/plain": [
       "  run_no                       universe_id  \\\n",
       "0      3  e47fc9131ed27324c51f3680492c9ed2   \n",
       "0      3  e47fc9131ed27324c51f3680492c9ed2   \n",
       "0      3  e47fc9131ed27324c51f3680492c9ed2   \n",
       "0      3  e47fc9131ed27324c51f3680492c9ed2   \n",
       "\n",
       "                                   universe_settings  execution_time  \\\n",
       "0  {\"cutoff\": \"quantile_0.1\", \"eval_fairness_grou...       23.252608   \n",
       "0  {\"cutoff\": \"quantile_0.1\", \"eval_fairness_grou...       23.252608   \n",
       "0  {\"cutoff\": \"quantile_0.25\", \"eval_fairness_gro...       23.252608   \n",
       "0  {\"cutoff\": \"quantile_0.25\", \"eval_fairness_gro...       23.252608   \n",
       "\n",
       "   test_size_n  test_size_frac  fair_main_equalized_odds_difference  \\\n",
       "0        89710             1.0                              0.08463   \n",
       "0        89710             1.0                              0.08463   \n",
       "0        89710             1.0                              0.16345   \n",
       "0        89710             1.0                              0.16345   \n",
       "\n",
       "   fair_main_equalized_odds_ratio  fair_main_demographic_parity_difference  \\\n",
       "0                        0.911171                                 0.073687   \n",
       "0                        0.911171                                 0.073687   \n",
       "0                        0.807254                                 0.142646   \n",
       "0                        0.807254                                 0.142646   \n",
       "\n",
       "   fair_main_demographic_parity_ratio  ...  perf_grp_precision_0  \\\n",
       "0                            0.922987  ...                   NaN   \n",
       "0                            0.922987  ...              0.119066   \n",
       "0                            0.834128  ...                   NaN   \n",
       "0                            0.834128  ...              0.127604   \n",
       "\n",
       "   perf_grp_precision_1  perf_grp_false positive rate_0  \\\n",
       "0                   NaN                             NaN   \n",
       "0              0.146908                        0.952729   \n",
       "0                   NaN                             NaN   \n",
       "0              0.171792                        0.848008   \n",
       "\n",
       "   perf_grp_false positive rate_1  perf_grp_false negative rate_0  \\\n",
       "0                             NaN                             NaN   \n",
       "0                        0.868099                        0.011824   \n",
       "0                             NaN                             NaN   \n",
       "0                        0.684558                        0.048142   \n",
       "\n",
       "   perf_grp_false negative rate_1  perf_grp_selection rate_0  \\\n",
       "0                             NaN                        NaN   \n",
       "0                        0.018162                   0.956816   \n",
       "0                             NaN                        NaN   \n",
       "0                        0.067396                   0.859981   \n",
       "\n",
       "   perf_grp_selection rate_1  perf_grp_count_0  perf_grp_count_1  \n",
       "0                        NaN               NaN               NaN  \n",
       "0                   0.883129           20540.0           69170.0  \n",
       "0                        NaN               NaN               NaN  \n",
       "0                   0.717334           20540.0           69170.0  \n",
       "\n",
       "[4 rows x 50 columns]"
      ]
     },
     "execution_count": 64,
     "metadata": {},
     "output_type": "execute_result"
    }
   ],
   "source": [
    "final_output = universe_analysis.generate_final_output(\n",
    "    y_pred_prob=probs_test,\n",
    "    y_test=y_true,\n",
    "    org_test=org_test,\n",
    "    filter_data=filter_sub_universe_data,\n",
    "    cp_metrics_df=cp_metrics_df,\n",
    "    save=True,\n",
    ")\n",
    "final_output"
   ]
  },
  {
   "cell_type": "code",
   "execution_count": null,
   "id": "8b80a1ff",
   "metadata": {
    "papermill": {
     "duration": 0.038381,
     "end_time": "2025-08-19T18:31:25.046023",
     "exception": false,
     "start_time": "2025-08-19T18:31:25.007642",
     "status": "completed"
    },
    "tags": []
   },
   "outputs": [],
   "source": []
  },
  {
   "cell_type": "code",
   "execution_count": null,
   "id": "275c9fad",
   "metadata": {
    "papermill": {
     "duration": 0.014694,
     "end_time": "2025-08-19T18:31:25.084566",
     "exception": false,
     "start_time": "2025-08-19T18:31:25.069872",
     "status": "completed"
    },
    "tags": []
   },
   "outputs": [],
   "source": []
  }
 ],
 "metadata": {
  "celltoolbar": "Tags",
  "kernelspec": {
   "display_name": "Python (CMA Fairness)",
   "language": "python",
   "name": "cma_fair_env"
  },
  "language_info": {
   "codemirror_mode": {
    "name": "ipython",
    "version": 3
   },
   "file_extension": ".py",
   "mimetype": "text/x-python",
   "name": "python",
   "nbconvert_exporter": "python",
   "pygments_lexer": "ipython3",
   "version": "3.10.12"
  },
  "papermill": {
   "default_parameters": {},
   "duration": 34.194188,
   "end_time": "2025-08-19T18:31:26.026027",
   "environment_variables": {},
   "exception": null,
   "input_path": "universe_analysis.ipynb",
   "output_path": "output/runs/3/notebooks/m_3-e47fc9131ed27324c51f3680492c9ed2.ipynb",
   "parameters": {
    "output_dir": "output",
    "run_no": "3",
    "seed": "2023",
    "universe": "{\"cutoff\": [\"quantile_0.1\", \"quantile_0.25\"], \"eval_fairness_grouping\": [\"majority-minority\", \"nationality-all\"], \"exclude_features\": \"nationality\", \"exclude_subgroups\": \"keep-all\", \"model\": \"logreg\", \"scale\": \"scale\", \"training_size\": \"5k\", \"training_year\": \"2012_14\"}",
    "universe_id": "e47fc9131ed27324c51f3680492c9ed2"
   },
   "start_time": "2025-08-19T18:30:51.831839",
   "version": "2.6.0"
  }
 },
 "nbformat": 4,
 "nbformat_minor": 5
}