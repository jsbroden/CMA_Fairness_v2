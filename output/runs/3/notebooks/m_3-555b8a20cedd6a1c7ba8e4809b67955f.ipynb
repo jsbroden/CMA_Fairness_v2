{
 "cells": [
  {
   "cell_type": "markdown",
   "id": "ef23dbb3",
   "metadata": {
    "papermill": {
     "duration": 0.022221,
     "end_time": "2025-08-19T18:06:34.806231",
     "exception": false,
     "start_time": "2025-08-19T18:06:34.784010",
     "status": "completed"
    },
    "tags": []
   },
   "source": [
    "# Setup"
   ]
  },
  {
   "cell_type": "code",
   "execution_count": 1,
   "id": "0bc8e7dc",
   "metadata": {
    "execution": {
     "iopub.execute_input": "2025-08-19T18:06:34.830176Z",
     "iopub.status.busy": "2025-08-19T18:06:34.828841Z",
     "iopub.status.idle": "2025-08-19T18:06:34.850118Z",
     "shell.execute_reply": "2025-08-19T18:06:34.849077Z"
    },
    "papermill": {
     "duration": 0.03393,
     "end_time": "2025-08-19T18:06:34.851817",
     "exception": false,
     "start_time": "2025-08-19T18:06:34.817887",
     "status": "completed"
    },
    "tags": []
   },
   "outputs": [
    {
     "name": "stdout",
     "output_type": "stream",
     "text": [
      "/dss/dsshome1/0C/ra93lal2/cma/CMA_Fairness_v2\n"
     ]
    },
    {
     "name": "stderr",
     "output_type": "stream",
     "text": [
      "/dss/dsshome1/0C/ra93lal2/.local/share/virtualenvs/CMA_Fairness_v2-3j10GkSs/lib/python3.10/site-packages/IPython/core/magics/osm.py:393: UserWarning: This is now an optional IPython functionality, using bookmarks requires you to install the `pickleshare` library.\n",
      "  bkms = self.shell.db.get('bookmarks', {})\n",
      "/dss/dsshome1/0C/ra93lal2/.local/share/virtualenvs/CMA_Fairness_v2-3j10GkSs/lib/python3.10/site-packages/IPython/core/magics/osm.py:417: UserWarning: This is now an optional IPython functionality, setting dhist requires you to install the `pickleshare` library.\n",
      "  self.shell.db['dhist'] = compress_dhist(dhist)[-100:]\n"
     ]
    }
   ],
   "source": [
    "%cd ~/cma/CMA_Fairness_v2"
   ]
  },
  {
   "cell_type": "markdown",
   "id": "9d235661",
   "metadata": {
    "papermill": {
     "duration": 0.01083,
     "end_time": "2025-08-19T18:06:34.878572",
     "exception": false,
     "start_time": "2025-08-19T18:06:34.867742",
     "status": "completed"
    },
    "tags": []
   },
   "source": [
    "The following cell holds the definition of our parameters, these values can be overriden by rendering the with e.g. the following command:\n",
    "\n",
    "papermill -p alpha 0.2 -p ratio 0.3 universe_analysis.ipynb output/test_run.ipynb"
   ]
  },
  {
   "cell_type": "code",
   "execution_count": 2,
   "id": "4a789d8e",
   "metadata": {
    "execution": {
     "iopub.execute_input": "2025-08-19T18:06:34.899384Z",
     "iopub.status.busy": "2025-08-19T18:06:34.898090Z",
     "iopub.status.idle": "2025-08-19T18:06:34.908148Z",
     "shell.execute_reply": "2025-08-19T18:06:34.906711Z"
    },
    "papermill": {
     "duration": 0.023968,
     "end_time": "2025-08-19T18:06:34.911365",
     "exception": false,
     "start_time": "2025-08-19T18:06:34.887397",
     "status": "completed"
    },
    "tags": []
   },
   "outputs": [
    {
     "name": "stdout",
     "output_type": "stream",
     "text": [
      "Current working directory: /dss/dsshome1/0C/ra93lal2/cma/CMA_Fairness_v2\n"
     ]
    }
   ],
   "source": [
    "import os\n",
    "print(\"Current working directory:\", os.getcwd())"
   ]
  },
  {
   "cell_type": "code",
   "execution_count": 3,
   "id": "4132aaed",
   "metadata": {
    "execution": {
     "iopub.execute_input": "2025-08-19T18:06:34.949846Z",
     "iopub.status.busy": "2025-08-19T18:06:34.948605Z",
     "iopub.status.idle": "2025-08-19T18:06:34.959645Z",
     "shell.execute_reply": "2025-08-19T18:06:34.957774Z"
    },
    "papermill": {
     "duration": 0.026815,
     "end_time": "2025-08-19T18:06:34.961246",
     "exception": false,
     "start_time": "2025-08-19T18:06:34.934431",
     "status": "completed"
    },
    "tags": [
     "parameters"
    ]
   },
   "outputs": [],
   "source": [
    "run_no = 0\n",
    "universe_id = \"test\"\n",
    "universe = {\n",
    "    \"training_size\": \"5k\", # \"25k\", \"5k\", \"1k\"\n",
    "    \"training_year\": \"2012_14\", # \"2014\", \"2012_14\", \"2010_14\"\n",
    "    \"scale\": \"scale\", # \"scale\", \"do-not-scale\",\n",
    "    \"model\": \"elasticnet\", # \"logreg\", \"penalized_logreg\", \"rf\", \"gbm\", \"elasticnet\"\n",
    "    \"cutoff\": [\"quantile_0.15\", \"quantile_0.30\"],\n",
    "    \"exclude_features\": \"age\", # \"none\", \"nationality\", \"sex\", \"nationality-sex\", \"age\"\n",
    "    \"exclude_subgroups\": \"drop-non-german\", # \"keep-all\", \"drop-non-german\"\n",
    "    \"eval_fairness_grouping\": [\"majority-minority\", \"nationality-all\"]\n",
    "}\n",
    "\n",
    "output_dir=\"./output\"\n",
    "seed=0"
   ]
  },
  {
   "cell_type": "code",
   "execution_count": 4,
   "id": "f214139a",
   "metadata": {
    "execution": {
     "iopub.execute_input": "2025-08-19T18:06:34.989844Z",
     "iopub.status.busy": "2025-08-19T18:06:34.988625Z",
     "iopub.status.idle": "2025-08-19T18:06:34.997832Z",
     "shell.execute_reply": "2025-08-19T18:06:34.996307Z"
    },
    "papermill": {
     "duration": 0.023658,
     "end_time": "2025-08-19T18:06:34.999355",
     "exception": false,
     "start_time": "2025-08-19T18:06:34.975697",
     "status": "completed"
    },
    "tags": [
     "injected-parameters"
    ]
   },
   "outputs": [],
   "source": [
    "# Parameters\n",
    "universe_id = \"555b8a20cedd6a1c7ba8e4809b67955f\"\n",
    "run_no = \"3\"\n",
    "universe = \"{\\\"cutoff\\\": [\\\"quantile_0.1\\\", \\\"quantile_0.25\\\"], \\\"eval_fairness_grouping\\\": [\\\"majority-minority\\\", \\\"nationality-all\\\"], \\\"exclude_features\\\": \\\"none\\\", \\\"exclude_subgroups\\\": \\\"keep-all\\\", \\\"model\\\": \\\"elasticnet\\\", \\\"scale\\\": \\\"scale\\\", \\\"training_size\\\": \\\"25k\\\", \\\"training_year\\\": \\\"2012_14\\\"}\"\n",
    "output_dir = \"output\"\n",
    "seed = \"2023\"\n"
   ]
  },
  {
   "cell_type": "code",
   "execution_count": 5,
   "id": "a5d7941f",
   "metadata": {
    "execution": {
     "iopub.execute_input": "2025-08-19T18:06:35.024683Z",
     "iopub.status.busy": "2025-08-19T18:06:35.023399Z",
     "iopub.status.idle": "2025-08-19T18:06:35.032948Z",
     "shell.execute_reply": "2025-08-19T18:06:35.030855Z"
    },
    "papermill": {
     "duration": 0.023014,
     "end_time": "2025-08-19T18:06:35.034575",
     "exception": false,
     "start_time": "2025-08-19T18:06:35.011561",
     "status": "completed"
    },
    "tags": []
   },
   "outputs": [],
   "source": [
    "import json\n",
    "if isinstance(universe, str):\n",
    "    universe = json.loads(universe)"
   ]
  },
  {
   "cell_type": "code",
   "execution_count": 6,
   "id": "7076ccb1",
   "metadata": {
    "execution": {
     "iopub.execute_input": "2025-08-19T18:06:35.058229Z",
     "iopub.status.busy": "2025-08-19T18:06:35.057033Z",
     "iopub.status.idle": "2025-08-19T18:06:35.104560Z",
     "shell.execute_reply": "2025-08-19T18:06:35.103964Z"
    },
    "papermill": {
     "duration": 0.060707,
     "end_time": "2025-08-19T18:06:35.106923",
     "exception": false,
     "start_time": "2025-08-19T18:06:35.046216",
     "status": "completed"
    },
    "tags": []
   },
   "outputs": [],
   "source": [
    "# Auto-reload the custom package\n",
    "%load_ext autoreload\n",
    "%autoreload 1\n",
    "%aimport fairness_multiverse"
   ]
  },
  {
   "cell_type": "code",
   "execution_count": 7,
   "id": "94c8eb93",
   "metadata": {
    "execution": {
     "iopub.execute_input": "2025-08-19T18:06:35.143532Z",
     "iopub.status.busy": "2025-08-19T18:06:35.142462Z",
     "iopub.status.idle": "2025-08-19T18:06:36.579835Z",
     "shell.execute_reply": "2025-08-19T18:06:36.579098Z"
    },
    "papermill": {
     "duration": 1.452203,
     "end_time": "2025-08-19T18:06:36.581408",
     "exception": false,
     "start_time": "2025-08-19T18:06:35.129205",
     "status": "completed"
    },
    "tags": []
   },
   "outputs": [],
   "source": [
    "from fairness_multiverse.universe import UniverseAnalysis\n",
    "\n",
    "universe_analysis = UniverseAnalysis(\n",
    "    run_no = run_no,\n",
    "    universe_id = universe_id,\n",
    "    universe = universe,\n",
    "    output_dir=output_dir,\n",
    ")"
   ]
  },
  {
   "cell_type": "code",
   "execution_count": 8,
   "id": "2a6381cf",
   "metadata": {
    "execution": {
     "iopub.execute_input": "2025-08-19T18:06:36.611948Z",
     "iopub.status.busy": "2025-08-19T18:06:36.611567Z",
     "iopub.status.idle": "2025-08-19T18:06:36.616800Z",
     "shell.execute_reply": "2025-08-19T18:06:36.616032Z"
    },
    "papermill": {
     "duration": 0.022372,
     "end_time": "2025-08-19T18:06:36.619405",
     "exception": false,
     "start_time": "2025-08-19T18:06:36.597033",
     "status": "completed"
    },
    "tags": []
   },
   "outputs": [
    {
     "name": "stdout",
     "output_type": "stream",
     "text": [
      "Using Seed: 2023\n"
     ]
    }
   ],
   "source": [
    "import numpy as np\n",
    "parsed_seed = int(seed)\n",
    "np.random.seed(parsed_seed)\n",
    "print(f\"Using Seed: {parsed_seed}\")"
   ]
  },
  {
   "cell_type": "markdown",
   "id": "b6e958b4",
   "metadata": {
    "papermill": {
     "duration": 0.009436,
     "end_time": "2025-08-19T18:06:36.638768",
     "exception": false,
     "start_time": "2025-08-19T18:06:36.629332",
     "status": "completed"
    },
    "tags": []
   },
   "source": [
    "# Loading Data"
   ]
  },
  {
   "cell_type": "code",
   "execution_count": 9,
   "id": "98701482",
   "metadata": {
    "execution": {
     "iopub.execute_input": "2025-08-19T18:06:36.659819Z",
     "iopub.status.busy": "2025-08-19T18:06:36.658503Z",
     "iopub.status.idle": "2025-08-19T18:06:46.530998Z",
     "shell.execute_reply": "2025-08-19T18:06:46.529814Z"
    },
    "papermill": {
     "duration": 9.884737,
     "end_time": "2025-08-19T18:06:46.532551",
     "exception": false,
     "start_time": "2025-08-19T18:06:36.647814",
     "status": "completed"
    },
    "tags": []
   },
   "outputs": [
    {
     "name": "stdout",
     "output_type": "stream",
     "text": [
      "Loading SIAB data from cache: data/siab_cached.csv.gz\n"
     ]
    },
    {
     "name": "stdout",
     "output_type": "stream",
     "text": [
      "(643690, 164)\n"
     ]
    }
   ],
   "source": [
    "from pathlib import Path\n",
    "import pandas as pd\n",
    "\n",
    "# File paths\n",
    "raw_file = Path(\"data/raw/siab.csv\")\n",
    "cache_file = Path(\"data/siab_cached.csv.gz\")\n",
    "\n",
    "# Ensure cache directory exists\n",
    "cache_file.parent.mkdir(parents=True, exist_ok=True)\n",
    "\n",
    "# Load with simple caching\n",
    "if cache_file.exists():\n",
    "    print(f\"Loading SIAB data from cache: {cache_file}\")\n",
    "    siab = pd.read_csv(cache_file, compression='gzip')\n",
    "else:\n",
    "    print(f\"Cache not found. Reading raw SIAB data: {raw_file}\")\n",
    "    siab = pd.read_csv(raw_file)\n",
    "    siab.to_csv(cache_file, index=False, compression='gzip')\n",
    "    print(f\"Cached SIAB data to: {cache_file}\")\n",
    "\n",
    "print(siab.shape)"
   ]
  },
  {
   "cell_type": "code",
   "execution_count": 10,
   "id": "058d2abb",
   "metadata": {
    "execution": {
     "iopub.execute_input": "2025-08-19T18:06:46.569407Z",
     "iopub.status.busy": "2025-08-19T18:06:46.567612Z",
     "iopub.status.idle": "2025-08-19T18:06:46.717230Z",
     "shell.execute_reply": "2025-08-19T18:06:46.715451Z"
    },
    "papermill": {
     "duration": 0.172421,
     "end_time": "2025-08-19T18:06:46.719114",
     "exception": false,
     "start_time": "2025-08-19T18:06:46.546693",
     "status": "completed"
    },
    "tags": []
   },
   "outputs": [
    {
     "data": {
      "text/html": [
       "<div>\n",
       "<style scoped>\n",
       "    .dataframe tbody tr th:only-of-type {\n",
       "        vertical-align: middle;\n",
       "    }\n",
       "\n",
       "    .dataframe tbody tr th {\n",
       "        vertical-align: top;\n",
       "    }\n",
       "\n",
       "    .dataframe thead th {\n",
       "        text-align: right;\n",
       "    }\n",
       "</style>\n",
       "<table border=\"1\" class=\"dataframe\">\n",
       "  <thead>\n",
       "    <tr style=\"text-align: right;\">\n",
       "      <th></th>\n",
       "      <th>persnr</th>\n",
       "      <th>year</th>\n",
       "      <th>nrEntry</th>\n",
       "      <th>ltue</th>\n",
       "      <th>employed_before</th>\n",
       "      <th>receipt_leh_before</th>\n",
       "      <th>receipt_lhg_before</th>\n",
       "      <th>se_before</th>\n",
       "      <th>ASU_notue_seeking_before</th>\n",
       "      <th>ASU_other_before</th>\n",
       "      <th>...</th>\n",
       "      <th>minijob_tot_dur_byage</th>\n",
       "      <th>ft_tot_dur_byage</th>\n",
       "      <th>befrist_tot_dur_byage</th>\n",
       "      <th>leih_tot_dur_byage</th>\n",
       "      <th>LHG_tot_dur_byage</th>\n",
       "      <th>LEH_tot_dur_byage</th>\n",
       "      <th>almp_tot_dur_byage</th>\n",
       "      <th>almp_aw_tot_dur_byage</th>\n",
       "      <th>se_tot_dur_byage</th>\n",
       "      <th>seeking1_tot_dur_byage</th>\n",
       "    </tr>\n",
       "  </thead>\n",
       "  <tbody>\n",
       "    <tr>\n",
       "      <th>0</th>\n",
       "      <td>7</td>\n",
       "      <td>2015</td>\n",
       "      <td>1</td>\n",
       "      <td>0</td>\n",
       "      <td>1</td>\n",
       "      <td>0</td>\n",
       "      <td>0</td>\n",
       "      <td>0</td>\n",
       "      <td>1</td>\n",
       "      <td>0</td>\n",
       "      <td>...</td>\n",
       "      <td>0.000000</td>\n",
       "      <td>0.000000</td>\n",
       "      <td>15.043478</td>\n",
       "      <td>0.000000</td>\n",
       "      <td>0.000000</td>\n",
       "      <td>0.000000</td>\n",
       "      <td>0.000000</td>\n",
       "      <td>0.000000</td>\n",
       "      <td>0.000000</td>\n",
       "      <td>0.000000</td>\n",
       "    </tr>\n",
       "    <tr>\n",
       "      <th>1</th>\n",
       "      <td>18</td>\n",
       "      <td>2010</td>\n",
       "      <td>1</td>\n",
       "      <td>1</td>\n",
       "      <td>0</td>\n",
       "      <td>0</td>\n",
       "      <td>0</td>\n",
       "      <td>0</td>\n",
       "      <td>0</td>\n",
       "      <td>0</td>\n",
       "      <td>...</td>\n",
       "      <td>0.000000</td>\n",
       "      <td>0.000000</td>\n",
       "      <td>0.000000</td>\n",
       "      <td>0.000000</td>\n",
       "      <td>0.000000</td>\n",
       "      <td>0.000000</td>\n",
       "      <td>0.000000</td>\n",
       "      <td>0.000000</td>\n",
       "      <td>0.000000</td>\n",
       "      <td>0.000000</td>\n",
       "    </tr>\n",
       "    <tr>\n",
       "      <th>2</th>\n",
       "      <td>18</td>\n",
       "      <td>2011</td>\n",
       "      <td>2</td>\n",
       "      <td>0</td>\n",
       "      <td>1</td>\n",
       "      <td>0</td>\n",
       "      <td>1</td>\n",
       "      <td>0</td>\n",
       "      <td>1</td>\n",
       "      <td>0</td>\n",
       "      <td>...</td>\n",
       "      <td>2.714286</td>\n",
       "      <td>2.714286</td>\n",
       "      <td>0.000000</td>\n",
       "      <td>0.000000</td>\n",
       "      <td>10.775510</td>\n",
       "      <td>0.000000</td>\n",
       "      <td>8.367347</td>\n",
       "      <td>0.000000</td>\n",
       "      <td>0.000000</td>\n",
       "      <td>9.836735</td>\n",
       "    </tr>\n",
       "    <tr>\n",
       "      <th>3</th>\n",
       "      <td>18</td>\n",
       "      <td>2012</td>\n",
       "      <td>3</td>\n",
       "      <td>0</td>\n",
       "      <td>1</td>\n",
       "      <td>0</td>\n",
       "      <td>1</td>\n",
       "      <td>0</td>\n",
       "      <td>1</td>\n",
       "      <td>0</td>\n",
       "      <td>...</td>\n",
       "      <td>4.200000</td>\n",
       "      <td>4.200000</td>\n",
       "      <td>0.000000</td>\n",
       "      <td>0.000000</td>\n",
       "      <td>12.100000</td>\n",
       "      <td>0.000000</td>\n",
       "      <td>9.400000</td>\n",
       "      <td>0.000000</td>\n",
       "      <td>0.000000</td>\n",
       "      <td>9.960000</td>\n",
       "    </tr>\n",
       "    <tr>\n",
       "      <th>4</th>\n",
       "      <td>18</td>\n",
       "      <td>2012</td>\n",
       "      <td>4</td>\n",
       "      <td>0</td>\n",
       "      <td>1</td>\n",
       "      <td>0</td>\n",
       "      <td>1</td>\n",
       "      <td>0</td>\n",
       "      <td>1</td>\n",
       "      <td>0</td>\n",
       "      <td>...</td>\n",
       "      <td>5.460000</td>\n",
       "      <td>5.460000</td>\n",
       "      <td>0.000000</td>\n",
       "      <td>0.000000</td>\n",
       "      <td>13.360000</td>\n",
       "      <td>0.000000</td>\n",
       "      <td>10.320000</td>\n",
       "      <td>0.000000</td>\n",
       "      <td>0.000000</td>\n",
       "      <td>10.280000</td>\n",
       "    </tr>\n",
       "    <tr>\n",
       "      <th>...</th>\n",
       "      <td>...</td>\n",
       "      <td>...</td>\n",
       "      <td>...</td>\n",
       "      <td>...</td>\n",
       "      <td>...</td>\n",
       "      <td>...</td>\n",
       "      <td>...</td>\n",
       "      <td>...</td>\n",
       "      <td>...</td>\n",
       "      <td>...</td>\n",
       "      <td>...</td>\n",
       "      <td>...</td>\n",
       "      <td>...</td>\n",
       "      <td>...</td>\n",
       "      <td>...</td>\n",
       "      <td>...</td>\n",
       "      <td>...</td>\n",
       "      <td>...</td>\n",
       "      <td>...</td>\n",
       "      <td>...</td>\n",
       "      <td>...</td>\n",
       "    </tr>\n",
       "    <tr>\n",
       "      <th>643685</th>\n",
       "      <td>1827860</td>\n",
       "      <td>2013</td>\n",
       "      <td>1</td>\n",
       "      <td>0</td>\n",
       "      <td>0</td>\n",
       "      <td>0</td>\n",
       "      <td>1</td>\n",
       "      <td>0</td>\n",
       "      <td>0</td>\n",
       "      <td>1</td>\n",
       "      <td>...</td>\n",
       "      <td>0.000000</td>\n",
       "      <td>0.000000</td>\n",
       "      <td>0.000000</td>\n",
       "      <td>0.000000</td>\n",
       "      <td>0.612903</td>\n",
       "      <td>0.000000</td>\n",
       "      <td>0.000000</td>\n",
       "      <td>0.000000</td>\n",
       "      <td>0.000000</td>\n",
       "      <td>0.000000</td>\n",
       "    </tr>\n",
       "    <tr>\n",
       "      <th>643686</th>\n",
       "      <td>1827860</td>\n",
       "      <td>2015</td>\n",
       "      <td>2</td>\n",
       "      <td>1</td>\n",
       "      <td>0</td>\n",
       "      <td>0</td>\n",
       "      <td>1</td>\n",
       "      <td>0</td>\n",
       "      <td>1</td>\n",
       "      <td>0</td>\n",
       "      <td>...</td>\n",
       "      <td>0.000000</td>\n",
       "      <td>0.000000</td>\n",
       "      <td>0.212121</td>\n",
       "      <td>0.212121</td>\n",
       "      <td>17.363636</td>\n",
       "      <td>0.000000</td>\n",
       "      <td>8.909091</td>\n",
       "      <td>0.000000</td>\n",
       "      <td>0.000000</td>\n",
       "      <td>7.121212</td>\n",
       "    </tr>\n",
       "    <tr>\n",
       "      <th>643687</th>\n",
       "      <td>1827860</td>\n",
       "      <td>2016</td>\n",
       "      <td>3</td>\n",
       "      <td>1</td>\n",
       "      <td>0</td>\n",
       "      <td>0</td>\n",
       "      <td>1</td>\n",
       "      <td>1</td>\n",
       "      <td>0</td>\n",
       "      <td>1</td>\n",
       "      <td>...</td>\n",
       "      <td>0.000000</td>\n",
       "      <td>0.000000</td>\n",
       "      <td>0.294118</td>\n",
       "      <td>0.205882</td>\n",
       "      <td>34.705882</td>\n",
       "      <td>0.000000</td>\n",
       "      <td>10.352941</td>\n",
       "      <td>1.705882</td>\n",
       "      <td>1.705882</td>\n",
       "      <td>23.911765</td>\n",
       "    </tr>\n",
       "    <tr>\n",
       "      <th>643688</th>\n",
       "      <td>1827869</td>\n",
       "      <td>2013</td>\n",
       "      <td>1</td>\n",
       "      <td>1</td>\n",
       "      <td>1</td>\n",
       "      <td>0</td>\n",
       "      <td>0</td>\n",
       "      <td>0</td>\n",
       "      <td>1</td>\n",
       "      <td>0</td>\n",
       "      <td>...</td>\n",
       "      <td>0.000000</td>\n",
       "      <td>0.000000</td>\n",
       "      <td>0.000000</td>\n",
       "      <td>0.000000</td>\n",
       "      <td>0.000000</td>\n",
       "      <td>0.525424</td>\n",
       "      <td>0.000000</td>\n",
       "      <td>0.000000</td>\n",
       "      <td>0.000000</td>\n",
       "      <td>0.000000</td>\n",
       "    </tr>\n",
       "    <tr>\n",
       "      <th>643689</th>\n",
       "      <td>1827869</td>\n",
       "      <td>2014</td>\n",
       "      <td>2</td>\n",
       "      <td>0</td>\n",
       "      <td>0</td>\n",
       "      <td>1</td>\n",
       "      <td>0</td>\n",
       "      <td>0</td>\n",
       "      <td>1</td>\n",
       "      <td>0</td>\n",
       "      <td>...</td>\n",
       "      <td>0.000000</td>\n",
       "      <td>0.666667</td>\n",
       "      <td>0.666667</td>\n",
       "      <td>0.000000</td>\n",
       "      <td>0.000000</td>\n",
       "      <td>8.950000</td>\n",
       "      <td>1.033333</td>\n",
       "      <td>0.083333</td>\n",
       "      <td>0.083333</td>\n",
       "      <td>8.133333</td>\n",
       "    </tr>\n",
       "  </tbody>\n",
       "</table>\n",
       "<p>643690 rows × 164 columns</p>\n",
       "</div>"
      ],
      "text/plain": [
       "         persnr  year  nrEntry  ltue  employed_before  receipt_leh_before  \\\n",
       "0             7  2015        1     0                1                   0   \n",
       "1            18  2010        1     1                0                   0   \n",
       "2            18  2011        2     0                1                   0   \n",
       "3            18  2012        3     0                1                   0   \n",
       "4            18  2012        4     0                1                   0   \n",
       "...         ...   ...      ...   ...              ...                 ...   \n",
       "643685  1827860  2013        1     0                0                   0   \n",
       "643686  1827860  2015        2     1                0                   0   \n",
       "643687  1827860  2016        3     1                0                   0   \n",
       "643688  1827869  2013        1     1                1                   0   \n",
       "643689  1827869  2014        2     0                0                   1   \n",
       "\n",
       "        receipt_lhg_before  se_before  ASU_notue_seeking_before  \\\n",
       "0                        0          0                         1   \n",
       "1                        0          0                         0   \n",
       "2                        1          0                         1   \n",
       "3                        1          0                         1   \n",
       "4                        1          0                         1   \n",
       "...                    ...        ...                       ...   \n",
       "643685                   1          0                         0   \n",
       "643686                   1          0                         1   \n",
       "643687                   1          1                         0   \n",
       "643688                   0          0                         1   \n",
       "643689                   0          0                         1   \n",
       "\n",
       "        ASU_other_before  ...  minijob_tot_dur_byage  ft_tot_dur_byage  \\\n",
       "0                      0  ...               0.000000          0.000000   \n",
       "1                      0  ...               0.000000          0.000000   \n",
       "2                      0  ...               2.714286          2.714286   \n",
       "3                      0  ...               4.200000          4.200000   \n",
       "4                      0  ...               5.460000          5.460000   \n",
       "...                  ...  ...                    ...               ...   \n",
       "643685                 1  ...               0.000000          0.000000   \n",
       "643686                 0  ...               0.000000          0.000000   \n",
       "643687                 1  ...               0.000000          0.000000   \n",
       "643688                 0  ...               0.000000          0.000000   \n",
       "643689                 0  ...               0.000000          0.666667   \n",
       "\n",
       "        befrist_tot_dur_byage  leih_tot_dur_byage  LHG_tot_dur_byage  \\\n",
       "0                   15.043478            0.000000           0.000000   \n",
       "1                    0.000000            0.000000           0.000000   \n",
       "2                    0.000000            0.000000          10.775510   \n",
       "3                    0.000000            0.000000          12.100000   \n",
       "4                    0.000000            0.000000          13.360000   \n",
       "...                       ...                 ...                ...   \n",
       "643685               0.000000            0.000000           0.612903   \n",
       "643686               0.212121            0.212121          17.363636   \n",
       "643687               0.294118            0.205882          34.705882   \n",
       "643688               0.000000            0.000000           0.000000   \n",
       "643689               0.666667            0.000000           0.000000   \n",
       "\n",
       "        LEH_tot_dur_byage  almp_tot_dur_byage  almp_aw_tot_dur_byage  \\\n",
       "0                0.000000            0.000000               0.000000   \n",
       "1                0.000000            0.000000               0.000000   \n",
       "2                0.000000            8.367347               0.000000   \n",
       "3                0.000000            9.400000               0.000000   \n",
       "4                0.000000           10.320000               0.000000   \n",
       "...                   ...                 ...                    ...   \n",
       "643685           0.000000            0.000000               0.000000   \n",
       "643686           0.000000            8.909091               0.000000   \n",
       "643687           0.000000           10.352941               1.705882   \n",
       "643688           0.525424            0.000000               0.000000   \n",
       "643689           8.950000            1.033333               0.083333   \n",
       "\n",
       "        se_tot_dur_byage  seeking1_tot_dur_byage  \n",
       "0               0.000000                0.000000  \n",
       "1               0.000000                0.000000  \n",
       "2               0.000000                9.836735  \n",
       "3               0.000000                9.960000  \n",
       "4               0.000000               10.280000  \n",
       "...                  ...                     ...  \n",
       "643685          0.000000                0.000000  \n",
       "643686          0.000000                7.121212  \n",
       "643687          1.705882               23.911765  \n",
       "643688          0.000000                0.000000  \n",
       "643689          0.083333                8.133333  \n",
       "\n",
       "[643690 rows x 164 columns]"
      ]
     },
     "execution_count": 10,
     "metadata": {},
     "output_type": "execute_result"
    }
   ],
   "source": [
    "siab"
   ]
  },
  {
   "cell_type": "markdown",
   "id": "1f87e805",
   "metadata": {
    "papermill": {
     "duration": 0.009937,
     "end_time": "2025-08-19T18:06:46.741239",
     "exception": false,
     "start_time": "2025-08-19T18:06:46.731302",
     "status": "completed"
    },
    "tags": []
   },
   "source": [
    "# Splitting Data and Setting Training Data Size"
   ]
  },
  {
   "cell_type": "code",
   "execution_count": 11,
   "id": "910ae358",
   "metadata": {
    "execution": {
     "iopub.execute_input": "2025-08-19T18:06:46.763557Z",
     "iopub.status.busy": "2025-08-19T18:06:46.762747Z",
     "iopub.status.idle": "2025-08-19T18:06:47.488627Z",
     "shell.execute_reply": "2025-08-19T18:06:47.487535Z"
    },
    "papermill": {
     "duration": 0.741954,
     "end_time": "2025-08-19T18:06:47.492668",
     "exception": false,
     "start_time": "2025-08-19T18:06:46.750714",
     "status": "completed"
    },
    "tags": []
   },
   "outputs": [],
   "source": [
    "from fairness_multiverse.universe import sample_by_year_size\n",
    "\n",
    "siab_train = sample_by_year_size(siab,\n",
    "                               training_year=universe[\"training_year\"],\n",
    "                               training_size=universe[\"training_size\"])"
   ]
  },
  {
   "cell_type": "code",
   "execution_count": 12,
   "id": "919c8ff5",
   "metadata": {
    "execution": {
     "iopub.execute_input": "2025-08-19T18:06:47.530051Z",
     "iopub.status.busy": "2025-08-19T18:06:47.529457Z",
     "iopub.status.idle": "2025-08-19T18:06:47.540373Z",
     "shell.execute_reply": "2025-08-19T18:06:47.539137Z"
    },
    "papermill": {
     "duration": 0.027228,
     "end_time": "2025-08-19T18:06:47.541977",
     "exception": false,
     "start_time": "2025-08-19T18:06:47.514749",
     "status": "completed"
    },
    "tags": []
   },
   "outputs": [
    {
     "data": {
      "text/plain": [
       "(25000, 164)"
      ]
     },
     "execution_count": 12,
     "metadata": {},
     "output_type": "execute_result"
    }
   ],
   "source": [
    "siab_train.shape"
   ]
  },
  {
   "cell_type": "code",
   "execution_count": 13,
   "id": "feb13bf4",
   "metadata": {
    "execution": {
     "iopub.execute_input": "2025-08-19T18:06:47.566257Z",
     "iopub.status.busy": "2025-08-19T18:06:47.565604Z",
     "iopub.status.idle": "2025-08-19T18:06:47.581366Z",
     "shell.execute_reply": "2025-08-19T18:06:47.579863Z"
    },
    "papermill": {
     "duration": 0.029449,
     "end_time": "2025-08-19T18:06:47.583522",
     "exception": false,
     "start_time": "2025-08-19T18:06:47.554073",
     "status": "completed"
    },
    "tags": []
   },
   "outputs": [
    {
     "data": {
      "text/plain": [
       "year\n",
       "2012    8334\n",
       "2013    8333\n",
       "2014    8333\n",
       "dtype: int64"
      ]
     },
     "metadata": {},
     "output_type": "display_data"
    }
   ],
   "source": [
    "display(siab_train.groupby(\"year\").size())"
   ]
  },
  {
   "cell_type": "code",
   "execution_count": 14,
   "id": "0997782f",
   "metadata": {
    "execution": {
     "iopub.execute_input": "2025-08-19T18:06:47.612139Z",
     "iopub.status.busy": "2025-08-19T18:06:47.611468Z",
     "iopub.status.idle": "2025-08-19T18:06:47.885750Z",
     "shell.execute_reply": "2025-08-19T18:06:47.884665Z"
    },
    "papermill": {
     "duration": 0.290417,
     "end_time": "2025-08-19T18:06:47.889248",
     "exception": false,
     "start_time": "2025-08-19T18:06:47.598831",
     "status": "completed"
    },
    "tags": []
   },
   "outputs": [],
   "source": [
    "#siab_train = siab_s[siab_s.year < 2015]\n",
    "siab_calib = siab[siab.year == 2015]\n",
    "siab_test = siab[siab.year == 2016]"
   ]
  },
  {
   "cell_type": "code",
   "execution_count": 15,
   "id": "2c1e4012",
   "metadata": {
    "execution": {
     "iopub.execute_input": "2025-08-19T18:06:47.925577Z",
     "iopub.status.busy": "2025-08-19T18:06:47.924968Z",
     "iopub.status.idle": "2025-08-19T18:06:47.932811Z",
     "shell.execute_reply": "2025-08-19T18:06:47.931152Z"
    },
    "papermill": {
     "duration": 0.022914,
     "end_time": "2025-08-19T18:06:47.934334",
     "exception": false,
     "start_time": "2025-08-19T18:06:47.911420",
     "status": "completed"
    },
    "tags": []
   },
   "outputs": [],
   "source": [
    "#siab_calib.shape"
   ]
  },
  {
   "cell_type": "code",
   "execution_count": 16,
   "id": "f66b54ca",
   "metadata": {
    "execution": {
     "iopub.execute_input": "2025-08-19T18:06:47.959009Z",
     "iopub.status.busy": "2025-08-19T18:06:47.958356Z",
     "iopub.status.idle": "2025-08-19T18:06:47.965554Z",
     "shell.execute_reply": "2025-08-19T18:06:47.963983Z"
    },
    "papermill": {
     "duration": 0.0207,
     "end_time": "2025-08-19T18:06:47.967366",
     "exception": false,
     "start_time": "2025-08-19T18:06:47.946666",
     "status": "completed"
    },
    "tags": []
   },
   "outputs": [],
   "source": [
    "#siab_test.shape"
   ]
  },
  {
   "cell_type": "code",
   "execution_count": 17,
   "id": "27e4384d",
   "metadata": {
    "execution": {
     "iopub.execute_input": "2025-08-19T18:06:47.992119Z",
     "iopub.status.busy": "2025-08-19T18:06:47.991463Z",
     "iopub.status.idle": "2025-08-19T18:06:48.011171Z",
     "shell.execute_reply": "2025-08-19T18:06:48.010107Z"
    },
    "papermill": {
     "duration": 0.033496,
     "end_time": "2025-08-19T18:06:48.013164",
     "exception": false,
     "start_time": "2025-08-19T18:06:47.979668",
     "status": "completed"
    },
    "tags": []
   },
   "outputs": [],
   "source": [
    "X_train = siab_train.iloc[:,4:164]\n",
    "y_train = siab_train.iloc[:, [3]]"
   ]
  },
  {
   "cell_type": "code",
   "execution_count": 18,
   "id": "08ee8389",
   "metadata": {
    "execution": {
     "iopub.execute_input": "2025-08-19T18:06:48.042450Z",
     "iopub.status.busy": "2025-08-19T18:06:48.041795Z",
     "iopub.status.idle": "2025-08-19T18:06:48.110855Z",
     "shell.execute_reply": "2025-08-19T18:06:48.109417Z"
    },
    "papermill": {
     "duration": 0.085485,
     "end_time": "2025-08-19T18:06:48.114342",
     "exception": false,
     "start_time": "2025-08-19T18:06:48.028857",
     "status": "completed"
    },
    "tags": []
   },
   "outputs": [],
   "source": [
    "X_calib = siab_calib.iloc[:,4:164]\n",
    "y_calib = siab_calib.iloc[:, [3]]"
   ]
  },
  {
   "cell_type": "code",
   "execution_count": 19,
   "id": "b7ff42e0",
   "metadata": {
    "execution": {
     "iopub.execute_input": "2025-08-19T18:06:48.151847Z",
     "iopub.status.busy": "2025-08-19T18:06:48.151136Z",
     "iopub.status.idle": "2025-08-19T18:06:48.216049Z",
     "shell.execute_reply": "2025-08-19T18:06:48.214887Z"
    },
    "papermill": {
     "duration": 0.082576,
     "end_time": "2025-08-19T18:06:48.219371",
     "exception": false,
     "start_time": "2025-08-19T18:06:48.136795",
     "status": "completed"
    },
    "tags": []
   },
   "outputs": [],
   "source": [
    "X_test = siab_test.iloc[:,4:164]\n",
    "y_true = siab_test.iloc[:, [3]]"
   ]
  },
  {
   "cell_type": "code",
   "execution_count": 20,
   "id": "0275101e",
   "metadata": {
    "execution": {
     "iopub.execute_input": "2025-08-19T18:06:48.256326Z",
     "iopub.status.busy": "2025-08-19T18:06:48.255738Z",
     "iopub.status.idle": "2025-08-19T18:06:48.379466Z",
     "shell.execute_reply": "2025-08-19T18:06:48.378374Z"
    },
    "papermill": {
     "duration": 0.141117,
     "end_time": "2025-08-19T18:06:48.382884",
     "exception": false,
     "start_time": "2025-08-19T18:06:48.241767",
     "status": "completed"
    },
    "tags": []
   },
   "outputs": [],
   "source": [
    "# Auxiliary data needed downstream in the pipeline\n",
    "\n",
    "org_train = X_train.copy()\n",
    "org_test = X_test.copy()\n",
    "org_calib = X_calib.copy()"
   ]
  },
  {
   "cell_type": "markdown",
   "id": "b461e618",
   "metadata": {
    "papermill": {
     "duration": 0.016573,
     "end_time": "2025-08-19T18:06:48.426289",
     "exception": false,
     "start_time": "2025-08-19T18:06:48.409716",
     "status": "completed"
    },
    "tags": []
   },
   "source": [
    "# Preprocessing Data"
   ]
  },
  {
   "cell_type": "code",
   "execution_count": 21,
   "id": "78e74c4b",
   "metadata": {
    "execution": {
     "iopub.execute_input": "2025-08-19T18:06:48.451224Z",
     "iopub.status.busy": "2025-08-19T18:06:48.450529Z",
     "iopub.status.idle": "2025-08-19T18:06:48.459921Z",
     "shell.execute_reply": "2025-08-19T18:06:48.458517Z"
    },
    "papermill": {
     "duration": 0.025027,
     "end_time": "2025-08-19T18:06:48.462008",
     "exception": false,
     "start_time": "2025-08-19T18:06:48.436981",
     "status": "completed"
    },
    "tags": []
   },
   "outputs": [],
   "source": [
    "# EXCLUDE PROTECTED FEATURES\n",
    "# --------------------------\n",
    "\n",
    "excluded_features = universe[\"exclude_features\"].split(\"-\")\n",
    "excluded_features_dictionary = {\n",
    "    \"nationality\": [\"maxdeutsch1\", \"maxdeutsch.Missing.\"],\n",
    "    \"sex\": [\"frau1\"],\n",
    "    \"age\": [\"age\"],\n",
    "}"
   ]
  },
  {
   "cell_type": "code",
   "execution_count": 22,
   "id": "f8e63555",
   "metadata": {
    "execution": {
     "iopub.execute_input": "2025-08-19T18:06:48.483307Z",
     "iopub.status.busy": "2025-08-19T18:06:48.482987Z",
     "iopub.status.idle": "2025-08-19T18:06:48.487602Z",
     "shell.execute_reply": "2025-08-19T18:06:48.486858Z"
    },
    "papermill": {
     "duration": 0.016795,
     "end_time": "2025-08-19T18:06:48.489014",
     "exception": false,
     "start_time": "2025-08-19T18:06:48.472219",
     "status": "completed"
    },
    "tags": []
   },
   "outputs": [],
   "source": [
    "excluded_features_columns = [\n",
    "    excluded_features_dictionary[f] for f in excluded_features if len(f) > 0 and f != \"none\"\n",
    "]"
   ]
  },
  {
   "cell_type": "code",
   "execution_count": 23,
   "id": "da781f7c",
   "metadata": {
    "execution": {
     "iopub.execute_input": "2025-08-19T18:06:48.510479Z",
     "iopub.status.busy": "2025-08-19T18:06:48.509994Z",
     "iopub.status.idle": "2025-08-19T18:06:48.514355Z",
     "shell.execute_reply": "2025-08-19T18:06:48.513685Z"
    },
    "papermill": {
     "duration": 0.016427,
     "end_time": "2025-08-19T18:06:48.515540",
     "exception": false,
     "start_time": "2025-08-19T18:06:48.499113",
     "status": "completed"
    },
    "tags": []
   },
   "outputs": [],
   "source": [
    "from fairness_multiverse.universe import flatten_once\n",
    "\n",
    "excluded_features_columns = flatten_once(excluded_features_columns)"
   ]
  },
  {
   "cell_type": "code",
   "execution_count": 24,
   "id": "37fef0f0",
   "metadata": {
    "execution": {
     "iopub.execute_input": "2025-08-19T18:06:48.536964Z",
     "iopub.status.busy": "2025-08-19T18:06:48.536587Z",
     "iopub.status.idle": "2025-08-19T18:06:48.540924Z",
     "shell.execute_reply": "2025-08-19T18:06:48.540257Z"
    },
    "papermill": {
     "duration": 0.016525,
     "end_time": "2025-08-19T18:06:48.542264",
     "exception": false,
     "start_time": "2025-08-19T18:06:48.525739",
     "status": "completed"
    },
    "tags": []
   },
   "outputs": [],
   "source": [
    "if len(excluded_features_columns) > 0:\n",
    "    print(f\"Dropping features: {excluded_features_columns}\")\n",
    "    X_train.drop(excluded_features_columns, axis=1, inplace=True)"
   ]
  },
  {
   "cell_type": "code",
   "execution_count": 25,
   "id": "d029e3e9",
   "metadata": {
    "execution": {
     "iopub.execute_input": "2025-08-19T18:06:48.568947Z",
     "iopub.status.busy": "2025-08-19T18:06:48.568604Z",
     "iopub.status.idle": "2025-08-19T18:06:48.572747Z",
     "shell.execute_reply": "2025-08-19T18:06:48.572014Z"
    },
    "papermill": {
     "duration": 0.02208,
     "end_time": "2025-08-19T18:06:48.574419",
     "exception": false,
     "start_time": "2025-08-19T18:06:48.552339",
     "status": "completed"
    },
    "tags": []
   },
   "outputs": [],
   "source": [
    "if len(excluded_features_columns) > 0:\n",
    "    print(f\"Dropping features: {excluded_features_columns}\")\n",
    "    X_test.drop(excluded_features_columns, axis=1, inplace=True)"
   ]
  },
  {
   "cell_type": "code",
   "execution_count": 26,
   "id": "01d571f0",
   "metadata": {
    "execution": {
     "iopub.execute_input": "2025-08-19T18:06:48.598432Z",
     "iopub.status.busy": "2025-08-19T18:06:48.598075Z",
     "iopub.status.idle": "2025-08-19T18:06:48.602570Z",
     "shell.execute_reply": "2025-08-19T18:06:48.601541Z"
    },
    "papermill": {
     "duration": 0.016773,
     "end_time": "2025-08-19T18:06:48.603916",
     "exception": false,
     "start_time": "2025-08-19T18:06:48.587143",
     "status": "completed"
    },
    "tags": []
   },
   "outputs": [],
   "source": [
    "if len(excluded_features_columns) > 0:\n",
    "    print(f\"Dropping features: {excluded_features_columns}\")\n",
    "    X_calib.drop(excluded_features_columns, axis=1, inplace=True)"
   ]
  },
  {
   "cell_type": "code",
   "execution_count": 27,
   "id": "3037356e",
   "metadata": {
    "execution": {
     "iopub.execute_input": "2025-08-19T18:06:48.625159Z",
     "iopub.status.busy": "2025-08-19T18:06:48.624912Z",
     "iopub.status.idle": "2025-08-19T18:06:48.695056Z",
     "shell.execute_reply": "2025-08-19T18:06:48.694021Z"
    },
    "papermill": {
     "duration": 0.084346,
     "end_time": "2025-08-19T18:06:48.698450",
     "exception": false,
     "start_time": "2025-08-19T18:06:48.614104",
     "status": "completed"
    },
    "tags": []
   },
   "outputs": [],
   "source": [
    "# EXCLUDE CERTAIN SUBGROUPS\n",
    "# -------------------------\n",
    "\n",
    "mode = universe.get(\"exclude_subgroups\", \"keep-all\") # Defaults to \"keep-all\" if the key is missing."
   ]
  },
  {
   "cell_type": "code",
   "execution_count": 28,
   "id": "9d1e63fd",
   "metadata": {
    "execution": {
     "iopub.execute_input": "2025-08-19T18:06:48.734124Z",
     "iopub.status.busy": "2025-08-19T18:06:48.733432Z",
     "iopub.status.idle": "2025-08-19T18:06:48.743542Z",
     "shell.execute_reply": "2025-08-19T18:06:48.742354Z"
    },
    "papermill": {
     "duration": 0.024876,
     "end_time": "2025-08-19T18:06:48.744944",
     "exception": false,
     "start_time": "2025-08-19T18:06:48.720068",
     "status": "completed"
    },
    "tags": []
   },
   "outputs": [],
   "source": [
    "if mode == \"keep-all\":\n",
    "    keep_mask = pd.Series(True, index=org_train.index)\n",
    "\n",
    "elif mode == \"drop-non-german\":\n",
    "    keep_mask = (org_train[\"maxdeutsch1\"] == 1) & (org_train[\"maxdeutsch.Missing.\"] == 0)\n",
    "\n",
    "else:\n",
    "    raise ValueError(f\"Unsupported mode for exclude_subgroups: {mode}\")"
   ]
  },
  {
   "cell_type": "code",
   "execution_count": 29,
   "id": "d3b65474",
   "metadata": {
    "execution": {
     "iopub.execute_input": "2025-08-19T18:06:48.770776Z",
     "iopub.status.busy": "2025-08-19T18:06:48.769877Z",
     "iopub.status.idle": "2025-08-19T18:06:48.817411Z",
     "shell.execute_reply": "2025-08-19T18:06:48.815295Z"
    },
    "papermill": {
     "duration": 0.06365,
     "end_time": "2025-08-19T18:06:48.821458",
     "exception": false,
     "start_time": "2025-08-19T18:06:48.757808",
     "status": "completed"
    },
    "tags": []
   },
   "outputs": [],
   "source": [
    "n_drop = (~keep_mask).sum() # Calculates how many rows are set to be dropped\n",
    "if n_drop > 0:\n",
    "    pct = n_drop / len(keep_mask) * 100\n",
    "    print(f\"Dropping {n_drop} rows ({pct:.2f}%) where mode='{mode}'\")"
   ]
  },
  {
   "cell_type": "code",
   "execution_count": 30,
   "id": "f44389b3",
   "metadata": {
    "execution": {
     "iopub.execute_input": "2025-08-19T18:06:48.858715Z",
     "iopub.status.busy": "2025-08-19T18:06:48.857814Z",
     "iopub.status.idle": "2025-08-19T18:06:48.879483Z",
     "shell.execute_reply": "2025-08-19T18:06:48.878486Z"
    },
    "papermill": {
     "duration": 0.037034,
     "end_time": "2025-08-19T18:06:48.881449",
     "exception": false,
     "start_time": "2025-08-19T18:06:48.844415",
     "status": "completed"
    },
    "tags": []
   },
   "outputs": [],
   "source": [
    "X_train = X_train[keep_mask]"
   ]
  },
  {
   "cell_type": "code",
   "execution_count": 31,
   "id": "ceca8c2a",
   "metadata": {
    "execution": {
     "iopub.execute_input": "2025-08-19T18:06:48.912395Z",
     "iopub.status.busy": "2025-08-19T18:06:48.911531Z",
     "iopub.status.idle": "2025-08-19T18:06:48.925432Z",
     "shell.execute_reply": "2025-08-19T18:06:48.923775Z"
    },
    "papermill": {
     "duration": 0.028146,
     "end_time": "2025-08-19T18:06:48.926988",
     "exception": false,
     "start_time": "2025-08-19T18:06:48.898842",
     "status": "completed"
    },
    "tags": []
   },
   "outputs": [],
   "source": [
    "y_train = y_train[keep_mask]"
   ]
  },
  {
   "cell_type": "markdown",
   "id": "04d31e2f",
   "metadata": {
    "papermill": {
     "duration": 0.010206,
     "end_time": "2025-08-19T18:06:48.950548",
     "exception": false,
     "start_time": "2025-08-19T18:06:48.940342",
     "status": "completed"
    },
    "tags": []
   },
   "source": [
    "# Model Training"
   ]
  },
  {
   "cell_type": "code",
   "execution_count": 32,
   "id": "db991733",
   "metadata": {
    "execution": {
     "iopub.execute_input": "2025-08-19T18:06:48.973597Z",
     "iopub.status.busy": "2025-08-19T18:06:48.972592Z",
     "iopub.status.idle": "2025-08-19T18:06:49.078627Z",
     "shell.execute_reply": "2025-08-19T18:06:49.077598Z"
    },
    "papermill": {
     "duration": 0.121256,
     "end_time": "2025-08-19T18:06:49.082004",
     "exception": false,
     "start_time": "2025-08-19T18:06:48.960748",
     "status": "completed"
    },
    "tags": []
   },
   "outputs": [],
   "source": [
    "from sklearn.linear_model import LogisticRegression\n",
    "from sklearn.ensemble import GradientBoostingClassifier, RandomForestClassifier\n",
    "\n",
    "if (universe[\"model\"] == \"logreg\"):\n",
    "    model = LogisticRegression() #penalty=\"none\", solver=\"newton-cg\", max_iter=1)\n",
    "elif (universe[\"model\"] == \"penalized_logreg\"):\n",
    "    model = LogisticRegression(penalty=\"l2\", C=0.1) #, solver=\"newton-cg\", max_iter=1)\n",
    "elif (universe[\"model\"] == \"rf\"):\n",
    "    model = RandomForestClassifier() # n_estimators=100, n_jobs=-1\n",
    "elif (universe[\"model\"] == \"gbm\"):\n",
    "    model = GradientBoostingClassifier()\n",
    "elif (universe[\"model\"] == \"elasticnet\"):\n",
    "    model = LogisticRegression(penalty = 'elasticnet', solver = 'saga', l1_ratio = 0.5) # max_iter=5000\n",
    "else:\n",
    "    raise \"Unsupported universe.model\""
   ]
  },
  {
   "cell_type": "code",
   "execution_count": 33,
   "id": "a4b5cd25",
   "metadata": {
    "execution": {
     "iopub.execute_input": "2025-08-19T18:06:49.119950Z",
     "iopub.status.busy": "2025-08-19T18:06:49.118843Z",
     "iopub.status.idle": "2025-08-19T18:06:49.129140Z",
     "shell.execute_reply": "2025-08-19T18:06:49.127407Z"
    },
    "papermill": {
     "duration": 0.026518,
     "end_time": "2025-08-19T18:06:49.131116",
     "exception": false,
     "start_time": "2025-08-19T18:06:49.104598",
     "status": "completed"
    },
    "tags": []
   },
   "outputs": [],
   "source": [
    "from sklearn.pipeline import Pipeline\n",
    "from sklearn.preprocessing import StandardScaler\n",
    "\n",
    "model = Pipeline([\n",
    "    #(\"continuous_processor\", continuous_processor),\n",
    "    #(\"categorical_preprocessor\", categorical_preprocessor),\n",
    "    (\"scale\", StandardScaler() if universe[\"scale\"] == \"scale\" else None), \n",
    "    (\"model\", model),\n",
    "])"
   ]
  },
  {
   "cell_type": "code",
   "execution_count": 34,
   "id": "283a904d",
   "metadata": {
    "execution": {
     "iopub.execute_input": "2025-08-19T18:06:49.158645Z",
     "iopub.status.busy": "2025-08-19T18:06:49.157555Z",
     "iopub.status.idle": "2025-08-19T18:06:55.963515Z",
     "shell.execute_reply": "2025-08-19T18:06:55.962358Z"
    },
    "papermill": {
     "duration": 6.820529,
     "end_time": "2025-08-19T18:06:55.965033",
     "exception": false,
     "start_time": "2025-08-19T18:06:49.144504",
     "status": "completed"
    },
    "tags": []
   },
   "outputs": [
    {
     "name": "stderr",
     "output_type": "stream",
     "text": [
      "/dss/dsshome1/0C/ra93lal2/.local/share/virtualenvs/CMA_Fairness_v2-3j10GkSs/lib/python3.10/site-packages/sklearn/linear_model/_sag.py:350: ConvergenceWarning: The max_iter was reached which means the coef_ did not converge\n",
      "  warnings.warn(\n"
     ]
    },
    {
     "data": {
      "text/html": [
       "<style>#sk-container-id-1 {color: black;background-color: white;}#sk-container-id-1 pre{padding: 0;}#sk-container-id-1 div.sk-toggleable {background-color: white;}#sk-container-id-1 label.sk-toggleable__label {cursor: pointer;display: block;width: 100%;margin-bottom: 0;padding: 0.3em;box-sizing: border-box;text-align: center;}#sk-container-id-1 label.sk-toggleable__label-arrow:before {content: \"▸\";float: left;margin-right: 0.25em;color: #696969;}#sk-container-id-1 label.sk-toggleable__label-arrow:hover:before {color: black;}#sk-container-id-1 div.sk-estimator:hover label.sk-toggleable__label-arrow:before {color: black;}#sk-container-id-1 div.sk-toggleable__content {max-height: 0;max-width: 0;overflow: hidden;text-align: left;background-color: #f0f8ff;}#sk-container-id-1 div.sk-toggleable__content pre {margin: 0.2em;color: black;border-radius: 0.25em;background-color: #f0f8ff;}#sk-container-id-1 input.sk-toggleable__control:checked~div.sk-toggleable__content {max-height: 200px;max-width: 100%;overflow: auto;}#sk-container-id-1 input.sk-toggleable__control:checked~label.sk-toggleable__label-arrow:before {content: \"▾\";}#sk-container-id-1 div.sk-estimator input.sk-toggleable__control:checked~label.sk-toggleable__label {background-color: #d4ebff;}#sk-container-id-1 div.sk-label input.sk-toggleable__control:checked~label.sk-toggleable__label {background-color: #d4ebff;}#sk-container-id-1 input.sk-hidden--visually {border: 0;clip: rect(1px 1px 1px 1px);clip: rect(1px, 1px, 1px, 1px);height: 1px;margin: -1px;overflow: hidden;padding: 0;position: absolute;width: 1px;}#sk-container-id-1 div.sk-estimator {font-family: monospace;background-color: #f0f8ff;border: 1px dotted black;border-radius: 0.25em;box-sizing: border-box;margin-bottom: 0.5em;}#sk-container-id-1 div.sk-estimator:hover {background-color: #d4ebff;}#sk-container-id-1 div.sk-parallel-item::after {content: \"\";width: 100%;border-bottom: 1px solid gray;flex-grow: 1;}#sk-container-id-1 div.sk-label:hover label.sk-toggleable__label {background-color: #d4ebff;}#sk-container-id-1 div.sk-serial::before {content: \"\";position: absolute;border-left: 1px solid gray;box-sizing: border-box;top: 0;bottom: 0;left: 50%;z-index: 0;}#sk-container-id-1 div.sk-serial {display: flex;flex-direction: column;align-items: center;background-color: white;padding-right: 0.2em;padding-left: 0.2em;position: relative;}#sk-container-id-1 div.sk-item {position: relative;z-index: 1;}#sk-container-id-1 div.sk-parallel {display: flex;align-items: stretch;justify-content: center;background-color: white;position: relative;}#sk-container-id-1 div.sk-item::before, #sk-container-id-1 div.sk-parallel-item::before {content: \"\";position: absolute;border-left: 1px solid gray;box-sizing: border-box;top: 0;bottom: 0;left: 50%;z-index: -1;}#sk-container-id-1 div.sk-parallel-item {display: flex;flex-direction: column;z-index: 1;position: relative;background-color: white;}#sk-container-id-1 div.sk-parallel-item:first-child::after {align-self: flex-end;width: 50%;}#sk-container-id-1 div.sk-parallel-item:last-child::after {align-self: flex-start;width: 50%;}#sk-container-id-1 div.sk-parallel-item:only-child::after {width: 0;}#sk-container-id-1 div.sk-dashed-wrapped {border: 1px dashed gray;margin: 0 0.4em 0.5em 0.4em;box-sizing: border-box;padding-bottom: 0.4em;background-color: white;}#sk-container-id-1 div.sk-label label {font-family: monospace;font-weight: bold;display: inline-block;line-height: 1.2em;}#sk-container-id-1 div.sk-label-container {text-align: center;}#sk-container-id-1 div.sk-container {/* jupyter's `normalize.less` sets `[hidden] { display: none; }` but bootstrap.min.css set `[hidden] { display: none !important; }` so we also need the `!important` here to be able to override the default hidden behavior on the sphinx rendered scikit-learn.org. See: https://github.com/scikit-learn/scikit-learn/issues/21755 */display: inline-block !important;position: relative;}#sk-container-id-1 div.sk-text-repr-fallback {display: none;}</style><div id=\"sk-container-id-1\" class=\"sk-top-container\"><div class=\"sk-text-repr-fallback\"><pre>Pipeline(steps=[(&#x27;scale&#x27;, StandardScaler()),\n",
       "                (&#x27;model&#x27;,\n",
       "                 LogisticRegression(l1_ratio=0.5, penalty=&#x27;elasticnet&#x27;,\n",
       "                                    solver=&#x27;saga&#x27;))])</pre><b>In a Jupyter environment, please rerun this cell to show the HTML representation or trust the notebook. <br />On GitHub, the HTML representation is unable to render, please try loading this page with nbviewer.org.</b></div><div class=\"sk-container\" hidden><div class=\"sk-item sk-dashed-wrapped\"><div class=\"sk-label-container\"><div class=\"sk-label sk-toggleable\"><input class=\"sk-toggleable__control sk-hidden--visually\" id=\"sk-estimator-id-1\" type=\"checkbox\" ><label for=\"sk-estimator-id-1\" class=\"sk-toggleable__label sk-toggleable__label-arrow\">Pipeline</label><div class=\"sk-toggleable__content\"><pre>Pipeline(steps=[(&#x27;scale&#x27;, StandardScaler()),\n",
       "                (&#x27;model&#x27;,\n",
       "                 LogisticRegression(l1_ratio=0.5, penalty=&#x27;elasticnet&#x27;,\n",
       "                                    solver=&#x27;saga&#x27;))])</pre></div></div></div><div class=\"sk-serial\"><div class=\"sk-item\"><div class=\"sk-estimator sk-toggleable\"><input class=\"sk-toggleable__control sk-hidden--visually\" id=\"sk-estimator-id-2\" type=\"checkbox\" ><label for=\"sk-estimator-id-2\" class=\"sk-toggleable__label sk-toggleable__label-arrow\">StandardScaler</label><div class=\"sk-toggleable__content\"><pre>StandardScaler()</pre></div></div></div><div class=\"sk-item\"><div class=\"sk-estimator sk-toggleable\"><input class=\"sk-toggleable__control sk-hidden--visually\" id=\"sk-estimator-id-3\" type=\"checkbox\" ><label for=\"sk-estimator-id-3\" class=\"sk-toggleable__label sk-toggleable__label-arrow\">LogisticRegression</label><div class=\"sk-toggleable__content\"><pre>LogisticRegression(l1_ratio=0.5, penalty=&#x27;elasticnet&#x27;, solver=&#x27;saga&#x27;)</pre></div></div></div></div></div></div></div>"
      ],
      "text/plain": [
       "Pipeline(steps=[('scale', StandardScaler()),\n",
       "                ('model',\n",
       "                 LogisticRegression(l1_ratio=0.5, penalty='elasticnet',\n",
       "                                    solver='saga'))])"
      ]
     },
     "execution_count": 34,
     "metadata": {},
     "output_type": "execute_result"
    }
   ],
   "source": [
    "model.fit(X_train, y_train.values.ravel())"
   ]
  },
  {
   "cell_type": "code",
   "execution_count": 35,
   "id": "6e15e313",
   "metadata": {
    "execution": {
     "iopub.execute_input": "2025-08-19T18:06:55.993346Z",
     "iopub.status.busy": "2025-08-19T18:06:55.992417Z",
     "iopub.status.idle": "2025-08-19T18:06:56.201854Z",
     "shell.execute_reply": "2025-08-19T18:06:56.200704Z"
    },
    "papermill": {
     "duration": 0.227815,
     "end_time": "2025-08-19T18:06:56.206223",
     "exception": false,
     "start_time": "2025-08-19T18:06:55.978408",
     "status": "completed"
    },
    "tags": []
   },
   "outputs": [
    {
     "data": {
      "text/plain": [
       "0.8621781295284806"
      ]
     },
     "execution_count": 35,
     "metadata": {},
     "output_type": "execute_result"
    }
   ],
   "source": [
    "from fairness_multiverse.universe import predict_w_threshold\n",
    "\n",
    "probs_test = model.predict_proba(X_test)\n",
    "\n",
    "'''\n",
    "Below code returns a boolean array (or binary 0/1 array depending on how it’s used) where each element \n",
    "is True if the probability of class 1 is greater than or equal to the threshold, and False otherwise.\n",
    "'''\n",
    "y_pred_default = predict_w_threshold(probs_test, 0.5)\n",
    "\n",
    "from sklearn.metrics import accuracy_score\n",
    "\n",
    "# Naive prediction\n",
    "accuracy_score(y_true = y_true, y_pred = y_pred_default)"
   ]
  },
  {
   "cell_type": "code",
   "execution_count": 36,
   "id": "6f14067c",
   "metadata": {
    "execution": {
     "iopub.execute_input": "2025-08-19T18:06:56.242752Z",
     "iopub.status.busy": "2025-08-19T18:06:56.242340Z",
     "iopub.status.idle": "2025-08-19T18:06:56.423372Z",
     "shell.execute_reply": "2025-08-19T18:06:56.422619Z"
    },
    "papermill": {
     "duration": 0.198381,
     "end_time": "2025-08-19T18:06:56.426243",
     "exception": false,
     "start_time": "2025-08-19T18:06:56.227862",
     "status": "completed"
    },
    "tags": []
   },
   "outputs": [
    {
     "data": {
      "text/plain": [
       "array([0, 0, 0, ..., 0, 0, 0])"
      ]
     },
     "execution_count": 36,
     "metadata": {},
     "output_type": "execute_result"
    }
   ],
   "source": [
    "model.predict(X_test)"
   ]
  },
  {
   "cell_type": "markdown",
   "id": "3759920c",
   "metadata": {
    "papermill": {
     "duration": 0.011192,
     "end_time": "2025-08-19T18:06:56.448857",
     "exception": false,
     "start_time": "2025-08-19T18:06:56.437665",
     "status": "completed"
    },
    "tags": []
   },
   "source": [
    "# Conformal Prediction"
   ]
  },
  {
   "cell_type": "code",
   "execution_count": 37,
   "id": "14b27f59",
   "metadata": {
    "execution": {
     "iopub.execute_input": "2025-08-19T18:06:56.472780Z",
     "iopub.status.busy": "2025-08-19T18:06:56.471976Z",
     "iopub.status.idle": "2025-08-19T18:06:56.477952Z",
     "shell.execute_reply": "2025-08-19T18:06:56.476763Z"
    },
    "papermill": {
     "duration": 0.019616,
     "end_time": "2025-08-19T18:06:56.479201",
     "exception": false,
     "start_time": "2025-08-19T18:06:56.459585",
     "status": "completed"
    },
    "tags": []
   },
   "outputs": [],
   "source": [
    "# Miscoverage level for conformal prediction (10% allowed error rate => 90% target coverage)\n",
    "alpha = 0.1"
   ]
  },
  {
   "cell_type": "code",
   "execution_count": 38,
   "id": "59102472",
   "metadata": {
    "execution": {
     "iopub.execute_input": "2025-08-19T18:06:56.519289Z",
     "iopub.status.busy": "2025-08-19T18:06:56.518924Z",
     "iopub.status.idle": "2025-08-19T18:06:56.817124Z",
     "shell.execute_reply": "2025-08-19T18:06:56.815851Z"
    },
    "papermill": {
     "duration": 0.322236,
     "end_time": "2025-08-19T18:06:56.820232",
     "exception": false,
     "start_time": "2025-08-19T18:06:56.497996",
     "status": "completed"
    },
    "tags": []
   },
   "outputs": [],
   "source": [
    "probs_calib = model.predict_proba(X_calib)"
   ]
  },
  {
   "cell_type": "code",
   "execution_count": 39,
   "id": "a792d4dd",
   "metadata": {
    "execution": {
     "iopub.execute_input": "2025-08-19T18:06:56.861637Z",
     "iopub.status.busy": "2025-08-19T18:06:56.860425Z",
     "iopub.status.idle": "2025-08-19T18:06:56.871996Z",
     "shell.execute_reply": "2025-08-19T18:06:56.870690Z"
    },
    "papermill": {
     "duration": 0.02788,
     "end_time": "2025-08-19T18:06:56.873480",
     "exception": false,
     "start_time": "2025-08-19T18:06:56.845600",
     "status": "completed"
    },
    "tags": []
   },
   "outputs": [],
   "source": [
    "y_calib = y_calib.values.ravel().astype(int)"
   ]
  },
  {
   "cell_type": "code",
   "execution_count": 40,
   "id": "650fd033",
   "metadata": {
    "execution": {
     "iopub.execute_input": "2025-08-19T18:06:56.905827Z",
     "iopub.status.busy": "2025-08-19T18:06:56.904622Z",
     "iopub.status.idle": "2025-08-19T18:06:56.918881Z",
     "shell.execute_reply": "2025-08-19T18:06:56.917177Z"
    },
    "papermill": {
     "duration": 0.030281,
     "end_time": "2025-08-19T18:06:56.920835",
     "exception": false,
     "start_time": "2025-08-19T18:06:56.890554",
     "status": "completed"
    },
    "tags": []
   },
   "outputs": [],
   "source": [
    "from fairness_multiverse.conformal import compute_nc_scores\n",
    "\n",
    "# Compute nonconformity scores on calibration set (1 - probability of true class)\n",
    "nc_scores = compute_nc_scores(probs_calib, y_calib)"
   ]
  },
  {
   "cell_type": "code",
   "execution_count": 41,
   "id": "28ada44c",
   "metadata": {
    "execution": {
     "iopub.execute_input": "2025-08-19T18:06:56.949795Z",
     "iopub.status.busy": "2025-08-19T18:06:56.948765Z",
     "iopub.status.idle": "2025-08-19T18:06:56.960774Z",
     "shell.execute_reply": "2025-08-19T18:06:56.959275Z"
    },
    "papermill": {
     "duration": 0.026932,
     "end_time": "2025-08-19T18:06:56.962263",
     "exception": false,
     "start_time": "2025-08-19T18:06:56.935331",
     "status": "completed"
    },
    "tags": []
   },
   "outputs": [],
   "source": [
    "from fairness_multiverse.conformal import find_threshold\n",
    "\n",
    "# Find conformal threshold q_hat for the given alpha (split conformal method)\n",
    "q_hat = find_threshold(nc_scores, alpha)"
   ]
  },
  {
   "cell_type": "code",
   "execution_count": 42,
   "id": "df56469e",
   "metadata": {
    "execution": {
     "iopub.execute_input": "2025-08-19T18:06:56.991122Z",
     "iopub.status.busy": "2025-08-19T18:06:56.990074Z",
     "iopub.status.idle": "2025-08-19T18:06:57.001810Z",
     "shell.execute_reply": "2025-08-19T18:06:57.000537Z"
    },
    "papermill": {
     "duration": 0.026524,
     "end_time": "2025-08-19T18:06:57.003295",
     "exception": false,
     "start_time": "2025-08-19T18:06:56.976771",
     "status": "completed"
    },
    "tags": []
   },
   "outputs": [
    {
     "data": {
      "text/plain": [
       "0.664070021542995"
      ]
     },
     "execution_count": 42,
     "metadata": {},
     "output_type": "execute_result"
    }
   ],
   "source": [
    "q_hat"
   ]
  },
  {
   "cell_type": "code",
   "execution_count": 43,
   "id": "aa1f5faa",
   "metadata": {
    "execution": {
     "iopub.execute_input": "2025-08-19T18:06:57.032756Z",
     "iopub.status.busy": "2025-08-19T18:06:57.031433Z",
     "iopub.status.idle": "2025-08-19T18:06:57.664356Z",
     "shell.execute_reply": "2025-08-19T18:06:57.663188Z"
    },
    "papermill": {
     "duration": 0.648113,
     "end_time": "2025-08-19T18:06:57.666093",
     "exception": false,
     "start_time": "2025-08-19T18:06:57.017980",
     "status": "completed"
    },
    "tags": []
   },
   "outputs": [],
   "source": [
    "from fairness_multiverse.conformal import predict_conformal_sets\n",
    "\n",
    "# Generate prediction sets for each test example\n",
    "pred_sets = predict_conformal_sets(model, X_test, q_hat)"
   ]
  },
  {
   "cell_type": "code",
   "execution_count": 44,
   "id": "97f67a6b",
   "metadata": {
    "execution": {
     "iopub.execute_input": "2025-08-19T18:06:57.693863Z",
     "iopub.status.busy": "2025-08-19T18:06:57.692374Z",
     "iopub.status.idle": "2025-08-19T18:06:57.701611Z",
     "shell.execute_reply": "2025-08-19T18:06:57.700211Z"
    },
    "papermill": {
     "duration": 0.024824,
     "end_time": "2025-08-19T18:06:57.703454",
     "exception": false,
     "start_time": "2025-08-19T18:06:57.678630",
     "status": "completed"
    },
    "tags": []
   },
   "outputs": [],
   "source": [
    "y_true = y_true.squeeze()"
   ]
  },
  {
   "cell_type": "code",
   "execution_count": 45,
   "id": "e700e9a7",
   "metadata": {
    "execution": {
     "iopub.execute_input": "2025-08-19T18:06:57.739003Z",
     "iopub.status.busy": "2025-08-19T18:06:57.737943Z",
     "iopub.status.idle": "2025-08-19T18:06:58.241008Z",
     "shell.execute_reply": "2025-08-19T18:06:58.240171Z"
    },
    "papermill": {
     "duration": 0.520225,
     "end_time": "2025-08-19T18:06:58.242577",
     "exception": false,
     "start_time": "2025-08-19T18:06:57.722352",
     "status": "completed"
    },
    "tags": []
   },
   "outputs": [],
   "source": [
    "from fairness_multiverse.conformal import evaluate_sets\n",
    "\n",
    "# Evaluate coverage and average set size on test data\n",
    "metrics = evaluate_sets(pred_sets, y_true)"
   ]
  },
  {
   "cell_type": "markdown",
   "id": "efbacec0",
   "metadata": {
    "papermill": {
     "duration": 0.038121,
     "end_time": "2025-08-19T18:06:58.295682",
     "exception": false,
     "start_time": "2025-08-19T18:06:58.257561",
     "status": "completed"
    },
    "tags": []
   },
   "source": [
    "# CP Metrics"
   ]
  },
  {
   "cell_type": "code",
   "execution_count": 46,
   "id": "9de55fb1",
   "metadata": {
    "execution": {
     "iopub.execute_input": "2025-08-19T18:06:58.323134Z",
     "iopub.status.busy": "2025-08-19T18:06:58.321354Z",
     "iopub.status.idle": "2025-08-19T18:06:58.331940Z",
     "shell.execute_reply": "2025-08-19T18:06:58.330781Z"
    },
    "papermill": {
     "duration": 0.025325,
     "end_time": "2025-08-19T18:06:58.333258",
     "exception": false,
     "start_time": "2025-08-19T18:06:58.307933",
     "status": "completed"
    },
    "tags": []
   },
   "outputs": [
    {
     "data": {
      "text/plain": [
       "{'coverage': 0.9116597926652548, 'avg_size': 1.1250585219039126}"
      ]
     },
     "execution_count": 46,
     "metadata": {},
     "output_type": "execute_result"
    }
   ],
   "source": [
    "metrics"
   ]
  },
  {
   "cell_type": "code",
   "execution_count": 47,
   "id": "64c340a1",
   "metadata": {
    "execution": {
     "iopub.execute_input": "2025-08-19T18:06:58.360614Z",
     "iopub.status.busy": "2025-08-19T18:06:58.359440Z",
     "iopub.status.idle": "2025-08-19T18:06:58.370756Z",
     "shell.execute_reply": "2025-08-19T18:06:58.369056Z"
    },
    "papermill": {
     "duration": 0.026796,
     "end_time": "2025-08-19T18:06:58.372597",
     "exception": false,
     "start_time": "2025-08-19T18:06:58.345801",
     "status": "completed"
    },
    "tags": []
   },
   "outputs": [],
   "source": [
    "example_universe = universe.copy()\n",
    "universe_training_year = example_universe.get(\"training_year\")\n",
    "universe_training_size = example_universe.get(\"training_size\")\n",
    "universe_scale = example_universe.get(\"scale\")\n",
    "universe_model = example_universe.get(\"model\")\n",
    "universe_exclude_features = example_universe.get(\"exclude_features\")\n",
    "universe_exclude_subgroups = example_universe.get(\"exclude_subgroups\")"
   ]
  },
  {
   "cell_type": "code",
   "execution_count": 48,
   "id": "dbb53cb4",
   "metadata": {
    "execution": {
     "iopub.execute_input": "2025-08-19T18:06:58.404610Z",
     "iopub.status.busy": "2025-08-19T18:06:58.403082Z",
     "iopub.status.idle": "2025-08-19T18:06:58.428557Z",
     "shell.execute_reply": "2025-08-19T18:06:58.412506Z"
    },
    "papermill": {
     "duration": 0.041722,
     "end_time": "2025-08-19T18:06:58.430812",
     "exception": false,
     "start_time": "2025-08-19T18:06:58.389090",
     "status": "completed"
    },
    "tags": []
   },
   "outputs": [],
   "source": [
    "cp_metrics_dict = {\n",
    "    \"universe_id\": [universe_id],\n",
    "    \"universe_training_year\": [universe_training_year],\n",
    "    \"universe_training_size\": [universe_training_size],\n",
    "    \"universe_scale\": [universe_scale],\n",
    "    \"universe_model\": [universe_model],\n",
    "    \"universe_exclude_features\": [universe_exclude_features],\n",
    "    \"universe_exclude_subgroups\": [universe_exclude_subgroups],\n",
    "    \"q_hat\": [q_hat],\n",
    "    \"coverage\": [metrics[\"coverage\"]],\n",
    "    \"avg_size\": [metrics[\"avg_size\"]],\n",
    "}"
   ]
  },
  {
   "cell_type": "code",
   "execution_count": 49,
   "id": "0d70d4b2",
   "metadata": {
    "execution": {
     "iopub.execute_input": "2025-08-19T18:06:58.466942Z",
     "iopub.status.busy": "2025-08-19T18:06:58.466626Z",
     "iopub.status.idle": "2025-08-19T18:06:58.472706Z",
     "shell.execute_reply": "2025-08-19T18:06:58.471938Z"
    },
    "papermill": {
     "duration": 0.022711,
     "end_time": "2025-08-19T18:06:58.475172",
     "exception": false,
     "start_time": "2025-08-19T18:06:58.452461",
     "status": "completed"
    },
    "tags": []
   },
   "outputs": [],
   "source": [
    "cp_metrics_df = pd.DataFrame(cp_metrics_dict)"
   ]
  },
  {
   "cell_type": "code",
   "execution_count": 50,
   "id": "b494403c",
   "metadata": {
    "execution": {
     "iopub.execute_input": "2025-08-19T18:06:58.542635Z",
     "iopub.status.busy": "2025-08-19T18:06:58.542227Z",
     "iopub.status.idle": "2025-08-19T18:06:58.560271Z",
     "shell.execute_reply": "2025-08-19T18:06:58.559563Z"
    },
    "papermill": {
     "duration": 0.058984,
     "end_time": "2025-08-19T18:06:58.562429",
     "exception": false,
     "start_time": "2025-08-19T18:06:58.503445",
     "status": "completed"
    },
    "tags": []
   },
   "outputs": [
    {
     "data": {
      "text/html": [
       "<div>\n",
       "<style scoped>\n",
       "    .dataframe tbody tr th:only-of-type {\n",
       "        vertical-align: middle;\n",
       "    }\n",
       "\n",
       "    .dataframe tbody tr th {\n",
       "        vertical-align: top;\n",
       "    }\n",
       "\n",
       "    .dataframe thead th {\n",
       "        text-align: right;\n",
       "    }\n",
       "</style>\n",
       "<table border=\"1\" class=\"dataframe\">\n",
       "  <thead>\n",
       "    <tr style=\"text-align: right;\">\n",
       "      <th></th>\n",
       "      <th>universe_id</th>\n",
       "      <th>universe_training_year</th>\n",
       "      <th>universe_training_size</th>\n",
       "      <th>universe_scale</th>\n",
       "      <th>universe_model</th>\n",
       "      <th>universe_exclude_features</th>\n",
       "      <th>universe_exclude_subgroups</th>\n",
       "      <th>q_hat</th>\n",
       "      <th>coverage</th>\n",
       "      <th>avg_size</th>\n",
       "    </tr>\n",
       "  </thead>\n",
       "  <tbody>\n",
       "    <tr>\n",
       "      <th>0</th>\n",
       "      <td>555b8a20cedd6a1c7ba8e4809b67955f</td>\n",
       "      <td>2012_14</td>\n",
       "      <td>25k</td>\n",
       "      <td>scale</td>\n",
       "      <td>elasticnet</td>\n",
       "      <td>none</td>\n",
       "      <td>keep-all</td>\n",
       "      <td>0.66407</td>\n",
       "      <td>0.91166</td>\n",
       "      <td>1.125059</td>\n",
       "    </tr>\n",
       "  </tbody>\n",
       "</table>\n",
       "</div>"
      ],
      "text/plain": [
       "                        universe_id universe_training_year  \\\n",
       "0  555b8a20cedd6a1c7ba8e4809b67955f                2012_14   \n",
       "\n",
       "  universe_training_size universe_scale universe_model  \\\n",
       "0                    25k          scale     elasticnet   \n",
       "\n",
       "  universe_exclude_features universe_exclude_subgroups    q_hat  coverage  \\\n",
       "0                      none                   keep-all  0.66407   0.91166   \n",
       "\n",
       "   avg_size  \n",
       "0  1.125059  "
      ]
     },
     "execution_count": 50,
     "metadata": {},
     "output_type": "execute_result"
    }
   ],
   "source": [
    "cp_metrics_df"
   ]
  },
  {
   "cell_type": "markdown",
   "id": "ed608b0b",
   "metadata": {
    "papermill": {
     "duration": 0.029211,
     "end_time": "2025-08-19T18:06:58.621935",
     "exception": false,
     "start_time": "2025-08-19T18:06:58.592724",
     "status": "completed"
    },
    "tags": []
   },
   "source": [
    "Conditional coverage & looking at subgroups"
   ]
  },
  {
   "cell_type": "code",
   "execution_count": 51,
   "id": "8968c366",
   "metadata": {
    "execution": {
     "iopub.execute_input": "2025-08-19T18:06:58.656900Z",
     "iopub.status.busy": "2025-08-19T18:06:58.656466Z",
     "iopub.status.idle": "2025-08-19T18:06:58.956821Z",
     "shell.execute_reply": "2025-08-19T18:06:58.956049Z"
    },
    "papermill": {
     "duration": 0.318834,
     "end_time": "2025-08-19T18:06:58.959806",
     "exception": false,
     "start_time": "2025-08-19T18:06:58.640972",
     "status": "completed"
    },
    "tags": []
   },
   "outputs": [],
   "source": [
    "from fairness_multiverse.conformal import build_cp_groups\n",
    "\n",
    "cp_groups_df = build_cp_groups(pred_sets, y_true, X_test.index, org_test)"
   ]
  },
  {
   "cell_type": "code",
   "execution_count": 52,
   "id": "292ddabf",
   "metadata": {
    "execution": {
     "iopub.execute_input": "2025-08-19T18:06:59.003885Z",
     "iopub.status.busy": "2025-08-19T18:06:59.002801Z",
     "iopub.status.idle": "2025-08-19T18:06:59.870986Z",
     "shell.execute_reply": "2025-08-19T18:06:59.870065Z"
    },
    "papermill": {
     "duration": 0.886687,
     "end_time": "2025-08-19T18:06:59.873500",
     "exception": false,
     "start_time": "2025-08-19T18:06:58.986813",
     "status": "completed"
    },
    "tags": []
   },
   "outputs": [],
   "source": [
    "# Define covered = 1 if true_label is in the predicted set\n",
    "cp_groups_df['covered'] = cp_groups_df.apply(\n",
    "    lambda r: int(r['true_label'] in r['pred_set']),\n",
    "    axis=1\n",
    ")"
   ]
  },
  {
   "cell_type": "code",
   "execution_count": 53,
   "id": "3a261692",
   "metadata": {
    "execution": {
     "iopub.execute_input": "2025-08-19T18:06:59.909073Z",
     "iopub.status.busy": "2025-08-19T18:06:59.908645Z",
     "iopub.status.idle": "2025-08-19T18:06:59.920368Z",
     "shell.execute_reply": "2025-08-19T18:06:59.919678Z"
    },
    "papermill": {
     "duration": 0.026396,
     "end_time": "2025-08-19T18:06:59.921505",
     "exception": false,
     "start_time": "2025-08-19T18:06:59.895109",
     "status": "completed"
    },
    "tags": []
   },
   "outputs": [],
   "source": [
    "subgroups = ['frau1','nongerman','nongerman_male','nongerman_female']\n",
    "\n",
    "# Conditional coverage for subgroup==1\n",
    "cond_coverage = {\n",
    "    g: cp_groups_df.loc[cp_groups_df[g]==1, 'covered'].mean()\n",
    "    for g in subgroups\n",
    "}"
   ]
  },
  {
   "cell_type": "code",
   "execution_count": 54,
   "id": "894fd600",
   "metadata": {
    "execution": {
     "iopub.execute_input": "2025-08-19T18:06:59.960068Z",
     "iopub.status.busy": "2025-08-19T18:06:59.959216Z",
     "iopub.status.idle": "2025-08-19T18:06:59.970798Z",
     "shell.execute_reply": "2025-08-19T18:06:59.969502Z"
    },
    "papermill": {
     "duration": 0.035308,
     "end_time": "2025-08-19T18:06:59.972315",
     "exception": false,
     "start_time": "2025-08-19T18:06:59.937007",
     "status": "completed"
    },
    "tags": []
   },
   "outputs": [
    {
     "data": {
      "text/plain": [
       "{'frau1': 0.9097991643078582,\n",
       " 'nongerman': 0.9107393476674339,\n",
       " 'nongerman_male': 0.92704674412321,\n",
       " 'nongerman_female': 0.8837555886736215}"
      ]
     },
     "execution_count": 54,
     "metadata": {},
     "output_type": "execute_result"
    }
   ],
   "source": [
    "cond_coverage"
   ]
  },
  {
   "cell_type": "code",
   "execution_count": 55,
   "id": "942895c7",
   "metadata": {
    "execution": {
     "iopub.execute_input": "2025-08-19T18:07:00.011620Z",
     "iopub.status.busy": "2025-08-19T18:07:00.011168Z",
     "iopub.status.idle": "2025-08-19T18:07:00.018176Z",
     "shell.execute_reply": "2025-08-19T18:07:00.017181Z"
    },
    "papermill": {
     "duration": 0.034713,
     "end_time": "2025-08-19T18:07:00.020541",
     "exception": false,
     "start_time": "2025-08-19T18:06:59.985828",
     "status": "completed"
    },
    "tags": []
   },
   "outputs": [],
   "source": [
    "for subgroup, cov in cond_coverage.items():\n",
    "    cp_metrics_df[f\"cov_{subgroup}\"] = cov"
   ]
  },
  {
   "cell_type": "code",
   "execution_count": 56,
   "id": "3970120f",
   "metadata": {
    "execution": {
     "iopub.execute_input": "2025-08-19T18:07:00.074942Z",
     "iopub.status.busy": "2025-08-19T18:07:00.074512Z",
     "iopub.status.idle": "2025-08-19T18:07:00.093472Z",
     "shell.execute_reply": "2025-08-19T18:07:00.091581Z"
    },
    "papermill": {
     "duration": 0.04872,
     "end_time": "2025-08-19T18:07:00.095579",
     "exception": false,
     "start_time": "2025-08-19T18:07:00.046859",
     "status": "completed"
    },
    "tags": []
   },
   "outputs": [
    {
     "data": {
      "text/html": [
       "<div>\n",
       "<style scoped>\n",
       "    .dataframe tbody tr th:only-of-type {\n",
       "        vertical-align: middle;\n",
       "    }\n",
       "\n",
       "    .dataframe tbody tr th {\n",
       "        vertical-align: top;\n",
       "    }\n",
       "\n",
       "    .dataframe thead th {\n",
       "        text-align: right;\n",
       "    }\n",
       "</style>\n",
       "<table border=\"1\" class=\"dataframe\">\n",
       "  <thead>\n",
       "    <tr style=\"text-align: right;\">\n",
       "      <th></th>\n",
       "      <th>universe_id</th>\n",
       "      <th>universe_training_year</th>\n",
       "      <th>universe_training_size</th>\n",
       "      <th>universe_scale</th>\n",
       "      <th>universe_model</th>\n",
       "      <th>universe_exclude_features</th>\n",
       "      <th>universe_exclude_subgroups</th>\n",
       "      <th>q_hat</th>\n",
       "      <th>coverage</th>\n",
       "      <th>avg_size</th>\n",
       "      <th>cov_frau1</th>\n",
       "      <th>cov_nongerman</th>\n",
       "      <th>cov_nongerman_male</th>\n",
       "      <th>cov_nongerman_female</th>\n",
       "    </tr>\n",
       "  </thead>\n",
       "  <tbody>\n",
       "    <tr>\n",
       "      <th>0</th>\n",
       "      <td>555b8a20cedd6a1c7ba8e4809b67955f</td>\n",
       "      <td>2012_14</td>\n",
       "      <td>25k</td>\n",
       "      <td>scale</td>\n",
       "      <td>elasticnet</td>\n",
       "      <td>none</td>\n",
       "      <td>keep-all</td>\n",
       "      <td>0.66407</td>\n",
       "      <td>0.91166</td>\n",
       "      <td>1.125059</td>\n",
       "      <td>0.909799</td>\n",
       "      <td>0.910739</td>\n",
       "      <td>0.927047</td>\n",
       "      <td>0.883756</td>\n",
       "    </tr>\n",
       "  </tbody>\n",
       "</table>\n",
       "</div>"
      ],
      "text/plain": [
       "                        universe_id universe_training_year  \\\n",
       "0  555b8a20cedd6a1c7ba8e4809b67955f                2012_14   \n",
       "\n",
       "  universe_training_size universe_scale universe_model  \\\n",
       "0                    25k          scale     elasticnet   \n",
       "\n",
       "  universe_exclude_features universe_exclude_subgroups    q_hat  coverage  \\\n",
       "0                      none                   keep-all  0.66407   0.91166   \n",
       "\n",
       "   avg_size  cov_frau1  cov_nongerman  cov_nongerman_male  \\\n",
       "0  1.125059   0.909799       0.910739            0.927047   \n",
       "\n",
       "   cov_nongerman_female  \n",
       "0              0.883756  "
      ]
     },
     "execution_count": 56,
     "metadata": {},
     "output_type": "execute_result"
    }
   ],
   "source": [
    "cp_metrics_df"
   ]
  },
  {
   "cell_type": "markdown",
   "id": "3fc519cc",
   "metadata": {
    "papermill": {
     "duration": 0.012494,
     "end_time": "2025-08-19T18:07:00.125676",
     "exception": false,
     "start_time": "2025-08-19T18:07:00.113182",
     "status": "completed"
    },
    "tags": []
   },
   "source": [
    "# (Fairness) Metrics"
   ]
  },
  {
   "cell_type": "code",
   "execution_count": 57,
   "id": "a2e5e155",
   "metadata": {
    "execution": {
     "iopub.execute_input": "2025-08-19T18:07:00.152657Z",
     "iopub.status.busy": "2025-08-19T18:07:00.151685Z",
     "iopub.status.idle": "2025-08-19T18:07:00.179729Z",
     "shell.execute_reply": "2025-08-19T18:07:00.178786Z"
    },
    "papermill": {
     "duration": 0.043933,
     "end_time": "2025-08-19T18:07:00.181808",
     "exception": false,
     "start_time": "2025-08-19T18:07:00.137875",
     "status": "completed"
    },
    "tags": []
   },
   "outputs": [],
   "source": [
    "colname_to_bin = \"maxdeutsch1\"\n",
    "majority_value = org_train[colname_to_bin].mode()[0]\n",
    "\n",
    "org_test[\"majmin\"] = np.where(org_test[colname_to_bin] == majority_value, \"majority\", \"minority\")"
   ]
  },
  {
   "cell_type": "code",
   "execution_count": 58,
   "id": "17e3e4d5",
   "metadata": {
    "execution": {
     "iopub.execute_input": "2025-08-19T18:07:00.219181Z",
     "iopub.status.busy": "2025-08-19T18:07:00.218231Z",
     "iopub.status.idle": "2025-08-19T18:07:02.002339Z",
     "shell.execute_reply": "2025-08-19T18:07:02.001056Z"
    },
    "papermill": {
     "duration": 1.800199,
     "end_time": "2025-08-19T18:07:02.004416",
     "exception": false,
     "start_time": "2025-08-19T18:07:00.204217",
     "status": "completed"
    },
    "tags": []
   },
   "outputs": [],
   "source": [
    "example_universe = universe.copy()\n",
    "example_universe[\"cutoff\"] = example_universe[\"cutoff\"][0]\n",
    "example_universe[\"eval_fairness_grouping\"] = example_universe[\"eval_fairness_grouping\"][0]\n",
    "fairness_dict, metric_frame = universe_analysis.compute_metrics(\n",
    "    example_universe,\n",
    "    y_pred_prob=probs_test,\n",
    "    y_test=y_true,\n",
    "    org_test=org_test,\n",
    ")"
   ]
  },
  {
   "cell_type": "markdown",
   "id": "1fb7a0e9",
   "metadata": {
    "papermill": {
     "duration": 0.012515,
     "end_time": "2025-08-19T18:07:02.032173",
     "exception": false,
     "start_time": "2025-08-19T18:07:02.019658",
     "status": "completed"
    },
    "tags": []
   },
   "source": [
    "# Overall"
   ]
  },
  {
   "cell_type": "markdown",
   "id": "be1784b1",
   "metadata": {
    "papermill": {
     "duration": 0.012117,
     "end_time": "2025-08-19T18:07:02.056576",
     "exception": false,
     "start_time": "2025-08-19T18:07:02.044459",
     "status": "completed"
    },
    "tags": []
   },
   "source": [
    "Main fairness target: Equalized Odds. Seems to be a better fit than equal opportunity, since we're not only interested in Y = 1. Seems to be a better fit than demographic parity, since we also care about accuracy, not just equal distribution of preds.\n",
    "\n",
    "Pick column for computation of fairness metrics\n",
    "\n",
    "Performance\n",
    "Overall performance measures, most interesting in relation to the measures split by group below"
   ]
  },
  {
   "cell_type": "code",
   "execution_count": 59,
   "id": "b7672bee",
   "metadata": {
    "execution": {
     "iopub.execute_input": "2025-08-19T18:07:02.084440Z",
     "iopub.status.busy": "2025-08-19T18:07:02.083314Z",
     "iopub.status.idle": "2025-08-19T18:07:02.099626Z",
     "shell.execute_reply": "2025-08-19T18:07:02.098334Z"
    },
    "papermill": {
     "duration": 0.032543,
     "end_time": "2025-08-19T18:07:02.101323",
     "exception": false,
     "start_time": "2025-08-19T18:07:02.068780",
     "status": "completed"
    },
    "tags": []
   },
   "outputs": [
    {
     "data": {
      "text/plain": [
       "accuracy                   0.225382\n",
       "balanced accuracy          0.550878\n",
       "f1                         0.246686\n",
       "precision                  0.140923\n",
       "false positive rate        0.886947\n",
       "false negative rate        0.011296\n",
       "selection rate             0.900000\n",
       "count                  89710.000000\n",
       "dtype: float64"
      ]
     },
     "execution_count": 59,
     "metadata": {},
     "output_type": "execute_result"
    }
   ],
   "source": [
    "metric_frame.overall"
   ]
  },
  {
   "cell_type": "markdown",
   "id": "d93333c9",
   "metadata": {
    "papermill": {
     "duration": 0.012486,
     "end_time": "2025-08-19T18:07:02.128898",
     "exception": false,
     "start_time": "2025-08-19T18:07:02.116412",
     "status": "completed"
    },
    "tags": []
   },
   "source": [
    "By Group"
   ]
  },
  {
   "cell_type": "code",
   "execution_count": 60,
   "id": "52256966",
   "metadata": {
    "execution": {
     "iopub.execute_input": "2025-08-19T18:07:02.156135Z",
     "iopub.status.busy": "2025-08-19T18:07:02.155126Z",
     "iopub.status.idle": "2025-08-19T18:07:02.199743Z",
     "shell.execute_reply": "2025-08-19T18:07:02.198105Z"
    },
    "papermill": {
     "duration": 0.06229,
     "end_time": "2025-08-19T18:07:02.203467",
     "exception": false,
     "start_time": "2025-08-19T18:07:02.141177",
     "status": "completed"
    },
    "tags": []
   },
   "outputs": [
    {
     "data": {
      "text/html": [
       "<div>\n",
       "<style scoped>\n",
       "    .dataframe tbody tr th:only-of-type {\n",
       "        vertical-align: middle;\n",
       "    }\n",
       "\n",
       "    .dataframe tbody tr th {\n",
       "        vertical-align: top;\n",
       "    }\n",
       "\n",
       "    .dataframe thead th {\n",
       "        text-align: right;\n",
       "    }\n",
       "</style>\n",
       "<table border=\"1\" class=\"dataframe\">\n",
       "  <thead>\n",
       "    <tr style=\"text-align: right;\">\n",
       "      <th></th>\n",
       "      <th>accuracy</th>\n",
       "      <th>balanced accuracy</th>\n",
       "      <th>f1</th>\n",
       "      <th>precision</th>\n",
       "      <th>false positive rate</th>\n",
       "      <th>false negative rate</th>\n",
       "      <th>selection rate</th>\n",
       "      <th>count</th>\n",
       "    </tr>\n",
       "    <tr>\n",
       "      <th>majmin</th>\n",
       "      <th></th>\n",
       "      <th></th>\n",
       "      <th></th>\n",
       "      <th></th>\n",
       "      <th></th>\n",
       "      <th></th>\n",
       "      <th></th>\n",
       "      <th></th>\n",
       "    </tr>\n",
       "  </thead>\n",
       "  <tbody>\n",
       "    <tr>\n",
       "      <th>majority</th>\n",
       "      <td>0.247015</td>\n",
       "      <td>0.560897</td>\n",
       "      <td>0.257386</td>\n",
       "      <td>0.147977</td>\n",
       "      <td>0.865734</td>\n",
       "      <td>0.012473</td>\n",
       "      <td>0.881827</td>\n",
       "      <td>69170.0</td>\n",
       "    </tr>\n",
       "    <tr>\n",
       "      <th>minority</th>\n",
       "      <td>0.152532</td>\n",
       "      <td>0.518111</td>\n",
       "      <td>0.212745</td>\n",
       "      <td>0.119131</td>\n",
       "      <td>0.957022</td>\n",
       "      <td>0.006757</td>\n",
       "      <td>0.961198</td>\n",
       "      <td>20540.0</td>\n",
       "    </tr>\n",
       "  </tbody>\n",
       "</table>\n",
       "</div>"
      ],
      "text/plain": [
       "          accuracy  balanced accuracy        f1  precision  \\\n",
       "majmin                                                       \n",
       "majority  0.247015           0.560897  0.257386   0.147977   \n",
       "minority  0.152532           0.518111  0.212745   0.119131   \n",
       "\n",
       "          false positive rate  false negative rate  selection rate    count  \n",
       "majmin                                                                       \n",
       "majority             0.865734             0.012473        0.881827  69170.0  \n",
       "minority             0.957022             0.006757        0.961198  20540.0  "
      ]
     },
     "execution_count": 60,
     "metadata": {},
     "output_type": "execute_result"
    }
   ],
   "source": [
    "metric_frame.by_group"
   ]
  },
  {
   "cell_type": "code",
   "execution_count": 61,
   "id": "6e6c20ae",
   "metadata": {
    "execution": {
     "iopub.execute_input": "2025-08-19T18:07:02.244937Z",
     "iopub.status.busy": "2025-08-19T18:07:02.244559Z",
     "iopub.status.idle": "2025-08-19T18:07:04.127960Z",
     "shell.execute_reply": "2025-08-19T18:07:04.126800Z"
    },
    "papermill": {
     "duration": 1.899364,
     "end_time": "2025-08-19T18:07:04.129273",
     "exception": false,
     "start_time": "2025-08-19T18:07:02.229909",
     "status": "completed"
    },
    "tags": []
   },
   "outputs": [
    {
     "data": {
      "text/plain": [
       "array([[<Axes: title={'center': 'accuracy'}, xlabel='majmin'>,\n",
       "        <Axes: title={'center': 'balanced accuracy'}, xlabel='majmin'>,\n",
       "        <Axes: title={'center': 'f1'}, xlabel='majmin'>],\n",
       "       [<Axes: title={'center': 'precision'}, xlabel='majmin'>,\n",
       "        <Axes: title={'center': 'false positive rate'}, xlabel='majmin'>,\n",
       "        <Axes: title={'center': 'false negative rate'}, xlabel='majmin'>],\n",
       "       [<Axes: title={'center': 'selection rate'}, xlabel='majmin'>,\n",
       "        <Axes: title={'center': 'count'}, xlabel='majmin'>,\n",
       "        <Axes: xlabel='majmin'>]], dtype=object)"
      ]
     },
     "execution_count": 61,
     "metadata": {},
     "output_type": "execute_result"
    },
    {
     "data": {
      "image/png": "[encoded data removed]",
      "text/plain": [
       "<Figure size 1200x800 with 9 Axes>"
      ]
     },
     "metadata": {},
     "output_type": "display_data"
    }
   ],
   "source": [
    "# In a graphic\n",
    "metric_frame.by_group.plot.bar(\n",
    "    subplots=True,\n",
    "    layout=[3, 3],\n",
    "    legend=False,\n",
    "    figsize=[12, 8],\n",
    "    title=\"Show all metrics\",\n",
    ")"
   ]
  },
  {
   "cell_type": "markdown",
   "id": "b2e433ae",
   "metadata": {
    "papermill": {
     "duration": 0.020466,
     "end_time": "2025-08-19T18:07:04.167807",
     "exception": false,
     "start_time": "2025-08-19T18:07:04.147341",
     "status": "completed"
    },
    "tags": []
   },
   "source": [
    "# Final Output"
   ]
  },
  {
   "cell_type": "code",
   "execution_count": 62,
   "id": "3871301e",
   "metadata": {
    "execution": {
     "iopub.execute_input": "2025-08-19T18:07:04.212990Z",
     "iopub.status.busy": "2025-08-19T18:07:04.211732Z",
     "iopub.status.idle": "2025-08-19T18:07:04.223412Z",
     "shell.execute_reply": "2025-08-19T18:07:04.222674Z"
    },
    "papermill": {
     "duration": 0.029069,
     "end_time": "2025-08-19T18:07:04.224822",
     "exception": false,
     "start_time": "2025-08-19T18:07:04.195753",
     "status": "completed"
    },
    "tags": []
   },
   "outputs": [
    {
     "data": {
      "text/plain": [
       "4"
      ]
     },
     "execution_count": 62,
     "metadata": {},
     "output_type": "execute_result"
    }
   ],
   "source": [
    "sub_universes = universe_analysis.generate_sub_universes()\n",
    "len(sub_universes)"
   ]
  },
  {
   "cell_type": "code",
   "execution_count": 63,
   "id": "d9cfdaca",
   "metadata": {
    "execution": {
     "iopub.execute_input": "2025-08-19T18:07:04.259715Z",
     "iopub.status.busy": "2025-08-19T18:07:04.258806Z",
     "iopub.status.idle": "2025-08-19T18:07:04.346914Z",
     "shell.execute_reply": "2025-08-19T18:07:04.345106Z"
    },
    "papermill": {
     "duration": 0.107738,
     "end_time": "2025-08-19T18:07:04.351086",
     "exception": false,
     "start_time": "2025-08-19T18:07:04.243348",
     "status": "completed"
    },
    "tags": []
   },
   "outputs": [],
   "source": [
    "def filter_sub_universe_data(sub_universe, org_test):\n",
    "    # Keep all rows — no filtering\n",
    "    keep_rows_mask = np.ones(org_test.shape[0], dtype=bool)\n",
    "\n",
    "    print(f\"[INFO] Keeping all rows: {keep_rows_mask.sum()} rows retained.\")\n",
    "    return keep_rows_mask"
   ]
  },
  {
   "cell_type": "code",
   "execution_count": 64,
   "id": "2bc31ac1",
   "metadata": {
    "execution": {
     "iopub.execute_input": "2025-08-19T18:07:04.397563Z",
     "iopub.status.busy": "2025-08-19T18:07:04.396542Z",
     "iopub.status.idle": "2025-08-19T18:07:11.071716Z",
     "shell.execute_reply": "2025-08-19T18:07:11.070736Z"
    },
    "papermill": {
     "duration": 6.693031,
     "end_time": "2025-08-19T18:07:11.072978",
     "exception": false,
     "start_time": "2025-08-19T18:07:04.379947",
     "status": "completed"
    },
    "tags": []
   },
   "outputs": [
    {
     "name": "stdout",
     "output_type": "stream",
     "text": [
      "Stopping execution_time clock.\n",
      "[INFO] Keeping all rows: 89710 rows retained.\n"
     ]
    },
    {
     "name": "stdout",
     "output_type": "stream",
     "text": [
      "[INFO] Keeping all rows: 89710 rows retained.\n"
     ]
    },
    {
     "name": "stdout",
     "output_type": "stream",
     "text": [
      "[INFO] Keeping all rows: 89710 rows retained.\n"
     ]
    },
    {
     "name": "stdout",
     "output_type": "stream",
     "text": [
      "[INFO] Keeping all rows: 89710 rows retained.\n"
     ]
    },
    {
     "data": {
      "text/html": [
       "<div>\n",
       "<style scoped>\n",
       "    .dataframe tbody tr th:only-of-type {\n",
       "        vertical-align: middle;\n",
       "    }\n",
       "\n",
       "    .dataframe tbody tr th {\n",
       "        vertical-align: top;\n",
       "    }\n",
       "\n",
       "    .dataframe thead th {\n",
       "        text-align: right;\n",
       "    }\n",
       "</style>\n",
       "<table border=\"1\" class=\"dataframe\">\n",
       "  <thead>\n",
       "    <tr style=\"text-align: right;\">\n",
       "      <th></th>\n",
       "      <th>run_no</th>\n",
       "      <th>universe_id</th>\n",
       "      <th>universe_settings</th>\n",
       "      <th>execution_time</th>\n",
       "      <th>test_size_n</th>\n",
       "      <th>test_size_frac</th>\n",
       "      <th>fair_main_equalized_odds_difference</th>\n",
       "      <th>fair_main_equalized_odds_ratio</th>\n",
       "      <th>fair_main_demographic_parity_difference</th>\n",
       "      <th>fair_main_demographic_parity_ratio</th>\n",
       "      <th>...</th>\n",
       "      <th>perf_grp_precision_0</th>\n",
       "      <th>perf_grp_precision_1</th>\n",
       "      <th>perf_grp_false positive rate_0</th>\n",
       "      <th>perf_grp_false positive rate_1</th>\n",
       "      <th>perf_grp_false negative rate_0</th>\n",
       "      <th>perf_grp_false negative rate_1</th>\n",
       "      <th>perf_grp_selection rate_0</th>\n",
       "      <th>perf_grp_selection rate_1</th>\n",
       "      <th>perf_grp_count_0</th>\n",
       "      <th>perf_grp_count_1</th>\n",
       "    </tr>\n",
       "  </thead>\n",
       "  <tbody>\n",
       "    <tr>\n",
       "      <th>0</th>\n",
       "      <td>3</td>\n",
       "      <td>555b8a20cedd6a1c7ba8e4809b67955f</td>\n",
       "      <td>{\"cutoff\": \"quantile_0.1\", \"eval_fairness_grou...</td>\n",
       "      <td>27.868785</td>\n",
       "      <td>89710</td>\n",
       "      <td>1.0</td>\n",
       "      <td>0.091288</td>\n",
       "      <td>0.904612</td>\n",
       "      <td>0.079370</td>\n",
       "      <td>0.917426</td>\n",
       "      <td>...</td>\n",
       "      <td>NaN</td>\n",
       "      <td>NaN</td>\n",
       "      <td>NaN</td>\n",
       "      <td>NaN</td>\n",
       "      <td>NaN</td>\n",
       "      <td>NaN</td>\n",
       "      <td>NaN</td>\n",
       "      <td>NaN</td>\n",
       "      <td>NaN</td>\n",
       "      <td>NaN</td>\n",
       "    </tr>\n",
       "    <tr>\n",
       "      <th>0</th>\n",
       "      <td>3</td>\n",
       "      <td>555b8a20cedd6a1c7ba8e4809b67955f</td>\n",
       "      <td>{\"cutoff\": \"quantile_0.1\", \"eval_fairness_grou...</td>\n",
       "      <td>27.868785</td>\n",
       "      <td>89710</td>\n",
       "      <td>1.0</td>\n",
       "      <td>0.091288</td>\n",
       "      <td>0.904612</td>\n",
       "      <td>0.079370</td>\n",
       "      <td>0.917426</td>\n",
       "      <td>...</td>\n",
       "      <td>0.119131</td>\n",
       "      <td>0.147977</td>\n",
       "      <td>0.957022</td>\n",
       "      <td>0.865734</td>\n",
       "      <td>0.006757</td>\n",
       "      <td>0.012473</td>\n",
       "      <td>0.961198</td>\n",
       "      <td>0.881827</td>\n",
       "      <td>20540.0</td>\n",
       "      <td>69170.0</td>\n",
       "    </tr>\n",
       "    <tr>\n",
       "      <th>0</th>\n",
       "      <td>3</td>\n",
       "      <td>555b8a20cedd6a1c7ba8e4809b67955f</td>\n",
       "      <td>{\"cutoff\": \"quantile_0.25\", \"eval_fairness_gro...</td>\n",
       "      <td>27.868785</td>\n",
       "      <td>89710</td>\n",
       "      <td>1.0</td>\n",
       "      <td>0.158992</td>\n",
       "      <td>0.811275</td>\n",
       "      <td>0.137658</td>\n",
       "      <td>0.839210</td>\n",
       "      <td>...</td>\n",
       "      <td>NaN</td>\n",
       "      <td>NaN</td>\n",
       "      <td>NaN</td>\n",
       "      <td>NaN</td>\n",
       "      <td>NaN</td>\n",
       "      <td>NaN</td>\n",
       "      <td>NaN</td>\n",
       "      <td>NaN</td>\n",
       "      <td>NaN</td>\n",
       "      <td>NaN</td>\n",
       "    </tr>\n",
       "    <tr>\n",
       "      <th>0</th>\n",
       "      <td>3</td>\n",
       "      <td>555b8a20cedd6a1c7ba8e4809b67955f</td>\n",
       "      <td>{\"cutoff\": \"quantile_0.25\", \"eval_fairness_gro...</td>\n",
       "      <td>27.868785</td>\n",
       "      <td>89710</td>\n",
       "      <td>1.0</td>\n",
       "      <td>0.158992</td>\n",
       "      <td>0.811275</td>\n",
       "      <td>0.137658</td>\n",
       "      <td>0.839210</td>\n",
       "      <td>...</td>\n",
       "      <td>0.129428</td>\n",
       "      <td>0.174437</td>\n",
       "      <td>0.842450</td>\n",
       "      <td>0.683458</td>\n",
       "      <td>0.038851</td>\n",
       "      <td>0.051532</td>\n",
       "      <td>0.856134</td>\n",
       "      <td>0.718476</td>\n",
       "      <td>20540.0</td>\n",
       "      <td>69170.0</td>\n",
       "    </tr>\n",
       "  </tbody>\n",
       "</table>\n",
       "<p>4 rows × 50 columns</p>\n",
       "</div>"
      ],
      "text/plain": [
       "  run_no                       universe_id  \\\n",
       "0      3  555b8a20cedd6a1c7ba8e4809b67955f   \n",
       "0      3  555b8a20cedd6a1c7ba8e4809b67955f   \n",
       "0      3  555b8a20cedd6a1c7ba8e4809b67955f   \n",
       "0      3  555b8a20cedd6a1c7ba8e4809b67955f   \n",
       "\n",
       "                                   universe_settings  execution_time  \\\n",
       "0  {\"cutoff\": \"quantile_0.1\", \"eval_fairness_grou...       27.868785   \n",
       "0  {\"cutoff\": \"quantile_0.1\", \"eval_fairness_grou...       27.868785   \n",
       "0  {\"cutoff\": \"quantile_0.25\", \"eval_fairness_gro...       27.868785   \n",
       "0  {\"cutoff\": \"quantile_0.25\", \"eval_fairness_gro...       27.868785   \n",
       "\n",
       "   test_size_n  test_size_frac  fair_main_equalized_odds_difference  \\\n",
       "0        89710             1.0                             0.091288   \n",
       "0        89710             1.0                             0.091288   \n",
       "0        89710             1.0                             0.158992   \n",
       "0        89710             1.0                             0.158992   \n",
       "\n",
       "   fair_main_equalized_odds_ratio  fair_main_demographic_parity_difference  \\\n",
       "0                        0.904612                                 0.079370   \n",
       "0                        0.904612                                 0.079370   \n",
       "0                        0.811275                                 0.137658   \n",
       "0                        0.811275                                 0.137658   \n",
       "\n",
       "   fair_main_demographic_parity_ratio  ...  perf_grp_precision_0  \\\n",
       "0                            0.917426  ...                   NaN   \n",
       "0                            0.917426  ...              0.119131   \n",
       "0                            0.839210  ...                   NaN   \n",
       "0                            0.839210  ...              0.129428   \n",
       "\n",
       "   perf_grp_precision_1  perf_grp_false positive rate_0  \\\n",
       "0                   NaN                             NaN   \n",
       "0              0.147977                        0.957022   \n",
       "0                   NaN                             NaN   \n",
       "0              0.174437                        0.842450   \n",
       "\n",
       "   perf_grp_false positive rate_1  perf_grp_false negative rate_0  \\\n",
       "0                             NaN                             NaN   \n",
       "0                        0.865734                        0.006757   \n",
       "0                             NaN                             NaN   \n",
       "0                        0.683458                        0.038851   \n",
       "\n",
       "   perf_grp_false negative rate_1  perf_grp_selection rate_0  \\\n",
       "0                             NaN                        NaN   \n",
       "0                        0.012473                   0.961198   \n",
       "0                             NaN                        NaN   \n",
       "0                        0.051532                   0.856134   \n",
       "\n",
       "   perf_grp_selection rate_1  perf_grp_count_0  perf_grp_count_1  \n",
       "0                        NaN               NaN               NaN  \n",
       "0                   0.881827           20540.0           69170.0  \n",
       "0                        NaN               NaN               NaN  \n",
       "0                   0.718476           20540.0           69170.0  \n",
       "\n",
       "[4 rows x 50 columns]"
      ]
     },
     "execution_count": 64,
     "metadata": {},
     "output_type": "execute_result"
    }
   ],
   "source": [
    "final_output = universe_analysis.generate_final_output(\n",
    "    y_pred_prob=probs_test,\n",
    "    y_test=y_true,\n",
    "    org_test=org_test,\n",
    "    filter_data=filter_sub_universe_data,\n",
    "    cp_metrics_df=cp_metrics_df,\n",
    "    save=True,\n",
    ")\n",
    "final_output"
   ]
  },
  {
   "cell_type": "code",
   "execution_count": null,
   "id": "8b80a1ff",
   "metadata": {
    "papermill": {
     "duration": 0.015491,
     "end_time": "2025-08-19T18:07:11.124001",
     "exception": false,
     "start_time": "2025-08-19T18:07:11.108510",
     "status": "completed"
    },
    "tags": []
   },
   "outputs": [],
   "source": []
  },
  {
   "cell_type": "code",
   "execution_count": null,
   "id": "275c9fad",
   "metadata": {
    "papermill": {
     "duration": 0.018624,
     "end_time": "2025-08-19T18:07:11.175874",
     "exception": false,
     "start_time": "2025-08-19T18:07:11.157250",
     "status": "completed"
    },
    "tags": []
   },
   "outputs": [],
   "source": []
  }
 ],
 "metadata": {
  "celltoolbar": "Tags",
  "kernelspec": {
   "display_name": "Python (CMA Fairness)",
   "language": "python",
   "name": "cma_fair_env"
  },
  "language_info": {
   "codemirror_mode": {
    "name": "ipython",
    "version": 3
   },
   "file_extension": ".py",
   "mimetype": "text/x-python",
   "name": "python",
   "nbconvert_exporter": "python",
   "pygments_lexer": "ipython3",
   "version": "3.10.12"
  },
  "papermill": {
   "default_parameters": {},
   "duration": 38.470729,
   "end_time": "2025-08-19T18:07:12.111898",
   "environment_variables": {},
   "exception": null,
   "input_path": "universe_analysis.ipynb",
   "output_path": "output/runs/3/notebooks/m_3-555b8a20cedd6a1c7ba8e4809b67955f.ipynb",
   "parameters": {
    "output_dir": "output",
    "run_no": "3",
    "seed": "2023",
    "universe": "{\"cutoff\": [\"quantile_0.1\", \"quantile_0.25\"], \"eval_fairness_grouping\": [\"majority-minority\", \"nationality-all\"], \"exclude_features\": \"none\", \"exclude_subgroups\": \"keep-all\", \"model\": \"elasticnet\", \"scale\": \"scale\", \"training_size\": \"25k\", \"training_year\": \"2012_14\"}",
    "universe_id": "555b8a20cedd6a1c7ba8e4809b67955f"
   },
   "start_time": "2025-08-19T18:06:33.641169",
   "version": "2.6.0"
  }
 },
 "nbformat": 4,
 "nbformat_minor": 5
}