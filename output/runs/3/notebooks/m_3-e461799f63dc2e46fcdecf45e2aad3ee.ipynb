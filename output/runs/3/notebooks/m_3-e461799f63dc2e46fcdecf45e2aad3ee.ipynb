{
 "cells": [
  {
   "cell_type": "markdown",
   "id": "ef23dbb3",
   "metadata": {
    "papermill": {
     "duration": 0.013013,
     "end_time": "2025-08-19T18:53:00.845789",
     "exception": false,
     "start_time": "2025-08-19T18:53:00.832776",
     "status": "completed"
    },
    "tags": []
   },
   "source": [
    "# Setup"
   ]
  },
  {
   "cell_type": "code",
   "execution_count": 1,
   "id": "0bc8e7dc",
   "metadata": {
    "execution": {
     "iopub.execute_input": "2025-08-19T18:53:00.886050Z",
     "iopub.status.busy": "2025-08-19T18:53:00.885652Z",
     "iopub.status.idle": "2025-08-19T18:53:00.897917Z",
     "shell.execute_reply": "2025-08-19T18:53:00.896942Z"
    },
    "papermill": {
     "duration": 0.02734,
     "end_time": "2025-08-19T18:53:00.899434",
     "exception": false,
     "start_time": "2025-08-19T18:53:00.872094",
     "status": "completed"
    },
    "tags": []
   },
   "outputs": [
    {
     "name": "stdout",
     "output_type": "stream",
     "text": [
      "/dss/dsshome1/0C/ra93lal2/cma/CMA_Fairness_v2\n"
     ]
    },
    {
     "name": "stderr",
     "output_type": "stream",
     "text": [
      "/dss/dsshome1/0C/ra93lal2/.local/share/virtualenvs/CMA_Fairness_v2-3j10GkSs/lib/python3.10/site-packages/IPython/core/magics/osm.py:393: UserWarning: This is now an optional IPython functionality, using bookmarks requires you to install the `pickleshare` library.\n",
      "  bkms = self.shell.db.get('bookmarks', {})\n",
      "/dss/dsshome1/0C/ra93lal2/.local/share/virtualenvs/CMA_Fairness_v2-3j10GkSs/lib/python3.10/site-packages/IPython/core/magics/osm.py:417: UserWarning: This is now an optional IPython functionality, setting dhist requires you to install the `pickleshare` library.\n",
      "  self.shell.db['dhist'] = compress_dhist(dhist)[-100:]\n"
     ]
    }
   ],
   "source": [
    "%cd ~/cma/CMA_Fairness_v2"
   ]
  },
  {
   "cell_type": "markdown",
   "id": "9d235661",
   "metadata": {
    "papermill": {
     "duration": 0.009207,
     "end_time": "2025-08-19T18:53:00.918817",
     "exception": false,
     "start_time": "2025-08-19T18:53:00.909610",
     "status": "completed"
    },
    "tags": []
   },
   "source": [
    "The following cell holds the definition of our parameters, these values can be overriden by rendering the with e.g. the following command:\n",
    "\n",
    "papermill -p alpha 0.2 -p ratio 0.3 universe_analysis.ipynb output/test_run.ipynb"
   ]
  },
  {
   "cell_type": "code",
   "execution_count": 2,
   "id": "4a789d8e",
   "metadata": {
    "execution": {
     "iopub.execute_input": "2025-08-19T18:53:00.939087Z",
     "iopub.status.busy": "2025-08-19T18:53:00.938203Z",
     "iopub.status.idle": "2025-08-19T18:53:00.946773Z",
     "shell.execute_reply": "2025-08-19T18:53:00.945244Z"
    },
    "papermill": {
     "duration": 0.020722,
     "end_time": "2025-08-19T18:53:00.948528",
     "exception": false,
     "start_time": "2025-08-19T18:53:00.927806",
     "status": "completed"
    },
    "tags": []
   },
   "outputs": [
    {
     "name": "stdout",
     "output_type": "stream",
     "text": [
      "Current working directory: /dss/dsshome1/0C/ra93lal2/cma/CMA_Fairness_v2\n"
     ]
    }
   ],
   "source": [
    "import os\n",
    "print(\"Current working directory:\", os.getcwd())"
   ]
  },
  {
   "cell_type": "code",
   "execution_count": 3,
   "id": "4132aaed",
   "metadata": {
    "execution": {
     "iopub.execute_input": "2025-08-19T18:53:00.969682Z",
     "iopub.status.busy": "2025-08-19T18:53:00.968736Z",
     "iopub.status.idle": "2025-08-19T18:53:00.979801Z",
     "shell.execute_reply": "2025-08-19T18:53:00.977503Z"
    },
    "papermill": {
     "duration": 0.023876,
     "end_time": "2025-08-19T18:53:00.982075",
     "exception": false,
     "start_time": "2025-08-19T18:53:00.958199",
     "status": "completed"
    },
    "tags": [
     "parameters"
    ]
   },
   "outputs": [],
   "source": [
    "run_no = 0\n",
    "universe_id = \"test\"\n",
    "universe = {\n",
    "    \"training_size\": \"5k\", # \"25k\", \"5k\", \"1k\"\n",
    "    \"training_year\": \"2012_14\", # \"2014\", \"2012_14\", \"2010_14\"\n",
    "    \"scale\": \"scale\", # \"scale\", \"do-not-scale\",\n",
    "    \"model\": \"elasticnet\", # \"logreg\", \"penalized_logreg\", \"rf\", \"gbm\", \"elasticnet\"\n",
    "    \"cutoff\": [\"quantile_0.15\", \"quantile_0.30\"],\n",
    "    \"exclude_features\": \"age\", # \"none\", \"nationality\", \"sex\", \"nationality-sex\", \"age\"\n",
    "    \"exclude_subgroups\": \"drop-non-german\", # \"keep-all\", \"drop-non-german\"\n",
    "    \"eval_fairness_grouping\": [\"majority-minority\", \"nationality-all\"]\n",
    "}\n",
    "\n",
    "output_dir=\"./output\"\n",
    "seed=0"
   ]
  },
  {
   "cell_type": "code",
   "execution_count": 4,
   "id": "38ea23b9",
   "metadata": {
    "execution": {
     "iopub.execute_input": "2025-08-19T18:53:01.021044Z",
     "iopub.status.busy": "2025-08-19T18:53:01.020231Z",
     "iopub.status.idle": "2025-08-19T18:53:01.025878Z",
     "shell.execute_reply": "2025-08-19T18:53:01.025122Z"
    },
    "papermill": {
     "duration": 0.034183,
     "end_time": "2025-08-19T18:53:01.028207",
     "exception": false,
     "start_time": "2025-08-19T18:53:00.994024",
     "status": "completed"
    },
    "tags": [
     "injected-parameters"
    ]
   },
   "outputs": [],
   "source": [
    "# Parameters\n",
    "universe_id = \"e461799f63dc2e46fcdecf45e2aad3ee\"\n",
    "run_no = \"3\"\n",
    "universe = \"{\\\"cutoff\\\": [\\\"quantile_0.1\\\", \\\"quantile_0.25\\\"], \\\"eval_fairness_grouping\\\": [\\\"majority-minority\\\", \\\"nationality-all\\\"], \\\"exclude_features\\\": \\\"nationality-sex\\\", \\\"exclude_subgroups\\\": \\\"keep-all\\\", \\\"model\\\": \\\"logreg\\\", \\\"scale\\\": \\\"do-not-scale\\\", \\\"training_size\\\": \\\"1k\\\", \\\"training_year\\\": \\\"2014\\\"}\"\n",
    "output_dir = \"output\"\n",
    "seed = \"2023\"\n"
   ]
  },
  {
   "cell_type": "code",
   "execution_count": 5,
   "id": "a5d7941f",
   "metadata": {
    "execution": {
     "iopub.execute_input": "2025-08-19T18:53:01.049242Z",
     "iopub.status.busy": "2025-08-19T18:53:01.048898Z",
     "iopub.status.idle": "2025-08-19T18:53:01.052512Z",
     "shell.execute_reply": "2025-08-19T18:53:01.051891Z"
    },
    "papermill": {
     "duration": 0.014668,
     "end_time": "2025-08-19T18:53:01.053704",
     "exception": false,
     "start_time": "2025-08-19T18:53:01.039036",
     "status": "completed"
    },
    "tags": []
   },
   "outputs": [],
   "source": [
    "import json\n",
    "if isinstance(universe, str):\n",
    "    universe = json.loads(universe)"
   ]
  },
  {
   "cell_type": "code",
   "execution_count": 6,
   "id": "7076ccb1",
   "metadata": {
    "execution": {
     "iopub.execute_input": "2025-08-19T18:53:01.077351Z",
     "iopub.status.busy": "2025-08-19T18:53:01.076611Z",
     "iopub.status.idle": "2025-08-19T18:53:01.130547Z",
     "shell.execute_reply": "2025-08-19T18:53:01.129845Z"
    },
    "papermill": {
     "duration": 0.067502,
     "end_time": "2025-08-19T18:53:01.133570",
     "exception": false,
     "start_time": "2025-08-19T18:53:01.066068",
     "status": "completed"
    },
    "tags": []
   },
   "outputs": [],
   "source": [
    "# Auto-reload the custom package\n",
    "%load_ext autoreload\n",
    "%autoreload 1\n",
    "%aimport fairness_multiverse"
   ]
  },
  {
   "cell_type": "code",
   "execution_count": 7,
   "id": "94c8eb93",
   "metadata": {
    "execution": {
     "iopub.execute_input": "2025-08-19T18:53:01.169169Z",
     "iopub.status.busy": "2025-08-19T18:53:01.168713Z",
     "iopub.status.idle": "2025-08-19T18:53:02.792397Z",
     "shell.execute_reply": "2025-08-19T18:53:02.791019Z"
    },
    "papermill": {
     "duration": 1.638379,
     "end_time": "2025-08-19T18:53:02.794170",
     "exception": false,
     "start_time": "2025-08-19T18:53:01.155791",
     "status": "completed"
    },
    "tags": []
   },
   "outputs": [],
   "source": [
    "from fairness_multiverse.universe import UniverseAnalysis\n",
    "\n",
    "universe_analysis = UniverseAnalysis(\n",
    "    run_no = run_no,\n",
    "    universe_id = universe_id,\n",
    "    universe = universe,\n",
    "    output_dir=output_dir,\n",
    ")"
   ]
  },
  {
   "cell_type": "code",
   "execution_count": 8,
   "id": "2a6381cf",
   "metadata": {
    "execution": {
     "iopub.execute_input": "2025-08-19T18:53:02.815014Z",
     "iopub.status.busy": "2025-08-19T18:53:02.814402Z",
     "iopub.status.idle": "2025-08-19T18:53:02.825247Z",
     "shell.execute_reply": "2025-08-19T18:53:02.822789Z"
    },
    "papermill": {
     "duration": 0.024786,
     "end_time": "2025-08-19T18:53:02.828658",
     "exception": false,
     "start_time": "2025-08-19T18:53:02.803872",
     "status": "completed"
    },
    "tags": []
   },
   "outputs": [
    {
     "name": "stdout",
     "output_type": "stream",
     "text": [
      "Using Seed: 2023\n"
     ]
    }
   ],
   "source": [
    "import numpy as np\n",
    "parsed_seed = int(seed)\n",
    "np.random.seed(parsed_seed)\n",
    "print(f\"Using Seed: {parsed_seed}\")"
   ]
  },
  {
   "cell_type": "markdown",
   "id": "b6e958b4",
   "metadata": {
    "papermill": {
     "duration": 0.010764,
     "end_time": "2025-08-19T18:53:02.857520",
     "exception": false,
     "start_time": "2025-08-19T18:53:02.846756",
     "status": "completed"
    },
    "tags": []
   },
   "source": [
    "# Loading Data"
   ]
  },
  {
   "cell_type": "code",
   "execution_count": 9,
   "id": "98701482",
   "metadata": {
    "execution": {
     "iopub.execute_input": "2025-08-19T18:53:02.878371Z",
     "iopub.status.busy": "2025-08-19T18:53:02.877985Z",
     "iopub.status.idle": "2025-08-19T18:53:13.611221Z",
     "shell.execute_reply": "2025-08-19T18:53:13.610146Z"
    },
    "papermill": {
     "duration": 10.746211,
     "end_time": "2025-08-19T18:53:13.613578",
     "exception": false,
     "start_time": "2025-08-19T18:53:02.867367",
     "status": "completed"
    },
    "tags": []
   },
   "outputs": [
    {
     "name": "stdout",
     "output_type": "stream",
     "text": [
      "Loading SIAB data from cache: data/siab_cached.csv.gz\n"
     ]
    },
    {
     "name": "stdout",
     "output_type": "stream",
     "text": [
      "(643690, 164)\n"
     ]
    }
   ],
   "source": [
    "from pathlib import Path\n",
    "import pandas as pd\n",
    "\n",
    "# File paths\n",
    "raw_file = Path(\"data/raw/siab.csv\")\n",
    "cache_file = Path(\"data/siab_cached.csv.gz\")\n",
    "\n",
    "# Ensure cache directory exists\n",
    "cache_file.parent.mkdir(parents=True, exist_ok=True)\n",
    "\n",
    "# Load with simple caching\n",
    "if cache_file.exists():\n",
    "    print(f\"Loading SIAB data from cache: {cache_file}\")\n",
    "    siab = pd.read_csv(cache_file, compression='gzip')\n",
    "else:\n",
    "    print(f\"Cache not found. Reading raw SIAB data: {raw_file}\")\n",
    "    siab = pd.read_csv(raw_file)\n",
    "    siab.to_csv(cache_file, index=False, compression='gzip')\n",
    "    print(f\"Cached SIAB data to: {cache_file}\")\n",
    "\n",
    "print(siab.shape)"
   ]
  },
  {
   "cell_type": "code",
   "execution_count": 10,
   "id": "058d2abb",
   "metadata": {
    "execution": {
     "iopub.execute_input": "2025-08-19T18:53:13.643957Z",
     "iopub.status.busy": "2025-08-19T18:53:13.642593Z",
     "iopub.status.idle": "2025-08-19T18:53:13.838530Z",
     "shell.execute_reply": "2025-08-19T18:53:13.837736Z"
    },
    "papermill": {
     "duration": 0.209189,
     "end_time": "2025-08-19T18:53:13.839776",
     "exception": false,
     "start_time": "2025-08-19T18:53:13.630587",
     "status": "completed"
    },
    "tags": []
   },
   "outputs": [
    {
     "data": {
      "text/html": [
       "<div>\n",
       "<style scoped>\n",
       "    .dataframe tbody tr th:only-of-type {\n",
       "        vertical-align: middle;\n",
       "    }\n",
       "\n",
       "    .dataframe tbody tr th {\n",
       "        vertical-align: top;\n",
       "    }\n",
       "\n",
       "    .dataframe thead th {\n",
       "        text-align: right;\n",
       "    }\n",
       "</style>\n",
       "<table border=\"1\" class=\"dataframe\">\n",
       "  <thead>\n",
       "    <tr style=\"text-align: right;\">\n",
       "      <th></th>\n",
       "      <th>persnr</th>\n",
       "      <th>year</th>\n",
       "      <th>nrEntry</th>\n",
       "      <th>ltue</th>\n",
       "      <th>employed_before</th>\n",
       "      <th>receipt_leh_before</th>\n",
       "      <th>receipt_lhg_before</th>\n",
       "      <th>se_before</th>\n",
       "      <th>ASU_notue_seeking_before</th>\n",
       "      <th>ASU_other_before</th>\n",
       "      <th>...</th>\n",
       "      <th>minijob_tot_dur_byage</th>\n",
       "      <th>ft_tot_dur_byage</th>\n",
       "      <th>befrist_tot_dur_byage</th>\n",
       "      <th>leih_tot_dur_byage</th>\n",
       "      <th>LHG_tot_dur_byage</th>\n",
       "      <th>LEH_tot_dur_byage</th>\n",
       "      <th>almp_tot_dur_byage</th>\n",
       "      <th>almp_aw_tot_dur_byage</th>\n",
       "      <th>se_tot_dur_byage</th>\n",
       "      <th>seeking1_tot_dur_byage</th>\n",
       "    </tr>\n",
       "  </thead>\n",
       "  <tbody>\n",
       "    <tr>\n",
       "      <th>0</th>\n",
       "      <td>7</td>\n",
       "      <td>2015</td>\n",
       "      <td>1</td>\n",
       "      <td>0</td>\n",
       "      <td>1</td>\n",
       "      <td>0</td>\n",
       "      <td>0</td>\n",
       "      <td>0</td>\n",
       "      <td>1</td>\n",
       "      <td>0</td>\n",
       "      <td>...</td>\n",
       "      <td>0.000000</td>\n",
       "      <td>0.000000</td>\n",
       "      <td>15.043478</td>\n",
       "      <td>0.000000</td>\n",
       "      <td>0.000000</td>\n",
       "      <td>0.000000</td>\n",
       "      <td>0.000000</td>\n",
       "      <td>0.000000</td>\n",
       "      <td>0.000000</td>\n",
       "      <td>0.000000</td>\n",
       "    </tr>\n",
       "    <tr>\n",
       "      <th>1</th>\n",
       "      <td>18</td>\n",
       "      <td>2010</td>\n",
       "      <td>1</td>\n",
       "      <td>1</td>\n",
       "      <td>0</td>\n",
       "      <td>0</td>\n",
       "      <td>0</td>\n",
       "      <td>0</td>\n",
       "      <td>0</td>\n",
       "      <td>0</td>\n",
       "      <td>...</td>\n",
       "      <td>0.000000</td>\n",
       "      <td>0.000000</td>\n",
       "      <td>0.000000</td>\n",
       "      <td>0.000000</td>\n",
       "      <td>0.000000</td>\n",
       "      <td>0.000000</td>\n",
       "      <td>0.000000</td>\n",
       "      <td>0.000000</td>\n",
       "      <td>0.000000</td>\n",
       "      <td>0.000000</td>\n",
       "    </tr>\n",
       "    <tr>\n",
       "      <th>2</th>\n",
       "      <td>18</td>\n",
       "      <td>2011</td>\n",
       "      <td>2</td>\n",
       "      <td>0</td>\n",
       "      <td>1</td>\n",
       "      <td>0</td>\n",
       "      <td>1</td>\n",
       "      <td>0</td>\n",
       "      <td>1</td>\n",
       "      <td>0</td>\n",
       "      <td>...</td>\n",
       "      <td>2.714286</td>\n",
       "      <td>2.714286</td>\n",
       "      <td>0.000000</td>\n",
       "      <td>0.000000</td>\n",
       "      <td>10.775510</td>\n",
       "      <td>0.000000</td>\n",
       "      <td>8.367347</td>\n",
       "      <td>0.000000</td>\n",
       "      <td>0.000000</td>\n",
       "      <td>9.836735</td>\n",
       "    </tr>\n",
       "    <tr>\n",
       "      <th>3</th>\n",
       "      <td>18</td>\n",
       "      <td>2012</td>\n",
       "      <td>3</td>\n",
       "      <td>0</td>\n",
       "      <td>1</td>\n",
       "      <td>0</td>\n",
       "      <td>1</td>\n",
       "      <td>0</td>\n",
       "      <td>1</td>\n",
       "      <td>0</td>\n",
       "      <td>...</td>\n",
       "      <td>4.200000</td>\n",
       "      <td>4.200000</td>\n",
       "      <td>0.000000</td>\n",
       "      <td>0.000000</td>\n",
       "      <td>12.100000</td>\n",
       "      <td>0.000000</td>\n",
       "      <td>9.400000</td>\n",
       "      <td>0.000000</td>\n",
       "      <td>0.000000</td>\n",
       "      <td>9.960000</td>\n",
       "    </tr>\n",
       "    <tr>\n",
       "      <th>4</th>\n",
       "      <td>18</td>\n",
       "      <td>2012</td>\n",
       "      <td>4</td>\n",
       "      <td>0</td>\n",
       "      <td>1</td>\n",
       "      <td>0</td>\n",
       "      <td>1</td>\n",
       "      <td>0</td>\n",
       "      <td>1</td>\n",
       "      <td>0</td>\n",
       "      <td>...</td>\n",
       "      <td>5.460000</td>\n",
       "      <td>5.460000</td>\n",
       "      <td>0.000000</td>\n",
       "      <td>0.000000</td>\n",
       "      <td>13.360000</td>\n",
       "      <td>0.000000</td>\n",
       "      <td>10.320000</td>\n",
       "      <td>0.000000</td>\n",
       "      <td>0.000000</td>\n",
       "      <td>10.280000</td>\n",
       "    </tr>\n",
       "    <tr>\n",
       "      <th>...</th>\n",
       "      <td>...</td>\n",
       "      <td>...</td>\n",
       "      <td>...</td>\n",
       "      <td>...</td>\n",
       "      <td>...</td>\n",
       "      <td>...</td>\n",
       "      <td>...</td>\n",
       "      <td>...</td>\n",
       "      <td>...</td>\n",
       "      <td>...</td>\n",
       "      <td>...</td>\n",
       "      <td>...</td>\n",
       "      <td>...</td>\n",
       "      <td>...</td>\n",
       "      <td>...</td>\n",
       "      <td>...</td>\n",
       "      <td>...</td>\n",
       "      <td>...</td>\n",
       "      <td>...</td>\n",
       "      <td>...</td>\n",
       "      <td>...</td>\n",
       "    </tr>\n",
       "    <tr>\n",
       "      <th>643685</th>\n",
       "      <td>1827860</td>\n",
       "      <td>2013</td>\n",
       "      <td>1</td>\n",
       "      <td>0</td>\n",
       "      <td>0</td>\n",
       "      <td>0</td>\n",
       "      <td>1</td>\n",
       "      <td>0</td>\n",
       "      <td>0</td>\n",
       "      <td>1</td>\n",
       "      <td>...</td>\n",
       "      <td>0.000000</td>\n",
       "      <td>0.000000</td>\n",
       "      <td>0.000000</td>\n",
       "      <td>0.000000</td>\n",
       "      <td>0.612903</td>\n",
       "      <td>0.000000</td>\n",
       "      <td>0.000000</td>\n",
       "      <td>0.000000</td>\n",
       "      <td>0.000000</td>\n",
       "      <td>0.000000</td>\n",
       "    </tr>\n",
       "    <tr>\n",
       "      <th>643686</th>\n",
       "      <td>1827860</td>\n",
       "      <td>2015</td>\n",
       "      <td>2</td>\n",
       "      <td>1</td>\n",
       "      <td>0</td>\n",
       "      <td>0</td>\n",
       "      <td>1</td>\n",
       "      <td>0</td>\n",
       "      <td>1</td>\n",
       "      <td>0</td>\n",
       "      <td>...</td>\n",
       "      <td>0.000000</td>\n",
       "      <td>0.000000</td>\n",
       "      <td>0.212121</td>\n",
       "      <td>0.212121</td>\n",
       "      <td>17.363636</td>\n",
       "      <td>0.000000</td>\n",
       "      <td>8.909091</td>\n",
       "      <td>0.000000</td>\n",
       "      <td>0.000000</td>\n",
       "      <td>7.121212</td>\n",
       "    </tr>\n",
       "    <tr>\n",
       "      <th>643687</th>\n",
       "      <td>1827860</td>\n",
       "      <td>2016</td>\n",
       "      <td>3</td>\n",
       "      <td>1</td>\n",
       "      <td>0</td>\n",
       "      <td>0</td>\n",
       "      <td>1</td>\n",
       "      <td>1</td>\n",
       "      <td>0</td>\n",
       "      <td>1</td>\n",
       "      <td>...</td>\n",
       "      <td>0.000000</td>\n",
       "      <td>0.000000</td>\n",
       "      <td>0.294118</td>\n",
       "      <td>0.205882</td>\n",
       "      <td>34.705882</td>\n",
       "      <td>0.000000</td>\n",
       "      <td>10.352941</td>\n",
       "      <td>1.705882</td>\n",
       "      <td>1.705882</td>\n",
       "      <td>23.911765</td>\n",
       "    </tr>\n",
       "    <tr>\n",
       "      <th>643688</th>\n",
       "      <td>1827869</td>\n",
       "      <td>2013</td>\n",
       "      <td>1</td>\n",
       "      <td>1</td>\n",
       "      <td>1</td>\n",
       "      <td>0</td>\n",
       "      <td>0</td>\n",
       "      <td>0</td>\n",
       "      <td>1</td>\n",
       "      <td>0</td>\n",
       "      <td>...</td>\n",
       "      <td>0.000000</td>\n",
       "      <td>0.000000</td>\n",
       "      <td>0.000000</td>\n",
       "      <td>0.000000</td>\n",
       "      <td>0.000000</td>\n",
       "      <td>0.525424</td>\n",
       "      <td>0.000000</td>\n",
       "      <td>0.000000</td>\n",
       "      <td>0.000000</td>\n",
       "      <td>0.000000</td>\n",
       "    </tr>\n",
       "    <tr>\n",
       "      <th>643689</th>\n",
       "      <td>1827869</td>\n",
       "      <td>2014</td>\n",
       "      <td>2</td>\n",
       "      <td>0</td>\n",
       "      <td>0</td>\n",
       "      <td>1</td>\n",
       "      <td>0</td>\n",
       "      <td>0</td>\n",
       "      <td>1</td>\n",
       "      <td>0</td>\n",
       "      <td>...</td>\n",
       "      <td>0.000000</td>\n",
       "      <td>0.666667</td>\n",
       "      <td>0.666667</td>\n",
       "      <td>0.000000</td>\n",
       "      <td>0.000000</td>\n",
       "      <td>8.950000</td>\n",
       "      <td>1.033333</td>\n",
       "      <td>0.083333</td>\n",
       "      <td>0.083333</td>\n",
       "      <td>8.133333</td>\n",
       "    </tr>\n",
       "  </tbody>\n",
       "</table>\n",
       "<p>643690 rows × 164 columns</p>\n",
       "</div>"
      ],
      "text/plain": [
       "         persnr  year  nrEntry  ltue  employed_before  receipt_leh_before  \\\n",
       "0             7  2015        1     0                1                   0   \n",
       "1            18  2010        1     1                0                   0   \n",
       "2            18  2011        2     0                1                   0   \n",
       "3            18  2012        3     0                1                   0   \n",
       "4            18  2012        4     0                1                   0   \n",
       "...         ...   ...      ...   ...              ...                 ...   \n",
       "643685  1827860  2013        1     0                0                   0   \n",
       "643686  1827860  2015        2     1                0                   0   \n",
       "643687  1827860  2016        3     1                0                   0   \n",
       "643688  1827869  2013        1     1                1                   0   \n",
       "643689  1827869  2014        2     0                0                   1   \n",
       "\n",
       "        receipt_lhg_before  se_before  ASU_notue_seeking_before  \\\n",
       "0                        0          0                         1   \n",
       "1                        0          0                         0   \n",
       "2                        1          0                         1   \n",
       "3                        1          0                         1   \n",
       "4                        1          0                         1   \n",
       "...                    ...        ...                       ...   \n",
       "643685                   1          0                         0   \n",
       "643686                   1          0                         1   \n",
       "643687                   1          1                         0   \n",
       "643688                   0          0                         1   \n",
       "643689                   0          0                         1   \n",
       "\n",
       "        ASU_other_before  ...  minijob_tot_dur_byage  ft_tot_dur_byage  \\\n",
       "0                      0  ...               0.000000          0.000000   \n",
       "1                      0  ...               0.000000          0.000000   \n",
       "2                      0  ...               2.714286          2.714286   \n",
       "3                      0  ...               4.200000          4.200000   \n",
       "4                      0  ...               5.460000          5.460000   \n",
       "...                  ...  ...                    ...               ...   \n",
       "643685                 1  ...               0.000000          0.000000   \n",
       "643686                 0  ...               0.000000          0.000000   \n",
       "643687                 1  ...               0.000000          0.000000   \n",
       "643688                 0  ...               0.000000          0.000000   \n",
       "643689                 0  ...               0.000000          0.666667   \n",
       "\n",
       "        befrist_tot_dur_byage  leih_tot_dur_byage  LHG_tot_dur_byage  \\\n",
       "0                   15.043478            0.000000           0.000000   \n",
       "1                    0.000000            0.000000           0.000000   \n",
       "2                    0.000000            0.000000          10.775510   \n",
       "3                    0.000000            0.000000          12.100000   \n",
       "4                    0.000000            0.000000          13.360000   \n",
       "...                       ...                 ...                ...   \n",
       "643685               0.000000            0.000000           0.612903   \n",
       "643686               0.212121            0.212121          17.363636   \n",
       "643687               0.294118            0.205882          34.705882   \n",
       "643688               0.000000            0.000000           0.000000   \n",
       "643689               0.666667            0.000000           0.000000   \n",
       "\n",
       "        LEH_tot_dur_byage  almp_tot_dur_byage  almp_aw_tot_dur_byage  \\\n",
       "0                0.000000            0.000000               0.000000   \n",
       "1                0.000000            0.000000               0.000000   \n",
       "2                0.000000            8.367347               0.000000   \n",
       "3                0.000000            9.400000               0.000000   \n",
       "4                0.000000           10.320000               0.000000   \n",
       "...                   ...                 ...                    ...   \n",
       "643685           0.000000            0.000000               0.000000   \n",
       "643686           0.000000            8.909091               0.000000   \n",
       "643687           0.000000           10.352941               1.705882   \n",
       "643688           0.525424            0.000000               0.000000   \n",
       "643689           8.950000            1.033333               0.083333   \n",
       "\n",
       "        se_tot_dur_byage  seeking1_tot_dur_byage  \n",
       "0               0.000000                0.000000  \n",
       "1               0.000000                0.000000  \n",
       "2               0.000000                9.836735  \n",
       "3               0.000000                9.960000  \n",
       "4               0.000000               10.280000  \n",
       "...                  ...                     ...  \n",
       "643685          0.000000                0.000000  \n",
       "643686          0.000000                7.121212  \n",
       "643687          1.705882               23.911765  \n",
       "643688          0.000000                0.000000  \n",
       "643689          0.083333                8.133333  \n",
       "\n",
       "[643690 rows x 164 columns]"
      ]
     },
     "execution_count": 10,
     "metadata": {},
     "output_type": "execute_result"
    }
   ],
   "source": [
    "siab"
   ]
  },
  {
   "cell_type": "markdown",
   "id": "1f87e805",
   "metadata": {
    "papermill": {
     "duration": 0.0099,
     "end_time": "2025-08-19T18:53:13.862859",
     "exception": false,
     "start_time": "2025-08-19T18:53:13.852959",
     "status": "completed"
    },
    "tags": []
   },
   "source": [
    "# Splitting Data and Setting Training Data Size"
   ]
  },
  {
   "cell_type": "code",
   "execution_count": 11,
   "id": "910ae358",
   "metadata": {
    "execution": {
     "iopub.execute_input": "2025-08-19T18:53:13.886838Z",
     "iopub.status.busy": "2025-08-19T18:53:13.885595Z",
     "iopub.status.idle": "2025-08-19T18:53:14.301145Z",
     "shell.execute_reply": "2025-08-19T18:53:14.298705Z"
    },
    "papermill": {
     "duration": 0.42982,
     "end_time": "2025-08-19T18:53:14.303087",
     "exception": false,
     "start_time": "2025-08-19T18:53:13.873267",
     "status": "completed"
    },
    "tags": []
   },
   "outputs": [],
   "source": [
    "from fairness_multiverse.universe import sample_by_year_size\n",
    "\n",
    "siab_train = sample_by_year_size(siab,\n",
    "                               training_year=universe[\"training_year\"],\n",
    "                               training_size=universe[\"training_size\"])"
   ]
  },
  {
   "cell_type": "code",
   "execution_count": 12,
   "id": "919c8ff5",
   "metadata": {
    "execution": {
     "iopub.execute_input": "2025-08-19T18:53:14.325345Z",
     "iopub.status.busy": "2025-08-19T18:53:14.324238Z",
     "iopub.status.idle": "2025-08-19T18:53:14.333913Z",
     "shell.execute_reply": "2025-08-19T18:53:14.333065Z"
    },
    "papermill": {
     "duration": 0.021901,
     "end_time": "2025-08-19T18:53:14.335096",
     "exception": false,
     "start_time": "2025-08-19T18:53:14.313195",
     "status": "completed"
    },
    "tags": []
   },
   "outputs": [
    {
     "data": {
      "text/plain": [
       "(1000, 164)"
      ]
     },
     "execution_count": 12,
     "metadata": {},
     "output_type": "execute_result"
    }
   ],
   "source": [
    "siab_train.shape"
   ]
  },
  {
   "cell_type": "code",
   "execution_count": 13,
   "id": "feb13bf4",
   "metadata": {
    "execution": {
     "iopub.execute_input": "2025-08-19T18:53:14.363487Z",
     "iopub.status.busy": "2025-08-19T18:53:14.362355Z",
     "iopub.status.idle": "2025-08-19T18:53:14.371388Z",
     "shell.execute_reply": "2025-08-19T18:53:14.370718Z"
    },
    "papermill": {
     "duration": 0.024359,
     "end_time": "2025-08-19T18:53:14.372587",
     "exception": false,
     "start_time": "2025-08-19T18:53:14.348228",
     "status": "completed"
    },
    "tags": []
   },
   "outputs": [
    {
     "data": {
      "text/plain": [
       "year\n",
       "2014    1000\n",
       "dtype: int64"
      ]
     },
     "metadata": {},
     "output_type": "display_data"
    }
   ],
   "source": [
    "display(siab_train.groupby(\"year\").size())"
   ]
  },
  {
   "cell_type": "code",
   "execution_count": 14,
   "id": "0997782f",
   "metadata": {
    "execution": {
     "iopub.execute_input": "2025-08-19T18:53:14.396612Z",
     "iopub.status.busy": "2025-08-19T18:53:14.395739Z",
     "iopub.status.idle": "2025-08-19T18:53:14.733163Z",
     "shell.execute_reply": "2025-08-19T18:53:14.719355Z"
    },
    "papermill": {
     "duration": 0.362881,
     "end_time": "2025-08-19T18:53:14.747295",
     "exception": false,
     "start_time": "2025-08-19T18:53:14.384414",
     "status": "completed"
    },
    "tags": []
   },
   "outputs": [],
   "source": [
    "#siab_train = siab_s[siab_s.year < 2015]\n",
    "siab_calib = siab[siab.year == 2015]\n",
    "siab_test = siab[siab.year == 2016]"
   ]
  },
  {
   "cell_type": "code",
   "execution_count": 15,
   "id": "2c1e4012",
   "metadata": {
    "execution": {
     "iopub.execute_input": "2025-08-19T18:53:14.786460Z",
     "iopub.status.busy": "2025-08-19T18:53:14.785408Z",
     "iopub.status.idle": "2025-08-19T18:53:14.790014Z",
     "shell.execute_reply": "2025-08-19T18:53:14.789396Z"
    },
    "papermill": {
     "duration": 0.019574,
     "end_time": "2025-08-19T18:53:14.791357",
     "exception": false,
     "start_time": "2025-08-19T18:53:14.771783",
     "status": "completed"
    },
    "tags": []
   },
   "outputs": [],
   "source": [
    "#siab_calib.shape"
   ]
  },
  {
   "cell_type": "code",
   "execution_count": 16,
   "id": "f66b54ca",
   "metadata": {
    "execution": {
     "iopub.execute_input": "2025-08-19T18:53:14.813875Z",
     "iopub.status.busy": "2025-08-19T18:53:14.813270Z",
     "iopub.status.idle": "2025-08-19T18:53:14.818858Z",
     "shell.execute_reply": "2025-08-19T18:53:14.818066Z"
    },
    "papermill": {
     "duration": 0.018354,
     "end_time": "2025-08-19T18:53:14.820089",
     "exception": false,
     "start_time": "2025-08-19T18:53:14.801735",
     "status": "completed"
    },
    "tags": []
   },
   "outputs": [],
   "source": [
    "#siab_test.shape"
   ]
  },
  {
   "cell_type": "code",
   "execution_count": 17,
   "id": "27e4384d",
   "metadata": {
    "execution": {
     "iopub.execute_input": "2025-08-19T18:53:14.844161Z",
     "iopub.status.busy": "2025-08-19T18:53:14.843700Z",
     "iopub.status.idle": "2025-08-19T18:53:14.850255Z",
     "shell.execute_reply": "2025-08-19T18:53:14.849514Z"
    },
    "papermill": {
     "duration": 0.01918,
     "end_time": "2025-08-19T18:53:14.851570",
     "exception": false,
     "start_time": "2025-08-19T18:53:14.832390",
     "status": "completed"
    },
    "tags": []
   },
   "outputs": [],
   "source": [
    "X_train = siab_train.iloc[:,4:164]\n",
    "y_train = siab_train.iloc[:, [3]]"
   ]
  },
  {
   "cell_type": "code",
   "execution_count": 18,
   "id": "08ee8389",
   "metadata": {
    "execution": {
     "iopub.execute_input": "2025-08-19T18:53:14.875783Z",
     "iopub.status.busy": "2025-08-19T18:53:14.875465Z",
     "iopub.status.idle": "2025-08-19T18:53:14.960091Z",
     "shell.execute_reply": "2025-08-19T18:53:14.959303Z"
    },
    "papermill": {
     "duration": 0.100349,
     "end_time": "2025-08-19T18:53:14.964456",
     "exception": false,
     "start_time": "2025-08-19T18:53:14.864107",
     "status": "completed"
    },
    "tags": []
   },
   "outputs": [],
   "source": [
    "X_calib = siab_calib.iloc[:,4:164]\n",
    "y_calib = siab_calib.iloc[:, [3]]"
   ]
  },
  {
   "cell_type": "code",
   "execution_count": 19,
   "id": "b7ff42e0",
   "metadata": {
    "execution": {
     "iopub.execute_input": "2025-08-19T18:53:15.002152Z",
     "iopub.status.busy": "2025-08-19T18:53:15.000926Z",
     "iopub.status.idle": "2025-08-19T18:53:15.066662Z",
     "shell.execute_reply": "2025-08-19T18:53:15.065792Z"
    },
    "papermill": {
     "duration": 0.082817,
     "end_time": "2025-08-19T18:53:15.069701",
     "exception": false,
     "start_time": "2025-08-19T18:53:14.986884",
     "status": "completed"
    },
    "tags": []
   },
   "outputs": [],
   "source": [
    "X_test = siab_test.iloc[:,4:164]\n",
    "y_true = siab_test.iloc[:, [3]]"
   ]
  },
  {
   "cell_type": "code",
   "execution_count": 20,
   "id": "0275101e",
   "metadata": {
    "execution": {
     "iopub.execute_input": "2025-08-19T18:53:15.113261Z",
     "iopub.status.busy": "2025-08-19T18:53:15.111412Z",
     "iopub.status.idle": "2025-08-19T18:53:15.258657Z",
     "shell.execute_reply": "2025-08-19T18:53:15.257913Z"
    },
    "papermill": {
     "duration": 0.165892,
     "end_time": "2025-08-19T18:53:15.260148",
     "exception": false,
     "start_time": "2025-08-19T18:53:15.094256",
     "status": "completed"
    },
    "tags": []
   },
   "outputs": [],
   "source": [
    "# Auxiliary data needed downstream in the pipeline\n",
    "\n",
    "org_train = X_train.copy()\n",
    "org_test = X_test.copy()\n",
    "org_calib = X_calib.copy()"
   ]
  },
  {
   "cell_type": "markdown",
   "id": "b461e618",
   "metadata": {
    "papermill": {
     "duration": 0.010307,
     "end_time": "2025-08-19T18:53:15.280976",
     "exception": false,
     "start_time": "2025-08-19T18:53:15.270669",
     "status": "completed"
    },
    "tags": []
   },
   "source": [
    "# Preprocessing Data"
   ]
  },
  {
   "cell_type": "code",
   "execution_count": 21,
   "id": "78e74c4b",
   "metadata": {
    "execution": {
     "iopub.execute_input": "2025-08-19T18:53:15.302885Z",
     "iopub.status.busy": "2025-08-19T18:53:15.302355Z",
     "iopub.status.idle": "2025-08-19T18:53:15.307856Z",
     "shell.execute_reply": "2025-08-19T18:53:15.307208Z"
    },
    "papermill": {
     "duration": 0.018086,
     "end_time": "2025-08-19T18:53:15.309193",
     "exception": false,
     "start_time": "2025-08-19T18:53:15.291107",
     "status": "completed"
    },
    "tags": []
   },
   "outputs": [],
   "source": [
    "# EXCLUDE PROTECTED FEATURES\n",
    "# --------------------------\n",
    "\n",
    "excluded_features = universe[\"exclude_features\"].split(\"-\")\n",
    "excluded_features_dictionary = {\n",
    "    \"nationality\": [\"maxdeutsch1\", \"maxdeutsch.Missing.\"],\n",
    "    \"sex\": [\"frau1\"],\n",
    "    \"age\": [\"age\"],\n",
    "}"
   ]
  },
  {
   "cell_type": "code",
   "execution_count": 22,
   "id": "f8e63555",
   "metadata": {
    "execution": {
     "iopub.execute_input": "2025-08-19T18:53:15.332699Z",
     "iopub.status.busy": "2025-08-19T18:53:15.331546Z",
     "iopub.status.idle": "2025-08-19T18:53:15.338655Z",
     "shell.execute_reply": "2025-08-19T18:53:15.337544Z"
    },
    "papermill": {
     "duration": 0.019919,
     "end_time": "2025-08-19T18:53:15.339992",
     "exception": false,
     "start_time": "2025-08-19T18:53:15.320073",
     "status": "completed"
    },
    "tags": []
   },
   "outputs": [],
   "source": [
    "excluded_features_columns = [\n",
    "    excluded_features_dictionary[f] for f in excluded_features if len(f) > 0 and f != \"none\"\n",
    "]"
   ]
  },
  {
   "cell_type": "code",
   "execution_count": 23,
   "id": "da781f7c",
   "metadata": {
    "execution": {
     "iopub.execute_input": "2025-08-19T18:53:15.364554Z",
     "iopub.status.busy": "2025-08-19T18:53:15.362912Z",
     "iopub.status.idle": "2025-08-19T18:53:15.372237Z",
     "shell.execute_reply": "2025-08-19T18:53:15.370527Z"
    },
    "papermill": {
     "duration": 0.022668,
     "end_time": "2025-08-19T18:53:15.373882",
     "exception": false,
     "start_time": "2025-08-19T18:53:15.351214",
     "status": "completed"
    },
    "tags": []
   },
   "outputs": [],
   "source": [
    "from fairness_multiverse.universe import flatten_once\n",
    "\n",
    "excluded_features_columns = flatten_once(excluded_features_columns)"
   ]
  },
  {
   "cell_type": "code",
   "execution_count": 24,
   "id": "37fef0f0",
   "metadata": {
    "execution": {
     "iopub.execute_input": "2025-08-19T18:53:15.400211Z",
     "iopub.status.busy": "2025-08-19T18:53:15.397866Z",
     "iopub.status.idle": "2025-08-19T18:53:15.412233Z",
     "shell.execute_reply": "2025-08-19T18:53:15.411100Z"
    },
    "papermill": {
     "duration": 0.028057,
     "end_time": "2025-08-19T18:53:15.413881",
     "exception": false,
     "start_time": "2025-08-19T18:53:15.385824",
     "status": "completed"
    },
    "tags": []
   },
   "outputs": [
    {
     "name": "stdout",
     "output_type": "stream",
     "text": [
      "Dropping features: ['maxdeutsch1', 'maxdeutsch.Missing.', 'frau1']\n"
     ]
    }
   ],
   "source": [
    "if len(excluded_features_columns) > 0:\n",
    "    print(f\"Dropping features: {excluded_features_columns}\")\n",
    "    X_train.drop(excluded_features_columns, axis=1, inplace=True)"
   ]
  },
  {
   "cell_type": "code",
   "execution_count": 25,
   "id": "d029e3e9",
   "metadata": {
    "execution": {
     "iopub.execute_input": "2025-08-19T18:53:15.442707Z",
     "iopub.status.busy": "2025-08-19T18:53:15.442026Z",
     "iopub.status.idle": "2025-08-19T18:53:15.510570Z",
     "shell.execute_reply": "2025-08-19T18:53:15.509567Z"
    },
    "papermill": {
     "duration": 0.081969,
     "end_time": "2025-08-19T18:53:15.511974",
     "exception": false,
     "start_time": "2025-08-19T18:53:15.430005",
     "status": "completed"
    },
    "tags": []
   },
   "outputs": [
    {
     "name": "stdout",
     "output_type": "stream",
     "text": [
      "Dropping features: ['maxdeutsch1', 'maxdeutsch.Missing.', 'frau1']\n"
     ]
    }
   ],
   "source": [
    "if len(excluded_features_columns) > 0:\n",
    "    print(f\"Dropping features: {excluded_features_columns}\")\n",
    "    X_test.drop(excluded_features_columns, axis=1, inplace=True)"
   ]
  },
  {
   "cell_type": "code",
   "execution_count": 26,
   "id": "01d571f0",
   "metadata": {
    "execution": {
     "iopub.execute_input": "2025-08-19T18:53:15.535526Z",
     "iopub.status.busy": "2025-08-19T18:53:15.534952Z",
     "iopub.status.idle": "2025-08-19T18:53:15.591768Z",
     "shell.execute_reply": "2025-08-19T18:53:15.591092Z"
    },
    "papermill": {
     "duration": 0.070309,
     "end_time": "2025-08-19T18:53:15.593061",
     "exception": false,
     "start_time": "2025-08-19T18:53:15.522752",
     "status": "completed"
    },
    "tags": []
   },
   "outputs": [
    {
     "name": "stdout",
     "output_type": "stream",
     "text": [
      "Dropping features: ['maxdeutsch1', 'maxdeutsch.Missing.', 'frau1']\n"
     ]
    }
   ],
   "source": [
    "if len(excluded_features_columns) > 0:\n",
    "    print(f\"Dropping features: {excluded_features_columns}\")\n",
    "    X_calib.drop(excluded_features_columns, axis=1, inplace=True)"
   ]
  },
  {
   "cell_type": "code",
   "execution_count": 27,
   "id": "3037356e",
   "metadata": {
    "execution": {
     "iopub.execute_input": "2025-08-19T18:53:15.617522Z",
     "iopub.status.busy": "2025-08-19T18:53:15.615867Z",
     "iopub.status.idle": "2025-08-19T18:53:15.623758Z",
     "shell.execute_reply": "2025-08-19T18:53:15.622720Z"
    },
    "papermill": {
     "duration": 0.021099,
     "end_time": "2025-08-19T18:53:15.625014",
     "exception": false,
     "start_time": "2025-08-19T18:53:15.603915",
     "status": "completed"
    },
    "tags": []
   },
   "outputs": [],
   "source": [
    "# EXCLUDE CERTAIN SUBGROUPS\n",
    "# -------------------------\n",
    "\n",
    "mode = universe.get(\"exclude_subgroups\", \"keep-all\") # Defaults to \"keep-all\" if the key is missing."
   ]
  },
  {
   "cell_type": "code",
   "execution_count": 28,
   "id": "9d1e63fd",
   "metadata": {
    "execution": {
     "iopub.execute_input": "2025-08-19T18:53:15.650815Z",
     "iopub.status.busy": "2025-08-19T18:53:15.649567Z",
     "iopub.status.idle": "2025-08-19T18:53:15.664230Z",
     "shell.execute_reply": "2025-08-19T18:53:15.662673Z"
    },
    "papermill": {
     "duration": 0.02935,
     "end_time": "2025-08-19T18:53:15.665868",
     "exception": false,
     "start_time": "2025-08-19T18:53:15.636518",
     "status": "completed"
    },
    "tags": []
   },
   "outputs": [],
   "source": [
    "if mode == \"keep-all\":\n",
    "    keep_mask = pd.Series(True, index=org_train.index)\n",
    "\n",
    "elif mode == \"drop-non-german\":\n",
    "    keep_mask = (org_train[\"maxdeutsch1\"] == 1) & (org_train[\"maxdeutsch.Missing.\"] == 0)\n",
    "\n",
    "else:\n",
    "    raise ValueError(f\"Unsupported mode for exclude_subgroups: {mode}\")"
   ]
  },
  {
   "cell_type": "code",
   "execution_count": 29,
   "id": "d3b65474",
   "metadata": {
    "execution": {
     "iopub.execute_input": "2025-08-19T18:53:15.696722Z",
     "iopub.status.busy": "2025-08-19T18:53:15.695730Z",
     "iopub.status.idle": "2025-08-19T18:53:15.702041Z",
     "shell.execute_reply": "2025-08-19T18:53:15.701425Z"
    },
    "papermill": {
     "duration": 0.020664,
     "end_time": "2025-08-19T18:53:15.703145",
     "exception": false,
     "start_time": "2025-08-19T18:53:15.682481",
     "status": "completed"
    },
    "tags": []
   },
   "outputs": [],
   "source": [
    "n_drop = (~keep_mask).sum() # Calculates how many rows are set to be dropped\n",
    "if n_drop > 0:\n",
    "    pct = n_drop / len(keep_mask) * 100\n",
    "    print(f\"Dropping {n_drop} rows ({pct:.2f}%) where mode='{mode}'\")"
   ]
  },
  {
   "cell_type": "code",
   "execution_count": 30,
   "id": "f44389b3",
   "metadata": {
    "execution": {
     "iopub.execute_input": "2025-08-19T18:53:15.727089Z",
     "iopub.status.busy": "2025-08-19T18:53:15.726011Z",
     "iopub.status.idle": "2025-08-19T18:53:15.734582Z",
     "shell.execute_reply": "2025-08-19T18:53:15.733441Z"
    },
    "papermill": {
     "duration": 0.021431,
     "end_time": "2025-08-19T18:53:15.735882",
     "exception": false,
     "start_time": "2025-08-19T18:53:15.714451",
     "status": "completed"
    },
    "tags": []
   },
   "outputs": [],
   "source": [
    "X_train = X_train[keep_mask]"
   ]
  },
  {
   "cell_type": "code",
   "execution_count": 31,
   "id": "ceca8c2a",
   "metadata": {
    "execution": {
     "iopub.execute_input": "2025-08-19T18:53:15.761472Z",
     "iopub.status.busy": "2025-08-19T18:53:15.759721Z",
     "iopub.status.idle": "2025-08-19T18:53:15.769519Z",
     "shell.execute_reply": "2025-08-19T18:53:15.768075Z"
    },
    "papermill": {
     "duration": 0.023725,
     "end_time": "2025-08-19T18:53:15.770904",
     "exception": false,
     "start_time": "2025-08-19T18:53:15.747179",
     "status": "completed"
    },
    "tags": []
   },
   "outputs": [],
   "source": [
    "y_train = y_train[keep_mask]"
   ]
  },
  {
   "cell_type": "markdown",
   "id": "04d31e2f",
   "metadata": {
    "papermill": {
     "duration": 0.010551,
     "end_time": "2025-08-19T18:53:15.794708",
     "exception": false,
     "start_time": "2025-08-19T18:53:15.784157",
     "status": "completed"
    },
    "tags": []
   },
   "source": [
    "# Model Training"
   ]
  },
  {
   "cell_type": "code",
   "execution_count": 32,
   "id": "db991733",
   "metadata": {
    "execution": {
     "iopub.execute_input": "2025-08-19T18:53:15.818747Z",
     "iopub.status.busy": "2025-08-19T18:53:15.817519Z",
     "iopub.status.idle": "2025-08-19T18:53:15.938350Z",
     "shell.execute_reply": "2025-08-19T18:53:15.936838Z"
    },
    "papermill": {
     "duration": 0.136868,
     "end_time": "2025-08-19T18:53:15.942091",
     "exception": false,
     "start_time": "2025-08-19T18:53:15.805223",
     "status": "completed"
    },
    "tags": []
   },
   "outputs": [],
   "source": [
    "from sklearn.linear_model import LogisticRegression\n",
    "from sklearn.ensemble import GradientBoostingClassifier, RandomForestClassifier\n",
    "\n",
    "if (universe[\"model\"] == \"logreg\"):\n",
    "    model = LogisticRegression() #penalty=\"none\", solver=\"newton-cg\", max_iter=1)\n",
    "elif (universe[\"model\"] == \"penalized_logreg\"):\n",
    "    model = LogisticRegression(penalty=\"l2\", C=0.1) #, solver=\"newton-cg\", max_iter=1)\n",
    "elif (universe[\"model\"] == \"rf\"):\n",
    "    model = RandomForestClassifier() # n_estimators=100, n_jobs=-1\n",
    "elif (universe[\"model\"] == \"gbm\"):\n",
    "    model = GradientBoostingClassifier()\n",
    "elif (universe[\"model\"] == \"elasticnet\"):\n",
    "    model = LogisticRegression(penalty = 'elasticnet', solver = 'saga', l1_ratio = 0.5) # max_iter=5000\n",
    "else:\n",
    "    raise \"Unsupported universe.model\""
   ]
  },
  {
   "cell_type": "code",
   "execution_count": 33,
   "id": "a4b5cd25",
   "metadata": {
    "execution": {
     "iopub.execute_input": "2025-08-19T18:53:15.980680Z",
     "iopub.status.busy": "2025-08-19T18:53:15.979563Z",
     "iopub.status.idle": "2025-08-19T18:53:15.989887Z",
     "shell.execute_reply": "2025-08-19T18:53:15.988546Z"
    },
    "papermill": {
     "duration": 0.026421,
     "end_time": "2025-08-19T18:53:15.991680",
     "exception": false,
     "start_time": "2025-08-19T18:53:15.965259",
     "status": "completed"
    },
    "tags": []
   },
   "outputs": [],
   "source": [
    "from sklearn.pipeline import Pipeline\n",
    "from sklearn.preprocessing import StandardScaler\n",
    "\n",
    "model = Pipeline([\n",
    "    #(\"continuous_processor\", continuous_processor),\n",
    "    #(\"categorical_preprocessor\", categorical_preprocessor),\n",
    "    (\"scale\", StandardScaler() if universe[\"scale\"] == \"scale\" else None), \n",
    "    (\"model\", model),\n",
    "])"
   ]
  },
  {
   "cell_type": "code",
   "execution_count": 34,
   "id": "283a904d",
   "metadata": {
    "execution": {
     "iopub.execute_input": "2025-08-19T18:53:16.019258Z",
     "iopub.status.busy": "2025-08-19T18:53:16.017576Z",
     "iopub.status.idle": "2025-08-19T18:53:16.091559Z",
     "shell.execute_reply": "2025-08-19T18:53:16.090641Z"
    },
    "papermill": {
     "duration": 0.087911,
     "end_time": "2025-08-19T18:53:16.092884",
     "exception": false,
     "start_time": "2025-08-19T18:53:16.004973",
     "status": "completed"
    },
    "tags": []
   },
   "outputs": [
    {
     "name": "stderr",
     "output_type": "stream",
     "text": [
      "/dss/dsshome1/0C/ra93lal2/.local/share/virtualenvs/CMA_Fairness_v2-3j10GkSs/lib/python3.10/site-packages/sklearn/linear_model/_logistic.py:444: ConvergenceWarning: lbfgs failed to converge (status=1):\n",
      "STOP: TOTAL NO. of ITERATIONS REACHED LIMIT.\n",
      "\n",
      "Increase the number of iterations (max_iter) or scale the data as shown in:\n",
      "    https://scikit-learn.org/stable/modules/preprocessing.html\n",
      "Please also refer to the documentation for alternative solver options:\n",
      "    https://scikit-learn.org/stable/modules/linear_model.html#logistic-regression\n",
      "  n_iter_i = _check_optimize_result(\n"
     ]
    },
    {
     "data": {
      "text/html": [
       "<style>#sk-container-id-1 {color: black;background-color: white;}#sk-container-id-1 pre{padding: 0;}#sk-container-id-1 div.sk-toggleable {background-color: white;}#sk-container-id-1 label.sk-toggleable__label {cursor: pointer;display: block;width: 100%;margin-bottom: 0;padding: 0.3em;box-sizing: border-box;text-align: center;}#sk-container-id-1 label.sk-toggleable__label-arrow:before {content: \"▸\";float: left;margin-right: 0.25em;color: #696969;}#sk-container-id-1 label.sk-toggleable__label-arrow:hover:before {color: black;}#sk-container-id-1 div.sk-estimator:hover label.sk-toggleable__label-arrow:before {color: black;}#sk-container-id-1 div.sk-toggleable__content {max-height: 0;max-width: 0;overflow: hidden;text-align: left;background-color: #f0f8ff;}#sk-container-id-1 div.sk-toggleable__content pre {margin: 0.2em;color: black;border-radius: 0.25em;background-color: #f0f8ff;}#sk-container-id-1 input.sk-toggleable__control:checked~div.sk-toggleable__content {max-height: 200px;max-width: 100%;overflow: auto;}#sk-container-id-1 input.sk-toggleable__control:checked~label.sk-toggleable__label-arrow:before {content: \"▾\";}#sk-container-id-1 div.sk-estimator input.sk-toggleable__control:checked~label.sk-toggleable__label {background-color: #d4ebff;}#sk-container-id-1 div.sk-label input.sk-toggleable__control:checked~label.sk-toggleable__label {background-color: #d4ebff;}#sk-container-id-1 input.sk-hidden--visually {border: 0;clip: rect(1px 1px 1px 1px);clip: rect(1px, 1px, 1px, 1px);height: 1px;margin: -1px;overflow: hidden;padding: 0;position: absolute;width: 1px;}#sk-container-id-1 div.sk-estimator {font-family: monospace;background-color: #f0f8ff;border: 1px dotted black;border-radius: 0.25em;box-sizing: border-box;margin-bottom: 0.5em;}#sk-container-id-1 div.sk-estimator:hover {background-color: #d4ebff;}#sk-container-id-1 div.sk-parallel-item::after {content: \"\";width: 100%;border-bottom: 1px solid gray;flex-grow: 1;}#sk-container-id-1 div.sk-label:hover label.sk-toggleable__label {background-color: #d4ebff;}#sk-container-id-1 div.sk-serial::before {content: \"\";position: absolute;border-left: 1px solid gray;box-sizing: border-box;top: 0;bottom: 0;left: 50%;z-index: 0;}#sk-container-id-1 div.sk-serial {display: flex;flex-direction: column;align-items: center;background-color: white;padding-right: 0.2em;padding-left: 0.2em;position: relative;}#sk-container-id-1 div.sk-item {position: relative;z-index: 1;}#sk-container-id-1 div.sk-parallel {display: flex;align-items: stretch;justify-content: center;background-color: white;position: relative;}#sk-container-id-1 div.sk-item::before, #sk-container-id-1 div.sk-parallel-item::before {content: \"\";position: absolute;border-left: 1px solid gray;box-sizing: border-box;top: 0;bottom: 0;left: 50%;z-index: -1;}#sk-container-id-1 div.sk-parallel-item {display: flex;flex-direction: column;z-index: 1;position: relative;background-color: white;}#sk-container-id-1 div.sk-parallel-item:first-child::after {align-self: flex-end;width: 50%;}#sk-container-id-1 div.sk-parallel-item:last-child::after {align-self: flex-start;width: 50%;}#sk-container-id-1 div.sk-parallel-item:only-child::after {width: 0;}#sk-container-id-1 div.sk-dashed-wrapped {border: 1px dashed gray;margin: 0 0.4em 0.5em 0.4em;box-sizing: border-box;padding-bottom: 0.4em;background-color: white;}#sk-container-id-1 div.sk-label label {font-family: monospace;font-weight: bold;display: inline-block;line-height: 1.2em;}#sk-container-id-1 div.sk-label-container {text-align: center;}#sk-container-id-1 div.sk-container {/* jupyter's `normalize.less` sets `[hidden] { display: none; }` but bootstrap.min.css set `[hidden] { display: none !important; }` so we also need the `!important` here to be able to override the default hidden behavior on the sphinx rendered scikit-learn.org. See: https://github.com/scikit-learn/scikit-learn/issues/21755 */display: inline-block !important;position: relative;}#sk-container-id-1 div.sk-text-repr-fallback {display: none;}</style><div id=\"sk-container-id-1\" class=\"sk-top-container\"><div class=\"sk-text-repr-fallback\"><pre>Pipeline(steps=[(&#x27;scale&#x27;, None), (&#x27;model&#x27;, LogisticRegression())])</pre><b>In a Jupyter environment, please rerun this cell to show the HTML representation or trust the notebook. <br />On GitHub, the HTML representation is unable to render, please try loading this page with nbviewer.org.</b></div><div class=\"sk-container\" hidden><div class=\"sk-item sk-dashed-wrapped\"><div class=\"sk-label-container\"><div class=\"sk-label sk-toggleable\"><input class=\"sk-toggleable__control sk-hidden--visually\" id=\"sk-estimator-id-1\" type=\"checkbox\" ><label for=\"sk-estimator-id-1\" class=\"sk-toggleable__label sk-toggleable__label-arrow\">Pipeline</label><div class=\"sk-toggleable__content\"><pre>Pipeline(steps=[(&#x27;scale&#x27;, None), (&#x27;model&#x27;, LogisticRegression())])</pre></div></div></div><div class=\"sk-serial\"><div class=\"sk-item\"><div class=\"sk-estimator sk-toggleable\"><input class=\"sk-toggleable__control sk-hidden--visually\" id=\"sk-estimator-id-2\" type=\"checkbox\" ><label for=\"sk-estimator-id-2\" class=\"sk-toggleable__label sk-toggleable__label-arrow\">None</label><div class=\"sk-toggleable__content\"><pre>None</pre></div></div></div><div class=\"sk-item\"><div class=\"sk-estimator sk-toggleable\"><input class=\"sk-toggleable__control sk-hidden--visually\" id=\"sk-estimator-id-3\" type=\"checkbox\" ><label for=\"sk-estimator-id-3\" class=\"sk-toggleable__label sk-toggleable__label-arrow\">LogisticRegression</label><div class=\"sk-toggleable__content\"><pre>LogisticRegression()</pre></div></div></div></div></div></div></div>"
      ],
      "text/plain": [
       "Pipeline(steps=[('scale', None), ('model', LogisticRegression())])"
      ]
     },
     "execution_count": 34,
     "metadata": {},
     "output_type": "execute_result"
    }
   ],
   "source": [
    "model.fit(X_train, y_train.values.ravel())"
   ]
  },
  {
   "cell_type": "code",
   "execution_count": 35,
   "id": "6e15e313",
   "metadata": {
    "execution": {
     "iopub.execute_input": "2025-08-19T18:53:16.117304Z",
     "iopub.status.busy": "2025-08-19T18:53:16.116884Z",
     "iopub.status.idle": "2025-08-19T18:53:16.216304Z",
     "shell.execute_reply": "2025-08-19T18:53:16.215421Z"
    },
    "papermill": {
     "duration": 0.112951,
     "end_time": "2025-08-19T18:53:16.217706",
     "exception": false,
     "start_time": "2025-08-19T18:53:16.104755",
     "status": "completed"
    },
    "tags": []
   },
   "outputs": [
    {
     "data": {
      "text/plain": [
       "0.8499275443094415"
      ]
     },
     "execution_count": 35,
     "metadata": {},
     "output_type": "execute_result"
    }
   ],
   "source": [
    "from fairness_multiverse.universe import predict_w_threshold\n",
    "\n",
    "probs_test = model.predict_proba(X_test)\n",
    "\n",
    "'''\n",
    "Below code returns a boolean array (or binary 0/1 array depending on how it’s used) where each element \n",
    "is True if the probability of class 1 is greater than or equal to the threshold, and False otherwise.\n",
    "'''\n",
    "y_pred_default = predict_w_threshold(probs_test, 0.5)\n",
    "\n",
    "from sklearn.metrics import accuracy_score\n",
    "\n",
    "# Naive prediction\n",
    "accuracy_score(y_true = y_true, y_pred = y_pred_default)"
   ]
  },
  {
   "cell_type": "code",
   "execution_count": 36,
   "id": "6f14067c",
   "metadata": {
    "execution": {
     "iopub.execute_input": "2025-08-19T18:53:16.242011Z",
     "iopub.status.busy": "2025-08-19T18:53:16.241534Z",
     "iopub.status.idle": "2025-08-19T18:53:16.340940Z",
     "shell.execute_reply": "2025-08-19T18:53:16.339442Z"
    },
    "papermill": {
     "duration": 0.11579,
     "end_time": "2025-08-19T18:53:16.344931",
     "exception": false,
     "start_time": "2025-08-19T18:53:16.229141",
     "status": "completed"
    },
    "tags": []
   },
   "outputs": [
    {
     "data": {
      "text/plain": [
       "array([0, 0, 0, ..., 0, 0, 0])"
      ]
     },
     "execution_count": 36,
     "metadata": {},
     "output_type": "execute_result"
    }
   ],
   "source": [
    "model.predict(X_test)"
   ]
  },
  {
   "cell_type": "markdown",
   "id": "3759920c",
   "metadata": {
    "papermill": {
     "duration": 0.012007,
     "end_time": "2025-08-19T18:53:16.377149",
     "exception": false,
     "start_time": "2025-08-19T18:53:16.365142",
     "status": "completed"
    },
    "tags": []
   },
   "source": [
    "# Conformal Prediction"
   ]
  },
  {
   "cell_type": "code",
   "execution_count": 37,
   "id": "14b27f59",
   "metadata": {
    "execution": {
     "iopub.execute_input": "2025-08-19T18:53:16.402673Z",
     "iopub.status.busy": "2025-08-19T18:53:16.401427Z",
     "iopub.status.idle": "2025-08-19T18:53:16.411019Z",
     "shell.execute_reply": "2025-08-19T18:53:16.409296Z"
    },
    "papermill": {
     "duration": 0.02457,
     "end_time": "2025-08-19T18:53:16.412851",
     "exception": false,
     "start_time": "2025-08-19T18:53:16.388281",
     "status": "completed"
    },
    "tags": []
   },
   "outputs": [],
   "source": [
    "# Miscoverage level for conformal prediction (10% allowed error rate => 90% target coverage)\n",
    "alpha = 0.1"
   ]
  },
  {
   "cell_type": "code",
   "execution_count": 38,
   "id": "59102472",
   "metadata": {
    "execution": {
     "iopub.execute_input": "2025-08-19T18:53:16.443038Z",
     "iopub.status.busy": "2025-08-19T18:53:16.441968Z",
     "iopub.status.idle": "2025-08-19T18:53:16.553295Z",
     "shell.execute_reply": "2025-08-19T18:53:16.552271Z"
    },
    "papermill": {
     "duration": 0.12748,
     "end_time": "2025-08-19T18:53:16.556250",
     "exception": false,
     "start_time": "2025-08-19T18:53:16.428770",
     "status": "completed"
    },
    "tags": []
   },
   "outputs": [],
   "source": [
    "probs_calib = model.predict_proba(X_calib)"
   ]
  },
  {
   "cell_type": "code",
   "execution_count": 39,
   "id": "a792d4dd",
   "metadata": {
    "execution": {
     "iopub.execute_input": "2025-08-19T18:53:16.599531Z",
     "iopub.status.busy": "2025-08-19T18:53:16.597697Z",
     "iopub.status.idle": "2025-08-19T18:53:16.607572Z",
     "shell.execute_reply": "2025-08-19T18:53:16.605926Z"
    },
    "papermill": {
     "duration": 0.026964,
     "end_time": "2025-08-19T18:53:16.609292",
     "exception": false,
     "start_time": "2025-08-19T18:53:16.582328",
     "status": "completed"
    },
    "tags": []
   },
   "outputs": [],
   "source": [
    "y_calib = y_calib.values.ravel().astype(int)"
   ]
  },
  {
   "cell_type": "code",
   "execution_count": 40,
   "id": "650fd033",
   "metadata": {
    "execution": {
     "iopub.execute_input": "2025-08-19T18:53:16.637180Z",
     "iopub.status.busy": "2025-08-19T18:53:16.635357Z",
     "iopub.status.idle": "2025-08-19T18:53:16.649507Z",
     "shell.execute_reply": "2025-08-19T18:53:16.648199Z"
    },
    "papermill": {
     "duration": 0.029467,
     "end_time": "2025-08-19T18:53:16.651244",
     "exception": false,
     "start_time": "2025-08-19T18:53:16.621777",
     "status": "completed"
    },
    "tags": []
   },
   "outputs": [],
   "source": [
    "from fairness_multiverse.conformal import compute_nc_scores\n",
    "\n",
    "# Compute nonconformity scores on calibration set (1 - probability of true class)\n",
    "nc_scores = compute_nc_scores(probs_calib, y_calib)"
   ]
  },
  {
   "cell_type": "code",
   "execution_count": 41,
   "id": "28ada44c",
   "metadata": {
    "execution": {
     "iopub.execute_input": "2025-08-19T18:53:16.677925Z",
     "iopub.status.busy": "2025-08-19T18:53:16.676462Z",
     "iopub.status.idle": "2025-08-19T18:53:16.688217Z",
     "shell.execute_reply": "2025-08-19T18:53:16.686617Z"
    },
    "papermill": {
     "duration": 0.026699,
     "end_time": "2025-08-19T18:53:16.689906",
     "exception": false,
     "start_time": "2025-08-19T18:53:16.663207",
     "status": "completed"
    },
    "tags": []
   },
   "outputs": [],
   "source": [
    "from fairness_multiverse.conformal import find_threshold\n",
    "\n",
    "# Find conformal threshold q_hat for the given alpha (split conformal method)\n",
    "q_hat = find_threshold(nc_scores, alpha)"
   ]
  },
  {
   "cell_type": "code",
   "execution_count": 42,
   "id": "df56469e",
   "metadata": {
    "execution": {
     "iopub.execute_input": "2025-08-19T18:53:16.737703Z",
     "iopub.status.busy": "2025-08-19T18:53:16.717685Z",
     "iopub.status.idle": "2025-08-19T18:53:16.750057Z",
     "shell.execute_reply": "2025-08-19T18:53:16.749149Z"
    },
    "papermill": {
     "duration": 0.04764,
     "end_time": "2025-08-19T18:53:16.752046",
     "exception": false,
     "start_time": "2025-08-19T18:53:16.704406",
     "status": "completed"
    },
    "tags": []
   },
   "outputs": [
    {
     "data": {
      "text/plain": [
       "0.6938555243375422"
      ]
     },
     "execution_count": 42,
     "metadata": {},
     "output_type": "execute_result"
    }
   ],
   "source": [
    "q_hat"
   ]
  },
  {
   "cell_type": "code",
   "execution_count": 43,
   "id": "aa1f5faa",
   "metadata": {
    "execution": {
     "iopub.execute_input": "2025-08-19T18:53:16.795329Z",
     "iopub.status.busy": "2025-08-19T18:53:16.788256Z",
     "iopub.status.idle": "2025-08-19T18:53:17.377956Z",
     "shell.execute_reply": "2025-08-19T18:53:17.376902Z"
    },
    "papermill": {
     "duration": 0.606936,
     "end_time": "2025-08-19T18:53:17.381017",
     "exception": false,
     "start_time": "2025-08-19T18:53:16.774081",
     "status": "completed"
    },
    "tags": []
   },
   "outputs": [],
   "source": [
    "from fairness_multiverse.conformal import predict_conformal_sets\n",
    "\n",
    "# Generate prediction sets for each test example\n",
    "pred_sets = predict_conformal_sets(model, X_test, q_hat)"
   ]
  },
  {
   "cell_type": "code",
   "execution_count": 44,
   "id": "97f67a6b",
   "metadata": {
    "execution": {
     "iopub.execute_input": "2025-08-19T18:53:17.422702Z",
     "iopub.status.busy": "2025-08-19T18:53:17.421231Z",
     "iopub.status.idle": "2025-08-19T18:53:17.430754Z",
     "shell.execute_reply": "2025-08-19T18:53:17.429342Z"
    },
    "papermill": {
     "duration": 0.026231,
     "end_time": "2025-08-19T18:53:17.432531",
     "exception": false,
     "start_time": "2025-08-19T18:53:17.406300",
     "status": "completed"
    },
    "tags": []
   },
   "outputs": [],
   "source": [
    "y_true = y_true.squeeze()"
   ]
  },
  {
   "cell_type": "code",
   "execution_count": 45,
   "id": "e700e9a7",
   "metadata": {
    "execution": {
     "iopub.execute_input": "2025-08-19T18:53:17.463642Z",
     "iopub.status.busy": "2025-08-19T18:53:17.462153Z",
     "iopub.status.idle": "2025-08-19T18:53:17.981823Z",
     "shell.execute_reply": "2025-08-19T18:53:17.980325Z"
    },
    "papermill": {
     "duration": 0.535567,
     "end_time": "2025-08-19T18:53:17.983658",
     "exception": false,
     "start_time": "2025-08-19T18:53:17.448091",
     "status": "completed"
    },
    "tags": []
   },
   "outputs": [],
   "source": [
    "from fairness_multiverse.conformal import evaluate_sets\n",
    "\n",
    "# Evaluate coverage and average set size on test data\n",
    "metrics = evaluate_sets(pred_sets, y_true)"
   ]
  },
  {
   "cell_type": "markdown",
   "id": "efbacec0",
   "metadata": {
    "papermill": {
     "duration": 0.011745,
     "end_time": "2025-08-19T18:53:18.007511",
     "exception": false,
     "start_time": "2025-08-19T18:53:17.995766",
     "status": "completed"
    },
    "tags": []
   },
   "source": [
    "# CP Metrics"
   ]
  },
  {
   "cell_type": "code",
   "execution_count": 46,
   "id": "9de55fb1",
   "metadata": {
    "execution": {
     "iopub.execute_input": "2025-08-19T18:53:18.034813Z",
     "iopub.status.busy": "2025-08-19T18:53:18.033137Z",
     "iopub.status.idle": "2025-08-19T18:53:18.046610Z",
     "shell.execute_reply": "2025-08-19T18:53:18.045421Z"
    },
    "papermill": {
     "duration": 0.029306,
     "end_time": "2025-08-19T18:53:18.048457",
     "exception": false,
     "start_time": "2025-08-19T18:53:18.019151",
     "status": "completed"
    },
    "tags": []
   },
   "outputs": [
    {
     "data": {
      "text/plain": [
       "{'coverage': 0.908906476424033, 'avg_size': 1.2208003567049381}"
      ]
     },
     "execution_count": 46,
     "metadata": {},
     "output_type": "execute_result"
    }
   ],
   "source": [
    "metrics"
   ]
  },
  {
   "cell_type": "code",
   "execution_count": 47,
   "id": "64c340a1",
   "metadata": {
    "execution": {
     "iopub.execute_input": "2025-08-19T18:53:18.079069Z",
     "iopub.status.busy": "2025-08-19T18:53:18.077509Z",
     "iopub.status.idle": "2025-08-19T18:53:18.090918Z",
     "shell.execute_reply": "2025-08-19T18:53:18.087198Z"
    },
    "papermill": {
     "duration": 0.031203,
     "end_time": "2025-08-19T18:53:18.094690",
     "exception": false,
     "start_time": "2025-08-19T18:53:18.063487",
     "status": "completed"
    },
    "tags": []
   },
   "outputs": [],
   "source": [
    "example_universe = universe.copy()\n",
    "universe_training_year = example_universe.get(\"training_year\")\n",
    "universe_training_size = example_universe.get(\"training_size\")\n",
    "universe_scale = example_universe.get(\"scale\")\n",
    "universe_model = example_universe.get(\"model\")\n",
    "universe_exclude_features = example_universe.get(\"exclude_features\")\n",
    "universe_exclude_subgroups = example_universe.get(\"exclude_subgroups\")"
   ]
  },
  {
   "cell_type": "code",
   "execution_count": 48,
   "id": "dbb53cb4",
   "metadata": {
    "execution": {
     "iopub.execute_input": "2025-08-19T18:53:18.132601Z",
     "iopub.status.busy": "2025-08-19T18:53:18.129876Z",
     "iopub.status.idle": "2025-08-19T18:53:18.147703Z",
     "shell.execute_reply": "2025-08-19T18:53:18.146225Z"
    },
    "papermill": {
     "duration": 0.036559,
     "end_time": "2025-08-19T18:53:18.149858",
     "exception": false,
     "start_time": "2025-08-19T18:53:18.113299",
     "status": "completed"
    },
    "tags": []
   },
   "outputs": [],
   "source": [
    "cp_metrics_dict = {\n",
    "    \"universe_id\": [universe_id],\n",
    "    \"universe_training_year\": [universe_training_year],\n",
    "    \"universe_training_size\": [universe_training_size],\n",
    "    \"universe_scale\": [universe_scale],\n",
    "    \"universe_model\": [universe_model],\n",
    "    \"universe_exclude_features\": [universe_exclude_features],\n",
    "    \"universe_exclude_subgroups\": [universe_exclude_subgroups],\n",
    "    \"q_hat\": [q_hat],\n",
    "    \"coverage\": [metrics[\"coverage\"]],\n",
    "    \"avg_size\": [metrics[\"avg_size\"]],\n",
    "}"
   ]
  },
  {
   "cell_type": "code",
   "execution_count": 49,
   "id": "0d70d4b2",
   "metadata": {
    "execution": {
     "iopub.execute_input": "2025-08-19T18:53:18.184720Z",
     "iopub.status.busy": "2025-08-19T18:53:18.183175Z",
     "iopub.status.idle": "2025-08-19T18:53:18.197072Z",
     "shell.execute_reply": "2025-08-19T18:53:18.195464Z"
    },
    "papermill": {
     "duration": 0.02982,
     "end_time": "2025-08-19T18:53:18.198837",
     "exception": false,
     "start_time": "2025-08-19T18:53:18.169017",
     "status": "completed"
    },
    "tags": []
   },
   "outputs": [],
   "source": [
    "cp_metrics_df = pd.DataFrame(cp_metrics_dict)"
   ]
  },
  {
   "cell_type": "code",
   "execution_count": 50,
   "id": "b494403c",
   "metadata": {
    "execution": {
     "iopub.execute_input": "2025-08-19T18:53:18.229077Z",
     "iopub.status.busy": "2025-08-19T18:53:18.227647Z",
     "iopub.status.idle": "2025-08-19T18:53:18.258439Z",
     "shell.execute_reply": "2025-08-19T18:53:18.257439Z"
    },
    "papermill": {
     "duration": 0.046931,
     "end_time": "2025-08-19T18:53:18.260625",
     "exception": false,
     "start_time": "2025-08-19T18:53:18.213694",
     "status": "completed"
    },
    "tags": []
   },
   "outputs": [
    {
     "data": {
      "text/html": [
       "<div>\n",
       "<style scoped>\n",
       "    .dataframe tbody tr th:only-of-type {\n",
       "        vertical-align: middle;\n",
       "    }\n",
       "\n",
       "    .dataframe tbody tr th {\n",
       "        vertical-align: top;\n",
       "    }\n",
       "\n",
       "    .dataframe thead th {\n",
       "        text-align: right;\n",
       "    }\n",
       "</style>\n",
       "<table border=\"1\" class=\"dataframe\">\n",
       "  <thead>\n",
       "    <tr style=\"text-align: right;\">\n",
       "      <th></th>\n",
       "      <th>universe_id</th>\n",
       "      <th>universe_training_year</th>\n",
       "      <th>universe_training_size</th>\n",
       "      <th>universe_scale</th>\n",
       "      <th>universe_model</th>\n",
       "      <th>universe_exclude_features</th>\n",
       "      <th>universe_exclude_subgroups</th>\n",
       "      <th>q_hat</th>\n",
       "      <th>coverage</th>\n",
       "      <th>avg_size</th>\n",
       "    </tr>\n",
       "  </thead>\n",
       "  <tbody>\n",
       "    <tr>\n",
       "      <th>0</th>\n",
       "      <td>e461799f63dc2e46fcdecf45e2aad3ee</td>\n",
       "      <td>2014</td>\n",
       "      <td>1k</td>\n",
       "      <td>do-not-scale</td>\n",
       "      <td>logreg</td>\n",
       "      <td>nationality-sex</td>\n",
       "      <td>keep-all</td>\n",
       "      <td>0.693856</td>\n",
       "      <td>0.908906</td>\n",
       "      <td>1.2208</td>\n",
       "    </tr>\n",
       "  </tbody>\n",
       "</table>\n",
       "</div>"
      ],
      "text/plain": [
       "                        universe_id universe_training_year  \\\n",
       "0  e461799f63dc2e46fcdecf45e2aad3ee                   2014   \n",
       "\n",
       "  universe_training_size universe_scale universe_model  \\\n",
       "0                     1k   do-not-scale         logreg   \n",
       "\n",
       "  universe_exclude_features universe_exclude_subgroups     q_hat  coverage  \\\n",
       "0           nationality-sex                   keep-all  0.693856  0.908906   \n",
       "\n",
       "   avg_size  \n",
       "0    1.2208  "
      ]
     },
     "execution_count": 50,
     "metadata": {},
     "output_type": "execute_result"
    }
   ],
   "source": [
    "cp_metrics_df"
   ]
  },
  {
   "cell_type": "markdown",
   "id": "ed608b0b",
   "metadata": {
    "papermill": {
     "duration": 0.013294,
     "end_time": "2025-08-19T18:53:18.296597",
     "exception": false,
     "start_time": "2025-08-19T18:53:18.283303",
     "status": "completed"
    },
    "tags": []
   },
   "source": [
    "Conditional coverage & looking at subgroups"
   ]
  },
  {
   "cell_type": "code",
   "execution_count": 51,
   "id": "8968c366",
   "metadata": {
    "execution": {
     "iopub.execute_input": "2025-08-19T18:53:18.328396Z",
     "iopub.status.busy": "2025-08-19T18:53:18.327096Z",
     "iopub.status.idle": "2025-08-19T18:53:18.710057Z",
     "shell.execute_reply": "2025-08-19T18:53:18.708818Z"
    },
    "papermill": {
     "duration": 0.401138,
     "end_time": "2025-08-19T18:53:18.712679",
     "exception": false,
     "start_time": "2025-08-19T18:53:18.311541",
     "status": "completed"
    },
    "tags": []
   },
   "outputs": [],
   "source": [
    "from fairness_multiverse.conformal import build_cp_groups\n",
    "\n",
    "cp_groups_df = build_cp_groups(pred_sets, y_true, X_test.index, org_test)"
   ]
  },
  {
   "cell_type": "code",
   "execution_count": 52,
   "id": "292ddabf",
   "metadata": {
    "execution": {
     "iopub.execute_input": "2025-08-19T18:53:18.744460Z",
     "iopub.status.busy": "2025-08-19T18:53:18.743456Z",
     "iopub.status.idle": "2025-08-19T18:53:19.685720Z",
     "shell.execute_reply": "2025-08-19T18:53:19.684520Z"
    },
    "papermill": {
     "duration": 0.95974,
     "end_time": "2025-08-19T18:53:19.688851",
     "exception": false,
     "start_time": "2025-08-19T18:53:18.729111",
     "status": "completed"
    },
    "tags": []
   },
   "outputs": [],
   "source": [
    "# Define covered = 1 if true_label is in the predicted set\n",
    "cp_groups_df['covered'] = cp_groups_df.apply(\n",
    "    lambda r: int(r['true_label'] in r['pred_set']),\n",
    "    axis=1\n",
    ")"
   ]
  },
  {
   "cell_type": "code",
   "execution_count": 53,
   "id": "3a261692",
   "metadata": {
    "execution": {
     "iopub.execute_input": "2025-08-19T18:53:19.735660Z",
     "iopub.status.busy": "2025-08-19T18:53:19.735304Z",
     "iopub.status.idle": "2025-08-19T18:53:19.753592Z",
     "shell.execute_reply": "2025-08-19T18:53:19.752790Z"
    },
    "papermill": {
     "duration": 0.035707,
     "end_time": "2025-08-19T18:53:19.755108",
     "exception": false,
     "start_time": "2025-08-19T18:53:19.719401",
     "status": "completed"
    },
    "tags": []
   },
   "outputs": [],
   "source": [
    "subgroups = ['frau1','nongerman','nongerman_male','nongerman_female']\n",
    "\n",
    "# Conditional coverage for subgroup==1\n",
    "cond_coverage = {\n",
    "    g: cp_groups_df.loc[cp_groups_df[g]==1, 'covered'].mean()\n",
    "    for g in subgroups\n",
    "}"
   ]
  },
  {
   "cell_type": "code",
   "execution_count": 54,
   "id": "894fd600",
   "metadata": {
    "execution": {
     "iopub.execute_input": "2025-08-19T18:53:19.783513Z",
     "iopub.status.busy": "2025-08-19T18:53:19.782515Z",
     "iopub.status.idle": "2025-08-19T18:53:19.793174Z",
     "shell.execute_reply": "2025-08-19T18:53:19.791649Z"
    },
    "papermill": {
     "duration": 0.026007,
     "end_time": "2025-08-19T18:53:19.794892",
     "exception": false,
     "start_time": "2025-08-19T18:53:19.768885",
     "status": "completed"
    },
    "tags": []
   },
   "outputs": [
    {
     "data": {
      "text/plain": [
       "{'frau1': 0.907292087882464,\n",
       " 'nongerman': 0.9303317801605568,\n",
       " 'nongerman_male': 0.9437089075024768,\n",
       " 'nongerman_female': 0.9081967213114754}"
      ]
     },
     "execution_count": 54,
     "metadata": {},
     "output_type": "execute_result"
    }
   ],
   "source": [
    "cond_coverage"
   ]
  },
  {
   "cell_type": "code",
   "execution_count": 55,
   "id": "942895c7",
   "metadata": {
    "execution": {
     "iopub.execute_input": "2025-08-19T18:53:19.823852Z",
     "iopub.status.busy": "2025-08-19T18:53:19.822544Z",
     "iopub.status.idle": "2025-08-19T18:53:19.835149Z",
     "shell.execute_reply": "2025-08-19T18:53:19.833693Z"
    },
    "papermill": {
     "duration": 0.027952,
     "end_time": "2025-08-19T18:53:19.836777",
     "exception": false,
     "start_time": "2025-08-19T18:53:19.808825",
     "status": "completed"
    },
    "tags": []
   },
   "outputs": [],
   "source": [
    "for subgroup, cov in cond_coverage.items():\n",
    "    cp_metrics_df[f\"cov_{subgroup}\"] = cov"
   ]
  },
  {
   "cell_type": "code",
   "execution_count": 56,
   "id": "3970120f",
   "metadata": {
    "execution": {
     "iopub.execute_input": "2025-08-19T18:53:19.870570Z",
     "iopub.status.busy": "2025-08-19T18:53:19.869433Z",
     "iopub.status.idle": "2025-08-19T18:53:19.890543Z",
     "shell.execute_reply": "2025-08-19T18:53:19.889709Z"
    },
    "papermill": {
     "duration": 0.039257,
     "end_time": "2025-08-19T18:53:19.892611",
     "exception": false,
     "start_time": "2025-08-19T18:53:19.853354",
     "status": "completed"
    },
    "tags": []
   },
   "outputs": [
    {
     "data": {
      "text/html": [
       "<div>\n",
       "<style scoped>\n",
       "    .dataframe tbody tr th:only-of-type {\n",
       "        vertical-align: middle;\n",
       "    }\n",
       "\n",
       "    .dataframe tbody tr th {\n",
       "        vertical-align: top;\n",
       "    }\n",
       "\n",
       "    .dataframe thead th {\n",
       "        text-align: right;\n",
       "    }\n",
       "</style>\n",
       "<table border=\"1\" class=\"dataframe\">\n",
       "  <thead>\n",
       "    <tr style=\"text-align: right;\">\n",
       "      <th></th>\n",
       "      <th>universe_id</th>\n",
       "      <th>universe_training_year</th>\n",
       "      <th>universe_training_size</th>\n",
       "      <th>universe_scale</th>\n",
       "      <th>universe_model</th>\n",
       "      <th>universe_exclude_features</th>\n",
       "      <th>universe_exclude_subgroups</th>\n",
       "      <th>q_hat</th>\n",
       "      <th>coverage</th>\n",
       "      <th>avg_size</th>\n",
       "      <th>cov_frau1</th>\n",
       "      <th>cov_nongerman</th>\n",
       "      <th>cov_nongerman_male</th>\n",
       "      <th>cov_nongerman_female</th>\n",
       "    </tr>\n",
       "  </thead>\n",
       "  <tbody>\n",
       "    <tr>\n",
       "      <th>0</th>\n",
       "      <td>e461799f63dc2e46fcdecf45e2aad3ee</td>\n",
       "      <td>2014</td>\n",
       "      <td>1k</td>\n",
       "      <td>do-not-scale</td>\n",
       "      <td>logreg</td>\n",
       "      <td>nationality-sex</td>\n",
       "      <td>keep-all</td>\n",
       "      <td>0.693856</td>\n",
       "      <td>0.908906</td>\n",
       "      <td>1.2208</td>\n",
       "      <td>0.907292</td>\n",
       "      <td>0.930332</td>\n",
       "      <td>0.943709</td>\n",
       "      <td>0.908197</td>\n",
       "    </tr>\n",
       "  </tbody>\n",
       "</table>\n",
       "</div>"
      ],
      "text/plain": [
       "                        universe_id universe_training_year  \\\n",
       "0  e461799f63dc2e46fcdecf45e2aad3ee                   2014   \n",
       "\n",
       "  universe_training_size universe_scale universe_model  \\\n",
       "0                     1k   do-not-scale         logreg   \n",
       "\n",
       "  universe_exclude_features universe_exclude_subgroups     q_hat  coverage  \\\n",
       "0           nationality-sex                   keep-all  0.693856  0.908906   \n",
       "\n",
       "   avg_size  cov_frau1  cov_nongerman  cov_nongerman_male  \\\n",
       "0    1.2208   0.907292       0.930332            0.943709   \n",
       "\n",
       "   cov_nongerman_female  \n",
       "0              0.908197  "
      ]
     },
     "execution_count": 56,
     "metadata": {},
     "output_type": "execute_result"
    }
   ],
   "source": [
    "cp_metrics_df"
   ]
  },
  {
   "cell_type": "markdown",
   "id": "3fc519cc",
   "metadata": {
    "papermill": {
     "duration": 0.014302,
     "end_time": "2025-08-19T18:53:19.937359",
     "exception": false,
     "start_time": "2025-08-19T18:53:19.923057",
     "status": "completed"
    },
    "tags": []
   },
   "source": [
    "# (Fairness) Metrics"
   ]
  },
  {
   "cell_type": "code",
   "execution_count": 57,
   "id": "a2e5e155",
   "metadata": {
    "execution": {
     "iopub.execute_input": "2025-08-19T18:53:19.973008Z",
     "iopub.status.busy": "2025-08-19T18:53:19.971383Z",
     "iopub.status.idle": "2025-08-19T18:53:20.003667Z",
     "shell.execute_reply": "2025-08-19T18:53:20.002728Z"
    },
    "papermill": {
     "duration": 0.05352,
     "end_time": "2025-08-19T18:53:20.005893",
     "exception": false,
     "start_time": "2025-08-19T18:53:19.952373",
     "status": "completed"
    },
    "tags": []
   },
   "outputs": [],
   "source": [
    "colname_to_bin = \"maxdeutsch1\"\n",
    "majority_value = org_train[colname_to_bin].mode()[0]\n",
    "\n",
    "org_test[\"majmin\"] = np.where(org_test[colname_to_bin] == majority_value, \"majority\", \"minority\")"
   ]
  },
  {
   "cell_type": "code",
   "execution_count": 58,
   "id": "17e3e4d5",
   "metadata": {
    "execution": {
     "iopub.execute_input": "2025-08-19T18:53:20.058957Z",
     "iopub.status.busy": "2025-08-19T18:53:20.058621Z",
     "iopub.status.idle": "2025-08-19T18:53:21.832158Z",
     "shell.execute_reply": "2025-08-19T18:53:21.830864Z"
    },
    "papermill": {
     "duration": 1.810316,
     "end_time": "2025-08-19T18:53:21.835227",
     "exception": false,
     "start_time": "2025-08-19T18:53:20.024911",
     "status": "completed"
    },
    "tags": []
   },
   "outputs": [],
   "source": [
    "example_universe = universe.copy()\n",
    "example_universe[\"cutoff\"] = example_universe[\"cutoff\"][0]\n",
    "example_universe[\"eval_fairness_grouping\"] = example_universe[\"eval_fairness_grouping\"][0]\n",
    "fairness_dict, metric_frame = universe_analysis.compute_metrics(\n",
    "    example_universe,\n",
    "    y_pred_prob=probs_test,\n",
    "    y_test=y_true,\n",
    "    org_test=org_test,\n",
    ")"
   ]
  },
  {
   "cell_type": "markdown",
   "id": "1fb7a0e9",
   "metadata": {
    "papermill": {
     "duration": 0.017433,
     "end_time": "2025-08-19T18:53:21.882214",
     "exception": false,
     "start_time": "2025-08-19T18:53:21.864781",
     "status": "completed"
    },
    "tags": []
   },
   "source": [
    "# Overall"
   ]
  },
  {
   "cell_type": "markdown",
   "id": "be1784b1",
   "metadata": {
    "papermill": {
     "duration": 0.013482,
     "end_time": "2025-08-19T18:53:21.922320",
     "exception": false,
     "start_time": "2025-08-19T18:53:21.908838",
     "status": "completed"
    },
    "tags": []
   },
   "source": [
    "Main fairness target: Equalized Odds. Seems to be a better fit than equal opportunity, since we're not only interested in Y = 1. Seems to be a better fit than demographic parity, since we also care about accuracy, not just equal distribution of preds.\n",
    "\n",
    "Pick column for computation of fairness metrics\n",
    "\n",
    "Performance\n",
    "Overall performance measures, most interesting in relation to the measures split by group below"
   ]
  },
  {
   "cell_type": "code",
   "execution_count": 59,
   "id": "b7672bee",
   "metadata": {
    "execution": {
     "iopub.execute_input": "2025-08-19T18:53:21.948943Z",
     "iopub.status.busy": "2025-08-19T18:53:21.948590Z",
     "iopub.status.idle": "2025-08-19T18:53:21.957330Z",
     "shell.execute_reply": "2025-08-19T18:53:21.956613Z"
    },
    "papermill": {
     "duration": 0.025732,
     "end_time": "2025-08-19T18:53:21.960529",
     "exception": false,
     "start_time": "2025-08-19T18:53:21.934797",
     "status": "completed"
    },
    "tags": []
   },
   "outputs": [
    {
     "data": {
      "text/plain": [
       "accuracy                   0.217490\n",
       "balanced accuracy          0.533234\n",
       "f1                         0.239010\n",
       "precision                  0.136539\n",
       "false positive rate        0.891473\n",
       "false negative rate        0.042058\n",
       "selection rate             0.900000\n",
       "count                  89710.000000\n",
       "dtype: float64"
      ]
     },
     "execution_count": 59,
     "metadata": {},
     "output_type": "execute_result"
    }
   ],
   "source": [
    "metric_frame.overall"
   ]
  },
  {
   "cell_type": "markdown",
   "id": "d93333c9",
   "metadata": {
    "papermill": {
     "duration": 0.012591,
     "end_time": "2025-08-19T18:53:22.000338",
     "exception": false,
     "start_time": "2025-08-19T18:53:21.987747",
     "status": "completed"
    },
    "tags": []
   },
   "source": [
    "By Group"
   ]
  },
  {
   "cell_type": "code",
   "execution_count": 60,
   "id": "52256966",
   "metadata": {
    "execution": {
     "iopub.execute_input": "2025-08-19T18:53:22.027060Z",
     "iopub.status.busy": "2025-08-19T18:53:22.026572Z",
     "iopub.status.idle": "2025-08-19T18:53:22.041233Z",
     "shell.execute_reply": "2025-08-19T18:53:22.040505Z"
    },
    "papermill": {
     "duration": 0.029887,
     "end_time": "2025-08-19T18:53:22.042725",
     "exception": false,
     "start_time": "2025-08-19T18:53:22.012838",
     "status": "completed"
    },
    "tags": []
   },
   "outputs": [
    {
     "data": {
      "text/html": [
       "<div>\n",
       "<style scoped>\n",
       "    .dataframe tbody tr th:only-of-type {\n",
       "        vertical-align: middle;\n",
       "    }\n",
       "\n",
       "    .dataframe tbody tr th {\n",
       "        vertical-align: top;\n",
       "    }\n",
       "\n",
       "    .dataframe thead th {\n",
       "        text-align: right;\n",
       "    }\n",
       "</style>\n",
       "<table border=\"1\" class=\"dataframe\">\n",
       "  <thead>\n",
       "    <tr style=\"text-align: right;\">\n",
       "      <th></th>\n",
       "      <th>accuracy</th>\n",
       "      <th>balanced accuracy</th>\n",
       "      <th>f1</th>\n",
       "      <th>precision</th>\n",
       "      <th>false positive rate</th>\n",
       "      <th>false negative rate</th>\n",
       "      <th>selection rate</th>\n",
       "      <th>count</th>\n",
       "    </tr>\n",
       "    <tr>\n",
       "      <th>majmin</th>\n",
       "      <th></th>\n",
       "      <th></th>\n",
       "      <th></th>\n",
       "      <th></th>\n",
       "      <th></th>\n",
       "      <th></th>\n",
       "      <th></th>\n",
       "      <th></th>\n",
       "    </tr>\n",
       "  </thead>\n",
       "  <tbody>\n",
       "    <tr>\n",
       "      <th>majority</th>\n",
       "      <td>0.238123</td>\n",
       "      <td>0.540841</td>\n",
       "      <td>0.248306</td>\n",
       "      <td>0.142766</td>\n",
       "      <td>0.870615</td>\n",
       "      <td>0.047702</td>\n",
       "      <td>0.881408</td>\n",
       "      <td>69170.0</td>\n",
       "    </tr>\n",
       "    <tr>\n",
       "      <th>minority</th>\n",
       "      <td>0.148004</td>\n",
       "      <td>0.509676</td>\n",
       "      <td>0.209575</td>\n",
       "      <td>0.117338</td>\n",
       "      <td>0.960379</td>\n",
       "      <td>0.020270</td>\n",
       "      <td>0.962610</td>\n",
       "      <td>20540.0</td>\n",
       "    </tr>\n",
       "  </tbody>\n",
       "</table>\n",
       "</div>"
      ],
      "text/plain": [
       "          accuracy  balanced accuracy        f1  precision  \\\n",
       "majmin                                                       \n",
       "majority  0.238123           0.540841  0.248306   0.142766   \n",
       "minority  0.148004           0.509676  0.209575   0.117338   \n",
       "\n",
       "          false positive rate  false negative rate  selection rate    count  \n",
       "majmin                                                                       \n",
       "majority             0.870615             0.047702        0.881408  69170.0  \n",
       "minority             0.960379             0.020270        0.962610  20540.0  "
      ]
     },
     "execution_count": 60,
     "metadata": {},
     "output_type": "execute_result"
    }
   ],
   "source": [
    "metric_frame.by_group"
   ]
  },
  {
   "cell_type": "code",
   "execution_count": 61,
   "id": "6e6c20ae",
   "metadata": {
    "execution": {
     "iopub.execute_input": "2025-08-19T18:53:22.072969Z",
     "iopub.status.busy": "2025-08-19T18:53:22.072669Z",
     "iopub.status.idle": "2025-08-19T18:53:23.949944Z",
     "shell.execute_reply": "2025-08-19T18:53:23.949007Z"
    },
    "papermill": {
     "duration": 1.892626,
     "end_time": "2025-08-19T18:53:23.951361",
     "exception": false,
     "start_time": "2025-08-19T18:53:22.058735",
     "status": "completed"
    },
    "tags": []
   },
   "outputs": [
    {
     "data": {
      "text/plain": [
       "array([[<Axes: title={'center': 'accuracy'}, xlabel='majmin'>,\n",
       "        <Axes: title={'center': 'balanced accuracy'}, xlabel='majmin'>,\n",
       "        <Axes: title={'center': 'f1'}, xlabel='majmin'>],\n",
       "       [<Axes: title={'center': 'precision'}, xlabel='majmin'>,\n",
       "        <Axes: title={'center': 'false positive rate'}, xlabel='majmin'>,\n",
       "        <Axes: title={'center': 'false negative rate'}, xlabel='majmin'>],\n",
       "       [<Axes: title={'center': 'selection rate'}, xlabel='majmin'>,\n",
       "        <Axes: title={'center': 'count'}, xlabel='majmin'>,\n",
       "        <Axes: xlabel='majmin'>]], dtype=object)"
      ]
     },
     "execution_count": 61,
     "metadata": {},
     "output_type": "execute_result"
    },
    {
     "data": {
      "image/png": "[encoded data removed]",
      "text/plain": [
       "<Figure size 1200x800 with 9 Axes>"
      ]
     },
     "metadata": {},
     "output_type": "display_data"
    }
   ],
   "source": [
    "# In a graphic\n",
    "metric_frame.by_group.plot.bar(\n",
    "    subplots=True,\n",
    "    layout=[3, 3],\n",
    "    legend=False,\n",
    "    figsize=[12, 8],\n",
    "    title=\"Show all metrics\",\n",
    ")"
   ]
  },
  {
   "cell_type": "markdown",
   "id": "b2e433ae",
   "metadata": {
    "papermill": {
     "duration": 0.016354,
     "end_time": "2025-08-19T18:53:23.982703",
     "exception": false,
     "start_time": "2025-08-19T18:53:23.966349",
     "status": "completed"
    },
    "tags": []
   },
   "source": [
    "# Final Output"
   ]
  },
  {
   "cell_type": "code",
   "execution_count": 62,
   "id": "3871301e",
   "metadata": {
    "execution": {
     "iopub.execute_input": "2025-08-19T18:53:24.047326Z",
     "iopub.status.busy": "2025-08-19T18:53:24.044199Z",
     "iopub.status.idle": "2025-08-19T18:53:24.062918Z",
     "shell.execute_reply": "2025-08-19T18:53:24.061731Z"
    },
    "papermill": {
     "duration": 0.049019,
     "end_time": "2025-08-19T18:53:24.064730",
     "exception": false,
     "start_time": "2025-08-19T18:53:24.015711",
     "status": "completed"
    },
    "tags": []
   },
   "outputs": [
    {
     "data": {
      "text/plain": [
       "4"
      ]
     },
     "execution_count": 62,
     "metadata": {},
     "output_type": "execute_result"
    }
   ],
   "source": [
    "sub_universes = universe_analysis.generate_sub_universes()\n",
    "len(sub_universes)"
   ]
  },
  {
   "cell_type": "code",
   "execution_count": 63,
   "id": "d9cfdaca",
   "metadata": {
    "execution": {
     "iopub.execute_input": "2025-08-19T18:53:24.111198Z",
     "iopub.status.busy": "2025-08-19T18:53:24.109983Z",
     "iopub.status.idle": "2025-08-19T18:53:24.121533Z",
     "shell.execute_reply": "2025-08-19T18:53:24.120268Z"
    },
    "papermill": {
     "duration": 0.037857,
     "end_time": "2025-08-19T18:53:24.123587",
     "exception": false,
     "start_time": "2025-08-19T18:53:24.085730",
     "status": "completed"
    },
    "tags": []
   },
   "outputs": [],
   "source": [
    "def filter_sub_universe_data(sub_universe, org_test):\n",
    "    # Keep all rows — no filtering\n",
    "    keep_rows_mask = np.ones(org_test.shape[0], dtype=bool)\n",
    "\n",
    "    print(f\"[INFO] Keeping all rows: {keep_rows_mask.sum()} rows retained.\")\n",
    "    return keep_rows_mask"
   ]
  },
  {
   "cell_type": "code",
   "execution_count": 64,
   "id": "2bc31ac1",
   "metadata": {
    "execution": {
     "iopub.execute_input": "2025-08-19T18:53:24.174419Z",
     "iopub.status.busy": "2025-08-19T18:53:24.173469Z",
     "iopub.status.idle": "2025-08-19T18:53:31.178436Z",
     "shell.execute_reply": "2025-08-19T18:53:31.177444Z"
    },
    "papermill": {
     "duration": 7.031255,
     "end_time": "2025-08-19T18:53:31.180251",
     "exception": false,
     "start_time": "2025-08-19T18:53:24.148996",
     "status": "completed"
    },
    "tags": []
   },
   "outputs": [
    {
     "name": "stdout",
     "output_type": "stream",
     "text": [
      "Stopping execution_time clock.\n",
      "[INFO] Keeping all rows: 89710 rows retained.\n"
     ]
    },
    {
     "name": "stdout",
     "output_type": "stream",
     "text": [
      "[INFO] Keeping all rows: 89710 rows retained.\n"
     ]
    },
    {
     "name": "stdout",
     "output_type": "stream",
     "text": [
      "[INFO] Keeping all rows: 89710 rows retained.\n"
     ]
    },
    {
     "name": "stdout",
     "output_type": "stream",
     "text": [
      "[INFO] Keeping all rows: 89710 rows retained.\n"
     ]
    },
    {
     "data": {
      "text/html": [
       "<div>\n",
       "<style scoped>\n",
       "    .dataframe tbody tr th:only-of-type {\n",
       "        vertical-align: middle;\n",
       "    }\n",
       "\n",
       "    .dataframe tbody tr th {\n",
       "        vertical-align: top;\n",
       "    }\n",
       "\n",
       "    .dataframe thead th {\n",
       "        text-align: right;\n",
       "    }\n",
       "</style>\n",
       "<table border=\"1\" class=\"dataframe\">\n",
       "  <thead>\n",
       "    <tr style=\"text-align: right;\">\n",
       "      <th></th>\n",
       "      <th>run_no</th>\n",
       "      <th>universe_id</th>\n",
       "      <th>universe_settings</th>\n",
       "      <th>execution_time</th>\n",
       "      <th>test_size_n</th>\n",
       "      <th>test_size_frac</th>\n",
       "      <th>fair_main_equalized_odds_difference</th>\n",
       "      <th>fair_main_equalized_odds_ratio</th>\n",
       "      <th>fair_main_demographic_parity_difference</th>\n",
       "      <th>fair_main_demographic_parity_ratio</th>\n",
       "      <th>...</th>\n",
       "      <th>perf_grp_precision_0</th>\n",
       "      <th>perf_grp_precision_1</th>\n",
       "      <th>perf_grp_false positive rate_0</th>\n",
       "      <th>perf_grp_false positive rate_1</th>\n",
       "      <th>perf_grp_false negative rate_0</th>\n",
       "      <th>perf_grp_false negative rate_1</th>\n",
       "      <th>perf_grp_selection rate_0</th>\n",
       "      <th>perf_grp_selection rate_1</th>\n",
       "      <th>perf_grp_count_0</th>\n",
       "      <th>perf_grp_count_1</th>\n",
       "    </tr>\n",
       "  </thead>\n",
       "  <tbody>\n",
       "    <tr>\n",
       "      <th>0</th>\n",
       "      <td>3</td>\n",
       "      <td>e461799f63dc2e46fcdecf45e2aad3ee</td>\n",
       "      <td>{\"cutoff\": \"quantile_0.1\", \"eval_fairness_grou...</td>\n",
       "      <td>21.439641</td>\n",
       "      <td>89710</td>\n",
       "      <td>1.0</td>\n",
       "      <td>0.089764</td>\n",
       "      <td>0.906533</td>\n",
       "      <td>0.081201</td>\n",
       "      <td>0.915644</td>\n",
       "      <td>...</td>\n",
       "      <td>NaN</td>\n",
       "      <td>NaN</td>\n",
       "      <td>NaN</td>\n",
       "      <td>NaN</td>\n",
       "      <td>NaN</td>\n",
       "      <td>NaN</td>\n",
       "      <td>NaN</td>\n",
       "      <td>NaN</td>\n",
       "      <td>NaN</td>\n",
       "      <td>NaN</td>\n",
       "    </tr>\n",
       "    <tr>\n",
       "      <th>0</th>\n",
       "      <td>3</td>\n",
       "      <td>e461799f63dc2e46fcdecf45e2aad3ee</td>\n",
       "      <td>{\"cutoff\": \"quantile_0.1\", \"eval_fairness_grou...</td>\n",
       "      <td>21.439641</td>\n",
       "      <td>89710</td>\n",
       "      <td>1.0</td>\n",
       "      <td>0.089764</td>\n",
       "      <td>0.906533</td>\n",
       "      <td>0.081201</td>\n",
       "      <td>0.915644</td>\n",
       "      <td>...</td>\n",
       "      <td>0.117338</td>\n",
       "      <td>0.142766</td>\n",
       "      <td>0.960379</td>\n",
       "      <td>0.870615</td>\n",
       "      <td>0.020270</td>\n",
       "      <td>0.047702</td>\n",
       "      <td>0.96261</td>\n",
       "      <td>0.881408</td>\n",
       "      <td>20540.0</td>\n",
       "      <td>69170.0</td>\n",
       "    </tr>\n",
       "    <tr>\n",
       "      <th>0</th>\n",
       "      <td>3</td>\n",
       "      <td>e461799f63dc2e46fcdecf45e2aad3ee</td>\n",
       "      <td>{\"cutoff\": \"quantile_0.25\", \"eval_fairness_gro...</td>\n",
       "      <td>21.439641</td>\n",
       "      <td>89710</td>\n",
       "      <td>1.0</td>\n",
       "      <td>0.208027</td>\n",
       "      <td>0.766851</td>\n",
       "      <td>0.190698</td>\n",
       "      <td>0.787412</td>\n",
       "      <td>...</td>\n",
       "      <td>NaN</td>\n",
       "      <td>NaN</td>\n",
       "      <td>NaN</td>\n",
       "      <td>NaN</td>\n",
       "      <td>NaN</td>\n",
       "      <td>NaN</td>\n",
       "      <td>NaN</td>\n",
       "      <td>NaN</td>\n",
       "      <td>NaN</td>\n",
       "      <td>NaN</td>\n",
       "    </tr>\n",
       "    <tr>\n",
       "      <th>0</th>\n",
       "      <td>3</td>\n",
       "      <td>e461799f63dc2e46fcdecf45e2aad3ee</td>\n",
       "      <td>{\"cutoff\": \"quantile_0.25\", \"eval_fairness_gro...</td>\n",
       "      <td>21.439641</td>\n",
       "      <td>89710</td>\n",
       "      <td>1.0</td>\n",
       "      <td>0.208027</td>\n",
       "      <td>0.766851</td>\n",
       "      <td>0.190698</td>\n",
       "      <td>0.787412</td>\n",
       "      <td>...</td>\n",
       "      <td>0.120000</td>\n",
       "      <td>0.159302</td>\n",
       "      <td>0.892252</td>\n",
       "      <td>0.684225</td>\n",
       "      <td>0.066301</td>\n",
       "      <td>0.148468</td>\n",
       "      <td>0.89703</td>\n",
       "      <td>0.706332</td>\n",
       "      <td>20540.0</td>\n",
       "      <td>69170.0</td>\n",
       "    </tr>\n",
       "  </tbody>\n",
       "</table>\n",
       "<p>4 rows × 50 columns</p>\n",
       "</div>"
      ],
      "text/plain": [
       "  run_no                       universe_id  \\\n",
       "0      3  e461799f63dc2e46fcdecf45e2aad3ee   \n",
       "0      3  e461799f63dc2e46fcdecf45e2aad3ee   \n",
       "0      3  e461799f63dc2e46fcdecf45e2aad3ee   \n",
       "0      3  e461799f63dc2e46fcdecf45e2aad3ee   \n",
       "\n",
       "                                   universe_settings  execution_time  \\\n",
       "0  {\"cutoff\": \"quantile_0.1\", \"eval_fairness_grou...       21.439641   \n",
       "0  {\"cutoff\": \"quantile_0.1\", \"eval_fairness_grou...       21.439641   \n",
       "0  {\"cutoff\": \"quantile_0.25\", \"eval_fairness_gro...       21.439641   \n",
       "0  {\"cutoff\": \"quantile_0.25\", \"eval_fairness_gro...       21.439641   \n",
       "\n",
       "   test_size_n  test_size_frac  fair_main_equalized_odds_difference  \\\n",
       "0        89710             1.0                             0.089764   \n",
       "0        89710             1.0                             0.089764   \n",
       "0        89710             1.0                             0.208027   \n",
       "0        89710             1.0                             0.208027   \n",
       "\n",
       "   fair_main_equalized_odds_ratio  fair_main_demographic_parity_difference  \\\n",
       "0                        0.906533                                 0.081201   \n",
       "0                        0.906533                                 0.081201   \n",
       "0                        0.766851                                 0.190698   \n",
       "0                        0.766851                                 0.190698   \n",
       "\n",
       "   fair_main_demographic_parity_ratio  ...  perf_grp_precision_0  \\\n",
       "0                            0.915644  ...                   NaN   \n",
       "0                            0.915644  ...              0.117338   \n",
       "0                            0.787412  ...                   NaN   \n",
       "0                            0.787412  ...              0.120000   \n",
       "\n",
       "   perf_grp_precision_1  perf_grp_false positive rate_0  \\\n",
       "0                   NaN                             NaN   \n",
       "0              0.142766                        0.960379   \n",
       "0                   NaN                             NaN   \n",
       "0              0.159302                        0.892252   \n",
       "\n",
       "   perf_grp_false positive rate_1  perf_grp_false negative rate_0  \\\n",
       "0                             NaN                             NaN   \n",
       "0                        0.870615                        0.020270   \n",
       "0                             NaN                             NaN   \n",
       "0                        0.684225                        0.066301   \n",
       "\n",
       "   perf_grp_false negative rate_1  perf_grp_selection rate_0  \\\n",
       "0                             NaN                        NaN   \n",
       "0                        0.047702                    0.96261   \n",
       "0                             NaN                        NaN   \n",
       "0                        0.148468                    0.89703   \n",
       "\n",
       "   perf_grp_selection rate_1  perf_grp_count_0  perf_grp_count_1  \n",
       "0                        NaN               NaN               NaN  \n",
       "0                   0.881408           20540.0           69170.0  \n",
       "0                        NaN               NaN               NaN  \n",
       "0                   0.706332           20540.0           69170.0  \n",
       "\n",
       "[4 rows x 50 columns]"
      ]
     },
     "execution_count": 64,
     "metadata": {},
     "output_type": "execute_result"
    }
   ],
   "source": [
    "final_output = universe_analysis.generate_final_output(\n",
    "    y_pred_prob=probs_test,\n",
    "    y_test=y_true,\n",
    "    org_test=org_test,\n",
    "    filter_data=filter_sub_universe_data,\n",
    "    cp_metrics_df=cp_metrics_df,\n",
    "    save=True,\n",
    ")\n",
    "final_output"
   ]
  },
  {
   "cell_type": "code",
   "execution_count": null,
   "id": "8b80a1ff",
   "metadata": {
    "papermill": {
     "duration": 0.01468,
     "end_time": "2025-08-19T18:53:31.252681",
     "exception": false,
     "start_time": "2025-08-19T18:53:31.238001",
     "status": "completed"
    },
    "tags": []
   },
   "outputs": [],
   "source": []
  },
  {
   "cell_type": "code",
   "execution_count": null,
   "id": "275c9fad",
   "metadata": {
    "papermill": {
     "duration": 0.014715,
     "end_time": "2025-08-19T18:53:31.281740",
     "exception": false,
     "start_time": "2025-08-19T18:53:31.267025",
     "status": "completed"
    },
    "tags": []
   },
   "outputs": [],
   "source": []
  }
 ],
 "metadata": {
  "celltoolbar": "Tags",
  "kernelspec": {
   "display_name": "Python (CMA Fairness)",
   "language": "python",
   "name": "cma_fair_env"
  },
  "language_info": {
   "codemirror_mode": {
    "name": "ipython",
    "version": 3
   },
   "file_extension": ".py",
   "mimetype": "text/x-python",
   "name": "python",
   "nbconvert_exporter": "python",
   "pygments_lexer": "ipython3",
   "version": "3.10.12"
  },
  "papermill": {
   "default_parameters": {},
   "duration": 32.317143,
   "end_time": "2025-08-19T18:53:32.121546",
   "environment_variables": {},
   "exception": null,
   "input_path": "universe_analysis.ipynb",
   "output_path": "output/runs/3/notebooks/m_3-e461799f63dc2e46fcdecf45e2aad3ee.ipynb",
   "parameters": {
    "output_dir": "output",
    "run_no": "3",
    "seed": "2023",
    "universe": "{\"cutoff\": [\"quantile_0.1\", \"quantile_0.25\"], \"eval_fairness_grouping\": [\"majority-minority\", \"nationality-all\"], \"exclude_features\": \"nationality-sex\", \"exclude_subgroups\": \"keep-all\", \"model\": \"logreg\", \"scale\": \"do-not-scale\", \"training_size\": \"1k\", \"training_year\": \"2014\"}",
    "universe_id": "e461799f63dc2e46fcdecf45e2aad3ee"
   },
   "start_time": "2025-08-19T18:52:59.804403",
   "version": "2.6.0"
  }
 },
 "nbformat": 4,
 "nbformat_minor": 5
}