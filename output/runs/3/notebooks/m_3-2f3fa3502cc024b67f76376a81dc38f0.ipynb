{
 "cells": [
  {
   "cell_type": "markdown",
   "id": "ef23dbb3",
   "metadata": {
    "papermill": {
     "duration": 0.022983,
     "end_time": "2025-08-19T18:29:36.714011",
     "exception": false,
     "start_time": "2025-08-19T18:29:36.691028",
     "status": "completed"
    },
    "tags": []
   },
   "source": [
    "# Setup"
   ]
  },
  {
   "cell_type": "code",
   "execution_count": 1,
   "id": "0bc8e7dc",
   "metadata": {
    "execution": {
     "iopub.execute_input": "2025-08-19T18:29:36.737443Z",
     "iopub.status.busy": "2025-08-19T18:29:36.736394Z",
     "iopub.status.idle": "2025-08-19T18:29:36.756096Z",
     "shell.execute_reply": "2025-08-19T18:29:36.754627Z"
    },
    "papermill": {
     "duration": 0.032574,
     "end_time": "2025-08-19T18:29:36.758565",
     "exception": false,
     "start_time": "2025-08-19T18:29:36.725991",
     "status": "completed"
    },
    "tags": []
   },
   "outputs": [
    {
     "name": "stdout",
     "output_type": "stream",
     "text": [
      "/dss/dsshome1/0C/ra93lal2/cma/CMA_Fairness_v2\n"
     ]
    },
    {
     "name": "stderr",
     "output_type": "stream",
     "text": [
      "/dss/dsshome1/0C/ra93lal2/.local/share/virtualenvs/CMA_Fairness_v2-3j10GkSs/lib/python3.10/site-packages/IPython/core/magics/osm.py:393: UserWarning: This is now an optional IPython functionality, using bookmarks requires you to install the `pickleshare` library.\n",
      "  bkms = self.shell.db.get('bookmarks', {})\n",
      "/dss/dsshome1/0C/ra93lal2/.local/share/virtualenvs/CMA_Fairness_v2-3j10GkSs/lib/python3.10/site-packages/IPython/core/magics/osm.py:417: UserWarning: This is now an optional IPython functionality, setting dhist requires you to install the `pickleshare` library.\n",
      "  self.shell.db['dhist'] = compress_dhist(dhist)[-100:]\n"
     ]
    }
   ],
   "source": [
    "%cd ~/cma/CMA_Fairness_v2"
   ]
  },
  {
   "cell_type": "markdown",
   "id": "9d235661",
   "metadata": {
    "papermill": {
     "duration": 0.009005,
     "end_time": "2025-08-19T18:29:36.779885",
     "exception": false,
     "start_time": "2025-08-19T18:29:36.770880",
     "status": "completed"
    },
    "tags": []
   },
   "source": [
    "The following cell holds the definition of our parameters, these values can be overriden by rendering the with e.g. the following command:\n",
    "\n",
    "papermill -p alpha 0.2 -p ratio 0.3 universe_analysis.ipynb output/test_run.ipynb"
   ]
  },
  {
   "cell_type": "code",
   "execution_count": 2,
   "id": "4a789d8e",
   "metadata": {
    "execution": {
     "iopub.execute_input": "2025-08-19T18:29:36.799967Z",
     "iopub.status.busy": "2025-08-19T18:29:36.799045Z",
     "iopub.status.idle": "2025-08-19T18:29:36.806095Z",
     "shell.execute_reply": "2025-08-19T18:29:36.804764Z"
    },
    "papermill": {
     "duration": 0.0187,
     "end_time": "2025-08-19T18:29:36.807562",
     "exception": false,
     "start_time": "2025-08-19T18:29:36.788862",
     "status": "completed"
    },
    "tags": []
   },
   "outputs": [
    {
     "name": "stdout",
     "output_type": "stream",
     "text": [
      "Current working directory: /dss/dsshome1/0C/ra93lal2/cma/CMA_Fairness_v2\n"
     ]
    }
   ],
   "source": [
    "import os\n",
    "print(\"Current working directory:\", os.getcwd())"
   ]
  },
  {
   "cell_type": "code",
   "execution_count": 3,
   "id": "4132aaed",
   "metadata": {
    "execution": {
     "iopub.execute_input": "2025-08-19T18:29:36.828601Z",
     "iopub.status.busy": "2025-08-19T18:29:36.827682Z",
     "iopub.status.idle": "2025-08-19T18:29:36.836576Z",
     "shell.execute_reply": "2025-08-19T18:29:36.835272Z"
    },
    "papermill": {
     "duration": 0.020982,
     "end_time": "2025-08-19T18:29:36.838254",
     "exception": false,
     "start_time": "2025-08-19T18:29:36.817272",
     "status": "completed"
    },
    "tags": [
     "parameters"
    ]
   },
   "outputs": [],
   "source": [
    "run_no = 0\n",
    "universe_id = \"test\"\n",
    "universe = {\n",
    "    \"training_size\": \"5k\", # \"25k\", \"5k\", \"1k\"\n",
    "    \"training_year\": \"2012_14\", # \"2014\", \"2012_14\", \"2010_14\"\n",
    "    \"scale\": \"scale\", # \"scale\", \"do-not-scale\",\n",
    "    \"model\": \"elasticnet\", # \"logreg\", \"penalized_logreg\", \"rf\", \"gbm\", \"elasticnet\"\n",
    "    \"cutoff\": [\"quantile_0.15\", \"quantile_0.30\"],\n",
    "    \"exclude_features\": \"age\", # \"none\", \"nationality\", \"sex\", \"nationality-sex\", \"age\"\n",
    "    \"exclude_subgroups\": \"drop-non-german\", # \"keep-all\", \"drop-non-german\"\n",
    "    \"eval_fairness_grouping\": [\"majority-minority\", \"nationality-all\"]\n",
    "}\n",
    "\n",
    "output_dir=\"./output\"\n",
    "seed=0"
   ]
  },
  {
   "cell_type": "code",
   "execution_count": 4,
   "id": "7d8027fc",
   "metadata": {
    "execution": {
     "iopub.execute_input": "2025-08-19T18:29:36.862202Z",
     "iopub.status.busy": "2025-08-19T18:29:36.860207Z",
     "iopub.status.idle": "2025-08-19T18:29:36.868540Z",
     "shell.execute_reply": "2025-08-19T18:29:36.867241Z"
    },
    "papermill": {
     "duration": 0.020399,
     "end_time": "2025-08-19T18:29:36.870316",
     "exception": false,
     "start_time": "2025-08-19T18:29:36.849917",
     "status": "completed"
    },
    "tags": [
     "injected-parameters"
    ]
   },
   "outputs": [],
   "source": [
    "# Parameters\n",
    "universe_id = \"2f3fa3502cc024b67f76376a81dc38f0\"\n",
    "run_no = \"3\"\n",
    "universe = \"{\\\"cutoff\\\": [\\\"quantile_0.1\\\", \\\"quantile_0.25\\\"], \\\"eval_fairness_grouping\\\": [\\\"majority-minority\\\", \\\"nationality-all\\\"], \\\"exclude_features\\\": \\\"sex\\\", \\\"exclude_subgroups\\\": \\\"keep-all\\\", \\\"model\\\": \\\"gbm\\\", \\\"scale\\\": \\\"do-not-scale\\\", \\\"training_size\\\": \\\"5k\\\", \\\"training_year\\\": \\\"2014\\\"}\"\n",
    "output_dir = \"output\"\n",
    "seed = \"2023\"\n"
   ]
  },
  {
   "cell_type": "code",
   "execution_count": 5,
   "id": "a5d7941f",
   "metadata": {
    "execution": {
     "iopub.execute_input": "2025-08-19T18:29:36.892838Z",
     "iopub.status.busy": "2025-08-19T18:29:36.891801Z",
     "iopub.status.idle": "2025-08-19T18:29:36.898532Z",
     "shell.execute_reply": "2025-08-19T18:29:36.897292Z"
    },
    "papermill": {
     "duration": 0.018312,
     "end_time": "2025-08-19T18:29:36.899936",
     "exception": false,
     "start_time": "2025-08-19T18:29:36.881624",
     "status": "completed"
    },
    "tags": []
   },
   "outputs": [],
   "source": [
    "import json\n",
    "if isinstance(universe, str):\n",
    "    universe = json.loads(universe)"
   ]
  },
  {
   "cell_type": "code",
   "execution_count": 6,
   "id": "7076ccb1",
   "metadata": {
    "execution": {
     "iopub.execute_input": "2025-08-19T18:29:36.920746Z",
     "iopub.status.busy": "2025-08-19T18:29:36.919827Z",
     "iopub.status.idle": "2025-08-19T18:29:36.970518Z",
     "shell.execute_reply": "2025-08-19T18:29:36.969581Z"
    },
    "papermill": {
     "duration": 0.064372,
     "end_time": "2025-08-19T18:29:36.973860",
     "exception": false,
     "start_time": "2025-08-19T18:29:36.909488",
     "status": "completed"
    },
    "tags": []
   },
   "outputs": [],
   "source": [
    "# Auto-reload the custom package\n",
    "%load_ext autoreload\n",
    "%autoreload 1\n",
    "%aimport fairness_multiverse"
   ]
  },
  {
   "cell_type": "code",
   "execution_count": 7,
   "id": "94c8eb93",
   "metadata": {
    "execution": {
     "iopub.execute_input": "2025-08-19T18:29:37.007514Z",
     "iopub.status.busy": "2025-08-19T18:29:37.006569Z",
     "iopub.status.idle": "2025-08-19T18:29:38.460062Z",
     "shell.execute_reply": "2025-08-19T18:29:38.458724Z"
    },
    "papermill": {
     "duration": 1.470275,
     "end_time": "2025-08-19T18:29:38.464068",
     "exception": false,
     "start_time": "2025-08-19T18:29:36.993793",
     "status": "completed"
    },
    "tags": []
   },
   "outputs": [],
   "source": [
    "from fairness_multiverse.universe import UniverseAnalysis\n",
    "\n",
    "universe_analysis = UniverseAnalysis(\n",
    "    run_no = run_no,\n",
    "    universe_id = universe_id,\n",
    "    universe = universe,\n",
    "    output_dir=output_dir,\n",
    ")"
   ]
  },
  {
   "cell_type": "code",
   "execution_count": 8,
   "id": "2a6381cf",
   "metadata": {
    "execution": {
     "iopub.execute_input": "2025-08-19T18:29:38.501049Z",
     "iopub.status.busy": "2025-08-19T18:29:38.500004Z",
     "iopub.status.idle": "2025-08-19T18:29:38.510434Z",
     "shell.execute_reply": "2025-08-19T18:29:38.509076Z"
    },
    "papermill": {
     "duration": 0.025972,
     "end_time": "2025-08-19T18:29:38.511994",
     "exception": false,
     "start_time": "2025-08-19T18:29:38.486022",
     "status": "completed"
    },
    "tags": []
   },
   "outputs": [
    {
     "name": "stdout",
     "output_type": "stream",
     "text": [
      "Using Seed: 2023\n"
     ]
    }
   ],
   "source": [
    "import numpy as np\n",
    "parsed_seed = int(seed)\n",
    "np.random.seed(parsed_seed)\n",
    "print(f\"Using Seed: {parsed_seed}\")"
   ]
  },
  {
   "cell_type": "markdown",
   "id": "b6e958b4",
   "metadata": {
    "papermill": {
     "duration": 0.008985,
     "end_time": "2025-08-19T18:29:38.531277",
     "exception": false,
     "start_time": "2025-08-19T18:29:38.522292",
     "status": "completed"
    },
    "tags": []
   },
   "source": [
    "# Loading Data"
   ]
  },
  {
   "cell_type": "code",
   "execution_count": 9,
   "id": "98701482",
   "metadata": {
    "execution": {
     "iopub.execute_input": "2025-08-19T18:29:38.551698Z",
     "iopub.status.busy": "2025-08-19T18:29:38.550635Z",
     "iopub.status.idle": "2025-08-19T18:29:49.282536Z",
     "shell.execute_reply": "2025-08-19T18:29:49.281573Z"
    },
    "papermill": {
     "duration": 10.743969,
     "end_time": "2025-08-19T18:29:49.284155",
     "exception": false,
     "start_time": "2025-08-19T18:29:38.540186",
     "status": "completed"
    },
    "tags": []
   },
   "outputs": [
    {
     "name": "stdout",
     "output_type": "stream",
     "text": [
      "Loading SIAB data from cache: data/siab_cached.csv.gz\n"
     ]
    },
    {
     "name": "stdout",
     "output_type": "stream",
     "text": [
      "(643690, 164)\n"
     ]
    }
   ],
   "source": [
    "from pathlib import Path\n",
    "import pandas as pd\n",
    "\n",
    "# File paths\n",
    "raw_file = Path(\"data/raw/siab.csv\")\n",
    "cache_file = Path(\"data/siab_cached.csv.gz\")\n",
    "\n",
    "# Ensure cache directory exists\n",
    "cache_file.parent.mkdir(parents=True, exist_ok=True)\n",
    "\n",
    "# Load with simple caching\n",
    "if cache_file.exists():\n",
    "    print(f\"Loading SIAB data from cache: {cache_file}\")\n",
    "    siab = pd.read_csv(cache_file, compression='gzip')\n",
    "else:\n",
    "    print(f\"Cache not found. Reading raw SIAB data: {raw_file}\")\n",
    "    siab = pd.read_csv(raw_file)\n",
    "    siab.to_csv(cache_file, index=False, compression='gzip')\n",
    "    print(f\"Cached SIAB data to: {cache_file}\")\n",
    "\n",
    "print(siab.shape)"
   ]
  },
  {
   "cell_type": "code",
   "execution_count": 10,
   "id": "058d2abb",
   "metadata": {
    "execution": {
     "iopub.execute_input": "2025-08-19T18:29:49.312966Z",
     "iopub.status.busy": "2025-08-19T18:29:49.311356Z",
     "iopub.status.idle": "2025-08-19T18:29:49.542474Z",
     "shell.execute_reply": "2025-08-19T18:29:49.540647Z"
    },
    "papermill": {
     "duration": 0.247501,
     "end_time": "2025-08-19T18:29:49.544579",
     "exception": false,
     "start_time": "2025-08-19T18:29:49.297078",
     "status": "completed"
    },
    "tags": []
   },
   "outputs": [
    {
     "data": {
      "text/html": [
       "<div>\n",
       "<style scoped>\n",
       "    .dataframe tbody tr th:only-of-type {\n",
       "        vertical-align: middle;\n",
       "    }\n",
       "\n",
       "    .dataframe tbody tr th {\n",
       "        vertical-align: top;\n",
       "    }\n",
       "\n",
       "    .dataframe thead th {\n",
       "        text-align: right;\n",
       "    }\n",
       "</style>\n",
       "<table border=\"1\" class=\"dataframe\">\n",
       "  <thead>\n",
       "    <tr style=\"text-align: right;\">\n",
       "      <th></th>\n",
       "      <th>persnr</th>\n",
       "      <th>year</th>\n",
       "      <th>nrEntry</th>\n",
       "      <th>ltue</th>\n",
       "      <th>employed_before</th>\n",
       "      <th>receipt_leh_before</th>\n",
       "      <th>receipt_lhg_before</th>\n",
       "      <th>se_before</th>\n",
       "      <th>ASU_notue_seeking_before</th>\n",
       "      <th>ASU_other_before</th>\n",
       "      <th>...</th>\n",
       "      <th>minijob_tot_dur_byage</th>\n",
       "      <th>ft_tot_dur_byage</th>\n",
       "      <th>befrist_tot_dur_byage</th>\n",
       "      <th>leih_tot_dur_byage</th>\n",
       "      <th>LHG_tot_dur_byage</th>\n",
       "      <th>LEH_tot_dur_byage</th>\n",
       "      <th>almp_tot_dur_byage</th>\n",
       "      <th>almp_aw_tot_dur_byage</th>\n",
       "      <th>se_tot_dur_byage</th>\n",
       "      <th>seeking1_tot_dur_byage</th>\n",
       "    </tr>\n",
       "  </thead>\n",
       "  <tbody>\n",
       "    <tr>\n",
       "      <th>0</th>\n",
       "      <td>7</td>\n",
       "      <td>2015</td>\n",
       "      <td>1</td>\n",
       "      <td>0</td>\n",
       "      <td>1</td>\n",
       "      <td>0</td>\n",
       "      <td>0</td>\n",
       "      <td>0</td>\n",
       "      <td>1</td>\n",
       "      <td>0</td>\n",
       "      <td>...</td>\n",
       "      <td>0.000000</td>\n",
       "      <td>0.000000</td>\n",
       "      <td>15.043478</td>\n",
       "      <td>0.000000</td>\n",
       "      <td>0.000000</td>\n",
       "      <td>0.000000</td>\n",
       "      <td>0.000000</td>\n",
       "      <td>0.000000</td>\n",
       "      <td>0.000000</td>\n",
       "      <td>0.000000</td>\n",
       "    </tr>\n",
       "    <tr>\n",
       "      <th>1</th>\n",
       "      <td>18</td>\n",
       "      <td>2010</td>\n",
       "      <td>1</td>\n",
       "      <td>1</td>\n",
       "      <td>0</td>\n",
       "      <td>0</td>\n",
       "      <td>0</td>\n",
       "      <td>0</td>\n",
       "      <td>0</td>\n",
       "      <td>0</td>\n",
       "      <td>...</td>\n",
       "      <td>0.000000</td>\n",
       "      <td>0.000000</td>\n",
       "      <td>0.000000</td>\n",
       "      <td>0.000000</td>\n",
       "      <td>0.000000</td>\n",
       "      <td>0.000000</td>\n",
       "      <td>0.000000</td>\n",
       "      <td>0.000000</td>\n",
       "      <td>0.000000</td>\n",
       "      <td>0.000000</td>\n",
       "    </tr>\n",
       "    <tr>\n",
       "      <th>2</th>\n",
       "      <td>18</td>\n",
       "      <td>2011</td>\n",
       "      <td>2</td>\n",
       "      <td>0</td>\n",
       "      <td>1</td>\n",
       "      <td>0</td>\n",
       "      <td>1</td>\n",
       "      <td>0</td>\n",
       "      <td>1</td>\n",
       "      <td>0</td>\n",
       "      <td>...</td>\n",
       "      <td>2.714286</td>\n",
       "      <td>2.714286</td>\n",
       "      <td>0.000000</td>\n",
       "      <td>0.000000</td>\n",
       "      <td>10.775510</td>\n",
       "      <td>0.000000</td>\n",
       "      <td>8.367347</td>\n",
       "      <td>0.000000</td>\n",
       "      <td>0.000000</td>\n",
       "      <td>9.836735</td>\n",
       "    </tr>\n",
       "    <tr>\n",
       "      <th>3</th>\n",
       "      <td>18</td>\n",
       "      <td>2012</td>\n",
       "      <td>3</td>\n",
       "      <td>0</td>\n",
       "      <td>1</td>\n",
       "      <td>0</td>\n",
       "      <td>1</td>\n",
       "      <td>0</td>\n",
       "      <td>1</td>\n",
       "      <td>0</td>\n",
       "      <td>...</td>\n",
       "      <td>4.200000</td>\n",
       "      <td>4.200000</td>\n",
       "      <td>0.000000</td>\n",
       "      <td>0.000000</td>\n",
       "      <td>12.100000</td>\n",
       "      <td>0.000000</td>\n",
       "      <td>9.400000</td>\n",
       "      <td>0.000000</td>\n",
       "      <td>0.000000</td>\n",
       "      <td>9.960000</td>\n",
       "    </tr>\n",
       "    <tr>\n",
       "      <th>4</th>\n",
       "      <td>18</td>\n",
       "      <td>2012</td>\n",
       "      <td>4</td>\n",
       "      <td>0</td>\n",
       "      <td>1</td>\n",
       "      <td>0</td>\n",
       "      <td>1</td>\n",
       "      <td>0</td>\n",
       "      <td>1</td>\n",
       "      <td>0</td>\n",
       "      <td>...</td>\n",
       "      <td>5.460000</td>\n",
       "      <td>5.460000</td>\n",
       "      <td>0.000000</td>\n",
       "      <td>0.000000</td>\n",
       "      <td>13.360000</td>\n",
       "      <td>0.000000</td>\n",
       "      <td>10.320000</td>\n",
       "      <td>0.000000</td>\n",
       "      <td>0.000000</td>\n",
       "      <td>10.280000</td>\n",
       "    </tr>\n",
       "    <tr>\n",
       "      <th>...</th>\n",
       "      <td>...</td>\n",
       "      <td>...</td>\n",
       "      <td>...</td>\n",
       "      <td>...</td>\n",
       "      <td>...</td>\n",
       "      <td>...</td>\n",
       "      <td>...</td>\n",
       "      <td>...</td>\n",
       "      <td>...</td>\n",
       "      <td>...</td>\n",
       "      <td>...</td>\n",
       "      <td>...</td>\n",
       "      <td>...</td>\n",
       "      <td>...</td>\n",
       "      <td>...</td>\n",
       "      <td>...</td>\n",
       "      <td>...</td>\n",
       "      <td>...</td>\n",
       "      <td>...</td>\n",
       "      <td>...</td>\n",
       "      <td>...</td>\n",
       "    </tr>\n",
       "    <tr>\n",
       "      <th>643685</th>\n",
       "      <td>1827860</td>\n",
       "      <td>2013</td>\n",
       "      <td>1</td>\n",
       "      <td>0</td>\n",
       "      <td>0</td>\n",
       "      <td>0</td>\n",
       "      <td>1</td>\n",
       "      <td>0</td>\n",
       "      <td>0</td>\n",
       "      <td>1</td>\n",
       "      <td>...</td>\n",
       "      <td>0.000000</td>\n",
       "      <td>0.000000</td>\n",
       "      <td>0.000000</td>\n",
       "      <td>0.000000</td>\n",
       "      <td>0.612903</td>\n",
       "      <td>0.000000</td>\n",
       "      <td>0.000000</td>\n",
       "      <td>0.000000</td>\n",
       "      <td>0.000000</td>\n",
       "      <td>0.000000</td>\n",
       "    </tr>\n",
       "    <tr>\n",
       "      <th>643686</th>\n",
       "      <td>1827860</td>\n",
       "      <td>2015</td>\n",
       "      <td>2</td>\n",
       "      <td>1</td>\n",
       "      <td>0</td>\n",
       "      <td>0</td>\n",
       "      <td>1</td>\n",
       "      <td>0</td>\n",
       "      <td>1</td>\n",
       "      <td>0</td>\n",
       "      <td>...</td>\n",
       "      <td>0.000000</td>\n",
       "      <td>0.000000</td>\n",
       "      <td>0.212121</td>\n",
       "      <td>0.212121</td>\n",
       "      <td>17.363636</td>\n",
       "      <td>0.000000</td>\n",
       "      <td>8.909091</td>\n",
       "      <td>0.000000</td>\n",
       "      <td>0.000000</td>\n",
       "      <td>7.121212</td>\n",
       "    </tr>\n",
       "    <tr>\n",
       "      <th>643687</th>\n",
       "      <td>1827860</td>\n",
       "      <td>2016</td>\n",
       "      <td>3</td>\n",
       "      <td>1</td>\n",
       "      <td>0</td>\n",
       "      <td>0</td>\n",
       "      <td>1</td>\n",
       "      <td>1</td>\n",
       "      <td>0</td>\n",
       "      <td>1</td>\n",
       "      <td>...</td>\n",
       "      <td>0.000000</td>\n",
       "      <td>0.000000</td>\n",
       "      <td>0.294118</td>\n",
       "      <td>0.205882</td>\n",
       "      <td>34.705882</td>\n",
       "      <td>0.000000</td>\n",
       "      <td>10.352941</td>\n",
       "      <td>1.705882</td>\n",
       "      <td>1.705882</td>\n",
       "      <td>23.911765</td>\n",
       "    </tr>\n",
       "    <tr>\n",
       "      <th>643688</th>\n",
       "      <td>1827869</td>\n",
       "      <td>2013</td>\n",
       "      <td>1</td>\n",
       "      <td>1</td>\n",
       "      <td>1</td>\n",
       "      <td>0</td>\n",
       "      <td>0</td>\n",
       "      <td>0</td>\n",
       "      <td>1</td>\n",
       "      <td>0</td>\n",
       "      <td>...</td>\n",
       "      <td>0.000000</td>\n",
       "      <td>0.000000</td>\n",
       "      <td>0.000000</td>\n",
       "      <td>0.000000</td>\n",
       "      <td>0.000000</td>\n",
       "      <td>0.525424</td>\n",
       "      <td>0.000000</td>\n",
       "      <td>0.000000</td>\n",
       "      <td>0.000000</td>\n",
       "      <td>0.000000</td>\n",
       "    </tr>\n",
       "    <tr>\n",
       "      <th>643689</th>\n",
       "      <td>1827869</td>\n",
       "      <td>2014</td>\n",
       "      <td>2</td>\n",
       "      <td>0</td>\n",
       "      <td>0</td>\n",
       "      <td>1</td>\n",
       "      <td>0</td>\n",
       "      <td>0</td>\n",
       "      <td>1</td>\n",
       "      <td>0</td>\n",
       "      <td>...</td>\n",
       "      <td>0.000000</td>\n",
       "      <td>0.666667</td>\n",
       "      <td>0.666667</td>\n",
       "      <td>0.000000</td>\n",
       "      <td>0.000000</td>\n",
       "      <td>8.950000</td>\n",
       "      <td>1.033333</td>\n",
       "      <td>0.083333</td>\n",
       "      <td>0.083333</td>\n",
       "      <td>8.133333</td>\n",
       "    </tr>\n",
       "  </tbody>\n",
       "</table>\n",
       "<p>643690 rows × 164 columns</p>\n",
       "</div>"
      ],
      "text/plain": [
       "         persnr  year  nrEntry  ltue  employed_before  receipt_leh_before  \\\n",
       "0             7  2015        1     0                1                   0   \n",
       "1            18  2010        1     1                0                   0   \n",
       "2            18  2011        2     0                1                   0   \n",
       "3            18  2012        3     0                1                   0   \n",
       "4            18  2012        4     0                1                   0   \n",
       "...         ...   ...      ...   ...              ...                 ...   \n",
       "643685  1827860  2013        1     0                0                   0   \n",
       "643686  1827860  2015        2     1                0                   0   \n",
       "643687  1827860  2016        3     1                0                   0   \n",
       "643688  1827869  2013        1     1                1                   0   \n",
       "643689  1827869  2014        2     0                0                   1   \n",
       "\n",
       "        receipt_lhg_before  se_before  ASU_notue_seeking_before  \\\n",
       "0                        0          0                         1   \n",
       "1                        0          0                         0   \n",
       "2                        1          0                         1   \n",
       "3                        1          0                         1   \n",
       "4                        1          0                         1   \n",
       "...                    ...        ...                       ...   \n",
       "643685                   1          0                         0   \n",
       "643686                   1          0                         1   \n",
       "643687                   1          1                         0   \n",
       "643688                   0          0                         1   \n",
       "643689                   0          0                         1   \n",
       "\n",
       "        ASU_other_before  ...  minijob_tot_dur_byage  ft_tot_dur_byage  \\\n",
       "0                      0  ...               0.000000          0.000000   \n",
       "1                      0  ...               0.000000          0.000000   \n",
       "2                      0  ...               2.714286          2.714286   \n",
       "3                      0  ...               4.200000          4.200000   \n",
       "4                      0  ...               5.460000          5.460000   \n",
       "...                  ...  ...                    ...               ...   \n",
       "643685                 1  ...               0.000000          0.000000   \n",
       "643686                 0  ...               0.000000          0.000000   \n",
       "643687                 1  ...               0.000000          0.000000   \n",
       "643688                 0  ...               0.000000          0.000000   \n",
       "643689                 0  ...               0.000000          0.666667   \n",
       "\n",
       "        befrist_tot_dur_byage  leih_tot_dur_byage  LHG_tot_dur_byage  \\\n",
       "0                   15.043478            0.000000           0.000000   \n",
       "1                    0.000000            0.000000           0.000000   \n",
       "2                    0.000000            0.000000          10.775510   \n",
       "3                    0.000000            0.000000          12.100000   \n",
       "4                    0.000000            0.000000          13.360000   \n",
       "...                       ...                 ...                ...   \n",
       "643685               0.000000            0.000000           0.612903   \n",
       "643686               0.212121            0.212121          17.363636   \n",
       "643687               0.294118            0.205882          34.705882   \n",
       "643688               0.000000            0.000000           0.000000   \n",
       "643689               0.666667            0.000000           0.000000   \n",
       "\n",
       "        LEH_tot_dur_byage  almp_tot_dur_byage  almp_aw_tot_dur_byage  \\\n",
       "0                0.000000            0.000000               0.000000   \n",
       "1                0.000000            0.000000               0.000000   \n",
       "2                0.000000            8.367347               0.000000   \n",
       "3                0.000000            9.400000               0.000000   \n",
       "4                0.000000           10.320000               0.000000   \n",
       "...                   ...                 ...                    ...   \n",
       "643685           0.000000            0.000000               0.000000   \n",
       "643686           0.000000            8.909091               0.000000   \n",
       "643687           0.000000           10.352941               1.705882   \n",
       "643688           0.525424            0.000000               0.000000   \n",
       "643689           8.950000            1.033333               0.083333   \n",
       "\n",
       "        se_tot_dur_byage  seeking1_tot_dur_byage  \n",
       "0               0.000000                0.000000  \n",
       "1               0.000000                0.000000  \n",
       "2               0.000000                9.836735  \n",
       "3               0.000000                9.960000  \n",
       "4               0.000000               10.280000  \n",
       "...                  ...                     ...  \n",
       "643685          0.000000                0.000000  \n",
       "643686          0.000000                7.121212  \n",
       "643687          1.705882               23.911765  \n",
       "643688          0.000000                0.000000  \n",
       "643689          0.083333                8.133333  \n",
       "\n",
       "[643690 rows x 164 columns]"
      ]
     },
     "execution_count": 10,
     "metadata": {},
     "output_type": "execute_result"
    }
   ],
   "source": [
    "siab"
   ]
  },
  {
   "cell_type": "markdown",
   "id": "1f87e805",
   "metadata": {
    "papermill": {
     "duration": 0.009603,
     "end_time": "2025-08-19T18:29:49.564326",
     "exception": false,
     "start_time": "2025-08-19T18:29:49.554723",
     "status": "completed"
    },
    "tags": []
   },
   "source": [
    "# Splitting Data and Setting Training Data Size"
   ]
  },
  {
   "cell_type": "code",
   "execution_count": 11,
   "id": "910ae358",
   "metadata": {
    "execution": {
     "iopub.execute_input": "2025-08-19T18:29:49.587624Z",
     "iopub.status.busy": "2025-08-19T18:29:49.586568Z",
     "iopub.status.idle": "2025-08-19T18:29:49.844652Z",
     "shell.execute_reply": "2025-08-19T18:29:49.843902Z"
    },
    "papermill": {
     "duration": 0.276126,
     "end_time": "2025-08-19T18:29:49.850901",
     "exception": false,
     "start_time": "2025-08-19T18:29:49.574775",
     "status": "completed"
    },
    "tags": []
   },
   "outputs": [],
   "source": [
    "from fairness_multiverse.universe import sample_by_year_size\n",
    "\n",
    "siab_train = sample_by_year_size(siab,\n",
    "                               training_year=universe[\"training_year\"],\n",
    "                               training_size=universe[\"training_size\"])"
   ]
  },
  {
   "cell_type": "code",
   "execution_count": 12,
   "id": "919c8ff5",
   "metadata": {
    "execution": {
     "iopub.execute_input": "2025-08-19T18:29:49.881389Z",
     "iopub.status.busy": "2025-08-19T18:29:49.881088Z",
     "iopub.status.idle": "2025-08-19T18:29:49.886726Z",
     "shell.execute_reply": "2025-08-19T18:29:49.886121Z"
    },
    "papermill": {
     "duration": 0.021789,
     "end_time": "2025-08-19T18:29:49.890572",
     "exception": false,
     "start_time": "2025-08-19T18:29:49.868783",
     "status": "completed"
    },
    "tags": []
   },
   "outputs": [
    {
     "data": {
      "text/plain": [
       "(5000, 164)"
      ]
     },
     "execution_count": 12,
     "metadata": {},
     "output_type": "execute_result"
    }
   ],
   "source": [
    "siab_train.shape"
   ]
  },
  {
   "cell_type": "code",
   "execution_count": 13,
   "id": "feb13bf4",
   "metadata": {
    "execution": {
     "iopub.execute_input": "2025-08-19T18:29:49.944499Z",
     "iopub.status.busy": "2025-08-19T18:29:49.944172Z",
     "iopub.status.idle": "2025-08-19T18:29:49.951753Z",
     "shell.execute_reply": "2025-08-19T18:29:49.951012Z"
    },
    "papermill": {
     "duration": 0.03972,
     "end_time": "2025-08-19T18:29:49.952987",
     "exception": false,
     "start_time": "2025-08-19T18:29:49.913267",
     "status": "completed"
    },
    "tags": []
   },
   "outputs": [
    {
     "data": {
      "text/plain": [
       "year\n",
       "2014    5000\n",
       "dtype: int64"
      ]
     },
     "metadata": {},
     "output_type": "display_data"
    }
   ],
   "source": [
    "display(siab_train.groupby(\"year\").size())"
   ]
  },
  {
   "cell_type": "code",
   "execution_count": 14,
   "id": "0997782f",
   "metadata": {
    "execution": {
     "iopub.execute_input": "2025-08-19T18:29:49.983153Z",
     "iopub.status.busy": "2025-08-19T18:29:49.982378Z",
     "iopub.status.idle": "2025-08-19T18:29:50.247068Z",
     "shell.execute_reply": "2025-08-19T18:29:50.246253Z"
    },
    "papermill": {
     "duration": 0.286257,
     "end_time": "2025-08-19T18:29:50.250045",
     "exception": false,
     "start_time": "2025-08-19T18:29:49.963788",
     "status": "completed"
    },
    "tags": []
   },
   "outputs": [],
   "source": [
    "#siab_train = siab_s[siab_s.year < 2015]\n",
    "siab_calib = siab[siab.year == 2015]\n",
    "siab_test = siab[siab.year == 2016]"
   ]
  },
  {
   "cell_type": "code",
   "execution_count": 15,
   "id": "2c1e4012",
   "metadata": {
    "execution": {
     "iopub.execute_input": "2025-08-19T18:29:50.271989Z",
     "iopub.status.busy": "2025-08-19T18:29:50.271591Z",
     "iopub.status.idle": "2025-08-19T18:29:50.275734Z",
     "shell.execute_reply": "2025-08-19T18:29:50.275043Z"
    },
    "papermill": {
     "duration": 0.01862,
     "end_time": "2025-08-19T18:29:50.279203",
     "exception": false,
     "start_time": "2025-08-19T18:29:50.260583",
     "status": "completed"
    },
    "tags": []
   },
   "outputs": [],
   "source": [
    "#siab_calib.shape"
   ]
  },
  {
   "cell_type": "code",
   "execution_count": 16,
   "id": "f66b54ca",
   "metadata": {
    "execution": {
     "iopub.execute_input": "2025-08-19T18:29:50.320725Z",
     "iopub.status.busy": "2025-08-19T18:29:50.320254Z",
     "iopub.status.idle": "2025-08-19T18:29:50.324467Z",
     "shell.execute_reply": "2025-08-19T18:29:50.323806Z"
    },
    "papermill": {
     "duration": 0.023675,
     "end_time": "2025-08-19T18:29:50.325961",
     "exception": false,
     "start_time": "2025-08-19T18:29:50.302286",
     "status": "completed"
    },
    "tags": []
   },
   "outputs": [],
   "source": [
    "#siab_test.shape"
   ]
  },
  {
   "cell_type": "code",
   "execution_count": 17,
   "id": "27e4384d",
   "metadata": {
    "execution": {
     "iopub.execute_input": "2025-08-19T18:29:50.348242Z",
     "iopub.status.busy": "2025-08-19T18:29:50.347822Z",
     "iopub.status.idle": "2025-08-19T18:29:50.362335Z",
     "shell.execute_reply": "2025-08-19T18:29:50.361380Z"
    },
    "papermill": {
     "duration": 0.02904,
     "end_time": "2025-08-19T18:29:50.365226",
     "exception": false,
     "start_time": "2025-08-19T18:29:50.336186",
     "status": "completed"
    },
    "tags": []
   },
   "outputs": [],
   "source": [
    "X_train = siab_train.iloc[:,4:164]\n",
    "y_train = siab_train.iloc[:, [3]]"
   ]
  },
  {
   "cell_type": "code",
   "execution_count": 18,
   "id": "08ee8389",
   "metadata": {
    "execution": {
     "iopub.execute_input": "2025-08-19T18:29:50.406000Z",
     "iopub.status.busy": "2025-08-19T18:29:50.405624Z",
     "iopub.status.idle": "2025-08-19T18:29:50.458551Z",
     "shell.execute_reply": "2025-08-19T18:29:50.457504Z"
    },
    "papermill": {
     "duration": 0.070333,
     "end_time": "2025-08-19T18:29:50.460167",
     "exception": false,
     "start_time": "2025-08-19T18:29:50.389834",
     "status": "completed"
    },
    "tags": []
   },
   "outputs": [],
   "source": [
    "X_calib = siab_calib.iloc[:,4:164]\n",
    "y_calib = siab_calib.iloc[:, [3]]"
   ]
  },
  {
   "cell_type": "code",
   "execution_count": 19,
   "id": "b7ff42e0",
   "metadata": {
    "execution": {
     "iopub.execute_input": "2025-08-19T18:29:50.497272Z",
     "iopub.status.busy": "2025-08-19T18:29:50.496871Z",
     "iopub.status.idle": "2025-08-19T18:29:50.555916Z",
     "shell.execute_reply": "2025-08-19T18:29:50.554834Z"
    },
    "papermill": {
     "duration": 0.086397,
     "end_time": "2025-08-19T18:29:50.557325",
     "exception": false,
     "start_time": "2025-08-19T18:29:50.470928",
     "status": "completed"
    },
    "tags": []
   },
   "outputs": [],
   "source": [
    "X_test = siab_test.iloc[:,4:164]\n",
    "y_true = siab_test.iloc[:, [3]]"
   ]
  },
  {
   "cell_type": "code",
   "execution_count": 20,
   "id": "0275101e",
   "metadata": {
    "execution": {
     "iopub.execute_input": "2025-08-19T18:29:50.581770Z",
     "iopub.status.busy": "2025-08-19T18:29:50.581483Z",
     "iopub.status.idle": "2025-08-19T18:29:50.703427Z",
     "shell.execute_reply": "2025-08-19T18:29:50.702247Z"
    },
    "papermill": {
     "duration": 0.135437,
     "end_time": "2025-08-19T18:29:50.704990",
     "exception": false,
     "start_time": "2025-08-19T18:29:50.569553",
     "status": "completed"
    },
    "tags": []
   },
   "outputs": [],
   "source": [
    "# Auxiliary data needed downstream in the pipeline\n",
    "\n",
    "org_train = X_train.copy()\n",
    "org_test = X_test.copy()\n",
    "org_calib = X_calib.copy()"
   ]
  },
  {
   "cell_type": "markdown",
   "id": "b461e618",
   "metadata": {
    "papermill": {
     "duration": 0.010989,
     "end_time": "2025-08-19T18:29:50.726497",
     "exception": false,
     "start_time": "2025-08-19T18:29:50.715508",
     "status": "completed"
    },
    "tags": []
   },
   "source": [
    "# Preprocessing Data"
   ]
  },
  {
   "cell_type": "code",
   "execution_count": 21,
   "id": "78e74c4b",
   "metadata": {
    "execution": {
     "iopub.execute_input": "2025-08-19T18:29:50.749721Z",
     "iopub.status.busy": "2025-08-19T18:29:50.748176Z",
     "iopub.status.idle": "2025-08-19T18:29:50.758170Z",
     "shell.execute_reply": "2025-08-19T18:29:50.756987Z"
    },
    "papermill": {
     "duration": 0.023126,
     "end_time": "2025-08-19T18:29:50.759693",
     "exception": false,
     "start_time": "2025-08-19T18:29:50.736567",
     "status": "completed"
    },
    "tags": []
   },
   "outputs": [],
   "source": [
    "# EXCLUDE PROTECTED FEATURES\n",
    "# --------------------------\n",
    "\n",
    "excluded_features = universe[\"exclude_features\"].split(\"-\")\n",
    "excluded_features_dictionary = {\n",
    "    \"nationality\": [\"maxdeutsch1\", \"maxdeutsch.Missing.\"],\n",
    "    \"sex\": [\"frau1\"],\n",
    "    \"age\": [\"age\"],\n",
    "}"
   ]
  },
  {
   "cell_type": "code",
   "execution_count": 22,
   "id": "f8e63555",
   "metadata": {
    "execution": {
     "iopub.execute_input": "2025-08-19T18:29:50.786455Z",
     "iopub.status.busy": "2025-08-19T18:29:50.785018Z",
     "iopub.status.idle": "2025-08-19T18:29:50.805629Z",
     "shell.execute_reply": "2025-08-19T18:29:50.804524Z"
    },
    "papermill": {
     "duration": 0.034778,
     "end_time": "2025-08-19T18:29:50.807440",
     "exception": false,
     "start_time": "2025-08-19T18:29:50.772662",
     "status": "completed"
    },
    "tags": []
   },
   "outputs": [],
   "source": [
    "excluded_features_columns = [\n",
    "    excluded_features_dictionary[f] for f in excluded_features if len(f) > 0 and f != \"none\"\n",
    "]"
   ]
  },
  {
   "cell_type": "code",
   "execution_count": 23,
   "id": "da781f7c",
   "metadata": {
    "execution": {
     "iopub.execute_input": "2025-08-19T18:29:50.848897Z",
     "iopub.status.busy": "2025-08-19T18:29:50.847845Z",
     "iopub.status.idle": "2025-08-19T18:29:50.853699Z",
     "shell.execute_reply": "2025-08-19T18:29:50.852697Z"
    },
    "papermill": {
     "duration": 0.032509,
     "end_time": "2025-08-19T18:29:50.856201",
     "exception": false,
     "start_time": "2025-08-19T18:29:50.823692",
     "status": "completed"
    },
    "tags": []
   },
   "outputs": [],
   "source": [
    "from fairness_multiverse.universe import flatten_once\n",
    "\n",
    "excluded_features_columns = flatten_once(excluded_features_columns)"
   ]
  },
  {
   "cell_type": "code",
   "execution_count": 24,
   "id": "37fef0f0",
   "metadata": {
    "execution": {
     "iopub.execute_input": "2025-08-19T18:29:50.880500Z",
     "iopub.status.busy": "2025-08-19T18:29:50.880083Z",
     "iopub.status.idle": "2025-08-19T18:29:50.896848Z",
     "shell.execute_reply": "2025-08-19T18:29:50.895241Z"
    },
    "papermill": {
     "duration": 0.029782,
     "end_time": "2025-08-19T18:29:50.898546",
     "exception": false,
     "start_time": "2025-08-19T18:29:50.868764",
     "status": "completed"
    },
    "tags": []
   },
   "outputs": [
    {
     "name": "stdout",
     "output_type": "stream",
     "text": [
      "Dropping features: ['frau1']\n"
     ]
    }
   ],
   "source": [
    "if len(excluded_features_columns) > 0:\n",
    "    print(f\"Dropping features: {excluded_features_columns}\")\n",
    "    X_train.drop(excluded_features_columns, axis=1, inplace=True)"
   ]
  },
  {
   "cell_type": "code",
   "execution_count": 25,
   "id": "d029e3e9",
   "metadata": {
    "execution": {
     "iopub.execute_input": "2025-08-19T18:29:50.922734Z",
     "iopub.status.busy": "2025-08-19T18:29:50.921454Z",
     "iopub.status.idle": "2025-08-19T18:29:50.982578Z",
     "shell.execute_reply": "2025-08-19T18:29:50.981779Z"
    },
    "papermill": {
     "duration": 0.074962,
     "end_time": "2025-08-19T18:29:50.984233",
     "exception": false,
     "start_time": "2025-08-19T18:29:50.909271",
     "status": "completed"
    },
    "tags": []
   },
   "outputs": [
    {
     "name": "stdout",
     "output_type": "stream",
     "text": [
      "Dropping features: ['frau1']\n"
     ]
    }
   ],
   "source": [
    "if len(excluded_features_columns) > 0:\n",
    "    print(f\"Dropping features: {excluded_features_columns}\")\n",
    "    X_test.drop(excluded_features_columns, axis=1, inplace=True)"
   ]
  },
  {
   "cell_type": "code",
   "execution_count": 26,
   "id": "01d571f0",
   "metadata": {
    "execution": {
     "iopub.execute_input": "2025-08-19T18:29:51.010198Z",
     "iopub.status.busy": "2025-08-19T18:29:51.008940Z",
     "iopub.status.idle": "2025-08-19T18:29:51.074842Z",
     "shell.execute_reply": "2025-08-19T18:29:51.074088Z"
    },
    "papermill": {
     "duration": 0.079746,
     "end_time": "2025-08-19T18:29:51.076274",
     "exception": false,
     "start_time": "2025-08-19T18:29:50.996528",
     "status": "completed"
    },
    "tags": []
   },
   "outputs": [
    {
     "name": "stdout",
     "output_type": "stream",
     "text": [
      "Dropping features: ['frau1']\n"
     ]
    }
   ],
   "source": [
    "if len(excluded_features_columns) > 0:\n",
    "    print(f\"Dropping features: {excluded_features_columns}\")\n",
    "    X_calib.drop(excluded_features_columns, axis=1, inplace=True)"
   ]
  },
  {
   "cell_type": "code",
   "execution_count": 27,
   "id": "3037356e",
   "metadata": {
    "execution": {
     "iopub.execute_input": "2025-08-19T18:29:51.100171Z",
     "iopub.status.busy": "2025-08-19T18:29:51.099411Z",
     "iopub.status.idle": "2025-08-19T18:29:51.104746Z",
     "shell.execute_reply": "2025-08-19T18:29:51.104064Z"
    },
    "papermill": {
     "duration": 0.0188,
     "end_time": "2025-08-19T18:29:51.106004",
     "exception": false,
     "start_time": "2025-08-19T18:29:51.087204",
     "status": "completed"
    },
    "tags": []
   },
   "outputs": [],
   "source": [
    "# EXCLUDE CERTAIN SUBGROUPS\n",
    "# -------------------------\n",
    "\n",
    "mode = universe.get(\"exclude_subgroups\", \"keep-all\") # Defaults to \"keep-all\" if the key is missing."
   ]
  },
  {
   "cell_type": "code",
   "execution_count": 28,
   "id": "9d1e63fd",
   "metadata": {
    "execution": {
     "iopub.execute_input": "2025-08-19T18:29:51.130210Z",
     "iopub.status.busy": "2025-08-19T18:29:51.129056Z",
     "iopub.status.idle": "2025-08-19T18:29:51.138887Z",
     "shell.execute_reply": "2025-08-19T18:29:51.138159Z"
    },
    "papermill": {
     "duration": 0.02355,
     "end_time": "2025-08-19T18:29:51.140157",
     "exception": false,
     "start_time": "2025-08-19T18:29:51.116607",
     "status": "completed"
    },
    "tags": []
   },
   "outputs": [],
   "source": [
    "if mode == \"keep-all\":\n",
    "    keep_mask = pd.Series(True, index=org_train.index)\n",
    "\n",
    "elif mode == \"drop-non-german\":\n",
    "    keep_mask = (org_train[\"maxdeutsch1\"] == 1) & (org_train[\"maxdeutsch.Missing.\"] == 0)\n",
    "\n",
    "else:\n",
    "    raise ValueError(f\"Unsupported mode for exclude_subgroups: {mode}\")"
   ]
  },
  {
   "cell_type": "code",
   "execution_count": 29,
   "id": "d3b65474",
   "metadata": {
    "execution": {
     "iopub.execute_input": "2025-08-19T18:29:51.164212Z",
     "iopub.status.busy": "2025-08-19T18:29:51.163847Z",
     "iopub.status.idle": "2025-08-19T18:29:51.169799Z",
     "shell.execute_reply": "2025-08-19T18:29:51.169046Z"
    },
    "papermill": {
     "duration": 0.018646,
     "end_time": "2025-08-19T18:29:51.171057",
     "exception": false,
     "start_time": "2025-08-19T18:29:51.152411",
     "status": "completed"
    },
    "tags": []
   },
   "outputs": [],
   "source": [
    "n_drop = (~keep_mask).sum() # Calculates how many rows are set to be dropped\n",
    "if n_drop > 0:\n",
    "    pct = n_drop / len(keep_mask) * 100\n",
    "    print(f\"Dropping {n_drop} rows ({pct:.2f}%) where mode='{mode}'\")"
   ]
  },
  {
   "cell_type": "code",
   "execution_count": 30,
   "id": "f44389b3",
   "metadata": {
    "execution": {
     "iopub.execute_input": "2025-08-19T18:29:51.193188Z",
     "iopub.status.busy": "2025-08-19T18:29:51.192872Z",
     "iopub.status.idle": "2025-08-19T18:29:51.199648Z",
     "shell.execute_reply": "2025-08-19T18:29:51.198934Z"
    },
    "papermill": {
     "duration": 0.019573,
     "end_time": "2025-08-19T18:29:51.201241",
     "exception": false,
     "start_time": "2025-08-19T18:29:51.181668",
     "status": "completed"
    },
    "tags": []
   },
   "outputs": [],
   "source": [
    "X_train = X_train[keep_mask]"
   ]
  },
  {
   "cell_type": "code",
   "execution_count": 31,
   "id": "ceca8c2a",
   "metadata": {
    "execution": {
     "iopub.execute_input": "2025-08-19T18:29:51.223108Z",
     "iopub.status.busy": "2025-08-19T18:29:51.222786Z",
     "iopub.status.idle": "2025-08-19T18:29:51.227428Z",
     "shell.execute_reply": "2025-08-19T18:29:51.226729Z"
    },
    "papermill": {
     "duration": 0.017171,
     "end_time": "2025-08-19T18:29:51.228815",
     "exception": false,
     "start_time": "2025-08-19T18:29:51.211644",
     "status": "completed"
    },
    "tags": []
   },
   "outputs": [],
   "source": [
    "y_train = y_train[keep_mask]"
   ]
  },
  {
   "cell_type": "markdown",
   "id": "04d31e2f",
   "metadata": {
    "papermill": {
     "duration": 0.010349,
     "end_time": "2025-08-19T18:29:51.249681",
     "exception": false,
     "start_time": "2025-08-19T18:29:51.239332",
     "status": "completed"
    },
    "tags": []
   },
   "source": [
    "# Model Training"
   ]
  },
  {
   "cell_type": "code",
   "execution_count": 32,
   "id": "db991733",
   "metadata": {
    "execution": {
     "iopub.execute_input": "2025-08-19T18:29:51.271874Z",
     "iopub.status.busy": "2025-08-19T18:29:51.271507Z",
     "iopub.status.idle": "2025-08-19T18:29:51.371581Z",
     "shell.execute_reply": "2025-08-19T18:29:51.370752Z"
    },
    "papermill": {
     "duration": 0.1133,
     "end_time": "2025-08-19T18:29:51.373339",
     "exception": false,
     "start_time": "2025-08-19T18:29:51.260039",
     "status": "completed"
    },
    "tags": []
   },
   "outputs": [],
   "source": [
    "from sklearn.linear_model import LogisticRegression\n",
    "from sklearn.ensemble import GradientBoostingClassifier, RandomForestClassifier\n",
    "\n",
    "if (universe[\"model\"] == \"logreg\"):\n",
    "    model = LogisticRegression() #penalty=\"none\", solver=\"newton-cg\", max_iter=1)\n",
    "elif (universe[\"model\"] == \"penalized_logreg\"):\n",
    "    model = LogisticRegression(penalty=\"l2\", C=0.1) #, solver=\"newton-cg\", max_iter=1)\n",
    "elif (universe[\"model\"] == \"rf\"):\n",
    "    model = RandomForestClassifier() # n_estimators=100, n_jobs=-1\n",
    "elif (universe[\"model\"] == \"gbm\"):\n",
    "    model = GradientBoostingClassifier()\n",
    "elif (universe[\"model\"] == \"elasticnet\"):\n",
    "    model = LogisticRegression(penalty = 'elasticnet', solver = 'saga', l1_ratio = 0.5) # max_iter=5000\n",
    "else:\n",
    "    raise \"Unsupported universe.model\""
   ]
  },
  {
   "cell_type": "code",
   "execution_count": 33,
   "id": "a4b5cd25",
   "metadata": {
    "execution": {
     "iopub.execute_input": "2025-08-19T18:29:51.398331Z",
     "iopub.status.busy": "2025-08-19T18:29:51.397960Z",
     "iopub.status.idle": "2025-08-19T18:29:51.403134Z",
     "shell.execute_reply": "2025-08-19T18:29:51.402330Z"
    },
    "papermill": {
     "duration": 0.018197,
     "end_time": "2025-08-19T18:29:51.404450",
     "exception": false,
     "start_time": "2025-08-19T18:29:51.386253",
     "status": "completed"
    },
    "tags": []
   },
   "outputs": [],
   "source": [
    "from sklearn.pipeline import Pipeline\n",
    "from sklearn.preprocessing import StandardScaler\n",
    "\n",
    "model = Pipeline([\n",
    "    #(\"continuous_processor\", continuous_processor),\n",
    "    #(\"categorical_preprocessor\", categorical_preprocessor),\n",
    "    (\"scale\", StandardScaler() if universe[\"scale\"] == \"scale\" else None), \n",
    "    (\"model\", model),\n",
    "])"
   ]
  },
  {
   "cell_type": "code",
   "execution_count": 34,
   "id": "283a904d",
   "metadata": {
    "execution": {
     "iopub.execute_input": "2025-08-19T18:29:51.426927Z",
     "iopub.status.busy": "2025-08-19T18:29:51.426579Z",
     "iopub.status.idle": "2025-08-19T18:29:55.950319Z",
     "shell.execute_reply": "2025-08-19T18:29:55.949375Z"
    },
    "papermill": {
     "duration": 4.536359,
     "end_time": "2025-08-19T18:29:55.951571",
     "exception": false,
     "start_time": "2025-08-19T18:29:51.415212",
     "status": "completed"
    },
    "tags": []
   },
   "outputs": [
    {
     "data": {
      "text/html": [
       "<style>#sk-container-id-1 {color: black;background-color: white;}#sk-container-id-1 pre{padding: 0;}#sk-container-id-1 div.sk-toggleable {background-color: white;}#sk-container-id-1 label.sk-toggleable__label {cursor: pointer;display: block;width: 100%;margin-bottom: 0;padding: 0.3em;box-sizing: border-box;text-align: center;}#sk-container-id-1 label.sk-toggleable__label-arrow:before {content: \"▸\";float: left;margin-right: 0.25em;color: #696969;}#sk-container-id-1 label.sk-toggleable__label-arrow:hover:before {color: black;}#sk-container-id-1 div.sk-estimator:hover label.sk-toggleable__label-arrow:before {color: black;}#sk-container-id-1 div.sk-toggleable__content {max-height: 0;max-width: 0;overflow: hidden;text-align: left;background-color: #f0f8ff;}#sk-container-id-1 div.sk-toggleable__content pre {margin: 0.2em;color: black;border-radius: 0.25em;background-color: #f0f8ff;}#sk-container-id-1 input.sk-toggleable__control:checked~div.sk-toggleable__content {max-height: 200px;max-width: 100%;overflow: auto;}#sk-container-id-1 input.sk-toggleable__control:checked~label.sk-toggleable__label-arrow:before {content: \"▾\";}#sk-container-id-1 div.sk-estimator input.sk-toggleable__control:checked~label.sk-toggleable__label {background-color: #d4ebff;}#sk-container-id-1 div.sk-label input.sk-toggleable__control:checked~label.sk-toggleable__label {background-color: #d4ebff;}#sk-container-id-1 input.sk-hidden--visually {border: 0;clip: rect(1px 1px 1px 1px);clip: rect(1px, 1px, 1px, 1px);height: 1px;margin: -1px;overflow: hidden;padding: 0;position: absolute;width: 1px;}#sk-container-id-1 div.sk-estimator {font-family: monospace;background-color: #f0f8ff;border: 1px dotted black;border-radius: 0.25em;box-sizing: border-box;margin-bottom: 0.5em;}#sk-container-id-1 div.sk-estimator:hover {background-color: #d4ebff;}#sk-container-id-1 div.sk-parallel-item::after {content: \"\";width: 100%;border-bottom: 1px solid gray;flex-grow: 1;}#sk-container-id-1 div.sk-label:hover label.sk-toggleable__label {background-color: #d4ebff;}#sk-container-id-1 div.sk-serial::before {content: \"\";position: absolute;border-left: 1px solid gray;box-sizing: border-box;top: 0;bottom: 0;left: 50%;z-index: 0;}#sk-container-id-1 div.sk-serial {display: flex;flex-direction: column;align-items: center;background-color: white;padding-right: 0.2em;padding-left: 0.2em;position: relative;}#sk-container-id-1 div.sk-item {position: relative;z-index: 1;}#sk-container-id-1 div.sk-parallel {display: flex;align-items: stretch;justify-content: center;background-color: white;position: relative;}#sk-container-id-1 div.sk-item::before, #sk-container-id-1 div.sk-parallel-item::before {content: \"\";position: absolute;border-left: 1px solid gray;box-sizing: border-box;top: 0;bottom: 0;left: 50%;z-index: -1;}#sk-container-id-1 div.sk-parallel-item {display: flex;flex-direction: column;z-index: 1;position: relative;background-color: white;}#sk-container-id-1 div.sk-parallel-item:first-child::after {align-self: flex-end;width: 50%;}#sk-container-id-1 div.sk-parallel-item:last-child::after {align-self: flex-start;width: 50%;}#sk-container-id-1 div.sk-parallel-item:only-child::after {width: 0;}#sk-container-id-1 div.sk-dashed-wrapped {border: 1px dashed gray;margin: 0 0.4em 0.5em 0.4em;box-sizing: border-box;padding-bottom: 0.4em;background-color: white;}#sk-container-id-1 div.sk-label label {font-family: monospace;font-weight: bold;display: inline-block;line-height: 1.2em;}#sk-container-id-1 div.sk-label-container {text-align: center;}#sk-container-id-1 div.sk-container {/* jupyter's `normalize.less` sets `[hidden] { display: none; }` but bootstrap.min.css set `[hidden] { display: none !important; }` so we also need the `!important` here to be able to override the default hidden behavior on the sphinx rendered scikit-learn.org. See: https://github.com/scikit-learn/scikit-learn/issues/21755 */display: inline-block !important;position: relative;}#sk-container-id-1 div.sk-text-repr-fallback {display: none;}</style><div id=\"sk-container-id-1\" class=\"sk-top-container\"><div class=\"sk-text-repr-fallback\"><pre>Pipeline(steps=[(&#x27;scale&#x27;, None), (&#x27;model&#x27;, GradientBoostingClassifier())])</pre><b>In a Jupyter environment, please rerun this cell to show the HTML representation or trust the notebook. <br />On GitHub, the HTML representation is unable to render, please try loading this page with nbviewer.org.</b></div><div class=\"sk-container\" hidden><div class=\"sk-item sk-dashed-wrapped\"><div class=\"sk-label-container\"><div class=\"sk-label sk-toggleable\"><input class=\"sk-toggleable__control sk-hidden--visually\" id=\"sk-estimator-id-1\" type=\"checkbox\" ><label for=\"sk-estimator-id-1\" class=\"sk-toggleable__label sk-toggleable__label-arrow\">Pipeline</label><div class=\"sk-toggleable__content\"><pre>Pipeline(steps=[(&#x27;scale&#x27;, None), (&#x27;model&#x27;, GradientBoostingClassifier())])</pre></div></div></div><div class=\"sk-serial\"><div class=\"sk-item\"><div class=\"sk-estimator sk-toggleable\"><input class=\"sk-toggleable__control sk-hidden--visually\" id=\"sk-estimator-id-2\" type=\"checkbox\" ><label for=\"sk-estimator-id-2\" class=\"sk-toggleable__label sk-toggleable__label-arrow\">None</label><div class=\"sk-toggleable__content\"><pre>None</pre></div></div></div><div class=\"sk-item\"><div class=\"sk-estimator sk-toggleable\"><input class=\"sk-toggleable__control sk-hidden--visually\" id=\"sk-estimator-id-3\" type=\"checkbox\" ><label for=\"sk-estimator-id-3\" class=\"sk-toggleable__label sk-toggleable__label-arrow\">GradientBoostingClassifier</label><div class=\"sk-toggleable__content\"><pre>GradientBoostingClassifier()</pre></div></div></div></div></div></div></div>"
      ],
      "text/plain": [
       "Pipeline(steps=[('scale', None), ('model', GradientBoostingClassifier())])"
      ]
     },
     "execution_count": 34,
     "metadata": {},
     "output_type": "execute_result"
    }
   ],
   "source": [
    "model.fit(X_train, y_train.values.ravel())"
   ]
  },
  {
   "cell_type": "code",
   "execution_count": 35,
   "id": "6e15e313",
   "metadata": {
    "execution": {
     "iopub.execute_input": "2025-08-19T18:29:55.986466Z",
     "iopub.status.busy": "2025-08-19T18:29:55.985001Z",
     "iopub.status.idle": "2025-08-19T18:29:56.580881Z",
     "shell.execute_reply": "2025-08-19T18:29:56.579908Z"
    },
    "papermill": {
     "duration": 0.615565,
     "end_time": "2025-08-19T18:29:56.582439",
     "exception": false,
     "start_time": "2025-08-19T18:29:55.966874",
     "status": "completed"
    },
    "tags": []
   },
   "outputs": [
    {
     "data": {
      "text/plain": [
       "0.8660015605841044"
      ]
     },
     "execution_count": 35,
     "metadata": {},
     "output_type": "execute_result"
    }
   ],
   "source": [
    "from fairness_multiverse.universe import predict_w_threshold\n",
    "\n",
    "probs_test = model.predict_proba(X_test)\n",
    "\n",
    "'''\n",
    "Below code returns a boolean array (or binary 0/1 array depending on how it’s used) where each element \n",
    "is True if the probability of class 1 is greater than or equal to the threshold, and False otherwise.\n",
    "'''\n",
    "y_pred_default = predict_w_threshold(probs_test, 0.5)\n",
    "\n",
    "from sklearn.metrics import accuracy_score\n",
    "\n",
    "# Naive prediction\n",
    "accuracy_score(y_true = y_true, y_pred = y_pred_default)"
   ]
  },
  {
   "cell_type": "code",
   "execution_count": 36,
   "id": "6f14067c",
   "metadata": {
    "execution": {
     "iopub.execute_input": "2025-08-19T18:29:56.620248Z",
     "iopub.status.busy": "2025-08-19T18:29:56.619804Z",
     "iopub.status.idle": "2025-08-19T18:29:57.181883Z",
     "shell.execute_reply": "2025-08-19T18:29:57.181015Z"
    },
    "papermill": {
     "duration": 0.585788,
     "end_time": "2025-08-19T18:29:57.184676",
     "exception": false,
     "start_time": "2025-08-19T18:29:56.598888",
     "status": "completed"
    },
    "tags": []
   },
   "outputs": [
    {
     "data": {
      "text/plain": [
       "array([0, 0, 0, ..., 0, 0, 0])"
      ]
     },
     "execution_count": 36,
     "metadata": {},
     "output_type": "execute_result"
    }
   ],
   "source": [
    "model.predict(X_test)"
   ]
  },
  {
   "cell_type": "markdown",
   "id": "3759920c",
   "metadata": {
    "papermill": {
     "duration": 0.012046,
     "end_time": "2025-08-19T18:29:57.219909",
     "exception": false,
     "start_time": "2025-08-19T18:29:57.207863",
     "status": "completed"
    },
    "tags": []
   },
   "source": [
    "# Conformal Prediction"
   ]
  },
  {
   "cell_type": "code",
   "execution_count": 37,
   "id": "14b27f59",
   "metadata": {
    "execution": {
     "iopub.execute_input": "2025-08-19T18:29:57.246061Z",
     "iopub.status.busy": "2025-08-19T18:29:57.244017Z",
     "iopub.status.idle": "2025-08-19T18:29:57.255899Z",
     "shell.execute_reply": "2025-08-19T18:29:57.251198Z"
    },
    "papermill": {
     "duration": 0.026849,
     "end_time": "2025-08-19T18:29:57.257540",
     "exception": false,
     "start_time": "2025-08-19T18:29:57.230691",
     "status": "completed"
    },
    "tags": []
   },
   "outputs": [],
   "source": [
    "# Miscoverage level for conformal prediction (10% allowed error rate => 90% target coverage)\n",
    "alpha = 0.1"
   ]
  },
  {
   "cell_type": "code",
   "execution_count": 38,
   "id": "59102472",
   "metadata": {
    "execution": {
     "iopub.execute_input": "2025-08-19T18:29:57.284826Z",
     "iopub.status.busy": "2025-08-19T18:29:57.283746Z",
     "iopub.status.idle": "2025-08-19T18:29:57.849959Z",
     "shell.execute_reply": "2025-08-19T18:29:57.848656Z"
    },
    "papermill": {
     "duration": 0.581619,
     "end_time": "2025-08-19T18:29:57.852956",
     "exception": false,
     "start_time": "2025-08-19T18:29:57.271337",
     "status": "completed"
    },
    "tags": []
   },
   "outputs": [],
   "source": [
    "probs_calib = model.predict_proba(X_calib)"
   ]
  },
  {
   "cell_type": "code",
   "execution_count": 39,
   "id": "a792d4dd",
   "metadata": {
    "execution": {
     "iopub.execute_input": "2025-08-19T18:29:57.893691Z",
     "iopub.status.busy": "2025-08-19T18:29:57.892918Z",
     "iopub.status.idle": "2025-08-19T18:29:57.903724Z",
     "shell.execute_reply": "2025-08-19T18:29:57.902641Z"
    },
    "papermill": {
     "duration": 0.027426,
     "end_time": "2025-08-19T18:29:57.905296",
     "exception": false,
     "start_time": "2025-08-19T18:29:57.877870",
     "status": "completed"
    },
    "tags": []
   },
   "outputs": [],
   "source": [
    "y_calib = y_calib.values.ravel().astype(int)"
   ]
  },
  {
   "cell_type": "code",
   "execution_count": 40,
   "id": "650fd033",
   "metadata": {
    "execution": {
     "iopub.execute_input": "2025-08-19T18:29:57.933190Z",
     "iopub.status.busy": "2025-08-19T18:29:57.932547Z",
     "iopub.status.idle": "2025-08-19T18:29:57.944754Z",
     "shell.execute_reply": "2025-08-19T18:29:57.943700Z"
    },
    "papermill": {
     "duration": 0.026776,
     "end_time": "2025-08-19T18:29:57.946229",
     "exception": false,
     "start_time": "2025-08-19T18:29:57.919453",
     "status": "completed"
    },
    "tags": []
   },
   "outputs": [],
   "source": [
    "from fairness_multiverse.conformal import compute_nc_scores\n",
    "\n",
    "# Compute nonconformity scores on calibration set (1 - probability of true class)\n",
    "nc_scores = compute_nc_scores(probs_calib, y_calib)"
   ]
  },
  {
   "cell_type": "code",
   "execution_count": 41,
   "id": "28ada44c",
   "metadata": {
    "execution": {
     "iopub.execute_input": "2025-08-19T18:29:57.974362Z",
     "iopub.status.busy": "2025-08-19T18:29:57.973677Z",
     "iopub.status.idle": "2025-08-19T18:29:57.983412Z",
     "shell.execute_reply": "2025-08-19T18:29:57.982165Z"
    },
    "papermill": {
     "duration": 0.024719,
     "end_time": "2025-08-19T18:29:57.985114",
     "exception": false,
     "start_time": "2025-08-19T18:29:57.960395",
     "status": "completed"
    },
    "tags": []
   },
   "outputs": [],
   "source": [
    "from fairness_multiverse.conformal import find_threshold\n",
    "\n",
    "# Find conformal threshold q_hat for the given alpha (split conformal method)\n",
    "q_hat = find_threshold(nc_scores, alpha)"
   ]
  },
  {
   "cell_type": "code",
   "execution_count": 42,
   "id": "df56469e",
   "metadata": {
    "execution": {
     "iopub.execute_input": "2025-08-19T18:29:58.012108Z",
     "iopub.status.busy": "2025-08-19T18:29:58.011461Z",
     "iopub.status.idle": "2025-08-19T18:29:58.021256Z",
     "shell.execute_reply": "2025-08-19T18:29:58.020064Z"
    },
    "papermill": {
     "duration": 0.023823,
     "end_time": "2025-08-19T18:29:58.022491",
     "exception": false,
     "start_time": "2025-08-19T18:29:57.998668",
     "status": "completed"
    },
    "tags": []
   },
   "outputs": [
    {
     "data": {
      "text/plain": [
       "0.7208205283413383"
      ]
     },
     "execution_count": 42,
     "metadata": {},
     "output_type": "execute_result"
    }
   ],
   "source": [
    "q_hat"
   ]
  },
  {
   "cell_type": "code",
   "execution_count": 43,
   "id": "aa1f5faa",
   "metadata": {
    "execution": {
     "iopub.execute_input": "2025-08-19T18:29:58.065548Z",
     "iopub.status.busy": "2025-08-19T18:29:58.065095Z",
     "iopub.status.idle": "2025-08-19T18:29:58.993366Z",
     "shell.execute_reply": "2025-08-19T18:29:58.992203Z"
    },
    "papermill": {
     "duration": 0.956033,
     "end_time": "2025-08-19T18:29:58.995445",
     "exception": false,
     "start_time": "2025-08-19T18:29:58.039412",
     "status": "completed"
    },
    "tags": []
   },
   "outputs": [],
   "source": [
    "from fairness_multiverse.conformal import predict_conformal_sets\n",
    "\n",
    "# Generate prediction sets for each test example\n",
    "pred_sets = predict_conformal_sets(model, X_test, q_hat)"
   ]
  },
  {
   "cell_type": "code",
   "execution_count": 44,
   "id": "97f67a6b",
   "metadata": {
    "execution": {
     "iopub.execute_input": "2025-08-19T18:29:59.022515Z",
     "iopub.status.busy": "2025-08-19T18:29:59.022011Z",
     "iopub.status.idle": "2025-08-19T18:29:59.027947Z",
     "shell.execute_reply": "2025-08-19T18:29:59.027281Z"
    },
    "papermill": {
     "duration": 0.021434,
     "end_time": "2025-08-19T18:29:59.029215",
     "exception": false,
     "start_time": "2025-08-19T18:29:59.007781",
     "status": "completed"
    },
    "tags": []
   },
   "outputs": [],
   "source": [
    "y_true = y_true.squeeze()"
   ]
  },
  {
   "cell_type": "code",
   "execution_count": 45,
   "id": "e700e9a7",
   "metadata": {
    "execution": {
     "iopub.execute_input": "2025-08-19T18:29:59.054011Z",
     "iopub.status.busy": "2025-08-19T18:29:59.053610Z",
     "iopub.status.idle": "2025-08-19T18:29:59.561537Z",
     "shell.execute_reply": "2025-08-19T18:29:59.560257Z"
    },
    "papermill": {
     "duration": 0.523475,
     "end_time": "2025-08-19T18:29:59.564674",
     "exception": false,
     "start_time": "2025-08-19T18:29:59.041199",
     "status": "completed"
    },
    "tags": []
   },
   "outputs": [],
   "source": [
    "from fairness_multiverse.conformal import evaluate_sets\n",
    "\n",
    "# Evaluate coverage and average set size on test data\n",
    "metrics = evaluate_sets(pred_sets, y_true)"
   ]
  },
  {
   "cell_type": "markdown",
   "id": "efbacec0",
   "metadata": {
    "papermill": {
     "duration": 0.013602,
     "end_time": "2025-08-19T18:29:59.605530",
     "exception": false,
     "start_time": "2025-08-19T18:29:59.591928",
     "status": "completed"
    },
    "tags": []
   },
   "source": [
    "# CP Metrics"
   ]
  },
  {
   "cell_type": "code",
   "execution_count": 46,
   "id": "9de55fb1",
   "metadata": {
    "execution": {
     "iopub.execute_input": "2025-08-19T18:29:59.631825Z",
     "iopub.status.busy": "2025-08-19T18:29:59.630964Z",
     "iopub.status.idle": "2025-08-19T18:29:59.643000Z",
     "shell.execute_reply": "2025-08-19T18:29:59.642040Z"
    },
    "papermill": {
     "duration": 0.029121,
     "end_time": "2025-08-19T18:29:59.645889",
     "exception": false,
     "start_time": "2025-08-19T18:29:59.616768",
     "status": "completed"
    },
    "tags": []
   },
   "outputs": [
    {
     "data": {
      "text/plain": [
       "{'coverage': 0.9123174673949392, 'avg_size': 1.133340764686211}"
      ]
     },
     "execution_count": 46,
     "metadata": {},
     "output_type": "execute_result"
    }
   ],
   "source": [
    "metrics"
   ]
  },
  {
   "cell_type": "code",
   "execution_count": 47,
   "id": "64c340a1",
   "metadata": {
    "execution": {
     "iopub.execute_input": "2025-08-19T18:29:59.673392Z",
     "iopub.status.busy": "2025-08-19T18:29:59.672746Z",
     "iopub.status.idle": "2025-08-19T18:29:59.681828Z",
     "shell.execute_reply": "2025-08-19T18:29:59.680761Z"
    },
    "papermill": {
     "duration": 0.02372,
     "end_time": "2025-08-19T18:29:59.683454",
     "exception": false,
     "start_time": "2025-08-19T18:29:59.659734",
     "status": "completed"
    },
    "tags": []
   },
   "outputs": [],
   "source": [
    "example_universe = universe.copy()\n",
    "universe_training_year = example_universe.get(\"training_year\")\n",
    "universe_training_size = example_universe.get(\"training_size\")\n",
    "universe_scale = example_universe.get(\"scale\")\n",
    "universe_model = example_universe.get(\"model\")\n",
    "universe_exclude_features = example_universe.get(\"exclude_features\")\n",
    "universe_exclude_subgroups = example_universe.get(\"exclude_subgroups\")"
   ]
  },
  {
   "cell_type": "code",
   "execution_count": 48,
   "id": "dbb53cb4",
   "metadata": {
    "execution": {
     "iopub.execute_input": "2025-08-19T18:29:59.711819Z",
     "iopub.status.busy": "2025-08-19T18:29:59.711184Z",
     "iopub.status.idle": "2025-08-19T18:29:59.720009Z",
     "shell.execute_reply": "2025-08-19T18:29:59.718822Z"
    },
    "papermill": {
     "duration": 0.023797,
     "end_time": "2025-08-19T18:29:59.721900",
     "exception": false,
     "start_time": "2025-08-19T18:29:59.698103",
     "status": "completed"
    },
    "tags": []
   },
   "outputs": [],
   "source": [
    "cp_metrics_dict = {\n",
    "    \"universe_id\": [universe_id],\n",
    "    \"universe_training_year\": [universe_training_year],\n",
    "    \"universe_training_size\": [universe_training_size],\n",
    "    \"universe_scale\": [universe_scale],\n",
    "    \"universe_model\": [universe_model],\n",
    "    \"universe_exclude_features\": [universe_exclude_features],\n",
    "    \"universe_exclude_subgroups\": [universe_exclude_subgroups],\n",
    "    \"q_hat\": [q_hat],\n",
    "    \"coverage\": [metrics[\"coverage\"]],\n",
    "    \"avg_size\": [metrics[\"avg_size\"]],\n",
    "}"
   ]
  },
  {
   "cell_type": "code",
   "execution_count": 49,
   "id": "0d70d4b2",
   "metadata": {
    "execution": {
     "iopub.execute_input": "2025-08-19T18:29:59.750449Z",
     "iopub.status.busy": "2025-08-19T18:29:59.749809Z",
     "iopub.status.idle": "2025-08-19T18:29:59.762924Z",
     "shell.execute_reply": "2025-08-19T18:29:59.759564Z"
    },
    "papermill": {
     "duration": 0.027872,
     "end_time": "2025-08-19T18:29:59.764720",
     "exception": false,
     "start_time": "2025-08-19T18:29:59.736848",
     "status": "completed"
    },
    "tags": []
   },
   "outputs": [],
   "source": [
    "cp_metrics_df = pd.DataFrame(cp_metrics_dict)"
   ]
  },
  {
   "cell_type": "code",
   "execution_count": 50,
   "id": "b494403c",
   "metadata": {
    "execution": {
     "iopub.execute_input": "2025-08-19T18:29:59.793195Z",
     "iopub.status.busy": "2025-08-19T18:29:59.792529Z",
     "iopub.status.idle": "2025-08-19T18:29:59.815326Z",
     "shell.execute_reply": "2025-08-19T18:29:59.814542Z"
    },
    "papermill": {
     "duration": 0.037865,
     "end_time": "2025-08-19T18:29:59.817127",
     "exception": false,
     "start_time": "2025-08-19T18:29:59.779262",
     "status": "completed"
    },
    "tags": []
   },
   "outputs": [
    {
     "data": {
      "text/html": [
       "<div>\n",
       "<style scoped>\n",
       "    .dataframe tbody tr th:only-of-type {\n",
       "        vertical-align: middle;\n",
       "    }\n",
       "\n",
       "    .dataframe tbody tr th {\n",
       "        vertical-align: top;\n",
       "    }\n",
       "\n",
       "    .dataframe thead th {\n",
       "        text-align: right;\n",
       "    }\n",
       "</style>\n",
       "<table border=\"1\" class=\"dataframe\">\n",
       "  <thead>\n",
       "    <tr style=\"text-align: right;\">\n",
       "      <th></th>\n",
       "      <th>universe_id</th>\n",
       "      <th>universe_training_year</th>\n",
       "      <th>universe_training_size</th>\n",
       "      <th>universe_scale</th>\n",
       "      <th>universe_model</th>\n",
       "      <th>universe_exclude_features</th>\n",
       "      <th>universe_exclude_subgroups</th>\n",
       "      <th>q_hat</th>\n",
       "      <th>coverage</th>\n",
       "      <th>avg_size</th>\n",
       "    </tr>\n",
       "  </thead>\n",
       "  <tbody>\n",
       "    <tr>\n",
       "      <th>0</th>\n",
       "      <td>2f3fa3502cc024b67f76376a81dc38f0</td>\n",
       "      <td>2014</td>\n",
       "      <td>5k</td>\n",
       "      <td>do-not-scale</td>\n",
       "      <td>gbm</td>\n",
       "      <td>sex</td>\n",
       "      <td>keep-all</td>\n",
       "      <td>0.720821</td>\n",
       "      <td>0.912317</td>\n",
       "      <td>1.133341</td>\n",
       "    </tr>\n",
       "  </tbody>\n",
       "</table>\n",
       "</div>"
      ],
      "text/plain": [
       "                        universe_id universe_training_year  \\\n",
       "0  2f3fa3502cc024b67f76376a81dc38f0                   2014   \n",
       "\n",
       "  universe_training_size universe_scale universe_model  \\\n",
       "0                     5k   do-not-scale            gbm   \n",
       "\n",
       "  universe_exclude_features universe_exclude_subgroups     q_hat  coverage  \\\n",
       "0                       sex                   keep-all  0.720821  0.912317   \n",
       "\n",
       "   avg_size  \n",
       "0  1.133341  "
      ]
     },
     "execution_count": 50,
     "metadata": {},
     "output_type": "execute_result"
    }
   ],
   "source": [
    "cp_metrics_df"
   ]
  },
  {
   "cell_type": "markdown",
   "id": "ed608b0b",
   "metadata": {
    "papermill": {
     "duration": 0.0117,
     "end_time": "2025-08-19T18:29:59.847287",
     "exception": false,
     "start_time": "2025-08-19T18:29:59.835587",
     "status": "completed"
    },
    "tags": []
   },
   "source": [
    "Conditional coverage & looking at subgroups"
   ]
  },
  {
   "cell_type": "code",
   "execution_count": 51,
   "id": "8968c366",
   "metadata": {
    "execution": {
     "iopub.execute_input": "2025-08-19T18:29:59.872683Z",
     "iopub.status.busy": "2025-08-19T18:29:59.871987Z",
     "iopub.status.idle": "2025-08-19T18:30:00.174511Z",
     "shell.execute_reply": "2025-08-19T18:30:00.173617Z"
    },
    "papermill": {
     "duration": 0.318819,
     "end_time": "2025-08-19T18:30:00.177549",
     "exception": false,
     "start_time": "2025-08-19T18:29:59.858730",
     "status": "completed"
    },
    "tags": []
   },
   "outputs": [],
   "source": [
    "from fairness_multiverse.conformal import build_cp_groups\n",
    "\n",
    "cp_groups_df = build_cp_groups(pred_sets, y_true, X_test.index, org_test)"
   ]
  },
  {
   "cell_type": "code",
   "execution_count": 52,
   "id": "292ddabf",
   "metadata": {
    "execution": {
     "iopub.execute_input": "2025-08-19T18:30:00.220433Z",
     "iopub.status.busy": "2025-08-19T18:30:00.219742Z",
     "iopub.status.idle": "2025-08-19T18:30:01.113076Z",
     "shell.execute_reply": "2025-08-19T18:30:01.111867Z"
    },
    "papermill": {
     "duration": 0.912732,
     "end_time": "2025-08-19T18:30:01.116105",
     "exception": false,
     "start_time": "2025-08-19T18:30:00.203373",
     "status": "completed"
    },
    "tags": []
   },
   "outputs": [],
   "source": [
    "# Define covered = 1 if true_label is in the predicted set\n",
    "cp_groups_df['covered'] = cp_groups_df.apply(\n",
    "    lambda r: int(r['true_label'] in r['pred_set']),\n",
    "    axis=1\n",
    ")"
   ]
  },
  {
   "cell_type": "code",
   "execution_count": 53,
   "id": "3a261692",
   "metadata": {
    "execution": {
     "iopub.execute_input": "2025-08-19T18:30:01.160830Z",
     "iopub.status.busy": "2025-08-19T18:30:01.159981Z",
     "iopub.status.idle": "2025-08-19T18:30:01.188952Z",
     "shell.execute_reply": "2025-08-19T18:30:01.187797Z"
    },
    "papermill": {
     "duration": 0.047403,
     "end_time": "2025-08-19T18:30:01.191493",
     "exception": false,
     "start_time": "2025-08-19T18:30:01.144090",
     "status": "completed"
    },
    "tags": []
   },
   "outputs": [],
   "source": [
    "subgroups = ['frau1','nongerman','nongerman_male','nongerman_female']\n",
    "\n",
    "# Conditional coverage for subgroup==1\n",
    "cond_coverage = {\n",
    "    g: cp_groups_df.loc[cp_groups_df[g]==1, 'covered'].mean()\n",
    "    for g in subgroups\n",
    "}"
   ]
  },
  {
   "cell_type": "code",
   "execution_count": 54,
   "id": "894fd600",
   "metadata": {
    "execution": {
     "iopub.execute_input": "2025-08-19T18:30:01.259694Z",
     "iopub.status.busy": "2025-08-19T18:30:01.259351Z",
     "iopub.status.idle": "2025-08-19T18:30:01.265696Z",
     "shell.execute_reply": "2025-08-19T18:30:01.264959Z"
    },
    "papermill": {
     "duration": 0.029974,
     "end_time": "2025-08-19T18:30:01.267586",
     "exception": false,
     "start_time": "2025-08-19T18:30:01.237612",
     "status": "completed"
    },
    "tags": []
   },
   "outputs": [
    {
     "data": {
      "text/plain": [
       "{'frau1': 0.9092060924652918,\n",
       " 'nongerman': 0.9112445966429013,\n",
       " 'nongerman_male': 0.927136809871206,\n",
       " 'nongerman_female': 0.8849478390461997}"
      ]
     },
     "execution_count": 54,
     "metadata": {},
     "output_type": "execute_result"
    }
   ],
   "source": [
    "cond_coverage"
   ]
  },
  {
   "cell_type": "code",
   "execution_count": 55,
   "id": "942895c7",
   "metadata": {
    "execution": {
     "iopub.execute_input": "2025-08-19T18:30:01.294053Z",
     "iopub.status.busy": "2025-08-19T18:30:01.293657Z",
     "iopub.status.idle": "2025-08-19T18:30:01.300367Z",
     "shell.execute_reply": "2025-08-19T18:30:01.299650Z"
    },
    "papermill": {
     "duration": 0.021409,
     "end_time": "2025-08-19T18:30:01.301753",
     "exception": false,
     "start_time": "2025-08-19T18:30:01.280344",
     "status": "completed"
    },
    "tags": []
   },
   "outputs": [],
   "source": [
    "for subgroup, cov in cond_coverage.items():\n",
    "    cp_metrics_df[f\"cov_{subgroup}\"] = cov"
   ]
  },
  {
   "cell_type": "code",
   "execution_count": 56,
   "id": "3970120f",
   "metadata": {
    "execution": {
     "iopub.execute_input": "2025-08-19T18:30:01.329675Z",
     "iopub.status.busy": "2025-08-19T18:30:01.329035Z",
     "iopub.status.idle": "2025-08-19T18:30:01.345339Z",
     "shell.execute_reply": "2025-08-19T18:30:01.344543Z"
    },
    "papermill": {
     "duration": 0.032006,
     "end_time": "2025-08-19T18:30:01.346721",
     "exception": false,
     "start_time": "2025-08-19T18:30:01.314715",
     "status": "completed"
    },
    "tags": []
   },
   "outputs": [
    {
     "data": {
      "text/html": [
       "<div>\n",
       "<style scoped>\n",
       "    .dataframe tbody tr th:only-of-type {\n",
       "        vertical-align: middle;\n",
       "    }\n",
       "\n",
       "    .dataframe tbody tr th {\n",
       "        vertical-align: top;\n",
       "    }\n",
       "\n",
       "    .dataframe thead th {\n",
       "        text-align: right;\n",
       "    }\n",
       "</style>\n",
       "<table border=\"1\" class=\"dataframe\">\n",
       "  <thead>\n",
       "    <tr style=\"text-align: right;\">\n",
       "      <th></th>\n",
       "      <th>universe_id</th>\n",
       "      <th>universe_training_year</th>\n",
       "      <th>universe_training_size</th>\n",
       "      <th>universe_scale</th>\n",
       "      <th>universe_model</th>\n",
       "      <th>universe_exclude_features</th>\n",
       "      <th>universe_exclude_subgroups</th>\n",
       "      <th>q_hat</th>\n",
       "      <th>coverage</th>\n",
       "      <th>avg_size</th>\n",
       "      <th>cov_frau1</th>\n",
       "      <th>cov_nongerman</th>\n",
       "      <th>cov_nongerman_male</th>\n",
       "      <th>cov_nongerman_female</th>\n",
       "    </tr>\n",
       "  </thead>\n",
       "  <tbody>\n",
       "    <tr>\n",
       "      <th>0</th>\n",
       "      <td>2f3fa3502cc024b67f76376a81dc38f0</td>\n",
       "      <td>2014</td>\n",
       "      <td>5k</td>\n",
       "      <td>do-not-scale</td>\n",
       "      <td>gbm</td>\n",
       "      <td>sex</td>\n",
       "      <td>keep-all</td>\n",
       "      <td>0.720821</td>\n",
       "      <td>0.912317</td>\n",
       "      <td>1.133341</td>\n",
       "      <td>0.909206</td>\n",
       "      <td>0.911245</td>\n",
       "      <td>0.927137</td>\n",
       "      <td>0.884948</td>\n",
       "    </tr>\n",
       "  </tbody>\n",
       "</table>\n",
       "</div>"
      ],
      "text/plain": [
       "                        universe_id universe_training_year  \\\n",
       "0  2f3fa3502cc024b67f76376a81dc38f0                   2014   \n",
       "\n",
       "  universe_training_size universe_scale universe_model  \\\n",
       "0                     5k   do-not-scale            gbm   \n",
       "\n",
       "  universe_exclude_features universe_exclude_subgroups     q_hat  coverage  \\\n",
       "0                       sex                   keep-all  0.720821  0.912317   \n",
       "\n",
       "   avg_size  cov_frau1  cov_nongerman  cov_nongerman_male  \\\n",
       "0  1.133341   0.909206       0.911245            0.927137   \n",
       "\n",
       "   cov_nongerman_female  \n",
       "0              0.884948  "
      ]
     },
     "execution_count": 56,
     "metadata": {},
     "output_type": "execute_result"
    }
   ],
   "source": [
    "cp_metrics_df"
   ]
  },
  {
   "cell_type": "markdown",
   "id": "3fc519cc",
   "metadata": {
    "papermill": {
     "duration": 0.012558,
     "end_time": "2025-08-19T18:30:01.374234",
     "exception": false,
     "start_time": "2025-08-19T18:30:01.361676",
     "status": "completed"
    },
    "tags": []
   },
   "source": [
    "# (Fairness) Metrics"
   ]
  },
  {
   "cell_type": "code",
   "execution_count": 57,
   "id": "a2e5e155",
   "metadata": {
    "execution": {
     "iopub.execute_input": "2025-08-19T18:30:01.401545Z",
     "iopub.status.busy": "2025-08-19T18:30:01.401086Z",
     "iopub.status.idle": "2025-08-19T18:30:01.416516Z",
     "shell.execute_reply": "2025-08-19T18:30:01.415783Z"
    },
    "papermill": {
     "duration": 0.032618,
     "end_time": "2025-08-19T18:30:01.419617",
     "exception": false,
     "start_time": "2025-08-19T18:30:01.386999",
     "status": "completed"
    },
    "tags": []
   },
   "outputs": [],
   "source": [
    "colname_to_bin = \"maxdeutsch1\"\n",
    "majority_value = org_train[colname_to_bin].mode()[0]\n",
    "\n",
    "org_test[\"majmin\"] = np.where(org_test[colname_to_bin] == majority_value, \"majority\", \"minority\")"
   ]
  },
  {
   "cell_type": "code",
   "execution_count": 58,
   "id": "17e3e4d5",
   "metadata": {
    "execution": {
     "iopub.execute_input": "2025-08-19T18:30:01.487956Z",
     "iopub.status.busy": "2025-08-19T18:30:01.487459Z",
     "iopub.status.idle": "2025-08-19T18:30:03.305455Z",
     "shell.execute_reply": "2025-08-19T18:30:03.304138Z"
    },
    "papermill": {
     "duration": 1.846568,
     "end_time": "2025-08-19T18:30:03.307302",
     "exception": false,
     "start_time": "2025-08-19T18:30:01.460734",
     "status": "completed"
    },
    "tags": []
   },
   "outputs": [],
   "source": [
    "example_universe = universe.copy()\n",
    "example_universe[\"cutoff\"] = example_universe[\"cutoff\"][0]\n",
    "example_universe[\"eval_fairness_grouping\"] = example_universe[\"eval_fairness_grouping\"][0]\n",
    "fairness_dict, metric_frame = universe_analysis.compute_metrics(\n",
    "    example_universe,\n",
    "    y_pred_prob=probs_test,\n",
    "    y_test=y_true,\n",
    "    org_test=org_test,\n",
    ")"
   ]
  },
  {
   "cell_type": "markdown",
   "id": "1fb7a0e9",
   "metadata": {
    "papermill": {
     "duration": 0.023617,
     "end_time": "2025-08-19T18:30:03.360032",
     "exception": false,
     "start_time": "2025-08-19T18:30:03.336415",
     "status": "completed"
    },
    "tags": []
   },
   "source": [
    "# Overall"
   ]
  },
  {
   "cell_type": "markdown",
   "id": "be1784b1",
   "metadata": {
    "papermill": {
     "duration": 0.012807,
     "end_time": "2025-08-19T18:30:03.385752",
     "exception": false,
     "start_time": "2025-08-19T18:30:03.372945",
     "status": "completed"
    },
    "tags": []
   },
   "source": [
    "Main fairness target: Equalized Odds. Seems to be a better fit than equal opportunity, since we're not only interested in Y = 1. Seems to be a better fit than demographic parity, since we also care about accuracy, not just equal distribution of preds.\n",
    "\n",
    "Pick column for computation of fairness metrics\n",
    "\n",
    "Performance\n",
    "Overall performance measures, most interesting in relation to the measures split by group below"
   ]
  },
  {
   "cell_type": "code",
   "execution_count": 59,
   "id": "b7672bee",
   "metadata": {
    "execution": {
     "iopub.execute_input": "2025-08-19T18:30:03.414261Z",
     "iopub.status.busy": "2025-08-19T18:30:03.413826Z",
     "iopub.status.idle": "2025-08-19T18:30:03.422014Z",
     "shell.execute_reply": "2025-08-19T18:30:03.421142Z"
    },
    "papermill": {
     "duration": 0.025081,
     "end_time": "2025-08-19T18:30:03.423778",
     "exception": false,
     "start_time": "2025-08-19T18:30:03.398697",
     "status": "completed"
    },
    "tags": []
   },
   "outputs": [
    {
     "data": {
      "text/plain": [
       "accuracy                   0.224780\n",
       "balanced accuracy          0.549533\n",
       "f1                         0.246100\n",
       "precision                  0.140589\n",
       "false positive rate        0.887292\n",
       "false negative rate        0.013643\n",
       "selection rate             0.900000\n",
       "count                  89710.000000\n",
       "dtype: float64"
      ]
     },
     "execution_count": 59,
     "metadata": {},
     "output_type": "execute_result"
    }
   ],
   "source": [
    "metric_frame.overall"
   ]
  },
  {
   "cell_type": "markdown",
   "id": "d93333c9",
   "metadata": {
    "papermill": {
     "duration": 0.012735,
     "end_time": "2025-08-19T18:30:03.450965",
     "exception": false,
     "start_time": "2025-08-19T18:30:03.438230",
     "status": "completed"
    },
    "tags": []
   },
   "source": [
    "By Group"
   ]
  },
  {
   "cell_type": "code",
   "execution_count": 60,
   "id": "52256966",
   "metadata": {
    "execution": {
     "iopub.execute_input": "2025-08-19T18:30:03.478329Z",
     "iopub.status.busy": "2025-08-19T18:30:03.477452Z",
     "iopub.status.idle": "2025-08-19T18:30:03.492648Z",
     "shell.execute_reply": "2025-08-19T18:30:03.491624Z"
    },
    "papermill": {
     "duration": 0.030259,
     "end_time": "2025-08-19T18:30:03.494778",
     "exception": false,
     "start_time": "2025-08-19T18:30:03.464519",
     "status": "completed"
    },
    "tags": []
   },
   "outputs": [
    {
     "data": {
      "text/html": [
       "<div>\n",
       "<style scoped>\n",
       "    .dataframe tbody tr th:only-of-type {\n",
       "        vertical-align: middle;\n",
       "    }\n",
       "\n",
       "    .dataframe tbody tr th {\n",
       "        vertical-align: top;\n",
       "    }\n",
       "\n",
       "    .dataframe thead th {\n",
       "        text-align: right;\n",
       "    }\n",
       "</style>\n",
       "<table border=\"1\" class=\"dataframe\">\n",
       "  <thead>\n",
       "    <tr style=\"text-align: right;\">\n",
       "      <th></th>\n",
       "      <th>accuracy</th>\n",
       "      <th>balanced accuracy</th>\n",
       "      <th>f1</th>\n",
       "      <th>precision</th>\n",
       "      <th>false positive rate</th>\n",
       "      <th>false negative rate</th>\n",
       "      <th>selection rate</th>\n",
       "      <th>count</th>\n",
       "    </tr>\n",
       "    <tr>\n",
       "      <th>majmin</th>\n",
       "      <th></th>\n",
       "      <th></th>\n",
       "      <th></th>\n",
       "      <th></th>\n",
       "      <th></th>\n",
       "      <th></th>\n",
       "      <th></th>\n",
       "      <th></th>\n",
       "    </tr>\n",
       "  </thead>\n",
       "  <tbody>\n",
       "    <tr>\n",
       "      <th>majority</th>\n",
       "      <td>0.247188</td>\n",
       "      <td>0.55942</td>\n",
       "      <td>0.256709</td>\n",
       "      <td>0.147613</td>\n",
       "      <td>0.864968</td>\n",
       "      <td>0.016193</td>\n",
       "      <td>0.880671</td>\n",
       "      <td>69170.0</td>\n",
       "    </tr>\n",
       "    <tr>\n",
       "      <th>minority</th>\n",
       "      <td>0.149318</td>\n",
       "      <td>0.51758</td>\n",
       "      <td>0.212609</td>\n",
       "      <td>0.119003</td>\n",
       "      <td>0.961039</td>\n",
       "      <td>0.003801</td>\n",
       "      <td>0.965093</td>\n",
       "      <td>20540.0</td>\n",
       "    </tr>\n",
       "  </tbody>\n",
       "</table>\n",
       "</div>"
      ],
      "text/plain": [
       "          accuracy  balanced accuracy        f1  precision  \\\n",
       "majmin                                                       \n",
       "majority  0.247188            0.55942  0.256709   0.147613   \n",
       "minority  0.149318            0.51758  0.212609   0.119003   \n",
       "\n",
       "          false positive rate  false negative rate  selection rate    count  \n",
       "majmin                                                                       \n",
       "majority             0.864968             0.016193        0.880671  69170.0  \n",
       "minority             0.961039             0.003801        0.965093  20540.0  "
      ]
     },
     "execution_count": 60,
     "metadata": {},
     "output_type": "execute_result"
    }
   ],
   "source": [
    "metric_frame.by_group"
   ]
  },
  {
   "cell_type": "code",
   "execution_count": 61,
   "id": "6e6c20ae",
   "metadata": {
    "execution": {
     "iopub.execute_input": "2025-08-19T18:30:03.525495Z",
     "iopub.status.busy": "2025-08-19T18:30:03.524822Z",
     "iopub.status.idle": "2025-08-19T18:30:05.424984Z",
     "shell.execute_reply": "2025-08-19T18:30:05.423656Z"
    },
    "papermill": {
     "duration": 1.915231,
     "end_time": "2025-08-19T18:30:05.426818",
     "exception": false,
     "start_time": "2025-08-19T18:30:03.511587",
     "status": "completed"
    },
    "tags": []
   },
   "outputs": [
    {
     "data": {
      "text/plain": [
       "array([[<Axes: title={'center': 'accuracy'}, xlabel='majmin'>,\n",
       "        <Axes: title={'center': 'balanced accuracy'}, xlabel='majmin'>,\n",
       "        <Axes: title={'center': 'f1'}, xlabel='majmin'>],\n",
       "       [<Axes: title={'center': 'precision'}, xlabel='majmin'>,\n",
       "        <Axes: title={'center': 'false positive rate'}, xlabel='majmin'>,\n",
       "        <Axes: title={'center': 'false negative rate'}, xlabel='majmin'>],\n",
       "       [<Axes: title={'center': 'selection rate'}, xlabel='majmin'>,\n",
       "        <Axes: title={'center': 'count'}, xlabel='majmin'>,\n",
       "        <Axes: xlabel='majmin'>]], dtype=object)"
      ]
     },
     "execution_count": 61,
     "metadata": {},
     "output_type": "execute_result"
    },
    {
     "data": {
      "image/png": "[encoded data removed]",
      "text/plain": [
       "<Figure size 1200x800 with 9 Axes>"
      ]
     },
     "metadata": {},
     "output_type": "display_data"
    }
   ],
   "source": [
    "# In a graphic\n",
    "metric_frame.by_group.plot.bar(\n",
    "    subplots=True,\n",
    "    layout=[3, 3],\n",
    "    legend=False,\n",
    "    figsize=[12, 8],\n",
    "    title=\"Show all metrics\",\n",
    ")"
   ]
  },
  {
   "cell_type": "markdown",
   "id": "b2e433ae",
   "metadata": {
    "papermill": {
     "duration": 0.013575,
     "end_time": "2025-08-19T18:30:05.455499",
     "exception": false,
     "start_time": "2025-08-19T18:30:05.441924",
     "status": "completed"
    },
    "tags": []
   },
   "source": [
    "# Final Output"
   ]
  },
  {
   "cell_type": "code",
   "execution_count": 62,
   "id": "3871301e",
   "metadata": {
    "execution": {
     "iopub.execute_input": "2025-08-19T18:30:05.487257Z",
     "iopub.status.busy": "2025-08-19T18:30:05.484941Z",
     "iopub.status.idle": "2025-08-19T18:30:05.502858Z",
     "shell.execute_reply": "2025-08-19T18:30:05.501807Z"
    },
    "papermill": {
     "duration": 0.035088,
     "end_time": "2025-08-19T18:30:05.504278",
     "exception": false,
     "start_time": "2025-08-19T18:30:05.469190",
     "status": "completed"
    },
    "tags": []
   },
   "outputs": [
    {
     "data": {
      "text/plain": [
       "4"
      ]
     },
     "execution_count": 62,
     "metadata": {},
     "output_type": "execute_result"
    }
   ],
   "source": [
    "sub_universes = universe_analysis.generate_sub_universes()\n",
    "len(sub_universes)"
   ]
  },
  {
   "cell_type": "code",
   "execution_count": 63,
   "id": "d9cfdaca",
   "metadata": {
    "execution": {
     "iopub.execute_input": "2025-08-19T18:30:05.541375Z",
     "iopub.status.busy": "2025-08-19T18:30:05.540119Z",
     "iopub.status.idle": "2025-08-19T18:30:05.547820Z",
     "shell.execute_reply": "2025-08-19T18:30:05.546902Z"
    },
    "papermill": {
     "duration": 0.024742,
     "end_time": "2025-08-19T18:30:05.549061",
     "exception": false,
     "start_time": "2025-08-19T18:30:05.524319",
     "status": "completed"
    },
    "tags": []
   },
   "outputs": [],
   "source": [
    "def filter_sub_universe_data(sub_universe, org_test):\n",
    "    # Keep all rows — no filtering\n",
    "    keep_rows_mask = np.ones(org_test.shape[0], dtype=bool)\n",
    "\n",
    "    print(f\"[INFO] Keeping all rows: {keep_rows_mask.sum()} rows retained.\")\n",
    "    return keep_rows_mask"
   ]
  },
  {
   "cell_type": "code",
   "execution_count": 64,
   "id": "2bc31ac1",
   "metadata": {
    "execution": {
     "iopub.execute_input": "2025-08-19T18:30:05.580017Z",
     "iopub.status.busy": "2025-08-19T18:30:05.579068Z",
     "iopub.status.idle": "2025-08-19T18:30:12.343890Z",
     "shell.execute_reply": "2025-08-19T18:30:12.342897Z"
    },
    "papermill": {
     "duration": 6.783576,
     "end_time": "2025-08-19T18:30:12.347438",
     "exception": false,
     "start_time": "2025-08-19T18:30:05.563862",
     "status": "completed"
    },
    "tags": []
   },
   "outputs": [
    {
     "name": "stdout",
     "output_type": "stream",
     "text": [
      "Stopping execution_time clock.\n",
      "[INFO] Keeping all rows: 89710 rows retained.\n"
     ]
    },
    {
     "name": "stdout",
     "output_type": "stream",
     "text": [
      "[INFO] Keeping all rows: 89710 rows retained.\n"
     ]
    },
    {
     "name": "stdout",
     "output_type": "stream",
     "text": [
      "[INFO] Keeping all rows: 89710 rows retained.\n"
     ]
    },
    {
     "name": "stdout",
     "output_type": "stream",
     "text": [
      "[INFO] Keeping all rows: 89710 rows retained.\n"
     ]
    },
    {
     "data": {
      "text/html": [
       "<div>\n",
       "<style scoped>\n",
       "    .dataframe tbody tr th:only-of-type {\n",
       "        vertical-align: middle;\n",
       "    }\n",
       "\n",
       "    .dataframe tbody tr th {\n",
       "        vertical-align: top;\n",
       "    }\n",
       "\n",
       "    .dataframe thead th {\n",
       "        text-align: right;\n",
       "    }\n",
       "</style>\n",
       "<table border=\"1\" class=\"dataframe\">\n",
       "  <thead>\n",
       "    <tr style=\"text-align: right;\">\n",
       "      <th></th>\n",
       "      <th>run_no</th>\n",
       "      <th>universe_id</th>\n",
       "      <th>universe_settings</th>\n",
       "      <th>execution_time</th>\n",
       "      <th>test_size_n</th>\n",
       "      <th>test_size_frac</th>\n",
       "      <th>fair_main_equalized_odds_difference</th>\n",
       "      <th>fair_main_equalized_odds_ratio</th>\n",
       "      <th>fair_main_demographic_parity_difference</th>\n",
       "      <th>fair_main_demographic_parity_ratio</th>\n",
       "      <th>...</th>\n",
       "      <th>perf_grp_precision_0</th>\n",
       "      <th>perf_grp_precision_1</th>\n",
       "      <th>perf_grp_false positive rate_0</th>\n",
       "      <th>perf_grp_false positive rate_1</th>\n",
       "      <th>perf_grp_false negative rate_0</th>\n",
       "      <th>perf_grp_false negative rate_1</th>\n",
       "      <th>perf_grp_selection rate_0</th>\n",
       "      <th>perf_grp_selection rate_1</th>\n",
       "      <th>perf_grp_count_0</th>\n",
       "      <th>perf_grp_count_1</th>\n",
       "    </tr>\n",
       "  </thead>\n",
       "  <tbody>\n",
       "    <tr>\n",
       "      <th>0</th>\n",
       "      <td>3</td>\n",
       "      <td>2f3fa3502cc024b67f76376a81dc38f0</td>\n",
       "      <td>{\"cutoff\": \"quantile_0.1\", \"eval_fairness_grou...</td>\n",
       "      <td>27.180652</td>\n",
       "      <td>89710</td>\n",
       "      <td>1.0</td>\n",
       "      <td>0.096071</td>\n",
       "      <td>0.900034</td>\n",
       "      <td>0.084422</td>\n",
       "      <td>0.912525</td>\n",
       "      <td>...</td>\n",
       "      <td>NaN</td>\n",
       "      <td>NaN</td>\n",
       "      <td>NaN</td>\n",
       "      <td>NaN</td>\n",
       "      <td>NaN</td>\n",
       "      <td>NaN</td>\n",
       "      <td>NaN</td>\n",
       "      <td>NaN</td>\n",
       "      <td>NaN</td>\n",
       "      <td>NaN</td>\n",
       "    </tr>\n",
       "    <tr>\n",
       "      <th>0</th>\n",
       "      <td>3</td>\n",
       "      <td>2f3fa3502cc024b67f76376a81dc38f0</td>\n",
       "      <td>{\"cutoff\": \"quantile_0.1\", \"eval_fairness_grou...</td>\n",
       "      <td>27.180652</td>\n",
       "      <td>89710</td>\n",
       "      <td>1.0</td>\n",
       "      <td>0.096071</td>\n",
       "      <td>0.900034</td>\n",
       "      <td>0.084422</td>\n",
       "      <td>0.912525</td>\n",
       "      <td>...</td>\n",
       "      <td>0.119003</td>\n",
       "      <td>0.147613</td>\n",
       "      <td>0.961039</td>\n",
       "      <td>0.864968</td>\n",
       "      <td>0.003801</td>\n",
       "      <td>0.016193</td>\n",
       "      <td>0.965093</td>\n",
       "      <td>0.880671</td>\n",
       "      <td>20540.0</td>\n",
       "      <td>69170.0</td>\n",
       "    </tr>\n",
       "    <tr>\n",
       "      <th>0</th>\n",
       "      <td>3</td>\n",
       "      <td>2f3fa3502cc024b67f76376a81dc38f0</td>\n",
       "      <td>{\"cutoff\": \"quantile_0.25\", \"eval_fairness_gro...</td>\n",
       "      <td>27.180652</td>\n",
       "      <td>89710</td>\n",
       "      <td>1.0</td>\n",
       "      <td>0.071332</td>\n",
       "      <td>0.908146</td>\n",
       "      <td>0.057909</td>\n",
       "      <td>0.927126</td>\n",
       "      <td>...</td>\n",
       "      <td>NaN</td>\n",
       "      <td>NaN</td>\n",
       "      <td>NaN</td>\n",
       "      <td>NaN</td>\n",
       "      <td>NaN</td>\n",
       "      <td>NaN</td>\n",
       "      <td>NaN</td>\n",
       "      <td>NaN</td>\n",
       "      <td>NaN</td>\n",
       "      <td>NaN</td>\n",
       "    </tr>\n",
       "    <tr>\n",
       "      <th>0</th>\n",
       "      <td>3</td>\n",
       "      <td>2f3fa3502cc024b67f76376a81dc38f0</td>\n",
       "      <td>{\"cutoff\": \"quantile_0.25\", \"eval_fairness_gro...</td>\n",
       "      <td>27.180652</td>\n",
       "      <td>89710</td>\n",
       "      <td>1.0</td>\n",
       "      <td>0.071332</td>\n",
       "      <td>0.908146</td>\n",
       "      <td>0.057909</td>\n",
       "      <td>0.927126</td>\n",
       "      <td>...</td>\n",
       "      <td>0.135400</td>\n",
       "      <td>0.169231</td>\n",
       "      <td>0.776579</td>\n",
       "      <td>0.705247</td>\n",
       "      <td>0.066723</td>\n",
       "      <td>0.056455</td>\n",
       "      <td>0.794645</td>\n",
       "      <td>0.736736</td>\n",
       "      <td>20540.0</td>\n",
       "      <td>69170.0</td>\n",
       "    </tr>\n",
       "  </tbody>\n",
       "</table>\n",
       "<p>4 rows × 50 columns</p>\n",
       "</div>"
      ],
      "text/plain": [
       "  run_no                       universe_id  \\\n",
       "0      3  2f3fa3502cc024b67f76376a81dc38f0   \n",
       "0      3  2f3fa3502cc024b67f76376a81dc38f0   \n",
       "0      3  2f3fa3502cc024b67f76376a81dc38f0   \n",
       "0      3  2f3fa3502cc024b67f76376a81dc38f0   \n",
       "\n",
       "                                   universe_settings  execution_time  \\\n",
       "0  {\"cutoff\": \"quantile_0.1\", \"eval_fairness_grou...       27.180652   \n",
       "0  {\"cutoff\": \"quantile_0.1\", \"eval_fairness_grou...       27.180652   \n",
       "0  {\"cutoff\": \"quantile_0.25\", \"eval_fairness_gro...       27.180652   \n",
       "0  {\"cutoff\": \"quantile_0.25\", \"eval_fairness_gro...       27.180652   \n",
       "\n",
       "   test_size_n  test_size_frac  fair_main_equalized_odds_difference  \\\n",
       "0        89710             1.0                             0.096071   \n",
       "0        89710             1.0                             0.096071   \n",
       "0        89710             1.0                             0.071332   \n",
       "0        89710             1.0                             0.071332   \n",
       "\n",
       "   fair_main_equalized_odds_ratio  fair_main_demographic_parity_difference  \\\n",
       "0                        0.900034                                 0.084422   \n",
       "0                        0.900034                                 0.084422   \n",
       "0                        0.908146                                 0.057909   \n",
       "0                        0.908146                                 0.057909   \n",
       "\n",
       "   fair_main_demographic_parity_ratio  ...  perf_grp_precision_0  \\\n",
       "0                            0.912525  ...                   NaN   \n",
       "0                            0.912525  ...              0.119003   \n",
       "0                            0.927126  ...                   NaN   \n",
       "0                            0.927126  ...              0.135400   \n",
       "\n",
       "   perf_grp_precision_1  perf_grp_false positive rate_0  \\\n",
       "0                   NaN                             NaN   \n",
       "0              0.147613                        0.961039   \n",
       "0                   NaN                             NaN   \n",
       "0              0.169231                        0.776579   \n",
       "\n",
       "   perf_grp_false positive rate_1  perf_grp_false negative rate_0  \\\n",
       "0                             NaN                             NaN   \n",
       "0                        0.864968                        0.003801   \n",
       "0                             NaN                             NaN   \n",
       "0                        0.705247                        0.066723   \n",
       "\n",
       "   perf_grp_false negative rate_1  perf_grp_selection rate_0  \\\n",
       "0                             NaN                        NaN   \n",
       "0                        0.016193                   0.965093   \n",
       "0                             NaN                        NaN   \n",
       "0                        0.056455                   0.794645   \n",
       "\n",
       "   perf_grp_selection rate_1  perf_grp_count_0  perf_grp_count_1  \n",
       "0                        NaN               NaN               NaN  \n",
       "0                   0.880671           20540.0           69170.0  \n",
       "0                        NaN               NaN               NaN  \n",
       "0                   0.736736           20540.0           69170.0  \n",
       "\n",
       "[4 rows x 50 columns]"
      ]
     },
     "execution_count": 64,
     "metadata": {},
     "output_type": "execute_result"
    }
   ],
   "source": [
    "final_output = universe_analysis.generate_final_output(\n",
    "    y_pred_prob=probs_test,\n",
    "    y_test=y_true,\n",
    "    org_test=org_test,\n",
    "    filter_data=filter_sub_universe_data,\n",
    "    cp_metrics_df=cp_metrics_df,\n",
    "    save=True,\n",
    ")\n",
    "final_output"
   ]
  },
  {
   "cell_type": "code",
   "execution_count": null,
   "id": "8b80a1ff",
   "metadata": {
    "papermill": {
     "duration": 0.015436,
     "end_time": "2025-08-19T18:30:12.394922",
     "exception": false,
     "start_time": "2025-08-19T18:30:12.379486",
     "status": "completed"
    },
    "tags": []
   },
   "outputs": [],
   "source": []
  },
  {
   "cell_type": "code",
   "execution_count": null,
   "id": "275c9fad",
   "metadata": {
    "papermill": {
     "duration": 0.02394,
     "end_time": "2025-08-19T18:30:12.433422",
     "exception": false,
     "start_time": "2025-08-19T18:30:12.409482",
     "status": "completed"
    },
    "tags": []
   },
   "outputs": [],
   "source": []
  }
 ],
 "metadata": {
  "celltoolbar": "Tags",
  "kernelspec": {
   "display_name": "Python (CMA Fairness)",
   "language": "python",
   "name": "cma_fair_env"
  },
  "language_info": {
   "codemirror_mode": {
    "name": "ipython",
    "version": 3
   },
   "file_extension": ".py",
   "mimetype": "text/x-python",
   "name": "python",
   "nbconvert_exporter": "python",
   "pygments_lexer": "ipython3",
   "version": "3.10.12"
  },
  "papermill": {
   "default_parameters": {},
   "duration": 37.497229,
   "end_time": "2025-08-19T18:30:13.281621",
   "environment_variables": {},
   "exception": null,
   "input_path": "universe_analysis.ipynb",
   "output_path": "output/runs/3/notebooks/m_3-2f3fa3502cc024b67f76376a81dc38f0.ipynb",
   "parameters": {
    "output_dir": "output",
    "run_no": "3",
    "seed": "2023",
    "universe": "{\"cutoff\": [\"quantile_0.1\", \"quantile_0.25\"], \"eval_fairness_grouping\": [\"majority-minority\", \"nationality-all\"], \"exclude_features\": \"sex\", \"exclude_subgroups\": \"keep-all\", \"model\": \"gbm\", \"scale\": \"do-not-scale\", \"training_size\": \"5k\", \"training_year\": \"2014\"}",
    "universe_id": "2f3fa3502cc024b67f76376a81dc38f0"
   },
   "start_time": "2025-08-19T18:29:35.784392",
   "version": "2.6.0"
  }
 },
 "nbformat": 4,
 "nbformat_minor": 5
}