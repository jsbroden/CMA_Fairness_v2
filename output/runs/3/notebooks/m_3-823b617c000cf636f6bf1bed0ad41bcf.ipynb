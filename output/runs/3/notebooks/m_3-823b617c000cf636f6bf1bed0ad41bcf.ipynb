{
 "cells": [
  {
   "cell_type": "markdown",
   "id": "ef23dbb3",
   "metadata": {
    "papermill": {
     "duration": 0.023093,
     "end_time": "2025-08-19T18:55:27.642755",
     "exception": false,
     "start_time": "2025-08-19T18:55:27.619662",
     "status": "completed"
    },
    "tags": []
   },
   "source": [
    "# Setup"
   ]
  },
  {
   "cell_type": "code",
   "execution_count": 1,
   "id": "0bc8e7dc",
   "metadata": {
    "execution": {
     "iopub.execute_input": "2025-08-19T18:55:27.668037Z",
     "iopub.status.busy": "2025-08-19T18:55:27.667311Z",
     "iopub.status.idle": "2025-08-19T18:55:27.688046Z",
     "shell.execute_reply": "2025-08-19T18:55:27.686744Z"
    },
    "papermill": {
     "duration": 0.035182,
     "end_time": "2025-08-19T18:55:27.690128",
     "exception": false,
     "start_time": "2025-08-19T18:55:27.654946",
     "status": "completed"
    },
    "tags": []
   },
   "outputs": [
    {
     "name": "stdout",
     "output_type": "stream",
     "text": [
      "/dss/dsshome1/0C/ra93lal2/cma/CMA_Fairness_v2\n"
     ]
    },
    {
     "name": "stderr",
     "output_type": "stream",
     "text": [
      "/dss/dsshome1/0C/ra93lal2/.local/share/virtualenvs/CMA_Fairness_v2-3j10GkSs/lib/python3.10/site-packages/IPython/core/magics/osm.py:393: UserWarning: This is now an optional IPython functionality, using bookmarks requires you to install the `pickleshare` library.\n",
      "  bkms = self.shell.db.get('bookmarks', {})\n",
      "/dss/dsshome1/0C/ra93lal2/.local/share/virtualenvs/CMA_Fairness_v2-3j10GkSs/lib/python3.10/site-packages/IPython/core/magics/osm.py:417: UserWarning: This is now an optional IPython functionality, setting dhist requires you to install the `pickleshare` library.\n",
      "  self.shell.db['dhist'] = compress_dhist(dhist)[-100:]\n"
     ]
    }
   ],
   "source": [
    "%cd ~/cma/CMA_Fairness_v2"
   ]
  },
  {
   "cell_type": "markdown",
   "id": "9d235661",
   "metadata": {
    "papermill": {
     "duration": 0.011796,
     "end_time": "2025-08-19T18:55:27.719248",
     "exception": false,
     "start_time": "2025-08-19T18:55:27.707452",
     "status": "completed"
    },
    "tags": []
   },
   "source": [
    "The following cell holds the definition of our parameters, these values can be overriden by rendering the with e.g. the following command:\n",
    "\n",
    "papermill -p alpha 0.2 -p ratio 0.3 universe_analysis.ipynb output/test_run.ipynb"
   ]
  },
  {
   "cell_type": "code",
   "execution_count": 2,
   "id": "4a789d8e",
   "metadata": {
    "execution": {
     "iopub.execute_input": "2025-08-19T18:55:27.739092Z",
     "iopub.status.busy": "2025-08-19T18:55:27.738377Z",
     "iopub.status.idle": "2025-08-19T18:55:27.748252Z",
     "shell.execute_reply": "2025-08-19T18:55:27.746955Z"
    },
    "papermill": {
     "duration": 0.02209,
     "end_time": "2025-08-19T18:55:27.750072",
     "exception": false,
     "start_time": "2025-08-19T18:55:27.727982",
     "status": "completed"
    },
    "tags": []
   },
   "outputs": [
    {
     "name": "stdout",
     "output_type": "stream",
     "text": [
      "Current working directory: /dss/dsshome1/0C/ra93lal2/cma/CMA_Fairness_v2\n"
     ]
    }
   ],
   "source": [
    "import os\n",
    "print(\"Current working directory:\", os.getcwd())"
   ]
  },
  {
   "cell_type": "code",
   "execution_count": 3,
   "id": "4132aaed",
   "metadata": {
    "execution": {
     "iopub.execute_input": "2025-08-19T18:55:27.770956Z",
     "iopub.status.busy": "2025-08-19T18:55:27.770595Z",
     "iopub.status.idle": "2025-08-19T18:55:27.775851Z",
     "shell.execute_reply": "2025-08-19T18:55:27.775167Z"
    },
    "papermill": {
     "duration": 0.017002,
     "end_time": "2025-08-19T18:55:27.777271",
     "exception": false,
     "start_time": "2025-08-19T18:55:27.760269",
     "status": "completed"
    },
    "tags": [
     "parameters"
    ]
   },
   "outputs": [],
   "source": [
    "run_no = 0\n",
    "universe_id = \"test\"\n",
    "universe = {\n",
    "    \"training_size\": \"5k\", # \"25k\", \"5k\", \"1k\"\n",
    "    \"training_year\": \"2012_14\", # \"2014\", \"2012_14\", \"2010_14\"\n",
    "    \"scale\": \"scale\", # \"scale\", \"do-not-scale\",\n",
    "    \"model\": \"elasticnet\", # \"logreg\", \"penalized_logreg\", \"rf\", \"gbm\", \"elasticnet\"\n",
    "    \"cutoff\": [\"quantile_0.15\", \"quantile_0.30\"],\n",
    "    \"exclude_features\": \"age\", # \"none\", \"nationality\", \"sex\", \"nationality-sex\", \"age\"\n",
    "    \"exclude_subgroups\": \"drop-non-german\", # \"keep-all\", \"drop-non-german\"\n",
    "    \"eval_fairness_grouping\": [\"majority-minority\", \"nationality-all\"]\n",
    "}\n",
    "\n",
    "output_dir=\"./output\"\n",
    "seed=0"
   ]
  },
  {
   "cell_type": "code",
   "execution_count": 4,
   "id": "128b33fe",
   "metadata": {
    "execution": {
     "iopub.execute_input": "2025-08-19T18:55:27.797123Z",
     "iopub.status.busy": "2025-08-19T18:55:27.796738Z",
     "iopub.status.idle": "2025-08-19T18:55:27.800900Z",
     "shell.execute_reply": "2025-08-19T18:55:27.800203Z"
    },
    "papermill": {
     "duration": 0.015702,
     "end_time": "2025-08-19T18:55:27.802251",
     "exception": false,
     "start_time": "2025-08-19T18:55:27.786549",
     "status": "completed"
    },
    "tags": [
     "injected-parameters"
    ]
   },
   "outputs": [],
   "source": [
    "# Parameters\n",
    "universe_id = \"823b617c000cf636f6bf1bed0ad41bcf\"\n",
    "run_no = \"3\"\n",
    "universe = \"{\\\"cutoff\\\": [\\\"quantile_0.1\\\", \\\"quantile_0.25\\\"], \\\"eval_fairness_grouping\\\": [\\\"majority-minority\\\", \\\"nationality-all\\\"], \\\"exclude_features\\\": \\\"nationality-sex\\\", \\\"exclude_subgroups\\\": \\\"drop-non-german\\\", \\\"model\\\": \\\"gbm\\\", \\\"scale\\\": \\\"do-not-scale\\\", \\\"training_size\\\": \\\"1k\\\", \\\"training_year\\\": \\\"2014\\\"}\"\n",
    "output_dir = \"output\"\n",
    "seed = \"2023\"\n"
   ]
  },
  {
   "cell_type": "code",
   "execution_count": 5,
   "id": "a5d7941f",
   "metadata": {
    "execution": {
     "iopub.execute_input": "2025-08-19T18:55:27.822169Z",
     "iopub.status.busy": "2025-08-19T18:55:27.821777Z",
     "iopub.status.idle": "2025-08-19T18:55:27.825879Z",
     "shell.execute_reply": "2025-08-19T18:55:27.825200Z"
    },
    "papermill": {
     "duration": 0.015728,
     "end_time": "2025-08-19T18:55:27.827229",
     "exception": false,
     "start_time": "2025-08-19T18:55:27.811501",
     "status": "completed"
    },
    "tags": []
   },
   "outputs": [],
   "source": [
    "import json\n",
    "if isinstance(universe, str):\n",
    "    universe = json.loads(universe)"
   ]
  },
  {
   "cell_type": "code",
   "execution_count": 6,
   "id": "7076ccb1",
   "metadata": {
    "execution": {
     "iopub.execute_input": "2025-08-19T18:55:27.847501Z",
     "iopub.status.busy": "2025-08-19T18:55:27.847189Z",
     "iopub.status.idle": "2025-08-19T18:55:27.883968Z",
     "shell.execute_reply": "2025-08-19T18:55:27.883205Z"
    },
    "papermill": {
     "duration": 0.048509,
     "end_time": "2025-08-19T18:55:27.885469",
     "exception": false,
     "start_time": "2025-08-19T18:55:27.836960",
     "status": "completed"
    },
    "tags": []
   },
   "outputs": [],
   "source": [
    "# Auto-reload the custom package\n",
    "%load_ext autoreload\n",
    "%autoreload 1\n",
    "%aimport fairness_multiverse"
   ]
  },
  {
   "cell_type": "code",
   "execution_count": 7,
   "id": "94c8eb93",
   "metadata": {
    "execution": {
     "iopub.execute_input": "2025-08-19T18:55:27.909266Z",
     "iopub.status.busy": "2025-08-19T18:55:27.908841Z",
     "iopub.status.idle": "2025-08-19T18:55:29.503306Z",
     "shell.execute_reply": "2025-08-19T18:55:29.502175Z"
    },
    "papermill": {
     "duration": 1.609295,
     "end_time": "2025-08-19T18:55:29.504939",
     "exception": false,
     "start_time": "2025-08-19T18:55:27.895644",
     "status": "completed"
    },
    "tags": []
   },
   "outputs": [],
   "source": [
    "from fairness_multiverse.universe import UniverseAnalysis\n",
    "\n",
    "universe_analysis = UniverseAnalysis(\n",
    "    run_no = run_no,\n",
    "    universe_id = universe_id,\n",
    "    universe = universe,\n",
    "    output_dir=output_dir,\n",
    ")"
   ]
  },
  {
   "cell_type": "code",
   "execution_count": 8,
   "id": "2a6381cf",
   "metadata": {
    "execution": {
     "iopub.execute_input": "2025-08-19T18:55:29.528168Z",
     "iopub.status.busy": "2025-08-19T18:55:29.526827Z",
     "iopub.status.idle": "2025-08-19T18:55:29.535789Z",
     "shell.execute_reply": "2025-08-19T18:55:29.534866Z"
    },
    "papermill": {
     "duration": 0.022695,
     "end_time": "2025-08-19T18:55:29.537269",
     "exception": false,
     "start_time": "2025-08-19T18:55:29.514574",
     "status": "completed"
    },
    "tags": []
   },
   "outputs": [
    {
     "name": "stdout",
     "output_type": "stream",
     "text": [
      "Using Seed: 2023\n"
     ]
    }
   ],
   "source": [
    "import numpy as np\n",
    "parsed_seed = int(seed)\n",
    "np.random.seed(parsed_seed)\n",
    "print(f\"Using Seed: {parsed_seed}\")"
   ]
  },
  {
   "cell_type": "markdown",
   "id": "b6e958b4",
   "metadata": {
    "papermill": {
     "duration": 0.010219,
     "end_time": "2025-08-19T18:55:29.558868",
     "exception": false,
     "start_time": "2025-08-19T18:55:29.548649",
     "status": "completed"
    },
    "tags": []
   },
   "source": [
    "# Loading Data"
   ]
  },
  {
   "cell_type": "code",
   "execution_count": 9,
   "id": "98701482",
   "metadata": {
    "execution": {
     "iopub.execute_input": "2025-08-19T18:55:29.579071Z",
     "iopub.status.busy": "2025-08-19T18:55:29.578533Z",
     "iopub.status.idle": "2025-08-19T18:55:39.872065Z",
     "shell.execute_reply": "2025-08-19T18:55:39.870589Z"
    },
    "papermill": {
     "duration": 10.305494,
     "end_time": "2025-08-19T18:55:39.873507",
     "exception": false,
     "start_time": "2025-08-19T18:55:29.568013",
     "status": "completed"
    },
    "tags": []
   },
   "outputs": [
    {
     "name": "stdout",
     "output_type": "stream",
     "text": [
      "Loading SIAB data from cache: data/siab_cached.csv.gz\n"
     ]
    },
    {
     "name": "stdout",
     "output_type": "stream",
     "text": [
      "(643690, 164)\n"
     ]
    }
   ],
   "source": [
    "from pathlib import Path\n",
    "import pandas as pd\n",
    "\n",
    "# File paths\n",
    "raw_file = Path(\"data/raw/siab.csv\")\n",
    "cache_file = Path(\"data/siab_cached.csv.gz\")\n",
    "\n",
    "# Ensure cache directory exists\n",
    "cache_file.parent.mkdir(parents=True, exist_ok=True)\n",
    "\n",
    "# Load with simple caching\n",
    "if cache_file.exists():\n",
    "    print(f\"Loading SIAB data from cache: {cache_file}\")\n",
    "    siab = pd.read_csv(cache_file, compression='gzip')\n",
    "else:\n",
    "    print(f\"Cache not found. Reading raw SIAB data: {raw_file}\")\n",
    "    siab = pd.read_csv(raw_file)\n",
    "    siab.to_csv(cache_file, index=False, compression='gzip')\n",
    "    print(f\"Cached SIAB data to: {cache_file}\")\n",
    "\n",
    "print(siab.shape)"
   ]
  },
  {
   "cell_type": "code",
   "execution_count": 10,
   "id": "058d2abb",
   "metadata": {
    "execution": {
     "iopub.execute_input": "2025-08-19T18:55:39.898733Z",
     "iopub.status.busy": "2025-08-19T18:55:39.898203Z",
     "iopub.status.idle": "2025-08-19T18:55:40.103420Z",
     "shell.execute_reply": "2025-08-19T18:55:40.102674Z"
    },
    "papermill": {
     "duration": 0.21854,
     "end_time": "2025-08-19T18:55:40.104778",
     "exception": false,
     "start_time": "2025-08-19T18:55:39.886238",
     "status": "completed"
    },
    "tags": []
   },
   "outputs": [
    {
     "data": {
      "text/html": [
       "<div>\n",
       "<style scoped>\n",
       "    .dataframe tbody tr th:only-of-type {\n",
       "        vertical-align: middle;\n",
       "    }\n",
       "\n",
       "    .dataframe tbody tr th {\n",
       "        vertical-align: top;\n",
       "    }\n",
       "\n",
       "    .dataframe thead th {\n",
       "        text-align: right;\n",
       "    }\n",
       "</style>\n",
       "<table border=\"1\" class=\"dataframe\">\n",
       "  <thead>\n",
       "    <tr style=\"text-align: right;\">\n",
       "      <th></th>\n",
       "      <th>persnr</th>\n",
       "      <th>year</th>\n",
       "      <th>nrEntry</th>\n",
       "      <th>ltue</th>\n",
       "      <th>employed_before</th>\n",
       "      <th>receipt_leh_before</th>\n",
       "      <th>receipt_lhg_before</th>\n",
       "      <th>se_before</th>\n",
       "      <th>ASU_notue_seeking_before</th>\n",
       "      <th>ASU_other_before</th>\n",
       "      <th>...</th>\n",
       "      <th>minijob_tot_dur_byage</th>\n",
       "      <th>ft_tot_dur_byage</th>\n",
       "      <th>befrist_tot_dur_byage</th>\n",
       "      <th>leih_tot_dur_byage</th>\n",
       "      <th>LHG_tot_dur_byage</th>\n",
       "      <th>LEH_tot_dur_byage</th>\n",
       "      <th>almp_tot_dur_byage</th>\n",
       "      <th>almp_aw_tot_dur_byage</th>\n",
       "      <th>se_tot_dur_byage</th>\n",
       "      <th>seeking1_tot_dur_byage</th>\n",
       "    </tr>\n",
       "  </thead>\n",
       "  <tbody>\n",
       "    <tr>\n",
       "      <th>0</th>\n",
       "      <td>7</td>\n",
       "      <td>2015</td>\n",
       "      <td>1</td>\n",
       "      <td>0</td>\n",
       "      <td>1</td>\n",
       "      <td>0</td>\n",
       "      <td>0</td>\n",
       "      <td>0</td>\n",
       "      <td>1</td>\n",
       "      <td>0</td>\n",
       "      <td>...</td>\n",
       "      <td>0.000000</td>\n",
       "      <td>0.000000</td>\n",
       "      <td>15.043478</td>\n",
       "      <td>0.000000</td>\n",
       "      <td>0.000000</td>\n",
       "      <td>0.000000</td>\n",
       "      <td>0.000000</td>\n",
       "      <td>0.000000</td>\n",
       "      <td>0.000000</td>\n",
       "      <td>0.000000</td>\n",
       "    </tr>\n",
       "    <tr>\n",
       "      <th>1</th>\n",
       "      <td>18</td>\n",
       "      <td>2010</td>\n",
       "      <td>1</td>\n",
       "      <td>1</td>\n",
       "      <td>0</td>\n",
       "      <td>0</td>\n",
       "      <td>0</td>\n",
       "      <td>0</td>\n",
       "      <td>0</td>\n",
       "      <td>0</td>\n",
       "      <td>...</td>\n",
       "      <td>0.000000</td>\n",
       "      <td>0.000000</td>\n",
       "      <td>0.000000</td>\n",
       "      <td>0.000000</td>\n",
       "      <td>0.000000</td>\n",
       "      <td>0.000000</td>\n",
       "      <td>0.000000</td>\n",
       "      <td>0.000000</td>\n",
       "      <td>0.000000</td>\n",
       "      <td>0.000000</td>\n",
       "    </tr>\n",
       "    <tr>\n",
       "      <th>2</th>\n",
       "      <td>18</td>\n",
       "      <td>2011</td>\n",
       "      <td>2</td>\n",
       "      <td>0</td>\n",
       "      <td>1</td>\n",
       "      <td>0</td>\n",
       "      <td>1</td>\n",
       "      <td>0</td>\n",
       "      <td>1</td>\n",
       "      <td>0</td>\n",
       "      <td>...</td>\n",
       "      <td>2.714286</td>\n",
       "      <td>2.714286</td>\n",
       "      <td>0.000000</td>\n",
       "      <td>0.000000</td>\n",
       "      <td>10.775510</td>\n",
       "      <td>0.000000</td>\n",
       "      <td>8.367347</td>\n",
       "      <td>0.000000</td>\n",
       "      <td>0.000000</td>\n",
       "      <td>9.836735</td>\n",
       "    </tr>\n",
       "    <tr>\n",
       "      <th>3</th>\n",
       "      <td>18</td>\n",
       "      <td>2012</td>\n",
       "      <td>3</td>\n",
       "      <td>0</td>\n",
       "      <td>1</td>\n",
       "      <td>0</td>\n",
       "      <td>1</td>\n",
       "      <td>0</td>\n",
       "      <td>1</td>\n",
       "      <td>0</td>\n",
       "      <td>...</td>\n",
       "      <td>4.200000</td>\n",
       "      <td>4.200000</td>\n",
       "      <td>0.000000</td>\n",
       "      <td>0.000000</td>\n",
       "      <td>12.100000</td>\n",
       "      <td>0.000000</td>\n",
       "      <td>9.400000</td>\n",
       "      <td>0.000000</td>\n",
       "      <td>0.000000</td>\n",
       "      <td>9.960000</td>\n",
       "    </tr>\n",
       "    <tr>\n",
       "      <th>4</th>\n",
       "      <td>18</td>\n",
       "      <td>2012</td>\n",
       "      <td>4</td>\n",
       "      <td>0</td>\n",
       "      <td>1</td>\n",
       "      <td>0</td>\n",
       "      <td>1</td>\n",
       "      <td>0</td>\n",
       "      <td>1</td>\n",
       "      <td>0</td>\n",
       "      <td>...</td>\n",
       "      <td>5.460000</td>\n",
       "      <td>5.460000</td>\n",
       "      <td>0.000000</td>\n",
       "      <td>0.000000</td>\n",
       "      <td>13.360000</td>\n",
       "      <td>0.000000</td>\n",
       "      <td>10.320000</td>\n",
       "      <td>0.000000</td>\n",
       "      <td>0.000000</td>\n",
       "      <td>10.280000</td>\n",
       "    </tr>\n",
       "    <tr>\n",
       "      <th>...</th>\n",
       "      <td>...</td>\n",
       "      <td>...</td>\n",
       "      <td>...</td>\n",
       "      <td>...</td>\n",
       "      <td>...</td>\n",
       "      <td>...</td>\n",
       "      <td>...</td>\n",
       "      <td>...</td>\n",
       "      <td>...</td>\n",
       "      <td>...</td>\n",
       "      <td>...</td>\n",
       "      <td>...</td>\n",
       "      <td>...</td>\n",
       "      <td>...</td>\n",
       "      <td>...</td>\n",
       "      <td>...</td>\n",
       "      <td>...</td>\n",
       "      <td>...</td>\n",
       "      <td>...</td>\n",
       "      <td>...</td>\n",
       "      <td>...</td>\n",
       "    </tr>\n",
       "    <tr>\n",
       "      <th>643685</th>\n",
       "      <td>1827860</td>\n",
       "      <td>2013</td>\n",
       "      <td>1</td>\n",
       "      <td>0</td>\n",
       "      <td>0</td>\n",
       "      <td>0</td>\n",
       "      <td>1</td>\n",
       "      <td>0</td>\n",
       "      <td>0</td>\n",
       "      <td>1</td>\n",
       "      <td>...</td>\n",
       "      <td>0.000000</td>\n",
       "      <td>0.000000</td>\n",
       "      <td>0.000000</td>\n",
       "      <td>0.000000</td>\n",
       "      <td>0.612903</td>\n",
       "      <td>0.000000</td>\n",
       "      <td>0.000000</td>\n",
       "      <td>0.000000</td>\n",
       "      <td>0.000000</td>\n",
       "      <td>0.000000</td>\n",
       "    </tr>\n",
       "    <tr>\n",
       "      <th>643686</th>\n",
       "      <td>1827860</td>\n",
       "      <td>2015</td>\n",
       "      <td>2</td>\n",
       "      <td>1</td>\n",
       "      <td>0</td>\n",
       "      <td>0</td>\n",
       "      <td>1</td>\n",
       "      <td>0</td>\n",
       "      <td>1</td>\n",
       "      <td>0</td>\n",
       "      <td>...</td>\n",
       "      <td>0.000000</td>\n",
       "      <td>0.000000</td>\n",
       "      <td>0.212121</td>\n",
       "      <td>0.212121</td>\n",
       "      <td>17.363636</td>\n",
       "      <td>0.000000</td>\n",
       "      <td>8.909091</td>\n",
       "      <td>0.000000</td>\n",
       "      <td>0.000000</td>\n",
       "      <td>7.121212</td>\n",
       "    </tr>\n",
       "    <tr>\n",
       "      <th>643687</th>\n",
       "      <td>1827860</td>\n",
       "      <td>2016</td>\n",
       "      <td>3</td>\n",
       "      <td>1</td>\n",
       "      <td>0</td>\n",
       "      <td>0</td>\n",
       "      <td>1</td>\n",
       "      <td>1</td>\n",
       "      <td>0</td>\n",
       "      <td>1</td>\n",
       "      <td>...</td>\n",
       "      <td>0.000000</td>\n",
       "      <td>0.000000</td>\n",
       "      <td>0.294118</td>\n",
       "      <td>0.205882</td>\n",
       "      <td>34.705882</td>\n",
       "      <td>0.000000</td>\n",
       "      <td>10.352941</td>\n",
       "      <td>1.705882</td>\n",
       "      <td>1.705882</td>\n",
       "      <td>23.911765</td>\n",
       "    </tr>\n",
       "    <tr>\n",
       "      <th>643688</th>\n",
       "      <td>1827869</td>\n",
       "      <td>2013</td>\n",
       "      <td>1</td>\n",
       "      <td>1</td>\n",
       "      <td>1</td>\n",
       "      <td>0</td>\n",
       "      <td>0</td>\n",
       "      <td>0</td>\n",
       "      <td>1</td>\n",
       "      <td>0</td>\n",
       "      <td>...</td>\n",
       "      <td>0.000000</td>\n",
       "      <td>0.000000</td>\n",
       "      <td>0.000000</td>\n",
       "      <td>0.000000</td>\n",
       "      <td>0.000000</td>\n",
       "      <td>0.525424</td>\n",
       "      <td>0.000000</td>\n",
       "      <td>0.000000</td>\n",
       "      <td>0.000000</td>\n",
       "      <td>0.000000</td>\n",
       "    </tr>\n",
       "    <tr>\n",
       "      <th>643689</th>\n",
       "      <td>1827869</td>\n",
       "      <td>2014</td>\n",
       "      <td>2</td>\n",
       "      <td>0</td>\n",
       "      <td>0</td>\n",
       "      <td>1</td>\n",
       "      <td>0</td>\n",
       "      <td>0</td>\n",
       "      <td>1</td>\n",
       "      <td>0</td>\n",
       "      <td>...</td>\n",
       "      <td>0.000000</td>\n",
       "      <td>0.666667</td>\n",
       "      <td>0.666667</td>\n",
       "      <td>0.000000</td>\n",
       "      <td>0.000000</td>\n",
       "      <td>8.950000</td>\n",
       "      <td>1.033333</td>\n",
       "      <td>0.083333</td>\n",
       "      <td>0.083333</td>\n",
       "      <td>8.133333</td>\n",
       "    </tr>\n",
       "  </tbody>\n",
       "</table>\n",
       "<p>643690 rows × 164 columns</p>\n",
       "</div>"
      ],
      "text/plain": [
       "         persnr  year  nrEntry  ltue  employed_before  receipt_leh_before  \\\n",
       "0             7  2015        1     0                1                   0   \n",
       "1            18  2010        1     1                0                   0   \n",
       "2            18  2011        2     0                1                   0   \n",
       "3            18  2012        3     0                1                   0   \n",
       "4            18  2012        4     0                1                   0   \n",
       "...         ...   ...      ...   ...              ...                 ...   \n",
       "643685  1827860  2013        1     0                0                   0   \n",
       "643686  1827860  2015        2     1                0                   0   \n",
       "643687  1827860  2016        3     1                0                   0   \n",
       "643688  1827869  2013        1     1                1                   0   \n",
       "643689  1827869  2014        2     0                0                   1   \n",
       "\n",
       "        receipt_lhg_before  se_before  ASU_notue_seeking_before  \\\n",
       "0                        0          0                         1   \n",
       "1                        0          0                         0   \n",
       "2                        1          0                         1   \n",
       "3                        1          0                         1   \n",
       "4                        1          0                         1   \n",
       "...                    ...        ...                       ...   \n",
       "643685                   1          0                         0   \n",
       "643686                   1          0                         1   \n",
       "643687                   1          1                         0   \n",
       "643688                   0          0                         1   \n",
       "643689                   0          0                         1   \n",
       "\n",
       "        ASU_other_before  ...  minijob_tot_dur_byage  ft_tot_dur_byage  \\\n",
       "0                      0  ...               0.000000          0.000000   \n",
       "1                      0  ...               0.000000          0.000000   \n",
       "2                      0  ...               2.714286          2.714286   \n",
       "3                      0  ...               4.200000          4.200000   \n",
       "4                      0  ...               5.460000          5.460000   \n",
       "...                  ...  ...                    ...               ...   \n",
       "643685                 1  ...               0.000000          0.000000   \n",
       "643686                 0  ...               0.000000          0.000000   \n",
       "643687                 1  ...               0.000000          0.000000   \n",
       "643688                 0  ...               0.000000          0.000000   \n",
       "643689                 0  ...               0.000000          0.666667   \n",
       "\n",
       "        befrist_tot_dur_byage  leih_tot_dur_byage  LHG_tot_dur_byage  \\\n",
       "0                   15.043478            0.000000           0.000000   \n",
       "1                    0.000000            0.000000           0.000000   \n",
       "2                    0.000000            0.000000          10.775510   \n",
       "3                    0.000000            0.000000          12.100000   \n",
       "4                    0.000000            0.000000          13.360000   \n",
       "...                       ...                 ...                ...   \n",
       "643685               0.000000            0.000000           0.612903   \n",
       "643686               0.212121            0.212121          17.363636   \n",
       "643687               0.294118            0.205882          34.705882   \n",
       "643688               0.000000            0.000000           0.000000   \n",
       "643689               0.666667            0.000000           0.000000   \n",
       "\n",
       "        LEH_tot_dur_byage  almp_tot_dur_byage  almp_aw_tot_dur_byage  \\\n",
       "0                0.000000            0.000000               0.000000   \n",
       "1                0.000000            0.000000               0.000000   \n",
       "2                0.000000            8.367347               0.000000   \n",
       "3                0.000000            9.400000               0.000000   \n",
       "4                0.000000           10.320000               0.000000   \n",
       "...                   ...                 ...                    ...   \n",
       "643685           0.000000            0.000000               0.000000   \n",
       "643686           0.000000            8.909091               0.000000   \n",
       "643687           0.000000           10.352941               1.705882   \n",
       "643688           0.525424            0.000000               0.000000   \n",
       "643689           8.950000            1.033333               0.083333   \n",
       "\n",
       "        se_tot_dur_byage  seeking1_tot_dur_byage  \n",
       "0               0.000000                0.000000  \n",
       "1               0.000000                0.000000  \n",
       "2               0.000000                9.836735  \n",
       "3               0.000000                9.960000  \n",
       "4               0.000000               10.280000  \n",
       "...                  ...                     ...  \n",
       "643685          0.000000                0.000000  \n",
       "643686          0.000000                7.121212  \n",
       "643687          1.705882               23.911765  \n",
       "643688          0.000000                0.000000  \n",
       "643689          0.083333                8.133333  \n",
       "\n",
       "[643690 rows x 164 columns]"
      ]
     },
     "execution_count": 10,
     "metadata": {},
     "output_type": "execute_result"
    }
   ],
   "source": [
    "siab"
   ]
  },
  {
   "cell_type": "markdown",
   "id": "1f87e805",
   "metadata": {
    "papermill": {
     "duration": 0.010099,
     "end_time": "2025-08-19T18:55:40.125306",
     "exception": false,
     "start_time": "2025-08-19T18:55:40.115207",
     "status": "completed"
    },
    "tags": []
   },
   "source": [
    "# Splitting Data and Setting Training Data Size"
   ]
  },
  {
   "cell_type": "code",
   "execution_count": 11,
   "id": "910ae358",
   "metadata": {
    "execution": {
     "iopub.execute_input": "2025-08-19T18:55:40.148062Z",
     "iopub.status.busy": "2025-08-19T18:55:40.146957Z",
     "iopub.status.idle": "2025-08-19T18:55:40.433171Z",
     "shell.execute_reply": "2025-08-19T18:55:40.432372Z"
    },
    "papermill": {
     "duration": 0.299395,
     "end_time": "2025-08-19T18:55:40.434756",
     "exception": false,
     "start_time": "2025-08-19T18:55:40.135361",
     "status": "completed"
    },
    "tags": []
   },
   "outputs": [],
   "source": [
    "from fairness_multiverse.universe import sample_by_year_size\n",
    "\n",
    "siab_train = sample_by_year_size(siab,\n",
    "                               training_year=universe[\"training_year\"],\n",
    "                               training_size=universe[\"training_size\"])"
   ]
  },
  {
   "cell_type": "code",
   "execution_count": 12,
   "id": "919c8ff5",
   "metadata": {
    "execution": {
     "iopub.execute_input": "2025-08-19T18:55:40.465076Z",
     "iopub.status.busy": "2025-08-19T18:55:40.462238Z",
     "iopub.status.idle": "2025-08-19T18:55:40.470073Z",
     "shell.execute_reply": "2025-08-19T18:55:40.469361Z"
    },
    "papermill": {
     "duration": 0.020706,
     "end_time": "2025-08-19T18:55:40.471447",
     "exception": false,
     "start_time": "2025-08-19T18:55:40.450741",
     "status": "completed"
    },
    "tags": []
   },
   "outputs": [
    {
     "data": {
      "text/plain": [
       "(1000, 164)"
      ]
     },
     "execution_count": 12,
     "metadata": {},
     "output_type": "execute_result"
    }
   ],
   "source": [
    "siab_train.shape"
   ]
  },
  {
   "cell_type": "code",
   "execution_count": 13,
   "id": "feb13bf4",
   "metadata": {
    "execution": {
     "iopub.execute_input": "2025-08-19T18:55:40.493948Z",
     "iopub.status.busy": "2025-08-19T18:55:40.493526Z",
     "iopub.status.idle": "2025-08-19T18:55:40.504153Z",
     "shell.execute_reply": "2025-08-19T18:55:40.503177Z"
    },
    "papermill": {
     "duration": 0.023277,
     "end_time": "2025-08-19T18:55:40.505695",
     "exception": false,
     "start_time": "2025-08-19T18:55:40.482418",
     "status": "completed"
    },
    "tags": []
   },
   "outputs": [
    {
     "data": {
      "text/plain": [
       "year\n",
       "2014    1000\n",
       "dtype: int64"
      ]
     },
     "metadata": {},
     "output_type": "display_data"
    }
   ],
   "source": [
    "display(siab_train.groupby(\"year\").size())"
   ]
  },
  {
   "cell_type": "code",
   "execution_count": 14,
   "id": "0997782f",
   "metadata": {
    "execution": {
     "iopub.execute_input": "2025-08-19T18:55:40.529456Z",
     "iopub.status.busy": "2025-08-19T18:55:40.528841Z",
     "iopub.status.idle": "2025-08-19T18:55:40.816556Z",
     "shell.execute_reply": "2025-08-19T18:55:40.815693Z"
    },
    "papermill": {
     "duration": 0.301759,
     "end_time": "2025-08-19T18:55:40.818340",
     "exception": false,
     "start_time": "2025-08-19T18:55:40.516581",
     "status": "completed"
    },
    "tags": []
   },
   "outputs": [],
   "source": [
    "#siab_train = siab_s[siab_s.year < 2015]\n",
    "siab_calib = siab[siab.year == 2015]\n",
    "siab_test = siab[siab.year == 2016]"
   ]
  },
  {
   "cell_type": "code",
   "execution_count": 15,
   "id": "2c1e4012",
   "metadata": {
    "execution": {
     "iopub.execute_input": "2025-08-19T18:55:40.854452Z",
     "iopub.status.busy": "2025-08-19T18:55:40.854059Z",
     "iopub.status.idle": "2025-08-19T18:55:40.857980Z",
     "shell.execute_reply": "2025-08-19T18:55:40.857333Z"
    },
    "papermill": {
     "duration": 0.024119,
     "end_time": "2025-08-19T18:55:40.859960",
     "exception": false,
     "start_time": "2025-08-19T18:55:40.835841",
     "status": "completed"
    },
    "tags": []
   },
   "outputs": [],
   "source": [
    "#siab_calib.shape"
   ]
  },
  {
   "cell_type": "code",
   "execution_count": 16,
   "id": "f66b54ca",
   "metadata": {
    "execution": {
     "iopub.execute_input": "2025-08-19T18:55:40.882750Z",
     "iopub.status.busy": "2025-08-19T18:55:40.882446Z",
     "iopub.status.idle": "2025-08-19T18:55:40.886662Z",
     "shell.execute_reply": "2025-08-19T18:55:40.885924Z"
    },
    "papermill": {
     "duration": 0.016768,
     "end_time": "2025-08-19T18:55:40.888035",
     "exception": false,
     "start_time": "2025-08-19T18:55:40.871267",
     "status": "completed"
    },
    "tags": []
   },
   "outputs": [],
   "source": [
    "#siab_test.shape"
   ]
  },
  {
   "cell_type": "code",
   "execution_count": 17,
   "id": "27e4384d",
   "metadata": {
    "execution": {
     "iopub.execute_input": "2025-08-19T18:55:40.922807Z",
     "iopub.status.busy": "2025-08-19T18:55:40.922512Z",
     "iopub.status.idle": "2025-08-19T18:55:40.929497Z",
     "shell.execute_reply": "2025-08-19T18:55:40.928247Z"
    },
    "papermill": {
     "duration": 0.020916,
     "end_time": "2025-08-19T18:55:40.931148",
     "exception": false,
     "start_time": "2025-08-19T18:55:40.910232",
     "status": "completed"
    },
    "tags": []
   },
   "outputs": [],
   "source": [
    "X_train = siab_train.iloc[:,4:164]\n",
    "y_train = siab_train.iloc[:, [3]]"
   ]
  },
  {
   "cell_type": "code",
   "execution_count": 18,
   "id": "08ee8389",
   "metadata": {
    "execution": {
     "iopub.execute_input": "2025-08-19T18:55:40.955583Z",
     "iopub.status.busy": "2025-08-19T18:55:40.955281Z",
     "iopub.status.idle": "2025-08-19T18:55:41.008532Z",
     "shell.execute_reply": "2025-08-19T18:55:41.007701Z"
    },
    "papermill": {
     "duration": 0.06612,
     "end_time": "2025-08-19T18:55:41.009924",
     "exception": false,
     "start_time": "2025-08-19T18:55:40.943804",
     "status": "completed"
    },
    "tags": []
   },
   "outputs": [],
   "source": [
    "X_calib = siab_calib.iloc[:,4:164]\n",
    "y_calib = siab_calib.iloc[:, [3]]"
   ]
  },
  {
   "cell_type": "code",
   "execution_count": 19,
   "id": "b7ff42e0",
   "metadata": {
    "execution": {
     "iopub.execute_input": "2025-08-19T18:55:41.035760Z",
     "iopub.status.busy": "2025-08-19T18:55:41.035197Z",
     "iopub.status.idle": "2025-08-19T18:55:41.088804Z",
     "shell.execute_reply": "2025-08-19T18:55:41.087919Z"
    },
    "papermill": {
     "duration": 0.069046,
     "end_time": "2025-08-19T18:55:41.091473",
     "exception": false,
     "start_time": "2025-08-19T18:55:41.022427",
     "status": "completed"
    },
    "tags": []
   },
   "outputs": [],
   "source": [
    "X_test = siab_test.iloc[:,4:164]\n",
    "y_true = siab_test.iloc[:, [3]]"
   ]
  },
  {
   "cell_type": "code",
   "execution_count": 20,
   "id": "0275101e",
   "metadata": {
    "execution": {
     "iopub.execute_input": "2025-08-19T18:55:41.131965Z",
     "iopub.status.busy": "2025-08-19T18:55:41.130890Z",
     "iopub.status.idle": "2025-08-19T18:55:41.252198Z",
     "shell.execute_reply": "2025-08-19T18:55:41.251095Z"
    },
    "papermill": {
     "duration": 0.139352,
     "end_time": "2025-08-19T18:55:41.255071",
     "exception": false,
     "start_time": "2025-08-19T18:55:41.115719",
     "status": "completed"
    },
    "tags": []
   },
   "outputs": [],
   "source": [
    "# Auxiliary data needed downstream in the pipeline\n",
    "\n",
    "org_train = X_train.copy()\n",
    "org_test = X_test.copy()\n",
    "org_calib = X_calib.copy()"
   ]
  },
  {
   "cell_type": "markdown",
   "id": "b461e618",
   "metadata": {
    "papermill": {
     "duration": 0.012428,
     "end_time": "2025-08-19T18:55:41.292648",
     "exception": false,
     "start_time": "2025-08-19T18:55:41.280220",
     "status": "completed"
    },
    "tags": []
   },
   "source": [
    "# Preprocessing Data"
   ]
  },
  {
   "cell_type": "code",
   "execution_count": 21,
   "id": "78e74c4b",
   "metadata": {
    "execution": {
     "iopub.execute_input": "2025-08-19T18:55:41.314599Z",
     "iopub.status.busy": "2025-08-19T18:55:41.314249Z",
     "iopub.status.idle": "2025-08-19T18:55:41.319705Z",
     "shell.execute_reply": "2025-08-19T18:55:41.318955Z"
    },
    "papermill": {
     "duration": 0.018432,
     "end_time": "2025-08-19T18:55:41.321232",
     "exception": false,
     "start_time": "2025-08-19T18:55:41.302800",
     "status": "completed"
    },
    "tags": []
   },
   "outputs": [],
   "source": [
    "# EXCLUDE PROTECTED FEATURES\n",
    "# --------------------------\n",
    "\n",
    "excluded_features = universe[\"exclude_features\"].split(\"-\")\n",
    "excluded_features_dictionary = {\n",
    "    \"nationality\": [\"maxdeutsch1\", \"maxdeutsch.Missing.\"],\n",
    "    \"sex\": [\"frau1\"],\n",
    "    \"age\": [\"age\"],\n",
    "}"
   ]
  },
  {
   "cell_type": "code",
   "execution_count": 22,
   "id": "f8e63555",
   "metadata": {
    "execution": {
     "iopub.execute_input": "2025-08-19T18:55:41.344734Z",
     "iopub.status.busy": "2025-08-19T18:55:41.344333Z",
     "iopub.status.idle": "2025-08-19T18:55:41.352484Z",
     "shell.execute_reply": "2025-08-19T18:55:41.351833Z"
    },
    "papermill": {
     "duration": 0.021768,
     "end_time": "2025-08-19T18:55:41.353968",
     "exception": false,
     "start_time": "2025-08-19T18:55:41.332200",
     "status": "completed"
    },
    "tags": []
   },
   "outputs": [],
   "source": [
    "excluded_features_columns = [\n",
    "    excluded_features_dictionary[f] for f in excluded_features if len(f) > 0 and f != \"none\"\n",
    "]"
   ]
  },
  {
   "cell_type": "code",
   "execution_count": 23,
   "id": "da781f7c",
   "metadata": {
    "execution": {
     "iopub.execute_input": "2025-08-19T18:55:41.376860Z",
     "iopub.status.busy": "2025-08-19T18:55:41.376244Z",
     "iopub.status.idle": "2025-08-19T18:55:41.381923Z",
     "shell.execute_reply": "2025-08-19T18:55:41.380726Z"
    },
    "papermill": {
     "duration": 0.018266,
     "end_time": "2025-08-19T18:55:41.383346",
     "exception": false,
     "start_time": "2025-08-19T18:55:41.365080",
     "status": "completed"
    },
    "tags": []
   },
   "outputs": [],
   "source": [
    "from fairness_multiverse.universe import flatten_once\n",
    "\n",
    "excluded_features_columns = flatten_once(excluded_features_columns)"
   ]
  },
  {
   "cell_type": "code",
   "execution_count": 24,
   "id": "37fef0f0",
   "metadata": {
    "execution": {
     "iopub.execute_input": "2025-08-19T18:55:41.406947Z",
     "iopub.status.busy": "2025-08-19T18:55:41.405908Z",
     "iopub.status.idle": "2025-08-19T18:55:41.419586Z",
     "shell.execute_reply": "2025-08-19T18:55:41.418360Z"
    },
    "papermill": {
     "duration": 0.026961,
     "end_time": "2025-08-19T18:55:41.421247",
     "exception": false,
     "start_time": "2025-08-19T18:55:41.394286",
     "status": "completed"
    },
    "tags": []
   },
   "outputs": [
    {
     "name": "stdout",
     "output_type": "stream",
     "text": [
      "Dropping features: ['maxdeutsch1', 'maxdeutsch.Missing.', 'frau1']\n"
     ]
    }
   ],
   "source": [
    "if len(excluded_features_columns) > 0:\n",
    "    print(f\"Dropping features: {excluded_features_columns}\")\n",
    "    X_train.drop(excluded_features_columns, axis=1, inplace=True)"
   ]
  },
  {
   "cell_type": "code",
   "execution_count": 25,
   "id": "d029e3e9",
   "metadata": {
    "execution": {
     "iopub.execute_input": "2025-08-19T18:55:41.447784Z",
     "iopub.status.busy": "2025-08-19T18:55:41.447008Z",
     "iopub.status.idle": "2025-08-19T18:55:41.519332Z",
     "shell.execute_reply": "2025-08-19T18:55:41.518382Z"
    },
    "papermill": {
     "duration": 0.085618,
     "end_time": "2025-08-19T18:55:41.520595",
     "exception": false,
     "start_time": "2025-08-19T18:55:41.434977",
     "status": "completed"
    },
    "tags": []
   },
   "outputs": [
    {
     "name": "stdout",
     "output_type": "stream",
     "text": [
      "Dropping features: ['maxdeutsch1', 'maxdeutsch.Missing.', 'frau1']\n"
     ]
    }
   ],
   "source": [
    "if len(excluded_features_columns) > 0:\n",
    "    print(f\"Dropping features: {excluded_features_columns}\")\n",
    "    X_test.drop(excluded_features_columns, axis=1, inplace=True)"
   ]
  },
  {
   "cell_type": "code",
   "execution_count": 26,
   "id": "01d571f0",
   "metadata": {
    "execution": {
     "iopub.execute_input": "2025-08-19T18:55:41.559680Z",
     "iopub.status.busy": "2025-08-19T18:55:41.558733Z",
     "iopub.status.idle": "2025-08-19T18:55:41.613713Z",
     "shell.execute_reply": "2025-08-19T18:55:41.613132Z"
    },
    "papermill": {
     "duration": 0.085149,
     "end_time": "2025-08-19T18:55:41.616694",
     "exception": false,
     "start_time": "2025-08-19T18:55:41.531545",
     "status": "completed"
    },
    "tags": []
   },
   "outputs": [
    {
     "name": "stdout",
     "output_type": "stream",
     "text": [
      "Dropping features: ['maxdeutsch1', 'maxdeutsch.Missing.', 'frau1']\n"
     ]
    }
   ],
   "source": [
    "if len(excluded_features_columns) > 0:\n",
    "    print(f\"Dropping features: {excluded_features_columns}\")\n",
    "    X_calib.drop(excluded_features_columns, axis=1, inplace=True)"
   ]
  },
  {
   "cell_type": "code",
   "execution_count": 27,
   "id": "3037356e",
   "metadata": {
    "execution": {
     "iopub.execute_input": "2025-08-19T18:55:41.675823Z",
     "iopub.status.busy": "2025-08-19T18:55:41.675221Z",
     "iopub.status.idle": "2025-08-19T18:55:41.683671Z",
     "shell.execute_reply": "2025-08-19T18:55:41.682729Z"
    },
    "papermill": {
     "duration": 0.02572,
     "end_time": "2025-08-19T18:55:41.686028",
     "exception": false,
     "start_time": "2025-08-19T18:55:41.660308",
     "status": "completed"
    },
    "tags": []
   },
   "outputs": [],
   "source": [
    "# EXCLUDE CERTAIN SUBGROUPS\n",
    "# -------------------------\n",
    "\n",
    "mode = universe.get(\"exclude_subgroups\", \"keep-all\") # Defaults to \"keep-all\" if the key is missing."
   ]
  },
  {
   "cell_type": "code",
   "execution_count": 28,
   "id": "9d1e63fd",
   "metadata": {
    "execution": {
     "iopub.execute_input": "2025-08-19T18:55:41.732008Z",
     "iopub.status.busy": "2025-08-19T18:55:41.731303Z",
     "iopub.status.idle": "2025-08-19T18:55:41.741579Z",
     "shell.execute_reply": "2025-08-19T18:55:41.740650Z"
    },
    "papermill": {
     "duration": 0.034798,
     "end_time": "2025-08-19T18:55:41.743175",
     "exception": false,
     "start_time": "2025-08-19T18:55:41.708377",
     "status": "completed"
    },
    "tags": []
   },
   "outputs": [],
   "source": [
    "if mode == \"keep-all\":\n",
    "    keep_mask = pd.Series(True, index=org_train.index)\n",
    "\n",
    "elif mode == \"drop-non-german\":\n",
    "    keep_mask = (org_train[\"maxdeutsch1\"] == 1) & (org_train[\"maxdeutsch.Missing.\"] == 0)\n",
    "\n",
    "else:\n",
    "    raise ValueError(f\"Unsupported mode for exclude_subgroups: {mode}\")"
   ]
  },
  {
   "cell_type": "code",
   "execution_count": 29,
   "id": "d3b65474",
   "metadata": {
    "execution": {
     "iopub.execute_input": "2025-08-19T18:55:41.776316Z",
     "iopub.status.busy": "2025-08-19T18:55:41.775338Z",
     "iopub.status.idle": "2025-08-19T18:55:41.783490Z",
     "shell.execute_reply": "2025-08-19T18:55:41.782389Z"
    },
    "papermill": {
     "duration": 0.027602,
     "end_time": "2025-08-19T18:55:41.784802",
     "exception": false,
     "start_time": "2025-08-19T18:55:41.757200",
     "status": "completed"
    },
    "tags": []
   },
   "outputs": [
    {
     "name": "stdout",
     "output_type": "stream",
     "text": [
      "Dropping 147 rows (14.70%) where mode='drop-non-german'\n"
     ]
    }
   ],
   "source": [
    "n_drop = (~keep_mask).sum() # Calculates how many rows are set to be dropped\n",
    "if n_drop > 0:\n",
    "    pct = n_drop / len(keep_mask) * 100\n",
    "    print(f\"Dropping {n_drop} rows ({pct:.2f}%) where mode='{mode}'\")"
   ]
  },
  {
   "cell_type": "code",
   "execution_count": 30,
   "id": "f44389b3",
   "metadata": {
    "execution": {
     "iopub.execute_input": "2025-08-19T18:55:41.811551Z",
     "iopub.status.busy": "2025-08-19T18:55:41.810232Z",
     "iopub.status.idle": "2025-08-19T18:55:41.826619Z",
     "shell.execute_reply": "2025-08-19T18:55:41.824742Z"
    },
    "papermill": {
     "duration": 0.030211,
     "end_time": "2025-08-19T18:55:41.828390",
     "exception": false,
     "start_time": "2025-08-19T18:55:41.798179",
     "status": "completed"
    },
    "tags": []
   },
   "outputs": [],
   "source": [
    "X_train = X_train[keep_mask]"
   ]
  },
  {
   "cell_type": "code",
   "execution_count": 31,
   "id": "ceca8c2a",
   "metadata": {
    "execution": {
     "iopub.execute_input": "2025-08-19T18:55:41.862818Z",
     "iopub.status.busy": "2025-08-19T18:55:41.862092Z",
     "iopub.status.idle": "2025-08-19T18:55:41.867479Z",
     "shell.execute_reply": "2025-08-19T18:55:41.866694Z"
    },
    "papermill": {
     "duration": 0.02091,
     "end_time": "2025-08-19T18:55:41.869053",
     "exception": false,
     "start_time": "2025-08-19T18:55:41.848143",
     "status": "completed"
    },
    "tags": []
   },
   "outputs": [],
   "source": [
    "y_train = y_train[keep_mask]"
   ]
  },
  {
   "cell_type": "markdown",
   "id": "04d31e2f",
   "metadata": {
    "papermill": {
     "duration": 0.011298,
     "end_time": "2025-08-19T18:55:41.892061",
     "exception": false,
     "start_time": "2025-08-19T18:55:41.880763",
     "status": "completed"
    },
    "tags": []
   },
   "source": [
    "# Model Training"
   ]
  },
  {
   "cell_type": "code",
   "execution_count": 32,
   "id": "db991733",
   "metadata": {
    "execution": {
     "iopub.execute_input": "2025-08-19T18:55:41.916992Z",
     "iopub.status.busy": "2025-08-19T18:55:41.915958Z",
     "iopub.status.idle": "2025-08-19T18:55:42.037923Z",
     "shell.execute_reply": "2025-08-19T18:55:42.037177Z"
    },
    "papermill": {
     "duration": 0.137699,
     "end_time": "2025-08-19T18:55:42.041023",
     "exception": false,
     "start_time": "2025-08-19T18:55:41.903324",
     "status": "completed"
    },
    "tags": []
   },
   "outputs": [],
   "source": [
    "from sklearn.linear_model import LogisticRegression\n",
    "from sklearn.ensemble import GradientBoostingClassifier, RandomForestClassifier\n",
    "\n",
    "if (universe[\"model\"] == \"logreg\"):\n",
    "    model = LogisticRegression() #penalty=\"none\", solver=\"newton-cg\", max_iter=1)\n",
    "elif (universe[\"model\"] == \"penalized_logreg\"):\n",
    "    model = LogisticRegression(penalty=\"l2\", C=0.1) #, solver=\"newton-cg\", max_iter=1)\n",
    "elif (universe[\"model\"] == \"rf\"):\n",
    "    model = RandomForestClassifier() # n_estimators=100, n_jobs=-1\n",
    "elif (universe[\"model\"] == \"gbm\"):\n",
    "    model = GradientBoostingClassifier()\n",
    "elif (universe[\"model\"] == \"elasticnet\"):\n",
    "    model = LogisticRegression(penalty = 'elasticnet', solver = 'saga', l1_ratio = 0.5) # max_iter=5000\n",
    "else:\n",
    "    raise \"Unsupported universe.model\""
   ]
  },
  {
   "cell_type": "code",
   "execution_count": 33,
   "id": "a4b5cd25",
   "metadata": {
    "execution": {
     "iopub.execute_input": "2025-08-19T18:55:42.080680Z",
     "iopub.status.busy": "2025-08-19T18:55:42.079388Z",
     "iopub.status.idle": "2025-08-19T18:55:42.089985Z",
     "shell.execute_reply": "2025-08-19T18:55:42.088733Z"
    },
    "papermill": {
     "duration": 0.026249,
     "end_time": "2025-08-19T18:55:42.091622",
     "exception": false,
     "start_time": "2025-08-19T18:55:42.065373",
     "status": "completed"
    },
    "tags": []
   },
   "outputs": [],
   "source": [
    "from sklearn.pipeline import Pipeline\n",
    "from sklearn.preprocessing import StandardScaler\n",
    "\n",
    "model = Pipeline([\n",
    "    #(\"continuous_processor\", continuous_processor),\n",
    "    #(\"categorical_preprocessor\", categorical_preprocessor),\n",
    "    (\"scale\", StandardScaler() if universe[\"scale\"] == \"scale\" else None), \n",
    "    (\"model\", model),\n",
    "])"
   ]
  },
  {
   "cell_type": "code",
   "execution_count": 34,
   "id": "283a904d",
   "metadata": {
    "execution": {
     "iopub.execute_input": "2025-08-19T18:55:42.120215Z",
     "iopub.status.busy": "2025-08-19T18:55:42.119250Z",
     "iopub.status.idle": "2025-08-19T18:55:42.954435Z",
     "shell.execute_reply": "2025-08-19T18:55:42.953305Z"
    },
    "papermill": {
     "duration": 0.849773,
     "end_time": "2025-08-19T18:55:42.955956",
     "exception": false,
     "start_time": "2025-08-19T18:55:42.106183",
     "status": "completed"
    },
    "tags": []
   },
   "outputs": [
    {
     "data": {
      "text/html": [
       "<style>#sk-container-id-1 {color: black;background-color: white;}#sk-container-id-1 pre{padding: 0;}#sk-container-id-1 div.sk-toggleable {background-color: white;}#sk-container-id-1 label.sk-toggleable__label {cursor: pointer;display: block;width: 100%;margin-bottom: 0;padding: 0.3em;box-sizing: border-box;text-align: center;}#sk-container-id-1 label.sk-toggleable__label-arrow:before {content: \"▸\";float: left;margin-right: 0.25em;color: #696969;}#sk-container-id-1 label.sk-toggleable__label-arrow:hover:before {color: black;}#sk-container-id-1 div.sk-estimator:hover label.sk-toggleable__label-arrow:before {color: black;}#sk-container-id-1 div.sk-toggleable__content {max-height: 0;max-width: 0;overflow: hidden;text-align: left;background-color: #f0f8ff;}#sk-container-id-1 div.sk-toggleable__content pre {margin: 0.2em;color: black;border-radius: 0.25em;background-color: #f0f8ff;}#sk-container-id-1 input.sk-toggleable__control:checked~div.sk-toggleable__content {max-height: 200px;max-width: 100%;overflow: auto;}#sk-container-id-1 input.sk-toggleable__control:checked~label.sk-toggleable__label-arrow:before {content: \"▾\";}#sk-container-id-1 div.sk-estimator input.sk-toggleable__control:checked~label.sk-toggleable__label {background-color: #d4ebff;}#sk-container-id-1 div.sk-label input.sk-toggleable__control:checked~label.sk-toggleable__label {background-color: #d4ebff;}#sk-container-id-1 input.sk-hidden--visually {border: 0;clip: rect(1px 1px 1px 1px);clip: rect(1px, 1px, 1px, 1px);height: 1px;margin: -1px;overflow: hidden;padding: 0;position: absolute;width: 1px;}#sk-container-id-1 div.sk-estimator {font-family: monospace;background-color: #f0f8ff;border: 1px dotted black;border-radius: 0.25em;box-sizing: border-box;margin-bottom: 0.5em;}#sk-container-id-1 div.sk-estimator:hover {background-color: #d4ebff;}#sk-container-id-1 div.sk-parallel-item::after {content: \"\";width: 100%;border-bottom: 1px solid gray;flex-grow: 1;}#sk-container-id-1 div.sk-label:hover label.sk-toggleable__label {background-color: #d4ebff;}#sk-container-id-1 div.sk-serial::before {content: \"\";position: absolute;border-left: 1px solid gray;box-sizing: border-box;top: 0;bottom: 0;left: 50%;z-index: 0;}#sk-container-id-1 div.sk-serial {display: flex;flex-direction: column;align-items: center;background-color: white;padding-right: 0.2em;padding-left: 0.2em;position: relative;}#sk-container-id-1 div.sk-item {position: relative;z-index: 1;}#sk-container-id-1 div.sk-parallel {display: flex;align-items: stretch;justify-content: center;background-color: white;position: relative;}#sk-container-id-1 div.sk-item::before, #sk-container-id-1 div.sk-parallel-item::before {content: \"\";position: absolute;border-left: 1px solid gray;box-sizing: border-box;top: 0;bottom: 0;left: 50%;z-index: -1;}#sk-container-id-1 div.sk-parallel-item {display: flex;flex-direction: column;z-index: 1;position: relative;background-color: white;}#sk-container-id-1 div.sk-parallel-item:first-child::after {align-self: flex-end;width: 50%;}#sk-container-id-1 div.sk-parallel-item:last-child::after {align-self: flex-start;width: 50%;}#sk-container-id-1 div.sk-parallel-item:only-child::after {width: 0;}#sk-container-id-1 div.sk-dashed-wrapped {border: 1px dashed gray;margin: 0 0.4em 0.5em 0.4em;box-sizing: border-box;padding-bottom: 0.4em;background-color: white;}#sk-container-id-1 div.sk-label label {font-family: monospace;font-weight: bold;display: inline-block;line-height: 1.2em;}#sk-container-id-1 div.sk-label-container {text-align: center;}#sk-container-id-1 div.sk-container {/* jupyter's `normalize.less` sets `[hidden] { display: none; }` but bootstrap.min.css set `[hidden] { display: none !important; }` so we also need the `!important` here to be able to override the default hidden behavior on the sphinx rendered scikit-learn.org. See: https://github.com/scikit-learn/scikit-learn/issues/21755 */display: inline-block !important;position: relative;}#sk-container-id-1 div.sk-text-repr-fallback {display: none;}</style><div id=\"sk-container-id-1\" class=\"sk-top-container\"><div class=\"sk-text-repr-fallback\"><pre>Pipeline(steps=[(&#x27;scale&#x27;, None), (&#x27;model&#x27;, GradientBoostingClassifier())])</pre><b>In a Jupyter environment, please rerun this cell to show the HTML representation or trust the notebook. <br />On GitHub, the HTML representation is unable to render, please try loading this page with nbviewer.org.</b></div><div class=\"sk-container\" hidden><div class=\"sk-item sk-dashed-wrapped\"><div class=\"sk-label-container\"><div class=\"sk-label sk-toggleable\"><input class=\"sk-toggleable__control sk-hidden--visually\" id=\"sk-estimator-id-1\" type=\"checkbox\" ><label for=\"sk-estimator-id-1\" class=\"sk-toggleable__label sk-toggleable__label-arrow\">Pipeline</label><div class=\"sk-toggleable__content\"><pre>Pipeline(steps=[(&#x27;scale&#x27;, None), (&#x27;model&#x27;, GradientBoostingClassifier())])</pre></div></div></div><div class=\"sk-serial\"><div class=\"sk-item\"><div class=\"sk-estimator sk-toggleable\"><input class=\"sk-toggleable__control sk-hidden--visually\" id=\"sk-estimator-id-2\" type=\"checkbox\" ><label for=\"sk-estimator-id-2\" class=\"sk-toggleable__label sk-toggleable__label-arrow\">None</label><div class=\"sk-toggleable__content\"><pre>None</pre></div></div></div><div class=\"sk-item\"><div class=\"sk-estimator sk-toggleable\"><input class=\"sk-toggleable__control sk-hidden--visually\" id=\"sk-estimator-id-3\" type=\"checkbox\" ><label for=\"sk-estimator-id-3\" class=\"sk-toggleable__label sk-toggleable__label-arrow\">GradientBoostingClassifier</label><div class=\"sk-toggleable__content\"><pre>GradientBoostingClassifier()</pre></div></div></div></div></div></div></div>"
      ],
      "text/plain": [
       "Pipeline(steps=[('scale', None), ('model', GradientBoostingClassifier())])"
      ]
     },
     "execution_count": 34,
     "metadata": {},
     "output_type": "execute_result"
    }
   ],
   "source": [
    "model.fit(X_train, y_train.values.ravel())"
   ]
  },
  {
   "cell_type": "code",
   "execution_count": 35,
   "id": "6e15e313",
   "metadata": {
    "execution": {
     "iopub.execute_input": "2025-08-19T18:55:42.982056Z",
     "iopub.status.busy": "2025-08-19T18:55:42.980763Z",
     "iopub.status.idle": "2025-08-19T18:55:43.546676Z",
     "shell.execute_reply": "2025-08-19T18:55:43.545835Z"
    },
    "papermill": {
     "duration": 0.581633,
     "end_time": "2025-08-19T18:55:43.549272",
     "exception": false,
     "start_time": "2025-08-19T18:55:42.967639",
     "status": "completed"
    },
    "tags": []
   },
   "outputs": [
    {
     "data": {
      "text/plain": [
       "0.8476089622115707"
      ]
     },
     "execution_count": 35,
     "metadata": {},
     "output_type": "execute_result"
    }
   ],
   "source": [
    "from fairness_multiverse.universe import predict_w_threshold\n",
    "\n",
    "probs_test = model.predict_proba(X_test)\n",
    "\n",
    "'''\n",
    "Below code returns a boolean array (or binary 0/1 array depending on how it’s used) where each element \n",
    "is True if the probability of class 1 is greater than or equal to the threshold, and False otherwise.\n",
    "'''\n",
    "y_pred_default = predict_w_threshold(probs_test, 0.5)\n",
    "\n",
    "from sklearn.metrics import accuracy_score\n",
    "\n",
    "# Naive prediction\n",
    "accuracy_score(y_true = y_true, y_pred = y_pred_default)"
   ]
  },
  {
   "cell_type": "code",
   "execution_count": 36,
   "id": "6f14067c",
   "metadata": {
    "execution": {
     "iopub.execute_input": "2025-08-19T18:55:43.593730Z",
     "iopub.status.busy": "2025-08-19T18:55:43.592311Z",
     "iopub.status.idle": "2025-08-19T18:55:44.152353Z",
     "shell.execute_reply": "2025-08-19T18:55:44.151424Z"
    },
    "papermill": {
     "duration": 0.579965,
     "end_time": "2025-08-19T18:55:44.153662",
     "exception": false,
     "start_time": "2025-08-19T18:55:43.573697",
     "status": "completed"
    },
    "tags": []
   },
   "outputs": [
    {
     "data": {
      "text/plain": [
       "array([0, 0, 0, ..., 0, 0, 0])"
      ]
     },
     "execution_count": 36,
     "metadata": {},
     "output_type": "execute_result"
    }
   ],
   "source": [
    "model.predict(X_test)"
   ]
  },
  {
   "cell_type": "markdown",
   "id": "3759920c",
   "metadata": {
    "papermill": {
     "duration": 0.01111,
     "end_time": "2025-08-19T18:55:44.176521",
     "exception": false,
     "start_time": "2025-08-19T18:55:44.165411",
     "status": "completed"
    },
    "tags": []
   },
   "source": [
    "# Conformal Prediction"
   ]
  },
  {
   "cell_type": "code",
   "execution_count": 37,
   "id": "14b27f59",
   "metadata": {
    "execution": {
     "iopub.execute_input": "2025-08-19T18:55:44.207157Z",
     "iopub.status.busy": "2025-08-19T18:55:44.200375Z",
     "iopub.status.idle": "2025-08-19T18:55:44.217527Z",
     "shell.execute_reply": "2025-08-19T18:55:44.216287Z"
    },
    "papermill": {
     "duration": 0.031979,
     "end_time": "2025-08-19T18:55:44.219440",
     "exception": false,
     "start_time": "2025-08-19T18:55:44.187461",
     "status": "completed"
    },
    "tags": []
   },
   "outputs": [],
   "source": [
    "# Miscoverage level for conformal prediction (10% allowed error rate => 90% target coverage)\n",
    "alpha = 0.1"
   ]
  },
  {
   "cell_type": "code",
   "execution_count": 38,
   "id": "59102472",
   "metadata": {
    "execution": {
     "iopub.execute_input": "2025-08-19T18:55:44.252149Z",
     "iopub.status.busy": "2025-08-19T18:55:44.251745Z",
     "iopub.status.idle": "2025-08-19T18:55:44.801865Z",
     "shell.execute_reply": "2025-08-19T18:55:44.800734Z"
    },
    "papermill": {
     "duration": 0.566367,
     "end_time": "2025-08-19T18:55:44.803493",
     "exception": false,
     "start_time": "2025-08-19T18:55:44.237126",
     "status": "completed"
    },
    "tags": []
   },
   "outputs": [],
   "source": [
    "probs_calib = model.predict_proba(X_calib)"
   ]
  },
  {
   "cell_type": "code",
   "execution_count": 39,
   "id": "a792d4dd",
   "metadata": {
    "execution": {
     "iopub.execute_input": "2025-08-19T18:55:44.828708Z",
     "iopub.status.busy": "2025-08-19T18:55:44.827788Z",
     "iopub.status.idle": "2025-08-19T18:55:44.836409Z",
     "shell.execute_reply": "2025-08-19T18:55:44.835386Z"
    },
    "papermill": {
     "duration": 0.022829,
     "end_time": "2025-08-19T18:55:44.837967",
     "exception": false,
     "start_time": "2025-08-19T18:55:44.815138",
     "status": "completed"
    },
    "tags": []
   },
   "outputs": [],
   "source": [
    "y_calib = y_calib.values.ravel().astype(int)"
   ]
  },
  {
   "cell_type": "code",
   "execution_count": 40,
   "id": "650fd033",
   "metadata": {
    "execution": {
     "iopub.execute_input": "2025-08-19T18:55:44.865494Z",
     "iopub.status.busy": "2025-08-19T18:55:44.864373Z",
     "iopub.status.idle": "2025-08-19T18:55:44.877553Z",
     "shell.execute_reply": "2025-08-19T18:55:44.876262Z"
    },
    "papermill": {
     "duration": 0.027513,
     "end_time": "2025-08-19T18:55:44.879314",
     "exception": false,
     "start_time": "2025-08-19T18:55:44.851801",
     "status": "completed"
    },
    "tags": []
   },
   "outputs": [],
   "source": [
    "from fairness_multiverse.conformal import compute_nc_scores\n",
    "\n",
    "# Compute nonconformity scores on calibration set (1 - probability of true class)\n",
    "nc_scores = compute_nc_scores(probs_calib, y_calib)"
   ]
  },
  {
   "cell_type": "code",
   "execution_count": 41,
   "id": "28ada44c",
   "metadata": {
    "execution": {
     "iopub.execute_input": "2025-08-19T18:55:44.907125Z",
     "iopub.status.busy": "2025-08-19T18:55:44.906057Z",
     "iopub.status.idle": "2025-08-19T18:55:44.916048Z",
     "shell.execute_reply": "2025-08-19T18:55:44.914795Z"
    },
    "papermill": {
     "duration": 0.024095,
     "end_time": "2025-08-19T18:55:44.917617",
     "exception": false,
     "start_time": "2025-08-19T18:55:44.893522",
     "status": "completed"
    },
    "tags": []
   },
   "outputs": [],
   "source": [
    "from fairness_multiverse.conformal import find_threshold\n",
    "\n",
    "# Find conformal threshold q_hat for the given alpha (split conformal method)\n",
    "q_hat = find_threshold(nc_scores, alpha)"
   ]
  },
  {
   "cell_type": "code",
   "execution_count": 42,
   "id": "df56469e",
   "metadata": {
    "execution": {
     "iopub.execute_input": "2025-08-19T18:55:44.943375Z",
     "iopub.status.busy": "2025-08-19T18:55:44.942419Z",
     "iopub.status.idle": "2025-08-19T18:55:44.953328Z",
     "shell.execute_reply": "2025-08-19T18:55:44.951997Z"
    },
    "papermill": {
     "duration": 0.025078,
     "end_time": "2025-08-19T18:55:44.954901",
     "exception": false,
     "start_time": "2025-08-19T18:55:44.929823",
     "status": "completed"
    },
    "tags": []
   },
   "outputs": [
    {
     "data": {
      "text/plain": [
       "0.7590497701371088"
      ]
     },
     "execution_count": 42,
     "metadata": {},
     "output_type": "execute_result"
    }
   ],
   "source": [
    "q_hat"
   ]
  },
  {
   "cell_type": "code",
   "execution_count": 43,
   "id": "aa1f5faa",
   "metadata": {
    "execution": {
     "iopub.execute_input": "2025-08-19T18:55:45.000985Z",
     "iopub.status.busy": "2025-08-19T18:55:44.998875Z",
     "iopub.status.idle": "2025-08-19T18:55:46.045822Z",
     "shell.execute_reply": "2025-08-19T18:55:46.045012Z"
    },
    "papermill": {
     "duration": 1.077524,
     "end_time": "2025-08-19T18:55:46.047432",
     "exception": false,
     "start_time": "2025-08-19T18:55:44.969908",
     "status": "completed"
    },
    "tags": []
   },
   "outputs": [],
   "source": [
    "from fairness_multiverse.conformal import predict_conformal_sets\n",
    "\n",
    "# Generate prediction sets for each test example\n",
    "pred_sets = predict_conformal_sets(model, X_test, q_hat)"
   ]
  },
  {
   "cell_type": "code",
   "execution_count": 44,
   "id": "97f67a6b",
   "metadata": {
    "execution": {
     "iopub.execute_input": "2025-08-19T18:55:46.072843Z",
     "iopub.status.busy": "2025-08-19T18:55:46.071911Z",
     "iopub.status.idle": "2025-08-19T18:55:46.080157Z",
     "shell.execute_reply": "2025-08-19T18:55:46.078798Z"
    },
    "papermill": {
     "duration": 0.022393,
     "end_time": "2025-08-19T18:55:46.081618",
     "exception": false,
     "start_time": "2025-08-19T18:55:46.059225",
     "status": "completed"
    },
    "tags": []
   },
   "outputs": [],
   "source": [
    "y_true = y_true.squeeze()"
   ]
  },
  {
   "cell_type": "code",
   "execution_count": 45,
   "id": "e700e9a7",
   "metadata": {
    "execution": {
     "iopub.execute_input": "2025-08-19T18:55:46.109906Z",
     "iopub.status.busy": "2025-08-19T18:55:46.108664Z",
     "iopub.status.idle": "2025-08-19T18:55:46.607393Z",
     "shell.execute_reply": "2025-08-19T18:55:46.606198Z"
    },
    "papermill": {
     "duration": 0.514548,
     "end_time": "2025-08-19T18:55:46.610330",
     "exception": false,
     "start_time": "2025-08-19T18:55:46.095782",
     "status": "completed"
    },
    "tags": []
   },
   "outputs": [],
   "source": [
    "from fairness_multiverse.conformal import evaluate_sets\n",
    "\n",
    "# Evaluate coverage and average set size on test data\n",
    "metrics = evaluate_sets(pred_sets, y_true)"
   ]
  },
  {
   "cell_type": "markdown",
   "id": "efbacec0",
   "metadata": {
    "papermill": {
     "duration": 0.01252,
     "end_time": "2025-08-19T18:55:46.647654",
     "exception": false,
     "start_time": "2025-08-19T18:55:46.635134",
     "status": "completed"
    },
    "tags": []
   },
   "source": [
    "# CP Metrics"
   ]
  },
  {
   "cell_type": "code",
   "execution_count": 46,
   "id": "9de55fb1",
   "metadata": {
    "execution": {
     "iopub.execute_input": "2025-08-19T18:55:46.673984Z",
     "iopub.status.busy": "2025-08-19T18:55:46.672517Z",
     "iopub.status.idle": "2025-08-19T18:55:46.687614Z",
     "shell.execute_reply": "2025-08-19T18:55:46.685957Z"
    },
    "papermill": {
     "duration": 0.030412,
     "end_time": "2025-08-19T18:55:46.689418",
     "exception": false,
     "start_time": "2025-08-19T18:55:46.659006",
     "status": "completed"
    },
    "tags": []
   },
   "outputs": [
    {
     "data": {
      "text/plain": [
       "{'coverage': 0.9090959759224166, 'avg_size': 1.159246460818192}"
      ]
     },
     "execution_count": 46,
     "metadata": {},
     "output_type": "execute_result"
    }
   ],
   "source": [
    "metrics"
   ]
  },
  {
   "cell_type": "code",
   "execution_count": 47,
   "id": "64c340a1",
   "metadata": {
    "execution": {
     "iopub.execute_input": "2025-08-19T18:55:46.720642Z",
     "iopub.status.busy": "2025-08-19T18:55:46.719201Z",
     "iopub.status.idle": "2025-08-19T18:55:46.729876Z",
     "shell.execute_reply": "2025-08-19T18:55:46.728629Z"
    },
    "papermill": {
     "duration": 0.025774,
     "end_time": "2025-08-19T18:55:46.731418",
     "exception": false,
     "start_time": "2025-08-19T18:55:46.705644",
     "status": "completed"
    },
    "tags": []
   },
   "outputs": [],
   "source": [
    "example_universe = universe.copy()\n",
    "universe_training_year = example_universe.get(\"training_year\")\n",
    "universe_training_size = example_universe.get(\"training_size\")\n",
    "universe_scale = example_universe.get(\"scale\")\n",
    "universe_model = example_universe.get(\"model\")\n",
    "universe_exclude_features = example_universe.get(\"exclude_features\")\n",
    "universe_exclude_subgroups = example_universe.get(\"exclude_subgroups\")"
   ]
  },
  {
   "cell_type": "code",
   "execution_count": 48,
   "id": "dbb53cb4",
   "metadata": {
    "execution": {
     "iopub.execute_input": "2025-08-19T18:55:46.760641Z",
     "iopub.status.busy": "2025-08-19T18:55:46.759195Z",
     "iopub.status.idle": "2025-08-19T18:55:46.775051Z",
     "shell.execute_reply": "2025-08-19T18:55:46.773725Z"
    },
    "papermill": {
     "duration": 0.030987,
     "end_time": "2025-08-19T18:55:46.776642",
     "exception": false,
     "start_time": "2025-08-19T18:55:46.745655",
     "status": "completed"
    },
    "tags": []
   },
   "outputs": [],
   "source": [
    "cp_metrics_dict = {\n",
    "    \"universe_id\": [universe_id],\n",
    "    \"universe_training_year\": [universe_training_year],\n",
    "    \"universe_training_size\": [universe_training_size],\n",
    "    \"universe_scale\": [universe_scale],\n",
    "    \"universe_model\": [universe_model],\n",
    "    \"universe_exclude_features\": [universe_exclude_features],\n",
    "    \"universe_exclude_subgroups\": [universe_exclude_subgroups],\n",
    "    \"q_hat\": [q_hat],\n",
    "    \"coverage\": [metrics[\"coverage\"]],\n",
    "    \"avg_size\": [metrics[\"avg_size\"]],\n",
    "}"
   ]
  },
  {
   "cell_type": "code",
   "execution_count": 49,
   "id": "0d70d4b2",
   "metadata": {
    "execution": {
     "iopub.execute_input": "2025-08-19T18:55:46.809987Z",
     "iopub.status.busy": "2025-08-19T18:55:46.808690Z",
     "iopub.status.idle": "2025-08-19T18:55:46.821541Z",
     "shell.execute_reply": "2025-08-19T18:55:46.820250Z"
    },
    "papermill": {
     "duration": 0.028594,
     "end_time": "2025-08-19T18:55:46.823065",
     "exception": false,
     "start_time": "2025-08-19T18:55:46.794471",
     "status": "completed"
    },
    "tags": []
   },
   "outputs": [],
   "source": [
    "cp_metrics_df = pd.DataFrame(cp_metrics_dict)"
   ]
  },
  {
   "cell_type": "code",
   "execution_count": 50,
   "id": "b494403c",
   "metadata": {
    "execution": {
     "iopub.execute_input": "2025-08-19T18:55:46.852350Z",
     "iopub.status.busy": "2025-08-19T18:55:46.851139Z",
     "iopub.status.idle": "2025-08-19T18:55:46.874324Z",
     "shell.execute_reply": "2025-08-19T18:55:46.873442Z"
    },
    "papermill": {
     "duration": 0.03824,
     "end_time": "2025-08-19T18:55:46.876022",
     "exception": false,
     "start_time": "2025-08-19T18:55:46.837782",
     "status": "completed"
    },
    "tags": []
   },
   "outputs": [
    {
     "data": {
      "text/html": [
       "<div>\n",
       "<style scoped>\n",
       "    .dataframe tbody tr th:only-of-type {\n",
       "        vertical-align: middle;\n",
       "    }\n",
       "\n",
       "    .dataframe tbody tr th {\n",
       "        vertical-align: top;\n",
       "    }\n",
       "\n",
       "    .dataframe thead th {\n",
       "        text-align: right;\n",
       "    }\n",
       "</style>\n",
       "<table border=\"1\" class=\"dataframe\">\n",
       "  <thead>\n",
       "    <tr style=\"text-align: right;\">\n",
       "      <th></th>\n",
       "      <th>universe_id</th>\n",
       "      <th>universe_training_year</th>\n",
       "      <th>universe_training_size</th>\n",
       "      <th>universe_scale</th>\n",
       "      <th>universe_model</th>\n",
       "      <th>universe_exclude_features</th>\n",
       "      <th>universe_exclude_subgroups</th>\n",
       "      <th>q_hat</th>\n",
       "      <th>coverage</th>\n",
       "      <th>avg_size</th>\n",
       "    </tr>\n",
       "  </thead>\n",
       "  <tbody>\n",
       "    <tr>\n",
       "      <th>0</th>\n",
       "      <td>823b617c000cf636f6bf1bed0ad41bcf</td>\n",
       "      <td>2014</td>\n",
       "      <td>1k</td>\n",
       "      <td>do-not-scale</td>\n",
       "      <td>gbm</td>\n",
       "      <td>nationality-sex</td>\n",
       "      <td>drop-non-german</td>\n",
       "      <td>0.75905</td>\n",
       "      <td>0.909096</td>\n",
       "      <td>1.159246</td>\n",
       "    </tr>\n",
       "  </tbody>\n",
       "</table>\n",
       "</div>"
      ],
      "text/plain": [
       "                        universe_id universe_training_year  \\\n",
       "0  823b617c000cf636f6bf1bed0ad41bcf                   2014   \n",
       "\n",
       "  universe_training_size universe_scale universe_model  \\\n",
       "0                     1k   do-not-scale            gbm   \n",
       "\n",
       "  universe_exclude_features universe_exclude_subgroups    q_hat  coverage  \\\n",
       "0           nationality-sex            drop-non-german  0.75905  0.909096   \n",
       "\n",
       "   avg_size  \n",
       "0  1.159246  "
      ]
     },
     "execution_count": 50,
     "metadata": {},
     "output_type": "execute_result"
    }
   ],
   "source": [
    "cp_metrics_df"
   ]
  },
  {
   "cell_type": "markdown",
   "id": "ed608b0b",
   "metadata": {
    "papermill": {
     "duration": 0.012658,
     "end_time": "2025-08-19T18:55:46.907327",
     "exception": false,
     "start_time": "2025-08-19T18:55:46.894669",
     "status": "completed"
    },
    "tags": []
   },
   "source": [
    "Conditional coverage & looking at subgroups"
   ]
  },
  {
   "cell_type": "code",
   "execution_count": 51,
   "id": "8968c366",
   "metadata": {
    "execution": {
     "iopub.execute_input": "2025-08-19T18:55:46.933336Z",
     "iopub.status.busy": "2025-08-19T18:55:46.932078Z",
     "iopub.status.idle": "2025-08-19T18:55:47.219634Z",
     "shell.execute_reply": "2025-08-19T18:55:47.218751Z"
    },
    "papermill": {
     "duration": 0.302285,
     "end_time": "2025-08-19T18:55:47.221274",
     "exception": false,
     "start_time": "2025-08-19T18:55:46.918989",
     "status": "completed"
    },
    "tags": []
   },
   "outputs": [],
   "source": [
    "from fairness_multiverse.conformal import build_cp_groups\n",
    "\n",
    "cp_groups_df = build_cp_groups(pred_sets, y_true, X_test.index, org_test)"
   ]
  },
  {
   "cell_type": "code",
   "execution_count": 52,
   "id": "292ddabf",
   "metadata": {
    "execution": {
     "iopub.execute_input": "2025-08-19T18:55:47.263040Z",
     "iopub.status.busy": "2025-08-19T18:55:47.262498Z",
     "iopub.status.idle": "2025-08-19T18:55:48.113239Z",
     "shell.execute_reply": "2025-08-19T18:55:48.112047Z"
    },
    "papermill": {
     "duration": 0.865771,
     "end_time": "2025-08-19T18:55:48.114911",
     "exception": false,
     "start_time": "2025-08-19T18:55:47.249140",
     "status": "completed"
    },
    "tags": []
   },
   "outputs": [],
   "source": [
    "# Define covered = 1 if true_label is in the predicted set\n",
    "cp_groups_df['covered'] = cp_groups_df.apply(\n",
    "    lambda r: int(r['true_label'] in r['pred_set']),\n",
    "    axis=1\n",
    ")"
   ]
  },
  {
   "cell_type": "code",
   "execution_count": 53,
   "id": "3a261692",
   "metadata": {
    "execution": {
     "iopub.execute_input": "2025-08-19T18:55:48.149188Z",
     "iopub.status.busy": "2025-08-19T18:55:48.148665Z",
     "iopub.status.idle": "2025-08-19T18:55:48.161493Z",
     "shell.execute_reply": "2025-08-19T18:55:48.160827Z"
    },
    "papermill": {
     "duration": 0.034645,
     "end_time": "2025-08-19T18:55:48.163790",
     "exception": false,
     "start_time": "2025-08-19T18:55:48.129145",
     "status": "completed"
    },
    "tags": []
   },
   "outputs": [],
   "source": [
    "subgroups = ['frau1','nongerman','nongerman_male','nongerman_female']\n",
    "\n",
    "# Conditional coverage for subgroup==1\n",
    "cond_coverage = {\n",
    "    g: cp_groups_df.loc[cp_groups_df[g]==1, 'covered'].mean()\n",
    "    for g in subgroups\n",
    "}"
   ]
  },
  {
   "cell_type": "code",
   "execution_count": 54,
   "id": "894fd600",
   "metadata": {
    "execution": {
     "iopub.execute_input": "2025-08-19T18:55:48.223812Z",
     "iopub.status.busy": "2025-08-19T18:55:48.223035Z",
     "iopub.status.idle": "2025-08-19T18:55:48.231761Z",
     "shell.execute_reply": "2025-08-19T18:55:48.230556Z"
    },
    "papermill": {
     "duration": 0.042907,
     "end_time": "2025-08-19T18:55:48.234255",
     "exception": false,
     "start_time": "2025-08-19T18:55:48.191348",
     "status": "completed"
    },
    "tags": []
   },
   "outputs": [
    {
     "data": {
      "text/plain": [
       "{'frau1': 0.9076155816147728,\n",
       " 'nongerman': 0.9077639925896817,\n",
       " 'nongerman_male': 0.9233540484553724,\n",
       " 'nongerman_female': 0.8819672131147541}"
      ]
     },
     "execution_count": 54,
     "metadata": {},
     "output_type": "execute_result"
    }
   ],
   "source": [
    "cond_coverage"
   ]
  },
  {
   "cell_type": "code",
   "execution_count": 55,
   "id": "942895c7",
   "metadata": {
    "execution": {
     "iopub.execute_input": "2025-08-19T18:55:48.261473Z",
     "iopub.status.busy": "2025-08-19T18:55:48.261045Z",
     "iopub.status.idle": "2025-08-19T18:55:48.268420Z",
     "shell.execute_reply": "2025-08-19T18:55:48.267621Z"
    },
    "papermill": {
     "duration": 0.022059,
     "end_time": "2025-08-19T18:55:48.269817",
     "exception": false,
     "start_time": "2025-08-19T18:55:48.247758",
     "status": "completed"
    },
    "tags": []
   },
   "outputs": [],
   "source": [
    "for subgroup, cov in cond_coverage.items():\n",
    "    cp_metrics_df[f\"cov_{subgroup}\"] = cov"
   ]
  },
  {
   "cell_type": "code",
   "execution_count": 56,
   "id": "3970120f",
   "metadata": {
    "execution": {
     "iopub.execute_input": "2025-08-19T18:55:48.295742Z",
     "iopub.status.busy": "2025-08-19T18:55:48.295352Z",
     "iopub.status.idle": "2025-08-19T18:55:48.311992Z",
     "shell.execute_reply": "2025-08-19T18:55:48.311228Z"
    },
    "papermill": {
     "duration": 0.033615,
     "end_time": "2025-08-19T18:55:48.315805",
     "exception": false,
     "start_time": "2025-08-19T18:55:48.282190",
     "status": "completed"
    },
    "tags": []
   },
   "outputs": [
    {
     "data": {
      "text/html": [
       "<div>\n",
       "<style scoped>\n",
       "    .dataframe tbody tr th:only-of-type {\n",
       "        vertical-align: middle;\n",
       "    }\n",
       "\n",
       "    .dataframe tbody tr th {\n",
       "        vertical-align: top;\n",
       "    }\n",
       "\n",
       "    .dataframe thead th {\n",
       "        text-align: right;\n",
       "    }\n",
       "</style>\n",
       "<table border=\"1\" class=\"dataframe\">\n",
       "  <thead>\n",
       "    <tr style=\"text-align: right;\">\n",
       "      <th></th>\n",
       "      <th>universe_id</th>\n",
       "      <th>universe_training_year</th>\n",
       "      <th>universe_training_size</th>\n",
       "      <th>universe_scale</th>\n",
       "      <th>universe_model</th>\n",
       "      <th>universe_exclude_features</th>\n",
       "      <th>universe_exclude_subgroups</th>\n",
       "      <th>q_hat</th>\n",
       "      <th>coverage</th>\n",
       "      <th>avg_size</th>\n",
       "      <th>cov_frau1</th>\n",
       "      <th>cov_nongerman</th>\n",
       "      <th>cov_nongerman_male</th>\n",
       "      <th>cov_nongerman_female</th>\n",
       "    </tr>\n",
       "  </thead>\n",
       "  <tbody>\n",
       "    <tr>\n",
       "      <th>0</th>\n",
       "      <td>823b617c000cf636f6bf1bed0ad41bcf</td>\n",
       "      <td>2014</td>\n",
       "      <td>1k</td>\n",
       "      <td>do-not-scale</td>\n",
       "      <td>gbm</td>\n",
       "      <td>nationality-sex</td>\n",
       "      <td>drop-non-german</td>\n",
       "      <td>0.75905</td>\n",
       "      <td>0.909096</td>\n",
       "      <td>1.159246</td>\n",
       "      <td>0.907616</td>\n",
       "      <td>0.907764</td>\n",
       "      <td>0.923354</td>\n",
       "      <td>0.881967</td>\n",
       "    </tr>\n",
       "  </tbody>\n",
       "</table>\n",
       "</div>"
      ],
      "text/plain": [
       "                        universe_id universe_training_year  \\\n",
       "0  823b617c000cf636f6bf1bed0ad41bcf                   2014   \n",
       "\n",
       "  universe_training_size universe_scale universe_model  \\\n",
       "0                     1k   do-not-scale            gbm   \n",
       "\n",
       "  universe_exclude_features universe_exclude_subgroups    q_hat  coverage  \\\n",
       "0           nationality-sex            drop-non-german  0.75905  0.909096   \n",
       "\n",
       "   avg_size  cov_frau1  cov_nongerman  cov_nongerman_male  \\\n",
       "0  1.159246   0.907616       0.907764            0.923354   \n",
       "\n",
       "   cov_nongerman_female  \n",
       "0              0.881967  "
      ]
     },
     "execution_count": 56,
     "metadata": {},
     "output_type": "execute_result"
    }
   ],
   "source": [
    "cp_metrics_df"
   ]
  },
  {
   "cell_type": "markdown",
   "id": "3fc519cc",
   "metadata": {
    "papermill": {
     "duration": 0.013955,
     "end_time": "2025-08-19T18:55:48.358093",
     "exception": false,
     "start_time": "2025-08-19T18:55:48.344138",
     "status": "completed"
    },
    "tags": []
   },
   "source": [
    "# (Fairness) Metrics"
   ]
  },
  {
   "cell_type": "code",
   "execution_count": 57,
   "id": "a2e5e155",
   "metadata": {
    "execution": {
     "iopub.execute_input": "2025-08-19T18:55:48.388198Z",
     "iopub.status.busy": "2025-08-19T18:55:48.387016Z",
     "iopub.status.idle": "2025-08-19T18:55:48.416582Z",
     "shell.execute_reply": "2025-08-19T18:55:48.415678Z"
    },
    "papermill": {
     "duration": 0.047484,
     "end_time": "2025-08-19T18:55:48.418641",
     "exception": false,
     "start_time": "2025-08-19T18:55:48.371157",
     "status": "completed"
    },
    "tags": []
   },
   "outputs": [],
   "source": [
    "colname_to_bin = \"maxdeutsch1\"\n",
    "majority_value = org_train[colname_to_bin].mode()[0]\n",
    "\n",
    "org_test[\"majmin\"] = np.where(org_test[colname_to_bin] == majority_value, \"majority\", \"minority\")"
   ]
  },
  {
   "cell_type": "code",
   "execution_count": 58,
   "id": "17e3e4d5",
   "metadata": {
    "execution": {
     "iopub.execute_input": "2025-08-19T18:55:48.445902Z",
     "iopub.status.busy": "2025-08-19T18:55:48.445504Z",
     "iopub.status.idle": "2025-08-19T18:55:50.148604Z",
     "shell.execute_reply": "2025-08-19T18:55:50.147379Z"
    },
    "papermill": {
     "duration": 1.718049,
     "end_time": "2025-08-19T18:55:50.150197",
     "exception": false,
     "start_time": "2025-08-19T18:55:48.432148",
     "status": "completed"
    },
    "tags": []
   },
   "outputs": [],
   "source": [
    "example_universe = universe.copy()\n",
    "example_universe[\"cutoff\"] = example_universe[\"cutoff\"][0]\n",
    "example_universe[\"eval_fairness_grouping\"] = example_universe[\"eval_fairness_grouping\"][0]\n",
    "fairness_dict, metric_frame = universe_analysis.compute_metrics(\n",
    "    example_universe,\n",
    "    y_pred_prob=probs_test,\n",
    "    y_test=y_true,\n",
    "    org_test=org_test,\n",
    ")"
   ]
  },
  {
   "cell_type": "markdown",
   "id": "1fb7a0e9",
   "metadata": {
    "papermill": {
     "duration": 0.015523,
     "end_time": "2025-08-19T18:55:50.178862",
     "exception": false,
     "start_time": "2025-08-19T18:55:50.163339",
     "status": "completed"
    },
    "tags": []
   },
   "source": [
    "# Overall"
   ]
  },
  {
   "cell_type": "markdown",
   "id": "be1784b1",
   "metadata": {
    "papermill": {
     "duration": 0.012263,
     "end_time": "2025-08-19T18:55:50.204127",
     "exception": false,
     "start_time": "2025-08-19T18:55:50.191864",
     "status": "completed"
    },
    "tags": []
   },
   "source": [
    "Main fairness target: Equalized Odds. Seems to be a better fit than equal opportunity, since we're not only interested in Y = 1. Seems to be a better fit than demographic parity, since we also care about accuracy, not just equal distribution of preds.\n",
    "\n",
    "Pick column for computation of fairness metrics\n",
    "\n",
    "Performance\n",
    "Overall performance measures, most interesting in relation to the measures split by group below"
   ]
  },
  {
   "cell_type": "code",
   "execution_count": 59,
   "id": "b7672bee",
   "metadata": {
    "execution": {
     "iopub.execute_input": "2025-08-19T18:55:50.230980Z",
     "iopub.status.busy": "2025-08-19T18:55:50.230520Z",
     "iopub.status.idle": "2025-08-19T18:55:50.238755Z",
     "shell.execute_reply": "2025-08-19T18:55:50.238009Z"
    },
    "papermill": {
     "duration": 0.024982,
     "end_time": "2025-08-19T18:55:50.241370",
     "exception": false,
     "start_time": "2025-08-19T18:55:50.216388",
     "status": "completed"
    },
    "tags": []
   },
   "outputs": [
    {
     "data": {
      "text/plain": [
       "accuracy                   0.219563\n",
       "balanced accuracy          0.540649\n",
       "f1                         0.242259\n",
       "precision                  0.138362\n",
       "false positive rate        0.891243\n",
       "false negative rate        0.027459\n",
       "selection rate             0.901672\n",
       "count                  89710.000000\n",
       "dtype: float64"
      ]
     },
     "execution_count": 59,
     "metadata": {},
     "output_type": "execute_result"
    }
   ],
   "source": [
    "metric_frame.overall"
   ]
  },
  {
   "cell_type": "markdown",
   "id": "d93333c9",
   "metadata": {
    "papermill": {
     "duration": 0.012441,
     "end_time": "2025-08-19T18:55:50.268157",
     "exception": false,
     "start_time": "2025-08-19T18:55:50.255716",
     "status": "completed"
    },
    "tags": []
   },
   "source": [
    "By Group"
   ]
  },
  {
   "cell_type": "code",
   "execution_count": 60,
   "id": "52256966",
   "metadata": {
    "execution": {
     "iopub.execute_input": "2025-08-19T18:55:50.294433Z",
     "iopub.status.busy": "2025-08-19T18:55:50.294029Z",
     "iopub.status.idle": "2025-08-19T18:55:50.308686Z",
     "shell.execute_reply": "2025-08-19T18:55:50.307906Z"
    },
    "papermill": {
     "duration": 0.029536,
     "end_time": "2025-08-19T18:55:50.310141",
     "exception": false,
     "start_time": "2025-08-19T18:55:50.280605",
     "status": "completed"
    },
    "tags": []
   },
   "outputs": [
    {
     "data": {
      "text/html": [
       "<div>\n",
       "<style scoped>\n",
       "    .dataframe tbody tr th:only-of-type {\n",
       "        vertical-align: middle;\n",
       "    }\n",
       "\n",
       "    .dataframe tbody tr th {\n",
       "        vertical-align: top;\n",
       "    }\n",
       "\n",
       "    .dataframe thead th {\n",
       "        text-align: right;\n",
       "    }\n",
       "</style>\n",
       "<table border=\"1\" class=\"dataframe\">\n",
       "  <thead>\n",
       "    <tr style=\"text-align: right;\">\n",
       "      <th></th>\n",
       "      <th>accuracy</th>\n",
       "      <th>balanced accuracy</th>\n",
       "      <th>f1</th>\n",
       "      <th>precision</th>\n",
       "      <th>false positive rate</th>\n",
       "      <th>false negative rate</th>\n",
       "      <th>selection rate</th>\n",
       "      <th>count</th>\n",
       "    </tr>\n",
       "    <tr>\n",
       "      <th>majmin</th>\n",
       "      <th></th>\n",
       "      <th></th>\n",
       "      <th></th>\n",
       "      <th></th>\n",
       "      <th></th>\n",
       "      <th></th>\n",
       "      <th></th>\n",
       "      <th></th>\n",
       "    </tr>\n",
       "  </thead>\n",
       "  <tbody>\n",
       "    <tr>\n",
       "      <th>majority</th>\n",
       "      <td>0.239005</td>\n",
       "      <td>0.548491</td>\n",
       "      <td>0.251812</td>\n",
       "      <td>0.144705</td>\n",
       "      <td>0.872164</td>\n",
       "      <td>0.030853</td>\n",
       "      <td>0.884979</td>\n",
       "      <td>69170.0</td>\n",
       "    </tr>\n",
       "    <tr>\n",
       "      <th>minority</th>\n",
       "      <td>0.154090</td>\n",
       "      <td>0.515686</td>\n",
       "      <td>0.211768</td>\n",
       "      <td>0.118628</td>\n",
       "      <td>0.954270</td>\n",
       "      <td>0.014358</td>\n",
       "      <td>0.957887</td>\n",
       "      <td>20540.0</td>\n",
       "    </tr>\n",
       "  </tbody>\n",
       "</table>\n",
       "</div>"
      ],
      "text/plain": [
       "          accuracy  balanced accuracy        f1  precision  \\\n",
       "majmin                                                       \n",
       "majority  0.239005           0.548491  0.251812   0.144705   \n",
       "minority  0.154090           0.515686  0.211768   0.118628   \n",
       "\n",
       "          false positive rate  false negative rate  selection rate    count  \n",
       "majmin                                                                       \n",
       "majority             0.872164             0.030853        0.884979  69170.0  \n",
       "minority             0.954270             0.014358        0.957887  20540.0  "
      ]
     },
     "execution_count": 60,
     "metadata": {},
     "output_type": "execute_result"
    }
   ],
   "source": [
    "metric_frame.by_group"
   ]
  },
  {
   "cell_type": "code",
   "execution_count": 61,
   "id": "6e6c20ae",
   "metadata": {
    "execution": {
     "iopub.execute_input": "2025-08-19T18:55:50.338893Z",
     "iopub.status.busy": "2025-08-19T18:55:50.338486Z",
     "iopub.status.idle": "2025-08-19T18:55:52.116522Z",
     "shell.execute_reply": "2025-08-19T18:55:52.115562Z"
    },
    "papermill": {
     "duration": 1.792913,
     "end_time": "2025-08-19T18:55:52.117772",
     "exception": false,
     "start_time": "2025-08-19T18:55:50.324859",
     "status": "completed"
    },
    "tags": []
   },
   "outputs": [
    {
     "data": {
      "text/plain": [
       "array([[<Axes: title={'center': 'accuracy'}, xlabel='majmin'>,\n",
       "        <Axes: title={'center': 'balanced accuracy'}, xlabel='majmin'>,\n",
       "        <Axes: title={'center': 'f1'}, xlabel='majmin'>],\n",
       "       [<Axes: title={'center': 'precision'}, xlabel='majmin'>,\n",
       "        <Axes: title={'center': 'false positive rate'}, xlabel='majmin'>,\n",
       "        <Axes: title={'center': 'false negative rate'}, xlabel='majmin'>],\n",
       "       [<Axes: title={'center': 'selection rate'}, xlabel='majmin'>,\n",
       "        <Axes: title={'center': 'count'}, xlabel='majmin'>,\n",
       "        <Axes: xlabel='majmin'>]], dtype=object)"
      ]
     },
     "execution_count": 61,
     "metadata": {},
     "output_type": "execute_result"
    },
    {
     "data": {
      "image/png": "[encoded data removed]",
      "text/plain": [
       "<Figure size 1200x800 with 9 Axes>"
      ]
     },
     "metadata": {},
     "output_type": "display_data"
    }
   ],
   "source": [
    "# In a graphic\n",
    "metric_frame.by_group.plot.bar(\n",
    "    subplots=True,\n",
    "    layout=[3, 3],\n",
    "    legend=False,\n",
    "    figsize=[12, 8],\n",
    "    title=\"Show all metrics\",\n",
    ")"
   ]
  },
  {
   "cell_type": "markdown",
   "id": "b2e433ae",
   "metadata": {
    "papermill": {
     "duration": 0.015606,
     "end_time": "2025-08-19T18:55:52.149552",
     "exception": false,
     "start_time": "2025-08-19T18:55:52.133946",
     "status": "completed"
    },
    "tags": []
   },
   "source": [
    "# Final Output"
   ]
  },
  {
   "cell_type": "code",
   "execution_count": 62,
   "id": "3871301e",
   "metadata": {
    "execution": {
     "iopub.execute_input": "2025-08-19T18:55:52.185391Z",
     "iopub.status.busy": "2025-08-19T18:55:52.182341Z",
     "iopub.status.idle": "2025-08-19T18:55:52.201046Z",
     "shell.execute_reply": "2025-08-19T18:55:52.200090Z"
    },
    "papermill": {
     "duration": 0.037914,
     "end_time": "2025-08-19T18:55:52.202782",
     "exception": false,
     "start_time": "2025-08-19T18:55:52.164868",
     "status": "completed"
    },
    "tags": []
   },
   "outputs": [
    {
     "data": {
      "text/plain": [
       "4"
      ]
     },
     "execution_count": 62,
     "metadata": {},
     "output_type": "execute_result"
    }
   ],
   "source": [
    "sub_universes = universe_analysis.generate_sub_universes()\n",
    "len(sub_universes)"
   ]
  },
  {
   "cell_type": "code",
   "execution_count": 63,
   "id": "d9cfdaca",
   "metadata": {
    "execution": {
     "iopub.execute_input": "2025-08-19T18:55:52.243403Z",
     "iopub.status.busy": "2025-08-19T18:55:52.242354Z",
     "iopub.status.idle": "2025-08-19T18:55:52.252123Z",
     "shell.execute_reply": "2025-08-19T18:55:52.250697Z"
    },
    "papermill": {
     "duration": 0.02875,
     "end_time": "2025-08-19T18:55:52.253721",
     "exception": false,
     "start_time": "2025-08-19T18:55:52.224971",
     "status": "completed"
    },
    "tags": []
   },
   "outputs": [],
   "source": [
    "def filter_sub_universe_data(sub_universe, org_test):\n",
    "    # Keep all rows — no filtering\n",
    "    keep_rows_mask = np.ones(org_test.shape[0], dtype=bool)\n",
    "\n",
    "    print(f\"[INFO] Keeping all rows: {keep_rows_mask.sum()} rows retained.\")\n",
    "    return keep_rows_mask"
   ]
  },
  {
   "cell_type": "code",
   "execution_count": 64,
   "id": "2bc31ac1",
   "metadata": {
    "execution": {
     "iopub.execute_input": "2025-08-19T18:55:52.313820Z",
     "iopub.status.busy": "2025-08-19T18:55:52.313506Z",
     "iopub.status.idle": "2025-08-19T18:55:58.998562Z",
     "shell.execute_reply": "2025-08-19T18:55:58.997524Z"
    },
    "papermill": {
     "duration": 6.724803,
     "end_time": "2025-08-19T18:55:59.000270",
     "exception": false,
     "start_time": "2025-08-19T18:55:52.275467",
     "status": "completed"
    },
    "tags": []
   },
   "outputs": [
    {
     "name": "stdout",
     "output_type": "stream",
     "text": [
      "Stopping execution_time clock.\n",
      "[INFO] Keeping all rows: 89710 rows retained.\n"
     ]
    },
    {
     "name": "stdout",
     "output_type": "stream",
     "text": [
      "[INFO] Keeping all rows: 89710 rows retained.\n"
     ]
    },
    {
     "name": "stdout",
     "output_type": "stream",
     "text": [
      "[INFO] Keeping all rows: 89710 rows retained.\n"
     ]
    },
    {
     "name": "stdout",
     "output_type": "stream",
     "text": [
      "[INFO] Keeping all rows: 89710 rows retained.\n"
     ]
    },
    {
     "data": {
      "text/html": [
       "<div>\n",
       "<style scoped>\n",
       "    .dataframe tbody tr th:only-of-type {\n",
       "        vertical-align: middle;\n",
       "    }\n",
       "\n",
       "    .dataframe tbody tr th {\n",
       "        vertical-align: top;\n",
       "    }\n",
       "\n",
       "    .dataframe thead th {\n",
       "        text-align: right;\n",
       "    }\n",
       "</style>\n",
       "<table border=\"1\" class=\"dataframe\">\n",
       "  <thead>\n",
       "    <tr style=\"text-align: right;\">\n",
       "      <th></th>\n",
       "      <th>run_no</th>\n",
       "      <th>universe_id</th>\n",
       "      <th>universe_settings</th>\n",
       "      <th>execution_time</th>\n",
       "      <th>test_size_n</th>\n",
       "      <th>test_size_frac</th>\n",
       "      <th>fair_main_equalized_odds_difference</th>\n",
       "      <th>fair_main_equalized_odds_ratio</th>\n",
       "      <th>fair_main_demographic_parity_difference</th>\n",
       "      <th>fair_main_demographic_parity_ratio</th>\n",
       "      <th>...</th>\n",
       "      <th>perf_grp_precision_0</th>\n",
       "      <th>perf_grp_precision_1</th>\n",
       "      <th>perf_grp_false positive rate_0</th>\n",
       "      <th>perf_grp_false positive rate_1</th>\n",
       "      <th>perf_grp_false negative rate_0</th>\n",
       "      <th>perf_grp_false negative rate_1</th>\n",
       "      <th>perf_grp_selection rate_0</th>\n",
       "      <th>perf_grp_selection rate_1</th>\n",
       "      <th>perf_grp_count_0</th>\n",
       "      <th>perf_grp_count_1</th>\n",
       "    </tr>\n",
       "  </thead>\n",
       "  <tbody>\n",
       "    <tr>\n",
       "      <th>0</th>\n",
       "      <td>3</td>\n",
       "      <td>823b617c000cf636f6bf1bed0ad41bcf</td>\n",
       "      <td>{\"cutoff\": \"quantile_0.1\", \"eval_fairness_grou...</td>\n",
       "      <td>22.869822</td>\n",
       "      <td>89710</td>\n",
       "      <td>1.0</td>\n",
       "      <td>0.082106</td>\n",
       "      <td>0.913959</td>\n",
       "      <td>0.072908</td>\n",
       "      <td>0.923887</td>\n",
       "      <td>...</td>\n",
       "      <td>NaN</td>\n",
       "      <td>NaN</td>\n",
       "      <td>NaN</td>\n",
       "      <td>NaN</td>\n",
       "      <td>NaN</td>\n",
       "      <td>NaN</td>\n",
       "      <td>NaN</td>\n",
       "      <td>NaN</td>\n",
       "      <td>NaN</td>\n",
       "      <td>NaN</td>\n",
       "    </tr>\n",
       "    <tr>\n",
       "      <th>0</th>\n",
       "      <td>3</td>\n",
       "      <td>823b617c000cf636f6bf1bed0ad41bcf</td>\n",
       "      <td>{\"cutoff\": \"quantile_0.1\", \"eval_fairness_grou...</td>\n",
       "      <td>22.869822</td>\n",
       "      <td>89710</td>\n",
       "      <td>1.0</td>\n",
       "      <td>0.082106</td>\n",
       "      <td>0.913959</td>\n",
       "      <td>0.072908</td>\n",
       "      <td>0.923887</td>\n",
       "      <td>...</td>\n",
       "      <td>0.118628</td>\n",
       "      <td>0.144705</td>\n",
       "      <td>0.954270</td>\n",
       "      <td>0.872164</td>\n",
       "      <td>0.014358</td>\n",
       "      <td>0.030853</td>\n",
       "      <td>0.957887</td>\n",
       "      <td>0.884979</td>\n",
       "      <td>20540.0</td>\n",
       "      <td>69170.0</td>\n",
       "    </tr>\n",
       "    <tr>\n",
       "      <th>0</th>\n",
       "      <td>3</td>\n",
       "      <td>823b617c000cf636f6bf1bed0ad41bcf</td>\n",
       "      <td>{\"cutoff\": \"quantile_0.25\", \"eval_fairness_gro...</td>\n",
       "      <td>22.869822</td>\n",
       "      <td>89710</td>\n",
       "      <td>1.0</td>\n",
       "      <td>0.177553</td>\n",
       "      <td>0.794387</td>\n",
       "      <td>0.158332</td>\n",
       "      <td>0.818681</td>\n",
       "      <td>...</td>\n",
       "      <td>NaN</td>\n",
       "      <td>NaN</td>\n",
       "      <td>NaN</td>\n",
       "      <td>NaN</td>\n",
       "      <td>NaN</td>\n",
       "      <td>NaN</td>\n",
       "      <td>NaN</td>\n",
       "      <td>NaN</td>\n",
       "      <td>NaN</td>\n",
       "      <td>NaN</td>\n",
       "    </tr>\n",
       "    <tr>\n",
       "      <th>0</th>\n",
       "      <td>3</td>\n",
       "      <td>823b617c000cf636f6bf1bed0ad41bcf</td>\n",
       "      <td>{\"cutoff\": \"quantile_0.25\", \"eval_fairness_gro...</td>\n",
       "      <td>22.869822</td>\n",
       "      <td>89710</td>\n",
       "      <td>1.0</td>\n",
       "      <td>0.177553</td>\n",
       "      <td>0.794387</td>\n",
       "      <td>0.158332</td>\n",
       "      <td>0.818681</td>\n",
       "      <td>...</td>\n",
       "      <td>0.125112</td>\n",
       "      <td>0.167243</td>\n",
       "      <td>0.863526</td>\n",
       "      <td>0.685974</td>\n",
       "      <td>0.052365</td>\n",
       "      <td>0.095186</td>\n",
       "      <td>0.873223</td>\n",
       "      <td>0.714891</td>\n",
       "      <td>20540.0</td>\n",
       "      <td>69170.0</td>\n",
       "    </tr>\n",
       "  </tbody>\n",
       "</table>\n",
       "<p>4 rows × 50 columns</p>\n",
       "</div>"
      ],
      "text/plain": [
       "  run_no                       universe_id  \\\n",
       "0      3  823b617c000cf636f6bf1bed0ad41bcf   \n",
       "0      3  823b617c000cf636f6bf1bed0ad41bcf   \n",
       "0      3  823b617c000cf636f6bf1bed0ad41bcf   \n",
       "0      3  823b617c000cf636f6bf1bed0ad41bcf   \n",
       "\n",
       "                                   universe_settings  execution_time  \\\n",
       "0  {\"cutoff\": \"quantile_0.1\", \"eval_fairness_grou...       22.869822   \n",
       "0  {\"cutoff\": \"quantile_0.1\", \"eval_fairness_grou...       22.869822   \n",
       "0  {\"cutoff\": \"quantile_0.25\", \"eval_fairness_gro...       22.869822   \n",
       "0  {\"cutoff\": \"quantile_0.25\", \"eval_fairness_gro...       22.869822   \n",
       "\n",
       "   test_size_n  test_size_frac  fair_main_equalized_odds_difference  \\\n",
       "0        89710             1.0                             0.082106   \n",
       "0        89710             1.0                             0.082106   \n",
       "0        89710             1.0                             0.177553   \n",
       "0        89710             1.0                             0.177553   \n",
       "\n",
       "   fair_main_equalized_odds_ratio  fair_main_demographic_parity_difference  \\\n",
       "0                        0.913959                                 0.072908   \n",
       "0                        0.913959                                 0.072908   \n",
       "0                        0.794387                                 0.158332   \n",
       "0                        0.794387                                 0.158332   \n",
       "\n",
       "   fair_main_demographic_parity_ratio  ...  perf_grp_precision_0  \\\n",
       "0                            0.923887  ...                   NaN   \n",
       "0                            0.923887  ...              0.118628   \n",
       "0                            0.818681  ...                   NaN   \n",
       "0                            0.818681  ...              0.125112   \n",
       "\n",
       "   perf_grp_precision_1  perf_grp_false positive rate_0  \\\n",
       "0                   NaN                             NaN   \n",
       "0              0.144705                        0.954270   \n",
       "0                   NaN                             NaN   \n",
       "0              0.167243                        0.863526   \n",
       "\n",
       "   perf_grp_false positive rate_1  perf_grp_false negative rate_0  \\\n",
       "0                             NaN                             NaN   \n",
       "0                        0.872164                        0.014358   \n",
       "0                             NaN                             NaN   \n",
       "0                        0.685974                        0.052365   \n",
       "\n",
       "   perf_grp_false negative rate_1  perf_grp_selection rate_0  \\\n",
       "0                             NaN                        NaN   \n",
       "0                        0.030853                   0.957887   \n",
       "0                             NaN                        NaN   \n",
       "0                        0.095186                   0.873223   \n",
       "\n",
       "   perf_grp_selection rate_1  perf_grp_count_0  perf_grp_count_1  \n",
       "0                        NaN               NaN               NaN  \n",
       "0                   0.884979           20540.0           69170.0  \n",
       "0                        NaN               NaN               NaN  \n",
       "0                   0.714891           20540.0           69170.0  \n",
       "\n",
       "[4 rows x 50 columns]"
      ]
     },
     "execution_count": 64,
     "metadata": {},
     "output_type": "execute_result"
    }
   ],
   "source": [
    "final_output = universe_analysis.generate_final_output(\n",
    "    y_pred_prob=probs_test,\n",
    "    y_test=y_true,\n",
    "    org_test=org_test,\n",
    "    filter_data=filter_sub_universe_data,\n",
    "    cp_metrics_df=cp_metrics_df,\n",
    "    save=True,\n",
    ")\n",
    "final_output"
   ]
  },
  {
   "cell_type": "code",
   "execution_count": null,
   "id": "8b80a1ff",
   "metadata": {
    "papermill": {
     "duration": 0.014449,
     "end_time": "2025-08-19T18:55:59.034701",
     "exception": false,
     "start_time": "2025-08-19T18:55:59.020252",
     "status": "completed"
    },
    "tags": []
   },
   "outputs": [],
   "source": []
  },
  {
   "cell_type": "code",
   "execution_count": null,
   "id": "275c9fad",
   "metadata": {
    "papermill": {
     "duration": 0.014676,
     "end_time": "2025-08-19T18:55:59.063432",
     "exception": false,
     "start_time": "2025-08-19T18:55:59.048756",
     "status": "completed"
    },
    "tags": []
   },
   "outputs": [],
   "source": []
  }
 ],
 "metadata": {
  "celltoolbar": "Tags",
  "kernelspec": {
   "display_name": "Python (CMA Fairness)",
   "language": "python",
   "name": "cma_fair_env"
  },
  "language_info": {
   "codemirror_mode": {
    "name": "ipython",
    "version": 3
   },
   "file_extension": ".py",
   "mimetype": "text/x-python",
   "name": "python",
   "nbconvert_exporter": "python",
   "pygments_lexer": "ipython3",
   "version": "3.10.12"
  },
  "papermill": {
   "default_parameters": {},
   "duration": 33.237979,
   "end_time": "2025-08-19T18:55:59.902168",
   "environment_variables": {},
   "exception": null,
   "input_path": "universe_analysis.ipynb",
   "output_path": "output/runs/3/notebooks/m_3-823b617c000cf636f6bf1bed0ad41bcf.ipynb",
   "parameters": {
    "output_dir": "output",
    "run_no": "3",
    "seed": "2023",
    "universe": "{\"cutoff\": [\"quantile_0.1\", \"quantile_0.25\"], \"eval_fairness_grouping\": [\"majority-minority\", \"nationality-all\"], \"exclude_features\": \"nationality-sex\", \"exclude_subgroups\": \"drop-non-german\", \"model\": \"gbm\", \"scale\": \"do-not-scale\", \"training_size\": \"1k\", \"training_year\": \"2014\"}",
    "universe_id": "823b617c000cf636f6bf1bed0ad41bcf"
   },
   "start_time": "2025-08-19T18:55:26.664189",
   "version": "2.6.0"
  }
 },
 "nbformat": 4,
 "nbformat_minor": 5
}