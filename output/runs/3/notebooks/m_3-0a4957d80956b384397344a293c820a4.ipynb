{
 "cells": [
  {
   "cell_type": "markdown",
   "id": "ef23dbb3",
   "metadata": {
    "papermill": {
     "duration": 0.022413,
     "end_time": "2025-08-19T18:07:48.141842",
     "exception": false,
     "start_time": "2025-08-19T18:07:48.119429",
     "status": "completed"
    },
    "tags": []
   },
   "source": [
    "# Setup"
   ]
  },
  {
   "cell_type": "code",
   "execution_count": 1,
   "id": "0bc8e7dc",
   "metadata": {
    "execution": {
     "iopub.execute_input": "2025-08-19T18:07:48.164990Z",
     "iopub.status.busy": "2025-08-19T18:07:48.164677Z",
     "iopub.status.idle": "2025-08-19T18:07:48.177696Z",
     "shell.execute_reply": "2025-08-19T18:07:48.176362Z"
    },
    "papermill": {
     "duration": 0.029801,
     "end_time": "2025-08-19T18:07:48.184118",
     "exception": false,
     "start_time": "2025-08-19T18:07:48.154317",
     "status": "completed"
    },
    "tags": []
   },
   "outputs": [
    {
     "name": "stdout",
     "output_type": "stream",
     "text": [
      "/dss/dsshome1/0C/ra93lal2/cma/CMA_Fairness_v2\n"
     ]
    },
    {
     "name": "stderr",
     "output_type": "stream",
     "text": [
      "/dss/dsshome1/0C/ra93lal2/.local/share/virtualenvs/CMA_Fairness_v2-3j10GkSs/lib/python3.10/site-packages/IPython/core/magics/osm.py:393: UserWarning: This is now an optional IPython functionality, using bookmarks requires you to install the `pickleshare` library.\n",
      "  bkms = self.shell.db.get('bookmarks', {})\n",
      "/dss/dsshome1/0C/ra93lal2/.local/share/virtualenvs/CMA_Fairness_v2-3j10GkSs/lib/python3.10/site-packages/IPython/core/magics/osm.py:417: UserWarning: This is now an optional IPython functionality, setting dhist requires you to install the `pickleshare` library.\n",
      "  self.shell.db['dhist'] = compress_dhist(dhist)[-100:]\n"
     ]
    }
   ],
   "source": [
    "%cd ~/cma/CMA_Fairness_v2"
   ]
  },
  {
   "cell_type": "markdown",
   "id": "9d235661",
   "metadata": {
    "papermill": {
     "duration": 0.010065,
     "end_time": "2025-08-19T18:07:48.220577",
     "exception": false,
     "start_time": "2025-08-19T18:07:48.210512",
     "status": "completed"
    },
    "tags": []
   },
   "source": [
    "The following cell holds the definition of our parameters, these values can be overriden by rendering the with e.g. the following command:\n",
    "\n",
    "papermill -p alpha 0.2 -p ratio 0.3 universe_analysis.ipynb output/test_run.ipynb"
   ]
  },
  {
   "cell_type": "code",
   "execution_count": 2,
   "id": "4a789d8e",
   "metadata": {
    "execution": {
     "iopub.execute_input": "2025-08-19T18:07:48.239611Z",
     "iopub.status.busy": "2025-08-19T18:07:48.239320Z",
     "iopub.status.idle": "2025-08-19T18:07:48.247240Z",
     "shell.execute_reply": "2025-08-19T18:07:48.244251Z"
    },
    "papermill": {
     "duration": 0.020328,
     "end_time": "2025-08-19T18:07:48.249700",
     "exception": false,
     "start_time": "2025-08-19T18:07:48.229372",
     "status": "completed"
    },
    "tags": []
   },
   "outputs": [
    {
     "name": "stdout",
     "output_type": "stream",
     "text": [
      "Current working directory: /dss/dsshome1/0C/ra93lal2/cma/CMA_Fairness_v2\n"
     ]
    }
   ],
   "source": [
    "import os\n",
    "print(\"Current working directory:\", os.getcwd())"
   ]
  },
  {
   "cell_type": "code",
   "execution_count": 3,
   "id": "4132aaed",
   "metadata": {
    "execution": {
     "iopub.execute_input": "2025-08-19T18:07:48.273243Z",
     "iopub.status.busy": "2025-08-19T18:07:48.272967Z",
     "iopub.status.idle": "2025-08-19T18:07:48.278305Z",
     "shell.execute_reply": "2025-08-19T18:07:48.277367Z"
    },
    "papermill": {
     "duration": 0.016716,
     "end_time": "2025-08-19T18:07:48.279803",
     "exception": false,
     "start_time": "2025-08-19T18:07:48.263087",
     "status": "completed"
    },
    "tags": [
     "parameters"
    ]
   },
   "outputs": [],
   "source": [
    "run_no = 0\n",
    "universe_id = \"test\"\n",
    "universe = {\n",
    "    \"training_size\": \"5k\", # \"25k\", \"5k\", \"1k\"\n",
    "    \"training_year\": \"2012_14\", # \"2014\", \"2012_14\", \"2010_14\"\n",
    "    \"scale\": \"scale\", # \"scale\", \"do-not-scale\",\n",
    "    \"model\": \"elasticnet\", # \"logreg\", \"penalized_logreg\", \"rf\", \"gbm\", \"elasticnet\"\n",
    "    \"cutoff\": [\"quantile_0.15\", \"quantile_0.30\"],\n",
    "    \"exclude_features\": \"age\", # \"none\", \"nationality\", \"sex\", \"nationality-sex\", \"age\"\n",
    "    \"exclude_subgroups\": \"drop-non-german\", # \"keep-all\", \"drop-non-german\"\n",
    "    \"eval_fairness_grouping\": [\"majority-minority\", \"nationality-all\"]\n",
    "}\n",
    "\n",
    "output_dir=\"./output\"\n",
    "seed=0"
   ]
  },
  {
   "cell_type": "code",
   "execution_count": 4,
   "id": "d3b6e47b",
   "metadata": {
    "execution": {
     "iopub.execute_input": "2025-08-19T18:07:48.301723Z",
     "iopub.status.busy": "2025-08-19T18:07:48.301318Z",
     "iopub.status.idle": "2025-08-19T18:07:48.307175Z",
     "shell.execute_reply": "2025-08-19T18:07:48.305932Z"
    },
    "papermill": {
     "duration": 0.018808,
     "end_time": "2025-08-19T18:07:48.308645",
     "exception": false,
     "start_time": "2025-08-19T18:07:48.289837",
     "status": "completed"
    },
    "tags": [
     "injected-parameters"
    ]
   },
   "outputs": [],
   "source": [
    "# Parameters\n",
    "universe_id = \"0a4957d80956b384397344a293c820a4\"\n",
    "run_no = \"3\"\n",
    "universe = \"{\\\"cutoff\\\": [\\\"quantile_0.1\\\", \\\"quantile_0.25\\\"], \\\"eval_fairness_grouping\\\": [\\\"majority-minority\\\", \\\"nationality-all\\\"], \\\"exclude_features\\\": \\\"none\\\", \\\"exclude_subgroups\\\": \\\"drop-non-german\\\", \\\"model\\\": \\\"logreg\\\", \\\"scale\\\": \\\"do-not-scale\\\", \\\"training_size\\\": \\\"25k\\\", \\\"training_year\\\": \\\"2012_14\\\"}\"\n",
    "output_dir = \"output\"\n",
    "seed = \"2023\"\n"
   ]
  },
  {
   "cell_type": "code",
   "execution_count": 5,
   "id": "a5d7941f",
   "metadata": {
    "execution": {
     "iopub.execute_input": "2025-08-19T18:07:48.329353Z",
     "iopub.status.busy": "2025-08-19T18:07:48.329072Z",
     "iopub.status.idle": "2025-08-19T18:07:48.333893Z",
     "shell.execute_reply": "2025-08-19T18:07:48.332941Z"
    },
    "papermill": {
     "duration": 0.016583,
     "end_time": "2025-08-19T18:07:48.335513",
     "exception": false,
     "start_time": "2025-08-19T18:07:48.318930",
     "status": "completed"
    },
    "tags": []
   },
   "outputs": [],
   "source": [
    "import json\n",
    "if isinstance(universe, str):\n",
    "    universe = json.loads(universe)"
   ]
  },
  {
   "cell_type": "code",
   "execution_count": 6,
   "id": "7076ccb1",
   "metadata": {
    "execution": {
     "iopub.execute_input": "2025-08-19T18:07:48.356558Z",
     "iopub.status.busy": "2025-08-19T18:07:48.355725Z",
     "iopub.status.idle": "2025-08-19T18:07:48.401040Z",
     "shell.execute_reply": "2025-08-19T18:07:48.400317Z"
    },
    "papermill": {
     "duration": 0.056785,
     "end_time": "2025-08-19T18:07:48.402568",
     "exception": false,
     "start_time": "2025-08-19T18:07:48.345783",
     "status": "completed"
    },
    "tags": []
   },
   "outputs": [],
   "source": [
    "# Auto-reload the custom package\n",
    "%load_ext autoreload\n",
    "%autoreload 1\n",
    "%aimport fairness_multiverse"
   ]
  },
  {
   "cell_type": "code",
   "execution_count": 7,
   "id": "94c8eb93",
   "metadata": {
    "execution": {
     "iopub.execute_input": "2025-08-19T18:07:48.422028Z",
     "iopub.status.busy": "2025-08-19T18:07:48.421763Z",
     "iopub.status.idle": "2025-08-19T18:07:49.987941Z",
     "shell.execute_reply": "2025-08-19T18:07:49.987186Z"
    },
    "papermill": {
     "duration": 1.577392,
     "end_time": "2025-08-19T18:07:49.989415",
     "exception": false,
     "start_time": "2025-08-19T18:07:48.412023",
     "status": "completed"
    },
    "tags": []
   },
   "outputs": [],
   "source": [
    "from fairness_multiverse.universe import UniverseAnalysis\n",
    "\n",
    "universe_analysis = UniverseAnalysis(\n",
    "    run_no = run_no,\n",
    "    universe_id = universe_id,\n",
    "    universe = universe,\n",
    "    output_dir=output_dir,\n",
    ")"
   ]
  },
  {
   "cell_type": "code",
   "execution_count": 8,
   "id": "2a6381cf",
   "metadata": {
    "execution": {
     "iopub.execute_input": "2025-08-19T18:07:50.021483Z",
     "iopub.status.busy": "2025-08-19T18:07:50.020011Z",
     "iopub.status.idle": "2025-08-19T18:07:50.029606Z",
     "shell.execute_reply": "2025-08-19T18:07:50.028350Z"
    },
    "papermill": {
     "duration": 0.030121,
     "end_time": "2025-08-19T18:07:50.031251",
     "exception": false,
     "start_time": "2025-08-19T18:07:50.001130",
     "status": "completed"
    },
    "tags": []
   },
   "outputs": [
    {
     "name": "stdout",
     "output_type": "stream",
     "text": [
      "Using Seed: 2023\n"
     ]
    }
   ],
   "source": [
    "import numpy as np\n",
    "parsed_seed = int(seed)\n",
    "np.random.seed(parsed_seed)\n",
    "print(f\"Using Seed: {parsed_seed}\")"
   ]
  },
  {
   "cell_type": "markdown",
   "id": "b6e958b4",
   "metadata": {
    "papermill": {
     "duration": 0.012317,
     "end_time": "2025-08-19T18:07:50.056709",
     "exception": false,
     "start_time": "2025-08-19T18:07:50.044392",
     "status": "completed"
    },
    "tags": []
   },
   "source": [
    "# Loading Data"
   ]
  },
  {
   "cell_type": "code",
   "execution_count": 9,
   "id": "98701482",
   "metadata": {
    "execution": {
     "iopub.execute_input": "2025-08-19T18:07:50.092826Z",
     "iopub.status.busy": "2025-08-19T18:07:50.091368Z",
     "iopub.status.idle": "2025-08-19T18:08:00.402836Z",
     "shell.execute_reply": "2025-08-19T18:08:00.401840Z"
    },
    "papermill": {
     "duration": 10.337947,
     "end_time": "2025-08-19T18:08:00.404108",
     "exception": false,
     "start_time": "2025-08-19T18:07:50.066161",
     "status": "completed"
    },
    "tags": []
   },
   "outputs": [
    {
     "name": "stdout",
     "output_type": "stream",
     "text": [
      "Loading SIAB data from cache: data/siab_cached.csv.gz\n"
     ]
    },
    {
     "name": "stdout",
     "output_type": "stream",
     "text": [
      "(643690, 164)\n"
     ]
    }
   ],
   "source": [
    "from pathlib import Path\n",
    "import pandas as pd\n",
    "\n",
    "# File paths\n",
    "raw_file = Path(\"data/raw/siab.csv\")\n",
    "cache_file = Path(\"data/siab_cached.csv.gz\")\n",
    "\n",
    "# Ensure cache directory exists\n",
    "cache_file.parent.mkdir(parents=True, exist_ok=True)\n",
    "\n",
    "# Load with simple caching\n",
    "if cache_file.exists():\n",
    "    print(f\"Loading SIAB data from cache: {cache_file}\")\n",
    "    siab = pd.read_csv(cache_file, compression='gzip')\n",
    "else:\n",
    "    print(f\"Cache not found. Reading raw SIAB data: {raw_file}\")\n",
    "    siab = pd.read_csv(raw_file)\n",
    "    siab.to_csv(cache_file, index=False, compression='gzip')\n",
    "    print(f\"Cached SIAB data to: {cache_file}\")\n",
    "\n",
    "print(siab.shape)"
   ]
  },
  {
   "cell_type": "code",
   "execution_count": 10,
   "id": "058d2abb",
   "metadata": {
    "execution": {
     "iopub.execute_input": "2025-08-19T18:08:00.438890Z",
     "iopub.status.busy": "2025-08-19T18:08:00.438461Z",
     "iopub.status.idle": "2025-08-19T18:08:00.638939Z",
     "shell.execute_reply": "2025-08-19T18:08:00.638200Z"
    },
    "papermill": {
     "duration": 0.212713,
     "end_time": "2025-08-19T18:08:00.640362",
     "exception": false,
     "start_time": "2025-08-19T18:08:00.427649",
     "status": "completed"
    },
    "tags": []
   },
   "outputs": [
    {
     "data": {
      "text/html": [
       "<div>\n",
       "<style scoped>\n",
       "    .dataframe tbody tr th:only-of-type {\n",
       "        vertical-align: middle;\n",
       "    }\n",
       "\n",
       "    .dataframe tbody tr th {\n",
       "        vertical-align: top;\n",
       "    }\n",
       "\n",
       "    .dataframe thead th {\n",
       "        text-align: right;\n",
       "    }\n",
       "</style>\n",
       "<table border=\"1\" class=\"dataframe\">\n",
       "  <thead>\n",
       "    <tr style=\"text-align: right;\">\n",
       "      <th></th>\n",
       "      <th>persnr</th>\n",
       "      <th>year</th>\n",
       "      <th>nrEntry</th>\n",
       "      <th>ltue</th>\n",
       "      <th>employed_before</th>\n",
       "      <th>receipt_leh_before</th>\n",
       "      <th>receipt_lhg_before</th>\n",
       "      <th>se_before</th>\n",
       "      <th>ASU_notue_seeking_before</th>\n",
       "      <th>ASU_other_before</th>\n",
       "      <th>...</th>\n",
       "      <th>minijob_tot_dur_byage</th>\n",
       "      <th>ft_tot_dur_byage</th>\n",
       "      <th>befrist_tot_dur_byage</th>\n",
       "      <th>leih_tot_dur_byage</th>\n",
       "      <th>LHG_tot_dur_byage</th>\n",
       "      <th>LEH_tot_dur_byage</th>\n",
       "      <th>almp_tot_dur_byage</th>\n",
       "      <th>almp_aw_tot_dur_byage</th>\n",
       "      <th>se_tot_dur_byage</th>\n",
       "      <th>seeking1_tot_dur_byage</th>\n",
       "    </tr>\n",
       "  </thead>\n",
       "  <tbody>\n",
       "    <tr>\n",
       "      <th>0</th>\n",
       "      <td>7</td>\n",
       "      <td>2015</td>\n",
       "      <td>1</td>\n",
       "      <td>0</td>\n",
       "      <td>1</td>\n",
       "      <td>0</td>\n",
       "      <td>0</td>\n",
       "      <td>0</td>\n",
       "      <td>1</td>\n",
       "      <td>0</td>\n",
       "      <td>...</td>\n",
       "      <td>0.000000</td>\n",
       "      <td>0.000000</td>\n",
       "      <td>15.043478</td>\n",
       "      <td>0.000000</td>\n",
       "      <td>0.000000</td>\n",
       "      <td>0.000000</td>\n",
       "      <td>0.000000</td>\n",
       "      <td>0.000000</td>\n",
       "      <td>0.000000</td>\n",
       "      <td>0.000000</td>\n",
       "    </tr>\n",
       "    <tr>\n",
       "      <th>1</th>\n",
       "      <td>18</td>\n",
       "      <td>2010</td>\n",
       "      <td>1</td>\n",
       "      <td>1</td>\n",
       "      <td>0</td>\n",
       "      <td>0</td>\n",
       "      <td>0</td>\n",
       "      <td>0</td>\n",
       "      <td>0</td>\n",
       "      <td>0</td>\n",
       "      <td>...</td>\n",
       "      <td>0.000000</td>\n",
       "      <td>0.000000</td>\n",
       "      <td>0.000000</td>\n",
       "      <td>0.000000</td>\n",
       "      <td>0.000000</td>\n",
       "      <td>0.000000</td>\n",
       "      <td>0.000000</td>\n",
       "      <td>0.000000</td>\n",
       "      <td>0.000000</td>\n",
       "      <td>0.000000</td>\n",
       "    </tr>\n",
       "    <tr>\n",
       "      <th>2</th>\n",
       "      <td>18</td>\n",
       "      <td>2011</td>\n",
       "      <td>2</td>\n",
       "      <td>0</td>\n",
       "      <td>1</td>\n",
       "      <td>0</td>\n",
       "      <td>1</td>\n",
       "      <td>0</td>\n",
       "      <td>1</td>\n",
       "      <td>0</td>\n",
       "      <td>...</td>\n",
       "      <td>2.714286</td>\n",
       "      <td>2.714286</td>\n",
       "      <td>0.000000</td>\n",
       "      <td>0.000000</td>\n",
       "      <td>10.775510</td>\n",
       "      <td>0.000000</td>\n",
       "      <td>8.367347</td>\n",
       "      <td>0.000000</td>\n",
       "      <td>0.000000</td>\n",
       "      <td>9.836735</td>\n",
       "    </tr>\n",
       "    <tr>\n",
       "      <th>3</th>\n",
       "      <td>18</td>\n",
       "      <td>2012</td>\n",
       "      <td>3</td>\n",
       "      <td>0</td>\n",
       "      <td>1</td>\n",
       "      <td>0</td>\n",
       "      <td>1</td>\n",
       "      <td>0</td>\n",
       "      <td>1</td>\n",
       "      <td>0</td>\n",
       "      <td>...</td>\n",
       "      <td>4.200000</td>\n",
       "      <td>4.200000</td>\n",
       "      <td>0.000000</td>\n",
       "      <td>0.000000</td>\n",
       "      <td>12.100000</td>\n",
       "      <td>0.000000</td>\n",
       "      <td>9.400000</td>\n",
       "      <td>0.000000</td>\n",
       "      <td>0.000000</td>\n",
       "      <td>9.960000</td>\n",
       "    </tr>\n",
       "    <tr>\n",
       "      <th>4</th>\n",
       "      <td>18</td>\n",
       "      <td>2012</td>\n",
       "      <td>4</td>\n",
       "      <td>0</td>\n",
       "      <td>1</td>\n",
       "      <td>0</td>\n",
       "      <td>1</td>\n",
       "      <td>0</td>\n",
       "      <td>1</td>\n",
       "      <td>0</td>\n",
       "      <td>...</td>\n",
       "      <td>5.460000</td>\n",
       "      <td>5.460000</td>\n",
       "      <td>0.000000</td>\n",
       "      <td>0.000000</td>\n",
       "      <td>13.360000</td>\n",
       "      <td>0.000000</td>\n",
       "      <td>10.320000</td>\n",
       "      <td>0.000000</td>\n",
       "      <td>0.000000</td>\n",
       "      <td>10.280000</td>\n",
       "    </tr>\n",
       "    <tr>\n",
       "      <th>...</th>\n",
       "      <td>...</td>\n",
       "      <td>...</td>\n",
       "      <td>...</td>\n",
       "      <td>...</td>\n",
       "      <td>...</td>\n",
       "      <td>...</td>\n",
       "      <td>...</td>\n",
       "      <td>...</td>\n",
       "      <td>...</td>\n",
       "      <td>...</td>\n",
       "      <td>...</td>\n",
       "      <td>...</td>\n",
       "      <td>...</td>\n",
       "      <td>...</td>\n",
       "      <td>...</td>\n",
       "      <td>...</td>\n",
       "      <td>...</td>\n",
       "      <td>...</td>\n",
       "      <td>...</td>\n",
       "      <td>...</td>\n",
       "      <td>...</td>\n",
       "    </tr>\n",
       "    <tr>\n",
       "      <th>643685</th>\n",
       "      <td>1827860</td>\n",
       "      <td>2013</td>\n",
       "      <td>1</td>\n",
       "      <td>0</td>\n",
       "      <td>0</td>\n",
       "      <td>0</td>\n",
       "      <td>1</td>\n",
       "      <td>0</td>\n",
       "      <td>0</td>\n",
       "      <td>1</td>\n",
       "      <td>...</td>\n",
       "      <td>0.000000</td>\n",
       "      <td>0.000000</td>\n",
       "      <td>0.000000</td>\n",
       "      <td>0.000000</td>\n",
       "      <td>0.612903</td>\n",
       "      <td>0.000000</td>\n",
       "      <td>0.000000</td>\n",
       "      <td>0.000000</td>\n",
       "      <td>0.000000</td>\n",
       "      <td>0.000000</td>\n",
       "    </tr>\n",
       "    <tr>\n",
       "      <th>643686</th>\n",
       "      <td>1827860</td>\n",
       "      <td>2015</td>\n",
       "      <td>2</td>\n",
       "      <td>1</td>\n",
       "      <td>0</td>\n",
       "      <td>0</td>\n",
       "      <td>1</td>\n",
       "      <td>0</td>\n",
       "      <td>1</td>\n",
       "      <td>0</td>\n",
       "      <td>...</td>\n",
       "      <td>0.000000</td>\n",
       "      <td>0.000000</td>\n",
       "      <td>0.212121</td>\n",
       "      <td>0.212121</td>\n",
       "      <td>17.363636</td>\n",
       "      <td>0.000000</td>\n",
       "      <td>8.909091</td>\n",
       "      <td>0.000000</td>\n",
       "      <td>0.000000</td>\n",
       "      <td>7.121212</td>\n",
       "    </tr>\n",
       "    <tr>\n",
       "      <th>643687</th>\n",
       "      <td>1827860</td>\n",
       "      <td>2016</td>\n",
       "      <td>3</td>\n",
       "      <td>1</td>\n",
       "      <td>0</td>\n",
       "      <td>0</td>\n",
       "      <td>1</td>\n",
       "      <td>1</td>\n",
       "      <td>0</td>\n",
       "      <td>1</td>\n",
       "      <td>...</td>\n",
       "      <td>0.000000</td>\n",
       "      <td>0.000000</td>\n",
       "      <td>0.294118</td>\n",
       "      <td>0.205882</td>\n",
       "      <td>34.705882</td>\n",
       "      <td>0.000000</td>\n",
       "      <td>10.352941</td>\n",
       "      <td>1.705882</td>\n",
       "      <td>1.705882</td>\n",
       "      <td>23.911765</td>\n",
       "    </tr>\n",
       "    <tr>\n",
       "      <th>643688</th>\n",
       "      <td>1827869</td>\n",
       "      <td>2013</td>\n",
       "      <td>1</td>\n",
       "      <td>1</td>\n",
       "      <td>1</td>\n",
       "      <td>0</td>\n",
       "      <td>0</td>\n",
       "      <td>0</td>\n",
       "      <td>1</td>\n",
       "      <td>0</td>\n",
       "      <td>...</td>\n",
       "      <td>0.000000</td>\n",
       "      <td>0.000000</td>\n",
       "      <td>0.000000</td>\n",
       "      <td>0.000000</td>\n",
       "      <td>0.000000</td>\n",
       "      <td>0.525424</td>\n",
       "      <td>0.000000</td>\n",
       "      <td>0.000000</td>\n",
       "      <td>0.000000</td>\n",
       "      <td>0.000000</td>\n",
       "    </tr>\n",
       "    <tr>\n",
       "      <th>643689</th>\n",
       "      <td>1827869</td>\n",
       "      <td>2014</td>\n",
       "      <td>2</td>\n",
       "      <td>0</td>\n",
       "      <td>0</td>\n",
       "      <td>1</td>\n",
       "      <td>0</td>\n",
       "      <td>0</td>\n",
       "      <td>1</td>\n",
       "      <td>0</td>\n",
       "      <td>...</td>\n",
       "      <td>0.000000</td>\n",
       "      <td>0.666667</td>\n",
       "      <td>0.666667</td>\n",
       "      <td>0.000000</td>\n",
       "      <td>0.000000</td>\n",
       "      <td>8.950000</td>\n",
       "      <td>1.033333</td>\n",
       "      <td>0.083333</td>\n",
       "      <td>0.083333</td>\n",
       "      <td>8.133333</td>\n",
       "    </tr>\n",
       "  </tbody>\n",
       "</table>\n",
       "<p>643690 rows × 164 columns</p>\n",
       "</div>"
      ],
      "text/plain": [
       "         persnr  year  nrEntry  ltue  employed_before  receipt_leh_before  \\\n",
       "0             7  2015        1     0                1                   0   \n",
       "1            18  2010        1     1                0                   0   \n",
       "2            18  2011        2     0                1                   0   \n",
       "3            18  2012        3     0                1                   0   \n",
       "4            18  2012        4     0                1                   0   \n",
       "...         ...   ...      ...   ...              ...                 ...   \n",
       "643685  1827860  2013        1     0                0                   0   \n",
       "643686  1827860  2015        2     1                0                   0   \n",
       "643687  1827860  2016        3     1                0                   0   \n",
       "643688  1827869  2013        1     1                1                   0   \n",
       "643689  1827869  2014        2     0                0                   1   \n",
       "\n",
       "        receipt_lhg_before  se_before  ASU_notue_seeking_before  \\\n",
       "0                        0          0                         1   \n",
       "1                        0          0                         0   \n",
       "2                        1          0                         1   \n",
       "3                        1          0                         1   \n",
       "4                        1          0                         1   \n",
       "...                    ...        ...                       ...   \n",
       "643685                   1          0                         0   \n",
       "643686                   1          0                         1   \n",
       "643687                   1          1                         0   \n",
       "643688                   0          0                         1   \n",
       "643689                   0          0                         1   \n",
       "\n",
       "        ASU_other_before  ...  minijob_tot_dur_byage  ft_tot_dur_byage  \\\n",
       "0                      0  ...               0.000000          0.000000   \n",
       "1                      0  ...               0.000000          0.000000   \n",
       "2                      0  ...               2.714286          2.714286   \n",
       "3                      0  ...               4.200000          4.200000   \n",
       "4                      0  ...               5.460000          5.460000   \n",
       "...                  ...  ...                    ...               ...   \n",
       "643685                 1  ...               0.000000          0.000000   \n",
       "643686                 0  ...               0.000000          0.000000   \n",
       "643687                 1  ...               0.000000          0.000000   \n",
       "643688                 0  ...               0.000000          0.000000   \n",
       "643689                 0  ...               0.000000          0.666667   \n",
       "\n",
       "        befrist_tot_dur_byage  leih_tot_dur_byage  LHG_tot_dur_byage  \\\n",
       "0                   15.043478            0.000000           0.000000   \n",
       "1                    0.000000            0.000000           0.000000   \n",
       "2                    0.000000            0.000000          10.775510   \n",
       "3                    0.000000            0.000000          12.100000   \n",
       "4                    0.000000            0.000000          13.360000   \n",
       "...                       ...                 ...                ...   \n",
       "643685               0.000000            0.000000           0.612903   \n",
       "643686               0.212121            0.212121          17.363636   \n",
       "643687               0.294118            0.205882          34.705882   \n",
       "643688               0.000000            0.000000           0.000000   \n",
       "643689               0.666667            0.000000           0.000000   \n",
       "\n",
       "        LEH_tot_dur_byage  almp_tot_dur_byage  almp_aw_tot_dur_byage  \\\n",
       "0                0.000000            0.000000               0.000000   \n",
       "1                0.000000            0.000000               0.000000   \n",
       "2                0.000000            8.367347               0.000000   \n",
       "3                0.000000            9.400000               0.000000   \n",
       "4                0.000000           10.320000               0.000000   \n",
       "...                   ...                 ...                    ...   \n",
       "643685           0.000000            0.000000               0.000000   \n",
       "643686           0.000000            8.909091               0.000000   \n",
       "643687           0.000000           10.352941               1.705882   \n",
       "643688           0.525424            0.000000               0.000000   \n",
       "643689           8.950000            1.033333               0.083333   \n",
       "\n",
       "        se_tot_dur_byage  seeking1_tot_dur_byage  \n",
       "0               0.000000                0.000000  \n",
       "1               0.000000                0.000000  \n",
       "2               0.000000                9.836735  \n",
       "3               0.000000                9.960000  \n",
       "4               0.000000               10.280000  \n",
       "...                  ...                     ...  \n",
       "643685          0.000000                0.000000  \n",
       "643686          0.000000                7.121212  \n",
       "643687          1.705882               23.911765  \n",
       "643688          0.000000                0.000000  \n",
       "643689          0.083333                8.133333  \n",
       "\n",
       "[643690 rows x 164 columns]"
      ]
     },
     "execution_count": 10,
     "metadata": {},
     "output_type": "execute_result"
    }
   ],
   "source": [
    "siab"
   ]
  },
  {
   "cell_type": "markdown",
   "id": "1f87e805",
   "metadata": {
    "papermill": {
     "duration": 0.009975,
     "end_time": "2025-08-19T18:08:00.666756",
     "exception": false,
     "start_time": "2025-08-19T18:08:00.656781",
     "status": "completed"
    },
    "tags": []
   },
   "source": [
    "# Splitting Data and Setting Training Data Size"
   ]
  },
  {
   "cell_type": "code",
   "execution_count": 11,
   "id": "910ae358",
   "metadata": {
    "execution": {
     "iopub.execute_input": "2025-08-19T18:08:00.687555Z",
     "iopub.status.busy": "2025-08-19T18:08:00.687158Z",
     "iopub.status.idle": "2025-08-19T18:08:01.433220Z",
     "shell.execute_reply": "2025-08-19T18:08:01.432167Z"
    },
    "papermill": {
     "duration": 0.758728,
     "end_time": "2025-08-19T18:08:01.434962",
     "exception": false,
     "start_time": "2025-08-19T18:08:00.676234",
     "status": "completed"
    },
    "tags": []
   },
   "outputs": [],
   "source": [
    "from fairness_multiverse.universe import sample_by_year_size\n",
    "\n",
    "siab_train = sample_by_year_size(siab,\n",
    "                               training_year=universe[\"training_year\"],\n",
    "                               training_size=universe[\"training_size\"])"
   ]
  },
  {
   "cell_type": "code",
   "execution_count": 12,
   "id": "919c8ff5",
   "metadata": {
    "execution": {
     "iopub.execute_input": "2025-08-19T18:08:01.466246Z",
     "iopub.status.busy": "2025-08-19T18:08:01.465223Z",
     "iopub.status.idle": "2025-08-19T18:08:01.474164Z",
     "shell.execute_reply": "2025-08-19T18:08:01.472925Z"
    },
    "papermill": {
     "duration": 0.026984,
     "end_time": "2025-08-19T18:08:01.476358",
     "exception": false,
     "start_time": "2025-08-19T18:08:01.449374",
     "status": "completed"
    },
    "tags": []
   },
   "outputs": [
    {
     "data": {
      "text/plain": [
       "(25000, 164)"
      ]
     },
     "execution_count": 12,
     "metadata": {},
     "output_type": "execute_result"
    }
   ],
   "source": [
    "siab_train.shape"
   ]
  },
  {
   "cell_type": "code",
   "execution_count": 13,
   "id": "feb13bf4",
   "metadata": {
    "execution": {
     "iopub.execute_input": "2025-08-19T18:08:01.516036Z",
     "iopub.status.busy": "2025-08-19T18:08:01.515019Z",
     "iopub.status.idle": "2025-08-19T18:08:01.529119Z",
     "shell.execute_reply": "2025-08-19T18:08:01.527983Z"
    },
    "papermill": {
     "duration": 0.027246,
     "end_time": "2025-08-19T18:08:01.530802",
     "exception": false,
     "start_time": "2025-08-19T18:08:01.503556",
     "status": "completed"
    },
    "tags": []
   },
   "outputs": [
    {
     "data": {
      "text/plain": [
       "year\n",
       "2012    8334\n",
       "2013    8333\n",
       "2014    8333\n",
       "dtype: int64"
      ]
     },
     "metadata": {},
     "output_type": "display_data"
    }
   ],
   "source": [
    "display(siab_train.groupby(\"year\").size())"
   ]
  },
  {
   "cell_type": "code",
   "execution_count": 14,
   "id": "0997782f",
   "metadata": {
    "execution": {
     "iopub.execute_input": "2025-08-19T18:08:01.556294Z",
     "iopub.status.busy": "2025-08-19T18:08:01.554057Z",
     "iopub.status.idle": "2025-08-19T18:08:01.839725Z",
     "shell.execute_reply": "2025-08-19T18:08:01.838976Z"
    },
    "papermill": {
     "duration": 0.298779,
     "end_time": "2025-08-19T18:08:01.841250",
     "exception": false,
     "start_time": "2025-08-19T18:08:01.542471",
     "status": "completed"
    },
    "tags": []
   },
   "outputs": [],
   "source": [
    "#siab_train = siab_s[siab_s.year < 2015]\n",
    "siab_calib = siab[siab.year == 2015]\n",
    "siab_test = siab[siab.year == 2016]"
   ]
  },
  {
   "cell_type": "code",
   "execution_count": 15,
   "id": "2c1e4012",
   "metadata": {
    "execution": {
     "iopub.execute_input": "2025-08-19T18:08:01.881471Z",
     "iopub.status.busy": "2025-08-19T18:08:01.880347Z",
     "iopub.status.idle": "2025-08-19T18:08:01.887051Z",
     "shell.execute_reply": "2025-08-19T18:08:01.885825Z"
    },
    "papermill": {
     "duration": 0.035408,
     "end_time": "2025-08-19T18:08:01.888820",
     "exception": false,
     "start_time": "2025-08-19T18:08:01.853412",
     "status": "completed"
    },
    "tags": []
   },
   "outputs": [],
   "source": [
    "#siab_calib.shape"
   ]
  },
  {
   "cell_type": "code",
   "execution_count": 16,
   "id": "f66b54ca",
   "metadata": {
    "execution": {
     "iopub.execute_input": "2025-08-19T18:08:01.917294Z",
     "iopub.status.busy": "2025-08-19T18:08:01.915273Z",
     "iopub.status.idle": "2025-08-19T18:08:01.936498Z",
     "shell.execute_reply": "2025-08-19T18:08:01.935161Z"
    },
    "papermill": {
     "duration": 0.034568,
     "end_time": "2025-08-19T18:08:01.938207",
     "exception": false,
     "start_time": "2025-08-19T18:08:01.903639",
     "status": "completed"
    },
    "tags": []
   },
   "outputs": [],
   "source": [
    "#siab_test.shape"
   ]
  },
  {
   "cell_type": "code",
   "execution_count": 17,
   "id": "27e4384d",
   "metadata": {
    "execution": {
     "iopub.execute_input": "2025-08-19T18:08:01.967416Z",
     "iopub.status.busy": "2025-08-19T18:08:01.966603Z",
     "iopub.status.idle": "2025-08-19T18:08:01.983011Z",
     "shell.execute_reply": "2025-08-19T18:08:01.982214Z"
    },
    "papermill": {
     "duration": 0.029838,
     "end_time": "2025-08-19T18:08:01.984385",
     "exception": false,
     "start_time": "2025-08-19T18:08:01.954547",
     "status": "completed"
    },
    "tags": []
   },
   "outputs": [],
   "source": [
    "X_train = siab_train.iloc[:,4:164]\n",
    "y_train = siab_train.iloc[:, [3]]"
   ]
  },
  {
   "cell_type": "code",
   "execution_count": 18,
   "id": "08ee8389",
   "metadata": {
    "execution": {
     "iopub.execute_input": "2025-08-19T18:08:02.010450Z",
     "iopub.status.busy": "2025-08-19T18:08:02.009493Z",
     "iopub.status.idle": "2025-08-19T18:08:02.063315Z",
     "shell.execute_reply": "2025-08-19T18:08:02.062587Z"
    },
    "papermill": {
     "duration": 0.068561,
     "end_time": "2025-08-19T18:08:02.066428",
     "exception": false,
     "start_time": "2025-08-19T18:08:01.997867",
     "status": "completed"
    },
    "tags": []
   },
   "outputs": [],
   "source": [
    "X_calib = siab_calib.iloc[:,4:164]\n",
    "y_calib = siab_calib.iloc[:, [3]]"
   ]
  },
  {
   "cell_type": "code",
   "execution_count": 19,
   "id": "b7ff42e0",
   "metadata": {
    "execution": {
     "iopub.execute_input": "2025-08-19T18:08:02.102555Z",
     "iopub.status.busy": "2025-08-19T18:08:02.101542Z",
     "iopub.status.idle": "2025-08-19T18:08:02.162378Z",
     "shell.execute_reply": "2025-08-19T18:08:02.161598Z"
    },
    "papermill": {
     "duration": 0.076648,
     "end_time": "2025-08-19T18:08:02.165511",
     "exception": false,
     "start_time": "2025-08-19T18:08:02.088863",
     "status": "completed"
    },
    "tags": []
   },
   "outputs": [],
   "source": [
    "X_test = siab_test.iloc[:,4:164]\n",
    "y_true = siab_test.iloc[:, [3]]"
   ]
  },
  {
   "cell_type": "code",
   "execution_count": 20,
   "id": "0275101e",
   "metadata": {
    "execution": {
     "iopub.execute_input": "2025-08-19T18:08:02.202711Z",
     "iopub.status.busy": "2025-08-19T18:08:02.201722Z",
     "iopub.status.idle": "2025-08-19T18:08:02.313645Z",
     "shell.execute_reply": "2025-08-19T18:08:02.312902Z"
    },
    "papermill": {
     "duration": 0.127791,
     "end_time": "2025-08-19T18:08:02.316457",
     "exception": false,
     "start_time": "2025-08-19T18:08:02.188666",
     "status": "completed"
    },
    "tags": []
   },
   "outputs": [],
   "source": [
    "# Auxiliary data needed downstream in the pipeline\n",
    "\n",
    "org_train = X_train.copy()\n",
    "org_test = X_test.copy()\n",
    "org_calib = X_calib.copy()"
   ]
  },
  {
   "cell_type": "markdown",
   "id": "b461e618",
   "metadata": {
    "papermill": {
     "duration": 0.012041,
     "end_time": "2025-08-19T18:08:02.351176",
     "exception": false,
     "start_time": "2025-08-19T18:08:02.339135",
     "status": "completed"
    },
    "tags": []
   },
   "source": [
    "# Preprocessing Data"
   ]
  },
  {
   "cell_type": "code",
   "execution_count": 21,
   "id": "78e74c4b",
   "metadata": {
    "execution": {
     "iopub.execute_input": "2025-08-19T18:08:02.373813Z",
     "iopub.status.busy": "2025-08-19T18:08:02.372778Z",
     "iopub.status.idle": "2025-08-19T18:08:02.381020Z",
     "shell.execute_reply": "2025-08-19T18:08:02.379830Z"
    },
    "papermill": {
     "duration": 0.021285,
     "end_time": "2025-08-19T18:08:02.382552",
     "exception": false,
     "start_time": "2025-08-19T18:08:02.361267",
     "status": "completed"
    },
    "tags": []
   },
   "outputs": [],
   "source": [
    "# EXCLUDE PROTECTED FEATURES\n",
    "# --------------------------\n",
    "\n",
    "excluded_features = universe[\"exclude_features\"].split(\"-\")\n",
    "excluded_features_dictionary = {\n",
    "    \"nationality\": [\"maxdeutsch1\", \"maxdeutsch.Missing.\"],\n",
    "    \"sex\": [\"frau1\"],\n",
    "    \"age\": [\"age\"],\n",
    "}"
   ]
  },
  {
   "cell_type": "code",
   "execution_count": 22,
   "id": "f8e63555",
   "metadata": {
    "execution": {
     "iopub.execute_input": "2025-08-19T18:08:02.407800Z",
     "iopub.status.busy": "2025-08-19T18:08:02.406907Z",
     "iopub.status.idle": "2025-08-19T18:08:02.414698Z",
     "shell.execute_reply": "2025-08-19T18:08:02.413549Z"
    },
    "papermill": {
     "duration": 0.020598,
     "end_time": "2025-08-19T18:08:02.416165",
     "exception": false,
     "start_time": "2025-08-19T18:08:02.395567",
     "status": "completed"
    },
    "tags": []
   },
   "outputs": [],
   "source": [
    "excluded_features_columns = [\n",
    "    excluded_features_dictionary[f] for f in excluded_features if len(f) > 0 and f != \"none\"\n",
    "]"
   ]
  },
  {
   "cell_type": "code",
   "execution_count": 23,
   "id": "da781f7c",
   "metadata": {
    "execution": {
     "iopub.execute_input": "2025-08-19T18:08:02.441467Z",
     "iopub.status.busy": "2025-08-19T18:08:02.440598Z",
     "iopub.status.idle": "2025-08-19T18:08:02.447512Z",
     "shell.execute_reply": "2025-08-19T18:08:02.446369Z"
    },
    "papermill": {
     "duration": 0.019611,
     "end_time": "2025-08-19T18:08:02.448917",
     "exception": false,
     "start_time": "2025-08-19T18:08:02.429306",
     "status": "completed"
    },
    "tags": []
   },
   "outputs": [],
   "source": [
    "from fairness_multiverse.universe import flatten_once\n",
    "\n",
    "excluded_features_columns = flatten_once(excluded_features_columns)"
   ]
  },
  {
   "cell_type": "code",
   "execution_count": 24,
   "id": "37fef0f0",
   "metadata": {
    "execution": {
     "iopub.execute_input": "2025-08-19T18:08:02.471711Z",
     "iopub.status.busy": "2025-08-19T18:08:02.470710Z",
     "iopub.status.idle": "2025-08-19T18:08:02.479487Z",
     "shell.execute_reply": "2025-08-19T18:08:02.478722Z"
    },
    "papermill": {
     "duration": 0.021322,
     "end_time": "2025-08-19T18:08:02.480827",
     "exception": false,
     "start_time": "2025-08-19T18:08:02.459505",
     "status": "completed"
    },
    "tags": []
   },
   "outputs": [],
   "source": [
    "if len(excluded_features_columns) > 0:\n",
    "    print(f\"Dropping features: {excluded_features_columns}\")\n",
    "    X_train.drop(excluded_features_columns, axis=1, inplace=True)"
   ]
  },
  {
   "cell_type": "code",
   "execution_count": 25,
   "id": "d029e3e9",
   "metadata": {
    "execution": {
     "iopub.execute_input": "2025-08-19T18:08:02.502811Z",
     "iopub.status.busy": "2025-08-19T18:08:02.502556Z",
     "iopub.status.idle": "2025-08-19T18:08:02.506788Z",
     "shell.execute_reply": "2025-08-19T18:08:02.505984Z"
    },
    "papermill": {
     "duration": 0.016387,
     "end_time": "2025-08-19T18:08:02.508213",
     "exception": false,
     "start_time": "2025-08-19T18:08:02.491826",
     "status": "completed"
    },
    "tags": []
   },
   "outputs": [],
   "source": [
    "if len(excluded_features_columns) > 0:\n",
    "    print(f\"Dropping features: {excluded_features_columns}\")\n",
    "    X_test.drop(excluded_features_columns, axis=1, inplace=True)"
   ]
  },
  {
   "cell_type": "code",
   "execution_count": 26,
   "id": "01d571f0",
   "metadata": {
    "execution": {
     "iopub.execute_input": "2025-08-19T18:08:02.529699Z",
     "iopub.status.busy": "2025-08-19T18:08:02.529443Z",
     "iopub.status.idle": "2025-08-19T18:08:02.533707Z",
     "shell.execute_reply": "2025-08-19T18:08:02.533050Z"
    },
    "papermill": {
     "duration": 0.016457,
     "end_time": "2025-08-19T18:08:02.535226",
     "exception": false,
     "start_time": "2025-08-19T18:08:02.518769",
     "status": "completed"
    },
    "tags": []
   },
   "outputs": [],
   "source": [
    "if len(excluded_features_columns) > 0:\n",
    "    print(f\"Dropping features: {excluded_features_columns}\")\n",
    "    X_calib.drop(excluded_features_columns, axis=1, inplace=True)"
   ]
  },
  {
   "cell_type": "code",
   "execution_count": 27,
   "id": "3037356e",
   "metadata": {
    "execution": {
     "iopub.execute_input": "2025-08-19T18:08:02.556978Z",
     "iopub.status.busy": "2025-08-19T18:08:02.556701Z",
     "iopub.status.idle": "2025-08-19T18:08:02.561128Z",
     "shell.execute_reply": "2025-08-19T18:08:02.560271Z"
    },
    "papermill": {
     "duration": 0.016569,
     "end_time": "2025-08-19T18:08:02.562458",
     "exception": false,
     "start_time": "2025-08-19T18:08:02.545889",
     "status": "completed"
    },
    "tags": []
   },
   "outputs": [],
   "source": [
    "# EXCLUDE CERTAIN SUBGROUPS\n",
    "# -------------------------\n",
    "\n",
    "mode = universe.get(\"exclude_subgroups\", \"keep-all\") # Defaults to \"keep-all\" if the key is missing."
   ]
  },
  {
   "cell_type": "code",
   "execution_count": 28,
   "id": "9d1e63fd",
   "metadata": {
    "execution": {
     "iopub.execute_input": "2025-08-19T18:08:02.587176Z",
     "iopub.status.busy": "2025-08-19T18:08:02.586795Z",
     "iopub.status.idle": "2025-08-19T18:08:02.593446Z",
     "shell.execute_reply": "2025-08-19T18:08:02.592696Z"
    },
    "papermill": {
     "duration": 0.021678,
     "end_time": "2025-08-19T18:08:02.594932",
     "exception": false,
     "start_time": "2025-08-19T18:08:02.573254",
     "status": "completed"
    },
    "tags": []
   },
   "outputs": [],
   "source": [
    "if mode == \"keep-all\":\n",
    "    keep_mask = pd.Series(True, index=org_train.index)\n",
    "\n",
    "elif mode == \"drop-non-german\":\n",
    "    keep_mask = (org_train[\"maxdeutsch1\"] == 1) & (org_train[\"maxdeutsch.Missing.\"] == 0)\n",
    "\n",
    "else:\n",
    "    raise ValueError(f\"Unsupported mode for exclude_subgroups: {mode}\")"
   ]
  },
  {
   "cell_type": "code",
   "execution_count": 29,
   "id": "d3b65474",
   "metadata": {
    "execution": {
     "iopub.execute_input": "2025-08-19T18:08:02.617153Z",
     "iopub.status.busy": "2025-08-19T18:08:02.616891Z",
     "iopub.status.idle": "2025-08-19T18:08:02.622274Z",
     "shell.execute_reply": "2025-08-19T18:08:02.621623Z"
    },
    "papermill": {
     "duration": 0.018275,
     "end_time": "2025-08-19T18:08:02.624164",
     "exception": false,
     "start_time": "2025-08-19T18:08:02.605889",
     "status": "completed"
    },
    "tags": []
   },
   "outputs": [
    {
     "name": "stdout",
     "output_type": "stream",
     "text": [
      "Dropping 3481 rows (13.92%) where mode='drop-non-german'\n"
     ]
    }
   ],
   "source": [
    "n_drop = (~keep_mask).sum() # Calculates how many rows are set to be dropped\n",
    "if n_drop > 0:\n",
    "    pct = n_drop / len(keep_mask) * 100\n",
    "    print(f\"Dropping {n_drop} rows ({pct:.2f}%) where mode='{mode}'\")"
   ]
  },
  {
   "cell_type": "code",
   "execution_count": 30,
   "id": "f44389b3",
   "metadata": {
    "execution": {
     "iopub.execute_input": "2025-08-19T18:08:02.648970Z",
     "iopub.status.busy": "2025-08-19T18:08:02.648422Z",
     "iopub.status.idle": "2025-08-19T18:08:02.667045Z",
     "shell.execute_reply": "2025-08-19T18:08:02.666381Z"
    },
    "papermill": {
     "duration": 0.033068,
     "end_time": "2025-08-19T18:08:02.668281",
     "exception": false,
     "start_time": "2025-08-19T18:08:02.635213",
     "status": "completed"
    },
    "tags": []
   },
   "outputs": [],
   "source": [
    "X_train = X_train[keep_mask]"
   ]
  },
  {
   "cell_type": "code",
   "execution_count": 31,
   "id": "ceca8c2a",
   "metadata": {
    "execution": {
     "iopub.execute_input": "2025-08-19T18:08:02.693251Z",
     "iopub.status.busy": "2025-08-19T18:08:02.692947Z",
     "iopub.status.idle": "2025-08-19T18:08:02.698636Z",
     "shell.execute_reply": "2025-08-19T18:08:02.697900Z"
    },
    "papermill": {
     "duration": 0.020594,
     "end_time": "2025-08-19T18:08:02.700197",
     "exception": false,
     "start_time": "2025-08-19T18:08:02.679603",
     "status": "completed"
    },
    "tags": []
   },
   "outputs": [],
   "source": [
    "y_train = y_train[keep_mask]"
   ]
  },
  {
   "cell_type": "markdown",
   "id": "04d31e2f",
   "metadata": {
    "papermill": {
     "duration": 0.010257,
     "end_time": "2025-08-19T18:08:02.722029",
     "exception": false,
     "start_time": "2025-08-19T18:08:02.711772",
     "status": "completed"
    },
    "tags": []
   },
   "source": [
    "# Model Training"
   ]
  },
  {
   "cell_type": "code",
   "execution_count": 32,
   "id": "db991733",
   "metadata": {
    "execution": {
     "iopub.execute_input": "2025-08-19T18:08:02.743790Z",
     "iopub.status.busy": "2025-08-19T18:08:02.743492Z",
     "iopub.status.idle": "2025-08-19T18:08:02.831795Z",
     "shell.execute_reply": "2025-08-19T18:08:02.831072Z"
    },
    "papermill": {
     "duration": 0.10103,
     "end_time": "2025-08-19T18:08:02.833275",
     "exception": false,
     "start_time": "2025-08-19T18:08:02.732245",
     "status": "completed"
    },
    "tags": []
   },
   "outputs": [],
   "source": [
    "from sklearn.linear_model import LogisticRegression\n",
    "from sklearn.ensemble import GradientBoostingClassifier, RandomForestClassifier\n",
    "\n",
    "if (universe[\"model\"] == \"logreg\"):\n",
    "    model = LogisticRegression() #penalty=\"none\", solver=\"newton-cg\", max_iter=1)\n",
    "elif (universe[\"model\"] == \"penalized_logreg\"):\n",
    "    model = LogisticRegression(penalty=\"l2\", C=0.1) #, solver=\"newton-cg\", max_iter=1)\n",
    "elif (universe[\"model\"] == \"rf\"):\n",
    "    model = RandomForestClassifier() # n_estimators=100, n_jobs=-1\n",
    "elif (universe[\"model\"] == \"gbm\"):\n",
    "    model = GradientBoostingClassifier()\n",
    "elif (universe[\"model\"] == \"elasticnet\"):\n",
    "    model = LogisticRegression(penalty = 'elasticnet', solver = 'saga', l1_ratio = 0.5) # max_iter=5000\n",
    "else:\n",
    "    raise \"Unsupported universe.model\""
   ]
  },
  {
   "cell_type": "code",
   "execution_count": 33,
   "id": "a4b5cd25",
   "metadata": {
    "execution": {
     "iopub.execute_input": "2025-08-19T18:08:02.856085Z",
     "iopub.status.busy": "2025-08-19T18:08:02.855793Z",
     "iopub.status.idle": "2025-08-19T18:08:02.860372Z",
     "shell.execute_reply": "2025-08-19T18:08:02.859597Z"
    },
    "papermill": {
     "duration": 0.017524,
     "end_time": "2025-08-19T18:08:02.861920",
     "exception": false,
     "start_time": "2025-08-19T18:08:02.844396",
     "status": "completed"
    },
    "tags": []
   },
   "outputs": [],
   "source": [
    "from sklearn.pipeline import Pipeline\n",
    "from sklearn.preprocessing import StandardScaler\n",
    "\n",
    "model = Pipeline([\n",
    "    #(\"continuous_processor\", continuous_processor),\n",
    "    #(\"categorical_preprocessor\", categorical_preprocessor),\n",
    "    (\"scale\", StandardScaler() if universe[\"scale\"] == \"scale\" else None), \n",
    "    (\"model\", model),\n",
    "])"
   ]
  },
  {
   "cell_type": "code",
   "execution_count": 34,
   "id": "283a904d",
   "metadata": {
    "execution": {
     "iopub.execute_input": "2025-08-19T18:08:02.885051Z",
     "iopub.status.busy": "2025-08-19T18:08:02.884680Z",
     "iopub.status.idle": "2025-08-19T18:08:03.618065Z",
     "shell.execute_reply": "2025-08-19T18:08:03.617482Z"
    },
    "papermill": {
     "duration": 0.746089,
     "end_time": "2025-08-19T18:08:03.619138",
     "exception": false,
     "start_time": "2025-08-19T18:08:02.873049",
     "status": "completed"
    },
    "tags": []
   },
   "outputs": [
    {
     "name": "stderr",
     "output_type": "stream",
     "text": [
      "/dss/dsshome1/0C/ra93lal2/.local/share/virtualenvs/CMA_Fairness_v2-3j10GkSs/lib/python3.10/site-packages/sklearn/linear_model/_logistic.py:444: ConvergenceWarning: lbfgs failed to converge (status=1):\n",
      "STOP: TOTAL NO. of ITERATIONS REACHED LIMIT.\n",
      "\n",
      "Increase the number of iterations (max_iter) or scale the data as shown in:\n",
      "    https://scikit-learn.org/stable/modules/preprocessing.html\n",
      "Please also refer to the documentation for alternative solver options:\n",
      "    https://scikit-learn.org/stable/modules/linear_model.html#logistic-regression\n",
      "  n_iter_i = _check_optimize_result(\n"
     ]
    },
    {
     "data": {
      "text/html": [
       "<style>#sk-container-id-1 {color: black;background-color: white;}#sk-container-id-1 pre{padding: 0;}#sk-container-id-1 div.sk-toggleable {background-color: white;}#sk-container-id-1 label.sk-toggleable__label {cursor: pointer;display: block;width: 100%;margin-bottom: 0;padding: 0.3em;box-sizing: border-box;text-align: center;}#sk-container-id-1 label.sk-toggleable__label-arrow:before {content: \"▸\";float: left;margin-right: 0.25em;color: #696969;}#sk-container-id-1 label.sk-toggleable__label-arrow:hover:before {color: black;}#sk-container-id-1 div.sk-estimator:hover label.sk-toggleable__label-arrow:before {color: black;}#sk-container-id-1 div.sk-toggleable__content {max-height: 0;max-width: 0;overflow: hidden;text-align: left;background-color: #f0f8ff;}#sk-container-id-1 div.sk-toggleable__content pre {margin: 0.2em;color: black;border-radius: 0.25em;background-color: #f0f8ff;}#sk-container-id-1 input.sk-toggleable__control:checked~div.sk-toggleable__content {max-height: 200px;max-width: 100%;overflow: auto;}#sk-container-id-1 input.sk-toggleable__control:checked~label.sk-toggleable__label-arrow:before {content: \"▾\";}#sk-container-id-1 div.sk-estimator input.sk-toggleable__control:checked~label.sk-toggleable__label {background-color: #d4ebff;}#sk-container-id-1 div.sk-label input.sk-toggleable__control:checked~label.sk-toggleable__label {background-color: #d4ebff;}#sk-container-id-1 input.sk-hidden--visually {border: 0;clip: rect(1px 1px 1px 1px);clip: rect(1px, 1px, 1px, 1px);height: 1px;margin: -1px;overflow: hidden;padding: 0;position: absolute;width: 1px;}#sk-container-id-1 div.sk-estimator {font-family: monospace;background-color: #f0f8ff;border: 1px dotted black;border-radius: 0.25em;box-sizing: border-box;margin-bottom: 0.5em;}#sk-container-id-1 div.sk-estimator:hover {background-color: #d4ebff;}#sk-container-id-1 div.sk-parallel-item::after {content: \"\";width: 100%;border-bottom: 1px solid gray;flex-grow: 1;}#sk-container-id-1 div.sk-label:hover label.sk-toggleable__label {background-color: #d4ebff;}#sk-container-id-1 div.sk-serial::before {content: \"\";position: absolute;border-left: 1px solid gray;box-sizing: border-box;top: 0;bottom: 0;left: 50%;z-index: 0;}#sk-container-id-1 div.sk-serial {display: flex;flex-direction: column;align-items: center;background-color: white;padding-right: 0.2em;padding-left: 0.2em;position: relative;}#sk-container-id-1 div.sk-item {position: relative;z-index: 1;}#sk-container-id-1 div.sk-parallel {display: flex;align-items: stretch;justify-content: center;background-color: white;position: relative;}#sk-container-id-1 div.sk-item::before, #sk-container-id-1 div.sk-parallel-item::before {content: \"\";position: absolute;border-left: 1px solid gray;box-sizing: border-box;top: 0;bottom: 0;left: 50%;z-index: -1;}#sk-container-id-1 div.sk-parallel-item {display: flex;flex-direction: column;z-index: 1;position: relative;background-color: white;}#sk-container-id-1 div.sk-parallel-item:first-child::after {align-self: flex-end;width: 50%;}#sk-container-id-1 div.sk-parallel-item:last-child::after {align-self: flex-start;width: 50%;}#sk-container-id-1 div.sk-parallel-item:only-child::after {width: 0;}#sk-container-id-1 div.sk-dashed-wrapped {border: 1px dashed gray;margin: 0 0.4em 0.5em 0.4em;box-sizing: border-box;padding-bottom: 0.4em;background-color: white;}#sk-container-id-1 div.sk-label label {font-family: monospace;font-weight: bold;display: inline-block;line-height: 1.2em;}#sk-container-id-1 div.sk-label-container {text-align: center;}#sk-container-id-1 div.sk-container {/* jupyter's `normalize.less` sets `[hidden] { display: none; }` but bootstrap.min.css set `[hidden] { display: none !important; }` so we also need the `!important` here to be able to override the default hidden behavior on the sphinx rendered scikit-learn.org. See: https://github.com/scikit-learn/scikit-learn/issues/21755 */display: inline-block !important;position: relative;}#sk-container-id-1 div.sk-text-repr-fallback {display: none;}</style><div id=\"sk-container-id-1\" class=\"sk-top-container\"><div class=\"sk-text-repr-fallback\"><pre>Pipeline(steps=[(&#x27;scale&#x27;, None), (&#x27;model&#x27;, LogisticRegression())])</pre><b>In a Jupyter environment, please rerun this cell to show the HTML representation or trust the notebook. <br />On GitHub, the HTML representation is unable to render, please try loading this page with nbviewer.org.</b></div><div class=\"sk-container\" hidden><div class=\"sk-item sk-dashed-wrapped\"><div class=\"sk-label-container\"><div class=\"sk-label sk-toggleable\"><input class=\"sk-toggleable__control sk-hidden--visually\" id=\"sk-estimator-id-1\" type=\"checkbox\" ><label for=\"sk-estimator-id-1\" class=\"sk-toggleable__label sk-toggleable__label-arrow\">Pipeline</label><div class=\"sk-toggleable__content\"><pre>Pipeline(steps=[(&#x27;scale&#x27;, None), (&#x27;model&#x27;, LogisticRegression())])</pre></div></div></div><div class=\"sk-serial\"><div class=\"sk-item\"><div class=\"sk-estimator sk-toggleable\"><input class=\"sk-toggleable__control sk-hidden--visually\" id=\"sk-estimator-id-2\" type=\"checkbox\" ><label for=\"sk-estimator-id-2\" class=\"sk-toggleable__label sk-toggleable__label-arrow\">None</label><div class=\"sk-toggleable__content\"><pre>None</pre></div></div></div><div class=\"sk-item\"><div class=\"sk-estimator sk-toggleable\"><input class=\"sk-toggleable__control sk-hidden--visually\" id=\"sk-estimator-id-3\" type=\"checkbox\" ><label for=\"sk-estimator-id-3\" class=\"sk-toggleable__label sk-toggleable__label-arrow\">LogisticRegression</label><div class=\"sk-toggleable__content\"><pre>LogisticRegression()</pre></div></div></div></div></div></div></div>"
      ],
      "text/plain": [
       "Pipeline(steps=[('scale', None), ('model', LogisticRegression())])"
      ]
     },
     "execution_count": 34,
     "metadata": {},
     "output_type": "execute_result"
    }
   ],
   "source": [
    "model.fit(X_train, y_train.values.ravel())"
   ]
  },
  {
   "cell_type": "code",
   "execution_count": 35,
   "id": "6e15e313",
   "metadata": {
    "execution": {
     "iopub.execute_input": "2025-08-19T18:08:03.661487Z",
     "iopub.status.busy": "2025-08-19T18:08:03.661081Z",
     "iopub.status.idle": "2025-08-19T18:08:03.755587Z",
     "shell.execute_reply": "2025-08-19T18:08:03.754958Z"
    },
    "papermill": {
     "duration": 0.11531,
     "end_time": "2025-08-19T18:08:03.756940",
     "exception": false,
     "start_time": "2025-08-19T18:08:03.641630",
     "status": "completed"
    },
    "tags": []
   },
   "outputs": [
    {
     "data": {
      "text/plain": [
       "0.8608181919518448"
      ]
     },
     "execution_count": 35,
     "metadata": {},
     "output_type": "execute_result"
    }
   ],
   "source": [
    "from fairness_multiverse.universe import predict_w_threshold\n",
    "\n",
    "probs_test = model.predict_proba(X_test)\n",
    "\n",
    "'''\n",
    "Below code returns a boolean array (or binary 0/1 array depending on how it’s used) where each element \n",
    "is True if the probability of class 1 is greater than or equal to the threshold, and False otherwise.\n",
    "'''\n",
    "y_pred_default = predict_w_threshold(probs_test, 0.5)\n",
    "\n",
    "from sklearn.metrics import accuracy_score\n",
    "\n",
    "# Naive prediction\n",
    "accuracy_score(y_true = y_true, y_pred = y_pred_default)"
   ]
  },
  {
   "cell_type": "code",
   "execution_count": 36,
   "id": "6f14067c",
   "metadata": {
    "execution": {
     "iopub.execute_input": "2025-08-19T18:08:03.780715Z",
     "iopub.status.busy": "2025-08-19T18:08:03.780289Z",
     "iopub.status.idle": "2025-08-19T18:08:03.866203Z",
     "shell.execute_reply": "2025-08-19T18:08:03.865492Z"
    },
    "papermill": {
     "duration": 0.099402,
     "end_time": "2025-08-19T18:08:03.867807",
     "exception": false,
     "start_time": "2025-08-19T18:08:03.768405",
     "status": "completed"
    },
    "tags": []
   },
   "outputs": [
    {
     "data": {
      "text/plain": [
       "array([0, 0, 0, ..., 0, 0, 0])"
      ]
     },
     "execution_count": 36,
     "metadata": {},
     "output_type": "execute_result"
    }
   ],
   "source": [
    "model.predict(X_test)"
   ]
  },
  {
   "cell_type": "markdown",
   "id": "3759920c",
   "metadata": {
    "papermill": {
     "duration": 0.010967,
     "end_time": "2025-08-19T18:08:03.891834",
     "exception": false,
     "start_time": "2025-08-19T18:08:03.880867",
     "status": "completed"
    },
    "tags": []
   },
   "source": [
    "# Conformal Prediction"
   ]
  },
  {
   "cell_type": "code",
   "execution_count": 37,
   "id": "14b27f59",
   "metadata": {
    "execution": {
     "iopub.execute_input": "2025-08-19T18:08:03.916504Z",
     "iopub.status.busy": "2025-08-19T18:08:03.915373Z",
     "iopub.status.idle": "2025-08-19T18:08:03.922651Z",
     "shell.execute_reply": "2025-08-19T18:08:03.921435Z"
    },
    "papermill": {
     "duration": 0.021501,
     "end_time": "2025-08-19T18:08:03.924216",
     "exception": false,
     "start_time": "2025-08-19T18:08:03.902715",
     "status": "completed"
    },
    "tags": []
   },
   "outputs": [],
   "source": [
    "# Miscoverage level for conformal prediction (10% allowed error rate => 90% target coverage)\n",
    "alpha = 0.1"
   ]
  },
  {
   "cell_type": "code",
   "execution_count": 38,
   "id": "59102472",
   "metadata": {
    "execution": {
     "iopub.execute_input": "2025-08-19T18:08:03.949338Z",
     "iopub.status.busy": "2025-08-19T18:08:03.948366Z",
     "iopub.status.idle": "2025-08-19T18:08:04.040978Z",
     "shell.execute_reply": "2025-08-19T18:08:04.040059Z"
    },
    "papermill": {
     "duration": 0.10856,
     "end_time": "2025-08-19T18:08:04.044435",
     "exception": false,
     "start_time": "2025-08-19T18:08:03.935875",
     "status": "completed"
    },
    "tags": []
   },
   "outputs": [],
   "source": [
    "probs_calib = model.predict_proba(X_calib)"
   ]
  },
  {
   "cell_type": "code",
   "execution_count": 39,
   "id": "a792d4dd",
   "metadata": {
    "execution": {
     "iopub.execute_input": "2025-08-19T18:08:04.083800Z",
     "iopub.status.busy": "2025-08-19T18:08:04.082778Z",
     "iopub.status.idle": "2025-08-19T18:08:04.090368Z",
     "shell.execute_reply": "2025-08-19T18:08:04.089200Z"
    },
    "papermill": {
     "duration": 0.023513,
     "end_time": "2025-08-19T18:08:04.091906",
     "exception": false,
     "start_time": "2025-08-19T18:08:04.068393",
     "status": "completed"
    },
    "tags": []
   },
   "outputs": [],
   "source": [
    "y_calib = y_calib.values.ravel().astype(int)"
   ]
  },
  {
   "cell_type": "code",
   "execution_count": 40,
   "id": "650fd033",
   "metadata": {
    "execution": {
     "iopub.execute_input": "2025-08-19T18:08:04.118986Z",
     "iopub.status.busy": "2025-08-19T18:08:04.118021Z",
     "iopub.status.idle": "2025-08-19T18:08:04.130255Z",
     "shell.execute_reply": "2025-08-19T18:08:04.128553Z"
    },
    "papermill": {
     "duration": 0.027152,
     "end_time": "2025-08-19T18:08:04.132112",
     "exception": false,
     "start_time": "2025-08-19T18:08:04.104960",
     "status": "completed"
    },
    "tags": []
   },
   "outputs": [],
   "source": [
    "from fairness_multiverse.conformal import compute_nc_scores\n",
    "\n",
    "# Compute nonconformity scores on calibration set (1 - probability of true class)\n",
    "nc_scores = compute_nc_scores(probs_calib, y_calib)"
   ]
  },
  {
   "cell_type": "code",
   "execution_count": 41,
   "id": "28ada44c",
   "metadata": {
    "execution": {
     "iopub.execute_input": "2025-08-19T18:08:04.162388Z",
     "iopub.status.busy": "2025-08-19T18:08:04.161222Z",
     "iopub.status.idle": "2025-08-19T18:08:04.171651Z",
     "shell.execute_reply": "2025-08-19T18:08:04.170459Z"
    },
    "papermill": {
     "duration": 0.025491,
     "end_time": "2025-08-19T18:08:04.173182",
     "exception": false,
     "start_time": "2025-08-19T18:08:04.147691",
     "status": "completed"
    },
    "tags": []
   },
   "outputs": [],
   "source": [
    "from fairness_multiverse.conformal import find_threshold\n",
    "\n",
    "# Find conformal threshold q_hat for the given alpha (split conformal method)\n",
    "q_hat = find_threshold(nc_scores, alpha)"
   ]
  },
  {
   "cell_type": "code",
   "execution_count": 42,
   "id": "df56469e",
   "metadata": {
    "execution": {
     "iopub.execute_input": "2025-08-19T18:08:04.201905Z",
     "iopub.status.busy": "2025-08-19T18:08:04.200879Z",
     "iopub.status.idle": "2025-08-19T18:08:04.210637Z",
     "shell.execute_reply": "2025-08-19T18:08:04.209465Z"
    },
    "papermill": {
     "duration": 0.024462,
     "end_time": "2025-08-19T18:08:04.212185",
     "exception": false,
     "start_time": "2025-08-19T18:08:04.187723",
     "status": "completed"
    },
    "tags": []
   },
   "outputs": [
    {
     "data": {
      "text/plain": [
       "0.6697949739990574"
      ]
     },
     "execution_count": 42,
     "metadata": {},
     "output_type": "execute_result"
    }
   ],
   "source": [
    "q_hat"
   ]
  },
  {
   "cell_type": "code",
   "execution_count": 43,
   "id": "aa1f5faa",
   "metadata": {
    "execution": {
     "iopub.execute_input": "2025-08-19T18:08:04.237877Z",
     "iopub.status.busy": "2025-08-19T18:08:04.236968Z",
     "iopub.status.idle": "2025-08-19T18:08:04.752828Z",
     "shell.execute_reply": "2025-08-19T18:08:04.751993Z"
    },
    "papermill": {
     "duration": 0.530463,
     "end_time": "2025-08-19T18:08:04.754268",
     "exception": false,
     "start_time": "2025-08-19T18:08:04.223805",
     "status": "completed"
    },
    "tags": []
   },
   "outputs": [],
   "source": [
    "from fairness_multiverse.conformal import predict_conformal_sets\n",
    "\n",
    "# Generate prediction sets for each test example\n",
    "pred_sets = predict_conformal_sets(model, X_test, q_hat)"
   ]
  },
  {
   "cell_type": "code",
   "execution_count": 44,
   "id": "97f67a6b",
   "metadata": {
    "execution": {
     "iopub.execute_input": "2025-08-19T18:08:04.803114Z",
     "iopub.status.busy": "2025-08-19T18:08:04.802657Z",
     "iopub.status.idle": "2025-08-19T18:08:04.807811Z",
     "shell.execute_reply": "2025-08-19T18:08:04.806811Z"
    },
    "papermill": {
     "duration": 0.031869,
     "end_time": "2025-08-19T18:08:04.809365",
     "exception": false,
     "start_time": "2025-08-19T18:08:04.777496",
     "status": "completed"
    },
    "tags": []
   },
   "outputs": [],
   "source": [
    "y_true = y_true.squeeze()"
   ]
  },
  {
   "cell_type": "code",
   "execution_count": 45,
   "id": "e700e9a7",
   "metadata": {
    "execution": {
     "iopub.execute_input": "2025-08-19T18:08:04.838388Z",
     "iopub.status.busy": "2025-08-19T18:08:04.837983Z",
     "iopub.status.idle": "2025-08-19T18:08:05.328524Z",
     "shell.execute_reply": "2025-08-19T18:08:05.327381Z"
    },
    "papermill": {
     "duration": 0.508602,
     "end_time": "2025-08-19T18:08:05.330178",
     "exception": false,
     "start_time": "2025-08-19T18:08:04.821576",
     "status": "completed"
    },
    "tags": []
   },
   "outputs": [],
   "source": [
    "from fairness_multiverse.conformal import evaluate_sets\n",
    "\n",
    "# Evaluate coverage and average set size on test data\n",
    "metrics = evaluate_sets(pred_sets, y_true)"
   ]
  },
  {
   "cell_type": "markdown",
   "id": "efbacec0",
   "metadata": {
    "papermill": {
     "duration": 0.011458,
     "end_time": "2025-08-19T18:08:05.354490",
     "exception": false,
     "start_time": "2025-08-19T18:08:05.343032",
     "status": "completed"
    },
    "tags": []
   },
   "source": [
    "# CP Metrics"
   ]
  },
  {
   "cell_type": "code",
   "execution_count": 46,
   "id": "9de55fb1",
   "metadata": {
    "execution": {
     "iopub.execute_input": "2025-08-19T18:08:05.378939Z",
     "iopub.status.busy": "2025-08-19T18:08:05.378472Z",
     "iopub.status.idle": "2025-08-19T18:08:05.384840Z",
     "shell.execute_reply": "2025-08-19T18:08:05.384138Z"
    },
    "papermill": {
     "duration": 0.021315,
     "end_time": "2025-08-19T18:08:05.387159",
     "exception": false,
     "start_time": "2025-08-19T18:08:05.365844",
     "status": "completed"
    },
    "tags": []
   },
   "outputs": [
    {
     "data": {
      "text/plain": [
       "{'coverage': 0.9112362055512206, 'avg_size': 1.2159848400401294}"
      ]
     },
     "execution_count": 46,
     "metadata": {},
     "output_type": "execute_result"
    }
   ],
   "source": [
    "metrics"
   ]
  },
  {
   "cell_type": "code",
   "execution_count": 47,
   "id": "64c340a1",
   "metadata": {
    "execution": {
     "iopub.execute_input": "2025-08-19T18:08:05.411161Z",
     "iopub.status.busy": "2025-08-19T18:08:05.410806Z",
     "iopub.status.idle": "2025-08-19T18:08:05.415619Z",
     "shell.execute_reply": "2025-08-19T18:08:05.414915Z"
    },
    "papermill": {
     "duration": 0.018311,
     "end_time": "2025-08-19T18:08:05.416930",
     "exception": false,
     "start_time": "2025-08-19T18:08:05.398619",
     "status": "completed"
    },
    "tags": []
   },
   "outputs": [],
   "source": [
    "example_universe = universe.copy()\n",
    "universe_training_year = example_universe.get(\"training_year\")\n",
    "universe_training_size = example_universe.get(\"training_size\")\n",
    "universe_scale = example_universe.get(\"scale\")\n",
    "universe_model = example_universe.get(\"model\")\n",
    "universe_exclude_features = example_universe.get(\"exclude_features\")\n",
    "universe_exclude_subgroups = example_universe.get(\"exclude_subgroups\")"
   ]
  },
  {
   "cell_type": "code",
   "execution_count": 48,
   "id": "dbb53cb4",
   "metadata": {
    "execution": {
     "iopub.execute_input": "2025-08-19T18:08:05.440975Z",
     "iopub.status.busy": "2025-08-19T18:08:05.440609Z",
     "iopub.status.idle": "2025-08-19T18:08:05.450388Z",
     "shell.execute_reply": "2025-08-19T18:08:05.449817Z"
    },
    "papermill": {
     "duration": 0.024402,
     "end_time": "2025-08-19T18:08:05.452766",
     "exception": false,
     "start_time": "2025-08-19T18:08:05.428364",
     "status": "completed"
    },
    "tags": []
   },
   "outputs": [],
   "source": [
    "cp_metrics_dict = {\n",
    "    \"universe_id\": [universe_id],\n",
    "    \"universe_training_year\": [universe_training_year],\n",
    "    \"universe_training_size\": [universe_training_size],\n",
    "    \"universe_scale\": [universe_scale],\n",
    "    \"universe_model\": [universe_model],\n",
    "    \"universe_exclude_features\": [universe_exclude_features],\n",
    "    \"universe_exclude_subgroups\": [universe_exclude_subgroups],\n",
    "    \"q_hat\": [q_hat],\n",
    "    \"coverage\": [metrics[\"coverage\"]],\n",
    "    \"avg_size\": [metrics[\"avg_size\"]],\n",
    "}"
   ]
  },
  {
   "cell_type": "code",
   "execution_count": 49,
   "id": "0d70d4b2",
   "metadata": {
    "execution": {
     "iopub.execute_input": "2025-08-19T18:08:05.495575Z",
     "iopub.status.busy": "2025-08-19T18:08:05.494404Z",
     "iopub.status.idle": "2025-08-19T18:08:05.506688Z",
     "shell.execute_reply": "2025-08-19T18:08:05.505068Z"
    },
    "papermill": {
     "duration": 0.028403,
     "end_time": "2025-08-19T18:08:05.508185",
     "exception": false,
     "start_time": "2025-08-19T18:08:05.479782",
     "status": "completed"
    },
    "tags": []
   },
   "outputs": [],
   "source": [
    "cp_metrics_df = pd.DataFrame(cp_metrics_dict)"
   ]
  },
  {
   "cell_type": "code",
   "execution_count": 50,
   "id": "b494403c",
   "metadata": {
    "execution": {
     "iopub.execute_input": "2025-08-19T18:08:05.540168Z",
     "iopub.status.busy": "2025-08-19T18:08:05.536378Z",
     "iopub.status.idle": "2025-08-19T18:08:05.561668Z",
     "shell.execute_reply": "2025-08-19T18:08:05.560913Z"
    },
    "papermill": {
     "duration": 0.040568,
     "end_time": "2025-08-19T18:08:05.563239",
     "exception": false,
     "start_time": "2025-08-19T18:08:05.522671",
     "status": "completed"
    },
    "tags": []
   },
   "outputs": [
    {
     "data": {
      "text/html": [
       "<div>\n",
       "<style scoped>\n",
       "    .dataframe tbody tr th:only-of-type {\n",
       "        vertical-align: middle;\n",
       "    }\n",
       "\n",
       "    .dataframe tbody tr th {\n",
       "        vertical-align: top;\n",
       "    }\n",
       "\n",
       "    .dataframe thead th {\n",
       "        text-align: right;\n",
       "    }\n",
       "</style>\n",
       "<table border=\"1\" class=\"dataframe\">\n",
       "  <thead>\n",
       "    <tr style=\"text-align: right;\">\n",
       "      <th></th>\n",
       "      <th>universe_id</th>\n",
       "      <th>universe_training_year</th>\n",
       "      <th>universe_training_size</th>\n",
       "      <th>universe_scale</th>\n",
       "      <th>universe_model</th>\n",
       "      <th>universe_exclude_features</th>\n",
       "      <th>universe_exclude_subgroups</th>\n",
       "      <th>q_hat</th>\n",
       "      <th>coverage</th>\n",
       "      <th>avg_size</th>\n",
       "    </tr>\n",
       "  </thead>\n",
       "  <tbody>\n",
       "    <tr>\n",
       "      <th>0</th>\n",
       "      <td>0a4957d80956b384397344a293c820a4</td>\n",
       "      <td>2012_14</td>\n",
       "      <td>25k</td>\n",
       "      <td>do-not-scale</td>\n",
       "      <td>logreg</td>\n",
       "      <td>none</td>\n",
       "      <td>drop-non-german</td>\n",
       "      <td>0.669795</td>\n",
       "      <td>0.911236</td>\n",
       "      <td>1.215985</td>\n",
       "    </tr>\n",
       "  </tbody>\n",
       "</table>\n",
       "</div>"
      ],
      "text/plain": [
       "                        universe_id universe_training_year  \\\n",
       "0  0a4957d80956b384397344a293c820a4                2012_14   \n",
       "\n",
       "  universe_training_size universe_scale universe_model  \\\n",
       "0                    25k   do-not-scale         logreg   \n",
       "\n",
       "  universe_exclude_features universe_exclude_subgroups     q_hat  coverage  \\\n",
       "0                      none            drop-non-german  0.669795  0.911236   \n",
       "\n",
       "   avg_size  \n",
       "0  1.215985  "
      ]
     },
     "execution_count": 50,
     "metadata": {},
     "output_type": "execute_result"
    }
   ],
   "source": [
    "cp_metrics_df"
   ]
  },
  {
   "cell_type": "markdown",
   "id": "ed608b0b",
   "metadata": {
    "papermill": {
     "duration": 0.012157,
     "end_time": "2025-08-19T18:08:05.594031",
     "exception": false,
     "start_time": "2025-08-19T18:08:05.581874",
     "status": "completed"
    },
    "tags": []
   },
   "source": [
    "Conditional coverage & looking at subgroups"
   ]
  },
  {
   "cell_type": "code",
   "execution_count": 51,
   "id": "8968c366",
   "metadata": {
    "execution": {
     "iopub.execute_input": "2025-08-19T18:08:05.623129Z",
     "iopub.status.busy": "2025-08-19T18:08:05.621909Z",
     "iopub.status.idle": "2025-08-19T18:08:05.900649Z",
     "shell.execute_reply": "2025-08-19T18:08:05.899822Z"
    },
    "papermill": {
     "duration": 0.295896,
     "end_time": "2025-08-19T18:08:05.902046",
     "exception": false,
     "start_time": "2025-08-19T18:08:05.606150",
     "status": "completed"
    },
    "tags": []
   },
   "outputs": [],
   "source": [
    "from fairness_multiverse.conformal import build_cp_groups\n",
    "\n",
    "cp_groups_df = build_cp_groups(pred_sets, y_true, X_test.index, org_test)"
   ]
  },
  {
   "cell_type": "code",
   "execution_count": 52,
   "id": "292ddabf",
   "metadata": {
    "execution": {
     "iopub.execute_input": "2025-08-19T18:08:05.931141Z",
     "iopub.status.busy": "2025-08-19T18:08:05.930090Z",
     "iopub.status.idle": "2025-08-19T18:08:06.761271Z",
     "shell.execute_reply": "2025-08-19T18:08:06.760606Z"
    },
    "papermill": {
     "duration": 0.846375,
     "end_time": "2025-08-19T18:08:06.763346",
     "exception": false,
     "start_time": "2025-08-19T18:08:05.916971",
     "status": "completed"
    },
    "tags": []
   },
   "outputs": [],
   "source": [
    "# Define covered = 1 if true_label is in the predicted set\n",
    "cp_groups_df['covered'] = cp_groups_df.apply(\n",
    "    lambda r: int(r['true_label'] in r['pred_set']),\n",
    "    axis=1\n",
    ")"
   ]
  },
  {
   "cell_type": "code",
   "execution_count": 53,
   "id": "3a261692",
   "metadata": {
    "execution": {
     "iopub.execute_input": "2025-08-19T18:08:06.796634Z",
     "iopub.status.busy": "2025-08-19T18:08:06.795706Z",
     "iopub.status.idle": "2025-08-19T18:08:06.812588Z",
     "shell.execute_reply": "2025-08-19T18:08:06.811358Z"
    },
    "papermill": {
     "duration": 0.034644,
     "end_time": "2025-08-19T18:08:06.814281",
     "exception": false,
     "start_time": "2025-08-19T18:08:06.779637",
     "status": "completed"
    },
    "tags": []
   },
   "outputs": [],
   "source": [
    "subgroups = ['frau1','nongerman','nongerman_male','nongerman_female']\n",
    "\n",
    "# Conditional coverage for subgroup==1\n",
    "cond_coverage = {\n",
    "    g: cp_groups_df.loc[cp_groups_df[g]==1, 'covered'].mean()\n",
    "    for g in subgroups\n",
    "}"
   ]
  },
  {
   "cell_type": "code",
   "execution_count": 54,
   "id": "894fd600",
   "metadata": {
    "execution": {
     "iopub.execute_input": "2025-08-19T18:08:06.850664Z",
     "iopub.status.busy": "2025-08-19T18:08:06.849658Z",
     "iopub.status.idle": "2025-08-19T18:08:06.861831Z",
     "shell.execute_reply": "2025-08-19T18:08:06.860241Z"
    },
    "papermill": {
     "duration": 0.028143,
     "end_time": "2025-08-19T18:08:06.863452",
     "exception": false,
     "start_time": "2025-08-19T18:08:06.835309",
     "status": "completed"
    },
    "tags": []
   },
   "outputs": [
    {
     "data": {
      "text/plain": [
       "{'frau1': 0.9102844049063216,\n",
       " 'nongerman': 0.9382473474428787,\n",
       " 'nongerman_male': 0.9492929838782311,\n",
       " 'nongerman_female': 0.9199701937406856}"
      ]
     },
     "execution_count": 54,
     "metadata": {},
     "output_type": "execute_result"
    }
   ],
   "source": [
    "cond_coverage"
   ]
  },
  {
   "cell_type": "code",
   "execution_count": 55,
   "id": "942895c7",
   "metadata": {
    "execution": {
     "iopub.execute_input": "2025-08-19T18:08:06.894150Z",
     "iopub.status.busy": "2025-08-19T18:08:06.892915Z",
     "iopub.status.idle": "2025-08-19T18:08:06.905447Z",
     "shell.execute_reply": "2025-08-19T18:08:06.903836Z"
    },
    "papermill": {
     "duration": 0.027514,
     "end_time": "2025-08-19T18:08:06.906900",
     "exception": false,
     "start_time": "2025-08-19T18:08:06.879386",
     "status": "completed"
    },
    "tags": []
   },
   "outputs": [],
   "source": [
    "for subgroup, cov in cond_coverage.items():\n",
    "    cp_metrics_df[f\"cov_{subgroup}\"] = cov"
   ]
  },
  {
   "cell_type": "code",
   "execution_count": 56,
   "id": "3970120f",
   "metadata": {
    "execution": {
     "iopub.execute_input": "2025-08-19T18:08:06.936868Z",
     "iopub.status.busy": "2025-08-19T18:08:06.935215Z",
     "iopub.status.idle": "2025-08-19T18:08:06.959402Z",
     "shell.execute_reply": "2025-08-19T18:08:06.958590Z"
    },
    "papermill": {
     "duration": 0.038853,
     "end_time": "2025-08-19T18:08:06.960564",
     "exception": false,
     "start_time": "2025-08-19T18:08:06.921711",
     "status": "completed"
    },
    "tags": []
   },
   "outputs": [
    {
     "data": {
      "text/html": [
       "<div>\n",
       "<style scoped>\n",
       "    .dataframe tbody tr th:only-of-type {\n",
       "        vertical-align: middle;\n",
       "    }\n",
       "\n",
       "    .dataframe tbody tr th {\n",
       "        vertical-align: top;\n",
       "    }\n",
       "\n",
       "    .dataframe thead th {\n",
       "        text-align: right;\n",
       "    }\n",
       "</style>\n",
       "<table border=\"1\" class=\"dataframe\">\n",
       "  <thead>\n",
       "    <tr style=\"text-align: right;\">\n",
       "      <th></th>\n",
       "      <th>universe_id</th>\n",
       "      <th>universe_training_year</th>\n",
       "      <th>universe_training_size</th>\n",
       "      <th>universe_scale</th>\n",
       "      <th>universe_model</th>\n",
       "      <th>universe_exclude_features</th>\n",
       "      <th>universe_exclude_subgroups</th>\n",
       "      <th>q_hat</th>\n",
       "      <th>coverage</th>\n",
       "      <th>avg_size</th>\n",
       "      <th>cov_frau1</th>\n",
       "      <th>cov_nongerman</th>\n",
       "      <th>cov_nongerman_male</th>\n",
       "      <th>cov_nongerman_female</th>\n",
       "    </tr>\n",
       "  </thead>\n",
       "  <tbody>\n",
       "    <tr>\n",
       "      <th>0</th>\n",
       "      <td>0a4957d80956b384397344a293c820a4</td>\n",
       "      <td>2012_14</td>\n",
       "      <td>25k</td>\n",
       "      <td>do-not-scale</td>\n",
       "      <td>logreg</td>\n",
       "      <td>none</td>\n",
       "      <td>drop-non-german</td>\n",
       "      <td>0.669795</td>\n",
       "      <td>0.911236</td>\n",
       "      <td>1.215985</td>\n",
       "      <td>0.910284</td>\n",
       "      <td>0.938247</td>\n",
       "      <td>0.949293</td>\n",
       "      <td>0.91997</td>\n",
       "    </tr>\n",
       "  </tbody>\n",
       "</table>\n",
       "</div>"
      ],
      "text/plain": [
       "                        universe_id universe_training_year  \\\n",
       "0  0a4957d80956b384397344a293c820a4                2012_14   \n",
       "\n",
       "  universe_training_size universe_scale universe_model  \\\n",
       "0                    25k   do-not-scale         logreg   \n",
       "\n",
       "  universe_exclude_features universe_exclude_subgroups     q_hat  coverage  \\\n",
       "0                      none            drop-non-german  0.669795  0.911236   \n",
       "\n",
       "   avg_size  cov_frau1  cov_nongerman  cov_nongerman_male  \\\n",
       "0  1.215985   0.910284       0.938247            0.949293   \n",
       "\n",
       "   cov_nongerman_female  \n",
       "0               0.91997  "
      ]
     },
     "execution_count": 56,
     "metadata": {},
     "output_type": "execute_result"
    }
   ],
   "source": [
    "cp_metrics_df"
   ]
  },
  {
   "cell_type": "markdown",
   "id": "3fc519cc",
   "metadata": {
    "papermill": {
     "duration": 0.012223,
     "end_time": "2025-08-19T18:08:06.986040",
     "exception": false,
     "start_time": "2025-08-19T18:08:06.973817",
     "status": "completed"
    },
    "tags": []
   },
   "source": [
    "# (Fairness) Metrics"
   ]
  },
  {
   "cell_type": "code",
   "execution_count": 57,
   "id": "a2e5e155",
   "metadata": {
    "execution": {
     "iopub.execute_input": "2025-08-19T18:08:07.012633Z",
     "iopub.status.busy": "2025-08-19T18:08:07.011623Z",
     "iopub.status.idle": "2025-08-19T18:08:07.040453Z",
     "shell.execute_reply": "2025-08-19T18:08:07.039615Z"
    },
    "papermill": {
     "duration": 0.047536,
     "end_time": "2025-08-19T18:08:07.045579",
     "exception": false,
     "start_time": "2025-08-19T18:08:06.998043",
     "status": "completed"
    },
    "tags": []
   },
   "outputs": [],
   "source": [
    "colname_to_bin = \"maxdeutsch1\"\n",
    "majority_value = org_train[colname_to_bin].mode()[0]\n",
    "\n",
    "org_test[\"majmin\"] = np.where(org_test[colname_to_bin] == majority_value, \"majority\", \"minority\")"
   ]
  },
  {
   "cell_type": "code",
   "execution_count": 58,
   "id": "17e3e4d5",
   "metadata": {
    "execution": {
     "iopub.execute_input": "2025-08-19T18:08:07.072641Z",
     "iopub.status.busy": "2025-08-19T18:08:07.071683Z",
     "iopub.status.idle": "2025-08-19T18:08:08.800061Z",
     "shell.execute_reply": "2025-08-19T18:08:08.799333Z"
    },
    "papermill": {
     "duration": 1.743523,
     "end_time": "2025-08-19T18:08:08.801561",
     "exception": false,
     "start_time": "2025-08-19T18:08:07.058038",
     "status": "completed"
    },
    "tags": []
   },
   "outputs": [],
   "source": [
    "example_universe = universe.copy()\n",
    "example_universe[\"cutoff\"] = example_universe[\"cutoff\"][0]\n",
    "example_universe[\"eval_fairness_grouping\"] = example_universe[\"eval_fairness_grouping\"][0]\n",
    "fairness_dict, metric_frame = universe_analysis.compute_metrics(\n",
    "    example_universe,\n",
    "    y_pred_prob=probs_test,\n",
    "    y_test=y_true,\n",
    "    org_test=org_test,\n",
    ")"
   ]
  },
  {
   "cell_type": "markdown",
   "id": "1fb7a0e9",
   "metadata": {
    "papermill": {
     "duration": 0.011958,
     "end_time": "2025-08-19T18:08:08.826009",
     "exception": false,
     "start_time": "2025-08-19T18:08:08.814051",
     "status": "completed"
    },
    "tags": []
   },
   "source": [
    "# Overall"
   ]
  },
  {
   "cell_type": "markdown",
   "id": "be1784b1",
   "metadata": {
    "papermill": {
     "duration": 0.011788,
     "end_time": "2025-08-19T18:08:08.849684",
     "exception": false,
     "start_time": "2025-08-19T18:08:08.837896",
     "status": "completed"
    },
    "tags": []
   },
   "source": [
    "Main fairness target: Equalized Odds. Seems to be a better fit than equal opportunity, since we're not only interested in Y = 1. Seems to be a better fit than demographic parity, since we also care about accuracy, not just equal distribution of preds.\n",
    "\n",
    "Pick column for computation of fairness metrics\n",
    "\n",
    "Performance\n",
    "Overall performance measures, most interesting in relation to the measures split by group below"
   ]
  },
  {
   "cell_type": "code",
   "execution_count": 59,
   "id": "b7672bee",
   "metadata": {
    "execution": {
     "iopub.execute_input": "2025-08-19T18:08:08.874844Z",
     "iopub.status.busy": "2025-08-19T18:08:08.874453Z",
     "iopub.status.idle": "2025-08-19T18:08:08.881684Z",
     "shell.execute_reply": "2025-08-19T18:08:08.881019Z"
    },
    "papermill": {
     "duration": 0.021219,
     "end_time": "2025-08-19T18:08:08.882731",
     "exception": false,
     "start_time": "2025-08-19T18:08:08.861512",
     "status": "completed"
    },
    "tags": []
   },
   "outputs": [
    {
     "data": {
      "text/plain": [
       "accuracy                   0.217601\n",
       "balanced accuracy          0.533484\n",
       "f1                         0.239119\n",
       "precision                  0.136601\n",
       "false positive rate        0.891409\n",
       "false negative rate        0.041623\n",
       "selection rate             0.900000\n",
       "count                  89710.000000\n",
       "dtype: float64"
      ]
     },
     "execution_count": 59,
     "metadata": {},
     "output_type": "execute_result"
    }
   ],
   "source": [
    "metric_frame.overall"
   ]
  },
  {
   "cell_type": "markdown",
   "id": "d93333c9",
   "metadata": {
    "papermill": {
     "duration": 0.012357,
     "end_time": "2025-08-19T18:08:08.907698",
     "exception": false,
     "start_time": "2025-08-19T18:08:08.895341",
     "status": "completed"
    },
    "tags": []
   },
   "source": [
    "By Group"
   ]
  },
  {
   "cell_type": "code",
   "execution_count": 60,
   "id": "52256966",
   "metadata": {
    "execution": {
     "iopub.execute_input": "2025-08-19T18:08:08.935747Z",
     "iopub.status.busy": "2025-08-19T18:08:08.935013Z",
     "iopub.status.idle": "2025-08-19T18:08:08.957016Z",
     "shell.execute_reply": "2025-08-19T18:08:08.956020Z"
    },
    "papermill": {
     "duration": 0.039026,
     "end_time": "2025-08-19T18:08:08.959303",
     "exception": false,
     "start_time": "2025-08-19T18:08:08.920277",
     "status": "completed"
    },
    "tags": []
   },
   "outputs": [
    {
     "data": {
      "text/html": [
       "<div>\n",
       "<style scoped>\n",
       "    .dataframe tbody tr th:only-of-type {\n",
       "        vertical-align: middle;\n",
       "    }\n",
       "\n",
       "    .dataframe tbody tr th {\n",
       "        vertical-align: top;\n",
       "    }\n",
       "\n",
       "    .dataframe thead th {\n",
       "        text-align: right;\n",
       "    }\n",
       "</style>\n",
       "<table border=\"1\" class=\"dataframe\">\n",
       "  <thead>\n",
       "    <tr style=\"text-align: right;\">\n",
       "      <th></th>\n",
       "      <th>accuracy</th>\n",
       "      <th>balanced accuracy</th>\n",
       "      <th>f1</th>\n",
       "      <th>precision</th>\n",
       "      <th>false positive rate</th>\n",
       "      <th>false negative rate</th>\n",
       "      <th>selection rate</th>\n",
       "      <th>count</th>\n",
       "    </tr>\n",
       "    <tr>\n",
       "      <th>majmin</th>\n",
       "      <th></th>\n",
       "      <th></th>\n",
       "      <th></th>\n",
       "      <th></th>\n",
       "      <th></th>\n",
       "      <th></th>\n",
       "      <th></th>\n",
       "      <th></th>\n",
       "    </tr>\n",
       "  </thead>\n",
       "  <tbody>\n",
       "    <tr>\n",
       "      <th>majority</th>\n",
       "      <td>0.240003</td>\n",
       "      <td>0.541553</td>\n",
       "      <td>0.248596</td>\n",
       "      <td>0.142977</td>\n",
       "      <td>0.868316</td>\n",
       "      <td>0.048578</td>\n",
       "      <td>0.879297</td>\n",
       "      <td>69170.0</td>\n",
       "    </tr>\n",
       "    <tr>\n",
       "      <th>minority</th>\n",
       "      <td>0.142162</td>\n",
       "      <td>0.508761</td>\n",
       "      <td>0.209369</td>\n",
       "      <td>0.117130</td>\n",
       "      <td>0.967698</td>\n",
       "      <td>0.014780</td>\n",
       "      <td>0.969718</td>\n",
       "      <td>20540.0</td>\n",
       "    </tr>\n",
       "  </tbody>\n",
       "</table>\n",
       "</div>"
      ],
      "text/plain": [
       "          accuracy  balanced accuracy        f1  precision  \\\n",
       "majmin                                                       \n",
       "majority  0.240003           0.541553  0.248596   0.142977   \n",
       "minority  0.142162           0.508761  0.209369   0.117130   \n",
       "\n",
       "          false positive rate  false negative rate  selection rate    count  \n",
       "majmin                                                                       \n",
       "majority             0.868316             0.048578        0.879297  69170.0  \n",
       "minority             0.967698             0.014780        0.969718  20540.0  "
      ]
     },
     "execution_count": 60,
     "metadata": {},
     "output_type": "execute_result"
    }
   ],
   "source": [
    "metric_frame.by_group"
   ]
  },
  {
   "cell_type": "code",
   "execution_count": 61,
   "id": "6e6c20ae",
   "metadata": {
    "execution": {
     "iopub.execute_input": "2025-08-19T18:08:08.992006Z",
     "iopub.status.busy": "2025-08-19T18:08:08.991704Z",
     "iopub.status.idle": "2025-08-19T18:08:10.830601Z",
     "shell.execute_reply": "2025-08-19T18:08:10.829666Z"
    },
    "papermill": {
     "duration": 1.853617,
     "end_time": "2025-08-19T18:08:10.831857",
     "exception": false,
     "start_time": "2025-08-19T18:08:08.978240",
     "status": "completed"
    },
    "tags": []
   },
   "outputs": [
    {
     "data": {
      "text/plain": [
       "array([[<Axes: title={'center': 'accuracy'}, xlabel='majmin'>,\n",
       "        <Axes: title={'center': 'balanced accuracy'}, xlabel='majmin'>,\n",
       "        <Axes: title={'center': 'f1'}, xlabel='majmin'>],\n",
       "       [<Axes: title={'center': 'precision'}, xlabel='majmin'>,\n",
       "        <Axes: title={'center': 'false positive rate'}, xlabel='majmin'>,\n",
       "        <Axes: title={'center': 'false negative rate'}, xlabel='majmin'>],\n",
       "       [<Axes: title={'center': 'selection rate'}, xlabel='majmin'>,\n",
       "        <Axes: title={'center': 'count'}, xlabel='majmin'>,\n",
       "        <Axes: xlabel='majmin'>]], dtype=object)"
      ]
     },
     "execution_count": 61,
     "metadata": {},
     "output_type": "execute_result"
    },
    {
     "data": {
      "image/png": "[encoded data removed]",
      "text/plain": [
       "<Figure size 1200x800 with 9 Axes>"
      ]
     },
     "metadata": {},
     "output_type": "display_data"
    }
   ],
   "source": [
    "# In a graphic\n",
    "metric_frame.by_group.plot.bar(\n",
    "    subplots=True,\n",
    "    layout=[3, 3],\n",
    "    legend=False,\n",
    "    figsize=[12, 8],\n",
    "    title=\"Show all metrics\",\n",
    ")"
   ]
  },
  {
   "cell_type": "markdown",
   "id": "b2e433ae",
   "metadata": {
    "papermill": {
     "duration": 0.013231,
     "end_time": "2025-08-19T18:08:10.859392",
     "exception": false,
     "start_time": "2025-08-19T18:08:10.846161",
     "status": "completed"
    },
    "tags": []
   },
   "source": [
    "# Final Output"
   ]
  },
  {
   "cell_type": "code",
   "execution_count": 62,
   "id": "3871301e",
   "metadata": {
    "execution": {
     "iopub.execute_input": "2025-08-19T18:08:10.889694Z",
     "iopub.status.busy": "2025-08-19T18:08:10.887910Z",
     "iopub.status.idle": "2025-08-19T18:08:10.908055Z",
     "shell.execute_reply": "2025-08-19T18:08:10.906952Z"
    },
    "papermill": {
     "duration": 0.037767,
     "end_time": "2025-08-19T18:08:10.910306",
     "exception": false,
     "start_time": "2025-08-19T18:08:10.872539",
     "status": "completed"
    },
    "tags": []
   },
   "outputs": [
    {
     "data": {
      "text/plain": [
       "4"
      ]
     },
     "execution_count": 62,
     "metadata": {},
     "output_type": "execute_result"
    }
   ],
   "source": [
    "sub_universes = universe_analysis.generate_sub_universes()\n",
    "len(sub_universes)"
   ]
  },
  {
   "cell_type": "code",
   "execution_count": 63,
   "id": "d9cfdaca",
   "metadata": {
    "execution": {
     "iopub.execute_input": "2025-08-19T18:08:10.947642Z",
     "iopub.status.busy": "2025-08-19T18:08:10.946281Z",
     "iopub.status.idle": "2025-08-19T18:08:10.954710Z",
     "shell.execute_reply": "2025-08-19T18:08:10.953545Z"
    },
    "papermill": {
     "duration": 0.02529,
     "end_time": "2025-08-19T18:08:10.956159",
     "exception": false,
     "start_time": "2025-08-19T18:08:10.930869",
     "status": "completed"
    },
    "tags": []
   },
   "outputs": [],
   "source": [
    "def filter_sub_universe_data(sub_universe, org_test):\n",
    "    # Keep all rows — no filtering\n",
    "    keep_rows_mask = np.ones(org_test.shape[0], dtype=bool)\n",
    "\n",
    "    print(f\"[INFO] Keeping all rows: {keep_rows_mask.sum()} rows retained.\")\n",
    "    return keep_rows_mask"
   ]
  },
  {
   "cell_type": "code",
   "execution_count": 64,
   "id": "2bc31ac1",
   "metadata": {
    "execution": {
     "iopub.execute_input": "2025-08-19T18:08:10.988781Z",
     "iopub.status.busy": "2025-08-19T18:08:10.987814Z",
     "iopub.status.idle": "2025-08-19T18:08:17.850416Z",
     "shell.execute_reply": "2025-08-19T18:08:17.848978Z"
    },
    "papermill": {
     "duration": 6.879277,
     "end_time": "2025-08-19T18:08:17.852087",
     "exception": false,
     "start_time": "2025-08-19T18:08:10.972810",
     "status": "completed"
    },
    "tags": []
   },
   "outputs": [
    {
     "name": "stdout",
     "output_type": "stream",
     "text": [
      "Stopping execution_time clock.\n",
      "[INFO] Keeping all rows: 89710 rows retained.\n"
     ]
    },
    {
     "name": "stdout",
     "output_type": "stream",
     "text": [
      "[INFO] Keeping all rows: 89710 rows retained.\n"
     ]
    },
    {
     "name": "stdout",
     "output_type": "stream",
     "text": [
      "[INFO] Keeping all rows: 89710 rows retained.\n"
     ]
    },
    {
     "name": "stdout",
     "output_type": "stream",
     "text": [
      "[INFO] Keeping all rows: 89710 rows retained.\n"
     ]
    },
    {
     "data": {
      "text/html": [
       "<div>\n",
       "<style scoped>\n",
       "    .dataframe tbody tr th:only-of-type {\n",
       "        vertical-align: middle;\n",
       "    }\n",
       "\n",
       "    .dataframe tbody tr th {\n",
       "        vertical-align: top;\n",
       "    }\n",
       "\n",
       "    .dataframe thead th {\n",
       "        text-align: right;\n",
       "    }\n",
       "</style>\n",
       "<table border=\"1\" class=\"dataframe\">\n",
       "  <thead>\n",
       "    <tr style=\"text-align: right;\">\n",
       "      <th></th>\n",
       "      <th>run_no</th>\n",
       "      <th>universe_id</th>\n",
       "      <th>universe_settings</th>\n",
       "      <th>execution_time</th>\n",
       "      <th>test_size_n</th>\n",
       "      <th>test_size_frac</th>\n",
       "      <th>fair_main_equalized_odds_difference</th>\n",
       "      <th>fair_main_equalized_odds_ratio</th>\n",
       "      <th>fair_main_demographic_parity_difference</th>\n",
       "      <th>fair_main_demographic_parity_ratio</th>\n",
       "      <th>...</th>\n",
       "      <th>perf_grp_precision_0</th>\n",
       "      <th>perf_grp_precision_1</th>\n",
       "      <th>perf_grp_false positive rate_0</th>\n",
       "      <th>perf_grp_false positive rate_1</th>\n",
       "      <th>perf_grp_false negative rate_0</th>\n",
       "      <th>perf_grp_false negative rate_1</th>\n",
       "      <th>perf_grp_selection rate_0</th>\n",
       "      <th>perf_grp_selection rate_1</th>\n",
       "      <th>perf_grp_count_0</th>\n",
       "      <th>perf_grp_count_1</th>\n",
       "    </tr>\n",
       "  </thead>\n",
       "  <tbody>\n",
       "    <tr>\n",
       "      <th>0</th>\n",
       "      <td>3</td>\n",
       "      <td>0a4957d80956b384397344a293c820a4</td>\n",
       "      <td>{\"cutoff\": \"quantile_0.1\", \"eval_fairness_grou...</td>\n",
       "      <td>21.053491</td>\n",
       "      <td>89710</td>\n",
       "      <td>1.0</td>\n",
       "      <td>0.099382</td>\n",
       "      <td>0.897301</td>\n",
       "      <td>0.090420</td>\n",
       "      <td>0.906756</td>\n",
       "      <td>...</td>\n",
       "      <td>NaN</td>\n",
       "      <td>NaN</td>\n",
       "      <td>NaN</td>\n",
       "      <td>NaN</td>\n",
       "      <td>NaN</td>\n",
       "      <td>NaN</td>\n",
       "      <td>NaN</td>\n",
       "      <td>NaN</td>\n",
       "      <td>NaN</td>\n",
       "      <td>NaN</td>\n",
       "    </tr>\n",
       "    <tr>\n",
       "      <th>0</th>\n",
       "      <td>3</td>\n",
       "      <td>0a4957d80956b384397344a293c820a4</td>\n",
       "      <td>{\"cutoff\": \"quantile_0.1\", \"eval_fairness_grou...</td>\n",
       "      <td>21.053491</td>\n",
       "      <td>89710</td>\n",
       "      <td>1.0</td>\n",
       "      <td>0.099382</td>\n",
       "      <td>0.897301</td>\n",
       "      <td>0.090420</td>\n",
       "      <td>0.906756</td>\n",
       "      <td>...</td>\n",
       "      <td>0.117130</td>\n",
       "      <td>0.142977</td>\n",
       "      <td>0.967698</td>\n",
       "      <td>0.868316</td>\n",
       "      <td>0.014780</td>\n",
       "      <td>0.048578</td>\n",
       "      <td>0.969718</td>\n",
       "      <td>0.879297</td>\n",
       "      <td>20540.0</td>\n",
       "      <td>69170.0</td>\n",
       "    </tr>\n",
       "    <tr>\n",
       "      <th>0</th>\n",
       "      <td>3</td>\n",
       "      <td>0a4957d80956b384397344a293c820a4</td>\n",
       "      <td>{\"cutoff\": \"quantile_0.25\", \"eval_fairness_gro...</td>\n",
       "      <td>21.053491</td>\n",
       "      <td>89710</td>\n",
       "      <td>1.0</td>\n",
       "      <td>0.223576</td>\n",
       "      <td>0.752115</td>\n",
       "      <td>0.205031</td>\n",
       "      <td>0.774215</td>\n",
       "      <td>...</td>\n",
       "      <td>NaN</td>\n",
       "      <td>NaN</td>\n",
       "      <td>NaN</td>\n",
       "      <td>NaN</td>\n",
       "      <td>NaN</td>\n",
       "      <td>NaN</td>\n",
       "      <td>NaN</td>\n",
       "      <td>NaN</td>\n",
       "      <td>NaN</td>\n",
       "      <td>NaN</td>\n",
       "    </tr>\n",
       "    <tr>\n",
       "      <th>0</th>\n",
       "      <td>3</td>\n",
       "      <td>0a4957d80956b384397344a293c820a4</td>\n",
       "      <td>{\"cutoff\": \"quantile_0.25\", \"eval_fairness_gro...</td>\n",
       "      <td>21.053491</td>\n",
       "      <td>89710</td>\n",
       "      <td>1.0</td>\n",
       "      <td>0.223576</td>\n",
       "      <td>0.752115</td>\n",
       "      <td>0.205031</td>\n",
       "      <td>0.774215</td>\n",
       "      <td>...</td>\n",
       "      <td>0.121274</td>\n",
       "      <td>0.162616</td>\n",
       "      <td>0.901937</td>\n",
       "      <td>0.678361</td>\n",
       "      <td>0.044764</td>\n",
       "      <td>0.134792</td>\n",
       "      <td>0.908082</td>\n",
       "      <td>0.703050</td>\n",
       "      <td>20540.0</td>\n",
       "      <td>69170.0</td>\n",
       "    </tr>\n",
       "  </tbody>\n",
       "</table>\n",
       "<p>4 rows × 50 columns</p>\n",
       "</div>"
      ],
      "text/plain": [
       "  run_no                       universe_id  \\\n",
       "0      3  0a4957d80956b384397344a293c820a4   \n",
       "0      3  0a4957d80956b384397344a293c820a4   \n",
       "0      3  0a4957d80956b384397344a293c820a4   \n",
       "0      3  0a4957d80956b384397344a293c820a4   \n",
       "\n",
       "                                   universe_settings  execution_time  \\\n",
       "0  {\"cutoff\": \"quantile_0.1\", \"eval_fairness_grou...       21.053491   \n",
       "0  {\"cutoff\": \"quantile_0.1\", \"eval_fairness_grou...       21.053491   \n",
       "0  {\"cutoff\": \"quantile_0.25\", \"eval_fairness_gro...       21.053491   \n",
       "0  {\"cutoff\": \"quantile_0.25\", \"eval_fairness_gro...       21.053491   \n",
       "\n",
       "   test_size_n  test_size_frac  fair_main_equalized_odds_difference  \\\n",
       "0        89710             1.0                             0.099382   \n",
       "0        89710             1.0                             0.099382   \n",
       "0        89710             1.0                             0.223576   \n",
       "0        89710             1.0                             0.223576   \n",
       "\n",
       "   fair_main_equalized_odds_ratio  fair_main_demographic_parity_difference  \\\n",
       "0                        0.897301                                 0.090420   \n",
       "0                        0.897301                                 0.090420   \n",
       "0                        0.752115                                 0.205031   \n",
       "0                        0.752115                                 0.205031   \n",
       "\n",
       "   fair_main_demographic_parity_ratio  ...  perf_grp_precision_0  \\\n",
       "0                            0.906756  ...                   NaN   \n",
       "0                            0.906756  ...              0.117130   \n",
       "0                            0.774215  ...                   NaN   \n",
       "0                            0.774215  ...              0.121274   \n",
       "\n",
       "   perf_grp_precision_1  perf_grp_false positive rate_0  \\\n",
       "0                   NaN                             NaN   \n",
       "0              0.142977                        0.967698   \n",
       "0                   NaN                             NaN   \n",
       "0              0.162616                        0.901937   \n",
       "\n",
       "   perf_grp_false positive rate_1  perf_grp_false negative rate_0  \\\n",
       "0                             NaN                             NaN   \n",
       "0                        0.868316                        0.014780   \n",
       "0                             NaN                             NaN   \n",
       "0                        0.678361                        0.044764   \n",
       "\n",
       "   perf_grp_false negative rate_1  perf_grp_selection rate_0  \\\n",
       "0                             NaN                        NaN   \n",
       "0                        0.048578                   0.969718   \n",
       "0                             NaN                        NaN   \n",
       "0                        0.134792                   0.908082   \n",
       "\n",
       "   perf_grp_selection rate_1  perf_grp_count_0  perf_grp_count_1  \n",
       "0                        NaN               NaN               NaN  \n",
       "0                   0.879297           20540.0           69170.0  \n",
       "0                        NaN               NaN               NaN  \n",
       "0                   0.703050           20540.0           69170.0  \n",
       "\n",
       "[4 rows x 50 columns]"
      ]
     },
     "execution_count": 64,
     "metadata": {},
     "output_type": "execute_result"
    }
   ],
   "source": [
    "final_output = universe_analysis.generate_final_output(\n",
    "    y_pred_prob=probs_test,\n",
    "    y_test=y_true,\n",
    "    org_test=org_test,\n",
    "    filter_data=filter_sub_universe_data,\n",
    "    cp_metrics_df=cp_metrics_df,\n",
    "    save=True,\n",
    ")\n",
    "final_output"
   ]
  },
  {
   "cell_type": "code",
   "execution_count": null,
   "id": "8b80a1ff",
   "metadata": {
    "papermill": {
     "duration": 0.019299,
     "end_time": "2025-08-19T18:08:17.890667",
     "exception": false,
     "start_time": "2025-08-19T18:08:17.871368",
     "status": "completed"
    },
    "tags": []
   },
   "outputs": [],
   "source": []
  },
  {
   "cell_type": "code",
   "execution_count": null,
   "id": "275c9fad",
   "metadata": {
    "papermill": {
     "duration": 0.013714,
     "end_time": "2025-08-19T18:08:17.918330",
     "exception": false,
     "start_time": "2025-08-19T18:08:17.904616",
     "status": "completed"
    },
    "tags": []
   },
   "outputs": [],
   "source": []
  }
 ],
 "metadata": {
  "celltoolbar": "Tags",
  "kernelspec": {
   "display_name": "Python (CMA Fairness)",
   "language": "python",
   "name": "cma_fair_env"
  },
  "language_info": {
   "codemirror_mode": {
    "name": "ipython",
    "version": 3
   },
   "file_extension": ".py",
   "mimetype": "text/x-python",
   "name": "python",
   "nbconvert_exporter": "python",
   "pygments_lexer": "ipython3",
   "version": "3.10.12"
  },
  "papermill": {
   "default_parameters": {},
   "duration": 31.576981,
   "end_time": "2025-08-19T18:08:18.774389",
   "environment_variables": {},
   "exception": null,
   "input_path": "universe_analysis.ipynb",
   "output_path": "output/runs/3/notebooks/m_3-0a4957d80956b384397344a293c820a4.ipynb",
   "parameters": {
    "output_dir": "output",
    "run_no": "3",
    "seed": "2023",
    "universe": "{\"cutoff\": [\"quantile_0.1\", \"quantile_0.25\"], \"eval_fairness_grouping\": [\"majority-minority\", \"nationality-all\"], \"exclude_features\": \"none\", \"exclude_subgroups\": \"drop-non-german\", \"model\": \"logreg\", \"scale\": \"do-not-scale\", \"training_size\": \"25k\", \"training_year\": \"2012_14\"}",
    "universe_id": "0a4957d80956b384397344a293c820a4"
   },
   "start_time": "2025-08-19T18:07:47.197408",
   "version": "2.6.0"
  }
 },
 "nbformat": 4,
 "nbformat_minor": 5
}