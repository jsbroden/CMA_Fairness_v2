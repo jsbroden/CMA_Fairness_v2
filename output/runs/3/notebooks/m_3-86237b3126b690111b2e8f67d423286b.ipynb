{
 "cells": [
  {
   "cell_type": "markdown",
   "id": "ef23dbb3",
   "metadata": {
    "papermill": {
     "duration": 0.009255,
     "end_time": "2025-08-19T19:10:06.548851",
     "exception": false,
     "start_time": "2025-08-19T19:10:06.539596",
     "status": "completed"
    },
    "tags": []
   },
   "source": [
    "# Setup"
   ]
  },
  {
   "cell_type": "code",
   "execution_count": 1,
   "id": "0bc8e7dc",
   "metadata": {
    "execution": {
     "iopub.execute_input": "2025-08-19T19:10:06.568538Z",
     "iopub.status.busy": "2025-08-19T19:10:06.567909Z",
     "iopub.status.idle": "2025-08-19T19:10:06.586408Z",
     "shell.execute_reply": "2025-08-19T19:10:06.585422Z"
    },
    "papermill": {
     "duration": 0.030506,
     "end_time": "2025-08-19T19:10:06.588380",
     "exception": false,
     "start_time": "2025-08-19T19:10:06.557874",
     "status": "completed"
    },
    "tags": []
   },
   "outputs": [
    {
     "name": "stdout",
     "output_type": "stream",
     "text": [
      "/dss/dsshome1/0C/ra93lal2/cma/CMA_Fairness_v2\n"
     ]
    },
    {
     "name": "stderr",
     "output_type": "stream",
     "text": [
      "/dss/dsshome1/0C/ra93lal2/.local/share/virtualenvs/CMA_Fairness_v2-3j10GkSs/lib/python3.10/site-packages/IPython/core/magics/osm.py:393: UserWarning: This is now an optional IPython functionality, using bookmarks requires you to install the `pickleshare` library.\n",
      "  bkms = self.shell.db.get('bookmarks', {})\n",
      "/dss/dsshome1/0C/ra93lal2/.local/share/virtualenvs/CMA_Fairness_v2-3j10GkSs/lib/python3.10/site-packages/IPython/core/magics/osm.py:417: UserWarning: This is now an optional IPython functionality, setting dhist requires you to install the `pickleshare` library.\n",
      "  self.shell.db['dhist'] = compress_dhist(dhist)[-100:]\n"
     ]
    }
   ],
   "source": [
    "%cd ~/cma/CMA_Fairness_v2"
   ]
  },
  {
   "cell_type": "markdown",
   "id": "9d235661",
   "metadata": {
    "papermill": {
     "duration": 0.008631,
     "end_time": "2025-08-19T19:10:06.609041",
     "exception": false,
     "start_time": "2025-08-19T19:10:06.600410",
     "status": "completed"
    },
    "tags": []
   },
   "source": [
    "The following cell holds the definition of our parameters, these values can be overriden by rendering the with e.g. the following command:\n",
    "\n",
    "papermill -p alpha 0.2 -p ratio 0.3 universe_analysis.ipynb output/test_run.ipynb"
   ]
  },
  {
   "cell_type": "code",
   "execution_count": 2,
   "id": "4a789d8e",
   "metadata": {
    "execution": {
     "iopub.execute_input": "2025-08-19T19:10:06.627369Z",
     "iopub.status.busy": "2025-08-19T19:10:06.627052Z",
     "iopub.status.idle": "2025-08-19T19:10:06.631992Z",
     "shell.execute_reply": "2025-08-19T19:10:06.631123Z"
    },
    "papermill": {
     "duration": 0.020609,
     "end_time": "2025-08-19T19:10:06.638154",
     "exception": false,
     "start_time": "2025-08-19T19:10:06.617545",
     "status": "completed"
    },
    "tags": []
   },
   "outputs": [
    {
     "name": "stdout",
     "output_type": "stream",
     "text": [
      "Current working directory: /dss/dsshome1/0C/ra93lal2/cma/CMA_Fairness_v2\n"
     ]
    }
   ],
   "source": [
    "import os\n",
    "print(\"Current working directory:\", os.getcwd())"
   ]
  },
  {
   "cell_type": "code",
   "execution_count": 3,
   "id": "4132aaed",
   "metadata": {
    "execution": {
     "iopub.execute_input": "2025-08-19T19:10:06.673215Z",
     "iopub.status.busy": "2025-08-19T19:10:06.672795Z",
     "iopub.status.idle": "2025-08-19T19:10:06.679513Z",
     "shell.execute_reply": "2025-08-19T19:10:06.678474Z"
    },
    "papermill": {
     "duration": 0.030459,
     "end_time": "2025-08-19T19:10:06.681225",
     "exception": false,
     "start_time": "2025-08-19T19:10:06.650766",
     "status": "completed"
    },
    "tags": [
     "parameters"
    ]
   },
   "outputs": [],
   "source": [
    "run_no = 0\n",
    "universe_id = \"test\"\n",
    "universe = {\n",
    "    \"training_size\": \"5k\", # \"25k\", \"5k\", \"1k\"\n",
    "    \"training_year\": \"2012_14\", # \"2014\", \"2012_14\", \"2010_14\"\n",
    "    \"scale\": \"scale\", # \"scale\", \"do-not-scale\",\n",
    "    \"model\": \"elasticnet\", # \"logreg\", \"penalized_logreg\", \"rf\", \"gbm\", \"elasticnet\"\n",
    "    \"cutoff\": [\"quantile_0.15\", \"quantile_0.30\"],\n",
    "    \"exclude_features\": \"age\", # \"none\", \"nationality\", \"sex\", \"nationality-sex\", \"age\"\n",
    "    \"exclude_subgroups\": \"drop-non-german\", # \"keep-all\", \"drop-non-german\"\n",
    "    \"eval_fairness_grouping\": [\"majority-minority\", \"nationality-all\"]\n",
    "}\n",
    "\n",
    "output_dir=\"./output\"\n",
    "seed=0"
   ]
  },
  {
   "cell_type": "code",
   "execution_count": 4,
   "id": "24085f95",
   "metadata": {
    "execution": {
     "iopub.execute_input": "2025-08-19T19:10:06.701214Z",
     "iopub.status.busy": "2025-08-19T19:10:06.700942Z",
     "iopub.status.idle": "2025-08-19T19:10:06.705287Z",
     "shell.execute_reply": "2025-08-19T19:10:06.704520Z"
    },
    "papermill": {
     "duration": 0.015414,
     "end_time": "2025-08-19T19:10:06.706699",
     "exception": false,
     "start_time": "2025-08-19T19:10:06.691285",
     "status": "completed"
    },
    "tags": [
     "injected-parameters"
    ]
   },
   "outputs": [],
   "source": [
    "# Parameters\n",
    "universe_id = \"86237b3126b690111b2e8f67d423286b\"\n",
    "run_no = \"3\"\n",
    "universe = \"{\\\"cutoff\\\": [\\\"quantile_0.1\\\", \\\"quantile_0.25\\\"], \\\"eval_fairness_grouping\\\": [\\\"majority-minority\\\", \\\"nationality-all\\\"], \\\"exclude_features\\\": \\\"none\\\", \\\"exclude_subgroups\\\": \\\"keep-all\\\", \\\"model\\\": \\\"rf\\\", \\\"scale\\\": \\\"do-not-scale\\\", \\\"training_size\\\": \\\"1k\\\", \\\"training_year\\\": \\\"2010_14\\\"}\"\n",
    "output_dir = \"output\"\n",
    "seed = \"2023\"\n"
   ]
  },
  {
   "cell_type": "code",
   "execution_count": 5,
   "id": "a5d7941f",
   "metadata": {
    "execution": {
     "iopub.execute_input": "2025-08-19T19:10:06.725535Z",
     "iopub.status.busy": "2025-08-19T19:10:06.725243Z",
     "iopub.status.idle": "2025-08-19T19:10:06.729434Z",
     "shell.execute_reply": "2025-08-19T19:10:06.728666Z"
    },
    "papermill": {
     "duration": 0.015308,
     "end_time": "2025-08-19T19:10:06.730900",
     "exception": false,
     "start_time": "2025-08-19T19:10:06.715592",
     "status": "completed"
    },
    "tags": []
   },
   "outputs": [],
   "source": [
    "import json\n",
    "if isinstance(universe, str):\n",
    "    universe = json.loads(universe)"
   ]
  },
  {
   "cell_type": "code",
   "execution_count": 6,
   "id": "7076ccb1",
   "metadata": {
    "execution": {
     "iopub.execute_input": "2025-08-19T19:10:06.749745Z",
     "iopub.status.busy": "2025-08-19T19:10:06.749464Z",
     "iopub.status.idle": "2025-08-19T19:10:06.783893Z",
     "shell.execute_reply": "2025-08-19T19:10:06.783030Z"
    },
    "papermill": {
     "duration": 0.045516,
     "end_time": "2025-08-19T19:10:06.785357",
     "exception": false,
     "start_time": "2025-08-19T19:10:06.739841",
     "status": "completed"
    },
    "tags": []
   },
   "outputs": [],
   "source": [
    "# Auto-reload the custom package\n",
    "%load_ext autoreload\n",
    "%autoreload 1\n",
    "%aimport fairness_multiverse"
   ]
  },
  {
   "cell_type": "code",
   "execution_count": 7,
   "id": "94c8eb93",
   "metadata": {
    "execution": {
     "iopub.execute_input": "2025-08-19T19:10:06.810477Z",
     "iopub.status.busy": "2025-08-19T19:10:06.810072Z",
     "iopub.status.idle": "2025-08-19T19:10:08.473716Z",
     "shell.execute_reply": "2025-08-19T19:10:08.472406Z"
    },
    "papermill": {
     "duration": 1.680074,
     "end_time": "2025-08-19T19:10:08.475261",
     "exception": false,
     "start_time": "2025-08-19T19:10:06.795187",
     "status": "completed"
    },
    "tags": []
   },
   "outputs": [],
   "source": [
    "from fairness_multiverse.universe import UniverseAnalysis\n",
    "\n",
    "universe_analysis = UniverseAnalysis(\n",
    "    run_no = run_no,\n",
    "    universe_id = universe_id,\n",
    "    universe = universe,\n",
    "    output_dir=output_dir,\n",
    ")"
   ]
  },
  {
   "cell_type": "code",
   "execution_count": 8,
   "id": "2a6381cf",
   "metadata": {
    "execution": {
     "iopub.execute_input": "2025-08-19T19:10:08.497630Z",
     "iopub.status.busy": "2025-08-19T19:10:08.496272Z",
     "iopub.status.idle": "2025-08-19T19:10:08.508447Z",
     "shell.execute_reply": "2025-08-19T19:10:08.506555Z"
    },
    "papermill": {
     "duration": 0.025223,
     "end_time": "2025-08-19T19:10:08.510268",
     "exception": false,
     "start_time": "2025-08-19T19:10:08.485045",
     "status": "completed"
    },
    "tags": []
   },
   "outputs": [
    {
     "name": "stdout",
     "output_type": "stream",
     "text": [
      "Using Seed: 2023\n"
     ]
    }
   ],
   "source": [
    "import numpy as np\n",
    "parsed_seed = int(seed)\n",
    "np.random.seed(parsed_seed)\n",
    "print(f\"Using Seed: {parsed_seed}\")"
   ]
  },
  {
   "cell_type": "markdown",
   "id": "b6e958b4",
   "metadata": {
    "papermill": {
     "duration": 0.010264,
     "end_time": "2025-08-19T19:10:08.532675",
     "exception": false,
     "start_time": "2025-08-19T19:10:08.522411",
     "status": "completed"
    },
    "tags": []
   },
   "source": [
    "# Loading Data"
   ]
  },
  {
   "cell_type": "code",
   "execution_count": 9,
   "id": "98701482",
   "metadata": {
    "execution": {
     "iopub.execute_input": "2025-08-19T19:10:08.553746Z",
     "iopub.status.busy": "2025-08-19T19:10:08.552525Z",
     "iopub.status.idle": "2025-08-19T19:10:18.967262Z",
     "shell.execute_reply": "2025-08-19T19:10:18.965966Z"
    },
    "papermill": {
     "duration": 10.428171,
     "end_time": "2025-08-19T19:10:18.969792",
     "exception": false,
     "start_time": "2025-08-19T19:10:08.541621",
     "status": "completed"
    },
    "tags": []
   },
   "outputs": [
    {
     "name": "stdout",
     "output_type": "stream",
     "text": [
      "Loading SIAB data from cache: data/siab_cached.csv.gz\n"
     ]
    },
    {
     "name": "stdout",
     "output_type": "stream",
     "text": [
      "(643690, 164)\n"
     ]
    }
   ],
   "source": [
    "from pathlib import Path\n",
    "import pandas as pd\n",
    "\n",
    "# File paths\n",
    "raw_file = Path(\"data/raw/siab.csv\")\n",
    "cache_file = Path(\"data/siab_cached.csv.gz\")\n",
    "\n",
    "# Ensure cache directory exists\n",
    "cache_file.parent.mkdir(parents=True, exist_ok=True)\n",
    "\n",
    "# Load with simple caching\n",
    "if cache_file.exists():\n",
    "    print(f\"Loading SIAB data from cache: {cache_file}\")\n",
    "    siab = pd.read_csv(cache_file, compression='gzip')\n",
    "else:\n",
    "    print(f\"Cache not found. Reading raw SIAB data: {raw_file}\")\n",
    "    siab = pd.read_csv(raw_file)\n",
    "    siab.to_csv(cache_file, index=False, compression='gzip')\n",
    "    print(f\"Cached SIAB data to: {cache_file}\")\n",
    "\n",
    "print(siab.shape)"
   ]
  },
  {
   "cell_type": "code",
   "execution_count": 10,
   "id": "058d2abb",
   "metadata": {
    "execution": {
     "iopub.execute_input": "2025-08-19T19:10:19.016140Z",
     "iopub.status.busy": "2025-08-19T19:10:19.015608Z",
     "iopub.status.idle": "2025-08-19T19:10:19.174187Z",
     "shell.execute_reply": "2025-08-19T19:10:19.173312Z"
    },
    "papermill": {
     "duration": 0.170984,
     "end_time": "2025-08-19T19:10:19.175684",
     "exception": false,
     "start_time": "2025-08-19T19:10:19.004700",
     "status": "completed"
    },
    "tags": []
   },
   "outputs": [
    {
     "data": {
      "text/html": [
       "<div>\n",
       "<style scoped>\n",
       "    .dataframe tbody tr th:only-of-type {\n",
       "        vertical-align: middle;\n",
       "    }\n",
       "\n",
       "    .dataframe tbody tr th {\n",
       "        vertical-align: top;\n",
       "    }\n",
       "\n",
       "    .dataframe thead th {\n",
       "        text-align: right;\n",
       "    }\n",
       "</style>\n",
       "<table border=\"1\" class=\"dataframe\">\n",
       "  <thead>\n",
       "    <tr style=\"text-align: right;\">\n",
       "      <th></th>\n",
       "      <th>persnr</th>\n",
       "      <th>year</th>\n",
       "      <th>nrEntry</th>\n",
       "      <th>ltue</th>\n",
       "      <th>employed_before</th>\n",
       "      <th>receipt_leh_before</th>\n",
       "      <th>receipt_lhg_before</th>\n",
       "      <th>se_before</th>\n",
       "      <th>ASU_notue_seeking_before</th>\n",
       "      <th>ASU_other_before</th>\n",
       "      <th>...</th>\n",
       "      <th>minijob_tot_dur_byage</th>\n",
       "      <th>ft_tot_dur_byage</th>\n",
       "      <th>befrist_tot_dur_byage</th>\n",
       "      <th>leih_tot_dur_byage</th>\n",
       "      <th>LHG_tot_dur_byage</th>\n",
       "      <th>LEH_tot_dur_byage</th>\n",
       "      <th>almp_tot_dur_byage</th>\n",
       "      <th>almp_aw_tot_dur_byage</th>\n",
       "      <th>se_tot_dur_byage</th>\n",
       "      <th>seeking1_tot_dur_byage</th>\n",
       "    </tr>\n",
       "  </thead>\n",
       "  <tbody>\n",
       "    <tr>\n",
       "      <th>0</th>\n",
       "      <td>7</td>\n",
       "      <td>2015</td>\n",
       "      <td>1</td>\n",
       "      <td>0</td>\n",
       "      <td>1</td>\n",
       "      <td>0</td>\n",
       "      <td>0</td>\n",
       "      <td>0</td>\n",
       "      <td>1</td>\n",
       "      <td>0</td>\n",
       "      <td>...</td>\n",
       "      <td>0.000000</td>\n",
       "      <td>0.000000</td>\n",
       "      <td>15.043478</td>\n",
       "      <td>0.000000</td>\n",
       "      <td>0.000000</td>\n",
       "      <td>0.000000</td>\n",
       "      <td>0.000000</td>\n",
       "      <td>0.000000</td>\n",
       "      <td>0.000000</td>\n",
       "      <td>0.000000</td>\n",
       "    </tr>\n",
       "    <tr>\n",
       "      <th>1</th>\n",
       "      <td>18</td>\n",
       "      <td>2010</td>\n",
       "      <td>1</td>\n",
       "      <td>1</td>\n",
       "      <td>0</td>\n",
       "      <td>0</td>\n",
       "      <td>0</td>\n",
       "      <td>0</td>\n",
       "      <td>0</td>\n",
       "      <td>0</td>\n",
       "      <td>...</td>\n",
       "      <td>0.000000</td>\n",
       "      <td>0.000000</td>\n",
       "      <td>0.000000</td>\n",
       "      <td>0.000000</td>\n",
       "      <td>0.000000</td>\n",
       "      <td>0.000000</td>\n",
       "      <td>0.000000</td>\n",
       "      <td>0.000000</td>\n",
       "      <td>0.000000</td>\n",
       "      <td>0.000000</td>\n",
       "    </tr>\n",
       "    <tr>\n",
       "      <th>2</th>\n",
       "      <td>18</td>\n",
       "      <td>2011</td>\n",
       "      <td>2</td>\n",
       "      <td>0</td>\n",
       "      <td>1</td>\n",
       "      <td>0</td>\n",
       "      <td>1</td>\n",
       "      <td>0</td>\n",
       "      <td>1</td>\n",
       "      <td>0</td>\n",
       "      <td>...</td>\n",
       "      <td>2.714286</td>\n",
       "      <td>2.714286</td>\n",
       "      <td>0.000000</td>\n",
       "      <td>0.000000</td>\n",
       "      <td>10.775510</td>\n",
       "      <td>0.000000</td>\n",
       "      <td>8.367347</td>\n",
       "      <td>0.000000</td>\n",
       "      <td>0.000000</td>\n",
       "      <td>9.836735</td>\n",
       "    </tr>\n",
       "    <tr>\n",
       "      <th>3</th>\n",
       "      <td>18</td>\n",
       "      <td>2012</td>\n",
       "      <td>3</td>\n",
       "      <td>0</td>\n",
       "      <td>1</td>\n",
       "      <td>0</td>\n",
       "      <td>1</td>\n",
       "      <td>0</td>\n",
       "      <td>1</td>\n",
       "      <td>0</td>\n",
       "      <td>...</td>\n",
       "      <td>4.200000</td>\n",
       "      <td>4.200000</td>\n",
       "      <td>0.000000</td>\n",
       "      <td>0.000000</td>\n",
       "      <td>12.100000</td>\n",
       "      <td>0.000000</td>\n",
       "      <td>9.400000</td>\n",
       "      <td>0.000000</td>\n",
       "      <td>0.000000</td>\n",
       "      <td>9.960000</td>\n",
       "    </tr>\n",
       "    <tr>\n",
       "      <th>4</th>\n",
       "      <td>18</td>\n",
       "      <td>2012</td>\n",
       "      <td>4</td>\n",
       "      <td>0</td>\n",
       "      <td>1</td>\n",
       "      <td>0</td>\n",
       "      <td>1</td>\n",
       "      <td>0</td>\n",
       "      <td>1</td>\n",
       "      <td>0</td>\n",
       "      <td>...</td>\n",
       "      <td>5.460000</td>\n",
       "      <td>5.460000</td>\n",
       "      <td>0.000000</td>\n",
       "      <td>0.000000</td>\n",
       "      <td>13.360000</td>\n",
       "      <td>0.000000</td>\n",
       "      <td>10.320000</td>\n",
       "      <td>0.000000</td>\n",
       "      <td>0.000000</td>\n",
       "      <td>10.280000</td>\n",
       "    </tr>\n",
       "    <tr>\n",
       "      <th>...</th>\n",
       "      <td>...</td>\n",
       "      <td>...</td>\n",
       "      <td>...</td>\n",
       "      <td>...</td>\n",
       "      <td>...</td>\n",
       "      <td>...</td>\n",
       "      <td>...</td>\n",
       "      <td>...</td>\n",
       "      <td>...</td>\n",
       "      <td>...</td>\n",
       "      <td>...</td>\n",
       "      <td>...</td>\n",
       "      <td>...</td>\n",
       "      <td>...</td>\n",
       "      <td>...</td>\n",
       "      <td>...</td>\n",
       "      <td>...</td>\n",
       "      <td>...</td>\n",
       "      <td>...</td>\n",
       "      <td>...</td>\n",
       "      <td>...</td>\n",
       "    </tr>\n",
       "    <tr>\n",
       "      <th>643685</th>\n",
       "      <td>1827860</td>\n",
       "      <td>2013</td>\n",
       "      <td>1</td>\n",
       "      <td>0</td>\n",
       "      <td>0</td>\n",
       "      <td>0</td>\n",
       "      <td>1</td>\n",
       "      <td>0</td>\n",
       "      <td>0</td>\n",
       "      <td>1</td>\n",
       "      <td>...</td>\n",
       "      <td>0.000000</td>\n",
       "      <td>0.000000</td>\n",
       "      <td>0.000000</td>\n",
       "      <td>0.000000</td>\n",
       "      <td>0.612903</td>\n",
       "      <td>0.000000</td>\n",
       "      <td>0.000000</td>\n",
       "      <td>0.000000</td>\n",
       "      <td>0.000000</td>\n",
       "      <td>0.000000</td>\n",
       "    </tr>\n",
       "    <tr>\n",
       "      <th>643686</th>\n",
       "      <td>1827860</td>\n",
       "      <td>2015</td>\n",
       "      <td>2</td>\n",
       "      <td>1</td>\n",
       "      <td>0</td>\n",
       "      <td>0</td>\n",
       "      <td>1</td>\n",
       "      <td>0</td>\n",
       "      <td>1</td>\n",
       "      <td>0</td>\n",
       "      <td>...</td>\n",
       "      <td>0.000000</td>\n",
       "      <td>0.000000</td>\n",
       "      <td>0.212121</td>\n",
       "      <td>0.212121</td>\n",
       "      <td>17.363636</td>\n",
       "      <td>0.000000</td>\n",
       "      <td>8.909091</td>\n",
       "      <td>0.000000</td>\n",
       "      <td>0.000000</td>\n",
       "      <td>7.121212</td>\n",
       "    </tr>\n",
       "    <tr>\n",
       "      <th>643687</th>\n",
       "      <td>1827860</td>\n",
       "      <td>2016</td>\n",
       "      <td>3</td>\n",
       "      <td>1</td>\n",
       "      <td>0</td>\n",
       "      <td>0</td>\n",
       "      <td>1</td>\n",
       "      <td>1</td>\n",
       "      <td>0</td>\n",
       "      <td>1</td>\n",
       "      <td>...</td>\n",
       "      <td>0.000000</td>\n",
       "      <td>0.000000</td>\n",
       "      <td>0.294118</td>\n",
       "      <td>0.205882</td>\n",
       "      <td>34.705882</td>\n",
       "      <td>0.000000</td>\n",
       "      <td>10.352941</td>\n",
       "      <td>1.705882</td>\n",
       "      <td>1.705882</td>\n",
       "      <td>23.911765</td>\n",
       "    </tr>\n",
       "    <tr>\n",
       "      <th>643688</th>\n",
       "      <td>1827869</td>\n",
       "      <td>2013</td>\n",
       "      <td>1</td>\n",
       "      <td>1</td>\n",
       "      <td>1</td>\n",
       "      <td>0</td>\n",
       "      <td>0</td>\n",
       "      <td>0</td>\n",
       "      <td>1</td>\n",
       "      <td>0</td>\n",
       "      <td>...</td>\n",
       "      <td>0.000000</td>\n",
       "      <td>0.000000</td>\n",
       "      <td>0.000000</td>\n",
       "      <td>0.000000</td>\n",
       "      <td>0.000000</td>\n",
       "      <td>0.525424</td>\n",
       "      <td>0.000000</td>\n",
       "      <td>0.000000</td>\n",
       "      <td>0.000000</td>\n",
       "      <td>0.000000</td>\n",
       "    </tr>\n",
       "    <tr>\n",
       "      <th>643689</th>\n",
       "      <td>1827869</td>\n",
       "      <td>2014</td>\n",
       "      <td>2</td>\n",
       "      <td>0</td>\n",
       "      <td>0</td>\n",
       "      <td>1</td>\n",
       "      <td>0</td>\n",
       "      <td>0</td>\n",
       "      <td>1</td>\n",
       "      <td>0</td>\n",
       "      <td>...</td>\n",
       "      <td>0.000000</td>\n",
       "      <td>0.666667</td>\n",
       "      <td>0.666667</td>\n",
       "      <td>0.000000</td>\n",
       "      <td>0.000000</td>\n",
       "      <td>8.950000</td>\n",
       "      <td>1.033333</td>\n",
       "      <td>0.083333</td>\n",
       "      <td>0.083333</td>\n",
       "      <td>8.133333</td>\n",
       "    </tr>\n",
       "  </tbody>\n",
       "</table>\n",
       "<p>643690 rows × 164 columns</p>\n",
       "</div>"
      ],
      "text/plain": [
       "         persnr  year  nrEntry  ltue  employed_before  receipt_leh_before  \\\n",
       "0             7  2015        1     0                1                   0   \n",
       "1            18  2010        1     1                0                   0   \n",
       "2            18  2011        2     0                1                   0   \n",
       "3            18  2012        3     0                1                   0   \n",
       "4            18  2012        4     0                1                   0   \n",
       "...         ...   ...      ...   ...              ...                 ...   \n",
       "643685  1827860  2013        1     0                0                   0   \n",
       "643686  1827860  2015        2     1                0                   0   \n",
       "643687  1827860  2016        3     1                0                   0   \n",
       "643688  1827869  2013        1     1                1                   0   \n",
       "643689  1827869  2014        2     0                0                   1   \n",
       "\n",
       "        receipt_lhg_before  se_before  ASU_notue_seeking_before  \\\n",
       "0                        0          0                         1   \n",
       "1                        0          0                         0   \n",
       "2                        1          0                         1   \n",
       "3                        1          0                         1   \n",
       "4                        1          0                         1   \n",
       "...                    ...        ...                       ...   \n",
       "643685                   1          0                         0   \n",
       "643686                   1          0                         1   \n",
       "643687                   1          1                         0   \n",
       "643688                   0          0                         1   \n",
       "643689                   0          0                         1   \n",
       "\n",
       "        ASU_other_before  ...  minijob_tot_dur_byage  ft_tot_dur_byage  \\\n",
       "0                      0  ...               0.000000          0.000000   \n",
       "1                      0  ...               0.000000          0.000000   \n",
       "2                      0  ...               2.714286          2.714286   \n",
       "3                      0  ...               4.200000          4.200000   \n",
       "4                      0  ...               5.460000          5.460000   \n",
       "...                  ...  ...                    ...               ...   \n",
       "643685                 1  ...               0.000000          0.000000   \n",
       "643686                 0  ...               0.000000          0.000000   \n",
       "643687                 1  ...               0.000000          0.000000   \n",
       "643688                 0  ...               0.000000          0.000000   \n",
       "643689                 0  ...               0.000000          0.666667   \n",
       "\n",
       "        befrist_tot_dur_byage  leih_tot_dur_byage  LHG_tot_dur_byage  \\\n",
       "0                   15.043478            0.000000           0.000000   \n",
       "1                    0.000000            0.000000           0.000000   \n",
       "2                    0.000000            0.000000          10.775510   \n",
       "3                    0.000000            0.000000          12.100000   \n",
       "4                    0.000000            0.000000          13.360000   \n",
       "...                       ...                 ...                ...   \n",
       "643685               0.000000            0.000000           0.612903   \n",
       "643686               0.212121            0.212121          17.363636   \n",
       "643687               0.294118            0.205882          34.705882   \n",
       "643688               0.000000            0.000000           0.000000   \n",
       "643689               0.666667            0.000000           0.000000   \n",
       "\n",
       "        LEH_tot_dur_byage  almp_tot_dur_byage  almp_aw_tot_dur_byage  \\\n",
       "0                0.000000            0.000000               0.000000   \n",
       "1                0.000000            0.000000               0.000000   \n",
       "2                0.000000            8.367347               0.000000   \n",
       "3                0.000000            9.400000               0.000000   \n",
       "4                0.000000           10.320000               0.000000   \n",
       "...                   ...                 ...                    ...   \n",
       "643685           0.000000            0.000000               0.000000   \n",
       "643686           0.000000            8.909091               0.000000   \n",
       "643687           0.000000           10.352941               1.705882   \n",
       "643688           0.525424            0.000000               0.000000   \n",
       "643689           8.950000            1.033333               0.083333   \n",
       "\n",
       "        se_tot_dur_byage  seeking1_tot_dur_byage  \n",
       "0               0.000000                0.000000  \n",
       "1               0.000000                0.000000  \n",
       "2               0.000000                9.836735  \n",
       "3               0.000000                9.960000  \n",
       "4               0.000000               10.280000  \n",
       "...                  ...                     ...  \n",
       "643685          0.000000                0.000000  \n",
       "643686          0.000000                7.121212  \n",
       "643687          1.705882               23.911765  \n",
       "643688          0.000000                0.000000  \n",
       "643689          0.083333                8.133333  \n",
       "\n",
       "[643690 rows x 164 columns]"
      ]
     },
     "execution_count": 10,
     "metadata": {},
     "output_type": "execute_result"
    }
   ],
   "source": [
    "siab"
   ]
  },
  {
   "cell_type": "markdown",
   "id": "1f87e805",
   "metadata": {
    "papermill": {
     "duration": 0.024898,
     "end_time": "2025-08-19T19:10:19.212445",
     "exception": false,
     "start_time": "2025-08-19T19:10:19.187547",
     "status": "completed"
    },
    "tags": []
   },
   "source": [
    "# Splitting Data and Setting Training Data Size"
   ]
  },
  {
   "cell_type": "code",
   "execution_count": 11,
   "id": "910ae358",
   "metadata": {
    "execution": {
     "iopub.execute_input": "2025-08-19T19:10:19.239366Z",
     "iopub.status.busy": "2025-08-19T19:10:19.238170Z",
     "iopub.status.idle": "2025-08-19T19:10:20.285597Z",
     "shell.execute_reply": "2025-08-19T19:10:20.284736Z"
    },
    "papermill": {
     "duration": 1.061927,
     "end_time": "2025-08-19T19:10:20.287970",
     "exception": false,
     "start_time": "2025-08-19T19:10:19.226043",
     "status": "completed"
    },
    "tags": []
   },
   "outputs": [],
   "source": [
    "from fairness_multiverse.universe import sample_by_year_size\n",
    "\n",
    "siab_train = sample_by_year_size(siab,\n",
    "                               training_year=universe[\"training_year\"],\n",
    "                               training_size=universe[\"training_size\"])"
   ]
  },
  {
   "cell_type": "code",
   "execution_count": 12,
   "id": "919c8ff5",
   "metadata": {
    "execution": {
     "iopub.execute_input": "2025-08-19T19:10:20.333920Z",
     "iopub.status.busy": "2025-08-19T19:10:20.333507Z",
     "iopub.status.idle": "2025-08-19T19:10:20.339476Z",
     "shell.execute_reply": "2025-08-19T19:10:20.338575Z"
    },
    "papermill": {
     "duration": 0.021984,
     "end_time": "2025-08-19T19:10:20.340789",
     "exception": false,
     "start_time": "2025-08-19T19:10:20.318805",
     "status": "completed"
    },
    "tags": []
   },
   "outputs": [
    {
     "data": {
      "text/plain": [
       "(1000, 164)"
      ]
     },
     "execution_count": 12,
     "metadata": {},
     "output_type": "execute_result"
    }
   ],
   "source": [
    "siab_train.shape"
   ]
  },
  {
   "cell_type": "code",
   "execution_count": 13,
   "id": "feb13bf4",
   "metadata": {
    "execution": {
     "iopub.execute_input": "2025-08-19T19:10:20.367608Z",
     "iopub.status.busy": "2025-08-19T19:10:20.367311Z",
     "iopub.status.idle": "2025-08-19T19:10:20.380417Z",
     "shell.execute_reply": "2025-08-19T19:10:20.379501Z"
    },
    "papermill": {
     "duration": 0.026669,
     "end_time": "2025-08-19T19:10:20.382292",
     "exception": false,
     "start_time": "2025-08-19T19:10:20.355623",
     "status": "completed"
    },
    "tags": []
   },
   "outputs": [
    {
     "data": {
      "text/plain": [
       "year\n",
       "2010    200\n",
       "2011    200\n",
       "2012    200\n",
       "2013    200\n",
       "2014    200\n",
       "dtype: int64"
      ]
     },
     "metadata": {},
     "output_type": "display_data"
    }
   ],
   "source": [
    "display(siab_train.groupby(\"year\").size())"
   ]
  },
  {
   "cell_type": "code",
   "execution_count": 14,
   "id": "0997782f",
   "metadata": {
    "execution": {
     "iopub.execute_input": "2025-08-19T19:10:20.418862Z",
     "iopub.status.busy": "2025-08-19T19:10:20.418354Z",
     "iopub.status.idle": "2025-08-19T19:10:20.684996Z",
     "shell.execute_reply": "2025-08-19T19:10:20.684105Z"
    },
    "papermill": {
     "duration": 0.29092,
     "end_time": "2025-08-19T19:10:20.687254",
     "exception": false,
     "start_time": "2025-08-19T19:10:20.396334",
     "status": "completed"
    },
    "tags": []
   },
   "outputs": [],
   "source": [
    "#siab_train = siab_s[siab_s.year < 2015]\n",
    "siab_calib = siab[siab.year == 2015]\n",
    "siab_test = siab[siab.year == 2016]"
   ]
  },
  {
   "cell_type": "code",
   "execution_count": 15,
   "id": "2c1e4012",
   "metadata": {
    "execution": {
     "iopub.execute_input": "2025-08-19T19:10:20.717424Z",
     "iopub.status.busy": "2025-08-19T19:10:20.716382Z",
     "iopub.status.idle": "2025-08-19T19:10:20.722616Z",
     "shell.execute_reply": "2025-08-19T19:10:20.721450Z"
    },
    "papermill": {
     "duration": 0.019917,
     "end_time": "2025-08-19T19:10:20.724175",
     "exception": false,
     "start_time": "2025-08-19T19:10:20.704258",
     "status": "completed"
    },
    "tags": []
   },
   "outputs": [],
   "source": [
    "#siab_calib.shape"
   ]
  },
  {
   "cell_type": "code",
   "execution_count": 16,
   "id": "f66b54ca",
   "metadata": {
    "execution": {
     "iopub.execute_input": "2025-08-19T19:10:20.749955Z",
     "iopub.status.busy": "2025-08-19T19:10:20.748974Z",
     "iopub.status.idle": "2025-08-19T19:10:20.755964Z",
     "shell.execute_reply": "2025-08-19T19:10:20.754633Z"
    },
    "papermill": {
     "duration": 0.020745,
     "end_time": "2025-08-19T19:10:20.757626",
     "exception": false,
     "start_time": "2025-08-19T19:10:20.736881",
     "status": "completed"
    },
    "tags": []
   },
   "outputs": [],
   "source": [
    "#siab_test.shape"
   ]
  },
  {
   "cell_type": "code",
   "execution_count": 17,
   "id": "27e4384d",
   "metadata": {
    "execution": {
     "iopub.execute_input": "2025-08-19T19:10:20.782084Z",
     "iopub.status.busy": "2025-08-19T19:10:20.781403Z",
     "iopub.status.idle": "2025-08-19T19:10:20.791110Z",
     "shell.execute_reply": "2025-08-19T19:10:20.789792Z"
    },
    "papermill": {
     "duration": 0.023574,
     "end_time": "2025-08-19T19:10:20.792679",
     "exception": false,
     "start_time": "2025-08-19T19:10:20.769105",
     "status": "completed"
    },
    "tags": []
   },
   "outputs": [],
   "source": [
    "X_train = siab_train.iloc[:,4:164]\n",
    "y_train = siab_train.iloc[:, [3]]"
   ]
  },
  {
   "cell_type": "code",
   "execution_count": 18,
   "id": "08ee8389",
   "metadata": {
    "execution": {
     "iopub.execute_input": "2025-08-19T19:10:20.820023Z",
     "iopub.status.busy": "2025-08-19T19:10:20.819349Z",
     "iopub.status.idle": "2025-08-19T19:10:20.863885Z",
     "shell.execute_reply": "2025-08-19T19:10:20.863014Z"
    },
    "papermill": {
     "duration": 0.060561,
     "end_time": "2025-08-19T19:10:20.867553",
     "exception": false,
     "start_time": "2025-08-19T19:10:20.806992",
     "status": "completed"
    },
    "tags": []
   },
   "outputs": [],
   "source": [
    "X_calib = siab_calib.iloc[:,4:164]\n",
    "y_calib = siab_calib.iloc[:, [3]]"
   ]
  },
  {
   "cell_type": "code",
   "execution_count": 19,
   "id": "b7ff42e0",
   "metadata": {
    "execution": {
     "iopub.execute_input": "2025-08-19T19:10:20.905313Z",
     "iopub.status.busy": "2025-08-19T19:10:20.904712Z",
     "iopub.status.idle": "2025-08-19T19:10:20.954128Z",
     "shell.execute_reply": "2025-08-19T19:10:20.952890Z"
    },
    "papermill": {
     "duration": 0.066974,
     "end_time": "2025-08-19T19:10:20.957842",
     "exception": false,
     "start_time": "2025-08-19T19:10:20.890868",
     "status": "completed"
    },
    "tags": []
   },
   "outputs": [],
   "source": [
    "X_test = siab_test.iloc[:,4:164]\n",
    "y_true = siab_test.iloc[:, [3]]"
   ]
  },
  {
   "cell_type": "code",
   "execution_count": 20,
   "id": "0275101e",
   "metadata": {
    "execution": {
     "iopub.execute_input": "2025-08-19T19:10:20.996284Z",
     "iopub.status.busy": "2025-08-19T19:10:20.995673Z",
     "iopub.status.idle": "2025-08-19T19:10:21.109078Z",
     "shell.execute_reply": "2025-08-19T19:10:21.108196Z"
    },
    "papermill": {
     "duration": 0.131073,
     "end_time": "2025-08-19T19:10:21.112815",
     "exception": false,
     "start_time": "2025-08-19T19:10:20.981742",
     "status": "completed"
    },
    "tags": []
   },
   "outputs": [],
   "source": [
    "# Auxiliary data needed downstream in the pipeline\n",
    "\n",
    "org_train = X_train.copy()\n",
    "org_test = X_test.copy()\n",
    "org_calib = X_calib.copy()"
   ]
  },
  {
   "cell_type": "markdown",
   "id": "b461e618",
   "metadata": {
    "papermill": {
     "duration": 0.012154,
     "end_time": "2025-08-19T19:10:21.149585",
     "exception": false,
     "start_time": "2025-08-19T19:10:21.137431",
     "status": "completed"
    },
    "tags": []
   },
   "source": [
    "# Preprocessing Data"
   ]
  },
  {
   "cell_type": "code",
   "execution_count": 21,
   "id": "78e74c4b",
   "metadata": {
    "execution": {
     "iopub.execute_input": "2025-08-19T19:10:21.173553Z",
     "iopub.status.busy": "2025-08-19T19:10:21.172843Z",
     "iopub.status.idle": "2025-08-19T19:10:21.181624Z",
     "shell.execute_reply": "2025-08-19T19:10:21.180236Z"
    },
    "papermill": {
     "duration": 0.022974,
     "end_time": "2025-08-19T19:10:21.183270",
     "exception": false,
     "start_time": "2025-08-19T19:10:21.160296",
     "status": "completed"
    },
    "tags": []
   },
   "outputs": [],
   "source": [
    "# EXCLUDE PROTECTED FEATURES\n",
    "# --------------------------\n",
    "\n",
    "excluded_features = universe[\"exclude_features\"].split(\"-\")\n",
    "excluded_features_dictionary = {\n",
    "    \"nationality\": [\"maxdeutsch1\", \"maxdeutsch.Missing.\"],\n",
    "    \"sex\": [\"frau1\"],\n",
    "    \"age\": [\"age\"],\n",
    "}"
   ]
  },
  {
   "cell_type": "code",
   "execution_count": 22,
   "id": "f8e63555",
   "metadata": {
    "execution": {
     "iopub.execute_input": "2025-08-19T19:10:21.209848Z",
     "iopub.status.busy": "2025-08-19T19:10:21.209157Z",
     "iopub.status.idle": "2025-08-19T19:10:21.217573Z",
     "shell.execute_reply": "2025-08-19T19:10:21.216156Z"
    },
    "papermill": {
     "duration": 0.023091,
     "end_time": "2025-08-19T19:10:21.219250",
     "exception": false,
     "start_time": "2025-08-19T19:10:21.196159",
     "status": "completed"
    },
    "tags": []
   },
   "outputs": [],
   "source": [
    "excluded_features_columns = [\n",
    "    excluded_features_dictionary[f] for f in excluded_features if len(f) > 0 and f != \"none\"\n",
    "]"
   ]
  },
  {
   "cell_type": "code",
   "execution_count": 23,
   "id": "da781f7c",
   "metadata": {
    "execution": {
     "iopub.execute_input": "2025-08-19T19:10:21.246817Z",
     "iopub.status.busy": "2025-08-19T19:10:21.246135Z",
     "iopub.status.idle": "2025-08-19T19:10:21.253840Z",
     "shell.execute_reply": "2025-08-19T19:10:21.252267Z"
    },
    "papermill": {
     "duration": 0.022046,
     "end_time": "2025-08-19T19:10:21.255644",
     "exception": false,
     "start_time": "2025-08-19T19:10:21.233598",
     "status": "completed"
    },
    "tags": []
   },
   "outputs": [],
   "source": [
    "from fairness_multiverse.universe import flatten_once\n",
    "\n",
    "excluded_features_columns = flatten_once(excluded_features_columns)"
   ]
  },
  {
   "cell_type": "code",
   "execution_count": 24,
   "id": "37fef0f0",
   "metadata": {
    "execution": {
     "iopub.execute_input": "2025-08-19T19:10:21.280898Z",
     "iopub.status.busy": "2025-08-19T19:10:21.280176Z",
     "iopub.status.idle": "2025-08-19T19:10:21.292525Z",
     "shell.execute_reply": "2025-08-19T19:10:21.291269Z"
    },
    "papermill": {
     "duration": 0.027401,
     "end_time": "2025-08-19T19:10:21.294691",
     "exception": false,
     "start_time": "2025-08-19T19:10:21.267290",
     "status": "completed"
    },
    "tags": []
   },
   "outputs": [],
   "source": [
    "if len(excluded_features_columns) > 0:\n",
    "    print(f\"Dropping features: {excluded_features_columns}\")\n",
    "    X_train.drop(excluded_features_columns, axis=1, inplace=True)"
   ]
  },
  {
   "cell_type": "code",
   "execution_count": 25,
   "id": "d029e3e9",
   "metadata": {
    "execution": {
     "iopub.execute_input": "2025-08-19T19:10:21.322925Z",
     "iopub.status.busy": "2025-08-19T19:10:21.322564Z",
     "iopub.status.idle": "2025-08-19T19:10:21.328842Z",
     "shell.execute_reply": "2025-08-19T19:10:21.327578Z"
    },
    "papermill": {
     "duration": 0.019636,
     "end_time": "2025-08-19T19:10:21.330251",
     "exception": false,
     "start_time": "2025-08-19T19:10:21.310615",
     "status": "completed"
    },
    "tags": []
   },
   "outputs": [],
   "source": [
    "if len(excluded_features_columns) > 0:\n",
    "    print(f\"Dropping features: {excluded_features_columns}\")\n",
    "    X_test.drop(excluded_features_columns, axis=1, inplace=True)"
   ]
  },
  {
   "cell_type": "code",
   "execution_count": 26,
   "id": "01d571f0",
   "metadata": {
    "execution": {
     "iopub.execute_input": "2025-08-19T19:10:21.355485Z",
     "iopub.status.busy": "2025-08-19T19:10:21.355036Z",
     "iopub.status.idle": "2025-08-19T19:10:21.361128Z",
     "shell.execute_reply": "2025-08-19T19:10:21.359859Z"
    },
    "papermill": {
     "duration": 0.019639,
     "end_time": "2025-08-19T19:10:21.362614",
     "exception": false,
     "start_time": "2025-08-19T19:10:21.342975",
     "status": "completed"
    },
    "tags": []
   },
   "outputs": [],
   "source": [
    "if len(excluded_features_columns) > 0:\n",
    "    print(f\"Dropping features: {excluded_features_columns}\")\n",
    "    X_calib.drop(excluded_features_columns, axis=1, inplace=True)"
   ]
  },
  {
   "cell_type": "code",
   "execution_count": 27,
   "id": "3037356e",
   "metadata": {
    "execution": {
     "iopub.execute_input": "2025-08-19T19:10:21.386393Z",
     "iopub.status.busy": "2025-08-19T19:10:21.386069Z",
     "iopub.status.idle": "2025-08-19T19:10:21.391423Z",
     "shell.execute_reply": "2025-08-19T19:10:21.390387Z"
    },
    "papermill": {
     "duration": 0.018497,
     "end_time": "2025-08-19T19:10:21.392720",
     "exception": false,
     "start_time": "2025-08-19T19:10:21.374223",
     "status": "completed"
    },
    "tags": []
   },
   "outputs": [],
   "source": [
    "# EXCLUDE CERTAIN SUBGROUPS\n",
    "# -------------------------\n",
    "\n",
    "mode = universe.get(\"exclude_subgroups\", \"keep-all\") # Defaults to \"keep-all\" if the key is missing."
   ]
  },
  {
   "cell_type": "code",
   "execution_count": 28,
   "id": "9d1e63fd",
   "metadata": {
    "execution": {
     "iopub.execute_input": "2025-08-19T19:10:21.416567Z",
     "iopub.status.busy": "2025-08-19T19:10:21.416097Z",
     "iopub.status.idle": "2025-08-19T19:10:21.426666Z",
     "shell.execute_reply": "2025-08-19T19:10:21.425893Z"
    },
    "papermill": {
     "duration": 0.024436,
     "end_time": "2025-08-19T19:10:21.428652",
     "exception": false,
     "start_time": "2025-08-19T19:10:21.404216",
     "status": "completed"
    },
    "tags": []
   },
   "outputs": [],
   "source": [
    "if mode == \"keep-all\":\n",
    "    keep_mask = pd.Series(True, index=org_train.index)\n",
    "\n",
    "elif mode == \"drop-non-german\":\n",
    "    keep_mask = (org_train[\"maxdeutsch1\"] == 1) & (org_train[\"maxdeutsch.Missing.\"] == 0)\n",
    "\n",
    "else:\n",
    "    raise ValueError(f\"Unsupported mode for exclude_subgroups: {mode}\")"
   ]
  },
  {
   "cell_type": "code",
   "execution_count": 29,
   "id": "d3b65474",
   "metadata": {
    "execution": {
     "iopub.execute_input": "2025-08-19T19:10:21.454002Z",
     "iopub.status.busy": "2025-08-19T19:10:21.453511Z",
     "iopub.status.idle": "2025-08-19T19:10:21.463147Z",
     "shell.execute_reply": "2025-08-19T19:10:21.461750Z"
    },
    "papermill": {
     "duration": 0.023747,
     "end_time": "2025-08-19T19:10:21.464858",
     "exception": false,
     "start_time": "2025-08-19T19:10:21.441111",
     "status": "completed"
    },
    "tags": []
   },
   "outputs": [],
   "source": [
    "n_drop = (~keep_mask).sum() # Calculates how many rows are set to be dropped\n",
    "if n_drop > 0:\n",
    "    pct = n_drop / len(keep_mask) * 100\n",
    "    print(f\"Dropping {n_drop} rows ({pct:.2f}%) where mode='{mode}'\")"
   ]
  },
  {
   "cell_type": "code",
   "execution_count": 30,
   "id": "f44389b3",
   "metadata": {
    "execution": {
     "iopub.execute_input": "2025-08-19T19:10:21.491388Z",
     "iopub.status.busy": "2025-08-19T19:10:21.490057Z",
     "iopub.status.idle": "2025-08-19T19:10:21.500261Z",
     "shell.execute_reply": "2025-08-19T19:10:21.498646Z"
    },
    "papermill": {
     "duration": 0.025293,
     "end_time": "2025-08-19T19:10:21.502433",
     "exception": false,
     "start_time": "2025-08-19T19:10:21.477140",
     "status": "completed"
    },
    "tags": []
   },
   "outputs": [],
   "source": [
    "X_train = X_train[keep_mask]"
   ]
  },
  {
   "cell_type": "code",
   "execution_count": 31,
   "id": "ceca8c2a",
   "metadata": {
    "execution": {
     "iopub.execute_input": "2025-08-19T19:10:21.531404Z",
     "iopub.status.busy": "2025-08-19T19:10:21.529876Z",
     "iopub.status.idle": "2025-08-19T19:10:21.539729Z",
     "shell.execute_reply": "2025-08-19T19:10:21.538220Z"
    },
    "papermill": {
     "duration": 0.024207,
     "end_time": "2025-08-19T19:10:21.541445",
     "exception": false,
     "start_time": "2025-08-19T19:10:21.517238",
     "status": "completed"
    },
    "tags": []
   },
   "outputs": [],
   "source": [
    "y_train = y_train[keep_mask]"
   ]
  },
  {
   "cell_type": "markdown",
   "id": "04d31e2f",
   "metadata": {
    "papermill": {
     "duration": 0.010709,
     "end_time": "2025-08-19T19:10:21.565664",
     "exception": false,
     "start_time": "2025-08-19T19:10:21.554955",
     "status": "completed"
    },
    "tags": []
   },
   "source": [
    "# Model Training"
   ]
  },
  {
   "cell_type": "code",
   "execution_count": 32,
   "id": "db991733",
   "metadata": {
    "execution": {
     "iopub.execute_input": "2025-08-19T19:10:21.590474Z",
     "iopub.status.busy": "2025-08-19T19:10:21.588946Z",
     "iopub.status.idle": "2025-08-19T19:10:21.704198Z",
     "shell.execute_reply": "2025-08-19T19:10:21.703255Z"
    },
    "papermill": {
     "duration": 0.129869,
     "end_time": "2025-08-19T19:10:21.706091",
     "exception": false,
     "start_time": "2025-08-19T19:10:21.576222",
     "status": "completed"
    },
    "tags": []
   },
   "outputs": [],
   "source": [
    "from sklearn.linear_model import LogisticRegression\n",
    "from sklearn.ensemble import GradientBoostingClassifier, RandomForestClassifier\n",
    "\n",
    "if (universe[\"model\"] == \"logreg\"):\n",
    "    model = LogisticRegression() #penalty=\"none\", solver=\"newton-cg\", max_iter=1)\n",
    "elif (universe[\"model\"] == \"penalized_logreg\"):\n",
    "    model = LogisticRegression(penalty=\"l2\", C=0.1) #, solver=\"newton-cg\", max_iter=1)\n",
    "elif (universe[\"model\"] == \"rf\"):\n",
    "    model = RandomForestClassifier() # n_estimators=100, n_jobs=-1\n",
    "elif (universe[\"model\"] == \"gbm\"):\n",
    "    model = GradientBoostingClassifier()\n",
    "elif (universe[\"model\"] == \"elasticnet\"):\n",
    "    model = LogisticRegression(penalty = 'elasticnet', solver = 'saga', l1_ratio = 0.5) # max_iter=5000\n",
    "else:\n",
    "    raise \"Unsupported universe.model\""
   ]
  },
  {
   "cell_type": "code",
   "execution_count": 33,
   "id": "a4b5cd25",
   "metadata": {
    "execution": {
     "iopub.execute_input": "2025-08-19T19:10:21.730842Z",
     "iopub.status.busy": "2025-08-19T19:10:21.729941Z",
     "iopub.status.idle": "2025-08-19T19:10:21.738055Z",
     "shell.execute_reply": "2025-08-19T19:10:21.736664Z"
    },
    "papermill": {
     "duration": 0.021867,
     "end_time": "2025-08-19T19:10:21.739506",
     "exception": false,
     "start_time": "2025-08-19T19:10:21.717639",
     "status": "completed"
    },
    "tags": []
   },
   "outputs": [],
   "source": [
    "from sklearn.pipeline import Pipeline\n",
    "from sklearn.preprocessing import StandardScaler\n",
    "\n",
    "model = Pipeline([\n",
    "    #(\"continuous_processor\", continuous_processor),\n",
    "    #(\"categorical_preprocessor\", categorical_preprocessor),\n",
    "    (\"scale\", StandardScaler() if universe[\"scale\"] == \"scale\" else None), \n",
    "    (\"model\", model),\n",
    "])"
   ]
  },
  {
   "cell_type": "code",
   "execution_count": 34,
   "id": "283a904d",
   "metadata": {
    "execution": {
     "iopub.execute_input": "2025-08-19T19:10:21.764126Z",
     "iopub.status.busy": "2025-08-19T19:10:21.763080Z",
     "iopub.status.idle": "2025-08-19T19:10:22.125382Z",
     "shell.execute_reply": "2025-08-19T19:10:22.124481Z"
    },
    "papermill": {
     "duration": 0.381686,
     "end_time": "2025-08-19T19:10:22.132324",
     "exception": false,
     "start_time": "2025-08-19T19:10:21.750638",
     "status": "completed"
    },
    "tags": []
   },
   "outputs": [
    {
     "data": {
      "text/html": [
       "<style>#sk-container-id-1 {color: black;background-color: white;}#sk-container-id-1 pre{padding: 0;}#sk-container-id-1 div.sk-toggleable {background-color: white;}#sk-container-id-1 label.sk-toggleable__label {cursor: pointer;display: block;width: 100%;margin-bottom: 0;padding: 0.3em;box-sizing: border-box;text-align: center;}#sk-container-id-1 label.sk-toggleable__label-arrow:before {content: \"▸\";float: left;margin-right: 0.25em;color: #696969;}#sk-container-id-1 label.sk-toggleable__label-arrow:hover:before {color: black;}#sk-container-id-1 div.sk-estimator:hover label.sk-toggleable__label-arrow:before {color: black;}#sk-container-id-1 div.sk-toggleable__content {max-height: 0;max-width: 0;overflow: hidden;text-align: left;background-color: #f0f8ff;}#sk-container-id-1 div.sk-toggleable__content pre {margin: 0.2em;color: black;border-radius: 0.25em;background-color: #f0f8ff;}#sk-container-id-1 input.sk-toggleable__control:checked~div.sk-toggleable__content {max-height: 200px;max-width: 100%;overflow: auto;}#sk-container-id-1 input.sk-toggleable__control:checked~label.sk-toggleable__label-arrow:before {content: \"▾\";}#sk-container-id-1 div.sk-estimator input.sk-toggleable__control:checked~label.sk-toggleable__label {background-color: #d4ebff;}#sk-container-id-1 div.sk-label input.sk-toggleable__control:checked~label.sk-toggleable__label {background-color: #d4ebff;}#sk-container-id-1 input.sk-hidden--visually {border: 0;clip: rect(1px 1px 1px 1px);clip: rect(1px, 1px, 1px, 1px);height: 1px;margin: -1px;overflow: hidden;padding: 0;position: absolute;width: 1px;}#sk-container-id-1 div.sk-estimator {font-family: monospace;background-color: #f0f8ff;border: 1px dotted black;border-radius: 0.25em;box-sizing: border-box;margin-bottom: 0.5em;}#sk-container-id-1 div.sk-estimator:hover {background-color: #d4ebff;}#sk-container-id-1 div.sk-parallel-item::after {content: \"\";width: 100%;border-bottom: 1px solid gray;flex-grow: 1;}#sk-container-id-1 div.sk-label:hover label.sk-toggleable__label {background-color: #d4ebff;}#sk-container-id-1 div.sk-serial::before {content: \"\";position: absolute;border-left: 1px solid gray;box-sizing: border-box;top: 0;bottom: 0;left: 50%;z-index: 0;}#sk-container-id-1 div.sk-serial {display: flex;flex-direction: column;align-items: center;background-color: white;padding-right: 0.2em;padding-left: 0.2em;position: relative;}#sk-container-id-1 div.sk-item {position: relative;z-index: 1;}#sk-container-id-1 div.sk-parallel {display: flex;align-items: stretch;justify-content: center;background-color: white;position: relative;}#sk-container-id-1 div.sk-item::before, #sk-container-id-1 div.sk-parallel-item::before {content: \"\";position: absolute;border-left: 1px solid gray;box-sizing: border-box;top: 0;bottom: 0;left: 50%;z-index: -1;}#sk-container-id-1 div.sk-parallel-item {display: flex;flex-direction: column;z-index: 1;position: relative;background-color: white;}#sk-container-id-1 div.sk-parallel-item:first-child::after {align-self: flex-end;width: 50%;}#sk-container-id-1 div.sk-parallel-item:last-child::after {align-self: flex-start;width: 50%;}#sk-container-id-1 div.sk-parallel-item:only-child::after {width: 0;}#sk-container-id-1 div.sk-dashed-wrapped {border: 1px dashed gray;margin: 0 0.4em 0.5em 0.4em;box-sizing: border-box;padding-bottom: 0.4em;background-color: white;}#sk-container-id-1 div.sk-label label {font-family: monospace;font-weight: bold;display: inline-block;line-height: 1.2em;}#sk-container-id-1 div.sk-label-container {text-align: center;}#sk-container-id-1 div.sk-container {/* jupyter's `normalize.less` sets `[hidden] { display: none; }` but bootstrap.min.css set `[hidden] { display: none !important; }` so we also need the `!important` here to be able to override the default hidden behavior on the sphinx rendered scikit-learn.org. See: https://github.com/scikit-learn/scikit-learn/issues/21755 */display: inline-block !important;position: relative;}#sk-container-id-1 div.sk-text-repr-fallback {display: none;}</style><div id=\"sk-container-id-1\" class=\"sk-top-container\"><div class=\"sk-text-repr-fallback\"><pre>Pipeline(steps=[(&#x27;scale&#x27;, None), (&#x27;model&#x27;, RandomForestClassifier())])</pre><b>In a Jupyter environment, please rerun this cell to show the HTML representation or trust the notebook. <br />On GitHub, the HTML representation is unable to render, please try loading this page with nbviewer.org.</b></div><div class=\"sk-container\" hidden><div class=\"sk-item sk-dashed-wrapped\"><div class=\"sk-label-container\"><div class=\"sk-label sk-toggleable\"><input class=\"sk-toggleable__control sk-hidden--visually\" id=\"sk-estimator-id-1\" type=\"checkbox\" ><label for=\"sk-estimator-id-1\" class=\"sk-toggleable__label sk-toggleable__label-arrow\">Pipeline</label><div class=\"sk-toggleable__content\"><pre>Pipeline(steps=[(&#x27;scale&#x27;, None), (&#x27;model&#x27;, RandomForestClassifier())])</pre></div></div></div><div class=\"sk-serial\"><div class=\"sk-item\"><div class=\"sk-estimator sk-toggleable\"><input class=\"sk-toggleable__control sk-hidden--visually\" id=\"sk-estimator-id-2\" type=\"checkbox\" ><label for=\"sk-estimator-id-2\" class=\"sk-toggleable__label sk-toggleable__label-arrow\">None</label><div class=\"sk-toggleable__content\"><pre>None</pre></div></div></div><div class=\"sk-item\"><div class=\"sk-estimator sk-toggleable\"><input class=\"sk-toggleable__control sk-hidden--visually\" id=\"sk-estimator-id-3\" type=\"checkbox\" ><label for=\"sk-estimator-id-3\" class=\"sk-toggleable__label sk-toggleable__label-arrow\">RandomForestClassifier</label><div class=\"sk-toggleable__content\"><pre>RandomForestClassifier()</pre></div></div></div></div></div></div></div>"
      ],
      "text/plain": [
       "Pipeline(steps=[('scale', None), ('model', RandomForestClassifier())])"
      ]
     },
     "execution_count": 34,
     "metadata": {},
     "output_type": "execute_result"
    }
   ],
   "source": [
    "model.fit(X_train, y_train.values.ravel())"
   ]
  },
  {
   "cell_type": "code",
   "execution_count": 35,
   "id": "6e15e313",
   "metadata": {
    "execution": {
     "iopub.execute_input": "2025-08-19T19:10:22.195396Z",
     "iopub.status.busy": "2025-08-19T19:10:22.193493Z",
     "iopub.status.idle": "2025-08-19T19:10:23.625398Z",
     "shell.execute_reply": "2025-08-19T19:10:23.624332Z"
    },
    "papermill": {
     "duration": 1.475258,
     "end_time": "2025-08-19T19:10:23.626900",
     "exception": false,
     "start_time": "2025-08-19T19:10:22.151642",
     "status": "completed"
    },
    "tags": []
   },
   "outputs": [
    {
     "data": {
      "text/plain": [
       "0.8610076914502285"
      ]
     },
     "execution_count": 35,
     "metadata": {},
     "output_type": "execute_result"
    }
   ],
   "source": [
    "from fairness_multiverse.universe import predict_w_threshold\n",
    "\n",
    "probs_test = model.predict_proba(X_test)\n",
    "\n",
    "'''\n",
    "Below code returns a boolean array (or binary 0/1 array depending on how it’s used) where each element \n",
    "is True if the probability of class 1 is greater than or equal to the threshold, and False otherwise.\n",
    "'''\n",
    "y_pred_default = predict_w_threshold(probs_test, 0.5)\n",
    "\n",
    "from sklearn.metrics import accuracy_score\n",
    "\n",
    "# Naive prediction\n",
    "accuracy_score(y_true = y_true, y_pred = y_pred_default)"
   ]
  },
  {
   "cell_type": "code",
   "execution_count": 36,
   "id": "6f14067c",
   "metadata": {
    "execution": {
     "iopub.execute_input": "2025-08-19T19:10:23.653062Z",
     "iopub.status.busy": "2025-08-19T19:10:23.652568Z",
     "iopub.status.idle": "2025-08-19T19:10:25.115950Z",
     "shell.execute_reply": "2025-08-19T19:10:25.114772Z"
    },
    "papermill": {
     "duration": 1.477644,
     "end_time": "2025-08-19T19:10:25.117715",
     "exception": false,
     "start_time": "2025-08-19T19:10:23.640071",
     "status": "completed"
    },
    "tags": []
   },
   "outputs": [
    {
     "data": {
      "text/plain": [
       "array([0, 0, 0, ..., 0, 0, 0])"
      ]
     },
     "execution_count": 36,
     "metadata": {},
     "output_type": "execute_result"
    }
   ],
   "source": [
    "model.predict(X_test)"
   ]
  },
  {
   "cell_type": "markdown",
   "id": "3759920c",
   "metadata": {
    "papermill": {
     "duration": 0.011005,
     "end_time": "2025-08-19T19:10:25.144132",
     "exception": false,
     "start_time": "2025-08-19T19:10:25.133127",
     "status": "completed"
    },
    "tags": []
   },
   "source": [
    "# Conformal Prediction"
   ]
  },
  {
   "cell_type": "code",
   "execution_count": 37,
   "id": "14b27f59",
   "metadata": {
    "execution": {
     "iopub.execute_input": "2025-08-19T19:10:25.169590Z",
     "iopub.status.busy": "2025-08-19T19:10:25.168326Z",
     "iopub.status.idle": "2025-08-19T19:10:25.177182Z",
     "shell.execute_reply": "2025-08-19T19:10:25.175950Z"
    },
    "papermill": {
     "duration": 0.023944,
     "end_time": "2025-08-19T19:10:25.179053",
     "exception": false,
     "start_time": "2025-08-19T19:10:25.155109",
     "status": "completed"
    },
    "tags": []
   },
   "outputs": [],
   "source": [
    "# Miscoverage level for conformal prediction (10% allowed error rate => 90% target coverage)\n",
    "alpha = 0.1"
   ]
  },
  {
   "cell_type": "code",
   "execution_count": 38,
   "id": "59102472",
   "metadata": {
    "execution": {
     "iopub.execute_input": "2025-08-19T19:10:25.205484Z",
     "iopub.status.busy": "2025-08-19T19:10:25.204517Z",
     "iopub.status.idle": "2025-08-19T19:10:26.554595Z",
     "shell.execute_reply": "2025-08-19T19:10:26.553144Z"
    },
    "papermill": {
     "duration": 1.364227,
     "end_time": "2025-08-19T19:10:26.556241",
     "exception": false,
     "start_time": "2025-08-19T19:10:25.192014",
     "status": "completed"
    },
    "tags": []
   },
   "outputs": [],
   "source": [
    "probs_calib = model.predict_proba(X_calib)"
   ]
  },
  {
   "cell_type": "code",
   "execution_count": 39,
   "id": "a792d4dd",
   "metadata": {
    "execution": {
     "iopub.execute_input": "2025-08-19T19:10:26.586438Z",
     "iopub.status.busy": "2025-08-19T19:10:26.585953Z",
     "iopub.status.idle": "2025-08-19T19:10:26.591563Z",
     "shell.execute_reply": "2025-08-19T19:10:26.590864Z"
    },
    "papermill": {
     "duration": 0.0242,
     "end_time": "2025-08-19T19:10:26.593015",
     "exception": false,
     "start_time": "2025-08-19T19:10:26.568815",
     "status": "completed"
    },
    "tags": []
   },
   "outputs": [],
   "source": [
    "y_calib = y_calib.values.ravel().astype(int)"
   ]
  },
  {
   "cell_type": "code",
   "execution_count": 40,
   "id": "650fd033",
   "metadata": {
    "execution": {
     "iopub.execute_input": "2025-08-19T19:10:26.623340Z",
     "iopub.status.busy": "2025-08-19T19:10:26.622764Z",
     "iopub.status.idle": "2025-08-19T19:10:26.634369Z",
     "shell.execute_reply": "2025-08-19T19:10:26.632989Z"
    },
    "papermill": {
     "duration": 0.025684,
     "end_time": "2025-08-19T19:10:26.636133",
     "exception": false,
     "start_time": "2025-08-19T19:10:26.610449",
     "status": "completed"
    },
    "tags": []
   },
   "outputs": [],
   "source": [
    "from fairness_multiverse.conformal import compute_nc_scores\n",
    "\n",
    "# Compute nonconformity scores on calibration set (1 - probability of true class)\n",
    "nc_scores = compute_nc_scores(probs_calib, y_calib)"
   ]
  },
  {
   "cell_type": "code",
   "execution_count": 41,
   "id": "28ada44c",
   "metadata": {
    "execution": {
     "iopub.execute_input": "2025-08-19T19:10:26.663244Z",
     "iopub.status.busy": "2025-08-19T19:10:26.662218Z",
     "iopub.status.idle": "2025-08-19T19:10:26.674588Z",
     "shell.execute_reply": "2025-08-19T19:10:26.672904Z"
    },
    "papermill": {
     "duration": 0.027016,
     "end_time": "2025-08-19T19:10:26.676595",
     "exception": false,
     "start_time": "2025-08-19T19:10:26.649579",
     "status": "completed"
    },
    "tags": []
   },
   "outputs": [],
   "source": [
    "from fairness_multiverse.conformal import find_threshold\n",
    "\n",
    "# Find conformal threshold q_hat for the given alpha (split conformal method)\n",
    "q_hat = find_threshold(nc_scores, alpha)"
   ]
  },
  {
   "cell_type": "code",
   "execution_count": 42,
   "id": "df56469e",
   "metadata": {
    "execution": {
     "iopub.execute_input": "2025-08-19T19:10:26.718457Z",
     "iopub.status.busy": "2025-08-19T19:10:26.718007Z",
     "iopub.status.idle": "2025-08-19T19:10:26.724208Z",
     "shell.execute_reply": "2025-08-19T19:10:26.723522Z"
    },
    "papermill": {
     "duration": 0.039188,
     "end_time": "2025-08-19T19:10:26.728665",
     "exception": false,
     "start_time": "2025-08-19T19:10:26.689477",
     "status": "completed"
    },
    "tags": []
   },
   "outputs": [
    {
     "data": {
      "text/plain": [
       "0.65"
      ]
     },
     "execution_count": 42,
     "metadata": {},
     "output_type": "execute_result"
    }
   ],
   "source": [
    "q_hat"
   ]
  },
  {
   "cell_type": "code",
   "execution_count": 43,
   "id": "aa1f5faa",
   "metadata": {
    "execution": {
     "iopub.execute_input": "2025-08-19T19:10:26.768846Z",
     "iopub.status.busy": "2025-08-19T19:10:26.767765Z",
     "iopub.status.idle": "2025-08-19T19:10:28.612287Z",
     "shell.execute_reply": "2025-08-19T19:10:28.611101Z"
    },
    "papermill": {
     "duration": 1.860599,
     "end_time": "2025-08-19T19:10:28.613939",
     "exception": false,
     "start_time": "2025-08-19T19:10:26.753340",
     "status": "completed"
    },
    "tags": []
   },
   "outputs": [],
   "source": [
    "from fairness_multiverse.conformal import predict_conformal_sets\n",
    "\n",
    "# Generate prediction sets for each test example\n",
    "pred_sets = predict_conformal_sets(model, X_test, q_hat)"
   ]
  },
  {
   "cell_type": "code",
   "execution_count": 44,
   "id": "97f67a6b",
   "metadata": {
    "execution": {
     "iopub.execute_input": "2025-08-19T19:10:28.657772Z",
     "iopub.status.busy": "2025-08-19T19:10:28.655644Z",
     "iopub.status.idle": "2025-08-19T19:10:28.670485Z",
     "shell.execute_reply": "2025-08-19T19:10:28.669262Z"
    },
    "papermill": {
     "duration": 0.032047,
     "end_time": "2025-08-19T19:10:28.673196",
     "exception": false,
     "start_time": "2025-08-19T19:10:28.641149",
     "status": "completed"
    },
    "tags": []
   },
   "outputs": [],
   "source": [
    "y_true = y_true.squeeze()"
   ]
  },
  {
   "cell_type": "code",
   "execution_count": 45,
   "id": "e700e9a7",
   "metadata": {
    "execution": {
     "iopub.execute_input": "2025-08-19T19:10:28.704284Z",
     "iopub.status.busy": "2025-08-19T19:10:28.703843Z",
     "iopub.status.idle": "2025-08-19T19:10:29.192410Z",
     "shell.execute_reply": "2025-08-19T19:10:29.191599Z"
    },
    "papermill": {
     "duration": 0.503387,
     "end_time": "2025-08-19T19:10:29.193996",
     "exception": false,
     "start_time": "2025-08-19T19:10:28.690609",
     "status": "completed"
    },
    "tags": []
   },
   "outputs": [],
   "source": [
    "from fairness_multiverse.conformal import evaluate_sets\n",
    "\n",
    "# Evaluate coverage and average set size on test data\n",
    "metrics = evaluate_sets(pred_sets, y_true)"
   ]
  },
  {
   "cell_type": "markdown",
   "id": "efbacec0",
   "metadata": {
    "papermill": {
     "duration": 0.019149,
     "end_time": "2025-08-19T19:10:29.226915",
     "exception": false,
     "start_time": "2025-08-19T19:10:29.207766",
     "status": "completed"
    },
    "tags": []
   },
   "source": [
    "# CP Metrics"
   ]
  },
  {
   "cell_type": "code",
   "execution_count": 46,
   "id": "9de55fb1",
   "metadata": {
    "execution": {
     "iopub.execute_input": "2025-08-19T19:10:29.253796Z",
     "iopub.status.busy": "2025-08-19T19:10:29.253467Z",
     "iopub.status.idle": "2025-08-19T19:10:29.259135Z",
     "shell.execute_reply": "2025-08-19T19:10:29.258540Z"
    },
    "papermill": {
     "duration": 0.020316,
     "end_time": "2025-08-19T19:10:29.260361",
     "exception": false,
     "start_time": "2025-08-19T19:10:29.240045",
     "status": "completed"
    },
    "tags": []
   },
   "outputs": [
    {
     "data": {
      "text/plain": [
       "{'coverage': 0.9138557574406421, 'avg_size': 1.149202987403857}"
      ]
     },
     "execution_count": 46,
     "metadata": {},
     "output_type": "execute_result"
    }
   ],
   "source": [
    "metrics"
   ]
  },
  {
   "cell_type": "code",
   "execution_count": 47,
   "id": "64c340a1",
   "metadata": {
    "execution": {
     "iopub.execute_input": "2025-08-19T19:10:29.307828Z",
     "iopub.status.busy": "2025-08-19T19:10:29.307411Z",
     "iopub.status.idle": "2025-08-19T19:10:29.312758Z",
     "shell.execute_reply": "2025-08-19T19:10:29.312102Z"
    },
    "papermill": {
     "duration": 0.02809,
     "end_time": "2025-08-19T19:10:29.314811",
     "exception": false,
     "start_time": "2025-08-19T19:10:29.286721",
     "status": "completed"
    },
    "tags": []
   },
   "outputs": [],
   "source": [
    "example_universe = universe.copy()\n",
    "universe_training_year = example_universe.get(\"training_year\")\n",
    "universe_training_size = example_universe.get(\"training_size\")\n",
    "universe_scale = example_universe.get(\"scale\")\n",
    "universe_model = example_universe.get(\"model\")\n",
    "universe_exclude_features = example_universe.get(\"exclude_features\")\n",
    "universe_exclude_subgroups = example_universe.get(\"exclude_subgroups\")"
   ]
  },
  {
   "cell_type": "code",
   "execution_count": 48,
   "id": "dbb53cb4",
   "metadata": {
    "execution": {
     "iopub.execute_input": "2025-08-19T19:10:29.340925Z",
     "iopub.status.busy": "2025-08-19T19:10:29.340505Z",
     "iopub.status.idle": "2025-08-19T19:10:29.345623Z",
     "shell.execute_reply": "2025-08-19T19:10:29.344780Z"
    },
    "papermill": {
     "duration": 0.01958,
     "end_time": "2025-08-19T19:10:29.347219",
     "exception": false,
     "start_time": "2025-08-19T19:10:29.327639",
     "status": "completed"
    },
    "tags": []
   },
   "outputs": [],
   "source": [
    "cp_metrics_dict = {\n",
    "    \"universe_id\": [universe_id],\n",
    "    \"universe_training_year\": [universe_training_year],\n",
    "    \"universe_training_size\": [universe_training_size],\n",
    "    \"universe_scale\": [universe_scale],\n",
    "    \"universe_model\": [universe_model],\n",
    "    \"universe_exclude_features\": [universe_exclude_features],\n",
    "    \"universe_exclude_subgroups\": [universe_exclude_subgroups],\n",
    "    \"q_hat\": [q_hat],\n",
    "    \"coverage\": [metrics[\"coverage\"]],\n",
    "    \"avg_size\": [metrics[\"avg_size\"]],\n",
    "}"
   ]
  },
  {
   "cell_type": "code",
   "execution_count": 49,
   "id": "0d70d4b2",
   "metadata": {
    "execution": {
     "iopub.execute_input": "2025-08-19T19:10:29.373153Z",
     "iopub.status.busy": "2025-08-19T19:10:29.372733Z",
     "iopub.status.idle": "2025-08-19T19:10:29.378272Z",
     "shell.execute_reply": "2025-08-19T19:10:29.377658Z"
    },
    "papermill": {
     "duration": 0.02101,
     "end_time": "2025-08-19T19:10:29.380870",
     "exception": false,
     "start_time": "2025-08-19T19:10:29.359860",
     "status": "completed"
    },
    "tags": []
   },
   "outputs": [],
   "source": [
    "cp_metrics_df = pd.DataFrame(cp_metrics_dict)"
   ]
  },
  {
   "cell_type": "code",
   "execution_count": 50,
   "id": "b494403c",
   "metadata": {
    "execution": {
     "iopub.execute_input": "2025-08-19T19:10:29.422548Z",
     "iopub.status.busy": "2025-08-19T19:10:29.421481Z",
     "iopub.status.idle": "2025-08-19T19:10:29.445694Z",
     "shell.execute_reply": "2025-08-19T19:10:29.444892Z"
    },
    "papermill": {
     "duration": 0.040482,
     "end_time": "2025-08-19T19:10:29.447376",
     "exception": false,
     "start_time": "2025-08-19T19:10:29.406894",
     "status": "completed"
    },
    "tags": []
   },
   "outputs": [
    {
     "data": {
      "text/html": [
       "<div>\n",
       "<style scoped>\n",
       "    .dataframe tbody tr th:only-of-type {\n",
       "        vertical-align: middle;\n",
       "    }\n",
       "\n",
       "    .dataframe tbody tr th {\n",
       "        vertical-align: top;\n",
       "    }\n",
       "\n",
       "    .dataframe thead th {\n",
       "        text-align: right;\n",
       "    }\n",
       "</style>\n",
       "<table border=\"1\" class=\"dataframe\">\n",
       "  <thead>\n",
       "    <tr style=\"text-align: right;\">\n",
       "      <th></th>\n",
       "      <th>universe_id</th>\n",
       "      <th>universe_training_year</th>\n",
       "      <th>universe_training_size</th>\n",
       "      <th>universe_scale</th>\n",
       "      <th>universe_model</th>\n",
       "      <th>universe_exclude_features</th>\n",
       "      <th>universe_exclude_subgroups</th>\n",
       "      <th>q_hat</th>\n",
       "      <th>coverage</th>\n",
       "      <th>avg_size</th>\n",
       "    </tr>\n",
       "  </thead>\n",
       "  <tbody>\n",
       "    <tr>\n",
       "      <th>0</th>\n",
       "      <td>86237b3126b690111b2e8f67d423286b</td>\n",
       "      <td>2010_14</td>\n",
       "      <td>1k</td>\n",
       "      <td>do-not-scale</td>\n",
       "      <td>rf</td>\n",
       "      <td>none</td>\n",
       "      <td>keep-all</td>\n",
       "      <td>0.65</td>\n",
       "      <td>0.913856</td>\n",
       "      <td>1.149203</td>\n",
       "    </tr>\n",
       "  </tbody>\n",
       "</table>\n",
       "</div>"
      ],
      "text/plain": [
       "                        universe_id universe_training_year  \\\n",
       "0  86237b3126b690111b2e8f67d423286b                2010_14   \n",
       "\n",
       "  universe_training_size universe_scale universe_model  \\\n",
       "0                     1k   do-not-scale             rf   \n",
       "\n",
       "  universe_exclude_features universe_exclude_subgroups  q_hat  coverage  \\\n",
       "0                      none                   keep-all   0.65  0.913856   \n",
       "\n",
       "   avg_size  \n",
       "0  1.149203  "
      ]
     },
     "execution_count": 50,
     "metadata": {},
     "output_type": "execute_result"
    }
   ],
   "source": [
    "cp_metrics_df"
   ]
  },
  {
   "cell_type": "markdown",
   "id": "ed608b0b",
   "metadata": {
    "papermill": {
     "duration": 0.011931,
     "end_time": "2025-08-19T19:10:29.477848",
     "exception": false,
     "start_time": "2025-08-19T19:10:29.465917",
     "status": "completed"
    },
    "tags": []
   },
   "source": [
    "Conditional coverage & looking at subgroups"
   ]
  },
  {
   "cell_type": "code",
   "execution_count": 51,
   "id": "8968c366",
   "metadata": {
    "execution": {
     "iopub.execute_input": "2025-08-19T19:10:29.516000Z",
     "iopub.status.busy": "2025-08-19T19:10:29.504248Z",
     "iopub.status.idle": "2025-08-19T19:10:29.785131Z",
     "shell.execute_reply": "2025-08-19T19:10:29.784386Z"
    },
    "papermill": {
     "duration": 0.296044,
     "end_time": "2025-08-19T19:10:29.787086",
     "exception": false,
     "start_time": "2025-08-19T19:10:29.491042",
     "status": "completed"
    },
    "tags": []
   },
   "outputs": [],
   "source": [
    "from fairness_multiverse.conformal import build_cp_groups\n",
    "\n",
    "cp_groups_df = build_cp_groups(pred_sets, y_true, X_test.index, org_test)"
   ]
  },
  {
   "cell_type": "code",
   "execution_count": 52,
   "id": "292ddabf",
   "metadata": {
    "execution": {
     "iopub.execute_input": "2025-08-19T19:10:29.840530Z",
     "iopub.status.busy": "2025-08-19T19:10:29.839468Z",
     "iopub.status.idle": "2025-08-19T19:10:30.688187Z",
     "shell.execute_reply": "2025-08-19T19:10:30.687041Z"
    },
    "papermill": {
     "duration": 0.87948,
     "end_time": "2025-08-19T19:10:30.690986",
     "exception": false,
     "start_time": "2025-08-19T19:10:29.811506",
     "status": "completed"
    },
    "tags": []
   },
   "outputs": [],
   "source": [
    "# Define covered = 1 if true_label is in the predicted set\n",
    "cp_groups_df['covered'] = cp_groups_df.apply(\n",
    "    lambda r: int(r['true_label'] in r['pred_set']),\n",
    "    axis=1\n",
    ")"
   ]
  },
  {
   "cell_type": "code",
   "execution_count": 53,
   "id": "3a261692",
   "metadata": {
    "execution": {
     "iopub.execute_input": "2025-08-19T19:10:30.735522Z",
     "iopub.status.busy": "2025-08-19T19:10:30.734293Z",
     "iopub.status.idle": "2025-08-19T19:10:30.759778Z",
     "shell.execute_reply": "2025-08-19T19:10:30.758904Z"
    },
    "papermill": {
     "duration": 0.043546,
     "end_time": "2025-08-19T19:10:30.761943",
     "exception": false,
     "start_time": "2025-08-19T19:10:30.718397",
     "status": "completed"
    },
    "tags": []
   },
   "outputs": [],
   "source": [
    "subgroups = ['frau1','nongerman','nongerman_male','nongerman_female']\n",
    "\n",
    "# Conditional coverage for subgroup==1\n",
    "cond_coverage = {\n",
    "    g: cp_groups_df.loc[cp_groups_df[g]==1, 'covered'].mean()\n",
    "    for g in subgroups\n",
    "}"
   ]
  },
  {
   "cell_type": "code",
   "execution_count": 54,
   "id": "894fd600",
   "metadata": {
    "execution": {
     "iopub.execute_input": "2025-08-19T19:10:30.799582Z",
     "iopub.status.busy": "2025-08-19T19:10:30.798026Z",
     "iopub.status.idle": "2025-08-19T19:10:30.811345Z",
     "shell.execute_reply": "2025-08-19T19:10:30.809661Z"
    },
    "papermill": {
     "duration": 0.030385,
     "end_time": "2025-08-19T19:10:30.813318",
     "exception": false,
     "start_time": "2025-08-19T19:10:30.782933",
     "status": "completed"
    },
    "tags": []
   },
   "outputs": [
    {
     "data": {
      "text/plain": [
       "{'frau1': 0.9127106078986387,\n",
       " 'nongerman': 0.9087744905406164,\n",
       " 'nongerman_male': 0.9244348374313248,\n",
       " 'nongerman_female': 0.8828614008941877}"
      ]
     },
     "execution_count": 54,
     "metadata": {},
     "output_type": "execute_result"
    }
   ],
   "source": [
    "cond_coverage"
   ]
  },
  {
   "cell_type": "code",
   "execution_count": 55,
   "id": "942895c7",
   "metadata": {
    "execution": {
     "iopub.execute_input": "2025-08-19T19:10:30.845692Z",
     "iopub.status.busy": "2025-08-19T19:10:30.844263Z",
     "iopub.status.idle": "2025-08-19T19:10:30.857755Z",
     "shell.execute_reply": "2025-08-19T19:10:30.855967Z"
    },
    "papermill": {
     "duration": 0.029236,
     "end_time": "2025-08-19T19:10:30.859548",
     "exception": false,
     "start_time": "2025-08-19T19:10:30.830312",
     "status": "completed"
    },
    "tags": []
   },
   "outputs": [],
   "source": [
    "for subgroup, cov in cond_coverage.items():\n",
    "    cp_metrics_df[f\"cov_{subgroup}\"] = cov"
   ]
  },
  {
   "cell_type": "code",
   "execution_count": 56,
   "id": "3970120f",
   "metadata": {
    "execution": {
     "iopub.execute_input": "2025-08-19T19:10:30.892256Z",
     "iopub.status.busy": "2025-08-19T19:10:30.890950Z",
     "iopub.status.idle": "2025-08-19T19:10:30.917798Z",
     "shell.execute_reply": "2025-08-19T19:10:30.916387Z"
    },
    "papermill": {
     "duration": 0.04368,
     "end_time": "2025-08-19T19:10:30.920200",
     "exception": false,
     "start_time": "2025-08-19T19:10:30.876520",
     "status": "completed"
    },
    "tags": []
   },
   "outputs": [
    {
     "data": {
      "text/html": [
       "<div>\n",
       "<style scoped>\n",
       "    .dataframe tbody tr th:only-of-type {\n",
       "        vertical-align: middle;\n",
       "    }\n",
       "\n",
       "    .dataframe tbody tr th {\n",
       "        vertical-align: top;\n",
       "    }\n",
       "\n",
       "    .dataframe thead th {\n",
       "        text-align: right;\n",
       "    }\n",
       "</style>\n",
       "<table border=\"1\" class=\"dataframe\">\n",
       "  <thead>\n",
       "    <tr style=\"text-align: right;\">\n",
       "      <th></th>\n",
       "      <th>universe_id</th>\n",
       "      <th>universe_training_year</th>\n",
       "      <th>universe_training_size</th>\n",
       "      <th>universe_scale</th>\n",
       "      <th>universe_model</th>\n",
       "      <th>universe_exclude_features</th>\n",
       "      <th>universe_exclude_subgroups</th>\n",
       "      <th>q_hat</th>\n",
       "      <th>coverage</th>\n",
       "      <th>avg_size</th>\n",
       "      <th>cov_frau1</th>\n",
       "      <th>cov_nongerman</th>\n",
       "      <th>cov_nongerman_male</th>\n",
       "      <th>cov_nongerman_female</th>\n",
       "    </tr>\n",
       "  </thead>\n",
       "  <tbody>\n",
       "    <tr>\n",
       "      <th>0</th>\n",
       "      <td>86237b3126b690111b2e8f67d423286b</td>\n",
       "      <td>2010_14</td>\n",
       "      <td>1k</td>\n",
       "      <td>do-not-scale</td>\n",
       "      <td>rf</td>\n",
       "      <td>none</td>\n",
       "      <td>keep-all</td>\n",
       "      <td>0.65</td>\n",
       "      <td>0.913856</td>\n",
       "      <td>1.149203</td>\n",
       "      <td>0.912711</td>\n",
       "      <td>0.908774</td>\n",
       "      <td>0.924435</td>\n",
       "      <td>0.882861</td>\n",
       "    </tr>\n",
       "  </tbody>\n",
       "</table>\n",
       "</div>"
      ],
      "text/plain": [
       "                        universe_id universe_training_year  \\\n",
       "0  86237b3126b690111b2e8f67d423286b                2010_14   \n",
       "\n",
       "  universe_training_size universe_scale universe_model  \\\n",
       "0                     1k   do-not-scale             rf   \n",
       "\n",
       "  universe_exclude_features universe_exclude_subgroups  q_hat  coverage  \\\n",
       "0                      none                   keep-all   0.65  0.913856   \n",
       "\n",
       "   avg_size  cov_frau1  cov_nongerman  cov_nongerman_male  \\\n",
       "0  1.149203   0.912711       0.908774            0.924435   \n",
       "\n",
       "   cov_nongerman_female  \n",
       "0              0.882861  "
      ]
     },
     "execution_count": 56,
     "metadata": {},
     "output_type": "execute_result"
    }
   ],
   "source": [
    "cp_metrics_df"
   ]
  },
  {
   "cell_type": "markdown",
   "id": "3fc519cc",
   "metadata": {
    "papermill": {
     "duration": 0.013278,
     "end_time": "2025-08-19T19:10:30.957227",
     "exception": false,
     "start_time": "2025-08-19T19:10:30.943949",
     "status": "completed"
    },
    "tags": []
   },
   "source": [
    "# (Fairness) Metrics"
   ]
  },
  {
   "cell_type": "code",
   "execution_count": 57,
   "id": "a2e5e155",
   "metadata": {
    "execution": {
     "iopub.execute_input": "2025-08-19T19:10:30.985102Z",
     "iopub.status.busy": "2025-08-19T19:10:30.983903Z",
     "iopub.status.idle": "2025-08-19T19:10:31.012385Z",
     "shell.execute_reply": "2025-08-19T19:10:31.010822Z"
    },
    "papermill": {
     "duration": 0.045901,
     "end_time": "2025-08-19T19:10:31.015511",
     "exception": false,
     "start_time": "2025-08-19T19:10:30.969610",
     "status": "completed"
    },
    "tags": []
   },
   "outputs": [],
   "source": [
    "colname_to_bin = \"maxdeutsch1\"\n",
    "majority_value = org_train[colname_to_bin].mode()[0]\n",
    "\n",
    "org_test[\"majmin\"] = np.where(org_test[colname_to_bin] == majority_value, \"majority\", \"minority\")"
   ]
  },
  {
   "cell_type": "code",
   "execution_count": 58,
   "id": "17e3e4d5",
   "metadata": {
    "execution": {
     "iopub.execute_input": "2025-08-19T19:10:31.053292Z",
     "iopub.status.busy": "2025-08-19T19:10:31.052794Z",
     "iopub.status.idle": "2025-08-19T19:10:32.877403Z",
     "shell.execute_reply": "2025-08-19T19:10:32.874916Z"
    },
    "papermill": {
     "duration": 1.842789,
     "end_time": "2025-08-19T19:10:32.880900",
     "exception": false,
     "start_time": "2025-08-19T19:10:31.038111",
     "status": "completed"
    },
    "tags": []
   },
   "outputs": [],
   "source": [
    "example_universe = universe.copy()\n",
    "example_universe[\"cutoff\"] = example_universe[\"cutoff\"][0]\n",
    "example_universe[\"eval_fairness_grouping\"] = example_universe[\"eval_fairness_grouping\"][0]\n",
    "fairness_dict, metric_frame = universe_analysis.compute_metrics(\n",
    "    example_universe,\n",
    "    y_pred_prob=probs_test,\n",
    "    y_test=y_true,\n",
    "    org_test=org_test,\n",
    ")"
   ]
  },
  {
   "cell_type": "markdown",
   "id": "1fb7a0e9",
   "metadata": {
    "papermill": {
     "duration": 0.020096,
     "end_time": "2025-08-19T19:10:32.920658",
     "exception": false,
     "start_time": "2025-08-19T19:10:32.900562",
     "status": "completed"
    },
    "tags": []
   },
   "source": [
    "# Overall"
   ]
  },
  {
   "cell_type": "markdown",
   "id": "be1784b1",
   "metadata": {
    "papermill": {
     "duration": 0.012478,
     "end_time": "2025-08-19T19:10:32.951079",
     "exception": false,
     "start_time": "2025-08-19T19:10:32.938601",
     "status": "completed"
    },
    "tags": []
   },
   "source": [
    "Main fairness target: Equalized Odds. Seems to be a better fit than equal opportunity, since we're not only interested in Y = 1. Seems to be a better fit than demographic parity, since we also care about accuracy, not just equal distribution of preds.\n",
    "\n",
    "Pick column for computation of fairness metrics\n",
    "\n",
    "Performance\n",
    "Overall performance measures, most interesting in relation to the measures split by group below"
   ]
  },
  {
   "cell_type": "code",
   "execution_count": 59,
   "id": "b7672bee",
   "metadata": {
    "execution": {
     "iopub.execute_input": "2025-08-19T19:10:32.997345Z",
     "iopub.status.busy": "2025-08-19T19:10:32.994197Z",
     "iopub.status.idle": "2025-08-19T19:10:33.019893Z",
     "shell.execute_reply": "2025-08-19T19:10:33.018319Z"
    },
    "papermill": {
     "duration": 0.052309,
     "end_time": "2025-08-19T19:10:33.022064",
     "exception": false,
     "start_time": "2025-08-19T19:10:32.969755",
     "status": "completed"
    },
    "tags": []
   },
   "outputs": [
    {
     "data": {
      "text/plain": [
       "accuracy                   0.203288\n",
       "balanced accuracy          0.532129\n",
       "f1                         0.238847\n",
       "precision                  0.136104\n",
       "false positive rate        0.910194\n",
       "false negative rate        0.025547\n",
       "selection rate             0.918437\n",
       "count                  89710.000000\n",
       "dtype: float64"
      ]
     },
     "execution_count": 59,
     "metadata": {},
     "output_type": "execute_result"
    }
   ],
   "source": [
    "metric_frame.overall"
   ]
  },
  {
   "cell_type": "markdown",
   "id": "d93333c9",
   "metadata": {
    "papermill": {
     "duration": 0.012852,
     "end_time": "2025-08-19T19:10:33.049824",
     "exception": false,
     "start_time": "2025-08-19T19:10:33.036972",
     "status": "completed"
    },
    "tags": []
   },
   "source": [
    "By Group"
   ]
  },
  {
   "cell_type": "code",
   "execution_count": 60,
   "id": "52256966",
   "metadata": {
    "execution": {
     "iopub.execute_input": "2025-08-19T19:10:33.079156Z",
     "iopub.status.busy": "2025-08-19T19:10:33.078331Z",
     "iopub.status.idle": "2025-08-19T19:10:33.107507Z",
     "shell.execute_reply": "2025-08-19T19:10:33.106587Z"
    },
    "papermill": {
     "duration": 0.046247,
     "end_time": "2025-08-19T19:10:33.109386",
     "exception": false,
     "start_time": "2025-08-19T19:10:33.063139",
     "status": "completed"
    },
    "tags": []
   },
   "outputs": [
    {
     "data": {
      "text/html": [
       "<div>\n",
       "<style scoped>\n",
       "    .dataframe tbody tr th:only-of-type {\n",
       "        vertical-align: middle;\n",
       "    }\n",
       "\n",
       "    .dataframe tbody tr th {\n",
       "        vertical-align: top;\n",
       "    }\n",
       "\n",
       "    .dataframe thead th {\n",
       "        text-align: right;\n",
       "    }\n",
       "</style>\n",
       "<table border=\"1\" class=\"dataframe\">\n",
       "  <thead>\n",
       "    <tr style=\"text-align: right;\">\n",
       "      <th></th>\n",
       "      <th>accuracy</th>\n",
       "      <th>balanced accuracy</th>\n",
       "      <th>f1</th>\n",
       "      <th>precision</th>\n",
       "      <th>false positive rate</th>\n",
       "      <th>false negative rate</th>\n",
       "      <th>selection rate</th>\n",
       "      <th>count</th>\n",
       "    </tr>\n",
       "    <tr>\n",
       "      <th>majmin</th>\n",
       "      <th></th>\n",
       "      <th></th>\n",
       "      <th></th>\n",
       "      <th></th>\n",
       "      <th></th>\n",
       "      <th></th>\n",
       "      <th></th>\n",
       "      <th></th>\n",
       "    </tr>\n",
       "  </thead>\n",
       "  <tbody>\n",
       "    <tr>\n",
       "      <th>majority</th>\n",
       "      <td>0.195634</td>\n",
       "      <td>0.532454</td>\n",
       "      <td>0.245484</td>\n",
       "      <td>0.140108</td>\n",
       "      <td>0.925354</td>\n",
       "      <td>0.009737</td>\n",
       "      <td>0.933931</td>\n",
       "      <td>69170.0</td>\n",
       "    </tr>\n",
       "    <tr>\n",
       "      <th>minority</th>\n",
       "      <td>0.229065</td>\n",
       "      <td>0.526657</td>\n",
       "      <td>0.214573</td>\n",
       "      <td>0.121565</td>\n",
       "      <td>0.860114</td>\n",
       "      <td>0.086571</td>\n",
       "      <td>0.866261</td>\n",
       "      <td>20540.0</td>\n",
       "    </tr>\n",
       "  </tbody>\n",
       "</table>\n",
       "</div>"
      ],
      "text/plain": [
       "          accuracy  balanced accuracy        f1  precision  \\\n",
       "majmin                                                       \n",
       "majority  0.195634           0.532454  0.245484   0.140108   \n",
       "minority  0.229065           0.526657  0.214573   0.121565   \n",
       "\n",
       "          false positive rate  false negative rate  selection rate    count  \n",
       "majmin                                                                       \n",
       "majority             0.925354             0.009737        0.933931  69170.0  \n",
       "minority             0.860114             0.086571        0.866261  20540.0  "
      ]
     },
     "execution_count": 60,
     "metadata": {},
     "output_type": "execute_result"
    }
   ],
   "source": [
    "metric_frame.by_group"
   ]
  },
  {
   "cell_type": "code",
   "execution_count": 61,
   "id": "6e6c20ae",
   "metadata": {
    "execution": {
     "iopub.execute_input": "2025-08-19T19:10:33.148741Z",
     "iopub.status.busy": "2025-08-19T19:10:33.147908Z",
     "iopub.status.idle": "2025-08-19T19:10:35.295384Z",
     "shell.execute_reply": "2025-08-19T19:10:35.293881Z"
    },
    "papermill": {
     "duration": 2.164445,
     "end_time": "2025-08-19T19:10:35.296710",
     "exception": false,
     "start_time": "2025-08-19T19:10:33.132265",
     "status": "completed"
    },
    "tags": []
   },
   "outputs": [
    {
     "data": {
      "text/plain": [
       "array([[<Axes: title={'center': 'accuracy'}, xlabel='majmin'>,\n",
       "        <Axes: title={'center': 'balanced accuracy'}, xlabel='majmin'>,\n",
       "        <Axes: title={'center': 'f1'}, xlabel='majmin'>],\n",
       "       [<Axes: title={'center': 'precision'}, xlabel='majmin'>,\n",
       "        <Axes: title={'center': 'false positive rate'}, xlabel='majmin'>,\n",
       "        <Axes: title={'center': 'false negative rate'}, xlabel='majmin'>],\n",
       "       [<Axes: title={'center': 'selection rate'}, xlabel='majmin'>,\n",
       "        <Axes: title={'center': 'count'}, xlabel='majmin'>,\n",
       "        <Axes: xlabel='majmin'>]], dtype=object)"
      ]
     },
     "execution_count": 61,
     "metadata": {},
     "output_type": "execute_result"
    },
    {
     "data": {
      "image/png": "[encoded data removed]",
      "text/plain": [
       "<Figure size 1200x800 with 9 Axes>"
      ]
     },
     "metadata": {},
     "output_type": "display_data"
    }
   ],
   "source": [
    "# In a graphic\n",
    "metric_frame.by_group.plot.bar(\n",
    "    subplots=True,\n",
    "    layout=[3, 3],\n",
    "    legend=False,\n",
    "    figsize=[12, 8],\n",
    "    title=\"Show all metrics\",\n",
    ")"
   ]
  },
  {
   "cell_type": "markdown",
   "id": "b2e433ae",
   "metadata": {
    "papermill": {
     "duration": 0.013265,
     "end_time": "2025-08-19T19:10:35.327495",
     "exception": false,
     "start_time": "2025-08-19T19:10:35.314230",
     "status": "completed"
    },
    "tags": []
   },
   "source": [
    "# Final Output"
   ]
  },
  {
   "cell_type": "code",
   "execution_count": 62,
   "id": "3871301e",
   "metadata": {
    "execution": {
     "iopub.execute_input": "2025-08-19T19:10:35.357580Z",
     "iopub.status.busy": "2025-08-19T19:10:35.355990Z",
     "iopub.status.idle": "2025-08-19T19:10:35.371381Z",
     "shell.execute_reply": "2025-08-19T19:10:35.370611Z"
    },
    "papermill": {
     "duration": 0.043126,
     "end_time": "2025-08-19T19:10:35.383783",
     "exception": false,
     "start_time": "2025-08-19T19:10:35.340657",
     "status": "completed"
    },
    "tags": []
   },
   "outputs": [
    {
     "data": {
      "text/plain": [
       "4"
      ]
     },
     "execution_count": 62,
     "metadata": {},
     "output_type": "execute_result"
    }
   ],
   "source": [
    "sub_universes = universe_analysis.generate_sub_universes()\n",
    "len(sub_universes)"
   ]
  },
  {
   "cell_type": "code",
   "execution_count": 63,
   "id": "d9cfdaca",
   "metadata": {
    "execution": {
     "iopub.execute_input": "2025-08-19T19:10:35.423106Z",
     "iopub.status.busy": "2025-08-19T19:10:35.422671Z",
     "iopub.status.idle": "2025-08-19T19:10:35.427637Z",
     "shell.execute_reply": "2025-08-19T19:10:35.426962Z"
    },
    "papermill": {
     "duration": 0.032072,
     "end_time": "2025-08-19T19:10:35.429651",
     "exception": false,
     "start_time": "2025-08-19T19:10:35.397579",
     "status": "completed"
    },
    "tags": []
   },
   "outputs": [],
   "source": [
    "def filter_sub_universe_data(sub_universe, org_test):\n",
    "    # Keep all rows — no filtering\n",
    "    keep_rows_mask = np.ones(org_test.shape[0], dtype=bool)\n",
    "\n",
    "    print(f\"[INFO] Keeping all rows: {keep_rows_mask.sum()} rows retained.\")\n",
    "    return keep_rows_mask"
   ]
  },
  {
   "cell_type": "code",
   "execution_count": 64,
   "id": "2bc31ac1",
   "metadata": {
    "execution": {
     "iopub.execute_input": "2025-08-19T19:10:35.480863Z",
     "iopub.status.busy": "2025-08-19T19:10:35.480433Z",
     "iopub.status.idle": "2025-08-19T19:10:42.279924Z",
     "shell.execute_reply": "2025-08-19T19:10:42.278900Z"
    },
    "papermill": {
     "duration": 6.821523,
     "end_time": "2025-08-19T19:10:42.281234",
     "exception": false,
     "start_time": "2025-08-19T19:10:35.459711",
     "status": "completed"
    },
    "tags": []
   },
   "outputs": [
    {
     "name": "stdout",
     "output_type": "stream",
     "text": [
      "Stopping execution_time clock.\n",
      "[INFO] Keeping all rows: 89710 rows retained.\n"
     ]
    },
    {
     "name": "stdout",
     "output_type": "stream",
     "text": [
      "[INFO] Keeping all rows: 89710 rows retained.\n"
     ]
    },
    {
     "name": "stdout",
     "output_type": "stream",
     "text": [
      "[INFO] Keeping all rows: 89710 rows retained.\n"
     ]
    },
    {
     "name": "stdout",
     "output_type": "stream",
     "text": [
      "[INFO] Keeping all rows: 89710 rows retained.\n"
     ]
    },
    {
     "data": {
      "text/html": [
       "<div>\n",
       "<style scoped>\n",
       "    .dataframe tbody tr th:only-of-type {\n",
       "        vertical-align: middle;\n",
       "    }\n",
       "\n",
       "    .dataframe tbody tr th {\n",
       "        vertical-align: top;\n",
       "    }\n",
       "\n",
       "    .dataframe thead th {\n",
       "        text-align: right;\n",
       "    }\n",
       "</style>\n",
       "<table border=\"1\" class=\"dataframe\">\n",
       "  <thead>\n",
       "    <tr style=\"text-align: right;\">\n",
       "      <th></th>\n",
       "      <th>run_no</th>\n",
       "      <th>universe_id</th>\n",
       "      <th>universe_settings</th>\n",
       "      <th>execution_time</th>\n",
       "      <th>test_size_n</th>\n",
       "      <th>test_size_frac</th>\n",
       "      <th>fair_main_equalized_odds_difference</th>\n",
       "      <th>fair_main_equalized_odds_ratio</th>\n",
       "      <th>fair_main_demographic_parity_difference</th>\n",
       "      <th>fair_main_demographic_parity_ratio</th>\n",
       "      <th>...</th>\n",
       "      <th>perf_grp_precision_0</th>\n",
       "      <th>perf_grp_precision_1</th>\n",
       "      <th>perf_grp_false positive rate_0</th>\n",
       "      <th>perf_grp_false positive rate_1</th>\n",
       "      <th>perf_grp_false negative rate_0</th>\n",
       "      <th>perf_grp_false negative rate_1</th>\n",
       "      <th>perf_grp_selection rate_0</th>\n",
       "      <th>perf_grp_selection rate_1</th>\n",
       "      <th>perf_grp_count_0</th>\n",
       "      <th>perf_grp_count_1</th>\n",
       "    </tr>\n",
       "  </thead>\n",
       "  <tbody>\n",
       "    <tr>\n",
       "      <th>0</th>\n",
       "      <td>3</td>\n",
       "      <td>86237b3126b690111b2e8f67d423286b</td>\n",
       "      <td>{\"cutoff\": \"quantile_0.1\", \"eval_fairness_grou...</td>\n",
       "      <td>27.057032</td>\n",
       "      <td>89710</td>\n",
       "      <td>1.0</td>\n",
       "      <td>0.076834</td>\n",
       "      <td>0.922411</td>\n",
       "      <td>0.067670</td>\n",
       "      <td>0.927543</td>\n",
       "      <td>...</td>\n",
       "      <td>NaN</td>\n",
       "      <td>NaN</td>\n",
       "      <td>NaN</td>\n",
       "      <td>NaN</td>\n",
       "      <td>NaN</td>\n",
       "      <td>NaN</td>\n",
       "      <td>NaN</td>\n",
       "      <td>NaN</td>\n",
       "      <td>NaN</td>\n",
       "      <td>NaN</td>\n",
       "    </tr>\n",
       "    <tr>\n",
       "      <th>0</th>\n",
       "      <td>3</td>\n",
       "      <td>86237b3126b690111b2e8f67d423286b</td>\n",
       "      <td>{\"cutoff\": \"quantile_0.1\", \"eval_fairness_grou...</td>\n",
       "      <td>27.057032</td>\n",
       "      <td>89710</td>\n",
       "      <td>1.0</td>\n",
       "      <td>0.076834</td>\n",
       "      <td>0.922411</td>\n",
       "      <td>0.067670</td>\n",
       "      <td>0.927543</td>\n",
       "      <td>...</td>\n",
       "      <td>0.121565</td>\n",
       "      <td>0.140108</td>\n",
       "      <td>0.860114</td>\n",
       "      <td>0.925354</td>\n",
       "      <td>0.086571</td>\n",
       "      <td>0.009737</td>\n",
       "      <td>0.866261</td>\n",
       "      <td>0.933931</td>\n",
       "      <td>20540.0</td>\n",
       "      <td>69170.0</td>\n",
       "    </tr>\n",
       "    <tr>\n",
       "      <th>0</th>\n",
       "      <td>3</td>\n",
       "      <td>86237b3126b690111b2e8f67d423286b</td>\n",
       "      <td>{\"cutoff\": \"quantile_0.25\", \"eval_fairness_gro...</td>\n",
       "      <td>27.057032</td>\n",
       "      <td>89710</td>\n",
       "      <td>1.0</td>\n",
       "      <td>0.150948</td>\n",
       "      <td>0.841800</td>\n",
       "      <td>0.117438</td>\n",
       "      <td>0.854778</td>\n",
       "      <td>...</td>\n",
       "      <td>NaN</td>\n",
       "      <td>NaN</td>\n",
       "      <td>NaN</td>\n",
       "      <td>NaN</td>\n",
       "      <td>NaN</td>\n",
       "      <td>NaN</td>\n",
       "      <td>NaN</td>\n",
       "      <td>NaN</td>\n",
       "      <td>NaN</td>\n",
       "      <td>NaN</td>\n",
       "    </tr>\n",
       "    <tr>\n",
       "      <th>0</th>\n",
       "      <td>3</td>\n",
       "      <td>86237b3126b690111b2e8f67d423286b</td>\n",
       "      <td>{\"cutoff\": \"quantile_0.25\", \"eval_fairness_gro...</td>\n",
       "      <td>27.057032</td>\n",
       "      <td>89710</td>\n",
       "      <td>1.0</td>\n",
       "      <td>0.150948</td>\n",
       "      <td>0.841800</td>\n",
       "      <td>0.117438</td>\n",
       "      <td>0.854778</td>\n",
       "      <td>...</td>\n",
       "      <td>0.133963</td>\n",
       "      <td>0.155910</td>\n",
       "      <td>0.676645</td>\n",
       "      <td>0.786523</td>\n",
       "      <td>0.196791</td>\n",
       "      <td>0.045842</td>\n",
       "      <td>0.691237</td>\n",
       "      <td>0.808674</td>\n",
       "      <td>20540.0</td>\n",
       "      <td>69170.0</td>\n",
       "    </tr>\n",
       "  </tbody>\n",
       "</table>\n",
       "<p>4 rows × 50 columns</p>\n",
       "</div>"
      ],
      "text/plain": [
       "  run_no                       universe_id  \\\n",
       "0      3  86237b3126b690111b2e8f67d423286b   \n",
       "0      3  86237b3126b690111b2e8f67d423286b   \n",
       "0      3  86237b3126b690111b2e8f67d423286b   \n",
       "0      3  86237b3126b690111b2e8f67d423286b   \n",
       "\n",
       "                                   universe_settings  execution_time  \\\n",
       "0  {\"cutoff\": \"quantile_0.1\", \"eval_fairness_grou...       27.057032   \n",
       "0  {\"cutoff\": \"quantile_0.1\", \"eval_fairness_grou...       27.057032   \n",
       "0  {\"cutoff\": \"quantile_0.25\", \"eval_fairness_gro...       27.057032   \n",
       "0  {\"cutoff\": \"quantile_0.25\", \"eval_fairness_gro...       27.057032   \n",
       "\n",
       "   test_size_n  test_size_frac  fair_main_equalized_odds_difference  \\\n",
       "0        89710             1.0                             0.076834   \n",
       "0        89710             1.0                             0.076834   \n",
       "0        89710             1.0                             0.150948   \n",
       "0        89710             1.0                             0.150948   \n",
       "\n",
       "   fair_main_equalized_odds_ratio  fair_main_demographic_parity_difference  \\\n",
       "0                        0.922411                                 0.067670   \n",
       "0                        0.922411                                 0.067670   \n",
       "0                        0.841800                                 0.117438   \n",
       "0                        0.841800                                 0.117438   \n",
       "\n",
       "   fair_main_demographic_parity_ratio  ...  perf_grp_precision_0  \\\n",
       "0                            0.927543  ...                   NaN   \n",
       "0                            0.927543  ...              0.121565   \n",
       "0                            0.854778  ...                   NaN   \n",
       "0                            0.854778  ...              0.133963   \n",
       "\n",
       "   perf_grp_precision_1  perf_grp_false positive rate_0  \\\n",
       "0                   NaN                             NaN   \n",
       "0              0.140108                        0.860114   \n",
       "0                   NaN                             NaN   \n",
       "0              0.155910                        0.676645   \n",
       "\n",
       "   perf_grp_false positive rate_1  perf_grp_false negative rate_0  \\\n",
       "0                             NaN                             NaN   \n",
       "0                        0.925354                        0.086571   \n",
       "0                             NaN                             NaN   \n",
       "0                        0.786523                        0.196791   \n",
       "\n",
       "   perf_grp_false negative rate_1  perf_grp_selection rate_0  \\\n",
       "0                             NaN                        NaN   \n",
       "0                        0.009737                   0.866261   \n",
       "0                             NaN                        NaN   \n",
       "0                        0.045842                   0.691237   \n",
       "\n",
       "   perf_grp_selection rate_1  perf_grp_count_0  perf_grp_count_1  \n",
       "0                        NaN               NaN               NaN  \n",
       "0                   0.933931           20540.0           69170.0  \n",
       "0                        NaN               NaN               NaN  \n",
       "0                   0.808674           20540.0           69170.0  \n",
       "\n",
       "[4 rows x 50 columns]"
      ]
     },
     "execution_count": 64,
     "metadata": {},
     "output_type": "execute_result"
    }
   ],
   "source": [
    "final_output = universe_analysis.generate_final_output(\n",
    "    y_pred_prob=probs_test,\n",
    "    y_test=y_true,\n",
    "    org_test=org_test,\n",
    "    filter_data=filter_sub_universe_data,\n",
    "    cp_metrics_df=cp_metrics_df,\n",
    "    save=True,\n",
    ")\n",
    "final_output"
   ]
  },
  {
   "cell_type": "code",
   "execution_count": null,
   "id": "8b80a1ff",
   "metadata": {
    "papermill": {
     "duration": 0.015118,
     "end_time": "2025-08-19T19:10:42.313569",
     "exception": false,
     "start_time": "2025-08-19T19:10:42.298451",
     "status": "completed"
    },
    "tags": []
   },
   "outputs": [],
   "source": []
  },
  {
   "cell_type": "code",
   "execution_count": null,
   "id": "275c9fad",
   "metadata": {
    "papermill": {
     "duration": 0.014079,
     "end_time": "2025-08-19T19:10:42.342080",
     "exception": false,
     "start_time": "2025-08-19T19:10:42.328001",
     "status": "completed"
    },
    "tags": []
   },
   "outputs": [],
   "source": []
  }
 ],
 "metadata": {
  "celltoolbar": "Tags",
  "kernelspec": {
   "display_name": "Python (CMA Fairness)",
   "language": "python",
   "name": "cma_fair_env"
  },
  "language_info": {
   "codemirror_mode": {
    "name": "ipython",
    "version": 3
   },
   "file_extension": ".py",
   "mimetype": "text/x-python",
   "name": "python",
   "nbconvert_exporter": "python",
   "pygments_lexer": "ipython3",
   "version": "3.10.12"
  },
  "papermill": {
   "default_parameters": {},
   "duration": 37.721492,
   "end_time": "2025-08-19T19:10:43.180825",
   "environment_variables": {},
   "exception": null,
   "input_path": "universe_analysis.ipynb",
   "output_path": "output/runs/3/notebooks/m_3-86237b3126b690111b2e8f67d423286b.ipynb",
   "parameters": {
    "output_dir": "output",
    "run_no": "3",
    "seed": "2023",
    "universe": "{\"cutoff\": [\"quantile_0.1\", \"quantile_0.25\"], \"eval_fairness_grouping\": [\"majority-minority\", \"nationality-all\"], \"exclude_features\": \"none\", \"exclude_subgroups\": \"keep-all\", \"model\": \"rf\", \"scale\": \"do-not-scale\", \"training_size\": \"1k\", \"training_year\": \"2010_14\"}",
    "universe_id": "86237b3126b690111b2e8f67d423286b"
   },
   "start_time": "2025-08-19T19:10:05.459333",
   "version": "2.6.0"
  }
 },
 "nbformat": 4,
 "nbformat_minor": 5
}