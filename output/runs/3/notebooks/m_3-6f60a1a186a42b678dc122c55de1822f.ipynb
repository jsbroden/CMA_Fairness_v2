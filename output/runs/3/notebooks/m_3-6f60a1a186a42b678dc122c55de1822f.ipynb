{
 "cells": [
  {
   "cell_type": "markdown",
   "id": "ef23dbb3",
   "metadata": {
    "papermill": {
     "duration": 0.021705,
     "end_time": "2025-08-19T17:59:08.302537",
     "exception": false,
     "start_time": "2025-08-19T17:59:08.280832",
     "status": "completed"
    },
    "tags": []
   },
   "source": [
    "# Setup"
   ]
  },
  {
   "cell_type": "code",
   "execution_count": 1,
   "id": "0bc8e7dc",
   "metadata": {
    "execution": {
     "iopub.execute_input": "2025-08-19T17:59:08.324786Z",
     "iopub.status.busy": "2025-08-19T17:59:08.324289Z",
     "iopub.status.idle": "2025-08-19T17:59:08.334152Z",
     "shell.execute_reply": "2025-08-19T17:59:08.333438Z"
    },
    "papermill": {
     "duration": 0.025765,
     "end_time": "2025-08-19T17:59:08.339653",
     "exception": false,
     "start_time": "2025-08-19T17:59:08.313888",
     "status": "completed"
    },
    "tags": []
   },
   "outputs": [
    {
     "name": "stdout",
     "output_type": "stream",
     "text": [
      "/dss/dsshome1/0C/ra93lal2/cma/CMA_Fairness_v2\n"
     ]
    },
    {
     "name": "stderr",
     "output_type": "stream",
     "text": [
      "/dss/dsshome1/0C/ra93lal2/.local/share/virtualenvs/CMA_Fairness_v2-3j10GkSs/lib/python3.10/site-packages/IPython/core/magics/osm.py:393: UserWarning: This is now an optional IPython functionality, using bookmarks requires you to install the `pickleshare` library.\n",
      "  bkms = self.shell.db.get('bookmarks', {})\n",
      "/dss/dsshome1/0C/ra93lal2/.local/share/virtualenvs/CMA_Fairness_v2-3j10GkSs/lib/python3.10/site-packages/IPython/core/magics/osm.py:417: UserWarning: This is now an optional IPython functionality, setting dhist requires you to install the `pickleshare` library.\n",
      "  self.shell.db['dhist'] = compress_dhist(dhist)[-100:]\n"
     ]
    }
   ],
   "source": [
    "%cd ~/cma/CMA_Fairness_v2"
   ]
  },
  {
   "cell_type": "markdown",
   "id": "9d235661",
   "metadata": {
    "papermill": {
     "duration": 0.009717,
     "end_time": "2025-08-19T17:59:08.367016",
     "exception": false,
     "start_time": "2025-08-19T17:59:08.357299",
     "status": "completed"
    },
    "tags": []
   },
   "source": [
    "The following cell holds the definition of our parameters, these values can be overriden by rendering the with e.g. the following command:\n",
    "\n",
    "papermill -p alpha 0.2 -p ratio 0.3 universe_analysis.ipynb output/test_run.ipynb"
   ]
  },
  {
   "cell_type": "code",
   "execution_count": 2,
   "id": "4a789d8e",
   "metadata": {
    "execution": {
     "iopub.execute_input": "2025-08-19T17:59:08.387434Z",
     "iopub.status.busy": "2025-08-19T17:59:08.385886Z",
     "iopub.status.idle": "2025-08-19T17:59:08.393395Z",
     "shell.execute_reply": "2025-08-19T17:59:08.392173Z"
    },
    "papermill": {
     "duration": 0.01917,
     "end_time": "2025-08-19T17:59:08.394791",
     "exception": false,
     "start_time": "2025-08-19T17:59:08.375621",
     "status": "completed"
    },
    "tags": []
   },
   "outputs": [
    {
     "name": "stdout",
     "output_type": "stream",
     "text": [
      "Current working directory: /dss/dsshome1/0C/ra93lal2/cma/CMA_Fairness_v2\n"
     ]
    }
   ],
   "source": [
    "import os\n",
    "print(\"Current working directory:\", os.getcwd())"
   ]
  },
  {
   "cell_type": "code",
   "execution_count": 3,
   "id": "4132aaed",
   "metadata": {
    "execution": {
     "iopub.execute_input": "2025-08-19T17:59:08.416301Z",
     "iopub.status.busy": "2025-08-19T17:59:08.415053Z",
     "iopub.status.idle": "2025-08-19T17:59:08.424073Z",
     "shell.execute_reply": "2025-08-19T17:59:08.422964Z"
    },
    "papermill": {
     "duration": 0.020913,
     "end_time": "2025-08-19T17:59:08.425634",
     "exception": false,
     "start_time": "2025-08-19T17:59:08.404721",
     "status": "completed"
    },
    "tags": [
     "parameters"
    ]
   },
   "outputs": [],
   "source": [
    "run_no = 0\n",
    "universe_id = \"test\"\n",
    "universe = {\n",
    "    \"training_size\": \"5k\", # \"25k\", \"5k\", \"1k\"\n",
    "    \"training_year\": \"2012_14\", # \"2014\", \"2012_14\", \"2010_14\"\n",
    "    \"scale\": \"scale\", # \"scale\", \"do-not-scale\",\n",
    "    \"model\": \"elasticnet\", # \"logreg\", \"penalized_logreg\", \"rf\", \"gbm\", \"elasticnet\"\n",
    "    \"cutoff\": [\"quantile_0.15\", \"quantile_0.30\"],\n",
    "    \"exclude_features\": \"age\", # \"none\", \"nationality\", \"sex\", \"nationality-sex\", \"age\"\n",
    "    \"exclude_subgroups\": \"drop-non-german\", # \"keep-all\", \"drop-non-german\"\n",
    "    \"eval_fairness_grouping\": [\"majority-minority\", \"nationality-all\"]\n",
    "}\n",
    "\n",
    "output_dir=\"./output\"\n",
    "seed=0"
   ]
  },
  {
   "cell_type": "code",
   "execution_count": 4,
   "id": "615ff5af",
   "metadata": {
    "execution": {
     "iopub.execute_input": "2025-08-19T17:59:08.450117Z",
     "iopub.status.busy": "2025-08-19T17:59:08.448734Z",
     "iopub.status.idle": "2025-08-19T17:59:08.456305Z",
     "shell.execute_reply": "2025-08-19T17:59:08.455130Z"
    },
    "papermill": {
     "duration": 0.020431,
     "end_time": "2025-08-19T17:59:08.457795",
     "exception": false,
     "start_time": "2025-08-19T17:59:08.437364",
     "status": "completed"
    },
    "tags": [
     "injected-parameters"
    ]
   },
   "outputs": [],
   "source": [
    "# Parameters\n",
    "universe_id = \"6f60a1a186a42b678dc122c55de1822f\"\n",
    "run_no = \"3\"\n",
    "universe = \"{\\\"cutoff\\\": [\\\"quantile_0.1\\\", \\\"quantile_0.25\\\"], \\\"eval_fairness_grouping\\\": [\\\"majority-minority\\\", \\\"nationality-all\\\"], \\\"exclude_features\\\": \\\"nationality-sex\\\", \\\"exclude_subgroups\\\": \\\"keep-all\\\", \\\"model\\\": \\\"penalized_logreg\\\", \\\"scale\\\": \\\"do-not-scale\\\", \\\"training_size\\\": \\\"25k\\\", \\\"training_year\\\": \\\"2014\\\"}\"\n",
    "output_dir = \"output\"\n",
    "seed = \"2023\"\n"
   ]
  },
  {
   "cell_type": "code",
   "execution_count": 5,
   "id": "a5d7941f",
   "metadata": {
    "execution": {
     "iopub.execute_input": "2025-08-19T17:59:08.480401Z",
     "iopub.status.busy": "2025-08-19T17:59:08.479033Z",
     "iopub.status.idle": "2025-08-19T17:59:08.486149Z",
     "shell.execute_reply": "2025-08-19T17:59:08.484946Z"
    },
    "papermill": {
     "duration": 0.019439,
     "end_time": "2025-08-19T17:59:08.487510",
     "exception": false,
     "start_time": "2025-08-19T17:59:08.468071",
     "status": "completed"
    },
    "tags": []
   },
   "outputs": [],
   "source": [
    "import json\n",
    "if isinstance(universe, str):\n",
    "    universe = json.loads(universe)"
   ]
  },
  {
   "cell_type": "code",
   "execution_count": 6,
   "id": "7076ccb1",
   "metadata": {
    "execution": {
     "iopub.execute_input": "2025-08-19T17:59:08.509460Z",
     "iopub.status.busy": "2025-08-19T17:59:08.507946Z",
     "iopub.status.idle": "2025-08-19T17:59:08.576461Z",
     "shell.execute_reply": "2025-08-19T17:59:08.575704Z"
    },
    "papermill": {
     "duration": 0.08195,
     "end_time": "2025-08-19T17:59:08.579275",
     "exception": false,
     "start_time": "2025-08-19T17:59:08.497325",
     "status": "completed"
    },
    "tags": []
   },
   "outputs": [],
   "source": [
    "# Auto-reload the custom package\n",
    "%load_ext autoreload\n",
    "%autoreload 1\n",
    "%aimport fairness_multiverse"
   ]
  },
  {
   "cell_type": "code",
   "execution_count": 7,
   "id": "94c8eb93",
   "metadata": {
    "execution": {
     "iopub.execute_input": "2025-08-19T17:59:08.616148Z",
     "iopub.status.busy": "2025-08-19T17:59:08.615672Z",
     "iopub.status.idle": "2025-08-19T17:59:10.355169Z",
     "shell.execute_reply": "2025-08-19T17:59:10.354294Z"
    },
    "papermill": {
     "duration": 1.756119,
     "end_time": "2025-08-19T17:59:10.358061",
     "exception": false,
     "start_time": "2025-08-19T17:59:08.601942",
     "status": "completed"
    },
    "tags": []
   },
   "outputs": [],
   "source": [
    "from fairness_multiverse.universe import UniverseAnalysis\n",
    "\n",
    "universe_analysis = UniverseAnalysis(\n",
    "    run_no = run_no,\n",
    "    universe_id = universe_id,\n",
    "    universe = universe,\n",
    "    output_dir=output_dir,\n",
    ")"
   ]
  },
  {
   "cell_type": "code",
   "execution_count": 8,
   "id": "2a6381cf",
   "metadata": {
    "execution": {
     "iopub.execute_input": "2025-08-19T17:59:10.396006Z",
     "iopub.status.busy": "2025-08-19T17:59:10.394314Z",
     "iopub.status.idle": "2025-08-19T17:59:10.403653Z",
     "shell.execute_reply": "2025-08-19T17:59:10.402418Z"
    },
    "papermill": {
     "duration": 0.024618,
     "end_time": "2025-08-19T17:59:10.405189",
     "exception": false,
     "start_time": "2025-08-19T17:59:10.380571",
     "status": "completed"
    },
    "tags": []
   },
   "outputs": [
    {
     "name": "stdout",
     "output_type": "stream",
     "text": [
      "Using Seed: 2023\n"
     ]
    }
   ],
   "source": [
    "import numpy as np\n",
    "parsed_seed = int(seed)\n",
    "np.random.seed(parsed_seed)\n",
    "print(f\"Using Seed: {parsed_seed}\")"
   ]
  },
  {
   "cell_type": "markdown",
   "id": "b6e958b4",
   "metadata": {
    "papermill": {
     "duration": 0.009319,
     "end_time": "2025-08-19T17:59:10.426566",
     "exception": false,
     "start_time": "2025-08-19T17:59:10.417247",
     "status": "completed"
    },
    "tags": []
   },
   "source": [
    "# Loading Data"
   ]
  },
  {
   "cell_type": "code",
   "execution_count": 9,
   "id": "98701482",
   "metadata": {
    "execution": {
     "iopub.execute_input": "2025-08-19T17:59:10.447666Z",
     "iopub.status.busy": "2025-08-19T17:59:10.446083Z",
     "iopub.status.idle": "2025-08-19T17:59:20.568221Z",
     "shell.execute_reply": "2025-08-19T17:59:20.566993Z"
    },
    "papermill": {
     "duration": 10.134732,
     "end_time": "2025-08-19T17:59:20.570169",
     "exception": false,
     "start_time": "2025-08-19T17:59:10.435437",
     "status": "completed"
    },
    "tags": []
   },
   "outputs": [
    {
     "name": "stdout",
     "output_type": "stream",
     "text": [
      "Loading SIAB data from cache: data/siab_cached.csv.gz\n"
     ]
    },
    {
     "name": "stdout",
     "output_type": "stream",
     "text": [
      "(643690, 164)\n"
     ]
    }
   ],
   "source": [
    "from pathlib import Path\n",
    "import pandas as pd\n",
    "\n",
    "# File paths\n",
    "raw_file = Path(\"data/raw/siab.csv\")\n",
    "cache_file = Path(\"data/siab_cached.csv.gz\")\n",
    "\n",
    "# Ensure cache directory exists\n",
    "cache_file.parent.mkdir(parents=True, exist_ok=True)\n",
    "\n",
    "# Load with simple caching\n",
    "if cache_file.exists():\n",
    "    print(f\"Loading SIAB data from cache: {cache_file}\")\n",
    "    siab = pd.read_csv(cache_file, compression='gzip')\n",
    "else:\n",
    "    print(f\"Cache not found. Reading raw SIAB data: {raw_file}\")\n",
    "    siab = pd.read_csv(raw_file)\n",
    "    siab.to_csv(cache_file, index=False, compression='gzip')\n",
    "    print(f\"Cached SIAB data to: {cache_file}\")\n",
    "\n",
    "print(siab.shape)"
   ]
  },
  {
   "cell_type": "code",
   "execution_count": 10,
   "id": "058d2abb",
   "metadata": {
    "execution": {
     "iopub.execute_input": "2025-08-19T17:59:20.599278Z",
     "iopub.status.busy": "2025-08-19T17:59:20.598764Z",
     "iopub.status.idle": "2025-08-19T17:59:20.756225Z",
     "shell.execute_reply": "2025-08-19T17:59:20.755440Z"
    },
    "papermill": {
     "duration": 0.169547,
     "end_time": "2025-08-19T17:59:20.757461",
     "exception": false,
     "start_time": "2025-08-19T17:59:20.587914",
     "status": "completed"
    },
    "tags": []
   },
   "outputs": [
    {
     "data": {
      "text/html": [
       "<div>\n",
       "<style scoped>\n",
       "    .dataframe tbody tr th:only-of-type {\n",
       "        vertical-align: middle;\n",
       "    }\n",
       "\n",
       "    .dataframe tbody tr th {\n",
       "        vertical-align: top;\n",
       "    }\n",
       "\n",
       "    .dataframe thead th {\n",
       "        text-align: right;\n",
       "    }\n",
       "</style>\n",
       "<table border=\"1\" class=\"dataframe\">\n",
       "  <thead>\n",
       "    <tr style=\"text-align: right;\">\n",
       "      <th></th>\n",
       "      <th>persnr</th>\n",
       "      <th>year</th>\n",
       "      <th>nrEntry</th>\n",
       "      <th>ltue</th>\n",
       "      <th>employed_before</th>\n",
       "      <th>receipt_leh_before</th>\n",
       "      <th>receipt_lhg_before</th>\n",
       "      <th>se_before</th>\n",
       "      <th>ASU_notue_seeking_before</th>\n",
       "      <th>ASU_other_before</th>\n",
       "      <th>...</th>\n",
       "      <th>minijob_tot_dur_byage</th>\n",
       "      <th>ft_tot_dur_byage</th>\n",
       "      <th>befrist_tot_dur_byage</th>\n",
       "      <th>leih_tot_dur_byage</th>\n",
       "      <th>LHG_tot_dur_byage</th>\n",
       "      <th>LEH_tot_dur_byage</th>\n",
       "      <th>almp_tot_dur_byage</th>\n",
       "      <th>almp_aw_tot_dur_byage</th>\n",
       "      <th>se_tot_dur_byage</th>\n",
       "      <th>seeking1_tot_dur_byage</th>\n",
       "    </tr>\n",
       "  </thead>\n",
       "  <tbody>\n",
       "    <tr>\n",
       "      <th>0</th>\n",
       "      <td>7</td>\n",
       "      <td>2015</td>\n",
       "      <td>1</td>\n",
       "      <td>0</td>\n",
       "      <td>1</td>\n",
       "      <td>0</td>\n",
       "      <td>0</td>\n",
       "      <td>0</td>\n",
       "      <td>1</td>\n",
       "      <td>0</td>\n",
       "      <td>...</td>\n",
       "      <td>0.000000</td>\n",
       "      <td>0.000000</td>\n",
       "      <td>15.043478</td>\n",
       "      <td>0.000000</td>\n",
       "      <td>0.000000</td>\n",
       "      <td>0.000000</td>\n",
       "      <td>0.000000</td>\n",
       "      <td>0.000000</td>\n",
       "      <td>0.000000</td>\n",
       "      <td>0.000000</td>\n",
       "    </tr>\n",
       "    <tr>\n",
       "      <th>1</th>\n",
       "      <td>18</td>\n",
       "      <td>2010</td>\n",
       "      <td>1</td>\n",
       "      <td>1</td>\n",
       "      <td>0</td>\n",
       "      <td>0</td>\n",
       "      <td>0</td>\n",
       "      <td>0</td>\n",
       "      <td>0</td>\n",
       "      <td>0</td>\n",
       "      <td>...</td>\n",
       "      <td>0.000000</td>\n",
       "      <td>0.000000</td>\n",
       "      <td>0.000000</td>\n",
       "      <td>0.000000</td>\n",
       "      <td>0.000000</td>\n",
       "      <td>0.000000</td>\n",
       "      <td>0.000000</td>\n",
       "      <td>0.000000</td>\n",
       "      <td>0.000000</td>\n",
       "      <td>0.000000</td>\n",
       "    </tr>\n",
       "    <tr>\n",
       "      <th>2</th>\n",
       "      <td>18</td>\n",
       "      <td>2011</td>\n",
       "      <td>2</td>\n",
       "      <td>0</td>\n",
       "      <td>1</td>\n",
       "      <td>0</td>\n",
       "      <td>1</td>\n",
       "      <td>0</td>\n",
       "      <td>1</td>\n",
       "      <td>0</td>\n",
       "      <td>...</td>\n",
       "      <td>2.714286</td>\n",
       "      <td>2.714286</td>\n",
       "      <td>0.000000</td>\n",
       "      <td>0.000000</td>\n",
       "      <td>10.775510</td>\n",
       "      <td>0.000000</td>\n",
       "      <td>8.367347</td>\n",
       "      <td>0.000000</td>\n",
       "      <td>0.000000</td>\n",
       "      <td>9.836735</td>\n",
       "    </tr>\n",
       "    <tr>\n",
       "      <th>3</th>\n",
       "      <td>18</td>\n",
       "      <td>2012</td>\n",
       "      <td>3</td>\n",
       "      <td>0</td>\n",
       "      <td>1</td>\n",
       "      <td>0</td>\n",
       "      <td>1</td>\n",
       "      <td>0</td>\n",
       "      <td>1</td>\n",
       "      <td>0</td>\n",
       "      <td>...</td>\n",
       "      <td>4.200000</td>\n",
       "      <td>4.200000</td>\n",
       "      <td>0.000000</td>\n",
       "      <td>0.000000</td>\n",
       "      <td>12.100000</td>\n",
       "      <td>0.000000</td>\n",
       "      <td>9.400000</td>\n",
       "      <td>0.000000</td>\n",
       "      <td>0.000000</td>\n",
       "      <td>9.960000</td>\n",
       "    </tr>\n",
       "    <tr>\n",
       "      <th>4</th>\n",
       "      <td>18</td>\n",
       "      <td>2012</td>\n",
       "      <td>4</td>\n",
       "      <td>0</td>\n",
       "      <td>1</td>\n",
       "      <td>0</td>\n",
       "      <td>1</td>\n",
       "      <td>0</td>\n",
       "      <td>1</td>\n",
       "      <td>0</td>\n",
       "      <td>...</td>\n",
       "      <td>5.460000</td>\n",
       "      <td>5.460000</td>\n",
       "      <td>0.000000</td>\n",
       "      <td>0.000000</td>\n",
       "      <td>13.360000</td>\n",
       "      <td>0.000000</td>\n",
       "      <td>10.320000</td>\n",
       "      <td>0.000000</td>\n",
       "      <td>0.000000</td>\n",
       "      <td>10.280000</td>\n",
       "    </tr>\n",
       "    <tr>\n",
       "      <th>...</th>\n",
       "      <td>...</td>\n",
       "      <td>...</td>\n",
       "      <td>...</td>\n",
       "      <td>...</td>\n",
       "      <td>...</td>\n",
       "      <td>...</td>\n",
       "      <td>...</td>\n",
       "      <td>...</td>\n",
       "      <td>...</td>\n",
       "      <td>...</td>\n",
       "      <td>...</td>\n",
       "      <td>...</td>\n",
       "      <td>...</td>\n",
       "      <td>...</td>\n",
       "      <td>...</td>\n",
       "      <td>...</td>\n",
       "      <td>...</td>\n",
       "      <td>...</td>\n",
       "      <td>...</td>\n",
       "      <td>...</td>\n",
       "      <td>...</td>\n",
       "    </tr>\n",
       "    <tr>\n",
       "      <th>643685</th>\n",
       "      <td>1827860</td>\n",
       "      <td>2013</td>\n",
       "      <td>1</td>\n",
       "      <td>0</td>\n",
       "      <td>0</td>\n",
       "      <td>0</td>\n",
       "      <td>1</td>\n",
       "      <td>0</td>\n",
       "      <td>0</td>\n",
       "      <td>1</td>\n",
       "      <td>...</td>\n",
       "      <td>0.000000</td>\n",
       "      <td>0.000000</td>\n",
       "      <td>0.000000</td>\n",
       "      <td>0.000000</td>\n",
       "      <td>0.612903</td>\n",
       "      <td>0.000000</td>\n",
       "      <td>0.000000</td>\n",
       "      <td>0.000000</td>\n",
       "      <td>0.000000</td>\n",
       "      <td>0.000000</td>\n",
       "    </tr>\n",
       "    <tr>\n",
       "      <th>643686</th>\n",
       "      <td>1827860</td>\n",
       "      <td>2015</td>\n",
       "      <td>2</td>\n",
       "      <td>1</td>\n",
       "      <td>0</td>\n",
       "      <td>0</td>\n",
       "      <td>1</td>\n",
       "      <td>0</td>\n",
       "      <td>1</td>\n",
       "      <td>0</td>\n",
       "      <td>...</td>\n",
       "      <td>0.000000</td>\n",
       "      <td>0.000000</td>\n",
       "      <td>0.212121</td>\n",
       "      <td>0.212121</td>\n",
       "      <td>17.363636</td>\n",
       "      <td>0.000000</td>\n",
       "      <td>8.909091</td>\n",
       "      <td>0.000000</td>\n",
       "      <td>0.000000</td>\n",
       "      <td>7.121212</td>\n",
       "    </tr>\n",
       "    <tr>\n",
       "      <th>643687</th>\n",
       "      <td>1827860</td>\n",
       "      <td>2016</td>\n",
       "      <td>3</td>\n",
       "      <td>1</td>\n",
       "      <td>0</td>\n",
       "      <td>0</td>\n",
       "      <td>1</td>\n",
       "      <td>1</td>\n",
       "      <td>0</td>\n",
       "      <td>1</td>\n",
       "      <td>...</td>\n",
       "      <td>0.000000</td>\n",
       "      <td>0.000000</td>\n",
       "      <td>0.294118</td>\n",
       "      <td>0.205882</td>\n",
       "      <td>34.705882</td>\n",
       "      <td>0.000000</td>\n",
       "      <td>10.352941</td>\n",
       "      <td>1.705882</td>\n",
       "      <td>1.705882</td>\n",
       "      <td>23.911765</td>\n",
       "    </tr>\n",
       "    <tr>\n",
       "      <th>643688</th>\n",
       "      <td>1827869</td>\n",
       "      <td>2013</td>\n",
       "      <td>1</td>\n",
       "      <td>1</td>\n",
       "      <td>1</td>\n",
       "      <td>0</td>\n",
       "      <td>0</td>\n",
       "      <td>0</td>\n",
       "      <td>1</td>\n",
       "      <td>0</td>\n",
       "      <td>...</td>\n",
       "      <td>0.000000</td>\n",
       "      <td>0.000000</td>\n",
       "      <td>0.000000</td>\n",
       "      <td>0.000000</td>\n",
       "      <td>0.000000</td>\n",
       "      <td>0.525424</td>\n",
       "      <td>0.000000</td>\n",
       "      <td>0.000000</td>\n",
       "      <td>0.000000</td>\n",
       "      <td>0.000000</td>\n",
       "    </tr>\n",
       "    <tr>\n",
       "      <th>643689</th>\n",
       "      <td>1827869</td>\n",
       "      <td>2014</td>\n",
       "      <td>2</td>\n",
       "      <td>0</td>\n",
       "      <td>0</td>\n",
       "      <td>1</td>\n",
       "      <td>0</td>\n",
       "      <td>0</td>\n",
       "      <td>1</td>\n",
       "      <td>0</td>\n",
       "      <td>...</td>\n",
       "      <td>0.000000</td>\n",
       "      <td>0.666667</td>\n",
       "      <td>0.666667</td>\n",
       "      <td>0.000000</td>\n",
       "      <td>0.000000</td>\n",
       "      <td>8.950000</td>\n",
       "      <td>1.033333</td>\n",
       "      <td>0.083333</td>\n",
       "      <td>0.083333</td>\n",
       "      <td>8.133333</td>\n",
       "    </tr>\n",
       "  </tbody>\n",
       "</table>\n",
       "<p>643690 rows × 164 columns</p>\n",
       "</div>"
      ],
      "text/plain": [
       "         persnr  year  nrEntry  ltue  employed_before  receipt_leh_before  \\\n",
       "0             7  2015        1     0                1                   0   \n",
       "1            18  2010        1     1                0                   0   \n",
       "2            18  2011        2     0                1                   0   \n",
       "3            18  2012        3     0                1                   0   \n",
       "4            18  2012        4     0                1                   0   \n",
       "...         ...   ...      ...   ...              ...                 ...   \n",
       "643685  1827860  2013        1     0                0                   0   \n",
       "643686  1827860  2015        2     1                0                   0   \n",
       "643687  1827860  2016        3     1                0                   0   \n",
       "643688  1827869  2013        1     1                1                   0   \n",
       "643689  1827869  2014        2     0                0                   1   \n",
       "\n",
       "        receipt_lhg_before  se_before  ASU_notue_seeking_before  \\\n",
       "0                        0          0                         1   \n",
       "1                        0          0                         0   \n",
       "2                        1          0                         1   \n",
       "3                        1          0                         1   \n",
       "4                        1          0                         1   \n",
       "...                    ...        ...                       ...   \n",
       "643685                   1          0                         0   \n",
       "643686                   1          0                         1   \n",
       "643687                   1          1                         0   \n",
       "643688                   0          0                         1   \n",
       "643689                   0          0                         1   \n",
       "\n",
       "        ASU_other_before  ...  minijob_tot_dur_byage  ft_tot_dur_byage  \\\n",
       "0                      0  ...               0.000000          0.000000   \n",
       "1                      0  ...               0.000000          0.000000   \n",
       "2                      0  ...               2.714286          2.714286   \n",
       "3                      0  ...               4.200000          4.200000   \n",
       "4                      0  ...               5.460000          5.460000   \n",
       "...                  ...  ...                    ...               ...   \n",
       "643685                 1  ...               0.000000          0.000000   \n",
       "643686                 0  ...               0.000000          0.000000   \n",
       "643687                 1  ...               0.000000          0.000000   \n",
       "643688                 0  ...               0.000000          0.000000   \n",
       "643689                 0  ...               0.000000          0.666667   \n",
       "\n",
       "        befrist_tot_dur_byage  leih_tot_dur_byage  LHG_tot_dur_byage  \\\n",
       "0                   15.043478            0.000000           0.000000   \n",
       "1                    0.000000            0.000000           0.000000   \n",
       "2                    0.000000            0.000000          10.775510   \n",
       "3                    0.000000            0.000000          12.100000   \n",
       "4                    0.000000            0.000000          13.360000   \n",
       "...                       ...                 ...                ...   \n",
       "643685               0.000000            0.000000           0.612903   \n",
       "643686               0.212121            0.212121          17.363636   \n",
       "643687               0.294118            0.205882          34.705882   \n",
       "643688               0.000000            0.000000           0.000000   \n",
       "643689               0.666667            0.000000           0.000000   \n",
       "\n",
       "        LEH_tot_dur_byage  almp_tot_dur_byage  almp_aw_tot_dur_byage  \\\n",
       "0                0.000000            0.000000               0.000000   \n",
       "1                0.000000            0.000000               0.000000   \n",
       "2                0.000000            8.367347               0.000000   \n",
       "3                0.000000            9.400000               0.000000   \n",
       "4                0.000000           10.320000               0.000000   \n",
       "...                   ...                 ...                    ...   \n",
       "643685           0.000000            0.000000               0.000000   \n",
       "643686           0.000000            8.909091               0.000000   \n",
       "643687           0.000000           10.352941               1.705882   \n",
       "643688           0.525424            0.000000               0.000000   \n",
       "643689           8.950000            1.033333               0.083333   \n",
       "\n",
       "        se_tot_dur_byage  seeking1_tot_dur_byage  \n",
       "0               0.000000                0.000000  \n",
       "1               0.000000                0.000000  \n",
       "2               0.000000                9.836735  \n",
       "3               0.000000                9.960000  \n",
       "4               0.000000               10.280000  \n",
       "...                  ...                     ...  \n",
       "643685          0.000000                0.000000  \n",
       "643686          0.000000                7.121212  \n",
       "643687          1.705882               23.911765  \n",
       "643688          0.000000                0.000000  \n",
       "643689          0.083333                8.133333  \n",
       "\n",
       "[643690 rows x 164 columns]"
      ]
     },
     "execution_count": 10,
     "metadata": {},
     "output_type": "execute_result"
    }
   ],
   "source": [
    "siab"
   ]
  },
  {
   "cell_type": "markdown",
   "id": "1f87e805",
   "metadata": {
    "papermill": {
     "duration": 0.009634,
     "end_time": "2025-08-19T17:59:20.779815",
     "exception": false,
     "start_time": "2025-08-19T17:59:20.770181",
     "status": "completed"
    },
    "tags": []
   },
   "source": [
    "# Splitting Data and Setting Training Data Size"
   ]
  },
  {
   "cell_type": "code",
   "execution_count": 11,
   "id": "910ae358",
   "metadata": {
    "execution": {
     "iopub.execute_input": "2025-08-19T17:59:20.802086Z",
     "iopub.status.busy": "2025-08-19T17:59:20.800904Z",
     "iopub.status.idle": "2025-08-19T17:59:21.197754Z",
     "shell.execute_reply": "2025-08-19T17:59:21.197070Z"
    },
    "papermill": {
     "duration": 0.411179,
     "end_time": "2025-08-19T17:59:21.200539",
     "exception": false,
     "start_time": "2025-08-19T17:59:20.789360",
     "status": "completed"
    },
    "tags": []
   },
   "outputs": [],
   "source": [
    "from fairness_multiverse.universe import sample_by_year_size\n",
    "\n",
    "siab_train = sample_by_year_size(siab,\n",
    "                               training_year=universe[\"training_year\"],\n",
    "                               training_size=universe[\"training_size\"])"
   ]
  },
  {
   "cell_type": "code",
   "execution_count": 12,
   "id": "919c8ff5",
   "metadata": {
    "execution": {
     "iopub.execute_input": "2025-08-19T17:59:21.263807Z",
     "iopub.status.busy": "2025-08-19T17:59:21.262745Z",
     "iopub.status.idle": "2025-08-19T17:59:21.274574Z",
     "shell.execute_reply": "2025-08-19T17:59:21.272996Z"
    },
    "papermill": {
     "duration": 0.052389,
     "end_time": "2025-08-19T17:59:21.277271",
     "exception": false,
     "start_time": "2025-08-19T17:59:21.224882",
     "status": "completed"
    },
    "tags": []
   },
   "outputs": [
    {
     "data": {
      "text/plain": [
       "(25000, 164)"
      ]
     },
     "execution_count": 12,
     "metadata": {},
     "output_type": "execute_result"
    }
   ],
   "source": [
    "siab_train.shape"
   ]
  },
  {
   "cell_type": "code",
   "execution_count": 13,
   "id": "feb13bf4",
   "metadata": {
    "execution": {
     "iopub.execute_input": "2025-08-19T17:59:21.327931Z",
     "iopub.status.busy": "2025-08-19T17:59:21.326836Z",
     "iopub.status.idle": "2025-08-19T17:59:21.342648Z",
     "shell.execute_reply": "2025-08-19T17:59:21.341443Z"
    },
    "papermill": {
     "duration": 0.040031,
     "end_time": "2025-08-19T17:59:21.348791",
     "exception": false,
     "start_time": "2025-08-19T17:59:21.308760",
     "status": "completed"
    },
    "tags": []
   },
   "outputs": [
    {
     "data": {
      "text/plain": [
       "year\n",
       "2014    25000\n",
       "dtype: int64"
      ]
     },
     "metadata": {},
     "output_type": "display_data"
    }
   ],
   "source": [
    "display(siab_train.groupby(\"year\").size())"
   ]
  },
  {
   "cell_type": "code",
   "execution_count": 14,
   "id": "0997782f",
   "metadata": {
    "execution": {
     "iopub.execute_input": "2025-08-19T17:59:21.388566Z",
     "iopub.status.busy": "2025-08-19T17:59:21.387465Z",
     "iopub.status.idle": "2025-08-19T17:59:21.647288Z",
     "shell.execute_reply": "2025-08-19T17:59:21.646577Z"
    },
    "papermill": {
     "duration": 0.275091,
     "end_time": "2025-08-19T17:59:21.649025",
     "exception": false,
     "start_time": "2025-08-19T17:59:21.373934",
     "status": "completed"
    },
    "tags": []
   },
   "outputs": [],
   "source": [
    "#siab_train = siab_s[siab_s.year < 2015]\n",
    "siab_calib = siab[siab.year == 2015]\n",
    "siab_test = siab[siab.year == 2016]"
   ]
  },
  {
   "cell_type": "code",
   "execution_count": 15,
   "id": "2c1e4012",
   "metadata": {
    "execution": {
     "iopub.execute_input": "2025-08-19T17:59:21.672019Z",
     "iopub.status.busy": "2025-08-19T17:59:21.671272Z",
     "iopub.status.idle": "2025-08-19T17:59:21.677027Z",
     "shell.execute_reply": "2025-08-19T17:59:21.675652Z"
    },
    "papermill": {
     "duration": 0.018828,
     "end_time": "2025-08-19T17:59:21.678515",
     "exception": false,
     "start_time": "2025-08-19T17:59:21.659687",
     "status": "completed"
    },
    "tags": []
   },
   "outputs": [],
   "source": [
    "#siab_calib.shape"
   ]
  },
  {
   "cell_type": "code",
   "execution_count": 16,
   "id": "f66b54ca",
   "metadata": {
    "execution": {
     "iopub.execute_input": "2025-08-19T17:59:21.704381Z",
     "iopub.status.busy": "2025-08-19T17:59:21.703304Z",
     "iopub.status.idle": "2025-08-19T17:59:21.711755Z",
     "shell.execute_reply": "2025-08-19T17:59:21.709832Z"
    },
    "papermill": {
     "duration": 0.02266,
     "end_time": "2025-08-19T17:59:21.713356",
     "exception": false,
     "start_time": "2025-08-19T17:59:21.690696",
     "status": "completed"
    },
    "tags": []
   },
   "outputs": [],
   "source": [
    "#siab_test.shape"
   ]
  },
  {
   "cell_type": "code",
   "execution_count": 17,
   "id": "27e4384d",
   "metadata": {
    "execution": {
     "iopub.execute_input": "2025-08-19T17:59:21.740068Z",
     "iopub.status.busy": "2025-08-19T17:59:21.737541Z",
     "iopub.status.idle": "2025-08-19T17:59:21.763651Z",
     "shell.execute_reply": "2025-08-19T17:59:21.762686Z"
    },
    "papermill": {
     "duration": 0.039931,
     "end_time": "2025-08-19T17:59:21.764973",
     "exception": false,
     "start_time": "2025-08-19T17:59:21.725042",
     "status": "completed"
    },
    "tags": []
   },
   "outputs": [],
   "source": [
    "X_train = siab_train.iloc[:,4:164]\n",
    "y_train = siab_train.iloc[:, [3]]"
   ]
  },
  {
   "cell_type": "code",
   "execution_count": 18,
   "id": "08ee8389",
   "metadata": {
    "execution": {
     "iopub.execute_input": "2025-08-19T17:59:21.788667Z",
     "iopub.status.busy": "2025-08-19T17:59:21.787691Z",
     "iopub.status.idle": "2025-08-19T17:59:21.848339Z",
     "shell.execute_reply": "2025-08-19T17:59:21.847561Z"
    },
    "papermill": {
     "duration": 0.076617,
     "end_time": "2025-08-19T17:59:21.851819",
     "exception": false,
     "start_time": "2025-08-19T17:59:21.775202",
     "status": "completed"
    },
    "tags": []
   },
   "outputs": [],
   "source": [
    "X_calib = siab_calib.iloc[:,4:164]\n",
    "y_calib = siab_calib.iloc[:, [3]]"
   ]
  },
  {
   "cell_type": "code",
   "execution_count": 19,
   "id": "b7ff42e0",
   "metadata": {
    "execution": {
     "iopub.execute_input": "2025-08-19T17:59:21.881440Z",
     "iopub.status.busy": "2025-08-19T17:59:21.880975Z",
     "iopub.status.idle": "2025-08-19T17:59:21.936718Z",
     "shell.execute_reply": "2025-08-19T17:59:21.935769Z"
    },
    "papermill": {
     "duration": 0.069557,
     "end_time": "2025-08-19T17:59:21.939285",
     "exception": false,
     "start_time": "2025-08-19T17:59:21.869728",
     "status": "completed"
    },
    "tags": []
   },
   "outputs": [],
   "source": [
    "X_test = siab_test.iloc[:,4:164]\n",
    "y_true = siab_test.iloc[:, [3]]"
   ]
  },
  {
   "cell_type": "code",
   "execution_count": 20,
   "id": "0275101e",
   "metadata": {
    "execution": {
     "iopub.execute_input": "2025-08-19T17:59:21.978445Z",
     "iopub.status.busy": "2025-08-19T17:59:21.977376Z",
     "iopub.status.idle": "2025-08-19T17:59:22.116287Z",
     "shell.execute_reply": "2025-08-19T17:59:22.115595Z"
    },
    "papermill": {
     "duration": 0.155424,
     "end_time": "2025-08-19T17:59:22.119162",
     "exception": false,
     "start_time": "2025-08-19T17:59:21.963738",
     "status": "completed"
    },
    "tags": []
   },
   "outputs": [],
   "source": [
    "# Auxiliary data needed downstream in the pipeline\n",
    "\n",
    "org_train = X_train.copy()\n",
    "org_test = X_test.copy()\n",
    "org_calib = X_calib.copy()"
   ]
  },
  {
   "cell_type": "markdown",
   "id": "b461e618",
   "metadata": {
    "papermill": {
     "duration": 0.012773,
     "end_time": "2025-08-19T17:59:22.157228",
     "exception": false,
     "start_time": "2025-08-19T17:59:22.144455",
     "status": "completed"
    },
    "tags": []
   },
   "source": [
    "# Preprocessing Data"
   ]
  },
  {
   "cell_type": "code",
   "execution_count": 21,
   "id": "78e74c4b",
   "metadata": {
    "execution": {
     "iopub.execute_input": "2025-08-19T17:59:22.181501Z",
     "iopub.status.busy": "2025-08-19T17:59:22.180447Z",
     "iopub.status.idle": "2025-08-19T17:59:22.195148Z",
     "shell.execute_reply": "2025-08-19T17:59:22.189044Z"
    },
    "papermill": {
     "duration": 0.032886,
     "end_time": "2025-08-19T17:59:22.200973",
     "exception": false,
     "start_time": "2025-08-19T17:59:22.168087",
     "status": "completed"
    },
    "tags": []
   },
   "outputs": [],
   "source": [
    "# EXCLUDE PROTECTED FEATURES\n",
    "# --------------------------\n",
    "\n",
    "excluded_features = universe[\"exclude_features\"].split(\"-\")\n",
    "excluded_features_dictionary = {\n",
    "    \"nationality\": [\"maxdeutsch1\", \"maxdeutsch.Missing.\"],\n",
    "    \"sex\": [\"frau1\"],\n",
    "    \"age\": [\"age\"],\n",
    "}"
   ]
  },
  {
   "cell_type": "code",
   "execution_count": 22,
   "id": "f8e63555",
   "metadata": {
    "execution": {
     "iopub.execute_input": "2025-08-19T17:59:22.226666Z",
     "iopub.status.busy": "2025-08-19T17:59:22.225663Z",
     "iopub.status.idle": "2025-08-19T17:59:22.240567Z",
     "shell.execute_reply": "2025-08-19T17:59:22.238369Z"
    },
    "papermill": {
     "duration": 0.029197,
     "end_time": "2025-08-19T17:59:22.242427",
     "exception": false,
     "start_time": "2025-08-19T17:59:22.213230",
     "status": "completed"
    },
    "tags": []
   },
   "outputs": [],
   "source": [
    "excluded_features_columns = [\n",
    "    excluded_features_dictionary[f] for f in excluded_features if len(f) > 0 and f != \"none\"\n",
    "]"
   ]
  },
  {
   "cell_type": "code",
   "execution_count": 23,
   "id": "da781f7c",
   "metadata": {
    "execution": {
     "iopub.execute_input": "2025-08-19T17:59:22.275750Z",
     "iopub.status.busy": "2025-08-19T17:59:22.274186Z",
     "iopub.status.idle": "2025-08-19T17:59:22.283240Z",
     "shell.execute_reply": "2025-08-19T17:59:22.281662Z"
    },
    "papermill": {
     "duration": 0.024988,
     "end_time": "2025-08-19T17:59:22.285012",
     "exception": false,
     "start_time": "2025-08-19T17:59:22.260024",
     "status": "completed"
    },
    "tags": []
   },
   "outputs": [],
   "source": [
    "from fairness_multiverse.universe import flatten_once\n",
    "\n",
    "excluded_features_columns = flatten_once(excluded_features_columns)"
   ]
  },
  {
   "cell_type": "code",
   "execution_count": 24,
   "id": "37fef0f0",
   "metadata": {
    "execution": {
     "iopub.execute_input": "2025-08-19T17:59:22.312299Z",
     "iopub.status.busy": "2025-08-19T17:59:22.311123Z",
     "iopub.status.idle": "2025-08-19T17:59:22.452443Z",
     "shell.execute_reply": "2025-08-19T17:59:22.451804Z"
    },
    "papermill": {
     "duration": 0.155513,
     "end_time": "2025-08-19T17:59:22.453981",
     "exception": false,
     "start_time": "2025-08-19T17:59:22.298468",
     "status": "completed"
    },
    "tags": []
   },
   "outputs": [
    {
     "name": "stdout",
     "output_type": "stream",
     "text": [
      "Dropping features: ['maxdeutsch1', 'maxdeutsch.Missing.', 'frau1']\n"
     ]
    }
   ],
   "source": [
    "if len(excluded_features_columns) > 0:\n",
    "    print(f\"Dropping features: {excluded_features_columns}\")\n",
    "    X_train.drop(excluded_features_columns, axis=1, inplace=True)"
   ]
  },
  {
   "cell_type": "code",
   "execution_count": 25,
   "id": "d029e3e9",
   "metadata": {
    "execution": {
     "iopub.execute_input": "2025-08-19T17:59:22.494730Z",
     "iopub.status.busy": "2025-08-19T17:59:22.493343Z",
     "iopub.status.idle": "2025-08-19T17:59:22.574091Z",
     "shell.execute_reply": "2025-08-19T17:59:22.573296Z"
    },
    "papermill": {
     "duration": 0.100149,
     "end_time": "2025-08-19T17:59:22.578205",
     "exception": false,
     "start_time": "2025-08-19T17:59:22.478056",
     "status": "completed"
    },
    "tags": []
   },
   "outputs": [
    {
     "name": "stdout",
     "output_type": "stream",
     "text": [
      "Dropping features: ['maxdeutsch1', 'maxdeutsch.Missing.', 'frau1']\n"
     ]
    }
   ],
   "source": [
    "if len(excluded_features_columns) > 0:\n",
    "    print(f\"Dropping features: {excluded_features_columns}\")\n",
    "    X_test.drop(excluded_features_columns, axis=1, inplace=True)"
   ]
  },
  {
   "cell_type": "code",
   "execution_count": 26,
   "id": "01d571f0",
   "metadata": {
    "execution": {
     "iopub.execute_input": "2025-08-19T17:59:22.616386Z",
     "iopub.status.busy": "2025-08-19T17:59:22.615718Z",
     "iopub.status.idle": "2025-08-19T17:59:22.702533Z",
     "shell.execute_reply": "2025-08-19T17:59:22.701545Z"
    },
    "papermill": {
     "duration": 0.103217,
     "end_time": "2025-08-19T17:59:22.703957",
     "exception": false,
     "start_time": "2025-08-19T17:59:22.600740",
     "status": "completed"
    },
    "tags": []
   },
   "outputs": [
    {
     "name": "stdout",
     "output_type": "stream",
     "text": [
      "Dropping features: ['maxdeutsch1', 'maxdeutsch.Missing.', 'frau1']\n"
     ]
    }
   ],
   "source": [
    "if len(excluded_features_columns) > 0:\n",
    "    print(f\"Dropping features: {excluded_features_columns}\")\n",
    "    X_calib.drop(excluded_features_columns, axis=1, inplace=True)"
   ]
  },
  {
   "cell_type": "code",
   "execution_count": 27,
   "id": "3037356e",
   "metadata": {
    "execution": {
     "iopub.execute_input": "2025-08-19T17:59:22.729498Z",
     "iopub.status.busy": "2025-08-19T17:59:22.728279Z",
     "iopub.status.idle": "2025-08-19T17:59:22.800300Z",
     "shell.execute_reply": "2025-08-19T17:59:22.798270Z"
    },
    "papermill": {
     "duration": 0.087241,
     "end_time": "2025-08-19T17:59:22.802763",
     "exception": false,
     "start_time": "2025-08-19T17:59:22.715522",
     "status": "completed"
    },
    "tags": []
   },
   "outputs": [],
   "source": [
    "# EXCLUDE CERTAIN SUBGROUPS\n",
    "# -------------------------\n",
    "\n",
    "mode = universe.get(\"exclude_subgroups\", \"keep-all\") # Defaults to \"keep-all\" if the key is missing."
   ]
  },
  {
   "cell_type": "code",
   "execution_count": 28,
   "id": "9d1e63fd",
   "metadata": {
    "execution": {
     "iopub.execute_input": "2025-08-19T17:59:22.828465Z",
     "iopub.status.busy": "2025-08-19T17:59:22.827631Z",
     "iopub.status.idle": "2025-08-19T17:59:22.836783Z",
     "shell.execute_reply": "2025-08-19T17:59:22.835878Z"
    },
    "papermill": {
     "duration": 0.023281,
     "end_time": "2025-08-19T17:59:22.838791",
     "exception": false,
     "start_time": "2025-08-19T17:59:22.815510",
     "status": "completed"
    },
    "tags": []
   },
   "outputs": [],
   "source": [
    "if mode == \"keep-all\":\n",
    "    keep_mask = pd.Series(True, index=org_train.index)\n",
    "\n",
    "elif mode == \"drop-non-german\":\n",
    "    keep_mask = (org_train[\"maxdeutsch1\"] == 1) & (org_train[\"maxdeutsch.Missing.\"] == 0)\n",
    "\n",
    "else:\n",
    "    raise ValueError(f\"Unsupported mode for exclude_subgroups: {mode}\")"
   ]
  },
  {
   "cell_type": "code",
   "execution_count": 29,
   "id": "d3b65474",
   "metadata": {
    "execution": {
     "iopub.execute_input": "2025-08-19T17:59:22.866301Z",
     "iopub.status.busy": "2025-08-19T17:59:22.865929Z",
     "iopub.status.idle": "2025-08-19T17:59:22.871310Z",
     "shell.execute_reply": "2025-08-19T17:59:22.870707Z"
    },
    "papermill": {
     "duration": 0.021249,
     "end_time": "2025-08-19T17:59:22.872938",
     "exception": false,
     "start_time": "2025-08-19T17:59:22.851689",
     "status": "completed"
    },
    "tags": []
   },
   "outputs": [],
   "source": [
    "n_drop = (~keep_mask).sum() # Calculates how many rows are set to be dropped\n",
    "if n_drop > 0:\n",
    "    pct = n_drop / len(keep_mask) * 100\n",
    "    print(f\"Dropping {n_drop} rows ({pct:.2f}%) where mode='{mode}'\")"
   ]
  },
  {
   "cell_type": "code",
   "execution_count": 30,
   "id": "f44389b3",
   "metadata": {
    "execution": {
     "iopub.execute_input": "2025-08-19T17:59:22.896087Z",
     "iopub.status.busy": "2025-08-19T17:59:22.895740Z",
     "iopub.status.idle": "2025-08-19T17:59:22.908357Z",
     "shell.execute_reply": "2025-08-19T17:59:22.907634Z"
    },
    "papermill": {
     "duration": 0.034755,
     "end_time": "2025-08-19T17:59:22.919196",
     "exception": false,
     "start_time": "2025-08-19T17:59:22.884441",
     "status": "completed"
    },
    "tags": []
   },
   "outputs": [],
   "source": [
    "X_train = X_train[keep_mask]"
   ]
  },
  {
   "cell_type": "code",
   "execution_count": 31,
   "id": "ceca8c2a",
   "metadata": {
    "execution": {
     "iopub.execute_input": "2025-08-19T17:59:22.960545Z",
     "iopub.status.busy": "2025-08-19T17:59:22.959324Z",
     "iopub.status.idle": "2025-08-19T17:59:22.965428Z",
     "shell.execute_reply": "2025-08-19T17:59:22.964779Z"
    },
    "papermill": {
     "duration": 0.030627,
     "end_time": "2025-08-19T17:59:22.967629",
     "exception": false,
     "start_time": "2025-08-19T17:59:22.937002",
     "status": "completed"
    },
    "tags": []
   },
   "outputs": [],
   "source": [
    "y_train = y_train[keep_mask]"
   ]
  },
  {
   "cell_type": "markdown",
   "id": "04d31e2f",
   "metadata": {
    "papermill": {
     "duration": 0.012335,
     "end_time": "2025-08-19T17:59:23.002181",
     "exception": false,
     "start_time": "2025-08-19T17:59:22.989846",
     "status": "completed"
    },
    "tags": []
   },
   "source": [
    "# Model Training"
   ]
  },
  {
   "cell_type": "code",
   "execution_count": 32,
   "id": "db991733",
   "metadata": {
    "execution": {
     "iopub.execute_input": "2025-08-19T17:59:23.025696Z",
     "iopub.status.busy": "2025-08-19T17:59:23.025282Z",
     "iopub.status.idle": "2025-08-19T17:59:23.168161Z",
     "shell.execute_reply": "2025-08-19T17:59:23.166159Z"
    },
    "papermill": {
     "duration": 0.156778,
     "end_time": "2025-08-19T17:59:23.169910",
     "exception": false,
     "start_time": "2025-08-19T17:59:23.013132",
     "status": "completed"
    },
    "tags": []
   },
   "outputs": [],
   "source": [
    "from sklearn.linear_model import LogisticRegression\n",
    "from sklearn.ensemble import GradientBoostingClassifier, RandomForestClassifier\n",
    "\n",
    "if (universe[\"model\"] == \"logreg\"):\n",
    "    model = LogisticRegression() #penalty=\"none\", solver=\"newton-cg\", max_iter=1)\n",
    "elif (universe[\"model\"] == \"penalized_logreg\"):\n",
    "    model = LogisticRegression(penalty=\"l2\", C=0.1) #, solver=\"newton-cg\", max_iter=1)\n",
    "elif (universe[\"model\"] == \"rf\"):\n",
    "    model = RandomForestClassifier() # n_estimators=100, n_jobs=-1\n",
    "elif (universe[\"model\"] == \"gbm\"):\n",
    "    model = GradientBoostingClassifier()\n",
    "elif (universe[\"model\"] == \"elasticnet\"):\n",
    "    model = LogisticRegression(penalty = 'elasticnet', solver = 'saga', l1_ratio = 0.5) # max_iter=5000\n",
    "else:\n",
    "    raise \"Unsupported universe.model\""
   ]
  },
  {
   "cell_type": "code",
   "execution_count": 33,
   "id": "a4b5cd25",
   "metadata": {
    "execution": {
     "iopub.execute_input": "2025-08-19T17:59:23.202606Z",
     "iopub.status.busy": "2025-08-19T17:59:23.202054Z",
     "iopub.status.idle": "2025-08-19T17:59:23.219826Z",
     "shell.execute_reply": "2025-08-19T17:59:23.219005Z"
    },
    "papermill": {
     "duration": 0.033597,
     "end_time": "2025-08-19T17:59:23.221557",
     "exception": false,
     "start_time": "2025-08-19T17:59:23.187960",
     "status": "completed"
    },
    "tags": []
   },
   "outputs": [],
   "source": [
    "from sklearn.pipeline import Pipeline\n",
    "from sklearn.preprocessing import StandardScaler\n",
    "\n",
    "model = Pipeline([\n",
    "    #(\"continuous_processor\", continuous_processor),\n",
    "    #(\"categorical_preprocessor\", categorical_preprocessor),\n",
    "    (\"scale\", StandardScaler() if universe[\"scale\"] == \"scale\" else None), \n",
    "    (\"model\", model),\n",
    "])"
   ]
  },
  {
   "cell_type": "code",
   "execution_count": 34,
   "id": "283a904d",
   "metadata": {
    "execution": {
     "iopub.execute_input": "2025-08-19T17:59:23.254847Z",
     "iopub.status.busy": "2025-08-19T17:59:23.254411Z",
     "iopub.status.idle": "2025-08-19T17:59:24.235848Z",
     "shell.execute_reply": "2025-08-19T17:59:24.234749Z"
    },
    "papermill": {
     "duration": 0.997685,
     "end_time": "2025-08-19T17:59:24.238834",
     "exception": false,
     "start_time": "2025-08-19T17:59:23.241149",
     "status": "completed"
    },
    "tags": []
   },
   "outputs": [
    {
     "name": "stderr",
     "output_type": "stream",
     "text": [
      "/dss/dsshome1/0C/ra93lal2/.local/share/virtualenvs/CMA_Fairness_v2-3j10GkSs/lib/python3.10/site-packages/sklearn/linear_model/_logistic.py:444: ConvergenceWarning: lbfgs failed to converge (status=1):\n",
      "STOP: TOTAL NO. of ITERATIONS REACHED LIMIT.\n",
      "\n",
      "Increase the number of iterations (max_iter) or scale the data as shown in:\n",
      "    https://scikit-learn.org/stable/modules/preprocessing.html\n",
      "Please also refer to the documentation for alternative solver options:\n",
      "    https://scikit-learn.org/stable/modules/linear_model.html#logistic-regression\n",
      "  n_iter_i = _check_optimize_result(\n"
     ]
    },
    {
     "data": {
      "text/html": [
       "<style>#sk-container-id-1 {color: black;background-color: white;}#sk-container-id-1 pre{padding: 0;}#sk-container-id-1 div.sk-toggleable {background-color: white;}#sk-container-id-1 label.sk-toggleable__label {cursor: pointer;display: block;width: 100%;margin-bottom: 0;padding: 0.3em;box-sizing: border-box;text-align: center;}#sk-container-id-1 label.sk-toggleable__label-arrow:before {content: \"▸\";float: left;margin-right: 0.25em;color: #696969;}#sk-container-id-1 label.sk-toggleable__label-arrow:hover:before {color: black;}#sk-container-id-1 div.sk-estimator:hover label.sk-toggleable__label-arrow:before {color: black;}#sk-container-id-1 div.sk-toggleable__content {max-height: 0;max-width: 0;overflow: hidden;text-align: left;background-color: #f0f8ff;}#sk-container-id-1 div.sk-toggleable__content pre {margin: 0.2em;color: black;border-radius: 0.25em;background-color: #f0f8ff;}#sk-container-id-1 input.sk-toggleable__control:checked~div.sk-toggleable__content {max-height: 200px;max-width: 100%;overflow: auto;}#sk-container-id-1 input.sk-toggleable__control:checked~label.sk-toggleable__label-arrow:before {content: \"▾\";}#sk-container-id-1 div.sk-estimator input.sk-toggleable__control:checked~label.sk-toggleable__label {background-color: #d4ebff;}#sk-container-id-1 div.sk-label input.sk-toggleable__control:checked~label.sk-toggleable__label {background-color: #d4ebff;}#sk-container-id-1 input.sk-hidden--visually {border: 0;clip: rect(1px 1px 1px 1px);clip: rect(1px, 1px, 1px, 1px);height: 1px;margin: -1px;overflow: hidden;padding: 0;position: absolute;width: 1px;}#sk-container-id-1 div.sk-estimator {font-family: monospace;background-color: #f0f8ff;border: 1px dotted black;border-radius: 0.25em;box-sizing: border-box;margin-bottom: 0.5em;}#sk-container-id-1 div.sk-estimator:hover {background-color: #d4ebff;}#sk-container-id-1 div.sk-parallel-item::after {content: \"\";width: 100%;border-bottom: 1px solid gray;flex-grow: 1;}#sk-container-id-1 div.sk-label:hover label.sk-toggleable__label {background-color: #d4ebff;}#sk-container-id-1 div.sk-serial::before {content: \"\";position: absolute;border-left: 1px solid gray;box-sizing: border-box;top: 0;bottom: 0;left: 50%;z-index: 0;}#sk-container-id-1 div.sk-serial {display: flex;flex-direction: column;align-items: center;background-color: white;padding-right: 0.2em;padding-left: 0.2em;position: relative;}#sk-container-id-1 div.sk-item {position: relative;z-index: 1;}#sk-container-id-1 div.sk-parallel {display: flex;align-items: stretch;justify-content: center;background-color: white;position: relative;}#sk-container-id-1 div.sk-item::before, #sk-container-id-1 div.sk-parallel-item::before {content: \"\";position: absolute;border-left: 1px solid gray;box-sizing: border-box;top: 0;bottom: 0;left: 50%;z-index: -1;}#sk-container-id-1 div.sk-parallel-item {display: flex;flex-direction: column;z-index: 1;position: relative;background-color: white;}#sk-container-id-1 div.sk-parallel-item:first-child::after {align-self: flex-end;width: 50%;}#sk-container-id-1 div.sk-parallel-item:last-child::after {align-self: flex-start;width: 50%;}#sk-container-id-1 div.sk-parallel-item:only-child::after {width: 0;}#sk-container-id-1 div.sk-dashed-wrapped {border: 1px dashed gray;margin: 0 0.4em 0.5em 0.4em;box-sizing: border-box;padding-bottom: 0.4em;background-color: white;}#sk-container-id-1 div.sk-label label {font-family: monospace;font-weight: bold;display: inline-block;line-height: 1.2em;}#sk-container-id-1 div.sk-label-container {text-align: center;}#sk-container-id-1 div.sk-container {/* jupyter's `normalize.less` sets `[hidden] { display: none; }` but bootstrap.min.css set `[hidden] { display: none !important; }` so we also need the `!important` here to be able to override the default hidden behavior on the sphinx rendered scikit-learn.org. See: https://github.com/scikit-learn/scikit-learn/issues/21755 */display: inline-block !important;position: relative;}#sk-container-id-1 div.sk-text-repr-fallback {display: none;}</style><div id=\"sk-container-id-1\" class=\"sk-top-container\"><div class=\"sk-text-repr-fallback\"><pre>Pipeline(steps=[(&#x27;scale&#x27;, None), (&#x27;model&#x27;, LogisticRegression(C=0.1))])</pre><b>In a Jupyter environment, please rerun this cell to show the HTML representation or trust the notebook. <br />On GitHub, the HTML representation is unable to render, please try loading this page with nbviewer.org.</b></div><div class=\"sk-container\" hidden><div class=\"sk-item sk-dashed-wrapped\"><div class=\"sk-label-container\"><div class=\"sk-label sk-toggleable\"><input class=\"sk-toggleable__control sk-hidden--visually\" id=\"sk-estimator-id-1\" type=\"checkbox\" ><label for=\"sk-estimator-id-1\" class=\"sk-toggleable__label sk-toggleable__label-arrow\">Pipeline</label><div class=\"sk-toggleable__content\"><pre>Pipeline(steps=[(&#x27;scale&#x27;, None), (&#x27;model&#x27;, LogisticRegression(C=0.1))])</pre></div></div></div><div class=\"sk-serial\"><div class=\"sk-item\"><div class=\"sk-estimator sk-toggleable\"><input class=\"sk-toggleable__control sk-hidden--visually\" id=\"sk-estimator-id-2\" type=\"checkbox\" ><label for=\"sk-estimator-id-2\" class=\"sk-toggleable__label sk-toggleable__label-arrow\">None</label><div class=\"sk-toggleable__content\"><pre>None</pre></div></div></div><div class=\"sk-item\"><div class=\"sk-estimator sk-toggleable\"><input class=\"sk-toggleable__control sk-hidden--visually\" id=\"sk-estimator-id-3\" type=\"checkbox\" ><label for=\"sk-estimator-id-3\" class=\"sk-toggleable__label sk-toggleable__label-arrow\">LogisticRegression</label><div class=\"sk-toggleable__content\"><pre>LogisticRegression(C=0.1)</pre></div></div></div></div></div></div></div>"
      ],
      "text/plain": [
       "Pipeline(steps=[('scale', None), ('model', LogisticRegression(C=0.1))])"
      ]
     },
     "execution_count": 34,
     "metadata": {},
     "output_type": "execute_result"
    }
   ],
   "source": [
    "model.fit(X_train, y_train.values.ravel())"
   ]
  },
  {
   "cell_type": "code",
   "execution_count": 35,
   "id": "6e15e313",
   "metadata": {
    "execution": {
     "iopub.execute_input": "2025-08-19T17:59:24.270115Z",
     "iopub.status.busy": "2025-08-19T17:59:24.269002Z",
     "iopub.status.idle": "2025-08-19T17:59:24.382846Z",
     "shell.execute_reply": "2025-08-19T17:59:24.381775Z"
    },
    "papermill": {
     "duration": 0.128262,
     "end_time": "2025-08-19T17:59:24.384409",
     "exception": false,
     "start_time": "2025-08-19T17:59:24.256147",
     "status": "completed"
    },
    "tags": []
   },
   "outputs": [
    {
     "data": {
      "text/plain": [
       "0.8632370973135659"
      ]
     },
     "execution_count": 35,
     "metadata": {},
     "output_type": "execute_result"
    }
   ],
   "source": [
    "from fairness_multiverse.universe import predict_w_threshold\n",
    "\n",
    "probs_test = model.predict_proba(X_test)\n",
    "\n",
    "'''\n",
    "Below code returns a boolean array (or binary 0/1 array depending on how it’s used) where each element \n",
    "is True if the probability of class 1 is greater than or equal to the threshold, and False otherwise.\n",
    "'''\n",
    "y_pred_default = predict_w_threshold(probs_test, 0.5)\n",
    "\n",
    "from sklearn.metrics import accuracy_score\n",
    "\n",
    "# Naive prediction\n",
    "accuracy_score(y_true = y_true, y_pred = y_pred_default)"
   ]
  },
  {
   "cell_type": "code",
   "execution_count": 36,
   "id": "6f14067c",
   "metadata": {
    "execution": {
     "iopub.execute_input": "2025-08-19T17:59:24.424913Z",
     "iopub.status.busy": "2025-08-19T17:59:24.421442Z",
     "iopub.status.idle": "2025-08-19T17:59:24.527109Z",
     "shell.execute_reply": "2025-08-19T17:59:24.526052Z"
    },
    "papermill": {
     "duration": 0.124329,
     "end_time": "2025-08-19T17:59:24.530361",
     "exception": false,
     "start_time": "2025-08-19T17:59:24.406032",
     "status": "completed"
    },
    "tags": []
   },
   "outputs": [
    {
     "data": {
      "text/plain": [
       "array([0, 0, 0, ..., 0, 0, 0])"
      ]
     },
     "execution_count": 36,
     "metadata": {},
     "output_type": "execute_result"
    }
   ],
   "source": [
    "model.predict(X_test)"
   ]
  },
  {
   "cell_type": "markdown",
   "id": "3759920c",
   "metadata": {
    "papermill": {
     "duration": 0.012298,
     "end_time": "2025-08-19T17:59:24.581784",
     "exception": false,
     "start_time": "2025-08-19T17:59:24.569486",
     "status": "completed"
    },
    "tags": []
   },
   "source": [
    "# Conformal Prediction"
   ]
  },
  {
   "cell_type": "code",
   "execution_count": 37,
   "id": "14b27f59",
   "metadata": {
    "execution": {
     "iopub.execute_input": "2025-08-19T17:59:24.609334Z",
     "iopub.status.busy": "2025-08-19T17:59:24.607986Z",
     "iopub.status.idle": "2025-08-19T17:59:24.615673Z",
     "shell.execute_reply": "2025-08-19T17:59:24.614442Z"
    },
    "papermill": {
     "duration": 0.023838,
     "end_time": "2025-08-19T17:59:24.617217",
     "exception": false,
     "start_time": "2025-08-19T17:59:24.593379",
     "status": "completed"
    },
    "tags": []
   },
   "outputs": [],
   "source": [
    "# Miscoverage level for conformal prediction (10% allowed error rate => 90% target coverage)\n",
    "alpha = 0.1"
   ]
  },
  {
   "cell_type": "code",
   "execution_count": 38,
   "id": "59102472",
   "metadata": {
    "execution": {
     "iopub.execute_input": "2025-08-19T17:59:24.645939Z",
     "iopub.status.busy": "2025-08-19T17:59:24.644679Z",
     "iopub.status.idle": "2025-08-19T17:59:24.748253Z",
     "shell.execute_reply": "2025-08-19T17:59:24.747001Z"
    },
    "papermill": {
     "duration": 0.119469,
     "end_time": "2025-08-19T17:59:24.750954",
     "exception": false,
     "start_time": "2025-08-19T17:59:24.631485",
     "status": "completed"
    },
    "tags": []
   },
   "outputs": [],
   "source": [
    "probs_calib = model.predict_proba(X_calib)"
   ]
  },
  {
   "cell_type": "code",
   "execution_count": 39,
   "id": "a792d4dd",
   "metadata": {
    "execution": {
     "iopub.execute_input": "2025-08-19T17:59:24.789269Z",
     "iopub.status.busy": "2025-08-19T17:59:24.788249Z",
     "iopub.status.idle": "2025-08-19T17:59:24.796958Z",
     "shell.execute_reply": "2025-08-19T17:59:24.795563Z"
    },
    "papermill": {
     "duration": 0.023489,
     "end_time": "2025-08-19T17:59:24.798420",
     "exception": false,
     "start_time": "2025-08-19T17:59:24.774931",
     "status": "completed"
    },
    "tags": []
   },
   "outputs": [],
   "source": [
    "y_calib = y_calib.values.ravel().astype(int)"
   ]
  },
  {
   "cell_type": "code",
   "execution_count": 40,
   "id": "650fd033",
   "metadata": {
    "execution": {
     "iopub.execute_input": "2025-08-19T17:59:24.828033Z",
     "iopub.status.busy": "2025-08-19T17:59:24.827374Z",
     "iopub.status.idle": "2025-08-19T17:59:24.838983Z",
     "shell.execute_reply": "2025-08-19T17:59:24.837949Z"
    },
    "papermill": {
     "duration": 0.028246,
     "end_time": "2025-08-19T17:59:24.841288",
     "exception": false,
     "start_time": "2025-08-19T17:59:24.813042",
     "status": "completed"
    },
    "tags": []
   },
   "outputs": [],
   "source": [
    "from fairness_multiverse.conformal import compute_nc_scores\n",
    "\n",
    "# Compute nonconformity scores on calibration set (1 - probability of true class)\n",
    "nc_scores = compute_nc_scores(probs_calib, y_calib)"
   ]
  },
  {
   "cell_type": "code",
   "execution_count": 41,
   "id": "28ada44c",
   "metadata": {
    "execution": {
     "iopub.execute_input": "2025-08-19T17:59:24.868821Z",
     "iopub.status.busy": "2025-08-19T17:59:24.868381Z",
     "iopub.status.idle": "2025-08-19T17:59:24.874810Z",
     "shell.execute_reply": "2025-08-19T17:59:24.873661Z"
    },
    "papermill": {
     "duration": 0.020568,
     "end_time": "2025-08-19T17:59:24.876177",
     "exception": false,
     "start_time": "2025-08-19T17:59:24.855609",
     "status": "completed"
    },
    "tags": []
   },
   "outputs": [],
   "source": [
    "from fairness_multiverse.conformal import find_threshold\n",
    "\n",
    "# Find conformal threshold q_hat for the given alpha (split conformal method)\n",
    "q_hat = find_threshold(nc_scores, alpha)"
   ]
  },
  {
   "cell_type": "code",
   "execution_count": 42,
   "id": "df56469e",
   "metadata": {
    "execution": {
     "iopub.execute_input": "2025-08-19T17:59:24.922387Z",
     "iopub.status.busy": "2025-08-19T17:59:24.920994Z",
     "iopub.status.idle": "2025-08-19T17:59:24.969193Z",
     "shell.execute_reply": "2025-08-19T17:59:24.967970Z"
    },
    "papermill": {
     "duration": 0.072174,
     "end_time": "2025-08-19T17:59:24.971799",
     "exception": false,
     "start_time": "2025-08-19T17:59:24.899625",
     "status": "completed"
    },
    "tags": []
   },
   "outputs": [
    {
     "data": {
      "text/plain": [
       "0.6756497557509755"
      ]
     },
     "execution_count": 42,
     "metadata": {},
     "output_type": "execute_result"
    }
   ],
   "source": [
    "q_hat"
   ]
  },
  {
   "cell_type": "code",
   "execution_count": 43,
   "id": "aa1f5faa",
   "metadata": {
    "execution": {
     "iopub.execute_input": "2025-08-19T17:59:25.013982Z",
     "iopub.status.busy": "2025-08-19T17:59:25.013588Z",
     "iopub.status.idle": "2025-08-19T17:59:25.620692Z",
     "shell.execute_reply": "2025-08-19T17:59:25.619565Z"
    },
    "papermill": {
     "duration": 0.623019,
     "end_time": "2025-08-19T17:59:25.623224",
     "exception": false,
     "start_time": "2025-08-19T17:59:25.000205",
     "status": "completed"
    },
    "tags": []
   },
   "outputs": [],
   "source": [
    "from fairness_multiverse.conformal import predict_conformal_sets\n",
    "\n",
    "# Generate prediction sets for each test example\n",
    "pred_sets = predict_conformal_sets(model, X_test, q_hat)"
   ]
  },
  {
   "cell_type": "code",
   "execution_count": 44,
   "id": "97f67a6b",
   "metadata": {
    "execution": {
     "iopub.execute_input": "2025-08-19T17:59:25.664969Z",
     "iopub.status.busy": "2025-08-19T17:59:25.663379Z",
     "iopub.status.idle": "2025-08-19T17:59:25.672846Z",
     "shell.execute_reply": "2025-08-19T17:59:25.671501Z"
    },
    "papermill": {
     "duration": 0.029378,
     "end_time": "2025-08-19T17:59:25.674496",
     "exception": false,
     "start_time": "2025-08-19T17:59:25.645118",
     "status": "completed"
    },
    "tags": []
   },
   "outputs": [],
   "source": [
    "y_true = y_true.squeeze()"
   ]
  },
  {
   "cell_type": "code",
   "execution_count": 45,
   "id": "e700e9a7",
   "metadata": {
    "execution": {
     "iopub.execute_input": "2025-08-19T17:59:25.713398Z",
     "iopub.status.busy": "2025-08-19T17:59:25.712924Z",
     "iopub.status.idle": "2025-08-19T17:59:26.277206Z",
     "shell.execute_reply": "2025-08-19T17:59:26.275329Z"
    },
    "papermill": {
     "duration": 0.584067,
     "end_time": "2025-08-19T17:59:26.279175",
     "exception": false,
     "start_time": "2025-08-19T17:59:25.695108",
     "status": "completed"
    },
    "tags": []
   },
   "outputs": [],
   "source": [
    "from fairness_multiverse.conformal import evaluate_sets\n",
    "\n",
    "# Evaluate coverage and average set size on test data\n",
    "metrics = evaluate_sets(pred_sets, y_true)"
   ]
  },
  {
   "cell_type": "markdown",
   "id": "efbacec0",
   "metadata": {
    "papermill": {
     "duration": 0.038906,
     "end_time": "2025-08-19T17:59:26.330087",
     "exception": false,
     "start_time": "2025-08-19T17:59:26.291181",
     "status": "completed"
    },
    "tags": []
   },
   "source": [
    "# CP Metrics"
   ]
  },
  {
   "cell_type": "code",
   "execution_count": 46,
   "id": "9de55fb1",
   "metadata": {
    "execution": {
     "iopub.execute_input": "2025-08-19T17:59:26.357624Z",
     "iopub.status.busy": "2025-08-19T17:59:26.357135Z",
     "iopub.status.idle": "2025-08-19T17:59:26.364717Z",
     "shell.execute_reply": "2025-08-19T17:59:26.363930Z"
    },
    "papermill": {
     "duration": 0.024216,
     "end_time": "2025-08-19T17:59:26.368173",
     "exception": false,
     "start_time": "2025-08-19T17:59:26.343957",
     "status": "completed"
    },
    "tags": []
   },
   "outputs": [
    {
     "data": {
      "text/plain": [
       "{'coverage': 0.9125069668933229, 'avg_size': 1.2010032326385018}"
      ]
     },
     "execution_count": 46,
     "metadata": {},
     "output_type": "execute_result"
    }
   ],
   "source": [
    "metrics"
   ]
  },
  {
   "cell_type": "code",
   "execution_count": 47,
   "id": "64c340a1",
   "metadata": {
    "execution": {
     "iopub.execute_input": "2025-08-19T17:59:26.392745Z",
     "iopub.status.busy": "2025-08-19T17:59:26.392387Z",
     "iopub.status.idle": "2025-08-19T17:59:26.397880Z",
     "shell.execute_reply": "2025-08-19T17:59:26.397140Z"
    },
    "papermill": {
     "duration": 0.020086,
     "end_time": "2025-08-19T17:59:26.400186",
     "exception": false,
     "start_time": "2025-08-19T17:59:26.380100",
     "status": "completed"
    },
    "tags": []
   },
   "outputs": [],
   "source": [
    "example_universe = universe.copy()\n",
    "universe_training_year = example_universe.get(\"training_year\")\n",
    "universe_training_size = example_universe.get(\"training_size\")\n",
    "universe_scale = example_universe.get(\"scale\")\n",
    "universe_model = example_universe.get(\"model\")\n",
    "universe_exclude_features = example_universe.get(\"exclude_features\")\n",
    "universe_exclude_subgroups = example_universe.get(\"exclude_subgroups\")"
   ]
  },
  {
   "cell_type": "code",
   "execution_count": 48,
   "id": "dbb53cb4",
   "metadata": {
    "execution": {
     "iopub.execute_input": "2025-08-19T17:59:26.428378Z",
     "iopub.status.busy": "2025-08-19T17:59:26.426491Z",
     "iopub.status.idle": "2025-08-19T17:59:26.440421Z",
     "shell.execute_reply": "2025-08-19T17:59:26.439220Z"
    },
    "papermill": {
     "duration": 0.03067,
     "end_time": "2025-08-19T17:59:26.443072",
     "exception": false,
     "start_time": "2025-08-19T17:59:26.412402",
     "status": "completed"
    },
    "tags": []
   },
   "outputs": [],
   "source": [
    "cp_metrics_dict = {\n",
    "    \"universe_id\": [universe_id],\n",
    "    \"universe_training_year\": [universe_training_year],\n",
    "    \"universe_training_size\": [universe_training_size],\n",
    "    \"universe_scale\": [universe_scale],\n",
    "    \"universe_model\": [universe_model],\n",
    "    \"universe_exclude_features\": [universe_exclude_features],\n",
    "    \"universe_exclude_subgroups\": [universe_exclude_subgroups],\n",
    "    \"q_hat\": [q_hat],\n",
    "    \"coverage\": [metrics[\"coverage\"]],\n",
    "    \"avg_size\": [metrics[\"avg_size\"]],\n",
    "}"
   ]
  },
  {
   "cell_type": "code",
   "execution_count": 49,
   "id": "0d70d4b2",
   "metadata": {
    "execution": {
     "iopub.execute_input": "2025-08-19T17:59:26.474659Z",
     "iopub.status.busy": "2025-08-19T17:59:26.474262Z",
     "iopub.status.idle": "2025-08-19T17:59:26.480041Z",
     "shell.execute_reply": "2025-08-19T17:59:26.479394Z"
    },
    "papermill": {
     "duration": 0.02075,
     "end_time": "2025-08-19T17:59:26.482085",
     "exception": false,
     "start_time": "2025-08-19T17:59:26.461335",
     "status": "completed"
    },
    "tags": []
   },
   "outputs": [],
   "source": [
    "cp_metrics_df = pd.DataFrame(cp_metrics_dict)"
   ]
  },
  {
   "cell_type": "code",
   "execution_count": 50,
   "id": "b494403c",
   "metadata": {
    "execution": {
     "iopub.execute_input": "2025-08-19T17:59:26.540549Z",
     "iopub.status.busy": "2025-08-19T17:59:26.540006Z",
     "iopub.status.idle": "2025-08-19T17:59:26.556096Z",
     "shell.execute_reply": "2025-08-19T17:59:26.554862Z"
    },
    "papermill": {
     "duration": 0.044855,
     "end_time": "2025-08-19T17:59:26.557777",
     "exception": false,
     "start_time": "2025-08-19T17:59:26.512922",
     "status": "completed"
    },
    "tags": []
   },
   "outputs": [
    {
     "data": {
      "text/html": [
       "<div>\n",
       "<style scoped>\n",
       "    .dataframe tbody tr th:only-of-type {\n",
       "        vertical-align: middle;\n",
       "    }\n",
       "\n",
       "    .dataframe tbody tr th {\n",
       "        vertical-align: top;\n",
       "    }\n",
       "\n",
       "    .dataframe thead th {\n",
       "        text-align: right;\n",
       "    }\n",
       "</style>\n",
       "<table border=\"1\" class=\"dataframe\">\n",
       "  <thead>\n",
       "    <tr style=\"text-align: right;\">\n",
       "      <th></th>\n",
       "      <th>universe_id</th>\n",
       "      <th>universe_training_year</th>\n",
       "      <th>universe_training_size</th>\n",
       "      <th>universe_scale</th>\n",
       "      <th>universe_model</th>\n",
       "      <th>universe_exclude_features</th>\n",
       "      <th>universe_exclude_subgroups</th>\n",
       "      <th>q_hat</th>\n",
       "      <th>coverage</th>\n",
       "      <th>avg_size</th>\n",
       "    </tr>\n",
       "  </thead>\n",
       "  <tbody>\n",
       "    <tr>\n",
       "      <th>0</th>\n",
       "      <td>6f60a1a186a42b678dc122c55de1822f</td>\n",
       "      <td>2014</td>\n",
       "      <td>25k</td>\n",
       "      <td>do-not-scale</td>\n",
       "      <td>penalized_logreg</td>\n",
       "      <td>nationality-sex</td>\n",
       "      <td>keep-all</td>\n",
       "      <td>0.67565</td>\n",
       "      <td>0.912507</td>\n",
       "      <td>1.201003</td>\n",
       "    </tr>\n",
       "  </tbody>\n",
       "</table>\n",
       "</div>"
      ],
      "text/plain": [
       "                        universe_id universe_training_year  \\\n",
       "0  6f60a1a186a42b678dc122c55de1822f                   2014   \n",
       "\n",
       "  universe_training_size universe_scale    universe_model  \\\n",
       "0                    25k   do-not-scale  penalized_logreg   \n",
       "\n",
       "  universe_exclude_features universe_exclude_subgroups    q_hat  coverage  \\\n",
       "0           nationality-sex                   keep-all  0.67565  0.912507   \n",
       "\n",
       "   avg_size  \n",
       "0  1.201003  "
      ]
     },
     "execution_count": 50,
     "metadata": {},
     "output_type": "execute_result"
    }
   ],
   "source": [
    "cp_metrics_df"
   ]
  },
  {
   "cell_type": "markdown",
   "id": "ed608b0b",
   "metadata": {
    "papermill": {
     "duration": 0.01658,
     "end_time": "2025-08-19T17:59:26.591707",
     "exception": false,
     "start_time": "2025-08-19T17:59:26.575127",
     "status": "completed"
    },
    "tags": []
   },
   "source": [
    "Conditional coverage & looking at subgroups"
   ]
  },
  {
   "cell_type": "code",
   "execution_count": 51,
   "id": "8968c366",
   "metadata": {
    "execution": {
     "iopub.execute_input": "2025-08-19T17:59:26.620973Z",
     "iopub.status.busy": "2025-08-19T17:59:26.620560Z",
     "iopub.status.idle": "2025-08-19T17:59:26.921642Z",
     "shell.execute_reply": "2025-08-19T17:59:26.920462Z"
    },
    "papermill": {
     "duration": 0.319509,
     "end_time": "2025-08-19T17:59:26.925729",
     "exception": false,
     "start_time": "2025-08-19T17:59:26.606220",
     "status": "completed"
    },
    "tags": []
   },
   "outputs": [],
   "source": [
    "from fairness_multiverse.conformal import build_cp_groups\n",
    "\n",
    "cp_groups_df = build_cp_groups(pred_sets, y_true, X_test.index, org_test)"
   ]
  },
  {
   "cell_type": "code",
   "execution_count": 52,
   "id": "292ddabf",
   "metadata": {
    "execution": {
     "iopub.execute_input": "2025-08-19T17:59:26.970905Z",
     "iopub.status.busy": "2025-08-19T17:59:26.969486Z",
     "iopub.status.idle": "2025-08-19T17:59:27.847668Z",
     "shell.execute_reply": "2025-08-19T17:59:27.846450Z"
    },
    "papermill": {
     "duration": 0.899499,
     "end_time": "2025-08-19T17:59:27.849541",
     "exception": false,
     "start_time": "2025-08-19T17:59:26.950042",
     "status": "completed"
    },
    "tags": []
   },
   "outputs": [],
   "source": [
    "# Define covered = 1 if true_label is in the predicted set\n",
    "cp_groups_df['covered'] = cp_groups_df.apply(\n",
    "    lambda r: int(r['true_label'] in r['pred_set']),\n",
    "    axis=1\n",
    ")"
   ]
  },
  {
   "cell_type": "code",
   "execution_count": 53,
   "id": "3a261692",
   "metadata": {
    "execution": {
     "iopub.execute_input": "2025-08-19T17:59:27.888569Z",
     "iopub.status.busy": "2025-08-19T17:59:27.887712Z",
     "iopub.status.idle": "2025-08-19T17:59:27.906505Z",
     "shell.execute_reply": "2025-08-19T17:59:27.905782Z"
    },
    "papermill": {
     "duration": 0.03448,
     "end_time": "2025-08-19T17:59:27.907831",
     "exception": false,
     "start_time": "2025-08-19T17:59:27.873351",
     "status": "completed"
    },
    "tags": []
   },
   "outputs": [],
   "source": [
    "subgroups = ['frau1','nongerman','nongerman_male','nongerman_female']\n",
    "\n",
    "# Conditional coverage for subgroup==1\n",
    "cond_coverage = {\n",
    "    g: cp_groups_df.loc[cp_groups_df[g]==1, 'covered'].mean()\n",
    "    for g in subgroups\n",
    "}"
   ]
  },
  {
   "cell_type": "code",
   "execution_count": 54,
   "id": "894fd600",
   "metadata": {
    "execution": {
     "iopub.execute_input": "2025-08-19T17:59:27.934520Z",
     "iopub.status.busy": "2025-08-19T17:59:27.934050Z",
     "iopub.status.idle": "2025-08-19T17:59:27.941309Z",
     "shell.execute_reply": "2025-08-19T17:59:27.940459Z"
    },
    "papermill": {
     "duration": 0.029574,
     "end_time": "2025-08-19T17:59:27.950468",
     "exception": false,
     "start_time": "2025-08-19T17:59:27.920894",
     "status": "completed"
    },
    "tags": []
   },
   "outputs": [
    {
     "data": {
      "text/plain": [
       "{'frau1': 0.9114705485914544,\n",
       " 'nongerman': 0.9292090046595183,\n",
       " 'nongerman_male': 0.9428082500225164,\n",
       " 'nongerman_female': 0.9067064083457526}"
      ]
     },
     "execution_count": 54,
     "metadata": {},
     "output_type": "execute_result"
    }
   ],
   "source": [
    "cond_coverage"
   ]
  },
  {
   "cell_type": "code",
   "execution_count": 55,
   "id": "942895c7",
   "metadata": {
    "execution": {
     "iopub.execute_input": "2025-08-19T17:59:27.997094Z",
     "iopub.status.busy": "2025-08-19T17:59:27.991672Z",
     "iopub.status.idle": "2025-08-19T17:59:28.014866Z",
     "shell.execute_reply": "2025-08-19T17:59:28.014173Z"
    },
    "papermill": {
     "duration": 0.039857,
     "end_time": "2025-08-19T17:59:28.017348",
     "exception": false,
     "start_time": "2025-08-19T17:59:27.977491",
     "status": "completed"
    },
    "tags": []
   },
   "outputs": [],
   "source": [
    "for subgroup, cov in cond_coverage.items():\n",
    "    cp_metrics_df[f\"cov_{subgroup}\"] = cov"
   ]
  },
  {
   "cell_type": "code",
   "execution_count": 56,
   "id": "3970120f",
   "metadata": {
    "execution": {
     "iopub.execute_input": "2025-08-19T17:59:28.052423Z",
     "iopub.status.busy": "2025-08-19T17:59:28.052136Z",
     "iopub.status.idle": "2025-08-19T17:59:28.072933Z",
     "shell.execute_reply": "2025-08-19T17:59:28.071054Z"
    },
    "papermill": {
     "duration": 0.038307,
     "end_time": "2025-08-19T17:59:28.076839",
     "exception": false,
     "start_time": "2025-08-19T17:59:28.038532",
     "status": "completed"
    },
    "tags": []
   },
   "outputs": [
    {
     "data": {
      "text/html": [
       "<div>\n",
       "<style scoped>\n",
       "    .dataframe tbody tr th:only-of-type {\n",
       "        vertical-align: middle;\n",
       "    }\n",
       "\n",
       "    .dataframe tbody tr th {\n",
       "        vertical-align: top;\n",
       "    }\n",
       "\n",
       "    .dataframe thead th {\n",
       "        text-align: right;\n",
       "    }\n",
       "</style>\n",
       "<table border=\"1\" class=\"dataframe\">\n",
       "  <thead>\n",
       "    <tr style=\"text-align: right;\">\n",
       "      <th></th>\n",
       "      <th>universe_id</th>\n",
       "      <th>universe_training_year</th>\n",
       "      <th>universe_training_size</th>\n",
       "      <th>universe_scale</th>\n",
       "      <th>universe_model</th>\n",
       "      <th>universe_exclude_features</th>\n",
       "      <th>universe_exclude_subgroups</th>\n",
       "      <th>q_hat</th>\n",
       "      <th>coverage</th>\n",
       "      <th>avg_size</th>\n",
       "      <th>cov_frau1</th>\n",
       "      <th>cov_nongerman</th>\n",
       "      <th>cov_nongerman_male</th>\n",
       "      <th>cov_nongerman_female</th>\n",
       "    </tr>\n",
       "  </thead>\n",
       "  <tbody>\n",
       "    <tr>\n",
       "      <th>0</th>\n",
       "      <td>6f60a1a186a42b678dc122c55de1822f</td>\n",
       "      <td>2014</td>\n",
       "      <td>25k</td>\n",
       "      <td>do-not-scale</td>\n",
       "      <td>penalized_logreg</td>\n",
       "      <td>nationality-sex</td>\n",
       "      <td>keep-all</td>\n",
       "      <td>0.67565</td>\n",
       "      <td>0.912507</td>\n",
       "      <td>1.201003</td>\n",
       "      <td>0.911471</td>\n",
       "      <td>0.929209</td>\n",
       "      <td>0.942808</td>\n",
       "      <td>0.906706</td>\n",
       "    </tr>\n",
       "  </tbody>\n",
       "</table>\n",
       "</div>"
      ],
      "text/plain": [
       "                        universe_id universe_training_year  \\\n",
       "0  6f60a1a186a42b678dc122c55de1822f                   2014   \n",
       "\n",
       "  universe_training_size universe_scale    universe_model  \\\n",
       "0                    25k   do-not-scale  penalized_logreg   \n",
       "\n",
       "  universe_exclude_features universe_exclude_subgroups    q_hat  coverage  \\\n",
       "0           nationality-sex                   keep-all  0.67565  0.912507   \n",
       "\n",
       "   avg_size  cov_frau1  cov_nongerman  cov_nongerman_male  \\\n",
       "0  1.201003   0.911471       0.929209            0.942808   \n",
       "\n",
       "   cov_nongerman_female  \n",
       "0              0.906706  "
      ]
     },
     "execution_count": 56,
     "metadata": {},
     "output_type": "execute_result"
    }
   ],
   "source": [
    "cp_metrics_df"
   ]
  },
  {
   "cell_type": "markdown",
   "id": "3fc519cc",
   "metadata": {
    "papermill": {
     "duration": 0.014188,
     "end_time": "2025-08-19T17:59:28.113205",
     "exception": false,
     "start_time": "2025-08-19T17:59:28.099017",
     "status": "completed"
    },
    "tags": []
   },
   "source": [
    "# (Fairness) Metrics"
   ]
  },
  {
   "cell_type": "code",
   "execution_count": 57,
   "id": "a2e5e155",
   "metadata": {
    "execution": {
     "iopub.execute_input": "2025-08-19T17:59:28.140430Z",
     "iopub.status.busy": "2025-08-19T17:59:28.139729Z",
     "iopub.status.idle": "2025-08-19T17:59:28.169953Z",
     "shell.execute_reply": "2025-08-19T17:59:28.168853Z"
    },
    "papermill": {
     "duration": 0.04721,
     "end_time": "2025-08-19T17:59:28.172728",
     "exception": false,
     "start_time": "2025-08-19T17:59:28.125518",
     "status": "completed"
    },
    "tags": []
   },
   "outputs": [],
   "source": [
    "colname_to_bin = \"maxdeutsch1\"\n",
    "majority_value = org_train[colname_to_bin].mode()[0]\n",
    "\n",
    "org_test[\"majmin\"] = np.where(org_test[colname_to_bin] == majority_value, \"majority\", \"minority\")"
   ]
  },
  {
   "cell_type": "code",
   "execution_count": 58,
   "id": "17e3e4d5",
   "metadata": {
    "execution": {
     "iopub.execute_input": "2025-08-19T17:59:28.213902Z",
     "iopub.status.busy": "2025-08-19T17:59:28.213222Z",
     "iopub.status.idle": "2025-08-19T17:59:30.114792Z",
     "shell.execute_reply": "2025-08-19T17:59:30.113557Z"
    },
    "papermill": {
     "duration": 1.918839,
     "end_time": "2025-08-19T17:59:30.116651",
     "exception": false,
     "start_time": "2025-08-19T17:59:28.197812",
     "status": "completed"
    },
    "tags": []
   },
   "outputs": [],
   "source": [
    "example_universe = universe.copy()\n",
    "example_universe[\"cutoff\"] = example_universe[\"cutoff\"][0]\n",
    "example_universe[\"eval_fairness_grouping\"] = example_universe[\"eval_fairness_grouping\"][0]\n",
    "fairness_dict, metric_frame = universe_analysis.compute_metrics(\n",
    "    example_universe,\n",
    "    y_pred_prob=probs_test,\n",
    "    y_test=y_true,\n",
    "    org_test=org_test,\n",
    ")"
   ]
  },
  {
   "cell_type": "markdown",
   "id": "1fb7a0e9",
   "metadata": {
    "papermill": {
     "duration": 0.019114,
     "end_time": "2025-08-19T17:59:30.156541",
     "exception": false,
     "start_time": "2025-08-19T17:59:30.137427",
     "status": "completed"
    },
    "tags": []
   },
   "source": [
    "# Overall"
   ]
  },
  {
   "cell_type": "markdown",
   "id": "be1784b1",
   "metadata": {
    "papermill": {
     "duration": 0.012773,
     "end_time": "2025-08-19T17:59:30.181645",
     "exception": false,
     "start_time": "2025-08-19T17:59:30.168872",
     "status": "completed"
    },
    "tags": []
   },
   "source": [
    "Main fairness target: Equalized Odds. Seems to be a better fit than equal opportunity, since we're not only interested in Y = 1. Seems to be a better fit than demographic parity, since we also care about accuracy, not just equal distribution of preds.\n",
    "\n",
    "Pick column for computation of fairness metrics\n",
    "\n",
    "Performance\n",
    "Overall performance measures, most interesting in relation to the measures split by group below"
   ]
  },
  {
   "cell_type": "code",
   "execution_count": 59,
   "id": "b7672bee",
   "metadata": {
    "execution": {
     "iopub.execute_input": "2025-08-19T17:59:30.209350Z",
     "iopub.status.busy": "2025-08-19T17:59:30.208891Z",
     "iopub.status.idle": "2025-08-19T17:59:30.217423Z",
     "shell.execute_reply": "2025-08-19T17:59:30.216681Z"
    },
    "papermill": {
     "duration": 0.025076,
     "end_time": "2025-08-19T17:59:30.218895",
     "exception": false,
     "start_time": "2025-08-19T17:59:30.193819",
     "status": "completed"
    },
    "tags": []
   },
   "outputs": [
    {
     "data": {
      "text/plain": [
       "accuracy                   0.217155\n",
       "balanced accuracy          0.532487\n",
       "f1                         0.238685\n",
       "precision                  0.136353\n",
       "false positive rate        0.891665\n",
       "false negative rate        0.043361\n",
       "selection rate             0.900000\n",
       "count                  89710.000000\n",
       "dtype: float64"
      ]
     },
     "execution_count": 59,
     "metadata": {},
     "output_type": "execute_result"
    }
   ],
   "source": [
    "metric_frame.overall"
   ]
  },
  {
   "cell_type": "markdown",
   "id": "d93333c9",
   "metadata": {
    "papermill": {
     "duration": 0.012359,
     "end_time": "2025-08-19T17:59:30.245504",
     "exception": false,
     "start_time": "2025-08-19T17:59:30.233145",
     "status": "completed"
    },
    "tags": []
   },
   "source": [
    "By Group"
   ]
  },
  {
   "cell_type": "code",
   "execution_count": 60,
   "id": "52256966",
   "metadata": {
    "execution": {
     "iopub.execute_input": "2025-08-19T17:59:30.273591Z",
     "iopub.status.busy": "2025-08-19T17:59:30.273198Z",
     "iopub.status.idle": "2025-08-19T17:59:30.286999Z",
     "shell.execute_reply": "2025-08-19T17:59:30.286249Z"
    },
    "papermill": {
     "duration": 0.029596,
     "end_time": "2025-08-19T17:59:30.288289",
     "exception": false,
     "start_time": "2025-08-19T17:59:30.258693",
     "status": "completed"
    },
    "tags": []
   },
   "outputs": [
    {
     "data": {
      "text/html": [
       "<div>\n",
       "<style scoped>\n",
       "    .dataframe tbody tr th:only-of-type {\n",
       "        vertical-align: middle;\n",
       "    }\n",
       "\n",
       "    .dataframe tbody tr th {\n",
       "        vertical-align: top;\n",
       "    }\n",
       "\n",
       "    .dataframe thead th {\n",
       "        text-align: right;\n",
       "    }\n",
       "</style>\n",
       "<table border=\"1\" class=\"dataframe\">\n",
       "  <thead>\n",
       "    <tr style=\"text-align: right;\">\n",
       "      <th></th>\n",
       "      <th>accuracy</th>\n",
       "      <th>balanced accuracy</th>\n",
       "      <th>f1</th>\n",
       "      <th>precision</th>\n",
       "      <th>false positive rate</th>\n",
       "      <th>false negative rate</th>\n",
       "      <th>selection rate</th>\n",
       "      <th>count</th>\n",
       "    </tr>\n",
       "    <tr>\n",
       "      <th>majmin</th>\n",
       "      <th></th>\n",
       "      <th></th>\n",
       "      <th></th>\n",
       "      <th></th>\n",
       "      <th></th>\n",
       "      <th></th>\n",
       "      <th></th>\n",
       "      <th></th>\n",
       "    </tr>\n",
       "  </thead>\n",
       "  <tbody>\n",
       "    <tr>\n",
       "      <th>majority</th>\n",
       "      <td>0.238962</td>\n",
       "      <td>0.539887</td>\n",
       "      <td>0.247846</td>\n",
       "      <td>0.142538</td>\n",
       "      <td>0.869132</td>\n",
       "      <td>0.051094</td>\n",
       "      <td>0.879673</td>\n",
       "      <td>69170.0</td>\n",
       "    </tr>\n",
       "    <tr>\n",
       "      <th>minority</th>\n",
       "      <td>0.143720</td>\n",
       "      <td>0.510192</td>\n",
       "      <td>0.209883</td>\n",
       "      <td>0.117434</td>\n",
       "      <td>0.966102</td>\n",
       "      <td>0.013514</td>\n",
       "      <td>0.968452</td>\n",
       "      <td>20540.0</td>\n",
       "    </tr>\n",
       "  </tbody>\n",
       "</table>\n",
       "</div>"
      ],
      "text/plain": [
       "          accuracy  balanced accuracy        f1  precision  \\\n",
       "majmin                                                       \n",
       "majority  0.238962           0.539887  0.247846   0.142538   \n",
       "minority  0.143720           0.510192  0.209883   0.117434   \n",
       "\n",
       "          false positive rate  false negative rate  selection rate    count  \n",
       "majmin                                                                       \n",
       "majority             0.869132             0.051094        0.879673  69170.0  \n",
       "minority             0.966102             0.013514        0.968452  20540.0  "
      ]
     },
     "execution_count": 60,
     "metadata": {},
     "output_type": "execute_result"
    }
   ],
   "source": [
    "metric_frame.by_group"
   ]
  },
  {
   "cell_type": "code",
   "execution_count": 61,
   "id": "6e6c20ae",
   "metadata": {
    "execution": {
     "iopub.execute_input": "2025-08-19T17:59:30.323563Z",
     "iopub.status.busy": "2025-08-19T17:59:30.323178Z",
     "iopub.status.idle": "2025-08-19T17:59:32.269432Z",
     "shell.execute_reply": "2025-08-19T17:59:32.268533Z"
    },
    "papermill": {
     "duration": 1.963614,
     "end_time": "2025-08-19T17:59:32.273035",
     "exception": false,
     "start_time": "2025-08-19T17:59:30.309421",
     "status": "completed"
    },
    "tags": []
   },
   "outputs": [
    {
     "data": {
      "text/plain": [
       "array([[<Axes: title={'center': 'accuracy'}, xlabel='majmin'>,\n",
       "        <Axes: title={'center': 'balanced accuracy'}, xlabel='majmin'>,\n",
       "        <Axes: title={'center': 'f1'}, xlabel='majmin'>],\n",
       "       [<Axes: title={'center': 'precision'}, xlabel='majmin'>,\n",
       "        <Axes: title={'center': 'false positive rate'}, xlabel='majmin'>,\n",
       "        <Axes: title={'center': 'false negative rate'}, xlabel='majmin'>],\n",
       "       [<Axes: title={'center': 'selection rate'}, xlabel='majmin'>,\n",
       "        <Axes: title={'center': 'count'}, xlabel='majmin'>,\n",
       "        <Axes: xlabel='majmin'>]], dtype=object)"
      ]
     },
     "execution_count": 61,
     "metadata": {},
     "output_type": "execute_result"
    },
    {
     "data": {
      "image/png": "[encoded data removed]",
      "text/plain": [
       "<Figure size 1200x800 with 9 Axes>"
      ]
     },
     "metadata": {},
     "output_type": "display_data"
    }
   ],
   "source": [
    "# In a graphic\n",
    "metric_frame.by_group.plot.bar(\n",
    "    subplots=True,\n",
    "    layout=[3, 3],\n",
    "    legend=False,\n",
    "    figsize=[12, 8],\n",
    "    title=\"Show all metrics\",\n",
    ")"
   ]
  },
  {
   "cell_type": "markdown",
   "id": "b2e433ae",
   "metadata": {
    "papermill": {
     "duration": 0.013835,
     "end_time": "2025-08-19T17:59:32.311099",
     "exception": false,
     "start_time": "2025-08-19T17:59:32.297264",
     "status": "completed"
    },
    "tags": []
   },
   "source": [
    "# Final Output"
   ]
  },
  {
   "cell_type": "code",
   "execution_count": 62,
   "id": "3871301e",
   "metadata": {
    "execution": {
     "iopub.execute_input": "2025-08-19T17:59:32.340595Z",
     "iopub.status.busy": "2025-08-19T17:59:32.339725Z",
     "iopub.status.idle": "2025-08-19T17:59:32.348865Z",
     "shell.execute_reply": "2025-08-19T17:59:32.348286Z"
    },
    "papermill": {
     "duration": 0.028145,
     "end_time": "2025-08-19T17:59:32.352914",
     "exception": false,
     "start_time": "2025-08-19T17:59:32.324769",
     "status": "completed"
    },
    "tags": []
   },
   "outputs": [
    {
     "data": {
      "text/plain": [
       "4"
      ]
     },
     "execution_count": 62,
     "metadata": {},
     "output_type": "execute_result"
    }
   ],
   "source": [
    "sub_universes = universe_analysis.generate_sub_universes()\n",
    "len(sub_universes)"
   ]
  },
  {
   "cell_type": "code",
   "execution_count": 63,
   "id": "d9cfdaca",
   "metadata": {
    "execution": {
     "iopub.execute_input": "2025-08-19T17:59:32.388321Z",
     "iopub.status.busy": "2025-08-19T17:59:32.386411Z",
     "iopub.status.idle": "2025-08-19T17:59:32.408183Z",
     "shell.execute_reply": "2025-08-19T17:59:32.406385Z"
    },
    "papermill": {
     "duration": 0.039718,
     "end_time": "2025-08-19T17:59:32.410256",
     "exception": false,
     "start_time": "2025-08-19T17:59:32.370538",
     "status": "completed"
    },
    "tags": []
   },
   "outputs": [],
   "source": [
    "def filter_sub_universe_data(sub_universe, org_test):\n",
    "    # Keep all rows — no filtering\n",
    "    keep_rows_mask = np.ones(org_test.shape[0], dtype=bool)\n",
    "\n",
    "    print(f\"[INFO] Keeping all rows: {keep_rows_mask.sum()} rows retained.\")\n",
    "    return keep_rows_mask"
   ]
  },
  {
   "cell_type": "code",
   "execution_count": 64,
   "id": "2bc31ac1",
   "metadata": {
    "execution": {
     "iopub.execute_input": "2025-08-19T17:59:32.462952Z",
     "iopub.status.busy": "2025-08-19T17:59:32.458592Z",
     "iopub.status.idle": "2025-08-19T17:59:39.419936Z",
     "shell.execute_reply": "2025-08-19T17:59:39.418883Z"
    },
    "papermill": {
     "duration": 6.997696,
     "end_time": "2025-08-19T17:59:39.423029",
     "exception": false,
     "start_time": "2025-08-19T17:59:32.425333",
     "status": "completed"
    },
    "tags": []
   },
   "outputs": [
    {
     "name": "stdout",
     "output_type": "stream",
     "text": [
      "Stopping execution_time clock.\n",
      "[INFO] Keeping all rows: 89710 rows retained.\n"
     ]
    },
    {
     "name": "stdout",
     "output_type": "stream",
     "text": [
      "[INFO] Keeping all rows: 89710 rows retained.\n"
     ]
    },
    {
     "name": "stdout",
     "output_type": "stream",
     "text": [
      "[INFO] Keeping all rows: 89710 rows retained.\n"
     ]
    },
    {
     "name": "stdout",
     "output_type": "stream",
     "text": [
      "[INFO] Keeping all rows: 89710 rows retained.\n"
     ]
    },
    {
     "data": {
      "text/html": [
       "<div>\n",
       "<style scoped>\n",
       "    .dataframe tbody tr th:only-of-type {\n",
       "        vertical-align: middle;\n",
       "    }\n",
       "\n",
       "    .dataframe tbody tr th {\n",
       "        vertical-align: top;\n",
       "    }\n",
       "\n",
       "    .dataframe thead th {\n",
       "        text-align: right;\n",
       "    }\n",
       "</style>\n",
       "<table border=\"1\" class=\"dataframe\">\n",
       "  <thead>\n",
       "    <tr style=\"text-align: right;\">\n",
       "      <th></th>\n",
       "      <th>run_no</th>\n",
       "      <th>universe_id</th>\n",
       "      <th>universe_settings</th>\n",
       "      <th>execution_time</th>\n",
       "      <th>test_size_n</th>\n",
       "      <th>test_size_frac</th>\n",
       "      <th>fair_main_equalized_odds_difference</th>\n",
       "      <th>fair_main_equalized_odds_ratio</th>\n",
       "      <th>fair_main_demographic_parity_difference</th>\n",
       "      <th>fair_main_demographic_parity_ratio</th>\n",
       "      <th>...</th>\n",
       "      <th>perf_grp_precision_0</th>\n",
       "      <th>perf_grp_precision_1</th>\n",
       "      <th>perf_grp_false positive rate_0</th>\n",
       "      <th>perf_grp_false positive rate_1</th>\n",
       "      <th>perf_grp_false negative rate_0</th>\n",
       "      <th>perf_grp_false negative rate_1</th>\n",
       "      <th>perf_grp_selection rate_0</th>\n",
       "      <th>perf_grp_selection rate_1</th>\n",
       "      <th>perf_grp_count_0</th>\n",
       "      <th>perf_grp_count_1</th>\n",
       "    </tr>\n",
       "  </thead>\n",
       "  <tbody>\n",
       "    <tr>\n",
       "      <th>0</th>\n",
       "      <td>3</td>\n",
       "      <td>6f60a1a186a42b678dc122c55de1822f</td>\n",
       "      <td>{\"cutoff\": \"quantile_0.1\", \"eval_fairness_grou...</td>\n",
       "      <td>22.164662</td>\n",
       "      <td>89710</td>\n",
       "      <td>1.0</td>\n",
       "      <td>0.096970</td>\n",
       "      <td>0.899628</td>\n",
       "      <td>0.088779</td>\n",
       "      <td>0.908329</td>\n",
       "      <td>...</td>\n",
       "      <td>NaN</td>\n",
       "      <td>NaN</td>\n",
       "      <td>NaN</td>\n",
       "      <td>NaN</td>\n",
       "      <td>NaN</td>\n",
       "      <td>NaN</td>\n",
       "      <td>NaN</td>\n",
       "      <td>NaN</td>\n",
       "      <td>NaN</td>\n",
       "      <td>NaN</td>\n",
       "    </tr>\n",
       "    <tr>\n",
       "      <th>0</th>\n",
       "      <td>3</td>\n",
       "      <td>6f60a1a186a42b678dc122c55de1822f</td>\n",
       "      <td>{\"cutoff\": \"quantile_0.1\", \"eval_fairness_grou...</td>\n",
       "      <td>22.164662</td>\n",
       "      <td>89710</td>\n",
       "      <td>1.0</td>\n",
       "      <td>0.096970</td>\n",
       "      <td>0.899628</td>\n",
       "      <td>0.088779</td>\n",
       "      <td>0.908329</td>\n",
       "      <td>...</td>\n",
       "      <td>0.117434</td>\n",
       "      <td>0.142538</td>\n",
       "      <td>0.966102</td>\n",
       "      <td>0.869132</td>\n",
       "      <td>0.013514</td>\n",
       "      <td>0.051094</td>\n",
       "      <td>0.968452</td>\n",
       "      <td>0.879673</td>\n",
       "      <td>20540.0</td>\n",
       "      <td>69170.0</td>\n",
       "    </tr>\n",
       "    <tr>\n",
       "      <th>0</th>\n",
       "      <td>3</td>\n",
       "      <td>6f60a1a186a42b678dc122c55de1822f</td>\n",
       "      <td>{\"cutoff\": \"quantile_0.25\", \"eval_fairness_gro...</td>\n",
       "      <td>22.164662</td>\n",
       "      <td>89710</td>\n",
       "      <td>1.0</td>\n",
       "      <td>0.213179</td>\n",
       "      <td>0.761430</td>\n",
       "      <td>0.195371</td>\n",
       "      <td>0.783074</td>\n",
       "      <td>...</td>\n",
       "      <td>NaN</td>\n",
       "      <td>NaN</td>\n",
       "      <td>NaN</td>\n",
       "      <td>NaN</td>\n",
       "      <td>NaN</td>\n",
       "      <td>NaN</td>\n",
       "      <td>NaN</td>\n",
       "      <td>NaN</td>\n",
       "      <td>NaN</td>\n",
       "      <td>NaN</td>\n",
       "    </tr>\n",
       "    <tr>\n",
       "      <th>0</th>\n",
       "      <td>3</td>\n",
       "      <td>6f60a1a186a42b678dc122c55de1822f</td>\n",
       "      <td>{\"cutoff\": \"quantile_0.25\", \"eval_fairness_gro...</td>\n",
       "      <td>22.164662</td>\n",
       "      <td>89710</td>\n",
       "      <td>1.0</td>\n",
       "      <td>0.213179</td>\n",
       "      <td>0.761430</td>\n",
       "      <td>0.195371</td>\n",
       "      <td>0.783074</td>\n",
       "      <td>...</td>\n",
       "      <td>0.122223</td>\n",
       "      <td>0.162741</td>\n",
       "      <td>0.893573</td>\n",
       "      <td>0.680393</td>\n",
       "      <td>0.045186</td>\n",
       "      <td>0.131400</td>\n",
       "      <td>0.900633</td>\n",
       "      <td>0.705262</td>\n",
       "      <td>20540.0</td>\n",
       "      <td>69170.0</td>\n",
       "    </tr>\n",
       "  </tbody>\n",
       "</table>\n",
       "<p>4 rows × 50 columns</p>\n",
       "</div>"
      ],
      "text/plain": [
       "  run_no                       universe_id  \\\n",
       "0      3  6f60a1a186a42b678dc122c55de1822f   \n",
       "0      3  6f60a1a186a42b678dc122c55de1822f   \n",
       "0      3  6f60a1a186a42b678dc122c55de1822f   \n",
       "0      3  6f60a1a186a42b678dc122c55de1822f   \n",
       "\n",
       "                                   universe_settings  execution_time  \\\n",
       "0  {\"cutoff\": \"quantile_0.1\", \"eval_fairness_grou...       22.164662   \n",
       "0  {\"cutoff\": \"quantile_0.1\", \"eval_fairness_grou...       22.164662   \n",
       "0  {\"cutoff\": \"quantile_0.25\", \"eval_fairness_gro...       22.164662   \n",
       "0  {\"cutoff\": \"quantile_0.25\", \"eval_fairness_gro...       22.164662   \n",
       "\n",
       "   test_size_n  test_size_frac  fair_main_equalized_odds_difference  \\\n",
       "0        89710             1.0                             0.096970   \n",
       "0        89710             1.0                             0.096970   \n",
       "0        89710             1.0                             0.213179   \n",
       "0        89710             1.0                             0.213179   \n",
       "\n",
       "   fair_main_equalized_odds_ratio  fair_main_demographic_parity_difference  \\\n",
       "0                        0.899628                                 0.088779   \n",
       "0                        0.899628                                 0.088779   \n",
       "0                        0.761430                                 0.195371   \n",
       "0                        0.761430                                 0.195371   \n",
       "\n",
       "   fair_main_demographic_parity_ratio  ...  perf_grp_precision_0  \\\n",
       "0                            0.908329  ...                   NaN   \n",
       "0                            0.908329  ...              0.117434   \n",
       "0                            0.783074  ...                   NaN   \n",
       "0                            0.783074  ...              0.122223   \n",
       "\n",
       "   perf_grp_precision_1  perf_grp_false positive rate_0  \\\n",
       "0                   NaN                             NaN   \n",
       "0              0.142538                        0.966102   \n",
       "0                   NaN                             NaN   \n",
       "0              0.162741                        0.893573   \n",
       "\n",
       "   perf_grp_false positive rate_1  perf_grp_false negative rate_0  \\\n",
       "0                             NaN                             NaN   \n",
       "0                        0.869132                        0.013514   \n",
       "0                             NaN                             NaN   \n",
       "0                        0.680393                        0.045186   \n",
       "\n",
       "   perf_grp_false negative rate_1  perf_grp_selection rate_0  \\\n",
       "0                             NaN                        NaN   \n",
       "0                        0.051094                   0.968452   \n",
       "0                             NaN                        NaN   \n",
       "0                        0.131400                   0.900633   \n",
       "\n",
       "   perf_grp_selection rate_1  perf_grp_count_0  perf_grp_count_1  \n",
       "0                        NaN               NaN               NaN  \n",
       "0                   0.879673           20540.0           69170.0  \n",
       "0                        NaN               NaN               NaN  \n",
       "0                   0.705262           20540.0           69170.0  \n",
       "\n",
       "[4 rows x 50 columns]"
      ]
     },
     "execution_count": 64,
     "metadata": {},
     "output_type": "execute_result"
    }
   ],
   "source": [
    "final_output = universe_analysis.generate_final_output(\n",
    "    y_pred_prob=probs_test,\n",
    "    y_test=y_true,\n",
    "    org_test=org_test,\n",
    "    filter_data=filter_sub_universe_data,\n",
    "    cp_metrics_df=cp_metrics_df,\n",
    "    save=True,\n",
    ")\n",
    "final_output"
   ]
  },
  {
   "cell_type": "code",
   "execution_count": null,
   "id": "8b80a1ff",
   "metadata": {
    "papermill": {
     "duration": 0.015054,
     "end_time": "2025-08-19T17:59:39.471070",
     "exception": false,
     "start_time": "2025-08-19T17:59:39.456016",
     "status": "completed"
    },
    "tags": []
   },
   "outputs": [],
   "source": []
  },
  {
   "cell_type": "code",
   "execution_count": null,
   "id": "275c9fad",
   "metadata": {
    "papermill": {
     "duration": 0.014431,
     "end_time": "2025-08-19T17:59:39.499968",
     "exception": false,
     "start_time": "2025-08-19T17:59:39.485537",
     "status": "completed"
    },
    "tags": []
   },
   "outputs": [],
   "source": []
  }
 ],
 "metadata": {
  "celltoolbar": "Tags",
  "kernelspec": {
   "display_name": "Python (CMA Fairness)",
   "language": "python",
   "name": "cma_fair_env"
  },
  "language_info": {
   "codemirror_mode": {
    "name": "ipython",
    "version": 3
   },
   "file_extension": ".py",
   "mimetype": "text/x-python",
   "name": "python",
   "nbconvert_exporter": "python",
   "pygments_lexer": "ipython3",
   "version": "3.10.12"
  },
  "papermill": {
   "default_parameters": {},
   "duration": 33.036225,
   "end_time": "2025-08-19T17:59:40.337586",
   "environment_variables": {},
   "exception": null,
   "input_path": "universe_analysis.ipynb",
   "output_path": "output/runs/3/notebooks/m_3-6f60a1a186a42b678dc122c55de1822f.ipynb",
   "parameters": {
    "output_dir": "output",
    "run_no": "3",
    "seed": "2023",
    "universe": "{\"cutoff\": [\"quantile_0.1\", \"quantile_0.25\"], \"eval_fairness_grouping\": [\"majority-minority\", \"nationality-all\"], \"exclude_features\": \"nationality-sex\", \"exclude_subgroups\": \"keep-all\", \"model\": \"penalized_logreg\", \"scale\": \"do-not-scale\", \"training_size\": \"25k\", \"training_year\": \"2014\"}",
    "universe_id": "6f60a1a186a42b678dc122c55de1822f"
   },
   "start_time": "2025-08-19T17:59:07.301361",
   "version": "2.6.0"
  }
 },
 "nbformat": 4,
 "nbformat_minor": 5
}