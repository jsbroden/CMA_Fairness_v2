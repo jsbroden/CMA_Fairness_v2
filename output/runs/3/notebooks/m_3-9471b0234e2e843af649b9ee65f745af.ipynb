{
 "cells": [
  {
   "cell_type": "markdown",
   "id": "ef23dbb3",
   "metadata": {
    "papermill": {
     "duration": 0.030433,
     "end_time": "2025-08-19T18:08:11.992586",
     "exception": false,
     "start_time": "2025-08-19T18:08:11.962153",
     "status": "completed"
    },
    "tags": []
   },
   "source": [
    "# Setup"
   ]
  },
  {
   "cell_type": "code",
   "execution_count": 1,
   "id": "0bc8e7dc",
   "metadata": {
    "execution": {
     "iopub.execute_input": "2025-08-19T18:08:12.015651Z",
     "iopub.status.busy": "2025-08-19T18:08:12.015254Z",
     "iopub.status.idle": "2025-08-19T18:08:12.029884Z",
     "shell.execute_reply": "2025-08-19T18:08:12.028660Z"
    },
    "papermill": {
     "duration": 0.032784,
     "end_time": "2025-08-19T18:08:12.037757",
     "exception": false,
     "start_time": "2025-08-19T18:08:12.004973",
     "status": "completed"
    },
    "tags": []
   },
   "outputs": [
    {
     "name": "stdout",
     "output_type": "stream",
     "text": [
      "/dss/dsshome1/0C/ra93lal2/cma/CMA_Fairness_v2\n"
     ]
    },
    {
     "name": "stderr",
     "output_type": "stream",
     "text": [
      "/dss/dsshome1/0C/ra93lal2/.local/share/virtualenvs/CMA_Fairness_v2-3j10GkSs/lib/python3.10/site-packages/IPython/core/magics/osm.py:393: UserWarning: This is now an optional IPython functionality, using bookmarks requires you to install the `pickleshare` library.\n",
      "  bkms = self.shell.db.get('bookmarks', {})\n",
      "/dss/dsshome1/0C/ra93lal2/.local/share/virtualenvs/CMA_Fairness_v2-3j10GkSs/lib/python3.10/site-packages/IPython/core/magics/osm.py:417: UserWarning: This is now an optional IPython functionality, setting dhist requires you to install the `pickleshare` library.\n",
      "  self.shell.db['dhist'] = compress_dhist(dhist)[-100:]\n"
     ]
    }
   ],
   "source": [
    "%cd ~/cma/CMA_Fairness_v2"
   ]
  },
  {
   "cell_type": "markdown",
   "id": "9d235661",
   "metadata": {
    "papermill": {
     "duration": 0.010179,
     "end_time": "2025-08-19T18:08:12.063324",
     "exception": false,
     "start_time": "2025-08-19T18:08:12.053145",
     "status": "completed"
    },
    "tags": []
   },
   "source": [
    "The following cell holds the definition of our parameters, these values can be overriden by rendering the with e.g. the following command:\n",
    "\n",
    "papermill -p alpha 0.2 -p ratio 0.3 universe_analysis.ipynb output/test_run.ipynb"
   ]
  },
  {
   "cell_type": "code",
   "execution_count": 2,
   "id": "4a789d8e",
   "metadata": {
    "execution": {
     "iopub.execute_input": "2025-08-19T18:08:12.084085Z",
     "iopub.status.busy": "2025-08-19T18:08:12.083213Z",
     "iopub.status.idle": "2025-08-19T18:08:12.089608Z",
     "shell.execute_reply": "2025-08-19T18:08:12.088584Z"
    },
    "papermill": {
     "duration": 0.018982,
     "end_time": "2025-08-19T18:08:12.091417",
     "exception": false,
     "start_time": "2025-08-19T18:08:12.072435",
     "status": "completed"
    },
    "tags": []
   },
   "outputs": [
    {
     "name": "stdout",
     "output_type": "stream",
     "text": [
      "Current working directory: /dss/dsshome1/0C/ra93lal2/cma/CMA_Fairness_v2\n"
     ]
    }
   ],
   "source": [
    "import os\n",
    "print(\"Current working directory:\", os.getcwd())"
   ]
  },
  {
   "cell_type": "code",
   "execution_count": 3,
   "id": "4132aaed",
   "metadata": {
    "execution": {
     "iopub.execute_input": "2025-08-19T18:08:12.131659Z",
     "iopub.status.busy": "2025-08-19T18:08:12.124232Z",
     "iopub.status.idle": "2025-08-19T18:08:12.138954Z",
     "shell.execute_reply": "2025-08-19T18:08:12.137845Z"
    },
    "papermill": {
     "duration": 0.039222,
     "end_time": "2025-08-19T18:08:12.140720",
     "exception": false,
     "start_time": "2025-08-19T18:08:12.101498",
     "status": "completed"
    },
    "tags": [
     "parameters"
    ]
   },
   "outputs": [],
   "source": [
    "run_no = 0\n",
    "universe_id = \"test\"\n",
    "universe = {\n",
    "    \"training_size\": \"5k\", # \"25k\", \"5k\", \"1k\"\n",
    "    \"training_year\": \"2012_14\", # \"2014\", \"2012_14\", \"2010_14\"\n",
    "    \"scale\": \"scale\", # \"scale\", \"do-not-scale\",\n",
    "    \"model\": \"elasticnet\", # \"logreg\", \"penalized_logreg\", \"rf\", \"gbm\", \"elasticnet\"\n",
    "    \"cutoff\": [\"quantile_0.15\", \"quantile_0.30\"],\n",
    "    \"exclude_features\": \"age\", # \"none\", \"nationality\", \"sex\", \"nationality-sex\", \"age\"\n",
    "    \"exclude_subgroups\": \"drop-non-german\", # \"keep-all\", \"drop-non-german\"\n",
    "    \"eval_fairness_grouping\": [\"majority-minority\", \"nationality-all\"]\n",
    "}\n",
    "\n",
    "output_dir=\"./output\"\n",
    "seed=0"
   ]
  },
  {
   "cell_type": "code",
   "execution_count": 4,
   "id": "e728810c",
   "metadata": {
    "execution": {
     "iopub.execute_input": "2025-08-19T18:08:12.181025Z",
     "iopub.status.busy": "2025-08-19T18:08:12.180641Z",
     "iopub.status.idle": "2025-08-19T18:08:12.186350Z",
     "shell.execute_reply": "2025-08-19T18:08:12.185584Z"
    },
    "papermill": {
     "duration": 0.02317,
     "end_time": "2025-08-19T18:08:12.187872",
     "exception": false,
     "start_time": "2025-08-19T18:08:12.164702",
     "status": "completed"
    },
    "tags": [
     "injected-parameters"
    ]
   },
   "outputs": [],
   "source": [
    "# Parameters\n",
    "universe_id = \"9471b0234e2e843af649b9ee65f745af\"\n",
    "run_no = \"3\"\n",
    "universe = \"{\\\"cutoff\\\": [\\\"quantile_0.1\\\", \\\"quantile_0.25\\\"], \\\"eval_fairness_grouping\\\": [\\\"majority-minority\\\", \\\"nationality-all\\\"], \\\"exclude_features\\\": \\\"sex\\\", \\\"exclude_subgroups\\\": \\\"drop-non-german\\\", \\\"model\\\": \\\"logreg\\\", \\\"scale\\\": \\\"do-not-scale\\\", \\\"training_size\\\": \\\"25k\\\", \\\"training_year\\\": \\\"2012_14\\\"}\"\n",
    "output_dir = \"output\"\n",
    "seed = \"2023\"\n"
   ]
  },
  {
   "cell_type": "code",
   "execution_count": 5,
   "id": "a5d7941f",
   "metadata": {
    "execution": {
     "iopub.execute_input": "2025-08-19T18:08:12.208980Z",
     "iopub.status.busy": "2025-08-19T18:08:12.208438Z",
     "iopub.status.idle": "2025-08-19T18:08:12.212847Z",
     "shell.execute_reply": "2025-08-19T18:08:12.212144Z"
    },
    "papermill": {
     "duration": 0.016236,
     "end_time": "2025-08-19T18:08:12.214075",
     "exception": false,
     "start_time": "2025-08-19T18:08:12.197839",
     "status": "completed"
    },
    "tags": []
   },
   "outputs": [],
   "source": [
    "import json\n",
    "if isinstance(universe, str):\n",
    "    universe = json.loads(universe)"
   ]
  },
  {
   "cell_type": "code",
   "execution_count": 6,
   "id": "7076ccb1",
   "metadata": {
    "execution": {
     "iopub.execute_input": "2025-08-19T18:08:12.235100Z",
     "iopub.status.busy": "2025-08-19T18:08:12.234587Z",
     "iopub.status.idle": "2025-08-19T18:08:12.281313Z",
     "shell.execute_reply": "2025-08-19T18:08:12.280370Z"
    },
    "papermill": {
     "duration": 0.060201,
     "end_time": "2025-08-19T18:08:12.283989",
     "exception": false,
     "start_time": "2025-08-19T18:08:12.223788",
     "status": "completed"
    },
    "tags": []
   },
   "outputs": [],
   "source": [
    "# Auto-reload the custom package\n",
    "%load_ext autoreload\n",
    "%autoreload 1\n",
    "%aimport fairness_multiverse"
   ]
  },
  {
   "cell_type": "code",
   "execution_count": 7,
   "id": "94c8eb93",
   "metadata": {
    "execution": {
     "iopub.execute_input": "2025-08-19T18:08:12.323856Z",
     "iopub.status.busy": "2025-08-19T18:08:12.322836Z",
     "iopub.status.idle": "2025-08-19T18:08:14.031541Z",
     "shell.execute_reply": "2025-08-19T18:08:14.030457Z"
    },
    "papermill": {
     "duration": 1.727894,
     "end_time": "2025-08-19T18:08:14.033195",
     "exception": false,
     "start_time": "2025-08-19T18:08:12.305301",
     "status": "completed"
    },
    "tags": []
   },
   "outputs": [],
   "source": [
    "from fairness_multiverse.universe import UniverseAnalysis\n",
    "\n",
    "universe_analysis = UniverseAnalysis(\n",
    "    run_no = run_no,\n",
    "    universe_id = universe_id,\n",
    "    universe = universe,\n",
    "    output_dir=output_dir,\n",
    ")"
   ]
  },
  {
   "cell_type": "code",
   "execution_count": 8,
   "id": "2a6381cf",
   "metadata": {
    "execution": {
     "iopub.execute_input": "2025-08-19T18:08:14.054698Z",
     "iopub.status.busy": "2025-08-19T18:08:14.053332Z",
     "iopub.status.idle": "2025-08-19T18:08:14.062885Z",
     "shell.execute_reply": "2025-08-19T18:08:14.061635Z"
    },
    "papermill": {
     "duration": 0.021854,
     "end_time": "2025-08-19T18:08:14.064458",
     "exception": false,
     "start_time": "2025-08-19T18:08:14.042604",
     "status": "completed"
    },
    "tags": []
   },
   "outputs": [
    {
     "name": "stdout",
     "output_type": "stream",
     "text": [
      "Using Seed: 2023\n"
     ]
    }
   ],
   "source": [
    "import numpy as np\n",
    "parsed_seed = int(seed)\n",
    "np.random.seed(parsed_seed)\n",
    "print(f\"Using Seed: {parsed_seed}\")"
   ]
  },
  {
   "cell_type": "markdown",
   "id": "b6e958b4",
   "metadata": {
    "papermill": {
     "duration": 0.009799,
     "end_time": "2025-08-19T18:08:14.085388",
     "exception": false,
     "start_time": "2025-08-19T18:08:14.075589",
     "status": "completed"
    },
    "tags": []
   },
   "source": [
    "# Loading Data"
   ]
  },
  {
   "cell_type": "code",
   "execution_count": 9,
   "id": "98701482",
   "metadata": {
    "execution": {
     "iopub.execute_input": "2025-08-19T18:08:14.107161Z",
     "iopub.status.busy": "2025-08-19T18:08:14.106496Z",
     "iopub.status.idle": "2025-08-19T18:08:24.218521Z",
     "shell.execute_reply": "2025-08-19T18:08:24.217655Z"
    },
    "papermill": {
     "duration": 10.124417,
     "end_time": "2025-08-19T18:08:24.219652",
     "exception": false,
     "start_time": "2025-08-19T18:08:14.095235",
     "status": "completed"
    },
    "tags": []
   },
   "outputs": [
    {
     "name": "stdout",
     "output_type": "stream",
     "text": [
      "Loading SIAB data from cache: data/siab_cached.csv.gz\n"
     ]
    },
    {
     "name": "stdout",
     "output_type": "stream",
     "text": [
      "(643690, 164)\n"
     ]
    }
   ],
   "source": [
    "from pathlib import Path\n",
    "import pandas as pd\n",
    "\n",
    "# File paths\n",
    "raw_file = Path(\"data/raw/siab.csv\")\n",
    "cache_file = Path(\"data/siab_cached.csv.gz\")\n",
    "\n",
    "# Ensure cache directory exists\n",
    "cache_file.parent.mkdir(parents=True, exist_ok=True)\n",
    "\n",
    "# Load with simple caching\n",
    "if cache_file.exists():\n",
    "    print(f\"Loading SIAB data from cache: {cache_file}\")\n",
    "    siab = pd.read_csv(cache_file, compression='gzip')\n",
    "else:\n",
    "    print(f\"Cache not found. Reading raw SIAB data: {raw_file}\")\n",
    "    siab = pd.read_csv(raw_file)\n",
    "    siab.to_csv(cache_file, index=False, compression='gzip')\n",
    "    print(f\"Cached SIAB data to: {cache_file}\")\n",
    "\n",
    "print(siab.shape)"
   ]
  },
  {
   "cell_type": "code",
   "execution_count": 10,
   "id": "058d2abb",
   "metadata": {
    "execution": {
     "iopub.execute_input": "2025-08-19T18:08:24.244606Z",
     "iopub.status.busy": "2025-08-19T18:08:24.243927Z",
     "iopub.status.idle": "2025-08-19T18:08:24.397535Z",
     "shell.execute_reply": "2025-08-19T18:08:24.396603Z"
    },
    "papermill": {
     "duration": 0.166389,
     "end_time": "2025-08-19T18:08:24.398701",
     "exception": false,
     "start_time": "2025-08-19T18:08:24.232312",
     "status": "completed"
    },
    "tags": []
   },
   "outputs": [
    {
     "data": {
      "text/html": [
       "<div>\n",
       "<style scoped>\n",
       "    .dataframe tbody tr th:only-of-type {\n",
       "        vertical-align: middle;\n",
       "    }\n",
       "\n",
       "    .dataframe tbody tr th {\n",
       "        vertical-align: top;\n",
       "    }\n",
       "\n",
       "    .dataframe thead th {\n",
       "        text-align: right;\n",
       "    }\n",
       "</style>\n",
       "<table border=\"1\" class=\"dataframe\">\n",
       "  <thead>\n",
       "    <tr style=\"text-align: right;\">\n",
       "      <th></th>\n",
       "      <th>persnr</th>\n",
       "      <th>year</th>\n",
       "      <th>nrEntry</th>\n",
       "      <th>ltue</th>\n",
       "      <th>employed_before</th>\n",
       "      <th>receipt_leh_before</th>\n",
       "      <th>receipt_lhg_before</th>\n",
       "      <th>se_before</th>\n",
       "      <th>ASU_notue_seeking_before</th>\n",
       "      <th>ASU_other_before</th>\n",
       "      <th>...</th>\n",
       "      <th>minijob_tot_dur_byage</th>\n",
       "      <th>ft_tot_dur_byage</th>\n",
       "      <th>befrist_tot_dur_byage</th>\n",
       "      <th>leih_tot_dur_byage</th>\n",
       "      <th>LHG_tot_dur_byage</th>\n",
       "      <th>LEH_tot_dur_byage</th>\n",
       "      <th>almp_tot_dur_byage</th>\n",
       "      <th>almp_aw_tot_dur_byage</th>\n",
       "      <th>se_tot_dur_byage</th>\n",
       "      <th>seeking1_tot_dur_byage</th>\n",
       "    </tr>\n",
       "  </thead>\n",
       "  <tbody>\n",
       "    <tr>\n",
       "      <th>0</th>\n",
       "      <td>7</td>\n",
       "      <td>2015</td>\n",
       "      <td>1</td>\n",
       "      <td>0</td>\n",
       "      <td>1</td>\n",
       "      <td>0</td>\n",
       "      <td>0</td>\n",
       "      <td>0</td>\n",
       "      <td>1</td>\n",
       "      <td>0</td>\n",
       "      <td>...</td>\n",
       "      <td>0.000000</td>\n",
       "      <td>0.000000</td>\n",
       "      <td>15.043478</td>\n",
       "      <td>0.000000</td>\n",
       "      <td>0.000000</td>\n",
       "      <td>0.000000</td>\n",
       "      <td>0.000000</td>\n",
       "      <td>0.000000</td>\n",
       "      <td>0.000000</td>\n",
       "      <td>0.000000</td>\n",
       "    </tr>\n",
       "    <tr>\n",
       "      <th>1</th>\n",
       "      <td>18</td>\n",
       "      <td>2010</td>\n",
       "      <td>1</td>\n",
       "      <td>1</td>\n",
       "      <td>0</td>\n",
       "      <td>0</td>\n",
       "      <td>0</td>\n",
       "      <td>0</td>\n",
       "      <td>0</td>\n",
       "      <td>0</td>\n",
       "      <td>...</td>\n",
       "      <td>0.000000</td>\n",
       "      <td>0.000000</td>\n",
       "      <td>0.000000</td>\n",
       "      <td>0.000000</td>\n",
       "      <td>0.000000</td>\n",
       "      <td>0.000000</td>\n",
       "      <td>0.000000</td>\n",
       "      <td>0.000000</td>\n",
       "      <td>0.000000</td>\n",
       "      <td>0.000000</td>\n",
       "    </tr>\n",
       "    <tr>\n",
       "      <th>2</th>\n",
       "      <td>18</td>\n",
       "      <td>2011</td>\n",
       "      <td>2</td>\n",
       "      <td>0</td>\n",
       "      <td>1</td>\n",
       "      <td>0</td>\n",
       "      <td>1</td>\n",
       "      <td>0</td>\n",
       "      <td>1</td>\n",
       "      <td>0</td>\n",
       "      <td>...</td>\n",
       "      <td>2.714286</td>\n",
       "      <td>2.714286</td>\n",
       "      <td>0.000000</td>\n",
       "      <td>0.000000</td>\n",
       "      <td>10.775510</td>\n",
       "      <td>0.000000</td>\n",
       "      <td>8.367347</td>\n",
       "      <td>0.000000</td>\n",
       "      <td>0.000000</td>\n",
       "      <td>9.836735</td>\n",
       "    </tr>\n",
       "    <tr>\n",
       "      <th>3</th>\n",
       "      <td>18</td>\n",
       "      <td>2012</td>\n",
       "      <td>3</td>\n",
       "      <td>0</td>\n",
       "      <td>1</td>\n",
       "      <td>0</td>\n",
       "      <td>1</td>\n",
       "      <td>0</td>\n",
       "      <td>1</td>\n",
       "      <td>0</td>\n",
       "      <td>...</td>\n",
       "      <td>4.200000</td>\n",
       "      <td>4.200000</td>\n",
       "      <td>0.000000</td>\n",
       "      <td>0.000000</td>\n",
       "      <td>12.100000</td>\n",
       "      <td>0.000000</td>\n",
       "      <td>9.400000</td>\n",
       "      <td>0.000000</td>\n",
       "      <td>0.000000</td>\n",
       "      <td>9.960000</td>\n",
       "    </tr>\n",
       "    <tr>\n",
       "      <th>4</th>\n",
       "      <td>18</td>\n",
       "      <td>2012</td>\n",
       "      <td>4</td>\n",
       "      <td>0</td>\n",
       "      <td>1</td>\n",
       "      <td>0</td>\n",
       "      <td>1</td>\n",
       "      <td>0</td>\n",
       "      <td>1</td>\n",
       "      <td>0</td>\n",
       "      <td>...</td>\n",
       "      <td>5.460000</td>\n",
       "      <td>5.460000</td>\n",
       "      <td>0.000000</td>\n",
       "      <td>0.000000</td>\n",
       "      <td>13.360000</td>\n",
       "      <td>0.000000</td>\n",
       "      <td>10.320000</td>\n",
       "      <td>0.000000</td>\n",
       "      <td>0.000000</td>\n",
       "      <td>10.280000</td>\n",
       "    </tr>\n",
       "    <tr>\n",
       "      <th>...</th>\n",
       "      <td>...</td>\n",
       "      <td>...</td>\n",
       "      <td>...</td>\n",
       "      <td>...</td>\n",
       "      <td>...</td>\n",
       "      <td>...</td>\n",
       "      <td>...</td>\n",
       "      <td>...</td>\n",
       "      <td>...</td>\n",
       "      <td>...</td>\n",
       "      <td>...</td>\n",
       "      <td>...</td>\n",
       "      <td>...</td>\n",
       "      <td>...</td>\n",
       "      <td>...</td>\n",
       "      <td>...</td>\n",
       "      <td>...</td>\n",
       "      <td>...</td>\n",
       "      <td>...</td>\n",
       "      <td>...</td>\n",
       "      <td>...</td>\n",
       "    </tr>\n",
       "    <tr>\n",
       "      <th>643685</th>\n",
       "      <td>1827860</td>\n",
       "      <td>2013</td>\n",
       "      <td>1</td>\n",
       "      <td>0</td>\n",
       "      <td>0</td>\n",
       "      <td>0</td>\n",
       "      <td>1</td>\n",
       "      <td>0</td>\n",
       "      <td>0</td>\n",
       "      <td>1</td>\n",
       "      <td>...</td>\n",
       "      <td>0.000000</td>\n",
       "      <td>0.000000</td>\n",
       "      <td>0.000000</td>\n",
       "      <td>0.000000</td>\n",
       "      <td>0.612903</td>\n",
       "      <td>0.000000</td>\n",
       "      <td>0.000000</td>\n",
       "      <td>0.000000</td>\n",
       "      <td>0.000000</td>\n",
       "      <td>0.000000</td>\n",
       "    </tr>\n",
       "    <tr>\n",
       "      <th>643686</th>\n",
       "      <td>1827860</td>\n",
       "      <td>2015</td>\n",
       "      <td>2</td>\n",
       "      <td>1</td>\n",
       "      <td>0</td>\n",
       "      <td>0</td>\n",
       "      <td>1</td>\n",
       "      <td>0</td>\n",
       "      <td>1</td>\n",
       "      <td>0</td>\n",
       "      <td>...</td>\n",
       "      <td>0.000000</td>\n",
       "      <td>0.000000</td>\n",
       "      <td>0.212121</td>\n",
       "      <td>0.212121</td>\n",
       "      <td>17.363636</td>\n",
       "      <td>0.000000</td>\n",
       "      <td>8.909091</td>\n",
       "      <td>0.000000</td>\n",
       "      <td>0.000000</td>\n",
       "      <td>7.121212</td>\n",
       "    </tr>\n",
       "    <tr>\n",
       "      <th>643687</th>\n",
       "      <td>1827860</td>\n",
       "      <td>2016</td>\n",
       "      <td>3</td>\n",
       "      <td>1</td>\n",
       "      <td>0</td>\n",
       "      <td>0</td>\n",
       "      <td>1</td>\n",
       "      <td>1</td>\n",
       "      <td>0</td>\n",
       "      <td>1</td>\n",
       "      <td>...</td>\n",
       "      <td>0.000000</td>\n",
       "      <td>0.000000</td>\n",
       "      <td>0.294118</td>\n",
       "      <td>0.205882</td>\n",
       "      <td>34.705882</td>\n",
       "      <td>0.000000</td>\n",
       "      <td>10.352941</td>\n",
       "      <td>1.705882</td>\n",
       "      <td>1.705882</td>\n",
       "      <td>23.911765</td>\n",
       "    </tr>\n",
       "    <tr>\n",
       "      <th>643688</th>\n",
       "      <td>1827869</td>\n",
       "      <td>2013</td>\n",
       "      <td>1</td>\n",
       "      <td>1</td>\n",
       "      <td>1</td>\n",
       "      <td>0</td>\n",
       "      <td>0</td>\n",
       "      <td>0</td>\n",
       "      <td>1</td>\n",
       "      <td>0</td>\n",
       "      <td>...</td>\n",
       "      <td>0.000000</td>\n",
       "      <td>0.000000</td>\n",
       "      <td>0.000000</td>\n",
       "      <td>0.000000</td>\n",
       "      <td>0.000000</td>\n",
       "      <td>0.525424</td>\n",
       "      <td>0.000000</td>\n",
       "      <td>0.000000</td>\n",
       "      <td>0.000000</td>\n",
       "      <td>0.000000</td>\n",
       "    </tr>\n",
       "    <tr>\n",
       "      <th>643689</th>\n",
       "      <td>1827869</td>\n",
       "      <td>2014</td>\n",
       "      <td>2</td>\n",
       "      <td>0</td>\n",
       "      <td>0</td>\n",
       "      <td>1</td>\n",
       "      <td>0</td>\n",
       "      <td>0</td>\n",
       "      <td>1</td>\n",
       "      <td>0</td>\n",
       "      <td>...</td>\n",
       "      <td>0.000000</td>\n",
       "      <td>0.666667</td>\n",
       "      <td>0.666667</td>\n",
       "      <td>0.000000</td>\n",
       "      <td>0.000000</td>\n",
       "      <td>8.950000</td>\n",
       "      <td>1.033333</td>\n",
       "      <td>0.083333</td>\n",
       "      <td>0.083333</td>\n",
       "      <td>8.133333</td>\n",
       "    </tr>\n",
       "  </tbody>\n",
       "</table>\n",
       "<p>643690 rows × 164 columns</p>\n",
       "</div>"
      ],
      "text/plain": [
       "         persnr  year  nrEntry  ltue  employed_before  receipt_leh_before  \\\n",
       "0             7  2015        1     0                1                   0   \n",
       "1            18  2010        1     1                0                   0   \n",
       "2            18  2011        2     0                1                   0   \n",
       "3            18  2012        3     0                1                   0   \n",
       "4            18  2012        4     0                1                   0   \n",
       "...         ...   ...      ...   ...              ...                 ...   \n",
       "643685  1827860  2013        1     0                0                   0   \n",
       "643686  1827860  2015        2     1                0                   0   \n",
       "643687  1827860  2016        3     1                0                   0   \n",
       "643688  1827869  2013        1     1                1                   0   \n",
       "643689  1827869  2014        2     0                0                   1   \n",
       "\n",
       "        receipt_lhg_before  se_before  ASU_notue_seeking_before  \\\n",
       "0                        0          0                         1   \n",
       "1                        0          0                         0   \n",
       "2                        1          0                         1   \n",
       "3                        1          0                         1   \n",
       "4                        1          0                         1   \n",
       "...                    ...        ...                       ...   \n",
       "643685                   1          0                         0   \n",
       "643686                   1          0                         1   \n",
       "643687                   1          1                         0   \n",
       "643688                   0          0                         1   \n",
       "643689                   0          0                         1   \n",
       "\n",
       "        ASU_other_before  ...  minijob_tot_dur_byage  ft_tot_dur_byage  \\\n",
       "0                      0  ...               0.000000          0.000000   \n",
       "1                      0  ...               0.000000          0.000000   \n",
       "2                      0  ...               2.714286          2.714286   \n",
       "3                      0  ...               4.200000          4.200000   \n",
       "4                      0  ...               5.460000          5.460000   \n",
       "...                  ...  ...                    ...               ...   \n",
       "643685                 1  ...               0.000000          0.000000   \n",
       "643686                 0  ...               0.000000          0.000000   \n",
       "643687                 1  ...               0.000000          0.000000   \n",
       "643688                 0  ...               0.000000          0.000000   \n",
       "643689                 0  ...               0.000000          0.666667   \n",
       "\n",
       "        befrist_tot_dur_byage  leih_tot_dur_byage  LHG_tot_dur_byage  \\\n",
       "0                   15.043478            0.000000           0.000000   \n",
       "1                    0.000000            0.000000           0.000000   \n",
       "2                    0.000000            0.000000          10.775510   \n",
       "3                    0.000000            0.000000          12.100000   \n",
       "4                    0.000000            0.000000          13.360000   \n",
       "...                       ...                 ...                ...   \n",
       "643685               0.000000            0.000000           0.612903   \n",
       "643686               0.212121            0.212121          17.363636   \n",
       "643687               0.294118            0.205882          34.705882   \n",
       "643688               0.000000            0.000000           0.000000   \n",
       "643689               0.666667            0.000000           0.000000   \n",
       "\n",
       "        LEH_tot_dur_byage  almp_tot_dur_byage  almp_aw_tot_dur_byage  \\\n",
       "0                0.000000            0.000000               0.000000   \n",
       "1                0.000000            0.000000               0.000000   \n",
       "2                0.000000            8.367347               0.000000   \n",
       "3                0.000000            9.400000               0.000000   \n",
       "4                0.000000           10.320000               0.000000   \n",
       "...                   ...                 ...                    ...   \n",
       "643685           0.000000            0.000000               0.000000   \n",
       "643686           0.000000            8.909091               0.000000   \n",
       "643687           0.000000           10.352941               1.705882   \n",
       "643688           0.525424            0.000000               0.000000   \n",
       "643689           8.950000            1.033333               0.083333   \n",
       "\n",
       "        se_tot_dur_byage  seeking1_tot_dur_byage  \n",
       "0               0.000000                0.000000  \n",
       "1               0.000000                0.000000  \n",
       "2               0.000000                9.836735  \n",
       "3               0.000000                9.960000  \n",
       "4               0.000000               10.280000  \n",
       "...                  ...                     ...  \n",
       "643685          0.000000                0.000000  \n",
       "643686          0.000000                7.121212  \n",
       "643687          1.705882               23.911765  \n",
       "643688          0.000000                0.000000  \n",
       "643689          0.083333                8.133333  \n",
       "\n",
       "[643690 rows x 164 columns]"
      ]
     },
     "execution_count": 10,
     "metadata": {},
     "output_type": "execute_result"
    }
   ],
   "source": [
    "siab"
   ]
  },
  {
   "cell_type": "markdown",
   "id": "1f87e805",
   "metadata": {
    "papermill": {
     "duration": 0.014113,
     "end_time": "2025-08-19T18:08:24.428720",
     "exception": false,
     "start_time": "2025-08-19T18:08:24.414607",
     "status": "completed"
    },
    "tags": []
   },
   "source": [
    "# Splitting Data and Setting Training Data Size"
   ]
  },
  {
   "cell_type": "code",
   "execution_count": 11,
   "id": "910ae358",
   "metadata": {
    "execution": {
     "iopub.execute_input": "2025-08-19T18:08:24.450897Z",
     "iopub.status.busy": "2025-08-19T18:08:24.450450Z",
     "iopub.status.idle": "2025-08-19T18:08:25.262563Z",
     "shell.execute_reply": "2025-08-19T18:08:25.261791Z"
    },
    "papermill": {
     "duration": 0.826057,
     "end_time": "2025-08-19T18:08:25.265470",
     "exception": false,
     "start_time": "2025-08-19T18:08:24.439413",
     "status": "completed"
    },
    "tags": []
   },
   "outputs": [],
   "source": [
    "from fairness_multiverse.universe import sample_by_year_size\n",
    "\n",
    "siab_train = sample_by_year_size(siab,\n",
    "                               training_year=universe[\"training_year\"],\n",
    "                               training_size=universe[\"training_size\"])"
   ]
  },
  {
   "cell_type": "code",
   "execution_count": 12,
   "id": "919c8ff5",
   "metadata": {
    "execution": {
     "iopub.execute_input": "2025-08-19T18:08:25.306300Z",
     "iopub.status.busy": "2025-08-19T18:08:25.304799Z",
     "iopub.status.idle": "2025-08-19T18:08:25.317013Z",
     "shell.execute_reply": "2025-08-19T18:08:25.315553Z"
    },
    "papermill": {
     "duration": 0.028091,
     "end_time": "2025-08-19T18:08:25.318531",
     "exception": false,
     "start_time": "2025-08-19T18:08:25.290440",
     "status": "completed"
    },
    "tags": []
   },
   "outputs": [
    {
     "data": {
      "text/plain": [
       "(25000, 164)"
      ]
     },
     "execution_count": 12,
     "metadata": {},
     "output_type": "execute_result"
    }
   ],
   "source": [
    "siab_train.shape"
   ]
  },
  {
   "cell_type": "code",
   "execution_count": 13,
   "id": "feb13bf4",
   "metadata": {
    "execution": {
     "iopub.execute_input": "2025-08-19T18:08:25.348823Z",
     "iopub.status.busy": "2025-08-19T18:08:25.347257Z",
     "iopub.status.idle": "2025-08-19T18:08:25.364650Z",
     "shell.execute_reply": "2025-08-19T18:08:25.363177Z"
    },
    "papermill": {
     "duration": 0.031652,
     "end_time": "2025-08-19T18:08:25.366151",
     "exception": false,
     "start_time": "2025-08-19T18:08:25.334499",
     "status": "completed"
    },
    "tags": []
   },
   "outputs": [
    {
     "data": {
      "text/plain": [
       "year\n",
       "2012    8334\n",
       "2013    8333\n",
       "2014    8333\n",
       "dtype: int64"
      ]
     },
     "metadata": {},
     "output_type": "display_data"
    }
   ],
   "source": [
    "display(siab_train.groupby(\"year\").size())"
   ]
  },
  {
   "cell_type": "code",
   "execution_count": 14,
   "id": "0997782f",
   "metadata": {
    "execution": {
     "iopub.execute_input": "2025-08-19T18:08:25.394072Z",
     "iopub.status.busy": "2025-08-19T18:08:25.392579Z",
     "iopub.status.idle": "2025-08-19T18:08:25.723866Z",
     "shell.execute_reply": "2025-08-19T18:08:25.723141Z"
    },
    "papermill": {
     "duration": 0.346314,
     "end_time": "2025-08-19T18:08:25.726623",
     "exception": false,
     "start_time": "2025-08-19T18:08:25.380309",
     "status": "completed"
    },
    "tags": []
   },
   "outputs": [],
   "source": [
    "#siab_train = siab_s[siab_s.year < 2015]\n",
    "siab_calib = siab[siab.year == 2015]\n",
    "siab_test = siab[siab.year == 2016]"
   ]
  },
  {
   "cell_type": "code",
   "execution_count": 15,
   "id": "2c1e4012",
   "metadata": {
    "execution": {
     "iopub.execute_input": "2025-08-19T18:08:25.763694Z",
     "iopub.status.busy": "2025-08-19T18:08:25.762646Z",
     "iopub.status.idle": "2025-08-19T18:08:25.770309Z",
     "shell.execute_reply": "2025-08-19T18:08:25.768569Z"
    },
    "papermill": {
     "duration": 0.022741,
     "end_time": "2025-08-19T18:08:25.771956",
     "exception": false,
     "start_time": "2025-08-19T18:08:25.749215",
     "status": "completed"
    },
    "tags": []
   },
   "outputs": [],
   "source": [
    "#siab_calib.shape"
   ]
  },
  {
   "cell_type": "code",
   "execution_count": 16,
   "id": "f66b54ca",
   "metadata": {
    "execution": {
     "iopub.execute_input": "2025-08-19T18:08:25.799171Z",
     "iopub.status.busy": "2025-08-19T18:08:25.798010Z",
     "iopub.status.idle": "2025-08-19T18:08:25.809321Z",
     "shell.execute_reply": "2025-08-19T18:08:25.808569Z"
    },
    "papermill": {
     "duration": 0.02624,
     "end_time": "2025-08-19T18:08:25.810845",
     "exception": false,
     "start_time": "2025-08-19T18:08:25.784605",
     "status": "completed"
    },
    "tags": []
   },
   "outputs": [],
   "source": [
    "#siab_test.shape"
   ]
  },
  {
   "cell_type": "code",
   "execution_count": 17,
   "id": "27e4384d",
   "metadata": {
    "execution": {
     "iopub.execute_input": "2025-08-19T18:08:25.837872Z",
     "iopub.status.busy": "2025-08-19T18:08:25.837516Z",
     "iopub.status.idle": "2025-08-19T18:08:25.853609Z",
     "shell.execute_reply": "2025-08-19T18:08:25.852894Z"
    },
    "papermill": {
     "duration": 0.028871,
     "end_time": "2025-08-19T18:08:25.855161",
     "exception": false,
     "start_time": "2025-08-19T18:08:25.826290",
     "status": "completed"
    },
    "tags": []
   },
   "outputs": [],
   "source": [
    "X_train = siab_train.iloc[:,4:164]\n",
    "y_train = siab_train.iloc[:, [3]]"
   ]
  },
  {
   "cell_type": "code",
   "execution_count": 18,
   "id": "08ee8389",
   "metadata": {
    "execution": {
     "iopub.execute_input": "2025-08-19T18:08:25.885590Z",
     "iopub.status.busy": "2025-08-19T18:08:25.884925Z",
     "iopub.status.idle": "2025-08-19T18:08:25.955683Z",
     "shell.execute_reply": "2025-08-19T18:08:25.954841Z"
    },
    "papermill": {
     "duration": 0.086565,
     "end_time": "2025-08-19T18:08:25.958821",
     "exception": false,
     "start_time": "2025-08-19T18:08:25.872256",
     "status": "completed"
    },
    "tags": []
   },
   "outputs": [],
   "source": [
    "X_calib = siab_calib.iloc[:,4:164]\n",
    "y_calib = siab_calib.iloc[:, [3]]"
   ]
  },
  {
   "cell_type": "code",
   "execution_count": 19,
   "id": "b7ff42e0",
   "metadata": {
    "execution": {
     "iopub.execute_input": "2025-08-19T18:08:25.997712Z",
     "iopub.status.busy": "2025-08-19T18:08:25.996623Z",
     "iopub.status.idle": "2025-08-19T18:08:26.057726Z",
     "shell.execute_reply": "2025-08-19T18:08:26.056411Z"
    },
    "papermill": {
     "duration": 0.079229,
     "end_time": "2025-08-19T18:08:26.062301",
     "exception": false,
     "start_time": "2025-08-19T18:08:25.983072",
     "status": "completed"
    },
    "tags": []
   },
   "outputs": [],
   "source": [
    "X_test = siab_test.iloc[:,4:164]\n",
    "y_true = siab_test.iloc[:, [3]]"
   ]
  },
  {
   "cell_type": "code",
   "execution_count": 20,
   "id": "0275101e",
   "metadata": {
    "execution": {
     "iopub.execute_input": "2025-08-19T18:08:26.104777Z",
     "iopub.status.busy": "2025-08-19T18:08:26.102935Z",
     "iopub.status.idle": "2025-08-19T18:08:26.439714Z",
     "shell.execute_reply": "2025-08-19T18:08:26.438810Z"
    },
    "papermill": {
     "duration": 0.357685,
     "end_time": "2025-08-19T18:08:26.441915",
     "exception": false,
     "start_time": "2025-08-19T18:08:26.084230",
     "status": "completed"
    },
    "tags": []
   },
   "outputs": [],
   "source": [
    "# Auxiliary data needed downstream in the pipeline\n",
    "\n",
    "org_train = X_train.copy()\n",
    "org_test = X_test.copy()\n",
    "org_calib = X_calib.copy()"
   ]
  },
  {
   "cell_type": "markdown",
   "id": "b461e618",
   "metadata": {
    "papermill": {
     "duration": 0.014214,
     "end_time": "2025-08-19T18:08:26.481882",
     "exception": false,
     "start_time": "2025-08-19T18:08:26.467668",
     "status": "completed"
    },
    "tags": []
   },
   "source": [
    "# Preprocessing Data"
   ]
  },
  {
   "cell_type": "code",
   "execution_count": 21,
   "id": "78e74c4b",
   "metadata": {
    "execution": {
     "iopub.execute_input": "2025-08-19T18:08:26.512398Z",
     "iopub.status.busy": "2025-08-19T18:08:26.511696Z",
     "iopub.status.idle": "2025-08-19T18:08:26.519376Z",
     "shell.execute_reply": "2025-08-19T18:08:26.518160Z"
    },
    "papermill": {
     "duration": 0.028822,
     "end_time": "2025-08-19T18:08:26.521065",
     "exception": false,
     "start_time": "2025-08-19T18:08:26.492243",
     "status": "completed"
    },
    "tags": []
   },
   "outputs": [],
   "source": [
    "# EXCLUDE PROTECTED FEATURES\n",
    "# --------------------------\n",
    "\n",
    "excluded_features = universe[\"exclude_features\"].split(\"-\")\n",
    "excluded_features_dictionary = {\n",
    "    \"nationality\": [\"maxdeutsch1\", \"maxdeutsch.Missing.\"],\n",
    "    \"sex\": [\"frau1\"],\n",
    "    \"age\": [\"age\"],\n",
    "}"
   ]
  },
  {
   "cell_type": "code",
   "execution_count": 22,
   "id": "f8e63555",
   "metadata": {
    "execution": {
     "iopub.execute_input": "2025-08-19T18:08:26.553445Z",
     "iopub.status.busy": "2025-08-19T18:08:26.552216Z",
     "iopub.status.idle": "2025-08-19T18:08:26.560671Z",
     "shell.execute_reply": "2025-08-19T18:08:26.559399Z"
    },
    "papermill": {
     "duration": 0.023378,
     "end_time": "2025-08-19T18:08:26.562111",
     "exception": false,
     "start_time": "2025-08-19T18:08:26.538733",
     "status": "completed"
    },
    "tags": []
   },
   "outputs": [],
   "source": [
    "excluded_features_columns = [\n",
    "    excluded_features_dictionary[f] for f in excluded_features if len(f) > 0 and f != \"none\"\n",
    "]"
   ]
  },
  {
   "cell_type": "code",
   "execution_count": 23,
   "id": "da781f7c",
   "metadata": {
    "execution": {
     "iopub.execute_input": "2025-08-19T18:08:26.588369Z",
     "iopub.status.busy": "2025-08-19T18:08:26.587001Z",
     "iopub.status.idle": "2025-08-19T18:08:26.594801Z",
     "shell.execute_reply": "2025-08-19T18:08:26.593589Z"
    },
    "papermill": {
     "duration": 0.021743,
     "end_time": "2025-08-19T18:08:26.596602",
     "exception": false,
     "start_time": "2025-08-19T18:08:26.574859",
     "status": "completed"
    },
    "tags": []
   },
   "outputs": [],
   "source": [
    "from fairness_multiverse.universe import flatten_once\n",
    "\n",
    "excluded_features_columns = flatten_once(excluded_features_columns)"
   ]
  },
  {
   "cell_type": "code",
   "execution_count": 24,
   "id": "37fef0f0",
   "metadata": {
    "execution": {
     "iopub.execute_input": "2025-08-19T18:08:26.623091Z",
     "iopub.status.busy": "2025-08-19T18:08:26.621976Z",
     "iopub.status.idle": "2025-08-19T18:08:26.663113Z",
     "shell.execute_reply": "2025-08-19T18:08:26.662417Z"
    },
    "papermill": {
     "duration": 0.056667,
     "end_time": "2025-08-19T18:08:26.666168",
     "exception": false,
     "start_time": "2025-08-19T18:08:26.609501",
     "status": "completed"
    },
    "tags": []
   },
   "outputs": [
    {
     "name": "stdout",
     "output_type": "stream",
     "text": [
      "Dropping features: ['frau1']\n"
     ]
    }
   ],
   "source": [
    "if len(excluded_features_columns) > 0:\n",
    "    print(f\"Dropping features: {excluded_features_columns}\")\n",
    "    X_train.drop(excluded_features_columns, axis=1, inplace=True)"
   ]
  },
  {
   "cell_type": "code",
   "execution_count": 25,
   "id": "d029e3e9",
   "metadata": {
    "execution": {
     "iopub.execute_input": "2025-08-19T18:08:26.713628Z",
     "iopub.status.busy": "2025-08-19T18:08:26.711760Z",
     "iopub.status.idle": "2025-08-19T18:08:26.777403Z",
     "shell.execute_reply": "2025-08-19T18:08:26.776619Z"
    },
    "papermill": {
     "duration": 0.083841,
     "end_time": "2025-08-19T18:08:26.780685",
     "exception": false,
     "start_time": "2025-08-19T18:08:26.696844",
     "status": "completed"
    },
    "tags": []
   },
   "outputs": [
    {
     "name": "stdout",
     "output_type": "stream",
     "text": [
      "Dropping features: ['frau1']\n"
     ]
    }
   ],
   "source": [
    "if len(excluded_features_columns) > 0:\n",
    "    print(f\"Dropping features: {excluded_features_columns}\")\n",
    "    X_test.drop(excluded_features_columns, axis=1, inplace=True)"
   ]
  },
  {
   "cell_type": "code",
   "execution_count": 26,
   "id": "01d571f0",
   "metadata": {
    "execution": {
     "iopub.execute_input": "2025-08-19T18:08:26.815741Z",
     "iopub.status.busy": "2025-08-19T18:08:26.815164Z",
     "iopub.status.idle": "2025-08-19T18:08:26.873898Z",
     "shell.execute_reply": "2025-08-19T18:08:26.873101Z"
    },
    "papermill": {
     "duration": 0.072428,
     "end_time": "2025-08-19T18:08:26.875452",
     "exception": false,
     "start_time": "2025-08-19T18:08:26.803024",
     "status": "completed"
    },
    "tags": []
   },
   "outputs": [
    {
     "name": "stdout",
     "output_type": "stream",
     "text": [
      "Dropping features: ['frau1']\n"
     ]
    }
   ],
   "source": [
    "if len(excluded_features_columns) > 0:\n",
    "    print(f\"Dropping features: {excluded_features_columns}\")\n",
    "    X_calib.drop(excluded_features_columns, axis=1, inplace=True)"
   ]
  },
  {
   "cell_type": "code",
   "execution_count": 27,
   "id": "3037356e",
   "metadata": {
    "execution": {
     "iopub.execute_input": "2025-08-19T18:08:26.903160Z",
     "iopub.status.busy": "2025-08-19T18:08:26.901657Z",
     "iopub.status.idle": "2025-08-19T18:08:26.909095Z",
     "shell.execute_reply": "2025-08-19T18:08:26.908017Z"
    },
    "papermill": {
     "duration": 0.021734,
     "end_time": "2025-08-19T18:08:26.910469",
     "exception": false,
     "start_time": "2025-08-19T18:08:26.888735",
     "status": "completed"
    },
    "tags": []
   },
   "outputs": [],
   "source": [
    "# EXCLUDE CERTAIN SUBGROUPS\n",
    "# -------------------------\n",
    "\n",
    "mode = universe.get(\"exclude_subgroups\", \"keep-all\") # Defaults to \"keep-all\" if the key is missing."
   ]
  },
  {
   "cell_type": "code",
   "execution_count": 28,
   "id": "9d1e63fd",
   "metadata": {
    "execution": {
     "iopub.execute_input": "2025-08-19T18:08:26.937769Z",
     "iopub.status.busy": "2025-08-19T18:08:26.936726Z",
     "iopub.status.idle": "2025-08-19T18:08:26.947381Z",
     "shell.execute_reply": "2025-08-19T18:08:26.946222Z"
    },
    "papermill": {
     "duration": 0.024655,
     "end_time": "2025-08-19T18:08:26.948904",
     "exception": false,
     "start_time": "2025-08-19T18:08:26.924249",
     "status": "completed"
    },
    "tags": []
   },
   "outputs": [],
   "source": [
    "if mode == \"keep-all\":\n",
    "    keep_mask = pd.Series(True, index=org_train.index)\n",
    "\n",
    "elif mode == \"drop-non-german\":\n",
    "    keep_mask = (org_train[\"maxdeutsch1\"] == 1) & (org_train[\"maxdeutsch.Missing.\"] == 0)\n",
    "\n",
    "else:\n",
    "    raise ValueError(f\"Unsupported mode for exclude_subgroups: {mode}\")"
   ]
  },
  {
   "cell_type": "code",
   "execution_count": 29,
   "id": "d3b65474",
   "metadata": {
    "execution": {
     "iopub.execute_input": "2025-08-19T18:08:26.974811Z",
     "iopub.status.busy": "2025-08-19T18:08:26.974302Z",
     "iopub.status.idle": "2025-08-19T18:08:26.980652Z",
     "shell.execute_reply": "2025-08-19T18:08:26.979856Z"
    },
    "papermill": {
     "duration": 0.019488,
     "end_time": "2025-08-19T18:08:26.981824",
     "exception": false,
     "start_time": "2025-08-19T18:08:26.962336",
     "status": "completed"
    },
    "tags": []
   },
   "outputs": [
    {
     "name": "stdout",
     "output_type": "stream",
     "text": [
      "Dropping 3481 rows (13.92%) where mode='drop-non-german'\n"
     ]
    }
   ],
   "source": [
    "n_drop = (~keep_mask).sum() # Calculates how many rows are set to be dropped\n",
    "if n_drop > 0:\n",
    "    pct = n_drop / len(keep_mask) * 100\n",
    "    print(f\"Dropping {n_drop} rows ({pct:.2f}%) where mode='{mode}'\")"
   ]
  },
  {
   "cell_type": "code",
   "execution_count": 30,
   "id": "f44389b3",
   "metadata": {
    "execution": {
     "iopub.execute_input": "2025-08-19T18:08:27.006572Z",
     "iopub.status.busy": "2025-08-19T18:08:27.005755Z",
     "iopub.status.idle": "2025-08-19T18:08:27.026890Z",
     "shell.execute_reply": "2025-08-19T18:08:27.025978Z"
    },
    "papermill": {
     "duration": 0.035768,
     "end_time": "2025-08-19T18:08:27.028863",
     "exception": false,
     "start_time": "2025-08-19T18:08:26.993095",
     "status": "completed"
    },
    "tags": []
   },
   "outputs": [],
   "source": [
    "X_train = X_train[keep_mask]"
   ]
  },
  {
   "cell_type": "code",
   "execution_count": 31,
   "id": "ceca8c2a",
   "metadata": {
    "execution": {
     "iopub.execute_input": "2025-08-19T18:08:27.063250Z",
     "iopub.status.busy": "2025-08-19T18:08:27.061826Z",
     "iopub.status.idle": "2025-08-19T18:08:27.071841Z",
     "shell.execute_reply": "2025-08-19T18:08:27.070493Z"
    },
    "papermill": {
     "duration": 0.026243,
     "end_time": "2025-08-19T18:08:27.073614",
     "exception": false,
     "start_time": "2025-08-19T18:08:27.047371",
     "status": "completed"
    },
    "tags": []
   },
   "outputs": [],
   "source": [
    "y_train = y_train[keep_mask]"
   ]
  },
  {
   "cell_type": "markdown",
   "id": "04d31e2f",
   "metadata": {
    "papermill": {
     "duration": 0.011441,
     "end_time": "2025-08-19T18:08:27.099235",
     "exception": false,
     "start_time": "2025-08-19T18:08:27.087794",
     "status": "completed"
    },
    "tags": []
   },
   "source": [
    "# Model Training"
   ]
  },
  {
   "cell_type": "code",
   "execution_count": 32,
   "id": "db991733",
   "metadata": {
    "execution": {
     "iopub.execute_input": "2025-08-19T18:08:27.124573Z",
     "iopub.status.busy": "2025-08-19T18:08:27.123578Z",
     "iopub.status.idle": "2025-08-19T18:08:27.252945Z",
     "shell.execute_reply": "2025-08-19T18:08:27.252202Z"
    },
    "papermill": {
     "duration": 0.144454,
     "end_time": "2025-08-19T18:08:27.254711",
     "exception": false,
     "start_time": "2025-08-19T18:08:27.110257",
     "status": "completed"
    },
    "tags": []
   },
   "outputs": [],
   "source": [
    "from sklearn.linear_model import LogisticRegression\n",
    "from sklearn.ensemble import GradientBoostingClassifier, RandomForestClassifier\n",
    "\n",
    "if (universe[\"model\"] == \"logreg\"):\n",
    "    model = LogisticRegression() #penalty=\"none\", solver=\"newton-cg\", max_iter=1)\n",
    "elif (universe[\"model\"] == \"penalized_logreg\"):\n",
    "    model = LogisticRegression(penalty=\"l2\", C=0.1) #, solver=\"newton-cg\", max_iter=1)\n",
    "elif (universe[\"model\"] == \"rf\"):\n",
    "    model = RandomForestClassifier() # n_estimators=100, n_jobs=-1\n",
    "elif (universe[\"model\"] == \"gbm\"):\n",
    "    model = GradientBoostingClassifier()\n",
    "elif (universe[\"model\"] == \"elasticnet\"):\n",
    "    model = LogisticRegression(penalty = 'elasticnet', solver = 'saga', l1_ratio = 0.5) # max_iter=5000\n",
    "else:\n",
    "    raise \"Unsupported universe.model\""
   ]
  },
  {
   "cell_type": "code",
   "execution_count": 33,
   "id": "a4b5cd25",
   "metadata": {
    "execution": {
     "iopub.execute_input": "2025-08-19T18:08:27.280089Z",
     "iopub.status.busy": "2025-08-19T18:08:27.279725Z",
     "iopub.status.idle": "2025-08-19T18:08:27.284338Z",
     "shell.execute_reply": "2025-08-19T18:08:27.283630Z"
    },
    "papermill": {
     "duration": 0.020049,
     "end_time": "2025-08-19T18:08:27.287034",
     "exception": false,
     "start_time": "2025-08-19T18:08:27.266985",
     "status": "completed"
    },
    "tags": []
   },
   "outputs": [],
   "source": [
    "from sklearn.pipeline import Pipeline\n",
    "from sklearn.preprocessing import StandardScaler\n",
    "\n",
    "model = Pipeline([\n",
    "    #(\"continuous_processor\", continuous_processor),\n",
    "    #(\"categorical_preprocessor\", categorical_preprocessor),\n",
    "    (\"scale\", StandardScaler() if universe[\"scale\"] == \"scale\" else None), \n",
    "    (\"model\", model),\n",
    "])"
   ]
  },
  {
   "cell_type": "code",
   "execution_count": 34,
   "id": "283a904d",
   "metadata": {
    "execution": {
     "iopub.execute_input": "2025-08-19T18:08:27.311648Z",
     "iopub.status.busy": "2025-08-19T18:08:27.311218Z",
     "iopub.status.idle": "2025-08-19T18:08:28.138658Z",
     "shell.execute_reply": "2025-08-19T18:08:28.137861Z"
    },
    "papermill": {
     "duration": 0.841228,
     "end_time": "2025-08-19T18:08:28.140107",
     "exception": false,
     "start_time": "2025-08-19T18:08:27.298879",
     "status": "completed"
    },
    "tags": []
   },
   "outputs": [
    {
     "name": "stderr",
     "output_type": "stream",
     "text": [
      "/dss/dsshome1/0C/ra93lal2/.local/share/virtualenvs/CMA_Fairness_v2-3j10GkSs/lib/python3.10/site-packages/sklearn/linear_model/_logistic.py:444: ConvergenceWarning: lbfgs failed to converge (status=1):\n",
      "STOP: TOTAL NO. of ITERATIONS REACHED LIMIT.\n",
      "\n",
      "Increase the number of iterations (max_iter) or scale the data as shown in:\n",
      "    https://scikit-learn.org/stable/modules/preprocessing.html\n",
      "Please also refer to the documentation for alternative solver options:\n",
      "    https://scikit-learn.org/stable/modules/linear_model.html#logistic-regression\n",
      "  n_iter_i = _check_optimize_result(\n"
     ]
    },
    {
     "data": {
      "text/html": [
       "<style>#sk-container-id-1 {color: black;background-color: white;}#sk-container-id-1 pre{padding: 0;}#sk-container-id-1 div.sk-toggleable {background-color: white;}#sk-container-id-1 label.sk-toggleable__label {cursor: pointer;display: block;width: 100%;margin-bottom: 0;padding: 0.3em;box-sizing: border-box;text-align: center;}#sk-container-id-1 label.sk-toggleable__label-arrow:before {content: \"▸\";float: left;margin-right: 0.25em;color: #696969;}#sk-container-id-1 label.sk-toggleable__label-arrow:hover:before {color: black;}#sk-container-id-1 div.sk-estimator:hover label.sk-toggleable__label-arrow:before {color: black;}#sk-container-id-1 div.sk-toggleable__content {max-height: 0;max-width: 0;overflow: hidden;text-align: left;background-color: #f0f8ff;}#sk-container-id-1 div.sk-toggleable__content pre {margin: 0.2em;color: black;border-radius: 0.25em;background-color: #f0f8ff;}#sk-container-id-1 input.sk-toggleable__control:checked~div.sk-toggleable__content {max-height: 200px;max-width: 100%;overflow: auto;}#sk-container-id-1 input.sk-toggleable__control:checked~label.sk-toggleable__label-arrow:before {content: \"▾\";}#sk-container-id-1 div.sk-estimator input.sk-toggleable__control:checked~label.sk-toggleable__label {background-color: #d4ebff;}#sk-container-id-1 div.sk-label input.sk-toggleable__control:checked~label.sk-toggleable__label {background-color: #d4ebff;}#sk-container-id-1 input.sk-hidden--visually {border: 0;clip: rect(1px 1px 1px 1px);clip: rect(1px, 1px, 1px, 1px);height: 1px;margin: -1px;overflow: hidden;padding: 0;position: absolute;width: 1px;}#sk-container-id-1 div.sk-estimator {font-family: monospace;background-color: #f0f8ff;border: 1px dotted black;border-radius: 0.25em;box-sizing: border-box;margin-bottom: 0.5em;}#sk-container-id-1 div.sk-estimator:hover {background-color: #d4ebff;}#sk-container-id-1 div.sk-parallel-item::after {content: \"\";width: 100%;border-bottom: 1px solid gray;flex-grow: 1;}#sk-container-id-1 div.sk-label:hover label.sk-toggleable__label {background-color: #d4ebff;}#sk-container-id-1 div.sk-serial::before {content: \"\";position: absolute;border-left: 1px solid gray;box-sizing: border-box;top: 0;bottom: 0;left: 50%;z-index: 0;}#sk-container-id-1 div.sk-serial {display: flex;flex-direction: column;align-items: center;background-color: white;padding-right: 0.2em;padding-left: 0.2em;position: relative;}#sk-container-id-1 div.sk-item {position: relative;z-index: 1;}#sk-container-id-1 div.sk-parallel {display: flex;align-items: stretch;justify-content: center;background-color: white;position: relative;}#sk-container-id-1 div.sk-item::before, #sk-container-id-1 div.sk-parallel-item::before {content: \"\";position: absolute;border-left: 1px solid gray;box-sizing: border-box;top: 0;bottom: 0;left: 50%;z-index: -1;}#sk-container-id-1 div.sk-parallel-item {display: flex;flex-direction: column;z-index: 1;position: relative;background-color: white;}#sk-container-id-1 div.sk-parallel-item:first-child::after {align-self: flex-end;width: 50%;}#sk-container-id-1 div.sk-parallel-item:last-child::after {align-self: flex-start;width: 50%;}#sk-container-id-1 div.sk-parallel-item:only-child::after {width: 0;}#sk-container-id-1 div.sk-dashed-wrapped {border: 1px dashed gray;margin: 0 0.4em 0.5em 0.4em;box-sizing: border-box;padding-bottom: 0.4em;background-color: white;}#sk-container-id-1 div.sk-label label {font-family: monospace;font-weight: bold;display: inline-block;line-height: 1.2em;}#sk-container-id-1 div.sk-label-container {text-align: center;}#sk-container-id-1 div.sk-container {/* jupyter's `normalize.less` sets `[hidden] { display: none; }` but bootstrap.min.css set `[hidden] { display: none !important; }` so we also need the `!important` here to be able to override the default hidden behavior on the sphinx rendered scikit-learn.org. See: https://github.com/scikit-learn/scikit-learn/issues/21755 */display: inline-block !important;position: relative;}#sk-container-id-1 div.sk-text-repr-fallback {display: none;}</style><div id=\"sk-container-id-1\" class=\"sk-top-container\"><div class=\"sk-text-repr-fallback\"><pre>Pipeline(steps=[(&#x27;scale&#x27;, None), (&#x27;model&#x27;, LogisticRegression())])</pre><b>In a Jupyter environment, please rerun this cell to show the HTML representation or trust the notebook. <br />On GitHub, the HTML representation is unable to render, please try loading this page with nbviewer.org.</b></div><div class=\"sk-container\" hidden><div class=\"sk-item sk-dashed-wrapped\"><div class=\"sk-label-container\"><div class=\"sk-label sk-toggleable\"><input class=\"sk-toggleable__control sk-hidden--visually\" id=\"sk-estimator-id-1\" type=\"checkbox\" ><label for=\"sk-estimator-id-1\" class=\"sk-toggleable__label sk-toggleable__label-arrow\">Pipeline</label><div class=\"sk-toggleable__content\"><pre>Pipeline(steps=[(&#x27;scale&#x27;, None), (&#x27;model&#x27;, LogisticRegression())])</pre></div></div></div><div class=\"sk-serial\"><div class=\"sk-item\"><div class=\"sk-estimator sk-toggleable\"><input class=\"sk-toggleable__control sk-hidden--visually\" id=\"sk-estimator-id-2\" type=\"checkbox\" ><label for=\"sk-estimator-id-2\" class=\"sk-toggleable__label sk-toggleable__label-arrow\">None</label><div class=\"sk-toggleable__content\"><pre>None</pre></div></div></div><div class=\"sk-item\"><div class=\"sk-estimator sk-toggleable\"><input class=\"sk-toggleable__control sk-hidden--visually\" id=\"sk-estimator-id-3\" type=\"checkbox\" ><label for=\"sk-estimator-id-3\" class=\"sk-toggleable__label sk-toggleable__label-arrow\">LogisticRegression</label><div class=\"sk-toggleable__content\"><pre>LogisticRegression()</pre></div></div></div></div></div></div></div>"
      ],
      "text/plain": [
       "Pipeline(steps=[('scale', None), ('model', LogisticRegression())])"
      ]
     },
     "execution_count": 34,
     "metadata": {},
     "output_type": "execute_result"
    }
   ],
   "source": [
    "model.fit(X_train, y_train.values.ravel())"
   ]
  },
  {
   "cell_type": "code",
   "execution_count": 35,
   "id": "6e15e313",
   "metadata": {
    "execution": {
     "iopub.execute_input": "2025-08-19T18:08:28.169400Z",
     "iopub.status.busy": "2025-08-19T18:08:28.169099Z",
     "iopub.status.idle": "2025-08-19T18:08:28.274489Z",
     "shell.execute_reply": "2025-08-19T18:08:28.273622Z"
    },
    "papermill": {
     "duration": 0.124078,
     "end_time": "2025-08-19T18:08:28.276870",
     "exception": false,
     "start_time": "2025-08-19T18:08:28.152792",
     "status": "completed"
    },
    "tags": []
   },
   "outputs": [
    {
     "data": {
      "text/plain": [
       "0.8608293389811615"
      ]
     },
     "execution_count": 35,
     "metadata": {},
     "output_type": "execute_result"
    }
   ],
   "source": [
    "from fairness_multiverse.universe import predict_w_threshold\n",
    "\n",
    "probs_test = model.predict_proba(X_test)\n",
    "\n",
    "'''\n",
    "Below code returns a boolean array (or binary 0/1 array depending on how it’s used) where each element \n",
    "is True if the probability of class 1 is greater than or equal to the threshold, and False otherwise.\n",
    "'''\n",
    "y_pred_default = predict_w_threshold(probs_test, 0.5)\n",
    "\n",
    "from sklearn.metrics import accuracy_score\n",
    "\n",
    "# Naive prediction\n",
    "accuracy_score(y_true = y_true, y_pred = y_pred_default)"
   ]
  },
  {
   "cell_type": "code",
   "execution_count": 36,
   "id": "6f14067c",
   "metadata": {
    "execution": {
     "iopub.execute_input": "2025-08-19T18:08:28.311994Z",
     "iopub.status.busy": "2025-08-19T18:08:28.311054Z",
     "iopub.status.idle": "2025-08-19T18:08:28.405812Z",
     "shell.execute_reply": "2025-08-19T18:08:28.404931Z"
    },
    "papermill": {
     "duration": 0.109185,
     "end_time": "2025-08-19T18:08:28.407428",
     "exception": false,
     "start_time": "2025-08-19T18:08:28.298243",
     "status": "completed"
    },
    "tags": []
   },
   "outputs": [
    {
     "data": {
      "text/plain": [
       "array([0, 0, 0, ..., 0, 0, 0])"
      ]
     },
     "execution_count": 36,
     "metadata": {},
     "output_type": "execute_result"
    }
   ],
   "source": [
    "model.predict(X_test)"
   ]
  },
  {
   "cell_type": "markdown",
   "id": "3759920c",
   "metadata": {
    "papermill": {
     "duration": 0.012087,
     "end_time": "2025-08-19T18:08:28.433486",
     "exception": false,
     "start_time": "2025-08-19T18:08:28.421399",
     "status": "completed"
    },
    "tags": []
   },
   "source": [
    "# Conformal Prediction"
   ]
  },
  {
   "cell_type": "code",
   "execution_count": 37,
   "id": "14b27f59",
   "metadata": {
    "execution": {
     "iopub.execute_input": "2025-08-19T18:08:28.458862Z",
     "iopub.status.busy": "2025-08-19T18:08:28.457382Z",
     "iopub.status.idle": "2025-08-19T18:08:28.465685Z",
     "shell.execute_reply": "2025-08-19T18:08:28.464079Z"
    },
    "papermill": {
     "duration": 0.022709,
     "end_time": "2025-08-19T18:08:28.467282",
     "exception": false,
     "start_time": "2025-08-19T18:08:28.444573",
     "status": "completed"
    },
    "tags": []
   },
   "outputs": [],
   "source": [
    "# Miscoverage level for conformal prediction (10% allowed error rate => 90% target coverage)\n",
    "alpha = 0.1"
   ]
  },
  {
   "cell_type": "code",
   "execution_count": 38,
   "id": "59102472",
   "metadata": {
    "execution": {
     "iopub.execute_input": "2025-08-19T18:08:28.498248Z",
     "iopub.status.busy": "2025-08-19T18:08:28.497163Z",
     "iopub.status.idle": "2025-08-19T18:08:28.616443Z",
     "shell.execute_reply": "2025-08-19T18:08:28.615688Z"
    },
    "papermill": {
     "duration": 0.13516,
     "end_time": "2025-08-19T18:08:28.618244",
     "exception": false,
     "start_time": "2025-08-19T18:08:28.483084",
     "status": "completed"
    },
    "tags": []
   },
   "outputs": [],
   "source": [
    "probs_calib = model.predict_proba(X_calib)"
   ]
  },
  {
   "cell_type": "code",
   "execution_count": 39,
   "id": "a792d4dd",
   "metadata": {
    "execution": {
     "iopub.execute_input": "2025-08-19T18:08:28.649482Z",
     "iopub.status.busy": "2025-08-19T18:08:28.647805Z",
     "iopub.status.idle": "2025-08-19T18:08:28.656885Z",
     "shell.execute_reply": "2025-08-19T18:08:28.655708Z"
    },
    "papermill": {
     "duration": 0.025987,
     "end_time": "2025-08-19T18:08:28.658385",
     "exception": false,
     "start_time": "2025-08-19T18:08:28.632398",
     "status": "completed"
    },
    "tags": []
   },
   "outputs": [],
   "source": [
    "y_calib = y_calib.values.ravel().astype(int)"
   ]
  },
  {
   "cell_type": "code",
   "execution_count": 40,
   "id": "650fd033",
   "metadata": {
    "execution": {
     "iopub.execute_input": "2025-08-19T18:08:28.694414Z",
     "iopub.status.busy": "2025-08-19T18:08:28.693680Z",
     "iopub.status.idle": "2025-08-19T18:08:28.701659Z",
     "shell.execute_reply": "2025-08-19T18:08:28.700924Z"
    },
    "papermill": {
     "duration": 0.029094,
     "end_time": "2025-08-19T18:08:28.703340",
     "exception": false,
     "start_time": "2025-08-19T18:08:28.674246",
     "status": "completed"
    },
    "tags": []
   },
   "outputs": [],
   "source": [
    "from fairness_multiverse.conformal import compute_nc_scores\n",
    "\n",
    "# Compute nonconformity scores on calibration set (1 - probability of true class)\n",
    "nc_scores = compute_nc_scores(probs_calib, y_calib)"
   ]
  },
  {
   "cell_type": "code",
   "execution_count": 41,
   "id": "28ada44c",
   "metadata": {
    "execution": {
     "iopub.execute_input": "2025-08-19T18:08:28.737306Z",
     "iopub.status.busy": "2025-08-19T18:08:28.736221Z",
     "iopub.status.idle": "2025-08-19T18:08:28.748198Z",
     "shell.execute_reply": "2025-08-19T18:08:28.746226Z"
    },
    "papermill": {
     "duration": 0.029212,
     "end_time": "2025-08-19T18:08:28.750368",
     "exception": false,
     "start_time": "2025-08-19T18:08:28.721156",
     "status": "completed"
    },
    "tags": []
   },
   "outputs": [],
   "source": [
    "from fairness_multiverse.conformal import find_threshold\n",
    "\n",
    "# Find conformal threshold q_hat for the given alpha (split conformal method)\n",
    "q_hat = find_threshold(nc_scores, alpha)"
   ]
  },
  {
   "cell_type": "code",
   "execution_count": 42,
   "id": "df56469e",
   "metadata": {
    "execution": {
     "iopub.execute_input": "2025-08-19T18:08:28.783271Z",
     "iopub.status.busy": "2025-08-19T18:08:28.781636Z",
     "iopub.status.idle": "2025-08-19T18:08:28.794662Z",
     "shell.execute_reply": "2025-08-19T18:08:28.793366Z"
    },
    "papermill": {
     "duration": 0.030639,
     "end_time": "2025-08-19T18:08:28.796930",
     "exception": false,
     "start_time": "2025-08-19T18:08:28.766291",
     "status": "completed"
    },
    "tags": []
   },
   "outputs": [
    {
     "data": {
      "text/plain": [
       "0.6577430382839005"
      ]
     },
     "execution_count": 42,
     "metadata": {},
     "output_type": "execute_result"
    }
   ],
   "source": [
    "q_hat"
   ]
  },
  {
   "cell_type": "code",
   "execution_count": 43,
   "id": "aa1f5faa",
   "metadata": {
    "execution": {
     "iopub.execute_input": "2025-08-19T18:08:28.828962Z",
     "iopub.status.busy": "2025-08-19T18:08:28.828200Z",
     "iopub.status.idle": "2025-08-19T18:08:29.395994Z",
     "shell.execute_reply": "2025-08-19T18:08:29.394685Z"
    },
    "papermill": {
     "duration": 0.586367,
     "end_time": "2025-08-19T18:08:29.399151",
     "exception": false,
     "start_time": "2025-08-19T18:08:28.812784",
     "status": "completed"
    },
    "tags": []
   },
   "outputs": [],
   "source": [
    "from fairness_multiverse.conformal import predict_conformal_sets\n",
    "\n",
    "# Generate prediction sets for each test example\n",
    "pred_sets = predict_conformal_sets(model, X_test, q_hat)"
   ]
  },
  {
   "cell_type": "code",
   "execution_count": 44,
   "id": "97f67a6b",
   "metadata": {
    "execution": {
     "iopub.execute_input": "2025-08-19T18:08:29.436121Z",
     "iopub.status.busy": "2025-08-19T18:08:29.435480Z",
     "iopub.status.idle": "2025-08-19T18:08:29.445438Z",
     "shell.execute_reply": "2025-08-19T18:08:29.444143Z"
    },
    "papermill": {
     "duration": 0.028831,
     "end_time": "2025-08-19T18:08:29.448837",
     "exception": false,
     "start_time": "2025-08-19T18:08:29.420006",
     "status": "completed"
    },
    "tags": []
   },
   "outputs": [],
   "source": [
    "y_true = y_true.squeeze()"
   ]
  },
  {
   "cell_type": "code",
   "execution_count": 45,
   "id": "e700e9a7",
   "metadata": {
    "execution": {
     "iopub.execute_input": "2025-08-19T18:08:29.479232Z",
     "iopub.status.busy": "2025-08-19T18:08:29.478573Z",
     "iopub.status.idle": "2025-08-19T18:08:30.034743Z",
     "shell.execute_reply": "2025-08-19T18:08:30.033551Z"
    },
    "papermill": {
     "duration": 0.574271,
     "end_time": "2025-08-19T18:08:30.036707",
     "exception": false,
     "start_time": "2025-08-19T18:08:29.462436",
     "status": "completed"
    },
    "tags": []
   },
   "outputs": [],
   "source": [
    "from fairness_multiverse.conformal import evaluate_sets\n",
    "\n",
    "# Evaluate coverage and average set size on test data\n",
    "metrics = evaluate_sets(pred_sets, y_true)"
   ]
  },
  {
   "cell_type": "markdown",
   "id": "efbacec0",
   "metadata": {
    "papermill": {
     "duration": 0.018101,
     "end_time": "2025-08-19T18:08:30.069681",
     "exception": false,
     "start_time": "2025-08-19T18:08:30.051580",
     "status": "completed"
    },
    "tags": []
   },
   "source": [
    "# CP Metrics"
   ]
  },
  {
   "cell_type": "code",
   "execution_count": 46,
   "id": "9de55fb1",
   "metadata": {
    "execution": {
     "iopub.execute_input": "2025-08-19T18:08:30.111247Z",
     "iopub.status.busy": "2025-08-19T18:08:30.110470Z",
     "iopub.status.idle": "2025-08-19T18:08:30.124645Z",
     "shell.execute_reply": "2025-08-19T18:08:30.123080Z"
    },
    "papermill": {
     "duration": 0.04584,
     "end_time": "2025-08-19T18:08:30.127718",
     "exception": false,
     "start_time": "2025-08-19T18:08:30.081878",
     "status": "completed"
    },
    "tags": []
   },
   "outputs": [
    {
     "data": {
      "text/plain": [
       "{'coverage': 0.9118715862222717, 'avg_size': 1.2213577081707725}"
      ]
     },
     "execution_count": 46,
     "metadata": {},
     "output_type": "execute_result"
    }
   ],
   "source": [
    "metrics"
   ]
  },
  {
   "cell_type": "code",
   "execution_count": 47,
   "id": "64c340a1",
   "metadata": {
    "execution": {
     "iopub.execute_input": "2025-08-19T18:08:30.162457Z",
     "iopub.status.busy": "2025-08-19T18:08:30.161293Z",
     "iopub.status.idle": "2025-08-19T18:08:30.174434Z",
     "shell.execute_reply": "2025-08-19T18:08:30.172889Z"
    },
    "papermill": {
     "duration": 0.039106,
     "end_time": "2025-08-19T18:08:30.186218",
     "exception": false,
     "start_time": "2025-08-19T18:08:30.147112",
     "status": "completed"
    },
    "tags": []
   },
   "outputs": [],
   "source": [
    "example_universe = universe.copy()\n",
    "universe_training_year = example_universe.get(\"training_year\")\n",
    "universe_training_size = example_universe.get(\"training_size\")\n",
    "universe_scale = example_universe.get(\"scale\")\n",
    "universe_model = example_universe.get(\"model\")\n",
    "universe_exclude_features = example_universe.get(\"exclude_features\")\n",
    "universe_exclude_subgroups = example_universe.get(\"exclude_subgroups\")"
   ]
  },
  {
   "cell_type": "code",
   "execution_count": 48,
   "id": "dbb53cb4",
   "metadata": {
    "execution": {
     "iopub.execute_input": "2025-08-19T18:08:30.222544Z",
     "iopub.status.busy": "2025-08-19T18:08:30.221400Z",
     "iopub.status.idle": "2025-08-19T18:08:30.232539Z",
     "shell.execute_reply": "2025-08-19T18:08:30.231241Z"
    },
    "papermill": {
     "duration": 0.032768,
     "end_time": "2025-08-19T18:08:30.234115",
     "exception": false,
     "start_time": "2025-08-19T18:08:30.201347",
     "status": "completed"
    },
    "tags": []
   },
   "outputs": [],
   "source": [
    "cp_metrics_dict = {\n",
    "    \"universe_id\": [universe_id],\n",
    "    \"universe_training_year\": [universe_training_year],\n",
    "    \"universe_training_size\": [universe_training_size],\n",
    "    \"universe_scale\": [universe_scale],\n",
    "    \"universe_model\": [universe_model],\n",
    "    \"universe_exclude_features\": [universe_exclude_features],\n",
    "    \"universe_exclude_subgroups\": [universe_exclude_subgroups],\n",
    "    \"q_hat\": [q_hat],\n",
    "    \"coverage\": [metrics[\"coverage\"]],\n",
    "    \"avg_size\": [metrics[\"avg_size\"]],\n",
    "}"
   ]
  },
  {
   "cell_type": "code",
   "execution_count": 49,
   "id": "0d70d4b2",
   "metadata": {
    "execution": {
     "iopub.execute_input": "2025-08-19T18:08:30.260857Z",
     "iopub.status.busy": "2025-08-19T18:08:30.259780Z",
     "iopub.status.idle": "2025-08-19T18:08:30.270901Z",
     "shell.execute_reply": "2025-08-19T18:08:30.269724Z"
    },
    "papermill": {
     "duration": 0.025692,
     "end_time": "2025-08-19T18:08:30.272392",
     "exception": false,
     "start_time": "2025-08-19T18:08:30.246700",
     "status": "completed"
    },
    "tags": []
   },
   "outputs": [],
   "source": [
    "cp_metrics_df = pd.DataFrame(cp_metrics_dict)"
   ]
  },
  {
   "cell_type": "code",
   "execution_count": 50,
   "id": "b494403c",
   "metadata": {
    "execution": {
     "iopub.execute_input": "2025-08-19T18:08:30.301576Z",
     "iopub.status.busy": "2025-08-19T18:08:30.300536Z",
     "iopub.status.idle": "2025-08-19T18:08:30.324564Z",
     "shell.execute_reply": "2025-08-19T18:08:30.320665Z"
    },
    "papermill": {
     "duration": 0.039405,
     "end_time": "2025-08-19T18:08:30.326224",
     "exception": false,
     "start_time": "2025-08-19T18:08:30.286819",
     "status": "completed"
    },
    "tags": []
   },
   "outputs": [
    {
     "data": {
      "text/html": [
       "<div>\n",
       "<style scoped>\n",
       "    .dataframe tbody tr th:only-of-type {\n",
       "        vertical-align: middle;\n",
       "    }\n",
       "\n",
       "    .dataframe tbody tr th {\n",
       "        vertical-align: top;\n",
       "    }\n",
       "\n",
       "    .dataframe thead th {\n",
       "        text-align: right;\n",
       "    }\n",
       "</style>\n",
       "<table border=\"1\" class=\"dataframe\">\n",
       "  <thead>\n",
       "    <tr style=\"text-align: right;\">\n",
       "      <th></th>\n",
       "      <th>universe_id</th>\n",
       "      <th>universe_training_year</th>\n",
       "      <th>universe_training_size</th>\n",
       "      <th>universe_scale</th>\n",
       "      <th>universe_model</th>\n",
       "      <th>universe_exclude_features</th>\n",
       "      <th>universe_exclude_subgroups</th>\n",
       "      <th>q_hat</th>\n",
       "      <th>coverage</th>\n",
       "      <th>avg_size</th>\n",
       "    </tr>\n",
       "  </thead>\n",
       "  <tbody>\n",
       "    <tr>\n",
       "      <th>0</th>\n",
       "      <td>9471b0234e2e843af649b9ee65f745af</td>\n",
       "      <td>2012_14</td>\n",
       "      <td>25k</td>\n",
       "      <td>do-not-scale</td>\n",
       "      <td>logreg</td>\n",
       "      <td>sex</td>\n",
       "      <td>drop-non-german</td>\n",
       "      <td>0.657743</td>\n",
       "      <td>0.911872</td>\n",
       "      <td>1.221358</td>\n",
       "    </tr>\n",
       "  </tbody>\n",
       "</table>\n",
       "</div>"
      ],
      "text/plain": [
       "                        universe_id universe_training_year  \\\n",
       "0  9471b0234e2e843af649b9ee65f745af                2012_14   \n",
       "\n",
       "  universe_training_size universe_scale universe_model  \\\n",
       "0                    25k   do-not-scale         logreg   \n",
       "\n",
       "  universe_exclude_features universe_exclude_subgroups     q_hat  coverage  \\\n",
       "0                       sex            drop-non-german  0.657743  0.911872   \n",
       "\n",
       "   avg_size  \n",
       "0  1.221358  "
      ]
     },
     "execution_count": 50,
     "metadata": {},
     "output_type": "execute_result"
    }
   ],
   "source": [
    "cp_metrics_df"
   ]
  },
  {
   "cell_type": "markdown",
   "id": "ed608b0b",
   "metadata": {
    "papermill": {
     "duration": 0.025384,
     "end_time": "2025-08-19T18:08:30.371125",
     "exception": false,
     "start_time": "2025-08-19T18:08:30.345741",
     "status": "completed"
    },
    "tags": []
   },
   "source": [
    "Conditional coverage & looking at subgroups"
   ]
  },
  {
   "cell_type": "code",
   "execution_count": 51,
   "id": "8968c366",
   "metadata": {
    "execution": {
     "iopub.execute_input": "2025-08-19T18:08:30.403452Z",
     "iopub.status.busy": "2025-08-19T18:08:30.403017Z",
     "iopub.status.idle": "2025-08-19T18:08:30.695823Z",
     "shell.execute_reply": "2025-08-19T18:08:30.694940Z"
    },
    "papermill": {
     "duration": 0.309835,
     "end_time": "2025-08-19T18:08:30.697581",
     "exception": false,
     "start_time": "2025-08-19T18:08:30.387746",
     "status": "completed"
    },
    "tags": []
   },
   "outputs": [],
   "source": [
    "from fairness_multiverse.conformal import build_cp_groups\n",
    "\n",
    "cp_groups_df = build_cp_groups(pred_sets, y_true, X_test.index, org_test)"
   ]
  },
  {
   "cell_type": "code",
   "execution_count": 52,
   "id": "292ddabf",
   "metadata": {
    "execution": {
     "iopub.execute_input": "2025-08-19T18:08:30.730067Z",
     "iopub.status.busy": "2025-08-19T18:08:30.729608Z",
     "iopub.status.idle": "2025-08-19T18:08:31.607269Z",
     "shell.execute_reply": "2025-08-19T18:08:31.606131Z"
    },
    "papermill": {
     "duration": 0.895867,
     "end_time": "2025-08-19T18:08:31.608880",
     "exception": false,
     "start_time": "2025-08-19T18:08:30.713013",
     "status": "completed"
    },
    "tags": []
   },
   "outputs": [],
   "source": [
    "# Define covered = 1 if true_label is in the predicted set\n",
    "cp_groups_df['covered'] = cp_groups_df.apply(\n",
    "    lambda r: int(r['true_label'] in r['pred_set']),\n",
    "    axis=1\n",
    ")"
   ]
  },
  {
   "cell_type": "code",
   "execution_count": 53,
   "id": "3a261692",
   "metadata": {
    "execution": {
     "iopub.execute_input": "2025-08-19T18:08:31.637862Z",
     "iopub.status.busy": "2025-08-19T18:08:31.636408Z",
     "iopub.status.idle": "2025-08-19T18:08:31.661392Z",
     "shell.execute_reply": "2025-08-19T18:08:31.660508Z"
    },
    "papermill": {
     "duration": 0.041275,
     "end_time": "2025-08-19T18:08:31.663149",
     "exception": false,
     "start_time": "2025-08-19T18:08:31.621874",
     "status": "completed"
    },
    "tags": []
   },
   "outputs": [],
   "source": [
    "subgroups = ['frau1','nongerman','nongerman_male','nongerman_female']\n",
    "\n",
    "# Conditional coverage for subgroup==1\n",
    "cond_coverage = {\n",
    "    g: cp_groups_df.loc[cp_groups_df[g]==1, 'covered'].mean()\n",
    "    for g in subgroups\n",
    "}"
   ]
  },
  {
   "cell_type": "code",
   "execution_count": 54,
   "id": "894fd600",
   "metadata": {
    "execution": {
     "iopub.execute_input": "2025-08-19T18:08:31.699432Z",
     "iopub.status.busy": "2025-08-19T18:08:31.698921Z",
     "iopub.status.idle": "2025-08-19T18:08:31.705222Z",
     "shell.execute_reply": "2025-08-19T18:08:31.704573Z"
    },
    "papermill": {
     "duration": 0.022203,
     "end_time": "2025-08-19T18:08:31.706350",
     "exception": false,
     "start_time": "2025-08-19T18:08:31.684147",
     "status": "completed"
    },
    "tags": []
   },
   "outputs": [
    {
     "data": {
      "text/plain": [
       "{'frau1': 0.910877476748888,\n",
       " 'nongerman': 0.9418402290462022,\n",
       " 'nongerman_male': 0.9523552193100964,\n",
       " 'nongerman_female': 0.924441132637854}"
      ]
     },
     "execution_count": 54,
     "metadata": {},
     "output_type": "execute_result"
    }
   ],
   "source": [
    "cond_coverage"
   ]
  },
  {
   "cell_type": "code",
   "execution_count": 55,
   "id": "942895c7",
   "metadata": {
    "execution": {
     "iopub.execute_input": "2025-08-19T18:08:31.733910Z",
     "iopub.status.busy": "2025-08-19T18:08:31.733182Z",
     "iopub.status.idle": "2025-08-19T18:08:31.740980Z",
     "shell.execute_reply": "2025-08-19T18:08:31.740177Z"
    },
    "papermill": {
     "duration": 0.022759,
     "end_time": "2025-08-19T18:08:31.742315",
     "exception": false,
     "start_time": "2025-08-19T18:08:31.719556",
     "status": "completed"
    },
    "tags": []
   },
   "outputs": [],
   "source": [
    "for subgroup, cov in cond_coverage.items():\n",
    "    cp_metrics_df[f\"cov_{subgroup}\"] = cov"
   ]
  },
  {
   "cell_type": "code",
   "execution_count": 56,
   "id": "3970120f",
   "metadata": {
    "execution": {
     "iopub.execute_input": "2025-08-19T18:08:31.774706Z",
     "iopub.status.busy": "2025-08-19T18:08:31.773408Z",
     "iopub.status.idle": "2025-08-19T18:08:31.799735Z",
     "shell.execute_reply": "2025-08-19T18:08:31.798643Z"
    },
    "papermill": {
     "duration": 0.043924,
     "end_time": "2025-08-19T18:08:31.802510",
     "exception": false,
     "start_time": "2025-08-19T18:08:31.758586",
     "status": "completed"
    },
    "tags": []
   },
   "outputs": [
    {
     "data": {
      "text/html": [
       "<div>\n",
       "<style scoped>\n",
       "    .dataframe tbody tr th:only-of-type {\n",
       "        vertical-align: middle;\n",
       "    }\n",
       "\n",
       "    .dataframe tbody tr th {\n",
       "        vertical-align: top;\n",
       "    }\n",
       "\n",
       "    .dataframe thead th {\n",
       "        text-align: right;\n",
       "    }\n",
       "</style>\n",
       "<table border=\"1\" class=\"dataframe\">\n",
       "  <thead>\n",
       "    <tr style=\"text-align: right;\">\n",
       "      <th></th>\n",
       "      <th>universe_id</th>\n",
       "      <th>universe_training_year</th>\n",
       "      <th>universe_training_size</th>\n",
       "      <th>universe_scale</th>\n",
       "      <th>universe_model</th>\n",
       "      <th>universe_exclude_features</th>\n",
       "      <th>universe_exclude_subgroups</th>\n",
       "      <th>q_hat</th>\n",
       "      <th>coverage</th>\n",
       "      <th>avg_size</th>\n",
       "      <th>cov_frau1</th>\n",
       "      <th>cov_nongerman</th>\n",
       "      <th>cov_nongerman_male</th>\n",
       "      <th>cov_nongerman_female</th>\n",
       "    </tr>\n",
       "  </thead>\n",
       "  <tbody>\n",
       "    <tr>\n",
       "      <th>0</th>\n",
       "      <td>9471b0234e2e843af649b9ee65f745af</td>\n",
       "      <td>2012_14</td>\n",
       "      <td>25k</td>\n",
       "      <td>do-not-scale</td>\n",
       "      <td>logreg</td>\n",
       "      <td>sex</td>\n",
       "      <td>drop-non-german</td>\n",
       "      <td>0.657743</td>\n",
       "      <td>0.911872</td>\n",
       "      <td>1.221358</td>\n",
       "      <td>0.910877</td>\n",
       "      <td>0.94184</td>\n",
       "      <td>0.952355</td>\n",
       "      <td>0.924441</td>\n",
       "    </tr>\n",
       "  </tbody>\n",
       "</table>\n",
       "</div>"
      ],
      "text/plain": [
       "                        universe_id universe_training_year  \\\n",
       "0  9471b0234e2e843af649b9ee65f745af                2012_14   \n",
       "\n",
       "  universe_training_size universe_scale universe_model  \\\n",
       "0                    25k   do-not-scale         logreg   \n",
       "\n",
       "  universe_exclude_features universe_exclude_subgroups     q_hat  coverage  \\\n",
       "0                       sex            drop-non-german  0.657743  0.911872   \n",
       "\n",
       "   avg_size  cov_frau1  cov_nongerman  cov_nongerman_male  \\\n",
       "0  1.221358   0.910877        0.94184            0.952355   \n",
       "\n",
       "   cov_nongerman_female  \n",
       "0              0.924441  "
      ]
     },
     "execution_count": 56,
     "metadata": {},
     "output_type": "execute_result"
    }
   ],
   "source": [
    "cp_metrics_df"
   ]
  },
  {
   "cell_type": "markdown",
   "id": "3fc519cc",
   "metadata": {
    "papermill": {
     "duration": 0.013835,
     "end_time": "2025-08-19T18:08:31.840434",
     "exception": false,
     "start_time": "2025-08-19T18:08:31.826599",
     "status": "completed"
    },
    "tags": []
   },
   "source": [
    "# (Fairness) Metrics"
   ]
  },
  {
   "cell_type": "code",
   "execution_count": 57,
   "id": "a2e5e155",
   "metadata": {
    "execution": {
     "iopub.execute_input": "2025-08-19T18:08:31.867376Z",
     "iopub.status.busy": "2025-08-19T18:08:31.866570Z",
     "iopub.status.idle": "2025-08-19T18:08:31.887401Z",
     "shell.execute_reply": "2025-08-19T18:08:31.886434Z"
    },
    "papermill": {
     "duration": 0.037188,
     "end_time": "2025-08-19T18:08:31.890243",
     "exception": false,
     "start_time": "2025-08-19T18:08:31.853055",
     "status": "completed"
    },
    "tags": []
   },
   "outputs": [],
   "source": [
    "colname_to_bin = \"maxdeutsch1\"\n",
    "majority_value = org_train[colname_to_bin].mode()[0]\n",
    "\n",
    "org_test[\"majmin\"] = np.where(org_test[colname_to_bin] == majority_value, \"majority\", \"minority\")"
   ]
  },
  {
   "cell_type": "code",
   "execution_count": 58,
   "id": "17e3e4d5",
   "metadata": {
    "execution": {
     "iopub.execute_input": "2025-08-19T18:08:31.933720Z",
     "iopub.status.busy": "2025-08-19T18:08:31.932802Z",
     "iopub.status.idle": "2025-08-19T18:08:33.680394Z",
     "shell.execute_reply": "2025-08-19T18:08:33.679088Z"
    },
    "papermill": {
     "duration": 1.765215,
     "end_time": "2025-08-19T18:08:33.682285",
     "exception": false,
     "start_time": "2025-08-19T18:08:31.917070",
     "status": "completed"
    },
    "tags": []
   },
   "outputs": [],
   "source": [
    "example_universe = universe.copy()\n",
    "example_universe[\"cutoff\"] = example_universe[\"cutoff\"][0]\n",
    "example_universe[\"eval_fairness_grouping\"] = example_universe[\"eval_fairness_grouping\"][0]\n",
    "fairness_dict, metric_frame = universe_analysis.compute_metrics(\n",
    "    example_universe,\n",
    "    y_pred_prob=probs_test,\n",
    "    y_test=y_true,\n",
    "    org_test=org_test,\n",
    ")"
   ]
  },
  {
   "cell_type": "markdown",
   "id": "1fb7a0e9",
   "metadata": {
    "papermill": {
     "duration": 0.012493,
     "end_time": "2025-08-19T18:08:33.710532",
     "exception": false,
     "start_time": "2025-08-19T18:08:33.698039",
     "status": "completed"
    },
    "tags": []
   },
   "source": [
    "# Overall"
   ]
  },
  {
   "cell_type": "markdown",
   "id": "be1784b1",
   "metadata": {
    "papermill": {
     "duration": 0.012417,
     "end_time": "2025-08-19T18:08:33.735646",
     "exception": false,
     "start_time": "2025-08-19T18:08:33.723229",
     "status": "completed"
    },
    "tags": []
   },
   "source": [
    "Main fairness target: Equalized Odds. Seems to be a better fit than equal opportunity, since we're not only interested in Y = 1. Seems to be a better fit than demographic parity, since we also care about accuracy, not just equal distribution of preds.\n",
    "\n",
    "Pick column for computation of fairness metrics\n",
    "\n",
    "Performance\n",
    "Overall performance measures, most interesting in relation to the measures split by group below"
   ]
  },
  {
   "cell_type": "code",
   "execution_count": 59,
   "id": "b7672bee",
   "metadata": {
    "execution": {
     "iopub.execute_input": "2025-08-19T18:08:33.763162Z",
     "iopub.status.busy": "2025-08-19T18:08:33.762674Z",
     "iopub.status.idle": "2025-08-19T18:08:33.770768Z",
     "shell.execute_reply": "2025-08-19T18:08:33.770068Z"
    },
    "papermill": {
     "duration": 0.024001,
     "end_time": "2025-08-19T18:08:33.772214",
     "exception": false,
     "start_time": "2025-08-19T18:08:33.748213",
     "status": "completed"
    },
    "tags": []
   },
   "outputs": [
    {
     "data": {
      "text/plain": [
       "accuracy                   0.218181\n",
       "balanced accuracy          0.534780\n",
       "f1                         0.239683\n",
       "precision                  0.136923\n",
       "false positive rate        0.891077\n",
       "false negative rate        0.039364\n",
       "selection rate             0.900000\n",
       "count                  89710.000000\n",
       "dtype: float64"
      ]
     },
     "execution_count": 59,
     "metadata": {},
     "output_type": "execute_result"
    }
   ],
   "source": [
    "metric_frame.overall"
   ]
  },
  {
   "cell_type": "markdown",
   "id": "d93333c9",
   "metadata": {
    "papermill": {
     "duration": 0.012731,
     "end_time": "2025-08-19T18:08:33.800513",
     "exception": false,
     "start_time": "2025-08-19T18:08:33.787782",
     "status": "completed"
    },
    "tags": []
   },
   "source": [
    "By Group"
   ]
  },
  {
   "cell_type": "code",
   "execution_count": 60,
   "id": "52256966",
   "metadata": {
    "execution": {
     "iopub.execute_input": "2025-08-19T18:08:33.827058Z",
     "iopub.status.busy": "2025-08-19T18:08:33.826624Z",
     "iopub.status.idle": "2025-08-19T18:08:33.844250Z",
     "shell.execute_reply": "2025-08-19T18:08:33.843514Z"
    },
    "papermill": {
     "duration": 0.032539,
     "end_time": "2025-08-19T18:08:33.845695",
     "exception": false,
     "start_time": "2025-08-19T18:08:33.813156",
     "status": "completed"
    },
    "tags": []
   },
   "outputs": [
    {
     "data": {
      "text/html": [
       "<div>\n",
       "<style scoped>\n",
       "    .dataframe tbody tr th:only-of-type {\n",
       "        vertical-align: middle;\n",
       "    }\n",
       "\n",
       "    .dataframe tbody tr th {\n",
       "        vertical-align: top;\n",
       "    }\n",
       "\n",
       "    .dataframe thead th {\n",
       "        text-align: right;\n",
       "    }\n",
       "</style>\n",
       "<table border=\"1\" class=\"dataframe\">\n",
       "  <thead>\n",
       "    <tr style=\"text-align: right;\">\n",
       "      <th></th>\n",
       "      <th>accuracy</th>\n",
       "      <th>balanced accuracy</th>\n",
       "      <th>f1</th>\n",
       "      <th>precision</th>\n",
       "      <th>false positive rate</th>\n",
       "      <th>false negative rate</th>\n",
       "      <th>selection rate</th>\n",
       "      <th>count</th>\n",
       "    </tr>\n",
       "    <tr>\n",
       "      <th>majmin</th>\n",
       "      <th></th>\n",
       "      <th></th>\n",
       "      <th></th>\n",
       "      <th></th>\n",
       "      <th></th>\n",
       "      <th></th>\n",
       "      <th></th>\n",
       "      <th></th>\n",
       "    </tr>\n",
       "  </thead>\n",
       "  <tbody>\n",
       "    <tr>\n",
       "      <th>majority</th>\n",
       "      <td>0.240538</td>\n",
       "      <td>0.542974</td>\n",
       "      <td>0.249243</td>\n",
       "      <td>0.143346</td>\n",
       "      <td>0.868099</td>\n",
       "      <td>0.045952</td>\n",
       "      <td>0.879456</td>\n",
       "      <td>69170.0</td>\n",
       "    </tr>\n",
       "    <tr>\n",
       "      <th>minority</th>\n",
       "      <td>0.142892</td>\n",
       "      <td>0.509541</td>\n",
       "      <td>0.209652</td>\n",
       "      <td>0.117295</td>\n",
       "      <td>0.966982</td>\n",
       "      <td>0.013936</td>\n",
       "      <td>0.969182</td>\n",
       "      <td>20540.0</td>\n",
       "    </tr>\n",
       "  </tbody>\n",
       "</table>\n",
       "</div>"
      ],
      "text/plain": [
       "          accuracy  balanced accuracy        f1  precision  \\\n",
       "majmin                                                       \n",
       "majority  0.240538           0.542974  0.249243   0.143346   \n",
       "minority  0.142892           0.509541  0.209652   0.117295   \n",
       "\n",
       "          false positive rate  false negative rate  selection rate    count  \n",
       "majmin                                                                       \n",
       "majority             0.868099             0.045952        0.879456  69170.0  \n",
       "minority             0.966982             0.013936        0.969182  20540.0  "
      ]
     },
     "execution_count": 60,
     "metadata": {},
     "output_type": "execute_result"
    }
   ],
   "source": [
    "metric_frame.by_group"
   ]
  },
  {
   "cell_type": "code",
   "execution_count": 61,
   "id": "6e6c20ae",
   "metadata": {
    "execution": {
     "iopub.execute_input": "2025-08-19T18:08:33.877647Z",
     "iopub.status.busy": "2025-08-19T18:08:33.877290Z",
     "iopub.status.idle": "2025-08-19T18:08:35.682915Z",
     "shell.execute_reply": "2025-08-19T18:08:35.681950Z"
    },
    "papermill": {
     "duration": 1.820964,
     "end_time": "2025-08-19T18:08:35.684288",
     "exception": false,
     "start_time": "2025-08-19T18:08:33.863324",
     "status": "completed"
    },
    "tags": []
   },
   "outputs": [
    {
     "data": {
      "text/plain": [
       "array([[<Axes: title={'center': 'accuracy'}, xlabel='majmin'>,\n",
       "        <Axes: title={'center': 'balanced accuracy'}, xlabel='majmin'>,\n",
       "        <Axes: title={'center': 'f1'}, xlabel='majmin'>],\n",
       "       [<Axes: title={'center': 'precision'}, xlabel='majmin'>,\n",
       "        <Axes: title={'center': 'false positive rate'}, xlabel='majmin'>,\n",
       "        <Axes: title={'center': 'false negative rate'}, xlabel='majmin'>],\n",
       "       [<Axes: title={'center': 'selection rate'}, xlabel='majmin'>,\n",
       "        <Axes: title={'center': 'count'}, xlabel='majmin'>,\n",
       "        <Axes: xlabel='majmin'>]], dtype=object)"
      ]
     },
     "execution_count": 61,
     "metadata": {},
     "output_type": "execute_result"
    },
    {
     "data": {
      "image/png": "[encoded data removed]",
      "text/plain": [
       "<Figure size 1200x800 with 9 Axes>"
      ]
     },
     "metadata": {},
     "output_type": "display_data"
    }
   ],
   "source": [
    "# In a graphic\n",
    "metric_frame.by_group.plot.bar(\n",
    "    subplots=True,\n",
    "    layout=[3, 3],\n",
    "    legend=False,\n",
    "    figsize=[12, 8],\n",
    "    title=\"Show all metrics\",\n",
    ")"
   ]
  },
  {
   "cell_type": "markdown",
   "id": "b2e433ae",
   "metadata": {
    "papermill": {
     "duration": 0.026414,
     "end_time": "2025-08-19T18:08:35.742811",
     "exception": false,
     "start_time": "2025-08-19T18:08:35.716397",
     "status": "completed"
    },
    "tags": []
   },
   "source": [
    "# Final Output"
   ]
  },
  {
   "cell_type": "code",
   "execution_count": 62,
   "id": "3871301e",
   "metadata": {
    "execution": {
     "iopub.execute_input": "2025-08-19T18:08:35.776214Z",
     "iopub.status.busy": "2025-08-19T18:08:35.774290Z",
     "iopub.status.idle": "2025-08-19T18:08:35.793081Z",
     "shell.execute_reply": "2025-08-19T18:08:35.792212Z"
    },
    "papermill": {
     "duration": 0.037643,
     "end_time": "2025-08-19T18:08:35.794899",
     "exception": false,
     "start_time": "2025-08-19T18:08:35.757256",
     "status": "completed"
    },
    "tags": []
   },
   "outputs": [
    {
     "data": {
      "text/plain": [
       "4"
      ]
     },
     "execution_count": 62,
     "metadata": {},
     "output_type": "execute_result"
    }
   ],
   "source": [
    "sub_universes = universe_analysis.generate_sub_universes()\n",
    "len(sub_universes)"
   ]
  },
  {
   "cell_type": "code",
   "execution_count": 63,
   "id": "d9cfdaca",
   "metadata": {
    "execution": {
     "iopub.execute_input": "2025-08-19T18:08:35.835231Z",
     "iopub.status.busy": "2025-08-19T18:08:35.834048Z",
     "iopub.status.idle": "2025-08-19T18:08:35.844431Z",
     "shell.execute_reply": "2025-08-19T18:08:35.843140Z"
    },
    "papermill": {
     "duration": 0.029015,
     "end_time": "2025-08-19T18:08:35.846180",
     "exception": false,
     "start_time": "2025-08-19T18:08:35.817165",
     "status": "completed"
    },
    "tags": []
   },
   "outputs": [],
   "source": [
    "def filter_sub_universe_data(sub_universe, org_test):\n",
    "    # Keep all rows — no filtering\n",
    "    keep_rows_mask = np.ones(org_test.shape[0], dtype=bool)\n",
    "\n",
    "    print(f\"[INFO] Keeping all rows: {keep_rows_mask.sum()} rows retained.\")\n",
    "    return keep_rows_mask"
   ]
  },
  {
   "cell_type": "code",
   "execution_count": 64,
   "id": "2bc31ac1",
   "metadata": {
    "execution": {
     "iopub.execute_input": "2025-08-19T18:08:35.881706Z",
     "iopub.status.busy": "2025-08-19T18:08:35.881312Z",
     "iopub.status.idle": "2025-08-19T18:08:42.436776Z",
     "shell.execute_reply": "2025-08-19T18:08:42.435538Z"
    },
    "papermill": {
     "duration": 6.572766,
     "end_time": "2025-08-19T18:08:42.438170",
     "exception": false,
     "start_time": "2025-08-19T18:08:35.865404",
     "status": "completed"
    },
    "tags": []
   },
   "outputs": [
    {
     "name": "stdout",
     "output_type": "stream",
     "text": [
      "Stopping execution_time clock.\n",
      "[INFO] Keeping all rows: 89710 rows retained.\n"
     ]
    },
    {
     "name": "stdout",
     "output_type": "stream",
     "text": [
      "[INFO] Keeping all rows: 89710 rows retained.\n"
     ]
    },
    {
     "name": "stdout",
     "output_type": "stream",
     "text": [
      "[INFO] Keeping all rows: 89710 rows retained.\n"
     ]
    },
    {
     "name": "stdout",
     "output_type": "stream",
     "text": [
      "[INFO] Keeping all rows: 89710 rows retained.\n"
     ]
    },
    {
     "data": {
      "text/html": [
       "<div>\n",
       "<style scoped>\n",
       "    .dataframe tbody tr th:only-of-type {\n",
       "        vertical-align: middle;\n",
       "    }\n",
       "\n",
       "    .dataframe tbody tr th {\n",
       "        vertical-align: top;\n",
       "    }\n",
       "\n",
       "    .dataframe thead th {\n",
       "        text-align: right;\n",
       "    }\n",
       "</style>\n",
       "<table border=\"1\" class=\"dataframe\">\n",
       "  <thead>\n",
       "    <tr style=\"text-align: right;\">\n",
       "      <th></th>\n",
       "      <th>run_no</th>\n",
       "      <th>universe_id</th>\n",
       "      <th>universe_settings</th>\n",
       "      <th>execution_time</th>\n",
       "      <th>test_size_n</th>\n",
       "      <th>test_size_frac</th>\n",
       "      <th>fair_main_equalized_odds_difference</th>\n",
       "      <th>fair_main_equalized_odds_ratio</th>\n",
       "      <th>fair_main_demographic_parity_difference</th>\n",
       "      <th>fair_main_demographic_parity_ratio</th>\n",
       "      <th>...</th>\n",
       "      <th>perf_grp_precision_0</th>\n",
       "      <th>perf_grp_precision_1</th>\n",
       "      <th>perf_grp_false positive rate_0</th>\n",
       "      <th>perf_grp_false positive rate_1</th>\n",
       "      <th>perf_grp_false negative rate_0</th>\n",
       "      <th>perf_grp_false negative rate_1</th>\n",
       "      <th>perf_grp_selection rate_0</th>\n",
       "      <th>perf_grp_selection rate_1</th>\n",
       "      <th>perf_grp_count_0</th>\n",
       "      <th>perf_grp_count_1</th>\n",
       "    </tr>\n",
       "  </thead>\n",
       "  <tbody>\n",
       "    <tr>\n",
       "      <th>0</th>\n",
       "      <td>3</td>\n",
       "      <td>9471b0234e2e843af649b9ee65f745af</td>\n",
       "      <td>{\"cutoff\": \"quantile_0.1\", \"eval_fairness_grou...</td>\n",
       "      <td>21.899671</td>\n",
       "      <td>89710</td>\n",
       "      <td>1.0</td>\n",
       "      <td>0.098883</td>\n",
       "      <td>0.897741</td>\n",
       "      <td>0.089726</td>\n",
       "      <td>0.907421</td>\n",
       "      <td>...</td>\n",
       "      <td>NaN</td>\n",
       "      <td>NaN</td>\n",
       "      <td>NaN</td>\n",
       "      <td>NaN</td>\n",
       "      <td>NaN</td>\n",
       "      <td>NaN</td>\n",
       "      <td>NaN</td>\n",
       "      <td>NaN</td>\n",
       "      <td>NaN</td>\n",
       "      <td>NaN</td>\n",
       "    </tr>\n",
       "    <tr>\n",
       "      <th>0</th>\n",
       "      <td>3</td>\n",
       "      <td>9471b0234e2e843af649b9ee65f745af</td>\n",
       "      <td>{\"cutoff\": \"quantile_0.1\", \"eval_fairness_grou...</td>\n",
       "      <td>21.899671</td>\n",
       "      <td>89710</td>\n",
       "      <td>1.0</td>\n",
       "      <td>0.098883</td>\n",
       "      <td>0.897741</td>\n",
       "      <td>0.089726</td>\n",
       "      <td>0.907421</td>\n",
       "      <td>...</td>\n",
       "      <td>0.117295</td>\n",
       "      <td>0.143346</td>\n",
       "      <td>0.966982</td>\n",
       "      <td>0.868099</td>\n",
       "      <td>0.013936</td>\n",
       "      <td>0.045952</td>\n",
       "      <td>0.969182</td>\n",
       "      <td>0.879456</td>\n",
       "      <td>20540.0</td>\n",
       "      <td>69170.0</td>\n",
       "    </tr>\n",
       "    <tr>\n",
       "      <th>0</th>\n",
       "      <td>3</td>\n",
       "      <td>9471b0234e2e843af649b9ee65f745af</td>\n",
       "      <td>{\"cutoff\": \"quantile_0.25\", \"eval_fairness_gro...</td>\n",
       "      <td>21.899671</td>\n",
       "      <td>89710</td>\n",
       "      <td>1.0</td>\n",
       "      <td>0.225677</td>\n",
       "      <td>0.750244</td>\n",
       "      <td>0.207115</td>\n",
       "      <td>0.772323</td>\n",
       "      <td>...</td>\n",
       "      <td>NaN</td>\n",
       "      <td>NaN</td>\n",
       "      <td>NaN</td>\n",
       "      <td>NaN</td>\n",
       "      <td>NaN</td>\n",
       "      <td>NaN</td>\n",
       "      <td>NaN</td>\n",
       "      <td>NaN</td>\n",
       "      <td>NaN</td>\n",
       "      <td>NaN</td>\n",
       "    </tr>\n",
       "    <tr>\n",
       "      <th>0</th>\n",
       "      <td>3</td>\n",
       "      <td>9471b0234e2e843af649b9ee65f745af</td>\n",
       "      <td>{\"cutoff\": \"quantile_0.25\", \"eval_fairness_gro...</td>\n",
       "      <td>21.899671</td>\n",
       "      <td>89710</td>\n",
       "      <td>1.0</td>\n",
       "      <td>0.225677</td>\n",
       "      <td>0.750244</td>\n",
       "      <td>0.207115</td>\n",
       "      <td>0.772323</td>\n",
       "      <td>...</td>\n",
       "      <td>0.121220</td>\n",
       "      <td>0.162603</td>\n",
       "      <td>0.903588</td>\n",
       "      <td>0.677911</td>\n",
       "      <td>0.043497</td>\n",
       "      <td>0.135449</td>\n",
       "      <td>0.909688</td>\n",
       "      <td>0.702573</td>\n",
       "      <td>20540.0</td>\n",
       "      <td>69170.0</td>\n",
       "    </tr>\n",
       "  </tbody>\n",
       "</table>\n",
       "<p>4 rows × 50 columns</p>\n",
       "</div>"
      ],
      "text/plain": [
       "  run_no                       universe_id  \\\n",
       "0      3  9471b0234e2e843af649b9ee65f745af   \n",
       "0      3  9471b0234e2e843af649b9ee65f745af   \n",
       "0      3  9471b0234e2e843af649b9ee65f745af   \n",
       "0      3  9471b0234e2e843af649b9ee65f745af   \n",
       "\n",
       "                                   universe_settings  execution_time  \\\n",
       "0  {\"cutoff\": \"quantile_0.1\", \"eval_fairness_grou...       21.899671   \n",
       "0  {\"cutoff\": \"quantile_0.1\", \"eval_fairness_grou...       21.899671   \n",
       "0  {\"cutoff\": \"quantile_0.25\", \"eval_fairness_gro...       21.899671   \n",
       "0  {\"cutoff\": \"quantile_0.25\", \"eval_fairness_gro...       21.899671   \n",
       "\n",
       "   test_size_n  test_size_frac  fair_main_equalized_odds_difference  \\\n",
       "0        89710             1.0                             0.098883   \n",
       "0        89710             1.0                             0.098883   \n",
       "0        89710             1.0                             0.225677   \n",
       "0        89710             1.0                             0.225677   \n",
       "\n",
       "   fair_main_equalized_odds_ratio  fair_main_demographic_parity_difference  \\\n",
       "0                        0.897741                                 0.089726   \n",
       "0                        0.897741                                 0.089726   \n",
       "0                        0.750244                                 0.207115   \n",
       "0                        0.750244                                 0.207115   \n",
       "\n",
       "   fair_main_demographic_parity_ratio  ...  perf_grp_precision_0  \\\n",
       "0                            0.907421  ...                   NaN   \n",
       "0                            0.907421  ...              0.117295   \n",
       "0                            0.772323  ...                   NaN   \n",
       "0                            0.772323  ...              0.121220   \n",
       "\n",
       "   perf_grp_precision_1  perf_grp_false positive rate_0  \\\n",
       "0                   NaN                             NaN   \n",
       "0              0.143346                        0.966982   \n",
       "0                   NaN                             NaN   \n",
       "0              0.162603                        0.903588   \n",
       "\n",
       "   perf_grp_false positive rate_1  perf_grp_false negative rate_0  \\\n",
       "0                             NaN                             NaN   \n",
       "0                        0.868099                        0.013936   \n",
       "0                             NaN                             NaN   \n",
       "0                        0.677911                        0.043497   \n",
       "\n",
       "   perf_grp_false negative rate_1  perf_grp_selection rate_0  \\\n",
       "0                             NaN                        NaN   \n",
       "0                        0.045952                   0.969182   \n",
       "0                             NaN                        NaN   \n",
       "0                        0.135449                   0.909688   \n",
       "\n",
       "   perf_grp_selection rate_1  perf_grp_count_0  perf_grp_count_1  \n",
       "0                        NaN               NaN               NaN  \n",
       "0                   0.879456           20540.0           69170.0  \n",
       "0                        NaN               NaN               NaN  \n",
       "0                   0.702573           20540.0           69170.0  \n",
       "\n",
       "[4 rows x 50 columns]"
      ]
     },
     "execution_count": 64,
     "metadata": {},
     "output_type": "execute_result"
    }
   ],
   "source": [
    "final_output = universe_analysis.generate_final_output(\n",
    "    y_pred_prob=probs_test,\n",
    "    y_test=y_true,\n",
    "    org_test=org_test,\n",
    "    filter_data=filter_sub_universe_data,\n",
    "    cp_metrics_df=cp_metrics_df,\n",
    "    save=True,\n",
    ")\n",
    "final_output"
   ]
  },
  {
   "cell_type": "code",
   "execution_count": null,
   "id": "8b80a1ff",
   "metadata": {
    "papermill": {
     "duration": 0.032289,
     "end_time": "2025-08-19T18:08:42.497661",
     "exception": false,
     "start_time": "2025-08-19T18:08:42.465372",
     "status": "completed"
    },
    "tags": []
   },
   "outputs": [],
   "source": []
  },
  {
   "cell_type": "code",
   "execution_count": null,
   "id": "275c9fad",
   "metadata": {
    "papermill": {
     "duration": 0.014535,
     "end_time": "2025-08-19T18:08:42.528001",
     "exception": false,
     "start_time": "2025-08-19T18:08:42.513466",
     "status": "completed"
    },
    "tags": []
   },
   "outputs": [],
   "source": []
  }
 ],
 "metadata": {
  "celltoolbar": "Tags",
  "kernelspec": {
   "display_name": "Python (CMA Fairness)",
   "language": "python",
   "name": "cma_fair_env"
  },
  "language_info": {
   "codemirror_mode": {
    "name": "ipython",
    "version": 3
   },
   "file_extension": ".py",
   "mimetype": "text/x-python",
   "name": "python",
   "nbconvert_exporter": "python",
   "pygments_lexer": "ipython3",
   "version": "3.10.12"
  },
  "papermill": {
   "default_parameters": {},
   "duration": 32.469267,
   "end_time": "2025-08-19T18:08:43.470198",
   "environment_variables": {},
   "exception": null,
   "input_path": "universe_analysis.ipynb",
   "output_path": "output/runs/3/notebooks/m_3-9471b0234e2e843af649b9ee65f745af.ipynb",
   "parameters": {
    "output_dir": "output",
    "run_no": "3",
    "seed": "2023",
    "universe": "{\"cutoff\": [\"quantile_0.1\", \"quantile_0.25\"], \"eval_fairness_grouping\": [\"majority-minority\", \"nationality-all\"], \"exclude_features\": \"sex\", \"exclude_subgroups\": \"drop-non-german\", \"model\": \"logreg\", \"scale\": \"do-not-scale\", \"training_size\": \"25k\", \"training_year\": \"2012_14\"}",
    "universe_id": "9471b0234e2e843af649b9ee65f745af"
   },
   "start_time": "2025-08-19T18:08:11.000931",
   "version": "2.6.0"
  }
 },
 "nbformat": 4,
 "nbformat_minor": 5
}