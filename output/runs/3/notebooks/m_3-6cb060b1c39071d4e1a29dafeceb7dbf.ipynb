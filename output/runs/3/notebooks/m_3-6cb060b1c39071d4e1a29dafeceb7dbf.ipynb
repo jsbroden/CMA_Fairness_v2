{
 "cells": [
  {
   "cell_type": "markdown",
   "id": "ef23dbb3",
   "metadata": {
    "papermill": {
     "duration": 0.012158,
     "end_time": "2025-08-19T18:36:06.525407",
     "exception": false,
     "start_time": "2025-08-19T18:36:06.513249",
     "status": "completed"
    },
    "tags": []
   },
   "source": [
    "# Setup"
   ]
  },
  {
   "cell_type": "code",
   "execution_count": 1,
   "id": "0bc8e7dc",
   "metadata": {
    "execution": {
     "iopub.execute_input": "2025-08-19T18:36:06.544852Z",
     "iopub.status.busy": "2025-08-19T18:36:06.543990Z",
     "iopub.status.idle": "2025-08-19T18:36:06.554564Z",
     "shell.execute_reply": "2025-08-19T18:36:06.553684Z"
    },
    "papermill": {
     "duration": 0.024652,
     "end_time": "2025-08-19T18:36:06.558819",
     "exception": false,
     "start_time": "2025-08-19T18:36:06.534167",
     "status": "completed"
    },
    "tags": []
   },
   "outputs": [
    {
     "name": "stdout",
     "output_type": "stream",
     "text": [
      "/dss/dsshome1/0C/ra93lal2/cma/CMA_Fairness_v2\n"
     ]
    },
    {
     "name": "stderr",
     "output_type": "stream",
     "text": [
      "/dss/dsshome1/0C/ra93lal2/.local/share/virtualenvs/CMA_Fairness_v2-3j10GkSs/lib/python3.10/site-packages/IPython/core/magics/osm.py:393: UserWarning: This is now an optional IPython functionality, using bookmarks requires you to install the `pickleshare` library.\n",
      "  bkms = self.shell.db.get('bookmarks', {})\n",
      "/dss/dsshome1/0C/ra93lal2/.local/share/virtualenvs/CMA_Fairness_v2-3j10GkSs/lib/python3.10/site-packages/IPython/core/magics/osm.py:417: UserWarning: This is now an optional IPython functionality, setting dhist requires you to install the `pickleshare` library.\n",
      "  self.shell.db['dhist'] = compress_dhist(dhist)[-100:]\n"
     ]
    }
   ],
   "source": [
    "%cd ~/cma/CMA_Fairness_v2"
   ]
  },
  {
   "cell_type": "markdown",
   "id": "9d235661",
   "metadata": {
    "papermill": {
     "duration": 0.009355,
     "end_time": "2025-08-19T18:36:06.578756",
     "exception": false,
     "start_time": "2025-08-19T18:36:06.569401",
     "status": "completed"
    },
    "tags": []
   },
   "source": [
    "The following cell holds the definition of our parameters, these values can be overriden by rendering the with e.g. the following command:\n",
    "\n",
    "papermill -p alpha 0.2 -p ratio 0.3 universe_analysis.ipynb output/test_run.ipynb"
   ]
  },
  {
   "cell_type": "code",
   "execution_count": 2,
   "id": "4a789d8e",
   "metadata": {
    "execution": {
     "iopub.execute_input": "2025-08-19T18:36:06.597593Z",
     "iopub.status.busy": "2025-08-19T18:36:06.597191Z",
     "iopub.status.idle": "2025-08-19T18:36:06.601708Z",
     "shell.execute_reply": "2025-08-19T18:36:06.600931Z"
    },
    "papermill": {
     "duration": 0.01618,
     "end_time": "2025-08-19T18:36:06.603740",
     "exception": false,
     "start_time": "2025-08-19T18:36:06.587560",
     "status": "completed"
    },
    "tags": []
   },
   "outputs": [
    {
     "name": "stdout",
     "output_type": "stream",
     "text": [
      "Current working directory: /dss/dsshome1/0C/ra93lal2/cma/CMA_Fairness_v2\n"
     ]
    }
   ],
   "source": [
    "import os\n",
    "print(\"Current working directory:\", os.getcwd())"
   ]
  },
  {
   "cell_type": "code",
   "execution_count": 3,
   "id": "4132aaed",
   "metadata": {
    "execution": {
     "iopub.execute_input": "2025-08-19T18:36:06.622895Z",
     "iopub.status.busy": "2025-08-19T18:36:06.622510Z",
     "iopub.status.idle": "2025-08-19T18:36:06.628148Z",
     "shell.execute_reply": "2025-08-19T18:36:06.627181Z"
    },
    "papermill": {
     "duration": 0.016869,
     "end_time": "2025-08-19T18:36:06.629572",
     "exception": false,
     "start_time": "2025-08-19T18:36:06.612703",
     "status": "completed"
    },
    "tags": [
     "parameters"
    ]
   },
   "outputs": [],
   "source": [
    "run_no = 0\n",
    "universe_id = \"test\"\n",
    "universe = {\n",
    "    \"training_size\": \"5k\", # \"25k\", \"5k\", \"1k\"\n",
    "    \"training_year\": \"2012_14\", # \"2014\", \"2012_14\", \"2010_14\"\n",
    "    \"scale\": \"scale\", # \"scale\", \"do-not-scale\",\n",
    "    \"model\": \"elasticnet\", # \"logreg\", \"penalized_logreg\", \"rf\", \"gbm\", \"elasticnet\"\n",
    "    \"cutoff\": [\"quantile_0.15\", \"quantile_0.30\"],\n",
    "    \"exclude_features\": \"age\", # \"none\", \"nationality\", \"sex\", \"nationality-sex\", \"age\"\n",
    "    \"exclude_subgroups\": \"drop-non-german\", # \"keep-all\", \"drop-non-german\"\n",
    "    \"eval_fairness_grouping\": [\"majority-minority\", \"nationality-all\"]\n",
    "}\n",
    "\n",
    "output_dir=\"./output\"\n",
    "seed=0"
   ]
  },
  {
   "cell_type": "code",
   "execution_count": 4,
   "id": "54a237fe",
   "metadata": {
    "execution": {
     "iopub.execute_input": "2025-08-19T18:36:06.649363Z",
     "iopub.status.busy": "2025-08-19T18:36:06.648964Z",
     "iopub.status.idle": "2025-08-19T18:36:06.653908Z",
     "shell.execute_reply": "2025-08-19T18:36:06.652832Z"
    },
    "papermill": {
     "duration": 0.01685,
     "end_time": "2025-08-19T18:36:06.655485",
     "exception": false,
     "start_time": "2025-08-19T18:36:06.638635",
     "status": "completed"
    },
    "tags": [
     "injected-parameters"
    ]
   },
   "outputs": [],
   "source": [
    "# Parameters\n",
    "universe_id = \"6cb060b1c39071d4e1a29dafeceb7dbf\"\n",
    "run_no = \"3\"\n",
    "universe = \"{\\\"cutoff\\\": [\\\"quantile_0.1\\\", \\\"quantile_0.25\\\"], \\\"eval_fairness_grouping\\\": [\\\"majority-minority\\\", \\\"nationality-all\\\"], \\\"exclude_features\\\": \\\"nationality-sex\\\", \\\"exclude_subgroups\\\": \\\"keep-all\\\", \\\"model\\\": \\\"penalized_logreg\\\", \\\"scale\\\": \\\"do-not-scale\\\", \\\"training_size\\\": \\\"5k\\\", \\\"training_year\\\": \\\"2012_14\\\"}\"\n",
    "output_dir = \"output\"\n",
    "seed = \"2023\"\n"
   ]
  },
  {
   "cell_type": "code",
   "execution_count": 5,
   "id": "a5d7941f",
   "metadata": {
    "execution": {
     "iopub.execute_input": "2025-08-19T18:36:06.675688Z",
     "iopub.status.busy": "2025-08-19T18:36:06.675295Z",
     "iopub.status.idle": "2025-08-19T18:36:06.679788Z",
     "shell.execute_reply": "2025-08-19T18:36:06.678830Z"
    },
    "papermill": {
     "duration": 0.016998,
     "end_time": "2025-08-19T18:36:06.681555",
     "exception": false,
     "start_time": "2025-08-19T18:36:06.664557",
     "status": "completed"
    },
    "tags": []
   },
   "outputs": [],
   "source": [
    "import json\n",
    "if isinstance(universe, str):\n",
    "    universe = json.loads(universe)"
   ]
  },
  {
   "cell_type": "code",
   "execution_count": 6,
   "id": "7076ccb1",
   "metadata": {
    "execution": {
     "iopub.execute_input": "2025-08-19T18:36:06.700704Z",
     "iopub.status.busy": "2025-08-19T18:36:06.700297Z",
     "iopub.status.idle": "2025-08-19T18:36:06.739413Z",
     "shell.execute_reply": "2025-08-19T18:36:06.738447Z"
    },
    "papermill": {
     "duration": 0.050683,
     "end_time": "2025-08-19T18:36:06.741243",
     "exception": false,
     "start_time": "2025-08-19T18:36:06.690560",
     "status": "completed"
    },
    "tags": []
   },
   "outputs": [],
   "source": [
    "# Auto-reload the custom package\n",
    "%load_ext autoreload\n",
    "%autoreload 1\n",
    "%aimport fairness_multiverse"
   ]
  },
  {
   "cell_type": "code",
   "execution_count": 7,
   "id": "94c8eb93",
   "metadata": {
    "execution": {
     "iopub.execute_input": "2025-08-19T18:36:06.763886Z",
     "iopub.status.busy": "2025-08-19T18:36:06.762877Z",
     "iopub.status.idle": "2025-08-19T18:36:08.299947Z",
     "shell.execute_reply": "2025-08-19T18:36:08.298268Z"
    },
    "papermill": {
     "duration": 1.550145,
     "end_time": "2025-08-19T18:36:08.301946",
     "exception": false,
     "start_time": "2025-08-19T18:36:06.751801",
     "status": "completed"
    },
    "tags": []
   },
   "outputs": [],
   "source": [
    "from fairness_multiverse.universe import UniverseAnalysis\n",
    "\n",
    "universe_analysis = UniverseAnalysis(\n",
    "    run_no = run_no,\n",
    "    universe_id = universe_id,\n",
    "    universe = universe,\n",
    "    output_dir=output_dir,\n",
    ")"
   ]
  },
  {
   "cell_type": "code",
   "execution_count": 8,
   "id": "2a6381cf",
   "metadata": {
    "execution": {
     "iopub.execute_input": "2025-08-19T18:36:08.332395Z",
     "iopub.status.busy": "2025-08-19T18:36:08.331809Z",
     "iopub.status.idle": "2025-08-19T18:36:08.338835Z",
     "shell.execute_reply": "2025-08-19T18:36:08.338036Z"
    },
    "papermill": {
     "duration": 0.025417,
     "end_time": "2025-08-19T18:36:08.340414",
     "exception": false,
     "start_time": "2025-08-19T18:36:08.314997",
     "status": "completed"
    },
    "tags": []
   },
   "outputs": [
    {
     "name": "stdout",
     "output_type": "stream",
     "text": [
      "Using Seed: 2023\n"
     ]
    }
   ],
   "source": [
    "import numpy as np\n",
    "parsed_seed = int(seed)\n",
    "np.random.seed(parsed_seed)\n",
    "print(f\"Using Seed: {parsed_seed}\")"
   ]
  },
  {
   "cell_type": "markdown",
   "id": "b6e958b4",
   "metadata": {
    "papermill": {
     "duration": 0.008958,
     "end_time": "2025-08-19T18:36:08.358579",
     "exception": false,
     "start_time": "2025-08-19T18:36:08.349621",
     "status": "completed"
    },
    "tags": []
   },
   "source": [
    "# Loading Data"
   ]
  },
  {
   "cell_type": "code",
   "execution_count": 9,
   "id": "98701482",
   "metadata": {
    "execution": {
     "iopub.execute_input": "2025-08-19T18:36:08.378127Z",
     "iopub.status.busy": "2025-08-19T18:36:08.377717Z",
     "iopub.status.idle": "2025-08-19T18:36:18.260879Z",
     "shell.execute_reply": "2025-08-19T18:36:18.246796Z"
    },
    "papermill": {
     "duration": 9.895264,
     "end_time": "2025-08-19T18:36:18.262951",
     "exception": false,
     "start_time": "2025-08-19T18:36:08.367687",
     "status": "completed"
    },
    "tags": []
   },
   "outputs": [
    {
     "name": "stdout",
     "output_type": "stream",
     "text": [
      "Loading SIAB data from cache: data/siab_cached.csv.gz\n"
     ]
    },
    {
     "name": "stdout",
     "output_type": "stream",
     "text": [
      "(643690, 164)\n"
     ]
    }
   ],
   "source": [
    "from pathlib import Path\n",
    "import pandas as pd\n",
    "\n",
    "# File paths\n",
    "raw_file = Path(\"data/raw/siab.csv\")\n",
    "cache_file = Path(\"data/siab_cached.csv.gz\")\n",
    "\n",
    "# Ensure cache directory exists\n",
    "cache_file.parent.mkdir(parents=True, exist_ok=True)\n",
    "\n",
    "# Load with simple caching\n",
    "if cache_file.exists():\n",
    "    print(f\"Loading SIAB data from cache: {cache_file}\")\n",
    "    siab = pd.read_csv(cache_file, compression='gzip')\n",
    "else:\n",
    "    print(f\"Cache not found. Reading raw SIAB data: {raw_file}\")\n",
    "    siab = pd.read_csv(raw_file)\n",
    "    siab.to_csv(cache_file, index=False, compression='gzip')\n",
    "    print(f\"Cached SIAB data to: {cache_file}\")\n",
    "\n",
    "print(siab.shape)"
   ]
  },
  {
   "cell_type": "code",
   "execution_count": 10,
   "id": "058d2abb",
   "metadata": {
    "execution": {
     "iopub.execute_input": "2025-08-19T18:36:18.287313Z",
     "iopub.status.busy": "2025-08-19T18:36:18.286757Z",
     "iopub.status.idle": "2025-08-19T18:36:18.412804Z",
     "shell.execute_reply": "2025-08-19T18:36:18.411925Z"
    },
    "papermill": {
     "duration": 0.13849,
     "end_time": "2025-08-19T18:36:18.414422",
     "exception": false,
     "start_time": "2025-08-19T18:36:18.275932",
     "status": "completed"
    },
    "tags": []
   },
   "outputs": [
    {
     "data": {
      "text/html": [
       "<div>\n",
       "<style scoped>\n",
       "    .dataframe tbody tr th:only-of-type {\n",
       "        vertical-align: middle;\n",
       "    }\n",
       "\n",
       "    .dataframe tbody tr th {\n",
       "        vertical-align: top;\n",
       "    }\n",
       "\n",
       "    .dataframe thead th {\n",
       "        text-align: right;\n",
       "    }\n",
       "</style>\n",
       "<table border=\"1\" class=\"dataframe\">\n",
       "  <thead>\n",
       "    <tr style=\"text-align: right;\">\n",
       "      <th></th>\n",
       "      <th>persnr</th>\n",
       "      <th>year</th>\n",
       "      <th>nrEntry</th>\n",
       "      <th>ltue</th>\n",
       "      <th>employed_before</th>\n",
       "      <th>receipt_leh_before</th>\n",
       "      <th>receipt_lhg_before</th>\n",
       "      <th>se_before</th>\n",
       "      <th>ASU_notue_seeking_before</th>\n",
       "      <th>ASU_other_before</th>\n",
       "      <th>...</th>\n",
       "      <th>minijob_tot_dur_byage</th>\n",
       "      <th>ft_tot_dur_byage</th>\n",
       "      <th>befrist_tot_dur_byage</th>\n",
       "      <th>leih_tot_dur_byage</th>\n",
       "      <th>LHG_tot_dur_byage</th>\n",
       "      <th>LEH_tot_dur_byage</th>\n",
       "      <th>almp_tot_dur_byage</th>\n",
       "      <th>almp_aw_tot_dur_byage</th>\n",
       "      <th>se_tot_dur_byage</th>\n",
       "      <th>seeking1_tot_dur_byage</th>\n",
       "    </tr>\n",
       "  </thead>\n",
       "  <tbody>\n",
       "    <tr>\n",
       "      <th>0</th>\n",
       "      <td>7</td>\n",
       "      <td>2015</td>\n",
       "      <td>1</td>\n",
       "      <td>0</td>\n",
       "      <td>1</td>\n",
       "      <td>0</td>\n",
       "      <td>0</td>\n",
       "      <td>0</td>\n",
       "      <td>1</td>\n",
       "      <td>0</td>\n",
       "      <td>...</td>\n",
       "      <td>0.000000</td>\n",
       "      <td>0.000000</td>\n",
       "      <td>15.043478</td>\n",
       "      <td>0.000000</td>\n",
       "      <td>0.000000</td>\n",
       "      <td>0.000000</td>\n",
       "      <td>0.000000</td>\n",
       "      <td>0.000000</td>\n",
       "      <td>0.000000</td>\n",
       "      <td>0.000000</td>\n",
       "    </tr>\n",
       "    <tr>\n",
       "      <th>1</th>\n",
       "      <td>18</td>\n",
       "      <td>2010</td>\n",
       "      <td>1</td>\n",
       "      <td>1</td>\n",
       "      <td>0</td>\n",
       "      <td>0</td>\n",
       "      <td>0</td>\n",
       "      <td>0</td>\n",
       "      <td>0</td>\n",
       "      <td>0</td>\n",
       "      <td>...</td>\n",
       "      <td>0.000000</td>\n",
       "      <td>0.000000</td>\n",
       "      <td>0.000000</td>\n",
       "      <td>0.000000</td>\n",
       "      <td>0.000000</td>\n",
       "      <td>0.000000</td>\n",
       "      <td>0.000000</td>\n",
       "      <td>0.000000</td>\n",
       "      <td>0.000000</td>\n",
       "      <td>0.000000</td>\n",
       "    </tr>\n",
       "    <tr>\n",
       "      <th>2</th>\n",
       "      <td>18</td>\n",
       "      <td>2011</td>\n",
       "      <td>2</td>\n",
       "      <td>0</td>\n",
       "      <td>1</td>\n",
       "      <td>0</td>\n",
       "      <td>1</td>\n",
       "      <td>0</td>\n",
       "      <td>1</td>\n",
       "      <td>0</td>\n",
       "      <td>...</td>\n",
       "      <td>2.714286</td>\n",
       "      <td>2.714286</td>\n",
       "      <td>0.000000</td>\n",
       "      <td>0.000000</td>\n",
       "      <td>10.775510</td>\n",
       "      <td>0.000000</td>\n",
       "      <td>8.367347</td>\n",
       "      <td>0.000000</td>\n",
       "      <td>0.000000</td>\n",
       "      <td>9.836735</td>\n",
       "    </tr>\n",
       "    <tr>\n",
       "      <th>3</th>\n",
       "      <td>18</td>\n",
       "      <td>2012</td>\n",
       "      <td>3</td>\n",
       "      <td>0</td>\n",
       "      <td>1</td>\n",
       "      <td>0</td>\n",
       "      <td>1</td>\n",
       "      <td>0</td>\n",
       "      <td>1</td>\n",
       "      <td>0</td>\n",
       "      <td>...</td>\n",
       "      <td>4.200000</td>\n",
       "      <td>4.200000</td>\n",
       "      <td>0.000000</td>\n",
       "      <td>0.000000</td>\n",
       "      <td>12.100000</td>\n",
       "      <td>0.000000</td>\n",
       "      <td>9.400000</td>\n",
       "      <td>0.000000</td>\n",
       "      <td>0.000000</td>\n",
       "      <td>9.960000</td>\n",
       "    </tr>\n",
       "    <tr>\n",
       "      <th>4</th>\n",
       "      <td>18</td>\n",
       "      <td>2012</td>\n",
       "      <td>4</td>\n",
       "      <td>0</td>\n",
       "      <td>1</td>\n",
       "      <td>0</td>\n",
       "      <td>1</td>\n",
       "      <td>0</td>\n",
       "      <td>1</td>\n",
       "      <td>0</td>\n",
       "      <td>...</td>\n",
       "      <td>5.460000</td>\n",
       "      <td>5.460000</td>\n",
       "      <td>0.000000</td>\n",
       "      <td>0.000000</td>\n",
       "      <td>13.360000</td>\n",
       "      <td>0.000000</td>\n",
       "      <td>10.320000</td>\n",
       "      <td>0.000000</td>\n",
       "      <td>0.000000</td>\n",
       "      <td>10.280000</td>\n",
       "    </tr>\n",
       "    <tr>\n",
       "      <th>...</th>\n",
       "      <td>...</td>\n",
       "      <td>...</td>\n",
       "      <td>...</td>\n",
       "      <td>...</td>\n",
       "      <td>...</td>\n",
       "      <td>...</td>\n",
       "      <td>...</td>\n",
       "      <td>...</td>\n",
       "      <td>...</td>\n",
       "      <td>...</td>\n",
       "      <td>...</td>\n",
       "      <td>...</td>\n",
       "      <td>...</td>\n",
       "      <td>...</td>\n",
       "      <td>...</td>\n",
       "      <td>...</td>\n",
       "      <td>...</td>\n",
       "      <td>...</td>\n",
       "      <td>...</td>\n",
       "      <td>...</td>\n",
       "      <td>...</td>\n",
       "    </tr>\n",
       "    <tr>\n",
       "      <th>643685</th>\n",
       "      <td>1827860</td>\n",
       "      <td>2013</td>\n",
       "      <td>1</td>\n",
       "      <td>0</td>\n",
       "      <td>0</td>\n",
       "      <td>0</td>\n",
       "      <td>1</td>\n",
       "      <td>0</td>\n",
       "      <td>0</td>\n",
       "      <td>1</td>\n",
       "      <td>...</td>\n",
       "      <td>0.000000</td>\n",
       "      <td>0.000000</td>\n",
       "      <td>0.000000</td>\n",
       "      <td>0.000000</td>\n",
       "      <td>0.612903</td>\n",
       "      <td>0.000000</td>\n",
       "      <td>0.000000</td>\n",
       "      <td>0.000000</td>\n",
       "      <td>0.000000</td>\n",
       "      <td>0.000000</td>\n",
       "    </tr>\n",
       "    <tr>\n",
       "      <th>643686</th>\n",
       "      <td>1827860</td>\n",
       "      <td>2015</td>\n",
       "      <td>2</td>\n",
       "      <td>1</td>\n",
       "      <td>0</td>\n",
       "      <td>0</td>\n",
       "      <td>1</td>\n",
       "      <td>0</td>\n",
       "      <td>1</td>\n",
       "      <td>0</td>\n",
       "      <td>...</td>\n",
       "      <td>0.000000</td>\n",
       "      <td>0.000000</td>\n",
       "      <td>0.212121</td>\n",
       "      <td>0.212121</td>\n",
       "      <td>17.363636</td>\n",
       "      <td>0.000000</td>\n",
       "      <td>8.909091</td>\n",
       "      <td>0.000000</td>\n",
       "      <td>0.000000</td>\n",
       "      <td>7.121212</td>\n",
       "    </tr>\n",
       "    <tr>\n",
       "      <th>643687</th>\n",
       "      <td>1827860</td>\n",
       "      <td>2016</td>\n",
       "      <td>3</td>\n",
       "      <td>1</td>\n",
       "      <td>0</td>\n",
       "      <td>0</td>\n",
       "      <td>1</td>\n",
       "      <td>1</td>\n",
       "      <td>0</td>\n",
       "      <td>1</td>\n",
       "      <td>...</td>\n",
       "      <td>0.000000</td>\n",
       "      <td>0.000000</td>\n",
       "      <td>0.294118</td>\n",
       "      <td>0.205882</td>\n",
       "      <td>34.705882</td>\n",
       "      <td>0.000000</td>\n",
       "      <td>10.352941</td>\n",
       "      <td>1.705882</td>\n",
       "      <td>1.705882</td>\n",
       "      <td>23.911765</td>\n",
       "    </tr>\n",
       "    <tr>\n",
       "      <th>643688</th>\n",
       "      <td>1827869</td>\n",
       "      <td>2013</td>\n",
       "      <td>1</td>\n",
       "      <td>1</td>\n",
       "      <td>1</td>\n",
       "      <td>0</td>\n",
       "      <td>0</td>\n",
       "      <td>0</td>\n",
       "      <td>1</td>\n",
       "      <td>0</td>\n",
       "      <td>...</td>\n",
       "      <td>0.000000</td>\n",
       "      <td>0.000000</td>\n",
       "      <td>0.000000</td>\n",
       "      <td>0.000000</td>\n",
       "      <td>0.000000</td>\n",
       "      <td>0.525424</td>\n",
       "      <td>0.000000</td>\n",
       "      <td>0.000000</td>\n",
       "      <td>0.000000</td>\n",
       "      <td>0.000000</td>\n",
       "    </tr>\n",
       "    <tr>\n",
       "      <th>643689</th>\n",
       "      <td>1827869</td>\n",
       "      <td>2014</td>\n",
       "      <td>2</td>\n",
       "      <td>0</td>\n",
       "      <td>0</td>\n",
       "      <td>1</td>\n",
       "      <td>0</td>\n",
       "      <td>0</td>\n",
       "      <td>1</td>\n",
       "      <td>0</td>\n",
       "      <td>...</td>\n",
       "      <td>0.000000</td>\n",
       "      <td>0.666667</td>\n",
       "      <td>0.666667</td>\n",
       "      <td>0.000000</td>\n",
       "      <td>0.000000</td>\n",
       "      <td>8.950000</td>\n",
       "      <td>1.033333</td>\n",
       "      <td>0.083333</td>\n",
       "      <td>0.083333</td>\n",
       "      <td>8.133333</td>\n",
       "    </tr>\n",
       "  </tbody>\n",
       "</table>\n",
       "<p>643690 rows × 164 columns</p>\n",
       "</div>"
      ],
      "text/plain": [
       "         persnr  year  nrEntry  ltue  employed_before  receipt_leh_before  \\\n",
       "0             7  2015        1     0                1                   0   \n",
       "1            18  2010        1     1                0                   0   \n",
       "2            18  2011        2     0                1                   0   \n",
       "3            18  2012        3     0                1                   0   \n",
       "4            18  2012        4     0                1                   0   \n",
       "...         ...   ...      ...   ...              ...                 ...   \n",
       "643685  1827860  2013        1     0                0                   0   \n",
       "643686  1827860  2015        2     1                0                   0   \n",
       "643687  1827860  2016        3     1                0                   0   \n",
       "643688  1827869  2013        1     1                1                   0   \n",
       "643689  1827869  2014        2     0                0                   1   \n",
       "\n",
       "        receipt_lhg_before  se_before  ASU_notue_seeking_before  \\\n",
       "0                        0          0                         1   \n",
       "1                        0          0                         0   \n",
       "2                        1          0                         1   \n",
       "3                        1          0                         1   \n",
       "4                        1          0                         1   \n",
       "...                    ...        ...                       ...   \n",
       "643685                   1          0                         0   \n",
       "643686                   1          0                         1   \n",
       "643687                   1          1                         0   \n",
       "643688                   0          0                         1   \n",
       "643689                   0          0                         1   \n",
       "\n",
       "        ASU_other_before  ...  minijob_tot_dur_byage  ft_tot_dur_byage  \\\n",
       "0                      0  ...               0.000000          0.000000   \n",
       "1                      0  ...               0.000000          0.000000   \n",
       "2                      0  ...               2.714286          2.714286   \n",
       "3                      0  ...               4.200000          4.200000   \n",
       "4                      0  ...               5.460000          5.460000   \n",
       "...                  ...  ...                    ...               ...   \n",
       "643685                 1  ...               0.000000          0.000000   \n",
       "643686                 0  ...               0.000000          0.000000   \n",
       "643687                 1  ...               0.000000          0.000000   \n",
       "643688                 0  ...               0.000000          0.000000   \n",
       "643689                 0  ...               0.000000          0.666667   \n",
       "\n",
       "        befrist_tot_dur_byage  leih_tot_dur_byage  LHG_tot_dur_byage  \\\n",
       "0                   15.043478            0.000000           0.000000   \n",
       "1                    0.000000            0.000000           0.000000   \n",
       "2                    0.000000            0.000000          10.775510   \n",
       "3                    0.000000            0.000000          12.100000   \n",
       "4                    0.000000            0.000000          13.360000   \n",
       "...                       ...                 ...                ...   \n",
       "643685               0.000000            0.000000           0.612903   \n",
       "643686               0.212121            0.212121          17.363636   \n",
       "643687               0.294118            0.205882          34.705882   \n",
       "643688               0.000000            0.000000           0.000000   \n",
       "643689               0.666667            0.000000           0.000000   \n",
       "\n",
       "        LEH_tot_dur_byage  almp_tot_dur_byage  almp_aw_tot_dur_byage  \\\n",
       "0                0.000000            0.000000               0.000000   \n",
       "1                0.000000            0.000000               0.000000   \n",
       "2                0.000000            8.367347               0.000000   \n",
       "3                0.000000            9.400000               0.000000   \n",
       "4                0.000000           10.320000               0.000000   \n",
       "...                   ...                 ...                    ...   \n",
       "643685           0.000000            0.000000               0.000000   \n",
       "643686           0.000000            8.909091               0.000000   \n",
       "643687           0.000000           10.352941               1.705882   \n",
       "643688           0.525424            0.000000               0.000000   \n",
       "643689           8.950000            1.033333               0.083333   \n",
       "\n",
       "        se_tot_dur_byage  seeking1_tot_dur_byage  \n",
       "0               0.000000                0.000000  \n",
       "1               0.000000                0.000000  \n",
       "2               0.000000                9.836735  \n",
       "3               0.000000                9.960000  \n",
       "4               0.000000               10.280000  \n",
       "...                  ...                     ...  \n",
       "643685          0.000000                0.000000  \n",
       "643686          0.000000                7.121212  \n",
       "643687          1.705882               23.911765  \n",
       "643688          0.000000                0.000000  \n",
       "643689          0.083333                8.133333  \n",
       "\n",
       "[643690 rows x 164 columns]"
      ]
     },
     "execution_count": 10,
     "metadata": {},
     "output_type": "execute_result"
    }
   ],
   "source": [
    "siab"
   ]
  },
  {
   "cell_type": "markdown",
   "id": "1f87e805",
   "metadata": {
    "papermill": {
     "duration": 0.009314,
     "end_time": "2025-08-19T18:36:18.435293",
     "exception": false,
     "start_time": "2025-08-19T18:36:18.425979",
     "status": "completed"
    },
    "tags": []
   },
   "source": [
    "# Splitting Data and Setting Training Data Size"
   ]
  },
  {
   "cell_type": "code",
   "execution_count": 11,
   "id": "910ae358",
   "metadata": {
    "execution": {
     "iopub.execute_input": "2025-08-19T18:36:18.459021Z",
     "iopub.status.busy": "2025-08-19T18:36:18.458614Z",
     "iopub.status.idle": "2025-08-19T18:36:19.103506Z",
     "shell.execute_reply": "2025-08-19T18:36:19.102513Z"
    },
    "papermill": {
     "duration": 0.660612,
     "end_time": "2025-08-19T18:36:19.105226",
     "exception": false,
     "start_time": "2025-08-19T18:36:18.444614",
     "status": "completed"
    },
    "tags": []
   },
   "outputs": [],
   "source": [
    "from fairness_multiverse.universe import sample_by_year_size\n",
    "\n",
    "siab_train = sample_by_year_size(siab,\n",
    "                               training_year=universe[\"training_year\"],\n",
    "                               training_size=universe[\"training_size\"])"
   ]
  },
  {
   "cell_type": "code",
   "execution_count": 12,
   "id": "919c8ff5",
   "metadata": {
    "execution": {
     "iopub.execute_input": "2025-08-19T18:36:19.126879Z",
     "iopub.status.busy": "2025-08-19T18:36:19.126493Z",
     "iopub.status.idle": "2025-08-19T18:36:19.133278Z",
     "shell.execute_reply": "2025-08-19T18:36:19.132424Z"
    },
    "papermill": {
     "duration": 0.019552,
     "end_time": "2025-08-19T18:36:19.135145",
     "exception": false,
     "start_time": "2025-08-19T18:36:19.115593",
     "status": "completed"
    },
    "tags": []
   },
   "outputs": [
    {
     "data": {
      "text/plain": [
       "(5000, 164)"
      ]
     },
     "execution_count": 12,
     "metadata": {},
     "output_type": "execute_result"
    }
   ],
   "source": [
    "siab_train.shape"
   ]
  },
  {
   "cell_type": "code",
   "execution_count": 13,
   "id": "feb13bf4",
   "metadata": {
    "execution": {
     "iopub.execute_input": "2025-08-19T18:36:19.158093Z",
     "iopub.status.busy": "2025-08-19T18:36:19.157705Z",
     "iopub.status.idle": "2025-08-19T18:36:19.166606Z",
     "shell.execute_reply": "2025-08-19T18:36:19.165711Z"
    },
    "papermill": {
     "duration": 0.023045,
     "end_time": "2025-08-19T18:36:19.167963",
     "exception": false,
     "start_time": "2025-08-19T18:36:19.144918",
     "status": "completed"
    },
    "tags": []
   },
   "outputs": [
    {
     "data": {
      "text/plain": [
       "year\n",
       "2012    1667\n",
       "2013    1667\n",
       "2014    1666\n",
       "dtype: int64"
      ]
     },
     "metadata": {},
     "output_type": "display_data"
    }
   ],
   "source": [
    "display(siab_train.groupby(\"year\").size())"
   ]
  },
  {
   "cell_type": "code",
   "execution_count": 14,
   "id": "0997782f",
   "metadata": {
    "execution": {
     "iopub.execute_input": "2025-08-19T18:36:19.189826Z",
     "iopub.status.busy": "2025-08-19T18:36:19.188849Z",
     "iopub.status.idle": "2025-08-19T18:36:19.489464Z",
     "shell.execute_reply": "2025-08-19T18:36:19.487713Z"
    },
    "papermill": {
     "duration": 0.313555,
     "end_time": "2025-08-19T18:36:19.491431",
     "exception": false,
     "start_time": "2025-08-19T18:36:19.177876",
     "status": "completed"
    },
    "tags": []
   },
   "outputs": [],
   "source": [
    "#siab_train = siab_s[siab_s.year < 2015]\n",
    "siab_calib = siab[siab.year == 2015]\n",
    "siab_test = siab[siab.year == 2016]"
   ]
  },
  {
   "cell_type": "code",
   "execution_count": 15,
   "id": "2c1e4012",
   "metadata": {
    "execution": {
     "iopub.execute_input": "2025-08-19T18:36:19.520734Z",
     "iopub.status.busy": "2025-08-19T18:36:19.519846Z",
     "iopub.status.idle": "2025-08-19T18:36:19.525433Z",
     "shell.execute_reply": "2025-08-19T18:36:19.524633Z"
    },
    "papermill": {
     "duration": 0.023677,
     "end_time": "2025-08-19T18:36:19.526751",
     "exception": false,
     "start_time": "2025-08-19T18:36:19.503074",
     "status": "completed"
    },
    "tags": []
   },
   "outputs": [],
   "source": [
    "#siab_calib.shape"
   ]
  },
  {
   "cell_type": "code",
   "execution_count": 16,
   "id": "f66b54ca",
   "metadata": {
    "execution": {
     "iopub.execute_input": "2025-08-19T18:36:19.554925Z",
     "iopub.status.busy": "2025-08-19T18:36:19.554049Z",
     "iopub.status.idle": "2025-08-19T18:36:19.633736Z",
     "shell.execute_reply": "2025-08-19T18:36:19.631962Z"
    },
    "papermill": {
     "duration": 0.094678,
     "end_time": "2025-08-19T18:36:19.636972",
     "exception": false,
     "start_time": "2025-08-19T18:36:19.542294",
     "status": "completed"
    },
    "tags": []
   },
   "outputs": [],
   "source": [
    "#siab_test.shape"
   ]
  },
  {
   "cell_type": "code",
   "execution_count": 17,
   "id": "27e4384d",
   "metadata": {
    "execution": {
     "iopub.execute_input": "2025-08-19T18:36:19.679920Z",
     "iopub.status.busy": "2025-08-19T18:36:19.678960Z",
     "iopub.status.idle": "2025-08-19T18:36:19.699159Z",
     "shell.execute_reply": "2025-08-19T18:36:19.698022Z"
    },
    "papermill": {
     "duration": 0.041428,
     "end_time": "2025-08-19T18:36:19.703706",
     "exception": false,
     "start_time": "2025-08-19T18:36:19.662278",
     "status": "completed"
    },
    "tags": []
   },
   "outputs": [],
   "source": [
    "X_train = siab_train.iloc[:,4:164]\n",
    "y_train = siab_train.iloc[:, [3]]"
   ]
  },
  {
   "cell_type": "code",
   "execution_count": 18,
   "id": "08ee8389",
   "metadata": {
    "execution": {
     "iopub.execute_input": "2025-08-19T18:36:19.732696Z",
     "iopub.status.busy": "2025-08-19T18:36:19.731422Z",
     "iopub.status.idle": "2025-08-19T18:36:19.795816Z",
     "shell.execute_reply": "2025-08-19T18:36:19.794915Z"
    },
    "papermill": {
     "duration": 0.078506,
     "end_time": "2025-08-19T18:36:19.798080",
     "exception": false,
     "start_time": "2025-08-19T18:36:19.719574",
     "status": "completed"
    },
    "tags": []
   },
   "outputs": [],
   "source": [
    "X_calib = siab_calib.iloc[:,4:164]\n",
    "y_calib = siab_calib.iloc[:, [3]]"
   ]
  },
  {
   "cell_type": "code",
   "execution_count": 19,
   "id": "b7ff42e0",
   "metadata": {
    "execution": {
     "iopub.execute_input": "2025-08-19T18:36:19.836575Z",
     "iopub.status.busy": "2025-08-19T18:36:19.835618Z",
     "iopub.status.idle": "2025-08-19T18:36:19.904782Z",
     "shell.execute_reply": "2025-08-19T18:36:19.903637Z"
    },
    "papermill": {
     "duration": 0.084396,
     "end_time": "2025-08-19T18:36:19.906185",
     "exception": false,
     "start_time": "2025-08-19T18:36:19.821789",
     "status": "completed"
    },
    "tags": []
   },
   "outputs": [],
   "source": [
    "X_test = siab_test.iloc[:,4:164]\n",
    "y_true = siab_test.iloc[:, [3]]"
   ]
  },
  {
   "cell_type": "code",
   "execution_count": 20,
   "id": "0275101e",
   "metadata": {
    "execution": {
     "iopub.execute_input": "2025-08-19T18:36:19.930184Z",
     "iopub.status.busy": "2025-08-19T18:36:19.929465Z",
     "iopub.status.idle": "2025-08-19T18:36:20.050693Z",
     "shell.execute_reply": "2025-08-19T18:36:20.049331Z"
    },
    "papermill": {
     "duration": 0.136388,
     "end_time": "2025-08-19T18:36:20.053579",
     "exception": false,
     "start_time": "2025-08-19T18:36:19.917191",
     "status": "completed"
    },
    "tags": []
   },
   "outputs": [],
   "source": [
    "# Auxiliary data needed downstream in the pipeline\n",
    "\n",
    "org_train = X_train.copy()\n",
    "org_test = X_test.copy()\n",
    "org_calib = X_calib.copy()"
   ]
  },
  {
   "cell_type": "markdown",
   "id": "b461e618",
   "metadata": {
    "papermill": {
     "duration": 0.010577,
     "end_time": "2025-08-19T18:36:20.074782",
     "exception": false,
     "start_time": "2025-08-19T18:36:20.064205",
     "status": "completed"
    },
    "tags": []
   },
   "source": [
    "# Preprocessing Data"
   ]
  },
  {
   "cell_type": "code",
   "execution_count": 21,
   "id": "78e74c4b",
   "metadata": {
    "execution": {
     "iopub.execute_input": "2025-08-19T18:36:20.184514Z",
     "iopub.status.busy": "2025-08-19T18:36:20.184146Z",
     "iopub.status.idle": "2025-08-19T18:36:20.190810Z",
     "shell.execute_reply": "2025-08-19T18:36:20.189512Z"
    },
    "papermill": {
     "duration": 0.077882,
     "end_time": "2025-08-19T18:36:20.192231",
     "exception": false,
     "start_time": "2025-08-19T18:36:20.114349",
     "status": "completed"
    },
    "tags": []
   },
   "outputs": [],
   "source": [
    "# EXCLUDE PROTECTED FEATURES\n",
    "# --------------------------\n",
    "\n",
    "excluded_features = universe[\"exclude_features\"].split(\"-\")\n",
    "excluded_features_dictionary = {\n",
    "    \"nationality\": [\"maxdeutsch1\", \"maxdeutsch.Missing.\"],\n",
    "    \"sex\": [\"frau1\"],\n",
    "    \"age\": [\"age\"],\n",
    "}"
   ]
  },
  {
   "cell_type": "code",
   "execution_count": 22,
   "id": "f8e63555",
   "metadata": {
    "execution": {
     "iopub.execute_input": "2025-08-19T18:36:20.216655Z",
     "iopub.status.busy": "2025-08-19T18:36:20.215951Z",
     "iopub.status.idle": "2025-08-19T18:36:20.245636Z",
     "shell.execute_reply": "2025-08-19T18:36:20.244014Z"
    },
    "papermill": {
     "duration": 0.044685,
     "end_time": "2025-08-19T18:36:20.248332",
     "exception": false,
     "start_time": "2025-08-19T18:36:20.203647",
     "status": "completed"
    },
    "tags": []
   },
   "outputs": [],
   "source": [
    "excluded_features_columns = [\n",
    "    excluded_features_dictionary[f] for f in excluded_features if len(f) > 0 and f != \"none\"\n",
    "]"
   ]
  },
  {
   "cell_type": "code",
   "execution_count": 23,
   "id": "da781f7c",
   "metadata": {
    "execution": {
     "iopub.execute_input": "2025-08-19T18:36:20.275855Z",
     "iopub.status.busy": "2025-08-19T18:36:20.275463Z",
     "iopub.status.idle": "2025-08-19T18:36:20.280793Z",
     "shell.execute_reply": "2025-08-19T18:36:20.279556Z"
    },
    "papermill": {
     "duration": 0.017944,
     "end_time": "2025-08-19T18:36:20.282275",
     "exception": false,
     "start_time": "2025-08-19T18:36:20.264331",
     "status": "completed"
    },
    "tags": []
   },
   "outputs": [],
   "source": [
    "from fairness_multiverse.universe import flatten_once\n",
    "\n",
    "excluded_features_columns = flatten_once(excluded_features_columns)"
   ]
  },
  {
   "cell_type": "code",
   "execution_count": 24,
   "id": "37fef0f0",
   "metadata": {
    "execution": {
     "iopub.execute_input": "2025-08-19T18:36:20.312646Z",
     "iopub.status.busy": "2025-08-19T18:36:20.312176Z",
     "iopub.status.idle": "2025-08-19T18:36:20.328589Z",
     "shell.execute_reply": "2025-08-19T18:36:20.326945Z"
    },
    "papermill": {
     "duration": 0.02981,
     "end_time": "2025-08-19T18:36:20.330535",
     "exception": false,
     "start_time": "2025-08-19T18:36:20.300725",
     "status": "completed"
    },
    "tags": []
   },
   "outputs": [
    {
     "name": "stdout",
     "output_type": "stream",
     "text": [
      "Dropping features: ['maxdeutsch1', 'maxdeutsch.Missing.', 'frau1']\n"
     ]
    }
   ],
   "source": [
    "if len(excluded_features_columns) > 0:\n",
    "    print(f\"Dropping features: {excluded_features_columns}\")\n",
    "    X_train.drop(excluded_features_columns, axis=1, inplace=True)"
   ]
  },
  {
   "cell_type": "code",
   "execution_count": 25,
   "id": "d029e3e9",
   "metadata": {
    "execution": {
     "iopub.execute_input": "2025-08-19T18:36:20.361752Z",
     "iopub.status.busy": "2025-08-19T18:36:20.361137Z",
     "iopub.status.idle": "2025-08-19T18:36:20.426327Z",
     "shell.execute_reply": "2025-08-19T18:36:20.425000Z"
    },
    "papermill": {
     "duration": 0.081915,
     "end_time": "2025-08-19T18:36:20.427767",
     "exception": false,
     "start_time": "2025-08-19T18:36:20.345852",
     "status": "completed"
    },
    "tags": []
   },
   "outputs": [
    {
     "name": "stdout",
     "output_type": "stream",
     "text": [
      "Dropping features: ['maxdeutsch1', 'maxdeutsch.Missing.', 'frau1']\n"
     ]
    }
   ],
   "source": [
    "if len(excluded_features_columns) > 0:\n",
    "    print(f\"Dropping features: {excluded_features_columns}\")\n",
    "    X_test.drop(excluded_features_columns, axis=1, inplace=True)"
   ]
  },
  {
   "cell_type": "code",
   "execution_count": 26,
   "id": "01d571f0",
   "metadata": {
    "execution": {
     "iopub.execute_input": "2025-08-19T18:36:20.484260Z",
     "iopub.status.busy": "2025-08-19T18:36:20.483726Z",
     "iopub.status.idle": "2025-08-19T18:36:20.565362Z",
     "shell.execute_reply": "2025-08-19T18:36:20.564397Z"
    },
    "papermill": {
     "duration": 0.10755,
     "end_time": "2025-08-19T18:36:20.566837",
     "exception": false,
     "start_time": "2025-08-19T18:36:20.459287",
     "status": "completed"
    },
    "tags": []
   },
   "outputs": [
    {
     "name": "stdout",
     "output_type": "stream",
     "text": [
      "Dropping features: ['maxdeutsch1', 'maxdeutsch.Missing.', 'frau1']\n"
     ]
    }
   ],
   "source": [
    "if len(excluded_features_columns) > 0:\n",
    "    print(f\"Dropping features: {excluded_features_columns}\")\n",
    "    X_calib.drop(excluded_features_columns, axis=1, inplace=True)"
   ]
  },
  {
   "cell_type": "code",
   "execution_count": 27,
   "id": "3037356e",
   "metadata": {
    "execution": {
     "iopub.execute_input": "2025-08-19T18:36:20.613339Z",
     "iopub.status.busy": "2025-08-19T18:36:20.612258Z",
     "iopub.status.idle": "2025-08-19T18:36:20.621714Z",
     "shell.execute_reply": "2025-08-19T18:36:20.619999Z"
    },
    "papermill": {
     "duration": 0.050107,
     "end_time": "2025-08-19T18:36:20.630769",
     "exception": false,
     "start_time": "2025-08-19T18:36:20.580662",
     "status": "completed"
    },
    "tags": []
   },
   "outputs": [],
   "source": [
    "# EXCLUDE CERTAIN SUBGROUPS\n",
    "# -------------------------\n",
    "\n",
    "mode = universe.get(\"exclude_subgroups\", \"keep-all\") # Defaults to \"keep-all\" if the key is missing."
   ]
  },
  {
   "cell_type": "code",
   "execution_count": 28,
   "id": "9d1e63fd",
   "metadata": {
    "execution": {
     "iopub.execute_input": "2025-08-19T18:36:20.657708Z",
     "iopub.status.busy": "2025-08-19T18:36:20.657253Z",
     "iopub.status.idle": "2025-08-19T18:36:20.715261Z",
     "shell.execute_reply": "2025-08-19T18:36:20.713898Z"
    },
    "papermill": {
     "duration": 0.07309,
     "end_time": "2025-08-19T18:36:20.717598",
     "exception": false,
     "start_time": "2025-08-19T18:36:20.644508",
     "status": "completed"
    },
    "tags": []
   },
   "outputs": [],
   "source": [
    "if mode == \"keep-all\":\n",
    "    keep_mask = pd.Series(True, index=org_train.index)\n",
    "\n",
    "elif mode == \"drop-non-german\":\n",
    "    keep_mask = (org_train[\"maxdeutsch1\"] == 1) & (org_train[\"maxdeutsch.Missing.\"] == 0)\n",
    "\n",
    "else:\n",
    "    raise ValueError(f\"Unsupported mode for exclude_subgroups: {mode}\")"
   ]
  },
  {
   "cell_type": "code",
   "execution_count": 29,
   "id": "d3b65474",
   "metadata": {
    "execution": {
     "iopub.execute_input": "2025-08-19T18:36:20.758841Z",
     "iopub.status.busy": "2025-08-19T18:36:20.758440Z",
     "iopub.status.idle": "2025-08-19T18:36:20.764300Z",
     "shell.execute_reply": "2025-08-19T18:36:20.763468Z"
    },
    "papermill": {
     "duration": 0.032322,
     "end_time": "2025-08-19T18:36:20.765852",
     "exception": false,
     "start_time": "2025-08-19T18:36:20.733530",
     "status": "completed"
    },
    "tags": []
   },
   "outputs": [],
   "source": [
    "n_drop = (~keep_mask).sum() # Calculates how many rows are set to be dropped\n",
    "if n_drop > 0:\n",
    "    pct = n_drop / len(keep_mask) * 100\n",
    "    print(f\"Dropping {n_drop} rows ({pct:.2f}%) where mode='{mode}'\")"
   ]
  },
  {
   "cell_type": "code",
   "execution_count": 30,
   "id": "f44389b3",
   "metadata": {
    "execution": {
     "iopub.execute_input": "2025-08-19T18:36:20.790840Z",
     "iopub.status.busy": "2025-08-19T18:36:20.790445Z",
     "iopub.status.idle": "2025-08-19T18:36:20.807642Z",
     "shell.execute_reply": "2025-08-19T18:36:20.804311Z"
    },
    "papermill": {
     "duration": 0.031706,
     "end_time": "2025-08-19T18:36:20.809095",
     "exception": false,
     "start_time": "2025-08-19T18:36:20.777389",
     "status": "completed"
    },
    "tags": []
   },
   "outputs": [],
   "source": [
    "X_train = X_train[keep_mask]"
   ]
  },
  {
   "cell_type": "code",
   "execution_count": 31,
   "id": "ceca8c2a",
   "metadata": {
    "execution": {
     "iopub.execute_input": "2025-08-19T18:36:20.840777Z",
     "iopub.status.busy": "2025-08-19T18:36:20.840113Z",
     "iopub.status.idle": "2025-08-19T18:36:20.854789Z",
     "shell.execute_reply": "2025-08-19T18:36:20.853738Z"
    },
    "papermill": {
     "duration": 0.033961,
     "end_time": "2025-08-19T18:36:20.856705",
     "exception": false,
     "start_time": "2025-08-19T18:36:20.822744",
     "status": "completed"
    },
    "tags": []
   },
   "outputs": [],
   "source": [
    "y_train = y_train[keep_mask]"
   ]
  },
  {
   "cell_type": "markdown",
   "id": "04d31e2f",
   "metadata": {
    "papermill": {
     "duration": 0.011366,
     "end_time": "2025-08-19T18:36:20.883561",
     "exception": false,
     "start_time": "2025-08-19T18:36:20.872195",
     "status": "completed"
    },
    "tags": []
   },
   "source": [
    "# Model Training"
   ]
  },
  {
   "cell_type": "code",
   "execution_count": 32,
   "id": "db991733",
   "metadata": {
    "execution": {
     "iopub.execute_input": "2025-08-19T18:36:20.911116Z",
     "iopub.status.busy": "2025-08-19T18:36:20.909812Z",
     "iopub.status.idle": "2025-08-19T18:36:21.029240Z",
     "shell.execute_reply": "2025-08-19T18:36:21.028251Z"
    },
    "papermill": {
     "duration": 0.134026,
     "end_time": "2025-08-19T18:36:21.031056",
     "exception": false,
     "start_time": "2025-08-19T18:36:20.897030",
     "status": "completed"
    },
    "tags": []
   },
   "outputs": [],
   "source": [
    "from sklearn.linear_model import LogisticRegression\n",
    "from sklearn.ensemble import GradientBoostingClassifier, RandomForestClassifier\n",
    "\n",
    "if (universe[\"model\"] == \"logreg\"):\n",
    "    model = LogisticRegression() #penalty=\"none\", solver=\"newton-cg\", max_iter=1)\n",
    "elif (universe[\"model\"] == \"penalized_logreg\"):\n",
    "    model = LogisticRegression(penalty=\"l2\", C=0.1) #, solver=\"newton-cg\", max_iter=1)\n",
    "elif (universe[\"model\"] == \"rf\"):\n",
    "    model = RandomForestClassifier() # n_estimators=100, n_jobs=-1\n",
    "elif (universe[\"model\"] == \"gbm\"):\n",
    "    model = GradientBoostingClassifier()\n",
    "elif (universe[\"model\"] == \"elasticnet\"):\n",
    "    model = LogisticRegression(penalty = 'elasticnet', solver = 'saga', l1_ratio = 0.5) # max_iter=5000\n",
    "else:\n",
    "    raise \"Unsupported universe.model\""
   ]
  },
  {
   "cell_type": "code",
   "execution_count": 33,
   "id": "a4b5cd25",
   "metadata": {
    "execution": {
     "iopub.execute_input": "2025-08-19T18:36:21.057686Z",
     "iopub.status.busy": "2025-08-19T18:36:21.056785Z",
     "iopub.status.idle": "2025-08-19T18:36:21.064772Z",
     "shell.execute_reply": "2025-08-19T18:36:21.063350Z"
    },
    "papermill": {
     "duration": 0.023427,
     "end_time": "2025-08-19T18:36:21.066640",
     "exception": false,
     "start_time": "2025-08-19T18:36:21.043213",
     "status": "completed"
    },
    "tags": []
   },
   "outputs": [],
   "source": [
    "from sklearn.pipeline import Pipeline\n",
    "from sklearn.preprocessing import StandardScaler\n",
    "\n",
    "model = Pipeline([\n",
    "    #(\"continuous_processor\", continuous_processor),\n",
    "    #(\"categorical_preprocessor\", categorical_preprocessor),\n",
    "    (\"scale\", StandardScaler() if universe[\"scale\"] == \"scale\" else None), \n",
    "    (\"model\", model),\n",
    "])"
   ]
  },
  {
   "cell_type": "code",
   "execution_count": 34,
   "id": "283a904d",
   "metadata": {
    "execution": {
     "iopub.execute_input": "2025-08-19T18:36:21.112715Z",
     "iopub.status.busy": "2025-08-19T18:36:21.111443Z",
     "iopub.status.idle": "2025-08-19T18:36:21.315635Z",
     "shell.execute_reply": "2025-08-19T18:36:21.314698Z"
    },
    "papermill": {
     "duration": 0.236372,
     "end_time": "2025-08-19T18:36:21.316992",
     "exception": false,
     "start_time": "2025-08-19T18:36:21.080620",
     "status": "completed"
    },
    "tags": []
   },
   "outputs": [
    {
     "name": "stderr",
     "output_type": "stream",
     "text": [
      "/dss/dsshome1/0C/ra93lal2/.local/share/virtualenvs/CMA_Fairness_v2-3j10GkSs/lib/python3.10/site-packages/sklearn/linear_model/_logistic.py:444: ConvergenceWarning: lbfgs failed to converge (status=1):\n",
      "STOP: TOTAL NO. of ITERATIONS REACHED LIMIT.\n",
      "\n",
      "Increase the number of iterations (max_iter) or scale the data as shown in:\n",
      "    https://scikit-learn.org/stable/modules/preprocessing.html\n",
      "Please also refer to the documentation for alternative solver options:\n",
      "    https://scikit-learn.org/stable/modules/linear_model.html#logistic-regression\n",
      "  n_iter_i = _check_optimize_result(\n"
     ]
    },
    {
     "data": {
      "text/html": [
       "<style>#sk-container-id-1 {color: black;background-color: white;}#sk-container-id-1 pre{padding: 0;}#sk-container-id-1 div.sk-toggleable {background-color: white;}#sk-container-id-1 label.sk-toggleable__label {cursor: pointer;display: block;width: 100%;margin-bottom: 0;padding: 0.3em;box-sizing: border-box;text-align: center;}#sk-container-id-1 label.sk-toggleable__label-arrow:before {content: \"▸\";float: left;margin-right: 0.25em;color: #696969;}#sk-container-id-1 label.sk-toggleable__label-arrow:hover:before {color: black;}#sk-container-id-1 div.sk-estimator:hover label.sk-toggleable__label-arrow:before {color: black;}#sk-container-id-1 div.sk-toggleable__content {max-height: 0;max-width: 0;overflow: hidden;text-align: left;background-color: #f0f8ff;}#sk-container-id-1 div.sk-toggleable__content pre {margin: 0.2em;color: black;border-radius: 0.25em;background-color: #f0f8ff;}#sk-container-id-1 input.sk-toggleable__control:checked~div.sk-toggleable__content {max-height: 200px;max-width: 100%;overflow: auto;}#sk-container-id-1 input.sk-toggleable__control:checked~label.sk-toggleable__label-arrow:before {content: \"▾\";}#sk-container-id-1 div.sk-estimator input.sk-toggleable__control:checked~label.sk-toggleable__label {background-color: #d4ebff;}#sk-container-id-1 div.sk-label input.sk-toggleable__control:checked~label.sk-toggleable__label {background-color: #d4ebff;}#sk-container-id-1 input.sk-hidden--visually {border: 0;clip: rect(1px 1px 1px 1px);clip: rect(1px, 1px, 1px, 1px);height: 1px;margin: -1px;overflow: hidden;padding: 0;position: absolute;width: 1px;}#sk-container-id-1 div.sk-estimator {font-family: monospace;background-color: #f0f8ff;border: 1px dotted black;border-radius: 0.25em;box-sizing: border-box;margin-bottom: 0.5em;}#sk-container-id-1 div.sk-estimator:hover {background-color: #d4ebff;}#sk-container-id-1 div.sk-parallel-item::after {content: \"\";width: 100%;border-bottom: 1px solid gray;flex-grow: 1;}#sk-container-id-1 div.sk-label:hover label.sk-toggleable__label {background-color: #d4ebff;}#sk-container-id-1 div.sk-serial::before {content: \"\";position: absolute;border-left: 1px solid gray;box-sizing: border-box;top: 0;bottom: 0;left: 50%;z-index: 0;}#sk-container-id-1 div.sk-serial {display: flex;flex-direction: column;align-items: center;background-color: white;padding-right: 0.2em;padding-left: 0.2em;position: relative;}#sk-container-id-1 div.sk-item {position: relative;z-index: 1;}#sk-container-id-1 div.sk-parallel {display: flex;align-items: stretch;justify-content: center;background-color: white;position: relative;}#sk-container-id-1 div.sk-item::before, #sk-container-id-1 div.sk-parallel-item::before {content: \"\";position: absolute;border-left: 1px solid gray;box-sizing: border-box;top: 0;bottom: 0;left: 50%;z-index: -1;}#sk-container-id-1 div.sk-parallel-item {display: flex;flex-direction: column;z-index: 1;position: relative;background-color: white;}#sk-container-id-1 div.sk-parallel-item:first-child::after {align-self: flex-end;width: 50%;}#sk-container-id-1 div.sk-parallel-item:last-child::after {align-self: flex-start;width: 50%;}#sk-container-id-1 div.sk-parallel-item:only-child::after {width: 0;}#sk-container-id-1 div.sk-dashed-wrapped {border: 1px dashed gray;margin: 0 0.4em 0.5em 0.4em;box-sizing: border-box;padding-bottom: 0.4em;background-color: white;}#sk-container-id-1 div.sk-label label {font-family: monospace;font-weight: bold;display: inline-block;line-height: 1.2em;}#sk-container-id-1 div.sk-label-container {text-align: center;}#sk-container-id-1 div.sk-container {/* jupyter's `normalize.less` sets `[hidden] { display: none; }` but bootstrap.min.css set `[hidden] { display: none !important; }` so we also need the `!important` here to be able to override the default hidden behavior on the sphinx rendered scikit-learn.org. See: https://github.com/scikit-learn/scikit-learn/issues/21755 */display: inline-block !important;position: relative;}#sk-container-id-1 div.sk-text-repr-fallback {display: none;}</style><div id=\"sk-container-id-1\" class=\"sk-top-container\"><div class=\"sk-text-repr-fallback\"><pre>Pipeline(steps=[(&#x27;scale&#x27;, None), (&#x27;model&#x27;, LogisticRegression(C=0.1))])</pre><b>In a Jupyter environment, please rerun this cell to show the HTML representation or trust the notebook. <br />On GitHub, the HTML representation is unable to render, please try loading this page with nbviewer.org.</b></div><div class=\"sk-container\" hidden><div class=\"sk-item sk-dashed-wrapped\"><div class=\"sk-label-container\"><div class=\"sk-label sk-toggleable\"><input class=\"sk-toggleable__control sk-hidden--visually\" id=\"sk-estimator-id-1\" type=\"checkbox\" ><label for=\"sk-estimator-id-1\" class=\"sk-toggleable__label sk-toggleable__label-arrow\">Pipeline</label><div class=\"sk-toggleable__content\"><pre>Pipeline(steps=[(&#x27;scale&#x27;, None), (&#x27;model&#x27;, LogisticRegression(C=0.1))])</pre></div></div></div><div class=\"sk-serial\"><div class=\"sk-item\"><div class=\"sk-estimator sk-toggleable\"><input class=\"sk-toggleable__control sk-hidden--visually\" id=\"sk-estimator-id-2\" type=\"checkbox\" ><label for=\"sk-estimator-id-2\" class=\"sk-toggleable__label sk-toggleable__label-arrow\">None</label><div class=\"sk-toggleable__content\"><pre>None</pre></div></div></div><div class=\"sk-item\"><div class=\"sk-estimator sk-toggleable\"><input class=\"sk-toggleable__control sk-hidden--visually\" id=\"sk-estimator-id-3\" type=\"checkbox\" ><label for=\"sk-estimator-id-3\" class=\"sk-toggleable__label sk-toggleable__label-arrow\">LogisticRegression</label><div class=\"sk-toggleable__content\"><pre>LogisticRegression(C=0.1)</pre></div></div></div></div></div></div></div>"
      ],
      "text/plain": [
       "Pipeline(steps=[('scale', None), ('model', LogisticRegression(C=0.1))])"
      ]
     },
     "execution_count": 34,
     "metadata": {},
     "output_type": "execute_result"
    }
   ],
   "source": [
    "model.fit(X_train, y_train.values.ravel())"
   ]
  },
  {
   "cell_type": "code",
   "execution_count": 35,
   "id": "6e15e313",
   "metadata": {
    "execution": {
     "iopub.execute_input": "2025-08-19T18:36:21.342756Z",
     "iopub.status.busy": "2025-08-19T18:36:21.342345Z",
     "iopub.status.idle": "2025-08-19T18:36:21.465299Z",
     "shell.execute_reply": "2025-08-19T18:36:21.464513Z"
    },
    "papermill": {
     "duration": 0.139235,
     "end_time": "2025-08-19T18:36:21.468217",
     "exception": false,
     "start_time": "2025-08-19T18:36:21.328982",
     "status": "completed"
    },
    "tags": []
   },
   "outputs": [
    {
     "data": {
      "text/plain": [
       "0.859814959313343"
      ]
     },
     "execution_count": 35,
     "metadata": {},
     "output_type": "execute_result"
    }
   ],
   "source": [
    "from fairness_multiverse.universe import predict_w_threshold\n",
    "\n",
    "probs_test = model.predict_proba(X_test)\n",
    "\n",
    "'''\n",
    "Below code returns a boolean array (or binary 0/1 array depending on how it’s used) where each element \n",
    "is True if the probability of class 1 is greater than or equal to the threshold, and False otherwise.\n",
    "'''\n",
    "y_pred_default = predict_w_threshold(probs_test, 0.5)\n",
    "\n",
    "from sklearn.metrics import accuracy_score\n",
    "\n",
    "# Naive prediction\n",
    "accuracy_score(y_true = y_true, y_pred = y_pred_default)"
   ]
  },
  {
   "cell_type": "code",
   "execution_count": 36,
   "id": "6f14067c",
   "metadata": {
    "execution": {
     "iopub.execute_input": "2025-08-19T18:36:21.518121Z",
     "iopub.status.busy": "2025-08-19T18:36:21.517450Z",
     "iopub.status.idle": "2025-08-19T18:36:21.623570Z",
     "shell.execute_reply": "2025-08-19T18:36:21.622579Z"
    },
    "papermill": {
     "duration": 0.12933,
     "end_time": "2025-08-19T18:36:21.626464",
     "exception": false,
     "start_time": "2025-08-19T18:36:21.497134",
     "status": "completed"
    },
    "tags": []
   },
   "outputs": [
    {
     "data": {
      "text/plain": [
       "array([0, 0, 0, ..., 0, 0, 0])"
      ]
     },
     "execution_count": 36,
     "metadata": {},
     "output_type": "execute_result"
    }
   ],
   "source": [
    "model.predict(X_test)"
   ]
  },
  {
   "cell_type": "markdown",
   "id": "3759920c",
   "metadata": {
    "papermill": {
     "duration": 0.011998,
     "end_time": "2025-08-19T18:36:21.663678",
     "exception": false,
     "start_time": "2025-08-19T18:36:21.651680",
     "status": "completed"
    },
    "tags": []
   },
   "source": [
    "# Conformal Prediction"
   ]
  },
  {
   "cell_type": "code",
   "execution_count": 37,
   "id": "14b27f59",
   "metadata": {
    "execution": {
     "iopub.execute_input": "2025-08-19T18:36:21.718899Z",
     "iopub.status.busy": "2025-08-19T18:36:21.718545Z",
     "iopub.status.idle": "2025-08-19T18:36:21.724832Z",
     "shell.execute_reply": "2025-08-19T18:36:21.723644Z"
    },
    "papermill": {
     "duration": 0.04261,
     "end_time": "2025-08-19T18:36:21.728807",
     "exception": false,
     "start_time": "2025-08-19T18:36:21.686197",
     "status": "completed"
    },
    "tags": []
   },
   "outputs": [],
   "source": [
    "# Miscoverage level for conformal prediction (10% allowed error rate => 90% target coverage)\n",
    "alpha = 0.1"
   ]
  },
  {
   "cell_type": "code",
   "execution_count": 38,
   "id": "59102472",
   "metadata": {
    "execution": {
     "iopub.execute_input": "2025-08-19T18:36:21.763758Z",
     "iopub.status.busy": "2025-08-19T18:36:21.763454Z",
     "iopub.status.idle": "2025-08-19T18:36:21.865462Z",
     "shell.execute_reply": "2025-08-19T18:36:21.864165Z"
    },
    "papermill": {
     "duration": 0.118003,
     "end_time": "2025-08-19T18:36:21.867628",
     "exception": false,
     "start_time": "2025-08-19T18:36:21.749625",
     "status": "completed"
    },
    "tags": []
   },
   "outputs": [],
   "source": [
    "probs_calib = model.predict_proba(X_calib)"
   ]
  },
  {
   "cell_type": "code",
   "execution_count": 39,
   "id": "a792d4dd",
   "metadata": {
    "execution": {
     "iopub.execute_input": "2025-08-19T18:36:21.893015Z",
     "iopub.status.busy": "2025-08-19T18:36:21.892545Z",
     "iopub.status.idle": "2025-08-19T18:36:21.898555Z",
     "shell.execute_reply": "2025-08-19T18:36:21.897665Z"
    },
    "papermill": {
     "duration": 0.022327,
     "end_time": "2025-08-19T18:36:21.901879",
     "exception": false,
     "start_time": "2025-08-19T18:36:21.879552",
     "status": "completed"
    },
    "tags": []
   },
   "outputs": [],
   "source": [
    "y_calib = y_calib.values.ravel().astype(int)"
   ]
  },
  {
   "cell_type": "code",
   "execution_count": 40,
   "id": "650fd033",
   "metadata": {
    "execution": {
     "iopub.execute_input": "2025-08-19T18:36:21.928383Z",
     "iopub.status.busy": "2025-08-19T18:36:21.927867Z",
     "iopub.status.idle": "2025-08-19T18:36:21.948845Z",
     "shell.execute_reply": "2025-08-19T18:36:21.947286Z"
    },
    "papermill": {
     "duration": 0.045777,
     "end_time": "2025-08-19T18:36:21.961054",
     "exception": false,
     "start_time": "2025-08-19T18:36:21.915277",
     "status": "completed"
    },
    "tags": []
   },
   "outputs": [],
   "source": [
    "from fairness_multiverse.conformal import compute_nc_scores\n",
    "\n",
    "# Compute nonconformity scores on calibration set (1 - probability of true class)\n",
    "nc_scores = compute_nc_scores(probs_calib, y_calib)"
   ]
  },
  {
   "cell_type": "code",
   "execution_count": 41,
   "id": "28ada44c",
   "metadata": {
    "execution": {
     "iopub.execute_input": "2025-08-19T18:36:21.986957Z",
     "iopub.status.busy": "2025-08-19T18:36:21.986420Z",
     "iopub.status.idle": "2025-08-19T18:36:22.002722Z",
     "shell.execute_reply": "2025-08-19T18:36:22.001700Z"
    },
    "papermill": {
     "duration": 0.030441,
     "end_time": "2025-08-19T18:36:22.004472",
     "exception": false,
     "start_time": "2025-08-19T18:36:21.974031",
     "status": "completed"
    },
    "tags": []
   },
   "outputs": [],
   "source": [
    "from fairness_multiverse.conformal import find_threshold\n",
    "\n",
    "# Find conformal threshold q_hat for the given alpha (split conformal method)\n",
    "q_hat = find_threshold(nc_scores, alpha)"
   ]
  },
  {
   "cell_type": "code",
   "execution_count": 42,
   "id": "df56469e",
   "metadata": {
    "execution": {
     "iopub.execute_input": "2025-08-19T18:36:22.036977Z",
     "iopub.status.busy": "2025-08-19T18:36:22.036678Z",
     "iopub.status.idle": "2025-08-19T18:36:22.043031Z",
     "shell.execute_reply": "2025-08-19T18:36:22.042177Z"
    },
    "papermill": {
     "duration": 0.020598,
     "end_time": "2025-08-19T18:36:22.044523",
     "exception": false,
     "start_time": "2025-08-19T18:36:22.023925",
     "status": "completed"
    },
    "tags": []
   },
   "outputs": [
    {
     "data": {
      "text/plain": [
       "0.6868980641199791"
      ]
     },
     "execution_count": 42,
     "metadata": {},
     "output_type": "execute_result"
    }
   ],
   "source": [
    "q_hat"
   ]
  },
  {
   "cell_type": "code",
   "execution_count": 43,
   "id": "aa1f5faa",
   "metadata": {
    "execution": {
     "iopub.execute_input": "2025-08-19T18:36:22.073196Z",
     "iopub.status.busy": "2025-08-19T18:36:22.072909Z",
     "iopub.status.idle": "2025-08-19T18:36:22.687824Z",
     "shell.execute_reply": "2025-08-19T18:36:22.686427Z"
    },
    "papermill": {
     "duration": 0.630839,
     "end_time": "2025-08-19T18:36:22.690324",
     "exception": false,
     "start_time": "2025-08-19T18:36:22.059485",
     "status": "completed"
    },
    "tags": []
   },
   "outputs": [],
   "source": [
    "from fairness_multiverse.conformal import predict_conformal_sets\n",
    "\n",
    "# Generate prediction sets for each test example\n",
    "pred_sets = predict_conformal_sets(model, X_test, q_hat)"
   ]
  },
  {
   "cell_type": "code",
   "execution_count": 44,
   "id": "97f67a6b",
   "metadata": {
    "execution": {
     "iopub.execute_input": "2025-08-19T18:36:22.715029Z",
     "iopub.status.busy": "2025-08-19T18:36:22.714688Z",
     "iopub.status.idle": "2025-08-19T18:36:22.723011Z",
     "shell.execute_reply": "2025-08-19T18:36:22.720757Z"
    },
    "papermill": {
     "duration": 0.028094,
     "end_time": "2025-08-19T18:36:22.730296",
     "exception": false,
     "start_time": "2025-08-19T18:36:22.702202",
     "status": "completed"
    },
    "tags": []
   },
   "outputs": [],
   "source": [
    "y_true = y_true.squeeze()"
   ]
  },
  {
   "cell_type": "code",
   "execution_count": 45,
   "id": "e700e9a7",
   "metadata": {
    "execution": {
     "iopub.execute_input": "2025-08-19T18:36:22.763084Z",
     "iopub.status.busy": "2025-08-19T18:36:22.762721Z",
     "iopub.status.idle": "2025-08-19T18:36:23.346228Z",
     "shell.execute_reply": "2025-08-19T18:36:23.344980Z"
    },
    "papermill": {
     "duration": 0.59782,
     "end_time": "2025-08-19T18:36:23.347892",
     "exception": false,
     "start_time": "2025-08-19T18:36:22.750072",
     "status": "completed"
    },
    "tags": []
   },
   "outputs": [],
   "source": [
    "from fairness_multiverse.conformal import evaluate_sets\n",
    "\n",
    "# Evaluate coverage and average set size on test data\n",
    "metrics = evaluate_sets(pred_sets, y_true)"
   ]
  },
  {
   "cell_type": "markdown",
   "id": "efbacec0",
   "metadata": {
    "papermill": {
     "duration": 0.011594,
     "end_time": "2025-08-19T18:36:23.371394",
     "exception": false,
     "start_time": "2025-08-19T18:36:23.359800",
     "status": "completed"
    },
    "tags": []
   },
   "source": [
    "# CP Metrics"
   ]
  },
  {
   "cell_type": "code",
   "execution_count": 46,
   "id": "9de55fb1",
   "metadata": {
    "execution": {
     "iopub.execute_input": "2025-08-19T18:36:23.397961Z",
     "iopub.status.busy": "2025-08-19T18:36:23.397491Z",
     "iopub.status.idle": "2025-08-19T18:36:23.404031Z",
     "shell.execute_reply": "2025-08-19T18:36:23.403355Z"
    },
    "papermill": {
     "duration": 0.022672,
     "end_time": "2025-08-19T18:36:23.405648",
     "exception": false,
     "start_time": "2025-08-19T18:36:23.382976",
     "status": "completed"
    },
    "tags": []
   },
   "outputs": [
    {
     "data": {
      "text/plain": [
       "{'coverage': 0.9117489688997882, 'avg_size': 1.21453572622896}"
      ]
     },
     "execution_count": 46,
     "metadata": {},
     "output_type": "execute_result"
    }
   ],
   "source": [
    "metrics"
   ]
  },
  {
   "cell_type": "code",
   "execution_count": 47,
   "id": "64c340a1",
   "metadata": {
    "execution": {
     "iopub.execute_input": "2025-08-19T18:36:23.430120Z",
     "iopub.status.busy": "2025-08-19T18:36:23.429609Z",
     "iopub.status.idle": "2025-08-19T18:36:23.434683Z",
     "shell.execute_reply": "2025-08-19T18:36:23.433972Z"
    },
    "papermill": {
     "duration": 0.019521,
     "end_time": "2025-08-19T18:36:23.436662",
     "exception": false,
     "start_time": "2025-08-19T18:36:23.417141",
     "status": "completed"
    },
    "tags": []
   },
   "outputs": [],
   "source": [
    "example_universe = universe.copy()\n",
    "universe_training_year = example_universe.get(\"training_year\")\n",
    "universe_training_size = example_universe.get(\"training_size\")\n",
    "universe_scale = example_universe.get(\"scale\")\n",
    "universe_model = example_universe.get(\"model\")\n",
    "universe_exclude_features = example_universe.get(\"exclude_features\")\n",
    "universe_exclude_subgroups = example_universe.get(\"exclude_subgroups\")"
   ]
  },
  {
   "cell_type": "code",
   "execution_count": 48,
   "id": "dbb53cb4",
   "metadata": {
    "execution": {
     "iopub.execute_input": "2025-08-19T18:36:23.461310Z",
     "iopub.status.busy": "2025-08-19T18:36:23.460907Z",
     "iopub.status.idle": "2025-08-19T18:36:23.466113Z",
     "shell.execute_reply": "2025-08-19T18:36:23.465504Z"
    },
    "papermill": {
     "duration": 0.018956,
     "end_time": "2025-08-19T18:36:23.467366",
     "exception": false,
     "start_time": "2025-08-19T18:36:23.448410",
     "status": "completed"
    },
    "tags": []
   },
   "outputs": [],
   "source": [
    "cp_metrics_dict = {\n",
    "    \"universe_id\": [universe_id],\n",
    "    \"universe_training_year\": [universe_training_year],\n",
    "    \"universe_training_size\": [universe_training_size],\n",
    "    \"universe_scale\": [universe_scale],\n",
    "    \"universe_model\": [universe_model],\n",
    "    \"universe_exclude_features\": [universe_exclude_features],\n",
    "    \"universe_exclude_subgroups\": [universe_exclude_subgroups],\n",
    "    \"q_hat\": [q_hat],\n",
    "    \"coverage\": [metrics[\"coverage\"]],\n",
    "    \"avg_size\": [metrics[\"avg_size\"]],\n",
    "}"
   ]
  },
  {
   "cell_type": "code",
   "execution_count": 49,
   "id": "0d70d4b2",
   "metadata": {
    "execution": {
     "iopub.execute_input": "2025-08-19T18:36:23.493048Z",
     "iopub.status.busy": "2025-08-19T18:36:23.492004Z",
     "iopub.status.idle": "2025-08-19T18:36:23.540748Z",
     "shell.execute_reply": "2025-08-19T18:36:23.538905Z"
    },
    "papermill": {
     "duration": 0.06484,
     "end_time": "2025-08-19T18:36:23.543686",
     "exception": false,
     "start_time": "2025-08-19T18:36:23.478846",
     "status": "completed"
    },
    "tags": []
   },
   "outputs": [],
   "source": [
    "cp_metrics_df = pd.DataFrame(cp_metrics_dict)"
   ]
  },
  {
   "cell_type": "code",
   "execution_count": 50,
   "id": "b494403c",
   "metadata": {
    "execution": {
     "iopub.execute_input": "2025-08-19T18:36:23.583664Z",
     "iopub.status.busy": "2025-08-19T18:36:23.582898Z",
     "iopub.status.idle": "2025-08-19T18:36:23.596907Z",
     "shell.execute_reply": "2025-08-19T18:36:23.596037Z"
    },
    "papermill": {
     "duration": 0.029593,
     "end_time": "2025-08-19T18:36:23.598712",
     "exception": false,
     "start_time": "2025-08-19T18:36:23.569119",
     "status": "completed"
    },
    "tags": []
   },
   "outputs": [
    {
     "data": {
      "text/html": [
       "<div>\n",
       "<style scoped>\n",
       "    .dataframe tbody tr th:only-of-type {\n",
       "        vertical-align: middle;\n",
       "    }\n",
       "\n",
       "    .dataframe tbody tr th {\n",
       "        vertical-align: top;\n",
       "    }\n",
       "\n",
       "    .dataframe thead th {\n",
       "        text-align: right;\n",
       "    }\n",
       "</style>\n",
       "<table border=\"1\" class=\"dataframe\">\n",
       "  <thead>\n",
       "    <tr style=\"text-align: right;\">\n",
       "      <th></th>\n",
       "      <th>universe_id</th>\n",
       "      <th>universe_training_year</th>\n",
       "      <th>universe_training_size</th>\n",
       "      <th>universe_scale</th>\n",
       "      <th>universe_model</th>\n",
       "      <th>universe_exclude_features</th>\n",
       "      <th>universe_exclude_subgroups</th>\n",
       "      <th>q_hat</th>\n",
       "      <th>coverage</th>\n",
       "      <th>avg_size</th>\n",
       "    </tr>\n",
       "  </thead>\n",
       "  <tbody>\n",
       "    <tr>\n",
       "      <th>0</th>\n",
       "      <td>6cb060b1c39071d4e1a29dafeceb7dbf</td>\n",
       "      <td>2012_14</td>\n",
       "      <td>5k</td>\n",
       "      <td>do-not-scale</td>\n",
       "      <td>penalized_logreg</td>\n",
       "      <td>nationality-sex</td>\n",
       "      <td>keep-all</td>\n",
       "      <td>0.686898</td>\n",
       "      <td>0.911749</td>\n",
       "      <td>1.214536</td>\n",
       "    </tr>\n",
       "  </tbody>\n",
       "</table>\n",
       "</div>"
      ],
      "text/plain": [
       "                        universe_id universe_training_year  \\\n",
       "0  6cb060b1c39071d4e1a29dafeceb7dbf                2012_14   \n",
       "\n",
       "  universe_training_size universe_scale    universe_model  \\\n",
       "0                     5k   do-not-scale  penalized_logreg   \n",
       "\n",
       "  universe_exclude_features universe_exclude_subgroups     q_hat  coverage  \\\n",
       "0           nationality-sex                   keep-all  0.686898  0.911749   \n",
       "\n",
       "   avg_size  \n",
       "0  1.214536  "
      ]
     },
     "execution_count": 50,
     "metadata": {},
     "output_type": "execute_result"
    }
   ],
   "source": [
    "cp_metrics_df"
   ]
  },
  {
   "cell_type": "markdown",
   "id": "ed608b0b",
   "metadata": {
    "papermill": {
     "duration": 0.011783,
     "end_time": "2025-08-19T18:36:23.624592",
     "exception": false,
     "start_time": "2025-08-19T18:36:23.612809",
     "status": "completed"
    },
    "tags": []
   },
   "source": [
    "Conditional coverage & looking at subgroups"
   ]
  },
  {
   "cell_type": "code",
   "execution_count": 51,
   "id": "8968c366",
   "metadata": {
    "execution": {
     "iopub.execute_input": "2025-08-19T18:36:23.649139Z",
     "iopub.status.busy": "2025-08-19T18:36:23.648742Z",
     "iopub.status.idle": "2025-08-19T18:36:23.944342Z",
     "shell.execute_reply": "2025-08-19T18:36:23.943477Z"
    },
    "papermill": {
     "duration": 0.309631,
     "end_time": "2025-08-19T18:36:23.945767",
     "exception": false,
     "start_time": "2025-08-19T18:36:23.636136",
     "status": "completed"
    },
    "tags": []
   },
   "outputs": [],
   "source": [
    "from fairness_multiverse.conformal import build_cp_groups\n",
    "\n",
    "cp_groups_df = build_cp_groups(pred_sets, y_true, X_test.index, org_test)"
   ]
  },
  {
   "cell_type": "code",
   "execution_count": 52,
   "id": "292ddabf",
   "metadata": {
    "execution": {
     "iopub.execute_input": "2025-08-19T18:36:23.990997Z",
     "iopub.status.busy": "2025-08-19T18:36:23.990300Z",
     "iopub.status.idle": "2025-08-19T18:36:24.879643Z",
     "shell.execute_reply": "2025-08-19T18:36:24.877774Z"
    },
    "papermill": {
     "duration": 0.903655,
     "end_time": "2025-08-19T18:36:24.881292",
     "exception": false,
     "start_time": "2025-08-19T18:36:23.977637",
     "status": "completed"
    },
    "tags": []
   },
   "outputs": [],
   "source": [
    "# Define covered = 1 if true_label is in the predicted set\n",
    "cp_groups_df['covered'] = cp_groups_df.apply(\n",
    "    lambda r: int(r['true_label'] in r['pred_set']),\n",
    "    axis=1\n",
    ")"
   ]
  },
  {
   "cell_type": "code",
   "execution_count": 53,
   "id": "3a261692",
   "metadata": {
    "execution": {
     "iopub.execute_input": "2025-08-19T18:36:24.914597Z",
     "iopub.status.busy": "2025-08-19T18:36:24.911359Z",
     "iopub.status.idle": "2025-08-19T18:36:24.937563Z",
     "shell.execute_reply": "2025-08-19T18:36:24.936553Z"
    },
    "papermill": {
     "duration": 0.045926,
     "end_time": "2025-08-19T18:36:24.939673",
     "exception": false,
     "start_time": "2025-08-19T18:36:24.893747",
     "status": "completed"
    },
    "tags": []
   },
   "outputs": [],
   "source": [
    "subgroups = ['frau1','nongerman','nongerman_male','nongerman_female']\n",
    "\n",
    "# Conditional coverage for subgroup==1\n",
    "cond_coverage = {\n",
    "    g: cp_groups_df.loc[cp_groups_df[g]==1, 'covered'].mean()\n",
    "    for g in subgroups\n",
    "}"
   ]
  },
  {
   "cell_type": "code",
   "execution_count": 54,
   "id": "894fd600",
   "metadata": {
    "execution": {
     "iopub.execute_input": "2025-08-19T18:36:24.970269Z",
     "iopub.status.busy": "2025-08-19T18:36:24.969394Z",
     "iopub.status.idle": "2025-08-19T18:36:24.975163Z",
     "shell.execute_reply": "2025-08-19T18:36:24.974590Z"
    },
    "papermill": {
     "duration": 0.023205,
     "end_time": "2025-08-19T18:36:24.979198",
     "exception": false,
     "start_time": "2025-08-19T18:36:24.955993",
     "status": "completed"
    },
    "tags": []
   },
   "outputs": [
    {
     "data": {
      "text/plain": [
       "{'frau1': 0.9075077503706699,\n",
       " 'nongerman': 0.9312861393364397,\n",
       " 'nongerman_male': 0.9459605512023778,\n",
       " 'nongerman_female': 0.9070044709388971}"
      ]
     },
     "execution_count": 54,
     "metadata": {},
     "output_type": "execute_result"
    }
   ],
   "source": [
    "cond_coverage"
   ]
  },
  {
   "cell_type": "code",
   "execution_count": 55,
   "id": "942895c7",
   "metadata": {
    "execution": {
     "iopub.execute_input": "2025-08-19T18:36:25.018901Z",
     "iopub.status.busy": "2025-08-19T18:36:25.017593Z",
     "iopub.status.idle": "2025-08-19T18:36:25.029652Z",
     "shell.execute_reply": "2025-08-19T18:36:25.028419Z"
    },
    "papermill": {
     "duration": 0.029095,
     "end_time": "2025-08-19T18:36:25.031231",
     "exception": false,
     "start_time": "2025-08-19T18:36:25.002136",
     "status": "completed"
    },
    "tags": []
   },
   "outputs": [],
   "source": [
    "for subgroup, cov in cond_coverage.items():\n",
    "    cp_metrics_df[f\"cov_{subgroup}\"] = cov"
   ]
  },
  {
   "cell_type": "code",
   "execution_count": 56,
   "id": "3970120f",
   "metadata": {
    "execution": {
     "iopub.execute_input": "2025-08-19T18:36:25.065294Z",
     "iopub.status.busy": "2025-08-19T18:36:25.063867Z",
     "iopub.status.idle": "2025-08-19T18:36:25.081467Z",
     "shell.execute_reply": "2025-08-19T18:36:25.079794Z"
    },
    "papermill": {
     "duration": 0.034194,
     "end_time": "2025-08-19T18:36:25.083037",
     "exception": false,
     "start_time": "2025-08-19T18:36:25.048843",
     "status": "completed"
    },
    "tags": []
   },
   "outputs": [
    {
     "data": {
      "text/html": [
       "<div>\n",
       "<style scoped>\n",
       "    .dataframe tbody tr th:only-of-type {\n",
       "        vertical-align: middle;\n",
       "    }\n",
       "\n",
       "    .dataframe tbody tr th {\n",
       "        vertical-align: top;\n",
       "    }\n",
       "\n",
       "    .dataframe thead th {\n",
       "        text-align: right;\n",
       "    }\n",
       "</style>\n",
       "<table border=\"1\" class=\"dataframe\">\n",
       "  <thead>\n",
       "    <tr style=\"text-align: right;\">\n",
       "      <th></th>\n",
       "      <th>universe_id</th>\n",
       "      <th>universe_training_year</th>\n",
       "      <th>universe_training_size</th>\n",
       "      <th>universe_scale</th>\n",
       "      <th>universe_model</th>\n",
       "      <th>universe_exclude_features</th>\n",
       "      <th>universe_exclude_subgroups</th>\n",
       "      <th>q_hat</th>\n",
       "      <th>coverage</th>\n",
       "      <th>avg_size</th>\n",
       "      <th>cov_frau1</th>\n",
       "      <th>cov_nongerman</th>\n",
       "      <th>cov_nongerman_male</th>\n",
       "      <th>cov_nongerman_female</th>\n",
       "    </tr>\n",
       "  </thead>\n",
       "  <tbody>\n",
       "    <tr>\n",
       "      <th>0</th>\n",
       "      <td>6cb060b1c39071d4e1a29dafeceb7dbf</td>\n",
       "      <td>2012_14</td>\n",
       "      <td>5k</td>\n",
       "      <td>do-not-scale</td>\n",
       "      <td>penalized_logreg</td>\n",
       "      <td>nationality-sex</td>\n",
       "      <td>keep-all</td>\n",
       "      <td>0.686898</td>\n",
       "      <td>0.911749</td>\n",
       "      <td>1.214536</td>\n",
       "      <td>0.907508</td>\n",
       "      <td>0.931286</td>\n",
       "      <td>0.945961</td>\n",
       "      <td>0.907004</td>\n",
       "    </tr>\n",
       "  </tbody>\n",
       "</table>\n",
       "</div>"
      ],
      "text/plain": [
       "                        universe_id universe_training_year  \\\n",
       "0  6cb060b1c39071d4e1a29dafeceb7dbf                2012_14   \n",
       "\n",
       "  universe_training_size universe_scale    universe_model  \\\n",
       "0                     5k   do-not-scale  penalized_logreg   \n",
       "\n",
       "  universe_exclude_features universe_exclude_subgroups     q_hat  coverage  \\\n",
       "0           nationality-sex                   keep-all  0.686898  0.911749   \n",
       "\n",
       "   avg_size  cov_frau1  cov_nongerman  cov_nongerman_male  \\\n",
       "0  1.214536   0.907508       0.931286            0.945961   \n",
       "\n",
       "   cov_nongerman_female  \n",
       "0              0.907004  "
      ]
     },
     "execution_count": 56,
     "metadata": {},
     "output_type": "execute_result"
    }
   ],
   "source": [
    "cp_metrics_df"
   ]
  },
  {
   "cell_type": "markdown",
   "id": "3fc519cc",
   "metadata": {
    "papermill": {
     "duration": 0.016895,
     "end_time": "2025-08-19T18:36:25.120162",
     "exception": false,
     "start_time": "2025-08-19T18:36:25.103267",
     "status": "completed"
    },
    "tags": []
   },
   "source": [
    "# (Fairness) Metrics"
   ]
  },
  {
   "cell_type": "code",
   "execution_count": 57,
   "id": "a2e5e155",
   "metadata": {
    "execution": {
     "iopub.execute_input": "2025-08-19T18:36:25.145868Z",
     "iopub.status.busy": "2025-08-19T18:36:25.145453Z",
     "iopub.status.idle": "2025-08-19T18:36:25.161279Z",
     "shell.execute_reply": "2025-08-19T18:36:25.160521Z"
    },
    "papermill": {
     "duration": 0.030398,
     "end_time": "2025-08-19T18:36:25.162754",
     "exception": false,
     "start_time": "2025-08-19T18:36:25.132356",
     "status": "completed"
    },
    "tags": []
   },
   "outputs": [],
   "source": [
    "colname_to_bin = \"maxdeutsch1\"\n",
    "majority_value = org_train[colname_to_bin].mode()[0]\n",
    "\n",
    "org_test[\"majmin\"] = np.where(org_test[colname_to_bin] == majority_value, \"majority\", \"minority\")"
   ]
  },
  {
   "cell_type": "code",
   "execution_count": 58,
   "id": "17e3e4d5",
   "metadata": {
    "execution": {
     "iopub.execute_input": "2025-08-19T18:36:25.216861Z",
     "iopub.status.busy": "2025-08-19T18:36:25.216420Z",
     "iopub.status.idle": "2025-08-19T18:36:26.951170Z",
     "shell.execute_reply": "2025-08-19T18:36:26.949617Z"
    },
    "papermill": {
     "duration": 1.756269,
     "end_time": "2025-08-19T18:36:26.953002",
     "exception": false,
     "start_time": "2025-08-19T18:36:25.196733",
     "status": "completed"
    },
    "tags": []
   },
   "outputs": [],
   "source": [
    "example_universe = universe.copy()\n",
    "example_universe[\"cutoff\"] = example_universe[\"cutoff\"][0]\n",
    "example_universe[\"eval_fairness_grouping\"] = example_universe[\"eval_fairness_grouping\"][0]\n",
    "fairness_dict, metric_frame = universe_analysis.compute_metrics(\n",
    "    example_universe,\n",
    "    y_pred_prob=probs_test,\n",
    "    y_test=y_true,\n",
    "    org_test=org_test,\n",
    ")"
   ]
  },
  {
   "cell_type": "markdown",
   "id": "1fb7a0e9",
   "metadata": {
    "papermill": {
     "duration": 0.01407,
     "end_time": "2025-08-19T18:36:26.986737",
     "exception": false,
     "start_time": "2025-08-19T18:36:26.972667",
     "status": "completed"
    },
    "tags": []
   },
   "source": [
    "# Overall"
   ]
  },
  {
   "cell_type": "markdown",
   "id": "be1784b1",
   "metadata": {
    "papermill": {
     "duration": 0.013535,
     "end_time": "2025-08-19T18:36:27.027228",
     "exception": false,
     "start_time": "2025-08-19T18:36:27.013693",
     "status": "completed"
    },
    "tags": []
   },
   "source": [
    "Main fairness target: Equalized Odds. Seems to be a better fit than equal opportunity, since we're not only interested in Y = 1. Seems to be a better fit than demographic parity, since we also care about accuracy, not just equal distribution of preds.\n",
    "\n",
    "Pick column for computation of fairness metrics\n",
    "\n",
    "Performance\n",
    "Overall performance measures, most interesting in relation to the measures split by group below"
   ]
  },
  {
   "cell_type": "code",
   "execution_count": 59,
   "id": "b7672bee",
   "metadata": {
    "execution": {
     "iopub.execute_input": "2025-08-19T18:36:27.052829Z",
     "iopub.status.busy": "2025-08-19T18:36:27.052357Z",
     "iopub.status.idle": "2025-08-19T18:36:27.060871Z",
     "shell.execute_reply": "2025-08-19T18:36:27.060152Z"
    },
    "papermill": {
     "duration": 0.02437,
     "end_time": "2025-08-19T18:36:27.063531",
     "exception": false,
     "start_time": "2025-08-19T18:36:27.039161",
     "status": "completed"
    },
    "tags": []
   },
   "outputs": [
    {
     "data": {
      "text/plain": [
       "accuracy                   0.218225\n",
       "balanced accuracy          0.534879\n",
       "f1                         0.239726\n",
       "precision                  0.136947\n",
       "false positive rate        0.891051\n",
       "false negative rate        0.039190\n",
       "selection rate             0.900000\n",
       "count                  89710.000000\n",
       "dtype: float64"
      ]
     },
     "execution_count": 59,
     "metadata": {},
     "output_type": "execute_result"
    }
   ],
   "source": [
    "metric_frame.overall"
   ]
  },
  {
   "cell_type": "markdown",
   "id": "d93333c9",
   "metadata": {
    "papermill": {
     "duration": 0.012579,
     "end_time": "2025-08-19T18:36:27.093166",
     "exception": false,
     "start_time": "2025-08-19T18:36:27.080587",
     "status": "completed"
    },
    "tags": []
   },
   "source": [
    "By Group"
   ]
  },
  {
   "cell_type": "code",
   "execution_count": 60,
   "id": "52256966",
   "metadata": {
    "execution": {
     "iopub.execute_input": "2025-08-19T18:36:27.121384Z",
     "iopub.status.busy": "2025-08-19T18:36:27.120106Z",
     "iopub.status.idle": "2025-08-19T18:36:27.142711Z",
     "shell.execute_reply": "2025-08-19T18:36:27.141741Z"
    },
    "papermill": {
     "duration": 0.038432,
     "end_time": "2025-08-19T18:36:27.144150",
     "exception": false,
     "start_time": "2025-08-19T18:36:27.105718",
     "status": "completed"
    },
    "tags": []
   },
   "outputs": [
    {
     "data": {
      "text/html": [
       "<div>\n",
       "<style scoped>\n",
       "    .dataframe tbody tr th:only-of-type {\n",
       "        vertical-align: middle;\n",
       "    }\n",
       "\n",
       "    .dataframe tbody tr th {\n",
       "        vertical-align: top;\n",
       "    }\n",
       "\n",
       "    .dataframe thead th {\n",
       "        text-align: right;\n",
       "    }\n",
       "</style>\n",
       "<table border=\"1\" class=\"dataframe\">\n",
       "  <thead>\n",
       "    <tr style=\"text-align: right;\">\n",
       "      <th></th>\n",
       "      <th>accuracy</th>\n",
       "      <th>balanced accuracy</th>\n",
       "      <th>f1</th>\n",
       "      <th>precision</th>\n",
       "      <th>false positive rate</th>\n",
       "      <th>false negative rate</th>\n",
       "      <th>selection rate</th>\n",
       "      <th>count</th>\n",
       "    </tr>\n",
       "    <tr>\n",
       "      <th>majmin</th>\n",
       "      <th></th>\n",
       "      <th></th>\n",
       "      <th></th>\n",
       "      <th></th>\n",
       "      <th></th>\n",
       "      <th></th>\n",
       "      <th></th>\n",
       "      <th></th>\n",
       "    </tr>\n",
       "  </thead>\n",
       "  <tbody>\n",
       "    <tr>\n",
       "      <th>majority</th>\n",
       "      <td>0.240509</td>\n",
       "      <td>0.543143</td>\n",
       "      <td>0.249321</td>\n",
       "      <td>0.143388</td>\n",
       "      <td>0.868199</td>\n",
       "      <td>0.045514</td>\n",
       "      <td>0.879601</td>\n",
       "      <td>69170.0</td>\n",
       "    </tr>\n",
       "    <tr>\n",
       "      <th>minority</th>\n",
       "      <td>0.143184</td>\n",
       "      <td>0.509339</td>\n",
       "      <td>0.209567</td>\n",
       "      <td>0.117254</td>\n",
       "      <td>0.966542</td>\n",
       "      <td>0.014780</td>\n",
       "      <td>0.968695</td>\n",
       "      <td>20540.0</td>\n",
       "    </tr>\n",
       "  </tbody>\n",
       "</table>\n",
       "</div>"
      ],
      "text/plain": [
       "          accuracy  balanced accuracy        f1  precision  \\\n",
       "majmin                                                       \n",
       "majority  0.240509           0.543143  0.249321   0.143388   \n",
       "minority  0.143184           0.509339  0.209567   0.117254   \n",
       "\n",
       "          false positive rate  false negative rate  selection rate    count  \n",
       "majmin                                                                       \n",
       "majority             0.868199             0.045514        0.879601  69170.0  \n",
       "minority             0.966542             0.014780        0.968695  20540.0  "
      ]
     },
     "execution_count": 60,
     "metadata": {},
     "output_type": "execute_result"
    }
   ],
   "source": [
    "metric_frame.by_group"
   ]
  },
  {
   "cell_type": "code",
   "execution_count": 61,
   "id": "6e6c20ae",
   "metadata": {
    "execution": {
     "iopub.execute_input": "2025-08-19T18:36:27.172103Z",
     "iopub.status.busy": "2025-08-19T18:36:27.171600Z",
     "iopub.status.idle": "2025-08-19T18:36:28.928433Z",
     "shell.execute_reply": "2025-08-19T18:36:28.927516Z"
    },
    "papermill": {
     "duration": 1.771313,
     "end_time": "2025-08-19T18:36:28.929678",
     "exception": false,
     "start_time": "2025-08-19T18:36:27.158365",
     "status": "completed"
    },
    "tags": []
   },
   "outputs": [
    {
     "data": {
      "text/plain": [
       "array([[<Axes: title={'center': 'accuracy'}, xlabel='majmin'>,\n",
       "        <Axes: title={'center': 'balanced accuracy'}, xlabel='majmin'>,\n",
       "        <Axes: title={'center': 'f1'}, xlabel='majmin'>],\n",
       "       [<Axes: title={'center': 'precision'}, xlabel='majmin'>,\n",
       "        <Axes: title={'center': 'false positive rate'}, xlabel='majmin'>,\n",
       "        <Axes: title={'center': 'false negative rate'}, xlabel='majmin'>],\n",
       "       [<Axes: title={'center': 'selection rate'}, xlabel='majmin'>,\n",
       "        <Axes: title={'center': 'count'}, xlabel='majmin'>,\n",
       "        <Axes: xlabel='majmin'>]], dtype=object)"
      ]
     },
     "execution_count": 61,
     "metadata": {},
     "output_type": "execute_result"
    },
    {
     "data": {
      "image/png": "[encoded data removed]",
      "text/plain": [
       "<Figure size 1200x800 with 9 Axes>"
      ]
     },
     "metadata": {},
     "output_type": "display_data"
    }
   ],
   "source": [
    "# In a graphic\n",
    "metric_frame.by_group.plot.bar(\n",
    "    subplots=True,\n",
    "    layout=[3, 3],\n",
    "    legend=False,\n",
    "    figsize=[12, 8],\n",
    "    title=\"Show all metrics\",\n",
    ")"
   ]
  },
  {
   "cell_type": "markdown",
   "id": "b2e433ae",
   "metadata": {
    "papermill": {
     "duration": 0.02018,
     "end_time": "2025-08-19T18:36:28.965918",
     "exception": false,
     "start_time": "2025-08-19T18:36:28.945738",
     "status": "completed"
    },
    "tags": []
   },
   "source": [
    "# Final Output"
   ]
  },
  {
   "cell_type": "code",
   "execution_count": 62,
   "id": "3871301e",
   "metadata": {
    "execution": {
     "iopub.execute_input": "2025-08-19T18:36:28.995757Z",
     "iopub.status.busy": "2025-08-19T18:36:28.994719Z",
     "iopub.status.idle": "2025-08-19T18:36:29.003425Z",
     "shell.execute_reply": "2025-08-19T18:36:29.002785Z"
    },
    "papermill": {
     "duration": 0.030658,
     "end_time": "2025-08-19T18:36:29.010606",
     "exception": false,
     "start_time": "2025-08-19T18:36:28.979948",
     "status": "completed"
    },
    "tags": []
   },
   "outputs": [
    {
     "data": {
      "text/plain": [
       "4"
      ]
     },
     "execution_count": 62,
     "metadata": {},
     "output_type": "execute_result"
    }
   ],
   "source": [
    "sub_universes = universe_analysis.generate_sub_universes()\n",
    "len(sub_universes)"
   ]
  },
  {
   "cell_type": "code",
   "execution_count": 63,
   "id": "d9cfdaca",
   "metadata": {
    "execution": {
     "iopub.execute_input": "2025-08-19T18:36:29.039768Z",
     "iopub.status.busy": "2025-08-19T18:36:29.039378Z",
     "iopub.status.idle": "2025-08-19T18:36:29.044054Z",
     "shell.execute_reply": "2025-08-19T18:36:29.043360Z"
    },
    "papermill": {
     "duration": 0.020539,
     "end_time": "2025-08-19T18:36:29.045230",
     "exception": false,
     "start_time": "2025-08-19T18:36:29.024691",
     "status": "completed"
    },
    "tags": []
   },
   "outputs": [],
   "source": [
    "def filter_sub_universe_data(sub_universe, org_test):\n",
    "    # Keep all rows — no filtering\n",
    "    keep_rows_mask = np.ones(org_test.shape[0], dtype=bool)\n",
    "\n",
    "    print(f\"[INFO] Keeping all rows: {keep_rows_mask.sum()} rows retained.\")\n",
    "    return keep_rows_mask"
   ]
  },
  {
   "cell_type": "code",
   "execution_count": 64,
   "id": "2bc31ac1",
   "metadata": {
    "execution": {
     "iopub.execute_input": "2025-08-19T18:36:29.074078Z",
     "iopub.status.busy": "2025-08-19T18:36:29.073678Z",
     "iopub.status.idle": "2025-08-19T18:36:35.774487Z",
     "shell.execute_reply": "2025-08-19T18:36:35.773513Z"
    },
    "papermill": {
     "duration": 6.717061,
     "end_time": "2025-08-19T18:36:35.776123",
     "exception": false,
     "start_time": "2025-08-19T18:36:29.059062",
     "status": "completed"
    },
    "tags": []
   },
   "outputs": [
    {
     "name": "stdout",
     "output_type": "stream",
     "text": [
      "Stopping execution_time clock.\n",
      "[INFO] Keeping all rows: 89710 rows retained.\n"
     ]
    },
    {
     "name": "stdout",
     "output_type": "stream",
     "text": [
      "[INFO] Keeping all rows: 89710 rows retained.\n"
     ]
    },
    {
     "name": "stdout",
     "output_type": "stream",
     "text": [
      "[INFO] Keeping all rows: 89710 rows retained.\n"
     ]
    },
    {
     "name": "stdout",
     "output_type": "stream",
     "text": [
      "[INFO] Keeping all rows: 89710 rows retained.\n"
     ]
    },
    {
     "data": {
      "text/html": [
       "<div>\n",
       "<style scoped>\n",
       "    .dataframe tbody tr th:only-of-type {\n",
       "        vertical-align: middle;\n",
       "    }\n",
       "\n",
       "    .dataframe tbody tr th {\n",
       "        vertical-align: top;\n",
       "    }\n",
       "\n",
       "    .dataframe thead th {\n",
       "        text-align: right;\n",
       "    }\n",
       "</style>\n",
       "<table border=\"1\" class=\"dataframe\">\n",
       "  <thead>\n",
       "    <tr style=\"text-align: right;\">\n",
       "      <th></th>\n",
       "      <th>run_no</th>\n",
       "      <th>universe_id</th>\n",
       "      <th>universe_settings</th>\n",
       "      <th>execution_time</th>\n",
       "      <th>test_size_n</th>\n",
       "      <th>test_size_frac</th>\n",
       "      <th>fair_main_equalized_odds_difference</th>\n",
       "      <th>fair_main_equalized_odds_ratio</th>\n",
       "      <th>fair_main_demographic_parity_difference</th>\n",
       "      <th>fair_main_demographic_parity_ratio</th>\n",
       "      <th>...</th>\n",
       "      <th>perf_grp_precision_0</th>\n",
       "      <th>perf_grp_precision_1</th>\n",
       "      <th>perf_grp_false positive rate_0</th>\n",
       "      <th>perf_grp_false positive rate_1</th>\n",
       "      <th>perf_grp_false negative rate_0</th>\n",
       "      <th>perf_grp_false negative rate_1</th>\n",
       "      <th>perf_grp_selection rate_0</th>\n",
       "      <th>perf_grp_selection rate_1</th>\n",
       "      <th>perf_grp_count_0</th>\n",
       "      <th>perf_grp_count_1</th>\n",
       "    </tr>\n",
       "  </thead>\n",
       "  <tbody>\n",
       "    <tr>\n",
       "      <th>0</th>\n",
       "      <td>3</td>\n",
       "      <td>6cb060b1c39071d4e1a29dafeceb7dbf</td>\n",
       "      <td>{\"cutoff\": \"quantile_0.1\", \"eval_fairness_grou...</td>\n",
       "      <td>20.829874</td>\n",
       "      <td>89710</td>\n",
       "      <td>1.0</td>\n",
       "      <td>0.098343</td>\n",
       "      <td>0.898253</td>\n",
       "      <td>0.089094</td>\n",
       "      <td>0.908027</td>\n",
       "      <td>...</td>\n",
       "      <td>NaN</td>\n",
       "      <td>NaN</td>\n",
       "      <td>NaN</td>\n",
       "      <td>NaN</td>\n",
       "      <td>NaN</td>\n",
       "      <td>NaN</td>\n",
       "      <td>NaN</td>\n",
       "      <td>NaN</td>\n",
       "      <td>NaN</td>\n",
       "      <td>NaN</td>\n",
       "    </tr>\n",
       "    <tr>\n",
       "      <th>0</th>\n",
       "      <td>3</td>\n",
       "      <td>6cb060b1c39071d4e1a29dafeceb7dbf</td>\n",
       "      <td>{\"cutoff\": \"quantile_0.1\", \"eval_fairness_grou...</td>\n",
       "      <td>20.829874</td>\n",
       "      <td>89710</td>\n",
       "      <td>1.0</td>\n",
       "      <td>0.098343</td>\n",
       "      <td>0.898253</td>\n",
       "      <td>0.089094</td>\n",
       "      <td>0.908027</td>\n",
       "      <td>...</td>\n",
       "      <td>0.117254</td>\n",
       "      <td>0.143388</td>\n",
       "      <td>0.966542</td>\n",
       "      <td>0.868199</td>\n",
       "      <td>0.014780</td>\n",
       "      <td>0.045514</td>\n",
       "      <td>0.968695</td>\n",
       "      <td>0.879601</td>\n",
       "      <td>20540.0</td>\n",
       "      <td>69170.0</td>\n",
       "    </tr>\n",
       "    <tr>\n",
       "      <th>0</th>\n",
       "      <td>3</td>\n",
       "      <td>6cb060b1c39071d4e1a29dafeceb7dbf</td>\n",
       "      <td>{\"cutoff\": \"quantile_0.25\", \"eval_fairness_gro...</td>\n",
       "      <td>20.829874</td>\n",
       "      <td>89710</td>\n",
       "      <td>1.0</td>\n",
       "      <td>0.220464</td>\n",
       "      <td>0.755132</td>\n",
       "      <td>0.202064</td>\n",
       "      <td>0.776921</td>\n",
       "      <td>...</td>\n",
       "      <td>NaN</td>\n",
       "      <td>NaN</td>\n",
       "      <td>NaN</td>\n",
       "      <td>NaN</td>\n",
       "      <td>NaN</td>\n",
       "      <td>NaN</td>\n",
       "      <td>NaN</td>\n",
       "      <td>NaN</td>\n",
       "      <td>NaN</td>\n",
       "      <td>NaN</td>\n",
       "    </tr>\n",
       "    <tr>\n",
       "      <th>0</th>\n",
       "      <td>3</td>\n",
       "      <td>6cb060b1c39071d4e1a29dafeceb7dbf</td>\n",
       "      <td>{\"cutoff\": \"quantile_0.25\", \"eval_fairness_gro...</td>\n",
       "      <td>20.829874</td>\n",
       "      <td>89710</td>\n",
       "      <td>1.0</td>\n",
       "      <td>0.220464</td>\n",
       "      <td>0.755132</td>\n",
       "      <td>0.202064</td>\n",
       "      <td>0.776921</td>\n",
       "      <td>...</td>\n",
       "      <td>0.120613</td>\n",
       "      <td>0.161555</td>\n",
       "      <td>0.900341</td>\n",
       "      <td>0.679877</td>\n",
       "      <td>0.052365</td>\n",
       "      <td>0.139606</td>\n",
       "      <td>0.905794</td>\n",
       "      <td>0.703730</td>\n",
       "      <td>20540.0</td>\n",
       "      <td>69170.0</td>\n",
       "    </tr>\n",
       "  </tbody>\n",
       "</table>\n",
       "<p>4 rows × 50 columns</p>\n",
       "</div>"
      ],
      "text/plain": [
       "  run_no                       universe_id  \\\n",
       "0      3  6cb060b1c39071d4e1a29dafeceb7dbf   \n",
       "0      3  6cb060b1c39071d4e1a29dafeceb7dbf   \n",
       "0      3  6cb060b1c39071d4e1a29dafeceb7dbf   \n",
       "0      3  6cb060b1c39071d4e1a29dafeceb7dbf   \n",
       "\n",
       "                                   universe_settings  execution_time  \\\n",
       "0  {\"cutoff\": \"quantile_0.1\", \"eval_fairness_grou...       20.829874   \n",
       "0  {\"cutoff\": \"quantile_0.1\", \"eval_fairness_grou...       20.829874   \n",
       "0  {\"cutoff\": \"quantile_0.25\", \"eval_fairness_gro...       20.829874   \n",
       "0  {\"cutoff\": \"quantile_0.25\", \"eval_fairness_gro...       20.829874   \n",
       "\n",
       "   test_size_n  test_size_frac  fair_main_equalized_odds_difference  \\\n",
       "0        89710             1.0                             0.098343   \n",
       "0        89710             1.0                             0.098343   \n",
       "0        89710             1.0                             0.220464   \n",
       "0        89710             1.0                             0.220464   \n",
       "\n",
       "   fair_main_equalized_odds_ratio  fair_main_demographic_parity_difference  \\\n",
       "0                        0.898253                                 0.089094   \n",
       "0                        0.898253                                 0.089094   \n",
       "0                        0.755132                                 0.202064   \n",
       "0                        0.755132                                 0.202064   \n",
       "\n",
       "   fair_main_demographic_parity_ratio  ...  perf_grp_precision_0  \\\n",
       "0                            0.908027  ...                   NaN   \n",
       "0                            0.908027  ...              0.117254   \n",
       "0                            0.776921  ...                   NaN   \n",
       "0                            0.776921  ...              0.120613   \n",
       "\n",
       "   perf_grp_precision_1  perf_grp_false positive rate_0  \\\n",
       "0                   NaN                             NaN   \n",
       "0              0.143388                        0.966542   \n",
       "0                   NaN                             NaN   \n",
       "0              0.161555                        0.900341   \n",
       "\n",
       "   perf_grp_false positive rate_1  perf_grp_false negative rate_0  \\\n",
       "0                             NaN                             NaN   \n",
       "0                        0.868199                        0.014780   \n",
       "0                             NaN                             NaN   \n",
       "0                        0.679877                        0.052365   \n",
       "\n",
       "   perf_grp_false negative rate_1  perf_grp_selection rate_0  \\\n",
       "0                             NaN                        NaN   \n",
       "0                        0.045514                   0.968695   \n",
       "0                             NaN                        NaN   \n",
       "0                        0.139606                   0.905794   \n",
       "\n",
       "   perf_grp_selection rate_1  perf_grp_count_0  perf_grp_count_1  \n",
       "0                        NaN               NaN               NaN  \n",
       "0                   0.879601           20540.0           69170.0  \n",
       "0                        NaN               NaN               NaN  \n",
       "0                   0.703730           20540.0           69170.0  \n",
       "\n",
       "[4 rows x 50 columns]"
      ]
     },
     "execution_count": 64,
     "metadata": {},
     "output_type": "execute_result"
    }
   ],
   "source": [
    "final_output = universe_analysis.generate_final_output(\n",
    "    y_pred_prob=probs_test,\n",
    "    y_test=y_true,\n",
    "    org_test=org_test,\n",
    "    filter_data=filter_sub_universe_data,\n",
    "    cp_metrics_df=cp_metrics_df,\n",
    "    save=True,\n",
    ")\n",
    "final_output"
   ]
  },
  {
   "cell_type": "code",
   "execution_count": null,
   "id": "8b80a1ff",
   "metadata": {
    "papermill": {
     "duration": 0.014681,
     "end_time": "2025-08-19T18:36:35.830038",
     "exception": false,
     "start_time": "2025-08-19T18:36:35.815357",
     "status": "completed"
    },
    "tags": []
   },
   "outputs": [],
   "source": []
  },
  {
   "cell_type": "code",
   "execution_count": null,
   "id": "275c9fad",
   "metadata": {
    "papermill": {
     "duration": 0.014482,
     "end_time": "2025-08-19T18:36:35.858737",
     "exception": false,
     "start_time": "2025-08-19T18:36:35.844255",
     "status": "completed"
    },
    "tags": []
   },
   "outputs": [],
   "source": []
  }
 ],
 "metadata": {
  "celltoolbar": "Tags",
  "kernelspec": {
   "display_name": "Python (CMA Fairness)",
   "language": "python",
   "name": "cma_fair_env"
  },
  "language_info": {
   "codemirror_mode": {
    "name": "ipython",
    "version": 3
   },
   "file_extension": ".py",
   "mimetype": "text/x-python",
   "name": "python",
   "nbconvert_exporter": "python",
   "pygments_lexer": "ipython3",
   "version": "3.10.12"
  },
  "papermill": {
   "default_parameters": {},
   "duration": 31.370092,
   "end_time": "2025-08-19T18:36:36.800277",
   "environment_variables": {},
   "exception": null,
   "input_path": "universe_analysis.ipynb",
   "output_path": "output/runs/3/notebooks/m_3-6cb060b1c39071d4e1a29dafeceb7dbf.ipynb",
   "parameters": {
    "output_dir": "output",
    "run_no": "3",
    "seed": "2023",
    "universe": "{\"cutoff\": [\"quantile_0.1\", \"quantile_0.25\"], \"eval_fairness_grouping\": [\"majority-minority\", \"nationality-all\"], \"exclude_features\": \"nationality-sex\", \"exclude_subgroups\": \"keep-all\", \"model\": \"penalized_logreg\", \"scale\": \"do-not-scale\", \"training_size\": \"5k\", \"training_year\": \"2012_14\"}",
    "universe_id": "6cb060b1c39071d4e1a29dafeceb7dbf"
   },
   "start_time": "2025-08-19T18:36:05.430185",
   "version": "2.6.0"
  }
 },
 "nbformat": 4,
 "nbformat_minor": 5
}