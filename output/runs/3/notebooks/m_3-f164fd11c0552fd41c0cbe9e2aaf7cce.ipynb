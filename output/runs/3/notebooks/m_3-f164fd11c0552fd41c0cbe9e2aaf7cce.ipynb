{
 "cells": [
  {
   "cell_type": "markdown",
   "id": "ef23dbb3",
   "metadata": {
    "papermill": {
     "duration": 0.022733,
     "end_time": "2025-08-19T18:20:15.421760",
     "exception": false,
     "start_time": "2025-08-19T18:20:15.399027",
     "status": "completed"
    },
    "tags": []
   },
   "source": [
    "# Setup"
   ]
  },
  {
   "cell_type": "code",
   "execution_count": 1,
   "id": "0bc8e7dc",
   "metadata": {
    "execution": {
     "iopub.execute_input": "2025-08-19T18:20:15.444544Z",
     "iopub.status.busy": "2025-08-19T18:20:15.444006Z",
     "iopub.status.idle": "2025-08-19T18:20:15.454179Z",
     "shell.execute_reply": "2025-08-19T18:20:15.453295Z"
    },
    "papermill": {
     "duration": 0.021929,
     "end_time": "2025-08-19T18:20:15.456099",
     "exception": false,
     "start_time": "2025-08-19T18:20:15.434170",
     "status": "completed"
    },
    "tags": []
   },
   "outputs": [
    {
     "name": "stdout",
     "output_type": "stream",
     "text": [
      "/dss/dsshome1/0C/ra93lal2/cma/CMA_Fairness_v2\n"
     ]
    },
    {
     "name": "stderr",
     "output_type": "stream",
     "text": [
      "/dss/dsshome1/0C/ra93lal2/.local/share/virtualenvs/CMA_Fairness_v2-3j10GkSs/lib/python3.10/site-packages/IPython/core/magics/osm.py:393: UserWarning: This is now an optional IPython functionality, using bookmarks requires you to install the `pickleshare` library.\n",
      "  bkms = self.shell.db.get('bookmarks', {})\n",
      "/dss/dsshome1/0C/ra93lal2/.local/share/virtualenvs/CMA_Fairness_v2-3j10GkSs/lib/python3.10/site-packages/IPython/core/magics/osm.py:417: UserWarning: This is now an optional IPython functionality, setting dhist requires you to install the `pickleshare` library.\n",
      "  self.shell.db['dhist'] = compress_dhist(dhist)[-100:]\n"
     ]
    }
   ],
   "source": [
    "%cd ~/cma/CMA_Fairness_v2"
   ]
  },
  {
   "cell_type": "markdown",
   "id": "9d235661",
   "metadata": {
    "papermill": {
     "duration": 0.008661,
     "end_time": "2025-08-19T18:20:15.474601",
     "exception": false,
     "start_time": "2025-08-19T18:20:15.465940",
     "status": "completed"
    },
    "tags": []
   },
   "source": [
    "The following cell holds the definition of our parameters, these values can be overriden by rendering the with e.g. the following command:\n",
    "\n",
    "papermill -p alpha 0.2 -p ratio 0.3 universe_analysis.ipynb output/test_run.ipynb"
   ]
  },
  {
   "cell_type": "code",
   "execution_count": 2,
   "id": "4a789d8e",
   "metadata": {
    "execution": {
     "iopub.execute_input": "2025-08-19T18:20:15.493385Z",
     "iopub.status.busy": "2025-08-19T18:20:15.492945Z",
     "iopub.status.idle": "2025-08-19T18:20:15.500114Z",
     "shell.execute_reply": "2025-08-19T18:20:15.499358Z"
    },
    "papermill": {
     "duration": 0.020269,
     "end_time": "2025-08-19T18:20:15.503530",
     "exception": false,
     "start_time": "2025-08-19T18:20:15.483261",
     "status": "completed"
    },
    "tags": []
   },
   "outputs": [
    {
     "name": "stdout",
     "output_type": "stream",
     "text": [
      "Current working directory: /dss/dsshome1/0C/ra93lal2/cma/CMA_Fairness_v2\n"
     ]
    }
   ],
   "source": [
    "import os\n",
    "print(\"Current working directory:\", os.getcwd())"
   ]
  },
  {
   "cell_type": "code",
   "execution_count": 3,
   "id": "4132aaed",
   "metadata": {
    "execution": {
     "iopub.execute_input": "2025-08-19T18:20:15.647803Z",
     "iopub.status.busy": "2025-08-19T18:20:15.647497Z",
     "iopub.status.idle": "2025-08-19T18:20:15.652783Z",
     "shell.execute_reply": "2025-08-19T18:20:15.651886Z"
    },
    "papermill": {
     "duration": 0.130288,
     "end_time": "2025-08-19T18:20:15.654232",
     "exception": false,
     "start_time": "2025-08-19T18:20:15.523944",
     "status": "completed"
    },
    "tags": [
     "parameters"
    ]
   },
   "outputs": [],
   "source": [
    "run_no = 0\n",
    "universe_id = \"test\"\n",
    "universe = {\n",
    "    \"training_size\": \"5k\", # \"25k\", \"5k\", \"1k\"\n",
    "    \"training_year\": \"2012_14\", # \"2014\", \"2012_14\", \"2010_14\"\n",
    "    \"scale\": \"scale\", # \"scale\", \"do-not-scale\",\n",
    "    \"model\": \"elasticnet\", # \"logreg\", \"penalized_logreg\", \"rf\", \"gbm\", \"elasticnet\"\n",
    "    \"cutoff\": [\"quantile_0.15\", \"quantile_0.30\"],\n",
    "    \"exclude_features\": \"age\", # \"none\", \"nationality\", \"sex\", \"nationality-sex\", \"age\"\n",
    "    \"exclude_subgroups\": \"drop-non-german\", # \"keep-all\", \"drop-non-german\"\n",
    "    \"eval_fairness_grouping\": [\"majority-minority\", \"nationality-all\"]\n",
    "}\n",
    "\n",
    "output_dir=\"./output\"\n",
    "seed=0"
   ]
  },
  {
   "cell_type": "code",
   "execution_count": 4,
   "id": "223f4aa3",
   "metadata": {
    "execution": {
     "iopub.execute_input": "2025-08-19T18:20:15.676318Z",
     "iopub.status.busy": "2025-08-19T18:20:15.676051Z",
     "iopub.status.idle": "2025-08-19T18:20:15.680596Z",
     "shell.execute_reply": "2025-08-19T18:20:15.679699Z"
    },
    "papermill": {
     "duration": 0.016097,
     "end_time": "2025-08-19T18:20:15.681879",
     "exception": false,
     "start_time": "2025-08-19T18:20:15.665782",
     "status": "completed"
    },
    "tags": [
     "injected-parameters"
    ]
   },
   "outputs": [],
   "source": [
    "# Parameters\n",
    "universe_id = \"f164fd11c0552fd41c0cbe9e2aaf7cce\"\n",
    "run_no = \"3\"\n",
    "universe = \"{\\\"cutoff\\\": [\\\"quantile_0.1\\\", \\\"quantile_0.25\\\"], \\\"eval_fairness_grouping\\\": [\\\"majority-minority\\\", \\\"nationality-all\\\"], \\\"exclude_features\\\": \\\"age\\\", \\\"exclude_subgroups\\\": \\\"drop-non-german\\\", \\\"model\\\": \\\"rf\\\", \\\"scale\\\": \\\"do-not-scale\\\", \\\"training_size\\\": \\\"25k\\\", \\\"training_year\\\": \\\"2010_14\\\"}\"\n",
    "output_dir = \"output\"\n",
    "seed = \"2023\"\n"
   ]
  },
  {
   "cell_type": "code",
   "execution_count": 5,
   "id": "a5d7941f",
   "metadata": {
    "execution": {
     "iopub.execute_input": "2025-08-19T18:20:15.702120Z",
     "iopub.status.busy": "2025-08-19T18:20:15.701845Z",
     "iopub.status.idle": "2025-08-19T18:20:15.706337Z",
     "shell.execute_reply": "2025-08-19T18:20:15.705430Z"
    },
    "papermill": {
     "duration": 0.016074,
     "end_time": "2025-08-19T18:20:15.707682",
     "exception": false,
     "start_time": "2025-08-19T18:20:15.691608",
     "status": "completed"
    },
    "tags": []
   },
   "outputs": [],
   "source": [
    "import json\n",
    "if isinstance(universe, str):\n",
    "    universe = json.loads(universe)"
   ]
  },
  {
   "cell_type": "code",
   "execution_count": 6,
   "id": "7076ccb1",
   "metadata": {
    "execution": {
     "iopub.execute_input": "2025-08-19T18:20:15.726961Z",
     "iopub.status.busy": "2025-08-19T18:20:15.726708Z",
     "iopub.status.idle": "2025-08-19T18:20:15.788584Z",
     "shell.execute_reply": "2025-08-19T18:20:15.787405Z"
    },
    "papermill": {
     "duration": 0.073473,
     "end_time": "2025-08-19T18:20:15.790288",
     "exception": false,
     "start_time": "2025-08-19T18:20:15.716815",
     "status": "completed"
    },
    "tags": []
   },
   "outputs": [],
   "source": [
    "# Auto-reload the custom package\n",
    "%load_ext autoreload\n",
    "%autoreload 1\n",
    "%aimport fairness_multiverse"
   ]
  },
  {
   "cell_type": "code",
   "execution_count": 7,
   "id": "94c8eb93",
   "metadata": {
    "execution": {
     "iopub.execute_input": "2025-08-19T18:20:15.812746Z",
     "iopub.status.busy": "2025-08-19T18:20:15.811953Z",
     "iopub.status.idle": "2025-08-19T18:20:17.399425Z",
     "shell.execute_reply": "2025-08-19T18:20:17.398603Z"
    },
    "papermill": {
     "duration": 1.600603,
     "end_time": "2025-08-19T18:20:17.401057",
     "exception": false,
     "start_time": "2025-08-19T18:20:15.800454",
     "status": "completed"
    },
    "tags": []
   },
   "outputs": [],
   "source": [
    "from fairness_multiverse.universe import UniverseAnalysis\n",
    "\n",
    "universe_analysis = UniverseAnalysis(\n",
    "    run_no = run_no,\n",
    "    universe_id = universe_id,\n",
    "    universe = universe,\n",
    "    output_dir=output_dir,\n",
    ")"
   ]
  },
  {
   "cell_type": "code",
   "execution_count": 8,
   "id": "2a6381cf",
   "metadata": {
    "execution": {
     "iopub.execute_input": "2025-08-19T18:20:17.433782Z",
     "iopub.status.busy": "2025-08-19T18:20:17.432969Z",
     "iopub.status.idle": "2025-08-19T18:20:17.442384Z",
     "shell.execute_reply": "2025-08-19T18:20:17.440961Z"
    },
    "papermill": {
     "duration": 0.03064,
     "end_time": "2025-08-19T18:20:17.443868",
     "exception": false,
     "start_time": "2025-08-19T18:20:17.413228",
     "status": "completed"
    },
    "tags": []
   },
   "outputs": [
    {
     "name": "stdout",
     "output_type": "stream",
     "text": [
      "Using Seed: 2023\n"
     ]
    }
   ],
   "source": [
    "import numpy as np\n",
    "parsed_seed = int(seed)\n",
    "np.random.seed(parsed_seed)\n",
    "print(f\"Using Seed: {parsed_seed}\")"
   ]
  },
  {
   "cell_type": "markdown",
   "id": "b6e958b4",
   "metadata": {
    "papermill": {
     "duration": 0.010131,
     "end_time": "2025-08-19T18:20:17.468098",
     "exception": false,
     "start_time": "2025-08-19T18:20:17.457967",
     "status": "completed"
    },
    "tags": []
   },
   "source": [
    "# Loading Data"
   ]
  },
  {
   "cell_type": "code",
   "execution_count": 9,
   "id": "98701482",
   "metadata": {
    "execution": {
     "iopub.execute_input": "2025-08-19T18:20:17.492711Z",
     "iopub.status.busy": "2025-08-19T18:20:17.491557Z",
     "iopub.status.idle": "2025-08-19T18:20:27.594074Z",
     "shell.execute_reply": "2025-08-19T18:20:27.593184Z"
    },
    "papermill": {
     "duration": 10.117685,
     "end_time": "2025-08-19T18:20:27.595214",
     "exception": false,
     "start_time": "2025-08-19T18:20:17.477529",
     "status": "completed"
    },
    "tags": []
   },
   "outputs": [
    {
     "name": "stdout",
     "output_type": "stream",
     "text": [
      "Loading SIAB data from cache: data/siab_cached.csv.gz\n"
     ]
    },
    {
     "name": "stdout",
     "output_type": "stream",
     "text": [
      "(643690, 164)\n"
     ]
    }
   ],
   "source": [
    "from pathlib import Path\n",
    "import pandas as pd\n",
    "\n",
    "# File paths\n",
    "raw_file = Path(\"data/raw/siab.csv\")\n",
    "cache_file = Path(\"data/siab_cached.csv.gz\")\n",
    "\n",
    "# Ensure cache directory exists\n",
    "cache_file.parent.mkdir(parents=True, exist_ok=True)\n",
    "\n",
    "# Load with simple caching\n",
    "if cache_file.exists():\n",
    "    print(f\"Loading SIAB data from cache: {cache_file}\")\n",
    "    siab = pd.read_csv(cache_file, compression='gzip')\n",
    "else:\n",
    "    print(f\"Cache not found. Reading raw SIAB data: {raw_file}\")\n",
    "    siab = pd.read_csv(raw_file)\n",
    "    siab.to_csv(cache_file, index=False, compression='gzip')\n",
    "    print(f\"Cached SIAB data to: {cache_file}\")\n",
    "\n",
    "print(siab.shape)"
   ]
  },
  {
   "cell_type": "code",
   "execution_count": 10,
   "id": "058d2abb",
   "metadata": {
    "execution": {
     "iopub.execute_input": "2025-08-19T18:20:27.621298Z",
     "iopub.status.busy": "2025-08-19T18:20:27.620518Z",
     "iopub.status.idle": "2025-08-19T18:20:27.833594Z",
     "shell.execute_reply": "2025-08-19T18:20:27.832895Z"
    },
    "papermill": {
     "duration": 0.227988,
     "end_time": "2025-08-19T18:20:27.836320",
     "exception": false,
     "start_time": "2025-08-19T18:20:27.608332",
     "status": "completed"
    },
    "tags": []
   },
   "outputs": [
    {
     "data": {
      "text/html": [
       "<div>\n",
       "<style scoped>\n",
       "    .dataframe tbody tr th:only-of-type {\n",
       "        vertical-align: middle;\n",
       "    }\n",
       "\n",
       "    .dataframe tbody tr th {\n",
       "        vertical-align: top;\n",
       "    }\n",
       "\n",
       "    .dataframe thead th {\n",
       "        text-align: right;\n",
       "    }\n",
       "</style>\n",
       "<table border=\"1\" class=\"dataframe\">\n",
       "  <thead>\n",
       "    <tr style=\"text-align: right;\">\n",
       "      <th></th>\n",
       "      <th>persnr</th>\n",
       "      <th>year</th>\n",
       "      <th>nrEntry</th>\n",
       "      <th>ltue</th>\n",
       "      <th>employed_before</th>\n",
       "      <th>receipt_leh_before</th>\n",
       "      <th>receipt_lhg_before</th>\n",
       "      <th>se_before</th>\n",
       "      <th>ASU_notue_seeking_before</th>\n",
       "      <th>ASU_other_before</th>\n",
       "      <th>...</th>\n",
       "      <th>minijob_tot_dur_byage</th>\n",
       "      <th>ft_tot_dur_byage</th>\n",
       "      <th>befrist_tot_dur_byage</th>\n",
       "      <th>leih_tot_dur_byage</th>\n",
       "      <th>LHG_tot_dur_byage</th>\n",
       "      <th>LEH_tot_dur_byage</th>\n",
       "      <th>almp_tot_dur_byage</th>\n",
       "      <th>almp_aw_tot_dur_byage</th>\n",
       "      <th>se_tot_dur_byage</th>\n",
       "      <th>seeking1_tot_dur_byage</th>\n",
       "    </tr>\n",
       "  </thead>\n",
       "  <tbody>\n",
       "    <tr>\n",
       "      <th>0</th>\n",
       "      <td>7</td>\n",
       "      <td>2015</td>\n",
       "      <td>1</td>\n",
       "      <td>0</td>\n",
       "      <td>1</td>\n",
       "      <td>0</td>\n",
       "      <td>0</td>\n",
       "      <td>0</td>\n",
       "      <td>1</td>\n",
       "      <td>0</td>\n",
       "      <td>...</td>\n",
       "      <td>0.000000</td>\n",
       "      <td>0.000000</td>\n",
       "      <td>15.043478</td>\n",
       "      <td>0.000000</td>\n",
       "      <td>0.000000</td>\n",
       "      <td>0.000000</td>\n",
       "      <td>0.000000</td>\n",
       "      <td>0.000000</td>\n",
       "      <td>0.000000</td>\n",
       "      <td>0.000000</td>\n",
       "    </tr>\n",
       "    <tr>\n",
       "      <th>1</th>\n",
       "      <td>18</td>\n",
       "      <td>2010</td>\n",
       "      <td>1</td>\n",
       "      <td>1</td>\n",
       "      <td>0</td>\n",
       "      <td>0</td>\n",
       "      <td>0</td>\n",
       "      <td>0</td>\n",
       "      <td>0</td>\n",
       "      <td>0</td>\n",
       "      <td>...</td>\n",
       "      <td>0.000000</td>\n",
       "      <td>0.000000</td>\n",
       "      <td>0.000000</td>\n",
       "      <td>0.000000</td>\n",
       "      <td>0.000000</td>\n",
       "      <td>0.000000</td>\n",
       "      <td>0.000000</td>\n",
       "      <td>0.000000</td>\n",
       "      <td>0.000000</td>\n",
       "      <td>0.000000</td>\n",
       "    </tr>\n",
       "    <tr>\n",
       "      <th>2</th>\n",
       "      <td>18</td>\n",
       "      <td>2011</td>\n",
       "      <td>2</td>\n",
       "      <td>0</td>\n",
       "      <td>1</td>\n",
       "      <td>0</td>\n",
       "      <td>1</td>\n",
       "      <td>0</td>\n",
       "      <td>1</td>\n",
       "      <td>0</td>\n",
       "      <td>...</td>\n",
       "      <td>2.714286</td>\n",
       "      <td>2.714286</td>\n",
       "      <td>0.000000</td>\n",
       "      <td>0.000000</td>\n",
       "      <td>10.775510</td>\n",
       "      <td>0.000000</td>\n",
       "      <td>8.367347</td>\n",
       "      <td>0.000000</td>\n",
       "      <td>0.000000</td>\n",
       "      <td>9.836735</td>\n",
       "    </tr>\n",
       "    <tr>\n",
       "      <th>3</th>\n",
       "      <td>18</td>\n",
       "      <td>2012</td>\n",
       "      <td>3</td>\n",
       "      <td>0</td>\n",
       "      <td>1</td>\n",
       "      <td>0</td>\n",
       "      <td>1</td>\n",
       "      <td>0</td>\n",
       "      <td>1</td>\n",
       "      <td>0</td>\n",
       "      <td>...</td>\n",
       "      <td>4.200000</td>\n",
       "      <td>4.200000</td>\n",
       "      <td>0.000000</td>\n",
       "      <td>0.000000</td>\n",
       "      <td>12.100000</td>\n",
       "      <td>0.000000</td>\n",
       "      <td>9.400000</td>\n",
       "      <td>0.000000</td>\n",
       "      <td>0.000000</td>\n",
       "      <td>9.960000</td>\n",
       "    </tr>\n",
       "    <tr>\n",
       "      <th>4</th>\n",
       "      <td>18</td>\n",
       "      <td>2012</td>\n",
       "      <td>4</td>\n",
       "      <td>0</td>\n",
       "      <td>1</td>\n",
       "      <td>0</td>\n",
       "      <td>1</td>\n",
       "      <td>0</td>\n",
       "      <td>1</td>\n",
       "      <td>0</td>\n",
       "      <td>...</td>\n",
       "      <td>5.460000</td>\n",
       "      <td>5.460000</td>\n",
       "      <td>0.000000</td>\n",
       "      <td>0.000000</td>\n",
       "      <td>13.360000</td>\n",
       "      <td>0.000000</td>\n",
       "      <td>10.320000</td>\n",
       "      <td>0.000000</td>\n",
       "      <td>0.000000</td>\n",
       "      <td>10.280000</td>\n",
       "    </tr>\n",
       "    <tr>\n",
       "      <th>...</th>\n",
       "      <td>...</td>\n",
       "      <td>...</td>\n",
       "      <td>...</td>\n",
       "      <td>...</td>\n",
       "      <td>...</td>\n",
       "      <td>...</td>\n",
       "      <td>...</td>\n",
       "      <td>...</td>\n",
       "      <td>...</td>\n",
       "      <td>...</td>\n",
       "      <td>...</td>\n",
       "      <td>...</td>\n",
       "      <td>...</td>\n",
       "      <td>...</td>\n",
       "      <td>...</td>\n",
       "      <td>...</td>\n",
       "      <td>...</td>\n",
       "      <td>...</td>\n",
       "      <td>...</td>\n",
       "      <td>...</td>\n",
       "      <td>...</td>\n",
       "    </tr>\n",
       "    <tr>\n",
       "      <th>643685</th>\n",
       "      <td>1827860</td>\n",
       "      <td>2013</td>\n",
       "      <td>1</td>\n",
       "      <td>0</td>\n",
       "      <td>0</td>\n",
       "      <td>0</td>\n",
       "      <td>1</td>\n",
       "      <td>0</td>\n",
       "      <td>0</td>\n",
       "      <td>1</td>\n",
       "      <td>...</td>\n",
       "      <td>0.000000</td>\n",
       "      <td>0.000000</td>\n",
       "      <td>0.000000</td>\n",
       "      <td>0.000000</td>\n",
       "      <td>0.612903</td>\n",
       "      <td>0.000000</td>\n",
       "      <td>0.000000</td>\n",
       "      <td>0.000000</td>\n",
       "      <td>0.000000</td>\n",
       "      <td>0.000000</td>\n",
       "    </tr>\n",
       "    <tr>\n",
       "      <th>643686</th>\n",
       "      <td>1827860</td>\n",
       "      <td>2015</td>\n",
       "      <td>2</td>\n",
       "      <td>1</td>\n",
       "      <td>0</td>\n",
       "      <td>0</td>\n",
       "      <td>1</td>\n",
       "      <td>0</td>\n",
       "      <td>1</td>\n",
       "      <td>0</td>\n",
       "      <td>...</td>\n",
       "      <td>0.000000</td>\n",
       "      <td>0.000000</td>\n",
       "      <td>0.212121</td>\n",
       "      <td>0.212121</td>\n",
       "      <td>17.363636</td>\n",
       "      <td>0.000000</td>\n",
       "      <td>8.909091</td>\n",
       "      <td>0.000000</td>\n",
       "      <td>0.000000</td>\n",
       "      <td>7.121212</td>\n",
       "    </tr>\n",
       "    <tr>\n",
       "      <th>643687</th>\n",
       "      <td>1827860</td>\n",
       "      <td>2016</td>\n",
       "      <td>3</td>\n",
       "      <td>1</td>\n",
       "      <td>0</td>\n",
       "      <td>0</td>\n",
       "      <td>1</td>\n",
       "      <td>1</td>\n",
       "      <td>0</td>\n",
       "      <td>1</td>\n",
       "      <td>...</td>\n",
       "      <td>0.000000</td>\n",
       "      <td>0.000000</td>\n",
       "      <td>0.294118</td>\n",
       "      <td>0.205882</td>\n",
       "      <td>34.705882</td>\n",
       "      <td>0.000000</td>\n",
       "      <td>10.352941</td>\n",
       "      <td>1.705882</td>\n",
       "      <td>1.705882</td>\n",
       "      <td>23.911765</td>\n",
       "    </tr>\n",
       "    <tr>\n",
       "      <th>643688</th>\n",
       "      <td>1827869</td>\n",
       "      <td>2013</td>\n",
       "      <td>1</td>\n",
       "      <td>1</td>\n",
       "      <td>1</td>\n",
       "      <td>0</td>\n",
       "      <td>0</td>\n",
       "      <td>0</td>\n",
       "      <td>1</td>\n",
       "      <td>0</td>\n",
       "      <td>...</td>\n",
       "      <td>0.000000</td>\n",
       "      <td>0.000000</td>\n",
       "      <td>0.000000</td>\n",
       "      <td>0.000000</td>\n",
       "      <td>0.000000</td>\n",
       "      <td>0.525424</td>\n",
       "      <td>0.000000</td>\n",
       "      <td>0.000000</td>\n",
       "      <td>0.000000</td>\n",
       "      <td>0.000000</td>\n",
       "    </tr>\n",
       "    <tr>\n",
       "      <th>643689</th>\n",
       "      <td>1827869</td>\n",
       "      <td>2014</td>\n",
       "      <td>2</td>\n",
       "      <td>0</td>\n",
       "      <td>0</td>\n",
       "      <td>1</td>\n",
       "      <td>0</td>\n",
       "      <td>0</td>\n",
       "      <td>1</td>\n",
       "      <td>0</td>\n",
       "      <td>...</td>\n",
       "      <td>0.000000</td>\n",
       "      <td>0.666667</td>\n",
       "      <td>0.666667</td>\n",
       "      <td>0.000000</td>\n",
       "      <td>0.000000</td>\n",
       "      <td>8.950000</td>\n",
       "      <td>1.033333</td>\n",
       "      <td>0.083333</td>\n",
       "      <td>0.083333</td>\n",
       "      <td>8.133333</td>\n",
       "    </tr>\n",
       "  </tbody>\n",
       "</table>\n",
       "<p>643690 rows × 164 columns</p>\n",
       "</div>"
      ],
      "text/plain": [
       "         persnr  year  nrEntry  ltue  employed_before  receipt_leh_before  \\\n",
       "0             7  2015        1     0                1                   0   \n",
       "1            18  2010        1     1                0                   0   \n",
       "2            18  2011        2     0                1                   0   \n",
       "3            18  2012        3     0                1                   0   \n",
       "4            18  2012        4     0                1                   0   \n",
       "...         ...   ...      ...   ...              ...                 ...   \n",
       "643685  1827860  2013        1     0                0                   0   \n",
       "643686  1827860  2015        2     1                0                   0   \n",
       "643687  1827860  2016        3     1                0                   0   \n",
       "643688  1827869  2013        1     1                1                   0   \n",
       "643689  1827869  2014        2     0                0                   1   \n",
       "\n",
       "        receipt_lhg_before  se_before  ASU_notue_seeking_before  \\\n",
       "0                        0          0                         1   \n",
       "1                        0          0                         0   \n",
       "2                        1          0                         1   \n",
       "3                        1          0                         1   \n",
       "4                        1          0                         1   \n",
       "...                    ...        ...                       ...   \n",
       "643685                   1          0                         0   \n",
       "643686                   1          0                         1   \n",
       "643687                   1          1                         0   \n",
       "643688                   0          0                         1   \n",
       "643689                   0          0                         1   \n",
       "\n",
       "        ASU_other_before  ...  minijob_tot_dur_byage  ft_tot_dur_byage  \\\n",
       "0                      0  ...               0.000000          0.000000   \n",
       "1                      0  ...               0.000000          0.000000   \n",
       "2                      0  ...               2.714286          2.714286   \n",
       "3                      0  ...               4.200000          4.200000   \n",
       "4                      0  ...               5.460000          5.460000   \n",
       "...                  ...  ...                    ...               ...   \n",
       "643685                 1  ...               0.000000          0.000000   \n",
       "643686                 0  ...               0.000000          0.000000   \n",
       "643687                 1  ...               0.000000          0.000000   \n",
       "643688                 0  ...               0.000000          0.000000   \n",
       "643689                 0  ...               0.000000          0.666667   \n",
       "\n",
       "        befrist_tot_dur_byage  leih_tot_dur_byage  LHG_tot_dur_byage  \\\n",
       "0                   15.043478            0.000000           0.000000   \n",
       "1                    0.000000            0.000000           0.000000   \n",
       "2                    0.000000            0.000000          10.775510   \n",
       "3                    0.000000            0.000000          12.100000   \n",
       "4                    0.000000            0.000000          13.360000   \n",
       "...                       ...                 ...                ...   \n",
       "643685               0.000000            0.000000           0.612903   \n",
       "643686               0.212121            0.212121          17.363636   \n",
       "643687               0.294118            0.205882          34.705882   \n",
       "643688               0.000000            0.000000           0.000000   \n",
       "643689               0.666667            0.000000           0.000000   \n",
       "\n",
       "        LEH_tot_dur_byage  almp_tot_dur_byage  almp_aw_tot_dur_byage  \\\n",
       "0                0.000000            0.000000               0.000000   \n",
       "1                0.000000            0.000000               0.000000   \n",
       "2                0.000000            8.367347               0.000000   \n",
       "3                0.000000            9.400000               0.000000   \n",
       "4                0.000000           10.320000               0.000000   \n",
       "...                   ...                 ...                    ...   \n",
       "643685           0.000000            0.000000               0.000000   \n",
       "643686           0.000000            8.909091               0.000000   \n",
       "643687           0.000000           10.352941               1.705882   \n",
       "643688           0.525424            0.000000               0.000000   \n",
       "643689           8.950000            1.033333               0.083333   \n",
       "\n",
       "        se_tot_dur_byage  seeking1_tot_dur_byage  \n",
       "0               0.000000                0.000000  \n",
       "1               0.000000                0.000000  \n",
       "2               0.000000                9.836735  \n",
       "3               0.000000                9.960000  \n",
       "4               0.000000               10.280000  \n",
       "...                  ...                     ...  \n",
       "643685          0.000000                0.000000  \n",
       "643686          0.000000                7.121212  \n",
       "643687          1.705882               23.911765  \n",
       "643688          0.000000                0.000000  \n",
       "643689          0.083333                8.133333  \n",
       "\n",
       "[643690 rows x 164 columns]"
      ]
     },
     "execution_count": 10,
     "metadata": {},
     "output_type": "execute_result"
    }
   ],
   "source": [
    "siab"
   ]
  },
  {
   "cell_type": "markdown",
   "id": "1f87e805",
   "metadata": {
    "papermill": {
     "duration": 0.013459,
     "end_time": "2025-08-19T18:20:27.876652",
     "exception": false,
     "start_time": "2025-08-19T18:20:27.863193",
     "status": "completed"
    },
    "tags": []
   },
   "source": [
    "# Splitting Data and Setting Training Data Size"
   ]
  },
  {
   "cell_type": "code",
   "execution_count": 11,
   "id": "910ae358",
   "metadata": {
    "execution": {
     "iopub.execute_input": "2025-08-19T18:20:27.900777Z",
     "iopub.status.busy": "2025-08-19T18:20:27.899616Z",
     "iopub.status.idle": "2025-08-19T18:20:29.044159Z",
     "shell.execute_reply": "2025-08-19T18:20:29.043456Z"
    },
    "papermill": {
     "duration": 1.159813,
     "end_time": "2025-08-19T18:20:29.047006",
     "exception": false,
     "start_time": "2025-08-19T18:20:27.887193",
     "status": "completed"
    },
    "tags": []
   },
   "outputs": [],
   "source": [
    "from fairness_multiverse.universe import sample_by_year_size\n",
    "\n",
    "siab_train = sample_by_year_size(siab,\n",
    "                               training_year=universe[\"training_year\"],\n",
    "                               training_size=universe[\"training_size\"])"
   ]
  },
  {
   "cell_type": "code",
   "execution_count": 12,
   "id": "919c8ff5",
   "metadata": {
    "execution": {
     "iopub.execute_input": "2025-08-19T18:20:29.088034Z",
     "iopub.status.busy": "2025-08-19T18:20:29.086882Z",
     "iopub.status.idle": "2025-08-19T18:20:29.097727Z",
     "shell.execute_reply": "2025-08-19T18:20:29.096422Z"
    },
    "papermill": {
     "duration": 0.027044,
     "end_time": "2025-08-19T18:20:29.099096",
     "exception": false,
     "start_time": "2025-08-19T18:20:29.072052",
     "status": "completed"
    },
    "tags": []
   },
   "outputs": [
    {
     "data": {
      "text/plain": [
       "(25000, 164)"
      ]
     },
     "execution_count": 12,
     "metadata": {},
     "output_type": "execute_result"
    }
   ],
   "source": [
    "siab_train.shape"
   ]
  },
  {
   "cell_type": "code",
   "execution_count": 13,
   "id": "feb13bf4",
   "metadata": {
    "execution": {
     "iopub.execute_input": "2025-08-19T18:20:29.126072Z",
     "iopub.status.busy": "2025-08-19T18:20:29.125002Z",
     "iopub.status.idle": "2025-08-19T18:20:29.139730Z",
     "shell.execute_reply": "2025-08-19T18:20:29.138573Z"
    },
    "papermill": {
     "duration": 0.028765,
     "end_time": "2025-08-19T18:20:29.141275",
     "exception": false,
     "start_time": "2025-08-19T18:20:29.112510",
     "status": "completed"
    },
    "tags": []
   },
   "outputs": [
    {
     "data": {
      "text/plain": [
       "year\n",
       "2010    5000\n",
       "2011    5000\n",
       "2012    5000\n",
       "2013    5000\n",
       "2014    5000\n",
       "dtype: int64"
      ]
     },
     "metadata": {},
     "output_type": "display_data"
    }
   ],
   "source": [
    "display(siab_train.groupby(\"year\").size())"
   ]
  },
  {
   "cell_type": "code",
   "execution_count": 14,
   "id": "0997782f",
   "metadata": {
    "execution": {
     "iopub.execute_input": "2025-08-19T18:20:29.172052Z",
     "iopub.status.busy": "2025-08-19T18:20:29.170923Z",
     "iopub.status.idle": "2025-08-19T18:20:29.425576Z",
     "shell.execute_reply": "2025-08-19T18:20:29.424877Z"
    },
    "papermill": {
     "duration": 0.270925,
     "end_time": "2025-08-19T18:20:29.428378",
     "exception": false,
     "start_time": "2025-08-19T18:20:29.157453",
     "status": "completed"
    },
    "tags": []
   },
   "outputs": [],
   "source": [
    "#siab_train = siab_s[siab_s.year < 2015]\n",
    "siab_calib = siab[siab.year == 2015]\n",
    "siab_test = siab[siab.year == 2016]"
   ]
  },
  {
   "cell_type": "code",
   "execution_count": 15,
   "id": "2c1e4012",
   "metadata": {
    "execution": {
     "iopub.execute_input": "2025-08-19T18:20:29.469508Z",
     "iopub.status.busy": "2025-08-19T18:20:29.468416Z",
     "iopub.status.idle": "2025-08-19T18:20:29.475952Z",
     "shell.execute_reply": "2025-08-19T18:20:29.474352Z"
    },
    "papermill": {
     "duration": 0.024297,
     "end_time": "2025-08-19T18:20:29.477702",
     "exception": false,
     "start_time": "2025-08-19T18:20:29.453405",
     "status": "completed"
    },
    "tags": []
   },
   "outputs": [],
   "source": [
    "#siab_calib.shape"
   ]
  },
  {
   "cell_type": "code",
   "execution_count": 16,
   "id": "f66b54ca",
   "metadata": {
    "execution": {
     "iopub.execute_input": "2025-08-19T18:20:29.505503Z",
     "iopub.status.busy": "2025-08-19T18:20:29.504335Z",
     "iopub.status.idle": "2025-08-19T18:20:29.511926Z",
     "shell.execute_reply": "2025-08-19T18:20:29.510326Z"
    },
    "papermill": {
     "duration": 0.022691,
     "end_time": "2025-08-19T18:20:29.513526",
     "exception": false,
     "start_time": "2025-08-19T18:20:29.490835",
     "status": "completed"
    },
    "tags": []
   },
   "outputs": [],
   "source": [
    "#siab_test.shape"
   ]
  },
  {
   "cell_type": "code",
   "execution_count": 17,
   "id": "27e4384d",
   "metadata": {
    "execution": {
     "iopub.execute_input": "2025-08-19T18:20:29.540753Z",
     "iopub.status.busy": "2025-08-19T18:20:29.539627Z",
     "iopub.status.idle": "2025-08-19T18:20:29.557900Z",
     "shell.execute_reply": "2025-08-19T18:20:29.556696Z"
    },
    "papermill": {
     "duration": 0.032846,
     "end_time": "2025-08-19T18:20:29.559812",
     "exception": false,
     "start_time": "2025-08-19T18:20:29.526966",
     "status": "completed"
    },
    "tags": []
   },
   "outputs": [],
   "source": [
    "X_train = siab_train.iloc[:,4:164]\n",
    "y_train = siab_train.iloc[:, [3]]"
   ]
  },
  {
   "cell_type": "code",
   "execution_count": 18,
   "id": "08ee8389",
   "metadata": {
    "execution": {
     "iopub.execute_input": "2025-08-19T18:20:29.592752Z",
     "iopub.status.busy": "2025-08-19T18:20:29.591602Z",
     "iopub.status.idle": "2025-08-19T18:20:29.644969Z",
     "shell.execute_reply": "2025-08-19T18:20:29.644280Z"
    },
    "papermill": {
     "duration": 0.070112,
     "end_time": "2025-08-19T18:20:29.647751",
     "exception": false,
     "start_time": "2025-08-19T18:20:29.577639",
     "status": "completed"
    },
    "tags": []
   },
   "outputs": [],
   "source": [
    "X_calib = siab_calib.iloc[:,4:164]\n",
    "y_calib = siab_calib.iloc[:, [3]]"
   ]
  },
  {
   "cell_type": "code",
   "execution_count": 19,
   "id": "b7ff42e0",
   "metadata": {
    "execution": {
     "iopub.execute_input": "2025-08-19T18:20:29.687383Z",
     "iopub.status.busy": "2025-08-19T18:20:29.686234Z",
     "iopub.status.idle": "2025-08-19T18:20:29.743682Z",
     "shell.execute_reply": "2025-08-19T18:20:29.742987Z"
    },
    "papermill": {
     "duration": 0.075157,
     "end_time": "2025-08-19T18:20:29.746439",
     "exception": false,
     "start_time": "2025-08-19T18:20:29.671282",
     "status": "completed"
    },
    "tags": []
   },
   "outputs": [],
   "source": [
    "X_test = siab_test.iloc[:,4:164]\n",
    "y_true = siab_test.iloc[:, [3]]"
   ]
  },
  {
   "cell_type": "code",
   "execution_count": 20,
   "id": "0275101e",
   "metadata": {
    "execution": {
     "iopub.execute_input": "2025-08-19T18:20:29.787088Z",
     "iopub.status.busy": "2025-08-19T18:20:29.785954Z",
     "iopub.status.idle": "2025-08-19T18:20:29.917244Z",
     "shell.execute_reply": "2025-08-19T18:20:29.916563Z"
    },
    "papermill": {
     "duration": 0.149083,
     "end_time": "2025-08-19T18:20:29.920140",
     "exception": false,
     "start_time": "2025-08-19T18:20:29.771057",
     "status": "completed"
    },
    "tags": []
   },
   "outputs": [],
   "source": [
    "# Auxiliary data needed downstream in the pipeline\n",
    "\n",
    "org_train = X_train.copy()\n",
    "org_test = X_test.copy()\n",
    "org_calib = X_calib.copy()"
   ]
  },
  {
   "cell_type": "markdown",
   "id": "b461e618",
   "metadata": {
    "papermill": {
     "duration": 0.012644,
     "end_time": "2025-08-19T18:20:29.956786",
     "exception": false,
     "start_time": "2025-08-19T18:20:29.944142",
     "status": "completed"
    },
    "tags": []
   },
   "source": [
    "# Preprocessing Data"
   ]
  },
  {
   "cell_type": "code",
   "execution_count": 21,
   "id": "78e74c4b",
   "metadata": {
    "execution": {
     "iopub.execute_input": "2025-08-19T18:20:29.981826Z",
     "iopub.status.busy": "2025-08-19T18:20:29.980699Z",
     "iopub.status.idle": "2025-08-19T18:20:29.990038Z",
     "shell.execute_reply": "2025-08-19T18:20:29.988437Z"
    },
    "papermill": {
     "duration": 0.024022,
     "end_time": "2025-08-19T18:20:29.991724",
     "exception": false,
     "start_time": "2025-08-19T18:20:29.967702",
     "status": "completed"
    },
    "tags": []
   },
   "outputs": [],
   "source": [
    "# EXCLUDE PROTECTED FEATURES\n",
    "# --------------------------\n",
    "\n",
    "excluded_features = universe[\"exclude_features\"].split(\"-\")\n",
    "excluded_features_dictionary = {\n",
    "    \"nationality\": [\"maxdeutsch1\", \"maxdeutsch.Missing.\"],\n",
    "    \"sex\": [\"frau1\"],\n",
    "    \"age\": [\"age\"],\n",
    "}"
   ]
  },
  {
   "cell_type": "code",
   "execution_count": 22,
   "id": "f8e63555",
   "metadata": {
    "execution": {
     "iopub.execute_input": "2025-08-19T18:20:30.018906Z",
     "iopub.status.busy": "2025-08-19T18:20:30.017796Z",
     "iopub.status.idle": "2025-08-19T18:20:30.026452Z",
     "shell.execute_reply": "2025-08-19T18:20:30.024974Z"
    },
    "papermill": {
     "duration": 0.022781,
     "end_time": "2025-08-19T18:20:30.027902",
     "exception": false,
     "start_time": "2025-08-19T18:20:30.005121",
     "status": "completed"
    },
    "tags": []
   },
   "outputs": [],
   "source": [
    "excluded_features_columns = [\n",
    "    excluded_features_dictionary[f] for f in excluded_features if len(f) > 0 and f != \"none\"\n",
    "]"
   ]
  },
  {
   "cell_type": "code",
   "execution_count": 23,
   "id": "da781f7c",
   "metadata": {
    "execution": {
     "iopub.execute_input": "2025-08-19T18:20:30.092360Z",
     "iopub.status.busy": "2025-08-19T18:20:30.091630Z",
     "iopub.status.idle": "2025-08-19T18:20:30.100680Z",
     "shell.execute_reply": "2025-08-19T18:20:30.098996Z"
    },
    "papermill": {
     "duration": 0.061478,
     "end_time": "2025-08-19T18:20:30.102690",
     "exception": false,
     "start_time": "2025-08-19T18:20:30.041212",
     "status": "completed"
    },
    "tags": []
   },
   "outputs": [],
   "source": [
    "from fairness_multiverse.universe import flatten_once\n",
    "\n",
    "excluded_features_columns = flatten_once(excluded_features_columns)"
   ]
  },
  {
   "cell_type": "code",
   "execution_count": 24,
   "id": "37fef0f0",
   "metadata": {
    "execution": {
     "iopub.execute_input": "2025-08-19T18:20:30.131946Z",
     "iopub.status.busy": "2025-08-19T18:20:30.130817Z",
     "iopub.status.idle": "2025-08-19T18:20:30.151398Z",
     "shell.execute_reply": "2025-08-19T18:20:30.150302Z"
    },
    "papermill": {
     "duration": 0.036848,
     "end_time": "2025-08-19T18:20:30.154247",
     "exception": false,
     "start_time": "2025-08-19T18:20:30.117399",
     "status": "completed"
    },
    "tags": []
   },
   "outputs": [
    {
     "name": "stdout",
     "output_type": "stream",
     "text": [
      "Dropping features: ['age']\n"
     ]
    }
   ],
   "source": [
    "if len(excluded_features_columns) > 0:\n",
    "    print(f\"Dropping features: {excluded_features_columns}\")\n",
    "    X_train.drop(excluded_features_columns, axis=1, inplace=True)"
   ]
  },
  {
   "cell_type": "code",
   "execution_count": 25,
   "id": "d029e3e9",
   "metadata": {
    "execution": {
     "iopub.execute_input": "2025-08-19T18:20:30.209563Z",
     "iopub.status.busy": "2025-08-19T18:20:30.208419Z",
     "iopub.status.idle": "2025-08-19T18:20:30.270372Z",
     "shell.execute_reply": "2025-08-19T18:20:30.269618Z"
    },
    "papermill": {
     "duration": 0.102785,
     "end_time": "2025-08-19T18:20:30.273578",
     "exception": false,
     "start_time": "2025-08-19T18:20:30.170793",
     "status": "completed"
    },
    "tags": []
   },
   "outputs": [
    {
     "name": "stdout",
     "output_type": "stream",
     "text": [
      "Dropping features: ['age']\n"
     ]
    }
   ],
   "source": [
    "if len(excluded_features_columns) > 0:\n",
    "    print(f\"Dropping features: {excluded_features_columns}\")\n",
    "    X_test.drop(excluded_features_columns, axis=1, inplace=True)"
   ]
  },
  {
   "cell_type": "code",
   "execution_count": 26,
   "id": "01d571f0",
   "metadata": {
    "execution": {
     "iopub.execute_input": "2025-08-19T18:20:30.315001Z",
     "iopub.status.busy": "2025-08-19T18:20:30.313853Z",
     "iopub.status.idle": "2025-08-19T18:20:30.375627Z",
     "shell.execute_reply": "2025-08-19T18:20:30.374853Z"
    },
    "papermill": {
     "duration": 0.080355,
     "end_time": "2025-08-19T18:20:30.378526",
     "exception": false,
     "start_time": "2025-08-19T18:20:30.298171",
     "status": "completed"
    },
    "tags": []
   },
   "outputs": [
    {
     "name": "stdout",
     "output_type": "stream",
     "text": [
      "Dropping features: ['age']\n"
     ]
    }
   ],
   "source": [
    "if len(excluded_features_columns) > 0:\n",
    "    print(f\"Dropping features: {excluded_features_columns}\")\n",
    "    X_calib.drop(excluded_features_columns, axis=1, inplace=True)"
   ]
  },
  {
   "cell_type": "code",
   "execution_count": 27,
   "id": "3037356e",
   "metadata": {
    "execution": {
     "iopub.execute_input": "2025-08-19T18:20:30.419937Z",
     "iopub.status.busy": "2025-08-19T18:20:30.418767Z",
     "iopub.status.idle": "2025-08-19T18:20:30.669302Z",
     "shell.execute_reply": "2025-08-19T18:20:30.667532Z"
    },
    "papermill": {
     "duration": 0.26891,
     "end_time": "2025-08-19T18:20:30.672719",
     "exception": false,
     "start_time": "2025-08-19T18:20:30.403809",
     "status": "completed"
    },
    "tags": []
   },
   "outputs": [],
   "source": [
    "# EXCLUDE CERTAIN SUBGROUPS\n",
    "# -------------------------\n",
    "\n",
    "mode = universe.get(\"exclude_subgroups\", \"keep-all\") # Defaults to \"keep-all\" if the key is missing."
   ]
  },
  {
   "cell_type": "code",
   "execution_count": 28,
   "id": "9d1e63fd",
   "metadata": {
    "execution": {
     "iopub.execute_input": "2025-08-19T18:20:30.715899Z",
     "iopub.status.busy": "2025-08-19T18:20:30.714768Z",
     "iopub.status.idle": "2025-08-19T18:20:30.725900Z",
     "shell.execute_reply": "2025-08-19T18:20:30.724534Z"
    },
    "papermill": {
     "duration": 0.028005,
     "end_time": "2025-08-19T18:20:30.727410",
     "exception": false,
     "start_time": "2025-08-19T18:20:30.699405",
     "status": "completed"
    },
    "tags": []
   },
   "outputs": [],
   "source": [
    "if mode == \"keep-all\":\n",
    "    keep_mask = pd.Series(True, index=org_train.index)\n",
    "\n",
    "elif mode == \"drop-non-german\":\n",
    "    keep_mask = (org_train[\"maxdeutsch1\"] == 1) & (org_train[\"maxdeutsch.Missing.\"] == 0)\n",
    "\n",
    "else:\n",
    "    raise ValueError(f\"Unsupported mode for exclude_subgroups: {mode}\")"
   ]
  },
  {
   "cell_type": "code",
   "execution_count": 29,
   "id": "d3b65474",
   "metadata": {
    "execution": {
     "iopub.execute_input": "2025-08-19T18:20:30.756082Z",
     "iopub.status.busy": "2025-08-19T18:20:30.754931Z",
     "iopub.status.idle": "2025-08-19T18:20:30.766110Z",
     "shell.execute_reply": "2025-08-19T18:20:30.764748Z"
    },
    "papermill": {
     "duration": 0.025961,
     "end_time": "2025-08-19T18:20:30.767602",
     "exception": false,
     "start_time": "2025-08-19T18:20:30.741641",
     "status": "completed"
    },
    "tags": []
   },
   "outputs": [
    {
     "name": "stdout",
     "output_type": "stream",
     "text": [
      "Dropping 3312 rows (13.25%) where mode='drop-non-german'\n"
     ]
    }
   ],
   "source": [
    "n_drop = (~keep_mask).sum() # Calculates how many rows are set to be dropped\n",
    "if n_drop > 0:\n",
    "    pct = n_drop / len(keep_mask) * 100\n",
    "    print(f\"Dropping {n_drop} rows ({pct:.2f}%) where mode='{mode}'\")"
   ]
  },
  {
   "cell_type": "code",
   "execution_count": 30,
   "id": "f44389b3",
   "metadata": {
    "execution": {
     "iopub.execute_input": "2025-08-19T18:20:30.796421Z",
     "iopub.status.busy": "2025-08-19T18:20:30.795288Z",
     "iopub.status.idle": "2025-08-19T18:20:30.813776Z",
     "shell.execute_reply": "2025-08-19T18:20:30.812733Z"
    },
    "papermill": {
     "duration": 0.033536,
     "end_time": "2025-08-19T18:20:30.815407",
     "exception": false,
     "start_time": "2025-08-19T18:20:30.781871",
     "status": "completed"
    },
    "tags": []
   },
   "outputs": [],
   "source": [
    "X_train = X_train[keep_mask]"
   ]
  },
  {
   "cell_type": "code",
   "execution_count": 31,
   "id": "ceca8c2a",
   "metadata": {
    "execution": {
     "iopub.execute_input": "2025-08-19T18:20:30.850208Z",
     "iopub.status.busy": "2025-08-19T18:20:30.849106Z",
     "iopub.status.idle": "2025-08-19T18:20:30.858828Z",
     "shell.execute_reply": "2025-08-19T18:20:30.857255Z"
    },
    "papermill": {
     "duration": 0.026478,
     "end_time": "2025-08-19T18:20:30.860740",
     "exception": false,
     "start_time": "2025-08-19T18:20:30.834262",
     "status": "completed"
    },
    "tags": []
   },
   "outputs": [],
   "source": [
    "y_train = y_train[keep_mask]"
   ]
  },
  {
   "cell_type": "markdown",
   "id": "04d31e2f",
   "metadata": {
    "papermill": {
     "duration": 0.026327,
     "end_time": "2025-08-19T18:20:30.901407",
     "exception": false,
     "start_time": "2025-08-19T18:20:30.875080",
     "status": "completed"
    },
    "tags": []
   },
   "source": [
    "# Model Training"
   ]
  },
  {
   "cell_type": "code",
   "execution_count": 32,
   "id": "db991733",
   "metadata": {
    "execution": {
     "iopub.execute_input": "2025-08-19T18:20:30.929209Z",
     "iopub.status.busy": "2025-08-19T18:20:30.927975Z",
     "iopub.status.idle": "2025-08-19T18:20:31.035257Z",
     "shell.execute_reply": "2025-08-19T18:20:31.034553Z"
    },
    "papermill": {
     "duration": 0.124617,
     "end_time": "2025-08-19T18:20:31.038156",
     "exception": false,
     "start_time": "2025-08-19T18:20:30.913539",
     "status": "completed"
    },
    "tags": []
   },
   "outputs": [],
   "source": [
    "from sklearn.linear_model import LogisticRegression\n",
    "from sklearn.ensemble import GradientBoostingClassifier, RandomForestClassifier\n",
    "\n",
    "if (universe[\"model\"] == \"logreg\"):\n",
    "    model = LogisticRegression() #penalty=\"none\", solver=\"newton-cg\", max_iter=1)\n",
    "elif (universe[\"model\"] == \"penalized_logreg\"):\n",
    "    model = LogisticRegression(penalty=\"l2\", C=0.1) #, solver=\"newton-cg\", max_iter=1)\n",
    "elif (universe[\"model\"] == \"rf\"):\n",
    "    model = RandomForestClassifier() # n_estimators=100, n_jobs=-1\n",
    "elif (universe[\"model\"] == \"gbm\"):\n",
    "    model = GradientBoostingClassifier()\n",
    "elif (universe[\"model\"] == \"elasticnet\"):\n",
    "    model = LogisticRegression(penalty = 'elasticnet', solver = 'saga', l1_ratio = 0.5) # max_iter=5000\n",
    "else:\n",
    "    raise \"Unsupported universe.model\""
   ]
  },
  {
   "cell_type": "code",
   "execution_count": 33,
   "id": "a4b5cd25",
   "metadata": {
    "execution": {
     "iopub.execute_input": "2025-08-19T18:20:31.082593Z",
     "iopub.status.busy": "2025-08-19T18:20:31.081445Z",
     "iopub.status.idle": "2025-08-19T18:20:31.091436Z",
     "shell.execute_reply": "2025-08-19T18:20:31.089790Z"
    },
    "papermill": {
     "duration": 0.028208,
     "end_time": "2025-08-19T18:20:31.093377",
     "exception": false,
     "start_time": "2025-08-19T18:20:31.065169",
     "status": "completed"
    },
    "tags": []
   },
   "outputs": [],
   "source": [
    "from sklearn.pipeline import Pipeline\n",
    "from sklearn.preprocessing import StandardScaler\n",
    "\n",
    "model = Pipeline([\n",
    "    #(\"continuous_processor\", continuous_processor),\n",
    "    #(\"categorical_preprocessor\", categorical_preprocessor),\n",
    "    (\"scale\", StandardScaler() if universe[\"scale\"] == \"scale\" else None), \n",
    "    (\"model\", model),\n",
    "])"
   ]
  },
  {
   "cell_type": "code",
   "execution_count": 34,
   "id": "283a904d",
   "metadata": {
    "execution": {
     "iopub.execute_input": "2025-08-19T18:20:31.123303Z",
     "iopub.status.busy": "2025-08-19T18:20:31.122150Z",
     "iopub.status.idle": "2025-08-19T18:20:38.085237Z",
     "shell.execute_reply": "2025-08-19T18:20:38.084344Z"
    },
    "papermill": {
     "duration": 6.978655,
     "end_time": "2025-08-19T18:20:38.086562",
     "exception": false,
     "start_time": "2025-08-19T18:20:31.107907",
     "status": "completed"
    },
    "tags": []
   },
   "outputs": [
    {
     "data": {
      "text/html": [
       "<style>#sk-container-id-1 {color: black;background-color: white;}#sk-container-id-1 pre{padding: 0;}#sk-container-id-1 div.sk-toggleable {background-color: white;}#sk-container-id-1 label.sk-toggleable__label {cursor: pointer;display: block;width: 100%;margin-bottom: 0;padding: 0.3em;box-sizing: border-box;text-align: center;}#sk-container-id-1 label.sk-toggleable__label-arrow:before {content: \"▸\";float: left;margin-right: 0.25em;color: #696969;}#sk-container-id-1 label.sk-toggleable__label-arrow:hover:before {color: black;}#sk-container-id-1 div.sk-estimator:hover label.sk-toggleable__label-arrow:before {color: black;}#sk-container-id-1 div.sk-toggleable__content {max-height: 0;max-width: 0;overflow: hidden;text-align: left;background-color: #f0f8ff;}#sk-container-id-1 div.sk-toggleable__content pre {margin: 0.2em;color: black;border-radius: 0.25em;background-color: #f0f8ff;}#sk-container-id-1 input.sk-toggleable__control:checked~div.sk-toggleable__content {max-height: 200px;max-width: 100%;overflow: auto;}#sk-container-id-1 input.sk-toggleable__control:checked~label.sk-toggleable__label-arrow:before {content: \"▾\";}#sk-container-id-1 div.sk-estimator input.sk-toggleable__control:checked~label.sk-toggleable__label {background-color: #d4ebff;}#sk-container-id-1 div.sk-label input.sk-toggleable__control:checked~label.sk-toggleable__label {background-color: #d4ebff;}#sk-container-id-1 input.sk-hidden--visually {border: 0;clip: rect(1px 1px 1px 1px);clip: rect(1px, 1px, 1px, 1px);height: 1px;margin: -1px;overflow: hidden;padding: 0;position: absolute;width: 1px;}#sk-container-id-1 div.sk-estimator {font-family: monospace;background-color: #f0f8ff;border: 1px dotted black;border-radius: 0.25em;box-sizing: border-box;margin-bottom: 0.5em;}#sk-container-id-1 div.sk-estimator:hover {background-color: #d4ebff;}#sk-container-id-1 div.sk-parallel-item::after {content: \"\";width: 100%;border-bottom: 1px solid gray;flex-grow: 1;}#sk-container-id-1 div.sk-label:hover label.sk-toggleable__label {background-color: #d4ebff;}#sk-container-id-1 div.sk-serial::before {content: \"\";position: absolute;border-left: 1px solid gray;box-sizing: border-box;top: 0;bottom: 0;left: 50%;z-index: 0;}#sk-container-id-1 div.sk-serial {display: flex;flex-direction: column;align-items: center;background-color: white;padding-right: 0.2em;padding-left: 0.2em;position: relative;}#sk-container-id-1 div.sk-item {position: relative;z-index: 1;}#sk-container-id-1 div.sk-parallel {display: flex;align-items: stretch;justify-content: center;background-color: white;position: relative;}#sk-container-id-1 div.sk-item::before, #sk-container-id-1 div.sk-parallel-item::before {content: \"\";position: absolute;border-left: 1px solid gray;box-sizing: border-box;top: 0;bottom: 0;left: 50%;z-index: -1;}#sk-container-id-1 div.sk-parallel-item {display: flex;flex-direction: column;z-index: 1;position: relative;background-color: white;}#sk-container-id-1 div.sk-parallel-item:first-child::after {align-self: flex-end;width: 50%;}#sk-container-id-1 div.sk-parallel-item:last-child::after {align-self: flex-start;width: 50%;}#sk-container-id-1 div.sk-parallel-item:only-child::after {width: 0;}#sk-container-id-1 div.sk-dashed-wrapped {border: 1px dashed gray;margin: 0 0.4em 0.5em 0.4em;box-sizing: border-box;padding-bottom: 0.4em;background-color: white;}#sk-container-id-1 div.sk-label label {font-family: monospace;font-weight: bold;display: inline-block;line-height: 1.2em;}#sk-container-id-1 div.sk-label-container {text-align: center;}#sk-container-id-1 div.sk-container {/* jupyter's `normalize.less` sets `[hidden] { display: none; }` but bootstrap.min.css set `[hidden] { display: none !important; }` so we also need the `!important` here to be able to override the default hidden behavior on the sphinx rendered scikit-learn.org. See: https://github.com/scikit-learn/scikit-learn/issues/21755 */display: inline-block !important;position: relative;}#sk-container-id-1 div.sk-text-repr-fallback {display: none;}</style><div id=\"sk-container-id-1\" class=\"sk-top-container\"><div class=\"sk-text-repr-fallback\"><pre>Pipeline(steps=[(&#x27;scale&#x27;, None), (&#x27;model&#x27;, RandomForestClassifier())])</pre><b>In a Jupyter environment, please rerun this cell to show the HTML representation or trust the notebook. <br />On GitHub, the HTML representation is unable to render, please try loading this page with nbviewer.org.</b></div><div class=\"sk-container\" hidden><div class=\"sk-item sk-dashed-wrapped\"><div class=\"sk-label-container\"><div class=\"sk-label sk-toggleable\"><input class=\"sk-toggleable__control sk-hidden--visually\" id=\"sk-estimator-id-1\" type=\"checkbox\" ><label for=\"sk-estimator-id-1\" class=\"sk-toggleable__label sk-toggleable__label-arrow\">Pipeline</label><div class=\"sk-toggleable__content\"><pre>Pipeline(steps=[(&#x27;scale&#x27;, None), (&#x27;model&#x27;, RandomForestClassifier())])</pre></div></div></div><div class=\"sk-serial\"><div class=\"sk-item\"><div class=\"sk-estimator sk-toggleable\"><input class=\"sk-toggleable__control sk-hidden--visually\" id=\"sk-estimator-id-2\" type=\"checkbox\" ><label for=\"sk-estimator-id-2\" class=\"sk-toggleable__label sk-toggleable__label-arrow\">None</label><div class=\"sk-toggleable__content\"><pre>None</pre></div></div></div><div class=\"sk-item\"><div class=\"sk-estimator sk-toggleable\"><input class=\"sk-toggleable__control sk-hidden--visually\" id=\"sk-estimator-id-3\" type=\"checkbox\" ><label for=\"sk-estimator-id-3\" class=\"sk-toggleable__label sk-toggleable__label-arrow\">RandomForestClassifier</label><div class=\"sk-toggleable__content\"><pre>RandomForestClassifier()</pre></div></div></div></div></div></div></div>"
      ],
      "text/plain": [
       "Pipeline(steps=[('scale', None), ('model', RandomForestClassifier())])"
      ]
     },
     "execution_count": 34,
     "metadata": {},
     "output_type": "execute_result"
    }
   ],
   "source": [
    "model.fit(X_train, y_train.values.ravel())"
   ]
  },
  {
   "cell_type": "code",
   "execution_count": 35,
   "id": "6e15e313",
   "metadata": {
    "execution": {
     "iopub.execute_input": "2025-08-19T18:20:38.113933Z",
     "iopub.status.busy": "2025-08-19T18:20:38.113625Z",
     "iopub.status.idle": "2025-08-19T18:20:40.320749Z",
     "shell.execute_reply": "2025-08-19T18:20:40.320079Z"
    },
    "papermill": {
     "duration": 2.220767,
     "end_time": "2025-08-19T18:20:40.322036",
     "exception": false,
     "start_time": "2025-08-19T18:20:38.101269",
     "status": "completed"
    },
    "tags": []
   },
   "outputs": [
    {
     "data": {
      "text/plain": [
       "0.868186378330175"
      ]
     },
     "execution_count": 35,
     "metadata": {},
     "output_type": "execute_result"
    }
   ],
   "source": [
    "from fairness_multiverse.universe import predict_w_threshold\n",
    "\n",
    "probs_test = model.predict_proba(X_test)\n",
    "\n",
    "'''\n",
    "Below code returns a boolean array (or binary 0/1 array depending on how it’s used) where each element \n",
    "is True if the probability of class 1 is greater than or equal to the threshold, and False otherwise.\n",
    "'''\n",
    "y_pred_default = predict_w_threshold(probs_test, 0.5)\n",
    "\n",
    "from sklearn.metrics import accuracy_score\n",
    "\n",
    "# Naive prediction\n",
    "accuracy_score(y_true = y_true, y_pred = y_pred_default)"
   ]
  },
  {
   "cell_type": "code",
   "execution_count": 36,
   "id": "6f14067c",
   "metadata": {
    "execution": {
     "iopub.execute_input": "2025-08-19T18:20:40.347921Z",
     "iopub.status.busy": "2025-08-19T18:20:40.346923Z",
     "iopub.status.idle": "2025-08-19T18:20:42.583304Z",
     "shell.execute_reply": "2025-08-19T18:20:42.581312Z"
    },
    "papermill": {
     "duration": 2.251016,
     "end_time": "2025-08-19T18:20:42.585285",
     "exception": false,
     "start_time": "2025-08-19T18:20:40.334269",
     "status": "completed"
    },
    "tags": []
   },
   "outputs": [
    {
     "data": {
      "text/plain": [
       "array([0, 0, 0, ..., 0, 0, 0])"
      ]
     },
     "execution_count": 36,
     "metadata": {},
     "output_type": "execute_result"
    }
   ],
   "source": [
    "model.predict(X_test)"
   ]
  },
  {
   "cell_type": "markdown",
   "id": "3759920c",
   "metadata": {
    "papermill": {
     "duration": 0.011955,
     "end_time": "2025-08-19T18:20:42.614828",
     "exception": false,
     "start_time": "2025-08-19T18:20:42.602873",
     "status": "completed"
    },
    "tags": []
   },
   "source": [
    "# Conformal Prediction"
   ]
  },
  {
   "cell_type": "code",
   "execution_count": 37,
   "id": "14b27f59",
   "metadata": {
    "execution": {
     "iopub.execute_input": "2025-08-19T18:20:42.641124Z",
     "iopub.status.busy": "2025-08-19T18:20:42.639613Z",
     "iopub.status.idle": "2025-08-19T18:20:42.649241Z",
     "shell.execute_reply": "2025-08-19T18:20:42.647744Z"
    },
    "papermill": {
     "duration": 0.025137,
     "end_time": "2025-08-19T18:20:42.651196",
     "exception": false,
     "start_time": "2025-08-19T18:20:42.626059",
     "status": "completed"
    },
    "tags": []
   },
   "outputs": [],
   "source": [
    "# Miscoverage level for conformal prediction (10% allowed error rate => 90% target coverage)\n",
    "alpha = 0.1"
   ]
  },
  {
   "cell_type": "code",
   "execution_count": 38,
   "id": "59102472",
   "metadata": {
    "execution": {
     "iopub.execute_input": "2025-08-19T18:20:42.679330Z",
     "iopub.status.busy": "2025-08-19T18:20:42.678038Z",
     "iopub.status.idle": "2025-08-19T18:20:45.038583Z",
     "shell.execute_reply": "2025-08-19T18:20:45.037362Z"
    },
    "papermill": {
     "duration": 2.375543,
     "end_time": "2025-08-19T18:20:45.040494",
     "exception": false,
     "start_time": "2025-08-19T18:20:42.664951",
     "status": "completed"
    },
    "tags": []
   },
   "outputs": [],
   "source": [
    "probs_calib = model.predict_proba(X_calib)"
   ]
  },
  {
   "cell_type": "code",
   "execution_count": 39,
   "id": "a792d4dd",
   "metadata": {
    "execution": {
     "iopub.execute_input": "2025-08-19T18:20:45.075188Z",
     "iopub.status.busy": "2025-08-19T18:20:45.074566Z",
     "iopub.status.idle": "2025-08-19T18:20:45.083873Z",
     "shell.execute_reply": "2025-08-19T18:20:45.082985Z"
    },
    "papermill": {
     "duration": 0.03302,
     "end_time": "2025-08-19T18:20:45.085356",
     "exception": false,
     "start_time": "2025-08-19T18:20:45.052336",
     "status": "completed"
    },
    "tags": []
   },
   "outputs": [],
   "source": [
    "y_calib = y_calib.values.ravel().astype(int)"
   ]
  },
  {
   "cell_type": "code",
   "execution_count": 40,
   "id": "650fd033",
   "metadata": {
    "execution": {
     "iopub.execute_input": "2025-08-19T18:20:45.111408Z",
     "iopub.status.busy": "2025-08-19T18:20:45.110735Z",
     "iopub.status.idle": "2025-08-19T18:20:45.184461Z",
     "shell.execute_reply": "2025-08-19T18:20:45.182956Z"
    },
    "papermill": {
     "duration": 0.088805,
     "end_time": "2025-08-19T18:20:45.186513",
     "exception": false,
     "start_time": "2025-08-19T18:20:45.097708",
     "status": "completed"
    },
    "tags": []
   },
   "outputs": [],
   "source": [
    "from fairness_multiverse.conformal import compute_nc_scores\n",
    "\n",
    "# Compute nonconformity scores on calibration set (1 - probability of true class)\n",
    "nc_scores = compute_nc_scores(probs_calib, y_calib)"
   ]
  },
  {
   "cell_type": "code",
   "execution_count": 41,
   "id": "28ada44c",
   "metadata": {
    "execution": {
     "iopub.execute_input": "2025-08-19T18:20:45.236839Z",
     "iopub.status.busy": "2025-08-19T18:20:45.236075Z",
     "iopub.status.idle": "2025-08-19T18:20:45.248274Z",
     "shell.execute_reply": "2025-08-19T18:20:45.247178Z"
    },
    "papermill": {
     "duration": 0.040799,
     "end_time": "2025-08-19T18:20:45.250025",
     "exception": false,
     "start_time": "2025-08-19T18:20:45.209226",
     "status": "completed"
    },
    "tags": []
   },
   "outputs": [],
   "source": [
    "from fairness_multiverse.conformal import find_threshold\n",
    "\n",
    "# Find conformal threshold q_hat for the given alpha (split conformal method)\n",
    "q_hat = find_threshold(nc_scores, alpha)"
   ]
  },
  {
   "cell_type": "code",
   "execution_count": 42,
   "id": "df56469e",
   "metadata": {
    "execution": {
     "iopub.execute_input": "2025-08-19T18:20:45.283071Z",
     "iopub.status.busy": "2025-08-19T18:20:45.282769Z",
     "iopub.status.idle": "2025-08-19T18:20:45.288684Z",
     "shell.execute_reply": "2025-08-19T18:20:45.287889Z"
    },
    "papermill": {
     "duration": 0.021415,
     "end_time": "2025-08-19T18:20:45.290847",
     "exception": false,
     "start_time": "2025-08-19T18:20:45.269432",
     "status": "completed"
    },
    "tags": []
   },
   "outputs": [
    {
     "data": {
      "text/plain": [
       "0.6599999999999999"
      ]
     },
     "execution_count": 42,
     "metadata": {},
     "output_type": "execute_result"
    }
   ],
   "source": [
    "q_hat"
   ]
  },
  {
   "cell_type": "code",
   "execution_count": 43,
   "id": "aa1f5faa",
   "metadata": {
    "execution": {
     "iopub.execute_input": "2025-08-19T18:20:45.316041Z",
     "iopub.status.busy": "2025-08-19T18:20:45.315763Z",
     "iopub.status.idle": "2025-08-19T18:20:47.964955Z",
     "shell.execute_reply": "2025-08-19T18:20:47.962337Z"
    },
    "papermill": {
     "duration": 2.66485,
     "end_time": "2025-08-19T18:20:47.968139",
     "exception": false,
     "start_time": "2025-08-19T18:20:45.303289",
     "status": "completed"
    },
    "tags": []
   },
   "outputs": [],
   "source": [
    "from fairness_multiverse.conformal import predict_conformal_sets\n",
    "\n",
    "# Generate prediction sets for each test example\n",
    "pred_sets = predict_conformal_sets(model, X_test, q_hat)"
   ]
  },
  {
   "cell_type": "code",
   "execution_count": 44,
   "id": "97f67a6b",
   "metadata": {
    "execution": {
     "iopub.execute_input": "2025-08-19T18:20:48.009972Z",
     "iopub.status.busy": "2025-08-19T18:20:48.009308Z",
     "iopub.status.idle": "2025-08-19T18:20:48.019020Z",
     "shell.execute_reply": "2025-08-19T18:20:48.017903Z"
    },
    "papermill": {
     "duration": 0.025377,
     "end_time": "2025-08-19T18:20:48.020960",
     "exception": false,
     "start_time": "2025-08-19T18:20:47.995583",
     "status": "completed"
    },
    "tags": []
   },
   "outputs": [],
   "source": [
    "y_true = y_true.squeeze()"
   ]
  },
  {
   "cell_type": "code",
   "execution_count": 45,
   "id": "e700e9a7",
   "metadata": {
    "execution": {
     "iopub.execute_input": "2025-08-19T18:20:48.050307Z",
     "iopub.status.busy": "2025-08-19T18:20:48.049840Z",
     "iopub.status.idle": "2025-08-19T18:20:48.574171Z",
     "shell.execute_reply": "2025-08-19T18:20:48.572784Z"
    },
    "papermill": {
     "duration": 0.538706,
     "end_time": "2025-08-19T18:20:48.575885",
     "exception": false,
     "start_time": "2025-08-19T18:20:48.037179",
     "status": "completed"
    },
    "tags": []
   },
   "outputs": [],
   "source": [
    "from fairness_multiverse.conformal import evaluate_sets\n",
    "\n",
    "# Evaluate coverage and average set size on test data\n",
    "metrics = evaluate_sets(pred_sets, y_true)"
   ]
  },
  {
   "cell_type": "markdown",
   "id": "efbacec0",
   "metadata": {
    "papermill": {
     "duration": 0.02648,
     "end_time": "2025-08-19T18:20:48.615702",
     "exception": false,
     "start_time": "2025-08-19T18:20:48.589222",
     "status": "completed"
    },
    "tags": []
   },
   "source": [
    "# CP Metrics"
   ]
  },
  {
   "cell_type": "code",
   "execution_count": 46,
   "id": "9de55fb1",
   "metadata": {
    "execution": {
     "iopub.execute_input": "2025-08-19T18:20:48.644832Z",
     "iopub.status.busy": "2025-08-19T18:20:48.643297Z",
     "iopub.status.idle": "2025-08-19T18:20:48.660886Z",
     "shell.execute_reply": "2025-08-19T18:20:48.659585Z"
    },
    "papermill": {
     "duration": 0.032861,
     "end_time": "2025-08-19T18:20:48.662298",
     "exception": false,
     "start_time": "2025-08-19T18:20:48.629437",
     "status": "completed"
    },
    "tags": []
   },
   "outputs": [
    {
     "data": {
      "text/plain": [
       "{'coverage': 0.9157061643072121, 'avg_size': 1.1482777839705718}"
      ]
     },
     "execution_count": 46,
     "metadata": {},
     "output_type": "execute_result"
    }
   ],
   "source": [
    "metrics"
   ]
  },
  {
   "cell_type": "code",
   "execution_count": 47,
   "id": "64c340a1",
   "metadata": {
    "execution": {
     "iopub.execute_input": "2025-08-19T18:20:48.699049Z",
     "iopub.status.busy": "2025-08-19T18:20:48.697635Z",
     "iopub.status.idle": "2025-08-19T18:20:48.709886Z",
     "shell.execute_reply": "2025-08-19T18:20:48.708138Z"
    },
    "papermill": {
     "duration": 0.029337,
     "end_time": "2025-08-19T18:20:48.711464",
     "exception": false,
     "start_time": "2025-08-19T18:20:48.682127",
     "status": "completed"
    },
    "tags": []
   },
   "outputs": [],
   "source": [
    "example_universe = universe.copy()\n",
    "universe_training_year = example_universe.get(\"training_year\")\n",
    "universe_training_size = example_universe.get(\"training_size\")\n",
    "universe_scale = example_universe.get(\"scale\")\n",
    "universe_model = example_universe.get(\"model\")\n",
    "universe_exclude_features = example_universe.get(\"exclude_features\")\n",
    "universe_exclude_subgroups = example_universe.get(\"exclude_subgroups\")"
   ]
  },
  {
   "cell_type": "code",
   "execution_count": 48,
   "id": "dbb53cb4",
   "metadata": {
    "execution": {
     "iopub.execute_input": "2025-08-19T18:20:48.746292Z",
     "iopub.status.busy": "2025-08-19T18:20:48.744927Z",
     "iopub.status.idle": "2025-08-19T18:20:48.756262Z",
     "shell.execute_reply": "2025-08-19T18:20:48.754578Z"
    },
    "papermill": {
     "duration": 0.028221,
     "end_time": "2025-08-19T18:20:48.757811",
     "exception": false,
     "start_time": "2025-08-19T18:20:48.729590",
     "status": "completed"
    },
    "tags": []
   },
   "outputs": [],
   "source": [
    "cp_metrics_dict = {\n",
    "    \"universe_id\": [universe_id],\n",
    "    \"universe_training_year\": [universe_training_year],\n",
    "    \"universe_training_size\": [universe_training_size],\n",
    "    \"universe_scale\": [universe_scale],\n",
    "    \"universe_model\": [universe_model],\n",
    "    \"universe_exclude_features\": [universe_exclude_features],\n",
    "    \"universe_exclude_subgroups\": [universe_exclude_subgroups],\n",
    "    \"q_hat\": [q_hat],\n",
    "    \"coverage\": [metrics[\"coverage\"]],\n",
    "    \"avg_size\": [metrics[\"avg_size\"]],\n",
    "}"
   ]
  },
  {
   "cell_type": "code",
   "execution_count": 49,
   "id": "0d70d4b2",
   "metadata": {
    "execution": {
     "iopub.execute_input": "2025-08-19T18:20:48.789326Z",
     "iopub.status.busy": "2025-08-19T18:20:48.787914Z",
     "iopub.status.idle": "2025-08-19T18:20:48.801164Z",
     "shell.execute_reply": "2025-08-19T18:20:48.799426Z"
    },
    "papermill": {
     "duration": 0.029257,
     "end_time": "2025-08-19T18:20:48.802714",
     "exception": false,
     "start_time": "2025-08-19T18:20:48.773457",
     "status": "completed"
    },
    "tags": []
   },
   "outputs": [],
   "source": [
    "cp_metrics_df = pd.DataFrame(cp_metrics_dict)"
   ]
  },
  {
   "cell_type": "code",
   "execution_count": 50,
   "id": "b494403c",
   "metadata": {
    "execution": {
     "iopub.execute_input": "2025-08-19T18:20:48.839075Z",
     "iopub.status.busy": "2025-08-19T18:20:48.837893Z",
     "iopub.status.idle": "2025-08-19T18:20:48.862700Z",
     "shell.execute_reply": "2025-08-19T18:20:48.861932Z"
    },
    "papermill": {
     "duration": 0.046687,
     "end_time": "2025-08-19T18:20:48.869099",
     "exception": false,
     "start_time": "2025-08-19T18:20:48.822412",
     "status": "completed"
    },
    "tags": []
   },
   "outputs": [
    {
     "data": {
      "text/html": [
       "<div>\n",
       "<style scoped>\n",
       "    .dataframe tbody tr th:only-of-type {\n",
       "        vertical-align: middle;\n",
       "    }\n",
       "\n",
       "    .dataframe tbody tr th {\n",
       "        vertical-align: top;\n",
       "    }\n",
       "\n",
       "    .dataframe thead th {\n",
       "        text-align: right;\n",
       "    }\n",
       "</style>\n",
       "<table border=\"1\" class=\"dataframe\">\n",
       "  <thead>\n",
       "    <tr style=\"text-align: right;\">\n",
       "      <th></th>\n",
       "      <th>universe_id</th>\n",
       "      <th>universe_training_year</th>\n",
       "      <th>universe_training_size</th>\n",
       "      <th>universe_scale</th>\n",
       "      <th>universe_model</th>\n",
       "      <th>universe_exclude_features</th>\n",
       "      <th>universe_exclude_subgroups</th>\n",
       "      <th>q_hat</th>\n",
       "      <th>coverage</th>\n",
       "      <th>avg_size</th>\n",
       "    </tr>\n",
       "  </thead>\n",
       "  <tbody>\n",
       "    <tr>\n",
       "      <th>0</th>\n",
       "      <td>f164fd11c0552fd41c0cbe9e2aaf7cce</td>\n",
       "      <td>2010_14</td>\n",
       "      <td>25k</td>\n",
       "      <td>do-not-scale</td>\n",
       "      <td>rf</td>\n",
       "      <td>age</td>\n",
       "      <td>drop-non-german</td>\n",
       "      <td>0.66</td>\n",
       "      <td>0.915706</td>\n",
       "      <td>1.148278</td>\n",
       "    </tr>\n",
       "  </tbody>\n",
       "</table>\n",
       "</div>"
      ],
      "text/plain": [
       "                        universe_id universe_training_year  \\\n",
       "0  f164fd11c0552fd41c0cbe9e2aaf7cce                2010_14   \n",
       "\n",
       "  universe_training_size universe_scale universe_model  \\\n",
       "0                    25k   do-not-scale             rf   \n",
       "\n",
       "  universe_exclude_features universe_exclude_subgroups  q_hat  coverage  \\\n",
       "0                       age            drop-non-german   0.66  0.915706   \n",
       "\n",
       "   avg_size  \n",
       "0  1.148278  "
      ]
     },
     "execution_count": 50,
     "metadata": {},
     "output_type": "execute_result"
    }
   ],
   "source": [
    "cp_metrics_df"
   ]
  },
  {
   "cell_type": "markdown",
   "id": "ed608b0b",
   "metadata": {
    "papermill": {
     "duration": 0.020275,
     "end_time": "2025-08-19T18:20:48.904711",
     "exception": false,
     "start_time": "2025-08-19T18:20:48.884436",
     "status": "completed"
    },
    "tags": []
   },
   "source": [
    "Conditional coverage & looking at subgroups"
   ]
  },
  {
   "cell_type": "code",
   "execution_count": 51,
   "id": "8968c366",
   "metadata": {
    "execution": {
     "iopub.execute_input": "2025-08-19T18:20:48.932820Z",
     "iopub.status.busy": "2025-08-19T18:20:48.931812Z",
     "iopub.status.idle": "2025-08-19T18:20:49.219259Z",
     "shell.execute_reply": "2025-08-19T18:20:49.216997Z"
    },
    "papermill": {
     "duration": 0.305751,
     "end_time": "2025-08-19T18:20:49.223433",
     "exception": false,
     "start_time": "2025-08-19T18:20:48.917682",
     "status": "completed"
    },
    "tags": []
   },
   "outputs": [],
   "source": [
    "from fairness_multiverse.conformal import build_cp_groups\n",
    "\n",
    "cp_groups_df = build_cp_groups(pred_sets, y_true, X_test.index, org_test)"
   ]
  },
  {
   "cell_type": "code",
   "execution_count": 52,
   "id": "292ddabf",
   "metadata": {
    "execution": {
     "iopub.execute_input": "2025-08-19T18:20:49.265005Z",
     "iopub.status.busy": "2025-08-19T18:20:49.264034Z",
     "iopub.status.idle": "2025-08-19T18:20:50.149812Z",
     "shell.execute_reply": "2025-08-19T18:20:50.148704Z"
    },
    "papermill": {
     "duration": 0.904819,
     "end_time": "2025-08-19T18:20:50.152792",
     "exception": false,
     "start_time": "2025-08-19T18:20:49.247973",
     "status": "completed"
    },
    "tags": []
   },
   "outputs": [],
   "source": [
    "# Define covered = 1 if true_label is in the predicted set\n",
    "cp_groups_df['covered'] = cp_groups_df.apply(\n",
    "    lambda r: int(r['true_label'] in r['pred_set']),\n",
    "    axis=1\n",
    ")"
   ]
  },
  {
   "cell_type": "code",
   "execution_count": 53,
   "id": "3a261692",
   "metadata": {
    "execution": {
     "iopub.execute_input": "2025-08-19T18:20:50.195969Z",
     "iopub.status.busy": "2025-08-19T18:20:50.194774Z",
     "iopub.status.idle": "2025-08-19T18:20:50.219191Z",
     "shell.execute_reply": "2025-08-19T18:20:50.218354Z"
    },
    "papermill": {
     "duration": 0.052343,
     "end_time": "2025-08-19T18:20:50.231947",
     "exception": false,
     "start_time": "2025-08-19T18:20:50.179604",
     "status": "completed"
    },
    "tags": []
   },
   "outputs": [],
   "source": [
    "subgroups = ['frau1','nongerman','nongerman_male','nongerman_female']\n",
    "\n",
    "# Conditional coverage for subgroup==1\n",
    "cond_coverage = {\n",
    "    g: cp_groups_df.loc[cp_groups_df[g]==1, 'covered'].mean()\n",
    "    for g in subgroups\n",
    "}"
   ]
  },
  {
   "cell_type": "code",
   "execution_count": 54,
   "id": "894fd600",
   "metadata": {
    "execution": {
     "iopub.execute_input": "2025-08-19T18:20:50.263974Z",
     "iopub.status.busy": "2025-08-19T18:20:50.262524Z",
     "iopub.status.idle": "2025-08-19T18:20:50.275218Z",
     "shell.execute_reply": "2025-08-19T18:20:50.273690Z"
    },
    "papermill": {
     "duration": 0.031778,
     "end_time": "2025-08-19T18:20:50.276816",
     "exception": false,
     "start_time": "2025-08-19T18:20:50.245038",
     "status": "completed"
    },
    "tags": []
   },
   "outputs": [
    {
     "data": {
      "text/plain": [
       "{'frau1': 0.913519342229411,\n",
       " 'nongerman': 0.9116375680682648,\n",
       " 'nongerman_male': 0.9276772043591822,\n",
       " 'nongerman_female': 0.885096870342772}"
      ]
     },
     "execution_count": 54,
     "metadata": {},
     "output_type": "execute_result"
    }
   ],
   "source": [
    "cond_coverage"
   ]
  },
  {
   "cell_type": "code",
   "execution_count": 55,
   "id": "942895c7",
   "metadata": {
    "execution": {
     "iopub.execute_input": "2025-08-19T18:20:50.310540Z",
     "iopub.status.busy": "2025-08-19T18:20:50.309454Z",
     "iopub.status.idle": "2025-08-19T18:20:50.323341Z",
     "shell.execute_reply": "2025-08-19T18:20:50.321636Z"
    },
    "papermill": {
     "duration": 0.029496,
     "end_time": "2025-08-19T18:20:50.325153",
     "exception": false,
     "start_time": "2025-08-19T18:20:50.295657",
     "status": "completed"
    },
    "tags": []
   },
   "outputs": [],
   "source": [
    "for subgroup, cov in cond_coverage.items():\n",
    "    cp_metrics_df[f\"cov_{subgroup}\"] = cov"
   ]
  },
  {
   "cell_type": "code",
   "execution_count": 56,
   "id": "3970120f",
   "metadata": {
    "execution": {
     "iopub.execute_input": "2025-08-19T18:20:50.356617Z",
     "iopub.status.busy": "2025-08-19T18:20:50.355075Z",
     "iopub.status.idle": "2025-08-19T18:20:50.381798Z",
     "shell.execute_reply": "2025-08-19T18:20:50.380934Z"
    },
    "papermill": {
     "duration": 0.042447,
     "end_time": "2025-08-19T18:20:50.383391",
     "exception": false,
     "start_time": "2025-08-19T18:20:50.340944",
     "status": "completed"
    },
    "tags": []
   },
   "outputs": [
    {
     "data": {
      "text/html": [
       "<div>\n",
       "<style scoped>\n",
       "    .dataframe tbody tr th:only-of-type {\n",
       "        vertical-align: middle;\n",
       "    }\n",
       "\n",
       "    .dataframe tbody tr th {\n",
       "        vertical-align: top;\n",
       "    }\n",
       "\n",
       "    .dataframe thead th {\n",
       "        text-align: right;\n",
       "    }\n",
       "</style>\n",
       "<table border=\"1\" class=\"dataframe\">\n",
       "  <thead>\n",
       "    <tr style=\"text-align: right;\">\n",
       "      <th></th>\n",
       "      <th>universe_id</th>\n",
       "      <th>universe_training_year</th>\n",
       "      <th>universe_training_size</th>\n",
       "      <th>universe_scale</th>\n",
       "      <th>universe_model</th>\n",
       "      <th>universe_exclude_features</th>\n",
       "      <th>universe_exclude_subgroups</th>\n",
       "      <th>q_hat</th>\n",
       "      <th>coverage</th>\n",
       "      <th>avg_size</th>\n",
       "      <th>cov_frau1</th>\n",
       "      <th>cov_nongerman</th>\n",
       "      <th>cov_nongerman_male</th>\n",
       "      <th>cov_nongerman_female</th>\n",
       "    </tr>\n",
       "  </thead>\n",
       "  <tbody>\n",
       "    <tr>\n",
       "      <th>0</th>\n",
       "      <td>f164fd11c0552fd41c0cbe9e2aaf7cce</td>\n",
       "      <td>2010_14</td>\n",
       "      <td>25k</td>\n",
       "      <td>do-not-scale</td>\n",
       "      <td>rf</td>\n",
       "      <td>age</td>\n",
       "      <td>drop-non-german</td>\n",
       "      <td>0.66</td>\n",
       "      <td>0.915706</td>\n",
       "      <td>1.148278</td>\n",
       "      <td>0.913519</td>\n",
       "      <td>0.911638</td>\n",
       "      <td>0.927677</td>\n",
       "      <td>0.885097</td>\n",
       "    </tr>\n",
       "  </tbody>\n",
       "</table>\n",
       "</div>"
      ],
      "text/plain": [
       "                        universe_id universe_training_year  \\\n",
       "0  f164fd11c0552fd41c0cbe9e2aaf7cce                2010_14   \n",
       "\n",
       "  universe_training_size universe_scale universe_model  \\\n",
       "0                    25k   do-not-scale             rf   \n",
       "\n",
       "  universe_exclude_features universe_exclude_subgroups  q_hat  coverage  \\\n",
       "0                       age            drop-non-german   0.66  0.915706   \n",
       "\n",
       "   avg_size  cov_frau1  cov_nongerman  cov_nongerman_male  \\\n",
       "0  1.148278   0.913519       0.911638            0.927677   \n",
       "\n",
       "   cov_nongerman_female  \n",
       "0              0.885097  "
      ]
     },
     "execution_count": 56,
     "metadata": {},
     "output_type": "execute_result"
    }
   ],
   "source": [
    "cp_metrics_df"
   ]
  },
  {
   "cell_type": "markdown",
   "id": "3fc519cc",
   "metadata": {
    "papermill": {
     "duration": 0.013558,
     "end_time": "2025-08-19T18:20:50.420596",
     "exception": false,
     "start_time": "2025-08-19T18:20:50.407038",
     "status": "completed"
    },
    "tags": []
   },
   "source": [
    "# (Fairness) Metrics"
   ]
  },
  {
   "cell_type": "code",
   "execution_count": 57,
   "id": "a2e5e155",
   "metadata": {
    "execution": {
     "iopub.execute_input": "2025-08-19T18:20:50.449131Z",
     "iopub.status.busy": "2025-08-19T18:20:50.447797Z",
     "iopub.status.idle": "2025-08-19T18:20:50.474518Z",
     "shell.execute_reply": "2025-08-19T18:20:50.473618Z"
    },
    "papermill": {
     "duration": 0.042489,
     "end_time": "2025-08-19T18:20:50.476451",
     "exception": false,
     "start_time": "2025-08-19T18:20:50.433962",
     "status": "completed"
    },
    "tags": []
   },
   "outputs": [],
   "source": [
    "colname_to_bin = \"maxdeutsch1\"\n",
    "majority_value = org_train[colname_to_bin].mode()[0]\n",
    "\n",
    "org_test[\"majmin\"] = np.where(org_test[colname_to_bin] == majority_value, \"majority\", \"minority\")"
   ]
  },
  {
   "cell_type": "code",
   "execution_count": 58,
   "id": "17e3e4d5",
   "metadata": {
    "execution": {
     "iopub.execute_input": "2025-08-19T18:20:50.515760Z",
     "iopub.status.busy": "2025-08-19T18:20:50.514263Z",
     "iopub.status.idle": "2025-08-19T18:20:52.290137Z",
     "shell.execute_reply": "2025-08-19T18:20:52.288851Z"
    },
    "papermill": {
     "duration": 1.794078,
     "end_time": "2025-08-19T18:20:52.293193",
     "exception": false,
     "start_time": "2025-08-19T18:20:50.499115",
     "status": "completed"
    },
    "tags": []
   },
   "outputs": [],
   "source": [
    "example_universe = universe.copy()\n",
    "example_universe[\"cutoff\"] = example_universe[\"cutoff\"][0]\n",
    "example_universe[\"eval_fairness_grouping\"] = example_universe[\"eval_fairness_grouping\"][0]\n",
    "fairness_dict, metric_frame = universe_analysis.compute_metrics(\n",
    "    example_universe,\n",
    "    y_pred_prob=probs_test,\n",
    "    y_test=y_true,\n",
    "    org_test=org_test,\n",
    ")"
   ]
  },
  {
   "cell_type": "markdown",
   "id": "1fb7a0e9",
   "metadata": {
    "papermill": {
     "duration": 0.01368,
     "end_time": "2025-08-19T18:20:52.335026",
     "exception": false,
     "start_time": "2025-08-19T18:20:52.321346",
     "status": "completed"
    },
    "tags": []
   },
   "source": [
    "# Overall"
   ]
  },
  {
   "cell_type": "markdown",
   "id": "be1784b1",
   "metadata": {
    "papermill": {
     "duration": 0.012117,
     "end_time": "2025-08-19T18:20:52.359486",
     "exception": false,
     "start_time": "2025-08-19T18:20:52.347369",
     "status": "completed"
    },
    "tags": []
   },
   "source": [
    "Main fairness target: Equalized Odds. Seems to be a better fit than equal opportunity, since we're not only interested in Y = 1. Seems to be a better fit than demographic parity, since we also care about accuracy, not just equal distribution of preds.\n",
    "\n",
    "Pick column for computation of fairness metrics\n",
    "\n",
    "Performance\n",
    "Overall performance measures, most interesting in relation to the measures split by group below"
   ]
  },
  {
   "cell_type": "code",
   "execution_count": 59,
   "id": "b7672bee",
   "metadata": {
    "execution": {
     "iopub.execute_input": "2025-08-19T18:20:52.387903Z",
     "iopub.status.busy": "2025-08-19T18:20:52.386425Z",
     "iopub.status.idle": "2025-08-19T18:20:52.401415Z",
     "shell.execute_reply": "2025-08-19T18:20:52.400502Z"
    },
    "papermill": {
     "duration": 0.031255,
     "end_time": "2025-08-19T18:20:52.402827",
     "exception": false,
     "start_time": "2025-08-19T18:20:52.371572",
     "status": "completed"
    },
    "tags": []
   },
   "outputs": [
    {
     "data": {
      "text/plain": [
       "accuracy                   0.193379\n",
       "balanced accuracy          0.527853\n",
       "f1                         0.237219\n",
       "precision                  0.134984\n",
       "false positive rate        0.922048\n",
       "false negative rate        0.022245\n",
       "selection rate             0.929194\n",
       "count                  89710.000000\n",
       "dtype: float64"
      ]
     },
     "execution_count": 59,
     "metadata": {},
     "output_type": "execute_result"
    }
   ],
   "source": [
    "metric_frame.overall"
   ]
  },
  {
   "cell_type": "markdown",
   "id": "d93333c9",
   "metadata": {
    "papermill": {
     "duration": 0.014177,
     "end_time": "2025-08-19T18:20:52.436350",
     "exception": false,
     "start_time": "2025-08-19T18:20:52.422173",
     "status": "completed"
    },
    "tags": []
   },
   "source": [
    "By Group"
   ]
  },
  {
   "cell_type": "code",
   "execution_count": 60,
   "id": "52256966",
   "metadata": {
    "execution": {
     "iopub.execute_input": "2025-08-19T18:20:52.463794Z",
     "iopub.status.busy": "2025-08-19T18:20:52.462596Z",
     "iopub.status.idle": "2025-08-19T18:20:52.486071Z",
     "shell.execute_reply": "2025-08-19T18:20:52.485087Z"
    },
    "papermill": {
     "duration": 0.039051,
     "end_time": "2025-08-19T18:20:52.487781",
     "exception": false,
     "start_time": "2025-08-19T18:20:52.448730",
     "status": "completed"
    },
    "tags": []
   },
   "outputs": [
    {
     "data": {
      "text/html": [
       "<div>\n",
       "<style scoped>\n",
       "    .dataframe tbody tr th:only-of-type {\n",
       "        vertical-align: middle;\n",
       "    }\n",
       "\n",
       "    .dataframe tbody tr th {\n",
       "        vertical-align: top;\n",
       "    }\n",
       "\n",
       "    .dataframe thead th {\n",
       "        text-align: right;\n",
       "    }\n",
       "</style>\n",
       "<table border=\"1\" class=\"dataframe\">\n",
       "  <thead>\n",
       "    <tr style=\"text-align: right;\">\n",
       "      <th></th>\n",
       "      <th>accuracy</th>\n",
       "      <th>balanced accuracy</th>\n",
       "      <th>f1</th>\n",
       "      <th>precision</th>\n",
       "      <th>false positive rate</th>\n",
       "      <th>false negative rate</th>\n",
       "      <th>selection rate</th>\n",
       "      <th>count</th>\n",
       "    </tr>\n",
       "    <tr>\n",
       "      <th>majmin</th>\n",
       "      <th></th>\n",
       "      <th></th>\n",
       "      <th></th>\n",
       "      <th></th>\n",
       "      <th></th>\n",
       "      <th></th>\n",
       "      <th></th>\n",
       "      <th></th>\n",
       "    </tr>\n",
       "  </thead>\n",
       "  <tbody>\n",
       "    <tr>\n",
       "      <th>majority</th>\n",
       "      <td>0.184184</td>\n",
       "      <td>0.526229</td>\n",
       "      <td>0.243038</td>\n",
       "      <td>0.138500</td>\n",
       "      <td>0.938681</td>\n",
       "      <td>0.008862</td>\n",
       "      <td>0.945612</td>\n",
       "      <td>69170.0</td>\n",
       "    </tr>\n",
       "    <tr>\n",
       "      <th>minority</th>\n",
       "      <td>0.224343</td>\n",
       "      <td>0.529497</td>\n",
       "      <td>0.215868</td>\n",
       "      <td>0.122173</td>\n",
       "      <td>0.867103</td>\n",
       "      <td>0.073902</td>\n",
       "      <td>0.873905</td>\n",
       "      <td>20540.0</td>\n",
       "    </tr>\n",
       "  </tbody>\n",
       "</table>\n",
       "</div>"
      ],
      "text/plain": [
       "          accuracy  balanced accuracy        f1  precision  \\\n",
       "majmin                                                       \n",
       "majority  0.184184           0.526229  0.243038   0.138500   \n",
       "minority  0.224343           0.529497  0.215868   0.122173   \n",
       "\n",
       "          false positive rate  false negative rate  selection rate    count  \n",
       "majmin                                                                       \n",
       "majority             0.938681             0.008862        0.945612  69170.0  \n",
       "minority             0.867103             0.073902        0.873905  20540.0  "
      ]
     },
     "execution_count": 60,
     "metadata": {},
     "output_type": "execute_result"
    }
   ],
   "source": [
    "metric_frame.by_group"
   ]
  },
  {
   "cell_type": "code",
   "execution_count": 61,
   "id": "6e6c20ae",
   "metadata": {
    "execution": {
     "iopub.execute_input": "2025-08-19T18:20:52.523170Z",
     "iopub.status.busy": "2025-08-19T18:20:52.521968Z",
     "iopub.status.idle": "2025-08-19T18:20:54.329847Z",
     "shell.execute_reply": "2025-08-19T18:20:54.328836Z"
    },
    "papermill": {
     "duration": 1.824933,
     "end_time": "2025-08-19T18:20:54.332425",
     "exception": false,
     "start_time": "2025-08-19T18:20:52.507492",
     "status": "completed"
    },
    "tags": []
   },
   "outputs": [
    {
     "data": {
      "text/plain": [
       "array([[<Axes: title={'center': 'accuracy'}, xlabel='majmin'>,\n",
       "        <Axes: title={'center': 'balanced accuracy'}, xlabel='majmin'>,\n",
       "        <Axes: title={'center': 'f1'}, xlabel='majmin'>],\n",
       "       [<Axes: title={'center': 'precision'}, xlabel='majmin'>,\n",
       "        <Axes: title={'center': 'false positive rate'}, xlabel='majmin'>,\n",
       "        <Axes: title={'center': 'false negative rate'}, xlabel='majmin'>],\n",
       "       [<Axes: title={'center': 'selection rate'}, xlabel='majmin'>,\n",
       "        <Axes: title={'center': 'count'}, xlabel='majmin'>,\n",
       "        <Axes: xlabel='majmin'>]], dtype=object)"
      ]
     },
     "execution_count": 61,
     "metadata": {},
     "output_type": "execute_result"
    },
    {
     "data": {
      "image/png": "[encoded data removed]",
      "text/plain": [
       "<Figure size 1200x800 with 9 Axes>"
      ]
     },
     "metadata": {},
     "output_type": "display_data"
    }
   ],
   "source": [
    "# In a graphic\n",
    "metric_frame.by_group.plot.bar(\n",
    "    subplots=True,\n",
    "    layout=[3, 3],\n",
    "    legend=False,\n",
    "    figsize=[12, 8],\n",
    "    title=\"Show all metrics\",\n",
    ")"
   ]
  },
  {
   "cell_type": "markdown",
   "id": "b2e433ae",
   "metadata": {
    "papermill": {
     "duration": 0.01433,
     "end_time": "2025-08-19T18:20:54.374315",
     "exception": false,
     "start_time": "2025-08-19T18:20:54.359985",
     "status": "completed"
    },
    "tags": []
   },
   "source": [
    "# Final Output"
   ]
  },
  {
   "cell_type": "code",
   "execution_count": 62,
   "id": "3871301e",
   "metadata": {
    "execution": {
     "iopub.execute_input": "2025-08-19T18:20:54.406101Z",
     "iopub.status.busy": "2025-08-19T18:20:54.403892Z",
     "iopub.status.idle": "2025-08-19T18:20:54.422652Z",
     "shell.execute_reply": "2025-08-19T18:20:54.421698Z"
    },
    "papermill": {
     "duration": 0.036718,
     "end_time": "2025-08-19T18:20:54.424637",
     "exception": false,
     "start_time": "2025-08-19T18:20:54.387919",
     "status": "completed"
    },
    "tags": []
   },
   "outputs": [
    {
     "data": {
      "text/plain": [
       "4"
      ]
     },
     "execution_count": 62,
     "metadata": {},
     "output_type": "execute_result"
    }
   ],
   "source": [
    "sub_universes = universe_analysis.generate_sub_universes()\n",
    "len(sub_universes)"
   ]
  },
  {
   "cell_type": "code",
   "execution_count": 63,
   "id": "d9cfdaca",
   "metadata": {
    "execution": {
     "iopub.execute_input": "2025-08-19T18:20:54.462660Z",
     "iopub.status.busy": "2025-08-19T18:20:54.461469Z",
     "iopub.status.idle": "2025-08-19T18:20:54.473672Z",
     "shell.execute_reply": "2025-08-19T18:20:54.472355Z"
    },
    "papermill": {
     "duration": 0.02898,
     "end_time": "2025-08-19T18:20:54.474906",
     "exception": false,
     "start_time": "2025-08-19T18:20:54.445926",
     "status": "completed"
    },
    "tags": []
   },
   "outputs": [],
   "source": [
    "def filter_sub_universe_data(sub_universe, org_test):\n",
    "    # Keep all rows — no filtering\n",
    "    keep_rows_mask = np.ones(org_test.shape[0], dtype=bool)\n",
    "\n",
    "    print(f\"[INFO] Keeping all rows: {keep_rows_mask.sum()} rows retained.\")\n",
    "    return keep_rows_mask"
   ]
  },
  {
   "cell_type": "code",
   "execution_count": 64,
   "id": "2bc31ac1",
   "metadata": {
    "execution": {
     "iopub.execute_input": "2025-08-19T18:20:54.507885Z",
     "iopub.status.busy": "2025-08-19T18:20:54.506944Z",
     "iopub.status.idle": "2025-08-19T18:21:01.093698Z",
     "shell.execute_reply": "2025-08-19T18:21:01.092705Z"
    },
    "papermill": {
     "duration": 6.603304,
     "end_time": "2025-08-19T18:21:01.094965",
     "exception": false,
     "start_time": "2025-08-19T18:20:54.491661",
     "status": "completed"
    },
    "tags": []
   },
   "outputs": [
    {
     "name": "stdout",
     "output_type": "stream",
     "text": [
      "Stopping execution_time clock.\n",
      "[INFO] Keeping all rows: 89710 rows retained.\n"
     ]
    },
    {
     "name": "stdout",
     "output_type": "stream",
     "text": [
      "[INFO] Keeping all rows: 89710 rows retained.\n"
     ]
    },
    {
     "name": "stdout",
     "output_type": "stream",
     "text": [
      "[INFO] Keeping all rows: 89710 rows retained.\n"
     ]
    },
    {
     "name": "stdout",
     "output_type": "stream",
     "text": [
      "[INFO] Keeping all rows: 89710 rows retained.\n"
     ]
    },
    {
     "data": {
      "text/html": [
       "<div>\n",
       "<style scoped>\n",
       "    .dataframe tbody tr th:only-of-type {\n",
       "        vertical-align: middle;\n",
       "    }\n",
       "\n",
       "    .dataframe tbody tr th {\n",
       "        vertical-align: top;\n",
       "    }\n",
       "\n",
       "    .dataframe thead th {\n",
       "        text-align: right;\n",
       "    }\n",
       "</style>\n",
       "<table border=\"1\" class=\"dataframe\">\n",
       "  <thead>\n",
       "    <tr style=\"text-align: right;\">\n",
       "      <th></th>\n",
       "      <th>run_no</th>\n",
       "      <th>universe_id</th>\n",
       "      <th>universe_settings</th>\n",
       "      <th>execution_time</th>\n",
       "      <th>test_size_n</th>\n",
       "      <th>test_size_frac</th>\n",
       "      <th>fair_main_equalized_odds_difference</th>\n",
       "      <th>fair_main_equalized_odds_ratio</th>\n",
       "      <th>fair_main_demographic_parity_difference</th>\n",
       "      <th>fair_main_demographic_parity_ratio</th>\n",
       "      <th>...</th>\n",
       "      <th>perf_grp_precision_0</th>\n",
       "      <th>perf_grp_precision_1</th>\n",
       "      <th>perf_grp_false positive rate_0</th>\n",
       "      <th>perf_grp_false positive rate_1</th>\n",
       "      <th>perf_grp_false negative rate_0</th>\n",
       "      <th>perf_grp_false negative rate_1</th>\n",
       "      <th>perf_grp_selection rate_0</th>\n",
       "      <th>perf_grp_selection rate_1</th>\n",
       "      <th>perf_grp_count_0</th>\n",
       "      <th>perf_grp_count_1</th>\n",
       "    </tr>\n",
       "  </thead>\n",
       "  <tbody>\n",
       "    <tr>\n",
       "      <th>0</th>\n",
       "      <td>3</td>\n",
       "      <td>f164fd11c0552fd41c0cbe9e2aaf7cce</td>\n",
       "      <td>{\"cutoff\": \"quantile_0.1\", \"eval_fairness_grou...</td>\n",
       "      <td>37.159859</td>\n",
       "      <td>89710</td>\n",
       "      <td>1.0</td>\n",
       "      <td>0.071577</td>\n",
       "      <td>0.923747</td>\n",
       "      <td>0.071708</td>\n",
       "      <td>0.924168</td>\n",
       "      <td>...</td>\n",
       "      <td>NaN</td>\n",
       "      <td>NaN</td>\n",
       "      <td>NaN</td>\n",
       "      <td>NaN</td>\n",
       "      <td>NaN</td>\n",
       "      <td>NaN</td>\n",
       "      <td>NaN</td>\n",
       "      <td>NaN</td>\n",
       "      <td>NaN</td>\n",
       "      <td>NaN</td>\n",
       "    </tr>\n",
       "    <tr>\n",
       "      <th>0</th>\n",
       "      <td>3</td>\n",
       "      <td>f164fd11c0552fd41c0cbe9e2aaf7cce</td>\n",
       "      <td>{\"cutoff\": \"quantile_0.1\", \"eval_fairness_grou...</td>\n",
       "      <td>37.159859</td>\n",
       "      <td>89710</td>\n",
       "      <td>1.0</td>\n",
       "      <td>0.071577</td>\n",
       "      <td>0.923747</td>\n",
       "      <td>0.071708</td>\n",
       "      <td>0.924168</td>\n",
       "      <td>...</td>\n",
       "      <td>0.122173</td>\n",
       "      <td>0.13850</td>\n",
       "      <td>0.867103</td>\n",
       "      <td>0.938681</td>\n",
       "      <td>0.073902</td>\n",
       "      <td>0.008862</td>\n",
       "      <td>0.873905</td>\n",
       "      <td>0.945612</td>\n",
       "      <td>20540.0</td>\n",
       "      <td>69170.0</td>\n",
       "    </tr>\n",
       "    <tr>\n",
       "      <th>0</th>\n",
       "      <td>3</td>\n",
       "      <td>f164fd11c0552fd41c0cbe9e2aaf7cce</td>\n",
       "      <td>{\"cutoff\": \"quantile_0.25\", \"eval_fairness_gro...</td>\n",
       "      <td>37.159859</td>\n",
       "      <td>89710</td>\n",
       "      <td>1.0</td>\n",
       "      <td>0.100393</td>\n",
       "      <td>0.895491</td>\n",
       "      <td>0.074842</td>\n",
       "      <td>0.906529</td>\n",
       "      <td>...</td>\n",
       "      <td>NaN</td>\n",
       "      <td>NaN</td>\n",
       "      <td>NaN</td>\n",
       "      <td>NaN</td>\n",
       "      <td>NaN</td>\n",
       "      <td>NaN</td>\n",
       "      <td>NaN</td>\n",
       "      <td>NaN</td>\n",
       "      <td>NaN</td>\n",
       "      <td>NaN</td>\n",
       "    </tr>\n",
       "    <tr>\n",
       "      <th>0</th>\n",
       "      <td>3</td>\n",
       "      <td>f164fd11c0552fd41c0cbe9e2aaf7cce</td>\n",
       "      <td>{\"cutoff\": \"quantile_0.25\", \"eval_fairness_gro...</td>\n",
       "      <td>37.159859</td>\n",
       "      <td>89710</td>\n",
       "      <td>1.0</td>\n",
       "      <td>0.100393</td>\n",
       "      <td>0.895491</td>\n",
       "      <td>0.074842</td>\n",
       "      <td>0.906529</td>\n",
       "      <td>...</td>\n",
       "      <td>0.136629</td>\n",
       "      <td>0.15853</td>\n",
       "      <td>0.708343</td>\n",
       "      <td>0.776345</td>\n",
       "      <td>0.139780</td>\n",
       "      <td>0.039387</td>\n",
       "      <td>0.725852</td>\n",
       "      <td>0.800694</td>\n",
       "      <td>20540.0</td>\n",
       "      <td>69170.0</td>\n",
       "    </tr>\n",
       "  </tbody>\n",
       "</table>\n",
       "<p>4 rows × 50 columns</p>\n",
       "</div>"
      ],
      "text/plain": [
       "  run_no                       universe_id  \\\n",
       "0      3  f164fd11c0552fd41c0cbe9e2aaf7cce   \n",
       "0      3  f164fd11c0552fd41c0cbe9e2aaf7cce   \n",
       "0      3  f164fd11c0552fd41c0cbe9e2aaf7cce   \n",
       "0      3  f164fd11c0552fd41c0cbe9e2aaf7cce   \n",
       "\n",
       "                                   universe_settings  execution_time  \\\n",
       "0  {\"cutoff\": \"quantile_0.1\", \"eval_fairness_grou...       37.159859   \n",
       "0  {\"cutoff\": \"quantile_0.1\", \"eval_fairness_grou...       37.159859   \n",
       "0  {\"cutoff\": \"quantile_0.25\", \"eval_fairness_gro...       37.159859   \n",
       "0  {\"cutoff\": \"quantile_0.25\", \"eval_fairness_gro...       37.159859   \n",
       "\n",
       "   test_size_n  test_size_frac  fair_main_equalized_odds_difference  \\\n",
       "0        89710             1.0                             0.071577   \n",
       "0        89710             1.0                             0.071577   \n",
       "0        89710             1.0                             0.100393   \n",
       "0        89710             1.0                             0.100393   \n",
       "\n",
       "   fair_main_equalized_odds_ratio  fair_main_demographic_parity_difference  \\\n",
       "0                        0.923747                                 0.071708   \n",
       "0                        0.923747                                 0.071708   \n",
       "0                        0.895491                                 0.074842   \n",
       "0                        0.895491                                 0.074842   \n",
       "\n",
       "   fair_main_demographic_parity_ratio  ...  perf_grp_precision_0  \\\n",
       "0                            0.924168  ...                   NaN   \n",
       "0                            0.924168  ...              0.122173   \n",
       "0                            0.906529  ...                   NaN   \n",
       "0                            0.906529  ...              0.136629   \n",
       "\n",
       "   perf_grp_precision_1  perf_grp_false positive rate_0  \\\n",
       "0                   NaN                             NaN   \n",
       "0               0.13850                        0.867103   \n",
       "0                   NaN                             NaN   \n",
       "0               0.15853                        0.708343   \n",
       "\n",
       "   perf_grp_false positive rate_1  perf_grp_false negative rate_0  \\\n",
       "0                             NaN                             NaN   \n",
       "0                        0.938681                        0.073902   \n",
       "0                             NaN                             NaN   \n",
       "0                        0.776345                        0.139780   \n",
       "\n",
       "   perf_grp_false negative rate_1  perf_grp_selection rate_0  \\\n",
       "0                             NaN                        NaN   \n",
       "0                        0.008862                   0.873905   \n",
       "0                             NaN                        NaN   \n",
       "0                        0.039387                   0.725852   \n",
       "\n",
       "   perf_grp_selection rate_1  perf_grp_count_0  perf_grp_count_1  \n",
       "0                        NaN               NaN               NaN  \n",
       "0                   0.945612           20540.0           69170.0  \n",
       "0                        NaN               NaN               NaN  \n",
       "0                   0.800694           20540.0           69170.0  \n",
       "\n",
       "[4 rows x 50 columns]"
      ]
     },
     "execution_count": 64,
     "metadata": {},
     "output_type": "execute_result"
    }
   ],
   "source": [
    "final_output = universe_analysis.generate_final_output(\n",
    "    y_pred_prob=probs_test,\n",
    "    y_test=y_true,\n",
    "    org_test=org_test,\n",
    "    filter_data=filter_sub_universe_data,\n",
    "    cp_metrics_df=cp_metrics_df,\n",
    "    save=True,\n",
    ")\n",
    "final_output"
   ]
  },
  {
   "cell_type": "code",
   "execution_count": null,
   "id": "8b80a1ff",
   "metadata": {
    "papermill": {
     "duration": 0.014541,
     "end_time": "2025-08-19T18:21:01.127399",
     "exception": false,
     "start_time": "2025-08-19T18:21:01.112858",
     "status": "completed"
    },
    "tags": []
   },
   "outputs": [],
   "source": []
  },
  {
   "cell_type": "code",
   "execution_count": null,
   "id": "275c9fad",
   "metadata": {
    "papermill": {
     "duration": 0.014205,
     "end_time": "2025-08-19T18:21:01.156086",
     "exception": false,
     "start_time": "2025-08-19T18:21:01.141881",
     "status": "completed"
    },
    "tags": []
   },
   "outputs": [],
   "source": []
  }
 ],
 "metadata": {
  "celltoolbar": "Tags",
  "kernelspec": {
   "display_name": "Python (CMA Fairness)",
   "language": "python",
   "name": "cma_fair_env"
  },
  "language_info": {
   "codemirror_mode": {
    "name": "ipython",
    "version": 3
   },
   "file_extension": ".py",
   "mimetype": "text/x-python",
   "name": "python",
   "nbconvert_exporter": "python",
   "pygments_lexer": "ipython3",
   "version": "3.10.12"
  },
  "papermill": {
   "default_parameters": {},
   "duration": 47.662353,
   "end_time": "2025-08-19T18:21:01.894180",
   "environment_variables": {},
   "exception": null,
   "input_path": "universe_analysis.ipynb",
   "output_path": "output/runs/3/notebooks/m_3-f164fd11c0552fd41c0cbe9e2aaf7cce.ipynb",
   "parameters": {
    "output_dir": "output",
    "run_no": "3",
    "seed": "2023",
    "universe": "{\"cutoff\": [\"quantile_0.1\", \"quantile_0.25\"], \"eval_fairness_grouping\": [\"majority-minority\", \"nationality-all\"], \"exclude_features\": \"age\", \"exclude_subgroups\": \"drop-non-german\", \"model\": \"rf\", \"scale\": \"do-not-scale\", \"training_size\": \"25k\", \"training_year\": \"2010_14\"}",
    "universe_id": "f164fd11c0552fd41c0cbe9e2aaf7cce"
   },
   "start_time": "2025-08-19T18:20:14.231827",
   "version": "2.6.0"
  }
 },
 "nbformat": 4,
 "nbformat_minor": 5
}