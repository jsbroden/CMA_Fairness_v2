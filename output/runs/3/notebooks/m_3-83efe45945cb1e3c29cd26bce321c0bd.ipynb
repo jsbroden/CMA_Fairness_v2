{
 "cells": [
  {
   "cell_type": "markdown",
   "id": "ef23dbb3",
   "metadata": {
    "papermill": {
     "duration": 0.00955,
     "end_time": "2025-08-19T18:35:02.039162",
     "exception": false,
     "start_time": "2025-08-19T18:35:02.029612",
     "status": "completed"
    },
    "tags": []
   },
   "source": [
    "# Setup"
   ]
  },
  {
   "cell_type": "code",
   "execution_count": 1,
   "id": "0bc8e7dc",
   "metadata": {
    "execution": {
     "iopub.execute_input": "2025-08-19T18:35:02.059483Z",
     "iopub.status.busy": "2025-08-19T18:35:02.058437Z",
     "iopub.status.idle": "2025-08-19T18:35:02.080237Z",
     "shell.execute_reply": "2025-08-19T18:35:02.079366Z"
    },
    "papermill": {
     "duration": 0.033857,
     "end_time": "2025-08-19T18:35:02.081899",
     "exception": false,
     "start_time": "2025-08-19T18:35:02.048042",
     "status": "completed"
    },
    "tags": []
   },
   "outputs": [
    {
     "name": "stdout",
     "output_type": "stream",
     "text": [
      "/dss/dsshome1/0C/ra93lal2/cma/CMA_Fairness_v2\n"
     ]
    },
    {
     "name": "stderr",
     "output_type": "stream",
     "text": [
      "/dss/dsshome1/0C/ra93lal2/.local/share/virtualenvs/CMA_Fairness_v2-3j10GkSs/lib/python3.10/site-packages/IPython/core/magics/osm.py:393: UserWarning: This is now an optional IPython functionality, using bookmarks requires you to install the `pickleshare` library.\n",
      "  bkms = self.shell.db.get('bookmarks', {})\n",
      "/dss/dsshome1/0C/ra93lal2/.local/share/virtualenvs/CMA_Fairness_v2-3j10GkSs/lib/python3.10/site-packages/IPython/core/magics/osm.py:417: UserWarning: This is now an optional IPython functionality, setting dhist requires you to install the `pickleshare` library.\n",
      "  self.shell.db['dhist'] = compress_dhist(dhist)[-100:]\n"
     ]
    }
   ],
   "source": [
    "%cd ~/cma/CMA_Fairness_v2"
   ]
  },
  {
   "cell_type": "markdown",
   "id": "9d235661",
   "metadata": {
    "papermill": {
     "duration": 0.008999,
     "end_time": "2025-08-19T18:35:02.102490",
     "exception": false,
     "start_time": "2025-08-19T18:35:02.093491",
     "status": "completed"
    },
    "tags": []
   },
   "source": [
    "The following cell holds the definition of our parameters, these values can be overriden by rendering the with e.g. the following command:\n",
    "\n",
    "papermill -p alpha 0.2 -p ratio 0.3 universe_analysis.ipynb output/test_run.ipynb"
   ]
  },
  {
   "cell_type": "code",
   "execution_count": 2,
   "id": "4a789d8e",
   "metadata": {
    "execution": {
     "iopub.execute_input": "2025-08-19T18:35:02.121217Z",
     "iopub.status.busy": "2025-08-19T18:35:02.120832Z",
     "iopub.status.idle": "2025-08-19T18:35:02.125136Z",
     "shell.execute_reply": "2025-08-19T18:35:02.124444Z"
    },
    "papermill": {
     "duration": 0.019373,
     "end_time": "2025-08-19T18:35:02.130490",
     "exception": false,
     "start_time": "2025-08-19T18:35:02.111117",
     "status": "completed"
    },
    "tags": []
   },
   "outputs": [
    {
     "name": "stdout",
     "output_type": "stream",
     "text": [
      "Current working directory: /dss/dsshome1/0C/ra93lal2/cma/CMA_Fairness_v2\n"
     ]
    }
   ],
   "source": [
    "import os\n",
    "print(\"Current working directory:\", os.getcwd())"
   ]
  },
  {
   "cell_type": "code",
   "execution_count": 3,
   "id": "4132aaed",
   "metadata": {
    "execution": {
     "iopub.execute_input": "2025-08-19T18:35:02.150057Z",
     "iopub.status.busy": "2025-08-19T18:35:02.149192Z",
     "iopub.status.idle": "2025-08-19T18:35:02.155609Z",
     "shell.execute_reply": "2025-08-19T18:35:02.154638Z"
    },
    "papermill": {
     "duration": 0.01716,
     "end_time": "2025-08-19T18:35:02.156869",
     "exception": false,
     "start_time": "2025-08-19T18:35:02.139709",
     "status": "completed"
    },
    "tags": [
     "parameters"
    ]
   },
   "outputs": [],
   "source": [
    "run_no = 0\n",
    "universe_id = \"test\"\n",
    "universe = {\n",
    "    \"training_size\": \"5k\", # \"25k\", \"5k\", \"1k\"\n",
    "    \"training_year\": \"2012_14\", # \"2014\", \"2012_14\", \"2010_14\"\n",
    "    \"scale\": \"scale\", # \"scale\", \"do-not-scale\",\n",
    "    \"model\": \"elasticnet\", # \"logreg\", \"penalized_logreg\", \"rf\", \"gbm\", \"elasticnet\"\n",
    "    \"cutoff\": [\"quantile_0.15\", \"quantile_0.30\"],\n",
    "    \"exclude_features\": \"age\", # \"none\", \"nationality\", \"sex\", \"nationality-sex\", \"age\"\n",
    "    \"exclude_subgroups\": \"drop-non-german\", # \"keep-all\", \"drop-non-german\"\n",
    "    \"eval_fairness_grouping\": [\"majority-minority\", \"nationality-all\"]\n",
    "}\n",
    "\n",
    "output_dir=\"./output\"\n",
    "seed=0"
   ]
  },
  {
   "cell_type": "code",
   "execution_count": 4,
   "id": "405ac40f",
   "metadata": {
    "execution": {
     "iopub.execute_input": "2025-08-19T18:35:02.177719Z",
     "iopub.status.busy": "2025-08-19T18:35:02.177399Z",
     "iopub.status.idle": "2025-08-19T18:35:02.181064Z",
     "shell.execute_reply": "2025-08-19T18:35:02.180530Z"
    },
    "papermill": {
     "duration": 0.014736,
     "end_time": "2025-08-19T18:35:02.182098",
     "exception": false,
     "start_time": "2025-08-19T18:35:02.167362",
     "status": "completed"
    },
    "tags": [
     "injected-parameters"
    ]
   },
   "outputs": [],
   "source": [
    "# Parameters\n",
    "universe_id = \"83efe45945cb1e3c29cd26bce321c0bd\"\n",
    "run_no = \"3\"\n",
    "universe = \"{\\\"cutoff\\\": [\\\"quantile_0.1\\\", \\\"quantile_0.25\\\"], \\\"eval_fairness_grouping\\\": [\\\"majority-minority\\\", \\\"nationality-all\\\"], \\\"exclude_features\\\": \\\"nationality\\\", \\\"exclude_subgroups\\\": \\\"keep-all\\\", \\\"model\\\": \\\"logreg\\\", \\\"scale\\\": \\\"do-not-scale\\\", \\\"training_size\\\": \\\"5k\\\", \\\"training_year\\\": \\\"2012_14\\\"}\"\n",
    "output_dir = \"output\"\n",
    "seed = \"2023\"\n"
   ]
  },
  {
   "cell_type": "code",
   "execution_count": 5,
   "id": "a5d7941f",
   "metadata": {
    "execution": {
     "iopub.execute_input": "2025-08-19T18:35:02.201762Z",
     "iopub.status.busy": "2025-08-19T18:35:02.200875Z",
     "iopub.status.idle": "2025-08-19T18:35:02.205994Z",
     "shell.execute_reply": "2025-08-19T18:35:02.205041Z"
    },
    "papermill": {
     "duration": 0.016119,
     "end_time": "2025-08-19T18:35:02.207409",
     "exception": false,
     "start_time": "2025-08-19T18:35:02.191290",
     "status": "completed"
    },
    "tags": []
   },
   "outputs": [],
   "source": [
    "import json\n",
    "if isinstance(universe, str):\n",
    "    universe = json.loads(universe)"
   ]
  },
  {
   "cell_type": "code",
   "execution_count": 6,
   "id": "7076ccb1",
   "metadata": {
    "execution": {
     "iopub.execute_input": "2025-08-19T18:35:02.228144Z",
     "iopub.status.busy": "2025-08-19T18:35:02.227352Z",
     "iopub.status.idle": "2025-08-19T18:35:02.275165Z",
     "shell.execute_reply": "2025-08-19T18:35:02.274504Z"
    },
    "papermill": {
     "duration": 0.059259,
     "end_time": "2025-08-19T18:35:02.276525",
     "exception": false,
     "start_time": "2025-08-19T18:35:02.217266",
     "status": "completed"
    },
    "tags": []
   },
   "outputs": [],
   "source": [
    "# Auto-reload the custom package\n",
    "%load_ext autoreload\n",
    "%autoreload 1\n",
    "%aimport fairness_multiverse"
   ]
  },
  {
   "cell_type": "code",
   "execution_count": 7,
   "id": "94c8eb93",
   "metadata": {
    "execution": {
     "iopub.execute_input": "2025-08-19T18:35:02.295904Z",
     "iopub.status.busy": "2025-08-19T18:35:02.295343Z",
     "iopub.status.idle": "2025-08-19T18:35:03.930598Z",
     "shell.execute_reply": "2025-08-19T18:35:03.928942Z"
    },
    "papermill": {
     "duration": 1.648207,
     "end_time": "2025-08-19T18:35:03.933952",
     "exception": false,
     "start_time": "2025-08-19T18:35:02.285745",
     "status": "completed"
    },
    "tags": []
   },
   "outputs": [],
   "source": [
    "from fairness_multiverse.universe import UniverseAnalysis\n",
    "\n",
    "universe_analysis = UniverseAnalysis(\n",
    "    run_no = run_no,\n",
    "    universe_id = universe_id,\n",
    "    universe = universe,\n",
    "    output_dir=output_dir,\n",
    ")"
   ]
  },
  {
   "cell_type": "code",
   "execution_count": 8,
   "id": "2a6381cf",
   "metadata": {
    "execution": {
     "iopub.execute_input": "2025-08-19T18:35:03.973693Z",
     "iopub.status.busy": "2025-08-19T18:35:03.972298Z",
     "iopub.status.idle": "2025-08-19T18:35:03.984431Z",
     "shell.execute_reply": "2025-08-19T18:35:03.983045Z"
    },
    "papermill": {
     "duration": 0.029056,
     "end_time": "2025-08-19T18:35:03.986215",
     "exception": false,
     "start_time": "2025-08-19T18:35:03.957159",
     "status": "completed"
    },
    "tags": []
   },
   "outputs": [
    {
     "name": "stdout",
     "output_type": "stream",
     "text": [
      "Using Seed: 2023\n"
     ]
    }
   ],
   "source": [
    "import numpy as np\n",
    "parsed_seed = int(seed)\n",
    "np.random.seed(parsed_seed)\n",
    "print(f\"Using Seed: {parsed_seed}\")"
   ]
  },
  {
   "cell_type": "markdown",
   "id": "b6e958b4",
   "metadata": {
    "papermill": {
     "duration": 0.00913,
     "end_time": "2025-08-19T18:35:04.009160",
     "exception": false,
     "start_time": "2025-08-19T18:35:04.000030",
     "status": "completed"
    },
    "tags": []
   },
   "source": [
    "# Loading Data"
   ]
  },
  {
   "cell_type": "code",
   "execution_count": 9,
   "id": "98701482",
   "metadata": {
    "execution": {
     "iopub.execute_input": "2025-08-19T18:35:04.029700Z",
     "iopub.status.busy": "2025-08-19T18:35:04.028215Z",
     "iopub.status.idle": "2025-08-19T18:35:14.692836Z",
     "shell.execute_reply": "2025-08-19T18:35:14.691602Z"
    },
    "papermill": {
     "duration": 10.677017,
     "end_time": "2025-08-19T18:35:14.694953",
     "exception": false,
     "start_time": "2025-08-19T18:35:04.017936",
     "status": "completed"
    },
    "tags": []
   },
   "outputs": [
    {
     "name": "stdout",
     "output_type": "stream",
     "text": [
      "Loading SIAB data from cache: data/siab_cached.csv.gz\n"
     ]
    },
    {
     "name": "stdout",
     "output_type": "stream",
     "text": [
      "(643690, 164)\n"
     ]
    }
   ],
   "source": [
    "from pathlib import Path\n",
    "import pandas as pd\n",
    "\n",
    "# File paths\n",
    "raw_file = Path(\"data/raw/siab.csv\")\n",
    "cache_file = Path(\"data/siab_cached.csv.gz\")\n",
    "\n",
    "# Ensure cache directory exists\n",
    "cache_file.parent.mkdir(parents=True, exist_ok=True)\n",
    "\n",
    "# Load with simple caching\n",
    "if cache_file.exists():\n",
    "    print(f\"Loading SIAB data from cache: {cache_file}\")\n",
    "    siab = pd.read_csv(cache_file, compression='gzip')\n",
    "else:\n",
    "    print(f\"Cache not found. Reading raw SIAB data: {raw_file}\")\n",
    "    siab = pd.read_csv(raw_file)\n",
    "    siab.to_csv(cache_file, index=False, compression='gzip')\n",
    "    print(f\"Cached SIAB data to: {cache_file}\")\n",
    "\n",
    "print(siab.shape)"
   ]
  },
  {
   "cell_type": "code",
   "execution_count": 10,
   "id": "058d2abb",
   "metadata": {
    "execution": {
     "iopub.execute_input": "2025-08-19T18:35:14.717612Z",
     "iopub.status.busy": "2025-08-19T18:35:14.717040Z",
     "iopub.status.idle": "2025-08-19T18:35:14.957604Z",
     "shell.execute_reply": "2025-08-19T18:35:14.956402Z"
    },
    "papermill": {
     "duration": 0.252445,
     "end_time": "2025-08-19T18:35:14.959006",
     "exception": false,
     "start_time": "2025-08-19T18:35:14.706561",
     "status": "completed"
    },
    "tags": []
   },
   "outputs": [
    {
     "data": {
      "text/html": [
       "<div>\n",
       "<style scoped>\n",
       "    .dataframe tbody tr th:only-of-type {\n",
       "        vertical-align: middle;\n",
       "    }\n",
       "\n",
       "    .dataframe tbody tr th {\n",
       "        vertical-align: top;\n",
       "    }\n",
       "\n",
       "    .dataframe thead th {\n",
       "        text-align: right;\n",
       "    }\n",
       "</style>\n",
       "<table border=\"1\" class=\"dataframe\">\n",
       "  <thead>\n",
       "    <tr style=\"text-align: right;\">\n",
       "      <th></th>\n",
       "      <th>persnr</th>\n",
       "      <th>year</th>\n",
       "      <th>nrEntry</th>\n",
       "      <th>ltue</th>\n",
       "      <th>employed_before</th>\n",
       "      <th>receipt_leh_before</th>\n",
       "      <th>receipt_lhg_before</th>\n",
       "      <th>se_before</th>\n",
       "      <th>ASU_notue_seeking_before</th>\n",
       "      <th>ASU_other_before</th>\n",
       "      <th>...</th>\n",
       "      <th>minijob_tot_dur_byage</th>\n",
       "      <th>ft_tot_dur_byage</th>\n",
       "      <th>befrist_tot_dur_byage</th>\n",
       "      <th>leih_tot_dur_byage</th>\n",
       "      <th>LHG_tot_dur_byage</th>\n",
       "      <th>LEH_tot_dur_byage</th>\n",
       "      <th>almp_tot_dur_byage</th>\n",
       "      <th>almp_aw_tot_dur_byage</th>\n",
       "      <th>se_tot_dur_byage</th>\n",
       "      <th>seeking1_tot_dur_byage</th>\n",
       "    </tr>\n",
       "  </thead>\n",
       "  <tbody>\n",
       "    <tr>\n",
       "      <th>0</th>\n",
       "      <td>7</td>\n",
       "      <td>2015</td>\n",
       "      <td>1</td>\n",
       "      <td>0</td>\n",
       "      <td>1</td>\n",
       "      <td>0</td>\n",
       "      <td>0</td>\n",
       "      <td>0</td>\n",
       "      <td>1</td>\n",
       "      <td>0</td>\n",
       "      <td>...</td>\n",
       "      <td>0.000000</td>\n",
       "      <td>0.000000</td>\n",
       "      <td>15.043478</td>\n",
       "      <td>0.000000</td>\n",
       "      <td>0.000000</td>\n",
       "      <td>0.000000</td>\n",
       "      <td>0.000000</td>\n",
       "      <td>0.000000</td>\n",
       "      <td>0.000000</td>\n",
       "      <td>0.000000</td>\n",
       "    </tr>\n",
       "    <tr>\n",
       "      <th>1</th>\n",
       "      <td>18</td>\n",
       "      <td>2010</td>\n",
       "      <td>1</td>\n",
       "      <td>1</td>\n",
       "      <td>0</td>\n",
       "      <td>0</td>\n",
       "      <td>0</td>\n",
       "      <td>0</td>\n",
       "      <td>0</td>\n",
       "      <td>0</td>\n",
       "      <td>...</td>\n",
       "      <td>0.000000</td>\n",
       "      <td>0.000000</td>\n",
       "      <td>0.000000</td>\n",
       "      <td>0.000000</td>\n",
       "      <td>0.000000</td>\n",
       "      <td>0.000000</td>\n",
       "      <td>0.000000</td>\n",
       "      <td>0.000000</td>\n",
       "      <td>0.000000</td>\n",
       "      <td>0.000000</td>\n",
       "    </tr>\n",
       "    <tr>\n",
       "      <th>2</th>\n",
       "      <td>18</td>\n",
       "      <td>2011</td>\n",
       "      <td>2</td>\n",
       "      <td>0</td>\n",
       "      <td>1</td>\n",
       "      <td>0</td>\n",
       "      <td>1</td>\n",
       "      <td>0</td>\n",
       "      <td>1</td>\n",
       "      <td>0</td>\n",
       "      <td>...</td>\n",
       "      <td>2.714286</td>\n",
       "      <td>2.714286</td>\n",
       "      <td>0.000000</td>\n",
       "      <td>0.000000</td>\n",
       "      <td>10.775510</td>\n",
       "      <td>0.000000</td>\n",
       "      <td>8.367347</td>\n",
       "      <td>0.000000</td>\n",
       "      <td>0.000000</td>\n",
       "      <td>9.836735</td>\n",
       "    </tr>\n",
       "    <tr>\n",
       "      <th>3</th>\n",
       "      <td>18</td>\n",
       "      <td>2012</td>\n",
       "      <td>3</td>\n",
       "      <td>0</td>\n",
       "      <td>1</td>\n",
       "      <td>0</td>\n",
       "      <td>1</td>\n",
       "      <td>0</td>\n",
       "      <td>1</td>\n",
       "      <td>0</td>\n",
       "      <td>...</td>\n",
       "      <td>4.200000</td>\n",
       "      <td>4.200000</td>\n",
       "      <td>0.000000</td>\n",
       "      <td>0.000000</td>\n",
       "      <td>12.100000</td>\n",
       "      <td>0.000000</td>\n",
       "      <td>9.400000</td>\n",
       "      <td>0.000000</td>\n",
       "      <td>0.000000</td>\n",
       "      <td>9.960000</td>\n",
       "    </tr>\n",
       "    <tr>\n",
       "      <th>4</th>\n",
       "      <td>18</td>\n",
       "      <td>2012</td>\n",
       "      <td>4</td>\n",
       "      <td>0</td>\n",
       "      <td>1</td>\n",
       "      <td>0</td>\n",
       "      <td>1</td>\n",
       "      <td>0</td>\n",
       "      <td>1</td>\n",
       "      <td>0</td>\n",
       "      <td>...</td>\n",
       "      <td>5.460000</td>\n",
       "      <td>5.460000</td>\n",
       "      <td>0.000000</td>\n",
       "      <td>0.000000</td>\n",
       "      <td>13.360000</td>\n",
       "      <td>0.000000</td>\n",
       "      <td>10.320000</td>\n",
       "      <td>0.000000</td>\n",
       "      <td>0.000000</td>\n",
       "      <td>10.280000</td>\n",
       "    </tr>\n",
       "    <tr>\n",
       "      <th>...</th>\n",
       "      <td>...</td>\n",
       "      <td>...</td>\n",
       "      <td>...</td>\n",
       "      <td>...</td>\n",
       "      <td>...</td>\n",
       "      <td>...</td>\n",
       "      <td>...</td>\n",
       "      <td>...</td>\n",
       "      <td>...</td>\n",
       "      <td>...</td>\n",
       "      <td>...</td>\n",
       "      <td>...</td>\n",
       "      <td>...</td>\n",
       "      <td>...</td>\n",
       "      <td>...</td>\n",
       "      <td>...</td>\n",
       "      <td>...</td>\n",
       "      <td>...</td>\n",
       "      <td>...</td>\n",
       "      <td>...</td>\n",
       "      <td>...</td>\n",
       "    </tr>\n",
       "    <tr>\n",
       "      <th>643685</th>\n",
       "      <td>1827860</td>\n",
       "      <td>2013</td>\n",
       "      <td>1</td>\n",
       "      <td>0</td>\n",
       "      <td>0</td>\n",
       "      <td>0</td>\n",
       "      <td>1</td>\n",
       "      <td>0</td>\n",
       "      <td>0</td>\n",
       "      <td>1</td>\n",
       "      <td>...</td>\n",
       "      <td>0.000000</td>\n",
       "      <td>0.000000</td>\n",
       "      <td>0.000000</td>\n",
       "      <td>0.000000</td>\n",
       "      <td>0.612903</td>\n",
       "      <td>0.000000</td>\n",
       "      <td>0.000000</td>\n",
       "      <td>0.000000</td>\n",
       "      <td>0.000000</td>\n",
       "      <td>0.000000</td>\n",
       "    </tr>\n",
       "    <tr>\n",
       "      <th>643686</th>\n",
       "      <td>1827860</td>\n",
       "      <td>2015</td>\n",
       "      <td>2</td>\n",
       "      <td>1</td>\n",
       "      <td>0</td>\n",
       "      <td>0</td>\n",
       "      <td>1</td>\n",
       "      <td>0</td>\n",
       "      <td>1</td>\n",
       "      <td>0</td>\n",
       "      <td>...</td>\n",
       "      <td>0.000000</td>\n",
       "      <td>0.000000</td>\n",
       "      <td>0.212121</td>\n",
       "      <td>0.212121</td>\n",
       "      <td>17.363636</td>\n",
       "      <td>0.000000</td>\n",
       "      <td>8.909091</td>\n",
       "      <td>0.000000</td>\n",
       "      <td>0.000000</td>\n",
       "      <td>7.121212</td>\n",
       "    </tr>\n",
       "    <tr>\n",
       "      <th>643687</th>\n",
       "      <td>1827860</td>\n",
       "      <td>2016</td>\n",
       "      <td>3</td>\n",
       "      <td>1</td>\n",
       "      <td>0</td>\n",
       "      <td>0</td>\n",
       "      <td>1</td>\n",
       "      <td>1</td>\n",
       "      <td>0</td>\n",
       "      <td>1</td>\n",
       "      <td>...</td>\n",
       "      <td>0.000000</td>\n",
       "      <td>0.000000</td>\n",
       "      <td>0.294118</td>\n",
       "      <td>0.205882</td>\n",
       "      <td>34.705882</td>\n",
       "      <td>0.000000</td>\n",
       "      <td>10.352941</td>\n",
       "      <td>1.705882</td>\n",
       "      <td>1.705882</td>\n",
       "      <td>23.911765</td>\n",
       "    </tr>\n",
       "    <tr>\n",
       "      <th>643688</th>\n",
       "      <td>1827869</td>\n",
       "      <td>2013</td>\n",
       "      <td>1</td>\n",
       "      <td>1</td>\n",
       "      <td>1</td>\n",
       "      <td>0</td>\n",
       "      <td>0</td>\n",
       "      <td>0</td>\n",
       "      <td>1</td>\n",
       "      <td>0</td>\n",
       "      <td>...</td>\n",
       "      <td>0.000000</td>\n",
       "      <td>0.000000</td>\n",
       "      <td>0.000000</td>\n",
       "      <td>0.000000</td>\n",
       "      <td>0.000000</td>\n",
       "      <td>0.525424</td>\n",
       "      <td>0.000000</td>\n",
       "      <td>0.000000</td>\n",
       "      <td>0.000000</td>\n",
       "      <td>0.000000</td>\n",
       "    </tr>\n",
       "    <tr>\n",
       "      <th>643689</th>\n",
       "      <td>1827869</td>\n",
       "      <td>2014</td>\n",
       "      <td>2</td>\n",
       "      <td>0</td>\n",
       "      <td>0</td>\n",
       "      <td>1</td>\n",
       "      <td>0</td>\n",
       "      <td>0</td>\n",
       "      <td>1</td>\n",
       "      <td>0</td>\n",
       "      <td>...</td>\n",
       "      <td>0.000000</td>\n",
       "      <td>0.666667</td>\n",
       "      <td>0.666667</td>\n",
       "      <td>0.000000</td>\n",
       "      <td>0.000000</td>\n",
       "      <td>8.950000</td>\n",
       "      <td>1.033333</td>\n",
       "      <td>0.083333</td>\n",
       "      <td>0.083333</td>\n",
       "      <td>8.133333</td>\n",
       "    </tr>\n",
       "  </tbody>\n",
       "</table>\n",
       "<p>643690 rows × 164 columns</p>\n",
       "</div>"
      ],
      "text/plain": [
       "         persnr  year  nrEntry  ltue  employed_before  receipt_leh_before  \\\n",
       "0             7  2015        1     0                1                   0   \n",
       "1            18  2010        1     1                0                   0   \n",
       "2            18  2011        2     0                1                   0   \n",
       "3            18  2012        3     0                1                   0   \n",
       "4            18  2012        4     0                1                   0   \n",
       "...         ...   ...      ...   ...              ...                 ...   \n",
       "643685  1827860  2013        1     0                0                   0   \n",
       "643686  1827860  2015        2     1                0                   0   \n",
       "643687  1827860  2016        3     1                0                   0   \n",
       "643688  1827869  2013        1     1                1                   0   \n",
       "643689  1827869  2014        2     0                0                   1   \n",
       "\n",
       "        receipt_lhg_before  se_before  ASU_notue_seeking_before  \\\n",
       "0                        0          0                         1   \n",
       "1                        0          0                         0   \n",
       "2                        1          0                         1   \n",
       "3                        1          0                         1   \n",
       "4                        1          0                         1   \n",
       "...                    ...        ...                       ...   \n",
       "643685                   1          0                         0   \n",
       "643686                   1          0                         1   \n",
       "643687                   1          1                         0   \n",
       "643688                   0          0                         1   \n",
       "643689                   0          0                         1   \n",
       "\n",
       "        ASU_other_before  ...  minijob_tot_dur_byage  ft_tot_dur_byage  \\\n",
       "0                      0  ...               0.000000          0.000000   \n",
       "1                      0  ...               0.000000          0.000000   \n",
       "2                      0  ...               2.714286          2.714286   \n",
       "3                      0  ...               4.200000          4.200000   \n",
       "4                      0  ...               5.460000          5.460000   \n",
       "...                  ...  ...                    ...               ...   \n",
       "643685                 1  ...               0.000000          0.000000   \n",
       "643686                 0  ...               0.000000          0.000000   \n",
       "643687                 1  ...               0.000000          0.000000   \n",
       "643688                 0  ...               0.000000          0.000000   \n",
       "643689                 0  ...               0.000000          0.666667   \n",
       "\n",
       "        befrist_tot_dur_byage  leih_tot_dur_byage  LHG_tot_dur_byage  \\\n",
       "0                   15.043478            0.000000           0.000000   \n",
       "1                    0.000000            0.000000           0.000000   \n",
       "2                    0.000000            0.000000          10.775510   \n",
       "3                    0.000000            0.000000          12.100000   \n",
       "4                    0.000000            0.000000          13.360000   \n",
       "...                       ...                 ...                ...   \n",
       "643685               0.000000            0.000000           0.612903   \n",
       "643686               0.212121            0.212121          17.363636   \n",
       "643687               0.294118            0.205882          34.705882   \n",
       "643688               0.000000            0.000000           0.000000   \n",
       "643689               0.666667            0.000000           0.000000   \n",
       "\n",
       "        LEH_tot_dur_byage  almp_tot_dur_byage  almp_aw_tot_dur_byage  \\\n",
       "0                0.000000            0.000000               0.000000   \n",
       "1                0.000000            0.000000               0.000000   \n",
       "2                0.000000            8.367347               0.000000   \n",
       "3                0.000000            9.400000               0.000000   \n",
       "4                0.000000           10.320000               0.000000   \n",
       "...                   ...                 ...                    ...   \n",
       "643685           0.000000            0.000000               0.000000   \n",
       "643686           0.000000            8.909091               0.000000   \n",
       "643687           0.000000           10.352941               1.705882   \n",
       "643688           0.525424            0.000000               0.000000   \n",
       "643689           8.950000            1.033333               0.083333   \n",
       "\n",
       "        se_tot_dur_byage  seeking1_tot_dur_byage  \n",
       "0               0.000000                0.000000  \n",
       "1               0.000000                0.000000  \n",
       "2               0.000000                9.836735  \n",
       "3               0.000000                9.960000  \n",
       "4               0.000000               10.280000  \n",
       "...                  ...                     ...  \n",
       "643685          0.000000                0.000000  \n",
       "643686          0.000000                7.121212  \n",
       "643687          1.705882               23.911765  \n",
       "643688          0.000000                0.000000  \n",
       "643689          0.083333                8.133333  \n",
       "\n",
       "[643690 rows x 164 columns]"
      ]
     },
     "execution_count": 10,
     "metadata": {},
     "output_type": "execute_result"
    }
   ],
   "source": [
    "siab"
   ]
  },
  {
   "cell_type": "markdown",
   "id": "1f87e805",
   "metadata": {
    "papermill": {
     "duration": 0.009525,
     "end_time": "2025-08-19T18:35:14.978712",
     "exception": false,
     "start_time": "2025-08-19T18:35:14.969187",
     "status": "completed"
    },
    "tags": []
   },
   "source": [
    "# Splitting Data and Setting Training Data Size"
   ]
  },
  {
   "cell_type": "code",
   "execution_count": 11,
   "id": "910ae358",
   "metadata": {
    "execution": {
     "iopub.execute_input": "2025-08-19T18:35:15.002663Z",
     "iopub.status.busy": "2025-08-19T18:35:15.001187Z",
     "iopub.status.idle": "2025-08-19T18:35:15.736285Z",
     "shell.execute_reply": "2025-08-19T18:35:15.735112Z"
    },
    "papermill": {
     "duration": 0.751104,
     "end_time": "2025-08-19T18:35:15.740061",
     "exception": false,
     "start_time": "2025-08-19T18:35:14.988957",
     "status": "completed"
    },
    "tags": []
   },
   "outputs": [],
   "source": [
    "from fairness_multiverse.universe import sample_by_year_size\n",
    "\n",
    "siab_train = sample_by_year_size(siab,\n",
    "                               training_year=universe[\"training_year\"],\n",
    "                               training_size=universe[\"training_size\"])"
   ]
  },
  {
   "cell_type": "code",
   "execution_count": 12,
   "id": "919c8ff5",
   "metadata": {
    "execution": {
     "iopub.execute_input": "2025-08-19T18:35:15.768671Z",
     "iopub.status.busy": "2025-08-19T18:35:15.767681Z",
     "iopub.status.idle": "2025-08-19T18:35:15.777625Z",
     "shell.execute_reply": "2025-08-19T18:35:15.776446Z"
    },
    "papermill": {
     "duration": 0.040717,
     "end_time": "2025-08-19T18:35:15.794872",
     "exception": false,
     "start_time": "2025-08-19T18:35:15.754155",
     "status": "completed"
    },
    "tags": []
   },
   "outputs": [
    {
     "data": {
      "text/plain": [
       "(5000, 164)"
      ]
     },
     "execution_count": 12,
     "metadata": {},
     "output_type": "execute_result"
    }
   ],
   "source": [
    "siab_train.shape"
   ]
  },
  {
   "cell_type": "code",
   "execution_count": 13,
   "id": "feb13bf4",
   "metadata": {
    "execution": {
     "iopub.execute_input": "2025-08-19T18:35:15.839996Z",
     "iopub.status.busy": "2025-08-19T18:35:15.838800Z",
     "iopub.status.idle": "2025-08-19T18:35:15.855689Z",
     "shell.execute_reply": "2025-08-19T18:35:15.854006Z"
    },
    "papermill": {
     "duration": 0.038497,
     "end_time": "2025-08-19T18:35:15.857756",
     "exception": false,
     "start_time": "2025-08-19T18:35:15.819259",
     "status": "completed"
    },
    "tags": []
   },
   "outputs": [
    {
     "data": {
      "text/plain": [
       "year\n",
       "2012    1667\n",
       "2013    1667\n",
       "2014    1666\n",
       "dtype: int64"
      ]
     },
     "metadata": {},
     "output_type": "display_data"
    }
   ],
   "source": [
    "display(siab_train.groupby(\"year\").size())"
   ]
  },
  {
   "cell_type": "code",
   "execution_count": 14,
   "id": "0997782f",
   "metadata": {
    "execution": {
     "iopub.execute_input": "2025-08-19T18:35:15.914270Z",
     "iopub.status.busy": "2025-08-19T18:35:15.910651Z",
     "iopub.status.idle": "2025-08-19T18:35:16.243639Z",
     "shell.execute_reply": "2025-08-19T18:35:16.242777Z"
    },
    "papermill": {
     "duration": 0.351778,
     "end_time": "2025-08-19T18:35:16.245409",
     "exception": false,
     "start_time": "2025-08-19T18:35:15.893631",
     "status": "completed"
    },
    "tags": []
   },
   "outputs": [],
   "source": [
    "#siab_train = siab_s[siab_s.year < 2015]\n",
    "siab_calib = siab[siab.year == 2015]\n",
    "siab_test = siab[siab.year == 2016]"
   ]
  },
  {
   "cell_type": "code",
   "execution_count": 15,
   "id": "2c1e4012",
   "metadata": {
    "execution": {
     "iopub.execute_input": "2025-08-19T18:35:16.269133Z",
     "iopub.status.busy": "2025-08-19T18:35:16.268573Z",
     "iopub.status.idle": "2025-08-19T18:35:16.274457Z",
     "shell.execute_reply": "2025-08-19T18:35:16.273552Z"
    },
    "papermill": {
     "duration": 0.019588,
     "end_time": "2025-08-19T18:35:16.275958",
     "exception": false,
     "start_time": "2025-08-19T18:35:16.256370",
     "status": "completed"
    },
    "tags": []
   },
   "outputs": [],
   "source": [
    "#siab_calib.shape"
   ]
  },
  {
   "cell_type": "code",
   "execution_count": 16,
   "id": "f66b54ca",
   "metadata": {
    "execution": {
     "iopub.execute_input": "2025-08-19T18:35:16.299073Z",
     "iopub.status.busy": "2025-08-19T18:35:16.298556Z",
     "iopub.status.idle": "2025-08-19T18:35:16.303804Z",
     "shell.execute_reply": "2025-08-19T18:35:16.302870Z"
    },
    "papermill": {
     "duration": 0.018339,
     "end_time": "2025-08-19T18:35:16.305130",
     "exception": false,
     "start_time": "2025-08-19T18:35:16.286791",
     "status": "completed"
    },
    "tags": []
   },
   "outputs": [],
   "source": [
    "#siab_test.shape"
   ]
  },
  {
   "cell_type": "code",
   "execution_count": 17,
   "id": "27e4384d",
   "metadata": {
    "execution": {
     "iopub.execute_input": "2025-08-19T18:35:16.327888Z",
     "iopub.status.busy": "2025-08-19T18:35:16.327422Z",
     "iopub.status.idle": "2025-08-19T18:35:16.335732Z",
     "shell.execute_reply": "2025-08-19T18:35:16.334930Z"
    },
    "papermill": {
     "duration": 0.020985,
     "end_time": "2025-08-19T18:35:16.337372",
     "exception": false,
     "start_time": "2025-08-19T18:35:16.316387",
     "status": "completed"
    },
    "tags": []
   },
   "outputs": [],
   "source": [
    "X_train = siab_train.iloc[:,4:164]\n",
    "y_train = siab_train.iloc[:, [3]]"
   ]
  },
  {
   "cell_type": "code",
   "execution_count": 18,
   "id": "08ee8389",
   "metadata": {
    "execution": {
     "iopub.execute_input": "2025-08-19T18:35:16.361414Z",
     "iopub.status.busy": "2025-08-19T18:35:16.360911Z",
     "iopub.status.idle": "2025-08-19T18:35:16.422015Z",
     "shell.execute_reply": "2025-08-19T18:35:16.420760Z"
    },
    "papermill": {
     "duration": 0.073867,
     "end_time": "2025-08-19T18:35:16.423544",
     "exception": false,
     "start_time": "2025-08-19T18:35:16.349677",
     "status": "completed"
    },
    "tags": []
   },
   "outputs": [],
   "source": [
    "X_calib = siab_calib.iloc[:,4:164]\n",
    "y_calib = siab_calib.iloc[:, [3]]"
   ]
  },
  {
   "cell_type": "code",
   "execution_count": 19,
   "id": "b7ff42e0",
   "metadata": {
    "execution": {
     "iopub.execute_input": "2025-08-19T18:35:16.450441Z",
     "iopub.status.busy": "2025-08-19T18:35:16.449341Z",
     "iopub.status.idle": "2025-08-19T18:35:16.509575Z",
     "shell.execute_reply": "2025-08-19T18:35:16.508762Z"
    },
    "papermill": {
     "duration": 0.07474,
     "end_time": "2025-08-19T18:35:16.511270",
     "exception": false,
     "start_time": "2025-08-19T18:35:16.436530",
     "status": "completed"
    },
    "tags": []
   },
   "outputs": [],
   "source": [
    "X_test = siab_test.iloc[:,4:164]\n",
    "y_true = siab_test.iloc[:, [3]]"
   ]
  },
  {
   "cell_type": "code",
   "execution_count": 20,
   "id": "0275101e",
   "metadata": {
    "execution": {
     "iopub.execute_input": "2025-08-19T18:35:16.554930Z",
     "iopub.status.busy": "2025-08-19T18:35:16.554471Z",
     "iopub.status.idle": "2025-08-19T18:35:16.683889Z",
     "shell.execute_reply": "2025-08-19T18:35:16.683005Z"
    },
    "papermill": {
     "duration": 0.160703,
     "end_time": "2025-08-19T18:35:16.685715",
     "exception": false,
     "start_time": "2025-08-19T18:35:16.525012",
     "status": "completed"
    },
    "tags": []
   },
   "outputs": [],
   "source": [
    "# Auxiliary data needed downstream in the pipeline\n",
    "\n",
    "org_train = X_train.copy()\n",
    "org_test = X_test.copy()\n",
    "org_calib = X_calib.copy()"
   ]
  },
  {
   "cell_type": "markdown",
   "id": "b461e618",
   "metadata": {
    "papermill": {
     "duration": 0.022764,
     "end_time": "2025-08-19T18:35:16.723785",
     "exception": false,
     "start_time": "2025-08-19T18:35:16.701021",
     "status": "completed"
    },
    "tags": []
   },
   "source": [
    "# Preprocessing Data"
   ]
  },
  {
   "cell_type": "code",
   "execution_count": 21,
   "id": "78e74c4b",
   "metadata": {
    "execution": {
     "iopub.execute_input": "2025-08-19T18:35:16.747108Z",
     "iopub.status.busy": "2025-08-19T18:35:16.746605Z",
     "iopub.status.idle": "2025-08-19T18:35:16.752288Z",
     "shell.execute_reply": "2025-08-19T18:35:16.751214Z"
    },
    "papermill": {
     "duration": 0.018002,
     "end_time": "2025-08-19T18:35:16.753519",
     "exception": false,
     "start_time": "2025-08-19T18:35:16.735517",
     "status": "completed"
    },
    "tags": []
   },
   "outputs": [],
   "source": [
    "# EXCLUDE PROTECTED FEATURES\n",
    "# --------------------------\n",
    "\n",
    "excluded_features = universe[\"exclude_features\"].split(\"-\")\n",
    "excluded_features_dictionary = {\n",
    "    \"nationality\": [\"maxdeutsch1\", \"maxdeutsch.Missing.\"],\n",
    "    \"sex\": [\"frau1\"],\n",
    "    \"age\": [\"age\"],\n",
    "}"
   ]
  },
  {
   "cell_type": "code",
   "execution_count": 22,
   "id": "f8e63555",
   "metadata": {
    "execution": {
     "iopub.execute_input": "2025-08-19T18:35:16.796231Z",
     "iopub.status.busy": "2025-08-19T18:35:16.795805Z",
     "iopub.status.idle": "2025-08-19T18:35:16.800556Z",
     "shell.execute_reply": "2025-08-19T18:35:16.799837Z"
    },
    "papermill": {
     "duration": 0.037952,
     "end_time": "2025-08-19T18:35:16.802608",
     "exception": false,
     "start_time": "2025-08-19T18:35:16.764656",
     "status": "completed"
    },
    "tags": []
   },
   "outputs": [],
   "source": [
    "excluded_features_columns = [\n",
    "    excluded_features_dictionary[f] for f in excluded_features if len(f) > 0 and f != \"none\"\n",
    "]"
   ]
  },
  {
   "cell_type": "code",
   "execution_count": 23,
   "id": "da781f7c",
   "metadata": {
    "execution": {
     "iopub.execute_input": "2025-08-19T18:35:16.846030Z",
     "iopub.status.busy": "2025-08-19T18:35:16.845630Z",
     "iopub.status.idle": "2025-08-19T18:35:16.849986Z",
     "shell.execute_reply": "2025-08-19T18:35:16.849198Z"
    },
    "papermill": {
     "duration": 0.030785,
     "end_time": "2025-08-19T18:35:16.851990",
     "exception": false,
     "start_time": "2025-08-19T18:35:16.821205",
     "status": "completed"
    },
    "tags": []
   },
   "outputs": [],
   "source": [
    "from fairness_multiverse.universe import flatten_once\n",
    "\n",
    "excluded_features_columns = flatten_once(excluded_features_columns)"
   ]
  },
  {
   "cell_type": "code",
   "execution_count": 24,
   "id": "37fef0f0",
   "metadata": {
    "execution": {
     "iopub.execute_input": "2025-08-19T18:35:16.878499Z",
     "iopub.status.busy": "2025-08-19T18:35:16.877775Z",
     "iopub.status.idle": "2025-08-19T18:35:16.893543Z",
     "shell.execute_reply": "2025-08-19T18:35:16.892739Z"
    },
    "papermill": {
     "duration": 0.029748,
     "end_time": "2025-08-19T18:35:16.895189",
     "exception": false,
     "start_time": "2025-08-19T18:35:16.865441",
     "status": "completed"
    },
    "tags": []
   },
   "outputs": [
    {
     "name": "stdout",
     "output_type": "stream",
     "text": [
      "Dropping features: ['maxdeutsch1', 'maxdeutsch.Missing.']\n"
     ]
    }
   ],
   "source": [
    "if len(excluded_features_columns) > 0:\n",
    "    print(f\"Dropping features: {excluded_features_columns}\")\n",
    "    X_train.drop(excluded_features_columns, axis=1, inplace=True)"
   ]
  },
  {
   "cell_type": "code",
   "execution_count": 25,
   "id": "d029e3e9",
   "metadata": {
    "execution": {
     "iopub.execute_input": "2025-08-19T18:35:16.925438Z",
     "iopub.status.busy": "2025-08-19T18:35:16.924158Z",
     "iopub.status.idle": "2025-08-19T18:35:16.986899Z",
     "shell.execute_reply": "2025-08-19T18:35:16.985821Z"
    },
    "papermill": {
     "duration": 0.080403,
     "end_time": "2025-08-19T18:35:16.991285",
     "exception": false,
     "start_time": "2025-08-19T18:35:16.910882",
     "status": "completed"
    },
    "tags": []
   },
   "outputs": [
    {
     "name": "stdout",
     "output_type": "stream",
     "text": [
      "Dropping features: ['maxdeutsch1', 'maxdeutsch.Missing.']\n"
     ]
    }
   ],
   "source": [
    "if len(excluded_features_columns) > 0:\n",
    "    print(f\"Dropping features: {excluded_features_columns}\")\n",
    "    X_test.drop(excluded_features_columns, axis=1, inplace=True)"
   ]
  },
  {
   "cell_type": "code",
   "execution_count": 26,
   "id": "01d571f0",
   "metadata": {
    "execution": {
     "iopub.execute_input": "2025-08-19T18:35:17.026236Z",
     "iopub.status.busy": "2025-08-19T18:35:17.025807Z",
     "iopub.status.idle": "2025-08-19T18:35:17.084172Z",
     "shell.execute_reply": "2025-08-19T18:35:17.083248Z"
    },
    "papermill": {
     "duration": 0.07271,
     "end_time": "2025-08-19T18:35:17.085602",
     "exception": false,
     "start_time": "2025-08-19T18:35:17.012892",
     "status": "completed"
    },
    "tags": []
   },
   "outputs": [
    {
     "name": "stdout",
     "output_type": "stream",
     "text": [
      "Dropping features: ['maxdeutsch1', 'maxdeutsch.Missing.']\n"
     ]
    }
   ],
   "source": [
    "if len(excluded_features_columns) > 0:\n",
    "    print(f\"Dropping features: {excluded_features_columns}\")\n",
    "    X_calib.drop(excluded_features_columns, axis=1, inplace=True)"
   ]
  },
  {
   "cell_type": "code",
   "execution_count": 27,
   "id": "3037356e",
   "metadata": {
    "execution": {
     "iopub.execute_input": "2025-08-19T18:35:17.114593Z",
     "iopub.status.busy": "2025-08-19T18:35:17.113640Z",
     "iopub.status.idle": "2025-08-19T18:35:17.120248Z",
     "shell.execute_reply": "2025-08-19T18:35:17.118975Z"
    },
    "papermill": {
     "duration": 0.025816,
     "end_time": "2025-08-19T18:35:17.126829",
     "exception": false,
     "start_time": "2025-08-19T18:35:17.101013",
     "status": "completed"
    },
    "tags": []
   },
   "outputs": [],
   "source": [
    "# EXCLUDE CERTAIN SUBGROUPS\n",
    "# -------------------------\n",
    "\n",
    "mode = universe.get(\"exclude_subgroups\", \"keep-all\") # Defaults to \"keep-all\" if the key is missing."
   ]
  },
  {
   "cell_type": "code",
   "execution_count": 28,
   "id": "9d1e63fd",
   "metadata": {
    "execution": {
     "iopub.execute_input": "2025-08-19T18:35:17.155182Z",
     "iopub.status.busy": "2025-08-19T18:35:17.154699Z",
     "iopub.status.idle": "2025-08-19T18:35:17.161061Z",
     "shell.execute_reply": "2025-08-19T18:35:17.160394Z"
    },
    "papermill": {
     "duration": 0.018893,
     "end_time": "2025-08-19T18:35:17.162197",
     "exception": false,
     "start_time": "2025-08-19T18:35:17.143304",
     "status": "completed"
    },
    "tags": []
   },
   "outputs": [],
   "source": [
    "if mode == \"keep-all\":\n",
    "    keep_mask = pd.Series(True, index=org_train.index)\n",
    "\n",
    "elif mode == \"drop-non-german\":\n",
    "    keep_mask = (org_train[\"maxdeutsch1\"] == 1) & (org_train[\"maxdeutsch.Missing.\"] == 0)\n",
    "\n",
    "else:\n",
    "    raise ValueError(f\"Unsupported mode for exclude_subgroups: {mode}\")"
   ]
  },
  {
   "cell_type": "code",
   "execution_count": 29,
   "id": "d3b65474",
   "metadata": {
    "execution": {
     "iopub.execute_input": "2025-08-19T18:35:17.187009Z",
     "iopub.status.busy": "2025-08-19T18:35:17.186648Z",
     "iopub.status.idle": "2025-08-19T18:35:17.191886Z",
     "shell.execute_reply": "2025-08-19T18:35:17.191239Z"
    },
    "papermill": {
     "duration": 0.017655,
     "end_time": "2025-08-19T18:35:17.193083",
     "exception": false,
     "start_time": "2025-08-19T18:35:17.175428",
     "status": "completed"
    },
    "tags": []
   },
   "outputs": [],
   "source": [
    "n_drop = (~keep_mask).sum() # Calculates how many rows are set to be dropped\n",
    "if n_drop > 0:\n",
    "    pct = n_drop / len(keep_mask) * 100\n",
    "    print(f\"Dropping {n_drop} rows ({pct:.2f}%) where mode='{mode}'\")"
   ]
  },
  {
   "cell_type": "code",
   "execution_count": 30,
   "id": "f44389b3",
   "metadata": {
    "execution": {
     "iopub.execute_input": "2025-08-19T18:35:17.223195Z",
     "iopub.status.busy": "2025-08-19T18:35:17.222745Z",
     "iopub.status.idle": "2025-08-19T18:35:17.230291Z",
     "shell.execute_reply": "2025-08-19T18:35:17.229656Z"
    },
    "papermill": {
     "duration": 0.023569,
     "end_time": "2025-08-19T18:35:17.231463",
     "exception": false,
     "start_time": "2025-08-19T18:35:17.207894",
     "status": "completed"
    },
    "tags": []
   },
   "outputs": [],
   "source": [
    "X_train = X_train[keep_mask]"
   ]
  },
  {
   "cell_type": "code",
   "execution_count": 31,
   "id": "ceca8c2a",
   "metadata": {
    "execution": {
     "iopub.execute_input": "2025-08-19T18:35:17.256270Z",
     "iopub.status.busy": "2025-08-19T18:35:17.256035Z",
     "iopub.status.idle": "2025-08-19T18:35:17.261103Z",
     "shell.execute_reply": "2025-08-19T18:35:17.260418Z"
    },
    "papermill": {
     "duration": 0.02075,
     "end_time": "2025-08-19T18:35:17.265289",
     "exception": false,
     "start_time": "2025-08-19T18:35:17.244539",
     "status": "completed"
    },
    "tags": []
   },
   "outputs": [],
   "source": [
    "y_train = y_train[keep_mask]"
   ]
  },
  {
   "cell_type": "markdown",
   "id": "04d31e2f",
   "metadata": {
    "papermill": {
     "duration": 0.011121,
     "end_time": "2025-08-19T18:35:17.291257",
     "exception": false,
     "start_time": "2025-08-19T18:35:17.280136",
     "status": "completed"
    },
    "tags": []
   },
   "source": [
    "# Model Training"
   ]
  },
  {
   "cell_type": "code",
   "execution_count": 32,
   "id": "db991733",
   "metadata": {
    "execution": {
     "iopub.execute_input": "2025-08-19T18:35:17.318473Z",
     "iopub.status.busy": "2025-08-19T18:35:17.318037Z",
     "iopub.status.idle": "2025-08-19T18:35:17.439465Z",
     "shell.execute_reply": "2025-08-19T18:35:17.438727Z"
    },
    "papermill": {
     "duration": 0.138577,
     "end_time": "2025-08-19T18:35:17.442347",
     "exception": false,
     "start_time": "2025-08-19T18:35:17.303770",
     "status": "completed"
    },
    "tags": []
   },
   "outputs": [],
   "source": [
    "from sklearn.linear_model import LogisticRegression\n",
    "from sklearn.ensemble import GradientBoostingClassifier, RandomForestClassifier\n",
    "\n",
    "if (universe[\"model\"] == \"logreg\"):\n",
    "    model = LogisticRegression() #penalty=\"none\", solver=\"newton-cg\", max_iter=1)\n",
    "elif (universe[\"model\"] == \"penalized_logreg\"):\n",
    "    model = LogisticRegression(penalty=\"l2\", C=0.1) #, solver=\"newton-cg\", max_iter=1)\n",
    "elif (universe[\"model\"] == \"rf\"):\n",
    "    model = RandomForestClassifier() # n_estimators=100, n_jobs=-1\n",
    "elif (universe[\"model\"] == \"gbm\"):\n",
    "    model = GradientBoostingClassifier()\n",
    "elif (universe[\"model\"] == \"elasticnet\"):\n",
    "    model = LogisticRegression(penalty = 'elasticnet', solver = 'saga', l1_ratio = 0.5) # max_iter=5000\n",
    "else:\n",
    "    raise \"Unsupported universe.model\""
   ]
  },
  {
   "cell_type": "code",
   "execution_count": 33,
   "id": "a4b5cd25",
   "metadata": {
    "execution": {
     "iopub.execute_input": "2025-08-19T18:35:17.500248Z",
     "iopub.status.busy": "2025-08-19T18:35:17.497356Z",
     "iopub.status.idle": "2025-08-19T18:35:17.514738Z",
     "shell.execute_reply": "2025-08-19T18:35:17.513519Z"
    },
    "papermill": {
     "duration": 0.04813,
     "end_time": "2025-08-19T18:35:17.516858",
     "exception": false,
     "start_time": "2025-08-19T18:35:17.468728",
     "status": "completed"
    },
    "tags": []
   },
   "outputs": [],
   "source": [
    "from sklearn.pipeline import Pipeline\n",
    "from sklearn.preprocessing import StandardScaler\n",
    "\n",
    "model = Pipeline([\n",
    "    #(\"continuous_processor\", continuous_processor),\n",
    "    #(\"categorical_preprocessor\", categorical_preprocessor),\n",
    "    (\"scale\", StandardScaler() if universe[\"scale\"] == \"scale\" else None), \n",
    "    (\"model\", model),\n",
    "])"
   ]
  },
  {
   "cell_type": "code",
   "execution_count": 34,
   "id": "283a904d",
   "metadata": {
    "execution": {
     "iopub.execute_input": "2025-08-19T18:35:17.545110Z",
     "iopub.status.busy": "2025-08-19T18:35:17.543877Z",
     "iopub.status.idle": "2025-08-19T18:35:17.736624Z",
     "shell.execute_reply": "2025-08-19T18:35:17.735557Z"
    },
    "papermill": {
     "duration": 0.212318,
     "end_time": "2025-08-19T18:35:17.743475",
     "exception": false,
     "start_time": "2025-08-19T18:35:17.531157",
     "status": "completed"
    },
    "tags": []
   },
   "outputs": [
    {
     "name": "stderr",
     "output_type": "stream",
     "text": [
      "/dss/dsshome1/0C/ra93lal2/.local/share/virtualenvs/CMA_Fairness_v2-3j10GkSs/lib/python3.10/site-packages/sklearn/linear_model/_logistic.py:444: ConvergenceWarning: lbfgs failed to converge (status=1):\n",
      "STOP: TOTAL NO. of ITERATIONS REACHED LIMIT.\n",
      "\n",
      "Increase the number of iterations (max_iter) or scale the data as shown in:\n",
      "    https://scikit-learn.org/stable/modules/preprocessing.html\n",
      "Please also refer to the documentation for alternative solver options:\n",
      "    https://scikit-learn.org/stable/modules/linear_model.html#logistic-regression\n",
      "  n_iter_i = _check_optimize_result(\n"
     ]
    },
    {
     "data": {
      "text/html": [
       "<style>#sk-container-id-1 {color: black;background-color: white;}#sk-container-id-1 pre{padding: 0;}#sk-container-id-1 div.sk-toggleable {background-color: white;}#sk-container-id-1 label.sk-toggleable__label {cursor: pointer;display: block;width: 100%;margin-bottom: 0;padding: 0.3em;box-sizing: border-box;text-align: center;}#sk-container-id-1 label.sk-toggleable__label-arrow:before {content: \"▸\";float: left;margin-right: 0.25em;color: #696969;}#sk-container-id-1 label.sk-toggleable__label-arrow:hover:before {color: black;}#sk-container-id-1 div.sk-estimator:hover label.sk-toggleable__label-arrow:before {color: black;}#sk-container-id-1 div.sk-toggleable__content {max-height: 0;max-width: 0;overflow: hidden;text-align: left;background-color: #f0f8ff;}#sk-container-id-1 div.sk-toggleable__content pre {margin: 0.2em;color: black;border-radius: 0.25em;background-color: #f0f8ff;}#sk-container-id-1 input.sk-toggleable__control:checked~div.sk-toggleable__content {max-height: 200px;max-width: 100%;overflow: auto;}#sk-container-id-1 input.sk-toggleable__control:checked~label.sk-toggleable__label-arrow:before {content: \"▾\";}#sk-container-id-1 div.sk-estimator input.sk-toggleable__control:checked~label.sk-toggleable__label {background-color: #d4ebff;}#sk-container-id-1 div.sk-label input.sk-toggleable__control:checked~label.sk-toggleable__label {background-color: #d4ebff;}#sk-container-id-1 input.sk-hidden--visually {border: 0;clip: rect(1px 1px 1px 1px);clip: rect(1px, 1px, 1px, 1px);height: 1px;margin: -1px;overflow: hidden;padding: 0;position: absolute;width: 1px;}#sk-container-id-1 div.sk-estimator {font-family: monospace;background-color: #f0f8ff;border: 1px dotted black;border-radius: 0.25em;box-sizing: border-box;margin-bottom: 0.5em;}#sk-container-id-1 div.sk-estimator:hover {background-color: #d4ebff;}#sk-container-id-1 div.sk-parallel-item::after {content: \"\";width: 100%;border-bottom: 1px solid gray;flex-grow: 1;}#sk-container-id-1 div.sk-label:hover label.sk-toggleable__label {background-color: #d4ebff;}#sk-container-id-1 div.sk-serial::before {content: \"\";position: absolute;border-left: 1px solid gray;box-sizing: border-box;top: 0;bottom: 0;left: 50%;z-index: 0;}#sk-container-id-1 div.sk-serial {display: flex;flex-direction: column;align-items: center;background-color: white;padding-right: 0.2em;padding-left: 0.2em;position: relative;}#sk-container-id-1 div.sk-item {position: relative;z-index: 1;}#sk-container-id-1 div.sk-parallel {display: flex;align-items: stretch;justify-content: center;background-color: white;position: relative;}#sk-container-id-1 div.sk-item::before, #sk-container-id-1 div.sk-parallel-item::before {content: \"\";position: absolute;border-left: 1px solid gray;box-sizing: border-box;top: 0;bottom: 0;left: 50%;z-index: -1;}#sk-container-id-1 div.sk-parallel-item {display: flex;flex-direction: column;z-index: 1;position: relative;background-color: white;}#sk-container-id-1 div.sk-parallel-item:first-child::after {align-self: flex-end;width: 50%;}#sk-container-id-1 div.sk-parallel-item:last-child::after {align-self: flex-start;width: 50%;}#sk-container-id-1 div.sk-parallel-item:only-child::after {width: 0;}#sk-container-id-1 div.sk-dashed-wrapped {border: 1px dashed gray;margin: 0 0.4em 0.5em 0.4em;box-sizing: border-box;padding-bottom: 0.4em;background-color: white;}#sk-container-id-1 div.sk-label label {font-family: monospace;font-weight: bold;display: inline-block;line-height: 1.2em;}#sk-container-id-1 div.sk-label-container {text-align: center;}#sk-container-id-1 div.sk-container {/* jupyter's `normalize.less` sets `[hidden] { display: none; }` but bootstrap.min.css set `[hidden] { display: none !important; }` so we also need the `!important` here to be able to override the default hidden behavior on the sphinx rendered scikit-learn.org. See: https://github.com/scikit-learn/scikit-learn/issues/21755 */display: inline-block !important;position: relative;}#sk-container-id-1 div.sk-text-repr-fallback {display: none;}</style><div id=\"sk-container-id-1\" class=\"sk-top-container\"><div class=\"sk-text-repr-fallback\"><pre>Pipeline(steps=[(&#x27;scale&#x27;, None), (&#x27;model&#x27;, LogisticRegression())])</pre><b>In a Jupyter environment, please rerun this cell to show the HTML representation or trust the notebook. <br />On GitHub, the HTML representation is unable to render, please try loading this page with nbviewer.org.</b></div><div class=\"sk-container\" hidden><div class=\"sk-item sk-dashed-wrapped\"><div class=\"sk-label-container\"><div class=\"sk-label sk-toggleable\"><input class=\"sk-toggleable__control sk-hidden--visually\" id=\"sk-estimator-id-1\" type=\"checkbox\" ><label for=\"sk-estimator-id-1\" class=\"sk-toggleable__label sk-toggleable__label-arrow\">Pipeline</label><div class=\"sk-toggleable__content\"><pre>Pipeline(steps=[(&#x27;scale&#x27;, None), (&#x27;model&#x27;, LogisticRegression())])</pre></div></div></div><div class=\"sk-serial\"><div class=\"sk-item\"><div class=\"sk-estimator sk-toggleable\"><input class=\"sk-toggleable__control sk-hidden--visually\" id=\"sk-estimator-id-2\" type=\"checkbox\" ><label for=\"sk-estimator-id-2\" class=\"sk-toggleable__label sk-toggleable__label-arrow\">None</label><div class=\"sk-toggleable__content\"><pre>None</pre></div></div></div><div class=\"sk-item\"><div class=\"sk-estimator sk-toggleable\"><input class=\"sk-toggleable__control sk-hidden--visually\" id=\"sk-estimator-id-3\" type=\"checkbox\" ><label for=\"sk-estimator-id-3\" class=\"sk-toggleable__label sk-toggleable__label-arrow\">LogisticRegression</label><div class=\"sk-toggleable__content\"><pre>LogisticRegression()</pre></div></div></div></div></div></div></div>"
      ],
      "text/plain": [
       "Pipeline(steps=[('scale', None), ('model', LogisticRegression())])"
      ]
     },
     "execution_count": 34,
     "metadata": {},
     "output_type": "execute_result"
    }
   ],
   "source": [
    "model.fit(X_train, y_train.values.ravel())"
   ]
  },
  {
   "cell_type": "code",
   "execution_count": 35,
   "id": "6e15e313",
   "metadata": {
    "execution": {
     "iopub.execute_input": "2025-08-19T18:35:17.782042Z",
     "iopub.status.busy": "2025-08-19T18:35:17.780175Z",
     "iopub.status.idle": "2025-08-19T18:35:17.893973Z",
     "shell.execute_reply": "2025-08-19T18:35:17.892912Z"
    },
    "papermill": {
     "duration": 0.129121,
     "end_time": "2025-08-19T18:35:17.895522",
     "exception": false,
     "start_time": "2025-08-19T18:35:17.766401",
     "status": "completed"
    },
    "tags": []
   },
   "outputs": [
    {
     "data": {
      "text/plain": [
       "0.8625013933786646"
      ]
     },
     "execution_count": 35,
     "metadata": {},
     "output_type": "execute_result"
    }
   ],
   "source": [
    "from fairness_multiverse.universe import predict_w_threshold\n",
    "\n",
    "probs_test = model.predict_proba(X_test)\n",
    "\n",
    "'''\n",
    "Below code returns a boolean array (or binary 0/1 array depending on how it’s used) where each element \n",
    "is True if the probability of class 1 is greater than or equal to the threshold, and False otherwise.\n",
    "'''\n",
    "y_pred_default = predict_w_threshold(probs_test, 0.5)\n",
    "\n",
    "from sklearn.metrics import accuracy_score\n",
    "\n",
    "# Naive prediction\n",
    "accuracy_score(y_true = y_true, y_pred = y_pred_default)"
   ]
  },
  {
   "cell_type": "code",
   "execution_count": 36,
   "id": "6f14067c",
   "metadata": {
    "execution": {
     "iopub.execute_input": "2025-08-19T18:35:17.921929Z",
     "iopub.status.busy": "2025-08-19T18:35:17.920873Z",
     "iopub.status.idle": "2025-08-19T18:35:18.012581Z",
     "shell.execute_reply": "2025-08-19T18:35:18.011807Z"
    },
    "papermill": {
     "duration": 0.106763,
     "end_time": "2025-08-19T18:35:18.015571",
     "exception": false,
     "start_time": "2025-08-19T18:35:17.908808",
     "status": "completed"
    },
    "tags": []
   },
   "outputs": [
    {
     "data": {
      "text/plain": [
       "array([0, 0, 0, ..., 0, 0, 0])"
      ]
     },
     "execution_count": 36,
     "metadata": {},
     "output_type": "execute_result"
    }
   ],
   "source": [
    "model.predict(X_test)"
   ]
  },
  {
   "cell_type": "markdown",
   "id": "3759920c",
   "metadata": {
    "papermill": {
     "duration": 0.010925,
     "end_time": "2025-08-19T18:35:18.054381",
     "exception": false,
     "start_time": "2025-08-19T18:35:18.043456",
     "status": "completed"
    },
    "tags": []
   },
   "source": [
    "# Conformal Prediction"
   ]
  },
  {
   "cell_type": "code",
   "execution_count": 37,
   "id": "14b27f59",
   "metadata": {
    "execution": {
     "iopub.execute_input": "2025-08-19T18:35:18.080606Z",
     "iopub.status.busy": "2025-08-19T18:35:18.079243Z",
     "iopub.status.idle": "2025-08-19T18:35:18.086529Z",
     "shell.execute_reply": "2025-08-19T18:35:18.085303Z"
    },
    "papermill": {
     "duration": 0.021553,
     "end_time": "2025-08-19T18:35:18.088057",
     "exception": false,
     "start_time": "2025-08-19T18:35:18.066504",
     "status": "completed"
    },
    "tags": []
   },
   "outputs": [],
   "source": [
    "# Miscoverage level for conformal prediction (10% allowed error rate => 90% target coverage)\n",
    "alpha = 0.1"
   ]
  },
  {
   "cell_type": "code",
   "execution_count": 38,
   "id": "59102472",
   "metadata": {
    "execution": {
     "iopub.execute_input": "2025-08-19T18:35:18.113169Z",
     "iopub.status.busy": "2025-08-19T18:35:18.111751Z",
     "iopub.status.idle": "2025-08-19T18:35:18.203577Z",
     "shell.execute_reply": "2025-08-19T18:35:18.202794Z"
    },
    "papermill": {
     "duration": 0.10793,
     "end_time": "2025-08-19T18:35:18.207222",
     "exception": false,
     "start_time": "2025-08-19T18:35:18.099292",
     "status": "completed"
    },
    "tags": []
   },
   "outputs": [],
   "source": [
    "probs_calib = model.predict_proba(X_calib)"
   ]
  },
  {
   "cell_type": "code",
   "execution_count": 39,
   "id": "a792d4dd",
   "metadata": {
    "execution": {
     "iopub.execute_input": "2025-08-19T18:35:18.247006Z",
     "iopub.status.busy": "2025-08-19T18:35:18.246085Z",
     "iopub.status.idle": "2025-08-19T18:35:18.250902Z",
     "shell.execute_reply": "2025-08-19T18:35:18.250152Z"
    },
    "papermill": {
     "duration": 0.019062,
     "end_time": "2025-08-19T18:35:18.252114",
     "exception": false,
     "start_time": "2025-08-19T18:35:18.233052",
     "status": "completed"
    },
    "tags": []
   },
   "outputs": [],
   "source": [
    "y_calib = y_calib.values.ravel().astype(int)"
   ]
  },
  {
   "cell_type": "code",
   "execution_count": 40,
   "id": "650fd033",
   "metadata": {
    "execution": {
     "iopub.execute_input": "2025-08-19T18:35:18.278045Z",
     "iopub.status.busy": "2025-08-19T18:35:18.277585Z",
     "iopub.status.idle": "2025-08-19T18:35:18.283600Z",
     "shell.execute_reply": "2025-08-19T18:35:18.282990Z"
    },
    "papermill": {
     "duration": 0.020675,
     "end_time": "2025-08-19T18:35:18.285136",
     "exception": false,
     "start_time": "2025-08-19T18:35:18.264461",
     "status": "completed"
    },
    "tags": []
   },
   "outputs": [],
   "source": [
    "from fairness_multiverse.conformal import compute_nc_scores\n",
    "\n",
    "# Compute nonconformity scores on calibration set (1 - probability of true class)\n",
    "nc_scores = compute_nc_scores(probs_calib, y_calib)"
   ]
  },
  {
   "cell_type": "code",
   "execution_count": 41,
   "id": "28ada44c",
   "metadata": {
    "execution": {
     "iopub.execute_input": "2025-08-19T18:35:18.321649Z",
     "iopub.status.busy": "2025-08-19T18:35:18.320766Z",
     "iopub.status.idle": "2025-08-19T18:35:18.326133Z",
     "shell.execute_reply": "2025-08-19T18:35:18.325392Z"
    },
    "papermill": {
     "duration": 0.026299,
     "end_time": "2025-08-19T18:35:18.332629",
     "exception": false,
     "start_time": "2025-08-19T18:35:18.306330",
     "status": "completed"
    },
    "tags": []
   },
   "outputs": [],
   "source": [
    "from fairness_multiverse.conformal import find_threshold\n",
    "\n",
    "# Find conformal threshold q_hat for the given alpha (split conformal method)\n",
    "q_hat = find_threshold(nc_scores, alpha)"
   ]
  },
  {
   "cell_type": "code",
   "execution_count": 42,
   "id": "df56469e",
   "metadata": {
    "execution": {
     "iopub.execute_input": "2025-08-19T18:35:18.357727Z",
     "iopub.status.busy": "2025-08-19T18:35:18.356982Z",
     "iopub.status.idle": "2025-08-19T18:35:18.396038Z",
     "shell.execute_reply": "2025-08-19T18:35:18.395104Z"
    },
    "papermill": {
     "duration": 0.05427,
     "end_time": "2025-08-19T18:35:18.398470",
     "exception": false,
     "start_time": "2025-08-19T18:35:18.344200",
     "status": "completed"
    },
    "tags": []
   },
   "outputs": [
    {
     "data": {
      "text/plain": [
       "0.6825420278373819"
      ]
     },
     "execution_count": 42,
     "metadata": {},
     "output_type": "execute_result"
    }
   ],
   "source": [
    "q_hat"
   ]
  },
  {
   "cell_type": "code",
   "execution_count": 43,
   "id": "aa1f5faa",
   "metadata": {
    "execution": {
     "iopub.execute_input": "2025-08-19T18:35:18.438037Z",
     "iopub.status.busy": "2025-08-19T18:35:18.437729Z",
     "iopub.status.idle": "2025-08-19T18:35:19.059056Z",
     "shell.execute_reply": "2025-08-19T18:35:19.057801Z"
    },
    "papermill": {
     "duration": 0.637718,
     "end_time": "2025-08-19T18:35:19.060852",
     "exception": false,
     "start_time": "2025-08-19T18:35:18.423134",
     "status": "completed"
    },
    "tags": []
   },
   "outputs": [],
   "source": [
    "from fairness_multiverse.conformal import predict_conformal_sets\n",
    "\n",
    "# Generate prediction sets for each test example\n",
    "pred_sets = predict_conformal_sets(model, X_test, q_hat)"
   ]
  },
  {
   "cell_type": "code",
   "execution_count": 44,
   "id": "97f67a6b",
   "metadata": {
    "execution": {
     "iopub.execute_input": "2025-08-19T18:35:19.092070Z",
     "iopub.status.busy": "2025-08-19T18:35:19.090581Z",
     "iopub.status.idle": "2025-08-19T18:35:19.101005Z",
     "shell.execute_reply": "2025-08-19T18:35:19.099700Z"
    },
    "papermill": {
     "duration": 0.026645,
     "end_time": "2025-08-19T18:35:19.102466",
     "exception": false,
     "start_time": "2025-08-19T18:35:19.075821",
     "status": "completed"
    },
    "tags": []
   },
   "outputs": [],
   "source": [
    "y_true = y_true.squeeze()"
   ]
  },
  {
   "cell_type": "code",
   "execution_count": 45,
   "id": "e700e9a7",
   "metadata": {
    "execution": {
     "iopub.execute_input": "2025-08-19T18:35:19.151463Z",
     "iopub.status.busy": "2025-08-19T18:35:19.150039Z",
     "iopub.status.idle": "2025-08-19T18:35:19.684423Z",
     "shell.execute_reply": "2025-08-19T18:35:19.683211Z"
    },
    "papermill": {
     "duration": 0.563442,
     "end_time": "2025-08-19T18:35:19.686228",
     "exception": false,
     "start_time": "2025-08-19T18:35:19.122786",
     "status": "completed"
    },
    "tags": []
   },
   "outputs": [],
   "source": [
    "from fairness_multiverse.conformal import evaluate_sets\n",
    "\n",
    "# Evaluate coverage and average set size on test data\n",
    "metrics = evaluate_sets(pred_sets, y_true)"
   ]
  },
  {
   "cell_type": "markdown",
   "id": "efbacec0",
   "metadata": {
    "papermill": {
     "duration": 0.011253,
     "end_time": "2025-08-19T18:35:19.709607",
     "exception": false,
     "start_time": "2025-08-19T18:35:19.698354",
     "status": "completed"
    },
    "tags": []
   },
   "source": [
    "# CP Metrics"
   ]
  },
  {
   "cell_type": "code",
   "execution_count": 46,
   "id": "9de55fb1",
   "metadata": {
    "execution": {
     "iopub.execute_input": "2025-08-19T18:35:19.735488Z",
     "iopub.status.busy": "2025-08-19T18:35:19.734480Z",
     "iopub.status.idle": "2025-08-19T18:35:19.748257Z",
     "shell.execute_reply": "2025-08-19T18:35:19.747119Z"
    },
    "papermill": {
     "duration": 0.028824,
     "end_time": "2025-08-19T18:35:19.749664",
     "exception": false,
     "start_time": "2025-08-19T18:35:19.720840",
     "status": "completed"
    },
    "tags": []
   },
   "outputs": [
    {
     "data": {
      "text/plain": [
       "{'coverage': 0.9115594694014045, 'avg_size': 1.204168988964441}"
      ]
     },
     "execution_count": 46,
     "metadata": {},
     "output_type": "execute_result"
    }
   ],
   "source": [
    "metrics"
   ]
  },
  {
   "cell_type": "code",
   "execution_count": 47,
   "id": "64c340a1",
   "metadata": {
    "execution": {
     "iopub.execute_input": "2025-08-19T18:35:19.782515Z",
     "iopub.status.busy": "2025-08-19T18:35:19.781507Z",
     "iopub.status.idle": "2025-08-19T18:35:19.792511Z",
     "shell.execute_reply": "2025-08-19T18:35:19.790871Z"
    },
    "papermill": {
     "duration": 0.026332,
     "end_time": "2025-08-19T18:35:19.793991",
     "exception": false,
     "start_time": "2025-08-19T18:35:19.767659",
     "status": "completed"
    },
    "tags": []
   },
   "outputs": [],
   "source": [
    "example_universe = universe.copy()\n",
    "universe_training_year = example_universe.get(\"training_year\")\n",
    "universe_training_size = example_universe.get(\"training_size\")\n",
    "universe_scale = example_universe.get(\"scale\")\n",
    "universe_model = example_universe.get(\"model\")\n",
    "universe_exclude_features = example_universe.get(\"exclude_features\")\n",
    "universe_exclude_subgroups = example_universe.get(\"exclude_subgroups\")"
   ]
  },
  {
   "cell_type": "code",
   "execution_count": 48,
   "id": "dbb53cb4",
   "metadata": {
    "execution": {
     "iopub.execute_input": "2025-08-19T18:35:19.824592Z",
     "iopub.status.busy": "2025-08-19T18:35:19.823484Z",
     "iopub.status.idle": "2025-08-19T18:35:19.832446Z",
     "shell.execute_reply": "2025-08-19T18:35:19.831311Z"
    },
    "papermill": {
     "duration": 0.024446,
     "end_time": "2025-08-19T18:35:19.833853",
     "exception": false,
     "start_time": "2025-08-19T18:35:19.809407",
     "status": "completed"
    },
    "tags": []
   },
   "outputs": [],
   "source": [
    "cp_metrics_dict = {\n",
    "    \"universe_id\": [universe_id],\n",
    "    \"universe_training_year\": [universe_training_year],\n",
    "    \"universe_training_size\": [universe_training_size],\n",
    "    \"universe_scale\": [universe_scale],\n",
    "    \"universe_model\": [universe_model],\n",
    "    \"universe_exclude_features\": [universe_exclude_features],\n",
    "    \"universe_exclude_subgroups\": [universe_exclude_subgroups],\n",
    "    \"q_hat\": [q_hat],\n",
    "    \"coverage\": [metrics[\"coverage\"]],\n",
    "    \"avg_size\": [metrics[\"avg_size\"]],\n",
    "}"
   ]
  },
  {
   "cell_type": "code",
   "execution_count": 49,
   "id": "0d70d4b2",
   "metadata": {
    "execution": {
     "iopub.execute_input": "2025-08-19T18:35:19.862536Z",
     "iopub.status.busy": "2025-08-19T18:35:19.861951Z",
     "iopub.status.idle": "2025-08-19T18:35:19.868180Z",
     "shell.execute_reply": "2025-08-19T18:35:19.867531Z"
    },
    "papermill": {
     "duration": 0.020818,
     "end_time": "2025-08-19T18:35:19.869154",
     "exception": false,
     "start_time": "2025-08-19T18:35:19.848336",
     "status": "completed"
    },
    "tags": []
   },
   "outputs": [],
   "source": [
    "cp_metrics_df = pd.DataFrame(cp_metrics_dict)"
   ]
  },
  {
   "cell_type": "code",
   "execution_count": 50,
   "id": "b494403c",
   "metadata": {
    "execution": {
     "iopub.execute_input": "2025-08-19T18:35:19.898090Z",
     "iopub.status.busy": "2025-08-19T18:35:19.897122Z",
     "iopub.status.idle": "2025-08-19T18:35:19.921627Z",
     "shell.execute_reply": "2025-08-19T18:35:19.920791Z"
    },
    "papermill": {
     "duration": 0.039776,
     "end_time": "2025-08-19T18:35:19.923196",
     "exception": false,
     "start_time": "2025-08-19T18:35:19.883420",
     "status": "completed"
    },
    "tags": []
   },
   "outputs": [
    {
     "data": {
      "text/html": [
       "<div>\n",
       "<style scoped>\n",
       "    .dataframe tbody tr th:only-of-type {\n",
       "        vertical-align: middle;\n",
       "    }\n",
       "\n",
       "    .dataframe tbody tr th {\n",
       "        vertical-align: top;\n",
       "    }\n",
       "\n",
       "    .dataframe thead th {\n",
       "        text-align: right;\n",
       "    }\n",
       "</style>\n",
       "<table border=\"1\" class=\"dataframe\">\n",
       "  <thead>\n",
       "    <tr style=\"text-align: right;\">\n",
       "      <th></th>\n",
       "      <th>universe_id</th>\n",
       "      <th>universe_training_year</th>\n",
       "      <th>universe_training_size</th>\n",
       "      <th>universe_scale</th>\n",
       "      <th>universe_model</th>\n",
       "      <th>universe_exclude_features</th>\n",
       "      <th>universe_exclude_subgroups</th>\n",
       "      <th>q_hat</th>\n",
       "      <th>coverage</th>\n",
       "      <th>avg_size</th>\n",
       "    </tr>\n",
       "  </thead>\n",
       "  <tbody>\n",
       "    <tr>\n",
       "      <th>0</th>\n",
       "      <td>83efe45945cb1e3c29cd26bce321c0bd</td>\n",
       "      <td>2012_14</td>\n",
       "      <td>5k</td>\n",
       "      <td>do-not-scale</td>\n",
       "      <td>logreg</td>\n",
       "      <td>nationality</td>\n",
       "      <td>keep-all</td>\n",
       "      <td>0.682542</td>\n",
       "      <td>0.911559</td>\n",
       "      <td>1.204169</td>\n",
       "    </tr>\n",
       "  </tbody>\n",
       "</table>\n",
       "</div>"
      ],
      "text/plain": [
       "                        universe_id universe_training_year  \\\n",
       "0  83efe45945cb1e3c29cd26bce321c0bd                2012_14   \n",
       "\n",
       "  universe_training_size universe_scale universe_model  \\\n",
       "0                     5k   do-not-scale         logreg   \n",
       "\n",
       "  universe_exclude_features universe_exclude_subgroups     q_hat  coverage  \\\n",
       "0               nationality                   keep-all  0.682542  0.911559   \n",
       "\n",
       "   avg_size  \n",
       "0  1.204169  "
      ]
     },
     "execution_count": 50,
     "metadata": {},
     "output_type": "execute_result"
    }
   ],
   "source": [
    "cp_metrics_df"
   ]
  },
  {
   "cell_type": "markdown",
   "id": "ed608b0b",
   "metadata": {
    "papermill": {
     "duration": 0.011915,
     "end_time": "2025-08-19T18:35:19.956089",
     "exception": false,
     "start_time": "2025-08-19T18:35:19.944174",
     "status": "completed"
    },
    "tags": []
   },
   "source": [
    "Conditional coverage & looking at subgroups"
   ]
  },
  {
   "cell_type": "code",
   "execution_count": 51,
   "id": "8968c366",
   "metadata": {
    "execution": {
     "iopub.execute_input": "2025-08-19T18:35:19.982092Z",
     "iopub.status.busy": "2025-08-19T18:35:19.981055Z",
     "iopub.status.idle": "2025-08-19T18:35:20.285561Z",
     "shell.execute_reply": "2025-08-19T18:35:20.284692Z"
    },
    "papermill": {
     "duration": 0.320235,
     "end_time": "2025-08-19T18:35:20.287967",
     "exception": false,
     "start_time": "2025-08-19T18:35:19.967732",
     "status": "completed"
    },
    "tags": []
   },
   "outputs": [],
   "source": [
    "from fairness_multiverse.conformal import build_cp_groups\n",
    "\n",
    "cp_groups_df = build_cp_groups(pred_sets, y_true, X_test.index, org_test)"
   ]
  },
  {
   "cell_type": "code",
   "execution_count": 52,
   "id": "292ddabf",
   "metadata": {
    "execution": {
     "iopub.execute_input": "2025-08-19T18:35:20.333655Z",
     "iopub.status.busy": "2025-08-19T18:35:20.333183Z",
     "iopub.status.idle": "2025-08-19T18:35:21.202062Z",
     "shell.execute_reply": "2025-08-19T18:35:21.200868Z"
    },
    "papermill": {
     "duration": 0.888857,
     "end_time": "2025-08-19T18:35:21.203844",
     "exception": false,
     "start_time": "2025-08-19T18:35:20.314987",
     "status": "completed"
    },
    "tags": []
   },
   "outputs": [],
   "source": [
    "# Define covered = 1 if true_label is in the predicted set\n",
    "cp_groups_df['covered'] = cp_groups_df.apply(\n",
    "    lambda r: int(r['true_label'] in r['pred_set']),\n",
    "    axis=1\n",
    ")"
   ]
  },
  {
   "cell_type": "code",
   "execution_count": 53,
   "id": "3a261692",
   "metadata": {
    "execution": {
     "iopub.execute_input": "2025-08-19T18:35:21.230202Z",
     "iopub.status.busy": "2025-08-19T18:35:21.229539Z",
     "iopub.status.idle": "2025-08-19T18:35:21.250824Z",
     "shell.execute_reply": "2025-08-19T18:35:21.249933Z"
    },
    "papermill": {
     "duration": 0.03632,
     "end_time": "2025-08-19T18:35:21.252532",
     "exception": false,
     "start_time": "2025-08-19T18:35:21.216212",
     "status": "completed"
    },
    "tags": []
   },
   "outputs": [],
   "source": [
    "subgroups = ['frau1','nongerman','nongerman_male','nongerman_female']\n",
    "\n",
    "# Conditional coverage for subgroup==1\n",
    "cond_coverage = {\n",
    "    g: cp_groups_df.loc[cp_groups_df[g]==1, 'covered'].mean()\n",
    "    for g in subgroups\n",
    "}"
   ]
  },
  {
   "cell_type": "code",
   "execution_count": 54,
   "id": "894fd600",
   "metadata": {
    "execution": {
     "iopub.execute_input": "2025-08-19T18:35:21.291405Z",
     "iopub.status.busy": "2025-08-19T18:35:21.290255Z",
     "iopub.status.idle": "2025-08-19T18:35:21.301417Z",
     "shell.execute_reply": "2025-08-19T18:35:21.300141Z"
    },
    "papermill": {
     "duration": 0.027742,
     "end_time": "2025-08-19T18:35:21.303093",
     "exception": false,
     "start_time": "2025-08-19T18:35:21.275351",
     "status": "completed"
    },
    "tags": []
   },
   "outputs": [
    {
     "data": {
      "text/plain": [
       "{'frau1': 0.9081547378352878,\n",
       " 'nongerman': 0.9314545556615955,\n",
       " 'nongerman_male': 0.9443393677384491,\n",
       " 'nongerman_female': 0.9101341281669151}"
      ]
     },
     "execution_count": 54,
     "metadata": {},
     "output_type": "execute_result"
    }
   ],
   "source": [
    "cond_coverage"
   ]
  },
  {
   "cell_type": "code",
   "execution_count": 55,
   "id": "942895c7",
   "metadata": {
    "execution": {
     "iopub.execute_input": "2025-08-19T18:35:21.333884Z",
     "iopub.status.busy": "2025-08-19T18:35:21.332723Z",
     "iopub.status.idle": "2025-08-19T18:35:21.343864Z",
     "shell.execute_reply": "2025-08-19T18:35:21.342886Z"
    },
    "papermill": {
     "duration": 0.025839,
     "end_time": "2025-08-19T18:35:21.345217",
     "exception": false,
     "start_time": "2025-08-19T18:35:21.319378",
     "status": "completed"
    },
    "tags": []
   },
   "outputs": [],
   "source": [
    "for subgroup, cov in cond_coverage.items():\n",
    "    cp_metrics_df[f\"cov_{subgroup}\"] = cov"
   ]
  },
  {
   "cell_type": "code",
   "execution_count": 56,
   "id": "3970120f",
   "metadata": {
    "execution": {
     "iopub.execute_input": "2025-08-19T18:35:21.378406Z",
     "iopub.status.busy": "2025-08-19T18:35:21.377351Z",
     "iopub.status.idle": "2025-08-19T18:35:21.403505Z",
     "shell.execute_reply": "2025-08-19T18:35:21.402723Z"
    },
    "papermill": {
     "duration": 0.042119,
     "end_time": "2025-08-19T18:35:21.405104",
     "exception": false,
     "start_time": "2025-08-19T18:35:21.362985",
     "status": "completed"
    },
    "tags": []
   },
   "outputs": [
    {
     "data": {
      "text/html": [
       "<div>\n",
       "<style scoped>\n",
       "    .dataframe tbody tr th:only-of-type {\n",
       "        vertical-align: middle;\n",
       "    }\n",
       "\n",
       "    .dataframe tbody tr th {\n",
       "        vertical-align: top;\n",
       "    }\n",
       "\n",
       "    .dataframe thead th {\n",
       "        text-align: right;\n",
       "    }\n",
       "</style>\n",
       "<table border=\"1\" class=\"dataframe\">\n",
       "  <thead>\n",
       "    <tr style=\"text-align: right;\">\n",
       "      <th></th>\n",
       "      <th>universe_id</th>\n",
       "      <th>universe_training_year</th>\n",
       "      <th>universe_training_size</th>\n",
       "      <th>universe_scale</th>\n",
       "      <th>universe_model</th>\n",
       "      <th>universe_exclude_features</th>\n",
       "      <th>universe_exclude_subgroups</th>\n",
       "      <th>q_hat</th>\n",
       "      <th>coverage</th>\n",
       "      <th>avg_size</th>\n",
       "      <th>cov_frau1</th>\n",
       "      <th>cov_nongerman</th>\n",
       "      <th>cov_nongerman_male</th>\n",
       "      <th>cov_nongerman_female</th>\n",
       "    </tr>\n",
       "  </thead>\n",
       "  <tbody>\n",
       "    <tr>\n",
       "      <th>0</th>\n",
       "      <td>83efe45945cb1e3c29cd26bce321c0bd</td>\n",
       "      <td>2012_14</td>\n",
       "      <td>5k</td>\n",
       "      <td>do-not-scale</td>\n",
       "      <td>logreg</td>\n",
       "      <td>nationality</td>\n",
       "      <td>keep-all</td>\n",
       "      <td>0.682542</td>\n",
       "      <td>0.911559</td>\n",
       "      <td>1.204169</td>\n",
       "      <td>0.908155</td>\n",
       "      <td>0.931455</td>\n",
       "      <td>0.944339</td>\n",
       "      <td>0.910134</td>\n",
       "    </tr>\n",
       "  </tbody>\n",
       "</table>\n",
       "</div>"
      ],
      "text/plain": [
       "                        universe_id universe_training_year  \\\n",
       "0  83efe45945cb1e3c29cd26bce321c0bd                2012_14   \n",
       "\n",
       "  universe_training_size universe_scale universe_model  \\\n",
       "0                     5k   do-not-scale         logreg   \n",
       "\n",
       "  universe_exclude_features universe_exclude_subgroups     q_hat  coverage  \\\n",
       "0               nationality                   keep-all  0.682542  0.911559   \n",
       "\n",
       "   avg_size  cov_frau1  cov_nongerman  cov_nongerman_male  \\\n",
       "0  1.204169   0.908155       0.931455            0.944339   \n",
       "\n",
       "   cov_nongerman_female  \n",
       "0              0.910134  "
      ]
     },
     "execution_count": 56,
     "metadata": {},
     "output_type": "execute_result"
    }
   ],
   "source": [
    "cp_metrics_df"
   ]
  },
  {
   "cell_type": "markdown",
   "id": "3fc519cc",
   "metadata": {
    "papermill": {
     "duration": 0.01264,
     "end_time": "2025-08-19T18:35:21.439864",
     "exception": false,
     "start_time": "2025-08-19T18:35:21.427224",
     "status": "completed"
    },
    "tags": []
   },
   "source": [
    "# (Fairness) Metrics"
   ]
  },
  {
   "cell_type": "code",
   "execution_count": 57,
   "id": "a2e5e155",
   "metadata": {
    "execution": {
     "iopub.execute_input": "2025-08-19T18:35:21.465258Z",
     "iopub.status.busy": "2025-08-19T18:35:21.464842Z",
     "iopub.status.idle": "2025-08-19T18:35:21.480905Z",
     "shell.execute_reply": "2025-08-19T18:35:21.480207Z"
    },
    "papermill": {
     "duration": 0.030564,
     "end_time": "2025-08-19T18:35:21.482257",
     "exception": false,
     "start_time": "2025-08-19T18:35:21.451693",
     "status": "completed"
    },
    "tags": []
   },
   "outputs": [],
   "source": [
    "colname_to_bin = \"maxdeutsch1\"\n",
    "majority_value = org_train[colname_to_bin].mode()[0]\n",
    "\n",
    "org_test[\"majmin\"] = np.where(org_test[colname_to_bin] == majority_value, \"majority\", \"minority\")"
   ]
  },
  {
   "cell_type": "code",
   "execution_count": 58,
   "id": "17e3e4d5",
   "metadata": {
    "execution": {
     "iopub.execute_input": "2025-08-19T18:35:21.519580Z",
     "iopub.status.busy": "2025-08-19T18:35:21.518337Z",
     "iopub.status.idle": "2025-08-19T18:35:23.291595Z",
     "shell.execute_reply": "2025-08-19T18:35:23.290231Z"
    },
    "papermill": {
     "duration": 1.790333,
     "end_time": "2025-08-19T18:35:23.293474",
     "exception": false,
     "start_time": "2025-08-19T18:35:21.503141",
     "status": "completed"
    },
    "tags": []
   },
   "outputs": [],
   "source": [
    "example_universe = universe.copy()\n",
    "example_universe[\"cutoff\"] = example_universe[\"cutoff\"][0]\n",
    "example_universe[\"eval_fairness_grouping\"] = example_universe[\"eval_fairness_grouping\"][0]\n",
    "fairness_dict, metric_frame = universe_analysis.compute_metrics(\n",
    "    example_universe,\n",
    "    y_pred_prob=probs_test,\n",
    "    y_test=y_true,\n",
    "    org_test=org_test,\n",
    ")"
   ]
  },
  {
   "cell_type": "markdown",
   "id": "1fb7a0e9",
   "metadata": {
    "papermill": {
     "duration": 0.012756,
     "end_time": "2025-08-19T18:35:23.320898",
     "exception": false,
     "start_time": "2025-08-19T18:35:23.308142",
     "status": "completed"
    },
    "tags": []
   },
   "source": [
    "# Overall"
   ]
  },
  {
   "cell_type": "markdown",
   "id": "be1784b1",
   "metadata": {
    "papermill": {
     "duration": 0.012023,
     "end_time": "2025-08-19T18:35:23.344977",
     "exception": false,
     "start_time": "2025-08-19T18:35:23.332954",
     "status": "completed"
    },
    "tags": []
   },
   "source": [
    "Main fairness target: Equalized Odds. Seems to be a better fit than equal opportunity, since we're not only interested in Y = 1. Seems to be a better fit than demographic parity, since we also care about accuracy, not just equal distribution of preds.\n",
    "\n",
    "Pick column for computation of fairness metrics\n",
    "\n",
    "Performance\n",
    "Overall performance measures, most interesting in relation to the measures split by group below"
   ]
  },
  {
   "cell_type": "code",
   "execution_count": 59,
   "id": "b7672bee",
   "metadata": {
    "execution": {
     "iopub.execute_input": "2025-08-19T18:35:23.371119Z",
     "iopub.status.busy": "2025-08-19T18:35:23.370631Z",
     "iopub.status.idle": "2025-08-19T18:35:23.378730Z",
     "shell.execute_reply": "2025-08-19T18:35:23.377933Z"
    },
    "papermill": {
     "duration": 0.022563,
     "end_time": "2025-08-19T18:35:23.379929",
     "exception": false,
     "start_time": "2025-08-19T18:35:23.357366",
     "status": "completed"
    },
    "tags": []
   },
   "outputs": [
    {
     "data": {
      "text/plain": [
       "accuracy                   0.218649\n",
       "balanced accuracy          0.535826\n",
       "f1                         0.240138\n",
       "precision                  0.137183\n",
       "false positive rate        0.890808\n",
       "false negative rate        0.037539\n",
       "selection rate             0.900000\n",
       "count                  89710.000000\n",
       "dtype: float64"
      ]
     },
     "execution_count": 59,
     "metadata": {},
     "output_type": "execute_result"
    }
   ],
   "source": [
    "metric_frame.overall"
   ]
  },
  {
   "cell_type": "markdown",
   "id": "d93333c9",
   "metadata": {
    "papermill": {
     "duration": 0.01229,
     "end_time": "2025-08-19T18:35:23.407086",
     "exception": false,
     "start_time": "2025-08-19T18:35:23.394796",
     "status": "completed"
    },
    "tags": []
   },
   "source": [
    "By Group"
   ]
  },
  {
   "cell_type": "code",
   "execution_count": 60,
   "id": "52256966",
   "metadata": {
    "execution": {
     "iopub.execute_input": "2025-08-19T18:35:23.433155Z",
     "iopub.status.busy": "2025-08-19T18:35:23.432407Z",
     "iopub.status.idle": "2025-08-19T18:35:23.445180Z",
     "shell.execute_reply": "2025-08-19T18:35:23.444362Z"
    },
    "papermill": {
     "duration": 0.027137,
     "end_time": "2025-08-19T18:35:23.446380",
     "exception": false,
     "start_time": "2025-08-19T18:35:23.419243",
     "status": "completed"
    },
    "tags": []
   },
   "outputs": [
    {
     "data": {
      "text/html": [
       "<div>\n",
       "<style scoped>\n",
       "    .dataframe tbody tr th:only-of-type {\n",
       "        vertical-align: middle;\n",
       "    }\n",
       "\n",
       "    .dataframe tbody tr th {\n",
       "        vertical-align: top;\n",
       "    }\n",
       "\n",
       "    .dataframe thead th {\n",
       "        text-align: right;\n",
       "    }\n",
       "</style>\n",
       "<table border=\"1\" class=\"dataframe\">\n",
       "  <thead>\n",
       "    <tr style=\"text-align: right;\">\n",
       "      <th></th>\n",
       "      <th>accuracy</th>\n",
       "      <th>balanced accuracy</th>\n",
       "      <th>f1</th>\n",
       "      <th>precision</th>\n",
       "      <th>false positive rate</th>\n",
       "      <th>false negative rate</th>\n",
       "      <th>selection rate</th>\n",
       "      <th>count</th>\n",
       "    </tr>\n",
       "    <tr>\n",
       "      <th>majmin</th>\n",
       "      <th></th>\n",
       "      <th></th>\n",
       "      <th></th>\n",
       "      <th></th>\n",
       "      <th></th>\n",
       "      <th></th>\n",
       "      <th></th>\n",
       "      <th></th>\n",
       "    </tr>\n",
       "  </thead>\n",
       "  <tbody>\n",
       "    <tr>\n",
       "      <th>majority</th>\n",
       "      <td>0.24035</td>\n",
       "      <td>0.544072</td>\n",
       "      <td>0.249754</td>\n",
       "      <td>0.143620</td>\n",
       "      <td>0.868749</td>\n",
       "      <td>0.043107</td>\n",
       "      <td>0.880396</td>\n",
       "      <td>69170.0</td>\n",
       "    </tr>\n",
       "    <tr>\n",
       "      <th>minority</th>\n",
       "      <td>0.14557</td>\n",
       "      <td>0.510136</td>\n",
       "      <td>0.209815</td>\n",
       "      <td>0.117428</td>\n",
       "      <td>0.963680</td>\n",
       "      <td>0.016047</td>\n",
       "      <td>0.966018</td>\n",
       "      <td>20540.0</td>\n",
       "    </tr>\n",
       "  </tbody>\n",
       "</table>\n",
       "</div>"
      ],
      "text/plain": [
       "          accuracy  balanced accuracy        f1  precision  \\\n",
       "majmin                                                       \n",
       "majority   0.24035           0.544072  0.249754   0.143620   \n",
       "minority   0.14557           0.510136  0.209815   0.117428   \n",
       "\n",
       "          false positive rate  false negative rate  selection rate    count  \n",
       "majmin                                                                       \n",
       "majority             0.868749             0.043107        0.880396  69170.0  \n",
       "minority             0.963680             0.016047        0.966018  20540.0  "
      ]
     },
     "execution_count": 60,
     "metadata": {},
     "output_type": "execute_result"
    }
   ],
   "source": [
    "metric_frame.by_group"
   ]
  },
  {
   "cell_type": "code",
   "execution_count": 61,
   "id": "6e6c20ae",
   "metadata": {
    "execution": {
     "iopub.execute_input": "2025-08-19T18:35:23.473444Z",
     "iopub.status.busy": "2025-08-19T18:35:23.472878Z",
     "iopub.status.idle": "2025-08-19T18:35:25.420524Z",
     "shell.execute_reply": "2025-08-19T18:35:25.419014Z"
    },
    "papermill": {
     "duration": 1.962762,
     "end_time": "2025-08-19T18:35:25.421803",
     "exception": false,
     "start_time": "2025-08-19T18:35:23.459041",
     "status": "completed"
    },
    "tags": []
   },
   "outputs": [
    {
     "data": {
      "text/plain": [
       "array([[<Axes: title={'center': 'accuracy'}, xlabel='majmin'>,\n",
       "        <Axes: title={'center': 'balanced accuracy'}, xlabel='majmin'>,\n",
       "        <Axes: title={'center': 'f1'}, xlabel='majmin'>],\n",
       "       [<Axes: title={'center': 'precision'}, xlabel='majmin'>,\n",
       "        <Axes: title={'center': 'false positive rate'}, xlabel='majmin'>,\n",
       "        <Axes: title={'center': 'false negative rate'}, xlabel='majmin'>],\n",
       "       [<Axes: title={'center': 'selection rate'}, xlabel='majmin'>,\n",
       "        <Axes: title={'center': 'count'}, xlabel='majmin'>,\n",
       "        <Axes: xlabel='majmin'>]], dtype=object)"
      ]
     },
     "execution_count": 61,
     "metadata": {},
     "output_type": "execute_result"
    },
    {
     "data": {
      "image/png": "[encoded data removed]",
      "text/plain": [
       "<Figure size 1200x800 with 9 Axes>"
      ]
     },
     "metadata": {},
     "output_type": "display_data"
    }
   ],
   "source": [
    "# In a graphic\n",
    "metric_frame.by_group.plot.bar(\n",
    "    subplots=True,\n",
    "    layout=[3, 3],\n",
    "    legend=False,\n",
    "    figsize=[12, 8],\n",
    "    title=\"Show all metrics\",\n",
    ")"
   ]
  },
  {
   "cell_type": "markdown",
   "id": "b2e433ae",
   "metadata": {
    "papermill": {
     "duration": 0.013387,
     "end_time": "2025-08-19T18:35:25.449464",
     "exception": false,
     "start_time": "2025-08-19T18:35:25.436077",
     "status": "completed"
    },
    "tags": []
   },
   "source": [
    "# Final Output"
   ]
  },
  {
   "cell_type": "code",
   "execution_count": 62,
   "id": "3871301e",
   "metadata": {
    "execution": {
     "iopub.execute_input": "2025-08-19T18:35:25.478110Z",
     "iopub.status.busy": "2025-08-19T18:35:25.477376Z",
     "iopub.status.idle": "2025-08-19T18:35:25.486757Z",
     "shell.execute_reply": "2025-08-19T18:35:25.486080Z"
    },
    "papermill": {
     "duration": 0.025292,
     "end_time": "2025-08-19T18:35:25.488059",
     "exception": false,
     "start_time": "2025-08-19T18:35:25.462767",
     "status": "completed"
    },
    "tags": []
   },
   "outputs": [
    {
     "data": {
      "text/plain": [
       "4"
      ]
     },
     "execution_count": 62,
     "metadata": {},
     "output_type": "execute_result"
    }
   ],
   "source": [
    "sub_universes = universe_analysis.generate_sub_universes()\n",
    "len(sub_universes)"
   ]
  },
  {
   "cell_type": "code",
   "execution_count": 63,
   "id": "d9cfdaca",
   "metadata": {
    "execution": {
     "iopub.execute_input": "2025-08-19T18:35:25.516641Z",
     "iopub.status.busy": "2025-08-19T18:35:25.516325Z",
     "iopub.status.idle": "2025-08-19T18:35:25.528394Z",
     "shell.execute_reply": "2025-08-19T18:35:25.527634Z"
    },
    "papermill": {
     "duration": 0.027666,
     "end_time": "2025-08-19T18:35:25.529608",
     "exception": false,
     "start_time": "2025-08-19T18:35:25.501942",
     "status": "completed"
    },
    "tags": []
   },
   "outputs": [],
   "source": [
    "def filter_sub_universe_data(sub_universe, org_test):\n",
    "    # Keep all rows — no filtering\n",
    "    keep_rows_mask = np.ones(org_test.shape[0], dtype=bool)\n",
    "\n",
    "    print(f\"[INFO] Keeping all rows: {keep_rows_mask.sum()} rows retained.\")\n",
    "    return keep_rows_mask"
   ]
  },
  {
   "cell_type": "code",
   "execution_count": 64,
   "id": "2bc31ac1",
   "metadata": {
    "execution": {
     "iopub.execute_input": "2025-08-19T18:35:25.558660Z",
     "iopub.status.busy": "2025-08-19T18:35:25.558344Z",
     "iopub.status.idle": "2025-08-19T18:35:32.923076Z",
     "shell.execute_reply": "2025-08-19T18:35:32.921901Z"
    },
    "papermill": {
     "duration": 7.38236,
     "end_time": "2025-08-19T18:35:32.926076",
     "exception": false,
     "start_time": "2025-08-19T18:35:25.543716",
     "status": "completed"
    },
    "tags": []
   },
   "outputs": [
    {
     "name": "stdout",
     "output_type": "stream",
     "text": [
      "Stopping execution_time clock.\n",
      "[INFO] Keeping all rows: 89710 rows retained.\n"
     ]
    },
    {
     "name": "stdout",
     "output_type": "stream",
     "text": [
      "[INFO] Keeping all rows: 89710 rows retained.\n"
     ]
    },
    {
     "name": "stdout",
     "output_type": "stream",
     "text": [
      "[INFO] Keeping all rows: 89710 rows retained.\n"
     ]
    },
    {
     "name": "stdout",
     "output_type": "stream",
     "text": [
      "[INFO] Keeping all rows: 89710 rows retained.\n"
     ]
    },
    {
     "data": {
      "text/html": [
       "<div>\n",
       "<style scoped>\n",
       "    .dataframe tbody tr th:only-of-type {\n",
       "        vertical-align: middle;\n",
       "    }\n",
       "\n",
       "    .dataframe tbody tr th {\n",
       "        vertical-align: top;\n",
       "    }\n",
       "\n",
       "    .dataframe thead th {\n",
       "        text-align: right;\n",
       "    }\n",
       "</style>\n",
       "<table border=\"1\" class=\"dataframe\">\n",
       "  <thead>\n",
       "    <tr style=\"text-align: right;\">\n",
       "      <th></th>\n",
       "      <th>run_no</th>\n",
       "      <th>universe_id</th>\n",
       "      <th>universe_settings</th>\n",
       "      <th>execution_time</th>\n",
       "      <th>test_size_n</th>\n",
       "      <th>test_size_frac</th>\n",
       "      <th>fair_main_equalized_odds_difference</th>\n",
       "      <th>fair_main_equalized_odds_ratio</th>\n",
       "      <th>fair_main_demographic_parity_difference</th>\n",
       "      <th>fair_main_demographic_parity_ratio</th>\n",
       "      <th>...</th>\n",
       "      <th>perf_grp_precision_0</th>\n",
       "      <th>perf_grp_precision_1</th>\n",
       "      <th>perf_grp_false positive rate_0</th>\n",
       "      <th>perf_grp_false positive rate_1</th>\n",
       "      <th>perf_grp_false negative rate_0</th>\n",
       "      <th>perf_grp_false negative rate_1</th>\n",
       "      <th>perf_grp_selection rate_0</th>\n",
       "      <th>perf_grp_selection rate_1</th>\n",
       "      <th>perf_grp_count_0</th>\n",
       "      <th>perf_grp_count_1</th>\n",
       "    </tr>\n",
       "  </thead>\n",
       "  <tbody>\n",
       "    <tr>\n",
       "      <th>0</th>\n",
       "      <td>3</td>\n",
       "      <td>83efe45945cb1e3c29cd26bce321c0bd</td>\n",
       "      <td>{\"cutoff\": \"quantile_0.1\", \"eval_fairness_grou...</td>\n",
       "      <td>21.693922</td>\n",
       "      <td>89710</td>\n",
       "      <td>1.0</td>\n",
       "      <td>0.094931</td>\n",
       "      <td>0.901491</td>\n",
       "      <td>0.085621</td>\n",
       "      <td>0.911367</td>\n",
       "      <td>...</td>\n",
       "      <td>NaN</td>\n",
       "      <td>NaN</td>\n",
       "      <td>NaN</td>\n",
       "      <td>NaN</td>\n",
       "      <td>NaN</td>\n",
       "      <td>NaN</td>\n",
       "      <td>NaN</td>\n",
       "      <td>NaN</td>\n",
       "      <td>NaN</td>\n",
       "      <td>NaN</td>\n",
       "    </tr>\n",
       "    <tr>\n",
       "      <th>0</th>\n",
       "      <td>3</td>\n",
       "      <td>83efe45945cb1e3c29cd26bce321c0bd</td>\n",
       "      <td>{\"cutoff\": \"quantile_0.1\", \"eval_fairness_grou...</td>\n",
       "      <td>21.693922</td>\n",
       "      <td>89710</td>\n",
       "      <td>1.0</td>\n",
       "      <td>0.094931</td>\n",
       "      <td>0.901491</td>\n",
       "      <td>0.085621</td>\n",
       "      <td>0.911367</td>\n",
       "      <td>...</td>\n",
       "      <td>0.117428</td>\n",
       "      <td>0.143620</td>\n",
       "      <td>0.963680</td>\n",
       "      <td>0.868749</td>\n",
       "      <td>0.016047</td>\n",
       "      <td>0.043107</td>\n",
       "      <td>0.966018</td>\n",
       "      <td>0.880396</td>\n",
       "      <td>20540.0</td>\n",
       "      <td>69170.0</td>\n",
       "    </tr>\n",
       "    <tr>\n",
       "      <th>0</th>\n",
       "      <td>3</td>\n",
       "      <td>83efe45945cb1e3c29cd26bce321c0bd</td>\n",
       "      <td>{\"cutoff\": \"quantile_0.25\", \"eval_fairness_gro...</td>\n",
       "      <td>21.693922</td>\n",
       "      <td>89710</td>\n",
       "      <td>1.0</td>\n",
       "      <td>0.214955</td>\n",
       "      <td>0.760153</td>\n",
       "      <td>0.196886</td>\n",
       "      <td>0.781675</td>\n",
       "      <td>...</td>\n",
       "      <td>NaN</td>\n",
       "      <td>NaN</td>\n",
       "      <td>NaN</td>\n",
       "      <td>NaN</td>\n",
       "      <td>NaN</td>\n",
       "      <td>NaN</td>\n",
       "      <td>NaN</td>\n",
       "      <td>NaN</td>\n",
       "      <td>NaN</td>\n",
       "      <td>NaN</td>\n",
       "    </tr>\n",
       "    <tr>\n",
       "      <th>0</th>\n",
       "      <td>3</td>\n",
       "      <td>83efe45945cb1e3c29cd26bce321c0bd</td>\n",
       "      <td>{\"cutoff\": \"quantile_0.25\", \"eval_fairness_gro...</td>\n",
       "      <td>21.693922</td>\n",
       "      <td>89710</td>\n",
       "      <td>1.0</td>\n",
       "      <td>0.214955</td>\n",
       "      <td>0.760153</td>\n",
       "      <td>0.196886</td>\n",
       "      <td>0.781675</td>\n",
       "      <td>...</td>\n",
       "      <td>0.120769</td>\n",
       "      <td>0.161263</td>\n",
       "      <td>0.896214</td>\n",
       "      <td>0.681259</td>\n",
       "      <td>0.055321</td>\n",
       "      <td>0.139716</td>\n",
       "      <td>0.901801</td>\n",
       "      <td>0.704915</td>\n",
       "      <td>20540.0</td>\n",
       "      <td>69170.0</td>\n",
       "    </tr>\n",
       "  </tbody>\n",
       "</table>\n",
       "<p>4 rows × 50 columns</p>\n",
       "</div>"
      ],
      "text/plain": [
       "  run_no                       universe_id  \\\n",
       "0      3  83efe45945cb1e3c29cd26bce321c0bd   \n",
       "0      3  83efe45945cb1e3c29cd26bce321c0bd   \n",
       "0      3  83efe45945cb1e3c29cd26bce321c0bd   \n",
       "0      3  83efe45945cb1e3c29cd26bce321c0bd   \n",
       "\n",
       "                                   universe_settings  execution_time  \\\n",
       "0  {\"cutoff\": \"quantile_0.1\", \"eval_fairness_grou...       21.693922   \n",
       "0  {\"cutoff\": \"quantile_0.1\", \"eval_fairness_grou...       21.693922   \n",
       "0  {\"cutoff\": \"quantile_0.25\", \"eval_fairness_gro...       21.693922   \n",
       "0  {\"cutoff\": \"quantile_0.25\", \"eval_fairness_gro...       21.693922   \n",
       "\n",
       "   test_size_n  test_size_frac  fair_main_equalized_odds_difference  \\\n",
       "0        89710             1.0                             0.094931   \n",
       "0        89710             1.0                             0.094931   \n",
       "0        89710             1.0                             0.214955   \n",
       "0        89710             1.0                             0.214955   \n",
       "\n",
       "   fair_main_equalized_odds_ratio  fair_main_demographic_parity_difference  \\\n",
       "0                        0.901491                                 0.085621   \n",
       "0                        0.901491                                 0.085621   \n",
       "0                        0.760153                                 0.196886   \n",
       "0                        0.760153                                 0.196886   \n",
       "\n",
       "   fair_main_demographic_parity_ratio  ...  perf_grp_precision_0  \\\n",
       "0                            0.911367  ...                   NaN   \n",
       "0                            0.911367  ...              0.117428   \n",
       "0                            0.781675  ...                   NaN   \n",
       "0                            0.781675  ...              0.120769   \n",
       "\n",
       "   perf_grp_precision_1  perf_grp_false positive rate_0  \\\n",
       "0                   NaN                             NaN   \n",
       "0              0.143620                        0.963680   \n",
       "0                   NaN                             NaN   \n",
       "0              0.161263                        0.896214   \n",
       "\n",
       "   perf_grp_false positive rate_1  perf_grp_false negative rate_0  \\\n",
       "0                             NaN                             NaN   \n",
       "0                        0.868749                        0.016047   \n",
       "0                             NaN                             NaN   \n",
       "0                        0.681259                        0.055321   \n",
       "\n",
       "   perf_grp_false negative rate_1  perf_grp_selection rate_0  \\\n",
       "0                             NaN                        NaN   \n",
       "0                        0.043107                   0.966018   \n",
       "0                             NaN                        NaN   \n",
       "0                        0.139716                   0.901801   \n",
       "\n",
       "   perf_grp_selection rate_1  perf_grp_count_0  perf_grp_count_1  \n",
       "0                        NaN               NaN               NaN  \n",
       "0                   0.880396           20540.0           69170.0  \n",
       "0                        NaN               NaN               NaN  \n",
       "0                   0.704915           20540.0           69170.0  \n",
       "\n",
       "[4 rows x 50 columns]"
      ]
     },
     "execution_count": 64,
     "metadata": {},
     "output_type": "execute_result"
    }
   ],
   "source": [
    "final_output = universe_analysis.generate_final_output(\n",
    "    y_pred_prob=probs_test,\n",
    "    y_test=y_true,\n",
    "    org_test=org_test,\n",
    "    filter_data=filter_sub_universe_data,\n",
    "    cp_metrics_df=cp_metrics_df,\n",
    "    save=True,\n",
    ")\n",
    "final_output"
   ]
  },
  {
   "cell_type": "code",
   "execution_count": null,
   "id": "8b80a1ff",
   "metadata": {
    "papermill": {
     "duration": 0.014331,
     "end_time": "2025-08-19T18:35:32.971522",
     "exception": false,
     "start_time": "2025-08-19T18:35:32.957191",
     "status": "completed"
    },
    "tags": []
   },
   "outputs": [],
   "source": []
  },
  {
   "cell_type": "code",
   "execution_count": null,
   "id": "275c9fad",
   "metadata": {
    "papermill": {
     "duration": 0.014173,
     "end_time": "2025-08-19T18:35:33.011109",
     "exception": false,
     "start_time": "2025-08-19T18:35:32.996936",
     "status": "completed"
    },
    "tags": []
   },
   "outputs": [],
   "source": []
  }
 ],
 "metadata": {
  "celltoolbar": "Tags",
  "kernelspec": {
   "display_name": "Python (CMA Fairness)",
   "language": "python",
   "name": "cma_fair_env"
  },
  "language_info": {
   "codemirror_mode": {
    "name": "ipython",
    "version": 3
   },
   "file_extension": ".py",
   "mimetype": "text/x-python",
   "name": "python",
   "nbconvert_exporter": "python",
   "pygments_lexer": "ipython3",
   "version": "3.10.12"
  },
  "papermill": {
   "default_parameters": {},
   "duration": 32.831246,
   "end_time": "2025-08-19T18:35:33.846071",
   "environment_variables": {},
   "exception": null,
   "input_path": "universe_analysis.ipynb",
   "output_path": "output/runs/3/notebooks/m_3-83efe45945cb1e3c29cd26bce321c0bd.ipynb",
   "parameters": {
    "output_dir": "output",
    "run_no": "3",
    "seed": "2023",
    "universe": "{\"cutoff\": [\"quantile_0.1\", \"quantile_0.25\"], \"eval_fairness_grouping\": [\"majority-minority\", \"nationality-all\"], \"exclude_features\": \"nationality\", \"exclude_subgroups\": \"keep-all\", \"model\": \"logreg\", \"scale\": \"do-not-scale\", \"training_size\": \"5k\", \"training_year\": \"2012_14\"}",
    "universe_id": "83efe45945cb1e3c29cd26bce321c0bd"
   },
   "start_time": "2025-08-19T18:35:01.014825",
   "version": "2.6.0"
  }
 },
 "nbformat": 4,
 "nbformat_minor": 5
}