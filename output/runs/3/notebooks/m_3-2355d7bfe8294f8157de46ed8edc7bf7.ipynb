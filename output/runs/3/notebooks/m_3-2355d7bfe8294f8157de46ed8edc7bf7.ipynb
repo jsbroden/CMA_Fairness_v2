{
 "cells": [
  {
   "cell_type": "markdown",
   "id": "ef23dbb3",
   "metadata": {
    "papermill": {
     "duration": 0.009301,
     "end_time": "2025-08-19T18:27:17.275300",
     "exception": false,
     "start_time": "2025-08-19T18:27:17.265999",
     "status": "completed"
    },
    "tags": []
   },
   "source": [
    "# Setup"
   ]
  },
  {
   "cell_type": "code",
   "execution_count": 1,
   "id": "0bc8e7dc",
   "metadata": {
    "execution": {
     "iopub.execute_input": "2025-08-19T18:27:17.295800Z",
     "iopub.status.busy": "2025-08-19T18:27:17.294438Z",
     "iopub.status.idle": "2025-08-19T18:27:17.315060Z",
     "shell.execute_reply": "2025-08-19T18:27:17.313953Z"
    },
    "papermill": {
     "duration": 0.033002,
     "end_time": "2025-08-19T18:27:17.317068",
     "exception": false,
     "start_time": "2025-08-19T18:27:17.284066",
     "status": "completed"
    },
    "tags": []
   },
   "outputs": [
    {
     "name": "stdout",
     "output_type": "stream",
     "text": [
      "/dss/dsshome1/0C/ra93lal2/cma/CMA_Fairness_v2\n"
     ]
    },
    {
     "name": "stderr",
     "output_type": "stream",
     "text": [
      "/dss/dsshome1/0C/ra93lal2/.local/share/virtualenvs/CMA_Fairness_v2-3j10GkSs/lib/python3.10/site-packages/IPython/core/magics/osm.py:393: UserWarning: This is now an optional IPython functionality, using bookmarks requires you to install the `pickleshare` library.\n",
      "  bkms = self.shell.db.get('bookmarks', {})\n",
      "/dss/dsshome1/0C/ra93lal2/.local/share/virtualenvs/CMA_Fairness_v2-3j10GkSs/lib/python3.10/site-packages/IPython/core/magics/osm.py:417: UserWarning: This is now an optional IPython functionality, setting dhist requires you to install the `pickleshare` library.\n",
      "  self.shell.db['dhist'] = compress_dhist(dhist)[-100:]\n"
     ]
    }
   ],
   "source": [
    "%cd ~/cma/CMA_Fairness_v2"
   ]
  },
  {
   "cell_type": "markdown",
   "id": "9d235661",
   "metadata": {
    "papermill": {
     "duration": 0.008928,
     "end_time": "2025-08-19T18:27:17.355511",
     "exception": false,
     "start_time": "2025-08-19T18:27:17.346583",
     "status": "completed"
    },
    "tags": []
   },
   "source": [
    "The following cell holds the definition of our parameters, these values can be overriden by rendering the with e.g. the following command:\n",
    "\n",
    "papermill -p alpha 0.2 -p ratio 0.3 universe_analysis.ipynb output/test_run.ipynb"
   ]
  },
  {
   "cell_type": "code",
   "execution_count": 2,
   "id": "4a789d8e",
   "metadata": {
    "execution": {
     "iopub.execute_input": "2025-08-19T18:27:17.377801Z",
     "iopub.status.busy": "2025-08-19T18:27:17.374363Z",
     "iopub.status.idle": "2025-08-19T18:27:17.388197Z",
     "shell.execute_reply": "2025-08-19T18:27:17.384532Z"
    },
    "papermill": {
     "duration": 0.025609,
     "end_time": "2025-08-19T18:27:17.390097",
     "exception": false,
     "start_time": "2025-08-19T18:27:17.364488",
     "status": "completed"
    },
    "tags": []
   },
   "outputs": [
    {
     "name": "stdout",
     "output_type": "stream",
     "text": [
      "Current working directory: /dss/dsshome1/0C/ra93lal2/cma/CMA_Fairness_v2\n"
     ]
    }
   ],
   "source": [
    "import os\n",
    "print(\"Current working directory:\", os.getcwd())"
   ]
  },
  {
   "cell_type": "code",
   "execution_count": 3,
   "id": "4132aaed",
   "metadata": {
    "execution": {
     "iopub.execute_input": "2025-08-19T18:27:17.413320Z",
     "iopub.status.busy": "2025-08-19T18:27:17.412900Z",
     "iopub.status.idle": "2025-08-19T18:27:17.419334Z",
     "shell.execute_reply": "2025-08-19T18:27:17.418520Z"
    },
    "papermill": {
     "duration": 0.018641,
     "end_time": "2025-08-19T18:27:17.420588",
     "exception": false,
     "start_time": "2025-08-19T18:27:17.401947",
     "status": "completed"
    },
    "tags": [
     "parameters"
    ]
   },
   "outputs": [],
   "source": [
    "run_no = 0\n",
    "universe_id = \"test\"\n",
    "universe = {\n",
    "    \"training_size\": \"5k\", # \"25k\", \"5k\", \"1k\"\n",
    "    \"training_year\": \"2012_14\", # \"2014\", \"2012_14\", \"2010_14\"\n",
    "    \"scale\": \"scale\", # \"scale\", \"do-not-scale\",\n",
    "    \"model\": \"elasticnet\", # \"logreg\", \"penalized_logreg\", \"rf\", \"gbm\", \"elasticnet\"\n",
    "    \"cutoff\": [\"quantile_0.15\", \"quantile_0.30\"],\n",
    "    \"exclude_features\": \"age\", # \"none\", \"nationality\", \"sex\", \"nationality-sex\", \"age\"\n",
    "    \"exclude_subgroups\": \"drop-non-german\", # \"keep-all\", \"drop-non-german\"\n",
    "    \"eval_fairness_grouping\": [\"majority-minority\", \"nationality-all\"]\n",
    "}\n",
    "\n",
    "output_dir=\"./output\"\n",
    "seed=0"
   ]
  },
  {
   "cell_type": "code",
   "execution_count": 4,
   "id": "49f89268",
   "metadata": {
    "execution": {
     "iopub.execute_input": "2025-08-19T18:27:17.439991Z",
     "iopub.status.busy": "2025-08-19T18:27:17.439420Z",
     "iopub.status.idle": "2025-08-19T18:27:17.443400Z",
     "shell.execute_reply": "2025-08-19T18:27:17.442847Z"
    },
    "papermill": {
     "duration": 0.016192,
     "end_time": "2025-08-19T18:27:17.445697",
     "exception": false,
     "start_time": "2025-08-19T18:27:17.429505",
     "status": "completed"
    },
    "tags": [
     "injected-parameters"
    ]
   },
   "outputs": [],
   "source": [
    "# Parameters\n",
    "universe_id = \"2355d7bfe8294f8157de46ed8edc7bf7\"\n",
    "run_no = \"3\"\n",
    "universe = \"{\\\"cutoff\\\": [\\\"quantile_0.1\\\", \\\"quantile_0.25\\\"], \\\"eval_fairness_grouping\\\": [\\\"majority-minority\\\", \\\"nationality-all\\\"], \\\"exclude_features\\\": \\\"nationality-sex\\\", \\\"exclude_subgroups\\\": \\\"keep-all\\\", \\\"model\\\": \\\"logreg\\\", \\\"scale\\\": \\\"do-not-scale\\\", \\\"training_size\\\": \\\"5k\\\", \\\"training_year\\\": \\\"2014\\\"}\"\n",
    "output_dir = \"output\"\n",
    "seed = \"2023\"\n"
   ]
  },
  {
   "cell_type": "code",
   "execution_count": 5,
   "id": "a5d7941f",
   "metadata": {
    "execution": {
     "iopub.execute_input": "2025-08-19T18:27:17.467657Z",
     "iopub.status.busy": "2025-08-19T18:27:17.466980Z",
     "iopub.status.idle": "2025-08-19T18:27:17.474862Z",
     "shell.execute_reply": "2025-08-19T18:27:17.473467Z"
    },
    "papermill": {
     "duration": 0.028657,
     "end_time": "2025-08-19T18:27:17.484826",
     "exception": false,
     "start_time": "2025-08-19T18:27:17.456169",
     "status": "completed"
    },
    "tags": []
   },
   "outputs": [],
   "source": [
    "import json\n",
    "if isinstance(universe, str):\n",
    "    universe = json.loads(universe)"
   ]
  },
  {
   "cell_type": "code",
   "execution_count": 6,
   "id": "7076ccb1",
   "metadata": {
    "execution": {
     "iopub.execute_input": "2025-08-19T18:27:17.505434Z",
     "iopub.status.busy": "2025-08-19T18:27:17.504159Z",
     "iopub.status.idle": "2025-08-19T18:27:17.575627Z",
     "shell.execute_reply": "2025-08-19T18:27:17.574800Z"
    },
    "papermill": {
     "duration": 0.083353,
     "end_time": "2025-08-19T18:27:17.577247",
     "exception": false,
     "start_time": "2025-08-19T18:27:17.493894",
     "status": "completed"
    },
    "tags": []
   },
   "outputs": [],
   "source": [
    "# Auto-reload the custom package\n",
    "%load_ext autoreload\n",
    "%autoreload 1\n",
    "%aimport fairness_multiverse"
   ]
  },
  {
   "cell_type": "code",
   "execution_count": 7,
   "id": "94c8eb93",
   "metadata": {
    "execution": {
     "iopub.execute_input": "2025-08-19T18:27:17.597399Z",
     "iopub.status.busy": "2025-08-19T18:27:17.596971Z",
     "iopub.status.idle": "2025-08-19T18:27:19.093655Z",
     "shell.execute_reply": "2025-08-19T18:27:19.092521Z"
    },
    "papermill": {
     "duration": 1.508296,
     "end_time": "2025-08-19T18:27:19.095281",
     "exception": false,
     "start_time": "2025-08-19T18:27:17.586985",
     "status": "completed"
    },
    "tags": []
   },
   "outputs": [],
   "source": [
    "from fairness_multiverse.universe import UniverseAnalysis\n",
    "\n",
    "universe_analysis = UniverseAnalysis(\n",
    "    run_no = run_no,\n",
    "    universe_id = universe_id,\n",
    "    universe = universe,\n",
    "    output_dir=output_dir,\n",
    ")"
   ]
  },
  {
   "cell_type": "code",
   "execution_count": 8,
   "id": "2a6381cf",
   "metadata": {
    "execution": {
     "iopub.execute_input": "2025-08-19T18:27:19.115798Z",
     "iopub.status.busy": "2025-08-19T18:27:19.115456Z",
     "iopub.status.idle": "2025-08-19T18:27:19.122148Z",
     "shell.execute_reply": "2025-08-19T18:27:19.121424Z"
    },
    "papermill": {
     "duration": 0.020455,
     "end_time": "2025-08-19T18:27:19.125325",
     "exception": false,
     "start_time": "2025-08-19T18:27:19.104870",
     "status": "completed"
    },
    "tags": []
   },
   "outputs": [
    {
     "name": "stdout",
     "output_type": "stream",
     "text": [
      "Using Seed: 2023\n"
     ]
    }
   ],
   "source": [
    "import numpy as np\n",
    "parsed_seed = int(seed)\n",
    "np.random.seed(parsed_seed)\n",
    "print(f\"Using Seed: {parsed_seed}\")"
   ]
  },
  {
   "cell_type": "markdown",
   "id": "b6e958b4",
   "metadata": {
    "papermill": {
     "duration": 0.011573,
     "end_time": "2025-08-19T18:27:19.157040",
     "exception": false,
     "start_time": "2025-08-19T18:27:19.145467",
     "status": "completed"
    },
    "tags": []
   },
   "source": [
    "# Loading Data"
   ]
  },
  {
   "cell_type": "code",
   "execution_count": 9,
   "id": "98701482",
   "metadata": {
    "execution": {
     "iopub.execute_input": "2025-08-19T18:27:19.177998Z",
     "iopub.status.busy": "2025-08-19T18:27:19.176930Z",
     "iopub.status.idle": "2025-08-19T18:27:28.790196Z",
     "shell.execute_reply": "2025-08-19T18:27:28.789443Z"
    },
    "papermill": {
     "duration": 9.625434,
     "end_time": "2025-08-19T18:27:28.791474",
     "exception": false,
     "start_time": "2025-08-19T18:27:19.166040",
     "status": "completed"
    },
    "tags": []
   },
   "outputs": [
    {
     "name": "stdout",
     "output_type": "stream",
     "text": [
      "Loading SIAB data from cache: data/siab_cached.csv.gz\n"
     ]
    },
    {
     "name": "stdout",
     "output_type": "stream",
     "text": [
      "(643690, 164)\n"
     ]
    }
   ],
   "source": [
    "from pathlib import Path\n",
    "import pandas as pd\n",
    "\n",
    "# File paths\n",
    "raw_file = Path(\"data/raw/siab.csv\")\n",
    "cache_file = Path(\"data/siab_cached.csv.gz\")\n",
    "\n",
    "# Ensure cache directory exists\n",
    "cache_file.parent.mkdir(parents=True, exist_ok=True)\n",
    "\n",
    "# Load with simple caching\n",
    "if cache_file.exists():\n",
    "    print(f\"Loading SIAB data from cache: {cache_file}\")\n",
    "    siab = pd.read_csv(cache_file, compression='gzip')\n",
    "else:\n",
    "    print(f\"Cache not found. Reading raw SIAB data: {raw_file}\")\n",
    "    siab = pd.read_csv(raw_file)\n",
    "    siab.to_csv(cache_file, index=False, compression='gzip')\n",
    "    print(f\"Cached SIAB data to: {cache_file}\")\n",
    "\n",
    "print(siab.shape)"
   ]
  },
  {
   "cell_type": "code",
   "execution_count": 10,
   "id": "058d2abb",
   "metadata": {
    "execution": {
     "iopub.execute_input": "2025-08-19T18:27:28.824350Z",
     "iopub.status.busy": "2025-08-19T18:27:28.823908Z",
     "iopub.status.idle": "2025-08-19T18:27:28.953395Z",
     "shell.execute_reply": "2025-08-19T18:27:28.952251Z"
    },
    "papermill": {
     "duration": 0.147564,
     "end_time": "2025-08-19T18:27:28.954870",
     "exception": false,
     "start_time": "2025-08-19T18:27:28.807306",
     "status": "completed"
    },
    "tags": []
   },
   "outputs": [
    {
     "data": {
      "text/html": [
       "<div>\n",
       "<style scoped>\n",
       "    .dataframe tbody tr th:only-of-type {\n",
       "        vertical-align: middle;\n",
       "    }\n",
       "\n",
       "    .dataframe tbody tr th {\n",
       "        vertical-align: top;\n",
       "    }\n",
       "\n",
       "    .dataframe thead th {\n",
       "        text-align: right;\n",
       "    }\n",
       "</style>\n",
       "<table border=\"1\" class=\"dataframe\">\n",
       "  <thead>\n",
       "    <tr style=\"text-align: right;\">\n",
       "      <th></th>\n",
       "      <th>persnr</th>\n",
       "      <th>year</th>\n",
       "      <th>nrEntry</th>\n",
       "      <th>ltue</th>\n",
       "      <th>employed_before</th>\n",
       "      <th>receipt_leh_before</th>\n",
       "      <th>receipt_lhg_before</th>\n",
       "      <th>se_before</th>\n",
       "      <th>ASU_notue_seeking_before</th>\n",
       "      <th>ASU_other_before</th>\n",
       "      <th>...</th>\n",
       "      <th>minijob_tot_dur_byage</th>\n",
       "      <th>ft_tot_dur_byage</th>\n",
       "      <th>befrist_tot_dur_byage</th>\n",
       "      <th>leih_tot_dur_byage</th>\n",
       "      <th>LHG_tot_dur_byage</th>\n",
       "      <th>LEH_tot_dur_byage</th>\n",
       "      <th>almp_tot_dur_byage</th>\n",
       "      <th>almp_aw_tot_dur_byage</th>\n",
       "      <th>se_tot_dur_byage</th>\n",
       "      <th>seeking1_tot_dur_byage</th>\n",
       "    </tr>\n",
       "  </thead>\n",
       "  <tbody>\n",
       "    <tr>\n",
       "      <th>0</th>\n",
       "      <td>7</td>\n",
       "      <td>2015</td>\n",
       "      <td>1</td>\n",
       "      <td>0</td>\n",
       "      <td>1</td>\n",
       "      <td>0</td>\n",
       "      <td>0</td>\n",
       "      <td>0</td>\n",
       "      <td>1</td>\n",
       "      <td>0</td>\n",
       "      <td>...</td>\n",
       "      <td>0.000000</td>\n",
       "      <td>0.000000</td>\n",
       "      <td>15.043478</td>\n",
       "      <td>0.000000</td>\n",
       "      <td>0.000000</td>\n",
       "      <td>0.000000</td>\n",
       "      <td>0.000000</td>\n",
       "      <td>0.000000</td>\n",
       "      <td>0.000000</td>\n",
       "      <td>0.000000</td>\n",
       "    </tr>\n",
       "    <tr>\n",
       "      <th>1</th>\n",
       "      <td>18</td>\n",
       "      <td>2010</td>\n",
       "      <td>1</td>\n",
       "      <td>1</td>\n",
       "      <td>0</td>\n",
       "      <td>0</td>\n",
       "      <td>0</td>\n",
       "      <td>0</td>\n",
       "      <td>0</td>\n",
       "      <td>0</td>\n",
       "      <td>...</td>\n",
       "      <td>0.000000</td>\n",
       "      <td>0.000000</td>\n",
       "      <td>0.000000</td>\n",
       "      <td>0.000000</td>\n",
       "      <td>0.000000</td>\n",
       "      <td>0.000000</td>\n",
       "      <td>0.000000</td>\n",
       "      <td>0.000000</td>\n",
       "      <td>0.000000</td>\n",
       "      <td>0.000000</td>\n",
       "    </tr>\n",
       "    <tr>\n",
       "      <th>2</th>\n",
       "      <td>18</td>\n",
       "      <td>2011</td>\n",
       "      <td>2</td>\n",
       "      <td>0</td>\n",
       "      <td>1</td>\n",
       "      <td>0</td>\n",
       "      <td>1</td>\n",
       "      <td>0</td>\n",
       "      <td>1</td>\n",
       "      <td>0</td>\n",
       "      <td>...</td>\n",
       "      <td>2.714286</td>\n",
       "      <td>2.714286</td>\n",
       "      <td>0.000000</td>\n",
       "      <td>0.000000</td>\n",
       "      <td>10.775510</td>\n",
       "      <td>0.000000</td>\n",
       "      <td>8.367347</td>\n",
       "      <td>0.000000</td>\n",
       "      <td>0.000000</td>\n",
       "      <td>9.836735</td>\n",
       "    </tr>\n",
       "    <tr>\n",
       "      <th>3</th>\n",
       "      <td>18</td>\n",
       "      <td>2012</td>\n",
       "      <td>3</td>\n",
       "      <td>0</td>\n",
       "      <td>1</td>\n",
       "      <td>0</td>\n",
       "      <td>1</td>\n",
       "      <td>0</td>\n",
       "      <td>1</td>\n",
       "      <td>0</td>\n",
       "      <td>...</td>\n",
       "      <td>4.200000</td>\n",
       "      <td>4.200000</td>\n",
       "      <td>0.000000</td>\n",
       "      <td>0.000000</td>\n",
       "      <td>12.100000</td>\n",
       "      <td>0.000000</td>\n",
       "      <td>9.400000</td>\n",
       "      <td>0.000000</td>\n",
       "      <td>0.000000</td>\n",
       "      <td>9.960000</td>\n",
       "    </tr>\n",
       "    <tr>\n",
       "      <th>4</th>\n",
       "      <td>18</td>\n",
       "      <td>2012</td>\n",
       "      <td>4</td>\n",
       "      <td>0</td>\n",
       "      <td>1</td>\n",
       "      <td>0</td>\n",
       "      <td>1</td>\n",
       "      <td>0</td>\n",
       "      <td>1</td>\n",
       "      <td>0</td>\n",
       "      <td>...</td>\n",
       "      <td>5.460000</td>\n",
       "      <td>5.460000</td>\n",
       "      <td>0.000000</td>\n",
       "      <td>0.000000</td>\n",
       "      <td>13.360000</td>\n",
       "      <td>0.000000</td>\n",
       "      <td>10.320000</td>\n",
       "      <td>0.000000</td>\n",
       "      <td>0.000000</td>\n",
       "      <td>10.280000</td>\n",
       "    </tr>\n",
       "    <tr>\n",
       "      <th>...</th>\n",
       "      <td>...</td>\n",
       "      <td>...</td>\n",
       "      <td>...</td>\n",
       "      <td>...</td>\n",
       "      <td>...</td>\n",
       "      <td>...</td>\n",
       "      <td>...</td>\n",
       "      <td>...</td>\n",
       "      <td>...</td>\n",
       "      <td>...</td>\n",
       "      <td>...</td>\n",
       "      <td>...</td>\n",
       "      <td>...</td>\n",
       "      <td>...</td>\n",
       "      <td>...</td>\n",
       "      <td>...</td>\n",
       "      <td>...</td>\n",
       "      <td>...</td>\n",
       "      <td>...</td>\n",
       "      <td>...</td>\n",
       "      <td>...</td>\n",
       "    </tr>\n",
       "    <tr>\n",
       "      <th>643685</th>\n",
       "      <td>1827860</td>\n",
       "      <td>2013</td>\n",
       "      <td>1</td>\n",
       "      <td>0</td>\n",
       "      <td>0</td>\n",
       "      <td>0</td>\n",
       "      <td>1</td>\n",
       "      <td>0</td>\n",
       "      <td>0</td>\n",
       "      <td>1</td>\n",
       "      <td>...</td>\n",
       "      <td>0.000000</td>\n",
       "      <td>0.000000</td>\n",
       "      <td>0.000000</td>\n",
       "      <td>0.000000</td>\n",
       "      <td>0.612903</td>\n",
       "      <td>0.000000</td>\n",
       "      <td>0.000000</td>\n",
       "      <td>0.000000</td>\n",
       "      <td>0.000000</td>\n",
       "      <td>0.000000</td>\n",
       "    </tr>\n",
       "    <tr>\n",
       "      <th>643686</th>\n",
       "      <td>1827860</td>\n",
       "      <td>2015</td>\n",
       "      <td>2</td>\n",
       "      <td>1</td>\n",
       "      <td>0</td>\n",
       "      <td>0</td>\n",
       "      <td>1</td>\n",
       "      <td>0</td>\n",
       "      <td>1</td>\n",
       "      <td>0</td>\n",
       "      <td>...</td>\n",
       "      <td>0.000000</td>\n",
       "      <td>0.000000</td>\n",
       "      <td>0.212121</td>\n",
       "      <td>0.212121</td>\n",
       "      <td>17.363636</td>\n",
       "      <td>0.000000</td>\n",
       "      <td>8.909091</td>\n",
       "      <td>0.000000</td>\n",
       "      <td>0.000000</td>\n",
       "      <td>7.121212</td>\n",
       "    </tr>\n",
       "    <tr>\n",
       "      <th>643687</th>\n",
       "      <td>1827860</td>\n",
       "      <td>2016</td>\n",
       "      <td>3</td>\n",
       "      <td>1</td>\n",
       "      <td>0</td>\n",
       "      <td>0</td>\n",
       "      <td>1</td>\n",
       "      <td>1</td>\n",
       "      <td>0</td>\n",
       "      <td>1</td>\n",
       "      <td>...</td>\n",
       "      <td>0.000000</td>\n",
       "      <td>0.000000</td>\n",
       "      <td>0.294118</td>\n",
       "      <td>0.205882</td>\n",
       "      <td>34.705882</td>\n",
       "      <td>0.000000</td>\n",
       "      <td>10.352941</td>\n",
       "      <td>1.705882</td>\n",
       "      <td>1.705882</td>\n",
       "      <td>23.911765</td>\n",
       "    </tr>\n",
       "    <tr>\n",
       "      <th>643688</th>\n",
       "      <td>1827869</td>\n",
       "      <td>2013</td>\n",
       "      <td>1</td>\n",
       "      <td>1</td>\n",
       "      <td>1</td>\n",
       "      <td>0</td>\n",
       "      <td>0</td>\n",
       "      <td>0</td>\n",
       "      <td>1</td>\n",
       "      <td>0</td>\n",
       "      <td>...</td>\n",
       "      <td>0.000000</td>\n",
       "      <td>0.000000</td>\n",
       "      <td>0.000000</td>\n",
       "      <td>0.000000</td>\n",
       "      <td>0.000000</td>\n",
       "      <td>0.525424</td>\n",
       "      <td>0.000000</td>\n",
       "      <td>0.000000</td>\n",
       "      <td>0.000000</td>\n",
       "      <td>0.000000</td>\n",
       "    </tr>\n",
       "    <tr>\n",
       "      <th>643689</th>\n",
       "      <td>1827869</td>\n",
       "      <td>2014</td>\n",
       "      <td>2</td>\n",
       "      <td>0</td>\n",
       "      <td>0</td>\n",
       "      <td>1</td>\n",
       "      <td>0</td>\n",
       "      <td>0</td>\n",
       "      <td>1</td>\n",
       "      <td>0</td>\n",
       "      <td>...</td>\n",
       "      <td>0.000000</td>\n",
       "      <td>0.666667</td>\n",
       "      <td>0.666667</td>\n",
       "      <td>0.000000</td>\n",
       "      <td>0.000000</td>\n",
       "      <td>8.950000</td>\n",
       "      <td>1.033333</td>\n",
       "      <td>0.083333</td>\n",
       "      <td>0.083333</td>\n",
       "      <td>8.133333</td>\n",
       "    </tr>\n",
       "  </tbody>\n",
       "</table>\n",
       "<p>643690 rows × 164 columns</p>\n",
       "</div>"
      ],
      "text/plain": [
       "         persnr  year  nrEntry  ltue  employed_before  receipt_leh_before  \\\n",
       "0             7  2015        1     0                1                   0   \n",
       "1            18  2010        1     1                0                   0   \n",
       "2            18  2011        2     0                1                   0   \n",
       "3            18  2012        3     0                1                   0   \n",
       "4            18  2012        4     0                1                   0   \n",
       "...         ...   ...      ...   ...              ...                 ...   \n",
       "643685  1827860  2013        1     0                0                   0   \n",
       "643686  1827860  2015        2     1                0                   0   \n",
       "643687  1827860  2016        3     1                0                   0   \n",
       "643688  1827869  2013        1     1                1                   0   \n",
       "643689  1827869  2014        2     0                0                   1   \n",
       "\n",
       "        receipt_lhg_before  se_before  ASU_notue_seeking_before  \\\n",
       "0                        0          0                         1   \n",
       "1                        0          0                         0   \n",
       "2                        1          0                         1   \n",
       "3                        1          0                         1   \n",
       "4                        1          0                         1   \n",
       "...                    ...        ...                       ...   \n",
       "643685                   1          0                         0   \n",
       "643686                   1          0                         1   \n",
       "643687                   1          1                         0   \n",
       "643688                   0          0                         1   \n",
       "643689                   0          0                         1   \n",
       "\n",
       "        ASU_other_before  ...  minijob_tot_dur_byage  ft_tot_dur_byage  \\\n",
       "0                      0  ...               0.000000          0.000000   \n",
       "1                      0  ...               0.000000          0.000000   \n",
       "2                      0  ...               2.714286          2.714286   \n",
       "3                      0  ...               4.200000          4.200000   \n",
       "4                      0  ...               5.460000          5.460000   \n",
       "...                  ...  ...                    ...               ...   \n",
       "643685                 1  ...               0.000000          0.000000   \n",
       "643686                 0  ...               0.000000          0.000000   \n",
       "643687                 1  ...               0.000000          0.000000   \n",
       "643688                 0  ...               0.000000          0.000000   \n",
       "643689                 0  ...               0.000000          0.666667   \n",
       "\n",
       "        befrist_tot_dur_byage  leih_tot_dur_byage  LHG_tot_dur_byage  \\\n",
       "0                   15.043478            0.000000           0.000000   \n",
       "1                    0.000000            0.000000           0.000000   \n",
       "2                    0.000000            0.000000          10.775510   \n",
       "3                    0.000000            0.000000          12.100000   \n",
       "4                    0.000000            0.000000          13.360000   \n",
       "...                       ...                 ...                ...   \n",
       "643685               0.000000            0.000000           0.612903   \n",
       "643686               0.212121            0.212121          17.363636   \n",
       "643687               0.294118            0.205882          34.705882   \n",
       "643688               0.000000            0.000000           0.000000   \n",
       "643689               0.666667            0.000000           0.000000   \n",
       "\n",
       "        LEH_tot_dur_byage  almp_tot_dur_byage  almp_aw_tot_dur_byage  \\\n",
       "0                0.000000            0.000000               0.000000   \n",
       "1                0.000000            0.000000               0.000000   \n",
       "2                0.000000            8.367347               0.000000   \n",
       "3                0.000000            9.400000               0.000000   \n",
       "4                0.000000           10.320000               0.000000   \n",
       "...                   ...                 ...                    ...   \n",
       "643685           0.000000            0.000000               0.000000   \n",
       "643686           0.000000            8.909091               0.000000   \n",
       "643687           0.000000           10.352941               1.705882   \n",
       "643688           0.525424            0.000000               0.000000   \n",
       "643689           8.950000            1.033333               0.083333   \n",
       "\n",
       "        se_tot_dur_byage  seeking1_tot_dur_byage  \n",
       "0               0.000000                0.000000  \n",
       "1               0.000000                0.000000  \n",
       "2               0.000000                9.836735  \n",
       "3               0.000000                9.960000  \n",
       "4               0.000000               10.280000  \n",
       "...                  ...                     ...  \n",
       "643685          0.000000                0.000000  \n",
       "643686          0.000000                7.121212  \n",
       "643687          1.705882               23.911765  \n",
       "643688          0.000000                0.000000  \n",
       "643689          0.083333                8.133333  \n",
       "\n",
       "[643690 rows x 164 columns]"
      ]
     },
     "execution_count": 10,
     "metadata": {},
     "output_type": "execute_result"
    }
   ],
   "source": [
    "siab"
   ]
  },
  {
   "cell_type": "markdown",
   "id": "1f87e805",
   "metadata": {
    "papermill": {
     "duration": 0.010043,
     "end_time": "2025-08-19T18:27:28.976989",
     "exception": false,
     "start_time": "2025-08-19T18:27:28.966946",
     "status": "completed"
    },
    "tags": []
   },
   "source": [
    "# Splitting Data and Setting Training Data Size"
   ]
  },
  {
   "cell_type": "code",
   "execution_count": 11,
   "id": "910ae358",
   "metadata": {
    "execution": {
     "iopub.execute_input": "2025-08-19T18:27:28.998564Z",
     "iopub.status.busy": "2025-08-19T18:27:28.998158Z",
     "iopub.status.idle": "2025-08-19T18:27:29.193319Z",
     "shell.execute_reply": "2025-08-19T18:27:29.192280Z"
    },
    "papermill": {
     "duration": 0.207867,
     "end_time": "2025-08-19T18:27:29.194848",
     "exception": false,
     "start_time": "2025-08-19T18:27:28.986981",
     "status": "completed"
    },
    "tags": []
   },
   "outputs": [],
   "source": [
    "from fairness_multiverse.universe import sample_by_year_size\n",
    "\n",
    "siab_train = sample_by_year_size(siab,\n",
    "                               training_year=universe[\"training_year\"],\n",
    "                               training_size=universe[\"training_size\"])"
   ]
  },
  {
   "cell_type": "code",
   "execution_count": 12,
   "id": "919c8ff5",
   "metadata": {
    "execution": {
     "iopub.execute_input": "2025-08-19T18:27:29.220396Z",
     "iopub.status.busy": "2025-08-19T18:27:29.219415Z",
     "iopub.status.idle": "2025-08-19T18:27:29.228460Z",
     "shell.execute_reply": "2025-08-19T18:27:29.227263Z"
    },
    "papermill": {
     "duration": 0.024754,
     "end_time": "2025-08-19T18:27:29.230029",
     "exception": false,
     "start_time": "2025-08-19T18:27:29.205275",
     "status": "completed"
    },
    "tags": []
   },
   "outputs": [
    {
     "data": {
      "text/plain": [
       "(5000, 164)"
      ]
     },
     "execution_count": 12,
     "metadata": {},
     "output_type": "execute_result"
    }
   ],
   "source": [
    "siab_train.shape"
   ]
  },
  {
   "cell_type": "code",
   "execution_count": 13,
   "id": "feb13bf4",
   "metadata": {
    "execution": {
     "iopub.execute_input": "2025-08-19T18:27:29.256226Z",
     "iopub.status.busy": "2025-08-19T18:27:29.255169Z",
     "iopub.status.idle": "2025-08-19T18:27:29.269114Z",
     "shell.execute_reply": "2025-08-19T18:27:29.268084Z"
    },
    "papermill": {
     "duration": 0.027951,
     "end_time": "2025-08-19T18:27:29.271199",
     "exception": false,
     "start_time": "2025-08-19T18:27:29.243248",
     "status": "completed"
    },
    "tags": []
   },
   "outputs": [
    {
     "data": {
      "text/plain": [
       "year\n",
       "2014    5000\n",
       "dtype: int64"
      ]
     },
     "metadata": {},
     "output_type": "display_data"
    }
   ],
   "source": [
    "display(siab_train.groupby(\"year\").size())"
   ]
  },
  {
   "cell_type": "code",
   "execution_count": 14,
   "id": "0997782f",
   "metadata": {
    "execution": {
     "iopub.execute_input": "2025-08-19T18:27:29.301068Z",
     "iopub.status.busy": "2025-08-19T18:27:29.299769Z",
     "iopub.status.idle": "2025-08-19T18:27:29.531877Z",
     "shell.execute_reply": "2025-08-19T18:27:29.531221Z"
    },
    "papermill": {
     "duration": 0.246536,
     "end_time": "2025-08-19T18:27:29.533450",
     "exception": false,
     "start_time": "2025-08-19T18:27:29.286914",
     "status": "completed"
    },
    "tags": []
   },
   "outputs": [],
   "source": [
    "#siab_train = siab_s[siab_s.year < 2015]\n",
    "siab_calib = siab[siab.year == 2015]\n",
    "siab_test = siab[siab.year == 2016]"
   ]
  },
  {
   "cell_type": "code",
   "execution_count": 15,
   "id": "2c1e4012",
   "metadata": {
    "execution": {
     "iopub.execute_input": "2025-08-19T18:27:29.556202Z",
     "iopub.status.busy": "2025-08-19T18:27:29.555489Z",
     "iopub.status.idle": "2025-08-19T18:27:29.561281Z",
     "shell.execute_reply": "2025-08-19T18:27:29.559908Z"
    },
    "papermill": {
     "duration": 0.018577,
     "end_time": "2025-08-19T18:27:29.562767",
     "exception": false,
     "start_time": "2025-08-19T18:27:29.544190",
     "status": "completed"
    },
    "tags": []
   },
   "outputs": [],
   "source": [
    "#siab_calib.shape"
   ]
  },
  {
   "cell_type": "code",
   "execution_count": 16,
   "id": "f66b54ca",
   "metadata": {
    "execution": {
     "iopub.execute_input": "2025-08-19T18:27:29.587118Z",
     "iopub.status.busy": "2025-08-19T18:27:29.586132Z",
     "iopub.status.idle": "2025-08-19T18:27:29.594000Z",
     "shell.execute_reply": "2025-08-19T18:27:29.592417Z"
    },
    "papermill": {
     "duration": 0.021376,
     "end_time": "2025-08-19T18:27:29.595660",
     "exception": false,
     "start_time": "2025-08-19T18:27:29.574284",
     "status": "completed"
    },
    "tags": []
   },
   "outputs": [],
   "source": [
    "#siab_test.shape"
   ]
  },
  {
   "cell_type": "code",
   "execution_count": 17,
   "id": "27e4384d",
   "metadata": {
    "execution": {
     "iopub.execute_input": "2025-08-19T18:27:29.625630Z",
     "iopub.status.busy": "2025-08-19T18:27:29.621568Z",
     "iopub.status.idle": "2025-08-19T18:27:29.643282Z",
     "shell.execute_reply": "2025-08-19T18:27:29.642435Z"
    },
    "papermill": {
     "duration": 0.035525,
     "end_time": "2025-08-19T18:27:29.644731",
     "exception": false,
     "start_time": "2025-08-19T18:27:29.609206",
     "status": "completed"
    },
    "tags": []
   },
   "outputs": [],
   "source": [
    "X_train = siab_train.iloc[:,4:164]\n",
    "y_train = siab_train.iloc[:, [3]]"
   ]
  },
  {
   "cell_type": "code",
   "execution_count": 18,
   "id": "08ee8389",
   "metadata": {
    "execution": {
     "iopub.execute_input": "2025-08-19T18:27:29.668657Z",
     "iopub.status.busy": "2025-08-19T18:27:29.667778Z",
     "iopub.status.idle": "2025-08-19T18:27:29.724945Z",
     "shell.execute_reply": "2025-08-19T18:27:29.724279Z"
    },
    "papermill": {
     "duration": 0.072292,
     "end_time": "2025-08-19T18:27:29.727733",
     "exception": false,
     "start_time": "2025-08-19T18:27:29.655441",
     "status": "completed"
    },
    "tags": []
   },
   "outputs": [],
   "source": [
    "X_calib = siab_calib.iloc[:,4:164]\n",
    "y_calib = siab_calib.iloc[:, [3]]"
   ]
  },
  {
   "cell_type": "code",
   "execution_count": 19,
   "id": "b7ff42e0",
   "metadata": {
    "execution": {
     "iopub.execute_input": "2025-08-19T18:27:29.761549Z",
     "iopub.status.busy": "2025-08-19T18:27:29.760686Z",
     "iopub.status.idle": "2025-08-19T18:27:29.820952Z",
     "shell.execute_reply": "2025-08-19T18:27:29.820306Z"
    },
    "papermill": {
     "duration": 0.074686,
     "end_time": "2025-08-19T18:27:29.822678",
     "exception": false,
     "start_time": "2025-08-19T18:27:29.747992",
     "status": "completed"
    },
    "tags": []
   },
   "outputs": [],
   "source": [
    "X_test = siab_test.iloc[:,4:164]\n",
    "y_true = siab_test.iloc[:, [3]]"
   ]
  },
  {
   "cell_type": "code",
   "execution_count": 20,
   "id": "0275101e",
   "metadata": {
    "execution": {
     "iopub.execute_input": "2025-08-19T18:27:29.860233Z",
     "iopub.status.busy": "2025-08-19T18:27:29.859346Z",
     "iopub.status.idle": "2025-08-19T18:27:29.971819Z",
     "shell.execute_reply": "2025-08-19T18:27:29.971158Z"
    },
    "papermill": {
     "duration": 0.134215,
     "end_time": "2025-08-19T18:27:29.974835",
     "exception": false,
     "start_time": "2025-08-19T18:27:29.840620",
     "status": "completed"
    },
    "tags": []
   },
   "outputs": [],
   "source": [
    "# Auxiliary data needed downstream in the pipeline\n",
    "\n",
    "org_train = X_train.copy()\n",
    "org_test = X_test.copy()\n",
    "org_calib = X_calib.copy()"
   ]
  },
  {
   "cell_type": "markdown",
   "id": "b461e618",
   "metadata": {
    "papermill": {
     "duration": 0.012218,
     "end_time": "2025-08-19T18:27:30.010205",
     "exception": false,
     "start_time": "2025-08-19T18:27:29.997987",
     "status": "completed"
    },
    "tags": []
   },
   "source": [
    "# Preprocessing Data"
   ]
  },
  {
   "cell_type": "code",
   "execution_count": 21,
   "id": "78e74c4b",
   "metadata": {
    "execution": {
     "iopub.execute_input": "2025-08-19T18:27:30.034596Z",
     "iopub.status.busy": "2025-08-19T18:27:30.032987Z",
     "iopub.status.idle": "2025-08-19T18:27:30.042917Z",
     "shell.execute_reply": "2025-08-19T18:27:30.041336Z"
    },
    "papermill": {
     "duration": 0.023977,
     "end_time": "2025-08-19T18:27:30.044796",
     "exception": false,
     "start_time": "2025-08-19T18:27:30.020819",
     "status": "completed"
    },
    "tags": []
   },
   "outputs": [],
   "source": [
    "# EXCLUDE PROTECTED FEATURES\n",
    "# --------------------------\n",
    "\n",
    "excluded_features = universe[\"exclude_features\"].split(\"-\")\n",
    "excluded_features_dictionary = {\n",
    "    \"nationality\": [\"maxdeutsch1\", \"maxdeutsch.Missing.\"],\n",
    "    \"sex\": [\"frau1\"],\n",
    "    \"age\": [\"age\"],\n",
    "}"
   ]
  },
  {
   "cell_type": "code",
   "execution_count": 22,
   "id": "f8e63555",
   "metadata": {
    "execution": {
     "iopub.execute_input": "2025-08-19T18:27:30.072823Z",
     "iopub.status.busy": "2025-08-19T18:27:30.071226Z",
     "iopub.status.idle": "2025-08-19T18:27:30.080558Z",
     "shell.execute_reply": "2025-08-19T18:27:30.078932Z"
    },
    "papermill": {
     "duration": 0.023796,
     "end_time": "2025-08-19T18:27:30.082147",
     "exception": false,
     "start_time": "2025-08-19T18:27:30.058351",
     "status": "completed"
    },
    "tags": []
   },
   "outputs": [],
   "source": [
    "excluded_features_columns = [\n",
    "    excluded_features_dictionary[f] for f in excluded_features if len(f) > 0 and f != \"none\"\n",
    "]"
   ]
  },
  {
   "cell_type": "code",
   "execution_count": 23,
   "id": "da781f7c",
   "metadata": {
    "execution": {
     "iopub.execute_input": "2025-08-19T18:27:30.108987Z",
     "iopub.status.busy": "2025-08-19T18:27:30.107971Z",
     "iopub.status.idle": "2025-08-19T18:27:30.116442Z",
     "shell.execute_reply": "2025-08-19T18:27:30.114914Z"
    },
    "papermill": {
     "duration": 0.022889,
     "end_time": "2025-08-19T18:27:30.118576",
     "exception": false,
     "start_time": "2025-08-19T18:27:30.095687",
     "status": "completed"
    },
    "tags": []
   },
   "outputs": [],
   "source": [
    "from fairness_multiverse.universe import flatten_once\n",
    "\n",
    "excluded_features_columns = flatten_once(excluded_features_columns)"
   ]
  },
  {
   "cell_type": "code",
   "execution_count": 24,
   "id": "37fef0f0",
   "metadata": {
    "execution": {
     "iopub.execute_input": "2025-08-19T18:27:30.157287Z",
     "iopub.status.busy": "2025-08-19T18:27:30.156040Z",
     "iopub.status.idle": "2025-08-19T18:27:30.175923Z",
     "shell.execute_reply": "2025-08-19T18:27:30.174770Z"
    },
    "papermill": {
     "duration": 0.040885,
     "end_time": "2025-08-19T18:27:30.178427",
     "exception": false,
     "start_time": "2025-08-19T18:27:30.137542",
     "status": "completed"
    },
    "tags": []
   },
   "outputs": [
    {
     "name": "stdout",
     "output_type": "stream",
     "text": [
      "Dropping features: ['maxdeutsch1', 'maxdeutsch.Missing.', 'frau1']\n"
     ]
    }
   ],
   "source": [
    "if len(excluded_features_columns) > 0:\n",
    "    print(f\"Dropping features: {excluded_features_columns}\")\n",
    "    X_train.drop(excluded_features_columns, axis=1, inplace=True)"
   ]
  },
  {
   "cell_type": "code",
   "execution_count": 25,
   "id": "d029e3e9",
   "metadata": {
    "execution": {
     "iopub.execute_input": "2025-08-19T18:27:30.207264Z",
     "iopub.status.busy": "2025-08-19T18:27:30.206128Z",
     "iopub.status.idle": "2025-08-19T18:27:30.262854Z",
     "shell.execute_reply": "2025-08-19T18:27:30.262263Z"
    },
    "papermill": {
     "duration": 0.07111,
     "end_time": "2025-08-19T18:27:30.265220",
     "exception": false,
     "start_time": "2025-08-19T18:27:30.194110",
     "status": "completed"
    },
    "tags": []
   },
   "outputs": [
    {
     "name": "stdout",
     "output_type": "stream",
     "text": [
      "Dropping features: ['maxdeutsch1', 'maxdeutsch.Missing.', 'frau1']\n"
     ]
    }
   ],
   "source": [
    "if len(excluded_features_columns) > 0:\n",
    "    print(f\"Dropping features: {excluded_features_columns}\")\n",
    "    X_test.drop(excluded_features_columns, axis=1, inplace=True)"
   ]
  },
  {
   "cell_type": "code",
   "execution_count": 26,
   "id": "01d571f0",
   "metadata": {
    "execution": {
     "iopub.execute_input": "2025-08-19T18:27:30.303076Z",
     "iopub.status.busy": "2025-08-19T18:27:30.302189Z",
     "iopub.status.idle": "2025-08-19T18:27:30.356216Z",
     "shell.execute_reply": "2025-08-19T18:27:30.355619Z"
    },
    "papermill": {
     "duration": 0.070372,
     "end_time": "2025-08-19T18:27:30.358583",
     "exception": false,
     "start_time": "2025-08-19T18:27:30.288211",
     "status": "completed"
    },
    "tags": []
   },
   "outputs": [
    {
     "name": "stdout",
     "output_type": "stream",
     "text": [
      "Dropping features: ['maxdeutsch1', 'maxdeutsch.Missing.', 'frau1']\n"
     ]
    }
   ],
   "source": [
    "if len(excluded_features_columns) > 0:\n",
    "    print(f\"Dropping features: {excluded_features_columns}\")\n",
    "    X_calib.drop(excluded_features_columns, axis=1, inplace=True)"
   ]
  },
  {
   "cell_type": "code",
   "execution_count": 27,
   "id": "3037356e",
   "metadata": {
    "execution": {
     "iopub.execute_input": "2025-08-19T18:27:30.409961Z",
     "iopub.status.busy": "2025-08-19T18:27:30.408962Z",
     "iopub.status.idle": "2025-08-19T18:27:30.418010Z",
     "shell.execute_reply": "2025-08-19T18:27:30.416392Z"
    },
    "papermill": {
     "duration": 0.023428,
     "end_time": "2025-08-19T18:27:30.419754",
     "exception": false,
     "start_time": "2025-08-19T18:27:30.396326",
     "status": "completed"
    },
    "tags": []
   },
   "outputs": [],
   "source": [
    "# EXCLUDE CERTAIN SUBGROUPS\n",
    "# -------------------------\n",
    "\n",
    "mode = universe.get(\"exclude_subgroups\", \"keep-all\") # Defaults to \"keep-all\" if the key is missing."
   ]
  },
  {
   "cell_type": "code",
   "execution_count": 28,
   "id": "9d1e63fd",
   "metadata": {
    "execution": {
     "iopub.execute_input": "2025-08-19T18:27:30.448646Z",
     "iopub.status.busy": "2025-08-19T18:27:30.446853Z",
     "iopub.status.idle": "2025-08-19T18:27:30.462257Z",
     "shell.execute_reply": "2025-08-19T18:27:30.461202Z"
    },
    "papermill": {
     "duration": 0.030002,
     "end_time": "2025-08-19T18:27:30.463863",
     "exception": false,
     "start_time": "2025-08-19T18:27:30.433861",
     "status": "completed"
    },
    "tags": []
   },
   "outputs": [],
   "source": [
    "if mode == \"keep-all\":\n",
    "    keep_mask = pd.Series(True, index=org_train.index)\n",
    "\n",
    "elif mode == \"drop-non-german\":\n",
    "    keep_mask = (org_train[\"maxdeutsch1\"] == 1) & (org_train[\"maxdeutsch.Missing.\"] == 0)\n",
    "\n",
    "else:\n",
    "    raise ValueError(f\"Unsupported mode for exclude_subgroups: {mode}\")"
   ]
  },
  {
   "cell_type": "code",
   "execution_count": 29,
   "id": "d3b65474",
   "metadata": {
    "execution": {
     "iopub.execute_input": "2025-08-19T18:27:30.489460Z",
     "iopub.status.busy": "2025-08-19T18:27:30.488213Z",
     "iopub.status.idle": "2025-08-19T18:27:30.502452Z",
     "shell.execute_reply": "2025-08-19T18:27:30.501363Z"
    },
    "papermill": {
     "duration": 0.028649,
     "end_time": "2025-08-19T18:27:30.504168",
     "exception": false,
     "start_time": "2025-08-19T18:27:30.475519",
     "status": "completed"
    },
    "tags": []
   },
   "outputs": [],
   "source": [
    "n_drop = (~keep_mask).sum() # Calculates how many rows are set to be dropped\n",
    "if n_drop > 0:\n",
    "    pct = n_drop / len(keep_mask) * 100\n",
    "    print(f\"Dropping {n_drop} rows ({pct:.2f}%) where mode='{mode}'\")"
   ]
  },
  {
   "cell_type": "code",
   "execution_count": 30,
   "id": "f44389b3",
   "metadata": {
    "execution": {
     "iopub.execute_input": "2025-08-19T18:27:30.559500Z",
     "iopub.status.busy": "2025-08-19T18:27:30.558447Z",
     "iopub.status.idle": "2025-08-19T18:27:30.582364Z",
     "shell.execute_reply": "2025-08-19T18:27:30.581151Z"
    },
    "papermill": {
     "duration": 0.049487,
     "end_time": "2025-08-19T18:27:30.584056",
     "exception": false,
     "start_time": "2025-08-19T18:27:30.534569",
     "status": "completed"
    },
    "tags": []
   },
   "outputs": [],
   "source": [
    "X_train = X_train[keep_mask]"
   ]
  },
  {
   "cell_type": "code",
   "execution_count": 31,
   "id": "ceca8c2a",
   "metadata": {
    "execution": {
     "iopub.execute_input": "2025-08-19T18:27:30.615830Z",
     "iopub.status.busy": "2025-08-19T18:27:30.614064Z",
     "iopub.status.idle": "2025-08-19T18:27:30.626957Z",
     "shell.execute_reply": "2025-08-19T18:27:30.625668Z"
    },
    "papermill": {
     "duration": 0.029174,
     "end_time": "2025-08-19T18:27:30.628782",
     "exception": false,
     "start_time": "2025-08-19T18:27:30.599608",
     "status": "completed"
    },
    "tags": []
   },
   "outputs": [],
   "source": [
    "y_train = y_train[keep_mask]"
   ]
  },
  {
   "cell_type": "markdown",
   "id": "04d31e2f",
   "metadata": {
    "papermill": {
     "duration": 0.010863,
     "end_time": "2025-08-19T18:27:30.653701",
     "exception": false,
     "start_time": "2025-08-19T18:27:30.642838",
     "status": "completed"
    },
    "tags": []
   },
   "source": [
    "# Model Training"
   ]
  },
  {
   "cell_type": "code",
   "execution_count": 32,
   "id": "db991733",
   "metadata": {
    "execution": {
     "iopub.execute_input": "2025-08-19T18:27:30.693943Z",
     "iopub.status.busy": "2025-08-19T18:27:30.693408Z",
     "iopub.status.idle": "2025-08-19T18:27:30.800905Z",
     "shell.execute_reply": "2025-08-19T18:27:30.799994Z"
    },
    "papermill": {
     "duration": 0.149753,
     "end_time": "2025-08-19T18:27:30.814219",
     "exception": false,
     "start_time": "2025-08-19T18:27:30.664466",
     "status": "completed"
    },
    "tags": []
   },
   "outputs": [],
   "source": [
    "from sklearn.linear_model import LogisticRegression\n",
    "from sklearn.ensemble import GradientBoostingClassifier, RandomForestClassifier\n",
    "\n",
    "if (universe[\"model\"] == \"logreg\"):\n",
    "    model = LogisticRegression() #penalty=\"none\", solver=\"newton-cg\", max_iter=1)\n",
    "elif (universe[\"model\"] == \"penalized_logreg\"):\n",
    "    model = LogisticRegression(penalty=\"l2\", C=0.1) #, solver=\"newton-cg\", max_iter=1)\n",
    "elif (universe[\"model\"] == \"rf\"):\n",
    "    model = RandomForestClassifier() # n_estimators=100, n_jobs=-1\n",
    "elif (universe[\"model\"] == \"gbm\"):\n",
    "    model = GradientBoostingClassifier()\n",
    "elif (universe[\"model\"] == \"elasticnet\"):\n",
    "    model = LogisticRegression(penalty = 'elasticnet', solver = 'saga', l1_ratio = 0.5) # max_iter=5000\n",
    "else:\n",
    "    raise \"Unsupported universe.model\""
   ]
  },
  {
   "cell_type": "code",
   "execution_count": 33,
   "id": "a4b5cd25",
   "metadata": {
    "execution": {
     "iopub.execute_input": "2025-08-19T18:27:30.845834Z",
     "iopub.status.busy": "2025-08-19T18:27:30.844690Z",
     "iopub.status.idle": "2025-08-19T18:27:30.858228Z",
     "shell.execute_reply": "2025-08-19T18:27:30.856302Z"
    },
    "papermill": {
     "duration": 0.028218,
     "end_time": "2025-08-19T18:27:30.860090",
     "exception": false,
     "start_time": "2025-08-19T18:27:30.831872",
     "status": "completed"
    },
    "tags": []
   },
   "outputs": [],
   "source": [
    "from sklearn.pipeline import Pipeline\n",
    "from sklearn.preprocessing import StandardScaler\n",
    "\n",
    "model = Pipeline([\n",
    "    #(\"continuous_processor\", continuous_processor),\n",
    "    #(\"categorical_preprocessor\", categorical_preprocessor),\n",
    "    (\"scale\", StandardScaler() if universe[\"scale\"] == \"scale\" else None), \n",
    "    (\"model\", model),\n",
    "])"
   ]
  },
  {
   "cell_type": "code",
   "execution_count": 34,
   "id": "283a904d",
   "metadata": {
    "execution": {
     "iopub.execute_input": "2025-08-19T18:27:30.890812Z",
     "iopub.status.busy": "2025-08-19T18:27:30.884060Z",
     "iopub.status.idle": "2025-08-19T18:27:31.053524Z",
     "shell.execute_reply": "2025-08-19T18:27:31.052881Z"
    },
    "papermill": {
     "duration": 0.185976,
     "end_time": "2025-08-19T18:27:31.057985",
     "exception": false,
     "start_time": "2025-08-19T18:27:30.872009",
     "status": "completed"
    },
    "tags": []
   },
   "outputs": [
    {
     "name": "stderr",
     "output_type": "stream",
     "text": [
      "/dss/dsshome1/0C/ra93lal2/.local/share/virtualenvs/CMA_Fairness_v2-3j10GkSs/lib/python3.10/site-packages/sklearn/linear_model/_logistic.py:444: ConvergenceWarning: lbfgs failed to converge (status=1):\n",
      "STOP: TOTAL NO. of ITERATIONS REACHED LIMIT.\n",
      "\n",
      "Increase the number of iterations (max_iter) or scale the data as shown in:\n",
      "    https://scikit-learn.org/stable/modules/preprocessing.html\n",
      "Please also refer to the documentation for alternative solver options:\n",
      "    https://scikit-learn.org/stable/modules/linear_model.html#logistic-regression\n",
      "  n_iter_i = _check_optimize_result(\n"
     ]
    },
    {
     "data": {
      "text/html": [
       "<style>#sk-container-id-1 {color: black;background-color: white;}#sk-container-id-1 pre{padding: 0;}#sk-container-id-1 div.sk-toggleable {background-color: white;}#sk-container-id-1 label.sk-toggleable__label {cursor: pointer;display: block;width: 100%;margin-bottom: 0;padding: 0.3em;box-sizing: border-box;text-align: center;}#sk-container-id-1 label.sk-toggleable__label-arrow:before {content: \"▸\";float: left;margin-right: 0.25em;color: #696969;}#sk-container-id-1 label.sk-toggleable__label-arrow:hover:before {color: black;}#sk-container-id-1 div.sk-estimator:hover label.sk-toggleable__label-arrow:before {color: black;}#sk-container-id-1 div.sk-toggleable__content {max-height: 0;max-width: 0;overflow: hidden;text-align: left;background-color: #f0f8ff;}#sk-container-id-1 div.sk-toggleable__content pre {margin: 0.2em;color: black;border-radius: 0.25em;background-color: #f0f8ff;}#sk-container-id-1 input.sk-toggleable__control:checked~div.sk-toggleable__content {max-height: 200px;max-width: 100%;overflow: auto;}#sk-container-id-1 input.sk-toggleable__control:checked~label.sk-toggleable__label-arrow:before {content: \"▾\";}#sk-container-id-1 div.sk-estimator input.sk-toggleable__control:checked~label.sk-toggleable__label {background-color: #d4ebff;}#sk-container-id-1 div.sk-label input.sk-toggleable__control:checked~label.sk-toggleable__label {background-color: #d4ebff;}#sk-container-id-1 input.sk-hidden--visually {border: 0;clip: rect(1px 1px 1px 1px);clip: rect(1px, 1px, 1px, 1px);height: 1px;margin: -1px;overflow: hidden;padding: 0;position: absolute;width: 1px;}#sk-container-id-1 div.sk-estimator {font-family: monospace;background-color: #f0f8ff;border: 1px dotted black;border-radius: 0.25em;box-sizing: border-box;margin-bottom: 0.5em;}#sk-container-id-1 div.sk-estimator:hover {background-color: #d4ebff;}#sk-container-id-1 div.sk-parallel-item::after {content: \"\";width: 100%;border-bottom: 1px solid gray;flex-grow: 1;}#sk-container-id-1 div.sk-label:hover label.sk-toggleable__label {background-color: #d4ebff;}#sk-container-id-1 div.sk-serial::before {content: \"\";position: absolute;border-left: 1px solid gray;box-sizing: border-box;top: 0;bottom: 0;left: 50%;z-index: 0;}#sk-container-id-1 div.sk-serial {display: flex;flex-direction: column;align-items: center;background-color: white;padding-right: 0.2em;padding-left: 0.2em;position: relative;}#sk-container-id-1 div.sk-item {position: relative;z-index: 1;}#sk-container-id-1 div.sk-parallel {display: flex;align-items: stretch;justify-content: center;background-color: white;position: relative;}#sk-container-id-1 div.sk-item::before, #sk-container-id-1 div.sk-parallel-item::before {content: \"\";position: absolute;border-left: 1px solid gray;box-sizing: border-box;top: 0;bottom: 0;left: 50%;z-index: -1;}#sk-container-id-1 div.sk-parallel-item {display: flex;flex-direction: column;z-index: 1;position: relative;background-color: white;}#sk-container-id-1 div.sk-parallel-item:first-child::after {align-self: flex-end;width: 50%;}#sk-container-id-1 div.sk-parallel-item:last-child::after {align-self: flex-start;width: 50%;}#sk-container-id-1 div.sk-parallel-item:only-child::after {width: 0;}#sk-container-id-1 div.sk-dashed-wrapped {border: 1px dashed gray;margin: 0 0.4em 0.5em 0.4em;box-sizing: border-box;padding-bottom: 0.4em;background-color: white;}#sk-container-id-1 div.sk-label label {font-family: monospace;font-weight: bold;display: inline-block;line-height: 1.2em;}#sk-container-id-1 div.sk-label-container {text-align: center;}#sk-container-id-1 div.sk-container {/* jupyter's `normalize.less` sets `[hidden] { display: none; }` but bootstrap.min.css set `[hidden] { display: none !important; }` so we also need the `!important` here to be able to override the default hidden behavior on the sphinx rendered scikit-learn.org. See: https://github.com/scikit-learn/scikit-learn/issues/21755 */display: inline-block !important;position: relative;}#sk-container-id-1 div.sk-text-repr-fallback {display: none;}</style><div id=\"sk-container-id-1\" class=\"sk-top-container\"><div class=\"sk-text-repr-fallback\"><pre>Pipeline(steps=[(&#x27;scale&#x27;, None), (&#x27;model&#x27;, LogisticRegression())])</pre><b>In a Jupyter environment, please rerun this cell to show the HTML representation or trust the notebook. <br />On GitHub, the HTML representation is unable to render, please try loading this page with nbviewer.org.</b></div><div class=\"sk-container\" hidden><div class=\"sk-item sk-dashed-wrapped\"><div class=\"sk-label-container\"><div class=\"sk-label sk-toggleable\"><input class=\"sk-toggleable__control sk-hidden--visually\" id=\"sk-estimator-id-1\" type=\"checkbox\" ><label for=\"sk-estimator-id-1\" class=\"sk-toggleable__label sk-toggleable__label-arrow\">Pipeline</label><div class=\"sk-toggleable__content\"><pre>Pipeline(steps=[(&#x27;scale&#x27;, None), (&#x27;model&#x27;, LogisticRegression())])</pre></div></div></div><div class=\"sk-serial\"><div class=\"sk-item\"><div class=\"sk-estimator sk-toggleable\"><input class=\"sk-toggleable__control sk-hidden--visually\" id=\"sk-estimator-id-2\" type=\"checkbox\" ><label for=\"sk-estimator-id-2\" class=\"sk-toggleable__label sk-toggleable__label-arrow\">None</label><div class=\"sk-toggleable__content\"><pre>None</pre></div></div></div><div class=\"sk-item\"><div class=\"sk-estimator sk-toggleable\"><input class=\"sk-toggleable__control sk-hidden--visually\" id=\"sk-estimator-id-3\" type=\"checkbox\" ><label for=\"sk-estimator-id-3\" class=\"sk-toggleable__label sk-toggleable__label-arrow\">LogisticRegression</label><div class=\"sk-toggleable__content\"><pre>LogisticRegression()</pre></div></div></div></div></div></div></div>"
      ],
      "text/plain": [
       "Pipeline(steps=[('scale', None), ('model', LogisticRegression())])"
      ]
     },
     "execution_count": 34,
     "metadata": {},
     "output_type": "execute_result"
    }
   ],
   "source": [
    "model.fit(X_train, y_train.values.ravel())"
   ]
  },
  {
   "cell_type": "code",
   "execution_count": 35,
   "id": "6e15e313",
   "metadata": {
    "execution": {
     "iopub.execute_input": "2025-08-19T18:27:31.097729Z",
     "iopub.status.busy": "2025-08-19T18:27:31.096534Z",
     "iopub.status.idle": "2025-08-19T18:27:31.208016Z",
     "shell.execute_reply": "2025-08-19T18:27:31.207381Z"
    },
    "papermill": {
     "duration": 0.127311,
     "end_time": "2025-08-19T18:27:31.210355",
     "exception": false,
     "start_time": "2025-08-19T18:27:31.083044",
     "status": "completed"
    },
    "tags": []
   },
   "outputs": [
    {
     "data": {
      "text/plain": [
       "0.8590792553784417"
      ]
     },
     "execution_count": 35,
     "metadata": {},
     "output_type": "execute_result"
    }
   ],
   "source": [
    "from fairness_multiverse.universe import predict_w_threshold\n",
    "\n",
    "probs_test = model.predict_proba(X_test)\n",
    "\n",
    "'''\n",
    "Below code returns a boolean array (or binary 0/1 array depending on how it’s used) where each element \n",
    "is True if the probability of class 1 is greater than or equal to the threshold, and False otherwise.\n",
    "'''\n",
    "y_pred_default = predict_w_threshold(probs_test, 0.5)\n",
    "\n",
    "from sklearn.metrics import accuracy_score\n",
    "\n",
    "# Naive prediction\n",
    "accuracy_score(y_true = y_true, y_pred = y_pred_default)"
   ]
  },
  {
   "cell_type": "code",
   "execution_count": 36,
   "id": "6f14067c",
   "metadata": {
    "execution": {
     "iopub.execute_input": "2025-08-19T18:27:31.250581Z",
     "iopub.status.busy": "2025-08-19T18:27:31.249403Z",
     "iopub.status.idle": "2025-08-19T18:27:31.343089Z",
     "shell.execute_reply": "2025-08-19T18:27:31.342331Z"
    },
    "papermill": {
     "duration": 0.114777,
     "end_time": "2025-08-19T18:27:31.350013",
     "exception": false,
     "start_time": "2025-08-19T18:27:31.235236",
     "status": "completed"
    },
    "tags": []
   },
   "outputs": [
    {
     "data": {
      "text/plain": [
       "array([0, 0, 0, ..., 0, 0, 0])"
      ]
     },
     "execution_count": 36,
     "metadata": {},
     "output_type": "execute_result"
    }
   ],
   "source": [
    "model.predict(X_test)"
   ]
  },
  {
   "cell_type": "markdown",
   "id": "3759920c",
   "metadata": {
    "papermill": {
     "duration": 0.0124,
     "end_time": "2025-08-19T18:27:31.376958",
     "exception": false,
     "start_time": "2025-08-19T18:27:31.364558",
     "status": "completed"
    },
    "tags": []
   },
   "source": [
    "# Conformal Prediction"
   ]
  },
  {
   "cell_type": "code",
   "execution_count": 37,
   "id": "14b27f59",
   "metadata": {
    "execution": {
     "iopub.execute_input": "2025-08-19T18:27:31.401641Z",
     "iopub.status.busy": "2025-08-19T18:27:31.401204Z",
     "iopub.status.idle": "2025-08-19T18:27:31.405467Z",
     "shell.execute_reply": "2025-08-19T18:27:31.404761Z"
    },
    "papermill": {
     "duration": 0.017851,
     "end_time": "2025-08-19T18:27:31.406443",
     "exception": false,
     "start_time": "2025-08-19T18:27:31.388592",
     "status": "completed"
    },
    "tags": []
   },
   "outputs": [],
   "source": [
    "# Miscoverage level for conformal prediction (10% allowed error rate => 90% target coverage)\n",
    "alpha = 0.1"
   ]
  },
  {
   "cell_type": "code",
   "execution_count": 38,
   "id": "59102472",
   "metadata": {
    "execution": {
     "iopub.execute_input": "2025-08-19T18:27:31.434526Z",
     "iopub.status.busy": "2025-08-19T18:27:31.433716Z",
     "iopub.status.idle": "2025-08-19T18:27:31.533654Z",
     "shell.execute_reply": "2025-08-19T18:27:31.532435Z"
    },
    "papermill": {
     "duration": 0.116924,
     "end_time": "2025-08-19T18:27:31.535563",
     "exception": false,
     "start_time": "2025-08-19T18:27:31.418639",
     "status": "completed"
    },
    "tags": []
   },
   "outputs": [],
   "source": [
    "probs_calib = model.predict_proba(X_calib)"
   ]
  },
  {
   "cell_type": "code",
   "execution_count": 39,
   "id": "a792d4dd",
   "metadata": {
    "execution": {
     "iopub.execute_input": "2025-08-19T18:27:31.561750Z",
     "iopub.status.busy": "2025-08-19T18:27:31.560561Z",
     "iopub.status.idle": "2025-08-19T18:27:31.569878Z",
     "shell.execute_reply": "2025-08-19T18:27:31.568228Z"
    },
    "papermill": {
     "duration": 0.034351,
     "end_time": "2025-08-19T18:27:31.581768",
     "exception": false,
     "start_time": "2025-08-19T18:27:31.547417",
     "status": "completed"
    },
    "tags": []
   },
   "outputs": [],
   "source": [
    "y_calib = y_calib.values.ravel().astype(int)"
   ]
  },
  {
   "cell_type": "code",
   "execution_count": 40,
   "id": "650fd033",
   "metadata": {
    "execution": {
     "iopub.execute_input": "2025-08-19T18:27:31.609486Z",
     "iopub.status.busy": "2025-08-19T18:27:31.608185Z",
     "iopub.status.idle": "2025-08-19T18:27:31.620062Z",
     "shell.execute_reply": "2025-08-19T18:27:31.618624Z"
    },
    "papermill": {
     "duration": 0.026805,
     "end_time": "2025-08-19T18:27:31.621739",
     "exception": false,
     "start_time": "2025-08-19T18:27:31.594934",
     "status": "completed"
    },
    "tags": []
   },
   "outputs": [],
   "source": [
    "from fairness_multiverse.conformal import compute_nc_scores\n",
    "\n",
    "# Compute nonconformity scores on calibration set (1 - probability of true class)\n",
    "nc_scores = compute_nc_scores(probs_calib, y_calib)"
   ]
  },
  {
   "cell_type": "code",
   "execution_count": 41,
   "id": "28ada44c",
   "metadata": {
    "execution": {
     "iopub.execute_input": "2025-08-19T18:27:31.671351Z",
     "iopub.status.busy": "2025-08-19T18:27:31.670610Z",
     "iopub.status.idle": "2025-08-19T18:27:31.677546Z",
     "shell.execute_reply": "2025-08-19T18:27:31.676307Z"
    },
    "papermill": {
     "duration": 0.033296,
     "end_time": "2025-08-19T18:27:31.681600",
     "exception": false,
     "start_time": "2025-08-19T18:27:31.648304",
     "status": "completed"
    },
    "tags": []
   },
   "outputs": [],
   "source": [
    "from fairness_multiverse.conformal import find_threshold\n",
    "\n",
    "# Find conformal threshold q_hat for the given alpha (split conformal method)\n",
    "q_hat = find_threshold(nc_scores, alpha)"
   ]
  },
  {
   "cell_type": "code",
   "execution_count": 42,
   "id": "df56469e",
   "metadata": {
    "execution": {
     "iopub.execute_input": "2025-08-19T18:27:31.728398Z",
     "iopub.status.busy": "2025-08-19T18:27:31.727996Z",
     "iopub.status.idle": "2025-08-19T18:27:31.734490Z",
     "shell.execute_reply": "2025-08-19T18:27:31.733667Z"
    },
    "papermill": {
     "duration": 0.024873,
     "end_time": "2025-08-19T18:27:31.735904",
     "exception": false,
     "start_time": "2025-08-19T18:27:31.711031",
     "status": "completed"
    },
    "tags": []
   },
   "outputs": [
    {
     "data": {
      "text/plain": [
       "0.6814909133311964"
      ]
     },
     "execution_count": 42,
     "metadata": {},
     "output_type": "execute_result"
    }
   ],
   "source": [
    "q_hat"
   ]
  },
  {
   "cell_type": "code",
   "execution_count": 43,
   "id": "aa1f5faa",
   "metadata": {
    "execution": {
     "iopub.execute_input": "2025-08-19T18:27:31.761126Z",
     "iopub.status.busy": "2025-08-19T18:27:31.760747Z",
     "iopub.status.idle": "2025-08-19T18:27:32.282347Z",
     "shell.execute_reply": "2025-08-19T18:27:32.281302Z"
    },
    "papermill": {
     "duration": 0.536544,
     "end_time": "2025-08-19T18:27:32.284283",
     "exception": false,
     "start_time": "2025-08-19T18:27:31.747739",
     "status": "completed"
    },
    "tags": []
   },
   "outputs": [],
   "source": [
    "from fairness_multiverse.conformal import predict_conformal_sets\n",
    "\n",
    "# Generate prediction sets for each test example\n",
    "pred_sets = predict_conformal_sets(model, X_test, q_hat)"
   ]
  },
  {
   "cell_type": "code",
   "execution_count": 44,
   "id": "97f67a6b",
   "metadata": {
    "execution": {
     "iopub.execute_input": "2025-08-19T18:27:32.311112Z",
     "iopub.status.busy": "2025-08-19T18:27:32.310704Z",
     "iopub.status.idle": "2025-08-19T18:27:32.315944Z",
     "shell.execute_reply": "2025-08-19T18:27:32.315101Z"
    },
    "papermill": {
     "duration": 0.024019,
     "end_time": "2025-08-19T18:27:32.321261",
     "exception": false,
     "start_time": "2025-08-19T18:27:32.297242",
     "status": "completed"
    },
    "tags": []
   },
   "outputs": [],
   "source": [
    "y_true = y_true.squeeze()"
   ]
  },
  {
   "cell_type": "code",
   "execution_count": 45,
   "id": "e700e9a7",
   "metadata": {
    "execution": {
     "iopub.execute_input": "2025-08-19T18:27:32.372054Z",
     "iopub.status.busy": "2025-08-19T18:27:32.371720Z",
     "iopub.status.idle": "2025-08-19T18:27:32.929337Z",
     "shell.execute_reply": "2025-08-19T18:27:32.928040Z"
    },
    "papermill": {
     "duration": 0.576815,
     "end_time": "2025-08-19T18:27:32.931050",
     "exception": false,
     "start_time": "2025-08-19T18:27:32.354235",
     "status": "completed"
    },
    "tags": []
   },
   "outputs": [],
   "source": [
    "from fairness_multiverse.conformal import evaluate_sets\n",
    "\n",
    "# Evaluate coverage and average set size on test data\n",
    "metrics = evaluate_sets(pred_sets, y_true)"
   ]
  },
  {
   "cell_type": "markdown",
   "id": "efbacec0",
   "metadata": {
    "papermill": {
     "duration": 0.012444,
     "end_time": "2025-08-19T18:27:32.969236",
     "exception": false,
     "start_time": "2025-08-19T18:27:32.956792",
     "status": "completed"
    },
    "tags": []
   },
   "source": [
    "# CP Metrics"
   ]
  },
  {
   "cell_type": "code",
   "execution_count": 46,
   "id": "9de55fb1",
   "metadata": {
    "execution": {
     "iopub.execute_input": "2025-08-19T18:27:32.995043Z",
     "iopub.status.busy": "2025-08-19T18:27:32.994584Z",
     "iopub.status.idle": "2025-08-19T18:27:33.001778Z",
     "shell.execute_reply": "2025-08-19T18:27:33.000802Z"
    },
    "papermill": {
     "duration": 0.021955,
     "end_time": "2025-08-19T18:27:33.003001",
     "exception": false,
     "start_time": "2025-08-19T18:27:32.981046",
     "status": "completed"
    },
    "tags": []
   },
   "outputs": [
    {
     "data": {
      "text/plain": [
       "{'coverage': 0.9109352357596701, 'avg_size': 1.1973024189053618}"
      ]
     },
     "execution_count": 46,
     "metadata": {},
     "output_type": "execute_result"
    }
   ],
   "source": [
    "metrics"
   ]
  },
  {
   "cell_type": "code",
   "execution_count": 47,
   "id": "64c340a1",
   "metadata": {
    "execution": {
     "iopub.execute_input": "2025-08-19T18:27:33.028620Z",
     "iopub.status.busy": "2025-08-19T18:27:33.028253Z",
     "iopub.status.idle": "2025-08-19T18:27:33.037231Z",
     "shell.execute_reply": "2025-08-19T18:27:33.036164Z"
    },
    "papermill": {
     "duration": 0.024047,
     "end_time": "2025-08-19T18:27:33.039765",
     "exception": false,
     "start_time": "2025-08-19T18:27:33.015718",
     "status": "completed"
    },
    "tags": []
   },
   "outputs": [],
   "source": [
    "example_universe = universe.copy()\n",
    "universe_training_year = example_universe.get(\"training_year\")\n",
    "universe_training_size = example_universe.get(\"training_size\")\n",
    "universe_scale = example_universe.get(\"scale\")\n",
    "universe_model = example_universe.get(\"model\")\n",
    "universe_exclude_features = example_universe.get(\"exclude_features\")\n",
    "universe_exclude_subgroups = example_universe.get(\"exclude_subgroups\")"
   ]
  },
  {
   "cell_type": "code",
   "execution_count": 48,
   "id": "dbb53cb4",
   "metadata": {
    "execution": {
     "iopub.execute_input": "2025-08-19T18:27:33.092262Z",
     "iopub.status.busy": "2025-08-19T18:27:33.091865Z",
     "iopub.status.idle": "2025-08-19T18:27:33.098880Z",
     "shell.execute_reply": "2025-08-19T18:27:33.096094Z"
    },
    "papermill": {
     "duration": 0.027209,
     "end_time": "2025-08-19T18:27:33.105546",
     "exception": false,
     "start_time": "2025-08-19T18:27:33.078337",
     "status": "completed"
    },
    "tags": []
   },
   "outputs": [],
   "source": [
    "cp_metrics_dict = {\n",
    "    \"universe_id\": [universe_id],\n",
    "    \"universe_training_year\": [universe_training_year],\n",
    "    \"universe_training_size\": [universe_training_size],\n",
    "    \"universe_scale\": [universe_scale],\n",
    "    \"universe_model\": [universe_model],\n",
    "    \"universe_exclude_features\": [universe_exclude_features],\n",
    "    \"universe_exclude_subgroups\": [universe_exclude_subgroups],\n",
    "    \"q_hat\": [q_hat],\n",
    "    \"coverage\": [metrics[\"coverage\"]],\n",
    "    \"avg_size\": [metrics[\"avg_size\"]],\n",
    "}"
   ]
  },
  {
   "cell_type": "code",
   "execution_count": 49,
   "id": "0d70d4b2",
   "metadata": {
    "execution": {
     "iopub.execute_input": "2025-08-19T18:27:33.138645Z",
     "iopub.status.busy": "2025-08-19T18:27:33.138151Z",
     "iopub.status.idle": "2025-08-19T18:27:33.147422Z",
     "shell.execute_reply": "2025-08-19T18:27:33.146747Z"
    },
    "papermill": {
     "duration": 0.02984,
     "end_time": "2025-08-19T18:27:33.149965",
     "exception": false,
     "start_time": "2025-08-19T18:27:33.120125",
     "status": "completed"
    },
    "tags": []
   },
   "outputs": [],
   "source": [
    "cp_metrics_df = pd.DataFrame(cp_metrics_dict)"
   ]
  },
  {
   "cell_type": "code",
   "execution_count": 50,
   "id": "b494403c",
   "metadata": {
    "execution": {
     "iopub.execute_input": "2025-08-19T18:27:33.189838Z",
     "iopub.status.busy": "2025-08-19T18:27:33.188851Z",
     "iopub.status.idle": "2025-08-19T18:27:33.214166Z",
     "shell.execute_reply": "2025-08-19T18:27:33.213369Z"
    },
    "papermill": {
     "duration": 0.041474,
     "end_time": "2025-08-19T18:27:33.215861",
     "exception": false,
     "start_time": "2025-08-19T18:27:33.174387",
     "status": "completed"
    },
    "tags": []
   },
   "outputs": [
    {
     "data": {
      "text/html": [
       "<div>\n",
       "<style scoped>\n",
       "    .dataframe tbody tr th:only-of-type {\n",
       "        vertical-align: middle;\n",
       "    }\n",
       "\n",
       "    .dataframe tbody tr th {\n",
       "        vertical-align: top;\n",
       "    }\n",
       "\n",
       "    .dataframe thead th {\n",
       "        text-align: right;\n",
       "    }\n",
       "</style>\n",
       "<table border=\"1\" class=\"dataframe\">\n",
       "  <thead>\n",
       "    <tr style=\"text-align: right;\">\n",
       "      <th></th>\n",
       "      <th>universe_id</th>\n",
       "      <th>universe_training_year</th>\n",
       "      <th>universe_training_size</th>\n",
       "      <th>universe_scale</th>\n",
       "      <th>universe_model</th>\n",
       "      <th>universe_exclude_features</th>\n",
       "      <th>universe_exclude_subgroups</th>\n",
       "      <th>q_hat</th>\n",
       "      <th>coverage</th>\n",
       "      <th>avg_size</th>\n",
       "    </tr>\n",
       "  </thead>\n",
       "  <tbody>\n",
       "    <tr>\n",
       "      <th>0</th>\n",
       "      <td>2355d7bfe8294f8157de46ed8edc7bf7</td>\n",
       "      <td>2014</td>\n",
       "      <td>5k</td>\n",
       "      <td>do-not-scale</td>\n",
       "      <td>logreg</td>\n",
       "      <td>nationality-sex</td>\n",
       "      <td>keep-all</td>\n",
       "      <td>0.681491</td>\n",
       "      <td>0.910935</td>\n",
       "      <td>1.197302</td>\n",
       "    </tr>\n",
       "  </tbody>\n",
       "</table>\n",
       "</div>"
      ],
      "text/plain": [
       "                        universe_id universe_training_year  \\\n",
       "0  2355d7bfe8294f8157de46ed8edc7bf7                   2014   \n",
       "\n",
       "  universe_training_size universe_scale universe_model  \\\n",
       "0                     5k   do-not-scale         logreg   \n",
       "\n",
       "  universe_exclude_features universe_exclude_subgroups     q_hat  coverage  \\\n",
       "0           nationality-sex                   keep-all  0.681491  0.910935   \n",
       "\n",
       "   avg_size  \n",
       "0  1.197302  "
      ]
     },
     "execution_count": 50,
     "metadata": {},
     "output_type": "execute_result"
    }
   ],
   "source": [
    "cp_metrics_df"
   ]
  },
  {
   "cell_type": "markdown",
   "id": "ed608b0b",
   "metadata": {
    "papermill": {
     "duration": 0.012682,
     "end_time": "2025-08-19T18:27:33.252300",
     "exception": false,
     "start_time": "2025-08-19T18:27:33.239618",
     "status": "completed"
    },
    "tags": []
   },
   "source": [
    "Conditional coverage & looking at subgroups"
   ]
  },
  {
   "cell_type": "code",
   "execution_count": 51,
   "id": "8968c366",
   "metadata": {
    "execution": {
     "iopub.execute_input": "2025-08-19T18:27:33.292226Z",
     "iopub.status.busy": "2025-08-19T18:27:33.290929Z",
     "iopub.status.idle": "2025-08-19T18:27:33.609276Z",
     "shell.execute_reply": "2025-08-19T18:27:33.608458Z"
    },
    "papermill": {
     "duration": 0.340985,
     "end_time": "2025-08-19T18:27:33.610975",
     "exception": false,
     "start_time": "2025-08-19T18:27:33.269990",
     "status": "completed"
    },
    "tags": []
   },
   "outputs": [],
   "source": [
    "from fairness_multiverse.conformal import build_cp_groups\n",
    "\n",
    "cp_groups_df = build_cp_groups(pred_sets, y_true, X_test.index, org_test)"
   ]
  },
  {
   "cell_type": "code",
   "execution_count": 52,
   "id": "292ddabf",
   "metadata": {
    "execution": {
     "iopub.execute_input": "2025-08-19T18:27:33.650099Z",
     "iopub.status.busy": "2025-08-19T18:27:33.649641Z",
     "iopub.status.idle": "2025-08-19T18:27:34.595974Z",
     "shell.execute_reply": "2025-08-19T18:27:34.594688Z"
    },
    "papermill": {
     "duration": 0.973194,
     "end_time": "2025-08-19T18:27:34.598357",
     "exception": false,
     "start_time": "2025-08-19T18:27:33.625163",
     "status": "completed"
    },
    "tags": []
   },
   "outputs": [],
   "source": [
    "# Define covered = 1 if true_label is in the predicted set\n",
    "cp_groups_df['covered'] = cp_groups_df.apply(\n",
    "    lambda r: int(r['true_label'] in r['pred_set']),\n",
    "    axis=1\n",
    ")"
   ]
  },
  {
   "cell_type": "code",
   "execution_count": 53,
   "id": "3a261692",
   "metadata": {
    "execution": {
     "iopub.execute_input": "2025-08-19T18:27:34.660962Z",
     "iopub.status.busy": "2025-08-19T18:27:34.660194Z",
     "iopub.status.idle": "2025-08-19T18:27:34.676434Z",
     "shell.execute_reply": "2025-08-19T18:27:34.675741Z"
    },
    "papermill": {
     "duration": 0.056049,
     "end_time": "2025-08-19T18:27:34.678169",
     "exception": false,
     "start_time": "2025-08-19T18:27:34.622120",
     "status": "completed"
    },
    "tags": []
   },
   "outputs": [],
   "source": [
    "subgroups = ['frau1','nongerman','nongerman_male','nongerman_female']\n",
    "\n",
    "# Conditional coverage for subgroup==1\n",
    "cond_coverage = {\n",
    "    g: cp_groups_df.loc[cp_groups_df[g]==1, 'covered'].mean()\n",
    "    for g in subgroups\n",
    "}"
   ]
  },
  {
   "cell_type": "code",
   "execution_count": 54,
   "id": "894fd600",
   "metadata": {
    "execution": {
     "iopub.execute_input": "2025-08-19T18:27:34.714348Z",
     "iopub.status.busy": "2025-08-19T18:27:34.713704Z",
     "iopub.status.idle": "2025-08-19T18:27:34.725961Z",
     "shell.execute_reply": "2025-08-19T18:27:34.724938Z"
    },
    "papermill": {
     "duration": 0.034683,
     "end_time": "2025-08-19T18:27:34.731302",
     "exception": false,
     "start_time": "2025-08-19T18:27:34.696619",
     "status": "completed"
    },
    "tags": []
   },
   "outputs": [
    {
     "data": {
      "text/plain": [
       "{'frau1': 0.9085051893786225,\n",
       " 'nongerman': 0.9248863189805199,\n",
       " 'nongerman_male': 0.9402864090786274,\n",
       " 'nongerman_female': 0.8994038748137109}"
      ]
     },
     "execution_count": 54,
     "metadata": {},
     "output_type": "execute_result"
    }
   ],
   "source": [
    "cond_coverage"
   ]
  },
  {
   "cell_type": "code",
   "execution_count": 55,
   "id": "942895c7",
   "metadata": {
    "execution": {
     "iopub.execute_input": "2025-08-19T18:27:34.761187Z",
     "iopub.status.busy": "2025-08-19T18:27:34.760106Z",
     "iopub.status.idle": "2025-08-19T18:27:34.774858Z",
     "shell.execute_reply": "2025-08-19T18:27:34.773604Z"
    },
    "papermill": {
     "duration": 0.032323,
     "end_time": "2025-08-19T18:27:34.776719",
     "exception": false,
     "start_time": "2025-08-19T18:27:34.744396",
     "status": "completed"
    },
    "tags": []
   },
   "outputs": [],
   "source": [
    "for subgroup, cov in cond_coverage.items():\n",
    "    cp_metrics_df[f\"cov_{subgroup}\"] = cov"
   ]
  },
  {
   "cell_type": "code",
   "execution_count": 56,
   "id": "3970120f",
   "metadata": {
    "execution": {
     "iopub.execute_input": "2025-08-19T18:27:34.807348Z",
     "iopub.status.busy": "2025-08-19T18:27:34.806153Z",
     "iopub.status.idle": "2025-08-19T18:27:34.832194Z",
     "shell.execute_reply": "2025-08-19T18:27:34.831106Z"
    },
    "papermill": {
     "duration": 0.042629,
     "end_time": "2025-08-19T18:27:34.834672",
     "exception": false,
     "start_time": "2025-08-19T18:27:34.792043",
     "status": "completed"
    },
    "tags": []
   },
   "outputs": [
    {
     "data": {
      "text/html": [
       "<div>\n",
       "<style scoped>\n",
       "    .dataframe tbody tr th:only-of-type {\n",
       "        vertical-align: middle;\n",
       "    }\n",
       "\n",
       "    .dataframe tbody tr th {\n",
       "        vertical-align: top;\n",
       "    }\n",
       "\n",
       "    .dataframe thead th {\n",
       "        text-align: right;\n",
       "    }\n",
       "</style>\n",
       "<table border=\"1\" class=\"dataframe\">\n",
       "  <thead>\n",
       "    <tr style=\"text-align: right;\">\n",
       "      <th></th>\n",
       "      <th>universe_id</th>\n",
       "      <th>universe_training_year</th>\n",
       "      <th>universe_training_size</th>\n",
       "      <th>universe_scale</th>\n",
       "      <th>universe_model</th>\n",
       "      <th>universe_exclude_features</th>\n",
       "      <th>universe_exclude_subgroups</th>\n",
       "      <th>q_hat</th>\n",
       "      <th>coverage</th>\n",
       "      <th>avg_size</th>\n",
       "      <th>cov_frau1</th>\n",
       "      <th>cov_nongerman</th>\n",
       "      <th>cov_nongerman_male</th>\n",
       "      <th>cov_nongerman_female</th>\n",
       "    </tr>\n",
       "  </thead>\n",
       "  <tbody>\n",
       "    <tr>\n",
       "      <th>0</th>\n",
       "      <td>2355d7bfe8294f8157de46ed8edc7bf7</td>\n",
       "      <td>2014</td>\n",
       "      <td>5k</td>\n",
       "      <td>do-not-scale</td>\n",
       "      <td>logreg</td>\n",
       "      <td>nationality-sex</td>\n",
       "      <td>keep-all</td>\n",
       "      <td>0.681491</td>\n",
       "      <td>0.910935</td>\n",
       "      <td>1.197302</td>\n",
       "      <td>0.908505</td>\n",
       "      <td>0.924886</td>\n",
       "      <td>0.940286</td>\n",
       "      <td>0.899404</td>\n",
       "    </tr>\n",
       "  </tbody>\n",
       "</table>\n",
       "</div>"
      ],
      "text/plain": [
       "                        universe_id universe_training_year  \\\n",
       "0  2355d7bfe8294f8157de46ed8edc7bf7                   2014   \n",
       "\n",
       "  universe_training_size universe_scale universe_model  \\\n",
       "0                     5k   do-not-scale         logreg   \n",
       "\n",
       "  universe_exclude_features universe_exclude_subgroups     q_hat  coverage  \\\n",
       "0           nationality-sex                   keep-all  0.681491  0.910935   \n",
       "\n",
       "   avg_size  cov_frau1  cov_nongerman  cov_nongerman_male  \\\n",
       "0  1.197302   0.908505       0.924886            0.940286   \n",
       "\n",
       "   cov_nongerman_female  \n",
       "0              0.899404  "
      ]
     },
     "execution_count": 56,
     "metadata": {},
     "output_type": "execute_result"
    }
   ],
   "source": [
    "cp_metrics_df"
   ]
  },
  {
   "cell_type": "markdown",
   "id": "3fc519cc",
   "metadata": {
    "papermill": {
     "duration": 0.013128,
     "end_time": "2025-08-19T18:27:34.869713",
     "exception": false,
     "start_time": "2025-08-19T18:27:34.856585",
     "status": "completed"
    },
    "tags": []
   },
   "source": [
    "# (Fairness) Metrics"
   ]
  },
  {
   "cell_type": "code",
   "execution_count": 57,
   "id": "a2e5e155",
   "metadata": {
    "execution": {
     "iopub.execute_input": "2025-08-19T18:27:34.896732Z",
     "iopub.status.busy": "2025-08-19T18:27:34.896368Z",
     "iopub.status.idle": "2025-08-19T18:27:34.919514Z",
     "shell.execute_reply": "2025-08-19T18:27:34.918792Z"
    },
    "papermill": {
     "duration": 0.037791,
     "end_time": "2025-08-19T18:27:34.920992",
     "exception": false,
     "start_time": "2025-08-19T18:27:34.883201",
     "status": "completed"
    },
    "tags": []
   },
   "outputs": [],
   "source": [
    "colname_to_bin = \"maxdeutsch1\"\n",
    "majority_value = org_train[colname_to_bin].mode()[0]\n",
    "\n",
    "org_test[\"majmin\"] = np.where(org_test[colname_to_bin] == majority_value, \"majority\", \"minority\")"
   ]
  },
  {
   "cell_type": "code",
   "execution_count": 58,
   "id": "17e3e4d5",
   "metadata": {
    "execution": {
     "iopub.execute_input": "2025-08-19T18:27:34.949809Z",
     "iopub.status.busy": "2025-08-19T18:27:34.949462Z",
     "iopub.status.idle": "2025-08-19T18:27:36.680641Z",
     "shell.execute_reply": "2025-08-19T18:27:36.679381Z"
    },
    "papermill": {
     "duration": 1.748263,
     "end_time": "2025-08-19T18:27:36.682169",
     "exception": false,
     "start_time": "2025-08-19T18:27:34.933906",
     "status": "completed"
    },
    "tags": []
   },
   "outputs": [],
   "source": [
    "example_universe = universe.copy()\n",
    "example_universe[\"cutoff\"] = example_universe[\"cutoff\"][0]\n",
    "example_universe[\"eval_fairness_grouping\"] = example_universe[\"eval_fairness_grouping\"][0]\n",
    "fairness_dict, metric_frame = universe_analysis.compute_metrics(\n",
    "    example_universe,\n",
    "    y_pred_prob=probs_test,\n",
    "    y_test=y_true,\n",
    "    org_test=org_test,\n",
    ")"
   ]
  },
  {
   "cell_type": "markdown",
   "id": "1fb7a0e9",
   "metadata": {
    "papermill": {
     "duration": 0.013596,
     "end_time": "2025-08-19T18:27:36.711373",
     "exception": false,
     "start_time": "2025-08-19T18:27:36.697777",
     "status": "completed"
    },
    "tags": []
   },
   "source": [
    "# Overall"
   ]
  },
  {
   "cell_type": "markdown",
   "id": "be1784b1",
   "metadata": {
    "papermill": {
     "duration": 0.020623,
     "end_time": "2025-08-19T18:27:36.747675",
     "exception": false,
     "start_time": "2025-08-19T18:27:36.727052",
     "status": "completed"
    },
    "tags": []
   },
   "source": [
    "Main fairness target: Equalized Odds. Seems to be a better fit than equal opportunity, since we're not only interested in Y = 1. Seems to be a better fit than demographic parity, since we also care about accuracy, not just equal distribution of preds.\n",
    "\n",
    "Pick column for computation of fairness metrics\n",
    "\n",
    "Performance\n",
    "Overall performance measures, most interesting in relation to the measures split by group below"
   ]
  },
  {
   "cell_type": "code",
   "execution_count": 59,
   "id": "b7672bee",
   "metadata": {
    "execution": {
     "iopub.execute_input": "2025-08-19T18:27:36.777405Z",
     "iopub.status.busy": "2025-08-19T18:27:36.776083Z",
     "iopub.status.idle": "2025-08-19T18:27:36.790933Z",
     "shell.execute_reply": "2025-08-19T18:27:36.789925Z"
    },
    "papermill": {
     "duration": 0.031766,
     "end_time": "2025-08-19T18:27:36.792560",
     "exception": false,
     "start_time": "2025-08-19T18:27:36.760794",
     "status": "completed"
    },
    "tags": []
   },
   "outputs": [
    {
     "data": {
      "text/plain": [
       "accuracy                   0.216553\n",
       "balanced accuracy          0.531141\n",
       "f1                         0.238100\n",
       "precision                  0.136019\n",
       "false positive rate        0.892010\n",
       "false negative rate        0.045707\n",
       "selection rate             0.900000\n",
       "count                  89710.000000\n",
       "dtype: float64"
      ]
     },
     "execution_count": 59,
     "metadata": {},
     "output_type": "execute_result"
    }
   ],
   "source": [
    "metric_frame.overall"
   ]
  },
  {
   "cell_type": "markdown",
   "id": "d93333c9",
   "metadata": {
    "papermill": {
     "duration": 0.013342,
     "end_time": "2025-08-19T18:27:36.839130",
     "exception": false,
     "start_time": "2025-08-19T18:27:36.825788",
     "status": "completed"
    },
    "tags": []
   },
   "source": [
    "By Group"
   ]
  },
  {
   "cell_type": "code",
   "execution_count": 60,
   "id": "52256966",
   "metadata": {
    "execution": {
     "iopub.execute_input": "2025-08-19T18:27:36.867806Z",
     "iopub.status.busy": "2025-08-19T18:27:36.866843Z",
     "iopub.status.idle": "2025-08-19T18:27:36.899598Z",
     "shell.execute_reply": "2025-08-19T18:27:36.898781Z"
    },
    "papermill": {
     "duration": 0.049723,
     "end_time": "2025-08-19T18:27:36.901901",
     "exception": false,
     "start_time": "2025-08-19T18:27:36.852178",
     "status": "completed"
    },
    "tags": []
   },
   "outputs": [
    {
     "data": {
      "text/html": [
       "<div>\n",
       "<style scoped>\n",
       "    .dataframe tbody tr th:only-of-type {\n",
       "        vertical-align: middle;\n",
       "    }\n",
       "\n",
       "    .dataframe tbody tr th {\n",
       "        vertical-align: top;\n",
       "    }\n",
       "\n",
       "    .dataframe thead th {\n",
       "        text-align: right;\n",
       "    }\n",
       "</style>\n",
       "<table border=\"1\" class=\"dataframe\">\n",
       "  <thead>\n",
       "    <tr style=\"text-align: right;\">\n",
       "      <th></th>\n",
       "      <th>accuracy</th>\n",
       "      <th>balanced accuracy</th>\n",
       "      <th>f1</th>\n",
       "      <th>precision</th>\n",
       "      <th>false positive rate</th>\n",
       "      <th>false negative rate</th>\n",
       "      <th>selection rate</th>\n",
       "      <th>count</th>\n",
       "    </tr>\n",
       "    <tr>\n",
       "      <th>majmin</th>\n",
       "      <th></th>\n",
       "      <th></th>\n",
       "      <th></th>\n",
       "      <th></th>\n",
       "      <th></th>\n",
       "      <th></th>\n",
       "      <th></th>\n",
       "      <th></th>\n",
       "    </tr>\n",
       "  </thead>\n",
       "  <tbody>\n",
       "    <tr>\n",
       "      <th>majority</th>\n",
       "      <td>0.237907</td>\n",
       "      <td>0.538351</td>\n",
       "      <td>0.247158</td>\n",
       "      <td>0.142132</td>\n",
       "      <td>0.870015</td>\n",
       "      <td>0.053282</td>\n",
       "      <td>0.880150</td>\n",
       "      <td>69170.0</td>\n",
       "    </tr>\n",
       "    <tr>\n",
       "      <th>minority</th>\n",
       "      <td>0.144645</td>\n",
       "      <td>0.509430</td>\n",
       "      <td>0.209565</td>\n",
       "      <td>0.117277</td>\n",
       "      <td>0.964671</td>\n",
       "      <td>0.016470</td>\n",
       "      <td>0.966845</td>\n",
       "      <td>20540.0</td>\n",
       "    </tr>\n",
       "  </tbody>\n",
       "</table>\n",
       "</div>"
      ],
      "text/plain": [
       "          accuracy  balanced accuracy        f1  precision  \\\n",
       "majmin                                                       \n",
       "majority  0.237907           0.538351  0.247158   0.142132   \n",
       "minority  0.144645           0.509430  0.209565   0.117277   \n",
       "\n",
       "          false positive rate  false negative rate  selection rate    count  \n",
       "majmin                                                                       \n",
       "majority             0.870015             0.053282        0.880150  69170.0  \n",
       "minority             0.964671             0.016470        0.966845  20540.0  "
      ]
     },
     "execution_count": 60,
     "metadata": {},
     "output_type": "execute_result"
    }
   ],
   "source": [
    "metric_frame.by_group"
   ]
  },
  {
   "cell_type": "code",
   "execution_count": 61,
   "id": "6e6c20ae",
   "metadata": {
    "execution": {
     "iopub.execute_input": "2025-08-19T18:27:36.941867Z",
     "iopub.status.busy": "2025-08-19T18:27:36.941494Z",
     "iopub.status.idle": "2025-08-19T18:27:38.769479Z",
     "shell.execute_reply": "2025-08-19T18:27:38.767627Z"
    },
    "papermill": {
     "duration": 1.844313,
     "end_time": "2025-08-19T18:27:38.771229",
     "exception": false,
     "start_time": "2025-08-19T18:27:36.926916",
     "status": "completed"
    },
    "tags": []
   },
   "outputs": [
    {
     "data": {
      "text/plain": [
       "array([[<Axes: title={'center': 'accuracy'}, xlabel='majmin'>,\n",
       "        <Axes: title={'center': 'balanced accuracy'}, xlabel='majmin'>,\n",
       "        <Axes: title={'center': 'f1'}, xlabel='majmin'>],\n",
       "       [<Axes: title={'center': 'precision'}, xlabel='majmin'>,\n",
       "        <Axes: title={'center': 'false positive rate'}, xlabel='majmin'>,\n",
       "        <Axes: title={'center': 'false negative rate'}, xlabel='majmin'>],\n",
       "       [<Axes: title={'center': 'selection rate'}, xlabel='majmin'>,\n",
       "        <Axes: title={'center': 'count'}, xlabel='majmin'>,\n",
       "        <Axes: xlabel='majmin'>]], dtype=object)"
      ]
     },
     "execution_count": 61,
     "metadata": {},
     "output_type": "execute_result"
    },
    {
     "data": {
      "image/png": "[encoded data removed]",
      "text/plain": [
       "<Figure size 1200x800 with 9 Axes>"
      ]
     },
     "metadata": {},
     "output_type": "display_data"
    }
   ],
   "source": [
    "# In a graphic\n",
    "metric_frame.by_group.plot.bar(\n",
    "    subplots=True,\n",
    "    layout=[3, 3],\n",
    "    legend=False,\n",
    "    figsize=[12, 8],\n",
    "    title=\"Show all metrics\",\n",
    ")"
   ]
  },
  {
   "cell_type": "markdown",
   "id": "b2e433ae",
   "metadata": {
    "papermill": {
     "duration": 0.015008,
     "end_time": "2025-08-19T18:27:38.806048",
     "exception": false,
     "start_time": "2025-08-19T18:27:38.791040",
     "status": "completed"
    },
    "tags": []
   },
   "source": [
    "# Final Output"
   ]
  },
  {
   "cell_type": "code",
   "execution_count": 62,
   "id": "3871301e",
   "metadata": {
    "execution": {
     "iopub.execute_input": "2025-08-19T18:27:38.839702Z",
     "iopub.status.busy": "2025-08-19T18:27:38.838774Z",
     "iopub.status.idle": "2025-08-19T18:27:38.850283Z",
     "shell.execute_reply": "2025-08-19T18:27:38.849337Z"
    },
    "papermill": {
     "duration": 0.028441,
     "end_time": "2025-08-19T18:27:38.851762",
     "exception": false,
     "start_time": "2025-08-19T18:27:38.823321",
     "status": "completed"
    },
    "tags": []
   },
   "outputs": [
    {
     "data": {
      "text/plain": [
       "4"
      ]
     },
     "execution_count": 62,
     "metadata": {},
     "output_type": "execute_result"
    }
   ],
   "source": [
    "sub_universes = universe_analysis.generate_sub_universes()\n",
    "len(sub_universes)"
   ]
  },
  {
   "cell_type": "code",
   "execution_count": 63,
   "id": "d9cfdaca",
   "metadata": {
    "execution": {
     "iopub.execute_input": "2025-08-19T18:27:38.900275Z",
     "iopub.status.busy": "2025-08-19T18:27:38.899363Z",
     "iopub.status.idle": "2025-08-19T18:27:39.112462Z",
     "shell.execute_reply": "2025-08-19T18:27:39.111625Z"
    },
    "papermill": {
     "duration": 0.243986,
     "end_time": "2025-08-19T18:27:39.114147",
     "exception": false,
     "start_time": "2025-08-19T18:27:38.870161",
     "status": "completed"
    },
    "tags": []
   },
   "outputs": [],
   "source": [
    "def filter_sub_universe_data(sub_universe, org_test):\n",
    "    # Keep all rows — no filtering\n",
    "    keep_rows_mask = np.ones(org_test.shape[0], dtype=bool)\n",
    "\n",
    "    print(f\"[INFO] Keeping all rows: {keep_rows_mask.sum()} rows retained.\")\n",
    "    return keep_rows_mask"
   ]
  },
  {
   "cell_type": "code",
   "execution_count": 64,
   "id": "2bc31ac1",
   "metadata": {
    "execution": {
     "iopub.execute_input": "2025-08-19T18:27:39.143838Z",
     "iopub.status.busy": "2025-08-19T18:27:39.143557Z",
     "iopub.status.idle": "2025-08-19T18:27:45.841495Z",
     "shell.execute_reply": "2025-08-19T18:27:45.840510Z"
    },
    "papermill": {
     "duration": 6.713914,
     "end_time": "2025-08-19T18:27:45.842627",
     "exception": false,
     "start_time": "2025-08-19T18:27:39.128713",
     "status": "completed"
    },
    "tags": []
   },
   "outputs": [
    {
     "name": "stdout",
     "output_type": "stream",
     "text": [
      "Stopping execution_time clock.\n",
      "[INFO] Keeping all rows: 89710 rows retained.\n"
     ]
    },
    {
     "name": "stdout",
     "output_type": "stream",
     "text": [
      "[INFO] Keeping all rows: 89710 rows retained.\n"
     ]
    },
    {
     "name": "stdout",
     "output_type": "stream",
     "text": [
      "[INFO] Keeping all rows: 89710 rows retained.\n"
     ]
    },
    {
     "name": "stdout",
     "output_type": "stream",
     "text": [
      "[INFO] Keeping all rows: 89710 rows retained.\n"
     ]
    },
    {
     "data": {
      "text/html": [
       "<div>\n",
       "<style scoped>\n",
       "    .dataframe tbody tr th:only-of-type {\n",
       "        vertical-align: middle;\n",
       "    }\n",
       "\n",
       "    .dataframe tbody tr th {\n",
       "        vertical-align: top;\n",
       "    }\n",
       "\n",
       "    .dataframe thead th {\n",
       "        text-align: right;\n",
       "    }\n",
       "</style>\n",
       "<table border=\"1\" class=\"dataframe\">\n",
       "  <thead>\n",
       "    <tr style=\"text-align: right;\">\n",
       "      <th></th>\n",
       "      <th>run_no</th>\n",
       "      <th>universe_id</th>\n",
       "      <th>universe_settings</th>\n",
       "      <th>execution_time</th>\n",
       "      <th>test_size_n</th>\n",
       "      <th>test_size_frac</th>\n",
       "      <th>fair_main_equalized_odds_difference</th>\n",
       "      <th>fair_main_equalized_odds_ratio</th>\n",
       "      <th>fair_main_demographic_parity_difference</th>\n",
       "      <th>fair_main_demographic_parity_ratio</th>\n",
       "      <th>...</th>\n",
       "      <th>perf_grp_precision_0</th>\n",
       "      <th>perf_grp_precision_1</th>\n",
       "      <th>perf_grp_false positive rate_0</th>\n",
       "      <th>perf_grp_false positive rate_1</th>\n",
       "      <th>perf_grp_false negative rate_0</th>\n",
       "      <th>perf_grp_false negative rate_1</th>\n",
       "      <th>perf_grp_selection rate_0</th>\n",
       "      <th>perf_grp_selection rate_1</th>\n",
       "      <th>perf_grp_count_0</th>\n",
       "      <th>perf_grp_count_1</th>\n",
       "    </tr>\n",
       "  </thead>\n",
       "  <tbody>\n",
       "    <tr>\n",
       "      <th>0</th>\n",
       "      <td>3</td>\n",
       "      <td>2355d7bfe8294f8157de46ed8edc7bf7</td>\n",
       "      <td>{\"cutoff\": \"quantile_0.1\", \"eval_fairness_grou...</td>\n",
       "      <td>20.110502</td>\n",
       "      <td>89710</td>\n",
       "      <td>1.0</td>\n",
       "      <td>0.094656</td>\n",
       "      <td>0.901877</td>\n",
       "      <td>0.086695</td>\n",
       "      <td>0.910332</td>\n",
       "      <td>...</td>\n",
       "      <td>NaN</td>\n",
       "      <td>NaN</td>\n",
       "      <td>NaN</td>\n",
       "      <td>NaN</td>\n",
       "      <td>NaN</td>\n",
       "      <td>NaN</td>\n",
       "      <td>NaN</td>\n",
       "      <td>NaN</td>\n",
       "      <td>NaN</td>\n",
       "      <td>NaN</td>\n",
       "    </tr>\n",
       "    <tr>\n",
       "      <th>0</th>\n",
       "      <td>3</td>\n",
       "      <td>2355d7bfe8294f8157de46ed8edc7bf7</td>\n",
       "      <td>{\"cutoff\": \"quantile_0.1\", \"eval_fairness_grou...</td>\n",
       "      <td>20.110502</td>\n",
       "      <td>89710</td>\n",
       "      <td>1.0</td>\n",
       "      <td>0.094656</td>\n",
       "      <td>0.901877</td>\n",
       "      <td>0.086695</td>\n",
       "      <td>0.910332</td>\n",
       "      <td>...</td>\n",
       "      <td>0.117277</td>\n",
       "      <td>0.142132</td>\n",
       "      <td>0.964671</td>\n",
       "      <td>0.870015</td>\n",
       "      <td>0.016470</td>\n",
       "      <td>0.053282</td>\n",
       "      <td>0.966845</td>\n",
       "      <td>0.880150</td>\n",
       "      <td>20540.0</td>\n",
       "      <td>69170.0</td>\n",
       "    </tr>\n",
       "    <tr>\n",
       "      <th>0</th>\n",
       "      <td>3</td>\n",
       "      <td>2355d7bfe8294f8157de46ed8edc7bf7</td>\n",
       "      <td>{\"cutoff\": \"quantile_0.25\", \"eval_fairness_gro...</td>\n",
       "      <td>20.110502</td>\n",
       "      <td>89710</td>\n",
       "      <td>1.0</td>\n",
       "      <td>0.207110</td>\n",
       "      <td>0.767119</td>\n",
       "      <td>0.189940</td>\n",
       "      <td>0.788119</td>\n",
       "      <td>...</td>\n",
       "      <td>NaN</td>\n",
       "      <td>NaN</td>\n",
       "      <td>NaN</td>\n",
       "      <td>NaN</td>\n",
       "      <td>NaN</td>\n",
       "      <td>NaN</td>\n",
       "      <td>NaN</td>\n",
       "      <td>NaN</td>\n",
       "      <td>NaN</td>\n",
       "      <td>NaN</td>\n",
       "    </tr>\n",
       "    <tr>\n",
       "      <th>0</th>\n",
       "      <td>3</td>\n",
       "      <td>2355d7bfe8294f8157de46ed8edc7bf7</td>\n",
       "      <td>{\"cutoff\": \"quantile_0.25\", \"eval_fairness_gro...</td>\n",
       "      <td>20.110502</td>\n",
       "      <td>89710</td>\n",
       "      <td>1.0</td>\n",
       "      <td>0.207110</td>\n",
       "      <td>0.767119</td>\n",
       "      <td>0.189940</td>\n",
       "      <td>0.788119</td>\n",
       "      <td>...</td>\n",
       "      <td>0.122305</td>\n",
       "      <td>0.161964</td>\n",
       "      <td>0.889335</td>\n",
       "      <td>0.682226</td>\n",
       "      <td>0.048986</td>\n",
       "      <td>0.134026</td>\n",
       "      <td>0.896446</td>\n",
       "      <td>0.706506</td>\n",
       "      <td>20540.0</td>\n",
       "      <td>69170.0</td>\n",
       "    </tr>\n",
       "  </tbody>\n",
       "</table>\n",
       "<p>4 rows × 50 columns</p>\n",
       "</div>"
      ],
      "text/plain": [
       "  run_no                       universe_id  \\\n",
       "0      3  2355d7bfe8294f8157de46ed8edc7bf7   \n",
       "0      3  2355d7bfe8294f8157de46ed8edc7bf7   \n",
       "0      3  2355d7bfe8294f8157de46ed8edc7bf7   \n",
       "0      3  2355d7bfe8294f8157de46ed8edc7bf7   \n",
       "\n",
       "                                   universe_settings  execution_time  \\\n",
       "0  {\"cutoff\": \"quantile_0.1\", \"eval_fairness_grou...       20.110502   \n",
       "0  {\"cutoff\": \"quantile_0.1\", \"eval_fairness_grou...       20.110502   \n",
       "0  {\"cutoff\": \"quantile_0.25\", \"eval_fairness_gro...       20.110502   \n",
       "0  {\"cutoff\": \"quantile_0.25\", \"eval_fairness_gro...       20.110502   \n",
       "\n",
       "   test_size_n  test_size_frac  fair_main_equalized_odds_difference  \\\n",
       "0        89710             1.0                             0.094656   \n",
       "0        89710             1.0                             0.094656   \n",
       "0        89710             1.0                             0.207110   \n",
       "0        89710             1.0                             0.207110   \n",
       "\n",
       "   fair_main_equalized_odds_ratio  fair_main_demographic_parity_difference  \\\n",
       "0                        0.901877                                 0.086695   \n",
       "0                        0.901877                                 0.086695   \n",
       "0                        0.767119                                 0.189940   \n",
       "0                        0.767119                                 0.189940   \n",
       "\n",
       "   fair_main_demographic_parity_ratio  ...  perf_grp_precision_0  \\\n",
       "0                            0.910332  ...                   NaN   \n",
       "0                            0.910332  ...              0.117277   \n",
       "0                            0.788119  ...                   NaN   \n",
       "0                            0.788119  ...              0.122305   \n",
       "\n",
       "   perf_grp_precision_1  perf_grp_false positive rate_0  \\\n",
       "0                   NaN                             NaN   \n",
       "0              0.142132                        0.964671   \n",
       "0                   NaN                             NaN   \n",
       "0              0.161964                        0.889335   \n",
       "\n",
       "   perf_grp_false positive rate_1  perf_grp_false negative rate_0  \\\n",
       "0                             NaN                             NaN   \n",
       "0                        0.870015                        0.016470   \n",
       "0                             NaN                             NaN   \n",
       "0                        0.682226                        0.048986   \n",
       "\n",
       "   perf_grp_false negative rate_1  perf_grp_selection rate_0  \\\n",
       "0                             NaN                        NaN   \n",
       "0                        0.053282                   0.966845   \n",
       "0                             NaN                        NaN   \n",
       "0                        0.134026                   0.896446   \n",
       "\n",
       "   perf_grp_selection rate_1  perf_grp_count_0  perf_grp_count_1  \n",
       "0                        NaN               NaN               NaN  \n",
       "0                   0.880150           20540.0           69170.0  \n",
       "0                        NaN               NaN               NaN  \n",
       "0                   0.706506           20540.0           69170.0  \n",
       "\n",
       "[4 rows x 50 columns]"
      ]
     },
     "execution_count": 64,
     "metadata": {},
     "output_type": "execute_result"
    }
   ],
   "source": [
    "final_output = universe_analysis.generate_final_output(\n",
    "    y_pred_prob=probs_test,\n",
    "    y_test=y_true,\n",
    "    org_test=org_test,\n",
    "    filter_data=filter_sub_universe_data,\n",
    "    cp_metrics_df=cp_metrics_df,\n",
    "    save=True,\n",
    ")\n",
    "final_output"
   ]
  },
  {
   "cell_type": "code",
   "execution_count": null,
   "id": "8b80a1ff",
   "metadata": {
    "papermill": {
     "duration": 0.014142,
     "end_time": "2025-08-19T18:27:45.873974",
     "exception": false,
     "start_time": "2025-08-19T18:27:45.859832",
     "status": "completed"
    },
    "tags": []
   },
   "outputs": [],
   "source": []
  },
  {
   "cell_type": "code",
   "execution_count": null,
   "id": "275c9fad",
   "metadata": {
    "papermill": {
     "duration": 0.014185,
     "end_time": "2025-08-19T18:27:45.902156",
     "exception": false,
     "start_time": "2025-08-19T18:27:45.887971",
     "status": "completed"
    },
    "tags": []
   },
   "outputs": [],
   "source": []
  }
 ],
 "metadata": {
  "celltoolbar": "Tags",
  "kernelspec": {
   "display_name": "Python (CMA Fairness)",
   "language": "python",
   "name": "cma_fair_env"
  },
  "language_info": {
   "codemirror_mode": {
    "name": "ipython",
    "version": 3
   },
   "file_extension": ".py",
   "mimetype": "text/x-python",
   "name": "python",
   "nbconvert_exporter": "python",
   "pygments_lexer": "ipython3",
   "version": "3.10.12"
  },
  "papermill": {
   "default_parameters": {},
   "duration": 30.43118,
   "end_time": "2025-08-19T18:27:46.747362",
   "environment_variables": {},
   "exception": null,
   "input_path": "universe_analysis.ipynb",
   "output_path": "output/runs/3/notebooks/m_3-2355d7bfe8294f8157de46ed8edc7bf7.ipynb",
   "parameters": {
    "output_dir": "output",
    "run_no": "3",
    "seed": "2023",
    "universe": "{\"cutoff\": [\"quantile_0.1\", \"quantile_0.25\"], \"eval_fairness_grouping\": [\"majority-minority\", \"nationality-all\"], \"exclude_features\": \"nationality-sex\", \"exclude_subgroups\": \"keep-all\", \"model\": \"logreg\", \"scale\": \"do-not-scale\", \"training_size\": \"5k\", \"training_year\": \"2014\"}",
    "universe_id": "2355d7bfe8294f8157de46ed8edc7bf7"
   },
   "start_time": "2025-08-19T18:27:16.316182",
   "version": "2.6.0"
  }
 },
 "nbformat": 4,
 "nbformat_minor": 5
}