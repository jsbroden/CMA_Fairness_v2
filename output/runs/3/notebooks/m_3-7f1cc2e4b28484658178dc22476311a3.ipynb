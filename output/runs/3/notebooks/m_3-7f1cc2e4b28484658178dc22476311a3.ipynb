{
 "cells": [
  {
   "cell_type": "markdown",
   "id": "ef23dbb3",
   "metadata": {
    "papermill": {
     "duration": 0.023044,
     "end_time": "2025-08-19T18:13:24.066470",
     "exception": false,
     "start_time": "2025-08-19T18:13:24.043426",
     "status": "completed"
    },
    "tags": []
   },
   "source": [
    "# Setup"
   ]
  },
  {
   "cell_type": "code",
   "execution_count": 1,
   "id": "0bc8e7dc",
   "metadata": {
    "execution": {
     "iopub.execute_input": "2025-08-19T18:13:24.089615Z",
     "iopub.status.busy": "2025-08-19T18:13:24.088912Z",
     "iopub.status.idle": "2025-08-19T18:13:24.105440Z",
     "shell.execute_reply": "2025-08-19T18:13:24.104459Z"
    },
    "papermill": {
     "duration": 0.028835,
     "end_time": "2025-08-19T18:13:24.107780",
     "exception": false,
     "start_time": "2025-08-19T18:13:24.078945",
     "status": "completed"
    },
    "tags": []
   },
   "outputs": [
    {
     "name": "stdout",
     "output_type": "stream",
     "text": [
      "/dss/dsshome1/0C/ra93lal2/cma/CMA_Fairness_v2\n"
     ]
    },
    {
     "name": "stderr",
     "output_type": "stream",
     "text": [
      "/dss/dsshome1/0C/ra93lal2/.local/share/virtualenvs/CMA_Fairness_v2-3j10GkSs/lib/python3.10/site-packages/IPython/core/magics/osm.py:393: UserWarning: This is now an optional IPython functionality, using bookmarks requires you to install the `pickleshare` library.\n",
      "  bkms = self.shell.db.get('bookmarks', {})\n",
      "/dss/dsshome1/0C/ra93lal2/.local/share/virtualenvs/CMA_Fairness_v2-3j10GkSs/lib/python3.10/site-packages/IPython/core/magics/osm.py:417: UserWarning: This is now an optional IPython functionality, setting dhist requires you to install the `pickleshare` library.\n",
      "  self.shell.db['dhist'] = compress_dhist(dhist)[-100:]\n"
     ]
    }
   ],
   "source": [
    "%cd ~/cma/CMA_Fairness_v2"
   ]
  },
  {
   "cell_type": "markdown",
   "id": "9d235661",
   "metadata": {
    "papermill": {
     "duration": 0.00934,
     "end_time": "2025-08-19T18:13:24.128314",
     "exception": false,
     "start_time": "2025-08-19T18:13:24.118974",
     "status": "completed"
    },
    "tags": []
   },
   "source": [
    "The following cell holds the definition of our parameters, these values can be overriden by rendering the with e.g. the following command:\n",
    "\n",
    "papermill -p alpha 0.2 -p ratio 0.3 universe_analysis.ipynb output/test_run.ipynb"
   ]
  },
  {
   "cell_type": "code",
   "execution_count": 2,
   "id": "4a789d8e",
   "metadata": {
    "execution": {
     "iopub.execute_input": "2025-08-19T18:13:24.146957Z",
     "iopub.status.busy": "2025-08-19T18:13:24.146612Z",
     "iopub.status.idle": "2025-08-19T18:13:24.151059Z",
     "shell.execute_reply": "2025-08-19T18:13:24.150278Z"
    },
    "papermill": {
     "duration": 0.016568,
     "end_time": "2025-08-19T18:13:24.153510",
     "exception": false,
     "start_time": "2025-08-19T18:13:24.136942",
     "status": "completed"
    },
    "tags": []
   },
   "outputs": [
    {
     "name": "stdout",
     "output_type": "stream",
     "text": [
      "Current working directory: /dss/dsshome1/0C/ra93lal2/cma/CMA_Fairness_v2\n"
     ]
    }
   ],
   "source": [
    "import os\n",
    "print(\"Current working directory:\", os.getcwd())"
   ]
  },
  {
   "cell_type": "code",
   "execution_count": 3,
   "id": "4132aaed",
   "metadata": {
    "execution": {
     "iopub.execute_input": "2025-08-19T18:13:24.174081Z",
     "iopub.status.busy": "2025-08-19T18:13:24.173733Z",
     "iopub.status.idle": "2025-08-19T18:13:24.200935Z",
     "shell.execute_reply": "2025-08-19T18:13:24.199611Z"
    },
    "papermill": {
     "duration": 0.040677,
     "end_time": "2025-08-19T18:13:24.203508",
     "exception": false,
     "start_time": "2025-08-19T18:13:24.162831",
     "status": "completed"
    },
    "tags": [
     "parameters"
    ]
   },
   "outputs": [],
   "source": [
    "run_no = 0\n",
    "universe_id = \"test\"\n",
    "universe = {\n",
    "    \"training_size\": \"5k\", # \"25k\", \"5k\", \"1k\"\n",
    "    \"training_year\": \"2012_14\", # \"2014\", \"2012_14\", \"2010_14\"\n",
    "    \"scale\": \"scale\", # \"scale\", \"do-not-scale\",\n",
    "    \"model\": \"elasticnet\", # \"logreg\", \"penalized_logreg\", \"rf\", \"gbm\", \"elasticnet\"\n",
    "    \"cutoff\": [\"quantile_0.15\", \"quantile_0.30\"],\n",
    "    \"exclude_features\": \"age\", # \"none\", \"nationality\", \"sex\", \"nationality-sex\", \"age\"\n",
    "    \"exclude_subgroups\": \"drop-non-german\", # \"keep-all\", \"drop-non-german\"\n",
    "    \"eval_fairness_grouping\": [\"majority-minority\", \"nationality-all\"]\n",
    "}\n",
    "\n",
    "output_dir=\"./output\"\n",
    "seed=0"
   ]
  },
  {
   "cell_type": "code",
   "execution_count": 4,
   "id": "bd2e1f70",
   "metadata": {
    "execution": {
     "iopub.execute_input": "2025-08-19T18:13:24.228502Z",
     "iopub.status.busy": "2025-08-19T18:13:24.228153Z",
     "iopub.status.idle": "2025-08-19T18:13:24.232893Z",
     "shell.execute_reply": "2025-08-19T18:13:24.232133Z"
    },
    "papermill": {
     "duration": 0.016599,
     "end_time": "2025-08-19T18:13:24.234287",
     "exception": false,
     "start_time": "2025-08-19T18:13:24.217688",
     "status": "completed"
    },
    "tags": [
     "injected-parameters"
    ]
   },
   "outputs": [],
   "source": [
    "# Parameters\n",
    "universe_id = \"7f1cc2e4b28484658178dc22476311a3\"\n",
    "run_no = \"3\"\n",
    "universe = \"{\\\"cutoff\\\": [\\\"quantile_0.1\\\", \\\"quantile_0.25\\\"], \\\"eval_fairness_grouping\\\": [\\\"majority-minority\\\", \\\"nationality-all\\\"], \\\"exclude_features\\\": \\\"none\\\", \\\"exclude_subgroups\\\": \\\"keep-all\\\", \\\"model\\\": \\\"penalized_logreg\\\", \\\"scale\\\": \\\"scale\\\", \\\"training_size\\\": \\\"25k\\\", \\\"training_year\\\": \\\"2010_14\\\"}\"\n",
    "output_dir = \"output\"\n",
    "seed = \"2023\"\n"
   ]
  },
  {
   "cell_type": "code",
   "execution_count": 5,
   "id": "a5d7941f",
   "metadata": {
    "execution": {
     "iopub.execute_input": "2025-08-19T18:13:24.253468Z",
     "iopub.status.busy": "2025-08-19T18:13:24.253176Z",
     "iopub.status.idle": "2025-08-19T18:13:24.302393Z",
     "shell.execute_reply": "2025-08-19T18:13:24.300774Z"
    },
    "papermill": {
     "duration": 0.06334,
     "end_time": "2025-08-19T18:13:24.306674",
     "exception": false,
     "start_time": "2025-08-19T18:13:24.243334",
     "status": "completed"
    },
    "tags": []
   },
   "outputs": [],
   "source": [
    "import json\n",
    "if isinstance(universe, str):\n",
    "    universe = json.loads(universe)"
   ]
  },
  {
   "cell_type": "code",
   "execution_count": 6,
   "id": "7076ccb1",
   "metadata": {
    "execution": {
     "iopub.execute_input": "2025-08-19T18:13:24.337616Z",
     "iopub.status.busy": "2025-08-19T18:13:24.337272Z",
     "iopub.status.idle": "2025-08-19T18:13:24.373572Z",
     "shell.execute_reply": "2025-08-19T18:13:24.372436Z"
    },
    "papermill": {
     "duration": 0.050739,
     "end_time": "2025-08-19T18:13:24.376372",
     "exception": false,
     "start_time": "2025-08-19T18:13:24.325633",
     "status": "completed"
    },
    "tags": []
   },
   "outputs": [],
   "source": [
    "# Auto-reload the custom package\n",
    "%load_ext autoreload\n",
    "%autoreload 1\n",
    "%aimport fairness_multiverse"
   ]
  },
  {
   "cell_type": "code",
   "execution_count": 7,
   "id": "94c8eb93",
   "metadata": {
    "execution": {
     "iopub.execute_input": "2025-08-19T18:13:24.397903Z",
     "iopub.status.busy": "2025-08-19T18:13:24.397416Z",
     "iopub.status.idle": "2025-08-19T18:13:26.165278Z",
     "shell.execute_reply": "2025-08-19T18:13:26.164163Z"
    },
    "papermill": {
     "duration": 1.780772,
     "end_time": "2025-08-19T18:13:26.166886",
     "exception": false,
     "start_time": "2025-08-19T18:13:24.386114",
     "status": "completed"
    },
    "tags": []
   },
   "outputs": [],
   "source": [
    "from fairness_multiverse.universe import UniverseAnalysis\n",
    "\n",
    "universe_analysis = UniverseAnalysis(\n",
    "    run_no = run_no,\n",
    "    universe_id = universe_id,\n",
    "    universe = universe,\n",
    "    output_dir=output_dir,\n",
    ")"
   ]
  },
  {
   "cell_type": "code",
   "execution_count": 8,
   "id": "2a6381cf",
   "metadata": {
    "execution": {
     "iopub.execute_input": "2025-08-19T18:13:26.187559Z",
     "iopub.status.busy": "2025-08-19T18:13:26.186944Z",
     "iopub.status.idle": "2025-08-19T18:13:26.202677Z",
     "shell.execute_reply": "2025-08-19T18:13:26.201256Z"
    },
    "papermill": {
     "duration": 0.028024,
     "end_time": "2025-08-19T18:13:26.204362",
     "exception": false,
     "start_time": "2025-08-19T18:13:26.176338",
     "status": "completed"
    },
    "tags": []
   },
   "outputs": [
    {
     "name": "stdout",
     "output_type": "stream",
     "text": [
      "Using Seed: 2023\n"
     ]
    }
   ],
   "source": [
    "import numpy as np\n",
    "parsed_seed = int(seed)\n",
    "np.random.seed(parsed_seed)\n",
    "print(f\"Using Seed: {parsed_seed}\")"
   ]
  },
  {
   "cell_type": "markdown",
   "id": "b6e958b4",
   "metadata": {
    "papermill": {
     "duration": 0.009784,
     "end_time": "2025-08-19T18:13:26.227593",
     "exception": false,
     "start_time": "2025-08-19T18:13:26.217809",
     "status": "completed"
    },
    "tags": []
   },
   "source": [
    "# Loading Data"
   ]
  },
  {
   "cell_type": "code",
   "execution_count": 9,
   "id": "98701482",
   "metadata": {
    "execution": {
     "iopub.execute_input": "2025-08-19T18:13:26.248402Z",
     "iopub.status.busy": "2025-08-19T18:13:26.247271Z",
     "iopub.status.idle": "2025-08-19T18:13:36.380910Z",
     "shell.execute_reply": "2025-08-19T18:13:36.379443Z"
    },
    "papermill": {
     "duration": 10.14594,
     "end_time": "2025-08-19T18:13:36.382427",
     "exception": false,
     "start_time": "2025-08-19T18:13:26.236487",
     "status": "completed"
    },
    "tags": []
   },
   "outputs": [
    {
     "name": "stdout",
     "output_type": "stream",
     "text": [
      "Loading SIAB data from cache: data/siab_cached.csv.gz\n"
     ]
    },
    {
     "name": "stdout",
     "output_type": "stream",
     "text": [
      "(643690, 164)\n"
     ]
    }
   ],
   "source": [
    "from pathlib import Path\n",
    "import pandas as pd\n",
    "\n",
    "# File paths\n",
    "raw_file = Path(\"data/raw/siab.csv\")\n",
    "cache_file = Path(\"data/siab_cached.csv.gz\")\n",
    "\n",
    "# Ensure cache directory exists\n",
    "cache_file.parent.mkdir(parents=True, exist_ok=True)\n",
    "\n",
    "# Load with simple caching\n",
    "if cache_file.exists():\n",
    "    print(f\"Loading SIAB data from cache: {cache_file}\")\n",
    "    siab = pd.read_csv(cache_file, compression='gzip')\n",
    "else:\n",
    "    print(f\"Cache not found. Reading raw SIAB data: {raw_file}\")\n",
    "    siab = pd.read_csv(raw_file)\n",
    "    siab.to_csv(cache_file, index=False, compression='gzip')\n",
    "    print(f\"Cached SIAB data to: {cache_file}\")\n",
    "\n",
    "print(siab.shape)"
   ]
  },
  {
   "cell_type": "code",
   "execution_count": 10,
   "id": "058d2abb",
   "metadata": {
    "execution": {
     "iopub.execute_input": "2025-08-19T18:13:36.405751Z",
     "iopub.status.busy": "2025-08-19T18:13:36.405286Z",
     "iopub.status.idle": "2025-08-19T18:13:36.581391Z",
     "shell.execute_reply": "2025-08-19T18:13:36.580491Z"
    },
    "papermill": {
     "duration": 0.188591,
     "end_time": "2025-08-19T18:13:36.583092",
     "exception": false,
     "start_time": "2025-08-19T18:13:36.394501",
     "status": "completed"
    },
    "tags": []
   },
   "outputs": [
    {
     "data": {
      "text/html": [
       "<div>\n",
       "<style scoped>\n",
       "    .dataframe tbody tr th:only-of-type {\n",
       "        vertical-align: middle;\n",
       "    }\n",
       "\n",
       "    .dataframe tbody tr th {\n",
       "        vertical-align: top;\n",
       "    }\n",
       "\n",
       "    .dataframe thead th {\n",
       "        text-align: right;\n",
       "    }\n",
       "</style>\n",
       "<table border=\"1\" class=\"dataframe\">\n",
       "  <thead>\n",
       "    <tr style=\"text-align: right;\">\n",
       "      <th></th>\n",
       "      <th>persnr</th>\n",
       "      <th>year</th>\n",
       "      <th>nrEntry</th>\n",
       "      <th>ltue</th>\n",
       "      <th>employed_before</th>\n",
       "      <th>receipt_leh_before</th>\n",
       "      <th>receipt_lhg_before</th>\n",
       "      <th>se_before</th>\n",
       "      <th>ASU_notue_seeking_before</th>\n",
       "      <th>ASU_other_before</th>\n",
       "      <th>...</th>\n",
       "      <th>minijob_tot_dur_byage</th>\n",
       "      <th>ft_tot_dur_byage</th>\n",
       "      <th>befrist_tot_dur_byage</th>\n",
       "      <th>leih_tot_dur_byage</th>\n",
       "      <th>LHG_tot_dur_byage</th>\n",
       "      <th>LEH_tot_dur_byage</th>\n",
       "      <th>almp_tot_dur_byage</th>\n",
       "      <th>almp_aw_tot_dur_byage</th>\n",
       "      <th>se_tot_dur_byage</th>\n",
       "      <th>seeking1_tot_dur_byage</th>\n",
       "    </tr>\n",
       "  </thead>\n",
       "  <tbody>\n",
       "    <tr>\n",
       "      <th>0</th>\n",
       "      <td>7</td>\n",
       "      <td>2015</td>\n",
       "      <td>1</td>\n",
       "      <td>0</td>\n",
       "      <td>1</td>\n",
       "      <td>0</td>\n",
       "      <td>0</td>\n",
       "      <td>0</td>\n",
       "      <td>1</td>\n",
       "      <td>0</td>\n",
       "      <td>...</td>\n",
       "      <td>0.000000</td>\n",
       "      <td>0.000000</td>\n",
       "      <td>15.043478</td>\n",
       "      <td>0.000000</td>\n",
       "      <td>0.000000</td>\n",
       "      <td>0.000000</td>\n",
       "      <td>0.000000</td>\n",
       "      <td>0.000000</td>\n",
       "      <td>0.000000</td>\n",
       "      <td>0.000000</td>\n",
       "    </tr>\n",
       "    <tr>\n",
       "      <th>1</th>\n",
       "      <td>18</td>\n",
       "      <td>2010</td>\n",
       "      <td>1</td>\n",
       "      <td>1</td>\n",
       "      <td>0</td>\n",
       "      <td>0</td>\n",
       "      <td>0</td>\n",
       "      <td>0</td>\n",
       "      <td>0</td>\n",
       "      <td>0</td>\n",
       "      <td>...</td>\n",
       "      <td>0.000000</td>\n",
       "      <td>0.000000</td>\n",
       "      <td>0.000000</td>\n",
       "      <td>0.000000</td>\n",
       "      <td>0.000000</td>\n",
       "      <td>0.000000</td>\n",
       "      <td>0.000000</td>\n",
       "      <td>0.000000</td>\n",
       "      <td>0.000000</td>\n",
       "      <td>0.000000</td>\n",
       "    </tr>\n",
       "    <tr>\n",
       "      <th>2</th>\n",
       "      <td>18</td>\n",
       "      <td>2011</td>\n",
       "      <td>2</td>\n",
       "      <td>0</td>\n",
       "      <td>1</td>\n",
       "      <td>0</td>\n",
       "      <td>1</td>\n",
       "      <td>0</td>\n",
       "      <td>1</td>\n",
       "      <td>0</td>\n",
       "      <td>...</td>\n",
       "      <td>2.714286</td>\n",
       "      <td>2.714286</td>\n",
       "      <td>0.000000</td>\n",
       "      <td>0.000000</td>\n",
       "      <td>10.775510</td>\n",
       "      <td>0.000000</td>\n",
       "      <td>8.367347</td>\n",
       "      <td>0.000000</td>\n",
       "      <td>0.000000</td>\n",
       "      <td>9.836735</td>\n",
       "    </tr>\n",
       "    <tr>\n",
       "      <th>3</th>\n",
       "      <td>18</td>\n",
       "      <td>2012</td>\n",
       "      <td>3</td>\n",
       "      <td>0</td>\n",
       "      <td>1</td>\n",
       "      <td>0</td>\n",
       "      <td>1</td>\n",
       "      <td>0</td>\n",
       "      <td>1</td>\n",
       "      <td>0</td>\n",
       "      <td>...</td>\n",
       "      <td>4.200000</td>\n",
       "      <td>4.200000</td>\n",
       "      <td>0.000000</td>\n",
       "      <td>0.000000</td>\n",
       "      <td>12.100000</td>\n",
       "      <td>0.000000</td>\n",
       "      <td>9.400000</td>\n",
       "      <td>0.000000</td>\n",
       "      <td>0.000000</td>\n",
       "      <td>9.960000</td>\n",
       "    </tr>\n",
       "    <tr>\n",
       "      <th>4</th>\n",
       "      <td>18</td>\n",
       "      <td>2012</td>\n",
       "      <td>4</td>\n",
       "      <td>0</td>\n",
       "      <td>1</td>\n",
       "      <td>0</td>\n",
       "      <td>1</td>\n",
       "      <td>0</td>\n",
       "      <td>1</td>\n",
       "      <td>0</td>\n",
       "      <td>...</td>\n",
       "      <td>5.460000</td>\n",
       "      <td>5.460000</td>\n",
       "      <td>0.000000</td>\n",
       "      <td>0.000000</td>\n",
       "      <td>13.360000</td>\n",
       "      <td>0.000000</td>\n",
       "      <td>10.320000</td>\n",
       "      <td>0.000000</td>\n",
       "      <td>0.000000</td>\n",
       "      <td>10.280000</td>\n",
       "    </tr>\n",
       "    <tr>\n",
       "      <th>...</th>\n",
       "      <td>...</td>\n",
       "      <td>...</td>\n",
       "      <td>...</td>\n",
       "      <td>...</td>\n",
       "      <td>...</td>\n",
       "      <td>...</td>\n",
       "      <td>...</td>\n",
       "      <td>...</td>\n",
       "      <td>...</td>\n",
       "      <td>...</td>\n",
       "      <td>...</td>\n",
       "      <td>...</td>\n",
       "      <td>...</td>\n",
       "      <td>...</td>\n",
       "      <td>...</td>\n",
       "      <td>...</td>\n",
       "      <td>...</td>\n",
       "      <td>...</td>\n",
       "      <td>...</td>\n",
       "      <td>...</td>\n",
       "      <td>...</td>\n",
       "    </tr>\n",
       "    <tr>\n",
       "      <th>643685</th>\n",
       "      <td>1827860</td>\n",
       "      <td>2013</td>\n",
       "      <td>1</td>\n",
       "      <td>0</td>\n",
       "      <td>0</td>\n",
       "      <td>0</td>\n",
       "      <td>1</td>\n",
       "      <td>0</td>\n",
       "      <td>0</td>\n",
       "      <td>1</td>\n",
       "      <td>...</td>\n",
       "      <td>0.000000</td>\n",
       "      <td>0.000000</td>\n",
       "      <td>0.000000</td>\n",
       "      <td>0.000000</td>\n",
       "      <td>0.612903</td>\n",
       "      <td>0.000000</td>\n",
       "      <td>0.000000</td>\n",
       "      <td>0.000000</td>\n",
       "      <td>0.000000</td>\n",
       "      <td>0.000000</td>\n",
       "    </tr>\n",
       "    <tr>\n",
       "      <th>643686</th>\n",
       "      <td>1827860</td>\n",
       "      <td>2015</td>\n",
       "      <td>2</td>\n",
       "      <td>1</td>\n",
       "      <td>0</td>\n",
       "      <td>0</td>\n",
       "      <td>1</td>\n",
       "      <td>0</td>\n",
       "      <td>1</td>\n",
       "      <td>0</td>\n",
       "      <td>...</td>\n",
       "      <td>0.000000</td>\n",
       "      <td>0.000000</td>\n",
       "      <td>0.212121</td>\n",
       "      <td>0.212121</td>\n",
       "      <td>17.363636</td>\n",
       "      <td>0.000000</td>\n",
       "      <td>8.909091</td>\n",
       "      <td>0.000000</td>\n",
       "      <td>0.000000</td>\n",
       "      <td>7.121212</td>\n",
       "    </tr>\n",
       "    <tr>\n",
       "      <th>643687</th>\n",
       "      <td>1827860</td>\n",
       "      <td>2016</td>\n",
       "      <td>3</td>\n",
       "      <td>1</td>\n",
       "      <td>0</td>\n",
       "      <td>0</td>\n",
       "      <td>1</td>\n",
       "      <td>1</td>\n",
       "      <td>0</td>\n",
       "      <td>1</td>\n",
       "      <td>...</td>\n",
       "      <td>0.000000</td>\n",
       "      <td>0.000000</td>\n",
       "      <td>0.294118</td>\n",
       "      <td>0.205882</td>\n",
       "      <td>34.705882</td>\n",
       "      <td>0.000000</td>\n",
       "      <td>10.352941</td>\n",
       "      <td>1.705882</td>\n",
       "      <td>1.705882</td>\n",
       "      <td>23.911765</td>\n",
       "    </tr>\n",
       "    <tr>\n",
       "      <th>643688</th>\n",
       "      <td>1827869</td>\n",
       "      <td>2013</td>\n",
       "      <td>1</td>\n",
       "      <td>1</td>\n",
       "      <td>1</td>\n",
       "      <td>0</td>\n",
       "      <td>0</td>\n",
       "      <td>0</td>\n",
       "      <td>1</td>\n",
       "      <td>0</td>\n",
       "      <td>...</td>\n",
       "      <td>0.000000</td>\n",
       "      <td>0.000000</td>\n",
       "      <td>0.000000</td>\n",
       "      <td>0.000000</td>\n",
       "      <td>0.000000</td>\n",
       "      <td>0.525424</td>\n",
       "      <td>0.000000</td>\n",
       "      <td>0.000000</td>\n",
       "      <td>0.000000</td>\n",
       "      <td>0.000000</td>\n",
       "    </tr>\n",
       "    <tr>\n",
       "      <th>643689</th>\n",
       "      <td>1827869</td>\n",
       "      <td>2014</td>\n",
       "      <td>2</td>\n",
       "      <td>0</td>\n",
       "      <td>0</td>\n",
       "      <td>1</td>\n",
       "      <td>0</td>\n",
       "      <td>0</td>\n",
       "      <td>1</td>\n",
       "      <td>0</td>\n",
       "      <td>...</td>\n",
       "      <td>0.000000</td>\n",
       "      <td>0.666667</td>\n",
       "      <td>0.666667</td>\n",
       "      <td>0.000000</td>\n",
       "      <td>0.000000</td>\n",
       "      <td>8.950000</td>\n",
       "      <td>1.033333</td>\n",
       "      <td>0.083333</td>\n",
       "      <td>0.083333</td>\n",
       "      <td>8.133333</td>\n",
       "    </tr>\n",
       "  </tbody>\n",
       "</table>\n",
       "<p>643690 rows × 164 columns</p>\n",
       "</div>"
      ],
      "text/plain": [
       "         persnr  year  nrEntry  ltue  employed_before  receipt_leh_before  \\\n",
       "0             7  2015        1     0                1                   0   \n",
       "1            18  2010        1     1                0                   0   \n",
       "2            18  2011        2     0                1                   0   \n",
       "3            18  2012        3     0                1                   0   \n",
       "4            18  2012        4     0                1                   0   \n",
       "...         ...   ...      ...   ...              ...                 ...   \n",
       "643685  1827860  2013        1     0                0                   0   \n",
       "643686  1827860  2015        2     1                0                   0   \n",
       "643687  1827860  2016        3     1                0                   0   \n",
       "643688  1827869  2013        1     1                1                   0   \n",
       "643689  1827869  2014        2     0                0                   1   \n",
       "\n",
       "        receipt_lhg_before  se_before  ASU_notue_seeking_before  \\\n",
       "0                        0          0                         1   \n",
       "1                        0          0                         0   \n",
       "2                        1          0                         1   \n",
       "3                        1          0                         1   \n",
       "4                        1          0                         1   \n",
       "...                    ...        ...                       ...   \n",
       "643685                   1          0                         0   \n",
       "643686                   1          0                         1   \n",
       "643687                   1          1                         0   \n",
       "643688                   0          0                         1   \n",
       "643689                   0          0                         1   \n",
       "\n",
       "        ASU_other_before  ...  minijob_tot_dur_byage  ft_tot_dur_byage  \\\n",
       "0                      0  ...               0.000000          0.000000   \n",
       "1                      0  ...               0.000000          0.000000   \n",
       "2                      0  ...               2.714286          2.714286   \n",
       "3                      0  ...               4.200000          4.200000   \n",
       "4                      0  ...               5.460000          5.460000   \n",
       "...                  ...  ...                    ...               ...   \n",
       "643685                 1  ...               0.000000          0.000000   \n",
       "643686                 0  ...               0.000000          0.000000   \n",
       "643687                 1  ...               0.000000          0.000000   \n",
       "643688                 0  ...               0.000000          0.000000   \n",
       "643689                 0  ...               0.000000          0.666667   \n",
       "\n",
       "        befrist_tot_dur_byage  leih_tot_dur_byage  LHG_tot_dur_byage  \\\n",
       "0                   15.043478            0.000000           0.000000   \n",
       "1                    0.000000            0.000000           0.000000   \n",
       "2                    0.000000            0.000000          10.775510   \n",
       "3                    0.000000            0.000000          12.100000   \n",
       "4                    0.000000            0.000000          13.360000   \n",
       "...                       ...                 ...                ...   \n",
       "643685               0.000000            0.000000           0.612903   \n",
       "643686               0.212121            0.212121          17.363636   \n",
       "643687               0.294118            0.205882          34.705882   \n",
       "643688               0.000000            0.000000           0.000000   \n",
       "643689               0.666667            0.000000           0.000000   \n",
       "\n",
       "        LEH_tot_dur_byage  almp_tot_dur_byage  almp_aw_tot_dur_byage  \\\n",
       "0                0.000000            0.000000               0.000000   \n",
       "1                0.000000            0.000000               0.000000   \n",
       "2                0.000000            8.367347               0.000000   \n",
       "3                0.000000            9.400000               0.000000   \n",
       "4                0.000000           10.320000               0.000000   \n",
       "...                   ...                 ...                    ...   \n",
       "643685           0.000000            0.000000               0.000000   \n",
       "643686           0.000000            8.909091               0.000000   \n",
       "643687           0.000000           10.352941               1.705882   \n",
       "643688           0.525424            0.000000               0.000000   \n",
       "643689           8.950000            1.033333               0.083333   \n",
       "\n",
       "        se_tot_dur_byage  seeking1_tot_dur_byage  \n",
       "0               0.000000                0.000000  \n",
       "1               0.000000                0.000000  \n",
       "2               0.000000                9.836735  \n",
       "3               0.000000                9.960000  \n",
       "4               0.000000               10.280000  \n",
       "...                  ...                     ...  \n",
       "643685          0.000000                0.000000  \n",
       "643686          0.000000                7.121212  \n",
       "643687          1.705882               23.911765  \n",
       "643688          0.000000                0.000000  \n",
       "643689          0.083333                8.133333  \n",
       "\n",
       "[643690 rows x 164 columns]"
      ]
     },
     "execution_count": 10,
     "metadata": {},
     "output_type": "execute_result"
    }
   ],
   "source": [
    "siab"
   ]
  },
  {
   "cell_type": "markdown",
   "id": "1f87e805",
   "metadata": {
    "papermill": {
     "duration": 0.009537,
     "end_time": "2025-08-19T18:13:36.604073",
     "exception": false,
     "start_time": "2025-08-19T18:13:36.594536",
     "status": "completed"
    },
    "tags": []
   },
   "source": [
    "# Splitting Data and Setting Training Data Size"
   ]
  },
  {
   "cell_type": "code",
   "execution_count": 11,
   "id": "910ae358",
   "metadata": {
    "execution": {
     "iopub.execute_input": "2025-08-19T18:13:36.631278Z",
     "iopub.status.busy": "2025-08-19T18:13:36.624799Z",
     "iopub.status.idle": "2025-08-19T18:13:37.907142Z",
     "shell.execute_reply": "2025-08-19T18:13:37.906056Z"
    },
    "papermill": {
     "duration": 1.295155,
     "end_time": "2025-08-19T18:13:37.908607",
     "exception": false,
     "start_time": "2025-08-19T18:13:36.613452",
     "status": "completed"
    },
    "tags": []
   },
   "outputs": [],
   "source": [
    "from fairness_multiverse.universe import sample_by_year_size\n",
    "\n",
    "siab_train = sample_by_year_size(siab,\n",
    "                               training_year=universe[\"training_year\"],\n",
    "                               training_size=universe[\"training_size\"])"
   ]
  },
  {
   "cell_type": "code",
   "execution_count": 12,
   "id": "919c8ff5",
   "metadata": {
    "execution": {
     "iopub.execute_input": "2025-08-19T18:13:37.931022Z",
     "iopub.status.busy": "2025-08-19T18:13:37.930287Z",
     "iopub.status.idle": "2025-08-19T18:13:37.938957Z",
     "shell.execute_reply": "2025-08-19T18:13:37.938065Z"
    },
    "papermill": {
     "duration": 0.021561,
     "end_time": "2025-08-19T18:13:37.940308",
     "exception": false,
     "start_time": "2025-08-19T18:13:37.918747",
     "status": "completed"
    },
    "tags": []
   },
   "outputs": [
    {
     "data": {
      "text/plain": [
       "(25000, 164)"
      ]
     },
     "execution_count": 12,
     "metadata": {},
     "output_type": "execute_result"
    }
   ],
   "source": [
    "siab_train.shape"
   ]
  },
  {
   "cell_type": "code",
   "execution_count": 13,
   "id": "feb13bf4",
   "metadata": {
    "execution": {
     "iopub.execute_input": "2025-08-19T18:13:37.965184Z",
     "iopub.status.busy": "2025-08-19T18:13:37.964163Z",
     "iopub.status.idle": "2025-08-19T18:13:37.980594Z",
     "shell.execute_reply": "2025-08-19T18:13:37.979518Z"
    },
    "papermill": {
     "duration": 0.029245,
     "end_time": "2025-08-19T18:13:37.982076",
     "exception": false,
     "start_time": "2025-08-19T18:13:37.952831",
     "status": "completed"
    },
    "tags": []
   },
   "outputs": [
    {
     "data": {
      "text/plain": [
       "year\n",
       "2010    5000\n",
       "2011    5000\n",
       "2012    5000\n",
       "2013    5000\n",
       "2014    5000\n",
       "dtype: int64"
      ]
     },
     "metadata": {},
     "output_type": "display_data"
    }
   ],
   "source": [
    "display(siab_train.groupby(\"year\").size())"
   ]
  },
  {
   "cell_type": "code",
   "execution_count": 14,
   "id": "0997782f",
   "metadata": {
    "execution": {
     "iopub.execute_input": "2025-08-19T18:13:38.009364Z",
     "iopub.status.busy": "2025-08-19T18:13:38.008260Z",
     "iopub.status.idle": "2025-08-19T18:13:38.304003Z",
     "shell.execute_reply": "2025-08-19T18:13:38.303233Z"
    },
    "papermill": {
     "duration": 0.309516,
     "end_time": "2025-08-19T18:13:38.305366",
     "exception": false,
     "start_time": "2025-08-19T18:13:37.995850",
     "status": "completed"
    },
    "tags": []
   },
   "outputs": [],
   "source": [
    "#siab_train = siab_s[siab_s.year < 2015]\n",
    "siab_calib = siab[siab.year == 2015]\n",
    "siab_test = siab[siab.year == 2016]"
   ]
  },
  {
   "cell_type": "code",
   "execution_count": 15,
   "id": "2c1e4012",
   "metadata": {
    "execution": {
     "iopub.execute_input": "2025-08-19T18:13:38.332538Z",
     "iopub.status.busy": "2025-08-19T18:13:38.332140Z",
     "iopub.status.idle": "2025-08-19T18:13:38.336314Z",
     "shell.execute_reply": "2025-08-19T18:13:38.335581Z"
    },
    "papermill": {
     "duration": 0.022474,
     "end_time": "2025-08-19T18:13:38.338242",
     "exception": false,
     "start_time": "2025-08-19T18:13:38.315768",
     "status": "completed"
    },
    "tags": []
   },
   "outputs": [],
   "source": [
    "#siab_calib.shape"
   ]
  },
  {
   "cell_type": "code",
   "execution_count": 16,
   "id": "f66b54ca",
   "metadata": {
    "execution": {
     "iopub.execute_input": "2025-08-19T18:13:38.359870Z",
     "iopub.status.busy": "2025-08-19T18:13:38.359604Z",
     "iopub.status.idle": "2025-08-19T18:13:38.363019Z",
     "shell.execute_reply": "2025-08-19T18:13:38.362452Z"
    },
    "papermill": {
     "duration": 0.016747,
     "end_time": "2025-08-19T18:13:38.365793",
     "exception": false,
     "start_time": "2025-08-19T18:13:38.349046",
     "status": "completed"
    },
    "tags": []
   },
   "outputs": [],
   "source": [
    "#siab_test.shape"
   ]
  },
  {
   "cell_type": "code",
   "execution_count": 17,
   "id": "27e4384d",
   "metadata": {
    "execution": {
     "iopub.execute_input": "2025-08-19T18:13:38.403130Z",
     "iopub.status.busy": "2025-08-19T18:13:38.402549Z",
     "iopub.status.idle": "2025-08-19T18:13:38.425470Z",
     "shell.execute_reply": "2025-08-19T18:13:38.424468Z"
    },
    "papermill": {
     "duration": 0.038378,
     "end_time": "2025-08-19T18:13:38.426926",
     "exception": false,
     "start_time": "2025-08-19T18:13:38.388548",
     "status": "completed"
    },
    "tags": []
   },
   "outputs": [],
   "source": [
    "X_train = siab_train.iloc[:,4:164]\n",
    "y_train = siab_train.iloc[:, [3]]"
   ]
  },
  {
   "cell_type": "code",
   "execution_count": 18,
   "id": "08ee8389",
   "metadata": {
    "execution": {
     "iopub.execute_input": "2025-08-19T18:13:38.456983Z",
     "iopub.status.busy": "2025-08-19T18:13:38.455839Z",
     "iopub.status.idle": "2025-08-19T18:13:38.521154Z",
     "shell.execute_reply": "2025-08-19T18:13:38.519895Z"
    },
    "papermill": {
     "duration": 0.080473,
     "end_time": "2025-08-19T18:13:38.523728",
     "exception": false,
     "start_time": "2025-08-19T18:13:38.443255",
     "status": "completed"
    },
    "tags": []
   },
   "outputs": [],
   "source": [
    "X_calib = siab_calib.iloc[:,4:164]\n",
    "y_calib = siab_calib.iloc[:, [3]]"
   ]
  },
  {
   "cell_type": "code",
   "execution_count": 19,
   "id": "b7ff42e0",
   "metadata": {
    "execution": {
     "iopub.execute_input": "2025-08-19T18:13:38.564164Z",
     "iopub.status.busy": "2025-08-19T18:13:38.563076Z",
     "iopub.status.idle": "2025-08-19T18:13:38.626331Z",
     "shell.execute_reply": "2025-08-19T18:13:38.625546Z"
    },
    "papermill": {
     "duration": 0.079429,
     "end_time": "2025-08-19T18:13:38.627815",
     "exception": false,
     "start_time": "2025-08-19T18:13:38.548386",
     "status": "completed"
    },
    "tags": []
   },
   "outputs": [],
   "source": [
    "X_test = siab_test.iloc[:,4:164]\n",
    "y_true = siab_test.iloc[:, [3]]"
   ]
  },
  {
   "cell_type": "code",
   "execution_count": 20,
   "id": "0275101e",
   "metadata": {
    "execution": {
     "iopub.execute_input": "2025-08-19T18:13:38.658318Z",
     "iopub.status.busy": "2025-08-19T18:13:38.657919Z",
     "iopub.status.idle": "2025-08-19T18:13:38.780625Z",
     "shell.execute_reply": "2025-08-19T18:13:38.779900Z"
    },
    "papermill": {
     "duration": 0.140788,
     "end_time": "2025-08-19T18:13:38.783613",
     "exception": false,
     "start_time": "2025-08-19T18:13:38.642825",
     "status": "completed"
    },
    "tags": []
   },
   "outputs": [],
   "source": [
    "# Auxiliary data needed downstream in the pipeline\n",
    "\n",
    "org_train = X_train.copy()\n",
    "org_test = X_test.copy()\n",
    "org_calib = X_calib.copy()"
   ]
  },
  {
   "cell_type": "markdown",
   "id": "b461e618",
   "metadata": {
    "papermill": {
     "duration": 0.025179,
     "end_time": "2025-08-19T18:13:38.825795",
     "exception": false,
     "start_time": "2025-08-19T18:13:38.800616",
     "status": "completed"
    },
    "tags": []
   },
   "source": [
    "# Preprocessing Data"
   ]
  },
  {
   "cell_type": "code",
   "execution_count": 21,
   "id": "78e74c4b",
   "metadata": {
    "execution": {
     "iopub.execute_input": "2025-08-19T18:13:38.867508Z",
     "iopub.status.busy": "2025-08-19T18:13:38.866815Z",
     "iopub.status.idle": "2025-08-19T18:13:38.875073Z",
     "shell.execute_reply": "2025-08-19T18:13:38.873606Z"
    },
    "papermill": {
     "duration": 0.023261,
     "end_time": "2025-08-19T18:13:38.876499",
     "exception": false,
     "start_time": "2025-08-19T18:13:38.853238",
     "status": "completed"
    },
    "tags": []
   },
   "outputs": [],
   "source": [
    "# EXCLUDE PROTECTED FEATURES\n",
    "# --------------------------\n",
    "\n",
    "excluded_features = universe[\"exclude_features\"].split(\"-\")\n",
    "excluded_features_dictionary = {\n",
    "    \"nationality\": [\"maxdeutsch1\", \"maxdeutsch.Missing.\"],\n",
    "    \"sex\": [\"frau1\"],\n",
    "    \"age\": [\"age\"],\n",
    "}"
   ]
  },
  {
   "cell_type": "code",
   "execution_count": 22,
   "id": "f8e63555",
   "metadata": {
    "execution": {
     "iopub.execute_input": "2025-08-19T18:13:38.903277Z",
     "iopub.status.busy": "2025-08-19T18:13:38.901895Z",
     "iopub.status.idle": "2025-08-19T18:13:38.925587Z",
     "shell.execute_reply": "2025-08-19T18:13:38.917046Z"
    },
    "papermill": {
     "duration": 0.038196,
     "end_time": "2025-08-19T18:13:38.927847",
     "exception": false,
     "start_time": "2025-08-19T18:13:38.889651",
     "status": "completed"
    },
    "tags": []
   },
   "outputs": [],
   "source": [
    "excluded_features_columns = [\n",
    "    excluded_features_dictionary[f] for f in excluded_features if len(f) > 0 and f != \"none\"\n",
    "]"
   ]
  },
  {
   "cell_type": "code",
   "execution_count": 23,
   "id": "da781f7c",
   "metadata": {
    "execution": {
     "iopub.execute_input": "2025-08-19T18:13:38.963120Z",
     "iopub.status.busy": "2025-08-19T18:13:38.962797Z",
     "iopub.status.idle": "2025-08-19T18:13:38.967304Z",
     "shell.execute_reply": "2025-08-19T18:13:38.966603Z"
    },
    "papermill": {
     "duration": 0.019072,
     "end_time": "2025-08-19T18:13:38.968590",
     "exception": false,
     "start_time": "2025-08-19T18:13:38.949518",
     "status": "completed"
    },
    "tags": []
   },
   "outputs": [],
   "source": [
    "from fairness_multiverse.universe import flatten_once\n",
    "\n",
    "excluded_features_columns = flatten_once(excluded_features_columns)"
   ]
  },
  {
   "cell_type": "code",
   "execution_count": 24,
   "id": "37fef0f0",
   "metadata": {
    "execution": {
     "iopub.execute_input": "2025-08-19T18:13:38.990751Z",
     "iopub.status.busy": "2025-08-19T18:13:38.990362Z",
     "iopub.status.idle": "2025-08-19T18:13:39.015119Z",
     "shell.execute_reply": "2025-08-19T18:13:39.014005Z"
    },
    "papermill": {
     "duration": 0.03884,
     "end_time": "2025-08-19T18:13:39.017841",
     "exception": false,
     "start_time": "2025-08-19T18:13:38.979001",
     "status": "completed"
    },
    "tags": []
   },
   "outputs": [],
   "source": [
    "if len(excluded_features_columns) > 0:\n",
    "    print(f\"Dropping features: {excluded_features_columns}\")\n",
    "    X_train.drop(excluded_features_columns, axis=1, inplace=True)"
   ]
  },
  {
   "cell_type": "code",
   "execution_count": 25,
   "id": "d029e3e9",
   "metadata": {
    "execution": {
     "iopub.execute_input": "2025-08-19T18:13:39.053945Z",
     "iopub.status.busy": "2025-08-19T18:13:39.053540Z",
     "iopub.status.idle": "2025-08-19T18:13:39.057957Z",
     "shell.execute_reply": "2025-08-19T18:13:39.057252Z"
    },
    "papermill": {
     "duration": 0.018126,
     "end_time": "2025-08-19T18:13:39.059164",
     "exception": false,
     "start_time": "2025-08-19T18:13:39.041038",
     "status": "completed"
    },
    "tags": []
   },
   "outputs": [],
   "source": [
    "if len(excluded_features_columns) > 0:\n",
    "    print(f\"Dropping features: {excluded_features_columns}\")\n",
    "    X_test.drop(excluded_features_columns, axis=1, inplace=True)"
   ]
  },
  {
   "cell_type": "code",
   "execution_count": 26,
   "id": "01d571f0",
   "metadata": {
    "execution": {
     "iopub.execute_input": "2025-08-19T18:13:39.082106Z",
     "iopub.status.busy": "2025-08-19T18:13:39.081713Z",
     "iopub.status.idle": "2025-08-19T18:13:39.086082Z",
     "shell.execute_reply": "2025-08-19T18:13:39.085381Z"
    },
    "papermill": {
     "duration": 0.017097,
     "end_time": "2025-08-19T18:13:39.087322",
     "exception": false,
     "start_time": "2025-08-19T18:13:39.070225",
     "status": "completed"
    },
    "tags": []
   },
   "outputs": [],
   "source": [
    "if len(excluded_features_columns) > 0:\n",
    "    print(f\"Dropping features: {excluded_features_columns}\")\n",
    "    X_calib.drop(excluded_features_columns, axis=1, inplace=True)"
   ]
  },
  {
   "cell_type": "code",
   "execution_count": 27,
   "id": "3037356e",
   "metadata": {
    "execution": {
     "iopub.execute_input": "2025-08-19T18:13:39.110189Z",
     "iopub.status.busy": "2025-08-19T18:13:39.109808Z",
     "iopub.status.idle": "2025-08-19T18:13:39.113898Z",
     "shell.execute_reply": "2025-08-19T18:13:39.113217Z"
    },
    "papermill": {
     "duration": 0.016839,
     "end_time": "2025-08-19T18:13:39.115085",
     "exception": false,
     "start_time": "2025-08-19T18:13:39.098246",
     "status": "completed"
    },
    "tags": []
   },
   "outputs": [],
   "source": [
    "# EXCLUDE CERTAIN SUBGROUPS\n",
    "# -------------------------\n",
    "\n",
    "mode = universe.get(\"exclude_subgroups\", \"keep-all\") # Defaults to \"keep-all\" if the key is missing."
   ]
  },
  {
   "cell_type": "code",
   "execution_count": 28,
   "id": "9d1e63fd",
   "metadata": {
    "execution": {
     "iopub.execute_input": "2025-08-19T18:13:39.137833Z",
     "iopub.status.busy": "2025-08-19T18:13:39.137459Z",
     "iopub.status.idle": "2025-08-19T18:13:39.143183Z",
     "shell.execute_reply": "2025-08-19T18:13:39.142519Z"
    },
    "papermill": {
     "duration": 0.020286,
     "end_time": "2025-08-19T18:13:39.146268",
     "exception": false,
     "start_time": "2025-08-19T18:13:39.125982",
     "status": "completed"
    },
    "tags": []
   },
   "outputs": [],
   "source": [
    "if mode == \"keep-all\":\n",
    "    keep_mask = pd.Series(True, index=org_train.index)\n",
    "\n",
    "elif mode == \"drop-non-german\":\n",
    "    keep_mask = (org_train[\"maxdeutsch1\"] == 1) & (org_train[\"maxdeutsch.Missing.\"] == 0)\n",
    "\n",
    "else:\n",
    "    raise ValueError(f\"Unsupported mode for exclude_subgroups: {mode}\")"
   ]
  },
  {
   "cell_type": "code",
   "execution_count": 29,
   "id": "d3b65474",
   "metadata": {
    "execution": {
     "iopub.execute_input": "2025-08-19T18:13:39.182941Z",
     "iopub.status.busy": "2025-08-19T18:13:39.182512Z",
     "iopub.status.idle": "2025-08-19T18:13:39.189373Z",
     "shell.execute_reply": "2025-08-19T18:13:39.187888Z"
    },
    "papermill": {
     "duration": 0.021435,
     "end_time": "2025-08-19T18:13:39.190574",
     "exception": false,
     "start_time": "2025-08-19T18:13:39.169139",
     "status": "completed"
    },
    "tags": []
   },
   "outputs": [],
   "source": [
    "n_drop = (~keep_mask).sum() # Calculates how many rows are set to be dropped\n",
    "if n_drop > 0:\n",
    "    pct = n_drop / len(keep_mask) * 100\n",
    "    print(f\"Dropping {n_drop} rows ({pct:.2f}%) where mode='{mode}'\")"
   ]
  },
  {
   "cell_type": "code",
   "execution_count": 30,
   "id": "f44389b3",
   "metadata": {
    "execution": {
     "iopub.execute_input": "2025-08-19T18:13:39.216860Z",
     "iopub.status.busy": "2025-08-19T18:13:39.215905Z",
     "iopub.status.idle": "2025-08-19T18:13:39.249785Z",
     "shell.execute_reply": "2025-08-19T18:13:39.248980Z"
    },
    "papermill": {
     "duration": 0.049235,
     "end_time": "2025-08-19T18:13:39.252462",
     "exception": false,
     "start_time": "2025-08-19T18:13:39.203227",
     "status": "completed"
    },
    "tags": []
   },
   "outputs": [],
   "source": [
    "X_train = X_train[keep_mask]"
   ]
  },
  {
   "cell_type": "code",
   "execution_count": 31,
   "id": "ceca8c2a",
   "metadata": {
    "execution": {
     "iopub.execute_input": "2025-08-19T18:13:39.291917Z",
     "iopub.status.busy": "2025-08-19T18:13:39.291243Z",
     "iopub.status.idle": "2025-08-19T18:13:39.302887Z",
     "shell.execute_reply": "2025-08-19T18:13:39.301099Z"
    },
    "papermill": {
     "duration": 0.035005,
     "end_time": "2025-08-19T18:13:39.312295",
     "exception": false,
     "start_time": "2025-08-19T18:13:39.277290",
     "status": "completed"
    },
    "tags": []
   },
   "outputs": [],
   "source": [
    "y_train = y_train[keep_mask]"
   ]
  },
  {
   "cell_type": "markdown",
   "id": "04d31e2f",
   "metadata": {
    "papermill": {
     "duration": 0.012171,
     "end_time": "2025-08-19T18:13:39.349745",
     "exception": false,
     "start_time": "2025-08-19T18:13:39.337574",
     "status": "completed"
    },
    "tags": []
   },
   "source": [
    "# Model Training"
   ]
  },
  {
   "cell_type": "code",
   "execution_count": 32,
   "id": "db991733",
   "metadata": {
    "execution": {
     "iopub.execute_input": "2025-08-19T18:13:39.372982Z",
     "iopub.status.busy": "2025-08-19T18:13:39.372189Z",
     "iopub.status.idle": "2025-08-19T18:13:39.464904Z",
     "shell.execute_reply": "2025-08-19T18:13:39.464232Z"
    },
    "papermill": {
     "duration": 0.107211,
     "end_time": "2025-08-19T18:13:39.467412",
     "exception": false,
     "start_time": "2025-08-19T18:13:39.360201",
     "status": "completed"
    },
    "tags": []
   },
   "outputs": [],
   "source": [
    "from sklearn.linear_model import LogisticRegression\n",
    "from sklearn.ensemble import GradientBoostingClassifier, RandomForestClassifier\n",
    "\n",
    "if (universe[\"model\"] == \"logreg\"):\n",
    "    model = LogisticRegression() #penalty=\"none\", solver=\"newton-cg\", max_iter=1)\n",
    "elif (universe[\"model\"] == \"penalized_logreg\"):\n",
    "    model = LogisticRegression(penalty=\"l2\", C=0.1) #, solver=\"newton-cg\", max_iter=1)\n",
    "elif (universe[\"model\"] == \"rf\"):\n",
    "    model = RandomForestClassifier() # n_estimators=100, n_jobs=-1\n",
    "elif (universe[\"model\"] == \"gbm\"):\n",
    "    model = GradientBoostingClassifier()\n",
    "elif (universe[\"model\"] == \"elasticnet\"):\n",
    "    model = LogisticRegression(penalty = 'elasticnet', solver = 'saga', l1_ratio = 0.5) # max_iter=5000\n",
    "else:\n",
    "    raise \"Unsupported universe.model\""
   ]
  },
  {
   "cell_type": "code",
   "execution_count": 33,
   "id": "a4b5cd25",
   "metadata": {
    "execution": {
     "iopub.execute_input": "2025-08-19T18:13:39.506317Z",
     "iopub.status.busy": "2025-08-19T18:13:39.505300Z",
     "iopub.status.idle": "2025-08-19T18:13:39.515348Z",
     "shell.execute_reply": "2025-08-19T18:13:39.513822Z"
    },
    "papermill": {
     "duration": 0.025336,
     "end_time": "2025-08-19T18:13:39.516685",
     "exception": false,
     "start_time": "2025-08-19T18:13:39.491349",
     "status": "completed"
    },
    "tags": []
   },
   "outputs": [],
   "source": [
    "from sklearn.pipeline import Pipeline\n",
    "from sklearn.preprocessing import StandardScaler\n",
    "\n",
    "model = Pipeline([\n",
    "    #(\"continuous_processor\", continuous_processor),\n",
    "    #(\"categorical_preprocessor\", categorical_preprocessor),\n",
    "    (\"scale\", StandardScaler() if universe[\"scale\"] == \"scale\" else None), \n",
    "    (\"model\", model),\n",
    "])"
   ]
  },
  {
   "cell_type": "code",
   "execution_count": 34,
   "id": "283a904d",
   "metadata": {
    "execution": {
     "iopub.execute_input": "2025-08-19T18:13:39.543840Z",
     "iopub.status.busy": "2025-08-19T18:13:39.542690Z",
     "iopub.status.idle": "2025-08-19T18:13:40.491640Z",
     "shell.execute_reply": "2025-08-19T18:13:40.491009Z"
    },
    "papermill": {
     "duration": 0.963518,
     "end_time": "2025-08-19T18:13:40.493783",
     "exception": false,
     "start_time": "2025-08-19T18:13:39.530265",
     "status": "completed"
    },
    "tags": []
   },
   "outputs": [
    {
     "name": "stderr",
     "output_type": "stream",
     "text": [
      "/dss/dsshome1/0C/ra93lal2/.local/share/virtualenvs/CMA_Fairness_v2-3j10GkSs/lib/python3.10/site-packages/sklearn/linear_model/_logistic.py:444: ConvergenceWarning: lbfgs failed to converge (status=1):\n",
      "STOP: TOTAL NO. of ITERATIONS REACHED LIMIT.\n",
      "\n",
      "Increase the number of iterations (max_iter) or scale the data as shown in:\n",
      "    https://scikit-learn.org/stable/modules/preprocessing.html\n",
      "Please also refer to the documentation for alternative solver options:\n",
      "    https://scikit-learn.org/stable/modules/linear_model.html#logistic-regression\n",
      "  n_iter_i = _check_optimize_result(\n"
     ]
    },
    {
     "data": {
      "text/html": [
       "<style>#sk-container-id-1 {color: black;background-color: white;}#sk-container-id-1 pre{padding: 0;}#sk-container-id-1 div.sk-toggleable {background-color: white;}#sk-container-id-1 label.sk-toggleable__label {cursor: pointer;display: block;width: 100%;margin-bottom: 0;padding: 0.3em;box-sizing: border-box;text-align: center;}#sk-container-id-1 label.sk-toggleable__label-arrow:before {content: \"▸\";float: left;margin-right: 0.25em;color: #696969;}#sk-container-id-1 label.sk-toggleable__label-arrow:hover:before {color: black;}#sk-container-id-1 div.sk-estimator:hover label.sk-toggleable__label-arrow:before {color: black;}#sk-container-id-1 div.sk-toggleable__content {max-height: 0;max-width: 0;overflow: hidden;text-align: left;background-color: #f0f8ff;}#sk-container-id-1 div.sk-toggleable__content pre {margin: 0.2em;color: black;border-radius: 0.25em;background-color: #f0f8ff;}#sk-container-id-1 input.sk-toggleable__control:checked~div.sk-toggleable__content {max-height: 200px;max-width: 100%;overflow: auto;}#sk-container-id-1 input.sk-toggleable__control:checked~label.sk-toggleable__label-arrow:before {content: \"▾\";}#sk-container-id-1 div.sk-estimator input.sk-toggleable__control:checked~label.sk-toggleable__label {background-color: #d4ebff;}#sk-container-id-1 div.sk-label input.sk-toggleable__control:checked~label.sk-toggleable__label {background-color: #d4ebff;}#sk-container-id-1 input.sk-hidden--visually {border: 0;clip: rect(1px 1px 1px 1px);clip: rect(1px, 1px, 1px, 1px);height: 1px;margin: -1px;overflow: hidden;padding: 0;position: absolute;width: 1px;}#sk-container-id-1 div.sk-estimator {font-family: monospace;background-color: #f0f8ff;border: 1px dotted black;border-radius: 0.25em;box-sizing: border-box;margin-bottom: 0.5em;}#sk-container-id-1 div.sk-estimator:hover {background-color: #d4ebff;}#sk-container-id-1 div.sk-parallel-item::after {content: \"\";width: 100%;border-bottom: 1px solid gray;flex-grow: 1;}#sk-container-id-1 div.sk-label:hover label.sk-toggleable__label {background-color: #d4ebff;}#sk-container-id-1 div.sk-serial::before {content: \"\";position: absolute;border-left: 1px solid gray;box-sizing: border-box;top: 0;bottom: 0;left: 50%;z-index: 0;}#sk-container-id-1 div.sk-serial {display: flex;flex-direction: column;align-items: center;background-color: white;padding-right: 0.2em;padding-left: 0.2em;position: relative;}#sk-container-id-1 div.sk-item {position: relative;z-index: 1;}#sk-container-id-1 div.sk-parallel {display: flex;align-items: stretch;justify-content: center;background-color: white;position: relative;}#sk-container-id-1 div.sk-item::before, #sk-container-id-1 div.sk-parallel-item::before {content: \"\";position: absolute;border-left: 1px solid gray;box-sizing: border-box;top: 0;bottom: 0;left: 50%;z-index: -1;}#sk-container-id-1 div.sk-parallel-item {display: flex;flex-direction: column;z-index: 1;position: relative;background-color: white;}#sk-container-id-1 div.sk-parallel-item:first-child::after {align-self: flex-end;width: 50%;}#sk-container-id-1 div.sk-parallel-item:last-child::after {align-self: flex-start;width: 50%;}#sk-container-id-1 div.sk-parallel-item:only-child::after {width: 0;}#sk-container-id-1 div.sk-dashed-wrapped {border: 1px dashed gray;margin: 0 0.4em 0.5em 0.4em;box-sizing: border-box;padding-bottom: 0.4em;background-color: white;}#sk-container-id-1 div.sk-label label {font-family: monospace;font-weight: bold;display: inline-block;line-height: 1.2em;}#sk-container-id-1 div.sk-label-container {text-align: center;}#sk-container-id-1 div.sk-container {/* jupyter's `normalize.less` sets `[hidden] { display: none; }` but bootstrap.min.css set `[hidden] { display: none !important; }` so we also need the `!important` here to be able to override the default hidden behavior on the sphinx rendered scikit-learn.org. See: https://github.com/scikit-learn/scikit-learn/issues/21755 */display: inline-block !important;position: relative;}#sk-container-id-1 div.sk-text-repr-fallback {display: none;}</style><div id=\"sk-container-id-1\" class=\"sk-top-container\"><div class=\"sk-text-repr-fallback\"><pre>Pipeline(steps=[(&#x27;scale&#x27;, StandardScaler()),\n",
       "                (&#x27;model&#x27;, LogisticRegression(C=0.1))])</pre><b>In a Jupyter environment, please rerun this cell to show the HTML representation or trust the notebook. <br />On GitHub, the HTML representation is unable to render, please try loading this page with nbviewer.org.</b></div><div class=\"sk-container\" hidden><div class=\"sk-item sk-dashed-wrapped\"><div class=\"sk-label-container\"><div class=\"sk-label sk-toggleable\"><input class=\"sk-toggleable__control sk-hidden--visually\" id=\"sk-estimator-id-1\" type=\"checkbox\" ><label for=\"sk-estimator-id-1\" class=\"sk-toggleable__label sk-toggleable__label-arrow\">Pipeline</label><div class=\"sk-toggleable__content\"><pre>Pipeline(steps=[(&#x27;scale&#x27;, StandardScaler()),\n",
       "                (&#x27;model&#x27;, LogisticRegression(C=0.1))])</pre></div></div></div><div class=\"sk-serial\"><div class=\"sk-item\"><div class=\"sk-estimator sk-toggleable\"><input class=\"sk-toggleable__control sk-hidden--visually\" id=\"sk-estimator-id-2\" type=\"checkbox\" ><label for=\"sk-estimator-id-2\" class=\"sk-toggleable__label sk-toggleable__label-arrow\">StandardScaler</label><div class=\"sk-toggleable__content\"><pre>StandardScaler()</pre></div></div></div><div class=\"sk-item\"><div class=\"sk-estimator sk-toggleable\"><input class=\"sk-toggleable__control sk-hidden--visually\" id=\"sk-estimator-id-3\" type=\"checkbox\" ><label for=\"sk-estimator-id-3\" class=\"sk-toggleable__label sk-toggleable__label-arrow\">LogisticRegression</label><div class=\"sk-toggleable__content\"><pre>LogisticRegression(C=0.1)</pre></div></div></div></div></div></div></div>"
      ],
      "text/plain": [
       "Pipeline(steps=[('scale', StandardScaler()),\n",
       "                ('model', LogisticRegression(C=0.1))])"
      ]
     },
     "execution_count": 34,
     "metadata": {},
     "output_type": "execute_result"
    }
   ],
   "source": [
    "model.fit(X_train, y_train.values.ravel())"
   ]
  },
  {
   "cell_type": "code",
   "execution_count": 35,
   "id": "6e15e313",
   "metadata": {
    "execution": {
     "iopub.execute_input": "2025-08-19T18:13:40.518460Z",
     "iopub.status.busy": "2025-08-19T18:13:40.518021Z",
     "iopub.status.idle": "2025-08-19T18:13:40.714088Z",
     "shell.execute_reply": "2025-08-19T18:13:40.713439Z"
    },
    "papermill": {
     "duration": 0.209459,
     "end_time": "2025-08-19T18:13:40.715377",
     "exception": false,
     "start_time": "2025-08-19T18:13:40.505918",
     "status": "completed"
    },
    "tags": []
   },
   "outputs": [
    {
     "data": {
      "text/plain": [
       "0.8603165756325939"
      ]
     },
     "execution_count": 35,
     "metadata": {},
     "output_type": "execute_result"
    }
   ],
   "source": [
    "from fairness_multiverse.universe import predict_w_threshold\n",
    "\n",
    "probs_test = model.predict_proba(X_test)\n",
    "\n",
    "'''\n",
    "Below code returns a boolean array (or binary 0/1 array depending on how it’s used) where each element \n",
    "is True if the probability of class 1 is greater than or equal to the threshold, and False otherwise.\n",
    "'''\n",
    "y_pred_default = predict_w_threshold(probs_test, 0.5)\n",
    "\n",
    "from sklearn.metrics import accuracy_score\n",
    "\n",
    "# Naive prediction\n",
    "accuracy_score(y_true = y_true, y_pred = y_pred_default)"
   ]
  },
  {
   "cell_type": "code",
   "execution_count": 36,
   "id": "6f14067c",
   "metadata": {
    "execution": {
     "iopub.execute_input": "2025-08-19T18:13:40.741037Z",
     "iopub.status.busy": "2025-08-19T18:13:40.739937Z",
     "iopub.status.idle": "2025-08-19T18:13:40.925923Z",
     "shell.execute_reply": "2025-08-19T18:13:40.924973Z"
    },
    "papermill": {
     "duration": 0.199639,
     "end_time": "2025-08-19T18:13:40.927173",
     "exception": false,
     "start_time": "2025-08-19T18:13:40.727534",
     "status": "completed"
    },
    "tags": []
   },
   "outputs": [
    {
     "data": {
      "text/plain": [
       "array([0, 0, 0, ..., 0, 0, 0])"
      ]
     },
     "execution_count": 36,
     "metadata": {},
     "output_type": "execute_result"
    }
   ],
   "source": [
    "model.predict(X_test)"
   ]
  },
  {
   "cell_type": "markdown",
   "id": "3759920c",
   "metadata": {
    "papermill": {
     "duration": 0.021196,
     "end_time": "2025-08-19T18:13:40.970902",
     "exception": false,
     "start_time": "2025-08-19T18:13:40.949706",
     "status": "completed"
    },
    "tags": []
   },
   "source": [
    "# Conformal Prediction"
   ]
  },
  {
   "cell_type": "code",
   "execution_count": 37,
   "id": "14b27f59",
   "metadata": {
    "execution": {
     "iopub.execute_input": "2025-08-19T18:13:40.998016Z",
     "iopub.status.busy": "2025-08-19T18:13:40.996948Z",
     "iopub.status.idle": "2025-08-19T18:13:41.005559Z",
     "shell.execute_reply": "2025-08-19T18:13:41.003809Z"
    },
    "papermill": {
     "duration": 0.024005,
     "end_time": "2025-08-19T18:13:41.007240",
     "exception": false,
     "start_time": "2025-08-19T18:13:40.983235",
     "status": "completed"
    },
    "tags": []
   },
   "outputs": [],
   "source": [
    "# Miscoverage level for conformal prediction (10% allowed error rate => 90% target coverage)\n",
    "alpha = 0.1"
   ]
  },
  {
   "cell_type": "code",
   "execution_count": 38,
   "id": "59102472",
   "metadata": {
    "execution": {
     "iopub.execute_input": "2025-08-19T18:13:41.037993Z",
     "iopub.status.busy": "2025-08-19T18:13:41.036690Z",
     "iopub.status.idle": "2025-08-19T18:13:41.225557Z",
     "shell.execute_reply": "2025-08-19T18:13:41.224843Z"
    },
    "papermill": {
     "duration": 0.204791,
     "end_time": "2025-08-19T18:13:41.227598",
     "exception": false,
     "start_time": "2025-08-19T18:13:41.022807",
     "status": "completed"
    },
    "tags": []
   },
   "outputs": [],
   "source": [
    "probs_calib = model.predict_proba(X_calib)"
   ]
  },
  {
   "cell_type": "code",
   "execution_count": 39,
   "id": "a792d4dd",
   "metadata": {
    "execution": {
     "iopub.execute_input": "2025-08-19T18:13:41.266482Z",
     "iopub.status.busy": "2025-08-19T18:13:41.265328Z",
     "iopub.status.idle": "2025-08-19T18:13:41.275071Z",
     "shell.execute_reply": "2025-08-19T18:13:41.273704Z"
    },
    "papermill": {
     "duration": 0.027858,
     "end_time": "2025-08-19T18:13:41.276660",
     "exception": false,
     "start_time": "2025-08-19T18:13:41.248802",
     "status": "completed"
    },
    "tags": []
   },
   "outputs": [],
   "source": [
    "y_calib = y_calib.values.ravel().astype(int)"
   ]
  },
  {
   "cell_type": "code",
   "execution_count": 40,
   "id": "650fd033",
   "metadata": {
    "execution": {
     "iopub.execute_input": "2025-08-19T18:13:41.306324Z",
     "iopub.status.busy": "2025-08-19T18:13:41.304927Z",
     "iopub.status.idle": "2025-08-19T18:13:41.316418Z",
     "shell.execute_reply": "2025-08-19T18:13:41.315161Z"
    },
    "papermill": {
     "duration": 0.026581,
     "end_time": "2025-08-19T18:13:41.317921",
     "exception": false,
     "start_time": "2025-08-19T18:13:41.291340",
     "status": "completed"
    },
    "tags": []
   },
   "outputs": [],
   "source": [
    "from fairness_multiverse.conformal import compute_nc_scores\n",
    "\n",
    "# Compute nonconformity scores on calibration set (1 - probability of true class)\n",
    "nc_scores = compute_nc_scores(probs_calib, y_calib)"
   ]
  },
  {
   "cell_type": "code",
   "execution_count": 41,
   "id": "28ada44c",
   "metadata": {
    "execution": {
     "iopub.execute_input": "2025-08-19T18:13:41.347810Z",
     "iopub.status.busy": "2025-08-19T18:13:41.346623Z",
     "iopub.status.idle": "2025-08-19T18:13:41.357773Z",
     "shell.execute_reply": "2025-08-19T18:13:41.356292Z"
    },
    "papermill": {
     "duration": 0.026626,
     "end_time": "2025-08-19T18:13:41.359497",
     "exception": false,
     "start_time": "2025-08-19T18:13:41.332871",
     "status": "completed"
    },
    "tags": []
   },
   "outputs": [],
   "source": [
    "from fairness_multiverse.conformal import find_threshold\n",
    "\n",
    "# Find conformal threshold q_hat for the given alpha (split conformal method)\n",
    "q_hat = find_threshold(nc_scores, alpha)"
   ]
  },
  {
   "cell_type": "code",
   "execution_count": 42,
   "id": "df56469e",
   "metadata": {
    "execution": {
     "iopub.execute_input": "2025-08-19T18:13:41.390348Z",
     "iopub.status.busy": "2025-08-19T18:13:41.388884Z",
     "iopub.status.idle": "2025-08-19T18:13:41.400301Z",
     "shell.execute_reply": "2025-08-19T18:13:41.398717Z"
    },
    "papermill": {
     "duration": 0.026353,
     "end_time": "2025-08-19T18:13:41.401767",
     "exception": false,
     "start_time": "2025-08-19T18:13:41.375414",
     "status": "completed"
    },
    "tags": []
   },
   "outputs": [
    {
     "data": {
      "text/plain": [
       "0.6600230049864806"
      ]
     },
     "execution_count": 42,
     "metadata": {},
     "output_type": "execute_result"
    }
   ],
   "source": [
    "q_hat"
   ]
  },
  {
   "cell_type": "code",
   "execution_count": 43,
   "id": "aa1f5faa",
   "metadata": {
    "execution": {
     "iopub.execute_input": "2025-08-19T18:13:41.429480Z",
     "iopub.status.busy": "2025-08-19T18:13:41.429081Z",
     "iopub.status.idle": "2025-08-19T18:13:42.049611Z",
     "shell.execute_reply": "2025-08-19T18:13:42.048768Z"
    },
    "papermill": {
     "duration": 0.636876,
     "end_time": "2025-08-19T18:13:42.051174",
     "exception": false,
     "start_time": "2025-08-19T18:13:41.414298",
     "status": "completed"
    },
    "tags": []
   },
   "outputs": [],
   "source": [
    "from fairness_multiverse.conformal import predict_conformal_sets\n",
    "\n",
    "# Generate prediction sets for each test example\n",
    "pred_sets = predict_conformal_sets(model, X_test, q_hat)"
   ]
  },
  {
   "cell_type": "code",
   "execution_count": 44,
   "id": "97f67a6b",
   "metadata": {
    "execution": {
     "iopub.execute_input": "2025-08-19T18:13:42.076366Z",
     "iopub.status.busy": "2025-08-19T18:13:42.075955Z",
     "iopub.status.idle": "2025-08-19T18:13:42.081216Z",
     "shell.execute_reply": "2025-08-19T18:13:42.080518Z"
    },
    "papermill": {
     "duration": 0.019326,
     "end_time": "2025-08-19T18:13:42.082559",
     "exception": false,
     "start_time": "2025-08-19T18:13:42.063233",
     "status": "completed"
    },
    "tags": []
   },
   "outputs": [],
   "source": [
    "y_true = y_true.squeeze()"
   ]
  },
  {
   "cell_type": "code",
   "execution_count": 45,
   "id": "e700e9a7",
   "metadata": {
    "execution": {
     "iopub.execute_input": "2025-08-19T18:13:42.107212Z",
     "iopub.status.busy": "2025-08-19T18:13:42.106823Z",
     "iopub.status.idle": "2025-08-19T18:13:42.597357Z",
     "shell.execute_reply": "2025-08-19T18:13:42.596198Z"
    },
    "papermill": {
     "duration": 0.504955,
     "end_time": "2025-08-19T18:13:42.599256",
     "exception": false,
     "start_time": "2025-08-19T18:13:42.094301",
     "status": "completed"
    },
    "tags": []
   },
   "outputs": [],
   "source": [
    "from fairness_multiverse.conformal import evaluate_sets\n",
    "\n",
    "# Evaluate coverage and average set size on test data\n",
    "metrics = evaluate_sets(pred_sets, y_true)"
   ]
  },
  {
   "cell_type": "markdown",
   "id": "efbacec0",
   "metadata": {
    "papermill": {
     "duration": 0.012103,
     "end_time": "2025-08-19T18:13:42.625882",
     "exception": false,
     "start_time": "2025-08-19T18:13:42.613779",
     "status": "completed"
    },
    "tags": []
   },
   "source": [
    "# CP Metrics"
   ]
  },
  {
   "cell_type": "code",
   "execution_count": 46,
   "id": "9de55fb1",
   "metadata": {
    "execution": {
     "iopub.execute_input": "2025-08-19T18:13:42.653624Z",
     "iopub.status.busy": "2025-08-19T18:13:42.652280Z",
     "iopub.status.idle": "2025-08-19T18:13:42.662600Z",
     "shell.execute_reply": "2025-08-19T18:13:42.661575Z"
    },
    "papermill": {
     "duration": 0.025353,
     "end_time": "2025-08-19T18:13:42.664060",
     "exception": false,
     "start_time": "2025-08-19T18:13:42.638707",
     "status": "completed"
    },
    "tags": []
   },
   "outputs": [
    {
     "data": {
      "text/plain": [
       "{'coverage': 0.9104893545870025, 'avg_size': 1.1253594916954632}"
      ]
     },
     "execution_count": 46,
     "metadata": {},
     "output_type": "execute_result"
    }
   ],
   "source": [
    "metrics"
   ]
  },
  {
   "cell_type": "code",
   "execution_count": 47,
   "id": "64c340a1",
   "metadata": {
    "execution": {
     "iopub.execute_input": "2025-08-19T18:13:42.714990Z",
     "iopub.status.busy": "2025-08-19T18:13:42.713769Z",
     "iopub.status.idle": "2025-08-19T18:13:42.777983Z",
     "shell.execute_reply": "2025-08-19T18:13:42.776748Z"
    },
    "papermill": {
     "duration": 0.086738,
     "end_time": "2025-08-19T18:13:42.780622",
     "exception": false,
     "start_time": "2025-08-19T18:13:42.693884",
     "status": "completed"
    },
    "tags": []
   },
   "outputs": [],
   "source": [
    "example_universe = universe.copy()\n",
    "universe_training_year = example_universe.get(\"training_year\")\n",
    "universe_training_size = example_universe.get(\"training_size\")\n",
    "universe_scale = example_universe.get(\"scale\")\n",
    "universe_model = example_universe.get(\"model\")\n",
    "universe_exclude_features = example_universe.get(\"exclude_features\")\n",
    "universe_exclude_subgroups = example_universe.get(\"exclude_subgroups\")"
   ]
  },
  {
   "cell_type": "code",
   "execution_count": 48,
   "id": "dbb53cb4",
   "metadata": {
    "execution": {
     "iopub.execute_input": "2025-08-19T18:13:42.815886Z",
     "iopub.status.busy": "2025-08-19T18:13:42.815511Z",
     "iopub.status.idle": "2025-08-19T18:13:42.820194Z",
     "shell.execute_reply": "2025-08-19T18:13:42.819592Z"
    },
    "papermill": {
     "duration": 0.02178,
     "end_time": "2025-08-19T18:13:42.824678",
     "exception": false,
     "start_time": "2025-08-19T18:13:42.802898",
     "status": "completed"
    },
    "tags": []
   },
   "outputs": [],
   "source": [
    "cp_metrics_dict = {\n",
    "    \"universe_id\": [universe_id],\n",
    "    \"universe_training_year\": [universe_training_year],\n",
    "    \"universe_training_size\": [universe_training_size],\n",
    "    \"universe_scale\": [universe_scale],\n",
    "    \"universe_model\": [universe_model],\n",
    "    \"universe_exclude_features\": [universe_exclude_features],\n",
    "    \"universe_exclude_subgroups\": [universe_exclude_subgroups],\n",
    "    \"q_hat\": [q_hat],\n",
    "    \"coverage\": [metrics[\"coverage\"]],\n",
    "    \"avg_size\": [metrics[\"avg_size\"]],\n",
    "}"
   ]
  },
  {
   "cell_type": "code",
   "execution_count": 49,
   "id": "0d70d4b2",
   "metadata": {
    "execution": {
     "iopub.execute_input": "2025-08-19T18:13:42.862579Z",
     "iopub.status.busy": "2025-08-19T18:13:42.862155Z",
     "iopub.status.idle": "2025-08-19T18:13:42.940809Z",
     "shell.execute_reply": "2025-08-19T18:13:42.939609Z"
    },
    "papermill": {
     "duration": 0.099086,
     "end_time": "2025-08-19T18:13:42.944300",
     "exception": false,
     "start_time": "2025-08-19T18:13:42.845214",
     "status": "completed"
    },
    "tags": []
   },
   "outputs": [],
   "source": [
    "cp_metrics_df = pd.DataFrame(cp_metrics_dict)"
   ]
  },
  {
   "cell_type": "code",
   "execution_count": 50,
   "id": "b494403c",
   "metadata": {
    "execution": {
     "iopub.execute_input": "2025-08-19T18:13:42.984514Z",
     "iopub.status.busy": "2025-08-19T18:13:42.984047Z",
     "iopub.status.idle": "2025-08-19T18:13:43.150588Z",
     "shell.execute_reply": "2025-08-19T18:13:43.148192Z"
    },
    "papermill": {
     "duration": 0.186413,
     "end_time": "2025-08-19T18:13:43.152591",
     "exception": false,
     "start_time": "2025-08-19T18:13:42.966178",
     "status": "completed"
    },
    "tags": []
   },
   "outputs": [
    {
     "data": {
      "text/html": [
       "<div>\n",
       "<style scoped>\n",
       "    .dataframe tbody tr th:only-of-type {\n",
       "        vertical-align: middle;\n",
       "    }\n",
       "\n",
       "    .dataframe tbody tr th {\n",
       "        vertical-align: top;\n",
       "    }\n",
       "\n",
       "    .dataframe thead th {\n",
       "        text-align: right;\n",
       "    }\n",
       "</style>\n",
       "<table border=\"1\" class=\"dataframe\">\n",
       "  <thead>\n",
       "    <tr style=\"text-align: right;\">\n",
       "      <th></th>\n",
       "      <th>universe_id</th>\n",
       "      <th>universe_training_year</th>\n",
       "      <th>universe_training_size</th>\n",
       "      <th>universe_scale</th>\n",
       "      <th>universe_model</th>\n",
       "      <th>universe_exclude_features</th>\n",
       "      <th>universe_exclude_subgroups</th>\n",
       "      <th>q_hat</th>\n",
       "      <th>coverage</th>\n",
       "      <th>avg_size</th>\n",
       "    </tr>\n",
       "  </thead>\n",
       "  <tbody>\n",
       "    <tr>\n",
       "      <th>0</th>\n",
       "      <td>7f1cc2e4b28484658178dc22476311a3</td>\n",
       "      <td>2010_14</td>\n",
       "      <td>25k</td>\n",
       "      <td>scale</td>\n",
       "      <td>penalized_logreg</td>\n",
       "      <td>none</td>\n",
       "      <td>keep-all</td>\n",
       "      <td>0.660023</td>\n",
       "      <td>0.910489</td>\n",
       "      <td>1.125359</td>\n",
       "    </tr>\n",
       "  </tbody>\n",
       "</table>\n",
       "</div>"
      ],
      "text/plain": [
       "                        universe_id universe_training_year  \\\n",
       "0  7f1cc2e4b28484658178dc22476311a3                2010_14   \n",
       "\n",
       "  universe_training_size universe_scale    universe_model  \\\n",
       "0                    25k          scale  penalized_logreg   \n",
       "\n",
       "  universe_exclude_features universe_exclude_subgroups     q_hat  coverage  \\\n",
       "0                      none                   keep-all  0.660023  0.910489   \n",
       "\n",
       "   avg_size  \n",
       "0  1.125359  "
      ]
     },
     "execution_count": 50,
     "metadata": {},
     "output_type": "execute_result"
    }
   ],
   "source": [
    "cp_metrics_df"
   ]
  },
  {
   "cell_type": "markdown",
   "id": "ed608b0b",
   "metadata": {
    "papermill": {
     "duration": 0.020674,
     "end_time": "2025-08-19T18:13:43.197936",
     "exception": false,
     "start_time": "2025-08-19T18:13:43.177262",
     "status": "completed"
    },
    "tags": []
   },
   "source": [
    "Conditional coverage & looking at subgroups"
   ]
  },
  {
   "cell_type": "code",
   "execution_count": 51,
   "id": "8968c366",
   "metadata": {
    "execution": {
     "iopub.execute_input": "2025-08-19T18:13:43.225235Z",
     "iopub.status.busy": "2025-08-19T18:13:43.224094Z",
     "iopub.status.idle": "2025-08-19T18:13:43.487344Z",
     "shell.execute_reply": "2025-08-19T18:13:43.486454Z"
    },
    "papermill": {
     "duration": 0.279691,
     "end_time": "2025-08-19T18:13:43.490153",
     "exception": false,
     "start_time": "2025-08-19T18:13:43.210462",
     "status": "completed"
    },
    "tags": []
   },
   "outputs": [],
   "source": [
    "from fairness_multiverse.conformal import build_cp_groups\n",
    "\n",
    "cp_groups_df = build_cp_groups(pred_sets, y_true, X_test.index, org_test)"
   ]
  },
  {
   "cell_type": "code",
   "execution_count": 52,
   "id": "292ddabf",
   "metadata": {
    "execution": {
     "iopub.execute_input": "2025-08-19T18:13:43.533571Z",
     "iopub.status.busy": "2025-08-19T18:13:43.532252Z",
     "iopub.status.idle": "2025-08-19T18:13:44.430086Z",
     "shell.execute_reply": "2025-08-19T18:13:44.428879Z"
    },
    "papermill": {
     "duration": 0.914762,
     "end_time": "2025-08-19T18:13:44.431701",
     "exception": false,
     "start_time": "2025-08-19T18:13:43.516939",
     "status": "completed"
    },
    "tags": []
   },
   "outputs": [],
   "source": [
    "# Define covered = 1 if true_label is in the predicted set\n",
    "cp_groups_df['covered'] = cp_groups_df.apply(\n",
    "    lambda r: int(r['true_label'] in r['pred_set']),\n",
    "    axis=1\n",
    ")"
   ]
  },
  {
   "cell_type": "code",
   "execution_count": 53,
   "id": "3a261692",
   "metadata": {
    "execution": {
     "iopub.execute_input": "2025-08-19T18:13:44.458092Z",
     "iopub.status.busy": "2025-08-19T18:13:44.457616Z",
     "iopub.status.idle": "2025-08-19T18:13:44.469680Z",
     "shell.execute_reply": "2025-08-19T18:13:44.468983Z"
    },
    "papermill": {
     "duration": 0.026478,
     "end_time": "2025-08-19T18:13:44.470838",
     "exception": false,
     "start_time": "2025-08-19T18:13:44.444360",
     "status": "completed"
    },
    "tags": []
   },
   "outputs": [],
   "source": [
    "subgroups = ['frau1','nongerman','nongerman_male','nongerman_female']\n",
    "\n",
    "# Conditional coverage for subgroup==1\n",
    "cond_coverage = {\n",
    "    g: cp_groups_df.loc[cp_groups_df[g]==1, 'covered'].mean()\n",
    "    for g in subgroups\n",
    "}"
   ]
  },
  {
   "cell_type": "code",
   "execution_count": 54,
   "id": "894fd600",
   "metadata": {
    "execution": {
     "iopub.execute_input": "2025-08-19T18:13:44.503815Z",
     "iopub.status.busy": "2025-08-19T18:13:44.503354Z",
     "iopub.status.idle": "2025-08-19T18:13:44.510169Z",
     "shell.execute_reply": "2025-08-19T18:13:44.509383Z"
    },
    "papermill": {
     "duration": 0.027769,
     "end_time": "2025-08-19T18:13:44.511612",
     "exception": false,
     "start_time": "2025-08-19T18:13:44.483843",
     "status": "completed"
    },
    "tags": []
   },
   "outputs": [
    {
     "data": {
      "text/plain": [
       "{'frau1': 0.9091521768432403,\n",
       " 'nongerman': 0.9129287598944591,\n",
       " 'nongerman_male': 0.9290281905791228,\n",
       " 'nongerman_female': 0.8862891207153503}"
      ]
     },
     "execution_count": 54,
     "metadata": {},
     "output_type": "execute_result"
    }
   ],
   "source": [
    "cond_coverage"
   ]
  },
  {
   "cell_type": "code",
   "execution_count": 55,
   "id": "942895c7",
   "metadata": {
    "execution": {
     "iopub.execute_input": "2025-08-19T18:13:44.536592Z",
     "iopub.status.busy": "2025-08-19T18:13:44.536254Z",
     "iopub.status.idle": "2025-08-19T18:13:44.545052Z",
     "shell.execute_reply": "2025-08-19T18:13:44.544019Z"
    },
    "papermill": {
     "duration": 0.022591,
     "end_time": "2025-08-19T18:13:44.546354",
     "exception": false,
     "start_time": "2025-08-19T18:13:44.523763",
     "status": "completed"
    },
    "tags": []
   },
   "outputs": [],
   "source": [
    "for subgroup, cov in cond_coverage.items():\n",
    "    cp_metrics_df[f\"cov_{subgroup}\"] = cov"
   ]
  },
  {
   "cell_type": "code",
   "execution_count": 56,
   "id": "3970120f",
   "metadata": {
    "execution": {
     "iopub.execute_input": "2025-08-19T18:13:44.571044Z",
     "iopub.status.busy": "2025-08-19T18:13:44.570678Z",
     "iopub.status.idle": "2025-08-19T18:13:44.591729Z",
     "shell.execute_reply": "2025-08-19T18:13:44.586745Z"
    },
    "papermill": {
     "duration": 0.035056,
     "end_time": "2025-08-19T18:13:44.593264",
     "exception": false,
     "start_time": "2025-08-19T18:13:44.558208",
     "status": "completed"
    },
    "tags": []
   },
   "outputs": [
    {
     "data": {
      "text/html": [
       "<div>\n",
       "<style scoped>\n",
       "    .dataframe tbody tr th:only-of-type {\n",
       "        vertical-align: middle;\n",
       "    }\n",
       "\n",
       "    .dataframe tbody tr th {\n",
       "        vertical-align: top;\n",
       "    }\n",
       "\n",
       "    .dataframe thead th {\n",
       "        text-align: right;\n",
       "    }\n",
       "</style>\n",
       "<table border=\"1\" class=\"dataframe\">\n",
       "  <thead>\n",
       "    <tr style=\"text-align: right;\">\n",
       "      <th></th>\n",
       "      <th>universe_id</th>\n",
       "      <th>universe_training_year</th>\n",
       "      <th>universe_training_size</th>\n",
       "      <th>universe_scale</th>\n",
       "      <th>universe_model</th>\n",
       "      <th>universe_exclude_features</th>\n",
       "      <th>universe_exclude_subgroups</th>\n",
       "      <th>q_hat</th>\n",
       "      <th>coverage</th>\n",
       "      <th>avg_size</th>\n",
       "      <th>cov_frau1</th>\n",
       "      <th>cov_nongerman</th>\n",
       "      <th>cov_nongerman_male</th>\n",
       "      <th>cov_nongerman_female</th>\n",
       "    </tr>\n",
       "  </thead>\n",
       "  <tbody>\n",
       "    <tr>\n",
       "      <th>0</th>\n",
       "      <td>7f1cc2e4b28484658178dc22476311a3</td>\n",
       "      <td>2010_14</td>\n",
       "      <td>25k</td>\n",
       "      <td>scale</td>\n",
       "      <td>penalized_logreg</td>\n",
       "      <td>none</td>\n",
       "      <td>keep-all</td>\n",
       "      <td>0.660023</td>\n",
       "      <td>0.910489</td>\n",
       "      <td>1.125359</td>\n",
       "      <td>0.909152</td>\n",
       "      <td>0.912929</td>\n",
       "      <td>0.929028</td>\n",
       "      <td>0.886289</td>\n",
       "    </tr>\n",
       "  </tbody>\n",
       "</table>\n",
       "</div>"
      ],
      "text/plain": [
       "                        universe_id universe_training_year  \\\n",
       "0  7f1cc2e4b28484658178dc22476311a3                2010_14   \n",
       "\n",
       "  universe_training_size universe_scale    universe_model  \\\n",
       "0                    25k          scale  penalized_logreg   \n",
       "\n",
       "  universe_exclude_features universe_exclude_subgroups     q_hat  coverage  \\\n",
       "0                      none                   keep-all  0.660023  0.910489   \n",
       "\n",
       "   avg_size  cov_frau1  cov_nongerman  cov_nongerman_male  \\\n",
       "0  1.125359   0.909152       0.912929            0.929028   \n",
       "\n",
       "   cov_nongerman_female  \n",
       "0              0.886289  "
      ]
     },
     "execution_count": 56,
     "metadata": {},
     "output_type": "execute_result"
    }
   ],
   "source": [
    "cp_metrics_df"
   ]
  },
  {
   "cell_type": "markdown",
   "id": "3fc519cc",
   "metadata": {
    "papermill": {
     "duration": 0.012442,
     "end_time": "2025-08-19T18:13:44.622182",
     "exception": false,
     "start_time": "2025-08-19T18:13:44.609740",
     "status": "completed"
    },
    "tags": []
   },
   "source": [
    "# (Fairness) Metrics"
   ]
  },
  {
   "cell_type": "code",
   "execution_count": 57,
   "id": "a2e5e155",
   "metadata": {
    "execution": {
     "iopub.execute_input": "2025-08-19T18:13:44.650270Z",
     "iopub.status.busy": "2025-08-19T18:13:44.649760Z",
     "iopub.status.idle": "2025-08-19T18:13:44.671075Z",
     "shell.execute_reply": "2025-08-19T18:13:44.670228Z"
    },
    "papermill": {
     "duration": 0.036774,
     "end_time": "2025-08-19T18:13:44.672735",
     "exception": false,
     "start_time": "2025-08-19T18:13:44.635961",
     "status": "completed"
    },
    "tags": []
   },
   "outputs": [],
   "source": [
    "colname_to_bin = \"maxdeutsch1\"\n",
    "majority_value = org_train[colname_to_bin].mode()[0]\n",
    "\n",
    "org_test[\"majmin\"] = np.where(org_test[colname_to_bin] == majority_value, \"majority\", \"minority\")"
   ]
  },
  {
   "cell_type": "code",
   "execution_count": 58,
   "id": "17e3e4d5",
   "metadata": {
    "execution": {
     "iopub.execute_input": "2025-08-19T18:13:44.703943Z",
     "iopub.status.busy": "2025-08-19T18:13:44.703486Z",
     "iopub.status.idle": "2025-08-19T18:13:46.470982Z",
     "shell.execute_reply": "2025-08-19T18:13:46.469688Z"
    },
    "papermill": {
     "duration": 1.78514,
     "end_time": "2025-08-19T18:13:46.473034",
     "exception": false,
     "start_time": "2025-08-19T18:13:44.687894",
     "status": "completed"
    },
    "tags": []
   },
   "outputs": [],
   "source": [
    "example_universe = universe.copy()\n",
    "example_universe[\"cutoff\"] = example_universe[\"cutoff\"][0]\n",
    "example_universe[\"eval_fairness_grouping\"] = example_universe[\"eval_fairness_grouping\"][0]\n",
    "fairness_dict, metric_frame = universe_analysis.compute_metrics(\n",
    "    example_universe,\n",
    "    y_pred_prob=probs_test,\n",
    "    y_test=y_true,\n",
    "    org_test=org_test,\n",
    ")"
   ]
  },
  {
   "cell_type": "markdown",
   "id": "1fb7a0e9",
   "metadata": {
    "papermill": {
     "duration": 0.012467,
     "end_time": "2025-08-19T18:13:46.500132",
     "exception": false,
     "start_time": "2025-08-19T18:13:46.487665",
     "status": "completed"
    },
    "tags": []
   },
   "source": [
    "# Overall"
   ]
  },
  {
   "cell_type": "markdown",
   "id": "be1784b1",
   "metadata": {
    "papermill": {
     "duration": 0.012183,
     "end_time": "2025-08-19T18:13:46.524669",
     "exception": false,
     "start_time": "2025-08-19T18:13:46.512486",
     "status": "completed"
    },
    "tags": []
   },
   "source": [
    "Main fairness target: Equalized Odds. Seems to be a better fit than equal opportunity, since we're not only interested in Y = 1. Seems to be a better fit than demographic parity, since we also care about accuracy, not just equal distribution of preds.\n",
    "\n",
    "Pick column for computation of fairness metrics\n",
    "\n",
    "Performance\n",
    "Overall performance measures, most interesting in relation to the measures split by group below"
   ]
  },
  {
   "cell_type": "code",
   "execution_count": 59,
   "id": "b7672bee",
   "metadata": {
    "execution": {
     "iopub.execute_input": "2025-08-19T18:13:46.551780Z",
     "iopub.status.busy": "2025-08-19T18:13:46.551311Z",
     "iopub.status.idle": "2025-08-19T18:13:46.566648Z",
     "shell.execute_reply": "2025-08-19T18:13:46.565783Z"
    },
    "papermill": {
     "duration": 0.030935,
     "end_time": "2025-08-19T18:13:46.568193",
     "exception": false,
     "start_time": "2025-08-19T18:13:46.537258",
     "status": "completed"
    },
    "tags": []
   },
   "outputs": [
    {
     "data": {
      "text/plain": [
       "accuracy                   0.225516\n",
       "balanced accuracy          0.551177\n",
       "f1                         0.246816\n",
       "precision                  0.140998\n",
       "false positive rate        0.886870\n",
       "false negative rate        0.010775\n",
       "selection rate             0.900000\n",
       "count                  89710.000000\n",
       "dtype: float64"
      ]
     },
     "execution_count": 59,
     "metadata": {},
     "output_type": "execute_result"
    }
   ],
   "source": [
    "metric_frame.overall"
   ]
  },
  {
   "cell_type": "markdown",
   "id": "d93333c9",
   "metadata": {
    "papermill": {
     "duration": 0.012531,
     "end_time": "2025-08-19T18:13:46.595470",
     "exception": false,
     "start_time": "2025-08-19T18:13:46.582939",
     "status": "completed"
    },
    "tags": []
   },
   "source": [
    "By Group"
   ]
  },
  {
   "cell_type": "code",
   "execution_count": 60,
   "id": "52256966",
   "metadata": {
    "execution": {
     "iopub.execute_input": "2025-08-19T18:13:46.621737Z",
     "iopub.status.busy": "2025-08-19T18:13:46.621323Z",
     "iopub.status.idle": "2025-08-19T18:13:46.634095Z",
     "shell.execute_reply": "2025-08-19T18:13:46.633409Z"
    },
    "papermill": {
     "duration": 0.034503,
     "end_time": "2025-08-19T18:13:46.642332",
     "exception": false,
     "start_time": "2025-08-19T18:13:46.607829",
     "status": "completed"
    },
    "tags": []
   },
   "outputs": [
    {
     "data": {
      "text/html": [
       "<div>\n",
       "<style scoped>\n",
       "    .dataframe tbody tr th:only-of-type {\n",
       "        vertical-align: middle;\n",
       "    }\n",
       "\n",
       "    .dataframe tbody tr th {\n",
       "        vertical-align: top;\n",
       "    }\n",
       "\n",
       "    .dataframe thead th {\n",
       "        text-align: right;\n",
       "    }\n",
       "</style>\n",
       "<table border=\"1\" class=\"dataframe\">\n",
       "  <thead>\n",
       "    <tr style=\"text-align: right;\">\n",
       "      <th></th>\n",
       "      <th>accuracy</th>\n",
       "      <th>balanced accuracy</th>\n",
       "      <th>f1</th>\n",
       "      <th>precision</th>\n",
       "      <th>false positive rate</th>\n",
       "      <th>false negative rate</th>\n",
       "      <th>selection rate</th>\n",
       "      <th>count</th>\n",
       "    </tr>\n",
       "    <tr>\n",
       "      <th>majmin</th>\n",
       "      <th></th>\n",
       "      <th></th>\n",
       "      <th></th>\n",
       "      <th></th>\n",
       "      <th></th>\n",
       "      <th></th>\n",
       "      <th></th>\n",
       "      <th></th>\n",
       "    </tr>\n",
       "  </thead>\n",
       "  <tbody>\n",
       "    <tr>\n",
       "      <th>majority</th>\n",
       "      <td>0.247709</td>\n",
       "      <td>0.561621</td>\n",
       "      <td>0.257710</td>\n",
       "      <td>0.148174</td>\n",
       "      <td>0.865051</td>\n",
       "      <td>0.011707</td>\n",
       "      <td>0.881336</td>\n",
       "      <td>69170.0</td>\n",
       "    </tr>\n",
       "    <tr>\n",
       "      <th>minority</th>\n",
       "      <td>0.150779</td>\n",
       "      <td>0.516937</td>\n",
       "      <td>0.212328</td>\n",
       "      <td>0.118875</td>\n",
       "      <td>0.958948</td>\n",
       "      <td>0.007179</td>\n",
       "      <td>0.962853</td>\n",
       "      <td>20540.0</td>\n",
       "    </tr>\n",
       "  </tbody>\n",
       "</table>\n",
       "</div>"
      ],
      "text/plain": [
       "          accuracy  balanced accuracy        f1  precision  \\\n",
       "majmin                                                       \n",
       "majority  0.247709           0.561621  0.257710   0.148174   \n",
       "minority  0.150779           0.516937  0.212328   0.118875   \n",
       "\n",
       "          false positive rate  false negative rate  selection rate    count  \n",
       "majmin                                                                       \n",
       "majority             0.865051             0.011707        0.881336  69170.0  \n",
       "minority             0.958948             0.007179        0.962853  20540.0  "
      ]
     },
     "execution_count": 60,
     "metadata": {},
     "output_type": "execute_result"
    }
   ],
   "source": [
    "metric_frame.by_group"
   ]
  },
  {
   "cell_type": "code",
   "execution_count": 61,
   "id": "6e6c20ae",
   "metadata": {
    "execution": {
     "iopub.execute_input": "2025-08-19T18:13:46.680849Z",
     "iopub.status.busy": "2025-08-19T18:13:46.680391Z",
     "iopub.status.idle": "2025-08-19T18:13:48.449900Z",
     "shell.execute_reply": "2025-08-19T18:13:48.449129Z"
    },
    "papermill": {
     "duration": 1.79566,
     "end_time": "2025-08-19T18:13:48.451352",
     "exception": false,
     "start_time": "2025-08-19T18:13:46.655692",
     "status": "completed"
    },
    "tags": []
   },
   "outputs": [
    {
     "data": {
      "text/plain": [
       "array([[<Axes: title={'center': 'accuracy'}, xlabel='majmin'>,\n",
       "        <Axes: title={'center': 'balanced accuracy'}, xlabel='majmin'>,\n",
       "        <Axes: title={'center': 'f1'}, xlabel='majmin'>],\n",
       "       [<Axes: title={'center': 'precision'}, xlabel='majmin'>,\n",
       "        <Axes: title={'center': 'false positive rate'}, xlabel='majmin'>,\n",
       "        <Axes: title={'center': 'false negative rate'}, xlabel='majmin'>],\n",
       "       [<Axes: title={'center': 'selection rate'}, xlabel='majmin'>,\n",
       "        <Axes: title={'center': 'count'}, xlabel='majmin'>,\n",
       "        <Axes: xlabel='majmin'>]], dtype=object)"
      ]
     },
     "execution_count": 61,
     "metadata": {},
     "output_type": "execute_result"
    },
    {
     "data": {
      "image/png": "[encoded data removed]",
      "text/plain": [
       "<Figure size 1200x800 with 9 Axes>"
      ]
     },
     "metadata": {},
     "output_type": "display_data"
    }
   ],
   "source": [
    "# In a graphic\n",
    "metric_frame.by_group.plot.bar(\n",
    "    subplots=True,\n",
    "    layout=[3, 3],\n",
    "    legend=False,\n",
    "    figsize=[12, 8],\n",
    "    title=\"Show all metrics\",\n",
    ")"
   ]
  },
  {
   "cell_type": "markdown",
   "id": "b2e433ae",
   "metadata": {
    "papermill": {
     "duration": 0.013446,
     "end_time": "2025-08-19T18:13:48.479390",
     "exception": false,
     "start_time": "2025-08-19T18:13:48.465944",
     "status": "completed"
    },
    "tags": []
   },
   "source": [
    "# Final Output"
   ]
  },
  {
   "cell_type": "code",
   "execution_count": 62,
   "id": "3871301e",
   "metadata": {
    "execution": {
     "iopub.execute_input": "2025-08-19T18:13:48.508218Z",
     "iopub.status.busy": "2025-08-19T18:13:48.507474Z",
     "iopub.status.idle": "2025-08-19T18:13:48.515943Z",
     "shell.execute_reply": "2025-08-19T18:13:48.515191Z"
    },
    "papermill": {
     "duration": 0.024696,
     "end_time": "2025-08-19T18:13:48.517502",
     "exception": false,
     "start_time": "2025-08-19T18:13:48.492806",
     "status": "completed"
    },
    "tags": []
   },
   "outputs": [
    {
     "data": {
      "text/plain": [
       "4"
      ]
     },
     "execution_count": 62,
     "metadata": {},
     "output_type": "execute_result"
    }
   ],
   "source": [
    "sub_universes = universe_analysis.generate_sub_universes()\n",
    "len(sub_universes)"
   ]
  },
  {
   "cell_type": "code",
   "execution_count": 63,
   "id": "d9cfdaca",
   "metadata": {
    "execution": {
     "iopub.execute_input": "2025-08-19T18:13:48.549043Z",
     "iopub.status.busy": "2025-08-19T18:13:48.548415Z",
     "iopub.status.idle": "2025-08-19T18:13:48.565938Z",
     "shell.execute_reply": "2025-08-19T18:13:48.564807Z"
    },
    "papermill": {
     "duration": 0.034318,
     "end_time": "2025-08-19T18:13:48.568015",
     "exception": false,
     "start_time": "2025-08-19T18:13:48.533697",
     "status": "completed"
    },
    "tags": []
   },
   "outputs": [],
   "source": [
    "def filter_sub_universe_data(sub_universe, org_test):\n",
    "    # Keep all rows — no filtering\n",
    "    keep_rows_mask = np.ones(org_test.shape[0], dtype=bool)\n",
    "\n",
    "    print(f\"[INFO] Keeping all rows: {keep_rows_mask.sum()} rows retained.\")\n",
    "    return keep_rows_mask"
   ]
  },
  {
   "cell_type": "code",
   "execution_count": 64,
   "id": "2bc31ac1",
   "metadata": {
    "execution": {
     "iopub.execute_input": "2025-08-19T18:13:48.605515Z",
     "iopub.status.busy": "2025-08-19T18:13:48.604563Z",
     "iopub.status.idle": "2025-08-19T18:13:55.193192Z",
     "shell.execute_reply": "2025-08-19T18:13:55.192180Z"
    },
    "papermill": {
     "duration": 6.606414,
     "end_time": "2025-08-19T18:13:55.194954",
     "exception": false,
     "start_time": "2025-08-19T18:13:48.588540",
     "status": "completed"
    },
    "tags": []
   },
   "outputs": [
    {
     "name": "stdout",
     "output_type": "stream",
     "text": [
      "Stopping execution_time clock.\n",
      "[INFO] Keeping all rows: 89710 rows retained.\n"
     ]
    },
    {
     "name": "stdout",
     "output_type": "stream",
     "text": [
      "[INFO] Keeping all rows: 89710 rows retained.\n"
     ]
    },
    {
     "name": "stdout",
     "output_type": "stream",
     "text": [
      "[INFO] Keeping all rows: 89710 rows retained.\n"
     ]
    },
    {
     "name": "stdout",
     "output_type": "stream",
     "text": [
      "[INFO] Keeping all rows: 89710 rows retained.\n"
     ]
    },
    {
     "data": {
      "text/html": [
       "<div>\n",
       "<style scoped>\n",
       "    .dataframe tbody tr th:only-of-type {\n",
       "        vertical-align: middle;\n",
       "    }\n",
       "\n",
       "    .dataframe tbody tr th {\n",
       "        vertical-align: top;\n",
       "    }\n",
       "\n",
       "    .dataframe thead th {\n",
       "        text-align: right;\n",
       "    }\n",
       "</style>\n",
       "<table border=\"1\" class=\"dataframe\">\n",
       "  <thead>\n",
       "    <tr style=\"text-align: right;\">\n",
       "      <th></th>\n",
       "      <th>run_no</th>\n",
       "      <th>universe_id</th>\n",
       "      <th>universe_settings</th>\n",
       "      <th>execution_time</th>\n",
       "      <th>test_size_n</th>\n",
       "      <th>test_size_frac</th>\n",
       "      <th>fair_main_equalized_odds_difference</th>\n",
       "      <th>fair_main_equalized_odds_ratio</th>\n",
       "      <th>fair_main_demographic_parity_difference</th>\n",
       "      <th>fair_main_demographic_parity_ratio</th>\n",
       "      <th>...</th>\n",
       "      <th>perf_grp_precision_0</th>\n",
       "      <th>perf_grp_precision_1</th>\n",
       "      <th>perf_grp_false positive rate_0</th>\n",
       "      <th>perf_grp_false positive rate_1</th>\n",
       "      <th>perf_grp_false negative rate_0</th>\n",
       "      <th>perf_grp_false negative rate_1</th>\n",
       "      <th>perf_grp_selection rate_0</th>\n",
       "      <th>perf_grp_selection rate_1</th>\n",
       "      <th>perf_grp_count_0</th>\n",
       "      <th>perf_grp_count_1</th>\n",
       "    </tr>\n",
       "  </thead>\n",
       "  <tbody>\n",
       "    <tr>\n",
       "      <th>0</th>\n",
       "      <td>3</td>\n",
       "      <td>7f1cc2e4b28484658178dc22476311a3</td>\n",
       "      <td>{\"cutoff\": \"quantile_0.1\", \"eval_fairness_grou...</td>\n",
       "      <td>22.491848</td>\n",
       "      <td>89710</td>\n",
       "      <td>1.0</td>\n",
       "      <td>0.093897</td>\n",
       "      <td>0.902083</td>\n",
       "      <td>0.081517</td>\n",
       "      <td>0.915338</td>\n",
       "      <td>...</td>\n",
       "      <td>NaN</td>\n",
       "      <td>NaN</td>\n",
       "      <td>NaN</td>\n",
       "      <td>NaN</td>\n",
       "      <td>NaN</td>\n",
       "      <td>NaN</td>\n",
       "      <td>NaN</td>\n",
       "      <td>NaN</td>\n",
       "      <td>NaN</td>\n",
       "      <td>NaN</td>\n",
       "    </tr>\n",
       "    <tr>\n",
       "      <th>0</th>\n",
       "      <td>3</td>\n",
       "      <td>7f1cc2e4b28484658178dc22476311a3</td>\n",
       "      <td>{\"cutoff\": \"quantile_0.1\", \"eval_fairness_grou...</td>\n",
       "      <td>22.491848</td>\n",
       "      <td>89710</td>\n",
       "      <td>1.0</td>\n",
       "      <td>0.093897</td>\n",
       "      <td>0.902083</td>\n",
       "      <td>0.081517</td>\n",
       "      <td>0.915338</td>\n",
       "      <td>...</td>\n",
       "      <td>0.118875</td>\n",
       "      <td>0.148174</td>\n",
       "      <td>0.958948</td>\n",
       "      <td>0.865051</td>\n",
       "      <td>0.007179</td>\n",
       "      <td>0.011707</td>\n",
       "      <td>0.962853</td>\n",
       "      <td>0.881336</td>\n",
       "      <td>20540.0</td>\n",
       "      <td>69170.0</td>\n",
       "    </tr>\n",
       "    <tr>\n",
       "      <th>0</th>\n",
       "      <td>3</td>\n",
       "      <td>7f1cc2e4b28484658178dc22476311a3</td>\n",
       "      <td>{\"cutoff\": \"quantile_0.25\", \"eval_fairness_gro...</td>\n",
       "      <td>22.491848</td>\n",
       "      <td>89710</td>\n",
       "      <td>1.0</td>\n",
       "      <td>0.170213</td>\n",
       "      <td>0.800005</td>\n",
       "      <td>0.148111</td>\n",
       "      <td>0.828618</td>\n",
       "      <td>...</td>\n",
       "      <td>NaN</td>\n",
       "      <td>NaN</td>\n",
       "      <td>NaN</td>\n",
       "      <td>NaN</td>\n",
       "      <td>NaN</td>\n",
       "      <td>NaN</td>\n",
       "      <td>NaN</td>\n",
       "      <td>NaN</td>\n",
       "      <td>NaN</td>\n",
       "      <td>NaN</td>\n",
       "    </tr>\n",
       "    <tr>\n",
       "      <th>0</th>\n",
       "      <td>3</td>\n",
       "      <td>7f1cc2e4b28484658178dc22476311a3</td>\n",
       "      <td>{\"cutoff\": \"quantile_0.25\", \"eval_fairness_gro...</td>\n",
       "      <td>22.491848</td>\n",
       "      <td>89710</td>\n",
       "      <td>1.0</td>\n",
       "      <td>0.170213</td>\n",
       "      <td>0.800005</td>\n",
       "      <td>0.148111</td>\n",
       "      <td>0.828618</td>\n",
       "      <td>...</td>\n",
       "      <td>0.128725</td>\n",
       "      <td>0.174833</td>\n",
       "      <td>0.851090</td>\n",
       "      <td>0.680876</td>\n",
       "      <td>0.035051</td>\n",
       "      <td>0.052516</td>\n",
       "      <td>0.864216</td>\n",
       "      <td>0.716105</td>\n",
       "      <td>20540.0</td>\n",
       "      <td>69170.0</td>\n",
       "    </tr>\n",
       "  </tbody>\n",
       "</table>\n",
       "<p>4 rows × 50 columns</p>\n",
       "</div>"
      ],
      "text/plain": [
       "  run_no                       universe_id  \\\n",
       "0      3  7f1cc2e4b28484658178dc22476311a3   \n",
       "0      3  7f1cc2e4b28484658178dc22476311a3   \n",
       "0      3  7f1cc2e4b28484658178dc22476311a3   \n",
       "0      3  7f1cc2e4b28484658178dc22476311a3   \n",
       "\n",
       "                                   universe_settings  execution_time  \\\n",
       "0  {\"cutoff\": \"quantile_0.1\", \"eval_fairness_grou...       22.491848   \n",
       "0  {\"cutoff\": \"quantile_0.1\", \"eval_fairness_grou...       22.491848   \n",
       "0  {\"cutoff\": \"quantile_0.25\", \"eval_fairness_gro...       22.491848   \n",
       "0  {\"cutoff\": \"quantile_0.25\", \"eval_fairness_gro...       22.491848   \n",
       "\n",
       "   test_size_n  test_size_frac  fair_main_equalized_odds_difference  \\\n",
       "0        89710             1.0                             0.093897   \n",
       "0        89710             1.0                             0.093897   \n",
       "0        89710             1.0                             0.170213   \n",
       "0        89710             1.0                             0.170213   \n",
       "\n",
       "   fair_main_equalized_odds_ratio  fair_main_demographic_parity_difference  \\\n",
       "0                        0.902083                                 0.081517   \n",
       "0                        0.902083                                 0.081517   \n",
       "0                        0.800005                                 0.148111   \n",
       "0                        0.800005                                 0.148111   \n",
       "\n",
       "   fair_main_demographic_parity_ratio  ...  perf_grp_precision_0  \\\n",
       "0                            0.915338  ...                   NaN   \n",
       "0                            0.915338  ...              0.118875   \n",
       "0                            0.828618  ...                   NaN   \n",
       "0                            0.828618  ...              0.128725   \n",
       "\n",
       "   perf_grp_precision_1  perf_grp_false positive rate_0  \\\n",
       "0                   NaN                             NaN   \n",
       "0              0.148174                        0.958948   \n",
       "0                   NaN                             NaN   \n",
       "0              0.174833                        0.851090   \n",
       "\n",
       "   perf_grp_false positive rate_1  perf_grp_false negative rate_0  \\\n",
       "0                             NaN                             NaN   \n",
       "0                        0.865051                        0.007179   \n",
       "0                             NaN                             NaN   \n",
       "0                        0.680876                        0.035051   \n",
       "\n",
       "   perf_grp_false negative rate_1  perf_grp_selection rate_0  \\\n",
       "0                             NaN                        NaN   \n",
       "0                        0.011707                   0.962853   \n",
       "0                             NaN                        NaN   \n",
       "0                        0.052516                   0.864216   \n",
       "\n",
       "   perf_grp_selection rate_1  perf_grp_count_0  perf_grp_count_1  \n",
       "0                        NaN               NaN               NaN  \n",
       "0                   0.881336           20540.0           69170.0  \n",
       "0                        NaN               NaN               NaN  \n",
       "0                   0.716105           20540.0           69170.0  \n",
       "\n",
       "[4 rows x 50 columns]"
      ]
     },
     "execution_count": 64,
     "metadata": {},
     "output_type": "execute_result"
    }
   ],
   "source": [
    "final_output = universe_analysis.generate_final_output(\n",
    "    y_pred_prob=probs_test,\n",
    "    y_test=y_true,\n",
    "    org_test=org_test,\n",
    "    filter_data=filter_sub_universe_data,\n",
    "    cp_metrics_df=cp_metrics_df,\n",
    "    save=True,\n",
    ")\n",
    "final_output"
   ]
  },
  {
   "cell_type": "code",
   "execution_count": null,
   "id": "8b80a1ff",
   "metadata": {
    "papermill": {
     "duration": 0.017826,
     "end_time": "2025-08-19T18:13:55.244650",
     "exception": false,
     "start_time": "2025-08-19T18:13:55.226824",
     "status": "completed"
    },
    "tags": []
   },
   "outputs": [],
   "source": []
  },
  {
   "cell_type": "code",
   "execution_count": null,
   "id": "275c9fad",
   "metadata": {
    "papermill": {
     "duration": 0.014818,
     "end_time": "2025-08-19T18:13:55.274138",
     "exception": false,
     "start_time": "2025-08-19T18:13:55.259320",
     "status": "completed"
    },
    "tags": []
   },
   "outputs": [],
   "source": []
  }
 ],
 "metadata": {
  "celltoolbar": "Tags",
  "kernelspec": {
   "display_name": "Python (CMA Fairness)",
   "language": "python",
   "name": "cma_fair_env"
  },
  "language_info": {
   "codemirror_mode": {
    "name": "ipython",
    "version": 3
   },
   "file_extension": ".py",
   "mimetype": "text/x-python",
   "name": "python",
   "nbconvert_exporter": "python",
   "pygments_lexer": "ipython3",
   "version": "3.10.12"
  },
  "papermill": {
   "default_parameters": {},
   "duration": 33.162708,
   "end_time": "2025-08-19T18:13:56.128170",
   "environment_variables": {},
   "exception": null,
   "input_path": "universe_analysis.ipynb",
   "output_path": "output/runs/3/notebooks/m_3-7f1cc2e4b28484658178dc22476311a3.ipynb",
   "parameters": {
    "output_dir": "output",
    "run_no": "3",
    "seed": "2023",
    "universe": "{\"cutoff\": [\"quantile_0.1\", \"quantile_0.25\"], \"eval_fairness_grouping\": [\"majority-minority\", \"nationality-all\"], \"exclude_features\": \"none\", \"exclude_subgroups\": \"keep-all\", \"model\": \"penalized_logreg\", \"scale\": \"scale\", \"training_size\": \"25k\", \"training_year\": \"2010_14\"}",
    "universe_id": "7f1cc2e4b28484658178dc22476311a3"
   },
   "start_time": "2025-08-19T18:13:22.965462",
   "version": "2.6.0"
  }
 },
 "nbformat": 4,
 "nbformat_minor": 5
}