{
 "cells": [
  {
   "cell_type": "markdown",
   "id": "ef23dbb3",
   "metadata": {
    "papermill": {
     "duration": 0.009791,
     "end_time": "2025-08-19T18:53:46.258043",
     "exception": false,
     "start_time": "2025-08-19T18:53:46.248252",
     "status": "completed"
    },
    "tags": []
   },
   "source": [
    "# Setup"
   ]
  },
  {
   "cell_type": "code",
   "execution_count": 1,
   "id": "0bc8e7dc",
   "metadata": {
    "execution": {
     "iopub.execute_input": "2025-08-19T18:53:46.278276Z",
     "iopub.status.busy": "2025-08-19T18:53:46.276918Z",
     "iopub.status.idle": "2025-08-19T18:53:46.295151Z",
     "shell.execute_reply": "2025-08-19T18:53:46.294087Z"
    },
    "papermill": {
     "duration": 0.032582,
     "end_time": "2025-08-19T18:53:46.299371",
     "exception": false,
     "start_time": "2025-08-19T18:53:46.266789",
     "status": "completed"
    },
    "tags": []
   },
   "outputs": [
    {
     "name": "stdout",
     "output_type": "stream",
     "text": [
      "/dss/dsshome1/0C/ra93lal2/cma/CMA_Fairness_v2\n"
     ]
    },
    {
     "name": "stderr",
     "output_type": "stream",
     "text": [
      "/dss/dsshome1/0C/ra93lal2/.local/share/virtualenvs/CMA_Fairness_v2-3j10GkSs/lib/python3.10/site-packages/IPython/core/magics/osm.py:393: UserWarning: This is now an optional IPython functionality, using bookmarks requires you to install the `pickleshare` library.\n",
      "  bkms = self.shell.db.get('bookmarks', {})\n",
      "/dss/dsshome1/0C/ra93lal2/.local/share/virtualenvs/CMA_Fairness_v2-3j10GkSs/lib/python3.10/site-packages/IPython/core/magics/osm.py:417: UserWarning: This is now an optional IPython functionality, setting dhist requires you to install the `pickleshare` library.\n",
      "  self.shell.db['dhist'] = compress_dhist(dhist)[-100:]\n"
     ]
    }
   ],
   "source": [
    "%cd ~/cma/CMA_Fairness_v2"
   ]
  },
  {
   "cell_type": "markdown",
   "id": "9d235661",
   "metadata": {
    "papermill": {
     "duration": 0.009082,
     "end_time": "2025-08-19T18:53:46.329776",
     "exception": false,
     "start_time": "2025-08-19T18:53:46.320694",
     "status": "completed"
    },
    "tags": []
   },
   "source": [
    "The following cell holds the definition of our parameters, these values can be overriden by rendering the with e.g. the following command:\n",
    "\n",
    "papermill -p alpha 0.2 -p ratio 0.3 universe_analysis.ipynb output/test_run.ipynb"
   ]
  },
  {
   "cell_type": "code",
   "execution_count": 2,
   "id": "4a789d8e",
   "metadata": {
    "execution": {
     "iopub.execute_input": "2025-08-19T18:53:46.350264Z",
     "iopub.status.busy": "2025-08-19T18:53:46.349370Z",
     "iopub.status.idle": "2025-08-19T18:53:46.362057Z",
     "shell.execute_reply": "2025-08-19T18:53:46.361022Z"
    },
    "papermill": {
     "duration": 0.024919,
     "end_time": "2025-08-19T18:53:46.363596",
     "exception": false,
     "start_time": "2025-08-19T18:53:46.338677",
     "status": "completed"
    },
    "tags": []
   },
   "outputs": [
    {
     "name": "stdout",
     "output_type": "stream",
     "text": [
      "Current working directory: /dss/dsshome1/0C/ra93lal2/cma/CMA_Fairness_v2\n"
     ]
    }
   ],
   "source": [
    "import os\n",
    "print(\"Current working directory:\", os.getcwd())"
   ]
  },
  {
   "cell_type": "code",
   "execution_count": 3,
   "id": "4132aaed",
   "metadata": {
    "execution": {
     "iopub.execute_input": "2025-08-19T18:53:46.387265Z",
     "iopub.status.busy": "2025-08-19T18:53:46.386435Z",
     "iopub.status.idle": "2025-08-19T18:53:46.397227Z",
     "shell.execute_reply": "2025-08-19T18:53:46.391568Z"
    },
    "papermill": {
     "duration": 0.023212,
     "end_time": "2025-08-19T18:53:46.398520",
     "exception": false,
     "start_time": "2025-08-19T18:53:46.375308",
     "status": "completed"
    },
    "tags": [
     "parameters"
    ]
   },
   "outputs": [],
   "source": [
    "run_no = 0\n",
    "universe_id = \"test\"\n",
    "universe = {\n",
    "    \"training_size\": \"5k\", # \"25k\", \"5k\", \"1k\"\n",
    "    \"training_year\": \"2012_14\", # \"2014\", \"2012_14\", \"2010_14\"\n",
    "    \"scale\": \"scale\", # \"scale\", \"do-not-scale\",\n",
    "    \"model\": \"elasticnet\", # \"logreg\", \"penalized_logreg\", \"rf\", \"gbm\", \"elasticnet\"\n",
    "    \"cutoff\": [\"quantile_0.15\", \"quantile_0.30\"],\n",
    "    \"exclude_features\": \"age\", # \"none\", \"nationality\", \"sex\", \"nationality-sex\", \"age\"\n",
    "    \"exclude_subgroups\": \"drop-non-german\", # \"keep-all\", \"drop-non-german\"\n",
    "    \"eval_fairness_grouping\": [\"majority-minority\", \"nationality-all\"]\n",
    "}\n",
    "\n",
    "output_dir=\"./output\"\n",
    "seed=0"
   ]
  },
  {
   "cell_type": "code",
   "execution_count": 4,
   "id": "9c072ad8",
   "metadata": {
    "execution": {
     "iopub.execute_input": "2025-08-19T18:53:46.542269Z",
     "iopub.status.busy": "2025-08-19T18:53:46.540970Z",
     "iopub.status.idle": "2025-08-19T18:53:46.551523Z",
     "shell.execute_reply": "2025-08-19T18:53:46.549796Z"
    },
    "papermill": {
     "duration": 0.023136,
     "end_time": "2025-08-19T18:53:46.553066",
     "exception": false,
     "start_time": "2025-08-19T18:53:46.529930",
     "status": "completed"
    },
    "tags": [
     "injected-parameters"
    ]
   },
   "outputs": [],
   "source": [
    "# Parameters\n",
    "universe_id = \"1161f3d75ce60397e97a73c623a69305\"\n",
    "run_no = \"3\"\n",
    "universe = \"{\\\"cutoff\\\": [\\\"quantile_0.1\\\", \\\"quantile_0.25\\\"], \\\"eval_fairness_grouping\\\": [\\\"majority-minority\\\", \\\"nationality-all\\\"], \\\"exclude_features\\\": \\\"nationality-sex\\\", \\\"exclude_subgroups\\\": \\\"drop-non-german\\\", \\\"model\\\": \\\"penalized_logreg\\\", \\\"scale\\\": \\\"do-not-scale\\\", \\\"training_size\\\": \\\"1k\\\", \\\"training_year\\\": \\\"2014\\\"}\"\n",
    "output_dir = \"output\"\n",
    "seed = \"2023\"\n"
   ]
  },
  {
   "cell_type": "code",
   "execution_count": 5,
   "id": "a5d7941f",
   "metadata": {
    "execution": {
     "iopub.execute_input": "2025-08-19T18:53:46.584548Z",
     "iopub.status.busy": "2025-08-19T18:53:46.582495Z",
     "iopub.status.idle": "2025-08-19T18:53:46.591719Z",
     "shell.execute_reply": "2025-08-19T18:53:46.590216Z"
    },
    "papermill": {
     "duration": 0.028403,
     "end_time": "2025-08-19T18:53:46.593260",
     "exception": false,
     "start_time": "2025-08-19T18:53:46.564857",
     "status": "completed"
    },
    "tags": []
   },
   "outputs": [],
   "source": [
    "import json\n",
    "if isinstance(universe, str):\n",
    "    universe = json.loads(universe)"
   ]
  },
  {
   "cell_type": "code",
   "execution_count": 6,
   "id": "7076ccb1",
   "metadata": {
    "execution": {
     "iopub.execute_input": "2025-08-19T18:53:46.614917Z",
     "iopub.status.busy": "2025-08-19T18:53:46.613736Z",
     "iopub.status.idle": "2025-08-19T18:53:46.660860Z",
     "shell.execute_reply": "2025-08-19T18:53:46.660162Z"
    },
    "papermill": {
     "duration": 0.060406,
     "end_time": "2025-08-19T18:53:46.663312",
     "exception": false,
     "start_time": "2025-08-19T18:53:46.602906",
     "status": "completed"
    },
    "tags": []
   },
   "outputs": [],
   "source": [
    "# Auto-reload the custom package\n",
    "%load_ext autoreload\n",
    "%autoreload 1\n",
    "%aimport fairness_multiverse"
   ]
  },
  {
   "cell_type": "code",
   "execution_count": 7,
   "id": "94c8eb93",
   "metadata": {
    "execution": {
     "iopub.execute_input": "2025-08-19T18:53:46.704639Z",
     "iopub.status.busy": "2025-08-19T18:53:46.704237Z",
     "iopub.status.idle": "2025-08-19T18:53:48.505288Z",
     "shell.execute_reply": "2025-08-19T18:53:48.504461Z"
    },
    "papermill": {
     "duration": 1.813666,
     "end_time": "2025-08-19T18:53:48.507036",
     "exception": false,
     "start_time": "2025-08-19T18:53:46.693370",
     "status": "completed"
    },
    "tags": []
   },
   "outputs": [],
   "source": [
    "from fairness_multiverse.universe import UniverseAnalysis\n",
    "\n",
    "universe_analysis = UniverseAnalysis(\n",
    "    run_no = run_no,\n",
    "    universe_id = universe_id,\n",
    "    universe = universe,\n",
    "    output_dir=output_dir,\n",
    ")"
   ]
  },
  {
   "cell_type": "code",
   "execution_count": 8,
   "id": "2a6381cf",
   "metadata": {
    "execution": {
     "iopub.execute_input": "2025-08-19T18:53:48.535851Z",
     "iopub.status.busy": "2025-08-19T18:53:48.535372Z",
     "iopub.status.idle": "2025-08-19T18:53:48.541508Z",
     "shell.execute_reply": "2025-08-19T18:53:48.540579Z"
    },
    "papermill": {
     "duration": 0.021902,
     "end_time": "2025-08-19T18:53:48.543087",
     "exception": false,
     "start_time": "2025-08-19T18:53:48.521185",
     "status": "completed"
    },
    "tags": []
   },
   "outputs": [
    {
     "name": "stdout",
     "output_type": "stream",
     "text": [
      "Using Seed: 2023\n"
     ]
    }
   ],
   "source": [
    "import numpy as np\n",
    "parsed_seed = int(seed)\n",
    "np.random.seed(parsed_seed)\n",
    "print(f\"Using Seed: {parsed_seed}\")"
   ]
  },
  {
   "cell_type": "markdown",
   "id": "b6e958b4",
   "metadata": {
    "papermill": {
     "duration": 0.009523,
     "end_time": "2025-08-19T18:53:48.561841",
     "exception": false,
     "start_time": "2025-08-19T18:53:48.552318",
     "status": "completed"
    },
    "tags": []
   },
   "source": [
    "# Loading Data"
   ]
  },
  {
   "cell_type": "code",
   "execution_count": 9,
   "id": "98701482",
   "metadata": {
    "execution": {
     "iopub.execute_input": "2025-08-19T18:53:48.582467Z",
     "iopub.status.busy": "2025-08-19T18:53:48.581951Z",
     "iopub.status.idle": "2025-08-19T18:53:59.681931Z",
     "shell.execute_reply": "2025-08-19T18:53:59.680662Z"
    },
    "papermill": {
     "duration": 11.112582,
     "end_time": "2025-08-19T18:53:59.683759",
     "exception": false,
     "start_time": "2025-08-19T18:53:48.571177",
     "status": "completed"
    },
    "tags": []
   },
   "outputs": [
    {
     "name": "stdout",
     "output_type": "stream",
     "text": [
      "Loading SIAB data from cache: data/siab_cached.csv.gz\n"
     ]
    },
    {
     "name": "stdout",
     "output_type": "stream",
     "text": [
      "(643690, 164)\n"
     ]
    }
   ],
   "source": [
    "from pathlib import Path\n",
    "import pandas as pd\n",
    "\n",
    "# File paths\n",
    "raw_file = Path(\"data/raw/siab.csv\")\n",
    "cache_file = Path(\"data/siab_cached.csv.gz\")\n",
    "\n",
    "# Ensure cache directory exists\n",
    "cache_file.parent.mkdir(parents=True, exist_ok=True)\n",
    "\n",
    "# Load with simple caching\n",
    "if cache_file.exists():\n",
    "    print(f\"Loading SIAB data from cache: {cache_file}\")\n",
    "    siab = pd.read_csv(cache_file, compression='gzip')\n",
    "else:\n",
    "    print(f\"Cache not found. Reading raw SIAB data: {raw_file}\")\n",
    "    siab = pd.read_csv(raw_file)\n",
    "    siab.to_csv(cache_file, index=False, compression='gzip')\n",
    "    print(f\"Cached SIAB data to: {cache_file}\")\n",
    "\n",
    "print(siab.shape)"
   ]
  },
  {
   "cell_type": "code",
   "execution_count": 10,
   "id": "058d2abb",
   "metadata": {
    "execution": {
     "iopub.execute_input": "2025-08-19T18:53:59.730192Z",
     "iopub.status.busy": "2025-08-19T18:53:59.728773Z",
     "iopub.status.idle": "2025-08-19T18:53:59.918671Z",
     "shell.execute_reply": "2025-08-19T18:53:59.917757Z"
    },
    "papermill": {
     "duration": 0.219135,
     "end_time": "2025-08-19T18:53:59.919976",
     "exception": false,
     "start_time": "2025-08-19T18:53:59.700841",
     "status": "completed"
    },
    "tags": []
   },
   "outputs": [
    {
     "data": {
      "text/html": [
       "<div>\n",
       "<style scoped>\n",
       "    .dataframe tbody tr th:only-of-type {\n",
       "        vertical-align: middle;\n",
       "    }\n",
       "\n",
       "    .dataframe tbody tr th {\n",
       "        vertical-align: top;\n",
       "    }\n",
       "\n",
       "    .dataframe thead th {\n",
       "        text-align: right;\n",
       "    }\n",
       "</style>\n",
       "<table border=\"1\" class=\"dataframe\">\n",
       "  <thead>\n",
       "    <tr style=\"text-align: right;\">\n",
       "      <th></th>\n",
       "      <th>persnr</th>\n",
       "      <th>year</th>\n",
       "      <th>nrEntry</th>\n",
       "      <th>ltue</th>\n",
       "      <th>employed_before</th>\n",
       "      <th>receipt_leh_before</th>\n",
       "      <th>receipt_lhg_before</th>\n",
       "      <th>se_before</th>\n",
       "      <th>ASU_notue_seeking_before</th>\n",
       "      <th>ASU_other_before</th>\n",
       "      <th>...</th>\n",
       "      <th>minijob_tot_dur_byage</th>\n",
       "      <th>ft_tot_dur_byage</th>\n",
       "      <th>befrist_tot_dur_byage</th>\n",
       "      <th>leih_tot_dur_byage</th>\n",
       "      <th>LHG_tot_dur_byage</th>\n",
       "      <th>LEH_tot_dur_byage</th>\n",
       "      <th>almp_tot_dur_byage</th>\n",
       "      <th>almp_aw_tot_dur_byage</th>\n",
       "      <th>se_tot_dur_byage</th>\n",
       "      <th>seeking1_tot_dur_byage</th>\n",
       "    </tr>\n",
       "  </thead>\n",
       "  <tbody>\n",
       "    <tr>\n",
       "      <th>0</th>\n",
       "      <td>7</td>\n",
       "      <td>2015</td>\n",
       "      <td>1</td>\n",
       "      <td>0</td>\n",
       "      <td>1</td>\n",
       "      <td>0</td>\n",
       "      <td>0</td>\n",
       "      <td>0</td>\n",
       "      <td>1</td>\n",
       "      <td>0</td>\n",
       "      <td>...</td>\n",
       "      <td>0.000000</td>\n",
       "      <td>0.000000</td>\n",
       "      <td>15.043478</td>\n",
       "      <td>0.000000</td>\n",
       "      <td>0.000000</td>\n",
       "      <td>0.000000</td>\n",
       "      <td>0.000000</td>\n",
       "      <td>0.000000</td>\n",
       "      <td>0.000000</td>\n",
       "      <td>0.000000</td>\n",
       "    </tr>\n",
       "    <tr>\n",
       "      <th>1</th>\n",
       "      <td>18</td>\n",
       "      <td>2010</td>\n",
       "      <td>1</td>\n",
       "      <td>1</td>\n",
       "      <td>0</td>\n",
       "      <td>0</td>\n",
       "      <td>0</td>\n",
       "      <td>0</td>\n",
       "      <td>0</td>\n",
       "      <td>0</td>\n",
       "      <td>...</td>\n",
       "      <td>0.000000</td>\n",
       "      <td>0.000000</td>\n",
       "      <td>0.000000</td>\n",
       "      <td>0.000000</td>\n",
       "      <td>0.000000</td>\n",
       "      <td>0.000000</td>\n",
       "      <td>0.000000</td>\n",
       "      <td>0.000000</td>\n",
       "      <td>0.000000</td>\n",
       "      <td>0.000000</td>\n",
       "    </tr>\n",
       "    <tr>\n",
       "      <th>2</th>\n",
       "      <td>18</td>\n",
       "      <td>2011</td>\n",
       "      <td>2</td>\n",
       "      <td>0</td>\n",
       "      <td>1</td>\n",
       "      <td>0</td>\n",
       "      <td>1</td>\n",
       "      <td>0</td>\n",
       "      <td>1</td>\n",
       "      <td>0</td>\n",
       "      <td>...</td>\n",
       "      <td>2.714286</td>\n",
       "      <td>2.714286</td>\n",
       "      <td>0.000000</td>\n",
       "      <td>0.000000</td>\n",
       "      <td>10.775510</td>\n",
       "      <td>0.000000</td>\n",
       "      <td>8.367347</td>\n",
       "      <td>0.000000</td>\n",
       "      <td>0.000000</td>\n",
       "      <td>9.836735</td>\n",
       "    </tr>\n",
       "    <tr>\n",
       "      <th>3</th>\n",
       "      <td>18</td>\n",
       "      <td>2012</td>\n",
       "      <td>3</td>\n",
       "      <td>0</td>\n",
       "      <td>1</td>\n",
       "      <td>0</td>\n",
       "      <td>1</td>\n",
       "      <td>0</td>\n",
       "      <td>1</td>\n",
       "      <td>0</td>\n",
       "      <td>...</td>\n",
       "      <td>4.200000</td>\n",
       "      <td>4.200000</td>\n",
       "      <td>0.000000</td>\n",
       "      <td>0.000000</td>\n",
       "      <td>12.100000</td>\n",
       "      <td>0.000000</td>\n",
       "      <td>9.400000</td>\n",
       "      <td>0.000000</td>\n",
       "      <td>0.000000</td>\n",
       "      <td>9.960000</td>\n",
       "    </tr>\n",
       "    <tr>\n",
       "      <th>4</th>\n",
       "      <td>18</td>\n",
       "      <td>2012</td>\n",
       "      <td>4</td>\n",
       "      <td>0</td>\n",
       "      <td>1</td>\n",
       "      <td>0</td>\n",
       "      <td>1</td>\n",
       "      <td>0</td>\n",
       "      <td>1</td>\n",
       "      <td>0</td>\n",
       "      <td>...</td>\n",
       "      <td>5.460000</td>\n",
       "      <td>5.460000</td>\n",
       "      <td>0.000000</td>\n",
       "      <td>0.000000</td>\n",
       "      <td>13.360000</td>\n",
       "      <td>0.000000</td>\n",
       "      <td>10.320000</td>\n",
       "      <td>0.000000</td>\n",
       "      <td>0.000000</td>\n",
       "      <td>10.280000</td>\n",
       "    </tr>\n",
       "    <tr>\n",
       "      <th>...</th>\n",
       "      <td>...</td>\n",
       "      <td>...</td>\n",
       "      <td>...</td>\n",
       "      <td>...</td>\n",
       "      <td>...</td>\n",
       "      <td>...</td>\n",
       "      <td>...</td>\n",
       "      <td>...</td>\n",
       "      <td>...</td>\n",
       "      <td>...</td>\n",
       "      <td>...</td>\n",
       "      <td>...</td>\n",
       "      <td>...</td>\n",
       "      <td>...</td>\n",
       "      <td>...</td>\n",
       "      <td>...</td>\n",
       "      <td>...</td>\n",
       "      <td>...</td>\n",
       "      <td>...</td>\n",
       "      <td>...</td>\n",
       "      <td>...</td>\n",
       "    </tr>\n",
       "    <tr>\n",
       "      <th>643685</th>\n",
       "      <td>1827860</td>\n",
       "      <td>2013</td>\n",
       "      <td>1</td>\n",
       "      <td>0</td>\n",
       "      <td>0</td>\n",
       "      <td>0</td>\n",
       "      <td>1</td>\n",
       "      <td>0</td>\n",
       "      <td>0</td>\n",
       "      <td>1</td>\n",
       "      <td>...</td>\n",
       "      <td>0.000000</td>\n",
       "      <td>0.000000</td>\n",
       "      <td>0.000000</td>\n",
       "      <td>0.000000</td>\n",
       "      <td>0.612903</td>\n",
       "      <td>0.000000</td>\n",
       "      <td>0.000000</td>\n",
       "      <td>0.000000</td>\n",
       "      <td>0.000000</td>\n",
       "      <td>0.000000</td>\n",
       "    </tr>\n",
       "    <tr>\n",
       "      <th>643686</th>\n",
       "      <td>1827860</td>\n",
       "      <td>2015</td>\n",
       "      <td>2</td>\n",
       "      <td>1</td>\n",
       "      <td>0</td>\n",
       "      <td>0</td>\n",
       "      <td>1</td>\n",
       "      <td>0</td>\n",
       "      <td>1</td>\n",
       "      <td>0</td>\n",
       "      <td>...</td>\n",
       "      <td>0.000000</td>\n",
       "      <td>0.000000</td>\n",
       "      <td>0.212121</td>\n",
       "      <td>0.212121</td>\n",
       "      <td>17.363636</td>\n",
       "      <td>0.000000</td>\n",
       "      <td>8.909091</td>\n",
       "      <td>0.000000</td>\n",
       "      <td>0.000000</td>\n",
       "      <td>7.121212</td>\n",
       "    </tr>\n",
       "    <tr>\n",
       "      <th>643687</th>\n",
       "      <td>1827860</td>\n",
       "      <td>2016</td>\n",
       "      <td>3</td>\n",
       "      <td>1</td>\n",
       "      <td>0</td>\n",
       "      <td>0</td>\n",
       "      <td>1</td>\n",
       "      <td>1</td>\n",
       "      <td>0</td>\n",
       "      <td>1</td>\n",
       "      <td>...</td>\n",
       "      <td>0.000000</td>\n",
       "      <td>0.000000</td>\n",
       "      <td>0.294118</td>\n",
       "      <td>0.205882</td>\n",
       "      <td>34.705882</td>\n",
       "      <td>0.000000</td>\n",
       "      <td>10.352941</td>\n",
       "      <td>1.705882</td>\n",
       "      <td>1.705882</td>\n",
       "      <td>23.911765</td>\n",
       "    </tr>\n",
       "    <tr>\n",
       "      <th>643688</th>\n",
       "      <td>1827869</td>\n",
       "      <td>2013</td>\n",
       "      <td>1</td>\n",
       "      <td>1</td>\n",
       "      <td>1</td>\n",
       "      <td>0</td>\n",
       "      <td>0</td>\n",
       "      <td>0</td>\n",
       "      <td>1</td>\n",
       "      <td>0</td>\n",
       "      <td>...</td>\n",
       "      <td>0.000000</td>\n",
       "      <td>0.000000</td>\n",
       "      <td>0.000000</td>\n",
       "      <td>0.000000</td>\n",
       "      <td>0.000000</td>\n",
       "      <td>0.525424</td>\n",
       "      <td>0.000000</td>\n",
       "      <td>0.000000</td>\n",
       "      <td>0.000000</td>\n",
       "      <td>0.000000</td>\n",
       "    </tr>\n",
       "    <tr>\n",
       "      <th>643689</th>\n",
       "      <td>1827869</td>\n",
       "      <td>2014</td>\n",
       "      <td>2</td>\n",
       "      <td>0</td>\n",
       "      <td>0</td>\n",
       "      <td>1</td>\n",
       "      <td>0</td>\n",
       "      <td>0</td>\n",
       "      <td>1</td>\n",
       "      <td>0</td>\n",
       "      <td>...</td>\n",
       "      <td>0.000000</td>\n",
       "      <td>0.666667</td>\n",
       "      <td>0.666667</td>\n",
       "      <td>0.000000</td>\n",
       "      <td>0.000000</td>\n",
       "      <td>8.950000</td>\n",
       "      <td>1.033333</td>\n",
       "      <td>0.083333</td>\n",
       "      <td>0.083333</td>\n",
       "      <td>8.133333</td>\n",
       "    </tr>\n",
       "  </tbody>\n",
       "</table>\n",
       "<p>643690 rows × 164 columns</p>\n",
       "</div>"
      ],
      "text/plain": [
       "         persnr  year  nrEntry  ltue  employed_before  receipt_leh_before  \\\n",
       "0             7  2015        1     0                1                   0   \n",
       "1            18  2010        1     1                0                   0   \n",
       "2            18  2011        2     0                1                   0   \n",
       "3            18  2012        3     0                1                   0   \n",
       "4            18  2012        4     0                1                   0   \n",
       "...         ...   ...      ...   ...              ...                 ...   \n",
       "643685  1827860  2013        1     0                0                   0   \n",
       "643686  1827860  2015        2     1                0                   0   \n",
       "643687  1827860  2016        3     1                0                   0   \n",
       "643688  1827869  2013        1     1                1                   0   \n",
       "643689  1827869  2014        2     0                0                   1   \n",
       "\n",
       "        receipt_lhg_before  se_before  ASU_notue_seeking_before  \\\n",
       "0                        0          0                         1   \n",
       "1                        0          0                         0   \n",
       "2                        1          0                         1   \n",
       "3                        1          0                         1   \n",
       "4                        1          0                         1   \n",
       "...                    ...        ...                       ...   \n",
       "643685                   1          0                         0   \n",
       "643686                   1          0                         1   \n",
       "643687                   1          1                         0   \n",
       "643688                   0          0                         1   \n",
       "643689                   0          0                         1   \n",
       "\n",
       "        ASU_other_before  ...  minijob_tot_dur_byage  ft_tot_dur_byage  \\\n",
       "0                      0  ...               0.000000          0.000000   \n",
       "1                      0  ...               0.000000          0.000000   \n",
       "2                      0  ...               2.714286          2.714286   \n",
       "3                      0  ...               4.200000          4.200000   \n",
       "4                      0  ...               5.460000          5.460000   \n",
       "...                  ...  ...                    ...               ...   \n",
       "643685                 1  ...               0.000000          0.000000   \n",
       "643686                 0  ...               0.000000          0.000000   \n",
       "643687                 1  ...               0.000000          0.000000   \n",
       "643688                 0  ...               0.000000          0.000000   \n",
       "643689                 0  ...               0.000000          0.666667   \n",
       "\n",
       "        befrist_tot_dur_byage  leih_tot_dur_byage  LHG_tot_dur_byage  \\\n",
       "0                   15.043478            0.000000           0.000000   \n",
       "1                    0.000000            0.000000           0.000000   \n",
       "2                    0.000000            0.000000          10.775510   \n",
       "3                    0.000000            0.000000          12.100000   \n",
       "4                    0.000000            0.000000          13.360000   \n",
       "...                       ...                 ...                ...   \n",
       "643685               0.000000            0.000000           0.612903   \n",
       "643686               0.212121            0.212121          17.363636   \n",
       "643687               0.294118            0.205882          34.705882   \n",
       "643688               0.000000            0.000000           0.000000   \n",
       "643689               0.666667            0.000000           0.000000   \n",
       "\n",
       "        LEH_tot_dur_byage  almp_tot_dur_byage  almp_aw_tot_dur_byage  \\\n",
       "0                0.000000            0.000000               0.000000   \n",
       "1                0.000000            0.000000               0.000000   \n",
       "2                0.000000            8.367347               0.000000   \n",
       "3                0.000000            9.400000               0.000000   \n",
       "4                0.000000           10.320000               0.000000   \n",
       "...                   ...                 ...                    ...   \n",
       "643685           0.000000            0.000000               0.000000   \n",
       "643686           0.000000            8.909091               0.000000   \n",
       "643687           0.000000           10.352941               1.705882   \n",
       "643688           0.525424            0.000000               0.000000   \n",
       "643689           8.950000            1.033333               0.083333   \n",
       "\n",
       "        se_tot_dur_byage  seeking1_tot_dur_byage  \n",
       "0               0.000000                0.000000  \n",
       "1               0.000000                0.000000  \n",
       "2               0.000000                9.836735  \n",
       "3               0.000000                9.960000  \n",
       "4               0.000000               10.280000  \n",
       "...                  ...                     ...  \n",
       "643685          0.000000                0.000000  \n",
       "643686          0.000000                7.121212  \n",
       "643687          1.705882               23.911765  \n",
       "643688          0.000000                0.000000  \n",
       "643689          0.083333                8.133333  \n",
       "\n",
       "[643690 rows x 164 columns]"
      ]
     },
     "execution_count": 10,
     "metadata": {},
     "output_type": "execute_result"
    }
   ],
   "source": [
    "siab"
   ]
  },
  {
   "cell_type": "markdown",
   "id": "1f87e805",
   "metadata": {
    "papermill": {
     "duration": 0.009639,
     "end_time": "2025-08-19T18:53:59.940018",
     "exception": false,
     "start_time": "2025-08-19T18:53:59.930379",
     "status": "completed"
    },
    "tags": []
   },
   "source": [
    "# Splitting Data and Setting Training Data Size"
   ]
  },
  {
   "cell_type": "code",
   "execution_count": 11,
   "id": "910ae358",
   "metadata": {
    "execution": {
     "iopub.execute_input": "2025-08-19T18:53:59.978381Z",
     "iopub.status.busy": "2025-08-19T18:53:59.976919Z",
     "iopub.status.idle": "2025-08-19T18:54:00.199766Z",
     "shell.execute_reply": "2025-08-19T18:54:00.198953Z"
    },
    "papermill": {
     "duration": 0.25298,
     "end_time": "2025-08-19T18:54:00.202588",
     "exception": false,
     "start_time": "2025-08-19T18:53:59.949608",
     "status": "completed"
    },
    "tags": []
   },
   "outputs": [],
   "source": [
    "from fairness_multiverse.universe import sample_by_year_size\n",
    "\n",
    "siab_train = sample_by_year_size(siab,\n",
    "                               training_year=universe[\"training_year\"],\n",
    "                               training_size=universe[\"training_size\"])"
   ]
  },
  {
   "cell_type": "code",
   "execution_count": 12,
   "id": "919c8ff5",
   "metadata": {
    "execution": {
     "iopub.execute_input": "2025-08-19T18:54:00.242184Z",
     "iopub.status.busy": "2025-08-19T18:54:00.241556Z",
     "iopub.status.idle": "2025-08-19T18:54:00.249481Z",
     "shell.execute_reply": "2025-08-19T18:54:00.248632Z"
    },
    "papermill": {
     "duration": 0.02366,
     "end_time": "2025-08-19T18:54:00.250634",
     "exception": false,
     "start_time": "2025-08-19T18:54:00.226974",
     "status": "completed"
    },
    "tags": []
   },
   "outputs": [
    {
     "data": {
      "text/plain": [
       "(1000, 164)"
      ]
     },
     "execution_count": 12,
     "metadata": {},
     "output_type": "execute_result"
    }
   ],
   "source": [
    "siab_train.shape"
   ]
  },
  {
   "cell_type": "code",
   "execution_count": 13,
   "id": "feb13bf4",
   "metadata": {
    "execution": {
     "iopub.execute_input": "2025-08-19T18:54:00.309465Z",
     "iopub.status.busy": "2025-08-19T18:54:00.307439Z",
     "iopub.status.idle": "2025-08-19T18:54:00.323241Z",
     "shell.execute_reply": "2025-08-19T18:54:00.321876Z"
    },
    "papermill": {
     "duration": 0.03161,
     "end_time": "2025-08-19T18:54:00.324795",
     "exception": false,
     "start_time": "2025-08-19T18:54:00.293185",
     "status": "completed"
    },
    "tags": []
   },
   "outputs": [
    {
     "data": {
      "text/plain": [
       "year\n",
       "2014    1000\n",
       "dtype: int64"
      ]
     },
     "metadata": {},
     "output_type": "display_data"
    }
   ],
   "source": [
    "display(siab_train.groupby(\"year\").size())"
   ]
  },
  {
   "cell_type": "code",
   "execution_count": 14,
   "id": "0997782f",
   "metadata": {
    "execution": {
     "iopub.execute_input": "2025-08-19T18:54:00.357977Z",
     "iopub.status.busy": "2025-08-19T18:54:00.356238Z",
     "iopub.status.idle": "2025-08-19T18:54:00.599408Z",
     "shell.execute_reply": "2025-08-19T18:54:00.598324Z"
    },
    "papermill": {
     "duration": 0.257266,
     "end_time": "2025-08-19T18:54:00.601127",
     "exception": false,
     "start_time": "2025-08-19T18:54:00.343861",
     "status": "completed"
    },
    "tags": []
   },
   "outputs": [],
   "source": [
    "#siab_train = siab_s[siab_s.year < 2015]\n",
    "siab_calib = siab[siab.year == 2015]\n",
    "siab_test = siab[siab.year == 2016]"
   ]
  },
  {
   "cell_type": "code",
   "execution_count": 15,
   "id": "2c1e4012",
   "metadata": {
    "execution": {
     "iopub.execute_input": "2025-08-19T18:54:00.623781Z",
     "iopub.status.busy": "2025-08-19T18:54:00.623450Z",
     "iopub.status.idle": "2025-08-19T18:54:00.629121Z",
     "shell.execute_reply": "2025-08-19T18:54:00.627983Z"
    },
    "papermill": {
     "duration": 0.019306,
     "end_time": "2025-08-19T18:54:00.631241",
     "exception": false,
     "start_time": "2025-08-19T18:54:00.611935",
     "status": "completed"
    },
    "tags": []
   },
   "outputs": [],
   "source": [
    "#siab_calib.shape"
   ]
  },
  {
   "cell_type": "code",
   "execution_count": 16,
   "id": "f66b54ca",
   "metadata": {
    "execution": {
     "iopub.execute_input": "2025-08-19T18:54:00.678096Z",
     "iopub.status.busy": "2025-08-19T18:54:00.677326Z",
     "iopub.status.idle": "2025-08-19T18:54:00.689293Z",
     "shell.execute_reply": "2025-08-19T18:54:00.686411Z"
    },
    "papermill": {
     "duration": 0.039053,
     "end_time": "2025-08-19T18:54:00.691818",
     "exception": false,
     "start_time": "2025-08-19T18:54:00.652765",
     "status": "completed"
    },
    "tags": []
   },
   "outputs": [],
   "source": [
    "#siab_test.shape"
   ]
  },
  {
   "cell_type": "code",
   "execution_count": 17,
   "id": "27e4384d",
   "metadata": {
    "execution": {
     "iopub.execute_input": "2025-08-19T18:54:00.718566Z",
     "iopub.status.busy": "2025-08-19T18:54:00.717833Z",
     "iopub.status.idle": "2025-08-19T18:54:00.735625Z",
     "shell.execute_reply": "2025-08-19T18:54:00.734495Z"
    },
    "papermill": {
     "duration": 0.031944,
     "end_time": "2025-08-19T18:54:00.737322",
     "exception": false,
     "start_time": "2025-08-19T18:54:00.705378",
     "status": "completed"
    },
    "tags": []
   },
   "outputs": [],
   "source": [
    "X_train = siab_train.iloc[:,4:164]\n",
    "y_train = siab_train.iloc[:, [3]]"
   ]
  },
  {
   "cell_type": "code",
   "execution_count": 18,
   "id": "08ee8389",
   "metadata": {
    "execution": {
     "iopub.execute_input": "2025-08-19T18:54:00.782796Z",
     "iopub.status.busy": "2025-08-19T18:54:00.782319Z",
     "iopub.status.idle": "2025-08-19T18:54:00.826879Z",
     "shell.execute_reply": "2025-08-19T18:54:00.826104Z"
    },
    "papermill": {
     "duration": 0.075963,
     "end_time": "2025-08-19T18:54:00.829689",
     "exception": false,
     "start_time": "2025-08-19T18:54:00.753726",
     "status": "completed"
    },
    "tags": []
   },
   "outputs": [],
   "source": [
    "X_calib = siab_calib.iloc[:,4:164]\n",
    "y_calib = siab_calib.iloc[:, [3]]"
   ]
  },
  {
   "cell_type": "code",
   "execution_count": 19,
   "id": "b7ff42e0",
   "metadata": {
    "execution": {
     "iopub.execute_input": "2025-08-19T18:54:00.874603Z",
     "iopub.status.busy": "2025-08-19T18:54:00.873489Z",
     "iopub.status.idle": "2025-08-19T18:54:00.931363Z",
     "shell.execute_reply": "2025-08-19T18:54:00.930660Z"
    },
    "papermill": {
     "duration": 0.077553,
     "end_time": "2025-08-19T18:54:00.934152",
     "exception": false,
     "start_time": "2025-08-19T18:54:00.856599",
     "status": "completed"
    },
    "tags": []
   },
   "outputs": [],
   "source": [
    "X_test = siab_test.iloc[:,4:164]\n",
    "y_true = siab_test.iloc[:, [3]]"
   ]
  },
  {
   "cell_type": "code",
   "execution_count": 20,
   "id": "0275101e",
   "metadata": {
    "execution": {
     "iopub.execute_input": "2025-08-19T18:54:00.979516Z",
     "iopub.status.busy": "2025-08-19T18:54:00.977736Z",
     "iopub.status.idle": "2025-08-19T18:54:01.177434Z",
     "shell.execute_reply": "2025-08-19T18:54:01.176520Z"
    },
    "papermill": {
     "duration": 0.221445,
     "end_time": "2025-08-19T18:54:01.179159",
     "exception": false,
     "start_time": "2025-08-19T18:54:00.957714",
     "status": "completed"
    },
    "tags": []
   },
   "outputs": [],
   "source": [
    "# Auxiliary data needed downstream in the pipeline\n",
    "\n",
    "org_train = X_train.copy()\n",
    "org_test = X_test.copy()\n",
    "org_calib = X_calib.copy()"
   ]
  },
  {
   "cell_type": "markdown",
   "id": "b461e618",
   "metadata": {
    "papermill": {
     "duration": 0.010766,
     "end_time": "2025-08-19T18:54:01.200862",
     "exception": false,
     "start_time": "2025-08-19T18:54:01.190096",
     "status": "completed"
    },
    "tags": []
   },
   "source": [
    "# Preprocessing Data"
   ]
  },
  {
   "cell_type": "code",
   "execution_count": 21,
   "id": "78e74c4b",
   "metadata": {
    "execution": {
     "iopub.execute_input": "2025-08-19T18:54:01.223616Z",
     "iopub.status.busy": "2025-08-19T18:54:01.223189Z",
     "iopub.status.idle": "2025-08-19T18:54:01.228448Z",
     "shell.execute_reply": "2025-08-19T18:54:01.227766Z"
    },
    "papermill": {
     "duration": 0.018343,
     "end_time": "2025-08-19T18:54:01.229818",
     "exception": false,
     "start_time": "2025-08-19T18:54:01.211475",
     "status": "completed"
    },
    "tags": []
   },
   "outputs": [],
   "source": [
    "# EXCLUDE PROTECTED FEATURES\n",
    "# --------------------------\n",
    "\n",
    "excluded_features = universe[\"exclude_features\"].split(\"-\")\n",
    "excluded_features_dictionary = {\n",
    "    \"nationality\": [\"maxdeutsch1\", \"maxdeutsch.Missing.\"],\n",
    "    \"sex\": [\"frau1\"],\n",
    "    \"age\": [\"age\"],\n",
    "}"
   ]
  },
  {
   "cell_type": "code",
   "execution_count": 22,
   "id": "f8e63555",
   "metadata": {
    "execution": {
     "iopub.execute_input": "2025-08-19T18:54:01.252959Z",
     "iopub.status.busy": "2025-08-19T18:54:01.252547Z",
     "iopub.status.idle": "2025-08-19T18:54:01.256903Z",
     "shell.execute_reply": "2025-08-19T18:54:01.256183Z"
    },
    "papermill": {
     "duration": 0.017204,
     "end_time": "2025-08-19T18:54:01.258202",
     "exception": false,
     "start_time": "2025-08-19T18:54:01.240998",
     "status": "completed"
    },
    "tags": []
   },
   "outputs": [],
   "source": [
    "excluded_features_columns = [\n",
    "    excluded_features_dictionary[f] for f in excluded_features if len(f) > 0 and f != \"none\"\n",
    "]"
   ]
  },
  {
   "cell_type": "code",
   "execution_count": 23,
   "id": "da781f7c",
   "metadata": {
    "execution": {
     "iopub.execute_input": "2025-08-19T18:54:01.280122Z",
     "iopub.status.busy": "2025-08-19T18:54:01.279760Z",
     "iopub.status.idle": "2025-08-19T18:54:01.283812Z",
     "shell.execute_reply": "2025-08-19T18:54:01.283171Z"
    },
    "papermill": {
     "duration": 0.016651,
     "end_time": "2025-08-19T18:54:01.285248",
     "exception": false,
     "start_time": "2025-08-19T18:54:01.268597",
     "status": "completed"
    },
    "tags": []
   },
   "outputs": [],
   "source": [
    "from fairness_multiverse.universe import flatten_once\n",
    "\n",
    "excluded_features_columns = flatten_once(excluded_features_columns)"
   ]
  },
  {
   "cell_type": "code",
   "execution_count": 24,
   "id": "37fef0f0",
   "metadata": {
    "execution": {
     "iopub.execute_input": "2025-08-19T18:54:01.314829Z",
     "iopub.status.busy": "2025-08-19T18:54:01.314395Z",
     "iopub.status.idle": "2025-08-19T18:54:01.321582Z",
     "shell.execute_reply": "2025-08-19T18:54:01.320839Z"
    },
    "papermill": {
     "duration": 0.023773,
     "end_time": "2025-08-19T18:54:01.323101",
     "exception": false,
     "start_time": "2025-08-19T18:54:01.299328",
     "status": "completed"
    },
    "tags": []
   },
   "outputs": [
    {
     "name": "stdout",
     "output_type": "stream",
     "text": [
      "Dropping features: ['maxdeutsch1', 'maxdeutsch.Missing.', 'frau1']\n"
     ]
    }
   ],
   "source": [
    "if len(excluded_features_columns) > 0:\n",
    "    print(f\"Dropping features: {excluded_features_columns}\")\n",
    "    X_train.drop(excluded_features_columns, axis=1, inplace=True)"
   ]
  },
  {
   "cell_type": "code",
   "execution_count": 25,
   "id": "d029e3e9",
   "metadata": {
    "execution": {
     "iopub.execute_input": "2025-08-19T18:54:01.346861Z",
     "iopub.status.busy": "2025-08-19T18:54:01.346491Z",
     "iopub.status.idle": "2025-08-19T18:54:01.402033Z",
     "shell.execute_reply": "2025-08-19T18:54:01.401201Z"
    },
    "papermill": {
     "duration": 0.071058,
     "end_time": "2025-08-19T18:54:01.406160",
     "exception": false,
     "start_time": "2025-08-19T18:54:01.335102",
     "status": "completed"
    },
    "tags": []
   },
   "outputs": [
    {
     "name": "stdout",
     "output_type": "stream",
     "text": [
      "Dropping features: ['maxdeutsch1', 'maxdeutsch.Missing.', 'frau1']\n"
     ]
    }
   ],
   "source": [
    "if len(excluded_features_columns) > 0:\n",
    "    print(f\"Dropping features: {excluded_features_columns}\")\n",
    "    X_test.drop(excluded_features_columns, axis=1, inplace=True)"
   ]
  },
  {
   "cell_type": "code",
   "execution_count": 26,
   "id": "01d571f0",
   "metadata": {
    "execution": {
     "iopub.execute_input": "2025-08-19T18:54:01.443729Z",
     "iopub.status.busy": "2025-08-19T18:54:01.442211Z",
     "iopub.status.idle": "2025-08-19T18:54:01.496823Z",
     "shell.execute_reply": "2025-08-19T18:54:01.496170Z"
    },
    "papermill": {
     "duration": 0.072227,
     "end_time": "2025-08-19T18:54:01.501041",
     "exception": false,
     "start_time": "2025-08-19T18:54:01.428814",
     "status": "completed"
    },
    "tags": []
   },
   "outputs": [
    {
     "name": "stdout",
     "output_type": "stream",
     "text": [
      "Dropping features: ['maxdeutsch1', 'maxdeutsch.Missing.', 'frau1']\n"
     ]
    }
   ],
   "source": [
    "if len(excluded_features_columns) > 0:\n",
    "    print(f\"Dropping features: {excluded_features_columns}\")\n",
    "    X_calib.drop(excluded_features_columns, axis=1, inplace=True)"
   ]
  },
  {
   "cell_type": "code",
   "execution_count": 27,
   "id": "3037356e",
   "metadata": {
    "execution": {
     "iopub.execute_input": "2025-08-19T18:54:01.553441Z",
     "iopub.status.busy": "2025-08-19T18:54:01.551749Z",
     "iopub.status.idle": "2025-08-19T18:54:01.560873Z",
     "shell.execute_reply": "2025-08-19T18:54:01.559211Z"
    },
    "papermill": {
     "duration": 0.028196,
     "end_time": "2025-08-19T18:54:01.562759",
     "exception": false,
     "start_time": "2025-08-19T18:54:01.534563",
     "status": "completed"
    },
    "tags": []
   },
   "outputs": [],
   "source": [
    "# EXCLUDE CERTAIN SUBGROUPS\n",
    "# -------------------------\n",
    "\n",
    "mode = universe.get(\"exclude_subgroups\", \"keep-all\") # Defaults to \"keep-all\" if the key is missing."
   ]
  },
  {
   "cell_type": "code",
   "execution_count": 28,
   "id": "9d1e63fd",
   "metadata": {
    "execution": {
     "iopub.execute_input": "2025-08-19T18:54:01.590914Z",
     "iopub.status.busy": "2025-08-19T18:54:01.589437Z",
     "iopub.status.idle": "2025-08-19T18:54:01.601944Z",
     "shell.execute_reply": "2025-08-19T18:54:01.600771Z"
    },
    "papermill": {
     "duration": 0.026562,
     "end_time": "2025-08-19T18:54:01.603552",
     "exception": false,
     "start_time": "2025-08-19T18:54:01.576990",
     "status": "completed"
    },
    "tags": []
   },
   "outputs": [],
   "source": [
    "if mode == \"keep-all\":\n",
    "    keep_mask = pd.Series(True, index=org_train.index)\n",
    "\n",
    "elif mode == \"drop-non-german\":\n",
    "    keep_mask = (org_train[\"maxdeutsch1\"] == 1) & (org_train[\"maxdeutsch.Missing.\"] == 0)\n",
    "\n",
    "else:\n",
    "    raise ValueError(f\"Unsupported mode for exclude_subgroups: {mode}\")"
   ]
  },
  {
   "cell_type": "code",
   "execution_count": 29,
   "id": "d3b65474",
   "metadata": {
    "execution": {
     "iopub.execute_input": "2025-08-19T18:54:01.631092Z",
     "iopub.status.busy": "2025-08-19T18:54:01.630078Z",
     "iopub.status.idle": "2025-08-19T18:54:01.646458Z",
     "shell.execute_reply": "2025-08-19T18:54:01.645283Z"
    },
    "papermill": {
     "duration": 0.030758,
     "end_time": "2025-08-19T18:54:01.648684",
     "exception": false,
     "start_time": "2025-08-19T18:54:01.617926",
     "status": "completed"
    },
    "tags": []
   },
   "outputs": [
    {
     "name": "stdout",
     "output_type": "stream",
     "text": [
      "Dropping 147 rows (14.70%) where mode='drop-non-german'\n"
     ]
    }
   ],
   "source": [
    "n_drop = (~keep_mask).sum() # Calculates how many rows are set to be dropped\n",
    "if n_drop > 0:\n",
    "    pct = n_drop / len(keep_mask) * 100\n",
    "    print(f\"Dropping {n_drop} rows ({pct:.2f}%) where mode='{mode}'\")"
   ]
  },
  {
   "cell_type": "code",
   "execution_count": 30,
   "id": "f44389b3",
   "metadata": {
    "execution": {
     "iopub.execute_input": "2025-08-19T18:54:01.675458Z",
     "iopub.status.busy": "2025-08-19T18:54:01.674429Z",
     "iopub.status.idle": "2025-08-19T18:54:01.684625Z",
     "shell.execute_reply": "2025-08-19T18:54:01.683114Z"
    },
    "papermill": {
     "duration": 0.024567,
     "end_time": "2025-08-19T18:54:01.686694",
     "exception": false,
     "start_time": "2025-08-19T18:54:01.662127",
     "status": "completed"
    },
    "tags": []
   },
   "outputs": [],
   "source": [
    "X_train = X_train[keep_mask]"
   ]
  },
  {
   "cell_type": "code",
   "execution_count": 31,
   "id": "ceca8c2a",
   "metadata": {
    "execution": {
     "iopub.execute_input": "2025-08-19T18:54:01.714118Z",
     "iopub.status.busy": "2025-08-19T18:54:01.712969Z",
     "iopub.status.idle": "2025-08-19T18:54:01.722412Z",
     "shell.execute_reply": "2025-08-19T18:54:01.720938Z"
    },
    "papermill": {
     "duration": 0.023661,
     "end_time": "2025-08-19T18:54:01.724035",
     "exception": false,
     "start_time": "2025-08-19T18:54:01.700374",
     "status": "completed"
    },
    "tags": []
   },
   "outputs": [],
   "source": [
    "y_train = y_train[keep_mask]"
   ]
  },
  {
   "cell_type": "markdown",
   "id": "04d31e2f",
   "metadata": {
    "papermill": {
     "duration": 0.010758,
     "end_time": "2025-08-19T18:54:01.749003",
     "exception": false,
     "start_time": "2025-08-19T18:54:01.738245",
     "status": "completed"
    },
    "tags": []
   },
   "source": [
    "# Model Training"
   ]
  },
  {
   "cell_type": "code",
   "execution_count": 32,
   "id": "db991733",
   "metadata": {
    "execution": {
     "iopub.execute_input": "2025-08-19T18:54:01.773626Z",
     "iopub.status.busy": "2025-08-19T18:54:01.772415Z",
     "iopub.status.idle": "2025-08-19T18:54:01.880666Z",
     "shell.execute_reply": "2025-08-19T18:54:01.879887Z"
    },
    "papermill": {
     "duration": 0.123406,
     "end_time": "2025-08-19T18:54:01.883413",
     "exception": false,
     "start_time": "2025-08-19T18:54:01.760007",
     "status": "completed"
    },
    "tags": []
   },
   "outputs": [],
   "source": [
    "from sklearn.linear_model import LogisticRegression\n",
    "from sklearn.ensemble import GradientBoostingClassifier, RandomForestClassifier\n",
    "\n",
    "if (universe[\"model\"] == \"logreg\"):\n",
    "    model = LogisticRegression() #penalty=\"none\", solver=\"newton-cg\", max_iter=1)\n",
    "elif (universe[\"model\"] == \"penalized_logreg\"):\n",
    "    model = LogisticRegression(penalty=\"l2\", C=0.1) #, solver=\"newton-cg\", max_iter=1)\n",
    "elif (universe[\"model\"] == \"rf\"):\n",
    "    model = RandomForestClassifier() # n_estimators=100, n_jobs=-1\n",
    "elif (universe[\"model\"] == \"gbm\"):\n",
    "    model = GradientBoostingClassifier()\n",
    "elif (universe[\"model\"] == \"elasticnet\"):\n",
    "    model = LogisticRegression(penalty = 'elasticnet', solver = 'saga', l1_ratio = 0.5) # max_iter=5000\n",
    "else:\n",
    "    raise \"Unsupported universe.model\""
   ]
  },
  {
   "cell_type": "code",
   "execution_count": 33,
   "id": "a4b5cd25",
   "metadata": {
    "execution": {
     "iopub.execute_input": "2025-08-19T18:54:01.919323Z",
     "iopub.status.busy": "2025-08-19T18:54:01.918384Z",
     "iopub.status.idle": "2025-08-19T18:54:01.927382Z",
     "shell.execute_reply": "2025-08-19T18:54:01.926001Z"
    },
    "papermill": {
     "duration": 0.024609,
     "end_time": "2025-08-19T18:54:01.929386",
     "exception": false,
     "start_time": "2025-08-19T18:54:01.904777",
     "status": "completed"
    },
    "tags": []
   },
   "outputs": [],
   "source": [
    "from sklearn.pipeline import Pipeline\n",
    "from sklearn.preprocessing import StandardScaler\n",
    "\n",
    "model = Pipeline([\n",
    "    #(\"continuous_processor\", continuous_processor),\n",
    "    #(\"categorical_preprocessor\", categorical_preprocessor),\n",
    "    (\"scale\", StandardScaler() if universe[\"scale\"] == \"scale\" else None), \n",
    "    (\"model\", model),\n",
    "])"
   ]
  },
  {
   "cell_type": "code",
   "execution_count": 34,
   "id": "283a904d",
   "metadata": {
    "execution": {
     "iopub.execute_input": "2025-08-19T18:54:01.957386Z",
     "iopub.status.busy": "2025-08-19T18:54:01.956233Z",
     "iopub.status.idle": "2025-08-19T18:54:02.017101Z",
     "shell.execute_reply": "2025-08-19T18:54:02.016521Z"
    },
    "papermill": {
     "duration": 0.078801,
     "end_time": "2025-08-19T18:54:02.022148",
     "exception": false,
     "start_time": "2025-08-19T18:54:01.943347",
     "status": "completed"
    },
    "tags": []
   },
   "outputs": [
    {
     "name": "stderr",
     "output_type": "stream",
     "text": [
      "/dss/dsshome1/0C/ra93lal2/.local/share/virtualenvs/CMA_Fairness_v2-3j10GkSs/lib/python3.10/site-packages/sklearn/linear_model/_logistic.py:444: ConvergenceWarning: lbfgs failed to converge (status=1):\n",
      "STOP: TOTAL NO. of ITERATIONS REACHED LIMIT.\n",
      "\n",
      "Increase the number of iterations (max_iter) or scale the data as shown in:\n",
      "    https://scikit-learn.org/stable/modules/preprocessing.html\n",
      "Please also refer to the documentation for alternative solver options:\n",
      "    https://scikit-learn.org/stable/modules/linear_model.html#logistic-regression\n",
      "  n_iter_i = _check_optimize_result(\n"
     ]
    },
    {
     "data": {
      "text/html": [
       "<style>#sk-container-id-1 {color: black;background-color: white;}#sk-container-id-1 pre{padding: 0;}#sk-container-id-1 div.sk-toggleable {background-color: white;}#sk-container-id-1 label.sk-toggleable__label {cursor: pointer;display: block;width: 100%;margin-bottom: 0;padding: 0.3em;box-sizing: border-box;text-align: center;}#sk-container-id-1 label.sk-toggleable__label-arrow:before {content: \"▸\";float: left;margin-right: 0.25em;color: #696969;}#sk-container-id-1 label.sk-toggleable__label-arrow:hover:before {color: black;}#sk-container-id-1 div.sk-estimator:hover label.sk-toggleable__label-arrow:before {color: black;}#sk-container-id-1 div.sk-toggleable__content {max-height: 0;max-width: 0;overflow: hidden;text-align: left;background-color: #f0f8ff;}#sk-container-id-1 div.sk-toggleable__content pre {margin: 0.2em;color: black;border-radius: 0.25em;background-color: #f0f8ff;}#sk-container-id-1 input.sk-toggleable__control:checked~div.sk-toggleable__content {max-height: 200px;max-width: 100%;overflow: auto;}#sk-container-id-1 input.sk-toggleable__control:checked~label.sk-toggleable__label-arrow:before {content: \"▾\";}#sk-container-id-1 div.sk-estimator input.sk-toggleable__control:checked~label.sk-toggleable__label {background-color: #d4ebff;}#sk-container-id-1 div.sk-label input.sk-toggleable__control:checked~label.sk-toggleable__label {background-color: #d4ebff;}#sk-container-id-1 input.sk-hidden--visually {border: 0;clip: rect(1px 1px 1px 1px);clip: rect(1px, 1px, 1px, 1px);height: 1px;margin: -1px;overflow: hidden;padding: 0;position: absolute;width: 1px;}#sk-container-id-1 div.sk-estimator {font-family: monospace;background-color: #f0f8ff;border: 1px dotted black;border-radius: 0.25em;box-sizing: border-box;margin-bottom: 0.5em;}#sk-container-id-1 div.sk-estimator:hover {background-color: #d4ebff;}#sk-container-id-1 div.sk-parallel-item::after {content: \"\";width: 100%;border-bottom: 1px solid gray;flex-grow: 1;}#sk-container-id-1 div.sk-label:hover label.sk-toggleable__label {background-color: #d4ebff;}#sk-container-id-1 div.sk-serial::before {content: \"\";position: absolute;border-left: 1px solid gray;box-sizing: border-box;top: 0;bottom: 0;left: 50%;z-index: 0;}#sk-container-id-1 div.sk-serial {display: flex;flex-direction: column;align-items: center;background-color: white;padding-right: 0.2em;padding-left: 0.2em;position: relative;}#sk-container-id-1 div.sk-item {position: relative;z-index: 1;}#sk-container-id-1 div.sk-parallel {display: flex;align-items: stretch;justify-content: center;background-color: white;position: relative;}#sk-container-id-1 div.sk-item::before, #sk-container-id-1 div.sk-parallel-item::before {content: \"\";position: absolute;border-left: 1px solid gray;box-sizing: border-box;top: 0;bottom: 0;left: 50%;z-index: -1;}#sk-container-id-1 div.sk-parallel-item {display: flex;flex-direction: column;z-index: 1;position: relative;background-color: white;}#sk-container-id-1 div.sk-parallel-item:first-child::after {align-self: flex-end;width: 50%;}#sk-container-id-1 div.sk-parallel-item:last-child::after {align-self: flex-start;width: 50%;}#sk-container-id-1 div.sk-parallel-item:only-child::after {width: 0;}#sk-container-id-1 div.sk-dashed-wrapped {border: 1px dashed gray;margin: 0 0.4em 0.5em 0.4em;box-sizing: border-box;padding-bottom: 0.4em;background-color: white;}#sk-container-id-1 div.sk-label label {font-family: monospace;font-weight: bold;display: inline-block;line-height: 1.2em;}#sk-container-id-1 div.sk-label-container {text-align: center;}#sk-container-id-1 div.sk-container {/* jupyter's `normalize.less` sets `[hidden] { display: none; }` but bootstrap.min.css set `[hidden] { display: none !important; }` so we also need the `!important` here to be able to override the default hidden behavior on the sphinx rendered scikit-learn.org. See: https://github.com/scikit-learn/scikit-learn/issues/21755 */display: inline-block !important;position: relative;}#sk-container-id-1 div.sk-text-repr-fallback {display: none;}</style><div id=\"sk-container-id-1\" class=\"sk-top-container\"><div class=\"sk-text-repr-fallback\"><pre>Pipeline(steps=[(&#x27;scale&#x27;, None), (&#x27;model&#x27;, LogisticRegression(C=0.1))])</pre><b>In a Jupyter environment, please rerun this cell to show the HTML representation or trust the notebook. <br />On GitHub, the HTML representation is unable to render, please try loading this page with nbviewer.org.</b></div><div class=\"sk-container\" hidden><div class=\"sk-item sk-dashed-wrapped\"><div class=\"sk-label-container\"><div class=\"sk-label sk-toggleable\"><input class=\"sk-toggleable__control sk-hidden--visually\" id=\"sk-estimator-id-1\" type=\"checkbox\" ><label for=\"sk-estimator-id-1\" class=\"sk-toggleable__label sk-toggleable__label-arrow\">Pipeline</label><div class=\"sk-toggleable__content\"><pre>Pipeline(steps=[(&#x27;scale&#x27;, None), (&#x27;model&#x27;, LogisticRegression(C=0.1))])</pre></div></div></div><div class=\"sk-serial\"><div class=\"sk-item\"><div class=\"sk-estimator sk-toggleable\"><input class=\"sk-toggleable__control sk-hidden--visually\" id=\"sk-estimator-id-2\" type=\"checkbox\" ><label for=\"sk-estimator-id-2\" class=\"sk-toggleable__label sk-toggleable__label-arrow\">None</label><div class=\"sk-toggleable__content\"><pre>None</pre></div></div></div><div class=\"sk-item\"><div class=\"sk-estimator sk-toggleable\"><input class=\"sk-toggleable__control sk-hidden--visually\" id=\"sk-estimator-id-3\" type=\"checkbox\" ><label for=\"sk-estimator-id-3\" class=\"sk-toggleable__label sk-toggleable__label-arrow\">LogisticRegression</label><div class=\"sk-toggleable__content\"><pre>LogisticRegression(C=0.1)</pre></div></div></div></div></div></div></div>"
      ],
      "text/plain": [
       "Pipeline(steps=[('scale', None), ('model', LogisticRegression(C=0.1))])"
      ]
     },
     "execution_count": 34,
     "metadata": {},
     "output_type": "execute_result"
    }
   ],
   "source": [
    "model.fit(X_train, y_train.values.ravel())"
   ]
  },
  {
   "cell_type": "code",
   "execution_count": 35,
   "id": "6e15e313",
   "metadata": {
    "execution": {
     "iopub.execute_input": "2025-08-19T18:54:02.059893Z",
     "iopub.status.busy": "2025-08-19T18:54:02.058318Z",
     "iopub.status.idle": "2025-08-19T18:54:02.163552Z",
     "shell.execute_reply": "2025-08-19T18:54:02.162930Z"
    },
    "papermill": {
     "duration": 0.121884,
     "end_time": "2025-08-19T18:54:02.166297",
     "exception": false,
     "start_time": "2025-08-19T18:54:02.044413",
     "status": "completed"
    },
    "tags": []
   },
   "outputs": [
    {
     "data": {
      "text/plain": [
       "0.8451566157618995"
      ]
     },
     "execution_count": 35,
     "metadata": {},
     "output_type": "execute_result"
    }
   ],
   "source": [
    "from fairness_multiverse.universe import predict_w_threshold\n",
    "\n",
    "probs_test = model.predict_proba(X_test)\n",
    "\n",
    "'''\n",
    "Below code returns a boolean array (or binary 0/1 array depending on how it’s used) where each element \n",
    "is True if the probability of class 1 is greater than or equal to the threshold, and False otherwise.\n",
    "'''\n",
    "y_pred_default = predict_w_threshold(probs_test, 0.5)\n",
    "\n",
    "from sklearn.metrics import accuracy_score\n",
    "\n",
    "# Naive prediction\n",
    "accuracy_score(y_true = y_true, y_pred = y_pred_default)"
   ]
  },
  {
   "cell_type": "code",
   "execution_count": 36,
   "id": "6f14067c",
   "metadata": {
    "execution": {
     "iopub.execute_input": "2025-08-19T18:54:02.206633Z",
     "iopub.status.busy": "2025-08-19T18:54:02.205565Z",
     "iopub.status.idle": "2025-08-19T18:54:02.326407Z",
     "shell.execute_reply": "2025-08-19T18:54:02.325708Z"
    },
    "papermill": {
     "duration": 0.136298,
     "end_time": "2025-08-19T18:54:02.327797",
     "exception": false,
     "start_time": "2025-08-19T18:54:02.191499",
     "status": "completed"
    },
    "tags": []
   },
   "outputs": [
    {
     "data": {
      "text/plain": [
       "array([0, 0, 0, ..., 0, 0, 0])"
      ]
     },
     "execution_count": 36,
     "metadata": {},
     "output_type": "execute_result"
    }
   ],
   "source": [
    "model.predict(X_test)"
   ]
  },
  {
   "cell_type": "markdown",
   "id": "3759920c",
   "metadata": {
    "papermill": {
     "duration": 0.011504,
     "end_time": "2025-08-19T18:54:02.351088",
     "exception": false,
     "start_time": "2025-08-19T18:54:02.339584",
     "status": "completed"
    },
    "tags": []
   },
   "source": [
    "# Conformal Prediction"
   ]
  },
  {
   "cell_type": "code",
   "execution_count": 37,
   "id": "14b27f59",
   "metadata": {
    "execution": {
     "iopub.execute_input": "2025-08-19T18:54:02.376018Z",
     "iopub.status.busy": "2025-08-19T18:54:02.375112Z",
     "iopub.status.idle": "2025-08-19T18:54:02.382481Z",
     "shell.execute_reply": "2025-08-19T18:54:02.381362Z"
    },
    "papermill": {
     "duration": 0.021882,
     "end_time": "2025-08-19T18:54:02.384214",
     "exception": false,
     "start_time": "2025-08-19T18:54:02.362332",
     "status": "completed"
    },
    "tags": []
   },
   "outputs": [],
   "source": [
    "# Miscoverage level for conformal prediction (10% allowed error rate => 90% target coverage)\n",
    "alpha = 0.1"
   ]
  },
  {
   "cell_type": "code",
   "execution_count": 38,
   "id": "59102472",
   "metadata": {
    "execution": {
     "iopub.execute_input": "2025-08-19T18:54:02.411395Z",
     "iopub.status.busy": "2025-08-19T18:54:02.411082Z",
     "iopub.status.idle": "2025-08-19T18:54:02.510414Z",
     "shell.execute_reply": "2025-08-19T18:54:02.509549Z"
    },
    "papermill": {
     "duration": 0.115141,
     "end_time": "2025-08-19T18:54:02.513373",
     "exception": false,
     "start_time": "2025-08-19T18:54:02.398232",
     "status": "completed"
    },
    "tags": []
   },
   "outputs": [],
   "source": [
    "probs_calib = model.predict_proba(X_calib)"
   ]
  },
  {
   "cell_type": "code",
   "execution_count": 39,
   "id": "a792d4dd",
   "metadata": {
    "execution": {
     "iopub.execute_input": "2025-08-19T18:54:02.553499Z",
     "iopub.status.busy": "2025-08-19T18:54:02.553104Z",
     "iopub.status.idle": "2025-08-19T18:54:02.557614Z",
     "shell.execute_reply": "2025-08-19T18:54:02.556855Z"
    },
    "papermill": {
     "duration": 0.020042,
     "end_time": "2025-08-19T18:54:02.558839",
     "exception": false,
     "start_time": "2025-08-19T18:54:02.538797",
     "status": "completed"
    },
    "tags": []
   },
   "outputs": [],
   "source": [
    "y_calib = y_calib.values.ravel().astype(int)"
   ]
  },
  {
   "cell_type": "code",
   "execution_count": 40,
   "id": "650fd033",
   "metadata": {
    "execution": {
     "iopub.execute_input": "2025-08-19T18:54:02.583577Z",
     "iopub.status.busy": "2025-08-19T18:54:02.583180Z",
     "iopub.status.idle": "2025-08-19T18:54:02.589319Z",
     "shell.execute_reply": "2025-08-19T18:54:02.588598Z"
    },
    "papermill": {
     "duration": 0.019682,
     "end_time": "2025-08-19T18:54:02.590651",
     "exception": false,
     "start_time": "2025-08-19T18:54:02.570969",
     "status": "completed"
    },
    "tags": []
   },
   "outputs": [],
   "source": [
    "from fairness_multiverse.conformal import compute_nc_scores\n",
    "\n",
    "# Compute nonconformity scores on calibration set (1 - probability of true class)\n",
    "nc_scores = compute_nc_scores(probs_calib, y_calib)"
   ]
  },
  {
   "cell_type": "code",
   "execution_count": 41,
   "id": "28ada44c",
   "metadata": {
    "execution": {
     "iopub.execute_input": "2025-08-19T18:54:02.616638Z",
     "iopub.status.busy": "2025-08-19T18:54:02.616223Z",
     "iopub.status.idle": "2025-08-19T18:54:02.622499Z",
     "shell.execute_reply": "2025-08-19T18:54:02.621773Z"
    },
    "papermill": {
     "duration": 0.020809,
     "end_time": "2025-08-19T18:54:02.623794",
     "exception": false,
     "start_time": "2025-08-19T18:54:02.602985",
     "status": "completed"
    },
    "tags": []
   },
   "outputs": [],
   "source": [
    "from fairness_multiverse.conformal import find_threshold\n",
    "\n",
    "# Find conformal threshold q_hat for the given alpha (split conformal method)\n",
    "q_hat = find_threshold(nc_scores, alpha)"
   ]
  },
  {
   "cell_type": "code",
   "execution_count": 42,
   "id": "df56469e",
   "metadata": {
    "execution": {
     "iopub.execute_input": "2025-08-19T18:54:02.651052Z",
     "iopub.status.busy": "2025-08-19T18:54:02.650425Z",
     "iopub.status.idle": "2025-08-19T18:54:02.656379Z",
     "shell.execute_reply": "2025-08-19T18:54:02.655659Z"
    },
    "papermill": {
     "duration": 0.020273,
     "end_time": "2025-08-19T18:54:02.657620",
     "exception": false,
     "start_time": "2025-08-19T18:54:02.637347",
     "status": "completed"
    },
    "tags": []
   },
   "outputs": [
    {
     "data": {
      "text/plain": [
       "0.6908399152679288"
      ]
     },
     "execution_count": 42,
     "metadata": {},
     "output_type": "execute_result"
    }
   ],
   "source": [
    "q_hat"
   ]
  },
  {
   "cell_type": "code",
   "execution_count": 43,
   "id": "aa1f5faa",
   "metadata": {
    "execution": {
     "iopub.execute_input": "2025-08-19T18:54:02.683253Z",
     "iopub.status.busy": "2025-08-19T18:54:02.682730Z",
     "iopub.status.idle": "2025-08-19T18:54:03.205329Z",
     "shell.execute_reply": "2025-08-19T18:54:03.204183Z"
    },
    "papermill": {
     "duration": 0.538536,
     "end_time": "2025-08-19T18:54:03.207688",
     "exception": false,
     "start_time": "2025-08-19T18:54:02.669152",
     "status": "completed"
    },
    "tags": []
   },
   "outputs": [],
   "source": [
    "from fairness_multiverse.conformal import predict_conformal_sets\n",
    "\n",
    "# Generate prediction sets for each test example\n",
    "pred_sets = predict_conformal_sets(model, X_test, q_hat)"
   ]
  },
  {
   "cell_type": "code",
   "execution_count": 44,
   "id": "97f67a6b",
   "metadata": {
    "execution": {
     "iopub.execute_input": "2025-08-19T18:54:03.234073Z",
     "iopub.status.busy": "2025-08-19T18:54:03.233534Z",
     "iopub.status.idle": "2025-08-19T18:54:03.241425Z",
     "shell.execute_reply": "2025-08-19T18:54:03.240307Z"
    },
    "papermill": {
     "duration": 0.02321,
     "end_time": "2025-08-19T18:54:03.243069",
     "exception": false,
     "start_time": "2025-08-19T18:54:03.219859",
     "status": "completed"
    },
    "tags": []
   },
   "outputs": [],
   "source": [
    "y_true = y_true.squeeze()"
   ]
  },
  {
   "cell_type": "code",
   "execution_count": 45,
   "id": "e700e9a7",
   "metadata": {
    "execution": {
     "iopub.execute_input": "2025-08-19T18:54:03.273003Z",
     "iopub.status.busy": "2025-08-19T18:54:03.272178Z",
     "iopub.status.idle": "2025-08-19T18:54:03.797875Z",
     "shell.execute_reply": "2025-08-19T18:54:03.796634Z"
    },
    "papermill": {
     "duration": 0.541772,
     "end_time": "2025-08-19T18:54:03.799834",
     "exception": false,
     "start_time": "2025-08-19T18:54:03.258062",
     "status": "completed"
    },
    "tags": []
   },
   "outputs": [],
   "source": [
    "from fairness_multiverse.conformal import evaluate_sets\n",
    "\n",
    "# Evaluate coverage and average set size on test data\n",
    "metrics = evaluate_sets(pred_sets, y_true)"
   ]
  },
  {
   "cell_type": "markdown",
   "id": "efbacec0",
   "metadata": {
    "papermill": {
     "duration": 0.011722,
     "end_time": "2025-08-19T18:54:03.825473",
     "exception": false,
     "start_time": "2025-08-19T18:54:03.813751",
     "status": "completed"
    },
    "tags": []
   },
   "source": [
    "# CP Metrics"
   ]
  },
  {
   "cell_type": "code",
   "execution_count": 46,
   "id": "9de55fb1",
   "metadata": {
    "execution": {
     "iopub.execute_input": "2025-08-19T18:54:03.852669Z",
     "iopub.status.busy": "2025-08-19T18:54:03.851752Z",
     "iopub.status.idle": "2025-08-19T18:54:03.866226Z",
     "shell.execute_reply": "2025-08-19T18:54:03.865070Z"
    },
    "papermill": {
     "duration": 0.030465,
     "end_time": "2025-08-19T18:54:03.867794",
     "exception": false,
     "start_time": "2025-08-19T18:54:03.837329",
     "status": "completed"
    },
    "tags": []
   },
   "outputs": [
    {
     "data": {
      "text/plain": [
       "{'coverage': 0.9089956526585665, 'avg_size': 1.255322706498718}"
      ]
     },
     "execution_count": 46,
     "metadata": {},
     "output_type": "execute_result"
    }
   ],
   "source": [
    "metrics"
   ]
  },
  {
   "cell_type": "code",
   "execution_count": 47,
   "id": "64c340a1",
   "metadata": {
    "execution": {
     "iopub.execute_input": "2025-08-19T18:54:03.902575Z",
     "iopub.status.busy": "2025-08-19T18:54:03.901737Z",
     "iopub.status.idle": "2025-08-19T18:54:03.911740Z",
     "shell.execute_reply": "2025-08-19T18:54:03.910493Z"
    },
    "papermill": {
     "duration": 0.026567,
     "end_time": "2025-08-19T18:54:03.913364",
     "exception": false,
     "start_time": "2025-08-19T18:54:03.886797",
     "status": "completed"
    },
    "tags": []
   },
   "outputs": [],
   "source": [
    "example_universe = universe.copy()\n",
    "universe_training_year = example_universe.get(\"training_year\")\n",
    "universe_training_size = example_universe.get(\"training_size\")\n",
    "universe_scale = example_universe.get(\"scale\")\n",
    "universe_model = example_universe.get(\"model\")\n",
    "universe_exclude_features = example_universe.get(\"exclude_features\")\n",
    "universe_exclude_subgroups = example_universe.get(\"exclude_subgroups\")"
   ]
  },
  {
   "cell_type": "code",
   "execution_count": 48,
   "id": "dbb53cb4",
   "metadata": {
    "execution": {
     "iopub.execute_input": "2025-08-19T18:54:03.946488Z",
     "iopub.status.busy": "2025-08-19T18:54:03.945779Z",
     "iopub.status.idle": "2025-08-19T18:54:03.956062Z",
     "shell.execute_reply": "2025-08-19T18:54:03.954972Z"
    },
    "papermill": {
     "duration": 0.02743,
     "end_time": "2025-08-19T18:54:03.958051",
     "exception": false,
     "start_time": "2025-08-19T18:54:03.930621",
     "status": "completed"
    },
    "tags": []
   },
   "outputs": [],
   "source": [
    "cp_metrics_dict = {\n",
    "    \"universe_id\": [universe_id],\n",
    "    \"universe_training_year\": [universe_training_year],\n",
    "    \"universe_training_size\": [universe_training_size],\n",
    "    \"universe_scale\": [universe_scale],\n",
    "    \"universe_model\": [universe_model],\n",
    "    \"universe_exclude_features\": [universe_exclude_features],\n",
    "    \"universe_exclude_subgroups\": [universe_exclude_subgroups],\n",
    "    \"q_hat\": [q_hat],\n",
    "    \"coverage\": [metrics[\"coverage\"]],\n",
    "    \"avg_size\": [metrics[\"avg_size\"]],\n",
    "}"
   ]
  },
  {
   "cell_type": "code",
   "execution_count": 49,
   "id": "0d70d4b2",
   "metadata": {
    "execution": {
     "iopub.execute_input": "2025-08-19T18:54:03.989653Z",
     "iopub.status.busy": "2025-08-19T18:54:03.988265Z",
     "iopub.status.idle": "2025-08-19T18:54:04.000214Z",
     "shell.execute_reply": "2025-08-19T18:54:03.998698Z"
    },
    "papermill": {
     "duration": 0.029187,
     "end_time": "2025-08-19T18:54:04.002001",
     "exception": false,
     "start_time": "2025-08-19T18:54:03.972814",
     "status": "completed"
    },
    "tags": []
   },
   "outputs": [],
   "source": [
    "cp_metrics_df = pd.DataFrame(cp_metrics_dict)"
   ]
  },
  {
   "cell_type": "code",
   "execution_count": 50,
   "id": "b494403c",
   "metadata": {
    "execution": {
     "iopub.execute_input": "2025-08-19T18:54:04.033128Z",
     "iopub.status.busy": "2025-08-19T18:54:04.032028Z",
     "iopub.status.idle": "2025-08-19T18:54:04.059188Z",
     "shell.execute_reply": "2025-08-19T18:54:04.055829Z"
    },
    "papermill": {
     "duration": 0.044072,
     "end_time": "2025-08-19T18:54:04.061842",
     "exception": false,
     "start_time": "2025-08-19T18:54:04.017770",
     "status": "completed"
    },
    "tags": []
   },
   "outputs": [
    {
     "data": {
      "text/html": [
       "<div>\n",
       "<style scoped>\n",
       "    .dataframe tbody tr th:only-of-type {\n",
       "        vertical-align: middle;\n",
       "    }\n",
       "\n",
       "    .dataframe tbody tr th {\n",
       "        vertical-align: top;\n",
       "    }\n",
       "\n",
       "    .dataframe thead th {\n",
       "        text-align: right;\n",
       "    }\n",
       "</style>\n",
       "<table border=\"1\" class=\"dataframe\">\n",
       "  <thead>\n",
       "    <tr style=\"text-align: right;\">\n",
       "      <th></th>\n",
       "      <th>universe_id</th>\n",
       "      <th>universe_training_year</th>\n",
       "      <th>universe_training_size</th>\n",
       "      <th>universe_scale</th>\n",
       "      <th>universe_model</th>\n",
       "      <th>universe_exclude_features</th>\n",
       "      <th>universe_exclude_subgroups</th>\n",
       "      <th>q_hat</th>\n",
       "      <th>coverage</th>\n",
       "      <th>avg_size</th>\n",
       "    </tr>\n",
       "  </thead>\n",
       "  <tbody>\n",
       "    <tr>\n",
       "      <th>0</th>\n",
       "      <td>1161f3d75ce60397e97a73c623a69305</td>\n",
       "      <td>2014</td>\n",
       "      <td>1k</td>\n",
       "      <td>do-not-scale</td>\n",
       "      <td>penalized_logreg</td>\n",
       "      <td>nationality-sex</td>\n",
       "      <td>drop-non-german</td>\n",
       "      <td>0.69084</td>\n",
       "      <td>0.908996</td>\n",
       "      <td>1.255323</td>\n",
       "    </tr>\n",
       "  </tbody>\n",
       "</table>\n",
       "</div>"
      ],
      "text/plain": [
       "                        universe_id universe_training_year  \\\n",
       "0  1161f3d75ce60397e97a73c623a69305                   2014   \n",
       "\n",
       "  universe_training_size universe_scale    universe_model  \\\n",
       "0                     1k   do-not-scale  penalized_logreg   \n",
       "\n",
       "  universe_exclude_features universe_exclude_subgroups    q_hat  coverage  \\\n",
       "0           nationality-sex            drop-non-german  0.69084  0.908996   \n",
       "\n",
       "   avg_size  \n",
       "0  1.255323  "
      ]
     },
     "execution_count": 50,
     "metadata": {},
     "output_type": "execute_result"
    }
   ],
   "source": [
    "cp_metrics_df"
   ]
  },
  {
   "cell_type": "markdown",
   "id": "ed608b0b",
   "metadata": {
    "papermill": {
     "duration": 0.013351,
     "end_time": "2025-08-19T18:54:04.095092",
     "exception": false,
     "start_time": "2025-08-19T18:54:04.081741",
     "status": "completed"
    },
    "tags": []
   },
   "source": [
    "Conditional coverage & looking at subgroups"
   ]
  },
  {
   "cell_type": "code",
   "execution_count": 51,
   "id": "8968c366",
   "metadata": {
    "execution": {
     "iopub.execute_input": "2025-08-19T18:54:04.125880Z",
     "iopub.status.busy": "2025-08-19T18:54:04.124540Z",
     "iopub.status.idle": "2025-08-19T18:54:04.466457Z",
     "shell.execute_reply": "2025-08-19T18:54:04.465301Z"
    },
    "papermill": {
     "duration": 0.35759,
     "end_time": "2025-08-19T18:54:04.468141",
     "exception": false,
     "start_time": "2025-08-19T18:54:04.110551",
     "status": "completed"
    },
    "tags": []
   },
   "outputs": [],
   "source": [
    "from fairness_multiverse.conformal import build_cp_groups\n",
    "\n",
    "cp_groups_df = build_cp_groups(pred_sets, y_true, X_test.index, org_test)"
   ]
  },
  {
   "cell_type": "code",
   "execution_count": 52,
   "id": "292ddabf",
   "metadata": {
    "execution": {
     "iopub.execute_input": "2025-08-19T18:54:04.504784Z",
     "iopub.status.busy": "2025-08-19T18:54:04.503987Z",
     "iopub.status.idle": "2025-08-19T18:54:05.537150Z",
     "shell.execute_reply": "2025-08-19T18:54:05.535865Z"
    },
    "papermill": {
     "duration": 1.050419,
     "end_time": "2025-08-19T18:54:05.540237",
     "exception": false,
     "start_time": "2025-08-19T18:54:04.489818",
     "status": "completed"
    },
    "tags": []
   },
   "outputs": [],
   "source": [
    "# Define covered = 1 if true_label is in the predicted set\n",
    "cp_groups_df['covered'] = cp_groups_df.apply(\n",
    "    lambda r: int(r['true_label'] in r['pred_set']),\n",
    "    axis=1\n",
    ")"
   ]
  },
  {
   "cell_type": "code",
   "execution_count": 53,
   "id": "3a261692",
   "metadata": {
    "execution": {
     "iopub.execute_input": "2025-08-19T18:54:05.579415Z",
     "iopub.status.busy": "2025-08-19T18:54:05.578269Z",
     "iopub.status.idle": "2025-08-19T18:54:05.604183Z",
     "shell.execute_reply": "2025-08-19T18:54:05.603291Z"
    },
    "papermill": {
     "duration": 0.042981,
     "end_time": "2025-08-19T18:54:05.606602",
     "exception": false,
     "start_time": "2025-08-19T18:54:05.563621",
     "status": "completed"
    },
    "tags": []
   },
   "outputs": [],
   "source": [
    "subgroups = ['frau1','nongerman','nongerman_male','nongerman_female']\n",
    "\n",
    "# Conditional coverage for subgroup==1\n",
    "cond_coverage = {\n",
    "    g: cp_groups_df.loc[cp_groups_df[g]==1, 'covered'].mean()\n",
    "    for g in subgroups\n",
    "}"
   ]
  },
  {
   "cell_type": "code",
   "execution_count": 54,
   "id": "894fd600",
   "metadata": {
    "execution": {
     "iopub.execute_input": "2025-08-19T18:54:05.646315Z",
     "iopub.status.busy": "2025-08-19T18:54:05.644550Z",
     "iopub.status.idle": "2025-08-19T18:54:05.657859Z",
     "shell.execute_reply": "2025-08-19T18:54:05.656329Z"
    },
    "papermill": {
     "duration": 0.030192,
     "end_time": "2025-08-19T18:54:05.659718",
     "exception": false,
     "start_time": "2025-08-19T18:54:05.629526",
     "status": "completed"
    },
    "tags": []
   },
   "outputs": [
    {
     "data": {
      "text/plain": [
       "{'frau1': 0.9087208518668284,\n",
       " 'nongerman': 0.9479032167518104,\n",
       " 'nongerman_male': 0.9574889669458705,\n",
       " 'nongerman_female': 0.9320417287630403}"
      ]
     },
     "execution_count": 54,
     "metadata": {},
     "output_type": "execute_result"
    }
   ],
   "source": [
    "cond_coverage"
   ]
  },
  {
   "cell_type": "code",
   "execution_count": 55,
   "id": "942895c7",
   "metadata": {
    "execution": {
     "iopub.execute_input": "2025-08-19T18:54:05.691646Z",
     "iopub.status.busy": "2025-08-19T18:54:05.690398Z",
     "iopub.status.idle": "2025-08-19T18:54:05.703891Z",
     "shell.execute_reply": "2025-08-19T18:54:05.702261Z"
    },
    "papermill": {
     "duration": 0.029183,
     "end_time": "2025-08-19T18:54:05.705681",
     "exception": false,
     "start_time": "2025-08-19T18:54:05.676498",
     "status": "completed"
    },
    "tags": []
   },
   "outputs": [],
   "source": [
    "for subgroup, cov in cond_coverage.items():\n",
    "    cp_metrics_df[f\"cov_{subgroup}\"] = cov"
   ]
  },
  {
   "cell_type": "code",
   "execution_count": 56,
   "id": "3970120f",
   "metadata": {
    "execution": {
     "iopub.execute_input": "2025-08-19T18:54:05.737424Z",
     "iopub.status.busy": "2025-08-19T18:54:05.736300Z",
     "iopub.status.idle": "2025-08-19T18:54:05.764096Z",
     "shell.execute_reply": "2025-08-19T18:54:05.763107Z"
    },
    "papermill": {
     "duration": 0.044151,
     "end_time": "2025-08-19T18:54:05.766437",
     "exception": false,
     "start_time": "2025-08-19T18:54:05.722286",
     "status": "completed"
    },
    "tags": []
   },
   "outputs": [
    {
     "data": {
      "text/html": [
       "<div>\n",
       "<style scoped>\n",
       "    .dataframe tbody tr th:only-of-type {\n",
       "        vertical-align: middle;\n",
       "    }\n",
       "\n",
       "    .dataframe tbody tr th {\n",
       "        vertical-align: top;\n",
       "    }\n",
       "\n",
       "    .dataframe thead th {\n",
       "        text-align: right;\n",
       "    }\n",
       "</style>\n",
       "<table border=\"1\" class=\"dataframe\">\n",
       "  <thead>\n",
       "    <tr style=\"text-align: right;\">\n",
       "      <th></th>\n",
       "      <th>universe_id</th>\n",
       "      <th>universe_training_year</th>\n",
       "      <th>universe_training_size</th>\n",
       "      <th>universe_scale</th>\n",
       "      <th>universe_model</th>\n",
       "      <th>universe_exclude_features</th>\n",
       "      <th>universe_exclude_subgroups</th>\n",
       "      <th>q_hat</th>\n",
       "      <th>coverage</th>\n",
       "      <th>avg_size</th>\n",
       "      <th>cov_frau1</th>\n",
       "      <th>cov_nongerman</th>\n",
       "      <th>cov_nongerman_male</th>\n",
       "      <th>cov_nongerman_female</th>\n",
       "    </tr>\n",
       "  </thead>\n",
       "  <tbody>\n",
       "    <tr>\n",
       "      <th>0</th>\n",
       "      <td>1161f3d75ce60397e97a73c623a69305</td>\n",
       "      <td>2014</td>\n",
       "      <td>1k</td>\n",
       "      <td>do-not-scale</td>\n",
       "      <td>penalized_logreg</td>\n",
       "      <td>nationality-sex</td>\n",
       "      <td>drop-non-german</td>\n",
       "      <td>0.69084</td>\n",
       "      <td>0.908996</td>\n",
       "      <td>1.255323</td>\n",
       "      <td>0.908721</td>\n",
       "      <td>0.947903</td>\n",
       "      <td>0.957489</td>\n",
       "      <td>0.932042</td>\n",
       "    </tr>\n",
       "  </tbody>\n",
       "</table>\n",
       "</div>"
      ],
      "text/plain": [
       "                        universe_id universe_training_year  \\\n",
       "0  1161f3d75ce60397e97a73c623a69305                   2014   \n",
       "\n",
       "  universe_training_size universe_scale    universe_model  \\\n",
       "0                     1k   do-not-scale  penalized_logreg   \n",
       "\n",
       "  universe_exclude_features universe_exclude_subgroups    q_hat  coverage  \\\n",
       "0           nationality-sex            drop-non-german  0.69084  0.908996   \n",
       "\n",
       "   avg_size  cov_frau1  cov_nongerman  cov_nongerman_male  \\\n",
       "0  1.255323   0.908721       0.947903            0.957489   \n",
       "\n",
       "   cov_nongerman_female  \n",
       "0              0.932042  "
      ]
     },
     "execution_count": 56,
     "metadata": {},
     "output_type": "execute_result"
    }
   ],
   "source": [
    "cp_metrics_df"
   ]
  },
  {
   "cell_type": "markdown",
   "id": "3fc519cc",
   "metadata": {
    "papermill": {
     "duration": 0.013474,
     "end_time": "2025-08-19T18:54:05.807141",
     "exception": false,
     "start_time": "2025-08-19T18:54:05.793667",
     "status": "completed"
    },
    "tags": []
   },
   "source": [
    "# (Fairness) Metrics"
   ]
  },
  {
   "cell_type": "code",
   "execution_count": 57,
   "id": "a2e5e155",
   "metadata": {
    "execution": {
     "iopub.execute_input": "2025-08-19T18:54:05.835697Z",
     "iopub.status.busy": "2025-08-19T18:54:05.834665Z",
     "iopub.status.idle": "2025-08-19T18:54:05.868832Z",
     "shell.execute_reply": "2025-08-19T18:54:05.867665Z"
    },
    "papermill": {
     "duration": 0.051655,
     "end_time": "2025-08-19T18:54:05.871368",
     "exception": false,
     "start_time": "2025-08-19T18:54:05.819713",
     "status": "completed"
    },
    "tags": []
   },
   "outputs": [],
   "source": [
    "colname_to_bin = \"maxdeutsch1\"\n",
    "majority_value = org_train[colname_to_bin].mode()[0]\n",
    "\n",
    "org_test[\"majmin\"] = np.where(org_test[colname_to_bin] == majority_value, \"majority\", \"minority\")"
   ]
  },
  {
   "cell_type": "code",
   "execution_count": 58,
   "id": "17e3e4d5",
   "metadata": {
    "execution": {
     "iopub.execute_input": "2025-08-19T18:54:05.913573Z",
     "iopub.status.busy": "2025-08-19T18:54:05.912393Z",
     "iopub.status.idle": "2025-08-19T18:54:07.647438Z",
     "shell.execute_reply": "2025-08-19T18:54:07.645993Z"
    },
    "papermill": {
     "duration": 1.752465,
     "end_time": "2025-08-19T18:54:07.649090",
     "exception": false,
     "start_time": "2025-08-19T18:54:05.896625",
     "status": "completed"
    },
    "tags": []
   },
   "outputs": [],
   "source": [
    "example_universe = universe.copy()\n",
    "example_universe[\"cutoff\"] = example_universe[\"cutoff\"][0]\n",
    "example_universe[\"eval_fairness_grouping\"] = example_universe[\"eval_fairness_grouping\"][0]\n",
    "fairness_dict, metric_frame = universe_analysis.compute_metrics(\n",
    "    example_universe,\n",
    "    y_pred_prob=probs_test,\n",
    "    y_test=y_true,\n",
    "    org_test=org_test,\n",
    ")"
   ]
  },
  {
   "cell_type": "markdown",
   "id": "1fb7a0e9",
   "metadata": {
    "papermill": {
     "duration": 0.012429,
     "end_time": "2025-08-19T18:54:07.674601",
     "exception": false,
     "start_time": "2025-08-19T18:54:07.662172",
     "status": "completed"
    },
    "tags": []
   },
   "source": [
    "# Overall"
   ]
  },
  {
   "cell_type": "markdown",
   "id": "be1784b1",
   "metadata": {
    "papermill": {
     "duration": 0.012185,
     "end_time": "2025-08-19T18:54:07.699111",
     "exception": false,
     "start_time": "2025-08-19T18:54:07.686926",
     "status": "completed"
    },
    "tags": []
   },
   "source": [
    "Main fairness target: Equalized Odds. Seems to be a better fit than equal opportunity, since we're not only interested in Y = 1. Seems to be a better fit than demographic parity, since we also care about accuracy, not just equal distribution of preds.\n",
    "\n",
    "Pick column for computation of fairness metrics\n",
    "\n",
    "Performance\n",
    "Overall performance measures, most interesting in relation to the measures split by group below"
   ]
  },
  {
   "cell_type": "code",
   "execution_count": 59,
   "id": "b7672bee",
   "metadata": {
    "execution": {
     "iopub.execute_input": "2025-08-19T18:54:07.726574Z",
     "iopub.status.busy": "2025-08-19T18:54:07.726042Z",
     "iopub.status.idle": "2025-08-19T18:54:07.735270Z",
     "shell.execute_reply": "2025-08-19T18:54:07.734500Z"
    },
    "papermill": {
     "duration": 0.034893,
     "end_time": "2025-08-19T18:54:07.746286",
     "exception": false,
     "start_time": "2025-08-19T18:54:07.711393",
     "status": "completed"
    },
    "tags": []
   },
   "outputs": [
    {
     "data": {
      "text/plain": [
       "accuracy                   0.215773\n",
       "balanced accuracy          0.529397\n",
       "f1                         0.237341\n",
       "precision                  0.135585\n",
       "false positive rate        0.892458\n",
       "false negative rate        0.048749\n",
       "selection rate             0.900000\n",
       "count                  89710.000000\n",
       "dtype: float64"
      ]
     },
     "execution_count": 59,
     "metadata": {},
     "output_type": "execute_result"
    }
   ],
   "source": [
    "metric_frame.overall"
   ]
  },
  {
   "cell_type": "markdown",
   "id": "d93333c9",
   "metadata": {
    "papermill": {
     "duration": 0.012455,
     "end_time": "2025-08-19T18:54:07.779091",
     "exception": false,
     "start_time": "2025-08-19T18:54:07.766636",
     "status": "completed"
    },
    "tags": []
   },
   "source": [
    "By Group"
   ]
  },
  {
   "cell_type": "code",
   "execution_count": 60,
   "id": "52256966",
   "metadata": {
    "execution": {
     "iopub.execute_input": "2025-08-19T18:54:07.807415Z",
     "iopub.status.busy": "2025-08-19T18:54:07.805751Z",
     "iopub.status.idle": "2025-08-19T18:54:07.828212Z",
     "shell.execute_reply": "2025-08-19T18:54:07.827445Z"
    },
    "papermill": {
     "duration": 0.037901,
     "end_time": "2025-08-19T18:54:07.829394",
     "exception": false,
     "start_time": "2025-08-19T18:54:07.791493",
     "status": "completed"
    },
    "tags": []
   },
   "outputs": [
    {
     "data": {
      "text/html": [
       "<div>\n",
       "<style scoped>\n",
       "    .dataframe tbody tr th:only-of-type {\n",
       "        vertical-align: middle;\n",
       "    }\n",
       "\n",
       "    .dataframe tbody tr th {\n",
       "        vertical-align: top;\n",
       "    }\n",
       "\n",
       "    .dataframe thead th {\n",
       "        text-align: right;\n",
       "    }\n",
       "</style>\n",
       "<table border=\"1\" class=\"dataframe\">\n",
       "  <thead>\n",
       "    <tr style=\"text-align: right;\">\n",
       "      <th></th>\n",
       "      <th>accuracy</th>\n",
       "      <th>balanced accuracy</th>\n",
       "      <th>f1</th>\n",
       "      <th>precision</th>\n",
       "      <th>false positive rate</th>\n",
       "      <th>false negative rate</th>\n",
       "      <th>selection rate</th>\n",
       "      <th>count</th>\n",
       "    </tr>\n",
       "    <tr>\n",
       "      <th>majmin</th>\n",
       "      <th></th>\n",
       "      <th></th>\n",
       "      <th></th>\n",
       "      <th></th>\n",
       "      <th></th>\n",
       "      <th></th>\n",
       "      <th></th>\n",
       "      <th></th>\n",
       "    </tr>\n",
       "  </thead>\n",
       "  <tbody>\n",
       "    <tr>\n",
       "      <th>majority</th>\n",
       "      <td>0.236634</td>\n",
       "      <td>0.536691</td>\n",
       "      <td>0.246418</td>\n",
       "      <td>0.141692</td>\n",
       "      <td>0.871148</td>\n",
       "      <td>0.055470</td>\n",
       "      <td>0.880844</td>\n",
       "      <td>69170.0</td>\n",
       "    </tr>\n",
       "    <tr>\n",
       "      <th>minority</th>\n",
       "      <td>0.145521</td>\n",
       "      <td>0.507171</td>\n",
       "      <td>0.208666</td>\n",
       "      <td>0.116804</td>\n",
       "      <td>0.962855</td>\n",
       "      <td>0.022804</td>\n",
       "      <td>0.964508</td>\n",
       "      <td>20540.0</td>\n",
       "    </tr>\n",
       "  </tbody>\n",
       "</table>\n",
       "</div>"
      ],
      "text/plain": [
       "          accuracy  balanced accuracy        f1  precision  \\\n",
       "majmin                                                       \n",
       "majority  0.236634           0.536691  0.246418   0.141692   \n",
       "minority  0.145521           0.507171  0.208666   0.116804   \n",
       "\n",
       "          false positive rate  false negative rate  selection rate    count  \n",
       "majmin                                                                       \n",
       "majority             0.871148             0.055470        0.880844  69170.0  \n",
       "minority             0.962855             0.022804        0.964508  20540.0  "
      ]
     },
     "execution_count": 60,
     "metadata": {},
     "output_type": "execute_result"
    }
   ],
   "source": [
    "metric_frame.by_group"
   ]
  },
  {
   "cell_type": "code",
   "execution_count": 61,
   "id": "6e6c20ae",
   "metadata": {
    "execution": {
     "iopub.execute_input": "2025-08-19T18:54:07.857456Z",
     "iopub.status.busy": "2025-08-19T18:54:07.856891Z",
     "iopub.status.idle": "2025-08-19T18:54:09.908513Z",
     "shell.execute_reply": "2025-08-19T18:54:09.907363Z"
    },
    "papermill": {
     "duration": 2.067298,
     "end_time": "2025-08-19T18:54:09.910335",
     "exception": false,
     "start_time": "2025-08-19T18:54:07.843037",
     "status": "completed"
    },
    "tags": []
   },
   "outputs": [
    {
     "data": {
      "text/plain": [
       "array([[<Axes: title={'center': 'accuracy'}, xlabel='majmin'>,\n",
       "        <Axes: title={'center': 'balanced accuracy'}, xlabel='majmin'>,\n",
       "        <Axes: title={'center': 'f1'}, xlabel='majmin'>],\n",
       "       [<Axes: title={'center': 'precision'}, xlabel='majmin'>,\n",
       "        <Axes: title={'center': 'false positive rate'}, xlabel='majmin'>,\n",
       "        <Axes: title={'center': 'false negative rate'}, xlabel='majmin'>],\n",
       "       [<Axes: title={'center': 'selection rate'}, xlabel='majmin'>,\n",
       "        <Axes: title={'center': 'count'}, xlabel='majmin'>,\n",
       "        <Axes: xlabel='majmin'>]], dtype=object)"
      ]
     },
     "execution_count": 61,
     "metadata": {},
     "output_type": "execute_result"
    },
    {
     "data": {
      "image/png": "[encoded data removed]",
      "text/plain": [
       "<Figure size 1200x800 with 9 Axes>"
      ]
     },
     "metadata": {},
     "output_type": "display_data"
    }
   ],
   "source": [
    "# In a graphic\n",
    "metric_frame.by_group.plot.bar(\n",
    "    subplots=True,\n",
    "    layout=[3, 3],\n",
    "    legend=False,\n",
    "    figsize=[12, 8],\n",
    "    title=\"Show all metrics\",\n",
    ")"
   ]
  },
  {
   "cell_type": "markdown",
   "id": "b2e433ae",
   "metadata": {
    "papermill": {
     "duration": 0.013743,
     "end_time": "2025-08-19T18:54:09.941602",
     "exception": false,
     "start_time": "2025-08-19T18:54:09.927859",
     "status": "completed"
    },
    "tags": []
   },
   "source": [
    "# Final Output"
   ]
  },
  {
   "cell_type": "code",
   "execution_count": 62,
   "id": "3871301e",
   "metadata": {
    "execution": {
     "iopub.execute_input": "2025-08-19T18:54:09.971531Z",
     "iopub.status.busy": "2025-08-19T18:54:09.970573Z",
     "iopub.status.idle": "2025-08-19T18:54:09.981215Z",
     "shell.execute_reply": "2025-08-19T18:54:09.980417Z"
    },
    "papermill": {
     "duration": 0.029324,
     "end_time": "2025-08-19T18:54:09.984748",
     "exception": false,
     "start_time": "2025-08-19T18:54:09.955424",
     "status": "completed"
    },
    "tags": []
   },
   "outputs": [
    {
     "data": {
      "text/plain": [
       "4"
      ]
     },
     "execution_count": 62,
     "metadata": {},
     "output_type": "execute_result"
    }
   ],
   "source": [
    "sub_universes = universe_analysis.generate_sub_universes()\n",
    "len(sub_universes)"
   ]
  },
  {
   "cell_type": "code",
   "execution_count": 63,
   "id": "d9cfdaca",
   "metadata": {
    "execution": {
     "iopub.execute_input": "2025-08-19T18:54:10.014254Z",
     "iopub.status.busy": "2025-08-19T18:54:10.013917Z",
     "iopub.status.idle": "2025-08-19T18:54:10.028926Z",
     "shell.execute_reply": "2025-08-19T18:54:10.027861Z"
    },
    "papermill": {
     "duration": 0.031689,
     "end_time": "2025-08-19T18:54:10.030517",
     "exception": false,
     "start_time": "2025-08-19T18:54:09.998828",
     "status": "completed"
    },
    "tags": []
   },
   "outputs": [],
   "source": [
    "def filter_sub_universe_data(sub_universe, org_test):\n",
    "    # Keep all rows — no filtering\n",
    "    keep_rows_mask = np.ones(org_test.shape[0], dtype=bool)\n",
    "\n",
    "    print(f\"[INFO] Keeping all rows: {keep_rows_mask.sum()} rows retained.\")\n",
    "    return keep_rows_mask"
   ]
  },
  {
   "cell_type": "code",
   "execution_count": 64,
   "id": "2bc31ac1",
   "metadata": {
    "execution": {
     "iopub.execute_input": "2025-08-19T18:54:10.067322Z",
     "iopub.status.busy": "2025-08-19T18:54:10.066977Z",
     "iopub.status.idle": "2025-08-19T18:54:16.855461Z",
     "shell.execute_reply": "2025-08-19T18:54:16.854399Z"
    },
    "papermill": {
     "duration": 6.8051,
     "end_time": "2025-08-19T18:54:16.856898",
     "exception": false,
     "start_time": "2025-08-19T18:54:10.051798",
     "status": "completed"
    },
    "tags": []
   },
   "outputs": [
    {
     "name": "stdout",
     "output_type": "stream",
     "text": [
      "Stopping execution_time clock.\n",
      "[INFO] Keeping all rows: 89710 rows retained.\n"
     ]
    },
    {
     "name": "stdout",
     "output_type": "stream",
     "text": [
      "[INFO] Keeping all rows: 89710 rows retained.\n"
     ]
    },
    {
     "name": "stdout",
     "output_type": "stream",
     "text": [
      "[INFO] Keeping all rows: 89710 rows retained.\n"
     ]
    },
    {
     "name": "stdout",
     "output_type": "stream",
     "text": [
      "[INFO] Keeping all rows: 89710 rows retained.\n"
     ]
    },
    {
     "data": {
      "text/html": [
       "<div>\n",
       "<style scoped>\n",
       "    .dataframe tbody tr th:only-of-type {\n",
       "        vertical-align: middle;\n",
       "    }\n",
       "\n",
       "    .dataframe tbody tr th {\n",
       "        vertical-align: top;\n",
       "    }\n",
       "\n",
       "    .dataframe thead th {\n",
       "        text-align: right;\n",
       "    }\n",
       "</style>\n",
       "<table border=\"1\" class=\"dataframe\">\n",
       "  <thead>\n",
       "    <tr style=\"text-align: right;\">\n",
       "      <th></th>\n",
       "      <th>run_no</th>\n",
       "      <th>universe_id</th>\n",
       "      <th>universe_settings</th>\n",
       "      <th>execution_time</th>\n",
       "      <th>test_size_n</th>\n",
       "      <th>test_size_frac</th>\n",
       "      <th>fair_main_equalized_odds_difference</th>\n",
       "      <th>fair_main_equalized_odds_ratio</th>\n",
       "      <th>fair_main_demographic_parity_difference</th>\n",
       "      <th>fair_main_demographic_parity_ratio</th>\n",
       "      <th>...</th>\n",
       "      <th>perf_grp_precision_0</th>\n",
       "      <th>perf_grp_precision_1</th>\n",
       "      <th>perf_grp_false positive rate_0</th>\n",
       "      <th>perf_grp_false positive rate_1</th>\n",
       "      <th>perf_grp_false negative rate_0</th>\n",
       "      <th>perf_grp_false negative rate_1</th>\n",
       "      <th>perf_grp_selection rate_0</th>\n",
       "      <th>perf_grp_selection rate_1</th>\n",
       "      <th>perf_grp_count_0</th>\n",
       "      <th>perf_grp_count_1</th>\n",
       "    </tr>\n",
       "  </thead>\n",
       "  <tbody>\n",
       "    <tr>\n",
       "      <th>0</th>\n",
       "      <td>3</td>\n",
       "      <td>1161f3d75ce60397e97a73c623a69305</td>\n",
       "      <td>{\"cutoff\": \"quantile_0.1\", \"eval_fairness_grou...</td>\n",
       "      <td>21.611629</td>\n",
       "      <td>89710</td>\n",
       "      <td>1.0</td>\n",
       "      <td>0.091707</td>\n",
       "      <td>0.904755</td>\n",
       "      <td>0.083664</td>\n",
       "      <td>0.913257</td>\n",
       "      <td>...</td>\n",
       "      <td>NaN</td>\n",
       "      <td>NaN</td>\n",
       "      <td>NaN</td>\n",
       "      <td>NaN</td>\n",
       "      <td>NaN</td>\n",
       "      <td>NaN</td>\n",
       "      <td>NaN</td>\n",
       "      <td>NaN</td>\n",
       "      <td>NaN</td>\n",
       "      <td>NaN</td>\n",
       "    </tr>\n",
       "    <tr>\n",
       "      <th>0</th>\n",
       "      <td>3</td>\n",
       "      <td>1161f3d75ce60397e97a73c623a69305</td>\n",
       "      <td>{\"cutoff\": \"quantile_0.1\", \"eval_fairness_grou...</td>\n",
       "      <td>21.611629</td>\n",
       "      <td>89710</td>\n",
       "      <td>1.0</td>\n",
       "      <td>0.091707</td>\n",
       "      <td>0.904755</td>\n",
       "      <td>0.083664</td>\n",
       "      <td>0.913257</td>\n",
       "      <td>...</td>\n",
       "      <td>0.116804</td>\n",
       "      <td>0.141692</td>\n",
       "      <td>0.962855</td>\n",
       "      <td>0.871148</td>\n",
       "      <td>0.022804</td>\n",
       "      <td>0.055470</td>\n",
       "      <td>0.964508</td>\n",
       "      <td>0.880844</td>\n",
       "      <td>20540.0</td>\n",
       "      <td>69170.0</td>\n",
       "    </tr>\n",
       "    <tr>\n",
       "      <th>0</th>\n",
       "      <td>3</td>\n",
       "      <td>1161f3d75ce60397e97a73c623a69305</td>\n",
       "      <td>{\"cutoff\": \"quantile_0.25\", \"eval_fairness_gro...</td>\n",
       "      <td>21.611629</td>\n",
       "      <td>89710</td>\n",
       "      <td>1.0</td>\n",
       "      <td>0.215141</td>\n",
       "      <td>0.760825</td>\n",
       "      <td>0.198275</td>\n",
       "      <td>0.780395</td>\n",
       "      <td>...</td>\n",
       "      <td>NaN</td>\n",
       "      <td>NaN</td>\n",
       "      <td>NaN</td>\n",
       "      <td>NaN</td>\n",
       "      <td>NaN</td>\n",
       "      <td>NaN</td>\n",
       "      <td>NaN</td>\n",
       "      <td>NaN</td>\n",
       "      <td>NaN</td>\n",
       "      <td>NaN</td>\n",
       "    </tr>\n",
       "    <tr>\n",
       "      <th>0</th>\n",
       "      <td>3</td>\n",
       "      <td>1161f3d75ce60397e97a73c623a69305</td>\n",
       "      <td>{\"cutoff\": \"quantile_0.25\", \"eval_fairness_gro...</td>\n",
       "      <td>21.611629</td>\n",
       "      <td>89710</td>\n",
       "      <td>1.0</td>\n",
       "      <td>0.215141</td>\n",
       "      <td>0.760825</td>\n",
       "      <td>0.198275</td>\n",
       "      <td>0.780395</td>\n",
       "      <td>...</td>\n",
       "      <td>0.118576</td>\n",
       "      <td>0.157047</td>\n",
       "      <td>0.899516</td>\n",
       "      <td>0.684374</td>\n",
       "      <td>0.071368</td>\n",
       "      <td>0.162582</td>\n",
       "      <td>0.902872</td>\n",
       "      <td>0.704597</td>\n",
       "      <td>20540.0</td>\n",
       "      <td>69170.0</td>\n",
       "    </tr>\n",
       "  </tbody>\n",
       "</table>\n",
       "<p>4 rows × 50 columns</p>\n",
       "</div>"
      ],
      "text/plain": [
       "  run_no                       universe_id  \\\n",
       "0      3  1161f3d75ce60397e97a73c623a69305   \n",
       "0      3  1161f3d75ce60397e97a73c623a69305   \n",
       "0      3  1161f3d75ce60397e97a73c623a69305   \n",
       "0      3  1161f3d75ce60397e97a73c623a69305   \n",
       "\n",
       "                                   universe_settings  execution_time  \\\n",
       "0  {\"cutoff\": \"quantile_0.1\", \"eval_fairness_grou...       21.611629   \n",
       "0  {\"cutoff\": \"quantile_0.1\", \"eval_fairness_grou...       21.611629   \n",
       "0  {\"cutoff\": \"quantile_0.25\", \"eval_fairness_gro...       21.611629   \n",
       "0  {\"cutoff\": \"quantile_0.25\", \"eval_fairness_gro...       21.611629   \n",
       "\n",
       "   test_size_n  test_size_frac  fair_main_equalized_odds_difference  \\\n",
       "0        89710             1.0                             0.091707   \n",
       "0        89710             1.0                             0.091707   \n",
       "0        89710             1.0                             0.215141   \n",
       "0        89710             1.0                             0.215141   \n",
       "\n",
       "   fair_main_equalized_odds_ratio  fair_main_demographic_parity_difference  \\\n",
       "0                        0.904755                                 0.083664   \n",
       "0                        0.904755                                 0.083664   \n",
       "0                        0.760825                                 0.198275   \n",
       "0                        0.760825                                 0.198275   \n",
       "\n",
       "   fair_main_demographic_parity_ratio  ...  perf_grp_precision_0  \\\n",
       "0                            0.913257  ...                   NaN   \n",
       "0                            0.913257  ...              0.116804   \n",
       "0                            0.780395  ...                   NaN   \n",
       "0                            0.780395  ...              0.118576   \n",
       "\n",
       "   perf_grp_precision_1  perf_grp_false positive rate_0  \\\n",
       "0                   NaN                             NaN   \n",
       "0              0.141692                        0.962855   \n",
       "0                   NaN                             NaN   \n",
       "0              0.157047                        0.899516   \n",
       "\n",
       "   perf_grp_false positive rate_1  perf_grp_false negative rate_0  \\\n",
       "0                             NaN                             NaN   \n",
       "0                        0.871148                        0.022804   \n",
       "0                             NaN                             NaN   \n",
       "0                        0.684374                        0.071368   \n",
       "\n",
       "   perf_grp_false negative rate_1  perf_grp_selection rate_0  \\\n",
       "0                             NaN                        NaN   \n",
       "0                        0.055470                   0.964508   \n",
       "0                             NaN                        NaN   \n",
       "0                        0.162582                   0.902872   \n",
       "\n",
       "   perf_grp_selection rate_1  perf_grp_count_0  perf_grp_count_1  \n",
       "0                        NaN               NaN               NaN  \n",
       "0                   0.880844           20540.0           69170.0  \n",
       "0                        NaN               NaN               NaN  \n",
       "0                   0.704597           20540.0           69170.0  \n",
       "\n",
       "[4 rows x 50 columns]"
      ]
     },
     "execution_count": 64,
     "metadata": {},
     "output_type": "execute_result"
    }
   ],
   "source": [
    "final_output = universe_analysis.generate_final_output(\n",
    "    y_pred_prob=probs_test,\n",
    "    y_test=y_true,\n",
    "    org_test=org_test,\n",
    "    filter_data=filter_sub_universe_data,\n",
    "    cp_metrics_df=cp_metrics_df,\n",
    "    save=True,\n",
    ")\n",
    "final_output"
   ]
  },
  {
   "cell_type": "code",
   "execution_count": null,
   "id": "8b80a1ff",
   "metadata": {
    "papermill": {
     "duration": 0.026883,
     "end_time": "2025-08-19T18:54:16.911770",
     "exception": false,
     "start_time": "2025-08-19T18:54:16.884887",
     "status": "completed"
    },
    "tags": []
   },
   "outputs": [],
   "source": []
  },
  {
   "cell_type": "code",
   "execution_count": null,
   "id": "275c9fad",
   "metadata": {
    "papermill": {
     "duration": 0.037836,
     "end_time": "2025-08-19T18:54:16.994656",
     "exception": false,
     "start_time": "2025-08-19T18:54:16.956820",
     "status": "completed"
    },
    "tags": []
   },
   "outputs": [],
   "source": []
  }
 ],
 "metadata": {
  "celltoolbar": "Tags",
  "kernelspec": {
   "display_name": "Python (CMA Fairness)",
   "language": "python",
   "name": "cma_fair_env"
  },
  "language_info": {
   "codemirror_mode": {
    "name": "ipython",
    "version": 3
   },
   "file_extension": ".py",
   "mimetype": "text/x-python",
   "name": "python",
   "nbconvert_exporter": "python",
   "pygments_lexer": "ipython3",
   "version": "3.10.12"
  },
  "papermill": {
   "default_parameters": {},
   "duration": 32.650621,
   "end_time": "2025-08-19T18:54:17.932528",
   "environment_variables": {},
   "exception": null,
   "input_path": "universe_analysis.ipynb",
   "output_path": "output/runs/3/notebooks/m_3-1161f3d75ce60397e97a73c623a69305.ipynb",
   "parameters": {
    "output_dir": "output",
    "run_no": "3",
    "seed": "2023",
    "universe": "{\"cutoff\": [\"quantile_0.1\", \"quantile_0.25\"], \"eval_fairness_grouping\": [\"majority-minority\", \"nationality-all\"], \"exclude_features\": \"nationality-sex\", \"exclude_subgroups\": \"drop-non-german\", \"model\": \"penalized_logreg\", \"scale\": \"do-not-scale\", \"training_size\": \"1k\", \"training_year\": \"2014\"}",
    "universe_id": "1161f3d75ce60397e97a73c623a69305"
   },
   "start_time": "2025-08-19T18:53:45.281907",
   "version": "2.6.0"
  }
 },
 "nbformat": 4,
 "nbformat_minor": 5
}