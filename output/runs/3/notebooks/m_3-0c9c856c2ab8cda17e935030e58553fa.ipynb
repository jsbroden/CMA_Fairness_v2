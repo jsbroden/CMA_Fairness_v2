{
 "cells": [
  {
   "cell_type": "markdown",
   "id": "ef23dbb3",
   "metadata": {
    "papermill": {
     "duration": 0.01251,
     "end_time": "2025-08-19T18:59:08.977281",
     "exception": false,
     "start_time": "2025-08-19T18:59:08.964771",
     "status": "completed"
    },
    "tags": []
   },
   "source": [
    "# Setup"
   ]
  },
  {
   "cell_type": "code",
   "execution_count": 1,
   "id": "0bc8e7dc",
   "metadata": {
    "execution": {
     "iopub.execute_input": "2025-08-19T18:59:09.014052Z",
     "iopub.status.busy": "2025-08-19T18:59:09.013577Z",
     "iopub.status.idle": "2025-08-19T18:59:09.024986Z",
     "shell.execute_reply": "2025-08-19T18:59:09.024305Z"
    },
    "papermill": {
     "duration": 0.040981,
     "end_time": "2025-08-19T18:59:09.030548",
     "exception": false,
     "start_time": "2025-08-19T18:59:08.989567",
     "status": "completed"
    },
    "tags": []
   },
   "outputs": [
    {
     "name": "stdout",
     "output_type": "stream",
     "text": [
      "/dss/dsshome1/0C/ra93lal2/cma/CMA_Fairness_v2\n"
     ]
    },
    {
     "name": "stderr",
     "output_type": "stream",
     "text": [
      "/dss/dsshome1/0C/ra93lal2/.local/share/virtualenvs/CMA_Fairness_v2-3j10GkSs/lib/python3.10/site-packages/IPython/core/magics/osm.py:393: UserWarning: This is now an optional IPython functionality, using bookmarks requires you to install the `pickleshare` library.\n",
      "  bkms = self.shell.db.get('bookmarks', {})\n",
      "/dss/dsshome1/0C/ra93lal2/.local/share/virtualenvs/CMA_Fairness_v2-3j10GkSs/lib/python3.10/site-packages/IPython/core/magics/osm.py:417: UserWarning: This is now an optional IPython functionality, setting dhist requires you to install the `pickleshare` library.\n",
      "  self.shell.db['dhist'] = compress_dhist(dhist)[-100:]\n"
     ]
    }
   ],
   "source": [
    "%cd ~/cma/CMA_Fairness_v2"
   ]
  },
  {
   "cell_type": "markdown",
   "id": "9d235661",
   "metadata": {
    "papermill": {
     "duration": 0.009235,
     "end_time": "2025-08-19T18:59:09.054783",
     "exception": false,
     "start_time": "2025-08-19T18:59:09.045548",
     "status": "completed"
    },
    "tags": []
   },
   "source": [
    "The following cell holds the definition of our parameters, these values can be overriden by rendering the with e.g. the following command:\n",
    "\n",
    "papermill -p alpha 0.2 -p ratio 0.3 universe_analysis.ipynb output/test_run.ipynb"
   ]
  },
  {
   "cell_type": "code",
   "execution_count": 2,
   "id": "4a789d8e",
   "metadata": {
    "execution": {
     "iopub.execute_input": "2025-08-19T18:59:09.076365Z",
     "iopub.status.busy": "2025-08-19T18:59:09.075397Z",
     "iopub.status.idle": "2025-08-19T18:59:09.085503Z",
     "shell.execute_reply": "2025-08-19T18:59:09.084722Z"
    },
    "papermill": {
     "duration": 0.025129,
     "end_time": "2025-08-19T18:59:09.089381",
     "exception": false,
     "start_time": "2025-08-19T18:59:09.064252",
     "status": "completed"
    },
    "tags": []
   },
   "outputs": [
    {
     "name": "stdout",
     "output_type": "stream",
     "text": [
      "Current working directory: /dss/dsshome1/0C/ra93lal2/cma/CMA_Fairness_v2\n"
     ]
    }
   ],
   "source": [
    "import os\n",
    "print(\"Current working directory:\", os.getcwd())"
   ]
  },
  {
   "cell_type": "code",
   "execution_count": 3,
   "id": "4132aaed",
   "metadata": {
    "execution": {
     "iopub.execute_input": "2025-08-19T18:59:09.118425Z",
     "iopub.status.busy": "2025-08-19T18:59:09.117450Z",
     "iopub.status.idle": "2025-08-19T18:59:09.127350Z",
     "shell.execute_reply": "2025-08-19T18:59:09.125875Z"
    },
    "papermill": {
     "duration": 0.023149,
     "end_time": "2025-08-19T18:59:09.129280",
     "exception": false,
     "start_time": "2025-08-19T18:59:09.106131",
     "status": "completed"
    },
    "tags": [
     "parameters"
    ]
   },
   "outputs": [],
   "source": [
    "run_no = 0\n",
    "universe_id = \"test\"\n",
    "universe = {\n",
    "    \"training_size\": \"5k\", # \"25k\", \"5k\", \"1k\"\n",
    "    \"training_year\": \"2012_14\", # \"2014\", \"2012_14\", \"2010_14\"\n",
    "    \"scale\": \"scale\", # \"scale\", \"do-not-scale\",\n",
    "    \"model\": \"elasticnet\", # \"logreg\", \"penalized_logreg\", \"rf\", \"gbm\", \"elasticnet\"\n",
    "    \"cutoff\": [\"quantile_0.15\", \"quantile_0.30\"],\n",
    "    \"exclude_features\": \"age\", # \"none\", \"nationality\", \"sex\", \"nationality-sex\", \"age\"\n",
    "    \"exclude_subgroups\": \"drop-non-german\", # \"keep-all\", \"drop-non-german\"\n",
    "    \"eval_fairness_grouping\": [\"majority-minority\", \"nationality-all\"]\n",
    "}\n",
    "\n",
    "output_dir=\"./output\"\n",
    "seed=0"
   ]
  },
  {
   "cell_type": "code",
   "execution_count": 4,
   "id": "c33e544a",
   "metadata": {
    "execution": {
     "iopub.execute_input": "2025-08-19T18:59:09.153164Z",
     "iopub.status.busy": "2025-08-19T18:59:09.152224Z",
     "iopub.status.idle": "2025-08-19T18:59:09.161047Z",
     "shell.execute_reply": "2025-08-19T18:59:09.159381Z"
    },
    "papermill": {
     "duration": 0.021021,
     "end_time": "2025-08-19T18:59:09.162694",
     "exception": false,
     "start_time": "2025-08-19T18:59:09.141673",
     "status": "completed"
    },
    "tags": [
     "injected-parameters"
    ]
   },
   "outputs": [],
   "source": [
    "# Parameters\n",
    "universe_id = \"0c9c856c2ab8cda17e935030e58553fa\"\n",
    "run_no = \"3\"\n",
    "universe = \"{\\\"cutoff\\\": [\\\"quantile_0.1\\\", \\\"quantile_0.25\\\"], \\\"eval_fairness_grouping\\\": [\\\"majority-minority\\\", \\\"nationality-all\\\"], \\\"exclude_features\\\": \\\"nationality\\\", \\\"exclude_subgroups\\\": \\\"drop-non-german\\\", \\\"model\\\": \\\"gbm\\\", \\\"scale\\\": \\\"scale\\\", \\\"training_size\\\": \\\"1k\\\", \\\"training_year\\\": \\\"2012_14\\\"}\"\n",
    "output_dir = \"output\"\n",
    "seed = \"2023\"\n"
   ]
  },
  {
   "cell_type": "code",
   "execution_count": 5,
   "id": "a5d7941f",
   "metadata": {
    "execution": {
     "iopub.execute_input": "2025-08-19T18:59:09.183737Z",
     "iopub.status.busy": "2025-08-19T18:59:09.182671Z",
     "iopub.status.idle": "2025-08-19T18:59:09.190640Z",
     "shell.execute_reply": "2025-08-19T18:59:09.188990Z"
    },
    "papermill": {
     "duration": 0.020124,
     "end_time": "2025-08-19T18:59:09.192311",
     "exception": false,
     "start_time": "2025-08-19T18:59:09.172187",
     "status": "completed"
    },
    "tags": []
   },
   "outputs": [],
   "source": [
    "import json\n",
    "if isinstance(universe, str):\n",
    "    universe = json.loads(universe)"
   ]
  },
  {
   "cell_type": "code",
   "execution_count": 6,
   "id": "7076ccb1",
   "metadata": {
    "execution": {
     "iopub.execute_input": "2025-08-19T18:59:09.212988Z",
     "iopub.status.busy": "2025-08-19T18:59:09.211948Z",
     "iopub.status.idle": "2025-08-19T18:59:09.262601Z",
     "shell.execute_reply": "2025-08-19T18:59:09.261614Z"
    },
    "papermill": {
     "duration": 0.064324,
     "end_time": "2025-08-19T18:59:09.265954",
     "exception": false,
     "start_time": "2025-08-19T18:59:09.201630",
     "status": "completed"
    },
    "tags": []
   },
   "outputs": [],
   "source": [
    "# Auto-reload the custom package\n",
    "%load_ext autoreload\n",
    "%autoreload 1\n",
    "%aimport fairness_multiverse"
   ]
  },
  {
   "cell_type": "code",
   "execution_count": 7,
   "id": "94c8eb93",
   "metadata": {
    "execution": {
     "iopub.execute_input": "2025-08-19T18:59:09.301863Z",
     "iopub.status.busy": "2025-08-19T18:59:09.301060Z",
     "iopub.status.idle": "2025-08-19T18:59:10.823200Z",
     "shell.execute_reply": "2025-08-19T18:59:10.822202Z"
    },
    "papermill": {
     "duration": 1.536939,
     "end_time": "2025-08-19T18:59:10.825095",
     "exception": false,
     "start_time": "2025-08-19T18:59:09.288156",
     "status": "completed"
    },
    "tags": []
   },
   "outputs": [],
   "source": [
    "from fairness_multiverse.universe import UniverseAnalysis\n",
    "\n",
    "universe_analysis = UniverseAnalysis(\n",
    "    run_no = run_no,\n",
    "    universe_id = universe_id,\n",
    "    universe = universe,\n",
    "    output_dir=output_dir,\n",
    ")"
   ]
  },
  {
   "cell_type": "code",
   "execution_count": 8,
   "id": "2a6381cf",
   "metadata": {
    "execution": {
     "iopub.execute_input": "2025-08-19T18:59:10.846587Z",
     "iopub.status.busy": "2025-08-19T18:59:10.845821Z",
     "iopub.status.idle": "2025-08-19T18:59:10.851509Z",
     "shell.execute_reply": "2025-08-19T18:59:10.850890Z"
    },
    "papermill": {
     "duration": 0.01886,
     "end_time": "2025-08-19T18:59:10.854093",
     "exception": false,
     "start_time": "2025-08-19T18:59:10.835233",
     "status": "completed"
    },
    "tags": []
   },
   "outputs": [
    {
     "name": "stdout",
     "output_type": "stream",
     "text": [
      "Using Seed: 2023\n"
     ]
    }
   ],
   "source": [
    "import numpy as np\n",
    "parsed_seed = int(seed)\n",
    "np.random.seed(parsed_seed)\n",
    "print(f\"Using Seed: {parsed_seed}\")"
   ]
  },
  {
   "cell_type": "markdown",
   "id": "b6e958b4",
   "metadata": {
    "papermill": {
     "duration": 0.011379,
     "end_time": "2025-08-19T18:59:10.886430",
     "exception": false,
     "start_time": "2025-08-19T18:59:10.875051",
     "status": "completed"
    },
    "tags": []
   },
   "source": [
    "# Loading Data"
   ]
  },
  {
   "cell_type": "code",
   "execution_count": 9,
   "id": "98701482",
   "metadata": {
    "execution": {
     "iopub.execute_input": "2025-08-19T18:59:10.907441Z",
     "iopub.status.busy": "2025-08-19T18:59:10.906388Z",
     "iopub.status.idle": "2025-08-19T18:59:21.225515Z",
     "shell.execute_reply": "2025-08-19T18:59:21.224616Z"
    },
    "papermill": {
     "duration": 10.331783,
     "end_time": "2025-08-19T18:59:21.227262",
     "exception": false,
     "start_time": "2025-08-19T18:59:10.895479",
     "status": "completed"
    },
    "tags": []
   },
   "outputs": [
    {
     "name": "stdout",
     "output_type": "stream",
     "text": [
      "Loading SIAB data from cache: data/siab_cached.csv.gz\n"
     ]
    },
    {
     "name": "stdout",
     "output_type": "stream",
     "text": [
      "(643690, 164)\n"
     ]
    }
   ],
   "source": [
    "from pathlib import Path\n",
    "import pandas as pd\n",
    "\n",
    "# File paths\n",
    "raw_file = Path(\"data/raw/siab.csv\")\n",
    "cache_file = Path(\"data/siab_cached.csv.gz\")\n",
    "\n",
    "# Ensure cache directory exists\n",
    "cache_file.parent.mkdir(parents=True, exist_ok=True)\n",
    "\n",
    "# Load with simple caching\n",
    "if cache_file.exists():\n",
    "    print(f\"Loading SIAB data from cache: {cache_file}\")\n",
    "    siab = pd.read_csv(cache_file, compression='gzip')\n",
    "else:\n",
    "    print(f\"Cache not found. Reading raw SIAB data: {raw_file}\")\n",
    "    siab = pd.read_csv(raw_file)\n",
    "    siab.to_csv(cache_file, index=False, compression='gzip')\n",
    "    print(f\"Cached SIAB data to: {cache_file}\")\n",
    "\n",
    "print(siab.shape)"
   ]
  },
  {
   "cell_type": "code",
   "execution_count": 10,
   "id": "058d2abb",
   "metadata": {
    "execution": {
     "iopub.execute_input": "2025-08-19T18:59:21.267606Z",
     "iopub.status.busy": "2025-08-19T18:59:21.267134Z",
     "iopub.status.idle": "2025-08-19T18:59:21.389354Z",
     "shell.execute_reply": "2025-08-19T18:59:21.388165Z"
    },
    "papermill": {
     "duration": 0.148833,
     "end_time": "2025-08-19T18:59:21.394394",
     "exception": false,
     "start_time": "2025-08-19T18:59:21.245561",
     "status": "completed"
    },
    "tags": []
   },
   "outputs": [
    {
     "data": {
      "text/html": [
       "<div>\n",
       "<style scoped>\n",
       "    .dataframe tbody tr th:only-of-type {\n",
       "        vertical-align: middle;\n",
       "    }\n",
       "\n",
       "    .dataframe tbody tr th {\n",
       "        vertical-align: top;\n",
       "    }\n",
       "\n",
       "    .dataframe thead th {\n",
       "        text-align: right;\n",
       "    }\n",
       "</style>\n",
       "<table border=\"1\" class=\"dataframe\">\n",
       "  <thead>\n",
       "    <tr style=\"text-align: right;\">\n",
       "      <th></th>\n",
       "      <th>persnr</th>\n",
       "      <th>year</th>\n",
       "      <th>nrEntry</th>\n",
       "      <th>ltue</th>\n",
       "      <th>employed_before</th>\n",
       "      <th>receipt_leh_before</th>\n",
       "      <th>receipt_lhg_before</th>\n",
       "      <th>se_before</th>\n",
       "      <th>ASU_notue_seeking_before</th>\n",
       "      <th>ASU_other_before</th>\n",
       "      <th>...</th>\n",
       "      <th>minijob_tot_dur_byage</th>\n",
       "      <th>ft_tot_dur_byage</th>\n",
       "      <th>befrist_tot_dur_byage</th>\n",
       "      <th>leih_tot_dur_byage</th>\n",
       "      <th>LHG_tot_dur_byage</th>\n",
       "      <th>LEH_tot_dur_byage</th>\n",
       "      <th>almp_tot_dur_byage</th>\n",
       "      <th>almp_aw_tot_dur_byage</th>\n",
       "      <th>se_tot_dur_byage</th>\n",
       "      <th>seeking1_tot_dur_byage</th>\n",
       "    </tr>\n",
       "  </thead>\n",
       "  <tbody>\n",
       "    <tr>\n",
       "      <th>0</th>\n",
       "      <td>7</td>\n",
       "      <td>2015</td>\n",
       "      <td>1</td>\n",
       "      <td>0</td>\n",
       "      <td>1</td>\n",
       "      <td>0</td>\n",
       "      <td>0</td>\n",
       "      <td>0</td>\n",
       "      <td>1</td>\n",
       "      <td>0</td>\n",
       "      <td>...</td>\n",
       "      <td>0.000000</td>\n",
       "      <td>0.000000</td>\n",
       "      <td>15.043478</td>\n",
       "      <td>0.000000</td>\n",
       "      <td>0.000000</td>\n",
       "      <td>0.000000</td>\n",
       "      <td>0.000000</td>\n",
       "      <td>0.000000</td>\n",
       "      <td>0.000000</td>\n",
       "      <td>0.000000</td>\n",
       "    </tr>\n",
       "    <tr>\n",
       "      <th>1</th>\n",
       "      <td>18</td>\n",
       "      <td>2010</td>\n",
       "      <td>1</td>\n",
       "      <td>1</td>\n",
       "      <td>0</td>\n",
       "      <td>0</td>\n",
       "      <td>0</td>\n",
       "      <td>0</td>\n",
       "      <td>0</td>\n",
       "      <td>0</td>\n",
       "      <td>...</td>\n",
       "      <td>0.000000</td>\n",
       "      <td>0.000000</td>\n",
       "      <td>0.000000</td>\n",
       "      <td>0.000000</td>\n",
       "      <td>0.000000</td>\n",
       "      <td>0.000000</td>\n",
       "      <td>0.000000</td>\n",
       "      <td>0.000000</td>\n",
       "      <td>0.000000</td>\n",
       "      <td>0.000000</td>\n",
       "    </tr>\n",
       "    <tr>\n",
       "      <th>2</th>\n",
       "      <td>18</td>\n",
       "      <td>2011</td>\n",
       "      <td>2</td>\n",
       "      <td>0</td>\n",
       "      <td>1</td>\n",
       "      <td>0</td>\n",
       "      <td>1</td>\n",
       "      <td>0</td>\n",
       "      <td>1</td>\n",
       "      <td>0</td>\n",
       "      <td>...</td>\n",
       "      <td>2.714286</td>\n",
       "      <td>2.714286</td>\n",
       "      <td>0.000000</td>\n",
       "      <td>0.000000</td>\n",
       "      <td>10.775510</td>\n",
       "      <td>0.000000</td>\n",
       "      <td>8.367347</td>\n",
       "      <td>0.000000</td>\n",
       "      <td>0.000000</td>\n",
       "      <td>9.836735</td>\n",
       "    </tr>\n",
       "    <tr>\n",
       "      <th>3</th>\n",
       "      <td>18</td>\n",
       "      <td>2012</td>\n",
       "      <td>3</td>\n",
       "      <td>0</td>\n",
       "      <td>1</td>\n",
       "      <td>0</td>\n",
       "      <td>1</td>\n",
       "      <td>0</td>\n",
       "      <td>1</td>\n",
       "      <td>0</td>\n",
       "      <td>...</td>\n",
       "      <td>4.200000</td>\n",
       "      <td>4.200000</td>\n",
       "      <td>0.000000</td>\n",
       "      <td>0.000000</td>\n",
       "      <td>12.100000</td>\n",
       "      <td>0.000000</td>\n",
       "      <td>9.400000</td>\n",
       "      <td>0.000000</td>\n",
       "      <td>0.000000</td>\n",
       "      <td>9.960000</td>\n",
       "    </tr>\n",
       "    <tr>\n",
       "      <th>4</th>\n",
       "      <td>18</td>\n",
       "      <td>2012</td>\n",
       "      <td>4</td>\n",
       "      <td>0</td>\n",
       "      <td>1</td>\n",
       "      <td>0</td>\n",
       "      <td>1</td>\n",
       "      <td>0</td>\n",
       "      <td>1</td>\n",
       "      <td>0</td>\n",
       "      <td>...</td>\n",
       "      <td>5.460000</td>\n",
       "      <td>5.460000</td>\n",
       "      <td>0.000000</td>\n",
       "      <td>0.000000</td>\n",
       "      <td>13.360000</td>\n",
       "      <td>0.000000</td>\n",
       "      <td>10.320000</td>\n",
       "      <td>0.000000</td>\n",
       "      <td>0.000000</td>\n",
       "      <td>10.280000</td>\n",
       "    </tr>\n",
       "    <tr>\n",
       "      <th>...</th>\n",
       "      <td>...</td>\n",
       "      <td>...</td>\n",
       "      <td>...</td>\n",
       "      <td>...</td>\n",
       "      <td>...</td>\n",
       "      <td>...</td>\n",
       "      <td>...</td>\n",
       "      <td>...</td>\n",
       "      <td>...</td>\n",
       "      <td>...</td>\n",
       "      <td>...</td>\n",
       "      <td>...</td>\n",
       "      <td>...</td>\n",
       "      <td>...</td>\n",
       "      <td>...</td>\n",
       "      <td>...</td>\n",
       "      <td>...</td>\n",
       "      <td>...</td>\n",
       "      <td>...</td>\n",
       "      <td>...</td>\n",
       "      <td>...</td>\n",
       "    </tr>\n",
       "    <tr>\n",
       "      <th>643685</th>\n",
       "      <td>1827860</td>\n",
       "      <td>2013</td>\n",
       "      <td>1</td>\n",
       "      <td>0</td>\n",
       "      <td>0</td>\n",
       "      <td>0</td>\n",
       "      <td>1</td>\n",
       "      <td>0</td>\n",
       "      <td>0</td>\n",
       "      <td>1</td>\n",
       "      <td>...</td>\n",
       "      <td>0.000000</td>\n",
       "      <td>0.000000</td>\n",
       "      <td>0.000000</td>\n",
       "      <td>0.000000</td>\n",
       "      <td>0.612903</td>\n",
       "      <td>0.000000</td>\n",
       "      <td>0.000000</td>\n",
       "      <td>0.000000</td>\n",
       "      <td>0.000000</td>\n",
       "      <td>0.000000</td>\n",
       "    </tr>\n",
       "    <tr>\n",
       "      <th>643686</th>\n",
       "      <td>1827860</td>\n",
       "      <td>2015</td>\n",
       "      <td>2</td>\n",
       "      <td>1</td>\n",
       "      <td>0</td>\n",
       "      <td>0</td>\n",
       "      <td>1</td>\n",
       "      <td>0</td>\n",
       "      <td>1</td>\n",
       "      <td>0</td>\n",
       "      <td>...</td>\n",
       "      <td>0.000000</td>\n",
       "      <td>0.000000</td>\n",
       "      <td>0.212121</td>\n",
       "      <td>0.212121</td>\n",
       "      <td>17.363636</td>\n",
       "      <td>0.000000</td>\n",
       "      <td>8.909091</td>\n",
       "      <td>0.000000</td>\n",
       "      <td>0.000000</td>\n",
       "      <td>7.121212</td>\n",
       "    </tr>\n",
       "    <tr>\n",
       "      <th>643687</th>\n",
       "      <td>1827860</td>\n",
       "      <td>2016</td>\n",
       "      <td>3</td>\n",
       "      <td>1</td>\n",
       "      <td>0</td>\n",
       "      <td>0</td>\n",
       "      <td>1</td>\n",
       "      <td>1</td>\n",
       "      <td>0</td>\n",
       "      <td>1</td>\n",
       "      <td>...</td>\n",
       "      <td>0.000000</td>\n",
       "      <td>0.000000</td>\n",
       "      <td>0.294118</td>\n",
       "      <td>0.205882</td>\n",
       "      <td>34.705882</td>\n",
       "      <td>0.000000</td>\n",
       "      <td>10.352941</td>\n",
       "      <td>1.705882</td>\n",
       "      <td>1.705882</td>\n",
       "      <td>23.911765</td>\n",
       "    </tr>\n",
       "    <tr>\n",
       "      <th>643688</th>\n",
       "      <td>1827869</td>\n",
       "      <td>2013</td>\n",
       "      <td>1</td>\n",
       "      <td>1</td>\n",
       "      <td>1</td>\n",
       "      <td>0</td>\n",
       "      <td>0</td>\n",
       "      <td>0</td>\n",
       "      <td>1</td>\n",
       "      <td>0</td>\n",
       "      <td>...</td>\n",
       "      <td>0.000000</td>\n",
       "      <td>0.000000</td>\n",
       "      <td>0.000000</td>\n",
       "      <td>0.000000</td>\n",
       "      <td>0.000000</td>\n",
       "      <td>0.525424</td>\n",
       "      <td>0.000000</td>\n",
       "      <td>0.000000</td>\n",
       "      <td>0.000000</td>\n",
       "      <td>0.000000</td>\n",
       "    </tr>\n",
       "    <tr>\n",
       "      <th>643689</th>\n",
       "      <td>1827869</td>\n",
       "      <td>2014</td>\n",
       "      <td>2</td>\n",
       "      <td>0</td>\n",
       "      <td>0</td>\n",
       "      <td>1</td>\n",
       "      <td>0</td>\n",
       "      <td>0</td>\n",
       "      <td>1</td>\n",
       "      <td>0</td>\n",
       "      <td>...</td>\n",
       "      <td>0.000000</td>\n",
       "      <td>0.666667</td>\n",
       "      <td>0.666667</td>\n",
       "      <td>0.000000</td>\n",
       "      <td>0.000000</td>\n",
       "      <td>8.950000</td>\n",
       "      <td>1.033333</td>\n",
       "      <td>0.083333</td>\n",
       "      <td>0.083333</td>\n",
       "      <td>8.133333</td>\n",
       "    </tr>\n",
       "  </tbody>\n",
       "</table>\n",
       "<p>643690 rows × 164 columns</p>\n",
       "</div>"
      ],
      "text/plain": [
       "         persnr  year  nrEntry  ltue  employed_before  receipt_leh_before  \\\n",
       "0             7  2015        1     0                1                   0   \n",
       "1            18  2010        1     1                0                   0   \n",
       "2            18  2011        2     0                1                   0   \n",
       "3            18  2012        3     0                1                   0   \n",
       "4            18  2012        4     0                1                   0   \n",
       "...         ...   ...      ...   ...              ...                 ...   \n",
       "643685  1827860  2013        1     0                0                   0   \n",
       "643686  1827860  2015        2     1                0                   0   \n",
       "643687  1827860  2016        3     1                0                   0   \n",
       "643688  1827869  2013        1     1                1                   0   \n",
       "643689  1827869  2014        2     0                0                   1   \n",
       "\n",
       "        receipt_lhg_before  se_before  ASU_notue_seeking_before  \\\n",
       "0                        0          0                         1   \n",
       "1                        0          0                         0   \n",
       "2                        1          0                         1   \n",
       "3                        1          0                         1   \n",
       "4                        1          0                         1   \n",
       "...                    ...        ...                       ...   \n",
       "643685                   1          0                         0   \n",
       "643686                   1          0                         1   \n",
       "643687                   1          1                         0   \n",
       "643688                   0          0                         1   \n",
       "643689                   0          0                         1   \n",
       "\n",
       "        ASU_other_before  ...  minijob_tot_dur_byage  ft_tot_dur_byage  \\\n",
       "0                      0  ...               0.000000          0.000000   \n",
       "1                      0  ...               0.000000          0.000000   \n",
       "2                      0  ...               2.714286          2.714286   \n",
       "3                      0  ...               4.200000          4.200000   \n",
       "4                      0  ...               5.460000          5.460000   \n",
       "...                  ...  ...                    ...               ...   \n",
       "643685                 1  ...               0.000000          0.000000   \n",
       "643686                 0  ...               0.000000          0.000000   \n",
       "643687                 1  ...               0.000000          0.000000   \n",
       "643688                 0  ...               0.000000          0.000000   \n",
       "643689                 0  ...               0.000000          0.666667   \n",
       "\n",
       "        befrist_tot_dur_byage  leih_tot_dur_byage  LHG_tot_dur_byage  \\\n",
       "0                   15.043478            0.000000           0.000000   \n",
       "1                    0.000000            0.000000           0.000000   \n",
       "2                    0.000000            0.000000          10.775510   \n",
       "3                    0.000000            0.000000          12.100000   \n",
       "4                    0.000000            0.000000          13.360000   \n",
       "...                       ...                 ...                ...   \n",
       "643685               0.000000            0.000000           0.612903   \n",
       "643686               0.212121            0.212121          17.363636   \n",
       "643687               0.294118            0.205882          34.705882   \n",
       "643688               0.000000            0.000000           0.000000   \n",
       "643689               0.666667            0.000000           0.000000   \n",
       "\n",
       "        LEH_tot_dur_byage  almp_tot_dur_byage  almp_aw_tot_dur_byage  \\\n",
       "0                0.000000            0.000000               0.000000   \n",
       "1                0.000000            0.000000               0.000000   \n",
       "2                0.000000            8.367347               0.000000   \n",
       "3                0.000000            9.400000               0.000000   \n",
       "4                0.000000           10.320000               0.000000   \n",
       "...                   ...                 ...                    ...   \n",
       "643685           0.000000            0.000000               0.000000   \n",
       "643686           0.000000            8.909091               0.000000   \n",
       "643687           0.000000           10.352941               1.705882   \n",
       "643688           0.525424            0.000000               0.000000   \n",
       "643689           8.950000            1.033333               0.083333   \n",
       "\n",
       "        se_tot_dur_byage  seeking1_tot_dur_byage  \n",
       "0               0.000000                0.000000  \n",
       "1               0.000000                0.000000  \n",
       "2               0.000000                9.836735  \n",
       "3               0.000000                9.960000  \n",
       "4               0.000000               10.280000  \n",
       "...                  ...                     ...  \n",
       "643685          0.000000                0.000000  \n",
       "643686          0.000000                7.121212  \n",
       "643687          1.705882               23.911765  \n",
       "643688          0.000000                0.000000  \n",
       "643689          0.083333                8.133333  \n",
       "\n",
       "[643690 rows x 164 columns]"
      ]
     },
     "execution_count": 10,
     "metadata": {},
     "output_type": "execute_result"
    }
   ],
   "source": [
    "siab"
   ]
  },
  {
   "cell_type": "markdown",
   "id": "1f87e805",
   "metadata": {
    "papermill": {
     "duration": 0.011381,
     "end_time": "2025-08-19T18:59:21.425159",
     "exception": false,
     "start_time": "2025-08-19T18:59:21.413778",
     "status": "completed"
    },
    "tags": []
   },
   "source": [
    "# Splitting Data and Setting Training Data Size"
   ]
  },
  {
   "cell_type": "code",
   "execution_count": 11,
   "id": "910ae358",
   "metadata": {
    "execution": {
     "iopub.execute_input": "2025-08-19T18:59:21.447416Z",
     "iopub.status.busy": "2025-08-19T18:59:21.446372Z",
     "iopub.status.idle": "2025-08-19T18:59:22.087212Z",
     "shell.execute_reply": "2025-08-19T18:59:22.086388Z"
    },
    "papermill": {
     "duration": 0.653955,
     "end_time": "2025-08-19T18:59:22.088814",
     "exception": false,
     "start_time": "2025-08-19T18:59:21.434859",
     "status": "completed"
    },
    "tags": []
   },
   "outputs": [],
   "source": [
    "from fairness_multiverse.universe import sample_by_year_size\n",
    "\n",
    "siab_train = sample_by_year_size(siab,\n",
    "                               training_year=universe[\"training_year\"],\n",
    "                               training_size=universe[\"training_size\"])"
   ]
  },
  {
   "cell_type": "code",
   "execution_count": 12,
   "id": "919c8ff5",
   "metadata": {
    "execution": {
     "iopub.execute_input": "2025-08-19T18:59:22.123385Z",
     "iopub.status.busy": "2025-08-19T18:59:22.122565Z",
     "iopub.status.idle": "2025-08-19T18:59:22.131517Z",
     "shell.execute_reply": "2025-08-19T18:59:22.130302Z"
    },
    "papermill": {
     "duration": 0.032963,
     "end_time": "2025-08-19T18:59:22.133468",
     "exception": false,
     "start_time": "2025-08-19T18:59:22.100505",
     "status": "completed"
    },
    "tags": []
   },
   "outputs": [
    {
     "data": {
      "text/plain": [
       "(1000, 164)"
      ]
     },
     "execution_count": 12,
     "metadata": {},
     "output_type": "execute_result"
    }
   ],
   "source": [
    "siab_train.shape"
   ]
  },
  {
   "cell_type": "code",
   "execution_count": 13,
   "id": "feb13bf4",
   "metadata": {
    "execution": {
     "iopub.execute_input": "2025-08-19T18:59:22.163356Z",
     "iopub.status.busy": "2025-08-19T18:59:22.162339Z",
     "iopub.status.idle": "2025-08-19T18:59:22.176389Z",
     "shell.execute_reply": "2025-08-19T18:59:22.175120Z"
    },
    "papermill": {
     "duration": 0.028167,
     "end_time": "2025-08-19T18:59:22.178134",
     "exception": false,
     "start_time": "2025-08-19T18:59:22.149967",
     "status": "completed"
    },
    "tags": []
   },
   "outputs": [
    {
     "data": {
      "text/plain": [
       "year\n",
       "2012    334\n",
       "2013    333\n",
       "2014    333\n",
       "dtype: int64"
      ]
     },
     "metadata": {},
     "output_type": "display_data"
    }
   ],
   "source": [
    "display(siab_train.groupby(\"year\").size())"
   ]
  },
  {
   "cell_type": "code",
   "execution_count": 14,
   "id": "0997782f",
   "metadata": {
    "execution": {
     "iopub.execute_input": "2025-08-19T18:59:22.203567Z",
     "iopub.status.busy": "2025-08-19T18:59:22.202687Z",
     "iopub.status.idle": "2025-08-19T18:59:22.516622Z",
     "shell.execute_reply": "2025-08-19T18:59:22.515733Z"
    },
    "papermill": {
     "duration": 0.326956,
     "end_time": "2025-08-19T18:59:22.518115",
     "exception": false,
     "start_time": "2025-08-19T18:59:22.191159",
     "status": "completed"
    },
    "tags": []
   },
   "outputs": [],
   "source": [
    "#siab_train = siab_s[siab_s.year < 2015]\n",
    "siab_calib = siab[siab.year == 2015]\n",
    "siab_test = siab[siab.year == 2016]"
   ]
  },
  {
   "cell_type": "code",
   "execution_count": 15,
   "id": "2c1e4012",
   "metadata": {
    "execution": {
     "iopub.execute_input": "2025-08-19T18:59:22.541902Z",
     "iopub.status.busy": "2025-08-19T18:59:22.541141Z",
     "iopub.status.idle": "2025-08-19T18:59:22.546333Z",
     "shell.execute_reply": "2025-08-19T18:59:22.545416Z"
    },
    "papermill": {
     "duration": 0.017742,
     "end_time": "2025-08-19T18:59:22.547919",
     "exception": false,
     "start_time": "2025-08-19T18:59:22.530177",
     "status": "completed"
    },
    "tags": []
   },
   "outputs": [],
   "source": [
    "#siab_calib.shape"
   ]
  },
  {
   "cell_type": "code",
   "execution_count": 16,
   "id": "f66b54ca",
   "metadata": {
    "execution": {
     "iopub.execute_input": "2025-08-19T18:59:22.569179Z",
     "iopub.status.busy": "2025-08-19T18:59:22.568825Z",
     "iopub.status.idle": "2025-08-19T18:59:22.573201Z",
     "shell.execute_reply": "2025-08-19T18:59:22.572521Z"
    },
    "papermill": {
     "duration": 0.016338,
     "end_time": "2025-08-19T18:59:22.574418",
     "exception": false,
     "start_time": "2025-08-19T18:59:22.558080",
     "status": "completed"
    },
    "tags": []
   },
   "outputs": [],
   "source": [
    "#siab_test.shape"
   ]
  },
  {
   "cell_type": "code",
   "execution_count": 17,
   "id": "27e4384d",
   "metadata": {
    "execution": {
     "iopub.execute_input": "2025-08-19T18:59:22.595748Z",
     "iopub.status.busy": "2025-08-19T18:59:22.595396Z",
     "iopub.status.idle": "2025-08-19T18:59:22.601463Z",
     "shell.execute_reply": "2025-08-19T18:59:22.600826Z"
    },
    "papermill": {
     "duration": 0.018441,
     "end_time": "2025-08-19T18:59:22.602776",
     "exception": false,
     "start_time": "2025-08-19T18:59:22.584335",
     "status": "completed"
    },
    "tags": []
   },
   "outputs": [],
   "source": [
    "X_train = siab_train.iloc[:,4:164]\n",
    "y_train = siab_train.iloc[:, [3]]"
   ]
  },
  {
   "cell_type": "code",
   "execution_count": 18,
   "id": "08ee8389",
   "metadata": {
    "execution": {
     "iopub.execute_input": "2025-08-19T18:59:22.627014Z",
     "iopub.status.busy": "2025-08-19T18:59:22.626590Z",
     "iopub.status.idle": "2025-08-19T18:59:22.682553Z",
     "shell.execute_reply": "2025-08-19T18:59:22.681464Z"
    },
    "papermill": {
     "duration": 0.068697,
     "end_time": "2025-08-19T18:59:22.684333",
     "exception": false,
     "start_time": "2025-08-19T18:59:22.615636",
     "status": "completed"
    },
    "tags": []
   },
   "outputs": [],
   "source": [
    "X_calib = siab_calib.iloc[:,4:164]\n",
    "y_calib = siab_calib.iloc[:, [3]]"
   ]
  },
  {
   "cell_type": "code",
   "execution_count": 19,
   "id": "b7ff42e0",
   "metadata": {
    "execution": {
     "iopub.execute_input": "2025-08-19T18:59:22.712534Z",
     "iopub.status.busy": "2025-08-19T18:59:22.711697Z",
     "iopub.status.idle": "2025-08-19T18:59:22.769005Z",
     "shell.execute_reply": "2025-08-19T18:59:22.768154Z"
    },
    "papermill": {
     "duration": 0.073121,
     "end_time": "2025-08-19T18:59:22.771612",
     "exception": false,
     "start_time": "2025-08-19T18:59:22.698491",
     "status": "completed"
    },
    "tags": []
   },
   "outputs": [],
   "source": [
    "X_test = siab_test.iloc[:,4:164]\n",
    "y_true = siab_test.iloc[:, [3]]"
   ]
  },
  {
   "cell_type": "code",
   "execution_count": 20,
   "id": "0275101e",
   "metadata": {
    "execution": {
     "iopub.execute_input": "2025-08-19T18:59:22.836081Z",
     "iopub.status.busy": "2025-08-19T18:59:22.834907Z",
     "iopub.status.idle": "2025-08-19T18:59:22.950334Z",
     "shell.execute_reply": "2025-08-19T18:59:22.949600Z"
    },
    "papermill": {
     "duration": 0.15518,
     "end_time": "2025-08-19T18:59:22.953298",
     "exception": false,
     "start_time": "2025-08-19T18:59:22.798118",
     "status": "completed"
    },
    "tags": []
   },
   "outputs": [],
   "source": [
    "# Auxiliary data needed downstream in the pipeline\n",
    "\n",
    "org_train = X_train.copy()\n",
    "org_test = X_test.copy()\n",
    "org_calib = X_calib.copy()"
   ]
  },
  {
   "cell_type": "markdown",
   "id": "b461e618",
   "metadata": {
    "papermill": {
     "duration": 0.029723,
     "end_time": "2025-08-19T18:59:23.009296",
     "exception": false,
     "start_time": "2025-08-19T18:59:22.979573",
     "status": "completed"
    },
    "tags": []
   },
   "source": [
    "# Preprocessing Data"
   ]
  },
  {
   "cell_type": "code",
   "execution_count": 21,
   "id": "78e74c4b",
   "metadata": {
    "execution": {
     "iopub.execute_input": "2025-08-19T18:59:23.039070Z",
     "iopub.status.busy": "2025-08-19T18:59:23.034942Z",
     "iopub.status.idle": "2025-08-19T18:59:23.060079Z",
     "shell.execute_reply": "2025-08-19T18:59:23.059017Z"
    },
    "papermill": {
     "duration": 0.038622,
     "end_time": "2025-08-19T18:59:23.061954",
     "exception": false,
     "start_time": "2025-08-19T18:59:23.023332",
     "status": "completed"
    },
    "tags": []
   },
   "outputs": [],
   "source": [
    "# EXCLUDE PROTECTED FEATURES\n",
    "# --------------------------\n",
    "\n",
    "excluded_features = universe[\"exclude_features\"].split(\"-\")\n",
    "excluded_features_dictionary = {\n",
    "    \"nationality\": [\"maxdeutsch1\", \"maxdeutsch.Missing.\"],\n",
    "    \"sex\": [\"frau1\"],\n",
    "    \"age\": [\"age\"],\n",
    "}"
   ]
  },
  {
   "cell_type": "code",
   "execution_count": 22,
   "id": "f8e63555",
   "metadata": {
    "execution": {
     "iopub.execute_input": "2025-08-19T18:59:23.092459Z",
     "iopub.status.busy": "2025-08-19T18:59:23.092157Z",
     "iopub.status.idle": "2025-08-19T18:59:23.097426Z",
     "shell.execute_reply": "2025-08-19T18:59:23.096235Z"
    },
    "papermill": {
     "duration": 0.020378,
     "end_time": "2025-08-19T18:59:23.099711",
     "exception": false,
     "start_time": "2025-08-19T18:59:23.079333",
     "status": "completed"
    },
    "tags": []
   },
   "outputs": [],
   "source": [
    "excluded_features_columns = [\n",
    "    excluded_features_dictionary[f] for f in excluded_features if len(f) > 0 and f != \"none\"\n",
    "]"
   ]
  },
  {
   "cell_type": "code",
   "execution_count": 23,
   "id": "da781f7c",
   "metadata": {
    "execution": {
     "iopub.execute_input": "2025-08-19T18:59:23.123445Z",
     "iopub.status.busy": "2025-08-19T18:59:23.122583Z",
     "iopub.status.idle": "2025-08-19T18:59:23.127680Z",
     "shell.execute_reply": "2025-08-19T18:59:23.126752Z"
    },
    "papermill": {
     "duration": 0.017624,
     "end_time": "2025-08-19T18:59:23.128879",
     "exception": false,
     "start_time": "2025-08-19T18:59:23.111255",
     "status": "completed"
    },
    "tags": []
   },
   "outputs": [],
   "source": [
    "from fairness_multiverse.universe import flatten_once\n",
    "\n",
    "excluded_features_columns = flatten_once(excluded_features_columns)"
   ]
  },
  {
   "cell_type": "code",
   "execution_count": 24,
   "id": "37fef0f0",
   "metadata": {
    "execution": {
     "iopub.execute_input": "2025-08-19T18:59:23.153845Z",
     "iopub.status.busy": "2025-08-19T18:59:23.152756Z",
     "iopub.status.idle": "2025-08-19T18:59:23.162323Z",
     "shell.execute_reply": "2025-08-19T18:59:23.161341Z"
    },
    "papermill": {
     "duration": 0.022846,
     "end_time": "2025-08-19T18:59:23.163757",
     "exception": false,
     "start_time": "2025-08-19T18:59:23.140911",
     "status": "completed"
    },
    "tags": []
   },
   "outputs": [
    {
     "name": "stdout",
     "output_type": "stream",
     "text": [
      "Dropping features: ['maxdeutsch1', 'maxdeutsch.Missing.']\n"
     ]
    }
   ],
   "source": [
    "if len(excluded_features_columns) > 0:\n",
    "    print(f\"Dropping features: {excluded_features_columns}\")\n",
    "    X_train.drop(excluded_features_columns, axis=1, inplace=True)"
   ]
  },
  {
   "cell_type": "code",
   "execution_count": 25,
   "id": "d029e3e9",
   "metadata": {
    "execution": {
     "iopub.execute_input": "2025-08-19T18:59:23.190971Z",
     "iopub.status.busy": "2025-08-19T18:59:23.189760Z",
     "iopub.status.idle": "2025-08-19T18:59:23.251822Z",
     "shell.execute_reply": "2025-08-19T18:59:23.251038Z"
    },
    "papermill": {
     "duration": 0.075846,
     "end_time": "2025-08-19T18:59:23.253148",
     "exception": false,
     "start_time": "2025-08-19T18:59:23.177302",
     "status": "completed"
    },
    "tags": []
   },
   "outputs": [
    {
     "name": "stdout",
     "output_type": "stream",
     "text": [
      "Dropping features: ['maxdeutsch1', 'maxdeutsch.Missing.']\n"
     ]
    }
   ],
   "source": [
    "if len(excluded_features_columns) > 0:\n",
    "    print(f\"Dropping features: {excluded_features_columns}\")\n",
    "    X_test.drop(excluded_features_columns, axis=1, inplace=True)"
   ]
  },
  {
   "cell_type": "code",
   "execution_count": 26,
   "id": "01d571f0",
   "metadata": {
    "execution": {
     "iopub.execute_input": "2025-08-19T18:59:23.276774Z",
     "iopub.status.busy": "2025-08-19T18:59:23.276331Z",
     "iopub.status.idle": "2025-08-19T18:59:23.331306Z",
     "shell.execute_reply": "2025-08-19T18:59:23.330594Z"
    },
    "papermill": {
     "duration": 0.070021,
     "end_time": "2025-08-19T18:59:23.334449",
     "exception": false,
     "start_time": "2025-08-19T18:59:23.264428",
     "status": "completed"
    },
    "tags": []
   },
   "outputs": [
    {
     "name": "stdout",
     "output_type": "stream",
     "text": [
      "Dropping features: ['maxdeutsch1', 'maxdeutsch.Missing.']\n"
     ]
    }
   ],
   "source": [
    "if len(excluded_features_columns) > 0:\n",
    "    print(f\"Dropping features: {excluded_features_columns}\")\n",
    "    X_calib.drop(excluded_features_columns, axis=1, inplace=True)"
   ]
  },
  {
   "cell_type": "code",
   "execution_count": 27,
   "id": "3037356e",
   "metadata": {
    "execution": {
     "iopub.execute_input": "2025-08-19T18:59:23.382636Z",
     "iopub.status.busy": "2025-08-19T18:59:23.382272Z",
     "iopub.status.idle": "2025-08-19T18:59:23.387682Z",
     "shell.execute_reply": "2025-08-19T18:59:23.386853Z"
    },
    "papermill": {
     "duration": 0.02837,
     "end_time": "2025-08-19T18:59:23.388975",
     "exception": false,
     "start_time": "2025-08-19T18:59:23.360605",
     "status": "completed"
    },
    "tags": []
   },
   "outputs": [],
   "source": [
    "# EXCLUDE CERTAIN SUBGROUPS\n",
    "# -------------------------\n",
    "\n",
    "mode = universe.get(\"exclude_subgroups\", \"keep-all\") # Defaults to \"keep-all\" if the key is missing."
   ]
  },
  {
   "cell_type": "code",
   "execution_count": 28,
   "id": "9d1e63fd",
   "metadata": {
    "execution": {
     "iopub.execute_input": "2025-08-19T18:59:23.413221Z",
     "iopub.status.busy": "2025-08-19T18:59:23.412707Z",
     "iopub.status.idle": "2025-08-19T18:59:23.419479Z",
     "shell.execute_reply": "2025-08-19T18:59:23.418681Z"
    },
    "papermill": {
     "duration": 0.020372,
     "end_time": "2025-08-19T18:59:23.420725",
     "exception": false,
     "start_time": "2025-08-19T18:59:23.400353",
     "status": "completed"
    },
    "tags": []
   },
   "outputs": [],
   "source": [
    "if mode == \"keep-all\":\n",
    "    keep_mask = pd.Series(True, index=org_train.index)\n",
    "\n",
    "elif mode == \"drop-non-german\":\n",
    "    keep_mask = (org_train[\"maxdeutsch1\"] == 1) & (org_train[\"maxdeutsch.Missing.\"] == 0)\n",
    "\n",
    "else:\n",
    "    raise ValueError(f\"Unsupported mode for exclude_subgroups: {mode}\")"
   ]
  },
  {
   "cell_type": "code",
   "execution_count": 29,
   "id": "d3b65474",
   "metadata": {
    "execution": {
     "iopub.execute_input": "2025-08-19T18:59:23.445334Z",
     "iopub.status.busy": "2025-08-19T18:59:23.444876Z",
     "iopub.status.idle": "2025-08-19T18:59:23.450808Z",
     "shell.execute_reply": "2025-08-19T18:59:23.450161Z"
    },
    "papermill": {
     "duration": 0.019839,
     "end_time": "2025-08-19T18:59:23.451935",
     "exception": false,
     "start_time": "2025-08-19T18:59:23.432096",
     "status": "completed"
    },
    "tags": []
   },
   "outputs": [
    {
     "name": "stdout",
     "output_type": "stream",
     "text": [
      "Dropping 147 rows (14.70%) where mode='drop-non-german'\n"
     ]
    }
   ],
   "source": [
    "n_drop = (~keep_mask).sum() # Calculates how many rows are set to be dropped\n",
    "if n_drop > 0:\n",
    "    pct = n_drop / len(keep_mask) * 100\n",
    "    print(f\"Dropping {n_drop} rows ({pct:.2f}%) where mode='{mode}'\")"
   ]
  },
  {
   "cell_type": "code",
   "execution_count": 30,
   "id": "f44389b3",
   "metadata": {
    "execution": {
     "iopub.execute_input": "2025-08-19T18:59:23.476037Z",
     "iopub.status.busy": "2025-08-19T18:59:23.474906Z",
     "iopub.status.idle": "2025-08-19T18:59:23.503455Z",
     "shell.execute_reply": "2025-08-19T18:59:23.502214Z"
    },
    "papermill": {
     "duration": 0.042808,
     "end_time": "2025-08-19T18:59:23.505597",
     "exception": false,
     "start_time": "2025-08-19T18:59:23.462789",
     "status": "completed"
    },
    "tags": []
   },
   "outputs": [],
   "source": [
    "X_train = X_train[keep_mask]"
   ]
  },
  {
   "cell_type": "code",
   "execution_count": 31,
   "id": "ceca8c2a",
   "metadata": {
    "execution": {
     "iopub.execute_input": "2025-08-19T18:59:23.543588Z",
     "iopub.status.busy": "2025-08-19T18:59:23.542057Z",
     "iopub.status.idle": "2025-08-19T18:59:23.550427Z",
     "shell.execute_reply": "2025-08-19T18:59:23.549173Z"
    },
    "papermill": {
     "duration": 0.024011,
     "end_time": "2025-08-19T18:59:23.552049",
     "exception": false,
     "start_time": "2025-08-19T18:59:23.528038",
     "status": "completed"
    },
    "tags": []
   },
   "outputs": [],
   "source": [
    "y_train = y_train[keep_mask]"
   ]
  },
  {
   "cell_type": "markdown",
   "id": "04d31e2f",
   "metadata": {
    "papermill": {
     "duration": 0.011161,
     "end_time": "2025-08-19T18:59:23.575735",
     "exception": false,
     "start_time": "2025-08-19T18:59:23.564574",
     "status": "completed"
    },
    "tags": []
   },
   "source": [
    "# Model Training"
   ]
  },
  {
   "cell_type": "code",
   "execution_count": 32,
   "id": "db991733",
   "metadata": {
    "execution": {
     "iopub.execute_input": "2025-08-19T18:59:23.600152Z",
     "iopub.status.busy": "2025-08-19T18:59:23.598917Z",
     "iopub.status.idle": "2025-08-19T18:59:23.700938Z",
     "shell.execute_reply": "2025-08-19T18:59:23.700172Z"
    },
    "papermill": {
     "duration": 0.11725,
     "end_time": "2025-08-19T18:59:23.703787",
     "exception": false,
     "start_time": "2025-08-19T18:59:23.586537",
     "status": "completed"
    },
    "tags": []
   },
   "outputs": [],
   "source": [
    "from sklearn.linear_model import LogisticRegression\n",
    "from sklearn.ensemble import GradientBoostingClassifier, RandomForestClassifier\n",
    "\n",
    "if (universe[\"model\"] == \"logreg\"):\n",
    "    model = LogisticRegression() #penalty=\"none\", solver=\"newton-cg\", max_iter=1)\n",
    "elif (universe[\"model\"] == \"penalized_logreg\"):\n",
    "    model = LogisticRegression(penalty=\"l2\", C=0.1) #, solver=\"newton-cg\", max_iter=1)\n",
    "elif (universe[\"model\"] == \"rf\"):\n",
    "    model = RandomForestClassifier() # n_estimators=100, n_jobs=-1\n",
    "elif (universe[\"model\"] == \"gbm\"):\n",
    "    model = GradientBoostingClassifier()\n",
    "elif (universe[\"model\"] == \"elasticnet\"):\n",
    "    model = LogisticRegression(penalty = 'elasticnet', solver = 'saga', l1_ratio = 0.5) # max_iter=5000\n",
    "else:\n",
    "    raise \"Unsupported universe.model\""
   ]
  },
  {
   "cell_type": "code",
   "execution_count": 33,
   "id": "a4b5cd25",
   "metadata": {
    "execution": {
     "iopub.execute_input": "2025-08-19T18:59:23.746679Z",
     "iopub.status.busy": "2025-08-19T18:59:23.745186Z",
     "iopub.status.idle": "2025-08-19T18:59:23.754287Z",
     "shell.execute_reply": "2025-08-19T18:59:23.753087Z"
    },
    "papermill": {
     "duration": 0.025498,
     "end_time": "2025-08-19T18:59:23.755680",
     "exception": false,
     "start_time": "2025-08-19T18:59:23.730182",
     "status": "completed"
    },
    "tags": []
   },
   "outputs": [],
   "source": [
    "from sklearn.pipeline import Pipeline\n",
    "from sklearn.preprocessing import StandardScaler\n",
    "\n",
    "model = Pipeline([\n",
    "    #(\"continuous_processor\", continuous_processor),\n",
    "    #(\"categorical_preprocessor\", categorical_preprocessor),\n",
    "    (\"scale\", StandardScaler() if universe[\"scale\"] == \"scale\" else None), \n",
    "    (\"model\", model),\n",
    "])"
   ]
  },
  {
   "cell_type": "code",
   "execution_count": 34,
   "id": "283a904d",
   "metadata": {
    "execution": {
     "iopub.execute_input": "2025-08-19T18:59:23.783238Z",
     "iopub.status.busy": "2025-08-19T18:59:23.782020Z",
     "iopub.status.idle": "2025-08-19T18:59:24.598485Z",
     "shell.execute_reply": "2025-08-19T18:59:24.597551Z"
    },
    "papermill": {
     "duration": 0.830186,
     "end_time": "2025-08-19T18:59:24.599816",
     "exception": false,
     "start_time": "2025-08-19T18:59:23.769630",
     "status": "completed"
    },
    "tags": []
   },
   "outputs": [
    {
     "data": {
      "text/html": [
       "<style>#sk-container-id-1 {color: black;background-color: white;}#sk-container-id-1 pre{padding: 0;}#sk-container-id-1 div.sk-toggleable {background-color: white;}#sk-container-id-1 label.sk-toggleable__label {cursor: pointer;display: block;width: 100%;margin-bottom: 0;padding: 0.3em;box-sizing: border-box;text-align: center;}#sk-container-id-1 label.sk-toggleable__label-arrow:before {content: \"▸\";float: left;margin-right: 0.25em;color: #696969;}#sk-container-id-1 label.sk-toggleable__label-arrow:hover:before {color: black;}#sk-container-id-1 div.sk-estimator:hover label.sk-toggleable__label-arrow:before {color: black;}#sk-container-id-1 div.sk-toggleable__content {max-height: 0;max-width: 0;overflow: hidden;text-align: left;background-color: #f0f8ff;}#sk-container-id-1 div.sk-toggleable__content pre {margin: 0.2em;color: black;border-radius: 0.25em;background-color: #f0f8ff;}#sk-container-id-1 input.sk-toggleable__control:checked~div.sk-toggleable__content {max-height: 200px;max-width: 100%;overflow: auto;}#sk-container-id-1 input.sk-toggleable__control:checked~label.sk-toggleable__label-arrow:before {content: \"▾\";}#sk-container-id-1 div.sk-estimator input.sk-toggleable__control:checked~label.sk-toggleable__label {background-color: #d4ebff;}#sk-container-id-1 div.sk-label input.sk-toggleable__control:checked~label.sk-toggleable__label {background-color: #d4ebff;}#sk-container-id-1 input.sk-hidden--visually {border: 0;clip: rect(1px 1px 1px 1px);clip: rect(1px, 1px, 1px, 1px);height: 1px;margin: -1px;overflow: hidden;padding: 0;position: absolute;width: 1px;}#sk-container-id-1 div.sk-estimator {font-family: monospace;background-color: #f0f8ff;border: 1px dotted black;border-radius: 0.25em;box-sizing: border-box;margin-bottom: 0.5em;}#sk-container-id-1 div.sk-estimator:hover {background-color: #d4ebff;}#sk-container-id-1 div.sk-parallel-item::after {content: \"\";width: 100%;border-bottom: 1px solid gray;flex-grow: 1;}#sk-container-id-1 div.sk-label:hover label.sk-toggleable__label {background-color: #d4ebff;}#sk-container-id-1 div.sk-serial::before {content: \"\";position: absolute;border-left: 1px solid gray;box-sizing: border-box;top: 0;bottom: 0;left: 50%;z-index: 0;}#sk-container-id-1 div.sk-serial {display: flex;flex-direction: column;align-items: center;background-color: white;padding-right: 0.2em;padding-left: 0.2em;position: relative;}#sk-container-id-1 div.sk-item {position: relative;z-index: 1;}#sk-container-id-1 div.sk-parallel {display: flex;align-items: stretch;justify-content: center;background-color: white;position: relative;}#sk-container-id-1 div.sk-item::before, #sk-container-id-1 div.sk-parallel-item::before {content: \"\";position: absolute;border-left: 1px solid gray;box-sizing: border-box;top: 0;bottom: 0;left: 50%;z-index: -1;}#sk-container-id-1 div.sk-parallel-item {display: flex;flex-direction: column;z-index: 1;position: relative;background-color: white;}#sk-container-id-1 div.sk-parallel-item:first-child::after {align-self: flex-end;width: 50%;}#sk-container-id-1 div.sk-parallel-item:last-child::after {align-self: flex-start;width: 50%;}#sk-container-id-1 div.sk-parallel-item:only-child::after {width: 0;}#sk-container-id-1 div.sk-dashed-wrapped {border: 1px dashed gray;margin: 0 0.4em 0.5em 0.4em;box-sizing: border-box;padding-bottom: 0.4em;background-color: white;}#sk-container-id-1 div.sk-label label {font-family: monospace;font-weight: bold;display: inline-block;line-height: 1.2em;}#sk-container-id-1 div.sk-label-container {text-align: center;}#sk-container-id-1 div.sk-container {/* jupyter's `normalize.less` sets `[hidden] { display: none; }` but bootstrap.min.css set `[hidden] { display: none !important; }` so we also need the `!important` here to be able to override the default hidden behavior on the sphinx rendered scikit-learn.org. See: https://github.com/scikit-learn/scikit-learn/issues/21755 */display: inline-block !important;position: relative;}#sk-container-id-1 div.sk-text-repr-fallback {display: none;}</style><div id=\"sk-container-id-1\" class=\"sk-top-container\"><div class=\"sk-text-repr-fallback\"><pre>Pipeline(steps=[(&#x27;scale&#x27;, StandardScaler()),\n",
       "                (&#x27;model&#x27;, GradientBoostingClassifier())])</pre><b>In a Jupyter environment, please rerun this cell to show the HTML representation or trust the notebook. <br />On GitHub, the HTML representation is unable to render, please try loading this page with nbviewer.org.</b></div><div class=\"sk-container\" hidden><div class=\"sk-item sk-dashed-wrapped\"><div class=\"sk-label-container\"><div class=\"sk-label sk-toggleable\"><input class=\"sk-toggleable__control sk-hidden--visually\" id=\"sk-estimator-id-1\" type=\"checkbox\" ><label for=\"sk-estimator-id-1\" class=\"sk-toggleable__label sk-toggleable__label-arrow\">Pipeline</label><div class=\"sk-toggleable__content\"><pre>Pipeline(steps=[(&#x27;scale&#x27;, StandardScaler()),\n",
       "                (&#x27;model&#x27;, GradientBoostingClassifier())])</pre></div></div></div><div class=\"sk-serial\"><div class=\"sk-item\"><div class=\"sk-estimator sk-toggleable\"><input class=\"sk-toggleable__control sk-hidden--visually\" id=\"sk-estimator-id-2\" type=\"checkbox\" ><label for=\"sk-estimator-id-2\" class=\"sk-toggleable__label sk-toggleable__label-arrow\">StandardScaler</label><div class=\"sk-toggleable__content\"><pre>StandardScaler()</pre></div></div></div><div class=\"sk-item\"><div class=\"sk-estimator sk-toggleable\"><input class=\"sk-toggleable__control sk-hidden--visually\" id=\"sk-estimator-id-3\" type=\"checkbox\" ><label for=\"sk-estimator-id-3\" class=\"sk-toggleable__label sk-toggleable__label-arrow\">GradientBoostingClassifier</label><div class=\"sk-toggleable__content\"><pre>GradientBoostingClassifier()</pre></div></div></div></div></div></div></div>"
      ],
      "text/plain": [
       "Pipeline(steps=[('scale', StandardScaler()),\n",
       "                ('model', GradientBoostingClassifier())])"
      ]
     },
     "execution_count": 34,
     "metadata": {},
     "output_type": "execute_result"
    }
   ],
   "source": [
    "model.fit(X_train, y_train.values.ravel())"
   ]
  },
  {
   "cell_type": "code",
   "execution_count": 35,
   "id": "6e15e313",
   "metadata": {
    "execution": {
     "iopub.execute_input": "2025-08-19T18:59:24.643043Z",
     "iopub.status.busy": "2025-08-19T18:59:24.641416Z",
     "iopub.status.idle": "2025-08-19T18:59:25.260217Z",
     "shell.execute_reply": "2025-08-19T18:59:25.259258Z"
    },
    "papermill": {
     "duration": 0.640597,
     "end_time": "2025-08-19T18:59:25.261672",
     "exception": false,
     "start_time": "2025-08-19T18:59:24.621075",
     "status": "completed"
    },
    "tags": []
   },
   "outputs": [
    {
     "data": {
      "text/plain": [
       "0.8373759892988518"
      ]
     },
     "execution_count": 35,
     "metadata": {},
     "output_type": "execute_result"
    }
   ],
   "source": [
    "from fairness_multiverse.universe import predict_w_threshold\n",
    "\n",
    "probs_test = model.predict_proba(X_test)\n",
    "\n",
    "'''\n",
    "Below code returns a boolean array (or binary 0/1 array depending on how it’s used) where each element \n",
    "is True if the probability of class 1 is greater than or equal to the threshold, and False otherwise.\n",
    "'''\n",
    "y_pred_default = predict_w_threshold(probs_test, 0.5)\n",
    "\n",
    "from sklearn.metrics import accuracy_score\n",
    "\n",
    "# Naive prediction\n",
    "accuracy_score(y_true = y_true, y_pred = y_pred_default)"
   ]
  },
  {
   "cell_type": "code",
   "execution_count": 36,
   "id": "6f14067c",
   "metadata": {
    "execution": {
     "iopub.execute_input": "2025-08-19T18:59:25.288377Z",
     "iopub.status.busy": "2025-08-19T18:59:25.287230Z",
     "iopub.status.idle": "2025-08-19T18:59:25.871871Z",
     "shell.execute_reply": "2025-08-19T18:59:25.871029Z"
    },
    "papermill": {
     "duration": 0.599633,
     "end_time": "2025-08-19T18:59:25.873326",
     "exception": false,
     "start_time": "2025-08-19T18:59:25.273693",
     "status": "completed"
    },
    "tags": []
   },
   "outputs": [
    {
     "data": {
      "text/plain": [
       "array([0, 0, 0, ..., 0, 0, 0])"
      ]
     },
     "execution_count": 36,
     "metadata": {},
     "output_type": "execute_result"
    }
   ],
   "source": [
    "model.predict(X_test)"
   ]
  },
  {
   "cell_type": "markdown",
   "id": "3759920c",
   "metadata": {
    "papermill": {
     "duration": 0.011476,
     "end_time": "2025-08-19T18:59:25.898700",
     "exception": false,
     "start_time": "2025-08-19T18:59:25.887224",
     "status": "completed"
    },
    "tags": []
   },
   "source": [
    "# Conformal Prediction"
   ]
  },
  {
   "cell_type": "code",
   "execution_count": 37,
   "id": "14b27f59",
   "metadata": {
    "execution": {
     "iopub.execute_input": "2025-08-19T18:59:25.924869Z",
     "iopub.status.busy": "2025-08-19T18:59:25.923568Z",
     "iopub.status.idle": "2025-08-19T18:59:25.931223Z",
     "shell.execute_reply": "2025-08-19T18:59:25.930077Z"
    },
    "papermill": {
     "duration": 0.022454,
     "end_time": "2025-08-19T18:59:25.932619",
     "exception": false,
     "start_time": "2025-08-19T18:59:25.910165",
     "status": "completed"
    },
    "tags": []
   },
   "outputs": [],
   "source": [
    "# Miscoverage level for conformal prediction (10% allowed error rate => 90% target coverage)\n",
    "alpha = 0.1"
   ]
  },
  {
   "cell_type": "code",
   "execution_count": 38,
   "id": "59102472",
   "metadata": {
    "execution": {
     "iopub.execute_input": "2025-08-19T18:59:25.960659Z",
     "iopub.status.busy": "2025-08-19T18:59:25.959197Z",
     "iopub.status.idle": "2025-08-19T18:59:26.546610Z",
     "shell.execute_reply": "2025-08-19T18:59:26.545508Z"
    },
    "papermill": {
     "duration": 0.602008,
     "end_time": "2025-08-19T18:59:26.548259",
     "exception": false,
     "start_time": "2025-08-19T18:59:25.946251",
     "status": "completed"
    },
    "tags": []
   },
   "outputs": [],
   "source": [
    "probs_calib = model.predict_proba(X_calib)"
   ]
  },
  {
   "cell_type": "code",
   "execution_count": 39,
   "id": "a792d4dd",
   "metadata": {
    "execution": {
     "iopub.execute_input": "2025-08-19T18:59:26.575273Z",
     "iopub.status.busy": "2025-08-19T18:59:26.574929Z",
     "iopub.status.idle": "2025-08-19T18:59:26.582439Z",
     "shell.execute_reply": "2025-08-19T18:59:26.581530Z"
    },
    "papermill": {
     "duration": 0.022934,
     "end_time": "2025-08-19T18:59:26.583606",
     "exception": false,
     "start_time": "2025-08-19T18:59:26.560672",
     "status": "completed"
    },
    "tags": []
   },
   "outputs": [],
   "source": [
    "y_calib = y_calib.values.ravel().astype(int)"
   ]
  },
  {
   "cell_type": "code",
   "execution_count": 40,
   "id": "650fd033",
   "metadata": {
    "execution": {
     "iopub.execute_input": "2025-08-19T18:59:26.612600Z",
     "iopub.status.busy": "2025-08-19T18:59:26.611517Z",
     "iopub.status.idle": "2025-08-19T18:59:26.674899Z",
     "shell.execute_reply": "2025-08-19T18:59:26.674032Z"
    },
    "papermill": {
     "duration": 0.083131,
     "end_time": "2025-08-19T18:59:26.678456",
     "exception": false,
     "start_time": "2025-08-19T18:59:26.595325",
     "status": "completed"
    },
    "tags": []
   },
   "outputs": [],
   "source": [
    "from fairness_multiverse.conformal import compute_nc_scores\n",
    "\n",
    "# Compute nonconformity scores on calibration set (1 - probability of true class)\n",
    "nc_scores = compute_nc_scores(probs_calib, y_calib)"
   ]
  },
  {
   "cell_type": "code",
   "execution_count": 41,
   "id": "28ada44c",
   "metadata": {
    "execution": {
     "iopub.execute_input": "2025-08-19T18:59:26.719552Z",
     "iopub.status.busy": "2025-08-19T18:59:26.717994Z",
     "iopub.status.idle": "2025-08-19T18:59:26.729082Z",
     "shell.execute_reply": "2025-08-19T18:59:26.728055Z"
    },
    "papermill": {
     "duration": 0.029181,
     "end_time": "2025-08-19T18:59:26.730401",
     "exception": false,
     "start_time": "2025-08-19T18:59:26.701220",
     "status": "completed"
    },
    "tags": []
   },
   "outputs": [],
   "source": [
    "from fairness_multiverse.conformal import find_threshold\n",
    "\n",
    "# Find conformal threshold q_hat for the given alpha (split conformal method)\n",
    "q_hat = find_threshold(nc_scores, alpha)"
   ]
  },
  {
   "cell_type": "code",
   "execution_count": 42,
   "id": "df56469e",
   "metadata": {
    "execution": {
     "iopub.execute_input": "2025-08-19T18:59:26.766079Z",
     "iopub.status.busy": "2025-08-19T18:59:26.763001Z",
     "iopub.status.idle": "2025-08-19T18:59:26.775240Z",
     "shell.execute_reply": "2025-08-19T18:59:26.774048Z"
    },
    "papermill": {
     "duration": 0.02807,
     "end_time": "2025-08-19T18:59:26.776947",
     "exception": false,
     "start_time": "2025-08-19T18:59:26.748877",
     "status": "completed"
    },
    "tags": []
   },
   "outputs": [
    {
     "data": {
      "text/plain": [
       "0.7754431228228446"
      ]
     },
     "execution_count": 42,
     "metadata": {},
     "output_type": "execute_result"
    }
   ],
   "source": [
    "q_hat"
   ]
  },
  {
   "cell_type": "code",
   "execution_count": 43,
   "id": "aa1f5faa",
   "metadata": {
    "execution": {
     "iopub.execute_input": "2025-08-19T18:59:26.808816Z",
     "iopub.status.busy": "2025-08-19T18:59:26.805781Z",
     "iopub.status.idle": "2025-08-19T18:59:27.853520Z",
     "shell.execute_reply": "2025-08-19T18:59:27.852361Z"
    },
    "papermill": {
     "duration": 1.064893,
     "end_time": "2025-08-19T18:59:27.856324",
     "exception": false,
     "start_time": "2025-08-19T18:59:26.791431",
     "status": "completed"
    },
    "tags": []
   },
   "outputs": [],
   "source": [
    "from fairness_multiverse.conformal import predict_conformal_sets\n",
    "\n",
    "# Generate prediction sets for each test example\n",
    "pred_sets = predict_conformal_sets(model, X_test, q_hat)"
   ]
  },
  {
   "cell_type": "code",
   "execution_count": 44,
   "id": "97f67a6b",
   "metadata": {
    "execution": {
     "iopub.execute_input": "2025-08-19T18:59:27.912020Z",
     "iopub.status.busy": "2025-08-19T18:59:27.911196Z",
     "iopub.status.idle": "2025-08-19T18:59:27.922436Z",
     "shell.execute_reply": "2025-08-19T18:59:27.921342Z"
    },
    "papermill": {
     "duration": 0.032013,
     "end_time": "2025-08-19T18:59:27.923839",
     "exception": false,
     "start_time": "2025-08-19T18:59:27.891826",
     "status": "completed"
    },
    "tags": []
   },
   "outputs": [],
   "source": [
    "y_true = y_true.squeeze()"
   ]
  },
  {
   "cell_type": "code",
   "execution_count": 45,
   "id": "e700e9a7",
   "metadata": {
    "execution": {
     "iopub.execute_input": "2025-08-19T18:59:27.950588Z",
     "iopub.status.busy": "2025-08-19T18:59:27.949358Z",
     "iopub.status.idle": "2025-08-19T18:59:28.449461Z",
     "shell.execute_reply": "2025-08-19T18:59:28.448538Z"
    },
    "papermill": {
     "duration": 0.516137,
     "end_time": "2025-08-19T18:59:28.452432",
     "exception": false,
     "start_time": "2025-08-19T18:59:27.936295",
     "status": "completed"
    },
    "tags": []
   },
   "outputs": [],
   "source": [
    "from fairness_multiverse.conformal import evaluate_sets\n",
    "\n",
    "# Evaluate coverage and average set size on test data\n",
    "metrics = evaluate_sets(pred_sets, y_true)"
   ]
  },
  {
   "cell_type": "markdown",
   "id": "efbacec0",
   "metadata": {
    "papermill": {
     "duration": 0.016784,
     "end_time": "2025-08-19T18:59:28.513797",
     "exception": false,
     "start_time": "2025-08-19T18:59:28.497013",
     "status": "completed"
    },
    "tags": []
   },
   "source": [
    "# CP Metrics"
   ]
  },
  {
   "cell_type": "code",
   "execution_count": 46,
   "id": "9de55fb1",
   "metadata": {
    "execution": {
     "iopub.execute_input": "2025-08-19T18:59:28.539905Z",
     "iopub.status.busy": "2025-08-19T18:59:28.539171Z",
     "iopub.status.idle": "2025-08-19T18:59:28.550168Z",
     "shell.execute_reply": "2025-08-19T18:59:28.549027Z"
    },
    "papermill": {
     "duration": 0.026136,
     "end_time": "2025-08-19T18:59:28.551801",
     "exception": false,
     "start_time": "2025-08-19T18:59:28.525665",
     "status": "completed"
    },
    "tags": []
   },
   "outputs": [
    {
     "data": {
      "text/plain": [
       "{'coverage': 0.911080147140787, 'avg_size': 1.1847285698361387}"
      ]
     },
     "execution_count": 46,
     "metadata": {},
     "output_type": "execute_result"
    }
   ],
   "source": [
    "metrics"
   ]
  },
  {
   "cell_type": "code",
   "execution_count": 47,
   "id": "64c340a1",
   "metadata": {
    "execution": {
     "iopub.execute_input": "2025-08-19T18:59:28.595167Z",
     "iopub.status.busy": "2025-08-19T18:59:28.593440Z",
     "iopub.status.idle": "2025-08-19T18:59:28.617594Z",
     "shell.execute_reply": "2025-08-19T18:59:28.616225Z"
    },
    "papermill": {
     "duration": 0.042818,
     "end_time": "2025-08-19T18:59:28.622340",
     "exception": false,
     "start_time": "2025-08-19T18:59:28.579522",
     "status": "completed"
    },
    "tags": []
   },
   "outputs": [],
   "source": [
    "example_universe = universe.copy()\n",
    "universe_training_year = example_universe.get(\"training_year\")\n",
    "universe_training_size = example_universe.get(\"training_size\")\n",
    "universe_scale = example_universe.get(\"scale\")\n",
    "universe_model = example_universe.get(\"model\")\n",
    "universe_exclude_features = example_universe.get(\"exclude_features\")\n",
    "universe_exclude_subgroups = example_universe.get(\"exclude_subgroups\")"
   ]
  },
  {
   "cell_type": "code",
   "execution_count": 48,
   "id": "dbb53cb4",
   "metadata": {
    "execution": {
     "iopub.execute_input": "2025-08-19T18:59:28.683260Z",
     "iopub.status.busy": "2025-08-19T18:59:28.681754Z",
     "iopub.status.idle": "2025-08-19T18:59:28.692469Z",
     "shell.execute_reply": "2025-08-19T18:59:28.691229Z"
    },
    "papermill": {
     "duration": 0.046474,
     "end_time": "2025-08-19T18:59:28.695631",
     "exception": false,
     "start_time": "2025-08-19T18:59:28.649157",
     "status": "completed"
    },
    "tags": []
   },
   "outputs": [],
   "source": [
    "cp_metrics_dict = {\n",
    "    \"universe_id\": [universe_id],\n",
    "    \"universe_training_year\": [universe_training_year],\n",
    "    \"universe_training_size\": [universe_training_size],\n",
    "    \"universe_scale\": [universe_scale],\n",
    "    \"universe_model\": [universe_model],\n",
    "    \"universe_exclude_features\": [universe_exclude_features],\n",
    "    \"universe_exclude_subgroups\": [universe_exclude_subgroups],\n",
    "    \"q_hat\": [q_hat],\n",
    "    \"coverage\": [metrics[\"coverage\"]],\n",
    "    \"avg_size\": [metrics[\"avg_size\"]],\n",
    "}"
   ]
  },
  {
   "cell_type": "code",
   "execution_count": 49,
   "id": "0d70d4b2",
   "metadata": {
    "execution": {
     "iopub.execute_input": "2025-08-19T18:59:28.756030Z",
     "iopub.status.busy": "2025-08-19T18:59:28.755359Z",
     "iopub.status.idle": "2025-08-19T18:59:28.788143Z",
     "shell.execute_reply": "2025-08-19T18:59:28.787087Z"
    },
    "papermill": {
     "duration": 0.064268,
     "end_time": "2025-08-19T18:59:28.791544",
     "exception": false,
     "start_time": "2025-08-19T18:59:28.727276",
     "status": "completed"
    },
    "tags": []
   },
   "outputs": [],
   "source": [
    "cp_metrics_df = pd.DataFrame(cp_metrics_dict)"
   ]
  },
  {
   "cell_type": "code",
   "execution_count": 50,
   "id": "b494403c",
   "metadata": {
    "execution": {
     "iopub.execute_input": "2025-08-19T18:59:28.874916Z",
     "iopub.status.busy": "2025-08-19T18:59:28.874166Z",
     "iopub.status.idle": "2025-08-19T18:59:28.898613Z",
     "shell.execute_reply": "2025-08-19T18:59:28.897603Z"
    },
    "papermill": {
     "duration": 0.082936,
     "end_time": "2025-08-19T18:59:28.903720",
     "exception": false,
     "start_time": "2025-08-19T18:59:28.820784",
     "status": "completed"
    },
    "tags": []
   },
   "outputs": [
    {
     "data": {
      "text/html": [
       "<div>\n",
       "<style scoped>\n",
       "    .dataframe tbody tr th:only-of-type {\n",
       "        vertical-align: middle;\n",
       "    }\n",
       "\n",
       "    .dataframe tbody tr th {\n",
       "        vertical-align: top;\n",
       "    }\n",
       "\n",
       "    .dataframe thead th {\n",
       "        text-align: right;\n",
       "    }\n",
       "</style>\n",
       "<table border=\"1\" class=\"dataframe\">\n",
       "  <thead>\n",
       "    <tr style=\"text-align: right;\">\n",
       "      <th></th>\n",
       "      <th>universe_id</th>\n",
       "      <th>universe_training_year</th>\n",
       "      <th>universe_training_size</th>\n",
       "      <th>universe_scale</th>\n",
       "      <th>universe_model</th>\n",
       "      <th>universe_exclude_features</th>\n",
       "      <th>universe_exclude_subgroups</th>\n",
       "      <th>q_hat</th>\n",
       "      <th>coverage</th>\n",
       "      <th>avg_size</th>\n",
       "    </tr>\n",
       "  </thead>\n",
       "  <tbody>\n",
       "    <tr>\n",
       "      <th>0</th>\n",
       "      <td>0c9c856c2ab8cda17e935030e58553fa</td>\n",
       "      <td>2012_14</td>\n",
       "      <td>1k</td>\n",
       "      <td>scale</td>\n",
       "      <td>gbm</td>\n",
       "      <td>nationality</td>\n",
       "      <td>drop-non-german</td>\n",
       "      <td>0.775443</td>\n",
       "      <td>0.91108</td>\n",
       "      <td>1.184729</td>\n",
       "    </tr>\n",
       "  </tbody>\n",
       "</table>\n",
       "</div>"
      ],
      "text/plain": [
       "                        universe_id universe_training_year  \\\n",
       "0  0c9c856c2ab8cda17e935030e58553fa                2012_14   \n",
       "\n",
       "  universe_training_size universe_scale universe_model  \\\n",
       "0                     1k          scale            gbm   \n",
       "\n",
       "  universe_exclude_features universe_exclude_subgroups     q_hat  coverage  \\\n",
       "0               nationality            drop-non-german  0.775443   0.91108   \n",
       "\n",
       "   avg_size  \n",
       "0  1.184729  "
      ]
     },
     "execution_count": 50,
     "metadata": {},
     "output_type": "execute_result"
    }
   ],
   "source": [
    "cp_metrics_df"
   ]
  },
  {
   "cell_type": "markdown",
   "id": "ed608b0b",
   "metadata": {
    "papermill": {
     "duration": 0.013426,
     "end_time": "2025-08-19T18:59:28.941586",
     "exception": false,
     "start_time": "2025-08-19T18:59:28.928160",
     "status": "completed"
    },
    "tags": []
   },
   "source": [
    "Conditional coverage & looking at subgroups"
   ]
  },
  {
   "cell_type": "code",
   "execution_count": 51,
   "id": "8968c366",
   "metadata": {
    "execution": {
     "iopub.execute_input": "2025-08-19T18:59:28.969630Z",
     "iopub.status.busy": "2025-08-19T18:59:28.968170Z",
     "iopub.status.idle": "2025-08-19T18:59:29.248741Z",
     "shell.execute_reply": "2025-08-19T18:59:29.247930Z"
    },
    "papermill": {
     "duration": 0.300995,
     "end_time": "2025-08-19T18:59:29.255019",
     "exception": false,
     "start_time": "2025-08-19T18:59:28.954024",
     "status": "completed"
    },
    "tags": []
   },
   "outputs": [],
   "source": [
    "from fairness_multiverse.conformal import build_cp_groups\n",
    "\n",
    "cp_groups_df = build_cp_groups(pred_sets, y_true, X_test.index, org_test)"
   ]
  },
  {
   "cell_type": "code",
   "execution_count": 52,
   "id": "292ddabf",
   "metadata": {
    "execution": {
     "iopub.execute_input": "2025-08-19T18:59:29.293963Z",
     "iopub.status.busy": "2025-08-19T18:59:29.292391Z",
     "iopub.status.idle": "2025-08-19T18:59:30.139181Z",
     "shell.execute_reply": "2025-08-19T18:59:30.138016Z"
    },
    "papermill": {
     "duration": 0.86294,
     "end_time": "2025-08-19T18:59:30.141421",
     "exception": false,
     "start_time": "2025-08-19T18:59:29.278481",
     "status": "completed"
    },
    "tags": []
   },
   "outputs": [],
   "source": [
    "# Define covered = 1 if true_label is in the predicted set\n",
    "cp_groups_df['covered'] = cp_groups_df.apply(\n",
    "    lambda r: int(r['true_label'] in r['pred_set']),\n",
    "    axis=1\n",
    ")"
   ]
  },
  {
   "cell_type": "code",
   "execution_count": 53,
   "id": "3a261692",
   "metadata": {
    "execution": {
     "iopub.execute_input": "2025-08-19T18:59:30.178501Z",
     "iopub.status.busy": "2025-08-19T18:59:30.176900Z",
     "iopub.status.idle": "2025-08-19T18:59:30.198772Z",
     "shell.execute_reply": "2025-08-19T18:59:30.197715Z"
    },
    "papermill": {
     "duration": 0.04023,
     "end_time": "2025-08-19T18:59:30.201634",
     "exception": false,
     "start_time": "2025-08-19T18:59:30.161404",
     "status": "completed"
    },
    "tags": []
   },
   "outputs": [],
   "source": [
    "subgroups = ['frau1','nongerman','nongerman_male','nongerman_female']\n",
    "\n",
    "# Conditional coverage for subgroup==1\n",
    "cond_coverage = {\n",
    "    g: cp_groups_df.loc[cp_groups_df[g]==1, 'covered'].mean()\n",
    "    for g in subgroups\n",
    "}"
   ]
  },
  {
   "cell_type": "code",
   "execution_count": 54,
   "id": "894fd600",
   "metadata": {
    "execution": {
     "iopub.execute_input": "2025-08-19T18:59:30.246355Z",
     "iopub.status.busy": "2025-08-19T18:59:30.244941Z",
     "iopub.status.idle": "2025-08-19T18:59:30.255821Z",
     "shell.execute_reply": "2025-08-19T18:59:30.254804Z"
    },
    "papermill": {
     "duration": 0.02798,
     "end_time": "2025-08-19T18:59:30.257204",
     "exception": false,
     "start_time": "2025-08-19T18:59:30.229224",
     "status": "completed"
    },
    "tags": []
   },
   "outputs": [
    {
     "data": {
      "text/plain": [
       "{'frau1': 0.905701577031945,\n",
       " 'nongerman': 0.9049009150620333,\n",
       " 'nongerman_male': 0.9238043771953526,\n",
       " 'nongerman_female': 0.8736214605067064}"
      ]
     },
     "execution_count": 54,
     "metadata": {},
     "output_type": "execute_result"
    }
   ],
   "source": [
    "cond_coverage"
   ]
  },
  {
   "cell_type": "code",
   "execution_count": 55,
   "id": "942895c7",
   "metadata": {
    "execution": {
     "iopub.execute_input": "2025-08-19T18:59:30.288426Z",
     "iopub.status.busy": "2025-08-19T18:59:30.286953Z",
     "iopub.status.idle": "2025-08-19T18:59:30.298666Z",
     "shell.execute_reply": "2025-08-19T18:59:30.297484Z"
    },
    "papermill": {
     "duration": 0.027838,
     "end_time": "2025-08-19T18:59:30.300736",
     "exception": false,
     "start_time": "2025-08-19T18:59:30.272898",
     "status": "completed"
    },
    "tags": []
   },
   "outputs": [],
   "source": [
    "for subgroup, cov in cond_coverage.items():\n",
    "    cp_metrics_df[f\"cov_{subgroup}\"] = cov"
   ]
  },
  {
   "cell_type": "code",
   "execution_count": 56,
   "id": "3970120f",
   "metadata": {
    "execution": {
     "iopub.execute_input": "2025-08-19T18:59:30.332840Z",
     "iopub.status.busy": "2025-08-19T18:59:30.331378Z",
     "iopub.status.idle": "2025-08-19T18:59:30.356821Z",
     "shell.execute_reply": "2025-08-19T18:59:30.356008Z"
    },
    "papermill": {
     "duration": 0.042262,
     "end_time": "2025-08-19T18:59:30.359064",
     "exception": false,
     "start_time": "2025-08-19T18:59:30.316802",
     "status": "completed"
    },
    "tags": []
   },
   "outputs": [
    {
     "data": {
      "text/html": [
       "<div>\n",
       "<style scoped>\n",
       "    .dataframe tbody tr th:only-of-type {\n",
       "        vertical-align: middle;\n",
       "    }\n",
       "\n",
       "    .dataframe tbody tr th {\n",
       "        vertical-align: top;\n",
       "    }\n",
       "\n",
       "    .dataframe thead th {\n",
       "        text-align: right;\n",
       "    }\n",
       "</style>\n",
       "<table border=\"1\" class=\"dataframe\">\n",
       "  <thead>\n",
       "    <tr style=\"text-align: right;\">\n",
       "      <th></th>\n",
       "      <th>universe_id</th>\n",
       "      <th>universe_training_year</th>\n",
       "      <th>universe_training_size</th>\n",
       "      <th>universe_scale</th>\n",
       "      <th>universe_model</th>\n",
       "      <th>universe_exclude_features</th>\n",
       "      <th>universe_exclude_subgroups</th>\n",
       "      <th>q_hat</th>\n",
       "      <th>coverage</th>\n",
       "      <th>avg_size</th>\n",
       "      <th>cov_frau1</th>\n",
       "      <th>cov_nongerman</th>\n",
       "      <th>cov_nongerman_male</th>\n",
       "      <th>cov_nongerman_female</th>\n",
       "    </tr>\n",
       "  </thead>\n",
       "  <tbody>\n",
       "    <tr>\n",
       "      <th>0</th>\n",
       "      <td>0c9c856c2ab8cda17e935030e58553fa</td>\n",
       "      <td>2012_14</td>\n",
       "      <td>1k</td>\n",
       "      <td>scale</td>\n",
       "      <td>gbm</td>\n",
       "      <td>nationality</td>\n",
       "      <td>drop-non-german</td>\n",
       "      <td>0.775443</td>\n",
       "      <td>0.91108</td>\n",
       "      <td>1.184729</td>\n",
       "      <td>0.905702</td>\n",
       "      <td>0.904901</td>\n",
       "      <td>0.923804</td>\n",
       "      <td>0.873621</td>\n",
       "    </tr>\n",
       "  </tbody>\n",
       "</table>\n",
       "</div>"
      ],
      "text/plain": [
       "                        universe_id universe_training_year  \\\n",
       "0  0c9c856c2ab8cda17e935030e58553fa                2012_14   \n",
       "\n",
       "  universe_training_size universe_scale universe_model  \\\n",
       "0                     1k          scale            gbm   \n",
       "\n",
       "  universe_exclude_features universe_exclude_subgroups     q_hat  coverage  \\\n",
       "0               nationality            drop-non-german  0.775443   0.91108   \n",
       "\n",
       "   avg_size  cov_frau1  cov_nongerman  cov_nongerman_male  \\\n",
       "0  1.184729   0.905702       0.904901            0.923804   \n",
       "\n",
       "   cov_nongerman_female  \n",
       "0              0.873621  "
      ]
     },
     "execution_count": 56,
     "metadata": {},
     "output_type": "execute_result"
    }
   ],
   "source": [
    "cp_metrics_df"
   ]
  },
  {
   "cell_type": "markdown",
   "id": "3fc519cc",
   "metadata": {
    "papermill": {
     "duration": 0.013381,
     "end_time": "2025-08-19T18:59:30.395826",
     "exception": false,
     "start_time": "2025-08-19T18:59:30.382445",
     "status": "completed"
    },
    "tags": []
   },
   "source": [
    "# (Fairness) Metrics"
   ]
  },
  {
   "cell_type": "code",
   "execution_count": 57,
   "id": "a2e5e155",
   "metadata": {
    "execution": {
     "iopub.execute_input": "2025-08-19T18:59:30.449011Z",
     "iopub.status.busy": "2025-08-19T18:59:30.447429Z",
     "iopub.status.idle": "2025-08-19T18:59:30.475656Z",
     "shell.execute_reply": "2025-08-19T18:59:30.474729Z"
    },
    "papermill": {
     "duration": 0.07125,
     "end_time": "2025-08-19T18:59:30.479668",
     "exception": false,
     "start_time": "2025-08-19T18:59:30.408418",
     "status": "completed"
    },
    "tags": []
   },
   "outputs": [],
   "source": [
    "colname_to_bin = \"maxdeutsch1\"\n",
    "majority_value = org_train[colname_to_bin].mode()[0]\n",
    "\n",
    "org_test[\"majmin\"] = np.where(org_test[colname_to_bin] == majority_value, \"majority\", \"minority\")"
   ]
  },
  {
   "cell_type": "code",
   "execution_count": 58,
   "id": "17e3e4d5",
   "metadata": {
    "execution": {
     "iopub.execute_input": "2025-08-19T18:59:30.524050Z",
     "iopub.status.busy": "2025-08-19T18:59:30.522639Z",
     "iopub.status.idle": "2025-08-19T18:59:32.229004Z",
     "shell.execute_reply": "2025-08-19T18:59:32.227507Z"
    },
    "papermill": {
     "duration": 1.725045,
     "end_time": "2025-08-19T18:59:32.231883",
     "exception": false,
     "start_time": "2025-08-19T18:59:30.506838",
     "status": "completed"
    },
    "tags": []
   },
   "outputs": [],
   "source": [
    "example_universe = universe.copy()\n",
    "example_universe[\"cutoff\"] = example_universe[\"cutoff\"][0]\n",
    "example_universe[\"eval_fairness_grouping\"] = example_universe[\"eval_fairness_grouping\"][0]\n",
    "fairness_dict, metric_frame = universe_analysis.compute_metrics(\n",
    "    example_universe,\n",
    "    y_pred_prob=probs_test,\n",
    "    y_test=y_true,\n",
    "    org_test=org_test,\n",
    ")"
   ]
  },
  {
   "cell_type": "markdown",
   "id": "1fb7a0e9",
   "metadata": {
    "papermill": {
     "duration": 0.013297,
     "end_time": "2025-08-19T18:59:32.271903",
     "exception": false,
     "start_time": "2025-08-19T18:59:32.258606",
     "status": "completed"
    },
    "tags": []
   },
   "source": [
    "# Overall"
   ]
  },
  {
   "cell_type": "markdown",
   "id": "be1784b1",
   "metadata": {
    "papermill": {
     "duration": 0.012462,
     "end_time": "2025-08-19T18:59:32.296910",
     "exception": false,
     "start_time": "2025-08-19T18:59:32.284448",
     "status": "completed"
    },
    "tags": []
   },
   "source": [
    "Main fairness target: Equalized Odds. Seems to be a better fit than equal opportunity, since we're not only interested in Y = 1. Seems to be a better fit than demographic parity, since we also care about accuracy, not just equal distribution of preds.\n",
    "\n",
    "Pick column for computation of fairness metrics\n",
    "\n",
    "Performance\n",
    "Overall performance measures, most interesting in relation to the measures split by group below"
   ]
  },
  {
   "cell_type": "code",
   "execution_count": 59,
   "id": "b7672bee",
   "metadata": {
    "execution": {
     "iopub.execute_input": "2025-08-19T18:59:32.326046Z",
     "iopub.status.busy": "2025-08-19T18:59:32.324616Z",
     "iopub.status.idle": "2025-08-19T18:59:32.341309Z",
     "shell.execute_reply": "2025-08-19T18:59:32.340111Z"
    },
    "papermill": {
     "duration": 0.033839,
     "end_time": "2025-08-19T18:59:32.343301",
     "exception": false,
     "start_time": "2025-08-19T18:59:32.309462",
     "status": "completed"
    },
    "tags": []
   },
   "outputs": [
    {
     "data": {
      "text/plain": [
       "accuracy                   0.223219\n",
       "balanced accuracy          0.546044\n",
       "f1                         0.244582\n",
       "precision                  0.139722\n",
       "false positive rate        0.888187\n",
       "false negative rate        0.019725\n",
       "selection rate             0.900000\n",
       "count                  89710.000000\n",
       "dtype: float64"
      ]
     },
     "execution_count": 59,
     "metadata": {},
     "output_type": "execute_result"
    }
   ],
   "source": [
    "metric_frame.overall"
   ]
  },
  {
   "cell_type": "markdown",
   "id": "d93333c9",
   "metadata": {
    "papermill": {
     "duration": 0.013188,
     "end_time": "2025-08-19T18:59:32.376287",
     "exception": false,
     "start_time": "2025-08-19T18:59:32.363099",
     "status": "completed"
    },
    "tags": []
   },
   "source": [
    "By Group"
   ]
  },
  {
   "cell_type": "code",
   "execution_count": 60,
   "id": "52256966",
   "metadata": {
    "execution": {
     "iopub.execute_input": "2025-08-19T18:59:32.404833Z",
     "iopub.status.busy": "2025-08-19T18:59:32.403616Z",
     "iopub.status.idle": "2025-08-19T18:59:32.427284Z",
     "shell.execute_reply": "2025-08-19T18:59:32.426093Z"
    },
    "papermill": {
     "duration": 0.039479,
     "end_time": "2025-08-19T18:59:32.428569",
     "exception": false,
     "start_time": "2025-08-19T18:59:32.389090",
     "status": "completed"
    },
    "tags": []
   },
   "outputs": [
    {
     "data": {
      "text/html": [
       "<div>\n",
       "<style scoped>\n",
       "    .dataframe tbody tr th:only-of-type {\n",
       "        vertical-align: middle;\n",
       "    }\n",
       "\n",
       "    .dataframe tbody tr th {\n",
       "        vertical-align: top;\n",
       "    }\n",
       "\n",
       "    .dataframe thead th {\n",
       "        text-align: right;\n",
       "    }\n",
       "</style>\n",
       "<table border=\"1\" class=\"dataframe\">\n",
       "  <thead>\n",
       "    <tr style=\"text-align: right;\">\n",
       "      <th></th>\n",
       "      <th>accuracy</th>\n",
       "      <th>balanced accuracy</th>\n",
       "      <th>f1</th>\n",
       "      <th>precision</th>\n",
       "      <th>false positive rate</th>\n",
       "      <th>false negative rate</th>\n",
       "      <th>selection rate</th>\n",
       "      <th>count</th>\n",
       "    </tr>\n",
       "    <tr>\n",
       "      <th>majmin</th>\n",
       "      <th></th>\n",
       "      <th></th>\n",
       "      <th></th>\n",
       "      <th></th>\n",
       "      <th></th>\n",
       "      <th></th>\n",
       "      <th></th>\n",
       "      <th></th>\n",
       "    </tr>\n",
       "  </thead>\n",
       "  <tbody>\n",
       "    <tr>\n",
       "      <th>majority</th>\n",
       "      <td>0.243415</td>\n",
       "      <td>0.55502</td>\n",
       "      <td>0.254739</td>\n",
       "      <td>0.146429</td>\n",
       "      <td>0.868516</td>\n",
       "      <td>0.021444</td>\n",
       "      <td>0.883056</td>\n",
       "      <td>69170.0</td>\n",
       "    </tr>\n",
       "    <tr>\n",
       "      <th>minority</th>\n",
       "      <td>0.155209</td>\n",
       "      <td>0.51687</td>\n",
       "      <td>0.212204</td>\n",
       "      <td>0.118883</td>\n",
       "      <td>0.953170</td>\n",
       "      <td>0.013091</td>\n",
       "      <td>0.957059</td>\n",
       "      <td>20540.0</td>\n",
       "    </tr>\n",
       "  </tbody>\n",
       "</table>\n",
       "</div>"
      ],
      "text/plain": [
       "          accuracy  balanced accuracy        f1  precision  \\\n",
       "majmin                                                       \n",
       "majority  0.243415            0.55502  0.254739   0.146429   \n",
       "minority  0.155209            0.51687  0.212204   0.118883   \n",
       "\n",
       "          false positive rate  false negative rate  selection rate    count  \n",
       "majmin                                                                       \n",
       "majority             0.868516             0.021444        0.883056  69170.0  \n",
       "minority             0.953170             0.013091        0.957059  20540.0  "
      ]
     },
     "execution_count": 60,
     "metadata": {},
     "output_type": "execute_result"
    }
   ],
   "source": [
    "metric_frame.by_group"
   ]
  },
  {
   "cell_type": "code",
   "execution_count": 61,
   "id": "6e6c20ae",
   "metadata": {
    "execution": {
     "iopub.execute_input": "2025-08-19T18:59:32.457522Z",
     "iopub.status.busy": "2025-08-19T18:59:32.456375Z",
     "iopub.status.idle": "2025-08-19T18:59:34.418417Z",
     "shell.execute_reply": "2025-08-19T18:59:34.417117Z"
    },
    "papermill": {
     "duration": 1.979383,
     "end_time": "2025-08-19T18:59:34.421499",
     "exception": false,
     "start_time": "2025-08-19T18:59:32.442116",
     "status": "completed"
    },
    "tags": []
   },
   "outputs": [
    {
     "data": {
      "text/plain": [
       "array([[<Axes: title={'center': 'accuracy'}, xlabel='majmin'>,\n",
       "        <Axes: title={'center': 'balanced accuracy'}, xlabel='majmin'>,\n",
       "        <Axes: title={'center': 'f1'}, xlabel='majmin'>],\n",
       "       [<Axes: title={'center': 'precision'}, xlabel='majmin'>,\n",
       "        <Axes: title={'center': 'false positive rate'}, xlabel='majmin'>,\n",
       "        <Axes: title={'center': 'false negative rate'}, xlabel='majmin'>],\n",
       "       [<Axes: title={'center': 'selection rate'}, xlabel='majmin'>,\n",
       "        <Axes: title={'center': 'count'}, xlabel='majmin'>,\n",
       "        <Axes: xlabel='majmin'>]], dtype=object)"
      ]
     },
     "execution_count": 61,
     "metadata": {},
     "output_type": "execute_result"
    },
    {
     "data": {
      "image/png": "[encoded data removed]",
      "text/plain": [
       "<Figure size 1200x800 with 9 Axes>"
      ]
     },
     "metadata": {},
     "output_type": "display_data"
    }
   ],
   "source": [
    "# In a graphic\n",
    "metric_frame.by_group.plot.bar(\n",
    "    subplots=True,\n",
    "    layout=[3, 3],\n",
    "    legend=False,\n",
    "    figsize=[12, 8],\n",
    "    title=\"Show all metrics\",\n",
    ")"
   ]
  },
  {
   "cell_type": "markdown",
   "id": "b2e433ae",
   "metadata": {
    "papermill": {
     "duration": 0.014455,
     "end_time": "2025-08-19T18:59:34.466874",
     "exception": false,
     "start_time": "2025-08-19T18:59:34.452419",
     "status": "completed"
    },
    "tags": []
   },
   "source": [
    "# Final Output"
   ]
  },
  {
   "cell_type": "code",
   "execution_count": 62,
   "id": "3871301e",
   "metadata": {
    "execution": {
     "iopub.execute_input": "2025-08-19T18:59:34.499806Z",
     "iopub.status.busy": "2025-08-19T18:59:34.498059Z",
     "iopub.status.idle": "2025-08-19T18:59:34.517587Z",
     "shell.execute_reply": "2025-08-19T18:59:34.516339Z"
    },
    "papermill": {
     "duration": 0.038212,
     "end_time": "2025-08-19T18:59:34.519289",
     "exception": false,
     "start_time": "2025-08-19T18:59:34.481077",
     "status": "completed"
    },
    "tags": []
   },
   "outputs": [
    {
     "data": {
      "text/plain": [
       "4"
      ]
     },
     "execution_count": 62,
     "metadata": {},
     "output_type": "execute_result"
    }
   ],
   "source": [
    "sub_universes = universe_analysis.generate_sub_universes()\n",
    "len(sub_universes)"
   ]
  },
  {
   "cell_type": "code",
   "execution_count": 63,
   "id": "d9cfdaca",
   "metadata": {
    "execution": {
     "iopub.execute_input": "2025-08-19T18:59:34.558184Z",
     "iopub.status.busy": "2025-08-19T18:59:34.557470Z",
     "iopub.status.idle": "2025-08-19T18:59:34.567675Z",
     "shell.execute_reply": "2025-08-19T18:59:34.566411Z"
    },
    "papermill": {
     "duration": 0.02842,
     "end_time": "2025-08-19T18:59:34.569229",
     "exception": false,
     "start_time": "2025-08-19T18:59:34.540809",
     "status": "completed"
    },
    "tags": []
   },
   "outputs": [],
   "source": [
    "def filter_sub_universe_data(sub_universe, org_test):\n",
    "    # Keep all rows — no filtering\n",
    "    keep_rows_mask = np.ones(org_test.shape[0], dtype=bool)\n",
    "\n",
    "    print(f\"[INFO] Keeping all rows: {keep_rows_mask.sum()} rows retained.\")\n",
    "    return keep_rows_mask"
   ]
  },
  {
   "cell_type": "code",
   "execution_count": 64,
   "id": "2bc31ac1",
   "metadata": {
    "execution": {
     "iopub.execute_input": "2025-08-19T18:59:34.603335Z",
     "iopub.status.busy": "2025-08-19T18:59:34.602588Z",
     "iopub.status.idle": "2025-08-19T18:59:41.660271Z",
     "shell.execute_reply": "2025-08-19T18:59:41.659036Z"
    },
    "papermill": {
     "duration": 7.075768,
     "end_time": "2025-08-19T18:59:41.662426",
     "exception": false,
     "start_time": "2025-08-19T18:59:34.586658",
     "status": "completed"
    },
    "tags": []
   },
   "outputs": [
    {
     "name": "stdout",
     "output_type": "stream",
     "text": [
      "Stopping execution_time clock.\n",
      "[INFO] Keeping all rows: 89710 rows retained.\n"
     ]
    },
    {
     "name": "stdout",
     "output_type": "stream",
     "text": [
      "[INFO] Keeping all rows: 89710 rows retained.\n"
     ]
    },
    {
     "name": "stdout",
     "output_type": "stream",
     "text": [
      "[INFO] Keeping all rows: 89710 rows retained.\n"
     ]
    },
    {
     "name": "stdout",
     "output_type": "stream",
     "text": [
      "[INFO] Keeping all rows: 89710 rows retained.\n"
     ]
    },
    {
     "data": {
      "text/html": [
       "<div>\n",
       "<style scoped>\n",
       "    .dataframe tbody tr th:only-of-type {\n",
       "        vertical-align: middle;\n",
       "    }\n",
       "\n",
       "    .dataframe tbody tr th {\n",
       "        vertical-align: top;\n",
       "    }\n",
       "\n",
       "    .dataframe thead th {\n",
       "        text-align: right;\n",
       "    }\n",
       "</style>\n",
       "<table border=\"1\" class=\"dataframe\">\n",
       "  <thead>\n",
       "    <tr style=\"text-align: right;\">\n",
       "      <th></th>\n",
       "      <th>run_no</th>\n",
       "      <th>universe_id</th>\n",
       "      <th>universe_settings</th>\n",
       "      <th>execution_time</th>\n",
       "      <th>test_size_n</th>\n",
       "      <th>test_size_frac</th>\n",
       "      <th>fair_main_equalized_odds_difference</th>\n",
       "      <th>fair_main_equalized_odds_ratio</th>\n",
       "      <th>fair_main_demographic_parity_difference</th>\n",
       "      <th>fair_main_demographic_parity_ratio</th>\n",
       "      <th>...</th>\n",
       "      <th>perf_grp_precision_0</th>\n",
       "      <th>perf_grp_precision_1</th>\n",
       "      <th>perf_grp_false positive rate_0</th>\n",
       "      <th>perf_grp_false positive rate_1</th>\n",
       "      <th>perf_grp_false negative rate_0</th>\n",
       "      <th>perf_grp_false negative rate_1</th>\n",
       "      <th>perf_grp_selection rate_0</th>\n",
       "      <th>perf_grp_selection rate_1</th>\n",
       "      <th>perf_grp_count_0</th>\n",
       "      <th>perf_grp_count_1</th>\n",
       "    </tr>\n",
       "  </thead>\n",
       "  <tbody>\n",
       "    <tr>\n",
       "      <th>0</th>\n",
       "      <td>3</td>\n",
       "      <td>0c9c856c2ab8cda17e935030e58553fa</td>\n",
       "      <td>{\"cutoff\": \"quantile_0.1\", \"eval_fairness_grou...</td>\n",
       "      <td>23.843187</td>\n",
       "      <td>89710</td>\n",
       "      <td>1.0</td>\n",
       "      <td>0.084654</td>\n",
       "      <td>0.911187</td>\n",
       "      <td>0.074003</td>\n",
       "      <td>0.922677</td>\n",
       "      <td>...</td>\n",
       "      <td>NaN</td>\n",
       "      <td>NaN</td>\n",
       "      <td>NaN</td>\n",
       "      <td>NaN</td>\n",
       "      <td>NaN</td>\n",
       "      <td>NaN</td>\n",
       "      <td>NaN</td>\n",
       "      <td>NaN</td>\n",
       "      <td>NaN</td>\n",
       "      <td>NaN</td>\n",
       "    </tr>\n",
       "    <tr>\n",
       "      <th>0</th>\n",
       "      <td>3</td>\n",
       "      <td>0c9c856c2ab8cda17e935030e58553fa</td>\n",
       "      <td>{\"cutoff\": \"quantile_0.1\", \"eval_fairness_grou...</td>\n",
       "      <td>23.843187</td>\n",
       "      <td>89710</td>\n",
       "      <td>1.0</td>\n",
       "      <td>0.084654</td>\n",
       "      <td>0.911187</td>\n",
       "      <td>0.074003</td>\n",
       "      <td>0.922677</td>\n",
       "      <td>...</td>\n",
       "      <td>0.118883</td>\n",
       "      <td>0.146429</td>\n",
       "      <td>0.953170</td>\n",
       "      <td>0.868516</td>\n",
       "      <td>0.013091</td>\n",
       "      <td>0.021444</td>\n",
       "      <td>0.957059</td>\n",
       "      <td>0.883056</td>\n",
       "      <td>20540.0</td>\n",
       "      <td>69170.0</td>\n",
       "    </tr>\n",
       "    <tr>\n",
       "      <th>0</th>\n",
       "      <td>3</td>\n",
       "      <td>0c9c856c2ab8cda17e935030e58553fa</td>\n",
       "      <td>{\"cutoff\": \"quantile_0.25\", \"eval_fairness_gro...</td>\n",
       "      <td>23.843187</td>\n",
       "      <td>89710</td>\n",
       "      <td>1.0</td>\n",
       "      <td>0.085020</td>\n",
       "      <td>0.892298</td>\n",
       "      <td>0.071232</td>\n",
       "      <td>0.911504</td>\n",
       "      <td>...</td>\n",
       "      <td>NaN</td>\n",
       "      <td>NaN</td>\n",
       "      <td>NaN</td>\n",
       "      <td>NaN</td>\n",
       "      <td>NaN</td>\n",
       "      <td>NaN</td>\n",
       "      <td>NaN</td>\n",
       "      <td>NaN</td>\n",
       "      <td>NaN</td>\n",
       "      <td>NaN</td>\n",
       "    </tr>\n",
       "    <tr>\n",
       "      <th>0</th>\n",
       "      <td>3</td>\n",
       "      <td>0c9c856c2ab8cda17e935030e58553fa</td>\n",
       "      <td>{\"cutoff\": \"quantile_0.25\", \"eval_fairness_gro...</td>\n",
       "      <td>23.843187</td>\n",
       "      <td>89710</td>\n",
       "      <td>1.0</td>\n",
       "      <td>0.085020</td>\n",
       "      <td>0.892298</td>\n",
       "      <td>0.071232</td>\n",
       "      <td>0.911504</td>\n",
       "      <td>...</td>\n",
       "      <td>0.132341</td>\n",
       "      <td>0.166801</td>\n",
       "      <td>0.789401</td>\n",
       "      <td>0.704381</td>\n",
       "      <td>0.076014</td>\n",
       "      <td>0.073851</td>\n",
       "      <td>0.804917</td>\n",
       "      <td>0.733685</td>\n",
       "      <td>20540.0</td>\n",
       "      <td>69170.0</td>\n",
       "    </tr>\n",
       "  </tbody>\n",
       "</table>\n",
       "<p>4 rows × 50 columns</p>\n",
       "</div>"
      ],
      "text/plain": [
       "  run_no                       universe_id  \\\n",
       "0      3  0c9c856c2ab8cda17e935030e58553fa   \n",
       "0      3  0c9c856c2ab8cda17e935030e58553fa   \n",
       "0      3  0c9c856c2ab8cda17e935030e58553fa   \n",
       "0      3  0c9c856c2ab8cda17e935030e58553fa   \n",
       "\n",
       "                                   universe_settings  execution_time  \\\n",
       "0  {\"cutoff\": \"quantile_0.1\", \"eval_fairness_grou...       23.843187   \n",
       "0  {\"cutoff\": \"quantile_0.1\", \"eval_fairness_grou...       23.843187   \n",
       "0  {\"cutoff\": \"quantile_0.25\", \"eval_fairness_gro...       23.843187   \n",
       "0  {\"cutoff\": \"quantile_0.25\", \"eval_fairness_gro...       23.843187   \n",
       "\n",
       "   test_size_n  test_size_frac  fair_main_equalized_odds_difference  \\\n",
       "0        89710             1.0                             0.084654   \n",
       "0        89710             1.0                             0.084654   \n",
       "0        89710             1.0                             0.085020   \n",
       "0        89710             1.0                             0.085020   \n",
       "\n",
       "   fair_main_equalized_odds_ratio  fair_main_demographic_parity_difference  \\\n",
       "0                        0.911187                                 0.074003   \n",
       "0                        0.911187                                 0.074003   \n",
       "0                        0.892298                                 0.071232   \n",
       "0                        0.892298                                 0.071232   \n",
       "\n",
       "   fair_main_demographic_parity_ratio  ...  perf_grp_precision_0  \\\n",
       "0                            0.922677  ...                   NaN   \n",
       "0                            0.922677  ...              0.118883   \n",
       "0                            0.911504  ...                   NaN   \n",
       "0                            0.911504  ...              0.132341   \n",
       "\n",
       "   perf_grp_precision_1  perf_grp_false positive rate_0  \\\n",
       "0                   NaN                             NaN   \n",
       "0              0.146429                        0.953170   \n",
       "0                   NaN                             NaN   \n",
       "0              0.166801                        0.789401   \n",
       "\n",
       "   perf_grp_false positive rate_1  perf_grp_false negative rate_0  \\\n",
       "0                             NaN                             NaN   \n",
       "0                        0.868516                        0.013091   \n",
       "0                             NaN                             NaN   \n",
       "0                        0.704381                        0.076014   \n",
       "\n",
       "   perf_grp_false negative rate_1  perf_grp_selection rate_0  \\\n",
       "0                             NaN                        NaN   \n",
       "0                        0.021444                   0.957059   \n",
       "0                             NaN                        NaN   \n",
       "0                        0.073851                   0.804917   \n",
       "\n",
       "   perf_grp_selection rate_1  perf_grp_count_0  perf_grp_count_1  \n",
       "0                        NaN               NaN               NaN  \n",
       "0                   0.883056           20540.0           69170.0  \n",
       "0                        NaN               NaN               NaN  \n",
       "0                   0.733685           20540.0           69170.0  \n",
       "\n",
       "[4 rows x 50 columns]"
      ]
     },
     "execution_count": 64,
     "metadata": {},
     "output_type": "execute_result"
    }
   ],
   "source": [
    "final_output = universe_analysis.generate_final_output(\n",
    "    y_pred_prob=probs_test,\n",
    "    y_test=y_true,\n",
    "    org_test=org_test,\n",
    "    filter_data=filter_sub_universe_data,\n",
    "    cp_metrics_df=cp_metrics_df,\n",
    "    save=True,\n",
    ")\n",
    "final_output"
   ]
  },
  {
   "cell_type": "code",
   "execution_count": null,
   "id": "8b80a1ff",
   "metadata": {
    "papermill": {
     "duration": 0.030807,
     "end_time": "2025-08-19T18:59:41.731841",
     "exception": false,
     "start_time": "2025-08-19T18:59:41.701034",
     "status": "completed"
    },
    "tags": []
   },
   "outputs": [],
   "source": []
  },
  {
   "cell_type": "code",
   "execution_count": null,
   "id": "275c9fad",
   "metadata": {
    "papermill": {
     "duration": 0.014296,
     "end_time": "2025-08-19T18:59:41.761092",
     "exception": false,
     "start_time": "2025-08-19T18:59:41.746796",
     "status": "completed"
    },
    "tags": []
   },
   "outputs": [],
   "source": []
  }
 ],
 "metadata": {
  "celltoolbar": "Tags",
  "kernelspec": {
   "display_name": "Python (CMA Fairness)",
   "language": "python",
   "name": "cma_fair_env"
  },
  "language_info": {
   "codemirror_mode": {
    "name": "ipython",
    "version": 3
   },
   "file_extension": ".py",
   "mimetype": "text/x-python",
   "name": "python",
   "nbconvert_exporter": "python",
   "pygments_lexer": "ipython3",
   "version": "3.10.12"
  },
  "papermill": {
   "default_parameters": {},
   "duration": 34.552972,
   "end_time": "2025-08-19T18:59:42.598896",
   "environment_variables": {},
   "exception": null,
   "input_path": "universe_analysis.ipynb",
   "output_path": "output/runs/3/notebooks/m_3-0c9c856c2ab8cda17e935030e58553fa.ipynb",
   "parameters": {
    "output_dir": "output",
    "run_no": "3",
    "seed": "2023",
    "universe": "{\"cutoff\": [\"quantile_0.1\", \"quantile_0.25\"], \"eval_fairness_grouping\": [\"majority-minority\", \"nationality-all\"], \"exclude_features\": \"nationality\", \"exclude_subgroups\": \"drop-non-german\", \"model\": \"gbm\", \"scale\": \"scale\", \"training_size\": \"1k\", \"training_year\": \"2012_14\"}",
    "universe_id": "0c9c856c2ab8cda17e935030e58553fa"
   },
   "start_time": "2025-08-19T18:59:08.045924",
   "version": "2.6.0"
  }
 },
 "nbformat": 4,
 "nbformat_minor": 5
}