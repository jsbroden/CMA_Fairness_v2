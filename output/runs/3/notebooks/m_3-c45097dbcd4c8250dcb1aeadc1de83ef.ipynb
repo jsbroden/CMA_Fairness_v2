{
 "cells": [
  {
   "cell_type": "markdown",
   "id": "ef23dbb3",
   "metadata": {
    "papermill": {
     "duration": 0.021359,
     "end_time": "2025-08-19T18:18:45.898072",
     "exception": false,
     "start_time": "2025-08-19T18:18:45.876713",
     "status": "completed"
    },
    "tags": []
   },
   "source": [
    "# Setup"
   ]
  },
  {
   "cell_type": "code",
   "execution_count": 1,
   "id": "0bc8e7dc",
   "metadata": {
    "execution": {
     "iopub.execute_input": "2025-08-19T18:18:45.920840Z",
     "iopub.status.busy": "2025-08-19T18:18:45.919841Z",
     "iopub.status.idle": "2025-08-19T18:18:45.939495Z",
     "shell.execute_reply": "2025-08-19T18:18:45.938161Z"
    },
    "papermill": {
     "duration": 0.032777,
     "end_time": "2025-08-19T18:18:45.942376",
     "exception": false,
     "start_time": "2025-08-19T18:18:45.909599",
     "status": "completed"
    },
    "tags": []
   },
   "outputs": [
    {
     "name": "stdout",
     "output_type": "stream",
     "text": [
      "/dss/dsshome1/0C/ra93lal2/cma/CMA_Fairness_v2\n"
     ]
    },
    {
     "name": "stderr",
     "output_type": "stream",
     "text": [
      "/dss/dsshome1/0C/ra93lal2/.local/share/virtualenvs/CMA_Fairness_v2-3j10GkSs/lib/python3.10/site-packages/IPython/core/magics/osm.py:393: UserWarning: This is now an optional IPython functionality, using bookmarks requires you to install the `pickleshare` library.\n",
      "  bkms = self.shell.db.get('bookmarks', {})\n",
      "/dss/dsshome1/0C/ra93lal2/.local/share/virtualenvs/CMA_Fairness_v2-3j10GkSs/lib/python3.10/site-packages/IPython/core/magics/osm.py:417: UserWarning: This is now an optional IPython functionality, setting dhist requires you to install the `pickleshare` library.\n",
      "  self.shell.db['dhist'] = compress_dhist(dhist)[-100:]\n"
     ]
    }
   ],
   "source": [
    "%cd ~/cma/CMA_Fairness_v2"
   ]
  },
  {
   "cell_type": "markdown",
   "id": "9d235661",
   "metadata": {
    "papermill": {
     "duration": 0.009097,
     "end_time": "2025-08-19T18:18:45.964538",
     "exception": false,
     "start_time": "2025-08-19T18:18:45.955441",
     "status": "completed"
    },
    "tags": []
   },
   "source": [
    "The following cell holds the definition of our parameters, these values can be overriden by rendering the with e.g. the following command:\n",
    "\n",
    "papermill -p alpha 0.2 -p ratio 0.3 universe_analysis.ipynb output/test_run.ipynb"
   ]
  },
  {
   "cell_type": "code",
   "execution_count": 2,
   "id": "4a789d8e",
   "metadata": {
    "execution": {
     "iopub.execute_input": "2025-08-19T18:18:45.984181Z",
     "iopub.status.busy": "2025-08-19T18:18:45.983156Z",
     "iopub.status.idle": "2025-08-19T18:18:45.990170Z",
     "shell.execute_reply": "2025-08-19T18:18:45.988981Z"
    },
    "papermill": {
     "duration": 0.018716,
     "end_time": "2025-08-19T18:18:45.991733",
     "exception": false,
     "start_time": "2025-08-19T18:18:45.973017",
     "status": "completed"
    },
    "tags": []
   },
   "outputs": [
    {
     "name": "stdout",
     "output_type": "stream",
     "text": [
      "Current working directory: /dss/dsshome1/0C/ra93lal2/cma/CMA_Fairness_v2\n"
     ]
    }
   ],
   "source": [
    "import os\n",
    "print(\"Current working directory:\", os.getcwd())"
   ]
  },
  {
   "cell_type": "code",
   "execution_count": 3,
   "id": "4132aaed",
   "metadata": {
    "execution": {
     "iopub.execute_input": "2025-08-19T18:18:46.012517Z",
     "iopub.status.busy": "2025-08-19T18:18:46.011497Z",
     "iopub.status.idle": "2025-08-19T18:18:46.020251Z",
     "shell.execute_reply": "2025-08-19T18:18:46.018977Z"
    },
    "papermill": {
     "duration": 0.020913,
     "end_time": "2025-08-19T18:18:46.021952",
     "exception": false,
     "start_time": "2025-08-19T18:18:46.001039",
     "status": "completed"
    },
    "tags": [
     "parameters"
    ]
   },
   "outputs": [],
   "source": [
    "run_no = 0\n",
    "universe_id = \"test\"\n",
    "universe = {\n",
    "    \"training_size\": \"5k\", # \"25k\", \"5k\", \"1k\"\n",
    "    \"training_year\": \"2012_14\", # \"2014\", \"2012_14\", \"2010_14\"\n",
    "    \"scale\": \"scale\", # \"scale\", \"do-not-scale\",\n",
    "    \"model\": \"elasticnet\", # \"logreg\", \"penalized_logreg\", \"rf\", \"gbm\", \"elasticnet\"\n",
    "    \"cutoff\": [\"quantile_0.15\", \"quantile_0.30\"],\n",
    "    \"exclude_features\": \"age\", # \"none\", \"nationality\", \"sex\", \"nationality-sex\", \"age\"\n",
    "    \"exclude_subgroups\": \"drop-non-german\", # \"keep-all\", \"drop-non-german\"\n",
    "    \"eval_fairness_grouping\": [\"majority-minority\", \"nationality-all\"]\n",
    "}\n",
    "\n",
    "output_dir=\"./output\"\n",
    "seed=0"
   ]
  },
  {
   "cell_type": "code",
   "execution_count": 4,
   "id": "1e4a3297",
   "metadata": {
    "execution": {
     "iopub.execute_input": "2025-08-19T18:18:46.043726Z",
     "iopub.status.busy": "2025-08-19T18:18:46.042766Z",
     "iopub.status.idle": "2025-08-19T18:18:46.049799Z",
     "shell.execute_reply": "2025-08-19T18:18:46.048606Z"
    },
    "papermill": {
     "duration": 0.018901,
     "end_time": "2025-08-19T18:18:46.051540",
     "exception": false,
     "start_time": "2025-08-19T18:18:46.032639",
     "status": "completed"
    },
    "tags": [
     "injected-parameters"
    ]
   },
   "outputs": [],
   "source": [
    "# Parameters\n",
    "universe_id = \"c45097dbcd4c8250dcb1aeadc1de83ef\"\n",
    "run_no = \"3\"\n",
    "universe = \"{\\\"cutoff\\\": [\\\"quantile_0.1\\\", \\\"quantile_0.25\\\"], \\\"eval_fairness_grouping\\\": [\\\"majority-minority\\\", \\\"nationality-all\\\"], \\\"exclude_features\\\": \\\"sex\\\", \\\"exclude_subgroups\\\": \\\"keep-all\\\", \\\"model\\\": \\\"penalized_logreg\\\", \\\"scale\\\": \\\"do-not-scale\\\", \\\"training_size\\\": \\\"25k\\\", \\\"training_year\\\": \\\"2010_14\\\"}\"\n",
    "output_dir = \"output\"\n",
    "seed = \"2023\"\n"
   ]
  },
  {
   "cell_type": "code",
   "execution_count": 5,
   "id": "a5d7941f",
   "metadata": {
    "execution": {
     "iopub.execute_input": "2025-08-19T18:18:46.072947Z",
     "iopub.status.busy": "2025-08-19T18:18:46.072075Z",
     "iopub.status.idle": "2025-08-19T18:18:46.078688Z",
     "shell.execute_reply": "2025-08-19T18:18:46.077453Z"
    },
    "papermill": {
     "duration": 0.018409,
     "end_time": "2025-08-19T18:18:46.080345",
     "exception": false,
     "start_time": "2025-08-19T18:18:46.061936",
     "status": "completed"
    },
    "tags": []
   },
   "outputs": [],
   "source": [
    "import json\n",
    "if isinstance(universe, str):\n",
    "    universe = json.loads(universe)"
   ]
  },
  {
   "cell_type": "code",
   "execution_count": 6,
   "id": "7076ccb1",
   "metadata": {
    "execution": {
     "iopub.execute_input": "2025-08-19T18:18:46.102379Z",
     "iopub.status.busy": "2025-08-19T18:18:46.101390Z",
     "iopub.status.idle": "2025-08-19T18:18:46.151403Z",
     "shell.execute_reply": "2025-08-19T18:18:46.150379Z"
    },
    "papermill": {
     "duration": 0.064064,
     "end_time": "2025-08-19T18:18:46.154884",
     "exception": false,
     "start_time": "2025-08-19T18:18:46.090820",
     "status": "completed"
    },
    "tags": []
   },
   "outputs": [],
   "source": [
    "# Auto-reload the custom package\n",
    "%load_ext autoreload\n",
    "%autoreload 1\n",
    "%aimport fairness_multiverse"
   ]
  },
  {
   "cell_type": "code",
   "execution_count": 7,
   "id": "94c8eb93",
   "metadata": {
    "execution": {
     "iopub.execute_input": "2025-08-19T18:18:46.188332Z",
     "iopub.status.busy": "2025-08-19T18:18:46.187515Z",
     "iopub.status.idle": "2025-08-19T18:18:47.764540Z",
     "shell.execute_reply": "2025-08-19T18:18:47.763812Z"
    },
    "papermill": {
     "duration": 1.59094,
     "end_time": "2025-08-19T18:18:47.766094",
     "exception": false,
     "start_time": "2025-08-19T18:18:46.175154",
     "status": "completed"
    },
    "tags": []
   },
   "outputs": [],
   "source": [
    "from fairness_multiverse.universe import UniverseAnalysis\n",
    "\n",
    "universe_analysis = UniverseAnalysis(\n",
    "    run_no = run_no,\n",
    "    universe_id = universe_id,\n",
    "    universe = universe,\n",
    "    output_dir=output_dir,\n",
    ")"
   ]
  },
  {
   "cell_type": "code",
   "execution_count": 8,
   "id": "2a6381cf",
   "metadata": {
    "execution": {
     "iopub.execute_input": "2025-08-19T18:18:47.785992Z",
     "iopub.status.busy": "2025-08-19T18:18:47.785488Z",
     "iopub.status.idle": "2025-08-19T18:18:47.790270Z",
     "shell.execute_reply": "2025-08-19T18:18:47.789609Z"
    },
    "papermill": {
     "duration": 0.017037,
     "end_time": "2025-08-19T18:18:47.792533",
     "exception": false,
     "start_time": "2025-08-19T18:18:47.775496",
     "status": "completed"
    },
    "tags": []
   },
   "outputs": [
    {
     "name": "stdout",
     "output_type": "stream",
     "text": [
      "Using Seed: 2023\n"
     ]
    }
   ],
   "source": [
    "import numpy as np\n",
    "parsed_seed = int(seed)\n",
    "np.random.seed(parsed_seed)\n",
    "print(f\"Using Seed: {parsed_seed}\")"
   ]
  },
  {
   "cell_type": "markdown",
   "id": "b6e958b4",
   "metadata": {
    "papermill": {
     "duration": 0.009348,
     "end_time": "2025-08-19T18:18:47.811071",
     "exception": false,
     "start_time": "2025-08-19T18:18:47.801723",
     "status": "completed"
    },
    "tags": []
   },
   "source": [
    "# Loading Data"
   ]
  },
  {
   "cell_type": "code",
   "execution_count": 9,
   "id": "98701482",
   "metadata": {
    "execution": {
     "iopub.execute_input": "2025-08-19T18:18:47.830066Z",
     "iopub.status.busy": "2025-08-19T18:18:47.829777Z",
     "iopub.status.idle": "2025-08-19T18:18:58.199996Z",
     "shell.execute_reply": "2025-08-19T18:18:58.198991Z"
    },
    "papermill": {
     "duration": 10.381264,
     "end_time": "2025-08-19T18:18:58.201254",
     "exception": false,
     "start_time": "2025-08-19T18:18:47.819990",
     "status": "completed"
    },
    "tags": []
   },
   "outputs": [
    {
     "name": "stdout",
     "output_type": "stream",
     "text": [
      "Loading SIAB data from cache: data/siab_cached.csv.gz\n"
     ]
    },
    {
     "name": "stdout",
     "output_type": "stream",
     "text": [
      "(643690, 164)\n"
     ]
    }
   ],
   "source": [
    "from pathlib import Path\n",
    "import pandas as pd\n",
    "\n",
    "# File paths\n",
    "raw_file = Path(\"data/raw/siab.csv\")\n",
    "cache_file = Path(\"data/siab_cached.csv.gz\")\n",
    "\n",
    "# Ensure cache directory exists\n",
    "cache_file.parent.mkdir(parents=True, exist_ok=True)\n",
    "\n",
    "# Load with simple caching\n",
    "if cache_file.exists():\n",
    "    print(f\"Loading SIAB data from cache: {cache_file}\")\n",
    "    siab = pd.read_csv(cache_file, compression='gzip')\n",
    "else:\n",
    "    print(f\"Cache not found. Reading raw SIAB data: {raw_file}\")\n",
    "    siab = pd.read_csv(raw_file)\n",
    "    siab.to_csv(cache_file, index=False, compression='gzip')\n",
    "    print(f\"Cached SIAB data to: {cache_file}\")\n",
    "\n",
    "print(siab.shape)"
   ]
  },
  {
   "cell_type": "code",
   "execution_count": 10,
   "id": "058d2abb",
   "metadata": {
    "execution": {
     "iopub.execute_input": "2025-08-19T18:18:58.225574Z",
     "iopub.status.busy": "2025-08-19T18:18:58.224418Z",
     "iopub.status.idle": "2025-08-19T18:18:58.447240Z",
     "shell.execute_reply": "2025-08-19T18:18:58.439093Z"
    },
    "papermill": {
     "duration": 0.235875,
     "end_time": "2025-08-19T18:18:58.448900",
     "exception": false,
     "start_time": "2025-08-19T18:18:58.213025",
     "status": "completed"
    },
    "tags": []
   },
   "outputs": [
    {
     "data": {
      "text/html": [
       "<div>\n",
       "<style scoped>\n",
       "    .dataframe tbody tr th:only-of-type {\n",
       "        vertical-align: middle;\n",
       "    }\n",
       "\n",
       "    .dataframe tbody tr th {\n",
       "        vertical-align: top;\n",
       "    }\n",
       "\n",
       "    .dataframe thead th {\n",
       "        text-align: right;\n",
       "    }\n",
       "</style>\n",
       "<table border=\"1\" class=\"dataframe\">\n",
       "  <thead>\n",
       "    <tr style=\"text-align: right;\">\n",
       "      <th></th>\n",
       "      <th>persnr</th>\n",
       "      <th>year</th>\n",
       "      <th>nrEntry</th>\n",
       "      <th>ltue</th>\n",
       "      <th>employed_before</th>\n",
       "      <th>receipt_leh_before</th>\n",
       "      <th>receipt_lhg_before</th>\n",
       "      <th>se_before</th>\n",
       "      <th>ASU_notue_seeking_before</th>\n",
       "      <th>ASU_other_before</th>\n",
       "      <th>...</th>\n",
       "      <th>minijob_tot_dur_byage</th>\n",
       "      <th>ft_tot_dur_byage</th>\n",
       "      <th>befrist_tot_dur_byage</th>\n",
       "      <th>leih_tot_dur_byage</th>\n",
       "      <th>LHG_tot_dur_byage</th>\n",
       "      <th>LEH_tot_dur_byage</th>\n",
       "      <th>almp_tot_dur_byage</th>\n",
       "      <th>almp_aw_tot_dur_byage</th>\n",
       "      <th>se_tot_dur_byage</th>\n",
       "      <th>seeking1_tot_dur_byage</th>\n",
       "    </tr>\n",
       "  </thead>\n",
       "  <tbody>\n",
       "    <tr>\n",
       "      <th>0</th>\n",
       "      <td>7</td>\n",
       "      <td>2015</td>\n",
       "      <td>1</td>\n",
       "      <td>0</td>\n",
       "      <td>1</td>\n",
       "      <td>0</td>\n",
       "      <td>0</td>\n",
       "      <td>0</td>\n",
       "      <td>1</td>\n",
       "      <td>0</td>\n",
       "      <td>...</td>\n",
       "      <td>0.000000</td>\n",
       "      <td>0.000000</td>\n",
       "      <td>15.043478</td>\n",
       "      <td>0.000000</td>\n",
       "      <td>0.000000</td>\n",
       "      <td>0.000000</td>\n",
       "      <td>0.000000</td>\n",
       "      <td>0.000000</td>\n",
       "      <td>0.000000</td>\n",
       "      <td>0.000000</td>\n",
       "    </tr>\n",
       "    <tr>\n",
       "      <th>1</th>\n",
       "      <td>18</td>\n",
       "      <td>2010</td>\n",
       "      <td>1</td>\n",
       "      <td>1</td>\n",
       "      <td>0</td>\n",
       "      <td>0</td>\n",
       "      <td>0</td>\n",
       "      <td>0</td>\n",
       "      <td>0</td>\n",
       "      <td>0</td>\n",
       "      <td>...</td>\n",
       "      <td>0.000000</td>\n",
       "      <td>0.000000</td>\n",
       "      <td>0.000000</td>\n",
       "      <td>0.000000</td>\n",
       "      <td>0.000000</td>\n",
       "      <td>0.000000</td>\n",
       "      <td>0.000000</td>\n",
       "      <td>0.000000</td>\n",
       "      <td>0.000000</td>\n",
       "      <td>0.000000</td>\n",
       "    </tr>\n",
       "    <tr>\n",
       "      <th>2</th>\n",
       "      <td>18</td>\n",
       "      <td>2011</td>\n",
       "      <td>2</td>\n",
       "      <td>0</td>\n",
       "      <td>1</td>\n",
       "      <td>0</td>\n",
       "      <td>1</td>\n",
       "      <td>0</td>\n",
       "      <td>1</td>\n",
       "      <td>0</td>\n",
       "      <td>...</td>\n",
       "      <td>2.714286</td>\n",
       "      <td>2.714286</td>\n",
       "      <td>0.000000</td>\n",
       "      <td>0.000000</td>\n",
       "      <td>10.775510</td>\n",
       "      <td>0.000000</td>\n",
       "      <td>8.367347</td>\n",
       "      <td>0.000000</td>\n",
       "      <td>0.000000</td>\n",
       "      <td>9.836735</td>\n",
       "    </tr>\n",
       "    <tr>\n",
       "      <th>3</th>\n",
       "      <td>18</td>\n",
       "      <td>2012</td>\n",
       "      <td>3</td>\n",
       "      <td>0</td>\n",
       "      <td>1</td>\n",
       "      <td>0</td>\n",
       "      <td>1</td>\n",
       "      <td>0</td>\n",
       "      <td>1</td>\n",
       "      <td>0</td>\n",
       "      <td>...</td>\n",
       "      <td>4.200000</td>\n",
       "      <td>4.200000</td>\n",
       "      <td>0.000000</td>\n",
       "      <td>0.000000</td>\n",
       "      <td>12.100000</td>\n",
       "      <td>0.000000</td>\n",
       "      <td>9.400000</td>\n",
       "      <td>0.000000</td>\n",
       "      <td>0.000000</td>\n",
       "      <td>9.960000</td>\n",
       "    </tr>\n",
       "    <tr>\n",
       "      <th>4</th>\n",
       "      <td>18</td>\n",
       "      <td>2012</td>\n",
       "      <td>4</td>\n",
       "      <td>0</td>\n",
       "      <td>1</td>\n",
       "      <td>0</td>\n",
       "      <td>1</td>\n",
       "      <td>0</td>\n",
       "      <td>1</td>\n",
       "      <td>0</td>\n",
       "      <td>...</td>\n",
       "      <td>5.460000</td>\n",
       "      <td>5.460000</td>\n",
       "      <td>0.000000</td>\n",
       "      <td>0.000000</td>\n",
       "      <td>13.360000</td>\n",
       "      <td>0.000000</td>\n",
       "      <td>10.320000</td>\n",
       "      <td>0.000000</td>\n",
       "      <td>0.000000</td>\n",
       "      <td>10.280000</td>\n",
       "    </tr>\n",
       "    <tr>\n",
       "      <th>...</th>\n",
       "      <td>...</td>\n",
       "      <td>...</td>\n",
       "      <td>...</td>\n",
       "      <td>...</td>\n",
       "      <td>...</td>\n",
       "      <td>...</td>\n",
       "      <td>...</td>\n",
       "      <td>...</td>\n",
       "      <td>...</td>\n",
       "      <td>...</td>\n",
       "      <td>...</td>\n",
       "      <td>...</td>\n",
       "      <td>...</td>\n",
       "      <td>...</td>\n",
       "      <td>...</td>\n",
       "      <td>...</td>\n",
       "      <td>...</td>\n",
       "      <td>...</td>\n",
       "      <td>...</td>\n",
       "      <td>...</td>\n",
       "      <td>...</td>\n",
       "    </tr>\n",
       "    <tr>\n",
       "      <th>643685</th>\n",
       "      <td>1827860</td>\n",
       "      <td>2013</td>\n",
       "      <td>1</td>\n",
       "      <td>0</td>\n",
       "      <td>0</td>\n",
       "      <td>0</td>\n",
       "      <td>1</td>\n",
       "      <td>0</td>\n",
       "      <td>0</td>\n",
       "      <td>1</td>\n",
       "      <td>...</td>\n",
       "      <td>0.000000</td>\n",
       "      <td>0.000000</td>\n",
       "      <td>0.000000</td>\n",
       "      <td>0.000000</td>\n",
       "      <td>0.612903</td>\n",
       "      <td>0.000000</td>\n",
       "      <td>0.000000</td>\n",
       "      <td>0.000000</td>\n",
       "      <td>0.000000</td>\n",
       "      <td>0.000000</td>\n",
       "    </tr>\n",
       "    <tr>\n",
       "      <th>643686</th>\n",
       "      <td>1827860</td>\n",
       "      <td>2015</td>\n",
       "      <td>2</td>\n",
       "      <td>1</td>\n",
       "      <td>0</td>\n",
       "      <td>0</td>\n",
       "      <td>1</td>\n",
       "      <td>0</td>\n",
       "      <td>1</td>\n",
       "      <td>0</td>\n",
       "      <td>...</td>\n",
       "      <td>0.000000</td>\n",
       "      <td>0.000000</td>\n",
       "      <td>0.212121</td>\n",
       "      <td>0.212121</td>\n",
       "      <td>17.363636</td>\n",
       "      <td>0.000000</td>\n",
       "      <td>8.909091</td>\n",
       "      <td>0.000000</td>\n",
       "      <td>0.000000</td>\n",
       "      <td>7.121212</td>\n",
       "    </tr>\n",
       "    <tr>\n",
       "      <th>643687</th>\n",
       "      <td>1827860</td>\n",
       "      <td>2016</td>\n",
       "      <td>3</td>\n",
       "      <td>1</td>\n",
       "      <td>0</td>\n",
       "      <td>0</td>\n",
       "      <td>1</td>\n",
       "      <td>1</td>\n",
       "      <td>0</td>\n",
       "      <td>1</td>\n",
       "      <td>...</td>\n",
       "      <td>0.000000</td>\n",
       "      <td>0.000000</td>\n",
       "      <td>0.294118</td>\n",
       "      <td>0.205882</td>\n",
       "      <td>34.705882</td>\n",
       "      <td>0.000000</td>\n",
       "      <td>10.352941</td>\n",
       "      <td>1.705882</td>\n",
       "      <td>1.705882</td>\n",
       "      <td>23.911765</td>\n",
       "    </tr>\n",
       "    <tr>\n",
       "      <th>643688</th>\n",
       "      <td>1827869</td>\n",
       "      <td>2013</td>\n",
       "      <td>1</td>\n",
       "      <td>1</td>\n",
       "      <td>1</td>\n",
       "      <td>0</td>\n",
       "      <td>0</td>\n",
       "      <td>0</td>\n",
       "      <td>1</td>\n",
       "      <td>0</td>\n",
       "      <td>...</td>\n",
       "      <td>0.000000</td>\n",
       "      <td>0.000000</td>\n",
       "      <td>0.000000</td>\n",
       "      <td>0.000000</td>\n",
       "      <td>0.000000</td>\n",
       "      <td>0.525424</td>\n",
       "      <td>0.000000</td>\n",
       "      <td>0.000000</td>\n",
       "      <td>0.000000</td>\n",
       "      <td>0.000000</td>\n",
       "    </tr>\n",
       "    <tr>\n",
       "      <th>643689</th>\n",
       "      <td>1827869</td>\n",
       "      <td>2014</td>\n",
       "      <td>2</td>\n",
       "      <td>0</td>\n",
       "      <td>0</td>\n",
       "      <td>1</td>\n",
       "      <td>0</td>\n",
       "      <td>0</td>\n",
       "      <td>1</td>\n",
       "      <td>0</td>\n",
       "      <td>...</td>\n",
       "      <td>0.000000</td>\n",
       "      <td>0.666667</td>\n",
       "      <td>0.666667</td>\n",
       "      <td>0.000000</td>\n",
       "      <td>0.000000</td>\n",
       "      <td>8.950000</td>\n",
       "      <td>1.033333</td>\n",
       "      <td>0.083333</td>\n",
       "      <td>0.083333</td>\n",
       "      <td>8.133333</td>\n",
       "    </tr>\n",
       "  </tbody>\n",
       "</table>\n",
       "<p>643690 rows × 164 columns</p>\n",
       "</div>"
      ],
      "text/plain": [
       "         persnr  year  nrEntry  ltue  employed_before  receipt_leh_before  \\\n",
       "0             7  2015        1     0                1                   0   \n",
       "1            18  2010        1     1                0                   0   \n",
       "2            18  2011        2     0                1                   0   \n",
       "3            18  2012        3     0                1                   0   \n",
       "4            18  2012        4     0                1                   0   \n",
       "...         ...   ...      ...   ...              ...                 ...   \n",
       "643685  1827860  2013        1     0                0                   0   \n",
       "643686  1827860  2015        2     1                0                   0   \n",
       "643687  1827860  2016        3     1                0                   0   \n",
       "643688  1827869  2013        1     1                1                   0   \n",
       "643689  1827869  2014        2     0                0                   1   \n",
       "\n",
       "        receipt_lhg_before  se_before  ASU_notue_seeking_before  \\\n",
       "0                        0          0                         1   \n",
       "1                        0          0                         0   \n",
       "2                        1          0                         1   \n",
       "3                        1          0                         1   \n",
       "4                        1          0                         1   \n",
       "...                    ...        ...                       ...   \n",
       "643685                   1          0                         0   \n",
       "643686                   1          0                         1   \n",
       "643687                   1          1                         0   \n",
       "643688                   0          0                         1   \n",
       "643689                   0          0                         1   \n",
       "\n",
       "        ASU_other_before  ...  minijob_tot_dur_byage  ft_tot_dur_byage  \\\n",
       "0                      0  ...               0.000000          0.000000   \n",
       "1                      0  ...               0.000000          0.000000   \n",
       "2                      0  ...               2.714286          2.714286   \n",
       "3                      0  ...               4.200000          4.200000   \n",
       "4                      0  ...               5.460000          5.460000   \n",
       "...                  ...  ...                    ...               ...   \n",
       "643685                 1  ...               0.000000          0.000000   \n",
       "643686                 0  ...               0.000000          0.000000   \n",
       "643687                 1  ...               0.000000          0.000000   \n",
       "643688                 0  ...               0.000000          0.000000   \n",
       "643689                 0  ...               0.000000          0.666667   \n",
       "\n",
       "        befrist_tot_dur_byage  leih_tot_dur_byage  LHG_tot_dur_byage  \\\n",
       "0                   15.043478            0.000000           0.000000   \n",
       "1                    0.000000            0.000000           0.000000   \n",
       "2                    0.000000            0.000000          10.775510   \n",
       "3                    0.000000            0.000000          12.100000   \n",
       "4                    0.000000            0.000000          13.360000   \n",
       "...                       ...                 ...                ...   \n",
       "643685               0.000000            0.000000           0.612903   \n",
       "643686               0.212121            0.212121          17.363636   \n",
       "643687               0.294118            0.205882          34.705882   \n",
       "643688               0.000000            0.000000           0.000000   \n",
       "643689               0.666667            0.000000           0.000000   \n",
       "\n",
       "        LEH_tot_dur_byage  almp_tot_dur_byage  almp_aw_tot_dur_byage  \\\n",
       "0                0.000000            0.000000               0.000000   \n",
       "1                0.000000            0.000000               0.000000   \n",
       "2                0.000000            8.367347               0.000000   \n",
       "3                0.000000            9.400000               0.000000   \n",
       "4                0.000000           10.320000               0.000000   \n",
       "...                   ...                 ...                    ...   \n",
       "643685           0.000000            0.000000               0.000000   \n",
       "643686           0.000000            8.909091               0.000000   \n",
       "643687           0.000000           10.352941               1.705882   \n",
       "643688           0.525424            0.000000               0.000000   \n",
       "643689           8.950000            1.033333               0.083333   \n",
       "\n",
       "        se_tot_dur_byage  seeking1_tot_dur_byage  \n",
       "0               0.000000                0.000000  \n",
       "1               0.000000                0.000000  \n",
       "2               0.000000                9.836735  \n",
       "3               0.000000                9.960000  \n",
       "4               0.000000               10.280000  \n",
       "...                  ...                     ...  \n",
       "643685          0.000000                0.000000  \n",
       "643686          0.000000                7.121212  \n",
       "643687          1.705882               23.911765  \n",
       "643688          0.000000                0.000000  \n",
       "643689          0.083333                8.133333  \n",
       "\n",
       "[643690 rows x 164 columns]"
      ]
     },
     "execution_count": 10,
     "metadata": {},
     "output_type": "execute_result"
    }
   ],
   "source": [
    "siab"
   ]
  },
  {
   "cell_type": "markdown",
   "id": "1f87e805",
   "metadata": {
    "papermill": {
     "duration": 0.009574,
     "end_time": "2025-08-19T18:18:58.469617",
     "exception": false,
     "start_time": "2025-08-19T18:18:58.460043",
     "status": "completed"
    },
    "tags": []
   },
   "source": [
    "# Splitting Data and Setting Training Data Size"
   ]
  },
  {
   "cell_type": "code",
   "execution_count": 11,
   "id": "910ae358",
   "metadata": {
    "execution": {
     "iopub.execute_input": "2025-08-19T18:18:58.490689Z",
     "iopub.status.busy": "2025-08-19T18:18:58.489835Z",
     "iopub.status.idle": "2025-08-19T18:18:59.710889Z",
     "shell.execute_reply": "2025-08-19T18:18:59.709348Z"
    },
    "papermill": {
     "duration": 1.233887,
     "end_time": "2025-08-19T18:18:59.712986",
     "exception": false,
     "start_time": "2025-08-19T18:18:58.479099",
     "status": "completed"
    },
    "tags": []
   },
   "outputs": [],
   "source": [
    "from fairness_multiverse.universe import sample_by_year_size\n",
    "\n",
    "siab_train = sample_by_year_size(siab,\n",
    "                               training_year=universe[\"training_year\"],\n",
    "                               training_size=universe[\"training_size\"])"
   ]
  },
  {
   "cell_type": "code",
   "execution_count": 12,
   "id": "919c8ff5",
   "metadata": {
    "execution": {
     "iopub.execute_input": "2025-08-19T18:18:59.753259Z",
     "iopub.status.busy": "2025-08-19T18:18:59.749659Z",
     "iopub.status.idle": "2025-08-19T18:18:59.777990Z",
     "shell.execute_reply": "2025-08-19T18:18:59.777310Z"
    },
    "papermill": {
     "duration": 0.053317,
     "end_time": "2025-08-19T18:18:59.779866",
     "exception": false,
     "start_time": "2025-08-19T18:18:59.726549",
     "status": "completed"
    },
    "tags": []
   },
   "outputs": [
    {
     "data": {
      "text/plain": [
       "(25000, 164)"
      ]
     },
     "execution_count": 12,
     "metadata": {},
     "output_type": "execute_result"
    }
   ],
   "source": [
    "siab_train.shape"
   ]
  },
  {
   "cell_type": "code",
   "execution_count": 13,
   "id": "feb13bf4",
   "metadata": {
    "execution": {
     "iopub.execute_input": "2025-08-19T18:18:59.805540Z",
     "iopub.status.busy": "2025-08-19T18:18:59.805150Z",
     "iopub.status.idle": "2025-08-19T18:18:59.813081Z",
     "shell.execute_reply": "2025-08-19T18:18:59.812519Z"
    },
    "papermill": {
     "duration": 0.020113,
     "end_time": "2025-08-19T18:18:59.814279",
     "exception": false,
     "start_time": "2025-08-19T18:18:59.794166",
     "status": "completed"
    },
    "tags": []
   },
   "outputs": [
    {
     "data": {
      "text/plain": [
       "year\n",
       "2010    5000\n",
       "2011    5000\n",
       "2012    5000\n",
       "2013    5000\n",
       "2014    5000\n",
       "dtype: int64"
      ]
     },
     "metadata": {},
     "output_type": "display_data"
    }
   ],
   "source": [
    "display(siab_train.groupby(\"year\").size())"
   ]
  },
  {
   "cell_type": "code",
   "execution_count": 14,
   "id": "0997782f",
   "metadata": {
    "execution": {
     "iopub.execute_input": "2025-08-19T18:18:59.838594Z",
     "iopub.status.busy": "2025-08-19T18:18:59.838021Z",
     "iopub.status.idle": "2025-08-19T18:19:00.177813Z",
     "shell.execute_reply": "2025-08-19T18:19:00.177066Z"
    },
    "papermill": {
     "duration": 0.352937,
     "end_time": "2025-08-19T18:19:00.179581",
     "exception": false,
     "start_time": "2025-08-19T18:18:59.826644",
     "status": "completed"
    },
    "tags": []
   },
   "outputs": [],
   "source": [
    "#siab_train = siab_s[siab_s.year < 2015]\n",
    "siab_calib = siab[siab.year == 2015]\n",
    "siab_test = siab[siab.year == 2016]"
   ]
  },
  {
   "cell_type": "code",
   "execution_count": 15,
   "id": "2c1e4012",
   "metadata": {
    "execution": {
     "iopub.execute_input": "2025-08-19T18:19:00.200950Z",
     "iopub.status.busy": "2025-08-19T18:19:00.200667Z",
     "iopub.status.idle": "2025-08-19T18:19:00.204509Z",
     "shell.execute_reply": "2025-08-19T18:19:00.203863Z"
    },
    "papermill": {
     "duration": 0.015868,
     "end_time": "2025-08-19T18:19:00.205907",
     "exception": false,
     "start_time": "2025-08-19T18:19:00.190039",
     "status": "completed"
    },
    "tags": []
   },
   "outputs": [],
   "source": [
    "#siab_calib.shape"
   ]
  },
  {
   "cell_type": "code",
   "execution_count": 16,
   "id": "f66b54ca",
   "metadata": {
    "execution": {
     "iopub.execute_input": "2025-08-19T18:19:00.227174Z",
     "iopub.status.busy": "2025-08-19T18:19:00.226905Z",
     "iopub.status.idle": "2025-08-19T18:19:00.230682Z",
     "shell.execute_reply": "2025-08-19T18:19:00.230016Z"
    },
    "papermill": {
     "duration": 0.017415,
     "end_time": "2025-08-19T18:19:00.233586",
     "exception": false,
     "start_time": "2025-08-19T18:19:00.216171",
     "status": "completed"
    },
    "tags": []
   },
   "outputs": [],
   "source": [
    "#siab_test.shape"
   ]
  },
  {
   "cell_type": "code",
   "execution_count": 17,
   "id": "27e4384d",
   "metadata": {
    "execution": {
     "iopub.execute_input": "2025-08-19T18:19:00.272088Z",
     "iopub.status.busy": "2025-08-19T18:19:00.271392Z",
     "iopub.status.idle": "2025-08-19T18:19:00.292750Z",
     "shell.execute_reply": "2025-08-19T18:19:00.291782Z"
    },
    "papermill": {
     "duration": 0.039729,
     "end_time": "2025-08-19T18:19:00.294612",
     "exception": false,
     "start_time": "2025-08-19T18:19:00.254883",
     "status": "completed"
    },
    "tags": []
   },
   "outputs": [],
   "source": [
    "X_train = siab_train.iloc[:,4:164]\n",
    "y_train = siab_train.iloc[:, [3]]"
   ]
  },
  {
   "cell_type": "code",
   "execution_count": 18,
   "id": "08ee8389",
   "metadata": {
    "execution": {
     "iopub.execute_input": "2025-08-19T18:19:00.341491Z",
     "iopub.status.busy": "2025-08-19T18:19:00.340794Z",
     "iopub.status.idle": "2025-08-19T18:19:00.406264Z",
     "shell.execute_reply": "2025-08-19T18:19:00.405473Z"
    },
    "papermill": {
     "duration": 0.095974,
     "end_time": "2025-08-19T18:19:00.409653",
     "exception": false,
     "start_time": "2025-08-19T18:19:00.313679",
     "status": "completed"
    },
    "tags": []
   },
   "outputs": [],
   "source": [
    "X_calib = siab_calib.iloc[:,4:164]\n",
    "y_calib = siab_calib.iloc[:, [3]]"
   ]
  },
  {
   "cell_type": "code",
   "execution_count": 19,
   "id": "b7ff42e0",
   "metadata": {
    "execution": {
     "iopub.execute_input": "2025-08-19T18:19:00.431676Z",
     "iopub.status.busy": "2025-08-19T18:19:00.431223Z",
     "iopub.status.idle": "2025-08-19T18:19:00.487225Z",
     "shell.execute_reply": "2025-08-19T18:19:00.486450Z"
    },
    "papermill": {
     "duration": 0.068857,
     "end_time": "2025-08-19T18:19:00.488833",
     "exception": false,
     "start_time": "2025-08-19T18:19:00.419976",
     "status": "completed"
    },
    "tags": []
   },
   "outputs": [],
   "source": [
    "X_test = siab_test.iloc[:,4:164]\n",
    "y_true = siab_test.iloc[:, [3]]"
   ]
  },
  {
   "cell_type": "code",
   "execution_count": 20,
   "id": "0275101e",
   "metadata": {
    "execution": {
     "iopub.execute_input": "2025-08-19T18:19:00.512544Z",
     "iopub.status.busy": "2025-08-19T18:19:00.511650Z",
     "iopub.status.idle": "2025-08-19T18:19:00.637414Z",
     "shell.execute_reply": "2025-08-19T18:19:00.636663Z"
    },
    "papermill": {
     "duration": 0.139292,
     "end_time": "2025-08-19T18:19:00.639853",
     "exception": false,
     "start_time": "2025-08-19T18:19:00.500561",
     "status": "completed"
    },
    "tags": []
   },
   "outputs": [],
   "source": [
    "# Auxiliary data needed downstream in the pipeline\n",
    "\n",
    "org_train = X_train.copy()\n",
    "org_test = X_test.copy()\n",
    "org_calib = X_calib.copy()"
   ]
  },
  {
   "cell_type": "markdown",
   "id": "b461e618",
   "metadata": {
    "papermill": {
     "duration": 0.01213,
     "end_time": "2025-08-19T18:19:00.676433",
     "exception": false,
     "start_time": "2025-08-19T18:19:00.664303",
     "status": "completed"
    },
    "tags": []
   },
   "source": [
    "# Preprocessing Data"
   ]
  },
  {
   "cell_type": "code",
   "execution_count": 21,
   "id": "78e74c4b",
   "metadata": {
    "execution": {
     "iopub.execute_input": "2025-08-19T18:19:00.698703Z",
     "iopub.status.busy": "2025-08-19T18:19:00.697599Z",
     "iopub.status.idle": "2025-08-19T18:19:00.705907Z",
     "shell.execute_reply": "2025-08-19T18:19:00.704694Z"
    },
    "papermill": {
     "duration": 0.021271,
     "end_time": "2025-08-19T18:19:00.707519",
     "exception": false,
     "start_time": "2025-08-19T18:19:00.686248",
     "status": "completed"
    },
    "tags": []
   },
   "outputs": [],
   "source": [
    "# EXCLUDE PROTECTED FEATURES\n",
    "# --------------------------\n",
    "\n",
    "excluded_features = universe[\"exclude_features\"].split(\"-\")\n",
    "excluded_features_dictionary = {\n",
    "    \"nationality\": [\"maxdeutsch1\", \"maxdeutsch.Missing.\"],\n",
    "    \"sex\": [\"frau1\"],\n",
    "    \"age\": [\"age\"],\n",
    "}"
   ]
  },
  {
   "cell_type": "code",
   "execution_count": 22,
   "id": "f8e63555",
   "metadata": {
    "execution": {
     "iopub.execute_input": "2025-08-19T18:19:00.733845Z",
     "iopub.status.busy": "2025-08-19T18:19:00.732951Z",
     "iopub.status.idle": "2025-08-19T18:19:00.740938Z",
     "shell.execute_reply": "2025-08-19T18:19:00.739714Z"
    },
    "papermill": {
     "duration": 0.036109,
     "end_time": "2025-08-19T18:19:00.757018",
     "exception": false,
     "start_time": "2025-08-19T18:19:00.720909",
     "status": "completed"
    },
    "tags": []
   },
   "outputs": [],
   "source": [
    "excluded_features_columns = [\n",
    "    excluded_features_dictionary[f] for f in excluded_features if len(f) > 0 and f != \"none\"\n",
    "]"
   ]
  },
  {
   "cell_type": "code",
   "execution_count": 23,
   "id": "da781f7c",
   "metadata": {
    "execution": {
     "iopub.execute_input": "2025-08-19T18:19:00.780805Z",
     "iopub.status.busy": "2025-08-19T18:19:00.778979Z",
     "iopub.status.idle": "2025-08-19T18:19:00.785358Z",
     "shell.execute_reply": "2025-08-19T18:19:00.784715Z"
    },
    "papermill": {
     "duration": 0.018905,
     "end_time": "2025-08-19T18:19:00.786531",
     "exception": false,
     "start_time": "2025-08-19T18:19:00.767626",
     "status": "completed"
    },
    "tags": []
   },
   "outputs": [],
   "source": [
    "from fairness_multiverse.universe import flatten_once\n",
    "\n",
    "excluded_features_columns = flatten_once(excluded_features_columns)"
   ]
  },
  {
   "cell_type": "code",
   "execution_count": 24,
   "id": "37fef0f0",
   "metadata": {
    "execution": {
     "iopub.execute_input": "2025-08-19T18:19:00.807846Z",
     "iopub.status.busy": "2025-08-19T18:19:00.807588Z",
     "iopub.status.idle": "2025-08-19T18:19:00.835409Z",
     "shell.execute_reply": "2025-08-19T18:19:00.834705Z"
    },
    "papermill": {
     "duration": 0.041412,
     "end_time": "2025-08-19T18:19:00.838163",
     "exception": false,
     "start_time": "2025-08-19T18:19:00.796751",
     "status": "completed"
    },
    "tags": []
   },
   "outputs": [
    {
     "name": "stdout",
     "output_type": "stream",
     "text": [
      "Dropping features: ['frau1']\n"
     ]
    }
   ],
   "source": [
    "if len(excluded_features_columns) > 0:\n",
    "    print(f\"Dropping features: {excluded_features_columns}\")\n",
    "    X_train.drop(excluded_features_columns, axis=1, inplace=True)"
   ]
  },
  {
   "cell_type": "code",
   "execution_count": 25,
   "id": "d029e3e9",
   "metadata": {
    "execution": {
     "iopub.execute_input": "2025-08-19T18:19:00.873711Z",
     "iopub.status.busy": "2025-08-19T18:19:00.872804Z",
     "iopub.status.idle": "2025-08-19T18:19:00.935180Z",
     "shell.execute_reply": "2025-08-19T18:19:00.934441Z"
    },
    "papermill": {
     "duration": 0.078435,
     "end_time": "2025-08-19T18:19:00.938154",
     "exception": false,
     "start_time": "2025-08-19T18:19:00.859719",
     "status": "completed"
    },
    "tags": []
   },
   "outputs": [
    {
     "name": "stdout",
     "output_type": "stream",
     "text": [
      "Dropping features: ['frau1']\n"
     ]
    }
   ],
   "source": [
    "if len(excluded_features_columns) > 0:\n",
    "    print(f\"Dropping features: {excluded_features_columns}\")\n",
    "    X_test.drop(excluded_features_columns, axis=1, inplace=True)"
   ]
  },
  {
   "cell_type": "code",
   "execution_count": 26,
   "id": "01d571f0",
   "metadata": {
    "execution": {
     "iopub.execute_input": "2025-08-19T18:19:00.975598Z",
     "iopub.status.busy": "2025-08-19T18:19:00.974667Z",
     "iopub.status.idle": "2025-08-19T18:19:01.030875Z",
     "shell.execute_reply": "2025-08-19T18:19:01.030175Z"
    },
    "papermill": {
     "duration": 0.072313,
     "end_time": "2025-08-19T18:19:01.033657",
     "exception": false,
     "start_time": "2025-08-19T18:19:00.961344",
     "status": "completed"
    },
    "tags": []
   },
   "outputs": [
    {
     "name": "stdout",
     "output_type": "stream",
     "text": [
      "Dropping features: ['frau1']\n"
     ]
    }
   ],
   "source": [
    "if len(excluded_features_columns) > 0:\n",
    "    print(f\"Dropping features: {excluded_features_columns}\")\n",
    "    X_calib.drop(excluded_features_columns, axis=1, inplace=True)"
   ]
  },
  {
   "cell_type": "code",
   "execution_count": 27,
   "id": "3037356e",
   "metadata": {
    "execution": {
     "iopub.execute_input": "2025-08-19T18:19:01.074652Z",
     "iopub.status.busy": "2025-08-19T18:19:01.073717Z",
     "iopub.status.idle": "2025-08-19T18:19:01.081015Z",
     "shell.execute_reply": "2025-08-19T18:19:01.079790Z"
    },
    "papermill": {
     "duration": 0.022938,
     "end_time": "2025-08-19T18:19:01.082323",
     "exception": false,
     "start_time": "2025-08-19T18:19:01.059385",
     "status": "completed"
    },
    "tags": []
   },
   "outputs": [],
   "source": [
    "# EXCLUDE CERTAIN SUBGROUPS\n",
    "# -------------------------\n",
    "\n",
    "mode = universe.get(\"exclude_subgroups\", \"keep-all\") # Defaults to \"keep-all\" if the key is missing."
   ]
  },
  {
   "cell_type": "code",
   "execution_count": 28,
   "id": "9d1e63fd",
   "metadata": {
    "execution": {
     "iopub.execute_input": "2025-08-19T18:19:01.107978Z",
     "iopub.status.busy": "2025-08-19T18:19:01.107051Z",
     "iopub.status.idle": "2025-08-19T18:19:01.117079Z",
     "shell.execute_reply": "2025-08-19T18:19:01.115882Z"
    },
    "papermill": {
     "duration": 0.024054,
     "end_time": "2025-08-19T18:19:01.118697",
     "exception": false,
     "start_time": "2025-08-19T18:19:01.094643",
     "status": "completed"
    },
    "tags": []
   },
   "outputs": [],
   "source": [
    "if mode == \"keep-all\":\n",
    "    keep_mask = pd.Series(True, index=org_train.index)\n",
    "\n",
    "elif mode == \"drop-non-german\":\n",
    "    keep_mask = (org_train[\"maxdeutsch1\"] == 1) & (org_train[\"maxdeutsch.Missing.\"] == 0)\n",
    "\n",
    "else:\n",
    "    raise ValueError(f\"Unsupported mode for exclude_subgroups: {mode}\")"
   ]
  },
  {
   "cell_type": "code",
   "execution_count": 29,
   "id": "d3b65474",
   "metadata": {
    "execution": {
     "iopub.execute_input": "2025-08-19T18:19:01.145743Z",
     "iopub.status.busy": "2025-08-19T18:19:01.144523Z",
     "iopub.status.idle": "2025-08-19T18:19:01.155155Z",
     "shell.execute_reply": "2025-08-19T18:19:01.153933Z"
    },
    "papermill": {
     "duration": 0.024314,
     "end_time": "2025-08-19T18:19:01.156658",
     "exception": false,
     "start_time": "2025-08-19T18:19:01.132344",
     "status": "completed"
    },
    "tags": []
   },
   "outputs": [],
   "source": [
    "n_drop = (~keep_mask).sum() # Calculates how many rows are set to be dropped\n",
    "if n_drop > 0:\n",
    "    pct = n_drop / len(keep_mask) * 100\n",
    "    print(f\"Dropping {n_drop} rows ({pct:.2f}%) where mode='{mode}'\")"
   ]
  },
  {
   "cell_type": "code",
   "execution_count": 30,
   "id": "f44389b3",
   "metadata": {
    "execution": {
     "iopub.execute_input": "2025-08-19T18:19:01.184205Z",
     "iopub.status.busy": "2025-08-19T18:19:01.183154Z",
     "iopub.status.idle": "2025-08-19T18:19:01.204136Z",
     "shell.execute_reply": "2025-08-19T18:19:01.203040Z"
    },
    "papermill": {
     "duration": 0.035416,
     "end_time": "2025-08-19T18:19:01.205926",
     "exception": false,
     "start_time": "2025-08-19T18:19:01.170510",
     "status": "completed"
    },
    "tags": []
   },
   "outputs": [],
   "source": [
    "X_train = X_train[keep_mask]"
   ]
  },
  {
   "cell_type": "code",
   "execution_count": 31,
   "id": "ceca8c2a",
   "metadata": {
    "execution": {
     "iopub.execute_input": "2025-08-19T18:19:01.238377Z",
     "iopub.status.busy": "2025-08-19T18:19:01.237428Z",
     "iopub.status.idle": "2025-08-19T18:19:01.256872Z",
     "shell.execute_reply": "2025-08-19T18:19:01.254979Z"
    },
    "papermill": {
     "duration": 0.035187,
     "end_time": "2025-08-19T18:19:01.258900",
     "exception": false,
     "start_time": "2025-08-19T18:19:01.223713",
     "status": "completed"
    },
    "tags": []
   },
   "outputs": [],
   "source": [
    "y_train = y_train[keep_mask]"
   ]
  },
  {
   "cell_type": "markdown",
   "id": "04d31e2f",
   "metadata": {
    "papermill": {
     "duration": 0.011343,
     "end_time": "2025-08-19T18:19:01.287056",
     "exception": false,
     "start_time": "2025-08-19T18:19:01.275713",
     "status": "completed"
    },
    "tags": []
   },
   "source": [
    "# Model Training"
   ]
  },
  {
   "cell_type": "code",
   "execution_count": 32,
   "id": "db991733",
   "metadata": {
    "execution": {
     "iopub.execute_input": "2025-08-19T18:19:01.311868Z",
     "iopub.status.busy": "2025-08-19T18:19:01.310460Z",
     "iopub.status.idle": "2025-08-19T18:19:01.417058Z",
     "shell.execute_reply": "2025-08-19T18:19:01.416095Z"
    },
    "papermill": {
     "duration": 0.121064,
     "end_time": "2025-08-19T18:19:01.418564",
     "exception": false,
     "start_time": "2025-08-19T18:19:01.297500",
     "status": "completed"
    },
    "tags": []
   },
   "outputs": [],
   "source": [
    "from sklearn.linear_model import LogisticRegression\n",
    "from sklearn.ensemble import GradientBoostingClassifier, RandomForestClassifier\n",
    "\n",
    "if (universe[\"model\"] == \"logreg\"):\n",
    "    model = LogisticRegression() #penalty=\"none\", solver=\"newton-cg\", max_iter=1)\n",
    "elif (universe[\"model\"] == \"penalized_logreg\"):\n",
    "    model = LogisticRegression(penalty=\"l2\", C=0.1) #, solver=\"newton-cg\", max_iter=1)\n",
    "elif (universe[\"model\"] == \"rf\"):\n",
    "    model = RandomForestClassifier() # n_estimators=100, n_jobs=-1\n",
    "elif (universe[\"model\"] == \"gbm\"):\n",
    "    model = GradientBoostingClassifier()\n",
    "elif (universe[\"model\"] == \"elasticnet\"):\n",
    "    model = LogisticRegression(penalty = 'elasticnet', solver = 'saga', l1_ratio = 0.5) # max_iter=5000\n",
    "else:\n",
    "    raise \"Unsupported universe.model\""
   ]
  },
  {
   "cell_type": "code",
   "execution_count": 33,
   "id": "a4b5cd25",
   "metadata": {
    "execution": {
     "iopub.execute_input": "2025-08-19T18:19:01.463889Z",
     "iopub.status.busy": "2025-08-19T18:19:01.462853Z",
     "iopub.status.idle": "2025-08-19T18:19:01.472783Z",
     "shell.execute_reply": "2025-08-19T18:19:01.471660Z"
    },
    "papermill": {
     "duration": 0.041172,
     "end_time": "2025-08-19T18:19:01.474899",
     "exception": false,
     "start_time": "2025-08-19T18:19:01.433727",
     "status": "completed"
    },
    "tags": []
   },
   "outputs": [],
   "source": [
    "from sklearn.pipeline import Pipeline\n",
    "from sklearn.preprocessing import StandardScaler\n",
    "\n",
    "model = Pipeline([\n",
    "    #(\"continuous_processor\", continuous_processor),\n",
    "    #(\"categorical_preprocessor\", categorical_preprocessor),\n",
    "    (\"scale\", StandardScaler() if universe[\"scale\"] == \"scale\" else None), \n",
    "    (\"model\", model),\n",
    "])"
   ]
  },
  {
   "cell_type": "code",
   "execution_count": 34,
   "id": "283a904d",
   "metadata": {
    "execution": {
     "iopub.execute_input": "2025-08-19T18:19:01.510578Z",
     "iopub.status.busy": "2025-08-19T18:19:01.505838Z",
     "iopub.status.idle": "2025-08-19T18:19:02.485487Z",
     "shell.execute_reply": "2025-08-19T18:19:02.484778Z"
    },
    "papermill": {
     "duration": 0.995826,
     "end_time": "2025-08-19T18:19:02.486643",
     "exception": false,
     "start_time": "2025-08-19T18:19:01.490817",
     "status": "completed"
    },
    "tags": []
   },
   "outputs": [
    {
     "name": "stderr",
     "output_type": "stream",
     "text": [
      "/dss/dsshome1/0C/ra93lal2/.local/share/virtualenvs/CMA_Fairness_v2-3j10GkSs/lib/python3.10/site-packages/sklearn/linear_model/_logistic.py:444: ConvergenceWarning: lbfgs failed to converge (status=1):\n",
      "STOP: TOTAL NO. of ITERATIONS REACHED LIMIT.\n",
      "\n",
      "Increase the number of iterations (max_iter) or scale the data as shown in:\n",
      "    https://scikit-learn.org/stable/modules/preprocessing.html\n",
      "Please also refer to the documentation for alternative solver options:\n",
      "    https://scikit-learn.org/stable/modules/linear_model.html#logistic-regression\n",
      "  n_iter_i = _check_optimize_result(\n"
     ]
    },
    {
     "data": {
      "text/html": [
       "<style>#sk-container-id-1 {color: black;background-color: white;}#sk-container-id-1 pre{padding: 0;}#sk-container-id-1 div.sk-toggleable {background-color: white;}#sk-container-id-1 label.sk-toggleable__label {cursor: pointer;display: block;width: 100%;margin-bottom: 0;padding: 0.3em;box-sizing: border-box;text-align: center;}#sk-container-id-1 label.sk-toggleable__label-arrow:before {content: \"▸\";float: left;margin-right: 0.25em;color: #696969;}#sk-container-id-1 label.sk-toggleable__label-arrow:hover:before {color: black;}#sk-container-id-1 div.sk-estimator:hover label.sk-toggleable__label-arrow:before {color: black;}#sk-container-id-1 div.sk-toggleable__content {max-height: 0;max-width: 0;overflow: hidden;text-align: left;background-color: #f0f8ff;}#sk-container-id-1 div.sk-toggleable__content pre {margin: 0.2em;color: black;border-radius: 0.25em;background-color: #f0f8ff;}#sk-container-id-1 input.sk-toggleable__control:checked~div.sk-toggleable__content {max-height: 200px;max-width: 100%;overflow: auto;}#sk-container-id-1 input.sk-toggleable__control:checked~label.sk-toggleable__label-arrow:before {content: \"▾\";}#sk-container-id-1 div.sk-estimator input.sk-toggleable__control:checked~label.sk-toggleable__label {background-color: #d4ebff;}#sk-container-id-1 div.sk-label input.sk-toggleable__control:checked~label.sk-toggleable__label {background-color: #d4ebff;}#sk-container-id-1 input.sk-hidden--visually {border: 0;clip: rect(1px 1px 1px 1px);clip: rect(1px, 1px, 1px, 1px);height: 1px;margin: -1px;overflow: hidden;padding: 0;position: absolute;width: 1px;}#sk-container-id-1 div.sk-estimator {font-family: monospace;background-color: #f0f8ff;border: 1px dotted black;border-radius: 0.25em;box-sizing: border-box;margin-bottom: 0.5em;}#sk-container-id-1 div.sk-estimator:hover {background-color: #d4ebff;}#sk-container-id-1 div.sk-parallel-item::after {content: \"\";width: 100%;border-bottom: 1px solid gray;flex-grow: 1;}#sk-container-id-1 div.sk-label:hover label.sk-toggleable__label {background-color: #d4ebff;}#sk-container-id-1 div.sk-serial::before {content: \"\";position: absolute;border-left: 1px solid gray;box-sizing: border-box;top: 0;bottom: 0;left: 50%;z-index: 0;}#sk-container-id-1 div.sk-serial {display: flex;flex-direction: column;align-items: center;background-color: white;padding-right: 0.2em;padding-left: 0.2em;position: relative;}#sk-container-id-1 div.sk-item {position: relative;z-index: 1;}#sk-container-id-1 div.sk-parallel {display: flex;align-items: stretch;justify-content: center;background-color: white;position: relative;}#sk-container-id-1 div.sk-item::before, #sk-container-id-1 div.sk-parallel-item::before {content: \"\";position: absolute;border-left: 1px solid gray;box-sizing: border-box;top: 0;bottom: 0;left: 50%;z-index: -1;}#sk-container-id-1 div.sk-parallel-item {display: flex;flex-direction: column;z-index: 1;position: relative;background-color: white;}#sk-container-id-1 div.sk-parallel-item:first-child::after {align-self: flex-end;width: 50%;}#sk-container-id-1 div.sk-parallel-item:last-child::after {align-self: flex-start;width: 50%;}#sk-container-id-1 div.sk-parallel-item:only-child::after {width: 0;}#sk-container-id-1 div.sk-dashed-wrapped {border: 1px dashed gray;margin: 0 0.4em 0.5em 0.4em;box-sizing: border-box;padding-bottom: 0.4em;background-color: white;}#sk-container-id-1 div.sk-label label {font-family: monospace;font-weight: bold;display: inline-block;line-height: 1.2em;}#sk-container-id-1 div.sk-label-container {text-align: center;}#sk-container-id-1 div.sk-container {/* jupyter's `normalize.less` sets `[hidden] { display: none; }` but bootstrap.min.css set `[hidden] { display: none !important; }` so we also need the `!important` here to be able to override the default hidden behavior on the sphinx rendered scikit-learn.org. See: https://github.com/scikit-learn/scikit-learn/issues/21755 */display: inline-block !important;position: relative;}#sk-container-id-1 div.sk-text-repr-fallback {display: none;}</style><div id=\"sk-container-id-1\" class=\"sk-top-container\"><div class=\"sk-text-repr-fallback\"><pre>Pipeline(steps=[(&#x27;scale&#x27;, None), (&#x27;model&#x27;, LogisticRegression(C=0.1))])</pre><b>In a Jupyter environment, please rerun this cell to show the HTML representation or trust the notebook. <br />On GitHub, the HTML representation is unable to render, please try loading this page with nbviewer.org.</b></div><div class=\"sk-container\" hidden><div class=\"sk-item sk-dashed-wrapped\"><div class=\"sk-label-container\"><div class=\"sk-label sk-toggleable\"><input class=\"sk-toggleable__control sk-hidden--visually\" id=\"sk-estimator-id-1\" type=\"checkbox\" ><label for=\"sk-estimator-id-1\" class=\"sk-toggleable__label sk-toggleable__label-arrow\">Pipeline</label><div class=\"sk-toggleable__content\"><pre>Pipeline(steps=[(&#x27;scale&#x27;, None), (&#x27;model&#x27;, LogisticRegression(C=0.1))])</pre></div></div></div><div class=\"sk-serial\"><div class=\"sk-item\"><div class=\"sk-estimator sk-toggleable\"><input class=\"sk-toggleable__control sk-hidden--visually\" id=\"sk-estimator-id-2\" type=\"checkbox\" ><label for=\"sk-estimator-id-2\" class=\"sk-toggleable__label sk-toggleable__label-arrow\">None</label><div class=\"sk-toggleable__content\"><pre>None</pre></div></div></div><div class=\"sk-item\"><div class=\"sk-estimator sk-toggleable\"><input class=\"sk-toggleable__control sk-hidden--visually\" id=\"sk-estimator-id-3\" type=\"checkbox\" ><label for=\"sk-estimator-id-3\" class=\"sk-toggleable__label sk-toggleable__label-arrow\">LogisticRegression</label><div class=\"sk-toggleable__content\"><pre>LogisticRegression(C=0.1)</pre></div></div></div></div></div></div></div>"
      ],
      "text/plain": [
       "Pipeline(steps=[('scale', None), ('model', LogisticRegression(C=0.1))])"
      ]
     },
     "execution_count": 34,
     "metadata": {},
     "output_type": "execute_result"
    }
   ],
   "source": [
    "model.fit(X_train, y_train.values.ravel())"
   ]
  },
  {
   "cell_type": "code",
   "execution_count": 35,
   "id": "6e15e313",
   "metadata": {
    "execution": {
     "iopub.execute_input": "2025-08-19T18:19:02.532829Z",
     "iopub.status.busy": "2025-08-19T18:19:02.531724Z",
     "iopub.status.idle": "2025-08-19T18:19:02.651384Z",
     "shell.execute_reply": "2025-08-19T18:19:02.650507Z"
    },
    "papermill": {
     "duration": 0.149629,
     "end_time": "2025-08-19T18:19:02.653766",
     "exception": false,
     "start_time": "2025-08-19T18:19:02.504137",
     "status": "completed"
    },
    "tags": []
   },
   "outputs": [
    {
     "data": {
      "text/plain": [
       "0.8596477538735927"
      ]
     },
     "execution_count": 35,
     "metadata": {},
     "output_type": "execute_result"
    }
   ],
   "source": [
    "from fairness_multiverse.universe import predict_w_threshold\n",
    "\n",
    "probs_test = model.predict_proba(X_test)\n",
    "\n",
    "'''\n",
    "Below code returns a boolean array (or binary 0/1 array depending on how it’s used) where each element \n",
    "is True if the probability of class 1 is greater than or equal to the threshold, and False otherwise.\n",
    "'''\n",
    "y_pred_default = predict_w_threshold(probs_test, 0.5)\n",
    "\n",
    "from sklearn.metrics import accuracy_score\n",
    "\n",
    "# Naive prediction\n",
    "accuracy_score(y_true = y_true, y_pred = y_pred_default)"
   ]
  },
  {
   "cell_type": "code",
   "execution_count": 36,
   "id": "6f14067c",
   "metadata": {
    "execution": {
     "iopub.execute_input": "2025-08-19T18:19:02.700125Z",
     "iopub.status.busy": "2025-08-19T18:19:02.699579Z",
     "iopub.status.idle": "2025-08-19T18:19:02.787631Z",
     "shell.execute_reply": "2025-08-19T18:19:02.786385Z"
    },
    "papermill": {
     "duration": 0.112557,
     "end_time": "2025-08-19T18:19:02.792310",
     "exception": false,
     "start_time": "2025-08-19T18:19:02.679753",
     "status": "completed"
    },
    "tags": []
   },
   "outputs": [
    {
     "data": {
      "text/plain": [
       "array([0, 0, 0, ..., 0, 0, 0])"
      ]
     },
     "execution_count": 36,
     "metadata": {},
     "output_type": "execute_result"
    }
   ],
   "source": [
    "model.predict(X_test)"
   ]
  },
  {
   "cell_type": "markdown",
   "id": "3759920c",
   "metadata": {
    "papermill": {
     "duration": 0.168431,
     "end_time": "2025-08-19T18:19:02.982079",
     "exception": false,
     "start_time": "2025-08-19T18:19:02.813648",
     "status": "completed"
    },
    "tags": []
   },
   "source": [
    "# Conformal Prediction"
   ]
  },
  {
   "cell_type": "code",
   "execution_count": 37,
   "id": "14b27f59",
   "metadata": {
    "execution": {
     "iopub.execute_input": "2025-08-19T18:19:03.008102Z",
     "iopub.status.busy": "2025-08-19T18:19:03.006993Z",
     "iopub.status.idle": "2025-08-19T18:19:03.014810Z",
     "shell.execute_reply": "2025-08-19T18:19:03.013452Z"
    },
    "papermill": {
     "duration": 0.022779,
     "end_time": "2025-08-19T18:19:03.016445",
     "exception": false,
     "start_time": "2025-08-19T18:19:02.993666",
     "status": "completed"
    },
    "tags": []
   },
   "outputs": [],
   "source": [
    "# Miscoverage level for conformal prediction (10% allowed error rate => 90% target coverage)\n",
    "alpha = 0.1"
   ]
  },
  {
   "cell_type": "code",
   "execution_count": 38,
   "id": "59102472",
   "metadata": {
    "execution": {
     "iopub.execute_input": "2025-08-19T18:19:03.044140Z",
     "iopub.status.busy": "2025-08-19T18:19:03.043031Z",
     "iopub.status.idle": "2025-08-19T18:19:03.143000Z",
     "shell.execute_reply": "2025-08-19T18:19:03.141707Z"
    },
    "papermill": {
     "duration": 0.116637,
     "end_time": "2025-08-19T18:19:03.146505",
     "exception": false,
     "start_time": "2025-08-19T18:19:03.029868",
     "status": "completed"
    },
    "tags": []
   },
   "outputs": [],
   "source": [
    "probs_calib = model.predict_proba(X_calib)"
   ]
  },
  {
   "cell_type": "code",
   "execution_count": 39,
   "id": "a792d4dd",
   "metadata": {
    "execution": {
     "iopub.execute_input": "2025-08-19T18:19:03.188559Z",
     "iopub.status.busy": "2025-08-19T18:19:03.187379Z",
     "iopub.status.idle": "2025-08-19T18:19:03.197720Z",
     "shell.execute_reply": "2025-08-19T18:19:03.196311Z"
    },
    "papermill": {
     "duration": 0.027133,
     "end_time": "2025-08-19T18:19:03.199569",
     "exception": false,
     "start_time": "2025-08-19T18:19:03.172436",
     "status": "completed"
    },
    "tags": []
   },
   "outputs": [],
   "source": [
    "y_calib = y_calib.values.ravel().astype(int)"
   ]
  },
  {
   "cell_type": "code",
   "execution_count": 40,
   "id": "650fd033",
   "metadata": {
    "execution": {
     "iopub.execute_input": "2025-08-19T18:19:03.228715Z",
     "iopub.status.busy": "2025-08-19T18:19:03.227600Z",
     "iopub.status.idle": "2025-08-19T18:19:03.240680Z",
     "shell.execute_reply": "2025-08-19T18:19:03.239301Z"
    },
    "papermill": {
     "duration": 0.028465,
     "end_time": "2025-08-19T18:19:03.242684",
     "exception": false,
     "start_time": "2025-08-19T18:19:03.214219",
     "status": "completed"
    },
    "tags": []
   },
   "outputs": [],
   "source": [
    "from fairness_multiverse.conformal import compute_nc_scores\n",
    "\n",
    "# Compute nonconformity scores on calibration set (1 - probability of true class)\n",
    "nc_scores = compute_nc_scores(probs_calib, y_calib)"
   ]
  },
  {
   "cell_type": "code",
   "execution_count": 41,
   "id": "28ada44c",
   "metadata": {
    "execution": {
     "iopub.execute_input": "2025-08-19T18:19:03.272184Z",
     "iopub.status.busy": "2025-08-19T18:19:03.270866Z",
     "iopub.status.idle": "2025-08-19T18:19:03.281754Z",
     "shell.execute_reply": "2025-08-19T18:19:03.280381Z"
    },
    "papermill": {
     "duration": 0.026371,
     "end_time": "2025-08-19T18:19:03.283759",
     "exception": false,
     "start_time": "2025-08-19T18:19:03.257388",
     "status": "completed"
    },
    "tags": []
   },
   "outputs": [],
   "source": [
    "from fairness_multiverse.conformal import find_threshold\n",
    "\n",
    "# Find conformal threshold q_hat for the given alpha (split conformal method)\n",
    "q_hat = find_threshold(nc_scores, alpha)"
   ]
  },
  {
   "cell_type": "code",
   "execution_count": 42,
   "id": "df56469e",
   "metadata": {
    "execution": {
     "iopub.execute_input": "2025-08-19T18:19:03.313500Z",
     "iopub.status.busy": "2025-08-19T18:19:03.312133Z",
     "iopub.status.idle": "2025-08-19T18:19:03.323195Z",
     "shell.execute_reply": "2025-08-19T18:19:03.321755Z"
    },
    "papermill": {
     "duration": 0.026577,
     "end_time": "2025-08-19T18:19:03.325226",
     "exception": false,
     "start_time": "2025-08-19T18:19:03.298649",
     "status": "completed"
    },
    "tags": []
   },
   "outputs": [
    {
     "data": {
      "text/plain": [
       "0.6687704531822432"
      ]
     },
     "execution_count": 42,
     "metadata": {},
     "output_type": "execute_result"
    }
   ],
   "source": [
    "q_hat"
   ]
  },
  {
   "cell_type": "code",
   "execution_count": 43,
   "id": "aa1f5faa",
   "metadata": {
    "execution": {
     "iopub.execute_input": "2025-08-19T18:19:03.354139Z",
     "iopub.status.busy": "2025-08-19T18:19:03.353109Z",
     "iopub.status.idle": "2025-08-19T18:19:03.869924Z",
     "shell.execute_reply": "2025-08-19T18:19:03.868945Z"
    },
    "papermill": {
     "duration": 0.531978,
     "end_time": "2025-08-19T18:19:03.871520",
     "exception": false,
     "start_time": "2025-08-19T18:19:03.339542",
     "status": "completed"
    },
    "tags": []
   },
   "outputs": [],
   "source": [
    "from fairness_multiverse.conformal import predict_conformal_sets\n",
    "\n",
    "# Generate prediction sets for each test example\n",
    "pred_sets = predict_conformal_sets(model, X_test, q_hat)"
   ]
  },
  {
   "cell_type": "code",
   "execution_count": 44,
   "id": "97f67a6b",
   "metadata": {
    "execution": {
     "iopub.execute_input": "2025-08-19T18:19:03.921642Z",
     "iopub.status.busy": "2025-08-19T18:19:03.920520Z",
     "iopub.status.idle": "2025-08-19T18:19:03.935848Z",
     "shell.execute_reply": "2025-08-19T18:19:03.928314Z"
    },
    "papermill": {
     "duration": 0.051738,
     "end_time": "2025-08-19T18:19:03.938274",
     "exception": false,
     "start_time": "2025-08-19T18:19:03.886536",
     "status": "completed"
    },
    "tags": []
   },
   "outputs": [],
   "source": [
    "y_true = y_true.squeeze()"
   ]
  },
  {
   "cell_type": "code",
   "execution_count": 45,
   "id": "e700e9a7",
   "metadata": {
    "execution": {
     "iopub.execute_input": "2025-08-19T18:19:03.972886Z",
     "iopub.status.busy": "2025-08-19T18:19:03.971618Z",
     "iopub.status.idle": "2025-08-19T18:19:04.467339Z",
     "shell.execute_reply": "2025-08-19T18:19:04.466216Z"
    },
    "papermill": {
     "duration": 0.511707,
     "end_time": "2025-08-19T18:19:04.468952",
     "exception": false,
     "start_time": "2025-08-19T18:19:03.957245",
     "status": "completed"
    },
    "tags": []
   },
   "outputs": [],
   "source": [
    "from fairness_multiverse.conformal import evaluate_sets\n",
    "\n",
    "# Evaluate coverage and average set size on test data\n",
    "metrics = evaluate_sets(pred_sets, y_true)"
   ]
  },
  {
   "cell_type": "markdown",
   "id": "efbacec0",
   "metadata": {
    "papermill": {
     "duration": 0.011627,
     "end_time": "2025-08-19T18:19:04.492995",
     "exception": false,
     "start_time": "2025-08-19T18:19:04.481368",
     "status": "completed"
    },
    "tags": []
   },
   "source": [
    "# CP Metrics"
   ]
  },
  {
   "cell_type": "code",
   "execution_count": 46,
   "id": "9de55fb1",
   "metadata": {
    "execution": {
     "iopub.execute_input": "2025-08-19T18:19:04.519498Z",
     "iopub.status.busy": "2025-08-19T18:19:04.518368Z",
     "iopub.status.idle": "2025-08-19T18:19:04.531082Z",
     "shell.execute_reply": "2025-08-19T18:19:04.529620Z"
    },
    "papermill": {
     "duration": 0.028166,
     "end_time": "2025-08-19T18:19:04.532799",
     "exception": false,
     "start_time": "2025-08-19T18:19:04.504633",
     "status": "completed"
    },
    "tags": []
   },
   "outputs": [
    {
     "data": {
      "text/plain": [
       "{'coverage': 0.9112696466391706, 'avg_size': 1.193267194292721}"
      ]
     },
     "execution_count": 46,
     "metadata": {},
     "output_type": "execute_result"
    }
   ],
   "source": [
    "metrics"
   ]
  },
  {
   "cell_type": "code",
   "execution_count": 47,
   "id": "64c340a1",
   "metadata": {
    "execution": {
     "iopub.execute_input": "2025-08-19T18:19:04.563105Z",
     "iopub.status.busy": "2025-08-19T18:19:04.562070Z",
     "iopub.status.idle": "2025-08-19T18:19:04.572791Z",
     "shell.execute_reply": "2025-08-19T18:19:04.571369Z"
    },
    "papermill": {
     "duration": 0.026427,
     "end_time": "2025-08-19T18:19:04.574649",
     "exception": false,
     "start_time": "2025-08-19T18:19:04.548222",
     "status": "completed"
    },
    "tags": []
   },
   "outputs": [],
   "source": [
    "example_universe = universe.copy()\n",
    "universe_training_year = example_universe.get(\"training_year\")\n",
    "universe_training_size = example_universe.get(\"training_size\")\n",
    "universe_scale = example_universe.get(\"scale\")\n",
    "universe_model = example_universe.get(\"model\")\n",
    "universe_exclude_features = example_universe.get(\"exclude_features\")\n",
    "universe_exclude_subgroups = example_universe.get(\"exclude_subgroups\")"
   ]
  },
  {
   "cell_type": "code",
   "execution_count": 48,
   "id": "dbb53cb4",
   "metadata": {
    "execution": {
     "iopub.execute_input": "2025-08-19T18:19:04.604857Z",
     "iopub.status.busy": "2025-08-19T18:19:04.603730Z",
     "iopub.status.idle": "2025-08-19T18:19:04.614345Z",
     "shell.execute_reply": "2025-08-19T18:19:04.612825Z"
    },
    "papermill": {
     "duration": 0.026545,
     "end_time": "2025-08-19T18:19:04.616523",
     "exception": false,
     "start_time": "2025-08-19T18:19:04.589978",
     "status": "completed"
    },
    "tags": []
   },
   "outputs": [],
   "source": [
    "cp_metrics_dict = {\n",
    "    \"universe_id\": [universe_id],\n",
    "    \"universe_training_year\": [universe_training_year],\n",
    "    \"universe_training_size\": [universe_training_size],\n",
    "    \"universe_scale\": [universe_scale],\n",
    "    \"universe_model\": [universe_model],\n",
    "    \"universe_exclude_features\": [universe_exclude_features],\n",
    "    \"universe_exclude_subgroups\": [universe_exclude_subgroups],\n",
    "    \"q_hat\": [q_hat],\n",
    "    \"coverage\": [metrics[\"coverage\"]],\n",
    "    \"avg_size\": [metrics[\"avg_size\"]],\n",
    "}"
   ]
  },
  {
   "cell_type": "code",
   "execution_count": 49,
   "id": "0d70d4b2",
   "metadata": {
    "execution": {
     "iopub.execute_input": "2025-08-19T18:19:04.646300Z",
     "iopub.status.busy": "2025-08-19T18:19:04.645171Z",
     "iopub.status.idle": "2025-08-19T18:19:04.657414Z",
     "shell.execute_reply": "2025-08-19T18:19:04.656118Z"
    },
    "papermill": {
     "duration": 0.027789,
     "end_time": "2025-08-19T18:19:04.659230",
     "exception": false,
     "start_time": "2025-08-19T18:19:04.631441",
     "status": "completed"
    },
    "tags": []
   },
   "outputs": [],
   "source": [
    "cp_metrics_df = pd.DataFrame(cp_metrics_dict)"
   ]
  },
  {
   "cell_type": "code",
   "execution_count": 50,
   "id": "b494403c",
   "metadata": {
    "execution": {
     "iopub.execute_input": "2025-08-19T18:19:04.689367Z",
     "iopub.status.busy": "2025-08-19T18:19:04.688297Z",
     "iopub.status.idle": "2025-08-19T18:19:04.712960Z",
     "shell.execute_reply": "2025-08-19T18:19:04.711665Z"
    },
    "papermill": {
     "duration": 0.041215,
     "end_time": "2025-08-19T18:19:04.715516",
     "exception": false,
     "start_time": "2025-08-19T18:19:04.674301",
     "status": "completed"
    },
    "tags": []
   },
   "outputs": [
    {
     "data": {
      "text/html": [
       "<div>\n",
       "<style scoped>\n",
       "    .dataframe tbody tr th:only-of-type {\n",
       "        vertical-align: middle;\n",
       "    }\n",
       "\n",
       "    .dataframe tbody tr th {\n",
       "        vertical-align: top;\n",
       "    }\n",
       "\n",
       "    .dataframe thead th {\n",
       "        text-align: right;\n",
       "    }\n",
       "</style>\n",
       "<table border=\"1\" class=\"dataframe\">\n",
       "  <thead>\n",
       "    <tr style=\"text-align: right;\">\n",
       "      <th></th>\n",
       "      <th>universe_id</th>\n",
       "      <th>universe_training_year</th>\n",
       "      <th>universe_training_size</th>\n",
       "      <th>universe_scale</th>\n",
       "      <th>universe_model</th>\n",
       "      <th>universe_exclude_features</th>\n",
       "      <th>universe_exclude_subgroups</th>\n",
       "      <th>q_hat</th>\n",
       "      <th>coverage</th>\n",
       "      <th>avg_size</th>\n",
       "    </tr>\n",
       "  </thead>\n",
       "  <tbody>\n",
       "    <tr>\n",
       "      <th>0</th>\n",
       "      <td>c45097dbcd4c8250dcb1aeadc1de83ef</td>\n",
       "      <td>2010_14</td>\n",
       "      <td>25k</td>\n",
       "      <td>do-not-scale</td>\n",
       "      <td>penalized_logreg</td>\n",
       "      <td>sex</td>\n",
       "      <td>keep-all</td>\n",
       "      <td>0.66877</td>\n",
       "      <td>0.91127</td>\n",
       "      <td>1.193267</td>\n",
       "    </tr>\n",
       "  </tbody>\n",
       "</table>\n",
       "</div>"
      ],
      "text/plain": [
       "                        universe_id universe_training_year  \\\n",
       "0  c45097dbcd4c8250dcb1aeadc1de83ef                2010_14   \n",
       "\n",
       "  universe_training_size universe_scale    universe_model  \\\n",
       "0                    25k   do-not-scale  penalized_logreg   \n",
       "\n",
       "  universe_exclude_features universe_exclude_subgroups    q_hat  coverage  \\\n",
       "0                       sex                   keep-all  0.66877   0.91127   \n",
       "\n",
       "   avg_size  \n",
       "0  1.193267  "
      ]
     },
     "execution_count": 50,
     "metadata": {},
     "output_type": "execute_result"
    }
   ],
   "source": [
    "cp_metrics_df"
   ]
  },
  {
   "cell_type": "markdown",
   "id": "ed608b0b",
   "metadata": {
    "papermill": {
     "duration": 0.012282,
     "end_time": "2025-08-19T18:19:04.745534",
     "exception": false,
     "start_time": "2025-08-19T18:19:04.733252",
     "status": "completed"
    },
    "tags": []
   },
   "source": [
    "Conditional coverage & looking at subgroups"
   ]
  },
  {
   "cell_type": "code",
   "execution_count": 51,
   "id": "8968c366",
   "metadata": {
    "execution": {
     "iopub.execute_input": "2025-08-19T18:19:04.773329Z",
     "iopub.status.busy": "2025-08-19T18:19:04.772009Z",
     "iopub.status.idle": "2025-08-19T18:19:05.074509Z",
     "shell.execute_reply": "2025-08-19T18:19:05.073171Z"
    },
    "papermill": {
     "duration": 0.320347,
     "end_time": "2025-08-19T18:19:05.077987",
     "exception": false,
     "start_time": "2025-08-19T18:19:04.757640",
     "status": "completed"
    },
    "tags": []
   },
   "outputs": [],
   "source": [
    "from fairness_multiverse.conformal import build_cp_groups\n",
    "\n",
    "cp_groups_df = build_cp_groups(pred_sets, y_true, X_test.index, org_test)"
   ]
  },
  {
   "cell_type": "code",
   "execution_count": 52,
   "id": "292ddabf",
   "metadata": {
    "execution": {
     "iopub.execute_input": "2025-08-19T18:19:05.118138Z",
     "iopub.status.busy": "2025-08-19T18:19:05.116999Z",
     "iopub.status.idle": "2025-08-19T18:19:05.980046Z",
     "shell.execute_reply": "2025-08-19T18:19:05.978274Z"
    },
    "papermill": {
     "duration": 0.880213,
     "end_time": "2025-08-19T18:19:05.982005",
     "exception": false,
     "start_time": "2025-08-19T18:19:05.101792",
     "status": "completed"
    },
    "tags": []
   },
   "outputs": [],
   "source": [
    "# Define covered = 1 if true_label is in the predicted set\n",
    "cp_groups_df['covered'] = cp_groups_df.apply(\n",
    "    lambda r: int(r['true_label'] in r['pred_set']),\n",
    "    axis=1\n",
    ")"
   ]
  },
  {
   "cell_type": "code",
   "execution_count": 53,
   "id": "3a261692",
   "metadata": {
    "execution": {
     "iopub.execute_input": "2025-08-19T18:19:06.013296Z",
     "iopub.status.busy": "2025-08-19T18:19:06.011337Z",
     "iopub.status.idle": "2025-08-19T18:19:06.033325Z",
     "shell.execute_reply": "2025-08-19T18:19:06.032130Z"
    },
    "papermill": {
     "duration": 0.040383,
     "end_time": "2025-08-19T18:19:06.036573",
     "exception": false,
     "start_time": "2025-08-19T18:19:05.996190",
     "status": "completed"
    },
    "tags": []
   },
   "outputs": [],
   "source": [
    "subgroups = ['frau1','nongerman','nongerman_male','nongerman_female']\n",
    "\n",
    "# Conditional coverage for subgroup==1\n",
    "cond_coverage = {\n",
    "    g: cp_groups_df.loc[cp_groups_df[g]==1, 'covered'].mean()\n",
    "    for g in subgroups\n",
    "}"
   ]
  },
  {
   "cell_type": "code",
   "execution_count": 54,
   "id": "894fd600",
   "metadata": {
    "execution": {
     "iopub.execute_input": "2025-08-19T18:19:06.078588Z",
     "iopub.status.busy": "2025-08-19T18:19:06.077202Z",
     "iopub.status.idle": "2025-08-19T18:19:06.089254Z",
     "shell.execute_reply": "2025-08-19T18:19:06.088184Z"
    },
    "papermill": {
     "duration": 0.028347,
     "end_time": "2025-08-19T18:19:06.090860",
     "exception": false,
     "start_time": "2025-08-19T18:19:06.062513",
     "status": "completed"
    },
    "tags": []
   },
   "outputs": [
    {
     "data": {
      "text/plain": [
       "{'frau1': 0.9105539830165791,\n",
       " 'nongerman': 0.9256161230561949,\n",
       " 'nongerman_male': 0.9401963433306314,\n",
       " 'nongerman_female': 0.9014903129657228}"
      ]
     },
     "execution_count": 54,
     "metadata": {},
     "output_type": "execute_result"
    }
   ],
   "source": [
    "cond_coverage"
   ]
  },
  {
   "cell_type": "code",
   "execution_count": 55,
   "id": "942895c7",
   "metadata": {
    "execution": {
     "iopub.execute_input": "2025-08-19T18:19:06.134103Z",
     "iopub.status.busy": "2025-08-19T18:19:06.133487Z",
     "iopub.status.idle": "2025-08-19T18:19:06.157520Z",
     "shell.execute_reply": "2025-08-19T18:19:06.156665Z"
    },
    "papermill": {
     "duration": 0.066312,
     "end_time": "2025-08-19T18:19:06.173701",
     "exception": false,
     "start_time": "2025-08-19T18:19:06.107389",
     "status": "completed"
    },
    "tags": []
   },
   "outputs": [],
   "source": [
    "for subgroup, cov in cond_coverage.items():\n",
    "    cp_metrics_df[f\"cov_{subgroup}\"] = cov"
   ]
  },
  {
   "cell_type": "code",
   "execution_count": 56,
   "id": "3970120f",
   "metadata": {
    "execution": {
     "iopub.execute_input": "2025-08-19T18:19:06.212171Z",
     "iopub.status.busy": "2025-08-19T18:19:06.211838Z",
     "iopub.status.idle": "2025-08-19T18:19:06.236624Z",
     "shell.execute_reply": "2025-08-19T18:19:06.234798Z"
    },
    "papermill": {
     "duration": 0.042702,
     "end_time": "2025-08-19T18:19:06.238830",
     "exception": false,
     "start_time": "2025-08-19T18:19:06.196128",
     "status": "completed"
    },
    "tags": []
   },
   "outputs": [
    {
     "data": {
      "text/html": [
       "<div>\n",
       "<style scoped>\n",
       "    .dataframe tbody tr th:only-of-type {\n",
       "        vertical-align: middle;\n",
       "    }\n",
       "\n",
       "    .dataframe tbody tr th {\n",
       "        vertical-align: top;\n",
       "    }\n",
       "\n",
       "    .dataframe thead th {\n",
       "        text-align: right;\n",
       "    }\n",
       "</style>\n",
       "<table border=\"1\" class=\"dataframe\">\n",
       "  <thead>\n",
       "    <tr style=\"text-align: right;\">\n",
       "      <th></th>\n",
       "      <th>universe_id</th>\n",
       "      <th>universe_training_year</th>\n",
       "      <th>universe_training_size</th>\n",
       "      <th>universe_scale</th>\n",
       "      <th>universe_model</th>\n",
       "      <th>universe_exclude_features</th>\n",
       "      <th>universe_exclude_subgroups</th>\n",
       "      <th>q_hat</th>\n",
       "      <th>coverage</th>\n",
       "      <th>avg_size</th>\n",
       "      <th>cov_frau1</th>\n",
       "      <th>cov_nongerman</th>\n",
       "      <th>cov_nongerman_male</th>\n",
       "      <th>cov_nongerman_female</th>\n",
       "    </tr>\n",
       "  </thead>\n",
       "  <tbody>\n",
       "    <tr>\n",
       "      <th>0</th>\n",
       "      <td>c45097dbcd4c8250dcb1aeadc1de83ef</td>\n",
       "      <td>2010_14</td>\n",
       "      <td>25k</td>\n",
       "      <td>do-not-scale</td>\n",
       "      <td>penalized_logreg</td>\n",
       "      <td>sex</td>\n",
       "      <td>keep-all</td>\n",
       "      <td>0.66877</td>\n",
       "      <td>0.91127</td>\n",
       "      <td>1.193267</td>\n",
       "      <td>0.910554</td>\n",
       "      <td>0.925616</td>\n",
       "      <td>0.940196</td>\n",
       "      <td>0.90149</td>\n",
       "    </tr>\n",
       "  </tbody>\n",
       "</table>\n",
       "</div>"
      ],
      "text/plain": [
       "                        universe_id universe_training_year  \\\n",
       "0  c45097dbcd4c8250dcb1aeadc1de83ef                2010_14   \n",
       "\n",
       "  universe_training_size universe_scale    universe_model  \\\n",
       "0                    25k   do-not-scale  penalized_logreg   \n",
       "\n",
       "  universe_exclude_features universe_exclude_subgroups    q_hat  coverage  \\\n",
       "0                       sex                   keep-all  0.66877   0.91127   \n",
       "\n",
       "   avg_size  cov_frau1  cov_nongerman  cov_nongerman_male  \\\n",
       "0  1.193267   0.910554       0.925616            0.940196   \n",
       "\n",
       "   cov_nongerman_female  \n",
       "0               0.90149  "
      ]
     },
     "execution_count": 56,
     "metadata": {},
     "output_type": "execute_result"
    }
   ],
   "source": [
    "cp_metrics_df"
   ]
  },
  {
   "cell_type": "markdown",
   "id": "3fc519cc",
   "metadata": {
    "papermill": {
     "duration": 0.012684,
     "end_time": "2025-08-19T18:19:06.275891",
     "exception": false,
     "start_time": "2025-08-19T18:19:06.263207",
     "status": "completed"
    },
    "tags": []
   },
   "source": [
    "# (Fairness) Metrics"
   ]
  },
  {
   "cell_type": "code",
   "execution_count": 57,
   "id": "a2e5e155",
   "metadata": {
    "execution": {
     "iopub.execute_input": "2025-08-19T18:19:06.303266Z",
     "iopub.status.busy": "2025-08-19T18:19:06.302724Z",
     "iopub.status.idle": "2025-08-19T18:19:06.331989Z",
     "shell.execute_reply": "2025-08-19T18:19:06.330507Z"
    },
    "papermill": {
     "duration": 0.046696,
     "end_time": "2025-08-19T18:19:06.334937",
     "exception": false,
     "start_time": "2025-08-19T18:19:06.288241",
     "status": "completed"
    },
    "tags": []
   },
   "outputs": [],
   "source": [
    "colname_to_bin = \"maxdeutsch1\"\n",
    "majority_value = org_train[colname_to_bin].mode()[0]\n",
    "\n",
    "org_test[\"majmin\"] = np.where(org_test[colname_to_bin] == majority_value, \"majority\", \"minority\")"
   ]
  },
  {
   "cell_type": "code",
   "execution_count": 58,
   "id": "17e3e4d5",
   "metadata": {
    "execution": {
     "iopub.execute_input": "2025-08-19T18:19:06.387472Z",
     "iopub.status.busy": "2025-08-19T18:19:06.385890Z",
     "iopub.status.idle": "2025-08-19T18:19:08.280269Z",
     "shell.execute_reply": "2025-08-19T18:19:08.275222Z"
    },
    "papermill": {
     "duration": 1.92488,
     "end_time": "2025-08-19T18:19:08.282764",
     "exception": false,
     "start_time": "2025-08-19T18:19:06.357884",
     "status": "completed"
    },
    "tags": []
   },
   "outputs": [],
   "source": [
    "example_universe = universe.copy()\n",
    "example_universe[\"cutoff\"] = example_universe[\"cutoff\"][0]\n",
    "example_universe[\"eval_fairness_grouping\"] = example_universe[\"eval_fairness_grouping\"][0]\n",
    "fairness_dict, metric_frame = universe_analysis.compute_metrics(\n",
    "    example_universe,\n",
    "    y_pred_prob=probs_test,\n",
    "    y_test=y_true,\n",
    "    org_test=org_test,\n",
    ")"
   ]
  },
  {
   "cell_type": "markdown",
   "id": "1fb7a0e9",
   "metadata": {
    "papermill": {
     "duration": 0.023457,
     "end_time": "2025-08-19T18:19:08.319628",
     "exception": false,
     "start_time": "2025-08-19T18:19:08.296171",
     "status": "completed"
    },
    "tags": []
   },
   "source": [
    "# Overall"
   ]
  },
  {
   "cell_type": "markdown",
   "id": "be1784b1",
   "metadata": {
    "papermill": {
     "duration": 0.013525,
     "end_time": "2025-08-19T18:19:08.346518",
     "exception": false,
     "start_time": "2025-08-19T18:19:08.332993",
     "status": "completed"
    },
    "tags": []
   },
   "source": [
    "Main fairness target: Equalized Odds. Seems to be a better fit than equal opportunity, since we're not only interested in Y = 1. Seems to be a better fit than demographic parity, since we also care about accuracy, not just equal distribution of preds.\n",
    "\n",
    "Pick column for computation of fairness metrics\n",
    "\n",
    "Performance\n",
    "Overall performance measures, most interesting in relation to the measures split by group below"
   ]
  },
  {
   "cell_type": "code",
   "execution_count": 59,
   "id": "b7672bee",
   "metadata": {
    "execution": {
     "iopub.execute_input": "2025-08-19T18:19:08.375551Z",
     "iopub.status.busy": "2025-08-19T18:19:08.374365Z",
     "iopub.status.idle": "2025-08-19T18:19:08.390621Z",
     "shell.execute_reply": "2025-08-19T18:19:08.389585Z"
    },
    "papermill": {
     "duration": 0.033031,
     "end_time": "2025-08-19T18:19:08.392330",
     "exception": false,
     "start_time": "2025-08-19T18:19:08.359299",
     "status": "completed"
    },
    "tags": []
   },
   "outputs": [
    {
     "data": {
      "text/plain": [
       "accuracy                   0.217445\n",
       "balanced accuracy          0.533135\n",
       "f1                         0.238967\n",
       "precision                  0.136514\n",
       "false positive rate        0.891499\n",
       "false negative rate        0.042231\n",
       "selection rate             0.900000\n",
       "count                  89710.000000\n",
       "dtype: float64"
      ]
     },
     "execution_count": 59,
     "metadata": {},
     "output_type": "execute_result"
    }
   ],
   "source": [
    "metric_frame.overall"
   ]
  },
  {
   "cell_type": "markdown",
   "id": "d93333c9",
   "metadata": {
    "papermill": {
     "duration": 0.015823,
     "end_time": "2025-08-19T18:19:08.427529",
     "exception": false,
     "start_time": "2025-08-19T18:19:08.411706",
     "status": "completed"
    },
    "tags": []
   },
   "source": [
    "By Group"
   ]
  },
  {
   "cell_type": "code",
   "execution_count": 60,
   "id": "52256966",
   "metadata": {
    "execution": {
     "iopub.execute_input": "2025-08-19T18:19:08.459954Z",
     "iopub.status.busy": "2025-08-19T18:19:08.459437Z",
     "iopub.status.idle": "2025-08-19T18:19:08.473760Z",
     "shell.execute_reply": "2025-08-19T18:19:08.472962Z"
    },
    "papermill": {
     "duration": 0.03001,
     "end_time": "2025-08-19T18:19:08.474982",
     "exception": false,
     "start_time": "2025-08-19T18:19:08.444972",
     "status": "completed"
    },
    "tags": []
   },
   "outputs": [
    {
     "data": {
      "text/html": [
       "<div>\n",
       "<style scoped>\n",
       "    .dataframe tbody tr th:only-of-type {\n",
       "        vertical-align: middle;\n",
       "    }\n",
       "\n",
       "    .dataframe tbody tr th {\n",
       "        vertical-align: top;\n",
       "    }\n",
       "\n",
       "    .dataframe thead th {\n",
       "        text-align: right;\n",
       "    }\n",
       "</style>\n",
       "<table border=\"1\" class=\"dataframe\">\n",
       "  <thead>\n",
       "    <tr style=\"text-align: right;\">\n",
       "      <th></th>\n",
       "      <th>accuracy</th>\n",
       "      <th>balanced accuracy</th>\n",
       "      <th>f1</th>\n",
       "      <th>precision</th>\n",
       "      <th>false positive rate</th>\n",
       "      <th>false negative rate</th>\n",
       "      <th>selection rate</th>\n",
       "      <th>count</th>\n",
       "    </tr>\n",
       "    <tr>\n",
       "      <th>majmin</th>\n",
       "      <th></th>\n",
       "      <th></th>\n",
       "      <th></th>\n",
       "      <th></th>\n",
       "      <th></th>\n",
       "      <th></th>\n",
       "      <th></th>\n",
       "      <th></th>\n",
       "    </tr>\n",
       "  </thead>\n",
       "  <tbody>\n",
       "    <tr>\n",
       "      <th>majority</th>\n",
       "      <td>0.239656</td>\n",
       "      <td>0.540750</td>\n",
       "      <td>0.248231</td>\n",
       "      <td>0.142768</td>\n",
       "      <td>0.868499</td>\n",
       "      <td>0.050000</td>\n",
       "      <td>0.879268</td>\n",
       "      <td>69170.0</td>\n",
       "    </tr>\n",
       "    <tr>\n",
       "      <th>minority</th>\n",
       "      <td>0.142648</td>\n",
       "      <td>0.510138</td>\n",
       "      <td>0.209889</td>\n",
       "      <td>0.117420</td>\n",
       "      <td>0.967477</td>\n",
       "      <td>0.012247</td>\n",
       "      <td>0.969815</td>\n",
       "      <td>20540.0</td>\n",
       "    </tr>\n",
       "  </tbody>\n",
       "</table>\n",
       "</div>"
      ],
      "text/plain": [
       "          accuracy  balanced accuracy        f1  precision  \\\n",
       "majmin                                                       \n",
       "majority  0.239656           0.540750  0.248231   0.142768   \n",
       "minority  0.142648           0.510138  0.209889   0.117420   \n",
       "\n",
       "          false positive rate  false negative rate  selection rate    count  \n",
       "majmin                                                                       \n",
       "majority             0.868499             0.050000        0.879268  69170.0  \n",
       "minority             0.967477             0.012247        0.969815  20540.0  "
      ]
     },
     "execution_count": 60,
     "metadata": {},
     "output_type": "execute_result"
    }
   ],
   "source": [
    "metric_frame.by_group"
   ]
  },
  {
   "cell_type": "code",
   "execution_count": 61,
   "id": "6e6c20ae",
   "metadata": {
    "execution": {
     "iopub.execute_input": "2025-08-19T18:19:08.503794Z",
     "iopub.status.busy": "2025-08-19T18:19:08.502795Z",
     "iopub.status.idle": "2025-08-19T18:19:10.520181Z",
     "shell.execute_reply": "2025-08-19T18:19:10.519130Z"
    },
    "papermill": {
     "duration": 2.033143,
     "end_time": "2025-08-19T18:19:10.521645",
     "exception": false,
     "start_time": "2025-08-19T18:19:08.488502",
     "status": "completed"
    },
    "tags": []
   },
   "outputs": [
    {
     "data": {
      "text/plain": [
       "array([[<Axes: title={'center': 'accuracy'}, xlabel='majmin'>,\n",
       "        <Axes: title={'center': 'balanced accuracy'}, xlabel='majmin'>,\n",
       "        <Axes: title={'center': 'f1'}, xlabel='majmin'>],\n",
       "       [<Axes: title={'center': 'precision'}, xlabel='majmin'>,\n",
       "        <Axes: title={'center': 'false positive rate'}, xlabel='majmin'>,\n",
       "        <Axes: title={'center': 'false negative rate'}, xlabel='majmin'>],\n",
       "       [<Axes: title={'center': 'selection rate'}, xlabel='majmin'>,\n",
       "        <Axes: title={'center': 'count'}, xlabel='majmin'>,\n",
       "        <Axes: xlabel='majmin'>]], dtype=object)"
      ]
     },
     "execution_count": 61,
     "metadata": {},
     "output_type": "execute_result"
    },
    {
     "data": {
      "image/png": "[encoded data removed]",
      "text/plain": [
       "<Figure size 1200x800 with 9 Axes>"
      ]
     },
     "metadata": {},
     "output_type": "display_data"
    }
   ],
   "source": [
    "# In a graphic\n",
    "metric_frame.by_group.plot.bar(\n",
    "    subplots=True,\n",
    "    layout=[3, 3],\n",
    "    legend=False,\n",
    "    figsize=[12, 8],\n",
    "    title=\"Show all metrics\",\n",
    ")"
   ]
  },
  {
   "cell_type": "markdown",
   "id": "b2e433ae",
   "metadata": {
    "papermill": {
     "duration": 0.026759,
     "end_time": "2025-08-19T18:19:10.563541",
     "exception": false,
     "start_time": "2025-08-19T18:19:10.536782",
     "status": "completed"
    },
    "tags": []
   },
   "source": [
    "# Final Output"
   ]
  },
  {
   "cell_type": "code",
   "execution_count": 62,
   "id": "3871301e",
   "metadata": {
    "execution": {
     "iopub.execute_input": "2025-08-19T18:19:10.596079Z",
     "iopub.status.busy": "2025-08-19T18:19:10.595231Z",
     "iopub.status.idle": "2025-08-19T18:19:10.608862Z",
     "shell.execute_reply": "2025-08-19T18:19:10.607737Z"
    },
    "papermill": {
     "duration": 0.033228,
     "end_time": "2025-08-19T18:19:10.611934",
     "exception": false,
     "start_time": "2025-08-19T18:19:10.578706",
     "status": "completed"
    },
    "tags": []
   },
   "outputs": [
    {
     "data": {
      "text/plain": [
       "4"
      ]
     },
     "execution_count": 62,
     "metadata": {},
     "output_type": "execute_result"
    }
   ],
   "source": [
    "sub_universes = universe_analysis.generate_sub_universes()\n",
    "len(sub_universes)"
   ]
  },
  {
   "cell_type": "code",
   "execution_count": 63,
   "id": "d9cfdaca",
   "metadata": {
    "execution": {
     "iopub.execute_input": "2025-08-19T18:19:10.650051Z",
     "iopub.status.busy": "2025-08-19T18:19:10.646490Z",
     "iopub.status.idle": "2025-08-19T18:19:10.673517Z",
     "shell.execute_reply": "2025-08-19T18:19:10.672024Z"
    },
    "papermill": {
     "duration": 0.04547,
     "end_time": "2025-08-19T18:19:10.675151",
     "exception": false,
     "start_time": "2025-08-19T18:19:10.629681",
     "status": "completed"
    },
    "tags": []
   },
   "outputs": [],
   "source": [
    "def filter_sub_universe_data(sub_universe, org_test):\n",
    "    # Keep all rows — no filtering\n",
    "    keep_rows_mask = np.ones(org_test.shape[0], dtype=bool)\n",
    "\n",
    "    print(f\"[INFO] Keeping all rows: {keep_rows_mask.sum()} rows retained.\")\n",
    "    return keep_rows_mask"
   ]
  },
  {
   "cell_type": "code",
   "execution_count": 64,
   "id": "2bc31ac1",
   "metadata": {
    "execution": {
     "iopub.execute_input": "2025-08-19T18:19:10.724830Z",
     "iopub.status.busy": "2025-08-19T18:19:10.723064Z",
     "iopub.status.idle": "2025-08-19T18:19:17.813380Z",
     "shell.execute_reply": "2025-08-19T18:19:17.812349Z"
    },
    "papermill": {
     "duration": 7.12651,
     "end_time": "2025-08-19T18:19:17.816678",
     "exception": false,
     "start_time": "2025-08-19T18:19:10.690168",
     "status": "completed"
    },
    "tags": []
   },
   "outputs": [
    {
     "name": "stdout",
     "output_type": "stream",
     "text": [
      "Stopping execution_time clock.\n",
      "[INFO] Keeping all rows: 89710 rows retained.\n"
     ]
    },
    {
     "name": "stdout",
     "output_type": "stream",
     "text": [
      "[INFO] Keeping all rows: 89710 rows retained.\n"
     ]
    },
    {
     "name": "stdout",
     "output_type": "stream",
     "text": [
      "[INFO] Keeping all rows: 89710 rows retained.\n"
     ]
    },
    {
     "name": "stdout",
     "output_type": "stream",
     "text": [
      "[INFO] Keeping all rows: 89710 rows retained.\n"
     ]
    },
    {
     "data": {
      "text/html": [
       "<div>\n",
       "<style scoped>\n",
       "    .dataframe tbody tr th:only-of-type {\n",
       "        vertical-align: middle;\n",
       "    }\n",
       "\n",
       "    .dataframe tbody tr th {\n",
       "        vertical-align: top;\n",
       "    }\n",
       "\n",
       "    .dataframe thead th {\n",
       "        text-align: right;\n",
       "    }\n",
       "</style>\n",
       "<table border=\"1\" class=\"dataframe\">\n",
       "  <thead>\n",
       "    <tr style=\"text-align: right;\">\n",
       "      <th></th>\n",
       "      <th>run_no</th>\n",
       "      <th>universe_id</th>\n",
       "      <th>universe_settings</th>\n",
       "      <th>execution_time</th>\n",
       "      <th>test_size_n</th>\n",
       "      <th>test_size_frac</th>\n",
       "      <th>fair_main_equalized_odds_difference</th>\n",
       "      <th>fair_main_equalized_odds_ratio</th>\n",
       "      <th>fair_main_demographic_parity_difference</th>\n",
       "      <th>fair_main_demographic_parity_ratio</th>\n",
       "      <th>...</th>\n",
       "      <th>perf_grp_precision_0</th>\n",
       "      <th>perf_grp_precision_1</th>\n",
       "      <th>perf_grp_false positive rate_0</th>\n",
       "      <th>perf_grp_false positive rate_1</th>\n",
       "      <th>perf_grp_false negative rate_0</th>\n",
       "      <th>perf_grp_false negative rate_1</th>\n",
       "      <th>perf_grp_selection rate_0</th>\n",
       "      <th>perf_grp_selection rate_1</th>\n",
       "      <th>perf_grp_count_0</th>\n",
       "      <th>perf_grp_count_1</th>\n",
       "    </tr>\n",
       "  </thead>\n",
       "  <tbody>\n",
       "    <tr>\n",
       "      <th>0</th>\n",
       "      <td>3</td>\n",
       "      <td>c45097dbcd4c8250dcb1aeadc1de83ef</td>\n",
       "      <td>{\"cutoff\": \"quantile_0.1\", \"eval_fairness_grou...</td>\n",
       "      <td>23.026946</td>\n",
       "      <td>89710</td>\n",
       "      <td>1.0</td>\n",
       "      <td>0.098978</td>\n",
       "      <td>0.897694</td>\n",
       "      <td>0.090547</td>\n",
       "      <td>0.906635</td>\n",
       "      <td>...</td>\n",
       "      <td>NaN</td>\n",
       "      <td>NaN</td>\n",
       "      <td>NaN</td>\n",
       "      <td>NaN</td>\n",
       "      <td>NaN</td>\n",
       "      <td>NaN</td>\n",
       "      <td>NaN</td>\n",
       "      <td>NaN</td>\n",
       "      <td>NaN</td>\n",
       "      <td>NaN</td>\n",
       "    </tr>\n",
       "    <tr>\n",
       "      <th>0</th>\n",
       "      <td>3</td>\n",
       "      <td>c45097dbcd4c8250dcb1aeadc1de83ef</td>\n",
       "      <td>{\"cutoff\": \"quantile_0.1\", \"eval_fairness_grou...</td>\n",
       "      <td>23.026946</td>\n",
       "      <td>89710</td>\n",
       "      <td>1.0</td>\n",
       "      <td>0.098978</td>\n",
       "      <td>0.897694</td>\n",
       "      <td>0.090547</td>\n",
       "      <td>0.906635</td>\n",
       "      <td>...</td>\n",
       "      <td>0.117420</td>\n",
       "      <td>0.142768</td>\n",
       "      <td>0.967477</td>\n",
       "      <td>0.868499</td>\n",
       "      <td>0.012247</td>\n",
       "      <td>0.050000</td>\n",
       "      <td>0.969815</td>\n",
       "      <td>0.879268</td>\n",
       "      <td>20540.0</td>\n",
       "      <td>69170.0</td>\n",
       "    </tr>\n",
       "    <tr>\n",
       "      <th>0</th>\n",
       "      <td>3</td>\n",
       "      <td>c45097dbcd4c8250dcb1aeadc1de83ef</td>\n",
       "      <td>{\"cutoff\": \"quantile_0.25\", \"eval_fairness_gro...</td>\n",
       "      <td>23.026946</td>\n",
       "      <td>89710</td>\n",
       "      <td>1.0</td>\n",
       "      <td>0.214338</td>\n",
       "      <td>0.760355</td>\n",
       "      <td>0.196128</td>\n",
       "      <td>0.782374</td>\n",
       "      <td>...</td>\n",
       "      <td>NaN</td>\n",
       "      <td>NaN</td>\n",
       "      <td>NaN</td>\n",
       "      <td>NaN</td>\n",
       "      <td>NaN</td>\n",
       "      <td>NaN</td>\n",
       "      <td>NaN</td>\n",
       "      <td>NaN</td>\n",
       "      <td>NaN</td>\n",
       "      <td>NaN</td>\n",
       "    </tr>\n",
       "    <tr>\n",
       "      <th>0</th>\n",
       "      <td>3</td>\n",
       "      <td>c45097dbcd4c8250dcb1aeadc1de83ef</td>\n",
       "      <td>{\"cutoff\": \"quantile_0.25\", \"eval_fairness_gro...</td>\n",
       "      <td>23.026946</td>\n",
       "      <td>89710</td>\n",
       "      <td>1.0</td>\n",
       "      <td>0.214338</td>\n",
       "      <td>0.760355</td>\n",
       "      <td>0.196128</td>\n",
       "      <td>0.782374</td>\n",
       "      <td>...</td>\n",
       "      <td>0.121982</td>\n",
       "      <td>0.162945</td>\n",
       "      <td>0.894398</td>\n",
       "      <td>0.680060</td>\n",
       "      <td>0.046453</td>\n",
       "      <td>0.130525</td>\n",
       "      <td>0.901217</td>\n",
       "      <td>0.705089</td>\n",
       "      <td>20540.0</td>\n",
       "      <td>69170.0</td>\n",
       "    </tr>\n",
       "  </tbody>\n",
       "</table>\n",
       "<p>4 rows × 50 columns</p>\n",
       "</div>"
      ],
      "text/plain": [
       "  run_no                       universe_id  \\\n",
       "0      3  c45097dbcd4c8250dcb1aeadc1de83ef   \n",
       "0      3  c45097dbcd4c8250dcb1aeadc1de83ef   \n",
       "0      3  c45097dbcd4c8250dcb1aeadc1de83ef   \n",
       "0      3  c45097dbcd4c8250dcb1aeadc1de83ef   \n",
       "\n",
       "                                   universe_settings  execution_time  \\\n",
       "0  {\"cutoff\": \"quantile_0.1\", \"eval_fairness_grou...       23.026946   \n",
       "0  {\"cutoff\": \"quantile_0.1\", \"eval_fairness_grou...       23.026946   \n",
       "0  {\"cutoff\": \"quantile_0.25\", \"eval_fairness_gro...       23.026946   \n",
       "0  {\"cutoff\": \"quantile_0.25\", \"eval_fairness_gro...       23.026946   \n",
       "\n",
       "   test_size_n  test_size_frac  fair_main_equalized_odds_difference  \\\n",
       "0        89710             1.0                             0.098978   \n",
       "0        89710             1.0                             0.098978   \n",
       "0        89710             1.0                             0.214338   \n",
       "0        89710             1.0                             0.214338   \n",
       "\n",
       "   fair_main_equalized_odds_ratio  fair_main_demographic_parity_difference  \\\n",
       "0                        0.897694                                 0.090547   \n",
       "0                        0.897694                                 0.090547   \n",
       "0                        0.760355                                 0.196128   \n",
       "0                        0.760355                                 0.196128   \n",
       "\n",
       "   fair_main_demographic_parity_ratio  ...  perf_grp_precision_0  \\\n",
       "0                            0.906635  ...                   NaN   \n",
       "0                            0.906635  ...              0.117420   \n",
       "0                            0.782374  ...                   NaN   \n",
       "0                            0.782374  ...              0.121982   \n",
       "\n",
       "   perf_grp_precision_1  perf_grp_false positive rate_0  \\\n",
       "0                   NaN                             NaN   \n",
       "0              0.142768                        0.967477   \n",
       "0                   NaN                             NaN   \n",
       "0              0.162945                        0.894398   \n",
       "\n",
       "   perf_grp_false positive rate_1  perf_grp_false negative rate_0  \\\n",
       "0                             NaN                             NaN   \n",
       "0                        0.868499                        0.012247   \n",
       "0                             NaN                             NaN   \n",
       "0                        0.680060                        0.046453   \n",
       "\n",
       "   perf_grp_false negative rate_1  perf_grp_selection rate_0  \\\n",
       "0                             NaN                        NaN   \n",
       "0                        0.050000                   0.969815   \n",
       "0                             NaN                        NaN   \n",
       "0                        0.130525                   0.901217   \n",
       "\n",
       "   perf_grp_selection rate_1  perf_grp_count_0  perf_grp_count_1  \n",
       "0                        NaN               NaN               NaN  \n",
       "0                   0.879268           20540.0           69170.0  \n",
       "0                        NaN               NaN               NaN  \n",
       "0                   0.705089           20540.0           69170.0  \n",
       "\n",
       "[4 rows x 50 columns]"
      ]
     },
     "execution_count": 64,
     "metadata": {},
     "output_type": "execute_result"
    }
   ],
   "source": [
    "final_output = universe_analysis.generate_final_output(\n",
    "    y_pred_prob=probs_test,\n",
    "    y_test=y_true,\n",
    "    org_test=org_test,\n",
    "    filter_data=filter_sub_universe_data,\n",
    "    cp_metrics_df=cp_metrics_df,\n",
    "    save=True,\n",
    ")\n",
    "final_output"
   ]
  },
  {
   "cell_type": "code",
   "execution_count": null,
   "id": "8b80a1ff",
   "metadata": {
    "papermill": {
     "duration": 0.014608,
     "end_time": "2025-08-19T18:19:17.864527",
     "exception": false,
     "start_time": "2025-08-19T18:19:17.849919",
     "status": "completed"
    },
    "tags": []
   },
   "outputs": [],
   "source": []
  },
  {
   "cell_type": "code",
   "execution_count": null,
   "id": "275c9fad",
   "metadata": {
    "papermill": {
     "duration": 0.014598,
     "end_time": "2025-08-19T18:19:17.894631",
     "exception": false,
     "start_time": "2025-08-19T18:19:17.880033",
     "status": "completed"
    },
    "tags": []
   },
   "outputs": [],
   "source": []
  }
 ],
 "metadata": {
  "celltoolbar": "Tags",
  "kernelspec": {
   "display_name": "Python (CMA Fairness)",
   "language": "python",
   "name": "cma_fair_env"
  },
  "language_info": {
   "codemirror_mode": {
    "name": "ipython",
    "version": 3
   },
   "file_extension": ".py",
   "mimetype": "text/x-python",
   "name": "python",
   "nbconvert_exporter": "python",
   "pygments_lexer": "ipython3",
   "version": "3.10.12"
  },
  "papermill": {
   "default_parameters": {},
   "duration": 34.00979,
   "end_time": "2025-08-19T18:19:18.730501",
   "environment_variables": {},
   "exception": null,
   "input_path": "universe_analysis.ipynb",
   "output_path": "output/runs/3/notebooks/m_3-c45097dbcd4c8250dcb1aeadc1de83ef.ipynb",
   "parameters": {
    "output_dir": "output",
    "run_no": "3",
    "seed": "2023",
    "universe": "{\"cutoff\": [\"quantile_0.1\", \"quantile_0.25\"], \"eval_fairness_grouping\": [\"majority-minority\", \"nationality-all\"], \"exclude_features\": \"sex\", \"exclude_subgroups\": \"keep-all\", \"model\": \"penalized_logreg\", \"scale\": \"do-not-scale\", \"training_size\": \"25k\", \"training_year\": \"2010_14\"}",
    "universe_id": "c45097dbcd4c8250dcb1aeadc1de83ef"
   },
   "start_time": "2025-08-19T18:18:44.720711",
   "version": "2.6.0"
  }
 },
 "nbformat": 4,
 "nbformat_minor": 5
}